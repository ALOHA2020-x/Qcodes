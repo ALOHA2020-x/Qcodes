{
 "cells": [
  {
   "cell_type": "markdown",
   "id": "interracial-mistress",
   "metadata": {},
   "source": [
    "# Qcodes example with InstrumentGroup driver\n",
    "\n",
    "This notebooks explains how to use the `InstrumentGroup` driver.\n",
    "\n",
    "## About\n",
    "The goal of the `InstrumentGroup` driver is to combine several instruments as submodules into one instrument. Typically, this is meant to be used with the `DelegateInstrument` driver. An example usage of this is to create an abstraction for devices on a chip.\n",
    "\n",
    "## Usage\n",
    "The way it's used is mainly by specifying an entry in the station YAML. For instance, to create a Chip that has one or more Devices on it that point to different source parameters."
   ]
  },
  {
   "cell_type": "code",
   "execution_count": 1,
   "id": "sapphire-quebec",
   "metadata": {
    "execution": {
     "iopub.execute_input": "2021-05-28T07:05:24.616310Z",
     "iopub.status.busy": "2021-05-28T07:05:24.615371Z",
     "iopub.status.idle": "2021-05-28T07:05:24.618636Z",
     "shell.execute_reply": "2021-05-28T07:05:24.618129Z"
    }
   },
   "outputs": [
    {
     "name": "stdout",
     "output_type": "stream",
     "text": [
      "Overwriting example.yaml\n"
     ]
    }
   ],
   "source": [
    "%%writefile example.yaml\n",
    "\n",
    "instruments:\n",
    "  mdac:\n",
    "    type: qcodes.tests.instrument_mocks.MockDAC\n",
    "    init:\n",
    "      num_channels: 2\n",
    "\n",
    "  lockin1:\n",
    "    type: qcodes.tests.instrument_mocks.MockLockin\n",
    "\n",
    "  lockin2:\n",
    "    type: qcodes.tests.instrument_mocks.MockLockin\n",
    "\n",
    "  MockChip_123:\n",
    "    type: qcodes.instrument.delegate.InstrumentGroup\n",
    "    init:\n",
    "      submodules_type: qcodes.instrument.delegate.DelegateInstrument\n",
    "      submodules:\n",
    "        device1:\n",
    "            gate:\n",
    "              - mdac.ch01.voltage\n",
    "            source:\n",
    "              - lockin1.frequency\n",
    "              - lockin1.amplitude\n",
    "              - lockin1.phase\n",
    "              - lockin1.time_constant\n",
    "            drain:\n",
    "              - lockin1.X\n",
    "              - lockin1.Y\n",
    "        device2:\n",
    "            gate:\n",
    "              - mdac.ch02.voltage\n",
    "            source:\n",
    "              - lockin2.frequency\n",
    "              - lockin2.amplitude\n",
    "              - lockin2.phase\n",
    "              - lockin2.time_constant\n",
    "            drain:\n",
    "              - lockin2.X\n",
    "              - lockin2.Y\n",
    "\n",
    "      set_initial_values_on_load: true\n",
    "      initial_values:\n",
    "        device1:\n",
    "          gate.step: 5e-4\n",
    "          gate.inter_delay: 12.5e-4"
   ]
  },
  {
   "cell_type": "code",
   "execution_count": 2,
   "id": "younger-newspaper",
   "metadata": {
    "execution": {
     "iopub.execute_input": "2021-05-28T07:05:24.622127Z",
     "iopub.status.busy": "2021-05-28T07:05:24.621631Z",
     "iopub.status.idle": "2021-05-28T07:05:25.696393Z",
     "shell.execute_reply": "2021-05-28T07:05:25.696871Z"
    }
   },
   "outputs": [
    {
     "name": "stdout",
     "output_type": "stream",
     "text": [
      "Logging hadn't been started.\n",
      "Activating auto-logging. Current session state plus future input saved.\n",
      "Filename       : /home/runner/.qcodes/logs/command_history.log\n",
      "Mode           : append\n",
      "Output logging : True\n",
      "Raw input log  : False\n",
      "Timestamping   : True\n",
      "State          : active\n"
     ]
    },
    {
     "name": "stdout",
     "output_type": "stream",
     "text": [
      "Qcodes Logfile : /home/runner/.qcodes/logs/210528-9429-qcodes.log\n"
     ]
    }
   ],
   "source": [
    "import qcodes as qc"
   ]
  },
  {
   "cell_type": "code",
   "execution_count": 3,
   "id": "muslim-briefs",
   "metadata": {
    "execution": {
     "iopub.execute_input": "2021-05-28T07:05:25.712023Z",
     "iopub.status.busy": "2021-05-28T07:05:25.700844Z",
     "iopub.status.idle": "2021-05-28T07:05:25.777936Z",
     "shell.execute_reply": "2021-05-28T07:05:25.778325Z"
    }
   },
   "outputs": [
    {
     "name": "stdout",
     "output_type": "stream",
     "text": [
      "device1_gate step 0.0005\n",
      "device1_gate inter_delay 0.00125\n"
     ]
    }
   ],
   "source": [
    "station = qc.Station(config_file=\"example.yaml\")\n",
    "lockin1 = station.load_lockin1()\n",
    "lockin2 = station.load_lockin2()\n",
    "mdac = station.load_mdac()\n",
    "chip = station.load_MockChip_123(station=station)"
   ]
  },
  {
   "cell_type": "code",
   "execution_count": 4,
   "id": "continent-penalty",
   "metadata": {
    "execution": {
     "iopub.execute_input": "2021-05-28T07:05:25.788594Z",
     "iopub.status.busy": "2021-05-28T07:05:25.788082Z",
     "iopub.status.idle": "2021-05-28T07:05:25.791773Z",
     "shell.execute_reply": "2021-05-28T07:05:25.792183Z"
    }
   },
   "outputs": [
    {
     "data": {
      "text/plain": [
       "0.0"
      ]
     },
     "execution_count": 1,
     "metadata": {},
     "output_type": "execute_result"
    }
   ],
   "source": [
    "chip.device1.gate()"
   ]
  },
  {
   "cell_type": "code",
   "execution_count": 5,
   "id": "lyric-interstate",
   "metadata": {
    "execution": {
     "iopub.execute_input": "2021-05-28T07:05:25.796819Z",
     "iopub.status.busy": "2021-05-28T07:05:25.796312Z",
     "iopub.status.idle": "2021-05-28T07:05:25.798756Z",
     "shell.execute_reply": "2021-05-28T07:05:25.799151Z"
    }
   },
   "outputs": [
    {
     "data": {
      "text/plain": [
       "0.0"
      ]
     },
     "execution_count": 1,
     "metadata": {},
     "output_type": "execute_result"
    }
   ],
   "source": [
    "mdac.ch01.voltage()"
   ]
  },
  {
   "cell_type": "code",
   "execution_count": 6,
   "id": "classical-proposal",
   "metadata": {
    "execution": {
     "iopub.execute_input": "2021-05-28T07:05:25.802955Z",
     "iopub.status.busy": "2021-05-28T07:05:25.802462Z",
     "iopub.status.idle": "2021-05-28T07:05:28.532147Z",
     "shell.execute_reply": "2021-05-28T07:05:28.532537Z"
    }
   },
   "outputs": [
    {
     "data": {
      "text/plain": [
       "1.0"
      ]
     },
     "execution_count": 1,
     "metadata": {},
     "output_type": "execute_result"
    }
   ],
   "source": [
    "chip.device1.gate(1.0)\n",
    "chip.device1.gate()"
   ]
  },
  {
   "cell_type": "code",
   "execution_count": 7,
   "id": "compound-project",
   "metadata": {
    "execution": {
     "iopub.execute_input": "2021-05-28T07:05:28.536969Z",
     "iopub.status.busy": "2021-05-28T07:05:28.536078Z",
     "iopub.status.idle": "2021-05-28T07:05:28.540447Z",
     "shell.execute_reply": "2021-05-28T07:05:28.540004Z"
    }
   },
   "outputs": [
    {
     "data": {
      "text/plain": [
       "1.0"
      ]
     },
     "execution_count": 1,
     "metadata": {},
     "output_type": "execute_result"
    }
   ],
   "source": [
    "mdac.ch01.voltage()"
   ]
  },
  {
   "cell_type": "code",
   "execution_count": 8,
   "id": "noble-stewart",
   "metadata": {
    "execution": {
     "iopub.execute_input": "2021-05-28T07:05:28.545283Z",
     "iopub.status.busy": "2021-05-28T07:05:28.544784Z",
     "iopub.status.idle": "2021-05-28T07:05:28.547171Z",
     "shell.execute_reply": "2021-05-28T07:05:28.547586Z"
    },
    "scrolled": false
   },
   "outputs": [
    {
     "data": {
      "text/plain": [
       "source(frequency=125.0, amplitude=0.0, phase=0.0, time_constant=0.001)"
      ]
     },
     "execution_count": 1,
     "metadata": {},
     "output_type": "execute_result"
    }
   ],
   "source": [
    "chip.device1.source()"
   ]
  },
  {
   "cell_type": "code",
   "execution_count": 9,
   "id": "photographic-shaft",
   "metadata": {
    "execution": {
     "iopub.execute_input": "2021-05-28T07:05:28.552354Z",
     "iopub.status.busy": "2021-05-28T07:05:28.551848Z",
     "iopub.status.idle": "2021-05-28T07:05:28.554586Z",
     "shell.execute_reply": "2021-05-28T07:05:28.554982Z"
    }
   },
   "outputs": [
    {
     "data": {
      "text/plain": [
       "drain(X=0.001, Y=1e-05)"
      ]
     },
     "execution_count": 1,
     "metadata": {},
     "output_type": "execute_result"
    }
   ],
   "source": [
    "chip.device1.drain()"
   ]
  },
  {
   "cell_type": "code",
   "execution_count": null,
   "id": "personalized-dining",
   "metadata": {},
   "outputs": [],
   "source": []
  }
 ],
 "metadata": {
  "kernelspec": {
   "display_name": "Python 3",
   "language": "python",
   "name": "python3"
  },
  "language_info": {
   "codemirror_mode": {
    "name": "ipython",
    "version": 3
   },
   "file_extension": ".py",
   "mimetype": "text/x-python",
   "name": "python",
   "nbconvert_exporter": "python",
   "pygments_lexer": "ipython3",
   "version": "3.7.10"
  }
 },
 "nbformat": 4,
 "nbformat_minor": 5
}
