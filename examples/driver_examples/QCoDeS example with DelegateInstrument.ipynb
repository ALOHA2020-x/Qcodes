{
 "cells": [
  {
   "cell_type": "markdown",
   "id": "plain-primary",
   "metadata": {},
   "source": [
    "# Qcodes example with DelegateInstrument driver\n",
    "\n",
    "This notebooks explains how to use the `DelegateInstrument` driver.\n",
    "\n",
    "## About\n",
    "The goal of the `DelegateInstrument` driver is to make it easier to combine different parameters together into a new \"virtual\" instrument. Each parameter on a `DelegateInstrument` can point to one or more parameters on other instruments in the station.\n",
    "\n",
    "## Usage\n",
    "The way it's used is mainly by specifying an entry in the station YAML. For instance, let's say you want to use a magnetic field coil. The driver has a method set_field(value, block), that by default is set to block=True, which means the field is ramped in a way that blocks further execution until the desired value is reached. However, let's say you are creating a measurement in which you want the parameter to be set, and while the value is ramping, you want to measure other parameters. This can be done by using `DelegateInstrument` and specifying a custom `setter` for the parameter that gets and sets the magnetic field.\n",
    "\n",
    "By default, each parameter is represented by a `DelegateParameter`. The `DelegateInstrument` also supports passing multiple source parameters to a given parameter. In order to do this, simply specify multiple parameters in the dictionary values  under the `parameters` key."
   ]
  },
  {
   "cell_type": "code",
   "execution_count": 1,
   "id": "sapphire-quebec",
   "metadata": {
    "execution": {
     "iopub.execute_input": "2021-05-18T07:10:28.860540Z",
     "iopub.status.busy": "2021-05-18T07:10:28.859554Z",
     "iopub.status.idle": "2021-05-18T07:10:28.867123Z",
     "shell.execute_reply": "2021-05-18T07:10:28.866109Z"
    }
   },
   "outputs": [
    {
     "name": "stdout",
     "output_type": "stream",
     "text": [
      "Writing example.yaml\n"
     ]
    }
   ],
   "source": [
    "%%writefile example.yaml\n",
    "\n",
    "instruments:\n",
    "  field_X:\n",
    "    type: qcodes.tests.instrument_mocks.MockField\n",
    "\n",
    "  field:\n",
    "    type: qcodes.instrument.delegate.DelegateInstrument\n",
    "    init:\n",
    "      parameters:\n",
    "        X:\n",
    "          - field_X.field\n",
    "        ramp_rate:\n",
    "          - field_X.ramp_rate\n",
    "        combined:\n",
    "          - field_X.field\n",
    "          - field_X.ramp_rate\n",
    "      set_initial_values_on_load: true\n",
    "      initial_values:\n",
    "        ramp_rate: 1.0\n",
    "      setters:\n",
    "        X:\n",
    "          method: field_X.set_field\n",
    "          block: false"
   ]
  },
  {
   "cell_type": "code",
   "execution_count": 2,
   "id": "younger-newspaper",
   "metadata": {
    "execution": {
     "iopub.execute_input": "2021-05-18T07:10:28.871639Z",
     "iopub.status.busy": "2021-05-18T07:10:28.870914Z",
     "iopub.status.idle": "2021-05-18T07:10:30.108430Z",
     "shell.execute_reply": "2021-05-18T07:10:30.107580Z"
    }
   },
   "outputs": [
    {
     "name": "stdout",
     "output_type": "stream",
     "text": [
      "Logging hadn't been started.\n",
      "Activating auto-logging. Current session state plus future input saved.\n",
      "Filename       : /home/runner/.qcodes/logs/command_history.log\n",
      "Mode           : append\n",
      "Output logging : True\n",
      "Raw input log  : False\n",
      "Timestamping   : True\n",
      "State          : active\n"
     ]
    },
    {
     "name": "stdout",
     "output_type": "stream",
     "text": [
      "Qcodes Logfile : /home/runner/.qcodes/logs/210518-9553-qcodes.log\n"
     ]
    }
   ],
   "source": [
    "import qcodes as qc"
   ]
  },
  {
   "cell_type": "code",
   "execution_count": 3,
   "id": "muslim-briefs",
   "metadata": {
    "execution": {
     "iopub.execute_input": "2021-05-18T07:10:30.112768Z",
     "iopub.status.busy": "2021-05-18T07:10:30.111805Z",
     "iopub.status.idle": "2021-05-18T07:10:30.128386Z",
     "shell.execute_reply": "2021-05-18T07:10:30.127511Z"
    }
   },
   "outputs": [],
   "source": [
    "station = qc.Station(config_file=\"example.yaml\")"
   ]
  },
  {
   "cell_type": "code",
   "execution_count": 4,
   "id": "greatest-antenna",
   "metadata": {
    "execution": {
     "iopub.execute_input": "2021-05-18T07:10:30.138358Z",
     "iopub.status.busy": "2021-05-18T07:10:30.131888Z",
     "iopub.status.idle": "2021-05-18T07:10:30.157671Z",
     "shell.execute_reply": "2021-05-18T07:10:30.158128Z"
    }
   },
   "outputs": [],
   "source": [
    "field_X = station.load_field_X()\n",
    "field = station.load_field(station=station)"
   ]
  },
  {
   "cell_type": "code",
   "execution_count": 5,
   "id": "every-playing",
   "metadata": {
    "execution": {
     "iopub.execute_input": "2021-05-18T07:10:30.170850Z",
     "iopub.status.busy": "2021-05-18T07:10:30.166159Z",
     "iopub.status.idle": "2021-05-18T07:10:30.173796Z",
     "shell.execute_reply": "2021-05-18T07:10:30.174283Z"
    }
   },
   "outputs": [
    {
     "data": {
      "text/plain": [
       "0.0"
      ]
     },
     "execution_count": 1,
     "metadata": {},
     "output_type": "execute_result"
    }
   ],
   "source": [
    "field.X()"
   ]
  },
  {
   "cell_type": "code",
   "execution_count": 6,
   "id": "undefined-worst",
   "metadata": {
    "execution": {
     "iopub.execute_input": "2021-05-18T07:10:30.179865Z",
     "iopub.status.busy": "2021-05-18T07:10:30.178510Z",
     "iopub.status.idle": "2021-05-18T07:10:30.180674Z",
     "shell.execute_reply": "2021-05-18T07:10:30.181416Z"
    }
   },
   "outputs": [],
   "source": [
    "field.X(1.)"
   ]
  },
  {
   "cell_type": "code",
   "execution_count": 7,
   "id": "recreational-suggestion",
   "metadata": {
    "execution": {
     "iopub.execute_input": "2021-05-18T07:10:30.186538Z",
     "iopub.status.busy": "2021-05-18T07:10:30.185976Z",
     "iopub.status.idle": "2021-05-18T07:10:30.188646Z",
     "shell.execute_reply": "2021-05-18T07:10:30.189130Z"
    }
   },
   "outputs": [
    {
     "data": {
      "text/plain": [
       "0.00010676383972167969"
      ]
     },
     "execution_count": 1,
     "metadata": {},
     "output_type": "execute_result"
    }
   ],
   "source": [
    "field.X()"
   ]
  },
  {
   "cell_type": "code",
   "execution_count": 8,
   "id": "adopted-exchange",
   "metadata": {
    "execution": {
     "iopub.execute_input": "2021-05-18T07:10:30.194696Z",
     "iopub.status.busy": "2021-05-18T07:10:30.193446Z",
     "iopub.status.idle": "2021-05-18T07:10:30.197369Z",
     "shell.execute_reply": "2021-05-18T07:10:30.196524Z"
    }
   },
   "outputs": [
    {
     "data": {
      "text/plain": [
       "0.0002334753672281901"
      ]
     },
     "execution_count": 1,
     "metadata": {},
     "output_type": "execute_result"
    }
   ],
   "source": [
    "field.X()"
   ]
  },
  {
   "cell_type": "code",
   "execution_count": 9,
   "id": "bound-broadcasting",
   "metadata": {
    "execution": {
     "iopub.execute_input": "2021-05-18T07:10:30.203015Z",
     "iopub.status.busy": "2021-05-18T07:10:30.202022Z",
     "iopub.status.idle": "2021-05-18T07:10:30.205270Z",
     "shell.execute_reply": "2021-05-18T07:10:30.204760Z"
    }
   },
   "outputs": [
    {
     "data": {
      "text/plain": [
       "0.0003723303476969401"
      ]
     },
     "execution_count": 1,
     "metadata": {},
     "output_type": "execute_result"
    }
   ],
   "source": [
    "field.X()"
   ]
  },
  {
   "cell_type": "code",
   "execution_count": 10,
   "id": "casual-ghost",
   "metadata": {
    "execution": {
     "iopub.execute_input": "2021-05-18T07:10:30.210101Z",
     "iopub.status.busy": "2021-05-18T07:10:30.209339Z",
     "iopub.status.idle": "2021-05-18T07:10:30.212412Z",
     "shell.execute_reply": "2021-05-18T07:10:30.213052Z"
    }
   },
   "outputs": [
    {
     "data": {
      "text/plain": [
       "0.0005027294158935547"
      ]
     },
     "execution_count": 1,
     "metadata": {},
     "output_type": "execute_result"
    }
   ],
   "source": [
    "field.X()"
   ]
  },
  {
   "cell_type": "markdown",
   "id": "alike-process",
   "metadata": {},
   "source": [
    "As you can see, the field is now ramped in the background with the specified ramp rate. Now, let's try to create a measurement that uses this ability, and ramps the field in the background while measuring:"
   ]
  },
  {
   "cell_type": "code",
   "execution_count": 11,
   "id": "sustained-tiger",
   "metadata": {
    "execution": {
     "iopub.execute_input": "2021-05-18T07:10:30.216737Z",
     "iopub.status.busy": "2021-05-18T07:10:30.216189Z",
     "iopub.status.idle": "2021-05-18T07:10:30.221134Z",
     "shell.execute_reply": "2021-05-18T07:10:30.222447Z"
    }
   },
   "outputs": [],
   "source": [
    "field.ramp_rate(10.)\n",
    "field_X.field(0.0)"
   ]
  },
  {
   "cell_type": "code",
   "execution_count": 12,
   "id": "pharmaceutical-partition",
   "metadata": {
    "execution": {
     "iopub.execute_input": "2021-05-18T07:10:30.227330Z",
     "iopub.status.busy": "2021-05-18T07:10:30.226788Z",
     "iopub.status.idle": "2021-05-18T07:10:30.229590Z",
     "shell.execute_reply": "2021-05-18T07:10:30.230138Z"
    }
   },
   "outputs": [
    {
     "data": {
      "text/plain": [
       "0.0"
      ]
     },
     "execution_count": 1,
     "metadata": {},
     "output_type": "execute_result"
    }
   ],
   "source": [
    "field.X()"
   ]
  },
  {
   "cell_type": "code",
   "execution_count": 13,
   "id": "happy-ordinance",
   "metadata": {
    "execution": {
     "iopub.execute_input": "2021-05-18T07:10:30.235833Z",
     "iopub.status.busy": "2021-05-18T07:10:30.235166Z",
     "iopub.status.idle": "2021-05-18T07:10:31.475040Z",
     "shell.execute_reply": "2021-05-18T07:10:31.475564Z"
    }
   },
   "outputs": [
    {
     "name": "stdout",
     "output_type": "stream",
     "text": [
      "Starting experimental run with id: 56. \n"
     ]
    }
   ],
   "source": [
    "import time\n",
    "meas = qc.Measurement(station=station)\n",
    "meas.register_parameter(field.X)\n",
    "\n",
    "with meas.run() as datasaver:\n",
    "    for B in [0.1, 0.0]:\n",
    "        field.X(B)\n",
    "        while field.X() != B:\n",
    "            datasaver.add_result((field.X, field.X()))\n",
    "            time.sleep(0.01)\n",
    "    datasaver.flush_data_to_database()"
   ]
  },
  {
   "cell_type": "code",
   "execution_count": 14,
   "id": "short-medium",
   "metadata": {
    "execution": {
     "iopub.execute_input": "2021-05-18T07:10:31.481438Z",
     "iopub.status.busy": "2021-05-18T07:10:31.480407Z",
     "iopub.status.idle": "2021-05-18T07:10:31.887957Z",
     "shell.execute_reply": "2021-05-18T07:10:31.887168Z"
    }
   },
   "outputs": [
    {
     "data": {
      "text/plain": [
       "<AxesSubplot:>"
      ]
     },
     "execution_count": 1,
     "metadata": {},
     "output_type": "execute_result"
    },
    {
     "data": {
      "image/png": "[encoded data removed]",
      "text/plain": [
       "<Figure size 432x288 with 1 Axes>"
      ]
     },
     "metadata": {
      "needs_background": "light"
     },
     "output_type": "display_data"
    }
   ],
   "source": [
    "datasaver.dataset.to_pandas_dataframe().plot()"
   ]
  },
  {
   "cell_type": "markdown",
   "id": "incomplete-vietnamese",
   "metadata": {},
   "source": [
    "When specifying multiple source parameters on a given parameter, the grouped parameter will automatically return a `namedtuple` that returns both values."
   ]
  },
  {
   "cell_type": "code",
   "execution_count": 15,
   "id": "dangerous-finder",
   "metadata": {
    "execution": {
     "iopub.execute_input": "2021-05-18T07:10:31.892888Z",
     "iopub.status.busy": "2021-05-18T07:10:31.892267Z",
     "iopub.status.idle": "2021-05-18T07:10:31.897231Z",
     "shell.execute_reply": "2021-05-18T07:10:31.896450Z"
    }
   },
   "outputs": [
    {
     "data": {
      "text/plain": [
       "combined(field=0.0, ramp_rate=10.0)"
      ]
     },
     "execution_count": 1,
     "metadata": {},
     "output_type": "execute_result"
    }
   ],
   "source": [
    "field.combined()"
   ]
  },
  {
   "cell_type": "markdown",
   "id": "consolidated-cooper",
   "metadata": {},
   "source": [
    "We can now also create a custom parameter that does a simple calculation based on the current parameters."
   ]
  },
  {
   "cell_type": "code",
   "execution_count": 16,
   "id": "designed-bloom",
   "metadata": {
    "execution": {
     "iopub.execute_input": "2021-05-18T07:10:31.903667Z",
     "iopub.status.busy": "2021-05-18T07:10:31.901988Z",
     "iopub.status.idle": "2021-05-18T07:10:31.904377Z",
     "shell.execute_reply": "2021-05-18T07:10:31.904877Z"
    }
   },
   "outputs": [],
   "source": [
    "import numpy as np\n",
    "\n",
    "def calculate_ramp_time(X, ramp_rate):\n",
    "    \"\"\"Calculate ramp time in seconds\"\"\"\n",
    "    dfield = np.abs(field.target_field - X)\n",
    "    return 60. * dfield/ramp_rate"
   ]
  },
  {
   "cell_type": "code",
   "execution_count": 17,
   "id": "disabled-logic",
   "metadata": {
    "execution": {
     "iopub.execute_input": "2021-05-18T07:10:31.909479Z",
     "iopub.status.busy": "2021-05-18T07:10:31.908431Z",
     "iopub.status.idle": "2021-05-18T07:10:31.910264Z",
     "shell.execute_reply": "2021-05-18T07:10:31.910834Z"
    },
    "scrolled": true
   },
   "outputs": [],
   "source": [
    "field._create_and_add_parameter(\n",
    "    group_name=\"ramp_time\",\n",
    "    station=station,\n",
    "    paths=[\"field_X.field\", \"field_X.ramp_rate\"],\n",
    "    formatter=calculate_ramp_time\n",
    ")"
   ]
  },
  {
   "cell_type": "code",
   "execution_count": 18,
   "id": "adverse-february",
   "metadata": {
    "execution": {
     "iopub.execute_input": "2021-05-18T07:10:31.915603Z",
     "iopub.status.busy": "2021-05-18T07:10:31.915049Z",
     "iopub.status.idle": "2021-05-18T07:10:31.917684Z",
     "shell.execute_reply": "2021-05-18T07:10:31.918103Z"
    }
   },
   "outputs": [
    {
     "data": {
      "text/plain": [
       "6.0"
      ]
     },
     "execution_count": 1,
     "metadata": {},
     "output_type": "execute_result"
    }
   ],
   "source": [
    "field.ramp_rate(1.0)\n",
    "field.target_field = 0.1\n",
    "field.ramp_time()"
   ]
  },
  {
   "cell_type": "code",
   "execution_count": 19,
   "id": "statutory-xerox",
   "metadata": {
    "execution": {
     "iopub.execute_input": "2021-05-18T07:10:31.922468Z",
     "iopub.status.busy": "2021-05-18T07:10:31.921337Z",
     "iopub.status.idle": "2021-05-18T07:10:31.923054Z",
     "shell.execute_reply": "2021-05-18T07:10:31.923473Z"
    }
   },
   "outputs": [],
   "source": [
    "field.X(0.1)"
   ]
  },
  {
   "cell_type": "code",
   "execution_count": 20,
   "id": "varying-auditor",
   "metadata": {
    "execution": {
     "iopub.execute_input": "2021-05-18T07:10:31.928226Z",
     "iopub.status.busy": "2021-05-18T07:10:31.927668Z",
     "iopub.status.idle": "2021-05-18T07:10:31.930872Z",
     "shell.execute_reply": "2021-05-18T07:10:31.931383Z"
    }
   },
   "outputs": [
    {
     "data": {
      "text/plain": [
       "5.994705915451051"
      ]
     },
     "execution_count": 1,
     "metadata": {},
     "output_type": "execute_result"
    }
   ],
   "source": [
    "field.ramp_time()"
   ]
  },
  {
   "cell_type": "code",
   "execution_count": 21,
   "id": "chubby-nickel",
   "metadata": {
    "execution": {
     "iopub.execute_input": "2021-05-18T07:10:31.934408Z",
     "iopub.status.busy": "2021-05-18T07:10:31.933863Z",
     "iopub.status.idle": "2021-05-18T07:10:32.939369Z",
     "shell.execute_reply": "2021-05-18T07:10:32.939889Z"
    }
   },
   "outputs": [
    {
     "data": {
      "text/plain": [
       "4.985185384750366"
      ]
     },
     "execution_count": 1,
     "metadata": {},
     "output_type": "execute_result"
    }
   ],
   "source": [
    "import time\n",
    "time.sleep(1.)\n",
    "field.ramp_time()"
   ]
  },
  {
   "cell_type": "code",
   "execution_count": 22,
   "id": "italian-liberty",
   "metadata": {
    "execution": {
     "iopub.execute_input": "2021-05-18T07:10:32.943889Z",
     "iopub.status.busy": "2021-05-18T07:10:32.943359Z",
     "iopub.status.idle": "2021-05-18T07:10:33.948812Z",
     "shell.execute_reply": "2021-05-18T07:10:33.949332Z"
    }
   },
   "outputs": [
    {
     "data": {
      "text/plain": [
       "3.976018905639649"
      ]
     },
     "execution_count": 1,
     "metadata": {},
     "output_type": "execute_result"
    }
   ],
   "source": [
    "import time\n",
    "time.sleep(1.)\n",
    "field.ramp_time()"
   ]
  },
  {
   "cell_type": "code",
   "execution_count": null,
   "id": "mobile-buffalo",
   "metadata": {},
   "outputs": [],
   "source": []
  }
 ],
 "metadata": {
  "kernelspec": {
   "display_name": "Python 3.7.9 64-bit ('qcodes': conda)",
   "name": "python379jvsc74a57bd01772f43cf92542b0c64f9621787c7542d65141a21c16e4e61ad35c3f481e9993"
  },
  "language_info": {
   "codemirror_mode": {
    "name": "ipython",
    "version": 3
   },
   "file_extension": ".py",
   "mimetype": "text/x-python",
   "name": "python",
   "nbconvert_exporter": "python",
   "pygments_lexer": "ipython3",
   "version": "3.7.10"
  }
 },
 "nbformat": 4,
 "nbformat_minor": 5
}
