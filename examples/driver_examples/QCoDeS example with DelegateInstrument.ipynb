{
 "cells": [
  {
   "cell_type": "markdown",
   "id": "plain-primary",
   "metadata": {},
   "source": [
    "# Qcodes example with DelegateInstrument driver\n",
    "\n",
    "This notebooks explains how to use the `DelegateInstrument` driver.\n",
    "\n",
    "## About\n",
    "The goal of the `DelegateInstrument` driver is to make it easier to combine different parameters together into a new \"virtual\" instrument. Each parameter on a `DelegateInstrument` can point to one or more parameters on other instruments in the station.\n",
    "\n",
    "## Usage\n",
    "The way it's used is mainly by specifying an entry in the station YAML. For instance, let's say you want to use a magnetic field coil. The driver has a method set_field(value, block), that by default is set to block=True, which means the field is ramped in a way that blocks further execution until the desired value is reached. However, let's say you are creating a measurement in which you want the parameter to be set, and while the value is ramping, you want to measure other parameters. This can be done by using `DelegateInstrument` and specifying a custom `setter` for the parameter that gets and sets the magnetic field.\n",
    "\n",
    "By default, each parameter is represented by a `DelegateParameter`. The `DelegateInstrument` also supports passing multiple source parameters to a given parameter. In order to do this, simply specify multiple parameters in the dictionary values  under the `parameters` key."
   ]
  },
  {
   "cell_type": "code",
   "execution_count": 1,
   "id": "sapphire-quebec",
   "metadata": {
    "execution": {
     "iopub.execute_input": "2021-05-12T07:26:07.088369Z",
     "iopub.status.busy": "2021-05-12T07:26:07.087798Z",
     "iopub.status.idle": "2021-05-12T07:26:07.097696Z",
     "shell.execute_reply": "2021-05-12T07:26:07.097109Z"
    }
   },
   "outputs": [
    {
     "name": "stdout",
     "output_type": "stream",
     "text": [
      "Writing example.yaml\n"
     ]
    }
   ],
   "source": [
    "%%writefile example.yaml\n",
    "\n",
    "instruments:\n",
    "  field_X:\n",
    "    type: qcodes.tests.instrument_mocks.MockField\n",
    "\n",
    "  field:\n",
    "    type: qcodes.instrument.delegate.DelegateInstrument\n",
    "    init:\n",
    "      parameters:\n",
    "        X:\n",
    "          - field_X.field\n",
    "        ramp_rate:\n",
    "          - field_X.ramp_rate\n",
    "        combined:\n",
    "          - field_X.field\n",
    "          - field_X.ramp_rate\n",
    "      set_initial_values_on_load: true\n",
    "      initial_values:\n",
    "        ramp_rate: 1.0\n",
    "      setters:\n",
    "        X:\n",
    "          method: field_X.set_field\n",
    "          block: false"
   ]
  },
  {
   "cell_type": "code",
   "execution_count": 2,
   "id": "younger-newspaper",
   "metadata": {
    "execution": {
     "iopub.execute_input": "2021-05-12T07:26:07.101555Z",
     "iopub.status.busy": "2021-05-12T07:26:07.100919Z",
     "iopub.status.idle": "2021-05-12T07:26:08.404930Z",
     "shell.execute_reply": "2021-05-12T07:26:08.403948Z"
    }
   },
   "outputs": [
    {
     "name": "stdout",
     "output_type": "stream",
     "text": [
      "Logging hadn't been started.\n",
      "Activating auto-logging. Current session state plus future input saved.\n",
      "Filename       : /home/runner/.qcodes/logs/command_history.log\n",
      "Mode           : append\n",
      "Output logging : True\n",
      "Raw input log  : False\n",
      "Timestamping   : True\n",
      "State          : active\n"
     ]
    },
    {
     "name": "stdout",
     "output_type": "stream",
     "text": [
      "Qcodes Logfile : /home/runner/.qcodes/logs/210512-9475-qcodes.log\n"
     ]
    }
   ],
   "source": [
    "import qcodes as qc"
   ]
  },
  {
   "cell_type": "code",
   "execution_count": 3,
   "id": "muslim-briefs",
   "metadata": {
    "execution": {
     "iopub.execute_input": "2021-05-12T07:26:08.418392Z",
     "iopub.status.busy": "2021-05-12T07:26:08.409632Z",
     "iopub.status.idle": "2021-05-12T07:26:08.425449Z",
     "shell.execute_reply": "2021-05-12T07:26:08.424930Z"
    }
   },
   "outputs": [],
   "source": [
    "station = qc.Station(config_file=\"example.yaml\")"
   ]
  },
  {
   "cell_type": "code",
   "execution_count": 4,
   "id": "greatest-antenna",
   "metadata": {
    "execution": {
     "iopub.execute_input": "2021-05-12T07:26:08.429841Z",
     "iopub.status.busy": "2021-05-12T07:26:08.429237Z",
     "iopub.status.idle": "2021-05-12T07:26:08.458579Z",
     "shell.execute_reply": "2021-05-12T07:26:08.457995Z"
    }
   },
   "outputs": [],
   "source": [
    "field_X = station.load_field_X()\n",
    "field = station.load_field(station=station)"
   ]
  },
  {
   "cell_type": "code",
   "execution_count": 5,
   "id": "every-playing",
   "metadata": {
    "execution": {
     "iopub.execute_input": "2021-05-12T07:26:08.470380Z",
     "iopub.status.busy": "2021-05-12T07:26:08.467910Z",
     "iopub.status.idle": "2021-05-12T07:26:08.475806Z",
     "shell.execute_reply": "2021-05-12T07:26:08.476334Z"
    }
   },
   "outputs": [
    {
     "data": {
      "text/plain": [
       "0.0"
      ]
     },
     "execution_count": 1,
     "metadata": {},
     "output_type": "execute_result"
    }
   ],
   "source": [
    "field.X()"
   ]
  },
  {
   "cell_type": "code",
   "execution_count": 6,
   "id": "undefined-worst",
   "metadata": {
    "execution": {
     "iopub.execute_input": "2021-05-12T07:26:08.480619Z",
     "iopub.status.busy": "2021-05-12T07:26:08.480004Z",
     "iopub.status.idle": "2021-05-12T07:26:08.483731Z",
     "shell.execute_reply": "2021-05-12T07:26:08.484219Z"
    }
   },
   "outputs": [],
   "source": [
    "field.X(1.)"
   ]
  },
  {
   "cell_type": "code",
   "execution_count": 7,
   "id": "recreational-suggestion",
   "metadata": {
    "execution": {
     "iopub.execute_input": "2021-05-12T07:26:08.488401Z",
     "iopub.status.busy": "2021-05-12T07:26:08.487754Z",
     "iopub.status.idle": "2021-05-12T07:26:08.494013Z",
     "shell.execute_reply": "2021-05-12T07:26:08.493443Z"
    }
   },
   "outputs": [
    {
     "data": {
      "text/plain": [
       "0.0001281301180521647"
      ]
     },
     "execution_count": 1,
     "metadata": {},
     "output_type": "execute_result"
    }
   ],
   "source": [
    "field.X()"
   ]
  },
  {
   "cell_type": "code",
   "execution_count": 8,
   "id": "adopted-exchange",
   "metadata": {
    "execution": {
     "iopub.execute_input": "2021-05-12T07:26:08.498081Z",
     "iopub.status.busy": "2021-05-12T07:26:08.497437Z",
     "iopub.status.idle": "2021-05-12T07:26:08.503858Z",
     "shell.execute_reply": "2021-05-12T07:26:08.503312Z"
    }
   },
   "outputs": [
    {
     "data": {
      "text/plain": [
       "0.00029073158899943036"
      ]
     },
     "execution_count": 1,
     "metadata": {},
     "output_type": "execute_result"
    }
   ],
   "source": [
    "field.X()"
   ]
  },
  {
   "cell_type": "code",
   "execution_count": 9,
   "id": "bound-broadcasting",
   "metadata": {
    "execution": {
     "iopub.execute_input": "2021-05-12T07:26:08.507883Z",
     "iopub.status.busy": "2021-05-12T07:26:08.507283Z",
     "iopub.status.idle": "2021-05-12T07:26:08.512606Z",
     "shell.execute_reply": "2021-05-12T07:26:08.512023Z"
    }
   },
   "outputs": [
    {
     "data": {
      "text/plain": [
       "0.0004539291063944499"
      ]
     },
     "execution_count": 1,
     "metadata": {},
     "output_type": "execute_result"
    }
   ],
   "source": [
    "field.X()"
   ]
  },
  {
   "cell_type": "code",
   "execution_count": 10,
   "id": "casual-ghost",
   "metadata": {
    "execution": {
     "iopub.execute_input": "2021-05-12T07:26:08.516820Z",
     "iopub.status.busy": "2021-05-12T07:26:08.515752Z",
     "iopub.status.idle": "2021-05-12T07:26:08.520494Z",
     "shell.execute_reply": "2021-05-12T07:26:08.519900Z"
    }
   },
   "outputs": [
    {
     "data": {
      "text/plain": [
       "0.0006077051162719727"
      ]
     },
     "execution_count": 1,
     "metadata": {},
     "output_type": "execute_result"
    }
   ],
   "source": [
    "field.X()"
   ]
  },
  {
   "cell_type": "markdown",
   "id": "alike-process",
   "metadata": {},
   "source": [
    "As you can see, the field is now ramped in the background with the specified ramp rate. Now, let's try to create a measurement that uses this ability, and ramps the field in the background while measuring:"
   ]
  },
  {
   "cell_type": "code",
   "execution_count": 11,
   "id": "sustained-tiger",
   "metadata": {
    "execution": {
     "iopub.execute_input": "2021-05-12T07:26:08.524818Z",
     "iopub.status.busy": "2021-05-12T07:26:08.524142Z",
     "iopub.status.idle": "2021-05-12T07:26:08.533114Z",
     "shell.execute_reply": "2021-05-12T07:26:08.532453Z"
    }
   },
   "outputs": [],
   "source": [
    "field.ramp_rate(10.)\n",
    "field_X.field(0.0)"
   ]
  },
  {
   "cell_type": "code",
   "execution_count": 12,
   "id": "pharmaceutical-partition",
   "metadata": {
    "execution": {
     "iopub.execute_input": "2021-05-12T07:26:08.537998Z",
     "iopub.status.busy": "2021-05-12T07:26:08.537439Z",
     "iopub.status.idle": "2021-05-12T07:26:08.540260Z",
     "shell.execute_reply": "2021-05-12T07:26:08.540725Z"
    }
   },
   "outputs": [
    {
     "data": {
      "text/plain": [
       "0.0"
      ]
     },
     "execution_count": 1,
     "metadata": {},
     "output_type": "execute_result"
    }
   ],
   "source": [
    "field.X()"
   ]
  },
  {
   "cell_type": "code",
   "execution_count": 13,
   "id": "happy-ordinance",
   "metadata": {
    "execution": {
     "iopub.execute_input": "2021-05-12T07:26:08.546855Z",
     "iopub.status.busy": "2021-05-12T07:26:08.545956Z",
     "iopub.status.idle": "2021-05-12T07:26:09.776676Z",
     "shell.execute_reply": "2021-05-12T07:26:09.776123Z"
    }
   },
   "outputs": [
    {
     "name": "stdout",
     "output_type": "stream",
     "text": [
      "Starting experimental run with id: 56. \n"
     ]
    }
   ],
   "source": [
    "import time\n",
    "meas = qc.Measurement(station=station)\n",
    "meas.register_parameter(field.X)\n",
    "\n",
    "with meas.run() as datasaver:\n",
    "    for B in [0.1, 0.0]:\n",
    "        field.X(B)\n",
    "        while field.X() != B:\n",
    "            datasaver.add_result((field.X, field.X()))\n",
    "            time.sleep(0.01)\n",
    "    datasaver.flush_data_to_database()"
   ]
  },
  {
   "cell_type": "code",
   "execution_count": 14,
   "id": "short-medium",
   "metadata": {
    "execution": {
     "iopub.execute_input": "2021-05-12T07:26:09.781168Z",
     "iopub.status.busy": "2021-05-12T07:26:09.780436Z",
     "iopub.status.idle": "2021-05-12T07:26:10.248708Z",
     "shell.execute_reply": "2021-05-12T07:26:10.249223Z"
    }
   },
   "outputs": [
    {
     "data": {
      "text/plain": [
       "<AxesSubplot:>"
      ]
     },
     "execution_count": 1,
     "metadata": {},
     "output_type": "execute_result"
    },
    {
     "data": {
      "image/png": "[encoded data removed]",
      "text/plain": [
       "<Figure size 432x288 with 1 Axes>"
      ]
     },
     "metadata": {
      "needs_background": "light"
     },
     "output_type": "display_data"
    }
   ],
   "source": [
    "datasaver.dataset.to_pandas_dataframe().plot()"
   ]
  },
  {
   "cell_type": "markdown",
   "id": "incomplete-vietnamese",
   "metadata": {},
   "source": [
    "When specifying multiple source parameters on a given parameter, the grouped parameter will automatically return a `namedtuple` that returns both values."
   ]
  },
  {
   "cell_type": "code",
   "execution_count": 15,
   "id": "dangerous-finder",
   "metadata": {
    "execution": {
     "iopub.execute_input": "2021-05-12T07:26:10.253849Z",
     "iopub.status.busy": "2021-05-12T07:26:10.253231Z",
     "iopub.status.idle": "2021-05-12T07:26:10.259023Z",
     "shell.execute_reply": "2021-05-12T07:26:10.259753Z"
    }
   },
   "outputs": [
    {
     "data": {
      "text/plain": [
       "combined(field=0.0, ramp_rate=10.0)"
      ]
     },
     "execution_count": 1,
     "metadata": {},
     "output_type": "execute_result"
    }
   ],
   "source": [
    "field.combined()"
   ]
  },
  {
   "cell_type": "markdown",
   "id": "consolidated-cooper",
   "metadata": {},
   "source": [
    "We can now also create a custom parameter that does a simple calculation based on the current parameters."
   ]
  },
  {
   "cell_type": "code",
   "execution_count": 16,
   "id": "designed-bloom",
   "metadata": {
    "execution": {
     "iopub.execute_input": "2021-05-12T07:26:10.264810Z",
     "iopub.status.busy": "2021-05-12T07:26:10.264177Z",
     "iopub.status.idle": "2021-05-12T07:26:10.267585Z",
     "shell.execute_reply": "2021-05-12T07:26:10.268046Z"
    }
   },
   "outputs": [],
   "source": [
    "import numpy as np\n",
    "\n",
    "def calculate_ramp_time(X, ramp_rate):\n",
    "    \"\"\"Calculate ramp time in seconds\"\"\"\n",
    "    dfield = np.abs(field.target_field - X)\n",
    "    return 60. * dfield/ramp_rate"
   ]
  },
  {
   "cell_type": "code",
   "execution_count": 17,
   "id": "disabled-logic",
   "metadata": {
    "execution": {
     "iopub.execute_input": "2021-05-12T07:26:10.272291Z",
     "iopub.status.busy": "2021-05-12T07:26:10.271719Z",
     "iopub.status.idle": "2021-05-12T07:26:10.275528Z",
     "shell.execute_reply": "2021-05-12T07:26:10.274942Z"
    },
    "scrolled": true
   },
   "outputs": [],
   "source": [
    "field._create_and_add_parameter(\n",
    "    group_name=\"ramp_time\",\n",
    "    station=station,\n",
    "    paths=[\"field_X.field\", \"field_X.ramp_rate\"],\n",
    "    formatter=calculate_ramp_time\n",
    ")"
   ]
  },
  {
   "cell_type": "code",
   "execution_count": 18,
   "id": "adverse-february",
   "metadata": {
    "execution": {
     "iopub.execute_input": "2021-05-12T07:26:10.281846Z",
     "iopub.status.busy": "2021-05-12T07:26:10.280692Z",
     "iopub.status.idle": "2021-05-12T07:26:10.284374Z",
     "shell.execute_reply": "2021-05-12T07:26:10.283865Z"
    }
   },
   "outputs": [
    {
     "data": {
      "text/plain": [
       "6.0"
      ]
     },
     "execution_count": 1,
     "metadata": {},
     "output_type": "execute_result"
    }
   ],
   "source": [
    "field.ramp_rate(1.0)\n",
    "field.target_field = 0.1\n",
    "field.ramp_time()"
   ]
  },
  {
   "cell_type": "code",
   "execution_count": 19,
   "id": "statutory-xerox",
   "metadata": {
    "execution": {
     "iopub.execute_input": "2021-05-12T07:26:10.289057Z",
     "iopub.status.busy": "2021-05-12T07:26:10.287779Z",
     "iopub.status.idle": "2021-05-12T07:26:10.289691Z",
     "shell.execute_reply": "2021-05-12T07:26:10.290158Z"
    }
   },
   "outputs": [],
   "source": [
    "field.X(0.1)"
   ]
  },
  {
   "cell_type": "code",
   "execution_count": 20,
   "id": "varying-auditor",
   "metadata": {
    "execution": {
     "iopub.execute_input": "2021-05-12T07:26:10.294490Z",
     "iopub.status.busy": "2021-05-12T07:26:10.292602Z",
     "iopub.status.idle": "2021-05-12T07:26:10.297000Z",
     "shell.execute_reply": "2021-05-12T07:26:10.297502Z"
    }
   },
   "outputs": [
    {
     "data": {
      "text/plain": [
       "5.994292497634888"
      ]
     },
     "execution_count": 1,
     "metadata": {},
     "output_type": "execute_result"
    }
   ],
   "source": [
    "field.ramp_time()"
   ]
  },
  {
   "cell_type": "code",
   "execution_count": 21,
   "id": "chubby-nickel",
   "metadata": {
    "execution": {
     "iopub.execute_input": "2021-05-12T07:26:10.301379Z",
     "iopub.status.busy": "2021-05-12T07:26:10.300774Z",
     "iopub.status.idle": "2021-05-12T07:26:11.307826Z",
     "shell.execute_reply": "2021-05-12T07:26:11.307304Z"
    }
   },
   "outputs": [
    {
     "data": {
      "text/plain": [
       "4.985233783721925"
      ]
     },
     "execution_count": 1,
     "metadata": {},
     "output_type": "execute_result"
    }
   ],
   "source": [
    "import time\n",
    "time.sleep(1.)\n",
    "field.ramp_time()"
   ]
  },
  {
   "cell_type": "code",
   "execution_count": 22,
   "id": "italian-liberty",
   "metadata": {
    "execution": {
     "iopub.execute_input": "2021-05-12T07:26:11.312023Z",
     "iopub.status.busy": "2021-05-12T07:26:11.311399Z",
     "iopub.status.idle": "2021-05-12T07:26:12.317380Z",
     "shell.execute_reply": "2021-05-12T07:26:12.317794Z"
    }
   },
   "outputs": [
    {
     "data": {
      "text/plain": [
       "3.9748096466064458"
      ]
     },
     "execution_count": 1,
     "metadata": {},
     "output_type": "execute_result"
    }
   ],
   "source": [
    "import time\n",
    "time.sleep(1.)\n",
    "field.ramp_time()"
   ]
  },
  {
   "cell_type": "code",
   "execution_count": null,
   "id": "mobile-buffalo",
   "metadata": {},
   "outputs": [],
   "source": []
  }
 ],
 "metadata": {
  "kernelspec": {
   "display_name": "Python 3.7.9 64-bit ('qcodes': conda)",
   "name": "python379jvsc74a57bd01772f43cf92542b0c64f9621787c7542d65141a21c16e4e61ad35c3f481e9993"
  },
  "language_info": {
   "codemirror_mode": {
    "name": "ipython",
    "version": 3
   },
   "file_extension": ".py",
   "mimetype": "text/x-python",
   "name": "python",
   "nbconvert_exporter": "python",
   "pygments_lexer": "ipython3",
   "version": "3.7.10"
  }
 },
 "nbformat": 4,
 "nbformat_minor": 5
}
