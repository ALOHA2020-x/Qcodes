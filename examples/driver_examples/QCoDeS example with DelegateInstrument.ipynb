{
 "cells": [
  {
   "cell_type": "markdown",
   "id": "plain-primary",
   "metadata": {},
   "source": [
    "# Qcodes example with DelegateInstrument driver\n",
    "\n",
    "This notebooks explains how to use the `DelegateInstrument` driver.\n",
    "\n",
    "## About\n",
    "The goal of the `DelegateInstrument` driver is to make it easier to combine different parameters together into a new \"virtual\" instrument. Each parameter on a `DelegateInstrument` can point to one or more parameters on other instruments in the station.\n",
    "\n",
    "## Usage\n",
    "The way it's used is mainly by specifying an entry in the station YAML. For instance, let's say you want to use a magnetic field coil. The driver has a method set_field(value, block), that by default is set to block=True, which means the field is ramped in a way that blocks further execution until the desired value is reached. However, let's say you are creating a measurement in which you want the parameter to be set, and while the value is ramping, you want to measure other parameters. This can be done by using `DelegateInstrument` and specifying a custom `setter` for the parameter that gets and sets the magnetic field.\n",
    "\n",
    "By default, each parameter is represented by a `DelegateParameter`. The `DelegateInstrument` also supports passing multiple source parameters to a given parameter. In order to do this, simply specify multiple parameters in the dictionary values  under the `parameters` key."
   ]
  },
  {
   "cell_type": "code",
   "execution_count": 1,
   "id": "sapphire-quebec",
   "metadata": {
    "execution": {
     "iopub.execute_input": "2021-05-20T17:06:43.354221Z",
     "iopub.status.busy": "2021-05-20T17:06:43.353631Z",
     "iopub.status.idle": "2021-05-20T17:06:43.364059Z",
     "shell.execute_reply": "2021-05-20T17:06:43.364496Z"
    }
   },
   "outputs": [
    {
     "name": "stdout",
     "output_type": "stream",
     "text": [
      "Writing example.yaml\n"
     ]
    }
   ],
   "source": [
    "%%writefile example.yaml\n",
    "\n",
    "instruments:\n",
    "  field_X:\n",
    "    type: qcodes.tests.instrument_mocks.MockField\n",
    "\n",
    "  field:\n",
    "    type: qcodes.instrument.delegate.DelegateInstrument\n",
    "    init:\n",
    "      parameters:\n",
    "        X:\n",
    "          - field_X.field\n",
    "        ramp_rate:\n",
    "          - field_X.ramp_rate\n",
    "        combined:\n",
    "          - field_X.field\n",
    "          - field_X.ramp_rate\n",
    "      set_initial_values_on_load: true\n",
    "      initial_values:\n",
    "        ramp_rate: 1.0\n",
    "      setters:\n",
    "        X:\n",
    "          method: field_X.set_field\n",
    "          block: false"
   ]
  },
  {
   "cell_type": "code",
   "execution_count": 2,
   "id": "younger-newspaper",
   "metadata": {
    "execution": {
     "iopub.execute_input": "2021-05-20T17:06:43.368205Z",
     "iopub.status.busy": "2021-05-20T17:06:43.367637Z",
     "iopub.status.idle": "2021-05-20T17:06:44.509124Z",
     "shell.execute_reply": "2021-05-20T17:06:44.508008Z"
    }
   },
   "outputs": [
    {
     "name": "stdout",
     "output_type": "stream",
     "text": [
      "Logging hadn't been started.\n",
      "Activating auto-logging. Current session state plus future input saved.\n",
      "Filename       : /home/runner/.qcodes/logs/command_history.log\n",
      "Mode           : append\n",
      "Output logging : True\n",
      "Raw input log  : False\n",
      "Timestamping   : True\n",
      "State          : active\n"
     ]
    },
    {
     "name": "stdout",
     "output_type": "stream",
     "text": [
      "Qcodes Logfile : /home/runner/.qcodes/logs/210520-9197-qcodes.log\n"
     ]
    }
   ],
   "source": [
    "import qcodes as qc"
   ]
  },
  {
   "cell_type": "code",
   "execution_count": 3,
   "id": "muslim-briefs",
   "metadata": {
    "execution": {
     "iopub.execute_input": "2021-05-20T17:06:44.524130Z",
     "iopub.status.busy": "2021-05-20T17:06:44.513392Z",
     "iopub.status.idle": "2021-05-20T17:06:44.527274Z",
     "shell.execute_reply": "2021-05-20T17:06:44.526777Z"
    }
   },
   "outputs": [],
   "source": [
    "station = qc.Station(config_file=\"example.yaml\")"
   ]
  },
  {
   "cell_type": "code",
   "execution_count": 4,
   "id": "greatest-antenna",
   "metadata": {
    "execution": {
     "iopub.execute_input": "2021-05-20T17:06:44.539210Z",
     "iopub.status.busy": "2021-05-20T17:06:44.530488Z",
     "iopub.status.idle": "2021-05-20T17:06:44.555369Z",
     "shell.execute_reply": "2021-05-20T17:06:44.554611Z"
    }
   },
   "outputs": [],
   "source": [
    "field_X = station.load_field_X()\n",
    "field = station.load_field(station=station)"
   ]
  },
  {
   "cell_type": "code",
   "execution_count": 5,
   "id": "every-playing",
   "metadata": {
    "execution": {
     "iopub.execute_input": "2021-05-20T17:06:44.565594Z",
     "iopub.status.busy": "2021-05-20T17:06:44.565012Z",
     "iopub.status.idle": "2021-05-20T17:06:44.568408Z",
     "shell.execute_reply": "2021-05-20T17:06:44.568004Z"
    }
   },
   "outputs": [
    {
     "data": {
      "text/plain": [
       "0.0"
      ]
     },
     "execution_count": 1,
     "metadata": {},
     "output_type": "execute_result"
    }
   ],
   "source": [
    "field.X()"
   ]
  },
  {
   "cell_type": "code",
   "execution_count": 6,
   "id": "undefined-worst",
   "metadata": {
    "execution": {
     "iopub.execute_input": "2021-05-20T17:06:44.571961Z",
     "iopub.status.busy": "2021-05-20T17:06:44.571444Z",
     "iopub.status.idle": "2021-05-20T17:06:44.575708Z",
     "shell.execute_reply": "2021-05-20T17:06:44.574656Z"
    }
   },
   "outputs": [],
   "source": [
    "field.X(1.)"
   ]
  },
  {
   "cell_type": "code",
   "execution_count": 7,
   "id": "recreational-suggestion",
   "metadata": {
    "execution": {
     "iopub.execute_input": "2021-05-20T17:06:44.579656Z",
     "iopub.status.busy": "2021-05-20T17:06:44.579154Z",
     "iopub.status.idle": "2021-05-20T17:06:44.584498Z",
     "shell.execute_reply": "2021-05-20T17:06:44.584007Z"
    }
   },
   "outputs": [
    {
     "data": {
      "text/plain": [
       "0.0001231988271077474"
      ]
     },
     "execution_count": 1,
     "metadata": {},
     "output_type": "execute_result"
    }
   ],
   "source": [
    "field.X()"
   ]
  },
  {
   "cell_type": "code",
   "execution_count": 8,
   "id": "adopted-exchange",
   "metadata": {
    "execution": {
     "iopub.execute_input": "2021-05-20T17:06:44.588294Z",
     "iopub.status.busy": "2021-05-20T17:06:44.587768Z",
     "iopub.status.idle": "2021-05-20T17:06:44.593253Z",
     "shell.execute_reply": "2021-05-20T17:06:44.592875Z"
    }
   },
   "outputs": [
    {
     "data": {
      "text/plain": [
       "0.0002682606379191081"
      ]
     },
     "execution_count": 1,
     "metadata": {},
     "output_type": "execute_result"
    }
   ],
   "source": [
    "field.X()"
   ]
  },
  {
   "cell_type": "code",
   "execution_count": 9,
   "id": "bound-broadcasting",
   "metadata": {
    "execution": {
     "iopub.execute_input": "2021-05-20T17:06:44.598114Z",
     "iopub.status.busy": "2021-05-20T17:06:44.597649Z",
     "iopub.status.idle": "2021-05-20T17:06:44.602951Z",
     "shell.execute_reply": "2021-05-20T17:06:44.602539Z"
    }
   },
   "outputs": [
    {
     "data": {
      "text/plain": [
       "0.0004325747489929199"
      ]
     },
     "execution_count": 1,
     "metadata": {},
     "output_type": "execute_result"
    }
   ],
   "source": [
    "field.X()"
   ]
  },
  {
   "cell_type": "code",
   "execution_count": 10,
   "id": "casual-ghost",
   "metadata": {
    "execution": {
     "iopub.execute_input": "2021-05-20T17:06:44.607276Z",
     "iopub.status.busy": "2021-05-20T17:06:44.606707Z",
     "iopub.status.idle": "2021-05-20T17:06:44.611984Z",
     "shell.execute_reply": "2021-05-20T17:06:44.611455Z"
    }
   },
   "outputs": [
    {
     "data": {
      "text/plain": [
       "0.0005838990211486817"
      ]
     },
     "execution_count": 1,
     "metadata": {},
     "output_type": "execute_result"
    }
   ],
   "source": [
    "field.X()"
   ]
  },
  {
   "cell_type": "markdown",
   "id": "alike-process",
   "metadata": {},
   "source": [
    "As you can see, the field is now ramped in the background with the specified ramp rate. Now, let's try to create a measurement that uses this ability, and ramps the field in the background while measuring:"
   ]
  },
  {
   "cell_type": "code",
   "execution_count": 11,
   "id": "sustained-tiger",
   "metadata": {
    "execution": {
     "iopub.execute_input": "2021-05-20T17:06:44.615647Z",
     "iopub.status.busy": "2021-05-20T17:06:44.615128Z",
     "iopub.status.idle": "2021-05-20T17:06:44.622042Z",
     "shell.execute_reply": "2021-05-20T17:06:44.621540Z"
    }
   },
   "outputs": [],
   "source": [
    "field.ramp_rate(10.)\n",
    "field_X.field(0.0)"
   ]
  },
  {
   "cell_type": "code",
   "execution_count": 12,
   "id": "pharmaceutical-partition",
   "metadata": {
    "execution": {
     "iopub.execute_input": "2021-05-20T17:06:44.626197Z",
     "iopub.status.busy": "2021-05-20T17:06:44.625661Z",
     "iopub.status.idle": "2021-05-20T17:06:44.630502Z",
     "shell.execute_reply": "2021-05-20T17:06:44.630073Z"
    }
   },
   "outputs": [
    {
     "data": {
      "text/plain": [
       "0.0"
      ]
     },
     "execution_count": 1,
     "metadata": {},
     "output_type": "execute_result"
    }
   ],
   "source": [
    "field.X()"
   ]
  },
  {
   "cell_type": "code",
   "execution_count": 13,
   "id": "happy-ordinance",
   "metadata": {
    "execution": {
     "iopub.execute_input": "2021-05-20T17:06:44.635733Z",
     "iopub.status.busy": "2021-05-20T17:06:44.633967Z",
     "iopub.status.idle": "2021-05-20T17:06:45.871424Z",
     "shell.execute_reply": "2021-05-20T17:06:45.870167Z"
    }
   },
   "outputs": [
    {
     "name": "stdout",
     "output_type": "stream",
     "text": [
      "Starting experimental run with id: 56. \n"
     ]
    }
   ],
   "source": [
    "import time\n",
    "meas = qc.Measurement(station=station)\n",
    "meas.register_parameter(field.X)\n",
    "\n",
    "with meas.run() as datasaver:\n",
    "    for B in [0.1, 0.0]:\n",
    "        field.X(B)\n",
    "        while field.X() != B:\n",
    "            datasaver.add_result((field.X, field.X()))\n",
    "            time.sleep(0.01)\n",
    "    datasaver.flush_data_to_database()"
   ]
  },
  {
   "cell_type": "code",
   "execution_count": 14,
   "id": "short-medium",
   "metadata": {
    "execution": {
     "iopub.execute_input": "2021-05-20T17:06:45.875806Z",
     "iopub.status.busy": "2021-05-20T17:06:45.874942Z",
     "iopub.status.idle": "2021-05-20T17:06:46.264139Z",
     "shell.execute_reply": "2021-05-20T17:06:46.264562Z"
    }
   },
   "outputs": [
    {
     "data": {
      "text/plain": [
       "<AxesSubplot:>"
      ]
     },
     "execution_count": 1,
     "metadata": {},
     "output_type": "execute_result"
    },
    {
     "data": {
      "image/png": "[encoded data removed]",
      "text/plain": [
       "<Figure size 432x288 with 1 Axes>"
      ]
     },
     "metadata": {
      "needs_background": "light"
     },
     "output_type": "display_data"
    }
   ],
   "source": [
    "datasaver.dataset.to_pandas_dataframe().plot()"
   ]
  },
  {
   "cell_type": "markdown",
   "id": "incomplete-vietnamese",
   "metadata": {},
   "source": [
    "When specifying multiple source parameters on a given parameter, the grouped parameter will automatically return a `namedtuple` that returns both values."
   ]
  },
  {
   "cell_type": "code",
   "execution_count": 15,
   "id": "dangerous-finder",
   "metadata": {
    "execution": {
     "iopub.execute_input": "2021-05-20T17:06:46.270335Z",
     "iopub.status.busy": "2021-05-20T17:06:46.268625Z",
     "iopub.status.idle": "2021-05-20T17:06:46.275475Z",
     "shell.execute_reply": "2021-05-20T17:06:46.275911Z"
    }
   },
   "outputs": [
    {
     "data": {
      "text/plain": [
       "combined(field=0.0, ramp_rate=10.0)"
      ]
     },
     "execution_count": 1,
     "metadata": {},
     "output_type": "execute_result"
    }
   ],
   "source": [
    "field.combined()"
   ]
  },
  {
   "cell_type": "markdown",
   "id": "consolidated-cooper",
   "metadata": {},
   "source": [
    "We can now also create a custom parameter that does a simple calculation based on the current parameters."
   ]
  },
  {
   "cell_type": "code",
   "execution_count": 16,
   "id": "designed-bloom",
   "metadata": {
    "execution": {
     "iopub.execute_input": "2021-05-20T17:06:46.281531Z",
     "iopub.status.busy": "2021-05-20T17:06:46.280178Z",
     "iopub.status.idle": "2021-05-20T17:06:46.282156Z",
     "shell.execute_reply": "2021-05-20T17:06:46.282553Z"
    }
   },
   "outputs": [],
   "source": [
    "import numpy as np\n",
    "\n",
    "def calculate_ramp_time(X, ramp_rate):\n",
    "    \"\"\"Calculate ramp time in seconds\"\"\"\n",
    "    dfield = np.abs(field.target_field - X)\n",
    "    return 60. * dfield/ramp_rate"
   ]
  },
  {
   "cell_type": "code",
   "execution_count": 17,
   "id": "disabled-logic",
   "metadata": {
    "execution": {
     "iopub.execute_input": "2021-05-20T17:06:46.287464Z",
     "iopub.status.busy": "2021-05-20T17:06:46.286287Z",
     "iopub.status.idle": "2021-05-20T17:06:46.288092Z",
     "shell.execute_reply": "2021-05-20T17:06:46.288549Z"
    },
    "scrolled": true
   },
   "outputs": [],
   "source": [
    "field._create_and_add_parameter(\n",
    "    group_name=\"ramp_time\",\n",
    "    station=station,\n",
    "    paths=[\"field_X.field\", \"field_X.ramp_rate\"],\n",
    "    formatter=calculate_ramp_time\n",
    ")"
   ]
  },
  {
   "cell_type": "code",
   "execution_count": 18,
   "id": "adverse-february",
   "metadata": {
    "execution": {
     "iopub.execute_input": "2021-05-20T17:06:46.294771Z",
     "iopub.status.busy": "2021-05-20T17:06:46.293818Z",
     "iopub.status.idle": "2021-05-20T17:06:46.296425Z",
     "shell.execute_reply": "2021-05-20T17:06:46.297931Z"
    }
   },
   "outputs": [
    {
     "data": {
      "text/plain": [
       "6.0"
      ]
     },
     "execution_count": 1,
     "metadata": {},
     "output_type": "execute_result"
    }
   ],
   "source": [
    "field.ramp_rate(1.0)\n",
    "field.target_field = 0.1\n",
    "field.ramp_time()"
   ]
  },
  {
   "cell_type": "code",
   "execution_count": 19,
   "id": "statutory-xerox",
   "metadata": {
    "execution": {
     "iopub.execute_input": "2021-05-20T17:06:46.302295Z",
     "iopub.status.busy": "2021-05-20T17:06:46.301044Z",
     "iopub.status.idle": "2021-05-20T17:06:46.302862Z",
     "shell.execute_reply": "2021-05-20T17:06:46.303286Z"
    }
   },
   "outputs": [],
   "source": [
    "field.X(0.1)"
   ]
  },
  {
   "cell_type": "code",
   "execution_count": 20,
   "id": "varying-auditor",
   "metadata": {
    "execution": {
     "iopub.execute_input": "2021-05-20T17:06:46.308182Z",
     "iopub.status.busy": "2021-05-20T17:06:46.307433Z",
     "iopub.status.idle": "2021-05-20T17:06:46.310168Z",
     "shell.execute_reply": "2021-05-20T17:06:46.310594Z"
    }
   },
   "outputs": [
    {
     "data": {
      "text/plain": [
       "5.994700908660889"
      ]
     },
     "execution_count": 1,
     "metadata": {},
     "output_type": "execute_result"
    }
   ],
   "source": [
    "field.ramp_time()"
   ]
  },
  {
   "cell_type": "code",
   "execution_count": 21,
   "id": "chubby-nickel",
   "metadata": {
    "execution": {
     "iopub.execute_input": "2021-05-20T17:06:46.314020Z",
     "iopub.status.busy": "2021-05-20T17:06:46.313415Z",
     "iopub.status.idle": "2021-05-20T17:06:47.321021Z",
     "shell.execute_reply": "2021-05-20T17:06:47.320600Z"
    }
   },
   "outputs": [
    {
     "data": {
      "text/plain": [
       "4.985891342163087"
      ]
     },
     "execution_count": 1,
     "metadata": {},
     "output_type": "execute_result"
    }
   ],
   "source": [
    "import time\n",
    "time.sleep(1.)\n",
    "field.ramp_time()"
   ]
  },
  {
   "cell_type": "code",
   "execution_count": 22,
   "id": "italian-liberty",
   "metadata": {
    "execution": {
     "iopub.execute_input": "2021-05-20T17:06:47.325873Z",
     "iopub.status.busy": "2021-05-20T17:06:47.325334Z",
     "iopub.status.idle": "2021-05-20T17:06:48.333282Z",
     "shell.execute_reply": "2021-05-20T17:06:48.334188Z"
    }
   },
   "outputs": [
    {
     "data": {
      "text/plain": [
       "3.9739177227020273"
      ]
     },
     "execution_count": 1,
     "metadata": {},
     "output_type": "execute_result"
    }
   ],
   "source": [
    "import time\n",
    "time.sleep(1.)\n",
    "field.ramp_time()"
   ]
  },
  {
   "cell_type": "code",
   "execution_count": null,
   "id": "mobile-buffalo",
   "metadata": {},
   "outputs": [],
   "source": []
  }
 ],
 "metadata": {
  "kernelspec": {
   "display_name": "Python 3.7.9 64-bit ('qcodes': conda)",
   "name": "python379jvsc74a57bd01772f43cf92542b0c64f9621787c7542d65141a21c16e4e61ad35c3f481e9993"
  },
  "language_info": {
   "codemirror_mode": {
    "name": "ipython",
    "version": 3
   },
   "file_extension": ".py",
   "mimetype": "text/x-python",
   "name": "python",
   "nbconvert_exporter": "python",
   "pygments_lexer": "ipython3",
   "version": "3.7.10"
  }
 },
 "nbformat": 4,
 "nbformat_minor": 5
}
