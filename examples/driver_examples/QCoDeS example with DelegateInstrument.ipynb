{
 "cells": [
  {
   "cell_type": "markdown",
   "id": "plain-primary",
   "metadata": {},
   "source": [
    "# Qcodes example with DelegateInstrument driver\n",
    "\n",
    "This notebooks explains how to use the `DelegateInstrument` driver.\n",
    "\n",
    "## About\n",
    "The goal of the `DelegateInstrument` driver is to make it easier to combine different parameters together into a new \"virtual\" instrument. Each parameter on a `DelegateInstrument` can point to one or more parameters on other instruments in the station.\n",
    "\n",
    "## Usage\n",
    "The way it's used is mainly by specifying an entry in the station YAML. For instance, let's say you want to use a magnetic field coil. The driver has a method set_field(value, block), that by default is set to block=True, which means the field is ramped in a way that blocks further execution until the desired value is reached. However, let's say you are creating a measurement in which you want the parameter to be set, and while the value is ramping, you want to measure other parameters. This can be done by using `DelegateInstrument` and specifying a custom `setter` for the parameter that gets and sets the magnetic field.\n",
    "\n",
    "By default, each parameter is represented by a `DelegateParameter`. The `DelegateInstrument` also supports passing multiple source parameters to a given parameter. In order to do this, simply specify multiple parameters in the dictionary values  under the `parameters` key."
   ]
  },
  {
   "cell_type": "code",
   "execution_count": 1,
   "id": "sapphire-quebec",
   "metadata": {
    "execution": {
     "iopub.execute_input": "2021-05-21T08:38:56.332627Z",
     "iopub.status.busy": "2021-05-21T08:38:56.331977Z",
     "iopub.status.idle": "2021-05-21T08:38:56.341888Z",
     "shell.execute_reply": "2021-05-21T08:38:56.342563Z"
    }
   },
   "outputs": [
    {
     "name": "stdout",
     "output_type": "stream",
     "text": [
      "Writing example.yaml\n"
     ]
    }
   ],
   "source": [
    "%%writefile example.yaml\n",
    "\n",
    "instruments:\n",
    "  field_X:\n",
    "    type: qcodes.tests.instrument_mocks.MockField\n",
    "\n",
    "  field:\n",
    "    type: qcodes.instrument.delegate.DelegateInstrument\n",
    "    init:\n",
    "      parameters:\n",
    "        X:\n",
    "          - field_X.field\n",
    "        ramp_rate:\n",
    "          - field_X.ramp_rate\n",
    "        combined:\n",
    "          - field_X.field\n",
    "          - field_X.ramp_rate\n",
    "      set_initial_values_on_load: true\n",
    "      initial_values:\n",
    "        ramp_rate: 1.0\n",
    "      setters:\n",
    "        X:\n",
    "          method: field_X.set_field\n",
    "          block: false"
   ]
  },
  {
   "cell_type": "code",
   "execution_count": 2,
   "id": "younger-newspaper",
   "metadata": {
    "execution": {
     "iopub.execute_input": "2021-05-21T08:38:56.347365Z",
     "iopub.status.busy": "2021-05-21T08:38:56.346338Z",
     "iopub.status.idle": "2021-05-21T08:38:57.626334Z",
     "shell.execute_reply": "2021-05-21T08:38:57.626915Z"
    }
   },
   "outputs": [
    {
     "name": "stdout",
     "output_type": "stream",
     "text": [
      "Logging hadn't been started.\n",
      "Activating auto-logging. Current session state plus future input saved.\n",
      "Filename       : /home/runner/.qcodes/logs/command_history.log\n",
      "Mode           : append\n",
      "Output logging : True\n",
      "Raw input log  : False\n",
      "Timestamping   : True\n",
      "State          : active\n"
     ]
    },
    {
     "name": "stdout",
     "output_type": "stream",
     "text": [
      "Qcodes Logfile : /home/runner/.qcodes/logs/210521-9211-qcodes.log\n"
     ]
    }
   ],
   "source": [
    "import qcodes as qc"
   ]
  },
  {
   "cell_type": "code",
   "execution_count": 3,
   "id": "muslim-briefs",
   "metadata": {
    "execution": {
     "iopub.execute_input": "2021-05-21T08:38:57.639382Z",
     "iopub.status.busy": "2021-05-21T08:38:57.631431Z",
     "iopub.status.idle": "2021-05-21T08:38:57.645015Z",
     "shell.execute_reply": "2021-05-21T08:38:57.645472Z"
    }
   },
   "outputs": [],
   "source": [
    "station = qc.Station(config_file=\"example.yaml\")"
   ]
  },
  {
   "cell_type": "code",
   "execution_count": 4,
   "id": "greatest-antenna",
   "metadata": {
    "execution": {
     "iopub.execute_input": "2021-05-21T08:38:57.654054Z",
     "iopub.status.busy": "2021-05-21T08:38:57.648693Z",
     "iopub.status.idle": "2021-05-21T08:38:57.676077Z",
     "shell.execute_reply": "2021-05-21T08:38:57.675045Z"
    }
   },
   "outputs": [],
   "source": [
    "field_X = station.load_field_X()\n",
    "field = station.load_field(station=station)"
   ]
  },
  {
   "cell_type": "code",
   "execution_count": 5,
   "id": "every-playing",
   "metadata": {
    "execution": {
     "iopub.execute_input": "2021-05-21T08:38:57.688394Z",
     "iopub.status.busy": "2021-05-21T08:38:57.687273Z",
     "iopub.status.idle": "2021-05-21T08:38:57.691365Z",
     "shell.execute_reply": "2021-05-21T08:38:57.690861Z"
    }
   },
   "outputs": [
    {
     "data": {
      "text/plain": [
       "0.0"
      ]
     },
     "execution_count": 1,
     "metadata": {},
     "output_type": "execute_result"
    }
   ],
   "source": [
    "field.X()"
   ]
  },
  {
   "cell_type": "code",
   "execution_count": 6,
   "id": "undefined-worst",
   "metadata": {
    "execution": {
     "iopub.execute_input": "2021-05-21T08:38:57.696617Z",
     "iopub.status.busy": "2021-05-21T08:38:57.695245Z",
     "iopub.status.idle": "2021-05-21T08:38:57.697257Z",
     "shell.execute_reply": "2021-05-21T08:38:57.697713Z"
    }
   },
   "outputs": [],
   "source": [
    "field.X(1.)"
   ]
  },
  {
   "cell_type": "code",
   "execution_count": 7,
   "id": "recreational-suggestion",
   "metadata": {
    "execution": {
     "iopub.execute_input": "2021-05-21T08:38:57.702838Z",
     "iopub.status.busy": "2021-05-21T08:38:57.701779Z",
     "iopub.status.idle": "2021-05-21T08:38:57.704513Z",
     "shell.execute_reply": "2021-05-21T08:38:57.705367Z"
    }
   },
   "outputs": [
    {
     "data": {
      "text/plain": [
       "9.758869806925456e-05"
      ]
     },
     "execution_count": 1,
     "metadata": {},
     "output_type": "execute_result"
    }
   ],
   "source": [
    "field.X()"
   ]
  },
  {
   "cell_type": "code",
   "execution_count": 8,
   "id": "adopted-exchange",
   "metadata": {
    "execution": {
     "iopub.execute_input": "2021-05-21T08:38:57.711325Z",
     "iopub.status.busy": "2021-05-21T08:38:57.710228Z",
     "iopub.status.idle": "2021-05-21T08:38:57.713724Z",
     "shell.execute_reply": "2021-05-21T08:38:57.713257Z"
    }
   },
   "outputs": [
    {
     "data": {
      "text/plain": [
       "0.00023651123046875"
      ]
     },
     "execution_count": 1,
     "metadata": {},
     "output_type": "execute_result"
    }
   ],
   "source": [
    "field.X()"
   ]
  },
  {
   "cell_type": "code",
   "execution_count": 9,
   "id": "bound-broadcasting",
   "metadata": {
    "execution": {
     "iopub.execute_input": "2021-05-21T08:38:57.719718Z",
     "iopub.status.busy": "2021-05-21T08:38:57.718654Z",
     "iopub.status.idle": "2021-05-21T08:38:57.721484Z",
     "shell.execute_reply": "2021-05-21T08:38:57.722074Z"
    }
   },
   "outputs": [
    {
     "data": {
      "text/plain": [
       "0.0003761172294616699"
      ]
     },
     "execution_count": 1,
     "metadata": {},
     "output_type": "execute_result"
    }
   ],
   "source": [
    "field.X()"
   ]
  },
  {
   "cell_type": "code",
   "execution_count": 10,
   "id": "casual-ghost",
   "metadata": {
    "execution": {
     "iopub.execute_input": "2021-05-21T08:38:57.728418Z",
     "iopub.status.busy": "2021-05-21T08:38:57.726987Z",
     "iopub.status.idle": "2021-05-21T08:38:57.730704Z",
     "shell.execute_reply": "2021-05-21T08:38:57.730044Z"
    }
   },
   "outputs": [
    {
     "data": {
      "text/plain": [
       "0.0005078315734863281"
      ]
     },
     "execution_count": 1,
     "metadata": {},
     "output_type": "execute_result"
    }
   ],
   "source": [
    "field.X()"
   ]
  },
  {
   "cell_type": "markdown",
   "id": "alike-process",
   "metadata": {},
   "source": [
    "As you can see, the field is now ramped in the background with the specified ramp rate. Now, let's try to create a measurement that uses this ability, and ramps the field in the background while measuring:"
   ]
  },
  {
   "cell_type": "code",
   "execution_count": 11,
   "id": "sustained-tiger",
   "metadata": {
    "execution": {
     "iopub.execute_input": "2021-05-21T08:38:57.737599Z",
     "iopub.status.busy": "2021-05-21T08:38:57.736923Z",
     "iopub.status.idle": "2021-05-21T08:38:57.742248Z",
     "shell.execute_reply": "2021-05-21T08:38:57.742702Z"
    }
   },
   "outputs": [],
   "source": [
    "field.ramp_rate(10.)\n",
    "field_X.field(0.0)"
   ]
  },
  {
   "cell_type": "code",
   "execution_count": 12,
   "id": "pharmaceutical-partition",
   "metadata": {
    "execution": {
     "iopub.execute_input": "2021-05-21T08:38:57.748613Z",
     "iopub.status.busy": "2021-05-21T08:38:57.747459Z",
     "iopub.status.idle": "2021-05-21T08:38:57.750363Z",
     "shell.execute_reply": "2021-05-21T08:38:57.750861Z"
    }
   },
   "outputs": [
    {
     "data": {
      "text/plain": [
       "0.0"
      ]
     },
     "execution_count": 1,
     "metadata": {},
     "output_type": "execute_result"
    }
   ],
   "source": [
    "field.X()"
   ]
  },
  {
   "cell_type": "code",
   "execution_count": 13,
   "id": "happy-ordinance",
   "metadata": {
    "execution": {
     "iopub.execute_input": "2021-05-21T08:38:57.756508Z",
     "iopub.status.busy": "2021-05-21T08:38:57.755894Z",
     "iopub.status.idle": "2021-05-21T08:38:58.980350Z",
     "shell.execute_reply": "2021-05-21T08:38:58.979837Z"
    }
   },
   "outputs": [
    {
     "name": "stdout",
     "output_type": "stream",
     "text": [
      "Starting experimental run with id: 56. \n"
     ]
    }
   ],
   "source": [
    "import time\n",
    "meas = qc.Measurement(station=station)\n",
    "meas.register_parameter(field.X)\n",
    "\n",
    "with meas.run() as datasaver:\n",
    "    for B in [0.1, 0.0]:\n",
    "        field.X(B)\n",
    "        while field.X() != B:\n",
    "            datasaver.add_result((field.X, field.X()))\n",
    "            time.sleep(0.01)\n",
    "    datasaver.flush_data_to_database()"
   ]
  },
  {
   "cell_type": "code",
   "execution_count": 14,
   "id": "short-medium",
   "metadata": {
    "execution": {
     "iopub.execute_input": "2021-05-21T08:38:58.984588Z",
     "iopub.status.busy": "2021-05-21T08:38:58.983905Z",
     "iopub.status.idle": "2021-05-21T08:38:59.468415Z",
     "shell.execute_reply": "2021-05-21T08:38:59.467906Z"
    }
   },
   "outputs": [
    {
     "data": {
      "text/plain": [
       "<AxesSubplot:>"
      ]
     },
     "execution_count": 1,
     "metadata": {},
     "output_type": "execute_result"
    },
    {
     "data": {
      "image/png": "[encoded data removed]",
      "text/plain": [
       "<Figure size 432x288 with 1 Axes>"
      ]
     },
     "metadata": {
      "needs_background": "light"
     },
     "output_type": "display_data"
    }
   ],
   "source": [
    "datasaver.dataset.to_pandas_dataframe().plot()"
   ]
  },
  {
   "cell_type": "markdown",
   "id": "incomplete-vietnamese",
   "metadata": {},
   "source": [
    "When specifying multiple source parameters on a given parameter, the grouped parameter will automatically return a `namedtuple` that returns both values."
   ]
  },
  {
   "cell_type": "code",
   "execution_count": 15,
   "id": "dangerous-finder",
   "metadata": {
    "execution": {
     "iopub.execute_input": "2021-05-21T08:38:59.473542Z",
     "iopub.status.busy": "2021-05-21T08:38:59.472793Z",
     "iopub.status.idle": "2021-05-21T08:38:59.478405Z",
     "shell.execute_reply": "2021-05-21T08:38:59.479022Z"
    }
   },
   "outputs": [
    {
     "data": {
      "text/plain": [
       "combined(field=0.0, ramp_rate=10.0)"
      ]
     },
     "execution_count": 1,
     "metadata": {},
     "output_type": "execute_result"
    }
   ],
   "source": [
    "field.combined()"
   ]
  },
  {
   "cell_type": "markdown",
   "id": "consolidated-cooper",
   "metadata": {},
   "source": [
    "We can now also create a custom parameter that does a simple calculation based on the current parameters."
   ]
  },
  {
   "cell_type": "code",
   "execution_count": 16,
   "id": "designed-bloom",
   "metadata": {
    "execution": {
     "iopub.execute_input": "2021-05-21T08:38:59.484914Z",
     "iopub.status.busy": "2021-05-21T08:38:59.483908Z",
     "iopub.status.idle": "2021-05-21T08:38:59.487852Z",
     "shell.execute_reply": "2021-05-21T08:38:59.488862Z"
    }
   },
   "outputs": [],
   "source": [
    "import numpy as np\n",
    "\n",
    "def calculate_ramp_time(X, ramp_rate):\n",
    "    \"\"\"Calculate ramp time in seconds\"\"\"\n",
    "    dfield = np.abs(field.target_field - X)\n",
    "    return 60. * dfield/ramp_rate"
   ]
  },
  {
   "cell_type": "code",
   "execution_count": 17,
   "id": "disabled-logic",
   "metadata": {
    "execution": {
     "iopub.execute_input": "2021-05-21T08:38:59.493475Z",
     "iopub.status.busy": "2021-05-21T08:38:59.492735Z",
     "iopub.status.idle": "2021-05-21T08:38:59.496606Z",
     "shell.execute_reply": "2021-05-21T08:38:59.497421Z"
    },
    "scrolled": true
   },
   "outputs": [],
   "source": [
    "field._create_and_add_parameter(\n",
    "    group_name=\"ramp_time\",\n",
    "    station=station,\n",
    "    paths=[\"field_X.field\", \"field_X.ramp_rate\"],\n",
    "    formatter=calculate_ramp_time\n",
    ")"
   ]
  },
  {
   "cell_type": "code",
   "execution_count": 18,
   "id": "adverse-february",
   "metadata": {
    "execution": {
     "iopub.execute_input": "2021-05-21T08:38:59.502416Z",
     "iopub.status.busy": "2021-05-21T08:38:59.501809Z",
     "iopub.status.idle": "2021-05-21T08:38:59.506452Z",
     "shell.execute_reply": "2021-05-21T08:38:59.505929Z"
    }
   },
   "outputs": [
    {
     "data": {
      "text/plain": [
       "6.0"
      ]
     },
     "execution_count": 1,
     "metadata": {},
     "output_type": "execute_result"
    }
   ],
   "source": [
    "field.ramp_rate(1.0)\n",
    "field.target_field = 0.1\n",
    "field.ramp_time()"
   ]
  },
  {
   "cell_type": "code",
   "execution_count": 19,
   "id": "statutory-xerox",
   "metadata": {
    "execution": {
     "iopub.execute_input": "2021-05-21T08:38:59.510236Z",
     "iopub.status.busy": "2021-05-21T08:38:59.509638Z",
     "iopub.status.idle": "2021-05-21T08:38:59.513020Z",
     "shell.execute_reply": "2021-05-21T08:38:59.512566Z"
    }
   },
   "outputs": [],
   "source": [
    "field.X(0.1)"
   ]
  },
  {
   "cell_type": "code",
   "execution_count": 20,
   "id": "varying-auditor",
   "metadata": {
    "execution": {
     "iopub.execute_input": "2021-05-21T08:38:59.517273Z",
     "iopub.status.busy": "2021-05-21T08:38:59.516092Z",
     "iopub.status.idle": "2021-05-21T08:38:59.522813Z",
     "shell.execute_reply": "2021-05-21T08:38:59.522166Z"
    }
   },
   "outputs": [
    {
     "data": {
      "text/plain": [
       "5.9930195808410645"
      ]
     },
     "execution_count": 1,
     "metadata": {},
     "output_type": "execute_result"
    }
   ],
   "source": [
    "field.ramp_time()"
   ]
  },
  {
   "cell_type": "code",
   "execution_count": 21,
   "id": "chubby-nickel",
   "metadata": {
    "execution": {
     "iopub.execute_input": "2021-05-21T08:38:59.528116Z",
     "iopub.status.busy": "2021-05-21T08:38:59.527500Z",
     "iopub.status.idle": "2021-05-21T08:39:00.535976Z",
     "shell.execute_reply": "2021-05-21T08:39:00.534645Z"
    }
   },
   "outputs": [
    {
     "data": {
      "text/plain": [
       "4.980980396270753"
      ]
     },
     "execution_count": 1,
     "metadata": {},
     "output_type": "execute_result"
    }
   ],
   "source": [
    "import time\n",
    "time.sleep(1.)\n",
    "field.ramp_time()"
   ]
  },
  {
   "cell_type": "code",
   "execution_count": 22,
   "id": "italian-liberty",
   "metadata": {
    "execution": {
     "iopub.execute_input": "2021-05-21T08:39:00.541511Z",
     "iopub.status.busy": "2021-05-21T08:39:00.540737Z",
     "iopub.status.idle": "2021-05-21T08:39:01.547951Z",
     "shell.execute_reply": "2021-05-21T08:39:01.548510Z"
    }
   },
   "outputs": [
    {
     "data": {
      "text/plain": [
       "3.9677960872650155"
      ]
     },
     "execution_count": 1,
     "metadata": {},
     "output_type": "execute_result"
    }
   ],
   "source": [
    "import time\n",
    "time.sleep(1.)\n",
    "field.ramp_time()"
   ]
  },
  {
   "cell_type": "code",
   "execution_count": null,
   "id": "mobile-buffalo",
   "metadata": {},
   "outputs": [],
   "source": []
  }
 ],
 "metadata": {
  "kernelspec": {
   "display_name": "Python 3.7.9 64-bit ('qcodes': conda)",
   "name": "python379jvsc74a57bd01772f43cf92542b0c64f9621787c7542d65141a21c16e4e61ad35c3f481e9993"
  },
  "language_info": {
   "codemirror_mode": {
    "name": "ipython",
    "version": 3
   },
   "file_extension": ".py",
   "mimetype": "text/x-python",
   "name": "python",
   "nbconvert_exporter": "python",
   "pygments_lexer": "ipython3",
   "version": "3.7.10"
  }
 },
 "nbformat": 4,
 "nbformat_minor": 5
}
