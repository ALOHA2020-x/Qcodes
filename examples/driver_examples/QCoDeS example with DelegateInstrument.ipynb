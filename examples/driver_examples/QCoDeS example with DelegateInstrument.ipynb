{
 "cells": [
  {
   "cell_type": "markdown",
   "id": "plain-primary",
   "metadata": {},
   "source": [
    "# Qcodes example with DelegateInstrument driver\n",
    "\n",
    "This notebooks explains how to use the `DelegateInstrument` driver.\n",
    "\n",
    "## About\n",
    "The goal of the `DelegateInstrument` driver is to make it easier to combine different parameters together into a new \"virtual\" instrument. Each parameter on a `DelegateInstrument` can point to one or more parameters on other instruments in the station.\n",
    "\n",
    "## Usage\n",
    "The way it's used is mainly by specifying an entry in the station YAML. For instance, let's say you want to use a magnetic field coil. The driver has a method set_field(value, block), that by default is set to block=True, which means the field is ramped in a way that blocks further execution until the desired value is reached. However, let's say you are creating a measurement in which you want the parameter to be set, and while the value is ramping, you want to measure other parameters. This can be done by using `DelegateInstrument` and specifying a custom `setter` for the parameter that gets and sets the magnetic field.\n",
    "\n",
    "By default, each parameter is represented by a `DelegateParameter`. The `DelegateInstrument` also supports passing multiple source parameters to a given parameter. In order to do this, simply specify multiple parameters in the dictionary values  under the `parameters` key."
   ]
  },
  {
   "cell_type": "code",
   "execution_count": 1,
   "id": "sapphire-quebec",
   "metadata": {
    "execution": {
     "iopub.execute_input": "2021-05-25T07:09:12.050533Z",
     "iopub.status.busy": "2021-05-25T07:09:12.049797Z",
     "iopub.status.idle": "2021-05-25T07:09:12.053592Z",
     "shell.execute_reply": "2021-05-25T07:09:12.054143Z"
    }
   },
   "outputs": [
    {
     "name": "stdout",
     "output_type": "stream",
     "text": [
      "Writing example.yaml\n"
     ]
    }
   ],
   "source": [
    "%%writefile example.yaml\n",
    "\n",
    "instruments:\n",
    "  field_X:\n",
    "    type: qcodes.tests.instrument_mocks.MockField\n",
    "\n",
    "  field:\n",
    "    type: qcodes.instrument.delegate.DelegateInstrument\n",
    "    init:\n",
    "      parameters:\n",
    "        X:\n",
    "          - field_X.field\n",
    "        ramp_rate:\n",
    "          - field_X.ramp_rate\n",
    "        combined:\n",
    "          - field_X.field\n",
    "          - field_X.ramp_rate\n",
    "      set_initial_values_on_load: true\n",
    "      initial_values:\n",
    "        ramp_rate: 1.0\n",
    "      setters:\n",
    "        X:\n",
    "          method: field_X.set_field\n",
    "          block: false"
   ]
  },
  {
   "cell_type": "code",
   "execution_count": 2,
   "id": "younger-newspaper",
   "metadata": {
    "execution": {
     "iopub.execute_input": "2021-05-25T07:09:12.058541Z",
     "iopub.status.busy": "2021-05-25T07:09:12.057888Z",
     "iopub.status.idle": "2021-05-25T07:09:13.366065Z",
     "shell.execute_reply": "2021-05-25T07:09:13.366534Z"
    }
   },
   "outputs": [
    {
     "name": "stdout",
     "output_type": "stream",
     "text": [
      "Logging hadn't been started.\n",
      "Activating auto-logging. Current session state plus future input saved.\n",
      "Filename       : /home/runner/.qcodes/logs/command_history.log\n",
      "Mode           : append\n",
      "Output logging : True\n",
      "Raw input log  : False\n",
      "Timestamping   : True\n",
      "State          : active\n"
     ]
    },
    {
     "name": "stdout",
     "output_type": "stream",
     "text": [
      "Qcodes Logfile : /home/runner/.qcodes/logs/210525-9348-qcodes.log\n"
     ]
    }
   ],
   "source": [
    "import qcodes as qc"
   ]
  },
  {
   "cell_type": "code",
   "execution_count": 3,
   "id": "muslim-briefs",
   "metadata": {
    "execution": {
     "iopub.execute_input": "2021-05-25T07:09:13.379124Z",
     "iopub.status.busy": "2021-05-25T07:09:13.370267Z",
     "iopub.status.idle": "2021-05-25T07:09:13.385625Z",
     "shell.execute_reply": "2021-05-25T07:09:13.385142Z"
    }
   },
   "outputs": [],
   "source": [
    "station = qc.Station(config_file=\"example.yaml\")"
   ]
  },
  {
   "cell_type": "code",
   "execution_count": 4,
   "id": "greatest-antenna",
   "metadata": {
    "execution": {
     "iopub.execute_input": "2021-05-25T07:09:13.389922Z",
     "iopub.status.busy": "2021-05-25T07:09:13.389248Z",
     "iopub.status.idle": "2021-05-25T07:09:13.417422Z",
     "shell.execute_reply": "2021-05-25T07:09:13.416820Z"
    }
   },
   "outputs": [],
   "source": [
    "field_X = station.load_field_X()\n",
    "field = station.load_field(station=station)"
   ]
  },
  {
   "cell_type": "code",
   "execution_count": 5,
   "id": "every-playing",
   "metadata": {
    "execution": {
     "iopub.execute_input": "2021-05-25T07:09:13.428988Z",
     "iopub.status.busy": "2021-05-25T07:09:13.425320Z",
     "iopub.status.idle": "2021-05-25T07:09:13.431722Z",
     "shell.execute_reply": "2021-05-25T07:09:13.432309Z"
    }
   },
   "outputs": [
    {
     "data": {
      "text/plain": [
       "0.0"
      ]
     },
     "execution_count": 1,
     "metadata": {},
     "output_type": "execute_result"
    }
   ],
   "source": [
    "field.X()"
   ]
  },
  {
   "cell_type": "code",
   "execution_count": 6,
   "id": "undefined-worst",
   "metadata": {
    "execution": {
     "iopub.execute_input": "2021-05-25T07:09:13.438201Z",
     "iopub.status.busy": "2021-05-25T07:09:13.436735Z",
     "iopub.status.idle": "2021-05-25T07:09:13.438826Z",
     "shell.execute_reply": "2021-05-25T07:09:13.439303Z"
    }
   },
   "outputs": [],
   "source": [
    "field.X(1.)"
   ]
  },
  {
   "cell_type": "code",
   "execution_count": 7,
   "id": "recreational-suggestion",
   "metadata": {
    "execution": {
     "iopub.execute_input": "2021-05-25T07:09:13.444654Z",
     "iopub.status.busy": "2021-05-25T07:09:13.443566Z",
     "iopub.status.idle": "2021-05-25T07:09:13.447440Z",
     "shell.execute_reply": "2021-05-25T07:09:13.446891Z"
    }
   },
   "outputs": [
    {
     "data": {
      "text/plain": [
       "9.822448094685873e-05"
      ]
     },
     "execution_count": 1,
     "metadata": {},
     "output_type": "execute_result"
    }
   ],
   "source": [
    "field.X()"
   ]
  },
  {
   "cell_type": "code",
   "execution_count": 8,
   "id": "adopted-exchange",
   "metadata": {
    "execution": {
     "iopub.execute_input": "2021-05-25T07:09:13.453385Z",
     "iopub.status.busy": "2021-05-25T07:09:13.451549Z",
     "iopub.status.idle": "2021-05-25T07:09:13.456004Z",
     "shell.execute_reply": "2021-05-25T07:09:13.456597Z"
    }
   },
   "outputs": [
    {
     "data": {
      "text/plain": [
       "0.0002393484115600586"
      ]
     },
     "execution_count": 1,
     "metadata": {},
     "output_type": "execute_result"
    }
   ],
   "source": [
    "field.X()"
   ]
  },
  {
   "cell_type": "code",
   "execution_count": 9,
   "id": "bound-broadcasting",
   "metadata": {
    "execution": {
     "iopub.execute_input": "2021-05-25T07:09:13.462227Z",
     "iopub.status.busy": "2021-05-25T07:09:13.461180Z",
     "iopub.status.idle": "2021-05-25T07:09:13.464963Z",
     "shell.execute_reply": "2021-05-25T07:09:13.464434Z"
    }
   },
   "outputs": [
    {
     "data": {
      "text/plain": [
       "0.00039021968841552735"
      ]
     },
     "execution_count": 1,
     "metadata": {},
     "output_type": "execute_result"
    }
   ],
   "source": [
    "field.X()"
   ]
  },
  {
   "cell_type": "code",
   "execution_count": 10,
   "id": "casual-ghost",
   "metadata": {
    "execution": {
     "iopub.execute_input": "2021-05-25T07:09:13.470565Z",
     "iopub.status.busy": "2021-05-25T07:09:13.469464Z",
     "iopub.status.idle": "2021-05-25T07:09:13.473249Z",
     "shell.execute_reply": "2021-05-25T07:09:13.472606Z"
    }
   },
   "outputs": [
    {
     "data": {
      "text/plain": [
       "0.0005276560783386231"
      ]
     },
     "execution_count": 1,
     "metadata": {},
     "output_type": "execute_result"
    }
   ],
   "source": [
    "field.X()"
   ]
  },
  {
   "cell_type": "markdown",
   "id": "alike-process",
   "metadata": {},
   "source": [
    "As you can see, the field is now ramped in the background with the specified ramp rate. Now, let's try to create a measurement that uses this ability, and ramps the field in the background while measuring:"
   ]
  },
  {
   "cell_type": "code",
   "execution_count": 11,
   "id": "sustained-tiger",
   "metadata": {
    "execution": {
     "iopub.execute_input": "2021-05-25T07:09:13.477039Z",
     "iopub.status.busy": "2021-05-25T07:09:13.476363Z",
     "iopub.status.idle": "2021-05-25T07:09:13.482991Z",
     "shell.execute_reply": "2021-05-25T07:09:13.482484Z"
    }
   },
   "outputs": [],
   "source": [
    "field.ramp_rate(10.)\n",
    "field_X.field(0.0)"
   ]
  },
  {
   "cell_type": "code",
   "execution_count": 12,
   "id": "pharmaceutical-partition",
   "metadata": {
    "execution": {
     "iopub.execute_input": "2021-05-25T07:09:13.489492Z",
     "iopub.status.busy": "2021-05-25T07:09:13.488382Z",
     "iopub.status.idle": "2021-05-25T07:09:13.491864Z",
     "shell.execute_reply": "2021-05-25T07:09:13.491305Z"
    }
   },
   "outputs": [
    {
     "data": {
      "text/plain": [
       "0.0"
      ]
     },
     "execution_count": 1,
     "metadata": {},
     "output_type": "execute_result"
    }
   ],
   "source": [
    "field.X()"
   ]
  },
  {
   "cell_type": "code",
   "execution_count": 13,
   "id": "happy-ordinance",
   "metadata": {
    "execution": {
     "iopub.execute_input": "2021-05-25T07:09:13.497268Z",
     "iopub.status.busy": "2021-05-25T07:09:13.496620Z",
     "iopub.status.idle": "2021-05-25T07:09:14.717457Z",
     "shell.execute_reply": "2021-05-25T07:09:14.717949Z"
    }
   },
   "outputs": [
    {
     "name": "stdout",
     "output_type": "stream",
     "text": [
      "Starting experimental run with id: 56. \n"
     ]
    }
   ],
   "source": [
    "import time\n",
    "meas = qc.Measurement(station=station)\n",
    "meas.register_parameter(field.X)\n",
    "\n",
    "with meas.run() as datasaver:\n",
    "    for B in [0.1, 0.0]:\n",
    "        field.X(B)\n",
    "        while field.X() != B:\n",
    "            datasaver.add_result((field.X, field.X()))\n",
    "            time.sleep(0.01)\n",
    "    datasaver.flush_data_to_database()"
   ]
  },
  {
   "cell_type": "code",
   "execution_count": 14,
   "id": "short-medium",
   "metadata": {
    "execution": {
     "iopub.execute_input": "2021-05-25T07:09:14.722303Z",
     "iopub.status.busy": "2021-05-25T07:09:14.721481Z",
     "iopub.status.idle": "2021-05-25T07:09:15.164997Z",
     "shell.execute_reply": "2021-05-25T07:09:15.165465Z"
    }
   },
   "outputs": [
    {
     "data": {
      "text/plain": [
       "<AxesSubplot:>"
      ]
     },
     "execution_count": 1,
     "metadata": {},
     "output_type": "execute_result"
    },
    {
     "data": {
      "image/png": "[encoded data removed]",
      "text/plain": [
       "<Figure size 432x288 with 1 Axes>"
      ]
     },
     "metadata": {
      "needs_background": "light"
     },
     "output_type": "display_data"
    }
   ],
   "source": [
    "datasaver.dataset.to_pandas_dataframe().plot()"
   ]
  },
  {
   "cell_type": "markdown",
   "id": "incomplete-vietnamese",
   "metadata": {},
   "source": [
    "When specifying multiple source parameters on a given parameter, the grouped parameter will automatically return a `namedtuple` that returns both values."
   ]
  },
  {
   "cell_type": "code",
   "execution_count": 15,
   "id": "dangerous-finder",
   "metadata": {
    "execution": {
     "iopub.execute_input": "2021-05-25T07:09:15.171282Z",
     "iopub.status.busy": "2021-05-25T07:09:15.170715Z",
     "iopub.status.idle": "2021-05-25T07:09:15.176822Z",
     "shell.execute_reply": "2021-05-25T07:09:15.176254Z"
    }
   },
   "outputs": [
    {
     "data": {
      "text/plain": [
       "combined(field=0.0, ramp_rate=10.0)"
      ]
     },
     "execution_count": 1,
     "metadata": {},
     "output_type": "execute_result"
    }
   ],
   "source": [
    "field.combined()"
   ]
  },
  {
   "cell_type": "markdown",
   "id": "consolidated-cooper",
   "metadata": {},
   "source": [
    "We can now also create a custom parameter that does a simple calculation based on the current parameters."
   ]
  },
  {
   "cell_type": "code",
   "execution_count": 16,
   "id": "designed-bloom",
   "metadata": {
    "execution": {
     "iopub.execute_input": "2021-05-25T07:09:15.182446Z",
     "iopub.status.busy": "2021-05-25T07:09:15.181752Z",
     "iopub.status.idle": "2021-05-25T07:09:15.185283Z",
     "shell.execute_reply": "2021-05-25T07:09:15.185736Z"
    }
   },
   "outputs": [],
   "source": [
    "import numpy as np\n",
    "\n",
    "def calculate_ramp_time(X, ramp_rate):\n",
    "    \"\"\"Calculate ramp time in seconds\"\"\"\n",
    "    dfield = np.abs(field.target_field - X)\n",
    "    return 60. * dfield/ramp_rate"
   ]
  },
  {
   "cell_type": "code",
   "execution_count": 17,
   "id": "disabled-logic",
   "metadata": {
    "execution": {
     "iopub.execute_input": "2021-05-25T07:09:15.190045Z",
     "iopub.status.busy": "2021-05-25T07:09:15.189459Z",
     "iopub.status.idle": "2021-05-25T07:09:15.193535Z",
     "shell.execute_reply": "2021-05-25T07:09:15.192808Z"
    },
    "scrolled": true
   },
   "outputs": [],
   "source": [
    "field._create_and_add_parameter(\n",
    "    group_name=\"ramp_time\",\n",
    "    station=station,\n",
    "    paths=[\"field_X.field\", \"field_X.ramp_rate\"],\n",
    "    formatter=calculate_ramp_time\n",
    ")"
   ]
  },
  {
   "cell_type": "code",
   "execution_count": 18,
   "id": "adverse-february",
   "metadata": {
    "execution": {
     "iopub.execute_input": "2021-05-25T07:09:15.199599Z",
     "iopub.status.busy": "2021-05-25T07:09:15.198761Z",
     "iopub.status.idle": "2021-05-25T07:09:15.202333Z",
     "shell.execute_reply": "2021-05-25T07:09:15.202800Z"
    }
   },
   "outputs": [
    {
     "data": {
      "text/plain": [
       "6.0"
      ]
     },
     "execution_count": 1,
     "metadata": {},
     "output_type": "execute_result"
    }
   ],
   "source": [
    "field.ramp_rate(1.0)\n",
    "field.target_field = 0.1\n",
    "field.ramp_time()"
   ]
  },
  {
   "cell_type": "code",
   "execution_count": 19,
   "id": "statutory-xerox",
   "metadata": {
    "execution": {
     "iopub.execute_input": "2021-05-25T07:09:15.206527Z",
     "iopub.status.busy": "2021-05-25T07:09:15.205972Z",
     "iopub.status.idle": "2021-05-25T07:09:15.208780Z",
     "shell.execute_reply": "2021-05-25T07:09:15.208168Z"
    }
   },
   "outputs": [],
   "source": [
    "field.X(0.1)"
   ]
  },
  {
   "cell_type": "code",
   "execution_count": 20,
   "id": "varying-auditor",
   "metadata": {
    "execution": {
     "iopub.execute_input": "2021-05-25T07:09:15.214769Z",
     "iopub.status.busy": "2021-05-25T07:09:15.213665Z",
     "iopub.status.idle": "2021-05-25T07:09:15.216654Z",
     "shell.execute_reply": "2021-05-25T07:09:15.217147Z"
    }
   },
   "outputs": [
    {
     "data": {
      "text/plain": [
       "5.994067668914795"
      ]
     },
     "execution_count": 1,
     "metadata": {},
     "output_type": "execute_result"
    }
   ],
   "source": [
    "field.ramp_time()"
   ]
  },
  {
   "cell_type": "code",
   "execution_count": 21,
   "id": "chubby-nickel",
   "metadata": {
    "execution": {
     "iopub.execute_input": "2021-05-25T07:09:15.221410Z",
     "iopub.status.busy": "2021-05-25T07:09:15.220734Z",
     "iopub.status.idle": "2021-05-25T07:09:16.227040Z",
     "shell.execute_reply": "2021-05-25T07:09:16.226277Z"
    }
   },
   "outputs": [
    {
     "data": {
      "text/plain": [
       "4.985286951065064"
      ]
     },
     "execution_count": 1,
     "metadata": {},
     "output_type": "execute_result"
    }
   ],
   "source": [
    "import time\n",
    "time.sleep(1.)\n",
    "field.ramp_time()"
   ]
  },
  {
   "cell_type": "code",
   "execution_count": 22,
   "id": "italian-liberty",
   "metadata": {
    "execution": {
     "iopub.execute_input": "2021-05-25T07:09:16.232018Z",
     "iopub.status.busy": "2021-05-25T07:09:16.231173Z",
     "iopub.status.idle": "2021-05-25T07:09:17.239302Z",
     "shell.execute_reply": "2021-05-25T07:09:17.238154Z"
    }
   },
   "outputs": [
    {
     "data": {
      "text/plain": [
       "3.9737765789031987"
      ]
     },
     "execution_count": 1,
     "metadata": {},
     "output_type": "execute_result"
    }
   ],
   "source": [
    "import time\n",
    "time.sleep(1.)\n",
    "field.ramp_time()"
   ]
  },
  {
   "cell_type": "code",
   "execution_count": null,
   "id": "mobile-buffalo",
   "metadata": {},
   "outputs": [],
   "source": []
  }
 ],
 "metadata": {
  "kernelspec": {
   "display_name": "Python 3.7.9 64-bit ('qcodes': conda)",
   "name": "python379jvsc74a57bd01772f43cf92542b0c64f9621787c7542d65141a21c16e4e61ad35c3f481e9993"
  },
  "language_info": {
   "codemirror_mode": {
    "name": "ipython",
    "version": 3
   },
   "file_extension": ".py",
   "mimetype": "text/x-python",
   "name": "python",
   "nbconvert_exporter": "python",
   "pygments_lexer": "ipython3",
   "version": "3.7.10"
  }
 },
 "nbformat": 4,
 "nbformat_minor": 5
}
