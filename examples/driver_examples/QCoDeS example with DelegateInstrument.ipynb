{
 "cells": [
  {
   "cell_type": "markdown",
   "id": "plain-primary",
   "metadata": {},
   "source": [
    "# Qcodes example with DelegateInstrument driver\n",
    "\n",
    "This notebooks explains how to use the `DelegateInstrument` driver.\n",
    "\n",
    "## About\n",
    "The goal of the `DelegateInstrument` driver is to make it easier to combine different parameters together into a new \"virtual\" instrument. Each parameter on a `DelegateInstrument` can point to one or more parameters on other instruments in the station.\n",
    "\n",
    "## Usage\n",
    "The way it's used is mainly by specifying an entry in the station YAML. For instance, let's say you want to use a magnetic field coil. The driver has a method set_field(value, block), that by default is set to block=True, which means the field is ramped in a way that blocks further execution until the desired value is reached. However, let's say you are creating a measurement in which you want the parameter to be set, and while the value is ramping, you want to measure other parameters. This can be done by using `DelegateInstrument` and specifying a custom `setter` for the parameter that gets and sets the magnetic field.\n",
    "\n",
    "By default, each parameter is represented by a `DelegateParameter`. The `DelegateInstrument` also supports passing multiple source parameters to a given parameter. In order to do this, simply specify multiple parameters in the dictionary values  under the `parameters` key."
   ]
  },
  {
   "cell_type": "code",
   "execution_count": 1,
   "id": "sapphire-quebec",
   "metadata": {
    "execution": {
     "iopub.execute_input": "2021-05-17T08:21:04.168493Z",
     "iopub.status.busy": "2021-05-17T08:21:04.167942Z",
     "iopub.status.idle": "2021-05-17T08:21:04.176474Z",
     "shell.execute_reply": "2021-05-17T08:21:04.176876Z"
    }
   },
   "outputs": [
    {
     "name": "stdout",
     "output_type": "stream",
     "text": [
      "Writing example.yaml\n"
     ]
    }
   ],
   "source": [
    "%%writefile example.yaml\n",
    "\n",
    "instruments:\n",
    "  field_X:\n",
    "    type: qcodes.tests.instrument_mocks.MockField\n",
    "\n",
    "  field:\n",
    "    type: qcodes.instrument.delegate.DelegateInstrument\n",
    "    init:\n",
    "      parameters:\n",
    "        X:\n",
    "          - field_X.field\n",
    "        ramp_rate:\n",
    "          - field_X.ramp_rate\n",
    "        combined:\n",
    "          - field_X.field\n",
    "          - field_X.ramp_rate\n",
    "      set_initial_values_on_load: true\n",
    "      initial_values:\n",
    "        ramp_rate: 1.0\n",
    "      setters:\n",
    "        X:\n",
    "          method: field_X.set_field\n",
    "          block: false"
   ]
  },
  {
   "cell_type": "code",
   "execution_count": 2,
   "id": "younger-newspaper",
   "metadata": {
    "execution": {
     "iopub.execute_input": "2021-05-17T08:21:04.180073Z",
     "iopub.status.busy": "2021-05-17T08:21:04.179586Z",
     "iopub.status.idle": "2021-05-17T08:21:05.255409Z",
     "shell.execute_reply": "2021-05-17T08:21:05.254874Z"
    }
   },
   "outputs": [
    {
     "name": "stdout",
     "output_type": "stream",
     "text": [
      "Logging hadn't been started.\n",
      "Activating auto-logging. Current session state plus future input saved.\n",
      "Filename       : /home/runner/.qcodes/logs/command_history.log\n",
      "Mode           : append\n",
      "Output logging : True\n",
      "Raw input log  : False\n",
      "Timestamping   : True\n",
      "State          : active\n"
     ]
    },
    {
     "name": "stdout",
     "output_type": "stream",
     "text": [
      "Qcodes Logfile : /home/runner/.qcodes/logs/210517-9318-qcodes.log\n"
     ]
    }
   ],
   "source": [
    "import qcodes as qc"
   ]
  },
  {
   "cell_type": "code",
   "execution_count": 3,
   "id": "muslim-briefs",
   "metadata": {
    "execution": {
     "iopub.execute_input": "2021-05-17T08:21:05.265845Z",
     "iopub.status.busy": "2021-05-17T08:21:05.258728Z",
     "iopub.status.idle": "2021-05-17T08:21:05.271561Z",
     "shell.execute_reply": "2021-05-17T08:21:05.271042Z"
    }
   },
   "outputs": [],
   "source": [
    "station = qc.Station(config_file=\"example.yaml\")"
   ]
  },
  {
   "cell_type": "code",
   "execution_count": 4,
   "id": "greatest-antenna",
   "metadata": {
    "execution": {
     "iopub.execute_input": "2021-05-17T08:21:05.274993Z",
     "iopub.status.busy": "2021-05-17T08:21:05.274448Z",
     "iopub.status.idle": "2021-05-17T08:21:05.298519Z",
     "shell.execute_reply": "2021-05-17T08:21:05.298011Z"
    }
   },
   "outputs": [],
   "source": [
    "field_X = station.load_field_X()\n",
    "field = station.load_field(station=station)"
   ]
  },
  {
   "cell_type": "code",
   "execution_count": 5,
   "id": "every-playing",
   "metadata": {
    "execution": {
     "iopub.execute_input": "2021-05-17T08:21:05.308882Z",
     "iopub.status.busy": "2021-05-17T08:21:05.307964Z",
     "iopub.status.idle": "2021-05-17T08:21:05.311406Z",
     "shell.execute_reply": "2021-05-17T08:21:05.310966Z"
    }
   },
   "outputs": [
    {
     "data": {
      "text/plain": [
       "0.0"
      ]
     },
     "execution_count": 1,
     "metadata": {},
     "output_type": "execute_result"
    }
   ],
   "source": [
    "field.X()"
   ]
  },
  {
   "cell_type": "code",
   "execution_count": 6,
   "id": "undefined-worst",
   "metadata": {
    "execution": {
     "iopub.execute_input": "2021-05-17T08:21:05.315535Z",
     "iopub.status.busy": "2021-05-17T08:21:05.314472Z",
     "iopub.status.idle": "2021-05-17T08:21:05.316098Z",
     "shell.execute_reply": "2021-05-17T08:21:05.316493Z"
    }
   },
   "outputs": [],
   "source": [
    "field.X(1.)"
   ]
  },
  {
   "cell_type": "code",
   "execution_count": 7,
   "id": "recreational-suggestion",
   "metadata": {
    "execution": {
     "iopub.execute_input": "2021-05-17T08:21:05.319778Z",
     "iopub.status.busy": "2021-05-17T08:21:05.319287Z",
     "iopub.status.idle": "2021-05-17T08:21:05.324139Z",
     "shell.execute_reply": "2021-05-17T08:21:05.323723Z"
    }
   },
   "outputs": [
    {
     "data": {
      "text/plain": [
       "8.209943771362305e-05"
      ]
     },
     "execution_count": 1,
     "metadata": {},
     "output_type": "execute_result"
    }
   ],
   "source": [
    "field.X()"
   ]
  },
  {
   "cell_type": "code",
   "execution_count": 8,
   "id": "adopted-exchange",
   "metadata": {
    "execution": {
     "iopub.execute_input": "2021-05-17T08:21:05.327364Z",
     "iopub.status.busy": "2021-05-17T08:21:05.326884Z",
     "iopub.status.idle": "2021-05-17T08:21:05.331361Z",
     "shell.execute_reply": "2021-05-17T08:21:05.330852Z"
    }
   },
   "outputs": [
    {
     "data": {
      "text/plain": [
       "0.00021047989527384441"
      ]
     },
     "execution_count": 1,
     "metadata": {},
     "output_type": "execute_result"
    }
   ],
   "source": [
    "field.X()"
   ]
  },
  {
   "cell_type": "code",
   "execution_count": 9,
   "id": "bound-broadcasting",
   "metadata": {
    "execution": {
     "iopub.execute_input": "2021-05-17T08:21:05.335438Z",
     "iopub.status.busy": "2021-05-17T08:21:05.334942Z",
     "iopub.status.idle": "2021-05-17T08:21:05.337360Z",
     "shell.execute_reply": "2021-05-17T08:21:05.337757Z"
    }
   },
   "outputs": [
    {
     "data": {
      "text/plain": [
       "0.00033071438471476234"
      ]
     },
     "execution_count": 1,
     "metadata": {},
     "output_type": "execute_result"
    }
   ],
   "source": [
    "field.X()"
   ]
  },
  {
   "cell_type": "code",
   "execution_count": 10,
   "id": "casual-ghost",
   "metadata": {
    "execution": {
     "iopub.execute_input": "2021-05-17T08:21:05.341066Z",
     "iopub.status.busy": "2021-05-17T08:21:05.340553Z",
     "iopub.status.idle": "2021-05-17T08:21:05.343874Z",
     "shell.execute_reply": "2021-05-17T08:21:05.343446Z"
    }
   },
   "outputs": [
    {
     "data": {
      "text/plain": [
       "0.0004370411237080892"
      ]
     },
     "execution_count": 1,
     "metadata": {},
     "output_type": "execute_result"
    }
   ],
   "source": [
    "field.X()"
   ]
  },
  {
   "cell_type": "markdown",
   "id": "alike-process",
   "metadata": {},
   "source": [
    "As you can see, the field is now ramped in the background with the specified ramp rate. Now, let's try to create a measurement that uses this ability, and ramps the field in the background while measuring:"
   ]
  },
  {
   "cell_type": "code",
   "execution_count": 11,
   "id": "sustained-tiger",
   "metadata": {
    "execution": {
     "iopub.execute_input": "2021-05-17T08:21:05.346956Z",
     "iopub.status.busy": "2021-05-17T08:21:05.346476Z",
     "iopub.status.idle": "2021-05-17T08:21:05.351573Z",
     "shell.execute_reply": "2021-05-17T08:21:05.351161Z"
    }
   },
   "outputs": [],
   "source": [
    "field.ramp_rate(10.)\n",
    "field_X.field(0.0)"
   ]
  },
  {
   "cell_type": "code",
   "execution_count": 12,
   "id": "pharmaceutical-partition",
   "metadata": {
    "execution": {
     "iopub.execute_input": "2021-05-17T08:21:05.354659Z",
     "iopub.status.busy": "2021-05-17T08:21:05.354176Z",
     "iopub.status.idle": "2021-05-17T08:21:05.357079Z",
     "shell.execute_reply": "2021-05-17T08:21:05.356624Z"
    }
   },
   "outputs": [
    {
     "data": {
      "text/plain": [
       "0.0"
      ]
     },
     "execution_count": 1,
     "metadata": {},
     "output_type": "execute_result"
    }
   ],
   "source": [
    "field.X()"
   ]
  },
  {
   "cell_type": "code",
   "execution_count": 13,
   "id": "happy-ordinance",
   "metadata": {
    "execution": {
     "iopub.execute_input": "2021-05-17T08:21:05.362200Z",
     "iopub.status.busy": "2021-05-17T08:21:05.361492Z",
     "iopub.status.idle": "2021-05-17T08:21:06.592574Z",
     "shell.execute_reply": "2021-05-17T08:21:06.592064Z"
    }
   },
   "outputs": [
    {
     "name": "stdout",
     "output_type": "stream",
     "text": [
      "Starting experimental run with id: 56. \n"
     ]
    }
   ],
   "source": [
    "import time\n",
    "meas = qc.Measurement(station=station)\n",
    "meas.register_parameter(field.X)\n",
    "\n",
    "with meas.run() as datasaver:\n",
    "    for B in [0.1, 0.0]:\n",
    "        field.X(B)\n",
    "        while field.X() != B:\n",
    "            datasaver.add_result((field.X, field.X()))\n",
    "            time.sleep(0.01)\n",
    "    datasaver.flush_data_to_database()"
   ]
  },
  {
   "cell_type": "code",
   "execution_count": 14,
   "id": "short-medium",
   "metadata": {
    "execution": {
     "iopub.execute_input": "2021-05-17T08:21:06.596637Z",
     "iopub.status.busy": "2021-05-17T08:21:06.595904Z",
     "iopub.status.idle": "2021-05-17T08:21:06.969621Z",
     "shell.execute_reply": "2021-05-17T08:21:06.969150Z"
    }
   },
   "outputs": [
    {
     "data": {
      "text/plain": [
       "<AxesSubplot:>"
      ]
     },
     "execution_count": 1,
     "metadata": {},
     "output_type": "execute_result"
    },
    {
     "data": {
      "image/png": "[encoded data removed]",
      "text/plain": [
       "<Figure size 432x288 with 1 Axes>"
      ]
     },
     "metadata": {
      "needs_background": "light"
     },
     "output_type": "display_data"
    }
   ],
   "source": [
    "datasaver.dataset.to_pandas_dataframe().plot()"
   ]
  },
  {
   "cell_type": "markdown",
   "id": "incomplete-vietnamese",
   "metadata": {},
   "source": [
    "When specifying multiple source parameters on a given parameter, the grouped parameter will automatically return a `namedtuple` that returns both values."
   ]
  },
  {
   "cell_type": "code",
   "execution_count": 15,
   "id": "dangerous-finder",
   "metadata": {
    "execution": {
     "iopub.execute_input": "2021-05-17T08:21:06.973967Z",
     "iopub.status.busy": "2021-05-17T08:21:06.973474Z",
     "iopub.status.idle": "2021-05-17T08:21:06.978213Z",
     "shell.execute_reply": "2021-05-17T08:21:06.977775Z"
    }
   },
   "outputs": [
    {
     "data": {
      "text/plain": [
       "combined(field=0.0, ramp_rate=10.0)"
      ]
     },
     "execution_count": 1,
     "metadata": {},
     "output_type": "execute_result"
    }
   ],
   "source": [
    "field.combined()"
   ]
  },
  {
   "cell_type": "markdown",
   "id": "consolidated-cooper",
   "metadata": {},
   "source": [
    "We can now also create a custom parameter that does a simple calculation based on the current parameters."
   ]
  },
  {
   "cell_type": "code",
   "execution_count": 16,
   "id": "designed-bloom",
   "metadata": {
    "execution": {
     "iopub.execute_input": "2021-05-17T08:21:06.982531Z",
     "iopub.status.busy": "2021-05-17T08:21:06.982040Z",
     "iopub.status.idle": "2021-05-17T08:21:06.985251Z",
     "shell.execute_reply": "2021-05-17T08:21:06.984809Z"
    }
   },
   "outputs": [],
   "source": [
    "import numpy as np\n",
    "\n",
    "def calculate_ramp_time(X, ramp_rate):\n",
    "    \"\"\"Calculate ramp time in seconds\"\"\"\n",
    "    dfield = np.abs(field.target_field - X)\n",
    "    return 60. * dfield/ramp_rate"
   ]
  },
  {
   "cell_type": "code",
   "execution_count": 17,
   "id": "disabled-logic",
   "metadata": {
    "execution": {
     "iopub.execute_input": "2021-05-17T08:21:06.989086Z",
     "iopub.status.busy": "2021-05-17T08:21:06.988567Z",
     "iopub.status.idle": "2021-05-17T08:21:06.991935Z",
     "shell.execute_reply": "2021-05-17T08:21:06.991504Z"
    },
    "scrolled": true
   },
   "outputs": [],
   "source": [
    "field._create_and_add_parameter(\n",
    "    group_name=\"ramp_time\",\n",
    "    station=station,\n",
    "    paths=[\"field_X.field\", \"field_X.ramp_rate\"],\n",
    "    formatter=calculate_ramp_time\n",
    ")"
   ]
  },
  {
   "cell_type": "code",
   "execution_count": 18,
   "id": "adverse-february",
   "metadata": {
    "execution": {
     "iopub.execute_input": "2021-05-17T08:21:06.996023Z",
     "iopub.status.busy": "2021-05-17T08:21:06.995251Z",
     "iopub.status.idle": "2021-05-17T08:21:07.000118Z",
     "shell.execute_reply": "2021-05-17T08:21:06.999681Z"
    }
   },
   "outputs": [
    {
     "data": {
      "text/plain": [
       "6.0"
      ]
     },
     "execution_count": 1,
     "metadata": {},
     "output_type": "execute_result"
    }
   ],
   "source": [
    "field.ramp_rate(1.0)\n",
    "field.target_field = 0.1\n",
    "field.ramp_time()"
   ]
  },
  {
   "cell_type": "code",
   "execution_count": 19,
   "id": "statutory-xerox",
   "metadata": {
    "execution": {
     "iopub.execute_input": "2021-05-17T08:21:07.003542Z",
     "iopub.status.busy": "2021-05-17T08:21:07.003062Z",
     "iopub.status.idle": "2021-05-17T08:21:07.006208Z",
     "shell.execute_reply": "2021-05-17T08:21:07.005785Z"
    }
   },
   "outputs": [],
   "source": [
    "field.X(0.1)"
   ]
  },
  {
   "cell_type": "code",
   "execution_count": 20,
   "id": "varying-auditor",
   "metadata": {
    "execution": {
     "iopub.execute_input": "2021-05-17T08:21:07.009913Z",
     "iopub.status.busy": "2021-05-17T08:21:07.009426Z",
     "iopub.status.idle": "2021-05-17T08:21:07.013811Z",
     "shell.execute_reply": "2021-05-17T08:21:07.014183Z"
    }
   },
   "outputs": [
    {
     "data": {
      "text/plain": [
       "5.993974208831787"
      ]
     },
     "execution_count": 1,
     "metadata": {},
     "output_type": "execute_result"
    }
   ],
   "source": [
    "field.ramp_time()"
   ]
  },
  {
   "cell_type": "code",
   "execution_count": 21,
   "id": "chubby-nickel",
   "metadata": {
    "execution": {
     "iopub.execute_input": "2021-05-17T08:21:07.017283Z",
     "iopub.status.busy": "2021-05-17T08:21:07.016795Z",
     "iopub.status.idle": "2021-05-17T08:21:08.022836Z",
     "shell.execute_reply": "2021-05-17T08:21:08.023247Z"
    }
   },
   "outputs": [
    {
     "data": {
      "text/plain": [
       "4.98526954650879"
      ]
     },
     "execution_count": 1,
     "metadata": {},
     "output_type": "execute_result"
    }
   ],
   "source": [
    "import time\n",
    "time.sleep(1.)\n",
    "field.ramp_time()"
   ]
  },
  {
   "cell_type": "code",
   "execution_count": 22,
   "id": "italian-liberty",
   "metadata": {
    "execution": {
     "iopub.execute_input": "2021-05-17T08:21:08.026648Z",
     "iopub.status.busy": "2021-05-17T08:21:08.026166Z",
     "iopub.status.idle": "2021-05-17T08:21:09.031376Z",
     "shell.execute_reply": "2021-05-17T08:21:09.031811Z"
    }
   },
   "outputs": [
    {
     "data": {
      "text/plain": [
       "3.9754142761230473"
      ]
     },
     "execution_count": 1,
     "metadata": {},
     "output_type": "execute_result"
    }
   ],
   "source": [
    "import time\n",
    "time.sleep(1.)\n",
    "field.ramp_time()"
   ]
  },
  {
   "cell_type": "code",
   "execution_count": null,
   "id": "mobile-buffalo",
   "metadata": {},
   "outputs": [],
   "source": []
  }
 ],
 "metadata": {
  "kernelspec": {
   "display_name": "Python 3.7.9 64-bit ('qcodes': conda)",
   "name": "python379jvsc74a57bd01772f43cf92542b0c64f9621787c7542d65141a21c16e4e61ad35c3f481e9993"
  },
  "language_info": {
   "codemirror_mode": {
    "name": "ipython",
    "version": 3
   },
   "file_extension": ".py",
   "mimetype": "text/x-python",
   "name": "python",
   "nbconvert_exporter": "python",
   "pygments_lexer": "ipython3",
   "version": "3.7.10"
  }
 },
 "nbformat": 4,
 "nbformat_minor": 5
}
