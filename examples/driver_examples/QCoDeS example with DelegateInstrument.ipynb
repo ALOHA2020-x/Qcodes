{
 "cells": [
  {
   "cell_type": "markdown",
   "id": "plain-primary",
   "metadata": {},
   "source": [
    "# Qcodes example with DelegateInstrument driver\n",
    "\n",
    "This notebooks explains how to use the `DelegateInstrument` driver.\n",
    "\n",
    "## About\n",
    "The goal of the `DelegateInstrument` driver is to make it easier to combine different parameters together into a new \"virtual\" instrument. Each parameter on a `DelegateInstrument` can point to one or more parameters on other instruments in the station.\n",
    "\n",
    "## Usage\n",
    "The way it's used is mainly by specifying an entry in the station YAML. For instance, let's say you want to use a magnetic field coil. The driver has a method set_field(value, block), that by default is set to block=True, which means the field is ramped in a way that blocks further execution until the desired value is reached. However, let's say you are creating a measurement in which you want the parameter to be set, and while the value is ramping, you want to measure other parameters. This can be done by using `DelegateInstrument` and specifying a custom `setter` for the parameter that gets and sets the magnetic field.\n",
    "\n",
    "By default, each parameter is represented by a `DelegateParameter`. The `DelegateInstrument` also supports passing multiple source parameters to a given parameter. In order to do this, simply specify multiple parameters in the dictionary values  under the `parameters` key."
   ]
  },
  {
   "cell_type": "code",
   "execution_count": 1,
   "id": "sapphire-quebec",
   "metadata": {
    "execution": {
     "iopub.execute_input": "2021-05-12T07:26:35.825628Z",
     "iopub.status.busy": "2021-05-12T07:26:35.822847Z",
     "iopub.status.idle": "2021-05-12T07:26:35.840267Z",
     "shell.execute_reply": "2021-05-12T07:26:35.840797Z"
    }
   },
   "outputs": [
    {
     "name": "stdout",
     "output_type": "stream",
     "text": [
      "Writing example.yaml\n"
     ]
    }
   ],
   "source": [
    "%%writefile example.yaml\n",
    "\n",
    "instruments:\n",
    "  field_X:\n",
    "    type: qcodes.tests.instrument_mocks.MockField\n",
    "\n",
    "  field:\n",
    "    type: qcodes.instrument.delegate.DelegateInstrument\n",
    "    init:\n",
    "      parameters:\n",
    "        X:\n",
    "          - field_X.field\n",
    "        ramp_rate:\n",
    "          - field_X.ramp_rate\n",
    "        combined:\n",
    "          - field_X.field\n",
    "          - field_X.ramp_rate\n",
    "      set_initial_values_on_load: true\n",
    "      initial_values:\n",
    "        ramp_rate: 1.0\n",
    "      setters:\n",
    "        X:\n",
    "          method: field_X.set_field\n",
    "          block: false"
   ]
  },
  {
   "cell_type": "code",
   "execution_count": 2,
   "id": "younger-newspaper",
   "metadata": {
    "execution": {
     "iopub.execute_input": "2021-05-12T07:26:35.845419Z",
     "iopub.status.busy": "2021-05-12T07:26:35.844681Z",
     "iopub.status.idle": "2021-05-12T07:26:37.115381Z",
     "shell.execute_reply": "2021-05-12T07:26:37.115825Z"
    }
   },
   "outputs": [
    {
     "name": "stdout",
     "output_type": "stream",
     "text": [
      "Logging hadn't been started.\n",
      "Activating auto-logging. Current session state plus future input saved.\n",
      "Filename       : /home/runner/.qcodes/logs/command_history.log\n",
      "Mode           : append\n",
      "Output logging : True\n",
      "Raw input log  : False\n",
      "Timestamping   : True\n",
      "State          : active\n"
     ]
    },
    {
     "name": "stdout",
     "output_type": "stream",
     "text": [
      "Qcodes Logfile : /home/runner/.qcodes/logs/210512-9414-qcodes.log\n"
     ]
    }
   ],
   "source": [
    "import qcodes as qc"
   ]
  },
  {
   "cell_type": "code",
   "execution_count": 3,
   "id": "muslim-briefs",
   "metadata": {
    "execution": {
     "iopub.execute_input": "2021-05-12T07:26:37.129838Z",
     "iopub.status.busy": "2021-05-12T07:26:37.119967Z",
     "iopub.status.idle": "2021-05-12T07:26:37.137689Z",
     "shell.execute_reply": "2021-05-12T07:26:37.137045Z"
    }
   },
   "outputs": [],
   "source": [
    "station = qc.Station(config_file=\"example.yaml\")"
   ]
  },
  {
   "cell_type": "code",
   "execution_count": 4,
   "id": "greatest-antenna",
   "metadata": {
    "execution": {
     "iopub.execute_input": "2021-05-12T07:26:37.146847Z",
     "iopub.status.busy": "2021-05-12T07:26:37.141437Z",
     "iopub.status.idle": "2021-05-12T07:26:37.173588Z",
     "shell.execute_reply": "2021-05-12T07:26:37.173076Z"
    }
   },
   "outputs": [],
   "source": [
    "field_X = station.load_field_X()\n",
    "field = station.load_field(station=station)"
   ]
  },
  {
   "cell_type": "code",
   "execution_count": 5,
   "id": "every-playing",
   "metadata": {
    "execution": {
     "iopub.execute_input": "2021-05-12T07:26:37.185251Z",
     "iopub.status.busy": "2021-05-12T07:26:37.184702Z",
     "iopub.status.idle": "2021-05-12T07:26:37.187772Z",
     "shell.execute_reply": "2021-05-12T07:26:37.188245Z"
    }
   },
   "outputs": [
    {
     "data": {
      "text/plain": [
       "0.0"
      ]
     },
     "execution_count": 1,
     "metadata": {},
     "output_type": "execute_result"
    }
   ],
   "source": [
    "field.X()"
   ]
  },
  {
   "cell_type": "code",
   "execution_count": 6,
   "id": "undefined-worst",
   "metadata": {
    "execution": {
     "iopub.execute_input": "2021-05-12T07:26:37.196802Z",
     "iopub.status.busy": "2021-05-12T07:26:37.195952Z",
     "iopub.status.idle": "2021-05-12T07:26:37.201036Z",
     "shell.execute_reply": "2021-05-12T07:26:37.201487Z"
    }
   },
   "outputs": [],
   "source": [
    "field.X(1.)"
   ]
  },
  {
   "cell_type": "code",
   "execution_count": 7,
   "id": "recreational-suggestion",
   "metadata": {
    "execution": {
     "iopub.execute_input": "2021-05-12T07:26:37.207254Z",
     "iopub.status.busy": "2021-05-12T07:26:37.206231Z",
     "iopub.status.idle": "2021-05-12T07:26:37.209361Z",
     "shell.execute_reply": "2021-05-12T07:26:37.210191Z"
    }
   },
   "outputs": [
    {
     "data": {
      "text/plain": [
       "0.00016245047251383464"
      ]
     },
     "execution_count": 1,
     "metadata": {},
     "output_type": "execute_result"
    }
   ],
   "source": [
    "field.X()"
   ]
  },
  {
   "cell_type": "code",
   "execution_count": 8,
   "id": "adopted-exchange",
   "metadata": {
    "execution": {
     "iopub.execute_input": "2021-05-12T07:26:37.215712Z",
     "iopub.status.busy": "2021-05-12T07:26:37.214936Z",
     "iopub.status.idle": "2021-05-12T07:26:37.217750Z",
     "shell.execute_reply": "2021-05-12T07:26:37.218246Z"
    }
   },
   "outputs": [
    {
     "data": {
      "text/plain": [
       "0.0003050724665323893"
      ]
     },
     "execution_count": 1,
     "metadata": {},
     "output_type": "execute_result"
    }
   ],
   "source": [
    "field.X()"
   ]
  },
  {
   "cell_type": "code",
   "execution_count": 9,
   "id": "bound-broadcasting",
   "metadata": {
    "execution": {
     "iopub.execute_input": "2021-05-12T07:26:37.223286Z",
     "iopub.status.busy": "2021-05-12T07:26:37.222461Z",
     "iopub.status.idle": "2021-05-12T07:26:37.225296Z",
     "shell.execute_reply": "2021-05-12T07:26:37.225810Z"
    }
   },
   "outputs": [
    {
     "data": {
      "text/plain": [
       "0.00043023029963175455"
      ]
     },
     "execution_count": 1,
     "metadata": {},
     "output_type": "execute_result"
    }
   ],
   "source": [
    "field.X()"
   ]
  },
  {
   "cell_type": "code",
   "execution_count": 10,
   "id": "casual-ghost",
   "metadata": {
    "execution": {
     "iopub.execute_input": "2021-05-12T07:26:37.232194Z",
     "iopub.status.busy": "2021-05-12T07:26:37.231482Z",
     "iopub.status.idle": "2021-05-12T07:26:37.234447Z",
     "shell.execute_reply": "2021-05-12T07:26:37.234936Z"
    }
   },
   "outputs": [
    {
     "data": {
      "text/plain": [
       "0.0005713979403177897"
      ]
     },
     "execution_count": 1,
     "metadata": {},
     "output_type": "execute_result"
    }
   ],
   "source": [
    "field.X()"
   ]
  },
  {
   "cell_type": "markdown",
   "id": "alike-process",
   "metadata": {},
   "source": [
    "As you can see, the field is now ramped in the background with the specified ramp rate. Now, let's try to create a measurement that uses this ability, and ramps the field in the background while measuring:"
   ]
  },
  {
   "cell_type": "code",
   "execution_count": 11,
   "id": "sustained-tiger",
   "metadata": {
    "execution": {
     "iopub.execute_input": "2021-05-12T07:26:37.238721Z",
     "iopub.status.busy": "2021-05-12T07:26:37.238127Z",
     "iopub.status.idle": "2021-05-12T07:26:37.244329Z",
     "shell.execute_reply": "2021-05-12T07:26:37.243644Z"
    }
   },
   "outputs": [],
   "source": [
    "field.ramp_rate(10.)\n",
    "field_X.field(0.0)"
   ]
  },
  {
   "cell_type": "code",
   "execution_count": 12,
   "id": "pharmaceutical-partition",
   "metadata": {
    "execution": {
     "iopub.execute_input": "2021-05-12T07:26:37.249466Z",
     "iopub.status.busy": "2021-05-12T07:26:37.248355Z",
     "iopub.status.idle": "2021-05-12T07:26:37.252378Z",
     "shell.execute_reply": "2021-05-12T07:26:37.253017Z"
    }
   },
   "outputs": [
    {
     "data": {
      "text/plain": [
       "0.0"
      ]
     },
     "execution_count": 1,
     "metadata": {},
     "output_type": "execute_result"
    }
   ],
   "source": [
    "field.X()"
   ]
  },
  {
   "cell_type": "code",
   "execution_count": 13,
   "id": "happy-ordinance",
   "metadata": {
    "execution": {
     "iopub.execute_input": "2021-05-12T07:26:37.258521Z",
     "iopub.status.busy": "2021-05-12T07:26:37.257678Z",
     "iopub.status.idle": "2021-05-12T07:26:38.497694Z",
     "shell.execute_reply": "2021-05-12T07:26:38.496729Z"
    }
   },
   "outputs": [
    {
     "name": "stdout",
     "output_type": "stream",
     "text": [
      "Starting experimental run with id: 56. \n"
     ]
    }
   ],
   "source": [
    "import time\n",
    "meas = qc.Measurement(station=station)\n",
    "meas.register_parameter(field.X)\n",
    "\n",
    "with meas.run() as datasaver:\n",
    "    for B in [0.1, 0.0]:\n",
    "        field.X(B)\n",
    "        while field.X() != B:\n",
    "            datasaver.add_result((field.X, field.X()))\n",
    "            time.sleep(0.01)\n",
    "    datasaver.flush_data_to_database()"
   ]
  },
  {
   "cell_type": "code",
   "execution_count": 14,
   "id": "short-medium",
   "metadata": {
    "execution": {
     "iopub.execute_input": "2021-05-12T07:26:38.505631Z",
     "iopub.status.busy": "2021-05-12T07:26:38.501399Z",
     "iopub.status.idle": "2021-05-12T07:26:38.970465Z",
     "shell.execute_reply": "2021-05-12T07:26:38.969899Z"
    }
   },
   "outputs": [
    {
     "data": {
      "text/plain": [
       "<AxesSubplot:>"
      ]
     },
     "execution_count": 1,
     "metadata": {},
     "output_type": "execute_result"
    },
    {
     "data": {
      "image/png": "[encoded data removed]",
      "text/plain": [
       "<Figure size 432x288 with 1 Axes>"
      ]
     },
     "metadata": {
      "needs_background": "light"
     },
     "output_type": "display_data"
    }
   ],
   "source": [
    "datasaver.dataset.to_pandas_dataframe().plot()"
   ]
  },
  {
   "cell_type": "markdown",
   "id": "incomplete-vietnamese",
   "metadata": {},
   "source": [
    "When specifying multiple source parameters on a given parameter, the grouped parameter will automatically return a `namedtuple` that returns both values."
   ]
  },
  {
   "cell_type": "code",
   "execution_count": 15,
   "id": "dangerous-finder",
   "metadata": {
    "execution": {
     "iopub.execute_input": "2021-05-12T07:26:38.975890Z",
     "iopub.status.busy": "2021-05-12T07:26:38.975303Z",
     "iopub.status.idle": "2021-05-12T07:26:38.980820Z",
     "shell.execute_reply": "2021-05-12T07:26:38.981339Z"
    }
   },
   "outputs": [
    {
     "data": {
      "text/plain": [
       "combined(field=0.0, ramp_rate=10.0)"
      ]
     },
     "execution_count": 1,
     "metadata": {},
     "output_type": "execute_result"
    }
   ],
   "source": [
    "field.combined()"
   ]
  },
  {
   "cell_type": "markdown",
   "id": "consolidated-cooper",
   "metadata": {},
   "source": [
    "We can now also create a custom parameter that does a simple calculation based on the current parameters."
   ]
  },
  {
   "cell_type": "code",
   "execution_count": 16,
   "id": "designed-bloom",
   "metadata": {
    "execution": {
     "iopub.execute_input": "2021-05-12T07:26:38.987497Z",
     "iopub.status.busy": "2021-05-12T07:26:38.986093Z",
     "iopub.status.idle": "2021-05-12T07:26:38.988685Z",
     "shell.execute_reply": "2021-05-12T07:26:38.989240Z"
    }
   },
   "outputs": [],
   "source": [
    "import numpy as np\n",
    "\n",
    "def calculate_ramp_time(X, ramp_rate):\n",
    "    \"\"\"Calculate ramp time in seconds\"\"\"\n",
    "    dfield = np.abs(field.target_field - X)\n",
    "    return 60. * dfield/ramp_rate"
   ]
  },
  {
   "cell_type": "code",
   "execution_count": 17,
   "id": "disabled-logic",
   "metadata": {
    "execution": {
     "iopub.execute_input": "2021-05-12T07:26:38.994644Z",
     "iopub.status.busy": "2021-05-12T07:26:38.993561Z",
     "iopub.status.idle": "2021-05-12T07:26:38.998594Z",
     "shell.execute_reply": "2021-05-12T07:26:38.997951Z"
    },
    "scrolled": true
   },
   "outputs": [],
   "source": [
    "field._create_and_add_parameter(\n",
    "    group_name=\"ramp_time\",\n",
    "    station=station,\n",
    "    paths=[\"field_X.field\", \"field_X.ramp_rate\"],\n",
    "    formatter=calculate_ramp_time\n",
    ")"
   ]
  },
  {
   "cell_type": "code",
   "execution_count": 18,
   "id": "adverse-february",
   "metadata": {
    "execution": {
     "iopub.execute_input": "2021-05-12T07:26:39.004749Z",
     "iopub.status.busy": "2021-05-12T07:26:39.004093Z",
     "iopub.status.idle": "2021-05-12T07:26:39.007408Z",
     "shell.execute_reply": "2021-05-12T07:26:39.007960Z"
    }
   },
   "outputs": [
    {
     "data": {
      "text/plain": [
       "6.0"
      ]
     },
     "execution_count": 1,
     "metadata": {},
     "output_type": "execute_result"
    }
   ],
   "source": [
    "field.ramp_rate(1.0)\n",
    "field.target_field = 0.1\n",
    "field.ramp_time()"
   ]
  },
  {
   "cell_type": "code",
   "execution_count": 19,
   "id": "statutory-xerox",
   "metadata": {
    "execution": {
     "iopub.execute_input": "2021-05-12T07:26:39.013365Z",
     "iopub.status.busy": "2021-05-12T07:26:39.011947Z",
     "iopub.status.idle": "2021-05-12T07:26:39.014069Z",
     "shell.execute_reply": "2021-05-12T07:26:39.014658Z"
    }
   },
   "outputs": [],
   "source": [
    "field.X(0.1)"
   ]
  },
  {
   "cell_type": "code",
   "execution_count": 20,
   "id": "varying-auditor",
   "metadata": {
    "execution": {
     "iopub.execute_input": "2021-05-12T07:26:39.020645Z",
     "iopub.status.busy": "2021-05-12T07:26:39.019644Z",
     "iopub.status.idle": "2021-05-12T07:26:39.022968Z",
     "shell.execute_reply": "2021-05-12T07:26:39.023515Z"
    }
   },
   "outputs": [
    {
     "data": {
      "text/plain": [
       "5.993539571762086"
      ]
     },
     "execution_count": 1,
     "metadata": {},
     "output_type": "execute_result"
    }
   ],
   "source": [
    "field.ramp_time()"
   ]
  },
  {
   "cell_type": "code",
   "execution_count": 21,
   "id": "chubby-nickel",
   "metadata": {
    "execution": {
     "iopub.execute_input": "2021-05-12T07:26:39.028215Z",
     "iopub.status.busy": "2021-05-12T07:26:39.027246Z",
     "iopub.status.idle": "2021-05-12T07:26:40.032563Z",
     "shell.execute_reply": "2021-05-12T07:26:40.033056Z"
    }
   },
   "outputs": [
    {
     "data": {
      "text/plain": [
       "4.983083248138429"
      ]
     },
     "execution_count": 1,
     "metadata": {},
     "output_type": "execute_result"
    }
   ],
   "source": [
    "import time\n",
    "time.sleep(1.)\n",
    "field.ramp_time()"
   ]
  },
  {
   "cell_type": "code",
   "execution_count": 22,
   "id": "italian-liberty",
   "metadata": {
    "execution": {
     "iopub.execute_input": "2021-05-12T07:26:40.037145Z",
     "iopub.status.busy": "2021-05-12T07:26:40.036598Z",
     "iopub.status.idle": "2021-05-12T07:26:41.042619Z",
     "shell.execute_reply": "2021-05-12T07:26:41.042058Z"
    }
   },
   "outputs": [
    {
     "data": {
      "text/plain": [
       "3.9735310077667236"
      ]
     },
     "execution_count": 1,
     "metadata": {},
     "output_type": "execute_result"
    }
   ],
   "source": [
    "import time\n",
    "time.sleep(1.)\n",
    "field.ramp_time()"
   ]
  },
  {
   "cell_type": "code",
   "execution_count": null,
   "id": "mobile-buffalo",
   "metadata": {},
   "outputs": [],
   "source": []
  }
 ],
 "metadata": {
  "kernelspec": {
   "display_name": "Python 3.7.9 64-bit ('qcodes': conda)",
   "name": "python379jvsc74a57bd01772f43cf92542b0c64f9621787c7542d65141a21c16e4e61ad35c3f481e9993"
  },
  "language_info": {
   "codemirror_mode": {
    "name": "ipython",
    "version": 3
   },
   "file_extension": ".py",
   "mimetype": "text/x-python",
   "name": "python",
   "nbconvert_exporter": "python",
   "pygments_lexer": "ipython3",
   "version": "3.7.10"
  }
 },
 "nbformat": 4,
 "nbformat_minor": 5
}
