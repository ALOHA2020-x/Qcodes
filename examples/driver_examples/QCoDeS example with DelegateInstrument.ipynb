{
 "cells": [
  {
   "cell_type": "markdown",
   "id": "plain-primary",
   "metadata": {},
   "source": [
    "# Qcodes example with DelegateInstrument driver\n",
    "\n",
    "This notebooks explains how to use the `DelegateInstrument` driver.\n",
    "\n",
    "## About\n",
    "The goal of the `DelegateInstrument` driver is to make it easier to combine different parameters together into a new \"virtual\" instrument. Each parameter on a `DelegateInstrument` can point to one or more parameters on other instruments in the station.\n",
    "\n",
    "## Usage\n",
    "The way it's used is mainly by specifying an entry in the station YAML. For instance, let's say you want to use a magnetic field coil. The driver has a method set_field(value, block), that by default is set to block=True, which means the field is ramped in a way that blocks further execution until the desired value is reached. However, let's say you are creating a measurement in which you want the parameter to be set, and while the value is ramping, you want to measure other parameters. This can be done by using `DelegateInstrument` and specifying a custom `setter` for the parameter that gets and sets the magnetic field.\n",
    "\n",
    "By default, each parameter is represented by a `DelegateParameter`. The `DelegateInstrument` also supports passing multiple source parameters to a given parameter. In order to do this, simply specify multiple parameters in the dictionary values  under the `parameters` key."
   ]
  },
  {
   "cell_type": "code",
   "execution_count": 1,
   "id": "sapphire-quebec",
   "metadata": {
    "execution": {
     "iopub.execute_input": "2021-05-12T09:47:55.861036Z",
     "iopub.status.busy": "2021-05-12T09:47:55.860492Z",
     "iopub.status.idle": "2021-05-12T09:47:55.870063Z",
     "shell.execute_reply": "2021-05-12T09:47:55.870528Z"
    }
   },
   "outputs": [
    {
     "name": "stdout",
     "output_type": "stream",
     "text": [
      "Writing example.yaml\n"
     ]
    }
   ],
   "source": [
    "%%writefile example.yaml\n",
    "\n",
    "instruments:\n",
    "  field_X:\n",
    "    type: qcodes.tests.instrument_mocks.MockField\n",
    "\n",
    "  field:\n",
    "    type: qcodes.instrument.delegate.DelegateInstrument\n",
    "    init:\n",
    "      parameters:\n",
    "        X:\n",
    "          - field_X.field\n",
    "        ramp_rate:\n",
    "          - field_X.ramp_rate\n",
    "        combined:\n",
    "          - field_X.field\n",
    "          - field_X.ramp_rate\n",
    "      set_initial_values_on_load: true\n",
    "      initial_values:\n",
    "        ramp_rate: 1.0\n",
    "      setters:\n",
    "        X:\n",
    "          method: field_X.set_field\n",
    "          block: false"
   ]
  },
  {
   "cell_type": "code",
   "execution_count": 2,
   "id": "younger-newspaper",
   "metadata": {
    "execution": {
     "iopub.execute_input": "2021-05-12T09:47:55.874317Z",
     "iopub.status.busy": "2021-05-12T09:47:55.873760Z",
     "iopub.status.idle": "2021-05-12T09:47:57.167116Z",
     "shell.execute_reply": "2021-05-12T09:47:57.167944Z"
    }
   },
   "outputs": [
    {
     "name": "stdout",
     "output_type": "stream",
     "text": [
      "Logging hadn't been started.\n",
      "Activating auto-logging. Current session state plus future input saved.\n",
      "Filename       : /home/runner/.qcodes/logs/command_history.log\n",
      "Mode           : append\n",
      "Output logging : True\n",
      "Raw input log  : False\n",
      "Timestamping   : True\n",
      "State          : active\n"
     ]
    },
    {
     "name": "stdout",
     "output_type": "stream",
     "text": [
      "Qcodes Logfile : /home/runner/.qcodes/logs/210512-9569-qcodes.log\n"
     ]
    }
   ],
   "source": [
    "import qcodes as qc"
   ]
  },
  {
   "cell_type": "code",
   "execution_count": 3,
   "id": "muslim-briefs",
   "metadata": {
    "execution": {
     "iopub.execute_input": "2021-05-12T09:47:57.183725Z",
     "iopub.status.busy": "2021-05-12T09:47:57.172353Z",
     "iopub.status.idle": "2021-05-12T09:47:57.186483Z",
     "shell.execute_reply": "2021-05-12T09:47:57.187090Z"
    }
   },
   "outputs": [],
   "source": [
    "station = qc.Station(config_file=\"example.yaml\")"
   ]
  },
  {
   "cell_type": "code",
   "execution_count": 4,
   "id": "greatest-antenna",
   "metadata": {
    "execution": {
     "iopub.execute_input": "2021-05-12T09:47:57.191005Z",
     "iopub.status.busy": "2021-05-12T09:47:57.190415Z",
     "iopub.status.idle": "2021-05-12T09:47:57.219600Z",
     "shell.execute_reply": "2021-05-12T09:47:57.218928Z"
    }
   },
   "outputs": [],
   "source": [
    "field_X = station.load_field_X()\n",
    "field = station.load_field(station=station)"
   ]
  },
  {
   "cell_type": "code",
   "execution_count": 5,
   "id": "every-playing",
   "metadata": {
    "execution": {
     "iopub.execute_input": "2021-05-12T09:47:57.231756Z",
     "iopub.status.busy": "2021-05-12T09:47:57.230729Z",
     "iopub.status.idle": "2021-05-12T09:47:57.234101Z",
     "shell.execute_reply": "2021-05-12T09:47:57.233647Z"
    }
   },
   "outputs": [
    {
     "data": {
      "text/plain": [
       "0.0"
      ]
     },
     "execution_count": 1,
     "metadata": {},
     "output_type": "execute_result"
    }
   ],
   "source": [
    "field.X()"
   ]
  },
  {
   "cell_type": "code",
   "execution_count": 6,
   "id": "undefined-worst",
   "metadata": {
    "execution": {
     "iopub.execute_input": "2021-05-12T09:47:57.239160Z",
     "iopub.status.busy": "2021-05-12T09:47:57.237784Z",
     "iopub.status.idle": "2021-05-12T09:47:57.239792Z",
     "shell.execute_reply": "2021-05-12T09:47:57.240244Z"
    }
   },
   "outputs": [],
   "source": [
    "field.X(1.)"
   ]
  },
  {
   "cell_type": "code",
   "execution_count": 7,
   "id": "recreational-suggestion",
   "metadata": {
    "execution": {
     "iopub.execute_input": "2021-05-12T09:47:57.245014Z",
     "iopub.status.busy": "2021-05-12T09:47:57.244474Z",
     "iopub.status.idle": "2021-05-12T09:47:57.247245Z",
     "shell.execute_reply": "2021-05-12T09:47:57.248229Z"
    }
   },
   "outputs": [
    {
     "data": {
      "text/plain": [
       "9.998083114624024e-05"
      ]
     },
     "execution_count": 1,
     "metadata": {},
     "output_type": "execute_result"
    }
   ],
   "source": [
    "field.X()"
   ]
  },
  {
   "cell_type": "code",
   "execution_count": 8,
   "id": "adopted-exchange",
   "metadata": {
    "execution": {
     "iopub.execute_input": "2021-05-12T09:47:57.253322Z",
     "iopub.status.busy": "2021-05-12T09:47:57.252524Z",
     "iopub.status.idle": "2021-05-12T09:47:57.255332Z",
     "shell.execute_reply": "2021-05-12T09:47:57.255780Z"
    }
   },
   "outputs": [
    {
     "data": {
      "text/plain": [
       "0.00023393233617146809"
      ]
     },
     "execution_count": 1,
     "metadata": {},
     "output_type": "execute_result"
    }
   ],
   "source": [
    "field.X()"
   ]
  },
  {
   "cell_type": "code",
   "execution_count": 9,
   "id": "bound-broadcasting",
   "metadata": {
    "execution": {
     "iopub.execute_input": "2021-05-12T09:47:57.264911Z",
     "iopub.status.busy": "2021-05-12T09:47:57.261073Z",
     "iopub.status.idle": "2021-05-12T09:47:57.267642Z",
     "shell.execute_reply": "2021-05-12T09:47:57.266880Z"
    }
   },
   "outputs": [
    {
     "data": {
      "text/plain": [
       "0.0003564000129699707"
      ]
     },
     "execution_count": 1,
     "metadata": {},
     "output_type": "execute_result"
    }
   ],
   "source": [
    "field.X()"
   ]
  },
  {
   "cell_type": "code",
   "execution_count": 10,
   "id": "casual-ghost",
   "metadata": {
    "execution": {
     "iopub.execute_input": "2021-05-12T09:47:57.276264Z",
     "iopub.status.busy": "2021-05-12T09:47:57.273758Z",
     "iopub.status.idle": "2021-05-12T09:47:57.279443Z",
     "shell.execute_reply": "2021-05-12T09:47:57.278771Z"
    }
   },
   "outputs": [
    {
     "data": {
      "text/plain": [
       "0.0005632956822713216"
      ]
     },
     "execution_count": 1,
     "metadata": {},
     "output_type": "execute_result"
    }
   ],
   "source": [
    "field.X()"
   ]
  },
  {
   "cell_type": "markdown",
   "id": "alike-process",
   "metadata": {},
   "source": [
    "As you can see, the field is now ramped in the background with the specified ramp rate. Now, let's try to create a measurement that uses this ability, and ramps the field in the background while measuring:"
   ]
  },
  {
   "cell_type": "code",
   "execution_count": 11,
   "id": "sustained-tiger",
   "metadata": {
    "execution": {
     "iopub.execute_input": "2021-05-12T09:47:57.283674Z",
     "iopub.status.busy": "2021-05-12T09:47:57.283112Z",
     "iopub.status.idle": "2021-05-12T09:47:57.289394Z",
     "shell.execute_reply": "2021-05-12T09:47:57.288802Z"
    }
   },
   "outputs": [],
   "source": [
    "field.ramp_rate(10.)\n",
    "field_X.field(0.0)"
   ]
  },
  {
   "cell_type": "code",
   "execution_count": 12,
   "id": "pharmaceutical-partition",
   "metadata": {
    "execution": {
     "iopub.execute_input": "2021-05-12T09:47:57.294238Z",
     "iopub.status.busy": "2021-05-12T09:47:57.293435Z",
     "iopub.status.idle": "2021-05-12T09:47:57.296127Z",
     "shell.execute_reply": "2021-05-12T09:47:57.296604Z"
    }
   },
   "outputs": [
    {
     "data": {
      "text/plain": [
       "0.0"
      ]
     },
     "execution_count": 1,
     "metadata": {},
     "output_type": "execute_result"
    }
   ],
   "source": [
    "field.X()"
   ]
  },
  {
   "cell_type": "code",
   "execution_count": 13,
   "id": "happy-ordinance",
   "metadata": {
    "execution": {
     "iopub.execute_input": "2021-05-12T09:47:57.302387Z",
     "iopub.status.busy": "2021-05-12T09:47:57.301832Z",
     "iopub.status.idle": "2021-05-12T09:47:58.542676Z",
     "shell.execute_reply": "2021-05-12T09:47:58.541727Z"
    }
   },
   "outputs": [
    {
     "name": "stdout",
     "output_type": "stream",
     "text": [
      "Starting experimental run with id: 56. \n"
     ]
    }
   ],
   "source": [
    "import time\n",
    "meas = qc.Measurement(station=station)\n",
    "meas.register_parameter(field.X)\n",
    "\n",
    "with meas.run() as datasaver:\n",
    "    for B in [0.1, 0.0]:\n",
    "        field.X(B)\n",
    "        while field.X() != B:\n",
    "            datasaver.add_result((field.X, field.X()))\n",
    "            time.sleep(0.01)\n",
    "    datasaver.flush_data_to_database()"
   ]
  },
  {
   "cell_type": "code",
   "execution_count": 14,
   "id": "short-medium",
   "metadata": {
    "execution": {
     "iopub.execute_input": "2021-05-12T09:47:58.548069Z",
     "iopub.status.busy": "2021-05-12T09:47:58.547090Z",
     "iopub.status.idle": "2021-05-12T09:47:58.975853Z",
     "shell.execute_reply": "2021-05-12T09:47:58.975333Z"
    }
   },
   "outputs": [
    {
     "data": {
      "text/plain": [
       "<AxesSubplot:>"
      ]
     },
     "execution_count": 1,
     "metadata": {},
     "output_type": "execute_result"
    },
    {
     "data": {
      "image/png": "[encoded data removed]",
      "text/plain": [
       "<Figure size 432x288 with 1 Axes>"
      ]
     },
     "metadata": {
      "needs_background": "light"
     },
     "output_type": "display_data"
    }
   ],
   "source": [
    "datasaver.dataset.to_pandas_dataframe().plot()"
   ]
  },
  {
   "cell_type": "markdown",
   "id": "incomplete-vietnamese",
   "metadata": {},
   "source": [
    "When specifying multiple source parameters on a given parameter, the grouped parameter will automatically return a `namedtuple` that returns both values."
   ]
  },
  {
   "cell_type": "code",
   "execution_count": 15,
   "id": "dangerous-finder",
   "metadata": {
    "execution": {
     "iopub.execute_input": "2021-05-12T09:47:58.981105Z",
     "iopub.status.busy": "2021-05-12T09:47:58.980221Z",
     "iopub.status.idle": "2021-05-12T09:47:58.985800Z",
     "shell.execute_reply": "2021-05-12T09:47:58.985293Z"
    }
   },
   "outputs": [
    {
     "data": {
      "text/plain": [
       "combined(field=0.0, ramp_rate=10.0)"
      ]
     },
     "execution_count": 1,
     "metadata": {},
     "output_type": "execute_result"
    }
   ],
   "source": [
    "field.combined()"
   ]
  },
  {
   "cell_type": "markdown",
   "id": "consolidated-cooper",
   "metadata": {},
   "source": [
    "We can now also create a custom parameter that does a simple calculation based on the current parameters."
   ]
  },
  {
   "cell_type": "code",
   "execution_count": 16,
   "id": "designed-bloom",
   "metadata": {
    "execution": {
     "iopub.execute_input": "2021-05-12T09:47:58.992292Z",
     "iopub.status.busy": "2021-05-12T09:47:58.991321Z",
     "iopub.status.idle": "2021-05-12T09:47:58.995298Z",
     "shell.execute_reply": "2021-05-12T09:47:58.994783Z"
    }
   },
   "outputs": [],
   "source": [
    "import numpy as np\n",
    "\n",
    "def calculate_ramp_time(X, ramp_rate):\n",
    "    \"\"\"Calculate ramp time in seconds\"\"\"\n",
    "    dfield = np.abs(field.target_field - X)\n",
    "    return 60. * dfield/ramp_rate"
   ]
  },
  {
   "cell_type": "code",
   "execution_count": 17,
   "id": "disabled-logic",
   "metadata": {
    "execution": {
     "iopub.execute_input": "2021-05-12T09:47:58.999871Z",
     "iopub.status.busy": "2021-05-12T09:47:58.999314Z",
     "iopub.status.idle": "2021-05-12T09:47:59.002959Z",
     "shell.execute_reply": "2021-05-12T09:47:59.002449Z"
    },
    "scrolled": true
   },
   "outputs": [],
   "source": [
    "field._create_and_add_parameter(\n",
    "    group_name=\"ramp_time\",\n",
    "    station=station,\n",
    "    paths=[\"field_X.field\", \"field_X.ramp_rate\"],\n",
    "    formatter=calculate_ramp_time\n",
    ")"
   ]
  },
  {
   "cell_type": "code",
   "execution_count": 18,
   "id": "adverse-february",
   "metadata": {
    "execution": {
     "iopub.execute_input": "2021-05-12T09:47:59.008756Z",
     "iopub.status.busy": "2021-05-12T09:47:59.008177Z",
     "iopub.status.idle": "2021-05-12T09:47:59.010964Z",
     "shell.execute_reply": "2021-05-12T09:47:59.011419Z"
    }
   },
   "outputs": [
    {
     "data": {
      "text/plain": [
       "6.0"
      ]
     },
     "execution_count": 1,
     "metadata": {},
     "output_type": "execute_result"
    }
   ],
   "source": [
    "field.ramp_rate(1.0)\n",
    "field.target_field = 0.1\n",
    "field.ramp_time()"
   ]
  },
  {
   "cell_type": "code",
   "execution_count": 19,
   "id": "statutory-xerox",
   "metadata": {
    "execution": {
     "iopub.execute_input": "2021-05-12T09:47:59.016211Z",
     "iopub.status.busy": "2021-05-12T09:47:59.014971Z",
     "iopub.status.idle": "2021-05-12T09:47:59.016899Z",
     "shell.execute_reply": "2021-05-12T09:47:59.017523Z"
    }
   },
   "outputs": [],
   "source": [
    "field.X(0.1)"
   ]
  },
  {
   "cell_type": "code",
   "execution_count": 20,
   "id": "varying-auditor",
   "metadata": {
    "execution": {
     "iopub.execute_input": "2021-05-12T09:47:59.023284Z",
     "iopub.status.busy": "2021-05-12T09:47:59.022266Z",
     "iopub.status.idle": "2021-05-12T09:47:59.025585Z",
     "shell.execute_reply": "2021-05-12T09:47:59.025112Z"
    }
   },
   "outputs": [
    {
     "data": {
      "text/plain": [
       "5.9939050674438485"
      ]
     },
     "execution_count": 1,
     "metadata": {},
     "output_type": "execute_result"
    }
   ],
   "source": [
    "field.ramp_time()"
   ]
  },
  {
   "cell_type": "code",
   "execution_count": 21,
   "id": "chubby-nickel",
   "metadata": {
    "execution": {
     "iopub.execute_input": "2021-05-12T09:47:59.029259Z",
     "iopub.status.busy": "2021-05-12T09:47:59.028683Z",
     "iopub.status.idle": "2021-05-12T09:48:00.034983Z",
     "shell.execute_reply": "2021-05-12T09:48:00.035439Z"
    }
   },
   "outputs": [
    {
     "data": {
      "text/plain": [
       "4.984334468841553"
      ]
     },
     "execution_count": 1,
     "metadata": {},
     "output_type": "execute_result"
    }
   ],
   "source": [
    "import time\n",
    "time.sleep(1.)\n",
    "field.ramp_time()"
   ]
  },
  {
   "cell_type": "code",
   "execution_count": 22,
   "id": "italian-liberty",
   "metadata": {
    "execution": {
     "iopub.execute_input": "2021-05-12T09:48:00.039966Z",
     "iopub.status.busy": "2021-05-12T09:48:00.039410Z",
     "iopub.status.idle": "2021-05-12T09:48:01.047064Z",
     "shell.execute_reply": "2021-05-12T09:48:01.047846Z"
    }
   },
   "outputs": [
    {
     "data": {
      "text/plain": [
       "3.9734196662902836"
      ]
     },
     "execution_count": 1,
     "metadata": {},
     "output_type": "execute_result"
    }
   ],
   "source": [
    "import time\n",
    "time.sleep(1.)\n",
    "field.ramp_time()"
   ]
  },
  {
   "cell_type": "code",
   "execution_count": null,
   "id": "mobile-buffalo",
   "metadata": {},
   "outputs": [],
   "source": []
  }
 ],
 "metadata": {
  "kernelspec": {
   "display_name": "Python 3.7.9 64-bit ('qcodes': conda)",
   "name": "python379jvsc74a57bd01772f43cf92542b0c64f9621787c7542d65141a21c16e4e61ad35c3f481e9993"
  },
  "language_info": {
   "codemirror_mode": {
    "name": "ipython",
    "version": 3
   },
   "file_extension": ".py",
   "mimetype": "text/x-python",
   "name": "python",
   "nbconvert_exporter": "python",
   "pygments_lexer": "ipython3",
   "version": "3.7.10"
  }
 },
 "nbformat": 4,
 "nbformat_minor": 5
}
