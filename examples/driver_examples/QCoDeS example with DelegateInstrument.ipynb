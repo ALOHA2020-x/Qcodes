{
 "cells": [
  {
   "cell_type": "markdown",
   "id": "plain-primary",
   "metadata": {},
   "source": [
    "# Qcodes example with DelegateInstrument driver\n",
    "\n",
    "This notebooks explains how to use the `DelegateInstrument` driver.\n",
    "\n",
    "## About\n",
    "The goal of the `DelegateInstrument` driver is to make it easier to combine different parameters together into a new \"virtual\" instrument. Each parameter on a `DelegateInstrument` can point to one or more parameters on other instruments in the station.\n",
    "\n",
    "## Usage\n",
    "The way it's used is mainly by specifying an entry in the station YAML. For instance, let's say you want to use a magnetic field coil. The driver has a method set_field(value, block), that by default is set to block=True, which means the field is ramped in a way that blocks further execution until the desired value is reached. However, let's say you are creating a measurement in which you want the parameter to be set, and while the value is ramping, you want to measure other parameters. This can be done by using `DelegateInstrument` and specifying a custom `setter` for the parameter that gets and sets the magnetic field.\n",
    "\n",
    "By default, each parameter is represented by a `DelegateParameter`. The `DelegateInstrument` also supports passing multiple source parameters to a given parameter. In order to do this, simply specify multiple parameters in the dictionary values  under the `parameters` key."
   ]
  },
  {
   "cell_type": "code",
   "execution_count": 1,
   "id": "sapphire-quebec",
   "metadata": {
    "execution": {
     "iopub.execute_input": "2021-05-21T07:31:50.137680Z",
     "iopub.status.busy": "2021-05-21T07:31:50.136994Z",
     "iopub.status.idle": "2021-05-21T07:31:50.140137Z",
     "shell.execute_reply": "2021-05-21T07:31:50.140689Z"
    }
   },
   "outputs": [
    {
     "name": "stdout",
     "output_type": "stream",
     "text": [
      "Writing example.yaml\n"
     ]
    }
   ],
   "source": [
    "%%writefile example.yaml\n",
    "\n",
    "instruments:\n",
    "  field_X:\n",
    "    type: qcodes.tests.instrument_mocks.MockField\n",
    "\n",
    "  field:\n",
    "    type: qcodes.instrument.delegate.DelegateInstrument\n",
    "    init:\n",
    "      parameters:\n",
    "        X:\n",
    "          - field_X.field\n",
    "        ramp_rate:\n",
    "          - field_X.ramp_rate\n",
    "        combined:\n",
    "          - field_X.field\n",
    "          - field_X.ramp_rate\n",
    "      set_initial_values_on_load: true\n",
    "      initial_values:\n",
    "        ramp_rate: 1.0\n",
    "      setters:\n",
    "        X:\n",
    "          method: field_X.set_field\n",
    "          block: false"
   ]
  },
  {
   "cell_type": "code",
   "execution_count": 2,
   "id": "younger-newspaper",
   "metadata": {
    "execution": {
     "iopub.execute_input": "2021-05-21T07:31:50.145159Z",
     "iopub.status.busy": "2021-05-21T07:31:50.144499Z",
     "iopub.status.idle": "2021-05-21T07:31:51.541139Z",
     "shell.execute_reply": "2021-05-21T07:31:51.541748Z"
    }
   },
   "outputs": [
    {
     "name": "stdout",
     "output_type": "stream",
     "text": [
      "Logging hadn't been started.\n",
      "Activating auto-logging. Current session state plus future input saved.\n",
      "Filename       : /home/runner/.qcodes/logs/command_history.log\n",
      "Mode           : append\n",
      "Output logging : True\n",
      "Raw input log  : False\n",
      "Timestamping   : True\n",
      "State          : active\n"
     ]
    },
    {
     "name": "stdout",
     "output_type": "stream",
     "text": [
      "Qcodes Logfile : /home/runner/.qcodes/logs/210521-9211-qcodes.log\n"
     ]
    }
   ],
   "source": [
    "import qcodes as qc"
   ]
  },
  {
   "cell_type": "code",
   "execution_count": 3,
   "id": "muslim-briefs",
   "metadata": {
    "execution": {
     "iopub.execute_input": "2021-05-21T07:31:51.555460Z",
     "iopub.status.busy": "2021-05-21T07:31:51.546085Z",
     "iopub.status.idle": "2021-05-21T07:31:51.563064Z",
     "shell.execute_reply": "2021-05-21T07:31:51.562064Z"
    }
   },
   "outputs": [],
   "source": [
    "station = qc.Station(config_file=\"example.yaml\")"
   ]
  },
  {
   "cell_type": "code",
   "execution_count": 4,
   "id": "greatest-antenna",
   "metadata": {
    "execution": {
     "iopub.execute_input": "2021-05-21T07:31:51.567503Z",
     "iopub.status.busy": "2021-05-21T07:31:51.566842Z",
     "iopub.status.idle": "2021-05-21T07:31:51.601108Z",
     "shell.execute_reply": "2021-05-21T07:31:51.600471Z"
    }
   },
   "outputs": [],
   "source": [
    "field_X = station.load_field_X()\n",
    "field = station.load_field(station=station)"
   ]
  },
  {
   "cell_type": "code",
   "execution_count": 5,
   "id": "every-playing",
   "metadata": {
    "execution": {
     "iopub.execute_input": "2021-05-21T07:31:51.610468Z",
     "iopub.status.busy": "2021-05-21T07:31:51.609820Z",
     "iopub.status.idle": "2021-05-21T07:31:51.617279Z",
     "shell.execute_reply": "2021-05-21T07:31:51.616503Z"
    }
   },
   "outputs": [
    {
     "data": {
      "text/plain": [
       "0.0"
      ]
     },
     "execution_count": 1,
     "metadata": {},
     "output_type": "execute_result"
    }
   ],
   "source": [
    "field.X()"
   ]
  },
  {
   "cell_type": "code",
   "execution_count": 6,
   "id": "undefined-worst",
   "metadata": {
    "execution": {
     "iopub.execute_input": "2021-05-21T07:31:51.623328Z",
     "iopub.status.busy": "2021-05-21T07:31:51.621663Z",
     "iopub.status.idle": "2021-05-21T07:31:51.624102Z",
     "shell.execute_reply": "2021-05-21T07:31:51.624640Z"
    }
   },
   "outputs": [],
   "source": [
    "field.X(1.)"
   ]
  },
  {
   "cell_type": "code",
   "execution_count": 7,
   "id": "recreational-suggestion",
   "metadata": {
    "execution": {
     "iopub.execute_input": "2021-05-21T07:31:51.631253Z",
     "iopub.status.busy": "2021-05-21T07:31:51.629714Z",
     "iopub.status.idle": "2021-05-21T07:31:51.633544Z",
     "shell.execute_reply": "2021-05-21T07:31:51.632989Z"
    }
   },
   "outputs": [
    {
     "data": {
      "text/plain": [
       "0.00011332035064697266"
      ]
     },
     "execution_count": 1,
     "metadata": {},
     "output_type": "execute_result"
    }
   ],
   "source": [
    "field.X()"
   ]
  },
  {
   "cell_type": "code",
   "execution_count": 8,
   "id": "adopted-exchange",
   "metadata": {
    "execution": {
     "iopub.execute_input": "2021-05-21T07:31:51.640180Z",
     "iopub.status.busy": "2021-05-21T07:31:51.638397Z",
     "iopub.status.idle": "2021-05-21T07:31:51.642966Z",
     "shell.execute_reply": "2021-05-21T07:31:51.642403Z"
    }
   },
   "outputs": [
    {
     "data": {
      "text/plain": [
       "0.00025919278462727867"
      ]
     },
     "execution_count": 1,
     "metadata": {},
     "output_type": "execute_result"
    }
   ],
   "source": [
    "field.X()"
   ]
  },
  {
   "cell_type": "code",
   "execution_count": 9,
   "id": "bound-broadcasting",
   "metadata": {
    "execution": {
     "iopub.execute_input": "2021-05-21T07:31:51.649025Z",
     "iopub.status.busy": "2021-05-21T07:31:51.647863Z",
     "iopub.status.idle": "2021-05-21T07:31:51.651660Z",
     "shell.execute_reply": "2021-05-21T07:31:51.651079Z"
    }
   },
   "outputs": [
    {
     "data": {
      "text/plain": [
       "0.00041762193044026695"
      ]
     },
     "execution_count": 1,
     "metadata": {},
     "output_type": "execute_result"
    }
   ],
   "source": [
    "field.X()"
   ]
  },
  {
   "cell_type": "code",
   "execution_count": 10,
   "id": "casual-ghost",
   "metadata": {
    "execution": {
     "iopub.execute_input": "2021-05-21T07:31:51.657255Z",
     "iopub.status.busy": "2021-05-21T07:31:51.656592Z",
     "iopub.status.idle": "2021-05-21T07:31:51.659970Z",
     "shell.execute_reply": "2021-05-21T07:31:51.660532Z"
    }
   },
   "outputs": [
    {
     "data": {
      "text/plain": [
       "0.000565032164255778"
      ]
     },
     "execution_count": 1,
     "metadata": {},
     "output_type": "execute_result"
    }
   ],
   "source": [
    "field.X()"
   ]
  },
  {
   "cell_type": "markdown",
   "id": "alike-process",
   "metadata": {},
   "source": [
    "As you can see, the field is now ramped in the background with the specified ramp rate. Now, let's try to create a measurement that uses this ability, and ramps the field in the background while measuring:"
   ]
  },
  {
   "cell_type": "code",
   "execution_count": 11,
   "id": "sustained-tiger",
   "metadata": {
    "execution": {
     "iopub.execute_input": "2021-05-21T07:31:51.664605Z",
     "iopub.status.busy": "2021-05-21T07:31:51.663805Z",
     "iopub.status.idle": "2021-05-21T07:31:51.670669Z",
     "shell.execute_reply": "2021-05-21T07:31:51.670035Z"
    }
   },
   "outputs": [],
   "source": [
    "field.ramp_rate(10.)\n",
    "field_X.field(0.0)"
   ]
  },
  {
   "cell_type": "code",
   "execution_count": 12,
   "id": "pharmaceutical-partition",
   "metadata": {
    "execution": {
     "iopub.execute_input": "2021-05-21T07:31:51.675311Z",
     "iopub.status.busy": "2021-05-21T07:31:51.674564Z",
     "iopub.status.idle": "2021-05-21T07:31:51.678098Z",
     "shell.execute_reply": "2021-05-21T07:31:51.678702Z"
    }
   },
   "outputs": [
    {
     "data": {
      "text/plain": [
       "0.0"
      ]
     },
     "execution_count": 1,
     "metadata": {},
     "output_type": "execute_result"
    }
   ],
   "source": [
    "field.X()"
   ]
  },
  {
   "cell_type": "code",
   "execution_count": 13,
   "id": "happy-ordinance",
   "metadata": {
    "execution": {
     "iopub.execute_input": "2021-05-21T07:31:51.686573Z",
     "iopub.status.busy": "2021-05-21T07:31:51.685693Z",
     "iopub.status.idle": "2021-05-21T07:31:52.918748Z",
     "shell.execute_reply": "2021-05-21T07:31:52.917758Z"
    }
   },
   "outputs": [
    {
     "name": "stdout",
     "output_type": "stream",
     "text": [
      "Starting experimental run with id: 56. \n"
     ]
    }
   ],
   "source": [
    "import time\n",
    "meas = qc.Measurement(station=station)\n",
    "meas.register_parameter(field.X)\n",
    "\n",
    "with meas.run() as datasaver:\n",
    "    for B in [0.1, 0.0]:\n",
    "        field.X(B)\n",
    "        while field.X() != B:\n",
    "            datasaver.add_result((field.X, field.X()))\n",
    "            time.sleep(0.01)\n",
    "    datasaver.flush_data_to_database()"
   ]
  },
  {
   "cell_type": "code",
   "execution_count": 14,
   "id": "short-medium",
   "metadata": {
    "execution": {
     "iopub.execute_input": "2021-05-21T07:31:52.923878Z",
     "iopub.status.busy": "2021-05-21T07:31:52.922459Z",
     "iopub.status.idle": "2021-05-21T07:31:53.408443Z",
     "shell.execute_reply": "2021-05-21T07:31:53.407893Z"
    }
   },
   "outputs": [
    {
     "data": {
      "text/plain": [
       "<AxesSubplot:>"
      ]
     },
     "execution_count": 1,
     "metadata": {},
     "output_type": "execute_result"
    },
    {
     "data": {
      "image/png": "[encoded data removed]",
      "text/plain": [
       "<Figure size 432x288 with 1 Axes>"
      ]
     },
     "metadata": {
      "needs_background": "light"
     },
     "output_type": "display_data"
    }
   ],
   "source": [
    "datasaver.dataset.to_pandas_dataframe().plot()"
   ]
  },
  {
   "cell_type": "markdown",
   "id": "incomplete-vietnamese",
   "metadata": {},
   "source": [
    "When specifying multiple source parameters on a given parameter, the grouped parameter will automatically return a `namedtuple` that returns both values."
   ]
  },
  {
   "cell_type": "code",
   "execution_count": 15,
   "id": "dangerous-finder",
   "metadata": {
    "execution": {
     "iopub.execute_input": "2021-05-21T07:31:53.413842Z",
     "iopub.status.busy": "2021-05-21T07:31:53.412452Z",
     "iopub.status.idle": "2021-05-21T07:31:53.418801Z",
     "shell.execute_reply": "2021-05-21T07:31:53.419316Z"
    }
   },
   "outputs": [
    {
     "data": {
      "text/plain": [
       "combined(field=0.0, ramp_rate=10.0)"
      ]
     },
     "execution_count": 1,
     "metadata": {},
     "output_type": "execute_result"
    }
   ],
   "source": [
    "field.combined()"
   ]
  },
  {
   "cell_type": "markdown",
   "id": "consolidated-cooper",
   "metadata": {},
   "source": [
    "We can now also create a custom parameter that does a simple calculation based on the current parameters."
   ]
  },
  {
   "cell_type": "code",
   "execution_count": 16,
   "id": "designed-bloom",
   "metadata": {
    "execution": {
     "iopub.execute_input": "2021-05-21T07:31:53.424602Z",
     "iopub.status.busy": "2021-05-21T07:31:53.423969Z",
     "iopub.status.idle": "2021-05-21T07:31:53.428207Z",
     "shell.execute_reply": "2021-05-21T07:31:53.427665Z"
    }
   },
   "outputs": [],
   "source": [
    "import numpy as np\n",
    "\n",
    "def calculate_ramp_time(X, ramp_rate):\n",
    "    \"\"\"Calculate ramp time in seconds\"\"\"\n",
    "    dfield = np.abs(field.target_field - X)\n",
    "    return 60. * dfield/ramp_rate"
   ]
  },
  {
   "cell_type": "code",
   "execution_count": 17,
   "id": "disabled-logic",
   "metadata": {
    "execution": {
     "iopub.execute_input": "2021-05-21T07:31:53.432765Z",
     "iopub.status.busy": "2021-05-21T07:31:53.432067Z",
     "iopub.status.idle": "2021-05-21T07:31:53.436274Z",
     "shell.execute_reply": "2021-05-21T07:31:53.435669Z"
    },
    "scrolled": true
   },
   "outputs": [],
   "source": [
    "field._create_and_add_parameter(\n",
    "    group_name=\"ramp_time\",\n",
    "    station=station,\n",
    "    paths=[\"field_X.field\", \"field_X.ramp_rate\"],\n",
    "    formatter=calculate_ramp_time\n",
    ")"
   ]
  },
  {
   "cell_type": "code",
   "execution_count": 18,
   "id": "adverse-february",
   "metadata": {
    "execution": {
     "iopub.execute_input": "2021-05-21T07:31:53.441599Z",
     "iopub.status.busy": "2021-05-21T07:31:53.440643Z",
     "iopub.status.idle": "2021-05-21T07:31:53.445749Z",
     "shell.execute_reply": "2021-05-21T07:31:53.445194Z"
    }
   },
   "outputs": [
    {
     "data": {
      "text/plain": [
       "6.0"
      ]
     },
     "execution_count": 1,
     "metadata": {},
     "output_type": "execute_result"
    }
   ],
   "source": [
    "field.ramp_rate(1.0)\n",
    "field.target_field = 0.1\n",
    "field.ramp_time()"
   ]
  },
  {
   "cell_type": "code",
   "execution_count": 19,
   "id": "statutory-xerox",
   "metadata": {
    "execution": {
     "iopub.execute_input": "2021-05-21T07:31:53.450999Z",
     "iopub.status.busy": "2021-05-21T07:31:53.449345Z",
     "iopub.status.idle": "2021-05-21T07:31:53.452020Z",
     "shell.execute_reply": "2021-05-21T07:31:53.452528Z"
    }
   },
   "outputs": [],
   "source": [
    "field.X(0.1)"
   ]
  },
  {
   "cell_type": "code",
   "execution_count": 20,
   "id": "varying-auditor",
   "metadata": {
    "execution": {
     "iopub.execute_input": "2021-05-21T07:31:53.458382Z",
     "iopub.status.busy": "2021-05-21T07:31:53.457199Z",
     "iopub.status.idle": "2021-05-21T07:31:53.460303Z",
     "shell.execute_reply": "2021-05-21T07:31:53.461204Z"
    }
   },
   "outputs": [
    {
     "data": {
      "text/plain": [
       "5.993373870849609"
      ]
     },
     "execution_count": 1,
     "metadata": {},
     "output_type": "execute_result"
    }
   ],
   "source": [
    "field.ramp_time()"
   ]
  },
  {
   "cell_type": "code",
   "execution_count": 21,
   "id": "chubby-nickel",
   "metadata": {
    "execution": {
     "iopub.execute_input": "2021-05-21T07:31:53.465903Z",
     "iopub.status.busy": "2021-05-21T07:31:53.465306Z",
     "iopub.status.idle": "2021-05-21T07:31:54.471476Z",
     "shell.execute_reply": "2021-05-21T07:31:54.470839Z"
    }
   },
   "outputs": [
    {
     "data": {
      "text/plain": [
       "4.982355117797852"
      ]
     },
     "execution_count": 1,
     "metadata": {},
     "output_type": "execute_result"
    }
   ],
   "source": [
    "import time\n",
    "time.sleep(1.)\n",
    "field.ramp_time()"
   ]
  },
  {
   "cell_type": "code",
   "execution_count": 22,
   "id": "italian-liberty",
   "metadata": {
    "execution": {
     "iopub.execute_input": "2021-05-21T07:31:54.475905Z",
     "iopub.status.busy": "2021-05-21T07:31:54.474885Z",
     "iopub.status.idle": "2021-05-21T07:31:55.482615Z",
     "shell.execute_reply": "2021-05-21T07:31:55.483195Z"
    }
   },
   "outputs": [
    {
     "data": {
      "text/plain": [
       "3.972622156143189"
      ]
     },
     "execution_count": 1,
     "metadata": {},
     "output_type": "execute_result"
    }
   ],
   "source": [
    "import time\n",
    "time.sleep(1.)\n",
    "field.ramp_time()"
   ]
  },
  {
   "cell_type": "code",
   "execution_count": null,
   "id": "mobile-buffalo",
   "metadata": {},
   "outputs": [],
   "source": []
  }
 ],
 "metadata": {
  "kernelspec": {
   "display_name": "Python 3.7.9 64-bit ('qcodes': conda)",
   "name": "python379jvsc74a57bd01772f43cf92542b0c64f9621787c7542d65141a21c16e4e61ad35c3f481e9993"
  },
  "language_info": {
   "codemirror_mode": {
    "name": "ipython",
    "version": 3
   },
   "file_extension": ".py",
   "mimetype": "text/x-python",
   "name": "python",
   "nbconvert_exporter": "python",
   "pygments_lexer": "ipython3",
   "version": "3.7.10"
  }
 },
 "nbformat": 4,
 "nbformat_minor": 5
}
