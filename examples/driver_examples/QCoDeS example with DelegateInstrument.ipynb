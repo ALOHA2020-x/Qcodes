{
 "cells": [
  {
   "cell_type": "markdown",
   "id": "plain-primary",
   "metadata": {},
   "source": [
    "# Qcodes example with DelegateInstrument driver\n",
    "\n",
    "This notebooks explains how to use the `DelegateInstrument` driver.\n",
    "\n",
    "## About\n",
    "The goal of the `DelegateInstrument` driver is to make it easier to combine different parameters together into a new \"virtual\" instrument. Each parameter on a `DelegateInstrument` can point to one or more parameters on other instruments in the station.\n",
    "\n",
    "## Usage\n",
    "The way it's used is mainly by specifying an entry in the station YAML. For instance, let's say you want to use a magnetic field coil. The driver has a method set_field(value, block), that by default is set to block=True, which means the field is ramped in a way that blocks further execution until the desired value is reached. However, let's say you are creating a measurement in which you want the parameter to be set, and while the value is ramping, you want to measure other parameters. This can be done by using `DelegateInstrument` and specifying a custom `setter` for the parameter that gets and sets the magnetic field.\n",
    "\n",
    "By default, each parameter is represented by a `DelegateParameter`. The `DelegateInstrument` also supports passing multiple source parameters to a given parameter. In order to do this, simply specify multiple parameters in the dictionary values  under the `parameters` key."
   ]
  },
  {
   "cell_type": "code",
   "execution_count": 1,
   "id": "sapphire-quebec",
   "metadata": {
    "execution": {
     "iopub.execute_input": "2021-05-28T07:55:23.665419Z",
     "iopub.status.busy": "2021-05-28T07:55:23.664788Z",
     "iopub.status.idle": "2021-05-28T07:55:23.675477Z",
     "shell.execute_reply": "2021-05-28T07:55:23.674852Z"
    }
   },
   "outputs": [
    {
     "name": "stdout",
     "output_type": "stream",
     "text": [
      "Writing example.yaml\n"
     ]
    }
   ],
   "source": [
    "%%writefile example.yaml\n",
    "\n",
    "instruments:\n",
    "  field_X:\n",
    "    type: qcodes.tests.instrument_mocks.MockField\n",
    "\n",
    "  field:\n",
    "    type: qcodes.instrument.delegate.DelegateInstrument\n",
    "    init:\n",
    "      parameters:\n",
    "        X:\n",
    "          - field_X.field\n",
    "        ramp_rate:\n",
    "          - field_X.ramp_rate\n",
    "        combined:\n",
    "          - field_X.field\n",
    "          - field_X.ramp_rate\n",
    "      set_initial_values_on_load: true\n",
    "      initial_values:\n",
    "        ramp_rate: 1.0\n",
    "      setters:\n",
    "        X:\n",
    "          method: field_X.set_field\n",
    "          block: false"
   ]
  },
  {
   "cell_type": "code",
   "execution_count": 2,
   "id": "younger-newspaper",
   "metadata": {
    "execution": {
     "iopub.execute_input": "2021-05-28T07:55:23.679332Z",
     "iopub.status.busy": "2021-05-28T07:55:23.678739Z",
     "iopub.status.idle": "2021-05-28T07:55:24.923101Z",
     "shell.execute_reply": "2021-05-28T07:55:24.923635Z"
    }
   },
   "outputs": [
    {
     "name": "stdout",
     "output_type": "stream",
     "text": [
      "Logging hadn't been started.\n",
      "Activating auto-logging. Current session state plus future input saved.\n",
      "Filename       : /home/runner/.qcodes/logs/command_history.log\n",
      "Mode           : append\n",
      "Output logging : True\n",
      "Raw input log  : False\n",
      "Timestamping   : True\n",
      "State          : active\n"
     ]
    },
    {
     "name": "stdout",
     "output_type": "stream",
     "text": [
      "Qcodes Logfile : /home/runner/.qcodes/logs/210528-9188-qcodes.log\n"
     ]
    }
   ],
   "source": [
    "import qcodes as qc"
   ]
  },
  {
   "cell_type": "code",
   "execution_count": 3,
   "id": "muslim-briefs",
   "metadata": {
    "execution": {
     "iopub.execute_input": "2021-05-28T07:55:24.940439Z",
     "iopub.status.busy": "2021-05-28T07:55:24.927640Z",
     "iopub.status.idle": "2021-05-28T07:55:24.943013Z",
     "shell.execute_reply": "2021-05-28T07:55:24.943546Z"
    }
   },
   "outputs": [],
   "source": [
    "station = qc.Station(config_file=\"example.yaml\")"
   ]
  },
  {
   "cell_type": "code",
   "execution_count": 4,
   "id": "greatest-antenna",
   "metadata": {
    "execution": {
     "iopub.execute_input": "2021-05-28T07:55:24.948020Z",
     "iopub.status.busy": "2021-05-28T07:55:24.947360Z",
     "iopub.status.idle": "2021-05-28T07:55:24.975480Z",
     "shell.execute_reply": "2021-05-28T07:55:24.976004Z"
    }
   },
   "outputs": [],
   "source": [
    "field_X = station.load_field_X()\n",
    "field = station.load_field(station=station)"
   ]
  },
  {
   "cell_type": "code",
   "execution_count": 5,
   "id": "every-playing",
   "metadata": {
    "execution": {
     "iopub.execute_input": "2021-05-28T07:55:24.989139Z",
     "iopub.status.busy": "2021-05-28T07:55:24.988088Z",
     "iopub.status.idle": "2021-05-28T07:55:24.991716Z",
     "shell.execute_reply": "2021-05-28T07:55:24.992336Z"
    }
   },
   "outputs": [
    {
     "data": {
      "text/plain": [
       "0.0"
      ]
     },
     "execution_count": 1,
     "metadata": {},
     "output_type": "execute_result"
    }
   ],
   "source": [
    "field.X()"
   ]
  },
  {
   "cell_type": "code",
   "execution_count": 6,
   "id": "undefined-worst",
   "metadata": {
    "execution": {
     "iopub.execute_input": "2021-05-28T07:55:24.997792Z",
     "iopub.status.busy": "2021-05-28T07:55:24.996598Z",
     "iopub.status.idle": "2021-05-28T07:55:24.999624Z",
     "shell.execute_reply": "2021-05-28T07:55:24.999059Z"
    }
   },
   "outputs": [],
   "source": [
    "field.X(1.)"
   ]
  },
  {
   "cell_type": "code",
   "execution_count": 7,
   "id": "recreational-suggestion",
   "metadata": {
    "execution": {
     "iopub.execute_input": "2021-05-28T07:55:25.004036Z",
     "iopub.status.busy": "2021-05-28T07:55:25.003364Z",
     "iopub.status.idle": "2021-05-28T07:55:25.009608Z",
     "shell.execute_reply": "2021-05-28T07:55:25.009014Z"
    }
   },
   "outputs": [
    {
     "data": {
      "text/plain": [
       "0.00010858376820882162"
      ]
     },
     "execution_count": 1,
     "metadata": {},
     "output_type": "execute_result"
    }
   ],
   "source": [
    "field.X()"
   ]
  },
  {
   "cell_type": "code",
   "execution_count": 8,
   "id": "adopted-exchange",
   "metadata": {
    "execution": {
     "iopub.execute_input": "2021-05-28T07:55:25.014887Z",
     "iopub.status.busy": "2021-05-28T07:55:25.014179Z",
     "iopub.status.idle": "2021-05-28T07:55:25.017501Z",
     "shell.execute_reply": "2021-05-28T07:55:25.018055Z"
    }
   },
   "outputs": [
    {
     "data": {
      "text/plain": [
       "0.0002770821253458659"
      ]
     },
     "execution_count": 1,
     "metadata": {},
     "output_type": "execute_result"
    }
   ],
   "source": [
    "field.X()"
   ]
  },
  {
   "cell_type": "code",
   "execution_count": 9,
   "id": "bound-broadcasting",
   "metadata": {
    "execution": {
     "iopub.execute_input": "2021-05-28T07:55:25.023015Z",
     "iopub.status.busy": "2021-05-28T07:55:25.020920Z",
     "iopub.status.idle": "2021-05-28T07:55:25.025665Z",
     "shell.execute_reply": "2021-05-28T07:55:25.026204Z"
    }
   },
   "outputs": [
    {
     "data": {
      "text/plain": [
       "0.00041486422220865884"
      ]
     },
     "execution_count": 1,
     "metadata": {},
     "output_type": "execute_result"
    }
   ],
   "source": [
    "field.X()"
   ]
  },
  {
   "cell_type": "code",
   "execution_count": 10,
   "id": "casual-ghost",
   "metadata": {
    "execution": {
     "iopub.execute_input": "2021-05-28T07:55:25.031356Z",
     "iopub.status.busy": "2021-05-28T07:55:25.029320Z",
     "iopub.status.idle": "2021-05-28T07:55:25.033990Z",
     "shell.execute_reply": "2021-05-28T07:55:25.034532Z"
    }
   },
   "outputs": [
    {
     "data": {
      "text/plain": [
       "0.0005513866742451986"
      ]
     },
     "execution_count": 1,
     "metadata": {},
     "output_type": "execute_result"
    }
   ],
   "source": [
    "field.X()"
   ]
  },
  {
   "cell_type": "markdown",
   "id": "alike-process",
   "metadata": {},
   "source": [
    "As you can see, the field is now ramped in the background with the specified ramp rate. Now, let's try to create a measurement that uses this ability, and ramps the field in the background while measuring:"
   ]
  },
  {
   "cell_type": "code",
   "execution_count": 11,
   "id": "sustained-tiger",
   "metadata": {
    "execution": {
     "iopub.execute_input": "2021-05-28T07:55:25.038422Z",
     "iopub.status.busy": "2021-05-28T07:55:25.037772Z",
     "iopub.status.idle": "2021-05-28T07:55:25.043975Z",
     "shell.execute_reply": "2021-05-28T07:55:25.044523Z"
    }
   },
   "outputs": [],
   "source": [
    "field.ramp_rate(10.)\n",
    "field_X.field(0.0)"
   ]
  },
  {
   "cell_type": "code",
   "execution_count": 12,
   "id": "pharmaceutical-partition",
   "metadata": {
    "execution": {
     "iopub.execute_input": "2021-05-28T07:55:25.050683Z",
     "iopub.status.busy": "2021-05-28T07:55:25.049552Z",
     "iopub.status.idle": "2021-05-28T07:55:25.052732Z",
     "shell.execute_reply": "2021-05-28T07:55:25.053289Z"
    }
   },
   "outputs": [
    {
     "data": {
      "text/plain": [
       "0.0"
      ]
     },
     "execution_count": 1,
     "metadata": {},
     "output_type": "execute_result"
    }
   ],
   "source": [
    "field.X()"
   ]
  },
  {
   "cell_type": "code",
   "execution_count": 13,
   "id": "happy-ordinance",
   "metadata": {
    "execution": {
     "iopub.execute_input": "2021-05-28T07:55:25.060319Z",
     "iopub.status.busy": "2021-05-28T07:55:25.058456Z",
     "iopub.status.idle": "2021-05-28T07:55:26.283109Z",
     "shell.execute_reply": "2021-05-28T07:55:26.283631Z"
    }
   },
   "outputs": [
    {
     "name": "stdout",
     "output_type": "stream",
     "text": [
      "Starting experimental run with id: 56. \n"
     ]
    }
   ],
   "source": [
    "import time\n",
    "meas = qc.Measurement(station=station)\n",
    "meas.register_parameter(field.X)\n",
    "\n",
    "with meas.run() as datasaver:\n",
    "    for B in [0.1, 0.0]:\n",
    "        field.X(B)\n",
    "        while field.X() != B:\n",
    "            datasaver.add_result((field.X, field.X()))\n",
    "            time.sleep(0.01)\n",
    "    datasaver.flush_data_to_database()"
   ]
  },
  {
   "cell_type": "code",
   "execution_count": 14,
   "id": "short-medium",
   "metadata": {
    "execution": {
     "iopub.execute_input": "2021-05-28T07:55:26.289296Z",
     "iopub.status.busy": "2021-05-28T07:55:26.288235Z",
     "iopub.status.idle": "2021-05-28T07:55:26.711669Z",
     "shell.execute_reply": "2021-05-28T07:55:26.711100Z"
    }
   },
   "outputs": [
    {
     "data": {
      "text/plain": [
       "<AxesSubplot:>"
      ]
     },
     "execution_count": 1,
     "metadata": {},
     "output_type": "execute_result"
    },
    {
     "data": {
      "image/png": "[encoded data removed]",
      "text/plain": [
       "<Figure size 432x288 with 1 Axes>"
      ]
     },
     "metadata": {
      "needs_background": "light"
     },
     "output_type": "display_data"
    }
   ],
   "source": [
    "datasaver.dataset.to_pandas_dataframe().plot()"
   ]
  },
  {
   "cell_type": "markdown",
   "id": "incomplete-vietnamese",
   "metadata": {},
   "source": [
    "When specifying multiple source parameters on a given parameter, the grouped parameter will automatically return a `namedtuple` that returns both values."
   ]
  },
  {
   "cell_type": "code",
   "execution_count": 15,
   "id": "dangerous-finder",
   "metadata": {
    "execution": {
     "iopub.execute_input": "2021-05-28T07:55:26.716637Z",
     "iopub.status.busy": "2021-05-28T07:55:26.715707Z",
     "iopub.status.idle": "2021-05-28T07:55:26.721108Z",
     "shell.execute_reply": "2021-05-28T07:55:26.721677Z"
    }
   },
   "outputs": [
    {
     "data": {
      "text/plain": [
       "combined(field=0.0, ramp_rate=10.0)"
      ]
     },
     "execution_count": 1,
     "metadata": {},
     "output_type": "execute_result"
    }
   ],
   "source": [
    "field.combined()"
   ]
  },
  {
   "cell_type": "markdown",
   "id": "consolidated-cooper",
   "metadata": {},
   "source": [
    "We can now also create a custom parameter that does a simple calculation based on the current parameters."
   ]
  },
  {
   "cell_type": "code",
   "execution_count": 16,
   "id": "designed-bloom",
   "metadata": {
    "execution": {
     "iopub.execute_input": "2021-05-28T07:55:26.726227Z",
     "iopub.status.busy": "2021-05-28T07:55:26.725668Z",
     "iopub.status.idle": "2021-05-28T07:55:26.728972Z",
     "shell.execute_reply": "2021-05-28T07:55:26.729410Z"
    }
   },
   "outputs": [],
   "source": [
    "import numpy as np\n",
    "\n",
    "def calculate_ramp_time(X, ramp_rate):\n",
    "    \"\"\"Calculate ramp time in seconds\"\"\"\n",
    "    dfield = np.abs(field.target_field - X)\n",
    "    return 60. * dfield/ramp_rate"
   ]
  },
  {
   "cell_type": "code",
   "execution_count": 17,
   "id": "disabled-logic",
   "metadata": {
    "execution": {
     "iopub.execute_input": "2021-05-28T07:55:26.733996Z",
     "iopub.status.busy": "2021-05-28T07:55:26.733422Z",
     "iopub.status.idle": "2021-05-28T07:55:26.737328Z",
     "shell.execute_reply": "2021-05-28T07:55:26.736830Z"
    },
    "scrolled": true
   },
   "outputs": [],
   "source": [
    "field._create_and_add_parameter(\n",
    "    group_name=\"ramp_time\",\n",
    "    station=station,\n",
    "    paths=[\"field_X.field\", \"field_X.ramp_rate\"],\n",
    "    formatter=calculate_ramp_time\n",
    ")"
   ]
  },
  {
   "cell_type": "code",
   "execution_count": 18,
   "id": "adverse-february",
   "metadata": {
    "execution": {
     "iopub.execute_input": "2021-05-28T07:55:26.742549Z",
     "iopub.status.busy": "2021-05-28T07:55:26.741987Z",
     "iopub.status.idle": "2021-05-28T07:55:26.744655Z",
     "shell.execute_reply": "2021-05-28T07:55:26.745182Z"
    }
   },
   "outputs": [
    {
     "data": {
      "text/plain": [
       "6.0"
      ]
     },
     "execution_count": 1,
     "metadata": {},
     "output_type": "execute_result"
    }
   ],
   "source": [
    "field.ramp_rate(1.0)\n",
    "field.target_field = 0.1\n",
    "field.ramp_time()"
   ]
  },
  {
   "cell_type": "code",
   "execution_count": 19,
   "id": "statutory-xerox",
   "metadata": {
    "execution": {
     "iopub.execute_input": "2021-05-28T07:55:26.749917Z",
     "iopub.status.busy": "2021-05-28T07:55:26.748647Z",
     "iopub.status.idle": "2021-05-28T07:55:26.750548Z",
     "shell.execute_reply": "2021-05-28T07:55:26.751039Z"
    }
   },
   "outputs": [],
   "source": [
    "field.X(0.1)"
   ]
  },
  {
   "cell_type": "code",
   "execution_count": 20,
   "id": "varying-auditor",
   "metadata": {
    "execution": {
     "iopub.execute_input": "2021-05-28T07:55:26.756496Z",
     "iopub.status.busy": "2021-05-28T07:55:26.755857Z",
     "iopub.status.idle": "2021-05-28T07:55:26.758791Z",
     "shell.execute_reply": "2021-05-28T07:55:26.759262Z"
    }
   },
   "outputs": [
    {
     "data": {
      "text/plain": [
       "5.993875026702881"
      ]
     },
     "execution_count": 1,
     "metadata": {},
     "output_type": "execute_result"
    }
   ],
   "source": [
    "field.ramp_time()"
   ]
  },
  {
   "cell_type": "code",
   "execution_count": 21,
   "id": "chubby-nickel",
   "metadata": {
    "execution": {
     "iopub.execute_input": "2021-05-28T07:55:26.762971Z",
     "iopub.status.busy": "2021-05-28T07:55:26.762304Z",
     "iopub.status.idle": "2021-05-28T07:55:27.768188Z",
     "shell.execute_reply": "2021-05-28T07:55:27.767583Z"
    }
   },
   "outputs": [
    {
     "data": {
      "text/plain": [
       "4.98432993888855"
      ]
     },
     "execution_count": 1,
     "metadata": {},
     "output_type": "execute_result"
    }
   ],
   "source": [
    "import time\n",
    "time.sleep(1.)\n",
    "field.ramp_time()"
   ]
  },
  {
   "cell_type": "code",
   "execution_count": 22,
   "id": "italian-liberty",
   "metadata": {
    "execution": {
     "iopub.execute_input": "2021-05-28T07:55:27.772317Z",
     "iopub.status.busy": "2021-05-28T07:55:27.771608Z",
     "iopub.status.idle": "2021-05-28T07:55:28.777252Z",
     "shell.execute_reply": "2021-05-28T07:55:28.777906Z"
    }
   },
   "outputs": [
    {
     "data": {
      "text/plain": [
       "3.9752917289733887"
      ]
     },
     "execution_count": 1,
     "metadata": {},
     "output_type": "execute_result"
    }
   ],
   "source": [
    "import time\n",
    "time.sleep(1.)\n",
    "field.ramp_time()"
   ]
  },
  {
   "cell_type": "code",
   "execution_count": null,
   "id": "mobile-buffalo",
   "metadata": {},
   "outputs": [],
   "source": []
  }
 ],
 "metadata": {
  "kernelspec": {
   "display_name": "Python 3.7.9 64-bit ('qcodes': conda)",
   "name": "python379jvsc74a57bd01772f43cf92542b0c64f9621787c7542d65141a21c16e4e61ad35c3f481e9993"
  },
  "language_info": {
   "codemirror_mode": {
    "name": "ipython",
    "version": 3
   },
   "file_extension": ".py",
   "mimetype": "text/x-python",
   "name": "python",
   "nbconvert_exporter": "python",
   "pygments_lexer": "ipython3",
   "version": "3.7.10"
  }
 },
 "nbformat": 4,
 "nbformat_minor": 5
}
