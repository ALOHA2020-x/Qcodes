{
 "cells": [
  {
   "cell_type": "markdown",
   "id": "plain-primary",
   "metadata": {},
   "source": [
    "# Qcodes example with DelegateInstrument driver\n",
    "\n",
    "This notebooks explains how to use the `DelegateInstrument` driver.\n",
    "\n",
    "## About\n",
    "The goal of the `DelegateInstrument` driver is to make it easier to combine different parameters together into a new \"virtual\" instrument. Each parameter on a `DelegateInstrument` can point to one or more parameters on other instruments in the station.\n",
    "\n",
    "## Usage\n",
    "The way it's used is mainly by specifying an entry in the station YAML. For instance, let's say you want to use a magnetic field coil. The driver has a method set_field(value, block), that by default is set to block=True, which means the field is ramped in a way that blocks further execution until the desired value is reached. However, let's say you are creating a measurement in which you want the parameter to be set, and while the value is ramping, you want to measure other parameters. This can be done by using `DelegateInstrument` and specifying a custom `setter` for the parameter that gets and sets the magnetic field.\n",
    "\n",
    "By default, each parameter is represented by a `DelegateParameter`. The `DelegateInstrument` also supports passing multiple source parameters to a given parameter. In order to do this, simply specify multiple parameters in the dictionary values  under the `parameters` key."
   ]
  },
  {
   "cell_type": "code",
   "execution_count": 1,
   "id": "sapphire-quebec",
   "metadata": {
    "execution": {
     "iopub.execute_input": "2021-05-17T09:33:51.157685Z",
     "iopub.status.busy": "2021-05-17T09:33:51.156793Z",
     "iopub.status.idle": "2021-05-17T09:33:51.160408Z",
     "shell.execute_reply": "2021-05-17T09:33:51.160882Z"
    }
   },
   "outputs": [
    {
     "name": "stdout",
     "output_type": "stream",
     "text": [
      "Writing example.yaml\n"
     ]
    }
   ],
   "source": [
    "%%writefile example.yaml\n",
    "\n",
    "instruments:\n",
    "  field_X:\n",
    "    type: qcodes.tests.instrument_mocks.MockField\n",
    "\n",
    "  field:\n",
    "    type: qcodes.instrument.delegate.DelegateInstrument\n",
    "    init:\n",
    "      parameters:\n",
    "        X:\n",
    "          - field_X.field\n",
    "        ramp_rate:\n",
    "          - field_X.ramp_rate\n",
    "        combined:\n",
    "          - field_X.field\n",
    "          - field_X.ramp_rate\n",
    "      set_initial_values_on_load: true\n",
    "      initial_values:\n",
    "        ramp_rate: 1.0\n",
    "      setters:\n",
    "        X:\n",
    "          method: field_X.set_field\n",
    "          block: false"
   ]
  },
  {
   "cell_type": "code",
   "execution_count": 2,
   "id": "younger-newspaper",
   "metadata": {
    "execution": {
     "iopub.execute_input": "2021-05-17T09:33:51.164808Z",
     "iopub.status.busy": "2021-05-17T09:33:51.163672Z",
     "iopub.status.idle": "2021-05-17T09:33:52.295298Z",
     "shell.execute_reply": "2021-05-17T09:33:52.295785Z"
    }
   },
   "outputs": [
    {
     "name": "stdout",
     "output_type": "stream",
     "text": [
      "Logging hadn't been started.\n",
      "Activating auto-logging. Current session state plus future input saved.\n",
      "Filename       : /home/runner/.qcodes/logs/command_history.log\n",
      "Mode           : append\n",
      "Output logging : True\n",
      "Raw input log  : False\n",
      "Timestamping   : True\n",
      "State          : active\n"
     ]
    },
    {
     "name": "stdout",
     "output_type": "stream",
     "text": [
      "Qcodes Logfile : /home/runner/.qcodes/logs/210517-9433-qcodes.log\n"
     ]
    }
   ],
   "source": [
    "import qcodes as qc"
   ]
  },
  {
   "cell_type": "code",
   "execution_count": 3,
   "id": "muslim-briefs",
   "metadata": {
    "execution": {
     "iopub.execute_input": "2021-05-17T09:33:52.309350Z",
     "iopub.status.busy": "2021-05-17T09:33:52.300119Z",
     "iopub.status.idle": "2021-05-17T09:33:52.317487Z",
     "shell.execute_reply": "2021-05-17T09:33:52.316506Z"
    }
   },
   "outputs": [],
   "source": [
    "station = qc.Station(config_file=\"example.yaml\")"
   ]
  },
  {
   "cell_type": "code",
   "execution_count": 4,
   "id": "greatest-antenna",
   "metadata": {
    "execution": {
     "iopub.execute_input": "2021-05-17T09:33:52.328037Z",
     "iopub.status.busy": "2021-05-17T09:33:52.321615Z",
     "iopub.status.idle": "2021-05-17T09:33:52.349321Z",
     "shell.execute_reply": "2021-05-17T09:33:52.349809Z"
    }
   },
   "outputs": [],
   "source": [
    "field_X = station.load_field_X()\n",
    "field = station.load_field(station=station)"
   ]
  },
  {
   "cell_type": "code",
   "execution_count": 5,
   "id": "every-playing",
   "metadata": {
    "execution": {
     "iopub.execute_input": "2021-05-17T09:33:52.360767Z",
     "iopub.status.busy": "2021-05-17T09:33:52.358213Z",
     "iopub.status.idle": "2021-05-17T09:33:52.366194Z",
     "shell.execute_reply": "2021-05-17T09:33:52.365690Z"
    }
   },
   "outputs": [
    {
     "data": {
      "text/plain": [
       "0.0"
      ]
     },
     "execution_count": 1,
     "metadata": {},
     "output_type": "execute_result"
    }
   ],
   "source": [
    "field.X()"
   ]
  },
  {
   "cell_type": "code",
   "execution_count": 6,
   "id": "undefined-worst",
   "metadata": {
    "execution": {
     "iopub.execute_input": "2021-05-17T09:33:52.370262Z",
     "iopub.status.busy": "2021-05-17T09:33:52.369611Z",
     "iopub.status.idle": "2021-05-17T09:33:52.373054Z",
     "shell.execute_reply": "2021-05-17T09:33:52.373510Z"
    }
   },
   "outputs": [],
   "source": [
    "field.X(1.)"
   ]
  },
  {
   "cell_type": "code",
   "execution_count": 7,
   "id": "recreational-suggestion",
   "metadata": {
    "execution": {
     "iopub.execute_input": "2021-05-17T09:33:52.378845Z",
     "iopub.status.busy": "2021-05-17T09:33:52.377852Z",
     "iopub.status.idle": "2021-05-17T09:33:52.381177Z",
     "shell.execute_reply": "2021-05-17T09:33:52.381705Z"
    }
   },
   "outputs": [
    {
     "data": {
      "text/plain": [
       "0.00011951923370361328"
      ]
     },
     "execution_count": 1,
     "metadata": {},
     "output_type": "execute_result"
    }
   ],
   "source": [
    "field.X()"
   ]
  },
  {
   "cell_type": "code",
   "execution_count": 8,
   "id": "adopted-exchange",
   "metadata": {
    "execution": {
     "iopub.execute_input": "2021-05-17T09:33:52.385780Z",
     "iopub.status.busy": "2021-05-17T09:33:52.385169Z",
     "iopub.status.idle": "2021-05-17T09:33:52.390222Z",
     "shell.execute_reply": "2021-05-17T09:33:52.389569Z"
    }
   },
   "outputs": [
    {
     "data": {
      "text/plain": [
       "0.0002577026685078939"
      ]
     },
     "execution_count": 1,
     "metadata": {},
     "output_type": "execute_result"
    }
   ],
   "source": [
    "field.X()"
   ]
  },
  {
   "cell_type": "code",
   "execution_count": 9,
   "id": "bound-broadcasting",
   "metadata": {
    "execution": {
     "iopub.execute_input": "2021-05-17T09:33:52.395651Z",
     "iopub.status.busy": "2021-05-17T09:33:52.394548Z",
     "iopub.status.idle": "2021-05-17T09:33:52.397473Z",
     "shell.execute_reply": "2021-05-17T09:33:52.398064Z"
    }
   },
   "outputs": [
    {
     "data": {
      "text/plain": [
       "0.0003974477450052897"
      ]
     },
     "execution_count": 1,
     "metadata": {},
     "output_type": "execute_result"
    }
   ],
   "source": [
    "field.X()"
   ]
  },
  {
   "cell_type": "code",
   "execution_count": 10,
   "id": "casual-ghost",
   "metadata": {
    "execution": {
     "iopub.execute_input": "2021-05-17T09:33:52.402949Z",
     "iopub.status.busy": "2021-05-17T09:33:52.402354Z",
     "iopub.status.idle": "2021-05-17T09:33:52.405286Z",
     "shell.execute_reply": "2021-05-17T09:33:52.405770Z"
    }
   },
   "outputs": [
    {
     "data": {
      "text/plain": [
       "0.0005294680595397949"
      ]
     },
     "execution_count": 1,
     "metadata": {},
     "output_type": "execute_result"
    }
   ],
   "source": [
    "field.X()"
   ]
  },
  {
   "cell_type": "markdown",
   "id": "alike-process",
   "metadata": {},
   "source": [
    "As you can see, the field is now ramped in the background with the specified ramp rate. Now, let's try to create a measurement that uses this ability, and ramps the field in the background while measuring:"
   ]
  },
  {
   "cell_type": "code",
   "execution_count": 11,
   "id": "sustained-tiger",
   "metadata": {
    "execution": {
     "iopub.execute_input": "2021-05-17T09:33:52.409717Z",
     "iopub.status.busy": "2021-05-17T09:33:52.408987Z",
     "iopub.status.idle": "2021-05-17T09:33:52.414934Z",
     "shell.execute_reply": "2021-05-17T09:33:52.414434Z"
    }
   },
   "outputs": [],
   "source": [
    "field.ramp_rate(10.)\n",
    "field_X.field(0.0)"
   ]
  },
  {
   "cell_type": "code",
   "execution_count": 12,
   "id": "pharmaceutical-partition",
   "metadata": {
    "execution": {
     "iopub.execute_input": "2021-05-17T09:33:52.420771Z",
     "iopub.status.busy": "2021-05-17T09:33:52.419389Z",
     "iopub.status.idle": "2021-05-17T09:33:52.422787Z",
     "shell.execute_reply": "2021-05-17T09:33:52.422282Z"
    }
   },
   "outputs": [
    {
     "data": {
      "text/plain": [
       "0.0"
      ]
     },
     "execution_count": 1,
     "metadata": {},
     "output_type": "execute_result"
    }
   ],
   "source": [
    "field.X()"
   ]
  },
  {
   "cell_type": "code",
   "execution_count": 13,
   "id": "happy-ordinance",
   "metadata": {
    "execution": {
     "iopub.execute_input": "2021-05-17T09:33:52.428564Z",
     "iopub.status.busy": "2021-05-17T09:33:52.427919Z",
     "iopub.status.idle": "2021-05-17T09:33:53.647876Z",
     "shell.execute_reply": "2021-05-17T09:33:53.647410Z"
    }
   },
   "outputs": [
    {
     "name": "stdout",
     "output_type": "stream",
     "text": [
      "Starting experimental run with id: 56. \n"
     ]
    }
   ],
   "source": [
    "import time\n",
    "meas = qc.Measurement(station=station)\n",
    "meas.register_parameter(field.X)\n",
    "\n",
    "with meas.run() as datasaver:\n",
    "    for B in [0.1, 0.0]:\n",
    "        field.X(B)\n",
    "        while field.X() != B:\n",
    "            datasaver.add_result((field.X, field.X()))\n",
    "            time.sleep(0.01)\n",
    "    datasaver.flush_data_to_database()"
   ]
  },
  {
   "cell_type": "code",
   "execution_count": 14,
   "id": "short-medium",
   "metadata": {
    "execution": {
     "iopub.execute_input": "2021-05-17T09:33:53.651732Z",
     "iopub.status.busy": "2021-05-17T09:33:53.650858Z",
     "iopub.status.idle": "2021-05-17T09:33:54.044954Z",
     "shell.execute_reply": "2021-05-17T09:33:54.044506Z"
    }
   },
   "outputs": [
    {
     "data": {
      "text/plain": [
       "<AxesSubplot:>"
      ]
     },
     "execution_count": 1,
     "metadata": {},
     "output_type": "execute_result"
    },
    {
     "data": {
      "image/png": "[encoded data removed]",
      "text/plain": [
       "<Figure size 432x288 with 1 Axes>"
      ]
     },
     "metadata": {
      "needs_background": "light"
     },
     "output_type": "display_data"
    }
   ],
   "source": [
    "datasaver.dataset.to_pandas_dataframe().plot()"
   ]
  },
  {
   "cell_type": "markdown",
   "id": "incomplete-vietnamese",
   "metadata": {},
   "source": [
    "When specifying multiple source parameters on a given parameter, the grouped parameter will automatically return a `namedtuple` that returns both values."
   ]
  },
  {
   "cell_type": "code",
   "execution_count": 15,
   "id": "dangerous-finder",
   "metadata": {
    "execution": {
     "iopub.execute_input": "2021-05-17T09:33:54.049326Z",
     "iopub.status.busy": "2021-05-17T09:33:54.048799Z",
     "iopub.status.idle": "2021-05-17T09:33:54.052583Z",
     "shell.execute_reply": "2021-05-17T09:33:54.052975Z"
    }
   },
   "outputs": [
    {
     "data": {
      "text/plain": [
       "combined(field=0.0, ramp_rate=10.0)"
      ]
     },
     "execution_count": 1,
     "metadata": {},
     "output_type": "execute_result"
    }
   ],
   "source": [
    "field.combined()"
   ]
  },
  {
   "cell_type": "markdown",
   "id": "consolidated-cooper",
   "metadata": {},
   "source": [
    "We can now also create a custom parameter that does a simple calculation based on the current parameters."
   ]
  },
  {
   "cell_type": "code",
   "execution_count": 16,
   "id": "designed-bloom",
   "metadata": {
    "execution": {
     "iopub.execute_input": "2021-05-17T09:33:54.060132Z",
     "iopub.status.busy": "2021-05-17T09:33:54.059476Z",
     "iopub.status.idle": "2021-05-17T09:33:54.075951Z",
     "shell.execute_reply": "2021-05-17T09:33:54.080544Z"
    }
   },
   "outputs": [],
   "source": [
    "import numpy as np\n",
    "\n",
    "def calculate_ramp_time(X, ramp_rate):\n",
    "    \"\"\"Calculate ramp time in seconds\"\"\"\n",
    "    dfield = np.abs(field.target_field - X)\n",
    "    return 60. * dfield/ramp_rate"
   ]
  },
  {
   "cell_type": "code",
   "execution_count": 17,
   "id": "disabled-logic",
   "metadata": {
    "execution": {
     "iopub.execute_input": "2021-05-17T09:33:54.085865Z",
     "iopub.status.busy": "2021-05-17T09:33:54.084479Z",
     "iopub.status.idle": "2021-05-17T09:33:54.086732Z",
     "shell.execute_reply": "2021-05-17T09:33:54.088470Z"
    },
    "scrolled": true
   },
   "outputs": [],
   "source": [
    "field._create_and_add_parameter(\n",
    "    group_name=\"ramp_time\",\n",
    "    station=station,\n",
    "    paths=[\"field_X.field\", \"field_X.ramp_rate\"],\n",
    "    formatter=calculate_ramp_time\n",
    ")"
   ]
  },
  {
   "cell_type": "code",
   "execution_count": 18,
   "id": "adverse-february",
   "metadata": {
    "execution": {
     "iopub.execute_input": "2021-05-17T09:33:54.093801Z",
     "iopub.status.busy": "2021-05-17T09:33:54.093214Z",
     "iopub.status.idle": "2021-05-17T09:33:54.096043Z",
     "shell.execute_reply": "2021-05-17T09:33:54.097594Z"
    }
   },
   "outputs": [
    {
     "data": {
      "text/plain": [
       "6.0"
      ]
     },
     "execution_count": 1,
     "metadata": {},
     "output_type": "execute_result"
    }
   ],
   "source": [
    "field.ramp_rate(1.0)\n",
    "field.target_field = 0.1\n",
    "field.ramp_time()"
   ]
  },
  {
   "cell_type": "code",
   "execution_count": 19,
   "id": "statutory-xerox",
   "metadata": {
    "execution": {
     "iopub.execute_input": "2021-05-17T09:33:54.103005Z",
     "iopub.status.busy": "2021-05-17T09:33:54.101351Z",
     "iopub.status.idle": "2021-05-17T09:33:54.103622Z",
     "shell.execute_reply": "2021-05-17T09:33:54.104086Z"
    }
   },
   "outputs": [],
   "source": [
    "field.X(0.1)"
   ]
  },
  {
   "cell_type": "code",
   "execution_count": 20,
   "id": "varying-auditor",
   "metadata": {
    "execution": {
     "iopub.execute_input": "2021-05-17T09:33:54.110108Z",
     "iopub.status.busy": "2021-05-17T09:33:54.108885Z",
     "iopub.status.idle": "2021-05-17T09:33:54.112605Z",
     "shell.execute_reply": "2021-05-17T09:33:54.112073Z"
    }
   },
   "outputs": [
    {
     "data": {
      "text/plain": [
       "5.993785619735718"
      ]
     },
     "execution_count": 1,
     "metadata": {},
     "output_type": "execute_result"
    }
   ],
   "source": [
    "field.ramp_time()"
   ]
  },
  {
   "cell_type": "code",
   "execution_count": 21,
   "id": "chubby-nickel",
   "metadata": {
    "execution": {
     "iopub.execute_input": "2021-05-17T09:33:54.116143Z",
     "iopub.status.busy": "2021-05-17T09:33:54.115557Z",
     "iopub.status.idle": "2021-05-17T09:33:55.120836Z",
     "shell.execute_reply": "2021-05-17T09:33:55.121238Z"
    }
   },
   "outputs": [
    {
     "data": {
      "text/plain": [
       "4.983963012695313"
      ]
     },
     "execution_count": 1,
     "metadata": {},
     "output_type": "execute_result"
    }
   ],
   "source": [
    "import time\n",
    "time.sleep(1.)\n",
    "field.ramp_time()"
   ]
  },
  {
   "cell_type": "code",
   "execution_count": 22,
   "id": "italian-liberty",
   "metadata": {
    "execution": {
     "iopub.execute_input": "2021-05-17T09:33:55.124710Z",
     "iopub.status.busy": "2021-05-17T09:33:55.124171Z",
     "iopub.status.idle": "2021-05-17T09:33:56.129918Z",
     "shell.execute_reply": "2021-05-17T09:33:56.130374Z"
    }
   },
   "outputs": [
    {
     "data": {
      "text/plain": [
       "3.975231409072876"
      ]
     },
     "execution_count": 1,
     "metadata": {},
     "output_type": "execute_result"
    }
   ],
   "source": [
    "import time\n",
    "time.sleep(1.)\n",
    "field.ramp_time()"
   ]
  },
  {
   "cell_type": "code",
   "execution_count": null,
   "id": "mobile-buffalo",
   "metadata": {},
   "outputs": [],
   "source": []
  }
 ],
 "metadata": {
  "kernelspec": {
   "display_name": "Python 3.7.9 64-bit ('qcodes': conda)",
   "name": "python379jvsc74a57bd01772f43cf92542b0c64f9621787c7542d65141a21c16e4e61ad35c3f481e9993"
  },
  "language_info": {
   "codemirror_mode": {
    "name": "ipython",
    "version": 3
   },
   "file_extension": ".py",
   "mimetype": "text/x-python",
   "name": "python",
   "nbconvert_exporter": "python",
   "pygments_lexer": "ipython3",
   "version": "3.7.10"
  }
 },
 "nbformat": 4,
 "nbformat_minor": 5
}
