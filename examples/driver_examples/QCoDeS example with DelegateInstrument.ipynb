{
 "cells": [
  {
   "cell_type": "markdown",
   "id": "plain-primary",
   "metadata": {},
   "source": [
    "# Qcodes example with DelegateInstrument driver\n",
    "\n",
    "This notebooks explains how to use the `DelegateInstrument` driver.\n",
    "\n",
    "## About\n",
    "The goal of the `DelegateInstrument` driver is to make it easier to combine different parameters together into a new \"virtual\" instrument. Each parameter on a `DelegateInstrument` can point to one or more parameters on other instruments in the station.\n",
    "\n",
    "## Usage\n",
    "The way it's used is mainly by specifying an entry in the station YAML. For instance, let's say you want to use a magnetic field coil. The driver has a method set_field(value, block), that by default is set to block=True, which means the field is ramped in a way that blocks further execution until the desired value is reached. However, let's say you are creating a measurement in which you want the parameter to be set, and while the value is ramping, you want to measure other parameters. This can be done by using `DelegateInstrument` and specifying a custom `setter` for the parameter that gets and sets the magnetic field.\n",
    "\n",
    "By default, each parameter is represented by a `DelegateParameter`. The `DelegateInstrument` also supports passing multiple source parameters to a given parameter. In order to do this, simply specify multiple parameters in the dictionary values  under the `parameters` key."
   ]
  },
  {
   "cell_type": "code",
   "execution_count": 1,
   "id": "sapphire-quebec",
   "metadata": {
    "execution": {
     "iopub.execute_input": "2021-05-28T07:05:16.283966Z",
     "iopub.status.busy": "2021-05-28T07:05:16.283364Z",
     "iopub.status.idle": "2021-05-28T07:05:16.291907Z",
     "shell.execute_reply": "2021-05-28T07:05:16.292327Z"
    }
   },
   "outputs": [
    {
     "name": "stdout",
     "output_type": "stream",
     "text": [
      "Writing example.yaml\n"
     ]
    }
   ],
   "source": [
    "%%writefile example.yaml\n",
    "\n",
    "instruments:\n",
    "  field_X:\n",
    "    type: qcodes.tests.instrument_mocks.MockField\n",
    "\n",
    "  field:\n",
    "    type: qcodes.instrument.delegate.DelegateInstrument\n",
    "    init:\n",
    "      parameters:\n",
    "        X:\n",
    "          - field_X.field\n",
    "        ramp_rate:\n",
    "          - field_X.ramp_rate\n",
    "        combined:\n",
    "          - field_X.field\n",
    "          - field_X.ramp_rate\n",
    "      set_initial_values_on_load: true\n",
    "      initial_values:\n",
    "        ramp_rate: 1.0\n",
    "      setters:\n",
    "        X:\n",
    "          method: field_X.set_field\n",
    "          block: false"
   ]
  },
  {
   "cell_type": "code",
   "execution_count": 2,
   "id": "younger-newspaper",
   "metadata": {
    "execution": {
     "iopub.execute_input": "2021-05-28T07:05:16.295796Z",
     "iopub.status.busy": "2021-05-28T07:05:16.295283Z",
     "iopub.status.idle": "2021-05-28T07:05:17.376324Z",
     "shell.execute_reply": "2021-05-28T07:05:17.375370Z"
    }
   },
   "outputs": [
    {
     "name": "stdout",
     "output_type": "stream",
     "text": [
      "Logging hadn't been started.\n",
      "Activating auto-logging. Current session state plus future input saved.\n",
      "Filename       : /home/runner/.qcodes/logs/command_history.log\n",
      "Mode           : append\n",
      "Output logging : True\n",
      "Raw input log  : False\n",
      "Timestamping   : True\n",
      "State          : active\n"
     ]
    },
    {
     "name": "stdout",
     "output_type": "stream",
     "text": [
      "Qcodes Logfile : /home/runner/.qcodes/logs/210528-9370-qcodes.log\n"
     ]
    }
   ],
   "source": [
    "import qcodes as qc"
   ]
  },
  {
   "cell_type": "code",
   "execution_count": 3,
   "id": "muslim-briefs",
   "metadata": {
    "execution": {
     "iopub.execute_input": "2021-05-28T07:05:17.386960Z",
     "iopub.status.busy": "2021-05-28T07:05:17.379745Z",
     "iopub.status.idle": "2021-05-28T07:05:17.392503Z",
     "shell.execute_reply": "2021-05-28T07:05:17.391814Z"
    }
   },
   "outputs": [],
   "source": [
    "station = qc.Station(config_file=\"example.yaml\")"
   ]
  },
  {
   "cell_type": "code",
   "execution_count": 4,
   "id": "greatest-antenna",
   "metadata": {
    "execution": {
     "iopub.execute_input": "2021-05-28T07:05:17.403853Z",
     "iopub.status.busy": "2021-05-28T07:05:17.395231Z",
     "iopub.status.idle": "2021-05-28T07:05:17.419579Z",
     "shell.execute_reply": "2021-05-28T07:05:17.418778Z"
    }
   },
   "outputs": [],
   "source": [
    "field_X = station.load_field_X()\n",
    "field = station.load_field(station=station)"
   ]
  },
  {
   "cell_type": "code",
   "execution_count": 5,
   "id": "every-playing",
   "metadata": {
    "execution": {
     "iopub.execute_input": "2021-05-28T07:05:17.428427Z",
     "iopub.status.busy": "2021-05-28T07:05:17.427440Z",
     "iopub.status.idle": "2021-05-28T07:05:17.432997Z",
     "shell.execute_reply": "2021-05-28T07:05:17.432571Z"
    }
   },
   "outputs": [
    {
     "data": {
      "text/plain": [
       "0.0"
      ]
     },
     "execution_count": 1,
     "metadata": {},
     "output_type": "execute_result"
    }
   ],
   "source": [
    "field.X()"
   ]
  },
  {
   "cell_type": "code",
   "execution_count": 6,
   "id": "undefined-worst",
   "metadata": {
    "execution": {
     "iopub.execute_input": "2021-05-28T07:05:17.436384Z",
     "iopub.status.busy": "2021-05-28T07:05:17.435898Z",
     "iopub.status.idle": "2021-05-28T07:05:17.439045Z",
     "shell.execute_reply": "2021-05-28T07:05:17.438616Z"
    }
   },
   "outputs": [],
   "source": [
    "field.X(1.)"
   ]
  },
  {
   "cell_type": "code",
   "execution_count": 7,
   "id": "recreational-suggestion",
   "metadata": {
    "execution": {
     "iopub.execute_input": "2021-05-28T07:05:17.442477Z",
     "iopub.status.busy": "2021-05-28T07:05:17.441989Z",
     "iopub.status.idle": "2021-05-28T07:05:17.446628Z",
     "shell.execute_reply": "2021-05-28T07:05:17.446199Z"
    }
   },
   "outputs": [
    {
     "data": {
      "text/plain": [
       "9.761651357014974e-05"
      ]
     },
     "execution_count": 1,
     "metadata": {},
     "output_type": "execute_result"
    }
   ],
   "source": [
    "field.X()"
   ]
  },
  {
   "cell_type": "code",
   "execution_count": 8,
   "id": "adopted-exchange",
   "metadata": {
    "execution": {
     "iopub.execute_input": "2021-05-28T07:05:17.450305Z",
     "iopub.status.busy": "2021-05-28T07:05:17.449825Z",
     "iopub.status.idle": "2021-05-28T07:05:17.454293Z",
     "shell.execute_reply": "2021-05-28T07:05:17.453614Z"
    }
   },
   "outputs": [
    {
     "data": {
      "text/plain": [
       "0.00022886594136555988"
      ]
     },
     "execution_count": 1,
     "metadata": {},
     "output_type": "execute_result"
    }
   ],
   "source": [
    "field.X()"
   ]
  },
  {
   "cell_type": "code",
   "execution_count": 9,
   "id": "bound-broadcasting",
   "metadata": {
    "execution": {
     "iopub.execute_input": "2021-05-28T07:05:17.457946Z",
     "iopub.status.busy": "2021-05-28T07:05:17.457174Z",
     "iopub.status.idle": "2021-05-28T07:05:17.461351Z",
     "shell.execute_reply": "2021-05-28T07:05:17.460934Z"
    }
   },
   "outputs": [
    {
     "data": {
      "text/plain": [
       "0.0003514846165974935"
      ]
     },
     "execution_count": 1,
     "metadata": {},
     "output_type": "execute_result"
    }
   ],
   "source": [
    "field.X()"
   ]
  },
  {
   "cell_type": "code",
   "execution_count": 10,
   "id": "casual-ghost",
   "metadata": {
    "execution": {
     "iopub.execute_input": "2021-05-28T07:05:17.464794Z",
     "iopub.status.busy": "2021-05-28T07:05:17.464314Z",
     "iopub.status.idle": "2021-05-28T07:05:17.468404Z",
     "shell.execute_reply": "2021-05-28T07:05:17.467677Z"
    }
   },
   "outputs": [
    {
     "data": {
      "text/plain": [
       "0.00046977599461873375"
      ]
     },
     "execution_count": 1,
     "metadata": {},
     "output_type": "execute_result"
    }
   ],
   "source": [
    "field.X()"
   ]
  },
  {
   "cell_type": "markdown",
   "id": "alike-process",
   "metadata": {},
   "source": [
    "As you can see, the field is now ramped in the background with the specified ramp rate. Now, let's try to create a measurement that uses this ability, and ramps the field in the background while measuring:"
   ]
  },
  {
   "cell_type": "code",
   "execution_count": 11,
   "id": "sustained-tiger",
   "metadata": {
    "execution": {
     "iopub.execute_input": "2021-05-28T07:05:17.471785Z",
     "iopub.status.busy": "2021-05-28T07:05:17.471276Z",
     "iopub.status.idle": "2021-05-28T07:05:17.477039Z",
     "shell.execute_reply": "2021-05-28T07:05:17.476628Z"
    }
   },
   "outputs": [],
   "source": [
    "field.ramp_rate(10.)\n",
    "field_X.field(0.0)"
   ]
  },
  {
   "cell_type": "code",
   "execution_count": 12,
   "id": "pharmaceutical-partition",
   "metadata": {
    "execution": {
     "iopub.execute_input": "2021-05-28T07:05:17.480490Z",
     "iopub.status.busy": "2021-05-28T07:05:17.480011Z",
     "iopub.status.idle": "2021-05-28T07:05:17.484764Z",
     "shell.execute_reply": "2021-05-28T07:05:17.484348Z"
    }
   },
   "outputs": [
    {
     "data": {
      "text/plain": [
       "0.0"
      ]
     },
     "execution_count": 1,
     "metadata": {},
     "output_type": "execute_result"
    }
   ],
   "source": [
    "field.X()"
   ]
  },
  {
   "cell_type": "code",
   "execution_count": 13,
   "id": "happy-ordinance",
   "metadata": {
    "execution": {
     "iopub.execute_input": "2021-05-28T07:05:17.489579Z",
     "iopub.status.busy": "2021-05-28T07:05:17.489079Z",
     "iopub.status.idle": "2021-05-28T07:05:18.715474Z",
     "shell.execute_reply": "2021-05-28T07:05:18.714956Z"
    }
   },
   "outputs": [
    {
     "name": "stdout",
     "output_type": "stream",
     "text": [
      "Starting experimental run with id: 56. \n"
     ]
    }
   ],
   "source": [
    "import time\n",
    "meas = qc.Measurement(station=station)\n",
    "meas.register_parameter(field.X)\n",
    "\n",
    "with meas.run() as datasaver:\n",
    "    for B in [0.1, 0.0]:\n",
    "        field.X(B)\n",
    "        while field.X() != B:\n",
    "            datasaver.add_result((field.X, field.X()))\n",
    "            time.sleep(0.01)\n",
    "    datasaver.flush_data_to_database()"
   ]
  },
  {
   "cell_type": "code",
   "execution_count": 14,
   "id": "short-medium",
   "metadata": {
    "execution": {
     "iopub.execute_input": "2021-05-28T07:05:18.719097Z",
     "iopub.status.busy": "2021-05-28T07:05:18.718607Z",
     "iopub.status.idle": "2021-05-28T07:05:19.092843Z",
     "shell.execute_reply": "2021-05-28T07:05:19.093267Z"
    }
   },
   "outputs": [
    {
     "data": {
      "text/plain": [
       "<AxesSubplot:>"
      ]
     },
     "execution_count": 1,
     "metadata": {},
     "output_type": "execute_result"
    },
    {
     "data": {
      "image/png": "[encoded data removed]",
      "text/plain": [
       "<Figure size 432x288 with 1 Axes>"
      ]
     },
     "metadata": {
      "needs_background": "light"
     },
     "output_type": "display_data"
    }
   ],
   "source": [
    "datasaver.dataset.to_pandas_dataframe().plot()"
   ]
  },
  {
   "cell_type": "markdown",
   "id": "incomplete-vietnamese",
   "metadata": {},
   "source": [
    "When specifying multiple source parameters on a given parameter, the grouped parameter will automatically return a `namedtuple` that returns both values."
   ]
  },
  {
   "cell_type": "code",
   "execution_count": 15,
   "id": "dangerous-finder",
   "metadata": {
    "execution": {
     "iopub.execute_input": "2021-05-28T07:05:19.097852Z",
     "iopub.status.busy": "2021-05-28T07:05:19.097350Z",
     "iopub.status.idle": "2021-05-28T07:05:19.102110Z",
     "shell.execute_reply": "2021-05-28T07:05:19.101668Z"
    }
   },
   "outputs": [
    {
     "data": {
      "text/plain": [
       "combined(field=0.0, ramp_rate=10.0)"
      ]
     },
     "execution_count": 1,
     "metadata": {},
     "output_type": "execute_result"
    }
   ],
   "source": [
    "field.combined()"
   ]
  },
  {
   "cell_type": "markdown",
   "id": "consolidated-cooper",
   "metadata": {},
   "source": [
    "We can now also create a custom parameter that does a simple calculation based on the current parameters."
   ]
  },
  {
   "cell_type": "code",
   "execution_count": 16,
   "id": "designed-bloom",
   "metadata": {
    "execution": {
     "iopub.execute_input": "2021-05-28T07:05:19.106504Z",
     "iopub.status.busy": "2021-05-28T07:05:19.106009Z",
     "iopub.status.idle": "2021-05-28T07:05:19.109169Z",
     "shell.execute_reply": "2021-05-28T07:05:19.108764Z"
    }
   },
   "outputs": [],
   "source": [
    "import numpy as np\n",
    "\n",
    "def calculate_ramp_time(X, ramp_rate):\n",
    "    \"\"\"Calculate ramp time in seconds\"\"\"\n",
    "    dfield = np.abs(field.target_field - X)\n",
    "    return 60. * dfield/ramp_rate"
   ]
  },
  {
   "cell_type": "code",
   "execution_count": 17,
   "id": "disabled-logic",
   "metadata": {
    "execution": {
     "iopub.execute_input": "2021-05-28T07:05:19.113074Z",
     "iopub.status.busy": "2021-05-28T07:05:19.112588Z",
     "iopub.status.idle": "2021-05-28T07:05:19.115798Z",
     "shell.execute_reply": "2021-05-28T07:05:19.115344Z"
    },
    "scrolled": true
   },
   "outputs": [],
   "source": [
    "field._create_and_add_parameter(\n",
    "    group_name=\"ramp_time\",\n",
    "    station=station,\n",
    "    paths=[\"field_X.field\", \"field_X.ramp_rate\"],\n",
    "    formatter=calculate_ramp_time\n",
    ")"
   ]
  },
  {
   "cell_type": "code",
   "execution_count": 18,
   "id": "adverse-february",
   "metadata": {
    "execution": {
     "iopub.execute_input": "2021-05-28T07:05:19.119788Z",
     "iopub.status.busy": "2021-05-28T07:05:19.119279Z",
     "iopub.status.idle": "2021-05-28T07:05:19.123910Z",
     "shell.execute_reply": "2021-05-28T07:05:19.123480Z"
    }
   },
   "outputs": [
    {
     "data": {
      "text/plain": [
       "6.0"
      ]
     },
     "execution_count": 1,
     "metadata": {},
     "output_type": "execute_result"
    }
   ],
   "source": [
    "field.ramp_rate(1.0)\n",
    "field.target_field = 0.1\n",
    "field.ramp_time()"
   ]
  },
  {
   "cell_type": "code",
   "execution_count": 19,
   "id": "statutory-xerox",
   "metadata": {
    "execution": {
     "iopub.execute_input": "2021-05-28T07:05:19.127111Z",
     "iopub.status.busy": "2021-05-28T07:05:19.126629Z",
     "iopub.status.idle": "2021-05-28T07:05:19.129447Z",
     "shell.execute_reply": "2021-05-28T07:05:19.129824Z"
    }
   },
   "outputs": [],
   "source": [
    "field.X(0.1)"
   ]
  },
  {
   "cell_type": "code",
   "execution_count": 20,
   "id": "varying-auditor",
   "metadata": {
    "execution": {
     "iopub.execute_input": "2021-05-28T07:05:19.134232Z",
     "iopub.status.busy": "2021-05-28T07:05:19.133725Z",
     "iopub.status.idle": "2021-05-28T07:05:19.136116Z",
     "shell.execute_reply": "2021-05-28T07:05:19.136514Z"
    }
   },
   "outputs": [
    {
     "data": {
      "text/plain": [
       "5.994048595428467"
      ]
     },
     "execution_count": 1,
     "metadata": {},
     "output_type": "execute_result"
    }
   ],
   "source": [
    "field.ramp_time()"
   ]
  },
  {
   "cell_type": "code",
   "execution_count": 21,
   "id": "chubby-nickel",
   "metadata": {
    "execution": {
     "iopub.execute_input": "2021-05-28T07:05:19.139577Z",
     "iopub.status.busy": "2021-05-28T07:05:19.139075Z",
     "iopub.status.idle": "2021-05-28T07:05:20.144604Z",
     "shell.execute_reply": "2021-05-28T07:05:20.145049Z"
    }
   },
   "outputs": [
    {
     "data": {
      "text/plain": [
       "4.985976219177246"
      ]
     },
     "execution_count": 1,
     "metadata": {},
     "output_type": "execute_result"
    }
   ],
   "source": [
    "import time\n",
    "time.sleep(1.)\n",
    "field.ramp_time()"
   ]
  },
  {
   "cell_type": "code",
   "execution_count": 22,
   "id": "italian-liberty",
   "metadata": {
    "execution": {
     "iopub.execute_input": "2021-05-28T07:05:20.148737Z",
     "iopub.status.busy": "2021-05-28T07:05:20.148255Z",
     "iopub.status.idle": "2021-05-28T07:05:21.153853Z",
     "shell.execute_reply": "2021-05-28T07:05:21.154320Z"
    }
   },
   "outputs": [
    {
     "data": {
      "text/plain": [
       "3.976837158203125"
      ]
     },
     "execution_count": 1,
     "metadata": {},
     "output_type": "execute_result"
    }
   ],
   "source": [
    "import time\n",
    "time.sleep(1.)\n",
    "field.ramp_time()"
   ]
  },
  {
   "cell_type": "code",
   "execution_count": null,
   "id": "mobile-buffalo",
   "metadata": {},
   "outputs": [],
   "source": []
  }
 ],
 "metadata": {
  "kernelspec": {
   "display_name": "Python 3.7.9 64-bit ('qcodes': conda)",
   "name": "python379jvsc74a57bd01772f43cf92542b0c64f9621787c7542d65141a21c16e4e61ad35c3f481e9993"
  },
  "language_info": {
   "codemirror_mode": {
    "name": "ipython",
    "version": 3
   },
   "file_extension": ".py",
   "mimetype": "text/x-python",
   "name": "python",
   "nbconvert_exporter": "python",
   "pygments_lexer": "ipython3",
   "version": "3.7.10"
  }
 },
 "nbformat": 4,
 "nbformat_minor": 5
}
