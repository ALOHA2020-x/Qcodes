{
 "cells": [
  {
   "cell_type": "markdown",
   "id": "plain-primary",
   "metadata": {},
   "source": [
    "# Qcodes example with DelegateInstrument driver\n",
    "\n",
    "This notebooks explains how to use the `DelegateInstrument` driver.\n",
    "\n",
    "## About\n",
    "The goal of the `DelegateInstrument` driver is to make it easier to combine different parameters together into a new \"virtual\" instrument. Each parameter on a `DelegateInstrument` can point to one or more parameters on other instruments in the station.\n",
    "\n",
    "## Usage\n",
    "The way it's used is mainly by specifying an entry in the station YAML. For instance, let's say you want to use a magnetic field coil. The driver has a method set_field(value, block), that by default is set to block=True, which means the field is ramped in a way that blocks further execution until the desired value is reached. However, let's say you are creating a measurement in which you want the parameter to be set, and while the value is ramping, you want to measure other parameters. This can be done by using `DelegateInstrument` and specifying a custom `setter` for the parameter that gets and sets the magnetic field.\n",
    "\n",
    "By default, each parameter is represented by a `DelegateParameter`. The `DelegateInstrument` also supports passing multiple source parameters to a given parameter. In order to do this, simply specify multiple parameters in the dictionary values  under the `parameters` key."
   ]
  },
  {
   "cell_type": "code",
   "execution_count": 1,
   "id": "sapphire-quebec",
   "metadata": {
    "execution": {
     "iopub.execute_input": "2021-05-25T10:22:34.186324Z",
     "iopub.status.busy": "2021-05-25T10:22:34.185590Z",
     "iopub.status.idle": "2021-05-25T10:22:34.196800Z",
     "shell.execute_reply": "2021-05-25T10:22:34.196070Z"
    }
   },
   "outputs": [
    {
     "name": "stdout",
     "output_type": "stream",
     "text": [
      "Writing example.yaml\n"
     ]
    }
   ],
   "source": [
    "%%writefile example.yaml\n",
    "\n",
    "instruments:\n",
    "  field_X:\n",
    "    type: qcodes.tests.instrument_mocks.MockField\n",
    "\n",
    "  field:\n",
    "    type: qcodes.instrument.delegate.DelegateInstrument\n",
    "    init:\n",
    "      parameters:\n",
    "        X:\n",
    "          - field_X.field\n",
    "        ramp_rate:\n",
    "          - field_X.ramp_rate\n",
    "        combined:\n",
    "          - field_X.field\n",
    "          - field_X.ramp_rate\n",
    "      set_initial_values_on_load: true\n",
    "      initial_values:\n",
    "        ramp_rate: 1.0\n",
    "      setters:\n",
    "        X:\n",
    "          method: field_X.set_field\n",
    "          block: false"
   ]
  },
  {
   "cell_type": "code",
   "execution_count": 2,
   "id": "younger-newspaper",
   "metadata": {
    "execution": {
     "iopub.execute_input": "2021-05-25T10:22:34.201335Z",
     "iopub.status.busy": "2021-05-25T10:22:34.200649Z",
     "iopub.status.idle": "2021-05-25T10:22:35.538181Z",
     "shell.execute_reply": "2021-05-25T10:22:35.537544Z"
    }
   },
   "outputs": [
    {
     "name": "stdout",
     "output_type": "stream",
     "text": [
      "Logging hadn't been started.\n",
      "Activating auto-logging. Current session state plus future input saved.\n",
      "Filename       : /home/runner/.qcodes/logs/command_history.log\n",
      "Mode           : append\n",
      "Output logging : True\n",
      "Raw input log  : False\n",
      "Timestamping   : True\n",
      "State          : active\n"
     ]
    },
    {
     "name": "stdout",
     "output_type": "stream",
     "text": [
      "Qcodes Logfile : /home/runner/.qcodes/logs/210525-9356-qcodes.log\n"
     ]
    }
   ],
   "source": [
    "import qcodes as qc"
   ]
  },
  {
   "cell_type": "code",
   "execution_count": 3,
   "id": "muslim-briefs",
   "metadata": {
    "execution": {
     "iopub.execute_input": "2021-05-25T10:22:35.551168Z",
     "iopub.status.busy": "2021-05-25T10:22:35.542007Z",
     "iopub.status.idle": "2021-05-25T10:22:35.558762Z",
     "shell.execute_reply": "2021-05-25T10:22:35.557829Z"
    }
   },
   "outputs": [],
   "source": [
    "station = qc.Station(config_file=\"example.yaml\")"
   ]
  },
  {
   "cell_type": "code",
   "execution_count": 4,
   "id": "greatest-antenna",
   "metadata": {
    "execution": {
     "iopub.execute_input": "2021-05-25T10:22:35.563105Z",
     "iopub.status.busy": "2021-05-25T10:22:35.562327Z",
     "iopub.status.idle": "2021-05-25T10:22:35.591723Z",
     "shell.execute_reply": "2021-05-25T10:22:35.591195Z"
    }
   },
   "outputs": [],
   "source": [
    "field_X = station.load_field_X()\n",
    "field = station.load_field(station=station)"
   ]
  },
  {
   "cell_type": "code",
   "execution_count": 5,
   "id": "every-playing",
   "metadata": {
    "execution": {
     "iopub.execute_input": "2021-05-25T10:22:35.603834Z",
     "iopub.status.busy": "2021-05-25T10:22:35.600097Z",
     "iopub.status.idle": "2021-05-25T10:22:35.606488Z",
     "shell.execute_reply": "2021-05-25T10:22:35.607078Z"
    }
   },
   "outputs": [
    {
     "data": {
      "text/plain": [
       "0.0"
      ]
     },
     "execution_count": 1,
     "metadata": {},
     "output_type": "execute_result"
    }
   ],
   "source": [
    "field.X()"
   ]
  },
  {
   "cell_type": "code",
   "execution_count": 6,
   "id": "undefined-worst",
   "metadata": {
    "execution": {
     "iopub.execute_input": "2021-05-25T10:22:35.612541Z",
     "iopub.status.busy": "2021-05-25T10:22:35.610960Z",
     "iopub.status.idle": "2021-05-25T10:22:35.613238Z",
     "shell.execute_reply": "2021-05-25T10:22:35.613941Z"
    }
   },
   "outputs": [],
   "source": [
    "field.X(1.)"
   ]
  },
  {
   "cell_type": "code",
   "execution_count": 7,
   "id": "recreational-suggestion",
   "metadata": {
    "execution": {
     "iopub.execute_input": "2021-05-25T10:22:35.619863Z",
     "iopub.status.busy": "2021-05-25T10:22:35.618725Z",
     "iopub.status.idle": "2021-05-25T10:22:35.622660Z",
     "shell.execute_reply": "2021-05-25T10:22:35.621991Z"
    }
   },
   "outputs": [
    {
     "data": {
      "text/plain": [
       "0.00011002620061238607"
      ]
     },
     "execution_count": 1,
     "metadata": {},
     "output_type": "execute_result"
    }
   ],
   "source": [
    "field.X()"
   ]
  },
  {
   "cell_type": "code",
   "execution_count": 8,
   "id": "adopted-exchange",
   "metadata": {
    "execution": {
     "iopub.execute_input": "2021-05-25T10:22:35.629436Z",
     "iopub.status.busy": "2021-05-25T10:22:35.627997Z",
     "iopub.status.idle": "2021-05-25T10:22:35.631686Z",
     "shell.execute_reply": "2021-05-25T10:22:35.631148Z"
    }
   },
   "outputs": [
    {
     "data": {
      "text/plain": [
       "0.00025629599889119467"
      ]
     },
     "execution_count": 1,
     "metadata": {},
     "output_type": "execute_result"
    }
   ],
   "source": [
    "field.X()"
   ]
  },
  {
   "cell_type": "code",
   "execution_count": 9,
   "id": "bound-broadcasting",
   "metadata": {
    "execution": {
     "iopub.execute_input": "2021-05-25T10:22:35.637976Z",
     "iopub.status.busy": "2021-05-25T10:22:35.636696Z",
     "iopub.status.idle": "2021-05-25T10:22:35.640806Z",
     "shell.execute_reply": "2021-05-25T10:22:35.640102Z"
    }
   },
   "outputs": [
    {
     "data": {
      "text/plain": [
       "0.00040404399236043296"
      ]
     },
     "execution_count": 1,
     "metadata": {},
     "output_type": "execute_result"
    }
   ],
   "source": [
    "field.X()"
   ]
  },
  {
   "cell_type": "code",
   "execution_count": 10,
   "id": "casual-ghost",
   "metadata": {
    "execution": {
     "iopub.execute_input": "2021-05-25T10:22:35.646740Z",
     "iopub.status.busy": "2021-05-25T10:22:35.645537Z",
     "iopub.status.idle": "2021-05-25T10:22:35.649392Z",
     "shell.execute_reply": "2021-05-25T10:22:35.648809Z"
    }
   },
   "outputs": [
    {
     "data": {
      "text/plain": [
       "0.0005572835604349772"
      ]
     },
     "execution_count": 1,
     "metadata": {},
     "output_type": "execute_result"
    }
   ],
   "source": [
    "field.X()"
   ]
  },
  {
   "cell_type": "markdown",
   "id": "alike-process",
   "metadata": {},
   "source": [
    "As you can see, the field is now ramped in the background with the specified ramp rate. Now, let's try to create a measurement that uses this ability, and ramps the field in the background while measuring:"
   ]
  },
  {
   "cell_type": "code",
   "execution_count": 11,
   "id": "sustained-tiger",
   "metadata": {
    "execution": {
     "iopub.execute_input": "2021-05-25T10:22:35.653570Z",
     "iopub.status.busy": "2021-05-25T10:22:35.652930Z",
     "iopub.status.idle": "2021-05-25T10:22:35.658744Z",
     "shell.execute_reply": "2021-05-25T10:22:35.659300Z"
    }
   },
   "outputs": [],
   "source": [
    "field.ramp_rate(10.)\n",
    "field_X.field(0.0)"
   ]
  },
  {
   "cell_type": "code",
   "execution_count": 12,
   "id": "pharmaceutical-partition",
   "metadata": {
    "execution": {
     "iopub.execute_input": "2021-05-25T10:22:35.665683Z",
     "iopub.status.busy": "2021-05-25T10:22:35.664068Z",
     "iopub.status.idle": "2021-05-25T10:22:35.667939Z",
     "shell.execute_reply": "2021-05-25T10:22:35.667362Z"
    }
   },
   "outputs": [
    {
     "data": {
      "text/plain": [
       "0.0"
      ]
     },
     "execution_count": 1,
     "metadata": {},
     "output_type": "execute_result"
    }
   ],
   "source": [
    "field.X()"
   ]
  },
  {
   "cell_type": "code",
   "execution_count": 13,
   "id": "happy-ordinance",
   "metadata": {
    "execution": {
     "iopub.execute_input": "2021-05-25T10:22:35.674049Z",
     "iopub.status.busy": "2021-05-25T10:22:35.673387Z",
     "iopub.status.idle": "2021-05-25T10:22:36.905376Z",
     "shell.execute_reply": "2021-05-25T10:22:36.904801Z"
    }
   },
   "outputs": [
    {
     "name": "stdout",
     "output_type": "stream",
     "text": [
      "Starting experimental run with id: 56. \n"
     ]
    }
   ],
   "source": [
    "import time\n",
    "meas = qc.Measurement(station=station)\n",
    "meas.register_parameter(field.X)\n",
    "\n",
    "with meas.run() as datasaver:\n",
    "    for B in [0.1, 0.0]:\n",
    "        field.X(B)\n",
    "        while field.X() != B:\n",
    "            datasaver.add_result((field.X, field.X()))\n",
    "            time.sleep(0.01)\n",
    "    datasaver.flush_data_to_database()"
   ]
  },
  {
   "cell_type": "code",
   "execution_count": 14,
   "id": "short-medium",
   "metadata": {
    "execution": {
     "iopub.execute_input": "2021-05-25T10:22:36.910575Z",
     "iopub.status.busy": "2021-05-25T10:22:36.909506Z",
     "iopub.status.idle": "2021-05-25T10:22:37.387649Z",
     "shell.execute_reply": "2021-05-25T10:22:37.388231Z"
    }
   },
   "outputs": [
    {
     "data": {
      "text/plain": [
       "<AxesSubplot:>"
      ]
     },
     "execution_count": 1,
     "metadata": {},
     "output_type": "execute_result"
    },
    {
     "data": {
      "image/png": "[encoded data removed]",
      "text/plain": [
       "<Figure size 432x288 with 1 Axes>"
      ]
     },
     "metadata": {
      "needs_background": "light"
     },
     "output_type": "display_data"
    }
   ],
   "source": [
    "datasaver.dataset.to_pandas_dataframe().plot()"
   ]
  },
  {
   "cell_type": "markdown",
   "id": "incomplete-vietnamese",
   "metadata": {},
   "source": [
    "When specifying multiple source parameters on a given parameter, the grouped parameter will automatically return a `namedtuple` that returns both values."
   ]
  },
  {
   "cell_type": "code",
   "execution_count": 15,
   "id": "dangerous-finder",
   "metadata": {
    "execution": {
     "iopub.execute_input": "2021-05-25T10:22:37.393814Z",
     "iopub.status.busy": "2021-05-25T10:22:37.393134Z",
     "iopub.status.idle": "2021-05-25T10:22:37.399649Z",
     "shell.execute_reply": "2021-05-25T10:22:37.399090Z"
    }
   },
   "outputs": [
    {
     "data": {
      "text/plain": [
       "combined(field=0.0, ramp_rate=10.0)"
      ]
     },
     "execution_count": 1,
     "metadata": {},
     "output_type": "execute_result"
    }
   ],
   "source": [
    "field.combined()"
   ]
  },
  {
   "cell_type": "markdown",
   "id": "consolidated-cooper",
   "metadata": {},
   "source": [
    "We can now also create a custom parameter that does a simple calculation based on the current parameters."
   ]
  },
  {
   "cell_type": "code",
   "execution_count": 16,
   "id": "designed-bloom",
   "metadata": {
    "execution": {
     "iopub.execute_input": "2021-05-25T10:22:37.404710Z",
     "iopub.status.busy": "2021-05-25T10:22:37.403981Z",
     "iopub.status.idle": "2021-05-25T10:22:37.407919Z",
     "shell.execute_reply": "2021-05-25T10:22:37.408456Z"
    }
   },
   "outputs": [],
   "source": [
    "import numpy as np\n",
    "\n",
    "def calculate_ramp_time(X, ramp_rate):\n",
    "    \"\"\"Calculate ramp time in seconds\"\"\"\n",
    "    dfield = np.abs(field.target_field - X)\n",
    "    return 60. * dfield/ramp_rate"
   ]
  },
  {
   "cell_type": "code",
   "execution_count": 17,
   "id": "disabled-logic",
   "metadata": {
    "execution": {
     "iopub.execute_input": "2021-05-25T10:22:37.414687Z",
     "iopub.status.busy": "2021-05-25T10:22:37.413393Z",
     "iopub.status.idle": "2021-05-25T10:22:37.415409Z",
     "shell.execute_reply": "2021-05-25T10:22:37.415941Z"
    },
    "scrolled": true
   },
   "outputs": [],
   "source": [
    "field._create_and_add_parameter(\n",
    "    group_name=\"ramp_time\",\n",
    "    station=station,\n",
    "    paths=[\"field_X.field\", \"field_X.ramp_rate\"],\n",
    "    formatter=calculate_ramp_time\n",
    ")"
   ]
  },
  {
   "cell_type": "code",
   "execution_count": 18,
   "id": "adverse-february",
   "metadata": {
    "execution": {
     "iopub.execute_input": "2021-05-25T10:22:37.422740Z",
     "iopub.status.busy": "2021-05-25T10:22:37.421360Z",
     "iopub.status.idle": "2021-05-25T10:22:37.424795Z",
     "shell.execute_reply": "2021-05-25T10:22:37.425346Z"
    }
   },
   "outputs": [
    {
     "data": {
      "text/plain": [
       "6.0"
      ]
     },
     "execution_count": 1,
     "metadata": {},
     "output_type": "execute_result"
    }
   ],
   "source": [
    "field.ramp_rate(1.0)\n",
    "field.target_field = 0.1\n",
    "field.ramp_time()"
   ]
  },
  {
   "cell_type": "code",
   "execution_count": 19,
   "id": "statutory-xerox",
   "metadata": {
    "execution": {
     "iopub.execute_input": "2021-05-25T10:22:37.430795Z",
     "iopub.status.busy": "2021-05-25T10:22:37.429246Z",
     "iopub.status.idle": "2021-05-25T10:22:37.431537Z",
     "shell.execute_reply": "2021-05-25T10:22:37.432067Z"
    }
   },
   "outputs": [],
   "source": [
    "field.X(0.1)"
   ]
  },
  {
   "cell_type": "code",
   "execution_count": 20,
   "id": "varying-auditor",
   "metadata": {
    "execution": {
     "iopub.execute_input": "2021-05-25T10:22:37.438498Z",
     "iopub.status.busy": "2021-05-25T10:22:37.437120Z",
     "iopub.status.idle": "2021-05-25T10:22:37.440895Z",
     "shell.execute_reply": "2021-05-25T10:22:37.440295Z"
    }
   },
   "outputs": [
    {
     "data": {
      "text/plain": [
       "5.9932167530059814"
      ]
     },
     "execution_count": 1,
     "metadata": {},
     "output_type": "execute_result"
    }
   ],
   "source": [
    "field.ramp_time()"
   ]
  },
  {
   "cell_type": "code",
   "execution_count": 21,
   "id": "chubby-nickel",
   "metadata": {
    "execution": {
     "iopub.execute_input": "2021-05-25T10:22:37.444934Z",
     "iopub.status.busy": "2021-05-25T10:22:37.444288Z",
     "iopub.status.idle": "2021-05-25T10:22:38.451596Z",
     "shell.execute_reply": "2021-05-25T10:22:38.452149Z"
    }
   },
   "outputs": [
    {
     "data": {
      "text/plain": [
       "4.982927083969117"
      ]
     },
     "execution_count": 1,
     "metadata": {},
     "output_type": "execute_result"
    }
   ],
   "source": [
    "import time\n",
    "time.sleep(1.)\n",
    "field.ramp_time()"
   ]
  },
  {
   "cell_type": "code",
   "execution_count": 22,
   "id": "italian-liberty",
   "metadata": {
    "execution": {
     "iopub.execute_input": "2021-05-25T10:22:38.456586Z",
     "iopub.status.busy": "2021-05-25T10:22:38.455933Z",
     "iopub.status.idle": "2021-05-25T10:22:39.461705Z",
     "shell.execute_reply": "2021-05-25T10:22:39.462228Z"
    }
   },
   "outputs": [
    {
     "data": {
      "text/plain": [
       "3.9712793827056894"
      ]
     },
     "execution_count": 1,
     "metadata": {},
     "output_type": "execute_result"
    }
   ],
   "source": [
    "import time\n",
    "time.sleep(1.)\n",
    "field.ramp_time()"
   ]
  },
  {
   "cell_type": "code",
   "execution_count": null,
   "id": "mobile-buffalo",
   "metadata": {},
   "outputs": [],
   "source": []
  }
 ],
 "metadata": {
  "kernelspec": {
   "display_name": "Python 3.7.9 64-bit ('qcodes': conda)",
   "name": "python379jvsc74a57bd01772f43cf92542b0c64f9621787c7542d65141a21c16e4e61ad35c3f481e9993"
  },
  "language_info": {
   "codemirror_mode": {
    "name": "ipython",
    "version": 3
   },
   "file_extension": ".py",
   "mimetype": "text/x-python",
   "name": "python",
   "nbconvert_exporter": "python",
   "pygments_lexer": "ipython3",
   "version": "3.7.10"
  }
 },
 "nbformat": 4,
 "nbformat_minor": 5
}
