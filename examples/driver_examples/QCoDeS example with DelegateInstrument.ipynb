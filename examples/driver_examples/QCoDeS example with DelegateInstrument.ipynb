{
 "cells": [
  {
   "cell_type": "markdown",
   "id": "plain-primary",
   "metadata": {},
   "source": [
    "# Qcodes example with DelegateInstrument driver\n",
    "\n",
    "This notebooks explains how to use the `DelegateInstrument` driver.\n",
    "\n",
    "## About\n",
    "The goal of the `DelegateInstrument` driver is to make it easier to combine different parameters together into a new \"virtual\" instrument. Each parameter on a `DelegateInstrument` can point to one or more parameters on other instruments in the station.\n",
    "\n",
    "## Usage\n",
    "The way it's used is mainly by specifying an entry in the station YAML. For instance, let's say you want to use a magnetic field coil. The driver has a method set_field(value, block), that by default is set to block=True, which means the field is ramped in a way that blocks further execution until the desired value is reached. However, let's say you are creating a measurement in which you want the parameter to be set, and while the value is ramping, you want to measure other parameters. This can be done by using `DelegateInstrument` and specifying a custom `setter` for the parameter that gets and sets the magnetic field.\n",
    "\n",
    "By default, each parameter is represented by a `DelegateParameter`. The `DelegateInstrument` also supports passing multiple source parameters to a given parameter. In order to do this, simply specify multiple parameters in the dictionary values  under the `parameters` key."
   ]
  },
  {
   "cell_type": "code",
   "execution_count": 1,
   "id": "sapphire-quebec",
   "metadata": {
    "execution": {
     "iopub.execute_input": "2021-05-20T15:40:48.587354Z",
     "iopub.status.busy": "2021-05-20T15:40:48.586583Z",
     "iopub.status.idle": "2021-05-20T15:40:48.596094Z",
     "shell.execute_reply": "2021-05-20T15:40:48.596548Z"
    }
   },
   "outputs": [
    {
     "name": "stdout",
     "output_type": "stream",
     "text": [
      "Writing example.yaml\n"
     ]
    }
   ],
   "source": [
    "%%writefile example.yaml\n",
    "\n",
    "instruments:\n",
    "  field_X:\n",
    "    type: qcodes.tests.instrument_mocks.MockField\n",
    "\n",
    "  field:\n",
    "    type: qcodes.instrument.delegate.DelegateInstrument\n",
    "    init:\n",
    "      parameters:\n",
    "        X:\n",
    "          - field_X.field\n",
    "        ramp_rate:\n",
    "          - field_X.ramp_rate\n",
    "        combined:\n",
    "          - field_X.field\n",
    "          - field_X.ramp_rate\n",
    "      set_initial_values_on_load: true\n",
    "      initial_values:\n",
    "        ramp_rate: 1.0\n",
    "      setters:\n",
    "        X:\n",
    "          method: field_X.set_field\n",
    "          block: false"
   ]
  },
  {
   "cell_type": "code",
   "execution_count": 2,
   "id": "younger-newspaper",
   "metadata": {
    "execution": {
     "iopub.execute_input": "2021-05-20T15:40:48.601050Z",
     "iopub.status.busy": "2021-05-20T15:40:48.600503Z",
     "iopub.status.idle": "2021-05-20T15:40:49.957450Z",
     "shell.execute_reply": "2021-05-20T15:40:49.957965Z"
    }
   },
   "outputs": [
    {
     "name": "stdout",
     "output_type": "stream",
     "text": [
      "Logging hadn't been started.\n",
      "Activating auto-logging. Current session state plus future input saved.\n",
      "Filename       : /home/runner/.qcodes/logs/command_history.log\n",
      "Mode           : append\n",
      "Output logging : True\n",
      "Raw input log  : False\n",
      "Timestamping   : True\n",
      "State          : active\n"
     ]
    },
    {
     "name": "stdout",
     "output_type": "stream",
     "text": [
      "Qcodes Logfile : /home/runner/.qcodes/logs/210520-9324-qcodes.log\n"
     ]
    }
   ],
   "source": [
    "import qcodes as qc"
   ]
  },
  {
   "cell_type": "code",
   "execution_count": 3,
   "id": "muslim-briefs",
   "metadata": {
    "execution": {
     "iopub.execute_input": "2021-05-20T15:40:49.975195Z",
     "iopub.status.busy": "2021-05-20T15:40:49.961701Z",
     "iopub.status.idle": "2021-05-20T15:40:49.979101Z",
     "shell.execute_reply": "2021-05-20T15:40:49.978140Z"
    }
   },
   "outputs": [],
   "source": [
    "station = qc.Station(config_file=\"example.yaml\")"
   ]
  },
  {
   "cell_type": "code",
   "execution_count": 4,
   "id": "greatest-antenna",
   "metadata": {
    "execution": {
     "iopub.execute_input": "2021-05-20T15:40:49.982162Z",
     "iopub.status.busy": "2021-05-20T15:40:49.981540Z",
     "iopub.status.idle": "2021-05-20T15:40:50.015979Z",
     "shell.execute_reply": "2021-05-20T15:40:50.014859Z"
    }
   },
   "outputs": [],
   "source": [
    "field_X = station.load_field_X()\n",
    "field = station.load_field(station=station)"
   ]
  },
  {
   "cell_type": "code",
   "execution_count": 5,
   "id": "every-playing",
   "metadata": {
    "execution": {
     "iopub.execute_input": "2021-05-20T15:40:50.029127Z",
     "iopub.status.busy": "2021-05-20T15:40:50.028436Z",
     "iopub.status.idle": "2021-05-20T15:40:50.035129Z",
     "shell.execute_reply": "2021-05-20T15:40:50.033832Z"
    }
   },
   "outputs": [
    {
     "data": {
      "text/plain": [
       "0.0"
      ]
     },
     "execution_count": 1,
     "metadata": {},
     "output_type": "execute_result"
    }
   ],
   "source": [
    "field.X()"
   ]
  },
  {
   "cell_type": "code",
   "execution_count": 6,
   "id": "undefined-worst",
   "metadata": {
    "execution": {
     "iopub.execute_input": "2021-05-20T15:40:50.039663Z",
     "iopub.status.busy": "2021-05-20T15:40:50.038657Z",
     "iopub.status.idle": "2021-05-20T15:40:50.042610Z",
     "shell.execute_reply": "2021-05-20T15:40:50.043108Z"
    }
   },
   "outputs": [],
   "source": [
    "field.X(1.)"
   ]
  },
  {
   "cell_type": "code",
   "execution_count": 7,
   "id": "recreational-suggestion",
   "metadata": {
    "execution": {
     "iopub.execute_input": "2021-05-20T15:40:50.049434Z",
     "iopub.status.busy": "2021-05-20T15:40:50.048233Z",
     "iopub.status.idle": "2021-05-20T15:40:50.055243Z",
     "shell.execute_reply": "2021-05-20T15:40:50.054055Z"
    }
   },
   "outputs": [
    {
     "data": {
      "text/plain": [
       "0.00012481212615966797"
      ]
     },
     "execution_count": 1,
     "metadata": {},
     "output_type": "execute_result"
    }
   ],
   "source": [
    "field.X()"
   ]
  },
  {
   "cell_type": "code",
   "execution_count": 8,
   "id": "adopted-exchange",
   "metadata": {
    "execution": {
     "iopub.execute_input": "2021-05-20T15:40:50.060287Z",
     "iopub.status.busy": "2021-05-20T15:40:50.059636Z",
     "iopub.status.idle": "2021-05-20T15:40:50.064465Z",
     "shell.execute_reply": "2021-05-20T15:40:50.063936Z"
    }
   },
   "outputs": [
    {
     "data": {
      "text/plain": [
       "0.00033068259557088217"
      ]
     },
     "execution_count": 1,
     "metadata": {},
     "output_type": "execute_result"
    }
   ],
   "source": [
    "field.X()"
   ]
  },
  {
   "cell_type": "code",
   "execution_count": 9,
   "id": "bound-broadcasting",
   "metadata": {
    "execution": {
     "iopub.execute_input": "2021-05-20T15:40:50.068926Z",
     "iopub.status.busy": "2021-05-20T15:40:50.068106Z",
     "iopub.status.idle": "2021-05-20T15:40:50.074528Z",
     "shell.execute_reply": "2021-05-20T15:40:50.074010Z"
    }
   },
   "outputs": [
    {
     "data": {
      "text/plain": [
       "0.0004752357800801595"
      ]
     },
     "execution_count": 1,
     "metadata": {},
     "output_type": "execute_result"
    }
   ],
   "source": [
    "field.X()"
   ]
  },
  {
   "cell_type": "code",
   "execution_count": 10,
   "id": "casual-ghost",
   "metadata": {
    "execution": {
     "iopub.execute_input": "2021-05-20T15:40:50.080442Z",
     "iopub.status.busy": "2021-05-20T15:40:50.079842Z",
     "iopub.status.idle": "2021-05-20T15:40:50.082764Z",
     "shell.execute_reply": "2021-05-20T15:40:50.083264Z"
    }
   },
   "outputs": [
    {
     "data": {
      "text/plain": [
       "0.0006557305653889974"
      ]
     },
     "execution_count": 1,
     "metadata": {},
     "output_type": "execute_result"
    }
   ],
   "source": [
    "field.X()"
   ]
  },
  {
   "cell_type": "markdown",
   "id": "alike-process",
   "metadata": {},
   "source": [
    "As you can see, the field is now ramped in the background with the specified ramp rate. Now, let's try to create a measurement that uses this ability, and ramps the field in the background while measuring:"
   ]
  },
  {
   "cell_type": "code",
   "execution_count": 11,
   "id": "sustained-tiger",
   "metadata": {
    "execution": {
     "iopub.execute_input": "2021-05-20T15:40:50.088234Z",
     "iopub.status.busy": "2021-05-20T15:40:50.087346Z",
     "iopub.status.idle": "2021-05-20T15:40:50.094443Z",
     "shell.execute_reply": "2021-05-20T15:40:50.095006Z"
    }
   },
   "outputs": [],
   "source": [
    "field.ramp_rate(10.)\n",
    "field_X.field(0.0)"
   ]
  },
  {
   "cell_type": "code",
   "execution_count": 12,
   "id": "pharmaceutical-partition",
   "metadata": {
    "execution": {
     "iopub.execute_input": "2021-05-20T15:40:50.101187Z",
     "iopub.status.busy": "2021-05-20T15:40:50.099973Z",
     "iopub.status.idle": "2021-05-20T15:40:50.103116Z",
     "shell.execute_reply": "2021-05-20T15:40:50.103656Z"
    }
   },
   "outputs": [
    {
     "data": {
      "text/plain": [
       "0.0"
      ]
     },
     "execution_count": 1,
     "metadata": {},
     "output_type": "execute_result"
    }
   ],
   "source": [
    "field.X()"
   ]
  },
  {
   "cell_type": "code",
   "execution_count": 13,
   "id": "happy-ordinance",
   "metadata": {
    "execution": {
     "iopub.execute_input": "2021-05-20T15:40:50.110039Z",
     "iopub.status.busy": "2021-05-20T15:40:50.109192Z",
     "iopub.status.idle": "2021-05-20T15:40:51.355162Z",
     "shell.execute_reply": "2021-05-20T15:40:51.354049Z"
    }
   },
   "outputs": [
    {
     "name": "stdout",
     "output_type": "stream",
     "text": [
      "Starting experimental run with id: 56. \n"
     ]
    }
   ],
   "source": [
    "import time\n",
    "meas = qc.Measurement(station=station)\n",
    "meas.register_parameter(field.X)\n",
    "\n",
    "with meas.run() as datasaver:\n",
    "    for B in [0.1, 0.0]:\n",
    "        field.X(B)\n",
    "        while field.X() != B:\n",
    "            datasaver.add_result((field.X, field.X()))\n",
    "            time.sleep(0.01)\n",
    "    datasaver.flush_data_to_database()"
   ]
  },
  {
   "cell_type": "code",
   "execution_count": 14,
   "id": "short-medium",
   "metadata": {
    "execution": {
     "iopub.execute_input": "2021-05-20T15:40:51.360756Z",
     "iopub.status.busy": "2021-05-20T15:40:51.359373Z",
     "iopub.status.idle": "2021-05-20T15:40:51.846499Z",
     "shell.execute_reply": "2021-05-20T15:40:51.847310Z"
    }
   },
   "outputs": [
    {
     "data": {
      "text/plain": [
       "<AxesSubplot:>"
      ]
     },
     "execution_count": 1,
     "metadata": {},
     "output_type": "execute_result"
    },
    {
     "data": {
      "image/png": "[encoded data removed]",
      "text/plain": [
       "<Figure size 432x288 with 1 Axes>"
      ]
     },
     "metadata": {
      "needs_background": "light"
     },
     "output_type": "display_data"
    }
   ],
   "source": [
    "datasaver.dataset.to_pandas_dataframe().plot()"
   ]
  },
  {
   "cell_type": "markdown",
   "id": "incomplete-vietnamese",
   "metadata": {},
   "source": [
    "When specifying multiple source parameters on a given parameter, the grouped parameter will automatically return a `namedtuple` that returns both values."
   ]
  },
  {
   "cell_type": "code",
   "execution_count": 15,
   "id": "dangerous-finder",
   "metadata": {
    "execution": {
     "iopub.execute_input": "2021-05-20T15:40:51.853565Z",
     "iopub.status.busy": "2021-05-20T15:40:51.852845Z",
     "iopub.status.idle": "2021-05-20T15:40:51.859164Z",
     "shell.execute_reply": "2021-05-20T15:40:51.860265Z"
    }
   },
   "outputs": [
    {
     "data": {
      "text/plain": [
       "combined(field=0.0, ramp_rate=10.0)"
      ]
     },
     "execution_count": 1,
     "metadata": {},
     "output_type": "execute_result"
    }
   ],
   "source": [
    "field.combined()"
   ]
  },
  {
   "cell_type": "markdown",
   "id": "consolidated-cooper",
   "metadata": {},
   "source": [
    "We can now also create a custom parameter that does a simple calculation based on the current parameters."
   ]
  },
  {
   "cell_type": "code",
   "execution_count": 16,
   "id": "designed-bloom",
   "metadata": {
    "execution": {
     "iopub.execute_input": "2021-05-20T15:40:51.865464Z",
     "iopub.status.busy": "2021-05-20T15:40:51.864793Z",
     "iopub.status.idle": "2021-05-20T15:40:51.869399Z",
     "shell.execute_reply": "2021-05-20T15:40:51.868764Z"
    }
   },
   "outputs": [],
   "source": [
    "import numpy as np\n",
    "\n",
    "def calculate_ramp_time(X, ramp_rate):\n",
    "    \"\"\"Calculate ramp time in seconds\"\"\"\n",
    "    dfield = np.abs(field.target_field - X)\n",
    "    return 60. * dfield/ramp_rate"
   ]
  },
  {
   "cell_type": "code",
   "execution_count": 17,
   "id": "disabled-logic",
   "metadata": {
    "execution": {
     "iopub.execute_input": "2021-05-20T15:40:51.875335Z",
     "iopub.status.busy": "2021-05-20T15:40:51.874676Z",
     "iopub.status.idle": "2021-05-20T15:40:51.878375Z",
     "shell.execute_reply": "2021-05-20T15:40:51.878865Z"
    },
    "scrolled": true
   },
   "outputs": [],
   "source": [
    "field._create_and_add_parameter(\n",
    "    group_name=\"ramp_time\",\n",
    "    station=station,\n",
    "    paths=[\"field_X.field\", \"field_X.ramp_rate\"],\n",
    "    formatter=calculate_ramp_time\n",
    ")"
   ]
  },
  {
   "cell_type": "code",
   "execution_count": 18,
   "id": "adverse-february",
   "metadata": {
    "execution": {
     "iopub.execute_input": "2021-05-20T15:40:51.885321Z",
     "iopub.status.busy": "2021-05-20T15:40:51.884473Z",
     "iopub.status.idle": "2021-05-20T15:40:51.891950Z",
     "shell.execute_reply": "2021-05-20T15:40:51.892448Z"
    }
   },
   "outputs": [
    {
     "data": {
      "text/plain": [
       "6.0"
      ]
     },
     "execution_count": 1,
     "metadata": {},
     "output_type": "execute_result"
    }
   ],
   "source": [
    "field.ramp_rate(1.0)\n",
    "field.target_field = 0.1\n",
    "field.ramp_time()"
   ]
  },
  {
   "cell_type": "code",
   "execution_count": 19,
   "id": "statutory-xerox",
   "metadata": {
    "execution": {
     "iopub.execute_input": "2021-05-20T15:40:51.898124Z",
     "iopub.status.busy": "2021-05-20T15:40:51.896241Z",
     "iopub.status.idle": "2021-05-20T15:40:51.898819Z",
     "shell.execute_reply": "2021-05-20T15:40:51.899363Z"
    }
   },
   "outputs": [],
   "source": [
    "field.X(0.1)"
   ]
  },
  {
   "cell_type": "code",
   "execution_count": 20,
   "id": "varying-auditor",
   "metadata": {
    "execution": {
     "iopub.execute_input": "2021-05-20T15:40:51.905227Z",
     "iopub.status.busy": "2021-05-20T15:40:51.904258Z",
     "iopub.status.idle": "2021-05-20T15:40:51.907265Z",
     "shell.execute_reply": "2021-05-20T15:40:51.907754Z"
    }
   },
   "outputs": [
    {
     "data": {
      "text/plain": [
       "5.993105411529541"
      ]
     },
     "execution_count": 1,
     "metadata": {},
     "output_type": "execute_result"
    }
   ],
   "source": [
    "field.ramp_time()"
   ]
  },
  {
   "cell_type": "code",
   "execution_count": 21,
   "id": "chubby-nickel",
   "metadata": {
    "execution": {
     "iopub.execute_input": "2021-05-20T15:40:51.911496Z",
     "iopub.status.busy": "2021-05-20T15:40:51.910560Z",
     "iopub.status.idle": "2021-05-20T15:40:52.917111Z",
     "shell.execute_reply": "2021-05-20T15:40:52.916419Z"
    }
   },
   "outputs": [
    {
     "data": {
      "text/plain": [
       "4.983753204345704"
      ]
     },
     "execution_count": 1,
     "metadata": {},
     "output_type": "execute_result"
    }
   ],
   "source": [
    "import time\n",
    "time.sleep(1.)\n",
    "field.ramp_time()"
   ]
  },
  {
   "cell_type": "code",
   "execution_count": 22,
   "id": "italian-liberty",
   "metadata": {
    "execution": {
     "iopub.execute_input": "2021-05-20T15:40:52.921217Z",
     "iopub.status.busy": "2021-05-20T15:40:52.920562Z",
     "iopub.status.idle": "2021-05-20T15:40:53.928837Z",
     "shell.execute_reply": "2021-05-20T15:40:53.928315Z"
    }
   },
   "outputs": [
    {
     "data": {
      "text/plain": [
       "3.9737944602966313"
      ]
     },
     "execution_count": 1,
     "metadata": {},
     "output_type": "execute_result"
    }
   ],
   "source": [
    "import time\n",
    "time.sleep(1.)\n",
    "field.ramp_time()"
   ]
  },
  {
   "cell_type": "code",
   "execution_count": null,
   "id": "mobile-buffalo",
   "metadata": {},
   "outputs": [],
   "source": []
  }
 ],
 "metadata": {
  "kernelspec": {
   "display_name": "Python 3.7.9 64-bit ('qcodes': conda)",
   "name": "python379jvsc74a57bd01772f43cf92542b0c64f9621787c7542d65141a21c16e4e61ad35c3f481e9993"
  },
  "language_info": {
   "codemirror_mode": {
    "name": "ipython",
    "version": 3
   },
   "file_extension": ".py",
   "mimetype": "text/x-python",
   "name": "python",
   "nbconvert_exporter": "python",
   "pygments_lexer": "ipython3",
   "version": "3.7.10"
  }
 },
 "nbformat": 4,
 "nbformat_minor": 5
}
