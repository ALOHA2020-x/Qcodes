{
 "cells": [
  {
   "cell_type": "markdown",
   "id": "plain-primary",
   "metadata": {},
   "source": [
    "# Qcodes example with DelegateInstrument driver\n",
    "\n",
    "This notebooks explains how to use the `DelegateInstrument` driver.\n",
    "\n",
    "## About\n",
    "The goal of the `DelegateInstrument` driver is to make it easier to combine different parameters together into a new \"virtual\" instrument. Each parameter on a `DelegateInstrument` can point to one or more parameters on other instruments in the station.\n",
    "\n",
    "## Usage\n",
    "The way it's used is mainly by specifying an entry in the station YAML. For instance, let's say you want to use a magnetic field coil. The driver has a method set_field(value, block), that by default is set to block=True, which means the field is ramped in a way that blocks further execution until the desired value is reached. However, let's say you are creating a measurement in which you want the parameter to be set, and while the value is ramping, you want to measure other parameters. This can be done by using `DelegateInstrument` and specifying a custom `setter` for the parameter that gets and sets the magnetic field.\n",
    "\n",
    "By default, each parameter is represented by a `DelegateParameter`. The `DelegateInstrument` also supports passing multiple source parameters to a given parameter. In order to do this, simply specify multiple parameters in the dictionary values  under the `parameters` key."
   ]
  },
  {
   "cell_type": "code",
   "execution_count": 1,
   "id": "sapphire-quebec",
   "metadata": {
    "execution": {
     "iopub.execute_input": "2021-05-12T10:39:56.910389Z",
     "iopub.status.busy": "2021-05-12T10:39:56.908540Z",
     "iopub.status.idle": "2021-05-12T10:39:56.914474Z",
     "shell.execute_reply": "2021-05-12T10:39:56.912098Z"
    }
   },
   "outputs": [
    {
     "name": "stdout",
     "output_type": "stream",
     "text": [
      "Writing example.yaml\n"
     ]
    }
   ],
   "source": [
    "%%writefile example.yaml\n",
    "\n",
    "instruments:\n",
    "  field_X:\n",
    "    type: qcodes.tests.instrument_mocks.MockField\n",
    "\n",
    "  field:\n",
    "    type: qcodes.instrument.delegate.DelegateInstrument\n",
    "    init:\n",
    "      parameters:\n",
    "        X:\n",
    "          - field_X.field\n",
    "        ramp_rate:\n",
    "          - field_X.ramp_rate\n",
    "        combined:\n",
    "          - field_X.field\n",
    "          - field_X.ramp_rate\n",
    "      set_initial_values_on_load: true\n",
    "      initial_values:\n",
    "        ramp_rate: 1.0\n",
    "      setters:\n",
    "        X:\n",
    "          method: field_X.set_field\n",
    "          block: false"
   ]
  },
  {
   "cell_type": "code",
   "execution_count": 2,
   "id": "younger-newspaper",
   "metadata": {
    "execution": {
     "iopub.execute_input": "2021-05-12T10:39:56.919574Z",
     "iopub.status.busy": "2021-05-12T10:39:56.918900Z",
     "iopub.status.idle": "2021-05-12T10:39:58.388465Z",
     "shell.execute_reply": "2021-05-12T10:39:58.387798Z"
    }
   },
   "outputs": [
    {
     "name": "stdout",
     "output_type": "stream",
     "text": [
      "Logging hadn't been started.\n",
      "Activating auto-logging. Current session state plus future input saved.\n",
      "Filename       : /home/runner/.qcodes/logs/command_history.log\n",
      "Mode           : append\n",
      "Output logging : True\n",
      "Raw input log  : False\n",
      "Timestamping   : True\n",
      "State          : active\n"
     ]
    },
    {
     "name": "stdout",
     "output_type": "stream",
     "text": [
      "Qcodes Logfile : /home/runner/.qcodes/logs/210512-9592-qcodes.log\n"
     ]
    }
   ],
   "source": [
    "import qcodes as qc"
   ]
  },
  {
   "cell_type": "code",
   "execution_count": 3,
   "id": "muslim-briefs",
   "metadata": {
    "execution": {
     "iopub.execute_input": "2021-05-12T10:39:58.393743Z",
     "iopub.status.busy": "2021-05-12T10:39:58.393042Z",
     "iopub.status.idle": "2021-05-12T10:39:58.410476Z",
     "shell.execute_reply": "2021-05-12T10:39:58.409915Z"
    }
   },
   "outputs": [],
   "source": [
    "station = qc.Station(config_file=\"example.yaml\")"
   ]
  },
  {
   "cell_type": "code",
   "execution_count": 4,
   "id": "greatest-antenna",
   "metadata": {
    "execution": {
     "iopub.execute_input": "2021-05-12T10:39:58.414822Z",
     "iopub.status.busy": "2021-05-12T10:39:58.414207Z",
     "iopub.status.idle": "2021-05-12T10:39:58.445763Z",
     "shell.execute_reply": "2021-05-12T10:39:58.445179Z"
    }
   },
   "outputs": [],
   "source": [
    "field_X = station.load_field_X()\n",
    "field = station.load_field(station=station)"
   ]
  },
  {
   "cell_type": "code",
   "execution_count": 5,
   "id": "every-playing",
   "metadata": {
    "execution": {
     "iopub.execute_input": "2021-05-12T10:39:58.458407Z",
     "iopub.status.busy": "2021-05-12T10:39:58.457331Z",
     "iopub.status.idle": "2021-05-12T10:39:58.461056Z",
     "shell.execute_reply": "2021-05-12T10:39:58.461584Z"
    }
   },
   "outputs": [
    {
     "data": {
      "text/plain": [
       "0.0"
      ]
     },
     "execution_count": 1,
     "metadata": {},
     "output_type": "execute_result"
    }
   ],
   "source": [
    "field.X()"
   ]
  },
  {
   "cell_type": "code",
   "execution_count": 6,
   "id": "undefined-worst",
   "metadata": {
    "execution": {
     "iopub.execute_input": "2021-05-12T10:39:58.467270Z",
     "iopub.status.busy": "2021-05-12T10:39:58.465756Z",
     "iopub.status.idle": "2021-05-12T10:39:58.468038Z",
     "shell.execute_reply": "2021-05-12T10:39:58.468623Z"
    }
   },
   "outputs": [],
   "source": [
    "field.X(1.)"
   ]
  },
  {
   "cell_type": "code",
   "execution_count": 7,
   "id": "recreational-suggestion",
   "metadata": {
    "execution": {
     "iopub.execute_input": "2021-05-12T10:39:58.474404Z",
     "iopub.status.busy": "2021-05-12T10:39:58.473259Z",
     "iopub.status.idle": "2021-05-12T10:39:58.477400Z",
     "shell.execute_reply": "2021-05-12T10:39:58.476834Z"
    }
   },
   "outputs": [
    {
     "data": {
      "text/plain": [
       "0.00011127789815266927"
      ]
     },
     "execution_count": 1,
     "metadata": {},
     "output_type": "execute_result"
    }
   ],
   "source": [
    "field.X()"
   ]
  },
  {
   "cell_type": "code",
   "execution_count": 8,
   "id": "adopted-exchange",
   "metadata": {
    "execution": {
     "iopub.execute_input": "2021-05-12T10:39:58.483289Z",
     "iopub.status.busy": "2021-05-12T10:39:58.482178Z",
     "iopub.status.idle": "2021-05-12T10:39:58.485395Z",
     "shell.execute_reply": "2021-05-12T10:39:58.485910Z"
    }
   },
   "outputs": [
    {
     "data": {
      "text/plain": [
       "0.00026073455810546873"
      ]
     },
     "execution_count": 1,
     "metadata": {},
     "output_type": "execute_result"
    }
   ],
   "source": [
    "field.X()"
   ]
  },
  {
   "cell_type": "code",
   "execution_count": 9,
   "id": "bound-broadcasting",
   "metadata": {
    "execution": {
     "iopub.execute_input": "2021-05-12T10:39:58.492744Z",
     "iopub.status.busy": "2021-05-12T10:39:58.491024Z",
     "iopub.status.idle": "2021-05-12T10:39:58.494922Z",
     "shell.execute_reply": "2021-05-12T10:39:58.494352Z"
    }
   },
   "outputs": [
    {
     "data": {
      "text/plain": [
       "0.00039735635121663414"
      ]
     },
     "execution_count": 1,
     "metadata": {},
     "output_type": "execute_result"
    }
   ],
   "source": [
    "field.X()"
   ]
  },
  {
   "cell_type": "code",
   "execution_count": 10,
   "id": "casual-ghost",
   "metadata": {
    "execution": {
     "iopub.execute_input": "2021-05-12T10:39:58.501594Z",
     "iopub.status.busy": "2021-05-12T10:39:58.500427Z",
     "iopub.status.idle": "2021-05-12T10:39:58.503656Z",
     "shell.execute_reply": "2021-05-12T10:39:58.504174Z"
    }
   },
   "outputs": [
    {
     "data": {
      "text/plain": [
       "0.0005472938219706218"
      ]
     },
     "execution_count": 1,
     "metadata": {},
     "output_type": "execute_result"
    }
   ],
   "source": [
    "field.X()"
   ]
  },
  {
   "cell_type": "markdown",
   "id": "alike-process",
   "metadata": {},
   "source": [
    "As you can see, the field is now ramped in the background with the specified ramp rate. Now, let's try to create a measurement that uses this ability, and ramps the field in the background while measuring:"
   ]
  },
  {
   "cell_type": "code",
   "execution_count": 11,
   "id": "sustained-tiger",
   "metadata": {
    "execution": {
     "iopub.execute_input": "2021-05-12T10:39:58.508598Z",
     "iopub.status.busy": "2021-05-12T10:39:58.507797Z",
     "iopub.status.idle": "2021-05-12T10:39:58.513995Z",
     "shell.execute_reply": "2021-05-12T10:39:58.513470Z"
    }
   },
   "outputs": [],
   "source": [
    "field.ramp_rate(10.)\n",
    "field_X.field(0.0)"
   ]
  },
  {
   "cell_type": "code",
   "execution_count": 12,
   "id": "pharmaceutical-partition",
   "metadata": {
    "execution": {
     "iopub.execute_input": "2021-05-12T10:39:58.519981Z",
     "iopub.status.busy": "2021-05-12T10:39:58.518605Z",
     "iopub.status.idle": "2021-05-12T10:39:58.522156Z",
     "shell.execute_reply": "2021-05-12T10:39:58.522667Z"
    }
   },
   "outputs": [
    {
     "data": {
      "text/plain": [
       "0.0"
      ]
     },
     "execution_count": 1,
     "metadata": {},
     "output_type": "execute_result"
    }
   ],
   "source": [
    "field.X()"
   ]
  },
  {
   "cell_type": "code",
   "execution_count": 13,
   "id": "happy-ordinance",
   "metadata": {
    "execution": {
     "iopub.execute_input": "2021-05-12T10:39:58.528584Z",
     "iopub.status.busy": "2021-05-12T10:39:58.527957Z",
     "iopub.status.idle": "2021-05-12T10:39:59.765073Z",
     "shell.execute_reply": "2021-05-12T10:39:59.764478Z"
    }
   },
   "outputs": [
    {
     "name": "stdout",
     "output_type": "stream",
     "text": [
      "Starting experimental run with id: 56. \n"
     ]
    }
   ],
   "source": [
    "import time\n",
    "meas = qc.Measurement(station=station)\n",
    "meas.register_parameter(field.X)\n",
    "\n",
    "with meas.run() as datasaver:\n",
    "    for B in [0.1, 0.0]:\n",
    "        field.X(B)\n",
    "        while field.X() != B:\n",
    "            datasaver.add_result((field.X, field.X()))\n",
    "            time.sleep(0.01)\n",
    "    datasaver.flush_data_to_database()"
   ]
  },
  {
   "cell_type": "code",
   "execution_count": 14,
   "id": "short-medium",
   "metadata": {
    "execution": {
     "iopub.execute_input": "2021-05-12T10:39:59.769576Z",
     "iopub.status.busy": "2021-05-12T10:39:59.768955Z",
     "iopub.status.idle": "2021-05-12T10:40:00.266846Z",
     "shell.execute_reply": "2021-05-12T10:40:00.267807Z"
    }
   },
   "outputs": [
    {
     "data": {
      "text/plain": [
       "<AxesSubplot:>"
      ]
     },
     "execution_count": 1,
     "metadata": {},
     "output_type": "execute_result"
    },
    {
     "data": {
      "image/png": "[encoded data removed]",
      "text/plain": [
       "<Figure size 432x288 with 1 Axes>"
      ]
     },
     "metadata": {
      "needs_background": "light"
     },
     "output_type": "display_data"
    }
   ],
   "source": [
    "datasaver.dataset.to_pandas_dataframe().plot()"
   ]
  },
  {
   "cell_type": "markdown",
   "id": "incomplete-vietnamese",
   "metadata": {},
   "source": [
    "When specifying multiple source parameters on a given parameter, the grouped parameter will automatically return a `namedtuple` that returns both values."
   ]
  },
  {
   "cell_type": "code",
   "execution_count": 15,
   "id": "dangerous-finder",
   "metadata": {
    "execution": {
     "iopub.execute_input": "2021-05-12T10:40:00.272961Z",
     "iopub.status.busy": "2021-05-12T10:40:00.272333Z",
     "iopub.status.idle": "2021-05-12T10:40:00.279155Z",
     "shell.execute_reply": "2021-05-12T10:40:00.278280Z"
    }
   },
   "outputs": [
    {
     "data": {
      "text/plain": [
       "combined(field=0.0, ramp_rate=10.0)"
      ]
     },
     "execution_count": 1,
     "metadata": {},
     "output_type": "execute_result"
    }
   ],
   "source": [
    "field.combined()"
   ]
  },
  {
   "cell_type": "markdown",
   "id": "consolidated-cooper",
   "metadata": {},
   "source": [
    "We can now also create a custom parameter that does a simple calculation based on the current parameters."
   ]
  },
  {
   "cell_type": "code",
   "execution_count": 16,
   "id": "designed-bloom",
   "metadata": {
    "execution": {
     "iopub.execute_input": "2021-05-12T10:40:00.284325Z",
     "iopub.status.busy": "2021-05-12T10:40:00.283680Z",
     "iopub.status.idle": "2021-05-12T10:40:00.288610Z",
     "shell.execute_reply": "2021-05-12T10:40:00.288061Z"
    }
   },
   "outputs": [],
   "source": [
    "import numpy as np\n",
    "\n",
    "def calculate_ramp_time(X, ramp_rate):\n",
    "    \"\"\"Calculate ramp time in seconds\"\"\"\n",
    "    dfield = np.abs(field.target_field - X)\n",
    "    return 60. * dfield/ramp_rate"
   ]
  },
  {
   "cell_type": "code",
   "execution_count": 17,
   "id": "disabled-logic",
   "metadata": {
    "execution": {
     "iopub.execute_input": "2021-05-12T10:40:00.293838Z",
     "iopub.status.busy": "2021-05-12T10:40:00.293220Z",
     "iopub.status.idle": "2021-05-12T10:40:00.296922Z",
     "shell.execute_reply": "2021-05-12T10:40:00.297438Z"
    },
    "scrolled": true
   },
   "outputs": [],
   "source": [
    "field._create_and_add_parameter(\n",
    "    group_name=\"ramp_time\",\n",
    "    station=station,\n",
    "    paths=[\"field_X.field\", \"field_X.ramp_rate\"],\n",
    "    formatter=calculate_ramp_time\n",
    ")"
   ]
  },
  {
   "cell_type": "code",
   "execution_count": 18,
   "id": "adverse-february",
   "metadata": {
    "execution": {
     "iopub.execute_input": "2021-05-12T10:40:00.302469Z",
     "iopub.status.busy": "2021-05-12T10:40:00.301848Z",
     "iopub.status.idle": "2021-05-12T10:40:00.310987Z",
     "shell.execute_reply": "2021-05-12T10:40:00.309634Z"
    }
   },
   "outputs": [
    {
     "data": {
      "text/plain": [
       "6.0"
      ]
     },
     "execution_count": 1,
     "metadata": {},
     "output_type": "execute_result"
    }
   ],
   "source": [
    "field.ramp_rate(1.0)\n",
    "field.target_field = 0.1\n",
    "field.ramp_time()"
   ]
  },
  {
   "cell_type": "code",
   "execution_count": 19,
   "id": "statutory-xerox",
   "metadata": {
    "execution": {
     "iopub.execute_input": "2021-05-12T10:40:00.320116Z",
     "iopub.status.busy": "2021-05-12T10:40:00.319299Z",
     "iopub.status.idle": "2021-05-12T10:40:00.321290Z",
     "shell.execute_reply": "2021-05-12T10:40:00.320711Z"
    }
   },
   "outputs": [],
   "source": [
    "field.X(0.1)"
   ]
  },
  {
   "cell_type": "code",
   "execution_count": 20,
   "id": "varying-auditor",
   "metadata": {
    "execution": {
     "iopub.execute_input": "2021-05-12T10:40:00.328030Z",
     "iopub.status.busy": "2021-05-12T10:40:00.327340Z",
     "iopub.status.idle": "2021-05-12T10:40:00.330479Z",
     "shell.execute_reply": "2021-05-12T10:40:00.331128Z"
    }
   },
   "outputs": [
    {
     "data": {
      "text/plain": [
       "5.989841699600221"
      ]
     },
     "execution_count": 1,
     "metadata": {},
     "output_type": "execute_result"
    }
   ],
   "source": [
    "field.ramp_time()"
   ]
  },
  {
   "cell_type": "code",
   "execution_count": 21,
   "id": "chubby-nickel",
   "metadata": {
    "execution": {
     "iopub.execute_input": "2021-05-12T10:40:00.337525Z",
     "iopub.status.busy": "2021-05-12T10:40:00.334909Z",
     "iopub.status.idle": "2021-05-12T10:40:01.340711Z",
     "shell.execute_reply": "2021-05-12T10:40:01.340181Z"
    }
   },
   "outputs": [
    {
     "data": {
      "text/plain": [
       "4.9786858558654785"
      ]
     },
     "execution_count": 1,
     "metadata": {},
     "output_type": "execute_result"
    }
   ],
   "source": [
    "import time\n",
    "time.sleep(1.)\n",
    "field.ramp_time()"
   ]
  },
  {
   "cell_type": "code",
   "execution_count": 22,
   "id": "italian-liberty",
   "metadata": {
    "execution": {
     "iopub.execute_input": "2021-05-12T10:40:01.345796Z",
     "iopub.status.busy": "2021-05-12T10:40:01.345102Z",
     "iopub.status.idle": "2021-05-12T10:40:02.349960Z",
     "shell.execute_reply": "2021-05-12T10:40:02.350481Z"
    }
   },
   "outputs": [
    {
     "data": {
      "text/plain": [
       "3.969543218612671"
      ]
     },
     "execution_count": 1,
     "metadata": {},
     "output_type": "execute_result"
    }
   ],
   "source": [
    "import time\n",
    "time.sleep(1.)\n",
    "field.ramp_time()"
   ]
  },
  {
   "cell_type": "code",
   "execution_count": null,
   "id": "mobile-buffalo",
   "metadata": {},
   "outputs": [],
   "source": []
  }
 ],
 "metadata": {
  "kernelspec": {
   "display_name": "Python 3.7.9 64-bit ('qcodes': conda)",
   "name": "python379jvsc74a57bd01772f43cf92542b0c64f9621787c7542d65141a21c16e4e61ad35c3f481e9993"
  },
  "language_info": {
   "codemirror_mode": {
    "name": "ipython",
    "version": 3
   },
   "file_extension": ".py",
   "mimetype": "text/x-python",
   "name": "python",
   "nbconvert_exporter": "python",
   "pygments_lexer": "ipython3",
   "version": "3.7.10"
  }
 },
 "nbformat": 4,
 "nbformat_minor": 5
}
