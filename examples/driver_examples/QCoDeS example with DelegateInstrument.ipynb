{
 "cells": [
  {
   "cell_type": "markdown",
   "id": "plain-primary",
   "metadata": {},
   "source": [
    "# Qcodes example with DelegateInstrument driver\n",
    "\n",
    "This notebooks explains how to use the `DelegateInstrument` driver.\n",
    "\n",
    "## About\n",
    "The goal of the `DelegateInstrument` driver is to make it easier to combine different parameters together into a new \"virtual\" instrument. Each parameter on a `DelegateInstrument` can point to one or more parameters on other instruments in the station.\n",
    "\n",
    "## Usage\n",
    "The way it's used is mainly by specifying an entry in the station YAML. For instance, let's say you want to use a magnetic field coil. The driver has a method set_field(value, block), that by default is set to block=True, which means the field is ramped in a way that blocks further execution until the desired value is reached. However, let's say you are creating a measurement in which you want the parameter to be set, and while the value is ramping, you want to measure other parameters. This can be done by using `DelegateInstrument` and specifying a custom `setter` for the parameter that gets and sets the magnetic field.\n",
    "\n",
    "By default, each parameter is represented by a `DelegateParameter`. The `DelegateInstrument` also supports passing multiple source parameters to a given parameter. In order to do this, simply specify multiple parameters in the dictionary values  under the `parameters` key."
   ]
  },
  {
   "cell_type": "code",
   "execution_count": 1,
   "id": "sapphire-quebec",
   "metadata": {
    "execution": {
     "iopub.execute_input": "2021-05-24T20:43:59.188908Z",
     "iopub.status.busy": "2021-05-24T20:43:59.188167Z",
     "iopub.status.idle": "2021-05-24T20:43:59.194070Z",
     "shell.execute_reply": "2021-05-24T20:43:59.193407Z"
    }
   },
   "outputs": [
    {
     "name": "stdout",
     "output_type": "stream",
     "text": [
      "Writing example.yaml\n"
     ]
    }
   ],
   "source": [
    "%%writefile example.yaml\n",
    "\n",
    "instruments:\n",
    "  field_X:\n",
    "    type: qcodes.tests.instrument_mocks.MockField\n",
    "\n",
    "  field:\n",
    "    type: qcodes.instrument.delegate.DelegateInstrument\n",
    "    init:\n",
    "      parameters:\n",
    "        X:\n",
    "          - field_X.field\n",
    "        ramp_rate:\n",
    "          - field_X.ramp_rate\n",
    "        combined:\n",
    "          - field_X.field\n",
    "          - field_X.ramp_rate\n",
    "      set_initial_values_on_load: true\n",
    "      initial_values:\n",
    "        ramp_rate: 1.0\n",
    "      setters:\n",
    "        X:\n",
    "          method: field_X.set_field\n",
    "          block: false"
   ]
  },
  {
   "cell_type": "code",
   "execution_count": 2,
   "id": "younger-newspaper",
   "metadata": {
    "execution": {
     "iopub.execute_input": "2021-05-24T20:43:59.202647Z",
     "iopub.status.busy": "2021-05-24T20:43:59.200980Z",
     "iopub.status.idle": "2021-05-24T20:44:00.554520Z",
     "shell.execute_reply": "2021-05-24T20:44:00.556033Z"
    }
   },
   "outputs": [
    {
     "name": "stdout",
     "output_type": "stream",
     "text": [
      "Logging hadn't been started.\n",
      "Activating auto-logging. Current session state plus future input saved.\n",
      "Filename       : /home/runner/.qcodes/logs/command_history.log\n",
      "Mode           : append\n",
      "Output logging : True\n",
      "Raw input log  : False\n",
      "Timestamping   : True\n",
      "State          : active\n"
     ]
    },
    {
     "name": "stdout",
     "output_type": "stream",
     "text": [
      "Qcodes Logfile : /home/runner/.qcodes/logs/210524-9401-qcodes.log\n"
     ]
    }
   ],
   "source": [
    "import qcodes as qc"
   ]
  },
  {
   "cell_type": "code",
   "execution_count": 3,
   "id": "muslim-briefs",
   "metadata": {
    "execution": {
     "iopub.execute_input": "2021-05-24T20:44:00.564784Z",
     "iopub.status.busy": "2021-05-24T20:44:00.560339Z",
     "iopub.status.idle": "2021-05-24T20:44:00.578030Z",
     "shell.execute_reply": "2021-05-24T20:44:00.577488Z"
    }
   },
   "outputs": [],
   "source": [
    "station = qc.Station(config_file=\"example.yaml\")"
   ]
  },
  {
   "cell_type": "code",
   "execution_count": 4,
   "id": "greatest-antenna",
   "metadata": {
    "execution": {
     "iopub.execute_input": "2021-05-24T20:44:00.590841Z",
     "iopub.status.busy": "2021-05-24T20:44:00.581462Z",
     "iopub.status.idle": "2021-05-24T20:44:00.611093Z",
     "shell.execute_reply": "2021-05-24T20:44:00.609042Z"
    }
   },
   "outputs": [],
   "source": [
    "field_X = station.load_field_X()\n",
    "field = station.load_field(station=station)"
   ]
  },
  {
   "cell_type": "code",
   "execution_count": 5,
   "id": "every-playing",
   "metadata": {
    "execution": {
     "iopub.execute_input": "2021-05-24T20:44:00.622011Z",
     "iopub.status.busy": "2021-05-24T20:44:00.619249Z",
     "iopub.status.idle": "2021-05-24T20:44:00.624437Z",
     "shell.execute_reply": "2021-05-24T20:44:00.624974Z"
    }
   },
   "outputs": [
    {
     "data": {
      "text/plain": [
       "0.0"
      ]
     },
     "execution_count": 1,
     "metadata": {},
     "output_type": "execute_result"
    }
   ],
   "source": [
    "field.X()"
   ]
  },
  {
   "cell_type": "code",
   "execution_count": 6,
   "id": "undefined-worst",
   "metadata": {
    "execution": {
     "iopub.execute_input": "2021-05-24T20:44:00.630115Z",
     "iopub.status.busy": "2021-05-24T20:44:00.628508Z",
     "iopub.status.idle": "2021-05-24T20:44:00.630825Z",
     "shell.execute_reply": "2021-05-24T20:44:00.631327Z"
    }
   },
   "outputs": [],
   "source": [
    "field.X(1.)"
   ]
  },
  {
   "cell_type": "code",
   "execution_count": 7,
   "id": "recreational-suggestion",
   "metadata": {
    "execution": {
     "iopub.execute_input": "2021-05-24T20:44:00.637141Z",
     "iopub.status.busy": "2021-05-24T20:44:00.635718Z",
     "iopub.status.idle": "2021-05-24T20:44:00.639174Z",
     "shell.execute_reply": "2021-05-24T20:44:00.638668Z"
    }
   },
   "outputs": [
    {
     "data": {
      "text/plain": [
       "0.00010052124659220378"
      ]
     },
     "execution_count": 1,
     "metadata": {},
     "output_type": "execute_result"
    }
   ],
   "source": [
    "field.X()"
   ]
  },
  {
   "cell_type": "code",
   "execution_count": 8,
   "id": "adopted-exchange",
   "metadata": {
    "execution": {
     "iopub.execute_input": "2021-05-24T20:44:00.644241Z",
     "iopub.status.busy": "2021-05-24T20:44:00.643237Z",
     "iopub.status.idle": "2021-05-24T20:44:00.646811Z",
     "shell.execute_reply": "2021-05-24T20:44:00.646255Z"
    }
   },
   "outputs": [
    {
     "data": {
      "text/plain": [
       "0.0002323587735493978"
      ]
     },
     "execution_count": 1,
     "metadata": {},
     "output_type": "execute_result"
    }
   ],
   "source": [
    "field.X()"
   ]
  },
  {
   "cell_type": "code",
   "execution_count": 9,
   "id": "bound-broadcasting",
   "metadata": {
    "execution": {
     "iopub.execute_input": "2021-05-24T20:44:00.653092Z",
     "iopub.status.busy": "2021-05-24T20:44:00.649606Z",
     "iopub.status.idle": "2021-05-24T20:44:00.655657Z",
     "shell.execute_reply": "2021-05-24T20:44:00.656144Z"
    }
   },
   "outputs": [
    {
     "data": {
      "text/plain": [
       "0.00036483208338419597"
      ]
     },
     "execution_count": 1,
     "metadata": {},
     "output_type": "execute_result"
    }
   ],
   "source": [
    "field.X()"
   ]
  },
  {
   "cell_type": "code",
   "execution_count": 10,
   "id": "casual-ghost",
   "metadata": {
    "execution": {
     "iopub.execute_input": "2021-05-24T20:44:00.661648Z",
     "iopub.status.busy": "2021-05-24T20:44:00.660453Z",
     "iopub.status.idle": "2021-05-24T20:44:00.663711Z",
     "shell.execute_reply": "2021-05-24T20:44:00.663197Z"
    }
   },
   "outputs": [
    {
     "data": {
      "text/plain": [
       "0.0005162795384724935"
      ]
     },
     "execution_count": 1,
     "metadata": {},
     "output_type": "execute_result"
    }
   ],
   "source": [
    "field.X()"
   ]
  },
  {
   "cell_type": "markdown",
   "id": "alike-process",
   "metadata": {},
   "source": [
    "As you can see, the field is now ramped in the background with the specified ramp rate. Now, let's try to create a measurement that uses this ability, and ramps the field in the background while measuring:"
   ]
  },
  {
   "cell_type": "code",
   "execution_count": 11,
   "id": "sustained-tiger",
   "metadata": {
    "execution": {
     "iopub.execute_input": "2021-05-24T20:44:00.667031Z",
     "iopub.status.busy": "2021-05-24T20:44:00.666466Z",
     "iopub.status.idle": "2021-05-24T20:44:00.672222Z",
     "shell.execute_reply": "2021-05-24T20:44:00.672709Z"
    }
   },
   "outputs": [],
   "source": [
    "field.ramp_rate(10.)\n",
    "field_X.field(0.0)"
   ]
  },
  {
   "cell_type": "code",
   "execution_count": 12,
   "id": "pharmaceutical-partition",
   "metadata": {
    "execution": {
     "iopub.execute_input": "2021-05-24T20:44:00.677728Z",
     "iopub.status.busy": "2021-05-24T20:44:00.676664Z",
     "iopub.status.idle": "2021-05-24T20:44:00.679687Z",
     "shell.execute_reply": "2021-05-24T20:44:00.680415Z"
    }
   },
   "outputs": [
    {
     "data": {
      "text/plain": [
       "0.0"
      ]
     },
     "execution_count": 1,
     "metadata": {},
     "output_type": "execute_result"
    }
   ],
   "source": [
    "field.X()"
   ]
  },
  {
   "cell_type": "code",
   "execution_count": 13,
   "id": "happy-ordinance",
   "metadata": {
    "execution": {
     "iopub.execute_input": "2021-05-24T20:44:00.686641Z",
     "iopub.status.busy": "2021-05-24T20:44:00.685269Z",
     "iopub.status.idle": "2021-05-24T20:44:01.911985Z",
     "shell.execute_reply": "2021-05-24T20:44:01.912532Z"
    }
   },
   "outputs": [
    {
     "name": "stdout",
     "output_type": "stream",
     "text": [
      "Starting experimental run with id: 56. \n"
     ]
    }
   ],
   "source": [
    "import time\n",
    "meas = qc.Measurement(station=station)\n",
    "meas.register_parameter(field.X)\n",
    "\n",
    "with meas.run() as datasaver:\n",
    "    for B in [0.1, 0.0]:\n",
    "        field.X(B)\n",
    "        while field.X() != B:\n",
    "            datasaver.add_result((field.X, field.X()))\n",
    "            time.sleep(0.01)\n",
    "    datasaver.flush_data_to_database()"
   ]
  },
  {
   "cell_type": "code",
   "execution_count": 14,
   "id": "short-medium",
   "metadata": {
    "execution": {
     "iopub.execute_input": "2021-05-24T20:44:01.918706Z",
     "iopub.status.busy": "2021-05-24T20:44:01.916049Z",
     "iopub.status.idle": "2021-05-24T20:44:02.363651Z",
     "shell.execute_reply": "2021-05-24T20:44:02.363128Z"
    }
   },
   "outputs": [
    {
     "data": {
      "text/plain": [
       "<AxesSubplot:>"
      ]
     },
     "execution_count": 1,
     "metadata": {},
     "output_type": "execute_result"
    },
    {
     "data": {
      "image/png": "[encoded data removed]",
      "text/plain": [
       "<Figure size 432x288 with 1 Axes>"
      ]
     },
     "metadata": {
      "needs_background": "light"
     },
     "output_type": "display_data"
    }
   ],
   "source": [
    "datasaver.dataset.to_pandas_dataframe().plot()"
   ]
  },
  {
   "cell_type": "markdown",
   "id": "incomplete-vietnamese",
   "metadata": {},
   "source": [
    "When specifying multiple source parameters on a given parameter, the grouped parameter will automatically return a `namedtuple` that returns both values."
   ]
  },
  {
   "cell_type": "code",
   "execution_count": 15,
   "id": "dangerous-finder",
   "metadata": {
    "execution": {
     "iopub.execute_input": "2021-05-24T20:44:02.368676Z",
     "iopub.status.busy": "2021-05-24T20:44:02.368088Z",
     "iopub.status.idle": "2021-05-24T20:44:02.371866Z",
     "shell.execute_reply": "2021-05-24T20:44:02.371393Z"
    }
   },
   "outputs": [
    {
     "data": {
      "text/plain": [
       "combined(field=0.0, ramp_rate=10.0)"
      ]
     },
     "execution_count": 1,
     "metadata": {},
     "output_type": "execute_result"
    }
   ],
   "source": [
    "field.combined()"
   ]
  },
  {
   "cell_type": "markdown",
   "id": "consolidated-cooper",
   "metadata": {},
   "source": [
    "We can now also create a custom parameter that does a simple calculation based on the current parameters."
   ]
  },
  {
   "cell_type": "code",
   "execution_count": 16,
   "id": "designed-bloom",
   "metadata": {
    "execution": {
     "iopub.execute_input": "2021-05-24T20:44:02.376445Z",
     "iopub.status.busy": "2021-05-24T20:44:02.375853Z",
     "iopub.status.idle": "2021-05-24T20:44:02.379285Z",
     "shell.execute_reply": "2021-05-24T20:44:02.379758Z"
    }
   },
   "outputs": [],
   "source": [
    "import numpy as np\n",
    "\n",
    "def calculate_ramp_time(X, ramp_rate):\n",
    "    \"\"\"Calculate ramp time in seconds\"\"\"\n",
    "    dfield = np.abs(field.target_field - X)\n",
    "    return 60. * dfield/ramp_rate"
   ]
  },
  {
   "cell_type": "code",
   "execution_count": 17,
   "id": "disabled-logic",
   "metadata": {
    "execution": {
     "iopub.execute_input": "2021-05-24T20:44:02.383822Z",
     "iopub.status.busy": "2021-05-24T20:44:02.383261Z",
     "iopub.status.idle": "2021-05-24T20:44:02.388548Z",
     "shell.execute_reply": "2021-05-24T20:44:02.387954Z"
    },
    "scrolled": true
   },
   "outputs": [],
   "source": [
    "field._create_and_add_parameter(\n",
    "    group_name=\"ramp_time\",\n",
    "    station=station,\n",
    "    paths=[\"field_X.field\", \"field_X.ramp_rate\"],\n",
    "    formatter=calculate_ramp_time\n",
    ")"
   ]
  },
  {
   "cell_type": "code",
   "execution_count": 18,
   "id": "adverse-february",
   "metadata": {
    "execution": {
     "iopub.execute_input": "2021-05-24T20:44:02.393094Z",
     "iopub.status.busy": "2021-05-24T20:44:02.392535Z",
     "iopub.status.idle": "2021-05-24T20:44:02.398475Z",
     "shell.execute_reply": "2021-05-24T20:44:02.397817Z"
    }
   },
   "outputs": [
    {
     "data": {
      "text/plain": [
       "6.0"
      ]
     },
     "execution_count": 1,
     "metadata": {},
     "output_type": "execute_result"
    }
   ],
   "source": [
    "field.ramp_rate(1.0)\n",
    "field.target_field = 0.1\n",
    "field.ramp_time()"
   ]
  },
  {
   "cell_type": "code",
   "execution_count": 19,
   "id": "statutory-xerox",
   "metadata": {
    "execution": {
     "iopub.execute_input": "2021-05-24T20:44:02.403088Z",
     "iopub.status.busy": "2021-05-24T20:44:02.401808Z",
     "iopub.status.idle": "2021-05-24T20:44:02.403786Z",
     "shell.execute_reply": "2021-05-24T20:44:02.404350Z"
    }
   },
   "outputs": [],
   "source": [
    "field.X(0.1)"
   ]
  },
  {
   "cell_type": "code",
   "execution_count": 20,
   "id": "varying-auditor",
   "metadata": {
    "execution": {
     "iopub.execute_input": "2021-05-24T20:44:02.409757Z",
     "iopub.status.busy": "2021-05-24T20:44:02.409167Z",
     "iopub.status.idle": "2021-05-24T20:44:02.411878Z",
     "shell.execute_reply": "2021-05-24T20:44:02.412364Z"
    }
   },
   "outputs": [
    {
     "data": {
      "text/plain": [
       "5.993706464767456"
      ]
     },
     "execution_count": 1,
     "metadata": {},
     "output_type": "execute_result"
    }
   ],
   "source": [
    "field.ramp_time()"
   ]
  },
  {
   "cell_type": "code",
   "execution_count": 21,
   "id": "chubby-nickel",
   "metadata": {
    "execution": {
     "iopub.execute_input": "2021-05-24T20:44:02.415855Z",
     "iopub.status.busy": "2021-05-24T20:44:02.415299Z",
     "iopub.status.idle": "2021-05-24T20:44:03.421112Z",
     "shell.execute_reply": "2021-05-24T20:44:03.420422Z"
    }
   },
   "outputs": [
    {
     "data": {
      "text/plain": [
       "4.984696865081788"
      ]
     },
     "execution_count": 1,
     "metadata": {},
     "output_type": "execute_result"
    }
   ],
   "source": [
    "import time\n",
    "time.sleep(1.)\n",
    "field.ramp_time()"
   ]
  },
  {
   "cell_type": "code",
   "execution_count": 22,
   "id": "italian-liberty",
   "metadata": {
    "execution": {
     "iopub.execute_input": "2021-05-24T20:44:03.425085Z",
     "iopub.status.busy": "2021-05-24T20:44:03.424513Z",
     "iopub.status.idle": "2021-05-24T20:44:04.430861Z",
     "shell.execute_reply": "2021-05-24T20:44:04.431443Z"
    }
   },
   "outputs": [
    {
     "data": {
      "text/plain": [
       "3.975610971450806"
      ]
     },
     "execution_count": 1,
     "metadata": {},
     "output_type": "execute_result"
    }
   ],
   "source": [
    "import time\n",
    "time.sleep(1.)\n",
    "field.ramp_time()"
   ]
  },
  {
   "cell_type": "code",
   "execution_count": null,
   "id": "mobile-buffalo",
   "metadata": {},
   "outputs": [],
   "source": []
  }
 ],
 "metadata": {
  "kernelspec": {
   "display_name": "Python 3.7.9 64-bit ('qcodes': conda)",
   "name": "python379jvsc74a57bd01772f43cf92542b0c64f9621787c7542d65141a21c16e4e61ad35c3f481e9993"
  },
  "language_info": {
   "codemirror_mode": {
    "name": "ipython",
    "version": 3
   },
   "file_extension": ".py",
   "mimetype": "text/x-python",
   "name": "python",
   "nbconvert_exporter": "python",
   "pygments_lexer": "ipython3",
   "version": "3.7.10"
  }
 },
 "nbformat": 4,
 "nbformat_minor": 5
}
