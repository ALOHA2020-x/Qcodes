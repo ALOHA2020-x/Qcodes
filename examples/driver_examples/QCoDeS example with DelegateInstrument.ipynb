{
 "cells": [
  {
   "cell_type": "markdown",
   "id": "plain-primary",
   "metadata": {},
   "source": [
    "# Qcodes example with DelegateInstrument driver\n",
    "\n",
    "This notebooks explains how to use the `DelegateInstrument` driver.\n",
    "\n",
    "## About\n",
    "The goal of the `DelegateInstrument` driver is to make it easier to combine different parameters together into a new \"virtual\" instrument. Each parameter on a `DelegateInstrument` can point to one or more parameters on other instruments in the station.\n",
    "\n",
    "## Usage\n",
    "The way it's used is mainly by specifying an entry in the station YAML. For instance, let's say you want to use a magnetic field coil. The driver has a method set_field(value, block), that by default is set to block=True, which means the field is ramped in a way that blocks further execution until the desired value is reached. However, let's say you are creating a measurement in which you want the parameter to be set, and while the value is ramping, you want to measure other parameters. This can be done by using `DelegateInstrument` and specifying a custom `setter` for the parameter that gets and sets the magnetic field.\n",
    "\n",
    "By default, each parameter is represented by a `DelegateParameter`. The `DelegateInstrument` also supports passing multiple source parameters to a given parameter. In order to do this, simply specify multiple parameters in the dictionary values  under the `parameters` key."
   ]
  },
  {
   "cell_type": "code",
   "execution_count": 1,
   "id": "sapphire-quebec",
   "metadata": {
    "execution": {
     "iopub.execute_input": "2021-05-17T15:26:50.555240Z",
     "iopub.status.busy": "2021-05-17T15:26:50.554574Z",
     "iopub.status.idle": "2021-05-17T15:26:50.564726Z",
     "shell.execute_reply": "2021-05-17T15:26:50.565350Z"
    }
   },
   "outputs": [
    {
     "name": "stdout",
     "output_type": "stream",
     "text": [
      "Writing example.yaml\n"
     ]
    }
   ],
   "source": [
    "%%writefile example.yaml\n",
    "\n",
    "instruments:\n",
    "  field_X:\n",
    "    type: qcodes.tests.instrument_mocks.MockField\n",
    "\n",
    "  field:\n",
    "    type: qcodes.instrument.delegate.DelegateInstrument\n",
    "    init:\n",
    "      parameters:\n",
    "        X:\n",
    "          - field_X.field\n",
    "        ramp_rate:\n",
    "          - field_X.ramp_rate\n",
    "        combined:\n",
    "          - field_X.field\n",
    "          - field_X.ramp_rate\n",
    "      set_initial_values_on_load: true\n",
    "      initial_values:\n",
    "        ramp_rate: 1.0\n",
    "      setters:\n",
    "        X:\n",
    "          method: field_X.set_field\n",
    "          block: false"
   ]
  },
  {
   "cell_type": "code",
   "execution_count": 2,
   "id": "younger-newspaper",
   "metadata": {
    "execution": {
     "iopub.execute_input": "2021-05-17T15:26:50.570279Z",
     "iopub.status.busy": "2021-05-17T15:26:50.569575Z",
     "iopub.status.idle": "2021-05-17T15:26:51.973707Z",
     "shell.execute_reply": "2021-05-17T15:26:51.974323Z"
    }
   },
   "outputs": [
    {
     "name": "stdout",
     "output_type": "stream",
     "text": [
      "Logging hadn't been started.\n",
      "Activating auto-logging. Current session state plus future input saved.\n",
      "Filename       : /home/runner/.qcodes/logs/command_history.log\n",
      "Mode           : append\n",
      "Output logging : True\n",
      "Raw input log  : False\n",
      "Timestamping   : True\n",
      "State          : active\n"
     ]
    },
    {
     "name": "stdout",
     "output_type": "stream",
     "text": [
      "Qcodes Logfile : /home/runner/.qcodes/logs/210517-9179-qcodes.log\n"
     ]
    }
   ],
   "source": [
    "import qcodes as qc"
   ]
  },
  {
   "cell_type": "code",
   "execution_count": 3,
   "id": "muslim-briefs",
   "metadata": {
    "execution": {
     "iopub.execute_input": "2021-05-17T15:26:51.988065Z",
     "iopub.status.busy": "2021-05-17T15:26:51.978715Z",
     "iopub.status.idle": "2021-05-17T15:26:51.995161Z",
     "shell.execute_reply": "2021-05-17T15:26:51.994213Z"
    }
   },
   "outputs": [],
   "source": [
    "station = qc.Station(config_file=\"example.yaml\")"
   ]
  },
  {
   "cell_type": "code",
   "execution_count": 4,
   "id": "greatest-antenna",
   "metadata": {
    "execution": {
     "iopub.execute_input": "2021-05-17T15:26:52.011970Z",
     "iopub.status.busy": "2021-05-17T15:26:52.011236Z",
     "iopub.status.idle": "2021-05-17T15:26:52.030941Z",
     "shell.execute_reply": "2021-05-17T15:26:52.030323Z"
    }
   },
   "outputs": [],
   "source": [
    "field_X = station.load_field_X()\n",
    "field = station.load_field(station=station)"
   ]
  },
  {
   "cell_type": "code",
   "execution_count": 5,
   "id": "every-playing",
   "metadata": {
    "execution": {
     "iopub.execute_input": "2021-05-17T15:26:52.045266Z",
     "iopub.status.busy": "2021-05-17T15:26:52.044587Z",
     "iopub.status.idle": "2021-05-17T15:26:52.049356Z",
     "shell.execute_reply": "2021-05-17T15:26:52.048730Z"
    }
   },
   "outputs": [
    {
     "data": {
      "text/plain": [
       "0.0"
      ]
     },
     "execution_count": 1,
     "metadata": {},
     "output_type": "execute_result"
    }
   ],
   "source": [
    "field.X()"
   ]
  },
  {
   "cell_type": "code",
   "execution_count": 6,
   "id": "undefined-worst",
   "metadata": {
    "execution": {
     "iopub.execute_input": "2021-05-17T15:26:52.055148Z",
     "iopub.status.busy": "2021-05-17T15:26:52.053478Z",
     "iopub.status.idle": "2021-05-17T15:26:52.055957Z",
     "shell.execute_reply": "2021-05-17T15:26:52.056502Z"
    }
   },
   "outputs": [],
   "source": [
    "field.X(1.)"
   ]
  },
  {
   "cell_type": "code",
   "execution_count": 7,
   "id": "recreational-suggestion",
   "metadata": {
    "execution": {
     "iopub.execute_input": "2021-05-17T15:26:52.063170Z",
     "iopub.status.busy": "2021-05-17T15:26:52.061800Z",
     "iopub.status.idle": "2021-05-17T15:26:52.065896Z",
     "shell.execute_reply": "2021-05-17T15:26:52.065214Z"
    }
   },
   "outputs": [
    {
     "data": {
      "text/plain": [
       "0.00012070337931315104"
      ]
     },
     "execution_count": 1,
     "metadata": {},
     "output_type": "execute_result"
    }
   ],
   "source": [
    "field.X()"
   ]
  },
  {
   "cell_type": "code",
   "execution_count": 8,
   "id": "adopted-exchange",
   "metadata": {
    "execution": {
     "iopub.execute_input": "2021-05-17T15:26:52.073276Z",
     "iopub.status.busy": "2021-05-17T15:26:52.071723Z",
     "iopub.status.idle": "2021-05-17T15:26:52.075907Z",
     "shell.execute_reply": "2021-05-17T15:26:52.075291Z"
    }
   },
   "outputs": [
    {
     "data": {
      "text/plain": [
       "0.0002836028734842936"
      ]
     },
     "execution_count": 1,
     "metadata": {},
     "output_type": "execute_result"
    }
   ],
   "source": [
    "field.X()"
   ]
  },
  {
   "cell_type": "code",
   "execution_count": 9,
   "id": "bound-broadcasting",
   "metadata": {
    "execution": {
     "iopub.execute_input": "2021-05-17T15:26:52.082431Z",
     "iopub.status.busy": "2021-05-17T15:26:52.081175Z",
     "iopub.status.idle": "2021-05-17T15:26:52.085118Z",
     "shell.execute_reply": "2021-05-17T15:26:52.084510Z"
    }
   },
   "outputs": [
    {
     "data": {
      "text/plain": [
       "0.0004405816396077474"
      ]
     },
     "execution_count": 1,
     "metadata": {},
     "output_type": "execute_result"
    }
   ],
   "source": [
    "field.X()"
   ]
  },
  {
   "cell_type": "code",
   "execution_count": 10,
   "id": "casual-ghost",
   "metadata": {
    "execution": {
     "iopub.execute_input": "2021-05-17T15:26:52.092631Z",
     "iopub.status.busy": "2021-05-17T15:26:52.091200Z",
     "iopub.status.idle": "2021-05-17T15:26:52.095414Z",
     "shell.execute_reply": "2021-05-17T15:26:52.094737Z"
    }
   },
   "outputs": [
    {
     "data": {
      "text/plain": [
       "0.0005964318911234538"
      ]
     },
     "execution_count": 1,
     "metadata": {},
     "output_type": "execute_result"
    }
   ],
   "source": [
    "field.X()"
   ]
  },
  {
   "cell_type": "markdown",
   "id": "alike-process",
   "metadata": {},
   "source": [
    "As you can see, the field is now ramped in the background with the specified ramp rate. Now, let's try to create a measurement that uses this ability, and ramps the field in the background while measuring:"
   ]
  },
  {
   "cell_type": "code",
   "execution_count": 11,
   "id": "sustained-tiger",
   "metadata": {
    "execution": {
     "iopub.execute_input": "2021-05-17T15:26:52.099949Z",
     "iopub.status.busy": "2021-05-17T15:26:52.099217Z",
     "iopub.status.idle": "2021-05-17T15:26:52.105900Z",
     "shell.execute_reply": "2021-05-17T15:26:52.105244Z"
    }
   },
   "outputs": [],
   "source": [
    "field.ramp_rate(10.)\n",
    "field_X.field(0.0)"
   ]
  },
  {
   "cell_type": "code",
   "execution_count": 12,
   "id": "pharmaceutical-partition",
   "metadata": {
    "execution": {
     "iopub.execute_input": "2021-05-17T15:26:52.112800Z",
     "iopub.status.busy": "2021-05-17T15:26:52.111590Z",
     "iopub.status.idle": "2021-05-17T15:26:52.114886Z",
     "shell.execute_reply": "2021-05-17T15:26:52.115458Z"
    }
   },
   "outputs": [
    {
     "data": {
      "text/plain": [
       "0.0"
      ]
     },
     "execution_count": 1,
     "metadata": {},
     "output_type": "execute_result"
    }
   ],
   "source": [
    "field.X()"
   ]
  },
  {
   "cell_type": "code",
   "execution_count": 13,
   "id": "happy-ordinance",
   "metadata": {
    "execution": {
     "iopub.execute_input": "2021-05-17T15:26:52.122662Z",
     "iopub.status.busy": "2021-05-17T15:26:52.121979Z",
     "iopub.status.idle": "2021-05-17T15:26:53.348724Z",
     "shell.execute_reply": "2021-05-17T15:26:53.349338Z"
    }
   },
   "outputs": [
    {
     "name": "stdout",
     "output_type": "stream",
     "text": [
      "Starting experimental run with id: 56. \n"
     ]
    }
   ],
   "source": [
    "import time\n",
    "meas = qc.Measurement(station=station)\n",
    "meas.register_parameter(field.X)\n",
    "\n",
    "with meas.run() as datasaver:\n",
    "    for B in [0.1, 0.0]:\n",
    "        field.X(B)\n",
    "        while field.X() != B:\n",
    "            datasaver.add_result((field.X, field.X()))\n",
    "            time.sleep(0.01)\n",
    "    datasaver.flush_data_to_database()"
   ]
  },
  {
   "cell_type": "code",
   "execution_count": 14,
   "id": "short-medium",
   "metadata": {
    "execution": {
     "iopub.execute_input": "2021-05-17T15:26:53.356115Z",
     "iopub.status.busy": "2021-05-17T15:26:53.353335Z",
     "iopub.status.idle": "2021-05-17T15:26:53.844346Z",
     "shell.execute_reply": "2021-05-17T15:26:53.843576Z"
    }
   },
   "outputs": [
    {
     "data": {
      "text/plain": [
       "<AxesSubplot:>"
      ]
     },
     "execution_count": 1,
     "metadata": {},
     "output_type": "execute_result"
    },
    {
     "data": {
      "image/png": "[encoded data removed]",
      "text/plain": [
       "<Figure size 432x288 with 1 Axes>"
      ]
     },
     "metadata": {
      "needs_background": "light"
     },
     "output_type": "display_data"
    }
   ],
   "source": [
    "datasaver.dataset.to_pandas_dataframe().plot()"
   ]
  },
  {
   "cell_type": "markdown",
   "id": "incomplete-vietnamese",
   "metadata": {},
   "source": [
    "When specifying multiple source parameters on a given parameter, the grouped parameter will automatically return a `namedtuple` that returns both values."
   ]
  },
  {
   "cell_type": "code",
   "execution_count": 15,
   "id": "dangerous-finder",
   "metadata": {
    "execution": {
     "iopub.execute_input": "2021-05-17T15:26:53.851144Z",
     "iopub.status.busy": "2021-05-17T15:26:53.849980Z",
     "iopub.status.idle": "2021-05-17T15:26:53.853300Z",
     "shell.execute_reply": "2021-05-17T15:26:53.853862Z"
    }
   },
   "outputs": [
    {
     "data": {
      "text/plain": [
       "combined(field=0.0, ramp_rate=10.0)"
      ]
     },
     "execution_count": 1,
     "metadata": {},
     "output_type": "execute_result"
    }
   ],
   "source": [
    "field.combined()"
   ]
  },
  {
   "cell_type": "markdown",
   "id": "consolidated-cooper",
   "metadata": {},
   "source": [
    "We can now also create a custom parameter that does a simple calculation based on the current parameters."
   ]
  },
  {
   "cell_type": "code",
   "execution_count": 16,
   "id": "designed-bloom",
   "metadata": {
    "execution": {
     "iopub.execute_input": "2021-05-17T15:26:53.860296Z",
     "iopub.status.busy": "2021-05-17T15:26:53.858890Z",
     "iopub.status.idle": "2021-05-17T15:26:53.861105Z",
     "shell.execute_reply": "2021-05-17T15:26:53.861656Z"
    }
   },
   "outputs": [],
   "source": [
    "import numpy as np\n",
    "\n",
    "def calculate_ramp_time(X, ramp_rate):\n",
    "    \"\"\"Calculate ramp time in seconds\"\"\"\n",
    "    dfield = np.abs(field.target_field - X)\n",
    "    return 60. * dfield/ramp_rate"
   ]
  },
  {
   "cell_type": "code",
   "execution_count": 17,
   "id": "disabled-logic",
   "metadata": {
    "execution": {
     "iopub.execute_input": "2021-05-17T15:26:53.868571Z",
     "iopub.status.busy": "2021-05-17T15:26:53.867459Z",
     "iopub.status.idle": "2021-05-17T15:26:53.869573Z",
     "shell.execute_reply": "2021-05-17T15:26:53.870171Z"
    },
    "scrolled": true
   },
   "outputs": [],
   "source": [
    "field._create_and_add_parameter(\n",
    "    group_name=\"ramp_time\",\n",
    "    station=station,\n",
    "    paths=[\"field_X.field\", \"field_X.ramp_rate\"],\n",
    "    formatter=calculate_ramp_time\n",
    ")"
   ]
  },
  {
   "cell_type": "code",
   "execution_count": 18,
   "id": "adverse-february",
   "metadata": {
    "execution": {
     "iopub.execute_input": "2021-05-17T15:26:53.877056Z",
     "iopub.status.busy": "2021-05-17T15:26:53.875885Z",
     "iopub.status.idle": "2021-05-17T15:26:53.879682Z",
     "shell.execute_reply": "2021-05-17T15:26:53.879153Z"
    }
   },
   "outputs": [
    {
     "data": {
      "text/plain": [
       "6.0"
      ]
     },
     "execution_count": 1,
     "metadata": {},
     "output_type": "execute_result"
    }
   ],
   "source": [
    "field.ramp_rate(1.0)\n",
    "field.target_field = 0.1\n",
    "field.ramp_time()"
   ]
  },
  {
   "cell_type": "code",
   "execution_count": 19,
   "id": "statutory-xerox",
   "metadata": {
    "execution": {
     "iopub.execute_input": "2021-05-17T15:26:53.885256Z",
     "iopub.status.busy": "2021-05-17T15:26:53.883276Z",
     "iopub.status.idle": "2021-05-17T15:26:53.885989Z",
     "shell.execute_reply": "2021-05-17T15:26:53.886544Z"
    }
   },
   "outputs": [],
   "source": [
    "field.X(0.1)"
   ]
  },
  {
   "cell_type": "code",
   "execution_count": 20,
   "id": "varying-auditor",
   "metadata": {
    "execution": {
     "iopub.execute_input": "2021-05-17T15:26:53.892813Z",
     "iopub.status.busy": "2021-05-17T15:26:53.891615Z",
     "iopub.status.idle": "2021-05-17T15:26:53.894895Z",
     "shell.execute_reply": "2021-05-17T15:26:53.895478Z"
    }
   },
   "outputs": [
    {
     "data": {
      "text/plain": [
       "5.992941379547119"
      ]
     },
     "execution_count": 1,
     "metadata": {},
     "output_type": "execute_result"
    }
   ],
   "source": [
    "field.ramp_time()"
   ]
  },
  {
   "cell_type": "code",
   "execution_count": 21,
   "id": "chubby-nickel",
   "metadata": {
    "execution": {
     "iopub.execute_input": "2021-05-17T15:26:53.899482Z",
     "iopub.status.busy": "2021-05-17T15:26:53.898824Z",
     "iopub.status.idle": "2021-05-17T15:26:54.904752Z",
     "shell.execute_reply": "2021-05-17T15:26:54.905379Z"
    }
   },
   "outputs": [
    {
     "data": {
      "text/plain": [
       "4.982635021209717"
      ]
     },
     "execution_count": 1,
     "metadata": {},
     "output_type": "execute_result"
    }
   ],
   "source": [
    "import time\n",
    "time.sleep(1.)\n",
    "field.ramp_time()"
   ]
  },
  {
   "cell_type": "code",
   "execution_count": 22,
   "id": "italian-liberty",
   "metadata": {
    "execution": {
     "iopub.execute_input": "2021-05-17T15:26:54.910032Z",
     "iopub.status.busy": "2021-05-17T15:26:54.909333Z",
     "iopub.status.idle": "2021-05-17T15:26:55.915344Z",
     "shell.execute_reply": "2021-05-17T15:26:55.914792Z"
    }
   },
   "outputs": [
    {
     "data": {
      "text/plain": [
       "3.9721693992614755"
      ]
     },
     "execution_count": 1,
     "metadata": {},
     "output_type": "execute_result"
    }
   ],
   "source": [
    "import time\n",
    "time.sleep(1.)\n",
    "field.ramp_time()"
   ]
  },
  {
   "cell_type": "code",
   "execution_count": null,
   "id": "mobile-buffalo",
   "metadata": {},
   "outputs": [],
   "source": []
  }
 ],
 "metadata": {
  "kernelspec": {
   "display_name": "Python 3.7.9 64-bit ('qcodes': conda)",
   "name": "python379jvsc74a57bd01772f43cf92542b0c64f9621787c7542d65141a21c16e4e61ad35c3f481e9993"
  },
  "language_info": {
   "codemirror_mode": {
    "name": "ipython",
    "version": 3
   },
   "file_extension": ".py",
   "mimetype": "text/x-python",
   "name": "python",
   "nbconvert_exporter": "python",
   "pygments_lexer": "ipython3",
   "version": "3.7.10"
  }
 },
 "nbformat": 4,
 "nbformat_minor": 5
}
