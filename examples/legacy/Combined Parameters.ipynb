{
 "cells": [
  {
   "cell_type": "markdown",
   "metadata": {},
   "source": [
    "# Combined Parameters"
   ]
  },
  {
   "cell_type": "code",
   "execution_count": 1,
   "metadata": {
    "execution": {
     "iopub.execute_input": "2021-01-13T17:15:30.785554Z",
     "iopub.status.busy": "2021-01-13T17:15:30.785132Z",
     "iopub.status.idle": "2021-01-13T17:15:31.684508Z",
     "shell.execute_reply": "2021-01-13T17:15:31.684926Z"
    },
    "scrolled": false
   },
   "outputs": [
    {
     "name": "stdout",
     "output_type": "stream",
     "text": [
      "Logging hadn't been started.\n",
      "Activating auto-logging. Current session state plus future input saved.\n",
      "Filename       : /home/vsts/.qcodes/logs/command_history.log\n",
      "Mode           : append\n",
      "Output logging : True\n",
      "Raw input log  : False\n",
      "Timestamping   : True\n",
      "State          : active\n"
     ]
    },
    {
     "name": "stdout",
     "output_type": "stream",
     "text": [
      "Qcodes Logfile : /home/vsts/.qcodes/logs/210113-24914-qcodes.log\n"
     ]
    }
   ],
   "source": [
    "import qcodes as qc\n",
    "import numpy as np \n",
    "\n",
    "from qcodes.instrument.parameter import ManualParameter\n",
    "from qcodes.utils.validators import Numbers\n",
    "from qcodes.loops import Loop"
   ]
  },
  {
   "cell_type": "markdown",
   "metadata": {},
   "source": [
    "If you want to sweep multiple parameters at once qcodes offers the combine function.\n",
    "You can combine any number of any kind paramter. \n",
    "We'll use a ManualParameter for this example."
   ]
  },
  {
   "cell_type": "code",
   "execution_count": 2,
   "metadata": {
    "execution": {
     "iopub.execute_input": "2021-01-13T17:15:31.690111Z",
     "iopub.status.busy": "2021-01-13T17:15:31.689644Z",
     "iopub.status.idle": "2021-01-13T17:15:31.691726Z",
     "shell.execute_reply": "2021-01-13T17:15:31.691332Z"
    }
   },
   "outputs": [],
   "source": [
    "p1 = ManualParameter('p1', vals=Numbers(-10, 10))\n",
    "p2 = ManualParameter('p2', vals=Numbers(-10, 10))\n",
    "p3 = ManualParameter('p3', vals=Numbers(-10, 10))\n",
    "p4 = ManualParameter('p4', vals=Numbers(-10, 10))\n",
    "# set to -1 so we get some data out\n",
    "p4.set(-1)"
   ]
  },
  {
   "cell_type": "markdown",
   "metadata": {},
   "source": [
    "##  Simple combined  parameters "
   ]
  },
  {
   "cell_type": "code",
   "execution_count": 3,
   "metadata": {
    "execution": {
     "iopub.execute_input": "2021-01-13T17:15:31.695856Z",
     "iopub.status.busy": "2021-01-13T17:15:31.695049Z",
     "iopub.status.idle": "2021-01-13T17:15:31.696621Z",
     "shell.execute_reply": "2021-01-13T17:15:31.697061Z"
    }
   },
   "outputs": [],
   "source": [
    "combined = qc.combine(p1, p2, p3, name='combined')\n",
    "\n",
    "sweep_vals = np.array([[1, 1,1], [1, 1,1]])\n"
   ]
  },
  {
   "cell_type": "code",
   "execution_count": 4,
   "metadata": {
    "execution": {
     "iopub.execute_input": "2021-01-13T17:15:31.701109Z",
     "iopub.status.busy": "2021-01-13T17:15:31.700352Z",
     "iopub.status.idle": "2021-01-13T17:15:31.702308Z",
     "shell.execute_reply": "2021-01-13T17:15:31.701848Z"
    }
   },
   "outputs": [],
   "source": [
    "# 2d loop with a inner loop over a combined parameter\n",
    "loop = Loop(p1.sweep(0,10,1)).loop(combined.sweep(sweep_vals), delay=0.001).each(p4)"
   ]
  },
  {
   "cell_type": "code",
   "execution_count": 5,
   "metadata": {
    "execution": {
     "iopub.execute_input": "2021-01-13T17:15:31.705865Z",
     "iopub.status.busy": "2021-01-13T17:15:31.705421Z",
     "iopub.status.idle": "2021-01-13T17:15:31.707595Z",
     "shell.execute_reply": "2021-01-13T17:15:31.707194Z"
    }
   },
   "outputs": [],
   "source": [
    "data = loop.get_data_set(name='testsweep')"
   ]
  },
  {
   "cell_type": "code",
   "execution_count": 6,
   "metadata": {
    "execution": {
     "iopub.execute_input": "2021-01-13T17:15:31.710841Z",
     "iopub.status.busy": "2021-01-13T17:15:31.709658Z",
     "iopub.status.idle": "2021-01-13T17:15:31.744256Z",
     "shell.execute_reply": "2021-01-13T17:15:31.744660Z"
    }
   },
   "outputs": [
    {
     "name": "stdout",
     "output_type": "stream",
     "text": [
      "Started at 2021-01-13 17:15:31\n",
      "DataSet:\n",
      "   location = 'data/2021-01-13/#001_testsweep_17-15-31'\n",
      "   <Type>   | <array_id>   | <array.name> | <array.shape>\n",
      "   Setpoint | p1_set       | p1           | (11,)\n",
      "   Setpoint | combined_set | combined     | (11, 2)\n",
      "   Measured | p4           | p4           | (11, 2)\n",
      "   Measured | p1           | p1           | (11, 2)\n",
      "   Measured | p2           | p2           | (11, 2)\n",
      "   Measured | p3           | p3           | (11, 2)\n",
      "Finished at 2021-01-13 17:15:31\n"
     ]
    }
   ],
   "source": [
    "data = loop.run()"
   ]
  },
  {
   "cell_type": "markdown",
   "metadata": {},
   "source": [
    "The combined_set just stores the indices "
   ]
  },
  {
   "cell_type": "code",
   "execution_count": 7,
   "metadata": {
    "execution": {
     "iopub.execute_input": "2021-01-13T17:15:31.749397Z",
     "iopub.status.busy": "2021-01-13T17:15:31.748605Z",
     "iopub.status.idle": "2021-01-13T17:15:31.750781Z",
     "shell.execute_reply": "2021-01-13T17:15:31.751207Z"
    }
   },
   "outputs": [
    {
     "name": "stdout",
     "output_type": "stream",
     "text": [
      "DataArray[11,2]: combined_set\n",
      "array([[0., 1.],\n",
      "       [0., 1.],\n",
      "       [0., 1.],\n",
      "       [0., 1.],\n",
      "       [0., 1.],\n",
      "       [0., 1.],\n",
      "       [0., 1.],\n",
      "       [0., 1.],\n",
      "       [0., 1.],\n",
      "       [0., 1.],\n",
      "       [0., 1.]])\n"
     ]
    }
   ],
   "source": [
    "print(data.combined_set)"
   ]
  },
  {
   "cell_type": "markdown",
   "metadata": {},
   "source": [
    "But the acutal set values are saved, but labeled as \"measured\""
   ]
  },
  {
   "cell_type": "code",
   "execution_count": 8,
   "metadata": {
    "execution": {
     "iopub.execute_input": "2021-01-13T17:15:31.760517Z",
     "iopub.status.busy": "2021-01-13T17:15:31.760052Z",
     "iopub.status.idle": "2021-01-13T17:15:31.762319Z",
     "shell.execute_reply": "2021-01-13T17:15:31.762760Z"
    }
   },
   "outputs": [
    {
     "data": {
      "text/plain": [
       "DataArray[11,2]: p3\n",
       "array([[1., 1.],\n",
       "       [1., 1.],\n",
       "       [1., 1.],\n",
       "       [1., 1.],\n",
       "       [1., 1.],\n",
       "       [1., 1.],\n",
       "       [1., 1.],\n",
       "       [1., 1.],\n",
       "       [1., 1.],\n",
       "       [1., 1.],\n",
       "       [1., 1.]])"
      ]
     },
     "execution_count": 1,
     "metadata": {},
     "output_type": "execute_result"
    }
   ],
   "source": [
    "data.p3"
   ]
  },
  {
   "cell_type": "markdown",
   "metadata": {},
   "source": [
    "## Combine and aggregate parameters\n",
    "\n",
    "If an aggregator function is given, the aggregated values are saved instead of the indices."
   ]
  },
  {
   "cell_type": "code",
   "execution_count": 9,
   "metadata": {
    "execution": {
     "iopub.execute_input": "2021-01-13T17:15:31.766436Z",
     "iopub.status.busy": "2021-01-13T17:15:31.765672Z",
     "iopub.status.idle": "2021-01-13T17:15:31.767233Z",
     "shell.execute_reply": "2021-01-13T17:15:31.767592Z"
    }
   },
   "outputs": [],
   "source": [
    "# define an aggregator function that takes as arguments the parameters you whish to aggegate\n",
    "def linear(x,y,z):\n",
    "    return x+y+z"
   ]
  },
  {
   "cell_type": "code",
   "execution_count": 10,
   "metadata": {
    "execution": {
     "iopub.execute_input": "2021-01-13T17:15:31.772101Z",
     "iopub.status.busy": "2021-01-13T17:15:31.771295Z",
     "iopub.status.idle": "2021-01-13T17:15:31.772809Z",
     "shell.execute_reply": "2021-01-13T17:15:31.773152Z"
    }
   },
   "outputs": [],
   "source": [
    "combined = qc.combine(p1, p2, p3, name='combined', label=\"Sum\", unit=\"a.u\", aggregator=linear)\n",
    "\n",
    "x_vals = np.linspace(1, 2, 2)\n",
    "y_vals = np.linspace(1, 2, 2)\n",
    "z_vals = np.linspace(1, 2, 2)\n",
    "\n"
   ]
  },
  {
   "cell_type": "code",
   "execution_count": 11,
   "metadata": {
    "execution": {
     "iopub.execute_input": "2021-01-13T17:15:31.777126Z",
     "iopub.status.busy": "2021-01-13T17:15:31.776382Z",
     "iopub.status.idle": "2021-01-13T17:15:31.777988Z",
     "shell.execute_reply": "2021-01-13T17:15:31.778333Z"
    }
   },
   "outputs": [],
   "source": [
    "# 2d loop with a inner loop over a combined parameter\n",
    "loop = Loop(p1.sweep(0,10,1)).loop(combined.sweep(x_vals, y_vals, z_vals), delay=0.001).each(p4)"
   ]
  },
  {
   "cell_type": "code",
   "execution_count": 12,
   "metadata": {
    "execution": {
     "iopub.execute_input": "2021-01-13T17:15:31.781189Z",
     "iopub.status.busy": "2021-01-13T17:15:31.780553Z",
     "iopub.status.idle": "2021-01-13T17:15:31.783946Z",
     "shell.execute_reply": "2021-01-13T17:15:31.783563Z"
    }
   },
   "outputs": [],
   "source": [
    "data = loop.get_data_set(name='testsweep')"
   ]
  },
  {
   "cell_type": "code",
   "execution_count": 13,
   "metadata": {
    "execution": {
     "iopub.execute_input": "2021-01-13T17:15:31.787791Z",
     "iopub.status.busy": "2021-01-13T17:15:31.787038Z",
     "iopub.status.idle": "2021-01-13T17:15:31.819694Z",
     "shell.execute_reply": "2021-01-13T17:15:31.820143Z"
    }
   },
   "outputs": [
    {
     "name": "stdout",
     "output_type": "stream",
     "text": [
      "Started at 2021-01-13 17:15:31\n",
      "DataSet:\n",
      "   location = 'data/2021-01-13/#002_testsweep_17-15-31'\n",
      "   <Type>   | <array_id>   | <array.name> | <array.shape>\n",
      "   Setpoint | p1_set       | p1           | (11,)\n",
      "   Setpoint | combined_set | combined     | (11, 2)\n",
      "   Measured | p4           | p4           | (11, 2)\n",
      "   Measured | p1           | p1           | (11, 2)\n",
      "   Measured | p2           | p2           | (11, 2)\n",
      "   Measured | p3           | p3           | (11, 2)\n",
      "Finished at 2021-01-13 17:15:31\n"
     ]
    }
   ],
   "source": [
    "data = loop.run()"
   ]
  },
  {
   "cell_type": "markdown",
   "metadata": {
    "collapsed": true
   },
   "source": [
    "the combined_set now stores the aggregated values"
   ]
  },
  {
   "cell_type": "code",
   "execution_count": 14,
   "metadata": {
    "execution": {
     "iopub.execute_input": "2021-01-13T17:15:31.824530Z",
     "iopub.status.busy": "2021-01-13T17:15:31.823895Z",
     "iopub.status.idle": "2021-01-13T17:15:31.825953Z",
     "shell.execute_reply": "2021-01-13T17:15:31.826381Z"
    }
   },
   "outputs": [
    {
     "name": "stdout",
     "output_type": "stream",
     "text": [
      "DataArray[11,2]: combined_set\n",
      "array([[3., 6.],\n",
      "       [3., 6.],\n",
      "       [3., 6.],\n",
      "       [3., 6.],\n",
      "       [3., 6.],\n",
      "       [3., 6.],\n",
      "       [3., 6.],\n",
      "       [3., 6.],\n",
      "       [3., 6.],\n",
      "       [3., 6.],\n",
      "       [3., 6.]])\n"
     ]
    }
   ],
   "source": [
    "print(data.combined_set)"
   ]
  },
  {
   "cell_type": "code",
   "execution_count": 15,
   "metadata": {
    "execution": {
     "iopub.execute_input": "2021-01-13T17:15:31.831419Z",
     "iopub.status.busy": "2021-01-13T17:15:31.830959Z",
     "iopub.status.idle": "2021-01-13T17:15:31.833063Z",
     "shell.execute_reply": "2021-01-13T17:15:31.833493Z"
    }
   },
   "outputs": [
    {
     "data": {
      "text/plain": [
       "OrderedDict([('__class__', 'qcodes.instrument.parameter.CombinedParameter'),\n",
       "             ('unit', 'a.u'),\n",
       "             ('label', 'Sum'),\n",
       "             ('full_name', 'combined'),\n",
       "             ('aggregator', '<function linear at 0x7f61cfe11170>'),\n",
       "             ('p1',\n",
       "              {'__class__': 'qcodes.instrument.parameter.ManualParameter',\n",
       "               'full_name': 'p1',\n",
       "               'value': 2.0,\n",
       "               'raw_value': 2.0,\n",
       "               'ts': '2021-01-13 17:15:31',\n",
       "               'vals': '<Numbers -10<=v<=10>',\n",
       "               'label': 'p1',\n",
       "               'name': 'p1',\n",
       "               'post_delay': 0,\n",
       "               'unit': '',\n",
       "               'inter_delay': 0}),\n",
       "             ('p2',\n",
       "              {'__class__': 'qcodes.instrument.parameter.ManualParameter',\n",
       "               'full_name': 'p2',\n",
       "               'value': 2.0,\n",
       "               'raw_value': 2.0,\n",
       "               'ts': '2021-01-13 17:15:31',\n",
       "               'vals': '<Numbers -10<=v<=10>',\n",
       "               'label': 'p2',\n",
       "               'name': 'p2',\n",
       "               'post_delay': 0,\n",
       "               'unit': '',\n",
       "               'inter_delay': 0}),\n",
       "             ('p3',\n",
       "              {'__class__': 'qcodes.instrument.parameter.ManualParameter',\n",
       "               'full_name': 'p3',\n",
       "               'value': 2.0,\n",
       "               'raw_value': 2.0,\n",
       "               'ts': '2021-01-13 17:15:31',\n",
       "               'vals': '<Numbers -10<=v<=10>',\n",
       "               'label': 'p3',\n",
       "               'name': 'p3',\n",
       "               'post_delay': 0,\n",
       "               'unit': '',\n",
       "               'inter_delay': 0})])"
      ]
     },
     "execution_count": 1,
     "metadata": {},
     "output_type": "execute_result"
    }
   ],
   "source": [
    "# snapshot of the combined parameter\n",
    "combined.snapshot()"
   ]
  },
  {
   "cell_type": "code",
   "execution_count": null,
   "metadata": {},
   "outputs": [],
   "source": []
  }
 ],
 "metadata": {
  "anaconda-cloud": {},
  "kernelspec": {
   "display_name": "Python 3",
   "language": "python",
   "name": "python3"
  },
  "language_info": {
   "codemirror_mode": {
    "name": "ipython",
    "version": 3
   },
   "file_extension": ".py",
   "mimetype": "text/x-python",
   "name": "python",
   "nbconvert_exporter": "python",
   "pygments_lexer": "ipython3",
   "version": "3.7.9"
  },
  "toc": {
   "base_numbering": 1,
   "nav_menu": {},
   "number_sections": true,
   "sideBar": true,
   "skip_h1_title": false,
   "title_cell": "Table of Contents",
   "title_sidebar": "Contents",
   "toc_cell": false,
   "toc_position": {},
   "toc_section_display": true,
   "toc_window_display": false
  },
  "varInspector": {
   "cols": {
    "lenName": 16,
    "lenType": 16,
    "lenVar": 40
   },
   "kernels_config": {
    "python": {
     "delete_cmd_postfix": "",
     "delete_cmd_prefix": "del ",
     "library": "var_list.py",
     "varRefreshCmd": "print(var_dic_list())"
    },
    "r": {
     "delete_cmd_postfix": ") ",
     "delete_cmd_prefix": "rm(",
     "library": "var_list.r",
     "varRefreshCmd": "cat(var_dic_list()) "
    }
   },
   "types_to_exclude": [
    "module",
    "function",
    "builtin_function_or_method",
    "instance",
    "_Feature"
   ],
   "window_display": false
  }
 },
 "nbformat": 4,
 "nbformat_minor": 1
}
