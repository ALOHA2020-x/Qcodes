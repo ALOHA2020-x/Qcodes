{
 "cells": [
  {
   "cell_type": "markdown",
   "metadata": {},
   "source": [
    "# Combined Parameters"
   ]
  },
  {
   "cell_type": "code",
   "execution_count": 1,
   "metadata": {
    "execution": {
     "iopub.execute_input": "2021-05-12T08:21:02.443367Z",
     "iopub.status.busy": "2021-05-12T08:21:02.442696Z",
     "iopub.status.idle": "2021-05-12T08:21:03.832722Z",
     "shell.execute_reply": "2021-05-12T08:21:03.831601Z"
    },
    "scrolled": false
   },
   "outputs": [
    {
     "name": "stdout",
     "output_type": "stream",
     "text": [
      "Logging hadn't been started.\n",
      "Activating auto-logging. Current session state plus future input saved.\n",
      "Filename       : /home/runner/.qcodes/logs/command_history.log\n",
      "Mode           : append\n",
      "Output logging : True\n",
      "Raw input log  : False\n",
      "Timestamping   : True\n",
      "State          : active\n"
     ]
    },
    {
     "name": "stdout",
     "output_type": "stream",
     "text": [
      "Qcodes Logfile : /home/runner/.qcodes/logs/210512-17060-qcodes.log\n"
     ]
    }
   ],
   "source": [
    "import qcodes as qc\n",
    "import numpy as np \n",
    "\n",
    "from qcodes.instrument.parameter import ManualParameter\n",
    "from qcodes.utils.validators import Numbers\n",
    "from qcodes.loops import Loop"
   ]
  },
  {
   "cell_type": "markdown",
   "metadata": {},
   "source": [
    "If you want to sweep multiple parameters at once qcodes offers the combine function.\n",
    "You can combine any number of any kind paramter. \n",
    "We'll use a ManualParameter for this example."
   ]
  },
  {
   "cell_type": "code",
   "execution_count": 2,
   "metadata": {
    "execution": {
     "iopub.execute_input": "2021-05-12T08:21:03.838041Z",
     "iopub.status.busy": "2021-05-12T08:21:03.837415Z",
     "iopub.status.idle": "2021-05-12T08:21:03.841090Z",
     "shell.execute_reply": "2021-05-12T08:21:03.841639Z"
    }
   },
   "outputs": [],
   "source": [
    "p1 = ManualParameter('p1', vals=Numbers(-10, 10))\n",
    "p2 = ManualParameter('p2', vals=Numbers(-10, 10))\n",
    "p3 = ManualParameter('p3', vals=Numbers(-10, 10))\n",
    "p4 = ManualParameter('p4', vals=Numbers(-10, 10))\n",
    "# set to -1 so we get some data out\n",
    "p4.set(-1)"
   ]
  },
  {
   "cell_type": "markdown",
   "metadata": {},
   "source": [
    "##  Simple combined  parameters "
   ]
  },
  {
   "cell_type": "code",
   "execution_count": 3,
   "metadata": {
    "execution": {
     "iopub.execute_input": "2021-05-12T08:21:03.846354Z",
     "iopub.status.busy": "2021-05-12T08:21:03.845694Z",
     "iopub.status.idle": "2021-05-12T08:21:03.849340Z",
     "shell.execute_reply": "2021-05-12T08:21:03.849805Z"
    }
   },
   "outputs": [],
   "source": [
    "combined = qc.combine(p1, p2, p3, name='combined')\n",
    "\n",
    "sweep_vals = np.array([[1, 1,1], [1, 1,1]])\n"
   ]
  },
  {
   "cell_type": "code",
   "execution_count": 4,
   "metadata": {
    "execution": {
     "iopub.execute_input": "2021-05-12T08:21:03.855704Z",
     "iopub.status.busy": "2021-05-12T08:21:03.854257Z",
     "iopub.status.idle": "2021-05-12T08:21:03.856420Z",
     "shell.execute_reply": "2021-05-12T08:21:03.856945Z"
    }
   },
   "outputs": [],
   "source": [
    "# 2d loop with a inner loop over a combined parameter\n",
    "loop = Loop(p1.sweep(0,10,1)).loop(combined.sweep(sweep_vals), delay=0.001).each(p4)"
   ]
  },
  {
   "cell_type": "code",
   "execution_count": 5,
   "metadata": {
    "execution": {
     "iopub.execute_input": "2021-05-12T08:21:03.863216Z",
     "iopub.status.busy": "2021-05-12T08:21:03.861668Z",
     "iopub.status.idle": "2021-05-12T08:21:03.863885Z",
     "shell.execute_reply": "2021-05-12T08:21:03.864376Z"
    }
   },
   "outputs": [],
   "source": [
    "data = loop.get_data_set(name='testsweep')"
   ]
  },
  {
   "cell_type": "code",
   "execution_count": 6,
   "metadata": {
    "execution": {
     "iopub.execute_input": "2021-05-12T08:21:03.869888Z",
     "iopub.status.busy": "2021-05-12T08:21:03.868845Z",
     "iopub.status.idle": "2021-05-12T08:21:03.910491Z",
     "shell.execute_reply": "2021-05-12T08:21:03.909788Z"
    }
   },
   "outputs": [
    {
     "name": "stdout",
     "output_type": "stream",
     "text": [
      "Started at 2021-05-12 08:21:03\n",
      "DataSet:\n",
      "   location = 'data/2021-05-12/#001_testsweep_08-21-03'\n",
      "   <Type>   | <array_id>   | <array.name> | <array.shape>\n",
      "   Setpoint | p1_set       | p1           | (11,)\n",
      "   Setpoint | combined_set | combined     | (11, 2)\n",
      "   Measured | p4           | p4           | (11, 2)\n",
      "   Measured | p1           | p1           | (11, 2)\n",
      "   Measured | p2           | p2           | (11, 2)\n",
      "   Measured | p3           | p3           | (11, 2)\n",
      "Finished at 2021-05-12 08:21:03\n"
     ]
    }
   ],
   "source": [
    "data = loop.run()"
   ]
  },
  {
   "cell_type": "markdown",
   "metadata": {},
   "source": [
    "The combined_set just stores the indices "
   ]
  },
  {
   "cell_type": "code",
   "execution_count": 7,
   "metadata": {
    "execution": {
     "iopub.execute_input": "2021-05-12T08:21:03.917389Z",
     "iopub.status.busy": "2021-05-12T08:21:03.915720Z",
     "iopub.status.idle": "2021-05-12T08:21:03.919585Z",
     "shell.execute_reply": "2021-05-12T08:21:03.919071Z"
    }
   },
   "outputs": [
    {
     "name": "stdout",
     "output_type": "stream",
     "text": [
      "DataArray[11,2]: combined_set\n",
      "array([[0., 1.],\n",
      "       [0., 1.],\n",
      "       [0., 1.],\n",
      "       [0., 1.],\n",
      "       [0., 1.],\n",
      "       [0., 1.],\n",
      "       [0., 1.],\n",
      "       [0., 1.],\n",
      "       [0., 1.],\n",
      "       [0., 1.],\n",
      "       [0., 1.]])\n"
     ]
    }
   ],
   "source": [
    "print(data.combined_set)"
   ]
  },
  {
   "cell_type": "markdown",
   "metadata": {},
   "source": [
    "But the acutal set values are saved, but labeled as \"measured\""
   ]
  },
  {
   "cell_type": "code",
   "execution_count": 8,
   "metadata": {
    "execution": {
     "iopub.execute_input": "2021-05-12T08:21:03.931768Z",
     "iopub.status.busy": "2021-05-12T08:21:03.927891Z",
     "iopub.status.idle": "2021-05-12T08:21:03.934444Z",
     "shell.execute_reply": "2021-05-12T08:21:03.934977Z"
    }
   },
   "outputs": [
    {
     "data": {
      "text/plain": [
       "DataArray[11,2]: p3\n",
       "array([[1., 1.],\n",
       "       [1., 1.],\n",
       "       [1., 1.],\n",
       "       [1., 1.],\n",
       "       [1., 1.],\n",
       "       [1., 1.],\n",
       "       [1., 1.],\n",
       "       [1., 1.],\n",
       "       [1., 1.],\n",
       "       [1., 1.],\n",
       "       [1., 1.]])"
      ]
     },
     "execution_count": 1,
     "metadata": {},
     "output_type": "execute_result"
    }
   ],
   "source": [
    "data.p3"
   ]
  },
  {
   "cell_type": "markdown",
   "metadata": {},
   "source": [
    "## Combine and aggregate parameters\n",
    "\n",
    "If an aggregator function is given, the aggregated values are saved instead of the indices."
   ]
  },
  {
   "cell_type": "code",
   "execution_count": 9,
   "metadata": {
    "execution": {
     "iopub.execute_input": "2021-05-12T08:21:03.940209Z",
     "iopub.status.busy": "2021-05-12T08:21:03.938974Z",
     "iopub.status.idle": "2021-05-12T08:21:03.941480Z",
     "shell.execute_reply": "2021-05-12T08:21:03.942008Z"
    }
   },
   "outputs": [],
   "source": [
    "# define an aggregator function that takes as arguments the parameters you whish to aggegate\n",
    "def linear(x,y,z):\n",
    "    return x+y+z"
   ]
  },
  {
   "cell_type": "code",
   "execution_count": 10,
   "metadata": {
    "execution": {
     "iopub.execute_input": "2021-05-12T08:21:03.948974Z",
     "iopub.status.busy": "2021-05-12T08:21:03.947316Z",
     "iopub.status.idle": "2021-05-12T08:21:03.949698Z",
     "shell.execute_reply": "2021-05-12T08:21:03.950256Z"
    }
   },
   "outputs": [],
   "source": [
    "combined = qc.combine(p1, p2, p3, name='combined', label=\"Sum\", unit=\"a.u\", aggregator=linear)\n",
    "\n",
    "x_vals = np.linspace(1, 2, 2)\n",
    "y_vals = np.linspace(1, 2, 2)\n",
    "z_vals = np.linspace(1, 2, 2)\n",
    "\n"
   ]
  },
  {
   "cell_type": "code",
   "execution_count": 11,
   "metadata": {
    "execution": {
     "iopub.execute_input": "2021-05-12T08:21:03.956360Z",
     "iopub.status.busy": "2021-05-12T08:21:03.954652Z",
     "iopub.status.idle": "2021-05-12T08:21:03.957086Z",
     "shell.execute_reply": "2021-05-12T08:21:03.957578Z"
    }
   },
   "outputs": [],
   "source": [
    "# 2d loop with a inner loop over a combined parameter\n",
    "loop = Loop(p1.sweep(0,10,1)).loop(combined.sweep(x_vals, y_vals, z_vals), delay=0.001).each(p4)"
   ]
  },
  {
   "cell_type": "code",
   "execution_count": 12,
   "metadata": {
    "execution": {
     "iopub.execute_input": "2021-05-12T08:21:03.962669Z",
     "iopub.status.busy": "2021-05-12T08:21:03.961549Z",
     "iopub.status.idle": "2021-05-12T08:21:03.964599Z",
     "shell.execute_reply": "2021-05-12T08:21:03.965142Z"
    }
   },
   "outputs": [],
   "source": [
    "data = loop.get_data_set(name='testsweep')"
   ]
  },
  {
   "cell_type": "code",
   "execution_count": 13,
   "metadata": {
    "execution": {
     "iopub.execute_input": "2021-05-12T08:21:03.970912Z",
     "iopub.status.busy": "2021-05-12T08:21:03.969252Z",
     "iopub.status.idle": "2021-05-12T08:21:04.006971Z",
     "shell.execute_reply": "2021-05-12T08:21:04.007433Z"
    }
   },
   "outputs": [
    {
     "name": "stdout",
     "output_type": "stream",
     "text": [
      "Started at 2021-05-12 08:21:03\n",
      "DataSet:\n",
      "   location = 'data/2021-05-12/#002_testsweep_08-21-03'\n",
      "   <Type>   | <array_id>   | <array.name> | <array.shape>\n",
      "   Setpoint | p1_set       | p1           | (11,)\n",
      "   Setpoint | combined_set | combined     | (11, 2)\n",
      "   Measured | p4           | p4           | (11, 2)\n",
      "   Measured | p1           | p1           | (11, 2)\n",
      "   Measured | p2           | p2           | (11, 2)\n",
      "   Measured | p3           | p3           | (11, 2)\n",
      "Finished at 2021-05-12 08:21:04\n"
     ]
    }
   ],
   "source": [
    "data = loop.run()"
   ]
  },
  {
   "cell_type": "markdown",
   "metadata": {
    "collapsed": true
   },
   "source": [
    "the combined_set now stores the aggregated values"
   ]
  },
  {
   "cell_type": "code",
   "execution_count": 14,
   "metadata": {
    "execution": {
     "iopub.execute_input": "2021-05-12T08:21:04.014184Z",
     "iopub.status.busy": "2021-05-12T08:21:04.012736Z",
     "iopub.status.idle": "2021-05-12T08:21:04.016069Z",
     "shell.execute_reply": "2021-05-12T08:21:04.015502Z"
    }
   },
   "outputs": [
    {
     "name": "stdout",
     "output_type": "stream",
     "text": [
      "DataArray[11,2]: combined_set\n",
      "array([[3., 6.],\n",
      "       [3., 6.],\n",
      "       [3., 6.],\n",
      "       [3., 6.],\n",
      "       [3., 6.],\n",
      "       [3., 6.],\n",
      "       [3., 6.],\n",
      "       [3., 6.],\n",
      "       [3., 6.],\n",
      "       [3., 6.],\n",
      "       [3., 6.]])\n"
     ]
    }
   ],
   "source": [
    "print(data.combined_set)"
   ]
  },
  {
   "cell_type": "code",
   "execution_count": 15,
   "metadata": {
    "execution": {
     "iopub.execute_input": "2021-05-12T08:21:04.023698Z",
     "iopub.status.busy": "2021-05-12T08:21:04.022182Z",
     "iopub.status.idle": "2021-05-12T08:21:04.026035Z",
     "shell.execute_reply": "2021-05-12T08:21:04.025534Z"
    }
   },
   "outputs": [
    {
     "data": {
      "text/plain": [
       "OrderedDict([('__class__', 'qcodes.instrument.parameter.CombinedParameter'),\n",
       "             ('unit', 'a.u'),\n",
       "             ('label', 'Sum'),\n",
       "             ('full_name', 'combined'),\n",
       "             ('aggregator', '<function linear at 0x7fa78eae98c0>'),\n",
       "             ('p1',\n",
       "              {'__class__': 'qcodes.instrument.parameter.ManualParameter',\n",
       "               'full_name': 'p1',\n",
       "               'value': 2.0,\n",
       "               'raw_value': 2.0,\n",
       "               'ts': '2021-05-12 08:21:03',\n",
       "               'post_delay': 0,\n",
       "               'inter_delay': 0,\n",
       "               'vals': '<Numbers -10<=v<=10>',\n",
       "               'unit': '',\n",
       "               'label': 'p1',\n",
       "               'name': 'p1'}),\n",
       "             ('p2',\n",
       "              {'__class__': 'qcodes.instrument.parameter.ManualParameter',\n",
       "               'full_name': 'p2',\n",
       "               'value': 2.0,\n",
       "               'raw_value': 2.0,\n",
       "               'ts': '2021-05-12 08:21:03',\n",
       "               'post_delay': 0,\n",
       "               'inter_delay': 0,\n",
       "               'vals': '<Numbers -10<=v<=10>',\n",
       "               'unit': '',\n",
       "               'label': 'p2',\n",
       "               'name': 'p2'}),\n",
       "             ('p3',\n",
       "              {'__class__': 'qcodes.instrument.parameter.ManualParameter',\n",
       "               'full_name': 'p3',\n",
       "               'value': 2.0,\n",
       "               'raw_value': 2.0,\n",
       "               'ts': '2021-05-12 08:21:03',\n",
       "               'post_delay': 0,\n",
       "               'inter_delay': 0,\n",
       "               'vals': '<Numbers -10<=v<=10>',\n",
       "               'unit': '',\n",
       "               'label': 'p3',\n",
       "               'name': 'p3'})])"
      ]
     },
     "execution_count": 1,
     "metadata": {},
     "output_type": "execute_result"
    }
   ],
   "source": [
    "# snapshot of the combined parameter\n",
    "combined.snapshot()"
   ]
  },
  {
   "cell_type": "code",
   "execution_count": null,
   "metadata": {},
   "outputs": [],
   "source": []
  }
 ],
 "metadata": {
  "anaconda-cloud": {},
  "kernelspec": {
   "display_name": "Python 3",
   "language": "python",
   "name": "python3"
  },
  "language_info": {
   "codemirror_mode": {
    "name": "ipython",
    "version": 3
   },
   "file_extension": ".py",
   "mimetype": "text/x-python",
   "name": "python",
   "nbconvert_exporter": "python",
   "pygments_lexer": "ipython3",
   "version": "3.7.10"
  },
  "toc": {
   "base_numbering": 1,
   "nav_menu": {},
   "number_sections": true,
   "sideBar": true,
   "skip_h1_title": false,
   "title_cell": "Table of Contents",
   "title_sidebar": "Contents",
   "toc_cell": false,
   "toc_position": {},
   "toc_section_display": true,
   "toc_window_display": false
  },
  "varInspector": {
   "cols": {
    "lenName": 16,
    "lenType": 16,
    "lenVar": 40
   },
   "kernels_config": {
    "python": {
     "delete_cmd_postfix": "",
     "delete_cmd_prefix": "del ",
     "library": "var_list.py",
     "varRefreshCmd": "print(var_dic_list())"
    },
    "r": {
     "delete_cmd_postfix": ") ",
     "delete_cmd_prefix": "rm(",
     "library": "var_list.r",
     "varRefreshCmd": "cat(var_dic_list()) "
    }
   },
   "types_to_exclude": [
    "module",
    "function",
    "builtin_function_or_method",
    "instance",
    "_Feature"
   ],
   "window_display": false
  }
 },
 "nbformat": 4,
 "nbformat_minor": 1
}
