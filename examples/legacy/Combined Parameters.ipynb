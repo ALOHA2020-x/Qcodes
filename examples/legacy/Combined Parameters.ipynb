{
 "cells": [
  {
   "cell_type": "markdown",
   "metadata": {},
   "source": [
    "# Combined Parameters"
   ]
  },
  {
   "cell_type": "code",
   "execution_count": 1,
   "metadata": {
    "execution": {
     "iopub.execute_input": "2020-10-30T14:49:55.119260Z",
     "iopub.status.busy": "2020-10-30T14:49:55.118714Z",
     "iopub.status.idle": "2020-10-30T14:49:56.166239Z",
     "shell.execute_reply": "2020-10-30T14:49:56.165317Z"
    },
    "scrolled": false
   },
   "outputs": [
    {
     "name": "stdout",
     "output_type": "stream",
     "text": [
      "Logging hadn't been started.\n",
      "Activating auto-logging. Current session state plus future input saved.\n",
      "Filename       : /home/vsts/.qcodes/logs/command_history.log\n",
      "Mode           : append\n",
      "Output logging : True\n",
      "Raw input log  : False\n",
      "Timestamping   : True\n",
      "State          : active\n"
     ]
    },
    {
     "name": "stdout",
     "output_type": "stream",
     "text": [
      "Qcodes Logfile : /home/vsts/.qcodes/logs/201030-26181-qcodes.log\n"
     ]
    }
   ],
   "source": [
    "import qcodes as qc\n",
    "import numpy as np \n",
    "\n",
    "from qcodes.instrument.parameter import ManualParameter\n",
    "from qcodes.utils.validators import Numbers\n",
    "from qcodes.loops import Loop"
   ]
  },
  {
   "cell_type": "markdown",
   "metadata": {},
   "source": [
    "If you want to sweep multiple parameters at once qcodes offers the combine function.\n",
    "You can combine any number of any kind paramter. \n",
    "We'll use a ManualParameter for this example."
   ]
  },
  {
   "cell_type": "code",
   "execution_count": 2,
   "metadata": {
    "execution": {
     "iopub.execute_input": "2020-10-30T14:49:56.171862Z",
     "iopub.status.busy": "2020-10-30T14:49:56.171329Z",
     "iopub.status.idle": "2020-10-30T14:49:56.174781Z",
     "shell.execute_reply": "2020-10-30T14:49:56.174345Z"
    }
   },
   "outputs": [],
   "source": [
    "p1 = ManualParameter('p1', vals=Numbers(-10, 10))\n",
    "p2 = ManualParameter('p2', vals=Numbers(-10, 10))\n",
    "p3 = ManualParameter('p3', vals=Numbers(-10, 10))\n",
    "p4 = ManualParameter('p4', vals=Numbers(-10, 10))\n",
    "# set to -1 so we get some data out\n",
    "p4.set(-1)"
   ]
  },
  {
   "cell_type": "markdown",
   "metadata": {},
   "source": [
    "##  Simple combined  parameters "
   ]
  },
  {
   "cell_type": "code",
   "execution_count": 3,
   "metadata": {
    "execution": {
     "iopub.execute_input": "2020-10-30T14:49:56.179786Z",
     "iopub.status.busy": "2020-10-30T14:49:56.178613Z",
     "iopub.status.idle": "2020-10-30T14:49:56.180438Z",
     "shell.execute_reply": "2020-10-30T14:49:56.180859Z"
    }
   },
   "outputs": [],
   "source": [
    "combined = qc.combine(p1, p2, p3, name='combined')\n",
    "\n",
    "sweep_vals = np.array([[1, 1,1], [1, 1,1]])\n"
   ]
  },
  {
   "cell_type": "code",
   "execution_count": 4,
   "metadata": {
    "execution": {
     "iopub.execute_input": "2020-10-30T14:49:56.186074Z",
     "iopub.status.busy": "2020-10-30T14:49:56.184918Z",
     "iopub.status.idle": "2020-10-30T14:49:56.186675Z",
     "shell.execute_reply": "2020-10-30T14:49:56.187101Z"
    }
   },
   "outputs": [],
   "source": [
    "# 2d loop with a inner loop over a combined parameter\n",
    "loop = Loop(p1.sweep(0,10,1)).loop(combined.sweep(sweep_vals), delay=0.001).each(p4)"
   ]
  },
  {
   "cell_type": "code",
   "execution_count": 5,
   "metadata": {
    "execution": {
     "iopub.execute_input": "2020-10-30T14:49:56.191409Z",
     "iopub.status.busy": "2020-10-30T14:49:56.190869Z",
     "iopub.status.idle": "2020-10-30T14:49:56.193169Z",
     "shell.execute_reply": "2020-10-30T14:49:56.192740Z"
    }
   },
   "outputs": [],
   "source": [
    "data = loop.get_data_set(name='testsweep')"
   ]
  },
  {
   "cell_type": "code",
   "execution_count": 6,
   "metadata": {
    "execution": {
     "iopub.execute_input": "2020-10-30T14:49:56.196921Z",
     "iopub.status.busy": "2020-10-30T14:49:56.195626Z",
     "iopub.status.idle": "2020-10-30T14:49:56.234470Z",
     "shell.execute_reply": "2020-10-30T14:49:56.234876Z"
    }
   },
   "outputs": [
    {
     "name": "stdout",
     "output_type": "stream",
     "text": [
      "Started at 2020-10-30 14:49:56\n",
      "DataSet:\n",
      "   location = 'data/2020-10-30/#001_testsweep_14-49-56'\n",
      "   <Type>   | <array_id>   | <array.name> | <array.shape>\n",
      "   Setpoint | p1_set       | p1           | (11,)\n",
      "   Setpoint | combined_set | combined     | (11, 2)\n",
      "   Measured | p4           | p4           | (11, 2)\n",
      "   Measured | p1           | p1           | (11, 2)\n",
      "   Measured | p2           | p2           | (11, 2)\n",
      "   Measured | p3           | p3           | (11, 2)\n",
      "Finished at 2020-10-30 14:49:56\n"
     ]
    }
   ],
   "source": [
    "data = loop.run()"
   ]
  },
  {
   "cell_type": "markdown",
   "metadata": {},
   "source": [
    "The combined_set just stores the indices "
   ]
  },
  {
   "cell_type": "code",
   "execution_count": 7,
   "metadata": {
    "execution": {
     "iopub.execute_input": "2020-10-30T14:49:56.241917Z",
     "iopub.status.busy": "2020-10-30T14:49:56.240587Z",
     "iopub.status.idle": "2020-10-30T14:49:56.243810Z",
     "shell.execute_reply": "2020-10-30T14:49:56.243333Z"
    }
   },
   "outputs": [
    {
     "name": "stdout",
     "output_type": "stream",
     "text": [
      "DataArray[11,2]: combined_set\n",
      "array([[0., 1.],\n",
      "       [0., 1.],\n",
      "       [0., 1.],\n",
      "       [0., 1.],\n",
      "       [0., 1.],\n",
      "       [0., 1.],\n",
      "       [0., 1.],\n",
      "       [0., 1.],\n",
      "       [0., 1.],\n",
      "       [0., 1.],\n",
      "       [0., 1.]])\n"
     ]
    }
   ],
   "source": [
    "print(data.combined_set)"
   ]
  },
  {
   "cell_type": "markdown",
   "metadata": {},
   "source": [
    "But the acutal set values are saved, but labeled as \"measured\""
   ]
  },
  {
   "cell_type": "code",
   "execution_count": 8,
   "metadata": {
    "execution": {
     "iopub.execute_input": "2020-10-30T14:49:56.255484Z",
     "iopub.status.busy": "2020-10-30T14:49:56.246452Z",
     "iopub.status.idle": "2020-10-30T14:49:56.257578Z",
     "shell.execute_reply": "2020-10-30T14:49:56.258003Z"
    }
   },
   "outputs": [
    {
     "data": {
      "text/plain": [
       "DataArray[11,2]: p3\n",
       "array([[1., 1.],\n",
       "       [1., 1.],\n",
       "       [1., 1.],\n",
       "       [1., 1.],\n",
       "       [1., 1.],\n",
       "       [1., 1.],\n",
       "       [1., 1.],\n",
       "       [1., 1.],\n",
       "       [1., 1.],\n",
       "       [1., 1.],\n",
       "       [1., 1.]])"
      ]
     },
     "execution_count": 1,
     "metadata": {},
     "output_type": "execute_result"
    }
   ],
   "source": [
    "data.p3"
   ]
  },
  {
   "cell_type": "markdown",
   "metadata": {},
   "source": [
    "## Combine and aggregate parameters\n",
    "\n",
    "If an aggregator function is given, the aggregated values are saved instead of the indices."
   ]
  },
  {
   "cell_type": "code",
   "execution_count": 9,
   "metadata": {
    "execution": {
     "iopub.execute_input": "2020-10-30T14:49:56.261772Z",
     "iopub.status.busy": "2020-10-30T14:49:56.261227Z",
     "iopub.status.idle": "2020-10-30T14:49:56.263624Z",
     "shell.execute_reply": "2020-10-30T14:49:56.263195Z"
    }
   },
   "outputs": [],
   "source": [
    "# define an aggregator function that takes as arguments the parameters you whish to aggegate\n",
    "def linear(x,y,z):\n",
    "    return x+y+z"
   ]
  },
  {
   "cell_type": "code",
   "execution_count": 10,
   "metadata": {
    "execution": {
     "iopub.execute_input": "2020-10-30T14:49:56.269273Z",
     "iopub.status.busy": "2020-10-30T14:49:56.267870Z",
     "iopub.status.idle": "2020-10-30T14:49:56.269876Z",
     "shell.execute_reply": "2020-10-30T14:49:56.270293Z"
    }
   },
   "outputs": [],
   "source": [
    "combined = qc.combine(p1, p2, p3, name='combined', label=\"Sum\", unit=\"a.u\", aggregator=linear)\n",
    "\n",
    "x_vals = np.linspace(1, 2, 2)\n",
    "y_vals = np.linspace(1, 2, 2)\n",
    "z_vals = np.linspace(1, 2, 2)\n",
    "\n"
   ]
  },
  {
   "cell_type": "code",
   "execution_count": 11,
   "metadata": {
    "execution": {
     "iopub.execute_input": "2020-10-30T14:49:56.274171Z",
     "iopub.status.busy": "2020-10-30T14:49:56.273173Z",
     "iopub.status.idle": "2020-10-30T14:49:56.275773Z",
     "shell.execute_reply": "2020-10-30T14:49:56.276195Z"
    }
   },
   "outputs": [],
   "source": [
    "# 2d loop with a inner loop over a combined parameter\n",
    "loop = Loop(p1.sweep(0,10,1)).loop(combined.sweep(x_vals, y_vals, z_vals), delay=0.001).each(p4)"
   ]
  },
  {
   "cell_type": "code",
   "execution_count": 12,
   "metadata": {
    "execution": {
     "iopub.execute_input": "2020-10-30T14:49:56.279657Z",
     "iopub.status.busy": "2020-10-30T14:49:56.278930Z",
     "iopub.status.idle": "2020-10-30T14:49:56.282766Z",
     "shell.execute_reply": "2020-10-30T14:49:56.282232Z"
    }
   },
   "outputs": [],
   "source": [
    "data = loop.get_data_set(name='testsweep')"
   ]
  },
  {
   "cell_type": "code",
   "execution_count": 13,
   "metadata": {
    "execution": {
     "iopub.execute_input": "2020-10-30T14:49:56.286852Z",
     "iopub.status.busy": "2020-10-30T14:49:56.286263Z",
     "iopub.status.idle": "2020-10-30T14:49:56.321429Z",
     "shell.execute_reply": "2020-10-30T14:49:56.321860Z"
    }
   },
   "outputs": [
    {
     "name": "stdout",
     "output_type": "stream",
     "text": [
      "Started at 2020-10-30 14:49:56\n",
      "DataSet:\n",
      "   location = 'data/2020-10-30/#002_testsweep_14-49-56'\n",
      "   <Type>   | <array_id>   | <array.name> | <array.shape>\n",
      "   Setpoint | p1_set       | p1           | (11,)\n",
      "   Setpoint | combined_set | combined     | (11, 2)\n",
      "   Measured | p4           | p4           | (11, 2)\n",
      "   Measured | p1           | p1           | (11, 2)\n",
      "   Measured | p2           | p2           | (11, 2)\n",
      "   Measured | p3           | p3           | (11, 2)\n",
      "Finished at 2020-10-30 14:49:56\n"
     ]
    }
   ],
   "source": [
    "data = loop.run()"
   ]
  },
  {
   "cell_type": "markdown",
   "metadata": {
    "collapsed": true
   },
   "source": [
    "the combined_set now stores the aggregated values"
   ]
  },
  {
   "cell_type": "code",
   "execution_count": 14,
   "metadata": {
    "execution": {
     "iopub.execute_input": "2020-10-30T14:49:56.327245Z",
     "iopub.status.busy": "2020-10-30T14:49:56.326012Z",
     "iopub.status.idle": "2020-10-30T14:49:56.329015Z",
     "shell.execute_reply": "2020-10-30T14:49:56.328559Z"
    }
   },
   "outputs": [
    {
     "name": "stdout",
     "output_type": "stream",
     "text": [
      "DataArray[11,2]: combined_set\n",
      "array([[3., 6.],\n",
      "       [3., 6.],\n",
      "       [3., 6.],\n",
      "       [3., 6.],\n",
      "       [3., 6.],\n",
      "       [3., 6.],\n",
      "       [3., 6.],\n",
      "       [3., 6.],\n",
      "       [3., 6.],\n",
      "       [3., 6.],\n",
      "       [3., 6.]])\n"
     ]
    }
   ],
   "source": [
    "print(data.combined_set)"
   ]
  },
  {
   "cell_type": "code",
   "execution_count": 15,
   "metadata": {
    "execution": {
     "iopub.execute_input": "2020-10-30T14:49:56.334687Z",
     "iopub.status.busy": "2020-10-30T14:49:56.334147Z",
     "iopub.status.idle": "2020-10-30T14:49:56.336783Z",
     "shell.execute_reply": "2020-10-30T14:49:56.337177Z"
    }
   },
   "outputs": [
    {
     "data": {
      "text/plain": [
       "OrderedDict([('__class__', 'qcodes.instrument.parameter.CombinedParameter'),\n",
       "             ('unit', 'a.u'),\n",
       "             ('label', 'Sum'),\n",
       "             ('full_name', 'combined'),\n",
       "             ('aggregator', '<function linear at 0x7f22bf6983b0>'),\n",
       "             ('p1',\n",
       "              {'__class__': 'qcodes.instrument.parameter.ManualParameter',\n",
       "               'full_name': 'p1',\n",
       "               'value': 2.0,\n",
       "               'raw_value': 2.0,\n",
       "               'ts': '2020-10-30 14:49:56',\n",
       "               'post_delay': 0,\n",
       "               'vals': '<Numbers -10<=v<=10>',\n",
       "               'name': 'p1',\n",
       "               'label': 'p1',\n",
       "               'unit': '',\n",
       "               'inter_delay': 0}),\n",
       "             ('p2',\n",
       "              {'__class__': 'qcodes.instrument.parameter.ManualParameter',\n",
       "               'full_name': 'p2',\n",
       "               'value': 2.0,\n",
       "               'raw_value': 2.0,\n",
       "               'ts': '2020-10-30 14:49:56',\n",
       "               'post_delay': 0,\n",
       "               'vals': '<Numbers -10<=v<=10>',\n",
       "               'name': 'p2',\n",
       "               'label': 'p2',\n",
       "               'unit': '',\n",
       "               'inter_delay': 0}),\n",
       "             ('p3',\n",
       "              {'__class__': 'qcodes.instrument.parameter.ManualParameter',\n",
       "               'full_name': 'p3',\n",
       "               'value': 2.0,\n",
       "               'raw_value': 2.0,\n",
       "               'ts': '2020-10-30 14:49:56',\n",
       "               'post_delay': 0,\n",
       "               'vals': '<Numbers -10<=v<=10>',\n",
       "               'name': 'p3',\n",
       "               'label': 'p3',\n",
       "               'unit': '',\n",
       "               'inter_delay': 0})])"
      ]
     },
     "execution_count": 1,
     "metadata": {},
     "output_type": "execute_result"
    }
   ],
   "source": [
    "# snapshot of the combined parameter\n",
    "combined.snapshot()"
   ]
  },
  {
   "cell_type": "code",
   "execution_count": null,
   "metadata": {},
   "outputs": [],
   "source": []
  }
 ],
 "metadata": {
  "anaconda-cloud": {},
  "kernelspec": {
   "display_name": "Python 3",
   "language": "python",
   "name": "python3"
  },
  "language_info": {
   "codemirror_mode": {
    "name": "ipython",
    "version": 3
   },
   "file_extension": ".py",
   "mimetype": "text/x-python",
   "name": "python",
   "nbconvert_exporter": "python",
   "pygments_lexer": "ipython3",
   "version": "3.7.9"
  },
  "toc": {
   "base_numbering": 1,
   "nav_menu": {},
   "number_sections": true,
   "sideBar": true,
   "skip_h1_title": false,
   "title_cell": "Table of Contents",
   "title_sidebar": "Contents",
   "toc_cell": false,
   "toc_position": {},
   "toc_section_display": true,
   "toc_window_display": false
  },
  "varInspector": {
   "cols": {
    "lenName": 16,
    "lenType": 16,
    "lenVar": 40
   },
   "kernels_config": {
    "python": {
     "delete_cmd_postfix": "",
     "delete_cmd_prefix": "del ",
     "library": "var_list.py",
     "varRefreshCmd": "print(var_dic_list())"
    },
    "r": {
     "delete_cmd_postfix": ") ",
     "delete_cmd_prefix": "rm(",
     "library": "var_list.r",
     "varRefreshCmd": "cat(var_dic_list()) "
    }
   },
   "types_to_exclude": [
    "module",
    "function",
    "builtin_function_or_method",
    "instance",
    "_Feature"
   ],
   "window_display": false
  }
 },
 "nbformat": 4,
 "nbformat_minor": 1
}
