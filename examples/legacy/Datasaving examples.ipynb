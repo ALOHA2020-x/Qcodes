{
 "cells": [
  {
   "cell_type": "markdown",
   "metadata": {},
   "source": [
    "# Datasaving Examples"
   ]
  },
  {
   "cell_type": "code",
   "execution_count": 1,
   "metadata": {
    "execution": {
     "iopub.execute_input": "2021-02-22T12:30:21.900799Z",
     "iopub.status.busy": "2021-02-22T12:30:21.900182Z",
     "iopub.status.idle": "2021-02-22T12:30:23.113903Z",
     "shell.execute_reply": "2021-02-22T12:30:23.113281Z"
    }
   },
   "outputs": [
    {
     "name": "stdout",
     "output_type": "stream",
     "text": [
      "Logging hadn't been started.\n",
      "Activating auto-logging. Current session state plus future input saved.\n",
      "Filename       : /home/runner/.qcodes/logs/command_history.log\n",
      "Mode           : append\n",
      "Output logging : True\n",
      "Raw input log  : False\n",
      "Timestamping   : True\n",
      "State          : active\n"
     ]
    },
    {
     "name": "stdout",
     "output_type": "stream",
     "text": [
      "Qcodes Logfile : /home/runner/.qcodes/logs/210222-7114-qcodes.log\n"
     ]
    }
   ],
   "source": [
    "%matplotlib nbagg\n",
    "import numpy as np\n",
    "from importlib import reload\n",
    "import qcodes as qc\n",
    "\n",
    "from qcodes.loops import Loop"
   ]
  },
  {
   "cell_type": "code",
   "execution_count": 2,
   "metadata": {
    "execution": {
     "iopub.execute_input": "2021-02-22T12:30:23.120053Z",
     "iopub.status.busy": "2021-02-22T12:30:23.119441Z",
     "iopub.status.idle": "2021-02-22T12:30:23.122807Z",
     "shell.execute_reply": "2021-02-22T12:30:23.123296Z"
    }
   },
   "outputs": [],
   "source": [
    "import sys\n",
    "import logging\n",
    "# Create logger\n",
    "logger = logging.getLogger()\n",
    "logger.setLevel(logging.DEBUG)\n",
    "\n",
    "# Create STDERR handler\n",
    "handler = logging.StreamHandler(sys.stderr)\n",
    "# ch.setLevel(logging.DEBUG)\n",
    "\n",
    "# Create formatter and add it to the handler\n",
    "formatter = logging.Formatter('%(name)s - %(levelname)s - %(message)s')\n",
    "handler.setFormatter(formatter)\n",
    "\n",
    "# Set STDERR handler as the only handler \n",
    "logger.handlers = [handler]"
   ]
  },
  {
   "cell_type": "code",
   "execution_count": 3,
   "metadata": {
    "execution": {
     "iopub.execute_input": "2021-02-22T12:30:23.128198Z",
     "iopub.status.busy": "2021-02-22T12:30:23.126913Z",
     "iopub.status.idle": "2021-02-22T12:30:23.134259Z",
     "shell.execute_reply": "2021-02-22T12:30:23.132951Z"
    }
   },
   "outputs": [],
   "source": [
    "from qcodes.data import hdf5_format\n",
    "reload(hdf5_format)\n",
    "h5fmt = hdf5_format.HDF5Format()"
   ]
  },
  {
   "cell_type": "markdown",
   "metadata": {},
   "source": [
    "## Start a loop and generate data from dummy instruments "
   ]
  },
  {
   "cell_type": "code",
   "execution_count": 4,
   "metadata": {
    "execution": {
     "iopub.execute_input": "2021-02-22T12:30:23.140910Z",
     "iopub.status.busy": "2021-02-22T12:30:23.140245Z",
     "iopub.status.idle": "2021-02-22T12:30:23.144952Z",
     "shell.execute_reply": "2021-02-22T12:30:23.144326Z"
    }
   },
   "outputs": [],
   "source": [
    "station = qc.station.Station()"
   ]
  },
  {
   "cell_type": "code",
   "execution_count": 5,
   "metadata": {
    "execution": {
     "iopub.execute_input": "2021-02-22T12:30:23.151000Z",
     "iopub.status.busy": "2021-02-22T12:30:23.148386Z",
     "iopub.status.idle": "2021-02-22T12:30:23.160341Z",
     "shell.execute_reply": "2021-02-22T12:30:23.160883Z"
    }
   },
   "outputs": [
    {
     "name": "stderr",
     "output_type": "stream",
     "text": [
      "qcodes.instrument.base - DEBUG - [MockParabola(MockParabola)] Error getting or interpreting *IDN?: ''\n"
     ]
    },
    {
     "data": {
      "text/plain": [
       "'MockParabola'"
      ]
     },
     "execution_count": 1,
     "metadata": {},
     "output_type": "execute_result"
    }
   ],
   "source": [
    "from qcodes.tests.instrument_mocks import MockParabola\n",
    "station.add_component(MockParabola(name='MockParabola'))"
   ]
  },
  {
   "cell_type": "code",
   "execution_count": 6,
   "metadata": {
    "execution": {
     "iopub.execute_input": "2021-02-22T12:30:23.165659Z",
     "iopub.status.busy": "2021-02-22T12:30:23.165091Z",
     "iopub.status.idle": "2021-02-22T12:30:23.187877Z",
     "shell.execute_reply": "2021-02-22T12:30:23.188381Z"
    },
    "scrolled": false
   },
   "outputs": [
    {
     "name": "stderr",
     "output_type": "stream",
     "text": [
      "qcodes.data.data_set - DEBUG - Attempting to write\n"
     ]
    },
    {
     "name": "stderr",
     "output_type": "stream",
     "text": [
      "qcodes.data.gnuplot_format - DEBUG - Attempting to write the following group: MockParabola_x_set\n"
     ]
    },
    {
     "name": "stderr",
     "output_type": "stream",
     "text": [
      "qcodes.data.gnuplot_format - DEBUG - Cannot match save range, skipping this group.\n"
     ]
    },
    {
     "name": "stdout",
     "output_type": "stream",
     "text": [
      "Started at 2021-02-22 12:30:23\n"
     ]
    },
    {
     "name": "stderr",
     "output_type": "stream",
     "text": [
      "qcodes.data.data_set - DEBUG - Finalising the DataSet. Writing.\n"
     ]
    },
    {
     "name": "stderr",
     "output_type": "stream",
     "text": [
      "qcodes.data.gnuplot_format - DEBUG - Attempting to write the following group: MockParabola_x_set\n"
     ]
    },
    {
     "name": "stderr",
     "output_type": "stream",
     "text": [
      "qcodes.data.gnuplot_format - DEBUG - Wrote header to file\n"
     ]
    },
    {
     "name": "stderr",
     "output_type": "stream",
     "text": [
      "qcodes.data.gnuplot_format - DEBUG - Wrote to file from 0 to 10\n"
     ]
    },
    {
     "name": "stdout",
     "output_type": "stream",
     "text": [
      "DataSet:\n",
      "   location = 'data/2021-02-22/#008_MockParabola_run_12-30-23'\n",
      "   <Type>   | <array_id>                   | <array.name>    | <array.shape>\n",
      "   Setpoint | MockParabola_x_set           | x               | (10,)\n",
      "   Measured | MockParabola_skewed_parabola | skewed_parabola | (10,)\n",
      "Finished at 2021-02-22 12:30:23\n"
     ]
    }
   ],
   "source": [
    "loop = Loop(station.MockParabola.x[-100:100:20]).each(station.MockParabola.skewed_parabola)\n",
    "data_l = loop.run(name='MockParabola_run', formatter=qc.data.gnuplot_format.GNUPlotFormat())\n",
    "\n"
   ]
  },
  {
   "cell_type": "code",
   "execution_count": 7,
   "metadata": {
    "execution": {
     "iopub.execute_input": "2021-02-22T12:30:23.195072Z",
     "iopub.status.busy": "2021-02-22T12:30:23.193271Z",
     "iopub.status.idle": "2021-02-22T12:30:23.327181Z",
     "shell.execute_reply": "2021-02-22T12:30:23.326700Z"
    }
   },
   "outputs": [
    {
     "name": "stderr",
     "output_type": "stream",
     "text": [
      "h5py._conv - DEBUG - Creating converter from 5 to 3\n"
     ]
    },
    {
     "name": "stderr",
     "output_type": "stream",
     "text": [
      "qcodes.data.data_set - DEBUG - Attempting to write\n"
     ]
    },
    {
     "name": "stderr",
     "output_type": "stream",
     "text": [
      "qcodes.data.data_set - DEBUG - Finalising the DataSet. Writing.\n"
     ]
    },
    {
     "name": "stdout",
     "output_type": "stream",
     "text": [
      "Started at 2021-02-22 12:30:23\n",
      "DataSet:\n",
      "   location = 'data/2021-02-22/#009_MockParabola_run_12-30-23'\n",
      "   <Type>   | <array_id>                   | <array.name>    | <array.shape>\n",
      "   Setpoint | MockParabola_x_set           | x               | (10,)\n",
      "   Setpoint | MockParabola_y_set           | y               | (10, 15)\n",
      "   Measured | MockParabola_skewed_parabola | skewed_parabola | (10, 15)\n",
      "Finished at 2021-02-22 12:30:23\n"
     ]
    }
   ],
   "source": [
    "reload(hdf5_format)\n",
    "h5fmt = hdf5_format.HDF5Format()\n",
    "loop = Loop(station.MockParabola.x[-100:100:20]).loop(\n",
    "    station.MockParabola.y[-100:50:10]).each(station.MockParabola.skewed_parabola)\n",
    "data_l = loop.run(name='MockParabola_run', formatter=h5fmt)\n"
   ]
  },
  {
   "cell_type": "code",
   "execution_count": 8,
   "metadata": {
    "execution": {
     "iopub.execute_input": "2021-02-22T12:30:23.338036Z",
     "iopub.status.busy": "2021-02-22T12:30:23.336225Z",
     "iopub.status.idle": "2021-02-22T12:30:23.372177Z",
     "shell.execute_reply": "2021-02-22T12:30:23.371395Z"
    }
   },
   "outputs": [
    {
     "name": "stderr",
     "output_type": "stream",
     "text": [
      "h5py._conv - DEBUG - Creating converter from 3 to 5\n"
     ]
    }
   ],
   "source": [
    "from importlib import reload\n",
    "from qcodes.data import hdf5_format\n",
    "reload(hdf5_format)\n",
    "h5fmt = hdf5_format.HDF5Format()\n",
    "data2 = qc.data.data_set.DataSet(location=data_l.location, formatter=h5fmt)\n",
    "data2.read()"
   ]
  },
  {
   "cell_type": "markdown",
   "metadata": {},
   "source": [
    "## Run the tests for the dataformat"
   ]
  },
  {
   "cell_type": "code",
   "execution_count": 9,
   "metadata": {
    "execution": {
     "iopub.execute_input": "2021-02-22T12:30:23.377507Z",
     "iopub.status.busy": "2021-02-22T12:30:23.376894Z",
     "iopub.status.idle": "2021-02-22T12:30:23.836557Z",
     "shell.execute_reply": "2021-02-22T12:30:23.835723Z"
    },
    "scrolled": false
   },
   "outputs": [
    {
     "name": "stderr",
     "output_type": "stream",
     "text": [
      "test_closed_file (qcodes.tests.legacy.test_hdf5formatter.TestHDF5_Format) ... "
     ]
    },
    {
     "name": "stderr",
     "output_type": "stream",
     "text": [
      "root - WARNING - Cannot close file, data_set has no open hdf5 file\n"
     ]
    },
    {
     "name": "stderr",
     "output_type": "stream",
     "text": [
      "root - WARNING - Cannot close file, data_set has no open hdf5 file\n"
     ]
    },
    {
     "name": "stderr",
     "output_type": "stream",
     "text": [
      "ok\n",
      "test_dataset_closing (qcodes.tests.legacy.test_hdf5formatter.TestHDF5_Format) ... "
     ]
    },
    {
     "name": "stderr",
     "output_type": "stream",
     "text": [
      "ok\n",
      "test_dataset_finalize_closes_file (qcodes.tests.legacy.test_hdf5formatter.TestHDF5_Format) ... "
     ]
    },
    {
     "name": "stderr",
     "output_type": "stream",
     "text": [
      "qcodes.data.data_set - DEBUG - Finalising the DataSet. Writing.\n"
     ]
    },
    {
     "name": "stderr",
     "output_type": "stream",
     "text": [
      "ok\n",
      "test_dataset_flush_after_write (qcodes.tests.legacy.test_hdf5formatter.TestHDF5_Format) ... "
     ]
    },
    {
     "name": "stderr",
     "output_type": "stream",
     "text": [
      "ok\n",
      "test_dataset_with_missing_attrs (qcodes.tests.legacy.test_hdf5formatter.TestHDF5_Format) ... "
     ]
    },
    {
     "name": "stderr",
     "output_type": "stream",
     "text": [
      "ok\n",
      "test_double_closing_gives_warning (qcodes.tests.legacy.test_hdf5formatter.TestHDF5_Format) ... "
     ]
    },
    {
     "name": "stderr",
     "output_type": "stream",
     "text": [
      "ok\n",
      "test_full_write_read_1D (qcodes.tests.legacy.test_hdf5formatter.TestHDF5_Format)\n",
      "Test writing and reading a file back in ... "
     ]
    },
    {
     "name": "stderr",
     "output_type": "stream",
     "text": [
      "ok\n",
      "test_full_write_read_2D (qcodes.tests.legacy.test_hdf5formatter.TestHDF5_Format)\n",
      "Test writing and reading a file back in ... "
     ]
    },
    {
     "name": "stderr",
     "output_type": "stream",
     "text": [
      "ok\n",
      "test_incremental_write (qcodes.tests.legacy.test_hdf5formatter.TestHDF5_Format) ... "
     ]
    },
    {
     "name": "stderr",
     "output_type": "stream",
     "text": [
      "ok\n",
      "test_loop_writing (qcodes.tests.legacy.test_hdf5formatter.TestHDF5_Format) ... "
     ]
    },
    {
     "name": "stderr",
     "output_type": "stream",
     "text": [
      "qcodes.instrument.base - DEBUG - [Loop_writing_test(MockParabola)] Error getting or interpreting *IDN?: ''\n"
     ]
    },
    {
     "name": "stderr",
     "output_type": "stream",
     "text": [
      "qcodes.data.data_set - DEBUG - Attempting to write\n"
     ]
    },
    {
     "name": "stderr",
     "output_type": "stream",
     "text": [
      "qcodes.data.data_set - DEBUG - Finalising the DataSet. Writing.\n"
     ]
    },
    {
     "name": "stderr",
     "output_type": "stream",
     "text": [
      "ok\n",
      "test_loop_writing_2D (qcodes.tests.legacy.test_hdf5formatter.TestHDF5_Format) ... "
     ]
    },
    {
     "name": "stderr",
     "output_type": "stream",
     "text": [
      "qcodes.instrument.base - DEBUG - [Loop_writing_test_2D(MockParabola)] Error getting or interpreting *IDN?: ''\n"
     ]
    },
    {
     "name": "stderr",
     "output_type": "stream",
     "text": [
      "qcodes.data.data_set - DEBUG - Attempting to write\n"
     ]
    },
    {
     "name": "stderr",
     "output_type": "stream",
     "text": [
      "qcodes.data.data_set - DEBUG - Finalising the DataSet. Writing.\n"
     ]
    },
    {
     "name": "stdout",
     "output_type": "stream",
     "text": [
      "Started at 2021-02-22 12:30:23\n",
      "DataSet:\n",
      "   location = '/opt/hostedtoolcache/Python/3.7.9/x64/lib/python3.7/site-packages/qcodes/tests/unittest_data/2021-02-22/#010_MockLoop_hdf5_test_12-30-23'\n",
      "   <Type>   | <array_id>                        | <array.name>    | <array.shape>\n",
      "   Setpoint | Loop_writing_test_x_set           | x               | (10,)\n",
      "   Measured | Loop_writing_test_skewed_parabola | skewed_parabola | (10,)\n",
      "Finished at 2021-02-22 12:30:23\n",
      "Started at 2021-02-22 12:30:23\n",
      "DataSet:\n",
      "   location = '/opt/hostedtoolcache/Python/3.7.9/x64/lib/python3.7/site-packages/qcodes/tests/unittest_data/2021-02-22/#011_MockLoop_hdf5_test_12-30-23'\n",
      "   <Type>   | <array_id>                           | <array.name>    | <array.shape>\n",
      "   Setpoint | Loop_writing_test_2D_x_set           | x               | (10,)\n",
      "   Setpoint | Loop_writing_test_2D_y_set           | y               | (10, 10)\n",
      "   Measured | Loop_writing_test_2D_skewed_parabola | skewed_parabola | (10, 10)\n",
      "Finished at 2021-02-22 12:30:23\n"
     ]
    },
    {
     "name": "stderr",
     "output_type": "stream",
     "text": [
      "ok\n",
      "test_metadata_write_read (qcodes.tests.legacy.test_hdf5formatter.TestHDF5_Format)\n",
      "Test is based on the snapshot of the 1D dataset. ... "
     ]
    },
    {
     "name": "stderr",
     "output_type": "stream",
     "text": [
      "ok\n",
      "test_partial_dataset (qcodes.tests.legacy.test_hdf5formatter.TestHDF5_Format) ... "
     ]
    },
    {
     "name": "stderr",
     "output_type": "stream",
     "text": [
      "ok\n",
      "test_read_writing_dicts_withlists_to_hdf5 (qcodes.tests.legacy.test_hdf5formatter.TestHDF5_Format) ... "
     ]
    },
    {
     "name": "stderr",
     "output_type": "stream",
     "text": [
      "ok\n",
      "test_reading_into_existing_data_array (qcodes.tests.legacy.test_hdf5formatter.TestHDF5_Format) ... "
     ]
    },
    {
     "name": "stderr",
     "output_type": "stream",
     "text": [
      "ok\n",
      "test_str_to_bool (qcodes.tests.legacy.test_hdf5formatter.TestHDF5_Format) ... "
     ]
    },
    {
     "name": "stderr",
     "output_type": "stream",
     "text": [
      "ok\n",
      "test_writing_metadata (qcodes.tests.legacy.test_hdf5formatter.TestHDF5_Format) ... "
     ]
    },
    {
     "name": "stderr",
     "output_type": "stream",
     "text": [
      "ok\n",
      "test_writing_unsupported_types_to_hdf5 (qcodes.tests.legacy.test_hdf5formatter.TestHDF5_Format)\n",
      "Tests writing of ... "
     ]
    },
    {
     "name": "stderr",
     "output_type": "stream",
     "text": [
      "root - WARNING - Type \"<class 'qcodes.data.data_set.DataSet'>\" for \"nested_dataset\":\"DataSet:\n",
      "   location = '/opt/hostedtoolcache/Python/3.7.9/x64/lib/python3.7/site-packages/qcodes/tests/unittest_data/2021-02-22/#017_test_missing_attr_12-30-23'\n",
      "   <Type> | <array_id> | <array.name> | <array.shape>\" not supported, storing as string\n"
     ]
    },
    {
     "name": "stderr",
     "output_type": "stream",
     "text": [
      "root - WARNING - List of type \"<class 'qcodes.data.data_set.DataSet'>\" for \"list_of_dataset\":\"[DataSet:\n",
      "   location = '/opt/hostedtoolcache/Python/3.7.9/x64/lib/python3.7/site-packages/qcodes/tests/unittest_data/2021-02-22/#017_test_missing_attr_12-30-23'\n",
      "   <Type> | <array_id> | <array.name> | <array.shape>, DataSet:\n",
      "   location = '/opt/hostedtoolcache/Python/3.7.9/x64/lib/python3.7/site-packages/qcodes/tests/unittest_data/2021-02-22/#017_test_missing_attr_12-30-23'\n",
      "   <Type> | <array_id> | <array.name> | <array.shape>]\" not supported, storing as string\n"
     ]
    },
    {
     "name": "stderr",
     "output_type": "stream",
     "text": [
      "ok\n",
      "\n",
      "----------------------------------------------------------------------\n",
      "Ran 18 tests in 0.451s\n",
      "\n",
      "OK\n"
     ]
    }
   ],
   "source": [
    "from qcodes.utils import helpers\n",
    "reload(helpers)\n",
    "reload(hdf5_format)\n",
    "import unittest\n",
    "h5fmt = hdf5_format.HDF5Format()\n",
    "import qcodes.tests.legacy.test_hdf5formatter as tf\n",
    "reload(tf)\n",
    "tst = tf.TestHDF5_Format\n",
    "suite = unittest.defaultTestLoader.loadTestsFromTestCase(tst)\n",
    "result = unittest.TextTestRunner(verbosity=2).run(suite)\n"
   ]
  },
  {
   "cell_type": "code",
   "execution_count": null,
   "metadata": {},
   "outputs": [],
   "source": []
  },
  {
   "cell_type": "code",
   "execution_count": null,
   "metadata": {},
   "outputs": [],
   "source": []
  },
  {
   "cell_type": "code",
   "execution_count": null,
   "metadata": {},
   "outputs": [],
   "source": []
  }
 ],
 "metadata": {
  "kernelspec": {
   "display_name": "Python 3",
   "language": "python",
   "name": "python3"
  },
  "language_info": {
   "codemirror_mode": {
    "name": "ipython",
    "version": 3
   },
   "file_extension": ".py",
   "mimetype": "text/x-python",
   "name": "python",
   "nbconvert_exporter": "python",
   "pygments_lexer": "ipython3",
   "version": "3.7.9"
  },
  "toc": {
   "base_numbering": 1,
   "nav_menu": {},
   "number_sections": true,
   "sideBar": true,
   "skip_h1_title": false,
   "title_cell": "Table of Contents",
   "title_sidebar": "Contents",
   "toc_cell": false,
   "toc_position": {},
   "toc_section_display": true,
   "toc_window_display": false
  },
  "varInspector": {
   "cols": {
    "lenName": 16,
    "lenType": 16,
    "lenVar": 40
   },
   "kernels_config": {
    "python": {
     "delete_cmd_postfix": "",
     "delete_cmd_prefix": "del ",
     "library": "var_list.py",
     "varRefreshCmd": "print(var_dic_list())"
    },
    "r": {
     "delete_cmd_postfix": ") ",
     "delete_cmd_prefix": "rm(",
     "library": "var_list.r",
     "varRefreshCmd": "cat(var_dic_list()) "
    }
   },
   "types_to_exclude": [
    "module",
    "function",
    "builtin_function_or_method",
    "instance",
    "_Feature"
   ],
   "window_display": false
  },
  "widgets": {
   "state": {},
   "version": "1.1.1"
  }
 },
 "nbformat": 4,
 "nbformat_minor": 1
}
