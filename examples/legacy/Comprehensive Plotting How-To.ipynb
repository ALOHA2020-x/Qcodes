{
 "cells": [
  {
   "cell_type": "markdown",
   "metadata": {},
   "source": [
    "# Comprehensive Plotting How-To"
   ]
  },
  {
   "cell_type": "code",
   "execution_count": 1,
   "metadata": {},
   "outputs": [
    {
     "name": "stdout",
     "output_type": "stream",
     "text": [
      "Logging hadn't been started.\n",
      "Activating auto-logging. Current session state plus future input saved.\n",
      "Filename       : /home/vsts/.qcodes/logs/command_history.log\n",
      "Mode           : append\n",
      "Output logging : True\n",
      "Raw input log  : False\n",
      "Timestamping   : True\n",
      "State          : active\n"
     ]
    },
    {
     "name": "stdout",
     "output_type": "stream",
     "text": [
      "Qcodes Logfile : /home/vsts/.qcodes/logs/200507-29513-qcodes.log\n"
     ]
    }
   ],
   "source": [
    "import qcodes as qc\n",
    "from qcodes.plots.qcmatplotlib import MatPlot\n",
    "from qcodes.loops import Loop"
   ]
  },
  {
   "cell_type": "markdown",
   "metadata": {},
   "source": [
    "Plotting data in QCoDeS can be done using either MatPlot or QTPlot, with matplotlib and pyqtgraph as backends, respectively. \n",
    "MatPlot and QTPlot tailor these plotting backends to QCoDeS, providing many features.\n",
    "For example, when plotting a DataArray in a DataSet, the corresponding ticks, labels, etc. are automatically added to the plot.\n",
    "Both MatPlot and QTPlot support live plotting while a measurement is running.\n",
    "\n",
    "One of the main differences between the two backends is that matplotlib is more strongly integrated with Jupyter Notebook, while pyqtgraph uses the PyQT GUI.\n",
    "For matplotlib, this has the advantage that plots can be displayed within a notebook (though it also has a gui).\n",
    "The advantage of pyqtgraph is that it can be easily embedded in PyQT GUI's.\n",
    "\n",
    "This guide aims to provide a detailed guide on how to use each of the two plotting tools."
   ]
  },
  {
   "cell_type": "code",
   "execution_count": 2,
   "metadata": {},
   "outputs": [],
   "source": [
    "loc_provider = qc.data.location.FormatLocation(fmt='data/{date}/#{counter}_{name}_{time}')\n",
    "qc.data.data_set.DataSet.location_provider = loc_provider"
   ]
  },
  {
   "cell_type": "markdown",
   "metadata": {},
   "source": [
    "## MatPlot"
   ]
  },
  {
   "cell_type": "markdown",
   "metadata": {},
   "source": [
    "The QCoDeS MatPlot relies on the matplotlib package, which is quite similar to Matlab's plotting tools.\n",
    "It integrates nicely with Jupyter notebook, and as a result, interactive plots can be displayed within a notebook using the following command:"
   ]
  },
  {
   "cell_type": "code",
   "execution_count": 3,
   "metadata": {},
   "outputs": [],
   "source": [
    "%matplotlib inline"
   ]
  },
  {
   "cell_type": "markdown",
   "metadata": {},
   "source": [
    "### Simple 1D sweep"
   ]
  },
  {
   "cell_type": "markdown",
   "metadata": {},
   "source": [
    "As a first example, we perform a simple 1D sweep.\n",
    "We create two trivial parameters, one for measuring a value, and the other for sweeping the value of the measured parameter."
   ]
  },
  {
   "cell_type": "code",
   "execution_count": 4,
   "metadata": {},
   "outputs": [],
   "source": [
    "p_measure = qc.ManualParameter(name='measured_val')\n",
    "p_sweep = qc.Parameter(name='sweep_val', set_cmd=p_measure.set)"
   ]
  },
  {
   "cell_type": "markdown",
   "metadata": {},
   "source": [
    "Next we perform a measurement, and attach the `update` method of the `plot` object to the loop, resulting in live plotting.\n",
    "Note that the resulting plot automatically has the correct x values and labels."
   ]
  },
  {
   "cell_type": "code",
   "execution_count": 5,
   "metadata": {},
   "outputs": [
    {
     "name": "stdout",
     "output_type": "stream",
     "text": [
      "Started at 2020-05-07 12:31:09\n"
     ]
    },
    {
     "name": "stdout",
     "output_type": "stream",
     "text": [
      "DataSet:\n",
      "   location = 'data/2020-05-07/#003_test_plotting_1D_12-31-09'\n",
      "   <Type>   | <array_id>    | <array.name> | <array.shape>\n",
      "   Setpoint | sweep_val_set | sweep_val    | (21,)\n",
      "   Measured | measured_val  | measured_val | (21,)\n",
      "Finished at 2020-05-07 12:31:11\n"
     ]
    },
    {
     "data": {
      "text/plain": [
       "DataSet:\n",
       "   location = 'data/2020-05-07/#003_test_plotting_1D_12-31-09'\n",
       "   <Type>   | <array_id>    | <array.name> | <array.shape>\n",
       "   Setpoint | sweep_val_set | sweep_val    | (21,)\n",
       "   Measured | measured_val  | measured_val | (21,)"
      ]
     },
     "execution_count": 5,
     "metadata": {},
     "output_type": "execute_result"
    },
    {
     "data": {
      "image/png": "[encoded data removed]",
      "text/plain": [
       "<Figure size 432x288 with 1 Axes>"
      ]
     },
     "metadata": {
      "needs_background": "light"
     },
     "output_type": "display_data"
    }
   ],
   "source": [
    "loop = Loop(\n",
    "    p_sweep.sweep(0, 20, step=1), delay=0.05).each(\n",
    "        p_measure)\n",
    "data = loop.get_data_set(name='test_plotting_1D')\n",
    "\n",
    "# Create plot for measured data\n",
    "plot = MatPlot(data.measured_val)\n",
    "# Attach updating of plot to loop\n",
    "loop.with_bg_task(plot.update)\n",
    "\n",
    "loop.run()"
   ]
  },
  {
   "cell_type": "markdown",
   "metadata": {},
   "source": [
    "### Subplots"
   ]
  },
  {
   "cell_type": "markdown",
   "metadata": {},
   "source": [
    "In a measurement, there is often more than a single parameter that is measured.\n",
    "MatPlot supports multiple subplots, and upon initialization it will create a subplot for each of the arguments it receives.\n",
    "\n",
    "Let us create a second parameter that, when measured, always returns the value 10."
   ]
  },
  {
   "cell_type": "code",
   "execution_count": 6,
   "metadata": {},
   "outputs": [],
   "source": [
    "p_measure2 = qc.ManualParameter(name='measured_val_2', initial_value=10)"
   ]
  },
  {
   "cell_type": "markdown",
   "metadata": {},
   "source": [
    "In the example below, three arguments are provided, resulting in three subplots.\n",
    "By default, subplots will be placed as columns on a single row, up to three columns.\n",
    "After this, a new row will be created (can be overridden in `MatPlot.max_subplot_columns`).\n",
    "\n",
    "Multiple DataArrays can also be plotted in a single subplot by passing them as a list in a single arg.\n",
    "As an example, notice how the first subplot shows multiple values."
   ]
  },
  {
   "cell_type": "code",
   "execution_count": 7,
   "metadata": {},
   "outputs": [
    {
     "name": "stdout",
     "output_type": "stream",
     "text": [
      "Started at 2020-05-07 12:31:11\n"
     ]
    },
    {
     "name": "stdout",
     "output_type": "stream",
     "text": [
      "DataSet:\n",
      "   location = 'data/2020-05-07/#004_test_plotting_1D_2_12-31-11'\n",
      "   <Type>   | <array_id>     | <array.name>   | <array.shape>\n",
      "   Setpoint | sweep_val_set  | sweep_val      | (21,)\n",
      "   Measured | measured_val   | measured_val   | (21,)\n",
      "   Measured | measured_val_2 | measured_val_2 | (21,)\n",
      "Finished at 2020-05-07 12:31:14\n"
     ]
    },
    {
     "data": {
      "text/plain": [
       "DataSet:\n",
       "   location = 'data/2020-05-07/#004_test_plotting_1D_2_12-31-11'\n",
       "   <Type>   | <array_id>     | <array.name>   | <array.shape>\n",
       "   Setpoint | sweep_val_set  | sweep_val      | (21,)\n",
       "   Measured | measured_val   | measured_val   | (21,)\n",
       "   Measured | measured_val_2 | measured_val_2 | (21,)"
      ]
     },
     "execution_count": 7,
     "metadata": {},
     "output_type": "execute_result"
    },
    {
     "data": {
      "image/png": "[encoded data removed]",
      "text/plain": [
       "<Figure size 864x288 with 3 Axes>"
      ]
     },
     "metadata": {
      "needs_background": "light"
     },
     "output_type": "display_data"
    }
   ],
   "source": [
    "loop = Loop(\n",
    "    p_sweep.sweep(0, 20, step=1), delay=0.05).each(\n",
    "        p_measure,\n",
    "        p_measure2)\n",
    "data = loop.get_data_set(name='test_plotting_1D_2')\n",
    "\n",
    "# Create plot for measured data\n",
    "plot = MatPlot([data.measured_val, data.measured_val_2], data.measured_val, data.measured_val_2)\n",
    "# Attach updating of plot to loop\n",
    "loop.with_bg_task(plot.update)\n",
    "\n",
    "loop.run()"
   ]
  },
  {
   "cell_type": "markdown",
   "metadata": {},
   "source": [
    "The data arrays don't all have to be passed along during initialization of the MatPlot instance.\n",
    "We can access the subplots of the plot object as if the plot was a list (e.g. `plot[0]` would give you the first subplot).\n",
    "To illustrate this, the example below results in the same plot as above."
   ]
  },
  {
   "cell_type": "code",
   "execution_count": 8,
   "metadata": {},
   "outputs": [
    {
     "name": "stdout",
     "output_type": "stream",
     "text": [
      "Started at 2020-05-07 12:31:14\n"
     ]
    },
    {
     "name": "stdout",
     "output_type": "stream",
     "text": [
      "DataSet:\n",
      "   location = 'data/2020-05-07/#005_test_plotting_1D_3_12-31-14'\n",
      "   <Type>   | <array_id>     | <array.name>   | <array.shape>\n",
      "   Setpoint | sweep_val_set  | sweep_val      | (21,)\n",
      "   Measured | measured_val   | measured_val   | (21,)\n",
      "   Measured | measured_val_2 | measured_val_2 | (21,)\n",
      "Finished at 2020-05-07 12:31:17\n"
     ]
    },
    {
     "data": {
      "text/plain": [
       "DataSet:\n",
       "   location = 'data/2020-05-07/#005_test_plotting_1D_3_12-31-14'\n",
       "   <Type>   | <array_id>     | <array.name>   | <array.shape>\n",
       "   Setpoint | sweep_val_set  | sweep_val      | (21,)\n",
       "   Measured | measured_val   | measured_val   | (21,)\n",
       "   Measured | measured_val_2 | measured_val_2 | (21,)"
      ]
     },
     "execution_count": 8,
     "metadata": {},
     "output_type": "execute_result"
    },
    {
     "data": {
      "image/png": "[encoded data removed]",
      "text/plain": [
       "<Figure size 864x288 with 3 Axes>"
      ]
     },
     "metadata": {
      "needs_background": "light"
     },
     "output_type": "display_data"
    }
   ],
   "source": [
    "loop = Loop(\n",
    "    p_sweep.sweep(0, 20, step=1), delay=0.05).each(\n",
    "        p_measure,\n",
    "        p_measure2)\n",
    "data = loop.get_data_set(name='test_plotting_1D_3')\n",
    "\n",
    "# Create plot for measured data\n",
    "plot = MatPlot(subplots=3)\n",
    "plot[0].add(data.measured_val)\n",
    "plot[0].add(data.measured_val_2)\n",
    "plot[1].add(data.measured_val)\n",
    "plot[2].add(data.measured_val_2)\n",
    "\n",
    "# Attach updating of plot to loop\n",
    "loop.with_bg_task(plot.update)\n",
    "\n",
    "loop.run()"
   ]
  },
  {
   "cell_type": "markdown",
   "metadata": {},
   "source": [
    "Note that we passed the kwarg `subplots=3` to specify that we need 3 subplots.\n",
    "The `subplots` kwarg can be either an int or a tuple.\n",
    "If it is an int, it will segment the value such that there are at most three columns.\n",
    "If a tuple is provided, its first element indicates the number of rows, and the second the number of columns.\n",
    "\n",
    "Furthermore, the size of the figure is automatically computed based on the number of subplots.\n",
    "This can be overridden by passing the kwarg `figsize=(x_length, y_length)` upon initialization.\n",
    "Additionally, `MatPlot.default_figsize` can be overridden to change the default computed figsize for a given subplot dimensionality."
   ]
  },
  {
   "cell_type": "markdown",
   "metadata": {},
   "source": [
    "### 2D Plots"
   ]
  },
  {
   "cell_type": "markdown",
   "metadata": {},
   "source": [
    "As illustrated below, MatPlot can also plot two-dimensional data arrays.\n",
    "MatPlot automatically handles setting the appropriate x- and y-axes, and also adds a colorbar by default.\n",
    "Note that we can also plot the individual traces of a 2D array, as shown in the first subplot below.\n",
    "This is done by passing all the elements (=rows) of the 2D array as a single argument using the splat (*) operator."
   ]
  },
  {
   "cell_type": "code",
   "execution_count": 9,
   "metadata": {},
   "outputs": [],
   "source": [
    "p_sweep2 = qc.Parameter(name='sweep_val_2', set_cmd=p_measure2.set)"
   ]
  },
  {
   "cell_type": "code",
   "execution_count": 10,
   "metadata": {},
   "outputs": [
    {
     "name": "stdout",
     "output_type": "stream",
     "text": [
      "Started at 2020-05-07 12:31:17\n"
     ]
    },
    {
     "name": "stdout",
     "output_type": "stream",
     "text": [
      "DataSet:\n",
      "   location = 'data/2020-05-07/#006_test_plotting_2D_12-31-17'\n",
      "   <Type>   | <array_id>      | <array.name> | <array.shape>\n",
      "   Setpoint | sweep_val_set   | sweep_val    | (21,)\n",
      "   Setpoint | sweep_val_2_set | sweep_val_2  | (21, 11)\n",
      "   Measured | measured_val    | measured_val | (21, 11)\n",
      "Finished at 2020-05-07 12:31:23\n"
     ]
    },
    {
     "data": {
      "text/plain": [
       "DataSet:\n",
       "   location = 'data/2020-05-07/#006_test_plotting_2D_12-31-17'\n",
       "   <Type>   | <array_id>      | <array.name> | <array.shape>\n",
       "   Setpoint | sweep_val_set   | sweep_val    | (21,)\n",
       "   Setpoint | sweep_val_2_set | sweep_val_2  | (21, 11)\n",
       "   Measured | measured_val    | measured_val | (21, 11)"
      ]
     },
     "execution_count": 10,
     "metadata": {},
     "output_type": "execute_result"
    },
    {
     "data": {
      "image/png": "[encoded data removed]",
      "text/plain": [
       "<Figure size 648x288 with 3 Axes>"
      ]
     },
     "metadata": {
      "needs_background": "light"
     },
     "output_type": "display_data"
    }
   ],
   "source": [
    "loop = Loop(\n",
    "    p_sweep.sweep(0, 20, step=1), delay=0.05).loop(\n",
    "        p_sweep2.sweep(0, 10, step=1), delay=0.01).each(\n",
    "            p_measure)\n",
    "data = loop.get_data_set(name='test_plotting_2D')\n",
    "\n",
    "# Create plot for measured data\n",
    "plot = MatPlot([*data.measured_val], data.measured_val)\n",
    "# Attach updating of plot to loop\n",
    "loop.with_bg_task(plot.update)\n",
    "\n",
    "loop.run()"
   ]
  },
  {
   "cell_type": "markdown",
   "metadata": {},
   "source": [
    "In the example above, the colorbar can be accessed via `plot[1].qcodes_colorbar`.\n",
    "This can be useful when you want to modify the colorbar (e.g. change the color limits `clim`).\n",
    "\n",
    "Note that the above plot was updated every time an inner loop was completed. \n",
    "This is because the update method was attached to the outer loop.\n",
    "If you instead want it to update within an outer loop, you have to attach it to an inner loop: `loop[0].with_bg_task(plot.update)` (`loop[0]` is the first action of the outer loop, which is the inner loop)."
   ]
  },
  {
   "cell_type": "markdown",
   "metadata": {},
   "source": [
    "### Interfacing with Matplotlib\n",
    "As Matplot is built directly on top of Matplotlib, you can use standard Matplotlib functions which are readily available online in Matplotlib documentation as well as StackOverflow and similar sites. Here, we first perform the same measurement and obtain the corresponding figure:"
   ]
  },
  {
   "cell_type": "code",
   "execution_count": 11,
   "metadata": {},
   "outputs": [
    {
     "name": "stdout",
     "output_type": "stream",
     "text": [
      "Started at 2020-05-07 12:31:23\n"
     ]
    },
    {
     "name": "stdout",
     "output_type": "stream",
     "text": [
      "DataSet:\n",
      "   location = 'data/2020-05-07/#007_test_plotting_2D_2_12-31-23'\n",
      "   <Type>   | <array_id>      | <array.name> | <array.shape>\n",
      "   Setpoint | sweep_val_set   | sweep_val    | (21,)\n",
      "   Setpoint | sweep_val_2_set | sweep_val_2  | (21, 11)\n",
      "   Measured | measured_val    | measured_val | (21, 11)\n",
      "Finished at 2020-05-07 12:31:29\n"
     ]
    },
    {
     "data": {
      "text/plain": [
       "DataSet:\n",
       "   location = 'data/2020-05-07/#007_test_plotting_2D_2_12-31-23'\n",
       "   <Type>   | <array_id>      | <array.name> | <array.shape>\n",
       "   Setpoint | sweep_val_set   | sweep_val    | (21,)\n",
       "   Setpoint | sweep_val_2_set | sweep_val_2  | (21, 11)\n",
       "   Measured | measured_val    | measured_val | (21, 11)"
      ]
     },
     "execution_count": 11,
     "metadata": {},
     "output_type": "execute_result"
    },
    {
     "data": {
      "image/png": "[encoded data removed]",
      "text/plain": [
       "<Figure size 648x288 with 3 Axes>"
      ]
     },
     "metadata": {
      "needs_background": "light"
     },
     "output_type": "display_data"
    }
   ],
   "source": [
    "loop = Loop(\n",
    "    p_sweep.sweep(0, 20, step=1), delay=0.05).loop(\n",
    "        p_sweep2.sweep(0, 10, step=1), delay=0.01).each(\n",
    "            p_measure)\n",
    "data = loop.get_data_set(name='test_plotting_2D_2')\n",
    "\n",
    "# Create plot for measured data\n",
    "plot = MatPlot([*data.measured_val], data.measured_val)\n",
    "# Attach updating of plot to loop\n",
    "loop.with_bg_task(plot.update)\n",
    "\n",
    "loop.run()"
   ]
  },
  {
   "cell_type": "markdown",
   "metadata": {},
   "source": [
    "To use the matplotlib api, we need access to the matplotlib Figure and Axis objects. \n",
    "Each subplot has its correspond Axis object, which are grouped together into a single Figure object.\n",
    "A subplot Axis can be accessed via its index. As an example, we will modify the title of the first axis:"
   ]
  },
  {
   "cell_type": "code",
   "execution_count": 12,
   "metadata": {},
   "outputs": [],
   "source": [
    "ax = plot[0] # shorthand for plot.subplots[0]\n",
    "ax.set_title(\"My left subplot title\");"
   ]
  },
  {
   "cell_type": "markdown",
   "metadata": {},
   "source": [
    "Note that this returns the actual matplotlib Axis object.\n",
    "It does have the additional QCoDeS method `Axis.add()`, which allows easily adding of a QCoDeS DataArray. See http://matplotlib.org/api/axes_api.html for documentation of the Matplotlib Axes class.\n",
    "\n",
    "The Matplotlib Figure object can be accessed via the fig attribute on the QCoDeS Matplot object:"
   ]
  },
  {
   "cell_type": "code",
   "execution_count": 13,
   "metadata": {},
   "outputs": [],
   "source": [
    "fig = plot.fig\n",
    "fig.tight_layout();"
   ]
  },
  {
   "cell_type": "markdown",
   "metadata": {},
   "source": [
    "See http://matplotlib.org/api/figure_api.html for documentation of the Matplotlib Figure class.\n",
    "\n",
    "Matplotlib also offers a second way to modify plots, namely pyplot.\n",
    "This can be imported via:"
   ]
  },
  {
   "cell_type": "code",
   "execution_count": 14,
   "metadata": {},
   "outputs": [],
   "source": [
    "from matplotlib import pyplot as plt"
   ]
  },
  {
   "cell_type": "markdown",
   "metadata": {},
   "source": [
    "In pyplot, there is always an active axis and figure, similar to Matlab plotting.\n",
    "Every time a new plot is created, it will update the active axis and figure.\n",
    "The active Figure and Axis can be changed via `plt.scf(fig)` and `plt.sca(ax)`, respectively.\n",
    "\n",
    "As an example, the following code will change the title of the last-created plot (the right subplot of the previous figure):"
   ]
  },
  {
   "cell_type": "code",
   "execution_count": 15,
   "metadata": {},
   "outputs": [
    {
     "data": {
      "image/png": "[encoded data removed]",
      "text/plain": [
       "<Figure size 432x288 with 1 Axes>"
      ]
     },
     "metadata": {
      "needs_background": "light"
     },
     "output_type": "display_data"
    }
   ],
   "source": [
    "plt.title('My right subplot title');"
   ]
  },
  {
   "cell_type": "markdown",
   "metadata": {},
   "source": [
    "See https://matplotlib.org/users/pyplot_tutorial.html for documentation on Pyplot"
   ]
  },
  {
   "cell_type": "markdown",
   "metadata": {},
   "source": [
    "### Event handling"
   ]
  },
  {
   "cell_type": "markdown",
   "metadata": {},
   "source": [
    "Since matplotlib is an interactive plotting tool, one can program actions that are dependent on events.\n",
    "There are many events, such as clicking on a plot, pressing a key, etc.\n",
    "\n",
    "As an example, we can attach a trivial function to occur when the plot object is closed. You can replace this with other functionality, such as stopping the loop."
   ]
  },
  {
   "cell_type": "code",
   "execution_count": 16,
   "metadata": {},
   "outputs": [
    {
     "data": {
      "image/png": "[encoded data removed]",
      "text/plain": [
       "<Figure size 432x288 with 1 Axes>"
      ]
     },
     "metadata": {
      "needs_background": "light"
     },
     "output_type": "display_data"
    }
   ],
   "source": [
    "def handle_close(event):\n",
    "    print('Plot closed')\n",
    "    \n",
    "plot = MatPlot()\n",
    "plot.fig.canvas.mpl_connect('close_event', handle_close);"
   ]
  },
  {
   "cell_type": "markdown",
   "metadata": {},
   "source": [
    "On a related note, matplotlib also has widgets that can be added to plots, allowing additional interactivity with the dataset.\n",
    "An example would be adding a slider to show 2D plots of a 3D dataset (e.g. https://matplotlib.org/examples/widgets/slider_demo.html)."
   ]
  }
 ],
 "metadata": {
  "kernelspec": {
   "display_name": "Python 3",
   "language": "python",
   "name": "python3"
  },
  "language_info": {
   "codemirror_mode": {
    "name": "ipython",
    "version": 3
   },
   "file_extension": ".py",
   "mimetype": "text/x-python",
   "name": "python",
   "nbconvert_exporter": "python",
   "pygments_lexer": "ipython3",
   "version": "3.7.7"
  },
  "nbsphinx": {
   "timeout": 600
  },
  "toc": {
   "base_numbering": 1,
   "nav_menu": {},
   "number_sections": true,
   "sideBar": true,
   "skip_h1_title": false,
   "title_cell": "Table of Contents",
   "title_sidebar": "Contents",
   "toc_cell": false,
   "toc_position": {},
   "toc_section_display": "block",
   "toc_window_display": false
  },
  "varInspector": {
   "cols": {
    "lenName": 16,
    "lenType": 16,
    "lenVar": 40
   },
   "kernels_config": {
    "python": {
     "delete_cmd_postfix": "",
     "delete_cmd_prefix": "del ",
     "library": "var_list.py",
     "varRefreshCmd": "print(var_dic_list())"
    },
    "r": {
     "delete_cmd_postfix": ") ",
     "delete_cmd_prefix": "rm(",
     "library": "var_list.r",
     "varRefreshCmd": "cat(var_dic_list()) "
    }
   },
   "types_to_exclude": [
    "module",
    "function",
    "builtin_function_or_method",
    "instance",
    "_Feature"
   ],
   "window_display": false
  }
 },
 "nbformat": 4,
 "nbformat_minor": 2
}
