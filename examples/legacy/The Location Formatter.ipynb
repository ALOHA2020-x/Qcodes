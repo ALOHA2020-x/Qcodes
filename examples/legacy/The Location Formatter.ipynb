{
 "cells": [
  {
   "cell_type": "markdown",
   "metadata": {},
   "source": [
    "# The Location Formatter\n",
    "\n",
    "The Location Formatter controls the format of the location to which data are saved.\n",
    "\n",
    "This notebook shows some examples of setting different location formats."
   ]
  },
  {
   "cell_type": "code",
   "execution_count": 1,
   "metadata": {
    "execution": {
     "iopub.execute_input": "2021-05-03T11:14:09.786755Z",
     "iopub.status.busy": "2021-05-03T11:14:09.786106Z",
     "iopub.status.idle": "2021-05-03T11:14:11.477258Z",
     "shell.execute_reply": "2021-05-03T11:14:11.476458Z"
    }
   },
   "outputs": [
    {
     "name": "stdout",
     "output_type": "stream",
     "text": [
      "Logging hadn't been started.\n",
      "Activating auto-logging. Current session state plus future input saved.\n",
      "Filename       : /home/runner/.qcodes/logs/command_history.log\n",
      "Mode           : append\n",
      "Output logging : True\n",
      "Raw input log  : False\n",
      "Timestamping   : True\n",
      "State          : active\n"
     ]
    },
    {
     "name": "stdout",
     "output_type": "stream",
     "text": [
      "Qcodes Logfile : /home/runner/.qcodes/logs/210503-17212-qcodes.log\n"
     ]
    }
   ],
   "source": [
    "%matplotlib nbagg\n",
    "import matplotlib.pyplot as plt\n",
    "import time\n",
    "import numpy as np\n",
    "\n",
    "import qcodes as qc\n",
    "from qcodes.loops import Loop\n",
    "from qcodes.data.location import FormatLocation"
   ]
  },
  {
   "cell_type": "code",
   "execution_count": 2,
   "metadata": {
    "execution": {
     "iopub.execute_input": "2021-05-03T11:14:11.485070Z",
     "iopub.status.busy": "2021-05-03T11:14:11.481872Z",
     "iopub.status.idle": "2021-05-03T11:14:11.488474Z",
     "shell.execute_reply": "2021-05-03T11:14:11.488998Z"
    }
   },
   "outputs": [],
   "source": [
    "# First we set up some mock experiment\n",
    "from qcodes.tests.instrument_mocks import DummyInstrument\n",
    "\n",
    "gates = DummyInstrument('some_gates', gates=['plunger', 'left', 'topo'])\n",
    "meter = DummyInstrument('meter', gates=['voltage', 'current'])\n",
    "\n",
    "station = qc.Station(gates, meter)\n"
   ]
  },
  {
   "cell_type": "markdown",
   "metadata": {},
   "source": [
    "## The formatter in action\n",
    "\n",
    "Now let's run some loops to get datasets and see where they end up.\n",
    "\n",
    "When writing the location format, some fields are automatically filled out.\n",
    "\n",
    "That is the fields '{date}', '{time}', and '{counter}'.\n",
    "All other fields must have their values provided via the record dict."
   ]
  },
  {
   "cell_type": "code",
   "execution_count": 3,
   "metadata": {
    "execution": {
     "iopub.execute_input": "2021-05-03T11:14:11.498436Z",
     "iopub.status.busy": "2021-05-03T11:14:11.497030Z",
     "iopub.status.idle": "2021-05-03T11:14:11.514967Z",
     "shell.execute_reply": "2021-05-03T11:14:11.514297Z"
    }
   },
   "outputs": [
    {
     "name": "stdout",
     "output_type": "stream",
     "text": [
      "Started at 2021-05-03 11:14:11\n",
      "DataSet:\n",
      "   location = '2021-05-03/#001_unicorn_2021-05-03_11-14-11'\n",
      "   <Type>   | <array_id>             | <array.name> | <array.shape>\n",
      "   Setpoint | some_gates_plunger_set | plunger      | (25,)\n",
      "   Measured | meter_voltage          | voltage      | (25,)\n",
      "Finished at 2021-05-03 11:14:11\n"
     ]
    }
   ],
   "source": [
    "loc_fmt='{date}/#{counter}_{name}_{date}_{time}'  # set the desired location format\n",
    "rcd={'name': 'unicorn'}  # provide a value for 'name'\n",
    "loc_provider = FormatLocation(fmt=loc_fmt, record=rcd)  # create a location provider using that format\n",
    "\n",
    "loop = Loop(gates.plunger.sweep(0, 1, num=25), 0).each(meter.voltage)\n",
    "data2 = loop.run(location=loc_provider)"
   ]
  },
  {
   "cell_type": "code",
   "execution_count": 4,
   "metadata": {
    "execution": {
     "iopub.execute_input": "2021-05-03T11:14:11.522688Z",
     "iopub.status.busy": "2021-05-03T11:14:11.520040Z",
     "iopub.status.idle": "2021-05-03T11:14:11.534461Z",
     "shell.execute_reply": "2021-05-03T11:14:11.533825Z"
    }
   },
   "outputs": [
    {
     "name": "stdout",
     "output_type": "stream",
     "text": [
      "Started at 2021-05-03 11:14:11\n",
      "DataSet:\n",
      "   location = 'my_custom_folder/#001_randomnumber_54_2021-05-03_11-14-11'\n",
      "   <Type>   | <array_id>             | <array.name> | <array.shape>\n",
      "   Setpoint | some_gates_plunger_set | plunger      | (25,)\n",
      "   Measured | meter_voltage          | voltage      | (25,)\n",
      "Finished at 2021-05-03 11:14:11\n"
     ]
    }
   ],
   "source": [
    "# Now let's do that a few times with different formats\n",
    "\n",
    "import numpy as np\n",
    "\n",
    "loc_fmt='my_custom_folder/#{counter}_randomnumber_{name}_{date}_{time}'\n",
    "rcd = {'name': str(np.random.randint(1, 100))}\n",
    "loc_provider = FormatLocation(fmt=loc_fmt, record=rcd)\n",
    "\n",
    "loop = Loop(gates.plunger.sweep(0, 1, num=25), 0).each(meter.voltage)\n",
    "data2 = loop.run(location=loc_provider)"
   ]
  },
  {
   "cell_type": "code",
   "execution_count": 5,
   "metadata": {
    "execution": {
     "iopub.execute_input": "2021-05-03T11:14:11.544506Z",
     "iopub.status.busy": "2021-05-03T11:14:11.542346Z",
     "iopub.status.idle": "2021-05-03T11:14:11.556103Z",
     "shell.execute_reply": "2021-05-03T11:14:11.556630Z"
    }
   },
   "outputs": [
    {
     "name": "stdout",
     "output_type": "stream",
     "text": [
      "Started at 2021-05-03 11:14:11\n",
      "DataSet:\n",
      "   location = '2021-05-03/#002_{name}_2021-05-03_hammer_time'\n",
      "   <Type>   | <array_id>             | <array.name> | <array.shape>\n",
      "   Setpoint | some_gates_plunger_set | plunger      | (25,)\n",
      "   Measured | meter_voltage          | voltage      | (25,)\n",
      "Finished at 2021-05-03 11:14:11\n"
     ]
    }
   ],
   "source": [
    "# You can also overwrite the custom fields\n",
    "\n",
    "loc_fmt='{date}/#{counter}_{name}_{date}_{time}'\n",
    "rcd = {'time': 'hammer_time'}\n",
    "loc_provider = FormatLocation(fmt=loc_fmt, record=rcd)\n",
    "\n",
    "loop = Loop(gates.plunger.sweep(0, 1, num=25), 0).each(meter.voltage)\n",
    "data2 = loop.run(location=loc_provider)"
   ]
  },
  {
   "cell_type": "code",
   "execution_count": null,
   "metadata": {},
   "outputs": [],
   "source": []
  }
 ],
 "metadata": {
  "kernelspec": {
   "display_name": "Python 3",
   "language": "python",
   "name": "python3"
  },
  "language_info": {
   "codemirror_mode": {
    "name": "ipython",
    "version": 3
   },
   "file_extension": ".py",
   "mimetype": "text/x-python",
   "name": "python",
   "nbconvert_exporter": "python",
   "pygments_lexer": "ipython3",
   "version": "3.7.10"
  },
  "toc": {
   "base_numbering": 1,
   "nav_menu": {},
   "number_sections": true,
   "sideBar": true,
   "skip_h1_title": false,
   "title_cell": "Table of Contents",
   "title_sidebar": "Contents",
   "toc_cell": false,
   "toc_position": {},
   "toc_section_display": true,
   "toc_window_display": false
  },
  "varInspector": {
   "cols": {
    "lenName": 16,
    "lenType": 16,
    "lenVar": 40
   },
   "kernels_config": {
    "python": {
     "delete_cmd_postfix": "",
     "delete_cmd_prefix": "del ",
     "library": "var_list.py",
     "varRefreshCmd": "print(var_dic_list())"
    },
    "r": {
     "delete_cmd_postfix": ") ",
     "delete_cmd_prefix": "rm(",
     "library": "var_list.r",
     "varRefreshCmd": "cat(var_dic_list()) "
    }
   },
   "types_to_exclude": [
    "module",
    "function",
    "builtin_function_or_method",
    "instance",
    "_Feature"
   ],
   "window_display": false
  }
 },
 "nbformat": 4,
 "nbformat_minor": 1
}
