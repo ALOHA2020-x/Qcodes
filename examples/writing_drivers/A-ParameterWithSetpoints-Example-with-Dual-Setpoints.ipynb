{
 "cells": [
  {
   "cell_type": "markdown",
   "metadata": {},
   "source": [
    "# A ParameterWithSetpoints Example with Dual Setpoints\n",
    "\n",
    "This notebook explains how you can account for dual setpoints using `ParameterWithSetpoints`. The basics of writing drivers using `ParameterWithSetpoints` is covered in the notebook named [Simple Example of ParameterWithSetpoints](../Parameters/Simple-Example-of-ParameterWithSetpoints.ipynb).\n",
    "\n",
    "In this example we consider a dummy instrument that can return a time trace or the discreet Fourier transform (magnitude square) of that trace. The setpoints are accounted for in an easy way."
   ]
  },
  {
   "cell_type": "code",
   "execution_count": 1,
   "metadata": {
    "execution": {
     "iopub.execute_input": "2020-10-19T17:39:29.790683Z",
     "iopub.status.busy": "2020-10-19T17:39:29.790114Z",
     "iopub.status.idle": "2020-10-19T17:39:31.081023Z",
     "shell.execute_reply": "2020-10-19T17:39:31.081501Z"
    }
   },
   "outputs": [
    {
     "name": "stdout",
     "output_type": "stream",
     "text": [
      "Logging hadn't been started.\n",
      "Activating auto-logging. Current session state plus future input saved.\n",
      "Filename       : /home/vsts/.qcodes/logs/command_history.log\n",
      "Mode           : append\n",
      "Output logging : True\n",
      "Raw input log  : False\n",
      "Timestamping   : True\n",
      "State          : active\n"
     ]
    },
    {
     "name": "stdout",
     "output_type": "stream",
     "text": [
      "Qcodes Logfile : /home/vsts/.qcodes/logs/201019-26565-qcodes.log\n"
     ]
    }
   ],
   "source": [
    "import os\n",
    "import numpy as np\n",
    "import matplotlib.pyplot as plt\n",
    "\n",
    "\n",
    "from qcodes import Measurement, initialise_or_create_database_at, load_or_create_experiment, load_by_id\n",
    "from qcodes.instrument.base import Instrument, Parameter\n",
    "from qcodes.instrument.parameter import ParameterWithSetpoints\n",
    "from qcodes.dataset.plotting import plot_dataset\n",
    "import qcodes.utils.validators as vals"
   ]
  },
  {
   "cell_type": "code",
   "execution_count": 2,
   "metadata": {
    "execution": {
     "iopub.execute_input": "2020-10-19T17:39:31.088804Z",
     "iopub.status.busy": "2020-10-19T17:39:31.088221Z",
     "iopub.status.idle": "2020-10-19T17:39:31.092084Z",
     "shell.execute_reply": "2020-10-19T17:39:31.091566Z"
    }
   },
   "outputs": [],
   "source": [
    "def timetrace(npts: int, dt: float) -> np.ndarray:\n",
    "    \"\"\"\n",
    "    A very realistic-looking signal\n",
    "    \"\"\"\n",
    "    #freq = 10/(dt*npts)\n",
    "    #decay = 1/(dt*npts)\n",
    "    freq = 10\n",
    "    decay = 1\n",
    "    time = np.linspace(0, npts*dt, npts, endpoint=False)\n",
    "    signal = np.exp(-decay*time)*np.sin(2*np.pi*freq*time)\n",
    "    noise = 0.1*np.random.randn(npts)\n",
    "    return signal + noise"
   ]
  },
  {
   "cell_type": "code",
   "execution_count": 3,
   "metadata": {
    "execution": {
     "iopub.execute_input": "2020-10-19T17:39:31.101813Z",
     "iopub.status.busy": "2020-10-19T17:39:31.099415Z",
     "iopub.status.idle": "2020-10-19T17:39:31.105897Z",
     "shell.execute_reply": "2020-10-19T17:39:31.106362Z"
    }
   },
   "outputs": [],
   "source": [
    "\n",
    "\n",
    "class TimeTrace(ParameterWithSetpoints):\n",
    "    \n",
    "    def get_raw(self):\n",
    "        npts = self.root_instrument.npts()\n",
    "        dt = self.root_instrument.dt()\n",
    "        \n",
    "        return timetrace(npts, dt)\n",
    "    \n",
    "\n",
    "class Periodogram(ParameterWithSetpoints):\n",
    "    \n",
    "    def get_raw(self):\n",
    "        npts = self.root_instrument.npts()\n",
    "        dt = self.root_instrument.dt()\n",
    "        \n",
    "        tt = self.root_instrument.trace()\n",
    "        \n",
    "        return np.abs(np.fft.fft(tt))**2\n",
    "        \n",
    "        \n",
    "class TimeAxis(Parameter):\n",
    "\n",
    "    def get_raw(self):\n",
    "        npts = self.root_instrument.npts()\n",
    "        dt = self.root_instrument.dt()\n",
    "        return np.linspace(0, dt*npts, npts, endpoint=False)\n",
    "\n",
    "    \n",
    "class FrequencyAxis(Parameter):\n",
    "    \n",
    "    def get_raw(self):\n",
    "        npts = self.root_instrument.npts()\n",
    "        dt = self.root_instrument.dt()\n",
    "\n",
    "        return np.linspace(0, 1/dt, npts)\n",
    "    \n",
    "        \n",
    "class OzzyLowScope(Instrument):\n",
    "    \n",
    "    def __init__(self, name, **kwargs):\n",
    "        \n",
    "        super().__init__(name, **kwargs)\n",
    "        \n",
    "        self.add_parameter(name='npts',\n",
    "                           initial_value=500,\n",
    "                           label='Number of points',\n",
    "                           get_cmd=None,\n",
    "                           set_cmd=None)\n",
    "        \n",
    "        self.add_parameter(name='dt',\n",
    "                           initial_value=1e-3,\n",
    "                           label='Time resolution',\n",
    "                           unit='s',\n",
    "                           get_cmd=None,\n",
    "                           set_cmd=None)\n",
    "        \n",
    "        self.add_parameter(name='time_axis',\n",
    "                           label='Time',\n",
    "                           unit='s',\n",
    "                           vals=vals.Arrays(shape=(self.npts,)),\n",
    "                           parameter_class=TimeAxis)\n",
    "        \n",
    "        self.add_parameter(name='freq_axis',\n",
    "                           label='Frequency',\n",
    "                           unit='Hz',\n",
    "                           vals=vals.Arrays(shape=(self.npts,)),\n",
    "                           parameter_class=FrequencyAxis)\n",
    "        \n",
    "        self.add_parameter(name='trace',\n",
    "                           label='Signal',\n",
    "                           unit='V',\n",
    "                           vals=vals.Arrays(shape=(self.npts,)),\n",
    "                           setpoints=(self.time_axis,),\n",
    "                           parameter_class=TimeTrace)\n",
    "        \n",
    "        self.add_parameter(name='periodogram',\n",
    "                           label='Periodogram',\n",
    "                           unit='V^2/Hz',\n",
    "                           vals=vals.Arrays(shape=(self.npts,)),\n",
    "                           setpoints=(self.freq_axis,),\n",
    "                           parameter_class=Periodogram)"
   ]
  },
  {
   "cell_type": "code",
   "execution_count": 4,
   "metadata": {
    "execution": {
     "iopub.execute_input": "2020-10-19T17:39:31.112173Z",
     "iopub.status.busy": "2020-10-19T17:39:31.110734Z",
     "iopub.status.idle": "2020-10-19T17:39:31.112739Z",
     "shell.execute_reply": "2020-10-19T17:39:31.113299Z"
    }
   },
   "outputs": [],
   "source": [
    "osc = OzzyLowScope('osc')"
   ]
  },
  {
   "cell_type": "code",
   "execution_count": 5,
   "metadata": {
    "execution": {
     "iopub.execute_input": "2020-10-19T17:39:31.118373Z",
     "iopub.status.busy": "2020-10-19T17:39:31.117612Z",
     "iopub.status.idle": "2020-10-19T17:39:31.195878Z",
     "shell.execute_reply": "2020-10-19T17:39:31.195251Z"
    }
   },
   "outputs": [
    {
     "name": "stdout",
     "output_type": "stream",
     "text": [
      "\r",
      "0it [00:00, ?it/s]"
     ]
    },
    {
     "name": "stdout",
     "output_type": "stream",
     "text": [
      "\r",
      "Upgrading database; v0 -> v1: : 0it [00:00, ?it/s]"
     ]
    },
    {
     "name": "stdout",
     "output_type": "stream",
     "text": [
      "\r",
      "Upgrading database; v0 -> v1: : 0it [00:00, ?it/s]"
     ]
    },
    {
     "name": "stdout",
     "output_type": "stream",
     "text": [
      "\n",
      "\r",
      "  0%|          | 0/1 [00:00<?, ?it/s]"
     ]
    },
    {
     "name": "stdout",
     "output_type": "stream",
     "text": [
      "\r",
      "Upgrading database; v1 -> v2:   0%|          | 0/1 [00:00<?, ?it/s]"
     ]
    },
    {
     "name": "stdout",
     "output_type": "stream",
     "text": [
      "\r",
      "Upgrading database; v1 -> v2: 100%|██████████| 1/1 [00:00<00:00, 431.65it/s]"
     ]
    },
    {
     "name": "stdout",
     "output_type": "stream",
     "text": [
      "\n",
      "\r",
      "0it [00:00, ?it/s]"
     ]
    },
    {
     "name": "stdout",
     "output_type": "stream",
     "text": [
      "\r",
      "Upgrading database; v2 -> v3: : 0it [00:00, ?it/s]"
     ]
    },
    {
     "name": "stdout",
     "output_type": "stream",
     "text": [
      "\r",
      "Upgrading database; v2 -> v3: : 0it [00:00, ?it/s]"
     ]
    },
    {
     "name": "stdout",
     "output_type": "stream",
     "text": [
      "\n",
      "\r",
      "0it [00:00, ?it/s]"
     ]
    },
    {
     "name": "stdout",
     "output_type": "stream",
     "text": [
      "\r",
      "Upgrading database; v3 -> v4: : 0it [00:00, ?it/s]"
     ]
    },
    {
     "name": "stdout",
     "output_type": "stream",
     "text": [
      "\r",
      "Upgrading database; v3 -> v4: : 0it [00:00, ?it/s]"
     ]
    },
    {
     "name": "stdout",
     "output_type": "stream",
     "text": [
      "\n",
      "\r",
      "  0%|          | 0/1 [00:00<?, ?it/s]"
     ]
    },
    {
     "name": "stdout",
     "output_type": "stream",
     "text": [
      "\r",
      "Upgrading database; v4 -> v5:   0%|          | 0/1 [00:00<?, ?it/s]"
     ]
    },
    {
     "name": "stdout",
     "output_type": "stream",
     "text": [
      "\r",
      "Upgrading database; v4 -> v5: 100%|██████████| 1/1 [00:00<00:00, 814.43it/s]"
     ]
    },
    {
     "name": "stdout",
     "output_type": "stream",
     "text": [
      "\n",
      "\r",
      "0it [00:00, ?it/s]"
     ]
    },
    {
     "name": "stdout",
     "output_type": "stream",
     "text": [
      "\r",
      "Upgrading database; v5 -> v6: : 0it [00:00, ?it/s]"
     ]
    },
    {
     "name": "stdout",
     "output_type": "stream",
     "text": [
      "\r",
      "Upgrading database; v5 -> v6: : 0it [00:00, ?it/s]"
     ]
    },
    {
     "name": "stdout",
     "output_type": "stream",
     "text": [
      "\n",
      "\r",
      "  0%|          | 0/1 [00:00<?, ?it/s]"
     ]
    },
    {
     "name": "stdout",
     "output_type": "stream",
     "text": [
      "\r",
      "Upgrading database; v6 -> v7:   0%|          | 0/1 [00:00<?, ?it/s]"
     ]
    },
    {
     "name": "stdout",
     "output_type": "stream",
     "text": [
      "\r",
      "Upgrading database; v6 -> v7: 100%|██████████| 1/1 [00:00<00:00, 252.03it/s]"
     ]
    },
    {
     "name": "stdout",
     "output_type": "stream",
     "text": [
      "\n",
      "\r",
      "  0%|          | 0/1 [00:00<?, ?it/s]"
     ]
    },
    {
     "name": "stdout",
     "output_type": "stream",
     "text": [
      "\r",
      "Upgrading database; v7 -> v8:   0%|          | 0/1 [00:00<?, ?it/s]"
     ]
    },
    {
     "name": "stdout",
     "output_type": "stream",
     "text": [
      "\r",
      "Upgrading database; v7 -> v8: 100%|██████████| 1/1 [00:00<00:00, 372.46it/s]"
     ]
    },
    {
     "name": "stdout",
     "output_type": "stream",
     "text": [
      "\n"
     ]
    },
    {
     "name": "stdout",
     "output_type": "stream",
     "text": [
      "\r",
      "  0%|          | 0/1 [00:00<?, ?it/s]"
     ]
    },
    {
     "name": "stdout",
     "output_type": "stream",
     "text": [
      "\r",
      "Upgrading database; v8 -> v9:   0%|          | 0/1 [00:00<?, ?it/s]"
     ]
    },
    {
     "name": "stdout",
     "output_type": "stream",
     "text": [
      "\r",
      "Upgrading database; v8 -> v9: 100%|██████████| 1/1 [00:00<00:00, 477.77it/s]"
     ]
    },
    {
     "name": "stdout",
     "output_type": "stream",
     "text": [
      "\n"
     ]
    },
    {
     "data": {
      "text/plain": [
       "tutorial_exp#no sample#1@/home/vsts/work/1/s/docs/examples/writing_drivers/tutorial_doND.db\n",
       "-------------------------------------------------------------------------------------------"
      ]
     },
     "execution_count": 1,
     "metadata": {},
     "output_type": "execute_result"
    }
   ],
   "source": [
    "tutorial_db_path = os.path.join(os.getcwd(), 'tutorial_doND.db')\n",
    "initialise_or_create_database_at(tutorial_db_path)\n",
    "load_or_create_experiment(experiment_name='tutorial_exp', sample_name=\"no sample\")"
   ]
  },
  {
   "cell_type": "markdown",
   "metadata": {},
   "source": [
    "## Measurement 1: Time Trace"
   ]
  },
  {
   "cell_type": "code",
   "execution_count": 6,
   "metadata": {
    "execution": {
     "iopub.execute_input": "2020-10-19T17:39:31.200983Z",
     "iopub.status.busy": "2020-10-19T17:39:31.200386Z",
     "iopub.status.idle": "2020-10-19T17:39:31.265010Z",
     "shell.execute_reply": "2020-10-19T17:39:31.264497Z"
    }
   },
   "outputs": [
    {
     "name": "stdout",
     "output_type": "stream",
     "text": [
      "Starting experimental run with id: 1. \n"
     ]
    }
   ],
   "source": [
    "timemeas = Measurement()\n",
    "timemeas.register_parameter(osc.trace)\n",
    "\n",
    "osc.dt(0.001)\n",
    "\n",
    "with timemeas.run() as datasaver:\n",
    "    datasaver.add_result((osc.trace, osc.trace.get()))\n",
    "    \n",
    "dataset = datasaver.dataset"
   ]
  },
  {
   "cell_type": "code",
   "execution_count": 7,
   "metadata": {
    "execution": {
     "iopub.execute_input": "2020-10-19T17:39:31.269195Z",
     "iopub.status.busy": "2020-10-19T17:39:31.268306Z",
     "iopub.status.idle": "2020-10-19T17:39:31.422873Z",
     "shell.execute_reply": "2020-10-19T17:39:31.423570Z"
    }
   },
   "outputs": [
    {
     "data": {
      "image/png": "[encoded data removed]",
      "text/plain": [
       "<Figure size 432x288 with 1 Axes>"
      ]
     },
     "metadata": {
      "needs_background": "light"
     },
     "output_type": "display_data"
    }
   ],
   "source": [
    "_ = plot_dataset(dataset)"
   ]
  },
  {
   "cell_type": "code",
   "execution_count": 8,
   "metadata": {
    "execution": {
     "iopub.execute_input": "2020-10-19T17:39:31.431988Z",
     "iopub.status.busy": "2020-10-19T17:39:31.431404Z",
     "iopub.status.idle": "2020-10-19T17:39:31.457479Z",
     "shell.execute_reply": "2020-10-19T17:39:31.456881Z"
    }
   },
   "outputs": [
    {
     "name": "stdout",
     "output_type": "stream",
     "text": [
      "Starting experimental run with id: 2. \n"
     ]
    }
   ],
   "source": [
    "osc.dt(0.01)  # make the trace 10 times longer\n",
    "\n",
    "with timemeas.run() as datasaver:\n",
    "    datasaver.add_result((osc.trace, osc.trace.get()))\n",
    "    \n",
    "dataset = datasaver.dataset"
   ]
  },
  {
   "cell_type": "code",
   "execution_count": 9,
   "metadata": {
    "execution": {
     "iopub.execute_input": "2020-10-19T17:39:31.463233Z",
     "iopub.status.busy": "2020-10-19T17:39:31.462318Z",
     "iopub.status.idle": "2020-10-19T17:39:31.613307Z",
     "shell.execute_reply": "2020-10-19T17:39:31.613783Z"
    }
   },
   "outputs": [
    {
     "data": {
      "image/png": "[encoded data removed]",
      "text/plain": [
       "<Figure size 432x288 with 1 Axes>"
      ]
     },
     "metadata": {
      "needs_background": "light"
     },
     "output_type": "display_data"
    }
   ],
   "source": [
    "_ = plot_dataset(dataset)"
   ]
  },
  {
   "cell_type": "markdown",
   "metadata": {},
   "source": [
    "## Measurement 2: Periodogram"
   ]
  },
  {
   "cell_type": "code",
   "execution_count": 10,
   "metadata": {
    "execution": {
     "iopub.execute_input": "2020-10-19T17:39:31.619118Z",
     "iopub.status.busy": "2020-10-19T17:39:31.617810Z",
     "iopub.status.idle": "2020-10-19T17:39:31.637770Z",
     "shell.execute_reply": "2020-10-19T17:39:31.637144Z"
    }
   },
   "outputs": [
    {
     "name": "stdout",
     "output_type": "stream",
     "text": [
      "Starting experimental run with id: 3. \n"
     ]
    }
   ],
   "source": [
    "freqmeas = Measurement()\n",
    "freqmeas.register_parameter(osc.periodogram)\n",
    "\n",
    "osc.dt(0.01)\n",
    "\n",
    "with freqmeas.run() as datasaver:\n",
    "    datasaver.add_result((osc.periodogram, osc.periodogram.get()))\n",
    "    \n",
    "dataid = datasaver.dataset"
   ]
  },
  {
   "cell_type": "code",
   "execution_count": 11,
   "metadata": {
    "execution": {
     "iopub.execute_input": "2020-10-19T17:39:31.641562Z",
     "iopub.status.busy": "2020-10-19T17:39:31.640992Z",
     "iopub.status.idle": "2020-10-19T17:39:32.297270Z",
     "shell.execute_reply": "2020-10-19T17:39:32.298055Z"
    }
   },
   "outputs": [
    {
     "data": {
      "image/png": "[encoded data removed]",
      "text/plain": [
       "<Figure size 432x288 with 1 Axes>"
      ]
     },
     "metadata": {
      "needs_background": "light"
     },
     "output_type": "display_data"
    }
   ],
   "source": [
    "axs, cbax = plot_dataset(dataset)\n",
    "aa = axs[0]\n",
    "aa.set_yscale('log')"
   ]
  },
  {
   "cell_type": "markdown",
   "metadata": {},
   "source": [
    "Just for the fun of it, let's make a measurement with the averaged periodogram."
   ]
  },
  {
   "cell_type": "code",
   "execution_count": 12,
   "metadata": {
    "execution": {
     "iopub.execute_input": "2020-10-19T17:39:32.303341Z",
     "iopub.status.busy": "2020-10-19T17:39:32.302687Z",
     "iopub.status.idle": "2020-10-19T17:39:32.370311Z",
     "shell.execute_reply": "2020-10-19T17:39:32.370836Z"
    }
   },
   "outputs": [
    {
     "name": "stdout",
     "output_type": "stream",
     "text": [
      "Starting experimental run with id: 4. \n"
     ]
    }
   ],
   "source": [
    "no_of_avgs = 100\n",
    "\n",
    "with freqmeas.run() as datasaver:\n",
    "    \n",
    "    temp_per = osc.periodogram()\n",
    "    \n",
    "    for _ in range(no_of_avgs-1):\n",
    "        temp_per += osc.periodogram()\n",
    "        \n",
    "    datasaver.add_result((osc.periodogram, temp_per/no_of_avgs),\n",
    "                         (osc.freq_axis, osc.freq_axis.get()))\n",
    "\n",
    "dataset = datasaver.dataset"
   ]
  },
  {
   "cell_type": "code",
   "execution_count": 13,
   "metadata": {
    "execution": {
     "iopub.execute_input": "2020-10-19T17:39:32.374903Z",
     "iopub.status.busy": "2020-10-19T17:39:32.374306Z",
     "iopub.status.idle": "2020-10-19T17:39:32.794628Z",
     "shell.execute_reply": "2020-10-19T17:39:32.793894Z"
    }
   },
   "outputs": [
    {
     "data": {
      "image/png": "[encoded data removed]",
      "text/plain": [
       "<Figure size 432x288 with 1 Axes>"
      ]
     },
     "metadata": {
      "needs_background": "light"
     },
     "output_type": "display_data"
    }
   ],
   "source": [
    "axs, cbax = plot_dataset(dataset)\n",
    "aa = axs[0]\n",
    "aa.set_yscale('log')"
   ]
  },
  {
   "cell_type": "markdown",
   "metadata": {},
   "source": [
    "## Measurement 3: 2D Sweeping"
   ]
  },
  {
   "cell_type": "code",
   "execution_count": 14,
   "metadata": {
    "execution": {
     "iopub.execute_input": "2020-10-19T17:39:32.800718Z",
     "iopub.status.busy": "2020-10-19T17:39:32.799145Z",
     "iopub.status.idle": "2020-10-19T17:39:32.923464Z",
     "shell.execute_reply": "2020-10-19T17:39:32.922833Z"
    }
   },
   "outputs": [
    {
     "name": "stdout",
     "output_type": "stream",
     "text": [
      "Starting experimental run with id: 5. \n"
     ]
    }
   ],
   "source": [
    "meas = Measurement()\n",
    "meas.register_parameter(osc.npts)\n",
    "meas.register_parameter(osc.trace, setpoints=[osc.npts], paramtype='numeric')\n",
    "\n",
    "with meas.run() as datasaver:\n",
    "\n",
    "    osc.dt(0.001)\n",
    "    \n",
    "    for npts in [200, 400, 600, 800, 1000, 1200]:\n",
    "        osc.npts(npts)\n",
    "        datasaver.add_result((osc.trace, osc.trace.get()),\n",
    "                             (osc.npts, osc.npts()))\n",
    "        \n",
    "dataset = datasaver.dataset"
   ]
  },
  {
   "cell_type": "code",
   "execution_count": 15,
   "metadata": {
    "execution": {
     "iopub.execute_input": "2020-10-19T17:39:32.927494Z",
     "iopub.status.busy": "2020-10-19T17:39:32.926924Z",
     "iopub.status.idle": "2020-10-19T17:39:33.388906Z",
     "shell.execute_reply": "2020-10-19T17:39:33.389495Z"
    }
   },
   "outputs": [
    {
     "data": {
      "image/png": "[encoded data removed]",
      "text/plain": [
       "<Figure size 432x288 with 2 Axes>"
      ]
     },
     "metadata": {
      "needs_background": "light"
     },
     "output_type": "display_data"
    }
   ],
   "source": [
    "_ = plot_dataset(dataset)"
   ]
  },
  {
   "cell_type": "code",
   "execution_count": null,
   "metadata": {},
   "outputs": [],
   "source": []
  },
  {
   "cell_type": "code",
   "execution_count": null,
   "metadata": {},
   "outputs": [],
   "source": []
  }
 ],
 "metadata": {
  "kernelspec": {
   "display_name": "Python 3",
   "language": "python",
   "name": "python3"
  },
  "language_info": {
   "codemirror_mode": {
    "name": "ipython",
    "version": 3
   },
   "file_extension": ".py",
   "mimetype": "text/x-python",
   "name": "python",
   "nbconvert_exporter": "python",
   "pygments_lexer": "ipython3",
   "version": "3.7.7"
  },
  "toc": {
   "base_numbering": 1,
   "nav_menu": {},
   "number_sections": true,
   "sideBar": true,
   "skip_h1_title": false,
   "title_cell": "Table of Contents",
   "title_sidebar": "Contents",
   "toc_cell": false,
   "toc_position": {},
   "toc_section_display": true,
   "toc_window_display": false
  },
  "varInspector": {
   "cols": {
    "lenName": 16,
    "lenType": 16,
    "lenVar": 40
   },
   "kernels_config": {
    "python": {
     "delete_cmd_postfix": "",
     "delete_cmd_prefix": "del ",
     "library": "var_list.py",
     "varRefreshCmd": "print(var_dic_list())"
    },
    "r": {
     "delete_cmd_postfix": ") ",
     "delete_cmd_prefix": "rm(",
     "library": "var_list.r",
     "varRefreshCmd": "cat(var_dic_list()) "
    }
   },
   "types_to_exclude": [
    "module",
    "function",
    "builtin_function_or_method",
    "instance",
    "_Feature"
   ],
   "window_display": false
  }
 },
 "nbformat": 4,
 "nbformat_minor": 2
}
