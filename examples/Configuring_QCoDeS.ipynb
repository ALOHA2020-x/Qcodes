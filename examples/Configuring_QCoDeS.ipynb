{
 "cells": [
  {
   "cell_type": "code",
   "execution_count": 1,
   "metadata": {
    "execution": {
     "iopub.execute_input": "2021-03-24T09:04:12.407034Z",
     "iopub.status.busy": "2021-03-24T09:04:12.406306Z",
     "iopub.status.idle": "2021-03-24T09:04:13.586380Z",
     "shell.execute_reply": "2021-03-24T09:04:13.585668Z"
    }
   },
   "outputs": [
    {
     "name": "stdout",
     "output_type": "stream",
     "text": [
      "Logging hadn't been started.\n",
      "Activating auto-logging. Current session state plus future input saved.\n",
      "Filename       : /home/runner/.qcodes/logs/command_history.log\n",
      "Mode           : append\n",
      "Output logging : True\n",
      "Raw input log  : False\n",
      "Timestamping   : True\n",
      "State          : active\n"
     ]
    },
    {
     "name": "stdout",
     "output_type": "stream",
     "text": [
      "Qcodes Logfile : /home/runner/.qcodes/logs/210324-3165-qcodes.log\n"
     ]
    }
   ],
   "source": [
    "%load_ext autoreload\n",
    "%autoreload 2\n",
    "import qcodes as qc"
   ]
  },
  {
   "cell_type": "markdown",
   "metadata": {},
   "source": [
    "# QCoDeS config\n",
    "\n",
    "The QCoDeS config module uses JSON files to store QCoDeS configuration.\n",
    "\n",
    "The config file controls various options to QCoDeS such as the default path and name of the database in which your data is stored and logging level of the debug output. QCoDeS is shipped with a default configuration. As we shall see, you can overwrite these default values in several different ways to customize the configuration. In particular, you may want to change the path of your database which by default is `~/experiments.db` (here, `~` stands for the path of the user's home directory). In the following example, I have changed the default path of my database, represented by the key `db_location`, \n",
    "in such a way that my data will be stored inside a sub-folder within my home folder. \n"
   ]
  },
  {
   "cell_type": "markdown",
   "metadata": {},
   "source": [
    "QCoDeS loads both the defaults and the active configuration at the module import so that you can directly inspect them"
   ]
  },
  {
   "cell_type": "code",
   "execution_count": 2,
   "metadata": {
    "execution": {
     "iopub.execute_input": "2021-03-24T09:04:13.599931Z",
     "iopub.status.busy": "2021-03-24T09:04:13.592597Z",
     "iopub.status.idle": "2021-03-24T09:04:13.621478Z",
     "shell.execute_reply": "2021-03-24T09:04:13.622018Z"
    }
   },
   "outputs": [
    {
     "data": {
      "text/plain": [
       "{'core': {'default_fmt': 'data/{date}/#{counter}_{name}_{time}',\n",
       "  'register_magic': True,\n",
       "  'import_legacy_api': False,\n",
       "  'db_location': '~/experiments.db',\n",
       "  'db_debug': False,\n",
       "  'loglevel': 'WARNING',\n",
       "  'file_loglevel': 'INFO'},\n",
       " 'logger': {'start_logging_on_import': 'always',\n",
       "  'console_level': 'WARNING',\n",
       "  'file_level': 'INFO',\n",
       "  'logger_levels': {'pyvisa': 'INFO'}},\n",
       " 'subscription': {'subscribers': {'QCPlot': {'factory': 'qcplotutils.qcodes_dataset.QCPlotDatasetSubscriber',\n",
       "    'factory_kwargs': {'log': False},\n",
       "    'subscription_kwargs': {'min_wait': 0,\n",
       "     'min_count': 1,\n",
       "     'callback_kwargs': {}}}},\n",
       "  'default_subscribers': []},\n",
       " 'gui': {'notebook': True,\n",
       "  'plotlib': None,\n",
       "  'pyqtmaxplots': 100,\n",
       "  'defaultcolormap': 'hot'},\n",
       " 'plotting': {'default_color_map': 'viridis',\n",
       "  'rasterize_threshold': 5000,\n",
       "  'auto_color_scale': {'enabled': False,\n",
       "   'cutoff_percentile': [0.5, 0.5],\n",
       "   'color_over': '#a1c4fc',\n",
       "   'color_under': '#017000'}},\n",
       " 'user': {'scriptfolder': '.', 'mainfolder': '.'},\n",
       " 'station': {'enable_forced_reconnect': False,\n",
       "  'default_folder': '.',\n",
       "  'default_file': None,\n",
       "  'use_monitor': False},\n",
       " 'GUID_components': {'location': 0, 'work_station': 0, 'sample': 0},\n",
       " 'dataset': {'write_in_background': False,\n",
       "  'write_period': 5.0,\n",
       "  'dond_plot': False,\n",
       "  'dond_show_progress': False,\n",
       "  'export_automatic': False,\n",
       "  'export_type': None,\n",
       "  'export_prefix': 'qcodes_',\n",
       "  'export_path': '~'},\n",
       " 'telemetry': {'enabled': False,\n",
       "  'instrumentation_key': '00000000-0000-0000-0000-000000000000'}}"
      ]
     },
     "execution_count": 1,
     "metadata": {},
     "output_type": "execute_result"
    }
   ],
   "source": [
    "qc.config.current_config"
   ]
  },
  {
   "cell_type": "code",
   "execution_count": 3,
   "metadata": {
    "execution": {
     "iopub.execute_input": "2021-03-24T09:04:13.638652Z",
     "iopub.status.busy": "2021-03-24T09:04:13.637650Z",
     "iopub.status.idle": "2021-03-24T09:04:13.649628Z",
     "shell.execute_reply": "2021-03-24T09:04:13.650154Z"
    }
   },
   "outputs": [
    {
     "data": {
      "text/plain": [
       "{'core': {'default_fmt': 'data/{date}/#{counter}_{name}_{time}',\n",
       "  'register_magic': True,\n",
       "  'import_legacy_api': False,\n",
       "  'db_location': '~/experiments.db',\n",
       "  'db_debug': False,\n",
       "  'loglevel': 'WARNING',\n",
       "  'file_loglevel': 'INFO'},\n",
       " 'logger': {'start_logging_on_import': 'if_telemetry_set_up',\n",
       "  'console_level': 'WARNING',\n",
       "  'file_level': 'INFO',\n",
       "  'logger_levels': {'pyvisa': 'INFO'}},\n",
       " 'subscription': {'subscribers': {'QCPlot': {'factory': 'qcplotutils.qcodes_dataset.QCPlotDatasetSubscriber',\n",
       "    'factory_kwargs': {'log': False},\n",
       "    'subscription_kwargs': {'min_wait': 0,\n",
       "     'min_count': 1,\n",
       "     'callback_kwargs': {}}}},\n",
       "  'default_subscribers': []},\n",
       " 'gui': {'notebook': True,\n",
       "  'plotlib': None,\n",
       "  'pyqtmaxplots': 100,\n",
       "  'defaultcolormap': 'hot'},\n",
       " 'plotting': {'default_color_map': 'viridis',\n",
       "  'rasterize_threshold': 5000,\n",
       "  'auto_color_scale': {'enabled': False,\n",
       "   'cutoff_percentile': [0.5, 0.5],\n",
       "   'color_over': '#a1c4fc',\n",
       "   'color_under': '#017000'}},\n",
       " 'user': {'scriptfolder': '.', 'mainfolder': '.'},\n",
       " 'station': {'enable_forced_reconnect': False,\n",
       "  'default_folder': '.',\n",
       "  'default_file': None,\n",
       "  'use_monitor': False},\n",
       " 'GUID_components': {'location': 0, 'work_station': 0, 'sample': 0},\n",
       " 'dataset': {'write_in_background': False,\n",
       "  'write_period': 5.0,\n",
       "  'dond_plot': False,\n",
       "  'dond_show_progress': False,\n",
       "  'export_automatic': False,\n",
       "  'export_type': None,\n",
       "  'export_prefix': 'qcodes_',\n",
       "  'export_path': '~'},\n",
       " 'telemetry': {'enabled': False,\n",
       "  'instrumentation_key': '00000000-0000-0000-0000-000000000000'}}"
      ]
     },
     "execution_count": 1,
     "metadata": {},
     "output_type": "execute_result"
    }
   ],
   "source": [
    "qc.config.defaults"
   ]
  },
  {
   "cell_type": "markdown",
   "metadata": {},
   "source": [
    "One can inspect what the configuration options mean at runtime"
   ]
  },
  {
   "cell_type": "code",
   "execution_count": 4,
   "metadata": {
    "execution": {
     "iopub.execute_input": "2021-03-24T09:04:13.659521Z",
     "iopub.status.busy": "2021-03-24T09:04:13.654849Z",
     "iopub.status.idle": "2021-03-24T09:04:13.671414Z",
     "shell.execute_reply": "2021-03-24T09:04:13.671946Z"
    }
   },
   "outputs": [
    {
     "name": "stdout",
     "output_type": "stream",
     "text": [
      "controls core settings of qcodes.\n",
      "Current value: {'default_fmt': 'data/{date}/#{counter}_{name}_{time}', 'register_magic': True, 'import_legacy_api': False, 'db_location': '~/experiments.db', 'db_debug': False, 'loglevel': 'WARNING', 'file_loglevel': 'INFO'}. Type: object. Default: Not defined.\n"
     ]
    }
   ],
   "source": [
    "print(qc.config.describe('core'))"
   ]
  },
  {
   "cell_type": "markdown",
   "metadata": {},
   "source": [
    "## Configuring QCoDeS"
   ]
  },
  {
   "cell_type": "markdown",
   "metadata": {},
   "source": [
    "Defaults are the settings that are shipped with the package, which you can overwrite programmatically."
   ]
  },
  {
   "cell_type": "markdown",
   "metadata": {},
   "source": [
    "A way to customize QCoDeS is to write your own JSON files, they are expected to be in the directories printed below.\n",
    "One will be empty because one needs to define first the environment variable in the OS.\n",
    "\n",
    "They are ordered by \"weight\", meaning that the last file always wins if it's overwriting any preconfigured defaults or values in the other files.\n",
    "\n",
    "Simply copy the file to the directories and you are good to go."
   ]
  },
  {
   "cell_type": "code",
   "execution_count": 5,
   "metadata": {
    "execution": {
     "iopub.execute_input": "2021-03-24T09:04:13.683682Z",
     "iopub.status.busy": "2021-03-24T09:04:13.679100Z",
     "iopub.status.idle": "2021-03-24T09:04:13.693168Z",
     "shell.execute_reply": "2021-03-24T09:04:13.693938Z"
    }
   },
   "outputs": [
    {
     "name": "stdout",
     "output_type": "stream",
     "text": [
      "/home/runner/qcodesrc.json\n",
      "\n",
      "/home/runner/work/Qcodes/Qcodes/docs/examples/qcodesrc.json\n"
     ]
    }
   ],
   "source": [
    "print(\"\\n\".join([qc.config.home_file_name, qc.config.env_file_name, qc.config.cwd_file_name]))"
   ]
  },
  {
   "cell_type": "markdown",
   "metadata": {},
   "source": [
    "The easiest way to add something to the configuration is to use the provided helper:"
   ]
  },
  {
   "cell_type": "code",
   "execution_count": 6,
   "metadata": {
    "execution": {
     "iopub.execute_input": "2021-03-24T09:04:13.702391Z",
     "iopub.status.busy": "2021-03-24T09:04:13.701390Z",
     "iopub.status.idle": "2021-03-24T09:04:13.719730Z",
     "shell.execute_reply": "2021-03-24T09:04:13.718865Z"
    }
   },
   "outputs": [],
   "source": [
    "qc.config.add(\"base_location\", \"/dev/random\", value_type=\"string\", description=\"Location of data\", default=\"/dev/random\")"
   ]
  },
  {
   "cell_type": "markdown",
   "metadata": {},
   "source": [
    "This will add a `base_location` with value `/dev/random` to the current configuration, and validate it's value to be of type string, will also set the description and what one would want to have as default.\n",
    "The new entry is saved in the 'user' part of the configuration."
   ]
  },
  {
   "cell_type": "code",
   "execution_count": 7,
   "metadata": {
    "execution": {
     "iopub.execute_input": "2021-03-24T09:04:13.724994Z",
     "iopub.status.busy": "2021-03-24T09:04:13.723509Z",
     "iopub.status.idle": "2021-03-24T09:04:13.740379Z",
     "shell.execute_reply": "2021-03-24T09:04:13.739794Z"
    }
   },
   "outputs": [
    {
     "name": "stdout",
     "output_type": "stream",
     "text": [
      "Location of data.\n",
      "Current value: /dev/random. Type: string. Default: /dev/random.\n"
     ]
    }
   ],
   "source": [
    "print(qc.config.describe('user.base_location'))"
   ]
  },
  {
   "cell_type": "markdown",
   "metadata": {},
   "source": [
    "You can also manually update the configuration from a specific file by supplying the path of the directory as the argument of `qc.config.update_config` method as follows: "
   ]
  },
  {
   "cell_type": "code",
   "execution_count": 8,
   "metadata": {
    "execution": {
     "iopub.execute_input": "2021-03-24T09:04:13.753569Z",
     "iopub.status.busy": "2021-03-24T09:04:13.752645Z",
     "iopub.status.idle": "2021-03-24T09:04:13.774685Z",
     "shell.execute_reply": "2021-03-24T09:04:13.773515Z"
    }
   },
   "outputs": [
    {
     "data": {
      "text/plain": [
       "{'core': {'default_fmt': 'data/{date}/#{counter}_{name}_{time}',\n",
       "  'register_magic': True,\n",
       "  'import_legacy_api': False,\n",
       "  'db_location': '~/experiments.db',\n",
       "  'db_debug': False,\n",
       "  'loglevel': 'WARNING',\n",
       "  'file_loglevel': 'INFO'},\n",
       " 'logger': {'start_logging_on_import': 'always',\n",
       "  'console_level': 'WARNING',\n",
       "  'file_level': 'INFO',\n",
       "  'logger_levels': {'pyvisa': 'INFO'}},\n",
       " 'subscription': {'subscribers': {'QCPlot': {'factory': 'qcplotutils.qcodes_dataset.QCPlotDatasetSubscriber',\n",
       "    'factory_kwargs': {'log': False},\n",
       "    'subscription_kwargs': {'min_wait': 0,\n",
       "     'min_count': 1,\n",
       "     'callback_kwargs': {}}}},\n",
       "  'default_subscribers': []},\n",
       " 'gui': {'notebook': True,\n",
       "  'plotlib': None,\n",
       "  'pyqtmaxplots': 100,\n",
       "  'defaultcolormap': 'hot'},\n",
       " 'plotting': {'default_color_map': 'viridis',\n",
       "  'rasterize_threshold': 5000,\n",
       "  'auto_color_scale': {'enabled': False,\n",
       "   'cutoff_percentile': [0.5, 0.5],\n",
       "   'color_over': '#a1c4fc',\n",
       "   'color_under': '#017000'}},\n",
       " 'user': {'scriptfolder': '.', 'mainfolder': '.'},\n",
       " 'station': {'enable_forced_reconnect': False,\n",
       "  'default_folder': '.',\n",
       "  'default_file': None,\n",
       "  'use_monitor': False},\n",
       " 'GUID_components': {'location': 0, 'work_station': 0, 'sample': 0},\n",
       " 'dataset': {'write_in_background': False,\n",
       "  'write_period': 5.0,\n",
       "  'dond_plot': False,\n",
       "  'dond_show_progress': False,\n",
       "  'export_automatic': False,\n",
       "  'export_type': None,\n",
       "  'export_prefix': 'qcodes_',\n",
       "  'export_path': '~'},\n",
       " 'telemetry': {'enabled': False,\n",
       "  'instrumentation_key': '00000000-0000-0000-0000-000000000000'}}"
      ]
     },
     "execution_count": 1,
     "metadata": {},
     "output_type": "execute_result"
    }
   ],
   "source": [
    "qc.config.update_config(path=\"C:\\\\Users\\\\jenielse\\\\\")"
   ]
  },
  {
   "cell_type": "markdown",
   "metadata": {},
   "source": [
    "## Saving changes"
   ]
  },
  {
   "cell_type": "markdown",
   "metadata": {},
   "source": [
    "All the changes made to the defaults are stored, and one can then decide to save them to the desired location."
   ]
  },
  {
   "cell_type": "code",
   "execution_count": 9,
   "metadata": {
    "execution": {
     "iopub.execute_input": "2021-03-24T09:04:13.783893Z",
     "iopub.status.busy": "2021-03-24T09:04:13.782675Z",
     "iopub.status.idle": "2021-03-24T09:04:13.795872Z",
     "shell.execute_reply": "2021-03-24T09:04:13.795304Z"
    }
   },
   "outputs": [
    {
     "name": "stdout",
     "output_type": "stream",
     "text": [
      "Help on method save_to_cwd in module qcodes.configuration.config:\n",
      "\n",
      "save_to_cwd() -> None method of qcodes.configuration.config.Config instance\n",
      "    Save config and schema to files in current working dir\n",
      "\n"
     ]
    }
   ],
   "source": [
    "help(qc.config.save_to_cwd)"
   ]
  },
  {
   "cell_type": "code",
   "execution_count": 10,
   "metadata": {
    "execution": {
     "iopub.execute_input": "2021-03-24T09:04:13.804163Z",
     "iopub.status.busy": "2021-03-24T09:04:13.803113Z",
     "iopub.status.idle": "2021-03-24T09:04:13.817099Z",
     "shell.execute_reply": "2021-03-24T09:04:13.816538Z"
    }
   },
   "outputs": [
    {
     "name": "stdout",
     "output_type": "stream",
     "text": [
      "Help on method save_to_env in module qcodes.configuration.config:\n",
      "\n",
      "save_to_env() -> None method of qcodes.configuration.config.Config instance\n",
      "    Save config and schema to files in path specified in env variable\n",
      "\n"
     ]
    }
   ],
   "source": [
    "help(qc.config.save_to_env)"
   ]
  },
  {
   "cell_type": "code",
   "execution_count": 11,
   "metadata": {
    "execution": {
     "iopub.execute_input": "2021-03-24T09:04:13.823553Z",
     "iopub.status.busy": "2021-03-24T09:04:13.821902Z",
     "iopub.status.idle": "2021-03-24T09:04:13.837492Z",
     "shell.execute_reply": "2021-03-24T09:04:13.836928Z"
    },
    "scrolled": true
   },
   "outputs": [
    {
     "name": "stdout",
     "output_type": "stream",
     "text": [
      "Help on method save_to_home in module qcodes.configuration.config:\n",
      "\n",
      "save_to_home() -> None method of qcodes.configuration.config.Config instance\n",
      "    Save config and schema to files in home dir\n",
      "\n"
     ]
    }
   ],
   "source": [
    "help(qc.config.save_to_home)"
   ]
  },
  {
   "cell_type": "markdown",
   "metadata": {},
   "source": [
    "### Using  a custom configured variable  in your experiment:\n",
    "\n",
    "Simply get the value you have set before with dot notation.\n",
    "For example:"
   ]
  },
  {
   "cell_type": "code",
   "execution_count": 12,
   "metadata": {
    "execution": {
     "iopub.execute_input": "2021-03-24T09:04:13.849867Z",
     "iopub.status.busy": "2021-03-24T09:04:13.841112Z",
     "iopub.status.idle": "2021-03-24T09:04:13.864052Z",
     "shell.execute_reply": "2021-03-24T09:04:13.863501Z"
    }
   },
   "outputs": [],
   "source": [
    "qc.config.add(\"base_location\", \"/dev/random\", value_type=\"string\", description=\"Location of data\", default=\"/dev/random\")"
   ]
  },
  {
   "cell_type": "code",
   "execution_count": 13,
   "metadata": {
    "execution": {
     "iopub.execute_input": "2021-03-24T09:04:13.869009Z",
     "iopub.status.busy": "2021-03-24T09:04:13.868349Z",
     "iopub.status.idle": "2021-03-24T09:04:14.013414Z",
     "shell.execute_reply": "2021-03-24T09:04:14.012805Z"
    }
   },
   "outputs": [
    {
     "ename": "AttributeError",
     "evalue": "module 'qcodes.data' has no attribute 'data_set'",
     "output_type": "error",
     "traceback": [
      "\u001b[0;31m---------------------------------------------------------------------------\u001b[0m",
      "\u001b[0;31mAttributeError\u001b[0m                            Traceback (most recent call last)",
      "\u001b[0;32m<ipython-input-1-b4c8871885bf>\u001b[0m in \u001b[0;36m<module>\u001b[0;34m\u001b[0m\n\u001b[1;32m      1\u001b[0m \u001b[0mloc_provider\u001b[0m \u001b[0;34m=\u001b[0m \u001b[0mqc\u001b[0m\u001b[0;34m.\u001b[0m\u001b[0mdata\u001b[0m\u001b[0;34m.\u001b[0m\u001b[0mlocation\u001b[0m\u001b[0;34m.\u001b[0m\u001b[0mFormatLocation\u001b[0m\u001b[0;34m(\u001b[0m\u001b[0mfmt\u001b[0m\u001b[0;34m=\u001b[0m\u001b[0mqc\u001b[0m\u001b[0;34m.\u001b[0m\u001b[0mconfig\u001b[0m\u001b[0;34m.\u001b[0m\u001b[0muser\u001b[0m\u001b[0;34m.\u001b[0m\u001b[0mbase_location\u001b[0m\u001b[0;34m)\u001b[0m\u001b[0;34m\u001b[0m\u001b[0;34m\u001b[0m\u001b[0m\n\u001b[0;32m----> 2\u001b[0;31m \u001b[0mqc\u001b[0m\u001b[0;34m.\u001b[0m\u001b[0mdata\u001b[0m\u001b[0;34m.\u001b[0m\u001b[0mdata_set\u001b[0m\u001b[0;34m.\u001b[0m\u001b[0mDataSet\u001b[0m\u001b[0;34m.\u001b[0m\u001b[0mlocation_provider\u001b[0m\u001b[0;34m=\u001b[0m\u001b[0mloc_provider\u001b[0m\u001b[0;34m\u001b[0m\u001b[0;34m\u001b[0m\u001b[0m\n\u001b[0m",
      "\u001b[0;31mAttributeError\u001b[0m: module 'qcodes.data' has no attribute 'data_set'"
     ]
    }
   ],
   "source": [
    "loc_provider = qc.data.location.FormatLocation(fmt=qc.config.user.base_location)\n",
    "qc.data.data_set.DataSet.location_provider=loc_provider  "
   ]
  },
  {
   "cell_type": "code",
   "execution_count": 14,
   "metadata": {
    "execution": {
     "iopub.execute_input": "2021-03-24T09:04:14.018320Z",
     "iopub.status.busy": "2021-03-24T09:04:14.017420Z",
     "iopub.status.idle": "2021-03-24T09:04:14.035495Z",
     "shell.execute_reply": "2021-03-24T09:04:14.036127Z"
    }
   },
   "outputs": [
    {
     "data": {
      "text/plain": [
       "{'scriptfolder': '.', 'mainfolder': '.', 'base_location': '/dev/random'}"
      ]
     },
     "execution_count": 1,
     "metadata": {},
     "output_type": "execute_result"
    }
   ],
   "source": [
    "qc.config.user"
   ]
  },
  {
   "cell_type": "markdown",
   "metadata": {},
   "source": [
    "##  Changing core"
   ]
  },
  {
   "cell_type": "markdown",
   "metadata": {},
   "source": [
    "One can change the core values at runtime, but there is no guarantee that they are going to be valid.\n",
    "Since user configuration shadows the default one that comes with QCoDeS, apply care when changing the values under `core` section. This section is, primarily, meant for the settings that are determined by QCoDeS core developers. "
   ]
  },
  {
   "cell_type": "code",
   "execution_count": 15,
   "metadata": {
    "execution": {
     "iopub.execute_input": "2021-03-24T09:04:14.058922Z",
     "iopub.status.busy": "2021-03-24T09:04:14.043481Z",
     "iopub.status.idle": "2021-03-24T09:04:14.062494Z",
     "shell.execute_reply": "2021-03-24T09:04:14.063352Z"
    }
   },
   "outputs": [],
   "source": [
    "qc.config.current_config.core.loglevel = 'INFO'"
   ]
  },
  {
   "cell_type": "markdown",
   "metadata": {},
   "source": [
    "But one can maunually validate via "
   ]
  },
  {
   "cell_type": "code",
   "execution_count": 16,
   "metadata": {
    "execution": {
     "iopub.execute_input": "2021-03-24T09:04:14.068193Z",
     "iopub.status.busy": "2021-03-24T09:04:14.067515Z",
     "iopub.status.idle": "2021-03-24T09:04:14.094544Z",
     "shell.execute_reply": "2021-03-24T09:04:14.093883Z"
    }
   },
   "outputs": [],
   "source": [
    "qc.config.validate()"
   ]
  },
  {
   "cell_type": "markdown",
   "metadata": {},
   "source": [
    "Which will raise an exception in case of bad inputs"
   ]
  },
  {
   "cell_type": "code",
   "execution_count": 17,
   "metadata": {
    "execution": {
     "iopub.execute_input": "2021-03-24T09:04:14.102715Z",
     "iopub.status.busy": "2021-03-24T09:04:14.102055Z",
     "iopub.status.idle": "2021-03-24T09:04:14.131402Z",
     "shell.execute_reply": "2021-03-24T09:04:14.132007Z"
    }
   },
   "outputs": [
    {
     "ename": "ValidationError",
     "evalue": "'YOLO' is not one of ['CRITICAL', 'ERROR', 'WARNING', 'INFO', 'DEBUG']\n\nFailed validating 'enum' in schema['properties']['core']['properties']['loglevel']:\n    {'default': 'DEBUG',\n     'description': 'deprecated - use logger.console_level',\n     'enum': ['CRITICAL', 'ERROR', 'WARNING', 'INFO', 'DEBUG'],\n     'type': 'string'}\n\nOn instance['core']['loglevel']:\n    'YOLO'",
     "output_type": "error",
     "traceback": [
      "\u001b[0;31m---------------------------------------------------------------------------\u001b[0m",
      "\u001b[0;31mValidationError\u001b[0m                           Traceback (most recent call last)",
      "\u001b[0;32m<ipython-input-1-42096b138c9d>\u001b[0m in \u001b[0;36m<module>\u001b[0;34m\u001b[0m\n\u001b[1;32m      1\u001b[0m \u001b[0mqc\u001b[0m\u001b[0;34m.\u001b[0m\u001b[0mconfig\u001b[0m\u001b[0;34m.\u001b[0m\u001b[0mcurrent_config\u001b[0m\u001b[0;34m.\u001b[0m\u001b[0mcore\u001b[0m\u001b[0;34m.\u001b[0m\u001b[0mloglevel\u001b[0m \u001b[0;34m=\u001b[0m \u001b[0;34m'YOLO'\u001b[0m\u001b[0;34m\u001b[0m\u001b[0;34m\u001b[0m\u001b[0m\n\u001b[0;32m----> 2\u001b[0;31m \u001b[0mqc\u001b[0m\u001b[0;34m.\u001b[0m\u001b[0mconfig\u001b[0m\u001b[0;34m.\u001b[0m\u001b[0mvalidate\u001b[0m\u001b[0;34m(\u001b[0m\u001b[0;34m)\u001b[0m\u001b[0;34m\u001b[0m\u001b[0;34m\u001b[0m\u001b[0m\n\u001b[0m\u001b[1;32m      3\u001b[0m \u001b[0;31m# NOTE that you how have a broken config!\u001b[0m\u001b[0;34m\u001b[0m\u001b[0;34m\u001b[0m\u001b[0;34m\u001b[0m\u001b[0m\n",
      "\u001b[0;32m/opt/hostedtoolcache/Python/3.7.10/x64/lib/python3.7/site-packages/qcodes/configuration/config.py\u001b[0m in \u001b[0;36mvalidate\u001b[0;34m(self, json_config, schema, extra_schema_path)\u001b[0m\n\u001b[1;32m    211\u001b[0m         \u001b[0;32melse\u001b[0m\u001b[0;34m:\u001b[0m\u001b[0;34m\u001b[0m\u001b[0;34m\u001b[0m\u001b[0m\n\u001b[1;32m    212\u001b[0m             \u001b[0;32mif\u001b[0m \u001b[0mjson_config\u001b[0m \u001b[0;32mis\u001b[0m \u001b[0;32mNone\u001b[0m \u001b[0;32mand\u001b[0m \u001b[0mschema\u001b[0m \u001b[0;32mis\u001b[0m \u001b[0;32mNone\u001b[0m\u001b[0;34m:\u001b[0m\u001b[0;34m\u001b[0m\u001b[0;34m\u001b[0m\u001b[0m\n\u001b[0;32m--> 213\u001b[0;31m                 \u001b[0mjsonschema\u001b[0m\u001b[0;34m.\u001b[0m\u001b[0mvalidate\u001b[0m\u001b[0;34m(\u001b[0m\u001b[0mself\u001b[0m\u001b[0;34m.\u001b[0m\u001b[0mcurrent_config\u001b[0m\u001b[0;34m,\u001b[0m \u001b[0mself\u001b[0m\u001b[0;34m.\u001b[0m\u001b[0mcurrent_schema\u001b[0m\u001b[0;34m)\u001b[0m\u001b[0;34m\u001b[0m\u001b[0;34m\u001b[0m\u001b[0m\n\u001b[0m\u001b[1;32m    214\u001b[0m             \u001b[0;32melse\u001b[0m\u001b[0;34m:\u001b[0m\u001b[0;34m\u001b[0m\u001b[0;34m\u001b[0m\u001b[0m\n\u001b[1;32m    215\u001b[0m                 \u001b[0mjsonschema\u001b[0m\u001b[0;34m.\u001b[0m\u001b[0mvalidate\u001b[0m\u001b[0;34m(\u001b[0m\u001b[0mjson_config\u001b[0m\u001b[0;34m,\u001b[0m \u001b[0mschema\u001b[0m\u001b[0;34m)\u001b[0m\u001b[0;34m\u001b[0m\u001b[0;34m\u001b[0m\u001b[0m\n",
      "\u001b[0;32m/opt/hostedtoolcache/Python/3.7.10/x64/lib/python3.7/site-packages/jsonschema/validators.py\u001b[0m in \u001b[0;36mvalidate\u001b[0;34m(instance, schema, cls, *args, **kwargs)\u001b[0m\n\u001b[1;32m    932\u001b[0m     \u001b[0merror\u001b[0m \u001b[0;34m=\u001b[0m \u001b[0mexceptions\u001b[0m\u001b[0;34m.\u001b[0m\u001b[0mbest_match\u001b[0m\u001b[0;34m(\u001b[0m\u001b[0mvalidator\u001b[0m\u001b[0;34m.\u001b[0m\u001b[0miter_errors\u001b[0m\u001b[0;34m(\u001b[0m\u001b[0minstance\u001b[0m\u001b[0;34m)\u001b[0m\u001b[0;34m)\u001b[0m\u001b[0;34m\u001b[0m\u001b[0;34m\u001b[0m\u001b[0m\n\u001b[1;32m    933\u001b[0m     \u001b[0;32mif\u001b[0m \u001b[0merror\u001b[0m \u001b[0;32mis\u001b[0m \u001b[0;32mnot\u001b[0m \u001b[0;32mNone\u001b[0m\u001b[0;34m:\u001b[0m\u001b[0;34m\u001b[0m\u001b[0;34m\u001b[0m\u001b[0m\n\u001b[0;32m--> 934\u001b[0;31m         \u001b[0;32mraise\u001b[0m \u001b[0merror\u001b[0m\u001b[0;34m\u001b[0m\u001b[0;34m\u001b[0m\u001b[0m\n\u001b[0m\u001b[1;32m    935\u001b[0m \u001b[0;34m\u001b[0m\u001b[0m\n\u001b[1;32m    936\u001b[0m \u001b[0;34m\u001b[0m\u001b[0m\n",
      "\u001b[0;31mValidationError\u001b[0m: 'YOLO' is not one of ['CRITICAL', 'ERROR', 'WARNING', 'INFO', 'DEBUG']\n\nFailed validating 'enum' in schema['properties']['core']['properties']['loglevel']:\n    {'default': 'DEBUG',\n     'description': 'deprecated - use logger.console_level',\n     'enum': ['CRITICAL', 'ERROR', 'WARNING', 'INFO', 'DEBUG'],\n     'type': 'string'}\n\nOn instance['core']['loglevel']:\n    'YOLO'"
     ]
    }
   ],
   "source": [
    "qc.config.current_config.core.loglevel = 'YOLO'\n",
    "qc.config.validate()\n",
    "# NOTE that you how have a broken config! "
   ]
  }
 ],
 "metadata": {
  "kernelspec": {
   "display_name": "Python 3",
   "language": "python",
   "name": "python3"
  },
  "language_info": {
   "codemirror_mode": {
    "name": "ipython",
    "version": 3
   },
   "file_extension": ".py",
   "mimetype": "text/x-python",
   "name": "python",
   "nbconvert_exporter": "python",
   "pygments_lexer": "ipython3",
   "version": "3.7.10"
  },
  "nbsphinx": {
   "allow_errors": true
  }
 },
 "nbformat": 4,
 "nbformat_minor": 1
}
