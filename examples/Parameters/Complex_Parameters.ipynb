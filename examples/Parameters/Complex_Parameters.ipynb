{
 "cells": [
  {
   "cell_type": "markdown",
   "metadata": {},
   "source": [
    "# Complex Numbers\n",
    "\n",
    "QCoDeS natively supports complex numbers via the complex datatypes of `numpy`."
   ]
  },
  {
   "cell_type": "code",
   "execution_count": 1,
   "metadata": {
    "execution": {
     "iopub.execute_input": "2021-01-08T07:23:49.674808Z",
     "iopub.status.busy": "2021-01-08T07:23:49.674289Z",
     "iopub.status.idle": "2021-01-08T07:23:49.731405Z",
     "shell.execute_reply": "2021-01-08T07:23:49.731984Z"
    }
   },
   "outputs": [],
   "source": [
    "import numpy as np"
   ]
  },
  {
   "cell_type": "markdown",
   "metadata": {},
   "source": [
    "## Complex-valued parameters\n",
    "\n",
    "QCoDeS parameters can take complex values. There are two types of complex-valued parameters: scalar-valued parameters and array-valued parameters."
   ]
  },
  {
   "cell_type": "markdown",
   "metadata": {},
   "source": [
    "### Scalar-valued parameters\n",
    "\n",
    "Let us create a complex-valued parameter and `set` and `get` values for it. An example that one might encounter in physics is the complex impedance.\n",
    "\n",
    "For any QCoDeS parameter, it holds that adding **input validation** is a good idea. Complex parameters are no exception. We therefore use the `ComplexNumbers` validator with our complex parameter."
   ]
  },
  {
   "cell_type": "code",
   "execution_count": 2,
   "metadata": {
    "execution": {
     "iopub.execute_input": "2021-01-08T07:23:49.734866Z",
     "iopub.status.busy": "2021-01-08T07:23:49.734110Z",
     "iopub.status.idle": "2021-01-08T07:23:50.557523Z",
     "shell.execute_reply": "2021-01-08T07:23:50.558000Z"
    }
   },
   "outputs": [
    {
     "name": "stdout",
     "output_type": "stream",
     "text": [
      "Logging hadn't been started.\n",
      "Activating auto-logging. Current session state plus future input saved.\n",
      "Filename       : /home/vsts/.qcodes/logs/command_history.log\n",
      "Mode           : append\n",
      "Output logging : True\n",
      "Raw input log  : False\n",
      "Timestamping   : True\n",
      "State          : active\n"
     ]
    },
    {
     "name": "stdout",
     "output_type": "stream",
     "text": [
      "Qcodes Logfile : /home/vsts/.qcodes/logs/210108-16262-qcodes.log\n"
     ]
    }
   ],
   "source": [
    "from qcodes.instrument.parameter import Parameter\n",
    "from qcodes.utils.validators import ComplexNumbers"
   ]
  },
  {
   "cell_type": "code",
   "execution_count": 3,
   "metadata": {
    "execution": {
     "iopub.execute_input": "2021-01-08T07:23:50.561615Z",
     "iopub.status.busy": "2021-01-08T07:23:50.560844Z",
     "iopub.status.idle": "2021-01-08T07:23:50.565033Z",
     "shell.execute_reply": "2021-01-08T07:23:50.564545Z"
    }
   },
   "outputs": [],
   "source": [
    "imp = Parameter(name='imp',\n",
    "                label='Impedance',\n",
    "                unit='Ohm',\n",
    "                initial_value=50+0j,\n",
    "                set_cmd=None,\n",
    "                get_cmd=None,\n",
    "                vals=ComplexNumbers())"
   ]
  },
  {
   "cell_type": "markdown",
   "metadata": {},
   "source": [
    "The `ComplexNumbers` validator requires explicitly complex values. `float`s and `int`s will *not* pass."
   ]
  },
  {
   "cell_type": "code",
   "execution_count": 4,
   "metadata": {
    "execution": {
     "iopub.execute_input": "2021-01-08T07:23:50.569947Z",
     "iopub.status.busy": "2021-01-08T07:23:50.569400Z",
     "iopub.status.idle": "2021-01-08T07:23:50.571785Z",
     "shell.execute_reply": "2021-01-08T07:23:50.572214Z"
    }
   },
   "outputs": [
    {
     "name": "stdout",
     "output_type": "stream",
     "text": [
      "Sorry, but 1.0 is not complex\n",
      "Sorry, but -1.0 is not complex\n",
      "Sorry, but 8.2 is not complex\n",
      "Sorry, but 3.141592653589793 is not complex\n"
     ]
    }
   ],
   "source": [
    "for value in np.array([1, -1, 8.2, np.pi]):\n",
    "    try:\n",
    "        imp(value)\n",
    "        print(f'Succesfully set the parameter to {value}')\n",
    "    except TypeError:\n",
    "        print(f'Sorry, but {value} is not complex')"
   ]
  },
  {
   "cell_type": "markdown",
   "metadata": {},
   "source": [
    "The easiest way to make a scalar value complex is probably by adding `0j` to it."
   ]
  },
  {
   "cell_type": "code",
   "execution_count": 5,
   "metadata": {
    "execution": {
     "iopub.execute_input": "2021-01-08T07:23:50.576139Z",
     "iopub.status.busy": "2021-01-08T07:23:50.575728Z",
     "iopub.status.idle": "2021-01-08T07:23:50.577771Z",
     "shell.execute_reply": "2021-01-08T07:23:50.578170Z"
    }
   },
   "outputs": [
    {
     "name": "stdout",
     "output_type": "stream",
     "text": [
      "Succesfully set the parameter to (1+0j)\n",
      "Succesfully set the parameter to (-1+0j)\n",
      "Succesfully set the parameter to (8.2+0j)\n",
      "Succesfully set the parameter to (3.141592653589793+0j)\n"
     ]
    }
   ],
   "source": [
    "for value in np.array([1, -1, 8.2, np.pi]) + 0j:\n",
    "    try:\n",
    "        imp(value)\n",
    "        print(f'Succesfully set the parameter to {value}')\n",
    "    except TypeError:\n",
    "        print(f'Sorry, but {value} is not complex')"
   ]
  },
  {
   "cell_type": "markdown",
   "metadata": {},
   "source": [
    "### Array-valued parameters\n",
    "\n",
    "There is no separate complex-valued array validator, since the `Arrays` validator can be customized to cover any real or complex valued case.\n",
    "\n",
    "Let's make a little array to hold some quantum state amplitudes. Let's pretend to be in a 5-dimensional Hilbert space. Our state parameter should thus hold 5 complex numbers (the state expansion coefficients in some implicit basis)."
   ]
  },
  {
   "cell_type": "code",
   "execution_count": 6,
   "metadata": {
    "execution": {
     "iopub.execute_input": "2021-01-08T07:23:50.581430Z",
     "iopub.status.busy": "2021-01-08T07:23:50.580673Z",
     "iopub.status.idle": "2021-01-08T07:23:50.583933Z",
     "shell.execute_reply": "2021-01-08T07:23:50.583414Z"
    }
   },
   "outputs": [],
   "source": [
    "from qcodes.utils.validators import Arrays"
   ]
  },
  {
   "cell_type": "markdown",
   "metadata": {},
   "source": [
    "The proper validator should accept complex numbers and should reject anything of the wrong shape. Note that we get to decide whether we want to accept \"non-strictly complex\" data."
   ]
  },
  {
   "cell_type": "code",
   "execution_count": 7,
   "metadata": {
    "execution": {
     "iopub.execute_input": "2021-01-08T07:23:50.589608Z",
     "iopub.status.busy": "2021-01-08T07:23:50.589179Z",
     "iopub.status.idle": "2021-01-08T07:23:50.591470Z",
     "shell.execute_reply": "2021-01-08T07:23:50.591079Z"
    }
   },
   "outputs": [],
   "source": [
    "amps_val_strict = Arrays(shape=(5,), valid_types=(np.complex,))\n",
    "amps_val_lax = Arrays(shape=(5,), valid_types=(np.complex, np.float, np.int))"
   ]
  },
  {
   "cell_type": "markdown",
   "metadata": {},
   "source": [
    "The strict validator is strict:"
   ]
  },
  {
   "cell_type": "code",
   "execution_count": 8,
   "metadata": {
    "execution": {
     "iopub.execute_input": "2021-01-08T07:23:50.595302Z",
     "iopub.status.busy": "2021-01-08T07:23:50.593854Z",
     "iopub.status.idle": "2021-01-08T07:23:50.597140Z",
     "shell.execute_reply": "2021-01-08T07:23:50.597515Z"
    }
   },
   "outputs": [
    {
     "name": "stdout",
     "output_type": "stream",
     "text": [
      "Sorry, but integers are not strictly complex\n",
      "Sorry, but floats are not strictly complex\n"
     ]
    }
   ],
   "source": [
    "try:\n",
    "    amps_val_strict.validate(np.array([1, 2, 3, 4, 5]))\n",
    "except TypeError:\n",
    "    print('Sorry, but integers are not strictly complex')\n",
    "    \n",
    "try:\n",
    "    amps_val_strict.validate(np.array([1.0, 2.0, 3.0, 4.0, 5.0]))\n",
    "except TypeError:\n",
    "    print('Sorry, but floats are not strictly complex')"
   ]
  },
  {
   "cell_type": "markdown",
   "metadata": {},
   "source": [
    "But note, that the presence of a single imaginary part will cast the whole array as complex:"
   ]
  },
  {
   "cell_type": "code",
   "execution_count": 9,
   "metadata": {
    "execution": {
     "iopub.execute_input": "2021-01-08T07:23:50.602439Z",
     "iopub.status.busy": "2021-01-08T07:23:50.601333Z",
     "iopub.status.idle": "2021-01-08T07:23:50.603313Z",
     "shell.execute_reply": "2021-01-08T07:23:50.603681Z"
    }
   },
   "outputs": [
    {
     "name": "stdout",
     "output_type": "stream",
     "text": [
      "[1.+0.j 2.+0.j 3.+0.j 4.+0.j 5.+0.j]\n",
      "complex128\n",
      "Yeah, those are complex numbers\n"
     ]
    }
   ],
   "source": [
    "my_array = np.array([1.0 + 0j, 2.0, 3.0, 4.0, 5.0])\n",
    "print(my_array)\n",
    "print(my_array.dtype)\n",
    "amps_val_strict.validate(np.array([1.0 + 0j, 2.0, 3.0, 4.0, 5.0]))\n",
    "print('Yeah, those are complex numbers')"
   ]
  },
  {
   "cell_type": "markdown",
   "metadata": {},
   "source": [
    "The lax validator let's everything through:"
   ]
  },
  {
   "cell_type": "code",
   "execution_count": 10,
   "metadata": {
    "execution": {
     "iopub.execute_input": "2021-01-08T07:23:50.607282Z",
     "iopub.status.busy": "2021-01-08T07:23:50.606908Z",
     "iopub.status.idle": "2021-01-08T07:23:50.608689Z",
     "shell.execute_reply": "2021-01-08T07:23:50.608279Z"
    }
   },
   "outputs": [],
   "source": [
    "amps_val_lax.validate(np.array([1, 2, 3, 4, 5]))\n",
    "amps_val_lax.validate(np.array([1.0, 2.0, 3.0, 4.0, 5.0]))\n",
    "amps_val_lax.validate(np.array([1.0 + 0j, 2, 3, 4, 5]))"
   ]
  },
  {
   "cell_type": "markdown",
   "metadata": {},
   "source": [
    "We can use either validator for the parameter."
   ]
  },
  {
   "cell_type": "code",
   "execution_count": 11,
   "metadata": {
    "execution": {
     "iopub.execute_input": "2021-01-08T07:23:50.613053Z",
     "iopub.status.busy": "2021-01-08T07:23:50.611962Z",
     "iopub.status.idle": "2021-01-08T07:23:50.613496Z",
     "shell.execute_reply": "2021-01-08T07:23:50.613918Z"
    }
   },
   "outputs": [],
   "source": [
    "amplitudes = Parameter(name='amplitudes',\n",
    "                       label='Amplitudes',\n",
    "                       unit='',\n",
    "                       set_cmd=None,\n",
    "                       get_cmd=None,\n",
    "                       vals=amps_val_strict,\n",
    "                       initial_value=(1/np.sqrt(2)*np.array([1+1j, 0, 0, 0, 0])))"
   ]
  },
  {
   "cell_type": "code",
   "execution_count": 12,
   "metadata": {
    "execution": {
     "iopub.execute_input": "2021-01-08T07:23:50.623721Z",
     "iopub.status.busy": "2021-01-08T07:23:50.623205Z",
     "iopub.status.idle": "2021-01-08T07:23:50.625486Z",
     "shell.execute_reply": "2021-01-08T07:23:50.625913Z"
    }
   },
   "outputs": [
    {
     "data": {
      "text/plain": [
       "array([0.70710678+0.70710678j, 0.        +0.j        ,\n",
       "       0.        +0.j        , 0.        +0.j        ,\n",
       "       0.        +0.j        ])"
      ]
     },
     "execution_count": 1,
     "metadata": {},
     "output_type": "execute_result"
    }
   ],
   "source": [
    "amplitudes()"
   ]
  },
  {
   "cell_type": "code",
   "execution_count": 13,
   "metadata": {
    "execution": {
     "iopub.execute_input": "2021-01-08T07:23:50.630102Z",
     "iopub.status.busy": "2021-01-08T07:23:50.629301Z",
     "iopub.status.idle": "2021-01-08T07:23:50.631025Z",
     "shell.execute_reply": "2021-01-08T07:23:50.631442Z"
    }
   },
   "outputs": [],
   "source": [
    "amplitudes(1/np.sqrt(2)*np.array([0, 1+1j, 0, 0, 0]))"
   ]
  },
  {
   "cell_type": "code",
   "execution_count": null,
   "metadata": {},
   "outputs": [],
   "source": []
  }
 ],
 "metadata": {
  "kernelspec": {
   "display_name": "Python 3",
   "language": "python",
   "name": "python3"
  },
  "language_info": {
   "codemirror_mode": {
    "name": "ipython",
    "version": 3
   },
   "file_extension": ".py",
   "mimetype": "text/x-python",
   "name": "python",
   "nbconvert_exporter": "python",
   "pygments_lexer": "ipython3",
   "version": "3.7.9"
  },
  "toc": {
   "base_numbering": 1,
   "nav_menu": {},
   "number_sections": true,
   "sideBar": true,
   "skip_h1_title": false,
   "title_cell": "Table of Contents",
   "title_sidebar": "Contents",
   "toc_cell": false,
   "toc_position": {},
   "toc_section_display": true,
   "toc_window_display": false
  },
  "varInspector": {
   "cols": {
    "lenName": 16,
    "lenType": 16,
    "lenVar": 40
   },
   "kernels_config": {
    "python": {
     "delete_cmd_postfix": "",
     "delete_cmd_prefix": "del ",
     "library": "var_list.py",
     "varRefreshCmd": "print(var_dic_list())"
    },
    "r": {
     "delete_cmd_postfix": ") ",
     "delete_cmd_prefix": "rm(",
     "library": "var_list.r",
     "varRefreshCmd": "cat(var_dic_list()) "
    }
   },
   "types_to_exclude": [
    "module",
    "function",
    "builtin_function_or_method",
    "instance",
    "_Feature"
   ],
   "window_display": false
  }
 },
 "nbformat": 4,
 "nbformat_minor": 2
}
