{
 "cells": [
  {
   "cell_type": "markdown",
   "execution_count": 1,
   "metadata": {},
   "source": [
    "# Simple Example of ParameterWithSetpoints\n",
    "This notebook provides an example for writing a simple driver with a parameter that has setpoints. Let's name this parameter that has setpoints as \"y\". Then, the setpoints, say \"x1, x2, x3 ..\", are the parameters on which the parameter \n",
    "\"y\" depends upon. Meaning \"y\" is a function of \"x1, x2, x3 ...\" where \"x1, x2, x3 ...\" are known as the setpoints of parameter \"y\".\n",
    "\n",
    "This is most likely to be useful for instruments that return arrays of results. In this notebook, we will show an example of this."
   ]
  },
  {
   "cell_type": "code",
   "execution_count": 1,
   "metadata": {
    "execution": {
     "iopub.execute_input": "2020-09-14T11:36:30.544308Z",
     "iopub.status.busy": "2020-09-14T11:36:30.543556Z",
     "iopub.status.idle": "2020-09-14T11:36:30.643900Z",
     "shell.execute_reply": "2020-09-14T11:36:30.644339Z"
    }
   },
   "outputs": [],
   "source": [
    "import numpy as np\n",
    "import os"
   ]
  },
  {
   "cell_type": "code",
   "execution_count": 2,
   "metadata": {
    "execution": {
     "iopub.execute_input": "2020-09-14T11:36:30.648501Z",
     "iopub.status.busy": "2020-09-14T11:36:30.647886Z",
     "iopub.status.idle": "2020-09-14T11:36:31.793807Z",
     "shell.execute_reply": "2020-09-14T11:36:31.794238Z"
    }
   },
   "outputs": [
    {
     "name": "stdout",
     "output_type": "stream",
     "text": [
      "Logging hadn't been started.\n",
      "Activating auto-logging. Current session state plus future input saved.\n",
      "Filename       : /home/vsts/.qcodes/logs/command_history.log\n",
      "Mode           : append\n",
      "Output logging : True\n",
      "Raw input log  : False\n",
      "Timestamping   : True\n",
      "State          : active\n"
     ]
    },
    {
     "name": "stdout",
     "output_type": "stream",
     "text": [
      "Qcodes Logfile : /home/vsts/.qcodes/logs/200914-21929-qcodes.log\n"
     ]
    }
   ],
   "source": [
    "from qcodes.dataset.plotting import plot_dataset\n",
    "from qcodes.utils.validators import Numbers, Arrays\n",
    "from qcodes.instrument.base import Instrument\n",
    "from qcodes.dataset.measurements import Measurement"
   ]
  },
  {
   "cell_type": "code",
   "execution_count": 3,
   "metadata": {
    "execution": {
     "iopub.execute_input": "2020-09-14T11:36:31.798447Z",
     "iopub.status.busy": "2020-09-14T11:36:31.797934Z",
     "iopub.status.idle": "2020-09-14T11:36:31.801413Z",
     "shell.execute_reply": "2020-09-14T11:36:31.800933Z"
    }
   },
   "outputs": [],
   "source": [
    "from qcodes.dataset.sqlite.database import initialise_or_create_database_at\n",
    "from qcodes.dataset.experiment_container import load_or_create_experiment"
   ]
  },
  {
   "cell_type": "code",
   "execution_count": 4,
   "metadata": {
    "execution": {
     "iopub.execute_input": "2020-09-14T11:36:31.806013Z",
     "iopub.status.busy": "2020-09-14T11:36:31.804651Z",
     "iopub.status.idle": "2020-09-14T11:36:31.806712Z",
     "shell.execute_reply": "2020-09-14T11:36:31.807244Z"
    }
   },
   "outputs": [],
   "source": [
    "from qcodes.instrument.parameter import ParameterWithSetpoints, Parameter\n",
    "from qcodes.instrument.parameter import expand_setpoints_helper"
   ]
  },
  {
   "cell_type": "markdown",
   "execution_count": 5,
   "metadata": {},
   "source": [
    "First, we define a dummy instrument that returns something like a frequency spectrum starting from a frequency given by `f_start` to a frequency given by `f_stop` in `n_points` steps. \n",
    "\n",
    "The extra functionality of the `ParameterWithSetpoints` is implemented by giving it a reference to one or more parameters that acts like its setpoints. \n",
    "\n",
    "To setup a `ParameterWithSetpoints` we have to do two things in addition to what we do for a normal parameter.\n",
    "\n",
    "* Define one or more parameter for the setpoints (one for each dimension of the array and let the `ParameterWithSetpoints` know that these are the setpoints.\n",
    "* Give both the setpoints parameter(s) and the `ParameterWithSetpoints` a `validator` of type `Arrays` with a shape. The shapes should be such that the combined shape of the setpoints matches the shape of the `ParameterWithSetpoints`. Note that if the shape changes with the setting of the instrument, it can be defined by another parameter as shown below. "
   ]
  },
  {
   "cell_type": "code",
   "execution_count": 5,
   "metadata": {
    "execution": {
     "iopub.execute_input": "2020-09-14T11:36:31.817431Z",
     "iopub.status.busy": "2020-09-14T11:36:31.814753Z",
     "iopub.status.idle": "2020-09-14T11:36:31.819412Z",
     "shell.execute_reply": "2020-09-14T11:36:31.818971Z"
    }
   },
   "outputs": [],
   "source": [
    "class GeneratedSetPoints(Parameter):\n",
    "    \"\"\"\n",
    "    A parameter that generates a setpoint array from start, stop and num points\n",
    "    parameters.\n",
    "    \"\"\"\n",
    "    def __init__(self, startparam, stopparam, numpointsparam, *args, **kwargs):\n",
    "        super().__init__(*args, **kwargs)\n",
    "        self._startparam = startparam\n",
    "        self._stopparam = stopparam\n",
    "        self._numpointsparam = numpointsparam\n",
    "\n",
    "    def get_raw(self):\n",
    "        return np.linspace(self._startparam(), self._stopparam(),\n",
    "                              self._numpointsparam())\n",
    "\n",
    "class DummyArray(ParameterWithSetpoints):\n",
    "    \n",
    "    def get_raw(self):\n",
    "        npoints = self.root_instrument.n_points.get_latest()\n",
    "        return np.random.rand(npoints)\n",
    "    \n",
    "\n",
    "class DummySpectrumAnalyzer(Instrument):\n",
    "    \n",
    "    def __init__(self, name, **kwargs):\n",
    "        \n",
    "        super().__init__(name, **kwargs)\n",
    "            \n",
    "\n",
    "        self.add_parameter('f_start',\n",
    "                           initial_value=0,\n",
    "                           unit='Hz',\n",
    "                           label='f start',\n",
    "                           vals=Numbers(0,1e3),\n",
    "                           get_cmd=None,\n",
    "                           set_cmd=None)\n",
    "\n",
    "        self.add_parameter('f_stop',\n",
    "                           unit='Hz',\n",
    "                           label='f stop',\n",
    "                           vals=Numbers(1,1e3),\n",
    "                           get_cmd=None,\n",
    "                           set_cmd=None)\n",
    "\n",
    "        self.add_parameter('n_points',\n",
    "                           unit='',\n",
    "                           initial_value=10,\n",
    "                           vals=Numbers(1,1e3),\n",
    "                           get_cmd=None,\n",
    "                           set_cmd=None)\n",
    "        \n",
    "        self.add_parameter('freq_axis',\n",
    "                           unit='Hz',\n",
    "                           label='Freq Axis',\n",
    "                           parameter_class=GeneratedSetPoints,\n",
    "                           startparam=self.f_start,\n",
    "                           stopparam=self.f_stop,\n",
    "                           numpointsparam=self.n_points,\n",
    "                           vals=Arrays(shape=(self.n_points.get_latest,)))\n",
    "                           \n",
    "        self.add_parameter('spectrum',\n",
    "                   unit='dBm',\n",
    "                   setpoints=(self.freq_axis,),\n",
    "                   label='Spectrum',\n",
    "                   parameter_class=DummyArray,\n",
    "                   vals=Arrays(shape=(self.n_points.get_latest,)))\n",
    "                "
   ]
  },
  {
   "cell_type": "markdown",
   "execution_count": 6,
   "metadata": {},
   "source": [
    "In the above example, the shape is defined by the parameter `n_points` that defines how many samples our `DummySpectrumAnalyzer` returns.\n",
    "\n",
    "This means that the validation will call the function to get `n_points` twice for each `get` of the parameter. This may be too slow, however, if you (as the driver-writer) can guarantee that the cached value for `n_points` will never be out of sync with the value stored in the instrument, `n_points` may be replaced by it's latest known value such that the `validator` reads:\n",
    "```python\n",
    "vals=Arrays(shape=(self.n_points.get_latest))\n",
    "```\n",
    "\n",
    "This avoids any additional call to the instrument. In the same way, the arguments to the `freq_axis` parameter that defines the start, stop and number of points can be replaced by their latest value if the instrument allows it.\n",
    "\n"
   ]
  },
  {
   "cell_type": "code",
   "execution_count": 6,
   "metadata": {
    "execution": {
     "iopub.execute_input": "2020-09-14T11:36:31.823783Z",
     "iopub.status.busy": "2020-09-14T11:36:31.822947Z",
     "iopub.status.idle": "2020-09-14T11:36:31.903654Z",
     "shell.execute_reply": "2020-09-14T11:36:31.902795Z"
    }
   },
   "outputs": [
    {
     "name": "stdout",
     "output_type": "stream",
     "text": [
      "\r",
      "0it [00:00, ?it/s]"
     ]
    },
    {
     "name": "stdout",
     "output_type": "stream",
     "text": [
      "\r",
      "Upgrading database; v0 -> v1: : 0it [00:00, ?it/s]"
     ]
    },
    {
     "name": "stdout",
     "output_type": "stream",
     "text": [
      "\r",
      "Upgrading database; v0 -> v1: : 0it [00:00, ?it/s]"
     ]
    },
    {
     "name": "stdout",
     "output_type": "stream",
     "text": [
      "\n",
      "\r",
      "  0%|          | 0/1 [00:00<?, ?it/s]"
     ]
    },
    {
     "name": "stdout",
     "output_type": "stream",
     "text": [
      "\r",
      "Upgrading database; v1 -> v2:   0%|          | 0/1 [00:00<?, ?it/s]"
     ]
    },
    {
     "name": "stdout",
     "output_type": "stream",
     "text": [
      "\r",
      "Upgrading database; v1 -> v2: 100%|██████████| 1/1 [00:00<00:00, 352.11it/s]"
     ]
    },
    {
     "name": "stdout",
     "output_type": "stream",
     "text": [
      "\n",
      "\r",
      "0it [00:00, ?it/s]"
     ]
    },
    {
     "name": "stdout",
     "output_type": "stream",
     "text": [
      "\r",
      "Upgrading database; v2 -> v3: : 0it [00:00, ?it/s]"
     ]
    },
    {
     "name": "stdout",
     "output_type": "stream",
     "text": [
      "\r",
      "Upgrading database; v2 -> v3: : 0it [00:00, ?it/s]"
     ]
    },
    {
     "name": "stdout",
     "output_type": "stream",
     "text": [
      "\n",
      "\r",
      "0it [00:00, ?it/s]"
     ]
    },
    {
     "name": "stdout",
     "output_type": "stream",
     "text": [
      "\r",
      "Upgrading database; v3 -> v4: : 0it [00:00, ?it/s]"
     ]
    },
    {
     "name": "stdout",
     "output_type": "stream",
     "text": [
      "\r",
      "Upgrading database; v3 -> v4: : 0it [00:00, ?it/s]"
     ]
    },
    {
     "name": "stdout",
     "output_type": "stream",
     "text": [
      "\n",
      "\r",
      "  0%|          | 0/1 [00:00<?, ?it/s]"
     ]
    },
    {
     "name": "stdout",
     "output_type": "stream",
     "text": [
      "\r",
      "Upgrading database; v4 -> v5:   0%|          | 0/1 [00:00<?, ?it/s]"
     ]
    },
    {
     "name": "stdout",
     "output_type": "stream",
     "text": [
      "\r",
      "Upgrading database; v4 -> v5: 100%|██████████| 1/1 [00:00<00:00, 448.83it/s]"
     ]
    },
    {
     "name": "stdout",
     "output_type": "stream",
     "text": [
      "\n",
      "\r",
      "0it [00:00, ?it/s]"
     ]
    },
    {
     "name": "stdout",
     "output_type": "stream",
     "text": [
      "\r",
      "Upgrading database; v5 -> v6: : 0it [00:00, ?it/s]"
     ]
    },
    {
     "name": "stdout",
     "output_type": "stream",
     "text": [
      "\r",
      "Upgrading database; v5 -> v6: : 0it [00:00, ?it/s]"
     ]
    },
    {
     "name": "stdout",
     "output_type": "stream",
     "text": [
      "\n",
      "\r",
      "  0%|          | 0/1 [00:00<?, ?it/s]"
     ]
    },
    {
     "name": "stdout",
     "output_type": "stream",
     "text": [
      "\r",
      "Upgrading database; v6 -> v7:   0%|          | 0/1 [00:00<?, ?it/s]"
     ]
    },
    {
     "name": "stdout",
     "output_type": "stream",
     "text": [
      "\r",
      "Upgrading database; v6 -> v7: 100%|██████████| 1/1 [00:00<00:00, 363.27it/s]"
     ]
    },
    {
     "name": "stdout",
     "output_type": "stream",
     "text": [
      "\n",
      "\r",
      "  0%|          | 0/1 [00:00<?, ?it/s]"
     ]
    },
    {
     "name": "stdout",
     "output_type": "stream",
     "text": [
      "\r",
      "Upgrading database; v7 -> v8:   0%|          | 0/1 [00:00<?, ?it/s]"
     ]
    },
    {
     "name": "stdout",
     "output_type": "stream",
     "text": [
      "\r",
      "Upgrading database; v7 -> v8: 100%|██████████| 1/1 [00:00<00:00, 705.40it/s]"
     ]
    },
    {
     "name": "stdout",
     "output_type": "stream",
     "text": [
      "\n",
      "\r",
      "  0%|          | 0/1 [00:00<?, ?it/s]"
     ]
    },
    {
     "name": "stdout",
     "output_type": "stream",
     "text": [
      "\r",
      "Upgrading database; v8 -> v9:   0%|          | 0/1 [00:00<?, ?it/s]"
     ]
    },
    {
     "name": "stdout",
     "output_type": "stream",
     "text": [
      "\r",
      "Upgrading database; v8 -> v9: 100%|██████████| 1/1 [00:00<00:00, 339.51it/s]"
     ]
    },
    {
     "name": "stdout",
     "output_type": "stream",
     "text": [
      "\n"
     ]
    },
    {
     "data": {
      "text/plain": [
       "tutorial_ParameterWithSetpoints#no sample#1@/home/vsts/work/1/s/docs/examples/Parameters/tutorial_paramter_with_setpoints.db\n",
       "----------------------------------------------------------------------------------------------------------------------------"
      ]
     },
     "execution_count": 1,
     "metadata": {},
     "output_type": "execute_result"
    }
   ],
   "source": [
    "tutorial_db_path = os.path.join(os.getcwd(), 'tutorial_paramter_with_setpoints.db')\n",
    "initialise_or_create_database_at(tutorial_db_path)\n",
    "load_or_create_experiment(experiment_name='tutorial_ParameterWithSetpoints', sample_name=\"no sample\")"
   ]
  },
  {
   "cell_type": "code",
   "execution_count": 7,
   "metadata": {
    "execution": {
     "iopub.execute_input": "2020-09-14T11:36:31.908277Z",
     "iopub.status.busy": "2020-09-14T11:36:31.906576Z",
     "iopub.status.idle": "2020-09-14T11:36:31.912389Z",
     "shell.execute_reply": "2020-09-14T11:36:31.911683Z"
    }
   },
   "outputs": [],
   "source": [
    "a = DummySpectrumAnalyzer('foobar')"
   ]
  },
  {
   "cell_type": "markdown",
   "execution_count": 8,
   "metadata": {},
   "source": [
    "First we setup the limits of the spectrum"
   ]
  },
  {
   "cell_type": "code",
   "execution_count": 8,
   "metadata": {
    "execution": {
     "iopub.execute_input": "2020-09-14T11:36:31.916592Z",
     "iopub.status.busy": "2020-09-14T11:36:31.916034Z",
     "iopub.status.idle": "2020-09-14T11:36:31.919481Z",
     "shell.execute_reply": "2020-09-14T11:36:31.918949Z"
    }
   },
   "outputs": [],
   "source": [
    "a.f_start(0)\n",
    "a.f_stop(500)\n",
    "a.n_points(501)"
   ]
  },
  {
   "cell_type": "markdown",
   "execution_count": 9,
   "metadata": {},
   "source": [
    "And we can grab the frequency axis"
   ]
  },
  {
   "cell_type": "code",
   "execution_count": 9,
   "metadata": {
    "execution": {
     "iopub.execute_input": "2020-09-14T11:36:31.923931Z",
     "iopub.status.busy": "2020-09-14T11:36:31.922903Z",
     "iopub.status.idle": "2020-09-14T11:36:31.926425Z",
     "shell.execute_reply": "2020-09-14T11:36:31.926844Z"
    }
   },
   "outputs": [
    {
     "data": {
      "text/plain": [
       "501"
      ]
     },
     "execution_count": 1,
     "metadata": {},
     "output_type": "execute_result"
    }
   ],
   "source": [
    "a.n_points()"
   ]
  },
  {
   "cell_type": "code",
   "execution_count": 10,
   "metadata": {
    "execution": {
     "iopub.execute_input": "2020-09-14T11:36:31.931809Z",
     "iopub.status.busy": "2020-09-14T11:36:31.930049Z",
     "iopub.status.idle": "2020-09-14T11:36:31.933948Z",
     "shell.execute_reply": "2020-09-14T11:36:31.934494Z"
    },
    "scrolled": false
   },
   "outputs": [
    {
     "data": {
      "text/plain": [
       "501"
      ]
     },
     "execution_count": 1,
     "metadata": {},
     "output_type": "execute_result"
    }
   ],
   "source": [
    "freq_axis = a.freq_axis()\n",
    "len(freq_axis)"
   ]
  },
  {
   "cell_type": "code",
   "execution_count": 11,
   "metadata": {
    "execution": {
     "iopub.execute_input": "2020-09-14T11:36:31.939793Z",
     "iopub.status.busy": "2020-09-14T11:36:31.938495Z",
     "iopub.status.idle": "2020-09-14T11:36:31.941873Z",
     "shell.execute_reply": "2020-09-14T11:36:31.942410Z"
    }
   },
   "outputs": [
    {
     "data": {
      "text/plain": [
       "array([0., 1., 2., 3., 4., 5., 6., 7., 8., 9.])"
      ]
     },
     "execution_count": 1,
     "metadata": {},
     "output_type": "execute_result"
    }
   ],
   "source": [
    "freq_axis[:10]"
   ]
  },
  {
   "cell_type": "markdown",
   "execution_count": 12,
   "metadata": {},
   "source": [
    "As expected we get a result wit 501 points as we asked for an axis with 501 points. "
   ]
  },
  {
   "cell_type": "markdown",
   "execution_count": 12,
   "metadata": {},
   "source": [
    "Above we have added a validator to the `freq_axis` parameter encoding the fact that this is an Array with `n_points`. Note that we do not have to supply the number of points as an integer but can supply a function that returns the valid number of points. This would normally be a QCoDeS parameter.\n",
    "\n",
    "This will be checked if we validate the output."
   ]
  },
  {
   "cell_type": "code",
   "execution_count": 12,
   "metadata": {
    "execution": {
     "iopub.execute_input": "2020-09-14T11:36:31.946999Z",
     "iopub.status.busy": "2020-09-14T11:36:31.945767Z",
     "iopub.status.idle": "2020-09-14T11:36:31.947670Z",
     "shell.execute_reply": "2020-09-14T11:36:31.948284Z"
    }
   },
   "outputs": [],
   "source": [
    "a.freq_axis.validate(a.freq_axis.get())"
   ]
  },
  {
   "cell_type": "markdown",
   "execution_count": 13,
   "metadata": {},
   "source": [
    "Naturally, we can also get the spectrum. Getting the spectrum will automatically perform validation both for the shape of the parameter itself and the relation to the setpoint parameter(s)"
   ]
  },
  {
   "cell_type": "code",
   "execution_count": 13,
   "metadata": {
    "execution": {
     "iopub.execute_input": "2020-09-14T11:36:31.952725Z",
     "iopub.status.busy": "2020-09-14T11:36:31.951643Z",
     "iopub.status.idle": "2020-09-14T11:36:31.954743Z",
     "shell.execute_reply": "2020-09-14T11:36:31.955257Z"
    },
    "scrolled": true
   },
   "outputs": [
    {
     "data": {
      "text/plain": [
       "501"
      ]
     },
     "execution_count": 1,
     "metadata": {},
     "output_type": "execute_result"
    }
   ],
   "source": [
    "spectrum = a.spectrum.get()\n",
    "len(spectrum)"
   ]
  },
  {
   "cell_type": "markdown",
   "execution_count": 14,
   "metadata": {},
   "source": [
    "When we validate a `ParameterWithSetpoints`, we automatically validate that the shape is consistent between the parameters and its setpoints. As well as validating the shape as above."
   ]
  },
  {
   "cell_type": "code",
   "execution_count": 14,
   "metadata": {
    "execution": {
     "iopub.execute_input": "2020-09-14T11:36:31.959472Z",
     "iopub.status.busy": "2020-09-14T11:36:31.958955Z",
     "iopub.status.idle": "2020-09-14T11:36:31.961094Z",
     "shell.execute_reply": "2020-09-14T11:36:31.961531Z"
    }
   },
   "outputs": [],
   "source": [
    "a.spectrum.validate(a.spectrum.get())"
   ]
  },
  {
   "cell_type": "markdown",
   "execution_count": 15,
   "metadata": {},
   "source": [
    "The consistent shapes can be validated explicitly."
   ]
  },
  {
   "cell_type": "code",
   "execution_count": 15,
   "metadata": {
    "execution": {
     "iopub.execute_input": "2020-09-14T11:36:31.966175Z",
     "iopub.status.busy": "2020-09-14T11:36:31.964872Z",
     "iopub.status.idle": "2020-09-14T11:36:31.966935Z",
     "shell.execute_reply": "2020-09-14T11:36:31.967554Z"
    }
   },
   "outputs": [],
   "source": [
    "a.spectrum.validate_consistent_shape()"
   ]
  },
  {
   "cell_type": "markdown",
   "execution_count": 16,
   "metadata": {},
   "source": [
    "We can inspect the setpoints of the spectrum."
   ]
  },
  {
   "cell_type": "code",
   "execution_count": 16,
   "metadata": {
    "execution": {
     "iopub.execute_input": "2020-09-14T11:36:31.971785Z",
     "iopub.status.busy": "2020-09-14T11:36:31.971284Z",
     "iopub.status.idle": "2020-09-14T11:36:31.973633Z",
     "shell.execute_reply": "2020-09-14T11:36:31.974165Z"
    }
   },
   "outputs": [
    {
     "data": {
      "text/plain": [
       "(<__main__.GeneratedSetPoints: freq_axis at 140628902007120>,)"
      ]
     },
     "execution_count": 1,
     "metadata": {},
     "output_type": "execute_result"
    }
   ],
   "source": [
    "a.spectrum.setpoints"
   ]
  },
  {
   "cell_type": "markdown",
   "execution_count": 17,
   "metadata": {},
   "source": [
    "Or even change them."
   ]
  },
  {
   "cell_type": "code",
   "execution_count": 17,
   "metadata": {
    "execution": {
     "iopub.execute_input": "2020-09-14T11:36:31.978443Z",
     "iopub.status.busy": "2020-09-14T11:36:31.977158Z",
     "iopub.status.idle": "2020-09-14T11:36:31.979025Z",
     "shell.execute_reply": "2020-09-14T11:36:31.979587Z"
    }
   },
   "outputs": [],
   "source": [
    "a.spectrum.setpoints = (a.freq_axis,)"
   ]
  },
  {
   "cell_type": "markdown",
   "execution_count": 18,
   "metadata": {},
   "source": [
    "## Measurement"
   ]
  },
  {
   "cell_type": "markdown",
   "execution_count": 18,
   "metadata": {},
   "source": [
    "We can also directly consume the parameter in a measurement without defining the setpoints of the parameter again. The setpoints are automatically obtained from the definition of the `ParameterWithSetpoint` instance. "
   ]
  },
  {
   "cell_type": "code",
   "execution_count": 18,
   "metadata": {
    "execution": {
     "iopub.execute_input": "2020-09-14T11:36:31.984004Z",
     "iopub.status.busy": "2020-09-14T11:36:31.983412Z",
     "iopub.status.idle": "2020-09-14T11:36:32.000535Z",
     "shell.execute_reply": "2020-09-14T11:36:31.999909Z"
    }
   },
   "outputs": [
    {
     "name": "stdout",
     "output_type": "stream",
     "text": [
      "Starting experimental run with id: 1. \n"
     ]
    }
   ],
   "source": [
    "meas = Measurement()\n",
    "meas.register_parameter(a.spectrum)\n",
    "\n",
    "with meas.run() as datasaver:\n",
    "    datasaver.add_result((a.freq_axis, a.freq_axis()),\n",
    "                         (a.spectrum, a.spectrum()))\n",
    "    dataset = datasaver.dataset"
   ]
  },
  {
   "cell_type": "markdown",
   "execution_count": 19,
   "metadata": {},
   "source": [
    "And plot it"
   ]
  },
  {
   "cell_type": "code",
   "execution_count": 19,
   "metadata": {
    "execution": {
     "iopub.execute_input": "2020-09-14T11:36:32.004170Z",
     "iopub.status.busy": "2020-09-14T11:36:32.003579Z",
     "iopub.status.idle": "2020-09-14T11:36:32.418157Z",
     "shell.execute_reply": "2020-09-14T11:36:32.418907Z"
    }
   },
   "outputs": [
    {
     "data": {
      "text/plain": [
       "([<matplotlib.axes._subplots.AxesSubplot at 0x7fe6b7b0df90>], [None])"
      ]
     },
     "execution_count": 1,
     "metadata": {},
     "output_type": "execute_result"
    },
    {
     "data": {
      "image/png": "[encoded data removed]",
      "text/plain": [
       "<Figure size 432x288 with 1 Axes>"
      ]
     },
     "metadata": {
      "needs_background": "light"
     },
     "output_type": "display_data"
    }
   ],
   "source": [
    "plot_dataset(dataset)"
   ]
  },
  {
   "cell_type": "markdown",
   "execution_count": 20,
   "metadata": {},
   "source": [
    "To reduce the amount of typing a simple convenience function is provided that will take a `ParameterWithSetpoints` and get both its values and the setpoints values and return them as tuples for direct insertion into the Dataset."
   ]
  },
  {
   "cell_type": "code",
   "execution_count": 20,
   "metadata": {
    "execution": {
     "iopub.execute_input": "2020-09-14T11:36:32.423230Z",
     "iopub.status.busy": "2020-09-14T11:36:32.422080Z",
     "iopub.status.idle": "2020-09-14T11:36:32.438437Z",
     "shell.execute_reply": "2020-09-14T11:36:32.437773Z"
    },
    "scrolled": true
   },
   "outputs": [
    {
     "data": {
      "text/plain": [
       "[(<__main__.GeneratedSetPoints: freq_axis at 140628902007120>,\n",
       "  array([  0.,   1.,   2.,   3.,   4.,   5.,   6.,   7.,   8.,   9.,  10.,\n",
       "          11.,  12.,  13.,  14.,  15.,  16.,  17.,  18.,  19.,  20.,  21.,\n",
       "          22.,  23.,  24.,  25.,  26.,  27.,  28.,  29.,  30.,  31.,  32.,\n",
       "          33.,  34.,  35.,  36.,  37.,  38.,  39.,  40.,  41.,  42.,  43.,\n",
       "          44.,  45.,  46.,  47.,  48.,  49.,  50.,  51.,  52.,  53.,  54.,\n",
       "          55.,  56.,  57.,  58.,  59.,  60.,  61.,  62.,  63.,  64.,  65.,\n",
       "          66.,  67.,  68.,  69.,  70.,  71.,  72.,  73.,  74.,  75.,  76.,\n",
       "          77.,  78.,  79.,  80.,  81.,  82.,  83.,  84.,  85.,  86.,  87.,\n",
       "          88.,  89.,  90.,  91.,  92.,  93.,  94.,  95.,  96.,  97.,  98.,\n",
       "          99., 100., 101., 102., 103., 104., 105., 106., 107., 108., 109.,\n",
       "         110., 111., 112., 113., 114., 115., 116., 117., 118., 119., 120.,\n",
       "         121., 122., 123., 124., 125., 126., 127., 128., 129., 130., 131.,\n",
       "         132., 133., 134., 135., 136., 137., 138., 139., 140., 141., 142.,\n",
       "         143., 144., 145., 146., 147., 148., 149., 150., 151., 152., 153.,\n",
       "         154., 155., 156., 157., 158., 159., 160., 161., 162., 163., 164.,\n",
       "         165., 166., 167., 168., 169., 170., 171., 172., 173., 174., 175.,\n",
       "         176., 177., 178., 179., 180., 181., 182., 183., 184., 185., 186.,\n",
       "         187., 188., 189., 190., 191., 192., 193., 194., 195., 196., 197.,\n",
       "         198., 199., 200., 201., 202., 203., 204., 205., 206., 207., 208.,\n",
       "         209., 210., 211., 212., 213., 214., 215., 216., 217., 218., 219.,\n",
       "         220., 221., 222., 223., 224., 225., 226., 227., 228., 229., 230.,\n",
       "         231., 232., 233., 234., 235., 236., 237., 238., 239., 240., 241.,\n",
       "         242., 243., 244., 245., 246., 247., 248., 249., 250., 251., 252.,\n",
       "         253., 254., 255., 256., 257., 258., 259., 260., 261., 262., 263.,\n",
       "         264., 265., 266., 267., 268., 269., 270., 271., 272., 273., 274.,\n",
       "         275., 276., 277., 278., 279., 280., 281., 282., 283., 284., 285.,\n",
       "         286., 287., 288., 289., 290., 291., 292., 293., 294., 295., 296.,\n",
       "         297., 298., 299., 300., 301., 302., 303., 304., 305., 306., 307.,\n",
       "         308., 309., 310., 311., 312., 313., 314., 315., 316., 317., 318.,\n",
       "         319., 320., 321., 322., 323., 324., 325., 326., 327., 328., 329.,\n",
       "         330., 331., 332., 333., 334., 335., 336., 337., 338., 339., 340.,\n",
       "         341., 342., 343., 344., 345., 346., 347., 348., 349., 350., 351.,\n",
       "         352., 353., 354., 355., 356., 357., 358., 359., 360., 361., 362.,\n",
       "         363., 364., 365., 366., 367., 368., 369., 370., 371., 372., 373.,\n",
       "         374., 375., 376., 377., 378., 379., 380., 381., 382., 383., 384.,\n",
       "         385., 386., 387., 388., 389., 390., 391., 392., 393., 394., 395.,\n",
       "         396., 397., 398., 399., 400., 401., 402., 403., 404., 405., 406.,\n",
       "         407., 408., 409., 410., 411., 412., 413., 414., 415., 416., 417.,\n",
       "         418., 419., 420., 421., 422., 423., 424., 425., 426., 427., 428.,\n",
       "         429., 430., 431., 432., 433., 434., 435., 436., 437., 438., 439.,\n",
       "         440., 441., 442., 443., 444., 445., 446., 447., 448., 449., 450.,\n",
       "         451., 452., 453., 454., 455., 456., 457., 458., 459., 460., 461.,\n",
       "         462., 463., 464., 465., 466., 467., 468., 469., 470., 471., 472.,\n",
       "         473., 474., 475., 476., 477., 478., 479., 480., 481., 482., 483.,\n",
       "         484., 485., 486., 487., 488., 489., 490., 491., 492., 493., 494.,\n",
       "         495., 496., 497., 498., 499., 500.])),\n",
       " (<__main__.DummyArray: spectrum at 140628906169488>,\n",
       "  array([0.31347218, 0.84278231, 0.67878878, 0.72598752, 0.15139619,\n",
       "         0.7743757 , 0.0515487 , 0.83870461, 0.81015882, 0.07363766,\n",
       "         0.69105946, 0.26260913, 0.01439433, 0.6857736 , 0.21711218,\n",
       "         0.89382031, 0.82959696, 0.19651888, 0.93236612, 0.83223671,\n",
       "         0.90152329, 0.69076295, 0.92574671, 0.46317308, 0.94710685,\n",
       "         0.1278209 , 0.17381274, 0.18111856, 0.16478156, 0.28279349,\n",
       "         0.94726011, 0.38387764, 0.86293807, 0.75068991, 0.6999506 ,\n",
       "         0.30100805, 0.32601452, 0.92766531, 0.97636136, 0.25327377,\n",
       "         0.61589992, 0.67051623, 0.99819172, 0.43705969, 0.03792999,\n",
       "         0.59899064, 0.65465511, 0.99077199, 0.15724291, 0.52442313,\n",
       "         0.27833952, 0.86956442, 0.60086887, 0.5068596 , 0.46379653,\n",
       "         0.26542073, 0.54436189, 0.97028432, 0.24780834, 0.49082224,\n",
       "         0.26168112, 0.21404904, 0.88943058, 0.02295735, 0.76593136,\n",
       "         0.16894096, 0.34641408, 0.87947889, 0.77559921, 0.99654669,\n",
       "         0.11801667, 0.3849002 , 0.03304995, 0.83365493, 0.03581754,\n",
       "         0.60526957, 0.17451119, 0.68877921, 0.08331135, 0.17494366,\n",
       "         0.94912467, 0.51531273, 0.61418472, 0.00988289, 0.85895486,\n",
       "         0.11714897, 0.79730798, 0.52103237, 0.02803856, 0.86883333,\n",
       "         0.89941729, 0.15081168, 0.01869028, 0.97866798, 0.77664211,\n",
       "         0.93426985, 0.59217802, 0.8603025 , 0.47376291, 0.86874171,\n",
       "         0.9145056 , 0.16549664, 0.36636617, 0.23156752, 0.9065189 ,\n",
       "         0.01472731, 0.77547225, 0.95437698, 0.21654074, 0.98698087,\n",
       "         0.89002292, 0.88201409, 0.16156612, 0.59467999, 0.77669356,\n",
       "         0.6056895 , 0.70981377, 0.85847775, 0.7424503 , 0.39209352,\n",
       "         0.83305241, 0.98588013, 0.89053854, 0.83523357, 0.79886835,\n",
       "         0.69980699, 0.73392375, 0.31375561, 0.02331644, 0.09959015,\n",
       "         0.45516568, 0.55983485, 0.71904979, 0.76675722, 0.80907753,\n",
       "         0.95664744, 0.80893613, 0.82389536, 0.4749499 , 0.67026858,\n",
       "         0.74729864, 0.06865367, 0.03116458, 0.16520353, 0.3579277 ,\n",
       "         0.29675759, 0.18508894, 0.95657317, 0.78248937, 0.85871219,\n",
       "         0.09866559, 0.56990482, 0.85858897, 0.74377627, 0.5336373 ,\n",
       "         0.53746867, 0.14504976, 0.8249728 , 0.95671564, 0.78518566,\n",
       "         0.6570655 , 0.23115139, 0.47092267, 0.4065438 , 0.21466495,\n",
       "         0.86527875, 0.27002354, 0.84128239, 0.42285927, 0.02988861,\n",
       "         0.66694775, 0.00237651, 0.29373484, 0.71103071, 0.37124783,\n",
       "         0.25907349, 0.28392899, 0.19470103, 0.16327126, 0.59228858,\n",
       "         0.21809849, 0.36295888, 0.72371713, 0.02302421, 0.01432302,\n",
       "         0.49881207, 0.06438571, 0.2229777 , 0.96290763, 0.46802045,\n",
       "         0.3254067 , 0.52595076, 0.17568948, 0.6851538 , 0.10421667,\n",
       "         0.74280351, 0.71257461, 0.92925799, 0.97968727, 0.81875862,\n",
       "         0.59638826, 0.48863275, 0.10862138, 0.00801376, 0.75091357,\n",
       "         0.13146014, 0.57791455, 0.04601378, 0.16096823, 0.94459356,\n",
       "         0.47490686, 0.21529825, 0.41014163, 0.48689089, 0.38367535,\n",
       "         0.66933613, 0.09956719, 0.58537422, 0.64568279, 0.14948883,\n",
       "         0.6088447 , 0.22478261, 0.18102471, 0.03091827, 0.7470749 ,\n",
       "         0.85318206, 0.1805703 , 0.75928966, 0.88116969, 0.82487865,\n",
       "         0.1940763 , 0.2049872 , 0.46981815, 0.94026946, 0.11927205,\n",
       "         0.53780391, 0.20510779, 0.35801599, 0.98746541, 0.04871357,\n",
       "         0.67181828, 0.31443929, 0.77427038, 0.23229148, 0.75869859,\n",
       "         0.06679491, 0.25894254, 0.58216898, 0.86715004, 0.5970124 ,\n",
       "         0.9144963 , 0.29264189, 0.80931413, 0.00478145, 0.01027349,\n",
       "         0.32759062, 0.56291255, 0.45906493, 0.04210456, 0.81343163,\n",
       "         0.49252209, 0.06639532, 0.15781189, 0.48294729, 0.8303903 ,\n",
       "         0.74004368, 0.54960644, 0.47579381, 0.93453419, 0.17548246,\n",
       "         0.81497525, 0.92325846, 0.98117707, 0.67579642, 0.71814601,\n",
       "         0.50456952, 0.72744416, 0.87527184, 0.5433968 , 0.26943523,\n",
       "         0.52516086, 0.2748718 , 0.22223974, 0.88329696, 0.96080377,\n",
       "         0.22701688, 0.69882052, 0.53013509, 0.10907791, 0.65013867,\n",
       "         0.45706543, 0.3456795 , 0.25202018, 0.40802482, 0.89828022,\n",
       "         0.64208908, 0.77336089, 0.74228409, 0.96875441, 0.46981521,\n",
       "         0.99468211, 0.72461644, 0.3268618 , 0.45393626, 0.48128765,\n",
       "         0.83146226, 0.66942283, 0.57088682, 0.43226102, 0.23552877,\n",
       "         0.93270105, 0.21685018, 0.04469178, 0.09222243, 0.1982681 ,\n",
       "         0.72162873, 0.91523795, 0.42103595, 0.0034279 , 0.41441308,\n",
       "         0.96367657, 0.272905  , 0.84449409, 0.66270129, 0.44587777,\n",
       "         0.98695013, 0.23831531, 0.81375736, 0.62492523, 0.26105151,\n",
       "         0.42604123, 0.85130805, 0.71688756, 0.01751901, 0.18823284,\n",
       "         0.25946856, 0.85781665, 0.3695717 , 0.95433996, 0.68645966,\n",
       "         0.6901788 , 0.44825306, 0.47371275, 0.56357654, 0.72750785,\n",
       "         0.82040792, 0.16269032, 0.79051507, 0.38621651, 0.58907142,\n",
       "         0.82296414, 0.7342433 , 0.68050803, 0.28463759, 0.16383841,\n",
       "         0.86028169, 0.84464866, 0.88329356, 0.46177428, 0.20885272,\n",
       "         0.00210146, 0.51830774, 0.22654088, 0.4386393 , 0.4461585 ,\n",
       "         0.24565297, 0.4161409 , 0.86201571, 0.10690015, 0.64111082,\n",
       "         0.43709892, 0.32425449, 0.1363165 , 0.53253612, 0.19479067,\n",
       "         0.97515269, 0.85888222, 0.77207871, 0.65184355, 0.87688996,\n",
       "         0.1749481 , 0.40577397, 0.28972679, 0.72211363, 0.35465075,\n",
       "         0.93602229, 0.26911706, 0.22914798, 0.67066234, 0.88580429,\n",
       "         0.91407117, 0.49897328, 0.53139798, 0.81443445, 0.35914942,\n",
       "         0.65346302, 0.00766197, 0.8877056 , 0.52781242, 0.26970733,\n",
       "         0.78818614, 0.41579996, 0.29461488, 0.01261532, 0.67659858,\n",
       "         0.2742485 , 0.42286693, 0.3453477 , 0.02711905, 0.0205029 ,\n",
       "         0.64509546, 0.28305143, 0.62110986, 0.41689172, 0.10460647,\n",
       "         0.54780181, 0.30388334, 0.03710184, 0.79588648, 0.81365748,\n",
       "         0.20201864, 0.23093497, 0.91791177, 0.56809027, 0.35691679,\n",
       "         0.42298356, 0.57327045, 0.7237753 , 0.13116375, 0.43466378,\n",
       "         0.67728543, 0.47026598, 0.37771991, 0.120735  , 0.58143684,\n",
       "         0.24157348, 0.5668389 , 0.80925408, 0.30288897, 0.71903857,\n",
       "         0.89140892, 0.77950103, 0.66066098, 0.18001886, 0.04723106,\n",
       "         0.58110511, 0.02916885, 0.35480804, 0.28846067, 0.86773438,\n",
       "         0.66974993, 0.41576397, 0.77895409, 0.4045683 , 0.31874191,\n",
       "         0.17138738, 0.38232955, 0.31915497, 0.54575116, 0.37295906,\n",
       "         0.20552431, 0.13417036, 0.1732546 , 0.46881445, 0.52478986,\n",
       "         0.24035761, 0.27114676, 0.44401397, 0.58523087, 0.67807212,\n",
       "         0.81455798, 0.08528612, 0.11005939, 0.16846857, 0.1439519 ,\n",
       "         0.09172014, 0.61801303, 0.42041254, 0.29684272, 0.24902397,\n",
       "         0.70016582, 0.65077276, 0.65695256, 0.83989052, 0.92442472,\n",
       "         0.44523648, 0.87909321, 0.24569741, 0.48695786, 0.34232442,\n",
       "         0.33413232, 0.3744695 , 0.44773719, 0.81577879, 0.47871044,\n",
       "         0.142417  , 0.36490836, 0.22742091, 0.91142749, 0.85603835,\n",
       "         0.5193946 ]))]"
      ]
     },
     "execution_count": 1,
     "metadata": {},
     "output_type": "execute_result"
    }
   ],
   "source": [
    "expand_setpoints_helper(a.spectrum)"
   ]
  },
  {
   "cell_type": "code",
   "execution_count": 21,
   "metadata": {
    "execution": {
     "iopub.execute_input": "2020-09-14T11:36:32.443042Z",
     "iopub.status.busy": "2020-09-14T11:36:32.442137Z",
     "iopub.status.idle": "2020-09-14T11:36:32.459484Z",
     "shell.execute_reply": "2020-09-14T11:36:32.458911Z"
    }
   },
   "outputs": [
    {
     "name": "stdout",
     "output_type": "stream",
     "text": [
      "Starting experimental run with id: 2. \n"
     ]
    }
   ],
   "source": [
    "meas = Measurement()\n",
    "meas.register_parameter(a.spectrum)\n",
    "\n",
    "with meas.run() as datasaver:\n",
    "    datasaver.add_result(*expand_setpoints_helper(a.spectrum))\n",
    "    \n",
    "    dataid = datasaver.run_id"
   ]
  },
  {
   "cell_type": "code",
   "execution_count": 22,
   "metadata": {},
   "outputs": [],
   "source": []
  }
 ],
 "metadata": {
  "kernelspec": {
   "display_name": "Python 3",
   "language": "python",
   "name": "python3"
  },
  "language_info": {
   "codemirror_mode": {
    "name": "ipython",
    "version": 3
   },
   "file_extension": ".py",
   "mimetype": "text/x-python",
   "name": "python",
   "nbconvert_exporter": "python",
   "pygments_lexer": "ipython3",
   "version": "3.7.7"
  },
  "toc": {
   "base_numbering": 1,
   "nav_menu": {},
   "number_sections": true,
   "sideBar": true,
   "skip_h1_title": false,
   "title_cell": "Table of Contents",
   "title_sidebar": "Contents",
   "toc_cell": false,
   "toc_position": {},
   "toc_section_display": true,
   "toc_window_display": false
  },
  "varInspector": {
   "cols": {
    "lenName": 16,
    "lenType": 16,
    "lenVar": 40
   },
   "kernels_config": {
    "python": {
     "delete_cmd_postfix": "",
     "delete_cmd_prefix": "del ",
     "library": "var_list.py",
     "varRefreshCmd": "print(var_dic_list())"
    },
    "r": {
     "delete_cmd_postfix": ") ",
     "delete_cmd_prefix": "rm(",
     "library": "var_list.r",
     "varRefreshCmd": "cat(var_dic_list()) "
    }
   },
   "types_to_exclude": [
    "module",
    "function",
    "builtin_function_or_method",
    "instance",
    "_Feature"
   ],
   "window_display": false
  }
 },
 "nbformat": 4,
 "nbformat_minor": 2
}
