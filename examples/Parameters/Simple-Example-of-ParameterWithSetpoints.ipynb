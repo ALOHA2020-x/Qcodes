{
 "cells": [
  {
   "cell_type": "markdown",
   "metadata": {},
   "source": [
    "# Simple Example of ParameterWithSetpoints\n",
    "This notebook provides an example for writing a simple driver with a parameter that has setpoints. Let's name this parameter that has setpoints as \"y\". Then, the setpoints, say \"x1, x2, x3 ..\", are the parameters on which the parameter \n",
    "\"y\" depends upon. Meaning \"y\" is a function of \"x1, x2, x3 ...\" where \"x1, x2, x3 ...\" are known as the setpoints of parameter \"y\".\n",
    "\n",
    "This is most likely to be useful for instruments that return arrays of results. In this notebook, we will show an example of this."
   ]
  },
  {
   "cell_type": "code",
   "execution_count": 1,
   "metadata": {},
   "outputs": [],
   "source": [
    "import numpy as np\n",
    "import os"
   ]
  },
  {
   "cell_type": "code",
   "execution_count": 2,
   "metadata": {},
   "outputs": [
    {
     "name": "stdout",
     "output_type": "stream",
     "text": [
      "Logging hadn't been started.\n",
      "Activating auto-logging. Current session state plus future input saved.\n",
      "Filename       : /home/vsts/.qcodes/logs/command_history.log\n",
      "Mode           : append\n",
      "Output logging : True\n",
      "Raw input log  : False\n",
      "Timestamping   : True\n",
      "State          : active\n"
     ]
    },
    {
     "name": "stdout",
     "output_type": "stream",
     "text": [
      "Qcodes Logfile : /home/vsts/.qcodes/logs/200814-21149-qcodes.log\n"
     ]
    }
   ],
   "source": [
    "from qcodes.dataset.plotting import plot_dataset\n",
    "from qcodes.utils.validators import Numbers, Arrays\n",
    "from qcodes.instrument.base import Instrument\n",
    "from qcodes.dataset.measurements import Measurement"
   ]
  },
  {
   "cell_type": "code",
   "execution_count": 3,
   "metadata": {},
   "outputs": [],
   "source": [
    "from qcodes.dataset.sqlite.database import initialise_or_create_database_at\n",
    "from qcodes.dataset.experiment_container import load_or_create_experiment"
   ]
  },
  {
   "cell_type": "code",
   "execution_count": 4,
   "metadata": {},
   "outputs": [],
   "source": [
    "from qcodes.instrument.parameter import ParameterWithSetpoints, Parameter\n",
    "from qcodes.instrument.parameter import expand_setpoints_helper"
   ]
  },
  {
   "cell_type": "markdown",
   "metadata": {},
   "source": [
    "First, we define a dummy instrument that returns something like a frequency spectrum starting from a frequency given by `f_start` to a frequency given by `f_stop` in `n_points` steps. \n",
    "\n",
    "The extra functionality of the `ParameterWithSetpoints` is implemented by giving it a reference to one or more parameters that acts like its setpoints. \n",
    "\n",
    "To setup a `ParameterWithSetpoints` we have to do two things in addition to what we do for a normal parameter.\n",
    "\n",
    "* Define one or more parameter for the setpoints (one for each dimension of the array and let the `ParameterWithSetpoints` know that these are the setpoints.\n",
    "* Give both the setpoints parameter(s) and the `ParameterWithSetpoints` a `validator` of type `Arrays` with a shape. The shapes should be such that the combined shape of the setpoints matches the shape of the `ParameterWithSetpoints`. Note that if the shape changes with the setting of the instrument, it can be defined by another parameter as shown below. "
   ]
  },
  {
   "cell_type": "code",
   "execution_count": 5,
   "metadata": {},
   "outputs": [],
   "source": [
    "class GeneratedSetPoints(Parameter):\n",
    "    \"\"\"\n",
    "    A parameter that generates a setpoint array from start, stop and num points\n",
    "    parameters.\n",
    "    \"\"\"\n",
    "    def __init__(self, startparam, stopparam, numpointsparam, *args, **kwargs):\n",
    "        super().__init__(*args, **kwargs)\n",
    "        self._startparam = startparam\n",
    "        self._stopparam = stopparam\n",
    "        self._numpointsparam = numpointsparam\n",
    "\n",
    "    def get_raw(self):\n",
    "        return np.linspace(self._startparam(), self._stopparam(),\n",
    "                              self._numpointsparam())\n",
    "\n",
    "class DummyArray(ParameterWithSetpoints):\n",
    "    \n",
    "    def get_raw(self):\n",
    "        npoints = self.root_instrument.n_points.get_latest()\n",
    "        return np.random.rand(npoints)\n",
    "    \n",
    "\n",
    "class DummySpectrumAnalyzer(Instrument):\n",
    "    \n",
    "    def __init__(self, name, **kwargs):\n",
    "        \n",
    "        super().__init__(name, **kwargs)\n",
    "            \n",
    "\n",
    "        self.add_parameter('f_start',\n",
    "                           initial_value=0,\n",
    "                           unit='Hz',\n",
    "                           label='f start',\n",
    "                           vals=Numbers(0,1e3),\n",
    "                           get_cmd=None,\n",
    "                           set_cmd=None)\n",
    "\n",
    "        self.add_parameter('f_stop',\n",
    "                           unit='Hz',\n",
    "                           label='f stop',\n",
    "                           vals=Numbers(1,1e3),\n",
    "                           get_cmd=None,\n",
    "                           set_cmd=None)\n",
    "\n",
    "        self.add_parameter('n_points',\n",
    "                           unit='',\n",
    "                           initial_value=10,\n",
    "                           vals=Numbers(1,1e3),\n",
    "                           get_cmd=None,\n",
    "                           set_cmd=None)\n",
    "        \n",
    "        self.add_parameter('freq_axis',\n",
    "                           unit='Hz',\n",
    "                           label='Freq Axis',\n",
    "                           parameter_class=GeneratedSetPoints,\n",
    "                           startparam=self.f_start,\n",
    "                           stopparam=self.f_stop,\n",
    "                           numpointsparam=self.n_points,\n",
    "                           vals=Arrays(shape=(self.n_points.get_latest,)))\n",
    "                           \n",
    "        self.add_parameter('spectrum',\n",
    "                   unit='dBm',\n",
    "                   setpoints=(self.freq_axis,),\n",
    "                   label='Spectrum',\n",
    "                   parameter_class=DummyArray,\n",
    "                   vals=Arrays(shape=(self.n_points.get_latest,)))\n",
    "                "
   ]
  },
  {
   "cell_type": "markdown",
   "metadata": {},
   "source": [
    "In the above example, the shape is defined by the parameter `n_points` that defines how many samples our `DummySpectrumAnalyzer` returns.\n",
    "\n",
    "This means that the validation will call the function to get `n_points` twice for each `get` of the parameter. This may be too slow, however, if you (as the driver-writer) can guarantee that the cached value for `n_points` will never be out of sync with the value stored in the instrument, `n_points` may be replaced by it's latest known value such that the `validator` reads:\n",
    "```python\n",
    "vals=Arrays(shape=(self.n_points.get_latest))\n",
    "```\n",
    "\n",
    "This avoids any additional call to the instrument. In the same way, the arguments to the `freq_axis` parameter that defines the start, stop and number of points can be replaced by their latest value if the instrument allows it.\n",
    "\n"
   ]
  },
  {
   "cell_type": "code",
   "execution_count": 6,
   "metadata": {},
   "outputs": [
    {
     "name": "stdout",
     "output_type": "stream",
     "text": [
      "\r",
      "0it [00:00, ?it/s]"
     ]
    },
    {
     "name": "stdout",
     "output_type": "stream",
     "text": [
      "\r",
      "Upgrading database; v0 -> v1: : 0it [00:00, ?it/s]"
     ]
    },
    {
     "name": "stdout",
     "output_type": "stream",
     "text": [
      "\r",
      "Upgrading database; v0 -> v1: : 0it [00:00, ?it/s]"
     ]
    },
    {
     "name": "stdout",
     "output_type": "stream",
     "text": [
      "\n",
      "\r",
      "  0%|          | 0/1 [00:00<?, ?it/s]"
     ]
    },
    {
     "name": "stdout",
     "output_type": "stream",
     "text": [
      "\r",
      "Upgrading database; v1 -> v2:   0%|          | 0/1 [00:00<?, ?it/s]"
     ]
    },
    {
     "name": "stdout",
     "output_type": "stream",
     "text": [
      "\r",
      "Upgrading database; v1 -> v2: 100%|██████████| 1/1 [00:00<00:00, 779.90it/s]"
     ]
    },
    {
     "name": "stdout",
     "output_type": "stream",
     "text": [
      "\n",
      "\r",
      "0it [00:00, ?it/s]"
     ]
    },
    {
     "name": "stdout",
     "output_type": "stream",
     "text": [
      "\r",
      "Upgrading database; v2 -> v3: : 0it [00:00, ?it/s]"
     ]
    },
    {
     "name": "stdout",
     "output_type": "stream",
     "text": [
      "\r",
      "Upgrading database; v2 -> v3: : 0it [00:00, ?it/s]"
     ]
    },
    {
     "name": "stdout",
     "output_type": "stream",
     "text": [
      "\n",
      "\r",
      "0it [00:00, ?it/s]"
     ]
    },
    {
     "name": "stdout",
     "output_type": "stream",
     "text": [
      "\r",
      "Upgrading database; v3 -> v4: : 0it [00:00, ?it/s]"
     ]
    },
    {
     "name": "stdout",
     "output_type": "stream",
     "text": [
      "\r",
      "Upgrading database; v3 -> v4: : 0it [00:00, ?it/s]"
     ]
    },
    {
     "name": "stdout",
     "output_type": "stream",
     "text": [
      "\n",
      "\r",
      "  0%|          | 0/1 [00:00<?, ?it/s]"
     ]
    },
    {
     "name": "stdout",
     "output_type": "stream",
     "text": [
      "\r",
      "Upgrading database; v4 -> v5:   0%|          | 0/1 [00:00<?, ?it/s]"
     ]
    },
    {
     "name": "stdout",
     "output_type": "stream",
     "text": [
      "\r",
      "Upgrading database; v4 -> v5: 100%|██████████| 1/1 [00:00<00:00, 817.13it/s]"
     ]
    },
    {
     "name": "stdout",
     "output_type": "stream",
     "text": [
      "\n",
      "\r",
      "0it [00:00, ?it/s]"
     ]
    },
    {
     "name": "stdout",
     "output_type": "stream",
     "text": [
      "\r",
      "Upgrading database; v5 -> v6: : 0it [00:00, ?it/s]"
     ]
    },
    {
     "name": "stdout",
     "output_type": "stream",
     "text": [
      "\r",
      "Upgrading database; v5 -> v6: : 0it [00:00, ?it/s]"
     ]
    },
    {
     "name": "stdout",
     "output_type": "stream",
     "text": [
      "\n",
      "\r",
      "  0%|          | 0/1 [00:00<?, ?it/s]"
     ]
    },
    {
     "name": "stdout",
     "output_type": "stream",
     "text": [
      "\r",
      "Upgrading database; v6 -> v7:   0%|          | 0/1 [00:00<?, ?it/s]"
     ]
    },
    {
     "name": "stdout",
     "output_type": "stream",
     "text": [
      "\r",
      "Upgrading database; v6 -> v7: 100%|██████████| 1/1 [00:00<00:00, 403.57it/s]"
     ]
    },
    {
     "name": "stdout",
     "output_type": "stream",
     "text": [
      "\n",
      "\r",
      "  0%|          | 0/1 [00:00<?, ?it/s]"
     ]
    },
    {
     "name": "stdout",
     "output_type": "stream",
     "text": [
      "\r",
      "Upgrading database; v7 -> v8:   0%|          | 0/1 [00:00<?, ?it/s]"
     ]
    },
    {
     "name": "stdout",
     "output_type": "stream",
     "text": [
      "\r",
      "Upgrading database; v7 -> v8: 100%|██████████| 1/1 [00:00<00:00, 781.35it/s]"
     ]
    },
    {
     "name": "stdout",
     "output_type": "stream",
     "text": [
      "\n",
      "\r",
      "  0%|          | 0/1 [00:00<?, ?it/s]"
     ]
    },
    {
     "name": "stdout",
     "output_type": "stream",
     "text": [
      "\r",
      "Upgrading database; v8 -> v9:   0%|          | 0/1 [00:00<?, ?it/s]"
     ]
    },
    {
     "name": "stdout",
     "output_type": "stream",
     "text": [
      "\r",
      "Upgrading database; v8 -> v9: 100%|██████████| 1/1 [00:00<00:00, 1013.61it/s]"
     ]
    },
    {
     "name": "stdout",
     "output_type": "stream",
     "text": [
      "\n"
     ]
    },
    {
     "data": {
      "text/plain": [
       "tutorial_ParameterWithSetpoints#no sample#1@/home/vsts/work/1/s/docs/examples/Parameters/tutorial_paramter_with_setpoints.db\n",
       "----------------------------------------------------------------------------------------------------------------------------"
      ]
     },
     "execution_count": 6,
     "metadata": {},
     "output_type": "execute_result"
    }
   ],
   "source": [
    "tutorial_db_path = os.path.join(os.getcwd(), 'tutorial_paramter_with_setpoints.db')\n",
    "initialise_or_create_database_at(tutorial_db_path)\n",
    "load_or_create_experiment(experiment_name='tutorial_ParameterWithSetpoints', sample_name=\"no sample\")"
   ]
  },
  {
   "cell_type": "code",
   "execution_count": 7,
   "metadata": {},
   "outputs": [],
   "source": [
    "a = DummySpectrumAnalyzer('foobar')"
   ]
  },
  {
   "cell_type": "markdown",
   "metadata": {},
   "source": [
    "First we setup the limits of the spectrum"
   ]
  },
  {
   "cell_type": "code",
   "execution_count": 8,
   "metadata": {},
   "outputs": [],
   "source": [
    "a.f_start(0)\n",
    "a.f_stop(500)\n",
    "a.n_points(501)"
   ]
  },
  {
   "cell_type": "markdown",
   "metadata": {},
   "source": [
    "And we can grab the frequency axis"
   ]
  },
  {
   "cell_type": "code",
   "execution_count": 9,
   "metadata": {},
   "outputs": [
    {
     "data": {
      "text/plain": [
       "501"
      ]
     },
     "execution_count": 9,
     "metadata": {},
     "output_type": "execute_result"
    }
   ],
   "source": [
    "a.n_points()"
   ]
  },
  {
   "cell_type": "code",
   "execution_count": 10,
   "metadata": {
    "scrolled": false
   },
   "outputs": [
    {
     "data": {
      "text/plain": [
       "501"
      ]
     },
     "execution_count": 10,
     "metadata": {},
     "output_type": "execute_result"
    }
   ],
   "source": [
    "freq_axis = a.freq_axis()\n",
    "len(freq_axis)"
   ]
  },
  {
   "cell_type": "code",
   "execution_count": 11,
   "metadata": {},
   "outputs": [
    {
     "data": {
      "text/plain": [
       "array([0., 1., 2., 3., 4., 5., 6., 7., 8., 9.])"
      ]
     },
     "execution_count": 11,
     "metadata": {},
     "output_type": "execute_result"
    }
   ],
   "source": [
    "freq_axis[:10]"
   ]
  },
  {
   "cell_type": "markdown",
   "metadata": {},
   "source": [
    "As expected we get a result wit 501 points as we asked for an axis with 501 points. "
   ]
  },
  {
   "cell_type": "markdown",
   "metadata": {},
   "source": [
    "Above we have added a validator to the `freq_axis` parameter encoding the fact that this is an Array with `n_points`. Note that we do not have to supply the number of points as an integer but can supply a function that returns the valid number of points. This would normally be a QCoDeS parameter.\n",
    "\n",
    "This will be checked if we validate the output."
   ]
  },
  {
   "cell_type": "code",
   "execution_count": 12,
   "metadata": {},
   "outputs": [],
   "source": [
    "a.freq_axis.validate(a.freq_axis.get())"
   ]
  },
  {
   "cell_type": "markdown",
   "metadata": {},
   "source": [
    "Naturally, we can also get the spectrum. Getting the spectrum will automatically perform validation both for the shape of the parameter itself and the relation to the setpoint parameter(s)"
   ]
  },
  {
   "cell_type": "code",
   "execution_count": 13,
   "metadata": {
    "scrolled": true
   },
   "outputs": [
    {
     "data": {
      "text/plain": [
       "501"
      ]
     },
     "execution_count": 13,
     "metadata": {},
     "output_type": "execute_result"
    }
   ],
   "source": [
    "spectrum = a.spectrum.get()\n",
    "len(spectrum)"
   ]
  },
  {
   "cell_type": "markdown",
   "metadata": {},
   "source": [
    "When we validate a `ParameterWithSetpoints`, we automatically validate that the shape is consistent between the parameters and its setpoints. As well as validating the shape as above."
   ]
  },
  {
   "cell_type": "code",
   "execution_count": 14,
   "metadata": {},
   "outputs": [],
   "source": [
    "a.spectrum.validate(a.spectrum.get())"
   ]
  },
  {
   "cell_type": "markdown",
   "metadata": {},
   "source": [
    "The consistent shapes can be validated explicitly."
   ]
  },
  {
   "cell_type": "code",
   "execution_count": 15,
   "metadata": {},
   "outputs": [],
   "source": [
    "a.spectrum.validate_consistent_shape()"
   ]
  },
  {
   "cell_type": "markdown",
   "metadata": {},
   "source": [
    "We can inspect the setpoints of the spectrum."
   ]
  },
  {
   "cell_type": "code",
   "execution_count": 16,
   "metadata": {},
   "outputs": [
    {
     "data": {
      "text/plain": [
       "(<__main__.GeneratedSetPoints: freq_axis at 139669303278864>,)"
      ]
     },
     "execution_count": 16,
     "metadata": {},
     "output_type": "execute_result"
    }
   ],
   "source": [
    "a.spectrum.setpoints"
   ]
  },
  {
   "cell_type": "markdown",
   "metadata": {},
   "source": [
    "Or even change them."
   ]
  },
  {
   "cell_type": "code",
   "execution_count": 17,
   "metadata": {},
   "outputs": [],
   "source": [
    "a.spectrum.setpoints = (a.freq_axis,)"
   ]
  },
  {
   "cell_type": "markdown",
   "metadata": {},
   "source": [
    "## Measurement"
   ]
  },
  {
   "cell_type": "markdown",
   "metadata": {},
   "source": [
    "We can also directly consume the parameter in a measurement without defining the setpoints of the parameter again. The setpoints are automatically obtained from the definition of the `ParameterWithSetpoint` instance. "
   ]
  },
  {
   "cell_type": "code",
   "execution_count": 18,
   "metadata": {},
   "outputs": [
    {
     "name": "stdout",
     "output_type": "stream",
     "text": [
      "Starting experimental run with id: 1. \n"
     ]
    }
   ],
   "source": [
    "meas = Measurement()\n",
    "meas.register_parameter(a.spectrum)\n",
    "\n",
    "with meas.run() as datasaver:\n",
    "    datasaver.add_result((a.freq_axis, a.freq_axis()),\n",
    "                         (a.spectrum, a.spectrum()))\n",
    "    dataset = datasaver.dataset"
   ]
  },
  {
   "cell_type": "markdown",
   "metadata": {},
   "source": [
    "And plot it"
   ]
  },
  {
   "cell_type": "code",
   "execution_count": 19,
   "metadata": {},
   "outputs": [
    {
     "data": {
      "text/plain": [
       "([<matplotlib.axes._subplots.AxesSubplot at 0x7f074b353fd0>], [None])"
      ]
     },
     "execution_count": 19,
     "metadata": {},
     "output_type": "execute_result"
    },
    {
     "data": {
      "image/png": "[encoded data removed]",
      "text/plain": [
       "<Figure size 432x288 with 1 Axes>"
      ]
     },
     "metadata": {
      "needs_background": "light"
     },
     "output_type": "display_data"
    }
   ],
   "source": [
    "plot_dataset(dataset)"
   ]
  },
  {
   "cell_type": "markdown",
   "metadata": {},
   "source": [
    "To reduce the amount of typing a simple convenience function is provided that will take a `ParameterWithSetpoints` and get both its values and the setpoints values and return them as tuples for direct insertion into the Dataset."
   ]
  },
  {
   "cell_type": "code",
   "execution_count": 20,
   "metadata": {
    "scrolled": true
   },
   "outputs": [
    {
     "data": {
      "text/plain": [
       "[(<__main__.GeneratedSetPoints: freq_axis at 139669303278864>,\n",
       "  array([  0.,   1.,   2.,   3.,   4.,   5.,   6.,   7.,   8.,   9.,  10.,\n",
       "          11.,  12.,  13.,  14.,  15.,  16.,  17.,  18.,  19.,  20.,  21.,\n",
       "          22.,  23.,  24.,  25.,  26.,  27.,  28.,  29.,  30.,  31.,  32.,\n",
       "          33.,  34.,  35.,  36.,  37.,  38.,  39.,  40.,  41.,  42.,  43.,\n",
       "          44.,  45.,  46.,  47.,  48.,  49.,  50.,  51.,  52.,  53.,  54.,\n",
       "          55.,  56.,  57.,  58.,  59.,  60.,  61.,  62.,  63.,  64.,  65.,\n",
       "          66.,  67.,  68.,  69.,  70.,  71.,  72.,  73.,  74.,  75.,  76.,\n",
       "          77.,  78.,  79.,  80.,  81.,  82.,  83.,  84.,  85.,  86.,  87.,\n",
       "          88.,  89.,  90.,  91.,  92.,  93.,  94.,  95.,  96.,  97.,  98.,\n",
       "          99., 100., 101., 102., 103., 104., 105., 106., 107., 108., 109.,\n",
       "         110., 111., 112., 113., 114., 115., 116., 117., 118., 119., 120.,\n",
       "         121., 122., 123., 124., 125., 126., 127., 128., 129., 130., 131.,\n",
       "         132., 133., 134., 135., 136., 137., 138., 139., 140., 141., 142.,\n",
       "         143., 144., 145., 146., 147., 148., 149., 150., 151., 152., 153.,\n",
       "         154., 155., 156., 157., 158., 159., 160., 161., 162., 163., 164.,\n",
       "         165., 166., 167., 168., 169., 170., 171., 172., 173., 174., 175.,\n",
       "         176., 177., 178., 179., 180., 181., 182., 183., 184., 185., 186.,\n",
       "         187., 188., 189., 190., 191., 192., 193., 194., 195., 196., 197.,\n",
       "         198., 199., 200., 201., 202., 203., 204., 205., 206., 207., 208.,\n",
       "         209., 210., 211., 212., 213., 214., 215., 216., 217., 218., 219.,\n",
       "         220., 221., 222., 223., 224., 225., 226., 227., 228., 229., 230.,\n",
       "         231., 232., 233., 234., 235., 236., 237., 238., 239., 240., 241.,\n",
       "         242., 243., 244., 245., 246., 247., 248., 249., 250., 251., 252.,\n",
       "         253., 254., 255., 256., 257., 258., 259., 260., 261., 262., 263.,\n",
       "         264., 265., 266., 267., 268., 269., 270., 271., 272., 273., 274.,\n",
       "         275., 276., 277., 278., 279., 280., 281., 282., 283., 284., 285.,\n",
       "         286., 287., 288., 289., 290., 291., 292., 293., 294., 295., 296.,\n",
       "         297., 298., 299., 300., 301., 302., 303., 304., 305., 306., 307.,\n",
       "         308., 309., 310., 311., 312., 313., 314., 315., 316., 317., 318.,\n",
       "         319., 320., 321., 322., 323., 324., 325., 326., 327., 328., 329.,\n",
       "         330., 331., 332., 333., 334., 335., 336., 337., 338., 339., 340.,\n",
       "         341., 342., 343., 344., 345., 346., 347., 348., 349., 350., 351.,\n",
       "         352., 353., 354., 355., 356., 357., 358., 359., 360., 361., 362.,\n",
       "         363., 364., 365., 366., 367., 368., 369., 370., 371., 372., 373.,\n",
       "         374., 375., 376., 377., 378., 379., 380., 381., 382., 383., 384.,\n",
       "         385., 386., 387., 388., 389., 390., 391., 392., 393., 394., 395.,\n",
       "         396., 397., 398., 399., 400., 401., 402., 403., 404., 405., 406.,\n",
       "         407., 408., 409., 410., 411., 412., 413., 414., 415., 416., 417.,\n",
       "         418., 419., 420., 421., 422., 423., 424., 425., 426., 427., 428.,\n",
       "         429., 430., 431., 432., 433., 434., 435., 436., 437., 438., 439.,\n",
       "         440., 441., 442., 443., 444., 445., 446., 447., 448., 449., 450.,\n",
       "         451., 452., 453., 454., 455., 456., 457., 458., 459., 460., 461.,\n",
       "         462., 463., 464., 465., 466., 467., 468., 469., 470., 471., 472.,\n",
       "         473., 474., 475., 476., 477., 478., 479., 480., 481., 482., 483.,\n",
       "         484., 485., 486., 487., 488., 489., 490., 491., 492., 493., 494.,\n",
       "         495., 496., 497., 498., 499., 500.])),\n",
       " (<__main__.DummyArray: spectrum at 139669301505744>,\n",
       "  array([1.04590847e-01, 1.17384542e-01, 5.50536402e-01, 1.07001230e-01,\n",
       "         4.42405004e-01, 1.46059531e-02, 9.19235420e-01, 7.11804938e-01,\n",
       "         3.47191604e-01, 5.25243947e-01, 8.19495713e-01, 7.48757563e-01,\n",
       "         4.23054837e-01, 4.76528918e-01, 5.03312851e-01, 9.21205556e-01,\n",
       "         6.89062412e-01, 4.09394761e-01, 9.04956892e-01, 5.07151810e-01,\n",
       "         2.94717952e-01, 6.81471634e-01, 2.12056008e-01, 3.73316543e-01,\n",
       "         7.86659230e-01, 6.65099050e-01, 6.80506093e-01, 7.36609470e-01,\n",
       "         3.13995356e-01, 5.15012798e-01, 7.85338018e-01, 3.17307333e-01,\n",
       "         9.87349711e-01, 4.37724677e-01, 9.99560783e-01, 9.48418888e-01,\n",
       "         1.03295303e-01, 1.30462962e-01, 8.09994729e-01, 1.05389752e-01,\n",
       "         1.17531041e-01, 1.47349730e-01, 4.76957004e-02, 9.54036714e-01,\n",
       "         5.19402705e-01, 9.60634028e-01, 3.40050393e-01, 9.17219865e-01,\n",
       "         3.19417270e-01, 7.40285802e-03, 7.61701860e-01, 5.57439615e-01,\n",
       "         5.33075003e-01, 9.44236491e-01, 6.88333113e-01, 6.78355823e-01,\n",
       "         5.73626828e-01, 9.83998628e-01, 4.51719352e-01, 5.68559807e-01,\n",
       "         5.17733484e-01, 7.77463022e-01, 3.67958582e-01, 1.80752842e-01,\n",
       "         3.86035016e-01, 3.45208512e-02, 2.09128165e-01, 1.39528996e-01,\n",
       "         2.58664547e-01, 1.58569154e-01, 3.02632686e-01, 7.21458144e-01,\n",
       "         6.28950762e-01, 3.05929795e-01, 1.43311005e-01, 9.10370391e-01,\n",
       "         1.11762905e-01, 6.90053059e-02, 7.54044720e-02, 4.64993020e-02,\n",
       "         9.14843564e-01, 3.11003826e-01, 2.40678910e-01, 8.12719227e-01,\n",
       "         9.90836962e-01, 4.94993616e-01, 4.65135728e-02, 2.88066612e-01,\n",
       "         9.61708588e-01, 4.25013837e-01, 8.30558400e-01, 4.79342831e-01,\n",
       "         8.03272671e-01, 1.39479498e-01, 3.54944015e-01, 8.37796242e-01,\n",
       "         2.31203926e-01, 4.74147414e-02, 5.61138712e-01, 9.58353420e-01,\n",
       "         5.03974896e-01, 6.32875958e-01, 2.39986081e-01, 6.66099059e-01,\n",
       "         3.32908873e-01, 3.76560102e-01, 9.39879071e-01, 1.67719427e-01,\n",
       "         3.72674150e-01, 8.99896569e-01, 4.54200778e-02, 7.03340965e-01,\n",
       "         5.14543785e-01, 5.07491250e-01, 9.77294143e-01, 7.99226763e-02,\n",
       "         4.58084985e-01, 1.59009237e-02, 9.91784496e-01, 3.53680042e-01,\n",
       "         6.12505139e-01, 8.03303026e-01, 5.91080840e-01, 5.95411084e-01,\n",
       "         7.34673149e-01, 4.89434402e-01, 8.63622621e-01, 2.61569521e-01,\n",
       "         5.75208541e-01, 1.95808892e-02, 4.14068959e-01, 5.34688163e-01,\n",
       "         5.18585309e-01, 9.91415202e-01, 8.02261316e-01, 1.69526029e-01,\n",
       "         8.38268870e-01, 4.17382170e-01, 2.33208169e-01, 2.06726243e-01,\n",
       "         4.48945518e-01, 4.35691062e-01, 3.72386912e-02, 6.45190767e-01,\n",
       "         5.60692559e-01, 1.96174047e-01, 1.31919554e-01, 4.10931211e-01,\n",
       "         9.16862854e-01, 7.67348804e-01, 7.86400840e-01, 8.08187319e-01,\n",
       "         7.60274406e-01, 3.46236186e-02, 3.55500220e-01, 8.17803191e-01,\n",
       "         3.49934316e-01, 2.65299449e-01, 5.06991531e-01, 2.82842419e-01,\n",
       "         1.18285929e-01, 4.49169716e-01, 1.63017515e-01, 5.97822038e-01,\n",
       "         6.01516268e-01, 1.69869774e-01, 6.08423413e-01, 2.13819271e-01,\n",
       "         6.06151253e-01, 8.14022356e-01, 5.24216725e-01, 7.73775194e-01,\n",
       "         7.83785623e-01, 9.51877760e-01, 6.45347768e-01, 6.83666267e-02,\n",
       "         5.49075691e-01, 9.23675009e-01, 4.50090024e-01, 5.41582027e-01,\n",
       "         6.97607189e-01, 4.94611886e-01, 7.98409703e-01, 3.66946480e-01,\n",
       "         8.03724797e-01, 9.42989218e-02, 7.86727926e-01, 9.80736015e-01,\n",
       "         3.48044086e-01, 7.13950105e-01, 7.25179221e-01, 5.60676161e-01,\n",
       "         7.46756163e-02, 5.76936892e-01, 1.06102111e-01, 8.34127906e-01,\n",
       "         8.22561891e-01, 3.85850747e-01, 7.19240258e-01, 3.91863110e-01,\n",
       "         8.41373123e-01, 4.97733418e-01, 2.65955826e-01, 6.26834944e-01,\n",
       "         3.36934982e-01, 4.69056763e-01, 6.10191212e-01, 2.75720524e-01,\n",
       "         1.80737595e-01, 2.32582962e-01, 9.23788037e-01, 7.44226918e-01,\n",
       "         4.82882251e-01, 7.70381518e-01, 2.07798962e-01, 3.42224041e-01,\n",
       "         3.04209639e-01, 4.89443519e-01, 4.55621313e-01, 2.78901247e-01,\n",
       "         2.94336520e-01, 8.61925614e-01, 7.98101367e-01, 3.32863813e-01,\n",
       "         3.30050189e-01, 8.85181925e-01, 7.32928782e-01, 1.14832621e-01,\n",
       "         2.02197996e-02, 1.20163972e-01, 3.04243064e-01, 5.68682633e-01,\n",
       "         4.40462389e-01, 6.84528886e-01, 3.39532618e-01, 1.97839503e-01,\n",
       "         6.56445605e-02, 5.07674955e-01, 6.00405842e-02, 1.67038393e-01,\n",
       "         5.59884186e-01, 8.38140881e-01, 7.91356453e-01, 4.05712782e-01,\n",
       "         5.11739118e-01, 6.97596354e-01, 4.46088728e-01, 7.22670869e-02,\n",
       "         5.24159251e-01, 2.36423416e-01, 6.99235076e-01, 3.34108235e-01,\n",
       "         7.20240585e-01, 1.51143895e-01, 1.41957154e-01, 1.96775953e-01,\n",
       "         8.36688619e-01, 1.24582408e-01, 6.69062854e-01, 6.00008695e-02,\n",
       "         1.98702381e-01, 7.96103399e-01, 7.57956597e-01, 1.24905970e-01,\n",
       "         4.51233434e-01, 1.43757809e-01, 1.23130058e-01, 3.98489905e-01,\n",
       "         8.78637094e-01, 6.51367299e-03, 5.17397921e-01, 5.96700967e-02,\n",
       "         2.64025642e-01, 5.77692051e-01, 1.97368446e-01, 9.07497347e-01,\n",
       "         2.55944143e-01, 7.86037515e-01, 8.89931581e-01, 5.61239156e-01,\n",
       "         5.61741891e-02, 6.82802769e-01, 2.94944781e-01, 4.25107224e-01,\n",
       "         5.52473168e-01, 6.11307524e-02, 6.61660697e-01, 1.77904497e-01,\n",
       "         5.07843352e-01, 7.20459394e-01, 8.40345816e-01, 2.14250069e-01,\n",
       "         5.23671063e-01, 4.67189569e-01, 2.28336390e-01, 3.58916441e-01,\n",
       "         8.03547051e-01, 4.79994712e-01, 6.39489576e-01, 5.87429487e-01,\n",
       "         8.59003170e-01, 3.14711373e-01, 6.21512651e-01, 2.35775586e-01,\n",
       "         3.32279270e-01, 9.80152260e-01, 9.97240994e-01, 7.94054745e-01,\n",
       "         5.88046179e-02, 5.81365136e-01, 1.43839902e-01, 4.54454411e-01,\n",
       "         2.47140849e-01, 8.42193164e-01, 6.46825271e-01, 7.66501504e-02,\n",
       "         3.43223827e-01, 1.57665316e-01, 1.27326009e-01, 2.73268049e-01,\n",
       "         6.35302208e-01, 5.43462244e-01, 5.31339085e-01, 1.53843859e-01,\n",
       "         4.28686741e-01, 5.57938632e-01, 3.96026175e-02, 4.00295260e-01,\n",
       "         8.80472783e-01, 2.40016421e-01, 6.70006587e-01, 7.81010840e-01,\n",
       "         4.98895979e-01, 6.65339837e-01, 9.48436939e-01, 7.20451078e-01,\n",
       "         6.05044703e-01, 4.59477549e-01, 8.23898163e-01, 8.95578708e-01,\n",
       "         6.99594953e-01, 3.60507036e-01, 1.51355672e-01, 5.20367239e-01,\n",
       "         1.42448055e-01, 3.60299291e-01, 3.64166595e-01, 6.47483952e-01,\n",
       "         7.62803794e-01, 3.63040841e-01, 8.07020021e-01, 2.13584136e-02,\n",
       "         6.89400516e-01, 4.28528990e-01, 7.23037927e-01, 1.41247471e-01,\n",
       "         6.83543859e-01, 2.70847255e-01, 9.43798785e-01, 1.28578821e-01,\n",
       "         7.45867332e-01, 3.80041049e-01, 8.76614036e-01, 8.69869810e-01,\n",
       "         1.61816852e-01, 8.29702886e-01, 3.58519956e-01, 4.78872912e-01,\n",
       "         2.19366981e-01, 4.29939308e-01, 8.40467283e-01, 7.13221775e-04,\n",
       "         8.45487670e-01, 2.02456176e-01, 7.42974501e-01, 3.25039190e-01,\n",
       "         8.54063423e-01, 6.46600959e-01, 9.81554647e-01, 6.17104973e-01,\n",
       "         4.26739693e-01, 2.00978347e-01, 3.22038543e-02, 2.98757904e-01,\n",
       "         6.03062953e-01, 3.80262723e-01, 8.64525851e-01, 1.55718125e-01,\n",
       "         9.91516756e-02, 2.39307183e-01, 4.17747661e-01, 1.13612305e-01,\n",
       "         1.32828055e-01, 5.59334721e-01, 3.23530671e-02, 1.03333326e-01,\n",
       "         2.32858204e-01, 9.28619998e-01, 9.41650952e-01, 8.61668626e-01,\n",
       "         4.73614152e-01, 3.76117754e-01, 6.85022405e-01, 8.70609575e-01,\n",
       "         6.52799376e-01, 1.48874861e-01, 9.26430350e-01, 7.61942221e-01,\n",
       "         1.09311832e-01, 9.02316740e-01, 6.57776494e-01, 3.46939794e-01,\n",
       "         8.46736933e-02, 5.42491764e-01, 1.41395682e-01, 1.18350218e-01,\n",
       "         7.83083745e-01, 5.53330200e-01, 8.10687572e-01, 2.71784127e-01,\n",
       "         9.11573220e-01, 8.37810005e-01, 5.14578868e-01, 9.45225060e-02,\n",
       "         3.24187341e-01, 2.48830412e-01, 1.79608654e-01, 6.14618302e-02,\n",
       "         5.39020649e-01, 6.85742166e-01, 5.94910145e-01, 2.28735961e-01,\n",
       "         1.04308258e-01, 6.73853855e-01, 6.35557832e-01, 7.51983048e-01,\n",
       "         4.50966904e-01, 1.60245487e-01, 8.27868712e-01, 6.63179999e-01,\n",
       "         5.67973789e-01, 9.53922290e-01, 7.87707533e-01, 9.10931814e-01,\n",
       "         6.49549878e-01, 3.62824658e-02, 9.39136905e-02, 5.63384110e-01,\n",
       "         3.86837386e-01, 8.13772731e-01, 6.88828490e-02, 2.94928962e-01,\n",
       "         7.71844620e-01, 5.07080944e-01, 3.36471865e-01, 6.14658395e-01,\n",
       "         6.66726436e-01, 8.79191507e-01, 1.55991315e-03, 4.60615515e-01,\n",
       "         5.37739447e-01, 8.01668734e-01, 7.79479896e-01, 1.73362602e-03,\n",
       "         2.51998308e-01, 2.08682671e-01, 6.99940708e-01, 7.30603114e-01,\n",
       "         6.90944779e-01, 2.81700483e-01, 7.29476609e-01, 6.55893078e-01,\n",
       "         9.02686133e-01, 8.61312636e-01, 5.65578675e-01, 4.49285053e-02,\n",
       "         1.85008596e-01, 8.48282063e-01, 9.49716975e-01, 9.80475174e-02,\n",
       "         6.96463326e-01, 4.59748599e-01, 7.97989404e-01, 1.66320880e-01,\n",
       "         5.27518268e-01, 1.69684172e-01, 1.89453763e-02, 7.06372361e-01,\n",
       "         2.28883424e-01, 5.00133508e-01, 2.15282616e-01, 6.83277375e-01,\n",
       "         1.84008714e-01, 8.49195713e-01, 6.25118257e-01, 5.34164296e-01,\n",
       "         5.82993712e-01, 8.99647166e-01, 9.41642066e-01, 8.72776447e-01,\n",
       "         9.15868438e-01]))]"
      ]
     },
     "execution_count": 20,
     "metadata": {},
     "output_type": "execute_result"
    }
   ],
   "source": [
    "expand_setpoints_helper(a.spectrum)"
   ]
  },
  {
   "cell_type": "code",
   "execution_count": 21,
   "metadata": {},
   "outputs": [
    {
     "name": "stdout",
     "output_type": "stream",
     "text": [
      "Starting experimental run with id: 2. \n"
     ]
    }
   ],
   "source": [
    "meas = Measurement()\n",
    "meas.register_parameter(a.spectrum)\n",
    "\n",
    "with meas.run() as datasaver:\n",
    "    datasaver.add_result(*expand_setpoints_helper(a.spectrum))\n",
    "    \n",
    "    dataid = datasaver.run_id"
   ]
  },
  {
   "cell_type": "code",
   "execution_count": null,
   "metadata": {},
   "outputs": [],
   "source": []
  }
 ],
 "metadata": {
  "kernelspec": {
   "display_name": "Python 3",
   "language": "python",
   "name": "python3"
  },
  "language_info": {
   "codemirror_mode": {
    "name": "ipython",
    "version": 3
   },
   "file_extension": ".py",
   "mimetype": "text/x-python",
   "name": "python",
   "nbconvert_exporter": "python",
   "pygments_lexer": "ipython3",
   "version": "3.7.7"
  },
  "toc": {
   "base_numbering": 1,
   "nav_menu": {},
   "number_sections": true,
   "sideBar": true,
   "skip_h1_title": false,
   "title_cell": "Table of Contents",
   "title_sidebar": "Contents",
   "toc_cell": false,
   "toc_position": {},
   "toc_section_display": true,
   "toc_window_display": false
  },
  "varInspector": {
   "cols": {
    "lenName": 16,
    "lenType": 16,
    "lenVar": 40
   },
   "kernels_config": {
    "python": {
     "delete_cmd_postfix": "",
     "delete_cmd_prefix": "del ",
     "library": "var_list.py",
     "varRefreshCmd": "print(var_dic_list())"
    },
    "r": {
     "delete_cmd_postfix": ") ",
     "delete_cmd_prefix": "rm(",
     "library": "var_list.r",
     "varRefreshCmd": "cat(var_dic_list()) "
    }
   },
   "types_to_exclude": [
    "module",
    "function",
    "builtin_function_or_method",
    "instance",
    "_Feature"
   ],
   "window_display": false
  }
 },
 "nbformat": 4,
 "nbformat_minor": 2
}
