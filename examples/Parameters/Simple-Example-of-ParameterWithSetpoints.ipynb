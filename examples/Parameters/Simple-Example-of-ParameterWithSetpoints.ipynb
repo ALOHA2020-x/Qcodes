{
 "cells": [
  {
   "cell_type": "markdown",
   "metadata": {},
   "source": [
    "# Simple Example of ParameterWithSetpoints\n",
    "This notebook provides an example for writing a simple driver with a parameter that has setpoints. Let's name this parameter that has setpoints as \"y\". Then, the setpoints, say \"x1, x2, x3 ..\", are the parameters on which the parameter \n",
    "\"y\" depends upon. Meaning \"y\" is a function of \"x1, x2, x3 ...\" where \"x1, x2, x3 ...\" are known as the setpoints of parameter \"y\".\n",
    "\n",
    "This is most likely to be useful for instruments that return arrays of results. In this notebook, we will show an example of this."
   ]
  },
  {
   "cell_type": "code",
   "execution_count": 1,
   "metadata": {},
   "outputs": [],
   "source": [
    "import numpy as np\n",
    "import os"
   ]
  },
  {
   "cell_type": "code",
   "execution_count": 2,
   "metadata": {},
   "outputs": [
    {
     "name": "stdout",
     "output_type": "stream",
     "text": [
      "Logging hadn't been started.\n",
      "Activating auto-logging. Current session state plus future input saved.\n",
      "Filename       : /home/vsts/.qcodes/logs/command_history.log\n",
      "Mode           : append\n",
      "Output logging : True\n",
      "Raw input log  : False\n",
      "Timestamping   : True\n",
      "State          : active\n"
     ]
    },
    {
     "name": "stdout",
     "output_type": "stream",
     "text": [
      "Qcodes Logfile : /home/vsts/.qcodes/logs/200515-24727-qcodes.log\n"
     ]
    }
   ],
   "source": [
    "from qcodes.dataset.plotting import plot_dataset\n",
    "from qcodes.utils.validators import Numbers, Arrays\n",
    "from qcodes.instrument.base import Instrument\n",
    "from qcodes.dataset.measurements import Measurement"
   ]
  },
  {
   "cell_type": "code",
   "execution_count": 3,
   "metadata": {},
   "outputs": [],
   "source": [
    "from qcodes.dataset.sqlite.database import initialise_or_create_database_at\n",
    "from qcodes.dataset.experiment_container import load_or_create_experiment"
   ]
  },
  {
   "cell_type": "code",
   "execution_count": 4,
   "metadata": {},
   "outputs": [],
   "source": [
    "from qcodes.instrument.parameter import ParameterWithSetpoints, Parameter\n",
    "from qcodes.instrument.parameter import expand_setpoints_helper"
   ]
  },
  {
   "cell_type": "markdown",
   "metadata": {},
   "source": [
    "First, we define a dummy instrument that returns something like a frequency spectrum starting from a frequency given by `f_start` to a frequency given by `f_stop` in `n_points` steps. \n",
    "\n",
    "The extra functionality of the `ParameterWithSetpoints` is implemented by giving it a reference to one or more parameters that acts like its setpoints. \n",
    "\n",
    "To setup a `ParameterWithSetpoints` we have to do two things in addition to what we do for a normal parameter.\n",
    "\n",
    "* Define one or more parameter for the setpoints (one for each dimension of the array and let the `ParameterWithSetpoints` know that these are the setpoints.\n",
    "* Give both the setpoints parameter(s) and the `ParameterWithSetpoints` a `validator` of type `Arrays` with a shape. The shapes should be such that the combined shape of the setpoints matches the shape of the `ParameterWithSetpoints`. Note that if the shape changes with the setting of the instrument, it can be defined by another parameter as shown below. "
   ]
  },
  {
   "cell_type": "code",
   "execution_count": 5,
   "metadata": {},
   "outputs": [],
   "source": [
    "class GeneratedSetPoints(Parameter):\n",
    "    \"\"\"\n",
    "    A parameter that generates a setpoint array from start, stop and num points\n",
    "    parameters.\n",
    "    \"\"\"\n",
    "    def __init__(self, startparam, stopparam, numpointsparam, *args, **kwargs):\n",
    "        super().__init__(*args, **kwargs)\n",
    "        self._startparam = startparam\n",
    "        self._stopparam = stopparam\n",
    "        self._numpointsparam = numpointsparam\n",
    "\n",
    "    def get_raw(self):\n",
    "        return np.linspace(self._startparam(), self._stopparam(),\n",
    "                              self._numpointsparam())\n",
    "\n",
    "class DummyArray(ParameterWithSetpoints):\n",
    "    \n",
    "    def get_raw(self):\n",
    "        npoints = self.root_instrument.n_points.get_latest()\n",
    "        return np.random.rand(npoints)\n",
    "    \n",
    "\n",
    "class DummySpectrumAnalyzer(Instrument):\n",
    "    \n",
    "    def __init__(self, name, **kwargs):\n",
    "        \n",
    "        super().__init__(name, **kwargs)\n",
    "            \n",
    "\n",
    "        self.add_parameter('f_start',\n",
    "                           initial_value=0,\n",
    "                           unit='Hz',\n",
    "                           label='f start',\n",
    "                           vals=Numbers(0,1e3),\n",
    "                           get_cmd=None,\n",
    "                           set_cmd=None)\n",
    "\n",
    "        self.add_parameter('f_stop',\n",
    "                           unit='Hz',\n",
    "                           label='f stop',\n",
    "                           vals=Numbers(1,1e3),\n",
    "                           get_cmd=None,\n",
    "                           set_cmd=None)\n",
    "\n",
    "        self.add_parameter('n_points',\n",
    "                           unit='',\n",
    "                           initial_value=10,\n",
    "                           vals=Numbers(1,1e3),\n",
    "                           get_cmd=None,\n",
    "                           set_cmd=None)\n",
    "        \n",
    "        self.add_parameter('freq_axis',\n",
    "                           unit='Hz',\n",
    "                           label='Freq Axis',\n",
    "                           parameter_class=GeneratedSetPoints,\n",
    "                           startparam=self.f_start,\n",
    "                           stopparam=self.f_stop,\n",
    "                           numpointsparam=self.n_points,\n",
    "                           vals=Arrays(shape=(self.n_points.get_latest,)))\n",
    "                           \n",
    "        self.add_parameter('spectrum',\n",
    "                   unit='dBm',\n",
    "                   setpoints=(self.freq_axis,),\n",
    "                   label='Spectrum',\n",
    "                   parameter_class=DummyArray,\n",
    "                   vals=Arrays(shape=(self.n_points.get_latest,)))\n",
    "                "
   ]
  },
  {
   "cell_type": "markdown",
   "metadata": {},
   "source": [
    "In the above example, the shape is defined by the parameter `n_points` that defines how many samples our `DummySpectrumAnalyzer` returns.\n",
    "\n",
    "This means that the validation will call the function to get `n_points` twice for each `get` of the parameter. This may be too slow, however, if you (as the driver-writer) can guarantee that the cached value for `n_points` will never be out of sync with the value stored in the instrument, `n_points` may be replaced by it's latest known value such that the `validator` reads:\n",
    "```python\n",
    "vals=Arrays(shape=(self.n_points.get_latest))\n",
    "```\n",
    "\n",
    "This avoids any additional call to the instrument. In the same way, the arguments to the `freq_axis` parameter that defines the start, stop and number of points can be replaced by their latest value if the instrument allows it.\n",
    "\n"
   ]
  },
  {
   "cell_type": "code",
   "execution_count": 6,
   "metadata": {},
   "outputs": [
    {
     "name": "stdout",
     "output_type": "stream",
     "text": [
      "\r",
      "0it [00:00, ?it/s]"
     ]
    },
    {
     "name": "stdout",
     "output_type": "stream",
     "text": [
      "\r",
      "Upgrading database; v0 -> v1: : 0it [00:00, ?it/s]"
     ]
    },
    {
     "name": "stdout",
     "output_type": "stream",
     "text": [
      "\r",
      "Upgrading database; v0 -> v1: : 0it [00:00, ?it/s]"
     ]
    },
    {
     "name": "stdout",
     "output_type": "stream",
     "text": [
      "\n",
      "\r",
      "  0%|          | 0/1 [00:00<?, ?it/s]"
     ]
    },
    {
     "name": "stdout",
     "output_type": "stream",
     "text": [
      "\r",
      "Upgrading database; v1 -> v2:   0%|          | 0/1 [00:00<?, ?it/s]"
     ]
    },
    {
     "name": "stdout",
     "output_type": "stream",
     "text": [
      "\r",
      "Upgrading database; v1 -> v2: 100%|██████████| 1/1 [00:00<00:00, 1104.35it/s]"
     ]
    },
    {
     "name": "stdout",
     "output_type": "stream",
     "text": [
      "\n",
      "\r",
      "0it [00:00, ?it/s]"
     ]
    },
    {
     "name": "stdout",
     "output_type": "stream",
     "text": [
      "\r",
      "Upgrading database; v2 -> v3: : 0it [00:00, ?it/s]"
     ]
    },
    {
     "name": "stdout",
     "output_type": "stream",
     "text": [
      "\r",
      "Upgrading database; v2 -> v3: : 0it [00:00, ?it/s]"
     ]
    },
    {
     "name": "stdout",
     "output_type": "stream",
     "text": [
      "\n",
      "\r",
      "0it [00:00, ?it/s]"
     ]
    },
    {
     "name": "stdout",
     "output_type": "stream",
     "text": [
      "\r",
      "Upgrading database; v3 -> v4: : 0it [00:00, ?it/s]"
     ]
    },
    {
     "name": "stdout",
     "output_type": "stream",
     "text": [
      "\r",
      "Upgrading database; v3 -> v4: : 0it [00:00, ?it/s]"
     ]
    },
    {
     "name": "stdout",
     "output_type": "stream",
     "text": [
      "\n",
      "\r",
      "  0%|          | 0/1 [00:00<?, ?it/s]"
     ]
    },
    {
     "name": "stdout",
     "output_type": "stream",
     "text": [
      "\r",
      "Upgrading database; v4 -> v5:   0%|          | 0/1 [00:00<?, ?it/s]"
     ]
    },
    {
     "name": "stdout",
     "output_type": "stream",
     "text": [
      "\r",
      "Upgrading database; v4 -> v5: 100%|██████████| 1/1 [00:00<00:00, 837.19it/s]"
     ]
    },
    {
     "name": "stdout",
     "output_type": "stream",
     "text": [
      "\n",
      "\r",
      "0it [00:00, ?it/s]"
     ]
    },
    {
     "name": "stdout",
     "output_type": "stream",
     "text": [
      "\r",
      "Upgrading database; v5 -> v6: : 0it [00:00, ?it/s]"
     ]
    },
    {
     "name": "stdout",
     "output_type": "stream",
     "text": [
      "\r",
      "Upgrading database; v5 -> v6: : 0it [00:00, ?it/s]"
     ]
    },
    {
     "name": "stdout",
     "output_type": "stream",
     "text": [
      "\n",
      "\r",
      "  0%|          | 0/1 [00:00<?, ?it/s]"
     ]
    },
    {
     "name": "stdout",
     "output_type": "stream",
     "text": [
      "\r",
      "Upgrading database; v6 -> v7:   0%|          | 0/1 [00:00<?, ?it/s]"
     ]
    },
    {
     "name": "stdout",
     "output_type": "stream",
     "text": [
      "\r",
      "Upgrading database; v6 -> v7: 100%|██████████| 1/1 [00:00<00:00, 336.30it/s]"
     ]
    },
    {
     "name": "stdout",
     "output_type": "stream",
     "text": [
      "\n",
      "\r",
      "  0%|          | 0/1 [00:00<?, ?it/s]"
     ]
    },
    {
     "name": "stdout",
     "output_type": "stream",
     "text": [
      "\r",
      "Upgrading database; v7 -> v8:   0%|          | 0/1 [00:00<?, ?it/s]"
     ]
    },
    {
     "name": "stdout",
     "output_type": "stream",
     "text": [
      "\r",
      "Upgrading database; v7 -> v8: 100%|██████████| 1/1 [00:00<00:00, 810.34it/s]"
     ]
    },
    {
     "name": "stdout",
     "output_type": "stream",
     "text": [
      "\n",
      "\r",
      "  0%|          | 0/1 [00:00<?, ?it/s]"
     ]
    },
    {
     "name": "stdout",
     "output_type": "stream",
     "text": [
      "\r",
      "Upgrading database; v8 -> v9:   0%|          | 0/1 [00:00<?, ?it/s]"
     ]
    },
    {
     "name": "stdout",
     "output_type": "stream",
     "text": [
      "\r",
      "Upgrading database; v8 -> v9: 100%|██████████| 1/1 [00:00<00:00, 1089.15it/s]"
     ]
    },
    {
     "name": "stdout",
     "output_type": "stream",
     "text": [
      "\n"
     ]
    },
    {
     "data": {
      "text/plain": [
       "tutorial_ParameterWithSetpoints#no sample#1@/home/vsts/work/1/s/docs/examples/Parameters/tutorial_paramter_with_setpoints.db\n",
       "----------------------------------------------------------------------------------------------------------------------------"
      ]
     },
     "execution_count": 6,
     "metadata": {},
     "output_type": "execute_result"
    }
   ],
   "source": [
    "tutorial_db_path = os.path.join(os.getcwd(), 'tutorial_paramter_with_setpoints.db')\n",
    "initialise_or_create_database_at(tutorial_db_path)\n",
    "load_or_create_experiment(experiment_name='tutorial_ParameterWithSetpoints', sample_name=\"no sample\")"
   ]
  },
  {
   "cell_type": "code",
   "execution_count": 7,
   "metadata": {},
   "outputs": [],
   "source": [
    "a = DummySpectrumAnalyzer('foobar')"
   ]
  },
  {
   "cell_type": "markdown",
   "metadata": {},
   "source": [
    "First we setup the limits of the spectrum"
   ]
  },
  {
   "cell_type": "code",
   "execution_count": 8,
   "metadata": {},
   "outputs": [],
   "source": [
    "a.f_start(0)\n",
    "a.f_stop(500)\n",
    "a.n_points(501)"
   ]
  },
  {
   "cell_type": "markdown",
   "metadata": {},
   "source": [
    "And we can grab the frequency axis"
   ]
  },
  {
   "cell_type": "code",
   "execution_count": 9,
   "metadata": {},
   "outputs": [
    {
     "data": {
      "text/plain": [
       "501"
      ]
     },
     "execution_count": 9,
     "metadata": {},
     "output_type": "execute_result"
    }
   ],
   "source": [
    "a.n_points()"
   ]
  },
  {
   "cell_type": "code",
   "execution_count": 10,
   "metadata": {
    "scrolled": false
   },
   "outputs": [
    {
     "data": {
      "text/plain": [
       "501"
      ]
     },
     "execution_count": 10,
     "metadata": {},
     "output_type": "execute_result"
    }
   ],
   "source": [
    "freq_axis = a.freq_axis()\n",
    "len(freq_axis)"
   ]
  },
  {
   "cell_type": "code",
   "execution_count": 11,
   "metadata": {},
   "outputs": [
    {
     "data": {
      "text/plain": [
       "array([0., 1., 2., 3., 4., 5., 6., 7., 8., 9.])"
      ]
     },
     "execution_count": 11,
     "metadata": {},
     "output_type": "execute_result"
    }
   ],
   "source": [
    "freq_axis[:10]"
   ]
  },
  {
   "cell_type": "markdown",
   "metadata": {},
   "source": [
    "As expected we get a result wit 501 points as we asked for an axis with 501 points. "
   ]
  },
  {
   "cell_type": "markdown",
   "metadata": {},
   "source": [
    "Above we have added a validator to the `freq_axis` parameter encoding the fact that this is an Array with `n_points`. Note that we do not have to supply the number of points as an integer but can supply a function that returns the valid number of points. This would normally be a QCoDeS parameter.\n",
    "\n",
    "This will be checked if we validate the output."
   ]
  },
  {
   "cell_type": "code",
   "execution_count": 12,
   "metadata": {},
   "outputs": [],
   "source": [
    "a.freq_axis.validate(a.freq_axis.get())"
   ]
  },
  {
   "cell_type": "markdown",
   "metadata": {},
   "source": [
    "Naturally, we can also get the spectrum. Getting the spectrum will automatically perform validation both for the shape of the parameter itself and the relation to the setpoint parameter(s)"
   ]
  },
  {
   "cell_type": "code",
   "execution_count": 13,
   "metadata": {
    "scrolled": true
   },
   "outputs": [
    {
     "data": {
      "text/plain": [
       "501"
      ]
     },
     "execution_count": 13,
     "metadata": {},
     "output_type": "execute_result"
    }
   ],
   "source": [
    "spectrum = a.spectrum.get()\n",
    "len(spectrum)"
   ]
  },
  {
   "cell_type": "markdown",
   "metadata": {},
   "source": [
    "When we validate a `ParameterWithSetpoints`, we automatically validate that the shape is consistent between the parameters and its setpoints. As well as validating the shape as above."
   ]
  },
  {
   "cell_type": "code",
   "execution_count": 14,
   "metadata": {},
   "outputs": [],
   "source": [
    "a.spectrum.validate(a.spectrum.get())"
   ]
  },
  {
   "cell_type": "markdown",
   "metadata": {},
   "source": [
    "The consistent shapes can be validated explicitly."
   ]
  },
  {
   "cell_type": "code",
   "execution_count": 15,
   "metadata": {},
   "outputs": [],
   "source": [
    "a.spectrum.validate_consistent_shape()"
   ]
  },
  {
   "cell_type": "markdown",
   "metadata": {},
   "source": [
    "We can inspect the setpoints of the spectrum."
   ]
  },
  {
   "cell_type": "code",
   "execution_count": 16,
   "metadata": {},
   "outputs": [
    {
     "data": {
      "text/plain": [
       "(<__main__.GeneratedSetPoints: freq_axis at 140566716104784>,)"
      ]
     },
     "execution_count": 16,
     "metadata": {},
     "output_type": "execute_result"
    }
   ],
   "source": [
    "a.spectrum.setpoints"
   ]
  },
  {
   "cell_type": "markdown",
   "metadata": {},
   "source": [
    "Or even change them."
   ]
  },
  {
   "cell_type": "code",
   "execution_count": 17,
   "metadata": {},
   "outputs": [],
   "source": [
    "a.spectrum.setpoints = (a.freq_axis,)"
   ]
  },
  {
   "cell_type": "markdown",
   "metadata": {},
   "source": [
    "## Measurement"
   ]
  },
  {
   "cell_type": "markdown",
   "metadata": {},
   "source": [
    "We can also directly consume the parameter in a measurement without defining the setpoints of the parameter again. The setpoints are automatically obtained from the definition of the `ParameterWithSetpoint` instance. "
   ]
  },
  {
   "cell_type": "code",
   "execution_count": 18,
   "metadata": {},
   "outputs": [
    {
     "name": "stdout",
     "output_type": "stream",
     "text": [
      "Starting experimental run with id: 1. \n"
     ]
    }
   ],
   "source": [
    "meas = Measurement()\n",
    "meas.register_parameter(a.spectrum)\n",
    "\n",
    "with meas.run() as datasaver:\n",
    "    datasaver.add_result((a.freq_axis, a.freq_axis()),\n",
    "                         (a.spectrum, a.spectrum()))\n",
    "    dataset = datasaver.dataset"
   ]
  },
  {
   "cell_type": "markdown",
   "metadata": {},
   "source": [
    "And plot it"
   ]
  },
  {
   "cell_type": "code",
   "execution_count": 19,
   "metadata": {},
   "outputs": [
    {
     "data": {
      "text/plain": [
       "([<matplotlib.axes._subplots.AxesSubplot at 0x7fd83d308690>], [None])"
      ]
     },
     "execution_count": 19,
     "metadata": {},
     "output_type": "execute_result"
    },
    {
     "data": {
      "image/png": "[encoded data removed]",
      "text/plain": [
       "<Figure size 432x288 with 1 Axes>"
      ]
     },
     "metadata": {
      "needs_background": "light"
     },
     "output_type": "display_data"
    }
   ],
   "source": [
    "plot_dataset(dataset)"
   ]
  },
  {
   "cell_type": "markdown",
   "metadata": {},
   "source": [
    "To reduce the amount of typing a simple convenience function is provided that will take a `ParameterWithSetpoints` and get both its values and the setpoints values and return them as tuples for direct insertion into the Dataset."
   ]
  },
  {
   "cell_type": "code",
   "execution_count": 20,
   "metadata": {
    "scrolled": true
   },
   "outputs": [
    {
     "data": {
      "text/plain": [
       "[(<__main__.GeneratedSetPoints: freq_axis at 140566716104784>,\n",
       "  array([  0.,   1.,   2.,   3.,   4.,   5.,   6.,   7.,   8.,   9.,  10.,\n",
       "          11.,  12.,  13.,  14.,  15.,  16.,  17.,  18.,  19.,  20.,  21.,\n",
       "          22.,  23.,  24.,  25.,  26.,  27.,  28.,  29.,  30.,  31.,  32.,\n",
       "          33.,  34.,  35.,  36.,  37.,  38.,  39.,  40.,  41.,  42.,  43.,\n",
       "          44.,  45.,  46.,  47.,  48.,  49.,  50.,  51.,  52.,  53.,  54.,\n",
       "          55.,  56.,  57.,  58.,  59.,  60.,  61.,  62.,  63.,  64.,  65.,\n",
       "          66.,  67.,  68.,  69.,  70.,  71.,  72.,  73.,  74.,  75.,  76.,\n",
       "          77.,  78.,  79.,  80.,  81.,  82.,  83.,  84.,  85.,  86.,  87.,\n",
       "          88.,  89.,  90.,  91.,  92.,  93.,  94.,  95.,  96.,  97.,  98.,\n",
       "          99., 100., 101., 102., 103., 104., 105., 106., 107., 108., 109.,\n",
       "         110., 111., 112., 113., 114., 115., 116., 117., 118., 119., 120.,\n",
       "         121., 122., 123., 124., 125., 126., 127., 128., 129., 130., 131.,\n",
       "         132., 133., 134., 135., 136., 137., 138., 139., 140., 141., 142.,\n",
       "         143., 144., 145., 146., 147., 148., 149., 150., 151., 152., 153.,\n",
       "         154., 155., 156., 157., 158., 159., 160., 161., 162., 163., 164.,\n",
       "         165., 166., 167., 168., 169., 170., 171., 172., 173., 174., 175.,\n",
       "         176., 177., 178., 179., 180., 181., 182., 183., 184., 185., 186.,\n",
       "         187., 188., 189., 190., 191., 192., 193., 194., 195., 196., 197.,\n",
       "         198., 199., 200., 201., 202., 203., 204., 205., 206., 207., 208.,\n",
       "         209., 210., 211., 212., 213., 214., 215., 216., 217., 218., 219.,\n",
       "         220., 221., 222., 223., 224., 225., 226., 227., 228., 229., 230.,\n",
       "         231., 232., 233., 234., 235., 236., 237., 238., 239., 240., 241.,\n",
       "         242., 243., 244., 245., 246., 247., 248., 249., 250., 251., 252.,\n",
       "         253., 254., 255., 256., 257., 258., 259., 260., 261., 262., 263.,\n",
       "         264., 265., 266., 267., 268., 269., 270., 271., 272., 273., 274.,\n",
       "         275., 276., 277., 278., 279., 280., 281., 282., 283., 284., 285.,\n",
       "         286., 287., 288., 289., 290., 291., 292., 293., 294., 295., 296.,\n",
       "         297., 298., 299., 300., 301., 302., 303., 304., 305., 306., 307.,\n",
       "         308., 309., 310., 311., 312., 313., 314., 315., 316., 317., 318.,\n",
       "         319., 320., 321., 322., 323., 324., 325., 326., 327., 328., 329.,\n",
       "         330., 331., 332., 333., 334., 335., 336., 337., 338., 339., 340.,\n",
       "         341., 342., 343., 344., 345., 346., 347., 348., 349., 350., 351.,\n",
       "         352., 353., 354., 355., 356., 357., 358., 359., 360., 361., 362.,\n",
       "         363., 364., 365., 366., 367., 368., 369., 370., 371., 372., 373.,\n",
       "         374., 375., 376., 377., 378., 379., 380., 381., 382., 383., 384.,\n",
       "         385., 386., 387., 388., 389., 390., 391., 392., 393., 394., 395.,\n",
       "         396., 397., 398., 399., 400., 401., 402., 403., 404., 405., 406.,\n",
       "         407., 408., 409., 410., 411., 412., 413., 414., 415., 416., 417.,\n",
       "         418., 419., 420., 421., 422., 423., 424., 425., 426., 427., 428.,\n",
       "         429., 430., 431., 432., 433., 434., 435., 436., 437., 438., 439.,\n",
       "         440., 441., 442., 443., 444., 445., 446., 447., 448., 449., 450.,\n",
       "         451., 452., 453., 454., 455., 456., 457., 458., 459., 460., 461.,\n",
       "         462., 463., 464., 465., 466., 467., 468., 469., 470., 471., 472.,\n",
       "         473., 474., 475., 476., 477., 478., 479., 480., 481., 482., 483.,\n",
       "         484., 485., 486., 487., 488., 489., 490., 491., 492., 493., 494.,\n",
       "         495., 496., 497., 498., 499., 500.])),\n",
       " (<__main__.DummyArray: spectrum at 140566716074960>,\n",
       "  array([3.67636494e-01, 8.14542879e-01, 6.21133728e-01, 9.16379793e-01,\n",
       "         5.98175515e-01, 4.01217586e-01, 7.51128074e-02, 7.62223631e-01,\n",
       "         9.92225621e-01, 8.20539653e-01, 9.89615784e-02, 1.07405853e-02,\n",
       "         9.53379189e-01, 4.57202314e-01, 8.98318429e-01, 5.60621689e-02,\n",
       "         8.70115993e-01, 8.87959665e-01, 1.74391209e-01, 1.95829945e-01,\n",
       "         1.02162718e-01, 2.31496545e-01, 5.10266328e-01, 9.89287273e-01,\n",
       "         4.97680687e-01, 1.47355222e-01, 5.20951542e-01, 5.12703519e-01,\n",
       "         9.20896800e-01, 1.08420811e-02, 5.53673304e-01, 5.97294692e-01,\n",
       "         7.71472714e-01, 4.44446962e-01, 6.57416117e-01, 5.14478044e-01,\n",
       "         9.61428432e-01, 1.39903151e-02, 6.53891488e-01, 2.76842346e-01,\n",
       "         2.31247125e-01, 6.48671125e-02, 6.74083591e-01, 8.58944141e-01,\n",
       "         3.82187530e-01, 5.08488796e-01, 8.88392392e-01, 9.40685644e-01,\n",
       "         5.59577307e-01, 5.57576211e-01, 8.75561620e-01, 2.76841202e-01,\n",
       "         6.63201484e-01, 9.63214220e-01, 8.19056017e-01, 1.80180785e-01,\n",
       "         4.03945731e-01, 3.82431466e-01, 9.09781357e-01, 8.67676019e-01,\n",
       "         5.45763025e-01, 7.32411320e-01, 9.88386143e-01, 5.21462432e-01,\n",
       "         7.94645465e-01, 3.60664702e-01, 6.04079185e-01, 8.67027490e-01,\n",
       "         5.35177321e-01, 4.22010910e-01, 2.51912071e-01, 5.91437621e-01,\n",
       "         6.67310934e-01, 8.46160430e-01, 3.54208322e-01, 7.34888598e-01,\n",
       "         4.10078909e-02, 1.85623347e-01, 6.89654059e-01, 1.30921471e-01,\n",
       "         2.58680702e-01, 6.83709233e-01, 1.27099843e-01, 1.58560624e-01,\n",
       "         5.34924975e-01, 7.15567033e-01, 4.70553299e-01, 5.15027522e-01,\n",
       "         1.81749385e-01, 9.41505388e-01, 2.98134657e-01, 5.38469035e-01,\n",
       "         7.54809594e-01, 6.10803266e-01, 9.57153660e-01, 7.70021045e-01,\n",
       "         9.92650295e-01, 9.21115259e-01, 2.88074868e-01, 9.39328380e-01,\n",
       "         9.57462523e-01, 5.61528268e-01, 5.17170337e-02, 2.91830072e-01,\n",
       "         2.68141737e-01, 4.43201898e-01, 9.44451130e-01, 4.10984049e-01,\n",
       "         5.98709656e-01, 3.37355960e-01, 2.12164621e-01, 2.33120195e-01,\n",
       "         6.87344213e-01, 4.61979606e-01, 4.86199863e-01, 3.92354277e-01,\n",
       "         7.19092188e-01, 2.79360197e-01, 5.06230390e-01, 8.94295860e-03,\n",
       "         5.82103460e-01, 5.46155613e-01, 8.98881185e-01, 9.42113815e-01,\n",
       "         5.24808568e-01, 5.15727925e-01, 4.45009561e-01, 1.06988384e-01,\n",
       "         4.56634346e-01, 2.69187842e-01, 1.53066874e-01, 4.55919146e-01,\n",
       "         4.89284331e-01, 6.99348398e-01, 8.29548181e-01, 3.69100617e-01,\n",
       "         3.54934732e-01, 2.42539931e-01, 9.63356727e-01, 2.80007049e-01,\n",
       "         6.28942036e-01, 5.96998391e-01, 9.58986665e-01, 1.01379561e-01,\n",
       "         4.22166104e-01, 6.28686462e-01, 6.75872196e-01, 8.36240505e-01,\n",
       "         4.93878734e-01, 5.41352817e-01, 6.13872654e-01, 1.69606328e-01,\n",
       "         7.47994644e-01, 9.73861301e-01, 7.56886738e-01, 5.19030517e-01,\n",
       "         4.51409084e-01, 5.56003238e-01, 9.19045899e-01, 8.18262061e-01,\n",
       "         7.70750330e-01, 3.93011196e-01, 2.01737591e-01, 8.90701152e-01,\n",
       "         9.07128343e-01, 6.66018125e-01, 3.93866814e-01, 9.22133620e-01,\n",
       "         7.91822037e-01, 8.31636213e-02, 3.22133975e-01, 5.64828200e-01,\n",
       "         2.34831610e-01, 3.96819347e-01, 1.69588700e-02, 3.96265985e-01,\n",
       "         2.90048055e-01, 7.85678594e-01, 5.76111251e-01, 8.78386210e-01,\n",
       "         4.13197845e-01, 6.73086224e-02, 1.00963766e-01, 4.27410825e-01,\n",
       "         9.01868066e-01, 6.67110662e-02, 9.95914773e-02, 6.19421921e-02,\n",
       "         5.49835460e-01, 6.05246188e-02, 9.87035086e-02, 3.08318400e-01,\n",
       "         8.75336284e-01, 3.81861222e-01, 1.85761417e-01, 3.72001769e-01,\n",
       "         4.78941342e-01, 4.14870604e-01, 7.13570129e-01, 5.86885703e-02,\n",
       "         7.88075332e-01, 8.79505186e-01, 2.60490196e-01, 9.80949445e-01,\n",
       "         9.97376205e-01, 8.68156019e-01, 6.67367262e-01, 9.12786407e-01,\n",
       "         1.52153400e-01, 5.02090455e-01, 2.40353395e-01, 1.41995872e-01,\n",
       "         9.36760199e-01, 8.05806192e-01, 2.88488926e-01, 6.10618172e-01,\n",
       "         3.95946113e-01, 5.98898064e-01, 6.74402798e-02, 4.00294837e-01,\n",
       "         4.07336567e-01, 1.01978686e-01, 7.06283295e-01, 4.50540596e-01,\n",
       "         1.68956719e-01, 7.33298877e-01, 5.76882399e-01, 8.78872789e-03,\n",
       "         1.90071829e-01, 7.48949102e-01, 9.79569804e-01, 8.91307414e-02,\n",
       "         4.31711751e-01, 4.41331493e-01, 7.38771903e-01, 8.12083822e-01,\n",
       "         4.75110903e-01, 4.27331836e-01, 2.42379593e-01, 7.45768572e-01,\n",
       "         7.02306486e-01, 3.88678444e-01, 5.02887579e-01, 5.00912790e-02,\n",
       "         9.33613801e-01, 4.72554984e-01, 3.25652062e-01, 3.87000517e-01,\n",
       "         3.94198910e-01, 9.23271931e-01, 3.18309257e-05, 5.61141555e-01,\n",
       "         5.12443485e-01, 9.40332899e-01, 9.63562647e-01, 1.46848240e-01,\n",
       "         9.35054763e-01, 7.30597921e-01, 6.13166726e-01, 1.26834916e-01,\n",
       "         9.98994518e-01, 1.51616161e-02, 4.32852846e-01, 3.73626105e-01,\n",
       "         7.06053704e-01, 2.96636619e-01, 7.23578671e-01, 3.90999060e-01,\n",
       "         3.50332174e-01, 2.33942501e-01, 2.21384422e-01, 2.07609104e-01,\n",
       "         2.23965035e-01, 6.32665542e-01, 2.59611382e-01, 9.23906575e-01,\n",
       "         5.06482866e-01, 5.11274677e-01, 1.15534821e-01, 3.77487112e-01,\n",
       "         6.84885373e-03, 6.49081058e-01, 9.47697802e-01, 3.67897124e-01,\n",
       "         6.87030296e-03, 3.65510258e-01, 5.01914563e-01, 4.77693669e-01,\n",
       "         8.83990690e-01, 4.12180783e-01, 6.54756998e-03, 7.84354127e-01,\n",
       "         6.34391227e-01, 4.11025403e-01, 5.34214742e-01, 9.05112196e-01,\n",
       "         4.92943113e-01, 7.32826158e-01, 6.94039518e-01, 5.67960225e-01,\n",
       "         5.85872048e-01, 6.98385688e-02, 6.69517951e-01, 3.62545878e-02,\n",
       "         4.00545866e-01, 1.51183976e-01, 2.09538723e-01, 6.26331997e-01,\n",
       "         3.79269818e-01, 8.95383123e-01, 6.56835524e-01, 7.00968097e-01,\n",
       "         7.84702892e-01, 4.18386676e-01, 4.56687390e-01, 2.48832073e-02,\n",
       "         6.97526360e-01, 7.60500350e-01, 5.55347027e-01, 6.18512690e-01,\n",
       "         5.41561530e-01, 3.52589994e-01, 3.30489634e-01, 4.03599675e-01,\n",
       "         3.25749032e-01, 6.84632275e-01, 2.20285050e-01, 7.40712630e-01,\n",
       "         2.23521068e-01, 4.89457765e-01, 2.66459447e-01, 9.07523240e-01,\n",
       "         8.85208679e-01, 3.73893403e-01, 4.16231841e-01, 3.70943949e-01,\n",
       "         3.61040529e-01, 6.16430513e-02, 6.24101724e-01, 1.90416010e-01,\n",
       "         6.25531958e-01, 4.93738029e-01, 1.76163706e-02, 3.59199728e-01,\n",
       "         2.50202457e-01, 1.03418081e-02, 7.94003825e-01, 6.96438918e-01,\n",
       "         7.80525656e-01, 6.18589820e-01, 6.25422724e-01, 7.55891683e-01,\n",
       "         4.95147314e-01, 7.01662972e-01, 5.40389387e-01, 2.21828096e-01,\n",
       "         9.01554628e-01, 4.63695997e-01, 6.25496560e-01, 1.43261826e-01,\n",
       "         3.11138828e-01, 6.67628050e-01, 8.07543915e-01, 1.91392531e-02,\n",
       "         7.71966391e-01, 6.81286235e-01, 1.21266845e-01, 8.41243040e-01,\n",
       "         1.27699085e-01, 9.37094410e-01, 9.53871292e-01, 5.62651092e-01,\n",
       "         8.20358552e-01, 3.37427540e-01, 7.13252195e-01, 2.50344047e-01,\n",
       "         6.44017211e-01, 1.80757214e-01, 8.23731149e-01, 6.92313006e-01,\n",
       "         5.84635306e-01, 7.63401773e-02, 5.52059882e-01, 6.44156248e-01,\n",
       "         5.20291108e-01, 2.10539070e-02, 9.54658528e-01, 3.29552729e-01,\n",
       "         4.38395101e-01, 6.39526034e-01, 1.18825628e-01, 5.02579954e-01,\n",
       "         3.59714717e-01, 8.28123369e-01, 3.69497112e-01, 6.18353119e-01,\n",
       "         7.48789059e-01, 1.35276868e-01, 6.55662939e-01, 8.33493458e-01,\n",
       "         6.32555530e-01, 4.60669959e-01, 8.39737735e-01, 3.04328063e-02,\n",
       "         6.35183716e-01, 2.06978090e-01, 6.89202232e-01, 3.51667597e-01,\n",
       "         2.19984238e-01, 9.25313160e-01, 5.19195567e-01, 2.45931804e-02,\n",
       "         5.94504422e-01, 8.25448316e-01, 2.29629616e-02, 5.01341763e-01,\n",
       "         6.04509874e-01, 6.36424118e-01, 3.31286458e-01, 7.27154168e-01,\n",
       "         7.45238090e-01, 2.09609788e-02, 6.20725900e-01, 2.89724287e-01,\n",
       "         5.85215445e-01, 2.33324714e-01, 1.00178814e-01, 9.29235346e-01,\n",
       "         3.59591265e-01, 7.23014391e-01, 4.16426873e-01, 3.83899007e-01,\n",
       "         3.03575049e-01, 2.98294218e-01, 9.59238598e-01, 4.37873764e-01,\n",
       "         5.25590464e-01, 2.82519661e-01, 9.85764018e-01, 9.36921707e-01,\n",
       "         4.49503456e-01, 1.17978120e-01, 4.21809879e-01, 7.73426727e-01,\n",
       "         7.39295144e-01, 6.90668188e-01, 4.10012707e-01, 5.09411794e-01,\n",
       "         1.40503607e-01, 6.47851407e-01, 3.96745989e-01, 2.75000659e-01,\n",
       "         2.17217349e-01, 3.07430141e-02, 1.45866592e-01, 9.64614512e-01,\n",
       "         1.85407413e-01, 7.86910047e-01, 4.67821604e-01, 8.48376108e-01,\n",
       "         7.58356920e-02, 9.87968782e-01, 1.20759987e-01, 2.87069662e-01,\n",
       "         7.31181231e-02, 9.24472033e-01, 1.25076507e-01, 3.25414979e-01,\n",
       "         6.08027038e-01, 7.39994639e-01, 1.38472353e-01, 4.55521833e-01,\n",
       "         5.15156259e-01, 3.69609221e-01, 5.00976573e-01, 3.16418225e-01,\n",
       "         4.22699453e-01, 7.71852732e-01, 4.02002085e-01, 6.48131114e-01,\n",
       "         5.76427004e-01, 1.98720844e-01, 8.05140002e-01, 4.44517558e-01,\n",
       "         5.64863454e-01, 7.21133807e-01, 9.19347703e-01, 2.69946981e-01,\n",
       "         3.83979261e-01, 5.56997453e-01, 3.36458253e-01, 6.50857695e-01,\n",
       "         6.61831270e-01, 8.48304793e-02, 6.62466513e-01, 3.23063457e-03,\n",
       "         5.45652142e-01, 2.78226508e-01, 7.77659386e-01, 6.66411839e-01,\n",
       "         7.64504160e-01]))]"
      ]
     },
     "execution_count": 20,
     "metadata": {},
     "output_type": "execute_result"
    }
   ],
   "source": [
    "expand_setpoints_helper(a.spectrum)"
   ]
  },
  {
   "cell_type": "code",
   "execution_count": 21,
   "metadata": {},
   "outputs": [
    {
     "name": "stdout",
     "output_type": "stream",
     "text": [
      "Starting experimental run with id: 2. \n"
     ]
    }
   ],
   "source": [
    "meas = Measurement()\n",
    "meas.register_parameter(a.spectrum)\n",
    "\n",
    "with meas.run() as datasaver:\n",
    "    datasaver.add_result(*expand_setpoints_helper(a.spectrum))\n",
    "    \n",
    "    dataid = datasaver.run_id"
   ]
  },
  {
   "cell_type": "code",
   "execution_count": null,
   "metadata": {},
   "outputs": [],
   "source": []
  }
 ],
 "metadata": {
  "kernelspec": {
   "display_name": "Python 3",
   "language": "python",
   "name": "python3"
  },
  "language_info": {
   "codemirror_mode": {
    "name": "ipython",
    "version": 3
   },
   "file_extension": ".py",
   "mimetype": "text/x-python",
   "name": "python",
   "nbconvert_exporter": "python",
   "pygments_lexer": "ipython3",
   "version": "3.7.7"
  },
  "toc": {
   "base_numbering": 1,
   "nav_menu": {},
   "number_sections": true,
   "sideBar": true,
   "skip_h1_title": false,
   "title_cell": "Table of Contents",
   "title_sidebar": "Contents",
   "toc_cell": false,
   "toc_position": {},
   "toc_section_display": true,
   "toc_window_display": false
  },
  "varInspector": {
   "cols": {
    "lenName": 16,
    "lenType": 16,
    "lenVar": 40
   },
   "kernels_config": {
    "python": {
     "delete_cmd_postfix": "",
     "delete_cmd_prefix": "del ",
     "library": "var_list.py",
     "varRefreshCmd": "print(var_dic_list())"
    },
    "r": {
     "delete_cmd_postfix": ") ",
     "delete_cmd_prefix": "rm(",
     "library": "var_list.r",
     "varRefreshCmd": "cat(var_dic_list()) "
    }
   },
   "types_to_exclude": [
    "module",
    "function",
    "builtin_function_or_method",
    "instance",
    "_Feature"
   ],
   "window_display": false
  }
 },
 "nbformat": 4,
 "nbformat_minor": 2
}
