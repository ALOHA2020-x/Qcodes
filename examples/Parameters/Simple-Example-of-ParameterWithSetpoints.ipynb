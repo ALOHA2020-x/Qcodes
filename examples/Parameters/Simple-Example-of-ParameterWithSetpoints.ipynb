{
 "cells": [
  {
   "cell_type": "markdown",
   "metadata": {},
   "source": [
    "# Simple Example of ParameterWithSetpoints\n",
    "This notebook provides an example for writing a simple driver with a parameter that has setpoints. Let's name this parameter that has setpoints as \"y\". Then, the setpoints, say \"x1, x2, x3 ..\", are the parameters on which the parameter \n",
    "\"y\" depends upon. Meaning \"y\" is a function of \"x1, x2, x3 ...\" where \"x1, x2, x3 ...\" are known as the setpoints of parameter \"y\".\n",
    "\n",
    "This is most likely to be useful for instruments that return arrays of results. In this notebook, we will show an example of this."
   ]
  },
  {
   "cell_type": "code",
   "execution_count": 1,
   "metadata": {
    "execution": {
     "iopub.execute_input": "2020-09-11T06:19:05.204807Z",
     "iopub.status.busy": "2020-09-11T06:19:05.204168Z",
     "iopub.status.idle": "2020-09-11T06:19:05.289505Z",
     "shell.execute_reply": "2020-09-11T06:19:05.288967Z"
    }
   },
   "outputs": [],
   "source": [
    "import numpy as np\n",
    "import os"
   ]
  },
  {
   "cell_type": "code",
   "execution_count": 2,
   "metadata": {
    "execution": {
     "iopub.execute_input": "2020-09-11T06:19:05.293989Z",
     "iopub.status.busy": "2020-09-11T06:19:05.293369Z",
     "iopub.status.idle": "2020-09-11T06:19:06.286020Z",
     "shell.execute_reply": "2020-09-11T06:19:06.285174Z"
    }
   },
   "outputs": [
    {
     "name": "stdout",
     "output_type": "stream",
     "text": [
      "Logging hadn't been started.\n",
      "Activating auto-logging. Current session state plus future input saved.\n",
      "Filename       : /home/vsts/.qcodes/logs/command_history.log\n",
      "Mode           : append\n",
      "Output logging : True\n",
      "Raw input log  : False\n",
      "Timestamping   : True\n",
      "State          : active\n"
     ]
    },
    {
     "name": "stdout",
     "output_type": "stream",
     "text": [
      "Qcodes Logfile : /home/vsts/.qcodes/logs/200911-21433-qcodes.log\n"
     ]
    }
   ],
   "source": [
    "from qcodes.dataset.plotting import plot_dataset\n",
    "from qcodes.utils.validators import Numbers, Arrays\n",
    "from qcodes.instrument.base import Instrument\n",
    "from qcodes.dataset.measurements import Measurement"
   ]
  },
  {
   "cell_type": "code",
   "execution_count": 3,
   "metadata": {
    "execution": {
     "iopub.execute_input": "2020-09-11T06:19:06.289572Z",
     "iopub.status.busy": "2020-09-11T06:19:06.289066Z",
     "iopub.status.idle": "2020-09-11T06:19:06.292330Z",
     "shell.execute_reply": "2020-09-11T06:19:06.291802Z"
    }
   },
   "outputs": [],
   "source": [
    "from qcodes.dataset.sqlite.database import initialise_or_create_database_at\n",
    "from qcodes.dataset.experiment_container import load_or_create_experiment"
   ]
  },
  {
   "cell_type": "code",
   "execution_count": 4,
   "metadata": {
    "execution": {
     "iopub.execute_input": "2020-09-11T06:19:06.296214Z",
     "iopub.status.busy": "2020-09-11T06:19:06.295712Z",
     "iopub.status.idle": "2020-09-11T06:19:06.299231Z",
     "shell.execute_reply": "2020-09-11T06:19:06.298660Z"
    }
   },
   "outputs": [],
   "source": [
    "from qcodes.instrument.parameter import ParameterWithSetpoints, Parameter\n",
    "from qcodes.instrument.parameter import expand_setpoints_helper"
   ]
  },
  {
   "cell_type": "markdown",
   "metadata": {},
   "source": [
    "First, we define a dummy instrument that returns something like a frequency spectrum starting from a frequency given by `f_start` to a frequency given by `f_stop` in `n_points` steps. \n",
    "\n",
    "The extra functionality of the `ParameterWithSetpoints` is implemented by giving it a reference to one or more parameters that acts like its setpoints. \n",
    "\n",
    "To setup a `ParameterWithSetpoints` we have to do two things in addition to what we do for a normal parameter.\n",
    "\n",
    "* Define one or more parameter for the setpoints (one for each dimension of the array and let the `ParameterWithSetpoints` know that these are the setpoints.\n",
    "* Give both the setpoints parameter(s) and the `ParameterWithSetpoints` a `validator` of type `Arrays` with a shape. The shapes should be such that the combined shape of the setpoints matches the shape of the `ParameterWithSetpoints`. Note that if the shape changes with the setting of the instrument, it can be defined by another parameter as shown below. "
   ]
  },
  {
   "cell_type": "code",
   "execution_count": 5,
   "metadata": {
    "execution": {
     "iopub.execute_input": "2020-09-11T06:19:06.308161Z",
     "iopub.status.busy": "2020-09-11T06:19:06.307596Z",
     "iopub.status.idle": "2020-09-11T06:19:06.310771Z",
     "shell.execute_reply": "2020-09-11T06:19:06.311134Z"
    }
   },
   "outputs": [],
   "source": [
    "class GeneratedSetPoints(Parameter):\n",
    "    \"\"\"\n",
    "    A parameter that generates a setpoint array from start, stop and num points\n",
    "    parameters.\n",
    "    \"\"\"\n",
    "    def __init__(self, startparam, stopparam, numpointsparam, *args, **kwargs):\n",
    "        super().__init__(*args, **kwargs)\n",
    "        self._startparam = startparam\n",
    "        self._stopparam = stopparam\n",
    "        self._numpointsparam = numpointsparam\n",
    "\n",
    "    def get_raw(self):\n",
    "        return np.linspace(self._startparam(), self._stopparam(),\n",
    "                              self._numpointsparam())\n",
    "\n",
    "class DummyArray(ParameterWithSetpoints):\n",
    "    \n",
    "    def get_raw(self):\n",
    "        npoints = self.root_instrument.n_points.get_latest()\n",
    "        return np.random.rand(npoints)\n",
    "    \n",
    "\n",
    "class DummySpectrumAnalyzer(Instrument):\n",
    "    \n",
    "    def __init__(self, name, **kwargs):\n",
    "        \n",
    "        super().__init__(name, **kwargs)\n",
    "            \n",
    "\n",
    "        self.add_parameter('f_start',\n",
    "                           initial_value=0,\n",
    "                           unit='Hz',\n",
    "                           label='f start',\n",
    "                           vals=Numbers(0,1e3),\n",
    "                           get_cmd=None,\n",
    "                           set_cmd=None)\n",
    "\n",
    "        self.add_parameter('f_stop',\n",
    "                           unit='Hz',\n",
    "                           label='f stop',\n",
    "                           vals=Numbers(1,1e3),\n",
    "                           get_cmd=None,\n",
    "                           set_cmd=None)\n",
    "\n",
    "        self.add_parameter('n_points',\n",
    "                           unit='',\n",
    "                           initial_value=10,\n",
    "                           vals=Numbers(1,1e3),\n",
    "                           get_cmd=None,\n",
    "                           set_cmd=None)\n",
    "        \n",
    "        self.add_parameter('freq_axis',\n",
    "                           unit='Hz',\n",
    "                           label='Freq Axis',\n",
    "                           parameter_class=GeneratedSetPoints,\n",
    "                           startparam=self.f_start,\n",
    "                           stopparam=self.f_stop,\n",
    "                           numpointsparam=self.n_points,\n",
    "                           vals=Arrays(shape=(self.n_points.get_latest,)))\n",
    "                           \n",
    "        self.add_parameter('spectrum',\n",
    "                   unit='dBm',\n",
    "                   setpoints=(self.freq_axis,),\n",
    "                   label='Spectrum',\n",
    "                   parameter_class=DummyArray,\n",
    "                   vals=Arrays(shape=(self.n_points.get_latest,)))\n",
    "                "
   ]
  },
  {
   "cell_type": "markdown",
   "metadata": {},
   "source": [
    "In the above example, the shape is defined by the parameter `n_points` that defines how many samples our `DummySpectrumAnalyzer` returns.\n",
    "\n",
    "This means that the validation will call the function to get `n_points` twice for each `get` of the parameter. This may be too slow, however, if you (as the driver-writer) can guarantee that the cached value for `n_points` will never be out of sync with the value stored in the instrument, `n_points` may be replaced by it's latest known value such that the `validator` reads:\n",
    "```python\n",
    "vals=Arrays(shape=(self.n_points.get_latest))\n",
    "```\n",
    "\n",
    "This avoids any additional call to the instrument. In the same way, the arguments to the `freq_axis` parameter that defines the start, stop and number of points can be replaced by their latest value if the instrument allows it.\n",
    "\n"
   ]
  },
  {
   "cell_type": "code",
   "execution_count": 6,
   "metadata": {
    "execution": {
     "iopub.execute_input": "2020-09-11T06:19:06.315725Z",
     "iopub.status.busy": "2020-09-11T06:19:06.315189Z",
     "iopub.status.idle": "2020-09-11T06:19:06.390999Z",
     "shell.execute_reply": "2020-09-11T06:19:06.390227Z"
    }
   },
   "outputs": [
    {
     "name": "stdout",
     "output_type": "stream",
     "text": [
      "\r",
      "0it [00:00, ?it/s]"
     ]
    },
    {
     "name": "stdout",
     "output_type": "stream",
     "text": [
      "\r",
      "Upgrading database; v0 -> v1: : 0it [00:00, ?it/s]"
     ]
    },
    {
     "name": "stdout",
     "output_type": "stream",
     "text": [
      "\r",
      "Upgrading database; v0 -> v1: : 0it [00:00, ?it/s]"
     ]
    },
    {
     "name": "stdout",
     "output_type": "stream",
     "text": [
      "\n",
      "\r",
      "  0%|          | 0/1 [00:00<?, ?it/s]"
     ]
    },
    {
     "name": "stdout",
     "output_type": "stream",
     "text": [
      "\r",
      "Upgrading database; v1 -> v2:   0%|          | 0/1 [00:00<?, ?it/s]"
     ]
    },
    {
     "name": "stdout",
     "output_type": "stream",
     "text": [
      "\r",
      "Upgrading database; v1 -> v2: 100%|██████████| 1/1 [00:00<00:00, 1190.89it/s]"
     ]
    },
    {
     "name": "stdout",
     "output_type": "stream",
     "text": [
      "\n",
      "\r",
      "0it [00:00, ?it/s]"
     ]
    },
    {
     "name": "stdout",
     "output_type": "stream",
     "text": [
      "\r",
      "Upgrading database; v2 -> v3: : 0it [00:00, ?it/s]"
     ]
    },
    {
     "name": "stdout",
     "output_type": "stream",
     "text": [
      "\r",
      "Upgrading database; v2 -> v3: : 0it [00:00, ?it/s]"
     ]
    },
    {
     "name": "stdout",
     "output_type": "stream",
     "text": [
      "\n",
      "\r",
      "0it [00:00, ?it/s]"
     ]
    },
    {
     "name": "stdout",
     "output_type": "stream",
     "text": [
      "\r",
      "Upgrading database; v3 -> v4: : 0it [00:00, ?it/s]"
     ]
    },
    {
     "name": "stdout",
     "output_type": "stream",
     "text": [
      "\r",
      "Upgrading database; v3 -> v4: : 0it [00:00, ?it/s]"
     ]
    },
    {
     "name": "stdout",
     "output_type": "stream",
     "text": [
      "\n",
      "\r",
      "  0%|          | 0/1 [00:00<?, ?it/s]"
     ]
    },
    {
     "name": "stdout",
     "output_type": "stream",
     "text": [
      "\r",
      "Upgrading database; v4 -> v5:   0%|          | 0/1 [00:00<?, ?it/s]"
     ]
    },
    {
     "name": "stdout",
     "output_type": "stream",
     "text": [
      "\r",
      "Upgrading database; v4 -> v5: 100%|██████████| 1/1 [00:00<00:00, 639.86it/s]"
     ]
    },
    {
     "name": "stdout",
     "output_type": "stream",
     "text": [
      "\n",
      "\r",
      "0it [00:00, ?it/s]"
     ]
    },
    {
     "name": "stdout",
     "output_type": "stream",
     "text": [
      "\r",
      "Upgrading database; v5 -> v6: : 0it [00:00, ?it/s]"
     ]
    },
    {
     "name": "stdout",
     "output_type": "stream",
     "text": [
      "\r",
      "Upgrading database; v5 -> v6: : 0it [00:00, ?it/s]"
     ]
    },
    {
     "name": "stdout",
     "output_type": "stream",
     "text": [
      "\n",
      "\r",
      "  0%|          | 0/1 [00:00<?, ?it/s]"
     ]
    },
    {
     "name": "stdout",
     "output_type": "stream",
     "text": [
      "\r",
      "Upgrading database; v6 -> v7:   0%|          | 0/1 [00:00<?, ?it/s]"
     ]
    },
    {
     "name": "stdout",
     "output_type": "stream",
     "text": [
      "\r",
      "Upgrading database; v6 -> v7: 100%|██████████| 1/1 [00:00<00:00, 254.23it/s]"
     ]
    },
    {
     "name": "stdout",
     "output_type": "stream",
     "text": [
      "\n",
      "\r",
      "  0%|          | 0/1 [00:00<?, ?it/s]"
     ]
    },
    {
     "name": "stdout",
     "output_type": "stream",
     "text": [
      "\r",
      "Upgrading database; v7 -> v8:   0%|          | 0/1 [00:00<?, ?it/s]"
     ]
    },
    {
     "name": "stdout",
     "output_type": "stream",
     "text": [
      "\r",
      "Upgrading database; v7 -> v8: 100%|██████████| 1/1 [00:00<00:00, 373.29it/s]"
     ]
    },
    {
     "name": "stdout",
     "output_type": "stream",
     "text": [
      "\n",
      "\r",
      "  0%|          | 0/1 [00:00<?, ?it/s]"
     ]
    },
    {
     "name": "stdout",
     "output_type": "stream",
     "text": [
      "\r",
      "Upgrading database; v8 -> v9:   0%|          | 0/1 [00:00<?, ?it/s]"
     ]
    },
    {
     "name": "stdout",
     "output_type": "stream",
     "text": [
      "\r",
      "Upgrading database; v8 -> v9: 100%|██████████| 1/1 [00:00<00:00, 1204.22it/s]"
     ]
    },
    {
     "name": "stdout",
     "output_type": "stream",
     "text": [
      "\n"
     ]
    },
    {
     "data": {
      "text/plain": [
       "tutorial_ParameterWithSetpoints#no sample#1@/home/vsts/work/1/s/docs/examples/Parameters/tutorial_paramter_with_setpoints.db\n",
       "----------------------------------------------------------------------------------------------------------------------------"
      ]
     },
     "execution_count": 6,
     "metadata": {},
     "output_type": "execute_result"
    }
   ],
   "source": [
    "tutorial_db_path = os.path.join(os.getcwd(), 'tutorial_paramter_with_setpoints.db')\n",
    "initialise_or_create_database_at(tutorial_db_path)\n",
    "load_or_create_experiment(experiment_name='tutorial_ParameterWithSetpoints', sample_name=\"no sample\")"
   ]
  },
  {
   "cell_type": "code",
   "execution_count": 7,
   "metadata": {
    "execution": {
     "iopub.execute_input": "2020-09-11T06:19:06.394852Z",
     "iopub.status.busy": "2020-09-11T06:19:06.394320Z",
     "iopub.status.idle": "2020-09-11T06:19:06.396679Z",
     "shell.execute_reply": "2020-09-11T06:19:06.397109Z"
    }
   },
   "outputs": [],
   "source": [
    "a = DummySpectrumAnalyzer('foobar')"
   ]
  },
  {
   "cell_type": "markdown",
   "metadata": {},
   "source": [
    "First we setup the limits of the spectrum"
   ]
  },
  {
   "cell_type": "code",
   "execution_count": 8,
   "metadata": {
    "execution": {
     "iopub.execute_input": "2020-09-11T06:19:06.400639Z",
     "iopub.status.busy": "2020-09-11T06:19:06.400126Z",
     "iopub.status.idle": "2020-09-11T06:19:06.403639Z",
     "shell.execute_reply": "2020-09-11T06:19:06.403013Z"
    }
   },
   "outputs": [],
   "source": [
    "a.f_start(0)\n",
    "a.f_stop(500)\n",
    "a.n_points(501)"
   ]
  },
  {
   "cell_type": "markdown",
   "metadata": {},
   "source": [
    "And we can grab the frequency axis"
   ]
  },
  {
   "cell_type": "code",
   "execution_count": 9,
   "metadata": {
    "execution": {
     "iopub.execute_input": "2020-09-11T06:19:06.406922Z",
     "iopub.status.busy": "2020-09-11T06:19:06.406323Z",
     "iopub.status.idle": "2020-09-11T06:19:06.411109Z",
     "shell.execute_reply": "2020-09-11T06:19:06.410697Z"
    }
   },
   "outputs": [
    {
     "data": {
      "text/plain": [
       "501"
      ]
     },
     "execution_count": 9,
     "metadata": {},
     "output_type": "execute_result"
    }
   ],
   "source": [
    "a.n_points()"
   ]
  },
  {
   "cell_type": "code",
   "execution_count": 10,
   "metadata": {
    "execution": {
     "iopub.execute_input": "2020-09-11T06:19:06.415114Z",
     "iopub.status.busy": "2020-09-11T06:19:06.414639Z",
     "iopub.status.idle": "2020-09-11T06:19:06.416894Z",
     "shell.execute_reply": "2020-09-11T06:19:06.417288Z"
    },
    "scrolled": false
   },
   "outputs": [
    {
     "data": {
      "text/plain": [
       "501"
      ]
     },
     "execution_count": 10,
     "metadata": {},
     "output_type": "execute_result"
    }
   ],
   "source": [
    "freq_axis = a.freq_axis()\n",
    "len(freq_axis)"
   ]
  },
  {
   "cell_type": "code",
   "execution_count": 11,
   "metadata": {
    "execution": {
     "iopub.execute_input": "2020-09-11T06:19:06.421660Z",
     "iopub.status.busy": "2020-09-11T06:19:06.421165Z",
     "iopub.status.idle": "2020-09-11T06:19:06.423595Z",
     "shell.execute_reply": "2020-09-11T06:19:06.424045Z"
    }
   },
   "outputs": [
    {
     "data": {
      "text/plain": [
       "array([0., 1., 2., 3., 4., 5., 6., 7., 8., 9.])"
      ]
     },
     "execution_count": 11,
     "metadata": {},
     "output_type": "execute_result"
    }
   ],
   "source": [
    "freq_axis[:10]"
   ]
  },
  {
   "cell_type": "markdown",
   "metadata": {},
   "source": [
    "As expected we get a result wit 501 points as we asked for an axis with 501 points. "
   ]
  },
  {
   "cell_type": "markdown",
   "metadata": {},
   "source": [
    "Above we have added a validator to the `freq_axis` parameter encoding the fact that this is an Array with `n_points`. Note that we do not have to supply the number of points as an integer but can supply a function that returns the valid number of points. This would normally be a QCoDeS parameter.\n",
    "\n",
    "This will be checked if we validate the output."
   ]
  },
  {
   "cell_type": "code",
   "execution_count": 12,
   "metadata": {
    "execution": {
     "iopub.execute_input": "2020-09-11T06:19:06.428104Z",
     "iopub.status.busy": "2020-09-11T06:19:06.427135Z",
     "iopub.status.idle": "2020-09-11T06:19:06.428737Z",
     "shell.execute_reply": "2020-09-11T06:19:06.429182Z"
    }
   },
   "outputs": [],
   "source": [
    "a.freq_axis.validate(a.freq_axis.get())"
   ]
  },
  {
   "cell_type": "markdown",
   "metadata": {},
   "source": [
    "Naturally, we can also get the spectrum. Getting the spectrum will automatically perform validation both for the shape of the parameter itself and the relation to the setpoint parameter(s)"
   ]
  },
  {
   "cell_type": "code",
   "execution_count": 13,
   "metadata": {
    "execution": {
     "iopub.execute_input": "2020-09-11T06:19:06.433123Z",
     "iopub.status.busy": "2020-09-11T06:19:06.432114Z",
     "iopub.status.idle": "2020-09-11T06:19:06.435321Z",
     "shell.execute_reply": "2020-09-11T06:19:06.435732Z"
    },
    "scrolled": true
   },
   "outputs": [
    {
     "data": {
      "text/plain": [
       "501"
      ]
     },
     "execution_count": 13,
     "metadata": {},
     "output_type": "execute_result"
    }
   ],
   "source": [
    "spectrum = a.spectrum.get()\n",
    "len(spectrum)"
   ]
  },
  {
   "cell_type": "markdown",
   "metadata": {},
   "source": [
    "When we validate a `ParameterWithSetpoints`, we automatically validate that the shape is consistent between the parameters and its setpoints. As well as validating the shape as above."
   ]
  },
  {
   "cell_type": "code",
   "execution_count": 14,
   "metadata": {
    "execution": {
     "iopub.execute_input": "2020-09-11T06:19:06.439116Z",
     "iopub.status.busy": "2020-09-11T06:19:06.438635Z",
     "iopub.status.idle": "2020-09-11T06:19:06.440489Z",
     "shell.execute_reply": "2020-09-11T06:19:06.440883Z"
    }
   },
   "outputs": [],
   "source": [
    "a.spectrum.validate(a.spectrum.get())"
   ]
  },
  {
   "cell_type": "markdown",
   "metadata": {},
   "source": [
    "The consistent shapes can be validated explicitly."
   ]
  },
  {
   "cell_type": "code",
   "execution_count": 15,
   "metadata": {
    "execution": {
     "iopub.execute_input": "2020-09-11T06:19:06.444480Z",
     "iopub.status.busy": "2020-09-11T06:19:06.443612Z",
     "iopub.status.idle": "2020-09-11T06:19:06.445221Z",
     "shell.execute_reply": "2020-09-11T06:19:06.445633Z"
    }
   },
   "outputs": [],
   "source": [
    "a.spectrum.validate_consistent_shape()"
   ]
  },
  {
   "cell_type": "markdown",
   "metadata": {},
   "source": [
    "We can inspect the setpoints of the spectrum."
   ]
  },
  {
   "cell_type": "code",
   "execution_count": 16,
   "metadata": {
    "execution": {
     "iopub.execute_input": "2020-09-11T06:19:06.449848Z",
     "iopub.status.busy": "2020-09-11T06:19:06.449196Z",
     "iopub.status.idle": "2020-09-11T06:19:06.451458Z",
     "shell.execute_reply": "2020-09-11T06:19:06.451864Z"
    }
   },
   "outputs": [
    {
     "data": {
      "text/plain": [
       "(<__main__.GeneratedSetPoints: freq_axis at 140690167701904>,)"
      ]
     },
     "execution_count": 16,
     "metadata": {},
     "output_type": "execute_result"
    }
   ],
   "source": [
    "a.spectrum.setpoints"
   ]
  },
  {
   "cell_type": "markdown",
   "metadata": {},
   "source": [
    "Or even change them."
   ]
  },
  {
   "cell_type": "code",
   "execution_count": 17,
   "metadata": {
    "execution": {
     "iopub.execute_input": "2020-09-11T06:19:06.455724Z",
     "iopub.status.busy": "2020-09-11T06:19:06.454637Z",
     "iopub.status.idle": "2020-09-11T06:19:06.456354Z",
     "shell.execute_reply": "2020-09-11T06:19:06.456762Z"
    }
   },
   "outputs": [],
   "source": [
    "a.spectrum.setpoints = (a.freq_axis,)"
   ]
  },
  {
   "cell_type": "markdown",
   "metadata": {},
   "source": [
    "## Measurement"
   ]
  },
  {
   "cell_type": "markdown",
   "metadata": {},
   "source": [
    "We can also directly consume the parameter in a measurement without defining the setpoints of the parameter again. The setpoints are automatically obtained from the definition of the `ParameterWithSetpoint` instance. "
   ]
  },
  {
   "cell_type": "code",
   "execution_count": 18,
   "metadata": {
    "execution": {
     "iopub.execute_input": "2020-09-11T06:19:06.460920Z",
     "iopub.status.busy": "2020-09-11T06:19:06.460453Z",
     "iopub.status.idle": "2020-09-11T06:19:06.473484Z",
     "shell.execute_reply": "2020-09-11T06:19:06.473896Z"
    }
   },
   "outputs": [
    {
     "name": "stdout",
     "output_type": "stream",
     "text": [
      "Starting experimental run with id: 1. \n"
     ]
    }
   ],
   "source": [
    "meas = Measurement()\n",
    "meas.register_parameter(a.spectrum)\n",
    "\n",
    "with meas.run() as datasaver:\n",
    "    datasaver.add_result((a.freq_axis, a.freq_axis()),\n",
    "                         (a.spectrum, a.spectrum()))\n",
    "    dataset = datasaver.dataset"
   ]
  },
  {
   "cell_type": "markdown",
   "metadata": {},
   "source": [
    "And plot it"
   ]
  },
  {
   "cell_type": "code",
   "execution_count": 19,
   "metadata": {
    "execution": {
     "iopub.execute_input": "2020-09-11T06:19:06.477208Z",
     "iopub.status.busy": "2020-09-11T06:19:06.476705Z",
     "iopub.status.idle": "2020-09-11T06:19:06.846068Z",
     "shell.execute_reply": "2020-09-11T06:19:06.846574Z"
    }
   },
   "outputs": [
    {
     "data": {
      "text/plain": [
       "([<matplotlib.axes._subplots.AxesSubplot at 0x7ff4fb961b10>], [None])"
      ]
     },
     "execution_count": 19,
     "metadata": {},
     "output_type": "execute_result"
    },
    {
     "data": {
      "image/png": "[encoded data removed]",
      "text/plain": [
       "<Figure size 432x288 with 1 Axes>"
      ]
     },
     "metadata": {
      "needs_background": "light"
     },
     "output_type": "display_data"
    }
   ],
   "source": [
    "plot_dataset(dataset)"
   ]
  },
  {
   "cell_type": "markdown",
   "metadata": {},
   "source": [
    "To reduce the amount of typing a simple convenience function is provided that will take a `ParameterWithSetpoints` and get both its values and the setpoints values and return them as tuples for direct insertion into the Dataset."
   ]
  },
  {
   "cell_type": "code",
   "execution_count": 20,
   "metadata": {
    "execution": {
     "iopub.execute_input": "2020-09-11T06:19:06.850134Z",
     "iopub.status.busy": "2020-09-11T06:19:06.849118Z",
     "iopub.status.idle": "2020-09-11T06:19:06.864287Z",
     "shell.execute_reply": "2020-09-11T06:19:06.863806Z"
    },
    "scrolled": true
   },
   "outputs": [
    {
     "data": {
      "text/plain": [
       "[(<__main__.GeneratedSetPoints: freq_axis at 140690167701904>,\n",
       "  array([  0.,   1.,   2.,   3.,   4.,   5.,   6.,   7.,   8.,   9.,  10.,\n",
       "          11.,  12.,  13.,  14.,  15.,  16.,  17.,  18.,  19.,  20.,  21.,\n",
       "          22.,  23.,  24.,  25.,  26.,  27.,  28.,  29.,  30.,  31.,  32.,\n",
       "          33.,  34.,  35.,  36.,  37.,  38.,  39.,  40.,  41.,  42.,  43.,\n",
       "          44.,  45.,  46.,  47.,  48.,  49.,  50.,  51.,  52.,  53.,  54.,\n",
       "          55.,  56.,  57.,  58.,  59.,  60.,  61.,  62.,  63.,  64.,  65.,\n",
       "          66.,  67.,  68.,  69.,  70.,  71.,  72.,  73.,  74.,  75.,  76.,\n",
       "          77.,  78.,  79.,  80.,  81.,  82.,  83.,  84.,  85.,  86.,  87.,\n",
       "          88.,  89.,  90.,  91.,  92.,  93.,  94.,  95.,  96.,  97.,  98.,\n",
       "          99., 100., 101., 102., 103., 104., 105., 106., 107., 108., 109.,\n",
       "         110., 111., 112., 113., 114., 115., 116., 117., 118., 119., 120.,\n",
       "         121., 122., 123., 124., 125., 126., 127., 128., 129., 130., 131.,\n",
       "         132., 133., 134., 135., 136., 137., 138., 139., 140., 141., 142.,\n",
       "         143., 144., 145., 146., 147., 148., 149., 150., 151., 152., 153.,\n",
       "         154., 155., 156., 157., 158., 159., 160., 161., 162., 163., 164.,\n",
       "         165., 166., 167., 168., 169., 170., 171., 172., 173., 174., 175.,\n",
       "         176., 177., 178., 179., 180., 181., 182., 183., 184., 185., 186.,\n",
       "         187., 188., 189., 190., 191., 192., 193., 194., 195., 196., 197.,\n",
       "         198., 199., 200., 201., 202., 203., 204., 205., 206., 207., 208.,\n",
       "         209., 210., 211., 212., 213., 214., 215., 216., 217., 218., 219.,\n",
       "         220., 221., 222., 223., 224., 225., 226., 227., 228., 229., 230.,\n",
       "         231., 232., 233., 234., 235., 236., 237., 238., 239., 240., 241.,\n",
       "         242., 243., 244., 245., 246., 247., 248., 249., 250., 251., 252.,\n",
       "         253., 254., 255., 256., 257., 258., 259., 260., 261., 262., 263.,\n",
       "         264., 265., 266., 267., 268., 269., 270., 271., 272., 273., 274.,\n",
       "         275., 276., 277., 278., 279., 280., 281., 282., 283., 284., 285.,\n",
       "         286., 287., 288., 289., 290., 291., 292., 293., 294., 295., 296.,\n",
       "         297., 298., 299., 300., 301., 302., 303., 304., 305., 306., 307.,\n",
       "         308., 309., 310., 311., 312., 313., 314., 315., 316., 317., 318.,\n",
       "         319., 320., 321., 322., 323., 324., 325., 326., 327., 328., 329.,\n",
       "         330., 331., 332., 333., 334., 335., 336., 337., 338., 339., 340.,\n",
       "         341., 342., 343., 344., 345., 346., 347., 348., 349., 350., 351.,\n",
       "         352., 353., 354., 355., 356., 357., 358., 359., 360., 361., 362.,\n",
       "         363., 364., 365., 366., 367., 368., 369., 370., 371., 372., 373.,\n",
       "         374., 375., 376., 377., 378., 379., 380., 381., 382., 383., 384.,\n",
       "         385., 386., 387., 388., 389., 390., 391., 392., 393., 394., 395.,\n",
       "         396., 397., 398., 399., 400., 401., 402., 403., 404., 405., 406.,\n",
       "         407., 408., 409., 410., 411., 412., 413., 414., 415., 416., 417.,\n",
       "         418., 419., 420., 421., 422., 423., 424., 425., 426., 427., 428.,\n",
       "         429., 430., 431., 432., 433., 434., 435., 436., 437., 438., 439.,\n",
       "         440., 441., 442., 443., 444., 445., 446., 447., 448., 449., 450.,\n",
       "         451., 452., 453., 454., 455., 456., 457., 458., 459., 460., 461.,\n",
       "         462., 463., 464., 465., 466., 467., 468., 469., 470., 471., 472.,\n",
       "         473., 474., 475., 476., 477., 478., 479., 480., 481., 482., 483.,\n",
       "         484., 485., 486., 487., 488., 489., 490., 491., 492., 493., 494.,\n",
       "         495., 496., 497., 498., 499., 500.])),\n",
       " (<__main__.DummyArray: spectrum at 140690161951632>,\n",
       "  array([1.47080263e-01, 8.91309762e-01, 6.60031482e-01, 2.72009033e-01,\n",
       "         6.32601124e-01, 4.42619978e-01, 2.36143182e-01, 5.28335505e-01,\n",
       "         9.70776346e-01, 5.15440983e-02, 7.89807933e-01, 9.41383076e-01,\n",
       "         6.34408738e-01, 7.69484997e-01, 1.74359380e-01, 1.89836839e-01,\n",
       "         7.13534125e-01, 1.86087132e-01, 7.25584872e-02, 4.73120111e-01,\n",
       "         3.30861707e-01, 5.23667510e-01, 4.72848414e-01, 4.60434081e-02,\n",
       "         3.14123517e-01, 8.94861835e-01, 5.47434650e-01, 3.89283637e-02,\n",
       "         1.23880410e-01, 7.66481985e-01, 7.86074120e-01, 6.45421036e-01,\n",
       "         4.33435344e-01, 7.39299691e-01, 7.14774630e-01, 4.10256195e-01,\n",
       "         1.18666753e-01, 9.79595054e-01, 1.00200465e-01, 6.86022917e-01,\n",
       "         1.57947359e-01, 4.73758821e-01, 3.08475288e-01, 6.34862531e-01,\n",
       "         3.65691854e-01, 5.17216442e-01, 7.66914425e-01, 3.93673969e-01,\n",
       "         7.90884134e-01, 6.39728283e-01, 3.17060581e-01, 1.44504475e-01,\n",
       "         6.34554567e-01, 9.74131982e-01, 7.91479916e-01, 7.34167801e-01,\n",
       "         2.99370444e-01, 7.96000900e-01, 5.07713695e-01, 3.77948305e-01,\n",
       "         3.98643833e-03, 5.31250084e-01, 5.54669414e-01, 4.34472832e-01,\n",
       "         4.51017887e-01, 5.33518865e-01, 3.03712924e-01, 7.25794829e-02,\n",
       "         9.78617009e-02, 4.33975518e-01, 7.29932017e-01, 3.17329227e-01,\n",
       "         6.83986716e-01, 7.78664268e-01, 5.10664308e-01, 3.12198118e-01,\n",
       "         5.40547644e-01, 1.48097552e-01, 4.65715056e-01, 6.86194359e-01,\n",
       "         3.24394168e-01, 5.59410290e-02, 2.04390479e-02, 5.79945447e-01,\n",
       "         7.74456951e-01, 8.91096024e-02, 7.48376968e-01, 1.36462758e-03,\n",
       "         7.38778993e-01, 6.67387782e-01, 6.55858163e-01, 4.52966222e-01,\n",
       "         9.28042075e-01, 6.71974104e-01, 6.84968274e-01, 6.86616360e-01,\n",
       "         8.69844387e-01, 4.34161622e-01, 6.70889581e-01, 2.46636323e-01,\n",
       "         2.38066696e-01, 6.45624738e-01, 8.55424861e-01, 5.75585256e-01,\n",
       "         5.22210841e-02, 8.66980871e-01, 5.85806256e-01, 2.40584720e-01,\n",
       "         1.99662294e-01, 2.89433389e-01, 8.54876527e-01, 1.01684712e-01,\n",
       "         9.02008312e-01, 8.44819624e-01, 6.27981304e-01, 9.34318284e-01,\n",
       "         1.71895522e-02, 9.23468555e-01, 8.06410391e-01, 6.43749808e-01,\n",
       "         4.36696899e-01, 2.04503198e-01, 2.74710482e-02, 2.66233396e-01,\n",
       "         1.71140120e-01, 6.49524759e-01, 2.88410517e-02, 2.47597936e-01,\n",
       "         9.88547998e-01, 1.06932744e-01, 5.06846443e-01, 2.16746498e-01,\n",
       "         9.97471445e-01, 2.27566689e-01, 7.61035027e-02, 7.84173473e-01,\n",
       "         7.03118463e-01, 2.09605192e-01, 2.92230883e-01, 1.21285309e-01,\n",
       "         2.78361792e-01, 5.53647963e-01, 3.82071283e-01, 5.27226778e-01,\n",
       "         9.95138299e-01, 2.03108272e-01, 9.99335680e-02, 4.61659616e-01,\n",
       "         5.18730150e-02, 6.45397485e-01, 2.54585067e-02, 3.29331752e-01,\n",
       "         1.90825920e-01, 4.71741530e-01, 5.41772470e-01, 4.03299328e-01,\n",
       "         4.91782858e-01, 6.69725229e-01, 6.98470464e-01, 2.31377622e-01,\n",
       "         2.65543603e-01, 6.20403107e-03, 6.76972283e-01, 7.91183162e-01,\n",
       "         8.36562645e-01, 5.66467601e-01, 3.33294020e-02, 9.51822029e-01,\n",
       "         9.75033110e-01, 5.33548061e-01, 2.32173681e-01, 9.76086288e-01,\n",
       "         6.28391768e-01, 8.82209697e-01, 7.86343149e-01, 6.12081171e-01,\n",
       "         9.58362750e-01, 7.22127029e-01, 5.16433053e-01, 3.65234181e-01,\n",
       "         3.08315065e-01, 1.18318783e-01, 7.14238939e-01, 2.50144870e-01,\n",
       "         8.00120043e-01, 9.29611501e-01, 7.66499123e-01, 1.66148444e-01,\n",
       "         9.31854132e-01, 8.40182236e-01, 9.34529174e-01, 8.76206095e-01,\n",
       "         1.15268274e-01, 7.23212664e-02, 5.85074388e-01, 2.39784765e-01,\n",
       "         1.11898002e-01, 4.19499143e-01, 6.66907747e-01, 6.89193326e-01,\n",
       "         5.41845803e-01, 7.24295699e-01, 5.84290131e-01, 1.32918052e-01,\n",
       "         5.92603187e-02, 4.19020143e-01, 1.71436029e-01, 2.23791948e-01,\n",
       "         3.02331357e-01, 2.18368372e-01, 1.28686792e-01, 5.17304572e-01,\n",
       "         6.97229797e-01, 6.09548252e-01, 5.44562687e-01, 1.75163626e-01,\n",
       "         5.92108331e-01, 9.60784421e-02, 2.22083027e-01, 9.96577218e-01,\n",
       "         6.35072592e-03, 5.92806265e-01, 3.25637334e-01, 4.45220845e-01,\n",
       "         1.44381769e-01, 5.34292461e-01, 7.75900609e-01, 7.81933537e-01,\n",
       "         7.00022623e-01, 3.67922506e-01, 9.23177503e-01, 8.24345678e-01,\n",
       "         2.16739380e-01, 3.76982750e-01, 5.16407869e-02, 3.91149788e-01,\n",
       "         2.37243651e-01, 1.82971003e-01, 2.87021234e-02, 4.67381801e-01,\n",
       "         7.34033439e-01, 8.48619111e-01, 4.74746224e-01, 1.82038510e-01,\n",
       "         5.42181212e-01, 5.28700902e-02, 2.76565227e-01, 5.91431929e-01,\n",
       "         1.03110022e-01, 4.77715954e-01, 3.44898321e-01, 3.88117391e-01,\n",
       "         5.85941065e-01, 9.30927445e-01, 9.62469802e-01, 6.81283382e-01,\n",
       "         8.37356678e-01, 3.88675256e-01, 4.31094306e-01, 2.61992928e-01,\n",
       "         1.04409283e-01, 1.07149307e-01, 3.95585823e-01, 3.33296431e-01,\n",
       "         4.00436681e-01, 6.06145358e-01, 6.99184245e-01, 1.65009847e-01,\n",
       "         9.33305593e-01, 3.33301230e-01, 3.75080381e-01, 7.19714313e-01,\n",
       "         8.53874318e-01, 2.08683037e-01, 4.37832695e-01, 5.82440809e-01,\n",
       "         5.38311024e-01, 2.59126416e-01, 5.50246526e-01, 5.79217532e-01,\n",
       "         5.94028734e-01, 6.82470203e-02, 2.10544903e-01, 4.29629487e-01,\n",
       "         4.77755311e-01, 8.92792374e-01, 1.25716382e-01, 4.74676879e-02,\n",
       "         1.95537703e-01, 4.29934908e-01, 1.34796437e-01, 4.62478372e-01,\n",
       "         8.93629885e-01, 8.05555404e-01, 4.71719579e-01, 8.94216410e-01,\n",
       "         3.36658316e-01, 6.91808115e-01, 1.39228302e-01, 6.71634198e-01,\n",
       "         2.14671501e-01, 5.01323407e-01, 8.19489527e-01, 3.14793872e-01,\n",
       "         3.90346027e-01, 8.14848099e-01, 7.28396694e-01, 1.57978749e-01,\n",
       "         6.45211605e-01, 3.72269951e-01, 7.70027751e-01, 1.05082760e-01,\n",
       "         1.39142305e-01, 7.17657994e-01, 1.10369277e-02, 1.52692875e-01,\n",
       "         3.08705536e-01, 7.84618366e-01, 9.92035372e-01, 8.07989150e-01,\n",
       "         3.04928370e-01, 1.31780735e-01, 8.94729131e-01, 1.34154944e-01,\n",
       "         1.50116688e-01, 4.61537853e-01, 4.41988589e-01, 1.68973238e-01,\n",
       "         4.18029097e-01, 2.92100600e-01, 5.52813349e-01, 1.65366621e-01,\n",
       "         6.55166681e-01, 5.24476119e-01, 6.57943950e-01, 5.64501896e-02,\n",
       "         5.47540017e-01, 8.80974804e-01, 8.27904320e-01, 3.17474525e-02,\n",
       "         8.14607252e-01, 2.50870142e-01, 1.51750716e-01, 1.01821875e-01,\n",
       "         4.29589364e-01, 4.87034499e-01, 4.46465308e-01, 9.67959041e-01,\n",
       "         4.71101535e-01, 5.19404820e-01, 2.88840415e-02, 2.17072068e-01,\n",
       "         5.33869686e-01, 5.26180870e-01, 6.79860841e-01, 9.14507938e-01,\n",
       "         9.57636954e-01, 6.78115280e-01, 8.00468340e-01, 1.75962372e-01,\n",
       "         9.88908214e-01, 7.83280439e-01, 5.77867323e-01, 3.49849594e-01,\n",
       "         2.09161934e-01, 8.16573763e-01, 3.33495502e-01, 5.15508064e-01,\n",
       "         4.04824591e-01, 1.74655047e-01, 1.59555333e-01, 3.46899866e-01,\n",
       "         9.75008202e-01, 6.44965926e-01, 5.04315710e-01, 4.74918629e-01,\n",
       "         5.57011190e-01, 3.93753494e-01, 9.25626907e-01, 5.55574568e-01,\n",
       "         7.28736334e-02, 9.81164387e-01, 8.69622847e-01, 2.15515174e-01,\n",
       "         7.86582934e-01, 3.12560374e-01, 1.06595906e-01, 1.84489206e-01,\n",
       "         2.59687857e-01, 8.88505427e-01, 5.35549278e-01, 2.35280700e-01,\n",
       "         5.88229518e-05, 3.48396445e-01, 6.86817110e-01, 1.92692309e-01,\n",
       "         8.75256235e-01, 7.76453719e-02, 8.61155473e-01, 9.80761037e-01,\n",
       "         3.99444787e-01, 5.45876330e-01, 4.07122490e-01, 9.51914845e-01,\n",
       "         5.26988556e-01, 6.93096124e-01, 4.32144740e-01, 8.32048521e-02,\n",
       "         2.64932155e-02, 5.22328286e-01, 5.21384997e-01, 2.24794091e-01,\n",
       "         1.07925731e-01, 3.16853576e-01, 6.55857267e-01, 4.38936380e-01,\n",
       "         3.57443535e-01, 6.36156855e-01, 5.09335643e-02, 3.43281067e-01,\n",
       "         6.25591726e-03, 1.94357559e-01, 3.45357563e-01, 6.83084342e-02,\n",
       "         1.28812602e-02, 2.26297889e-01, 5.77950821e-01, 6.23399345e-01,\n",
       "         2.86926522e-01, 6.36573147e-01, 9.10110794e-01, 2.13974947e-01,\n",
       "         6.89485128e-02, 1.87287694e-01, 8.17375778e-01, 6.11455819e-01,\n",
       "         3.04313858e-01, 4.51856410e-01, 1.76613390e-01, 4.25775160e-01,\n",
       "         1.31513553e-01, 9.23413331e-01, 1.45069538e-01, 8.64981305e-01,\n",
       "         3.04398612e-01, 8.92717445e-01, 1.78476372e-01, 2.94597842e-01,\n",
       "         6.83153324e-01, 9.75434093e-01, 4.58111943e-01, 4.79330581e-01,\n",
       "         2.52868341e-01, 9.23042679e-01, 9.13493393e-01, 9.02865360e-01,\n",
       "         6.41962327e-01, 1.93216993e-01, 7.03054851e-01, 3.23916761e-01,\n",
       "         1.78930641e-01, 6.43707419e-01, 6.87990905e-01, 3.90077075e-02,\n",
       "         8.07452923e-02, 7.28993478e-01, 5.37970917e-01, 2.54979112e-01,\n",
       "         2.90408366e-01, 1.86144255e-01, 4.47973736e-01, 1.14018659e-01,\n",
       "         7.02952100e-01, 7.25557442e-01, 8.31979063e-01, 2.24375457e-01,\n",
       "         9.08962544e-01, 5.56370482e-01, 8.62870395e-01, 1.64148296e-01,\n",
       "         7.62995391e-01, 2.70709641e-01, 4.32823365e-01, 9.39387094e-01,\n",
       "         3.53519194e-01, 9.84433020e-01, 2.32570644e-02, 9.93869877e-01,\n",
       "         3.32280487e-01, 6.79562031e-01, 9.96362827e-02, 1.85916739e-01,\n",
       "         9.65813932e-02, 4.00471873e-04, 8.79203341e-01, 1.55981852e-01,\n",
       "         7.41708679e-01, 5.84098715e-02, 3.55702189e-01, 1.40247979e-01,\n",
       "         2.01932187e-01]))]"
      ]
     },
     "execution_count": 20,
     "metadata": {},
     "output_type": "execute_result"
    }
   ],
   "source": [
    "expand_setpoints_helper(a.spectrum)"
   ]
  },
  {
   "cell_type": "code",
   "execution_count": 21,
   "metadata": {
    "execution": {
     "iopub.execute_input": "2020-09-11T06:19:06.868704Z",
     "iopub.status.busy": "2020-09-11T06:19:06.868191Z",
     "iopub.status.idle": "2020-09-11T06:19:06.885311Z",
     "shell.execute_reply": "2020-09-11T06:19:06.884157Z"
    }
   },
   "outputs": [
    {
     "name": "stdout",
     "output_type": "stream",
     "text": [
      "Starting experimental run with id: 2. \n"
     ]
    }
   ],
   "source": [
    "meas = Measurement()\n",
    "meas.register_parameter(a.spectrum)\n",
    "\n",
    "with meas.run() as datasaver:\n",
    "    datasaver.add_result(*expand_setpoints_helper(a.spectrum))\n",
    "    \n",
    "    dataid = datasaver.run_id"
   ]
  },
  {
   "cell_type": "code",
   "execution_count": null,
   "metadata": {},
   "outputs": [],
   "source": []
  }
 ],
 "metadata": {
  "kernelspec": {
   "display_name": "Python 3",
   "language": "python",
   "name": "python3"
  },
  "language_info": {
   "codemirror_mode": {
    "name": "ipython",
    "version": 3
   },
   "file_extension": ".py",
   "mimetype": "text/x-python",
   "name": "python",
   "nbconvert_exporter": "python",
   "pygments_lexer": "ipython3",
   "version": "3.7.7"
  },
  "toc": {
   "base_numbering": 1,
   "nav_menu": {},
   "number_sections": true,
   "sideBar": true,
   "skip_h1_title": false,
   "title_cell": "Table of Contents",
   "title_sidebar": "Contents",
   "toc_cell": false,
   "toc_position": {},
   "toc_section_display": true,
   "toc_window_display": false
  },
  "varInspector": {
   "cols": {
    "lenName": 16,
    "lenType": 16,
    "lenVar": 40
   },
   "kernels_config": {
    "python": {
     "delete_cmd_postfix": "",
     "delete_cmd_prefix": "del ",
     "library": "var_list.py",
     "varRefreshCmd": "print(var_dic_list())"
    },
    "r": {
     "delete_cmd_postfix": ") ",
     "delete_cmd_prefix": "rm(",
     "library": "var_list.r",
     "varRefreshCmd": "cat(var_dic_list()) "
    }
   },
   "types_to_exclude": [
    "module",
    "function",
    "builtin_function_or_method",
    "instance",
    "_Feature"
   ],
   "window_display": false
  }
 },
 "nbformat": 4,
 "nbformat_minor": 2
}
