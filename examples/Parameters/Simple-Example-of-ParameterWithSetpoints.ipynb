{
 "cells": [
  {
   "cell_type": "markdown",
   "metadata": {},
   "source": [
    "# Simple Example of ParameterWithSetpoints\n",
    "This notebook provides an example for writing a simple driver with a parameter that has setpoints. Let's name this parameter that has setpoints as \"y\". Then, the setpoints, say \"x1, x2, x3 ..\", are the parameters on which the parameter \n",
    "\"y\" depends upon. Meaning \"y\" is a function of \"x1, x2, x3 ...\" where \"x1, x2, x3 ...\" are known as the setpoints of parameter \"y\".\n",
    "\n",
    "This is most likely to be useful for instruments that return arrays of results. In this notebook, we will show an example of this."
   ]
  },
  {
   "cell_type": "code",
   "execution_count": 1,
   "metadata": {},
   "outputs": [],
   "source": [
    "import numpy as np\n",
    "import os"
   ]
  },
  {
   "cell_type": "code",
   "execution_count": 2,
   "metadata": {},
   "outputs": [
    {
     "name": "stdout",
     "output_type": "stream",
     "text": [
      "Logging hadn't been started.\n",
      "Activating auto-logging. Current session state plus future input saved.\n",
      "Filename       : /home/vsts/.qcodes/logs/command_history.log\n",
      "Mode           : append\n",
      "Output logging : True\n",
      "Raw input log  : False\n",
      "Timestamping   : True\n",
      "State          : active\n"
     ]
    },
    {
     "name": "stdout",
     "output_type": "stream",
     "text": [
      "Qcodes Logfile : /home/vsts/.qcodes/logs/200319-22438-qcodes.log\n"
     ]
    }
   ],
   "source": [
    "from qcodes.dataset.plotting import plot_dataset\n",
    "from qcodes.utils.validators import Numbers, Arrays\n",
    "from qcodes.instrument.base import Instrument\n",
    "from qcodes.dataset.measurements import Measurement"
   ]
  },
  {
   "cell_type": "code",
   "execution_count": 3,
   "metadata": {},
   "outputs": [],
   "source": [
    "from qcodes.dataset.sqlite.database import initialise_or_create_database_at\n",
    "from qcodes.dataset.experiment_container import load_or_create_experiment"
   ]
  },
  {
   "cell_type": "code",
   "execution_count": 4,
   "metadata": {},
   "outputs": [],
   "source": [
    "from qcodes.instrument.parameter import ParameterWithSetpoints, Parameter\n",
    "from qcodes.instrument.parameter import expand_setpoints_helper"
   ]
  },
  {
   "cell_type": "markdown",
   "metadata": {},
   "source": [
    "First, we define a dummy instrument that returns something like a frequency spectrum starting from a frequency given by `f_start` to a frequency given by `f_stop` in `n_points` steps. \n",
    "\n",
    "The extra functionality of the `ParameterWithSetpoints` is implemented by giving it a reference to one or more parameters that acts like its setpoints. \n",
    "\n",
    "To setup a `ParameterWithSetpoints` we have to do two things in addition to what we do for a normal parameter.\n",
    "\n",
    "* Define one or more parameter for the setpoints (one for each dimension of the array and let the `ParameterWithSetpoints` know that these are the setpoints.\n",
    "* Give both the setpoints parameter(s) and the `ParameterWithSetpoints` a `validator` of type `Arrays` with a shape. The shapes should be such that the combined shape of the setpoints matches the shape of the `ParameterWithSetpoints`. Note that if the shape changes with the setting of the instrument, it can be defined by another parameter as shown below. "
   ]
  },
  {
   "cell_type": "code",
   "execution_count": 5,
   "metadata": {},
   "outputs": [],
   "source": [
    "class GeneratedSetPoints(Parameter):\n",
    "    \"\"\"\n",
    "    A parameter that generates a setpoint array from start, stop and num points\n",
    "    parameters.\n",
    "    \"\"\"\n",
    "    def __init__(self, startparam, stopparam, numpointsparam, *args, **kwargs):\n",
    "        super().__init__(*args, **kwargs)\n",
    "        self._startparam = startparam\n",
    "        self._stopparam = stopparam\n",
    "        self._numpointsparam = numpointsparam\n",
    "\n",
    "    def get_raw(self):\n",
    "        return np.linspace(self._startparam(), self._stopparam(),\n",
    "                              self._numpointsparam())\n",
    "\n",
    "class DummyArray(ParameterWithSetpoints):\n",
    "    \n",
    "    def get_raw(self):\n",
    "        npoints = self.root_instrument.n_points.get_latest()\n",
    "        return np.random.rand(npoints)\n",
    "    \n",
    "\n",
    "class DummySpectrumAnalyzer(Instrument):\n",
    "    \n",
    "    def __init__(self, name, **kwargs):\n",
    "        \n",
    "        super().__init__(name, **kwargs)\n",
    "            \n",
    "\n",
    "        self.add_parameter('f_start',\n",
    "                           initial_value=0,\n",
    "                           unit='Hz',\n",
    "                           label='f start',\n",
    "                           vals=Numbers(0,1e3),\n",
    "                           get_cmd=None,\n",
    "                           set_cmd=None)\n",
    "\n",
    "        self.add_parameter('f_stop',\n",
    "                           unit='Hz',\n",
    "                           label='f stop',\n",
    "                           vals=Numbers(1,1e3),\n",
    "                           get_cmd=None,\n",
    "                           set_cmd=None)\n",
    "\n",
    "        self.add_parameter('n_points',\n",
    "                           unit='',\n",
    "                           initial_value=10,\n",
    "                           vals=Numbers(1,1e3),\n",
    "                           get_cmd=None,\n",
    "                           set_cmd=None)\n",
    "        \n",
    "        self.add_parameter('freq_axis',\n",
    "                           unit='Hz',\n",
    "                           label='Freq Axis',\n",
    "                           parameter_class=GeneratedSetPoints,\n",
    "                           startparam=self.f_start,\n",
    "                           stopparam=self.f_stop,\n",
    "                           numpointsparam=self.n_points,\n",
    "                           vals=Arrays(shape=(self.n_points.get_latest,)))\n",
    "                           \n",
    "        self.add_parameter('spectrum',\n",
    "                   unit='dBm',\n",
    "                   setpoints=(self.freq_axis,),\n",
    "                   label='Spectrum',\n",
    "                   parameter_class=DummyArray,\n",
    "                   vals=Arrays(shape=(self.n_points.get_latest,)))\n",
    "                "
   ]
  },
  {
   "cell_type": "markdown",
   "metadata": {},
   "source": [
    "In the above example, the shape is defined by the parameter `n_points` that defines how many samples our `DummySpectrumAnalyzer` returns.\n",
    "\n",
    "This means that the validation will call the function to get `n_points` twice for each `get` of the parameter. This may be too slow, however, if you (as the driver-writer) can guarantee that the cached value for `n_points` will never be out of sync with the value stored in the instrument, `n_points` may be replaced by it's latest known value such that the `validator` reads:\n",
    "```python\n",
    "vals=Arrays(shape=(self.n_points.get_latest))\n",
    "```\n",
    "\n",
    "This avoids any additional call to the instrument. In the same way, the arguments to the `freq_axis` parameter that defines the start, stop and number of points can be replaced by their latest value if the instrument allows it.\n",
    "\n"
   ]
  },
  {
   "cell_type": "code",
   "execution_count": 6,
   "metadata": {},
   "outputs": [
    {
     "name": "stdout",
     "output_type": "stream",
     "text": [
      "\r",
      "0it [00:00, ?it/s]"
     ]
    },
    {
     "name": "stdout",
     "output_type": "stream",
     "text": [
      "\r",
      "Upgrading database; v0 -> v1: : 0it [00:00, ?it/s]"
     ]
    },
    {
     "name": "stdout",
     "output_type": "stream",
     "text": [
      "\r",
      "Upgrading database; v0 -> v1: : 0it [00:00, ?it/s]"
     ]
    },
    {
     "name": "stdout",
     "output_type": "stream",
     "text": [
      "\n",
      "\r",
      "  0%|          | 0/1 [00:00<?, ?it/s]"
     ]
    },
    {
     "name": "stdout",
     "output_type": "stream",
     "text": [
      "\r",
      "Upgrading database; v1 -> v2:   0%|          | 0/1 [00:00<?, ?it/s]"
     ]
    },
    {
     "name": "stdout",
     "output_type": "stream",
     "text": [
      "\r",
      "Upgrading database; v1 -> v2: 100%|██████████| 1/1 [00:00<00:00, 813.80it/s]"
     ]
    },
    {
     "name": "stdout",
     "output_type": "stream",
     "text": [
      "\n",
      "\r",
      "0it [00:00, ?it/s]"
     ]
    },
    {
     "name": "stdout",
     "output_type": "stream",
     "text": [
      "\r",
      "Upgrading database; v2 -> v3: : 0it [00:00, ?it/s]"
     ]
    },
    {
     "name": "stdout",
     "output_type": "stream",
     "text": [
      "\r",
      "Upgrading database; v2 -> v3: : 0it [00:00, ?it/s]"
     ]
    },
    {
     "name": "stdout",
     "output_type": "stream",
     "text": [
      "\n",
      "\r",
      "0it [00:00, ?it/s]"
     ]
    },
    {
     "name": "stdout",
     "output_type": "stream",
     "text": [
      "\r",
      "Upgrading database; v3 -> v4: : 0it [00:00, ?it/s]"
     ]
    },
    {
     "name": "stdout",
     "output_type": "stream",
     "text": [
      "\r",
      "Upgrading database; v3 -> v4: : 0it [00:00, ?it/s]"
     ]
    },
    {
     "name": "stdout",
     "output_type": "stream",
     "text": [
      "\n",
      "\r",
      "  0%|          | 0/1 [00:00<?, ?it/s]"
     ]
    },
    {
     "name": "stdout",
     "output_type": "stream",
     "text": [
      "\r",
      "Upgrading database; v4 -> v5:   0%|          | 0/1 [00:00<?, ?it/s]"
     ]
    },
    {
     "name": "stdout",
     "output_type": "stream",
     "text": [
      "\r",
      "Upgrading database; v4 -> v5: 100%|██████████| 1/1 [00:00<00:00, 897.37it/s]"
     ]
    },
    {
     "name": "stdout",
     "output_type": "stream",
     "text": [
      "\n",
      "\r",
      "0it [00:00, ?it/s]"
     ]
    },
    {
     "name": "stdout",
     "output_type": "stream",
     "text": [
      "\r",
      "Upgrading database; v5 -> v6: : 0it [00:00, ?it/s]"
     ]
    },
    {
     "name": "stdout",
     "output_type": "stream",
     "text": [
      "\r",
      "Upgrading database; v5 -> v6: : 0it [00:00, ?it/s]"
     ]
    },
    {
     "name": "stdout",
     "output_type": "stream",
     "text": [
      "\n",
      "\r",
      "  0%|          | 0/1 [00:00<?, ?it/s]"
     ]
    },
    {
     "name": "stdout",
     "output_type": "stream",
     "text": [
      "\r",
      "Upgrading database; v6 -> v7:   0%|          | 0/1 [00:00<?, ?it/s]"
     ]
    },
    {
     "name": "stdout",
     "output_type": "stream",
     "text": [
      "\r",
      "Upgrading database; v6 -> v7: 100%|██████████| 1/1 [00:00<00:00, 399.42it/s]"
     ]
    },
    {
     "name": "stdout",
     "output_type": "stream",
     "text": [
      "\n",
      "\r",
      "  0%|          | 0/1 [00:00<?, ?it/s]"
     ]
    },
    {
     "name": "stdout",
     "output_type": "stream",
     "text": [
      "\r",
      "Upgrading database; v7 -> v8:   0%|          | 0/1 [00:00<?, ?it/s]"
     ]
    },
    {
     "name": "stdout",
     "output_type": "stream",
     "text": [
      "\r",
      "Upgrading database; v7 -> v8: 100%|██████████| 1/1 [00:00<00:00, 933.73it/s]"
     ]
    },
    {
     "name": "stdout",
     "output_type": "stream",
     "text": [
      "\n",
      "\r",
      "  0%|          | 0/1 [00:00<?, ?it/s]"
     ]
    },
    {
     "name": "stdout",
     "output_type": "stream",
     "text": [
      "\r",
      "Upgrading database; v8 -> v9:   0%|          | 0/1 [00:00<?, ?it/s]"
     ]
    },
    {
     "name": "stdout",
     "output_type": "stream",
     "text": [
      "\r",
      "Upgrading database; v8 -> v9: 100%|██████████| 1/1 [00:00<00:00, 916.99it/s]"
     ]
    },
    {
     "name": "stdout",
     "output_type": "stream",
     "text": [
      "\n"
     ]
    },
    {
     "data": {
      "text/plain": [
       "tutorial_ParameterWithSetpoints#no sample#1@/home/vsts/work/1/s/docs/examples/Parameters/tutorial_paramter_with_setpoints.db\n",
       "----------------------------------------------------------------------------------------------------------------------------"
      ]
     },
     "execution_count": 6,
     "metadata": {},
     "output_type": "execute_result"
    }
   ],
   "source": [
    "tutorial_db_path = os.path.join(os.getcwd(), 'tutorial_paramter_with_setpoints.db')\n",
    "initialise_or_create_database_at(tutorial_db_path)\n",
    "load_or_create_experiment(experiment_name='tutorial_ParameterWithSetpoints', sample_name=\"no sample\")"
   ]
  },
  {
   "cell_type": "code",
   "execution_count": 7,
   "metadata": {},
   "outputs": [],
   "source": [
    "a = DummySpectrumAnalyzer('foobar')"
   ]
  },
  {
   "cell_type": "markdown",
   "metadata": {},
   "source": [
    "First we setup the limits of the spectrum"
   ]
  },
  {
   "cell_type": "code",
   "execution_count": 8,
   "metadata": {},
   "outputs": [],
   "source": [
    "a.f_start(0)\n",
    "a.f_stop(500)\n",
    "a.n_points(501)"
   ]
  },
  {
   "cell_type": "markdown",
   "metadata": {},
   "source": [
    "And we can grab the frequency axis"
   ]
  },
  {
   "cell_type": "code",
   "execution_count": 9,
   "metadata": {},
   "outputs": [
    {
     "data": {
      "text/plain": [
       "501"
      ]
     },
     "execution_count": 9,
     "metadata": {},
     "output_type": "execute_result"
    }
   ],
   "source": [
    "a.n_points()"
   ]
  },
  {
   "cell_type": "code",
   "execution_count": 10,
   "metadata": {
    "scrolled": false
   },
   "outputs": [
    {
     "data": {
      "text/plain": [
       "501"
      ]
     },
     "execution_count": 10,
     "metadata": {},
     "output_type": "execute_result"
    }
   ],
   "source": [
    "freq_axis = a.freq_axis()\n",
    "len(freq_axis)"
   ]
  },
  {
   "cell_type": "code",
   "execution_count": 11,
   "metadata": {},
   "outputs": [
    {
     "data": {
      "text/plain": [
       "array([0., 1., 2., 3., 4., 5., 6., 7., 8., 9.])"
      ]
     },
     "execution_count": 11,
     "metadata": {},
     "output_type": "execute_result"
    }
   ],
   "source": [
    "freq_axis[:10]"
   ]
  },
  {
   "cell_type": "markdown",
   "metadata": {},
   "source": [
    "As expected we get a result wit 501 points as we asked for an axis with 501 points. "
   ]
  },
  {
   "cell_type": "markdown",
   "metadata": {},
   "source": [
    "Above we have added a validator to the `freq_axis` parameter encoding the fact that this is an Array with `n_points`. Note that we do not have to supply the number of points as an integer but can supply a function that returns the valid number of points. This would normally be a QCoDeS parameter.\n",
    "\n",
    "This will be checked if we validate the output."
   ]
  },
  {
   "cell_type": "code",
   "execution_count": 12,
   "metadata": {},
   "outputs": [],
   "source": [
    "a.freq_axis.validate(a.freq_axis.get())"
   ]
  },
  {
   "cell_type": "markdown",
   "metadata": {},
   "source": [
    "Naturally, we can also get the spectrum. Getting the spectrum will automatically perform validation both for the shape of the parameter itself and the relation to the setpoint parameter(s)"
   ]
  },
  {
   "cell_type": "code",
   "execution_count": 13,
   "metadata": {
    "scrolled": true
   },
   "outputs": [
    {
     "data": {
      "text/plain": [
       "501"
      ]
     },
     "execution_count": 13,
     "metadata": {},
     "output_type": "execute_result"
    }
   ],
   "source": [
    "spectrum = a.spectrum.get()\n",
    "len(spectrum)"
   ]
  },
  {
   "cell_type": "markdown",
   "metadata": {},
   "source": [
    "When we validate a `ParameterWithSetpoints`, we automatically validate that the shape is consistent between the parameters and its setpoints. As well as validating the shape as above."
   ]
  },
  {
   "cell_type": "code",
   "execution_count": 14,
   "metadata": {},
   "outputs": [],
   "source": [
    "a.spectrum.validate(a.spectrum.get())"
   ]
  },
  {
   "cell_type": "markdown",
   "metadata": {},
   "source": [
    "The consistent shapes can be validated explicitly."
   ]
  },
  {
   "cell_type": "code",
   "execution_count": 15,
   "metadata": {},
   "outputs": [],
   "source": [
    "a.spectrum.validate_consistent_shape()"
   ]
  },
  {
   "cell_type": "markdown",
   "metadata": {},
   "source": [
    "We can inspect the setpoints of the spectrum."
   ]
  },
  {
   "cell_type": "code",
   "execution_count": 16,
   "metadata": {},
   "outputs": [
    {
     "data": {
      "text/plain": [
       "(<__main__.GeneratedSetPoints: freq_axis at 140672505051024>,)"
      ]
     },
     "execution_count": 16,
     "metadata": {},
     "output_type": "execute_result"
    }
   ],
   "source": [
    "a.spectrum.setpoints"
   ]
  },
  {
   "cell_type": "markdown",
   "metadata": {},
   "source": [
    "Or even change them."
   ]
  },
  {
   "cell_type": "code",
   "execution_count": 17,
   "metadata": {},
   "outputs": [],
   "source": [
    "a.spectrum.setpoints = (a.freq_axis,)"
   ]
  },
  {
   "cell_type": "markdown",
   "metadata": {},
   "source": [
    "## Measurement"
   ]
  },
  {
   "cell_type": "markdown",
   "metadata": {},
   "source": [
    "We can also directly consume the parameter in a measurement without defining the setpoints of the parameter again. The setpoints are automatically obtained from the definition of the `ParameterWithSetpoint` instance. "
   ]
  },
  {
   "cell_type": "code",
   "execution_count": 18,
   "metadata": {},
   "outputs": [
    {
     "name": "stdout",
     "output_type": "stream",
     "text": [
      "Starting experimental run with id: 1. \n"
     ]
    }
   ],
   "source": [
    "meas = Measurement()\n",
    "meas.register_parameter(a.spectrum)\n",
    "\n",
    "with meas.run() as datasaver:\n",
    "    datasaver.add_result((a.freq_axis, a.freq_axis()),\n",
    "                         (a.spectrum, a.spectrum()))\n",
    "    dataset = datasaver.dataset"
   ]
  },
  {
   "cell_type": "markdown",
   "metadata": {},
   "source": [
    "And plot it"
   ]
  },
  {
   "cell_type": "code",
   "execution_count": 19,
   "metadata": {},
   "outputs": [
    {
     "data": {
      "text/plain": [
       "([<matplotlib.axes._subplots.AxesSubplot at 0x7ff0deb206d0>], [None])"
      ]
     },
     "execution_count": 19,
     "metadata": {},
     "output_type": "execute_result"
    },
    {
     "data": {
      "image/png": "[encoded data removed]",
      "text/plain": [
       "<Figure size 432x288 with 1 Axes>"
      ]
     },
     "metadata": {
      "needs_background": "light"
     },
     "output_type": "display_data"
    }
   ],
   "source": [
    "plot_dataset(dataset)"
   ]
  },
  {
   "cell_type": "markdown",
   "metadata": {},
   "source": [
    "To reduce the amount of typing a simple convenience function is provided that will take a `ParameterWithSetpoints` and get both its values and the setpoints values and return them as tuples for direct insertion into the Dataset."
   ]
  },
  {
   "cell_type": "code",
   "execution_count": 20,
   "metadata": {
    "scrolled": true
   },
   "outputs": [
    {
     "data": {
      "text/plain": [
       "[(<__main__.GeneratedSetPoints: freq_axis at 140672505051024>,\n",
       "  array([  0.,   1.,   2.,   3.,   4.,   5.,   6.,   7.,   8.,   9.,  10.,\n",
       "          11.,  12.,  13.,  14.,  15.,  16.,  17.,  18.,  19.,  20.,  21.,\n",
       "          22.,  23.,  24.,  25.,  26.,  27.,  28.,  29.,  30.,  31.,  32.,\n",
       "          33.,  34.,  35.,  36.,  37.,  38.,  39.,  40.,  41.,  42.,  43.,\n",
       "          44.,  45.,  46.,  47.,  48.,  49.,  50.,  51.,  52.,  53.,  54.,\n",
       "          55.,  56.,  57.,  58.,  59.,  60.,  61.,  62.,  63.,  64.,  65.,\n",
       "          66.,  67.,  68.,  69.,  70.,  71.,  72.,  73.,  74.,  75.,  76.,\n",
       "          77.,  78.,  79.,  80.,  81.,  82.,  83.,  84.,  85.,  86.,  87.,\n",
       "          88.,  89.,  90.,  91.,  92.,  93.,  94.,  95.,  96.,  97.,  98.,\n",
       "          99., 100., 101., 102., 103., 104., 105., 106., 107., 108., 109.,\n",
       "         110., 111., 112., 113., 114., 115., 116., 117., 118., 119., 120.,\n",
       "         121., 122., 123., 124., 125., 126., 127., 128., 129., 130., 131.,\n",
       "         132., 133., 134., 135., 136., 137., 138., 139., 140., 141., 142.,\n",
       "         143., 144., 145., 146., 147., 148., 149., 150., 151., 152., 153.,\n",
       "         154., 155., 156., 157., 158., 159., 160., 161., 162., 163., 164.,\n",
       "         165., 166., 167., 168., 169., 170., 171., 172., 173., 174., 175.,\n",
       "         176., 177., 178., 179., 180., 181., 182., 183., 184., 185., 186.,\n",
       "         187., 188., 189., 190., 191., 192., 193., 194., 195., 196., 197.,\n",
       "         198., 199., 200., 201., 202., 203., 204., 205., 206., 207., 208.,\n",
       "         209., 210., 211., 212., 213., 214., 215., 216., 217., 218., 219.,\n",
       "         220., 221., 222., 223., 224., 225., 226., 227., 228., 229., 230.,\n",
       "         231., 232., 233., 234., 235., 236., 237., 238., 239., 240., 241.,\n",
       "         242., 243., 244., 245., 246., 247., 248., 249., 250., 251., 252.,\n",
       "         253., 254., 255., 256., 257., 258., 259., 260., 261., 262., 263.,\n",
       "         264., 265., 266., 267., 268., 269., 270., 271., 272., 273., 274.,\n",
       "         275., 276., 277., 278., 279., 280., 281., 282., 283., 284., 285.,\n",
       "         286., 287., 288., 289., 290., 291., 292., 293., 294., 295., 296.,\n",
       "         297., 298., 299., 300., 301., 302., 303., 304., 305., 306., 307.,\n",
       "         308., 309., 310., 311., 312., 313., 314., 315., 316., 317., 318.,\n",
       "         319., 320., 321., 322., 323., 324., 325., 326., 327., 328., 329.,\n",
       "         330., 331., 332., 333., 334., 335., 336., 337., 338., 339., 340.,\n",
       "         341., 342., 343., 344., 345., 346., 347., 348., 349., 350., 351.,\n",
       "         352., 353., 354., 355., 356., 357., 358., 359., 360., 361., 362.,\n",
       "         363., 364., 365., 366., 367., 368., 369., 370., 371., 372., 373.,\n",
       "         374., 375., 376., 377., 378., 379., 380., 381., 382., 383., 384.,\n",
       "         385., 386., 387., 388., 389., 390., 391., 392., 393., 394., 395.,\n",
       "         396., 397., 398., 399., 400., 401., 402., 403., 404., 405., 406.,\n",
       "         407., 408., 409., 410., 411., 412., 413., 414., 415., 416., 417.,\n",
       "         418., 419., 420., 421., 422., 423., 424., 425., 426., 427., 428.,\n",
       "         429., 430., 431., 432., 433., 434., 435., 436., 437., 438., 439.,\n",
       "         440., 441., 442., 443., 444., 445., 446., 447., 448., 449., 450.,\n",
       "         451., 452., 453., 454., 455., 456., 457., 458., 459., 460., 461.,\n",
       "         462., 463., 464., 465., 466., 467., 468., 469., 470., 471., 472.,\n",
       "         473., 474., 475., 476., 477., 478., 479., 480., 481., 482., 483.,\n",
       "         484., 485., 486., 487., 488., 489., 490., 491., 492., 493., 494.,\n",
       "         495., 496., 497., 498., 499., 500.])),\n",
       " (<__main__.DummyArray: spectrum at 140672505051344>,\n",
       "  array([2.47962927e-01, 6.25394985e-01, 3.19260775e-01, 6.66454697e-01,\n",
       "         6.02274741e-01, 8.11249084e-02, 9.99861294e-01, 4.48707619e-02,\n",
       "         9.87887438e-01, 4.53643336e-01, 9.53872041e-01, 7.02558677e-01,\n",
       "         9.12306643e-01, 2.24391342e-01, 8.82864649e-01, 5.49445640e-01,\n",
       "         9.78825565e-01, 1.29746994e-02, 1.33986537e-01, 3.37238052e-01,\n",
       "         5.25719000e-01, 8.77787251e-01, 7.65035163e-01, 4.09684767e-01,\n",
       "         2.73052353e-01, 7.41085641e-01, 1.37093267e-01, 4.59395043e-01,\n",
       "         4.72530118e-01, 8.62866238e-01, 9.73570307e-01, 6.83386801e-01,\n",
       "         4.09461364e-01, 1.64690348e-01, 5.20510156e-02, 7.90592123e-01,\n",
       "         5.63620907e-01, 3.39529902e-01, 1.74025379e-01, 4.03198239e-01,\n",
       "         2.24558445e-01, 1.96482998e-01, 5.02094011e-01, 7.60042916e-01,\n",
       "         7.80446926e-01, 5.97917262e-01, 4.25171546e-01, 5.97146860e-01,\n",
       "         5.17881362e-01, 2.49721936e-01, 7.28626062e-01, 3.75789477e-01,\n",
       "         6.81696858e-01, 8.24087830e-01, 4.67735070e-02, 8.16146772e-02,\n",
       "         1.37524213e-01, 2.54577936e-01, 7.27711515e-01, 2.08774471e-01,\n",
       "         9.79284188e-01, 1.35374696e-01, 2.63325174e-02, 8.03388809e-01,\n",
       "         8.74113989e-01, 8.73186578e-01, 2.45760644e-01, 2.38777777e-01,\n",
       "         8.16487924e-01, 6.81568975e-01, 2.56062547e-01, 9.78761737e-01,\n",
       "         5.00420011e-01, 1.27546547e-01, 4.05034461e-01, 7.88852508e-01,\n",
       "         4.05160820e-02, 9.36892608e-01, 1.79418948e-01, 3.32873524e-01,\n",
       "         3.27338392e-01, 9.05670432e-01, 3.96034711e-01, 4.65303698e-01,\n",
       "         9.95781256e-01, 9.69332386e-01, 7.06151338e-01, 9.61105263e-02,\n",
       "         8.41794085e-01, 5.55334247e-01, 6.95570006e-01, 2.36586027e-01,\n",
       "         9.01710970e-01, 6.84859448e-01, 9.35753822e-01, 4.28739614e-01,\n",
       "         5.25594774e-01, 8.00097712e-02, 2.84910515e-01, 5.28916385e-01,\n",
       "         1.05144180e-02, 9.36152040e-01, 3.00282915e-01, 3.25944332e-01,\n",
       "         2.28112505e-01, 1.77577394e-01, 7.64952569e-01, 8.46265089e-01,\n",
       "         3.14167313e-01, 9.40291632e-01, 3.57825242e-01, 2.18367764e-01,\n",
       "         8.83974805e-01, 4.08825927e-01, 8.83496855e-01, 2.40716829e-01,\n",
       "         8.50214289e-01, 7.54159842e-01, 6.12491443e-01, 3.63102696e-01,\n",
       "         9.41059019e-01, 4.14154156e-01, 4.86714909e-01, 2.41674718e-01,\n",
       "         7.19529324e-01, 7.96788444e-01, 5.26284879e-01, 8.11156101e-01,\n",
       "         1.92062176e-01, 3.24500812e-01, 3.68221897e-01, 1.08553397e-01,\n",
       "         4.05577981e-01, 3.04642774e-01, 9.29963861e-01, 4.37935247e-01,\n",
       "         8.94891825e-01, 7.32776803e-01, 1.85699513e-01, 1.78932737e-01,\n",
       "         7.02683374e-01, 4.28695043e-01, 7.45135898e-01, 2.26120291e-01,\n",
       "         9.68186270e-01, 1.83679494e-01, 3.55136777e-01, 6.79834755e-01,\n",
       "         8.17618276e-01, 8.51472458e-01, 1.43961618e-01, 5.22183889e-01,\n",
       "         9.47991218e-01, 1.46162247e-01, 7.77382346e-01, 5.44755336e-01,\n",
       "         3.83811822e-01, 2.68073915e-01, 8.02604210e-01, 2.20438473e-02,\n",
       "         4.78059473e-01, 7.47493693e-01, 3.99461223e-01, 5.59741723e-01,\n",
       "         1.99421149e-01, 4.09590163e-01, 3.34823288e-01, 8.74460462e-01,\n",
       "         4.22205934e-01, 6.67342635e-01, 8.45544723e-01, 3.25101321e-01,\n",
       "         4.56849647e-01, 1.92902992e-01, 4.38835484e-01, 9.78821292e-01,\n",
       "         1.81971500e-01, 4.74780373e-01, 1.41841949e-01, 8.40888565e-01,\n",
       "         5.32588890e-01, 7.86270989e-01, 9.77792042e-01, 7.98348693e-01,\n",
       "         3.36969021e-01, 7.98415340e-01, 3.90801139e-01, 4.63935961e-01,\n",
       "         8.90846613e-01, 3.33609414e-01, 5.79275485e-03, 1.03185339e-01,\n",
       "         9.49654335e-01, 6.01479885e-02, 1.08554654e-02, 1.01048207e-01,\n",
       "         6.11885697e-01, 4.54785127e-02, 3.76620808e-01, 5.51354250e-01,\n",
       "         4.79242970e-01, 2.30120523e-01, 1.00121149e-01, 4.63350549e-01,\n",
       "         2.01225160e-01, 1.58074234e-01, 5.19867607e-01, 5.77949936e-03,\n",
       "         7.31619627e-01, 3.07257549e-01, 1.33056599e-01, 5.61444086e-01,\n",
       "         1.12883362e-01, 5.11854853e-01, 2.54693959e-01, 8.07184170e-01,\n",
       "         7.90396551e-01, 8.28297203e-01, 4.38912865e-01, 2.29533112e-01,\n",
       "         7.69634105e-01, 7.88653258e-01, 4.64637621e-01, 8.93207664e-01,\n",
       "         3.71145378e-01, 2.35274196e-01, 7.95363913e-01, 3.56359653e-01,\n",
       "         1.83238771e-02, 8.51319813e-01, 9.80573002e-01, 1.45829240e-01,\n",
       "         8.26457988e-01, 1.90676154e-01, 9.97482078e-02, 6.98811755e-01,\n",
       "         8.78058337e-01, 4.92985350e-01, 6.99185047e-02, 7.00545494e-02,\n",
       "         9.22407682e-01, 5.17219827e-02, 5.98096855e-01, 3.85219077e-01,\n",
       "         1.49085886e-01, 5.74925820e-03, 9.25792527e-01, 8.88689514e-01,\n",
       "         1.14304740e-01, 3.47110360e-01, 5.06826774e-01, 7.19535514e-01,\n",
       "         3.85070218e-01, 8.40690524e-02, 9.11713331e-01, 8.59525505e-01,\n",
       "         5.50187383e-01, 1.85504283e-01, 1.02434149e-01, 6.93632483e-01,\n",
       "         4.94455735e-01, 9.02825298e-02, 9.44742705e-01, 2.54145945e-01,\n",
       "         5.63291976e-01, 3.45593329e-01, 4.88434531e-01, 9.40781400e-01,\n",
       "         7.71648270e-01, 7.48764760e-01, 8.04236652e-01, 1.13258954e-01,\n",
       "         8.19593558e-01, 3.53178568e-02, 9.04793131e-01, 3.88947878e-01,\n",
       "         2.39812899e-01, 9.97365349e-01, 8.92923038e-03, 7.96589977e-01,\n",
       "         9.83037643e-01, 5.99374873e-01, 9.33058015e-01, 5.19420306e-01,\n",
       "         8.31673820e-01, 4.23769125e-01, 7.90862148e-01, 3.90133051e-01,\n",
       "         1.93696702e-01, 1.81009645e-01, 1.92583894e-02, 2.95417347e-01,\n",
       "         6.09152048e-01, 7.57653902e-01, 4.04938043e-01, 6.85001716e-01,\n",
       "         7.79795933e-01, 5.07456829e-01, 5.85296493e-01, 9.90845217e-01,\n",
       "         6.97376742e-01, 8.34132514e-01, 5.02501052e-01, 8.24530252e-01,\n",
       "         5.81462551e-02, 9.01600028e-01, 7.49123561e-01, 5.76187984e-01,\n",
       "         4.15352046e-02, 1.14644789e-01, 3.28136946e-01, 1.84704851e-01,\n",
       "         8.79533301e-01, 2.78443964e-01, 4.19154224e-01, 1.37622476e-01,\n",
       "         7.77813308e-01, 5.19629567e-01, 1.74813264e-01, 4.70957084e-01,\n",
       "         1.00948183e-01, 7.94661002e-01, 3.96010012e-01, 8.63290288e-01,\n",
       "         8.13981349e-01, 6.00774276e-01, 1.61301969e-01, 4.15897858e-01,\n",
       "         3.11720619e-01, 5.45238105e-01, 8.61692456e-01, 2.28347915e-02,\n",
       "         5.61203141e-01, 7.50712972e-01, 4.85657806e-01, 9.33245118e-01,\n",
       "         5.26403350e-01, 4.43189459e-01, 2.14301515e-01, 1.66093814e-02,\n",
       "         2.05973000e-01, 8.63522302e-01, 1.77237535e-01, 4.65617840e-01,\n",
       "         5.92092882e-01, 8.21711410e-01, 1.03099580e-01, 7.60162591e-01,\n",
       "         1.94515257e-01, 5.93692049e-01, 8.06931312e-01, 8.21959551e-01,\n",
       "         7.14339439e-01, 5.19406420e-01, 8.81093511e-01, 3.96686953e-01,\n",
       "         6.42565563e-01, 9.84211139e-01, 8.62214147e-01, 2.72677811e-01,\n",
       "         6.62894354e-01, 7.30161939e-01, 9.50871596e-01, 4.07320041e-01,\n",
       "         2.37046854e-01, 2.50554183e-01, 4.27300075e-01, 2.14794098e-01,\n",
       "         8.59810778e-02, 2.16578896e-01, 8.34203653e-01, 2.01146933e-01,\n",
       "         1.55166721e-01, 9.70282990e-01, 3.66476797e-01, 8.18974974e-01,\n",
       "         9.43206044e-01, 9.96638460e-01, 5.69138977e-01, 3.48954201e-01,\n",
       "         9.61941960e-01, 7.68633307e-01, 1.05028241e-01, 4.77307151e-01,\n",
       "         8.22135831e-01, 1.51739223e-02, 4.08829292e-01, 8.04301582e-01,\n",
       "         4.68120558e-01, 9.85601569e-01, 7.00789069e-01, 4.31100213e-01,\n",
       "         3.21975523e-01, 1.36774756e-01, 9.65258343e-01, 1.65204952e-01,\n",
       "         3.25405252e-01, 5.39817367e-01, 6.46586486e-01, 5.90691689e-01,\n",
       "         3.53224493e-01, 8.35727906e-01, 4.79955358e-01, 1.97527701e-02,\n",
       "         4.54871248e-01, 4.04148926e-01, 4.93213196e-01, 6.27011807e-01,\n",
       "         6.23392990e-01, 9.73624352e-01, 2.64196456e-01, 1.80447954e-01,\n",
       "         2.60766483e-01, 4.41296397e-01, 1.72918642e-01, 6.22150402e-01,\n",
       "         7.59462737e-01, 2.12694447e-01, 3.66641371e-01, 6.48658921e-01,\n",
       "         6.40321223e-01, 3.97681283e-01, 6.45189913e-01, 2.04029766e-01,\n",
       "         6.18466774e-01, 6.54636304e-01, 7.68051607e-01, 9.81823031e-01,\n",
       "         7.52184198e-02, 7.82065297e-01, 8.15417577e-01, 6.30828638e-01,\n",
       "         1.65412472e-01, 7.75591968e-01, 3.80614524e-01, 2.00775089e-01,\n",
       "         2.73740423e-01, 5.06423598e-01, 2.36357461e-01, 6.94303835e-01,\n",
       "         6.52061831e-01, 9.17525216e-01, 9.54996489e-01, 6.77109519e-01,\n",
       "         5.86310019e-01, 7.19185280e-02, 5.40889803e-01, 5.65577697e-01,\n",
       "         5.18744498e-01, 8.55224423e-01, 5.71677204e-01, 4.08140616e-01,\n",
       "         2.24524109e-01, 5.93153307e-01, 7.72171485e-01, 5.66870132e-01,\n",
       "         6.33778752e-01, 8.21156368e-01, 1.97821579e-01, 5.38611011e-03,\n",
       "         9.84892498e-01, 2.87911970e-01, 4.44243940e-01, 5.67549799e-01,\n",
       "         1.81390392e-03, 7.43876001e-02, 4.05870507e-01, 9.61194493e-01,\n",
       "         9.79843045e-01, 5.30297713e-01, 4.10609008e-02, 6.68191910e-01,\n",
       "         4.34743918e-01, 1.02951773e-01, 9.96318860e-01, 9.77107645e-01,\n",
       "         8.07177635e-01, 2.11482752e-01, 9.87436375e-01, 1.98909605e-01,\n",
       "         4.67156632e-01, 3.64339507e-02, 2.00561728e-02, 5.47817601e-01,\n",
       "         2.01405503e-02, 2.54668217e-01, 3.46187864e-02, 3.10907678e-01,\n",
       "         3.87438173e-01, 3.01982806e-01, 7.62873025e-01, 9.34081980e-03,\n",
       "         3.93244115e-01, 8.10053292e-01, 5.19586679e-01, 6.96863479e-01,\n",
       "         4.11936181e-01, 5.59679425e-04, 5.19572997e-01, 7.67060312e-01,\n",
       "         2.50383959e-01]))]"
      ]
     },
     "execution_count": 20,
     "metadata": {},
     "output_type": "execute_result"
    }
   ],
   "source": [
    "expand_setpoints_helper(a.spectrum)"
   ]
  },
  {
   "cell_type": "code",
   "execution_count": 21,
   "metadata": {},
   "outputs": [
    {
     "name": "stdout",
     "output_type": "stream",
     "text": [
      "Starting experimental run with id: 2. \n"
     ]
    }
   ],
   "source": [
    "meas = Measurement()\n",
    "meas.register_parameter(a.spectrum)\n",
    "\n",
    "with meas.run() as datasaver:\n",
    "    datasaver.add_result(*expand_setpoints_helper(a.spectrum))\n",
    "    \n",
    "    dataid = datasaver.run_id"
   ]
  },
  {
   "cell_type": "code",
   "execution_count": null,
   "metadata": {},
   "outputs": [],
   "source": []
  }
 ],
 "metadata": {
  "kernelspec": {
   "display_name": "Python 3",
   "language": "python",
   "name": "python3"
  },
  "language_info": {
   "codemirror_mode": {
    "name": "ipython",
    "version": 3
   },
   "file_extension": ".py",
   "mimetype": "text/x-python",
   "name": "python",
   "nbconvert_exporter": "python",
   "pygments_lexer": "ipython3",
   "version": "3.7.5"
  },
  "toc": {
   "base_numbering": 1,
   "nav_menu": {},
   "number_sections": true,
   "sideBar": true,
   "skip_h1_title": false,
   "title_cell": "Table of Contents",
   "title_sidebar": "Contents",
   "toc_cell": false,
   "toc_position": {},
   "toc_section_display": true,
   "toc_window_display": false
  },
  "varInspector": {
   "cols": {
    "lenName": 16,
    "lenType": 16,
    "lenVar": 40
   },
   "kernels_config": {
    "python": {
     "delete_cmd_postfix": "",
     "delete_cmd_prefix": "del ",
     "library": "var_list.py",
     "varRefreshCmd": "print(var_dic_list())"
    },
    "r": {
     "delete_cmd_postfix": ") ",
     "delete_cmd_prefix": "rm(",
     "library": "var_list.r",
     "varRefreshCmd": "cat(var_dic_list()) "
    }
   },
   "types_to_exclude": [
    "module",
    "function",
    "builtin_function_or_method",
    "instance",
    "_Feature"
   ],
   "window_display": false
  }
 },
 "nbformat": 4,
 "nbformat_minor": 2
}
