{
 "cells": [
  {
   "cell_type": "markdown",
   "metadata": {},
   "source": [
    "# Simple Example of ParameterWithSetpoints\n",
    "This notebook provides an example for writing a simple driver with a parameter that has setpoints. Let's name this parameter that has setpoints as \"y\". Then, the setpoints, say \"x1, x2, x3 ..\", are the parameters on which the parameter \n",
    "\"y\" depends upon. Meaning \"y\" is a function of \"x1, x2, x3 ...\" where \"x1, x2, x3 ...\" are known as the setpoints of parameter \"y\".\n",
    "\n",
    "This is most likely to be useful for instruments that return arrays of results. In this notebook, we will show an example of this."
   ]
  },
  {
   "cell_type": "code",
   "execution_count": 1,
   "metadata": {},
   "outputs": [],
   "source": [
    "import numpy as np\n",
    "import os"
   ]
  },
  {
   "cell_type": "code",
   "execution_count": 2,
   "metadata": {},
   "outputs": [
    {
     "name": "stdout",
     "output_type": "stream",
     "text": [
      "Logging hadn't been started.\n",
      "Activating auto-logging. Current session state plus future input saved.\n",
      "Filename       : /home/vsts/.qcodes/logs/command_history.log\n",
      "Mode           : append\n",
      "Output logging : True\n",
      "Raw input log  : False\n",
      "Timestamping   : True\n",
      "State          : active\n"
     ]
    },
    {
     "name": "stdout",
     "output_type": "stream",
     "text": [
      "Qcodes Logfile : /home/vsts/.qcodes/logs/200318-22897-qcodes.log\n"
     ]
    }
   ],
   "source": [
    "from qcodes.dataset.plotting import plot_dataset\n",
    "from qcodes.utils.validators import Numbers, Arrays\n",
    "from qcodes.instrument.base import Instrument\n",
    "from qcodes.dataset.measurements import Measurement"
   ]
  },
  {
   "cell_type": "code",
   "execution_count": 3,
   "metadata": {},
   "outputs": [],
   "source": [
    "from qcodes.dataset.sqlite.database import initialise_or_create_database_at\n",
    "from qcodes.dataset.experiment_container import load_or_create_experiment"
   ]
  },
  {
   "cell_type": "code",
   "execution_count": 4,
   "metadata": {},
   "outputs": [],
   "source": [
    "from qcodes.instrument.parameter import ParameterWithSetpoints, Parameter\n",
    "from qcodes.instrument.parameter import expand_setpoints_helper"
   ]
  },
  {
   "cell_type": "markdown",
   "metadata": {},
   "source": [
    "First, we define a dummy instrument that returns something like a frequency spectrum starting from a frequency given by `f_start` to a frequency given by `f_stop` in `n_points` steps. \n",
    "\n",
    "The extra functionality of the `ParameterWithSetpoints` is implemented by giving it a reference to one or more parameters that acts like its setpoints. \n",
    "\n",
    "To setup a `ParameterWithSetpoints` we have to do two things in addition to what we do for a normal parameter.\n",
    "\n",
    "* Define one or more parameter for the setpoints (one for each dimension of the array and let the `ParameterWithSetpoints` know that these are the setpoints.\n",
    "* Give both the setpoints parameter(s) and the `ParameterWithSetpoints` a `validator` of type `Arrays` with a shape. The shapes should be such that the combined shape of the setpoints matches the shape of the `ParameterWithSetpoints`. Note that if the shape changes with the setting of the instrument, it can be defined by another parameter as shown below. "
   ]
  },
  {
   "cell_type": "code",
   "execution_count": 5,
   "metadata": {},
   "outputs": [],
   "source": [
    "class GeneratedSetPoints(Parameter):\n",
    "    \"\"\"\n",
    "    A parameter that generates a setpoint array from start, stop and num points\n",
    "    parameters.\n",
    "    \"\"\"\n",
    "    def __init__(self, startparam, stopparam, numpointsparam, *args, **kwargs):\n",
    "        super().__init__(*args, **kwargs)\n",
    "        self._startparam = startparam\n",
    "        self._stopparam = stopparam\n",
    "        self._numpointsparam = numpointsparam\n",
    "\n",
    "    def get_raw(self):\n",
    "        return np.linspace(self._startparam(), self._stopparam(),\n",
    "                              self._numpointsparam())\n",
    "\n",
    "class DummyArray(ParameterWithSetpoints):\n",
    "    \n",
    "    def get_raw(self):\n",
    "        npoints = self.root_instrument.n_points.get_latest()\n",
    "        return np.random.rand(npoints)\n",
    "    \n",
    "\n",
    "class DummySpectrumAnalyzer(Instrument):\n",
    "    \n",
    "    def __init__(self, name, **kwargs):\n",
    "        \n",
    "        super().__init__(name, **kwargs)\n",
    "            \n",
    "\n",
    "        self.add_parameter('f_start',\n",
    "                           initial_value=0,\n",
    "                           unit='Hz',\n",
    "                           label='f start',\n",
    "                           vals=Numbers(0,1e3),\n",
    "                           get_cmd=None,\n",
    "                           set_cmd=None)\n",
    "\n",
    "        self.add_parameter('f_stop',\n",
    "                           unit='Hz',\n",
    "                           label='f stop',\n",
    "                           vals=Numbers(1,1e3),\n",
    "                           get_cmd=None,\n",
    "                           set_cmd=None)\n",
    "\n",
    "        self.add_parameter('n_points',\n",
    "                           unit='',\n",
    "                           initial_value=10,\n",
    "                           vals=Numbers(1,1e3),\n",
    "                           get_cmd=None,\n",
    "                           set_cmd=None)\n",
    "        \n",
    "        self.add_parameter('freq_axis',\n",
    "                           unit='Hz',\n",
    "                           label='Freq Axis',\n",
    "                           parameter_class=GeneratedSetPoints,\n",
    "                           startparam=self.f_start,\n",
    "                           stopparam=self.f_stop,\n",
    "                           numpointsparam=self.n_points,\n",
    "                           vals=Arrays(shape=(self.n_points.get_latest,)))\n",
    "                           \n",
    "        self.add_parameter('spectrum',\n",
    "                   unit='dBm',\n",
    "                   setpoints=(self.freq_axis,),\n",
    "                   label='Spectrum',\n",
    "                   parameter_class=DummyArray,\n",
    "                   vals=Arrays(shape=(self.n_points.get_latest,)))\n",
    "                "
   ]
  },
  {
   "cell_type": "markdown",
   "metadata": {},
   "source": [
    "In the above example, the shape is defined by the parameter `n_points` that defines how many samples our `DummySpectrumAnalyzer` returns.\n",
    "\n",
    "This means that the validation will call the function to get `n_points` twice for each `get` of the parameter. This may be too slow, however, if you (as the driver-writer) can guarantee that the cached value for `n_points` will never be out of sync with the value stored in the instrument, `n_points` may be replaced by it's latest known value such that the `validator` reads:\n",
    "```python\n",
    "vals=Arrays(shape=(self.n_points.get_latest))\n",
    "```\n",
    "\n",
    "This avoids any additional call to the instrument. In the same way, the arguments to the `freq_axis` parameter that defines the start, stop and number of points can be replaced by their latest value if the instrument allows it.\n",
    "\n"
   ]
  },
  {
   "cell_type": "code",
   "execution_count": 6,
   "metadata": {},
   "outputs": [
    {
     "name": "stdout",
     "output_type": "stream",
     "text": [
      "\r",
      "0it [00:00, ?it/s]"
     ]
    },
    {
     "name": "stdout",
     "output_type": "stream",
     "text": [
      "\r",
      "Upgrading database; v0 -> v1: : 0it [00:00, ?it/s]"
     ]
    },
    {
     "name": "stdout",
     "output_type": "stream",
     "text": [
      "\r",
      "Upgrading database; v0 -> v1: : 0it [00:00, ?it/s]"
     ]
    },
    {
     "name": "stdout",
     "output_type": "stream",
     "text": [
      "\n",
      "\r",
      "  0%|          | 0/1 [00:00<?, ?it/s]"
     ]
    },
    {
     "name": "stdout",
     "output_type": "stream",
     "text": [
      "\r",
      "Upgrading database; v1 -> v2:   0%|          | 0/1 [00:00<?, ?it/s]"
     ]
    },
    {
     "name": "stdout",
     "output_type": "stream",
     "text": [
      "\r",
      "Upgrading database; v1 -> v2: 100%|██████████| 1/1 [00:00<00:00, 1045.18it/s]"
     ]
    },
    {
     "name": "stdout",
     "output_type": "stream",
     "text": [
      "\n",
      "\r",
      "0it [00:00, ?it/s]"
     ]
    },
    {
     "name": "stdout",
     "output_type": "stream",
     "text": [
      "\r",
      "Upgrading database; v2 -> v3: : 0it [00:00, ?it/s]"
     ]
    },
    {
     "name": "stdout",
     "output_type": "stream",
     "text": [
      "\r",
      "Upgrading database; v2 -> v3: : 0it [00:00, ?it/s]"
     ]
    },
    {
     "name": "stdout",
     "output_type": "stream",
     "text": [
      "\n",
      "\r",
      "0it [00:00, ?it/s]"
     ]
    },
    {
     "name": "stdout",
     "output_type": "stream",
     "text": [
      "\r",
      "Upgrading database; v3 -> v4: : 0it [00:00, ?it/s]"
     ]
    },
    {
     "name": "stdout",
     "output_type": "stream",
     "text": [
      "\r",
      "Upgrading database; v3 -> v4: : 0it [00:00, ?it/s]"
     ]
    },
    {
     "name": "stdout",
     "output_type": "stream",
     "text": [
      "\n",
      "\r",
      "  0%|          | 0/1 [00:00<?, ?it/s]"
     ]
    },
    {
     "name": "stdout",
     "output_type": "stream",
     "text": [
      "\r",
      "Upgrading database; v4 -> v5:   0%|          | 0/1 [00:00<?, ?it/s]"
     ]
    },
    {
     "name": "stdout",
     "output_type": "stream",
     "text": [
      "\r",
      "Upgrading database; v4 -> v5: 100%|██████████| 1/1 [00:00<00:00, 1278.36it/s]"
     ]
    },
    {
     "name": "stdout",
     "output_type": "stream",
     "text": [
      "\n",
      "\r",
      "0it [00:00, ?it/s]"
     ]
    },
    {
     "name": "stdout",
     "output_type": "stream",
     "text": [
      "\r",
      "Upgrading database; v5 -> v6: : 0it [00:00, ?it/s]"
     ]
    },
    {
     "name": "stdout",
     "output_type": "stream",
     "text": [
      "\r",
      "Upgrading database; v5 -> v6: : 0it [00:00, ?it/s]"
     ]
    },
    {
     "name": "stdout",
     "output_type": "stream",
     "text": [
      "\n",
      "\r",
      "  0%|          | 0/1 [00:00<?, ?it/s]"
     ]
    },
    {
     "name": "stdout",
     "output_type": "stream",
     "text": [
      "\r",
      "Upgrading database; v6 -> v7:   0%|          | 0/1 [00:00<?, ?it/s]"
     ]
    },
    {
     "name": "stdout",
     "output_type": "stream",
     "text": [
      "\r",
      "Upgrading database; v6 -> v7: 100%|██████████| 1/1 [00:00<00:00, 456.40it/s]"
     ]
    },
    {
     "name": "stdout",
     "output_type": "stream",
     "text": [
      "\n",
      "\r",
      "  0%|          | 0/1 [00:00<?, ?it/s]"
     ]
    },
    {
     "name": "stdout",
     "output_type": "stream",
     "text": [
      "\r",
      "Upgrading database; v7 -> v8:   0%|          | 0/1 [00:00<?, ?it/s]"
     ]
    },
    {
     "name": "stdout",
     "output_type": "stream",
     "text": [
      "\r",
      "Upgrading database; v7 -> v8: 100%|██████████| 1/1 [00:00<00:00, 1162.82it/s]"
     ]
    },
    {
     "name": "stdout",
     "output_type": "stream",
     "text": [
      "\n",
      "\r",
      "  0%|          | 0/1 [00:00<?, ?it/s]"
     ]
    },
    {
     "name": "stdout",
     "output_type": "stream",
     "text": [
      "\r",
      "Upgrading database; v8 -> v9:   0%|          | 0/1 [00:00<?, ?it/s]"
     ]
    },
    {
     "name": "stdout",
     "output_type": "stream",
     "text": [
      "\r",
      "Upgrading database; v8 -> v9: 100%|██████████| 1/1 [00:00<00:00, 1228.92it/s]"
     ]
    },
    {
     "name": "stdout",
     "output_type": "stream",
     "text": [
      "\n"
     ]
    },
    {
     "data": {
      "text/plain": [
       "tutorial_ParameterWithSetpoints#no sample#1@/home/vsts/work/1/s/docs/examples/Parameters/tutorial_paramter_with_setpoints.db\n",
       "----------------------------------------------------------------------------------------------------------------------------"
      ]
     },
     "execution_count": 6,
     "metadata": {},
     "output_type": "execute_result"
    }
   ],
   "source": [
    "tutorial_db_path = os.path.join(os.getcwd(), 'tutorial_paramter_with_setpoints.db')\n",
    "initialise_or_create_database_at(tutorial_db_path)\n",
    "load_or_create_experiment(experiment_name='tutorial_ParameterWithSetpoints', sample_name=\"no sample\")"
   ]
  },
  {
   "cell_type": "code",
   "execution_count": 7,
   "metadata": {},
   "outputs": [],
   "source": [
    "a = DummySpectrumAnalyzer('foobar')"
   ]
  },
  {
   "cell_type": "markdown",
   "metadata": {},
   "source": [
    "First we setup the limits of the spectrum"
   ]
  },
  {
   "cell_type": "code",
   "execution_count": 8,
   "metadata": {},
   "outputs": [],
   "source": [
    "a.f_start(0)\n",
    "a.f_stop(500)\n",
    "a.n_points(501)"
   ]
  },
  {
   "cell_type": "markdown",
   "metadata": {},
   "source": [
    "And we can grab the frequency axis"
   ]
  },
  {
   "cell_type": "code",
   "execution_count": 9,
   "metadata": {},
   "outputs": [
    {
     "data": {
      "text/plain": [
       "501"
      ]
     },
     "execution_count": 9,
     "metadata": {},
     "output_type": "execute_result"
    }
   ],
   "source": [
    "a.n_points()"
   ]
  },
  {
   "cell_type": "code",
   "execution_count": 10,
   "metadata": {
    "scrolled": false
   },
   "outputs": [
    {
     "data": {
      "text/plain": [
       "501"
      ]
     },
     "execution_count": 10,
     "metadata": {},
     "output_type": "execute_result"
    }
   ],
   "source": [
    "freq_axis = a.freq_axis()\n",
    "len(freq_axis)"
   ]
  },
  {
   "cell_type": "code",
   "execution_count": 11,
   "metadata": {},
   "outputs": [
    {
     "data": {
      "text/plain": [
       "array([0., 1., 2., 3., 4., 5., 6., 7., 8., 9.])"
      ]
     },
     "execution_count": 11,
     "metadata": {},
     "output_type": "execute_result"
    }
   ],
   "source": [
    "freq_axis[:10]"
   ]
  },
  {
   "cell_type": "markdown",
   "metadata": {},
   "source": [
    "As expected we get a result wit 501 points as we asked for an axis with 501 points. "
   ]
  },
  {
   "cell_type": "markdown",
   "metadata": {},
   "source": [
    "Above we have added a validator to the `freq_axis` parameter encoding the fact that this is an Array with `n_points`. Note that we do not have to supply the number of points as an integer but can supply a function that returns the valid number of points. This would normally be a QCoDeS parameter.\n",
    "\n",
    "This will be checked if we validate the output."
   ]
  },
  {
   "cell_type": "code",
   "execution_count": 12,
   "metadata": {},
   "outputs": [],
   "source": [
    "a.freq_axis.validate(a.freq_axis.get())"
   ]
  },
  {
   "cell_type": "markdown",
   "metadata": {},
   "source": [
    "Naturally, we can also get the spectrum. Getting the spectrum will automatically perform validation both for the shape of the parameter itself and the relation to the setpoint parameter(s)"
   ]
  },
  {
   "cell_type": "code",
   "execution_count": 13,
   "metadata": {
    "scrolled": true
   },
   "outputs": [
    {
     "data": {
      "text/plain": [
       "501"
      ]
     },
     "execution_count": 13,
     "metadata": {},
     "output_type": "execute_result"
    }
   ],
   "source": [
    "spectrum = a.spectrum.get()\n",
    "len(spectrum)"
   ]
  },
  {
   "cell_type": "markdown",
   "metadata": {},
   "source": [
    "When we validate a `ParameterWithSetpoints`, we automatically validate that the shape is consistent between the parameters and its setpoints. As well as validating the shape as above."
   ]
  },
  {
   "cell_type": "code",
   "execution_count": 14,
   "metadata": {},
   "outputs": [],
   "source": [
    "a.spectrum.validate(a.spectrum.get())"
   ]
  },
  {
   "cell_type": "markdown",
   "metadata": {},
   "source": [
    "The consistent shapes can be validated explicitly."
   ]
  },
  {
   "cell_type": "code",
   "execution_count": 15,
   "metadata": {},
   "outputs": [],
   "source": [
    "a.spectrum.validate_consistent_shape()"
   ]
  },
  {
   "cell_type": "markdown",
   "metadata": {},
   "source": [
    "We can inspect the setpoints of the spectrum."
   ]
  },
  {
   "cell_type": "code",
   "execution_count": 16,
   "metadata": {},
   "outputs": [
    {
     "data": {
      "text/plain": [
       "(<__main__.GeneratedSetPoints: freq_axis at 140477174548368>,)"
      ]
     },
     "execution_count": 16,
     "metadata": {},
     "output_type": "execute_result"
    }
   ],
   "source": [
    "a.spectrum.setpoints"
   ]
  },
  {
   "cell_type": "markdown",
   "metadata": {},
   "source": [
    "Or even change them."
   ]
  },
  {
   "cell_type": "code",
   "execution_count": 17,
   "metadata": {},
   "outputs": [],
   "source": [
    "a.spectrum.setpoints = (a.freq_axis,)"
   ]
  },
  {
   "cell_type": "markdown",
   "metadata": {},
   "source": [
    "## Measurement"
   ]
  },
  {
   "cell_type": "markdown",
   "metadata": {},
   "source": [
    "We can also directly consume the parameter in a measurement without defining the setpoints of the parameter again. The setpoints are automatically obtained from the definition of the `ParameterWithSetpoint` instance. "
   ]
  },
  {
   "cell_type": "code",
   "execution_count": 18,
   "metadata": {},
   "outputs": [
    {
     "name": "stdout",
     "output_type": "stream",
     "text": [
      "Starting experimental run with id: 1. \n"
     ]
    }
   ],
   "source": [
    "meas = Measurement()\n",
    "meas.register_parameter(a.spectrum)\n",
    "\n",
    "with meas.run() as datasaver:\n",
    "    datasaver.add_result((a.freq_axis, a.freq_axis()),\n",
    "                         (a.spectrum, a.spectrum()))\n",
    "    dataset = datasaver.dataset"
   ]
  },
  {
   "cell_type": "markdown",
   "metadata": {},
   "source": [
    "And plot it"
   ]
  },
  {
   "cell_type": "code",
   "execution_count": 19,
   "metadata": {},
   "outputs": [
    {
     "data": {
      "text/plain": [
       "([<matplotlib.axes._subplots.AxesSubplot at 0x7fc364168dd0>], [None])"
      ]
     },
     "execution_count": 19,
     "metadata": {},
     "output_type": "execute_result"
    },
    {
     "data": {
      "image/png": "[encoded data removed]",
      "text/plain": [
       "<Figure size 432x288 with 1 Axes>"
      ]
     },
     "metadata": {
      "needs_background": "light"
     },
     "output_type": "display_data"
    }
   ],
   "source": [
    "plot_dataset(dataset)"
   ]
  },
  {
   "cell_type": "markdown",
   "metadata": {},
   "source": [
    "To reduce the amount of typing a simple convenience function is provided that will take a `ParameterWithSetpoints` and get both its values and the setpoints values and return them as tuples for direct insertion into the Dataset."
   ]
  },
  {
   "cell_type": "code",
   "execution_count": 20,
   "metadata": {
    "scrolled": true
   },
   "outputs": [
    {
     "data": {
      "text/plain": [
       "[(<__main__.GeneratedSetPoints: freq_axis at 140477174548368>,\n",
       "  array([  0.,   1.,   2.,   3.,   4.,   5.,   6.,   7.,   8.,   9.,  10.,\n",
       "          11.,  12.,  13.,  14.,  15.,  16.,  17.,  18.,  19.,  20.,  21.,\n",
       "          22.,  23.,  24.,  25.,  26.,  27.,  28.,  29.,  30.,  31.,  32.,\n",
       "          33.,  34.,  35.,  36.,  37.,  38.,  39.,  40.,  41.,  42.,  43.,\n",
       "          44.,  45.,  46.,  47.,  48.,  49.,  50.,  51.,  52.,  53.,  54.,\n",
       "          55.,  56.,  57.,  58.,  59.,  60.,  61.,  62.,  63.,  64.,  65.,\n",
       "          66.,  67.,  68.,  69.,  70.,  71.,  72.,  73.,  74.,  75.,  76.,\n",
       "          77.,  78.,  79.,  80.,  81.,  82.,  83.,  84.,  85.,  86.,  87.,\n",
       "          88.,  89.,  90.,  91.,  92.,  93.,  94.,  95.,  96.,  97.,  98.,\n",
       "          99., 100., 101., 102., 103., 104., 105., 106., 107., 108., 109.,\n",
       "         110., 111., 112., 113., 114., 115., 116., 117., 118., 119., 120.,\n",
       "         121., 122., 123., 124., 125., 126., 127., 128., 129., 130., 131.,\n",
       "         132., 133., 134., 135., 136., 137., 138., 139., 140., 141., 142.,\n",
       "         143., 144., 145., 146., 147., 148., 149., 150., 151., 152., 153.,\n",
       "         154., 155., 156., 157., 158., 159., 160., 161., 162., 163., 164.,\n",
       "         165., 166., 167., 168., 169., 170., 171., 172., 173., 174., 175.,\n",
       "         176., 177., 178., 179., 180., 181., 182., 183., 184., 185., 186.,\n",
       "         187., 188., 189., 190., 191., 192., 193., 194., 195., 196., 197.,\n",
       "         198., 199., 200., 201., 202., 203., 204., 205., 206., 207., 208.,\n",
       "         209., 210., 211., 212., 213., 214., 215., 216., 217., 218., 219.,\n",
       "         220., 221., 222., 223., 224., 225., 226., 227., 228., 229., 230.,\n",
       "         231., 232., 233., 234., 235., 236., 237., 238., 239., 240., 241.,\n",
       "         242., 243., 244., 245., 246., 247., 248., 249., 250., 251., 252.,\n",
       "         253., 254., 255., 256., 257., 258., 259., 260., 261., 262., 263.,\n",
       "         264., 265., 266., 267., 268., 269., 270., 271., 272., 273., 274.,\n",
       "         275., 276., 277., 278., 279., 280., 281., 282., 283., 284., 285.,\n",
       "         286., 287., 288., 289., 290., 291., 292., 293., 294., 295., 296.,\n",
       "         297., 298., 299., 300., 301., 302., 303., 304., 305., 306., 307.,\n",
       "         308., 309., 310., 311., 312., 313., 314., 315., 316., 317., 318.,\n",
       "         319., 320., 321., 322., 323., 324., 325., 326., 327., 328., 329.,\n",
       "         330., 331., 332., 333., 334., 335., 336., 337., 338., 339., 340.,\n",
       "         341., 342., 343., 344., 345., 346., 347., 348., 349., 350., 351.,\n",
       "         352., 353., 354., 355., 356., 357., 358., 359., 360., 361., 362.,\n",
       "         363., 364., 365., 366., 367., 368., 369., 370., 371., 372., 373.,\n",
       "         374., 375., 376., 377., 378., 379., 380., 381., 382., 383., 384.,\n",
       "         385., 386., 387., 388., 389., 390., 391., 392., 393., 394., 395.,\n",
       "         396., 397., 398., 399., 400., 401., 402., 403., 404., 405., 406.,\n",
       "         407., 408., 409., 410., 411., 412., 413., 414., 415., 416., 417.,\n",
       "         418., 419., 420., 421., 422., 423., 424., 425., 426., 427., 428.,\n",
       "         429., 430., 431., 432., 433., 434., 435., 436., 437., 438., 439.,\n",
       "         440., 441., 442., 443., 444., 445., 446., 447., 448., 449., 450.,\n",
       "         451., 452., 453., 454., 455., 456., 457., 458., 459., 460., 461.,\n",
       "         462., 463., 464., 465., 466., 467., 468., 469., 470., 471., 472.,\n",
       "         473., 474., 475., 476., 477., 478., 479., 480., 481., 482., 483.,\n",
       "         484., 485., 486., 487., 488., 489., 490., 491., 492., 493., 494.,\n",
       "         495., 496., 497., 498., 499., 500.])),\n",
       " (<__main__.DummyArray: spectrum at 140477174548816>,\n",
       "  array([4.00754300e-01, 6.44312419e-01, 7.98032881e-01, 3.59454714e-01,\n",
       "         7.79228208e-01, 3.56802771e-01, 3.37544206e-01, 4.50687031e-01,\n",
       "         2.26763316e-01, 5.03078032e-01, 1.71592406e-01, 5.78592801e-02,\n",
       "         5.93624706e-01, 3.54455660e-02, 5.54564825e-01, 2.85498900e-01,\n",
       "         4.60856072e-01, 5.08626220e-01, 6.72714909e-01, 3.59595248e-01,\n",
       "         8.06969836e-01, 8.40613414e-01, 1.55567596e-01, 4.80743764e-01,\n",
       "         5.02826693e-01, 5.53952528e-01, 4.88749080e-02, 1.10074926e-01,\n",
       "         2.56828400e-01, 4.60919075e-01, 2.61213377e-01, 6.22285237e-01,\n",
       "         3.64350785e-01, 2.50287914e-01, 2.43244823e-01, 9.82729318e-01,\n",
       "         3.83695775e-01, 3.61992269e-01, 1.87816479e-01, 1.26192973e-01,\n",
       "         4.83697422e-01, 7.71899463e-01, 6.84266329e-01, 6.75085152e-01,\n",
       "         7.21615382e-01, 7.14584462e-01, 1.82837511e-01, 7.80182411e-01,\n",
       "         6.97182917e-02, 2.58683328e-01, 9.90178206e-01, 1.28325478e-02,\n",
       "         3.41321205e-01, 2.32110188e-01, 6.00067103e-01, 2.89000018e-02,\n",
       "         4.58581136e-02, 7.98338491e-01, 1.49271394e-01, 9.77384924e-01,\n",
       "         4.72326829e-01, 8.79649062e-01, 3.87755665e-01, 1.51166991e-01,\n",
       "         9.27151099e-01, 4.29694523e-01, 1.90564807e-01, 2.02456693e-01,\n",
       "         9.05514332e-02, 7.60625358e-01, 3.66839733e-01, 4.07460691e-01,\n",
       "         5.88575544e-01, 3.77064751e-01, 6.47633650e-01, 6.87904973e-01,\n",
       "         1.76001080e-01, 7.17833285e-01, 4.22916190e-01, 7.95477824e-04,\n",
       "         8.32194432e-01, 9.09103016e-01, 4.24484152e-01, 7.07017316e-02,\n",
       "         4.44169270e-01, 4.95292781e-01, 7.98083974e-01, 1.10517745e-01,\n",
       "         2.22218721e-01, 1.80524758e-01, 9.05391780e-01, 3.69042094e-01,\n",
       "         7.30694426e-01, 9.20537504e-02, 8.52567377e-01, 5.52692178e-02,\n",
       "         2.37849464e-01, 3.44919503e-01, 7.66739382e-01, 3.31231216e-01,\n",
       "         5.84635410e-01, 7.10398318e-01, 3.54389782e-01, 1.59341804e-01,\n",
       "         9.59422986e-01, 2.57230688e-01, 1.67235162e-01, 3.57426518e-01,\n",
       "         3.37087021e-01, 5.60112151e-01, 7.77207282e-01, 8.19847198e-01,\n",
       "         2.44105235e-01, 2.30568367e-03, 1.25472896e-02, 5.36526562e-01,\n",
       "         9.37206766e-01, 2.22199716e-01, 7.04735170e-01, 3.96735017e-01,\n",
       "         9.36825770e-01, 3.09940270e-01, 7.92901919e-01, 3.48935056e-01,\n",
       "         7.10533955e-01, 1.10473880e-01, 1.00279747e-01, 8.54735916e-01,\n",
       "         6.90627520e-01, 7.80608309e-01, 3.04997120e-02, 6.72942740e-01,\n",
       "         2.55774562e-02, 5.22115279e-01, 1.37887061e-01, 9.64878562e-01,\n",
       "         7.94065894e-01, 1.26989655e-02, 3.54373552e-01, 4.26472783e-01,\n",
       "         6.06176323e-01, 8.03291520e-01, 5.98459741e-01, 9.68488440e-02,\n",
       "         9.37650170e-01, 6.45868211e-01, 4.27694782e-02, 2.70960091e-01,\n",
       "         4.73722671e-02, 5.54582219e-01, 5.78586028e-01, 4.92466696e-01,\n",
       "         2.75573092e-01, 9.30993065e-01, 4.65893894e-01, 7.19411307e-01,\n",
       "         4.66090519e-03, 7.32911059e-01, 2.04336190e-01, 5.71345629e-01,\n",
       "         6.16441344e-01, 7.43254203e-01, 3.27738827e-01, 1.43077166e-01,\n",
       "         4.81101924e-01, 6.25734780e-01, 9.68798950e-01, 9.93126477e-01,\n",
       "         9.28496484e-01, 5.37680747e-01, 5.14305884e-02, 9.85033807e-01,\n",
       "         3.49178478e-01, 2.45184457e-02, 7.87786689e-01, 1.48812354e-01,\n",
       "         2.47535552e-01, 6.51263800e-01, 1.88112092e-01, 1.06852050e-01,\n",
       "         7.74241246e-01, 9.45969438e-01, 6.23396080e-01, 1.19277200e-01,\n",
       "         5.98087828e-02, 1.69258840e-01, 5.11657371e-01, 6.11442387e-01,\n",
       "         1.16923125e-01, 2.05545906e-01, 5.60696146e-01, 2.85704299e-01,\n",
       "         1.72119925e-01, 5.50077810e-01, 2.62617319e-01, 5.55792797e-01,\n",
       "         7.80621524e-01, 6.37237187e-01, 8.58711294e-01, 2.67020846e-01,\n",
       "         1.77844880e-01, 1.29417413e-01, 6.12947266e-02, 2.55839706e-01,\n",
       "         2.36105827e-01, 9.09626746e-01, 9.76703507e-01, 4.17637947e-01,\n",
       "         2.21318608e-02, 7.66853354e-01, 8.17746930e-01, 3.98763633e-01,\n",
       "         7.30122892e-01, 2.62989045e-01, 9.11351723e-01, 1.71754717e-02,\n",
       "         5.33110042e-01, 7.54144366e-01, 8.09947407e-01, 6.79405784e-01,\n",
       "         4.91688539e-01, 7.24566216e-02, 2.50910621e-01, 9.46879877e-01,\n",
       "         7.65760041e-01, 9.95514869e-01, 3.56725760e-01, 6.58732548e-01,\n",
       "         4.18434365e-01, 8.32151723e-01, 9.51455681e-01, 3.43063524e-01,\n",
       "         3.14240745e-02, 9.19844150e-02, 9.57432709e-01, 5.16630143e-01,\n",
       "         5.00621510e-01, 1.72155779e-02, 1.90315659e-01, 7.06514608e-01,\n",
       "         5.03574404e-01, 7.26775715e-01, 3.22853461e-01, 9.78410358e-01,\n",
       "         7.61761436e-01, 8.21236116e-01, 7.93959070e-01, 5.55833545e-02,\n",
       "         6.23591192e-01, 4.56701453e-01, 6.08087471e-01, 9.20315451e-01,\n",
       "         4.17820426e-01, 7.50257620e-01, 9.35018553e-01, 2.72244511e-01,\n",
       "         7.80265804e-01, 8.78799006e-01, 8.81795506e-01, 3.80909924e-01,\n",
       "         6.82955894e-01, 9.94114960e-01, 9.71891317e-01, 1.49058346e-01,\n",
       "         9.50010730e-01, 6.64696275e-01, 2.92447360e-01, 6.44044133e-01,\n",
       "         5.95527899e-01, 2.43912654e-01, 2.99061790e-01, 1.73711179e-01,\n",
       "         2.10166558e-01, 4.44507285e-01, 2.57173917e-01, 9.92222539e-01,\n",
       "         1.58569153e-02, 8.16682808e-02, 4.29264849e-01, 8.79781761e-01,\n",
       "         2.52740517e-01, 5.16116314e-01, 5.06843511e-01, 3.93045956e-01,\n",
       "         4.06029092e-01, 6.66743289e-02, 3.09104486e-01, 7.82673548e-01,\n",
       "         1.02272231e-01, 7.49713280e-01, 7.61210337e-02, 3.22053800e-01,\n",
       "         6.75768864e-01, 5.07432944e-01, 5.31959477e-01, 9.89139186e-01,\n",
       "         8.80761092e-01, 3.03884610e-01, 8.15546582e-01, 5.13593894e-01,\n",
       "         3.21585812e-01, 5.68056361e-01, 1.63145990e-01, 8.32102922e-02,\n",
       "         8.96964085e-01, 2.88597945e-01, 5.66269787e-01, 3.37529038e-02,\n",
       "         7.45372158e-01, 8.36320700e-01, 8.82649998e-01, 2.35479350e-01,\n",
       "         9.72767867e-01, 9.79581893e-01, 3.65320157e-01, 4.40713422e-02,\n",
       "         5.26818757e-01, 9.64511172e-01, 9.29689779e-01, 3.85486241e-01,\n",
       "         3.82634008e-01, 4.48539390e-01, 9.72199381e-01, 1.77583408e-01,\n",
       "         7.50952942e-01, 7.97613747e-01, 7.79680145e-01, 6.53217432e-01,\n",
       "         3.74453704e-01, 5.31729639e-01, 1.85135367e-01, 8.17890489e-01,\n",
       "         1.13744211e-01, 3.92849719e-01, 2.05613946e-01, 1.56735719e-01,\n",
       "         4.60975576e-01, 7.98789305e-01, 2.55161273e-01, 5.28540112e-01,\n",
       "         7.30932915e-01, 7.31146256e-01, 2.80028907e-01, 8.04017168e-01,\n",
       "         4.23453196e-01, 5.06734008e-01, 9.92316341e-01, 4.48844397e-01,\n",
       "         2.18702961e-01, 6.72684967e-01, 3.40868325e-01, 8.20783330e-01,\n",
       "         5.37172874e-01, 4.31316987e-01, 9.46984035e-01, 9.19165476e-01,\n",
       "         5.12499818e-01, 3.30897490e-01, 7.54631315e-01, 1.69777554e-01,\n",
       "         5.14169169e-01, 8.66836091e-02, 3.85194595e-01, 9.25853340e-01,\n",
       "         8.31344601e-01, 9.22714575e-01, 6.37493890e-01, 5.17861724e-01,\n",
       "         8.20386030e-01, 3.77194964e-02, 6.57869394e-01, 8.13138675e-01,\n",
       "         9.00640069e-01, 9.71166664e-01, 5.00990660e-02, 9.37574793e-01,\n",
       "         4.29347841e-01, 4.62457057e-01, 2.48968231e-02, 5.77586133e-01,\n",
       "         4.82283193e-01, 6.68057532e-01, 3.47762528e-01, 9.04214682e-01,\n",
       "         8.36247788e-01, 3.32017179e-01, 2.14397026e-02, 9.90069483e-01,\n",
       "         7.99952759e-01, 9.06846032e-01, 8.93257602e-01, 5.03014648e-01,\n",
       "         8.34055405e-03, 1.45649260e-01, 4.27263034e-01, 6.11493541e-01,\n",
       "         2.95711858e-01, 5.72253664e-01, 1.90852327e-01, 3.30603337e-01,\n",
       "         9.83504322e-01, 4.02272410e-01, 3.41382759e-02, 8.76263662e-02,\n",
       "         8.79314447e-01, 2.28760628e-01, 2.75532797e-01, 2.02840651e-01,\n",
       "         4.41713770e-01, 9.18046719e-02, 6.04511934e-01, 4.78643401e-01,\n",
       "         2.40227308e-02, 4.44800939e-01, 1.06031661e-01, 7.47534202e-01,\n",
       "         6.06856703e-01, 3.47843652e-01, 2.70285190e-01, 8.28274267e-01,\n",
       "         4.98541571e-01, 6.39295595e-01, 7.20932431e-01, 7.89288652e-01,\n",
       "         5.75933413e-01, 8.20833846e-01, 5.65753080e-01, 5.63120146e-02,\n",
       "         6.34529223e-01, 1.22646303e-01, 4.13709648e-01, 9.81384301e-01,\n",
       "         8.31297469e-02, 3.43762795e-01, 8.97462731e-01, 6.48856717e-01,\n",
       "         9.25987805e-01, 7.03059739e-01, 2.91722297e-01, 1.05576717e-01,\n",
       "         6.76191684e-01, 8.83900798e-01, 6.91172672e-01, 3.03019322e-01,\n",
       "         5.95521167e-01, 8.89818915e-01, 1.96177840e-01, 9.04340771e-01,\n",
       "         4.79979029e-01, 1.32731513e-01, 8.57489150e-01, 2.11550984e-01,\n",
       "         4.36475789e-01, 3.08539327e-01, 9.37829645e-01, 8.42030920e-01,\n",
       "         5.06326490e-01, 6.26536213e-01, 9.09355574e-02, 2.32013352e-01,\n",
       "         9.35831887e-01, 7.58886511e-01, 6.43728503e-01, 7.66056183e-02,\n",
       "         2.81966189e-01, 1.28052322e-01, 7.38869885e-01, 3.48373983e-01,\n",
       "         1.09898534e-01, 8.18622989e-01, 5.38401404e-01, 4.27338487e-01,\n",
       "         6.85911993e-01, 3.79767730e-01, 6.50804823e-02, 2.53116693e-01,\n",
       "         7.21646369e-01, 7.57953264e-01, 6.69841537e-01, 5.69764855e-01,\n",
       "         9.37378614e-01, 5.44590279e-01, 1.92733394e-01, 3.76806942e-01,\n",
       "         5.14688765e-01, 7.53207792e-01, 1.81462109e-01, 5.19503034e-01,\n",
       "         9.88803372e-01, 7.04057416e-02, 6.93270445e-01, 8.75058375e-01,\n",
       "         6.13252171e-01, 3.95507633e-01, 3.01839031e-01, 7.40887680e-02,\n",
       "         4.14717538e-01, 9.53428047e-01, 2.90124616e-01, 8.20096002e-01,\n",
       "         4.52051250e-01]))]"
      ]
     },
     "execution_count": 20,
     "metadata": {},
     "output_type": "execute_result"
    }
   ],
   "source": [
    "expand_setpoints_helper(a.spectrum)"
   ]
  },
  {
   "cell_type": "code",
   "execution_count": 21,
   "metadata": {},
   "outputs": [
    {
     "name": "stdout",
     "output_type": "stream",
     "text": [
      "Starting experimental run with id: 2. \n"
     ]
    }
   ],
   "source": [
    "meas = Measurement()\n",
    "meas.register_parameter(a.spectrum)\n",
    "\n",
    "with meas.run() as datasaver:\n",
    "    datasaver.add_result(*expand_setpoints_helper(a.spectrum))\n",
    "    \n",
    "    dataid = datasaver.run_id"
   ]
  },
  {
   "cell_type": "code",
   "execution_count": null,
   "metadata": {},
   "outputs": [],
   "source": []
  }
 ],
 "metadata": {
  "kernelspec": {
   "display_name": "Python 3",
   "language": "python",
   "name": "python3"
  },
  "language_info": {
   "codemirror_mode": {
    "name": "ipython",
    "version": 3
   },
   "file_extension": ".py",
   "mimetype": "text/x-python",
   "name": "python",
   "nbconvert_exporter": "python",
   "pygments_lexer": "ipython3",
   "version": "3.7.5"
  },
  "toc": {
   "base_numbering": 1,
   "nav_menu": {},
   "number_sections": true,
   "sideBar": true,
   "skip_h1_title": false,
   "title_cell": "Table of Contents",
   "title_sidebar": "Contents",
   "toc_cell": false,
   "toc_position": {},
   "toc_section_display": true,
   "toc_window_display": false
  },
  "varInspector": {
   "cols": {
    "lenName": 16,
    "lenType": 16,
    "lenVar": 40
   },
   "kernels_config": {
    "python": {
     "delete_cmd_postfix": "",
     "delete_cmd_prefix": "del ",
     "library": "var_list.py",
     "varRefreshCmd": "print(var_dic_list())"
    },
    "r": {
     "delete_cmd_postfix": ") ",
     "delete_cmd_prefix": "rm(",
     "library": "var_list.r",
     "varRefreshCmd": "cat(var_dic_list()) "
    }
   },
   "types_to_exclude": [
    "module",
    "function",
    "builtin_function_or_method",
    "instance",
    "_Feature"
   ],
   "window_display": false
  }
 },
 "nbformat": 4,
 "nbformat_minor": 2
}
