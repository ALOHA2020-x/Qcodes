{
 "cells": [
  {
   "cell_type": "markdown",
   "metadata": {},
   "source": [
    "# Simple Example of ParameterWithSetpoints\n",
    "This notebook provides an example for writing a simple driver with a parameter that has setpoints. Let's name this parameter that has setpoints as \"y\". Then, the setpoints, say \"x1, x2, x3 ..\", are the parameters on which the parameter \n",
    "\"y\" depends upon. Meaning \"y\" is a function of \"x1, x2, x3 ...\" where \"x1, x2, x3 ...\" are known as the setpoints of parameter \"y\".\n",
    "\n",
    "This is most likely to be useful for instruments that return arrays of results. In this notebook, we will show an example of this."
   ]
  },
  {
   "cell_type": "code",
   "execution_count": 1,
   "metadata": {
    "execution": {
     "iopub.execute_input": "2020-09-21T13:48:01.872004Z",
     "iopub.status.busy": "2020-09-21T13:48:01.871135Z",
     "iopub.status.idle": "2020-09-21T13:48:01.961900Z",
     "shell.execute_reply": "2020-09-21T13:48:01.961030Z"
    }
   },
   "outputs": [],
   "source": [
    "import numpy as np\n",
    "import os"
   ]
  },
  {
   "cell_type": "code",
   "execution_count": 2,
   "metadata": {
    "execution": {
     "iopub.execute_input": "2020-09-21T13:48:01.965944Z",
     "iopub.status.busy": "2020-09-21T13:48:01.965456Z",
     "iopub.status.idle": "2020-09-21T13:48:03.042185Z",
     "shell.execute_reply": "2020-09-21T13:48:03.040916Z"
    }
   },
   "outputs": [
    {
     "name": "stdout",
     "output_type": "stream",
     "text": [
      "Logging hadn't been started.\n",
      "Activating auto-logging. Current session state plus future input saved.\n",
      "Filename       : /home/vsts/.qcodes/logs/command_history.log\n",
      "Mode           : append\n",
      "Output logging : True\n",
      "Raw input log  : False\n",
      "Timestamping   : True\n",
      "State          : active\n"
     ]
    },
    {
     "name": "stdout",
     "output_type": "stream",
     "text": [
      "Qcodes Logfile : /home/vsts/.qcodes/logs/200921-21731-qcodes.log\n"
     ]
    }
   ],
   "source": [
    "from qcodes.dataset.plotting import plot_dataset\n",
    "from qcodes.utils.validators import Numbers, Arrays\n",
    "from qcodes.instrument.base import Instrument\n",
    "from qcodes.dataset.measurements import Measurement"
   ]
  },
  {
   "cell_type": "code",
   "execution_count": 3,
   "metadata": {
    "execution": {
     "iopub.execute_input": "2020-09-21T13:48:03.046649Z",
     "iopub.status.busy": "2020-09-21T13:48:03.046111Z",
     "iopub.status.idle": "2020-09-21T13:48:03.050141Z",
     "shell.execute_reply": "2020-09-21T13:48:03.049685Z"
    }
   },
   "outputs": [],
   "source": [
    "from qcodes.dataset.sqlite.database import initialise_or_create_database_at\n",
    "from qcodes.dataset.experiment_container import load_or_create_experiment"
   ]
  },
  {
   "cell_type": "code",
   "execution_count": 4,
   "metadata": {
    "execution": {
     "iopub.execute_input": "2020-09-21T13:48:03.053786Z",
     "iopub.status.busy": "2020-09-21T13:48:03.053251Z",
     "iopub.status.idle": "2020-09-21T13:48:03.055570Z",
     "shell.execute_reply": "2020-09-21T13:48:03.055120Z"
    }
   },
   "outputs": [],
   "source": [
    "from qcodes.instrument.parameter import ParameterWithSetpoints, Parameter\n",
    "from qcodes.instrument.parameter import expand_setpoints_helper"
   ]
  },
  {
   "cell_type": "markdown",
   "metadata": {},
   "source": [
    "First, we define a dummy instrument that returns something like a frequency spectrum starting from a frequency given by `f_start` to a frequency given by `f_stop` in `n_points` steps. \n",
    "\n",
    "The extra functionality of the `ParameterWithSetpoints` is implemented by giving it a reference to one or more parameters that acts like its setpoints. \n",
    "\n",
    "To setup a `ParameterWithSetpoints` we have to do two things in addition to what we do for a normal parameter.\n",
    "\n",
    "* Define one or more parameter for the setpoints (one for each dimension of the array and let the `ParameterWithSetpoints` know that these are the setpoints.\n",
    "* Give both the setpoints parameter(s) and the `ParameterWithSetpoints` a `validator` of type `Arrays` with a shape. The shapes should be such that the combined shape of the setpoints matches the shape of the `ParameterWithSetpoints`. Note that if the shape changes with the setting of the instrument, it can be defined by another parameter as shown below. "
   ]
  },
  {
   "cell_type": "code",
   "execution_count": 5,
   "metadata": {
    "execution": {
     "iopub.execute_input": "2020-09-21T13:48:03.065789Z",
     "iopub.status.busy": "2020-09-21T13:48:03.062760Z",
     "iopub.status.idle": "2020-09-21T13:48:03.067744Z",
     "shell.execute_reply": "2020-09-21T13:48:03.067241Z"
    }
   },
   "outputs": [],
   "source": [
    "class GeneratedSetPoints(Parameter):\n",
    "    \"\"\"\n",
    "    A parameter that generates a setpoint array from start, stop and num points\n",
    "    parameters.\n",
    "    \"\"\"\n",
    "    def __init__(self, startparam, stopparam, numpointsparam, *args, **kwargs):\n",
    "        super().__init__(*args, **kwargs)\n",
    "        self._startparam = startparam\n",
    "        self._stopparam = stopparam\n",
    "        self._numpointsparam = numpointsparam\n",
    "\n",
    "    def get_raw(self):\n",
    "        return np.linspace(self._startparam(), self._stopparam(),\n",
    "                              self._numpointsparam())\n",
    "\n",
    "class DummyArray(ParameterWithSetpoints):\n",
    "    \n",
    "    def get_raw(self):\n",
    "        npoints = self.root_instrument.n_points.get_latest()\n",
    "        return np.random.rand(npoints)\n",
    "    \n",
    "\n",
    "class DummySpectrumAnalyzer(Instrument):\n",
    "    \n",
    "    def __init__(self, name, **kwargs):\n",
    "        \n",
    "        super().__init__(name, **kwargs)\n",
    "            \n",
    "\n",
    "        self.add_parameter('f_start',\n",
    "                           initial_value=0,\n",
    "                           unit='Hz',\n",
    "                           label='f start',\n",
    "                           vals=Numbers(0,1e3),\n",
    "                           get_cmd=None,\n",
    "                           set_cmd=None)\n",
    "\n",
    "        self.add_parameter('f_stop',\n",
    "                           unit='Hz',\n",
    "                           label='f stop',\n",
    "                           vals=Numbers(1,1e3),\n",
    "                           get_cmd=None,\n",
    "                           set_cmd=None)\n",
    "\n",
    "        self.add_parameter('n_points',\n",
    "                           unit='',\n",
    "                           initial_value=10,\n",
    "                           vals=Numbers(1,1e3),\n",
    "                           get_cmd=None,\n",
    "                           set_cmd=None)\n",
    "        \n",
    "        self.add_parameter('freq_axis',\n",
    "                           unit='Hz',\n",
    "                           label='Freq Axis',\n",
    "                           parameter_class=GeneratedSetPoints,\n",
    "                           startparam=self.f_start,\n",
    "                           stopparam=self.f_stop,\n",
    "                           numpointsparam=self.n_points,\n",
    "                           vals=Arrays(shape=(self.n_points.get_latest,)))\n",
    "                           \n",
    "        self.add_parameter('spectrum',\n",
    "                   unit='dBm',\n",
    "                   setpoints=(self.freq_axis,),\n",
    "                   label='Spectrum',\n",
    "                   parameter_class=DummyArray,\n",
    "                   vals=Arrays(shape=(self.n_points.get_latest,)))\n",
    "                "
   ]
  },
  {
   "cell_type": "markdown",
   "metadata": {},
   "source": [
    "In the above example, the shape is defined by the parameter `n_points` that defines how many samples our `DummySpectrumAnalyzer` returns.\n",
    "\n",
    "This means that the validation will call the function to get `n_points` twice for each `get` of the parameter. This may be too slow, however, if you (as the driver-writer) can guarantee that the cached value for `n_points` will never be out of sync with the value stored in the instrument, `n_points` may be replaced by it's latest known value such that the `validator` reads:\n",
    "```python\n",
    "vals=Arrays(shape=(self.n_points.get_latest))\n",
    "```\n",
    "\n",
    "This avoids any additional call to the instrument. In the same way, the arguments to the `freq_axis` parameter that defines the start, stop and number of points can be replaced by their latest value if the instrument allows it.\n",
    "\n"
   ]
  },
  {
   "cell_type": "code",
   "execution_count": 6,
   "metadata": {
    "execution": {
     "iopub.execute_input": "2020-09-21T13:48:03.071155Z",
     "iopub.status.busy": "2020-09-21T13:48:03.070636Z",
     "iopub.status.idle": "2020-09-21T13:48:03.149997Z",
     "shell.execute_reply": "2020-09-21T13:48:03.149502Z"
    }
   },
   "outputs": [
    {
     "name": "stdout",
     "output_type": "stream",
     "text": [
      "\r",
      "0it [00:00, ?it/s]"
     ]
    },
    {
     "name": "stdout",
     "output_type": "stream",
     "text": [
      "\r",
      "Upgrading database; v0 -> v1: : 0it [00:00, ?it/s]"
     ]
    },
    {
     "name": "stdout",
     "output_type": "stream",
     "text": [
      "\r",
      "Upgrading database; v0 -> v1: : 0it [00:00, ?it/s]"
     ]
    },
    {
     "name": "stdout",
     "output_type": "stream",
     "text": [
      "\n",
      "\r",
      "  0%|          | 0/1 [00:00<?, ?it/s]"
     ]
    },
    {
     "name": "stdout",
     "output_type": "stream",
     "text": [
      "\r",
      "Upgrading database; v1 -> v2:   0%|          | 0/1 [00:00<?, ?it/s]"
     ]
    },
    {
     "name": "stdout",
     "output_type": "stream",
     "text": [
      "\r",
      "Upgrading database; v1 -> v2: 100%|██████████| 1/1 [00:00<00:00, 596.21it/s]"
     ]
    },
    {
     "name": "stdout",
     "output_type": "stream",
     "text": [
      "\n",
      "\r",
      "0it [00:00, ?it/s]"
     ]
    },
    {
     "name": "stdout",
     "output_type": "stream",
     "text": [
      "\r",
      "Upgrading database; v2 -> v3: : 0it [00:00, ?it/s]"
     ]
    },
    {
     "name": "stdout",
     "output_type": "stream",
     "text": [
      "\r",
      "Upgrading database; v2 -> v3: : 0it [00:00, ?it/s]"
     ]
    },
    {
     "name": "stdout",
     "output_type": "stream",
     "text": [
      "\n",
      "\r",
      "0it [00:00, ?it/s]"
     ]
    },
    {
     "name": "stdout",
     "output_type": "stream",
     "text": [
      "\r",
      "Upgrading database; v3 -> v4: : 0it [00:00, ?it/s]"
     ]
    },
    {
     "name": "stdout",
     "output_type": "stream",
     "text": [
      "\r",
      "Upgrading database; v3 -> v4: : 0it [00:00, ?it/s]"
     ]
    },
    {
     "name": "stdout",
     "output_type": "stream",
     "text": [
      "\n",
      "\r",
      "  0%|          | 0/1 [00:00<?, ?it/s]"
     ]
    },
    {
     "name": "stdout",
     "output_type": "stream",
     "text": [
      "\r",
      "Upgrading database; v4 -> v5:   0%|          | 0/1 [00:00<?, ?it/s]"
     ]
    },
    {
     "name": "stdout",
     "output_type": "stream",
     "text": [
      "\r",
      "Upgrading database; v4 -> v5: 100%|██████████| 1/1 [00:00<00:00, 1121.47it/s]"
     ]
    },
    {
     "name": "stdout",
     "output_type": "stream",
     "text": [
      "\n",
      "\r",
      "0it [00:00, ?it/s]"
     ]
    },
    {
     "name": "stdout",
     "output_type": "stream",
     "text": [
      "\r",
      "Upgrading database; v5 -> v6: : 0it [00:00, ?it/s]"
     ]
    },
    {
     "name": "stdout",
     "output_type": "stream",
     "text": [
      "\r",
      "Upgrading database; v5 -> v6: : 0it [00:00, ?it/s]"
     ]
    },
    {
     "name": "stdout",
     "output_type": "stream",
     "text": [
      "\n",
      "\r",
      "  0%|          | 0/1 [00:00<?, ?it/s]"
     ]
    },
    {
     "name": "stdout",
     "output_type": "stream",
     "text": [
      "\r",
      "Upgrading database; v6 -> v7:   0%|          | 0/1 [00:00<?, ?it/s]"
     ]
    },
    {
     "name": "stdout",
     "output_type": "stream",
     "text": [
      "\r",
      "Upgrading database; v6 -> v7: 100%|██████████| 1/1 [00:00<00:00, 247.42it/s]"
     ]
    },
    {
     "name": "stdout",
     "output_type": "stream",
     "text": [
      "\n",
      "\r",
      "  0%|          | 0/1 [00:00<?, ?it/s]"
     ]
    },
    {
     "name": "stdout",
     "output_type": "stream",
     "text": [
      "\r",
      "Upgrading database; v7 -> v8:   0%|          | 0/1 [00:00<?, ?it/s]"
     ]
    },
    {
     "name": "stdout",
     "output_type": "stream",
     "text": [
      "\r",
      "Upgrading database; v7 -> v8: 100%|██████████| 1/1 [00:00<00:00, 312.47it/s]"
     ]
    },
    {
     "name": "stdout",
     "output_type": "stream",
     "text": [
      "\n",
      "\r",
      "  0%|          | 0/1 [00:00<?, ?it/s]"
     ]
    },
    {
     "name": "stdout",
     "output_type": "stream",
     "text": [
      "\r",
      "Upgrading database; v8 -> v9:   0%|          | 0/1 [00:00<?, ?it/s]"
     ]
    },
    {
     "name": "stdout",
     "output_type": "stream",
     "text": [
      "\r",
      "Upgrading database; v8 -> v9: 100%|██████████| 1/1 [00:00<00:00, 455.75it/s]"
     ]
    },
    {
     "name": "stdout",
     "output_type": "stream",
     "text": [
      "\n"
     ]
    },
    {
     "data": {
      "text/plain": [
       "tutorial_ParameterWithSetpoints#no sample#1@/home/vsts/work/1/s/docs/examples/Parameters/tutorial_paramter_with_setpoints.db\n",
       "----------------------------------------------------------------------------------------------------------------------------"
      ]
     },
     "execution_count": 1,
     "metadata": {},
     "output_type": "execute_result"
    }
   ],
   "source": [
    "tutorial_db_path = os.path.join(os.getcwd(), 'tutorial_paramter_with_setpoints.db')\n",
    "initialise_or_create_database_at(tutorial_db_path)\n",
    "load_or_create_experiment(experiment_name='tutorial_ParameterWithSetpoints', sample_name=\"no sample\")"
   ]
  },
  {
   "cell_type": "code",
   "execution_count": 7,
   "metadata": {
    "execution": {
     "iopub.execute_input": "2020-09-21T13:48:03.154723Z",
     "iopub.status.busy": "2020-09-21T13:48:03.153647Z",
     "iopub.status.idle": "2020-09-21T13:48:03.157534Z",
     "shell.execute_reply": "2020-09-21T13:48:03.156404Z"
    }
   },
   "outputs": [],
   "source": [
    "a = DummySpectrumAnalyzer('foobar')"
   ]
  },
  {
   "cell_type": "markdown",
   "metadata": {},
   "source": [
    "First we setup the limits of the spectrum"
   ]
  },
  {
   "cell_type": "code",
   "execution_count": 8,
   "metadata": {
    "execution": {
     "iopub.execute_input": "2020-09-21T13:48:03.160792Z",
     "iopub.status.busy": "2020-09-21T13:48:03.160014Z",
     "iopub.status.idle": "2020-09-21T13:48:03.163054Z",
     "shell.execute_reply": "2020-09-21T13:48:03.162561Z"
    }
   },
   "outputs": [],
   "source": [
    "a.f_start(0)\n",
    "a.f_stop(500)\n",
    "a.n_points(501)"
   ]
  },
  {
   "cell_type": "markdown",
   "metadata": {},
   "source": [
    "And we can grab the frequency axis"
   ]
  },
  {
   "cell_type": "code",
   "execution_count": 9,
   "metadata": {
    "execution": {
     "iopub.execute_input": "2020-09-21T13:48:03.166645Z",
     "iopub.status.busy": "2020-09-21T13:48:03.165825Z",
     "iopub.status.idle": "2020-09-21T13:48:03.170681Z",
     "shell.execute_reply": "2020-09-21T13:48:03.170178Z"
    }
   },
   "outputs": [
    {
     "data": {
      "text/plain": [
       "501"
      ]
     },
     "execution_count": 1,
     "metadata": {},
     "output_type": "execute_result"
    }
   ],
   "source": [
    "a.n_points()"
   ]
  },
  {
   "cell_type": "code",
   "execution_count": 10,
   "metadata": {
    "execution": {
     "iopub.execute_input": "2020-09-21T13:48:03.173876Z",
     "iopub.status.busy": "2020-09-21T13:48:03.173339Z",
     "iopub.status.idle": "2020-09-21T13:48:03.178250Z",
     "shell.execute_reply": "2020-09-21T13:48:03.177726Z"
    },
    "scrolled": false
   },
   "outputs": [
    {
     "data": {
      "text/plain": [
       "501"
      ]
     },
     "execution_count": 1,
     "metadata": {},
     "output_type": "execute_result"
    }
   ],
   "source": [
    "freq_axis = a.freq_axis()\n",
    "len(freq_axis)"
   ]
  },
  {
   "cell_type": "code",
   "execution_count": 11,
   "metadata": {
    "execution": {
     "iopub.execute_input": "2020-09-21T13:48:03.182321Z",
     "iopub.status.busy": "2020-09-21T13:48:03.181808Z",
     "iopub.status.idle": "2020-09-21T13:48:03.186327Z",
     "shell.execute_reply": "2020-09-21T13:48:03.185838Z"
    }
   },
   "outputs": [
    {
     "data": {
      "text/plain": [
       "array([0., 1., 2., 3., 4., 5., 6., 7., 8., 9.])"
      ]
     },
     "execution_count": 1,
     "metadata": {},
     "output_type": "execute_result"
    }
   ],
   "source": [
    "freq_axis[:10]"
   ]
  },
  {
   "cell_type": "markdown",
   "metadata": {},
   "source": [
    "As expected we get a result wit 501 points as we asked for an axis with 501 points. "
   ]
  },
  {
   "cell_type": "markdown",
   "metadata": {},
   "source": [
    "Above we have added a validator to the `freq_axis` parameter encoding the fact that this is an Array with `n_points`. Note that we do not have to supply the number of points as an integer but can supply a function that returns the valid number of points. This would normally be a QCoDeS parameter.\n",
    "\n",
    "This will be checked if we validate the output."
   ]
  },
  {
   "cell_type": "code",
   "execution_count": 12,
   "metadata": {
    "execution": {
     "iopub.execute_input": "2020-09-21T13:48:03.190165Z",
     "iopub.status.busy": "2020-09-21T13:48:03.189705Z",
     "iopub.status.idle": "2020-09-21T13:48:03.192583Z",
     "shell.execute_reply": "2020-09-21T13:48:03.192087Z"
    }
   },
   "outputs": [],
   "source": [
    "a.freq_axis.validate(a.freq_axis.get())"
   ]
  },
  {
   "cell_type": "markdown",
   "metadata": {},
   "source": [
    "Naturally, we can also get the spectrum. Getting the spectrum will automatically perform validation both for the shape of the parameter itself and the relation to the setpoint parameter(s)"
   ]
  },
  {
   "cell_type": "code",
   "execution_count": 13,
   "metadata": {
    "execution": {
     "iopub.execute_input": "2020-09-21T13:48:03.196489Z",
     "iopub.status.busy": "2020-09-21T13:48:03.195582Z",
     "iopub.status.idle": "2020-09-21T13:48:03.198172Z",
     "shell.execute_reply": "2020-09-21T13:48:03.198639Z"
    },
    "scrolled": true
   },
   "outputs": [
    {
     "data": {
      "text/plain": [
       "501"
      ]
     },
     "execution_count": 1,
     "metadata": {},
     "output_type": "execute_result"
    }
   ],
   "source": [
    "spectrum = a.spectrum.get()\n",
    "len(spectrum)"
   ]
  },
  {
   "cell_type": "markdown",
   "metadata": {},
   "source": [
    "When we validate a `ParameterWithSetpoints`, we automatically validate that the shape is consistent between the parameters and its setpoints. As well as validating the shape as above."
   ]
  },
  {
   "cell_type": "code",
   "execution_count": 14,
   "metadata": {
    "execution": {
     "iopub.execute_input": "2020-09-21T13:48:03.203009Z",
     "iopub.status.busy": "2020-09-21T13:48:03.202105Z",
     "iopub.status.idle": "2020-09-21T13:48:03.205515Z",
     "shell.execute_reply": "2020-09-21T13:48:03.204981Z"
    }
   },
   "outputs": [],
   "source": [
    "a.spectrum.validate(a.spectrum.get())"
   ]
  },
  {
   "cell_type": "markdown",
   "metadata": {},
   "source": [
    "The consistent shapes can be validated explicitly."
   ]
  },
  {
   "cell_type": "code",
   "execution_count": 15,
   "metadata": {
    "execution": {
     "iopub.execute_input": "2020-09-21T13:48:03.208851Z",
     "iopub.status.busy": "2020-09-21T13:48:03.208372Z",
     "iopub.status.idle": "2020-09-21T13:48:03.210660Z",
     "shell.execute_reply": "2020-09-21T13:48:03.210124Z"
    }
   },
   "outputs": [],
   "source": [
    "a.spectrum.validate_consistent_shape()"
   ]
  },
  {
   "cell_type": "markdown",
   "metadata": {},
   "source": [
    "We can inspect the setpoints of the spectrum."
   ]
  },
  {
   "cell_type": "code",
   "execution_count": 16,
   "metadata": {
    "execution": {
     "iopub.execute_input": "2020-09-21T13:48:03.214539Z",
     "iopub.status.busy": "2020-09-21T13:48:03.213386Z",
     "iopub.status.idle": "2020-09-21T13:48:03.216317Z",
     "shell.execute_reply": "2020-09-21T13:48:03.216788Z"
    }
   },
   "outputs": [
    {
     "data": {
      "text/plain": [
       "(<__main__.GeneratedSetPoints: freq_axis at 139725948069456>,)"
      ]
     },
     "execution_count": 1,
     "metadata": {},
     "output_type": "execute_result"
    }
   ],
   "source": [
    "a.spectrum.setpoints"
   ]
  },
  {
   "cell_type": "markdown",
   "metadata": {},
   "source": [
    "Or even change them."
   ]
  },
  {
   "cell_type": "code",
   "execution_count": 17,
   "metadata": {
    "execution": {
     "iopub.execute_input": "2020-09-21T13:48:03.220913Z",
     "iopub.status.busy": "2020-09-21T13:48:03.219759Z",
     "iopub.status.idle": "2020-09-21T13:48:03.221438Z",
     "shell.execute_reply": "2020-09-21T13:48:03.221933Z"
    }
   },
   "outputs": [],
   "source": [
    "a.spectrum.setpoints = (a.freq_axis,)"
   ]
  },
  {
   "cell_type": "markdown",
   "metadata": {},
   "source": [
    "## Measurement"
   ]
  },
  {
   "cell_type": "markdown",
   "metadata": {},
   "source": [
    "We can also directly consume the parameter in a measurement without defining the setpoints of the parameter again. The setpoints are automatically obtained from the definition of the `ParameterWithSetpoint` instance. "
   ]
  },
  {
   "cell_type": "code",
   "execution_count": 18,
   "metadata": {
    "execution": {
     "iopub.execute_input": "2020-09-21T13:48:03.226232Z",
     "iopub.status.busy": "2020-09-21T13:48:03.225712Z",
     "iopub.status.idle": "2020-09-21T13:48:03.242519Z",
     "shell.execute_reply": "2020-09-21T13:48:03.242079Z"
    }
   },
   "outputs": [
    {
     "name": "stdout",
     "output_type": "stream",
     "text": [
      "Starting experimental run with id: 1. \n"
     ]
    }
   ],
   "source": [
    "meas = Measurement()\n",
    "meas.register_parameter(a.spectrum)\n",
    "\n",
    "with meas.run() as datasaver:\n",
    "    datasaver.add_result((a.freq_axis, a.freq_axis()),\n",
    "                         (a.spectrum, a.spectrum()))\n",
    "    dataset = datasaver.dataset"
   ]
  },
  {
   "cell_type": "markdown",
   "metadata": {},
   "source": [
    "And plot it"
   ]
  },
  {
   "cell_type": "code",
   "execution_count": 19,
   "metadata": {
    "execution": {
     "iopub.execute_input": "2020-09-21T13:48:03.245706Z",
     "iopub.status.busy": "2020-09-21T13:48:03.245239Z",
     "iopub.status.idle": "2020-09-21T13:48:03.592850Z",
     "shell.execute_reply": "2020-09-21T13:48:03.591696Z"
    }
   },
   "outputs": [
    {
     "data": {
      "text/plain": [
       "([<AxesSubplot:title={'center':'Run #1, Experiment tutorial_ParameterWithSetpoints (no sample)'}, xlabel='Freq Axis (Hz)', ylabel='Spectrum ($10^{-3}$ dBm)'>],\n",
       " [None])"
      ]
     },
     "execution_count": 1,
     "metadata": {},
     "output_type": "execute_result"
    },
    {
     "data": {
      "image/png": "[encoded data removed]",
      "text/plain": [
       "<Figure size 432x288 with 1 Axes>"
      ]
     },
     "metadata": {
      "needs_background": "light"
     },
     "output_type": "display_data"
    }
   ],
   "source": [
    "plot_dataset(dataset)"
   ]
  },
  {
   "cell_type": "markdown",
   "metadata": {},
   "source": [
    "To reduce the amount of typing a simple convenience function is provided that will take a `ParameterWithSetpoints` and get both its values and the setpoints values and return them as tuples for direct insertion into the Dataset."
   ]
  },
  {
   "cell_type": "code",
   "execution_count": 20,
   "metadata": {
    "execution": {
     "iopub.execute_input": "2020-09-21T13:48:03.605873Z",
     "iopub.status.busy": "2020-09-21T13:48:03.596048Z",
     "iopub.status.idle": "2020-09-21T13:48:03.610889Z",
     "shell.execute_reply": "2020-09-21T13:48:03.610450Z"
    },
    "scrolled": true
   },
   "outputs": [
    {
     "data": {
      "text/plain": [
       "[(<__main__.GeneratedSetPoints: freq_axis at 139725948069456>,\n",
       "  array([  0.,   1.,   2.,   3.,   4.,   5.,   6.,   7.,   8.,   9.,  10.,\n",
       "          11.,  12.,  13.,  14.,  15.,  16.,  17.,  18.,  19.,  20.,  21.,\n",
       "          22.,  23.,  24.,  25.,  26.,  27.,  28.,  29.,  30.,  31.,  32.,\n",
       "          33.,  34.,  35.,  36.,  37.,  38.,  39.,  40.,  41.,  42.,  43.,\n",
       "          44.,  45.,  46.,  47.,  48.,  49.,  50.,  51.,  52.,  53.,  54.,\n",
       "          55.,  56.,  57.,  58.,  59.,  60.,  61.,  62.,  63.,  64.,  65.,\n",
       "          66.,  67.,  68.,  69.,  70.,  71.,  72.,  73.,  74.,  75.,  76.,\n",
       "          77.,  78.,  79.,  80.,  81.,  82.,  83.,  84.,  85.,  86.,  87.,\n",
       "          88.,  89.,  90.,  91.,  92.,  93.,  94.,  95.,  96.,  97.,  98.,\n",
       "          99., 100., 101., 102., 103., 104., 105., 106., 107., 108., 109.,\n",
       "         110., 111., 112., 113., 114., 115., 116., 117., 118., 119., 120.,\n",
       "         121., 122., 123., 124., 125., 126., 127., 128., 129., 130., 131.,\n",
       "         132., 133., 134., 135., 136., 137., 138., 139., 140., 141., 142.,\n",
       "         143., 144., 145., 146., 147., 148., 149., 150., 151., 152., 153.,\n",
       "         154., 155., 156., 157., 158., 159., 160., 161., 162., 163., 164.,\n",
       "         165., 166., 167., 168., 169., 170., 171., 172., 173., 174., 175.,\n",
       "         176., 177., 178., 179., 180., 181., 182., 183., 184., 185., 186.,\n",
       "         187., 188., 189., 190., 191., 192., 193., 194., 195., 196., 197.,\n",
       "         198., 199., 200., 201., 202., 203., 204., 205., 206., 207., 208.,\n",
       "         209., 210., 211., 212., 213., 214., 215., 216., 217., 218., 219.,\n",
       "         220., 221., 222., 223., 224., 225., 226., 227., 228., 229., 230.,\n",
       "         231., 232., 233., 234., 235., 236., 237., 238., 239., 240., 241.,\n",
       "         242., 243., 244., 245., 246., 247., 248., 249., 250., 251., 252.,\n",
       "         253., 254., 255., 256., 257., 258., 259., 260., 261., 262., 263.,\n",
       "         264., 265., 266., 267., 268., 269., 270., 271., 272., 273., 274.,\n",
       "         275., 276., 277., 278., 279., 280., 281., 282., 283., 284., 285.,\n",
       "         286., 287., 288., 289., 290., 291., 292., 293., 294., 295., 296.,\n",
       "         297., 298., 299., 300., 301., 302., 303., 304., 305., 306., 307.,\n",
       "         308., 309., 310., 311., 312., 313., 314., 315., 316., 317., 318.,\n",
       "         319., 320., 321., 322., 323., 324., 325., 326., 327., 328., 329.,\n",
       "         330., 331., 332., 333., 334., 335., 336., 337., 338., 339., 340.,\n",
       "         341., 342., 343., 344., 345., 346., 347., 348., 349., 350., 351.,\n",
       "         352., 353., 354., 355., 356., 357., 358., 359., 360., 361., 362.,\n",
       "         363., 364., 365., 366., 367., 368., 369., 370., 371., 372., 373.,\n",
       "         374., 375., 376., 377., 378., 379., 380., 381., 382., 383., 384.,\n",
       "         385., 386., 387., 388., 389., 390., 391., 392., 393., 394., 395.,\n",
       "         396., 397., 398., 399., 400., 401., 402., 403., 404., 405., 406.,\n",
       "         407., 408., 409., 410., 411., 412., 413., 414., 415., 416., 417.,\n",
       "         418., 419., 420., 421., 422., 423., 424., 425., 426., 427., 428.,\n",
       "         429., 430., 431., 432., 433., 434., 435., 436., 437., 438., 439.,\n",
       "         440., 441., 442., 443., 444., 445., 446., 447., 448., 449., 450.,\n",
       "         451., 452., 453., 454., 455., 456., 457., 458., 459., 460., 461.,\n",
       "         462., 463., 464., 465., 466., 467., 468., 469., 470., 471., 472.,\n",
       "         473., 474., 475., 476., 477., 478., 479., 480., 481., 482., 483.,\n",
       "         484., 485., 486., 487., 488., 489., 490., 491., 492., 493., 494.,\n",
       "         495., 496., 497., 498., 499., 500.])),\n",
       " (<__main__.DummyArray: spectrum at 139725950097040>,\n",
       "  array([0.0301582 , 0.85992782, 0.49208988, 0.15531135, 0.14329591,\n",
       "         0.31326299, 0.69855646, 0.74230291, 0.73341912, 0.11881903,\n",
       "         0.58703538, 0.16058613, 0.82348473, 0.61484139, 0.1814892 ,\n",
       "         0.90933883, 0.65661559, 0.75990612, 0.4595251 , 0.45245648,\n",
       "         0.06946099, 0.22383772, 0.74322392, 0.57373845, 0.66196539,\n",
       "         0.3600302 , 0.48735456, 0.92831927, 0.87381032, 0.31644249,\n",
       "         0.35884918, 0.12005096, 0.51612647, 0.60441338, 0.58237081,\n",
       "         0.19715766, 0.7399909 , 0.10057086, 0.25480379, 0.78416403,\n",
       "         0.82160796, 0.68857116, 0.92017362, 0.1490939 , 0.46984842,\n",
       "         0.09948267, 0.94955314, 0.33601498, 0.82525324, 0.92397034,\n",
       "         0.1034903 , 0.40747255, 0.32305761, 0.933344  , 0.82206973,\n",
       "         0.35098796, 0.01003613, 0.71697867, 0.6578475 , 0.42241537,\n",
       "         0.61365577, 0.98695296, 0.50773178, 0.44611071, 0.75013991,\n",
       "         0.75710745, 0.24352789, 0.61022504, 0.47041175, 0.93286582,\n",
       "         0.33317186, 0.69879829, 0.33422648, 0.78825182, 0.67926748,\n",
       "         0.27185502, 0.49730601, 0.06370816, 0.20152068, 0.13692244,\n",
       "         0.26722061, 0.65720787, 0.71358429, 0.82246242, 0.38126092,\n",
       "         0.24877178, 0.65059253, 0.75077768, 0.67704512, 0.84472326,\n",
       "         0.88654577, 0.19979932, 0.18174126, 0.37140991, 0.54026942,\n",
       "         0.83460241, 0.42964718, 0.6119502 , 0.90439985, 0.04585651,\n",
       "         0.49914744, 0.15246751, 0.47158375, 0.61949001, 0.26118965,\n",
       "         0.03210891, 0.5906337 , 0.30257742, 0.47229723, 0.91416462,\n",
       "         0.98164799, 0.74656796, 0.17607877, 0.65922045, 0.00633933,\n",
       "         0.41443416, 0.84227329, 0.74852033, 0.89901282, 0.89883093,\n",
       "         0.23030928, 0.56603493, 0.2453915 , 0.04176538, 0.29820309,\n",
       "         0.13668923, 0.53035795, 0.01614148, 0.20130593, 0.18737293,\n",
       "         0.02137586, 0.19209539, 0.18597817, 0.58973728, 0.53394704,\n",
       "         0.88457382, 0.51635661, 0.61085455, 0.12548425, 0.12048549,\n",
       "         0.82133563, 0.48606247, 0.32938889, 0.35043888, 0.45624158,\n",
       "         0.5153853 , 0.34996986, 0.16999687, 0.28460843, 0.37803213,\n",
       "         0.03248401, 0.31523596, 0.05284133, 0.25069938, 0.67125687,\n",
       "         0.4829979 , 0.73551253, 0.36422434, 0.32484667, 0.35425277,\n",
       "         0.60241991, 0.96308252, 0.57088111, 0.92188547, 0.28661803,\n",
       "         0.07686139, 0.34100463, 0.76353872, 0.98607955, 0.43268502,\n",
       "         0.06098943, 0.17516941, 0.53834609, 0.34285528, 0.8931683 ,\n",
       "         0.12427607, 0.72510289, 0.06718425, 0.52143816, 0.45396655,\n",
       "         0.20549139, 0.81071496, 0.74435397, 0.48791496, 0.71594391,\n",
       "         0.65327475, 0.40891832, 0.96057353, 0.1262416 , 0.05792624,\n",
       "         0.88925898, 0.51638903, 0.64432119, 0.63901048, 0.06451952,\n",
       "         0.03679013, 0.8768708 , 0.10524187, 0.38802196, 0.14941968,\n",
       "         0.37711342, 0.0167267 , 0.3178135 , 0.15990336, 0.87706325,\n",
       "         0.14762705, 0.74915016, 0.54309312, 0.38400248, 0.03890795,\n",
       "         0.78534012, 0.44075538, 0.07336623, 0.24651568, 0.59849598,\n",
       "         0.38431868, 0.11206041, 0.38473264, 0.17620315, 0.99600006,\n",
       "         0.49513139, 0.72750962, 0.41892316, 0.38027511, 0.91033236,\n",
       "         0.64397576, 0.44639438, 0.86982848, 0.89929418, 0.85321788,\n",
       "         0.47523321, 0.43184543, 0.24834202, 0.54799479, 0.57416901,\n",
       "         0.79811387, 0.42233712, 0.83770906, 0.53600305, 0.18497417,\n",
       "         0.852806  , 0.36042693, 0.35635063, 0.38586053, 0.09525357,\n",
       "         0.43565191, 0.95771909, 0.04046738, 0.39705565, 0.5523009 ,\n",
       "         0.68403662, 0.13824829, 0.38485683, 0.04998277, 0.3759734 ,\n",
       "         0.0278396 , 0.29083589, 0.86148171, 0.23770024, 0.46846426,\n",
       "         0.21839343, 0.38750843, 0.27975185, 0.26585391, 0.73821403,\n",
       "         0.94614895, 0.71155468, 0.63964066, 0.69176683, 0.3589032 ,\n",
       "         0.42114343, 0.01221117, 0.56427225, 0.30668489, 0.76232087,\n",
       "         0.3377142 , 0.17031367, 0.38042043, 0.2214356 , 0.20618663,\n",
       "         0.34577622, 0.30769934, 0.89557505, 0.09952272, 0.15358901,\n",
       "         0.93003236, 0.83890845, 0.84897141, 0.84672906, 0.46106921,\n",
       "         0.16591616, 0.16507938, 0.11239824, 0.95481604, 0.75886761,\n",
       "         0.60237165, 0.47510859, 0.20493009, 0.25150845, 0.55739499,\n",
       "         0.27315817, 0.95471264, 0.24842467, 0.6312048 , 0.16377833,\n",
       "         0.30595096, 0.75667538, 0.21800514, 0.81196387, 0.23294167,\n",
       "         0.81417945, 0.89751254, 0.73005022, 0.34870233, 0.61322855,\n",
       "         0.9902797 , 0.456378  , 0.35772482, 0.57305987, 0.12070905,\n",
       "         0.68296403, 0.18116994, 0.1563461 , 0.02493629, 0.10394974,\n",
       "         0.50743877, 0.5468002 , 0.48433845, 0.95931973, 0.43627866,\n",
       "         0.94044248, 0.70967733, 0.77497971, 0.04880581, 0.54826287,\n",
       "         0.50558579, 0.33289686, 0.66550284, 0.72136495, 0.38027451,\n",
       "         0.79540136, 0.17560319, 0.10603377, 0.8211053 , 0.2520878 ,\n",
       "         0.04880036, 0.54627757, 0.10768609, 0.69428571, 0.20591024,\n",
       "         0.79330175, 0.09385253, 0.40399337, 0.81706406, 0.98745082,\n",
       "         0.10307549, 0.8863224 , 0.44557409, 0.47105261, 0.84723936,\n",
       "         0.05660014, 0.37301441, 0.76131542, 0.00532828, 0.3336445 ,\n",
       "         0.7859924 , 0.49062932, 0.45672514, 0.93011499, 0.92080831,\n",
       "         0.04845152, 0.50903261, 0.79171106, 0.44490109, 0.66792602,\n",
       "         0.12019021, 0.06245204, 0.98845753, 0.92970299, 0.22318588,\n",
       "         0.06250183, 0.5222902 , 0.10134049, 0.44691229, 0.86566706,\n",
       "         0.62702766, 0.82192742, 0.15433787, 0.74016986, 0.11805964,\n",
       "         0.18810826, 0.10768154, 0.47419244, 0.12268749, 0.6715832 ,\n",
       "         0.27273463, 0.93985053, 0.86929622, 0.13038243, 0.93183495,\n",
       "         0.34633049, 0.32881032, 0.88898244, 0.67487083, 0.73276573,\n",
       "         0.31247354, 0.56655453, 0.37226138, 0.74585713, 0.6836124 ,\n",
       "         0.46095302, 0.78360088, 0.65813376, 0.74563928, 0.74623588,\n",
       "         0.97613436, 0.26550355, 0.68315906, 0.02206035, 0.94094755,\n",
       "         0.40387665, 0.33909422, 0.29689223, 0.86192966, 0.32764312,\n",
       "         0.66586538, 0.13633183, 0.20413031, 0.65584466, 0.40277329,\n",
       "         0.82307154, 0.22631393, 0.49445949, 0.93794733, 0.61681099,\n",
       "         0.44771575, 0.05819088, 0.199871  , 0.57147137, 0.69611474,\n",
       "         0.05965397, 0.13139559, 0.17536448, 0.15109516, 0.76135373,\n",
       "         0.26453958, 0.15953354, 0.42046365, 0.00535904, 0.91682677,\n",
       "         0.31234552, 0.50040904, 0.34238314, 0.78911793, 0.53628107,\n",
       "         0.91579971, 0.02011873, 0.93297491, 0.26826563, 0.02515807,\n",
       "         0.28940474, 0.58063606, 0.26199093, 0.16543402, 0.84554506,\n",
       "         0.75053451, 0.80576171, 0.32834945, 0.49560922, 0.30732944,\n",
       "         0.08806457, 0.85985286, 0.84909554, 0.66101822, 0.48715435,\n",
       "         0.4352575 , 0.0150185 , 0.00225328, 0.68053305, 0.78806928,\n",
       "         0.38710316, 0.87494246, 0.54520271, 0.60591626, 0.82229938,\n",
       "         0.62999922, 0.00825716, 0.68914837, 0.38622359, 0.29441756,\n",
       "         0.61411109, 0.62226316, 0.23312085, 0.47368181, 0.3463976 ,\n",
       "         0.49166959, 0.68783554, 0.37298929, 0.02991864, 0.47002817,\n",
       "         0.96942443]))]"
      ]
     },
     "execution_count": 1,
     "metadata": {},
     "output_type": "execute_result"
    }
   ],
   "source": [
    "expand_setpoints_helper(a.spectrum)"
   ]
  },
  {
   "cell_type": "code",
   "execution_count": 21,
   "metadata": {
    "execution": {
     "iopub.execute_input": "2020-09-21T13:48:03.615848Z",
     "iopub.status.busy": "2020-09-21T13:48:03.615044Z",
     "iopub.status.idle": "2020-09-21T13:48:03.632752Z",
     "shell.execute_reply": "2020-09-21T13:48:03.632257Z"
    }
   },
   "outputs": [
    {
     "name": "stdout",
     "output_type": "stream",
     "text": [
      "Starting experimental run with id: 2. \n"
     ]
    }
   ],
   "source": [
    "meas = Measurement()\n",
    "meas.register_parameter(a.spectrum)\n",
    "\n",
    "with meas.run() as datasaver:\n",
    "    datasaver.add_result(*expand_setpoints_helper(a.spectrum))\n",
    "    \n",
    "    dataid = datasaver.run_id"
   ]
  },
  {
   "cell_type": "code",
   "execution_count": null,
   "metadata": {},
   "outputs": [],
   "source": []
  }
 ],
 "metadata": {
  "kernelspec": {
   "display_name": "Python 3",
   "language": "python",
   "name": "python3"
  },
  "language_info": {
   "codemirror_mode": {
    "name": "ipython",
    "version": 3
   },
   "file_extension": ".py",
   "mimetype": "text/x-python",
   "name": "python",
   "nbconvert_exporter": "python",
   "pygments_lexer": "ipython3",
   "version": "3.7.7"
  },
  "toc": {
   "base_numbering": 1,
   "nav_menu": {},
   "number_sections": true,
   "sideBar": true,
   "skip_h1_title": false,
   "title_cell": "Table of Contents",
   "title_sidebar": "Contents",
   "toc_cell": false,
   "toc_position": {},
   "toc_section_display": true,
   "toc_window_display": false
  },
  "varInspector": {
   "cols": {
    "lenName": 16,
    "lenType": 16,
    "lenVar": 40
   },
   "kernels_config": {
    "python": {
     "delete_cmd_postfix": "",
     "delete_cmd_prefix": "del ",
     "library": "var_list.py",
     "varRefreshCmd": "print(var_dic_list())"
    },
    "r": {
     "delete_cmd_postfix": ") ",
     "delete_cmd_prefix": "rm(",
     "library": "var_list.r",
     "varRefreshCmd": "cat(var_dic_list()) "
    }
   },
   "types_to_exclude": [
    "module",
    "function",
    "builtin_function_or_method",
    "instance",
    "_Feature"
   ],
   "window_display": false
  }
 },
 "nbformat": 4,
 "nbformat_minor": 2
}
