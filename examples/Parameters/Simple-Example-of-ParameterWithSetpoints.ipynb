{
 "cells": [
  {
   "cell_type": "markdown",
   "metadata": {},
   "source": [
    "# Simple Example of ParameterWithSetpoints\n",
    "This notebook provides an example for writing a simple driver with a parameter that has setpoints. Let's name this parameter that has setpoints as \"y\". Then, the setpoints, say \"x1, x2, x3 ..\", are the parameters on which the parameter \n",
    "\"y\" depends upon. Meaning \"y\" is a function of \"x1, x2, x3 ...\" where \"x1, x2, x3 ...\" are known as the setpoints of parameter \"y\".\n",
    "\n",
    "This is most likely to be useful for instruments that return arrays of results. In this notebook, we will show an example of this."
   ]
  },
  {
   "cell_type": "code",
   "execution_count": 1,
   "metadata": {},
   "outputs": [],
   "source": [
    "import numpy as np\n",
    "import os"
   ]
  },
  {
   "cell_type": "code",
   "execution_count": 2,
   "metadata": {},
   "outputs": [
    {
     "name": "stdout",
     "output_type": "stream",
     "text": [
      "Logging hadn't been started.\n",
      "Activating auto-logging. Current session state plus future input saved.\n",
      "Filename       : /home/vsts/.qcodes/logs/command_history.log\n",
      "Mode           : append\n",
      "Output logging : True\n",
      "Raw input log  : False\n",
      "Timestamping   : True\n",
      "State          : active\n"
     ]
    },
    {
     "name": "stdout",
     "output_type": "stream",
     "text": [
      "Qcodes Logfile : /home/vsts/.qcodes/logs/200720-22172-qcodes.log\n"
     ]
    }
   ],
   "source": [
    "from qcodes.dataset.plotting import plot_dataset\n",
    "from qcodes.utils.validators import Numbers, Arrays\n",
    "from qcodes.instrument.base import Instrument\n",
    "from qcodes.dataset.measurements import Measurement"
   ]
  },
  {
   "cell_type": "code",
   "execution_count": 3,
   "metadata": {},
   "outputs": [],
   "source": [
    "from qcodes.dataset.sqlite.database import initialise_or_create_database_at\n",
    "from qcodes.dataset.experiment_container import load_or_create_experiment"
   ]
  },
  {
   "cell_type": "code",
   "execution_count": 4,
   "metadata": {},
   "outputs": [],
   "source": [
    "from qcodes.instrument.parameter import ParameterWithSetpoints, Parameter\n",
    "from qcodes.instrument.parameter import expand_setpoints_helper"
   ]
  },
  {
   "cell_type": "markdown",
   "metadata": {},
   "source": [
    "First, we define a dummy instrument that returns something like a frequency spectrum starting from a frequency given by `f_start` to a frequency given by `f_stop` in `n_points` steps. \n",
    "\n",
    "The extra functionality of the `ParameterWithSetpoints` is implemented by giving it a reference to one or more parameters that acts like its setpoints. \n",
    "\n",
    "To setup a `ParameterWithSetpoints` we have to do two things in addition to what we do for a normal parameter.\n",
    "\n",
    "* Define one or more parameter for the setpoints (one for each dimension of the array and let the `ParameterWithSetpoints` know that these are the setpoints.\n",
    "* Give both the setpoints parameter(s) and the `ParameterWithSetpoints` a `validator` of type `Arrays` with a shape. The shapes should be such that the combined shape of the setpoints matches the shape of the `ParameterWithSetpoints`. Note that if the shape changes with the setting of the instrument, it can be defined by another parameter as shown below. "
   ]
  },
  {
   "cell_type": "code",
   "execution_count": 5,
   "metadata": {},
   "outputs": [],
   "source": [
    "class GeneratedSetPoints(Parameter):\n",
    "    \"\"\"\n",
    "    A parameter that generates a setpoint array from start, stop and num points\n",
    "    parameters.\n",
    "    \"\"\"\n",
    "    def __init__(self, startparam, stopparam, numpointsparam, *args, **kwargs):\n",
    "        super().__init__(*args, **kwargs)\n",
    "        self._startparam = startparam\n",
    "        self._stopparam = stopparam\n",
    "        self._numpointsparam = numpointsparam\n",
    "\n",
    "    def get_raw(self):\n",
    "        return np.linspace(self._startparam(), self._stopparam(),\n",
    "                              self._numpointsparam())\n",
    "\n",
    "class DummyArray(ParameterWithSetpoints):\n",
    "    \n",
    "    def get_raw(self):\n",
    "        npoints = self.root_instrument.n_points.get_latest()\n",
    "        return np.random.rand(npoints)\n",
    "    \n",
    "\n",
    "class DummySpectrumAnalyzer(Instrument):\n",
    "    \n",
    "    def __init__(self, name, **kwargs):\n",
    "        \n",
    "        super().__init__(name, **kwargs)\n",
    "            \n",
    "\n",
    "        self.add_parameter('f_start',\n",
    "                           initial_value=0,\n",
    "                           unit='Hz',\n",
    "                           label='f start',\n",
    "                           vals=Numbers(0,1e3),\n",
    "                           get_cmd=None,\n",
    "                           set_cmd=None)\n",
    "\n",
    "        self.add_parameter('f_stop',\n",
    "                           unit='Hz',\n",
    "                           label='f stop',\n",
    "                           vals=Numbers(1,1e3),\n",
    "                           get_cmd=None,\n",
    "                           set_cmd=None)\n",
    "\n",
    "        self.add_parameter('n_points',\n",
    "                           unit='',\n",
    "                           initial_value=10,\n",
    "                           vals=Numbers(1,1e3),\n",
    "                           get_cmd=None,\n",
    "                           set_cmd=None)\n",
    "        \n",
    "        self.add_parameter('freq_axis',\n",
    "                           unit='Hz',\n",
    "                           label='Freq Axis',\n",
    "                           parameter_class=GeneratedSetPoints,\n",
    "                           startparam=self.f_start,\n",
    "                           stopparam=self.f_stop,\n",
    "                           numpointsparam=self.n_points,\n",
    "                           vals=Arrays(shape=(self.n_points.get_latest,)))\n",
    "                           \n",
    "        self.add_parameter('spectrum',\n",
    "                   unit='dBm',\n",
    "                   setpoints=(self.freq_axis,),\n",
    "                   label='Spectrum',\n",
    "                   parameter_class=DummyArray,\n",
    "                   vals=Arrays(shape=(self.n_points.get_latest,)))\n",
    "                "
   ]
  },
  {
   "cell_type": "markdown",
   "metadata": {},
   "source": [
    "In the above example, the shape is defined by the parameter `n_points` that defines how many samples our `DummySpectrumAnalyzer` returns.\n",
    "\n",
    "This means that the validation will call the function to get `n_points` twice for each `get` of the parameter. This may be too slow, however, if you (as the driver-writer) can guarantee that the cached value for `n_points` will never be out of sync with the value stored in the instrument, `n_points` may be replaced by it's latest known value such that the `validator` reads:\n",
    "```python\n",
    "vals=Arrays(shape=(self.n_points.get_latest))\n",
    "```\n",
    "\n",
    "This avoids any additional call to the instrument. In the same way, the arguments to the `freq_axis` parameter that defines the start, stop and number of points can be replaced by their latest value if the instrument allows it.\n",
    "\n"
   ]
  },
  {
   "cell_type": "code",
   "execution_count": 6,
   "metadata": {},
   "outputs": [
    {
     "name": "stdout",
     "output_type": "stream",
     "text": [
      "\r",
      "0it [00:00, ?it/s]"
     ]
    },
    {
     "name": "stdout",
     "output_type": "stream",
     "text": [
      "\r",
      "Upgrading database; v0 -> v1: : 0it [00:00, ?it/s]"
     ]
    },
    {
     "name": "stdout",
     "output_type": "stream",
     "text": [
      "\r",
      "Upgrading database; v0 -> v1: : 0it [00:00, ?it/s]"
     ]
    },
    {
     "name": "stdout",
     "output_type": "stream",
     "text": [
      "\n",
      "\r",
      "  0%|          | 0/1 [00:00<?, ?it/s]"
     ]
    },
    {
     "name": "stdout",
     "output_type": "stream",
     "text": [
      "\r",
      "Upgrading database; v1 -> v2:   0%|          | 0/1 [00:00<?, ?it/s]"
     ]
    },
    {
     "name": "stdout",
     "output_type": "stream",
     "text": [
      "\r",
      "Upgrading database; v1 -> v2: 100%|██████████| 1/1 [00:00<00:00, 888.62it/s]"
     ]
    },
    {
     "name": "stdout",
     "output_type": "stream",
     "text": [
      "\n",
      "\r",
      "0it [00:00, ?it/s]"
     ]
    },
    {
     "name": "stdout",
     "output_type": "stream",
     "text": [
      "\r",
      "Upgrading database; v2 -> v3: : 0it [00:00, ?it/s]"
     ]
    },
    {
     "name": "stdout",
     "output_type": "stream",
     "text": [
      "\r",
      "Upgrading database; v2 -> v3: : 0it [00:00, ?it/s]"
     ]
    },
    {
     "name": "stdout",
     "output_type": "stream",
     "text": [
      "\n",
      "\r",
      "0it [00:00, ?it/s]"
     ]
    },
    {
     "name": "stdout",
     "output_type": "stream",
     "text": [
      "\r",
      "Upgrading database; v3 -> v4: : 0it [00:00, ?it/s]"
     ]
    },
    {
     "name": "stdout",
     "output_type": "stream",
     "text": [
      "\r",
      "Upgrading database; v3 -> v4: : 0it [00:00, ?it/s]"
     ]
    },
    {
     "name": "stdout",
     "output_type": "stream",
     "text": [
      "\n",
      "\r",
      "  0%|          | 0/1 [00:00<?, ?it/s]"
     ]
    },
    {
     "name": "stdout",
     "output_type": "stream",
     "text": [
      "\r",
      "Upgrading database; v4 -> v5:   0%|          | 0/1 [00:00<?, ?it/s]"
     ]
    },
    {
     "name": "stdout",
     "output_type": "stream",
     "text": [
      "\r",
      "Upgrading database; v4 -> v5: 100%|██████████| 1/1 [00:00<00:00, 864.09it/s]"
     ]
    },
    {
     "name": "stdout",
     "output_type": "stream",
     "text": [
      "\n",
      "\r",
      "0it [00:00, ?it/s]"
     ]
    },
    {
     "name": "stdout",
     "output_type": "stream",
     "text": [
      "\r",
      "Upgrading database; v5 -> v6: : 0it [00:00, ?it/s]"
     ]
    },
    {
     "name": "stdout",
     "output_type": "stream",
     "text": [
      "\r",
      "Upgrading database; v5 -> v6: : 0it [00:00, ?it/s]"
     ]
    },
    {
     "name": "stdout",
     "output_type": "stream",
     "text": [
      "\n",
      "\r",
      "  0%|          | 0/1 [00:00<?, ?it/s]"
     ]
    },
    {
     "name": "stdout",
     "output_type": "stream",
     "text": [
      "\r",
      "Upgrading database; v6 -> v7:   0%|          | 0/1 [00:00<?, ?it/s]"
     ]
    },
    {
     "name": "stdout",
     "output_type": "stream",
     "text": [
      "\r",
      "Upgrading database; v6 -> v7: 100%|██████████| 1/1 [00:00<00:00, 453.24it/s]"
     ]
    },
    {
     "name": "stdout",
     "output_type": "stream",
     "text": [
      "\n",
      "\r",
      "  0%|          | 0/1 [00:00<?, ?it/s]"
     ]
    },
    {
     "name": "stdout",
     "output_type": "stream",
     "text": [
      "\r",
      "Upgrading database; v7 -> v8:   0%|          | 0/1 [00:00<?, ?it/s]"
     ]
    },
    {
     "name": "stdout",
     "output_type": "stream",
     "text": [
      "\r",
      "Upgrading database; v7 -> v8: 100%|██████████| 1/1 [00:00<00:00, 781.79it/s]"
     ]
    },
    {
     "name": "stdout",
     "output_type": "stream",
     "text": [
      "\n",
      "\r",
      "  0%|          | 0/1 [00:00<?, ?it/s]"
     ]
    },
    {
     "name": "stdout",
     "output_type": "stream",
     "text": [
      "\r",
      "Upgrading database; v8 -> v9:   0%|          | 0/1 [00:00<?, ?it/s]"
     ]
    },
    {
     "name": "stdout",
     "output_type": "stream",
     "text": [
      "\r",
      "Upgrading database; v8 -> v9: 100%|██████████| 1/1 [00:00<00:00, 933.31it/s]"
     ]
    },
    {
     "name": "stdout",
     "output_type": "stream",
     "text": [
      "\n"
     ]
    },
    {
     "data": {
      "text/plain": [
       "tutorial_ParameterWithSetpoints#no sample#1@/home/vsts/work/1/s/docs/examples/Parameters/tutorial_paramter_with_setpoints.db\n",
       "----------------------------------------------------------------------------------------------------------------------------"
      ]
     },
     "execution_count": 6,
     "metadata": {},
     "output_type": "execute_result"
    }
   ],
   "source": [
    "tutorial_db_path = os.path.join(os.getcwd(), 'tutorial_paramter_with_setpoints.db')\n",
    "initialise_or_create_database_at(tutorial_db_path)\n",
    "load_or_create_experiment(experiment_name='tutorial_ParameterWithSetpoints', sample_name=\"no sample\")"
   ]
  },
  {
   "cell_type": "code",
   "execution_count": 7,
   "metadata": {},
   "outputs": [],
   "source": [
    "a = DummySpectrumAnalyzer('foobar')"
   ]
  },
  {
   "cell_type": "markdown",
   "metadata": {},
   "source": [
    "First we setup the limits of the spectrum"
   ]
  },
  {
   "cell_type": "code",
   "execution_count": 8,
   "metadata": {},
   "outputs": [],
   "source": [
    "a.f_start(0)\n",
    "a.f_stop(500)\n",
    "a.n_points(501)"
   ]
  },
  {
   "cell_type": "markdown",
   "metadata": {},
   "source": [
    "And we can grab the frequency axis"
   ]
  },
  {
   "cell_type": "code",
   "execution_count": 9,
   "metadata": {},
   "outputs": [
    {
     "data": {
      "text/plain": [
       "501"
      ]
     },
     "execution_count": 9,
     "metadata": {},
     "output_type": "execute_result"
    }
   ],
   "source": [
    "a.n_points()"
   ]
  },
  {
   "cell_type": "code",
   "execution_count": 10,
   "metadata": {
    "scrolled": false
   },
   "outputs": [
    {
     "data": {
      "text/plain": [
       "501"
      ]
     },
     "execution_count": 10,
     "metadata": {},
     "output_type": "execute_result"
    }
   ],
   "source": [
    "freq_axis = a.freq_axis()\n",
    "len(freq_axis)"
   ]
  },
  {
   "cell_type": "code",
   "execution_count": 11,
   "metadata": {},
   "outputs": [
    {
     "data": {
      "text/plain": [
       "array([0., 1., 2., 3., 4., 5., 6., 7., 8., 9.])"
      ]
     },
     "execution_count": 11,
     "metadata": {},
     "output_type": "execute_result"
    }
   ],
   "source": [
    "freq_axis[:10]"
   ]
  },
  {
   "cell_type": "markdown",
   "metadata": {},
   "source": [
    "As expected we get a result wit 501 points as we asked for an axis with 501 points. "
   ]
  },
  {
   "cell_type": "markdown",
   "metadata": {},
   "source": [
    "Above we have added a validator to the `freq_axis` parameter encoding the fact that this is an Array with `n_points`. Note that we do not have to supply the number of points as an integer but can supply a function that returns the valid number of points. This would normally be a QCoDeS parameter.\n",
    "\n",
    "This will be checked if we validate the output."
   ]
  },
  {
   "cell_type": "code",
   "execution_count": 12,
   "metadata": {},
   "outputs": [],
   "source": [
    "a.freq_axis.validate(a.freq_axis.get())"
   ]
  },
  {
   "cell_type": "markdown",
   "metadata": {},
   "source": [
    "Naturally, we can also get the spectrum. Getting the spectrum will automatically perform validation both for the shape of the parameter itself and the relation to the setpoint parameter(s)"
   ]
  },
  {
   "cell_type": "code",
   "execution_count": 13,
   "metadata": {
    "scrolled": true
   },
   "outputs": [
    {
     "data": {
      "text/plain": [
       "501"
      ]
     },
     "execution_count": 13,
     "metadata": {},
     "output_type": "execute_result"
    }
   ],
   "source": [
    "spectrum = a.spectrum.get()\n",
    "len(spectrum)"
   ]
  },
  {
   "cell_type": "markdown",
   "metadata": {},
   "source": [
    "When we validate a `ParameterWithSetpoints`, we automatically validate that the shape is consistent between the parameters and its setpoints. As well as validating the shape as above."
   ]
  },
  {
   "cell_type": "code",
   "execution_count": 14,
   "metadata": {},
   "outputs": [],
   "source": [
    "a.spectrum.validate(a.spectrum.get())"
   ]
  },
  {
   "cell_type": "markdown",
   "metadata": {},
   "source": [
    "The consistent shapes can be validated explicitly."
   ]
  },
  {
   "cell_type": "code",
   "execution_count": 15,
   "metadata": {},
   "outputs": [],
   "source": [
    "a.spectrum.validate_consistent_shape()"
   ]
  },
  {
   "cell_type": "markdown",
   "metadata": {},
   "source": [
    "We can inspect the setpoints of the spectrum."
   ]
  },
  {
   "cell_type": "code",
   "execution_count": 16,
   "metadata": {},
   "outputs": [
    {
     "data": {
      "text/plain": [
       "(<__main__.GeneratedSetPoints: freq_axis at 140142925078928>,)"
      ]
     },
     "execution_count": 16,
     "metadata": {},
     "output_type": "execute_result"
    }
   ],
   "source": [
    "a.spectrum.setpoints"
   ]
  },
  {
   "cell_type": "markdown",
   "metadata": {},
   "source": [
    "Or even change them."
   ]
  },
  {
   "cell_type": "code",
   "execution_count": 17,
   "metadata": {},
   "outputs": [],
   "source": [
    "a.spectrum.setpoints = (a.freq_axis,)"
   ]
  },
  {
   "cell_type": "markdown",
   "metadata": {},
   "source": [
    "## Measurement"
   ]
  },
  {
   "cell_type": "markdown",
   "metadata": {},
   "source": [
    "We can also directly consume the parameter in a measurement without defining the setpoints of the parameter again. The setpoints are automatically obtained from the definition of the `ParameterWithSetpoint` instance. "
   ]
  },
  {
   "cell_type": "code",
   "execution_count": 18,
   "metadata": {},
   "outputs": [
    {
     "name": "stdout",
     "output_type": "stream",
     "text": [
      "Starting experimental run with id: 1. \n"
     ]
    }
   ],
   "source": [
    "meas = Measurement()\n",
    "meas.register_parameter(a.spectrum)\n",
    "\n",
    "with meas.run() as datasaver:\n",
    "    datasaver.add_result((a.freq_axis, a.freq_axis()),\n",
    "                         (a.spectrum, a.spectrum()))\n",
    "    dataset = datasaver.dataset"
   ]
  },
  {
   "cell_type": "markdown",
   "metadata": {},
   "source": [
    "And plot it"
   ]
  },
  {
   "cell_type": "code",
   "execution_count": 19,
   "metadata": {},
   "outputs": [
    {
     "data": {
      "text/plain": [
       "([<matplotlib.axes._subplots.AxesSubplot at 0x7f7590440f50>], [None])"
      ]
     },
     "execution_count": 19,
     "metadata": {},
     "output_type": "execute_result"
    },
    {
     "data": {
      "image/png": "[encoded data removed]",
      "text/plain": [
       "<Figure size 432x288 with 1 Axes>"
      ]
     },
     "metadata": {
      "needs_background": "light"
     },
     "output_type": "display_data"
    }
   ],
   "source": [
    "plot_dataset(dataset)"
   ]
  },
  {
   "cell_type": "markdown",
   "metadata": {},
   "source": [
    "To reduce the amount of typing a simple convenience function is provided that will take a `ParameterWithSetpoints` and get both its values and the setpoints values and return them as tuples for direct insertion into the Dataset."
   ]
  },
  {
   "cell_type": "code",
   "execution_count": 20,
   "metadata": {
    "scrolled": true
   },
   "outputs": [
    {
     "data": {
      "text/plain": [
       "[(<__main__.GeneratedSetPoints: freq_axis at 140142925078928>,\n",
       "  array([  0.,   1.,   2.,   3.,   4.,   5.,   6.,   7.,   8.,   9.,  10.,\n",
       "          11.,  12.,  13.,  14.,  15.,  16.,  17.,  18.,  19.,  20.,  21.,\n",
       "          22.,  23.,  24.,  25.,  26.,  27.,  28.,  29.,  30.,  31.,  32.,\n",
       "          33.,  34.,  35.,  36.,  37.,  38.,  39.,  40.,  41.,  42.,  43.,\n",
       "          44.,  45.,  46.,  47.,  48.,  49.,  50.,  51.,  52.,  53.,  54.,\n",
       "          55.,  56.,  57.,  58.,  59.,  60.,  61.,  62.,  63.,  64.,  65.,\n",
       "          66.,  67.,  68.,  69.,  70.,  71.,  72.,  73.,  74.,  75.,  76.,\n",
       "          77.,  78.,  79.,  80.,  81.,  82.,  83.,  84.,  85.,  86.,  87.,\n",
       "          88.,  89.,  90.,  91.,  92.,  93.,  94.,  95.,  96.,  97.,  98.,\n",
       "          99., 100., 101., 102., 103., 104., 105., 106., 107., 108., 109.,\n",
       "         110., 111., 112., 113., 114., 115., 116., 117., 118., 119., 120.,\n",
       "         121., 122., 123., 124., 125., 126., 127., 128., 129., 130., 131.,\n",
       "         132., 133., 134., 135., 136., 137., 138., 139., 140., 141., 142.,\n",
       "         143., 144., 145., 146., 147., 148., 149., 150., 151., 152., 153.,\n",
       "         154., 155., 156., 157., 158., 159., 160., 161., 162., 163., 164.,\n",
       "         165., 166., 167., 168., 169., 170., 171., 172., 173., 174., 175.,\n",
       "         176., 177., 178., 179., 180., 181., 182., 183., 184., 185., 186.,\n",
       "         187., 188., 189., 190., 191., 192., 193., 194., 195., 196., 197.,\n",
       "         198., 199., 200., 201., 202., 203., 204., 205., 206., 207., 208.,\n",
       "         209., 210., 211., 212., 213., 214., 215., 216., 217., 218., 219.,\n",
       "         220., 221., 222., 223., 224., 225., 226., 227., 228., 229., 230.,\n",
       "         231., 232., 233., 234., 235., 236., 237., 238., 239., 240., 241.,\n",
       "         242., 243., 244., 245., 246., 247., 248., 249., 250., 251., 252.,\n",
       "         253., 254., 255., 256., 257., 258., 259., 260., 261., 262., 263.,\n",
       "         264., 265., 266., 267., 268., 269., 270., 271., 272., 273., 274.,\n",
       "         275., 276., 277., 278., 279., 280., 281., 282., 283., 284., 285.,\n",
       "         286., 287., 288., 289., 290., 291., 292., 293., 294., 295., 296.,\n",
       "         297., 298., 299., 300., 301., 302., 303., 304., 305., 306., 307.,\n",
       "         308., 309., 310., 311., 312., 313., 314., 315., 316., 317., 318.,\n",
       "         319., 320., 321., 322., 323., 324., 325., 326., 327., 328., 329.,\n",
       "         330., 331., 332., 333., 334., 335., 336., 337., 338., 339., 340.,\n",
       "         341., 342., 343., 344., 345., 346., 347., 348., 349., 350., 351.,\n",
       "         352., 353., 354., 355., 356., 357., 358., 359., 360., 361., 362.,\n",
       "         363., 364., 365., 366., 367., 368., 369., 370., 371., 372., 373.,\n",
       "         374., 375., 376., 377., 378., 379., 380., 381., 382., 383., 384.,\n",
       "         385., 386., 387., 388., 389., 390., 391., 392., 393., 394., 395.,\n",
       "         396., 397., 398., 399., 400., 401., 402., 403., 404., 405., 406.,\n",
       "         407., 408., 409., 410., 411., 412., 413., 414., 415., 416., 417.,\n",
       "         418., 419., 420., 421., 422., 423., 424., 425., 426., 427., 428.,\n",
       "         429., 430., 431., 432., 433., 434., 435., 436., 437., 438., 439.,\n",
       "         440., 441., 442., 443., 444., 445., 446., 447., 448., 449., 450.,\n",
       "         451., 452., 453., 454., 455., 456., 457., 458., 459., 460., 461.,\n",
       "         462., 463., 464., 465., 466., 467., 468., 469., 470., 471., 472.,\n",
       "         473., 474., 475., 476., 477., 478., 479., 480., 481., 482., 483.,\n",
       "         484., 485., 486., 487., 488., 489., 490., 491., 492., 493., 494.,\n",
       "         495., 496., 497., 498., 499., 500.])),\n",
       " (<__main__.DummyArray: spectrum at 140142921417488>,\n",
       "  array([9.16569736e-01, 6.04712866e-01, 8.56457430e-01, 1.01233930e-01,\n",
       "         7.10218362e-01, 8.46675711e-01, 5.74294592e-01, 5.19268781e-01,\n",
       "         4.01260554e-01, 7.66534770e-01, 8.17853762e-01, 2.71867528e-01,\n",
       "         4.12192376e-01, 4.69730926e-01, 2.39960690e-01, 3.77791940e-01,\n",
       "         5.43918108e-01, 8.52861070e-01, 2.48288166e-01, 5.47378175e-01,\n",
       "         7.20257711e-01, 6.61743326e-01, 2.35951395e-02, 3.22830016e-01,\n",
       "         6.51581091e-01, 7.75721676e-01, 1.75898207e-01, 7.05063898e-01,\n",
       "         6.25134127e-01, 4.74767117e-01, 4.38498209e-01, 8.36963064e-01,\n",
       "         6.69042684e-02, 5.59214067e-01, 8.30929202e-02, 7.78926229e-01,\n",
       "         5.88133549e-01, 6.63360880e-01, 2.50741982e-01, 1.00014607e-01,\n",
       "         4.77729837e-01, 1.59442479e-01, 6.65981273e-02, 6.81942802e-01,\n",
       "         5.44914528e-01, 6.14063651e-01, 8.16957635e-01, 6.55352598e-01,\n",
       "         2.44986552e-01, 5.51874455e-01, 1.79685426e-01, 5.73767714e-02,\n",
       "         6.61517074e-01, 8.34857930e-01, 8.60192511e-01, 8.98931069e-01,\n",
       "         8.32468354e-01, 7.30984465e-03, 4.24270102e-01, 7.92111712e-01,\n",
       "         8.78326714e-01, 4.61427224e-01, 9.68604822e-01, 2.15037683e-01,\n",
       "         8.85944215e-01, 2.13341497e-01, 8.17076905e-01, 2.88866266e-01,\n",
       "         7.08348155e-01, 9.63039265e-01, 3.88840534e-01, 1.15765331e-01,\n",
       "         8.07250367e-01, 5.46751575e-01, 7.38637809e-01, 2.39711234e-01,\n",
       "         3.28725208e-01, 1.21870165e-01, 1.54928017e-01, 8.86661758e-01,\n",
       "         6.98676631e-01, 4.19273872e-01, 6.34601900e-01, 6.08470901e-01,\n",
       "         9.05992774e-01, 6.94546535e-01, 8.13468801e-01, 6.31055993e-02,\n",
       "         3.34033749e-01, 3.42327752e-01, 3.09827108e-01, 9.66436997e-01,\n",
       "         2.60380956e-01, 3.69653050e-01, 8.60487154e-01, 3.15542617e-01,\n",
       "         9.18093222e-01, 8.26129349e-01, 8.35227416e-01, 1.85525833e-01,\n",
       "         3.91850280e-01, 3.24583889e-01, 4.76965873e-01, 8.58434386e-01,\n",
       "         6.92013849e-01, 4.69778458e-01, 4.32699911e-01, 5.67254237e-01,\n",
       "         9.86909015e-01, 4.31355080e-01, 7.71993471e-01, 3.48648392e-01,\n",
       "         1.36001912e-01, 1.36159287e-01, 9.83187140e-02, 9.10178440e-01,\n",
       "         3.68154746e-01, 3.76775823e-02, 8.72444968e-01, 9.15535303e-01,\n",
       "         8.86591379e-01, 3.91541872e-01, 8.96263403e-01, 1.05507132e-01,\n",
       "         6.27743307e-01, 6.21549962e-01, 9.22557493e-01, 2.30916994e-01,\n",
       "         6.05939162e-01, 2.52410896e-01, 3.88959103e-01, 2.02372221e-02,\n",
       "         3.91809821e-01, 9.28601168e-01, 5.33453423e-01, 5.00551593e-01,\n",
       "         1.78836680e-01, 3.70196640e-02, 2.65830676e-01, 8.17901084e-01,\n",
       "         7.33255125e-02, 8.43674622e-01, 6.78783004e-01, 1.07087527e-01,\n",
       "         4.82945983e-01, 1.12475997e-01, 8.99480307e-01, 3.35818635e-01,\n",
       "         2.04569929e-01, 8.95222632e-01, 4.60072241e-01, 1.42943656e-01,\n",
       "         7.31452546e-01, 3.54086523e-01, 6.27729435e-02, 6.18923837e-01,\n",
       "         7.56854397e-01, 4.03332695e-01, 9.86079810e-01, 7.33083886e-01,\n",
       "         5.71414580e-02, 2.56618505e-01, 2.69189679e-01, 4.57605456e-01,\n",
       "         4.63944004e-01, 7.28567635e-01, 7.22989652e-02, 4.33993909e-01,\n",
       "         1.76811284e-01, 7.53559159e-01, 9.90609961e-02, 1.73177890e-01,\n",
       "         4.46945934e-01, 4.34036655e-01, 2.85685591e-01, 4.11938196e-01,\n",
       "         8.93637521e-02, 2.28711884e-01, 1.16510052e-01, 6.50526568e-01,\n",
       "         6.94602348e-01, 3.79220681e-01, 9.18556625e-01, 9.67630685e-01,\n",
       "         9.21793557e-01, 1.11996516e-01, 6.62582151e-01, 1.35410765e-01,\n",
       "         9.21162449e-01, 3.35224052e-01, 1.72246128e-01, 9.56140399e-01,\n",
       "         5.06164154e-01, 6.84167690e-01, 6.24135304e-01, 3.38721368e-01,\n",
       "         2.98360029e-02, 3.73449020e-01, 2.25807398e-01, 8.53052689e-01,\n",
       "         3.52124071e-02, 6.61678956e-01, 9.47237937e-01, 4.75451986e-01,\n",
       "         2.80551370e-01, 7.29952592e-01, 8.18292969e-01, 3.45743165e-01,\n",
       "         8.62665617e-01, 4.78971048e-01, 6.71698853e-01, 4.61258252e-01,\n",
       "         6.60382709e-01, 9.39158633e-02, 8.98436543e-01, 3.69969388e-01,\n",
       "         3.88142473e-01, 2.71374134e-01, 8.17355183e-02, 1.16591512e-01,\n",
       "         9.58690354e-01, 2.15700529e-01, 3.06259563e-01, 1.53372681e-01,\n",
       "         2.96049542e-02, 5.71292509e-01, 5.13178998e-01, 8.92030007e-01,\n",
       "         3.28682394e-01, 7.22865905e-01, 1.82715199e-01, 2.75054475e-01,\n",
       "         7.24214033e-01, 7.16349576e-01, 6.92438726e-01, 5.27756914e-01,\n",
       "         7.82959226e-01, 6.33406253e-01, 4.85028280e-01, 8.65825784e-01,\n",
       "         5.35299965e-01, 6.70370100e-01, 2.08184592e-01, 7.81097901e-01,\n",
       "         8.05721848e-01, 2.22474558e-01, 5.56323158e-01, 8.39756616e-01,\n",
       "         8.97408060e-01, 4.51603391e-01, 6.35691870e-01, 7.40014931e-01,\n",
       "         3.24103909e-01, 9.94547748e-01, 7.46751935e-01, 8.74537466e-01,\n",
       "         7.36670507e-02, 5.65692368e-02, 2.63687951e-01, 2.49262594e-01,\n",
       "         8.26853308e-01, 3.93040779e-01, 5.67858170e-01, 9.46179855e-01,\n",
       "         1.77010299e-01, 3.00728018e-04, 8.98475000e-01, 5.83009491e-01,\n",
       "         7.69064030e-01, 2.74583778e-01, 7.98132488e-01, 6.44760299e-02,\n",
       "         3.80602989e-01, 2.02024937e-01, 3.42822568e-01, 3.50473246e-01,\n",
       "         5.73743804e-01, 7.11956790e-01, 1.02077305e-01, 3.62624776e-01,\n",
       "         7.58750303e-01, 2.91110734e-01, 4.62894363e-01, 8.19345367e-01,\n",
       "         8.02204298e-02, 8.14009494e-01, 1.38607171e-01, 8.17150084e-02,\n",
       "         3.25702442e-01, 1.00040716e-01, 1.65293281e-01, 2.32214687e-01,\n",
       "         1.94220576e-01, 2.17572151e-01, 8.94027213e-01, 2.96191229e-01,\n",
       "         5.03373489e-02, 7.35849577e-01, 6.35861387e-01, 2.02647000e-01,\n",
       "         2.23977690e-01, 7.35843695e-01, 3.01792701e-01, 8.40474293e-01,\n",
       "         3.57507363e-01, 3.64410330e-01, 9.34944754e-01, 2.17499811e-01,\n",
       "         9.56303905e-01, 5.32270368e-01, 9.20110098e-01, 4.60390063e-01,\n",
       "         3.75015788e-01, 3.09514611e-01, 4.84655229e-01, 2.83744837e-01,\n",
       "         3.89596529e-01, 9.44205114e-01, 2.73550780e-01, 7.09791357e-01,\n",
       "         9.58749203e-01, 7.35753372e-01, 2.56446024e-01, 3.05418144e-01,\n",
       "         5.61150289e-01, 6.63393282e-01, 6.31606119e-01, 7.19749136e-01,\n",
       "         9.68884915e-01, 1.65881223e-01, 5.37165254e-01, 3.11935716e-01,\n",
       "         3.19301545e-02, 8.35024433e-01, 9.25005657e-01, 6.19607479e-01,\n",
       "         5.79614820e-01, 2.86043280e-01, 3.75293753e-01, 1.81129008e-01,\n",
       "         5.38877411e-01, 3.50243088e-01, 4.84606586e-01, 8.50137038e-01,\n",
       "         2.15920110e-01, 9.41330992e-02, 1.22141080e-01, 1.02680317e-01,\n",
       "         1.19072975e-01, 5.26780187e-01, 5.46075200e-01, 7.76743633e-01,\n",
       "         4.26337215e-01, 7.26887801e-01, 1.34689598e-01, 3.44349458e-01,\n",
       "         3.94127564e-01, 2.42004639e-01, 4.61371523e-01, 2.50085935e-01,\n",
       "         5.80111560e-02, 2.71781802e-01, 2.33721592e-01, 4.23288975e-01,\n",
       "         5.26269292e-01, 1.57316138e-01, 3.01119418e-01, 4.89130155e-01,\n",
       "         1.33246540e-01, 2.56413052e-01, 9.13408428e-01, 7.03920680e-02,\n",
       "         9.05614570e-01, 7.94740365e-01, 7.14453686e-01, 8.77786728e-02,\n",
       "         2.12883058e-01, 4.42845603e-01, 2.16752138e-01, 1.78660453e-01,\n",
       "         1.59512050e-01, 5.14600209e-01, 8.53876138e-01, 3.40082387e-01,\n",
       "         6.87508295e-02, 5.37921027e-01, 5.02763407e-01, 7.08180198e-02,\n",
       "         3.77143137e-01, 3.43357425e-01, 3.22564854e-01, 9.68568389e-01,\n",
       "         3.52887245e-01, 2.22347074e-01, 2.10580623e-01, 6.61224732e-02,\n",
       "         3.23953140e-01, 1.90039041e-01, 2.97619094e-02, 2.46242612e-01,\n",
       "         8.70038591e-01, 2.20077759e-01, 4.28918847e-01, 6.30084001e-01,\n",
       "         1.45168195e-01, 7.08868262e-01, 3.01698977e-01, 2.69626832e-01,\n",
       "         5.54060170e-01, 1.77569882e-01, 5.63971740e-01, 8.90126103e-02,\n",
       "         1.28152241e-01, 2.14717491e-01, 9.38084603e-01, 1.01564847e-01,\n",
       "         2.61709136e-01, 6.25736831e-01, 6.08566535e-01, 3.12536515e-01,\n",
       "         9.44891148e-01, 3.12895412e-01, 4.47343228e-01, 6.01100753e-01,\n",
       "         9.05108614e-01, 4.81796899e-01, 3.88319281e-01, 7.84882248e-01,\n",
       "         5.70623172e-02, 8.33511668e-01, 2.50364833e-01, 8.46450833e-01,\n",
       "         1.59446934e-01, 8.84076412e-01, 4.09184527e-01, 9.31086761e-01,\n",
       "         2.52643240e-01, 5.04089146e-01, 4.08897121e-01, 1.49942180e-01,\n",
       "         4.25217003e-01, 9.50349561e-01, 7.22808373e-01, 8.78367212e-01,\n",
       "         2.67531689e-01, 5.96141236e-01, 4.68510621e-01, 4.68961559e-01,\n",
       "         4.04430994e-01, 8.20575849e-01, 4.22890524e-01, 3.30735329e-02,\n",
       "         8.13740420e-01, 3.03978574e-01, 8.85553120e-01, 2.19526706e-02,\n",
       "         7.07055307e-01, 3.81126635e-01, 8.06651041e-01, 2.13864828e-01,\n",
       "         5.09235043e-01, 7.89391008e-01, 4.88001147e-01, 5.98706438e-01,\n",
       "         3.99613821e-01, 1.53444656e-01, 4.39134741e-01, 4.94781356e-01,\n",
       "         8.22239268e-03, 1.30684784e-01, 8.34710430e-01, 9.85698180e-01,\n",
       "         4.83497784e-01, 5.79994727e-01, 1.74733578e-01, 2.16370525e-01,\n",
       "         2.50664749e-01, 8.80474575e-01, 7.75989345e-01, 3.35736437e-01,\n",
       "         4.93118428e-01, 3.76841596e-01, 8.29218754e-01, 7.22375280e-01,\n",
       "         4.76932351e-01, 5.42168557e-01, 2.32622069e-01, 4.66956040e-01,\n",
       "         3.62920194e-01, 2.22093205e-02, 5.70158627e-01, 1.46895520e-01,\n",
       "         4.43347609e-01, 1.72195758e-01, 4.07294563e-01, 7.28033208e-01,\n",
       "         9.26690985e-01, 9.35226832e-01, 3.30795062e-01, 5.73857609e-01,\n",
       "         3.41500075e-01]))]"
      ]
     },
     "execution_count": 20,
     "metadata": {},
     "output_type": "execute_result"
    }
   ],
   "source": [
    "expand_setpoints_helper(a.spectrum)"
   ]
  },
  {
   "cell_type": "code",
   "execution_count": 21,
   "metadata": {},
   "outputs": [
    {
     "name": "stdout",
     "output_type": "stream",
     "text": [
      "Starting experimental run with id: 2. \n"
     ]
    }
   ],
   "source": [
    "meas = Measurement()\n",
    "meas.register_parameter(a.spectrum)\n",
    "\n",
    "with meas.run() as datasaver:\n",
    "    datasaver.add_result(*expand_setpoints_helper(a.spectrum))\n",
    "    \n",
    "    dataid = datasaver.run_id"
   ]
  },
  {
   "cell_type": "code",
   "execution_count": null,
   "metadata": {},
   "outputs": [],
   "source": []
  }
 ],
 "metadata": {
  "kernelspec": {
   "display_name": "Python 3",
   "language": "python",
   "name": "python3"
  },
  "language_info": {
   "codemirror_mode": {
    "name": "ipython",
    "version": 3
   },
   "file_extension": ".py",
   "mimetype": "text/x-python",
   "name": "python",
   "nbconvert_exporter": "python",
   "pygments_lexer": "ipython3",
   "version": "3.7.7"
  },
  "toc": {
   "base_numbering": 1,
   "nav_menu": {},
   "number_sections": true,
   "sideBar": true,
   "skip_h1_title": false,
   "title_cell": "Table of Contents",
   "title_sidebar": "Contents",
   "toc_cell": false,
   "toc_position": {},
   "toc_section_display": true,
   "toc_window_display": false
  },
  "varInspector": {
   "cols": {
    "lenName": 16,
    "lenType": 16,
    "lenVar": 40
   },
   "kernels_config": {
    "python": {
     "delete_cmd_postfix": "",
     "delete_cmd_prefix": "del ",
     "library": "var_list.py",
     "varRefreshCmd": "print(var_dic_list())"
    },
    "r": {
     "delete_cmd_postfix": ") ",
     "delete_cmd_prefix": "rm(",
     "library": "var_list.r",
     "varRefreshCmd": "cat(var_dic_list()) "
    }
   },
   "types_to_exclude": [
    "module",
    "function",
    "builtin_function_or_method",
    "instance",
    "_Feature"
   ],
   "window_display": false
  }
 },
 "nbformat": 4,
 "nbformat_minor": 2
}
