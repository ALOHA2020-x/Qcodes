{
 "cells": [
  {
   "cell_type": "markdown",
   "metadata": {},
   "source": [
    "# Simple Example of ParameterWithSetpoints\n",
    "This notebook provides an example for writing a simple driver with a parameter that has setpoints. Let's name this parameter that has setpoints as \"y\". Then, the setpoints, say \"x1, x2, x3 ..\", are the parameters on which the parameter \n",
    "\"y\" depends upon. Meaning \"y\" is a function of \"x1, x2, x3 ...\" where \"x1, x2, x3 ...\" are known as the setpoints of parameter \"y\".\n",
    "\n",
    "This is most likely to be useful for instruments that return arrays of results. In this notebook, we will show an example of this."
   ]
  },
  {
   "cell_type": "code",
   "execution_count": 1,
   "metadata": {},
   "outputs": [],
   "source": [
    "import numpy as np\n",
    "import os"
   ]
  },
  {
   "cell_type": "code",
   "execution_count": 2,
   "metadata": {},
   "outputs": [
    {
     "name": "stdout",
     "output_type": "stream",
     "text": [
      "Logging hadn't been started.\n",
      "Activating auto-logging. Current session state plus future input saved.\n",
      "Filename       : /home/vsts/.qcodes/logs/command_history.log\n",
      "Mode           : append\n",
      "Output logging : True\n",
      "Raw input log  : False\n",
      "Timestamping   : True\n",
      "State          : active\n"
     ]
    },
    {
     "name": "stdout",
     "output_type": "stream",
     "text": [
      "Qcodes Logfile : /home/vsts/.qcodes/logs/200518-22374-qcodes.log\n"
     ]
    }
   ],
   "source": [
    "from qcodes.dataset.plotting import plot_dataset\n",
    "from qcodes.utils.validators import Numbers, Arrays\n",
    "from qcodes.instrument.base import Instrument\n",
    "from qcodes.dataset.measurements import Measurement"
   ]
  },
  {
   "cell_type": "code",
   "execution_count": 3,
   "metadata": {},
   "outputs": [],
   "source": [
    "from qcodes.dataset.sqlite.database import initialise_or_create_database_at\n",
    "from qcodes.dataset.experiment_container import load_or_create_experiment"
   ]
  },
  {
   "cell_type": "code",
   "execution_count": 4,
   "metadata": {},
   "outputs": [],
   "source": [
    "from qcodes.instrument.parameter import ParameterWithSetpoints, Parameter\n",
    "from qcodes.instrument.parameter import expand_setpoints_helper"
   ]
  },
  {
   "cell_type": "markdown",
   "metadata": {},
   "source": [
    "First, we define a dummy instrument that returns something like a frequency spectrum starting from a frequency given by `f_start` to a frequency given by `f_stop` in `n_points` steps. \n",
    "\n",
    "The extra functionality of the `ParameterWithSetpoints` is implemented by giving it a reference to one or more parameters that acts like its setpoints. \n",
    "\n",
    "To setup a `ParameterWithSetpoints` we have to do two things in addition to what we do for a normal parameter.\n",
    "\n",
    "* Define one or more parameter for the setpoints (one for each dimension of the array and let the `ParameterWithSetpoints` know that these are the setpoints.\n",
    "* Give both the setpoints parameter(s) and the `ParameterWithSetpoints` a `validator` of type `Arrays` with a shape. The shapes should be such that the combined shape of the setpoints matches the shape of the `ParameterWithSetpoints`. Note that if the shape changes with the setting of the instrument, it can be defined by another parameter as shown below. "
   ]
  },
  {
   "cell_type": "code",
   "execution_count": 5,
   "metadata": {},
   "outputs": [],
   "source": [
    "class GeneratedSetPoints(Parameter):\n",
    "    \"\"\"\n",
    "    A parameter that generates a setpoint array from start, stop and num points\n",
    "    parameters.\n",
    "    \"\"\"\n",
    "    def __init__(self, startparam, stopparam, numpointsparam, *args, **kwargs):\n",
    "        super().__init__(*args, **kwargs)\n",
    "        self._startparam = startparam\n",
    "        self._stopparam = stopparam\n",
    "        self._numpointsparam = numpointsparam\n",
    "\n",
    "    def get_raw(self):\n",
    "        return np.linspace(self._startparam(), self._stopparam(),\n",
    "                              self._numpointsparam())\n",
    "\n",
    "class DummyArray(ParameterWithSetpoints):\n",
    "    \n",
    "    def get_raw(self):\n",
    "        npoints = self.root_instrument.n_points.get_latest()\n",
    "        return np.random.rand(npoints)\n",
    "    \n",
    "\n",
    "class DummySpectrumAnalyzer(Instrument):\n",
    "    \n",
    "    def __init__(self, name, **kwargs):\n",
    "        \n",
    "        super().__init__(name, **kwargs)\n",
    "            \n",
    "\n",
    "        self.add_parameter('f_start',\n",
    "                           initial_value=0,\n",
    "                           unit='Hz',\n",
    "                           label='f start',\n",
    "                           vals=Numbers(0,1e3),\n",
    "                           get_cmd=None,\n",
    "                           set_cmd=None)\n",
    "\n",
    "        self.add_parameter('f_stop',\n",
    "                           unit='Hz',\n",
    "                           label='f stop',\n",
    "                           vals=Numbers(1,1e3),\n",
    "                           get_cmd=None,\n",
    "                           set_cmd=None)\n",
    "\n",
    "        self.add_parameter('n_points',\n",
    "                           unit='',\n",
    "                           initial_value=10,\n",
    "                           vals=Numbers(1,1e3),\n",
    "                           get_cmd=None,\n",
    "                           set_cmd=None)\n",
    "        \n",
    "        self.add_parameter('freq_axis',\n",
    "                           unit='Hz',\n",
    "                           label='Freq Axis',\n",
    "                           parameter_class=GeneratedSetPoints,\n",
    "                           startparam=self.f_start,\n",
    "                           stopparam=self.f_stop,\n",
    "                           numpointsparam=self.n_points,\n",
    "                           vals=Arrays(shape=(self.n_points.get_latest,)))\n",
    "                           \n",
    "        self.add_parameter('spectrum',\n",
    "                   unit='dBm',\n",
    "                   setpoints=(self.freq_axis,),\n",
    "                   label='Spectrum',\n",
    "                   parameter_class=DummyArray,\n",
    "                   vals=Arrays(shape=(self.n_points.get_latest,)))\n",
    "                "
   ]
  },
  {
   "cell_type": "markdown",
   "metadata": {},
   "source": [
    "In the above example, the shape is defined by the parameter `n_points` that defines how many samples our `DummySpectrumAnalyzer` returns.\n",
    "\n",
    "This means that the validation will call the function to get `n_points` twice for each `get` of the parameter. This may be too slow, however, if you (as the driver-writer) can guarantee that the cached value for `n_points` will never be out of sync with the value stored in the instrument, `n_points` may be replaced by it's latest known value such that the `validator` reads:\n",
    "```python\n",
    "vals=Arrays(shape=(self.n_points.get_latest))\n",
    "```\n",
    "\n",
    "This avoids any additional call to the instrument. In the same way, the arguments to the `freq_axis` parameter that defines the start, stop and number of points can be replaced by their latest value if the instrument allows it.\n",
    "\n"
   ]
  },
  {
   "cell_type": "code",
   "execution_count": 6,
   "metadata": {},
   "outputs": [
    {
     "name": "stdout",
     "output_type": "stream",
     "text": [
      "\r",
      "0it [00:00, ?it/s]"
     ]
    },
    {
     "name": "stdout",
     "output_type": "stream",
     "text": [
      "\r",
      "Upgrading database; v0 -> v1: : 0it [00:00, ?it/s]"
     ]
    },
    {
     "name": "stdout",
     "output_type": "stream",
     "text": [
      "\r",
      "Upgrading database; v0 -> v1: : 0it [00:00, ?it/s]"
     ]
    },
    {
     "name": "stdout",
     "output_type": "stream",
     "text": [
      "\n",
      "\r",
      "  0%|          | 0/1 [00:00<?, ?it/s]"
     ]
    },
    {
     "name": "stdout",
     "output_type": "stream",
     "text": [
      "\r",
      "Upgrading database; v1 -> v2:   0%|          | 0/1 [00:00<?, ?it/s]"
     ]
    },
    {
     "name": "stdout",
     "output_type": "stream",
     "text": [
      "\r",
      "Upgrading database; v1 -> v2: 100%|██████████| 1/1 [00:00<00:00, 886.00it/s]"
     ]
    },
    {
     "name": "stdout",
     "output_type": "stream",
     "text": [
      "\n",
      "\r",
      "0it [00:00, ?it/s]"
     ]
    },
    {
     "name": "stdout",
     "output_type": "stream",
     "text": [
      "\r",
      "Upgrading database; v2 -> v3: : 0it [00:00, ?it/s]"
     ]
    },
    {
     "name": "stdout",
     "output_type": "stream",
     "text": [
      "\r",
      "Upgrading database; v2 -> v3: : 0it [00:00, ?it/s]"
     ]
    },
    {
     "name": "stdout",
     "output_type": "stream",
     "text": [
      "\n",
      "\r",
      "0it [00:00, ?it/s]"
     ]
    },
    {
     "name": "stdout",
     "output_type": "stream",
     "text": [
      "\r",
      "Upgrading database; v3 -> v4: : 0it [00:00, ?it/s]"
     ]
    },
    {
     "name": "stdout",
     "output_type": "stream",
     "text": [
      "\r",
      "Upgrading database; v3 -> v4: : 0it [00:00, ?it/s]"
     ]
    },
    {
     "name": "stdout",
     "output_type": "stream",
     "text": [
      "\n",
      "\r",
      "  0%|          | 0/1 [00:00<?, ?it/s]"
     ]
    },
    {
     "name": "stdout",
     "output_type": "stream",
     "text": [
      "\r",
      "Upgrading database; v4 -> v5:   0%|          | 0/1 [00:00<?, ?it/s]"
     ]
    },
    {
     "name": "stdout",
     "output_type": "stream",
     "text": [
      "\r",
      "Upgrading database; v4 -> v5: 100%|██████████| 1/1 [00:00<00:00, 831.05it/s]"
     ]
    },
    {
     "name": "stdout",
     "output_type": "stream",
     "text": [
      "\n",
      "\r",
      "0it [00:00, ?it/s]"
     ]
    },
    {
     "name": "stdout",
     "output_type": "stream",
     "text": [
      "\r",
      "Upgrading database; v5 -> v6: : 0it [00:00, ?it/s]"
     ]
    },
    {
     "name": "stdout",
     "output_type": "stream",
     "text": [
      "\r",
      "Upgrading database; v5 -> v6: : 0it [00:00, ?it/s]"
     ]
    },
    {
     "name": "stdout",
     "output_type": "stream",
     "text": [
      "\n",
      "\r",
      "  0%|          | 0/1 [00:00<?, ?it/s]"
     ]
    },
    {
     "name": "stdout",
     "output_type": "stream",
     "text": [
      "\r",
      "Upgrading database; v6 -> v7:   0%|          | 0/1 [00:00<?, ?it/s]"
     ]
    },
    {
     "name": "stdout",
     "output_type": "stream",
     "text": [
      "\r",
      "Upgrading database; v6 -> v7: 100%|██████████| 1/1 [00:00<00:00, 315.43it/s]"
     ]
    },
    {
     "name": "stdout",
     "output_type": "stream",
     "text": [
      "\n",
      "\r",
      "  0%|          | 0/1 [00:00<?, ?it/s]"
     ]
    },
    {
     "name": "stdout",
     "output_type": "stream",
     "text": [
      "\r",
      "Upgrading database; v7 -> v8:   0%|          | 0/1 [00:00<?, ?it/s]"
     ]
    },
    {
     "name": "stdout",
     "output_type": "stream",
     "text": [
      "\r",
      "Upgrading database; v7 -> v8: 100%|██████████| 1/1 [00:00<00:00, 753.29it/s]"
     ]
    },
    {
     "name": "stdout",
     "output_type": "stream",
     "text": [
      "\n",
      "\r",
      "  0%|          | 0/1 [00:00<?, ?it/s]"
     ]
    },
    {
     "name": "stdout",
     "output_type": "stream",
     "text": [
      "\r",
      "Upgrading database; v8 -> v9:   0%|          | 0/1 [00:00<?, ?it/s]"
     ]
    },
    {
     "name": "stdout",
     "output_type": "stream",
     "text": [
      "\r",
      "Upgrading database; v8 -> v9: 100%|██████████| 1/1 [00:00<00:00, 903.36it/s]"
     ]
    },
    {
     "name": "stdout",
     "output_type": "stream",
     "text": [
      "\n"
     ]
    },
    {
     "data": {
      "text/plain": [
       "tutorial_ParameterWithSetpoints#no sample#1@/home/vsts/work/1/s/docs/examples/Parameters/tutorial_paramter_with_setpoints.db\n",
       "----------------------------------------------------------------------------------------------------------------------------"
      ]
     },
     "execution_count": 6,
     "metadata": {},
     "output_type": "execute_result"
    }
   ],
   "source": [
    "tutorial_db_path = os.path.join(os.getcwd(), 'tutorial_paramter_with_setpoints.db')\n",
    "initialise_or_create_database_at(tutorial_db_path)\n",
    "load_or_create_experiment(experiment_name='tutorial_ParameterWithSetpoints', sample_name=\"no sample\")"
   ]
  },
  {
   "cell_type": "code",
   "execution_count": 7,
   "metadata": {},
   "outputs": [],
   "source": [
    "a = DummySpectrumAnalyzer('foobar')"
   ]
  },
  {
   "cell_type": "markdown",
   "metadata": {},
   "source": [
    "First we setup the limits of the spectrum"
   ]
  },
  {
   "cell_type": "code",
   "execution_count": 8,
   "metadata": {},
   "outputs": [],
   "source": [
    "a.f_start(0)\n",
    "a.f_stop(500)\n",
    "a.n_points(501)"
   ]
  },
  {
   "cell_type": "markdown",
   "metadata": {},
   "source": [
    "And we can grab the frequency axis"
   ]
  },
  {
   "cell_type": "code",
   "execution_count": 9,
   "metadata": {},
   "outputs": [
    {
     "data": {
      "text/plain": [
       "501"
      ]
     },
     "execution_count": 9,
     "metadata": {},
     "output_type": "execute_result"
    }
   ],
   "source": [
    "a.n_points()"
   ]
  },
  {
   "cell_type": "code",
   "execution_count": 10,
   "metadata": {
    "scrolled": false
   },
   "outputs": [
    {
     "data": {
      "text/plain": [
       "501"
      ]
     },
     "execution_count": 10,
     "metadata": {},
     "output_type": "execute_result"
    }
   ],
   "source": [
    "freq_axis = a.freq_axis()\n",
    "len(freq_axis)"
   ]
  },
  {
   "cell_type": "code",
   "execution_count": 11,
   "metadata": {},
   "outputs": [
    {
     "data": {
      "text/plain": [
       "array([0., 1., 2., 3., 4., 5., 6., 7., 8., 9.])"
      ]
     },
     "execution_count": 11,
     "metadata": {},
     "output_type": "execute_result"
    }
   ],
   "source": [
    "freq_axis[:10]"
   ]
  },
  {
   "cell_type": "markdown",
   "metadata": {},
   "source": [
    "As expected we get a result wit 501 points as we asked for an axis with 501 points. "
   ]
  },
  {
   "cell_type": "markdown",
   "metadata": {},
   "source": [
    "Above we have added a validator to the `freq_axis` parameter encoding the fact that this is an Array with `n_points`. Note that we do not have to supply the number of points as an integer but can supply a function that returns the valid number of points. This would normally be a QCoDeS parameter.\n",
    "\n",
    "This will be checked if we validate the output."
   ]
  },
  {
   "cell_type": "code",
   "execution_count": 12,
   "metadata": {},
   "outputs": [],
   "source": [
    "a.freq_axis.validate(a.freq_axis.get())"
   ]
  },
  {
   "cell_type": "markdown",
   "metadata": {},
   "source": [
    "Naturally, we can also get the spectrum. Getting the spectrum will automatically perform validation both for the shape of the parameter itself and the relation to the setpoint parameter(s)"
   ]
  },
  {
   "cell_type": "code",
   "execution_count": 13,
   "metadata": {
    "scrolled": true
   },
   "outputs": [
    {
     "data": {
      "text/plain": [
       "501"
      ]
     },
     "execution_count": 13,
     "metadata": {},
     "output_type": "execute_result"
    }
   ],
   "source": [
    "spectrum = a.spectrum.get()\n",
    "len(spectrum)"
   ]
  },
  {
   "cell_type": "markdown",
   "metadata": {},
   "source": [
    "When we validate a `ParameterWithSetpoints`, we automatically validate that the shape is consistent between the parameters and its setpoints. As well as validating the shape as above."
   ]
  },
  {
   "cell_type": "code",
   "execution_count": 14,
   "metadata": {},
   "outputs": [],
   "source": [
    "a.spectrum.validate(a.spectrum.get())"
   ]
  },
  {
   "cell_type": "markdown",
   "metadata": {},
   "source": [
    "The consistent shapes can be validated explicitly."
   ]
  },
  {
   "cell_type": "code",
   "execution_count": 15,
   "metadata": {},
   "outputs": [],
   "source": [
    "a.spectrum.validate_consistent_shape()"
   ]
  },
  {
   "cell_type": "markdown",
   "metadata": {},
   "source": [
    "We can inspect the setpoints of the spectrum."
   ]
  },
  {
   "cell_type": "code",
   "execution_count": 16,
   "metadata": {},
   "outputs": [
    {
     "data": {
      "text/plain": [
       "(<__main__.GeneratedSetPoints: freq_axis at 140700021032528>,)"
      ]
     },
     "execution_count": 16,
     "metadata": {},
     "output_type": "execute_result"
    }
   ],
   "source": [
    "a.spectrum.setpoints"
   ]
  },
  {
   "cell_type": "markdown",
   "metadata": {},
   "source": [
    "Or even change them."
   ]
  },
  {
   "cell_type": "code",
   "execution_count": 17,
   "metadata": {},
   "outputs": [],
   "source": [
    "a.spectrum.setpoints = (a.freq_axis,)"
   ]
  },
  {
   "cell_type": "markdown",
   "metadata": {},
   "source": [
    "## Measurement"
   ]
  },
  {
   "cell_type": "markdown",
   "metadata": {},
   "source": [
    "We can also directly consume the parameter in a measurement without defining the setpoints of the parameter again. The setpoints are automatically obtained from the definition of the `ParameterWithSetpoint` instance. "
   ]
  },
  {
   "cell_type": "code",
   "execution_count": 18,
   "metadata": {},
   "outputs": [
    {
     "name": "stdout",
     "output_type": "stream",
     "text": [
      "Starting experimental run with id: 1. \n"
     ]
    }
   ],
   "source": [
    "meas = Measurement()\n",
    "meas.register_parameter(a.spectrum)\n",
    "\n",
    "with meas.run() as datasaver:\n",
    "    datasaver.add_result((a.freq_axis, a.freq_axis()),\n",
    "                         (a.spectrum, a.spectrum()))\n",
    "    dataset = datasaver.dataset"
   ]
  },
  {
   "cell_type": "markdown",
   "metadata": {},
   "source": [
    "And plot it"
   ]
  },
  {
   "cell_type": "code",
   "execution_count": 19,
   "metadata": {},
   "outputs": [
    {
     "data": {
      "text/plain": [
       "([<matplotlib.axes._subplots.AxesSubplot at 0x7ff746c89190>], [None])"
      ]
     },
     "execution_count": 19,
     "metadata": {},
     "output_type": "execute_result"
    },
    {
     "data": {
      "image/png": "[encoded data removed]",
      "text/plain": [
       "<Figure size 432x288 with 1 Axes>"
      ]
     },
     "metadata": {
      "needs_background": "light"
     },
     "output_type": "display_data"
    }
   ],
   "source": [
    "plot_dataset(dataset)"
   ]
  },
  {
   "cell_type": "markdown",
   "metadata": {},
   "source": [
    "To reduce the amount of typing a simple convenience function is provided that will take a `ParameterWithSetpoints` and get both its values and the setpoints values and return them as tuples for direct insertion into the Dataset."
   ]
  },
  {
   "cell_type": "code",
   "execution_count": 20,
   "metadata": {
    "scrolled": true
   },
   "outputs": [
    {
     "data": {
      "text/plain": [
       "[(<__main__.GeneratedSetPoints: freq_axis at 140700021032528>,\n",
       "  array([  0.,   1.,   2.,   3.,   4.,   5.,   6.,   7.,   8.,   9.,  10.,\n",
       "          11.,  12.,  13.,  14.,  15.,  16.,  17.,  18.,  19.,  20.,  21.,\n",
       "          22.,  23.,  24.,  25.,  26.,  27.,  28.,  29.,  30.,  31.,  32.,\n",
       "          33.,  34.,  35.,  36.,  37.,  38.,  39.,  40.,  41.,  42.,  43.,\n",
       "          44.,  45.,  46.,  47.,  48.,  49.,  50.,  51.,  52.,  53.,  54.,\n",
       "          55.,  56.,  57.,  58.,  59.,  60.,  61.,  62.,  63.,  64.,  65.,\n",
       "          66.,  67.,  68.,  69.,  70.,  71.,  72.,  73.,  74.,  75.,  76.,\n",
       "          77.,  78.,  79.,  80.,  81.,  82.,  83.,  84.,  85.,  86.,  87.,\n",
       "          88.,  89.,  90.,  91.,  92.,  93.,  94.,  95.,  96.,  97.,  98.,\n",
       "          99., 100., 101., 102., 103., 104., 105., 106., 107., 108., 109.,\n",
       "         110., 111., 112., 113., 114., 115., 116., 117., 118., 119., 120.,\n",
       "         121., 122., 123., 124., 125., 126., 127., 128., 129., 130., 131.,\n",
       "         132., 133., 134., 135., 136., 137., 138., 139., 140., 141., 142.,\n",
       "         143., 144., 145., 146., 147., 148., 149., 150., 151., 152., 153.,\n",
       "         154., 155., 156., 157., 158., 159., 160., 161., 162., 163., 164.,\n",
       "         165., 166., 167., 168., 169., 170., 171., 172., 173., 174., 175.,\n",
       "         176., 177., 178., 179., 180., 181., 182., 183., 184., 185., 186.,\n",
       "         187., 188., 189., 190., 191., 192., 193., 194., 195., 196., 197.,\n",
       "         198., 199., 200., 201., 202., 203., 204., 205., 206., 207., 208.,\n",
       "         209., 210., 211., 212., 213., 214., 215., 216., 217., 218., 219.,\n",
       "         220., 221., 222., 223., 224., 225., 226., 227., 228., 229., 230.,\n",
       "         231., 232., 233., 234., 235., 236., 237., 238., 239., 240., 241.,\n",
       "         242., 243., 244., 245., 246., 247., 248., 249., 250., 251., 252.,\n",
       "         253., 254., 255., 256., 257., 258., 259., 260., 261., 262., 263.,\n",
       "         264., 265., 266., 267., 268., 269., 270., 271., 272., 273., 274.,\n",
       "         275., 276., 277., 278., 279., 280., 281., 282., 283., 284., 285.,\n",
       "         286., 287., 288., 289., 290., 291., 292., 293., 294., 295., 296.,\n",
       "         297., 298., 299., 300., 301., 302., 303., 304., 305., 306., 307.,\n",
       "         308., 309., 310., 311., 312., 313., 314., 315., 316., 317., 318.,\n",
       "         319., 320., 321., 322., 323., 324., 325., 326., 327., 328., 329.,\n",
       "         330., 331., 332., 333., 334., 335., 336., 337., 338., 339., 340.,\n",
       "         341., 342., 343., 344., 345., 346., 347., 348., 349., 350., 351.,\n",
       "         352., 353., 354., 355., 356., 357., 358., 359., 360., 361., 362.,\n",
       "         363., 364., 365., 366., 367., 368., 369., 370., 371., 372., 373.,\n",
       "         374., 375., 376., 377., 378., 379., 380., 381., 382., 383., 384.,\n",
       "         385., 386., 387., 388., 389., 390., 391., 392., 393., 394., 395.,\n",
       "         396., 397., 398., 399., 400., 401., 402., 403., 404., 405., 406.,\n",
       "         407., 408., 409., 410., 411., 412., 413., 414., 415., 416., 417.,\n",
       "         418., 419., 420., 421., 422., 423., 424., 425., 426., 427., 428.,\n",
       "         429., 430., 431., 432., 433., 434., 435., 436., 437., 438., 439.,\n",
       "         440., 441., 442., 443., 444., 445., 446., 447., 448., 449., 450.,\n",
       "         451., 452., 453., 454., 455., 456., 457., 458., 459., 460., 461.,\n",
       "         462., 463., 464., 465., 466., 467., 468., 469., 470., 471., 472.,\n",
       "         473., 474., 475., 476., 477., 478., 479., 480., 481., 482., 483.,\n",
       "         484., 485., 486., 487., 488., 489., 490., 491., 492., 493., 494.,\n",
       "         495., 496., 497., 498., 499., 500.])),\n",
       " (<__main__.DummyArray: spectrum at 140700021031440>,\n",
       "  array([6.66462025e-01, 9.65732897e-01, 4.00579030e-02, 6.93912343e-01,\n",
       "         7.29359270e-01, 2.15735483e-01, 3.76950294e-01, 1.53544779e-02,\n",
       "         4.41835080e-01, 8.97078352e-02, 3.10608309e-01, 7.37263338e-01,\n",
       "         5.60428883e-01, 4.62526601e-01, 7.44829557e-01, 4.47863973e-01,\n",
       "         1.38218467e-01, 2.03098940e-01, 7.19825064e-01, 9.59473192e-01,\n",
       "         6.17715111e-01, 2.94228271e-01, 8.41620312e-01, 6.64702742e-02,\n",
       "         1.05288858e-01, 6.23376515e-01, 4.61029194e-01, 8.81928421e-01,\n",
       "         8.92941148e-01, 1.89146169e-01, 3.92789830e-02, 5.12924635e-01,\n",
       "         1.53130753e-02, 6.35546259e-02, 1.65479028e-01, 7.66127961e-02,\n",
       "         7.81031019e-01, 2.30685871e-01, 7.27056162e-01, 8.53729084e-01,\n",
       "         9.99746358e-01, 4.64842498e-01, 9.24011301e-01, 1.58214264e-01,\n",
       "         6.77459767e-01, 2.95088306e-01, 6.91021021e-01, 5.26307886e-02,\n",
       "         9.11585768e-01, 2.57288078e-01, 1.47568378e-01, 5.45130927e-01,\n",
       "         9.74046563e-01, 2.72763648e-01, 8.80324676e-01, 5.53786853e-02,\n",
       "         1.35465591e-01, 8.51118594e-01, 9.41979723e-01, 3.11866576e-01,\n",
       "         3.13256967e-01, 4.90857507e-02, 7.32997631e-02, 2.13451840e-01,\n",
       "         1.34554546e-01, 9.26479376e-01, 9.30608666e-01, 9.84894275e-01,\n",
       "         2.42567211e-01, 3.84827935e-01, 7.36477219e-01, 8.12007568e-01,\n",
       "         2.26056196e-01, 6.12969603e-01, 4.79492220e-01, 7.47799144e-01,\n",
       "         6.55792722e-01, 6.64427902e-01, 2.01377313e-01, 8.59113748e-01,\n",
       "         3.13126653e-01, 4.13710355e-02, 1.65006405e-01, 8.09740824e-01,\n",
       "         9.91084740e-01, 5.67531874e-01, 3.50341899e-01, 8.64225603e-01,\n",
       "         3.63306433e-01, 6.22774102e-01, 8.13109726e-01, 4.21358019e-01,\n",
       "         9.80364015e-01, 9.48029937e-01, 1.53707602e-01, 2.44036440e-01,\n",
       "         7.19332353e-02, 3.52095456e-01, 2.21002463e-01, 4.16065545e-01,\n",
       "         9.65447663e-01, 6.77880388e-01, 3.75973429e-01, 5.66253255e-01,\n",
       "         3.83631336e-01, 6.11622484e-01, 2.51999203e-01, 7.59266532e-01,\n",
       "         4.55467952e-01, 3.72273880e-01, 2.18158935e-02, 1.51373464e-01,\n",
       "         8.40425964e-01, 8.97964045e-02, 6.10829335e-02, 2.96064390e-01,\n",
       "         5.93746201e-01, 2.46343980e-01, 7.03844702e-01, 8.13834020e-01,\n",
       "         5.75537073e-01, 7.29187143e-01, 9.41576356e-01, 8.86252893e-01,\n",
       "         1.32905887e-01, 3.01829073e-01, 8.95920081e-02, 5.23152506e-02,\n",
       "         3.28066020e-01, 1.38764680e-01, 4.49967051e-01, 2.30961446e-01,\n",
       "         3.33582338e-03, 8.13933883e-01, 6.92910907e-01, 4.44420990e-02,\n",
       "         7.03467978e-01, 5.26933021e-01, 1.98648908e-01, 6.69434921e-01,\n",
       "         1.61938211e-01, 6.78233053e-01, 4.04477720e-01, 2.02745806e-01,\n",
       "         7.77787431e-01, 4.84623223e-01, 7.16054649e-01, 2.35916297e-01,\n",
       "         8.55155759e-01, 5.69685195e-01, 3.10892304e-01, 1.68379614e-01,\n",
       "         8.44645400e-02, 8.04731288e-01, 6.08375126e-01, 9.42824592e-01,\n",
       "         3.21588907e-02, 5.11632258e-01, 6.67376720e-01, 4.67871580e-01,\n",
       "         7.16781171e-01, 8.74643815e-02, 2.27882494e-01, 9.01231164e-01,\n",
       "         4.34517026e-02, 7.32765594e-02, 3.42415807e-01, 5.62683857e-02,\n",
       "         8.17156734e-01, 2.88684597e-01, 3.50270114e-01, 6.23870978e-01,\n",
       "         7.94458667e-01, 1.27189488e-01, 4.77921729e-01, 7.90225909e-01,\n",
       "         5.88718143e-01, 4.10671932e-01, 9.95084015e-01, 2.50477561e-01,\n",
       "         7.61871487e-01, 7.25453587e-01, 8.33510914e-01, 4.01126516e-01,\n",
       "         1.99134470e-01, 3.80005661e-02, 2.54030480e-01, 4.56818582e-01,\n",
       "         3.79662588e-01, 7.38470464e-01, 2.50586530e-01, 3.44582932e-01,\n",
       "         8.67511282e-03, 1.24566671e-01, 7.54046864e-01, 7.95046438e-01,\n",
       "         7.94332535e-01, 8.70124936e-01, 6.95539895e-01, 2.50389577e-01,\n",
       "         7.16794389e-02, 3.31968455e-01, 1.34115014e-01, 2.45762621e-01,\n",
       "         3.18028684e-01, 2.27122529e-01, 1.56228486e-02, 4.77294928e-01,\n",
       "         1.03949931e-01, 5.36608288e-01, 6.28763580e-01, 8.57251038e-02,\n",
       "         2.15611544e-01, 9.58233376e-02, 7.16125644e-01, 1.06438065e-01,\n",
       "         5.81722745e-01, 3.89510241e-01, 7.40754761e-01, 9.31359395e-01,\n",
       "         9.83299212e-01, 9.38829609e-01, 1.23319779e-01, 4.60962191e-01,\n",
       "         6.40708998e-01, 6.43769418e-01, 9.15255811e-01, 6.10414967e-01,\n",
       "         3.21411521e-01, 9.15050089e-01, 2.96602184e-01, 2.58952202e-01,\n",
       "         4.39603001e-01, 4.85737973e-01, 9.80611916e-01, 8.95844425e-01,\n",
       "         8.91923898e-01, 8.97165592e-01, 9.99956673e-01, 3.31018705e-02,\n",
       "         7.60091457e-01, 7.55042682e-01, 7.99609722e-01, 3.61750716e-01,\n",
       "         2.96025847e-01, 1.81291458e-02, 4.80523205e-01, 2.00420928e-01,\n",
       "         6.20379035e-01, 1.40915367e-01, 3.92274241e-01, 5.32844740e-01,\n",
       "         8.42895433e-01, 2.55192232e-01, 4.07238261e-01, 4.44802877e-01,\n",
       "         8.95783571e-01, 5.63283810e-01, 1.55040450e-01, 4.25773616e-01,\n",
       "         2.99176816e-01, 9.83293957e-01, 3.44367041e-01, 8.74797874e-01,\n",
       "         5.75312325e-01, 6.78700536e-01, 7.48526662e-01, 8.85170316e-01,\n",
       "         8.89403932e-01, 4.51267956e-01, 7.93484532e-01, 4.23300334e-01,\n",
       "         4.69074259e-01, 1.30955723e-01, 8.91887897e-01, 9.00947902e-01,\n",
       "         8.00925228e-01, 1.69200961e-01, 8.05725295e-01, 1.85495276e-01,\n",
       "         3.20247491e-03, 9.02184571e-01, 6.01467099e-02, 2.41618251e-01,\n",
       "         3.86031583e-01, 5.86273717e-01, 7.86368180e-01, 4.71082005e-01,\n",
       "         1.23076054e-01, 4.66059190e-01, 9.93393283e-01, 1.63070162e-01,\n",
       "         9.04995366e-01, 3.50535605e-01, 5.40066583e-01, 7.36660261e-01,\n",
       "         7.79092467e-01, 7.29199811e-01, 8.83534754e-01, 1.93820081e-01,\n",
       "         2.01868348e-01, 3.28240063e-01, 9.92510739e-01, 2.83863618e-01,\n",
       "         2.40569042e-01, 4.18056039e-01, 6.69723895e-01, 8.95821533e-01,\n",
       "         8.96431010e-03, 4.16323769e-02, 7.92484693e-01, 9.27683786e-02,\n",
       "         6.98482063e-02, 1.31028605e-01, 2.40531628e-01, 9.89094546e-01,\n",
       "         7.54670306e-01, 4.61649220e-01, 5.03574419e-01, 3.56698153e-01,\n",
       "         5.34994964e-02, 6.01710628e-01, 9.96279762e-01, 6.12208933e-01,\n",
       "         8.82453830e-01, 7.87113188e-01, 6.11581584e-01, 9.97292307e-01,\n",
       "         9.54224743e-01, 6.43027878e-01, 1.85163236e-01, 3.28354246e-01,\n",
       "         1.72254417e-01, 1.52884138e-02, 3.39996640e-03, 6.59158495e-01,\n",
       "         7.95182437e-01, 7.07965546e-01, 3.66012633e-01, 4.84023587e-01,\n",
       "         6.91041554e-01, 9.17629398e-01, 5.90129798e-01, 4.87635876e-01,\n",
       "         7.21870071e-01, 5.87127945e-01, 4.76986219e-01, 4.52009894e-01,\n",
       "         1.67341266e-01, 6.86828010e-01, 4.31646022e-01, 2.21027809e-01,\n",
       "         3.38217005e-01, 5.04588200e-01, 8.12867468e-01, 1.47972686e-01,\n",
       "         9.80142935e-02, 6.56386709e-01, 3.51882906e-01, 4.80693797e-01,\n",
       "         8.68170349e-01, 8.72116848e-01, 1.58030721e-01, 9.57363311e-01,\n",
       "         5.05559779e-01, 6.13737166e-02, 8.87221905e-01, 7.80664488e-01,\n",
       "         3.73057960e-01, 1.08738246e-02, 8.94785754e-01, 7.66962661e-01,\n",
       "         5.50131532e-01, 1.00029406e-01, 4.57301700e-01, 4.63896913e-01,\n",
       "         5.07047545e-01, 5.22114047e-01, 8.19155269e-01, 2.02256080e-01,\n",
       "         9.83831682e-01, 4.46192178e-01, 3.21088498e-01, 5.02237595e-01,\n",
       "         7.85878571e-01, 9.36432267e-01, 2.97381671e-01, 5.87152777e-02,\n",
       "         1.08396318e-01, 5.35849294e-02, 7.40756896e-01, 5.57708683e-01,\n",
       "         8.54919089e-01, 5.83651110e-01, 5.21947727e-01, 6.27414299e-01,\n",
       "         2.23847920e-02, 8.55797115e-01, 4.83949188e-01, 3.16838802e-02,\n",
       "         6.44184733e-02, 1.21087814e-01, 1.49726877e-04, 3.87959878e-01,\n",
       "         7.30051472e-01, 7.91061368e-01, 4.26120874e-01, 8.20889813e-01,\n",
       "         1.98487259e-01, 9.18420899e-01, 6.84162541e-01, 5.87688782e-01,\n",
       "         6.81986347e-02, 7.57890154e-01, 9.30878728e-01, 7.59345458e-01,\n",
       "         8.28969267e-01, 5.61023548e-01, 7.33902635e-01, 1.45551162e-01,\n",
       "         8.02057714e-01, 3.07292500e-01, 5.37508001e-01, 3.76349282e-01,\n",
       "         6.71583056e-01, 6.67174586e-01, 6.82376518e-01, 5.18482299e-01,\n",
       "         5.78502653e-01, 8.25228078e-01, 6.19127581e-01, 8.98199749e-01,\n",
       "         5.72168664e-01, 9.77970096e-01, 7.45913699e-01, 9.52149010e-01,\n",
       "         4.12795167e-01, 9.83521791e-01, 5.34680480e-01, 2.83310996e-01,\n",
       "         1.04502971e-01, 8.50853724e-02, 9.78354997e-01, 6.26884879e-01,\n",
       "         1.75627189e-01, 5.05867229e-01, 6.05049680e-01, 8.41279191e-02,\n",
       "         5.75682553e-01, 1.21996279e-01, 2.91794496e-01, 7.92668557e-01,\n",
       "         2.18173163e-01, 8.97469460e-01, 7.53936801e-01, 9.80952212e-01,\n",
       "         7.01121913e-01, 5.82280486e-02, 8.12714559e-01, 5.67274489e-01,\n",
       "         7.06957089e-01, 3.83159794e-01, 9.76093358e-01, 7.30802802e-01,\n",
       "         4.42949147e-01, 7.84498055e-01, 8.48346814e-02, 8.09048172e-02,\n",
       "         9.89821761e-01, 7.75989684e-01, 9.16186296e-01, 4.12577006e-01,\n",
       "         9.73003236e-01, 5.06948976e-01, 7.04072377e-01, 1.79692377e-01,\n",
       "         4.17534359e-01, 3.52703649e-01, 6.47921039e-01, 4.01788355e-01,\n",
       "         4.14301362e-01, 6.94006685e-01, 6.46397983e-01, 1.53729503e-01,\n",
       "         9.79874687e-01, 6.16984142e-01, 7.74955808e-01, 9.95481656e-01,\n",
       "         7.04829497e-01, 9.33510572e-01, 1.99362291e-01, 5.68725194e-01,\n",
       "         9.98747643e-01, 1.93339289e-01, 4.20041267e-01, 9.73064349e-01,\n",
       "         5.92658875e-01, 5.28384394e-01, 7.23507209e-02, 9.80947715e-01,\n",
       "         9.45324025e-01]))]"
      ]
     },
     "execution_count": 20,
     "metadata": {},
     "output_type": "execute_result"
    }
   ],
   "source": [
    "expand_setpoints_helper(a.spectrum)"
   ]
  },
  {
   "cell_type": "code",
   "execution_count": 21,
   "metadata": {},
   "outputs": [
    {
     "name": "stdout",
     "output_type": "stream",
     "text": [
      "Starting experimental run with id: 2. \n"
     ]
    }
   ],
   "source": [
    "meas = Measurement()\n",
    "meas.register_parameter(a.spectrum)\n",
    "\n",
    "with meas.run() as datasaver:\n",
    "    datasaver.add_result(*expand_setpoints_helper(a.spectrum))\n",
    "    \n",
    "    dataid = datasaver.run_id"
   ]
  },
  {
   "cell_type": "code",
   "execution_count": null,
   "metadata": {},
   "outputs": [],
   "source": []
  }
 ],
 "metadata": {
  "kernelspec": {
   "display_name": "Python 3",
   "language": "python",
   "name": "python3"
  },
  "language_info": {
   "codemirror_mode": {
    "name": "ipython",
    "version": 3
   },
   "file_extension": ".py",
   "mimetype": "text/x-python",
   "name": "python",
   "nbconvert_exporter": "python",
   "pygments_lexer": "ipython3",
   "version": "3.7.7"
  },
  "toc": {
   "base_numbering": 1,
   "nav_menu": {},
   "number_sections": true,
   "sideBar": true,
   "skip_h1_title": false,
   "title_cell": "Table of Contents",
   "title_sidebar": "Contents",
   "toc_cell": false,
   "toc_position": {},
   "toc_section_display": true,
   "toc_window_display": false
  },
  "varInspector": {
   "cols": {
    "lenName": 16,
    "lenType": 16,
    "lenVar": 40
   },
   "kernels_config": {
    "python": {
     "delete_cmd_postfix": "",
     "delete_cmd_prefix": "del ",
     "library": "var_list.py",
     "varRefreshCmd": "print(var_dic_list())"
    },
    "r": {
     "delete_cmd_postfix": ") ",
     "delete_cmd_prefix": "rm(",
     "library": "var_list.r",
     "varRefreshCmd": "cat(var_dic_list()) "
    }
   },
   "types_to_exclude": [
    "module",
    "function",
    "builtin_function_or_method",
    "instance",
    "_Feature"
   ],
   "window_display": false
  }
 },
 "nbformat": 4,
 "nbformat_minor": 2
}
