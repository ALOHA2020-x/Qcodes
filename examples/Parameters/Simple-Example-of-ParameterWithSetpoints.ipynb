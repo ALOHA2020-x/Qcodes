{
 "cells": [
  {
   "cell_type": "markdown",
   "metadata": {},
   "source": [
    "# Simple Example of ParameterWithSetpoints\n",
    "This notebook provides an example for writing a simple driver with a parameter that has setpoints. Let's name this parameter that has setpoints as \"y\". Then, the setpoints, say \"x1, x2, x3 ..\", are the parameters on which the parameter \n",
    "\"y\" depends upon. Meaning \"y\" is a function of \"x1, x2, x3 ...\" where \"x1, x2, x3 ...\" are known as the setpoints of parameter \"y\".\n",
    "\n",
    "This is most likely to be useful for instruments that return arrays of results. In this notebook, we will show an example of this."
   ]
  },
  {
   "cell_type": "code",
   "execution_count": 1,
   "metadata": {},
   "outputs": [],
   "source": [
    "import numpy as np\n",
    "import os"
   ]
  },
  {
   "cell_type": "code",
   "execution_count": 2,
   "metadata": {},
   "outputs": [
    {
     "name": "stdout",
     "output_type": "stream",
     "text": [
      "Logging hadn't been started.\n",
      "Activating auto-logging. Current session state plus future input saved.\n",
      "Filename       : /home/vsts/.qcodes/logs/command_history.log\n",
      "Mode           : append\n",
      "Output logging : True\n",
      "Raw input log  : False\n",
      "Timestamping   : True\n",
      "State          : active\n"
     ]
    },
    {
     "name": "stdout",
     "output_type": "stream",
     "text": [
      "Qcodes Logfile : /home/vsts/.qcodes/logs/200417-21323-qcodes.log\n"
     ]
    }
   ],
   "source": [
    "from qcodes.dataset.plotting import plot_dataset\n",
    "from qcodes.utils.validators import Numbers, Arrays\n",
    "from qcodes.instrument.base import Instrument\n",
    "from qcodes.dataset.measurements import Measurement"
   ]
  },
  {
   "cell_type": "code",
   "execution_count": 3,
   "metadata": {},
   "outputs": [],
   "source": [
    "from qcodes.dataset.sqlite.database import initialise_or_create_database_at\n",
    "from qcodes.dataset.experiment_container import load_or_create_experiment"
   ]
  },
  {
   "cell_type": "code",
   "execution_count": 4,
   "metadata": {},
   "outputs": [],
   "source": [
    "from qcodes.instrument.parameter import ParameterWithSetpoints, Parameter\n",
    "from qcodes.instrument.parameter import expand_setpoints_helper"
   ]
  },
  {
   "cell_type": "markdown",
   "metadata": {},
   "source": [
    "First, we define a dummy instrument that returns something like a frequency spectrum starting from a frequency given by `f_start` to a frequency given by `f_stop` in `n_points` steps. \n",
    "\n",
    "The extra functionality of the `ParameterWithSetpoints` is implemented by giving it a reference to one or more parameters that acts like its setpoints. \n",
    "\n",
    "To setup a `ParameterWithSetpoints` we have to do two things in addition to what we do for a normal parameter.\n",
    "\n",
    "* Define one or more parameter for the setpoints (one for each dimension of the array and let the `ParameterWithSetpoints` know that these are the setpoints.\n",
    "* Give both the setpoints parameter(s) and the `ParameterWithSetpoints` a `validator` of type `Arrays` with a shape. The shapes should be such that the combined shape of the setpoints matches the shape of the `ParameterWithSetpoints`. Note that if the shape changes with the setting of the instrument, it can be defined by another parameter as shown below. "
   ]
  },
  {
   "cell_type": "code",
   "execution_count": 5,
   "metadata": {},
   "outputs": [],
   "source": [
    "class GeneratedSetPoints(Parameter):\n",
    "    \"\"\"\n",
    "    A parameter that generates a setpoint array from start, stop and num points\n",
    "    parameters.\n",
    "    \"\"\"\n",
    "    def __init__(self, startparam, stopparam, numpointsparam, *args, **kwargs):\n",
    "        super().__init__(*args, **kwargs)\n",
    "        self._startparam = startparam\n",
    "        self._stopparam = stopparam\n",
    "        self._numpointsparam = numpointsparam\n",
    "\n",
    "    def get_raw(self):\n",
    "        return np.linspace(self._startparam(), self._stopparam(),\n",
    "                              self._numpointsparam())\n",
    "\n",
    "class DummyArray(ParameterWithSetpoints):\n",
    "    \n",
    "    def get_raw(self):\n",
    "        npoints = self.root_instrument.n_points.get_latest()\n",
    "        return np.random.rand(npoints)\n",
    "    \n",
    "\n",
    "class DummySpectrumAnalyzer(Instrument):\n",
    "    \n",
    "    def __init__(self, name, **kwargs):\n",
    "        \n",
    "        super().__init__(name, **kwargs)\n",
    "            \n",
    "\n",
    "        self.add_parameter('f_start',\n",
    "                           initial_value=0,\n",
    "                           unit='Hz',\n",
    "                           label='f start',\n",
    "                           vals=Numbers(0,1e3),\n",
    "                           get_cmd=None,\n",
    "                           set_cmd=None)\n",
    "\n",
    "        self.add_parameter('f_stop',\n",
    "                           unit='Hz',\n",
    "                           label='f stop',\n",
    "                           vals=Numbers(1,1e3),\n",
    "                           get_cmd=None,\n",
    "                           set_cmd=None)\n",
    "\n",
    "        self.add_parameter('n_points',\n",
    "                           unit='',\n",
    "                           initial_value=10,\n",
    "                           vals=Numbers(1,1e3),\n",
    "                           get_cmd=None,\n",
    "                           set_cmd=None)\n",
    "        \n",
    "        self.add_parameter('freq_axis',\n",
    "                           unit='Hz',\n",
    "                           label='Freq Axis',\n",
    "                           parameter_class=GeneratedSetPoints,\n",
    "                           startparam=self.f_start,\n",
    "                           stopparam=self.f_stop,\n",
    "                           numpointsparam=self.n_points,\n",
    "                           vals=Arrays(shape=(self.n_points.get_latest,)))\n",
    "                           \n",
    "        self.add_parameter('spectrum',\n",
    "                   unit='dBm',\n",
    "                   setpoints=(self.freq_axis,),\n",
    "                   label='Spectrum',\n",
    "                   parameter_class=DummyArray,\n",
    "                   vals=Arrays(shape=(self.n_points.get_latest,)))\n",
    "                "
   ]
  },
  {
   "cell_type": "markdown",
   "metadata": {},
   "source": [
    "In the above example, the shape is defined by the parameter `n_points` that defines how many samples our `DummySpectrumAnalyzer` returns.\n",
    "\n",
    "This means that the validation will call the function to get `n_points` twice for each `get` of the parameter. This may be too slow, however, if you (as the driver-writer) can guarantee that the cached value for `n_points` will never be out of sync with the value stored in the instrument, `n_points` may be replaced by it's latest known value such that the `validator` reads:\n",
    "```python\n",
    "vals=Arrays(shape=(self.n_points.get_latest))\n",
    "```\n",
    "\n",
    "This avoids any additional call to the instrument. In the same way, the arguments to the `freq_axis` parameter that defines the start, stop and number of points can be replaced by their latest value if the instrument allows it.\n",
    "\n"
   ]
  },
  {
   "cell_type": "code",
   "execution_count": 6,
   "metadata": {},
   "outputs": [
    {
     "name": "stdout",
     "output_type": "stream",
     "text": [
      "\r",
      "0it [00:00, ?it/s]"
     ]
    },
    {
     "name": "stdout",
     "output_type": "stream",
     "text": [
      "\r",
      "Upgrading database; v0 -> v1: : 0it [00:00, ?it/s]"
     ]
    },
    {
     "name": "stdout",
     "output_type": "stream",
     "text": [
      "\r",
      "Upgrading database; v0 -> v1: : 0it [00:00, ?it/s]"
     ]
    },
    {
     "name": "stdout",
     "output_type": "stream",
     "text": [
      "\n",
      "\r",
      "  0%|          | 0/1 [00:00<?, ?it/s]"
     ]
    },
    {
     "name": "stdout",
     "output_type": "stream",
     "text": [
      "\r",
      "Upgrading database; v1 -> v2:   0%|          | 0/1 [00:00<?, ?it/s]"
     ]
    },
    {
     "name": "stdout",
     "output_type": "stream",
     "text": [
      "\r",
      "Upgrading database; v1 -> v2: 100%|██████████| 1/1 [00:00<00:00, 1012.14it/s]"
     ]
    },
    {
     "name": "stdout",
     "output_type": "stream",
     "text": [
      "\n",
      "\r",
      "0it [00:00, ?it/s]"
     ]
    },
    {
     "name": "stdout",
     "output_type": "stream",
     "text": [
      "\r",
      "Upgrading database; v2 -> v3: : 0it [00:00, ?it/s]"
     ]
    },
    {
     "name": "stdout",
     "output_type": "stream",
     "text": [
      "\r",
      "Upgrading database; v2 -> v3: : 0it [00:00, ?it/s]"
     ]
    },
    {
     "name": "stdout",
     "output_type": "stream",
     "text": [
      "\n",
      "\r",
      "0it [00:00, ?it/s]"
     ]
    },
    {
     "name": "stdout",
     "output_type": "stream",
     "text": [
      "\r",
      "Upgrading database; v3 -> v4: : 0it [00:00, ?it/s]"
     ]
    },
    {
     "name": "stdout",
     "output_type": "stream",
     "text": [
      "\r",
      "Upgrading database; v3 -> v4: : 0it [00:00, ?it/s]"
     ]
    },
    {
     "name": "stdout",
     "output_type": "stream",
     "text": [
      "\n",
      "\r",
      "  0%|          | 0/1 [00:00<?, ?it/s]"
     ]
    },
    {
     "name": "stdout",
     "output_type": "stream",
     "text": [
      "\r",
      "Upgrading database; v4 -> v5:   0%|          | 0/1 [00:00<?, ?it/s]"
     ]
    },
    {
     "name": "stdout",
     "output_type": "stream",
     "text": [
      "\r",
      "Upgrading database; v4 -> v5: 100%|██████████| 1/1 [00:00<00:00, 968.21it/s]"
     ]
    },
    {
     "name": "stdout",
     "output_type": "stream",
     "text": [
      "\n",
      "\r",
      "0it [00:00, ?it/s]"
     ]
    },
    {
     "name": "stdout",
     "output_type": "stream",
     "text": [
      "\r",
      "Upgrading database; v5 -> v6: : 0it [00:00, ?it/s]"
     ]
    },
    {
     "name": "stdout",
     "output_type": "stream",
     "text": [
      "\r",
      "Upgrading database; v5 -> v6: : 0it [00:00, ?it/s]"
     ]
    },
    {
     "name": "stdout",
     "output_type": "stream",
     "text": [
      "\n",
      "\r",
      "  0%|          | 0/1 [00:00<?, ?it/s]"
     ]
    },
    {
     "name": "stdout",
     "output_type": "stream",
     "text": [
      "\r",
      "Upgrading database; v6 -> v7:   0%|          | 0/1 [00:00<?, ?it/s]"
     ]
    },
    {
     "name": "stdout",
     "output_type": "stream",
     "text": [
      "\r",
      "Upgrading database; v6 -> v7: 100%|██████████| 1/1 [00:00<00:00, 504.18it/s]"
     ]
    },
    {
     "name": "stdout",
     "output_type": "stream",
     "text": [
      "\n",
      "\r",
      "  0%|          | 0/1 [00:00<?, ?it/s]"
     ]
    },
    {
     "name": "stdout",
     "output_type": "stream",
     "text": [
      "\r",
      "Upgrading database; v7 -> v8:   0%|          | 0/1 [00:00<?, ?it/s]"
     ]
    },
    {
     "name": "stdout",
     "output_type": "stream",
     "text": [
      "\r",
      "Upgrading database; v7 -> v8: 100%|██████████| 1/1 [00:00<00:00, 977.92it/s]"
     ]
    },
    {
     "name": "stdout",
     "output_type": "stream",
     "text": [
      "\n",
      "\r",
      "  0%|          | 0/1 [00:00<?, ?it/s]"
     ]
    },
    {
     "name": "stdout",
     "output_type": "stream",
     "text": [
      "\r",
      "Upgrading database; v8 -> v9:   0%|          | 0/1 [00:00<?, ?it/s]"
     ]
    },
    {
     "name": "stdout",
     "output_type": "stream",
     "text": [
      "\r",
      "Upgrading database; v8 -> v9: 100%|██████████| 1/1 [00:00<00:00, 1273.70it/s]"
     ]
    },
    {
     "name": "stdout",
     "output_type": "stream",
     "text": [
      "\n"
     ]
    },
    {
     "data": {
      "text/plain": [
       "tutorial_ParameterWithSetpoints#no sample#1@/home/vsts/work/1/s/docs/examples/Parameters/tutorial_paramter_with_setpoints.db\n",
       "----------------------------------------------------------------------------------------------------------------------------"
      ]
     },
     "execution_count": 6,
     "metadata": {},
     "output_type": "execute_result"
    }
   ],
   "source": [
    "tutorial_db_path = os.path.join(os.getcwd(), 'tutorial_paramter_with_setpoints.db')\n",
    "initialise_or_create_database_at(tutorial_db_path)\n",
    "load_or_create_experiment(experiment_name='tutorial_ParameterWithSetpoints', sample_name=\"no sample\")"
   ]
  },
  {
   "cell_type": "code",
   "execution_count": 7,
   "metadata": {},
   "outputs": [],
   "source": [
    "a = DummySpectrumAnalyzer('foobar')"
   ]
  },
  {
   "cell_type": "markdown",
   "metadata": {},
   "source": [
    "First we setup the limits of the spectrum"
   ]
  },
  {
   "cell_type": "code",
   "execution_count": 8,
   "metadata": {},
   "outputs": [],
   "source": [
    "a.f_start(0)\n",
    "a.f_stop(500)\n",
    "a.n_points(501)"
   ]
  },
  {
   "cell_type": "markdown",
   "metadata": {},
   "source": [
    "And we can grab the frequency axis"
   ]
  },
  {
   "cell_type": "code",
   "execution_count": 9,
   "metadata": {},
   "outputs": [
    {
     "data": {
      "text/plain": [
       "501"
      ]
     },
     "execution_count": 9,
     "metadata": {},
     "output_type": "execute_result"
    }
   ],
   "source": [
    "a.n_points()"
   ]
  },
  {
   "cell_type": "code",
   "execution_count": 10,
   "metadata": {
    "scrolled": false
   },
   "outputs": [
    {
     "data": {
      "text/plain": [
       "501"
      ]
     },
     "execution_count": 10,
     "metadata": {},
     "output_type": "execute_result"
    }
   ],
   "source": [
    "freq_axis = a.freq_axis()\n",
    "len(freq_axis)"
   ]
  },
  {
   "cell_type": "code",
   "execution_count": 11,
   "metadata": {},
   "outputs": [
    {
     "data": {
      "text/plain": [
       "array([0., 1., 2., 3., 4., 5., 6., 7., 8., 9.])"
      ]
     },
     "execution_count": 11,
     "metadata": {},
     "output_type": "execute_result"
    }
   ],
   "source": [
    "freq_axis[:10]"
   ]
  },
  {
   "cell_type": "markdown",
   "metadata": {},
   "source": [
    "As expected we get a result wit 501 points as we asked for an axis with 501 points. "
   ]
  },
  {
   "cell_type": "markdown",
   "metadata": {},
   "source": [
    "Above we have added a validator to the `freq_axis` parameter encoding the fact that this is an Array with `n_points`. Note that we do not have to supply the number of points as an integer but can supply a function that returns the valid number of points. This would normally be a QCoDeS parameter.\n",
    "\n",
    "This will be checked if we validate the output."
   ]
  },
  {
   "cell_type": "code",
   "execution_count": 12,
   "metadata": {},
   "outputs": [],
   "source": [
    "a.freq_axis.validate(a.freq_axis.get())"
   ]
  },
  {
   "cell_type": "markdown",
   "metadata": {},
   "source": [
    "Naturally, we can also get the spectrum. Getting the spectrum will automatically perform validation both for the shape of the parameter itself and the relation to the setpoint parameter(s)"
   ]
  },
  {
   "cell_type": "code",
   "execution_count": 13,
   "metadata": {
    "scrolled": true
   },
   "outputs": [
    {
     "data": {
      "text/plain": [
       "501"
      ]
     },
     "execution_count": 13,
     "metadata": {},
     "output_type": "execute_result"
    }
   ],
   "source": [
    "spectrum = a.spectrum.get()\n",
    "len(spectrum)"
   ]
  },
  {
   "cell_type": "markdown",
   "metadata": {},
   "source": [
    "When we validate a `ParameterWithSetpoints`, we automatically validate that the shape is consistent between the parameters and its setpoints. As well as validating the shape as above."
   ]
  },
  {
   "cell_type": "code",
   "execution_count": 14,
   "metadata": {},
   "outputs": [],
   "source": [
    "a.spectrum.validate(a.spectrum.get())"
   ]
  },
  {
   "cell_type": "markdown",
   "metadata": {},
   "source": [
    "The consistent shapes can be validated explicitly."
   ]
  },
  {
   "cell_type": "code",
   "execution_count": 15,
   "metadata": {},
   "outputs": [],
   "source": [
    "a.spectrum.validate_consistent_shape()"
   ]
  },
  {
   "cell_type": "markdown",
   "metadata": {},
   "source": [
    "We can inspect the setpoints of the spectrum."
   ]
  },
  {
   "cell_type": "code",
   "execution_count": 16,
   "metadata": {},
   "outputs": [
    {
     "data": {
      "text/plain": [
       "(<__main__.GeneratedSetPoints: freq_axis at 140270507615120>,)"
      ]
     },
     "execution_count": 16,
     "metadata": {},
     "output_type": "execute_result"
    }
   ],
   "source": [
    "a.spectrum.setpoints"
   ]
  },
  {
   "cell_type": "markdown",
   "metadata": {},
   "source": [
    "Or even change them."
   ]
  },
  {
   "cell_type": "code",
   "execution_count": 17,
   "metadata": {},
   "outputs": [],
   "source": [
    "a.spectrum.setpoints = (a.freq_axis,)"
   ]
  },
  {
   "cell_type": "markdown",
   "metadata": {},
   "source": [
    "## Measurement"
   ]
  },
  {
   "cell_type": "markdown",
   "metadata": {},
   "source": [
    "We can also directly consume the parameter in a measurement without defining the setpoints of the parameter again. The setpoints are automatically obtained from the definition of the `ParameterWithSetpoint` instance. "
   ]
  },
  {
   "cell_type": "code",
   "execution_count": 18,
   "metadata": {},
   "outputs": [
    {
     "name": "stdout",
     "output_type": "stream",
     "text": [
      "Starting experimental run with id: 1. \n"
     ]
    }
   ],
   "source": [
    "meas = Measurement()\n",
    "meas.register_parameter(a.spectrum)\n",
    "\n",
    "with meas.run() as datasaver:\n",
    "    datasaver.add_result((a.freq_axis, a.freq_axis()),\n",
    "                         (a.spectrum, a.spectrum()))\n",
    "    dataset = datasaver.dataset"
   ]
  },
  {
   "cell_type": "markdown",
   "metadata": {},
   "source": [
    "And plot it"
   ]
  },
  {
   "cell_type": "code",
   "execution_count": 19,
   "metadata": {},
   "outputs": [
    {
     "data": {
      "text/plain": [
       "([<matplotlib.axes._subplots.AxesSubplot at 0x7f9345c91190>], [None])"
      ]
     },
     "execution_count": 19,
     "metadata": {},
     "output_type": "execute_result"
    },
    {
     "data": {
      "image/png": "[encoded data removed]",
      "text/plain": [
       "<Figure size 432x288 with 1 Axes>"
      ]
     },
     "metadata": {
      "needs_background": "light"
     },
     "output_type": "display_data"
    }
   ],
   "source": [
    "plot_dataset(dataset)"
   ]
  },
  {
   "cell_type": "markdown",
   "metadata": {},
   "source": [
    "To reduce the amount of typing a simple convenience function is provided that will take a `ParameterWithSetpoints` and get both its values and the setpoints values and return them as tuples for direct insertion into the Dataset."
   ]
  },
  {
   "cell_type": "code",
   "execution_count": 20,
   "metadata": {
    "scrolled": true
   },
   "outputs": [
    {
     "data": {
      "text/plain": [
       "[(<__main__.GeneratedSetPoints: freq_axis at 140270507615120>,\n",
       "  array([  0.,   1.,   2.,   3.,   4.,   5.,   6.,   7.,   8.,   9.,  10.,\n",
       "          11.,  12.,  13.,  14.,  15.,  16.,  17.,  18.,  19.,  20.,  21.,\n",
       "          22.,  23.,  24.,  25.,  26.,  27.,  28.,  29.,  30.,  31.,  32.,\n",
       "          33.,  34.,  35.,  36.,  37.,  38.,  39.,  40.,  41.,  42.,  43.,\n",
       "          44.,  45.,  46.,  47.,  48.,  49.,  50.,  51.,  52.,  53.,  54.,\n",
       "          55.,  56.,  57.,  58.,  59.,  60.,  61.,  62.,  63.,  64.,  65.,\n",
       "          66.,  67.,  68.,  69.,  70.,  71.,  72.,  73.,  74.,  75.,  76.,\n",
       "          77.,  78.,  79.,  80.,  81.,  82.,  83.,  84.,  85.,  86.,  87.,\n",
       "          88.,  89.,  90.,  91.,  92.,  93.,  94.,  95.,  96.,  97.,  98.,\n",
       "          99., 100., 101., 102., 103., 104., 105., 106., 107., 108., 109.,\n",
       "         110., 111., 112., 113., 114., 115., 116., 117., 118., 119., 120.,\n",
       "         121., 122., 123., 124., 125., 126., 127., 128., 129., 130., 131.,\n",
       "         132., 133., 134., 135., 136., 137., 138., 139., 140., 141., 142.,\n",
       "         143., 144., 145., 146., 147., 148., 149., 150., 151., 152., 153.,\n",
       "         154., 155., 156., 157., 158., 159., 160., 161., 162., 163., 164.,\n",
       "         165., 166., 167., 168., 169., 170., 171., 172., 173., 174., 175.,\n",
       "         176., 177., 178., 179., 180., 181., 182., 183., 184., 185., 186.,\n",
       "         187., 188., 189., 190., 191., 192., 193., 194., 195., 196., 197.,\n",
       "         198., 199., 200., 201., 202., 203., 204., 205., 206., 207., 208.,\n",
       "         209., 210., 211., 212., 213., 214., 215., 216., 217., 218., 219.,\n",
       "         220., 221., 222., 223., 224., 225., 226., 227., 228., 229., 230.,\n",
       "         231., 232., 233., 234., 235., 236., 237., 238., 239., 240., 241.,\n",
       "         242., 243., 244., 245., 246., 247., 248., 249., 250., 251., 252.,\n",
       "         253., 254., 255., 256., 257., 258., 259., 260., 261., 262., 263.,\n",
       "         264., 265., 266., 267., 268., 269., 270., 271., 272., 273., 274.,\n",
       "         275., 276., 277., 278., 279., 280., 281., 282., 283., 284., 285.,\n",
       "         286., 287., 288., 289., 290., 291., 292., 293., 294., 295., 296.,\n",
       "         297., 298., 299., 300., 301., 302., 303., 304., 305., 306., 307.,\n",
       "         308., 309., 310., 311., 312., 313., 314., 315., 316., 317., 318.,\n",
       "         319., 320., 321., 322., 323., 324., 325., 326., 327., 328., 329.,\n",
       "         330., 331., 332., 333., 334., 335., 336., 337., 338., 339., 340.,\n",
       "         341., 342., 343., 344., 345., 346., 347., 348., 349., 350., 351.,\n",
       "         352., 353., 354., 355., 356., 357., 358., 359., 360., 361., 362.,\n",
       "         363., 364., 365., 366., 367., 368., 369., 370., 371., 372., 373.,\n",
       "         374., 375., 376., 377., 378., 379., 380., 381., 382., 383., 384.,\n",
       "         385., 386., 387., 388., 389., 390., 391., 392., 393., 394., 395.,\n",
       "         396., 397., 398., 399., 400., 401., 402., 403., 404., 405., 406.,\n",
       "         407., 408., 409., 410., 411., 412., 413., 414., 415., 416., 417.,\n",
       "         418., 419., 420., 421., 422., 423., 424., 425., 426., 427., 428.,\n",
       "         429., 430., 431., 432., 433., 434., 435., 436., 437., 438., 439.,\n",
       "         440., 441., 442., 443., 444., 445., 446., 447., 448., 449., 450.,\n",
       "         451., 452., 453., 454., 455., 456., 457., 458., 459., 460., 461.,\n",
       "         462., 463., 464., 465., 466., 467., 468., 469., 470., 471., 472.,\n",
       "         473., 474., 475., 476., 477., 478., 479., 480., 481., 482., 483.,\n",
       "         484., 485., 486., 487., 488., 489., 490., 491., 492., 493., 494.,\n",
       "         495., 496., 497., 498., 499., 500.])),\n",
       " (<__main__.DummyArray: spectrum at 140270507614992>,\n",
       "  array([1.12075933e-02, 8.63146913e-01, 3.10518118e-02, 9.15567530e-01,\n",
       "         3.36727133e-01, 9.99504473e-03, 5.64050402e-01, 4.59385491e-01,\n",
       "         3.00439356e-01, 2.36565711e-01, 8.14877471e-01, 4.78896203e-01,\n",
       "         1.59907431e-01, 2.00335157e-01, 3.68776128e-01, 8.33728309e-01,\n",
       "         6.81554422e-01, 7.97266416e-01, 1.97628143e-01, 2.94315863e-01,\n",
       "         7.66252734e-01, 2.22086858e-01, 4.75303939e-01, 9.52896689e-01,\n",
       "         1.72733982e-01, 6.15701171e-01, 1.82879079e-01, 5.68814728e-01,\n",
       "         5.42154656e-01, 9.03641541e-01, 7.60780286e-01, 6.28856315e-01,\n",
       "         2.52237373e-01, 5.12911325e-02, 6.17189727e-01, 1.94037538e-01,\n",
       "         3.69278149e-01, 1.78261925e-01, 5.67850009e-01, 2.03873911e-01,\n",
       "         3.40334008e-01, 7.22548911e-01, 1.22964243e-01, 5.08946267e-01,\n",
       "         3.09320705e-01, 1.21936374e-01, 2.89166745e-02, 5.95203333e-01,\n",
       "         9.31974433e-02, 9.36624121e-01, 6.24854150e-01, 7.97356975e-01,\n",
       "         7.32315238e-02, 6.80723300e-01, 6.22268543e-01, 7.73997715e-01,\n",
       "         3.59089167e-01, 1.70733557e-01, 9.77066519e-01, 8.32676226e-01,\n",
       "         4.17142013e-01, 5.69671888e-01, 7.48834650e-02, 5.68043780e-01,\n",
       "         3.08513028e-01, 3.08053680e-01, 3.36848877e-01, 7.19156684e-01,\n",
       "         8.88034541e-01, 5.05332189e-01, 8.03888140e-01, 2.78658140e-01,\n",
       "         7.11605522e-01, 9.68244505e-01, 8.14648645e-01, 6.36503515e-01,\n",
       "         4.97896548e-01, 8.38299451e-01, 3.22081967e-01, 5.29491900e-01,\n",
       "         6.80887671e-01, 9.37269712e-01, 6.61726325e-01, 6.06118986e-01,\n",
       "         8.13328256e-01, 9.20055520e-01, 5.04366693e-01, 5.39309377e-01,\n",
       "         2.41271009e-01, 9.06629285e-01, 9.54226799e-01, 2.94359257e-01,\n",
       "         3.64853027e-01, 3.14958809e-01, 1.00297444e-01, 8.35223311e-01,\n",
       "         7.60453292e-01, 7.79374368e-01, 4.54616024e-01, 8.00239445e-01,\n",
       "         7.01537667e-01, 1.91775503e-01, 8.14410686e-01, 7.55576933e-01,\n",
       "         4.78125559e-01, 9.50846141e-01, 4.46518443e-01, 6.66509676e-01,\n",
       "         3.67515356e-01, 6.58824355e-01, 1.51782657e-01, 8.76613018e-01,\n",
       "         7.84618414e-01, 4.45506939e-01, 6.45646141e-01, 6.82338925e-01,\n",
       "         6.47630965e-01, 5.89775065e-02, 1.00697919e-01, 7.50905954e-02,\n",
       "         9.17644077e-01, 2.28408716e-01, 6.03563193e-01, 6.47076803e-01,\n",
       "         9.47139043e-01, 4.97983094e-01, 3.64849043e-01, 7.56202311e-01,\n",
       "         3.91741118e-01, 4.73092050e-01, 9.53502699e-01, 7.47722774e-01,\n",
       "         8.31342432e-01, 2.23252388e-01, 6.97533078e-01, 8.74177163e-01,\n",
       "         7.22050877e-01, 9.63048527e-01, 4.36809480e-01, 7.91259792e-01,\n",
       "         7.40150288e-01, 2.72918170e-01, 3.99508111e-01, 8.95273525e-01,\n",
       "         9.11219423e-01, 4.72274480e-02, 9.94749814e-01, 2.39881927e-01,\n",
       "         7.94787885e-01, 5.87444131e-01, 2.32264934e-01, 5.65290947e-01,\n",
       "         9.23530080e-01, 2.81205640e-01, 9.36776929e-01, 7.35318513e-01,\n",
       "         6.40363028e-01, 6.28786632e-01, 1.53217524e-01, 4.76975935e-02,\n",
       "         7.11747318e-01, 5.33296089e-01, 1.74957760e-01, 3.54553802e-01,\n",
       "         2.08913790e-01, 6.46019199e-01, 5.97844718e-02, 8.08652869e-01,\n",
       "         4.86141755e-01, 9.29639091e-01, 3.21099604e-01, 9.19447247e-01,\n",
       "         5.51960188e-01, 7.65982803e-01, 1.64324276e-01, 4.89591263e-01,\n",
       "         3.76301040e-02, 3.65292805e-01, 8.67989724e-01, 8.71133324e-01,\n",
       "         4.47629166e-01, 4.43594078e-01, 6.85144220e-01, 8.93634232e-01,\n",
       "         6.26942348e-01, 6.17207193e-01, 1.54549623e-01, 4.63209437e-01,\n",
       "         4.71334417e-02, 8.80028412e-02, 2.49292021e-02, 6.68527268e-01,\n",
       "         1.56944722e-02, 3.95750493e-01, 7.23910173e-01, 9.18710332e-01,\n",
       "         8.48700524e-01, 7.77921145e-01, 8.25487613e-01, 9.50243506e-01,\n",
       "         9.37364619e-01, 7.95865876e-01, 2.70622555e-01, 9.70969286e-01,\n",
       "         9.76056587e-01, 4.03878808e-01, 4.99732412e-02, 2.50192894e-01,\n",
       "         7.24996934e-01, 7.12945782e-01, 5.21152278e-01, 1.68629905e-02,\n",
       "         2.98690918e-01, 1.07324814e-01, 2.22548251e-01, 3.04581479e-02,\n",
       "         8.57648633e-01, 2.89439445e-01, 9.75065285e-01, 8.58027422e-01,\n",
       "         6.85218511e-01, 5.19069332e-01, 8.63280877e-01, 6.38543210e-01,\n",
       "         2.38431874e-01, 1.05132160e-01, 5.54378925e-01, 3.60036059e-01,\n",
       "         9.60543746e-01, 1.69664145e-01, 3.33765227e-01, 6.55029311e-01,\n",
       "         3.44835670e-01, 4.19597030e-01, 7.82325920e-01, 5.61219422e-01,\n",
       "         9.59371990e-01, 9.18079260e-01, 7.70544172e-01, 4.73476287e-01,\n",
       "         5.55174370e-03, 5.50671407e-01, 8.89323026e-01, 1.86432864e-01,\n",
       "         3.84917836e-01, 8.56531108e-02, 6.50281147e-02, 2.39119404e-01,\n",
       "         6.55474235e-01, 5.67067622e-01, 5.95118988e-01, 8.65948937e-01,\n",
       "         1.09682668e-01, 2.15162839e-01, 2.16299406e-01, 9.63912012e-01,\n",
       "         6.29365067e-01, 1.96866358e-01, 1.66539425e-01, 9.72621214e-01,\n",
       "         9.46959755e-01, 3.70240640e-02, 5.56698145e-01, 2.01235797e-01,\n",
       "         8.54356329e-01, 3.92214411e-02, 3.32140906e-01, 3.17828709e-01,\n",
       "         1.31983582e-01, 5.43198433e-01, 2.44359991e-01, 1.33675759e-01,\n",
       "         8.07249265e-01, 8.50079164e-01, 5.65385805e-01, 6.70841800e-01,\n",
       "         7.22473349e-01, 3.00135465e-01, 2.81145069e-01, 1.83322696e-01,\n",
       "         2.47011734e-01, 5.17218624e-01, 5.82955624e-02, 7.48566615e-02,\n",
       "         8.12045422e-02, 9.89973665e-01, 8.38586083e-01, 6.19192070e-01,\n",
       "         5.24234170e-01, 7.93658037e-01, 2.17859829e-01, 4.46227233e-01,\n",
       "         4.04105945e-01, 9.78685146e-02, 2.86290556e-01, 9.18602454e-01,\n",
       "         1.27189246e-01, 6.37113803e-01, 3.36366456e-01, 1.56048133e-01,\n",
       "         3.37748757e-01, 7.30624193e-01, 5.35744210e-01, 5.72886042e-01,\n",
       "         8.29875640e-01, 5.56961966e-01, 9.98977400e-01, 6.09123778e-01,\n",
       "         6.04251473e-01, 1.08259307e-01, 6.61019380e-01, 9.77495924e-01,\n",
       "         6.69342284e-01, 5.18519013e-01, 9.55106212e-01, 8.18939246e-01,\n",
       "         8.38309710e-01, 7.15407685e-01, 4.25059678e-02, 7.19991340e-01,\n",
       "         3.98320204e-01, 9.00096774e-02, 8.49947513e-01, 1.81348799e-01,\n",
       "         1.16484386e-01, 1.40357916e-01, 3.24700629e-01, 8.17686909e-01,\n",
       "         6.94768029e-01, 1.52598500e-01, 2.46211608e-01, 8.42824505e-01,\n",
       "         3.41263155e-01, 3.64108507e-01, 3.68130161e-01, 1.04617595e-02,\n",
       "         3.22712654e-01, 8.20621295e-01, 4.77284109e-01, 8.53045969e-01,\n",
       "         4.36484943e-01, 8.69191480e-01, 5.30922937e-01, 6.35629070e-01,\n",
       "         8.55240938e-01, 3.57415140e-01, 2.02950463e-01, 3.06033827e-01,\n",
       "         6.14375357e-01, 4.03687061e-01, 3.36014908e-01, 5.74813319e-01,\n",
       "         9.84719898e-02, 1.78048664e-01, 7.47002722e-01, 8.41633994e-02,\n",
       "         5.86676413e-01, 6.98141060e-01, 3.86799351e-01, 1.68928954e-01,\n",
       "         9.92774214e-01, 2.91865477e-01, 2.26788199e-01, 7.51959508e-01,\n",
       "         2.50259275e-01, 4.84649536e-01, 4.27810176e-02, 9.50398914e-01,\n",
       "         2.53185524e-01, 7.21060489e-01, 2.60107728e-01, 2.60485254e-01,\n",
       "         2.14092279e-01, 8.23492783e-01, 6.41780092e-01, 6.81240657e-01,\n",
       "         4.88967873e-01, 3.65803921e-01, 3.75682102e-01, 1.93951281e-01,\n",
       "         7.19483427e-01, 6.18210584e-01, 2.82689882e-01, 5.54828979e-02,\n",
       "         1.25145928e-02, 9.16490622e-01, 3.92432228e-01, 3.32887221e-01,\n",
       "         8.59614473e-01, 3.10184713e-01, 2.20768185e-02, 4.33400102e-01,\n",
       "         3.11969953e-01, 8.25504010e-01, 2.30943533e-01, 3.05339458e-01,\n",
       "         2.35126587e-01, 7.50785822e-01, 8.29798841e-01, 8.36720214e-01,\n",
       "         8.68715220e-01, 8.87244580e-02, 8.53735450e-01, 9.50119019e-02,\n",
       "         1.66392087e-01, 6.73601015e-01, 5.95937897e-01, 4.53671353e-01,\n",
       "         2.81088630e-01, 7.99228400e-01, 8.18033752e-01, 7.10226690e-01,\n",
       "         1.12804032e-01, 8.61570466e-01, 5.20063372e-01, 1.12047935e-01,\n",
       "         2.04958308e-01, 7.71610095e-01, 5.49449151e-01, 2.07812426e-02,\n",
       "         3.77651393e-01, 5.26657102e-01, 1.23555880e-01, 1.38110481e-01,\n",
       "         4.85639351e-01, 5.45601689e-01, 1.87569374e-01, 7.47566098e-01,\n",
       "         5.47539881e-01, 3.76067981e-01, 4.46840228e-01, 6.73490797e-01,\n",
       "         6.72728356e-01, 2.71290408e-01, 6.69701164e-01, 8.38638594e-01,\n",
       "         7.84177028e-01, 6.31305548e-01, 9.04171502e-01, 2.73833744e-02,\n",
       "         5.06162337e-01, 9.49208762e-01, 6.55464740e-01, 3.15689508e-01,\n",
       "         2.78298063e-01, 8.60498188e-01, 9.28047279e-01, 5.63905209e-01,\n",
       "         7.54332833e-01, 5.12216565e-02, 8.22623809e-01, 2.64203883e-01,\n",
       "         1.03642985e-01, 1.64808143e-01, 2.64803306e-01, 2.55090929e-01,\n",
       "         9.48942633e-01, 8.76581960e-01, 4.27469825e-01, 4.40682099e-01,\n",
       "         2.46293860e-01, 9.87060801e-01, 7.89208219e-01, 5.77797793e-02,\n",
       "         3.62361451e-01, 3.38339866e-01, 4.32138157e-03, 2.19426925e-01,\n",
       "         6.34546181e-01, 9.20256021e-01, 3.03988346e-01, 6.52273470e-01,\n",
       "         8.40058652e-01, 6.71284638e-01, 5.94067613e-01, 5.20872954e-01,\n",
       "         4.36297997e-01, 4.77464034e-01, 2.35847266e-01, 9.39183520e-01,\n",
       "         8.24814900e-01, 3.74951698e-01, 2.61859319e-01, 9.59185244e-01,\n",
       "         1.16382164e-02, 5.80957627e-01, 1.25962459e-01, 9.39453219e-01,\n",
       "         1.32115601e-01, 1.93199382e-04, 2.86159269e-01, 1.13758672e-01,\n",
       "         1.01429039e-01, 5.30201198e-01, 6.71467355e-01, 8.41066075e-01,\n",
       "         6.61185880e-01, 7.95467430e-02, 1.29968309e-01, 4.66105484e-01,\n",
       "         9.59270549e-01]))]"
      ]
     },
     "execution_count": 20,
     "metadata": {},
     "output_type": "execute_result"
    }
   ],
   "source": [
    "expand_setpoints_helper(a.spectrum)"
   ]
  },
  {
   "cell_type": "code",
   "execution_count": 21,
   "metadata": {},
   "outputs": [
    {
     "name": "stdout",
     "output_type": "stream",
     "text": [
      "Starting experimental run with id: 2. \n"
     ]
    }
   ],
   "source": [
    "meas = Measurement()\n",
    "meas.register_parameter(a.spectrum)\n",
    "\n",
    "with meas.run() as datasaver:\n",
    "    datasaver.add_result(*expand_setpoints_helper(a.spectrum))\n",
    "    \n",
    "    dataid = datasaver.run_id"
   ]
  },
  {
   "cell_type": "code",
   "execution_count": null,
   "metadata": {},
   "outputs": [],
   "source": []
  }
 ],
 "metadata": {
  "kernelspec": {
   "display_name": "Python 3",
   "language": "python",
   "name": "python3"
  },
  "language_info": {
   "codemirror_mode": {
    "name": "ipython",
    "version": 3
   },
   "file_extension": ".py",
   "mimetype": "text/x-python",
   "name": "python",
   "nbconvert_exporter": "python",
   "pygments_lexer": "ipython3",
   "version": "3.7.7"
  },
  "toc": {
   "base_numbering": 1,
   "nav_menu": {},
   "number_sections": true,
   "sideBar": true,
   "skip_h1_title": false,
   "title_cell": "Table of Contents",
   "title_sidebar": "Contents",
   "toc_cell": false,
   "toc_position": {},
   "toc_section_display": true,
   "toc_window_display": false
  },
  "varInspector": {
   "cols": {
    "lenName": 16,
    "lenType": 16,
    "lenVar": 40
   },
   "kernels_config": {
    "python": {
     "delete_cmd_postfix": "",
     "delete_cmd_prefix": "del ",
     "library": "var_list.py",
     "varRefreshCmd": "print(var_dic_list())"
    },
    "r": {
     "delete_cmd_postfix": ") ",
     "delete_cmd_prefix": "rm(",
     "library": "var_list.r",
     "varRefreshCmd": "cat(var_dic_list()) "
    }
   },
   "types_to_exclude": [
    "module",
    "function",
    "builtin_function_or_method",
    "instance",
    "_Feature"
   ],
   "window_display": false
  }
 },
 "nbformat": 4,
 "nbformat_minor": 2
}
