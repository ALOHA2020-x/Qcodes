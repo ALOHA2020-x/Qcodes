{
 "cells": [
  {
   "cell_type": "markdown",
   "metadata": {},
   "source": [
    "# Simple Example of ParameterWithSetpoints\n",
    "This notebook provides an example for writing a simple driver with a parameter that has setpoints. Let's name this parameter that has setpoints as \"y\". Then, the setpoints, say \"x1, x2, x3 ..\", are the parameters on which the parameter \n",
    "\"y\" depends upon. Meaning \"y\" is a function of \"x1, x2, x3 ...\" where \"x1, x2, x3 ...\" are known as the setpoints of parameter \"y\".\n",
    "\n",
    "This is most likely to be useful for instruments that return arrays of results. In this notebook, we will show an example of this."
   ]
  },
  {
   "cell_type": "code",
   "execution_count": 1,
   "metadata": {},
   "outputs": [],
   "source": [
    "import numpy as np\n",
    "import os"
   ]
  },
  {
   "cell_type": "code",
   "execution_count": 2,
   "metadata": {},
   "outputs": [
    {
     "name": "stdout",
     "output_type": "stream",
     "text": [
      "Logging hadn't been started.\n",
      "Activating auto-logging. Current session state plus future input saved.\n",
      "Filename       : /home/vsts/.qcodes/logs/command_history.log\n",
      "Mode           : append\n",
      "Output logging : True\n",
      "Raw input log  : False\n",
      "Timestamping   : True\n",
      "State          : active\n"
     ]
    },
    {
     "name": "stdout",
     "output_type": "stream",
     "text": [
      "Qcodes Logfile : /home/vsts/.qcodes/logs/200324-21585-qcodes.log\n"
     ]
    }
   ],
   "source": [
    "from qcodes.dataset.plotting import plot_dataset\n",
    "from qcodes.utils.validators import Numbers, Arrays\n",
    "from qcodes.instrument.base import Instrument\n",
    "from qcodes.dataset.measurements import Measurement"
   ]
  },
  {
   "cell_type": "code",
   "execution_count": 3,
   "metadata": {},
   "outputs": [],
   "source": [
    "from qcodes.dataset.sqlite.database import initialise_or_create_database_at\n",
    "from qcodes.dataset.experiment_container import load_or_create_experiment"
   ]
  },
  {
   "cell_type": "code",
   "execution_count": 4,
   "metadata": {},
   "outputs": [],
   "source": [
    "from qcodes.instrument.parameter import ParameterWithSetpoints, Parameter\n",
    "from qcodes.instrument.parameter import expand_setpoints_helper"
   ]
  },
  {
   "cell_type": "markdown",
   "metadata": {},
   "source": [
    "First, we define a dummy instrument that returns something like a frequency spectrum starting from a frequency given by `f_start` to a frequency given by `f_stop` in `n_points` steps. \n",
    "\n",
    "The extra functionality of the `ParameterWithSetpoints` is implemented by giving it a reference to one or more parameters that acts like its setpoints. \n",
    "\n",
    "To setup a `ParameterWithSetpoints` we have to do two things in addition to what we do for a normal parameter.\n",
    "\n",
    "* Define one or more parameter for the setpoints (one for each dimension of the array and let the `ParameterWithSetpoints` know that these are the setpoints.\n",
    "* Give both the setpoints parameter(s) and the `ParameterWithSetpoints` a `validator` of type `Arrays` with a shape. The shapes should be such that the combined shape of the setpoints matches the shape of the `ParameterWithSetpoints`. Note that if the shape changes with the setting of the instrument, it can be defined by another parameter as shown below. "
   ]
  },
  {
   "cell_type": "code",
   "execution_count": 5,
   "metadata": {},
   "outputs": [],
   "source": [
    "class GeneratedSetPoints(Parameter):\n",
    "    \"\"\"\n",
    "    A parameter that generates a setpoint array from start, stop and num points\n",
    "    parameters.\n",
    "    \"\"\"\n",
    "    def __init__(self, startparam, stopparam, numpointsparam, *args, **kwargs):\n",
    "        super().__init__(*args, **kwargs)\n",
    "        self._startparam = startparam\n",
    "        self._stopparam = stopparam\n",
    "        self._numpointsparam = numpointsparam\n",
    "\n",
    "    def get_raw(self):\n",
    "        return np.linspace(self._startparam(), self._stopparam(),\n",
    "                              self._numpointsparam())\n",
    "\n",
    "class DummyArray(ParameterWithSetpoints):\n",
    "    \n",
    "    def get_raw(self):\n",
    "        npoints = self.root_instrument.n_points.get_latest()\n",
    "        return np.random.rand(npoints)\n",
    "    \n",
    "\n",
    "class DummySpectrumAnalyzer(Instrument):\n",
    "    \n",
    "    def __init__(self, name, **kwargs):\n",
    "        \n",
    "        super().__init__(name, **kwargs)\n",
    "            \n",
    "\n",
    "        self.add_parameter('f_start',\n",
    "                           initial_value=0,\n",
    "                           unit='Hz',\n",
    "                           label='f start',\n",
    "                           vals=Numbers(0,1e3),\n",
    "                           get_cmd=None,\n",
    "                           set_cmd=None)\n",
    "\n",
    "        self.add_parameter('f_stop',\n",
    "                           unit='Hz',\n",
    "                           label='f stop',\n",
    "                           vals=Numbers(1,1e3),\n",
    "                           get_cmd=None,\n",
    "                           set_cmd=None)\n",
    "\n",
    "        self.add_parameter('n_points',\n",
    "                           unit='',\n",
    "                           initial_value=10,\n",
    "                           vals=Numbers(1,1e3),\n",
    "                           get_cmd=None,\n",
    "                           set_cmd=None)\n",
    "        \n",
    "        self.add_parameter('freq_axis',\n",
    "                           unit='Hz',\n",
    "                           label='Freq Axis',\n",
    "                           parameter_class=GeneratedSetPoints,\n",
    "                           startparam=self.f_start,\n",
    "                           stopparam=self.f_stop,\n",
    "                           numpointsparam=self.n_points,\n",
    "                           vals=Arrays(shape=(self.n_points.get_latest,)))\n",
    "                           \n",
    "        self.add_parameter('spectrum',\n",
    "                   unit='dBm',\n",
    "                   setpoints=(self.freq_axis,),\n",
    "                   label='Spectrum',\n",
    "                   parameter_class=DummyArray,\n",
    "                   vals=Arrays(shape=(self.n_points.get_latest,)))\n",
    "                "
   ]
  },
  {
   "cell_type": "markdown",
   "metadata": {},
   "source": [
    "In the above example, the shape is defined by the parameter `n_points` that defines how many samples our `DummySpectrumAnalyzer` returns.\n",
    "\n",
    "This means that the validation will call the function to get `n_points` twice for each `get` of the parameter. This may be too slow, however, if you (as the driver-writer) can guarantee that the cached value for `n_points` will never be out of sync with the value stored in the instrument, `n_points` may be replaced by it's latest known value such that the `validator` reads:\n",
    "```python\n",
    "vals=Arrays(shape=(self.n_points.get_latest))\n",
    "```\n",
    "\n",
    "This avoids any additional call to the instrument. In the same way, the arguments to the `freq_axis` parameter that defines the start, stop and number of points can be replaced by their latest value if the instrument allows it.\n",
    "\n"
   ]
  },
  {
   "cell_type": "code",
   "execution_count": 6,
   "metadata": {},
   "outputs": [
    {
     "name": "stdout",
     "output_type": "stream",
     "text": [
      "\r",
      "0it [00:00, ?it/s]"
     ]
    },
    {
     "name": "stdout",
     "output_type": "stream",
     "text": [
      "\r",
      "Upgrading database; v0 -> v1: : 0it [00:00, ?it/s]"
     ]
    },
    {
     "name": "stdout",
     "output_type": "stream",
     "text": [
      "\r",
      "Upgrading database; v0 -> v1: : 0it [00:00, ?it/s]"
     ]
    },
    {
     "name": "stdout",
     "output_type": "stream",
     "text": [
      "\n",
      "\r",
      "  0%|          | 0/1 [00:00<?, ?it/s]"
     ]
    },
    {
     "name": "stdout",
     "output_type": "stream",
     "text": [
      "\r",
      "Upgrading database; v1 -> v2:   0%|          | 0/1 [00:00<?, ?it/s]"
     ]
    },
    {
     "name": "stdout",
     "output_type": "stream",
     "text": [
      "\r",
      "Upgrading database; v1 -> v2: 100%|██████████| 1/1 [00:00<00:00, 898.14it/s]"
     ]
    },
    {
     "name": "stdout",
     "output_type": "stream",
     "text": [
      "\n",
      "\r",
      "0it [00:00, ?it/s]"
     ]
    },
    {
     "name": "stdout",
     "output_type": "stream",
     "text": [
      "\r",
      "Upgrading database; v2 -> v3: : 0it [00:00, ?it/s]"
     ]
    },
    {
     "name": "stdout",
     "output_type": "stream",
     "text": [
      "\r",
      "Upgrading database; v2 -> v3: : 0it [00:00, ?it/s]"
     ]
    },
    {
     "name": "stdout",
     "output_type": "stream",
     "text": [
      "\n",
      "\r",
      "0it [00:00, ?it/s]"
     ]
    },
    {
     "name": "stdout",
     "output_type": "stream",
     "text": [
      "\r",
      "Upgrading database; v3 -> v4: : 0it [00:00, ?it/s]"
     ]
    },
    {
     "name": "stdout",
     "output_type": "stream",
     "text": [
      "\r",
      "Upgrading database; v3 -> v4: : 0it [00:00, ?it/s]"
     ]
    },
    {
     "name": "stdout",
     "output_type": "stream",
     "text": [
      "\n",
      "\r",
      "  0%|          | 0/1 [00:00<?, ?it/s]"
     ]
    },
    {
     "name": "stdout",
     "output_type": "stream",
     "text": [
      "\r",
      "Upgrading database; v4 -> v5:   0%|          | 0/1 [00:00<?, ?it/s]"
     ]
    },
    {
     "name": "stdout",
     "output_type": "stream",
     "text": [
      "\r",
      "Upgrading database; v4 -> v5: 100%|██████████| 1/1 [00:00<00:00, 831.87it/s]"
     ]
    },
    {
     "name": "stdout",
     "output_type": "stream",
     "text": [
      "\n",
      "\r",
      "0it [00:00, ?it/s]"
     ]
    },
    {
     "name": "stdout",
     "output_type": "stream",
     "text": [
      "\r",
      "Upgrading database; v5 -> v6: : 0it [00:00, ?it/s]"
     ]
    },
    {
     "name": "stdout",
     "output_type": "stream",
     "text": [
      "\r",
      "Upgrading database; v5 -> v6: : 0it [00:00, ?it/s]"
     ]
    },
    {
     "name": "stdout",
     "output_type": "stream",
     "text": [
      "\n",
      "\r",
      "  0%|          | 0/1 [00:00<?, ?it/s]"
     ]
    },
    {
     "name": "stdout",
     "output_type": "stream",
     "text": [
      "\r",
      "Upgrading database; v6 -> v7:   0%|          | 0/1 [00:00<?, ?it/s]"
     ]
    },
    {
     "name": "stdout",
     "output_type": "stream",
     "text": [
      "\r",
      "Upgrading database; v6 -> v7: 100%|██████████| 1/1 [00:00<00:00, 352.76it/s]"
     ]
    },
    {
     "name": "stdout",
     "output_type": "stream",
     "text": [
      "\n",
      "\r",
      "  0%|          | 0/1 [00:00<?, ?it/s]"
     ]
    },
    {
     "name": "stdout",
     "output_type": "stream",
     "text": [
      "\r",
      "Upgrading database; v7 -> v8:   0%|          | 0/1 [00:00<?, ?it/s]"
     ]
    },
    {
     "name": "stdout",
     "output_type": "stream",
     "text": [
      "\r",
      "Upgrading database; v7 -> v8: 100%|██████████| 1/1 [00:00<00:00, 789.44it/s]"
     ]
    },
    {
     "name": "stdout",
     "output_type": "stream",
     "text": [
      "\n",
      "\r",
      "  0%|          | 0/1 [00:00<?, ?it/s]"
     ]
    },
    {
     "name": "stdout",
     "output_type": "stream",
     "text": [
      "\r",
      "Upgrading database; v8 -> v9:   0%|          | 0/1 [00:00<?, ?it/s]"
     ]
    },
    {
     "name": "stdout",
     "output_type": "stream",
     "text": [
      "\r",
      "Upgrading database; v8 -> v9: 100%|██████████| 1/1 [00:00<00:00, 640.35it/s]"
     ]
    },
    {
     "name": "stdout",
     "output_type": "stream",
     "text": [
      "\n"
     ]
    },
    {
     "data": {
      "text/plain": [
       "tutorial_ParameterWithSetpoints#no sample#1@/home/vsts/work/1/s/docs/examples/Parameters/tutorial_paramter_with_setpoints.db\n",
       "----------------------------------------------------------------------------------------------------------------------------"
      ]
     },
     "execution_count": 6,
     "metadata": {},
     "output_type": "execute_result"
    }
   ],
   "source": [
    "tutorial_db_path = os.path.join(os.getcwd(), 'tutorial_paramter_with_setpoints.db')\n",
    "initialise_or_create_database_at(tutorial_db_path)\n",
    "load_or_create_experiment(experiment_name='tutorial_ParameterWithSetpoints', sample_name=\"no sample\")"
   ]
  },
  {
   "cell_type": "code",
   "execution_count": 7,
   "metadata": {},
   "outputs": [],
   "source": [
    "a = DummySpectrumAnalyzer('foobar')"
   ]
  },
  {
   "cell_type": "markdown",
   "metadata": {},
   "source": [
    "First we setup the limits of the spectrum"
   ]
  },
  {
   "cell_type": "code",
   "execution_count": 8,
   "metadata": {},
   "outputs": [],
   "source": [
    "a.f_start(0)\n",
    "a.f_stop(500)\n",
    "a.n_points(501)"
   ]
  },
  {
   "cell_type": "markdown",
   "metadata": {},
   "source": [
    "And we can grab the frequency axis"
   ]
  },
  {
   "cell_type": "code",
   "execution_count": 9,
   "metadata": {},
   "outputs": [
    {
     "data": {
      "text/plain": [
       "501"
      ]
     },
     "execution_count": 9,
     "metadata": {},
     "output_type": "execute_result"
    }
   ],
   "source": [
    "a.n_points()"
   ]
  },
  {
   "cell_type": "code",
   "execution_count": 10,
   "metadata": {
    "scrolled": false
   },
   "outputs": [
    {
     "data": {
      "text/plain": [
       "501"
      ]
     },
     "execution_count": 10,
     "metadata": {},
     "output_type": "execute_result"
    }
   ],
   "source": [
    "freq_axis = a.freq_axis()\n",
    "len(freq_axis)"
   ]
  },
  {
   "cell_type": "code",
   "execution_count": 11,
   "metadata": {},
   "outputs": [
    {
     "data": {
      "text/plain": [
       "array([0., 1., 2., 3., 4., 5., 6., 7., 8., 9.])"
      ]
     },
     "execution_count": 11,
     "metadata": {},
     "output_type": "execute_result"
    }
   ],
   "source": [
    "freq_axis[:10]"
   ]
  },
  {
   "cell_type": "markdown",
   "metadata": {},
   "source": [
    "As expected we get a result wit 501 points as we asked for an axis with 501 points. "
   ]
  },
  {
   "cell_type": "markdown",
   "metadata": {},
   "source": [
    "Above we have added a validator to the `freq_axis` parameter encoding the fact that this is an Array with `n_points`. Note that we do not have to supply the number of points as an integer but can supply a function that returns the valid number of points. This would normally be a QCoDeS parameter.\n",
    "\n",
    "This will be checked if we validate the output."
   ]
  },
  {
   "cell_type": "code",
   "execution_count": 12,
   "metadata": {},
   "outputs": [],
   "source": [
    "a.freq_axis.validate(a.freq_axis.get())"
   ]
  },
  {
   "cell_type": "markdown",
   "metadata": {},
   "source": [
    "Naturally, we can also get the spectrum. Getting the spectrum will automatically perform validation both for the shape of the parameter itself and the relation to the setpoint parameter(s)"
   ]
  },
  {
   "cell_type": "code",
   "execution_count": 13,
   "metadata": {
    "scrolled": true
   },
   "outputs": [
    {
     "data": {
      "text/plain": [
       "501"
      ]
     },
     "execution_count": 13,
     "metadata": {},
     "output_type": "execute_result"
    }
   ],
   "source": [
    "spectrum = a.spectrum.get()\n",
    "len(spectrum)"
   ]
  },
  {
   "cell_type": "markdown",
   "metadata": {},
   "source": [
    "When we validate a `ParameterWithSetpoints`, we automatically validate that the shape is consistent between the parameters and its setpoints. As well as validating the shape as above."
   ]
  },
  {
   "cell_type": "code",
   "execution_count": 14,
   "metadata": {},
   "outputs": [],
   "source": [
    "a.spectrum.validate(a.spectrum.get())"
   ]
  },
  {
   "cell_type": "markdown",
   "metadata": {},
   "source": [
    "The consistent shapes can be validated explicitly."
   ]
  },
  {
   "cell_type": "code",
   "execution_count": 15,
   "metadata": {},
   "outputs": [],
   "source": [
    "a.spectrum.validate_consistent_shape()"
   ]
  },
  {
   "cell_type": "markdown",
   "metadata": {},
   "source": [
    "We can inspect the setpoints of the spectrum."
   ]
  },
  {
   "cell_type": "code",
   "execution_count": 16,
   "metadata": {},
   "outputs": [
    {
     "data": {
      "text/plain": [
       "(<__main__.GeneratedSetPoints: freq_axis at 139741045197840>,)"
      ]
     },
     "execution_count": 16,
     "metadata": {},
     "output_type": "execute_result"
    }
   ],
   "source": [
    "a.spectrum.setpoints"
   ]
  },
  {
   "cell_type": "markdown",
   "metadata": {},
   "source": [
    "Or even change them."
   ]
  },
  {
   "cell_type": "code",
   "execution_count": 17,
   "metadata": {},
   "outputs": [],
   "source": [
    "a.spectrum.setpoints = (a.freq_axis,)"
   ]
  },
  {
   "cell_type": "markdown",
   "metadata": {},
   "source": [
    "## Measurement"
   ]
  },
  {
   "cell_type": "markdown",
   "metadata": {},
   "source": [
    "We can also directly consume the parameter in a measurement without defining the setpoints of the parameter again. The setpoints are automatically obtained from the definition of the `ParameterWithSetpoint` instance. "
   ]
  },
  {
   "cell_type": "code",
   "execution_count": 18,
   "metadata": {},
   "outputs": [
    {
     "name": "stdout",
     "output_type": "stream",
     "text": [
      "Starting experimental run with id: 1. \n"
     ]
    }
   ],
   "source": [
    "meas = Measurement()\n",
    "meas.register_parameter(a.spectrum)\n",
    "\n",
    "with meas.run() as datasaver:\n",
    "    datasaver.add_result((a.freq_axis, a.freq_axis()),\n",
    "                         (a.spectrum, a.spectrum()))\n",
    "    dataset = datasaver.dataset"
   ]
  },
  {
   "cell_type": "markdown",
   "metadata": {},
   "source": [
    "And plot it"
   ]
  },
  {
   "cell_type": "code",
   "execution_count": 19,
   "metadata": {},
   "outputs": [
    {
     "data": {
      "text/plain": [
       "([<matplotlib.axes._subplots.AxesSubplot at 0x7f17ff044a90>], [None])"
      ]
     },
     "execution_count": 19,
     "metadata": {},
     "output_type": "execute_result"
    },
    {
     "data": {
      "image/png": "[encoded data removed]",
      "text/plain": [
       "<Figure size 432x288 with 1 Axes>"
      ]
     },
     "metadata": {
      "needs_background": "light"
     },
     "output_type": "display_data"
    }
   ],
   "source": [
    "plot_dataset(dataset)"
   ]
  },
  {
   "cell_type": "markdown",
   "metadata": {},
   "source": [
    "To reduce the amount of typing a simple convenience function is provided that will take a `ParameterWithSetpoints` and get both its values and the setpoints values and return them as tuples for direct insertion into the Dataset."
   ]
  },
  {
   "cell_type": "code",
   "execution_count": 20,
   "metadata": {
    "scrolled": true
   },
   "outputs": [
    {
     "data": {
      "text/plain": [
       "[(<__main__.GeneratedSetPoints: freq_axis at 139741045197840>,\n",
       "  array([  0.,   1.,   2.,   3.,   4.,   5.,   6.,   7.,   8.,   9.,  10.,\n",
       "          11.,  12.,  13.,  14.,  15.,  16.,  17.,  18.,  19.,  20.,  21.,\n",
       "          22.,  23.,  24.,  25.,  26.,  27.,  28.,  29.,  30.,  31.,  32.,\n",
       "          33.,  34.,  35.,  36.,  37.,  38.,  39.,  40.,  41.,  42.,  43.,\n",
       "          44.,  45.,  46.,  47.,  48.,  49.,  50.,  51.,  52.,  53.,  54.,\n",
       "          55.,  56.,  57.,  58.,  59.,  60.,  61.,  62.,  63.,  64.,  65.,\n",
       "          66.,  67.,  68.,  69.,  70.,  71.,  72.,  73.,  74.,  75.,  76.,\n",
       "          77.,  78.,  79.,  80.,  81.,  82.,  83.,  84.,  85.,  86.,  87.,\n",
       "          88.,  89.,  90.,  91.,  92.,  93.,  94.,  95.,  96.,  97.,  98.,\n",
       "          99., 100., 101., 102., 103., 104., 105., 106., 107., 108., 109.,\n",
       "         110., 111., 112., 113., 114., 115., 116., 117., 118., 119., 120.,\n",
       "         121., 122., 123., 124., 125., 126., 127., 128., 129., 130., 131.,\n",
       "         132., 133., 134., 135., 136., 137., 138., 139., 140., 141., 142.,\n",
       "         143., 144., 145., 146., 147., 148., 149., 150., 151., 152., 153.,\n",
       "         154., 155., 156., 157., 158., 159., 160., 161., 162., 163., 164.,\n",
       "         165., 166., 167., 168., 169., 170., 171., 172., 173., 174., 175.,\n",
       "         176., 177., 178., 179., 180., 181., 182., 183., 184., 185., 186.,\n",
       "         187., 188., 189., 190., 191., 192., 193., 194., 195., 196., 197.,\n",
       "         198., 199., 200., 201., 202., 203., 204., 205., 206., 207., 208.,\n",
       "         209., 210., 211., 212., 213., 214., 215., 216., 217., 218., 219.,\n",
       "         220., 221., 222., 223., 224., 225., 226., 227., 228., 229., 230.,\n",
       "         231., 232., 233., 234., 235., 236., 237., 238., 239., 240., 241.,\n",
       "         242., 243., 244., 245., 246., 247., 248., 249., 250., 251., 252.,\n",
       "         253., 254., 255., 256., 257., 258., 259., 260., 261., 262., 263.,\n",
       "         264., 265., 266., 267., 268., 269., 270., 271., 272., 273., 274.,\n",
       "         275., 276., 277., 278., 279., 280., 281., 282., 283., 284., 285.,\n",
       "         286., 287., 288., 289., 290., 291., 292., 293., 294., 295., 296.,\n",
       "         297., 298., 299., 300., 301., 302., 303., 304., 305., 306., 307.,\n",
       "         308., 309., 310., 311., 312., 313., 314., 315., 316., 317., 318.,\n",
       "         319., 320., 321., 322., 323., 324., 325., 326., 327., 328., 329.,\n",
       "         330., 331., 332., 333., 334., 335., 336., 337., 338., 339., 340.,\n",
       "         341., 342., 343., 344., 345., 346., 347., 348., 349., 350., 351.,\n",
       "         352., 353., 354., 355., 356., 357., 358., 359., 360., 361., 362.,\n",
       "         363., 364., 365., 366., 367., 368., 369., 370., 371., 372., 373.,\n",
       "         374., 375., 376., 377., 378., 379., 380., 381., 382., 383., 384.,\n",
       "         385., 386., 387., 388., 389., 390., 391., 392., 393., 394., 395.,\n",
       "         396., 397., 398., 399., 400., 401., 402., 403., 404., 405., 406.,\n",
       "         407., 408., 409., 410., 411., 412., 413., 414., 415., 416., 417.,\n",
       "         418., 419., 420., 421., 422., 423., 424., 425., 426., 427., 428.,\n",
       "         429., 430., 431., 432., 433., 434., 435., 436., 437., 438., 439.,\n",
       "         440., 441., 442., 443., 444., 445., 446., 447., 448., 449., 450.,\n",
       "         451., 452., 453., 454., 455., 456., 457., 458., 459., 460., 461.,\n",
       "         462., 463., 464., 465., 466., 467., 468., 469., 470., 471., 472.,\n",
       "         473., 474., 475., 476., 477., 478., 479., 480., 481., 482., 483.,\n",
       "         484., 485., 486., 487., 488., 489., 490., 491., 492., 493., 494.,\n",
       "         495., 496., 497., 498., 499., 500.])),\n",
       " (<__main__.DummyArray: spectrum at 139741029846928>,\n",
       "  array([9.64928398e-01, 1.76478326e-01, 4.18672832e-01, 9.74915347e-01,\n",
       "         4.19655493e-01, 7.31949242e-01, 3.24426590e-01, 7.70246117e-01,\n",
       "         5.39606754e-01, 6.18835557e-01, 9.38245327e-01, 1.55175031e-01,\n",
       "         3.24167475e-01, 4.09105646e-02, 9.69251195e-01, 1.13845396e-01,\n",
       "         6.25332109e-01, 3.70525810e-01, 8.68472046e-01, 9.35464426e-02,\n",
       "         2.12143226e-01, 9.09769623e-01, 2.23381795e-01, 8.50299358e-01,\n",
       "         6.27607998e-02, 4.40094909e-01, 2.53261169e-01, 7.70378947e-01,\n",
       "         1.47696482e-01, 1.37036344e-01, 6.70905093e-01, 7.40743627e-01,\n",
       "         9.43148083e-01, 8.98422097e-01, 1.80214245e-01, 9.48432957e-01,\n",
       "         5.81000094e-01, 8.39288143e-01, 9.28134131e-01, 1.73492481e-01,\n",
       "         6.98336834e-01, 6.97880108e-01, 9.24612700e-01, 2.73978873e-01,\n",
       "         5.97890903e-01, 3.22664090e-02, 4.92856482e-01, 6.25252930e-01,\n",
       "         4.99235170e-01, 6.10425978e-01, 3.49837874e-01, 8.47338856e-01,\n",
       "         7.53197873e-01, 8.09487911e-01, 6.96129566e-01, 2.48657757e-01,\n",
       "         9.41505607e-01, 4.56775141e-01, 3.60097558e-02, 8.88567296e-01,\n",
       "         1.48962189e-01, 7.54760925e-01, 3.34090226e-01, 5.54468241e-01,\n",
       "         5.53226246e-01, 6.98065879e-01, 1.12910606e-01, 2.07175076e-01,\n",
       "         3.09272523e-01, 9.39011295e-01, 3.40243115e-01, 5.78895868e-01,\n",
       "         5.09162361e-01, 7.06161940e-01, 3.76801749e-01, 7.18880551e-01,\n",
       "         4.48760984e-01, 8.72458448e-01, 7.22453150e-03, 4.02358849e-01,\n",
       "         5.74213598e-01, 5.45287801e-01, 1.36681370e-01, 4.05590863e-01,\n",
       "         6.08326341e-01, 9.87180900e-03, 4.92608267e-01, 3.06313774e-01,\n",
       "         2.65980280e-01, 9.11540716e-01, 4.27664258e-01, 9.96277879e-02,\n",
       "         8.47954303e-04, 7.67014029e-01, 7.43612548e-01, 7.73421408e-01,\n",
       "         4.58576358e-01, 3.62428476e-01, 7.66883932e-01, 7.80337672e-01,\n",
       "         7.81355748e-01, 1.78606328e-01, 4.54384324e-01, 3.38509600e-01,\n",
       "         6.79541541e-01, 3.66619848e-01, 6.33725907e-02, 8.96868710e-01,\n",
       "         8.98084103e-01, 3.92869662e-02, 1.63585347e-01, 9.17597480e-01,\n",
       "         7.35056010e-01, 4.62923543e-02, 8.74773324e-01, 9.32473439e-01,\n",
       "         4.08876973e-01, 9.69764001e-01, 8.86251063e-01, 7.52604292e-01,\n",
       "         4.98787240e-01, 9.32056207e-01, 5.52712917e-01, 1.49303792e-01,\n",
       "         6.55232643e-01, 9.36282334e-01, 1.34609827e-01, 7.68954980e-01,\n",
       "         2.21586851e-01, 4.33258927e-01, 1.22873279e-01, 2.10358862e-01,\n",
       "         7.94954347e-01, 1.22196888e-01, 3.67619842e-01, 9.21037747e-01,\n",
       "         1.88609155e-01, 3.11889823e-01, 2.94674608e-01, 7.33090671e-02,\n",
       "         8.04516262e-01, 9.18684366e-02, 6.46743143e-01, 9.29324693e-01,\n",
       "         4.21671504e-01, 4.00032666e-01, 8.87008824e-02, 9.38043845e-01,\n",
       "         5.59230002e-02, 5.27821083e-01, 4.51992762e-01, 3.54524451e-01,\n",
       "         7.90553089e-01, 6.27744681e-01, 8.76129852e-01, 7.07405759e-01,\n",
       "         9.82906500e-01, 5.87388315e-01, 2.18188656e-01, 4.63835598e-01,\n",
       "         9.68131444e-02, 8.00486502e-01, 8.46551187e-01, 9.83897046e-02,\n",
       "         5.25184221e-01, 1.23441887e-01, 1.07609801e-01, 1.66847612e-01,\n",
       "         9.44730867e-01, 3.18711866e-01, 4.56297559e-01, 6.43820736e-01,\n",
       "         6.37927283e-02, 5.75190027e-01, 7.17490099e-01, 2.30890238e-01,\n",
       "         4.35479417e-01, 1.82501795e-01, 6.47767422e-01, 6.20271320e-01,\n",
       "         4.50713663e-01, 9.02199408e-01, 1.52523606e-01, 5.22728785e-01,\n",
       "         6.91337126e-01, 2.11481566e-01, 6.71965384e-01, 1.26567912e-01,\n",
       "         2.25432831e-01, 1.51484965e-01, 5.12824562e-01, 2.30116515e-01,\n",
       "         2.48171752e-01, 4.12031072e-01, 4.48410082e-01, 6.91472183e-01,\n",
       "         4.46938503e-01, 4.19624844e-01, 4.46269870e-01, 9.79024401e-01,\n",
       "         1.13919746e-01, 2.31632740e-01, 1.66138895e-04, 2.03592027e-01,\n",
       "         8.53481139e-01, 1.47611294e-01, 8.50470769e-01, 8.85528116e-01,\n",
       "         7.92429629e-01, 5.49624963e-01, 9.56040501e-01, 3.78689523e-01,\n",
       "         8.00918317e-01, 8.29167076e-01, 5.66662222e-01, 7.58772663e-01,\n",
       "         5.40485455e-01, 2.35930394e-01, 9.14028366e-01, 1.17587914e-01,\n",
       "         5.90461614e-02, 3.15925016e-01, 2.78875956e-01, 1.01310332e-01,\n",
       "         8.80339377e-01, 4.06613561e-01, 4.67629053e-02, 2.88642773e-01,\n",
       "         6.27600553e-01, 1.15817468e-01, 2.15269407e-02, 2.55320587e-01,\n",
       "         4.52553848e-01, 8.23998246e-01, 4.23213882e-01, 6.73857447e-01,\n",
       "         6.99967175e-01, 9.47569841e-01, 4.36812311e-01, 8.79990268e-01,\n",
       "         6.29336209e-01, 7.00583422e-02, 3.62679683e-01, 3.84303889e-01,\n",
       "         2.92350517e-01, 7.09392379e-01, 1.68090993e-01, 7.77121582e-01,\n",
       "         1.84683371e-01, 7.10609542e-01, 6.98402264e-02, 6.17924564e-01,\n",
       "         7.02496944e-01, 2.80944615e-02, 4.72573163e-01, 2.78265018e-01,\n",
       "         4.98622169e-01, 6.48148726e-01, 2.80856006e-01, 6.05616746e-01,\n",
       "         8.57727210e-01, 5.75426631e-01, 3.37587598e-01, 9.68878507e-01,\n",
       "         9.13053593e-01, 8.86050471e-01, 4.15452582e-01, 2.30239823e-01,\n",
       "         3.18641021e-02, 6.06764920e-02, 1.59697243e-01, 9.85686730e-01,\n",
       "         6.42036392e-01, 1.85076076e-01, 9.55923960e-01, 4.30873737e-01,\n",
       "         9.55347118e-01, 4.95163042e-01, 1.03511605e-01, 1.81104708e-01,\n",
       "         7.25332476e-01, 4.15751803e-01, 5.04663563e-01, 9.02806886e-02,\n",
       "         1.48409476e-01, 5.00425686e-01, 9.80057987e-01, 7.31698151e-01,\n",
       "         7.13356588e-01, 8.67747948e-02, 9.36822224e-01, 8.39599414e-01,\n",
       "         9.46371259e-02, 9.95516955e-01, 7.51012737e-01, 9.73529380e-01,\n",
       "         7.87516152e-01, 1.93573551e-02, 9.35257619e-01, 3.30517548e-01,\n",
       "         8.37158313e-01, 2.34961524e-02, 6.84996609e-01, 7.60151909e-01,\n",
       "         3.96366594e-01, 3.70834412e-01, 1.31409768e-01, 6.23783705e-02,\n",
       "         7.89686261e-01, 7.45239842e-01, 9.09864891e-02, 3.25759500e-01,\n",
       "         8.99760198e-01, 8.84823156e-01, 8.74354875e-01, 3.12932111e-01,\n",
       "         6.33603867e-01, 8.47949663e-02, 5.92974101e-01, 5.32734287e-01,\n",
       "         9.27167591e-02, 6.43991936e-01, 6.05739121e-01, 8.68999644e-01,\n",
       "         2.59147864e-01, 8.67610423e-01, 7.76100082e-02, 4.23471981e-01,\n",
       "         1.27129173e-01, 5.89259374e-01, 7.26302743e-01, 3.19735197e-01,\n",
       "         3.20813576e-02, 4.98644320e-01, 2.56578756e-01, 6.42808360e-01,\n",
       "         1.72230684e-01, 2.93902643e-01, 7.24427329e-01, 3.08933308e-01,\n",
       "         3.56574646e-02, 4.67234460e-01, 9.00234842e-01, 3.78402190e-01,\n",
       "         6.60890735e-01, 8.81378740e-01, 6.10829363e-01, 3.72997369e-01,\n",
       "         2.17213691e-01, 4.56574498e-01, 7.41055116e-01, 1.45665372e-01,\n",
       "         3.67993693e-01, 4.00619373e-01, 5.24395200e-01, 9.54019502e-01,\n",
       "         3.29529439e-01, 3.80134325e-03, 5.11437632e-01, 3.65376511e-01,\n",
       "         6.44900686e-01, 8.54992139e-01, 2.59961177e-01, 2.28779167e-01,\n",
       "         2.29673760e-01, 2.03030091e-01, 5.59642505e-01, 9.45898694e-01,\n",
       "         1.17880131e-01, 1.30854622e-01, 8.61667357e-01, 3.49538029e-01,\n",
       "         2.93085571e-01, 7.78003895e-01, 3.41209348e-01, 7.30521465e-01,\n",
       "         9.73064085e-01, 2.98492161e-01, 1.68909208e-01, 1.49759309e-01,\n",
       "         5.45196094e-01, 7.19762526e-01, 8.40500254e-02, 2.58126768e-01,\n",
       "         6.44720007e-01, 8.99803741e-01, 5.61041847e-01, 9.95234684e-01,\n",
       "         2.71165636e-01, 4.79082298e-01, 9.23060250e-01, 9.93561093e-01,\n",
       "         5.42026914e-01, 3.90803595e-03, 4.22778585e-01, 3.79586547e-01,\n",
       "         5.28914933e-01, 2.72686481e-02, 1.98780500e-01, 1.60028957e-01,\n",
       "         3.81231399e-01, 4.37619203e-01, 8.36915964e-01, 5.34350167e-01,\n",
       "         2.49737554e-01, 3.26102083e-01, 4.24812850e-01, 3.31712805e-01,\n",
       "         2.48969662e-02, 5.79523927e-01, 6.79800661e-01, 9.33681355e-01,\n",
       "         1.20314479e-01, 5.16633137e-01, 6.63735714e-02, 4.43038683e-01,\n",
       "         4.51681344e-01, 5.30715728e-02, 1.43081191e-02, 4.76841641e-01,\n",
       "         3.53960314e-01, 3.76401720e-02, 6.59215447e-01, 5.32947578e-01,\n",
       "         4.04119113e-01, 2.83396378e-01, 8.28236287e-01, 4.41093833e-02,\n",
       "         7.43696830e-01, 8.29798777e-01, 7.71183913e-01, 4.93452326e-02,\n",
       "         9.39048177e-01, 5.24995138e-01, 7.42290596e-01, 4.38459149e-01,\n",
       "         9.10207055e-02, 9.88796083e-01, 9.66828987e-01, 4.70614846e-01,\n",
       "         7.01821346e-01, 9.57749857e-01, 6.94178300e-01, 6.75767609e-01,\n",
       "         1.69566407e-01, 2.60066627e-01, 3.20217538e-01, 2.42067800e-01,\n",
       "         1.20429923e-01, 9.23908082e-01, 7.42397552e-01, 9.05380470e-03,\n",
       "         1.93904060e-01, 6.59211561e-01, 6.20664424e-02, 1.95566716e-01,\n",
       "         2.42212270e-01, 4.79166279e-01, 1.85969618e-01, 3.09037323e-01,\n",
       "         8.59401746e-01, 7.14533083e-01, 5.08209101e-01, 5.50592811e-01,\n",
       "         8.86233567e-01, 9.45693491e-01, 3.58093231e-02, 9.07977150e-01,\n",
       "         6.74042463e-01, 2.95848482e-01, 8.75189234e-01, 9.04360520e-01,\n",
       "         1.96724980e-01, 6.98059121e-01, 6.06486871e-01, 9.09179051e-01,\n",
       "         3.90040513e-01, 2.55358781e-01, 8.46347429e-01, 2.85639305e-01,\n",
       "         1.09736312e-01, 2.88461185e-01, 7.27176153e-02, 7.23060681e-01,\n",
       "         6.23310340e-01, 7.16068603e-01, 3.05579660e-01, 5.60846666e-01,\n",
       "         1.47482751e-01, 1.88643648e-01, 8.00358393e-01, 2.77873810e-01,\n",
       "         5.26502389e-02, 9.31938558e-01, 5.83714701e-01, 5.17341077e-01,\n",
       "         9.29325993e-01, 4.48036343e-01, 1.17325419e-01, 3.52468026e-01,\n",
       "         6.84623116e-01]))]"
      ]
     },
     "execution_count": 20,
     "metadata": {},
     "output_type": "execute_result"
    }
   ],
   "source": [
    "expand_setpoints_helper(a.spectrum)"
   ]
  },
  {
   "cell_type": "code",
   "execution_count": 21,
   "metadata": {},
   "outputs": [
    {
     "name": "stdout",
     "output_type": "stream",
     "text": [
      "Starting experimental run with id: 2. \n"
     ]
    }
   ],
   "source": [
    "meas = Measurement()\n",
    "meas.register_parameter(a.spectrum)\n",
    "\n",
    "with meas.run() as datasaver:\n",
    "    datasaver.add_result(*expand_setpoints_helper(a.spectrum))\n",
    "    \n",
    "    dataid = datasaver.run_id"
   ]
  },
  {
   "cell_type": "code",
   "execution_count": null,
   "metadata": {},
   "outputs": [],
   "source": []
  }
 ],
 "metadata": {
  "kernelspec": {
   "display_name": "Python 3",
   "language": "python",
   "name": "python3"
  },
  "language_info": {
   "codemirror_mode": {
    "name": "ipython",
    "version": 3
   },
   "file_extension": ".py",
   "mimetype": "text/x-python",
   "name": "python",
   "nbconvert_exporter": "python",
   "pygments_lexer": "ipython3",
   "version": "3.7.5"
  },
  "toc": {
   "base_numbering": 1,
   "nav_menu": {},
   "number_sections": true,
   "sideBar": true,
   "skip_h1_title": false,
   "title_cell": "Table of Contents",
   "title_sidebar": "Contents",
   "toc_cell": false,
   "toc_position": {},
   "toc_section_display": true,
   "toc_window_display": false
  },
  "varInspector": {
   "cols": {
    "lenName": 16,
    "lenType": 16,
    "lenVar": 40
   },
   "kernels_config": {
    "python": {
     "delete_cmd_postfix": "",
     "delete_cmd_prefix": "del ",
     "library": "var_list.py",
     "varRefreshCmd": "print(var_dic_list())"
    },
    "r": {
     "delete_cmd_postfix": ") ",
     "delete_cmd_prefix": "rm(",
     "library": "var_list.r",
     "varRefreshCmd": "cat(var_dic_list()) "
    }
   },
   "types_to_exclude": [
    "module",
    "function",
    "builtin_function_or_method",
    "instance",
    "_Feature"
   ],
   "window_display": false
  }
 },
 "nbformat": 4,
 "nbformat_minor": 2
}
