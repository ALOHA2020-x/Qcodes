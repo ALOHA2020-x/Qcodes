{
 "cells": [
  {
   "cell_type": "markdown",
   "metadata": {},
   "source": [
    "# Simple Example of ParameterWithSetpoints\n",
    "This notebook provides an example for writing a simple driver with a parameter that has setpoints. Let's name this parameter that has setpoints as \"y\". Then, the setpoints, say \"x1, x2, x3 ..\", are the parameters on which the parameter \n",
    "\"y\" depends upon. Meaning \"y\" is a function of \"x1, x2, x3 ...\" where \"x1, x2, x3 ...\" are known as the setpoints of parameter \"y\".\n",
    "\n",
    "This is most likely to be useful for instruments that return arrays of results. In this notebook, we will show an example of this."
   ]
  },
  {
   "cell_type": "code",
   "execution_count": 1,
   "metadata": {},
   "outputs": [],
   "source": [
    "import numpy as np\n",
    "import os"
   ]
  },
  {
   "cell_type": "code",
   "execution_count": 2,
   "metadata": {},
   "outputs": [
    {
     "name": "stdout",
     "output_type": "stream",
     "text": [
      "Logging hadn't been started.\n",
      "Activating auto-logging. Current session state plus future input saved.\n",
      "Filename       : /home/vsts/.qcodes/logs/command_history.log\n",
      "Mode           : append\n",
      "Output logging : True\n",
      "Raw input log  : False\n",
      "Timestamping   : True\n",
      "State          : active\n"
     ]
    },
    {
     "name": "stdout",
     "output_type": "stream",
     "text": [
      "Qcodes Logfile : /home/vsts/.qcodes/logs/200908-21916-qcodes.log\n"
     ]
    }
   ],
   "source": [
    "from qcodes.dataset.plotting import plot_dataset\n",
    "from qcodes.utils.validators import Numbers, Arrays\n",
    "from qcodes.instrument.base import Instrument\n",
    "from qcodes.dataset.measurements import Measurement"
   ]
  },
  {
   "cell_type": "code",
   "execution_count": 3,
   "metadata": {},
   "outputs": [],
   "source": [
    "from qcodes.dataset.sqlite.database import initialise_or_create_database_at\n",
    "from qcodes.dataset.experiment_container import load_or_create_experiment"
   ]
  },
  {
   "cell_type": "code",
   "execution_count": 4,
   "metadata": {},
   "outputs": [],
   "source": [
    "from qcodes.instrument.parameter import ParameterWithSetpoints, Parameter\n",
    "from qcodes.instrument.parameter import expand_setpoints_helper"
   ]
  },
  {
   "cell_type": "markdown",
   "metadata": {},
   "source": [
    "First, we define a dummy instrument that returns something like a frequency spectrum starting from a frequency given by `f_start` to a frequency given by `f_stop` in `n_points` steps. \n",
    "\n",
    "The extra functionality of the `ParameterWithSetpoints` is implemented by giving it a reference to one or more parameters that acts like its setpoints. \n",
    "\n",
    "To setup a `ParameterWithSetpoints` we have to do two things in addition to what we do for a normal parameter.\n",
    "\n",
    "* Define one or more parameter for the setpoints (one for each dimension of the array and let the `ParameterWithSetpoints` know that these are the setpoints.\n",
    "* Give both the setpoints parameter(s) and the `ParameterWithSetpoints` a `validator` of type `Arrays` with a shape. The shapes should be such that the combined shape of the setpoints matches the shape of the `ParameterWithSetpoints`. Note that if the shape changes with the setting of the instrument, it can be defined by another parameter as shown below. "
   ]
  },
  {
   "cell_type": "code",
   "execution_count": 5,
   "metadata": {},
   "outputs": [],
   "source": [
    "class GeneratedSetPoints(Parameter):\n",
    "    \"\"\"\n",
    "    A parameter that generates a setpoint array from start, stop and num points\n",
    "    parameters.\n",
    "    \"\"\"\n",
    "    def __init__(self, startparam, stopparam, numpointsparam, *args, **kwargs):\n",
    "        super().__init__(*args, **kwargs)\n",
    "        self._startparam = startparam\n",
    "        self._stopparam = stopparam\n",
    "        self._numpointsparam = numpointsparam\n",
    "\n",
    "    def get_raw(self):\n",
    "        return np.linspace(self._startparam(), self._stopparam(),\n",
    "                              self._numpointsparam())\n",
    "\n",
    "class DummyArray(ParameterWithSetpoints):\n",
    "    \n",
    "    def get_raw(self):\n",
    "        npoints = self.root_instrument.n_points.get_latest()\n",
    "        return np.random.rand(npoints)\n",
    "    \n",
    "\n",
    "class DummySpectrumAnalyzer(Instrument):\n",
    "    \n",
    "    def __init__(self, name, **kwargs):\n",
    "        \n",
    "        super().__init__(name, **kwargs)\n",
    "            \n",
    "\n",
    "        self.add_parameter('f_start',\n",
    "                           initial_value=0,\n",
    "                           unit='Hz',\n",
    "                           label='f start',\n",
    "                           vals=Numbers(0,1e3),\n",
    "                           get_cmd=None,\n",
    "                           set_cmd=None)\n",
    "\n",
    "        self.add_parameter('f_stop',\n",
    "                           unit='Hz',\n",
    "                           label='f stop',\n",
    "                           vals=Numbers(1,1e3),\n",
    "                           get_cmd=None,\n",
    "                           set_cmd=None)\n",
    "\n",
    "        self.add_parameter('n_points',\n",
    "                           unit='',\n",
    "                           initial_value=10,\n",
    "                           vals=Numbers(1,1e3),\n",
    "                           get_cmd=None,\n",
    "                           set_cmd=None)\n",
    "        \n",
    "        self.add_parameter('freq_axis',\n",
    "                           unit='Hz',\n",
    "                           label='Freq Axis',\n",
    "                           parameter_class=GeneratedSetPoints,\n",
    "                           startparam=self.f_start,\n",
    "                           stopparam=self.f_stop,\n",
    "                           numpointsparam=self.n_points,\n",
    "                           vals=Arrays(shape=(self.n_points.get_latest,)))\n",
    "                           \n",
    "        self.add_parameter('spectrum',\n",
    "                   unit='dBm',\n",
    "                   setpoints=(self.freq_axis,),\n",
    "                   label='Spectrum',\n",
    "                   parameter_class=DummyArray,\n",
    "                   vals=Arrays(shape=(self.n_points.get_latest,)))\n",
    "                "
   ]
  },
  {
   "cell_type": "markdown",
   "metadata": {},
   "source": [
    "In the above example, the shape is defined by the parameter `n_points` that defines how many samples our `DummySpectrumAnalyzer` returns.\n",
    "\n",
    "This means that the validation will call the function to get `n_points` twice for each `get` of the parameter. This may be too slow, however, if you (as the driver-writer) can guarantee that the cached value for `n_points` will never be out of sync with the value stored in the instrument, `n_points` may be replaced by it's latest known value such that the `validator` reads:\n",
    "```python\n",
    "vals=Arrays(shape=(self.n_points.get_latest))\n",
    "```\n",
    "\n",
    "This avoids any additional call to the instrument. In the same way, the arguments to the `freq_axis` parameter that defines the start, stop and number of points can be replaced by their latest value if the instrument allows it.\n",
    "\n"
   ]
  },
  {
   "cell_type": "code",
   "execution_count": 6,
   "metadata": {},
   "outputs": [
    {
     "name": "stdout",
     "output_type": "stream",
     "text": [
      "\r",
      "0it [00:00, ?it/s]"
     ]
    },
    {
     "name": "stdout",
     "output_type": "stream",
     "text": [
      "\r",
      "Upgrading database; v0 -> v1: : 0it [00:00, ?it/s]"
     ]
    },
    {
     "name": "stdout",
     "output_type": "stream",
     "text": [
      "\r",
      "Upgrading database; v0 -> v1: : 0it [00:00, ?it/s]"
     ]
    },
    {
     "name": "stdout",
     "output_type": "stream",
     "text": [
      "\n",
      "\r",
      "  0%|          | 0/1 [00:00<?, ?it/s]"
     ]
    },
    {
     "name": "stdout",
     "output_type": "stream",
     "text": [
      "\r",
      "Upgrading database; v1 -> v2:   0%|          | 0/1 [00:00<?, ?it/s]"
     ]
    },
    {
     "name": "stdout",
     "output_type": "stream",
     "text": [
      "\r",
      "Upgrading database; v1 -> v2: 100%|██████████| 1/1 [00:00<00:00, 747.38it/s]"
     ]
    },
    {
     "name": "stdout",
     "output_type": "stream",
     "text": [
      "\n",
      "\r",
      "0it [00:00, ?it/s]"
     ]
    },
    {
     "name": "stdout",
     "output_type": "stream",
     "text": [
      "\r",
      "Upgrading database; v2 -> v3: : 0it [00:00, ?it/s]"
     ]
    },
    {
     "name": "stdout",
     "output_type": "stream",
     "text": [
      "\r",
      "Upgrading database; v2 -> v3: : 0it [00:00, ?it/s]"
     ]
    },
    {
     "name": "stdout",
     "output_type": "stream",
     "text": [
      "\n",
      "\r",
      "0it [00:00, ?it/s]"
     ]
    },
    {
     "name": "stdout",
     "output_type": "stream",
     "text": [
      "\r",
      "Upgrading database; v3 -> v4: : 0it [00:00, ?it/s]"
     ]
    },
    {
     "name": "stdout",
     "output_type": "stream",
     "text": [
      "\r",
      "Upgrading database; v3 -> v4: : 0it [00:00, ?it/s]"
     ]
    },
    {
     "name": "stdout",
     "output_type": "stream",
     "text": [
      "\n",
      "\r",
      "  0%|          | 0/1 [00:00<?, ?it/s]"
     ]
    },
    {
     "name": "stdout",
     "output_type": "stream",
     "text": [
      "\r",
      "Upgrading database; v4 -> v5:   0%|          | 0/1 [00:00<?, ?it/s]"
     ]
    },
    {
     "name": "stdout",
     "output_type": "stream",
     "text": [
      "\r",
      "Upgrading database; v4 -> v5: 100%|██████████| 1/1 [00:00<00:00, 586.53it/s]"
     ]
    },
    {
     "name": "stdout",
     "output_type": "stream",
     "text": [
      "\n",
      "\r",
      "0it [00:00, ?it/s]"
     ]
    },
    {
     "name": "stdout",
     "output_type": "stream",
     "text": [
      "\r",
      "Upgrading database; v5 -> v6: : 0it [00:00, ?it/s]"
     ]
    },
    {
     "name": "stdout",
     "output_type": "stream",
     "text": [
      "\r",
      "Upgrading database; v5 -> v6: : 0it [00:00, ?it/s]"
     ]
    },
    {
     "name": "stdout",
     "output_type": "stream",
     "text": [
      "\n",
      "\r",
      "  0%|          | 0/1 [00:00<?, ?it/s]"
     ]
    },
    {
     "name": "stdout",
     "output_type": "stream",
     "text": [
      "\r",
      "Upgrading database; v6 -> v7:   0%|          | 0/1 [00:00<?, ?it/s]"
     ]
    },
    {
     "name": "stdout",
     "output_type": "stream",
     "text": [
      "\r",
      "Upgrading database; v6 -> v7: 100%|██████████| 1/1 [00:00<00:00, 362.52it/s]"
     ]
    },
    {
     "name": "stdout",
     "output_type": "stream",
     "text": [
      "\n",
      "\r",
      "  0%|          | 0/1 [00:00<?, ?it/s]"
     ]
    },
    {
     "name": "stdout",
     "output_type": "stream",
     "text": [
      "\r",
      "Upgrading database; v7 -> v8:   0%|          | 0/1 [00:00<?, ?it/s]"
     ]
    },
    {
     "name": "stdout",
     "output_type": "stream",
     "text": [
      "\r",
      "Upgrading database; v7 -> v8: 100%|██████████| 1/1 [00:00<00:00, 690.53it/s]"
     ]
    },
    {
     "name": "stdout",
     "output_type": "stream",
     "text": [
      "\n",
      "\r",
      "  0%|          | 0/1 [00:00<?, ?it/s]"
     ]
    },
    {
     "name": "stdout",
     "output_type": "stream",
     "text": [
      "\r",
      "Upgrading database; v8 -> v9:   0%|          | 0/1 [00:00<?, ?it/s]"
     ]
    },
    {
     "name": "stdout",
     "output_type": "stream",
     "text": [
      "\r",
      "Upgrading database; v8 -> v9: 100%|██████████| 1/1 [00:00<00:00, 868.93it/s]"
     ]
    },
    {
     "name": "stdout",
     "output_type": "stream",
     "text": [
      "\n"
     ]
    },
    {
     "data": {
      "text/plain": [
       "tutorial_ParameterWithSetpoints#no sample#1@/home/vsts/work/1/s/docs/examples/Parameters/tutorial_paramter_with_setpoints.db\n",
       "----------------------------------------------------------------------------------------------------------------------------"
      ]
     },
     "execution_count": 6,
     "metadata": {},
     "output_type": "execute_result"
    }
   ],
   "source": [
    "tutorial_db_path = os.path.join(os.getcwd(), 'tutorial_paramter_with_setpoints.db')\n",
    "initialise_or_create_database_at(tutorial_db_path)\n",
    "load_or_create_experiment(experiment_name='tutorial_ParameterWithSetpoints', sample_name=\"no sample\")"
   ]
  },
  {
   "cell_type": "code",
   "execution_count": 7,
   "metadata": {},
   "outputs": [],
   "source": [
    "a = DummySpectrumAnalyzer('foobar')"
   ]
  },
  {
   "cell_type": "markdown",
   "metadata": {},
   "source": [
    "First we setup the limits of the spectrum"
   ]
  },
  {
   "cell_type": "code",
   "execution_count": 8,
   "metadata": {},
   "outputs": [],
   "source": [
    "a.f_start(0)\n",
    "a.f_stop(500)\n",
    "a.n_points(501)"
   ]
  },
  {
   "cell_type": "markdown",
   "metadata": {},
   "source": [
    "And we can grab the frequency axis"
   ]
  },
  {
   "cell_type": "code",
   "execution_count": 9,
   "metadata": {},
   "outputs": [
    {
     "data": {
      "text/plain": [
       "501"
      ]
     },
     "execution_count": 9,
     "metadata": {},
     "output_type": "execute_result"
    }
   ],
   "source": [
    "a.n_points()"
   ]
  },
  {
   "cell_type": "code",
   "execution_count": 10,
   "metadata": {
    "scrolled": false
   },
   "outputs": [
    {
     "data": {
      "text/plain": [
       "501"
      ]
     },
     "execution_count": 10,
     "metadata": {},
     "output_type": "execute_result"
    }
   ],
   "source": [
    "freq_axis = a.freq_axis()\n",
    "len(freq_axis)"
   ]
  },
  {
   "cell_type": "code",
   "execution_count": 11,
   "metadata": {},
   "outputs": [
    {
     "data": {
      "text/plain": [
       "array([0., 1., 2., 3., 4., 5., 6., 7., 8., 9.])"
      ]
     },
     "execution_count": 11,
     "metadata": {},
     "output_type": "execute_result"
    }
   ],
   "source": [
    "freq_axis[:10]"
   ]
  },
  {
   "cell_type": "markdown",
   "metadata": {},
   "source": [
    "As expected we get a result wit 501 points as we asked for an axis with 501 points. "
   ]
  },
  {
   "cell_type": "markdown",
   "metadata": {},
   "source": [
    "Above we have added a validator to the `freq_axis` parameter encoding the fact that this is an Array with `n_points`. Note that we do not have to supply the number of points as an integer but can supply a function that returns the valid number of points. This would normally be a QCoDeS parameter.\n",
    "\n",
    "This will be checked if we validate the output."
   ]
  },
  {
   "cell_type": "code",
   "execution_count": 12,
   "metadata": {},
   "outputs": [],
   "source": [
    "a.freq_axis.validate(a.freq_axis.get())"
   ]
  },
  {
   "cell_type": "markdown",
   "metadata": {},
   "source": [
    "Naturally, we can also get the spectrum. Getting the spectrum will automatically perform validation both for the shape of the parameter itself and the relation to the setpoint parameter(s)"
   ]
  },
  {
   "cell_type": "code",
   "execution_count": 13,
   "metadata": {
    "scrolled": true
   },
   "outputs": [
    {
     "data": {
      "text/plain": [
       "501"
      ]
     },
     "execution_count": 13,
     "metadata": {},
     "output_type": "execute_result"
    }
   ],
   "source": [
    "spectrum = a.spectrum.get()\n",
    "len(spectrum)"
   ]
  },
  {
   "cell_type": "markdown",
   "metadata": {},
   "source": [
    "When we validate a `ParameterWithSetpoints`, we automatically validate that the shape is consistent between the parameters and its setpoints. As well as validating the shape as above."
   ]
  },
  {
   "cell_type": "code",
   "execution_count": 14,
   "metadata": {},
   "outputs": [],
   "source": [
    "a.spectrum.validate(a.spectrum.get())"
   ]
  },
  {
   "cell_type": "markdown",
   "metadata": {},
   "source": [
    "The consistent shapes can be validated explicitly."
   ]
  },
  {
   "cell_type": "code",
   "execution_count": 15,
   "metadata": {},
   "outputs": [],
   "source": [
    "a.spectrum.validate_consistent_shape()"
   ]
  },
  {
   "cell_type": "markdown",
   "metadata": {},
   "source": [
    "We can inspect the setpoints of the spectrum."
   ]
  },
  {
   "cell_type": "code",
   "execution_count": 16,
   "metadata": {},
   "outputs": [
    {
     "data": {
      "text/plain": [
       "(<__main__.GeneratedSetPoints: freq_axis at 139731184436944>,)"
      ]
     },
     "execution_count": 16,
     "metadata": {},
     "output_type": "execute_result"
    }
   ],
   "source": [
    "a.spectrum.setpoints"
   ]
  },
  {
   "cell_type": "markdown",
   "metadata": {},
   "source": [
    "Or even change them."
   ]
  },
  {
   "cell_type": "code",
   "execution_count": 17,
   "metadata": {},
   "outputs": [],
   "source": [
    "a.spectrum.setpoints = (a.freq_axis,)"
   ]
  },
  {
   "cell_type": "markdown",
   "metadata": {},
   "source": [
    "## Measurement"
   ]
  },
  {
   "cell_type": "markdown",
   "metadata": {},
   "source": [
    "We can also directly consume the parameter in a measurement without defining the setpoints of the parameter again. The setpoints are automatically obtained from the definition of the `ParameterWithSetpoint` instance. "
   ]
  },
  {
   "cell_type": "code",
   "execution_count": 18,
   "metadata": {},
   "outputs": [
    {
     "name": "stdout",
     "output_type": "stream",
     "text": [
      "Starting experimental run with id: 1. \n"
     ]
    }
   ],
   "source": [
    "meas = Measurement()\n",
    "meas.register_parameter(a.spectrum)\n",
    "\n",
    "with meas.run() as datasaver:\n",
    "    datasaver.add_result((a.freq_axis, a.freq_axis()),\n",
    "                         (a.spectrum, a.spectrum()))\n",
    "    dataset = datasaver.dataset"
   ]
  },
  {
   "cell_type": "markdown",
   "metadata": {},
   "source": [
    "And plot it"
   ]
  },
  {
   "cell_type": "code",
   "execution_count": 19,
   "metadata": {},
   "outputs": [
    {
     "data": {
      "text/plain": [
       "([<matplotlib.axes._subplots.AxesSubplot at 0x7f15b3980cd0>], [None])"
      ]
     },
     "execution_count": 19,
     "metadata": {},
     "output_type": "execute_result"
    },
    {
     "data": {
      "image/png": "[encoded data removed]",
      "text/plain": [
       "<Figure size 432x288 with 1 Axes>"
      ]
     },
     "metadata": {
      "needs_background": "light"
     },
     "output_type": "display_data"
    }
   ],
   "source": [
    "plot_dataset(dataset)"
   ]
  },
  {
   "cell_type": "markdown",
   "metadata": {},
   "source": [
    "To reduce the amount of typing a simple convenience function is provided that will take a `ParameterWithSetpoints` and get both its values and the setpoints values and return them as tuples for direct insertion into the Dataset."
   ]
  },
  {
   "cell_type": "code",
   "execution_count": 20,
   "metadata": {
    "scrolled": true
   },
   "outputs": [
    {
     "data": {
      "text/plain": [
       "[(<__main__.GeneratedSetPoints: freq_axis at 139731184436944>,\n",
       "  array([  0.,   1.,   2.,   3.,   4.,   5.,   6.,   7.,   8.,   9.,  10.,\n",
       "          11.,  12.,  13.,  14.,  15.,  16.,  17.,  18.,  19.,  20.,  21.,\n",
       "          22.,  23.,  24.,  25.,  26.,  27.,  28.,  29.,  30.,  31.,  32.,\n",
       "          33.,  34.,  35.,  36.,  37.,  38.,  39.,  40.,  41.,  42.,  43.,\n",
       "          44.,  45.,  46.,  47.,  48.,  49.,  50.,  51.,  52.,  53.,  54.,\n",
       "          55.,  56.,  57.,  58.,  59.,  60.,  61.,  62.,  63.,  64.,  65.,\n",
       "          66.,  67.,  68.,  69.,  70.,  71.,  72.,  73.,  74.,  75.,  76.,\n",
       "          77.,  78.,  79.,  80.,  81.,  82.,  83.,  84.,  85.,  86.,  87.,\n",
       "          88.,  89.,  90.,  91.,  92.,  93.,  94.,  95.,  96.,  97.,  98.,\n",
       "          99., 100., 101., 102., 103., 104., 105., 106., 107., 108., 109.,\n",
       "         110., 111., 112., 113., 114., 115., 116., 117., 118., 119., 120.,\n",
       "         121., 122., 123., 124., 125., 126., 127., 128., 129., 130., 131.,\n",
       "         132., 133., 134., 135., 136., 137., 138., 139., 140., 141., 142.,\n",
       "         143., 144., 145., 146., 147., 148., 149., 150., 151., 152., 153.,\n",
       "         154., 155., 156., 157., 158., 159., 160., 161., 162., 163., 164.,\n",
       "         165., 166., 167., 168., 169., 170., 171., 172., 173., 174., 175.,\n",
       "         176., 177., 178., 179., 180., 181., 182., 183., 184., 185., 186.,\n",
       "         187., 188., 189., 190., 191., 192., 193., 194., 195., 196., 197.,\n",
       "         198., 199., 200., 201., 202., 203., 204., 205., 206., 207., 208.,\n",
       "         209., 210., 211., 212., 213., 214., 215., 216., 217., 218., 219.,\n",
       "         220., 221., 222., 223., 224., 225., 226., 227., 228., 229., 230.,\n",
       "         231., 232., 233., 234., 235., 236., 237., 238., 239., 240., 241.,\n",
       "         242., 243., 244., 245., 246., 247., 248., 249., 250., 251., 252.,\n",
       "         253., 254., 255., 256., 257., 258., 259., 260., 261., 262., 263.,\n",
       "         264., 265., 266., 267., 268., 269., 270., 271., 272., 273., 274.,\n",
       "         275., 276., 277., 278., 279., 280., 281., 282., 283., 284., 285.,\n",
       "         286., 287., 288., 289., 290., 291., 292., 293., 294., 295., 296.,\n",
       "         297., 298., 299., 300., 301., 302., 303., 304., 305., 306., 307.,\n",
       "         308., 309., 310., 311., 312., 313., 314., 315., 316., 317., 318.,\n",
       "         319., 320., 321., 322., 323., 324., 325., 326., 327., 328., 329.,\n",
       "         330., 331., 332., 333., 334., 335., 336., 337., 338., 339., 340.,\n",
       "         341., 342., 343., 344., 345., 346., 347., 348., 349., 350., 351.,\n",
       "         352., 353., 354., 355., 356., 357., 358., 359., 360., 361., 362.,\n",
       "         363., 364., 365., 366., 367., 368., 369., 370., 371., 372., 373.,\n",
       "         374., 375., 376., 377., 378., 379., 380., 381., 382., 383., 384.,\n",
       "         385., 386., 387., 388., 389., 390., 391., 392., 393., 394., 395.,\n",
       "         396., 397., 398., 399., 400., 401., 402., 403., 404., 405., 406.,\n",
       "         407., 408., 409., 410., 411., 412., 413., 414., 415., 416., 417.,\n",
       "         418., 419., 420., 421., 422., 423., 424., 425., 426., 427., 428.,\n",
       "         429., 430., 431., 432., 433., 434., 435., 436., 437., 438., 439.,\n",
       "         440., 441., 442., 443., 444., 445., 446., 447., 448., 449., 450.,\n",
       "         451., 452., 453., 454., 455., 456., 457., 458., 459., 460., 461.,\n",
       "         462., 463., 464., 465., 466., 467., 468., 469., 470., 471., 472.,\n",
       "         473., 474., 475., 476., 477., 478., 479., 480., 481., 482., 483.,\n",
       "         484., 485., 486., 487., 488., 489., 490., 491., 492., 493., 494.,\n",
       "         495., 496., 497., 498., 499., 500.])),\n",
       " (<__main__.DummyArray: spectrum at 139731184127632>,\n",
       "  array([8.03151968e-01, 1.32594384e-01, 9.25972316e-01, 2.50457515e-01,\n",
       "         6.24636326e-01, 8.61666198e-01, 7.58128576e-01, 3.77930024e-01,\n",
       "         7.58883131e-01, 7.37320950e-01, 3.61687775e-02, 6.12755993e-02,\n",
       "         9.64851498e-01, 7.33266124e-01, 8.15686316e-01, 7.81458966e-02,\n",
       "         4.17252859e-01, 9.18500738e-01, 7.72180331e-01, 8.69601322e-01,\n",
       "         5.26825318e-01, 8.48241861e-01, 2.14261478e-01, 7.41423423e-01,\n",
       "         2.44417733e-01, 4.70137732e-01, 1.99127762e-01, 8.03710775e-01,\n",
       "         4.23693705e-01, 1.92895416e-01, 1.35820566e-01, 3.76257964e-02,\n",
       "         9.22021089e-01, 8.12927336e-01, 2.32261775e-01, 4.53245213e-01,\n",
       "         6.32295935e-01, 8.84519278e-01, 5.33969236e-01, 7.55498757e-01,\n",
       "         5.96029627e-01, 7.23405504e-01, 5.43400839e-01, 7.22534538e-01,\n",
       "         3.89584776e-01, 6.27999774e-01, 9.01015656e-01, 5.86347272e-01,\n",
       "         4.62027564e-01, 9.82187485e-02, 7.18390379e-01, 7.48502781e-01,\n",
       "         2.87648488e-02, 1.58768500e-01, 1.85560599e-01, 6.16186572e-01,\n",
       "         3.90430415e-01, 8.08353585e-01, 1.32793770e-01, 1.58287122e-02,\n",
       "         7.72235657e-01, 7.02967366e-01, 7.81198972e-02, 3.75311976e-01,\n",
       "         5.74586391e-01, 4.33868277e-01, 1.16322302e-01, 6.90497413e-02,\n",
       "         7.18577108e-01, 3.33272767e-01, 2.38602375e-01, 6.71079803e-01,\n",
       "         7.12696575e-01, 9.48194443e-01, 7.71686247e-01, 8.32066862e-01,\n",
       "         5.12900766e-01, 8.97750181e-01, 8.31023704e-01, 2.14473326e-01,\n",
       "         1.45534214e-01, 8.68680501e-01, 8.69440915e-02, 6.50376413e-02,\n",
       "         3.94321865e-01, 3.36084471e-01, 4.60807193e-01, 2.75217890e-01,\n",
       "         3.21481987e-01, 5.27355837e-01, 9.28649261e-01, 1.03237197e-01,\n",
       "         3.59372609e-01, 1.31805945e-01, 8.39632457e-01, 2.84093329e-01,\n",
       "         5.65964395e-01, 2.04153799e-01, 4.79553774e-01, 7.20747137e-01,\n",
       "         9.87442748e-01, 6.52892277e-01, 3.92170634e-01, 5.18616886e-01,\n",
       "         9.99581176e-01, 7.20547315e-01, 8.86062601e-01, 2.62776673e-01,\n",
       "         6.22244624e-01, 4.09077649e-01, 5.66973619e-01, 1.12320616e-01,\n",
       "         4.37705056e-01, 9.46811152e-01, 3.47507645e-01, 2.06889254e-01,\n",
       "         5.44142507e-01, 9.92135957e-01, 4.29479910e-01, 4.82404734e-01,\n",
       "         2.14548737e-01, 1.46178272e-01, 4.79165238e-01, 9.69394357e-01,\n",
       "         4.96885915e-01, 7.64442495e-01, 7.50980806e-01, 3.27041147e-01,\n",
       "         9.20058086e-01, 4.90220437e-01, 2.16222087e-01, 3.27821726e-01,\n",
       "         2.89444560e-02, 2.40918270e-01, 2.27697208e-01, 6.91467153e-01,\n",
       "         6.40483672e-01, 1.57094934e-01, 7.62771133e-01, 5.14651185e-01,\n",
       "         5.13530962e-01, 7.24631541e-01, 6.65023195e-01, 5.62222502e-01,\n",
       "         1.52025737e-01, 8.73576058e-02, 9.20485427e-01, 5.14441460e-01,\n",
       "         7.89698946e-01, 3.66255820e-01, 7.23650913e-01, 1.92491483e-01,\n",
       "         7.58484978e-01, 2.56089177e-01, 2.23670548e-01, 1.82387979e-01,\n",
       "         6.04831302e-03, 9.68997861e-01, 5.93471766e-01, 7.98888698e-01,\n",
       "         8.61471069e-01, 1.93340642e-01, 4.87276647e-01, 8.42915385e-01,\n",
       "         9.67040821e-01, 3.67970445e-01, 7.73859903e-01, 5.08832148e-01,\n",
       "         8.50107566e-01, 6.97465946e-01, 9.22091077e-01, 6.20882658e-01,\n",
       "         2.78534587e-01, 3.72315742e-01, 6.29886058e-01, 2.06589438e-01,\n",
       "         3.52622895e-01, 4.93027648e-01, 7.65178258e-01, 1.88732703e-02,\n",
       "         4.23721442e-01, 4.31586887e-01, 4.49681374e-02, 5.65260471e-01,\n",
       "         7.11877381e-01, 9.56538436e-01, 6.45574894e-01, 8.96324874e-01,\n",
       "         2.06271276e-01, 1.77630302e-01, 7.70649130e-01, 9.29282866e-01,\n",
       "         2.39429154e-01, 4.19948791e-01, 1.82544109e-01, 8.32409737e-01,\n",
       "         7.23266813e-01, 8.81715380e-01, 9.78153868e-01, 3.89773136e-01,\n",
       "         7.12650698e-02, 8.52544010e-01, 6.36254661e-01, 2.51903892e-01,\n",
       "         5.42248015e-01, 9.65800265e-01, 9.05742809e-01, 1.89372027e-01,\n",
       "         2.81237504e-01, 3.10616340e-01, 4.49122905e-01, 3.43998676e-01,\n",
       "         1.56509521e-01, 9.16526782e-01, 6.94545757e-01, 5.12608196e-01,\n",
       "         3.95995463e-01, 7.75025704e-01, 8.20349871e-01, 9.90821352e-01,\n",
       "         9.77341371e-01, 8.10620796e-01, 5.60766432e-01, 4.63154020e-01,\n",
       "         3.57117586e-01, 7.98772291e-01, 2.27866387e-02, 2.26424471e-01,\n",
       "         3.20167889e-01, 8.20481296e-01, 3.44472115e-01, 6.98052948e-01,\n",
       "         5.24995033e-01, 7.11587942e-01, 4.35738240e-01, 7.77486839e-01,\n",
       "         4.25487535e-01, 8.56207975e-04, 6.35761646e-01, 8.44673838e-01,\n",
       "         9.49298614e-01, 7.75366593e-01, 6.84011495e-01, 5.75639742e-01,\n",
       "         6.91552742e-01, 4.36700924e-01, 6.79691956e-01, 5.31778070e-01,\n",
       "         7.54872460e-01, 9.82095624e-01, 9.11705525e-01, 6.18350649e-01,\n",
       "         4.20661758e-01, 6.34837090e-01, 5.26569838e-01, 3.75626101e-01,\n",
       "         8.55192926e-01, 4.85027001e-01, 1.41479373e-01, 8.69621917e-01,\n",
       "         7.66112552e-01, 5.96043972e-01, 6.22391725e-02, 8.10853698e-01,\n",
       "         1.38318578e-01, 5.22259136e-01, 4.95344533e-01, 6.15944040e-01,\n",
       "         6.63164333e-01, 3.18621251e-01, 5.46268054e-01, 9.81394498e-01,\n",
       "         9.73054506e-02, 8.06976393e-01, 4.93253230e-01, 5.89048359e-02,\n",
       "         8.71519277e-01, 4.17412854e-01, 2.33606842e-01, 5.63064761e-01,\n",
       "         7.43981298e-01, 2.03467812e-01, 7.72742797e-01, 7.01942557e-01,\n",
       "         5.50374421e-01, 9.33773122e-01, 4.42344503e-01, 1.57758188e-01,\n",
       "         7.38468954e-01, 6.29552108e-01, 9.53623324e-02, 3.64194328e-01,\n",
       "         1.81540388e-01, 3.61021919e-01, 7.56267285e-01, 6.63897518e-02,\n",
       "         3.65307442e-01, 7.83553463e-01, 8.12420526e-02, 5.63463216e-01,\n",
       "         9.58136276e-02, 9.01977188e-01, 3.58431273e-01, 7.02759618e-01,\n",
       "         9.93839693e-01, 4.95587463e-02, 9.48573048e-01, 9.75703915e-01,\n",
       "         8.97781590e-01, 6.09399848e-01, 9.65094942e-01, 7.07452558e-01,\n",
       "         1.24007760e-01, 7.82768013e-01, 1.65427103e-01, 7.11886994e-01,\n",
       "         1.24741585e-02, 7.61042851e-01, 5.10066663e-02, 6.64036797e-01,\n",
       "         5.86112689e-01, 4.60468632e-01, 2.42406066e-01, 2.00365849e-01,\n",
       "         1.31814703e-02, 8.03480077e-01, 2.99129942e-01, 9.15821906e-01,\n",
       "         9.19471019e-01, 5.28053538e-01, 5.62010370e-02, 9.28669721e-01,\n",
       "         1.34736069e-01, 7.99039889e-01, 7.39956212e-02, 6.55849096e-01,\n",
       "         5.00041518e-01, 5.94402062e-01, 5.95619401e-01, 6.06353713e-01,\n",
       "         8.91814096e-01, 8.51182645e-01, 6.46450376e-01, 1.05455463e-01,\n",
       "         1.84177578e-01, 9.78092079e-01, 9.23613106e-01, 5.71773515e-01,\n",
       "         9.38728467e-02, 2.20033801e-01, 1.56048722e-01, 5.85627066e-01,\n",
       "         4.97931010e-01, 7.79460405e-01, 2.26375157e-01, 7.40008266e-02,\n",
       "         1.97068955e-01, 9.84870741e-02, 1.51255964e-01, 8.57254849e-02,\n",
       "         8.70510334e-01, 7.25424222e-01, 1.56537241e-01, 1.98458534e-01,\n",
       "         2.92465855e-01, 9.31209408e-03, 2.13469180e-01, 8.00113450e-01,\n",
       "         7.40941628e-01, 5.23677567e-01, 5.30254630e-01, 1.09767443e-01,\n",
       "         9.47039223e-01, 1.57141268e-01, 8.41665964e-01, 1.88735225e-01,\n",
       "         2.64548664e-01, 1.07001124e-01, 9.96209031e-01, 1.94274354e-01,\n",
       "         2.81749874e-01, 3.54549057e-01, 7.29019148e-01, 6.01436737e-01,\n",
       "         5.60107593e-03, 5.83762398e-01, 6.53922060e-01, 2.41845079e-01,\n",
       "         2.95615872e-01, 9.63257119e-01, 2.83258191e-01, 7.82106362e-01,\n",
       "         2.96888013e-02, 2.18507843e-01, 7.16243908e-01, 3.70954659e-01,\n",
       "         6.40593263e-01, 2.68951044e-01, 5.68389211e-02, 3.21565617e-01,\n",
       "         2.66558078e-01, 5.80395692e-01, 3.22694708e-01, 8.36406379e-01,\n",
       "         1.99678620e-03, 1.89875997e-01, 2.44703121e-01, 4.29882115e-01,\n",
       "         9.72426276e-01, 3.55859643e-01, 9.67822294e-02, 8.28629603e-01,\n",
       "         8.96099211e-01, 3.13422195e-01, 9.95111369e-01, 7.27807903e-01,\n",
       "         8.82358446e-01, 3.67020613e-01, 5.26099406e-01, 4.04133601e-01,\n",
       "         5.01395029e-01, 1.74081519e-01, 3.52358656e-01, 5.32811890e-01,\n",
       "         4.04416249e-01, 9.95214065e-01, 3.87197777e-01, 5.34608899e-01,\n",
       "         7.02234587e-01, 2.52411855e-01, 9.60746576e-01, 2.30166192e-01,\n",
       "         7.79245864e-01, 5.15932737e-01, 5.52883877e-01, 9.47809280e-01,\n",
       "         2.84207546e-01, 8.29584489e-01, 1.54084450e-01, 4.49486596e-01,\n",
       "         8.12323649e-01, 4.88631869e-01, 1.70904252e-01, 7.80946438e-01,\n",
       "         3.99074113e-01, 5.75455546e-01, 5.48664214e-01, 5.53653465e-01,\n",
       "         2.53558668e-02, 9.26634876e-01, 8.53126860e-01, 1.29024017e-01,\n",
       "         6.20668269e-01, 5.99260967e-01, 6.87107266e-01, 4.48473313e-01,\n",
       "         9.63986334e-01, 4.23608724e-02, 6.64753473e-01, 6.57126850e-01,\n",
       "         8.98546498e-01, 5.48034500e-01, 6.80546324e-01, 2.31820252e-01,\n",
       "         2.67772765e-01, 1.15708571e-01, 8.96612661e-01, 1.39322014e-02,\n",
       "         5.29160024e-02, 9.02232888e-01, 1.27086772e-01, 3.43040021e-01,\n",
       "         6.07132374e-01, 9.63166189e-02, 5.41519765e-01, 9.58542446e-02,\n",
       "         7.46019237e-02, 2.68947312e-01, 8.99224525e-01, 7.09866547e-01,\n",
       "         6.07356505e-01, 7.77778546e-01, 4.73179060e-01, 7.50875813e-01,\n",
       "         4.01387866e-01, 6.97576139e-02, 3.58019546e-01, 5.69336592e-01,\n",
       "         5.22846227e-01, 5.28417200e-01, 6.22469420e-01, 4.80311492e-01,\n",
       "         1.53652041e-01, 6.99287454e-01, 7.51679399e-01, 7.09886875e-01,\n",
       "         9.52813872e-01, 4.40162608e-01, 5.58701543e-01, 6.74707324e-01,\n",
       "         8.58722971e-01]))]"
      ]
     },
     "execution_count": 20,
     "metadata": {},
     "output_type": "execute_result"
    }
   ],
   "source": [
    "expand_setpoints_helper(a.spectrum)"
   ]
  },
  {
   "cell_type": "code",
   "execution_count": 21,
   "metadata": {},
   "outputs": [
    {
     "name": "stdout",
     "output_type": "stream",
     "text": [
      "Starting experimental run with id: 2. \n"
     ]
    }
   ],
   "source": [
    "meas = Measurement()\n",
    "meas.register_parameter(a.spectrum)\n",
    "\n",
    "with meas.run() as datasaver:\n",
    "    datasaver.add_result(*expand_setpoints_helper(a.spectrum))\n",
    "    \n",
    "    dataid = datasaver.run_id"
   ]
  },
  {
   "cell_type": "code",
   "execution_count": null,
   "metadata": {},
   "outputs": [],
   "source": []
  }
 ],
 "metadata": {
  "kernelspec": {
   "display_name": "Python 3",
   "language": "python",
   "name": "python3"
  },
  "language_info": {
   "codemirror_mode": {
    "name": "ipython",
    "version": 3
   },
   "file_extension": ".py",
   "mimetype": "text/x-python",
   "name": "python",
   "nbconvert_exporter": "python",
   "pygments_lexer": "ipython3",
   "version": "3.7.7"
  },
  "toc": {
   "base_numbering": 1,
   "nav_menu": {},
   "number_sections": true,
   "sideBar": true,
   "skip_h1_title": false,
   "title_cell": "Table of Contents",
   "title_sidebar": "Contents",
   "toc_cell": false,
   "toc_position": {},
   "toc_section_display": true,
   "toc_window_display": false
  },
  "varInspector": {
   "cols": {
    "lenName": 16,
    "lenType": 16,
    "lenVar": 40
   },
   "kernels_config": {
    "python": {
     "delete_cmd_postfix": "",
     "delete_cmd_prefix": "del ",
     "library": "var_list.py",
     "varRefreshCmd": "print(var_dic_list())"
    },
    "r": {
     "delete_cmd_postfix": ") ",
     "delete_cmd_prefix": "rm(",
     "library": "var_list.r",
     "varRefreshCmd": "cat(var_dic_list()) "
    }
   },
   "types_to_exclude": [
    "module",
    "function",
    "builtin_function_or_method",
    "instance",
    "_Feature"
   ],
   "window_display": false
  }
 },
 "nbformat": 4,
 "nbformat_minor": 2
}
