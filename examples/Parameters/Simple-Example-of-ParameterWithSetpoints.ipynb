{
 "cells": [
  {
   "cell_type": "markdown",
   "metadata": {},
   "source": [
    "# Simple Example of ParameterWithSetpoints\n",
    "This notebook provides an example for writing a simple driver with a parameter that has setpoints. Let's name this parameter that has setpoints as \"y\". Then, the setpoints, say \"x1, x2, x3 ..\", are the parameters on which the parameter \n",
    "\"y\" depends upon. Meaning \"y\" is a function of \"x1, x2, x3 ...\" where \"x1, x2, x3 ...\" are known as the setpoints of parameter \"y\".\n",
    "\n",
    "This is most likely to be useful for instruments that return arrays of results. In this notebook, we will show an example of this."
   ]
  },
  {
   "cell_type": "code",
   "execution_count": 1,
   "metadata": {},
   "outputs": [],
   "source": [
    "import numpy as np\n",
    "import os"
   ]
  },
  {
   "cell_type": "code",
   "execution_count": 2,
   "metadata": {},
   "outputs": [
    {
     "name": "stdout",
     "output_type": "stream",
     "text": [
      "Logging hadn't been started.\n",
      "Activating auto-logging. Current session state plus future input saved.\n",
      "Filename       : /home/vsts/.qcodes/logs/command_history.log\n",
      "Mode           : append\n",
      "Output logging : True\n",
      "Raw input log  : False\n",
      "Timestamping   : True\n",
      "State          : active\n"
     ]
    },
    {
     "name": "stdout",
     "output_type": "stream",
     "text": [
      "Qcodes Logfile : /home/vsts/.qcodes/logs/200804-20566-qcodes.log\n"
     ]
    }
   ],
   "source": [
    "from qcodes.dataset.plotting import plot_dataset\n",
    "from qcodes.utils.validators import Numbers, Arrays\n",
    "from qcodes.instrument.base import Instrument\n",
    "from qcodes.dataset.measurements import Measurement"
   ]
  },
  {
   "cell_type": "code",
   "execution_count": 3,
   "metadata": {},
   "outputs": [],
   "source": [
    "from qcodes.dataset.sqlite.database import initialise_or_create_database_at\n",
    "from qcodes.dataset.experiment_container import load_or_create_experiment"
   ]
  },
  {
   "cell_type": "code",
   "execution_count": 4,
   "metadata": {},
   "outputs": [],
   "source": [
    "from qcodes.instrument.parameter import ParameterWithSetpoints, Parameter\n",
    "from qcodes.instrument.parameter import expand_setpoints_helper"
   ]
  },
  {
   "cell_type": "markdown",
   "metadata": {},
   "source": [
    "First, we define a dummy instrument that returns something like a frequency spectrum starting from a frequency given by `f_start` to a frequency given by `f_stop` in `n_points` steps. \n",
    "\n",
    "The extra functionality of the `ParameterWithSetpoints` is implemented by giving it a reference to one or more parameters that acts like its setpoints. \n",
    "\n",
    "To setup a `ParameterWithSetpoints` we have to do two things in addition to what we do for a normal parameter.\n",
    "\n",
    "* Define one or more parameter for the setpoints (one for each dimension of the array and let the `ParameterWithSetpoints` know that these are the setpoints.\n",
    "* Give both the setpoints parameter(s) and the `ParameterWithSetpoints` a `validator` of type `Arrays` with a shape. The shapes should be such that the combined shape of the setpoints matches the shape of the `ParameterWithSetpoints`. Note that if the shape changes with the setting of the instrument, it can be defined by another parameter as shown below. "
   ]
  },
  {
   "cell_type": "code",
   "execution_count": 5,
   "metadata": {},
   "outputs": [],
   "source": [
    "class GeneratedSetPoints(Parameter):\n",
    "    \"\"\"\n",
    "    A parameter that generates a setpoint array from start, stop and num points\n",
    "    parameters.\n",
    "    \"\"\"\n",
    "    def __init__(self, startparam, stopparam, numpointsparam, *args, **kwargs):\n",
    "        super().__init__(*args, **kwargs)\n",
    "        self._startparam = startparam\n",
    "        self._stopparam = stopparam\n",
    "        self._numpointsparam = numpointsparam\n",
    "\n",
    "    def get_raw(self):\n",
    "        return np.linspace(self._startparam(), self._stopparam(),\n",
    "                              self._numpointsparam())\n",
    "\n",
    "class DummyArray(ParameterWithSetpoints):\n",
    "    \n",
    "    def get_raw(self):\n",
    "        npoints = self.root_instrument.n_points.get_latest()\n",
    "        return np.random.rand(npoints)\n",
    "    \n",
    "\n",
    "class DummySpectrumAnalyzer(Instrument):\n",
    "    \n",
    "    def __init__(self, name, **kwargs):\n",
    "        \n",
    "        super().__init__(name, **kwargs)\n",
    "            \n",
    "\n",
    "        self.add_parameter('f_start',\n",
    "                           initial_value=0,\n",
    "                           unit='Hz',\n",
    "                           label='f start',\n",
    "                           vals=Numbers(0,1e3),\n",
    "                           get_cmd=None,\n",
    "                           set_cmd=None)\n",
    "\n",
    "        self.add_parameter('f_stop',\n",
    "                           unit='Hz',\n",
    "                           label='f stop',\n",
    "                           vals=Numbers(1,1e3),\n",
    "                           get_cmd=None,\n",
    "                           set_cmd=None)\n",
    "\n",
    "        self.add_parameter('n_points',\n",
    "                           unit='',\n",
    "                           initial_value=10,\n",
    "                           vals=Numbers(1,1e3),\n",
    "                           get_cmd=None,\n",
    "                           set_cmd=None)\n",
    "        \n",
    "        self.add_parameter('freq_axis',\n",
    "                           unit='Hz',\n",
    "                           label='Freq Axis',\n",
    "                           parameter_class=GeneratedSetPoints,\n",
    "                           startparam=self.f_start,\n",
    "                           stopparam=self.f_stop,\n",
    "                           numpointsparam=self.n_points,\n",
    "                           vals=Arrays(shape=(self.n_points.get_latest,)))\n",
    "                           \n",
    "        self.add_parameter('spectrum',\n",
    "                   unit='dBm',\n",
    "                   setpoints=(self.freq_axis,),\n",
    "                   label='Spectrum',\n",
    "                   parameter_class=DummyArray,\n",
    "                   vals=Arrays(shape=(self.n_points.get_latest,)))\n",
    "                "
   ]
  },
  {
   "cell_type": "markdown",
   "metadata": {},
   "source": [
    "In the above example, the shape is defined by the parameter `n_points` that defines how many samples our `DummySpectrumAnalyzer` returns.\n",
    "\n",
    "This means that the validation will call the function to get `n_points` twice for each `get` of the parameter. This may be too slow, however, if you (as the driver-writer) can guarantee that the cached value for `n_points` will never be out of sync with the value stored in the instrument, `n_points` may be replaced by it's latest known value such that the `validator` reads:\n",
    "```python\n",
    "vals=Arrays(shape=(self.n_points.get_latest))\n",
    "```\n",
    "\n",
    "This avoids any additional call to the instrument. In the same way, the arguments to the `freq_axis` parameter that defines the start, stop and number of points can be replaced by their latest value if the instrument allows it.\n",
    "\n"
   ]
  },
  {
   "cell_type": "code",
   "execution_count": 6,
   "metadata": {},
   "outputs": [
    {
     "name": "stdout",
     "output_type": "stream",
     "text": [
      "\r",
      "0it [00:00, ?it/s]"
     ]
    },
    {
     "name": "stdout",
     "output_type": "stream",
     "text": [
      "\r",
      "Upgrading database; v0 -> v1: : 0it [00:00, ?it/s]"
     ]
    },
    {
     "name": "stdout",
     "output_type": "stream",
     "text": [
      "\r",
      "Upgrading database; v0 -> v1: : 0it [00:00, ?it/s]"
     ]
    },
    {
     "name": "stdout",
     "output_type": "stream",
     "text": [
      "\n",
      "\r",
      "  0%|          | 0/1 [00:00<?, ?it/s]"
     ]
    },
    {
     "name": "stdout",
     "output_type": "stream",
     "text": [
      "\r",
      "Upgrading database; v1 -> v2:   0%|          | 0/1 [00:00<?, ?it/s]"
     ]
    },
    {
     "name": "stdout",
     "output_type": "stream",
     "text": [
      "\r",
      "Upgrading database; v1 -> v2: 100%|██████████| 1/1 [00:00<00:00, 868.39it/s]"
     ]
    },
    {
     "name": "stdout",
     "output_type": "stream",
     "text": [
      "\n",
      "\r",
      "0it [00:00, ?it/s]"
     ]
    },
    {
     "name": "stdout",
     "output_type": "stream",
     "text": [
      "\r",
      "Upgrading database; v2 -> v3: : 0it [00:00, ?it/s]"
     ]
    },
    {
     "name": "stdout",
     "output_type": "stream",
     "text": [
      "\r",
      "Upgrading database; v2 -> v3: : 0it [00:00, ?it/s]"
     ]
    },
    {
     "name": "stdout",
     "output_type": "stream",
     "text": [
      "\n",
      "\r",
      "0it [00:00, ?it/s]"
     ]
    },
    {
     "name": "stdout",
     "output_type": "stream",
     "text": [
      "\r",
      "Upgrading database; v3 -> v4: : 0it [00:00, ?it/s]"
     ]
    },
    {
     "name": "stdout",
     "output_type": "stream",
     "text": [
      "\r",
      "Upgrading database; v3 -> v4: : 0it [00:00, ?it/s]"
     ]
    },
    {
     "name": "stdout",
     "output_type": "stream",
     "text": [
      "\n",
      "\r",
      "  0%|          | 0/1 [00:00<?, ?it/s]"
     ]
    },
    {
     "name": "stdout",
     "output_type": "stream",
     "text": [
      "\r",
      "Upgrading database; v4 -> v5:   0%|          | 0/1 [00:00<?, ?it/s]"
     ]
    },
    {
     "name": "stdout",
     "output_type": "stream",
     "text": [
      "\r",
      "Upgrading database; v4 -> v5: 100%|██████████| 1/1 [00:00<00:00, 681.89it/s]"
     ]
    },
    {
     "name": "stdout",
     "output_type": "stream",
     "text": [
      "\n",
      "\r",
      "0it [00:00, ?it/s]"
     ]
    },
    {
     "name": "stdout",
     "output_type": "stream",
     "text": [
      "\r",
      "Upgrading database; v5 -> v6: : 0it [00:00, ?it/s]"
     ]
    },
    {
     "name": "stdout",
     "output_type": "stream",
     "text": [
      "\r",
      "Upgrading database; v5 -> v6: : 0it [00:00, ?it/s]"
     ]
    },
    {
     "name": "stdout",
     "output_type": "stream",
     "text": [
      "\n",
      "\r",
      "  0%|          | 0/1 [00:00<?, ?it/s]"
     ]
    },
    {
     "name": "stdout",
     "output_type": "stream",
     "text": [
      "\r",
      "Upgrading database; v6 -> v7:   0%|          | 0/1 [00:00<?, ?it/s]"
     ]
    },
    {
     "name": "stdout",
     "output_type": "stream",
     "text": [
      "\r",
      "Upgrading database; v6 -> v7: 100%|██████████| 1/1 [00:00<00:00, 440.02it/s]"
     ]
    },
    {
     "name": "stdout",
     "output_type": "stream",
     "text": [
      "\n",
      "\r",
      "  0%|          | 0/1 [00:00<?, ?it/s]"
     ]
    },
    {
     "name": "stdout",
     "output_type": "stream",
     "text": [
      "\r",
      "Upgrading database; v7 -> v8:   0%|          | 0/1 [00:00<?, ?it/s]"
     ]
    },
    {
     "name": "stdout",
     "output_type": "stream",
     "text": [
      "\r",
      "Upgrading database; v7 -> v8: 100%|██████████| 1/1 [00:00<00:00, 760.66it/s]"
     ]
    },
    {
     "name": "stdout",
     "output_type": "stream",
     "text": [
      "\n",
      "\r",
      "  0%|          | 0/1 [00:00<?, ?it/s]"
     ]
    },
    {
     "name": "stdout",
     "output_type": "stream",
     "text": [
      "\r",
      "Upgrading database; v8 -> v9:   0%|          | 0/1 [00:00<?, ?it/s]"
     ]
    },
    {
     "name": "stdout",
     "output_type": "stream",
     "text": [
      "\r",
      "Upgrading database; v8 -> v9: 100%|██████████| 1/1 [00:00<00:00, 1151.02it/s]"
     ]
    },
    {
     "name": "stdout",
     "output_type": "stream",
     "text": [
      "\n"
     ]
    },
    {
     "data": {
      "text/plain": [
       "tutorial_ParameterWithSetpoints#no sample#1@/home/vsts/work/1/s/docs/examples/Parameters/tutorial_paramter_with_setpoints.db\n",
       "----------------------------------------------------------------------------------------------------------------------------"
      ]
     },
     "execution_count": 6,
     "metadata": {},
     "output_type": "execute_result"
    }
   ],
   "source": [
    "tutorial_db_path = os.path.join(os.getcwd(), 'tutorial_paramter_with_setpoints.db')\n",
    "initialise_or_create_database_at(tutorial_db_path)\n",
    "load_or_create_experiment(experiment_name='tutorial_ParameterWithSetpoints', sample_name=\"no sample\")"
   ]
  },
  {
   "cell_type": "code",
   "execution_count": 7,
   "metadata": {},
   "outputs": [],
   "source": [
    "a = DummySpectrumAnalyzer('foobar')"
   ]
  },
  {
   "cell_type": "markdown",
   "metadata": {},
   "source": [
    "First we setup the limits of the spectrum"
   ]
  },
  {
   "cell_type": "code",
   "execution_count": 8,
   "metadata": {},
   "outputs": [],
   "source": [
    "a.f_start(0)\n",
    "a.f_stop(500)\n",
    "a.n_points(501)"
   ]
  },
  {
   "cell_type": "markdown",
   "metadata": {},
   "source": [
    "And we can grab the frequency axis"
   ]
  },
  {
   "cell_type": "code",
   "execution_count": 9,
   "metadata": {},
   "outputs": [
    {
     "data": {
      "text/plain": [
       "501"
      ]
     },
     "execution_count": 9,
     "metadata": {},
     "output_type": "execute_result"
    }
   ],
   "source": [
    "a.n_points()"
   ]
  },
  {
   "cell_type": "code",
   "execution_count": 10,
   "metadata": {
    "scrolled": false
   },
   "outputs": [
    {
     "data": {
      "text/plain": [
       "501"
      ]
     },
     "execution_count": 10,
     "metadata": {},
     "output_type": "execute_result"
    }
   ],
   "source": [
    "freq_axis = a.freq_axis()\n",
    "len(freq_axis)"
   ]
  },
  {
   "cell_type": "code",
   "execution_count": 11,
   "metadata": {},
   "outputs": [
    {
     "data": {
      "text/plain": [
       "array([0., 1., 2., 3., 4., 5., 6., 7., 8., 9.])"
      ]
     },
     "execution_count": 11,
     "metadata": {},
     "output_type": "execute_result"
    }
   ],
   "source": [
    "freq_axis[:10]"
   ]
  },
  {
   "cell_type": "markdown",
   "metadata": {},
   "source": [
    "As expected we get a result wit 501 points as we asked for an axis with 501 points. "
   ]
  },
  {
   "cell_type": "markdown",
   "metadata": {},
   "source": [
    "Above we have added a validator to the `freq_axis` parameter encoding the fact that this is an Array with `n_points`. Note that we do not have to supply the number of points as an integer but can supply a function that returns the valid number of points. This would normally be a QCoDeS parameter.\n",
    "\n",
    "This will be checked if we validate the output."
   ]
  },
  {
   "cell_type": "code",
   "execution_count": 12,
   "metadata": {},
   "outputs": [],
   "source": [
    "a.freq_axis.validate(a.freq_axis.get())"
   ]
  },
  {
   "cell_type": "markdown",
   "metadata": {},
   "source": [
    "Naturally, we can also get the spectrum. Getting the spectrum will automatically perform validation both for the shape of the parameter itself and the relation to the setpoint parameter(s)"
   ]
  },
  {
   "cell_type": "code",
   "execution_count": 13,
   "metadata": {
    "scrolled": true
   },
   "outputs": [
    {
     "data": {
      "text/plain": [
       "501"
      ]
     },
     "execution_count": 13,
     "metadata": {},
     "output_type": "execute_result"
    }
   ],
   "source": [
    "spectrum = a.spectrum.get()\n",
    "len(spectrum)"
   ]
  },
  {
   "cell_type": "markdown",
   "metadata": {},
   "source": [
    "When we validate a `ParameterWithSetpoints`, we automatically validate that the shape is consistent between the parameters and its setpoints. As well as validating the shape as above."
   ]
  },
  {
   "cell_type": "code",
   "execution_count": 14,
   "metadata": {},
   "outputs": [],
   "source": [
    "a.spectrum.validate(a.spectrum.get())"
   ]
  },
  {
   "cell_type": "markdown",
   "metadata": {},
   "source": [
    "The consistent shapes can be validated explicitly."
   ]
  },
  {
   "cell_type": "code",
   "execution_count": 15,
   "metadata": {},
   "outputs": [],
   "source": [
    "a.spectrum.validate_consistent_shape()"
   ]
  },
  {
   "cell_type": "markdown",
   "metadata": {},
   "source": [
    "We can inspect the setpoints of the spectrum."
   ]
  },
  {
   "cell_type": "code",
   "execution_count": 16,
   "metadata": {},
   "outputs": [
    {
     "data": {
      "text/plain": [
       "(<__main__.GeneratedSetPoints: freq_axis at 140315575942672>,)"
      ]
     },
     "execution_count": 16,
     "metadata": {},
     "output_type": "execute_result"
    }
   ],
   "source": [
    "a.spectrum.setpoints"
   ]
  },
  {
   "cell_type": "markdown",
   "metadata": {},
   "source": [
    "Or even change them."
   ]
  },
  {
   "cell_type": "code",
   "execution_count": 17,
   "metadata": {},
   "outputs": [],
   "source": [
    "a.spectrum.setpoints = (a.freq_axis,)"
   ]
  },
  {
   "cell_type": "markdown",
   "metadata": {},
   "source": [
    "## Measurement"
   ]
  },
  {
   "cell_type": "markdown",
   "metadata": {},
   "source": [
    "We can also directly consume the parameter in a measurement without defining the setpoints of the parameter again. The setpoints are automatically obtained from the definition of the `ParameterWithSetpoint` instance. "
   ]
  },
  {
   "cell_type": "code",
   "execution_count": 18,
   "metadata": {},
   "outputs": [
    {
     "name": "stdout",
     "output_type": "stream",
     "text": [
      "Starting experimental run with id: 1. \n"
     ]
    }
   ],
   "source": [
    "meas = Measurement()\n",
    "meas.register_parameter(a.spectrum)\n",
    "\n",
    "with meas.run() as datasaver:\n",
    "    datasaver.add_result((a.freq_axis, a.freq_axis()),\n",
    "                         (a.spectrum, a.spectrum()))\n",
    "    dataset = datasaver.dataset"
   ]
  },
  {
   "cell_type": "markdown",
   "metadata": {},
   "source": [
    "And plot it"
   ]
  },
  {
   "cell_type": "code",
   "execution_count": 19,
   "metadata": {},
   "outputs": [
    {
     "data": {
      "text/plain": [
       "([<matplotlib.axes._subplots.AxesSubplot at 0x7f9dc4730490>], [None])"
      ]
     },
     "execution_count": 19,
     "metadata": {},
     "output_type": "execute_result"
    },
    {
     "data": {
      "image/png": "[encoded data removed]",
      "text/plain": [
       "<Figure size 432x288 with 1 Axes>"
      ]
     },
     "metadata": {
      "needs_background": "light"
     },
     "output_type": "display_data"
    }
   ],
   "source": [
    "plot_dataset(dataset)"
   ]
  },
  {
   "cell_type": "markdown",
   "metadata": {},
   "source": [
    "To reduce the amount of typing a simple convenience function is provided that will take a `ParameterWithSetpoints` and get both its values and the setpoints values and return them as tuples for direct insertion into the Dataset."
   ]
  },
  {
   "cell_type": "code",
   "execution_count": 20,
   "metadata": {
    "scrolled": true
   },
   "outputs": [
    {
     "data": {
      "text/plain": [
       "[(<__main__.GeneratedSetPoints: freq_axis at 140315575942672>,\n",
       "  array([  0.,   1.,   2.,   3.,   4.,   5.,   6.,   7.,   8.,   9.,  10.,\n",
       "          11.,  12.,  13.,  14.,  15.,  16.,  17.,  18.,  19.,  20.,  21.,\n",
       "          22.,  23.,  24.,  25.,  26.,  27.,  28.,  29.,  30.,  31.,  32.,\n",
       "          33.,  34.,  35.,  36.,  37.,  38.,  39.,  40.,  41.,  42.,  43.,\n",
       "          44.,  45.,  46.,  47.,  48.,  49.,  50.,  51.,  52.,  53.,  54.,\n",
       "          55.,  56.,  57.,  58.,  59.,  60.,  61.,  62.,  63.,  64.,  65.,\n",
       "          66.,  67.,  68.,  69.,  70.,  71.,  72.,  73.,  74.,  75.,  76.,\n",
       "          77.,  78.,  79.,  80.,  81.,  82.,  83.,  84.,  85.,  86.,  87.,\n",
       "          88.,  89.,  90.,  91.,  92.,  93.,  94.,  95.,  96.,  97.,  98.,\n",
       "          99., 100., 101., 102., 103., 104., 105., 106., 107., 108., 109.,\n",
       "         110., 111., 112., 113., 114., 115., 116., 117., 118., 119., 120.,\n",
       "         121., 122., 123., 124., 125., 126., 127., 128., 129., 130., 131.,\n",
       "         132., 133., 134., 135., 136., 137., 138., 139., 140., 141., 142.,\n",
       "         143., 144., 145., 146., 147., 148., 149., 150., 151., 152., 153.,\n",
       "         154., 155., 156., 157., 158., 159., 160., 161., 162., 163., 164.,\n",
       "         165., 166., 167., 168., 169., 170., 171., 172., 173., 174., 175.,\n",
       "         176., 177., 178., 179., 180., 181., 182., 183., 184., 185., 186.,\n",
       "         187., 188., 189., 190., 191., 192., 193., 194., 195., 196., 197.,\n",
       "         198., 199., 200., 201., 202., 203., 204., 205., 206., 207., 208.,\n",
       "         209., 210., 211., 212., 213., 214., 215., 216., 217., 218., 219.,\n",
       "         220., 221., 222., 223., 224., 225., 226., 227., 228., 229., 230.,\n",
       "         231., 232., 233., 234., 235., 236., 237., 238., 239., 240., 241.,\n",
       "         242., 243., 244., 245., 246., 247., 248., 249., 250., 251., 252.,\n",
       "         253., 254., 255., 256., 257., 258., 259., 260., 261., 262., 263.,\n",
       "         264., 265., 266., 267., 268., 269., 270., 271., 272., 273., 274.,\n",
       "         275., 276., 277., 278., 279., 280., 281., 282., 283., 284., 285.,\n",
       "         286., 287., 288., 289., 290., 291., 292., 293., 294., 295., 296.,\n",
       "         297., 298., 299., 300., 301., 302., 303., 304., 305., 306., 307.,\n",
       "         308., 309., 310., 311., 312., 313., 314., 315., 316., 317., 318.,\n",
       "         319., 320., 321., 322., 323., 324., 325., 326., 327., 328., 329.,\n",
       "         330., 331., 332., 333., 334., 335., 336., 337., 338., 339., 340.,\n",
       "         341., 342., 343., 344., 345., 346., 347., 348., 349., 350., 351.,\n",
       "         352., 353., 354., 355., 356., 357., 358., 359., 360., 361., 362.,\n",
       "         363., 364., 365., 366., 367., 368., 369., 370., 371., 372., 373.,\n",
       "         374., 375., 376., 377., 378., 379., 380., 381., 382., 383., 384.,\n",
       "         385., 386., 387., 388., 389., 390., 391., 392., 393., 394., 395.,\n",
       "         396., 397., 398., 399., 400., 401., 402., 403., 404., 405., 406.,\n",
       "         407., 408., 409., 410., 411., 412., 413., 414., 415., 416., 417.,\n",
       "         418., 419., 420., 421., 422., 423., 424., 425., 426., 427., 428.,\n",
       "         429., 430., 431., 432., 433., 434., 435., 436., 437., 438., 439.,\n",
       "         440., 441., 442., 443., 444., 445., 446., 447., 448., 449., 450.,\n",
       "         451., 452., 453., 454., 455., 456., 457., 458., 459., 460., 461.,\n",
       "         462., 463., 464., 465., 466., 467., 468., 469., 470., 471., 472.,\n",
       "         473., 474., 475., 476., 477., 478., 479., 480., 481., 482., 483.,\n",
       "         484., 485., 486., 487., 488., 489., 490., 491., 492., 493., 494.,\n",
       "         495., 496., 497., 498., 499., 500.])),\n",
       " (<__main__.DummyArray: spectrum at 140315580829968>,\n",
       "  array([4.77042110e-01, 5.65302514e-01, 9.16324790e-01, 5.21787727e-01,\n",
       "         3.37469036e-01, 8.53562771e-02, 8.10583177e-01, 2.00185993e-02,\n",
       "         6.96970773e-01, 9.95887557e-02, 9.09525279e-02, 5.38239224e-01,\n",
       "         8.44162670e-01, 7.04121150e-01, 9.77511401e-02, 4.07977999e-01,\n",
       "         5.28914972e-01, 5.78680931e-01, 2.69763536e-01, 3.51955220e-01,\n",
       "         4.47225060e-01, 6.14669883e-01, 4.95511487e-01, 2.74578012e-01,\n",
       "         6.11093248e-01, 4.92955678e-01, 9.46456285e-01, 5.71295890e-01,\n",
       "         8.43727277e-01, 7.98790248e-01, 4.78673892e-01, 8.16028694e-01,\n",
       "         5.10677150e-02, 6.32119051e-01, 8.55810727e-01, 6.04546607e-01,\n",
       "         6.34048140e-01, 5.77464560e-01, 6.30653174e-01, 1.03380140e-01,\n",
       "         1.26988462e-01, 5.10915031e-01, 4.11681613e-02, 8.39993082e-01,\n",
       "         1.66216179e-01, 7.96597250e-01, 1.26397363e-01, 6.54781950e-01,\n",
       "         3.40710411e-01, 6.19956756e-01, 9.04628851e-01, 9.22568690e-01,\n",
       "         9.41541202e-01, 1.31969697e-01, 5.96975948e-01, 7.70038241e-01,\n",
       "         3.71963339e-01, 3.56938000e-01, 6.69918314e-01, 4.98172281e-01,\n",
       "         7.95617996e-01, 5.48644749e-02, 2.68082011e-01, 7.55029301e-01,\n",
       "         2.18393988e-01, 1.13908093e-01, 4.83651950e-01, 2.49712629e-01,\n",
       "         3.72427220e-01, 7.73100849e-01, 9.59886239e-01, 7.22724102e-01,\n",
       "         9.05147268e-01, 1.17801313e-01, 7.48029090e-01, 2.01586503e-01,\n",
       "         9.19703612e-01, 7.27556674e-01, 7.36543455e-01, 2.85215213e-01,\n",
       "         8.01950910e-01, 3.67457096e-01, 9.28189025e-01, 6.88814405e-01,\n",
       "         8.96139341e-01, 7.53721435e-01, 7.18910734e-02, 7.57346563e-01,\n",
       "         2.93652326e-01, 1.98559198e-01, 7.35930663e-01, 2.26409118e-01,\n",
       "         6.39232727e-01, 2.23130826e-01, 9.87955035e-01, 3.67601296e-01,\n",
       "         1.23088030e-01, 2.18820783e-04, 8.40493966e-01, 1.40222343e-01,\n",
       "         5.05524410e-01, 5.95300755e-01, 3.60078488e-01, 8.97214270e-01,\n",
       "         2.02157881e-01, 1.20185766e-01, 5.25036830e-01, 6.09282453e-01,\n",
       "         4.45496379e-02, 6.83815386e-01, 6.30815561e-01, 2.40307637e-01,\n",
       "         2.32105203e-01, 4.57459830e-02, 1.76418063e-01, 2.31784404e-01,\n",
       "         5.03365948e-01, 3.11778976e-01, 4.89010987e-01, 8.04355200e-01,\n",
       "         3.14406289e-01, 9.47620648e-01, 4.18913589e-01, 8.93689408e-01,\n",
       "         7.34237315e-01, 8.36652930e-01, 6.82889811e-01, 5.88586432e-01,\n",
       "         2.24972261e-01, 7.92537540e-01, 8.37835207e-01, 3.73941535e-01,\n",
       "         1.30461324e-01, 2.44899102e-01, 2.43257326e-01, 5.29472138e-01,\n",
       "         6.31452632e-01, 8.01529884e-01, 7.46537523e-01, 1.41207471e-01,\n",
       "         3.39884154e-01, 7.00613590e-01, 3.26299488e-01, 3.58832779e-01,\n",
       "         1.46150644e-01, 4.02972363e-01, 5.45640304e-01, 3.00812366e-01,\n",
       "         1.98035554e-01, 6.60314024e-01, 6.54127061e-01, 6.88575132e-01,\n",
       "         2.51495029e-01, 3.96139757e-01, 5.96799984e-01, 3.47029490e-01,\n",
       "         7.46823931e-01, 1.66834271e-01, 3.50720521e-01, 6.83547502e-01,\n",
       "         9.64494123e-02, 6.68217386e-01, 7.09719953e-01, 7.22936794e-01,\n",
       "         4.59641022e-01, 8.02049483e-02, 3.28670735e-01, 2.08514168e-01,\n",
       "         4.76248934e-01, 4.22089347e-01, 3.04112517e-01, 2.63612170e-02,\n",
       "         7.21204177e-01, 8.11451313e-01, 8.65311708e-01, 5.19811039e-01,\n",
       "         9.47836989e-01, 5.34635558e-01, 5.49786040e-01, 8.66540498e-01,\n",
       "         9.74666085e-01, 7.02214642e-01, 6.52698621e-01, 2.18976894e-01,\n",
       "         7.02927379e-01, 8.67051595e-01, 7.15274628e-01, 7.09135951e-01,\n",
       "         7.18626716e-01, 2.64144961e-01, 1.43442168e-01, 5.38030915e-01,\n",
       "         8.54499509e-01, 1.71532273e-01, 8.35464879e-01, 4.73951755e-01,\n",
       "         5.77601151e-01, 2.01192168e-01, 3.59619607e-01, 4.44199506e-01,\n",
       "         9.11230331e-01, 7.43477587e-01, 5.57862873e-03, 2.57645778e-01,\n",
       "         2.84271064e-01, 5.71202876e-01, 7.77749474e-01, 5.74381099e-01,\n",
       "         5.83494060e-01, 2.86586666e-01, 9.18397124e-01, 9.47209377e-01,\n",
       "         9.23226062e-01, 8.18197447e-01, 9.10725849e-01, 5.61925399e-01,\n",
       "         8.90398167e-01, 6.42451201e-01, 3.78900231e-01, 8.41945956e-01,\n",
       "         3.89589389e-01, 7.66852443e-01, 8.19092962e-01, 5.62962237e-02,\n",
       "         5.64834532e-01, 4.89819094e-01, 2.91067306e-01, 5.55982031e-01,\n",
       "         8.86721662e-01, 8.05237636e-01, 8.56133249e-01, 8.58270121e-01,\n",
       "         7.80553741e-01, 4.35298869e-01, 5.57532319e-01, 6.76731911e-01,\n",
       "         6.25464517e-01, 1.24267596e-01, 5.67720277e-01, 7.52670809e-01,\n",
       "         8.38737818e-01, 1.28149066e-01, 5.79506539e-01, 3.50004416e-01,\n",
       "         1.74143360e-01, 7.64901761e-01, 8.13256560e-01, 1.89138124e-01,\n",
       "         7.36590212e-01, 3.24606562e-01, 1.62337250e-01, 3.70244082e-01,\n",
       "         5.42293702e-01, 6.67719175e-01, 8.89197484e-01, 2.65944848e-01,\n",
       "         9.93822063e-01, 7.38276766e-01, 8.67681435e-01, 1.19727597e-01,\n",
       "         3.63340613e-01, 1.33946480e-01, 2.38592124e-01, 2.07602996e-01,\n",
       "         2.26746742e-01, 4.55835365e-01, 9.29758636e-01, 3.82774799e-01,\n",
       "         2.48147636e-01, 8.80864358e-02, 7.62019333e-01, 7.53910717e-01,\n",
       "         3.51454815e-01, 2.86564119e-01, 6.08675067e-01, 3.97939454e-01,\n",
       "         5.23244432e-01, 4.41872276e-01, 2.58139916e-01, 2.35653316e-01,\n",
       "         5.16759706e-02, 7.49601016e-01, 5.83027613e-01, 6.33960332e-01,\n",
       "         6.72361916e-01, 9.34771463e-01, 6.29463773e-01, 5.87570696e-01,\n",
       "         3.11112000e-01, 2.93790529e-01, 9.42015042e-01, 3.00329817e-01,\n",
       "         1.87291895e-01, 8.36618474e-01, 5.28002728e-01, 5.59248193e-01,\n",
       "         6.07690911e-01, 6.47139606e-01, 4.64950779e-01, 2.50221743e-01,\n",
       "         6.16487935e-01, 1.95817662e-01, 8.22427804e-01, 8.60206221e-01,\n",
       "         4.11441654e-01, 4.89766289e-01, 6.51541300e-01, 5.66577314e-01,\n",
       "         6.64312308e-01, 4.85312149e-01, 7.89806284e-01, 3.02545292e-01,\n",
       "         7.21870667e-01, 6.55102460e-01, 6.11815998e-01, 6.25865402e-01,\n",
       "         6.29032526e-01, 8.16990464e-01, 7.01084871e-01, 1.95370767e-01,\n",
       "         8.70958289e-01, 5.28384067e-01, 1.12180862e-01, 2.66500398e-01,\n",
       "         3.78615849e-01, 9.17601614e-01, 8.56553608e-01, 7.47127127e-01,\n",
       "         8.52374112e-01, 8.89037772e-02, 2.32266815e-01, 7.28260259e-01,\n",
       "         3.25847384e-01, 5.88059323e-01, 8.66453961e-01, 6.70724780e-01,\n",
       "         4.52270654e-01, 1.03756260e-01, 2.08557038e-01, 8.70812545e-02,\n",
       "         8.33423566e-02, 4.47837010e-01, 7.54522924e-01, 8.55143054e-01,\n",
       "         3.62447231e-01, 1.11702076e-01, 7.06103240e-01, 1.73550102e-01,\n",
       "         8.06110865e-01, 6.75927424e-02, 8.14859940e-01, 8.60584083e-01,\n",
       "         3.93462158e-01, 5.83976662e-01, 4.32849802e-01, 5.04194839e-01,\n",
       "         3.66360015e-01, 4.80693124e-01, 5.78985978e-01, 3.30447617e-02,\n",
       "         4.03469515e-01, 1.34303554e-01, 9.20479723e-01, 7.23325495e-01,\n",
       "         8.59674626e-02, 3.93589899e-01, 3.27178038e-01, 7.41445458e-01,\n",
       "         2.39163236e-01, 1.62973216e-01, 1.92098889e-01, 9.09333929e-01,\n",
       "         6.25855474e-01, 5.39637578e-01, 4.63400417e-01, 4.56989783e-01,\n",
       "         9.39633451e-01, 3.15207880e-01, 8.74331084e-01, 9.27561296e-01,\n",
       "         2.83735259e-01, 2.43359175e-01, 4.27524212e-01, 1.12104619e-01,\n",
       "         6.29829435e-01, 2.89978282e-01, 2.25048497e-02, 4.70187393e-01,\n",
       "         7.43580223e-01, 1.45655478e-01, 7.84871511e-01, 9.71000307e-01,\n",
       "         4.24409343e-01, 5.23076184e-01, 5.13635212e-01, 8.02486065e-01,\n",
       "         2.42515763e-01, 2.00623479e-01, 8.75364947e-01, 5.02602828e-01,\n",
       "         8.36531717e-01, 4.91448162e-01, 9.92267156e-01, 3.72792748e-01,\n",
       "         6.18990244e-01, 8.14921523e-01, 5.55261286e-01, 1.66635133e-01,\n",
       "         4.18255791e-01, 3.39073987e-01, 3.79456374e-01, 3.60031572e-01,\n",
       "         1.24507599e-01, 5.65893384e-01, 5.00609774e-01, 6.34933825e-01,\n",
       "         1.76904844e-01, 9.40901774e-01, 3.59450217e-01, 2.04405640e-02,\n",
       "         4.01941128e-01, 3.82223718e-01, 6.18576225e-01, 4.31830013e-01,\n",
       "         6.02424620e-01, 7.60036679e-01, 4.79033290e-01, 2.89663525e-01,\n",
       "         8.09737465e-01, 2.78722068e-01, 1.39157829e-01, 1.96338028e-01,\n",
       "         5.18388737e-01, 9.74816363e-01, 7.09746591e-01, 2.66396708e-01,\n",
       "         5.11332857e-01, 3.08328323e-01, 4.72677891e-01, 7.09317896e-01,\n",
       "         1.54928922e-01, 5.12753511e-01, 6.06727019e-01, 6.70792448e-02,\n",
       "         8.65814090e-01, 7.19353749e-01, 6.05672894e-01, 7.50167145e-01,\n",
       "         4.16766192e-01, 8.73485748e-01, 9.15225000e-01, 7.14998788e-01,\n",
       "         7.86154675e-01, 5.65501775e-01, 4.67071886e-01, 6.43876812e-01,\n",
       "         6.73260822e-01, 3.35573725e-01, 8.83144165e-01, 9.46500051e-01,\n",
       "         8.85383073e-01, 6.79396566e-01, 3.00461462e-01, 3.23197948e-01,\n",
       "         8.56350614e-01, 3.58218507e-01, 5.03226268e-01, 5.63848493e-01,\n",
       "         4.97049841e-01, 8.54493337e-01, 2.47760517e-01, 1.50848785e-01,\n",
       "         2.63632711e-01, 8.11860826e-01, 7.13087903e-01, 3.94353177e-01,\n",
       "         9.70857017e-01, 3.79118988e-01, 8.45828995e-01, 9.65844823e-01,\n",
       "         4.18720927e-01, 7.97100795e-01, 1.63458687e-01, 1.44639777e-01,\n",
       "         6.25898992e-02, 6.55757565e-01, 2.84230813e-01, 3.97657822e-01,\n",
       "         9.10003457e-03, 9.55887752e-01, 2.55895597e-01, 6.47315603e-01,\n",
       "         8.59448521e-02, 1.53493915e-01, 6.99316134e-01, 1.51667371e-01,\n",
       "         6.97911283e-01, 6.64755964e-03, 4.12259155e-01, 6.14479563e-01,\n",
       "         3.50628338e-02]))]"
      ]
     },
     "execution_count": 20,
     "metadata": {},
     "output_type": "execute_result"
    }
   ],
   "source": [
    "expand_setpoints_helper(a.spectrum)"
   ]
  },
  {
   "cell_type": "code",
   "execution_count": 21,
   "metadata": {},
   "outputs": [
    {
     "name": "stdout",
     "output_type": "stream",
     "text": [
      "Starting experimental run with id: 2. \n"
     ]
    }
   ],
   "source": [
    "meas = Measurement()\n",
    "meas.register_parameter(a.spectrum)\n",
    "\n",
    "with meas.run() as datasaver:\n",
    "    datasaver.add_result(*expand_setpoints_helper(a.spectrum))\n",
    "    \n",
    "    dataid = datasaver.run_id"
   ]
  },
  {
   "cell_type": "code",
   "execution_count": null,
   "metadata": {},
   "outputs": [],
   "source": []
  }
 ],
 "metadata": {
  "kernelspec": {
   "display_name": "Python 3",
   "language": "python",
   "name": "python3"
  },
  "language_info": {
   "codemirror_mode": {
    "name": "ipython",
    "version": 3
   },
   "file_extension": ".py",
   "mimetype": "text/x-python",
   "name": "python",
   "nbconvert_exporter": "python",
   "pygments_lexer": "ipython3",
   "version": "3.7.7"
  },
  "toc": {
   "base_numbering": 1,
   "nav_menu": {},
   "number_sections": true,
   "sideBar": true,
   "skip_h1_title": false,
   "title_cell": "Table of Contents",
   "title_sidebar": "Contents",
   "toc_cell": false,
   "toc_position": {},
   "toc_section_display": true,
   "toc_window_display": false
  },
  "varInspector": {
   "cols": {
    "lenName": 16,
    "lenType": 16,
    "lenVar": 40
   },
   "kernels_config": {
    "python": {
     "delete_cmd_postfix": "",
     "delete_cmd_prefix": "del ",
     "library": "var_list.py",
     "varRefreshCmd": "print(var_dic_list())"
    },
    "r": {
     "delete_cmd_postfix": ") ",
     "delete_cmd_prefix": "rm(",
     "library": "var_list.r",
     "varRefreshCmd": "cat(var_dic_list()) "
    }
   },
   "types_to_exclude": [
    "module",
    "function",
    "builtin_function_or_method",
    "instance",
    "_Feature"
   ],
   "window_display": false
  }
 },
 "nbformat": 4,
 "nbformat_minor": 2
}
