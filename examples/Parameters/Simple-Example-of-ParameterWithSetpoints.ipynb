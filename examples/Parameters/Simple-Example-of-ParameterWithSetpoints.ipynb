{
 "cells": [
  {
   "cell_type": "markdown",
   "metadata": {},
   "source": [
    "# Simple Example of ParameterWithSetpoints\n",
    "This notebook provides an example for writing a simple driver with a parameter that has setpoints. Let's name this parameter that has setpoints as \"y\". Then, the setpoints, say \"x1, x2, x3 ..\", are the parameters on which the parameter \n",
    "\"y\" depends upon. Meaning \"y\" is a function of \"x1, x2, x3 ...\" where \"x1, x2, x3 ...\" are known as the setpoints of parameter \"y\".\n",
    "\n",
    "This is most likely to be useful for instruments that return arrays of results. In this notebook, we will show an example of this."
   ]
  },
  {
   "cell_type": "code",
   "execution_count": 1,
   "metadata": {},
   "outputs": [],
   "source": [
    "import numpy as np\n",
    "import os"
   ]
  },
  {
   "cell_type": "code",
   "execution_count": 2,
   "metadata": {},
   "outputs": [
    {
     "name": "stdout",
     "output_type": "stream",
     "text": [
      "Logging hadn't been started.\n",
      "Activating auto-logging. Current session state plus future input saved.\n",
      "Filename       : /home/vsts/.qcodes/logs/command_history.log\n",
      "Mode           : append\n",
      "Output logging : True\n",
      "Raw input log  : False\n",
      "Timestamping   : True\n",
      "State          : active\n"
     ]
    },
    {
     "name": "stdout",
     "output_type": "stream",
     "text": [
      "Qcodes Logfile : /home/vsts/.qcodes/logs/200330-21521-qcodes.log\n"
     ]
    }
   ],
   "source": [
    "from qcodes.dataset.plotting import plot_dataset\n",
    "from qcodes.utils.validators import Numbers, Arrays\n",
    "from qcodes.instrument.base import Instrument\n",
    "from qcodes.dataset.measurements import Measurement"
   ]
  },
  {
   "cell_type": "code",
   "execution_count": 3,
   "metadata": {},
   "outputs": [],
   "source": [
    "from qcodes.dataset.sqlite.database import initialise_or_create_database_at\n",
    "from qcodes.dataset.experiment_container import load_or_create_experiment"
   ]
  },
  {
   "cell_type": "code",
   "execution_count": 4,
   "metadata": {},
   "outputs": [],
   "source": [
    "from qcodes.instrument.parameter import ParameterWithSetpoints, Parameter\n",
    "from qcodes.instrument.parameter import expand_setpoints_helper"
   ]
  },
  {
   "cell_type": "markdown",
   "metadata": {},
   "source": [
    "First, we define a dummy instrument that returns something like a frequency spectrum starting from a frequency given by `f_start` to a frequency given by `f_stop` in `n_points` steps. \n",
    "\n",
    "The extra functionality of the `ParameterWithSetpoints` is implemented by giving it a reference to one or more parameters that acts like its setpoints. \n",
    "\n",
    "To setup a `ParameterWithSetpoints` we have to do two things in addition to what we do for a normal parameter.\n",
    "\n",
    "* Define one or more parameter for the setpoints (one for each dimension of the array and let the `ParameterWithSetpoints` know that these are the setpoints.\n",
    "* Give both the setpoints parameter(s) and the `ParameterWithSetpoints` a `validator` of type `Arrays` with a shape. The shapes should be such that the combined shape of the setpoints matches the shape of the `ParameterWithSetpoints`. Note that if the shape changes with the setting of the instrument, it can be defined by another parameter as shown below. "
   ]
  },
  {
   "cell_type": "code",
   "execution_count": 5,
   "metadata": {},
   "outputs": [],
   "source": [
    "class GeneratedSetPoints(Parameter):\n",
    "    \"\"\"\n",
    "    A parameter that generates a setpoint array from start, stop and num points\n",
    "    parameters.\n",
    "    \"\"\"\n",
    "    def __init__(self, startparam, stopparam, numpointsparam, *args, **kwargs):\n",
    "        super().__init__(*args, **kwargs)\n",
    "        self._startparam = startparam\n",
    "        self._stopparam = stopparam\n",
    "        self._numpointsparam = numpointsparam\n",
    "\n",
    "    def get_raw(self):\n",
    "        return np.linspace(self._startparam(), self._stopparam(),\n",
    "                              self._numpointsparam())\n",
    "\n",
    "class DummyArray(ParameterWithSetpoints):\n",
    "    \n",
    "    def get_raw(self):\n",
    "        npoints = self.root_instrument.n_points.get_latest()\n",
    "        return np.random.rand(npoints)\n",
    "    \n",
    "\n",
    "class DummySpectrumAnalyzer(Instrument):\n",
    "    \n",
    "    def __init__(self, name, **kwargs):\n",
    "        \n",
    "        super().__init__(name, **kwargs)\n",
    "            \n",
    "\n",
    "        self.add_parameter('f_start',\n",
    "                           initial_value=0,\n",
    "                           unit='Hz',\n",
    "                           label='f start',\n",
    "                           vals=Numbers(0,1e3),\n",
    "                           get_cmd=None,\n",
    "                           set_cmd=None)\n",
    "\n",
    "        self.add_parameter('f_stop',\n",
    "                           unit='Hz',\n",
    "                           label='f stop',\n",
    "                           vals=Numbers(1,1e3),\n",
    "                           get_cmd=None,\n",
    "                           set_cmd=None)\n",
    "\n",
    "        self.add_parameter('n_points',\n",
    "                           unit='',\n",
    "                           initial_value=10,\n",
    "                           vals=Numbers(1,1e3),\n",
    "                           get_cmd=None,\n",
    "                           set_cmd=None)\n",
    "        \n",
    "        self.add_parameter('freq_axis',\n",
    "                           unit='Hz',\n",
    "                           label='Freq Axis',\n",
    "                           parameter_class=GeneratedSetPoints,\n",
    "                           startparam=self.f_start,\n",
    "                           stopparam=self.f_stop,\n",
    "                           numpointsparam=self.n_points,\n",
    "                           vals=Arrays(shape=(self.n_points.get_latest,)))\n",
    "                           \n",
    "        self.add_parameter('spectrum',\n",
    "                   unit='dBm',\n",
    "                   setpoints=(self.freq_axis,),\n",
    "                   label='Spectrum',\n",
    "                   parameter_class=DummyArray,\n",
    "                   vals=Arrays(shape=(self.n_points.get_latest,)))\n",
    "                "
   ]
  },
  {
   "cell_type": "markdown",
   "metadata": {},
   "source": [
    "In the above example, the shape is defined by the parameter `n_points` that defines how many samples our `DummySpectrumAnalyzer` returns.\n",
    "\n",
    "This means that the validation will call the function to get `n_points` twice for each `get` of the parameter. This may be too slow, however, if you (as the driver-writer) can guarantee that the cached value for `n_points` will never be out of sync with the value stored in the instrument, `n_points` may be replaced by it's latest known value such that the `validator` reads:\n",
    "```python\n",
    "vals=Arrays(shape=(self.n_points.get_latest))\n",
    "```\n",
    "\n",
    "This avoids any additional call to the instrument. In the same way, the arguments to the `freq_axis` parameter that defines the start, stop and number of points can be replaced by their latest value if the instrument allows it.\n",
    "\n"
   ]
  },
  {
   "cell_type": "code",
   "execution_count": 6,
   "metadata": {},
   "outputs": [
    {
     "name": "stdout",
     "output_type": "stream",
     "text": [
      "\r",
      "0it [00:00, ?it/s]"
     ]
    },
    {
     "name": "stdout",
     "output_type": "stream",
     "text": [
      "\r",
      "Upgrading database; v0 -> v1: : 0it [00:00, ?it/s]"
     ]
    },
    {
     "name": "stdout",
     "output_type": "stream",
     "text": [
      "\r",
      "Upgrading database; v0 -> v1: : 0it [00:00, ?it/s]"
     ]
    },
    {
     "name": "stdout",
     "output_type": "stream",
     "text": [
      "\n",
      "\r",
      "  0%|          | 0/1 [00:00<?, ?it/s]"
     ]
    },
    {
     "name": "stdout",
     "output_type": "stream",
     "text": [
      "\r",
      "Upgrading database; v1 -> v2:   0%|          | 0/1 [00:00<?, ?it/s]"
     ]
    },
    {
     "name": "stdout",
     "output_type": "stream",
     "text": [
      "\r",
      "Upgrading database; v1 -> v2: 100%|██████████| 1/1 [00:00<00:00, 686.24it/s]"
     ]
    },
    {
     "name": "stdout",
     "output_type": "stream",
     "text": [
      "\n",
      "\r",
      "0it [00:00, ?it/s]"
     ]
    },
    {
     "name": "stdout",
     "output_type": "stream",
     "text": [
      "\r",
      "Upgrading database; v2 -> v3: : 0it [00:00, ?it/s]"
     ]
    },
    {
     "name": "stdout",
     "output_type": "stream",
     "text": [
      "\r",
      "Upgrading database; v2 -> v3: : 0it [00:00, ?it/s]"
     ]
    },
    {
     "name": "stdout",
     "output_type": "stream",
     "text": [
      "\n",
      "\r",
      "0it [00:00, ?it/s]"
     ]
    },
    {
     "name": "stdout",
     "output_type": "stream",
     "text": [
      "\r",
      "Upgrading database; v3 -> v4: : 0it [00:00, ?it/s]"
     ]
    },
    {
     "name": "stdout",
     "output_type": "stream",
     "text": [
      "\r",
      "Upgrading database; v3 -> v4: : 0it [00:00, ?it/s]"
     ]
    },
    {
     "name": "stdout",
     "output_type": "stream",
     "text": [
      "\n",
      "\r",
      "  0%|          | 0/1 [00:00<?, ?it/s]"
     ]
    },
    {
     "name": "stdout",
     "output_type": "stream",
     "text": [
      "\r",
      "Upgrading database; v4 -> v5:   0%|          | 0/1 [00:00<?, ?it/s]"
     ]
    },
    {
     "name": "stdout",
     "output_type": "stream",
     "text": [
      "\r",
      "Upgrading database; v4 -> v5: 100%|██████████| 1/1 [00:00<00:00, 836.69it/s]"
     ]
    },
    {
     "name": "stdout",
     "output_type": "stream",
     "text": [
      "\n",
      "\r",
      "0it [00:00, ?it/s]"
     ]
    },
    {
     "name": "stdout",
     "output_type": "stream",
     "text": [
      "\r",
      "Upgrading database; v5 -> v6: : 0it [00:00, ?it/s]"
     ]
    },
    {
     "name": "stdout",
     "output_type": "stream",
     "text": [
      "\r",
      "Upgrading database; v5 -> v6: : 0it [00:00, ?it/s]"
     ]
    },
    {
     "name": "stdout",
     "output_type": "stream",
     "text": [
      "\n",
      "\r",
      "  0%|          | 0/1 [00:00<?, ?it/s]"
     ]
    },
    {
     "name": "stdout",
     "output_type": "stream",
     "text": [
      "\r",
      "Upgrading database; v6 -> v7:   0%|          | 0/1 [00:00<?, ?it/s]"
     ]
    },
    {
     "name": "stdout",
     "output_type": "stream",
     "text": [
      "\r",
      "Upgrading database; v6 -> v7: 100%|██████████| 1/1 [00:00<00:00, 458.34it/s]"
     ]
    },
    {
     "name": "stdout",
     "output_type": "stream",
     "text": [
      "\n",
      "\r",
      "  0%|          | 0/1 [00:00<?, ?it/s]"
     ]
    },
    {
     "name": "stdout",
     "output_type": "stream",
     "text": [
      "\r",
      "Upgrading database; v7 -> v8:   0%|          | 0/1 [00:00<?, ?it/s]"
     ]
    },
    {
     "name": "stdout",
     "output_type": "stream",
     "text": [
      "\r",
      "Upgrading database; v7 -> v8: 100%|██████████| 1/1 [00:00<00:00, 772.01it/s]"
     ]
    },
    {
     "name": "stdout",
     "output_type": "stream",
     "text": [
      "\n",
      "\r",
      "  0%|          | 0/1 [00:00<?, ?it/s]"
     ]
    },
    {
     "name": "stdout",
     "output_type": "stream",
     "text": [
      "\r",
      "Upgrading database; v8 -> v9:   0%|          | 0/1 [00:00<?, ?it/s]"
     ]
    },
    {
     "name": "stdout",
     "output_type": "stream",
     "text": [
      "\r",
      "Upgrading database; v8 -> v9: 100%|██████████| 1/1 [00:00<00:00, 890.13it/s]"
     ]
    },
    {
     "name": "stdout",
     "output_type": "stream",
     "text": [
      "\n"
     ]
    },
    {
     "data": {
      "text/plain": [
       "tutorial_ParameterWithSetpoints#no sample#1@/home/vsts/work/1/s/docs/examples/Parameters/tutorial_paramter_with_setpoints.db\n",
       "----------------------------------------------------------------------------------------------------------------------------"
      ]
     },
     "execution_count": 6,
     "metadata": {},
     "output_type": "execute_result"
    }
   ],
   "source": [
    "tutorial_db_path = os.path.join(os.getcwd(), 'tutorial_paramter_with_setpoints.db')\n",
    "initialise_or_create_database_at(tutorial_db_path)\n",
    "load_or_create_experiment(experiment_name='tutorial_ParameterWithSetpoints', sample_name=\"no sample\")"
   ]
  },
  {
   "cell_type": "code",
   "execution_count": 7,
   "metadata": {},
   "outputs": [],
   "source": [
    "a = DummySpectrumAnalyzer('foobar')"
   ]
  },
  {
   "cell_type": "markdown",
   "metadata": {},
   "source": [
    "First we setup the limits of the spectrum"
   ]
  },
  {
   "cell_type": "code",
   "execution_count": 8,
   "metadata": {},
   "outputs": [],
   "source": [
    "a.f_start(0)\n",
    "a.f_stop(500)\n",
    "a.n_points(501)"
   ]
  },
  {
   "cell_type": "markdown",
   "metadata": {},
   "source": [
    "And we can grab the frequency axis"
   ]
  },
  {
   "cell_type": "code",
   "execution_count": 9,
   "metadata": {},
   "outputs": [
    {
     "data": {
      "text/plain": [
       "501"
      ]
     },
     "execution_count": 9,
     "metadata": {},
     "output_type": "execute_result"
    }
   ],
   "source": [
    "a.n_points()"
   ]
  },
  {
   "cell_type": "code",
   "execution_count": 10,
   "metadata": {
    "scrolled": false
   },
   "outputs": [
    {
     "data": {
      "text/plain": [
       "501"
      ]
     },
     "execution_count": 10,
     "metadata": {},
     "output_type": "execute_result"
    }
   ],
   "source": [
    "freq_axis = a.freq_axis()\n",
    "len(freq_axis)"
   ]
  },
  {
   "cell_type": "code",
   "execution_count": 11,
   "metadata": {},
   "outputs": [
    {
     "data": {
      "text/plain": [
       "array([0., 1., 2., 3., 4., 5., 6., 7., 8., 9.])"
      ]
     },
     "execution_count": 11,
     "metadata": {},
     "output_type": "execute_result"
    }
   ],
   "source": [
    "freq_axis[:10]"
   ]
  },
  {
   "cell_type": "markdown",
   "metadata": {},
   "source": [
    "As expected we get a result wit 501 points as we asked for an axis with 501 points. "
   ]
  },
  {
   "cell_type": "markdown",
   "metadata": {},
   "source": [
    "Above we have added a validator to the `freq_axis` parameter encoding the fact that this is an Array with `n_points`. Note that we do not have to supply the number of points as an integer but can supply a function that returns the valid number of points. This would normally be a QCoDeS parameter.\n",
    "\n",
    "This will be checked if we validate the output."
   ]
  },
  {
   "cell_type": "code",
   "execution_count": 12,
   "metadata": {},
   "outputs": [],
   "source": [
    "a.freq_axis.validate(a.freq_axis.get())"
   ]
  },
  {
   "cell_type": "markdown",
   "metadata": {},
   "source": [
    "Naturally, we can also get the spectrum. Getting the spectrum will automatically perform validation both for the shape of the parameter itself and the relation to the setpoint parameter(s)"
   ]
  },
  {
   "cell_type": "code",
   "execution_count": 13,
   "metadata": {
    "scrolled": true
   },
   "outputs": [
    {
     "data": {
      "text/plain": [
       "501"
      ]
     },
     "execution_count": 13,
     "metadata": {},
     "output_type": "execute_result"
    }
   ],
   "source": [
    "spectrum = a.spectrum.get()\n",
    "len(spectrum)"
   ]
  },
  {
   "cell_type": "markdown",
   "metadata": {},
   "source": [
    "When we validate a `ParameterWithSetpoints`, we automatically validate that the shape is consistent between the parameters and its setpoints. As well as validating the shape as above."
   ]
  },
  {
   "cell_type": "code",
   "execution_count": 14,
   "metadata": {},
   "outputs": [],
   "source": [
    "a.spectrum.validate(a.spectrum.get())"
   ]
  },
  {
   "cell_type": "markdown",
   "metadata": {},
   "source": [
    "The consistent shapes can be validated explicitly."
   ]
  },
  {
   "cell_type": "code",
   "execution_count": 15,
   "metadata": {},
   "outputs": [],
   "source": [
    "a.spectrum.validate_consistent_shape()"
   ]
  },
  {
   "cell_type": "markdown",
   "metadata": {},
   "source": [
    "We can inspect the setpoints of the spectrum."
   ]
  },
  {
   "cell_type": "code",
   "execution_count": 16,
   "metadata": {},
   "outputs": [
    {
     "data": {
      "text/plain": [
       "(<__main__.GeneratedSetPoints: freq_axis at 140687447579856>,)"
      ]
     },
     "execution_count": 16,
     "metadata": {},
     "output_type": "execute_result"
    }
   ],
   "source": [
    "a.spectrum.setpoints"
   ]
  },
  {
   "cell_type": "markdown",
   "metadata": {},
   "source": [
    "Or even change them."
   ]
  },
  {
   "cell_type": "code",
   "execution_count": 17,
   "metadata": {},
   "outputs": [],
   "source": [
    "a.spectrum.setpoints = (a.freq_axis,)"
   ]
  },
  {
   "cell_type": "markdown",
   "metadata": {},
   "source": [
    "## Measurement"
   ]
  },
  {
   "cell_type": "markdown",
   "metadata": {},
   "source": [
    "We can also directly consume the parameter in a measurement without defining the setpoints of the parameter again. The setpoints are automatically obtained from the definition of the `ParameterWithSetpoint` instance. "
   ]
  },
  {
   "cell_type": "code",
   "execution_count": 18,
   "metadata": {},
   "outputs": [
    {
     "name": "stdout",
     "output_type": "stream",
     "text": [
      "Starting experimental run with id: 1. \n"
     ]
    }
   ],
   "source": [
    "meas = Measurement()\n",
    "meas.register_parameter(a.spectrum)\n",
    "\n",
    "with meas.run() as datasaver:\n",
    "    datasaver.add_result((a.freq_axis, a.freq_axis()),\n",
    "                         (a.spectrum, a.spectrum()))\n",
    "    dataset = datasaver.dataset"
   ]
  },
  {
   "cell_type": "markdown",
   "metadata": {},
   "source": [
    "And plot it"
   ]
  },
  {
   "cell_type": "code",
   "execution_count": 19,
   "metadata": {},
   "outputs": [
    {
     "data": {
      "text/plain": [
       "([<matplotlib.axes._subplots.AxesSubplot at 0x7ff458bfce90>], [None])"
      ]
     },
     "execution_count": 19,
     "metadata": {},
     "output_type": "execute_result"
    },
    {
     "data": {
      "image/png": "[encoded data removed]",
      "text/plain": [
       "<Figure size 432x288 with 1 Axes>"
      ]
     },
     "metadata": {
      "needs_background": "light"
     },
     "output_type": "display_data"
    }
   ],
   "source": [
    "plot_dataset(dataset)"
   ]
  },
  {
   "cell_type": "markdown",
   "metadata": {},
   "source": [
    "To reduce the amount of typing a simple convenience function is provided that will take a `ParameterWithSetpoints` and get both its values and the setpoints values and return them as tuples for direct insertion into the Dataset."
   ]
  },
  {
   "cell_type": "code",
   "execution_count": 20,
   "metadata": {
    "scrolled": true
   },
   "outputs": [
    {
     "data": {
      "text/plain": [
       "[(<__main__.GeneratedSetPoints: freq_axis at 140687447579856>,\n",
       "  array([  0.,   1.,   2.,   3.,   4.,   5.,   6.,   7.,   8.,   9.,  10.,\n",
       "          11.,  12.,  13.,  14.,  15.,  16.,  17.,  18.,  19.,  20.,  21.,\n",
       "          22.,  23.,  24.,  25.,  26.,  27.,  28.,  29.,  30.,  31.,  32.,\n",
       "          33.,  34.,  35.,  36.,  37.,  38.,  39.,  40.,  41.,  42.,  43.,\n",
       "          44.,  45.,  46.,  47.,  48.,  49.,  50.,  51.,  52.,  53.,  54.,\n",
       "          55.,  56.,  57.,  58.,  59.,  60.,  61.,  62.,  63.,  64.,  65.,\n",
       "          66.,  67.,  68.,  69.,  70.,  71.,  72.,  73.,  74.,  75.,  76.,\n",
       "          77.,  78.,  79.,  80.,  81.,  82.,  83.,  84.,  85.,  86.,  87.,\n",
       "          88.,  89.,  90.,  91.,  92.,  93.,  94.,  95.,  96.,  97.,  98.,\n",
       "          99., 100., 101., 102., 103., 104., 105., 106., 107., 108., 109.,\n",
       "         110., 111., 112., 113., 114., 115., 116., 117., 118., 119., 120.,\n",
       "         121., 122., 123., 124., 125., 126., 127., 128., 129., 130., 131.,\n",
       "         132., 133., 134., 135., 136., 137., 138., 139., 140., 141., 142.,\n",
       "         143., 144., 145., 146., 147., 148., 149., 150., 151., 152., 153.,\n",
       "         154., 155., 156., 157., 158., 159., 160., 161., 162., 163., 164.,\n",
       "         165., 166., 167., 168., 169., 170., 171., 172., 173., 174., 175.,\n",
       "         176., 177., 178., 179., 180., 181., 182., 183., 184., 185., 186.,\n",
       "         187., 188., 189., 190., 191., 192., 193., 194., 195., 196., 197.,\n",
       "         198., 199., 200., 201., 202., 203., 204., 205., 206., 207., 208.,\n",
       "         209., 210., 211., 212., 213., 214., 215., 216., 217., 218., 219.,\n",
       "         220., 221., 222., 223., 224., 225., 226., 227., 228., 229., 230.,\n",
       "         231., 232., 233., 234., 235., 236., 237., 238., 239., 240., 241.,\n",
       "         242., 243., 244., 245., 246., 247., 248., 249., 250., 251., 252.,\n",
       "         253., 254., 255., 256., 257., 258., 259., 260., 261., 262., 263.,\n",
       "         264., 265., 266., 267., 268., 269., 270., 271., 272., 273., 274.,\n",
       "         275., 276., 277., 278., 279., 280., 281., 282., 283., 284., 285.,\n",
       "         286., 287., 288., 289., 290., 291., 292., 293., 294., 295., 296.,\n",
       "         297., 298., 299., 300., 301., 302., 303., 304., 305., 306., 307.,\n",
       "         308., 309., 310., 311., 312., 313., 314., 315., 316., 317., 318.,\n",
       "         319., 320., 321., 322., 323., 324., 325., 326., 327., 328., 329.,\n",
       "         330., 331., 332., 333., 334., 335., 336., 337., 338., 339., 340.,\n",
       "         341., 342., 343., 344., 345., 346., 347., 348., 349., 350., 351.,\n",
       "         352., 353., 354., 355., 356., 357., 358., 359., 360., 361., 362.,\n",
       "         363., 364., 365., 366., 367., 368., 369., 370., 371., 372., 373.,\n",
       "         374., 375., 376., 377., 378., 379., 380., 381., 382., 383., 384.,\n",
       "         385., 386., 387., 388., 389., 390., 391., 392., 393., 394., 395.,\n",
       "         396., 397., 398., 399., 400., 401., 402., 403., 404., 405., 406.,\n",
       "         407., 408., 409., 410., 411., 412., 413., 414., 415., 416., 417.,\n",
       "         418., 419., 420., 421., 422., 423., 424., 425., 426., 427., 428.,\n",
       "         429., 430., 431., 432., 433., 434., 435., 436., 437., 438., 439.,\n",
       "         440., 441., 442., 443., 444., 445., 446., 447., 448., 449., 450.,\n",
       "         451., 452., 453., 454., 455., 456., 457., 458., 459., 460., 461.,\n",
       "         462., 463., 464., 465., 466., 467., 468., 469., 470., 471., 472.,\n",
       "         473., 474., 475., 476., 477., 478., 479., 480., 481., 482., 483.,\n",
       "         484., 485., 486., 487., 488., 489., 490., 491., 492., 493., 494.,\n",
       "         495., 496., 497., 498., 499., 500.])),\n",
       " (<__main__.DummyArray: spectrum at 140687448704528>,\n",
       "  array([5.55295235e-01, 8.49725232e-01, 5.13345873e-01, 3.12889126e-01,\n",
       "         3.10370785e-02, 2.56588467e-01, 2.60205379e-01, 6.39452845e-01,\n",
       "         1.87243904e-01, 6.25988064e-02, 4.47691802e-01, 8.67133660e-01,\n",
       "         8.38647718e-01, 7.40315239e-01, 4.27793261e-01, 9.95871029e-01,\n",
       "         1.40135144e-01, 9.10856115e-01, 5.94855805e-01, 8.89342959e-01,\n",
       "         1.62454658e-01, 3.10789888e-01, 9.15764485e-01, 7.03850882e-01,\n",
       "         9.69022915e-01, 1.45864273e-01, 3.00329848e-01, 6.46969907e-01,\n",
       "         9.47201503e-01, 2.02714640e-01, 6.43290307e-01, 9.16415301e-01,\n",
       "         5.58161180e-01, 9.05151084e-01, 7.67911692e-02, 7.77648974e-01,\n",
       "         9.22065595e-01, 8.49519808e-01, 7.27142380e-01, 7.62020923e-01,\n",
       "         8.51149528e-01, 1.50962079e-01, 2.29247526e-01, 3.55316681e-01,\n",
       "         2.00002510e-02, 2.23978319e-01, 1.21066742e-01, 2.18155462e-01,\n",
       "         3.05812465e-02, 2.84494306e-01, 3.80014870e-01, 8.30678099e-01,\n",
       "         1.60961739e-01, 5.32691812e-01, 4.43231142e-01, 6.96215855e-01,\n",
       "         6.93866785e-01, 8.56088363e-01, 4.19379727e-01, 1.14619606e-01,\n",
       "         3.79850544e-01, 7.54612480e-01, 2.98103499e-01, 8.61657842e-01,\n",
       "         6.27663862e-01, 8.36043124e-01, 2.94946586e-01, 1.54254935e-01,\n",
       "         3.07499053e-01, 6.29329352e-01, 9.87886789e-01, 2.54888703e-01,\n",
       "         5.16722595e-01, 1.08214832e-01, 8.39130011e-01, 4.41806558e-01,\n",
       "         3.32809619e-01, 3.66727167e-01, 1.46708917e-01, 2.56196461e-01,\n",
       "         3.26834328e-02, 7.87902750e-01, 5.83481941e-01, 8.80670297e-01,\n",
       "         7.46784531e-01, 7.55040194e-01, 2.99329072e-01, 4.20345030e-01,\n",
       "         1.72377110e-01, 5.55022917e-01, 8.26917024e-01, 9.28261295e-02,\n",
       "         5.64598175e-01, 8.90179165e-01, 1.96984030e-01, 3.75736243e-01,\n",
       "         3.39339130e-01, 8.35090841e-02, 4.49363951e-02, 2.19463254e-01,\n",
       "         9.27937550e-01, 8.16899828e-01, 7.02188535e-01, 5.04888220e-01,\n",
       "         2.93998695e-02, 1.37804872e-01, 2.94962283e-01, 5.23840133e-01,\n",
       "         8.32948372e-01, 2.56470507e-01, 2.37930932e-01, 8.88407884e-01,\n",
       "         9.29731096e-01, 9.71695715e-01, 6.29456841e-01, 3.73015147e-01,\n",
       "         9.92455406e-01, 5.66530043e-01, 9.79705387e-01, 8.54780281e-01,\n",
       "         6.27792249e-01, 1.19411649e-01, 8.68233152e-01, 3.31561560e-01,\n",
       "         3.01185648e-01, 9.47578856e-01, 6.34667468e-01, 2.94827121e-01,\n",
       "         4.62371951e-01, 7.93907592e-01, 7.28620048e-01, 1.77796724e-01,\n",
       "         3.94194669e-01, 1.65953046e-01, 9.45776229e-01, 8.68961349e-01,\n",
       "         6.79828450e-01, 1.51033670e-03, 9.86422999e-01, 1.26760254e-01,\n",
       "         3.49298936e-01, 5.15993833e-01, 5.84780421e-01, 6.91043252e-01,\n",
       "         3.04852055e-01, 6.47906141e-01, 4.94291473e-01, 6.45526282e-01,\n",
       "         1.10715055e-01, 8.07382096e-01, 1.03090852e-01, 3.19231952e-01,\n",
       "         7.70351732e-01, 4.46718294e-01, 4.02712051e-01, 5.99384601e-01,\n",
       "         3.43604743e-01, 2.71150734e-01, 1.95857363e-01, 6.22068498e-01,\n",
       "         7.59373361e-01, 2.46286995e-01, 5.92757985e-01, 4.76039374e-01,\n",
       "         2.76012782e-02, 5.61816825e-01, 1.96915209e-01, 9.35559681e-01,\n",
       "         9.91067480e-01, 2.30557758e-01, 7.28042838e-01, 3.33003753e-01,\n",
       "         1.65122898e-01, 4.60041768e-01, 1.76740130e-02, 5.93573433e-01,\n",
       "         6.93431826e-01, 3.40310993e-02, 2.23466873e-02, 6.15430444e-01,\n",
       "         7.87890868e-01, 7.24742209e-01, 8.61092077e-01, 8.02916425e-01,\n",
       "         9.16688862e-01, 9.37726634e-01, 9.64925142e-01, 5.85176644e-01,\n",
       "         2.47537496e-01, 5.29104707e-01, 4.52255676e-01, 1.56997767e-02,\n",
       "         2.00400289e-01, 9.57900282e-01, 5.26183739e-01, 6.60784513e-01,\n",
       "         6.03269608e-01, 1.72050057e-01, 7.66822466e-01, 5.97888389e-01,\n",
       "         6.33620876e-01, 6.13670326e-01, 6.25078376e-01, 9.44847849e-01,\n",
       "         9.20686571e-01, 5.87609990e-01, 2.82887941e-01, 6.17116863e-01,\n",
       "         6.08359915e-01, 1.03840554e-01, 2.02510096e-01, 6.70406736e-02,\n",
       "         9.53944243e-01, 6.20712179e-01, 7.38099114e-01, 4.19751659e-01,\n",
       "         8.32268954e-01, 5.09782962e-01, 5.93515522e-01, 4.89282438e-01,\n",
       "         5.03918772e-01, 2.05084015e-01, 8.13404457e-01, 8.94288764e-01,\n",
       "         1.92944301e-01, 2.27271823e-01, 5.34004726e-01, 8.88916737e-01,\n",
       "         2.51025331e-01, 3.30510460e-01, 2.26084696e-01, 2.41939847e-01,\n",
       "         9.65874410e-01, 7.17959815e-01, 4.50620468e-01, 7.63816924e-01,\n",
       "         6.95772375e-01, 5.47759228e-01, 2.83889001e-01, 5.32584695e-01,\n",
       "         5.07187474e-01, 8.96590996e-01, 5.94948201e-01, 3.88067176e-01,\n",
       "         6.56648811e-01, 8.66622633e-02, 5.22804096e-03, 9.44364033e-01,\n",
       "         3.45260788e-01, 7.60871948e-01, 1.91742933e-01, 1.97676578e-01,\n",
       "         6.29883336e-01, 8.01496255e-01, 1.82878776e-01, 5.40307751e-01,\n",
       "         2.25514284e-01, 8.50927815e-01, 9.54982033e-01, 2.18669128e-02,\n",
       "         7.07577076e-01, 1.88657340e-01, 5.81905834e-01, 9.63363385e-01,\n",
       "         7.70843326e-01, 3.35831485e-01, 6.97609597e-01, 1.45460314e-02,\n",
       "         4.87935333e-01, 2.69639319e-01, 6.89035785e-01, 8.39961509e-01,\n",
       "         1.83315828e-01, 5.67681838e-01, 8.01822909e-01, 4.95670487e-01,\n",
       "         4.78618366e-01, 5.09646537e-01, 7.84098346e-01, 4.45458649e-01,\n",
       "         6.53360484e-01, 4.87353648e-01, 9.36352834e-01, 2.23682540e-01,\n",
       "         8.13656667e-01, 9.79634717e-01, 8.33223431e-01, 4.88216565e-01,\n",
       "         5.56831839e-01, 1.83713373e-01, 1.42193061e-01, 5.77828196e-01,\n",
       "         6.42993943e-01, 7.93215198e-01, 6.54696610e-01, 7.03500058e-01,\n",
       "         1.65685901e-01, 1.81877330e-01, 5.58404827e-01, 4.62833887e-01,\n",
       "         9.15102321e-01, 6.42819609e-01, 7.79295378e-02, 2.51534798e-02,\n",
       "         2.03955490e-01, 2.51058684e-01, 1.90323282e-01, 3.78471585e-01,\n",
       "         4.15991439e-01, 5.99200519e-02, 9.51146798e-02, 8.38203131e-01,\n",
       "         3.66069455e-01, 4.44742108e-01, 9.40538866e-01, 2.92542839e-01,\n",
       "         3.20837542e-01, 8.07611074e-01, 4.15202156e-01, 5.77041650e-01,\n",
       "         5.14265327e-01, 8.50553153e-01, 7.90917727e-01, 9.09585699e-01,\n",
       "         8.64432168e-02, 6.58366084e-01, 9.39945344e-01, 3.35509312e-01,\n",
       "         6.19965603e-01, 5.01014984e-01, 8.37054328e-01, 4.43751908e-01,\n",
       "         4.32789101e-01, 4.38175531e-01, 9.95223584e-01, 6.40157809e-01,\n",
       "         2.83995896e-01, 1.95822784e-01, 3.96297093e-01, 7.04603442e-01,\n",
       "         9.98882715e-01, 1.83494551e-01, 4.04576092e-01, 2.76796117e-01,\n",
       "         9.73554987e-01, 8.54288618e-01, 1.18851945e-01, 6.52463753e-02,\n",
       "         6.54573499e-01, 1.95719802e-01, 1.84622699e-01, 9.82729457e-01,\n",
       "         9.99757276e-01, 5.56585731e-01, 6.90748264e-01, 2.89022305e-01,\n",
       "         7.39965163e-01, 1.05101572e-01, 6.98721809e-01, 3.87182812e-01,\n",
       "         8.02173692e-01, 2.97995362e-01, 7.49927642e-02, 2.89509060e-01,\n",
       "         3.90301505e-01, 7.89240108e-01, 3.38741226e-01, 1.05396688e-01,\n",
       "         7.43030238e-01, 6.49226653e-01, 4.64989505e-01, 4.07815836e-01,\n",
       "         2.24884932e-01, 2.61964120e-01, 6.46504717e-01, 8.24650168e-01,\n",
       "         5.21405106e-01, 3.41681135e-01, 3.49806772e-01, 3.19111595e-01,\n",
       "         8.52752289e-01, 6.50654615e-01, 4.90197988e-02, 4.28971311e-01,\n",
       "         6.97658715e-01, 8.09727373e-01, 9.35695178e-01, 6.76664153e-01,\n",
       "         8.39415482e-01, 7.86249338e-01, 9.72308531e-01, 8.91846325e-01,\n",
       "         6.57596402e-04, 1.78441264e-01, 6.58582443e-01, 9.72143626e-01,\n",
       "         8.75251243e-02, 9.03044362e-01, 1.23678695e-01, 5.80071635e-01,\n",
       "         2.19143346e-01, 2.18097667e-02, 6.93303525e-01, 4.24134293e-01,\n",
       "         9.33885237e-01, 8.42861692e-01, 6.97997122e-01, 6.08471309e-01,\n",
       "         2.27599625e-01, 5.70043153e-01, 9.85254097e-01, 8.92154467e-01,\n",
       "         3.16407598e-01, 1.36064702e-01, 6.13001164e-01, 3.45005455e-01,\n",
       "         4.31029924e-01, 3.67706066e-01, 8.91207035e-01, 1.89696380e-01,\n",
       "         5.41305901e-01, 8.35706453e-01, 5.55126214e-01, 9.38896344e-01,\n",
       "         5.95118116e-01, 2.61870849e-01, 1.36866433e-01, 1.04770641e-01,\n",
       "         8.91913966e-01, 5.62843160e-01, 4.85869281e-02, 8.75191471e-01,\n",
       "         6.20205472e-01, 9.00590603e-01, 7.42841442e-01, 8.92653097e-01,\n",
       "         1.56964312e-02, 2.32372712e-01, 7.47981432e-01, 5.69842622e-01,\n",
       "         5.86446861e-01, 2.90817272e-01, 8.47478705e-01, 1.54680899e-01,\n",
       "         9.13153727e-01, 4.27295618e-01, 9.09959287e-01, 9.46353579e-01,\n",
       "         5.78762323e-01, 7.27555138e-01, 7.06558389e-01, 8.81814032e-01,\n",
       "         5.86833969e-01, 1.96548825e-01, 3.88441765e-01, 1.52679944e-01,\n",
       "         6.25890842e-01, 9.56211263e-01, 4.11142740e-01, 6.77626947e-01,\n",
       "         6.09502215e-01, 1.67459660e-01, 7.36732491e-01, 8.80723922e-01,\n",
       "         8.02301732e-01, 2.55421965e-01, 1.72783277e-01, 5.83753528e-01,\n",
       "         8.89329371e-01, 5.22676659e-01, 3.81065798e-01, 8.40742684e-01,\n",
       "         3.39774226e-01, 9.34051570e-01, 7.04450386e-01, 7.54054296e-01,\n",
       "         9.75091324e-01, 8.58485957e-01, 5.47376329e-01, 2.24533318e-02,\n",
       "         4.55397048e-01, 7.58467749e-01, 2.87411931e-01, 5.60761641e-01,\n",
       "         5.53189329e-02, 7.08207305e-01, 5.77803047e-01, 6.84497552e-01,\n",
       "         9.40106589e-01, 1.81078365e-01, 3.54328768e-01, 6.19573553e-01,\n",
       "         4.88364276e-01, 7.22407962e-01, 9.54010909e-01, 8.51588007e-01,\n",
       "         3.84772129e-01, 8.84072340e-01, 6.21084911e-01, 7.18259533e-01,\n",
       "         4.95730598e-01]))]"
      ]
     },
     "execution_count": 20,
     "metadata": {},
     "output_type": "execute_result"
    }
   ],
   "source": [
    "expand_setpoints_helper(a.spectrum)"
   ]
  },
  {
   "cell_type": "code",
   "execution_count": 21,
   "metadata": {},
   "outputs": [
    {
     "name": "stdout",
     "output_type": "stream",
     "text": [
      "Starting experimental run with id: 2. \n"
     ]
    }
   ],
   "source": [
    "meas = Measurement()\n",
    "meas.register_parameter(a.spectrum)\n",
    "\n",
    "with meas.run() as datasaver:\n",
    "    datasaver.add_result(*expand_setpoints_helper(a.spectrum))\n",
    "    \n",
    "    dataid = datasaver.run_id"
   ]
  },
  {
   "cell_type": "code",
   "execution_count": null,
   "metadata": {},
   "outputs": [],
   "source": []
  }
 ],
 "metadata": {
  "kernelspec": {
   "display_name": "Python 3",
   "language": "python",
   "name": "python3"
  },
  "language_info": {
   "codemirror_mode": {
    "name": "ipython",
    "version": 3
   },
   "file_extension": ".py",
   "mimetype": "text/x-python",
   "name": "python",
   "nbconvert_exporter": "python",
   "pygments_lexer": "ipython3",
   "version": "3.7.7"
  },
  "toc": {
   "base_numbering": 1,
   "nav_menu": {},
   "number_sections": true,
   "sideBar": true,
   "skip_h1_title": false,
   "title_cell": "Table of Contents",
   "title_sidebar": "Contents",
   "toc_cell": false,
   "toc_position": {},
   "toc_section_display": true,
   "toc_window_display": false
  },
  "varInspector": {
   "cols": {
    "lenName": 16,
    "lenType": 16,
    "lenVar": 40
   },
   "kernels_config": {
    "python": {
     "delete_cmd_postfix": "",
     "delete_cmd_prefix": "del ",
     "library": "var_list.py",
     "varRefreshCmd": "print(var_dic_list())"
    },
    "r": {
     "delete_cmd_postfix": ") ",
     "delete_cmd_prefix": "rm(",
     "library": "var_list.r",
     "varRefreshCmd": "cat(var_dic_list()) "
    }
   },
   "types_to_exclude": [
    "module",
    "function",
    "builtin_function_or_method",
    "instance",
    "_Feature"
   ],
   "window_display": false
  }
 },
 "nbformat": 4,
 "nbformat_minor": 2
}
