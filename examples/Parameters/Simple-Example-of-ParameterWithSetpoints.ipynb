{
 "cells": [
  {
   "cell_type": "markdown",
   "metadata": {},
   "source": [
    "# Simple Example of ParameterWithSetpoints\n",
    "This notebook provides an example for writing a simple driver with a parameter that has setpoints. Let's name this parameter that has setpoints as \"y\". Then, the setpoints, say \"x1, x2, x3 ..\", are the parameters on which the parameter \n",
    "\"y\" depends upon. Meaning \"y\" is a function of \"x1, x2, x3 ...\" where \"x1, x2, x3 ...\" are known as the setpoints of parameter \"y\".\n",
    "\n",
    "This is most likely to be useful for instruments that return arrays of results. In this notebook, we will show an example of this."
   ]
  },
  {
   "cell_type": "code",
   "execution_count": 1,
   "metadata": {},
   "outputs": [],
   "source": [
    "import numpy as np\n",
    "import os"
   ]
  },
  {
   "cell_type": "code",
   "execution_count": 2,
   "metadata": {},
   "outputs": [
    {
     "name": "stdout",
     "output_type": "stream",
     "text": [
      "Logging hadn't been started.\n",
      "Activating auto-logging. Current session state plus future input saved.\n",
      "Filename       : /home/vsts/.qcodes/logs/command_history.log\n",
      "Mode           : append\n",
      "Output logging : True\n",
      "Raw input log  : False\n",
      "Timestamping   : True\n",
      "State          : active\n"
     ]
    },
    {
     "name": "stdout",
     "output_type": "stream",
     "text": [
      "Qcodes Logfile : /home/vsts/.qcodes/logs/200611-22023-qcodes.log\n"
     ]
    }
   ],
   "source": [
    "from qcodes.dataset.plotting import plot_dataset\n",
    "from qcodes.utils.validators import Numbers, Arrays\n",
    "from qcodes.instrument.base import Instrument\n",
    "from qcodes.dataset.measurements import Measurement"
   ]
  },
  {
   "cell_type": "code",
   "execution_count": 3,
   "metadata": {},
   "outputs": [],
   "source": [
    "from qcodes.dataset.sqlite.database import initialise_or_create_database_at\n",
    "from qcodes.dataset.experiment_container import load_or_create_experiment"
   ]
  },
  {
   "cell_type": "code",
   "execution_count": 4,
   "metadata": {},
   "outputs": [],
   "source": [
    "from qcodes.instrument.parameter import ParameterWithSetpoints, Parameter\n",
    "from qcodes.instrument.parameter import expand_setpoints_helper"
   ]
  },
  {
   "cell_type": "markdown",
   "metadata": {},
   "source": [
    "First, we define a dummy instrument that returns something like a frequency spectrum starting from a frequency given by `f_start` to a frequency given by `f_stop` in `n_points` steps. \n",
    "\n",
    "The extra functionality of the `ParameterWithSetpoints` is implemented by giving it a reference to one or more parameters that acts like its setpoints. \n",
    "\n",
    "To setup a `ParameterWithSetpoints` we have to do two things in addition to what we do for a normal parameter.\n",
    "\n",
    "* Define one or more parameter for the setpoints (one for each dimension of the array and let the `ParameterWithSetpoints` know that these are the setpoints.\n",
    "* Give both the setpoints parameter(s) and the `ParameterWithSetpoints` a `validator` of type `Arrays` with a shape. The shapes should be such that the combined shape of the setpoints matches the shape of the `ParameterWithSetpoints`. Note that if the shape changes with the setting of the instrument, it can be defined by another parameter as shown below. "
   ]
  },
  {
   "cell_type": "code",
   "execution_count": 5,
   "metadata": {},
   "outputs": [],
   "source": [
    "class GeneratedSetPoints(Parameter):\n",
    "    \"\"\"\n",
    "    A parameter that generates a setpoint array from start, stop and num points\n",
    "    parameters.\n",
    "    \"\"\"\n",
    "    def __init__(self, startparam, stopparam, numpointsparam, *args, **kwargs):\n",
    "        super().__init__(*args, **kwargs)\n",
    "        self._startparam = startparam\n",
    "        self._stopparam = stopparam\n",
    "        self._numpointsparam = numpointsparam\n",
    "\n",
    "    def get_raw(self):\n",
    "        return np.linspace(self._startparam(), self._stopparam(),\n",
    "                              self._numpointsparam())\n",
    "\n",
    "class DummyArray(ParameterWithSetpoints):\n",
    "    \n",
    "    def get_raw(self):\n",
    "        npoints = self.root_instrument.n_points.get_latest()\n",
    "        return np.random.rand(npoints)\n",
    "    \n",
    "\n",
    "class DummySpectrumAnalyzer(Instrument):\n",
    "    \n",
    "    def __init__(self, name, **kwargs):\n",
    "        \n",
    "        super().__init__(name, **kwargs)\n",
    "            \n",
    "\n",
    "        self.add_parameter('f_start',\n",
    "                           initial_value=0,\n",
    "                           unit='Hz',\n",
    "                           label='f start',\n",
    "                           vals=Numbers(0,1e3),\n",
    "                           get_cmd=None,\n",
    "                           set_cmd=None)\n",
    "\n",
    "        self.add_parameter('f_stop',\n",
    "                           unit='Hz',\n",
    "                           label='f stop',\n",
    "                           vals=Numbers(1,1e3),\n",
    "                           get_cmd=None,\n",
    "                           set_cmd=None)\n",
    "\n",
    "        self.add_parameter('n_points',\n",
    "                           unit='',\n",
    "                           initial_value=10,\n",
    "                           vals=Numbers(1,1e3),\n",
    "                           get_cmd=None,\n",
    "                           set_cmd=None)\n",
    "        \n",
    "        self.add_parameter('freq_axis',\n",
    "                           unit='Hz',\n",
    "                           label='Freq Axis',\n",
    "                           parameter_class=GeneratedSetPoints,\n",
    "                           startparam=self.f_start,\n",
    "                           stopparam=self.f_stop,\n",
    "                           numpointsparam=self.n_points,\n",
    "                           vals=Arrays(shape=(self.n_points.get_latest,)))\n",
    "                           \n",
    "        self.add_parameter('spectrum',\n",
    "                   unit='dBm',\n",
    "                   setpoints=(self.freq_axis,),\n",
    "                   label='Spectrum',\n",
    "                   parameter_class=DummyArray,\n",
    "                   vals=Arrays(shape=(self.n_points.get_latest,)))\n",
    "                "
   ]
  },
  {
   "cell_type": "markdown",
   "metadata": {},
   "source": [
    "In the above example, the shape is defined by the parameter `n_points` that defines how many samples our `DummySpectrumAnalyzer` returns.\n",
    "\n",
    "This means that the validation will call the function to get `n_points` twice for each `get` of the parameter. This may be too slow, however, if you (as the driver-writer) can guarantee that the cached value for `n_points` will never be out of sync with the value stored in the instrument, `n_points` may be replaced by it's latest known value such that the `validator` reads:\n",
    "```python\n",
    "vals=Arrays(shape=(self.n_points.get_latest))\n",
    "```\n",
    "\n",
    "This avoids any additional call to the instrument. In the same way, the arguments to the `freq_axis` parameter that defines the start, stop and number of points can be replaced by their latest value if the instrument allows it.\n",
    "\n"
   ]
  },
  {
   "cell_type": "code",
   "execution_count": 6,
   "metadata": {},
   "outputs": [
    {
     "name": "stdout",
     "output_type": "stream",
     "text": [
      "\r",
      "0it [00:00, ?it/s]"
     ]
    },
    {
     "name": "stdout",
     "output_type": "stream",
     "text": [
      "\r",
      "Upgrading database; v0 -> v1: : 0it [00:00, ?it/s]"
     ]
    },
    {
     "name": "stdout",
     "output_type": "stream",
     "text": [
      "\r",
      "Upgrading database; v0 -> v1: : 0it [00:00, ?it/s]"
     ]
    },
    {
     "name": "stdout",
     "output_type": "stream",
     "text": [
      "\n",
      "\r",
      "  0%|          | 0/1 [00:00<?, ?it/s]"
     ]
    },
    {
     "name": "stdout",
     "output_type": "stream",
     "text": [
      "\r",
      "Upgrading database; v1 -> v2:   0%|          | 0/1 [00:00<?, ?it/s]"
     ]
    },
    {
     "name": "stdout",
     "output_type": "stream",
     "text": [
      "\r",
      "Upgrading database; v1 -> v2: 100%|██████████| 1/1 [00:00<00:00, 982.73it/s]"
     ]
    },
    {
     "name": "stdout",
     "output_type": "stream",
     "text": [
      "\n",
      "\r",
      "0it [00:00, ?it/s]"
     ]
    },
    {
     "name": "stdout",
     "output_type": "stream",
     "text": [
      "\r",
      "Upgrading database; v2 -> v3: : 0it [00:00, ?it/s]"
     ]
    },
    {
     "name": "stdout",
     "output_type": "stream",
     "text": [
      "\r",
      "Upgrading database; v2 -> v3: : 0it [00:00, ?it/s]"
     ]
    },
    {
     "name": "stdout",
     "output_type": "stream",
     "text": [
      "\n",
      "\r",
      "0it [00:00, ?it/s]"
     ]
    },
    {
     "name": "stdout",
     "output_type": "stream",
     "text": [
      "\r",
      "Upgrading database; v3 -> v4: : 0it [00:00, ?it/s]"
     ]
    },
    {
     "name": "stdout",
     "output_type": "stream",
     "text": [
      "\r",
      "Upgrading database; v3 -> v4: : 0it [00:00, ?it/s]"
     ]
    },
    {
     "name": "stdout",
     "output_type": "stream",
     "text": [
      "\n",
      "\r",
      "  0%|          | 0/1 [00:00<?, ?it/s]"
     ]
    },
    {
     "name": "stdout",
     "output_type": "stream",
     "text": [
      "\r",
      "Upgrading database; v4 -> v5:   0%|          | 0/1 [00:00<?, ?it/s]"
     ]
    },
    {
     "name": "stdout",
     "output_type": "stream",
     "text": [
      "\r",
      "Upgrading database; v4 -> v5: 100%|██████████| 1/1 [00:00<00:00, 989.92it/s]"
     ]
    },
    {
     "name": "stdout",
     "output_type": "stream",
     "text": [
      "\n",
      "\r",
      "0it [00:00, ?it/s]"
     ]
    },
    {
     "name": "stdout",
     "output_type": "stream",
     "text": [
      "\r",
      "Upgrading database; v5 -> v6: : 0it [00:00, ?it/s]"
     ]
    },
    {
     "name": "stdout",
     "output_type": "stream",
     "text": [
      "\r",
      "Upgrading database; v5 -> v6: : 0it [00:00, ?it/s]"
     ]
    },
    {
     "name": "stdout",
     "output_type": "stream",
     "text": [
      "\n",
      "\r",
      "  0%|          | 0/1 [00:00<?, ?it/s]"
     ]
    },
    {
     "name": "stdout",
     "output_type": "stream",
     "text": [
      "\r",
      "Upgrading database; v6 -> v7:   0%|          | 0/1 [00:00<?, ?it/s]"
     ]
    },
    {
     "name": "stdout",
     "output_type": "stream",
     "text": [
      "\r",
      "Upgrading database; v6 -> v7: 100%|██████████| 1/1 [00:00<00:00, 420.95it/s]"
     ]
    },
    {
     "name": "stdout",
     "output_type": "stream",
     "text": [
      "\n",
      "\r",
      "  0%|          | 0/1 [00:00<?, ?it/s]"
     ]
    },
    {
     "name": "stdout",
     "output_type": "stream",
     "text": [
      "\r",
      "Upgrading database; v7 -> v8:   0%|          | 0/1 [00:00<?, ?it/s]"
     ]
    },
    {
     "name": "stdout",
     "output_type": "stream",
     "text": [
      "\r",
      "Upgrading database; v7 -> v8: 100%|██████████| 1/1 [00:00<00:00, 898.14it/s]"
     ]
    },
    {
     "name": "stdout",
     "output_type": "stream",
     "text": [
      "\n",
      "\r",
      "  0%|          | 0/1 [00:00<?, ?it/s]"
     ]
    },
    {
     "name": "stdout",
     "output_type": "stream",
     "text": [
      "\r",
      "Upgrading database; v8 -> v9:   0%|          | 0/1 [00:00<?, ?it/s]"
     ]
    },
    {
     "name": "stdout",
     "output_type": "stream",
     "text": [
      "\r",
      "Upgrading database; v8 -> v9: 100%|██████████| 1/1 [00:00<00:00, 1062.93it/s]"
     ]
    },
    {
     "name": "stdout",
     "output_type": "stream",
     "text": [
      "\n"
     ]
    },
    {
     "data": {
      "text/plain": [
       "tutorial_ParameterWithSetpoints#no sample#1@/home/vsts/work/1/s/docs/examples/Parameters/tutorial_paramter_with_setpoints.db\n",
       "----------------------------------------------------------------------------------------------------------------------------"
      ]
     },
     "execution_count": 6,
     "metadata": {},
     "output_type": "execute_result"
    }
   ],
   "source": [
    "tutorial_db_path = os.path.join(os.getcwd(), 'tutorial_paramter_with_setpoints.db')\n",
    "initialise_or_create_database_at(tutorial_db_path)\n",
    "load_or_create_experiment(experiment_name='tutorial_ParameterWithSetpoints', sample_name=\"no sample\")"
   ]
  },
  {
   "cell_type": "code",
   "execution_count": 7,
   "metadata": {},
   "outputs": [],
   "source": [
    "a = DummySpectrumAnalyzer('foobar')"
   ]
  },
  {
   "cell_type": "markdown",
   "metadata": {},
   "source": [
    "First we setup the limits of the spectrum"
   ]
  },
  {
   "cell_type": "code",
   "execution_count": 8,
   "metadata": {},
   "outputs": [],
   "source": [
    "a.f_start(0)\n",
    "a.f_stop(500)\n",
    "a.n_points(501)"
   ]
  },
  {
   "cell_type": "markdown",
   "metadata": {},
   "source": [
    "And we can grab the frequency axis"
   ]
  },
  {
   "cell_type": "code",
   "execution_count": 9,
   "metadata": {},
   "outputs": [
    {
     "data": {
      "text/plain": [
       "501"
      ]
     },
     "execution_count": 9,
     "metadata": {},
     "output_type": "execute_result"
    }
   ],
   "source": [
    "a.n_points()"
   ]
  },
  {
   "cell_type": "code",
   "execution_count": 10,
   "metadata": {
    "scrolled": false
   },
   "outputs": [
    {
     "data": {
      "text/plain": [
       "501"
      ]
     },
     "execution_count": 10,
     "metadata": {},
     "output_type": "execute_result"
    }
   ],
   "source": [
    "freq_axis = a.freq_axis()\n",
    "len(freq_axis)"
   ]
  },
  {
   "cell_type": "code",
   "execution_count": 11,
   "metadata": {},
   "outputs": [
    {
     "data": {
      "text/plain": [
       "array([0., 1., 2., 3., 4., 5., 6., 7., 8., 9.])"
      ]
     },
     "execution_count": 11,
     "metadata": {},
     "output_type": "execute_result"
    }
   ],
   "source": [
    "freq_axis[:10]"
   ]
  },
  {
   "cell_type": "markdown",
   "metadata": {},
   "source": [
    "As expected we get a result wit 501 points as we asked for an axis with 501 points. "
   ]
  },
  {
   "cell_type": "markdown",
   "metadata": {},
   "source": [
    "Above we have added a validator to the `freq_axis` parameter encoding the fact that this is an Array with `n_points`. Note that we do not have to supply the number of points as an integer but can supply a function that returns the valid number of points. This would normally be a QCoDeS parameter.\n",
    "\n",
    "This will be checked if we validate the output."
   ]
  },
  {
   "cell_type": "code",
   "execution_count": 12,
   "metadata": {},
   "outputs": [],
   "source": [
    "a.freq_axis.validate(a.freq_axis.get())"
   ]
  },
  {
   "cell_type": "markdown",
   "metadata": {},
   "source": [
    "Naturally, we can also get the spectrum. Getting the spectrum will automatically perform validation both for the shape of the parameter itself and the relation to the setpoint parameter(s)"
   ]
  },
  {
   "cell_type": "code",
   "execution_count": 13,
   "metadata": {
    "scrolled": true
   },
   "outputs": [
    {
     "data": {
      "text/plain": [
       "501"
      ]
     },
     "execution_count": 13,
     "metadata": {},
     "output_type": "execute_result"
    }
   ],
   "source": [
    "spectrum = a.spectrum.get()\n",
    "len(spectrum)"
   ]
  },
  {
   "cell_type": "markdown",
   "metadata": {},
   "source": [
    "When we validate a `ParameterWithSetpoints`, we automatically validate that the shape is consistent between the parameters and its setpoints. As well as validating the shape as above."
   ]
  },
  {
   "cell_type": "code",
   "execution_count": 14,
   "metadata": {},
   "outputs": [],
   "source": [
    "a.spectrum.validate(a.spectrum.get())"
   ]
  },
  {
   "cell_type": "markdown",
   "metadata": {},
   "source": [
    "The consistent shapes can be validated explicitly."
   ]
  },
  {
   "cell_type": "code",
   "execution_count": 15,
   "metadata": {},
   "outputs": [],
   "source": [
    "a.spectrum.validate_consistent_shape()"
   ]
  },
  {
   "cell_type": "markdown",
   "metadata": {},
   "source": [
    "We can inspect the setpoints of the spectrum."
   ]
  },
  {
   "cell_type": "code",
   "execution_count": 16,
   "metadata": {},
   "outputs": [
    {
     "data": {
      "text/plain": [
       "(<__main__.GeneratedSetPoints: freq_axis at 140624165907408>,)"
      ]
     },
     "execution_count": 16,
     "metadata": {},
     "output_type": "execute_result"
    }
   ],
   "source": [
    "a.spectrum.setpoints"
   ]
  },
  {
   "cell_type": "markdown",
   "metadata": {},
   "source": [
    "Or even change them."
   ]
  },
  {
   "cell_type": "code",
   "execution_count": 17,
   "metadata": {},
   "outputs": [],
   "source": [
    "a.spectrum.setpoints = (a.freq_axis,)"
   ]
  },
  {
   "cell_type": "markdown",
   "metadata": {},
   "source": [
    "## Measurement"
   ]
  },
  {
   "cell_type": "markdown",
   "metadata": {},
   "source": [
    "We can also directly consume the parameter in a measurement without defining the setpoints of the parameter again. The setpoints are automatically obtained from the definition of the `ParameterWithSetpoint` instance. "
   ]
  },
  {
   "cell_type": "code",
   "execution_count": 18,
   "metadata": {},
   "outputs": [
    {
     "name": "stdout",
     "output_type": "stream",
     "text": [
      "Starting experimental run with id: 1. \n"
     ]
    }
   ],
   "source": [
    "meas = Measurement()\n",
    "meas.register_parameter(a.spectrum)\n",
    "\n",
    "with meas.run() as datasaver:\n",
    "    datasaver.add_result((a.freq_axis, a.freq_axis()),\n",
    "                         (a.spectrum, a.spectrum()))\n",
    "    dataset = datasaver.dataset"
   ]
  },
  {
   "cell_type": "markdown",
   "metadata": {},
   "source": [
    "And plot it"
   ]
  },
  {
   "cell_type": "code",
   "execution_count": 19,
   "metadata": {},
   "outputs": [
    {
     "data": {
      "text/plain": [
       "([<matplotlib.axes._subplots.AxesSubplot at 0x7fe59e078a50>], [None])"
      ]
     },
     "execution_count": 19,
     "metadata": {},
     "output_type": "execute_result"
    },
    {
     "data": {
      "image/png": "[encoded data removed]",
      "text/plain": [
       "<Figure size 432x288 with 1 Axes>"
      ]
     },
     "metadata": {
      "needs_background": "light"
     },
     "output_type": "display_data"
    }
   ],
   "source": [
    "plot_dataset(dataset)"
   ]
  },
  {
   "cell_type": "markdown",
   "metadata": {},
   "source": [
    "To reduce the amount of typing a simple convenience function is provided that will take a `ParameterWithSetpoints` and get both its values and the setpoints values and return them as tuples for direct insertion into the Dataset."
   ]
  },
  {
   "cell_type": "code",
   "execution_count": 20,
   "metadata": {
    "scrolled": true
   },
   "outputs": [
    {
     "data": {
      "text/plain": [
       "[(<__main__.GeneratedSetPoints: freq_axis at 140624165907408>,\n",
       "  array([  0.,   1.,   2.,   3.,   4.,   5.,   6.,   7.,   8.,   9.,  10.,\n",
       "          11.,  12.,  13.,  14.,  15.,  16.,  17.,  18.,  19.,  20.,  21.,\n",
       "          22.,  23.,  24.,  25.,  26.,  27.,  28.,  29.,  30.,  31.,  32.,\n",
       "          33.,  34.,  35.,  36.,  37.,  38.,  39.,  40.,  41.,  42.,  43.,\n",
       "          44.,  45.,  46.,  47.,  48.,  49.,  50.,  51.,  52.,  53.,  54.,\n",
       "          55.,  56.,  57.,  58.,  59.,  60.,  61.,  62.,  63.,  64.,  65.,\n",
       "          66.,  67.,  68.,  69.,  70.,  71.,  72.,  73.,  74.,  75.,  76.,\n",
       "          77.,  78.,  79.,  80.,  81.,  82.,  83.,  84.,  85.,  86.,  87.,\n",
       "          88.,  89.,  90.,  91.,  92.,  93.,  94.,  95.,  96.,  97.,  98.,\n",
       "          99., 100., 101., 102., 103., 104., 105., 106., 107., 108., 109.,\n",
       "         110., 111., 112., 113., 114., 115., 116., 117., 118., 119., 120.,\n",
       "         121., 122., 123., 124., 125., 126., 127., 128., 129., 130., 131.,\n",
       "         132., 133., 134., 135., 136., 137., 138., 139., 140., 141., 142.,\n",
       "         143., 144., 145., 146., 147., 148., 149., 150., 151., 152., 153.,\n",
       "         154., 155., 156., 157., 158., 159., 160., 161., 162., 163., 164.,\n",
       "         165., 166., 167., 168., 169., 170., 171., 172., 173., 174., 175.,\n",
       "         176., 177., 178., 179., 180., 181., 182., 183., 184., 185., 186.,\n",
       "         187., 188., 189., 190., 191., 192., 193., 194., 195., 196., 197.,\n",
       "         198., 199., 200., 201., 202., 203., 204., 205., 206., 207., 208.,\n",
       "         209., 210., 211., 212., 213., 214., 215., 216., 217., 218., 219.,\n",
       "         220., 221., 222., 223., 224., 225., 226., 227., 228., 229., 230.,\n",
       "         231., 232., 233., 234., 235., 236., 237., 238., 239., 240., 241.,\n",
       "         242., 243., 244., 245., 246., 247., 248., 249., 250., 251., 252.,\n",
       "         253., 254., 255., 256., 257., 258., 259., 260., 261., 262., 263.,\n",
       "         264., 265., 266., 267., 268., 269., 270., 271., 272., 273., 274.,\n",
       "         275., 276., 277., 278., 279., 280., 281., 282., 283., 284., 285.,\n",
       "         286., 287., 288., 289., 290., 291., 292., 293., 294., 295., 296.,\n",
       "         297., 298., 299., 300., 301., 302., 303., 304., 305., 306., 307.,\n",
       "         308., 309., 310., 311., 312., 313., 314., 315., 316., 317., 318.,\n",
       "         319., 320., 321., 322., 323., 324., 325., 326., 327., 328., 329.,\n",
       "         330., 331., 332., 333., 334., 335., 336., 337., 338., 339., 340.,\n",
       "         341., 342., 343., 344., 345., 346., 347., 348., 349., 350., 351.,\n",
       "         352., 353., 354., 355., 356., 357., 358., 359., 360., 361., 362.,\n",
       "         363., 364., 365., 366., 367., 368., 369., 370., 371., 372., 373.,\n",
       "         374., 375., 376., 377., 378., 379., 380., 381., 382., 383., 384.,\n",
       "         385., 386., 387., 388., 389., 390., 391., 392., 393., 394., 395.,\n",
       "         396., 397., 398., 399., 400., 401., 402., 403., 404., 405., 406.,\n",
       "         407., 408., 409., 410., 411., 412., 413., 414., 415., 416., 417.,\n",
       "         418., 419., 420., 421., 422., 423., 424., 425., 426., 427., 428.,\n",
       "         429., 430., 431., 432., 433., 434., 435., 436., 437., 438., 439.,\n",
       "         440., 441., 442., 443., 444., 445., 446., 447., 448., 449., 450.,\n",
       "         451., 452., 453., 454., 455., 456., 457., 458., 459., 460., 461.,\n",
       "         462., 463., 464., 465., 466., 467., 468., 469., 470., 471., 472.,\n",
       "         473., 474., 475., 476., 477., 478., 479., 480., 481., 482., 483.,\n",
       "         484., 485., 486., 487., 488., 489., 490., 491., 492., 493., 494.,\n",
       "         495., 496., 497., 498., 499., 500.])),\n",
       " (<__main__.DummyArray: spectrum at 140624165906256>,\n",
       "  array([1.42453987e-02, 3.84185385e-01, 8.86776478e-01, 1.41653955e-01,\n",
       "         7.46177859e-01, 4.27151166e-01, 9.02251964e-01, 6.20191043e-01,\n",
       "         6.83262955e-01, 5.75557651e-01, 7.98615260e-01, 1.33037075e-01,\n",
       "         8.53056644e-01, 9.12118604e-01, 6.54286697e-01, 6.82243231e-01,\n",
       "         2.22545476e-01, 1.30385016e-01, 3.01390438e-01, 2.48513872e-01,\n",
       "         2.44079211e-01, 7.94327275e-01, 4.21911743e-01, 4.96787098e-01,\n",
       "         9.36244719e-01, 4.50320253e-02, 7.07908376e-01, 3.17193626e-01,\n",
       "         6.71837500e-01, 9.23861651e-01, 9.60817647e-01, 1.91780867e-01,\n",
       "         1.55939345e-01, 1.49795900e-01, 9.80764052e-02, 4.75090981e-01,\n",
       "         3.99045945e-01, 1.22675478e-02, 5.35559175e-01, 7.02193365e-01,\n",
       "         5.67759597e-01, 3.39078638e-01, 5.86629493e-01, 6.08233652e-01,\n",
       "         5.43272954e-01, 1.54471918e-01, 3.24847351e-02, 8.33521240e-01,\n",
       "         1.23720776e-01, 7.79373008e-01, 4.95682144e-01, 5.64279844e-01,\n",
       "         5.98383824e-01, 3.77756750e-01, 7.13562257e-01, 5.22243162e-01,\n",
       "         4.10567623e-01, 4.63229438e-01, 6.25347309e-01, 9.14142961e-01,\n",
       "         4.34560947e-01, 4.57690344e-01, 6.50405883e-01, 3.16121579e-01,\n",
       "         4.66039228e-01, 7.49365522e-01, 3.73357555e-01, 3.13310302e-01,\n",
       "         3.00037297e-01, 8.42915252e-01, 4.53656741e-01, 2.31590210e-01,\n",
       "         4.25497172e-01, 3.34952539e-01, 5.95791177e-01, 2.62955001e-01,\n",
       "         5.16835521e-01, 2.15055638e-01, 2.19418965e-01, 5.60624805e-01,\n",
       "         4.73365213e-01, 1.45980919e-01, 2.96269666e-01, 1.51437502e-01,\n",
       "         3.67141992e-01, 3.36038940e-01, 5.28613109e-02, 7.42626784e-01,\n",
       "         1.46940446e-01, 8.87497440e-01, 5.78015475e-01, 8.88496553e-01,\n",
       "         1.74575005e-04, 7.96778038e-01, 1.30587926e-01, 8.82004608e-01,\n",
       "         3.04433039e-01, 9.04553305e-01, 4.33480557e-01, 7.82398420e-01,\n",
       "         8.79038342e-01, 4.62753290e-01, 9.14449295e-01, 4.92633454e-01,\n",
       "         3.24993784e-01, 1.51916549e-02, 2.36848687e-01, 4.44553012e-01,\n",
       "         3.31040102e-01, 4.91274030e-01, 4.87018386e-01, 9.17357494e-01,\n",
       "         7.06957462e-03, 9.62528621e-01, 6.77374585e-01, 8.42772956e-01,\n",
       "         6.22588857e-01, 7.42895254e-01, 1.28936947e-01, 9.08713340e-02,\n",
       "         3.78512247e-01, 6.09717755e-01, 9.79897435e-01, 4.66795344e-01,\n",
       "         1.87178635e-01, 1.98029283e-01, 7.29855118e-01, 1.51650651e-01,\n",
       "         5.22921113e-01, 8.21857960e-01, 2.89611015e-01, 7.84863193e-02,\n",
       "         6.06896717e-01, 8.64783036e-01, 6.45998210e-01, 6.80114499e-02,\n",
       "         2.18026162e-01, 9.21992067e-01, 9.38637986e-01, 3.16400955e-02,\n",
       "         2.38061534e-01, 6.75424528e-01, 7.80217957e-01, 9.35146412e-01,\n",
       "         1.60452945e-01, 1.79056410e-01, 1.49203282e-01, 1.92719319e-01,\n",
       "         9.55722334e-01, 5.19455924e-01, 3.43826403e-01, 7.09763536e-01,\n",
       "         5.60463833e-01, 6.07996764e-01, 1.28683926e-02, 2.43589156e-01,\n",
       "         6.34711475e-02, 5.51412850e-01, 8.57757653e-02, 7.46371585e-01,\n",
       "         2.44270550e-01, 8.72671602e-02, 8.88294158e-01, 4.83880598e-01,\n",
       "         5.87963230e-01, 4.21200755e-01, 7.62888855e-01, 3.85598631e-01,\n",
       "         1.71926447e-01, 8.16770078e-01, 6.38057028e-01, 3.69414547e-01,\n",
       "         8.70552983e-01, 9.06409427e-01, 7.97018310e-01, 5.97287743e-01,\n",
       "         1.85306799e-01, 7.34182049e-01, 4.00846676e-01, 9.81881276e-01,\n",
       "         4.34657903e-01, 5.07543201e-01, 7.89069916e-01, 7.21917780e-02,\n",
       "         3.14150721e-01, 1.15315311e-01, 3.30446364e-01, 5.69925262e-01,\n",
       "         8.93966357e-01, 3.68558956e-01, 3.57279374e-01, 4.51200077e-01,\n",
       "         1.95509974e-01, 1.07362162e-01, 2.66658653e-01, 3.97612579e-02,\n",
       "         4.87849060e-01, 5.88864976e-01, 6.79573683e-01, 7.39950156e-01,\n",
       "         1.63789332e-01, 9.67470644e-01, 6.09206735e-01, 4.29269938e-01,\n",
       "         1.79486244e-01, 5.05556326e-01, 4.73881387e-01, 4.37956765e-01,\n",
       "         6.60682931e-01, 1.43039181e-01, 5.62689143e-01, 6.48154209e-01,\n",
       "         8.47806128e-01, 7.31399889e-01, 5.33395673e-01, 5.35670056e-01,\n",
       "         3.11019179e-01, 7.76537405e-01, 4.88653277e-01, 2.83984884e-01,\n",
       "         3.28394831e-01, 2.99720882e-01, 4.52938673e-01, 5.71347645e-01,\n",
       "         2.62018035e-01, 1.11098525e-02, 4.05159426e-01, 9.44646875e-01,\n",
       "         7.20945347e-01, 7.52710432e-01, 3.64907794e-01, 1.98025240e-01,\n",
       "         3.65379208e-01, 3.18481875e-01, 8.56119988e-01, 4.51562834e-01,\n",
       "         5.63581887e-01, 5.90499254e-02, 2.80526106e-01, 7.98548610e-01,\n",
       "         5.36949515e-01, 1.36701029e-01, 5.45024679e-01, 1.87560316e-01,\n",
       "         4.35392089e-02, 1.77850542e-01, 3.76271098e-01, 6.01141578e-01,\n",
       "         2.78754342e-01, 7.94844028e-01, 6.70220053e-01, 1.75506713e-01,\n",
       "         6.99373404e-02, 9.32121315e-01, 8.28959354e-01, 1.32430417e-01,\n",
       "         6.34959116e-01, 6.62874675e-01, 8.16566177e-02, 7.60108715e-01,\n",
       "         7.82346490e-01, 2.58395598e-01, 8.14023035e-01, 6.92481668e-01,\n",
       "         4.75561307e-01, 5.87700494e-03, 9.33647033e-01, 8.60182803e-01,\n",
       "         7.48850100e-01, 2.03316734e-01, 6.09642925e-01, 9.98141519e-02,\n",
       "         6.00649109e-02, 1.34379739e-01, 4.11482074e-01, 1.24379996e-01,\n",
       "         1.03949042e-01, 4.86553000e-01, 8.82558264e-01, 3.35920354e-01,\n",
       "         3.06010016e-02, 4.60140391e-01, 6.46006139e-01, 1.63055054e-01,\n",
       "         9.92760399e-01, 6.66602268e-01, 9.57669032e-01, 8.64047736e-01,\n",
       "         3.34625157e-02, 7.67988190e-01, 7.81721442e-01, 8.36549608e-01,\n",
       "         4.47568937e-01, 5.46508011e-01, 1.65414127e-01, 9.65511499e-01,\n",
       "         7.62383595e-01, 7.99184648e-01, 7.41894946e-01, 2.51150512e-02,\n",
       "         5.46632286e-01, 6.85800293e-01, 7.61574818e-01, 9.74953240e-01,\n",
       "         7.25817014e-01, 2.06530894e-01, 3.06308989e-03, 6.89045498e-01,\n",
       "         4.23230116e-01, 5.96258247e-02, 9.43511915e-01, 1.00295622e-01,\n",
       "         7.05593022e-01, 8.18758931e-01, 8.71752258e-01, 6.11720527e-02,\n",
       "         9.80825758e-01, 5.86212376e-01, 6.94311490e-01, 7.60455026e-02,\n",
       "         3.25841959e-01, 2.01853196e-01, 7.72503539e-01, 5.06016268e-01,\n",
       "         4.13787708e-01, 4.07371658e-01, 3.98991506e-01, 3.93645354e-02,\n",
       "         4.06296883e-01, 9.07096418e-01, 3.48971816e-01, 3.98852867e-01,\n",
       "         8.86190391e-01, 3.88220727e-01, 4.46756761e-01, 4.21121985e-01,\n",
       "         1.94524741e-01, 5.02371044e-01, 3.19968768e-01, 4.89927173e-01,\n",
       "         9.60471307e-01, 1.30510579e-01, 6.38334101e-01, 2.45430363e-01,\n",
       "         1.86974682e-01, 7.94618295e-02, 3.31995114e-01, 5.37000069e-01,\n",
       "         1.45515478e-01, 7.53253554e-02, 5.08542195e-02, 2.03162268e-01,\n",
       "         3.42708218e-01, 3.09711720e-01, 7.66345498e-01, 6.14692338e-01,\n",
       "         4.82458492e-01, 4.87486628e-01, 5.64226523e-01, 9.67841306e-01,\n",
       "         7.54115403e-01, 8.81786805e-01, 1.60341704e-01, 5.82563924e-01,\n",
       "         5.96689360e-02, 1.10853480e-01, 8.22590718e-02, 1.28899027e-01,\n",
       "         5.19515390e-01, 6.46624778e-01, 4.50838973e-01, 2.33759626e-01,\n",
       "         4.82665935e-01, 4.44444016e-01, 4.20424482e-01, 2.33210326e-01,\n",
       "         7.53861862e-01, 3.96963128e-01, 7.35917570e-01, 7.67806792e-01,\n",
       "         1.68467371e-01, 5.62265922e-01, 9.51068285e-01, 6.22851068e-01,\n",
       "         7.78924487e-01, 1.12742333e-01, 5.25199629e-01, 7.74855590e-01,\n",
       "         2.88107572e-01, 1.47359950e-01, 5.09812296e-01, 1.06358012e-01,\n",
       "         1.14819799e-01, 9.75598796e-01, 4.96306877e-01, 6.61622997e-01,\n",
       "         5.91252794e-01, 1.64024681e-01, 9.18796630e-01, 9.68567132e-01,\n",
       "         9.21725627e-01, 3.13244463e-01, 9.89924545e-01, 8.22751403e-01,\n",
       "         9.06305996e-01, 3.72682333e-01, 7.90899941e-02, 5.20393887e-02,\n",
       "         8.60567148e-01, 2.80184107e-01, 2.48678026e-01, 7.92497210e-01,\n",
       "         4.66850834e-01, 2.22376277e-01, 2.26055897e-01, 6.67505672e-01,\n",
       "         2.10999330e-01, 2.92756927e-01, 4.49796737e-02, 6.40127708e-01,\n",
       "         6.41839360e-01, 9.71858787e-01, 8.71408223e-01, 6.59874175e-01,\n",
       "         7.66506299e-01, 5.09692542e-01, 9.67855536e-01, 7.08638799e-01,\n",
       "         6.64584242e-01, 1.83385274e-01, 3.12027304e-01, 9.16939569e-01,\n",
       "         7.47863776e-01, 3.01859723e-01, 4.28176688e-01, 8.93861487e-03,\n",
       "         4.05012898e-01, 5.03987000e-01, 9.19243410e-01, 7.04091559e-01,\n",
       "         1.63467827e-01, 4.59565962e-01, 9.01895285e-01, 8.86441609e-01,\n",
       "         7.34588490e-01, 1.19080272e-01, 6.53037009e-01, 2.98236493e-01,\n",
       "         2.28365690e-04, 7.48470896e-01, 9.15153851e-02, 6.93984995e-01,\n",
       "         8.95211368e-01, 7.11936799e-01, 9.32182214e-01, 6.16534067e-01,\n",
       "         2.85965628e-01, 4.07166172e-01, 2.04113907e-01, 3.52473413e-01,\n",
       "         2.79913893e-01, 6.88953770e-01, 9.60326205e-01, 7.67829329e-01,\n",
       "         9.79608432e-01, 1.05371367e-01, 9.73111688e-01, 5.22147766e-01,\n",
       "         5.84248907e-01, 8.06741843e-01, 2.18130451e-01, 5.56688421e-02,\n",
       "         4.09142982e-03, 4.44767562e-01, 6.63450794e-01, 1.08301675e-01,\n",
       "         6.79965114e-01, 9.83325306e-01, 1.91957222e-01, 1.30296765e-01,\n",
       "         6.78776122e-01, 1.85523817e-01, 7.96519811e-01, 7.58877235e-01,\n",
       "         8.24249727e-01, 7.91226518e-01, 5.80337954e-01, 3.17639880e-01,\n",
       "         8.05134574e-01, 4.86223662e-01, 3.55953322e-01, 2.75821115e-01,\n",
       "         6.58875681e-01, 9.43961706e-01, 8.12317913e-01, 6.53845363e-01,\n",
       "         2.11681128e-01, 3.51175266e-01, 3.45651247e-01, 4.05187227e-01,\n",
       "         9.35808780e-01]))]"
      ]
     },
     "execution_count": 20,
     "metadata": {},
     "output_type": "execute_result"
    }
   ],
   "source": [
    "expand_setpoints_helper(a.spectrum)"
   ]
  },
  {
   "cell_type": "code",
   "execution_count": 21,
   "metadata": {},
   "outputs": [
    {
     "name": "stdout",
     "output_type": "stream",
     "text": [
      "Starting experimental run with id: 2. \n"
     ]
    }
   ],
   "source": [
    "meas = Measurement()\n",
    "meas.register_parameter(a.spectrum)\n",
    "\n",
    "with meas.run() as datasaver:\n",
    "    datasaver.add_result(*expand_setpoints_helper(a.spectrum))\n",
    "    \n",
    "    dataid = datasaver.run_id"
   ]
  },
  {
   "cell_type": "code",
   "execution_count": null,
   "metadata": {},
   "outputs": [],
   "source": []
  }
 ],
 "metadata": {
  "kernelspec": {
   "display_name": "Python 3",
   "language": "python",
   "name": "python3"
  },
  "language_info": {
   "codemirror_mode": {
    "name": "ipython",
    "version": 3
   },
   "file_extension": ".py",
   "mimetype": "text/x-python",
   "name": "python",
   "nbconvert_exporter": "python",
   "pygments_lexer": "ipython3",
   "version": "3.7.7"
  },
  "toc": {
   "base_numbering": 1,
   "nav_menu": {},
   "number_sections": true,
   "sideBar": true,
   "skip_h1_title": false,
   "title_cell": "Table of Contents",
   "title_sidebar": "Contents",
   "toc_cell": false,
   "toc_position": {},
   "toc_section_display": true,
   "toc_window_display": false
  },
  "varInspector": {
   "cols": {
    "lenName": 16,
    "lenType": 16,
    "lenVar": 40
   },
   "kernels_config": {
    "python": {
     "delete_cmd_postfix": "",
     "delete_cmd_prefix": "del ",
     "library": "var_list.py",
     "varRefreshCmd": "print(var_dic_list())"
    },
    "r": {
     "delete_cmd_postfix": ") ",
     "delete_cmd_prefix": "rm(",
     "library": "var_list.r",
     "varRefreshCmd": "cat(var_dic_list()) "
    }
   },
   "types_to_exclude": [
    "module",
    "function",
    "builtin_function_or_method",
    "instance",
    "_Feature"
   ],
   "window_display": false
  }
 },
 "nbformat": 4,
 "nbformat_minor": 2
}
