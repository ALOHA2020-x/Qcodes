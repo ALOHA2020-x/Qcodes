{
 "cells": [
  {
   "cell_type": "markdown",
   "metadata": {},
   "source": [
    "# Simple Example of ParameterWithSetpoints\n",
    "This notebook provides an example for writing a simple driver with a parameter that has setpoints. Let's name this parameter that has setpoints as \"y\". Then, the setpoints, say \"x1, x2, x3 ..\", are the parameters on which the parameter \n",
    "\"y\" depends upon. Meaning \"y\" is a function of \"x1, x2, x3 ...\" where \"x1, x2, x3 ...\" are known as the setpoints of parameter \"y\".\n",
    "\n",
    "This is most likely to be useful for instruments that return arrays of results. In this notebook, we will show an example of this."
   ]
  },
  {
   "cell_type": "code",
   "execution_count": 1,
   "metadata": {},
   "outputs": [],
   "source": [
    "import numpy as np\n",
    "import os"
   ]
  },
  {
   "cell_type": "code",
   "execution_count": 2,
   "metadata": {},
   "outputs": [
    {
     "name": "stdout",
     "output_type": "stream",
     "text": [
      "Logging hadn't been started.\n",
      "Activating auto-logging. Current session state plus future input saved.\n",
      "Filename       : /home/vsts/.qcodes/logs/command_history.log\n",
      "Mode           : append\n",
      "Output logging : True\n",
      "Raw input log  : False\n",
      "Timestamping   : True\n",
      "State          : active\n"
     ]
    },
    {
     "name": "stdout",
     "output_type": "stream",
     "text": [
      "Qcodes Logfile : /home/vsts/.qcodes/logs/200407-22427-qcodes.log\n"
     ]
    }
   ],
   "source": [
    "from qcodes.dataset.plotting import plot_dataset\n",
    "from qcodes.utils.validators import Numbers, Arrays\n",
    "from qcodes.instrument.base import Instrument\n",
    "from qcodes.dataset.measurements import Measurement"
   ]
  },
  {
   "cell_type": "code",
   "execution_count": 3,
   "metadata": {},
   "outputs": [],
   "source": [
    "from qcodes.dataset.sqlite.database import initialise_or_create_database_at\n",
    "from qcodes.dataset.experiment_container import load_or_create_experiment"
   ]
  },
  {
   "cell_type": "code",
   "execution_count": 4,
   "metadata": {},
   "outputs": [],
   "source": [
    "from qcodes.instrument.parameter import ParameterWithSetpoints, Parameter\n",
    "from qcodes.instrument.parameter import expand_setpoints_helper"
   ]
  },
  {
   "cell_type": "markdown",
   "metadata": {},
   "source": [
    "First, we define a dummy instrument that returns something like a frequency spectrum starting from a frequency given by `f_start` to a frequency given by `f_stop` in `n_points` steps. \n",
    "\n",
    "The extra functionality of the `ParameterWithSetpoints` is implemented by giving it a reference to one or more parameters that acts like its setpoints. \n",
    "\n",
    "To setup a `ParameterWithSetpoints` we have to do two things in addition to what we do for a normal parameter.\n",
    "\n",
    "* Define one or more parameter for the setpoints (one for each dimension of the array and let the `ParameterWithSetpoints` know that these are the setpoints.\n",
    "* Give both the setpoints parameter(s) and the `ParameterWithSetpoints` a `validator` of type `Arrays` with a shape. The shapes should be such that the combined shape of the setpoints matches the shape of the `ParameterWithSetpoints`. Note that if the shape changes with the setting of the instrument, it can be defined by another parameter as shown below. "
   ]
  },
  {
   "cell_type": "code",
   "execution_count": 5,
   "metadata": {},
   "outputs": [],
   "source": [
    "class GeneratedSetPoints(Parameter):\n",
    "    \"\"\"\n",
    "    A parameter that generates a setpoint array from start, stop and num points\n",
    "    parameters.\n",
    "    \"\"\"\n",
    "    def __init__(self, startparam, stopparam, numpointsparam, *args, **kwargs):\n",
    "        super().__init__(*args, **kwargs)\n",
    "        self._startparam = startparam\n",
    "        self._stopparam = stopparam\n",
    "        self._numpointsparam = numpointsparam\n",
    "\n",
    "    def get_raw(self):\n",
    "        return np.linspace(self._startparam(), self._stopparam(),\n",
    "                              self._numpointsparam())\n",
    "\n",
    "class DummyArray(ParameterWithSetpoints):\n",
    "    \n",
    "    def get_raw(self):\n",
    "        npoints = self.root_instrument.n_points.get_latest()\n",
    "        return np.random.rand(npoints)\n",
    "    \n",
    "\n",
    "class DummySpectrumAnalyzer(Instrument):\n",
    "    \n",
    "    def __init__(self, name, **kwargs):\n",
    "        \n",
    "        super().__init__(name, **kwargs)\n",
    "            \n",
    "\n",
    "        self.add_parameter('f_start',\n",
    "                           initial_value=0,\n",
    "                           unit='Hz',\n",
    "                           label='f start',\n",
    "                           vals=Numbers(0,1e3),\n",
    "                           get_cmd=None,\n",
    "                           set_cmd=None)\n",
    "\n",
    "        self.add_parameter('f_stop',\n",
    "                           unit='Hz',\n",
    "                           label='f stop',\n",
    "                           vals=Numbers(1,1e3),\n",
    "                           get_cmd=None,\n",
    "                           set_cmd=None)\n",
    "\n",
    "        self.add_parameter('n_points',\n",
    "                           unit='',\n",
    "                           initial_value=10,\n",
    "                           vals=Numbers(1,1e3),\n",
    "                           get_cmd=None,\n",
    "                           set_cmd=None)\n",
    "        \n",
    "        self.add_parameter('freq_axis',\n",
    "                           unit='Hz',\n",
    "                           label='Freq Axis',\n",
    "                           parameter_class=GeneratedSetPoints,\n",
    "                           startparam=self.f_start,\n",
    "                           stopparam=self.f_stop,\n",
    "                           numpointsparam=self.n_points,\n",
    "                           vals=Arrays(shape=(self.n_points.get_latest,)))\n",
    "                           \n",
    "        self.add_parameter('spectrum',\n",
    "                   unit='dBm',\n",
    "                   setpoints=(self.freq_axis,),\n",
    "                   label='Spectrum',\n",
    "                   parameter_class=DummyArray,\n",
    "                   vals=Arrays(shape=(self.n_points.get_latest,)))\n",
    "                "
   ]
  },
  {
   "cell_type": "markdown",
   "metadata": {},
   "source": [
    "In the above example, the shape is defined by the parameter `n_points` that defines how many samples our `DummySpectrumAnalyzer` returns.\n",
    "\n",
    "This means that the validation will call the function to get `n_points` twice for each `get` of the parameter. This may be too slow, however, if you (as the driver-writer) can guarantee that the cached value for `n_points` will never be out of sync with the value stored in the instrument, `n_points` may be replaced by it's latest known value such that the `validator` reads:\n",
    "```python\n",
    "vals=Arrays(shape=(self.n_points.get_latest))\n",
    "```\n",
    "\n",
    "This avoids any additional call to the instrument. In the same way, the arguments to the `freq_axis` parameter that defines the start, stop and number of points can be replaced by their latest value if the instrument allows it.\n",
    "\n"
   ]
  },
  {
   "cell_type": "code",
   "execution_count": 6,
   "metadata": {},
   "outputs": [
    {
     "name": "stdout",
     "output_type": "stream",
     "text": [
      "\r",
      "0it [00:00, ?it/s]"
     ]
    },
    {
     "name": "stdout",
     "output_type": "stream",
     "text": [
      "\r",
      "Upgrading database; v0 -> v1: : 0it [00:00, ?it/s]"
     ]
    },
    {
     "name": "stdout",
     "output_type": "stream",
     "text": [
      "\r",
      "Upgrading database; v0 -> v1: : 0it [00:00, ?it/s]"
     ]
    },
    {
     "name": "stdout",
     "output_type": "stream",
     "text": [
      "\n",
      "\r",
      "  0%|          | 0/1 [00:00<?, ?it/s]"
     ]
    },
    {
     "name": "stdout",
     "output_type": "stream",
     "text": [
      "\r",
      "Upgrading database; v1 -> v2:   0%|          | 0/1 [00:00<?, ?it/s]"
     ]
    },
    {
     "name": "stdout",
     "output_type": "stream",
     "text": [
      "\r",
      "Upgrading database; v1 -> v2: 100%|██████████| 1/1 [00:00<00:00, 779.61it/s]"
     ]
    },
    {
     "name": "stdout",
     "output_type": "stream",
     "text": [
      "\n",
      "\r",
      "0it [00:00, ?it/s]"
     ]
    },
    {
     "name": "stdout",
     "output_type": "stream",
     "text": [
      "\r",
      "Upgrading database; v2 -> v3: : 0it [00:00, ?it/s]"
     ]
    },
    {
     "name": "stdout",
     "output_type": "stream",
     "text": [
      "\r",
      "Upgrading database; v2 -> v3: : 0it [00:00, ?it/s]"
     ]
    },
    {
     "name": "stdout",
     "output_type": "stream",
     "text": [
      "\n",
      "\r",
      "0it [00:00, ?it/s]"
     ]
    },
    {
     "name": "stdout",
     "output_type": "stream",
     "text": [
      "\r",
      "Upgrading database; v3 -> v4: : 0it [00:00, ?it/s]"
     ]
    },
    {
     "name": "stdout",
     "output_type": "stream",
     "text": [
      "\r",
      "Upgrading database; v3 -> v4: : 0it [00:00, ?it/s]"
     ]
    },
    {
     "name": "stdout",
     "output_type": "stream",
     "text": [
      "\n",
      "\r",
      "  0%|          | 0/1 [00:00<?, ?it/s]"
     ]
    },
    {
     "name": "stdout",
     "output_type": "stream",
     "text": [
      "\r",
      "Upgrading database; v4 -> v5:   0%|          | 0/1 [00:00<?, ?it/s]"
     ]
    },
    {
     "name": "stdout",
     "output_type": "stream",
     "text": [
      "\r",
      "Upgrading database; v4 -> v5: 100%|██████████| 1/1 [00:00<00:00, 949.80it/s]"
     ]
    },
    {
     "name": "stdout",
     "output_type": "stream",
     "text": [
      "\n",
      "\r",
      "0it [00:00, ?it/s]"
     ]
    },
    {
     "name": "stdout",
     "output_type": "stream",
     "text": [
      "\r",
      "Upgrading database; v5 -> v6: : 0it [00:00, ?it/s]"
     ]
    },
    {
     "name": "stdout",
     "output_type": "stream",
     "text": [
      "\r",
      "Upgrading database; v5 -> v6: : 0it [00:00, ?it/s]"
     ]
    },
    {
     "name": "stdout",
     "output_type": "stream",
     "text": [
      "\n",
      "\r",
      "  0%|          | 0/1 [00:00<?, ?it/s]"
     ]
    },
    {
     "name": "stdout",
     "output_type": "stream",
     "text": [
      "\r",
      "Upgrading database; v6 -> v7:   0%|          | 0/1 [00:00<?, ?it/s]"
     ]
    },
    {
     "name": "stdout",
     "output_type": "stream",
     "text": [
      "\r",
      "Upgrading database; v6 -> v7: 100%|██████████| 1/1 [00:00<00:00, 354.13it/s]"
     ]
    },
    {
     "name": "stdout",
     "output_type": "stream",
     "text": [
      "\n",
      "\r",
      "  0%|          | 0/1 [00:00<?, ?it/s]"
     ]
    },
    {
     "name": "stdout",
     "output_type": "stream",
     "text": [
      "\r",
      "Upgrading database; v7 -> v8:   0%|          | 0/1 [00:00<?, ?it/s]"
     ]
    },
    {
     "name": "stdout",
     "output_type": "stream",
     "text": [
      "\r",
      "Upgrading database; v7 -> v8: 100%|██████████| 1/1 [00:00<00:00, 828.59it/s]"
     ]
    },
    {
     "name": "stdout",
     "output_type": "stream",
     "text": [
      "\n",
      "\r",
      "  0%|          | 0/1 [00:00<?, ?it/s]"
     ]
    },
    {
     "name": "stdout",
     "output_type": "stream",
     "text": [
      "\r",
      "Upgrading database; v8 -> v9:   0%|          | 0/1 [00:00<?, ?it/s]"
     ]
    },
    {
     "name": "stdout",
     "output_type": "stream",
     "text": [
      "\r",
      "Upgrading database; v8 -> v9: 100%|██████████| 1/1 [00:00<00:00, 978.38it/s]"
     ]
    },
    {
     "name": "stdout",
     "output_type": "stream",
     "text": [
      "\n"
     ]
    },
    {
     "data": {
      "text/plain": [
       "tutorial_ParameterWithSetpoints#no sample#1@/home/vsts/work/1/s/docs/examples/Parameters/tutorial_paramter_with_setpoints.db\n",
       "----------------------------------------------------------------------------------------------------------------------------"
      ]
     },
     "execution_count": 6,
     "metadata": {},
     "output_type": "execute_result"
    }
   ],
   "source": [
    "tutorial_db_path = os.path.join(os.getcwd(), 'tutorial_paramter_with_setpoints.db')\n",
    "initialise_or_create_database_at(tutorial_db_path)\n",
    "load_or_create_experiment(experiment_name='tutorial_ParameterWithSetpoints', sample_name=\"no sample\")"
   ]
  },
  {
   "cell_type": "code",
   "execution_count": 7,
   "metadata": {},
   "outputs": [],
   "source": [
    "a = DummySpectrumAnalyzer('foobar')"
   ]
  },
  {
   "cell_type": "markdown",
   "metadata": {},
   "source": [
    "First we setup the limits of the spectrum"
   ]
  },
  {
   "cell_type": "code",
   "execution_count": 8,
   "metadata": {},
   "outputs": [],
   "source": [
    "a.f_start(0)\n",
    "a.f_stop(500)\n",
    "a.n_points(501)"
   ]
  },
  {
   "cell_type": "markdown",
   "metadata": {},
   "source": [
    "And we can grab the frequency axis"
   ]
  },
  {
   "cell_type": "code",
   "execution_count": 9,
   "metadata": {},
   "outputs": [
    {
     "data": {
      "text/plain": [
       "501"
      ]
     },
     "execution_count": 9,
     "metadata": {},
     "output_type": "execute_result"
    }
   ],
   "source": [
    "a.n_points()"
   ]
  },
  {
   "cell_type": "code",
   "execution_count": 10,
   "metadata": {
    "scrolled": false
   },
   "outputs": [
    {
     "data": {
      "text/plain": [
       "501"
      ]
     },
     "execution_count": 10,
     "metadata": {},
     "output_type": "execute_result"
    }
   ],
   "source": [
    "freq_axis = a.freq_axis()\n",
    "len(freq_axis)"
   ]
  },
  {
   "cell_type": "code",
   "execution_count": 11,
   "metadata": {},
   "outputs": [
    {
     "data": {
      "text/plain": [
       "array([0., 1., 2., 3., 4., 5., 6., 7., 8., 9.])"
      ]
     },
     "execution_count": 11,
     "metadata": {},
     "output_type": "execute_result"
    }
   ],
   "source": [
    "freq_axis[:10]"
   ]
  },
  {
   "cell_type": "markdown",
   "metadata": {},
   "source": [
    "As expected we get a result wit 501 points as we asked for an axis with 501 points. "
   ]
  },
  {
   "cell_type": "markdown",
   "metadata": {},
   "source": [
    "Above we have added a validator to the `freq_axis` parameter encoding the fact that this is an Array with `n_points`. Note that we do not have to supply the number of points as an integer but can supply a function that returns the valid number of points. This would normally be a QCoDeS parameter.\n",
    "\n",
    "This will be checked if we validate the output."
   ]
  },
  {
   "cell_type": "code",
   "execution_count": 12,
   "metadata": {},
   "outputs": [],
   "source": [
    "a.freq_axis.validate(a.freq_axis.get())"
   ]
  },
  {
   "cell_type": "markdown",
   "metadata": {},
   "source": [
    "Naturally, we can also get the spectrum. Getting the spectrum will automatically perform validation both for the shape of the parameter itself and the relation to the setpoint parameter(s)"
   ]
  },
  {
   "cell_type": "code",
   "execution_count": 13,
   "metadata": {
    "scrolled": true
   },
   "outputs": [
    {
     "data": {
      "text/plain": [
       "501"
      ]
     },
     "execution_count": 13,
     "metadata": {},
     "output_type": "execute_result"
    }
   ],
   "source": [
    "spectrum = a.spectrum.get()\n",
    "len(spectrum)"
   ]
  },
  {
   "cell_type": "markdown",
   "metadata": {},
   "source": [
    "When we validate a `ParameterWithSetpoints`, we automatically validate that the shape is consistent between the parameters and its setpoints. As well as validating the shape as above."
   ]
  },
  {
   "cell_type": "code",
   "execution_count": 14,
   "metadata": {},
   "outputs": [],
   "source": [
    "a.spectrum.validate(a.spectrum.get())"
   ]
  },
  {
   "cell_type": "markdown",
   "metadata": {},
   "source": [
    "The consistent shapes can be validated explicitly."
   ]
  },
  {
   "cell_type": "code",
   "execution_count": 15,
   "metadata": {},
   "outputs": [],
   "source": [
    "a.spectrum.validate_consistent_shape()"
   ]
  },
  {
   "cell_type": "markdown",
   "metadata": {},
   "source": [
    "We can inspect the setpoints of the spectrum."
   ]
  },
  {
   "cell_type": "code",
   "execution_count": 16,
   "metadata": {},
   "outputs": [
    {
     "data": {
      "text/plain": [
       "(<__main__.GeneratedSetPoints: freq_axis at 139732686764176>,)"
      ]
     },
     "execution_count": 16,
     "metadata": {},
     "output_type": "execute_result"
    }
   ],
   "source": [
    "a.spectrum.setpoints"
   ]
  },
  {
   "cell_type": "markdown",
   "metadata": {},
   "source": [
    "Or even change them."
   ]
  },
  {
   "cell_type": "code",
   "execution_count": 17,
   "metadata": {},
   "outputs": [],
   "source": [
    "a.spectrum.setpoints = (a.freq_axis,)"
   ]
  },
  {
   "cell_type": "markdown",
   "metadata": {},
   "source": [
    "## Measurement"
   ]
  },
  {
   "cell_type": "markdown",
   "metadata": {},
   "source": [
    "We can also directly consume the parameter in a measurement without defining the setpoints of the parameter again. The setpoints are automatically obtained from the definition of the `ParameterWithSetpoint` instance. "
   ]
  },
  {
   "cell_type": "code",
   "execution_count": 18,
   "metadata": {},
   "outputs": [
    {
     "name": "stdout",
     "output_type": "stream",
     "text": [
      "Starting experimental run with id: 1. \n"
     ]
    }
   ],
   "source": [
    "meas = Measurement()\n",
    "meas.register_parameter(a.spectrum)\n",
    "\n",
    "with meas.run() as datasaver:\n",
    "    datasaver.add_result((a.freq_axis, a.freq_axis()),\n",
    "                         (a.spectrum, a.spectrum()))\n",
    "    dataset = datasaver.dataset"
   ]
  },
  {
   "cell_type": "markdown",
   "metadata": {},
   "source": [
    "And plot it"
   ]
  },
  {
   "cell_type": "code",
   "execution_count": 19,
   "metadata": {},
   "outputs": [
    {
     "data": {
      "text/plain": [
       "([<matplotlib.axes._subplots.AxesSubplot at 0x7f160d29d490>], [None])"
      ]
     },
     "execution_count": 19,
     "metadata": {},
     "output_type": "execute_result"
    },
    {
     "data": {
      "image/png": "[encoded data removed]",
      "text/plain": [
       "<Figure size 432x288 with 1 Axes>"
      ]
     },
     "metadata": {
      "needs_background": "light"
     },
     "output_type": "display_data"
    }
   ],
   "source": [
    "plot_dataset(dataset)"
   ]
  },
  {
   "cell_type": "markdown",
   "metadata": {},
   "source": [
    "To reduce the amount of typing a simple convenience function is provided that will take a `ParameterWithSetpoints` and get both its values and the setpoints values and return them as tuples for direct insertion into the Dataset."
   ]
  },
  {
   "cell_type": "code",
   "execution_count": 20,
   "metadata": {
    "scrolled": true
   },
   "outputs": [
    {
     "data": {
      "text/plain": [
       "[(<__main__.GeneratedSetPoints: freq_axis at 139732686764176>,\n",
       "  array([  0.,   1.,   2.,   3.,   4.,   5.,   6.,   7.,   8.,   9.,  10.,\n",
       "          11.,  12.,  13.,  14.,  15.,  16.,  17.,  18.,  19.,  20.,  21.,\n",
       "          22.,  23.,  24.,  25.,  26.,  27.,  28.,  29.,  30.,  31.,  32.,\n",
       "          33.,  34.,  35.,  36.,  37.,  38.,  39.,  40.,  41.,  42.,  43.,\n",
       "          44.,  45.,  46.,  47.,  48.,  49.,  50.,  51.,  52.,  53.,  54.,\n",
       "          55.,  56.,  57.,  58.,  59.,  60.,  61.,  62.,  63.,  64.,  65.,\n",
       "          66.,  67.,  68.,  69.,  70.,  71.,  72.,  73.,  74.,  75.,  76.,\n",
       "          77.,  78.,  79.,  80.,  81.,  82.,  83.,  84.,  85.,  86.,  87.,\n",
       "          88.,  89.,  90.,  91.,  92.,  93.,  94.,  95.,  96.,  97.,  98.,\n",
       "          99., 100., 101., 102., 103., 104., 105., 106., 107., 108., 109.,\n",
       "         110., 111., 112., 113., 114., 115., 116., 117., 118., 119., 120.,\n",
       "         121., 122., 123., 124., 125., 126., 127., 128., 129., 130., 131.,\n",
       "         132., 133., 134., 135., 136., 137., 138., 139., 140., 141., 142.,\n",
       "         143., 144., 145., 146., 147., 148., 149., 150., 151., 152., 153.,\n",
       "         154., 155., 156., 157., 158., 159., 160., 161., 162., 163., 164.,\n",
       "         165., 166., 167., 168., 169., 170., 171., 172., 173., 174., 175.,\n",
       "         176., 177., 178., 179., 180., 181., 182., 183., 184., 185., 186.,\n",
       "         187., 188., 189., 190., 191., 192., 193., 194., 195., 196., 197.,\n",
       "         198., 199., 200., 201., 202., 203., 204., 205., 206., 207., 208.,\n",
       "         209., 210., 211., 212., 213., 214., 215., 216., 217., 218., 219.,\n",
       "         220., 221., 222., 223., 224., 225., 226., 227., 228., 229., 230.,\n",
       "         231., 232., 233., 234., 235., 236., 237., 238., 239., 240., 241.,\n",
       "         242., 243., 244., 245., 246., 247., 248., 249., 250., 251., 252.,\n",
       "         253., 254., 255., 256., 257., 258., 259., 260., 261., 262., 263.,\n",
       "         264., 265., 266., 267., 268., 269., 270., 271., 272., 273., 274.,\n",
       "         275., 276., 277., 278., 279., 280., 281., 282., 283., 284., 285.,\n",
       "         286., 287., 288., 289., 290., 291., 292., 293., 294., 295., 296.,\n",
       "         297., 298., 299., 300., 301., 302., 303., 304., 305., 306., 307.,\n",
       "         308., 309., 310., 311., 312., 313., 314., 315., 316., 317., 318.,\n",
       "         319., 320., 321., 322., 323., 324., 325., 326., 327., 328., 329.,\n",
       "         330., 331., 332., 333., 334., 335., 336., 337., 338., 339., 340.,\n",
       "         341., 342., 343., 344., 345., 346., 347., 348., 349., 350., 351.,\n",
       "         352., 353., 354., 355., 356., 357., 358., 359., 360., 361., 362.,\n",
       "         363., 364., 365., 366., 367., 368., 369., 370., 371., 372., 373.,\n",
       "         374., 375., 376., 377., 378., 379., 380., 381., 382., 383., 384.,\n",
       "         385., 386., 387., 388., 389., 390., 391., 392., 393., 394., 395.,\n",
       "         396., 397., 398., 399., 400., 401., 402., 403., 404., 405., 406.,\n",
       "         407., 408., 409., 410., 411., 412., 413., 414., 415., 416., 417.,\n",
       "         418., 419., 420., 421., 422., 423., 424., 425., 426., 427., 428.,\n",
       "         429., 430., 431., 432., 433., 434., 435., 436., 437., 438., 439.,\n",
       "         440., 441., 442., 443., 444., 445., 446., 447., 448., 449., 450.,\n",
       "         451., 452., 453., 454., 455., 456., 457., 458., 459., 460., 461.,\n",
       "         462., 463., 464., 465., 466., 467., 468., 469., 470., 471., 472.,\n",
       "         473., 474., 475., 476., 477., 478., 479., 480., 481., 482., 483.,\n",
       "         484., 485., 486., 487., 488., 489., 490., 491., 492., 493., 494.,\n",
       "         495., 496., 497., 498., 499., 500.])),\n",
       " (<__main__.DummyArray: spectrum at 139732686763984>,\n",
       "  array([9.27067679e-01, 3.23339266e-01, 2.45264865e-01, 7.91204169e-01,\n",
       "         2.69764115e-01, 7.98469706e-01, 6.10877287e-01, 7.48373207e-01,\n",
       "         5.03743183e-01, 1.32669113e-01, 3.35914523e-01, 5.00989852e-01,\n",
       "         6.47014537e-01, 3.52148116e-01, 2.24689142e-01, 5.22409805e-01,\n",
       "         3.71267710e-01, 6.88823104e-01, 1.93405672e-01, 5.29915734e-01,\n",
       "         2.94480124e-01, 2.76180109e-01, 3.18488040e-01, 6.57013533e-01,\n",
       "         6.03562673e-02, 1.38722479e-01, 1.20739513e-01, 5.74660826e-01,\n",
       "         2.72360389e-01, 6.97028338e-02, 4.88857939e-01, 4.98864491e-01,\n",
       "         9.76253016e-01, 2.47307987e-01, 5.13976391e-02, 5.66507952e-01,\n",
       "         5.26067766e-01, 5.67457640e-02, 1.83695294e-01, 5.50421246e-02,\n",
       "         4.10030424e-01, 6.36253626e-01, 3.87970152e-01, 1.56692253e-01,\n",
       "         1.64916013e-01, 4.92874549e-01, 3.89876946e-01, 2.13758249e-01,\n",
       "         4.81109706e-01, 2.28027584e-01, 6.28953382e-01, 5.28205121e-01,\n",
       "         3.97866429e-01, 3.50000832e-01, 8.13957617e-02, 6.12217898e-01,\n",
       "         8.15800273e-01, 5.82892248e-01, 2.42860993e-01, 6.63766159e-01,\n",
       "         3.52106179e-01, 6.55005809e-01, 1.45896048e-01, 5.50896146e-01,\n",
       "         2.52131117e-02, 8.99157153e-01, 7.63699328e-01, 3.76001517e-01,\n",
       "         4.07829491e-01, 1.87223948e-01, 2.66447075e-01, 5.31256167e-01,\n",
       "         6.18852488e-02, 8.34028649e-02, 2.61424910e-01, 1.89008882e-01,\n",
       "         1.45087502e-01, 7.13824708e-01, 2.42622017e-02, 6.52396430e-01,\n",
       "         2.88797687e-01, 8.79688226e-01, 2.92561022e-01, 8.02238399e-01,\n",
       "         3.13472011e-02, 8.20899931e-02, 9.23675001e-01, 5.67112859e-01,\n",
       "         6.72619707e-01, 1.00866629e-01, 5.72024942e-01, 7.74654766e-01,\n",
       "         3.76526484e-01, 7.90562907e-01, 6.68177368e-01, 4.39899421e-01,\n",
       "         1.23768454e-01, 2.26934961e-01, 3.54051162e-01, 6.32809499e-01,\n",
       "         1.49156577e-01, 9.54081989e-01, 6.76614465e-01, 4.87950788e-01,\n",
       "         5.73448337e-01, 4.61939175e-01, 7.07055105e-01, 9.12296631e-01,\n",
       "         7.06064407e-01, 8.97311871e-01, 8.47824049e-02, 3.38627324e-01,\n",
       "         6.02719776e-01, 4.38843751e-01, 5.41124424e-01, 8.09010104e-01,\n",
       "         1.58415240e-01, 8.32087957e-01, 3.91593105e-01, 9.68829901e-01,\n",
       "         1.05045767e-01, 6.41321747e-01, 1.96501508e-01, 2.67521543e-01,\n",
       "         6.81758837e-01, 8.30238764e-01, 1.21766661e-02, 6.02115885e-01,\n",
       "         9.22976543e-01, 4.27851781e-01, 7.39889789e-01, 1.43532748e-01,\n",
       "         1.11101123e-02, 2.31763745e-01, 7.96191485e-01, 2.07220002e-01,\n",
       "         6.35379265e-01, 7.74020135e-01, 3.38227785e-01, 1.52560899e-01,\n",
       "         9.33808104e-01, 1.66926840e-01, 5.94977849e-01, 8.39888436e-01,\n",
       "         9.53551849e-01, 9.83481178e-01, 5.81574819e-01, 6.34548409e-01,\n",
       "         3.35159281e-01, 6.19271386e-02, 4.03118673e-02, 3.34301536e-01,\n",
       "         5.60142062e-01, 4.03232730e-01, 1.36989180e-01, 6.91172502e-01,\n",
       "         6.42003144e-02, 6.42932675e-01, 4.76473398e-01, 3.66704173e-01,\n",
       "         9.90402556e-01, 2.82574676e-01, 4.10526107e-01, 4.02241711e-01,\n",
       "         7.17569941e-01, 4.44084556e-01, 7.64020601e-01, 4.11871802e-01,\n",
       "         2.66335937e-01, 3.00037297e-01, 7.29116017e-01, 2.76867560e-01,\n",
       "         4.65419661e-01, 4.84467512e-01, 6.83294858e-01, 7.94236909e-01,\n",
       "         5.28113559e-01, 8.86359647e-01, 3.03334518e-01, 4.26878552e-01,\n",
       "         5.09414181e-01, 9.90211711e-01, 3.16012919e-02, 4.10325343e-01,\n",
       "         1.82022819e-01, 1.26051895e-01, 3.81988362e-01, 2.66023529e-01,\n",
       "         7.40285052e-02, 9.74839811e-01, 3.10296699e-01, 1.30319287e-01,\n",
       "         6.91251880e-01, 2.08641922e-01, 8.30707759e-02, 2.35764723e-01,\n",
       "         2.62734923e-01, 1.80797208e-01, 3.09571906e-01, 4.76176127e-02,\n",
       "         2.62591987e-02, 6.22915216e-01, 2.76680452e-01, 3.02143285e-01,\n",
       "         5.20560995e-01, 3.14288798e-01, 2.30169635e-01, 7.38832487e-01,\n",
       "         9.24255560e-01, 2.40508057e-01, 2.86224134e-01, 7.31183093e-01,\n",
       "         8.66096865e-01, 3.00868119e-01, 2.61816484e-01, 1.37181011e-01,\n",
       "         8.87101889e-01, 3.63854823e-01, 3.45983533e-01, 6.49929311e-01,\n",
       "         6.60622734e-01, 9.44758284e-01, 7.73574447e-01, 7.49431653e-01,\n",
       "         2.30440852e-01, 7.83434307e-02, 2.85671276e-01, 6.80590871e-01,\n",
       "         7.10144956e-01, 8.73922122e-01, 6.23266126e-01, 3.45165450e-01,\n",
       "         4.91420472e-01, 9.91195102e-01, 9.76004527e-02, 4.60596292e-01,\n",
       "         9.92881814e-01, 3.62270082e-01, 4.11464776e-01, 3.72430477e-01,\n",
       "         3.45574471e-01, 5.96819425e-01, 8.38016947e-01, 8.79010074e-01,\n",
       "         9.48211346e-01, 5.41580989e-01, 2.53280373e-02, 4.84850770e-01,\n",
       "         7.95346083e-01, 2.47791951e-01, 5.59178251e-01, 8.16959001e-01,\n",
       "         5.74591264e-01, 4.13476546e-01, 9.27807849e-01, 6.25986741e-01,\n",
       "         2.67794646e-01, 3.03810736e-01, 5.25909952e-01, 3.21730327e-01,\n",
       "         2.04184724e-01, 5.88691161e-01, 1.79316463e-01, 1.69867714e-01,\n",
       "         9.57956806e-01, 1.64179532e-01, 9.49732503e-01, 8.27267476e-01,\n",
       "         3.64753209e-01, 2.32096232e-01, 2.55258165e-01, 8.80265629e-01,\n",
       "         4.20481881e-01, 2.54349770e-01, 5.22712836e-01, 9.74461610e-01,\n",
       "         7.44047388e-01, 1.31624018e-01, 9.22291002e-01, 8.25879494e-01,\n",
       "         6.21842789e-01, 9.07054900e-01, 4.75118260e-01, 1.50742458e-01,\n",
       "         3.09255172e-01, 7.60609819e-01, 2.75169544e-01, 2.05591598e-01,\n",
       "         1.47740725e-01, 1.60706239e-01, 4.34794740e-01, 4.59025216e-01,\n",
       "         2.97596997e-02, 6.77471603e-01, 8.96402524e-01, 3.29606954e-01,\n",
       "         3.08311310e-01, 1.47675574e-01, 6.11471475e-01, 8.72107568e-01,\n",
       "         8.04367708e-01, 7.02124552e-02, 4.51088473e-01, 7.54700774e-01,\n",
       "         7.65497126e-01, 2.42039926e-01, 1.02048778e-02, 6.22346827e-01,\n",
       "         3.54832508e-01, 2.61913943e-01, 7.73927887e-01, 1.92337414e-01,\n",
       "         6.81176041e-01, 2.17809781e-01, 8.42005503e-01, 4.27204864e-01,\n",
       "         2.69819223e-01, 9.78490972e-01, 3.81277148e-01, 9.21700440e-01,\n",
       "         6.24446918e-01, 4.67369342e-01, 6.80193636e-01, 5.47314743e-01,\n",
       "         3.55475755e-01, 2.09266615e-01, 3.47877965e-01, 9.31191982e-01,\n",
       "         9.52107474e-01, 3.32571878e-01, 3.08587385e-01, 8.86146688e-01,\n",
       "         4.72985709e-03, 6.37898793e-01, 4.39901806e-01, 3.25257384e-01,\n",
       "         8.02366620e-01, 3.86166434e-01, 2.73544568e-01, 6.29860409e-01,\n",
       "         6.88738331e-01, 2.61639227e-01, 3.61551794e-01, 5.79218757e-01,\n",
       "         4.14271775e-01, 4.53411379e-01, 4.30620564e-01, 6.70049317e-01,\n",
       "         8.58515575e-01, 3.14485302e-01, 5.65043033e-01, 1.22901205e-01,\n",
       "         3.10555345e-01, 6.56468298e-01, 3.85779548e-01, 7.25512886e-01,\n",
       "         6.85834721e-01, 4.54147479e-01, 3.69979218e-01, 6.43678077e-01,\n",
       "         9.42055467e-01, 4.73464470e-02, 8.17189388e-01, 5.89266948e-02,\n",
       "         9.71282542e-01, 5.56197001e-01, 1.00168820e-01, 2.90256209e-01,\n",
       "         4.77183608e-01, 7.49995456e-01, 8.98319263e-03, 4.58072841e-02,\n",
       "         2.28724256e-01, 8.21187206e-01, 3.92671615e-01, 6.86952752e-01,\n",
       "         5.49412080e-01, 3.72236963e-01, 1.90315155e-04, 9.65733858e-01,\n",
       "         5.14664230e-01, 4.76252181e-01, 4.66081451e-01, 6.23909817e-01,\n",
       "         1.69801932e-01, 9.11602940e-01, 6.73234981e-01, 7.25877662e-01,\n",
       "         8.83843487e-01, 7.99466350e-02, 6.23332967e-01, 9.59304256e-01,\n",
       "         2.01873796e-01, 8.79644865e-01, 3.42035463e-01, 5.94639008e-01,\n",
       "         5.04533743e-01, 2.51546118e-01, 1.77578966e-02, 1.98924485e-01,\n",
       "         8.80792667e-01, 8.58971669e-01, 2.85967108e-01, 3.79619911e-01,\n",
       "         2.76329619e-01, 6.15741479e-01, 3.97670939e-01, 4.90660153e-01,\n",
       "         7.89695448e-01, 5.96028828e-01, 6.44778043e-01, 7.81008766e-02,\n",
       "         3.62557422e-01, 8.14810659e-01, 4.90539578e-01, 2.20733778e-03,\n",
       "         6.96183637e-01, 3.66150992e-01, 4.17146254e-01, 1.62056391e-01,\n",
       "         1.65052199e-01, 4.68580812e-01, 4.99341175e-01, 3.55099561e-01,\n",
       "         1.46667364e-01, 4.40339289e-01, 4.08951576e-01, 1.33045497e-01,\n",
       "         8.86005085e-01, 2.62097653e-01, 7.70572832e-01, 4.16545153e-01,\n",
       "         3.94841349e-01, 2.31984363e-01, 8.71762642e-01, 5.84465460e-01,\n",
       "         9.12280147e-01, 9.76696166e-01, 4.04170841e-01, 3.37508606e-01,\n",
       "         8.97813997e-02, 9.07944040e-01, 6.24414190e-01, 9.25161475e-01,\n",
       "         6.46367158e-01, 6.87726766e-01, 2.54254543e-01, 4.98277076e-01,\n",
       "         2.93585944e-01, 9.13940869e-01, 8.82509821e-01, 3.62591368e-01,\n",
       "         4.09801579e-01, 6.36490315e-01, 6.02432670e-01, 6.21101677e-01,\n",
       "         2.41967804e-01, 7.33969092e-01, 4.15442699e-01, 5.74578749e-01,\n",
       "         5.14360143e-01, 8.35635044e-01, 3.90450389e-03, 1.28434229e-01,\n",
       "         2.56113897e-01, 6.20211825e-01, 2.52143768e-01, 9.05783447e-01,\n",
       "         2.40590157e-01, 2.61546913e-01, 3.57900553e-01, 8.38197535e-01,\n",
       "         3.94276406e-01, 4.96682855e-01, 7.70884291e-02, 8.94796934e-01,\n",
       "         7.47317621e-02, 8.44087787e-01, 6.49494600e-01, 6.13748866e-01,\n",
       "         2.64195686e-01, 2.87548680e-01, 4.05500671e-01, 4.28002516e-01,\n",
       "         1.86631917e-01, 5.17703967e-01, 8.98789140e-01, 8.66615924e-01,\n",
       "         9.46656904e-01, 5.00164125e-01, 2.43045023e-01, 8.07872387e-02,\n",
       "         1.99743772e-01, 5.46624188e-01, 8.23886712e-01, 7.37699648e-02,\n",
       "         7.26891445e-01, 7.22499489e-01, 3.67775976e-01, 7.20168459e-01,\n",
       "         2.60924056e-01]))]"
      ]
     },
     "execution_count": 20,
     "metadata": {},
     "output_type": "execute_result"
    }
   ],
   "source": [
    "expand_setpoints_helper(a.spectrum)"
   ]
  },
  {
   "cell_type": "code",
   "execution_count": 21,
   "metadata": {},
   "outputs": [
    {
     "name": "stdout",
     "output_type": "stream",
     "text": [
      "Starting experimental run with id: 2. \n"
     ]
    }
   ],
   "source": [
    "meas = Measurement()\n",
    "meas.register_parameter(a.spectrum)\n",
    "\n",
    "with meas.run() as datasaver:\n",
    "    datasaver.add_result(*expand_setpoints_helper(a.spectrum))\n",
    "    \n",
    "    dataid = datasaver.run_id"
   ]
  },
  {
   "cell_type": "code",
   "execution_count": null,
   "metadata": {},
   "outputs": [],
   "source": []
  }
 ],
 "metadata": {
  "kernelspec": {
   "display_name": "Python 3",
   "language": "python",
   "name": "python3"
  },
  "language_info": {
   "codemirror_mode": {
    "name": "ipython",
    "version": 3
   },
   "file_extension": ".py",
   "mimetype": "text/x-python",
   "name": "python",
   "nbconvert_exporter": "python",
   "pygments_lexer": "ipython3",
   "version": "3.7.7"
  },
  "toc": {
   "base_numbering": 1,
   "nav_menu": {},
   "number_sections": true,
   "sideBar": true,
   "skip_h1_title": false,
   "title_cell": "Table of Contents",
   "title_sidebar": "Contents",
   "toc_cell": false,
   "toc_position": {},
   "toc_section_display": true,
   "toc_window_display": false
  },
  "varInspector": {
   "cols": {
    "lenName": 16,
    "lenType": 16,
    "lenVar": 40
   },
   "kernels_config": {
    "python": {
     "delete_cmd_postfix": "",
     "delete_cmd_prefix": "del ",
     "library": "var_list.py",
     "varRefreshCmd": "print(var_dic_list())"
    },
    "r": {
     "delete_cmd_postfix": ") ",
     "delete_cmd_prefix": "rm(",
     "library": "var_list.r",
     "varRefreshCmd": "cat(var_dic_list()) "
    }
   },
   "types_to_exclude": [
    "module",
    "function",
    "builtin_function_or_method",
    "instance",
    "_Feature"
   ],
   "window_display": false
  }
 },
 "nbformat": 4,
 "nbformat_minor": 2
}
