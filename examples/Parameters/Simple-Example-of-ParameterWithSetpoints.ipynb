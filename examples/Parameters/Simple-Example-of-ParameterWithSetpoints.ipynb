{
 "cells": [
  {
   "cell_type": "markdown",
   "metadata": {},
   "source": [
    "# Simple Example of ParameterWithSetpoints\n",
    "This notebook provides an example for writing a simple driver with a parameter that has setpoints. Let's name this parameter that has setpoints as \"y\". Then, the setpoints, say \"x1, x2, x3 ..\", are the parameters on which the parameter \n",
    "\"y\" depends upon. Meaning \"y\" is a function of \"x1, x2, x3 ...\" where \"x1, x2, x3 ...\" are known as the setpoints of parameter \"y\".\n",
    "\n",
    "This is most likely to be useful for instruments that return arrays of results. In this notebook, we will show an example of this."
   ]
  },
  {
   "cell_type": "code",
   "execution_count": 1,
   "metadata": {
    "execution": {
     "iopub.execute_input": "2020-09-18T16:12:18.728431Z",
     "iopub.status.busy": "2020-09-18T16:12:18.727885Z",
     "iopub.status.idle": "2020-09-18T16:12:18.834467Z",
     "shell.execute_reply": "2020-09-18T16:12:18.834990Z"
    }
   },
   "outputs": [],
   "source": [
    "import numpy as np\n",
    "import os"
   ]
  },
  {
   "cell_type": "code",
   "execution_count": 2,
   "metadata": {
    "execution": {
     "iopub.execute_input": "2020-09-18T16:12:18.839800Z",
     "iopub.status.busy": "2020-09-18T16:12:18.838979Z",
     "iopub.status.idle": "2020-09-18T16:12:19.955288Z",
     "shell.execute_reply": "2020-09-18T16:12:19.954468Z"
    }
   },
   "outputs": [
    {
     "name": "stdout",
     "output_type": "stream",
     "text": [
      "Logging hadn't been started.\n",
      "Activating auto-logging. Current session state plus future input saved.\n",
      "Filename       : /home/vsts/.qcodes/logs/command_history.log\n",
      "Mode           : append\n",
      "Output logging : True\n",
      "Raw input log  : False\n",
      "Timestamping   : True\n",
      "State          : active\n"
     ]
    },
    {
     "name": "stdout",
     "output_type": "stream",
     "text": [
      "Qcodes Logfile : /home/vsts/.qcodes/logs/200918-21856-qcodes.log\n"
     ]
    }
   ],
   "source": [
    "from qcodes.dataset.plotting import plot_dataset\n",
    "from qcodes.utils.validators import Numbers, Arrays\n",
    "from qcodes.instrument.base import Instrument\n",
    "from qcodes.dataset.measurements import Measurement"
   ]
  },
  {
   "cell_type": "code",
   "execution_count": 3,
   "metadata": {
    "execution": {
     "iopub.execute_input": "2020-09-18T16:12:19.959486Z",
     "iopub.status.busy": "2020-09-18T16:12:19.958846Z",
     "iopub.status.idle": "2020-09-18T16:12:19.963243Z",
     "shell.execute_reply": "2020-09-18T16:12:19.962565Z"
    }
   },
   "outputs": [],
   "source": [
    "from qcodes.dataset.sqlite.database import initialise_or_create_database_at\n",
    "from qcodes.dataset.experiment_container import load_or_create_experiment"
   ]
  },
  {
   "cell_type": "code",
   "execution_count": 4,
   "metadata": {
    "execution": {
     "iopub.execute_input": "2020-09-18T16:12:19.966643Z",
     "iopub.status.busy": "2020-09-18T16:12:19.966152Z",
     "iopub.status.idle": "2020-09-18T16:12:19.970139Z",
     "shell.execute_reply": "2020-09-18T16:12:19.969263Z"
    }
   },
   "outputs": [],
   "source": [
    "from qcodes.instrument.parameter import ParameterWithSetpoints, Parameter\n",
    "from qcodes.instrument.parameter import expand_setpoints_helper"
   ]
  },
  {
   "cell_type": "markdown",
   "metadata": {},
   "source": [
    "First, we define a dummy instrument that returns something like a frequency spectrum starting from a frequency given by `f_start` to a frequency given by `f_stop` in `n_points` steps. \n",
    "\n",
    "The extra functionality of the `ParameterWithSetpoints` is implemented by giving it a reference to one or more parameters that acts like its setpoints. \n",
    "\n",
    "To setup a `ParameterWithSetpoints` we have to do two things in addition to what we do for a normal parameter.\n",
    "\n",
    "* Define one or more parameter for the setpoints (one for each dimension of the array and let the `ParameterWithSetpoints` know that these are the setpoints.\n",
    "* Give both the setpoints parameter(s) and the `ParameterWithSetpoints` a `validator` of type `Arrays` with a shape. The shapes should be such that the combined shape of the setpoints matches the shape of the `ParameterWithSetpoints`. Note that if the shape changes with the setting of the instrument, it can be defined by another parameter as shown below. "
   ]
  },
  {
   "cell_type": "code",
   "execution_count": 5,
   "metadata": {
    "execution": {
     "iopub.execute_input": "2020-09-18T16:12:19.979976Z",
     "iopub.status.busy": "2020-09-18T16:12:19.977564Z",
     "iopub.status.idle": "2020-09-18T16:12:19.983211Z",
     "shell.execute_reply": "2020-09-18T16:12:19.982540Z"
    }
   },
   "outputs": [],
   "source": [
    "class GeneratedSetPoints(Parameter):\n",
    "    \"\"\"\n",
    "    A parameter that generates a setpoint array from start, stop and num points\n",
    "    parameters.\n",
    "    \"\"\"\n",
    "    def __init__(self, startparam, stopparam, numpointsparam, *args, **kwargs):\n",
    "        super().__init__(*args, **kwargs)\n",
    "        self._startparam = startparam\n",
    "        self._stopparam = stopparam\n",
    "        self._numpointsparam = numpointsparam\n",
    "\n",
    "    def get_raw(self):\n",
    "        return np.linspace(self._startparam(), self._stopparam(),\n",
    "                              self._numpointsparam())\n",
    "\n",
    "class DummyArray(ParameterWithSetpoints):\n",
    "    \n",
    "    def get_raw(self):\n",
    "        npoints = self.root_instrument.n_points.get_latest()\n",
    "        return np.random.rand(npoints)\n",
    "    \n",
    "\n",
    "class DummySpectrumAnalyzer(Instrument):\n",
    "    \n",
    "    def __init__(self, name, **kwargs):\n",
    "        \n",
    "        super().__init__(name, **kwargs)\n",
    "            \n",
    "\n",
    "        self.add_parameter('f_start',\n",
    "                           initial_value=0,\n",
    "                           unit='Hz',\n",
    "                           label='f start',\n",
    "                           vals=Numbers(0,1e3),\n",
    "                           get_cmd=None,\n",
    "                           set_cmd=None)\n",
    "\n",
    "        self.add_parameter('f_stop',\n",
    "                           unit='Hz',\n",
    "                           label='f stop',\n",
    "                           vals=Numbers(1,1e3),\n",
    "                           get_cmd=None,\n",
    "                           set_cmd=None)\n",
    "\n",
    "        self.add_parameter('n_points',\n",
    "                           unit='',\n",
    "                           initial_value=10,\n",
    "                           vals=Numbers(1,1e3),\n",
    "                           get_cmd=None,\n",
    "                           set_cmd=None)\n",
    "        \n",
    "        self.add_parameter('freq_axis',\n",
    "                           unit='Hz',\n",
    "                           label='Freq Axis',\n",
    "                           parameter_class=GeneratedSetPoints,\n",
    "                           startparam=self.f_start,\n",
    "                           stopparam=self.f_stop,\n",
    "                           numpointsparam=self.n_points,\n",
    "                           vals=Arrays(shape=(self.n_points.get_latest,)))\n",
    "                           \n",
    "        self.add_parameter('spectrum',\n",
    "                   unit='dBm',\n",
    "                   setpoints=(self.freq_axis,),\n",
    "                   label='Spectrum',\n",
    "                   parameter_class=DummyArray,\n",
    "                   vals=Arrays(shape=(self.n_points.get_latest,)))\n",
    "                "
   ]
  },
  {
   "cell_type": "markdown",
   "metadata": {},
   "source": [
    "In the above example, the shape is defined by the parameter `n_points` that defines how many samples our `DummySpectrumAnalyzer` returns.\n",
    "\n",
    "This means that the validation will call the function to get `n_points` twice for each `get` of the parameter. This may be too slow, however, if you (as the driver-writer) can guarantee that the cached value for `n_points` will never be out of sync with the value stored in the instrument, `n_points` may be replaced by it's latest known value such that the `validator` reads:\n",
    "```python\n",
    "vals=Arrays(shape=(self.n_points.get_latest))\n",
    "```\n",
    "\n",
    "This avoids any additional call to the instrument. In the same way, the arguments to the `freq_axis` parameter that defines the start, stop and number of points can be replaced by their latest value if the instrument allows it.\n",
    "\n"
   ]
  },
  {
   "cell_type": "code",
   "execution_count": 6,
   "metadata": {
    "execution": {
     "iopub.execute_input": "2020-09-18T16:12:19.987487Z",
     "iopub.status.busy": "2020-09-18T16:12:19.986789Z",
     "iopub.status.idle": "2020-09-18T16:12:20.076781Z",
     "shell.execute_reply": "2020-09-18T16:12:20.076175Z"
    }
   },
   "outputs": [
    {
     "name": "stdout",
     "output_type": "stream",
     "text": [
      "\r",
      "0it [00:00, ?it/s]"
     ]
    },
    {
     "name": "stdout",
     "output_type": "stream",
     "text": [
      "\r",
      "Upgrading database; v0 -> v1: : 0it [00:00, ?it/s]"
     ]
    },
    {
     "name": "stdout",
     "output_type": "stream",
     "text": [
      "\r",
      "Upgrading database; v0 -> v1: : 0it [00:00, ?it/s]"
     ]
    },
    {
     "name": "stdout",
     "output_type": "stream",
     "text": [
      "\n",
      "\r",
      "  0%|          | 0/1 [00:00<?, ?it/s]"
     ]
    },
    {
     "name": "stdout",
     "output_type": "stream",
     "text": [
      "\r",
      "Upgrading database; v1 -> v2:   0%|          | 0/1 [00:00<?, ?it/s]"
     ]
    },
    {
     "name": "stdout",
     "output_type": "stream",
     "text": [
      "\r",
      "Upgrading database; v1 -> v2: 100%|██████████| 1/1 [00:00<00:00, 478.53it/s]"
     ]
    },
    {
     "name": "stdout",
     "output_type": "stream",
     "text": [
      "\n",
      "\r",
      "0it [00:00, ?it/s]"
     ]
    },
    {
     "name": "stdout",
     "output_type": "stream",
     "text": [
      "\r",
      "Upgrading database; v2 -> v3: : 0it [00:00, ?it/s]"
     ]
    },
    {
     "name": "stdout",
     "output_type": "stream",
     "text": [
      "\r",
      "Upgrading database; v2 -> v3: : 0it [00:00, ?it/s]"
     ]
    },
    {
     "name": "stdout",
     "output_type": "stream",
     "text": [
      "\n",
      "\r",
      "0it [00:00, ?it/s]"
     ]
    },
    {
     "name": "stdout",
     "output_type": "stream",
     "text": [
      "\r",
      "Upgrading database; v3 -> v4: : 0it [00:00, ?it/s]"
     ]
    },
    {
     "name": "stdout",
     "output_type": "stream",
     "text": [
      "\r",
      "Upgrading database; v3 -> v4: : 0it [00:00, ?it/s]"
     ]
    },
    {
     "name": "stdout",
     "output_type": "stream",
     "text": [
      "\n",
      "\r",
      "  0%|          | 0/1 [00:00<?, ?it/s]"
     ]
    },
    {
     "name": "stdout",
     "output_type": "stream",
     "text": [
      "\r",
      "Upgrading database; v4 -> v5:   0%|          | 0/1 [00:00<?, ?it/s]"
     ]
    },
    {
     "name": "stdout",
     "output_type": "stream",
     "text": [
      "\r",
      "Upgrading database; v4 -> v5: 100%|██████████| 1/1 [00:00<00:00, 387.14it/s]"
     ]
    },
    {
     "name": "stdout",
     "output_type": "stream",
     "text": [
      "\n",
      "\r",
      "0it [00:00, ?it/s]"
     ]
    },
    {
     "name": "stdout",
     "output_type": "stream",
     "text": [
      "\r",
      "Upgrading database; v5 -> v6: : 0it [00:00, ?it/s]"
     ]
    },
    {
     "name": "stdout",
     "output_type": "stream",
     "text": [
      "\r",
      "Upgrading database; v5 -> v6: : 0it [00:00, ?it/s]"
     ]
    },
    {
     "name": "stdout",
     "output_type": "stream",
     "text": [
      "\n",
      "\r",
      "  0%|          | 0/1 [00:00<?, ?it/s]"
     ]
    },
    {
     "name": "stdout",
     "output_type": "stream",
     "text": [
      "\r",
      "Upgrading database; v6 -> v7:   0%|          | 0/1 [00:00<?, ?it/s]"
     ]
    },
    {
     "name": "stdout",
     "output_type": "stream",
     "text": [
      "\r",
      "Upgrading database; v6 -> v7: 100%|██████████| 1/1 [00:00<00:00, 279.77it/s]"
     ]
    },
    {
     "name": "stdout",
     "output_type": "stream",
     "text": [
      "\n",
      "\r",
      "  0%|          | 0/1 [00:00<?, ?it/s]"
     ]
    },
    {
     "name": "stdout",
     "output_type": "stream",
     "text": [
      "\r",
      "Upgrading database; v7 -> v8:   0%|          | 0/1 [00:00<?, ?it/s]"
     ]
    },
    {
     "name": "stdout",
     "output_type": "stream",
     "text": [
      "\r",
      "Upgrading database; v7 -> v8: 100%|██████████| 1/1 [00:00<00:00, 471.16it/s]"
     ]
    },
    {
     "name": "stdout",
     "output_type": "stream",
     "text": [
      "\n",
      "\r",
      "  0%|          | 0/1 [00:00<?, ?it/s]"
     ]
    },
    {
     "name": "stdout",
     "output_type": "stream",
     "text": [
      "\r",
      "Upgrading database; v8 -> v9:   0%|          | 0/1 [00:00<?, ?it/s]"
     ]
    },
    {
     "name": "stdout",
     "output_type": "stream",
     "text": [
      "\r",
      "Upgrading database; v8 -> v9: 100%|██████████| 1/1 [00:00<00:00, 551.08it/s]"
     ]
    },
    {
     "name": "stdout",
     "output_type": "stream",
     "text": [
      "\n"
     ]
    },
    {
     "data": {
      "text/plain": [
       "tutorial_ParameterWithSetpoints#no sample#1@/home/vsts/work/1/s/docs/examples/Parameters/tutorial_paramter_with_setpoints.db\n",
       "----------------------------------------------------------------------------------------------------------------------------"
      ]
     },
     "execution_count": 1,
     "metadata": {},
     "output_type": "execute_result"
    }
   ],
   "source": [
    "tutorial_db_path = os.path.join(os.getcwd(), 'tutorial_paramter_with_setpoints.db')\n",
    "initialise_or_create_database_at(tutorial_db_path)\n",
    "load_or_create_experiment(experiment_name='tutorial_ParameterWithSetpoints', sample_name=\"no sample\")"
   ]
  },
  {
   "cell_type": "code",
   "execution_count": 7,
   "metadata": {
    "execution": {
     "iopub.execute_input": "2020-09-18T16:12:20.081182Z",
     "iopub.status.busy": "2020-09-18T16:12:20.079576Z",
     "iopub.status.idle": "2020-09-18T16:12:20.082912Z",
     "shell.execute_reply": "2020-09-18T16:12:20.083323Z"
    }
   },
   "outputs": [],
   "source": [
    "a = DummySpectrumAnalyzer('foobar')"
   ]
  },
  {
   "cell_type": "markdown",
   "metadata": {},
   "source": [
    "First we setup the limits of the spectrum"
   ]
  },
  {
   "cell_type": "code",
   "execution_count": 8,
   "metadata": {
    "execution": {
     "iopub.execute_input": "2020-09-18T16:12:20.088370Z",
     "iopub.status.busy": "2020-09-18T16:12:20.087223Z",
     "iopub.status.idle": "2020-09-18T16:12:20.089050Z",
     "shell.execute_reply": "2020-09-18T16:12:20.089567Z"
    }
   },
   "outputs": [],
   "source": [
    "a.f_start(0)\n",
    "a.f_stop(500)\n",
    "a.n_points(501)"
   ]
  },
  {
   "cell_type": "markdown",
   "metadata": {},
   "source": [
    "And we can grab the frequency axis"
   ]
  },
  {
   "cell_type": "code",
   "execution_count": 9,
   "metadata": {
    "execution": {
     "iopub.execute_input": "2020-09-18T16:12:20.093634Z",
     "iopub.status.busy": "2020-09-18T16:12:20.092598Z",
     "iopub.status.idle": "2020-09-18T16:12:20.096088Z",
     "shell.execute_reply": "2020-09-18T16:12:20.095518Z"
    }
   },
   "outputs": [
    {
     "data": {
      "text/plain": [
       "501"
      ]
     },
     "execution_count": 1,
     "metadata": {},
     "output_type": "execute_result"
    }
   ],
   "source": [
    "a.n_points()"
   ]
  },
  {
   "cell_type": "code",
   "execution_count": 10,
   "metadata": {
    "execution": {
     "iopub.execute_input": "2020-09-18T16:12:20.101073Z",
     "iopub.status.busy": "2020-09-18T16:12:20.099679Z",
     "iopub.status.idle": "2020-09-18T16:12:20.103049Z",
     "shell.execute_reply": "2020-09-18T16:12:20.103555Z"
    },
    "scrolled": false
   },
   "outputs": [
    {
     "data": {
      "text/plain": [
       "501"
      ]
     },
     "execution_count": 1,
     "metadata": {},
     "output_type": "execute_result"
    }
   ],
   "source": [
    "freq_axis = a.freq_axis()\n",
    "len(freq_axis)"
   ]
  },
  {
   "cell_type": "code",
   "execution_count": 11,
   "metadata": {
    "execution": {
     "iopub.execute_input": "2020-09-18T16:12:20.108025Z",
     "iopub.status.busy": "2020-09-18T16:12:20.105688Z",
     "iopub.status.idle": "2020-09-18T16:12:20.112509Z",
     "shell.execute_reply": "2020-09-18T16:12:20.113132Z"
    }
   },
   "outputs": [
    {
     "data": {
      "text/plain": [
       "array([0., 1., 2., 3., 4., 5., 6., 7., 8., 9.])"
      ]
     },
     "execution_count": 1,
     "metadata": {},
     "output_type": "execute_result"
    }
   ],
   "source": [
    "freq_axis[:10]"
   ]
  },
  {
   "cell_type": "markdown",
   "metadata": {},
   "source": [
    "As expected we get a result wit 501 points as we asked for an axis with 501 points. "
   ]
  },
  {
   "cell_type": "markdown",
   "metadata": {},
   "source": [
    "Above we have added a validator to the `freq_axis` parameter encoding the fact that this is an Array with `n_points`. Note that we do not have to supply the number of points as an integer but can supply a function that returns the valid number of points. This would normally be a QCoDeS parameter.\n",
    "\n",
    "This will be checked if we validate the output."
   ]
  },
  {
   "cell_type": "code",
   "execution_count": 12,
   "metadata": {
    "execution": {
     "iopub.execute_input": "2020-09-18T16:12:20.118427Z",
     "iopub.status.busy": "2020-09-18T16:12:20.117014Z",
     "iopub.status.idle": "2020-09-18T16:12:20.119122Z",
     "shell.execute_reply": "2020-09-18T16:12:20.119657Z"
    }
   },
   "outputs": [],
   "source": [
    "a.freq_axis.validate(a.freq_axis.get())"
   ]
  },
  {
   "cell_type": "markdown",
   "metadata": {},
   "source": [
    "Naturally, we can also get the spectrum. Getting the spectrum will automatically perform validation both for the shape of the parameter itself and the relation to the setpoint parameter(s)"
   ]
  },
  {
   "cell_type": "code",
   "execution_count": 13,
   "metadata": {
    "execution": {
     "iopub.execute_input": "2020-09-18T16:12:20.124195Z",
     "iopub.status.busy": "2020-09-18T16:12:20.122543Z",
     "iopub.status.idle": "2020-09-18T16:12:20.126306Z",
     "shell.execute_reply": "2020-09-18T16:12:20.126875Z"
    },
    "scrolled": true
   },
   "outputs": [
    {
     "data": {
      "text/plain": [
       "501"
      ]
     },
     "execution_count": 1,
     "metadata": {},
     "output_type": "execute_result"
    }
   ],
   "source": [
    "spectrum = a.spectrum.get()\n",
    "len(spectrum)"
   ]
  },
  {
   "cell_type": "markdown",
   "metadata": {},
   "source": [
    "When we validate a `ParameterWithSetpoints`, we automatically validate that the shape is consistent between the parameters and its setpoints. As well as validating the shape as above."
   ]
  },
  {
   "cell_type": "code",
   "execution_count": 14,
   "metadata": {
    "execution": {
     "iopub.execute_input": "2020-09-18T16:12:20.131228Z",
     "iopub.status.busy": "2020-09-18T16:12:20.130258Z",
     "iopub.status.idle": "2020-09-18T16:12:20.132853Z",
     "shell.execute_reply": "2020-09-18T16:12:20.132315Z"
    }
   },
   "outputs": [],
   "source": [
    "a.spectrum.validate(a.spectrum.get())"
   ]
  },
  {
   "cell_type": "markdown",
   "metadata": {},
   "source": [
    "The consistent shapes can be validated explicitly."
   ]
  },
  {
   "cell_type": "code",
   "execution_count": 15,
   "metadata": {
    "execution": {
     "iopub.execute_input": "2020-09-18T16:12:20.136913Z",
     "iopub.status.busy": "2020-09-18T16:12:20.136240Z",
     "iopub.status.idle": "2020-09-18T16:12:20.138544Z",
     "shell.execute_reply": "2020-09-18T16:12:20.137992Z"
    }
   },
   "outputs": [],
   "source": [
    "a.spectrum.validate_consistent_shape()"
   ]
  },
  {
   "cell_type": "markdown",
   "metadata": {},
   "source": [
    "We can inspect the setpoints of the spectrum."
   ]
  },
  {
   "cell_type": "code",
   "execution_count": 16,
   "metadata": {
    "execution": {
     "iopub.execute_input": "2020-09-18T16:12:20.143099Z",
     "iopub.status.busy": "2020-09-18T16:12:20.142496Z",
     "iopub.status.idle": "2020-09-18T16:12:20.145031Z",
     "shell.execute_reply": "2020-09-18T16:12:20.145552Z"
    }
   },
   "outputs": [
    {
     "data": {
      "text/plain": [
       "(<__main__.GeneratedSetPoints: freq_axis at 140249132205520>,)"
      ]
     },
     "execution_count": 1,
     "metadata": {},
     "output_type": "execute_result"
    }
   ],
   "source": [
    "a.spectrum.setpoints"
   ]
  },
  {
   "cell_type": "markdown",
   "metadata": {},
   "source": [
    "Or even change them."
   ]
  },
  {
   "cell_type": "code",
   "execution_count": 17,
   "metadata": {
    "execution": {
     "iopub.execute_input": "2020-09-18T16:12:20.149955Z",
     "iopub.status.busy": "2020-09-18T16:12:20.148808Z",
     "iopub.status.idle": "2020-09-18T16:12:20.150487Z",
     "shell.execute_reply": "2020-09-18T16:12:20.150999Z"
    }
   },
   "outputs": [],
   "source": [
    "a.spectrum.setpoints = (a.freq_axis,)"
   ]
  },
  {
   "cell_type": "markdown",
   "metadata": {},
   "source": [
    "## Measurement"
   ]
  },
  {
   "cell_type": "markdown",
   "metadata": {},
   "source": [
    "We can also directly consume the parameter in a measurement without defining the setpoints of the parameter again. The setpoints are automatically obtained from the definition of the `ParameterWithSetpoint` instance. "
   ]
  },
  {
   "cell_type": "code",
   "execution_count": 18,
   "metadata": {
    "execution": {
     "iopub.execute_input": "2020-09-18T16:12:20.154745Z",
     "iopub.status.busy": "2020-09-18T16:12:20.154132Z",
     "iopub.status.idle": "2020-09-18T16:12:20.174034Z",
     "shell.execute_reply": "2020-09-18T16:12:20.173237Z"
    }
   },
   "outputs": [
    {
     "name": "stdout",
     "output_type": "stream",
     "text": [
      "Starting experimental run with id: 1. \n"
     ]
    }
   ],
   "source": [
    "meas = Measurement()\n",
    "meas.register_parameter(a.spectrum)\n",
    "\n",
    "with meas.run() as datasaver:\n",
    "    datasaver.add_result((a.freq_axis, a.freq_axis()),\n",
    "                         (a.spectrum, a.spectrum()))\n",
    "    dataset = datasaver.dataset"
   ]
  },
  {
   "cell_type": "markdown",
   "metadata": {},
   "source": [
    "And plot it"
   ]
  },
  {
   "cell_type": "code",
   "execution_count": 19,
   "metadata": {
    "execution": {
     "iopub.execute_input": "2020-09-18T16:12:20.177664Z",
     "iopub.status.busy": "2020-09-18T16:12:20.176947Z",
     "iopub.status.idle": "2020-09-18T16:12:20.554454Z",
     "shell.execute_reply": "2020-09-18T16:12:20.553667Z"
    }
   },
   "outputs": [
    {
     "data": {
      "text/plain": [
       "([<matplotlib.axes._subplots.AxesSubplot at 0x7f8e4c7de490>], [None])"
      ]
     },
     "execution_count": 1,
     "metadata": {},
     "output_type": "execute_result"
    },
    {
     "data": {
      "image/png": "[encoded data removed]",
      "text/plain": [
       "<Figure size 432x288 with 1 Axes>"
      ]
     },
     "metadata": {
      "needs_background": "light"
     },
     "output_type": "display_data"
    }
   ],
   "source": [
    "plot_dataset(dataset)"
   ]
  },
  {
   "cell_type": "markdown",
   "metadata": {},
   "source": [
    "To reduce the amount of typing a simple convenience function is provided that will take a `ParameterWithSetpoints` and get both its values and the setpoints values and return them as tuples for direct insertion into the Dataset."
   ]
  },
  {
   "cell_type": "code",
   "execution_count": 20,
   "metadata": {
    "execution": {
     "iopub.execute_input": "2020-09-18T16:12:20.568392Z",
     "iopub.status.busy": "2020-09-18T16:12:20.558320Z",
     "iopub.status.idle": "2020-09-18T16:12:20.573515Z",
     "shell.execute_reply": "2020-09-18T16:12:20.573984Z"
    },
    "scrolled": true
   },
   "outputs": [
    {
     "data": {
      "text/plain": [
       "[(<__main__.GeneratedSetPoints: freq_axis at 140249132205520>,\n",
       "  array([  0.,   1.,   2.,   3.,   4.,   5.,   6.,   7.,   8.,   9.,  10.,\n",
       "          11.,  12.,  13.,  14.,  15.,  16.,  17.,  18.,  19.,  20.,  21.,\n",
       "          22.,  23.,  24.,  25.,  26.,  27.,  28.,  29.,  30.,  31.,  32.,\n",
       "          33.,  34.,  35.,  36.,  37.,  38.,  39.,  40.,  41.,  42.,  43.,\n",
       "          44.,  45.,  46.,  47.,  48.,  49.,  50.,  51.,  52.,  53.,  54.,\n",
       "          55.,  56.,  57.,  58.,  59.,  60.,  61.,  62.,  63.,  64.,  65.,\n",
       "          66.,  67.,  68.,  69.,  70.,  71.,  72.,  73.,  74.,  75.,  76.,\n",
       "          77.,  78.,  79.,  80.,  81.,  82.,  83.,  84.,  85.,  86.,  87.,\n",
       "          88.,  89.,  90.,  91.,  92.,  93.,  94.,  95.,  96.,  97.,  98.,\n",
       "          99., 100., 101., 102., 103., 104., 105., 106., 107., 108., 109.,\n",
       "         110., 111., 112., 113., 114., 115., 116., 117., 118., 119., 120.,\n",
       "         121., 122., 123., 124., 125., 126., 127., 128., 129., 130., 131.,\n",
       "         132., 133., 134., 135., 136., 137., 138., 139., 140., 141., 142.,\n",
       "         143., 144., 145., 146., 147., 148., 149., 150., 151., 152., 153.,\n",
       "         154., 155., 156., 157., 158., 159., 160., 161., 162., 163., 164.,\n",
       "         165., 166., 167., 168., 169., 170., 171., 172., 173., 174., 175.,\n",
       "         176., 177., 178., 179., 180., 181., 182., 183., 184., 185., 186.,\n",
       "         187., 188., 189., 190., 191., 192., 193., 194., 195., 196., 197.,\n",
       "         198., 199., 200., 201., 202., 203., 204., 205., 206., 207., 208.,\n",
       "         209., 210., 211., 212., 213., 214., 215., 216., 217., 218., 219.,\n",
       "         220., 221., 222., 223., 224., 225., 226., 227., 228., 229., 230.,\n",
       "         231., 232., 233., 234., 235., 236., 237., 238., 239., 240., 241.,\n",
       "         242., 243., 244., 245., 246., 247., 248., 249., 250., 251., 252.,\n",
       "         253., 254., 255., 256., 257., 258., 259., 260., 261., 262., 263.,\n",
       "         264., 265., 266., 267., 268., 269., 270., 271., 272., 273., 274.,\n",
       "         275., 276., 277., 278., 279., 280., 281., 282., 283., 284., 285.,\n",
       "         286., 287., 288., 289., 290., 291., 292., 293., 294., 295., 296.,\n",
       "         297., 298., 299., 300., 301., 302., 303., 304., 305., 306., 307.,\n",
       "         308., 309., 310., 311., 312., 313., 314., 315., 316., 317., 318.,\n",
       "         319., 320., 321., 322., 323., 324., 325., 326., 327., 328., 329.,\n",
       "         330., 331., 332., 333., 334., 335., 336., 337., 338., 339., 340.,\n",
       "         341., 342., 343., 344., 345., 346., 347., 348., 349., 350., 351.,\n",
       "         352., 353., 354., 355., 356., 357., 358., 359., 360., 361., 362.,\n",
       "         363., 364., 365., 366., 367., 368., 369., 370., 371., 372., 373.,\n",
       "         374., 375., 376., 377., 378., 379., 380., 381., 382., 383., 384.,\n",
       "         385., 386., 387., 388., 389., 390., 391., 392., 393., 394., 395.,\n",
       "         396., 397., 398., 399., 400., 401., 402., 403., 404., 405., 406.,\n",
       "         407., 408., 409., 410., 411., 412., 413., 414., 415., 416., 417.,\n",
       "         418., 419., 420., 421., 422., 423., 424., 425., 426., 427., 428.,\n",
       "         429., 430., 431., 432., 433., 434., 435., 436., 437., 438., 439.,\n",
       "         440., 441., 442., 443., 444., 445., 446., 447., 448., 449., 450.,\n",
       "         451., 452., 453., 454., 455., 456., 457., 458., 459., 460., 461.,\n",
       "         462., 463., 464., 465., 466., 467., 468., 469., 470., 471., 472.,\n",
       "         473., 474., 475., 476., 477., 478., 479., 480., 481., 482., 483.,\n",
       "         484., 485., 486., 487., 488., 489., 490., 491., 492., 493., 494.,\n",
       "         495., 496., 497., 498., 499., 500.])),\n",
       " (<__main__.DummyArray: spectrum at 140249145430288>,\n",
       "  array([0.6885678 , 0.73963933, 0.07999601, 0.19034657, 0.40917046,\n",
       "         0.09136951, 0.51803682, 0.13334767, 0.90188497, 0.5960149 ,\n",
       "         0.0312135 , 0.09356068, 0.21779816, 0.04226565, 0.31827037,\n",
       "         0.7968595 , 0.46065029, 0.01622293, 0.40518625, 0.95879965,\n",
       "         0.28346028, 0.61240957, 0.54848824, 0.69253501, 0.20530214,\n",
       "         0.20596121, 0.3964891 , 0.70374921, 0.78930965, 0.04198732,\n",
       "         0.85948328, 0.85813744, 0.29697544, 0.78512572, 0.69393869,\n",
       "         0.66181267, 0.66899737, 0.76676084, 0.49452528, 0.84669849,\n",
       "         0.37373312, 0.65766233, 0.17043857, 0.24254917, 0.60927473,\n",
       "         0.67698   , 0.29964856, 0.92607628, 0.71653436, 0.08681252,\n",
       "         0.83168792, 0.58770698, 0.3324396 , 0.53561344, 0.06704307,\n",
       "         0.15080695, 0.56394926, 0.39076388, 0.74828106, 0.30687835,\n",
       "         0.50832518, 0.84073233, 0.50147034, 0.54631469, 0.30704618,\n",
       "         0.41562496, 0.9894673 , 0.87855878, 0.7738562 , 0.53627981,\n",
       "         0.66197722, 0.44157484, 0.96551423, 0.20461334, 0.56684672,\n",
       "         0.66032489, 0.48142847, 0.04237422, 0.58833987, 0.31669123,\n",
       "         0.18871083, 0.43399251, 0.81491037, 0.28360037, 0.09978808,\n",
       "         0.5299698 , 0.67340659, 0.20883259, 0.52374493, 0.98199655,\n",
       "         0.63544878, 0.22905883, 0.94935134, 0.28818029, 0.73527263,\n",
       "         0.53726217, 0.78122063, 0.87974589, 0.71442887, 0.61072959,\n",
       "         0.03185755, 0.11147484, 0.60627018, 0.49733466, 0.36740662,\n",
       "         0.26117032, 0.39452978, 0.93517745, 0.36835319, 0.59153819,\n",
       "         0.93156497, 0.31958922, 0.0028251 , 0.9473809 , 0.62589504,\n",
       "         0.7835092 , 0.79116857, 0.94422853, 0.93280815, 0.9971447 ,\n",
       "         0.50816711, 0.40997606, 0.37161706, 0.34430083, 0.50854371,\n",
       "         0.8283143 , 0.56537953, 0.66873722, 0.8962988 , 0.94546159,\n",
       "         0.57233381, 0.82746704, 0.66256336, 0.26512418, 0.13345744,\n",
       "         0.12440821, 0.42175864, 0.27434623, 0.15801565, 0.91402574,\n",
       "         0.41845925, 0.37458116, 0.01278431, 0.30733825, 0.5086386 ,\n",
       "         0.02966854, 0.07795812, 0.17446136, 0.54134134, 0.34863663,\n",
       "         0.68694418, 0.50996774, 0.47552347, 0.94573082, 0.28178033,\n",
       "         0.03531025, 0.25465428, 0.95379335, 0.10793572, 0.35144275,\n",
       "         0.65546745, 0.6431496 , 0.11865123, 0.68951   , 0.46385755,\n",
       "         0.15222145, 0.50376142, 0.014217  , 0.37812402, 0.54344122,\n",
       "         0.99582634, 0.94651717, 0.50052813, 0.65292405, 0.45525112,\n",
       "         0.37568213, 0.04635499, 0.97413295, 0.87147524, 0.10496661,\n",
       "         0.73291644, 0.26532743, 0.13438234, 0.68365134, 0.5458451 ,\n",
       "         0.60773597, 0.66366811, 0.28737336, 0.20216549, 0.55344973,\n",
       "         0.73302663, 0.76120304, 0.4589953 , 0.6135789 , 0.9319672 ,\n",
       "         0.25461148, 0.9213143 , 0.12402492, 0.05992828, 0.46408115,\n",
       "         0.8323956 , 0.69615588, 0.66895618, 0.09893057, 0.73296944,\n",
       "         0.89125601, 0.84304889, 0.79505117, 0.09582577, 0.42459407,\n",
       "         0.74582433, 0.38574827, 0.01275833, 0.37575399, 0.8890957 ,\n",
       "         0.58654773, 0.18615765, 0.57480987, 0.1463715 , 0.2330478 ,\n",
       "         0.0944184 , 0.67277496, 0.8863087 , 0.59211991, 0.57798776,\n",
       "         0.85356477, 0.11362978, 0.59653081, 0.45775619, 0.537621  ,\n",
       "         0.16144271, 0.4067084 , 0.03490017, 0.654882  , 0.95308065,\n",
       "         0.53781631, 0.15357772, 0.24236775, 0.70013844, 0.15207399,\n",
       "         0.05422894, 0.79357632, 0.22406149, 0.79838423, 0.02920328,\n",
       "         0.77753988, 0.44094923, 0.04065134, 0.53834819, 0.69109907,\n",
       "         0.46474972, 0.74391995, 0.69992597, 0.83282984, 0.07290392,\n",
       "         0.08691345, 0.59047432, 0.51597462, 0.50665608, 0.82623857,\n",
       "         0.01885296, 0.74116454, 0.40348844, 0.23072306, 0.9397442 ,\n",
       "         0.34087991, 0.5011043 , 0.77669558, 0.24349028, 0.57547719,\n",
       "         0.82785358, 0.41969573, 0.41684295, 0.52370323, 0.95300221,\n",
       "         0.36507407, 0.53715752, 0.93611623, 0.76278052, 0.66837321,\n",
       "         0.25031248, 0.69474814, 0.39181555, 0.80250113, 0.81240604,\n",
       "         0.72970868, 0.36625614, 0.60208663, 0.82785753, 0.4328223 ,\n",
       "         0.61463569, 0.13466923, 0.39818738, 0.34303567, 0.31587614,\n",
       "         0.97154443, 0.37048731, 0.94269335, 0.41567712, 0.67248622,\n",
       "         0.05477074, 0.16350766, 0.47707102, 0.94761736, 0.99840313,\n",
       "         0.62346381, 0.00121869, 0.46413843, 0.29995238, 0.25205235,\n",
       "         0.10530232, 0.86633134, 0.77721989, 0.82002381, 0.62321358,\n",
       "         0.42696161, 0.77101402, 0.37472646, 0.74981738, 0.01545355,\n",
       "         0.40579218, 0.92257175, 0.67706944, 0.30921479, 0.59863098,\n",
       "         0.23407494, 0.14479274, 0.68181546, 0.45630221, 0.12488254,\n",
       "         0.72312712, 0.92975044, 0.32462846, 0.46436093, 0.2875434 ,\n",
       "         0.38236648, 0.69481913, 0.54651527, 0.40418592, 0.53262532,\n",
       "         0.67882631, 0.4955696 , 0.28618842, 0.77773846, 0.80304027,\n",
       "         0.34657376, 0.0224606 , 0.4053346 , 0.04755246, 0.28211748,\n",
       "         0.63701544, 0.53895812, 0.70103049, 0.14488496, 0.18652462,\n",
       "         0.02423969, 0.4458981 , 0.50938894, 0.28128108, 0.59568181,\n",
       "         0.28308737, 0.27206903, 0.17128766, 0.88922101, 0.97908367,\n",
       "         0.30335829, 0.08764684, 0.72868721, 0.21821997, 0.53334646,\n",
       "         0.86620742, 0.05187879, 0.91304314, 0.06393771, 0.70543906,\n",
       "         0.73695766, 0.13541629, 0.13597535, 0.62957619, 0.28677012,\n",
       "         0.13745554, 0.26033652, 0.95576115, 0.02343688, 0.30500241,\n",
       "         0.93744515, 0.51000868, 0.3409387 , 0.25425395, 0.74826008,\n",
       "         0.94799792, 0.90206462, 0.08723155, 0.25531687, 0.98787917,\n",
       "         0.23477824, 0.72549011, 0.69693648, 0.85960527, 0.95435463,\n",
       "         0.82415368, 0.91911296, 0.40238608, 0.78268152, 0.45851301,\n",
       "         0.06167929, 0.38163776, 0.43367486, 0.77646716, 0.95017565,\n",
       "         0.84298357, 0.57466784, 0.60626616, 0.15005494, 0.35111917,\n",
       "         0.32033722, 0.38865482, 0.05024362, 0.10715571, 0.48655505,\n",
       "         0.40721203, 0.28010253, 0.68936627, 0.84638355, 0.78407222,\n",
       "         0.3078241 , 0.26716572, 0.0754791 , 0.92906134, 0.48162729,\n",
       "         0.92297172, 0.30941013, 0.6185265 , 0.88962634, 0.58399065,\n",
       "         0.16013197, 0.27802982, 0.65797767, 0.71723031, 0.43587793,\n",
       "         0.25817551, 0.39801286, 0.82545127, 0.00195252, 0.25507778,\n",
       "         0.57645037, 0.91152974, 0.170763  , 0.23135677, 0.41270638,\n",
       "         0.0775901 , 0.38779686, 0.03541104, 0.82666895, 0.24043953,\n",
       "         0.29251291, 0.37733291, 0.49534473, 0.59985676, 0.04885141,\n",
       "         0.02433954, 0.72655003, 0.54209537, 0.39571071, 0.17811035,\n",
       "         0.75866572, 0.18262265, 0.89412178, 0.64829938, 0.71141108,\n",
       "         0.05821419, 0.27591964, 0.97228856, 0.36742611, 0.0399953 ,\n",
       "         0.14392382, 0.96985023, 0.78379804, 0.43212366, 0.00928403,\n",
       "         0.19078547, 0.33215708, 0.8966023 , 0.92610451, 0.08084417,\n",
       "         0.77467091, 0.71837845, 0.79238052, 0.02879575, 0.27782983,\n",
       "         0.18380805, 0.77023919, 0.53376799, 0.40947102, 0.0039864 ,\n",
       "         0.35430357, 0.14078197, 0.19909741, 0.21652572, 0.71299825,\n",
       "         0.76266528]))]"
      ]
     },
     "execution_count": 1,
     "metadata": {},
     "output_type": "execute_result"
    }
   ],
   "source": [
    "expand_setpoints_helper(a.spectrum)"
   ]
  },
  {
   "cell_type": "code",
   "execution_count": 21,
   "metadata": {
    "execution": {
     "iopub.execute_input": "2020-09-18T16:12:20.578739Z",
     "iopub.status.busy": "2020-09-18T16:12:20.577794Z",
     "iopub.status.idle": "2020-09-18T16:12:20.593940Z",
     "shell.execute_reply": "2020-09-18T16:12:20.593434Z"
    }
   },
   "outputs": [
    {
     "name": "stdout",
     "output_type": "stream",
     "text": [
      "Starting experimental run with id: 2. \n"
     ]
    }
   ],
   "source": [
    "meas = Measurement()\n",
    "meas.register_parameter(a.spectrum)\n",
    "\n",
    "with meas.run() as datasaver:\n",
    "    datasaver.add_result(*expand_setpoints_helper(a.spectrum))\n",
    "    \n",
    "    dataid = datasaver.run_id"
   ]
  },
  {
   "cell_type": "code",
   "execution_count": null,
   "metadata": {},
   "outputs": [],
   "source": []
  }
 ],
 "metadata": {
  "kernelspec": {
   "display_name": "Python 3",
   "language": "python",
   "name": "python3"
  },
  "language_info": {
   "codemirror_mode": {
    "name": "ipython",
    "version": 3
   },
   "file_extension": ".py",
   "mimetype": "text/x-python",
   "name": "python",
   "nbconvert_exporter": "python",
   "pygments_lexer": "ipython3",
   "version": "3.7.7"
  },
  "toc": {
   "base_numbering": 1,
   "nav_menu": {},
   "number_sections": true,
   "sideBar": true,
   "skip_h1_title": false,
   "title_cell": "Table of Contents",
   "title_sidebar": "Contents",
   "toc_cell": false,
   "toc_position": {},
   "toc_section_display": true,
   "toc_window_display": false
  },
  "varInspector": {
   "cols": {
    "lenName": 16,
    "lenType": 16,
    "lenVar": 40
   },
   "kernels_config": {
    "python": {
     "delete_cmd_postfix": "",
     "delete_cmd_prefix": "del ",
     "library": "var_list.py",
     "varRefreshCmd": "print(var_dic_list())"
    },
    "r": {
     "delete_cmd_postfix": ") ",
     "delete_cmd_prefix": "rm(",
     "library": "var_list.r",
     "varRefreshCmd": "cat(var_dic_list()) "
    }
   },
   "types_to_exclude": [
    "module",
    "function",
    "builtin_function_or_method",
    "instance",
    "_Feature"
   ],
   "window_display": false
  }
 },
 "nbformat": 4,
 "nbformat_minor": 2
}
