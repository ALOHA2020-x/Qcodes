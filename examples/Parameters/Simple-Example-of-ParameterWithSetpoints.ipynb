{
 "cells": [
  {
   "cell_type": "markdown",
   "metadata": {},
   "source": [
    "# Simple Example of ParameterWithSetpoints\n",
    "This notebook provides an example for writing a simple driver with a parameter that has setpoints. Let's name this parameter that has setpoints as \"y\". Then, the setpoints, say \"x1, x2, x3 ..\", are the parameters on which the parameter \n",
    "\"y\" depends upon. Meaning \"y\" is a function of \"x1, x2, x3 ...\" where \"x1, x2, x3 ...\" are known as the setpoints of parameter \"y\".\n",
    "\n",
    "This is most likely to be useful for instruments that return arrays of results. In this notebook, we will show an example of this."
   ]
  },
  {
   "cell_type": "code",
   "execution_count": 1,
   "metadata": {},
   "outputs": [],
   "source": [
    "import numpy as np\n",
    "import os"
   ]
  },
  {
   "cell_type": "code",
   "execution_count": 2,
   "metadata": {},
   "outputs": [
    {
     "name": "stdout",
     "output_type": "stream",
     "text": [
      "Logging hadn't been started.\n",
      "Activating auto-logging. Current session state plus future input saved.\n",
      "Filename       : /home/vsts/.qcodes/logs/command_history.log\n",
      "Mode           : append\n",
      "Output logging : True\n",
      "Raw input log  : False\n",
      "Timestamping   : True\n",
      "State          : active\n"
     ]
    },
    {
     "name": "stdout",
     "output_type": "stream",
     "text": [
      "Qcodes Logfile : /home/vsts/.qcodes/logs/200130-20735-qcodes.log\n"
     ]
    }
   ],
   "source": [
    "from qcodes.dataset.plotting import plot_dataset\n",
    "from qcodes.utils.validators import Numbers, Arrays\n",
    "from qcodes.instrument.base import Instrument\n",
    "from qcodes.dataset.measurements import Measurement"
   ]
  },
  {
   "cell_type": "code",
   "execution_count": 3,
   "metadata": {},
   "outputs": [],
   "source": [
    "from qcodes.dataset.sqlite.database import initialise_or_create_database_at\n",
    "from qcodes.dataset.experiment_container import load_or_create_experiment"
   ]
  },
  {
   "cell_type": "code",
   "execution_count": 4,
   "metadata": {},
   "outputs": [],
   "source": [
    "from qcodes.instrument.parameter import ParameterWithSetpoints, Parameter\n",
    "from qcodes.instrument.parameter import expand_setpoints_helper"
   ]
  },
  {
   "cell_type": "markdown",
   "metadata": {},
   "source": [
    "First, we define a dummy instrument that returns something like a frequency spectrum starting from a frequency given by `f_start` to a frequency given by `f_stop` in `n_points` steps. \n",
    "\n",
    "The extra functionality of the `ParameterWithSetpoints` is implemented by giving it a reference to one or more parameters that acts like its setpoints. \n",
    "\n",
    "To setup a `ParameterWithSetpoints` we have to do two things in addition to what we do for a normal parameter.\n",
    "\n",
    "* Define one or more parameter for the setpoints (one for each dimension of the array and let the `ParameterWithSetpoints` know that these are the setpoints.\n",
    "* Give both the setpoints parameter(s) and the `ParameterWithSetpoints` a `validator` of type `Arrays` with a shape. The shapes should be such that the combined shape of the setpoints matches the shape of the `ParameterWithSetpoints`. Note that if the shape changes with the setting of the instrument, it can be defined by another parameter as shown below. "
   ]
  },
  {
   "cell_type": "code",
   "execution_count": 5,
   "metadata": {},
   "outputs": [],
   "source": [
    "class GeneratedSetPoints(Parameter):\n",
    "    \"\"\"\n",
    "    A parameter that generates a setpoint array from start, stop and num points\n",
    "    parameters.\n",
    "    \"\"\"\n",
    "    def __init__(self, startparam, stopparam, numpointsparam, *args, **kwargs):\n",
    "        super().__init__(*args, **kwargs)\n",
    "        self._startparam = startparam\n",
    "        self._stopparam = stopparam\n",
    "        self._numpointsparam = numpointsparam\n",
    "\n",
    "    def get_raw(self):\n",
    "        return np.linspace(self._startparam(), self._stopparam(),\n",
    "                              self._numpointsparam())\n",
    "\n",
    "class DummyArray(ParameterWithSetpoints):\n",
    "    \n",
    "    def get_raw(self):\n",
    "        npoints = self.root_instrument.n_points.get_latest()\n",
    "        return np.random.rand(npoints)\n",
    "    \n",
    "\n",
    "class DummySpectrumAnalyzer(Instrument):\n",
    "    \n",
    "    def __init__(self, name, **kwargs):\n",
    "        \n",
    "        super().__init__(name, **kwargs)\n",
    "            \n",
    "\n",
    "        self.add_parameter('f_start',\n",
    "                           initial_value=0,\n",
    "                           unit='Hz',\n",
    "                           label='f start',\n",
    "                           vals=Numbers(0,1e3),\n",
    "                           get_cmd=None,\n",
    "                           set_cmd=None)\n",
    "\n",
    "        self.add_parameter('f_stop',\n",
    "                           unit='Hz',\n",
    "                           label='f stop',\n",
    "                           vals=Numbers(1,1e3),\n",
    "                           get_cmd=None,\n",
    "                           set_cmd=None)\n",
    "\n",
    "        self.add_parameter('n_points',\n",
    "                           unit='',\n",
    "                           initial_value=10,\n",
    "                           vals=Numbers(1,1e3),\n",
    "                           get_cmd=None,\n",
    "                           set_cmd=None)\n",
    "        \n",
    "        self.add_parameter('freq_axis',\n",
    "                           unit='Hz',\n",
    "                           label='Freq Axis',\n",
    "                           parameter_class=GeneratedSetPoints,\n",
    "                           startparam=self.f_start,\n",
    "                           stopparam=self.f_stop,\n",
    "                           numpointsparam=self.n_points,\n",
    "                           vals=Arrays(shape=(self.n_points.get_latest,)))\n",
    "                           \n",
    "        self.add_parameter('spectrum',\n",
    "                   unit='dBm',\n",
    "                   setpoints=(self.freq_axis,),\n",
    "                   label='Spectrum',\n",
    "                   parameter_class=DummyArray,\n",
    "                   vals=Arrays(shape=(self.n_points.get_latest,)))\n",
    "                "
   ]
  },
  {
   "cell_type": "markdown",
   "metadata": {},
   "source": [
    "In the above example, the shape is defined by the parameter `n_points` that defines how many samples our `DummySpectrumAnalyzer` returns.\n",
    "\n",
    "This means that the validation will call the function to get `n_points` twice for each `get` of the parameter. This may be too slow, however, if you (as the driver-writer) can guarantee that the cached value for `n_points` will never be out of sync with the value stored in the instrument, `n_points` may be replaced by it's latest known value such that the `validator` reads:\n",
    "```python\n",
    "vals=Arrays(shape=(self.n_points.get_latest))\n",
    "```\n",
    "\n",
    "This avoids any additional call to the instrument. In the same way, the arguments to the `freq_axis` parameter that defines the start, stop and number of points can be replaced by their latest value if the instrument allows it.\n",
    "\n"
   ]
  },
  {
   "cell_type": "code",
   "execution_count": 6,
   "metadata": {},
   "outputs": [
    {
     "name": "stdout",
     "output_type": "stream",
     "text": [
      "\r",
      "0it [00:00, ?it/s]"
     ]
    },
    {
     "name": "stdout",
     "output_type": "stream",
     "text": [
      "\r",
      "Upgrading database; v0 -> v1: : 0it [00:00, ?it/s]"
     ]
    },
    {
     "name": "stdout",
     "output_type": "stream",
     "text": [
      "\r",
      "Upgrading database; v0 -> v1: : 0it [00:00, ?it/s]"
     ]
    },
    {
     "name": "stdout",
     "output_type": "stream",
     "text": [
      "\n",
      "\r",
      "  0%|          | 0/1 [00:00<?, ?it/s]"
     ]
    },
    {
     "name": "stdout",
     "output_type": "stream",
     "text": [
      "\r",
      "Upgrading database; v1 -> v2:   0%|          | 0/1 [00:00<?, ?it/s]"
     ]
    },
    {
     "name": "stdout",
     "output_type": "stream",
     "text": [
      "\r",
      "Upgrading database; v1 -> v2: 100%|██████████| 1/1 [00:00<00:00, 901.42it/s]"
     ]
    },
    {
     "name": "stdout",
     "output_type": "stream",
     "text": [
      "\n",
      "\r",
      "0it [00:00, ?it/s]"
     ]
    },
    {
     "name": "stdout",
     "output_type": "stream",
     "text": [
      "\r",
      "Upgrading database; v2 -> v3: : 0it [00:00, ?it/s]"
     ]
    },
    {
     "name": "stdout",
     "output_type": "stream",
     "text": [
      "\r",
      "Upgrading database; v2 -> v3: : 0it [00:00, ?it/s]"
     ]
    },
    {
     "name": "stdout",
     "output_type": "stream",
     "text": [
      "\n",
      "\r",
      "0it [00:00, ?it/s]"
     ]
    },
    {
     "name": "stdout",
     "output_type": "stream",
     "text": [
      "\r",
      "Upgrading database; v3 -> v4: : 0it [00:00, ?it/s]"
     ]
    },
    {
     "name": "stdout",
     "output_type": "stream",
     "text": [
      "\r",
      "Upgrading database; v3 -> v4: : 0it [00:00, ?it/s]"
     ]
    },
    {
     "name": "stdout",
     "output_type": "stream",
     "text": [
      "\n",
      "\r",
      "  0%|          | 0/1 [00:00<?, ?it/s]"
     ]
    },
    {
     "name": "stdout",
     "output_type": "stream",
     "text": [
      "\r",
      "Upgrading database; v4 -> v5:   0%|          | 0/1 [00:00<?, ?it/s]"
     ]
    },
    {
     "name": "stdout",
     "output_type": "stream",
     "text": [
      "\r",
      "Upgrading database; v4 -> v5: 100%|██████████| 1/1 [00:00<00:00, 817.13it/s]"
     ]
    },
    {
     "name": "stdout",
     "output_type": "stream",
     "text": [
      "\n",
      "\r",
      "0it [00:00, ?it/s]"
     ]
    },
    {
     "name": "stdout",
     "output_type": "stream",
     "text": [
      "\r",
      "Upgrading database; v5 -> v6: : 0it [00:00, ?it/s]"
     ]
    },
    {
     "name": "stdout",
     "output_type": "stream",
     "text": [
      "\r",
      "Upgrading database; v5 -> v6: : 0it [00:00, ?it/s]"
     ]
    },
    {
     "name": "stdout",
     "output_type": "stream",
     "text": [
      "\n",
      "\r",
      "  0%|          | 0/1 [00:00<?, ?it/s]"
     ]
    },
    {
     "name": "stdout",
     "output_type": "stream",
     "text": [
      "\r",
      "Upgrading database; v6 -> v7:   0%|          | 0/1 [00:00<?, ?it/s]"
     ]
    },
    {
     "name": "stdout",
     "output_type": "stream",
     "text": [
      "\r",
      "Upgrading database; v6 -> v7: 100%|██████████| 1/1 [00:00<00:00, 464.79it/s]"
     ]
    },
    {
     "name": "stdout",
     "output_type": "stream",
     "text": [
      "\n",
      "\r",
      "  0%|          | 0/1 [00:00<?, ?it/s]"
     ]
    },
    {
     "name": "stdout",
     "output_type": "stream",
     "text": [
      "\r",
      "Upgrading database; v7 -> v8:   0%|          | 0/1 [00:00<?, ?it/s]"
     ]
    },
    {
     "name": "stdout",
     "output_type": "stream",
     "text": [
      "\r",
      "Upgrading database; v7 -> v8: 100%|██████████| 1/1 [00:00<00:00, 827.28it/s]"
     ]
    },
    {
     "name": "stdout",
     "output_type": "stream",
     "text": [
      "\n"
     ]
    },
    {
     "data": {
      "text/plain": [
       "tutorial_ParameterWithSetpoints#no sample#1@/home/vsts/work/1/s/docs/examples/Parameters/tutorial_paramter_with_setpoints.db\n",
       "----------------------------------------------------------------------------------------------------------------------------"
      ]
     },
     "execution_count": 6,
     "metadata": {},
     "output_type": "execute_result"
    }
   ],
   "source": [
    "tutorial_db_path = os.path.join(os.getcwd(), 'tutorial_paramter_with_setpoints.db')\n",
    "initialise_or_create_database_at(tutorial_db_path)\n",
    "load_or_create_experiment(experiment_name='tutorial_ParameterWithSetpoints', sample_name=\"no sample\")"
   ]
  },
  {
   "cell_type": "code",
   "execution_count": 7,
   "metadata": {},
   "outputs": [],
   "source": [
    "a = DummySpectrumAnalyzer('foobar')"
   ]
  },
  {
   "cell_type": "markdown",
   "metadata": {},
   "source": [
    "First we setup the limits of the spectrum"
   ]
  },
  {
   "cell_type": "code",
   "execution_count": 8,
   "metadata": {},
   "outputs": [],
   "source": [
    "a.f_start(0)\n",
    "a.f_stop(500)\n",
    "a.n_points(501)"
   ]
  },
  {
   "cell_type": "markdown",
   "metadata": {},
   "source": [
    "And we can grab the frequency axis"
   ]
  },
  {
   "cell_type": "code",
   "execution_count": 9,
   "metadata": {},
   "outputs": [
    {
     "data": {
      "text/plain": [
       "501"
      ]
     },
     "execution_count": 9,
     "metadata": {},
     "output_type": "execute_result"
    }
   ],
   "source": [
    "a.n_points()"
   ]
  },
  {
   "cell_type": "code",
   "execution_count": 10,
   "metadata": {
    "scrolled": false
   },
   "outputs": [
    {
     "data": {
      "text/plain": [
       "501"
      ]
     },
     "execution_count": 10,
     "metadata": {},
     "output_type": "execute_result"
    }
   ],
   "source": [
    "freq_axis = a.freq_axis()\n",
    "len(freq_axis)"
   ]
  },
  {
   "cell_type": "code",
   "execution_count": 11,
   "metadata": {},
   "outputs": [
    {
     "data": {
      "text/plain": [
       "array([0., 1., 2., 3., 4., 5., 6., 7., 8., 9.])"
      ]
     },
     "execution_count": 11,
     "metadata": {},
     "output_type": "execute_result"
    }
   ],
   "source": [
    "freq_axis[:10]"
   ]
  },
  {
   "cell_type": "markdown",
   "metadata": {},
   "source": [
    "As expected we get a result wit 501 points as we asked for an axis with 501 points. "
   ]
  },
  {
   "cell_type": "markdown",
   "metadata": {},
   "source": [
    "Above we have added a validator to the `freq_axis` parameter encoding the fact that this is an Array with `n_points`. Note that we do not have to supply the number of points as an integer but can supply a function that returns the valid number of points. This would normally be a QCoDeS parameter.\n",
    "\n",
    "This will be checked if we validate the output."
   ]
  },
  {
   "cell_type": "code",
   "execution_count": 12,
   "metadata": {},
   "outputs": [],
   "source": [
    "a.freq_axis.validate(a.freq_axis.get())"
   ]
  },
  {
   "cell_type": "markdown",
   "metadata": {},
   "source": [
    "Naturally, we can also get the spectrum. Getting the spectrum will automatically perform validation both for the shape of the parameter itself and the relation to the setpoint parameter(s)"
   ]
  },
  {
   "cell_type": "code",
   "execution_count": 13,
   "metadata": {
    "scrolled": true
   },
   "outputs": [
    {
     "data": {
      "text/plain": [
       "501"
      ]
     },
     "execution_count": 13,
     "metadata": {},
     "output_type": "execute_result"
    }
   ],
   "source": [
    "spectrum = a.spectrum.get()\n",
    "len(spectrum)"
   ]
  },
  {
   "cell_type": "markdown",
   "metadata": {},
   "source": [
    "When we validate a `ParameterWithSetpoints`, we automatically validate that the shape is consistent between the parameters and its setpoints. As well as validating the shape as above."
   ]
  },
  {
   "cell_type": "code",
   "execution_count": 14,
   "metadata": {},
   "outputs": [],
   "source": [
    "a.spectrum.validate(a.spectrum.get())"
   ]
  },
  {
   "cell_type": "markdown",
   "metadata": {},
   "source": [
    "The consistent shapes can be validated explicitly."
   ]
  },
  {
   "cell_type": "code",
   "execution_count": 15,
   "metadata": {},
   "outputs": [],
   "source": [
    "a.spectrum.validate_consistent_shape()"
   ]
  },
  {
   "cell_type": "markdown",
   "metadata": {},
   "source": [
    "We can inspect the setpoints of the spectrum."
   ]
  },
  {
   "cell_type": "code",
   "execution_count": 16,
   "metadata": {},
   "outputs": [
    {
     "data": {
      "text/plain": [
       "(<__main__.GeneratedSetPoints: freq_axis at 140229784552336>,)"
      ]
     },
     "execution_count": 16,
     "metadata": {},
     "output_type": "execute_result"
    }
   ],
   "source": [
    "a.spectrum.setpoints"
   ]
  },
  {
   "cell_type": "markdown",
   "metadata": {},
   "source": [
    "Or even change them."
   ]
  },
  {
   "cell_type": "code",
   "execution_count": 17,
   "metadata": {},
   "outputs": [],
   "source": [
    "a.spectrum.setpoints = (a.freq_axis,)"
   ]
  },
  {
   "cell_type": "markdown",
   "metadata": {},
   "source": [
    "## Measurement"
   ]
  },
  {
   "cell_type": "markdown",
   "metadata": {},
   "source": [
    "We can also directly consume the parameter in a measurement without defining the setpoints of the parameter again. The setpoints are automatically obtained from the definition of the `ParameterWithSetpoint` instance. "
   ]
  },
  {
   "cell_type": "code",
   "execution_count": 18,
   "metadata": {},
   "outputs": [
    {
     "name": "stdout",
     "output_type": "stream",
     "text": [
      "Starting experimental run with id: 1. \n"
     ]
    }
   ],
   "source": [
    "meas = Measurement()\n",
    "meas.register_parameter(a.spectrum)\n",
    "\n",
    "with meas.run() as datasaver:\n",
    "    datasaver.add_result((a.freq_axis, a.freq_axis()),\n",
    "                         (a.spectrum, a.spectrum()))\n",
    "    dataset = datasaver.dataset"
   ]
  },
  {
   "cell_type": "markdown",
   "metadata": {},
   "source": [
    "And plot it"
   ]
  },
  {
   "cell_type": "code",
   "execution_count": 19,
   "metadata": {},
   "outputs": [
    {
     "data": {
      "text/plain": [
       "([<matplotlib.axes._subplots.AxesSubplot at 0x7f89ca81b790>], [None])"
      ]
     },
     "execution_count": 19,
     "metadata": {},
     "output_type": "execute_result"
    },
    {
     "data": {
      "image/png": "[encoded data removed]",
      "text/plain": [
       "<Figure size 432x288 with 1 Axes>"
      ]
     },
     "metadata": {
      "needs_background": "light"
     },
     "output_type": "display_data"
    }
   ],
   "source": [
    "plot_dataset(dataset)"
   ]
  },
  {
   "cell_type": "markdown",
   "metadata": {},
   "source": [
    "To reduce the amount of typing a simple convenience function is provided that will take a `ParameterWithSetpoints` and get both its values and the setpoints values and return them as tuples for direct insertion into the Dataset."
   ]
  },
  {
   "cell_type": "code",
   "execution_count": 20,
   "metadata": {
    "scrolled": true
   },
   "outputs": [
    {
     "data": {
      "text/plain": [
       "[(<__main__.GeneratedSetPoints: freq_axis at 140229784552336>,\n",
       "  array([  0.,   1.,   2.,   3.,   4.,   5.,   6.,   7.,   8.,   9.,  10.,\n",
       "          11.,  12.,  13.,  14.,  15.,  16.,  17.,  18.,  19.,  20.,  21.,\n",
       "          22.,  23.,  24.,  25.,  26.,  27.,  28.,  29.,  30.,  31.,  32.,\n",
       "          33.,  34.,  35.,  36.,  37.,  38.,  39.,  40.,  41.,  42.,  43.,\n",
       "          44.,  45.,  46.,  47.,  48.,  49.,  50.,  51.,  52.,  53.,  54.,\n",
       "          55.,  56.,  57.,  58.,  59.,  60.,  61.,  62.,  63.,  64.,  65.,\n",
       "          66.,  67.,  68.,  69.,  70.,  71.,  72.,  73.,  74.,  75.,  76.,\n",
       "          77.,  78.,  79.,  80.,  81.,  82.,  83.,  84.,  85.,  86.,  87.,\n",
       "          88.,  89.,  90.,  91.,  92.,  93.,  94.,  95.,  96.,  97.,  98.,\n",
       "          99., 100., 101., 102., 103., 104., 105., 106., 107., 108., 109.,\n",
       "         110., 111., 112., 113., 114., 115., 116., 117., 118., 119., 120.,\n",
       "         121., 122., 123., 124., 125., 126., 127., 128., 129., 130., 131.,\n",
       "         132., 133., 134., 135., 136., 137., 138., 139., 140., 141., 142.,\n",
       "         143., 144., 145., 146., 147., 148., 149., 150., 151., 152., 153.,\n",
       "         154., 155., 156., 157., 158., 159., 160., 161., 162., 163., 164.,\n",
       "         165., 166., 167., 168., 169., 170., 171., 172., 173., 174., 175.,\n",
       "         176., 177., 178., 179., 180., 181., 182., 183., 184., 185., 186.,\n",
       "         187., 188., 189., 190., 191., 192., 193., 194., 195., 196., 197.,\n",
       "         198., 199., 200., 201., 202., 203., 204., 205., 206., 207., 208.,\n",
       "         209., 210., 211., 212., 213., 214., 215., 216., 217., 218., 219.,\n",
       "         220., 221., 222., 223., 224., 225., 226., 227., 228., 229., 230.,\n",
       "         231., 232., 233., 234., 235., 236., 237., 238., 239., 240., 241.,\n",
       "         242., 243., 244., 245., 246., 247., 248., 249., 250., 251., 252.,\n",
       "         253., 254., 255., 256., 257., 258., 259., 260., 261., 262., 263.,\n",
       "         264., 265., 266., 267., 268., 269., 270., 271., 272., 273., 274.,\n",
       "         275., 276., 277., 278., 279., 280., 281., 282., 283., 284., 285.,\n",
       "         286., 287., 288., 289., 290., 291., 292., 293., 294., 295., 296.,\n",
       "         297., 298., 299., 300., 301., 302., 303., 304., 305., 306., 307.,\n",
       "         308., 309., 310., 311., 312., 313., 314., 315., 316., 317., 318.,\n",
       "         319., 320., 321., 322., 323., 324., 325., 326., 327., 328., 329.,\n",
       "         330., 331., 332., 333., 334., 335., 336., 337., 338., 339., 340.,\n",
       "         341., 342., 343., 344., 345., 346., 347., 348., 349., 350., 351.,\n",
       "         352., 353., 354., 355., 356., 357., 358., 359., 360., 361., 362.,\n",
       "         363., 364., 365., 366., 367., 368., 369., 370., 371., 372., 373.,\n",
       "         374., 375., 376., 377., 378., 379., 380., 381., 382., 383., 384.,\n",
       "         385., 386., 387., 388., 389., 390., 391., 392., 393., 394., 395.,\n",
       "         396., 397., 398., 399., 400., 401., 402., 403., 404., 405., 406.,\n",
       "         407., 408., 409., 410., 411., 412., 413., 414., 415., 416., 417.,\n",
       "         418., 419., 420., 421., 422., 423., 424., 425., 426., 427., 428.,\n",
       "         429., 430., 431., 432., 433., 434., 435., 436., 437., 438., 439.,\n",
       "         440., 441., 442., 443., 444., 445., 446., 447., 448., 449., 450.,\n",
       "         451., 452., 453., 454., 455., 456., 457., 458., 459., 460., 461.,\n",
       "         462., 463., 464., 465., 466., 467., 468., 469., 470., 471., 472.,\n",
       "         473., 474., 475., 476., 477., 478., 479., 480., 481., 482., 483.,\n",
       "         484., 485., 486., 487., 488., 489., 490., 491., 492., 493., 494.,\n",
       "         495., 496., 497., 498., 499., 500.])),\n",
       " (<__main__.DummyArray: spectrum at 140229784552720>,\n",
       "  array([2.03823614e-01, 4.10541854e-01, 8.64212017e-01, 3.13736803e-01,\n",
       "         9.30430488e-01, 2.00367895e-02, 5.77226431e-01, 3.06394750e-01,\n",
       "         4.96416309e-01, 8.39792527e-01, 3.61901826e-01, 9.64359571e-01,\n",
       "         4.06935156e-01, 9.48543346e-01, 3.91439405e-01, 1.55988196e-01,\n",
       "         9.01383269e-01, 2.31963636e-02, 7.83186155e-01, 6.10768552e-01,\n",
       "         6.24036765e-01, 6.77538456e-01, 1.92033012e-01, 4.29266092e-02,\n",
       "         8.96750025e-01, 5.85208406e-02, 2.15201926e-01, 4.62197175e-01,\n",
       "         5.13536596e-01, 3.88842828e-01, 4.33092837e-01, 2.17229483e-01,\n",
       "         9.68800317e-01, 8.58330653e-01, 4.49463873e-01, 8.07660618e-01,\n",
       "         2.25057829e-01, 2.51237229e-01, 8.25906718e-01, 2.81561281e-02,\n",
       "         8.85522431e-01, 4.22317503e-01, 1.15976090e-01, 3.38807404e-01,\n",
       "         4.93602249e-01, 1.69482423e-01, 8.86504532e-01, 1.64162513e-01,\n",
       "         9.27613456e-01, 3.55289186e-01, 2.45932609e-01, 1.55943656e-01,\n",
       "         1.40293724e-01, 9.53920775e-01, 1.55391716e-01, 1.15901620e-01,\n",
       "         3.23942452e-01, 1.00642911e-01, 5.19067841e-01, 5.53637125e-01,\n",
       "         8.15952463e-01, 5.28862458e-01, 5.49922781e-01, 8.09360651e-01,\n",
       "         8.41774732e-01, 1.06208446e-01, 2.19890290e-01, 7.21219123e-01,\n",
       "         2.96777630e-01, 2.73615962e-01, 5.32912133e-02, 7.09027752e-01,\n",
       "         3.56543084e-01, 3.59565585e-01, 5.70515933e-01, 1.00849826e-01,\n",
       "         7.26870225e-01, 2.15194665e-02, 6.69070644e-01, 8.42277569e-01,\n",
       "         8.63589744e-01, 9.08543721e-01, 6.23202050e-01, 4.95587666e-01,\n",
       "         8.49537044e-01, 7.28990948e-01, 2.42219057e-01, 3.31133460e-01,\n",
       "         4.15394071e-01, 9.75480206e-01, 7.87739959e-01, 8.12975855e-01,\n",
       "         1.91035888e-01, 6.32359323e-01, 3.51028170e-01, 4.13199122e-01,\n",
       "         3.80059111e-01, 5.15655579e-01, 9.85480982e-01, 4.30744344e-01,\n",
       "         9.28363290e-01, 5.09521664e-04, 6.52501999e-01, 1.05146662e-01,\n",
       "         1.83300067e-01, 8.15392734e-01, 1.13666153e-01, 2.76230562e-01,\n",
       "         3.49127083e-01, 8.90259006e-01, 4.08726109e-01, 2.81586785e-01,\n",
       "         2.99300881e-01, 8.30572748e-02, 8.48704270e-01, 8.85348905e-01,\n",
       "         7.73568962e-01, 7.00543668e-01, 6.81187997e-01, 1.03450826e-01,\n",
       "         6.23479549e-01, 9.91967153e-01, 8.72092918e-01, 6.47575495e-01,\n",
       "         7.44810667e-01, 7.63596236e-01, 8.34235014e-01, 3.88136156e-01,\n",
       "         9.78983997e-01, 7.13905918e-01, 2.81542512e-01, 7.60003465e-01,\n",
       "         5.60305597e-01, 3.57166111e-01, 2.18284827e-01, 7.68527625e-01,\n",
       "         5.91167250e-01, 6.02957945e-01, 1.26129322e-01, 3.35961401e-01,\n",
       "         8.65197316e-01, 4.89787027e-01, 2.58884940e-02, 1.10855617e-01,\n",
       "         7.37517515e-01, 5.50280382e-01, 3.80646789e-01, 7.59790964e-01,\n",
       "         6.65383961e-01, 1.29997321e-01, 1.37932149e-02, 6.92985600e-01,\n",
       "         3.61376067e-01, 5.42703756e-01, 3.12021514e-02, 9.19458778e-01,\n",
       "         8.93574462e-01, 2.81206146e-01, 5.56527450e-01, 9.27301607e-01,\n",
       "         6.64053483e-01, 4.42741359e-01, 5.97453677e-01, 2.91537495e-01,\n",
       "         8.62253071e-01, 7.02685725e-01, 8.93909115e-01, 4.13737209e-01,\n",
       "         9.98181078e-01, 6.10151352e-01, 8.48636725e-01, 6.32270964e-01,\n",
       "         7.46257462e-01, 9.96129620e-01, 2.37648156e-02, 1.80426921e-01,\n",
       "         1.47514097e-01, 5.44514209e-01, 2.37561998e-01, 7.48371887e-01,\n",
       "         7.29613770e-01, 3.22553107e-02, 8.80090569e-01, 6.57795278e-01,\n",
       "         8.47927679e-01, 5.49036086e-01, 4.38094838e-01, 9.31531568e-01,\n",
       "         4.07881294e-01, 4.71357365e-03, 4.50813811e-02, 7.57549470e-01,\n",
       "         4.67991890e-01, 6.82474212e-01, 4.30280756e-01, 9.46991416e-01,\n",
       "         2.12935312e-01, 9.08098463e-01, 5.01962092e-01, 2.75081710e-01,\n",
       "         5.14673818e-01, 3.36382178e-01, 1.16461178e-01, 4.98591680e-01,\n",
       "         8.93354811e-01, 9.30301842e-01, 9.30801609e-02, 1.39087455e-01,\n",
       "         2.04939034e-01, 4.55167031e-01, 3.41894548e-01, 2.00667205e-01,\n",
       "         3.17277546e-01, 6.58217402e-01, 6.54375377e-02, 9.10651159e-01,\n",
       "         1.36243918e-01, 3.99170449e-01, 1.14503159e-01, 7.93367575e-01,\n",
       "         4.20436637e-01, 6.86390268e-01, 8.72772639e-01, 3.49115097e-01,\n",
       "         3.91737800e-01, 8.00704223e-02, 9.91761908e-01, 9.23205797e-01,\n",
       "         2.42541066e-01, 1.94875934e-01, 9.11555124e-01, 5.00614915e-01,\n",
       "         6.54347728e-01, 5.94868056e-01, 8.92435023e-01, 8.98834993e-01,\n",
       "         8.15766865e-01, 1.76399714e-01, 7.39748750e-02, 3.83753161e-03,\n",
       "         9.75470027e-01, 8.02449916e-01, 9.42261979e-01, 2.50214142e-01,\n",
       "         4.13268891e-01, 8.96948641e-02, 2.35586391e-01, 7.72540508e-01,\n",
       "         9.54028639e-01, 2.73906771e-01, 9.57063962e-02, 7.24460226e-01,\n",
       "         5.73003359e-01, 9.03459166e-01, 4.60812827e-01, 8.39889218e-01,\n",
       "         3.14028366e-01, 6.52208758e-01, 6.20256032e-01, 6.50770156e-01,\n",
       "         2.97444308e-01, 3.98100541e-01, 8.78264979e-01, 6.83025392e-01,\n",
       "         2.38144876e-01, 7.85803667e-01, 4.35557458e-01, 3.25308858e-01,\n",
       "         2.45948817e-01, 9.92714639e-01, 8.07871137e-01, 4.75379853e-01,\n",
       "         1.04674280e-01, 9.25762135e-01, 6.92107117e-01, 6.32783729e-01,\n",
       "         7.66018839e-01, 3.94538791e-02, 2.67578687e-01, 1.92874838e-01,\n",
       "         4.52096772e-01, 7.05736653e-01, 1.66863204e-01, 2.95681335e-01,\n",
       "         8.36474363e-01, 9.23665030e-01, 3.60147322e-02, 3.34296716e-01,\n",
       "         1.99459400e-01, 3.43824118e-01, 2.37778382e-02, 3.27450423e-01,\n",
       "         3.17032302e-02, 4.87874876e-01, 7.02134712e-01, 9.32548605e-01,\n",
       "         5.83372668e-01, 4.13316478e-01, 7.37348707e-01, 7.69977407e-01,\n",
       "         6.61135145e-01, 1.76411887e-01, 7.96621371e-01, 1.47865142e-01,\n",
       "         9.43658021e-01, 1.66341365e-01, 1.59587905e-02, 4.54028819e-01,\n",
       "         2.66648079e-01, 7.37700844e-01, 7.28805305e-01, 3.40328290e-01,\n",
       "         5.76101450e-01, 8.28551387e-01, 3.88903822e-01, 6.70174625e-02,\n",
       "         8.75148688e-01, 1.42628243e-01, 4.27841134e-01, 2.69485778e-01,\n",
       "         6.56078528e-01, 5.78282508e-01, 7.04072169e-01, 4.12879189e-01,\n",
       "         8.46648277e-01, 7.04093261e-01, 4.73500520e-01, 3.06647487e-01,\n",
       "         7.69807901e-01, 5.16136768e-01, 4.30390218e-01, 8.48793340e-01,\n",
       "         4.26359864e-01, 4.57869929e-01, 4.85239631e-01, 2.97037779e-01,\n",
       "         9.21006509e-01, 8.03866685e-01, 2.42903162e-01, 4.60177585e-01,\n",
       "         5.13861941e-01, 9.63592091e-01, 2.96504988e-01, 2.48439620e-01,\n",
       "         6.02093343e-01, 9.01419019e-01, 5.15353975e-01, 5.38991621e-01,\n",
       "         8.05950035e-02, 5.59358534e-01, 8.88279557e-01, 3.73740611e-01,\n",
       "         7.81000855e-01, 6.72458214e-01, 5.97723259e-02, 3.96501177e-01,\n",
       "         9.64050670e-01, 4.88836366e-01, 5.04266151e-01, 4.73196964e-01,\n",
       "         1.71208246e-01, 3.74368118e-01, 8.55696701e-01, 9.71510126e-01,\n",
       "         4.48463408e-01, 8.81141121e-01, 3.74751066e-01, 8.19633847e-01,\n",
       "         1.42417673e-01, 6.87080689e-01, 3.35230611e-01, 9.73887948e-01,\n",
       "         8.42498747e-01, 4.72230357e-01, 3.97871823e-01, 6.78891091e-01,\n",
       "         5.55842488e-01, 2.23026966e-01, 7.55238808e-01, 5.36465492e-03,\n",
       "         9.55337708e-01, 7.83682944e-01, 2.87505065e-01, 3.84351551e-01,\n",
       "         3.16249866e-01, 8.45863515e-01, 1.98619448e-01, 4.93665420e-02,\n",
       "         7.66945397e-01, 2.90986960e-01, 1.61619706e-01, 2.68501147e-01,\n",
       "         6.90777469e-01, 8.75877293e-01, 4.36277000e-01, 7.10812571e-01,\n",
       "         3.42555723e-01, 9.74330749e-01, 8.95564658e-01, 6.91831156e-01,\n",
       "         3.09930684e-01, 3.28361988e-01, 3.03119052e-01, 9.53981857e-01,\n",
       "         2.68680520e-01, 3.12048408e-01, 9.94301469e-01, 9.16528287e-01,\n",
       "         1.21303122e-01, 7.60427010e-01, 4.39205319e-01, 5.03896372e-01,\n",
       "         1.93985588e-01, 7.67852208e-01, 1.45970659e-01, 1.68677747e-01,\n",
       "         1.05089381e-01, 9.10647567e-01, 8.13088553e-01, 5.22486175e-01,\n",
       "         3.91501762e-01, 4.19773680e-01, 9.59464233e-01, 7.11346638e-01,\n",
       "         3.87324941e-01, 4.83659625e-01, 2.81760791e-01, 7.34298297e-01,\n",
       "         1.64748582e-01, 9.19609189e-01, 8.68915966e-01, 9.36490797e-01,\n",
       "         8.11620726e-01, 2.73249897e-01, 9.58401870e-01, 4.68949921e-01,\n",
       "         5.22772809e-01, 9.00253375e-01, 9.49553645e-01, 6.53384390e-02,\n",
       "         3.86149624e-01, 1.62214151e-01, 5.39076900e-01, 6.50008824e-01,\n",
       "         5.89508224e-01, 1.81491995e-01, 8.23504323e-01, 7.28630226e-01,\n",
       "         7.93915284e-01, 4.43921436e-01, 4.37610751e-01, 2.34473058e-01,\n",
       "         7.24895184e-01, 6.71164316e-01, 5.13574672e-01, 3.87654190e-01,\n",
       "         5.72018092e-01, 7.46725286e-02, 9.82138219e-01, 8.80516176e-01,\n",
       "         2.24421066e-01, 8.39602510e-02, 7.87003330e-01, 7.34510671e-02,\n",
       "         3.92686602e-01, 8.97548792e-01, 7.40590621e-01, 7.47710830e-01,\n",
       "         5.53212842e-02, 7.68364860e-01, 7.04134469e-01, 4.43091234e-01,\n",
       "         5.49929789e-01, 8.73398590e-01, 9.64153318e-01, 1.53034405e-01,\n",
       "         8.08597421e-03, 8.75864392e-01, 9.90673361e-04, 6.69919846e-03,\n",
       "         2.99299511e-01, 6.85633011e-01, 8.12814238e-01, 3.16554711e-01,\n",
       "         5.19467222e-01, 8.17514361e-01, 1.58834525e-01, 8.37224633e-01,\n",
       "         8.34991610e-01, 3.63440736e-01, 5.56663695e-02, 2.99130461e-01,\n",
       "         7.86065372e-01, 8.47939669e-01, 5.49606061e-01, 9.95772199e-02,\n",
       "         6.74221319e-01, 7.39410335e-01, 5.19878096e-01, 3.22995253e-02,\n",
       "         6.46434040e-01]))]"
      ]
     },
     "execution_count": 20,
     "metadata": {},
     "output_type": "execute_result"
    }
   ],
   "source": [
    "expand_setpoints_helper(a.spectrum)"
   ]
  },
  {
   "cell_type": "code",
   "execution_count": 21,
   "metadata": {},
   "outputs": [
    {
     "name": "stdout",
     "output_type": "stream",
     "text": [
      "Starting experimental run with id: 2. \n"
     ]
    }
   ],
   "source": [
    "meas = Measurement()\n",
    "meas.register_parameter(a.spectrum)\n",
    "\n",
    "with meas.run() as datasaver:\n",
    "    datasaver.add_result(*expand_setpoints_helper(a.spectrum))\n",
    "    \n",
    "    dataid = datasaver.run_id"
   ]
  },
  {
   "cell_type": "code",
   "execution_count": null,
   "metadata": {},
   "outputs": [],
   "source": []
  }
 ],
 "metadata": {
  "kernelspec": {
   "display_name": "Python 3",
   "language": "python",
   "name": "python3"
  },
  "language_info": {
   "codemirror_mode": {
    "name": "ipython",
    "version": 3
   },
   "file_extension": ".py",
   "mimetype": "text/x-python",
   "name": "python",
   "nbconvert_exporter": "python",
   "pygments_lexer": "ipython3",
   "version": "3.7.5"
  },
  "toc": {
   "base_numbering": 1,
   "nav_menu": {},
   "number_sections": true,
   "sideBar": true,
   "skip_h1_title": false,
   "title_cell": "Table of Contents",
   "title_sidebar": "Contents",
   "toc_cell": false,
   "toc_position": {},
   "toc_section_display": true,
   "toc_window_display": false
  },
  "varInspector": {
   "cols": {
    "lenName": 16,
    "lenType": 16,
    "lenVar": 40
   },
   "kernels_config": {
    "python": {
     "delete_cmd_postfix": "",
     "delete_cmd_prefix": "del ",
     "library": "var_list.py",
     "varRefreshCmd": "print(var_dic_list())"
    },
    "r": {
     "delete_cmd_postfix": ") ",
     "delete_cmd_prefix": "rm(",
     "library": "var_list.r",
     "varRefreshCmd": "cat(var_dic_list()) "
    }
   },
   "types_to_exclude": [
    "module",
    "function",
    "builtin_function_or_method",
    "instance",
    "_Feature"
   ],
   "window_display": false
  }
 },
 "nbformat": 4,
 "nbformat_minor": 2
}
