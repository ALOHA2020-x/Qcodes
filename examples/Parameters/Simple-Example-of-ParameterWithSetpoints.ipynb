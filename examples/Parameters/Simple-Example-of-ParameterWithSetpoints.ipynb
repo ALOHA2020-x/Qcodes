{
 "cells": [
  {
   "cell_type": "markdown",
   "metadata": {},
   "source": [
    "# Simple Example of ParameterWithSetpoints\n",
    "This notebook provides an example for writing a simple driver with a parameter that has setpoints. Let's name this parameter that has setpoints as \"y\". Then, the setpoints, say \"x1, x2, x3 ..\", are the parameters on which the parameter \n",
    "\"y\" depends upon. Meaning \"y\" is a function of \"x1, x2, x3 ...\" where \"x1, x2, x3 ...\" are known as the setpoints of parameter \"y\".\n",
    "\n",
    "This is most likely to be useful for instruments that return arrays of results. In this notebook, we will show an example of this."
   ]
  },
  {
   "cell_type": "code",
   "execution_count": 1,
   "metadata": {},
   "outputs": [],
   "source": [
    "import numpy as np\n",
    "import os"
   ]
  },
  {
   "cell_type": "code",
   "execution_count": 2,
   "metadata": {},
   "outputs": [
    {
     "name": "stdout",
     "output_type": "stream",
     "text": [
      "Logging hadn't been started.\n",
      "Activating auto-logging. Current session state plus future input saved.\n",
      "Filename       : /home/vsts/.qcodes/logs/command_history.log\n",
      "Mode           : append\n",
      "Output logging : True\n",
      "Raw input log  : False\n",
      "Timestamping   : True\n",
      "State          : active\n"
     ]
    },
    {
     "name": "stdout",
     "output_type": "stream",
     "text": [
      "Qcodes Logfile : /home/vsts/.qcodes/logs/200717-22010-qcodes.log\n"
     ]
    }
   ],
   "source": [
    "from qcodes.dataset.plotting import plot_dataset\n",
    "from qcodes.utils.validators import Numbers, Arrays\n",
    "from qcodes.instrument.base import Instrument\n",
    "from qcodes.dataset.measurements import Measurement"
   ]
  },
  {
   "cell_type": "code",
   "execution_count": 3,
   "metadata": {},
   "outputs": [],
   "source": [
    "from qcodes.dataset.sqlite.database import initialise_or_create_database_at\n",
    "from qcodes.dataset.experiment_container import load_or_create_experiment"
   ]
  },
  {
   "cell_type": "code",
   "execution_count": 4,
   "metadata": {},
   "outputs": [],
   "source": [
    "from qcodes.instrument.parameter import ParameterWithSetpoints, Parameter\n",
    "from qcodes.instrument.parameter import expand_setpoints_helper"
   ]
  },
  {
   "cell_type": "markdown",
   "metadata": {},
   "source": [
    "First, we define a dummy instrument that returns something like a frequency spectrum starting from a frequency given by `f_start` to a frequency given by `f_stop` in `n_points` steps. \n",
    "\n",
    "The extra functionality of the `ParameterWithSetpoints` is implemented by giving it a reference to one or more parameters that acts like its setpoints. \n",
    "\n",
    "To setup a `ParameterWithSetpoints` we have to do two things in addition to what we do for a normal parameter.\n",
    "\n",
    "* Define one or more parameter for the setpoints (one for each dimension of the array and let the `ParameterWithSetpoints` know that these are the setpoints.\n",
    "* Give both the setpoints parameter(s) and the `ParameterWithSetpoints` a `validator` of type `Arrays` with a shape. The shapes should be such that the combined shape of the setpoints matches the shape of the `ParameterWithSetpoints`. Note that if the shape changes with the setting of the instrument, it can be defined by another parameter as shown below. "
   ]
  },
  {
   "cell_type": "code",
   "execution_count": 5,
   "metadata": {},
   "outputs": [],
   "source": [
    "class GeneratedSetPoints(Parameter):\n",
    "    \"\"\"\n",
    "    A parameter that generates a setpoint array from start, stop and num points\n",
    "    parameters.\n",
    "    \"\"\"\n",
    "    def __init__(self, startparam, stopparam, numpointsparam, *args, **kwargs):\n",
    "        super().__init__(*args, **kwargs)\n",
    "        self._startparam = startparam\n",
    "        self._stopparam = stopparam\n",
    "        self._numpointsparam = numpointsparam\n",
    "\n",
    "    def get_raw(self):\n",
    "        return np.linspace(self._startparam(), self._stopparam(),\n",
    "                              self._numpointsparam())\n",
    "\n",
    "class DummyArray(ParameterWithSetpoints):\n",
    "    \n",
    "    def get_raw(self):\n",
    "        npoints = self.root_instrument.n_points.get_latest()\n",
    "        return np.random.rand(npoints)\n",
    "    \n",
    "\n",
    "class DummySpectrumAnalyzer(Instrument):\n",
    "    \n",
    "    def __init__(self, name, **kwargs):\n",
    "        \n",
    "        super().__init__(name, **kwargs)\n",
    "            \n",
    "\n",
    "        self.add_parameter('f_start',\n",
    "                           initial_value=0,\n",
    "                           unit='Hz',\n",
    "                           label='f start',\n",
    "                           vals=Numbers(0,1e3),\n",
    "                           get_cmd=None,\n",
    "                           set_cmd=None)\n",
    "\n",
    "        self.add_parameter('f_stop',\n",
    "                           unit='Hz',\n",
    "                           label='f stop',\n",
    "                           vals=Numbers(1,1e3),\n",
    "                           get_cmd=None,\n",
    "                           set_cmd=None)\n",
    "\n",
    "        self.add_parameter('n_points',\n",
    "                           unit='',\n",
    "                           initial_value=10,\n",
    "                           vals=Numbers(1,1e3),\n",
    "                           get_cmd=None,\n",
    "                           set_cmd=None)\n",
    "        \n",
    "        self.add_parameter('freq_axis',\n",
    "                           unit='Hz',\n",
    "                           label='Freq Axis',\n",
    "                           parameter_class=GeneratedSetPoints,\n",
    "                           startparam=self.f_start,\n",
    "                           stopparam=self.f_stop,\n",
    "                           numpointsparam=self.n_points,\n",
    "                           vals=Arrays(shape=(self.n_points.get_latest,)))\n",
    "                           \n",
    "        self.add_parameter('spectrum',\n",
    "                   unit='dBm',\n",
    "                   setpoints=(self.freq_axis,),\n",
    "                   label='Spectrum',\n",
    "                   parameter_class=DummyArray,\n",
    "                   vals=Arrays(shape=(self.n_points.get_latest,)))\n",
    "                "
   ]
  },
  {
   "cell_type": "markdown",
   "metadata": {},
   "source": [
    "In the above example, the shape is defined by the parameter `n_points` that defines how many samples our `DummySpectrumAnalyzer` returns.\n",
    "\n",
    "This means that the validation will call the function to get `n_points` twice for each `get` of the parameter. This may be too slow, however, if you (as the driver-writer) can guarantee that the cached value for `n_points` will never be out of sync with the value stored in the instrument, `n_points` may be replaced by it's latest known value such that the `validator` reads:\n",
    "```python\n",
    "vals=Arrays(shape=(self.n_points.get_latest))\n",
    "```\n",
    "\n",
    "This avoids any additional call to the instrument. In the same way, the arguments to the `freq_axis` parameter that defines the start, stop and number of points can be replaced by their latest value if the instrument allows it.\n",
    "\n"
   ]
  },
  {
   "cell_type": "code",
   "execution_count": 6,
   "metadata": {},
   "outputs": [
    {
     "name": "stdout",
     "output_type": "stream",
     "text": [
      "\r",
      "0it [00:00, ?it/s]"
     ]
    },
    {
     "name": "stdout",
     "output_type": "stream",
     "text": [
      "\r",
      "Upgrading database; v0 -> v1: : 0it [00:00, ?it/s]"
     ]
    },
    {
     "name": "stdout",
     "output_type": "stream",
     "text": [
      "\r",
      "Upgrading database; v0 -> v1: : 0it [00:00, ?it/s]"
     ]
    },
    {
     "name": "stdout",
     "output_type": "stream",
     "text": [
      "\n",
      "\r",
      "  0%|          | 0/1 [00:00<?, ?it/s]"
     ]
    },
    {
     "name": "stdout",
     "output_type": "stream",
     "text": [
      "\r",
      "Upgrading database; v1 -> v2:   0%|          | 0/1 [00:00<?, ?it/s]"
     ]
    },
    {
     "name": "stdout",
     "output_type": "stream",
     "text": [
      "\r",
      "Upgrading database; v1 -> v2: 100%|██████████| 1/1 [00:00<00:00, 947.22it/s]"
     ]
    },
    {
     "name": "stdout",
     "output_type": "stream",
     "text": [
      "\n",
      "\r",
      "0it [00:00, ?it/s]"
     ]
    },
    {
     "name": "stdout",
     "output_type": "stream",
     "text": [
      "\r",
      "Upgrading database; v2 -> v3: : 0it [00:00, ?it/s]"
     ]
    },
    {
     "name": "stdout",
     "output_type": "stream",
     "text": [
      "\r",
      "Upgrading database; v2 -> v3: : 0it [00:00, ?it/s]"
     ]
    },
    {
     "name": "stdout",
     "output_type": "stream",
     "text": [
      "\n",
      "\r",
      "0it [00:00, ?it/s]"
     ]
    },
    {
     "name": "stdout",
     "output_type": "stream",
     "text": [
      "\r",
      "Upgrading database; v3 -> v4: : 0it [00:00, ?it/s]"
     ]
    },
    {
     "name": "stdout",
     "output_type": "stream",
     "text": [
      "\r",
      "Upgrading database; v3 -> v4: : 0it [00:00, ?it/s]"
     ]
    },
    {
     "name": "stdout",
     "output_type": "stream",
     "text": [
      "\n",
      "\r",
      "  0%|          | 0/1 [00:00<?, ?it/s]"
     ]
    },
    {
     "name": "stdout",
     "output_type": "stream",
     "text": [
      "\r",
      "Upgrading database; v4 -> v5:   0%|          | 0/1 [00:00<?, ?it/s]"
     ]
    },
    {
     "name": "stdout",
     "output_type": "stream",
     "text": [
      "\r",
      "Upgrading database; v4 -> v5: 100%|██████████| 1/1 [00:00<00:00, 914.79it/s]"
     ]
    },
    {
     "name": "stdout",
     "output_type": "stream",
     "text": [
      "\n",
      "\r",
      "0it [00:00, ?it/s]"
     ]
    },
    {
     "name": "stdout",
     "output_type": "stream",
     "text": [
      "\r",
      "Upgrading database; v5 -> v6: : 0it [00:00, ?it/s]"
     ]
    },
    {
     "name": "stdout",
     "output_type": "stream",
     "text": [
      "\r",
      "Upgrading database; v5 -> v6: : 0it [00:00, ?it/s]"
     ]
    },
    {
     "name": "stdout",
     "output_type": "stream",
     "text": [
      "\n",
      "\r",
      "  0%|          | 0/1 [00:00<?, ?it/s]"
     ]
    },
    {
     "name": "stdout",
     "output_type": "stream",
     "text": [
      "\r",
      "Upgrading database; v6 -> v7:   0%|          | 0/1 [00:00<?, ?it/s]"
     ]
    },
    {
     "name": "stdout",
     "output_type": "stream",
     "text": [
      "\r",
      "Upgrading database; v6 -> v7: 100%|██████████| 1/1 [00:00<00:00, 429.26it/s]"
     ]
    },
    {
     "name": "stdout",
     "output_type": "stream",
     "text": [
      "\n",
      "\r",
      "  0%|          | 0/1 [00:00<?, ?it/s]"
     ]
    },
    {
     "name": "stdout",
     "output_type": "stream",
     "text": [
      "\r",
      "Upgrading database; v7 -> v8:   0%|          | 0/1 [00:00<?, ?it/s]"
     ]
    },
    {
     "name": "stdout",
     "output_type": "stream",
     "text": [
      "\r",
      "Upgrading database; v7 -> v8: 100%|██████████| 1/1 [00:00<00:00, 891.08it/s]"
     ]
    },
    {
     "name": "stdout",
     "output_type": "stream",
     "text": [
      "\n",
      "\r",
      "  0%|          | 0/1 [00:00<?, ?it/s]"
     ]
    },
    {
     "name": "stdout",
     "output_type": "stream",
     "text": [
      "\r",
      "Upgrading database; v8 -> v9:   0%|          | 0/1 [00:00<?, ?it/s]"
     ]
    },
    {
     "name": "stdout",
     "output_type": "stream",
     "text": [
      "\r",
      "Upgrading database; v8 -> v9: 100%|██████████| 1/1 [00:00<00:00, 929.79it/s]"
     ]
    },
    {
     "name": "stdout",
     "output_type": "stream",
     "text": [
      "\n"
     ]
    },
    {
     "data": {
      "text/plain": [
       "tutorial_ParameterWithSetpoints#no sample#1@/home/vsts/work/1/s/docs/examples/Parameters/tutorial_paramter_with_setpoints.db\n",
       "----------------------------------------------------------------------------------------------------------------------------"
      ]
     },
     "execution_count": 6,
     "metadata": {},
     "output_type": "execute_result"
    }
   ],
   "source": [
    "tutorial_db_path = os.path.join(os.getcwd(), 'tutorial_paramter_with_setpoints.db')\n",
    "initialise_or_create_database_at(tutorial_db_path)\n",
    "load_or_create_experiment(experiment_name='tutorial_ParameterWithSetpoints', sample_name=\"no sample\")"
   ]
  },
  {
   "cell_type": "code",
   "execution_count": 7,
   "metadata": {},
   "outputs": [],
   "source": [
    "a = DummySpectrumAnalyzer('foobar')"
   ]
  },
  {
   "cell_type": "markdown",
   "metadata": {},
   "source": [
    "First we setup the limits of the spectrum"
   ]
  },
  {
   "cell_type": "code",
   "execution_count": 8,
   "metadata": {},
   "outputs": [],
   "source": [
    "a.f_start(0)\n",
    "a.f_stop(500)\n",
    "a.n_points(501)"
   ]
  },
  {
   "cell_type": "markdown",
   "metadata": {},
   "source": [
    "And we can grab the frequency axis"
   ]
  },
  {
   "cell_type": "code",
   "execution_count": 9,
   "metadata": {},
   "outputs": [
    {
     "data": {
      "text/plain": [
       "501"
      ]
     },
     "execution_count": 9,
     "metadata": {},
     "output_type": "execute_result"
    }
   ],
   "source": [
    "a.n_points()"
   ]
  },
  {
   "cell_type": "code",
   "execution_count": 10,
   "metadata": {
    "scrolled": false
   },
   "outputs": [
    {
     "data": {
      "text/plain": [
       "501"
      ]
     },
     "execution_count": 10,
     "metadata": {},
     "output_type": "execute_result"
    }
   ],
   "source": [
    "freq_axis = a.freq_axis()\n",
    "len(freq_axis)"
   ]
  },
  {
   "cell_type": "code",
   "execution_count": 11,
   "metadata": {},
   "outputs": [
    {
     "data": {
      "text/plain": [
       "array([0., 1., 2., 3., 4., 5., 6., 7., 8., 9.])"
      ]
     },
     "execution_count": 11,
     "metadata": {},
     "output_type": "execute_result"
    }
   ],
   "source": [
    "freq_axis[:10]"
   ]
  },
  {
   "cell_type": "markdown",
   "metadata": {},
   "source": [
    "As expected we get a result wit 501 points as we asked for an axis with 501 points. "
   ]
  },
  {
   "cell_type": "markdown",
   "metadata": {},
   "source": [
    "Above we have added a validator to the `freq_axis` parameter encoding the fact that this is an Array with `n_points`. Note that we do not have to supply the number of points as an integer but can supply a function that returns the valid number of points. This would normally be a QCoDeS parameter.\n",
    "\n",
    "This will be checked if we validate the output."
   ]
  },
  {
   "cell_type": "code",
   "execution_count": 12,
   "metadata": {},
   "outputs": [],
   "source": [
    "a.freq_axis.validate(a.freq_axis.get())"
   ]
  },
  {
   "cell_type": "markdown",
   "metadata": {},
   "source": [
    "Naturally, we can also get the spectrum. Getting the spectrum will automatically perform validation both for the shape of the parameter itself and the relation to the setpoint parameter(s)"
   ]
  },
  {
   "cell_type": "code",
   "execution_count": 13,
   "metadata": {
    "scrolled": true
   },
   "outputs": [
    {
     "data": {
      "text/plain": [
       "501"
      ]
     },
     "execution_count": 13,
     "metadata": {},
     "output_type": "execute_result"
    }
   ],
   "source": [
    "spectrum = a.spectrum.get()\n",
    "len(spectrum)"
   ]
  },
  {
   "cell_type": "markdown",
   "metadata": {},
   "source": [
    "When we validate a `ParameterWithSetpoints`, we automatically validate that the shape is consistent between the parameters and its setpoints. As well as validating the shape as above."
   ]
  },
  {
   "cell_type": "code",
   "execution_count": 14,
   "metadata": {},
   "outputs": [],
   "source": [
    "a.spectrum.validate(a.spectrum.get())"
   ]
  },
  {
   "cell_type": "markdown",
   "metadata": {},
   "source": [
    "The consistent shapes can be validated explicitly."
   ]
  },
  {
   "cell_type": "code",
   "execution_count": 15,
   "metadata": {},
   "outputs": [],
   "source": [
    "a.spectrum.validate_consistent_shape()"
   ]
  },
  {
   "cell_type": "markdown",
   "metadata": {},
   "source": [
    "We can inspect the setpoints of the spectrum."
   ]
  },
  {
   "cell_type": "code",
   "execution_count": 16,
   "metadata": {},
   "outputs": [
    {
     "data": {
      "text/plain": [
       "(<__main__.GeneratedSetPoints: freq_axis at 139722778069840>,)"
      ]
     },
     "execution_count": 16,
     "metadata": {},
     "output_type": "execute_result"
    }
   ],
   "source": [
    "a.spectrum.setpoints"
   ]
  },
  {
   "cell_type": "markdown",
   "metadata": {},
   "source": [
    "Or even change them."
   ]
  },
  {
   "cell_type": "code",
   "execution_count": 17,
   "metadata": {},
   "outputs": [],
   "source": [
    "a.spectrum.setpoints = (a.freq_axis,)"
   ]
  },
  {
   "cell_type": "markdown",
   "metadata": {},
   "source": [
    "## Measurement"
   ]
  },
  {
   "cell_type": "markdown",
   "metadata": {},
   "source": [
    "We can also directly consume the parameter in a measurement without defining the setpoints of the parameter again. The setpoints are automatically obtained from the definition of the `ParameterWithSetpoint` instance. "
   ]
  },
  {
   "cell_type": "code",
   "execution_count": 18,
   "metadata": {},
   "outputs": [
    {
     "name": "stdout",
     "output_type": "stream",
     "text": [
      "Starting experimental run with id: 1. \n"
     ]
    }
   ],
   "source": [
    "meas = Measurement()\n",
    "meas.register_parameter(a.spectrum)\n",
    "\n",
    "with meas.run() as datasaver:\n",
    "    datasaver.add_result((a.freq_axis, a.freq_axis()),\n",
    "                         (a.spectrum, a.spectrum()))\n",
    "    dataset = datasaver.dataset"
   ]
  },
  {
   "cell_type": "markdown",
   "metadata": {},
   "source": [
    "And plot it"
   ]
  },
  {
   "cell_type": "code",
   "execution_count": 19,
   "metadata": {},
   "outputs": [
    {
     "data": {
      "text/plain": [
       "([<matplotlib.axes._subplots.AxesSubplot at 0x7f13bdbd8110>], [None])"
      ]
     },
     "execution_count": 19,
     "metadata": {},
     "output_type": "execute_result"
    },
    {
     "data": {
      "image/png": "[encoded data removed]",
      "text/plain": [
       "<Figure size 432x288 with 1 Axes>"
      ]
     },
     "metadata": {
      "needs_background": "light"
     },
     "output_type": "display_data"
    }
   ],
   "source": [
    "plot_dataset(dataset)"
   ]
  },
  {
   "cell_type": "markdown",
   "metadata": {},
   "source": [
    "To reduce the amount of typing a simple convenience function is provided that will take a `ParameterWithSetpoints` and get both its values and the setpoints values and return them as tuples for direct insertion into the Dataset."
   ]
  },
  {
   "cell_type": "code",
   "execution_count": 20,
   "metadata": {
    "scrolled": true
   },
   "outputs": [
    {
     "data": {
      "text/plain": [
       "[(<__main__.GeneratedSetPoints: freq_axis at 139722778069840>,\n",
       "  array([  0.,   1.,   2.,   3.,   4.,   5.,   6.,   7.,   8.,   9.,  10.,\n",
       "          11.,  12.,  13.,  14.,  15.,  16.,  17.,  18.,  19.,  20.,  21.,\n",
       "          22.,  23.,  24.,  25.,  26.,  27.,  28.,  29.,  30.,  31.,  32.,\n",
       "          33.,  34.,  35.,  36.,  37.,  38.,  39.,  40.,  41.,  42.,  43.,\n",
       "          44.,  45.,  46.,  47.,  48.,  49.,  50.,  51.,  52.,  53.,  54.,\n",
       "          55.,  56.,  57.,  58.,  59.,  60.,  61.,  62.,  63.,  64.,  65.,\n",
       "          66.,  67.,  68.,  69.,  70.,  71.,  72.,  73.,  74.,  75.,  76.,\n",
       "          77.,  78.,  79.,  80.,  81.,  82.,  83.,  84.,  85.,  86.,  87.,\n",
       "          88.,  89.,  90.,  91.,  92.,  93.,  94.,  95.,  96.,  97.,  98.,\n",
       "          99., 100., 101., 102., 103., 104., 105., 106., 107., 108., 109.,\n",
       "         110., 111., 112., 113., 114., 115., 116., 117., 118., 119., 120.,\n",
       "         121., 122., 123., 124., 125., 126., 127., 128., 129., 130., 131.,\n",
       "         132., 133., 134., 135., 136., 137., 138., 139., 140., 141., 142.,\n",
       "         143., 144., 145., 146., 147., 148., 149., 150., 151., 152., 153.,\n",
       "         154., 155., 156., 157., 158., 159., 160., 161., 162., 163., 164.,\n",
       "         165., 166., 167., 168., 169., 170., 171., 172., 173., 174., 175.,\n",
       "         176., 177., 178., 179., 180., 181., 182., 183., 184., 185., 186.,\n",
       "         187., 188., 189., 190., 191., 192., 193., 194., 195., 196., 197.,\n",
       "         198., 199., 200., 201., 202., 203., 204., 205., 206., 207., 208.,\n",
       "         209., 210., 211., 212., 213., 214., 215., 216., 217., 218., 219.,\n",
       "         220., 221., 222., 223., 224., 225., 226., 227., 228., 229., 230.,\n",
       "         231., 232., 233., 234., 235., 236., 237., 238., 239., 240., 241.,\n",
       "         242., 243., 244., 245., 246., 247., 248., 249., 250., 251., 252.,\n",
       "         253., 254., 255., 256., 257., 258., 259., 260., 261., 262., 263.,\n",
       "         264., 265., 266., 267., 268., 269., 270., 271., 272., 273., 274.,\n",
       "         275., 276., 277., 278., 279., 280., 281., 282., 283., 284., 285.,\n",
       "         286., 287., 288., 289., 290., 291., 292., 293., 294., 295., 296.,\n",
       "         297., 298., 299., 300., 301., 302., 303., 304., 305., 306., 307.,\n",
       "         308., 309., 310., 311., 312., 313., 314., 315., 316., 317., 318.,\n",
       "         319., 320., 321., 322., 323., 324., 325., 326., 327., 328., 329.,\n",
       "         330., 331., 332., 333., 334., 335., 336., 337., 338., 339., 340.,\n",
       "         341., 342., 343., 344., 345., 346., 347., 348., 349., 350., 351.,\n",
       "         352., 353., 354., 355., 356., 357., 358., 359., 360., 361., 362.,\n",
       "         363., 364., 365., 366., 367., 368., 369., 370., 371., 372., 373.,\n",
       "         374., 375., 376., 377., 378., 379., 380., 381., 382., 383., 384.,\n",
       "         385., 386., 387., 388., 389., 390., 391., 392., 393., 394., 395.,\n",
       "         396., 397., 398., 399., 400., 401., 402., 403., 404., 405., 406.,\n",
       "         407., 408., 409., 410., 411., 412., 413., 414., 415., 416., 417.,\n",
       "         418., 419., 420., 421., 422., 423., 424., 425., 426., 427., 428.,\n",
       "         429., 430., 431., 432., 433., 434., 435., 436., 437., 438., 439.,\n",
       "         440., 441., 442., 443., 444., 445., 446., 447., 448., 449., 450.,\n",
       "         451., 452., 453., 454., 455., 456., 457., 458., 459., 460., 461.,\n",
       "         462., 463., 464., 465., 466., 467., 468., 469., 470., 471., 472.,\n",
       "         473., 474., 475., 476., 477., 478., 479., 480., 481., 482., 483.,\n",
       "         484., 485., 486., 487., 488., 489., 490., 491., 492., 493., 494.,\n",
       "         495., 496., 497., 498., 499., 500.])),\n",
       " (<__main__.DummyArray: spectrum at 139722773137552>,\n",
       "  array([5.53617593e-01, 4.65129404e-01, 1.13923160e-02, 2.88942922e-01,\n",
       "         2.87203659e-01, 3.14435676e-01, 8.36046218e-02, 3.27156900e-01,\n",
       "         4.92203348e-01, 1.23202282e-01, 4.85341897e-01, 1.18160224e-01,\n",
       "         3.96287986e-02, 7.78253664e-01, 9.18091523e-01, 4.61999161e-01,\n",
       "         5.78509809e-01, 2.68223957e-01, 7.19130069e-01, 5.61589915e-01,\n",
       "         7.46297987e-01, 1.21832582e-01, 8.66773262e-01, 7.34527935e-01,\n",
       "         8.75069848e-01, 7.41492664e-01, 8.22670167e-02, 4.41058368e-01,\n",
       "         7.07985154e-01, 5.50391235e-01, 6.02556916e-01, 5.22573609e-01,\n",
       "         9.33249131e-01, 1.15123582e-02, 6.05046001e-01, 8.93776773e-01,\n",
       "         6.65473292e-01, 4.67449123e-01, 5.14259974e-01, 4.02450626e-01,\n",
       "         2.84482982e-01, 7.78667499e-01, 7.65119708e-01, 6.49131461e-01,\n",
       "         1.61906651e-01, 7.54412583e-01, 7.35132934e-01, 6.76151932e-02,\n",
       "         1.10833184e-01, 1.73084109e-01, 8.38061721e-01, 7.97170825e-01,\n",
       "         8.36512301e-01, 2.67502205e-01, 4.99121982e-01, 7.04362726e-01,\n",
       "         1.30790986e-01, 8.13563322e-01, 3.67089426e-01, 4.90637581e-01,\n",
       "         4.14655194e-01, 8.24545059e-01, 1.82746453e-04, 5.49042785e-01,\n",
       "         3.61527656e-01, 5.78542486e-01, 1.39961444e-01, 9.55997316e-01,\n",
       "         4.87899728e-01, 7.39204712e-01, 1.82233876e-01, 5.25061967e-01,\n",
       "         6.89140629e-01, 4.20451863e-01, 9.35055365e-01, 8.25059937e-01,\n",
       "         9.96597198e-01, 8.38850656e-01, 2.93310726e-01, 1.57028732e-01,\n",
       "         9.89394651e-01, 4.26765540e-01, 6.87467909e-01, 5.89108075e-02,\n",
       "         1.26711981e-01, 4.77356194e-01, 8.06669195e-01, 7.61412494e-01,\n",
       "         6.96553503e-01, 7.27466158e-01, 4.76872361e-01, 4.74641328e-01,\n",
       "         9.07308439e-01, 9.41668636e-02, 7.26215778e-01, 2.38374682e-01,\n",
       "         6.44919535e-01, 7.63056025e-02, 5.91727728e-01, 1.54508091e-01,\n",
       "         6.48636260e-01, 8.01221886e-01, 4.59959425e-01, 9.36897631e-01,\n",
       "         8.47786987e-01, 4.56928355e-01, 6.85644300e-01, 2.53851535e-01,\n",
       "         7.72138069e-02, 9.21147893e-01, 7.30359123e-01, 5.47132625e-01,\n",
       "         1.39689255e-01, 3.29943603e-02, 5.98293225e-01, 6.02000455e-01,\n",
       "         6.05524661e-01, 3.00567236e-02, 1.84488837e-01, 6.06938655e-01,\n",
       "         2.46653441e-01, 8.11753606e-01, 2.00399089e-01, 7.44376663e-01,\n",
       "         3.06003424e-01, 6.75654015e-01, 4.38683046e-01, 5.09998864e-01,\n",
       "         5.68786739e-01, 8.01427417e-01, 5.95108906e-01, 4.04749413e-01,\n",
       "         3.48299732e-01, 3.90048334e-01, 3.20705066e-01, 8.47303899e-02,\n",
       "         7.43402351e-01, 5.96517764e-01, 7.94781672e-01, 2.02485619e-01,\n",
       "         1.48368134e-01, 9.13646570e-01, 2.60448962e-01, 8.69588134e-01,\n",
       "         7.29424045e-01, 6.93818574e-01, 9.40759920e-01, 2.31133253e-01,\n",
       "         5.82789081e-01, 9.87713811e-01, 2.42955521e-01, 3.81963833e-01,\n",
       "         6.00797451e-01, 7.97731381e-01, 3.86767453e-01, 5.65350008e-01,\n",
       "         3.25557366e-01, 8.90913170e-01, 2.73740180e-01, 6.04771056e-01,\n",
       "         4.86854511e-01, 1.82292052e-01, 7.78215410e-01, 4.45493133e-01,\n",
       "         8.35130955e-01, 5.37756882e-01, 6.66996439e-01, 4.29781064e-01,\n",
       "         5.66269836e-01, 6.28518014e-01, 3.32980581e-01, 3.28396538e-01,\n",
       "         9.68603015e-01, 1.02953860e-01, 7.23400130e-01, 8.71995150e-01,\n",
       "         5.08618117e-01, 3.32802479e-01, 1.36803243e-01, 6.46052905e-01,\n",
       "         7.04077401e-01, 5.82243917e-01, 3.79434704e-01, 5.92521438e-01,\n",
       "         5.78728171e-01, 7.92814431e-01, 5.08973149e-01, 4.92105094e-01,\n",
       "         4.69921519e-01, 4.04903529e-01, 7.86066957e-01, 3.97763666e-01,\n",
       "         1.06006143e-01, 5.80976099e-01, 8.78072062e-01, 7.96448424e-01,\n",
       "         1.19453221e-01, 3.39900742e-01, 4.79175086e-01, 6.94309322e-02,\n",
       "         5.26707453e-01, 1.13311326e-01, 1.66894036e-01, 7.97653911e-01,\n",
       "         3.27918381e-02, 2.96046619e-01, 2.31851158e-01, 8.84369255e-01,\n",
       "         9.36827821e-01, 8.96601044e-02, 1.95940494e-02, 6.95755822e-01,\n",
       "         7.88875177e-01, 5.07948026e-01, 6.37325834e-01, 2.11409417e-01,\n",
       "         3.42851938e-01, 6.10364174e-01, 3.96043210e-01, 1.84843983e-01,\n",
       "         8.00294423e-01, 7.60052275e-01, 1.61596152e-01, 4.00179940e-01,\n",
       "         5.17526003e-01, 6.83869355e-01, 9.01156546e-02, 5.87763801e-02,\n",
       "         9.37334496e-01, 9.31813408e-01, 5.27042716e-01, 4.97467215e-01,\n",
       "         8.56798742e-01, 7.22407967e-01, 3.53494490e-03, 3.33651273e-01,\n",
       "         5.31516081e-03, 7.31483304e-01, 1.33130207e-01, 4.37724154e-01,\n",
       "         6.36340832e-02, 5.14735469e-01, 1.31561395e-01, 8.69430275e-01,\n",
       "         5.29071188e-01, 8.05585367e-01, 2.64151113e-01, 7.34691920e-01,\n",
       "         9.67315101e-01, 7.68044258e-01, 1.39853879e-01, 6.63097744e-01,\n",
       "         9.34213425e-01, 7.60301202e-01, 5.28764451e-01, 1.72651354e-01,\n",
       "         5.45925955e-01, 5.74198635e-01, 9.68854700e-01, 3.26599292e-02,\n",
       "         5.42508125e-01, 6.19896733e-01, 6.86085775e-01, 9.87970020e-02,\n",
       "         2.38917574e-01, 1.04610861e-01, 7.56390346e-01, 3.40176052e-01,\n",
       "         8.43457927e-01, 6.17492505e-01, 6.78938284e-01, 4.59394609e-01,\n",
       "         1.79365398e-01, 8.98355641e-01, 9.58265533e-01, 2.58750381e-01,\n",
       "         8.81041198e-01, 1.62708626e-01, 2.85961545e-01, 6.84001984e-01,\n",
       "         9.27386460e-01, 4.99796416e-01, 6.98639186e-01, 1.41226630e-01,\n",
       "         6.90725278e-01, 4.33965692e-01, 4.70200885e-01, 6.51897461e-01,\n",
       "         1.52232413e-01, 3.86816122e-01, 9.58449725e-01, 6.92835080e-01,\n",
       "         6.89845865e-01, 9.49645129e-01, 9.47479412e-04, 7.93234956e-01,\n",
       "         3.53661271e-01, 7.48617261e-01, 9.77340422e-02, 3.43014715e-01,\n",
       "         3.84721109e-01, 2.19451341e-01, 4.83791903e-01, 4.14633668e-01,\n",
       "         2.08923235e-01, 9.63400661e-01, 6.21682743e-02, 2.33284254e-01,\n",
       "         1.33476846e-01, 5.42731141e-01, 2.60381821e-01, 4.88946121e-01,\n",
       "         5.45409869e-02, 5.45062850e-01, 6.47060026e-01, 1.12258457e-01,\n",
       "         8.54433364e-01, 1.29747146e-01, 4.13257392e-03, 5.08686928e-01,\n",
       "         1.95109792e-02, 4.25857401e-01, 2.93793009e-01, 6.03818933e-01,\n",
       "         5.15691310e-01, 2.93669342e-01, 6.02285801e-02, 7.85556972e-01,\n",
       "         1.97865668e-03, 5.96427935e-01, 1.48946757e-01, 9.87562254e-01,\n",
       "         6.82659685e-01, 8.22748374e-02, 6.94193183e-01, 1.86600152e-02,\n",
       "         6.14320951e-01, 2.72941319e-01, 7.95166305e-02, 7.55511575e-01,\n",
       "         9.02247790e-01, 5.81788937e-01, 7.38226961e-01, 6.38111135e-01,\n",
       "         7.44565701e-01, 9.87568297e-01, 9.76388247e-01, 5.08390863e-01,\n",
       "         1.12470392e-01, 6.04100263e-02, 6.56552197e-01, 8.89355959e-01,\n",
       "         5.98430639e-01, 7.36478023e-01, 1.07798197e-01, 2.67685575e-01,\n",
       "         3.34980808e-01, 4.25033068e-01, 8.84205732e-01, 3.54642786e-01,\n",
       "         2.50274818e-02, 6.38987582e-01, 3.11638665e-01, 2.71057137e-02,\n",
       "         9.89203867e-02, 5.56166266e-01, 2.95569974e-01, 3.35884881e-01,\n",
       "         8.88583216e-01, 3.70297736e-01, 8.89852088e-02, 4.29012568e-01,\n",
       "         2.09684726e-01, 7.09471385e-01, 8.92102097e-01, 2.73139088e-01,\n",
       "         1.30272655e-01, 1.58799006e-01, 9.84298064e-01, 4.00336370e-02,\n",
       "         4.48373823e-01, 3.80659791e-01, 8.46713410e-01, 6.88854736e-01,\n",
       "         6.99104657e-01, 5.43685001e-01, 9.89583060e-01, 9.57722610e-01,\n",
       "         7.05992783e-01, 7.53483641e-01, 4.98609256e-02, 7.80915837e-01,\n",
       "         5.11096953e-02, 7.39145543e-01, 1.53321402e-02, 7.49351076e-01,\n",
       "         9.08103548e-01, 3.50915247e-01, 8.85369017e-01, 8.29583065e-01,\n",
       "         3.94076122e-01, 1.39432728e-01, 6.14912399e-01, 8.60932503e-01,\n",
       "         2.76422964e-01, 4.47758198e-01, 4.99960998e-01, 8.97805975e-01,\n",
       "         3.17793736e-01, 8.36391146e-01, 2.33289846e-02, 1.98496328e-01,\n",
       "         6.70174903e-01, 1.97324568e-02, 1.36333932e-01, 2.71766359e-01,\n",
       "         8.08773803e-01, 3.37898492e-01, 7.13543952e-01, 2.33427576e-01,\n",
       "         5.14695527e-01, 1.99245751e-01, 1.15354327e-01, 3.84369368e-01,\n",
       "         4.24198502e-01, 4.72194969e-01, 9.64373938e-01, 1.74295781e-01,\n",
       "         9.70921527e-01, 3.49466347e-01, 3.88782280e-01, 6.02531355e-01,\n",
       "         1.96919189e-01, 8.69714062e-01, 3.61175473e-01, 4.89226688e-01,\n",
       "         1.14904206e-01, 8.07279112e-02, 2.54060898e-02, 6.81610556e-01,\n",
       "         1.42815161e-01, 6.55804282e-01, 7.17594401e-01, 5.49668599e-01,\n",
       "         8.60040447e-01, 3.40834026e-02, 1.01389294e-02, 5.50410684e-01,\n",
       "         5.11148481e-01, 5.41348594e-01, 4.84388047e-01, 3.70792850e-01,\n",
       "         3.72948402e-01, 9.04959718e-01, 3.85494956e-01, 3.32091547e-01,\n",
       "         2.19591808e-01, 8.15210446e-01, 6.97535255e-01, 6.19863765e-01,\n",
       "         4.00535417e-01, 3.77460346e-01, 7.87850740e-01, 7.90792169e-01,\n",
       "         7.24742538e-01, 1.42256997e-01, 2.42414363e-01, 3.60027548e-01,\n",
       "         6.33921885e-01, 4.79787531e-01, 5.43868129e-01, 1.40526101e-01,\n",
       "         3.90001322e-01, 5.36758720e-01, 9.90058034e-01, 7.94988863e-01,\n",
       "         6.95907664e-01, 1.39981015e-01, 6.23047615e-01, 3.56705839e-01,\n",
       "         6.00456505e-01, 6.91497774e-01, 6.53693917e-01, 6.37051689e-01,\n",
       "         7.33194194e-01, 3.08182781e-01, 4.20093272e-01, 1.81630320e-01,\n",
       "         3.33055639e-01, 8.67331889e-01, 4.82149464e-01, 7.09401071e-01,\n",
       "         7.20685817e-01, 8.39874728e-01, 8.82477882e-01, 3.13610199e-01,\n",
       "         5.09188759e-01, 3.13642805e-01, 2.49483706e-03, 6.77701987e-01,\n",
       "         8.47353419e-01]))]"
      ]
     },
     "execution_count": 20,
     "metadata": {},
     "output_type": "execute_result"
    }
   ],
   "source": [
    "expand_setpoints_helper(a.spectrum)"
   ]
  },
  {
   "cell_type": "code",
   "execution_count": 21,
   "metadata": {},
   "outputs": [
    {
     "name": "stdout",
     "output_type": "stream",
     "text": [
      "Starting experimental run with id: 2. \n"
     ]
    }
   ],
   "source": [
    "meas = Measurement()\n",
    "meas.register_parameter(a.spectrum)\n",
    "\n",
    "with meas.run() as datasaver:\n",
    "    datasaver.add_result(*expand_setpoints_helper(a.spectrum))\n",
    "    \n",
    "    dataid = datasaver.run_id"
   ]
  },
  {
   "cell_type": "code",
   "execution_count": null,
   "metadata": {},
   "outputs": [],
   "source": []
  }
 ],
 "metadata": {
  "kernelspec": {
   "display_name": "Python 3",
   "language": "python",
   "name": "python3"
  },
  "language_info": {
   "codemirror_mode": {
    "name": "ipython",
    "version": 3
   },
   "file_extension": ".py",
   "mimetype": "text/x-python",
   "name": "python",
   "nbconvert_exporter": "python",
   "pygments_lexer": "ipython3",
   "version": "3.7.7"
  },
  "toc": {
   "base_numbering": 1,
   "nav_menu": {},
   "number_sections": true,
   "sideBar": true,
   "skip_h1_title": false,
   "title_cell": "Table of Contents",
   "title_sidebar": "Contents",
   "toc_cell": false,
   "toc_position": {},
   "toc_section_display": true,
   "toc_window_display": false
  },
  "varInspector": {
   "cols": {
    "lenName": 16,
    "lenType": 16,
    "lenVar": 40
   },
   "kernels_config": {
    "python": {
     "delete_cmd_postfix": "",
     "delete_cmd_prefix": "del ",
     "library": "var_list.py",
     "varRefreshCmd": "print(var_dic_list())"
    },
    "r": {
     "delete_cmd_postfix": ") ",
     "delete_cmd_prefix": "rm(",
     "library": "var_list.r",
     "varRefreshCmd": "cat(var_dic_list()) "
    }
   },
   "types_to_exclude": [
    "module",
    "function",
    "builtin_function_or_method",
    "instance",
    "_Feature"
   ],
   "window_display": false
  }
 },
 "nbformat": 4,
 "nbformat_minor": 2
}
