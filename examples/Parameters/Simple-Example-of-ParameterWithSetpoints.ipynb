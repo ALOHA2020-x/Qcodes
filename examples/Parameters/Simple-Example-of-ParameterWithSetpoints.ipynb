{
 "cells": [
  {
   "cell_type": "markdown",
   "metadata": {},
   "source": [
    "# Simple Example of ParameterWithSetpoints\n",
    "This notebook provides an example for writing a simple driver with a parameter that has setpoints. Let's name this parameter that has setpoints as \"y\". Then, the setpoints, say \"x1, x2, x3 ..\", are the parameters on which the parameter \n",
    "\"y\" depends upon. Meaning \"y\" is a function of \"x1, x2, x3 ...\" where \"x1, x2, x3 ...\" are known as the setpoints of parameter \"y\".\n",
    "\n",
    "This is most likely to be useful for instruments that return arrays of results. In this notebook, we will show an example of this."
   ]
  },
  {
   "cell_type": "code",
   "execution_count": 1,
   "metadata": {},
   "outputs": [],
   "source": [
    "import numpy as np\n",
    "import os"
   ]
  },
  {
   "cell_type": "code",
   "execution_count": 2,
   "metadata": {},
   "outputs": [
    {
     "name": "stdout",
     "output_type": "stream",
     "text": [
      "Logging hadn't been started.\n",
      "Activating auto-logging. Current session state plus future input saved.\n",
      "Filename       : /home/vsts/.qcodes/logs/command_history.log\n",
      "Mode           : append\n",
      "Output logging : True\n",
      "Raw input log  : False\n",
      "Timestamping   : True\n",
      "State          : active\n"
     ]
    },
    {
     "name": "stdout",
     "output_type": "stream",
     "text": [
      "Qcodes Logfile : /home/vsts/.qcodes/logs/200416-21643-qcodes.log\n"
     ]
    }
   ],
   "source": [
    "from qcodes.dataset.plotting import plot_dataset\n",
    "from qcodes.utils.validators import Numbers, Arrays\n",
    "from qcodes.instrument.base import Instrument\n",
    "from qcodes.dataset.measurements import Measurement"
   ]
  },
  {
   "cell_type": "code",
   "execution_count": 3,
   "metadata": {},
   "outputs": [],
   "source": [
    "from qcodes.dataset.sqlite.database import initialise_or_create_database_at\n",
    "from qcodes.dataset.experiment_container import load_or_create_experiment"
   ]
  },
  {
   "cell_type": "code",
   "execution_count": 4,
   "metadata": {},
   "outputs": [],
   "source": [
    "from qcodes.instrument.parameter import ParameterWithSetpoints, Parameter\n",
    "from qcodes.instrument.parameter import expand_setpoints_helper"
   ]
  },
  {
   "cell_type": "markdown",
   "metadata": {},
   "source": [
    "First, we define a dummy instrument that returns something like a frequency spectrum starting from a frequency given by `f_start` to a frequency given by `f_stop` in `n_points` steps. \n",
    "\n",
    "The extra functionality of the `ParameterWithSetpoints` is implemented by giving it a reference to one or more parameters that acts like its setpoints. \n",
    "\n",
    "To setup a `ParameterWithSetpoints` we have to do two things in addition to what we do for a normal parameter.\n",
    "\n",
    "* Define one or more parameter for the setpoints (one for each dimension of the array and let the `ParameterWithSetpoints` know that these are the setpoints.\n",
    "* Give both the setpoints parameter(s) and the `ParameterWithSetpoints` a `validator` of type `Arrays` with a shape. The shapes should be such that the combined shape of the setpoints matches the shape of the `ParameterWithSetpoints`. Note that if the shape changes with the setting of the instrument, it can be defined by another parameter as shown below. "
   ]
  },
  {
   "cell_type": "code",
   "execution_count": 5,
   "metadata": {},
   "outputs": [],
   "source": [
    "class GeneratedSetPoints(Parameter):\n",
    "    \"\"\"\n",
    "    A parameter that generates a setpoint array from start, stop and num points\n",
    "    parameters.\n",
    "    \"\"\"\n",
    "    def __init__(self, startparam, stopparam, numpointsparam, *args, **kwargs):\n",
    "        super().__init__(*args, **kwargs)\n",
    "        self._startparam = startparam\n",
    "        self._stopparam = stopparam\n",
    "        self._numpointsparam = numpointsparam\n",
    "\n",
    "    def get_raw(self):\n",
    "        return np.linspace(self._startparam(), self._stopparam(),\n",
    "                              self._numpointsparam())\n",
    "\n",
    "class DummyArray(ParameterWithSetpoints):\n",
    "    \n",
    "    def get_raw(self):\n",
    "        npoints = self.root_instrument.n_points.get_latest()\n",
    "        return np.random.rand(npoints)\n",
    "    \n",
    "\n",
    "class DummySpectrumAnalyzer(Instrument):\n",
    "    \n",
    "    def __init__(self, name, **kwargs):\n",
    "        \n",
    "        super().__init__(name, **kwargs)\n",
    "            \n",
    "\n",
    "        self.add_parameter('f_start',\n",
    "                           initial_value=0,\n",
    "                           unit='Hz',\n",
    "                           label='f start',\n",
    "                           vals=Numbers(0,1e3),\n",
    "                           get_cmd=None,\n",
    "                           set_cmd=None)\n",
    "\n",
    "        self.add_parameter('f_stop',\n",
    "                           unit='Hz',\n",
    "                           label='f stop',\n",
    "                           vals=Numbers(1,1e3),\n",
    "                           get_cmd=None,\n",
    "                           set_cmd=None)\n",
    "\n",
    "        self.add_parameter('n_points',\n",
    "                           unit='',\n",
    "                           initial_value=10,\n",
    "                           vals=Numbers(1,1e3),\n",
    "                           get_cmd=None,\n",
    "                           set_cmd=None)\n",
    "        \n",
    "        self.add_parameter('freq_axis',\n",
    "                           unit='Hz',\n",
    "                           label='Freq Axis',\n",
    "                           parameter_class=GeneratedSetPoints,\n",
    "                           startparam=self.f_start,\n",
    "                           stopparam=self.f_stop,\n",
    "                           numpointsparam=self.n_points,\n",
    "                           vals=Arrays(shape=(self.n_points.get_latest,)))\n",
    "                           \n",
    "        self.add_parameter('spectrum',\n",
    "                   unit='dBm',\n",
    "                   setpoints=(self.freq_axis,),\n",
    "                   label='Spectrum',\n",
    "                   parameter_class=DummyArray,\n",
    "                   vals=Arrays(shape=(self.n_points.get_latest,)))\n",
    "                "
   ]
  },
  {
   "cell_type": "markdown",
   "metadata": {},
   "source": [
    "In the above example, the shape is defined by the parameter `n_points` that defines how many samples our `DummySpectrumAnalyzer` returns.\n",
    "\n",
    "This means that the validation will call the function to get `n_points` twice for each `get` of the parameter. This may be too slow, however, if you (as the driver-writer) can guarantee that the cached value for `n_points` will never be out of sync with the value stored in the instrument, `n_points` may be replaced by it's latest known value such that the `validator` reads:\n",
    "```python\n",
    "vals=Arrays(shape=(self.n_points.get_latest))\n",
    "```\n",
    "\n",
    "This avoids any additional call to the instrument. In the same way, the arguments to the `freq_axis` parameter that defines the start, stop and number of points can be replaced by their latest value if the instrument allows it.\n",
    "\n"
   ]
  },
  {
   "cell_type": "code",
   "execution_count": 6,
   "metadata": {},
   "outputs": [
    {
     "name": "stdout",
     "output_type": "stream",
     "text": [
      "\r",
      "0it [00:00, ?it/s]"
     ]
    },
    {
     "name": "stdout",
     "output_type": "stream",
     "text": [
      "\r",
      "Upgrading database; v0 -> v1: : 0it [00:00, ?it/s]"
     ]
    },
    {
     "name": "stdout",
     "output_type": "stream",
     "text": [
      "\r",
      "Upgrading database; v0 -> v1: : 0it [00:00, ?it/s]"
     ]
    },
    {
     "name": "stdout",
     "output_type": "stream",
     "text": [
      "\n",
      "\r",
      "  0%|          | 0/1 [00:00<?, ?it/s]"
     ]
    },
    {
     "name": "stdout",
     "output_type": "stream",
     "text": [
      "\r",
      "Upgrading database; v1 -> v2:   0%|          | 0/1 [00:00<?, ?it/s]"
     ]
    },
    {
     "name": "stdout",
     "output_type": "stream",
     "text": [
      "\r",
      "Upgrading database; v1 -> v2: 100%|██████████| 1/1 [00:00<00:00, 871.27it/s]"
     ]
    },
    {
     "name": "stdout",
     "output_type": "stream",
     "text": [
      "\n",
      "\r",
      "0it [00:00, ?it/s]"
     ]
    },
    {
     "name": "stdout",
     "output_type": "stream",
     "text": [
      "\r",
      "Upgrading database; v2 -> v3: : 0it [00:00, ?it/s]"
     ]
    },
    {
     "name": "stdout",
     "output_type": "stream",
     "text": [
      "\r",
      "Upgrading database; v2 -> v3: : 0it [00:00, ?it/s]"
     ]
    },
    {
     "name": "stdout",
     "output_type": "stream",
     "text": [
      "\n",
      "\r",
      "0it [00:00, ?it/s]"
     ]
    },
    {
     "name": "stdout",
     "output_type": "stream",
     "text": [
      "\r",
      "Upgrading database; v3 -> v4: : 0it [00:00, ?it/s]"
     ]
    },
    {
     "name": "stdout",
     "output_type": "stream",
     "text": [
      "\r",
      "Upgrading database; v3 -> v4: : 0it [00:00, ?it/s]"
     ]
    },
    {
     "name": "stdout",
     "output_type": "stream",
     "text": [
      "\n",
      "\r",
      "  0%|          | 0/1 [00:00<?, ?it/s]"
     ]
    },
    {
     "name": "stdout",
     "output_type": "stream",
     "text": [
      "\r",
      "Upgrading database; v4 -> v5:   0%|          | 0/1 [00:00<?, ?it/s]"
     ]
    },
    {
     "name": "stdout",
     "output_type": "stream",
     "text": [
      "\r",
      "Upgrading database; v4 -> v5: 100%|██████████| 1/1 [00:00<00:00, 805.98it/s]"
     ]
    },
    {
     "name": "stdout",
     "output_type": "stream",
     "text": [
      "\n",
      "\r",
      "0it [00:00, ?it/s]"
     ]
    },
    {
     "name": "stdout",
     "output_type": "stream",
     "text": [
      "\r",
      "Upgrading database; v5 -> v6: : 0it [00:00, ?it/s]"
     ]
    },
    {
     "name": "stdout",
     "output_type": "stream",
     "text": [
      "\r",
      "Upgrading database; v5 -> v6: : 0it [00:00, ?it/s]"
     ]
    },
    {
     "name": "stdout",
     "output_type": "stream",
     "text": [
      "\n",
      "\r",
      "  0%|          | 0/1 [00:00<?, ?it/s]"
     ]
    },
    {
     "name": "stdout",
     "output_type": "stream",
     "text": [
      "\r",
      "Upgrading database; v6 -> v7:   0%|          | 0/1 [00:00<?, ?it/s]"
     ]
    },
    {
     "name": "stdout",
     "output_type": "stream",
     "text": [
      "\r",
      "Upgrading database; v6 -> v7: 100%|██████████| 1/1 [00:00<00:00, 391.95it/s]"
     ]
    },
    {
     "name": "stdout",
     "output_type": "stream",
     "text": [
      "\n",
      "\r",
      "  0%|          | 0/1 [00:00<?, ?it/s]"
     ]
    },
    {
     "name": "stdout",
     "output_type": "stream",
     "text": [
      "\r",
      "Upgrading database; v7 -> v8:   0%|          | 0/1 [00:00<?, ?it/s]"
     ]
    },
    {
     "name": "stdout",
     "output_type": "stream",
     "text": [
      "\r",
      "Upgrading database; v7 -> v8: 100%|██████████| 1/1 [00:00<00:00, 769.74it/s]"
     ]
    },
    {
     "name": "stdout",
     "output_type": "stream",
     "text": [
      "\n",
      "\r",
      "  0%|          | 0/1 [00:00<?, ?it/s]"
     ]
    },
    {
     "name": "stdout",
     "output_type": "stream",
     "text": [
      "\r",
      "Upgrading database; v8 -> v9:   0%|          | 0/1 [00:00<?, ?it/s]"
     ]
    },
    {
     "name": "stdout",
     "output_type": "stream",
     "text": [
      "\r",
      "Upgrading database; v8 -> v9: 100%|██████████| 1/1 [00:00<00:00, 884.50it/s]"
     ]
    },
    {
     "name": "stdout",
     "output_type": "stream",
     "text": [
      "\n"
     ]
    },
    {
     "data": {
      "text/plain": [
       "tutorial_ParameterWithSetpoints#no sample#1@/home/vsts/work/1/s/docs/examples/Parameters/tutorial_paramter_with_setpoints.db\n",
       "----------------------------------------------------------------------------------------------------------------------------"
      ]
     },
     "execution_count": 6,
     "metadata": {},
     "output_type": "execute_result"
    }
   ],
   "source": [
    "tutorial_db_path = os.path.join(os.getcwd(), 'tutorial_paramter_with_setpoints.db')\n",
    "initialise_or_create_database_at(tutorial_db_path)\n",
    "load_or_create_experiment(experiment_name='tutorial_ParameterWithSetpoints', sample_name=\"no sample\")"
   ]
  },
  {
   "cell_type": "code",
   "execution_count": 7,
   "metadata": {},
   "outputs": [],
   "source": [
    "a = DummySpectrumAnalyzer('foobar')"
   ]
  },
  {
   "cell_type": "markdown",
   "metadata": {},
   "source": [
    "First we setup the limits of the spectrum"
   ]
  },
  {
   "cell_type": "code",
   "execution_count": 8,
   "metadata": {},
   "outputs": [],
   "source": [
    "a.f_start(0)\n",
    "a.f_stop(500)\n",
    "a.n_points(501)"
   ]
  },
  {
   "cell_type": "markdown",
   "metadata": {},
   "source": [
    "And we can grab the frequency axis"
   ]
  },
  {
   "cell_type": "code",
   "execution_count": 9,
   "metadata": {},
   "outputs": [
    {
     "data": {
      "text/plain": [
       "501"
      ]
     },
     "execution_count": 9,
     "metadata": {},
     "output_type": "execute_result"
    }
   ],
   "source": [
    "a.n_points()"
   ]
  },
  {
   "cell_type": "code",
   "execution_count": 10,
   "metadata": {
    "scrolled": false
   },
   "outputs": [
    {
     "data": {
      "text/plain": [
       "501"
      ]
     },
     "execution_count": 10,
     "metadata": {},
     "output_type": "execute_result"
    }
   ],
   "source": [
    "freq_axis = a.freq_axis()\n",
    "len(freq_axis)"
   ]
  },
  {
   "cell_type": "code",
   "execution_count": 11,
   "metadata": {},
   "outputs": [
    {
     "data": {
      "text/plain": [
       "array([0., 1., 2., 3., 4., 5., 6., 7., 8., 9.])"
      ]
     },
     "execution_count": 11,
     "metadata": {},
     "output_type": "execute_result"
    }
   ],
   "source": [
    "freq_axis[:10]"
   ]
  },
  {
   "cell_type": "markdown",
   "metadata": {},
   "source": [
    "As expected we get a result wit 501 points as we asked for an axis with 501 points. "
   ]
  },
  {
   "cell_type": "markdown",
   "metadata": {},
   "source": [
    "Above we have added a validator to the `freq_axis` parameter encoding the fact that this is an Array with `n_points`. Note that we do not have to supply the number of points as an integer but can supply a function that returns the valid number of points. This would normally be a QCoDeS parameter.\n",
    "\n",
    "This will be checked if we validate the output."
   ]
  },
  {
   "cell_type": "code",
   "execution_count": 12,
   "metadata": {},
   "outputs": [],
   "source": [
    "a.freq_axis.validate(a.freq_axis.get())"
   ]
  },
  {
   "cell_type": "markdown",
   "metadata": {},
   "source": [
    "Naturally, we can also get the spectrum. Getting the spectrum will automatically perform validation both for the shape of the parameter itself and the relation to the setpoint parameter(s)"
   ]
  },
  {
   "cell_type": "code",
   "execution_count": 13,
   "metadata": {
    "scrolled": true
   },
   "outputs": [
    {
     "data": {
      "text/plain": [
       "501"
      ]
     },
     "execution_count": 13,
     "metadata": {},
     "output_type": "execute_result"
    }
   ],
   "source": [
    "spectrum = a.spectrum.get()\n",
    "len(spectrum)"
   ]
  },
  {
   "cell_type": "markdown",
   "metadata": {},
   "source": [
    "When we validate a `ParameterWithSetpoints`, we automatically validate that the shape is consistent between the parameters and its setpoints. As well as validating the shape as above."
   ]
  },
  {
   "cell_type": "code",
   "execution_count": 14,
   "metadata": {},
   "outputs": [],
   "source": [
    "a.spectrum.validate(a.spectrum.get())"
   ]
  },
  {
   "cell_type": "markdown",
   "metadata": {},
   "source": [
    "The consistent shapes can be validated explicitly."
   ]
  },
  {
   "cell_type": "code",
   "execution_count": 15,
   "metadata": {},
   "outputs": [],
   "source": [
    "a.spectrum.validate_consistent_shape()"
   ]
  },
  {
   "cell_type": "markdown",
   "metadata": {},
   "source": [
    "We can inspect the setpoints of the spectrum."
   ]
  },
  {
   "cell_type": "code",
   "execution_count": 16,
   "metadata": {},
   "outputs": [
    {
     "data": {
      "text/plain": [
       "(<__main__.GeneratedSetPoints: freq_axis at 140341325618192>,)"
      ]
     },
     "execution_count": 16,
     "metadata": {},
     "output_type": "execute_result"
    }
   ],
   "source": [
    "a.spectrum.setpoints"
   ]
  },
  {
   "cell_type": "markdown",
   "metadata": {},
   "source": [
    "Or even change them."
   ]
  },
  {
   "cell_type": "code",
   "execution_count": 17,
   "metadata": {},
   "outputs": [],
   "source": [
    "a.spectrum.setpoints = (a.freq_axis,)"
   ]
  },
  {
   "cell_type": "markdown",
   "metadata": {},
   "source": [
    "## Measurement"
   ]
  },
  {
   "cell_type": "markdown",
   "metadata": {},
   "source": [
    "We can also directly consume the parameter in a measurement without defining the setpoints of the parameter again. The setpoints are automatically obtained from the definition of the `ParameterWithSetpoint` instance. "
   ]
  },
  {
   "cell_type": "code",
   "execution_count": 18,
   "metadata": {},
   "outputs": [
    {
     "name": "stdout",
     "output_type": "stream",
     "text": [
      "Starting experimental run with id: 1. \n"
     ]
    }
   ],
   "source": [
    "meas = Measurement()\n",
    "meas.register_parameter(a.spectrum)\n",
    "\n",
    "with meas.run() as datasaver:\n",
    "    datasaver.add_result((a.freq_axis, a.freq_axis()),\n",
    "                         (a.spectrum, a.spectrum()))\n",
    "    dataset = datasaver.dataset"
   ]
  },
  {
   "cell_type": "markdown",
   "metadata": {},
   "source": [
    "And plot it"
   ]
  },
  {
   "cell_type": "code",
   "execution_count": 19,
   "metadata": {},
   "outputs": [
    {
     "data": {
      "text/plain": [
       "([<matplotlib.axes._subplots.AxesSubplot at 0x7fa3c2dcb050>], [None])"
      ]
     },
     "execution_count": 19,
     "metadata": {},
     "output_type": "execute_result"
    },
    {
     "data": {
      "image/png": "[encoded data removed]",
      "text/plain": [
       "<Figure size 432x288 with 1 Axes>"
      ]
     },
     "metadata": {
      "needs_background": "light"
     },
     "output_type": "display_data"
    }
   ],
   "source": [
    "plot_dataset(dataset)"
   ]
  },
  {
   "cell_type": "markdown",
   "metadata": {},
   "source": [
    "To reduce the amount of typing a simple convenience function is provided that will take a `ParameterWithSetpoints` and get both its values and the setpoints values and return them as tuples for direct insertion into the Dataset."
   ]
  },
  {
   "cell_type": "code",
   "execution_count": 20,
   "metadata": {
    "scrolled": true
   },
   "outputs": [
    {
     "data": {
      "text/plain": [
       "[(<__main__.GeneratedSetPoints: freq_axis at 140341325618192>,\n",
       "  array([  0.,   1.,   2.,   3.,   4.,   5.,   6.,   7.,   8.,   9.,  10.,\n",
       "          11.,  12.,  13.,  14.,  15.,  16.,  17.,  18.,  19.,  20.,  21.,\n",
       "          22.,  23.,  24.,  25.,  26.,  27.,  28.,  29.,  30.,  31.,  32.,\n",
       "          33.,  34.,  35.,  36.,  37.,  38.,  39.,  40.,  41.,  42.,  43.,\n",
       "          44.,  45.,  46.,  47.,  48.,  49.,  50.,  51.,  52.,  53.,  54.,\n",
       "          55.,  56.,  57.,  58.,  59.,  60.,  61.,  62.,  63.,  64.,  65.,\n",
       "          66.,  67.,  68.,  69.,  70.,  71.,  72.,  73.,  74.,  75.,  76.,\n",
       "          77.,  78.,  79.,  80.,  81.,  82.,  83.,  84.,  85.,  86.,  87.,\n",
       "          88.,  89.,  90.,  91.,  92.,  93.,  94.,  95.,  96.,  97.,  98.,\n",
       "          99., 100., 101., 102., 103., 104., 105., 106., 107., 108., 109.,\n",
       "         110., 111., 112., 113., 114., 115., 116., 117., 118., 119., 120.,\n",
       "         121., 122., 123., 124., 125., 126., 127., 128., 129., 130., 131.,\n",
       "         132., 133., 134., 135., 136., 137., 138., 139., 140., 141., 142.,\n",
       "         143., 144., 145., 146., 147., 148., 149., 150., 151., 152., 153.,\n",
       "         154., 155., 156., 157., 158., 159., 160., 161., 162., 163., 164.,\n",
       "         165., 166., 167., 168., 169., 170., 171., 172., 173., 174., 175.,\n",
       "         176., 177., 178., 179., 180., 181., 182., 183., 184., 185., 186.,\n",
       "         187., 188., 189., 190., 191., 192., 193., 194., 195., 196., 197.,\n",
       "         198., 199., 200., 201., 202., 203., 204., 205., 206., 207., 208.,\n",
       "         209., 210., 211., 212., 213., 214., 215., 216., 217., 218., 219.,\n",
       "         220., 221., 222., 223., 224., 225., 226., 227., 228., 229., 230.,\n",
       "         231., 232., 233., 234., 235., 236., 237., 238., 239., 240., 241.,\n",
       "         242., 243., 244., 245., 246., 247., 248., 249., 250., 251., 252.,\n",
       "         253., 254., 255., 256., 257., 258., 259., 260., 261., 262., 263.,\n",
       "         264., 265., 266., 267., 268., 269., 270., 271., 272., 273., 274.,\n",
       "         275., 276., 277., 278., 279., 280., 281., 282., 283., 284., 285.,\n",
       "         286., 287., 288., 289., 290., 291., 292., 293., 294., 295., 296.,\n",
       "         297., 298., 299., 300., 301., 302., 303., 304., 305., 306., 307.,\n",
       "         308., 309., 310., 311., 312., 313., 314., 315., 316., 317., 318.,\n",
       "         319., 320., 321., 322., 323., 324., 325., 326., 327., 328., 329.,\n",
       "         330., 331., 332., 333., 334., 335., 336., 337., 338., 339., 340.,\n",
       "         341., 342., 343., 344., 345., 346., 347., 348., 349., 350., 351.,\n",
       "         352., 353., 354., 355., 356., 357., 358., 359., 360., 361., 362.,\n",
       "         363., 364., 365., 366., 367., 368., 369., 370., 371., 372., 373.,\n",
       "         374., 375., 376., 377., 378., 379., 380., 381., 382., 383., 384.,\n",
       "         385., 386., 387., 388., 389., 390., 391., 392., 393., 394., 395.,\n",
       "         396., 397., 398., 399., 400., 401., 402., 403., 404., 405., 406.,\n",
       "         407., 408., 409., 410., 411., 412., 413., 414., 415., 416., 417.,\n",
       "         418., 419., 420., 421., 422., 423., 424., 425., 426., 427., 428.,\n",
       "         429., 430., 431., 432., 433., 434., 435., 436., 437., 438., 439.,\n",
       "         440., 441., 442., 443., 444., 445., 446., 447., 448., 449., 450.,\n",
       "         451., 452., 453., 454., 455., 456., 457., 458., 459., 460., 461.,\n",
       "         462., 463., 464., 465., 466., 467., 468., 469., 470., 471., 472.,\n",
       "         473., 474., 475., 476., 477., 478., 479., 480., 481., 482., 483.,\n",
       "         484., 485., 486., 487., 488., 489., 490., 491., 492., 493., 494.,\n",
       "         495., 496., 497., 498., 499., 500.])),\n",
       " (<__main__.DummyArray: spectrum at 140341325617616>,\n",
       "  array([3.67181840e-01, 4.66894557e-01, 6.13836252e-01, 6.54402325e-01,\n",
       "         6.65708730e-02, 3.35592145e-02, 3.41195174e-01, 5.24680272e-01,\n",
       "         3.74547999e-01, 3.68894986e-01, 9.59671857e-01, 7.53721963e-02,\n",
       "         7.44173990e-01, 5.23259736e-01, 4.34026900e-02, 3.27003975e-01,\n",
       "         4.78522951e-01, 6.37713683e-01, 6.54354336e-01, 3.41909282e-01,\n",
       "         2.89175779e-01, 3.67472442e-01, 5.33359608e-01, 3.05583918e-02,\n",
       "         4.29827835e-01, 9.84571772e-01, 9.13312952e-01, 3.34732517e-01,\n",
       "         6.63560277e-01, 9.92220724e-01, 2.04299037e-01, 9.12125732e-01,\n",
       "         6.87988869e-01, 8.43036611e-01, 3.49390259e-01, 5.77776068e-01,\n",
       "         7.14301584e-01, 8.82103877e-01, 2.58292892e-01, 7.05829657e-01,\n",
       "         9.26925624e-01, 9.10316008e-01, 5.70624447e-01, 7.15906456e-01,\n",
       "         1.64643143e-01, 5.53177288e-01, 7.17389514e-01, 2.92447094e-01,\n",
       "         9.22683155e-01, 1.88947942e-01, 7.99843013e-01, 8.39106545e-01,\n",
       "         7.55383159e-01, 7.20244412e-01, 8.64275763e-02, 2.30040606e-03,\n",
       "         6.99557406e-01, 7.51549901e-01, 8.94317301e-01, 9.17026076e-01,\n",
       "         8.48982341e-01, 5.70374243e-01, 8.79651152e-01, 5.21480937e-01,\n",
       "         6.93687519e-01, 8.66602394e-01, 1.29068205e-01, 7.49737346e-01,\n",
       "         9.90830952e-01, 2.46579143e-02, 3.96350295e-01, 4.14959815e-01,\n",
       "         8.16335787e-01, 5.55351886e-01, 1.63365489e-01, 8.20764749e-01,\n",
       "         4.89555821e-02, 6.96701521e-01, 7.81497305e-01, 5.32303260e-01,\n",
       "         7.59234936e-01, 5.76101540e-01, 9.11112585e-02, 4.23262406e-01,\n",
       "         2.84172677e-01, 9.81204282e-01, 4.72023227e-01, 9.20971154e-02,\n",
       "         1.81642821e-01, 9.78350556e-01, 7.49632537e-01, 7.91281116e-01,\n",
       "         3.99521942e-01, 9.20127435e-01, 5.75117644e-01, 7.76434342e-01,\n",
       "         6.26215535e-01, 2.81598475e-01, 5.16448271e-01, 8.09324251e-01,\n",
       "         7.48329928e-01, 8.41540667e-01, 9.27035645e-01, 9.30859957e-01,\n",
       "         6.24811872e-01, 1.52295067e-01, 3.45973801e-01, 5.90119190e-01,\n",
       "         7.78501718e-01, 8.97621781e-02, 1.91221562e-01, 7.19446989e-01,\n",
       "         4.49636464e-01, 3.63544434e-01, 9.93640028e-01, 6.49037429e-01,\n",
       "         6.06280063e-02, 7.79170614e-01, 5.32303956e-01, 3.69208898e-01,\n",
       "         7.39395437e-01, 1.86989324e-01, 1.58694339e-01, 5.47786393e-01,\n",
       "         1.53775798e-01, 6.90850870e-01, 9.87709391e-01, 4.87996338e-01,\n",
       "         3.53203319e-01, 8.74789414e-02, 9.10528790e-01, 2.97140608e-01,\n",
       "         7.02498364e-01, 1.20581496e-01, 4.64950751e-01, 8.38426843e-01,\n",
       "         2.08542359e-01, 4.05802755e-01, 4.51175470e-01, 7.12858092e-01,\n",
       "         8.70162611e-01, 1.39906437e-01, 2.53490479e-02, 9.51464579e-02,\n",
       "         1.80605051e-01, 8.04190598e-01, 4.19123894e-01, 9.94245108e-01,\n",
       "         8.25000923e-01, 2.74815006e-01, 5.39089362e-01, 5.60028255e-01,\n",
       "         9.42664443e-01, 3.24809094e-01, 8.20426603e-01, 5.98909404e-01,\n",
       "         7.12390021e-01, 3.54688045e-01, 9.50308454e-01, 9.44876329e-01,\n",
       "         2.57567950e-01, 9.42709117e-01, 7.00971081e-01, 9.88083311e-01,\n",
       "         9.67354801e-01, 8.77468265e-01, 4.78116228e-01, 7.63424204e-01,\n",
       "         9.55915633e-01, 4.61390348e-01, 6.19071842e-01, 3.10501213e-01,\n",
       "         3.83022653e-01, 4.73380304e-02, 8.84532701e-01, 4.71308732e-01,\n",
       "         5.53511362e-01, 5.03797156e-02, 2.43507972e-01, 1.77158128e-01,\n",
       "         1.59318399e-01, 8.85439428e-01, 9.27536601e-01, 5.62908064e-01,\n",
       "         3.65983128e-01, 8.23128734e-01, 7.41330704e-02, 7.61371514e-01,\n",
       "         9.71106646e-01, 6.57786785e-01, 7.46450475e-01, 3.93480929e-01,\n",
       "         4.62885009e-01, 8.44677991e-01, 9.18798589e-01, 1.76766578e-01,\n",
       "         9.58261020e-01, 3.84686090e-01, 4.60441656e-01, 9.58965894e-01,\n",
       "         2.23872553e-01, 8.60189594e-01, 8.89483140e-01, 1.64288738e-01,\n",
       "         1.07392881e-01, 6.08553037e-02, 2.81118430e-01, 7.26788572e-01,\n",
       "         7.44157779e-01, 9.89615049e-01, 6.67716666e-01, 9.99258675e-01,\n",
       "         4.77479504e-01, 1.10864939e-01, 7.18293743e-01, 8.70024116e-01,\n",
       "         2.56181046e-01, 2.72664254e-01, 8.52252201e-01, 4.85863355e-01,\n",
       "         4.17021184e-01, 7.28533205e-01, 2.32583425e-01, 7.81277109e-02,\n",
       "         4.92470853e-01, 1.53213330e-01, 6.57488571e-01, 6.20543727e-02,\n",
       "         1.37749121e-01, 1.03244123e-01, 2.07928846e-01, 6.75928534e-01,\n",
       "         2.86917580e-01, 8.20236080e-01, 9.56242369e-01, 7.59907140e-01,\n",
       "         5.57056654e-01, 3.57448832e-01, 6.71224034e-01, 9.86256174e-01,\n",
       "         8.22170823e-01, 5.99876528e-01, 9.84462178e-01, 8.79922613e-02,\n",
       "         2.93448728e-01, 5.35921910e-01, 6.79603246e-01, 4.91403806e-01,\n",
       "         7.64789045e-01, 3.61651520e-01, 1.03492591e-01, 3.98000805e-01,\n",
       "         1.14578676e-01, 2.64888162e-01, 2.86468413e-02, 3.23584665e-01,\n",
       "         4.55573371e-01, 7.23846818e-01, 2.44256905e-01, 3.00869728e-01,\n",
       "         6.20257316e-01, 1.60658759e-01, 1.70978379e-01, 1.04047320e-01,\n",
       "         8.01387499e-01, 5.13557445e-01, 5.87018894e-01, 9.75292468e-01,\n",
       "         7.03534274e-01, 2.83367165e-03, 8.41245802e-01, 4.55694943e-01,\n",
       "         2.29571808e-01, 7.01612936e-01, 9.29170715e-01, 2.75116800e-01,\n",
       "         3.43520645e-01, 1.37737116e-01, 7.58328223e-01, 6.07369002e-01,\n",
       "         9.71758381e-01, 2.66996836e-01, 3.01558449e-01, 6.21035337e-01,\n",
       "         7.87329857e-01, 4.90647685e-01, 6.88593077e-01, 8.70588822e-01,\n",
       "         9.55175912e-01, 7.86560982e-01, 9.31299982e-01, 9.13534913e-01,\n",
       "         3.28472314e-01, 1.63558364e-01, 7.31454584e-01, 4.62701985e-01,\n",
       "         6.20064593e-01, 7.33988621e-01, 2.38398185e-01, 2.30942908e-01,\n",
       "         2.82256118e-01, 8.76825823e-01, 9.13438691e-01, 8.59975896e-01,\n",
       "         2.04546683e-01, 8.61942147e-01, 7.65671621e-01, 5.45259405e-01,\n",
       "         6.93632741e-01, 7.50473902e-01, 3.94622992e-01, 1.32874434e-01,\n",
       "         2.69220274e-01, 8.10328113e-01, 3.84078145e-01, 9.73915497e-01,\n",
       "         7.10932872e-02, 1.95527379e-01, 4.71418675e-01, 7.27546408e-01,\n",
       "         3.82403816e-01, 5.34278453e-01, 5.32706114e-01, 3.67229844e-01,\n",
       "         6.56329687e-01, 4.84299734e-01, 6.31139544e-01, 1.98078734e-01,\n",
       "         8.35809469e-01, 7.07811036e-01, 7.00783963e-01, 6.73307086e-01,\n",
       "         7.77774500e-01, 7.34123065e-01, 3.50273875e-01, 2.20422065e-01,\n",
       "         7.45779436e-01, 2.93945313e-01, 7.97688332e-01, 8.65459901e-02,\n",
       "         5.38994845e-01, 1.20099392e-01, 6.20131467e-01, 9.71557749e-01,\n",
       "         3.78212076e-01, 8.15840137e-02, 1.18381796e-01, 9.96343362e-01,\n",
       "         1.79522176e-01, 6.19788524e-01, 7.65380838e-01, 7.44434810e-01,\n",
       "         5.45964164e-01, 6.79935782e-02, 8.22230046e-01, 5.24180244e-01,\n",
       "         5.74573325e-01, 8.53300062e-01, 1.61258496e-01, 5.31805571e-01,\n",
       "         7.42290248e-01, 6.21472692e-02, 6.41589635e-01, 2.12810539e-01,\n",
       "         3.76116811e-01, 5.07453282e-01, 1.09203198e-01, 5.47491311e-01,\n",
       "         3.36056281e-01, 8.27355333e-02, 8.22468926e-01, 6.05198122e-01,\n",
       "         3.27266128e-01, 8.52306550e-01, 5.24444712e-01, 2.37299728e-01,\n",
       "         7.14588070e-01, 1.83025380e-01, 4.87736788e-01, 8.75360596e-01,\n",
       "         8.11815131e-01, 9.90599229e-01, 4.17493618e-02, 2.09305175e-01,\n",
       "         8.06460876e-02, 1.38241676e-01, 2.06662108e-01, 8.12165211e-01,\n",
       "         3.91263810e-01, 2.60388018e-01, 2.99027827e-01, 1.98207952e-01,\n",
       "         3.91500074e-02, 4.76207904e-01, 6.17168461e-03, 1.81532155e-01,\n",
       "         5.53093920e-01, 2.95381189e-01, 7.83583770e-01, 1.54128786e-01,\n",
       "         3.01459020e-01, 6.99507420e-03, 9.55285628e-01, 8.51466860e-02,\n",
       "         7.84301840e-01, 4.55116723e-01, 5.00925827e-01, 9.93303339e-01,\n",
       "         2.36479990e-01, 9.03737826e-01, 9.27417752e-01, 8.37243634e-01,\n",
       "         7.89049339e-01, 4.89451364e-01, 1.71332860e-01, 8.45954737e-01,\n",
       "         9.80759970e-01, 8.40435184e-01, 5.55651676e-01, 4.66599950e-01,\n",
       "         1.73743898e-01, 9.91879094e-01, 5.17663216e-01, 6.30371007e-01,\n",
       "         2.79291820e-01, 8.84108527e-01, 2.99673804e-01, 5.91463464e-01,\n",
       "         1.51825904e-03, 1.02267651e-01, 3.73049549e-01, 8.85403070e-01,\n",
       "         3.19582829e-01, 9.26993727e-01, 4.47784295e-01, 4.02473164e-01,\n",
       "         7.52748044e-01, 9.44095820e-01, 3.08969631e-01, 3.34212776e-01,\n",
       "         9.04833903e-01, 2.78434525e-01, 5.41582151e-02, 3.08200474e-01,\n",
       "         1.41344155e-01, 8.34351915e-01, 9.96765504e-01, 2.15878073e-01,\n",
       "         5.64944868e-01, 7.25972983e-01, 9.48030171e-01, 8.50881364e-01,\n",
       "         6.50811886e-01, 3.23341837e-01, 1.91949479e-01, 9.08092450e-01,\n",
       "         6.21721980e-01, 9.87210928e-03, 2.03667785e-01, 4.28275182e-01,\n",
       "         6.34703938e-01, 8.47425369e-01, 7.99400178e-01, 6.81914009e-01,\n",
       "         2.16599913e-01, 9.17355244e-01, 4.01971154e-01, 6.40033692e-01,\n",
       "         7.82407588e-01, 8.35958078e-01, 1.28272262e-01, 6.70348610e-01,\n",
       "         5.00723825e-01, 2.25641801e-01, 6.01823141e-01, 7.57167614e-01,\n",
       "         5.72255928e-01, 4.58350045e-01, 5.57551743e-02, 6.69377216e-01,\n",
       "         3.22861595e-01, 4.72766178e-01, 5.82502088e-01, 9.95897868e-01,\n",
       "         6.35366938e-01, 9.87550513e-01, 3.71240836e-01, 5.46951120e-01,\n",
       "         7.43825142e-01, 5.31474545e-01, 6.00549324e-01, 5.82869231e-01,\n",
       "         5.82774453e-01, 2.86385812e-01, 1.49027644e-01, 2.63417369e-01,\n",
       "         2.18863908e-01, 2.99740202e-01, 6.72651472e-01, 8.91381192e-01,\n",
       "         6.03125136e-04]))]"
      ]
     },
     "execution_count": 20,
     "metadata": {},
     "output_type": "execute_result"
    }
   ],
   "source": [
    "expand_setpoints_helper(a.spectrum)"
   ]
  },
  {
   "cell_type": "code",
   "execution_count": 21,
   "metadata": {},
   "outputs": [
    {
     "name": "stdout",
     "output_type": "stream",
     "text": [
      "Starting experimental run with id: 2. \n"
     ]
    }
   ],
   "source": [
    "meas = Measurement()\n",
    "meas.register_parameter(a.spectrum)\n",
    "\n",
    "with meas.run() as datasaver:\n",
    "    datasaver.add_result(*expand_setpoints_helper(a.spectrum))\n",
    "    \n",
    "    dataid = datasaver.run_id"
   ]
  },
  {
   "cell_type": "code",
   "execution_count": null,
   "metadata": {},
   "outputs": [],
   "source": []
  }
 ],
 "metadata": {
  "kernelspec": {
   "display_name": "Python 3",
   "language": "python",
   "name": "python3"
  },
  "language_info": {
   "codemirror_mode": {
    "name": "ipython",
    "version": 3
   },
   "file_extension": ".py",
   "mimetype": "text/x-python",
   "name": "python",
   "nbconvert_exporter": "python",
   "pygments_lexer": "ipython3",
   "version": "3.7.7"
  },
  "toc": {
   "base_numbering": 1,
   "nav_menu": {},
   "number_sections": true,
   "sideBar": true,
   "skip_h1_title": false,
   "title_cell": "Table of Contents",
   "title_sidebar": "Contents",
   "toc_cell": false,
   "toc_position": {},
   "toc_section_display": true,
   "toc_window_display": false
  },
  "varInspector": {
   "cols": {
    "lenName": 16,
    "lenType": 16,
    "lenVar": 40
   },
   "kernels_config": {
    "python": {
     "delete_cmd_postfix": "",
     "delete_cmd_prefix": "del ",
     "library": "var_list.py",
     "varRefreshCmd": "print(var_dic_list())"
    },
    "r": {
     "delete_cmd_postfix": ") ",
     "delete_cmd_prefix": "rm(",
     "library": "var_list.r",
     "varRefreshCmd": "cat(var_dic_list()) "
    }
   },
   "types_to_exclude": [
    "module",
    "function",
    "builtin_function_or_method",
    "instance",
    "_Feature"
   ],
   "window_display": false
  }
 },
 "nbformat": 4,
 "nbformat_minor": 2
}
