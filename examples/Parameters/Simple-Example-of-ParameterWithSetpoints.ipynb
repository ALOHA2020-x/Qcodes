{
 "cells": [
  {
   "cell_type": "markdown",
   "metadata": {},
   "source": [
    "# Simple Example of ParameterWithSetpoints\n",
    "This notebook provides an example for writing a simple driver with a parameter that has setpoints. Let's name this parameter that has setpoints as \"y\". Then, the setpoints, say \"x1, x2, x3 ..\", are the parameters on which the parameter \n",
    "\"y\" depends upon. Meaning \"y\" is a function of \"x1, x2, x3 ...\" where \"x1, x2, x3 ...\" are known as the setpoints of parameter \"y\".\n",
    "\n",
    "This is most likely to be useful for instruments that return arrays of results. In this notebook, we will show an example of this."
   ]
  },
  {
   "cell_type": "code",
   "execution_count": 1,
   "metadata": {},
   "outputs": [],
   "source": [
    "import numpy as np\n",
    "import os"
   ]
  },
  {
   "cell_type": "code",
   "execution_count": 2,
   "metadata": {},
   "outputs": [
    {
     "name": "stdout",
     "output_type": "stream",
     "text": [
      "Logging hadn't been started.\n",
      "Activating auto-logging. Current session state plus future input saved.\n",
      "Filename       : /home/vsts/.qcodes/logs/command_history.log\n",
      "Mode           : append\n",
      "Output logging : True\n",
      "Raw input log  : False\n",
      "Timestamping   : True\n",
      "State          : active\n"
     ]
    },
    {
     "name": "stdout",
     "output_type": "stream",
     "text": [
      "Qcodes Logfile : /home/vsts/.qcodes/logs/200324-21919-qcodes.log\n"
     ]
    }
   ],
   "source": [
    "from qcodes.dataset.plotting import plot_dataset\n",
    "from qcodes.utils.validators import Numbers, Arrays\n",
    "from qcodes.instrument.base import Instrument\n",
    "from qcodes.dataset.measurements import Measurement"
   ]
  },
  {
   "cell_type": "code",
   "execution_count": 3,
   "metadata": {},
   "outputs": [],
   "source": [
    "from qcodes.dataset.sqlite.database import initialise_or_create_database_at\n",
    "from qcodes.dataset.experiment_container import load_or_create_experiment"
   ]
  },
  {
   "cell_type": "code",
   "execution_count": 4,
   "metadata": {},
   "outputs": [],
   "source": [
    "from qcodes.instrument.parameter import ParameterWithSetpoints, Parameter\n",
    "from qcodes.instrument.parameter import expand_setpoints_helper"
   ]
  },
  {
   "cell_type": "markdown",
   "metadata": {},
   "source": [
    "First, we define a dummy instrument that returns something like a frequency spectrum starting from a frequency given by `f_start` to a frequency given by `f_stop` in `n_points` steps. \n",
    "\n",
    "The extra functionality of the `ParameterWithSetpoints` is implemented by giving it a reference to one or more parameters that acts like its setpoints. \n",
    "\n",
    "To setup a `ParameterWithSetpoints` we have to do two things in addition to what we do for a normal parameter.\n",
    "\n",
    "* Define one or more parameter for the setpoints (one for each dimension of the array and let the `ParameterWithSetpoints` know that these are the setpoints.\n",
    "* Give both the setpoints parameter(s) and the `ParameterWithSetpoints` a `validator` of type `Arrays` with a shape. The shapes should be such that the combined shape of the setpoints matches the shape of the `ParameterWithSetpoints`. Note that if the shape changes with the setting of the instrument, it can be defined by another parameter as shown below. "
   ]
  },
  {
   "cell_type": "code",
   "execution_count": 5,
   "metadata": {},
   "outputs": [],
   "source": [
    "class GeneratedSetPoints(Parameter):\n",
    "    \"\"\"\n",
    "    A parameter that generates a setpoint array from start, stop and num points\n",
    "    parameters.\n",
    "    \"\"\"\n",
    "    def __init__(self, startparam, stopparam, numpointsparam, *args, **kwargs):\n",
    "        super().__init__(*args, **kwargs)\n",
    "        self._startparam = startparam\n",
    "        self._stopparam = stopparam\n",
    "        self._numpointsparam = numpointsparam\n",
    "\n",
    "    def get_raw(self):\n",
    "        return np.linspace(self._startparam(), self._stopparam(),\n",
    "                              self._numpointsparam())\n",
    "\n",
    "class DummyArray(ParameterWithSetpoints):\n",
    "    \n",
    "    def get_raw(self):\n",
    "        npoints = self.root_instrument.n_points.get_latest()\n",
    "        return np.random.rand(npoints)\n",
    "    \n",
    "\n",
    "class DummySpectrumAnalyzer(Instrument):\n",
    "    \n",
    "    def __init__(self, name, **kwargs):\n",
    "        \n",
    "        super().__init__(name, **kwargs)\n",
    "            \n",
    "\n",
    "        self.add_parameter('f_start',\n",
    "                           initial_value=0,\n",
    "                           unit='Hz',\n",
    "                           label='f start',\n",
    "                           vals=Numbers(0,1e3),\n",
    "                           get_cmd=None,\n",
    "                           set_cmd=None)\n",
    "\n",
    "        self.add_parameter('f_stop',\n",
    "                           unit='Hz',\n",
    "                           label='f stop',\n",
    "                           vals=Numbers(1,1e3),\n",
    "                           get_cmd=None,\n",
    "                           set_cmd=None)\n",
    "\n",
    "        self.add_parameter('n_points',\n",
    "                           unit='',\n",
    "                           initial_value=10,\n",
    "                           vals=Numbers(1,1e3),\n",
    "                           get_cmd=None,\n",
    "                           set_cmd=None)\n",
    "        \n",
    "        self.add_parameter('freq_axis',\n",
    "                           unit='Hz',\n",
    "                           label='Freq Axis',\n",
    "                           parameter_class=GeneratedSetPoints,\n",
    "                           startparam=self.f_start,\n",
    "                           stopparam=self.f_stop,\n",
    "                           numpointsparam=self.n_points,\n",
    "                           vals=Arrays(shape=(self.n_points.get_latest,)))\n",
    "                           \n",
    "        self.add_parameter('spectrum',\n",
    "                   unit='dBm',\n",
    "                   setpoints=(self.freq_axis,),\n",
    "                   label='Spectrum',\n",
    "                   parameter_class=DummyArray,\n",
    "                   vals=Arrays(shape=(self.n_points.get_latest,)))\n",
    "                "
   ]
  },
  {
   "cell_type": "markdown",
   "metadata": {},
   "source": [
    "In the above example, the shape is defined by the parameter `n_points` that defines how many samples our `DummySpectrumAnalyzer` returns.\n",
    "\n",
    "This means that the validation will call the function to get `n_points` twice for each `get` of the parameter. This may be too slow, however, if you (as the driver-writer) can guarantee that the cached value for `n_points` will never be out of sync with the value stored in the instrument, `n_points` may be replaced by it's latest known value such that the `validator` reads:\n",
    "```python\n",
    "vals=Arrays(shape=(self.n_points.get_latest))\n",
    "```\n",
    "\n",
    "This avoids any additional call to the instrument. In the same way, the arguments to the `freq_axis` parameter that defines the start, stop and number of points can be replaced by their latest value if the instrument allows it.\n",
    "\n"
   ]
  },
  {
   "cell_type": "code",
   "execution_count": 6,
   "metadata": {},
   "outputs": [
    {
     "name": "stdout",
     "output_type": "stream",
     "text": [
      "\r",
      "0it [00:00, ?it/s]"
     ]
    },
    {
     "name": "stdout",
     "output_type": "stream",
     "text": [
      "\r",
      "Upgrading database; v0 -> v1: : 0it [00:00, ?it/s]"
     ]
    },
    {
     "name": "stdout",
     "output_type": "stream",
     "text": [
      "\r",
      "Upgrading database; v0 -> v1: : 0it [00:00, ?it/s]"
     ]
    },
    {
     "name": "stdout",
     "output_type": "stream",
     "text": [
      "\n",
      "\r",
      "  0%|          | 0/1 [00:00<?, ?it/s]"
     ]
    },
    {
     "name": "stdout",
     "output_type": "stream",
     "text": [
      "\r",
      "Upgrading database; v1 -> v2:   0%|          | 0/1 [00:00<?, ?it/s]"
     ]
    },
    {
     "name": "stdout",
     "output_type": "stream",
     "text": [
      "\r",
      "Upgrading database; v1 -> v2: 100%|██████████| 1/1 [00:00<00:00, 927.33it/s]"
     ]
    },
    {
     "name": "stdout",
     "output_type": "stream",
     "text": [
      "\n",
      "\r",
      "0it [00:00, ?it/s]"
     ]
    },
    {
     "name": "stdout",
     "output_type": "stream",
     "text": [
      "\r",
      "Upgrading database; v2 -> v3: : 0it [00:00, ?it/s]"
     ]
    },
    {
     "name": "stdout",
     "output_type": "stream",
     "text": [
      "\r",
      "Upgrading database; v2 -> v3: : 0it [00:00, ?it/s]"
     ]
    },
    {
     "name": "stdout",
     "output_type": "stream",
     "text": [
      "\n",
      "\r",
      "0it [00:00, ?it/s]"
     ]
    },
    {
     "name": "stdout",
     "output_type": "stream",
     "text": [
      "\r",
      "Upgrading database; v3 -> v4: : 0it [00:00, ?it/s]"
     ]
    },
    {
     "name": "stdout",
     "output_type": "stream",
     "text": [
      "\r",
      "Upgrading database; v3 -> v4: : 0it [00:00, ?it/s]"
     ]
    },
    {
     "name": "stdout",
     "output_type": "stream",
     "text": [
      "\n",
      "\r",
      "  0%|          | 0/1 [00:00<?, ?it/s]"
     ]
    },
    {
     "name": "stdout",
     "output_type": "stream",
     "text": [
      "\r",
      "Upgrading database; v4 -> v5:   0%|          | 0/1 [00:00<?, ?it/s]"
     ]
    },
    {
     "name": "stdout",
     "output_type": "stream",
     "text": [
      "\r",
      "Upgrading database; v4 -> v5: 100%|██████████| 1/1 [00:00<00:00, 919.40it/s]"
     ]
    },
    {
     "name": "stdout",
     "output_type": "stream",
     "text": [
      "\n",
      "\r",
      "0it [00:00, ?it/s]"
     ]
    },
    {
     "name": "stdout",
     "output_type": "stream",
     "text": [
      "\r",
      "Upgrading database; v5 -> v6: : 0it [00:00, ?it/s]"
     ]
    },
    {
     "name": "stdout",
     "output_type": "stream",
     "text": [
      "\r",
      "Upgrading database; v5 -> v6: : 0it [00:00, ?it/s]"
     ]
    },
    {
     "name": "stdout",
     "output_type": "stream",
     "text": [
      "\n",
      "\r",
      "  0%|          | 0/1 [00:00<?, ?it/s]"
     ]
    },
    {
     "name": "stdout",
     "output_type": "stream",
     "text": [
      "\r",
      "Upgrading database; v6 -> v7:   0%|          | 0/1 [00:00<?, ?it/s]"
     ]
    },
    {
     "name": "stdout",
     "output_type": "stream",
     "text": [
      "\r",
      "Upgrading database; v6 -> v7: 100%|██████████| 1/1 [00:00<00:00, 250.48it/s]"
     ]
    },
    {
     "name": "stdout",
     "output_type": "stream",
     "text": [
      "\n",
      "\r",
      "  0%|          | 0/1 [00:00<?, ?it/s]"
     ]
    },
    {
     "name": "stdout",
     "output_type": "stream",
     "text": [
      "\r",
      "Upgrading database; v7 -> v8:   0%|          | 0/1 [00:00<?, ?it/s]"
     ]
    },
    {
     "name": "stdout",
     "output_type": "stream",
     "text": [
      "\r",
      "Upgrading database; v7 -> v8: 100%|██████████| 1/1 [00:00<00:00, 736.62it/s]"
     ]
    },
    {
     "name": "stdout",
     "output_type": "stream",
     "text": [
      "\n",
      "\r",
      "  0%|          | 0/1 [00:00<?, ?it/s]"
     ]
    },
    {
     "name": "stdout",
     "output_type": "stream",
     "text": [
      "\r",
      "Upgrading database; v8 -> v9:   0%|          | 0/1 [00:00<?, ?it/s]"
     ]
    },
    {
     "name": "stdout",
     "output_type": "stream",
     "text": [
      "\r",
      "Upgrading database; v8 -> v9: 100%|██████████| 1/1 [00:00<00:00, 1065.90it/s]"
     ]
    },
    {
     "name": "stdout",
     "output_type": "stream",
     "text": [
      "\n"
     ]
    },
    {
     "data": {
      "text/plain": [
       "tutorial_ParameterWithSetpoints#no sample#1@/home/vsts/work/1/s/docs/examples/Parameters/tutorial_paramter_with_setpoints.db\n",
       "----------------------------------------------------------------------------------------------------------------------------"
      ]
     },
     "execution_count": 6,
     "metadata": {},
     "output_type": "execute_result"
    }
   ],
   "source": [
    "tutorial_db_path = os.path.join(os.getcwd(), 'tutorial_paramter_with_setpoints.db')\n",
    "initialise_or_create_database_at(tutorial_db_path)\n",
    "load_or_create_experiment(experiment_name='tutorial_ParameterWithSetpoints', sample_name=\"no sample\")"
   ]
  },
  {
   "cell_type": "code",
   "execution_count": 7,
   "metadata": {},
   "outputs": [],
   "source": [
    "a = DummySpectrumAnalyzer('foobar')"
   ]
  },
  {
   "cell_type": "markdown",
   "metadata": {},
   "source": [
    "First we setup the limits of the spectrum"
   ]
  },
  {
   "cell_type": "code",
   "execution_count": 8,
   "metadata": {},
   "outputs": [],
   "source": [
    "a.f_start(0)\n",
    "a.f_stop(500)\n",
    "a.n_points(501)"
   ]
  },
  {
   "cell_type": "markdown",
   "metadata": {},
   "source": [
    "And we can grab the frequency axis"
   ]
  },
  {
   "cell_type": "code",
   "execution_count": 9,
   "metadata": {},
   "outputs": [
    {
     "data": {
      "text/plain": [
       "501"
      ]
     },
     "execution_count": 9,
     "metadata": {},
     "output_type": "execute_result"
    }
   ],
   "source": [
    "a.n_points()"
   ]
  },
  {
   "cell_type": "code",
   "execution_count": 10,
   "metadata": {
    "scrolled": false
   },
   "outputs": [
    {
     "data": {
      "text/plain": [
       "501"
      ]
     },
     "execution_count": 10,
     "metadata": {},
     "output_type": "execute_result"
    }
   ],
   "source": [
    "freq_axis = a.freq_axis()\n",
    "len(freq_axis)"
   ]
  },
  {
   "cell_type": "code",
   "execution_count": 11,
   "metadata": {},
   "outputs": [
    {
     "data": {
      "text/plain": [
       "array([0., 1., 2., 3., 4., 5., 6., 7., 8., 9.])"
      ]
     },
     "execution_count": 11,
     "metadata": {},
     "output_type": "execute_result"
    }
   ],
   "source": [
    "freq_axis[:10]"
   ]
  },
  {
   "cell_type": "markdown",
   "metadata": {},
   "source": [
    "As expected we get a result wit 501 points as we asked for an axis with 501 points. "
   ]
  },
  {
   "cell_type": "markdown",
   "metadata": {},
   "source": [
    "Above we have added a validator to the `freq_axis` parameter encoding the fact that this is an Array with `n_points`. Note that we do not have to supply the number of points as an integer but can supply a function that returns the valid number of points. This would normally be a QCoDeS parameter.\n",
    "\n",
    "This will be checked if we validate the output."
   ]
  },
  {
   "cell_type": "code",
   "execution_count": 12,
   "metadata": {},
   "outputs": [],
   "source": [
    "a.freq_axis.validate(a.freq_axis.get())"
   ]
  },
  {
   "cell_type": "markdown",
   "metadata": {},
   "source": [
    "Naturally, we can also get the spectrum. Getting the spectrum will automatically perform validation both for the shape of the parameter itself and the relation to the setpoint parameter(s)"
   ]
  },
  {
   "cell_type": "code",
   "execution_count": 13,
   "metadata": {
    "scrolled": true
   },
   "outputs": [
    {
     "data": {
      "text/plain": [
       "501"
      ]
     },
     "execution_count": 13,
     "metadata": {},
     "output_type": "execute_result"
    }
   ],
   "source": [
    "spectrum = a.spectrum.get()\n",
    "len(spectrum)"
   ]
  },
  {
   "cell_type": "markdown",
   "metadata": {},
   "source": [
    "When we validate a `ParameterWithSetpoints`, we automatically validate that the shape is consistent between the parameters and its setpoints. As well as validating the shape as above."
   ]
  },
  {
   "cell_type": "code",
   "execution_count": 14,
   "metadata": {},
   "outputs": [],
   "source": [
    "a.spectrum.validate(a.spectrum.get())"
   ]
  },
  {
   "cell_type": "markdown",
   "metadata": {},
   "source": [
    "The consistent shapes can be validated explicitly."
   ]
  },
  {
   "cell_type": "code",
   "execution_count": 15,
   "metadata": {},
   "outputs": [],
   "source": [
    "a.spectrum.validate_consistent_shape()"
   ]
  },
  {
   "cell_type": "markdown",
   "metadata": {},
   "source": [
    "We can inspect the setpoints of the spectrum."
   ]
  },
  {
   "cell_type": "code",
   "execution_count": 16,
   "metadata": {},
   "outputs": [
    {
     "data": {
      "text/plain": [
       "(<__main__.GeneratedSetPoints: freq_axis at 140429044646160>,)"
      ]
     },
     "execution_count": 16,
     "metadata": {},
     "output_type": "execute_result"
    }
   ],
   "source": [
    "a.spectrum.setpoints"
   ]
  },
  {
   "cell_type": "markdown",
   "metadata": {},
   "source": [
    "Or even change them."
   ]
  },
  {
   "cell_type": "code",
   "execution_count": 17,
   "metadata": {},
   "outputs": [],
   "source": [
    "a.spectrum.setpoints = (a.freq_axis,)"
   ]
  },
  {
   "cell_type": "markdown",
   "metadata": {},
   "source": [
    "## Measurement"
   ]
  },
  {
   "cell_type": "markdown",
   "metadata": {},
   "source": [
    "We can also directly consume the parameter in a measurement without defining the setpoints of the parameter again. The setpoints are automatically obtained from the definition of the `ParameterWithSetpoint` instance. "
   ]
  },
  {
   "cell_type": "code",
   "execution_count": 18,
   "metadata": {},
   "outputs": [
    {
     "name": "stdout",
     "output_type": "stream",
     "text": [
      "Starting experimental run with id: 1. \n"
     ]
    }
   ],
   "source": [
    "meas = Measurement()\n",
    "meas.register_parameter(a.spectrum)\n",
    "\n",
    "with meas.run() as datasaver:\n",
    "    datasaver.add_result((a.freq_axis, a.freq_axis()),\n",
    "                         (a.spectrum, a.spectrum()))\n",
    "    dataset = datasaver.dataset"
   ]
  },
  {
   "cell_type": "markdown",
   "metadata": {},
   "source": [
    "And plot it"
   ]
  },
  {
   "cell_type": "code",
   "execution_count": 19,
   "metadata": {},
   "outputs": [
    {
     "data": {
      "text/plain": [
       "([<matplotlib.axes._subplots.AxesSubplot at 0x7fb82f54c450>], [None])"
      ]
     },
     "execution_count": 19,
     "metadata": {},
     "output_type": "execute_result"
    },
    {
     "data": {
      "image/png": "[encoded data removed]",
      "text/plain": [
       "<Figure size 432x288 with 1 Axes>"
      ]
     },
     "metadata": {
      "needs_background": "light"
     },
     "output_type": "display_data"
    }
   ],
   "source": [
    "plot_dataset(dataset)"
   ]
  },
  {
   "cell_type": "markdown",
   "metadata": {},
   "source": [
    "To reduce the amount of typing a simple convenience function is provided that will take a `ParameterWithSetpoints` and get both its values and the setpoints values and return them as tuples for direct insertion into the Dataset."
   ]
  },
  {
   "cell_type": "code",
   "execution_count": 20,
   "metadata": {
    "scrolled": true
   },
   "outputs": [
    {
     "data": {
      "text/plain": [
       "[(<__main__.GeneratedSetPoints: freq_axis at 140429044646160>,\n",
       "  array([  0.,   1.,   2.,   3.,   4.,   5.,   6.,   7.,   8.,   9.,  10.,\n",
       "          11.,  12.,  13.,  14.,  15.,  16.,  17.,  18.,  19.,  20.,  21.,\n",
       "          22.,  23.,  24.,  25.,  26.,  27.,  28.,  29.,  30.,  31.,  32.,\n",
       "          33.,  34.,  35.,  36.,  37.,  38.,  39.,  40.,  41.,  42.,  43.,\n",
       "          44.,  45.,  46.,  47.,  48.,  49.,  50.,  51.,  52.,  53.,  54.,\n",
       "          55.,  56.,  57.,  58.,  59.,  60.,  61.,  62.,  63.,  64.,  65.,\n",
       "          66.,  67.,  68.,  69.,  70.,  71.,  72.,  73.,  74.,  75.,  76.,\n",
       "          77.,  78.,  79.,  80.,  81.,  82.,  83.,  84.,  85.,  86.,  87.,\n",
       "          88.,  89.,  90.,  91.,  92.,  93.,  94.,  95.,  96.,  97.,  98.,\n",
       "          99., 100., 101., 102., 103., 104., 105., 106., 107., 108., 109.,\n",
       "         110., 111., 112., 113., 114., 115., 116., 117., 118., 119., 120.,\n",
       "         121., 122., 123., 124., 125., 126., 127., 128., 129., 130., 131.,\n",
       "         132., 133., 134., 135., 136., 137., 138., 139., 140., 141., 142.,\n",
       "         143., 144., 145., 146., 147., 148., 149., 150., 151., 152., 153.,\n",
       "         154., 155., 156., 157., 158., 159., 160., 161., 162., 163., 164.,\n",
       "         165., 166., 167., 168., 169., 170., 171., 172., 173., 174., 175.,\n",
       "         176., 177., 178., 179., 180., 181., 182., 183., 184., 185., 186.,\n",
       "         187., 188., 189., 190., 191., 192., 193., 194., 195., 196., 197.,\n",
       "         198., 199., 200., 201., 202., 203., 204., 205., 206., 207., 208.,\n",
       "         209., 210., 211., 212., 213., 214., 215., 216., 217., 218., 219.,\n",
       "         220., 221., 222., 223., 224., 225., 226., 227., 228., 229., 230.,\n",
       "         231., 232., 233., 234., 235., 236., 237., 238., 239., 240., 241.,\n",
       "         242., 243., 244., 245., 246., 247., 248., 249., 250., 251., 252.,\n",
       "         253., 254., 255., 256., 257., 258., 259., 260., 261., 262., 263.,\n",
       "         264., 265., 266., 267., 268., 269., 270., 271., 272., 273., 274.,\n",
       "         275., 276., 277., 278., 279., 280., 281., 282., 283., 284., 285.,\n",
       "         286., 287., 288., 289., 290., 291., 292., 293., 294., 295., 296.,\n",
       "         297., 298., 299., 300., 301., 302., 303., 304., 305., 306., 307.,\n",
       "         308., 309., 310., 311., 312., 313., 314., 315., 316., 317., 318.,\n",
       "         319., 320., 321., 322., 323., 324., 325., 326., 327., 328., 329.,\n",
       "         330., 331., 332., 333., 334., 335., 336., 337., 338., 339., 340.,\n",
       "         341., 342., 343., 344., 345., 346., 347., 348., 349., 350., 351.,\n",
       "         352., 353., 354., 355., 356., 357., 358., 359., 360., 361., 362.,\n",
       "         363., 364., 365., 366., 367., 368., 369., 370., 371., 372., 373.,\n",
       "         374., 375., 376., 377., 378., 379., 380., 381., 382., 383., 384.,\n",
       "         385., 386., 387., 388., 389., 390., 391., 392., 393., 394., 395.,\n",
       "         396., 397., 398., 399., 400., 401., 402., 403., 404., 405., 406.,\n",
       "         407., 408., 409., 410., 411., 412., 413., 414., 415., 416., 417.,\n",
       "         418., 419., 420., 421., 422., 423., 424., 425., 426., 427., 428.,\n",
       "         429., 430., 431., 432., 433., 434., 435., 436., 437., 438., 439.,\n",
       "         440., 441., 442., 443., 444., 445., 446., 447., 448., 449., 450.,\n",
       "         451., 452., 453., 454., 455., 456., 457., 458., 459., 460., 461.,\n",
       "         462., 463., 464., 465., 466., 467., 468., 469., 470., 471., 472.,\n",
       "         473., 474., 475., 476., 477., 478., 479., 480., 481., 482., 483.,\n",
       "         484., 485., 486., 487., 488., 489., 490., 491., 492., 493., 494.,\n",
       "         495., 496., 497., 498., 499., 500.])),\n",
       " (<__main__.DummyArray: spectrum at 140429044600336>,\n",
       "  array([9.59196571e-01, 3.49125345e-01, 9.34443334e-01, 5.10075947e-01,\n",
       "         2.86237507e-01, 7.14166765e-01, 4.91441611e-01, 6.66685186e-01,\n",
       "         6.90568980e-02, 1.54512551e-01, 1.34561905e-01, 3.30998216e-01,\n",
       "         3.91275979e-01, 1.44247113e-02, 2.51202841e-02, 4.76364043e-01,\n",
       "         5.05210623e-03, 6.15867360e-01, 8.17845914e-01, 6.65511780e-01,\n",
       "         1.19130732e-01, 2.43638942e-01, 2.98948610e-01, 9.34930879e-01,\n",
       "         8.83989397e-01, 9.43686491e-02, 5.21895981e-01, 7.70621246e-01,\n",
       "         9.21023452e-01, 1.70059627e-01, 8.52479123e-01, 3.26869584e-01,\n",
       "         4.54540023e-01, 1.09004094e-01, 9.20364912e-01, 7.92173770e-01,\n",
       "         2.76652842e-01, 3.24489064e-01, 5.06861495e-01, 5.36517182e-01,\n",
       "         7.36566301e-02, 6.36880012e-01, 4.97729266e-01, 9.10033941e-01,\n",
       "         7.18475856e-01, 4.14325658e-02, 7.69382321e-01, 4.66244037e-01,\n",
       "         1.64954998e-01, 6.13485018e-02, 9.31738262e-01, 9.75058209e-01,\n",
       "         9.19722925e-02, 2.59011370e-01, 7.80915117e-01, 9.87528315e-01,\n",
       "         7.27093070e-01, 6.47417578e-01, 8.44176645e-02, 6.01146206e-01,\n",
       "         9.68966423e-01, 7.57306992e-01, 6.82878153e-01, 1.19406936e-01,\n",
       "         4.55060091e-01, 8.83798784e-01, 3.32306305e-01, 2.64409554e-01,\n",
       "         1.60259307e-01, 8.42965448e-01, 2.58695003e-01, 1.13586964e-01,\n",
       "         4.16553734e-01, 6.43020847e-01, 1.64393605e-01, 4.82929515e-01,\n",
       "         8.51792455e-01, 5.91748846e-01, 8.50705838e-01, 3.90849752e-01,\n",
       "         5.91114806e-01, 2.24289357e-02, 4.90390539e-01, 9.33653627e-01,\n",
       "         7.42012907e-01, 8.20213317e-01, 8.94046838e-01, 1.78836673e-01,\n",
       "         4.60104619e-01, 1.16288288e-02, 9.15610719e-01, 8.33275181e-03,\n",
       "         1.79129800e-03, 2.34135686e-01, 6.45966748e-01, 9.75558925e-01,\n",
       "         4.62993788e-01, 4.93674719e-01, 5.35597492e-01, 7.13232259e-01,\n",
       "         9.98771303e-02, 1.92072288e-01, 1.55462254e-01, 2.46089783e-01,\n",
       "         6.96801994e-01, 5.10083345e-01, 7.25551649e-01, 9.36267544e-01,\n",
       "         3.85152785e-01, 7.76440298e-01, 2.49949483e-01, 3.17184510e-02,\n",
       "         2.15309457e-01, 3.24391644e-01, 9.26009888e-01, 8.70482531e-01,\n",
       "         6.73349155e-01, 1.08873712e-01, 6.58493776e-01, 8.81038862e-01,\n",
       "         1.76772149e-01, 2.00783917e-01, 9.24929585e-02, 8.15861057e-01,\n",
       "         6.51659280e-01, 6.22904654e-01, 3.66195333e-01, 2.67847920e-01,\n",
       "         6.00880550e-01, 2.40009437e-01, 3.98846722e-01, 1.92505365e-01,\n",
       "         5.07097201e-01, 3.99579997e-01, 2.63142806e-01, 5.59598248e-01,\n",
       "         5.43696052e-01, 6.17460186e-01, 1.42643577e-02, 8.92548695e-01,\n",
       "         6.66859959e-01, 8.81947822e-01, 5.57996591e-01, 4.38326046e-01,\n",
       "         3.74861230e-01, 2.11165048e-01, 4.83838608e-01, 5.00789285e-01,\n",
       "         7.17658327e-01, 2.29411548e-01, 5.41808949e-01, 2.47984429e-01,\n",
       "         4.36830704e-01, 4.15910648e-01, 3.39781934e-01, 5.08038265e-01,\n",
       "         1.51613200e-01, 8.94143925e-02, 1.26548970e-02, 1.62733703e-01,\n",
       "         5.49494352e-01, 3.65262746e-01, 1.98266168e-01, 1.28393525e-01,\n",
       "         2.29439481e-01, 4.63867776e-01, 1.06812714e-02, 4.77739255e-01,\n",
       "         1.27941259e-01, 2.33186460e-01, 2.04036175e-02, 2.40854762e-01,\n",
       "         2.45032745e-02, 6.61505731e-01, 2.34039523e-01, 5.64414422e-01,\n",
       "         7.33634833e-02, 3.41744455e-01, 9.36100076e-01, 5.82026945e-01,\n",
       "         5.75657073e-01, 8.05683683e-01, 2.56557043e-01, 6.85823323e-01,\n",
       "         7.40943343e-02, 9.90737163e-01, 2.89636229e-01, 2.72292426e-01,\n",
       "         2.18508454e-01, 4.16032318e-01, 9.27800327e-01, 2.32317317e-01,\n",
       "         5.19336235e-01, 7.60367901e-01, 7.64768573e-01, 3.44441727e-01,\n",
       "         7.03220664e-01, 8.76988957e-01, 6.80936108e-01, 4.69037790e-01,\n",
       "         4.62899065e-01, 6.13601516e-01, 4.57886841e-01, 4.85145321e-02,\n",
       "         1.29231474e-01, 2.23862509e-01, 5.21028648e-01, 2.33423886e-01,\n",
       "         1.89563398e-01, 6.38910611e-01, 8.36620369e-01, 6.96646188e-01,\n",
       "         5.86660006e-01, 4.72179441e-01, 8.23898171e-01, 8.61597212e-01,\n",
       "         4.38170450e-01, 1.68722285e-01, 4.74964532e-01, 1.83247377e-01,\n",
       "         2.72312521e-01, 8.28820801e-01, 1.75676931e-02, 4.15611483e-01,\n",
       "         7.08351067e-01, 4.57889600e-01, 6.59754765e-01, 4.33209068e-01,\n",
       "         5.97138490e-02, 5.25631075e-01, 6.00507435e-01, 1.59270004e-01,\n",
       "         1.92633303e-01, 8.98310953e-01, 5.70057121e-01, 3.92947984e-01,\n",
       "         8.63150402e-02, 7.65691142e-01, 3.20580631e-01, 5.38722725e-01,\n",
       "         8.18712038e-01, 1.79601907e-01, 7.47599845e-02, 3.73372132e-01,\n",
       "         9.29273923e-01, 6.86021173e-01, 7.26899719e-02, 5.85761008e-01,\n",
       "         3.45384596e-01, 2.16969550e-01, 8.44148463e-01, 1.84501540e-01,\n",
       "         7.88111182e-01, 8.98653067e-01, 9.87914437e-01, 8.42628832e-01,\n",
       "         3.19351890e-02, 5.81092873e-01, 3.67610205e-02, 2.55926762e-01,\n",
       "         1.38189933e-01, 9.78051602e-01, 1.24842529e-01, 9.73035801e-01,\n",
       "         6.69113169e-01, 5.96292719e-01, 4.30908020e-01, 4.35823479e-01,\n",
       "         2.35533689e-01, 6.67219349e-01, 5.16399457e-01, 5.24216271e-01,\n",
       "         2.97034485e-01, 3.41703430e-01, 8.41047618e-01, 6.94437321e-01,\n",
       "         8.67285127e-01, 3.61575590e-01, 9.23117491e-01, 2.83780386e-01,\n",
       "         8.42518592e-01, 2.46851740e-01, 3.06758335e-01, 5.01546323e-01,\n",
       "         2.89653209e-01, 4.38753217e-01, 7.98655989e-01, 4.97788140e-01,\n",
       "         9.23855370e-01, 7.10280640e-01, 9.95359723e-01, 5.67742141e-01,\n",
       "         5.90143255e-01, 3.87086104e-01, 2.70185288e-01, 8.02533222e-01,\n",
       "         8.48682630e-01, 1.80081735e-01, 1.38442474e-01, 7.78414978e-01,\n",
       "         3.38358814e-01, 5.11029940e-01, 9.37129629e-01, 6.16462376e-02,\n",
       "         4.48899506e-01, 2.78439015e-01, 8.99607389e-01, 7.73668845e-01,\n",
       "         5.06918022e-01, 4.14586803e-01, 3.69595111e-01, 1.82530186e-02,\n",
       "         3.90350346e-01, 9.53497211e-01, 4.27910888e-01, 3.79784366e-01,\n",
       "         2.21103851e-01, 2.25139611e-01, 8.72710475e-01, 4.28921660e-01,\n",
       "         3.80098627e-01, 3.33078019e-01, 2.28974278e-01, 5.75081477e-01,\n",
       "         8.81627284e-01, 5.25953459e-02, 9.37892329e-01, 1.65140098e-01,\n",
       "         5.41580266e-01, 7.28253779e-01, 4.29530229e-01, 4.66215974e-01,\n",
       "         8.86851177e-01, 3.98374252e-01, 6.62695520e-01, 3.47542182e-01,\n",
       "         5.65071855e-01, 1.96102938e-01, 5.96240971e-02, 4.31375908e-01,\n",
       "         5.16954685e-01, 7.86463073e-01, 6.40332358e-01, 6.43450658e-01,\n",
       "         6.40059071e-01, 7.03916107e-02, 3.53400623e-02, 6.97032143e-02,\n",
       "         5.08837126e-01, 9.46675274e-01, 5.58612779e-01, 9.52625150e-01,\n",
       "         5.13229782e-01, 9.48058075e-01, 1.46369713e-01, 2.75343975e-01,\n",
       "         7.70401443e-01, 6.64650955e-01, 4.98829521e-01, 5.29141808e-01,\n",
       "         5.02937304e-01, 8.28738952e-01, 2.43187252e-01, 1.20582371e-02,\n",
       "         1.49981659e-01, 2.33246131e-01, 9.37829964e-01, 1.61557002e-01,\n",
       "         1.71114545e-01, 2.33462210e-01, 3.15297315e-01, 8.67652947e-01,\n",
       "         8.83353127e-01, 4.26980699e-01, 1.30014764e-02, 4.63589458e-01,\n",
       "         2.29157726e-01, 8.15552950e-01, 4.18245778e-01, 3.68827002e-01,\n",
       "         9.94868464e-01, 8.48875356e-01, 8.51757120e-01, 7.59354278e-01,\n",
       "         2.36168297e-01, 8.81836218e-01, 7.17116790e-01, 1.54448659e-01,\n",
       "         1.92178728e-01, 7.63877917e-01, 2.18554369e-01, 9.47128808e-01,\n",
       "         7.69544565e-01, 4.68451051e-01, 5.52109795e-01, 4.01931813e-01,\n",
       "         4.44389510e-01, 7.33131443e-01, 3.62932384e-01, 3.87251558e-01,\n",
       "         3.64913837e-01, 9.30318308e-01, 8.03903365e-02, 6.34252188e-01,\n",
       "         5.28756686e-01, 8.73417226e-01, 9.57658479e-01, 3.12272640e-01,\n",
       "         8.77452242e-01, 9.53466678e-02, 2.11752544e-01, 3.83788071e-01,\n",
       "         9.24922502e-01, 1.11473061e-01, 6.37969418e-01, 7.07367586e-01,\n",
       "         1.99677957e-01, 1.36628954e-01, 4.89736144e-01, 4.29240681e-01,\n",
       "         2.85318440e-01, 9.40817889e-01, 2.84168688e-01, 6.89906341e-01,\n",
       "         2.88286489e-01, 7.29185878e-01, 9.61135952e-01, 8.49706762e-01,\n",
       "         5.63072318e-01, 7.02241500e-01, 4.72770375e-01, 5.14759591e-01,\n",
       "         9.19667307e-01, 8.07208420e-01, 3.67619113e-01, 5.27553159e-01,\n",
       "         6.91980355e-01, 5.54967141e-01, 4.38426325e-01, 7.66574421e-01,\n",
       "         1.44836190e-01, 7.94621122e-02, 9.52355545e-01, 6.10339380e-01,\n",
       "         6.88554650e-01, 6.79895685e-01, 3.04408857e-01, 6.19121961e-01,\n",
       "         4.30468311e-01, 5.56648062e-01, 2.51784276e-01, 3.31588087e-01,\n",
       "         9.73553687e-01, 6.93228814e-01, 1.65458988e-01, 7.95081388e-01,\n",
       "         2.70402818e-01, 1.71053040e-01, 4.97522681e-01, 7.24255162e-01,\n",
       "         5.80659164e-01, 2.84689026e-01, 6.64214538e-01, 9.61399971e-02,\n",
       "         8.28820944e-02, 6.70805171e-01, 7.33384369e-01, 8.25886684e-01,\n",
       "         3.93159709e-01, 1.48200725e-01, 6.01068505e-01, 2.77527381e-01,\n",
       "         2.86777395e-01, 6.02285008e-01, 1.61473960e-02, 2.93534828e-01,\n",
       "         3.84133366e-01, 6.88284289e-01, 7.19642707e-01, 4.06146800e-04,\n",
       "         8.87028684e-01, 1.96298318e-01, 1.57427809e-02, 8.56677467e-01,\n",
       "         5.25295703e-02, 4.67561370e-01, 1.81391116e-01, 1.73262957e-01,\n",
       "         2.90955461e-01, 5.23508100e-01, 3.26350142e-01, 3.82569121e-02,\n",
       "         4.52690343e-01, 7.89652113e-01, 9.44835387e-01, 2.70348233e-01,\n",
       "         8.83831721e-01, 6.04893932e-01, 6.00547777e-03, 1.83621572e-01,\n",
       "         8.05240400e-01]))]"
      ]
     },
     "execution_count": 20,
     "metadata": {},
     "output_type": "execute_result"
    }
   ],
   "source": [
    "expand_setpoints_helper(a.spectrum)"
   ]
  },
  {
   "cell_type": "code",
   "execution_count": 21,
   "metadata": {},
   "outputs": [
    {
     "name": "stdout",
     "output_type": "stream",
     "text": [
      "Starting experimental run with id: 2. \n"
     ]
    }
   ],
   "source": [
    "meas = Measurement()\n",
    "meas.register_parameter(a.spectrum)\n",
    "\n",
    "with meas.run() as datasaver:\n",
    "    datasaver.add_result(*expand_setpoints_helper(a.spectrum))\n",
    "    \n",
    "    dataid = datasaver.run_id"
   ]
  },
  {
   "cell_type": "code",
   "execution_count": null,
   "metadata": {},
   "outputs": [],
   "source": []
  }
 ],
 "metadata": {
  "kernelspec": {
   "display_name": "Python 3",
   "language": "python",
   "name": "python3"
  },
  "language_info": {
   "codemirror_mode": {
    "name": "ipython",
    "version": 3
   },
   "file_extension": ".py",
   "mimetype": "text/x-python",
   "name": "python",
   "nbconvert_exporter": "python",
   "pygments_lexer": "ipython3",
   "version": "3.7.5"
  },
  "toc": {
   "base_numbering": 1,
   "nav_menu": {},
   "number_sections": true,
   "sideBar": true,
   "skip_h1_title": false,
   "title_cell": "Table of Contents",
   "title_sidebar": "Contents",
   "toc_cell": false,
   "toc_position": {},
   "toc_section_display": true,
   "toc_window_display": false
  },
  "varInspector": {
   "cols": {
    "lenName": 16,
    "lenType": 16,
    "lenVar": 40
   },
   "kernels_config": {
    "python": {
     "delete_cmd_postfix": "",
     "delete_cmd_prefix": "del ",
     "library": "var_list.py",
     "varRefreshCmd": "print(var_dic_list())"
    },
    "r": {
     "delete_cmd_postfix": ") ",
     "delete_cmd_prefix": "rm(",
     "library": "var_list.r",
     "varRefreshCmd": "cat(var_dic_list()) "
    }
   },
   "types_to_exclude": [
    "module",
    "function",
    "builtin_function_or_method",
    "instance",
    "_Feature"
   ],
   "window_display": false
  }
 },
 "nbformat": 4,
 "nbformat_minor": 2
}
