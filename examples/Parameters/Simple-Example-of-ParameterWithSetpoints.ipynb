{
 "cells": [
  {
   "cell_type": "markdown",
   "metadata": {},
   "source": [
    "# Simple Example of ParameterWithSetpoints\n",
    "This notebook provides an example for writing a simple driver with a parameter that has setpoints. Let's name this parameter that has setpoints as \"y\". Then, the setpoints, say \"x1, x2, x3 ..\", are the parameters on which the parameter \n",
    "\"y\" depends upon. Meaning \"y\" is a function of \"x1, x2, x3 ...\" where \"x1, x2, x3 ...\" are known as the setpoints of parameter \"y\".\n",
    "\n",
    "This is most likely to be useful for instruments that return arrays of results. In this notebook, we will show an example of this."
   ]
  },
  {
   "cell_type": "code",
   "execution_count": 1,
   "metadata": {},
   "outputs": [],
   "source": [
    "import numpy as np\n",
    "import os"
   ]
  },
  {
   "cell_type": "code",
   "execution_count": 2,
   "metadata": {},
   "outputs": [
    {
     "name": "stdout",
     "output_type": "stream",
     "text": [
      "Logging hadn't been started.\n",
      "Activating auto-logging. Current session state plus future input saved.\n",
      "Filename       : /home/vsts/.qcodes/logs/command_history.log\n",
      "Mode           : append\n",
      "Output logging : True\n",
      "Raw input log  : False\n",
      "Timestamping   : True\n",
      "State          : active\n"
     ]
    },
    {
     "name": "stdout",
     "output_type": "stream",
     "text": [
      "Qcodes Logfile : /home/vsts/.qcodes/logs/200612-23787-qcodes.log\n"
     ]
    }
   ],
   "source": [
    "from qcodes.dataset.plotting import plot_dataset\n",
    "from qcodes.utils.validators import Numbers, Arrays\n",
    "from qcodes.instrument.base import Instrument\n",
    "from qcodes.dataset.measurements import Measurement"
   ]
  },
  {
   "cell_type": "code",
   "execution_count": 3,
   "metadata": {},
   "outputs": [],
   "source": [
    "from qcodes.dataset.sqlite.database import initialise_or_create_database_at\n",
    "from qcodes.dataset.experiment_container import load_or_create_experiment"
   ]
  },
  {
   "cell_type": "code",
   "execution_count": 4,
   "metadata": {},
   "outputs": [],
   "source": [
    "from qcodes.instrument.parameter import ParameterWithSetpoints, Parameter\n",
    "from qcodes.instrument.parameter import expand_setpoints_helper"
   ]
  },
  {
   "cell_type": "markdown",
   "metadata": {},
   "source": [
    "First, we define a dummy instrument that returns something like a frequency spectrum starting from a frequency given by `f_start` to a frequency given by `f_stop` in `n_points` steps. \n",
    "\n",
    "The extra functionality of the `ParameterWithSetpoints` is implemented by giving it a reference to one or more parameters that acts like its setpoints. \n",
    "\n",
    "To setup a `ParameterWithSetpoints` we have to do two things in addition to what we do for a normal parameter.\n",
    "\n",
    "* Define one or more parameter for the setpoints (one for each dimension of the array and let the `ParameterWithSetpoints` know that these are the setpoints.\n",
    "* Give both the setpoints parameter(s) and the `ParameterWithSetpoints` a `validator` of type `Arrays` with a shape. The shapes should be such that the combined shape of the setpoints matches the shape of the `ParameterWithSetpoints`. Note that if the shape changes with the setting of the instrument, it can be defined by another parameter as shown below. "
   ]
  },
  {
   "cell_type": "code",
   "execution_count": 5,
   "metadata": {},
   "outputs": [],
   "source": [
    "class GeneratedSetPoints(Parameter):\n",
    "    \"\"\"\n",
    "    A parameter that generates a setpoint array from start, stop and num points\n",
    "    parameters.\n",
    "    \"\"\"\n",
    "    def __init__(self, startparam, stopparam, numpointsparam, *args, **kwargs):\n",
    "        super().__init__(*args, **kwargs)\n",
    "        self._startparam = startparam\n",
    "        self._stopparam = stopparam\n",
    "        self._numpointsparam = numpointsparam\n",
    "\n",
    "    def get_raw(self):\n",
    "        return np.linspace(self._startparam(), self._stopparam(),\n",
    "                              self._numpointsparam())\n",
    "\n",
    "class DummyArray(ParameterWithSetpoints):\n",
    "    \n",
    "    def get_raw(self):\n",
    "        npoints = self.root_instrument.n_points.get_latest()\n",
    "        return np.random.rand(npoints)\n",
    "    \n",
    "\n",
    "class DummySpectrumAnalyzer(Instrument):\n",
    "    \n",
    "    def __init__(self, name, **kwargs):\n",
    "        \n",
    "        super().__init__(name, **kwargs)\n",
    "            \n",
    "\n",
    "        self.add_parameter('f_start',\n",
    "                           initial_value=0,\n",
    "                           unit='Hz',\n",
    "                           label='f start',\n",
    "                           vals=Numbers(0,1e3),\n",
    "                           get_cmd=None,\n",
    "                           set_cmd=None)\n",
    "\n",
    "        self.add_parameter('f_stop',\n",
    "                           unit='Hz',\n",
    "                           label='f stop',\n",
    "                           vals=Numbers(1,1e3),\n",
    "                           get_cmd=None,\n",
    "                           set_cmd=None)\n",
    "\n",
    "        self.add_parameter('n_points',\n",
    "                           unit='',\n",
    "                           initial_value=10,\n",
    "                           vals=Numbers(1,1e3),\n",
    "                           get_cmd=None,\n",
    "                           set_cmd=None)\n",
    "        \n",
    "        self.add_parameter('freq_axis',\n",
    "                           unit='Hz',\n",
    "                           label='Freq Axis',\n",
    "                           parameter_class=GeneratedSetPoints,\n",
    "                           startparam=self.f_start,\n",
    "                           stopparam=self.f_stop,\n",
    "                           numpointsparam=self.n_points,\n",
    "                           vals=Arrays(shape=(self.n_points.get_latest,)))\n",
    "                           \n",
    "        self.add_parameter('spectrum',\n",
    "                   unit='dBm',\n",
    "                   setpoints=(self.freq_axis,),\n",
    "                   label='Spectrum',\n",
    "                   parameter_class=DummyArray,\n",
    "                   vals=Arrays(shape=(self.n_points.get_latest,)))\n",
    "                "
   ]
  },
  {
   "cell_type": "markdown",
   "metadata": {},
   "source": [
    "In the above example, the shape is defined by the parameter `n_points` that defines how many samples our `DummySpectrumAnalyzer` returns.\n",
    "\n",
    "This means that the validation will call the function to get `n_points` twice for each `get` of the parameter. This may be too slow, however, if you (as the driver-writer) can guarantee that the cached value for `n_points` will never be out of sync with the value stored in the instrument, `n_points` may be replaced by it's latest known value such that the `validator` reads:\n",
    "```python\n",
    "vals=Arrays(shape=(self.n_points.get_latest))\n",
    "```\n",
    "\n",
    "This avoids any additional call to the instrument. In the same way, the arguments to the `freq_axis` parameter that defines the start, stop and number of points can be replaced by their latest value if the instrument allows it.\n",
    "\n"
   ]
  },
  {
   "cell_type": "code",
   "execution_count": 6,
   "metadata": {},
   "outputs": [
    {
     "name": "stdout",
     "output_type": "stream",
     "text": [
      "\r",
      "0it [00:00, ?it/s]"
     ]
    },
    {
     "name": "stdout",
     "output_type": "stream",
     "text": [
      "\r",
      "Upgrading database; v0 -> v1: : 0it [00:00, ?it/s]"
     ]
    },
    {
     "name": "stdout",
     "output_type": "stream",
     "text": [
      "\r",
      "Upgrading database; v0 -> v1: : 0it [00:00, ?it/s]"
     ]
    },
    {
     "name": "stdout",
     "output_type": "stream",
     "text": [
      "\n",
      "\r",
      "  0%|          | 0/1 [00:00<?, ?it/s]"
     ]
    },
    {
     "name": "stdout",
     "output_type": "stream",
     "text": [
      "\r",
      "Upgrading database; v1 -> v2:   0%|          | 0/1 [00:00<?, ?it/s]"
     ]
    },
    {
     "name": "stdout",
     "output_type": "stream",
     "text": [
      "\r",
      "Upgrading database; v1 -> v2: 100%|██████████| 1/1 [00:00<00:00, 723.78it/s]"
     ]
    },
    {
     "name": "stdout",
     "output_type": "stream",
     "text": [
      "\n",
      "\r",
      "0it [00:00, ?it/s]"
     ]
    },
    {
     "name": "stdout",
     "output_type": "stream",
     "text": [
      "\r",
      "Upgrading database; v2 -> v3: : 0it [00:00, ?it/s]"
     ]
    },
    {
     "name": "stdout",
     "output_type": "stream",
     "text": [
      "\r",
      "Upgrading database; v2 -> v3: : 0it [00:00, ?it/s]"
     ]
    },
    {
     "name": "stdout",
     "output_type": "stream",
     "text": [
      "\n",
      "\r",
      "0it [00:00, ?it/s]"
     ]
    },
    {
     "name": "stdout",
     "output_type": "stream",
     "text": [
      "\r",
      "Upgrading database; v3 -> v4: : 0it [00:00, ?it/s]"
     ]
    },
    {
     "name": "stdout",
     "output_type": "stream",
     "text": [
      "\r",
      "Upgrading database; v3 -> v4: : 0it [00:00, ?it/s]"
     ]
    },
    {
     "name": "stdout",
     "output_type": "stream",
     "text": [
      "\n",
      "\r",
      "  0%|          | 0/1 [00:00<?, ?it/s]"
     ]
    },
    {
     "name": "stdout",
     "output_type": "stream",
     "text": [
      "\r",
      "Upgrading database; v4 -> v5:   0%|          | 0/1 [00:00<?, ?it/s]"
     ]
    },
    {
     "name": "stdout",
     "output_type": "stream",
     "text": [
      "\r",
      "Upgrading database; v4 -> v5: 100%|██████████| 1/1 [00:00<00:00, 691.67it/s]"
     ]
    },
    {
     "name": "stdout",
     "output_type": "stream",
     "text": [
      "\n",
      "\r",
      "0it [00:00, ?it/s]"
     ]
    },
    {
     "name": "stdout",
     "output_type": "stream",
     "text": [
      "\r",
      "Upgrading database; v5 -> v6: : 0it [00:00, ?it/s]"
     ]
    },
    {
     "name": "stdout",
     "output_type": "stream",
     "text": [
      "\r",
      "Upgrading database; v5 -> v6: : 0it [00:00, ?it/s]"
     ]
    },
    {
     "name": "stdout",
     "output_type": "stream",
     "text": [
      "\n",
      "\r",
      "  0%|          | 0/1 [00:00<?, ?it/s]"
     ]
    },
    {
     "name": "stdout",
     "output_type": "stream",
     "text": [
      "\r",
      "Upgrading database; v6 -> v7:   0%|          | 0/1 [00:00<?, ?it/s]"
     ]
    },
    {
     "name": "stdout",
     "output_type": "stream",
     "text": [
      "\r",
      "Upgrading database; v6 -> v7: 100%|██████████| 1/1 [00:00<00:00, 346.09it/s]"
     ]
    },
    {
     "name": "stdout",
     "output_type": "stream",
     "text": [
      "\n",
      "\r",
      "  0%|          | 0/1 [00:00<?, ?it/s]"
     ]
    },
    {
     "name": "stdout",
     "output_type": "stream",
     "text": [
      "\r",
      "Upgrading database; v7 -> v8:   0%|          | 0/1 [00:00<?, ?it/s]"
     ]
    },
    {
     "name": "stdout",
     "output_type": "stream",
     "text": [
      "\r",
      "Upgrading database; v7 -> v8: 100%|██████████| 1/1 [00:00<00:00, 624.25it/s]"
     ]
    },
    {
     "name": "stdout",
     "output_type": "stream",
     "text": [
      "\n",
      "\r",
      "  0%|          | 0/1 [00:00<?, ?it/s]"
     ]
    },
    {
     "name": "stdout",
     "output_type": "stream",
     "text": [
      "\r",
      "Upgrading database; v8 -> v9:   0%|          | 0/1 [00:00<?, ?it/s]"
     ]
    },
    {
     "name": "stdout",
     "output_type": "stream",
     "text": [
      "\r",
      "Upgrading database; v8 -> v9: 100%|██████████| 1/1 [00:00<00:00, 662.71it/s]"
     ]
    },
    {
     "name": "stdout",
     "output_type": "stream",
     "text": [
      "\n"
     ]
    },
    {
     "data": {
      "text/plain": [
       "tutorial_ParameterWithSetpoints#no sample#1@/home/vsts/work/1/s/docs/examples/Parameters/tutorial_paramter_with_setpoints.db\n",
       "----------------------------------------------------------------------------------------------------------------------------"
      ]
     },
     "execution_count": 6,
     "metadata": {},
     "output_type": "execute_result"
    }
   ],
   "source": [
    "tutorial_db_path = os.path.join(os.getcwd(), 'tutorial_paramter_with_setpoints.db')\n",
    "initialise_or_create_database_at(tutorial_db_path)\n",
    "load_or_create_experiment(experiment_name='tutorial_ParameterWithSetpoints', sample_name=\"no sample\")"
   ]
  },
  {
   "cell_type": "code",
   "execution_count": 7,
   "metadata": {},
   "outputs": [],
   "source": [
    "a = DummySpectrumAnalyzer('foobar')"
   ]
  },
  {
   "cell_type": "markdown",
   "metadata": {},
   "source": [
    "First we setup the limits of the spectrum"
   ]
  },
  {
   "cell_type": "code",
   "execution_count": 8,
   "metadata": {},
   "outputs": [],
   "source": [
    "a.f_start(0)\n",
    "a.f_stop(500)\n",
    "a.n_points(501)"
   ]
  },
  {
   "cell_type": "markdown",
   "metadata": {},
   "source": [
    "And we can grab the frequency axis"
   ]
  },
  {
   "cell_type": "code",
   "execution_count": 9,
   "metadata": {},
   "outputs": [
    {
     "data": {
      "text/plain": [
       "501"
      ]
     },
     "execution_count": 9,
     "metadata": {},
     "output_type": "execute_result"
    }
   ],
   "source": [
    "a.n_points()"
   ]
  },
  {
   "cell_type": "code",
   "execution_count": 10,
   "metadata": {
    "scrolled": false
   },
   "outputs": [
    {
     "data": {
      "text/plain": [
       "501"
      ]
     },
     "execution_count": 10,
     "metadata": {},
     "output_type": "execute_result"
    }
   ],
   "source": [
    "freq_axis = a.freq_axis()\n",
    "len(freq_axis)"
   ]
  },
  {
   "cell_type": "code",
   "execution_count": 11,
   "metadata": {},
   "outputs": [
    {
     "data": {
      "text/plain": [
       "array([0., 1., 2., 3., 4., 5., 6., 7., 8., 9.])"
      ]
     },
     "execution_count": 11,
     "metadata": {},
     "output_type": "execute_result"
    }
   ],
   "source": [
    "freq_axis[:10]"
   ]
  },
  {
   "cell_type": "markdown",
   "metadata": {},
   "source": [
    "As expected we get a result wit 501 points as we asked for an axis with 501 points. "
   ]
  },
  {
   "cell_type": "markdown",
   "metadata": {},
   "source": [
    "Above we have added a validator to the `freq_axis` parameter encoding the fact that this is an Array with `n_points`. Note that we do not have to supply the number of points as an integer but can supply a function that returns the valid number of points. This would normally be a QCoDeS parameter.\n",
    "\n",
    "This will be checked if we validate the output."
   ]
  },
  {
   "cell_type": "code",
   "execution_count": 12,
   "metadata": {},
   "outputs": [],
   "source": [
    "a.freq_axis.validate(a.freq_axis.get())"
   ]
  },
  {
   "cell_type": "markdown",
   "metadata": {},
   "source": [
    "Naturally, we can also get the spectrum. Getting the spectrum will automatically perform validation both for the shape of the parameter itself and the relation to the setpoint parameter(s)"
   ]
  },
  {
   "cell_type": "code",
   "execution_count": 13,
   "metadata": {
    "scrolled": true
   },
   "outputs": [
    {
     "data": {
      "text/plain": [
       "501"
      ]
     },
     "execution_count": 13,
     "metadata": {},
     "output_type": "execute_result"
    }
   ],
   "source": [
    "spectrum = a.spectrum.get()\n",
    "len(spectrum)"
   ]
  },
  {
   "cell_type": "markdown",
   "metadata": {},
   "source": [
    "When we validate a `ParameterWithSetpoints`, we automatically validate that the shape is consistent between the parameters and its setpoints. As well as validating the shape as above."
   ]
  },
  {
   "cell_type": "code",
   "execution_count": 14,
   "metadata": {},
   "outputs": [],
   "source": [
    "a.spectrum.validate(a.spectrum.get())"
   ]
  },
  {
   "cell_type": "markdown",
   "metadata": {},
   "source": [
    "The consistent shapes can be validated explicitly."
   ]
  },
  {
   "cell_type": "code",
   "execution_count": 15,
   "metadata": {},
   "outputs": [],
   "source": [
    "a.spectrum.validate_consistent_shape()"
   ]
  },
  {
   "cell_type": "markdown",
   "metadata": {},
   "source": [
    "We can inspect the setpoints of the spectrum."
   ]
  },
  {
   "cell_type": "code",
   "execution_count": 16,
   "metadata": {},
   "outputs": [
    {
     "data": {
      "text/plain": [
       "(<__main__.GeneratedSetPoints: freq_axis at 139778854367440>,)"
      ]
     },
     "execution_count": 16,
     "metadata": {},
     "output_type": "execute_result"
    }
   ],
   "source": [
    "a.spectrum.setpoints"
   ]
  },
  {
   "cell_type": "markdown",
   "metadata": {},
   "source": [
    "Or even change them."
   ]
  },
  {
   "cell_type": "code",
   "execution_count": 17,
   "metadata": {},
   "outputs": [],
   "source": [
    "a.spectrum.setpoints = (a.freq_axis,)"
   ]
  },
  {
   "cell_type": "markdown",
   "metadata": {},
   "source": [
    "## Measurement"
   ]
  },
  {
   "cell_type": "markdown",
   "metadata": {},
   "source": [
    "We can also directly consume the parameter in a measurement without defining the setpoints of the parameter again. The setpoints are automatically obtained from the definition of the `ParameterWithSetpoint` instance. "
   ]
  },
  {
   "cell_type": "code",
   "execution_count": 18,
   "metadata": {},
   "outputs": [
    {
     "name": "stdout",
     "output_type": "stream",
     "text": [
      "Starting experimental run with id: 1. \n"
     ]
    }
   ],
   "source": [
    "meas = Measurement()\n",
    "meas.register_parameter(a.spectrum)\n",
    "\n",
    "with meas.run() as datasaver:\n",
    "    datasaver.add_result((a.freq_axis, a.freq_axis()),\n",
    "                         (a.spectrum, a.spectrum()))\n",
    "    dataset = datasaver.dataset"
   ]
  },
  {
   "cell_type": "markdown",
   "metadata": {},
   "source": [
    "And plot it"
   ]
  },
  {
   "cell_type": "code",
   "execution_count": 19,
   "metadata": {},
   "outputs": [
    {
     "data": {
      "text/plain": [
       "([<matplotlib.axes._subplots.AxesSubplot at 0x7f20cd5a0750>], [None])"
      ]
     },
     "execution_count": 19,
     "metadata": {},
     "output_type": "execute_result"
    },
    {
     "data": {
      "image/png": "[encoded data removed]",
      "text/plain": [
       "<Figure size 432x288 with 1 Axes>"
      ]
     },
     "metadata": {
      "needs_background": "light"
     },
     "output_type": "display_data"
    }
   ],
   "source": [
    "plot_dataset(dataset)"
   ]
  },
  {
   "cell_type": "markdown",
   "metadata": {},
   "source": [
    "To reduce the amount of typing a simple convenience function is provided that will take a `ParameterWithSetpoints` and get both its values and the setpoints values and return them as tuples for direct insertion into the Dataset."
   ]
  },
  {
   "cell_type": "code",
   "execution_count": 20,
   "metadata": {
    "scrolled": true
   },
   "outputs": [
    {
     "data": {
      "text/plain": [
       "[(<__main__.GeneratedSetPoints: freq_axis at 139778854367440>,\n",
       "  array([  0.,   1.,   2.,   3.,   4.,   5.,   6.,   7.,   8.,   9.,  10.,\n",
       "          11.,  12.,  13.,  14.,  15.,  16.,  17.,  18.,  19.,  20.,  21.,\n",
       "          22.,  23.,  24.,  25.,  26.,  27.,  28.,  29.,  30.,  31.,  32.,\n",
       "          33.,  34.,  35.,  36.,  37.,  38.,  39.,  40.,  41.,  42.,  43.,\n",
       "          44.,  45.,  46.,  47.,  48.,  49.,  50.,  51.,  52.,  53.,  54.,\n",
       "          55.,  56.,  57.,  58.,  59.,  60.,  61.,  62.,  63.,  64.,  65.,\n",
       "          66.,  67.,  68.,  69.,  70.,  71.,  72.,  73.,  74.,  75.,  76.,\n",
       "          77.,  78.,  79.,  80.,  81.,  82.,  83.,  84.,  85.,  86.,  87.,\n",
       "          88.,  89.,  90.,  91.,  92.,  93.,  94.,  95.,  96.,  97.,  98.,\n",
       "          99., 100., 101., 102., 103., 104., 105., 106., 107., 108., 109.,\n",
       "         110., 111., 112., 113., 114., 115., 116., 117., 118., 119., 120.,\n",
       "         121., 122., 123., 124., 125., 126., 127., 128., 129., 130., 131.,\n",
       "         132., 133., 134., 135., 136., 137., 138., 139., 140., 141., 142.,\n",
       "         143., 144., 145., 146., 147., 148., 149., 150., 151., 152., 153.,\n",
       "         154., 155., 156., 157., 158., 159., 160., 161., 162., 163., 164.,\n",
       "         165., 166., 167., 168., 169., 170., 171., 172., 173., 174., 175.,\n",
       "         176., 177., 178., 179., 180., 181., 182., 183., 184., 185., 186.,\n",
       "         187., 188., 189., 190., 191., 192., 193., 194., 195., 196., 197.,\n",
       "         198., 199., 200., 201., 202., 203., 204., 205., 206., 207., 208.,\n",
       "         209., 210., 211., 212., 213., 214., 215., 216., 217., 218., 219.,\n",
       "         220., 221., 222., 223., 224., 225., 226., 227., 228., 229., 230.,\n",
       "         231., 232., 233., 234., 235., 236., 237., 238., 239., 240., 241.,\n",
       "         242., 243., 244., 245., 246., 247., 248., 249., 250., 251., 252.,\n",
       "         253., 254., 255., 256., 257., 258., 259., 260., 261., 262., 263.,\n",
       "         264., 265., 266., 267., 268., 269., 270., 271., 272., 273., 274.,\n",
       "         275., 276., 277., 278., 279., 280., 281., 282., 283., 284., 285.,\n",
       "         286., 287., 288., 289., 290., 291., 292., 293., 294., 295., 296.,\n",
       "         297., 298., 299., 300., 301., 302., 303., 304., 305., 306., 307.,\n",
       "         308., 309., 310., 311., 312., 313., 314., 315., 316., 317., 318.,\n",
       "         319., 320., 321., 322., 323., 324., 325., 326., 327., 328., 329.,\n",
       "         330., 331., 332., 333., 334., 335., 336., 337., 338., 339., 340.,\n",
       "         341., 342., 343., 344., 345., 346., 347., 348., 349., 350., 351.,\n",
       "         352., 353., 354., 355., 356., 357., 358., 359., 360., 361., 362.,\n",
       "         363., 364., 365., 366., 367., 368., 369., 370., 371., 372., 373.,\n",
       "         374., 375., 376., 377., 378., 379., 380., 381., 382., 383., 384.,\n",
       "         385., 386., 387., 388., 389., 390., 391., 392., 393., 394., 395.,\n",
       "         396., 397., 398., 399., 400., 401., 402., 403., 404., 405., 406.,\n",
       "         407., 408., 409., 410., 411., 412., 413., 414., 415., 416., 417.,\n",
       "         418., 419., 420., 421., 422., 423., 424., 425., 426., 427., 428.,\n",
       "         429., 430., 431., 432., 433., 434., 435., 436., 437., 438., 439.,\n",
       "         440., 441., 442., 443., 444., 445., 446., 447., 448., 449., 450.,\n",
       "         451., 452., 453., 454., 455., 456., 457., 458., 459., 460., 461.,\n",
       "         462., 463., 464., 465., 466., 467., 468., 469., 470., 471., 472.,\n",
       "         473., 474., 475., 476., 477., 478., 479., 480., 481., 482., 483.,\n",
       "         484., 485., 486., 487., 488., 489., 490., 491., 492., 493., 494.,\n",
       "         495., 496., 497., 498., 499., 500.])),\n",
       " (<__main__.DummyArray: spectrum at 139778854457296>,\n",
       "  array([4.70484748e-01, 6.23630481e-01, 1.12332729e-01, 5.91880274e-04,\n",
       "         7.51739285e-01, 9.44713924e-01, 4.28596627e-01, 9.31902245e-01,\n",
       "         8.41209791e-01, 7.84815502e-01, 1.89441805e-02, 4.01872696e-02,\n",
       "         2.38113672e-01, 4.43991898e-01, 3.04025098e-01, 7.17240421e-01,\n",
       "         2.05558069e-01, 7.72078839e-01, 3.92290375e-02, 4.09720298e-01,\n",
       "         4.77790979e-01, 5.27562181e-01, 4.33913117e-01, 7.31395859e-01,\n",
       "         3.45683571e-01, 8.99506360e-01, 5.38720235e-01, 2.22330854e-01,\n",
       "         4.61092105e-01, 6.02530999e-01, 6.41545234e-02, 1.52725566e-01,\n",
       "         3.69147505e-01, 9.43918979e-01, 1.76216922e-01, 8.58619820e-01,\n",
       "         7.48845305e-01, 2.06186895e-01, 9.94540104e-01, 8.82826390e-01,\n",
       "         7.46994503e-01, 1.77702450e-01, 8.18754343e-01, 5.33802476e-01,\n",
       "         9.51491244e-01, 1.57685801e-01, 1.41396054e-02, 4.64676480e-01,\n",
       "         3.21756457e-01, 1.11425586e-01, 6.32219766e-01, 1.42312947e-01,\n",
       "         2.80529439e-01, 7.30762709e-01, 9.48475631e-01, 1.15928147e-01,\n",
       "         3.17479198e-01, 2.56466733e-01, 4.66228354e-01, 2.99115066e-01,\n",
       "         2.95820765e-01, 2.67576370e-01, 3.90467484e-01, 5.63160671e-01,\n",
       "         5.76204124e-01, 4.80068847e-01, 9.87644241e-01, 7.83454675e-01,\n",
       "         1.95864390e-01, 4.73586269e-01, 2.76740022e-01, 1.38929595e-01,\n",
       "         5.34929900e-01, 1.65172493e-01, 1.53375043e-01, 6.13191933e-01,\n",
       "         4.32091534e-01, 2.81264297e-01, 8.10321238e-01, 7.79879521e-01,\n",
       "         7.01813239e-01, 6.85583436e-01, 3.20227959e-01, 6.59206828e-01,\n",
       "         8.27820758e-01, 6.07017428e-01, 2.53922661e-01, 3.06348864e-01,\n",
       "         7.21361497e-01, 2.82038950e-01, 8.20833399e-01, 1.26191361e-01,\n",
       "         8.55855085e-01, 4.74152050e-01, 6.49239291e-01, 6.68587785e-02,\n",
       "         4.15815331e-01, 2.25794621e-01, 9.65858321e-01, 2.87726527e-01,\n",
       "         1.54940782e-01, 9.60083140e-01, 5.26898341e-01, 9.36079588e-01,\n",
       "         3.23939004e-02, 3.97215061e-01, 4.17041659e-01, 7.39474821e-02,\n",
       "         3.01280843e-01, 6.83447364e-01, 8.83200797e-01, 1.23402505e-02,\n",
       "         2.63431343e-01, 6.30826146e-01, 9.79812693e-01, 6.77337122e-01,\n",
       "         7.54685080e-02, 1.31063465e-01, 2.78091060e-01, 5.68489154e-01,\n",
       "         4.26633194e-01, 6.56942055e-01, 3.95659459e-02, 4.20477791e-01,\n",
       "         3.54403678e-01, 7.97542868e-01, 2.68810748e-02, 9.43190963e-01,\n",
       "         1.38429430e-01, 5.72698421e-01, 2.46217407e-01, 7.50894841e-01,\n",
       "         1.05614767e-01, 2.27083710e-01, 9.97575438e-01, 2.41339400e-02,\n",
       "         6.42073254e-01, 1.46942489e-01, 9.87362304e-01, 5.81716383e-01,\n",
       "         7.77017959e-01, 1.87125125e-02, 3.41022420e-01, 7.63487854e-01,\n",
       "         8.64083764e-01, 5.40998921e-01, 7.64615892e-01, 3.70178611e-01,\n",
       "         6.16918522e-01, 8.10837409e-01, 7.84790379e-01, 6.03282816e-01,\n",
       "         9.81779754e-01, 7.78957604e-01, 6.47293286e-01, 3.59992054e-01,\n",
       "         7.35501812e-01, 1.28527316e-01, 2.21239170e-01, 2.74025561e-01,\n",
       "         5.07962281e-01, 1.66867124e-01, 5.54403336e-01, 8.36064469e-01,\n",
       "         4.07913621e-01, 9.68774717e-01, 1.24441569e-01, 2.04130544e-01,\n",
       "         6.12054500e-01, 3.48778899e-01, 6.89109134e-01, 4.41512429e-01,\n",
       "         8.74240211e-01, 8.31650563e-01, 5.22710167e-01, 4.71270514e-01,\n",
       "         1.36014163e-02, 1.92658715e-01, 1.37238510e-01, 7.75931500e-01,\n",
       "         9.89191501e-01, 1.65669790e-02, 2.87317535e-01, 7.17867604e-01,\n",
       "         5.96954523e-01, 3.50975978e-01, 5.52205185e-01, 9.90079416e-01,\n",
       "         4.83841619e-01, 2.56060362e-01, 9.02038728e-01, 3.26156763e-01,\n",
       "         5.76240416e-01, 7.55552458e-01, 7.74230165e-01, 5.06677058e-02,\n",
       "         2.39733845e-01, 8.70577799e-01, 7.73160491e-01, 9.76182353e-02,\n",
       "         5.20552695e-01, 5.30456674e-01, 5.87247523e-01, 1.51483751e-01,\n",
       "         2.85043776e-01, 6.40256199e-01, 8.56732357e-01, 4.40469662e-01,\n",
       "         3.69236949e-01, 7.14402512e-01, 8.90315390e-01, 2.40674911e-01,\n",
       "         4.70975520e-01, 5.33881640e-02, 8.91548214e-02, 6.09907368e-01,\n",
       "         7.74602509e-01, 5.39112114e-01, 9.50299238e-01, 8.55472013e-01,\n",
       "         4.67959823e-01, 7.55576851e-01, 7.06823203e-01, 4.39624125e-01,\n",
       "         7.73481345e-01, 3.35651791e-02, 6.34051087e-01, 6.87535405e-01,\n",
       "         2.56961698e-01, 8.31916895e-01, 5.64514117e-01, 8.56713000e-01,\n",
       "         5.27683692e-01, 8.22789505e-01, 9.67512013e-01, 7.25661179e-01,\n",
       "         7.72809780e-01, 9.88869006e-01, 6.48874323e-01, 8.75911953e-01,\n",
       "         7.83015384e-01, 8.57478873e-01, 7.61902896e-01, 6.95950742e-01,\n",
       "         7.11896792e-01, 9.39737490e-01, 6.72406165e-01, 1.59637829e-01,\n",
       "         1.15990827e-01, 3.75944341e-01, 5.78673865e-01, 2.49585061e-01,\n",
       "         6.47264973e-01, 8.29931339e-01, 2.24201918e-01, 8.50506995e-01,\n",
       "         5.64927463e-01, 4.49872492e-01, 2.29373807e-01, 4.57142473e-01,\n",
       "         8.94978386e-02, 5.20551952e-01, 7.33545626e-02, 8.33870755e-01,\n",
       "         8.40130787e-01, 1.31215951e-01, 8.53871117e-01, 8.70662367e-01,\n",
       "         9.76229138e-02, 1.13552625e-01, 3.21631775e-01, 3.97823760e-01,\n",
       "         9.29363234e-01, 2.82765613e-01, 9.95693535e-01, 1.75293331e-01,\n",
       "         8.42014412e-01, 6.27435180e-01, 2.26885316e-02, 7.30830609e-01,\n",
       "         8.63190237e-01, 4.78078029e-01, 2.70282805e-01, 2.14232546e-01,\n",
       "         9.38771950e-01, 7.34507523e-01, 1.31627974e-01, 6.69581828e-01,\n",
       "         6.87686907e-01, 6.90771022e-01, 3.78363238e-01, 1.10892362e-01,\n",
       "         3.95736551e-01, 1.80554582e-01, 8.31649308e-01, 1.72571646e-02,\n",
       "         2.29487439e-01, 1.78725144e-01, 3.02503140e-01, 5.65726223e-01,\n",
       "         7.48333933e-01, 8.66299333e-01, 6.27365911e-01, 9.14833896e-01,\n",
       "         7.77037536e-01, 4.07179237e-01, 3.28713969e-01, 4.63955796e-01,\n",
       "         3.95736966e-01, 9.94951327e-01, 8.92282686e-02, 8.63276695e-01,\n",
       "         5.92291063e-01, 3.94607473e-02, 7.25147908e-01, 2.08822381e-01,\n",
       "         6.69349980e-01, 5.04976354e-01, 4.53951551e-01, 3.27675558e-02,\n",
       "         1.34784701e-01, 1.66221077e-01, 5.86934214e-02, 3.45649745e-01,\n",
       "         7.87608971e-01, 9.33394618e-01, 4.39865943e-01, 5.52313434e-01,\n",
       "         9.83622825e-01, 5.67258454e-01, 8.76090971e-01, 3.07629049e-01,\n",
       "         2.71290368e-02, 6.73603342e-01, 9.33548012e-01, 7.46701391e-01,\n",
       "         2.07791563e-01, 4.72105437e-01, 5.34685078e-01, 6.72125186e-01,\n",
       "         6.12218896e-02, 6.63790004e-01, 5.58770169e-01, 7.73038810e-01,\n",
       "         1.94157347e-01, 3.81615132e-01, 8.13595677e-01, 6.45666163e-01,\n",
       "         1.50854019e-01, 9.03010402e-01, 3.31001472e-01, 8.97430692e-01,\n",
       "         7.92798265e-01, 3.05536545e-01, 6.94010624e-01, 5.28097644e-01,\n",
       "         3.31322848e-01, 2.84994442e-01, 6.41261884e-01, 1.94444967e-01,\n",
       "         1.35066137e-01, 4.82369293e-01, 6.60846748e-01, 8.55229239e-01,\n",
       "         2.15199127e-01, 4.96973737e-01, 4.03422822e-01, 1.70652209e-01,\n",
       "         7.79622679e-01, 7.30423439e-02, 9.56007469e-01, 4.91596870e-01,\n",
       "         1.48372115e-01, 6.04717782e-01, 5.40015186e-01, 3.00132974e-01,\n",
       "         1.36254606e-01, 7.65039771e-01, 6.01963867e-01, 2.26849735e-01,\n",
       "         2.15752921e-01, 4.45432826e-01, 9.28933469e-01, 6.71228713e-02,\n",
       "         5.35926427e-01, 2.02931580e-01, 7.26789694e-01, 5.82152844e-01,\n",
       "         5.85323795e-01, 6.02272968e-01, 1.99486285e-01, 4.15682494e-02,\n",
       "         6.98345944e-01, 5.11563491e-01, 8.65596766e-01, 5.62585817e-01,\n",
       "         6.81225371e-01, 5.17386490e-01, 4.97744096e-01, 3.60824953e-02,\n",
       "         2.29110866e-01, 4.58495802e-01, 7.73807571e-01, 3.71784825e-01,\n",
       "         7.51844613e-02, 8.07048956e-01, 8.75836712e-01, 8.20768820e-01,\n",
       "         9.57511966e-01, 4.34464936e-03, 9.81753088e-02, 5.98292537e-01,\n",
       "         9.90391520e-01, 6.72122772e-01, 1.80423249e-01, 4.08209695e-01,\n",
       "         7.46278846e-01, 1.31314469e-01, 2.31435972e-01, 9.16100294e-01,\n",
       "         4.73658626e-01, 7.05349278e-01, 1.04185221e-01, 4.63357455e-01,\n",
       "         6.16560939e-01, 9.03537162e-01, 1.63534165e-01, 3.94663891e-01,\n",
       "         1.09855010e-01, 2.79968835e-02, 5.49478718e-01, 8.98502088e-01,\n",
       "         7.60225275e-01, 8.17247799e-01, 7.26191319e-01, 8.23555998e-01,\n",
       "         9.35025896e-01, 4.24083495e-02, 5.00186790e-02, 8.16488693e-01,\n",
       "         1.83843259e-01, 7.98513263e-01, 8.90234512e-01, 8.89865618e-01,\n",
       "         6.71234056e-01, 8.64513208e-01, 4.94347303e-01, 5.42111253e-01,\n",
       "         2.39182096e-01, 3.12810784e-01, 5.16345830e-01, 2.60452986e-02,\n",
       "         2.85031665e-01, 7.53767510e-01, 6.28864696e-01, 3.21321258e-01,\n",
       "         7.72357194e-01, 3.23808902e-01, 4.10902321e-01, 5.19505046e-01,\n",
       "         1.24932662e-01, 4.88023485e-02, 9.93033168e-02, 6.75556655e-01,\n",
       "         1.65204924e-01, 1.23542905e-01, 3.98022218e-01, 2.56524254e-01,\n",
       "         3.92219825e-01, 8.21215565e-01, 7.59634112e-01, 1.18715247e-01,\n",
       "         9.48204671e-01, 4.62647236e-01, 7.53048777e-01, 2.42606560e-01,\n",
       "         2.39665803e-01, 5.13836390e-01, 3.89144184e-01, 5.49835266e-01,\n",
       "         3.86174930e-01, 5.01984080e-02, 5.78248074e-01, 9.97236220e-01,\n",
       "         5.90672022e-01, 3.96016632e-01, 5.90794208e-01, 6.77541862e-01,\n",
       "         8.51087774e-01, 7.42239389e-02, 9.93147936e-01, 2.45669465e-01,\n",
       "         2.06123206e-01, 3.25156162e-01, 5.01701014e-01, 5.92446921e-01,\n",
       "         6.59693097e-01, 9.02043694e-01, 2.85906800e-01, 8.12035036e-01,\n",
       "         6.76349491e-01]))]"
      ]
     },
     "execution_count": 20,
     "metadata": {},
     "output_type": "execute_result"
    }
   ],
   "source": [
    "expand_setpoints_helper(a.spectrum)"
   ]
  },
  {
   "cell_type": "code",
   "execution_count": 21,
   "metadata": {},
   "outputs": [
    {
     "name": "stdout",
     "output_type": "stream",
     "text": [
      "Starting experimental run with id: 2. \n"
     ]
    }
   ],
   "source": [
    "meas = Measurement()\n",
    "meas.register_parameter(a.spectrum)\n",
    "\n",
    "with meas.run() as datasaver:\n",
    "    datasaver.add_result(*expand_setpoints_helper(a.spectrum))\n",
    "    \n",
    "    dataid = datasaver.run_id"
   ]
  },
  {
   "cell_type": "code",
   "execution_count": null,
   "metadata": {},
   "outputs": [],
   "source": []
  }
 ],
 "metadata": {
  "kernelspec": {
   "display_name": "Python 3",
   "language": "python",
   "name": "python3"
  },
  "language_info": {
   "codemirror_mode": {
    "name": "ipython",
    "version": 3
   },
   "file_extension": ".py",
   "mimetype": "text/x-python",
   "name": "python",
   "nbconvert_exporter": "python",
   "pygments_lexer": "ipython3",
   "version": "3.7.7"
  },
  "toc": {
   "base_numbering": 1,
   "nav_menu": {},
   "number_sections": true,
   "sideBar": true,
   "skip_h1_title": false,
   "title_cell": "Table of Contents",
   "title_sidebar": "Contents",
   "toc_cell": false,
   "toc_position": {},
   "toc_section_display": true,
   "toc_window_display": false
  },
  "varInspector": {
   "cols": {
    "lenName": 16,
    "lenType": 16,
    "lenVar": 40
   },
   "kernels_config": {
    "python": {
     "delete_cmd_postfix": "",
     "delete_cmd_prefix": "del ",
     "library": "var_list.py",
     "varRefreshCmd": "print(var_dic_list())"
    },
    "r": {
     "delete_cmd_postfix": ") ",
     "delete_cmd_prefix": "rm(",
     "library": "var_list.r",
     "varRefreshCmd": "cat(var_dic_list()) "
    }
   },
   "types_to_exclude": [
    "module",
    "function",
    "builtin_function_or_method",
    "instance",
    "_Feature"
   ],
   "window_display": false
  }
 },
 "nbformat": 4,
 "nbformat_minor": 2
}
