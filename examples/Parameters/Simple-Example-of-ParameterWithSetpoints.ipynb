{
 "cells": [
  {
   "cell_type": "markdown",
   "metadata": {},
   "source": [
    "# Simple Example of ParameterWithSetpoints\n",
    "This notebook provides an example for writing a simple driver with a parameter that has setpoints. Let's name this parameter that has setpoints as \"y\". Then, the setpoints, say \"x1, x2, x3 ..\", are the parameters on which the parameter \n",
    "\"y\" depends upon. Meaning \"y\" is a function of \"x1, x2, x3 ...\" where \"x1, x2, x3 ...\" are known as the setpoints of parameter \"y\".\n",
    "\n",
    "This is most likely to be useful for instruments that return arrays of results. In this notebook, we will show an example of this."
   ]
  },
  {
   "cell_type": "code",
   "execution_count": 1,
   "metadata": {},
   "outputs": [],
   "source": [
    "import numpy as np\n",
    "import os"
   ]
  },
  {
   "cell_type": "code",
   "execution_count": 2,
   "metadata": {},
   "outputs": [
    {
     "name": "stdout",
     "output_type": "stream",
     "text": [
      "Logging hadn't been started.\n",
      "Activating auto-logging. Current session state plus future input saved.\n",
      "Filename       : /home/vsts/.qcodes/logs/command_history.log\n",
      "Mode           : append\n",
      "Output logging : True\n",
      "Raw input log  : False\n",
      "Timestamping   : True\n",
      "State          : active\n"
     ]
    },
    {
     "name": "stdout",
     "output_type": "stream",
     "text": [
      "Qcodes Logfile : /home/vsts/.qcodes/logs/200520-22432-qcodes.log\n"
     ]
    }
   ],
   "source": [
    "from qcodes.dataset.plotting import plot_dataset\n",
    "from qcodes.utils.validators import Numbers, Arrays\n",
    "from qcodes.instrument.base import Instrument\n",
    "from qcodes.dataset.measurements import Measurement"
   ]
  },
  {
   "cell_type": "code",
   "execution_count": 3,
   "metadata": {},
   "outputs": [],
   "source": [
    "from qcodes.dataset.sqlite.database import initialise_or_create_database_at\n",
    "from qcodes.dataset.experiment_container import load_or_create_experiment"
   ]
  },
  {
   "cell_type": "code",
   "execution_count": 4,
   "metadata": {},
   "outputs": [],
   "source": [
    "from qcodes.instrument.parameter import ParameterWithSetpoints, Parameter\n",
    "from qcodes.instrument.parameter import expand_setpoints_helper"
   ]
  },
  {
   "cell_type": "markdown",
   "metadata": {},
   "source": [
    "First, we define a dummy instrument that returns something like a frequency spectrum starting from a frequency given by `f_start` to a frequency given by `f_stop` in `n_points` steps. \n",
    "\n",
    "The extra functionality of the `ParameterWithSetpoints` is implemented by giving it a reference to one or more parameters that acts like its setpoints. \n",
    "\n",
    "To setup a `ParameterWithSetpoints` we have to do two things in addition to what we do for a normal parameter.\n",
    "\n",
    "* Define one or more parameter for the setpoints (one for each dimension of the array and let the `ParameterWithSetpoints` know that these are the setpoints.\n",
    "* Give both the setpoints parameter(s) and the `ParameterWithSetpoints` a `validator` of type `Arrays` with a shape. The shapes should be such that the combined shape of the setpoints matches the shape of the `ParameterWithSetpoints`. Note that if the shape changes with the setting of the instrument, it can be defined by another parameter as shown below. "
   ]
  },
  {
   "cell_type": "code",
   "execution_count": 5,
   "metadata": {},
   "outputs": [],
   "source": [
    "class GeneratedSetPoints(Parameter):\n",
    "    \"\"\"\n",
    "    A parameter that generates a setpoint array from start, stop and num points\n",
    "    parameters.\n",
    "    \"\"\"\n",
    "    def __init__(self, startparam, stopparam, numpointsparam, *args, **kwargs):\n",
    "        super().__init__(*args, **kwargs)\n",
    "        self._startparam = startparam\n",
    "        self._stopparam = stopparam\n",
    "        self._numpointsparam = numpointsparam\n",
    "\n",
    "    def get_raw(self):\n",
    "        return np.linspace(self._startparam(), self._stopparam(),\n",
    "                              self._numpointsparam())\n",
    "\n",
    "class DummyArray(ParameterWithSetpoints):\n",
    "    \n",
    "    def get_raw(self):\n",
    "        npoints = self.root_instrument.n_points.get_latest()\n",
    "        return np.random.rand(npoints)\n",
    "    \n",
    "\n",
    "class DummySpectrumAnalyzer(Instrument):\n",
    "    \n",
    "    def __init__(self, name, **kwargs):\n",
    "        \n",
    "        super().__init__(name, **kwargs)\n",
    "            \n",
    "\n",
    "        self.add_parameter('f_start',\n",
    "                           initial_value=0,\n",
    "                           unit='Hz',\n",
    "                           label='f start',\n",
    "                           vals=Numbers(0,1e3),\n",
    "                           get_cmd=None,\n",
    "                           set_cmd=None)\n",
    "\n",
    "        self.add_parameter('f_stop',\n",
    "                           unit='Hz',\n",
    "                           label='f stop',\n",
    "                           vals=Numbers(1,1e3),\n",
    "                           get_cmd=None,\n",
    "                           set_cmd=None)\n",
    "\n",
    "        self.add_parameter('n_points',\n",
    "                           unit='',\n",
    "                           initial_value=10,\n",
    "                           vals=Numbers(1,1e3),\n",
    "                           get_cmd=None,\n",
    "                           set_cmd=None)\n",
    "        \n",
    "        self.add_parameter('freq_axis',\n",
    "                           unit='Hz',\n",
    "                           label='Freq Axis',\n",
    "                           parameter_class=GeneratedSetPoints,\n",
    "                           startparam=self.f_start,\n",
    "                           stopparam=self.f_stop,\n",
    "                           numpointsparam=self.n_points,\n",
    "                           vals=Arrays(shape=(self.n_points.get_latest,)))\n",
    "                           \n",
    "        self.add_parameter('spectrum',\n",
    "                   unit='dBm',\n",
    "                   setpoints=(self.freq_axis,),\n",
    "                   label='Spectrum',\n",
    "                   parameter_class=DummyArray,\n",
    "                   vals=Arrays(shape=(self.n_points.get_latest,)))\n",
    "                "
   ]
  },
  {
   "cell_type": "markdown",
   "metadata": {},
   "source": [
    "In the above example, the shape is defined by the parameter `n_points` that defines how many samples our `DummySpectrumAnalyzer` returns.\n",
    "\n",
    "This means that the validation will call the function to get `n_points` twice for each `get` of the parameter. This may be too slow, however, if you (as the driver-writer) can guarantee that the cached value for `n_points` will never be out of sync with the value stored in the instrument, `n_points` may be replaced by it's latest known value such that the `validator` reads:\n",
    "```python\n",
    "vals=Arrays(shape=(self.n_points.get_latest))\n",
    "```\n",
    "\n",
    "This avoids any additional call to the instrument. In the same way, the arguments to the `freq_axis` parameter that defines the start, stop and number of points can be replaced by their latest value if the instrument allows it.\n",
    "\n"
   ]
  },
  {
   "cell_type": "code",
   "execution_count": 6,
   "metadata": {},
   "outputs": [
    {
     "name": "stdout",
     "output_type": "stream",
     "text": [
      "\r",
      "0it [00:00, ?it/s]"
     ]
    },
    {
     "name": "stdout",
     "output_type": "stream",
     "text": [
      "\r",
      "Upgrading database; v0 -> v1: : 0it [00:00, ?it/s]"
     ]
    },
    {
     "name": "stdout",
     "output_type": "stream",
     "text": [
      "\r",
      "Upgrading database; v0 -> v1: : 0it [00:00, ?it/s]"
     ]
    },
    {
     "name": "stdout",
     "output_type": "stream",
     "text": [
      "\n",
      "\r",
      "  0%|          | 0/1 [00:00<?, ?it/s]"
     ]
    },
    {
     "name": "stdout",
     "output_type": "stream",
     "text": [
      "\r",
      "Upgrading database; v1 -> v2:   0%|          | 0/1 [00:00<?, ?it/s]"
     ]
    },
    {
     "name": "stdout",
     "output_type": "stream",
     "text": [
      "\r",
      "Upgrading database; v1 -> v2: 100%|██████████| 1/1 [00:00<00:00, 836.35it/s]"
     ]
    },
    {
     "name": "stdout",
     "output_type": "stream",
     "text": [
      "\n",
      "\r",
      "0it [00:00, ?it/s]"
     ]
    },
    {
     "name": "stdout",
     "output_type": "stream",
     "text": [
      "\r",
      "Upgrading database; v2 -> v3: : 0it [00:00, ?it/s]"
     ]
    },
    {
     "name": "stdout",
     "output_type": "stream",
     "text": [
      "\r",
      "Upgrading database; v2 -> v3: : 0it [00:00, ?it/s]"
     ]
    },
    {
     "name": "stdout",
     "output_type": "stream",
     "text": [
      "\n",
      "\r",
      "0it [00:00, ?it/s]"
     ]
    },
    {
     "name": "stdout",
     "output_type": "stream",
     "text": [
      "\r",
      "Upgrading database; v3 -> v4: : 0it [00:00, ?it/s]"
     ]
    },
    {
     "name": "stdout",
     "output_type": "stream",
     "text": [
      "\r",
      "Upgrading database; v3 -> v4: : 0it [00:00, ?it/s]"
     ]
    },
    {
     "name": "stdout",
     "output_type": "stream",
     "text": [
      "\n",
      "\r",
      "  0%|          | 0/1 [00:00<?, ?it/s]"
     ]
    },
    {
     "name": "stdout",
     "output_type": "stream",
     "text": [
      "\r",
      "Upgrading database; v4 -> v5:   0%|          | 0/1 [00:00<?, ?it/s]"
     ]
    },
    {
     "name": "stdout",
     "output_type": "stream",
     "text": [
      "\r",
      "Upgrading database; v4 -> v5: 100%|██████████| 1/1 [00:00<00:00, 865.70it/s]"
     ]
    },
    {
     "name": "stdout",
     "output_type": "stream",
     "text": [
      "\n",
      "\r",
      "0it [00:00, ?it/s]"
     ]
    },
    {
     "name": "stdout",
     "output_type": "stream",
     "text": [
      "\r",
      "Upgrading database; v5 -> v6: : 0it [00:00, ?it/s]"
     ]
    },
    {
     "name": "stdout",
     "output_type": "stream",
     "text": [
      "\r",
      "Upgrading database; v5 -> v6: : 0it [00:00, ?it/s]"
     ]
    },
    {
     "name": "stdout",
     "output_type": "stream",
     "text": [
      "\n",
      "\r",
      "  0%|          | 0/1 [00:00<?, ?it/s]"
     ]
    },
    {
     "name": "stdout",
     "output_type": "stream",
     "text": [
      "\r",
      "Upgrading database; v6 -> v7:   0%|          | 0/1 [00:00<?, ?it/s]"
     ]
    },
    {
     "name": "stdout",
     "output_type": "stream",
     "text": [
      "\r",
      "Upgrading database; v6 -> v7: 100%|██████████| 1/1 [00:00<00:00, 446.25it/s]"
     ]
    },
    {
     "name": "stdout",
     "output_type": "stream",
     "text": [
      "\n",
      "\r",
      "  0%|          | 0/1 [00:00<?, ?it/s]"
     ]
    },
    {
     "name": "stdout",
     "output_type": "stream",
     "text": [
      "\r",
      "Upgrading database; v7 -> v8:   0%|          | 0/1 [00:00<?, ?it/s]"
     ]
    },
    {
     "name": "stdout",
     "output_type": "stream",
     "text": [
      "\r",
      "Upgrading database; v7 -> v8: 100%|██████████| 1/1 [00:00<00:00, 879.12it/s]"
     ]
    },
    {
     "name": "stdout",
     "output_type": "stream",
     "text": [
      "\n",
      "\r",
      "  0%|          | 0/1 [00:00<?, ?it/s]"
     ]
    },
    {
     "name": "stdout",
     "output_type": "stream",
     "text": [
      "\r",
      "Upgrading database; v8 -> v9:   0%|          | 0/1 [00:00<?, ?it/s]"
     ]
    },
    {
     "name": "stdout",
     "output_type": "stream",
     "text": [
      "\r",
      "Upgrading database; v8 -> v9: 100%|██████████| 1/1 [00:00<00:00, 1016.31it/s]"
     ]
    },
    {
     "name": "stdout",
     "output_type": "stream",
     "text": [
      "\n"
     ]
    },
    {
     "data": {
      "text/plain": [
       "tutorial_ParameterWithSetpoints#no sample#1@/home/vsts/work/1/s/docs/examples/Parameters/tutorial_paramter_with_setpoints.db\n",
       "----------------------------------------------------------------------------------------------------------------------------"
      ]
     },
     "execution_count": 6,
     "metadata": {},
     "output_type": "execute_result"
    }
   ],
   "source": [
    "tutorial_db_path = os.path.join(os.getcwd(), 'tutorial_paramter_with_setpoints.db')\n",
    "initialise_or_create_database_at(tutorial_db_path)\n",
    "load_or_create_experiment(experiment_name='tutorial_ParameterWithSetpoints', sample_name=\"no sample\")"
   ]
  },
  {
   "cell_type": "code",
   "execution_count": 7,
   "metadata": {},
   "outputs": [],
   "source": [
    "a = DummySpectrumAnalyzer('foobar')"
   ]
  },
  {
   "cell_type": "markdown",
   "metadata": {},
   "source": [
    "First we setup the limits of the spectrum"
   ]
  },
  {
   "cell_type": "code",
   "execution_count": 8,
   "metadata": {},
   "outputs": [],
   "source": [
    "a.f_start(0)\n",
    "a.f_stop(500)\n",
    "a.n_points(501)"
   ]
  },
  {
   "cell_type": "markdown",
   "metadata": {},
   "source": [
    "And we can grab the frequency axis"
   ]
  },
  {
   "cell_type": "code",
   "execution_count": 9,
   "metadata": {},
   "outputs": [
    {
     "data": {
      "text/plain": [
       "501"
      ]
     },
     "execution_count": 9,
     "metadata": {},
     "output_type": "execute_result"
    }
   ],
   "source": [
    "a.n_points()"
   ]
  },
  {
   "cell_type": "code",
   "execution_count": 10,
   "metadata": {
    "scrolled": false
   },
   "outputs": [
    {
     "data": {
      "text/plain": [
       "501"
      ]
     },
     "execution_count": 10,
     "metadata": {},
     "output_type": "execute_result"
    }
   ],
   "source": [
    "freq_axis = a.freq_axis()\n",
    "len(freq_axis)"
   ]
  },
  {
   "cell_type": "code",
   "execution_count": 11,
   "metadata": {},
   "outputs": [
    {
     "data": {
      "text/plain": [
       "array([0., 1., 2., 3., 4., 5., 6., 7., 8., 9.])"
      ]
     },
     "execution_count": 11,
     "metadata": {},
     "output_type": "execute_result"
    }
   ],
   "source": [
    "freq_axis[:10]"
   ]
  },
  {
   "cell_type": "markdown",
   "metadata": {},
   "source": [
    "As expected we get a result wit 501 points as we asked for an axis with 501 points. "
   ]
  },
  {
   "cell_type": "markdown",
   "metadata": {},
   "source": [
    "Above we have added a validator to the `freq_axis` parameter encoding the fact that this is an Array with `n_points`. Note that we do not have to supply the number of points as an integer but can supply a function that returns the valid number of points. This would normally be a QCoDeS parameter.\n",
    "\n",
    "This will be checked if we validate the output."
   ]
  },
  {
   "cell_type": "code",
   "execution_count": 12,
   "metadata": {},
   "outputs": [],
   "source": [
    "a.freq_axis.validate(a.freq_axis.get())"
   ]
  },
  {
   "cell_type": "markdown",
   "metadata": {},
   "source": [
    "Naturally, we can also get the spectrum. Getting the spectrum will automatically perform validation both for the shape of the parameter itself and the relation to the setpoint parameter(s)"
   ]
  },
  {
   "cell_type": "code",
   "execution_count": 13,
   "metadata": {
    "scrolled": true
   },
   "outputs": [
    {
     "data": {
      "text/plain": [
       "501"
      ]
     },
     "execution_count": 13,
     "metadata": {},
     "output_type": "execute_result"
    }
   ],
   "source": [
    "spectrum = a.spectrum.get()\n",
    "len(spectrum)"
   ]
  },
  {
   "cell_type": "markdown",
   "metadata": {},
   "source": [
    "When we validate a `ParameterWithSetpoints`, we automatically validate that the shape is consistent between the parameters and its setpoints. As well as validating the shape as above."
   ]
  },
  {
   "cell_type": "code",
   "execution_count": 14,
   "metadata": {},
   "outputs": [],
   "source": [
    "a.spectrum.validate(a.spectrum.get())"
   ]
  },
  {
   "cell_type": "markdown",
   "metadata": {},
   "source": [
    "The consistent shapes can be validated explicitly."
   ]
  },
  {
   "cell_type": "code",
   "execution_count": 15,
   "metadata": {},
   "outputs": [],
   "source": [
    "a.spectrum.validate_consistent_shape()"
   ]
  },
  {
   "cell_type": "markdown",
   "metadata": {},
   "source": [
    "We can inspect the setpoints of the spectrum."
   ]
  },
  {
   "cell_type": "code",
   "execution_count": 16,
   "metadata": {},
   "outputs": [
    {
     "data": {
      "text/plain": [
       "(<__main__.GeneratedSetPoints: freq_axis at 140000385799376>,)"
      ]
     },
     "execution_count": 16,
     "metadata": {},
     "output_type": "execute_result"
    }
   ],
   "source": [
    "a.spectrum.setpoints"
   ]
  },
  {
   "cell_type": "markdown",
   "metadata": {},
   "source": [
    "Or even change them."
   ]
  },
  {
   "cell_type": "code",
   "execution_count": 17,
   "metadata": {},
   "outputs": [],
   "source": [
    "a.spectrum.setpoints = (a.freq_axis,)"
   ]
  },
  {
   "cell_type": "markdown",
   "metadata": {},
   "source": [
    "## Measurement"
   ]
  },
  {
   "cell_type": "markdown",
   "metadata": {},
   "source": [
    "We can also directly consume the parameter in a measurement without defining the setpoints of the parameter again. The setpoints are automatically obtained from the definition of the `ParameterWithSetpoint` instance. "
   ]
  },
  {
   "cell_type": "code",
   "execution_count": 18,
   "metadata": {},
   "outputs": [
    {
     "name": "stdout",
     "output_type": "stream",
     "text": [
      "Starting experimental run with id: 1. \n"
     ]
    }
   ],
   "source": [
    "meas = Measurement()\n",
    "meas.register_parameter(a.spectrum)\n",
    "\n",
    "with meas.run() as datasaver:\n",
    "    datasaver.add_result((a.freq_axis, a.freq_axis()),\n",
    "                         (a.spectrum, a.spectrum()))\n",
    "    dataset = datasaver.dataset"
   ]
  },
  {
   "cell_type": "markdown",
   "metadata": {},
   "source": [
    "And plot it"
   ]
  },
  {
   "cell_type": "code",
   "execution_count": 19,
   "metadata": {},
   "outputs": [
    {
     "data": {
      "text/plain": [
       "([<matplotlib.axes._subplots.AxesSubplot at 0x7f5460bd0dd0>], [None])"
      ]
     },
     "execution_count": 19,
     "metadata": {},
     "output_type": "execute_result"
    },
    {
     "data": {
      "image/png": "[encoded data removed]",
      "text/plain": [
       "<Figure size 432x288 with 1 Axes>"
      ]
     },
     "metadata": {
      "needs_background": "light"
     },
     "output_type": "display_data"
    }
   ],
   "source": [
    "plot_dataset(dataset)"
   ]
  },
  {
   "cell_type": "markdown",
   "metadata": {},
   "source": [
    "To reduce the amount of typing a simple convenience function is provided that will take a `ParameterWithSetpoints` and get both its values and the setpoints values and return them as tuples for direct insertion into the Dataset."
   ]
  },
  {
   "cell_type": "code",
   "execution_count": 20,
   "metadata": {
    "scrolled": true
   },
   "outputs": [
    {
     "data": {
      "text/plain": [
       "[(<__main__.GeneratedSetPoints: freq_axis at 140000385799376>,\n",
       "  array([  0.,   1.,   2.,   3.,   4.,   5.,   6.,   7.,   8.,   9.,  10.,\n",
       "          11.,  12.,  13.,  14.,  15.,  16.,  17.,  18.,  19.,  20.,  21.,\n",
       "          22.,  23.,  24.,  25.,  26.,  27.,  28.,  29.,  30.,  31.,  32.,\n",
       "          33.,  34.,  35.,  36.,  37.,  38.,  39.,  40.,  41.,  42.,  43.,\n",
       "          44.,  45.,  46.,  47.,  48.,  49.,  50.,  51.,  52.,  53.,  54.,\n",
       "          55.,  56.,  57.,  58.,  59.,  60.,  61.,  62.,  63.,  64.,  65.,\n",
       "          66.,  67.,  68.,  69.,  70.,  71.,  72.,  73.,  74.,  75.,  76.,\n",
       "          77.,  78.,  79.,  80.,  81.,  82.,  83.,  84.,  85.,  86.,  87.,\n",
       "          88.,  89.,  90.,  91.,  92.,  93.,  94.,  95.,  96.,  97.,  98.,\n",
       "          99., 100., 101., 102., 103., 104., 105., 106., 107., 108., 109.,\n",
       "         110., 111., 112., 113., 114., 115., 116., 117., 118., 119., 120.,\n",
       "         121., 122., 123., 124., 125., 126., 127., 128., 129., 130., 131.,\n",
       "         132., 133., 134., 135., 136., 137., 138., 139., 140., 141., 142.,\n",
       "         143., 144., 145., 146., 147., 148., 149., 150., 151., 152., 153.,\n",
       "         154., 155., 156., 157., 158., 159., 160., 161., 162., 163., 164.,\n",
       "         165., 166., 167., 168., 169., 170., 171., 172., 173., 174., 175.,\n",
       "         176., 177., 178., 179., 180., 181., 182., 183., 184., 185., 186.,\n",
       "         187., 188., 189., 190., 191., 192., 193., 194., 195., 196., 197.,\n",
       "         198., 199., 200., 201., 202., 203., 204., 205., 206., 207., 208.,\n",
       "         209., 210., 211., 212., 213., 214., 215., 216., 217., 218., 219.,\n",
       "         220., 221., 222., 223., 224., 225., 226., 227., 228., 229., 230.,\n",
       "         231., 232., 233., 234., 235., 236., 237., 238., 239., 240., 241.,\n",
       "         242., 243., 244., 245., 246., 247., 248., 249., 250., 251., 252.,\n",
       "         253., 254., 255., 256., 257., 258., 259., 260., 261., 262., 263.,\n",
       "         264., 265., 266., 267., 268., 269., 270., 271., 272., 273., 274.,\n",
       "         275., 276., 277., 278., 279., 280., 281., 282., 283., 284., 285.,\n",
       "         286., 287., 288., 289., 290., 291., 292., 293., 294., 295., 296.,\n",
       "         297., 298., 299., 300., 301., 302., 303., 304., 305., 306., 307.,\n",
       "         308., 309., 310., 311., 312., 313., 314., 315., 316., 317., 318.,\n",
       "         319., 320., 321., 322., 323., 324., 325., 326., 327., 328., 329.,\n",
       "         330., 331., 332., 333., 334., 335., 336., 337., 338., 339., 340.,\n",
       "         341., 342., 343., 344., 345., 346., 347., 348., 349., 350., 351.,\n",
       "         352., 353., 354., 355., 356., 357., 358., 359., 360., 361., 362.,\n",
       "         363., 364., 365., 366., 367., 368., 369., 370., 371., 372., 373.,\n",
       "         374., 375., 376., 377., 378., 379., 380., 381., 382., 383., 384.,\n",
       "         385., 386., 387., 388., 389., 390., 391., 392., 393., 394., 395.,\n",
       "         396., 397., 398., 399., 400., 401., 402., 403., 404., 405., 406.,\n",
       "         407., 408., 409., 410., 411., 412., 413., 414., 415., 416., 417.,\n",
       "         418., 419., 420., 421., 422., 423., 424., 425., 426., 427., 428.,\n",
       "         429., 430., 431., 432., 433., 434., 435., 436., 437., 438., 439.,\n",
       "         440., 441., 442., 443., 444., 445., 446., 447., 448., 449., 450.,\n",
       "         451., 452., 453., 454., 455., 456., 457., 458., 459., 460., 461.,\n",
       "         462., 463., 464., 465., 466., 467., 468., 469., 470., 471., 472.,\n",
       "         473., 474., 475., 476., 477., 478., 479., 480., 481., 482., 483.,\n",
       "         484., 485., 486., 487., 488., 489., 490., 491., 492., 493., 494.,\n",
       "         495., 496., 497., 498., 499., 500.])),\n",
       " (<__main__.DummyArray: spectrum at 140000386129104>,\n",
       "  array([7.52116695e-01, 6.47290200e-01, 2.87418359e-01, 8.60710057e-01,\n",
       "         3.08924709e-01, 3.77839046e-02, 7.85805282e-01, 2.70394773e-03,\n",
       "         7.96366264e-01, 6.66882552e-01, 4.52876532e-02, 2.20568642e-01,\n",
       "         1.92281352e-01, 1.38514280e-01, 2.44261268e-01, 7.35448460e-01,\n",
       "         1.94315966e-01, 4.47894715e-01, 6.47584927e-01, 4.70234515e-01,\n",
       "         3.97868838e-01, 6.90385918e-02, 4.22684003e-01, 2.87204458e-01,\n",
       "         8.56405560e-02, 9.09135661e-01, 2.55555316e-01, 1.40580405e-01,\n",
       "         5.67774132e-01, 3.52528082e-01, 1.31895396e-01, 6.23741296e-01,\n",
       "         4.12682286e-01, 3.98591823e-01, 2.41269807e-01, 7.03571797e-01,\n",
       "         4.99313050e-01, 6.98651380e-01, 4.09039947e-01, 7.20967563e-01,\n",
       "         8.24201383e-01, 2.53620486e-01, 3.27104987e-01, 3.84272744e-01,\n",
       "         1.12089250e-01, 5.61382168e-02, 1.98706303e-01, 4.29206925e-01,\n",
       "         2.11823535e-01, 4.15542158e-01, 4.61435352e-01, 8.63660778e-01,\n",
       "         4.52824321e-01, 2.78893871e-01, 4.06760902e-01, 5.87010656e-01,\n",
       "         3.27628166e-01, 4.08838615e-01, 5.46864153e-02, 2.49061028e-01,\n",
       "         6.41806567e-01, 8.12333915e-01, 3.70273187e-01, 4.20410314e-01,\n",
       "         4.38395345e-01, 1.22621146e-02, 9.65289547e-01, 3.52839137e-01,\n",
       "         6.37009404e-01, 6.69942412e-01, 4.49864629e-01, 1.11752826e-01,\n",
       "         8.29469033e-01, 2.06564612e-01, 4.24885033e-01, 1.25798564e-01,\n",
       "         4.04442574e-01, 8.42238674e-01, 5.76484363e-01, 1.25003752e-01,\n",
       "         9.63615281e-01, 6.92970637e-01, 3.65234871e-01, 6.46926384e-01,\n",
       "         4.37544448e-02, 4.67999732e-02, 1.93290407e-01, 3.62746431e-01,\n",
       "         1.72842886e-01, 4.90652688e-01, 5.04994649e-01, 5.81422898e-01,\n",
       "         2.78191610e-01, 1.28011512e-01, 6.86609443e-01, 9.57915884e-01,\n",
       "         5.84324282e-01, 7.53468260e-01, 1.19364563e-01, 4.98941755e-03,\n",
       "         8.80718219e-01, 4.28418294e-01, 3.31888149e-01, 6.45894820e-01,\n",
       "         1.53255574e-01, 1.85386231e-01, 2.20744496e-01, 3.13297662e-03,\n",
       "         6.04655635e-02, 5.54204992e-01, 5.86564529e-01, 1.14471131e-01,\n",
       "         4.16441379e-02, 9.97112909e-01, 3.26336561e-01, 5.00199634e-01,\n",
       "         3.92241893e-01, 4.52914345e-01, 8.58940419e-01, 4.38596617e-01,\n",
       "         1.08500035e-01, 2.30943165e-01, 7.44407471e-01, 6.98326717e-01,\n",
       "         6.79829894e-01, 3.82813794e-01, 4.69488985e-01, 3.00196416e-01,\n",
       "         9.66881511e-01, 1.55524468e-01, 3.88549632e-01, 5.83673713e-01,\n",
       "         1.30697628e-01, 9.89216910e-02, 1.88817386e-01, 5.77215651e-01,\n",
       "         4.30319356e-01, 4.38238164e-01, 5.10575373e-01, 3.65082157e-01,\n",
       "         2.41025719e-01, 4.38934846e-01, 5.23894038e-01, 3.85271398e-01,\n",
       "         9.54980787e-01, 4.08911493e-01, 4.96738303e-01, 2.68690645e-01,\n",
       "         1.51645921e-01, 9.04340251e-01, 5.10141117e-01, 4.59849722e-01,\n",
       "         5.30360847e-01, 4.39853241e-01, 5.77029458e-01, 6.01278310e-01,\n",
       "         7.27577846e-02, 6.71803311e-01, 8.63501439e-01, 4.40480482e-02,\n",
       "         2.18411161e-01, 8.12233941e-01, 7.13186245e-01, 3.26363361e-01,\n",
       "         4.83233782e-01, 2.71505098e-01, 8.94946000e-01, 1.13185466e-01,\n",
       "         8.70786337e-01, 1.34786265e-01, 9.21012292e-01, 3.52549681e-01,\n",
       "         4.90115332e-01, 9.84350884e-01, 9.57039698e-01, 8.19875725e-01,\n",
       "         5.32955552e-01, 3.60674956e-01, 5.31528628e-01, 5.73484240e-01,\n",
       "         4.52042484e-01, 3.52690389e-01, 6.06788487e-01, 8.36936097e-01,\n",
       "         6.85702302e-01, 1.47424036e-01, 4.01493546e-01, 9.93741043e-01,\n",
       "         7.63726555e-01, 7.23714213e-01, 6.77513675e-01, 6.07677280e-01,\n",
       "         7.58902073e-01, 2.30879115e-01, 4.69177376e-01, 6.16724179e-01,\n",
       "         9.97094882e-02, 2.19905232e-01, 6.62526045e-02, 2.40308570e-02,\n",
       "         9.96521131e-01, 7.24592844e-01, 6.97727183e-01, 3.56587005e-01,\n",
       "         3.04163319e-01, 1.18300139e-01, 4.24505803e-02, 2.17423028e-01,\n",
       "         9.40864362e-01, 8.69577904e-01, 7.07558199e-01, 6.58707141e-01,\n",
       "         7.46459638e-01, 6.31430534e-01, 2.67054761e-01, 1.41631587e-01,\n",
       "         8.49321364e-01, 1.11944671e-01, 1.29968400e-01, 3.13668988e-01,\n",
       "         6.59857801e-01, 2.26176585e-01, 4.14110084e-01, 9.56931895e-01,\n",
       "         2.56983922e-01, 7.89675659e-01, 6.11380897e-01, 6.08543569e-01,\n",
       "         1.36714530e-01, 6.78125280e-01, 1.85368679e-01, 1.03928343e-01,\n",
       "         4.93915081e-01, 3.60094166e-01, 1.93475519e-01, 4.87669756e-01,\n",
       "         3.24563561e-01, 2.79658144e-01, 9.36662837e-01, 7.07766353e-01,\n",
       "         4.64048243e-01, 5.09096186e-01, 3.34257951e-01, 4.25304409e-01,\n",
       "         2.60110507e-01, 1.44871208e-01, 1.80508098e-01, 8.15270816e-01,\n",
       "         1.72662297e-01, 1.17436066e-01, 3.04487052e-01, 4.24071006e-01,\n",
       "         8.26963835e-01, 5.85775361e-01, 8.06474732e-01, 6.89023852e-01,\n",
       "         8.10251144e-01, 2.10713877e-01, 2.65183435e-01, 4.53763152e-02,\n",
       "         1.48807702e-01, 4.74248340e-01, 3.69756350e-01, 5.51363675e-01,\n",
       "         7.91087571e-01, 7.16133345e-01, 8.97955099e-01, 4.42410295e-01,\n",
       "         6.05860306e-01, 6.41116322e-01, 6.27150206e-02, 8.66645256e-01,\n",
       "         4.76490130e-01, 2.82611598e-01, 8.28117502e-01, 1.68088136e-01,\n",
       "         7.98515140e-01, 8.61818220e-01, 6.03926474e-01, 9.01009108e-01,\n",
       "         1.03375617e-01, 4.78731962e-01, 3.72509298e-01, 5.43075316e-03,\n",
       "         2.92226760e-01, 6.26385684e-01, 2.96165883e-01, 6.45037810e-01,\n",
       "         2.56908446e-01, 5.41964236e-01, 9.78541338e-01, 4.04451969e-01,\n",
       "         5.57775698e-01, 5.82599421e-01, 6.05852433e-04, 1.60437164e-02,\n",
       "         8.84136564e-01, 5.67793022e-01, 9.41132894e-02, 4.90207411e-02,\n",
       "         4.30005785e-01, 1.99304964e-01, 6.16908872e-01, 1.58068937e-01,\n",
       "         2.50608548e-01, 8.82361298e-01, 2.29148991e-01, 2.82532252e-01,\n",
       "         5.15098559e-01, 2.15742592e-01, 6.20603020e-01, 1.94621133e-01,\n",
       "         5.91907954e-02, 5.81643893e-01, 7.52942889e-01, 9.13805180e-01,\n",
       "         9.95336647e-01, 1.04990937e-01, 8.39715578e-01, 6.33783426e-01,\n",
       "         9.79369022e-02, 6.28639224e-01, 3.36666853e-01, 6.19703175e-01,\n",
       "         3.70859634e-01, 5.98549496e-01, 7.31483149e-01, 2.81385312e-01,\n",
       "         8.97521160e-01, 9.87929830e-01, 2.51473862e-01, 3.53048136e-01,\n",
       "         3.70425146e-01, 4.56536520e-01, 1.77786963e-01, 8.81928458e-01,\n",
       "         2.42827489e-01, 7.95429599e-01, 3.24712766e-01, 2.42450283e-01,\n",
       "         8.72528840e-01, 6.14391316e-01, 4.76948778e-01, 3.18760897e-01,\n",
       "         7.96540728e-01, 8.73385141e-01, 5.99214317e-01, 1.45321870e-02,\n",
       "         7.14510533e-01, 1.69394007e-01, 6.85575535e-01, 7.88876660e-01,\n",
       "         1.66368404e-01, 2.44579361e-01, 1.98839576e-01, 5.18825276e-01,\n",
       "         9.34464282e-01, 2.94053467e-01, 2.27428760e-01, 5.23639479e-02,\n",
       "         4.85776105e-01, 6.68857712e-01, 3.06992383e-01, 2.64551807e-01,\n",
       "         7.00215062e-01, 8.62532561e-01, 3.99905011e-01, 4.19494665e-01,\n",
       "         6.77280642e-01, 8.09129330e-01, 9.94457433e-01, 7.58787635e-01,\n",
       "         5.45401564e-01, 4.75642143e-02, 8.34594861e-01, 6.40031664e-01,\n",
       "         4.25894919e-01, 7.57438411e-01, 7.16987732e-01, 9.18912662e-01,\n",
       "         7.19822126e-01, 9.03829642e-01, 7.20355595e-01, 2.54767020e-01,\n",
       "         8.42825586e-01, 3.78904045e-01, 5.00387136e-01, 7.57591007e-01,\n",
       "         7.40282990e-01, 9.69643562e-01, 2.82067933e-01, 7.99443589e-01,\n",
       "         7.86148495e-01, 7.94112380e-01, 8.39915472e-02, 9.56021751e-01,\n",
       "         9.57844525e-02, 3.97988341e-01, 8.33841763e-01, 6.59652478e-01,\n",
       "         9.50109004e-01, 1.49630869e-01, 3.83612595e-01, 3.01074403e-01,\n",
       "         8.49178856e-01, 3.74453211e-01, 9.41367280e-01, 7.57767038e-01,\n",
       "         4.20236824e-02, 7.39148110e-01, 1.85622770e-01, 3.80497227e-01,\n",
       "         4.79244200e-01, 7.43323240e-03, 2.65445205e-01, 8.84581516e-01,\n",
       "         3.53601241e-01, 2.31485744e-01, 8.98870289e-02, 8.88072877e-01,\n",
       "         6.36423210e-01, 5.38330880e-01, 9.71390903e-01, 2.66767732e-01,\n",
       "         6.66499341e-01, 6.39498391e-01, 2.49710918e-01, 1.03529608e-01,\n",
       "         3.87155921e-01, 8.90127100e-01, 4.87491581e-01, 1.40153506e-01,\n",
       "         3.68052786e-01, 4.17116329e-01, 3.67195617e-01, 8.77510093e-01,\n",
       "         4.61523162e-01, 6.11234905e-01, 2.02475050e-01, 1.17262864e-01,\n",
       "         7.99489212e-01, 3.52353088e-01, 6.33981000e-01, 9.23565547e-01,\n",
       "         1.68366082e-01, 1.01892058e-01, 9.75945241e-01, 5.77699122e-01,\n",
       "         1.92150399e-01, 7.41412830e-02, 4.16100760e-01, 1.13965443e-01,\n",
       "         2.86134317e-01, 3.73232828e-01, 7.57944937e-01, 6.77534400e-01,\n",
       "         2.77036900e-01, 7.32890397e-01, 6.82642719e-01, 5.44828158e-01,\n",
       "         2.81230110e-01, 4.35257477e-01, 3.37433664e-02, 8.71388583e-01,\n",
       "         8.32289659e-01, 7.86886159e-01, 9.19099487e-01, 2.10328174e-01,\n",
       "         9.24392865e-01, 1.17961623e-01, 9.62440101e-01, 1.05147477e-01,\n",
       "         8.86322439e-01, 8.63384029e-02, 8.71299814e-01, 6.26526876e-01,\n",
       "         3.88799548e-01, 2.68177814e-01, 7.54353162e-01, 8.83068856e-01,\n",
       "         1.24310983e-01, 1.08172936e-01, 1.21294646e-02, 7.71586695e-01,\n",
       "         4.25550316e-01, 3.95107503e-02, 7.57711395e-01, 9.02769682e-02,\n",
       "         2.99791196e-01, 3.43731305e-03, 9.21552405e-01, 2.57818694e-01,\n",
       "         4.44108276e-01, 9.19102204e-01, 4.03225187e-01, 6.98702309e-01,\n",
       "         1.35577939e-01, 3.85895712e-01, 1.94609129e-01, 2.02583985e-01,\n",
       "         3.17825156e-01]))]"
      ]
     },
     "execution_count": 20,
     "metadata": {},
     "output_type": "execute_result"
    }
   ],
   "source": [
    "expand_setpoints_helper(a.spectrum)"
   ]
  },
  {
   "cell_type": "code",
   "execution_count": 21,
   "metadata": {},
   "outputs": [
    {
     "name": "stdout",
     "output_type": "stream",
     "text": [
      "Starting experimental run with id: 2. \n"
     ]
    }
   ],
   "source": [
    "meas = Measurement()\n",
    "meas.register_parameter(a.spectrum)\n",
    "\n",
    "with meas.run() as datasaver:\n",
    "    datasaver.add_result(*expand_setpoints_helper(a.spectrum))\n",
    "    \n",
    "    dataid = datasaver.run_id"
   ]
  },
  {
   "cell_type": "code",
   "execution_count": null,
   "metadata": {},
   "outputs": [],
   "source": []
  }
 ],
 "metadata": {
  "kernelspec": {
   "display_name": "Python 3",
   "language": "python",
   "name": "python3"
  },
  "language_info": {
   "codemirror_mode": {
    "name": "ipython",
    "version": 3
   },
   "file_extension": ".py",
   "mimetype": "text/x-python",
   "name": "python",
   "nbconvert_exporter": "python",
   "pygments_lexer": "ipython3",
   "version": "3.7.7"
  },
  "toc": {
   "base_numbering": 1,
   "nav_menu": {},
   "number_sections": true,
   "sideBar": true,
   "skip_h1_title": false,
   "title_cell": "Table of Contents",
   "title_sidebar": "Contents",
   "toc_cell": false,
   "toc_position": {},
   "toc_section_display": true,
   "toc_window_display": false
  },
  "varInspector": {
   "cols": {
    "lenName": 16,
    "lenType": 16,
    "lenVar": 40
   },
   "kernels_config": {
    "python": {
     "delete_cmd_postfix": "",
     "delete_cmd_prefix": "del ",
     "library": "var_list.py",
     "varRefreshCmd": "print(var_dic_list())"
    },
    "r": {
     "delete_cmd_postfix": ") ",
     "delete_cmd_prefix": "rm(",
     "library": "var_list.r",
     "varRefreshCmd": "cat(var_dic_list()) "
    }
   },
   "types_to_exclude": [
    "module",
    "function",
    "builtin_function_or_method",
    "instance",
    "_Feature"
   ],
   "window_display": false
  }
 },
 "nbformat": 4,
 "nbformat_minor": 2
}
