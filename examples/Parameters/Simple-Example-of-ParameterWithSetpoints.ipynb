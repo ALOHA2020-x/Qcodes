{
 "cells": [
  {
   "cell_type": "markdown",
   "metadata": {},
   "source": [
    "# Simple Example of ParameterWithSetpoints\n",
    "This notebook provides an example for writing a simple driver with a parameter that has setpoints. Let's name this parameter that has setpoints as \"y\". Then, the setpoints, say \"x1, x2, x3 ..\", are the parameters on which the parameter \n",
    "\"y\" depends upon. Meaning \"y\" is a function of \"x1, x2, x3 ...\" where \"x1, x2, x3 ...\" are known as the setpoints of parameter \"y\".\n",
    "\n",
    "This is most likely to be useful for instruments that return arrays of results. In this notebook, we will show an example of this."
   ]
  },
  {
   "cell_type": "code",
   "execution_count": 1,
   "metadata": {},
   "outputs": [],
   "source": [
    "import numpy as np\n",
    "import os"
   ]
  },
  {
   "cell_type": "code",
   "execution_count": 2,
   "metadata": {},
   "outputs": [
    {
     "name": "stdout",
     "output_type": "stream",
     "text": [
      "Logging hadn't been started.\n",
      "Activating auto-logging. Current session state plus future input saved.\n",
      "Filename       : /home/vsts/.qcodes/logs/command_history.log\n",
      "Mode           : append\n",
      "Output logging : True\n",
      "Raw input log  : False\n",
      "Timestamping   : True\n",
      "State          : active\n"
     ]
    },
    {
     "name": "stdout",
     "output_type": "stream",
     "text": [
      "Qcodes Logfile : /home/vsts/.qcodes/logs/200211-21504-qcodes.log\n"
     ]
    }
   ],
   "source": [
    "from qcodes.dataset.plotting import plot_dataset\n",
    "from qcodes.utils.validators import Numbers, Arrays\n",
    "from qcodes.instrument.base import Instrument\n",
    "from qcodes.dataset.measurements import Measurement"
   ]
  },
  {
   "cell_type": "code",
   "execution_count": 3,
   "metadata": {},
   "outputs": [],
   "source": [
    "from qcodes.dataset.sqlite.database import initialise_or_create_database_at\n",
    "from qcodes.dataset.experiment_container import load_or_create_experiment"
   ]
  },
  {
   "cell_type": "code",
   "execution_count": 4,
   "metadata": {},
   "outputs": [],
   "source": [
    "from qcodes.instrument.parameter import ParameterWithSetpoints, Parameter\n",
    "from qcodes.instrument.parameter import expand_setpoints_helper"
   ]
  },
  {
   "cell_type": "markdown",
   "metadata": {},
   "source": [
    "First, we define a dummy instrument that returns something like a frequency spectrum starting from a frequency given by `f_start` to a frequency given by `f_stop` in `n_points` steps. \n",
    "\n",
    "The extra functionality of the `ParameterWithSetpoints` is implemented by giving it a reference to one or more parameters that acts like its setpoints. \n",
    "\n",
    "To setup a `ParameterWithSetpoints` we have to do two things in addition to what we do for a normal parameter.\n",
    "\n",
    "* Define one or more parameter for the setpoints (one for each dimension of the array and let the `ParameterWithSetpoints` know that these are the setpoints.\n",
    "* Give both the setpoints parameter(s) and the `ParameterWithSetpoints` a `validator` of type `Arrays` with a shape. The shapes should be such that the combined shape of the setpoints matches the shape of the `ParameterWithSetpoints`. Note that if the shape changes with the setting of the instrument, it can be defined by another parameter as shown below. "
   ]
  },
  {
   "cell_type": "code",
   "execution_count": 5,
   "metadata": {},
   "outputs": [],
   "source": [
    "class GeneratedSetPoints(Parameter):\n",
    "    \"\"\"\n",
    "    A parameter that generates a setpoint array from start, stop and num points\n",
    "    parameters.\n",
    "    \"\"\"\n",
    "    def __init__(self, startparam, stopparam, numpointsparam, *args, **kwargs):\n",
    "        super().__init__(*args, **kwargs)\n",
    "        self._startparam = startparam\n",
    "        self._stopparam = stopparam\n",
    "        self._numpointsparam = numpointsparam\n",
    "\n",
    "    def get_raw(self):\n",
    "        return np.linspace(self._startparam(), self._stopparam(),\n",
    "                              self._numpointsparam())\n",
    "\n",
    "class DummyArray(ParameterWithSetpoints):\n",
    "    \n",
    "    def get_raw(self):\n",
    "        npoints = self.root_instrument.n_points.get_latest()\n",
    "        return np.random.rand(npoints)\n",
    "    \n",
    "\n",
    "class DummySpectrumAnalyzer(Instrument):\n",
    "    \n",
    "    def __init__(self, name, **kwargs):\n",
    "        \n",
    "        super().__init__(name, **kwargs)\n",
    "            \n",
    "\n",
    "        self.add_parameter('f_start',\n",
    "                           initial_value=0,\n",
    "                           unit='Hz',\n",
    "                           label='f start',\n",
    "                           vals=Numbers(0,1e3),\n",
    "                           get_cmd=None,\n",
    "                           set_cmd=None)\n",
    "\n",
    "        self.add_parameter('f_stop',\n",
    "                           unit='Hz',\n",
    "                           label='f stop',\n",
    "                           vals=Numbers(1,1e3),\n",
    "                           get_cmd=None,\n",
    "                           set_cmd=None)\n",
    "\n",
    "        self.add_parameter('n_points',\n",
    "                           unit='',\n",
    "                           initial_value=10,\n",
    "                           vals=Numbers(1,1e3),\n",
    "                           get_cmd=None,\n",
    "                           set_cmd=None)\n",
    "        \n",
    "        self.add_parameter('freq_axis',\n",
    "                           unit='Hz',\n",
    "                           label='Freq Axis',\n",
    "                           parameter_class=GeneratedSetPoints,\n",
    "                           startparam=self.f_start,\n",
    "                           stopparam=self.f_stop,\n",
    "                           numpointsparam=self.n_points,\n",
    "                           vals=Arrays(shape=(self.n_points.get_latest,)))\n",
    "                           \n",
    "        self.add_parameter('spectrum',\n",
    "                   unit='dBm',\n",
    "                   setpoints=(self.freq_axis,),\n",
    "                   label='Spectrum',\n",
    "                   parameter_class=DummyArray,\n",
    "                   vals=Arrays(shape=(self.n_points.get_latest,)))\n",
    "                "
   ]
  },
  {
   "cell_type": "markdown",
   "metadata": {},
   "source": [
    "In the above example, the shape is defined by the parameter `n_points` that defines how many samples our `DummySpectrumAnalyzer` returns.\n",
    "\n",
    "This means that the validation will call the function to get `n_points` twice for each `get` of the parameter. This may be too slow, however, if you (as the driver-writer) can guarantee that the cached value for `n_points` will never be out of sync with the value stored in the instrument, `n_points` may be replaced by it's latest known value such that the `validator` reads:\n",
    "```python\n",
    "vals=Arrays(shape=(self.n_points.get_latest))\n",
    "```\n",
    "\n",
    "This avoids any additional call to the instrument. In the same way, the arguments to the `freq_axis` parameter that defines the start, stop and number of points can be replaced by their latest value if the instrument allows it.\n",
    "\n"
   ]
  },
  {
   "cell_type": "code",
   "execution_count": 6,
   "metadata": {},
   "outputs": [
    {
     "name": "stdout",
     "output_type": "stream",
     "text": [
      "\r",
      "0it [00:00, ?it/s]"
     ]
    },
    {
     "name": "stdout",
     "output_type": "stream",
     "text": [
      "\r",
      "Upgrading database; v0 -> v1: : 0it [00:00, ?it/s]"
     ]
    },
    {
     "name": "stdout",
     "output_type": "stream",
     "text": [
      "\r",
      "Upgrading database; v0 -> v1: : 0it [00:00, ?it/s]"
     ]
    },
    {
     "name": "stdout",
     "output_type": "stream",
     "text": [
      "\n",
      "\r",
      "  0%|          | 0/1 [00:00<?, ?it/s]"
     ]
    },
    {
     "name": "stdout",
     "output_type": "stream",
     "text": [
      "\r",
      "Upgrading database; v1 -> v2:   0%|          | 0/1 [00:00<?, ?it/s]"
     ]
    },
    {
     "name": "stdout",
     "output_type": "stream",
     "text": [
      "\r",
      "Upgrading database; v1 -> v2: 100%|██████████| 1/1 [00:00<00:00, 929.38it/s]"
     ]
    },
    {
     "name": "stdout",
     "output_type": "stream",
     "text": [
      "\n",
      "\r",
      "0it [00:00, ?it/s]"
     ]
    },
    {
     "name": "stdout",
     "output_type": "stream",
     "text": [
      "\r",
      "Upgrading database; v2 -> v3: : 0it [00:00, ?it/s]"
     ]
    },
    {
     "name": "stdout",
     "output_type": "stream",
     "text": [
      "\r",
      "Upgrading database; v2 -> v3: : 0it [00:00, ?it/s]"
     ]
    },
    {
     "name": "stdout",
     "output_type": "stream",
     "text": [
      "\n",
      "\r",
      "0it [00:00, ?it/s]"
     ]
    },
    {
     "name": "stdout",
     "output_type": "stream",
     "text": [
      "\r",
      "Upgrading database; v3 -> v4: : 0it [00:00, ?it/s]"
     ]
    },
    {
     "name": "stdout",
     "output_type": "stream",
     "text": [
      "\r",
      "Upgrading database; v3 -> v4: : 0it [00:00, ?it/s]"
     ]
    },
    {
     "name": "stdout",
     "output_type": "stream",
     "text": [
      "\n",
      "\r",
      "  0%|          | 0/1 [00:00<?, ?it/s]"
     ]
    },
    {
     "name": "stdout",
     "output_type": "stream",
     "text": [
      "\r",
      "Upgrading database; v4 -> v5:   0%|          | 0/1 [00:00<?, ?it/s]"
     ]
    },
    {
     "name": "stdout",
     "output_type": "stream",
     "text": [
      "\r",
      "Upgrading database; v4 -> v5: 100%|██████████| 1/1 [00:00<00:00, 838.53it/s]"
     ]
    },
    {
     "name": "stdout",
     "output_type": "stream",
     "text": [
      "\n",
      "\r",
      "0it [00:00, ?it/s]"
     ]
    },
    {
     "name": "stdout",
     "output_type": "stream",
     "text": [
      "\r",
      "Upgrading database; v5 -> v6: : 0it [00:00, ?it/s]"
     ]
    },
    {
     "name": "stdout",
     "output_type": "stream",
     "text": [
      "\r",
      "Upgrading database; v5 -> v6: : 0it [00:00, ?it/s]"
     ]
    },
    {
     "name": "stdout",
     "output_type": "stream",
     "text": [
      "\n",
      "\r",
      "  0%|          | 0/1 [00:00<?, ?it/s]"
     ]
    },
    {
     "name": "stdout",
     "output_type": "stream",
     "text": [
      "\r",
      "Upgrading database; v6 -> v7:   0%|          | 0/1 [00:00<?, ?it/s]"
     ]
    },
    {
     "name": "stdout",
     "output_type": "stream",
     "text": [
      "\r",
      "Upgrading database; v6 -> v7: 100%|██████████| 1/1 [00:00<00:00, 307.34it/s]"
     ]
    },
    {
     "name": "stdout",
     "output_type": "stream",
     "text": [
      "\n",
      "\r",
      "  0%|          | 0/1 [00:00<?, ?it/s]"
     ]
    },
    {
     "name": "stdout",
     "output_type": "stream",
     "text": [
      "\r",
      "Upgrading database; v7 -> v8:   0%|          | 0/1 [00:00<?, ?it/s]"
     ]
    },
    {
     "name": "stdout",
     "output_type": "stream",
     "text": [
      "\r",
      "Upgrading database; v7 -> v8: 100%|██████████| 1/1 [00:00<00:00, 714.17it/s]"
     ]
    },
    {
     "name": "stdout",
     "output_type": "stream",
     "text": [
      "\n"
     ]
    },
    {
     "data": {
      "text/plain": [
       "tutorial_ParameterWithSetpoints#no sample#1@/home/vsts/work/1/s/docs/examples/Parameters/tutorial_paramter_with_setpoints.db\n",
       "----------------------------------------------------------------------------------------------------------------------------"
      ]
     },
     "execution_count": 6,
     "metadata": {},
     "output_type": "execute_result"
    }
   ],
   "source": [
    "tutorial_db_path = os.path.join(os.getcwd(), 'tutorial_paramter_with_setpoints.db')\n",
    "initialise_or_create_database_at(tutorial_db_path)\n",
    "load_or_create_experiment(experiment_name='tutorial_ParameterWithSetpoints', sample_name=\"no sample\")"
   ]
  },
  {
   "cell_type": "code",
   "execution_count": 7,
   "metadata": {},
   "outputs": [],
   "source": [
    "a = DummySpectrumAnalyzer('foobar')"
   ]
  },
  {
   "cell_type": "markdown",
   "metadata": {},
   "source": [
    "First we setup the limits of the spectrum"
   ]
  },
  {
   "cell_type": "code",
   "execution_count": 8,
   "metadata": {},
   "outputs": [],
   "source": [
    "a.f_start(0)\n",
    "a.f_stop(500)\n",
    "a.n_points(501)"
   ]
  },
  {
   "cell_type": "markdown",
   "metadata": {},
   "source": [
    "And we can grab the frequency axis"
   ]
  },
  {
   "cell_type": "code",
   "execution_count": 9,
   "metadata": {},
   "outputs": [
    {
     "data": {
      "text/plain": [
       "501"
      ]
     },
     "execution_count": 9,
     "metadata": {},
     "output_type": "execute_result"
    }
   ],
   "source": [
    "a.n_points()"
   ]
  },
  {
   "cell_type": "code",
   "execution_count": 10,
   "metadata": {
    "scrolled": false
   },
   "outputs": [
    {
     "data": {
      "text/plain": [
       "501"
      ]
     },
     "execution_count": 10,
     "metadata": {},
     "output_type": "execute_result"
    }
   ],
   "source": [
    "freq_axis = a.freq_axis()\n",
    "len(freq_axis)"
   ]
  },
  {
   "cell_type": "code",
   "execution_count": 11,
   "metadata": {},
   "outputs": [
    {
     "data": {
      "text/plain": [
       "array([0., 1., 2., 3., 4., 5., 6., 7., 8., 9.])"
      ]
     },
     "execution_count": 11,
     "metadata": {},
     "output_type": "execute_result"
    }
   ],
   "source": [
    "freq_axis[:10]"
   ]
  },
  {
   "cell_type": "markdown",
   "metadata": {},
   "source": [
    "As expected we get a result wit 501 points as we asked for an axis with 501 points. "
   ]
  },
  {
   "cell_type": "markdown",
   "metadata": {},
   "source": [
    "Above we have added a validator to the `freq_axis` parameter encoding the fact that this is an Array with `n_points`. Note that we do not have to supply the number of points as an integer but can supply a function that returns the valid number of points. This would normally be a QCoDeS parameter.\n",
    "\n",
    "This will be checked if we validate the output."
   ]
  },
  {
   "cell_type": "code",
   "execution_count": 12,
   "metadata": {},
   "outputs": [],
   "source": [
    "a.freq_axis.validate(a.freq_axis.get())"
   ]
  },
  {
   "cell_type": "markdown",
   "metadata": {},
   "source": [
    "Naturally, we can also get the spectrum. Getting the spectrum will automatically perform validation both for the shape of the parameter itself and the relation to the setpoint parameter(s)"
   ]
  },
  {
   "cell_type": "code",
   "execution_count": 13,
   "metadata": {
    "scrolled": true
   },
   "outputs": [
    {
     "data": {
      "text/plain": [
       "501"
      ]
     },
     "execution_count": 13,
     "metadata": {},
     "output_type": "execute_result"
    }
   ],
   "source": [
    "spectrum = a.spectrum.get()\n",
    "len(spectrum)"
   ]
  },
  {
   "cell_type": "markdown",
   "metadata": {},
   "source": [
    "When we validate a `ParameterWithSetpoints`, we automatically validate that the shape is consistent between the parameters and its setpoints. As well as validating the shape as above."
   ]
  },
  {
   "cell_type": "code",
   "execution_count": 14,
   "metadata": {},
   "outputs": [],
   "source": [
    "a.spectrum.validate(a.spectrum.get())"
   ]
  },
  {
   "cell_type": "markdown",
   "metadata": {},
   "source": [
    "The consistent shapes can be validated explicitly."
   ]
  },
  {
   "cell_type": "code",
   "execution_count": 15,
   "metadata": {},
   "outputs": [],
   "source": [
    "a.spectrum.validate_consistent_shape()"
   ]
  },
  {
   "cell_type": "markdown",
   "metadata": {},
   "source": [
    "We can inspect the setpoints of the spectrum."
   ]
  },
  {
   "cell_type": "code",
   "execution_count": 16,
   "metadata": {},
   "outputs": [
    {
     "data": {
      "text/plain": [
       "(<__main__.GeneratedSetPoints: freq_axis at 140106628662544>,)"
      ]
     },
     "execution_count": 16,
     "metadata": {},
     "output_type": "execute_result"
    }
   ],
   "source": [
    "a.spectrum.setpoints"
   ]
  },
  {
   "cell_type": "markdown",
   "metadata": {},
   "source": [
    "Or even change them."
   ]
  },
  {
   "cell_type": "code",
   "execution_count": 17,
   "metadata": {},
   "outputs": [],
   "source": [
    "a.spectrum.setpoints = (a.freq_axis,)"
   ]
  },
  {
   "cell_type": "markdown",
   "metadata": {},
   "source": [
    "## Measurement"
   ]
  },
  {
   "cell_type": "markdown",
   "metadata": {},
   "source": [
    "We can also directly consume the parameter in a measurement without defining the setpoints of the parameter again. The setpoints are automatically obtained from the definition of the `ParameterWithSetpoint` instance. "
   ]
  },
  {
   "cell_type": "code",
   "execution_count": 18,
   "metadata": {},
   "outputs": [
    {
     "name": "stdout",
     "output_type": "stream",
     "text": [
      "Starting experimental run with id: 1. \n"
     ]
    }
   ],
   "source": [
    "meas = Measurement()\n",
    "meas.register_parameter(a.spectrum)\n",
    "\n",
    "with meas.run() as datasaver:\n",
    "    datasaver.add_result((a.freq_axis, a.freq_axis()),\n",
    "                         (a.spectrum, a.spectrum()))\n",
    "    dataset = datasaver.dataset"
   ]
  },
  {
   "cell_type": "markdown",
   "metadata": {},
   "source": [
    "And plot it"
   ]
  },
  {
   "cell_type": "code",
   "execution_count": 19,
   "metadata": {},
   "outputs": [
    {
     "data": {
      "text/plain": [
       "([<matplotlib.axes._subplots.AxesSubplot at 0x7f6d1f7d7150>], [None])"
      ]
     },
     "execution_count": 19,
     "metadata": {},
     "output_type": "execute_result"
    },
    {
     "data": {
      "image/png": "[encoded data removed]",
      "text/plain": [
       "<Figure size 432x288 with 1 Axes>"
      ]
     },
     "metadata": {
      "needs_background": "light"
     },
     "output_type": "display_data"
    }
   ],
   "source": [
    "plot_dataset(dataset)"
   ]
  },
  {
   "cell_type": "markdown",
   "metadata": {},
   "source": [
    "To reduce the amount of typing a simple convenience function is provided that will take a `ParameterWithSetpoints` and get both its values and the setpoints values and return them as tuples for direct insertion into the Dataset."
   ]
  },
  {
   "cell_type": "code",
   "execution_count": 20,
   "metadata": {
    "scrolled": true
   },
   "outputs": [
    {
     "data": {
      "text/plain": [
       "[(<__main__.GeneratedSetPoints: freq_axis at 140106628662544>,\n",
       "  array([  0.,   1.,   2.,   3.,   4.,   5.,   6.,   7.,   8.,   9.,  10.,\n",
       "          11.,  12.,  13.,  14.,  15.,  16.,  17.,  18.,  19.,  20.,  21.,\n",
       "          22.,  23.,  24.,  25.,  26.,  27.,  28.,  29.,  30.,  31.,  32.,\n",
       "          33.,  34.,  35.,  36.,  37.,  38.,  39.,  40.,  41.,  42.,  43.,\n",
       "          44.,  45.,  46.,  47.,  48.,  49.,  50.,  51.,  52.,  53.,  54.,\n",
       "          55.,  56.,  57.,  58.,  59.,  60.,  61.,  62.,  63.,  64.,  65.,\n",
       "          66.,  67.,  68.,  69.,  70.,  71.,  72.,  73.,  74.,  75.,  76.,\n",
       "          77.,  78.,  79.,  80.,  81.,  82.,  83.,  84.,  85.,  86.,  87.,\n",
       "          88.,  89.,  90.,  91.,  92.,  93.,  94.,  95.,  96.,  97.,  98.,\n",
       "          99., 100., 101., 102., 103., 104., 105., 106., 107., 108., 109.,\n",
       "         110., 111., 112., 113., 114., 115., 116., 117., 118., 119., 120.,\n",
       "         121., 122., 123., 124., 125., 126., 127., 128., 129., 130., 131.,\n",
       "         132., 133., 134., 135., 136., 137., 138., 139., 140., 141., 142.,\n",
       "         143., 144., 145., 146., 147., 148., 149., 150., 151., 152., 153.,\n",
       "         154., 155., 156., 157., 158., 159., 160., 161., 162., 163., 164.,\n",
       "         165., 166., 167., 168., 169., 170., 171., 172., 173., 174., 175.,\n",
       "         176., 177., 178., 179., 180., 181., 182., 183., 184., 185., 186.,\n",
       "         187., 188., 189., 190., 191., 192., 193., 194., 195., 196., 197.,\n",
       "         198., 199., 200., 201., 202., 203., 204., 205., 206., 207., 208.,\n",
       "         209., 210., 211., 212., 213., 214., 215., 216., 217., 218., 219.,\n",
       "         220., 221., 222., 223., 224., 225., 226., 227., 228., 229., 230.,\n",
       "         231., 232., 233., 234., 235., 236., 237., 238., 239., 240., 241.,\n",
       "         242., 243., 244., 245., 246., 247., 248., 249., 250., 251., 252.,\n",
       "         253., 254., 255., 256., 257., 258., 259., 260., 261., 262., 263.,\n",
       "         264., 265., 266., 267., 268., 269., 270., 271., 272., 273., 274.,\n",
       "         275., 276., 277., 278., 279., 280., 281., 282., 283., 284., 285.,\n",
       "         286., 287., 288., 289., 290., 291., 292., 293., 294., 295., 296.,\n",
       "         297., 298., 299., 300., 301., 302., 303., 304., 305., 306., 307.,\n",
       "         308., 309., 310., 311., 312., 313., 314., 315., 316., 317., 318.,\n",
       "         319., 320., 321., 322., 323., 324., 325., 326., 327., 328., 329.,\n",
       "         330., 331., 332., 333., 334., 335., 336., 337., 338., 339., 340.,\n",
       "         341., 342., 343., 344., 345., 346., 347., 348., 349., 350., 351.,\n",
       "         352., 353., 354., 355., 356., 357., 358., 359., 360., 361., 362.,\n",
       "         363., 364., 365., 366., 367., 368., 369., 370., 371., 372., 373.,\n",
       "         374., 375., 376., 377., 378., 379., 380., 381., 382., 383., 384.,\n",
       "         385., 386., 387., 388., 389., 390., 391., 392., 393., 394., 395.,\n",
       "         396., 397., 398., 399., 400., 401., 402., 403., 404., 405., 406.,\n",
       "         407., 408., 409., 410., 411., 412., 413., 414., 415., 416., 417.,\n",
       "         418., 419., 420., 421., 422., 423., 424., 425., 426., 427., 428.,\n",
       "         429., 430., 431., 432., 433., 434., 435., 436., 437., 438., 439.,\n",
       "         440., 441., 442., 443., 444., 445., 446., 447., 448., 449., 450.,\n",
       "         451., 452., 453., 454., 455., 456., 457., 458., 459., 460., 461.,\n",
       "         462., 463., 464., 465., 466., 467., 468., 469., 470., 471., 472.,\n",
       "         473., 474., 475., 476., 477., 478., 479., 480., 481., 482., 483.,\n",
       "         484., 485., 486., 487., 488., 489., 490., 491., 492., 493., 494.,\n",
       "         495., 496., 497., 498., 499., 500.])),\n",
       " (<__main__.DummyArray: spectrum at 140106628662992>,\n",
       "  array([7.69632898e-01, 8.74781968e-01, 3.15256260e-01, 9.99198072e-01,\n",
       "         1.71647986e-01, 6.74664169e-01, 9.58570086e-01, 7.14145607e-01,\n",
       "         1.40178344e-01, 3.63990519e-01, 7.19874715e-01, 5.74247597e-01,\n",
       "         8.45586366e-01, 4.45777730e-01, 8.98919631e-01, 1.34451716e-01,\n",
       "         7.10649174e-01, 6.68539952e-01, 4.22009061e-01, 5.36047108e-01,\n",
       "         8.21747839e-02, 5.71021390e-01, 3.23942818e-01, 2.82330901e-01,\n",
       "         2.87009375e-01, 3.78114163e-01, 6.37370564e-01, 2.15218984e-01,\n",
       "         7.06472891e-01, 7.26016518e-01, 4.76473607e-01, 6.16405321e-02,\n",
       "         9.01958982e-02, 8.75283330e-01, 9.86885850e-01, 2.31286979e-01,\n",
       "         3.72992282e-01, 5.40453915e-01, 9.51558982e-01, 5.62356131e-01,\n",
       "         9.81835270e-01, 8.87345781e-01, 2.42763637e-01, 3.81340917e-01,\n",
       "         7.53943395e-01, 8.25290575e-01, 3.36957743e-01, 2.50557385e-01,\n",
       "         6.26264106e-01, 8.30907909e-01, 2.02818083e-01, 3.71642465e-01,\n",
       "         4.77006921e-01, 3.36099384e-01, 6.88641931e-01, 1.51546591e-01,\n",
       "         4.13215095e-01, 5.60199502e-01, 4.55923528e-01, 1.79982197e-01,\n",
       "         1.11861226e-01, 7.48186304e-03, 6.26254983e-01, 1.43173295e-01,\n",
       "         9.87146160e-01, 4.92048853e-01, 9.68884781e-01, 6.06841497e-01,\n",
       "         2.53871595e-01, 4.68719397e-01, 1.42418998e-01, 1.83636137e-01,\n",
       "         4.06837340e-01, 8.26534706e-01, 1.20324366e-01, 3.81804035e-01,\n",
       "         5.22321545e-01, 3.76414217e-01, 9.60768478e-01, 3.83934658e-01,\n",
       "         4.66258370e-01, 8.15093498e-01, 2.24747706e-01, 7.85418929e-01,\n",
       "         6.39473164e-01, 3.05566261e-01, 9.54078365e-01, 3.32822324e-01,\n",
       "         1.85221139e-01, 7.71172084e-01, 1.31880275e-01, 4.64510055e-01,\n",
       "         6.61043400e-01, 9.07939857e-01, 7.29146836e-01, 3.91947720e-01,\n",
       "         8.54384428e-01, 8.59387097e-01, 6.69222785e-01, 3.18345692e-01,\n",
       "         6.93589620e-01, 4.73635265e-01, 5.06798203e-01, 6.95486330e-01,\n",
       "         1.57684055e-01, 1.08975114e-01, 6.38420444e-01, 5.90148484e-01,\n",
       "         5.88997986e-01, 2.64938870e-01, 9.11945949e-01, 4.43209199e-01,\n",
       "         8.19855158e-01, 7.34233121e-01, 3.68763088e-01, 3.47516050e-01,\n",
       "         6.50422839e-01, 5.78603843e-02, 5.48635061e-01, 8.83076019e-01,\n",
       "         9.62813651e-01, 5.57013906e-01, 7.12053072e-01, 4.48140580e-02,\n",
       "         9.16685165e-01, 8.97030249e-01, 4.40304448e-01, 1.66325185e-01,\n",
       "         4.86476652e-01, 8.82501231e-01, 7.10227500e-01, 4.03124198e-01,\n",
       "         1.40099402e-01, 8.82991600e-01, 4.72471648e-01, 2.60931836e-01,\n",
       "         2.73098290e-01, 1.42666706e-01, 7.67079882e-01, 8.40574235e-01,\n",
       "         5.11898597e-02, 5.49271150e-02, 3.73463894e-01, 2.26743250e-01,\n",
       "         5.83744289e-01, 3.35273595e-01, 9.78644216e-02, 6.70846114e-01,\n",
       "         8.17983098e-01, 3.15028213e-01, 5.23553249e-01, 9.48838112e-01,\n",
       "         8.62312043e-01, 2.22588926e-01, 3.59998978e-01, 2.90980009e-01,\n",
       "         3.52342427e-01, 2.63635909e-01, 9.50656625e-01, 1.32860981e-01,\n",
       "         4.77214215e-01, 6.33529052e-01, 5.18777815e-02, 1.98290410e-02,\n",
       "         4.05679735e-01, 1.21655339e-01, 7.60386376e-01, 4.33980212e-01,\n",
       "         8.07505006e-03, 3.39351672e-01, 1.28502280e-01, 1.85606164e-01,\n",
       "         7.78079276e-01, 6.08341993e-01, 8.06002608e-01, 6.57960971e-01,\n",
       "         6.33936044e-01, 2.65217628e-01, 8.57256357e-01, 3.11306477e-01,\n",
       "         6.17242414e-01, 3.10786920e-01, 7.07762865e-01, 8.86035047e-01,\n",
       "         1.89016877e-01, 4.37314273e-01, 2.40910752e-01, 3.40182658e-01,\n",
       "         5.23924483e-01, 4.13193806e-01, 3.29870238e-01, 6.36438275e-01,\n",
       "         4.09828563e-01, 1.68715835e-01, 7.51576424e-01, 1.84696104e-01,\n",
       "         4.50614884e-01, 1.22103018e-01, 7.49493869e-01, 7.51481585e-01,\n",
       "         4.79826743e-01, 5.84175550e-01, 8.26551389e-01, 1.56476602e-01,\n",
       "         5.27075211e-01, 9.80606550e-01, 7.09331226e-01, 9.40425620e-01,\n",
       "         1.73160442e-03, 1.07922258e-01, 5.12722645e-01, 8.71292402e-01,\n",
       "         6.28633120e-01, 7.00202011e-01, 9.16525210e-01, 8.33742596e-02,\n",
       "         7.68704073e-01, 7.16844256e-01, 3.13038650e-01, 5.38910053e-01,\n",
       "         7.94725383e-01, 6.89890993e-01, 3.04618792e-01, 7.76154131e-01,\n",
       "         5.50234476e-02, 5.82230952e-01, 5.65095886e-01, 3.17595508e-01,\n",
       "         8.13127826e-02, 7.68262062e-01, 1.45425116e-01, 2.58915597e-02,\n",
       "         9.10214119e-01, 1.45523714e-01, 2.00934913e-01, 7.38554165e-01,\n",
       "         3.37891490e-01, 7.99981138e-01, 2.24282810e-01, 6.07051773e-03,\n",
       "         8.82323287e-02, 9.94752409e-01, 2.34608236e-01, 6.50524754e-01,\n",
       "         3.40156742e-01, 4.14459884e-01, 1.60690633e-01, 5.85567356e-01,\n",
       "         4.70762483e-01, 4.98420089e-02, 1.09594608e-01, 9.03043299e-01,\n",
       "         3.27460312e-02, 8.77478414e-01, 2.10846008e-01, 2.02031445e-01,\n",
       "         3.31091948e-01, 3.80803436e-01, 1.84552620e-01, 9.60693804e-01,\n",
       "         8.81936331e-01, 5.40737863e-02, 6.71592129e-01, 4.29017685e-01,\n",
       "         8.53620567e-02, 5.49152844e-01, 3.00600724e-01, 3.09701854e-01,\n",
       "         1.64375247e-01, 9.37104381e-01, 7.88524846e-01, 1.31200589e-01,\n",
       "         4.32156642e-01, 7.28302711e-02, 8.73356711e-01, 2.96679446e-01,\n",
       "         8.49882617e-01, 5.44094548e-01, 7.44275132e-01, 5.84772522e-01,\n",
       "         4.00934224e-02, 1.84409895e-01, 5.72550032e-01, 8.73736312e-01,\n",
       "         5.59312105e-01, 4.07800177e-01, 5.38868700e-01, 4.80862268e-01,\n",
       "         2.53388607e-01, 8.93078793e-01, 2.93082555e-01, 5.64652902e-02,\n",
       "         8.19697643e-01, 7.30429183e-01, 8.19098738e-01, 5.57978614e-01,\n",
       "         9.98708678e-01, 8.31297464e-01, 8.09364926e-01, 7.45531516e-01,\n",
       "         7.41865197e-01, 3.90962188e-02, 8.19909215e-01, 7.31944910e-01,\n",
       "         3.63468459e-01, 4.95514446e-01, 7.05533915e-01, 4.76019067e-01,\n",
       "         5.86621091e-01, 1.65189089e-02, 9.11312121e-01, 1.73924467e-01,\n",
       "         2.88850436e-01, 3.22899841e-01, 3.68220359e-01, 2.12719592e-01,\n",
       "         8.23895791e-01, 4.55734906e-01, 1.11241295e-02, 5.31857272e-04,\n",
       "         4.53624264e-01, 5.65138422e-01, 8.87778011e-01, 1.92293949e-01,\n",
       "         6.07603595e-01, 5.04223382e-01, 6.12479198e-01, 6.10301971e-01,\n",
       "         8.00607839e-01, 4.74517342e-01, 5.25243816e-01, 3.54797284e-01,\n",
       "         4.37336274e-01, 5.64164748e-01, 1.13668284e-01, 7.33967655e-01,\n",
       "         8.95901160e-01, 5.76319322e-03, 2.65977496e-01, 2.57876060e-02,\n",
       "         8.37860782e-01, 8.64152610e-01, 6.93190139e-01, 4.93955550e-01,\n",
       "         7.05808442e-01, 2.75091688e-01, 2.95673857e-02, 4.85056148e-01,\n",
       "         1.51625663e-01, 7.34392720e-01, 4.63650946e-01, 1.62376810e-01,\n",
       "         5.52574999e-01, 1.71342886e-01, 9.08593557e-03, 1.97314846e-01,\n",
       "         2.75014462e-01, 1.82748731e-01, 5.96394866e-01, 8.02274383e-01,\n",
       "         2.46899388e-01, 3.74483140e-01, 1.55500663e-01, 4.70291538e-01,\n",
       "         7.22849643e-01, 8.57459502e-01, 1.52110849e-01, 2.96954279e-01,\n",
       "         8.19625306e-01, 8.45414501e-01, 5.90244305e-01, 1.39341728e-01,\n",
       "         8.50982932e-01, 7.99162665e-01, 6.35576603e-01, 5.62936974e-01,\n",
       "         5.69144304e-01, 2.67208615e-01, 9.99426462e-01, 7.93115939e-01,\n",
       "         8.27507967e-01, 2.93853605e-01, 1.40402850e-01, 2.32943392e-01,\n",
       "         7.32798547e-01, 6.46970144e-01, 3.77384740e-01, 8.22761701e-01,\n",
       "         4.57023461e-01, 2.53920233e-01, 2.33725409e-01, 8.92852209e-01,\n",
       "         1.02196074e-01, 4.40718375e-01, 5.76828345e-01, 9.59302994e-01,\n",
       "         8.24757845e-01, 8.00794798e-01, 6.87379936e-01, 4.95830244e-01,\n",
       "         9.87564448e-01, 5.53667627e-01, 6.12434126e-01, 1.26223660e-01,\n",
       "         6.17466870e-02, 6.91760916e-01, 3.01110238e-01, 9.57523674e-01,\n",
       "         2.93385182e-01, 9.05741902e-01, 2.60269808e-01, 8.90782965e-01,\n",
       "         7.28138483e-01, 3.28143234e-01, 1.44796566e-01, 3.04477781e-02,\n",
       "         4.00319885e-01, 8.54906944e-01, 7.49787676e-01, 2.85170260e-01,\n",
       "         2.03034170e-01, 1.65005938e-01, 4.15855744e-01, 6.11542339e-01,\n",
       "         8.37544687e-01, 7.69542904e-01, 8.30044203e-01, 4.12536505e-02,\n",
       "         4.95522101e-01, 8.50745558e-01, 5.33863017e-01, 4.92154176e-01,\n",
       "         8.88766609e-01, 9.48279195e-01, 3.35569811e-01, 1.12496433e-01,\n",
       "         9.11797974e-01, 5.93125849e-01, 8.82286524e-01, 2.54778598e-02,\n",
       "         3.51492360e-01, 2.87625679e-02, 4.72605560e-01, 2.30224027e-01,\n",
       "         7.18991866e-01, 1.73626501e-01, 2.17021416e-01, 1.57005002e-02,\n",
       "         1.55152212e-01, 6.89434405e-02, 3.66528454e-02, 3.77537819e-02,\n",
       "         6.19874682e-01, 2.65283785e-01, 1.87603902e-01, 5.17046873e-01,\n",
       "         4.52881109e-01, 5.83953360e-01, 2.61314267e-01, 5.92420385e-01,\n",
       "         7.59503653e-01, 5.00575689e-01, 9.76318865e-01, 5.26956635e-01,\n",
       "         2.27893895e-01, 3.03638682e-01, 3.40778459e-01, 8.25524290e-01,\n",
       "         7.15024196e-01, 2.07729107e-01, 7.05411896e-01, 8.55025990e-01,\n",
       "         9.20000656e-01, 5.14263352e-01, 6.17554492e-01, 6.25501730e-01,\n",
       "         1.87975631e-01, 6.85083870e-01, 6.23443805e-01, 3.10554563e-01,\n",
       "         6.93817421e-01, 4.53148104e-01, 6.20391397e-01, 8.75891434e-01,\n",
       "         4.53755783e-01, 5.27090163e-01, 5.37390665e-01, 8.14578265e-01,\n",
       "         4.08787260e-02, 3.66496587e-01, 4.54582857e-01, 7.94478646e-02,\n",
       "         1.80857980e-02, 8.97249065e-01, 2.43962458e-01, 3.77148722e-01,\n",
       "         9.49546254e-01, 1.74633014e-01, 4.22942883e-01, 8.39276478e-01,\n",
       "         1.42873697e-01]))]"
      ]
     },
     "execution_count": 20,
     "metadata": {},
     "output_type": "execute_result"
    }
   ],
   "source": [
    "expand_setpoints_helper(a.spectrum)"
   ]
  },
  {
   "cell_type": "code",
   "execution_count": 21,
   "metadata": {},
   "outputs": [
    {
     "name": "stdout",
     "output_type": "stream",
     "text": [
      "Starting experimental run with id: 2. \n"
     ]
    }
   ],
   "source": [
    "meas = Measurement()\n",
    "meas.register_parameter(a.spectrum)\n",
    "\n",
    "with meas.run() as datasaver:\n",
    "    datasaver.add_result(*expand_setpoints_helper(a.spectrum))\n",
    "    \n",
    "    dataid = datasaver.run_id"
   ]
  },
  {
   "cell_type": "code",
   "execution_count": null,
   "metadata": {},
   "outputs": [],
   "source": []
  }
 ],
 "metadata": {
  "kernelspec": {
   "display_name": "Python 3",
   "language": "python",
   "name": "python3"
  },
  "language_info": {
   "codemirror_mode": {
    "name": "ipython",
    "version": 3
   },
   "file_extension": ".py",
   "mimetype": "text/x-python",
   "name": "python",
   "nbconvert_exporter": "python",
   "pygments_lexer": "ipython3",
   "version": "3.7.5"
  },
  "toc": {
   "base_numbering": 1,
   "nav_menu": {},
   "number_sections": true,
   "sideBar": true,
   "skip_h1_title": false,
   "title_cell": "Table of Contents",
   "title_sidebar": "Contents",
   "toc_cell": false,
   "toc_position": {},
   "toc_section_display": true,
   "toc_window_display": false
  },
  "varInspector": {
   "cols": {
    "lenName": 16,
    "lenType": 16,
    "lenVar": 40
   },
   "kernels_config": {
    "python": {
     "delete_cmd_postfix": "",
     "delete_cmd_prefix": "del ",
     "library": "var_list.py",
     "varRefreshCmd": "print(var_dic_list())"
    },
    "r": {
     "delete_cmd_postfix": ") ",
     "delete_cmd_prefix": "rm(",
     "library": "var_list.r",
     "varRefreshCmd": "cat(var_dic_list()) "
    }
   },
   "types_to_exclude": [
    "module",
    "function",
    "builtin_function_or_method",
    "instance",
    "_Feature"
   ],
   "window_display": false
  }
 },
 "nbformat": 4,
 "nbformat_minor": 2
}
