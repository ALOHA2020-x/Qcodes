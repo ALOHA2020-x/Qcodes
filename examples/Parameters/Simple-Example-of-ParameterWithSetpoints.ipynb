{
 "cells": [
  {
   "cell_type": "markdown",
   "metadata": {},
   "source": [
    "# Simple Example of ParameterWithSetpoints\n",
    "This notebook provides an example for writing a simple driver with a parameter that has setpoints. Let's name this parameter that has setpoints as \"y\". Then, the setpoints, say \"x1, x2, x3 ..\", are the parameters on which the parameter \n",
    "\"y\" depends upon. Meaning \"y\" is a function of \"x1, x2, x3 ...\" where \"x1, x2, x3 ...\" are known as the setpoints of parameter \"y\".\n",
    "\n",
    "This is most likely to be useful for instruments that return arrays of results. In this notebook, we will show an example of this."
   ]
  },
  {
   "cell_type": "code",
   "execution_count": 1,
   "metadata": {
    "execution": {
     "iopub.execute_input": "2021-02-19T18:23:11.136342Z",
     "iopub.status.busy": "2021-02-19T18:23:11.135792Z",
     "iopub.status.idle": "2021-02-19T18:23:11.219927Z",
     "shell.execute_reply": "2021-02-19T18:23:11.220858Z"
    }
   },
   "outputs": [],
   "source": [
    "import numpy as np\n",
    "import os"
   ]
  },
  {
   "cell_type": "code",
   "execution_count": 2,
   "metadata": {
    "execution": {
     "iopub.execute_input": "2021-02-19T18:23:11.224826Z",
     "iopub.status.busy": "2021-02-19T18:23:11.223642Z",
     "iopub.status.idle": "2021-02-19T18:23:12.432815Z",
     "shell.execute_reply": "2021-02-19T18:23:12.432256Z"
    }
   },
   "outputs": [
    {
     "name": "stdout",
     "output_type": "stream",
     "text": [
      "Logging hadn't been started.\n",
      "Activating auto-logging. Current session state plus future input saved.\n",
      "Filename       : /home/runner/.qcodes/logs/command_history.log\n",
      "Mode           : append\n",
      "Output logging : True\n",
      "Raw input log  : False\n",
      "Timestamping   : True\n",
      "State          : active\n"
     ]
    },
    {
     "name": "stdout",
     "output_type": "stream",
     "text": [
      "Qcodes Logfile : /home/runner/.qcodes/logs/210219-5608-qcodes.log\n"
     ]
    }
   ],
   "source": [
    "from qcodes.dataset.plotting import plot_dataset\n",
    "from qcodes.utils.validators import Numbers, Arrays\n",
    "from qcodes.instrument.base import Instrument\n",
    "from qcodes.dataset.measurements import Measurement"
   ]
  },
  {
   "cell_type": "code",
   "execution_count": 3,
   "metadata": {
    "execution": {
     "iopub.execute_input": "2021-02-19T18:23:12.444057Z",
     "iopub.status.busy": "2021-02-19T18:23:12.437629Z",
     "iopub.status.idle": "2021-02-19T18:23:12.447632Z",
     "shell.execute_reply": "2021-02-19T18:23:12.448277Z"
    }
   },
   "outputs": [],
   "source": [
    "from qcodes.dataset.sqlite.database import initialise_or_create_database_at\n",
    "from qcodes.dataset.experiment_container import load_or_create_experiment"
   ]
  },
  {
   "cell_type": "code",
   "execution_count": 4,
   "metadata": {
    "execution": {
     "iopub.execute_input": "2021-02-19T18:23:12.454439Z",
     "iopub.status.busy": "2021-02-19T18:23:12.453542Z",
     "iopub.status.idle": "2021-02-19T18:23:12.460494Z",
     "shell.execute_reply": "2021-02-19T18:23:12.457413Z"
    }
   },
   "outputs": [],
   "source": [
    "from qcodes.instrument.parameter import ParameterWithSetpoints, Parameter"
   ]
  },
  {
   "cell_type": "markdown",
   "metadata": {},
   "source": [
    "First, we define a dummy instrument that returns something like a frequency spectrum starting from a frequency given by `f_start` to a frequency given by `f_stop` in `n_points` steps. \n",
    "\n",
    "The extra functionality of the `ParameterWithSetpoints` is implemented by giving it a reference to one or more parameters that acts like its setpoints. \n",
    "\n",
    "To setup a `ParameterWithSetpoints` we have to do two things in addition to what we do for a normal parameter.\n",
    "\n",
    "* Define one or more parameter for the setpoints (one for each dimension of the array and let the `ParameterWithSetpoints` know that these are the setpoints.\n",
    "* Give both the setpoints parameter(s) and the `ParameterWithSetpoints` a `validator` of type `Arrays` with a shape. The shapes should be such that the combined shape of the setpoints matches the shape of the `ParameterWithSetpoints`. Note that if the shape changes with the setting of the instrument, it can be defined by another parameter as shown below. "
   ]
  },
  {
   "cell_type": "code",
   "execution_count": 5,
   "metadata": {
    "execution": {
     "iopub.execute_input": "2021-02-19T18:23:12.473681Z",
     "iopub.status.busy": "2021-02-19T18:23:12.471468Z",
     "iopub.status.idle": "2021-02-19T18:23:12.476324Z",
     "shell.execute_reply": "2021-02-19T18:23:12.475832Z"
    }
   },
   "outputs": [],
   "source": [
    "class GeneratedSetPoints(Parameter):\n",
    "    \"\"\"\n",
    "    A parameter that generates a setpoint array from start, stop and num points\n",
    "    parameters.\n",
    "    \"\"\"\n",
    "    def __init__(self, startparam, stopparam, numpointsparam, *args, **kwargs):\n",
    "        super().__init__(*args, **kwargs)\n",
    "        self._startparam = startparam\n",
    "        self._stopparam = stopparam\n",
    "        self._numpointsparam = numpointsparam\n",
    "\n",
    "    def get_raw(self):\n",
    "        return np.linspace(self._startparam(), self._stopparam(),\n",
    "                              self._numpointsparam())\n",
    "\n",
    "class DummyArray(ParameterWithSetpoints):\n",
    "    \n",
    "    def get_raw(self):\n",
    "        npoints = self.root_instrument.n_points.get_latest()\n",
    "        return np.random.rand(npoints)\n",
    "    \n",
    "\n",
    "class DummySpectrumAnalyzer(Instrument):\n",
    "    \n",
    "    def __init__(self, name, **kwargs):\n",
    "        \n",
    "        super().__init__(name, **kwargs)\n",
    "            \n",
    "\n",
    "        self.add_parameter('f_start',\n",
    "                           initial_value=0,\n",
    "                           unit='Hz',\n",
    "                           label='f start',\n",
    "                           vals=Numbers(0,1e3),\n",
    "                           get_cmd=None,\n",
    "                           set_cmd=None)\n",
    "\n",
    "        self.add_parameter('f_stop',\n",
    "                           unit='Hz',\n",
    "                           label='f stop',\n",
    "                           vals=Numbers(1,1e3),\n",
    "                           get_cmd=None,\n",
    "                           set_cmd=None)\n",
    "\n",
    "        self.add_parameter('n_points',\n",
    "                           unit='',\n",
    "                           initial_value=10,\n",
    "                           vals=Numbers(1,1e3),\n",
    "                           get_cmd=None,\n",
    "                           set_cmd=None)\n",
    "        \n",
    "        self.add_parameter('freq_axis',\n",
    "                           unit='Hz',\n",
    "                           label='Freq Axis',\n",
    "                           parameter_class=GeneratedSetPoints,\n",
    "                           startparam=self.f_start,\n",
    "                           stopparam=self.f_stop,\n",
    "                           numpointsparam=self.n_points,\n",
    "                           vals=Arrays(shape=(self.n_points.get_latest,)))\n",
    "                           \n",
    "        self.add_parameter('spectrum',\n",
    "                   unit='dBm',\n",
    "                   setpoints=(self.freq_axis,),\n",
    "                   label='Spectrum',\n",
    "                   parameter_class=DummyArray,\n",
    "                   vals=Arrays(shape=(self.n_points.get_latest,)))\n",
    "                "
   ]
  },
  {
   "cell_type": "markdown",
   "metadata": {},
   "source": [
    "In the above example, the shape is defined by the parameter `n_points` that defines how many samples our `DummySpectrumAnalyzer` returns.\n",
    "\n",
    "This means that the validation will call the function to get `n_points` twice for each `get` of the parameter. This may be too slow, however, if you (as the driver-writer) can guarantee that the cached value for `n_points` will never be out of sync with the value stored in the instrument, `n_points` may be replaced by it's latest known value such that the `validator` reads:\n",
    "```python\n",
    "vals=Arrays(shape=(self.n_points.get_latest))\n",
    "```\n",
    "\n",
    "This avoids any additional call to the instrument. In the same way, the arguments to the `freq_axis` parameter that defines the start, stop and number of points can be replaced by their latest value if the instrument allows it.\n",
    "\n"
   ]
  },
  {
   "cell_type": "code",
   "execution_count": 6,
   "metadata": {
    "execution": {
     "iopub.execute_input": "2021-02-19T18:23:12.480519Z",
     "iopub.status.busy": "2021-02-19T18:23:12.479982Z",
     "iopub.status.idle": "2021-02-19T18:23:12.492045Z",
     "shell.execute_reply": "2021-02-19T18:23:12.492469Z"
    }
   },
   "outputs": [
    {
     "data": {
      "text/plain": [
       "tutorial_ParameterWithSetpoints#no sample#1@/home/runner/work/Qcodes/Qcodes/docs/examples/Parameters/tutorial_paramter_with_setpoints.db\n",
       "----------------------------------------------------------------------------------------------------------------------------------------\n",
       "1-results-1-dmm_setpoints,dmm_current-1\n",
       "2-results-2-dmm_setpoints,dmm_current-1\n",
       "3-results-3-dmm_setpoints,dmm_current-1"
      ]
     },
     "execution_count": 1,
     "metadata": {},
     "output_type": "execute_result"
    }
   ],
   "source": [
    "tutorial_db_path = os.path.join(os.getcwd(), 'tutorial_paramter_with_setpoints.db')\n",
    "initialise_or_create_database_at(tutorial_db_path)\n",
    "load_or_create_experiment(experiment_name='tutorial_ParameterWithSetpoints', sample_name=\"no sample\")"
   ]
  },
  {
   "cell_type": "code",
   "execution_count": 7,
   "metadata": {
    "execution": {
     "iopub.execute_input": "2021-02-19T18:23:12.498715Z",
     "iopub.status.busy": "2021-02-19T18:23:12.497168Z",
     "iopub.status.idle": "2021-02-19T18:23:12.499348Z",
     "shell.execute_reply": "2021-02-19T18:23:12.499817Z"
    }
   },
   "outputs": [],
   "source": [
    "a = DummySpectrumAnalyzer('foobar')"
   ]
  },
  {
   "cell_type": "markdown",
   "metadata": {},
   "source": [
    "First we setup the limits of the spectrum"
   ]
  },
  {
   "cell_type": "code",
   "execution_count": 8,
   "metadata": {
    "execution": {
     "iopub.execute_input": "2021-02-19T18:23:12.504913Z",
     "iopub.status.busy": "2021-02-19T18:23:12.503648Z",
     "iopub.status.idle": "2021-02-19T18:23:12.505644Z",
     "shell.execute_reply": "2021-02-19T18:23:12.506091Z"
    }
   },
   "outputs": [],
   "source": [
    "a.f_start(0)\n",
    "a.f_stop(500)\n",
    "a.n_points(501)"
   ]
  },
  {
   "cell_type": "markdown",
   "metadata": {},
   "source": [
    "And we can grab the frequency axis"
   ]
  },
  {
   "cell_type": "code",
   "execution_count": 9,
   "metadata": {
    "execution": {
     "iopub.execute_input": "2021-02-19T18:23:12.510947Z",
     "iopub.status.busy": "2021-02-19T18:23:12.510373Z",
     "iopub.status.idle": "2021-02-19T18:23:12.513739Z",
     "shell.execute_reply": "2021-02-19T18:23:12.514547Z"
    }
   },
   "outputs": [
    {
     "data": {
      "text/plain": [
       "501"
      ]
     },
     "execution_count": 1,
     "metadata": {},
     "output_type": "execute_result"
    }
   ],
   "source": [
    "a.n_points()"
   ]
  },
  {
   "cell_type": "code",
   "execution_count": 10,
   "metadata": {
    "execution": {
     "iopub.execute_input": "2021-02-19T18:23:12.519597Z",
     "iopub.status.busy": "2021-02-19T18:23:12.517348Z",
     "iopub.status.idle": "2021-02-19T18:23:12.521747Z",
     "shell.execute_reply": "2021-02-19T18:23:12.522195Z"
    },
    "scrolled": false
   },
   "outputs": [
    {
     "data": {
      "text/plain": [
       "501"
      ]
     },
     "execution_count": 1,
     "metadata": {},
     "output_type": "execute_result"
    }
   ],
   "source": [
    "freq_axis = a.freq_axis()\n",
    "len(freq_axis)"
   ]
  },
  {
   "cell_type": "code",
   "execution_count": 11,
   "metadata": {
    "execution": {
     "iopub.execute_input": "2021-02-19T18:23:12.527349Z",
     "iopub.status.busy": "2021-02-19T18:23:12.526793Z",
     "iopub.status.idle": "2021-02-19T18:23:12.529759Z",
     "shell.execute_reply": "2021-02-19T18:23:12.530206Z"
    }
   },
   "outputs": [
    {
     "data": {
      "text/plain": [
       "array([0., 1., 2., 3., 4., 5., 6., 7., 8., 9.])"
      ]
     },
     "execution_count": 1,
     "metadata": {},
     "output_type": "execute_result"
    }
   ],
   "source": [
    "freq_axis[:10]"
   ]
  },
  {
   "cell_type": "markdown",
   "metadata": {},
   "source": [
    "As expected we get a result wit 501 points as we asked for an axis with 501 points. "
   ]
  },
  {
   "cell_type": "markdown",
   "metadata": {},
   "source": [
    "Above we have added a validator to the `freq_axis` parameter encoding the fact that this is an Array with `n_points`. Note that we do not have to supply the number of points as an integer but can supply a function that returns the valid number of points. This would normally be a QCoDeS parameter.\n",
    "\n",
    "This will be checked if we validate the output."
   ]
  },
  {
   "cell_type": "code",
   "execution_count": 12,
   "metadata": {
    "execution": {
     "iopub.execute_input": "2021-02-19T18:23:12.535559Z",
     "iopub.status.busy": "2021-02-19T18:23:12.534565Z",
     "iopub.status.idle": "2021-02-19T18:23:12.536969Z",
     "shell.execute_reply": "2021-02-19T18:23:12.536510Z"
    }
   },
   "outputs": [],
   "source": [
    "a.freq_axis.validate(a.freq_axis.get())"
   ]
  },
  {
   "cell_type": "markdown",
   "metadata": {},
   "source": [
    "Naturally, we can also get the spectrum. Getting the spectrum will automatically perform validation both for the shape of the parameter itself and the relation to the setpoint parameter(s)"
   ]
  },
  {
   "cell_type": "code",
   "execution_count": 13,
   "metadata": {
    "execution": {
     "iopub.execute_input": "2021-02-19T18:23:12.541668Z",
     "iopub.status.busy": "2021-02-19T18:23:12.540142Z",
     "iopub.status.idle": "2021-02-19T18:23:12.544038Z",
     "shell.execute_reply": "2021-02-19T18:23:12.544835Z"
    },
    "scrolled": true
   },
   "outputs": [
    {
     "data": {
      "text/plain": [
       "501"
      ]
     },
     "execution_count": 1,
     "metadata": {},
     "output_type": "execute_result"
    }
   ],
   "source": [
    "spectrum = a.spectrum.get()\n",
    "len(spectrum)"
   ]
  },
  {
   "cell_type": "markdown",
   "metadata": {},
   "source": [
    "When we validate a `ParameterWithSetpoints`, we automatically validate that the shape is consistent between the parameters and its setpoints. As well as validating the shape as above."
   ]
  },
  {
   "cell_type": "code",
   "execution_count": 14,
   "metadata": {
    "execution": {
     "iopub.execute_input": "2021-02-19T18:23:12.550048Z",
     "iopub.status.busy": "2021-02-19T18:23:12.549082Z",
     "iopub.status.idle": "2021-02-19T18:23:12.551343Z",
     "shell.execute_reply": "2021-02-19T18:23:12.551905Z"
    }
   },
   "outputs": [],
   "source": [
    "a.spectrum.validate(a.spectrum.get())"
   ]
  },
  {
   "cell_type": "markdown",
   "metadata": {},
   "source": [
    "The consistent shapes can be validated explicitly."
   ]
  },
  {
   "cell_type": "code",
   "execution_count": 15,
   "metadata": {
    "execution": {
     "iopub.execute_input": "2021-02-19T18:23:12.556436Z",
     "iopub.status.busy": "2021-02-19T18:23:12.555452Z",
     "iopub.status.idle": "2021-02-19T18:23:12.557426Z",
     "shell.execute_reply": "2021-02-19T18:23:12.557856Z"
    }
   },
   "outputs": [],
   "source": [
    "a.spectrum.validate_consistent_shape()"
   ]
  },
  {
   "cell_type": "markdown",
   "metadata": {},
   "source": [
    "We can inspect the setpoints of the spectrum."
   ]
  },
  {
   "cell_type": "code",
   "execution_count": 16,
   "metadata": {
    "execution": {
     "iopub.execute_input": "2021-02-19T18:23:12.562832Z",
     "iopub.status.busy": "2021-02-19T18:23:12.562259Z",
     "iopub.status.idle": "2021-02-19T18:23:12.564999Z",
     "shell.execute_reply": "2021-02-19T18:23:12.565451Z"
    }
   },
   "outputs": [
    {
     "data": {
      "text/plain": [
       "(<__main__.GeneratedSetPoints: freq_axis at 140712458177424>,)"
      ]
     },
     "execution_count": 1,
     "metadata": {},
     "output_type": "execute_result"
    }
   ],
   "source": [
    "a.spectrum.setpoints"
   ]
  },
  {
   "cell_type": "markdown",
   "metadata": {},
   "source": [
    "Or even change them."
   ]
  },
  {
   "cell_type": "code",
   "execution_count": 17,
   "metadata": {
    "execution": {
     "iopub.execute_input": "2021-02-19T18:23:12.570059Z",
     "iopub.status.busy": "2021-02-19T18:23:12.568902Z",
     "iopub.status.idle": "2021-02-19T18:23:12.570793Z",
     "shell.execute_reply": "2021-02-19T18:23:12.571247Z"
    }
   },
   "outputs": [],
   "source": [
    "a.spectrum.setpoints = (a.freq_axis,)"
   ]
  },
  {
   "cell_type": "markdown",
   "metadata": {},
   "source": [
    "## Measurement"
   ]
  },
  {
   "cell_type": "markdown",
   "metadata": {},
   "source": [
    "We can also directly consume the parameter in a measurement without defining the setpoints of the parameter again. The setpoints are automatically obtained from the definition of the `ParameterWithSetpoint` instance. "
   ]
  },
  {
   "cell_type": "code",
   "execution_count": 18,
   "metadata": {
    "execution": {
     "iopub.execute_input": "2021-02-19T18:23:12.577576Z",
     "iopub.status.busy": "2021-02-19T18:23:12.576983Z",
     "iopub.status.idle": "2021-02-19T18:23:12.602097Z",
     "shell.execute_reply": "2021-02-19T18:23:12.601479Z"
    }
   },
   "outputs": [
    {
     "name": "stdout",
     "output_type": "stream",
     "text": [
      "Starting experimental run with id: 4. \n"
     ]
    }
   ],
   "source": [
    "meas = Measurement()\n",
    "meas.register_parameter(a.spectrum)\n",
    "\n",
    "with meas.run() as datasaver:\n",
    "    datasaver.add_result((a.freq_axis, a.freq_axis()),\n",
    "                         (a.spectrum, a.spectrum()))\n",
    "    dataset = datasaver.dataset"
   ]
  },
  {
   "cell_type": "markdown",
   "metadata": {},
   "source": [
    "And plot it"
   ]
  },
  {
   "cell_type": "code",
   "execution_count": 19,
   "metadata": {
    "execution": {
     "iopub.execute_input": "2021-02-19T18:23:12.606244Z",
     "iopub.status.busy": "2021-02-19T18:23:12.605704Z",
     "iopub.status.idle": "2021-02-19T18:23:13.038054Z",
     "shell.execute_reply": "2021-02-19T18:23:13.038532Z"
    }
   },
   "outputs": [
    {
     "data": {
      "text/plain": [
       "([<AxesSubplot:title={'center':'Run #4, Experiment tutorial_ParameterWithSetpoints (no sample)'}, xlabel='Freq Axis (Hz)', ylabel='Spectrum ($10^{-3}$ dBm)'>],\n",
       " [None])"
      ]
     },
     "execution_count": 1,
     "metadata": {},
     "output_type": "execute_result"
    },
    {
     "data": {
      "image/png": "[encoded data removed]",
      "text/plain": [
       "<Figure size 432x288 with 1 Axes>"
      ]
     },
     "metadata": {
      "needs_background": "light"
     },
     "output_type": "display_data"
    }
   ],
   "source": [
    "plot_dataset(dataset)"
   ]
  },
  {
   "cell_type": "markdown",
   "metadata": {},
   "source": [
    "To reduce the amount of typing, if a `ParameterWithSetpoints` is given without its setpoints, the setpoints will be fetched automatically, ``get`` will be called on them, and the obtained data will be added to the results."
   ]
  },
  {
   "cell_type": "markdown",
   "metadata": {},
   "source": [
    "Note that it is an error to supply values for some but not all of the setpoints."
   ]
  },
  {
   "cell_type": "markdown",
   "metadata": {},
   "source": [
    "## Measure a ParameterWithSetpoints while sweeping another parameter"
   ]
  },
  {
   "cell_type": "markdown",
   "metadata": {},
   "source": [
    "First we add another parameter. This parameter will just serve the example of having something to sweep \n",
    "that is not directly connected to the spectrum."
   ]
  },
  {
   "cell_type": "code",
   "execution_count": 20,
   "metadata": {
    "execution": {
     "iopub.execute_input": "2021-02-19T18:23:13.044503Z",
     "iopub.status.busy": "2021-02-19T18:23:13.042917Z",
     "iopub.status.idle": "2021-02-19T18:23:13.045174Z",
     "shell.execute_reply": "2021-02-19T18:23:13.045623Z"
    }
   },
   "outputs": [],
   "source": [
    "a.add_parameter('external_param', set_cmd=None)"
   ]
  },
  {
   "cell_type": "markdown",
   "metadata": {},
   "source": [
    "Now we can sweep the external parameter and measure the parameter with setpoints at each step."
   ]
  },
  {
   "cell_type": "code",
   "execution_count": 21,
   "metadata": {
    "execution": {
     "iopub.execute_input": "2021-02-19T18:23:13.051809Z",
     "iopub.status.busy": "2021-02-19T18:23:13.050934Z",
     "iopub.status.idle": "2021-02-19T18:23:13.336569Z",
     "shell.execute_reply": "2021-02-19T18:23:13.336039Z"
    },
    "scrolled": false
   },
   "outputs": [
    {
     "name": "stdout",
     "output_type": "stream",
     "text": [
      "Starting experimental run with id: 5. \n"
     ]
    },
    {
     "data": {
      "text/plain": [
       "([<AxesSubplot:title={'center':'Run #5, Experiment tutorial_ParameterWithSetpoints (no sample)'}, xlabel='external_param', ylabel='Freq Axis (Hz)'>],\n",
       " [<matplotlib.colorbar.Colorbar at 0x7ffa2bf11d50>])"
      ]
     },
     "execution_count": 1,
     "metadata": {},
     "output_type": "execute_result"
    },
    {
     "data": {
      "image/png": "[encoded data removed]",
      "text/plain": [
       "<Figure size 432x288 with 2 Axes>"
      ]
     },
     "metadata": {
      "needs_background": "light"
     },
     "output_type": "display_data"
    }
   ],
   "source": [
    "meas = Measurement()\n",
    "meas.register_parameter(a.external_param)\n",
    "meas.register_parameter(a.spectrum, setpoints=(a.external_param, ))\n",
    "\n",
    "with meas.run() as datasaver:\n",
    "    for b in np.linspace(0,10, 11):\n",
    "        a.external_param(b)\n",
    "        datasaver.add_result(\n",
    "            (a.external_param, b),\n",
    "            (a.spectrum, a.spectrum.get())\n",
    "        )\n",
    "    dataid = datasaver.run_id\n",
    "\n",
    "plot_dataset(datasaver.dataset)"
   ]
  }
 ],
 "metadata": {
  "kernelspec": {
   "display_name": "Python 3",
   "language": "python",
   "name": "python3"
  },
  "language_info": {
   "codemirror_mode": {
    "name": "ipython",
    "version": 3
   },
   "file_extension": ".py",
   "mimetype": "text/x-python",
   "name": "python",
   "nbconvert_exporter": "python",
   "pygments_lexer": "ipython3",
   "version": "3.7.9"
  },
  "toc": {
   "base_numbering": 1,
   "nav_menu": {},
   "number_sections": true,
   "sideBar": true,
   "skip_h1_title": false,
   "title_cell": "Table of Contents",
   "title_sidebar": "Contents",
   "toc_cell": false,
   "toc_position": {},
   "toc_section_display": true,
   "toc_window_display": false
  },
  "varInspector": {
   "cols": {
    "lenName": 16,
    "lenType": 16,
    "lenVar": 40
   },
   "kernels_config": {
    "python": {
     "delete_cmd_postfix": "",
     "delete_cmd_prefix": "del ",
     "library": "var_list.py",
     "varRefreshCmd": "print(var_dic_list())"
    },
    "r": {
     "delete_cmd_postfix": ") ",
     "delete_cmd_prefix": "rm(",
     "library": "var_list.r",
     "varRefreshCmd": "cat(var_dic_list()) "
    }
   },
   "types_to_exclude": [
    "module",
    "function",
    "builtin_function_or_method",
    "instance",
    "_Feature"
   ],
   "window_display": false
  }
 },
 "nbformat": 4,
 "nbformat_minor": 2
}
