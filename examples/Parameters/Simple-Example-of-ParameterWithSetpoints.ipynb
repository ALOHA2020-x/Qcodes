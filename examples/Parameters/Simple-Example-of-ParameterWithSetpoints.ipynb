{
 "cells": [
  {
   "cell_type": "markdown",
   "metadata": {},
   "source": [
    "# Simple Example of ParameterWithSetpoints\n",
    "This notebook provides an example for writing a simple driver with a parameter that has setpoints. Let's name this parameter that has setpoints as \"y\". Then, the setpoints, say \"x1, x2, x3 ..\", are the parameters on which the parameter \n",
    "\"y\" depends upon. Meaning \"y\" is a function of \"x1, x2, x3 ...\" where \"x1, x2, x3 ...\" are known as the setpoints of parameter \"y\".\n",
    "\n",
    "This is most likely to be useful for instruments that return arrays of results. In this notebook, we will show an example of this."
   ]
  },
  {
   "cell_type": "code",
   "execution_count": 1,
   "metadata": {},
   "outputs": [],
   "source": [
    "import numpy as np\n",
    "import os"
   ]
  },
  {
   "cell_type": "code",
   "execution_count": 2,
   "metadata": {},
   "outputs": [
    {
     "name": "stdout",
     "output_type": "stream",
     "text": [
      "Logging hadn't been started.\n",
      "Activating auto-logging. Current session state plus future input saved.\n",
      "Filename       : /home/vsts/.qcodes/logs/command_history.log\n",
      "Mode           : append\n",
      "Output logging : True\n",
      "Raw input log  : False\n",
      "Timestamping   : True\n",
      "State          : active\n"
     ]
    },
    {
     "name": "stdout",
     "output_type": "stream",
     "text": [
      "Qcodes Logfile : /home/vsts/.qcodes/logs/200713-21667-qcodes.log\n"
     ]
    }
   ],
   "source": [
    "from qcodes.dataset.plotting import plot_dataset\n",
    "from qcodes.utils.validators import Numbers, Arrays\n",
    "from qcodes.instrument.base import Instrument\n",
    "from qcodes.dataset.measurements import Measurement"
   ]
  },
  {
   "cell_type": "code",
   "execution_count": 3,
   "metadata": {},
   "outputs": [],
   "source": [
    "from qcodes.dataset.sqlite.database import initialise_or_create_database_at\n",
    "from qcodes.dataset.experiment_container import load_or_create_experiment"
   ]
  },
  {
   "cell_type": "code",
   "execution_count": 4,
   "metadata": {},
   "outputs": [],
   "source": [
    "from qcodes.instrument.parameter import ParameterWithSetpoints, Parameter\n",
    "from qcodes.instrument.parameter import expand_setpoints_helper"
   ]
  },
  {
   "cell_type": "markdown",
   "metadata": {},
   "source": [
    "First, we define a dummy instrument that returns something like a frequency spectrum starting from a frequency given by `f_start` to a frequency given by `f_stop` in `n_points` steps. \n",
    "\n",
    "The extra functionality of the `ParameterWithSetpoints` is implemented by giving it a reference to one or more parameters that acts like its setpoints. \n",
    "\n",
    "To setup a `ParameterWithSetpoints` we have to do two things in addition to what we do for a normal parameter.\n",
    "\n",
    "* Define one or more parameter for the setpoints (one for each dimension of the array and let the `ParameterWithSetpoints` know that these are the setpoints.\n",
    "* Give both the setpoints parameter(s) and the `ParameterWithSetpoints` a `validator` of type `Arrays` with a shape. The shapes should be such that the combined shape of the setpoints matches the shape of the `ParameterWithSetpoints`. Note that if the shape changes with the setting of the instrument, it can be defined by another parameter as shown below. "
   ]
  },
  {
   "cell_type": "code",
   "execution_count": 5,
   "metadata": {},
   "outputs": [],
   "source": [
    "class GeneratedSetPoints(Parameter):\n",
    "    \"\"\"\n",
    "    A parameter that generates a setpoint array from start, stop and num points\n",
    "    parameters.\n",
    "    \"\"\"\n",
    "    def __init__(self, startparam, stopparam, numpointsparam, *args, **kwargs):\n",
    "        super().__init__(*args, **kwargs)\n",
    "        self._startparam = startparam\n",
    "        self._stopparam = stopparam\n",
    "        self._numpointsparam = numpointsparam\n",
    "\n",
    "    def get_raw(self):\n",
    "        return np.linspace(self._startparam(), self._stopparam(),\n",
    "                              self._numpointsparam())\n",
    "\n",
    "class DummyArray(ParameterWithSetpoints):\n",
    "    \n",
    "    def get_raw(self):\n",
    "        npoints = self.root_instrument.n_points.get_latest()\n",
    "        return np.random.rand(npoints)\n",
    "    \n",
    "\n",
    "class DummySpectrumAnalyzer(Instrument):\n",
    "    \n",
    "    def __init__(self, name, **kwargs):\n",
    "        \n",
    "        super().__init__(name, **kwargs)\n",
    "            \n",
    "\n",
    "        self.add_parameter('f_start',\n",
    "                           initial_value=0,\n",
    "                           unit='Hz',\n",
    "                           label='f start',\n",
    "                           vals=Numbers(0,1e3),\n",
    "                           get_cmd=None,\n",
    "                           set_cmd=None)\n",
    "\n",
    "        self.add_parameter('f_stop',\n",
    "                           unit='Hz',\n",
    "                           label='f stop',\n",
    "                           vals=Numbers(1,1e3),\n",
    "                           get_cmd=None,\n",
    "                           set_cmd=None)\n",
    "\n",
    "        self.add_parameter('n_points',\n",
    "                           unit='',\n",
    "                           initial_value=10,\n",
    "                           vals=Numbers(1,1e3),\n",
    "                           get_cmd=None,\n",
    "                           set_cmd=None)\n",
    "        \n",
    "        self.add_parameter('freq_axis',\n",
    "                           unit='Hz',\n",
    "                           label='Freq Axis',\n",
    "                           parameter_class=GeneratedSetPoints,\n",
    "                           startparam=self.f_start,\n",
    "                           stopparam=self.f_stop,\n",
    "                           numpointsparam=self.n_points,\n",
    "                           vals=Arrays(shape=(self.n_points.get_latest,)))\n",
    "                           \n",
    "        self.add_parameter('spectrum',\n",
    "                   unit='dBm',\n",
    "                   setpoints=(self.freq_axis,),\n",
    "                   label='Spectrum',\n",
    "                   parameter_class=DummyArray,\n",
    "                   vals=Arrays(shape=(self.n_points.get_latest,)))\n",
    "                "
   ]
  },
  {
   "cell_type": "markdown",
   "metadata": {},
   "source": [
    "In the above example, the shape is defined by the parameter `n_points` that defines how many samples our `DummySpectrumAnalyzer` returns.\n",
    "\n",
    "This means that the validation will call the function to get `n_points` twice for each `get` of the parameter. This may be too slow, however, if you (as the driver-writer) can guarantee that the cached value for `n_points` will never be out of sync with the value stored in the instrument, `n_points` may be replaced by it's latest known value such that the `validator` reads:\n",
    "```python\n",
    "vals=Arrays(shape=(self.n_points.get_latest))\n",
    "```\n",
    "\n",
    "This avoids any additional call to the instrument. In the same way, the arguments to the `freq_axis` parameter that defines the start, stop and number of points can be replaced by their latest value if the instrument allows it.\n",
    "\n"
   ]
  },
  {
   "cell_type": "code",
   "execution_count": 6,
   "metadata": {},
   "outputs": [
    {
     "name": "stdout",
     "output_type": "stream",
     "text": [
      "\r",
      "0it [00:00, ?it/s]"
     ]
    },
    {
     "name": "stdout",
     "output_type": "stream",
     "text": [
      "\r",
      "Upgrading database; v0 -> v1: : 0it [00:00, ?it/s]"
     ]
    },
    {
     "name": "stdout",
     "output_type": "stream",
     "text": [
      "\r",
      "Upgrading database; v0 -> v1: : 0it [00:00, ?it/s]"
     ]
    },
    {
     "name": "stdout",
     "output_type": "stream",
     "text": [
      "\n",
      "\r",
      "  0%|          | 0/1 [00:00<?, ?it/s]"
     ]
    },
    {
     "name": "stdout",
     "output_type": "stream",
     "text": [
      "\r",
      "Upgrading database; v1 -> v2:   0%|          | 0/1 [00:00<?, ?it/s]"
     ]
    },
    {
     "name": "stdout",
     "output_type": "stream",
     "text": [
      "\r",
      "Upgrading database; v1 -> v2: 100%|██████████| 1/1 [00:00<00:00, 941.27it/s]"
     ]
    },
    {
     "name": "stdout",
     "output_type": "stream",
     "text": [
      "\n",
      "\r",
      "0it [00:00, ?it/s]"
     ]
    },
    {
     "name": "stdout",
     "output_type": "stream",
     "text": [
      "\r",
      "Upgrading database; v2 -> v3: : 0it [00:00, ?it/s]"
     ]
    },
    {
     "name": "stdout",
     "output_type": "stream",
     "text": [
      "\r",
      "Upgrading database; v2 -> v3: : 0it [00:00, ?it/s]"
     ]
    },
    {
     "name": "stdout",
     "output_type": "stream",
     "text": [
      "\n",
      "\r",
      "0it [00:00, ?it/s]"
     ]
    },
    {
     "name": "stdout",
     "output_type": "stream",
     "text": [
      "\r",
      "Upgrading database; v3 -> v4: : 0it [00:00, ?it/s]"
     ]
    },
    {
     "name": "stdout",
     "output_type": "stream",
     "text": [
      "\r",
      "Upgrading database; v3 -> v4: : 0it [00:00, ?it/s]"
     ]
    },
    {
     "name": "stdout",
     "output_type": "stream",
     "text": [
      "\n",
      "\r",
      "  0%|          | 0/1 [00:00<?, ?it/s]"
     ]
    },
    {
     "name": "stdout",
     "output_type": "stream",
     "text": [
      "\r",
      "Upgrading database; v4 -> v5:   0%|          | 0/1 [00:00<?, ?it/s]"
     ]
    },
    {
     "name": "stdout",
     "output_type": "stream",
     "text": [
      "\r",
      "Upgrading database; v4 -> v5: 100%|██████████| 1/1 [00:00<00:00, 717.34it/s]"
     ]
    },
    {
     "name": "stdout",
     "output_type": "stream",
     "text": [
      "\n",
      "\r",
      "0it [00:00, ?it/s]"
     ]
    },
    {
     "name": "stdout",
     "output_type": "stream",
     "text": [
      "\r",
      "Upgrading database; v5 -> v6: : 0it [00:00, ?it/s]"
     ]
    },
    {
     "name": "stdout",
     "output_type": "stream",
     "text": [
      "\r",
      "Upgrading database; v5 -> v6: : 0it [00:00, ?it/s]"
     ]
    },
    {
     "name": "stdout",
     "output_type": "stream",
     "text": [
      "\n",
      "\r",
      "  0%|          | 0/1 [00:00<?, ?it/s]"
     ]
    },
    {
     "name": "stdout",
     "output_type": "stream",
     "text": [
      "\r",
      "Upgrading database; v6 -> v7:   0%|          | 0/1 [00:00<?, ?it/s]"
     ]
    },
    {
     "name": "stdout",
     "output_type": "stream",
     "text": [
      "\r",
      "Upgrading database; v6 -> v7: 100%|██████████| 1/1 [00:00<00:00, 171.74it/s]"
     ]
    },
    {
     "name": "stdout",
     "output_type": "stream",
     "text": [
      "\n",
      "\r",
      "  0%|          | 0/1 [00:00<?, ?it/s]"
     ]
    },
    {
     "name": "stdout",
     "output_type": "stream",
     "text": [
      "\r",
      "Upgrading database; v7 -> v8:   0%|          | 0/1 [00:00<?, ?it/s]"
     ]
    },
    {
     "name": "stdout",
     "output_type": "stream",
     "text": [
      "\r",
      "Upgrading database; v7 -> v8: 100%|██████████| 1/1 [00:00<00:00, 534.10it/s]"
     ]
    },
    {
     "name": "stdout",
     "output_type": "stream",
     "text": [
      "\n",
      "\r",
      "  0%|          | 0/1 [00:00<?, ?it/s]"
     ]
    },
    {
     "name": "stdout",
     "output_type": "stream",
     "text": [
      "\r",
      "Upgrading database; v8 -> v9:   0%|          | 0/1 [00:00<?, ?it/s]"
     ]
    },
    {
     "name": "stdout",
     "output_type": "stream",
     "text": [
      "\r",
      "Upgrading database; v8 -> v9: 100%|██████████| 1/1 [00:00<00:00, 923.04it/s]"
     ]
    },
    {
     "name": "stdout",
     "output_type": "stream",
     "text": [
      "\n"
     ]
    },
    {
     "data": {
      "text/plain": [
       "tutorial_ParameterWithSetpoints#no sample#1@/home/vsts/work/1/s/docs/examples/Parameters/tutorial_paramter_with_setpoints.db\n",
       "----------------------------------------------------------------------------------------------------------------------------"
      ]
     },
     "execution_count": 6,
     "metadata": {},
     "output_type": "execute_result"
    }
   ],
   "source": [
    "tutorial_db_path = os.path.join(os.getcwd(), 'tutorial_paramter_with_setpoints.db')\n",
    "initialise_or_create_database_at(tutorial_db_path)\n",
    "load_or_create_experiment(experiment_name='tutorial_ParameterWithSetpoints', sample_name=\"no sample\")"
   ]
  },
  {
   "cell_type": "code",
   "execution_count": 7,
   "metadata": {},
   "outputs": [],
   "source": [
    "a = DummySpectrumAnalyzer('foobar')"
   ]
  },
  {
   "cell_type": "markdown",
   "metadata": {},
   "source": [
    "First we setup the limits of the spectrum"
   ]
  },
  {
   "cell_type": "code",
   "execution_count": 8,
   "metadata": {},
   "outputs": [],
   "source": [
    "a.f_start(0)\n",
    "a.f_stop(500)\n",
    "a.n_points(501)"
   ]
  },
  {
   "cell_type": "markdown",
   "metadata": {},
   "source": [
    "And we can grab the frequency axis"
   ]
  },
  {
   "cell_type": "code",
   "execution_count": 9,
   "metadata": {},
   "outputs": [
    {
     "data": {
      "text/plain": [
       "501"
      ]
     },
     "execution_count": 9,
     "metadata": {},
     "output_type": "execute_result"
    }
   ],
   "source": [
    "a.n_points()"
   ]
  },
  {
   "cell_type": "code",
   "execution_count": 10,
   "metadata": {
    "scrolled": false
   },
   "outputs": [
    {
     "data": {
      "text/plain": [
       "501"
      ]
     },
     "execution_count": 10,
     "metadata": {},
     "output_type": "execute_result"
    }
   ],
   "source": [
    "freq_axis = a.freq_axis()\n",
    "len(freq_axis)"
   ]
  },
  {
   "cell_type": "code",
   "execution_count": 11,
   "metadata": {},
   "outputs": [
    {
     "data": {
      "text/plain": [
       "array([0., 1., 2., 3., 4., 5., 6., 7., 8., 9.])"
      ]
     },
     "execution_count": 11,
     "metadata": {},
     "output_type": "execute_result"
    }
   ],
   "source": [
    "freq_axis[:10]"
   ]
  },
  {
   "cell_type": "markdown",
   "metadata": {},
   "source": [
    "As expected we get a result wit 501 points as we asked for an axis with 501 points. "
   ]
  },
  {
   "cell_type": "markdown",
   "metadata": {},
   "source": [
    "Above we have added a validator to the `freq_axis` parameter encoding the fact that this is an Array with `n_points`. Note that we do not have to supply the number of points as an integer but can supply a function that returns the valid number of points. This would normally be a QCoDeS parameter.\n",
    "\n",
    "This will be checked if we validate the output."
   ]
  },
  {
   "cell_type": "code",
   "execution_count": 12,
   "metadata": {},
   "outputs": [],
   "source": [
    "a.freq_axis.validate(a.freq_axis.get())"
   ]
  },
  {
   "cell_type": "markdown",
   "metadata": {},
   "source": [
    "Naturally, we can also get the spectrum. Getting the spectrum will automatically perform validation both for the shape of the parameter itself and the relation to the setpoint parameter(s)"
   ]
  },
  {
   "cell_type": "code",
   "execution_count": 13,
   "metadata": {
    "scrolled": true
   },
   "outputs": [
    {
     "data": {
      "text/plain": [
       "501"
      ]
     },
     "execution_count": 13,
     "metadata": {},
     "output_type": "execute_result"
    }
   ],
   "source": [
    "spectrum = a.spectrum.get()\n",
    "len(spectrum)"
   ]
  },
  {
   "cell_type": "markdown",
   "metadata": {},
   "source": [
    "When we validate a `ParameterWithSetpoints`, we automatically validate that the shape is consistent between the parameters and its setpoints. As well as validating the shape as above."
   ]
  },
  {
   "cell_type": "code",
   "execution_count": 14,
   "metadata": {},
   "outputs": [],
   "source": [
    "a.spectrum.validate(a.spectrum.get())"
   ]
  },
  {
   "cell_type": "markdown",
   "metadata": {},
   "source": [
    "The consistent shapes can be validated explicitly."
   ]
  },
  {
   "cell_type": "code",
   "execution_count": 15,
   "metadata": {},
   "outputs": [],
   "source": [
    "a.spectrum.validate_consistent_shape()"
   ]
  },
  {
   "cell_type": "markdown",
   "metadata": {},
   "source": [
    "We can inspect the setpoints of the spectrum."
   ]
  },
  {
   "cell_type": "code",
   "execution_count": 16,
   "metadata": {},
   "outputs": [
    {
     "data": {
      "text/plain": [
       "(<__main__.GeneratedSetPoints: freq_axis at 139740310653200>,)"
      ]
     },
     "execution_count": 16,
     "metadata": {},
     "output_type": "execute_result"
    }
   ],
   "source": [
    "a.spectrum.setpoints"
   ]
  },
  {
   "cell_type": "markdown",
   "metadata": {},
   "source": [
    "Or even change them."
   ]
  },
  {
   "cell_type": "code",
   "execution_count": 17,
   "metadata": {},
   "outputs": [],
   "source": [
    "a.spectrum.setpoints = (a.freq_axis,)"
   ]
  },
  {
   "cell_type": "markdown",
   "metadata": {},
   "source": [
    "## Measurement"
   ]
  },
  {
   "cell_type": "markdown",
   "metadata": {},
   "source": [
    "We can also directly consume the parameter in a measurement without defining the setpoints of the parameter again. The setpoints are automatically obtained from the definition of the `ParameterWithSetpoint` instance. "
   ]
  },
  {
   "cell_type": "code",
   "execution_count": 18,
   "metadata": {},
   "outputs": [
    {
     "name": "stdout",
     "output_type": "stream",
     "text": [
      "Starting experimental run with id: 1. \n"
     ]
    }
   ],
   "source": [
    "meas = Measurement()\n",
    "meas.register_parameter(a.spectrum)\n",
    "\n",
    "with meas.run() as datasaver:\n",
    "    datasaver.add_result((a.freq_axis, a.freq_axis()),\n",
    "                         (a.spectrum, a.spectrum()))\n",
    "    dataset = datasaver.dataset"
   ]
  },
  {
   "cell_type": "markdown",
   "metadata": {},
   "source": [
    "And plot it"
   ]
  },
  {
   "cell_type": "code",
   "execution_count": 19,
   "metadata": {},
   "outputs": [
    {
     "data": {
      "text/plain": [
       "([<matplotlib.axes._subplots.AxesSubplot at 0x7f17d47df7d0>], [None])"
      ]
     },
     "execution_count": 19,
     "metadata": {},
     "output_type": "execute_result"
    },
    {
     "data": {
      "image/png": "[encoded data removed]",
      "text/plain": [
       "<Figure size 432x288 with 1 Axes>"
      ]
     },
     "metadata": {
      "needs_background": "light"
     },
     "output_type": "display_data"
    }
   ],
   "source": [
    "plot_dataset(dataset)"
   ]
  },
  {
   "cell_type": "markdown",
   "metadata": {},
   "source": [
    "To reduce the amount of typing a simple convenience function is provided that will take a `ParameterWithSetpoints` and get both its values and the setpoints values and return them as tuples for direct insertion into the Dataset."
   ]
  },
  {
   "cell_type": "code",
   "execution_count": 20,
   "metadata": {
    "scrolled": true
   },
   "outputs": [
    {
     "data": {
      "text/plain": [
       "[(<__main__.GeneratedSetPoints: freq_axis at 139740310653200>,\n",
       "  array([  0.,   1.,   2.,   3.,   4.,   5.,   6.,   7.,   8.,   9.,  10.,\n",
       "          11.,  12.,  13.,  14.,  15.,  16.,  17.,  18.,  19.,  20.,  21.,\n",
       "          22.,  23.,  24.,  25.,  26.,  27.,  28.,  29.,  30.,  31.,  32.,\n",
       "          33.,  34.,  35.,  36.,  37.,  38.,  39.,  40.,  41.,  42.,  43.,\n",
       "          44.,  45.,  46.,  47.,  48.,  49.,  50.,  51.,  52.,  53.,  54.,\n",
       "          55.,  56.,  57.,  58.,  59.,  60.,  61.,  62.,  63.,  64.,  65.,\n",
       "          66.,  67.,  68.,  69.,  70.,  71.,  72.,  73.,  74.,  75.,  76.,\n",
       "          77.,  78.,  79.,  80.,  81.,  82.,  83.,  84.,  85.,  86.,  87.,\n",
       "          88.,  89.,  90.,  91.,  92.,  93.,  94.,  95.,  96.,  97.,  98.,\n",
       "          99., 100., 101., 102., 103., 104., 105., 106., 107., 108., 109.,\n",
       "         110., 111., 112., 113., 114., 115., 116., 117., 118., 119., 120.,\n",
       "         121., 122., 123., 124., 125., 126., 127., 128., 129., 130., 131.,\n",
       "         132., 133., 134., 135., 136., 137., 138., 139., 140., 141., 142.,\n",
       "         143., 144., 145., 146., 147., 148., 149., 150., 151., 152., 153.,\n",
       "         154., 155., 156., 157., 158., 159., 160., 161., 162., 163., 164.,\n",
       "         165., 166., 167., 168., 169., 170., 171., 172., 173., 174., 175.,\n",
       "         176., 177., 178., 179., 180., 181., 182., 183., 184., 185., 186.,\n",
       "         187., 188., 189., 190., 191., 192., 193., 194., 195., 196., 197.,\n",
       "         198., 199., 200., 201., 202., 203., 204., 205., 206., 207., 208.,\n",
       "         209., 210., 211., 212., 213., 214., 215., 216., 217., 218., 219.,\n",
       "         220., 221., 222., 223., 224., 225., 226., 227., 228., 229., 230.,\n",
       "         231., 232., 233., 234., 235., 236., 237., 238., 239., 240., 241.,\n",
       "         242., 243., 244., 245., 246., 247., 248., 249., 250., 251., 252.,\n",
       "         253., 254., 255., 256., 257., 258., 259., 260., 261., 262., 263.,\n",
       "         264., 265., 266., 267., 268., 269., 270., 271., 272., 273., 274.,\n",
       "         275., 276., 277., 278., 279., 280., 281., 282., 283., 284., 285.,\n",
       "         286., 287., 288., 289., 290., 291., 292., 293., 294., 295., 296.,\n",
       "         297., 298., 299., 300., 301., 302., 303., 304., 305., 306., 307.,\n",
       "         308., 309., 310., 311., 312., 313., 314., 315., 316., 317., 318.,\n",
       "         319., 320., 321., 322., 323., 324., 325., 326., 327., 328., 329.,\n",
       "         330., 331., 332., 333., 334., 335., 336., 337., 338., 339., 340.,\n",
       "         341., 342., 343., 344., 345., 346., 347., 348., 349., 350., 351.,\n",
       "         352., 353., 354., 355., 356., 357., 358., 359., 360., 361., 362.,\n",
       "         363., 364., 365., 366., 367., 368., 369., 370., 371., 372., 373.,\n",
       "         374., 375., 376., 377., 378., 379., 380., 381., 382., 383., 384.,\n",
       "         385., 386., 387., 388., 389., 390., 391., 392., 393., 394., 395.,\n",
       "         396., 397., 398., 399., 400., 401., 402., 403., 404., 405., 406.,\n",
       "         407., 408., 409., 410., 411., 412., 413., 414., 415., 416., 417.,\n",
       "         418., 419., 420., 421., 422., 423., 424., 425., 426., 427., 428.,\n",
       "         429., 430., 431., 432., 433., 434., 435., 436., 437., 438., 439.,\n",
       "         440., 441., 442., 443., 444., 445., 446., 447., 448., 449., 450.,\n",
       "         451., 452., 453., 454., 455., 456., 457., 458., 459., 460., 461.,\n",
       "         462., 463., 464., 465., 466., 467., 468., 469., 470., 471., 472.,\n",
       "         473., 474., 475., 476., 477., 478., 479., 480., 481., 482., 483.,\n",
       "         484., 485., 486., 487., 488., 489., 490., 491., 492., 493., 494.,\n",
       "         495., 496., 497., 498., 499., 500.])),\n",
       " (<__main__.DummyArray: spectrum at 139740310653584>,\n",
       "  array([5.56797310e-01, 1.35581942e-01, 3.56087977e-01, 6.03328610e-01,\n",
       "         1.60165226e-01, 9.44119883e-01, 1.27566794e-01, 5.12813722e-01,\n",
       "         5.19178102e-01, 3.01257037e-01, 6.87643245e-01, 1.85453259e-01,\n",
       "         2.76199908e-01, 8.30754848e-01, 1.99386202e-01, 7.17212418e-01,\n",
       "         1.25458019e-01, 7.73517410e-01, 9.83123212e-02, 9.53216559e-01,\n",
       "         1.82060358e-01, 1.50897504e-01, 2.54580165e-01, 9.24591053e-01,\n",
       "         8.51530900e-01, 4.71758361e-02, 5.27036826e-01, 6.52563719e-01,\n",
       "         4.86197699e-01, 1.56576959e-01, 9.65537244e-01, 3.75442486e-01,\n",
       "         2.95542930e-01, 9.77091758e-02, 6.85083039e-01, 5.03904421e-01,\n",
       "         2.34676356e-01, 9.85879543e-01, 2.56629680e-01, 1.80255489e-01,\n",
       "         5.76738845e-01, 6.09763308e-01, 7.63333621e-01, 8.19307942e-01,\n",
       "         8.33181735e-01, 9.06729932e-01, 9.75062003e-01, 2.68544037e-01,\n",
       "         6.68747839e-01, 3.58056049e-01, 6.87659895e-01, 5.51288200e-01,\n",
       "         8.92441883e-01, 7.45464341e-01, 4.36477486e-01, 4.79873879e-01,\n",
       "         4.16123208e-01, 2.89569233e-01, 8.95358582e-02, 3.39370014e-01,\n",
       "         6.93097696e-01, 9.85396712e-02, 4.35342678e-01, 7.23718234e-01,\n",
       "         5.45582484e-01, 4.50617922e-01, 7.83233350e-01, 7.99022252e-02,\n",
       "         8.97108319e-01, 9.18839616e-01, 6.84302449e-01, 8.58342771e-01,\n",
       "         1.43945499e-01, 5.02969038e-01, 4.83584080e-01, 9.18587586e-01,\n",
       "         4.00978650e-01, 7.91833455e-01, 8.10885615e-01, 9.95310852e-01,\n",
       "         9.20083445e-01, 3.42427349e-01, 9.43518964e-01, 9.04566494e-01,\n",
       "         5.20835254e-01, 2.66207659e-01, 6.40549299e-01, 4.47468047e-02,\n",
       "         3.85791587e-01, 6.01686364e-01, 4.48517220e-01, 3.29203299e-01,\n",
       "         8.27966640e-01, 9.40866979e-01, 2.30726983e-03, 3.19021995e-01,\n",
       "         8.88700380e-01, 7.32062382e-01, 7.36359854e-01, 7.80384976e-01,\n",
       "         3.96835730e-02, 6.96290670e-04, 1.44203299e-01, 1.66152929e-01,\n",
       "         9.16104612e-01, 8.57277721e-01, 5.74729563e-01, 3.30092809e-01,\n",
       "         2.92839857e-01, 1.09402228e-01, 5.42674819e-01, 7.12400319e-01,\n",
       "         2.21614952e-01, 4.05451805e-01, 8.59931859e-01, 1.76187248e-01,\n",
       "         7.75858561e-01, 4.12976210e-01, 7.04100527e-01, 5.58680813e-01,\n",
       "         2.57059330e-02, 1.43937935e-01, 5.72910205e-01, 5.24544449e-01,\n",
       "         4.20870305e-01, 9.15206538e-01, 3.24993709e-01, 2.59953004e-01,\n",
       "         8.30972681e-01, 9.89451836e-01, 6.39996807e-01, 2.43835952e-01,\n",
       "         6.42272346e-01, 1.26701432e-01, 6.55709786e-02, 8.71267775e-01,\n",
       "         3.01532747e-01, 1.75648919e-01, 8.90931026e-01, 4.02807733e-01,\n",
       "         5.47600650e-01, 1.80643900e-01, 7.64580046e-01, 4.54401693e-01,\n",
       "         7.59299790e-01, 3.40966794e-01, 9.49020080e-01, 8.49207114e-01,\n",
       "         8.82516237e-01, 6.40112449e-01, 6.66780924e-02, 5.44008071e-01,\n",
       "         3.64644940e-01, 5.46464059e-01, 5.82264022e-01, 3.60666533e-01,\n",
       "         9.04812335e-02, 9.21883678e-01, 6.86459485e-01, 3.31923216e-01,\n",
       "         2.63119252e-01, 9.40093825e-01, 4.38781000e-01, 5.31351537e-01,\n",
       "         9.89567189e-01, 4.83050628e-01, 7.72533866e-01, 9.81823243e-01,\n",
       "         1.10347480e-02, 4.33044191e-01, 5.90775432e-01, 4.10480682e-01,\n",
       "         4.46442889e-01, 2.42769091e-01, 6.36712159e-01, 9.94335672e-01,\n",
       "         6.25337948e-02, 4.22898094e-02, 5.27086247e-02, 7.23593308e-01,\n",
       "         4.09144063e-01, 6.81716430e-01, 8.56321368e-01, 7.93265982e-01,\n",
       "         5.27371080e-01, 8.12128496e-01, 8.64768079e-03, 2.08832212e-01,\n",
       "         2.20908442e-01, 2.97435030e-01, 7.08780277e-02, 1.95957146e-01,\n",
       "         1.10065475e-01, 3.29074362e-01, 2.68003393e-01, 3.06908743e-01,\n",
       "         6.49299121e-01, 9.42830841e-01, 6.90517315e-02, 5.19986055e-02,\n",
       "         7.62661304e-01, 5.18431590e-01, 6.65456633e-01, 4.17953215e-01,\n",
       "         8.00239891e-01, 9.05244181e-01, 7.18808629e-01, 7.10020690e-01,\n",
       "         1.42796861e-01, 3.14121034e-01, 8.03450423e-01, 6.72751246e-02,\n",
       "         2.95013963e-01, 6.35918286e-01, 9.85730762e-01, 5.34518320e-01,\n",
       "         2.73579209e-02, 2.16972248e-01, 3.22670437e-01, 7.61446918e-01,\n",
       "         8.54473715e-02, 6.12792208e-01, 6.89347318e-01, 8.94377200e-01,\n",
       "         6.97603687e-01, 6.42868163e-01, 3.05773241e-01, 5.58782040e-01,\n",
       "         9.72323498e-01, 6.57561088e-01, 1.04418399e-01, 6.69233795e-01,\n",
       "         2.00973580e-01, 6.07023638e-01, 5.31402969e-01, 8.37392113e-01,\n",
       "         6.31677238e-01, 9.72169383e-01, 1.83794540e-02, 9.37813599e-01,\n",
       "         3.66190484e-01, 4.79939454e-01, 7.39941638e-01, 6.75619228e-01,\n",
       "         6.09722543e-01, 8.42440410e-01, 5.71671956e-01, 2.03301233e-01,\n",
       "         4.37179401e-01, 6.27716735e-01, 4.77621112e-01, 3.98676948e-01,\n",
       "         5.26961425e-01, 2.12194411e-01, 2.60123717e-01, 5.28382677e-02,\n",
       "         3.53449540e-01, 9.11902393e-02, 8.29186419e-01, 5.69020185e-01,\n",
       "         6.92399178e-01, 7.54488675e-01, 1.48165686e-01, 4.63072628e-01,\n",
       "         8.47765452e-01, 6.40895275e-01, 3.32923848e-01, 8.05398826e-01,\n",
       "         8.60821338e-02, 5.07105236e-01, 6.76380182e-01, 9.47399084e-01,\n",
       "         5.69518136e-01, 2.56149836e-01, 6.59355711e-01, 6.02930092e-01,\n",
       "         6.23524886e-01, 5.88473911e-01, 1.94514470e-01, 1.40921010e-01,\n",
       "         2.53920139e-01, 7.04518667e-01, 3.28973703e-01, 2.58533059e-01,\n",
       "         7.21142749e-01, 4.09043660e-01, 2.59673694e-01, 1.18021793e-01,\n",
       "         5.75680627e-01, 3.50674750e-01, 7.00597117e-02, 8.74253487e-01,\n",
       "         4.05740723e-02, 2.35271305e-02, 2.81531182e-02, 5.26151357e-01,\n",
       "         2.01118508e-01, 1.11554389e-02, 4.71857108e-01, 9.55938697e-01,\n",
       "         8.75395226e-01, 9.68063557e-01, 8.14482292e-01, 6.14559179e-01,\n",
       "         9.66196382e-02, 7.50303266e-01, 4.99120874e-01, 3.63153083e-03,\n",
       "         8.79379622e-01, 6.55364181e-01, 4.78410467e-01, 4.34753775e-01,\n",
       "         4.91260170e-01, 9.37913044e-01, 9.89291089e-01, 5.14014580e-01,\n",
       "         9.44374799e-01, 4.93675242e-01, 6.90856554e-01, 8.58891217e-01,\n",
       "         3.69539926e-01, 9.22331353e-01, 8.80212107e-01, 6.50108290e-01,\n",
       "         4.40981444e-01, 5.98022031e-01, 2.45530192e-01, 3.55663172e-01,\n",
       "         6.83910710e-01, 4.96811943e-01, 4.07060289e-01, 5.00585715e-01,\n",
       "         7.08154190e-01, 9.95896699e-01, 7.43479143e-02, 6.53228295e-01,\n",
       "         2.99917937e-01, 6.54726295e-02, 5.65848243e-01, 4.13101941e-01,\n",
       "         3.32194724e-01, 1.77948956e-01, 7.29266651e-01, 1.81857164e-01,\n",
       "         5.60334526e-02, 2.65507832e-01, 1.63615267e-01, 5.94063753e-01,\n",
       "         7.93333654e-01, 6.13593777e-01, 8.61854400e-01, 3.90870481e-01,\n",
       "         6.12025532e-02, 5.52175922e-01, 6.71974381e-01, 3.14931566e-01,\n",
       "         3.80616349e-01, 8.38384973e-01, 5.82443071e-01, 9.59978843e-01,\n",
       "         3.93199433e-02, 9.33939968e-01, 4.21454157e-01, 5.28986322e-01,\n",
       "         9.49205986e-01, 1.06631791e-01, 1.75752102e-02, 8.84603206e-01,\n",
       "         5.95749516e-01, 8.24032700e-02, 3.05261306e-01, 8.67886675e-01,\n",
       "         3.55159800e-02, 2.88711650e-01, 7.65289480e-01, 1.57299342e-01,\n",
       "         8.56882749e-01, 8.82343639e-01, 3.65848885e-01, 3.79678833e-01,\n",
       "         9.83180063e-01, 4.25899078e-01, 2.82945472e-01, 2.30403814e-01,\n",
       "         3.60749418e-01, 5.79193721e-01, 2.32620258e-01, 1.44831523e-01,\n",
       "         9.46969333e-02, 8.87520454e-01, 3.55361321e-01, 8.01550312e-01,\n",
       "         2.15752861e-01, 2.82467235e-01, 3.06855832e-01, 7.04788352e-01,\n",
       "         5.15773987e-01, 1.44971498e-01, 7.33910984e-02, 8.17544048e-01,\n",
       "         4.60743637e-01, 9.68732002e-01, 8.09601065e-01, 9.39457101e-01,\n",
       "         5.40421897e-01, 8.15906404e-01, 5.14621343e-01, 9.97704921e-01,\n",
       "         7.37206233e-01, 6.29749531e-01, 6.45571683e-01, 8.00400914e-01,\n",
       "         6.63179716e-03, 9.95265207e-01, 5.23738039e-01, 4.61322758e-01,\n",
       "         9.50043741e-01, 5.13211672e-01, 8.47050379e-01, 2.11495583e-02,\n",
       "         8.81110917e-01, 7.65579520e-01, 6.77878261e-01, 5.87347560e-01,\n",
       "         7.43619944e-01, 7.67477581e-01, 9.72169699e-01, 6.61763798e-01,\n",
       "         5.66176770e-01, 2.55853226e-01, 8.72228696e-01, 2.90499565e-01,\n",
       "         9.51125490e-01, 4.14276996e-01, 6.99845610e-01, 9.67334030e-01,\n",
       "         6.63953529e-01, 6.48691769e-01, 2.15517667e-01, 5.84862871e-01,\n",
       "         4.01574561e-01, 7.12291941e-01, 1.79922243e-02, 6.58673293e-01,\n",
       "         1.09500774e-01, 8.16566949e-01, 3.27855438e-02, 4.81482798e-01,\n",
       "         9.09558065e-01, 1.30702245e-01, 5.98327047e-01, 5.48083380e-01,\n",
       "         1.27541326e-01, 3.76722630e-01, 5.23142764e-01, 2.76140354e-01,\n",
       "         1.02841082e-01, 2.98985474e-01, 4.43231166e-01, 9.41438457e-01,\n",
       "         2.91271842e-01, 6.20646469e-01, 7.55636899e-02, 9.29945223e-01,\n",
       "         6.64381976e-01, 7.92642257e-01, 1.08924070e-01, 7.53124452e-01,\n",
       "         1.01869440e-01, 3.87775533e-01, 7.50638600e-01, 9.61819677e-01,\n",
       "         3.11521297e-01, 8.66236946e-01, 4.12766439e-01, 9.03158588e-01,\n",
       "         4.04534229e-02, 7.86846060e-01, 5.16922007e-01, 5.09508537e-01,\n",
       "         6.83987823e-01, 6.21263206e-01, 4.54720657e-02, 3.65721413e-01,\n",
       "         4.10852164e-02, 8.68805459e-01, 2.83375553e-01, 8.46778349e-01,\n",
       "         2.44627923e-01, 1.66545546e-01, 1.92367278e-01, 4.83419851e-01,\n",
       "         9.87080840e-01, 5.48228658e-01, 3.79761355e-01, 7.88812563e-01,\n",
       "         6.01499316e-02, 3.57742425e-01, 1.86008929e-01, 6.30244776e-01,\n",
       "         2.79601834e-01]))]"
      ]
     },
     "execution_count": 20,
     "metadata": {},
     "output_type": "execute_result"
    }
   ],
   "source": [
    "expand_setpoints_helper(a.spectrum)"
   ]
  },
  {
   "cell_type": "code",
   "execution_count": 21,
   "metadata": {},
   "outputs": [
    {
     "name": "stdout",
     "output_type": "stream",
     "text": [
      "Starting experimental run with id: 2. \n"
     ]
    }
   ],
   "source": [
    "meas = Measurement()\n",
    "meas.register_parameter(a.spectrum)\n",
    "\n",
    "with meas.run() as datasaver:\n",
    "    datasaver.add_result(*expand_setpoints_helper(a.spectrum))\n",
    "    \n",
    "    dataid = datasaver.run_id"
   ]
  },
  {
   "cell_type": "code",
   "execution_count": null,
   "metadata": {},
   "outputs": [],
   "source": []
  }
 ],
 "metadata": {
  "kernelspec": {
   "display_name": "Python 3",
   "language": "python",
   "name": "python3"
  },
  "language_info": {
   "codemirror_mode": {
    "name": "ipython",
    "version": 3
   },
   "file_extension": ".py",
   "mimetype": "text/x-python",
   "name": "python",
   "nbconvert_exporter": "python",
   "pygments_lexer": "ipython3",
   "version": "3.7.7"
  },
  "toc": {
   "base_numbering": 1,
   "nav_menu": {},
   "number_sections": true,
   "sideBar": true,
   "skip_h1_title": false,
   "title_cell": "Table of Contents",
   "title_sidebar": "Contents",
   "toc_cell": false,
   "toc_position": {},
   "toc_section_display": true,
   "toc_window_display": false
  },
  "varInspector": {
   "cols": {
    "lenName": 16,
    "lenType": 16,
    "lenVar": 40
   },
   "kernels_config": {
    "python": {
     "delete_cmd_postfix": "",
     "delete_cmd_prefix": "del ",
     "library": "var_list.py",
     "varRefreshCmd": "print(var_dic_list())"
    },
    "r": {
     "delete_cmd_postfix": ") ",
     "delete_cmd_prefix": "rm(",
     "library": "var_list.r",
     "varRefreshCmd": "cat(var_dic_list()) "
    }
   },
   "types_to_exclude": [
    "module",
    "function",
    "builtin_function_or_method",
    "instance",
    "_Feature"
   ],
   "window_display": false
  }
 },
 "nbformat": 4,
 "nbformat_minor": 2
}
