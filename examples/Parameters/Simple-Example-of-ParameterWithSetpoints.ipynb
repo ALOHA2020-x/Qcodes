{
 "cells": [
  {
   "cell_type": "markdown",
   "execution_count": 1,
   "metadata": {},
   "source": [
    "# Simple Example of ParameterWithSetpoints\n",
    "This notebook provides an example for writing a simple driver with a parameter that has setpoints. Let's name this parameter that has setpoints as \"y\". Then, the setpoints, say \"x1, x2, x3 ..\", are the parameters on which the parameter \n",
    "\"y\" depends upon. Meaning \"y\" is a function of \"x1, x2, x3 ...\" where \"x1, x2, x3 ...\" are known as the setpoints of parameter \"y\".\n",
    "\n",
    "This is most likely to be useful for instruments that return arrays of results. In this notebook, we will show an example of this."
   ]
  },
  {
   "cell_type": "code",
   "execution_count": 1,
   "metadata": {
    "execution": {
     "iopub.execute_input": "2020-09-16T10:33:24.237677Z",
     "iopub.status.busy": "2020-09-16T10:33:24.237082Z",
     "iopub.status.idle": "2020-09-16T10:33:24.334703Z",
     "shell.execute_reply": "2020-09-16T10:33:24.334117Z"
    }
   },
   "outputs": [],
   "source": [
    "import numpy as np\n",
    "import os"
   ]
  },
  {
   "cell_type": "code",
   "execution_count": 2,
   "metadata": {
    "execution": {
     "iopub.execute_input": "2020-09-16T10:33:24.338971Z",
     "iopub.status.busy": "2020-09-16T10:33:24.338399Z",
     "iopub.status.idle": "2020-09-16T10:33:25.417638Z",
     "shell.execute_reply": "2020-09-16T10:33:25.418097Z"
    }
   },
   "outputs": [
    {
     "name": "stdout",
     "output_type": "stream",
     "text": [
      "Logging hadn't been started.\n",
      "Activating auto-logging. Current session state plus future input saved.\n",
      "Filename       : /home/vsts/.qcodes/logs/command_history.log\n",
      "Mode           : append\n",
      "Output logging : True\n",
      "Raw input log  : False\n",
      "Timestamping   : True\n",
      "State          : active\n"
     ]
    },
    {
     "name": "stdout",
     "output_type": "stream",
     "text": [
      "Qcodes Logfile : /home/vsts/.qcodes/logs/200916-21616-qcodes.log\n"
     ]
    }
   ],
   "source": [
    "from qcodes.dataset.plotting import plot_dataset\n",
    "from qcodes.utils.validators import Numbers, Arrays\n",
    "from qcodes.instrument.base import Instrument\n",
    "from qcodes.dataset.measurements import Measurement"
   ]
  },
  {
   "cell_type": "code",
   "execution_count": 3,
   "metadata": {
    "execution": {
     "iopub.execute_input": "2020-09-16T10:33:25.421909Z",
     "iopub.status.busy": "2020-09-16T10:33:25.421373Z",
     "iopub.status.idle": "2020-09-16T10:33:25.425008Z",
     "shell.execute_reply": "2020-09-16T10:33:25.424529Z"
    }
   },
   "outputs": [],
   "source": [
    "from qcodes.dataset.sqlite.database import initialise_or_create_database_at\n",
    "from qcodes.dataset.experiment_container import load_or_create_experiment"
   ]
  },
  {
   "cell_type": "code",
   "execution_count": 4,
   "metadata": {
    "execution": {
     "iopub.execute_input": "2020-09-16T10:33:25.429564Z",
     "iopub.status.busy": "2020-09-16T10:33:25.428249Z",
     "iopub.status.idle": "2020-09-16T10:33:25.430098Z",
     "shell.execute_reply": "2020-09-16T10:33:25.430627Z"
    }
   },
   "outputs": [],
   "source": [
    "from qcodes.instrument.parameter import ParameterWithSetpoints, Parameter\n",
    "from qcodes.instrument.parameter import expand_setpoints_helper"
   ]
  },
  {
   "cell_type": "markdown",
   "execution_count": 5,
   "metadata": {},
   "source": [
    "First, we define a dummy instrument that returns something like a frequency spectrum starting from a frequency given by `f_start` to a frequency given by `f_stop` in `n_points` steps. \n",
    "\n",
    "The extra functionality of the `ParameterWithSetpoints` is implemented by giving it a reference to one or more parameters that acts like its setpoints. \n",
    "\n",
    "To setup a `ParameterWithSetpoints` we have to do two things in addition to what we do for a normal parameter.\n",
    "\n",
    "* Define one or more parameter for the setpoints (one for each dimension of the array and let the `ParameterWithSetpoints` know that these are the setpoints.\n",
    "* Give both the setpoints parameter(s) and the `ParameterWithSetpoints` a `validator` of type `Arrays` with a shape. The shapes should be such that the combined shape of the setpoints matches the shape of the `ParameterWithSetpoints`. Note that if the shape changes with the setting of the instrument, it can be defined by another parameter as shown below. "
   ]
  },
  {
   "cell_type": "code",
   "execution_count": 5,
   "metadata": {
    "execution": {
     "iopub.execute_input": "2020-09-16T10:33:25.438400Z",
     "iopub.status.busy": "2020-09-16T10:33:25.432696Z",
     "iopub.status.idle": "2020-09-16T10:33:25.442574Z",
     "shell.execute_reply": "2020-09-16T10:33:25.442097Z"
    }
   },
   "outputs": [],
   "source": [
    "class GeneratedSetPoints(Parameter):\n",
    "    \"\"\"\n",
    "    A parameter that generates a setpoint array from start, stop and num points\n",
    "    parameters.\n",
    "    \"\"\"\n",
    "    def __init__(self, startparam, stopparam, numpointsparam, *args, **kwargs):\n",
    "        super().__init__(*args, **kwargs)\n",
    "        self._startparam = startparam\n",
    "        self._stopparam = stopparam\n",
    "        self._numpointsparam = numpointsparam\n",
    "\n",
    "    def get_raw(self):\n",
    "        return np.linspace(self._startparam(), self._stopparam(),\n",
    "                              self._numpointsparam())\n",
    "\n",
    "class DummyArray(ParameterWithSetpoints):\n",
    "    \n",
    "    def get_raw(self):\n",
    "        npoints = self.root_instrument.n_points.get_latest()\n",
    "        return np.random.rand(npoints)\n",
    "    \n",
    "\n",
    "class DummySpectrumAnalyzer(Instrument):\n",
    "    \n",
    "    def __init__(self, name, **kwargs):\n",
    "        \n",
    "        super().__init__(name, **kwargs)\n",
    "            \n",
    "\n",
    "        self.add_parameter('f_start',\n",
    "                           initial_value=0,\n",
    "                           unit='Hz',\n",
    "                           label='f start',\n",
    "                           vals=Numbers(0,1e3),\n",
    "                           get_cmd=None,\n",
    "                           set_cmd=None)\n",
    "\n",
    "        self.add_parameter('f_stop',\n",
    "                           unit='Hz',\n",
    "                           label='f stop',\n",
    "                           vals=Numbers(1,1e3),\n",
    "                           get_cmd=None,\n",
    "                           set_cmd=None)\n",
    "\n",
    "        self.add_parameter('n_points',\n",
    "                           unit='',\n",
    "                           initial_value=10,\n",
    "                           vals=Numbers(1,1e3),\n",
    "                           get_cmd=None,\n",
    "                           set_cmd=None)\n",
    "        \n",
    "        self.add_parameter('freq_axis',\n",
    "                           unit='Hz',\n",
    "                           label='Freq Axis',\n",
    "                           parameter_class=GeneratedSetPoints,\n",
    "                           startparam=self.f_start,\n",
    "                           stopparam=self.f_stop,\n",
    "                           numpointsparam=self.n_points,\n",
    "                           vals=Arrays(shape=(self.n_points.get_latest,)))\n",
    "                           \n",
    "        self.add_parameter('spectrum',\n",
    "                   unit='dBm',\n",
    "                   setpoints=(self.freq_axis,),\n",
    "                   label='Spectrum',\n",
    "                   parameter_class=DummyArray,\n",
    "                   vals=Arrays(shape=(self.n_points.get_latest,)))\n",
    "                "
   ]
  },
  {
   "cell_type": "markdown",
   "execution_count": 6,
   "metadata": {},
   "source": [
    "In the above example, the shape is defined by the parameter `n_points` that defines how many samples our `DummySpectrumAnalyzer` returns.\n",
    "\n",
    "This means that the validation will call the function to get `n_points` twice for each `get` of the parameter. This may be too slow, however, if you (as the driver-writer) can guarantee that the cached value for `n_points` will never be out of sync with the value stored in the instrument, `n_points` may be replaced by it's latest known value such that the `validator` reads:\n",
    "```python\n",
    "vals=Arrays(shape=(self.n_points.get_latest))\n",
    "```\n",
    "\n",
    "This avoids any additional call to the instrument. In the same way, the arguments to the `freq_axis` parameter that defines the start, stop and number of points can be replaced by their latest value if the instrument allows it.\n",
    "\n"
   ]
  },
  {
   "cell_type": "code",
   "execution_count": 6,
   "metadata": {
    "execution": {
     "iopub.execute_input": "2020-09-16T10:33:25.446239Z",
     "iopub.status.busy": "2020-09-16T10:33:25.445667Z",
     "iopub.status.idle": "2020-09-16T10:33:25.531291Z",
     "shell.execute_reply": "2020-09-16T10:33:25.530711Z"
    }
   },
   "outputs": [
    {
     "name": "stdout",
     "output_type": "stream",
     "text": [
      "\r",
      "0it [00:00, ?it/s]"
     ]
    },
    {
     "name": "stdout",
     "output_type": "stream",
     "text": [
      "\r",
      "Upgrading database; v0 -> v1: : 0it [00:00, ?it/s]"
     ]
    },
    {
     "name": "stdout",
     "output_type": "stream",
     "text": [
      "\r",
      "Upgrading database; v0 -> v1: : 0it [00:00, ?it/s]"
     ]
    },
    {
     "name": "stdout",
     "output_type": "stream",
     "text": [
      "\n",
      "\r",
      "  0%|          | 0/1 [00:00<?, ?it/s]"
     ]
    },
    {
     "name": "stdout",
     "output_type": "stream",
     "text": [
      "\r",
      "Upgrading database; v1 -> v2:   0%|          | 0/1 [00:00<?, ?it/s]"
     ]
    },
    {
     "name": "stdout",
     "output_type": "stream",
     "text": [
      "\r",
      "Upgrading database; v1 -> v2: 100%|██████████| 1/1 [00:00<00:00, 534.92it/s]"
     ]
    },
    {
     "name": "stdout",
     "output_type": "stream",
     "text": [
      "\n",
      "\r",
      "0it [00:00, ?it/s]"
     ]
    },
    {
     "name": "stdout",
     "output_type": "stream",
     "text": [
      "\r",
      "Upgrading database; v2 -> v3: : 0it [00:00, ?it/s]"
     ]
    },
    {
     "name": "stdout",
     "output_type": "stream",
     "text": [
      "\r",
      "Upgrading database; v2 -> v3: : 0it [00:00, ?it/s]"
     ]
    },
    {
     "name": "stdout",
     "output_type": "stream",
     "text": [
      "\n",
      "\r",
      "0it [00:00, ?it/s]"
     ]
    },
    {
     "name": "stdout",
     "output_type": "stream",
     "text": [
      "\r",
      "Upgrading database; v3 -> v4: : 0it [00:00, ?it/s]"
     ]
    },
    {
     "name": "stdout",
     "output_type": "stream",
     "text": [
      "\r",
      "Upgrading database; v3 -> v4: : 0it [00:00, ?it/s]"
     ]
    },
    {
     "name": "stdout",
     "output_type": "stream",
     "text": [
      "\n",
      "\r",
      "  0%|          | 0/1 [00:00<?, ?it/s]"
     ]
    },
    {
     "name": "stdout",
     "output_type": "stream",
     "text": [
      "\r",
      "Upgrading database; v4 -> v5:   0%|          | 0/1 [00:00<?, ?it/s]"
     ]
    },
    {
     "name": "stdout",
     "output_type": "stream",
     "text": [
      "\r",
      "Upgrading database; v4 -> v5: 100%|██████████| 1/1 [00:00<00:00, 659.69it/s]"
     ]
    },
    {
     "name": "stdout",
     "output_type": "stream",
     "text": [
      "\n",
      "\r",
      "0it [00:00, ?it/s]"
     ]
    },
    {
     "name": "stdout",
     "output_type": "stream",
     "text": [
      "\r",
      "Upgrading database; v5 -> v6: : 0it [00:00, ?it/s]"
     ]
    },
    {
     "name": "stdout",
     "output_type": "stream",
     "text": [
      "\r",
      "Upgrading database; v5 -> v6: : 0it [00:00, ?it/s]"
     ]
    },
    {
     "name": "stdout",
     "output_type": "stream",
     "text": [
      "\n",
      "\r",
      "  0%|          | 0/1 [00:00<?, ?it/s]"
     ]
    },
    {
     "name": "stdout",
     "output_type": "stream",
     "text": [
      "\r",
      "Upgrading database; v6 -> v7:   0%|          | 0/1 [00:00<?, ?it/s]"
     ]
    },
    {
     "name": "stdout",
     "output_type": "stream",
     "text": [
      "\r",
      "Upgrading database; v6 -> v7: 100%|██████████| 1/1 [00:00<00:00, 250.80it/s]"
     ]
    },
    {
     "name": "stdout",
     "output_type": "stream",
     "text": [
      "\n",
      "\r",
      "  0%|          | 0/1 [00:00<?, ?it/s]"
     ]
    },
    {
     "name": "stdout",
     "output_type": "stream",
     "text": [
      "\r",
      "Upgrading database; v7 -> v8:   0%|          | 0/1 [00:00<?, ?it/s]"
     ]
    },
    {
     "name": "stdout",
     "output_type": "stream",
     "text": [
      "\r",
      "Upgrading database; v7 -> v8: 100%|██████████| 1/1 [00:00<00:00, 371.90it/s]"
     ]
    },
    {
     "name": "stdout",
     "output_type": "stream",
     "text": [
      "\n",
      "\r",
      "  0%|          | 0/1 [00:00<?, ?it/s]"
     ]
    },
    {
     "name": "stdout",
     "output_type": "stream",
     "text": [
      "\r",
      "Upgrading database; v8 -> v9:   0%|          | 0/1 [00:00<?, ?it/s]"
     ]
    },
    {
     "name": "stdout",
     "output_type": "stream",
     "text": [
      "\r",
      "Upgrading database; v8 -> v9: 100%|██████████| 1/1 [00:00<00:00, 618.26it/s]"
     ]
    },
    {
     "name": "stdout",
     "output_type": "stream",
     "text": [
      "\n"
     ]
    },
    {
     "data": {
      "text/plain": [
       "tutorial_ParameterWithSetpoints#no sample#1@/home/vsts/work/1/s/docs/examples/Parameters/tutorial_paramter_with_setpoints.db\n",
       "----------------------------------------------------------------------------------------------------------------------------"
      ]
     },
     "execution_count": 1,
     "metadata": {},
     "output_type": "execute_result"
    }
   ],
   "source": [
    "tutorial_db_path = os.path.join(os.getcwd(), 'tutorial_paramter_with_setpoints.db')\n",
    "initialise_or_create_database_at(tutorial_db_path)\n",
    "load_or_create_experiment(experiment_name='tutorial_ParameterWithSetpoints', sample_name=\"no sample\")"
   ]
  },
  {
   "cell_type": "code",
   "execution_count": 7,
   "metadata": {
    "execution": {
     "iopub.execute_input": "2020-09-16T10:33:25.536257Z",
     "iopub.status.busy": "2020-09-16T10:33:25.535716Z",
     "iopub.status.idle": "2020-09-16T10:33:25.539485Z",
     "shell.execute_reply": "2020-09-16T10:33:25.538709Z"
    }
   },
   "outputs": [],
   "source": [
    "a = DummySpectrumAnalyzer('foobar')"
   ]
  },
  {
   "cell_type": "markdown",
   "execution_count": 8,
   "metadata": {},
   "source": [
    "First we setup the limits of the spectrum"
   ]
  },
  {
   "cell_type": "code",
   "execution_count": 8,
   "metadata": {
    "execution": {
     "iopub.execute_input": "2020-09-16T10:33:25.543032Z",
     "iopub.status.busy": "2020-09-16T10:33:25.542249Z",
     "iopub.status.idle": "2020-09-16T10:33:25.546011Z",
     "shell.execute_reply": "2020-09-16T10:33:25.545539Z"
    }
   },
   "outputs": [],
   "source": [
    "a.f_start(0)\n",
    "a.f_stop(500)\n",
    "a.n_points(501)"
   ]
  },
  {
   "cell_type": "markdown",
   "execution_count": 9,
   "metadata": {},
   "source": [
    "And we can grab the frequency axis"
   ]
  },
  {
   "cell_type": "code",
   "execution_count": 9,
   "metadata": {
    "execution": {
     "iopub.execute_input": "2020-09-16T10:33:25.549445Z",
     "iopub.status.busy": "2020-09-16T10:33:25.548732Z",
     "iopub.status.idle": "2020-09-16T10:33:25.554081Z",
     "shell.execute_reply": "2020-09-16T10:33:25.553522Z"
    }
   },
   "outputs": [
    {
     "data": {
      "text/plain": [
       "501"
      ]
     },
     "execution_count": 1,
     "metadata": {},
     "output_type": "execute_result"
    }
   ],
   "source": [
    "a.n_points()"
   ]
  },
  {
   "cell_type": "code",
   "execution_count": 10,
   "metadata": {
    "execution": {
     "iopub.execute_input": "2020-09-16T10:33:25.557524Z",
     "iopub.status.busy": "2020-09-16T10:33:25.556529Z",
     "iopub.status.idle": "2020-09-16T10:33:25.559985Z",
     "shell.execute_reply": "2020-09-16T10:33:25.560436Z"
    },
    "scrolled": false
   },
   "outputs": [
    {
     "data": {
      "text/plain": [
       "501"
      ]
     },
     "execution_count": 1,
     "metadata": {},
     "output_type": "execute_result"
    }
   ],
   "source": [
    "freq_axis = a.freq_axis()\n",
    "len(freq_axis)"
   ]
  },
  {
   "cell_type": "code",
   "execution_count": 11,
   "metadata": {
    "execution": {
     "iopub.execute_input": "2020-09-16T10:33:25.565480Z",
     "iopub.status.busy": "2020-09-16T10:33:25.564219Z",
     "iopub.status.idle": "2020-09-16T10:33:25.567389Z",
     "shell.execute_reply": "2020-09-16T10:33:25.567941Z"
    }
   },
   "outputs": [
    {
     "data": {
      "text/plain": [
       "array([0., 1., 2., 3., 4., 5., 6., 7., 8., 9.])"
      ]
     },
     "execution_count": 1,
     "metadata": {},
     "output_type": "execute_result"
    }
   ],
   "source": [
    "freq_axis[:10]"
   ]
  },
  {
   "cell_type": "markdown",
   "execution_count": 12,
   "metadata": {},
   "source": [
    "As expected we get a result wit 501 points as we asked for an axis with 501 points. "
   ]
  },
  {
   "cell_type": "markdown",
   "execution_count": 12,
   "metadata": {},
   "source": [
    "Above we have added a validator to the `freq_axis` parameter encoding the fact that this is an Array with `n_points`. Note that we do not have to supply the number of points as an integer but can supply a function that returns the valid number of points. This would normally be a QCoDeS parameter.\n",
    "\n",
    "This will be checked if we validate the output."
   ]
  },
  {
   "cell_type": "code",
   "execution_count": 12,
   "metadata": {
    "execution": {
     "iopub.execute_input": "2020-09-16T10:33:25.572348Z",
     "iopub.status.busy": "2020-09-16T10:33:25.571411Z",
     "iopub.status.idle": "2020-09-16T10:33:25.573208Z",
     "shell.execute_reply": "2020-09-16T10:33:25.573775Z"
    }
   },
   "outputs": [],
   "source": [
    "a.freq_axis.validate(a.freq_axis.get())"
   ]
  },
  {
   "cell_type": "markdown",
   "execution_count": 13,
   "metadata": {},
   "source": [
    "Naturally, we can also get the spectrum. Getting the spectrum will automatically perform validation both for the shape of the parameter itself and the relation to the setpoint parameter(s)"
   ]
  },
  {
   "cell_type": "code",
   "execution_count": 13,
   "metadata": {
    "execution": {
     "iopub.execute_input": "2020-09-16T10:33:25.578174Z",
     "iopub.status.busy": "2020-09-16T10:33:25.577122Z",
     "iopub.status.idle": "2020-09-16T10:33:25.580073Z",
     "shell.execute_reply": "2020-09-16T10:33:25.580705Z"
    },
    "scrolled": true
   },
   "outputs": [
    {
     "data": {
      "text/plain": [
       "501"
      ]
     },
     "execution_count": 1,
     "metadata": {},
     "output_type": "execute_result"
    }
   ],
   "source": [
    "spectrum = a.spectrum.get()\n",
    "len(spectrum)"
   ]
  },
  {
   "cell_type": "markdown",
   "execution_count": 14,
   "metadata": {},
   "source": [
    "When we validate a `ParameterWithSetpoints`, we automatically validate that the shape is consistent between the parameters and its setpoints. As well as validating the shape as above."
   ]
  },
  {
   "cell_type": "code",
   "execution_count": 14,
   "metadata": {
    "execution": {
     "iopub.execute_input": "2020-09-16T10:33:25.584609Z",
     "iopub.status.busy": "2020-09-16T10:33:25.584032Z",
     "iopub.status.idle": "2020-09-16T10:33:25.586531Z",
     "shell.execute_reply": "2020-09-16T10:33:25.585960Z"
    }
   },
   "outputs": [],
   "source": [
    "a.spectrum.validate(a.spectrum.get())"
   ]
  },
  {
   "cell_type": "markdown",
   "execution_count": 15,
   "metadata": {},
   "source": [
    "The consistent shapes can be validated explicitly."
   ]
  },
  {
   "cell_type": "code",
   "execution_count": 15,
   "metadata": {
    "execution": {
     "iopub.execute_input": "2020-09-16T10:33:25.590110Z",
     "iopub.status.busy": "2020-09-16T10:33:25.589558Z",
     "iopub.status.idle": "2020-09-16T10:33:25.591479Z",
     "shell.execute_reply": "2020-09-16T10:33:25.592023Z"
    }
   },
   "outputs": [],
   "source": [
    "a.spectrum.validate_consistent_shape()"
   ]
  },
  {
   "cell_type": "markdown",
   "execution_count": 16,
   "metadata": {},
   "source": [
    "We can inspect the setpoints of the spectrum."
   ]
  },
  {
   "cell_type": "code",
   "execution_count": 16,
   "metadata": {
    "execution": {
     "iopub.execute_input": "2020-09-16T10:33:25.597088Z",
     "iopub.status.busy": "2020-09-16T10:33:25.595853Z",
     "iopub.status.idle": "2020-09-16T10:33:25.598665Z",
     "shell.execute_reply": "2020-09-16T10:33:25.599215Z"
    }
   },
   "outputs": [
    {
     "data": {
      "text/plain": [
       "(<__main__.GeneratedSetPoints: freq_axis at 140452135986512>,)"
      ]
     },
     "execution_count": 1,
     "metadata": {},
     "output_type": "execute_result"
    }
   ],
   "source": [
    "a.spectrum.setpoints"
   ]
  },
  {
   "cell_type": "markdown",
   "execution_count": 17,
   "metadata": {},
   "source": [
    "Or even change them."
   ]
  },
  {
   "cell_type": "code",
   "execution_count": 17,
   "metadata": {
    "execution": {
     "iopub.execute_input": "2020-09-16T10:33:25.602793Z",
     "iopub.status.busy": "2020-09-16T10:33:25.602250Z",
     "iopub.status.idle": "2020-09-16T10:33:25.604689Z",
     "shell.execute_reply": "2020-09-16T10:33:25.604127Z"
    }
   },
   "outputs": [],
   "source": [
    "a.spectrum.setpoints = (a.freq_axis,)"
   ]
  },
  {
   "cell_type": "markdown",
   "execution_count": 18,
   "metadata": {},
   "source": [
    "## Measurement"
   ]
  },
  {
   "cell_type": "markdown",
   "execution_count": 18,
   "metadata": {},
   "source": [
    "We can also directly consume the parameter in a measurement without defining the setpoints of the parameter again. The setpoints are automatically obtained from the definition of the `ParameterWithSetpoint` instance. "
   ]
  },
  {
   "cell_type": "code",
   "execution_count": 18,
   "metadata": {
    "execution": {
     "iopub.execute_input": "2020-09-16T10:33:25.609036Z",
     "iopub.status.busy": "2020-09-16T10:33:25.608466Z",
     "iopub.status.idle": "2020-09-16T10:33:25.624122Z",
     "shell.execute_reply": "2020-09-16T10:33:25.623551Z"
    }
   },
   "outputs": [
    {
     "name": "stdout",
     "output_type": "stream",
     "text": [
      "Starting experimental run with id: 1. \n"
     ]
    }
   ],
   "source": [
    "meas = Measurement()\n",
    "meas.register_parameter(a.spectrum)\n",
    "\n",
    "with meas.run() as datasaver:\n",
    "    datasaver.add_result((a.freq_axis, a.freq_axis()),\n",
    "                         (a.spectrum, a.spectrum()))\n",
    "    dataset = datasaver.dataset"
   ]
  },
  {
   "cell_type": "markdown",
   "execution_count": 19,
   "metadata": {},
   "source": [
    "And plot it"
   ]
  },
  {
   "cell_type": "code",
   "execution_count": 19,
   "metadata": {
    "execution": {
     "iopub.execute_input": "2020-09-16T10:33:25.628766Z",
     "iopub.status.busy": "2020-09-16T10:33:25.626931Z",
     "iopub.status.idle": "2020-09-16T10:33:26.003427Z",
     "shell.execute_reply": "2020-09-16T10:33:26.004070Z"
    }
   },
   "outputs": [
    {
     "data": {
      "text/plain": [
       "([<matplotlib.axes._subplots.AxesSubplot at 0x7fbd90839e10>], [None])"
      ]
     },
     "execution_count": 1,
     "metadata": {},
     "output_type": "execute_result"
    },
    {
     "data": {
      "image/png": "[encoded data removed]",
      "text/plain": [
       "<Figure size 432x288 with 1 Axes>"
      ]
     },
     "metadata": {
      "needs_background": "light"
     },
     "output_type": "display_data"
    }
   ],
   "source": [
    "plot_dataset(dataset)"
   ]
  },
  {
   "cell_type": "markdown",
   "execution_count": 20,
   "metadata": {},
   "source": [
    "To reduce the amount of typing a simple convenience function is provided that will take a `ParameterWithSetpoints` and get both its values and the setpoints values and return them as tuples for direct insertion into the Dataset."
   ]
  },
  {
   "cell_type": "code",
   "execution_count": 20,
   "metadata": {
    "execution": {
     "iopub.execute_input": "2020-09-16T10:33:26.018522Z",
     "iopub.status.busy": "2020-09-16T10:33:26.017682Z",
     "iopub.status.idle": "2020-09-16T10:33:26.022423Z",
     "shell.execute_reply": "2020-09-16T10:33:26.021903Z"
    },
    "scrolled": true
   },
   "outputs": [
    {
     "data": {
      "text/plain": [
       "[(<__main__.GeneratedSetPoints: freq_axis at 140452135986512>,\n",
       "  array([  0.,   1.,   2.,   3.,   4.,   5.,   6.,   7.,   8.,   9.,  10.,\n",
       "          11.,  12.,  13.,  14.,  15.,  16.,  17.,  18.,  19.,  20.,  21.,\n",
       "          22.,  23.,  24.,  25.,  26.,  27.,  28.,  29.,  30.,  31.,  32.,\n",
       "          33.,  34.,  35.,  36.,  37.,  38.,  39.,  40.,  41.,  42.,  43.,\n",
       "          44.,  45.,  46.,  47.,  48.,  49.,  50.,  51.,  52.,  53.,  54.,\n",
       "          55.,  56.,  57.,  58.,  59.,  60.,  61.,  62.,  63.,  64.,  65.,\n",
       "          66.,  67.,  68.,  69.,  70.,  71.,  72.,  73.,  74.,  75.,  76.,\n",
       "          77.,  78.,  79.,  80.,  81.,  82.,  83.,  84.,  85.,  86.,  87.,\n",
       "          88.,  89.,  90.,  91.,  92.,  93.,  94.,  95.,  96.,  97.,  98.,\n",
       "          99., 100., 101., 102., 103., 104., 105., 106., 107., 108., 109.,\n",
       "         110., 111., 112., 113., 114., 115., 116., 117., 118., 119., 120.,\n",
       "         121., 122., 123., 124., 125., 126., 127., 128., 129., 130., 131.,\n",
       "         132., 133., 134., 135., 136., 137., 138., 139., 140., 141., 142.,\n",
       "         143., 144., 145., 146., 147., 148., 149., 150., 151., 152., 153.,\n",
       "         154., 155., 156., 157., 158., 159., 160., 161., 162., 163., 164.,\n",
       "         165., 166., 167., 168., 169., 170., 171., 172., 173., 174., 175.,\n",
       "         176., 177., 178., 179., 180., 181., 182., 183., 184., 185., 186.,\n",
       "         187., 188., 189., 190., 191., 192., 193., 194., 195., 196., 197.,\n",
       "         198., 199., 200., 201., 202., 203., 204., 205., 206., 207., 208.,\n",
       "         209., 210., 211., 212., 213., 214., 215., 216., 217., 218., 219.,\n",
       "         220., 221., 222., 223., 224., 225., 226., 227., 228., 229., 230.,\n",
       "         231., 232., 233., 234., 235., 236., 237., 238., 239., 240., 241.,\n",
       "         242., 243., 244., 245., 246., 247., 248., 249., 250., 251., 252.,\n",
       "         253., 254., 255., 256., 257., 258., 259., 260., 261., 262., 263.,\n",
       "         264., 265., 266., 267., 268., 269., 270., 271., 272., 273., 274.,\n",
       "         275., 276., 277., 278., 279., 280., 281., 282., 283., 284., 285.,\n",
       "         286., 287., 288., 289., 290., 291., 292., 293., 294., 295., 296.,\n",
       "         297., 298., 299., 300., 301., 302., 303., 304., 305., 306., 307.,\n",
       "         308., 309., 310., 311., 312., 313., 314., 315., 316., 317., 318.,\n",
       "         319., 320., 321., 322., 323., 324., 325., 326., 327., 328., 329.,\n",
       "         330., 331., 332., 333., 334., 335., 336., 337., 338., 339., 340.,\n",
       "         341., 342., 343., 344., 345., 346., 347., 348., 349., 350., 351.,\n",
       "         352., 353., 354., 355., 356., 357., 358., 359., 360., 361., 362.,\n",
       "         363., 364., 365., 366., 367., 368., 369., 370., 371., 372., 373.,\n",
       "         374., 375., 376., 377., 378., 379., 380., 381., 382., 383., 384.,\n",
       "         385., 386., 387., 388., 389., 390., 391., 392., 393., 394., 395.,\n",
       "         396., 397., 398., 399., 400., 401., 402., 403., 404., 405., 406.,\n",
       "         407., 408., 409., 410., 411., 412., 413., 414., 415., 416., 417.,\n",
       "         418., 419., 420., 421., 422., 423., 424., 425., 426., 427., 428.,\n",
       "         429., 430., 431., 432., 433., 434., 435., 436., 437., 438., 439.,\n",
       "         440., 441., 442., 443., 444., 445., 446., 447., 448., 449., 450.,\n",
       "         451., 452., 453., 454., 455., 456., 457., 458., 459., 460., 461.,\n",
       "         462., 463., 464., 465., 466., 467., 468., 469., 470., 471., 472.,\n",
       "         473., 474., 475., 476., 477., 478., 479., 480., 481., 482., 483.,\n",
       "         484., 485., 486., 487., 488., 489., 490., 491., 492., 493., 494.,\n",
       "         495., 496., 497., 498., 499., 500.])),\n",
       " (<__main__.DummyArray: spectrum at 140452144647056>,\n",
       "  array([0.9366235 , 0.32386421, 0.96186046, 0.52871628, 0.97839074,\n",
       "         0.4210428 , 0.51958658, 0.38628247, 0.54518051, 0.30249658,\n",
       "         0.89318371, 0.61315671, 0.62405124, 0.77358244, 0.74242326,\n",
       "         0.43349234, 0.78282728, 0.59380171, 0.86940968, 0.45698912,\n",
       "         0.22507456, 0.93740968, 0.14765914, 0.19485236, 0.28277179,\n",
       "         0.21184052, 0.11566042, 0.50961616, 0.70109631, 0.21023513,\n",
       "         0.32889083, 0.87407333, 0.81090966, 0.81466159, 0.41508221,\n",
       "         0.62251619, 0.67450476, 0.11598552, 0.9155632 , 0.57403816,\n",
       "         0.30647255, 0.84452999, 0.53025344, 0.12356556, 0.20988809,\n",
       "         0.99676998, 0.56949773, 0.7352642 , 0.17765635, 0.87459808,\n",
       "         0.06257855, 0.38518812, 0.64652835, 0.56591368, 0.39628709,\n",
       "         0.08389731, 0.85715494, 0.17661394, 0.31128421, 0.70189649,\n",
       "         0.7457149 , 0.87316083, 0.32168584, 0.39711116, 0.32804947,\n",
       "         0.98036418, 0.38231616, 0.89306526, 0.270862  , 0.00406057,\n",
       "         0.93703043, 0.77300696, 0.70171419, 0.09134066, 0.46970724,\n",
       "         0.57233573, 0.12743794, 0.70458864, 0.03622608, 0.96619458,\n",
       "         0.74440529, 0.4649238 , 0.72565658, 0.61180082, 0.20730459,\n",
       "         0.76467226, 0.3164535 , 0.27213853, 0.35879621, 0.66644661,\n",
       "         0.40155634, 0.58213354, 0.33199797, 0.43882102, 0.70317338,\n",
       "         0.06498788, 0.87842587, 0.58419115, 0.87988554, 0.12442897,\n",
       "         0.78295867, 0.44134814, 0.37660909, 0.76658555, 0.5181788 ,\n",
       "         0.13651843, 0.76703253, 0.2552122 , 0.52817497, 0.41808591,\n",
       "         0.51162919, 0.89286854, 0.22514575, 0.44265801, 0.90528354,\n",
       "         0.51483076, 0.40259661, 0.7760137 , 0.04843018, 0.49823134,\n",
       "         0.22227334, 0.99359569, 0.12533193, 0.06083967, 0.87798391,\n",
       "         0.08542606, 0.33642982, 0.04433033, 0.3609837 , 0.7053166 ,\n",
       "         0.99368645, 0.69589178, 0.25735831, 0.78322976, 0.30622157,\n",
       "         0.294116  , 0.64647766, 0.6918589 , 0.58467338, 0.77388778,\n",
       "         0.06586215, 0.81704367, 0.96545133, 0.30945639, 0.50533227,\n",
       "         0.89179671, 0.02498997, 0.84866943, 0.65761444, 0.62666467,\n",
       "         0.43348265, 0.50457253, 0.58304311, 0.12864728, 0.39871565,\n",
       "         0.68990688, 0.75228127, 0.77644733, 0.70433234, 0.67882722,\n",
       "         0.94055411, 0.84418576, 0.83503434, 0.80979427, 0.73246427,\n",
       "         0.38991471, 0.5108839 , 0.58034407, 0.01024269, 0.93311054,\n",
       "         0.99413844, 0.23789648, 0.48923112, 0.32679673, 0.66869862,\n",
       "         0.07122632, 0.25143189, 0.59050837, 0.60212436, 0.9848044 ,\n",
       "         0.97041163, 0.43354801, 0.63258857, 0.51903326, 0.33411996,\n",
       "         0.73986956, 0.90304411, 0.60662878, 0.33427673, 0.56410809,\n",
       "         0.29685565, 0.62839807, 0.06910741, 0.76115194, 0.8869178 ,\n",
       "         0.81389621, 0.24806655, 0.58624052, 0.70496525, 0.88537992,\n",
       "         0.82366231, 0.61528036, 0.7188311 , 0.32395408, 0.12838555,\n",
       "         0.02200308, 0.15122334, 0.27296773, 0.66088611, 0.73036698,\n",
       "         0.22457237, 0.791892  , 0.27943626, 0.14420084, 0.22783491,\n",
       "         0.56579707, 0.71908731, 0.55985038, 0.15149386, 0.4293094 ,\n",
       "         0.35913884, 0.71916398, 0.48617699, 0.50841169, 0.27930107,\n",
       "         0.4924543 , 0.41148667, 0.13413757, 0.70536587, 0.27335015,\n",
       "         0.60133701, 0.70821825, 0.22522193, 0.55608376, 0.29641999,\n",
       "         0.69155897, 0.07588739, 0.7363665 , 0.58607483, 0.01767395,\n",
       "         0.86989975, 0.95937628, 0.59316837, 0.47324549, 0.65816835,\n",
       "         0.97621721, 0.28000378, 0.24553862, 0.03470335, 0.38230296,\n",
       "         0.52006527, 0.62308912, 0.15471744, 0.21201997, 0.50957116,\n",
       "         0.99725306, 0.17972583, 0.28671481, 0.89568903, 0.81699085,\n",
       "         0.49363233, 0.75233787, 0.68269429, 0.27648425, 0.07001688,\n",
       "         0.70237819, 0.68247525, 0.00244677, 0.17372672, 0.71165446,\n",
       "         0.07694568, 0.1038451 , 0.0129101 , 0.91444836, 0.60049265,\n",
       "         0.95901117, 0.40026608, 0.18547197, 0.68413837, 0.00257115,\n",
       "         0.93506882, 0.25868119, 0.61986207, 0.39909852, 0.63624196,\n",
       "         0.19478696, 0.89909341, 0.0534557 , 0.56037158, 0.60664743,\n",
       "         0.62168297, 0.32792616, 0.56910072, 0.32675943, 0.93846296,\n",
       "         0.37658853, 0.92386898, 0.38791116, 0.90455711, 0.41777755,\n",
       "         0.42740676, 0.39451207, 0.72079091, 0.42433551, 0.60290222,\n",
       "         0.30006092, 0.77710184, 0.45834018, 0.76559299, 0.44116436,\n",
       "         0.10862913, 0.15926356, 0.88117722, 0.62934777, 0.42104962,\n",
       "         0.48847046, 0.57972171, 0.28108355, 0.0914102 , 0.12148998,\n",
       "         0.90501387, 0.18183589, 0.85975864, 0.32314294, 0.18959387,\n",
       "         0.58755908, 0.62085322, 0.19892128, 0.6914392 , 0.36321506,\n",
       "         0.13905168, 0.64732955, 0.7360758 , 0.170019  , 0.96030474,\n",
       "         0.46831461, 0.4515068 , 0.86152834, 0.15613857, 0.62544011,\n",
       "         0.64050771, 0.67826918, 0.29975424, 0.22926917, 0.50558574,\n",
       "         0.44717392, 0.86100523, 0.46039291, 0.43327982, 0.93696436,\n",
       "         0.25676011, 0.57704566, 0.98821   , 0.45151881, 0.06252847,\n",
       "         0.1965861 , 0.577936  , 0.87294167, 0.14389717, 0.34714859,\n",
       "         0.46361744, 0.92715068, 0.86353178, 0.93842395, 0.42179517,\n",
       "         0.42681881, 0.16800719, 0.93777694, 0.90498007, 0.01337339,\n",
       "         0.2702556 , 0.9507022 , 0.89942475, 0.01533526, 0.26203905,\n",
       "         0.1970305 , 0.42239842, 0.55229256, 0.17952312, 0.84873348,\n",
       "         0.46595544, 0.44280564, 0.85106668, 0.58465956, 0.43365647,\n",
       "         0.46546071, 0.65260613, 0.32660936, 0.01381997, 0.67923901,\n",
       "         0.7622802 , 0.27794664, 0.12550631, 0.46000211, 0.8823448 ,\n",
       "         0.88566873, 0.89071631, 0.88999367, 0.88964258, 0.23765611,\n",
       "         0.96225573, 0.44179278, 0.53599508, 0.26738722, 0.47451716,\n",
       "         0.37934738, 0.99721498, 0.14083829, 0.46715552, 0.35991932,\n",
       "         0.25220987, 0.74024174, 0.17127382, 0.21437371, 0.08708648,\n",
       "         0.82744635, 0.87216458, 0.44641159, 0.35448194, 0.53421929,\n",
       "         0.03760561, 0.49122512, 0.97478655, 0.67732053, 0.27386347,\n",
       "         0.06049512, 0.79988962, 0.01875238, 0.02002013, 0.3815636 ,\n",
       "         0.7254421 , 0.28566547, 0.14927062, 0.28469385, 0.84507127,\n",
       "         0.25044671, 0.31211426, 0.06315726, 0.08345209, 0.51447942,\n",
       "         0.57612751, 0.22858476, 0.99098843, 0.92059905, 0.98223438,\n",
       "         0.82899625, 0.29806426, 0.49418062, 0.7009066 , 0.72605287,\n",
       "         0.38432821, 0.36358132, 0.36920711, 0.45327001, 0.792834  ,\n",
       "         0.7555723 , 0.66206345, 0.61674082, 0.73324986, 0.5038805 ,\n",
       "         0.92759556, 0.88744693, 0.95381434, 0.34111232, 0.18801859,\n",
       "         0.4209756 , 0.81414884, 0.27253344, 0.70414   , 0.53605508,\n",
       "         0.69099995, 0.73323604, 0.43158717, 0.98957845, 0.23008616,\n",
       "         0.71983103, 0.14649415, 0.53546464, 0.03597132, 0.58422555,\n",
       "         0.78605264, 0.78488505, 0.16281492, 0.91414109, 0.21667574,\n",
       "         0.30680592, 0.70542689, 0.70885354, 0.02869206, 0.11788013,\n",
       "         0.84786124, 0.73939869, 0.00827914, 0.48203671, 0.15973229,\n",
       "         0.43407127, 0.75915792, 0.18535688, 0.01363818, 0.67101357,\n",
       "         0.56794229]))]"
      ]
     },
     "execution_count": 1,
     "metadata": {},
     "output_type": "execute_result"
    }
   ],
   "source": [
    "expand_setpoints_helper(a.spectrum)"
   ]
  },
  {
   "cell_type": "code",
   "execution_count": 21,
   "metadata": {
    "execution": {
     "iopub.execute_input": "2020-09-16T10:33:26.026773Z",
     "iopub.status.busy": "2020-09-16T10:33:26.026244Z",
     "iopub.status.idle": "2020-09-16T10:33:26.040105Z",
     "shell.execute_reply": "2020-09-16T10:33:26.040539Z"
    }
   },
   "outputs": [
    {
     "name": "stdout",
     "output_type": "stream",
     "text": [
      "Starting experimental run with id: 2. \n"
     ]
    }
   ],
   "source": [
    "meas = Measurement()\n",
    "meas.register_parameter(a.spectrum)\n",
    "\n",
    "with meas.run() as datasaver:\n",
    "    datasaver.add_result(*expand_setpoints_helper(a.spectrum))\n",
    "    \n",
    "    dataid = datasaver.run_id"
   ]
  },
  {
   "cell_type": "code",
   "execution_count": 22,
   "metadata": {},
   "outputs": [],
   "source": []
  }
 ],
 "metadata": {
  "kernelspec": {
   "display_name": "Python 3",
   "language": "python",
   "name": "python3"
  },
  "language_info": {
   "codemirror_mode": {
    "name": "ipython",
    "version": 3
   },
   "file_extension": ".py",
   "mimetype": "text/x-python",
   "name": "python",
   "nbconvert_exporter": "python",
   "pygments_lexer": "ipython3",
   "version": "3.7.7"
  },
  "toc": {
   "base_numbering": 1,
   "nav_menu": {},
   "number_sections": true,
   "sideBar": true,
   "skip_h1_title": false,
   "title_cell": "Table of Contents",
   "title_sidebar": "Contents",
   "toc_cell": false,
   "toc_position": {},
   "toc_section_display": true,
   "toc_window_display": false
  },
  "varInspector": {
   "cols": {
    "lenName": 16,
    "lenType": 16,
    "lenVar": 40
   },
   "kernels_config": {
    "python": {
     "delete_cmd_postfix": "",
     "delete_cmd_prefix": "del ",
     "library": "var_list.py",
     "varRefreshCmd": "print(var_dic_list())"
    },
    "r": {
     "delete_cmd_postfix": ") ",
     "delete_cmd_prefix": "rm(",
     "library": "var_list.r",
     "varRefreshCmd": "cat(var_dic_list()) "
    }
   },
   "types_to_exclude": [
    "module",
    "function",
    "builtin_function_or_method",
    "instance",
    "_Feature"
   ],
   "window_display": false
  }
 },
 "nbformat": 4,
 "nbformat_minor": 2
}
