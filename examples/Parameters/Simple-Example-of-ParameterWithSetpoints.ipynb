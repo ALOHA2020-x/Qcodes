{
 "cells": [
  {
   "cell_type": "markdown",
   "metadata": {},
   "source": [
    "# Simple Example of ParameterWithSetpoints\n",
    "This notebook provides an example for writing a simple driver with a parameter that has setpoints. Let's name this parameter that has setpoints as \"y\". Then, the setpoints, say \"x1, x2, x3 ..\", are the parameters on which the parameter \n",
    "\"y\" depends upon. Meaning \"y\" is a function of \"x1, x2, x3 ...\" where \"x1, x2, x3 ...\" are known as the setpoints of parameter \"y\".\n",
    "\n",
    "This is most likely to be useful for instruments that return arrays of results. In this notebook, we will show an example of this."
   ]
  },
  {
   "cell_type": "code",
   "execution_count": 1,
   "metadata": {},
   "outputs": [],
   "source": [
    "import numpy as np\n",
    "import os"
   ]
  },
  {
   "cell_type": "code",
   "execution_count": 2,
   "metadata": {},
   "outputs": [
    {
     "name": "stdout",
     "output_type": "stream",
     "text": [
      "Logging hadn't been started.\n",
      "Activating auto-logging. Current session state plus future input saved.\n",
      "Filename       : /home/vsts/.qcodes/logs/command_history.log\n",
      "Mode           : append\n",
      "Output logging : True\n",
      "Raw input log  : False\n",
      "Timestamping   : True\n",
      "State          : active\n"
     ]
    },
    {
     "name": "stdout",
     "output_type": "stream",
     "text": [
      "Qcodes Logfile : /home/vsts/.qcodes/logs/200512-22146-qcodes.log\n"
     ]
    }
   ],
   "source": [
    "from qcodes.dataset.plotting import plot_dataset\n",
    "from qcodes.utils.validators import Numbers, Arrays\n",
    "from qcodes.instrument.base import Instrument\n",
    "from qcodes.dataset.measurements import Measurement"
   ]
  },
  {
   "cell_type": "code",
   "execution_count": 3,
   "metadata": {},
   "outputs": [],
   "source": [
    "from qcodes.dataset.sqlite.database import initialise_or_create_database_at\n",
    "from qcodes.dataset.experiment_container import load_or_create_experiment"
   ]
  },
  {
   "cell_type": "code",
   "execution_count": 4,
   "metadata": {},
   "outputs": [],
   "source": [
    "from qcodes.instrument.parameter import ParameterWithSetpoints, Parameter\n",
    "from qcodes.instrument.parameter import expand_setpoints_helper"
   ]
  },
  {
   "cell_type": "markdown",
   "metadata": {},
   "source": [
    "First, we define a dummy instrument that returns something like a frequency spectrum starting from a frequency given by `f_start` to a frequency given by `f_stop` in `n_points` steps. \n",
    "\n",
    "The extra functionality of the `ParameterWithSetpoints` is implemented by giving it a reference to one or more parameters that acts like its setpoints. \n",
    "\n",
    "To setup a `ParameterWithSetpoints` we have to do two things in addition to what we do for a normal parameter.\n",
    "\n",
    "* Define one or more parameter for the setpoints (one for each dimension of the array and let the `ParameterWithSetpoints` know that these are the setpoints.\n",
    "* Give both the setpoints parameter(s) and the `ParameterWithSetpoints` a `validator` of type `Arrays` with a shape. The shapes should be such that the combined shape of the setpoints matches the shape of the `ParameterWithSetpoints`. Note that if the shape changes with the setting of the instrument, it can be defined by another parameter as shown below. "
   ]
  },
  {
   "cell_type": "code",
   "execution_count": 5,
   "metadata": {},
   "outputs": [],
   "source": [
    "class GeneratedSetPoints(Parameter):\n",
    "    \"\"\"\n",
    "    A parameter that generates a setpoint array from start, stop and num points\n",
    "    parameters.\n",
    "    \"\"\"\n",
    "    def __init__(self, startparam, stopparam, numpointsparam, *args, **kwargs):\n",
    "        super().__init__(*args, **kwargs)\n",
    "        self._startparam = startparam\n",
    "        self._stopparam = stopparam\n",
    "        self._numpointsparam = numpointsparam\n",
    "\n",
    "    def get_raw(self):\n",
    "        return np.linspace(self._startparam(), self._stopparam(),\n",
    "                              self._numpointsparam())\n",
    "\n",
    "class DummyArray(ParameterWithSetpoints):\n",
    "    \n",
    "    def get_raw(self):\n",
    "        npoints = self.root_instrument.n_points.get_latest()\n",
    "        return np.random.rand(npoints)\n",
    "    \n",
    "\n",
    "class DummySpectrumAnalyzer(Instrument):\n",
    "    \n",
    "    def __init__(self, name, **kwargs):\n",
    "        \n",
    "        super().__init__(name, **kwargs)\n",
    "            \n",
    "\n",
    "        self.add_parameter('f_start',\n",
    "                           initial_value=0,\n",
    "                           unit='Hz',\n",
    "                           label='f start',\n",
    "                           vals=Numbers(0,1e3),\n",
    "                           get_cmd=None,\n",
    "                           set_cmd=None)\n",
    "\n",
    "        self.add_parameter('f_stop',\n",
    "                           unit='Hz',\n",
    "                           label='f stop',\n",
    "                           vals=Numbers(1,1e3),\n",
    "                           get_cmd=None,\n",
    "                           set_cmd=None)\n",
    "\n",
    "        self.add_parameter('n_points',\n",
    "                           unit='',\n",
    "                           initial_value=10,\n",
    "                           vals=Numbers(1,1e3),\n",
    "                           get_cmd=None,\n",
    "                           set_cmd=None)\n",
    "        \n",
    "        self.add_parameter('freq_axis',\n",
    "                           unit='Hz',\n",
    "                           label='Freq Axis',\n",
    "                           parameter_class=GeneratedSetPoints,\n",
    "                           startparam=self.f_start,\n",
    "                           stopparam=self.f_stop,\n",
    "                           numpointsparam=self.n_points,\n",
    "                           vals=Arrays(shape=(self.n_points.get_latest,)))\n",
    "                           \n",
    "        self.add_parameter('spectrum',\n",
    "                   unit='dBm',\n",
    "                   setpoints=(self.freq_axis,),\n",
    "                   label='Spectrum',\n",
    "                   parameter_class=DummyArray,\n",
    "                   vals=Arrays(shape=(self.n_points.get_latest,)))\n",
    "                "
   ]
  },
  {
   "cell_type": "markdown",
   "metadata": {},
   "source": [
    "In the above example, the shape is defined by the parameter `n_points` that defines how many samples our `DummySpectrumAnalyzer` returns.\n",
    "\n",
    "This means that the validation will call the function to get `n_points` twice for each `get` of the parameter. This may be too slow, however, if you (as the driver-writer) can guarantee that the cached value for `n_points` will never be out of sync with the value stored in the instrument, `n_points` may be replaced by it's latest known value such that the `validator` reads:\n",
    "```python\n",
    "vals=Arrays(shape=(self.n_points.get_latest))\n",
    "```\n",
    "\n",
    "This avoids any additional call to the instrument. In the same way, the arguments to the `freq_axis` parameter that defines the start, stop and number of points can be replaced by their latest value if the instrument allows it.\n",
    "\n"
   ]
  },
  {
   "cell_type": "code",
   "execution_count": 6,
   "metadata": {},
   "outputs": [
    {
     "name": "stdout",
     "output_type": "stream",
     "text": [
      "\r",
      "0it [00:00, ?it/s]"
     ]
    },
    {
     "name": "stdout",
     "output_type": "stream",
     "text": [
      "\r",
      "Upgrading database; v0 -> v1: : 0it [00:00, ?it/s]"
     ]
    },
    {
     "name": "stdout",
     "output_type": "stream",
     "text": [
      "\r",
      "Upgrading database; v0 -> v1: : 0it [00:00, ?it/s]"
     ]
    },
    {
     "name": "stdout",
     "output_type": "stream",
     "text": [
      "\n",
      "\r",
      "  0%|          | 0/1 [00:00<?, ?it/s]"
     ]
    },
    {
     "name": "stdout",
     "output_type": "stream",
     "text": [
      "\r",
      "Upgrading database; v1 -> v2:   0%|          | 0/1 [00:00<?, ?it/s]"
     ]
    },
    {
     "name": "stdout",
     "output_type": "stream",
     "text": [
      "\r",
      "Upgrading database; v1 -> v2: 100%|██████████| 1/1 [00:00<00:00, 794.98it/s]"
     ]
    },
    {
     "name": "stdout",
     "output_type": "stream",
     "text": [
      "\n",
      "\r",
      "0it [00:00, ?it/s]"
     ]
    },
    {
     "name": "stdout",
     "output_type": "stream",
     "text": [
      "\r",
      "Upgrading database; v2 -> v3: : 0it [00:00, ?it/s]"
     ]
    },
    {
     "name": "stdout",
     "output_type": "stream",
     "text": [
      "\r",
      "Upgrading database; v2 -> v3: : 0it [00:00, ?it/s]"
     ]
    },
    {
     "name": "stdout",
     "output_type": "stream",
     "text": [
      "\n",
      "\r",
      "0it [00:00, ?it/s]"
     ]
    },
    {
     "name": "stdout",
     "output_type": "stream",
     "text": [
      "\r",
      "Upgrading database; v3 -> v4: : 0it [00:00, ?it/s]"
     ]
    },
    {
     "name": "stdout",
     "output_type": "stream",
     "text": [
      "\r",
      "Upgrading database; v3 -> v4: : 0it [00:00, ?it/s]"
     ]
    },
    {
     "name": "stdout",
     "output_type": "stream",
     "text": [
      "\n",
      "\r",
      "  0%|          | 0/1 [00:00<?, ?it/s]"
     ]
    },
    {
     "name": "stdout",
     "output_type": "stream",
     "text": [
      "\r",
      "Upgrading database; v4 -> v5:   0%|          | 0/1 [00:00<?, ?it/s]"
     ]
    },
    {
     "name": "stdout",
     "output_type": "stream",
     "text": [
      "\r",
      "Upgrading database; v4 -> v5: 100%|██████████| 1/1 [00:00<00:00, 889.19it/s]"
     ]
    },
    {
     "name": "stdout",
     "output_type": "stream",
     "text": [
      "\n",
      "\r",
      "0it [00:00, ?it/s]"
     ]
    },
    {
     "name": "stdout",
     "output_type": "stream",
     "text": [
      "\r",
      "Upgrading database; v5 -> v6: : 0it [00:00, ?it/s]"
     ]
    },
    {
     "name": "stdout",
     "output_type": "stream",
     "text": [
      "\r",
      "Upgrading database; v5 -> v6: : 0it [00:00, ?it/s]"
     ]
    },
    {
     "name": "stdout",
     "output_type": "stream",
     "text": [
      "\n",
      "\r",
      "  0%|          | 0/1 [00:00<?, ?it/s]"
     ]
    },
    {
     "name": "stdout",
     "output_type": "stream",
     "text": [
      "\r",
      "Upgrading database; v6 -> v7:   0%|          | 0/1 [00:00<?, ?it/s]"
     ]
    },
    {
     "name": "stdout",
     "output_type": "stream",
     "text": [
      "\r",
      "Upgrading database; v6 -> v7: 100%|██████████| 1/1 [00:00<00:00, 199.27it/s]"
     ]
    },
    {
     "name": "stdout",
     "output_type": "stream",
     "text": [
      "\n",
      "\r",
      "  0%|          | 0/1 [00:00<?, ?it/s]"
     ]
    },
    {
     "name": "stdout",
     "output_type": "stream",
     "text": [
      "\r",
      "Upgrading database; v7 -> v8:   0%|          | 0/1 [00:00<?, ?it/s]"
     ]
    },
    {
     "name": "stdout",
     "output_type": "stream",
     "text": [
      "\r",
      "Upgrading database; v7 -> v8: 100%|██████████| 1/1 [00:00<00:00, 788.40it/s]"
     ]
    },
    {
     "name": "stdout",
     "output_type": "stream",
     "text": [
      "\n",
      "\r",
      "  0%|          | 0/1 [00:00<?, ?it/s]"
     ]
    },
    {
     "name": "stdout",
     "output_type": "stream",
     "text": [
      "\r",
      "Upgrading database; v8 -> v9:   0%|          | 0/1 [00:00<?, ?it/s]"
     ]
    },
    {
     "name": "stdout",
     "output_type": "stream",
     "text": [
      "\r",
      "Upgrading database; v8 -> v9: 100%|██████████| 1/1 [00:00<00:00, 1088.30it/s]"
     ]
    },
    {
     "name": "stdout",
     "output_type": "stream",
     "text": [
      "\n"
     ]
    },
    {
     "data": {
      "text/plain": [
       "tutorial_ParameterWithSetpoints#no sample#1@/home/vsts/work/1/s/docs/examples/Parameters/tutorial_paramter_with_setpoints.db\n",
       "----------------------------------------------------------------------------------------------------------------------------"
      ]
     },
     "execution_count": 6,
     "metadata": {},
     "output_type": "execute_result"
    }
   ],
   "source": [
    "tutorial_db_path = os.path.join(os.getcwd(), 'tutorial_paramter_with_setpoints.db')\n",
    "initialise_or_create_database_at(tutorial_db_path)\n",
    "load_or_create_experiment(experiment_name='tutorial_ParameterWithSetpoints', sample_name=\"no sample\")"
   ]
  },
  {
   "cell_type": "code",
   "execution_count": 7,
   "metadata": {},
   "outputs": [],
   "source": [
    "a = DummySpectrumAnalyzer('foobar')"
   ]
  },
  {
   "cell_type": "markdown",
   "metadata": {},
   "source": [
    "First we setup the limits of the spectrum"
   ]
  },
  {
   "cell_type": "code",
   "execution_count": 8,
   "metadata": {},
   "outputs": [],
   "source": [
    "a.f_start(0)\n",
    "a.f_stop(500)\n",
    "a.n_points(501)"
   ]
  },
  {
   "cell_type": "markdown",
   "metadata": {},
   "source": [
    "And we can grab the frequency axis"
   ]
  },
  {
   "cell_type": "code",
   "execution_count": 9,
   "metadata": {},
   "outputs": [
    {
     "data": {
      "text/plain": [
       "501"
      ]
     },
     "execution_count": 9,
     "metadata": {},
     "output_type": "execute_result"
    }
   ],
   "source": [
    "a.n_points()"
   ]
  },
  {
   "cell_type": "code",
   "execution_count": 10,
   "metadata": {
    "scrolled": false
   },
   "outputs": [
    {
     "data": {
      "text/plain": [
       "501"
      ]
     },
     "execution_count": 10,
     "metadata": {},
     "output_type": "execute_result"
    }
   ],
   "source": [
    "freq_axis = a.freq_axis()\n",
    "len(freq_axis)"
   ]
  },
  {
   "cell_type": "code",
   "execution_count": 11,
   "metadata": {},
   "outputs": [
    {
     "data": {
      "text/plain": [
       "array([0., 1., 2., 3., 4., 5., 6., 7., 8., 9.])"
      ]
     },
     "execution_count": 11,
     "metadata": {},
     "output_type": "execute_result"
    }
   ],
   "source": [
    "freq_axis[:10]"
   ]
  },
  {
   "cell_type": "markdown",
   "metadata": {},
   "source": [
    "As expected we get a result wit 501 points as we asked for an axis with 501 points. "
   ]
  },
  {
   "cell_type": "markdown",
   "metadata": {},
   "source": [
    "Above we have added a validator to the `freq_axis` parameter encoding the fact that this is an Array with `n_points`. Note that we do not have to supply the number of points as an integer but can supply a function that returns the valid number of points. This would normally be a QCoDeS parameter.\n",
    "\n",
    "This will be checked if we validate the output."
   ]
  },
  {
   "cell_type": "code",
   "execution_count": 12,
   "metadata": {},
   "outputs": [],
   "source": [
    "a.freq_axis.validate(a.freq_axis.get())"
   ]
  },
  {
   "cell_type": "markdown",
   "metadata": {},
   "source": [
    "Naturally, we can also get the spectrum. Getting the spectrum will automatically perform validation both for the shape of the parameter itself and the relation to the setpoint parameter(s)"
   ]
  },
  {
   "cell_type": "code",
   "execution_count": 13,
   "metadata": {
    "scrolled": true
   },
   "outputs": [
    {
     "data": {
      "text/plain": [
       "501"
      ]
     },
     "execution_count": 13,
     "metadata": {},
     "output_type": "execute_result"
    }
   ],
   "source": [
    "spectrum = a.spectrum.get()\n",
    "len(spectrum)"
   ]
  },
  {
   "cell_type": "markdown",
   "metadata": {},
   "source": [
    "When we validate a `ParameterWithSetpoints`, we automatically validate that the shape is consistent between the parameters and its setpoints. As well as validating the shape as above."
   ]
  },
  {
   "cell_type": "code",
   "execution_count": 14,
   "metadata": {},
   "outputs": [],
   "source": [
    "a.spectrum.validate(a.spectrum.get())"
   ]
  },
  {
   "cell_type": "markdown",
   "metadata": {},
   "source": [
    "The consistent shapes can be validated explicitly."
   ]
  },
  {
   "cell_type": "code",
   "execution_count": 15,
   "metadata": {},
   "outputs": [],
   "source": [
    "a.spectrum.validate_consistent_shape()"
   ]
  },
  {
   "cell_type": "markdown",
   "metadata": {},
   "source": [
    "We can inspect the setpoints of the spectrum."
   ]
  },
  {
   "cell_type": "code",
   "execution_count": 16,
   "metadata": {},
   "outputs": [
    {
     "data": {
      "text/plain": [
       "(<__main__.GeneratedSetPoints: freq_axis at 140621358010192>,)"
      ]
     },
     "execution_count": 16,
     "metadata": {},
     "output_type": "execute_result"
    }
   ],
   "source": [
    "a.spectrum.setpoints"
   ]
  },
  {
   "cell_type": "markdown",
   "metadata": {},
   "source": [
    "Or even change them."
   ]
  },
  {
   "cell_type": "code",
   "execution_count": 17,
   "metadata": {},
   "outputs": [],
   "source": [
    "a.spectrum.setpoints = (a.freq_axis,)"
   ]
  },
  {
   "cell_type": "markdown",
   "metadata": {},
   "source": [
    "## Measurement"
   ]
  },
  {
   "cell_type": "markdown",
   "metadata": {},
   "source": [
    "We can also directly consume the parameter in a measurement without defining the setpoints of the parameter again. The setpoints are automatically obtained from the definition of the `ParameterWithSetpoint` instance. "
   ]
  },
  {
   "cell_type": "code",
   "execution_count": 18,
   "metadata": {},
   "outputs": [
    {
     "name": "stdout",
     "output_type": "stream",
     "text": [
      "Starting experimental run with id: 1. "
     ]
    },
    {
     "name": "stdout",
     "output_type": "stream",
     "text": [
      "\n"
     ]
    }
   ],
   "source": [
    "meas = Measurement()\n",
    "meas.register_parameter(a.spectrum)\n",
    "\n",
    "with meas.run() as datasaver:\n",
    "    datasaver.add_result((a.freq_axis, a.freq_axis()),\n",
    "                         (a.spectrum, a.spectrum()))\n",
    "    dataset = datasaver.dataset"
   ]
  },
  {
   "cell_type": "markdown",
   "metadata": {},
   "source": [
    "And plot it"
   ]
  },
  {
   "cell_type": "code",
   "execution_count": 19,
   "metadata": {},
   "outputs": [
    {
     "data": {
      "text/plain": [
       "([<matplotlib.axes._subplots.AxesSubplot at 0x7fe4f5104390>], [None])"
      ]
     },
     "execution_count": 19,
     "metadata": {},
     "output_type": "execute_result"
    },
    {
     "data": {
      "image/png": "[encoded data removed]",
      "text/plain": [
       "<Figure size 432x288 with 1 Axes>"
      ]
     },
     "metadata": {
      "needs_background": "light"
     },
     "output_type": "display_data"
    }
   ],
   "source": [
    "plot_dataset(dataset)"
   ]
  },
  {
   "cell_type": "markdown",
   "metadata": {},
   "source": [
    "To reduce the amount of typing a simple convenience function is provided that will take a `ParameterWithSetpoints` and get both its values and the setpoints values and return them as tuples for direct insertion into the Dataset."
   ]
  },
  {
   "cell_type": "code",
   "execution_count": 20,
   "metadata": {
    "scrolled": true
   },
   "outputs": [
    {
     "data": {
      "text/plain": [
       "[(<__main__.GeneratedSetPoints: freq_axis at 140621358010192>,\n",
       "  array([  0.,   1.,   2.,   3.,   4.,   5.,   6.,   7.,   8.,   9.,  10.,\n",
       "          11.,  12.,  13.,  14.,  15.,  16.,  17.,  18.,  19.,  20.,  21.,\n",
       "          22.,  23.,  24.,  25.,  26.,  27.,  28.,  29.,  30.,  31.,  32.,\n",
       "          33.,  34.,  35.,  36.,  37.,  38.,  39.,  40.,  41.,  42.,  43.,\n",
       "          44.,  45.,  46.,  47.,  48.,  49.,  50.,  51.,  52.,  53.,  54.,\n",
       "          55.,  56.,  57.,  58.,  59.,  60.,  61.,  62.,  63.,  64.,  65.,\n",
       "          66.,  67.,  68.,  69.,  70.,  71.,  72.,  73.,  74.,  75.,  76.,\n",
       "          77.,  78.,  79.,  80.,  81.,  82.,  83.,  84.,  85.,  86.,  87.,\n",
       "          88.,  89.,  90.,  91.,  92.,  93.,  94.,  95.,  96.,  97.,  98.,\n",
       "          99., 100., 101., 102., 103., 104., 105., 106., 107., 108., 109.,\n",
       "         110., 111., 112., 113., 114., 115., 116., 117., 118., 119., 120.,\n",
       "         121., 122., 123., 124., 125., 126., 127., 128., 129., 130., 131.,\n",
       "         132., 133., 134., 135., 136., 137., 138., 139., 140., 141., 142.,\n",
       "         143., 144., 145., 146., 147., 148., 149., 150., 151., 152., 153.,\n",
       "         154., 155., 156., 157., 158., 159., 160., 161., 162., 163., 164.,\n",
       "         165., 166., 167., 168., 169., 170., 171., 172., 173., 174., 175.,\n",
       "         176., 177., 178., 179., 180., 181., 182., 183., 184., 185., 186.,\n",
       "         187., 188., 189., 190., 191., 192., 193., 194., 195., 196., 197.,\n",
       "         198., 199., 200., 201., 202., 203., 204., 205., 206., 207., 208.,\n",
       "         209., 210., 211., 212., 213., 214., 215., 216., 217., 218., 219.,\n",
       "         220., 221., 222., 223., 224., 225., 226., 227., 228., 229., 230.,\n",
       "         231., 232., 233., 234., 235., 236., 237., 238., 239., 240., 241.,\n",
       "         242., 243., 244., 245., 246., 247., 248., 249., 250., 251., 252.,\n",
       "         253., 254., 255., 256., 257., 258., 259., 260., 261., 262., 263.,\n",
       "         264., 265., 266., 267., 268., 269., 270., 271., 272., 273., 274.,\n",
       "         275., 276., 277., 278., 279., 280., 281., 282., 283., 284., 285.,\n",
       "         286., 287., 288., 289., 290., 291., 292., 293., 294., 295., 296.,\n",
       "         297., 298., 299., 300., 301., 302., 303., 304., 305., 306., 307.,\n",
       "         308., 309., 310., 311., 312., 313., 314., 315., 316., 317., 318.,\n",
       "         319., 320., 321., 322., 323., 324., 325., 326., 327., 328., 329.,\n",
       "         330., 331., 332., 333., 334., 335., 336., 337., 338., 339., 340.,\n",
       "         341., 342., 343., 344., 345., 346., 347., 348., 349., 350., 351.,\n",
       "         352., 353., 354., 355., 356., 357., 358., 359., 360., 361., 362.,\n",
       "         363., 364., 365., 366., 367., 368., 369., 370., 371., 372., 373.,\n",
       "         374., 375., 376., 377., 378., 379., 380., 381., 382., 383., 384.,\n",
       "         385., 386., 387., 388., 389., 390., 391., 392., 393., 394., 395.,\n",
       "         396., 397., 398., 399., 400., 401., 402., 403., 404., 405., 406.,\n",
       "         407., 408., 409., 410., 411., 412., 413., 414., 415., 416., 417.,\n",
       "         418., 419., 420., 421., 422., 423., 424., 425., 426., 427., 428.,\n",
       "         429., 430., 431., 432., 433., 434., 435., 436., 437., 438., 439.,\n",
       "         440., 441., 442., 443., 444., 445., 446., 447., 448., 449., 450.,\n",
       "         451., 452., 453., 454., 455., 456., 457., 458., 459., 460., 461.,\n",
       "         462., 463., 464., 465., 466., 467., 468., 469., 470., 471., 472.,\n",
       "         473., 474., 475., 476., 477., 478., 479., 480., 481., 482., 483.,\n",
       "         484., 485., 486., 487., 488., 489., 490., 491., 492., 493., 494.,\n",
       "         495., 496., 497., 498., 499., 500.])),\n",
       " (<__main__.DummyArray: spectrum at 140621349875152>,\n",
       "  array([4.07323022e-01, 3.72329073e-01, 3.19576956e-01, 9.43733589e-01,\n",
       "         9.88399896e-01, 1.82843419e-01, 2.36944291e-01, 7.45045661e-01,\n",
       "         3.89319140e-01, 1.60965058e-01, 1.29885065e-01, 4.64788458e-02,\n",
       "         9.07705139e-01, 6.92467343e-01, 6.20072815e-01, 5.18872985e-01,\n",
       "         6.84532777e-01, 3.35161909e-01, 5.39450960e-01, 6.73308991e-01,\n",
       "         5.37432962e-01, 9.19720761e-01, 9.82496400e-01, 3.48610057e-03,\n",
       "         1.26431663e-01, 7.98862527e-02, 4.97035721e-01, 1.58230753e-02,\n",
       "         5.52546603e-01, 1.38976739e-01, 3.22735908e-01, 3.78705025e-01,\n",
       "         8.24920653e-02, 8.21316825e-01, 3.34704836e-01, 2.90437214e-02,\n",
       "         8.70307745e-01, 6.93492238e-01, 8.23926815e-01, 5.86526266e-01,\n",
       "         5.21114452e-01, 9.24755312e-02, 6.20759617e-02, 9.45682501e-01,\n",
       "         3.12401892e-01, 8.20634318e-01, 2.63727855e-01, 6.77553529e-02,\n",
       "         7.60294360e-01, 6.76292928e-01, 1.53670088e-01, 3.51465590e-01,\n",
       "         2.69020066e-01, 2.85757580e-01, 5.04183383e-01, 8.90329672e-02,\n",
       "         3.93135542e-01, 4.26072236e-01, 1.06198873e-01, 2.30080367e-02,\n",
       "         4.52464838e-01, 2.44642507e-01, 3.93570562e-01, 2.29844752e-01,\n",
       "         8.10376289e-01, 9.08664258e-01, 8.65770601e-01, 4.42471536e-01,\n",
       "         7.05439651e-01, 8.60157911e-01, 8.97310884e-01, 7.80546150e-02,\n",
       "         5.94573723e-01, 2.99643624e-01, 3.33371819e-01, 2.52138906e-01,\n",
       "         2.77294284e-01, 3.04703172e-01, 1.95871684e-01, 3.33066605e-01,\n",
       "         2.45861096e-01, 5.95649341e-02, 5.45897098e-01, 4.16257617e-01,\n",
       "         8.03879938e-01, 6.57872566e-01, 3.28052610e-01, 3.54220921e-01,\n",
       "         9.36116360e-01, 9.66561759e-01, 2.44226509e-01, 9.71048918e-01,\n",
       "         9.21599801e-01, 7.46098777e-01, 6.36377242e-01, 8.94240817e-01,\n",
       "         6.82034132e-01, 9.04765613e-01, 6.51469293e-02, 1.85474541e-01,\n",
       "         6.56216349e-01, 3.68309318e-01, 9.84151150e-01, 3.02562470e-01,\n",
       "         3.02496502e-01, 9.20170304e-02, 6.43461238e-01, 2.01016924e-01,\n",
       "         3.41651887e-01, 9.90045415e-01, 7.53943794e-01, 1.06185768e-01,\n",
       "         4.01244067e-01, 2.58506533e-01, 2.73277449e-01, 4.96633795e-01,\n",
       "         6.10873152e-01, 2.06602044e-01, 7.12039891e-02, 6.92283121e-01,\n",
       "         9.76877634e-01, 3.78376590e-01, 7.86603165e-01, 4.81636418e-01,\n",
       "         5.02493000e-01, 5.65576709e-01, 4.37513515e-01, 3.80188186e-01,\n",
       "         6.03191140e-01, 5.47636208e-01, 6.70952879e-01, 1.14124761e-01,\n",
       "         2.34504733e-01, 6.82277303e-01, 6.74648713e-03, 7.79862303e-01,\n",
       "         3.67576017e-01, 4.26430472e-01, 7.95550976e-02, 9.24137868e-01,\n",
       "         2.65713310e-01, 7.61733842e-02, 1.03255622e-01, 8.05629809e-03,\n",
       "         2.43809682e-01, 8.77921339e-02, 2.22446505e-01, 4.74839345e-02,\n",
       "         7.72161386e-01, 6.09021703e-01, 5.75475463e-01, 5.61234081e-01,\n",
       "         1.22896083e-01, 2.51203360e-02, 1.31209092e-01, 4.06323004e-01,\n",
       "         9.98647076e-01, 6.78349507e-01, 7.74722191e-01, 1.59169922e-01,\n",
       "         3.09185244e-01, 7.77614315e-01, 2.65332909e-01, 4.03648787e-01,\n",
       "         1.55496263e-01, 8.95802609e-01, 9.64928658e-01, 4.63398206e-01,\n",
       "         7.58672001e-01, 6.10094184e-02, 5.62244863e-01, 6.73017601e-01,\n",
       "         9.87403322e-01, 8.74558042e-01, 5.39226736e-01, 6.37574490e-01,\n",
       "         7.66212328e-01, 2.04298219e-01, 8.15210037e-01, 6.30717819e-01,\n",
       "         3.32910531e-01, 9.62396809e-01, 5.02621950e-02, 7.91222913e-01,\n",
       "         4.68171851e-02, 2.45383194e-01, 1.86004761e-01, 6.60719060e-01,\n",
       "         6.39866508e-01, 3.26301567e-01, 3.39144398e-01, 6.31515387e-01,\n",
       "         3.17530098e-01, 6.80191299e-01, 5.06433492e-01, 6.83598614e-01,\n",
       "         6.66570640e-01, 6.02135866e-01, 6.69558446e-01, 3.99356664e-01,\n",
       "         5.98279661e-01, 4.06202326e-01, 8.63825745e-01, 1.97633261e-01,\n",
       "         9.01048050e-01, 9.20718826e-01, 9.70322573e-01, 3.30023794e-01,\n",
       "         7.27071466e-01, 9.22370216e-02, 7.34260775e-02, 5.27940418e-01,\n",
       "         3.82012269e-01, 1.89744664e-01, 5.90205727e-01, 3.06636954e-01,\n",
       "         2.25815535e-01, 2.77047750e-02, 3.85129594e-01, 8.49316802e-01,\n",
       "         3.83655193e-01, 7.77246827e-01, 2.29577209e-01, 4.83399499e-01,\n",
       "         2.78404122e-01, 2.34181925e-01, 4.76809586e-01, 1.59446561e-01,\n",
       "         1.70574899e-01, 5.97348492e-01, 9.20293543e-01, 1.82753703e-01,\n",
       "         7.94088501e-01, 4.38615221e-01, 9.81568111e-01, 7.13946704e-01,\n",
       "         5.65756955e-01, 3.51921268e-01, 5.07365427e-01, 6.10063026e-01,\n",
       "         2.26993394e-01, 5.08403548e-01, 7.34535884e-01, 8.77548122e-01,\n",
       "         4.57576730e-01, 3.54883256e-01, 7.39993962e-01, 5.07611537e-01,\n",
       "         9.88760853e-01, 6.07665239e-01, 9.18803858e-01, 7.93449335e-01,\n",
       "         8.61896944e-03, 4.29175020e-01, 6.79380219e-01, 6.19745660e-01,\n",
       "         3.98764542e-01, 3.41651585e-01, 3.32730635e-01, 4.46983844e-01,\n",
       "         6.89081508e-01, 4.50160419e-01, 6.95683879e-01, 7.18371867e-01,\n",
       "         7.10146922e-01, 3.00221434e-01, 6.20748947e-01, 1.68125444e-01,\n",
       "         7.86134429e-01, 6.75503066e-01, 8.41549040e-01, 7.10148535e-01,\n",
       "         2.61255547e-01, 9.22772787e-01, 5.22733150e-01, 1.12608271e-01,\n",
       "         7.54439036e-02, 2.58470360e-01, 7.50958878e-01, 6.94992683e-01,\n",
       "         5.35654087e-02, 3.26328310e-01, 3.85037704e-01, 3.05225566e-01,\n",
       "         6.77076471e-01, 8.30877236e-01, 2.78946605e-02, 9.99957099e-01,\n",
       "         9.02495365e-01, 5.25033345e-01, 3.06265261e-01, 7.31530574e-01,\n",
       "         6.86916738e-01, 7.79591978e-01, 9.49464423e-01, 6.32910075e-01,\n",
       "         3.39565054e-01, 5.69182451e-01, 3.70099512e-01, 3.55641057e-01,\n",
       "         3.35322632e-01, 3.61814848e-01, 2.55043451e-01, 3.76544463e-01,\n",
       "         7.15091821e-01, 9.32474938e-01, 5.40616205e-01, 3.10023951e-01,\n",
       "         4.46925062e-01, 5.49274620e-01, 1.63394137e-01, 5.00397197e-01,\n",
       "         2.48857900e-01, 8.21203411e-04, 5.97043720e-01, 2.26917891e-01,\n",
       "         1.52608181e-01, 6.77450059e-01, 1.38274426e-01, 8.65742349e-01,\n",
       "         4.68403232e-02, 9.41301754e-01, 3.45279185e-01, 2.32996030e-01,\n",
       "         2.31772153e-01, 3.90842709e-01, 3.70773179e-01, 2.20859019e-01,\n",
       "         8.85833751e-01, 9.83711380e-01, 2.70647023e-01, 3.98066845e-01,\n",
       "         4.59673511e-01, 5.92947449e-01, 9.80977291e-02, 7.52870202e-01,\n",
       "         5.43386795e-01, 1.29120166e-01, 8.30132345e-01, 6.04302526e-01,\n",
       "         9.19610048e-02, 1.50751710e-01, 8.69561122e-01, 6.05043915e-01,\n",
       "         8.61314767e-01, 5.27158479e-02, 8.14252199e-01, 8.92641522e-01,\n",
       "         9.63084515e-01, 1.31412686e-01, 8.33470729e-01, 7.97570071e-01,\n",
       "         1.27868785e-01, 9.12799002e-01, 8.75660817e-01, 9.03401656e-01,\n",
       "         5.83811618e-01, 9.99966011e-02, 7.59435202e-01, 5.48124797e-01,\n",
       "         8.08780770e-01, 1.41945650e-01, 6.84847974e-01, 9.23040674e-01,\n",
       "         4.92237671e-01, 2.94884283e-01, 1.97515199e-01, 2.96994911e-01,\n",
       "         1.19690914e-02, 1.40940798e-01, 8.55919492e-01, 2.34828728e-01,\n",
       "         7.29354650e-01, 7.24822529e-01, 5.70909735e-01, 2.78864588e-01,\n",
       "         3.88732462e-01, 4.54406487e-01, 9.87366245e-01, 4.97038253e-01,\n",
       "         1.69709363e-01, 1.26592460e-02, 4.83371677e-01, 5.00300921e-02,\n",
       "         9.30530079e-01, 6.73284338e-01, 8.34022938e-02, 9.42812140e-01,\n",
       "         7.97122205e-01, 5.26986302e-01, 8.03694432e-01, 2.87033994e-01,\n",
       "         4.68700884e-02, 5.10103835e-01, 5.92541118e-01, 1.22014365e-01,\n",
       "         4.92995985e-01, 3.29257415e-02, 2.28989044e-01, 6.90247691e-01,\n",
       "         4.25370112e-01, 1.84170407e-02, 5.67018970e-01, 5.07224062e-01,\n",
       "         3.94540097e-01, 4.77560198e-01, 2.43112566e-01, 9.07499458e-02,\n",
       "         4.35001373e-01, 4.92894849e-01, 3.95197898e-01, 5.32163227e-02,\n",
       "         2.69011801e-01, 6.46484557e-01, 3.25968785e-01, 2.04718028e-01,\n",
       "         4.08559842e-01, 5.27792955e-01, 3.29464753e-01, 5.97310050e-01,\n",
       "         9.86499580e-01, 7.53303349e-01, 4.17672878e-01, 2.76733581e-01,\n",
       "         6.01627084e-01, 9.17825749e-01, 5.65405890e-01, 6.72609802e-01,\n",
       "         1.69619524e-01, 3.09832303e-01, 3.55472789e-02, 2.26332113e-01,\n",
       "         5.29288133e-01, 3.39303871e-01, 3.58979713e-01, 4.73423135e-01,\n",
       "         5.33431811e-01, 8.95772277e-01, 9.55310638e-01, 3.93876823e-01,\n",
       "         8.16644642e-01, 1.57530282e-01, 1.00149676e-02, 7.28287679e-01,\n",
       "         7.05692102e-01, 7.42990504e-01, 9.11113126e-01, 2.85321682e-01,\n",
       "         1.95414132e-01, 1.58739826e-01, 1.21559143e-01, 1.17872010e-01,\n",
       "         1.62360371e-01, 5.51688731e-01, 2.25624952e-01, 8.46103961e-01,\n",
       "         4.46681994e-02, 7.01460083e-02, 3.67701446e-01, 7.83094799e-02,\n",
       "         5.70314272e-01, 3.61704451e-01, 5.05862532e-01, 9.52901578e-01,\n",
       "         2.63104092e-03, 7.12321665e-01, 9.00963276e-01, 6.30583224e-01,\n",
       "         8.21981464e-01, 2.03831315e-02, 8.02173250e-02, 7.35877806e-01,\n",
       "         3.40138767e-02, 2.08638700e-01, 1.91493708e-01, 8.56829715e-01,\n",
       "         1.17012437e-01, 3.32229373e-01, 4.18099428e-01, 1.84401660e-01,\n",
       "         3.76269842e-01, 6.11056918e-01, 8.57426219e-01, 7.86131984e-02,\n",
       "         2.65904923e-01, 8.22025090e-01, 8.75299328e-01, 3.91768954e-01,\n",
       "         7.26000249e-01, 9.64400443e-01, 6.46924672e-01, 5.26425756e-01,\n",
       "         8.83883616e-01, 5.28320062e-01, 1.97558648e-01, 8.58421778e-01,\n",
       "         2.98589296e-01, 7.96312374e-02, 8.70319586e-01, 4.20250950e-01,\n",
       "         4.77128087e-01]))]"
      ]
     },
     "execution_count": 20,
     "metadata": {},
     "output_type": "execute_result"
    }
   ],
   "source": [
    "expand_setpoints_helper(a.spectrum)"
   ]
  },
  {
   "cell_type": "code",
   "execution_count": 21,
   "metadata": {},
   "outputs": [
    {
     "name": "stdout",
     "output_type": "stream",
     "text": [
      "Starting experimental run with id: 2. \n"
     ]
    }
   ],
   "source": [
    "meas = Measurement()\n",
    "meas.register_parameter(a.spectrum)\n",
    "\n",
    "with meas.run() as datasaver:\n",
    "    datasaver.add_result(*expand_setpoints_helper(a.spectrum))\n",
    "    \n",
    "    dataid = datasaver.run_id"
   ]
  },
  {
   "cell_type": "code",
   "execution_count": null,
   "metadata": {},
   "outputs": [],
   "source": []
  }
 ],
 "metadata": {
  "kernelspec": {
   "display_name": "Python 3",
   "language": "python",
   "name": "python3"
  },
  "language_info": {
   "codemirror_mode": {
    "name": "ipython",
    "version": 3
   },
   "file_extension": ".py",
   "mimetype": "text/x-python",
   "name": "python",
   "nbconvert_exporter": "python",
   "pygments_lexer": "ipython3",
   "version": "3.7.7"
  },
  "toc": {
   "base_numbering": 1,
   "nav_menu": {},
   "number_sections": true,
   "sideBar": true,
   "skip_h1_title": false,
   "title_cell": "Table of Contents",
   "title_sidebar": "Contents",
   "toc_cell": false,
   "toc_position": {},
   "toc_section_display": true,
   "toc_window_display": false
  },
  "varInspector": {
   "cols": {
    "lenName": 16,
    "lenType": 16,
    "lenVar": 40
   },
   "kernels_config": {
    "python": {
     "delete_cmd_postfix": "",
     "delete_cmd_prefix": "del ",
     "library": "var_list.py",
     "varRefreshCmd": "print(var_dic_list())"
    },
    "r": {
     "delete_cmd_postfix": ") ",
     "delete_cmd_prefix": "rm(",
     "library": "var_list.r",
     "varRefreshCmd": "cat(var_dic_list()) "
    }
   },
   "types_to_exclude": [
    "module",
    "function",
    "builtin_function_or_method",
    "instance",
    "_Feature"
   ],
   "window_display": false
  }
 },
 "nbformat": 4,
 "nbformat_minor": 2
}
