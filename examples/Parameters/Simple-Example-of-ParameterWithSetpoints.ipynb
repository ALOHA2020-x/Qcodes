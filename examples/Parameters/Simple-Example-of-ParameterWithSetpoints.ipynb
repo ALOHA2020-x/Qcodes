{
 "cells": [
  {
   "cell_type": "markdown",
   "metadata": {},
   "source": [
    "# Simple Example of ParameterWithSetpoints\n",
    "This notebook provides an example for writing a simple driver with a parameter that has setpoints. Let's name this parameter that has setpoints as \"y\". Then, the setpoints, say \"x1, x2, x3 ..\", are the parameters on which the parameter \n",
    "\"y\" depends upon. Meaning \"y\" is a function of \"x1, x2, x3 ...\" where \"x1, x2, x3 ...\" are known as the setpoints of parameter \"y\".\n",
    "\n",
    "This is most likely to be useful for instruments that return arrays of results. In this notebook, we will show an example of this."
   ]
  },
  {
   "cell_type": "code",
   "execution_count": 1,
   "metadata": {},
   "outputs": [],
   "source": [
    "import numpy as np\n",
    "import os"
   ]
  },
  {
   "cell_type": "code",
   "execution_count": 2,
   "metadata": {},
   "outputs": [
    {
     "name": "stdout",
     "output_type": "stream",
     "text": [
      "Logging hadn't been started.\n",
      "Activating auto-logging. Current session state plus future input saved.\n",
      "Filename       : /home/vsts/.qcodes/logs/command_history.log\n",
      "Mode           : append\n",
      "Output logging : True\n",
      "Raw input log  : False\n",
      "Timestamping   : True\n",
      "State          : active\n"
     ]
    },
    {
     "name": "stdout",
     "output_type": "stream",
     "text": [
      "Qcodes Logfile : /home/vsts/.qcodes/logs/200717-21641-qcodes.log\n"
     ]
    }
   ],
   "source": [
    "from qcodes.dataset.plotting import plot_dataset\n",
    "from qcodes.utils.validators import Numbers, Arrays\n",
    "from qcodes.instrument.base import Instrument\n",
    "from qcodes.dataset.measurements import Measurement"
   ]
  },
  {
   "cell_type": "code",
   "execution_count": 3,
   "metadata": {},
   "outputs": [],
   "source": [
    "from qcodes.dataset.sqlite.database import initialise_or_create_database_at\n",
    "from qcodes.dataset.experiment_container import load_or_create_experiment"
   ]
  },
  {
   "cell_type": "code",
   "execution_count": 4,
   "metadata": {},
   "outputs": [],
   "source": [
    "from qcodes.instrument.parameter import ParameterWithSetpoints, Parameter\n",
    "from qcodes.instrument.parameter import expand_setpoints_helper"
   ]
  },
  {
   "cell_type": "markdown",
   "metadata": {},
   "source": [
    "First, we define a dummy instrument that returns something like a frequency spectrum starting from a frequency given by `f_start` to a frequency given by `f_stop` in `n_points` steps. \n",
    "\n",
    "The extra functionality of the `ParameterWithSetpoints` is implemented by giving it a reference to one or more parameters that acts like its setpoints. \n",
    "\n",
    "To setup a `ParameterWithSetpoints` we have to do two things in addition to what we do for a normal parameter.\n",
    "\n",
    "* Define one or more parameter for the setpoints (one for each dimension of the array and let the `ParameterWithSetpoints` know that these are the setpoints.\n",
    "* Give both the setpoints parameter(s) and the `ParameterWithSetpoints` a `validator` of type `Arrays` with a shape. The shapes should be such that the combined shape of the setpoints matches the shape of the `ParameterWithSetpoints`. Note that if the shape changes with the setting of the instrument, it can be defined by another parameter as shown below. "
   ]
  },
  {
   "cell_type": "code",
   "execution_count": 5,
   "metadata": {},
   "outputs": [],
   "source": [
    "class GeneratedSetPoints(Parameter):\n",
    "    \"\"\"\n",
    "    A parameter that generates a setpoint array from start, stop and num points\n",
    "    parameters.\n",
    "    \"\"\"\n",
    "    def __init__(self, startparam, stopparam, numpointsparam, *args, **kwargs):\n",
    "        super().__init__(*args, **kwargs)\n",
    "        self._startparam = startparam\n",
    "        self._stopparam = stopparam\n",
    "        self._numpointsparam = numpointsparam\n",
    "\n",
    "    def get_raw(self):\n",
    "        return np.linspace(self._startparam(), self._stopparam(),\n",
    "                              self._numpointsparam())\n",
    "\n",
    "class DummyArray(ParameterWithSetpoints):\n",
    "    \n",
    "    def get_raw(self):\n",
    "        npoints = self.root_instrument.n_points.get_latest()\n",
    "        return np.random.rand(npoints)\n",
    "    \n",
    "\n",
    "class DummySpectrumAnalyzer(Instrument):\n",
    "    \n",
    "    def __init__(self, name, **kwargs):\n",
    "        \n",
    "        super().__init__(name, **kwargs)\n",
    "            \n",
    "\n",
    "        self.add_parameter('f_start',\n",
    "                           initial_value=0,\n",
    "                           unit='Hz',\n",
    "                           label='f start',\n",
    "                           vals=Numbers(0,1e3),\n",
    "                           get_cmd=None,\n",
    "                           set_cmd=None)\n",
    "\n",
    "        self.add_parameter('f_stop',\n",
    "                           unit='Hz',\n",
    "                           label='f stop',\n",
    "                           vals=Numbers(1,1e3),\n",
    "                           get_cmd=None,\n",
    "                           set_cmd=None)\n",
    "\n",
    "        self.add_parameter('n_points',\n",
    "                           unit='',\n",
    "                           initial_value=10,\n",
    "                           vals=Numbers(1,1e3),\n",
    "                           get_cmd=None,\n",
    "                           set_cmd=None)\n",
    "        \n",
    "        self.add_parameter('freq_axis',\n",
    "                           unit='Hz',\n",
    "                           label='Freq Axis',\n",
    "                           parameter_class=GeneratedSetPoints,\n",
    "                           startparam=self.f_start,\n",
    "                           stopparam=self.f_stop,\n",
    "                           numpointsparam=self.n_points,\n",
    "                           vals=Arrays(shape=(self.n_points.get_latest,)))\n",
    "                           \n",
    "        self.add_parameter('spectrum',\n",
    "                   unit='dBm',\n",
    "                   setpoints=(self.freq_axis,),\n",
    "                   label='Spectrum',\n",
    "                   parameter_class=DummyArray,\n",
    "                   vals=Arrays(shape=(self.n_points.get_latest,)))\n",
    "                "
   ]
  },
  {
   "cell_type": "markdown",
   "metadata": {},
   "source": [
    "In the above example, the shape is defined by the parameter `n_points` that defines how many samples our `DummySpectrumAnalyzer` returns.\n",
    "\n",
    "This means that the validation will call the function to get `n_points` twice for each `get` of the parameter. This may be too slow, however, if you (as the driver-writer) can guarantee that the cached value for `n_points` will never be out of sync with the value stored in the instrument, `n_points` may be replaced by it's latest known value such that the `validator` reads:\n",
    "```python\n",
    "vals=Arrays(shape=(self.n_points.get_latest))\n",
    "```\n",
    "\n",
    "This avoids any additional call to the instrument. In the same way, the arguments to the `freq_axis` parameter that defines the start, stop and number of points can be replaced by their latest value if the instrument allows it.\n",
    "\n"
   ]
  },
  {
   "cell_type": "code",
   "execution_count": 6,
   "metadata": {},
   "outputs": [
    {
     "name": "stdout",
     "output_type": "stream",
     "text": [
      "\r",
      "0it [00:00, ?it/s]"
     ]
    },
    {
     "name": "stdout",
     "output_type": "stream",
     "text": [
      "\r",
      "Upgrading database; v0 -> v1: : 0it [00:00, ?it/s]"
     ]
    },
    {
     "name": "stdout",
     "output_type": "stream",
     "text": [
      "\r",
      "Upgrading database; v0 -> v1: : 0it [00:00, ?it/s]"
     ]
    },
    {
     "name": "stdout",
     "output_type": "stream",
     "text": [
      "\n",
      "\r",
      "  0%|          | 0/1 [00:00<?, ?it/s]"
     ]
    },
    {
     "name": "stdout",
     "output_type": "stream",
     "text": [
      "\r",
      "Upgrading database; v1 -> v2:   0%|          | 0/1 [00:00<?, ?it/s]"
     ]
    },
    {
     "name": "stdout",
     "output_type": "stream",
     "text": [
      "\r",
      "Upgrading database; v1 -> v2: 100%|██████████| 1/1 [00:00<00:00, 433.97it/s]"
     ]
    },
    {
     "name": "stdout",
     "output_type": "stream",
     "text": [
      "\n",
      "\r",
      "0it [00:00, ?it/s]"
     ]
    },
    {
     "name": "stdout",
     "output_type": "stream",
     "text": [
      "\r",
      "Upgrading database; v2 -> v3: : 0it [00:00, ?it/s]"
     ]
    },
    {
     "name": "stdout",
     "output_type": "stream",
     "text": [
      "\r",
      "Upgrading database; v2 -> v3: : 0it [00:00, ?it/s]"
     ]
    },
    {
     "name": "stdout",
     "output_type": "stream",
     "text": [
      "\n",
      "\r",
      "0it [00:00, ?it/s]"
     ]
    },
    {
     "name": "stdout",
     "output_type": "stream",
     "text": [
      "\r",
      "Upgrading database; v3 -> v4: : 0it [00:00, ?it/s]"
     ]
    },
    {
     "name": "stdout",
     "output_type": "stream",
     "text": [
      "\r",
      "Upgrading database; v3 -> v4: : 0it [00:00, ?it/s]"
     ]
    },
    {
     "name": "stdout",
     "output_type": "stream",
     "text": [
      "\n",
      "\r",
      "  0%|          | 0/1 [00:00<?, ?it/s]"
     ]
    },
    {
     "name": "stdout",
     "output_type": "stream",
     "text": [
      "\r",
      "Upgrading database; v4 -> v5:   0%|          | 0/1 [00:00<?, ?it/s]"
     ]
    },
    {
     "name": "stdout",
     "output_type": "stream",
     "text": [
      "\r",
      "Upgrading database; v4 -> v5: 100%|██████████| 1/1 [00:00<00:00, 574.64it/s]"
     ]
    },
    {
     "name": "stdout",
     "output_type": "stream",
     "text": [
      "\n",
      "\r",
      "0it [00:00, ?it/s]"
     ]
    },
    {
     "name": "stdout",
     "output_type": "stream",
     "text": [
      "\r",
      "Upgrading database; v5 -> v6: : 0it [00:00, ?it/s]"
     ]
    },
    {
     "name": "stdout",
     "output_type": "stream",
     "text": [
      "\r",
      "Upgrading database; v5 -> v6: : 0it [00:00, ?it/s]"
     ]
    },
    {
     "name": "stdout",
     "output_type": "stream",
     "text": [
      "\n",
      "\r",
      "  0%|          | 0/1 [00:00<?, ?it/s]"
     ]
    },
    {
     "name": "stdout",
     "output_type": "stream",
     "text": [
      "\r",
      "Upgrading database; v6 -> v7:   0%|          | 0/1 [00:00<?, ?it/s]"
     ]
    },
    {
     "name": "stdout",
     "output_type": "stream",
     "text": [
      "\r",
      "Upgrading database; v6 -> v7: 100%|██████████| 1/1 [00:00<00:00, 270.76it/s]"
     ]
    },
    {
     "name": "stdout",
     "output_type": "stream",
     "text": [
      "\n",
      "\r",
      "  0%|          | 0/1 [00:00<?, ?it/s]"
     ]
    },
    {
     "name": "stdout",
     "output_type": "stream",
     "text": [
      "\r",
      "Upgrading database; v7 -> v8:   0%|          | 0/1 [00:00<?, ?it/s]"
     ]
    },
    {
     "name": "stdout",
     "output_type": "stream",
     "text": [
      "\r",
      "Upgrading database; v7 -> v8: 100%|██████████| 1/1 [00:00<00:00, 691.44it/s]"
     ]
    },
    {
     "name": "stdout",
     "output_type": "stream",
     "text": [
      "\n",
      "\r",
      "  0%|          | 0/1 [00:00<?, ?it/s]"
     ]
    },
    {
     "name": "stdout",
     "output_type": "stream",
     "text": [
      "\r",
      "Upgrading database; v8 -> v9:   0%|          | 0/1 [00:00<?, ?it/s]"
     ]
    },
    {
     "name": "stdout",
     "output_type": "stream",
     "text": [
      "\r",
      "Upgrading database; v8 -> v9: 100%|██████████| 1/1 [00:00<00:00, 723.78it/s]"
     ]
    },
    {
     "name": "stdout",
     "output_type": "stream",
     "text": [
      "\n"
     ]
    },
    {
     "data": {
      "text/plain": [
       "tutorial_ParameterWithSetpoints#no sample#1@/home/vsts/work/1/s/docs/examples/Parameters/tutorial_paramter_with_setpoints.db\n",
       "----------------------------------------------------------------------------------------------------------------------------"
      ]
     },
     "execution_count": 6,
     "metadata": {},
     "output_type": "execute_result"
    }
   ],
   "source": [
    "tutorial_db_path = os.path.join(os.getcwd(), 'tutorial_paramter_with_setpoints.db')\n",
    "initialise_or_create_database_at(tutorial_db_path)\n",
    "load_or_create_experiment(experiment_name='tutorial_ParameterWithSetpoints', sample_name=\"no sample\")"
   ]
  },
  {
   "cell_type": "code",
   "execution_count": 7,
   "metadata": {},
   "outputs": [],
   "source": [
    "a = DummySpectrumAnalyzer('foobar')"
   ]
  },
  {
   "cell_type": "markdown",
   "metadata": {},
   "source": [
    "First we setup the limits of the spectrum"
   ]
  },
  {
   "cell_type": "code",
   "execution_count": 8,
   "metadata": {},
   "outputs": [],
   "source": [
    "a.f_start(0)\n",
    "a.f_stop(500)\n",
    "a.n_points(501)"
   ]
  },
  {
   "cell_type": "markdown",
   "metadata": {},
   "source": [
    "And we can grab the frequency axis"
   ]
  },
  {
   "cell_type": "code",
   "execution_count": 9,
   "metadata": {},
   "outputs": [
    {
     "data": {
      "text/plain": [
       "501"
      ]
     },
     "execution_count": 9,
     "metadata": {},
     "output_type": "execute_result"
    }
   ],
   "source": [
    "a.n_points()"
   ]
  },
  {
   "cell_type": "code",
   "execution_count": 10,
   "metadata": {
    "scrolled": false
   },
   "outputs": [
    {
     "data": {
      "text/plain": [
       "501"
      ]
     },
     "execution_count": 10,
     "metadata": {},
     "output_type": "execute_result"
    }
   ],
   "source": [
    "freq_axis = a.freq_axis()\n",
    "len(freq_axis)"
   ]
  },
  {
   "cell_type": "code",
   "execution_count": 11,
   "metadata": {},
   "outputs": [
    {
     "data": {
      "text/plain": [
       "array([0., 1., 2., 3., 4., 5., 6., 7., 8., 9.])"
      ]
     },
     "execution_count": 11,
     "metadata": {},
     "output_type": "execute_result"
    }
   ],
   "source": [
    "freq_axis[:10]"
   ]
  },
  {
   "cell_type": "markdown",
   "metadata": {},
   "source": [
    "As expected we get a result wit 501 points as we asked for an axis with 501 points. "
   ]
  },
  {
   "cell_type": "markdown",
   "metadata": {},
   "source": [
    "Above we have added a validator to the `freq_axis` parameter encoding the fact that this is an Array with `n_points`. Note that we do not have to supply the number of points as an integer but can supply a function that returns the valid number of points. This would normally be a QCoDeS parameter.\n",
    "\n",
    "This will be checked if we validate the output."
   ]
  },
  {
   "cell_type": "code",
   "execution_count": 12,
   "metadata": {},
   "outputs": [],
   "source": [
    "a.freq_axis.validate(a.freq_axis.get())"
   ]
  },
  {
   "cell_type": "markdown",
   "metadata": {},
   "source": [
    "Naturally, we can also get the spectrum. Getting the spectrum will automatically perform validation both for the shape of the parameter itself and the relation to the setpoint parameter(s)"
   ]
  },
  {
   "cell_type": "code",
   "execution_count": 13,
   "metadata": {
    "scrolled": true
   },
   "outputs": [
    {
     "data": {
      "text/plain": [
       "501"
      ]
     },
     "execution_count": 13,
     "metadata": {},
     "output_type": "execute_result"
    }
   ],
   "source": [
    "spectrum = a.spectrum.get()\n",
    "len(spectrum)"
   ]
  },
  {
   "cell_type": "markdown",
   "metadata": {},
   "source": [
    "When we validate a `ParameterWithSetpoints`, we automatically validate that the shape is consistent between the parameters and its setpoints. As well as validating the shape as above."
   ]
  },
  {
   "cell_type": "code",
   "execution_count": 14,
   "metadata": {},
   "outputs": [],
   "source": [
    "a.spectrum.validate(a.spectrum.get())"
   ]
  },
  {
   "cell_type": "markdown",
   "metadata": {},
   "source": [
    "The consistent shapes can be validated explicitly."
   ]
  },
  {
   "cell_type": "code",
   "execution_count": 15,
   "metadata": {},
   "outputs": [],
   "source": [
    "a.spectrum.validate_consistent_shape()"
   ]
  },
  {
   "cell_type": "markdown",
   "metadata": {},
   "source": [
    "We can inspect the setpoints of the spectrum."
   ]
  },
  {
   "cell_type": "code",
   "execution_count": 16,
   "metadata": {},
   "outputs": [
    {
     "data": {
      "text/plain": [
       "(<__main__.GeneratedSetPoints: freq_axis at 140718961802448>,)"
      ]
     },
     "execution_count": 16,
     "metadata": {},
     "output_type": "execute_result"
    }
   ],
   "source": [
    "a.spectrum.setpoints"
   ]
  },
  {
   "cell_type": "markdown",
   "metadata": {},
   "source": [
    "Or even change them."
   ]
  },
  {
   "cell_type": "code",
   "execution_count": 17,
   "metadata": {},
   "outputs": [],
   "source": [
    "a.spectrum.setpoints = (a.freq_axis,)"
   ]
  },
  {
   "cell_type": "markdown",
   "metadata": {},
   "source": [
    "## Measurement"
   ]
  },
  {
   "cell_type": "markdown",
   "metadata": {},
   "source": [
    "We can also directly consume the parameter in a measurement without defining the setpoints of the parameter again. The setpoints are automatically obtained from the definition of the `ParameterWithSetpoint` instance. "
   ]
  },
  {
   "cell_type": "code",
   "execution_count": 18,
   "metadata": {},
   "outputs": [
    {
     "name": "stdout",
     "output_type": "stream",
     "text": [
      "Starting experimental run with id: 1. \n"
     ]
    }
   ],
   "source": [
    "meas = Measurement()\n",
    "meas.register_parameter(a.spectrum)\n",
    "\n",
    "with meas.run() as datasaver:\n",
    "    datasaver.add_result((a.freq_axis, a.freq_axis()),\n",
    "                         (a.spectrum, a.spectrum()))\n",
    "    dataset = datasaver.dataset"
   ]
  },
  {
   "cell_type": "markdown",
   "metadata": {},
   "source": [
    "And plot it"
   ]
  },
  {
   "cell_type": "code",
   "execution_count": 19,
   "metadata": {},
   "outputs": [
    {
     "data": {
      "text/plain": [
       "([<matplotlib.axes._subplots.AxesSubplot at 0x7ffbafb9d610>], [None])"
      ]
     },
     "execution_count": 19,
     "metadata": {},
     "output_type": "execute_result"
    },
    {
     "data": {
      "image/png": "[encoded data removed]",
      "text/plain": [
       "<Figure size 432x288 with 1 Axes>"
      ]
     },
     "metadata": {
      "needs_background": "light"
     },
     "output_type": "display_data"
    }
   ],
   "source": [
    "plot_dataset(dataset)"
   ]
  },
  {
   "cell_type": "markdown",
   "metadata": {},
   "source": [
    "To reduce the amount of typing a simple convenience function is provided that will take a `ParameterWithSetpoints` and get both its values and the setpoints values and return them as tuples for direct insertion into the Dataset."
   ]
  },
  {
   "cell_type": "code",
   "execution_count": 20,
   "metadata": {
    "scrolled": true
   },
   "outputs": [
    {
     "data": {
      "text/plain": [
       "[(<__main__.GeneratedSetPoints: freq_axis at 140718961802448>,\n",
       "  array([  0.,   1.,   2.,   3.,   4.,   5.,   6.,   7.,   8.,   9.,  10.,\n",
       "          11.,  12.,  13.,  14.,  15.,  16.,  17.,  18.,  19.,  20.,  21.,\n",
       "          22.,  23.,  24.,  25.,  26.,  27.,  28.,  29.,  30.,  31.,  32.,\n",
       "          33.,  34.,  35.,  36.,  37.,  38.,  39.,  40.,  41.,  42.,  43.,\n",
       "          44.,  45.,  46.,  47.,  48.,  49.,  50.,  51.,  52.,  53.,  54.,\n",
       "          55.,  56.,  57.,  58.,  59.,  60.,  61.,  62.,  63.,  64.,  65.,\n",
       "          66.,  67.,  68.,  69.,  70.,  71.,  72.,  73.,  74.,  75.,  76.,\n",
       "          77.,  78.,  79.,  80.,  81.,  82.,  83.,  84.,  85.,  86.,  87.,\n",
       "          88.,  89.,  90.,  91.,  92.,  93.,  94.,  95.,  96.,  97.,  98.,\n",
       "          99., 100., 101., 102., 103., 104., 105., 106., 107., 108., 109.,\n",
       "         110., 111., 112., 113., 114., 115., 116., 117., 118., 119., 120.,\n",
       "         121., 122., 123., 124., 125., 126., 127., 128., 129., 130., 131.,\n",
       "         132., 133., 134., 135., 136., 137., 138., 139., 140., 141., 142.,\n",
       "         143., 144., 145., 146., 147., 148., 149., 150., 151., 152., 153.,\n",
       "         154., 155., 156., 157., 158., 159., 160., 161., 162., 163., 164.,\n",
       "         165., 166., 167., 168., 169., 170., 171., 172., 173., 174., 175.,\n",
       "         176., 177., 178., 179., 180., 181., 182., 183., 184., 185., 186.,\n",
       "         187., 188., 189., 190., 191., 192., 193., 194., 195., 196., 197.,\n",
       "         198., 199., 200., 201., 202., 203., 204., 205., 206., 207., 208.,\n",
       "         209., 210., 211., 212., 213., 214., 215., 216., 217., 218., 219.,\n",
       "         220., 221., 222., 223., 224., 225., 226., 227., 228., 229., 230.,\n",
       "         231., 232., 233., 234., 235., 236., 237., 238., 239., 240., 241.,\n",
       "         242., 243., 244., 245., 246., 247., 248., 249., 250., 251., 252.,\n",
       "         253., 254., 255., 256., 257., 258., 259., 260., 261., 262., 263.,\n",
       "         264., 265., 266., 267., 268., 269., 270., 271., 272., 273., 274.,\n",
       "         275., 276., 277., 278., 279., 280., 281., 282., 283., 284., 285.,\n",
       "         286., 287., 288., 289., 290., 291., 292., 293., 294., 295., 296.,\n",
       "         297., 298., 299., 300., 301., 302., 303., 304., 305., 306., 307.,\n",
       "         308., 309., 310., 311., 312., 313., 314., 315., 316., 317., 318.,\n",
       "         319., 320., 321., 322., 323., 324., 325., 326., 327., 328., 329.,\n",
       "         330., 331., 332., 333., 334., 335., 336., 337., 338., 339., 340.,\n",
       "         341., 342., 343., 344., 345., 346., 347., 348., 349., 350., 351.,\n",
       "         352., 353., 354., 355., 356., 357., 358., 359., 360., 361., 362.,\n",
       "         363., 364., 365., 366., 367., 368., 369., 370., 371., 372., 373.,\n",
       "         374., 375., 376., 377., 378., 379., 380., 381., 382., 383., 384.,\n",
       "         385., 386., 387., 388., 389., 390., 391., 392., 393., 394., 395.,\n",
       "         396., 397., 398., 399., 400., 401., 402., 403., 404., 405., 406.,\n",
       "         407., 408., 409., 410., 411., 412., 413., 414., 415., 416., 417.,\n",
       "         418., 419., 420., 421., 422., 423., 424., 425., 426., 427., 428.,\n",
       "         429., 430., 431., 432., 433., 434., 435., 436., 437., 438., 439.,\n",
       "         440., 441., 442., 443., 444., 445., 446., 447., 448., 449., 450.,\n",
       "         451., 452., 453., 454., 455., 456., 457., 458., 459., 460., 461.,\n",
       "         462., 463., 464., 465., 466., 467., 468., 469., 470., 471., 472.,\n",
       "         473., 474., 475., 476., 477., 478., 479., 480., 481., 482., 483.,\n",
       "         484., 485., 486., 487., 488., 489., 490., 491., 492., 493., 494.,\n",
       "         495., 496., 497., 498., 499., 500.])),\n",
       " (<__main__.DummyArray: spectrum at 140718961800080>,\n",
       "  array([8.33852697e-01, 8.12401931e-01, 1.14403126e-01, 1.62403355e-01,\n",
       "         6.30393698e-02, 7.20889866e-01, 6.49629004e-01, 3.34309669e-01,\n",
       "         7.54755407e-01, 3.22614869e-01, 4.68008598e-01, 7.01226244e-04,\n",
       "         1.73526228e-01, 4.10769966e-01, 2.22661927e-01, 5.51774189e-01,\n",
       "         5.08592719e-01, 7.55330652e-01, 7.99021233e-01, 2.86388071e-01,\n",
       "         6.06855646e-01, 8.52253569e-01, 5.35973436e-01, 3.64044921e-01,\n",
       "         4.46749498e-01, 8.70849539e-02, 8.31951076e-01, 4.51587972e-01,\n",
       "         1.44683212e-02, 6.19270498e-01, 4.63869297e-01, 2.60712128e-01,\n",
       "         2.79020187e-01, 1.02369249e-01, 7.27576266e-01, 4.33814141e-01,\n",
       "         8.29865248e-01, 5.97501079e-01, 7.09542274e-01, 3.04416342e-01,\n",
       "         8.99983777e-01, 6.25983259e-01, 7.69091020e-02, 3.71130986e-01,\n",
       "         4.07337229e-01, 2.92587753e-01, 2.42381313e-01, 4.27924890e-01,\n",
       "         8.84923902e-01, 1.32542334e-01, 6.13345372e-01, 6.77842492e-02,\n",
       "         1.34604611e-01, 4.37129247e-01, 9.28448749e-01, 2.81379513e-01,\n",
       "         1.58498233e-01, 6.76622410e-01, 9.03355755e-01, 3.50291073e-02,\n",
       "         7.43732027e-01, 2.46510657e-02, 9.30285414e-01, 3.98635635e-01,\n",
       "         8.01624307e-01, 9.77539805e-01, 1.55067834e-04, 4.87132144e-03,\n",
       "         5.59541959e-01, 6.63253020e-02, 9.73563998e-01, 3.71038967e-01,\n",
       "         8.28422055e-01, 8.91484469e-01, 3.15029662e-01, 5.96635764e-01,\n",
       "         7.54044751e-02, 8.13152693e-01, 4.35504798e-01, 4.35321858e-01,\n",
       "         3.55737705e-01, 7.47773619e-01, 8.80471297e-01, 9.33854645e-01,\n",
       "         4.31889854e-01, 1.66318654e-01, 2.54631250e-01, 5.49266245e-01,\n",
       "         5.50643250e-01, 1.45889372e-01, 5.86787003e-01, 6.01139046e-01,\n",
       "         4.13603768e-01, 3.86809265e-02, 3.30556075e-01, 5.83761897e-01,\n",
       "         3.68679347e-01, 1.26559000e-01, 1.12934960e-01, 4.75731796e-01,\n",
       "         2.46526742e-01, 5.94805904e-01, 8.64233210e-01, 4.70147538e-02,\n",
       "         8.30277953e-01, 3.35037832e-01, 5.86984112e-01, 4.55943366e-02,\n",
       "         1.22146498e-01, 3.64007166e-01, 4.81476199e-01, 5.91983688e-01,\n",
       "         7.79417507e-01, 6.26613063e-01, 1.16098826e-01, 8.97532173e-01,\n",
       "         6.90828378e-01, 2.14547430e-01, 5.27687798e-01, 5.95095989e-01,\n",
       "         2.23655957e-01, 8.86915014e-02, 7.28633547e-01, 6.68441324e-01,\n",
       "         8.50376785e-01, 8.93391650e-01, 2.42986515e-01, 9.54248302e-01,\n",
       "         2.92091951e-01, 4.42275149e-01, 1.70700733e-01, 1.86560451e-01,\n",
       "         7.48011730e-01, 2.74680341e-01, 2.84735861e-01, 6.75761281e-01,\n",
       "         2.73665855e-01, 7.77846945e-01, 6.91015277e-03, 3.30338650e-01,\n",
       "         4.00559721e-01, 9.14524465e-01, 7.63401795e-01, 6.16795928e-02,\n",
       "         2.07987046e-01, 6.66744319e-01, 4.49504423e-01, 3.02652857e-01,\n",
       "         4.87957970e-01, 4.13351637e-01, 8.70869456e-01, 9.18188192e-01,\n",
       "         4.58780359e-02, 6.30339408e-01, 7.34914787e-01, 8.16212660e-01,\n",
       "         6.81046714e-01, 3.81594387e-01, 8.99840351e-01, 6.98754453e-01,\n",
       "         3.71068499e-01, 3.97783315e-01, 3.78093275e-01, 9.43658628e-01,\n",
       "         8.91349716e-01, 7.09306845e-01, 9.05062245e-03, 7.27542406e-01,\n",
       "         4.72905970e-01, 1.55818767e-01, 1.50017624e-01, 8.97239899e-01,\n",
       "         1.67459949e-01, 2.12855058e-01, 8.15193077e-02, 2.98022305e-01,\n",
       "         2.28186585e-02, 1.47283029e-01, 5.52400746e-01, 7.78517080e-02,\n",
       "         7.84856323e-01, 8.19015166e-01, 7.01587794e-01, 9.28217976e-01,\n",
       "         2.04066664e-02, 7.70303496e-01, 4.84099430e-01, 1.47042761e-01,\n",
       "         4.49670981e-01, 4.02243379e-01, 2.96936551e-01, 4.99880277e-01,\n",
       "         3.61563673e-01, 1.64137732e-01, 2.47114853e-01, 6.10574997e-01,\n",
       "         3.46962179e-01, 9.19288562e-01, 6.23546880e-01, 7.06241752e-01,\n",
       "         6.97153454e-01, 5.38730017e-01, 6.48983532e-01, 5.86011375e-01,\n",
       "         3.20758572e-01, 9.64319054e-01, 5.60599940e-01, 3.05627639e-01,\n",
       "         7.32475933e-02, 7.89058936e-01, 7.50386080e-01, 7.09647062e-01,\n",
       "         3.95376640e-02, 9.25578536e-01, 7.93963099e-01, 4.31683893e-01,\n",
       "         1.44538483e-02, 5.18680077e-01, 3.17542118e-01, 8.22704417e-01,\n",
       "         5.48034967e-01, 8.46537304e-01, 6.28581250e-03, 4.71727894e-01,\n",
       "         3.15848512e-01, 4.92189650e-02, 2.15283134e-01, 1.29000788e-01,\n",
       "         4.67637038e-01, 6.92242946e-01, 2.38915548e-01, 4.08829494e-01,\n",
       "         5.60109009e-01, 7.41741668e-01, 1.79359175e-01, 4.80271446e-02,\n",
       "         4.21264915e-01, 6.24687996e-02, 6.88413321e-01, 4.94759339e-01,\n",
       "         8.30736589e-01, 2.05559035e-01, 2.92839326e-01, 3.16123448e-01,\n",
       "         6.08396507e-01, 5.32596298e-01, 7.35395011e-01, 7.45048441e-01,\n",
       "         7.70551281e-03, 6.37687318e-01, 8.29416249e-01, 1.40324203e-01,\n",
       "         7.74388501e-01, 9.29725990e-01, 7.34283169e-01, 4.40411396e-01,\n",
       "         5.01441827e-02, 3.90192756e-01, 9.46407354e-01, 7.10296473e-01,\n",
       "         9.32777289e-01, 8.43214191e-01, 7.48739862e-01, 2.27783581e-01,\n",
       "         4.38388573e-01, 7.35161694e-01, 6.34879753e-01, 6.44305746e-01,\n",
       "         2.14697844e-01, 7.23384885e-01, 1.55255372e-01, 2.19544457e-03,\n",
       "         9.40434198e-01, 9.01064731e-01, 9.71079174e-01, 1.56121616e-01,\n",
       "         7.78111479e-01, 5.38037765e-01, 9.39023257e-02, 8.99238120e-01,\n",
       "         4.67021669e-01, 7.85028105e-02, 1.17298962e-01, 5.38240326e-01,\n",
       "         4.64350597e-01, 3.05857571e-01, 2.51781835e-01, 3.64050596e-01,\n",
       "         9.37218623e-01, 7.70715964e-01, 4.94347931e-01, 6.75130256e-02,\n",
       "         6.85829476e-01, 4.98295295e-01, 8.05489370e-01, 3.50483895e-03,\n",
       "         6.94447867e-01, 7.70674847e-01, 3.59303152e-01, 2.10630294e-01,\n",
       "         7.80276032e-01, 1.72306393e-01, 5.32032816e-01, 3.04704059e-01,\n",
       "         1.78970047e-01, 7.55337020e-01, 5.33351784e-01, 1.53257036e-01,\n",
       "         5.87112816e-01, 5.87010159e-01, 7.24267526e-01, 9.33160483e-01,\n",
       "         1.43629793e-03, 6.47245243e-01, 5.07309063e-01, 5.09000596e-02,\n",
       "         2.61647404e-01, 5.71459519e-01, 4.41006657e-01, 8.90015197e-03,\n",
       "         6.10248003e-01, 1.63521412e-01, 1.41594933e-01, 2.73361258e-02,\n",
       "         2.35780191e-01, 2.39827397e-01, 6.61795747e-01, 8.30866157e-01,\n",
       "         3.58095463e-01, 6.21110564e-01, 7.03597297e-01, 2.30955258e-01,\n",
       "         2.36336876e-01, 7.30857199e-01, 4.97757712e-01, 6.84522622e-01,\n",
       "         8.70307544e-01, 4.19034376e-01, 1.01006859e-01, 1.39220930e-01,\n",
       "         5.49303787e-01, 1.23001303e-01, 6.59106564e-01, 4.69483144e-01,\n",
       "         1.30327873e-01, 2.52418475e-01, 4.86235590e-01, 9.71981160e-01,\n",
       "         7.55184325e-01, 5.09674301e-02, 5.46804228e-01, 3.95678508e-02,\n",
       "         6.27248460e-01, 9.14622413e-02, 6.16210536e-01, 6.39727184e-01,\n",
       "         3.11613841e-01, 3.10258861e-01, 4.08033522e-01, 7.56741245e-01,\n",
       "         3.97374832e-01, 8.31725306e-01, 6.80563746e-01, 6.92368273e-01,\n",
       "         6.75190816e-01, 4.02029958e-01, 6.87216228e-01, 7.20062277e-01,\n",
       "         5.48686749e-01, 1.12636578e-01, 7.48976399e-01, 7.10220352e-01,\n",
       "         9.13986732e-01, 7.63222497e-01, 8.88297858e-01, 4.57664186e-01,\n",
       "         5.55217184e-01, 9.32657190e-01, 4.00320821e-01, 9.71569559e-01,\n",
       "         7.65165504e-01, 5.66421150e-01, 5.58378869e-01, 7.04776317e-01,\n",
       "         9.28556078e-01, 1.61536381e-01, 5.77706730e-02, 7.34465502e-01,\n",
       "         6.26036310e-01, 9.29130979e-01, 9.24597490e-01, 9.11569501e-01,\n",
       "         8.41259027e-01, 3.71759626e-01, 3.13266586e-01, 2.98849107e-01,\n",
       "         9.72646871e-01, 7.25367744e-01, 8.61638364e-01, 4.83263159e-01,\n",
       "         4.71739508e-01, 7.48510887e-01, 3.10736182e-01, 4.86420546e-01,\n",
       "         9.95883117e-01, 1.99438951e-01, 5.28056476e-01, 1.10273645e-01,\n",
       "         3.97748178e-01, 5.51773329e-01, 8.42998889e-01, 8.92185425e-01,\n",
       "         8.87236664e-01, 9.94277740e-01, 6.13896582e-01, 9.25369589e-01,\n",
       "         8.49361353e-01, 2.85408954e-01, 7.40498456e-01, 2.05509818e-01,\n",
       "         1.67750092e-01, 7.65543680e-01, 3.79332340e-01, 4.84790520e-01,\n",
       "         4.37693078e-01, 2.30723247e-01, 8.84429556e-01, 7.91897216e-01,\n",
       "         5.16826415e-01, 1.08511191e-01, 5.00637067e-03, 5.19197203e-01,\n",
       "         6.90573870e-01, 7.32901900e-01, 7.96201458e-01, 4.54070249e-01,\n",
       "         3.47960834e-01, 9.25444410e-01, 8.65116602e-01, 7.20136150e-02,\n",
       "         7.65982595e-01, 1.62514776e-01, 9.55248399e-01, 8.87362098e-01,\n",
       "         3.43810603e-02, 1.75956206e-01, 7.79487584e-01, 3.25652846e-01,\n",
       "         6.52981428e-01, 4.99737926e-01, 2.82752771e-01, 6.43471110e-01,\n",
       "         5.12386171e-01, 1.00092681e-03, 2.81181725e-02, 6.95463552e-01,\n",
       "         1.95771890e-01, 5.16289105e-01, 3.47148455e-01, 2.46978450e-01,\n",
       "         2.55322676e-01, 8.88568459e-01, 2.62707846e-02, 6.00664680e-01,\n",
       "         8.35756927e-01, 2.18501072e-01, 3.52040818e-01, 1.74417067e-01,\n",
       "         7.92701680e-01, 9.76504039e-01, 4.24791597e-01, 3.74098553e-01,\n",
       "         4.00993877e-01, 9.18884492e-01, 7.79486423e-01, 7.10559737e-01,\n",
       "         7.71443309e-01, 5.51200200e-02, 5.11676652e-01, 5.05570103e-01,\n",
       "         6.55898739e-01, 4.30462133e-01, 8.36257340e-01, 4.66445028e-01,\n",
       "         5.85070981e-01, 2.32176825e-01, 3.11274847e-01, 3.97932290e-01,\n",
       "         4.38950086e-01, 5.88819894e-01, 5.77317536e-01, 3.37236914e-01,\n",
       "         5.69069128e-01, 9.58546958e-01, 5.38016834e-01, 5.90385775e-01,\n",
       "         5.34141243e-01, 2.67066906e-01, 3.04319860e-01, 9.96894149e-01,\n",
       "         7.74177920e-01]))]"
      ]
     },
     "execution_count": 20,
     "metadata": {},
     "output_type": "execute_result"
    }
   ],
   "source": [
    "expand_setpoints_helper(a.spectrum)"
   ]
  },
  {
   "cell_type": "code",
   "execution_count": 21,
   "metadata": {},
   "outputs": [
    {
     "name": "stdout",
     "output_type": "stream",
     "text": [
      "Starting experimental run with id: 2. \n"
     ]
    }
   ],
   "source": [
    "meas = Measurement()\n",
    "meas.register_parameter(a.spectrum)\n",
    "\n",
    "with meas.run() as datasaver:\n",
    "    datasaver.add_result(*expand_setpoints_helper(a.spectrum))\n",
    "    \n",
    "    dataid = datasaver.run_id"
   ]
  },
  {
   "cell_type": "code",
   "execution_count": null,
   "metadata": {},
   "outputs": [],
   "source": []
  }
 ],
 "metadata": {
  "kernelspec": {
   "display_name": "Python 3",
   "language": "python",
   "name": "python3"
  },
  "language_info": {
   "codemirror_mode": {
    "name": "ipython",
    "version": 3
   },
   "file_extension": ".py",
   "mimetype": "text/x-python",
   "name": "python",
   "nbconvert_exporter": "python",
   "pygments_lexer": "ipython3",
   "version": "3.7.7"
  },
  "toc": {
   "base_numbering": 1,
   "nav_menu": {},
   "number_sections": true,
   "sideBar": true,
   "skip_h1_title": false,
   "title_cell": "Table of Contents",
   "title_sidebar": "Contents",
   "toc_cell": false,
   "toc_position": {},
   "toc_section_display": true,
   "toc_window_display": false
  },
  "varInspector": {
   "cols": {
    "lenName": 16,
    "lenType": 16,
    "lenVar": 40
   },
   "kernels_config": {
    "python": {
     "delete_cmd_postfix": "",
     "delete_cmd_prefix": "del ",
     "library": "var_list.py",
     "varRefreshCmd": "print(var_dic_list())"
    },
    "r": {
     "delete_cmd_postfix": ") ",
     "delete_cmd_prefix": "rm(",
     "library": "var_list.r",
     "varRefreshCmd": "cat(var_dic_list()) "
    }
   },
   "types_to_exclude": [
    "module",
    "function",
    "builtin_function_or_method",
    "instance",
    "_Feature"
   ],
   "window_display": false
  }
 },
 "nbformat": 4,
 "nbformat_minor": 2
}
