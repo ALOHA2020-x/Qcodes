{
 "cells": [
  {
   "cell_type": "markdown",
   "metadata": {},
   "source": [
    "# Simple Example of ParameterWithSetpoints\n",
    "This notebook provides an example for writing a simple driver with a parameter that has setpoints. Let's name this parameter that has setpoints as \"y\". Then, the setpoints, say \"x1, x2, x3 ..\", are the parameters on which the parameter \n",
    "\"y\" depends upon. Meaning \"y\" is a function of \"x1, x2, x3 ...\" where \"x1, x2, x3 ...\" are known as the setpoints of parameter \"y\".\n",
    "\n",
    "This is most likely to be useful for instruments that return arrays of results. In this notebook, we will show an example of this."
   ]
  },
  {
   "cell_type": "code",
   "execution_count": 1,
   "metadata": {},
   "outputs": [],
   "source": [
    "import numpy as np\n",
    "import os"
   ]
  },
  {
   "cell_type": "code",
   "execution_count": 2,
   "metadata": {},
   "outputs": [
    {
     "name": "stdout",
     "output_type": "stream",
     "text": [
      "Logging hadn't been started.\n",
      "Activating auto-logging. Current session state plus future input saved.\n",
      "Filename       : /home/vsts/.qcodes/logs/command_history.log\n",
      "Mode           : append\n",
      "Output logging : True\n",
      "Raw input log  : False\n",
      "Timestamping   : True\n",
      "State          : active\n"
     ]
    },
    {
     "name": "stdout",
     "output_type": "stream",
     "text": [
      "Qcodes Logfile : /home/vsts/.qcodes/logs/200813-21591-qcodes.log\n"
     ]
    }
   ],
   "source": [
    "from qcodes.dataset.plotting import plot_dataset\n",
    "from qcodes.utils.validators import Numbers, Arrays\n",
    "from qcodes.instrument.base import Instrument\n",
    "from qcodes.dataset.measurements import Measurement"
   ]
  },
  {
   "cell_type": "code",
   "execution_count": 3,
   "metadata": {},
   "outputs": [],
   "source": [
    "from qcodes.dataset.sqlite.database import initialise_or_create_database_at\n",
    "from qcodes.dataset.experiment_container import load_or_create_experiment"
   ]
  },
  {
   "cell_type": "code",
   "execution_count": 4,
   "metadata": {},
   "outputs": [],
   "source": [
    "from qcodes.instrument.parameter import ParameterWithSetpoints, Parameter\n",
    "from qcodes.instrument.parameter import expand_setpoints_helper"
   ]
  },
  {
   "cell_type": "markdown",
   "metadata": {},
   "source": [
    "First, we define a dummy instrument that returns something like a frequency spectrum starting from a frequency given by `f_start` to a frequency given by `f_stop` in `n_points` steps. \n",
    "\n",
    "The extra functionality of the `ParameterWithSetpoints` is implemented by giving it a reference to one or more parameters that acts like its setpoints. \n",
    "\n",
    "To setup a `ParameterWithSetpoints` we have to do two things in addition to what we do for a normal parameter.\n",
    "\n",
    "* Define one or more parameter for the setpoints (one for each dimension of the array and let the `ParameterWithSetpoints` know that these are the setpoints.\n",
    "* Give both the setpoints parameter(s) and the `ParameterWithSetpoints` a `validator` of type `Arrays` with a shape. The shapes should be such that the combined shape of the setpoints matches the shape of the `ParameterWithSetpoints`. Note that if the shape changes with the setting of the instrument, it can be defined by another parameter as shown below. "
   ]
  },
  {
   "cell_type": "code",
   "execution_count": 5,
   "metadata": {},
   "outputs": [],
   "source": [
    "class GeneratedSetPoints(Parameter):\n",
    "    \"\"\"\n",
    "    A parameter that generates a setpoint array from start, stop and num points\n",
    "    parameters.\n",
    "    \"\"\"\n",
    "    def __init__(self, startparam, stopparam, numpointsparam, *args, **kwargs):\n",
    "        super().__init__(*args, **kwargs)\n",
    "        self._startparam = startparam\n",
    "        self._stopparam = stopparam\n",
    "        self._numpointsparam = numpointsparam\n",
    "\n",
    "    def get_raw(self):\n",
    "        return np.linspace(self._startparam(), self._stopparam(),\n",
    "                              self._numpointsparam())\n",
    "\n",
    "class DummyArray(ParameterWithSetpoints):\n",
    "    \n",
    "    def get_raw(self):\n",
    "        npoints = self.root_instrument.n_points.get_latest()\n",
    "        return np.random.rand(npoints)\n",
    "    \n",
    "\n",
    "class DummySpectrumAnalyzer(Instrument):\n",
    "    \n",
    "    def __init__(self, name, **kwargs):\n",
    "        \n",
    "        super().__init__(name, **kwargs)\n",
    "            \n",
    "\n",
    "        self.add_parameter('f_start',\n",
    "                           initial_value=0,\n",
    "                           unit='Hz',\n",
    "                           label='f start',\n",
    "                           vals=Numbers(0,1e3),\n",
    "                           get_cmd=None,\n",
    "                           set_cmd=None)\n",
    "\n",
    "        self.add_parameter('f_stop',\n",
    "                           unit='Hz',\n",
    "                           label='f stop',\n",
    "                           vals=Numbers(1,1e3),\n",
    "                           get_cmd=None,\n",
    "                           set_cmd=None)\n",
    "\n",
    "        self.add_parameter('n_points',\n",
    "                           unit='',\n",
    "                           initial_value=10,\n",
    "                           vals=Numbers(1,1e3),\n",
    "                           get_cmd=None,\n",
    "                           set_cmd=None)\n",
    "        \n",
    "        self.add_parameter('freq_axis',\n",
    "                           unit='Hz',\n",
    "                           label='Freq Axis',\n",
    "                           parameter_class=GeneratedSetPoints,\n",
    "                           startparam=self.f_start,\n",
    "                           stopparam=self.f_stop,\n",
    "                           numpointsparam=self.n_points,\n",
    "                           vals=Arrays(shape=(self.n_points.get_latest,)))\n",
    "                           \n",
    "        self.add_parameter('spectrum',\n",
    "                   unit='dBm',\n",
    "                   setpoints=(self.freq_axis,),\n",
    "                   label='Spectrum',\n",
    "                   parameter_class=DummyArray,\n",
    "                   vals=Arrays(shape=(self.n_points.get_latest,)))\n",
    "                "
   ]
  },
  {
   "cell_type": "markdown",
   "metadata": {},
   "source": [
    "In the above example, the shape is defined by the parameter `n_points` that defines how many samples our `DummySpectrumAnalyzer` returns.\n",
    "\n",
    "This means that the validation will call the function to get `n_points` twice for each `get` of the parameter. This may be too slow, however, if you (as the driver-writer) can guarantee that the cached value for `n_points` will never be out of sync with the value stored in the instrument, `n_points` may be replaced by it's latest known value such that the `validator` reads:\n",
    "```python\n",
    "vals=Arrays(shape=(self.n_points.get_latest))\n",
    "```\n",
    "\n",
    "This avoids any additional call to the instrument. In the same way, the arguments to the `freq_axis` parameter that defines the start, stop and number of points can be replaced by their latest value if the instrument allows it.\n",
    "\n"
   ]
  },
  {
   "cell_type": "code",
   "execution_count": 6,
   "metadata": {},
   "outputs": [
    {
     "name": "stdout",
     "output_type": "stream",
     "text": [
      "\r",
      "0it [00:00, ?it/s]"
     ]
    },
    {
     "name": "stdout",
     "output_type": "stream",
     "text": [
      "\r",
      "Upgrading database; v0 -> v1: : 0it [00:00, ?it/s]"
     ]
    },
    {
     "name": "stdout",
     "output_type": "stream",
     "text": [
      "\r",
      "Upgrading database; v0 -> v1: : 0it [00:00, ?it/s]"
     ]
    },
    {
     "name": "stdout",
     "output_type": "stream",
     "text": [
      "\n",
      "\r",
      "  0%|          | 0/1 [00:00<?, ?it/s]"
     ]
    },
    {
     "name": "stdout",
     "output_type": "stream",
     "text": [
      "\r",
      "Upgrading database; v1 -> v2:   0%|          | 0/1 [00:00<?, ?it/s]"
     ]
    },
    {
     "name": "stdout",
     "output_type": "stream",
     "text": [
      "\r",
      "Upgrading database; v1 -> v2: 100%|██████████| 1/1 [00:00<00:00, 883.76it/s]"
     ]
    },
    {
     "name": "stdout",
     "output_type": "stream",
     "text": [
      "\n",
      "\r",
      "0it [00:00, ?it/s]"
     ]
    },
    {
     "name": "stdout",
     "output_type": "stream",
     "text": [
      "\r",
      "Upgrading database; v2 -> v3: : 0it [00:00, ?it/s]"
     ]
    },
    {
     "name": "stdout",
     "output_type": "stream",
     "text": [
      "\r",
      "Upgrading database; v2 -> v3: : 0it [00:00, ?it/s]"
     ]
    },
    {
     "name": "stdout",
     "output_type": "stream",
     "text": [
      "\n",
      "\r",
      "0it [00:00, ?it/s]"
     ]
    },
    {
     "name": "stdout",
     "output_type": "stream",
     "text": [
      "\r",
      "Upgrading database; v3 -> v4: : 0it [00:00, ?it/s]"
     ]
    },
    {
     "name": "stdout",
     "output_type": "stream",
     "text": [
      "\r",
      "Upgrading database; v3 -> v4: : 0it [00:00, ?it/s]"
     ]
    },
    {
     "name": "stdout",
     "output_type": "stream",
     "text": [
      "\n",
      "\r",
      "  0%|          | 0/1 [00:00<?, ?it/s]"
     ]
    },
    {
     "name": "stdout",
     "output_type": "stream",
     "text": [
      "\r",
      "Upgrading database; v4 -> v5:   0%|          | 0/1 [00:00<?, ?it/s]"
     ]
    },
    {
     "name": "stdout",
     "output_type": "stream",
     "text": [
      "\r",
      "Upgrading database; v4 -> v5: 100%|██████████| 1/1 [00:00<00:00, 890.70it/s]"
     ]
    },
    {
     "name": "stdout",
     "output_type": "stream",
     "text": [
      "\n",
      "\r",
      "0it [00:00, ?it/s]"
     ]
    },
    {
     "name": "stdout",
     "output_type": "stream",
     "text": [
      "\r",
      "Upgrading database; v5 -> v6: : 0it [00:00, ?it/s]"
     ]
    },
    {
     "name": "stdout",
     "output_type": "stream",
     "text": [
      "\r",
      "Upgrading database; v5 -> v6: : 0it [00:00, ?it/s]"
     ]
    },
    {
     "name": "stdout",
     "output_type": "stream",
     "text": [
      "\n",
      "\r",
      "  0%|          | 0/1 [00:00<?, ?it/s]"
     ]
    },
    {
     "name": "stdout",
     "output_type": "stream",
     "text": [
      "\r",
      "Upgrading database; v6 -> v7:   0%|          | 0/1 [00:00<?, ?it/s]"
     ]
    },
    {
     "name": "stdout",
     "output_type": "stream",
     "text": [
      "\r",
      "Upgrading database; v6 -> v7: 100%|██████████| 1/1 [00:00<00:00, 491.19it/s]"
     ]
    },
    {
     "name": "stdout",
     "output_type": "stream",
     "text": [
      "\n",
      "\r",
      "  0%|          | 0/1 [00:00<?, ?it/s]"
     ]
    },
    {
     "name": "stdout",
     "output_type": "stream",
     "text": [
      "\r",
      "Upgrading database; v7 -> v8:   0%|          | 0/1 [00:00<?, ?it/s]"
     ]
    },
    {
     "name": "stdout",
     "output_type": "stream",
     "text": [
      "\r",
      "Upgrading database; v7 -> v8: 100%|██████████| 1/1 [00:00<00:00, 882.45it/s]"
     ]
    },
    {
     "name": "stdout",
     "output_type": "stream",
     "text": [
      "\n",
      "\r",
      "  0%|          | 0/1 [00:00<?, ?it/s]"
     ]
    },
    {
     "name": "stdout",
     "output_type": "stream",
     "text": [
      "\r",
      "Upgrading database; v8 -> v9:   0%|          | 0/1 [00:00<?, ?it/s]"
     ]
    },
    {
     "name": "stdout",
     "output_type": "stream",
     "text": [
      "\r",
      "Upgrading database; v8 -> v9: 100%|██████████| 1/1 [00:00<00:00, 973.83it/s]"
     ]
    },
    {
     "name": "stdout",
     "output_type": "stream",
     "text": [
      "\n"
     ]
    },
    {
     "data": {
      "text/plain": [
       "tutorial_ParameterWithSetpoints#no sample#1@/home/vsts/work/1/s/docs/examples/Parameters/tutorial_paramter_with_setpoints.db\n",
       "----------------------------------------------------------------------------------------------------------------------------"
      ]
     },
     "execution_count": 6,
     "metadata": {},
     "output_type": "execute_result"
    }
   ],
   "source": [
    "tutorial_db_path = os.path.join(os.getcwd(), 'tutorial_paramter_with_setpoints.db')\n",
    "initialise_or_create_database_at(tutorial_db_path)\n",
    "load_or_create_experiment(experiment_name='tutorial_ParameterWithSetpoints', sample_name=\"no sample\")"
   ]
  },
  {
   "cell_type": "code",
   "execution_count": 7,
   "metadata": {},
   "outputs": [],
   "source": [
    "a = DummySpectrumAnalyzer('foobar')"
   ]
  },
  {
   "cell_type": "markdown",
   "metadata": {},
   "source": [
    "First we setup the limits of the spectrum"
   ]
  },
  {
   "cell_type": "code",
   "execution_count": 8,
   "metadata": {},
   "outputs": [],
   "source": [
    "a.f_start(0)\n",
    "a.f_stop(500)\n",
    "a.n_points(501)"
   ]
  },
  {
   "cell_type": "markdown",
   "metadata": {},
   "source": [
    "And we can grab the frequency axis"
   ]
  },
  {
   "cell_type": "code",
   "execution_count": 9,
   "metadata": {},
   "outputs": [
    {
     "data": {
      "text/plain": [
       "501"
      ]
     },
     "execution_count": 9,
     "metadata": {},
     "output_type": "execute_result"
    }
   ],
   "source": [
    "a.n_points()"
   ]
  },
  {
   "cell_type": "code",
   "execution_count": 10,
   "metadata": {
    "scrolled": false
   },
   "outputs": [
    {
     "data": {
      "text/plain": [
       "501"
      ]
     },
     "execution_count": 10,
     "metadata": {},
     "output_type": "execute_result"
    }
   ],
   "source": [
    "freq_axis = a.freq_axis()\n",
    "len(freq_axis)"
   ]
  },
  {
   "cell_type": "code",
   "execution_count": 11,
   "metadata": {},
   "outputs": [
    {
     "data": {
      "text/plain": [
       "array([0., 1., 2., 3., 4., 5., 6., 7., 8., 9.])"
      ]
     },
     "execution_count": 11,
     "metadata": {},
     "output_type": "execute_result"
    }
   ],
   "source": [
    "freq_axis[:10]"
   ]
  },
  {
   "cell_type": "markdown",
   "metadata": {},
   "source": [
    "As expected we get a result wit 501 points as we asked for an axis with 501 points. "
   ]
  },
  {
   "cell_type": "markdown",
   "metadata": {},
   "source": [
    "Above we have added a validator to the `freq_axis` parameter encoding the fact that this is an Array with `n_points`. Note that we do not have to supply the number of points as an integer but can supply a function that returns the valid number of points. This would normally be a QCoDeS parameter.\n",
    "\n",
    "This will be checked if we validate the output."
   ]
  },
  {
   "cell_type": "code",
   "execution_count": 12,
   "metadata": {},
   "outputs": [],
   "source": [
    "a.freq_axis.validate(a.freq_axis.get())"
   ]
  },
  {
   "cell_type": "markdown",
   "metadata": {},
   "source": [
    "Naturally, we can also get the spectrum. Getting the spectrum will automatically perform validation both for the shape of the parameter itself and the relation to the setpoint parameter(s)"
   ]
  },
  {
   "cell_type": "code",
   "execution_count": 13,
   "metadata": {
    "scrolled": true
   },
   "outputs": [
    {
     "data": {
      "text/plain": [
       "501"
      ]
     },
     "execution_count": 13,
     "metadata": {},
     "output_type": "execute_result"
    }
   ],
   "source": [
    "spectrum = a.spectrum.get()\n",
    "len(spectrum)"
   ]
  },
  {
   "cell_type": "markdown",
   "metadata": {},
   "source": [
    "When we validate a `ParameterWithSetpoints`, we automatically validate that the shape is consistent between the parameters and its setpoints. As well as validating the shape as above."
   ]
  },
  {
   "cell_type": "code",
   "execution_count": 14,
   "metadata": {},
   "outputs": [],
   "source": [
    "a.spectrum.validate(a.spectrum.get())"
   ]
  },
  {
   "cell_type": "markdown",
   "metadata": {},
   "source": [
    "The consistent shapes can be validated explicitly."
   ]
  },
  {
   "cell_type": "code",
   "execution_count": 15,
   "metadata": {},
   "outputs": [],
   "source": [
    "a.spectrum.validate_consistent_shape()"
   ]
  },
  {
   "cell_type": "markdown",
   "metadata": {},
   "source": [
    "We can inspect the setpoints of the spectrum."
   ]
  },
  {
   "cell_type": "code",
   "execution_count": 16,
   "metadata": {},
   "outputs": [
    {
     "data": {
      "text/plain": [
       "(<__main__.GeneratedSetPoints: freq_axis at 140252944467024>,)"
      ]
     },
     "execution_count": 16,
     "metadata": {},
     "output_type": "execute_result"
    }
   ],
   "source": [
    "a.spectrum.setpoints"
   ]
  },
  {
   "cell_type": "markdown",
   "metadata": {},
   "source": [
    "Or even change them."
   ]
  },
  {
   "cell_type": "code",
   "execution_count": 17,
   "metadata": {},
   "outputs": [],
   "source": [
    "a.spectrum.setpoints = (a.freq_axis,)"
   ]
  },
  {
   "cell_type": "markdown",
   "metadata": {},
   "source": [
    "## Measurement"
   ]
  },
  {
   "cell_type": "markdown",
   "metadata": {},
   "source": [
    "We can also directly consume the parameter in a measurement without defining the setpoints of the parameter again. The setpoints are automatically obtained from the definition of the `ParameterWithSetpoint` instance. "
   ]
  },
  {
   "cell_type": "code",
   "execution_count": 18,
   "metadata": {},
   "outputs": [
    {
     "name": "stdout",
     "output_type": "stream",
     "text": [
      "Starting experimental run with id: 1. \n"
     ]
    }
   ],
   "source": [
    "meas = Measurement()\n",
    "meas.register_parameter(a.spectrum)\n",
    "\n",
    "with meas.run() as datasaver:\n",
    "    datasaver.add_result((a.freq_axis, a.freq_axis()),\n",
    "                         (a.spectrum, a.spectrum()))\n",
    "    dataset = datasaver.dataset"
   ]
  },
  {
   "cell_type": "markdown",
   "metadata": {},
   "source": [
    "And plot it"
   ]
  },
  {
   "cell_type": "code",
   "execution_count": 19,
   "metadata": {},
   "outputs": [
    {
     "data": {
      "text/plain": [
       "([<matplotlib.axes._subplots.AxesSubplot at 0x7f8f072f18d0>], [None])"
      ]
     },
     "execution_count": 19,
     "metadata": {},
     "output_type": "execute_result"
    },
    {
     "data": {
      "image/png": "[encoded data removed]",
      "text/plain": [
       "<Figure size 432x288 with 1 Axes>"
      ]
     },
     "metadata": {
      "needs_background": "light"
     },
     "output_type": "display_data"
    }
   ],
   "source": [
    "plot_dataset(dataset)"
   ]
  },
  {
   "cell_type": "markdown",
   "metadata": {},
   "source": [
    "To reduce the amount of typing a simple convenience function is provided that will take a `ParameterWithSetpoints` and get both its values and the setpoints values and return them as tuples for direct insertion into the Dataset."
   ]
  },
  {
   "cell_type": "code",
   "execution_count": 20,
   "metadata": {
    "scrolled": true
   },
   "outputs": [
    {
     "data": {
      "text/plain": [
       "[(<__main__.GeneratedSetPoints: freq_axis at 140252944467024>,\n",
       "  array([  0.,   1.,   2.,   3.,   4.,   5.,   6.,   7.,   8.,   9.,  10.,\n",
       "          11.,  12.,  13.,  14.,  15.,  16.,  17.,  18.,  19.,  20.,  21.,\n",
       "          22.,  23.,  24.,  25.,  26.,  27.,  28.,  29.,  30.,  31.,  32.,\n",
       "          33.,  34.,  35.,  36.,  37.,  38.,  39.,  40.,  41.,  42.,  43.,\n",
       "          44.,  45.,  46.,  47.,  48.,  49.,  50.,  51.,  52.,  53.,  54.,\n",
       "          55.,  56.,  57.,  58.,  59.,  60.,  61.,  62.,  63.,  64.,  65.,\n",
       "          66.,  67.,  68.,  69.,  70.,  71.,  72.,  73.,  74.,  75.,  76.,\n",
       "          77.,  78.,  79.,  80.,  81.,  82.,  83.,  84.,  85.,  86.,  87.,\n",
       "          88.,  89.,  90.,  91.,  92.,  93.,  94.,  95.,  96.,  97.,  98.,\n",
       "          99., 100., 101., 102., 103., 104., 105., 106., 107., 108., 109.,\n",
       "         110., 111., 112., 113., 114., 115., 116., 117., 118., 119., 120.,\n",
       "         121., 122., 123., 124., 125., 126., 127., 128., 129., 130., 131.,\n",
       "         132., 133., 134., 135., 136., 137., 138., 139., 140., 141., 142.,\n",
       "         143., 144., 145., 146., 147., 148., 149., 150., 151., 152., 153.,\n",
       "         154., 155., 156., 157., 158., 159., 160., 161., 162., 163., 164.,\n",
       "         165., 166., 167., 168., 169., 170., 171., 172., 173., 174., 175.,\n",
       "         176., 177., 178., 179., 180., 181., 182., 183., 184., 185., 186.,\n",
       "         187., 188., 189., 190., 191., 192., 193., 194., 195., 196., 197.,\n",
       "         198., 199., 200., 201., 202., 203., 204., 205., 206., 207., 208.,\n",
       "         209., 210., 211., 212., 213., 214., 215., 216., 217., 218., 219.,\n",
       "         220., 221., 222., 223., 224., 225., 226., 227., 228., 229., 230.,\n",
       "         231., 232., 233., 234., 235., 236., 237., 238., 239., 240., 241.,\n",
       "         242., 243., 244., 245., 246., 247., 248., 249., 250., 251., 252.,\n",
       "         253., 254., 255., 256., 257., 258., 259., 260., 261., 262., 263.,\n",
       "         264., 265., 266., 267., 268., 269., 270., 271., 272., 273., 274.,\n",
       "         275., 276., 277., 278., 279., 280., 281., 282., 283., 284., 285.,\n",
       "         286., 287., 288., 289., 290., 291., 292., 293., 294., 295., 296.,\n",
       "         297., 298., 299., 300., 301., 302., 303., 304., 305., 306., 307.,\n",
       "         308., 309., 310., 311., 312., 313., 314., 315., 316., 317., 318.,\n",
       "         319., 320., 321., 322., 323., 324., 325., 326., 327., 328., 329.,\n",
       "         330., 331., 332., 333., 334., 335., 336., 337., 338., 339., 340.,\n",
       "         341., 342., 343., 344., 345., 346., 347., 348., 349., 350., 351.,\n",
       "         352., 353., 354., 355., 356., 357., 358., 359., 360., 361., 362.,\n",
       "         363., 364., 365., 366., 367., 368., 369., 370., 371., 372., 373.,\n",
       "         374., 375., 376., 377., 378., 379., 380., 381., 382., 383., 384.,\n",
       "         385., 386., 387., 388., 389., 390., 391., 392., 393., 394., 395.,\n",
       "         396., 397., 398., 399., 400., 401., 402., 403., 404., 405., 406.,\n",
       "         407., 408., 409., 410., 411., 412., 413., 414., 415., 416., 417.,\n",
       "         418., 419., 420., 421., 422., 423., 424., 425., 426., 427., 428.,\n",
       "         429., 430., 431., 432., 433., 434., 435., 436., 437., 438., 439.,\n",
       "         440., 441., 442., 443., 444., 445., 446., 447., 448., 449., 450.,\n",
       "         451., 452., 453., 454., 455., 456., 457., 458., 459., 460., 461.,\n",
       "         462., 463., 464., 465., 466., 467., 468., 469., 470., 471., 472.,\n",
       "         473., 474., 475., 476., 477., 478., 479., 480., 481., 482., 483.,\n",
       "         484., 485., 486., 487., 488., 489., 490., 491., 492., 493., 494.,\n",
       "         495., 496., 497., 498., 499., 500.])),\n",
       " (<__main__.DummyArray: spectrum at 140252262164880>,\n",
       "  array([6.85002490e-01, 9.85212110e-02, 7.90590673e-01, 4.79090883e-02,\n",
       "         5.04072937e-02, 1.89937224e-01, 6.31977106e-01, 7.27968782e-01,\n",
       "         2.03967901e-02, 6.45945754e-01, 7.30309638e-01, 8.15601110e-01,\n",
       "         1.71852289e-01, 8.87304373e-01, 6.61187320e-01, 8.92133756e-01,\n",
       "         5.00993239e-01, 3.69786288e-02, 5.84657018e-01, 5.49242702e-01,\n",
       "         9.08903711e-01, 1.88681614e-01, 3.26961951e-01, 4.19220304e-01,\n",
       "         4.75614542e-01, 4.01641836e-02, 6.31030484e-01, 6.54316605e-02,\n",
       "         6.99805505e-01, 2.34725983e-01, 7.08277853e-01, 5.03523916e-01,\n",
       "         2.71504054e-01, 9.95615741e-01, 5.07119581e-01, 6.58134239e-01,\n",
       "         9.69420866e-01, 5.44567565e-01, 3.98810150e-01, 7.54441571e-01,\n",
       "         3.22044012e-01, 6.45895462e-01, 2.26539182e-01, 5.71361884e-02,\n",
       "         4.30268776e-01, 5.30330875e-01, 6.80862654e-01, 1.58309727e-01,\n",
       "         2.16660096e-01, 2.17924281e-01, 7.41528328e-01, 7.67252917e-01,\n",
       "         9.74864453e-01, 7.17337964e-02, 8.35302659e-01, 3.47225267e-01,\n",
       "         2.86284308e-01, 8.08740635e-01, 4.94848244e-01, 7.07488410e-01,\n",
       "         4.24133525e-01, 3.61041206e-01, 7.75667367e-01, 5.35761271e-01,\n",
       "         4.71701270e-01, 5.11142710e-01, 8.36167935e-01, 9.06766283e-01,\n",
       "         4.14477497e-01, 2.18326533e-01, 8.42572150e-01, 1.46706630e-02,\n",
       "         9.05456435e-01, 7.81147281e-01, 3.90164361e-01, 6.98630270e-02,\n",
       "         1.83169330e-01, 3.18413298e-01, 1.54437390e-01, 4.00110922e-01,\n",
       "         2.08609791e-01, 1.70059128e-01, 9.69438591e-01, 7.90357148e-01,\n",
       "         5.12174989e-01, 6.30992296e-01, 4.37074005e-01, 8.97348956e-01,\n",
       "         3.70563236e-01, 7.52717116e-01, 2.69534671e-01, 6.11580992e-02,\n",
       "         3.02106468e-03, 7.97561333e-01, 9.96580580e-02, 1.63582186e-01,\n",
       "         6.06321198e-01, 4.55693995e-01, 8.89470162e-01, 7.86759401e-01,\n",
       "         8.11148348e-01, 1.57968528e-01, 2.48016540e-01, 7.99818351e-01,\n",
       "         7.40025230e-01, 8.40393220e-02, 6.77210443e-01, 6.45237035e-01,\n",
       "         9.90634358e-01, 1.91196335e-01, 8.67469666e-01, 4.30320414e-01,\n",
       "         1.66950800e-01, 3.37126503e-02, 8.55931417e-01, 9.95216504e-02,\n",
       "         1.12907458e-01, 8.25618714e-01, 7.06905569e-01, 6.69802256e-01,\n",
       "         6.77600524e-01, 9.94955983e-01, 1.93076060e-01, 9.31509165e-01,\n",
       "         4.89098901e-01, 8.17268275e-01, 2.08541533e-01, 9.88721359e-01,\n",
       "         5.16030709e-01, 6.54933285e-01, 4.07202025e-01, 8.91777129e-01,\n",
       "         5.31534114e-01, 1.08248822e-02, 5.64996956e-01, 4.29084827e-01,\n",
       "         4.34012732e-01, 7.05998331e-01, 3.34809271e-02, 8.59722902e-01,\n",
       "         8.00937034e-02, 2.80627986e-01, 7.21416319e-01, 9.33832707e-01,\n",
       "         2.30369672e-01, 9.89626992e-02, 2.65899037e-01, 7.33722527e-02,\n",
       "         7.14458658e-02, 9.68715943e-01, 4.79311815e-02, 8.49253496e-01,\n",
       "         6.60068361e-01, 9.29956678e-01, 1.20202145e-01, 1.53254782e-01,\n",
       "         1.73095984e-01, 7.88739474e-01, 9.17220190e-01, 1.31746377e-01,\n",
       "         8.57591597e-01, 3.43747708e-01, 4.50711511e-01, 2.14412393e-01,\n",
       "         9.65408471e-02, 8.22828148e-01, 3.34108695e-01, 8.55823748e-01,\n",
       "         4.33384044e-01, 1.78189342e-01, 8.62954125e-01, 9.74815513e-02,\n",
       "         5.42199715e-01, 9.89315445e-01, 8.06900510e-01, 4.18524671e-01,\n",
       "         3.75181521e-03, 8.39114475e-01, 9.15260100e-01, 3.20664449e-01,\n",
       "         5.15928756e-01, 9.79440065e-01, 1.37405576e-01, 3.49132041e-02,\n",
       "         7.66766750e-01, 4.03701906e-01, 8.35821555e-01, 5.49383098e-01,\n",
       "         2.40046087e-01, 7.67775813e-01, 2.54335848e-01, 7.44189488e-01,\n",
       "         9.84743413e-01, 8.56625074e-01, 9.21532338e-01, 9.54719928e-01,\n",
       "         5.01394097e-01, 6.79817814e-01, 7.70202354e-01, 5.05874355e-01,\n",
       "         7.53153057e-01, 9.46081399e-01, 1.00367615e-01, 6.36730210e-01,\n",
       "         8.82052357e-02, 8.80691145e-01, 7.50628167e-01, 5.15582925e-01,\n",
       "         9.84043742e-01, 7.23894359e-01, 7.26154410e-01, 5.50753869e-02,\n",
       "         1.88986234e-01, 4.39425436e-02, 6.31086060e-01, 6.97299719e-01,\n",
       "         4.83564590e-01, 3.37485084e-01, 2.08001165e-01, 4.40599600e-01,\n",
       "         1.36473999e-01, 8.33237923e-01, 6.01419327e-01, 1.27179304e-02,\n",
       "         2.58687686e-01, 8.79882926e-01, 1.73403292e-02, 7.37655323e-02,\n",
       "         9.47332561e-03, 8.73064825e-01, 1.85961881e-01, 1.95492456e-02,\n",
       "         1.59288840e-01, 5.51370347e-01, 8.64806819e-01, 8.05213988e-01,\n",
       "         5.52850326e-01, 1.27404103e-01, 5.03157637e-01, 6.37655580e-01,\n",
       "         4.70806458e-02, 3.62795904e-01, 6.80905562e-01, 3.46380343e-01,\n",
       "         5.72126674e-01, 2.55713606e-01, 1.15233980e-01, 7.58148519e-01,\n",
       "         9.66325848e-02, 3.13106896e-01, 4.41441362e-01, 4.99285902e-01,\n",
       "         6.88101678e-01, 4.55888574e-01, 5.34685606e-01, 6.20431633e-01,\n",
       "         9.56833474e-01, 3.58425598e-01, 3.30190832e-01, 1.46706686e-01,\n",
       "         2.90806027e-03, 1.59416418e-01, 5.81572675e-02, 1.57383461e-01,\n",
       "         9.08647034e-01, 2.02638202e-01, 8.33981841e-01, 7.19509779e-01,\n",
       "         1.37634317e-01, 7.20769124e-01, 8.20753479e-01, 9.10880356e-01,\n",
       "         6.59537907e-01, 9.29168726e-01, 4.80805748e-01, 8.41888485e-01,\n",
       "         8.87459687e-01, 2.56195856e-01, 7.15223322e-01, 7.77815744e-01,\n",
       "         1.13442440e-01, 6.03068522e-01, 3.66467787e-01, 4.11505188e-01,\n",
       "         8.99132636e-02, 8.08608298e-01, 4.89804940e-01, 9.77903442e-01,\n",
       "         6.93911989e-01, 9.60407959e-01, 9.18051455e-01, 8.01261495e-01,\n",
       "         8.17605662e-01, 6.26111004e-01, 9.43715565e-01, 5.57699611e-01,\n",
       "         4.24041051e-01, 8.00579176e-01, 9.78948803e-02, 3.68114440e-01,\n",
       "         4.33094826e-03, 7.02187312e-01, 3.82640459e-01, 2.94645320e-01,\n",
       "         1.23132362e-01, 4.17177484e-01, 8.16328687e-01, 7.38333575e-02,\n",
       "         6.20014630e-01, 7.32424421e-01, 3.84319009e-01, 9.26607978e-01,\n",
       "         1.83430973e-01, 3.74999055e-01, 6.70363704e-01, 3.44986206e-01,\n",
       "         9.45302004e-01, 7.14070695e-01, 5.43893388e-01, 6.81913519e-01,\n",
       "         6.18341034e-01, 1.48720102e-01, 8.67480997e-01, 7.71185003e-01,\n",
       "         9.96203627e-01, 2.75177845e-02, 9.68558605e-01, 5.33816148e-01,\n",
       "         1.38523461e-01, 2.62586920e-01, 8.20048160e-01, 5.63445430e-01,\n",
       "         8.34431672e-01, 6.78144900e-01, 3.12749881e-02, 5.99314387e-01,\n",
       "         4.04946903e-01, 4.14782370e-01, 5.73765139e-02, 1.91127981e-01,\n",
       "         3.12555609e-01, 7.92514062e-01, 3.17437139e-01, 3.42841815e-01,\n",
       "         7.62394548e-01, 4.40761767e-01, 9.01714811e-01, 3.58014942e-01,\n",
       "         6.59857015e-01, 6.19692245e-01, 4.23603193e-01, 9.75274397e-01,\n",
       "         6.13265735e-01, 3.34184111e-02, 6.21888130e-01, 8.85789128e-02,\n",
       "         7.54660747e-01, 7.00141313e-01, 4.16253351e-01, 3.24636869e-02,\n",
       "         6.79177448e-01, 1.03486502e-01, 1.23922154e-02, 6.46421714e-01,\n",
       "         3.77071674e-01, 4.82943655e-01, 4.00866372e-01, 4.74360651e-01,\n",
       "         1.06629206e-01, 6.95548141e-01, 9.99892203e-02, 4.44438461e-01,\n",
       "         3.87391187e-01, 4.60606257e-01, 2.59055906e-01, 3.99049426e-02,\n",
       "         3.48519989e-01, 2.53781434e-02, 2.53156542e-02, 1.85392886e-01,\n",
       "         2.08123923e-01, 1.10126130e-01, 7.55429264e-01, 4.91034440e-01,\n",
       "         3.83358003e-01, 6.60042377e-01, 2.71806694e-01, 3.12310974e-01,\n",
       "         8.86692441e-01, 2.07775076e-01, 2.92858049e-01, 3.82963028e-02,\n",
       "         5.02359848e-01, 9.98628589e-01, 9.30027038e-01, 4.32100595e-01,\n",
       "         5.92452729e-01, 8.52819732e-01, 8.53011764e-01, 1.72628937e-01,\n",
       "         5.30825700e-01, 8.37674136e-01, 9.34502364e-01, 7.09383581e-01,\n",
       "         6.71617025e-01, 4.16283754e-02, 6.71271051e-01, 6.97266803e-01,\n",
       "         4.70574583e-01, 8.08450846e-01, 1.73401605e-01, 1.19430604e-01,\n",
       "         9.62566321e-01, 3.47690487e-01, 5.99765214e-01, 3.18802346e-01,\n",
       "         8.85469737e-01, 8.84634240e-02, 9.83303298e-01, 8.51473474e-01,\n",
       "         7.08912169e-01, 7.81491434e-01, 1.93031658e-01, 1.26277102e-01,\n",
       "         6.76256280e-01, 4.09447927e-01, 9.14783268e-01, 6.95681842e-01,\n",
       "         1.76979865e-01, 5.00266212e-01, 9.74291454e-01, 9.91866740e-01,\n",
       "         1.58364590e-01, 1.21534757e-02, 2.40044019e-01, 6.64535967e-01,\n",
       "         2.69471179e-01, 4.68353821e-01, 9.66664728e-01, 6.68142750e-01,\n",
       "         3.36717224e-01, 3.48993013e-01, 1.13806549e-01, 2.21187510e-01,\n",
       "         8.46882347e-04, 4.50120860e-01, 7.01562163e-01, 3.87533156e-01,\n",
       "         5.36374986e-01, 7.81507123e-01, 2.87989066e-01, 7.90240996e-01,\n",
       "         8.56365770e-01, 8.09411789e-02, 4.20276192e-01, 9.92820177e-01,\n",
       "         7.68842115e-02, 7.58168355e-01, 4.81395649e-01, 3.83750993e-01,\n",
       "         8.15470511e-03, 3.03719045e-01, 3.47696824e-01, 9.56254079e-02,\n",
       "         3.15508604e-03, 9.07595462e-01, 1.52299670e-01, 4.05175051e-01,\n",
       "         7.78255639e-01, 4.07829139e-01, 5.46236194e-01, 4.77987369e-01,\n",
       "         4.89549260e-01, 2.31213711e-01, 9.02992742e-01, 9.82690554e-01,\n",
       "         5.15527224e-01, 9.24810619e-01, 9.76106968e-01, 6.74187190e-01,\n",
       "         6.93957707e-01, 4.70682341e-02, 2.38603150e-01, 3.80826374e-04,\n",
       "         4.62631804e-02, 1.67810897e-01, 2.07263945e-01, 9.31789722e-01,\n",
       "         4.40587229e-01, 4.10505984e-02, 9.08839684e-01, 4.59654877e-01,\n",
       "         9.96492198e-01, 2.52724328e-01, 4.23692565e-01, 3.65121708e-01,\n",
       "         7.92115868e-01, 1.51168138e-01, 5.11518063e-04, 9.03092746e-01,\n",
       "         8.55893317e-01]))]"
      ]
     },
     "execution_count": 20,
     "metadata": {},
     "output_type": "execute_result"
    }
   ],
   "source": [
    "expand_setpoints_helper(a.spectrum)"
   ]
  },
  {
   "cell_type": "code",
   "execution_count": 21,
   "metadata": {},
   "outputs": [
    {
     "name": "stdout",
     "output_type": "stream",
     "text": [
      "Starting experimental run with id: 2. \n"
     ]
    }
   ],
   "source": [
    "meas = Measurement()\n",
    "meas.register_parameter(a.spectrum)\n",
    "\n",
    "with meas.run() as datasaver:\n",
    "    datasaver.add_result(*expand_setpoints_helper(a.spectrum))\n",
    "    \n",
    "    dataid = datasaver.run_id"
   ]
  },
  {
   "cell_type": "code",
   "execution_count": null,
   "metadata": {},
   "outputs": [],
   "source": []
  }
 ],
 "metadata": {
  "kernelspec": {
   "display_name": "Python 3",
   "language": "python",
   "name": "python3"
  },
  "language_info": {
   "codemirror_mode": {
    "name": "ipython",
    "version": 3
   },
   "file_extension": ".py",
   "mimetype": "text/x-python",
   "name": "python",
   "nbconvert_exporter": "python",
   "pygments_lexer": "ipython3",
   "version": "3.7.7"
  },
  "toc": {
   "base_numbering": 1,
   "nav_menu": {},
   "number_sections": true,
   "sideBar": true,
   "skip_h1_title": false,
   "title_cell": "Table of Contents",
   "title_sidebar": "Contents",
   "toc_cell": false,
   "toc_position": {},
   "toc_section_display": true,
   "toc_window_display": false
  },
  "varInspector": {
   "cols": {
    "lenName": 16,
    "lenType": 16,
    "lenVar": 40
   },
   "kernels_config": {
    "python": {
     "delete_cmd_postfix": "",
     "delete_cmd_prefix": "del ",
     "library": "var_list.py",
     "varRefreshCmd": "print(var_dic_list())"
    },
    "r": {
     "delete_cmd_postfix": ") ",
     "delete_cmd_prefix": "rm(",
     "library": "var_list.r",
     "varRefreshCmd": "cat(var_dic_list()) "
    }
   },
   "types_to_exclude": [
    "module",
    "function",
    "builtin_function_or_method",
    "instance",
    "_Feature"
   ],
   "window_display": false
  }
 },
 "nbformat": 4,
 "nbformat_minor": 2
}
