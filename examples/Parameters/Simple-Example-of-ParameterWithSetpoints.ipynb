{
 "cells": [
  {
   "cell_type": "markdown",
   "execution_count": 1,
   "metadata": {},
   "source": [
    "# Simple Example of ParameterWithSetpoints\n",
    "This notebook provides an example for writing a simple driver with a parameter that has setpoints. Let's name this parameter that has setpoints as \"y\". Then, the setpoints, say \"x1, x2, x3 ..\", are the parameters on which the parameter \n",
    "\"y\" depends upon. Meaning \"y\" is a function of \"x1, x2, x3 ...\" where \"x1, x2, x3 ...\" are known as the setpoints of parameter \"y\".\n",
    "\n",
    "This is most likely to be useful for instruments that return arrays of results. In this notebook, we will show an example of this."
   ]
  },
  {
   "cell_type": "code",
   "execution_count": 1,
   "metadata": {
    "execution": {
     "iopub.execute_input": "2020-09-16T13:14:24.195764Z",
     "iopub.status.busy": "2020-09-16T13:14:24.195356Z",
     "iopub.status.idle": "2020-09-16T13:14:24.277859Z",
     "shell.execute_reply": "2020-09-16T13:14:24.278356Z"
    }
   },
   "outputs": [],
   "source": [
    "import numpy as np\n",
    "import os"
   ]
  },
  {
   "cell_type": "code",
   "execution_count": 2,
   "metadata": {
    "execution": {
     "iopub.execute_input": "2020-09-16T13:14:24.283605Z",
     "iopub.status.busy": "2020-09-16T13:14:24.283039Z",
     "iopub.status.idle": "2020-09-16T13:14:25.314448Z",
     "shell.execute_reply": "2020-09-16T13:14:25.313583Z"
    }
   },
   "outputs": [
    {
     "name": "stdout",
     "output_type": "stream",
     "text": [
      "Logging hadn't been started.\n",
      "Activating auto-logging. Current session state plus future input saved.\n",
      "Filename       : /home/vsts/.qcodes/logs/command_history.log\n",
      "Mode           : append\n",
      "Output logging : True\n",
      "Raw input log  : False\n",
      "Timestamping   : True\n",
      "State          : active\n"
     ]
    },
    {
     "name": "stdout",
     "output_type": "stream",
     "text": [
      "Qcodes Logfile : /home/vsts/.qcodes/logs/200916-22689-qcodes.log\n"
     ]
    }
   ],
   "source": [
    "from qcodes.dataset.plotting import plot_dataset\n",
    "from qcodes.utils.validators import Numbers, Arrays\n",
    "from qcodes.instrument.base import Instrument\n",
    "from qcodes.dataset.measurements import Measurement"
   ]
  },
  {
   "cell_type": "code",
   "execution_count": 3,
   "metadata": {
    "execution": {
     "iopub.execute_input": "2020-09-16T13:14:25.318292Z",
     "iopub.status.busy": "2020-09-16T13:14:25.317760Z",
     "iopub.status.idle": "2020-09-16T13:14:25.319748Z",
     "shell.execute_reply": "2020-09-16T13:14:25.320122Z"
    }
   },
   "outputs": [],
   "source": [
    "from qcodes.dataset.sqlite.database import initialise_or_create_database_at\n",
    "from qcodes.dataset.experiment_container import load_or_create_experiment"
   ]
  },
  {
   "cell_type": "code",
   "execution_count": 4,
   "metadata": {
    "execution": {
     "iopub.execute_input": "2020-09-16T13:14:25.323923Z",
     "iopub.status.busy": "2020-09-16T13:14:25.323009Z",
     "iopub.status.idle": "2020-09-16T13:14:25.324787Z",
     "shell.execute_reply": "2020-09-16T13:14:25.325291Z"
    }
   },
   "outputs": [],
   "source": [
    "from qcodes.instrument.parameter import ParameterWithSetpoints, Parameter\n",
    "from qcodes.instrument.parameter import expand_setpoints_helper"
   ]
  },
  {
   "cell_type": "markdown",
   "execution_count": 5,
   "metadata": {},
   "source": [
    "First, we define a dummy instrument that returns something like a frequency spectrum starting from a frequency given by `f_start` to a frequency given by `f_stop` in `n_points` steps. \n",
    "\n",
    "The extra functionality of the `ParameterWithSetpoints` is implemented by giving it a reference to one or more parameters that acts like its setpoints. \n",
    "\n",
    "To setup a `ParameterWithSetpoints` we have to do two things in addition to what we do for a normal parameter.\n",
    "\n",
    "* Define one or more parameter for the setpoints (one for each dimension of the array and let the `ParameterWithSetpoints` know that these are the setpoints.\n",
    "* Give both the setpoints parameter(s) and the `ParameterWithSetpoints` a `validator` of type `Arrays` with a shape. The shapes should be such that the combined shape of the setpoints matches the shape of the `ParameterWithSetpoints`. Note that if the shape changes with the setting of the instrument, it can be defined by another parameter as shown below. "
   ]
  },
  {
   "cell_type": "code",
   "execution_count": 5,
   "metadata": {
    "execution": {
     "iopub.execute_input": "2020-09-16T13:14:25.334327Z",
     "iopub.status.busy": "2020-09-16T13:14:25.328088Z",
     "iopub.status.idle": "2020-09-16T13:14:25.337997Z",
     "shell.execute_reply": "2020-09-16T13:14:25.337483Z"
    }
   },
   "outputs": [],
   "source": [
    "class GeneratedSetPoints(Parameter):\n",
    "    \"\"\"\n",
    "    A parameter that generates a setpoint array from start, stop and num points\n",
    "    parameters.\n",
    "    \"\"\"\n",
    "    def __init__(self, startparam, stopparam, numpointsparam, *args, **kwargs):\n",
    "        super().__init__(*args, **kwargs)\n",
    "        self._startparam = startparam\n",
    "        self._stopparam = stopparam\n",
    "        self._numpointsparam = numpointsparam\n",
    "\n",
    "    def get_raw(self):\n",
    "        return np.linspace(self._startparam(), self._stopparam(),\n",
    "                              self._numpointsparam())\n",
    "\n",
    "class DummyArray(ParameterWithSetpoints):\n",
    "    \n",
    "    def get_raw(self):\n",
    "        npoints = self.root_instrument.n_points.get_latest()\n",
    "        return np.random.rand(npoints)\n",
    "    \n",
    "\n",
    "class DummySpectrumAnalyzer(Instrument):\n",
    "    \n",
    "    def __init__(self, name, **kwargs):\n",
    "        \n",
    "        super().__init__(name, **kwargs)\n",
    "            \n",
    "\n",
    "        self.add_parameter('f_start',\n",
    "                           initial_value=0,\n",
    "                           unit='Hz',\n",
    "                           label='f start',\n",
    "                           vals=Numbers(0,1e3),\n",
    "                           get_cmd=None,\n",
    "                           set_cmd=None)\n",
    "\n",
    "        self.add_parameter('f_stop',\n",
    "                           unit='Hz',\n",
    "                           label='f stop',\n",
    "                           vals=Numbers(1,1e3),\n",
    "                           get_cmd=None,\n",
    "                           set_cmd=None)\n",
    "\n",
    "        self.add_parameter('n_points',\n",
    "                           unit='',\n",
    "                           initial_value=10,\n",
    "                           vals=Numbers(1,1e3),\n",
    "                           get_cmd=None,\n",
    "                           set_cmd=None)\n",
    "        \n",
    "        self.add_parameter('freq_axis',\n",
    "                           unit='Hz',\n",
    "                           label='Freq Axis',\n",
    "                           parameter_class=GeneratedSetPoints,\n",
    "                           startparam=self.f_start,\n",
    "                           stopparam=self.f_stop,\n",
    "                           numpointsparam=self.n_points,\n",
    "                           vals=Arrays(shape=(self.n_points.get_latest,)))\n",
    "                           \n",
    "        self.add_parameter('spectrum',\n",
    "                   unit='dBm',\n",
    "                   setpoints=(self.freq_axis,),\n",
    "                   label='Spectrum',\n",
    "                   parameter_class=DummyArray,\n",
    "                   vals=Arrays(shape=(self.n_points.get_latest,)))\n",
    "                "
   ]
  },
  {
   "cell_type": "markdown",
   "execution_count": 6,
   "metadata": {},
   "source": [
    "In the above example, the shape is defined by the parameter `n_points` that defines how many samples our `DummySpectrumAnalyzer` returns.\n",
    "\n",
    "This means that the validation will call the function to get `n_points` twice for each `get` of the parameter. This may be too slow, however, if you (as the driver-writer) can guarantee that the cached value for `n_points` will never be out of sync with the value stored in the instrument, `n_points` may be replaced by it's latest known value such that the `validator` reads:\n",
    "```python\n",
    "vals=Arrays(shape=(self.n_points.get_latest))\n",
    "```\n",
    "\n",
    "This avoids any additional call to the instrument. In the same way, the arguments to the `freq_axis` parameter that defines the start, stop and number of points can be replaced by their latest value if the instrument allows it.\n",
    "\n"
   ]
  },
  {
   "cell_type": "code",
   "execution_count": 6,
   "metadata": {
    "execution": {
     "iopub.execute_input": "2020-09-16T13:14:25.348462Z",
     "iopub.status.busy": "2020-09-16T13:14:25.343361Z",
     "iopub.status.idle": "2020-09-16T13:14:25.427575Z",
     "shell.execute_reply": "2020-09-16T13:14:25.427068Z"
    }
   },
   "outputs": [
    {
     "name": "stdout",
     "output_type": "stream",
     "text": [
      "\r",
      "0it [00:00, ?it/s]"
     ]
    },
    {
     "name": "stdout",
     "output_type": "stream",
     "text": [
      "\r",
      "Upgrading database; v0 -> v1: : 0it [00:00, ?it/s]"
     ]
    },
    {
     "name": "stdout",
     "output_type": "stream",
     "text": [
      "\r",
      "Upgrading database; v0 -> v1: : 0it [00:00, ?it/s]"
     ]
    },
    {
     "name": "stdout",
     "output_type": "stream",
     "text": [
      "\n",
      "\r",
      "  0%|          | 0/1 [00:00<?, ?it/s]"
     ]
    },
    {
     "name": "stdout",
     "output_type": "stream",
     "text": [
      "\r",
      "Upgrading database; v1 -> v2:   0%|          | 0/1 [00:00<?, ?it/s]"
     ]
    },
    {
     "name": "stdout",
     "output_type": "stream",
     "text": [
      "\r",
      "Upgrading database; v1 -> v2: 100%|██████████| 1/1 [00:00<00:00, 382.31it/s]"
     ]
    },
    {
     "name": "stdout",
     "output_type": "stream",
     "text": [
      "\n",
      "\r",
      "0it [00:00, ?it/s]"
     ]
    },
    {
     "name": "stdout",
     "output_type": "stream",
     "text": [
      "\r",
      "Upgrading database; v2 -> v3: : 0it [00:00, ?it/s]"
     ]
    },
    {
     "name": "stdout",
     "output_type": "stream",
     "text": [
      "\r",
      "Upgrading database; v2 -> v3: : 0it [00:00, ?it/s]"
     ]
    },
    {
     "name": "stdout",
     "output_type": "stream",
     "text": [
      "\n",
      "\r",
      "0it [00:00, ?it/s]"
     ]
    },
    {
     "name": "stdout",
     "output_type": "stream",
     "text": [
      "\r",
      "Upgrading database; v3 -> v4: : 0it [00:00, ?it/s]"
     ]
    },
    {
     "name": "stdout",
     "output_type": "stream",
     "text": [
      "\r",
      "Upgrading database; v3 -> v4: : 0it [00:00, ?it/s]"
     ]
    },
    {
     "name": "stdout",
     "output_type": "stream",
     "text": [
      "\n",
      "\r",
      "  0%|          | 0/1 [00:00<?, ?it/s]"
     ]
    },
    {
     "name": "stdout",
     "output_type": "stream",
     "text": [
      "\r",
      "Upgrading database; v4 -> v5:   0%|          | 0/1 [00:00<?, ?it/s]"
     ]
    },
    {
     "name": "stdout",
     "output_type": "stream",
     "text": [
      "\r",
      "Upgrading database; v4 -> v5: 100%|██████████| 1/1 [00:00<00:00, 412.87it/s]"
     ]
    },
    {
     "name": "stdout",
     "output_type": "stream",
     "text": [
      "\n",
      "\r",
      "0it [00:00, ?it/s]"
     ]
    },
    {
     "name": "stdout",
     "output_type": "stream",
     "text": [
      "\r",
      "Upgrading database; v5 -> v6: : 0it [00:00, ?it/s]"
     ]
    },
    {
     "name": "stdout",
     "output_type": "stream",
     "text": [
      "\r",
      "Upgrading database; v5 -> v6: : 0it [00:00, ?it/s]"
     ]
    },
    {
     "name": "stdout",
     "output_type": "stream",
     "text": [
      "\n",
      "\r",
      "  0%|          | 0/1 [00:00<?, ?it/s]"
     ]
    },
    {
     "name": "stdout",
     "output_type": "stream",
     "text": [
      "\r",
      "Upgrading database; v6 -> v7:   0%|          | 0/1 [00:00<?, ?it/s]"
     ]
    },
    {
     "name": "stdout",
     "output_type": "stream",
     "text": [
      "\r",
      "Upgrading database; v6 -> v7: 100%|██████████| 1/1 [00:00<00:00, 507.48it/s]"
     ]
    },
    {
     "name": "stdout",
     "output_type": "stream",
     "text": [
      "\n",
      "\r",
      "  0%|          | 0/1 [00:00<?, ?it/s]"
     ]
    },
    {
     "name": "stdout",
     "output_type": "stream",
     "text": [
      "\r",
      "Upgrading database; v7 -> v8:   0%|          | 0/1 [00:00<?, ?it/s]"
     ]
    },
    {
     "name": "stdout",
     "output_type": "stream",
     "text": [
      "\r",
      "Upgrading database; v7 -> v8: 100%|██████████| 1/1 [00:00<00:00, 308.20it/s]"
     ]
    },
    {
     "name": "stdout",
     "output_type": "stream",
     "text": [
      "\n",
      "\r",
      "  0%|          | 0/1 [00:00<?, ?it/s]"
     ]
    },
    {
     "name": "stdout",
     "output_type": "stream",
     "text": [
      "\r",
      "Upgrading database; v8 -> v9:   0%|          | 0/1 [00:00<?, ?it/s]"
     ]
    },
    {
     "name": "stdout",
     "output_type": "stream",
     "text": [
      "\r",
      "Upgrading database; v8 -> v9: 100%|██████████| 1/1 [00:00<00:00, 545.42it/s]"
     ]
    },
    {
     "name": "stdout",
     "output_type": "stream",
     "text": [
      "\n"
     ]
    },
    {
     "data": {
      "text/plain": [
       "tutorial_ParameterWithSetpoints#no sample#1@/home/vsts/work/1/s/docs/examples/Parameters/tutorial_paramter_with_setpoints.db\n",
       "----------------------------------------------------------------------------------------------------------------------------"
      ]
     },
     "execution_count": 1,
     "metadata": {},
     "output_type": "execute_result"
    }
   ],
   "source": [
    "tutorial_db_path = os.path.join(os.getcwd(), 'tutorial_paramter_with_setpoints.db')\n",
    "initialise_or_create_database_at(tutorial_db_path)\n",
    "load_or_create_experiment(experiment_name='tutorial_ParameterWithSetpoints', sample_name=\"no sample\")"
   ]
  },
  {
   "cell_type": "code",
   "execution_count": 7,
   "metadata": {
    "execution": {
     "iopub.execute_input": "2020-09-16T13:14:25.431401Z",
     "iopub.status.busy": "2020-09-16T13:14:25.430252Z",
     "iopub.status.idle": "2020-09-16T13:14:25.434456Z",
     "shell.execute_reply": "2020-09-16T13:14:25.434869Z"
    }
   },
   "outputs": [],
   "source": [
    "a = DummySpectrumAnalyzer('foobar')"
   ]
  },
  {
   "cell_type": "markdown",
   "execution_count": 8,
   "metadata": {},
   "source": [
    "First we setup the limits of the spectrum"
   ]
  },
  {
   "cell_type": "code",
   "execution_count": 8,
   "metadata": {
    "execution": {
     "iopub.execute_input": "2020-09-16T13:14:25.438752Z",
     "iopub.status.busy": "2020-09-16T13:14:25.438242Z",
     "iopub.status.idle": "2020-09-16T13:14:25.441515Z",
     "shell.execute_reply": "2020-09-16T13:14:25.441030Z"
    }
   },
   "outputs": [],
   "source": [
    "a.f_start(0)\n",
    "a.f_stop(500)\n",
    "a.n_points(501)"
   ]
  },
  {
   "cell_type": "markdown",
   "execution_count": 9,
   "metadata": {},
   "source": [
    "And we can grab the frequency axis"
   ]
  },
  {
   "cell_type": "code",
   "execution_count": 9,
   "metadata": {
    "execution": {
     "iopub.execute_input": "2020-09-16T13:14:25.444889Z",
     "iopub.status.busy": "2020-09-16T13:14:25.444441Z",
     "iopub.status.idle": "2020-09-16T13:14:25.448422Z",
     "shell.execute_reply": "2020-09-16T13:14:25.448887Z"
    }
   },
   "outputs": [
    {
     "data": {
      "text/plain": [
       "501"
      ]
     },
     "execution_count": 1,
     "metadata": {},
     "output_type": "execute_result"
    }
   ],
   "source": [
    "a.n_points()"
   ]
  },
  {
   "cell_type": "code",
   "execution_count": 10,
   "metadata": {
    "execution": {
     "iopub.execute_input": "2020-09-16T13:14:25.453301Z",
     "iopub.status.busy": "2020-09-16T13:14:25.452810Z",
     "iopub.status.idle": "2020-09-16T13:14:25.454951Z",
     "shell.execute_reply": "2020-09-16T13:14:25.455403Z"
    },
    "scrolled": false
   },
   "outputs": [
    {
     "data": {
      "text/plain": [
       "501"
      ]
     },
     "execution_count": 1,
     "metadata": {},
     "output_type": "execute_result"
    }
   ],
   "source": [
    "freq_axis = a.freq_axis()\n",
    "len(freq_axis)"
   ]
  },
  {
   "cell_type": "code",
   "execution_count": 11,
   "metadata": {
    "execution": {
     "iopub.execute_input": "2020-09-16T13:14:25.459687Z",
     "iopub.status.busy": "2020-09-16T13:14:25.458453Z",
     "iopub.status.idle": "2020-09-16T13:14:25.462090Z",
     "shell.execute_reply": "2020-09-16T13:14:25.461566Z"
    }
   },
   "outputs": [
    {
     "data": {
      "text/plain": [
       "array([0., 1., 2., 3., 4., 5., 6., 7., 8., 9.])"
      ]
     },
     "execution_count": 1,
     "metadata": {},
     "output_type": "execute_result"
    }
   ],
   "source": [
    "freq_axis[:10]"
   ]
  },
  {
   "cell_type": "markdown",
   "execution_count": 12,
   "metadata": {},
   "source": [
    "As expected we get a result wit 501 points as we asked for an axis with 501 points. "
   ]
  },
  {
   "cell_type": "markdown",
   "execution_count": 12,
   "metadata": {},
   "source": [
    "Above we have added a validator to the `freq_axis` parameter encoding the fact that this is an Array with `n_points`. Note that we do not have to supply the number of points as an integer but can supply a function that returns the valid number of points. This would normally be a QCoDeS parameter.\n",
    "\n",
    "This will be checked if we validate the output."
   ]
  },
  {
   "cell_type": "code",
   "execution_count": 12,
   "metadata": {
    "execution": {
     "iopub.execute_input": "2020-09-16T13:14:25.466273Z",
     "iopub.status.busy": "2020-09-16T13:14:25.465721Z",
     "iopub.status.idle": "2020-09-16T13:14:25.468209Z",
     "shell.execute_reply": "2020-09-16T13:14:25.468711Z"
    }
   },
   "outputs": [],
   "source": [
    "a.freq_axis.validate(a.freq_axis.get())"
   ]
  },
  {
   "cell_type": "markdown",
   "execution_count": 13,
   "metadata": {},
   "source": [
    "Naturally, we can also get the spectrum. Getting the spectrum will automatically perform validation both for the shape of the parameter itself and the relation to the setpoint parameter(s)"
   ]
  },
  {
   "cell_type": "code",
   "execution_count": 13,
   "metadata": {
    "execution": {
     "iopub.execute_input": "2020-09-16T13:14:25.472419Z",
     "iopub.status.busy": "2020-09-16T13:14:25.471393Z",
     "iopub.status.idle": "2020-09-16T13:14:25.475395Z",
     "shell.execute_reply": "2020-09-16T13:14:25.474904Z"
    },
    "scrolled": true
   },
   "outputs": [
    {
     "data": {
      "text/plain": [
       "501"
      ]
     },
     "execution_count": 1,
     "metadata": {},
     "output_type": "execute_result"
    }
   ],
   "source": [
    "spectrum = a.spectrum.get()\n",
    "len(spectrum)"
   ]
  },
  {
   "cell_type": "markdown",
   "execution_count": 14,
   "metadata": {},
   "source": [
    "When we validate a `ParameterWithSetpoints`, we automatically validate that the shape is consistent between the parameters and its setpoints. As well as validating the shape as above."
   ]
  },
  {
   "cell_type": "code",
   "execution_count": 14,
   "metadata": {
    "execution": {
     "iopub.execute_input": "2020-09-16T13:14:25.479037Z",
     "iopub.status.busy": "2020-09-16T13:14:25.477986Z",
     "iopub.status.idle": "2020-09-16T13:14:25.481147Z",
     "shell.execute_reply": "2020-09-16T13:14:25.480406Z"
    }
   },
   "outputs": [],
   "source": [
    "a.spectrum.validate(a.spectrum.get())"
   ]
  },
  {
   "cell_type": "markdown",
   "execution_count": 15,
   "metadata": {},
   "source": [
    "The consistent shapes can be validated explicitly."
   ]
  },
  {
   "cell_type": "code",
   "execution_count": 15,
   "metadata": {
    "execution": {
     "iopub.execute_input": "2020-09-16T13:14:25.485415Z",
     "iopub.status.busy": "2020-09-16T13:14:25.484542Z",
     "iopub.status.idle": "2020-09-16T13:14:25.486231Z",
     "shell.execute_reply": "2020-09-16T13:14:25.486728Z"
    }
   },
   "outputs": [],
   "source": [
    "a.spectrum.validate_consistent_shape()"
   ]
  },
  {
   "cell_type": "markdown",
   "execution_count": 16,
   "metadata": {},
   "source": [
    "We can inspect the setpoints of the spectrum."
   ]
  },
  {
   "cell_type": "code",
   "execution_count": 16,
   "metadata": {
    "execution": {
     "iopub.execute_input": "2020-09-16T13:14:25.490864Z",
     "iopub.status.busy": "2020-09-16T13:14:25.490385Z",
     "iopub.status.idle": "2020-09-16T13:14:25.492481Z",
     "shell.execute_reply": "2020-09-16T13:14:25.492950Z"
    }
   },
   "outputs": [
    {
     "data": {
      "text/plain": [
       "(<__main__.GeneratedSetPoints: freq_axis at 140485039248336>,)"
      ]
     },
     "execution_count": 1,
     "metadata": {},
     "output_type": "execute_result"
    }
   ],
   "source": [
    "a.spectrum.setpoints"
   ]
  },
  {
   "cell_type": "markdown",
   "execution_count": 17,
   "metadata": {},
   "source": [
    "Or even change them."
   ]
  },
  {
   "cell_type": "code",
   "execution_count": 17,
   "metadata": {
    "execution": {
     "iopub.execute_input": "2020-09-16T13:14:25.497248Z",
     "iopub.status.busy": "2020-09-16T13:14:25.495924Z",
     "iopub.status.idle": "2020-09-16T13:14:25.497760Z",
     "shell.execute_reply": "2020-09-16T13:14:25.498282Z"
    }
   },
   "outputs": [],
   "source": [
    "a.spectrum.setpoints = (a.freq_axis,)"
   ]
  },
  {
   "cell_type": "markdown",
   "execution_count": 18,
   "metadata": {},
   "source": [
    "## Measurement"
   ]
  },
  {
   "cell_type": "markdown",
   "execution_count": 18,
   "metadata": {},
   "source": [
    "We can also directly consume the parameter in a measurement without defining the setpoints of the parameter again. The setpoints are automatically obtained from the definition of the `ParameterWithSetpoint` instance. "
   ]
  },
  {
   "cell_type": "code",
   "execution_count": 18,
   "metadata": {
    "execution": {
     "iopub.execute_input": "2020-09-16T13:14:25.501791Z",
     "iopub.status.busy": "2020-09-16T13:14:25.501334Z",
     "iopub.status.idle": "2020-09-16T13:14:25.516349Z",
     "shell.execute_reply": "2020-09-16T13:14:25.516812Z"
    }
   },
   "outputs": [
    {
     "name": "stdout",
     "output_type": "stream",
     "text": [
      "Starting experimental run with id: 1. \n"
     ]
    }
   ],
   "source": [
    "meas = Measurement()\n",
    "meas.register_parameter(a.spectrum)\n",
    "\n",
    "with meas.run() as datasaver:\n",
    "    datasaver.add_result((a.freq_axis, a.freq_axis()),\n",
    "                         (a.spectrum, a.spectrum()))\n",
    "    dataset = datasaver.dataset"
   ]
  },
  {
   "cell_type": "markdown",
   "execution_count": 19,
   "metadata": {},
   "source": [
    "And plot it"
   ]
  },
  {
   "cell_type": "code",
   "execution_count": 19,
   "metadata": {
    "execution": {
     "iopub.execute_input": "2020-09-16T13:14:25.519892Z",
     "iopub.status.busy": "2020-09-16T13:14:25.519416Z",
     "iopub.status.idle": "2020-09-16T13:14:25.872343Z",
     "shell.execute_reply": "2020-09-16T13:14:25.872849Z"
    }
   },
   "outputs": [
    {
     "data": {
      "text/plain": [
       "([<matplotlib.axes._subplots.AxesSubplot at 0x7fc539647e10>], [None])"
      ]
     },
     "execution_count": 1,
     "metadata": {},
     "output_type": "execute_result"
    },
    {
     "data": {
      "image/png": "[encoded data removed]",
      "text/plain": [
       "<Figure size 432x288 with 1 Axes>"
      ]
     },
     "metadata": {
      "needs_background": "light"
     },
     "output_type": "display_data"
    }
   ],
   "source": [
    "plot_dataset(dataset)"
   ]
  },
  {
   "cell_type": "markdown",
   "execution_count": 20,
   "metadata": {},
   "source": [
    "To reduce the amount of typing a simple convenience function is provided that will take a `ParameterWithSetpoints` and get both its values and the setpoints values and return them as tuples for direct insertion into the Dataset."
   ]
  },
  {
   "cell_type": "code",
   "execution_count": 20,
   "metadata": {
    "execution": {
     "iopub.execute_input": "2020-09-16T13:14:25.884875Z",
     "iopub.status.busy": "2020-09-16T13:14:25.875507Z",
     "iopub.status.idle": "2020-09-16T13:14:25.889850Z",
     "shell.execute_reply": "2020-09-16T13:14:25.888999Z"
    },
    "scrolled": true
   },
   "outputs": [
    {
     "data": {
      "text/plain": [
       "[(<__main__.GeneratedSetPoints: freq_axis at 140485039248336>,\n",
       "  array([  0.,   1.,   2.,   3.,   4.,   5.,   6.,   7.,   8.,   9.,  10.,\n",
       "          11.,  12.,  13.,  14.,  15.,  16.,  17.,  18.,  19.,  20.,  21.,\n",
       "          22.,  23.,  24.,  25.,  26.,  27.,  28.,  29.,  30.,  31.,  32.,\n",
       "          33.,  34.,  35.,  36.,  37.,  38.,  39.,  40.,  41.,  42.,  43.,\n",
       "          44.,  45.,  46.,  47.,  48.,  49.,  50.,  51.,  52.,  53.,  54.,\n",
       "          55.,  56.,  57.,  58.,  59.,  60.,  61.,  62.,  63.,  64.,  65.,\n",
       "          66.,  67.,  68.,  69.,  70.,  71.,  72.,  73.,  74.,  75.,  76.,\n",
       "          77.,  78.,  79.,  80.,  81.,  82.,  83.,  84.,  85.,  86.,  87.,\n",
       "          88.,  89.,  90.,  91.,  92.,  93.,  94.,  95.,  96.,  97.,  98.,\n",
       "          99., 100., 101., 102., 103., 104., 105., 106., 107., 108., 109.,\n",
       "         110., 111., 112., 113., 114., 115., 116., 117., 118., 119., 120.,\n",
       "         121., 122., 123., 124., 125., 126., 127., 128., 129., 130., 131.,\n",
       "         132., 133., 134., 135., 136., 137., 138., 139., 140., 141., 142.,\n",
       "         143., 144., 145., 146., 147., 148., 149., 150., 151., 152., 153.,\n",
       "         154., 155., 156., 157., 158., 159., 160., 161., 162., 163., 164.,\n",
       "         165., 166., 167., 168., 169., 170., 171., 172., 173., 174., 175.,\n",
       "         176., 177., 178., 179., 180., 181., 182., 183., 184., 185., 186.,\n",
       "         187., 188., 189., 190., 191., 192., 193., 194., 195., 196., 197.,\n",
       "         198., 199., 200., 201., 202., 203., 204., 205., 206., 207., 208.,\n",
       "         209., 210., 211., 212., 213., 214., 215., 216., 217., 218., 219.,\n",
       "         220., 221., 222., 223., 224., 225., 226., 227., 228., 229., 230.,\n",
       "         231., 232., 233., 234., 235., 236., 237., 238., 239., 240., 241.,\n",
       "         242., 243., 244., 245., 246., 247., 248., 249., 250., 251., 252.,\n",
       "         253., 254., 255., 256., 257., 258., 259., 260., 261., 262., 263.,\n",
       "         264., 265., 266., 267., 268., 269., 270., 271., 272., 273., 274.,\n",
       "         275., 276., 277., 278., 279., 280., 281., 282., 283., 284., 285.,\n",
       "         286., 287., 288., 289., 290., 291., 292., 293., 294., 295., 296.,\n",
       "         297., 298., 299., 300., 301., 302., 303., 304., 305., 306., 307.,\n",
       "         308., 309., 310., 311., 312., 313., 314., 315., 316., 317., 318.,\n",
       "         319., 320., 321., 322., 323., 324., 325., 326., 327., 328., 329.,\n",
       "         330., 331., 332., 333., 334., 335., 336., 337., 338., 339., 340.,\n",
       "         341., 342., 343., 344., 345., 346., 347., 348., 349., 350., 351.,\n",
       "         352., 353., 354., 355., 356., 357., 358., 359., 360., 361., 362.,\n",
       "         363., 364., 365., 366., 367., 368., 369., 370., 371., 372., 373.,\n",
       "         374., 375., 376., 377., 378., 379., 380., 381., 382., 383., 384.,\n",
       "         385., 386., 387., 388., 389., 390., 391., 392., 393., 394., 395.,\n",
       "         396., 397., 398., 399., 400., 401., 402., 403., 404., 405., 406.,\n",
       "         407., 408., 409., 410., 411., 412., 413., 414., 415., 416., 417.,\n",
       "         418., 419., 420., 421., 422., 423., 424., 425., 426., 427., 428.,\n",
       "         429., 430., 431., 432., 433., 434., 435., 436., 437., 438., 439.,\n",
       "         440., 441., 442., 443., 444., 445., 446., 447., 448., 449., 450.,\n",
       "         451., 452., 453., 454., 455., 456., 457., 458., 459., 460., 461.,\n",
       "         462., 463., 464., 465., 466., 467., 468., 469., 470., 471., 472.,\n",
       "         473., 474., 475., 476., 477., 478., 479., 480., 481., 482., 483.,\n",
       "         484., 485., 486., 487., 488., 489., 490., 491., 492., 493., 494.,\n",
       "         495., 496., 497., 498., 499., 500.])),\n",
       " (<__main__.DummyArray: spectrum at 140485052451600>,\n",
       "  array([0.84741992, 0.01145621, 0.50721002, 0.27370479, 0.17688463,\n",
       "         0.50796357, 0.61061093, 0.25834809, 0.71985047, 0.56284071,\n",
       "         0.15137821, 0.12632931, 0.5881929 , 0.28537149, 0.57747773,\n",
       "         0.71119665, 0.92795127, 0.61092019, 0.69999299, 0.77780786,\n",
       "         0.31286548, 0.48494159, 0.07237138, 0.41308574, 0.28427508,\n",
       "         0.58520045, 0.21376692, 0.4861901 , 0.72999059, 0.19090309,\n",
       "         0.36093253, 0.23245139, 0.11421991, 0.85553311, 0.26321018,\n",
       "         0.42765338, 0.58800376, 0.97540392, 0.55433428, 0.82310907,\n",
       "         0.26630914, 0.04918098, 0.25720121, 0.46661538, 0.98309616,\n",
       "         0.68259273, 0.32923097, 0.60941833, 0.97650695, 0.90169519,\n",
       "         0.33945902, 0.42584992, 0.52955357, 0.25072529, 0.9561294 ,\n",
       "         0.17967136, 0.96082364, 0.06508639, 0.65378921, 0.22870677,\n",
       "         0.20045998, 0.78253214, 0.75110936, 0.61799661, 0.44979909,\n",
       "         0.90142566, 0.77138788, 0.55429119, 0.14193076, 0.27321735,\n",
       "         0.9327188 , 0.29792031, 0.67999691, 0.21840617, 0.67705736,\n",
       "         0.6092946 , 0.01687801, 0.28872547, 0.3757433 , 0.49082207,\n",
       "         0.84564781, 0.3004198 , 0.97451861, 0.84766045, 0.78212838,\n",
       "         0.5520909 , 0.47674887, 0.24311611, 0.0597191 , 0.76564571,\n",
       "         0.09572038, 0.35851326, 0.70487473, 0.17246846, 0.35773949,\n",
       "         0.27752039, 0.90554731, 0.8646621 , 0.00961485, 0.22383209,\n",
       "         0.65977822, 0.67268868, 0.73945124, 0.25873898, 0.09122271,\n",
       "         0.37176064, 0.96774161, 0.590746  , 0.46705828, 0.4137407 ,\n",
       "         0.56341393, 0.03414581, 0.98062681, 0.64982789, 0.65007194,\n",
       "         0.61202098, 0.7359939 , 0.64883523, 0.73127269, 0.48286517,\n",
       "         0.44473124, 0.35159073, 0.40820673, 0.15647932, 0.58439044,\n",
       "         0.14952711, 0.96074438, 0.07333259, 0.40782421, 0.17635513,\n",
       "         0.89505901, 0.09848122, 0.89963388, 0.77537064, 0.77997504,\n",
       "         0.07151503, 0.82750866, 0.111174  , 0.73091959, 0.78651915,\n",
       "         0.11504481, 0.78842666, 0.59867743, 0.39721486, 0.02284314,\n",
       "         0.22897243, 0.82490816, 0.30960548, 0.65068549, 0.5283591 ,\n",
       "         0.71476761, 0.50997541, 0.2483601 , 0.4498342 , 0.92890325,\n",
       "         0.24580874, 0.53120352, 0.32218703, 0.44157146, 0.50787591,\n",
       "         0.17527798, 0.43097274, 0.34526848, 0.61309485, 0.35221607,\n",
       "         0.30676638, 0.4554996 , 0.564534  , 0.45248055, 0.61234682,\n",
       "         0.03812559, 0.62655186, 0.26119297, 0.8566997 , 0.72757649,\n",
       "         0.19878961, 0.78809394, 0.768602  , 0.0793718 , 0.469159  ,\n",
       "         0.25258539, 0.40500769, 0.66019804, 0.87745944, 0.58680311,\n",
       "         0.81066593, 0.08430953, 0.45066961, 0.78336214, 0.86426604,\n",
       "         0.28955158, 0.27632234, 0.65023711, 0.0684016 , 0.33523757,\n",
       "         0.70953063, 0.78682221, 0.67171188, 0.82249111, 0.51781041,\n",
       "         0.17922452, 0.83949338, 0.70990635, 0.67389686, 0.72595909,\n",
       "         0.75756837, 0.9318854 , 0.56519814, 0.22731194, 0.53794399,\n",
       "         0.81913587, 0.72029426, 0.85206535, 0.5126029 , 0.62873702,\n",
       "         0.28016931, 0.81143624, 0.12045993, 0.24623   , 0.37560956,\n",
       "         0.74310848, 0.97095051, 0.72455751, 0.01132422, 0.45996857,\n",
       "         0.61013486, 0.35268896, 0.74562147, 0.13660689, 0.66471996,\n",
       "         0.77929388, 0.52917888, 0.74864255, 0.46527499, 0.23788196,\n",
       "         0.50898259, 0.66115113, 0.72137698, 0.73211404, 0.47346634,\n",
       "         0.91781086, 0.80138637, 0.54006505, 0.99720262, 0.63661707,\n",
       "         0.06164991, 0.62963315, 0.76895839, 0.26577969, 0.98876533,\n",
       "         0.25502342, 0.04533718, 0.70960092, 0.27864018, 0.8417013 ,\n",
       "         0.08576621, 0.12016328, 0.36650025, 0.45969509, 0.94370931,\n",
       "         0.37856493, 0.90974481, 0.10244149, 0.25768118, 0.72842212,\n",
       "         0.80540661, 0.53781477, 0.55485627, 0.7303019 , 0.34076124,\n",
       "         0.54895774, 0.34753814, 0.8941697 , 0.86469194, 0.55077975,\n",
       "         0.1078015 , 0.98237884, 0.37710477, 0.21749505, 0.59713976,\n",
       "         0.11968447, 0.99912171, 0.07199754, 0.2930817 , 0.17455666,\n",
       "         0.73256729, 0.99977655, 0.46767652, 0.38651151, 0.1830492 ,\n",
       "         0.25680385, 0.81584813, 0.6966438 , 0.36597897, 0.31818605,\n",
       "         0.14549   , 0.68315252, 0.00212271, 0.96281949, 0.06986101,\n",
       "         0.47260303, 0.5871978 , 0.48295171, 0.56065611, 0.3683852 ,\n",
       "         0.33318925, 0.63315449, 0.68824177, 0.15701888, 0.15941141,\n",
       "         0.69614168, 0.07963974, 0.73641775, 0.14977367, 0.51725501,\n",
       "         0.86417551, 0.38738177, 0.81548597, 0.58451243, 0.32603921,\n",
       "         0.87011932, 0.00551156, 0.39930623, 0.35793608, 0.24630427,\n",
       "         0.05956322, 0.90323497, 0.9488065 , 0.97498343, 0.40826789,\n",
       "         0.80708711, 0.15656541, 0.72131526, 0.24854404, 0.11171638,\n",
       "         0.09354288, 0.99416245, 0.7928906 , 0.75726611, 0.54243978,\n",
       "         0.9157931 , 0.39121944, 0.78581749, 0.93044432, 0.17251286,\n",
       "         0.13767415, 0.08246641, 0.52141114, 0.79976085, 0.59169301,\n",
       "         0.75109017, 0.86869373, 0.92027392, 0.87579815, 0.06616447,\n",
       "         0.43414739, 0.57174583, 0.57591372, 0.52460212, 0.3116178 ,\n",
       "         0.83527801, 0.71868093, 0.24979773, 0.68330764, 0.50182112,\n",
       "         0.84113945, 0.12530248, 0.93878176, 0.19431784, 0.77149025,\n",
       "         0.3315862 , 0.87704457, 0.1159672 , 0.44266128, 0.66982299,\n",
       "         0.14664427, 0.63634583, 0.84607404, 0.68450591, 0.07034728,\n",
       "         0.05151078, 0.20025315, 0.94631534, 0.81883558, 0.51995022,\n",
       "         0.26023433, 0.26635951, 0.2254967 , 0.443845  , 0.35487288,\n",
       "         0.08030661, 0.60559832, 0.00709328, 0.81093027, 0.78903353,\n",
       "         0.76201211, 0.31965087, 0.46801962, 0.1222949 , 0.62391765,\n",
       "         0.59700282, 0.89073297, 0.21092354, 0.73728406, 0.62760138,\n",
       "         0.38292425, 0.5451089 , 0.87814147, 0.65024416, 0.69502006,\n",
       "         0.7034649 , 0.64941979, 0.45150318, 0.94775817, 0.96641672,\n",
       "         0.38695148, 0.31836019, 0.56725342, 0.70615944, 0.47871664,\n",
       "         0.65846074, 0.6527755 , 0.53927196, 0.62417596, 0.50647182,\n",
       "         0.98000971, 0.5549061 , 0.62777325, 0.92295016, 0.58200308,\n",
       "         0.13303583, 0.65213516, 0.18799982, 0.43130508, 0.60079422,\n",
       "         0.99271074, 0.68325151, 0.31469045, 0.84881632, 0.47979457,\n",
       "         0.9485128 , 0.22085901, 0.85699241, 0.96773356, 0.56224388,\n",
       "         0.30626139, 0.43883512, 0.7667513 , 0.72406328, 0.73760394,\n",
       "         0.87432481, 0.13944732, 0.54496674, 0.01885623, 0.14611447,\n",
       "         0.86130107, 0.9489582 , 0.08493207, 0.66651589, 0.14387528,\n",
       "         0.57694804, 0.04605824, 0.50577529, 0.28840811, 0.28587601,\n",
       "         0.73041005, 0.55875537, 0.48580819, 0.22175102, 0.35456584,\n",
       "         0.49826475, 0.94499763, 0.38587397, 0.98102216, 0.01785651,\n",
       "         0.00448401, 0.89277587, 0.54483225, 0.83946314, 0.25983622,\n",
       "         0.87829288, 0.26427203, 0.50653804, 0.08353424, 0.53988639,\n",
       "         0.31658495, 0.53826918, 0.09437289, 0.31078999, 0.75239304,\n",
       "         0.34837395, 0.3898818 , 0.46537902, 0.92488678, 0.69017173,\n",
       "         0.06923448, 0.50943138, 0.1748951 , 0.4759322 , 0.35677253,\n",
       "         0.27004967]))]"
      ]
     },
     "execution_count": 1,
     "metadata": {},
     "output_type": "execute_result"
    }
   ],
   "source": [
    "expand_setpoints_helper(a.spectrum)"
   ]
  },
  {
   "cell_type": "code",
   "execution_count": 21,
   "metadata": {
    "execution": {
     "iopub.execute_input": "2020-09-16T13:14:25.895041Z",
     "iopub.status.busy": "2020-09-16T13:14:25.894115Z",
     "iopub.status.idle": "2020-09-16T13:14:25.909210Z",
     "shell.execute_reply": "2020-09-16T13:14:25.908716Z"
    }
   },
   "outputs": [
    {
     "name": "stdout",
     "output_type": "stream",
     "text": [
      "Starting experimental run with id: 2. \n"
     ]
    }
   ],
   "source": [
    "meas = Measurement()\n",
    "meas.register_parameter(a.spectrum)\n",
    "\n",
    "with meas.run() as datasaver:\n",
    "    datasaver.add_result(*expand_setpoints_helper(a.spectrum))\n",
    "    \n",
    "    dataid = datasaver.run_id"
   ]
  },
  {
   "cell_type": "code",
   "execution_count": 22,
   "metadata": {},
   "outputs": [],
   "source": []
  }
 ],
 "metadata": {
  "kernelspec": {
   "display_name": "Python 3",
   "language": "python",
   "name": "python3"
  },
  "language_info": {
   "codemirror_mode": {
    "name": "ipython",
    "version": 3
   },
   "file_extension": ".py",
   "mimetype": "text/x-python",
   "name": "python",
   "nbconvert_exporter": "python",
   "pygments_lexer": "ipython3",
   "version": "3.7.7"
  },
  "toc": {
   "base_numbering": 1,
   "nav_menu": {},
   "number_sections": true,
   "sideBar": true,
   "skip_h1_title": false,
   "title_cell": "Table of Contents",
   "title_sidebar": "Contents",
   "toc_cell": false,
   "toc_position": {},
   "toc_section_display": true,
   "toc_window_display": false
  },
  "varInspector": {
   "cols": {
    "lenName": 16,
    "lenType": 16,
    "lenVar": 40
   },
   "kernels_config": {
    "python": {
     "delete_cmd_postfix": "",
     "delete_cmd_prefix": "del ",
     "library": "var_list.py",
     "varRefreshCmd": "print(var_dic_list())"
    },
    "r": {
     "delete_cmd_postfix": ") ",
     "delete_cmd_prefix": "rm(",
     "library": "var_list.r",
     "varRefreshCmd": "cat(var_dic_list()) "
    }
   },
   "types_to_exclude": [
    "module",
    "function",
    "builtin_function_or_method",
    "instance",
    "_Feature"
   ],
   "window_display": false
  }
 },
 "nbformat": 4,
 "nbformat_minor": 2
}
