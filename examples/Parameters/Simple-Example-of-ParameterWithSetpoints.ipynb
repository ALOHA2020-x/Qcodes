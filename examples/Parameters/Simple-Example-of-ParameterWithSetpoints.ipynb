{
 "cells": [
  {
   "cell_type": "markdown",
   "metadata": {},
   "source": [
    "# Simple Example of ParameterWithSetpoints\n",
    "This notebook provides an example for writing a simple driver with a parameter that has setpoints. Let's name this parameter that has setpoints as \"y\". Then, the setpoints, say \"x1, x2, x3 ..\", are the parameters on which the parameter \n",
    "\"y\" depends upon. Meaning \"y\" is a function of \"x1, x2, x3 ...\" where \"x1, x2, x3 ...\" are known as the setpoints of parameter \"y\".\n",
    "\n",
    "This is most likely to be useful for instruments that return arrays of results. In this notebook, we will show an example of this."
   ]
  },
  {
   "cell_type": "code",
   "execution_count": 1,
   "metadata": {},
   "outputs": [],
   "source": [
    "import numpy as np\n",
    "import os"
   ]
  },
  {
   "cell_type": "code",
   "execution_count": 2,
   "metadata": {},
   "outputs": [
    {
     "name": "stdout",
     "output_type": "stream",
     "text": [
      "Logging hadn't been started.\n",
      "Activating auto-logging. Current session state plus future input saved.\n",
      "Filename       : /home/vsts/.qcodes/logs/command_history.log\n",
      "Mode           : append\n",
      "Output logging : True\n",
      "Raw input log  : False\n",
      "Timestamping   : True\n",
      "State          : active\n"
     ]
    },
    {
     "name": "stdout",
     "output_type": "stream",
     "text": [
      "Qcodes Logfile : /home/vsts/.qcodes/logs/200810-20408-qcodes.log\n"
     ]
    }
   ],
   "source": [
    "from qcodes.dataset.plotting import plot_dataset\n",
    "from qcodes.utils.validators import Numbers, Arrays\n",
    "from qcodes.instrument.base import Instrument\n",
    "from qcodes.dataset.measurements import Measurement"
   ]
  },
  {
   "cell_type": "code",
   "execution_count": 3,
   "metadata": {},
   "outputs": [],
   "source": [
    "from qcodes.dataset.sqlite.database import initialise_or_create_database_at\n",
    "from qcodes.dataset.experiment_container import load_or_create_experiment"
   ]
  },
  {
   "cell_type": "code",
   "execution_count": 4,
   "metadata": {},
   "outputs": [],
   "source": [
    "from qcodes.instrument.parameter import ParameterWithSetpoints, Parameter\n",
    "from qcodes.instrument.parameter import expand_setpoints_helper"
   ]
  },
  {
   "cell_type": "markdown",
   "metadata": {},
   "source": [
    "First, we define a dummy instrument that returns something like a frequency spectrum starting from a frequency given by `f_start` to a frequency given by `f_stop` in `n_points` steps. \n",
    "\n",
    "The extra functionality of the `ParameterWithSetpoints` is implemented by giving it a reference to one or more parameters that acts like its setpoints. \n",
    "\n",
    "To setup a `ParameterWithSetpoints` we have to do two things in addition to what we do for a normal parameter.\n",
    "\n",
    "* Define one or more parameter for the setpoints (one for each dimension of the array and let the `ParameterWithSetpoints` know that these are the setpoints.\n",
    "* Give both the setpoints parameter(s) and the `ParameterWithSetpoints` a `validator` of type `Arrays` with a shape. The shapes should be such that the combined shape of the setpoints matches the shape of the `ParameterWithSetpoints`. Note that if the shape changes with the setting of the instrument, it can be defined by another parameter as shown below. "
   ]
  },
  {
   "cell_type": "code",
   "execution_count": 5,
   "metadata": {},
   "outputs": [],
   "source": [
    "class GeneratedSetPoints(Parameter):\n",
    "    \"\"\"\n",
    "    A parameter that generates a setpoint array from start, stop and num points\n",
    "    parameters.\n",
    "    \"\"\"\n",
    "    def __init__(self, startparam, stopparam, numpointsparam, *args, **kwargs):\n",
    "        super().__init__(*args, **kwargs)\n",
    "        self._startparam = startparam\n",
    "        self._stopparam = stopparam\n",
    "        self._numpointsparam = numpointsparam\n",
    "\n",
    "    def get_raw(self):\n",
    "        return np.linspace(self._startparam(), self._stopparam(),\n",
    "                              self._numpointsparam())\n",
    "\n",
    "class DummyArray(ParameterWithSetpoints):\n",
    "    \n",
    "    def get_raw(self):\n",
    "        npoints = self.root_instrument.n_points.get_latest()\n",
    "        return np.random.rand(npoints)\n",
    "    \n",
    "\n",
    "class DummySpectrumAnalyzer(Instrument):\n",
    "    \n",
    "    def __init__(self, name, **kwargs):\n",
    "        \n",
    "        super().__init__(name, **kwargs)\n",
    "            \n",
    "\n",
    "        self.add_parameter('f_start',\n",
    "                           initial_value=0,\n",
    "                           unit='Hz',\n",
    "                           label='f start',\n",
    "                           vals=Numbers(0,1e3),\n",
    "                           get_cmd=None,\n",
    "                           set_cmd=None)\n",
    "\n",
    "        self.add_parameter('f_stop',\n",
    "                           unit='Hz',\n",
    "                           label='f stop',\n",
    "                           vals=Numbers(1,1e3),\n",
    "                           get_cmd=None,\n",
    "                           set_cmd=None)\n",
    "\n",
    "        self.add_parameter('n_points',\n",
    "                           unit='',\n",
    "                           initial_value=10,\n",
    "                           vals=Numbers(1,1e3),\n",
    "                           get_cmd=None,\n",
    "                           set_cmd=None)\n",
    "        \n",
    "        self.add_parameter('freq_axis',\n",
    "                           unit='Hz',\n",
    "                           label='Freq Axis',\n",
    "                           parameter_class=GeneratedSetPoints,\n",
    "                           startparam=self.f_start,\n",
    "                           stopparam=self.f_stop,\n",
    "                           numpointsparam=self.n_points,\n",
    "                           vals=Arrays(shape=(self.n_points.get_latest,)))\n",
    "                           \n",
    "        self.add_parameter('spectrum',\n",
    "                   unit='dBm',\n",
    "                   setpoints=(self.freq_axis,),\n",
    "                   label='Spectrum',\n",
    "                   parameter_class=DummyArray,\n",
    "                   vals=Arrays(shape=(self.n_points.get_latest,)))\n",
    "                "
   ]
  },
  {
   "cell_type": "markdown",
   "metadata": {},
   "source": [
    "In the above example, the shape is defined by the parameter `n_points` that defines how many samples our `DummySpectrumAnalyzer` returns.\n",
    "\n",
    "This means that the validation will call the function to get `n_points` twice for each `get` of the parameter. This may be too slow, however, if you (as the driver-writer) can guarantee that the cached value for `n_points` will never be out of sync with the value stored in the instrument, `n_points` may be replaced by it's latest known value such that the `validator` reads:\n",
    "```python\n",
    "vals=Arrays(shape=(self.n_points.get_latest))\n",
    "```\n",
    "\n",
    "This avoids any additional call to the instrument. In the same way, the arguments to the `freq_axis` parameter that defines the start, stop and number of points can be replaced by their latest value if the instrument allows it.\n",
    "\n"
   ]
  },
  {
   "cell_type": "code",
   "execution_count": 6,
   "metadata": {},
   "outputs": [
    {
     "name": "stdout",
     "output_type": "stream",
     "text": [
      "\r",
      "0it [00:00, ?it/s]"
     ]
    },
    {
     "name": "stdout",
     "output_type": "stream",
     "text": [
      "\r",
      "Upgrading database; v0 -> v1: : 0it [00:00, ?it/s]"
     ]
    },
    {
     "name": "stdout",
     "output_type": "stream",
     "text": [
      "\r",
      "Upgrading database; v0 -> v1: : 0it [00:00, ?it/s]"
     ]
    },
    {
     "name": "stdout",
     "output_type": "stream",
     "text": [
      "\n",
      "\r",
      "  0%|          | 0/1 [00:00<?, ?it/s]"
     ]
    },
    {
     "name": "stdout",
     "output_type": "stream",
     "text": [
      "\r",
      "Upgrading database; v1 -> v2:   0%|          | 0/1 [00:00<?, ?it/s]"
     ]
    },
    {
     "name": "stdout",
     "output_type": "stream",
     "text": [
      "\r",
      "Upgrading database; v1 -> v2: 100%|██████████| 1/1 [00:00<00:00, 844.09it/s]"
     ]
    },
    {
     "name": "stdout",
     "output_type": "stream",
     "text": [
      "\n",
      "\r",
      "0it [00:00, ?it/s]"
     ]
    },
    {
     "name": "stdout",
     "output_type": "stream",
     "text": [
      "\r",
      "Upgrading database; v2 -> v3: : 0it [00:00, ?it/s]"
     ]
    },
    {
     "name": "stdout",
     "output_type": "stream",
     "text": [
      "\r",
      "Upgrading database; v2 -> v3: : 0it [00:00, ?it/s]"
     ]
    },
    {
     "name": "stdout",
     "output_type": "stream",
     "text": [
      "\n",
      "\r",
      "0it [00:00, ?it/s]"
     ]
    },
    {
     "name": "stdout",
     "output_type": "stream",
     "text": [
      "\r",
      "Upgrading database; v3 -> v4: : 0it [00:00, ?it/s]"
     ]
    },
    {
     "name": "stdout",
     "output_type": "stream",
     "text": [
      "\r",
      "Upgrading database; v3 -> v4: : 0it [00:00, ?it/s]"
     ]
    },
    {
     "name": "stdout",
     "output_type": "stream",
     "text": [
      "\n",
      "\r",
      "  0%|          | 0/1 [00:00<?, ?it/s]"
     ]
    },
    {
     "name": "stdout",
     "output_type": "stream",
     "text": [
      "\r",
      "Upgrading database; v4 -> v5:   0%|          | 0/1 [00:00<?, ?it/s]"
     ]
    },
    {
     "name": "stdout",
     "output_type": "stream",
     "text": [
      "\r",
      "Upgrading database; v4 -> v5: 100%|██████████| 1/1 [00:00<00:00, 736.75it/s]"
     ]
    },
    {
     "name": "stdout",
     "output_type": "stream",
     "text": [
      "\n",
      "\r",
      "0it [00:00, ?it/s]"
     ]
    },
    {
     "name": "stdout",
     "output_type": "stream",
     "text": [
      "\r",
      "Upgrading database; v5 -> v6: : 0it [00:00, ?it/s]"
     ]
    },
    {
     "name": "stdout",
     "output_type": "stream",
     "text": [
      "\r",
      "Upgrading database; v5 -> v6: : 0it [00:00, ?it/s]"
     ]
    },
    {
     "name": "stdout",
     "output_type": "stream",
     "text": [
      "\n",
      "\r",
      "  0%|          | 0/1 [00:00<?, ?it/s]"
     ]
    },
    {
     "name": "stdout",
     "output_type": "stream",
     "text": [
      "\r",
      "Upgrading database; v6 -> v7:   0%|          | 0/1 [00:00<?, ?it/s]"
     ]
    },
    {
     "name": "stdout",
     "output_type": "stream",
     "text": [
      "\r",
      "Upgrading database; v6 -> v7: 100%|██████████| 1/1 [00:00<00:00, 383.36it/s]"
     ]
    },
    {
     "name": "stdout",
     "output_type": "stream",
     "text": [
      "\n",
      "\r",
      "  0%|          | 0/1 [00:00<?, ?it/s]"
     ]
    },
    {
     "name": "stdout",
     "output_type": "stream",
     "text": [
      "\r",
      "Upgrading database; v7 -> v8:   0%|          | 0/1 [00:00<?, ?it/s]"
     ]
    },
    {
     "name": "stdout",
     "output_type": "stream",
     "text": [
      "\r",
      "Upgrading database; v7 -> v8: 100%|██████████| 1/1 [00:00<00:00, 718.57it/s]"
     ]
    },
    {
     "name": "stdout",
     "output_type": "stream",
     "text": [
      "\n",
      "\r",
      "  0%|          | 0/1 [00:00<?, ?it/s]"
     ]
    },
    {
     "name": "stdout",
     "output_type": "stream",
     "text": [
      "\r",
      "Upgrading database; v8 -> v9:   0%|          | 0/1 [00:00<?, ?it/s]"
     ]
    },
    {
     "name": "stdout",
     "output_type": "stream",
     "text": [
      "\r",
      "Upgrading database; v8 -> v9: 100%|██████████| 1/1 [00:00<00:00, 898.72it/s]"
     ]
    },
    {
     "name": "stdout",
     "output_type": "stream",
     "text": [
      "\n"
     ]
    },
    {
     "data": {
      "text/plain": [
       "tutorial_ParameterWithSetpoints#no sample#1@/home/vsts/work/1/s/docs/examples/Parameters/tutorial_paramter_with_setpoints.db\n",
       "----------------------------------------------------------------------------------------------------------------------------"
      ]
     },
     "execution_count": 6,
     "metadata": {},
     "output_type": "execute_result"
    }
   ],
   "source": [
    "tutorial_db_path = os.path.join(os.getcwd(), 'tutorial_paramter_with_setpoints.db')\n",
    "initialise_or_create_database_at(tutorial_db_path)\n",
    "load_or_create_experiment(experiment_name='tutorial_ParameterWithSetpoints', sample_name=\"no sample\")"
   ]
  },
  {
   "cell_type": "code",
   "execution_count": 7,
   "metadata": {},
   "outputs": [],
   "source": [
    "a = DummySpectrumAnalyzer('foobar')"
   ]
  },
  {
   "cell_type": "markdown",
   "metadata": {},
   "source": [
    "First we setup the limits of the spectrum"
   ]
  },
  {
   "cell_type": "code",
   "execution_count": 8,
   "metadata": {},
   "outputs": [],
   "source": [
    "a.f_start(0)\n",
    "a.f_stop(500)\n",
    "a.n_points(501)"
   ]
  },
  {
   "cell_type": "markdown",
   "metadata": {},
   "source": [
    "And we can grab the frequency axis"
   ]
  },
  {
   "cell_type": "code",
   "execution_count": 9,
   "metadata": {},
   "outputs": [
    {
     "data": {
      "text/plain": [
       "501"
      ]
     },
     "execution_count": 9,
     "metadata": {},
     "output_type": "execute_result"
    }
   ],
   "source": [
    "a.n_points()"
   ]
  },
  {
   "cell_type": "code",
   "execution_count": 10,
   "metadata": {
    "scrolled": false
   },
   "outputs": [
    {
     "data": {
      "text/plain": [
       "501"
      ]
     },
     "execution_count": 10,
     "metadata": {},
     "output_type": "execute_result"
    }
   ],
   "source": [
    "freq_axis = a.freq_axis()\n",
    "len(freq_axis)"
   ]
  },
  {
   "cell_type": "code",
   "execution_count": 11,
   "metadata": {},
   "outputs": [
    {
     "data": {
      "text/plain": [
       "array([0., 1., 2., 3., 4., 5., 6., 7., 8., 9.])"
      ]
     },
     "execution_count": 11,
     "metadata": {},
     "output_type": "execute_result"
    }
   ],
   "source": [
    "freq_axis[:10]"
   ]
  },
  {
   "cell_type": "markdown",
   "metadata": {},
   "source": [
    "As expected we get a result wit 501 points as we asked for an axis with 501 points. "
   ]
  },
  {
   "cell_type": "markdown",
   "metadata": {},
   "source": [
    "Above we have added a validator to the `freq_axis` parameter encoding the fact that this is an Array with `n_points`. Note that we do not have to supply the number of points as an integer but can supply a function that returns the valid number of points. This would normally be a QCoDeS parameter.\n",
    "\n",
    "This will be checked if we validate the output."
   ]
  },
  {
   "cell_type": "code",
   "execution_count": 12,
   "metadata": {},
   "outputs": [],
   "source": [
    "a.freq_axis.validate(a.freq_axis.get())"
   ]
  },
  {
   "cell_type": "markdown",
   "metadata": {},
   "source": [
    "Naturally, we can also get the spectrum. Getting the spectrum will automatically perform validation both for the shape of the parameter itself and the relation to the setpoint parameter(s)"
   ]
  },
  {
   "cell_type": "code",
   "execution_count": 13,
   "metadata": {
    "scrolled": true
   },
   "outputs": [
    {
     "data": {
      "text/plain": [
       "501"
      ]
     },
     "execution_count": 13,
     "metadata": {},
     "output_type": "execute_result"
    }
   ],
   "source": [
    "spectrum = a.spectrum.get()\n",
    "len(spectrum)"
   ]
  },
  {
   "cell_type": "markdown",
   "metadata": {},
   "source": [
    "When we validate a `ParameterWithSetpoints`, we automatically validate that the shape is consistent between the parameters and its setpoints. As well as validating the shape as above."
   ]
  },
  {
   "cell_type": "code",
   "execution_count": 14,
   "metadata": {},
   "outputs": [],
   "source": [
    "a.spectrum.validate(a.spectrum.get())"
   ]
  },
  {
   "cell_type": "markdown",
   "metadata": {},
   "source": [
    "The consistent shapes can be validated explicitly."
   ]
  },
  {
   "cell_type": "code",
   "execution_count": 15,
   "metadata": {},
   "outputs": [],
   "source": [
    "a.spectrum.validate_consistent_shape()"
   ]
  },
  {
   "cell_type": "markdown",
   "metadata": {},
   "source": [
    "We can inspect the setpoints of the spectrum."
   ]
  },
  {
   "cell_type": "code",
   "execution_count": 16,
   "metadata": {},
   "outputs": [
    {
     "data": {
      "text/plain": [
       "(<__main__.GeneratedSetPoints: freq_axis at 140056384010576>,)"
      ]
     },
     "execution_count": 16,
     "metadata": {},
     "output_type": "execute_result"
    }
   ],
   "source": [
    "a.spectrum.setpoints"
   ]
  },
  {
   "cell_type": "markdown",
   "metadata": {},
   "source": [
    "Or even change them."
   ]
  },
  {
   "cell_type": "code",
   "execution_count": 17,
   "metadata": {},
   "outputs": [],
   "source": [
    "a.spectrum.setpoints = (a.freq_axis,)"
   ]
  },
  {
   "cell_type": "markdown",
   "metadata": {},
   "source": [
    "## Measurement"
   ]
  },
  {
   "cell_type": "markdown",
   "metadata": {},
   "source": [
    "We can also directly consume the parameter in a measurement without defining the setpoints of the parameter again. The setpoints are automatically obtained from the definition of the `ParameterWithSetpoint` instance. "
   ]
  },
  {
   "cell_type": "code",
   "execution_count": 18,
   "metadata": {},
   "outputs": [
    {
     "name": "stdout",
     "output_type": "stream",
     "text": [
      "Starting experimental run with id: 1. \n"
     ]
    }
   ],
   "source": [
    "meas = Measurement()\n",
    "meas.register_parameter(a.spectrum)\n",
    "\n",
    "with meas.run() as datasaver:\n",
    "    datasaver.add_result((a.freq_axis, a.freq_axis()),\n",
    "                         (a.spectrum, a.spectrum()))\n",
    "    dataset = datasaver.dataset"
   ]
  },
  {
   "cell_type": "markdown",
   "metadata": {},
   "source": [
    "And plot it"
   ]
  },
  {
   "cell_type": "code",
   "execution_count": 19,
   "metadata": {},
   "outputs": [
    {
     "data": {
      "text/plain": [
       "([<matplotlib.axes._subplots.AxesSubplot at 0x7f616b9b2c90>], [None])"
      ]
     },
     "execution_count": 19,
     "metadata": {},
     "output_type": "execute_result"
    },
    {
     "data": {
      "image/png": "[encoded data removed]",
      "text/plain": [
       "<Figure size 432x288 with 1 Axes>"
      ]
     },
     "metadata": {
      "needs_background": "light"
     },
     "output_type": "display_data"
    }
   ],
   "source": [
    "plot_dataset(dataset)"
   ]
  },
  {
   "cell_type": "markdown",
   "metadata": {},
   "source": [
    "To reduce the amount of typing a simple convenience function is provided that will take a `ParameterWithSetpoints` and get both its values and the setpoints values and return them as tuples for direct insertion into the Dataset."
   ]
  },
  {
   "cell_type": "code",
   "execution_count": 20,
   "metadata": {
    "scrolled": true
   },
   "outputs": [
    {
     "data": {
      "text/plain": [
       "[(<__main__.GeneratedSetPoints: freq_axis at 140056384010576>,\n",
       "  array([  0.,   1.,   2.,   3.,   4.,   5.,   6.,   7.,   8.,   9.,  10.,\n",
       "          11.,  12.,  13.,  14.,  15.,  16.,  17.,  18.,  19.,  20.,  21.,\n",
       "          22.,  23.,  24.,  25.,  26.,  27.,  28.,  29.,  30.,  31.,  32.,\n",
       "          33.,  34.,  35.,  36.,  37.,  38.,  39.,  40.,  41.,  42.,  43.,\n",
       "          44.,  45.,  46.,  47.,  48.,  49.,  50.,  51.,  52.,  53.,  54.,\n",
       "          55.,  56.,  57.,  58.,  59.,  60.,  61.,  62.,  63.,  64.,  65.,\n",
       "          66.,  67.,  68.,  69.,  70.,  71.,  72.,  73.,  74.,  75.,  76.,\n",
       "          77.,  78.,  79.,  80.,  81.,  82.,  83.,  84.,  85.,  86.,  87.,\n",
       "          88.,  89.,  90.,  91.,  92.,  93.,  94.,  95.,  96.,  97.,  98.,\n",
       "          99., 100., 101., 102., 103., 104., 105., 106., 107., 108., 109.,\n",
       "         110., 111., 112., 113., 114., 115., 116., 117., 118., 119., 120.,\n",
       "         121., 122., 123., 124., 125., 126., 127., 128., 129., 130., 131.,\n",
       "         132., 133., 134., 135., 136., 137., 138., 139., 140., 141., 142.,\n",
       "         143., 144., 145., 146., 147., 148., 149., 150., 151., 152., 153.,\n",
       "         154., 155., 156., 157., 158., 159., 160., 161., 162., 163., 164.,\n",
       "         165., 166., 167., 168., 169., 170., 171., 172., 173., 174., 175.,\n",
       "         176., 177., 178., 179., 180., 181., 182., 183., 184., 185., 186.,\n",
       "         187., 188., 189., 190., 191., 192., 193., 194., 195., 196., 197.,\n",
       "         198., 199., 200., 201., 202., 203., 204., 205., 206., 207., 208.,\n",
       "         209., 210., 211., 212., 213., 214., 215., 216., 217., 218., 219.,\n",
       "         220., 221., 222., 223., 224., 225., 226., 227., 228., 229., 230.,\n",
       "         231., 232., 233., 234., 235., 236., 237., 238., 239., 240., 241.,\n",
       "         242., 243., 244., 245., 246., 247., 248., 249., 250., 251., 252.,\n",
       "         253., 254., 255., 256., 257., 258., 259., 260., 261., 262., 263.,\n",
       "         264., 265., 266., 267., 268., 269., 270., 271., 272., 273., 274.,\n",
       "         275., 276., 277., 278., 279., 280., 281., 282., 283., 284., 285.,\n",
       "         286., 287., 288., 289., 290., 291., 292., 293., 294., 295., 296.,\n",
       "         297., 298., 299., 300., 301., 302., 303., 304., 305., 306., 307.,\n",
       "         308., 309., 310., 311., 312., 313., 314., 315., 316., 317., 318.,\n",
       "         319., 320., 321., 322., 323., 324., 325., 326., 327., 328., 329.,\n",
       "         330., 331., 332., 333., 334., 335., 336., 337., 338., 339., 340.,\n",
       "         341., 342., 343., 344., 345., 346., 347., 348., 349., 350., 351.,\n",
       "         352., 353., 354., 355., 356., 357., 358., 359., 360., 361., 362.,\n",
       "         363., 364., 365., 366., 367., 368., 369., 370., 371., 372., 373.,\n",
       "         374., 375., 376., 377., 378., 379., 380., 381., 382., 383., 384.,\n",
       "         385., 386., 387., 388., 389., 390., 391., 392., 393., 394., 395.,\n",
       "         396., 397., 398., 399., 400., 401., 402., 403., 404., 405., 406.,\n",
       "         407., 408., 409., 410., 411., 412., 413., 414., 415., 416., 417.,\n",
       "         418., 419., 420., 421., 422., 423., 424., 425., 426., 427., 428.,\n",
       "         429., 430., 431., 432., 433., 434., 435., 436., 437., 438., 439.,\n",
       "         440., 441., 442., 443., 444., 445., 446., 447., 448., 449., 450.,\n",
       "         451., 452., 453., 454., 455., 456., 457., 458., 459., 460., 461.,\n",
       "         462., 463., 464., 465., 466., 467., 468., 469., 470., 471., 472.,\n",
       "         473., 474., 475., 476., 477., 478., 479., 480., 481., 482., 483.,\n",
       "         484., 485., 486., 487., 488., 489., 490., 491., 492., 493., 494.,\n",
       "         495., 496., 497., 498., 499., 500.])),\n",
       " (<__main__.DummyArray: spectrum at 140056384009488>,\n",
       "  array([2.10451325e-01, 6.47481424e-01, 4.53157759e-01, 2.70064397e-01,\n",
       "         8.45476113e-02, 8.48481664e-01, 4.85075281e-01, 9.77776863e-01,\n",
       "         6.44799457e-01, 1.80102589e-01, 6.18675884e-01, 4.12969857e-01,\n",
       "         4.40128369e-02, 6.45415583e-02, 3.25689662e-04, 8.16062141e-01,\n",
       "         1.92316490e-02, 8.19408396e-01, 6.04732818e-01, 6.39476247e-01,\n",
       "         3.18529717e-01, 2.16038969e-01, 5.55291236e-01, 9.05716932e-01,\n",
       "         2.18095487e-01, 7.04256803e-01, 7.70438182e-01, 9.98682574e-01,\n",
       "         1.28629684e-01, 5.11479217e-01, 1.80037221e-01, 5.39641868e-01,\n",
       "         6.85797207e-01, 1.50060273e-01, 7.87703061e-01, 4.87270393e-01,\n",
       "         5.21671944e-01, 6.95709181e-01, 2.50441244e-01, 5.99242242e-01,\n",
       "         5.36279061e-02, 1.42284135e-01, 9.53052750e-01, 4.05384993e-01,\n",
       "         8.62134420e-01, 1.37172823e-01, 4.51627524e-01, 3.18079716e-01,\n",
       "         8.15800032e-01, 1.29330162e-02, 2.65566695e-01, 4.32435087e-01,\n",
       "         4.34777276e-01, 1.63218318e-01, 5.34197281e-01, 2.73156917e-01,\n",
       "         2.52947216e-01, 9.88129060e-01, 7.41622094e-01, 7.51209057e-02,\n",
       "         3.69378839e-01, 1.84562015e-01, 6.96445391e-01, 6.55424041e-01,\n",
       "         7.29614636e-01, 7.27349696e-01, 3.56957155e-01, 2.40751883e-01,\n",
       "         3.85404320e-01, 9.79946030e-01, 7.19283593e-01, 7.20737910e-03,\n",
       "         4.15911943e-01, 1.72832607e-01, 6.73956863e-01, 9.90719675e-01,\n",
       "         4.03280826e-01, 8.33471510e-01, 9.94581782e-01, 7.51584348e-01,\n",
       "         1.13894971e-01, 1.14669676e-02, 8.11482601e-01, 1.97946724e-01,\n",
       "         3.12949626e-01, 7.87081099e-01, 4.95299060e-02, 7.11990641e-01,\n",
       "         5.11551812e-01, 3.70669305e-01, 8.80130482e-01, 2.00281493e-01,\n",
       "         4.58233947e-02, 3.81108702e-01, 2.27156478e-01, 6.58650961e-01,\n",
       "         9.53915834e-01, 9.21476837e-01, 3.59162249e-01, 8.00886720e-01,\n",
       "         7.29444552e-01, 7.58689130e-01, 5.12646717e-02, 8.13017058e-01,\n",
       "         6.70358554e-01, 7.66926867e-01, 2.48172297e-01, 2.85154577e-01,\n",
       "         7.27420186e-02, 8.91500017e-01, 4.65834776e-02, 1.89513121e-01,\n",
       "         6.73797665e-01, 5.90999182e-01, 6.90324351e-03, 7.41408862e-02,\n",
       "         2.34577655e-01, 4.58431025e-01, 9.47768655e-01, 9.78753075e-01,\n",
       "         6.11346273e-01, 4.27570901e-01, 2.75607193e-01, 9.43780380e-02,\n",
       "         6.10578415e-01, 8.89880942e-01, 6.81868450e-02, 3.95037468e-01,\n",
       "         8.74610812e-01, 9.72337280e-01, 4.63907858e-01, 1.50441566e-01,\n",
       "         1.17389313e-01, 4.00449353e-01, 9.59815407e-02, 7.53318864e-01,\n",
       "         3.22599924e-01, 1.65061872e-01, 4.19224745e-01, 5.25391764e-01,\n",
       "         6.34082463e-01, 1.02201097e-01, 1.64073117e-02, 5.46456619e-01,\n",
       "         4.28607961e-01, 3.48516314e-01, 4.13341539e-01, 2.55357755e-01,\n",
       "         1.73990937e-01, 7.65412328e-01, 3.26329960e-01, 1.35487386e-01,\n",
       "         1.15506840e-01, 4.55452009e-01, 3.04774888e-01, 2.30682166e-01,\n",
       "         9.98907952e-01, 5.97848634e-01, 2.92371289e-02, 7.59202192e-01,\n",
       "         7.43756142e-01, 4.36837042e-02, 8.52056982e-01, 4.07791992e-01,\n",
       "         1.67379864e-01, 1.80081359e-01, 6.32741373e-02, 9.41554492e-01,\n",
       "         5.13626466e-01, 4.23283981e-01, 3.89957511e-01, 1.68231215e-02,\n",
       "         8.51887865e-01, 7.24784503e-01, 3.93678854e-01, 9.84716447e-01,\n",
       "         5.07916079e-01, 5.12155658e-01, 7.74301457e-01, 3.61246421e-01,\n",
       "         7.07422369e-01, 1.73909838e-01, 8.20330346e-01, 7.21165382e-01,\n",
       "         7.20980000e-01, 9.31760815e-01, 6.62220730e-01, 8.82938894e-01,\n",
       "         3.98890912e-02, 1.20873601e-01, 8.24818075e-02, 2.90377497e-01,\n",
       "         8.74477401e-01, 5.33745498e-02, 1.29735294e-01, 9.36929045e-01,\n",
       "         1.22823836e-01, 7.87948311e-01, 5.70923098e-01, 2.44198639e-03,\n",
       "         4.60592019e-01, 8.18927574e-01, 2.28314759e-01, 7.12934120e-01,\n",
       "         4.81366285e-02, 5.59166321e-01, 1.14178549e-01, 4.27539480e-01,\n",
       "         3.36571513e-01, 1.77483610e-01, 1.55204536e-01, 6.57054622e-01,\n",
       "         7.61458696e-02, 2.81320309e-01, 7.39934502e-01, 1.98268864e-01,\n",
       "         1.75504045e-01, 3.45452324e-01, 1.94682013e-02, 5.04590435e-01,\n",
       "         4.70324446e-01, 4.45689026e-01, 6.01126306e-02, 1.94264941e-01,\n",
       "         7.00192813e-01, 5.72105917e-01, 6.90412347e-01, 4.03062476e-01,\n",
       "         6.20263409e-01, 8.86498988e-01, 9.92318851e-01, 4.59130811e-01,\n",
       "         8.23305914e-01, 1.20284868e-01, 6.70426847e-02, 6.82286165e-01,\n",
       "         5.37699980e-01, 2.80252092e-01, 6.53105318e-01, 1.09503722e-01,\n",
       "         6.80329863e-01, 4.05590264e-01, 8.54966826e-01, 4.59074169e-01,\n",
       "         7.39391433e-01, 3.66895019e-01, 8.54699677e-01, 6.41623940e-01,\n",
       "         6.31779432e-02, 7.67370735e-01, 5.27927645e-01, 3.58733572e-01,\n",
       "         3.55153357e-01, 5.79731599e-01, 7.13701508e-02, 7.56505285e-01,\n",
       "         6.20647623e-01, 9.11185582e-01, 6.05617043e-02, 3.36189626e-01,\n",
       "         6.68924105e-02, 1.50896396e-01, 8.39376280e-02, 4.07024894e-01,\n",
       "         6.26255164e-01, 9.46161682e-01, 6.36667573e-01, 7.36227973e-01,\n",
       "         2.29263980e-01, 5.39651604e-01, 3.56241549e-02, 3.89534474e-02,\n",
       "         9.80039021e-01, 4.81885084e-01, 8.35585549e-01, 9.41825460e-01,\n",
       "         5.96036200e-01, 4.40749828e-01, 5.46817982e-01, 5.93851671e-01,\n",
       "         7.47544204e-02, 5.06020313e-01, 9.91968848e-01, 2.03738131e-01,\n",
       "         1.23516774e-01, 2.76479049e-02, 4.07781949e-01, 9.95242768e-01,\n",
       "         3.68249505e-01, 4.35007666e-01, 6.31991605e-02, 5.52322184e-01,\n",
       "         6.75684015e-01, 5.49906326e-01, 1.58728989e-01, 7.64747929e-02,\n",
       "         4.55657471e-01, 1.66071914e-02, 7.21798661e-01, 2.70008512e-01,\n",
       "         3.78384712e-01, 3.88515931e-01, 6.09449486e-01, 5.00086957e-01,\n",
       "         1.89597516e-01, 4.48496835e-01, 3.36358309e-01, 4.30781096e-01,\n",
       "         8.70822058e-01, 7.73371125e-01, 5.19761285e-01, 7.21790093e-01,\n",
       "         1.32352456e-01, 8.85377006e-01, 8.83657269e-01, 1.42809093e-02,\n",
       "         2.87992536e-01, 4.44736894e-04, 6.15609200e-01, 5.34656377e-01,\n",
       "         5.46542506e-01, 7.02907886e-01, 7.87606953e-01, 6.82892194e-01,\n",
       "         1.82823324e-01, 5.35515089e-01, 7.87948173e-01, 5.28011418e-01,\n",
       "         1.08233872e-02, 9.90913221e-01, 5.81750553e-01, 4.70905928e-01,\n",
       "         7.81515858e-01, 7.37834004e-01, 5.84151534e-01, 2.09381207e-01,\n",
       "         9.71265146e-01, 8.54941581e-01, 7.76025595e-01, 4.07977338e-01,\n",
       "         7.15354750e-02, 2.84580834e-01, 4.44917400e-01, 6.24141649e-01,\n",
       "         4.60869050e-01, 7.98425139e-01, 1.01989995e-01, 7.28437265e-01,\n",
       "         2.31125740e-01, 7.81647229e-01, 8.58588478e-01, 9.26518394e-01,\n",
       "         9.91343586e-01, 7.27010201e-02, 8.40155729e-01, 4.89144824e-01,\n",
       "         8.38060918e-01, 4.50897177e-01, 1.30623567e-01, 3.42185029e-01,\n",
       "         2.36796752e-01, 6.97412308e-01, 9.44963354e-01, 8.43963079e-01,\n",
       "         5.61999176e-01, 7.56510535e-01, 9.93599582e-01, 2.18149882e-01,\n",
       "         7.63703236e-01, 7.10730993e-01, 8.60937984e-01, 7.40909450e-01,\n",
       "         8.34649261e-01, 7.77605751e-01, 5.08812722e-01, 4.58905602e-01,\n",
       "         5.89205978e-01, 6.14397418e-01, 6.28177092e-01, 8.16527317e-01,\n",
       "         8.60433840e-02, 9.99151824e-01, 8.90418319e-01, 9.20019911e-01,\n",
       "         7.42577853e-01, 2.23687980e-01, 5.39515240e-01, 9.14526460e-01,\n",
       "         7.09495192e-01, 6.64777334e-01, 8.44242673e-01, 4.37063050e-01,\n",
       "         2.61351409e-01, 6.59460133e-01, 5.85124894e-01, 4.59208104e-01,\n",
       "         3.67255323e-01, 3.77145638e-01, 2.25981063e-01, 4.38787767e-01,\n",
       "         5.46734729e-01, 8.72536224e-01, 1.35519298e-01, 5.24433577e-01,\n",
       "         4.85815363e-01, 5.72418297e-01, 7.50595544e-01, 8.29545721e-01,\n",
       "         2.77363909e-01, 6.90438282e-01, 9.28529863e-01, 6.22593490e-01,\n",
       "         4.86262455e-01, 9.36437564e-01, 5.89346411e-01, 1.16305636e-01,\n",
       "         2.76840005e-01, 5.14944579e-01, 9.73232712e-02, 5.79828018e-01,\n",
       "         2.18641300e-01, 3.83613619e-01, 6.50243317e-01, 4.31245472e-01,\n",
       "         8.09118798e-01, 5.76824544e-01, 9.93870325e-01, 6.31768673e-01,\n",
       "         3.24405004e-03, 2.32922324e-01, 4.75520194e-01, 9.87871511e-01,\n",
       "         3.86840984e-01, 2.34804843e-01, 2.67521360e-01, 6.35604640e-01,\n",
       "         6.57040802e-01, 9.75563991e-01, 8.65997270e-01, 8.81717291e-01,\n",
       "         7.61500211e-01, 4.45840689e-01, 7.13038701e-01, 1.73543247e-01,\n",
       "         7.78254391e-01, 4.56230827e-01, 8.14325812e-01, 9.55363356e-01,\n",
       "         1.53054995e-01, 3.33681491e-01, 3.30290314e-01, 3.57638267e-01,\n",
       "         6.72807850e-02, 3.80964734e-01, 2.03555169e-01, 7.61213019e-01,\n",
       "         4.90437338e-01, 2.57103955e-01, 6.59219157e-01, 1.70831244e-04,\n",
       "         5.30542896e-01, 8.40237775e-01, 2.85450863e-01, 2.59427173e-01,\n",
       "         8.66116903e-01, 7.39666231e-02, 1.31054280e-01, 9.46522299e-01,\n",
       "         1.16511389e-01, 6.89764624e-01, 1.22808462e-01, 2.68307855e-02,\n",
       "         3.02495917e-01, 6.15179014e-01, 6.68892595e-01, 5.32750688e-01,\n",
       "         3.22361919e-01, 6.45705707e-01, 5.55415250e-01, 7.49971291e-01,\n",
       "         9.42702020e-01, 4.35896482e-01, 2.63642308e-01, 9.57883665e-01,\n",
       "         4.97708825e-02, 5.63425994e-01, 6.14292219e-02, 7.94391654e-01,\n",
       "         2.79594209e-01, 4.18864926e-01, 6.64183966e-01, 3.55383770e-01,\n",
       "         8.14963444e-01, 3.73953529e-01, 1.86099845e-01, 7.04498564e-01,\n",
       "         4.59675634e-03, 5.87797697e-01, 7.11843879e-02, 5.73218292e-02,\n",
       "         3.38911664e-01]))]"
      ]
     },
     "execution_count": 20,
     "metadata": {},
     "output_type": "execute_result"
    }
   ],
   "source": [
    "expand_setpoints_helper(a.spectrum)"
   ]
  },
  {
   "cell_type": "code",
   "execution_count": 21,
   "metadata": {},
   "outputs": [
    {
     "name": "stdout",
     "output_type": "stream",
     "text": [
      "Starting experimental run with id: 2. \n"
     ]
    }
   ],
   "source": [
    "meas = Measurement()\n",
    "meas.register_parameter(a.spectrum)\n",
    "\n",
    "with meas.run() as datasaver:\n",
    "    datasaver.add_result(*expand_setpoints_helper(a.spectrum))\n",
    "    \n",
    "    dataid = datasaver.run_id"
   ]
  },
  {
   "cell_type": "code",
   "execution_count": null,
   "metadata": {},
   "outputs": [],
   "source": []
  }
 ],
 "metadata": {
  "kernelspec": {
   "display_name": "Python 3",
   "language": "python",
   "name": "python3"
  },
  "language_info": {
   "codemirror_mode": {
    "name": "ipython",
    "version": 3
   },
   "file_extension": ".py",
   "mimetype": "text/x-python",
   "name": "python",
   "nbconvert_exporter": "python",
   "pygments_lexer": "ipython3",
   "version": "3.7.7"
  },
  "toc": {
   "base_numbering": 1,
   "nav_menu": {},
   "number_sections": true,
   "sideBar": true,
   "skip_h1_title": false,
   "title_cell": "Table of Contents",
   "title_sidebar": "Contents",
   "toc_cell": false,
   "toc_position": {},
   "toc_section_display": true,
   "toc_window_display": false
  },
  "varInspector": {
   "cols": {
    "lenName": 16,
    "lenType": 16,
    "lenVar": 40
   },
   "kernels_config": {
    "python": {
     "delete_cmd_postfix": "",
     "delete_cmd_prefix": "del ",
     "library": "var_list.py",
     "varRefreshCmd": "print(var_dic_list())"
    },
    "r": {
     "delete_cmd_postfix": ") ",
     "delete_cmd_prefix": "rm(",
     "library": "var_list.r",
     "varRefreshCmd": "cat(var_dic_list()) "
    }
   },
   "types_to_exclude": [
    "module",
    "function",
    "builtin_function_or_method",
    "instance",
    "_Feature"
   ],
   "window_display": false
  }
 },
 "nbformat": 4,
 "nbformat_minor": 2
}
