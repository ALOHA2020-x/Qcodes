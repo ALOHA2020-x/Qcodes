{
 "cells": [
  {
   "cell_type": "markdown",
   "metadata": {},
   "source": [
    "# Simple Example of ParameterWithSetpoints\n",
    "This notebook provides an example for writing a simple driver with a parameter that has setpoints. Let's name this parameter that has setpoints as \"y\". Then, the setpoints, say \"x1, x2, x3 ..\", are the parameters on which the parameter \n",
    "\"y\" depends upon. Meaning \"y\" is a function of \"x1, x2, x3 ...\" where \"x1, x2, x3 ...\" are known as the setpoints of parameter \"y\".\n",
    "\n",
    "This is most likely to be useful for instruments that return arrays of results. In this notebook, we will show an example of this."
   ]
  },
  {
   "cell_type": "code",
   "execution_count": 1,
   "metadata": {
    "execution": {
     "iopub.execute_input": "2020-09-25T12:46:56.660523Z",
     "iopub.status.busy": "2020-09-25T12:46:56.659986Z",
     "iopub.status.idle": "2020-09-25T12:46:56.761184Z",
     "shell.execute_reply": "2020-09-25T12:46:56.760559Z"
    }
   },
   "outputs": [],
   "source": [
    "import numpy as np\n",
    "import os"
   ]
  },
  {
   "cell_type": "code",
   "execution_count": 2,
   "metadata": {
    "execution": {
     "iopub.execute_input": "2020-09-25T12:46:56.765583Z",
     "iopub.status.busy": "2020-09-25T12:46:56.765044Z",
     "iopub.status.idle": "2020-09-25T12:46:57.882958Z",
     "shell.execute_reply": "2020-09-25T12:46:57.882257Z"
    }
   },
   "outputs": [
    {
     "name": "stdout",
     "output_type": "stream",
     "text": [
      "Logging hadn't been started.\n",
      "Activating auto-logging. Current session state plus future input saved.\n",
      "Filename       : /home/vsts/.qcodes/logs/command_history.log\n",
      "Mode           : append\n",
      "Output logging : True\n",
      "Raw input log  : False\n",
      "Timestamping   : True\n",
      "State          : active\n"
     ]
    },
    {
     "name": "stdout",
     "output_type": "stream",
     "text": [
      "Qcodes Logfile : /home/vsts/.qcodes/logs/200925-22404-qcodes.log\n"
     ]
    }
   ],
   "source": [
    "from qcodes.dataset.plotting import plot_dataset\n",
    "from qcodes.utils.validators import Numbers, Arrays\n",
    "from qcodes.instrument.base import Instrument\n",
    "from qcodes.dataset.measurements import Measurement"
   ]
  },
  {
   "cell_type": "code",
   "execution_count": 3,
   "metadata": {
    "execution": {
     "iopub.execute_input": "2020-09-25T12:46:57.886886Z",
     "iopub.status.busy": "2020-09-25T12:46:57.886371Z",
     "iopub.status.idle": "2020-09-25T12:46:57.889782Z",
     "shell.execute_reply": "2020-09-25T12:46:57.889308Z"
    }
   },
   "outputs": [],
   "source": [
    "from qcodes.dataset.sqlite.database import initialise_or_create_database_at\n",
    "from qcodes.dataset.experiment_container import load_or_create_experiment"
   ]
  },
  {
   "cell_type": "code",
   "execution_count": 4,
   "metadata": {
    "execution": {
     "iopub.execute_input": "2020-09-25T12:46:57.894643Z",
     "iopub.status.busy": "2020-09-25T12:46:57.893199Z",
     "iopub.status.idle": "2020-09-25T12:46:57.895197Z",
     "shell.execute_reply": "2020-09-25T12:46:57.895741Z"
    }
   },
   "outputs": [],
   "source": [
    "from qcodes.instrument.parameter import ParameterWithSetpoints, Parameter"
   ]
  },
  {
   "cell_type": "markdown",
   "metadata": {},
   "source": [
    "First, we define a dummy instrument that returns something like a frequency spectrum starting from a frequency given by `f_start` to a frequency given by `f_stop` in `n_points` steps. \n",
    "\n",
    "The extra functionality of the `ParameterWithSetpoints` is implemented by giving it a reference to one or more parameters that acts like its setpoints. \n",
    "\n",
    "To setup a `ParameterWithSetpoints` we have to do two things in addition to what we do for a normal parameter.\n",
    "\n",
    "* Define one or more parameter for the setpoints (one for each dimension of the array and let the `ParameterWithSetpoints` know that these are the setpoints.\n",
    "* Give both the setpoints parameter(s) and the `ParameterWithSetpoints` a `validator` of type `Arrays` with a shape. The shapes should be such that the combined shape of the setpoints matches the shape of the `ParameterWithSetpoints`. Note that if the shape changes with the setting of the instrument, it can be defined by another parameter as shown below. "
   ]
  },
  {
   "cell_type": "code",
   "execution_count": 5,
   "metadata": {
    "execution": {
     "iopub.execute_input": "2020-09-25T12:46:57.904289Z",
     "iopub.status.busy": "2020-09-25T12:46:57.903163Z",
     "iopub.status.idle": "2020-09-25T12:46:57.908468Z",
     "shell.execute_reply": "2020-09-25T12:46:57.908032Z"
    }
   },
   "outputs": [],
   "source": [
    "class GeneratedSetPoints(Parameter):\n",
    "    \"\"\"\n",
    "    A parameter that generates a setpoint array from start, stop and num points\n",
    "    parameters.\n",
    "    \"\"\"\n",
    "    def __init__(self, startparam, stopparam, numpointsparam, *args, **kwargs):\n",
    "        super().__init__(*args, **kwargs)\n",
    "        self._startparam = startparam\n",
    "        self._stopparam = stopparam\n",
    "        self._numpointsparam = numpointsparam\n",
    "\n",
    "    def get_raw(self):\n",
    "        return np.linspace(self._startparam(), self._stopparam(),\n",
    "                              self._numpointsparam())\n",
    "\n",
    "class DummyArray(ParameterWithSetpoints):\n",
    "    \n",
    "    def get_raw(self):\n",
    "        npoints = self.root_instrument.n_points.get_latest()\n",
    "        return np.random.rand(npoints)\n",
    "    \n",
    "\n",
    "class DummySpectrumAnalyzer(Instrument):\n",
    "    \n",
    "    def __init__(self, name, **kwargs):\n",
    "        \n",
    "        super().__init__(name, **kwargs)\n",
    "            \n",
    "\n",
    "        self.add_parameter('f_start',\n",
    "                           initial_value=0,\n",
    "                           unit='Hz',\n",
    "                           label='f start',\n",
    "                           vals=Numbers(0,1e3),\n",
    "                           get_cmd=None,\n",
    "                           set_cmd=None)\n",
    "\n",
    "        self.add_parameter('f_stop',\n",
    "                           unit='Hz',\n",
    "                           label='f stop',\n",
    "                           vals=Numbers(1,1e3),\n",
    "                           get_cmd=None,\n",
    "                           set_cmd=None)\n",
    "\n",
    "        self.add_parameter('n_points',\n",
    "                           unit='',\n",
    "                           initial_value=10,\n",
    "                           vals=Numbers(1,1e3),\n",
    "                           get_cmd=None,\n",
    "                           set_cmd=None)\n",
    "        \n",
    "        self.add_parameter('freq_axis',\n",
    "                           unit='Hz',\n",
    "                           label='Freq Axis',\n",
    "                           parameter_class=GeneratedSetPoints,\n",
    "                           startparam=self.f_start,\n",
    "                           stopparam=self.f_stop,\n",
    "                           numpointsparam=self.n_points,\n",
    "                           vals=Arrays(shape=(self.n_points.get_latest,)))\n",
    "                           \n",
    "        self.add_parameter('spectrum',\n",
    "                   unit='dBm',\n",
    "                   setpoints=(self.freq_axis,),\n",
    "                   label='Spectrum',\n",
    "                   parameter_class=DummyArray,\n",
    "                   vals=Arrays(shape=(self.n_points.get_latest,)))\n",
    "                "
   ]
  },
  {
   "cell_type": "markdown",
   "metadata": {},
   "source": [
    "In the above example, the shape is defined by the parameter `n_points` that defines how many samples our `DummySpectrumAnalyzer` returns.\n",
    "\n",
    "This means that the validation will call the function to get `n_points` twice for each `get` of the parameter. This may be too slow, however, if you (as the driver-writer) can guarantee that the cached value for `n_points` will never be out of sync with the value stored in the instrument, `n_points` may be replaced by it's latest known value such that the `validator` reads:\n",
    "```python\n",
    "vals=Arrays(shape=(self.n_points.get_latest))\n",
    "```\n",
    "\n",
    "This avoids any additional call to the instrument. In the same way, the arguments to the `freq_axis` parameter that defines the start, stop and number of points can be replaced by their latest value if the instrument allows it.\n",
    "\n"
   ]
  },
  {
   "cell_type": "code",
   "execution_count": 6,
   "metadata": {
    "execution": {
     "iopub.execute_input": "2020-09-25T12:46:57.912108Z",
     "iopub.status.busy": "2020-09-25T12:46:57.911534Z",
     "iopub.status.idle": "2020-09-25T12:46:58.007001Z",
     "shell.execute_reply": "2020-09-25T12:46:58.007644Z"
    }
   },
   "outputs": [
    {
     "name": "stdout",
     "output_type": "stream",
     "text": [
      "\r",
      "0it [00:00, ?it/s]"
     ]
    },
    {
     "name": "stdout",
     "output_type": "stream",
     "text": [
      "\r",
      "Upgrading database; v0 -> v1: : 0it [00:00, ?it/s]"
     ]
    },
    {
     "name": "stdout",
     "output_type": "stream",
     "text": [
      "\r",
      "Upgrading database; v0 -> v1: : 0it [00:00, ?it/s]"
     ]
    },
    {
     "name": "stdout",
     "output_type": "stream",
     "text": [
      "\n",
      "\r",
      "  0%|          | 0/1 [00:00<?, ?it/s]"
     ]
    },
    {
     "name": "stdout",
     "output_type": "stream",
     "text": [
      "\r",
      "Upgrading database; v1 -> v2:   0%|          | 0/1 [00:00<?, ?it/s]"
     ]
    },
    {
     "name": "stdout",
     "output_type": "stream",
     "text": [
      "\r",
      "Upgrading database; v1 -> v2: 100%|██████████| 1/1 [00:00<00:00, 597.91it/s]"
     ]
    },
    {
     "name": "stdout",
     "output_type": "stream",
     "text": [
      "\n",
      "\r",
      "0it [00:00, ?it/s]"
     ]
    },
    {
     "name": "stdout",
     "output_type": "stream",
     "text": [
      "\r",
      "Upgrading database; v2 -> v3: : 0it [00:00, ?it/s]"
     ]
    },
    {
     "name": "stdout",
     "output_type": "stream",
     "text": [
      "\r",
      "Upgrading database; v2 -> v3: : 0it [00:00, ?it/s]"
     ]
    },
    {
     "name": "stdout",
     "output_type": "stream",
     "text": [
      "\n",
      "\r",
      "0it [00:00, ?it/s]"
     ]
    },
    {
     "name": "stdout",
     "output_type": "stream",
     "text": [
      "\r",
      "Upgrading database; v3 -> v4: : 0it [00:00, ?it/s]"
     ]
    },
    {
     "name": "stdout",
     "output_type": "stream",
     "text": [
      "\r",
      "Upgrading database; v3 -> v4: : 0it [00:00, ?it/s]"
     ]
    },
    {
     "name": "stdout",
     "output_type": "stream",
     "text": [
      "\n",
      "\r",
      "  0%|          | 0/1 [00:00<?, ?it/s]"
     ]
    },
    {
     "name": "stdout",
     "output_type": "stream",
     "text": [
      "\r",
      "Upgrading database; v4 -> v5:   0%|          | 0/1 [00:00<?, ?it/s]"
     ]
    },
    {
     "name": "stdout",
     "output_type": "stream",
     "text": [
      "\r",
      "Upgrading database; v4 -> v5: 100%|██████████| 1/1 [00:00<00:00, 644.48it/s]"
     ]
    },
    {
     "name": "stdout",
     "output_type": "stream",
     "text": [
      "\n",
      "\r",
      "0it [00:00, ?it/s]"
     ]
    },
    {
     "name": "stdout",
     "output_type": "stream",
     "text": [
      "\r",
      "Upgrading database; v5 -> v6: : 0it [00:00, ?it/s]"
     ]
    },
    {
     "name": "stdout",
     "output_type": "stream",
     "text": [
      "\r",
      "Upgrading database; v5 -> v6: : 0it [00:00, ?it/s]"
     ]
    },
    {
     "name": "stdout",
     "output_type": "stream",
     "text": [
      "\n",
      "\r",
      "  0%|          | 0/1 [00:00<?, ?it/s]"
     ]
    },
    {
     "name": "stdout",
     "output_type": "stream",
     "text": [
      "\r",
      "Upgrading database; v6 -> v7:   0%|          | 0/1 [00:00<?, ?it/s]"
     ]
    },
    {
     "name": "stdout",
     "output_type": "stream",
     "text": [
      "\r",
      "Upgrading database; v6 -> v7: 100%|██████████| 1/1 [00:00<00:00, 309.47it/s]"
     ]
    },
    {
     "name": "stdout",
     "output_type": "stream",
     "text": [
      "\n",
      "\r",
      "  0%|          | 0/1 [00:00<?, ?it/s]"
     ]
    },
    {
     "name": "stdout",
     "output_type": "stream",
     "text": [
      "\r",
      "Upgrading database; v7 -> v8:   0%|          | 0/1 [00:00<?, ?it/s]"
     ]
    },
    {
     "name": "stdout",
     "output_type": "stream",
     "text": [
      "\r",
      "Upgrading database; v7 -> v8: 100%|██████████| 1/1 [00:00<00:00, 344.16it/s]"
     ]
    },
    {
     "name": "stdout",
     "output_type": "stream",
     "text": [
      "\n",
      "\r",
      "  0%|          | 0/1 [00:00<?, ?it/s]"
     ]
    },
    {
     "name": "stdout",
     "output_type": "stream",
     "text": [
      "\r",
      "Upgrading database; v8 -> v9:   0%|          | 0/1 [00:00<?, ?it/s]"
     ]
    },
    {
     "name": "stdout",
     "output_type": "stream",
     "text": [
      "\r",
      "Upgrading database; v8 -> v9: 100%|██████████| 1/1 [00:00<00:00, 361.61it/s]"
     ]
    },
    {
     "name": "stdout",
     "output_type": "stream",
     "text": [
      "\n"
     ]
    },
    {
     "data": {
      "text/plain": [
       "tutorial_ParameterWithSetpoints#no sample#1@/home/vsts/work/1/s/docs/examples/Parameters/tutorial_paramter_with_setpoints.db\n",
       "----------------------------------------------------------------------------------------------------------------------------"
      ]
     },
     "execution_count": 1,
     "metadata": {},
     "output_type": "execute_result"
    }
   ],
   "source": [
    "tutorial_db_path = os.path.join(os.getcwd(), 'tutorial_paramter_with_setpoints.db')\n",
    "initialise_or_create_database_at(tutorial_db_path)\n",
    "load_or_create_experiment(experiment_name='tutorial_ParameterWithSetpoints', sample_name=\"no sample\")"
   ]
  },
  {
   "cell_type": "code",
   "execution_count": 7,
   "metadata": {
    "execution": {
     "iopub.execute_input": "2020-09-25T12:46:58.012160Z",
     "iopub.status.busy": "2020-09-25T12:46:58.011671Z",
     "iopub.status.idle": "2020-09-25T12:46:58.015440Z",
     "shell.execute_reply": "2020-09-25T12:46:58.014539Z"
    }
   },
   "outputs": [],
   "source": [
    "a = DummySpectrumAnalyzer('foobar')"
   ]
  },
  {
   "cell_type": "markdown",
   "metadata": {},
   "source": [
    "First we setup the limits of the spectrum"
   ]
  },
  {
   "cell_type": "code",
   "execution_count": 8,
   "metadata": {
    "execution": {
     "iopub.execute_input": "2020-09-25T12:46:58.019409Z",
     "iopub.status.busy": "2020-09-25T12:46:58.018954Z",
     "iopub.status.idle": "2020-09-25T12:46:58.022434Z",
     "shell.execute_reply": "2020-09-25T12:46:58.021920Z"
    }
   },
   "outputs": [],
   "source": [
    "a.f_start(0)\n",
    "a.f_stop(500)\n",
    "a.n_points(501)"
   ]
  },
  {
   "cell_type": "markdown",
   "metadata": {},
   "source": [
    "And we can grab the frequency axis"
   ]
  },
  {
   "cell_type": "code",
   "execution_count": 9,
   "metadata": {
    "execution": {
     "iopub.execute_input": "2020-09-25T12:46:58.027579Z",
     "iopub.status.busy": "2020-09-25T12:46:58.027007Z",
     "iopub.status.idle": "2020-09-25T12:46:58.029391Z",
     "shell.execute_reply": "2020-09-25T12:46:58.029844Z"
    }
   },
   "outputs": [
    {
     "data": {
      "text/plain": [
       "501"
      ]
     },
     "execution_count": 1,
     "metadata": {},
     "output_type": "execute_result"
    }
   ],
   "source": [
    "a.n_points()"
   ]
  },
  {
   "cell_type": "code",
   "execution_count": 10,
   "metadata": {
    "execution": {
     "iopub.execute_input": "2020-09-25T12:46:58.035279Z",
     "iopub.status.busy": "2020-09-25T12:46:58.034676Z",
     "iopub.status.idle": "2020-09-25T12:46:58.037340Z",
     "shell.execute_reply": "2020-09-25T12:46:58.037926Z"
    },
    "scrolled": false
   },
   "outputs": [
    {
     "data": {
      "text/plain": [
       "501"
      ]
     },
     "execution_count": 1,
     "metadata": {},
     "output_type": "execute_result"
    }
   ],
   "source": [
    "freq_axis = a.freq_axis()\n",
    "len(freq_axis)"
   ]
  },
  {
   "cell_type": "code",
   "execution_count": 11,
   "metadata": {
    "execution": {
     "iopub.execute_input": "2020-09-25T12:46:58.042896Z",
     "iopub.status.busy": "2020-09-25T12:46:58.040882Z",
     "iopub.status.idle": "2020-09-25T12:46:58.045031Z",
     "shell.execute_reply": "2020-09-25T12:46:58.045420Z"
    }
   },
   "outputs": [
    {
     "data": {
      "text/plain": [
       "array([0., 1., 2., 3., 4., 5., 6., 7., 8., 9.])"
      ]
     },
     "execution_count": 1,
     "metadata": {},
     "output_type": "execute_result"
    }
   ],
   "source": [
    "freq_axis[:10]"
   ]
  },
  {
   "cell_type": "markdown",
   "metadata": {},
   "source": [
    "As expected we get a result wit 501 points as we asked for an axis with 501 points. "
   ]
  },
  {
   "cell_type": "markdown",
   "metadata": {},
   "source": [
    "Above we have added a validator to the `freq_axis` parameter encoding the fact that this is an Array with `n_points`. Note that we do not have to supply the number of points as an integer but can supply a function that returns the valid number of points. This would normally be a QCoDeS parameter.\n",
    "\n",
    "This will be checked if we validate the output."
   ]
  },
  {
   "cell_type": "code",
   "execution_count": 12,
   "metadata": {
    "execution": {
     "iopub.execute_input": "2020-09-25T12:46:58.049777Z",
     "iopub.status.busy": "2020-09-25T12:46:58.049207Z",
     "iopub.status.idle": "2020-09-25T12:46:58.051677Z",
     "shell.execute_reply": "2020-09-25T12:46:58.051151Z"
    }
   },
   "outputs": [],
   "source": [
    "a.freq_axis.validate(a.freq_axis.get())"
   ]
  },
  {
   "cell_type": "markdown",
   "metadata": {},
   "source": [
    "Naturally, we can also get the spectrum. Getting the spectrum will automatically perform validation both for the shape of the parameter itself and the relation to the setpoint parameter(s)"
   ]
  },
  {
   "cell_type": "code",
   "execution_count": 13,
   "metadata": {
    "execution": {
     "iopub.execute_input": "2020-09-25T12:46:58.056493Z",
     "iopub.status.busy": "2020-09-25T12:46:58.054709Z",
     "iopub.status.idle": "2020-09-25T12:46:58.058740Z",
     "shell.execute_reply": "2020-09-25T12:46:58.059215Z"
    },
    "scrolled": true
   },
   "outputs": [
    {
     "data": {
      "text/plain": [
       "501"
      ]
     },
     "execution_count": 1,
     "metadata": {},
     "output_type": "execute_result"
    }
   ],
   "source": [
    "spectrum = a.spectrum.get()\n",
    "len(spectrum)"
   ]
  },
  {
   "cell_type": "markdown",
   "metadata": {},
   "source": [
    "When we validate a `ParameterWithSetpoints`, we automatically validate that the shape is consistent between the parameters and its setpoints. As well as validating the shape as above."
   ]
  },
  {
   "cell_type": "code",
   "execution_count": 14,
   "metadata": {
    "execution": {
     "iopub.execute_input": "2020-09-25T12:46:58.063850Z",
     "iopub.status.busy": "2020-09-25T12:46:58.062826Z",
     "iopub.status.idle": "2020-09-25T12:46:58.065337Z",
     "shell.execute_reply": "2020-09-25T12:46:58.064704Z"
    }
   },
   "outputs": [],
   "source": [
    "a.spectrum.validate(a.spectrum.get())"
   ]
  },
  {
   "cell_type": "markdown",
   "metadata": {},
   "source": [
    "The consistent shapes can be validated explicitly."
   ]
  },
  {
   "cell_type": "code",
   "execution_count": 15,
   "metadata": {
    "execution": {
     "iopub.execute_input": "2020-09-25T12:46:58.069552Z",
     "iopub.status.busy": "2020-09-25T12:46:58.068574Z",
     "iopub.status.idle": "2020-09-25T12:46:58.070775Z",
     "shell.execute_reply": "2020-09-25T12:46:58.071289Z"
    }
   },
   "outputs": [],
   "source": [
    "a.spectrum.validate_consistent_shape()"
   ]
  },
  {
   "cell_type": "markdown",
   "metadata": {},
   "source": [
    "We can inspect the setpoints of the spectrum."
   ]
  },
  {
   "cell_type": "code",
   "execution_count": 16,
   "metadata": {
    "execution": {
     "iopub.execute_input": "2020-09-25T12:46:58.076728Z",
     "iopub.status.busy": "2020-09-25T12:46:58.075666Z",
     "iopub.status.idle": "2020-09-25T12:46:58.078341Z",
     "shell.execute_reply": "2020-09-25T12:46:58.078927Z"
    }
   },
   "outputs": [
    {
     "data": {
      "text/plain": [
       "(<__main__.GeneratedSetPoints: freq_axis at 140033915616528>,)"
      ]
     },
     "execution_count": 1,
     "metadata": {},
     "output_type": "execute_result"
    }
   ],
   "source": [
    "a.spectrum.setpoints"
   ]
  },
  {
   "cell_type": "markdown",
   "metadata": {},
   "source": [
    "Or even change them."
   ]
  },
  {
   "cell_type": "code",
   "execution_count": 17,
   "metadata": {
    "execution": {
     "iopub.execute_input": "2020-09-25T12:46:58.082734Z",
     "iopub.status.busy": "2020-09-25T12:46:58.082181Z",
     "iopub.status.idle": "2020-09-25T12:46:58.084488Z",
     "shell.execute_reply": "2020-09-25T12:46:58.084023Z"
    }
   },
   "outputs": [],
   "source": [
    "a.spectrum.setpoints = (a.freq_axis,)"
   ]
  },
  {
   "cell_type": "markdown",
   "metadata": {},
   "source": [
    "## Measurement"
   ]
  },
  {
   "cell_type": "markdown",
   "metadata": {},
   "source": [
    "We can also directly consume the parameter in a measurement without defining the setpoints of the parameter again. The setpoints are automatically obtained from the definition of the `ParameterWithSetpoint` instance. "
   ]
  },
  {
   "cell_type": "code",
   "execution_count": 18,
   "metadata": {
    "execution": {
     "iopub.execute_input": "2020-09-25T12:46:58.089180Z",
     "iopub.status.busy": "2020-09-25T12:46:58.088644Z",
     "iopub.status.idle": "2020-09-25T12:46:58.103894Z",
     "shell.execute_reply": "2020-09-25T12:46:58.104358Z"
    }
   },
   "outputs": [
    {
     "name": "stdout",
     "output_type": "stream",
     "text": [
      "Starting experimental run with id: 1. \n"
     ]
    }
   ],
   "source": [
    "meas = Measurement()\n",
    "meas.register_parameter(a.spectrum)\n",
    "\n",
    "with meas.run() as datasaver:\n",
    "    datasaver.add_result((a.freq_axis, a.freq_axis()),\n",
    "                         (a.spectrum, a.spectrum()))\n",
    "    dataset = datasaver.dataset"
   ]
  },
  {
   "cell_type": "markdown",
   "metadata": {},
   "source": [
    "And plot it"
   ]
  },
  {
   "cell_type": "code",
   "execution_count": 19,
   "metadata": {
    "execution": {
     "iopub.execute_input": "2020-09-25T12:46:58.107283Z",
     "iopub.status.busy": "2020-09-25T12:46:58.106786Z",
     "iopub.status.idle": "2020-09-25T12:46:58.483016Z",
     "shell.execute_reply": "2020-09-25T12:46:58.482471Z"
    }
   },
   "outputs": [
    {
     "data": {
      "text/plain": [
       "([<AxesSubplot:title={'center':'Run #1, Experiment tutorial_ParameterWithSetpoints (no sample)'}, xlabel='Freq Axis (Hz)', ylabel='Spectrum ($10^{-3}$ dBm)'>],\n",
       " [None])"
      ]
     },
     "execution_count": 1,
     "metadata": {},
     "output_type": "execute_result"
    },
    {
     "data": {
      "image/png": "[encoded data removed]",
      "text/plain": [
       "<Figure size 432x288 with 1 Axes>"
      ]
     },
     "metadata": {
      "needs_background": "light"
     },
     "output_type": "display_data"
    }
   ],
   "source": [
    "plot_dataset(dataset)"
   ]
  },
  {
   "cell_type": "markdown",
   "metadata": {},
   "source": [
    "To reduce the amount of typing, if a `ParameterWithSetpoints` is given without its setpoints, the setpoints will be fetched automatically, ``get`` will be called on them, and the obtained data will be added to the results."
   ]
  },
  {
   "cell_type": "code",
   "execution_count": 20,
   "metadata": {
    "execution": {
     "iopub.execute_input": "2020-09-25T12:46:58.488491Z",
     "iopub.status.busy": "2020-09-25T12:46:58.487555Z",
     "iopub.status.idle": "2020-09-25T12:46:58.505012Z",
     "shell.execute_reply": "2020-09-25T12:46:58.505602Z"
    },
    "scrolled": false
   },
   "outputs": [
    {
     "name": "stdout",
     "output_type": "stream",
     "text": [
      "Starting experimental run with id: 2. \n"
     ]
    }
   ],
   "source": [
    "meas = Measurement()\n",
    "meas.register_parameter(a.spectrum)\n",
    "\n",
    "with meas.run() as datasaver:\n",
    "    datasaver.add_result((a.spectrum, a.spectrum.get()))\n",
    "    \n",
    "    dataid = datasaver.run_id"
   ]
  },
  {
   "cell_type": "markdown",
   "metadata": {},
   "source": [
    "Note that it is an error to supply values for some but not all of the setpoints."
   ]
  },
  {
   "cell_type": "code",
   "execution_count": null,
   "metadata": {},
   "outputs": [],
   "source": []
  }
 ],
 "metadata": {
  "kernelspec": {
   "display_name": "Python 3",
   "language": "python",
   "name": "python3"
  },
  "language_info": {
   "codemirror_mode": {
    "name": "ipython",
    "version": 3
   },
   "file_extension": ".py",
   "mimetype": "text/x-python",
   "name": "python",
   "nbconvert_exporter": "python",
   "pygments_lexer": "ipython3",
   "version": "3.7.7"
  },
  "toc": {
   "base_numbering": 1,
   "nav_menu": {},
   "number_sections": true,
   "sideBar": true,
   "skip_h1_title": false,
   "title_cell": "Table of Contents",
   "title_sidebar": "Contents",
   "toc_cell": false,
   "toc_position": {},
   "toc_section_display": true,
   "toc_window_display": false
  },
  "varInspector": {
   "cols": {
    "lenName": 16,
    "lenType": 16,
    "lenVar": 40
   },
   "kernels_config": {
    "python": {
     "delete_cmd_postfix": "",
     "delete_cmd_prefix": "del ",
     "library": "var_list.py",
     "varRefreshCmd": "print(var_dic_list())"
    },
    "r": {
     "delete_cmd_postfix": ") ",
     "delete_cmd_prefix": "rm(",
     "library": "var_list.r",
     "varRefreshCmd": "cat(var_dic_list()) "
    }
   },
   "types_to_exclude": [
    "module",
    "function",
    "builtin_function_or_method",
    "instance",
    "_Feature"
   ],
   "window_display": false
  }
 },
 "nbformat": 4,
 "nbformat_minor": 2
}
