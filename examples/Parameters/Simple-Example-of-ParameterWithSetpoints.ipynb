{
 "cells": [
  {
   "cell_type": "markdown",
   "metadata": {},
   "source": [
    "# Simple Example of ParameterWithSetpoints\n",
    "This notebook provides an example for writing a simple driver with a parameter that has setpoints. Let's name this parameter that has setpoints as \"y\". Then, the setpoints, say \"x1, x2, x3 ..\", are the parameters on which the parameter \n",
    "\"y\" depends upon. Meaning \"y\" is a function of \"x1, x2, x3 ...\" where \"x1, x2, x3 ...\" are known as the setpoints of parameter \"y\".\n",
    "\n",
    "This is most likely to be useful for instruments that return arrays of results. In this notebook, we will show an example of this."
   ]
  },
  {
   "cell_type": "code",
   "execution_count": 1,
   "metadata": {
    "execution": {
     "iopub.execute_input": "2020-09-18T18:01:58.215851Z",
     "iopub.status.busy": "2020-09-18T18:01:58.215363Z",
     "iopub.status.idle": "2020-09-18T18:01:58.319878Z",
     "shell.execute_reply": "2020-09-18T18:01:58.319350Z"
    }
   },
   "outputs": [],
   "source": [
    "import numpy as np\n",
    "import os"
   ]
  },
  {
   "cell_type": "code",
   "execution_count": 2,
   "metadata": {
    "execution": {
     "iopub.execute_input": "2020-09-18T18:01:58.324106Z",
     "iopub.status.busy": "2020-09-18T18:01:58.323625Z",
     "iopub.status.idle": "2020-09-18T18:01:59.470149Z",
     "shell.execute_reply": "2020-09-18T18:01:59.469451Z"
    }
   },
   "outputs": [
    {
     "name": "stdout",
     "output_type": "stream",
     "text": [
      "Logging hadn't been started.\n",
      "Activating auto-logging. Current session state plus future input saved.\n",
      "Filename       : /home/vsts/.qcodes/logs/command_history.log\n",
      "Mode           : append\n",
      "Output logging : True\n",
      "Raw input log  : False\n",
      "Timestamping   : True\n",
      "State          : active\n"
     ]
    },
    {
     "name": "stdout",
     "output_type": "stream",
     "text": [
      "Qcodes Logfile : /home/vsts/.qcodes/logs/200918-21539-qcodes.log\n"
     ]
    }
   ],
   "source": [
    "from qcodes.dataset.plotting import plot_dataset\n",
    "from qcodes.utils.validators import Numbers, Arrays\n",
    "from qcodes.instrument.base import Instrument\n",
    "from qcodes.dataset.measurements import Measurement"
   ]
  },
  {
   "cell_type": "code",
   "execution_count": 3,
   "metadata": {
    "execution": {
     "iopub.execute_input": "2020-09-18T18:01:59.474106Z",
     "iopub.status.busy": "2020-09-18T18:01:59.473565Z",
     "iopub.status.idle": "2020-09-18T18:01:59.476971Z",
     "shell.execute_reply": "2020-09-18T18:01:59.476520Z"
    }
   },
   "outputs": [],
   "source": [
    "from qcodes.dataset.sqlite.database import initialise_or_create_database_at\n",
    "from qcodes.dataset.experiment_container import load_or_create_experiment"
   ]
  },
  {
   "cell_type": "code",
   "execution_count": 4,
   "metadata": {
    "execution": {
     "iopub.execute_input": "2020-09-18T18:01:59.481231Z",
     "iopub.status.busy": "2020-09-18T18:01:59.480107Z",
     "iopub.status.idle": "2020-09-18T18:01:59.481795Z",
     "shell.execute_reply": "2020-09-18T18:01:59.482306Z"
    }
   },
   "outputs": [],
   "source": [
    "from qcodes.instrument.parameter import ParameterWithSetpoints, Parameter\n",
    "from qcodes.instrument.parameter import expand_setpoints_helper"
   ]
  },
  {
   "cell_type": "markdown",
   "metadata": {},
   "source": [
    "First, we define a dummy instrument that returns something like a frequency spectrum starting from a frequency given by `f_start` to a frequency given by `f_stop` in `n_points` steps. \n",
    "\n",
    "The extra functionality of the `ParameterWithSetpoints` is implemented by giving it a reference to one or more parameters that acts like its setpoints. \n",
    "\n",
    "To setup a `ParameterWithSetpoints` we have to do two things in addition to what we do for a normal parameter.\n",
    "\n",
    "* Define one or more parameter for the setpoints (one for each dimension of the array and let the `ParameterWithSetpoints` know that these are the setpoints.\n",
    "* Give both the setpoints parameter(s) and the `ParameterWithSetpoints` a `validator` of type `Arrays` with a shape. The shapes should be such that the combined shape of the setpoints matches the shape of the `ParameterWithSetpoints`. Note that if the shape changes with the setting of the instrument, it can be defined by another parameter as shown below. "
   ]
  },
  {
   "cell_type": "code",
   "execution_count": 5,
   "metadata": {
    "execution": {
     "iopub.execute_input": "2020-09-18T18:01:59.490578Z",
     "iopub.status.busy": "2020-09-18T18:01:59.484299Z",
     "iopub.status.idle": "2020-09-18T18:01:59.494404Z",
     "shell.execute_reply": "2020-09-18T18:01:59.493856Z"
    }
   },
   "outputs": [],
   "source": [
    "class GeneratedSetPoints(Parameter):\n",
    "    \"\"\"\n",
    "    A parameter that generates a setpoint array from start, stop and num points\n",
    "    parameters.\n",
    "    \"\"\"\n",
    "    def __init__(self, startparam, stopparam, numpointsparam, *args, **kwargs):\n",
    "        super().__init__(*args, **kwargs)\n",
    "        self._startparam = startparam\n",
    "        self._stopparam = stopparam\n",
    "        self._numpointsparam = numpointsparam\n",
    "\n",
    "    def get_raw(self):\n",
    "        return np.linspace(self._startparam(), self._stopparam(),\n",
    "                              self._numpointsparam())\n",
    "\n",
    "class DummyArray(ParameterWithSetpoints):\n",
    "    \n",
    "    def get_raw(self):\n",
    "        npoints = self.root_instrument.n_points.get_latest()\n",
    "        return np.random.rand(npoints)\n",
    "    \n",
    "\n",
    "class DummySpectrumAnalyzer(Instrument):\n",
    "    \n",
    "    def __init__(self, name, **kwargs):\n",
    "        \n",
    "        super().__init__(name, **kwargs)\n",
    "            \n",
    "\n",
    "        self.add_parameter('f_start',\n",
    "                           initial_value=0,\n",
    "                           unit='Hz',\n",
    "                           label='f start',\n",
    "                           vals=Numbers(0,1e3),\n",
    "                           get_cmd=None,\n",
    "                           set_cmd=None)\n",
    "\n",
    "        self.add_parameter('f_stop',\n",
    "                           unit='Hz',\n",
    "                           label='f stop',\n",
    "                           vals=Numbers(1,1e3),\n",
    "                           get_cmd=None,\n",
    "                           set_cmd=None)\n",
    "\n",
    "        self.add_parameter('n_points',\n",
    "                           unit='',\n",
    "                           initial_value=10,\n",
    "                           vals=Numbers(1,1e3),\n",
    "                           get_cmd=None,\n",
    "                           set_cmd=None)\n",
    "        \n",
    "        self.add_parameter('freq_axis',\n",
    "                           unit='Hz',\n",
    "                           label='Freq Axis',\n",
    "                           parameter_class=GeneratedSetPoints,\n",
    "                           startparam=self.f_start,\n",
    "                           stopparam=self.f_stop,\n",
    "                           numpointsparam=self.n_points,\n",
    "                           vals=Arrays(shape=(self.n_points.get_latest,)))\n",
    "                           \n",
    "        self.add_parameter('spectrum',\n",
    "                   unit='dBm',\n",
    "                   setpoints=(self.freq_axis,),\n",
    "                   label='Spectrum',\n",
    "                   parameter_class=DummyArray,\n",
    "                   vals=Arrays(shape=(self.n_points.get_latest,)))\n",
    "                "
   ]
  },
  {
   "cell_type": "markdown",
   "metadata": {},
   "source": [
    "In the above example, the shape is defined by the parameter `n_points` that defines how many samples our `DummySpectrumAnalyzer` returns.\n",
    "\n",
    "This means that the validation will call the function to get `n_points` twice for each `get` of the parameter. This may be too slow, however, if you (as the driver-writer) can guarantee that the cached value for `n_points` will never be out of sync with the value stored in the instrument, `n_points` may be replaced by it's latest known value such that the `validator` reads:\n",
    "```python\n",
    "vals=Arrays(shape=(self.n_points.get_latest))\n",
    "```\n",
    "\n",
    "This avoids any additional call to the instrument. In the same way, the arguments to the `freq_axis` parameter that defines the start, stop and number of points can be replaced by their latest value if the instrument allows it.\n",
    "\n"
   ]
  },
  {
   "cell_type": "code",
   "execution_count": 6,
   "metadata": {
    "execution": {
     "iopub.execute_input": "2020-09-18T18:01:59.497585Z",
     "iopub.status.busy": "2020-09-18T18:01:59.497100Z",
     "iopub.status.idle": "2020-09-18T18:01:59.602214Z",
     "shell.execute_reply": "2020-09-18T18:01:59.602769Z"
    }
   },
   "outputs": [
    {
     "name": "stdout",
     "output_type": "stream",
     "text": [
      "\r",
      "0it [00:00, ?it/s]"
     ]
    },
    {
     "name": "stdout",
     "output_type": "stream",
     "text": [
      "\r",
      "Upgrading database; v0 -> v1: : 0it [00:00, ?it/s]"
     ]
    },
    {
     "name": "stdout",
     "output_type": "stream",
     "text": [
      "\r",
      "Upgrading database; v0 -> v1: : 0it [00:00, ?it/s]"
     ]
    },
    {
     "name": "stdout",
     "output_type": "stream",
     "text": [
      "\n",
      "\r",
      "  0%|          | 0/1 [00:00<?, ?it/s]"
     ]
    },
    {
     "name": "stdout",
     "output_type": "stream",
     "text": [
      "\r",
      "Upgrading database; v1 -> v2:   0%|          | 0/1 [00:00<?, ?it/s]"
     ]
    },
    {
     "name": "stdout",
     "output_type": "stream",
     "text": [
      "\r",
      "Upgrading database; v1 -> v2: 100%|██████████| 1/1 [00:00<00:00, 457.29it/s]"
     ]
    },
    {
     "name": "stdout",
     "output_type": "stream",
     "text": [
      "\n",
      "\r",
      "0it [00:00, ?it/s]"
     ]
    },
    {
     "name": "stdout",
     "output_type": "stream",
     "text": [
      "\r",
      "Upgrading database; v2 -> v3: : 0it [00:00, ?it/s]"
     ]
    },
    {
     "name": "stdout",
     "output_type": "stream",
     "text": [
      "\r",
      "Upgrading database; v2 -> v3: : 0it [00:00, ?it/s]"
     ]
    },
    {
     "name": "stdout",
     "output_type": "stream",
     "text": [
      "\n",
      "\r",
      "0it [00:00, ?it/s]"
     ]
    },
    {
     "name": "stdout",
     "output_type": "stream",
     "text": [
      "\r",
      "Upgrading database; v3 -> v4: : 0it [00:00, ?it/s]"
     ]
    },
    {
     "name": "stdout",
     "output_type": "stream",
     "text": [
      "\r",
      "Upgrading database; v3 -> v4: : 0it [00:00, ?it/s]"
     ]
    },
    {
     "name": "stdout",
     "output_type": "stream",
     "text": [
      "\n",
      "\r",
      "  0%|          | 0/1 [00:00<?, ?it/s]"
     ]
    },
    {
     "name": "stdout",
     "output_type": "stream",
     "text": [
      "\r",
      "Upgrading database; v4 -> v5:   0%|          | 0/1 [00:00<?, ?it/s]"
     ]
    },
    {
     "name": "stdout",
     "output_type": "stream",
     "text": [
      "\r",
      "Upgrading database; v4 -> v5: 100%|██████████| 1/1 [00:00<00:00, 469.32it/s]"
     ]
    },
    {
     "name": "stdout",
     "output_type": "stream",
     "text": [
      "\n",
      "\r",
      "0it [00:00, ?it/s]"
     ]
    },
    {
     "name": "stdout",
     "output_type": "stream",
     "text": [
      "\r",
      "Upgrading database; v5 -> v6: : 0it [00:00, ?it/s]"
     ]
    },
    {
     "name": "stdout",
     "output_type": "stream",
     "text": [
      "\r",
      "Upgrading database; v5 -> v6: : 0it [00:00, ?it/s]"
     ]
    },
    {
     "name": "stdout",
     "output_type": "stream",
     "text": [
      "\n",
      "\r",
      "  0%|          | 0/1 [00:00<?, ?it/s]"
     ]
    },
    {
     "name": "stdout",
     "output_type": "stream",
     "text": [
      "\r",
      "Upgrading database; v6 -> v7:   0%|          | 0/1 [00:00<?, ?it/s]"
     ]
    },
    {
     "name": "stdout",
     "output_type": "stream",
     "text": [
      "\r",
      "Upgrading database; v6 -> v7: 100%|██████████| 1/1 [00:00<00:00, 371.70it/s]"
     ]
    },
    {
     "name": "stdout",
     "output_type": "stream",
     "text": [
      "\n",
      "\r",
      "  0%|          | 0/1 [00:00<?, ?it/s]"
     ]
    },
    {
     "name": "stdout",
     "output_type": "stream",
     "text": [
      "\r",
      "Upgrading database; v7 -> v8:   0%|          | 0/1 [00:00<?, ?it/s]"
     ]
    },
    {
     "name": "stdout",
     "output_type": "stream",
     "text": [
      "\r",
      "Upgrading database; v7 -> v8: 100%|██████████| 1/1 [00:00<00:00, 440.49it/s]"
     ]
    },
    {
     "name": "stdout",
     "output_type": "stream",
     "text": [
      "\n",
      "\r",
      "  0%|          | 0/1 [00:00<?, ?it/s]"
     ]
    },
    {
     "name": "stdout",
     "output_type": "stream",
     "text": [
      "\r",
      "Upgrading database; v8 -> v9:   0%|          | 0/1 [00:00<?, ?it/s]"
     ]
    },
    {
     "name": "stdout",
     "output_type": "stream",
     "text": [
      "\r",
      "Upgrading database; v8 -> v9: 100%|██████████| 1/1 [00:00<00:00, 918.39it/s]"
     ]
    },
    {
     "name": "stdout",
     "output_type": "stream",
     "text": [
      "\n"
     ]
    },
    {
     "data": {
      "text/plain": [
       "tutorial_ParameterWithSetpoints#no sample#1@/home/vsts/work/1/s/docs/examples/Parameters/tutorial_paramter_with_setpoints.db\n",
       "----------------------------------------------------------------------------------------------------------------------------"
      ]
     },
     "execution_count": 1,
     "metadata": {},
     "output_type": "execute_result"
    }
   ],
   "source": [
    "tutorial_db_path = os.path.join(os.getcwd(), 'tutorial_paramter_with_setpoints.db')\n",
    "initialise_or_create_database_at(tutorial_db_path)\n",
    "load_or_create_experiment(experiment_name='tutorial_ParameterWithSetpoints', sample_name=\"no sample\")"
   ]
  },
  {
   "cell_type": "code",
   "execution_count": 7,
   "metadata": {
    "execution": {
     "iopub.execute_input": "2020-09-18T18:01:59.608061Z",
     "iopub.status.busy": "2020-09-18T18:01:59.607005Z",
     "iopub.status.idle": "2020-09-18T18:01:59.608643Z",
     "shell.execute_reply": "2020-09-18T18:01:59.609168Z"
    }
   },
   "outputs": [],
   "source": [
    "a = DummySpectrumAnalyzer('foobar')"
   ]
  },
  {
   "cell_type": "markdown",
   "metadata": {},
   "source": [
    "First we setup the limits of the spectrum"
   ]
  },
  {
   "cell_type": "code",
   "execution_count": 8,
   "metadata": {
    "execution": {
     "iopub.execute_input": "2020-09-18T18:01:59.614180Z",
     "iopub.status.busy": "2020-09-18T18:01:59.613075Z",
     "iopub.status.idle": "2020-09-18T18:01:59.614717Z",
     "shell.execute_reply": "2020-09-18T18:01:59.615223Z"
    }
   },
   "outputs": [],
   "source": [
    "a.f_start(0)\n",
    "a.f_stop(500)\n",
    "a.n_points(501)"
   ]
  },
  {
   "cell_type": "markdown",
   "metadata": {},
   "source": [
    "And we can grab the frequency axis"
   ]
  },
  {
   "cell_type": "code",
   "execution_count": 9,
   "metadata": {
    "execution": {
     "iopub.execute_input": "2020-09-18T18:01:59.620466Z",
     "iopub.status.busy": "2020-09-18T18:01:59.619415Z",
     "iopub.status.idle": "2020-09-18T18:01:59.621985Z",
     "shell.execute_reply": "2020-09-18T18:01:59.622504Z"
    }
   },
   "outputs": [
    {
     "data": {
      "text/plain": [
       "501"
      ]
     },
     "execution_count": 1,
     "metadata": {},
     "output_type": "execute_result"
    }
   ],
   "source": [
    "a.n_points()"
   ]
  },
  {
   "cell_type": "code",
   "execution_count": 10,
   "metadata": {
    "execution": {
     "iopub.execute_input": "2020-09-18T18:01:59.627939Z",
     "iopub.status.busy": "2020-09-18T18:01:59.627039Z",
     "iopub.status.idle": "2020-09-18T18:01:59.629412Z",
     "shell.execute_reply": "2020-09-18T18:01:59.629942Z"
    },
    "scrolled": false
   },
   "outputs": [
    {
     "data": {
      "text/plain": [
       "501"
      ]
     },
     "execution_count": 1,
     "metadata": {},
     "output_type": "execute_result"
    }
   ],
   "source": [
    "freq_axis = a.freq_axis()\n",
    "len(freq_axis)"
   ]
  },
  {
   "cell_type": "code",
   "execution_count": 11,
   "metadata": {
    "execution": {
     "iopub.execute_input": "2020-09-18T18:01:59.635394Z",
     "iopub.status.busy": "2020-09-18T18:01:59.634148Z",
     "iopub.status.idle": "2020-09-18T18:01:59.637564Z",
     "shell.execute_reply": "2020-09-18T18:01:59.638107Z"
    }
   },
   "outputs": [
    {
     "data": {
      "text/plain": [
       "array([0., 1., 2., 3., 4., 5., 6., 7., 8., 9.])"
      ]
     },
     "execution_count": 1,
     "metadata": {},
     "output_type": "execute_result"
    }
   ],
   "source": [
    "freq_axis[:10]"
   ]
  },
  {
   "cell_type": "markdown",
   "metadata": {},
   "source": [
    "As expected we get a result wit 501 points as we asked for an axis with 501 points. "
   ]
  },
  {
   "cell_type": "markdown",
   "metadata": {},
   "source": [
    "Above we have added a validator to the `freq_axis` parameter encoding the fact that this is an Array with `n_points`. Note that we do not have to supply the number of points as an integer but can supply a function that returns the valid number of points. This would normally be a QCoDeS parameter.\n",
    "\n",
    "This will be checked if we validate the output."
   ]
  },
  {
   "cell_type": "code",
   "execution_count": 12,
   "metadata": {
    "execution": {
     "iopub.execute_input": "2020-09-18T18:01:59.643981Z",
     "iopub.status.busy": "2020-09-18T18:01:59.642896Z",
     "iopub.status.idle": "2020-09-18T18:01:59.644515Z",
     "shell.execute_reply": "2020-09-18T18:01:59.645012Z"
    }
   },
   "outputs": [],
   "source": [
    "a.freq_axis.validate(a.freq_axis.get())"
   ]
  },
  {
   "cell_type": "markdown",
   "metadata": {},
   "source": [
    "Naturally, we can also get the spectrum. Getting the spectrum will automatically perform validation both for the shape of the parameter itself and the relation to the setpoint parameter(s)"
   ]
  },
  {
   "cell_type": "code",
   "execution_count": 13,
   "metadata": {
    "execution": {
     "iopub.execute_input": "2020-09-18T18:01:59.649265Z",
     "iopub.status.busy": "2020-09-18T18:01:59.647893Z",
     "iopub.status.idle": "2020-09-18T18:01:59.651352Z",
     "shell.execute_reply": "2020-09-18T18:01:59.651853Z"
    },
    "scrolled": true
   },
   "outputs": [
    {
     "data": {
      "text/plain": [
       "501"
      ]
     },
     "execution_count": 1,
     "metadata": {},
     "output_type": "execute_result"
    }
   ],
   "source": [
    "spectrum = a.spectrum.get()\n",
    "len(spectrum)"
   ]
  },
  {
   "cell_type": "markdown",
   "metadata": {},
   "source": [
    "When we validate a `ParameterWithSetpoints`, we automatically validate that the shape is consistent between the parameters and its setpoints. As well as validating the shape as above."
   ]
  },
  {
   "cell_type": "code",
   "execution_count": 14,
   "metadata": {
    "execution": {
     "iopub.execute_input": "2020-09-18T18:01:59.655417Z",
     "iopub.status.busy": "2020-09-18T18:01:59.654527Z",
     "iopub.status.idle": "2020-09-18T18:01:59.657666Z",
     "shell.execute_reply": "2020-09-18T18:01:59.657116Z"
    }
   },
   "outputs": [],
   "source": [
    "a.spectrum.validate(a.spectrum.get())"
   ]
  },
  {
   "cell_type": "markdown",
   "metadata": {},
   "source": [
    "The consistent shapes can be validated explicitly."
   ]
  },
  {
   "cell_type": "code",
   "execution_count": 15,
   "metadata": {
    "execution": {
     "iopub.execute_input": "2020-09-18T18:01:59.661386Z",
     "iopub.status.busy": "2020-09-18T18:01:59.660858Z",
     "iopub.status.idle": "2020-09-18T18:01:59.663449Z",
     "shell.execute_reply": "2020-09-18T18:01:59.662917Z"
    }
   },
   "outputs": [],
   "source": [
    "a.spectrum.validate_consistent_shape()"
   ]
  },
  {
   "cell_type": "markdown",
   "metadata": {},
   "source": [
    "We can inspect the setpoints of the spectrum."
   ]
  },
  {
   "cell_type": "code",
   "execution_count": 16,
   "metadata": {
    "execution": {
     "iopub.execute_input": "2020-09-18T18:01:59.667254Z",
     "iopub.status.busy": "2020-09-18T18:01:59.665751Z",
     "iopub.status.idle": "2020-09-18T18:01:59.669121Z",
     "shell.execute_reply": "2020-09-18T18:01:59.669622Z"
    }
   },
   "outputs": [
    {
     "data": {
      "text/plain": [
       "(<__main__.GeneratedSetPoints: freq_axis at 140046727482384>,)"
      ]
     },
     "execution_count": 1,
     "metadata": {},
     "output_type": "execute_result"
    }
   ],
   "source": [
    "a.spectrum.setpoints"
   ]
  },
  {
   "cell_type": "markdown",
   "metadata": {},
   "source": [
    "Or even change them."
   ]
  },
  {
   "cell_type": "code",
   "execution_count": 17,
   "metadata": {
    "execution": {
     "iopub.execute_input": "2020-09-18T18:01:59.674186Z",
     "iopub.status.busy": "2020-09-18T18:01:59.673186Z",
     "iopub.status.idle": "2020-09-18T18:01:59.675665Z",
     "shell.execute_reply": "2020-09-18T18:01:59.675120Z"
    }
   },
   "outputs": [],
   "source": [
    "a.spectrum.setpoints = (a.freq_axis,)"
   ]
  },
  {
   "cell_type": "markdown",
   "metadata": {},
   "source": [
    "## Measurement"
   ]
  },
  {
   "cell_type": "markdown",
   "metadata": {},
   "source": [
    "We can also directly consume the parameter in a measurement without defining the setpoints of the parameter again. The setpoints are automatically obtained from the definition of the `ParameterWithSetpoint` instance. "
   ]
  },
  {
   "cell_type": "code",
   "execution_count": 18,
   "metadata": {
    "execution": {
     "iopub.execute_input": "2020-09-18T18:01:59.680337Z",
     "iopub.status.busy": "2020-09-18T18:01:59.679827Z",
     "iopub.status.idle": "2020-09-18T18:01:59.697101Z",
     "shell.execute_reply": "2020-09-18T18:01:59.696677Z"
    }
   },
   "outputs": [
    {
     "name": "stdout",
     "output_type": "stream",
     "text": [
      "Starting experimental run with id: 1. \n"
     ]
    }
   ],
   "source": [
    "meas = Measurement()\n",
    "meas.register_parameter(a.spectrum)\n",
    "\n",
    "with meas.run() as datasaver:\n",
    "    datasaver.add_result((a.freq_axis, a.freq_axis()),\n",
    "                         (a.spectrum, a.spectrum()))\n",
    "    dataset = datasaver.dataset"
   ]
  },
  {
   "cell_type": "markdown",
   "metadata": {},
   "source": [
    "And plot it"
   ]
  },
  {
   "cell_type": "code",
   "execution_count": 19,
   "metadata": {
    "execution": {
     "iopub.execute_input": "2020-09-18T18:01:59.700798Z",
     "iopub.status.busy": "2020-09-18T18:01:59.699844Z",
     "iopub.status.idle": "2020-09-18T18:02:00.069213Z",
     "shell.execute_reply": "2020-09-18T18:02:00.068378Z"
    }
   },
   "outputs": [
    {
     "data": {
      "text/plain": [
       "([<AxesSubplot:title={'center':'Run #1, Experiment tutorial_ParameterWithSetpoints (no sample)'}, xlabel='Freq Axis (Hz)', ylabel='Spectrum ($10^{-3}$ dBm)'>],\n",
       " [None])"
      ]
     },
     "execution_count": 1,
     "metadata": {},
     "output_type": "execute_result"
    },
    {
     "data": {
      "image/png": "[encoded data removed]",
      "text/plain": [
       "<Figure size 432x288 with 1 Axes>"
      ]
     },
     "metadata": {
      "needs_background": "light"
     },
     "output_type": "display_data"
    }
   ],
   "source": [
    "plot_dataset(dataset)"
   ]
  },
  {
   "cell_type": "markdown",
   "metadata": {},
   "source": [
    "To reduce the amount of typing a simple convenience function is provided that will take a `ParameterWithSetpoints` and get both its values and the setpoints values and return them as tuples for direct insertion into the Dataset."
   ]
  },
  {
   "cell_type": "code",
   "execution_count": 20,
   "metadata": {
    "execution": {
     "iopub.execute_input": "2020-09-18T18:02:00.073338Z",
     "iopub.status.busy": "2020-09-18T18:02:00.072507Z",
     "iopub.status.idle": "2020-09-18T18:02:00.087530Z",
     "shell.execute_reply": "2020-09-18T18:02:00.088050Z"
    },
    "scrolled": true
   },
   "outputs": [
    {
     "data": {
      "text/plain": [
       "[(<__main__.GeneratedSetPoints: freq_axis at 140046727482384>,\n",
       "  array([  0.,   1.,   2.,   3.,   4.,   5.,   6.,   7.,   8.,   9.,  10.,\n",
       "          11.,  12.,  13.,  14.,  15.,  16.,  17.,  18.,  19.,  20.,  21.,\n",
       "          22.,  23.,  24.,  25.,  26.,  27.,  28.,  29.,  30.,  31.,  32.,\n",
       "          33.,  34.,  35.,  36.,  37.,  38.,  39.,  40.,  41.,  42.,  43.,\n",
       "          44.,  45.,  46.,  47.,  48.,  49.,  50.,  51.,  52.,  53.,  54.,\n",
       "          55.,  56.,  57.,  58.,  59.,  60.,  61.,  62.,  63.,  64.,  65.,\n",
       "          66.,  67.,  68.,  69.,  70.,  71.,  72.,  73.,  74.,  75.,  76.,\n",
       "          77.,  78.,  79.,  80.,  81.,  82.,  83.,  84.,  85.,  86.,  87.,\n",
       "          88.,  89.,  90.,  91.,  92.,  93.,  94.,  95.,  96.,  97.,  98.,\n",
       "          99., 100., 101., 102., 103., 104., 105., 106., 107., 108., 109.,\n",
       "         110., 111., 112., 113., 114., 115., 116., 117., 118., 119., 120.,\n",
       "         121., 122., 123., 124., 125., 126., 127., 128., 129., 130., 131.,\n",
       "         132., 133., 134., 135., 136., 137., 138., 139., 140., 141., 142.,\n",
       "         143., 144., 145., 146., 147., 148., 149., 150., 151., 152., 153.,\n",
       "         154., 155., 156., 157., 158., 159., 160., 161., 162., 163., 164.,\n",
       "         165., 166., 167., 168., 169., 170., 171., 172., 173., 174., 175.,\n",
       "         176., 177., 178., 179., 180., 181., 182., 183., 184., 185., 186.,\n",
       "         187., 188., 189., 190., 191., 192., 193., 194., 195., 196., 197.,\n",
       "         198., 199., 200., 201., 202., 203., 204., 205., 206., 207., 208.,\n",
       "         209., 210., 211., 212., 213., 214., 215., 216., 217., 218., 219.,\n",
       "         220., 221., 222., 223., 224., 225., 226., 227., 228., 229., 230.,\n",
       "         231., 232., 233., 234., 235., 236., 237., 238., 239., 240., 241.,\n",
       "         242., 243., 244., 245., 246., 247., 248., 249., 250., 251., 252.,\n",
       "         253., 254., 255., 256., 257., 258., 259., 260., 261., 262., 263.,\n",
       "         264., 265., 266., 267., 268., 269., 270., 271., 272., 273., 274.,\n",
       "         275., 276., 277., 278., 279., 280., 281., 282., 283., 284., 285.,\n",
       "         286., 287., 288., 289., 290., 291., 292., 293., 294., 295., 296.,\n",
       "         297., 298., 299., 300., 301., 302., 303., 304., 305., 306., 307.,\n",
       "         308., 309., 310., 311., 312., 313., 314., 315., 316., 317., 318.,\n",
       "         319., 320., 321., 322., 323., 324., 325., 326., 327., 328., 329.,\n",
       "         330., 331., 332., 333., 334., 335., 336., 337., 338., 339., 340.,\n",
       "         341., 342., 343., 344., 345., 346., 347., 348., 349., 350., 351.,\n",
       "         352., 353., 354., 355., 356., 357., 358., 359., 360., 361., 362.,\n",
       "         363., 364., 365., 366., 367., 368., 369., 370., 371., 372., 373.,\n",
       "         374., 375., 376., 377., 378., 379., 380., 381., 382., 383., 384.,\n",
       "         385., 386., 387., 388., 389., 390., 391., 392., 393., 394., 395.,\n",
       "         396., 397., 398., 399., 400., 401., 402., 403., 404., 405., 406.,\n",
       "         407., 408., 409., 410., 411., 412., 413., 414., 415., 416., 417.,\n",
       "         418., 419., 420., 421., 422., 423., 424., 425., 426., 427., 428.,\n",
       "         429., 430., 431., 432., 433., 434., 435., 436., 437., 438., 439.,\n",
       "         440., 441., 442., 443., 444., 445., 446., 447., 448., 449., 450.,\n",
       "         451., 452., 453., 454., 455., 456., 457., 458., 459., 460., 461.,\n",
       "         462., 463., 464., 465., 466., 467., 468., 469., 470., 471., 472.,\n",
       "         473., 474., 475., 476., 477., 478., 479., 480., 481., 482., 483.,\n",
       "         484., 485., 486., 487., 488., 489., 490., 491., 492., 493., 494.,\n",
       "         495., 496., 497., 498., 499., 500.])),\n",
       " (<__main__.DummyArray: spectrum at 140046718069968>,\n",
       "  array([9.28630966e-01, 1.31908901e-01, 2.32103008e-01, 5.56696638e-01,\n",
       "         7.70443142e-01, 6.89774130e-01, 2.58871742e-01, 6.37623637e-02,\n",
       "         8.23568114e-01, 4.29305807e-01, 3.27077400e-01, 3.68894941e-01,\n",
       "         9.41297264e-02, 4.59831564e-01, 5.06913213e-01, 6.99065867e-01,\n",
       "         5.85045849e-01, 4.71146988e-01, 8.91629107e-01, 1.06045371e-01,\n",
       "         1.19214102e-02, 9.26966269e-01, 5.22087919e-02, 1.41198910e-03,\n",
       "         2.52643623e-01, 9.57470174e-01, 3.43152199e-01, 6.67995245e-02,\n",
       "         2.27322501e-01, 9.91840098e-01, 8.05277394e-01, 5.08347178e-01,\n",
       "         5.81295318e-02, 2.66919234e-01, 7.63071503e-01, 1.64485136e-01,\n",
       "         6.54136803e-01, 2.88205741e-01, 7.95239094e-01, 4.56503109e-02,\n",
       "         5.31319075e-01, 9.05337595e-01, 8.56449272e-01, 9.56849947e-01,\n",
       "         9.60327047e-01, 7.25044668e-01, 3.61907934e-01, 5.85449688e-01,\n",
       "         2.11229744e-01, 7.55122465e-01, 4.25680030e-01, 5.13347824e-01,\n",
       "         3.34051825e-03, 2.39149828e-01, 6.10256435e-01, 1.68388012e-01,\n",
       "         2.09293969e-01, 4.15134116e-01, 2.57292118e-02, 1.35918558e-01,\n",
       "         1.56497555e-01, 5.54528029e-01, 4.85004498e-01, 1.66994325e-01,\n",
       "         9.54220006e-01, 1.09478529e-01, 6.46526957e-01, 4.76543338e-01,\n",
       "         2.32301822e-02, 1.02385701e-01, 8.37558216e-01, 6.32276959e-01,\n",
       "         5.58433934e-01, 7.02950975e-01, 3.06148528e-01, 6.94152549e-01,\n",
       "         5.62368444e-01, 3.00287732e-01, 5.54832388e-01, 6.46489506e-01,\n",
       "         4.24961048e-01, 1.21875131e-01, 6.88940337e-01, 6.29938174e-01,\n",
       "         2.00862920e-02, 7.96590781e-01, 1.25752799e-01, 1.45758493e-01,\n",
       "         6.93579606e-01, 5.76793911e-01, 2.30097706e-01, 7.66763345e-01,\n",
       "         7.61831559e-01, 6.42101817e-01, 4.06372135e-01, 8.06830425e-02,\n",
       "         6.52084536e-02, 6.55167809e-01, 3.39461426e-01, 7.68832553e-01,\n",
       "         3.86383776e-01, 5.40490940e-01, 7.18562178e-02, 5.48108690e-01,\n",
       "         2.55274561e-01, 5.33047576e-01, 7.70204935e-01, 6.30464649e-01,\n",
       "         9.67292163e-01, 8.45043690e-01, 1.68963869e-01, 9.29660397e-01,\n",
       "         4.76032295e-01, 2.53432080e-01, 7.59693813e-01, 7.33646542e-02,\n",
       "         8.46215047e-01, 6.79620003e-01, 6.87589032e-01, 7.54242820e-01,\n",
       "         2.93793424e-01, 2.96854875e-01, 3.48147688e-01, 7.79025230e-01,\n",
       "         3.65700610e-01, 5.26268446e-01, 3.19957561e-01, 6.77711728e-01,\n",
       "         1.47545818e-01, 5.63131732e-01, 5.13464159e-01, 5.11815613e-01,\n",
       "         2.15332252e-01, 2.52662258e-02, 2.07504583e-01, 2.05855312e-01,\n",
       "         4.00090684e-01, 6.71846714e-02, 2.94055350e-01, 7.05121817e-01,\n",
       "         1.08875818e-01, 3.91311270e-01, 2.18688351e-01, 3.51859244e-01,\n",
       "         6.00910106e-01, 3.32444485e-01, 7.75200042e-02, 8.69209544e-01,\n",
       "         7.95846509e-01, 6.61117193e-03, 9.14568364e-01, 5.82370435e-02,\n",
       "         7.33429686e-01, 2.71520971e-01, 4.86297687e-01, 1.11908569e-01,\n",
       "         6.77716073e-01, 4.53635304e-01, 5.42428939e-03, 1.86114955e-01,\n",
       "         5.37444156e-01, 2.61863082e-01, 2.14199910e-01, 9.87777355e-01,\n",
       "         8.68419491e-01, 9.50805594e-01, 5.35287191e-01, 8.22823034e-01,\n",
       "         8.63687607e-01, 5.18653780e-01, 9.16947017e-01, 8.64912072e-01,\n",
       "         7.90934498e-01, 3.14164661e-02, 8.92258301e-03, 5.18261791e-01,\n",
       "         6.58784225e-01, 4.23880156e-01, 3.31934619e-01, 1.09730896e-01,\n",
       "         4.15736045e-01, 3.77346899e-01, 1.49556017e-01, 9.61179469e-01,\n",
       "         1.45814658e-01, 1.70630077e-01, 9.13432048e-01, 9.42513788e-01,\n",
       "         6.14900702e-01, 1.99410693e-01, 4.90312243e-01, 5.76698684e-01,\n",
       "         4.03089216e-01, 4.31070451e-02, 8.21221715e-01, 5.25474797e-01,\n",
       "         6.95878245e-02, 3.31982825e-01, 2.69997041e-01, 2.17027361e-01,\n",
       "         9.11951445e-01, 5.32206570e-01, 5.96306867e-02, 9.15506415e-01,\n",
       "         2.52156068e-01, 3.83805400e-01, 6.73221064e-01, 4.22396810e-01,\n",
       "         5.37871917e-01, 9.22733489e-01, 1.87327510e-01, 3.48426312e-01,\n",
       "         9.39028812e-01, 9.06402028e-01, 9.18843004e-01, 2.63928119e-01,\n",
       "         1.83105094e-02, 9.72231792e-01, 4.50071633e-01, 8.47416397e-01,\n",
       "         7.10486115e-01, 4.87151686e-01, 5.61672467e-01, 2.84577916e-01,\n",
       "         9.09064232e-01, 2.61108442e-02, 3.99635828e-01, 5.95736507e-01,\n",
       "         9.96266979e-01, 6.61597329e-01, 9.06850576e-01, 1.74424617e-01,\n",
       "         1.37978195e-01, 4.40143493e-01, 1.02287675e-01, 1.49357343e-01,\n",
       "         3.76987438e-01, 9.33548603e-01, 6.53186390e-01, 8.71735061e-01,\n",
       "         1.46357457e-01, 5.83109511e-01, 2.21814421e-01, 7.36051357e-01,\n",
       "         9.93187357e-01, 2.07451709e-01, 7.49909778e-01, 9.24702819e-01,\n",
       "         2.34058470e-01, 4.00155315e-02, 4.10079328e-01, 4.81218901e-01,\n",
       "         1.76582270e-01, 3.17466571e-01, 9.73857341e-01, 5.95039368e-01,\n",
       "         2.77066977e-01, 2.42347030e-01, 4.04334571e-01, 6.28937084e-01,\n",
       "         4.38303598e-01, 4.60459838e-01, 8.50078952e-01, 6.56203676e-01,\n",
       "         8.34381750e-01, 9.35023331e-01, 7.37625045e-01, 2.31771385e-01,\n",
       "         5.49041551e-01, 8.76829040e-01, 1.78695585e-01, 7.06525880e-01,\n",
       "         6.77659564e-01, 4.01512811e-01, 5.57278502e-01, 1.04628545e-02,\n",
       "         3.23955434e-01, 6.85116514e-01, 8.17250014e-01, 9.58079202e-01,\n",
       "         1.78498237e-01, 1.18564257e-01, 7.31408738e-01, 9.99911449e-01,\n",
       "         2.71995109e-01, 6.62792186e-01, 1.71853061e-01, 1.75675498e-01,\n",
       "         2.86470564e-01, 5.33062864e-01, 4.48026196e-01, 9.29587175e-01,\n",
       "         7.59739976e-01, 7.42071849e-01, 9.60403148e-01, 2.15545620e-01,\n",
       "         7.33249834e-01, 6.60517679e-01, 2.83504344e-01, 6.36571484e-01,\n",
       "         7.88573837e-01, 9.98104429e-01, 3.48929299e-01, 5.84936181e-01,\n",
       "         8.59149796e-01, 4.96756820e-01, 9.55201620e-01, 2.75160210e-01,\n",
       "         3.18707424e-02, 5.05526894e-01, 6.42708143e-01, 3.65328472e-01,\n",
       "         1.76200060e-01, 7.24923132e-01, 9.03109171e-01, 6.97322283e-01,\n",
       "         8.14248934e-02, 3.72239185e-01, 2.17077073e-01, 9.79923926e-01,\n",
       "         2.30281296e-01, 8.08070530e-01, 9.94836701e-04, 6.83586773e-01,\n",
       "         5.34678060e-01, 1.18847723e-01, 1.50291331e-01, 9.53509349e-01,\n",
       "         4.09665572e-01, 8.92870440e-01, 8.10027273e-01, 3.94313132e-01,\n",
       "         7.38993552e-01, 8.94247632e-01, 3.58029625e-02, 1.97672019e-01,\n",
       "         8.52252146e-01, 2.20355472e-01, 2.90338899e-01, 3.96333890e-03,\n",
       "         6.27942449e-01, 8.58690904e-02, 9.84950729e-01, 2.73392636e-01,\n",
       "         8.46737967e-01, 1.16306179e-01, 8.27722235e-01, 1.81614901e-01,\n",
       "         3.75770861e-01, 1.56896509e-01, 1.89602637e-01, 7.58626864e-01,\n",
       "         4.71118568e-01, 9.54294035e-01, 1.51531986e-01, 1.11776805e-01,\n",
       "         1.09069960e-01, 1.23392562e-01, 2.09381416e-01, 9.16096287e-01,\n",
       "         3.24473113e-01, 1.31372565e-01, 5.21220345e-01, 6.97948711e-01,\n",
       "         7.39467910e-01, 3.53700047e-01, 3.38433420e-01, 4.74024314e-02,\n",
       "         7.02108635e-01, 8.96653756e-01, 8.66858454e-01, 5.47373159e-01,\n",
       "         7.25233471e-01, 9.27113782e-01, 9.31528265e-01, 8.89824339e-01,\n",
       "         7.64032639e-01, 9.79513939e-01, 3.67337066e-01, 3.18956687e-01,\n",
       "         1.77655281e-01, 7.60540363e-01, 2.08347286e-01, 6.44045881e-01,\n",
       "         2.78781523e-01, 9.05865743e-01, 4.13066463e-01, 6.34317168e-02,\n",
       "         3.54789655e-01, 2.69911791e-01, 3.48408956e-01, 8.90279196e-01,\n",
       "         3.50248832e-01, 8.89305421e-01, 7.05383169e-01, 2.46260200e-01,\n",
       "         9.34533151e-01, 5.92140656e-01, 6.19209249e-01, 9.34872596e-01,\n",
       "         1.40815388e-01, 5.15089674e-01, 3.44422496e-01, 5.08575618e-01,\n",
       "         1.76874249e-01, 4.92686024e-01, 8.49537024e-01, 5.28430521e-01,\n",
       "         3.32326046e-01, 5.64251839e-01, 9.80676848e-01, 1.01463547e-01,\n",
       "         9.62882577e-02, 7.97524738e-01, 1.30094806e-02, 3.57432851e-01,\n",
       "         5.82022104e-04, 1.04814960e-01, 5.36506198e-01, 7.15354274e-01,\n",
       "         4.44014238e-01, 7.90256014e-01, 4.86747692e-01, 9.91724873e-01,\n",
       "         3.93308095e-01, 5.43547488e-01, 6.41808859e-01, 5.78403856e-01,\n",
       "         9.18249379e-01, 3.21817422e-01, 6.17012446e-01, 4.22015583e-01,\n",
       "         9.10522486e-01, 9.63270988e-01, 9.43408009e-01, 1.50158554e-01,\n",
       "         9.58204214e-01, 9.27272538e-01, 2.26579605e-01, 9.34679404e-01,\n",
       "         2.99952729e-01, 5.47851731e-01, 7.63674134e-02, 9.26696709e-01,\n",
       "         2.02969767e-01, 1.32891977e-01, 6.67310552e-01, 2.28773604e-01,\n",
       "         1.04599526e-01, 9.65251876e-01, 8.79671537e-02, 3.28995051e-01,\n",
       "         8.92656865e-01, 4.01901575e-01, 3.43576350e-01, 1.64192133e-01,\n",
       "         5.20517840e-01, 2.87864711e-01, 1.06163481e-01, 5.81605572e-01,\n",
       "         4.30342518e-01, 3.97525634e-01, 7.55231268e-01, 8.12722687e-01,\n",
       "         6.89919195e-01, 4.90343551e-01, 6.65848280e-01, 2.40202187e-01,\n",
       "         4.84937839e-01, 5.40562006e-02, 1.25957327e-02, 1.11839885e-01,\n",
       "         1.90429370e-01, 7.54843272e-01, 2.85354741e-01, 9.97610382e-01,\n",
       "         3.26047635e-02, 1.71813465e-01, 4.13052893e-02, 6.28446900e-01,\n",
       "         4.46433281e-01, 6.97772206e-01, 8.97978987e-01, 7.20040153e-01,\n",
       "         8.41139620e-01, 2.00126068e-01, 7.90420177e-01, 9.83683515e-01,\n",
       "         6.49682715e-01, 9.50116970e-01, 5.46394393e-02, 8.62917828e-01,\n",
       "         6.45612523e-01, 2.16553137e-01, 7.03647827e-01, 8.70845116e-01,\n",
       "         3.12953815e-01, 8.95503017e-01, 6.84573402e-01, 7.29522449e-01,\n",
       "         3.12220901e-01]))]"
      ]
     },
     "execution_count": 1,
     "metadata": {},
     "output_type": "execute_result"
    }
   ],
   "source": [
    "expand_setpoints_helper(a.spectrum)"
   ]
  },
  {
   "cell_type": "code",
   "execution_count": 21,
   "metadata": {
    "execution": {
     "iopub.execute_input": "2020-09-18T18:02:00.092539Z",
     "iopub.status.busy": "2020-09-18T18:02:00.091827Z",
     "iopub.status.idle": "2020-09-18T18:02:00.111486Z",
     "shell.execute_reply": "2020-09-18T18:02:00.110709Z"
    }
   },
   "outputs": [
    {
     "name": "stdout",
     "output_type": "stream",
     "text": [
      "Starting experimental run with id: 2. \n"
     ]
    }
   ],
   "source": [
    "meas = Measurement()\n",
    "meas.register_parameter(a.spectrum)\n",
    "\n",
    "with meas.run() as datasaver:\n",
    "    datasaver.add_result(*expand_setpoints_helper(a.spectrum))\n",
    "    \n",
    "    dataid = datasaver.run_id"
   ]
  },
  {
   "cell_type": "code",
   "execution_count": null,
   "metadata": {},
   "outputs": [],
   "source": []
  }
 ],
 "metadata": {
  "kernelspec": {
   "display_name": "Python 3",
   "language": "python",
   "name": "python3"
  },
  "language_info": {
   "codemirror_mode": {
    "name": "ipython",
    "version": 3
   },
   "file_extension": ".py",
   "mimetype": "text/x-python",
   "name": "python",
   "nbconvert_exporter": "python",
   "pygments_lexer": "ipython3",
   "version": "3.7.7"
  },
  "toc": {
   "base_numbering": 1,
   "nav_menu": {},
   "number_sections": true,
   "sideBar": true,
   "skip_h1_title": false,
   "title_cell": "Table of Contents",
   "title_sidebar": "Contents",
   "toc_cell": false,
   "toc_position": {},
   "toc_section_display": true,
   "toc_window_display": false
  },
  "varInspector": {
   "cols": {
    "lenName": 16,
    "lenType": 16,
    "lenVar": 40
   },
   "kernels_config": {
    "python": {
     "delete_cmd_postfix": "",
     "delete_cmd_prefix": "del ",
     "library": "var_list.py",
     "varRefreshCmd": "print(var_dic_list())"
    },
    "r": {
     "delete_cmd_postfix": ") ",
     "delete_cmd_prefix": "rm(",
     "library": "var_list.r",
     "varRefreshCmd": "cat(var_dic_list()) "
    }
   },
   "types_to_exclude": [
    "module",
    "function",
    "builtin_function_or_method",
    "instance",
    "_Feature"
   ],
   "window_display": false
  }
 },
 "nbformat": 4,
 "nbformat_minor": 2
}
