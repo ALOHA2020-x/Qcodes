{
 "cells": [
  {
   "cell_type": "markdown",
   "metadata": {},
   "source": [
    "# Simple Example of ParameterWithSetpoints\n",
    "This notebook provides an example for writing a simple driver with a parameter that has setpoints. Let's name this parameter that has setpoints as \"y\". Then, the setpoints, say \"x1, x2, x3 ..\", are the parameters on which the parameter \n",
    "\"y\" depends upon. Meaning \"y\" is a function of \"x1, x2, x3 ...\" where \"x1, x2, x3 ...\" are known as the setpoints of parameter \"y\".\n",
    "\n",
    "This is most likely to be useful for instruments that return arrays of results. In this notebook, we will show an example of this."
   ]
  },
  {
   "cell_type": "code",
   "execution_count": 1,
   "metadata": {},
   "outputs": [],
   "source": [
    "import numpy as np\n",
    "import os"
   ]
  },
  {
   "cell_type": "code",
   "execution_count": 2,
   "metadata": {},
   "outputs": [
    {
     "name": "stdout",
     "output_type": "stream",
     "text": [
      "Logging hadn't been started.\n",
      "Activating auto-logging. Current session state plus future input saved.\n",
      "Filename       : /home/vsts/.qcodes/logs/command_history.log\n",
      "Mode           : append\n",
      "Output logging : True\n",
      "Raw input log  : False\n",
      "Timestamping   : True\n",
      "State          : active\n"
     ]
    },
    {
     "name": "stdout",
     "output_type": "stream",
     "text": [
      "Qcodes Logfile : /home/vsts/.qcodes/logs/200319-23760-qcodes.log\n"
     ]
    }
   ],
   "source": [
    "from qcodes.dataset.plotting import plot_dataset\n",
    "from qcodes.utils.validators import Numbers, Arrays\n",
    "from qcodes.instrument.base import Instrument\n",
    "from qcodes.dataset.measurements import Measurement"
   ]
  },
  {
   "cell_type": "code",
   "execution_count": 3,
   "metadata": {},
   "outputs": [],
   "source": [
    "from qcodes.dataset.sqlite.database import initialise_or_create_database_at\n",
    "from qcodes.dataset.experiment_container import load_or_create_experiment"
   ]
  },
  {
   "cell_type": "code",
   "execution_count": 4,
   "metadata": {},
   "outputs": [],
   "source": [
    "from qcodes.instrument.parameter import ParameterWithSetpoints, Parameter\n",
    "from qcodes.instrument.parameter import expand_setpoints_helper"
   ]
  },
  {
   "cell_type": "markdown",
   "metadata": {},
   "source": [
    "First, we define a dummy instrument that returns something like a frequency spectrum starting from a frequency given by `f_start` to a frequency given by `f_stop` in `n_points` steps. \n",
    "\n",
    "The extra functionality of the `ParameterWithSetpoints` is implemented by giving it a reference to one or more parameters that acts like its setpoints. \n",
    "\n",
    "To setup a `ParameterWithSetpoints` we have to do two things in addition to what we do for a normal parameter.\n",
    "\n",
    "* Define one or more parameter for the setpoints (one for each dimension of the array and let the `ParameterWithSetpoints` know that these are the setpoints.\n",
    "* Give both the setpoints parameter(s) and the `ParameterWithSetpoints` a `validator` of type `Arrays` with a shape. The shapes should be such that the combined shape of the setpoints matches the shape of the `ParameterWithSetpoints`. Note that if the shape changes with the setting of the instrument, it can be defined by another parameter as shown below. "
   ]
  },
  {
   "cell_type": "code",
   "execution_count": 5,
   "metadata": {},
   "outputs": [],
   "source": [
    "class GeneratedSetPoints(Parameter):\n",
    "    \"\"\"\n",
    "    A parameter that generates a setpoint array from start, stop and num points\n",
    "    parameters.\n",
    "    \"\"\"\n",
    "    def __init__(self, startparam, stopparam, numpointsparam, *args, **kwargs):\n",
    "        super().__init__(*args, **kwargs)\n",
    "        self._startparam = startparam\n",
    "        self._stopparam = stopparam\n",
    "        self._numpointsparam = numpointsparam\n",
    "\n",
    "    def get_raw(self):\n",
    "        return np.linspace(self._startparam(), self._stopparam(),\n",
    "                              self._numpointsparam())\n",
    "\n",
    "class DummyArray(ParameterWithSetpoints):\n",
    "    \n",
    "    def get_raw(self):\n",
    "        npoints = self.root_instrument.n_points.get_latest()\n",
    "        return np.random.rand(npoints)\n",
    "    \n",
    "\n",
    "class DummySpectrumAnalyzer(Instrument):\n",
    "    \n",
    "    def __init__(self, name, **kwargs):\n",
    "        \n",
    "        super().__init__(name, **kwargs)\n",
    "            \n",
    "\n",
    "        self.add_parameter('f_start',\n",
    "                           initial_value=0,\n",
    "                           unit='Hz',\n",
    "                           label='f start',\n",
    "                           vals=Numbers(0,1e3),\n",
    "                           get_cmd=None,\n",
    "                           set_cmd=None)\n",
    "\n",
    "        self.add_parameter('f_stop',\n",
    "                           unit='Hz',\n",
    "                           label='f stop',\n",
    "                           vals=Numbers(1,1e3),\n",
    "                           get_cmd=None,\n",
    "                           set_cmd=None)\n",
    "\n",
    "        self.add_parameter('n_points',\n",
    "                           unit='',\n",
    "                           initial_value=10,\n",
    "                           vals=Numbers(1,1e3),\n",
    "                           get_cmd=None,\n",
    "                           set_cmd=None)\n",
    "        \n",
    "        self.add_parameter('freq_axis',\n",
    "                           unit='Hz',\n",
    "                           label='Freq Axis',\n",
    "                           parameter_class=GeneratedSetPoints,\n",
    "                           startparam=self.f_start,\n",
    "                           stopparam=self.f_stop,\n",
    "                           numpointsparam=self.n_points,\n",
    "                           vals=Arrays(shape=(self.n_points.get_latest,)))\n",
    "                           \n",
    "        self.add_parameter('spectrum',\n",
    "                   unit='dBm',\n",
    "                   setpoints=(self.freq_axis,),\n",
    "                   label='Spectrum',\n",
    "                   parameter_class=DummyArray,\n",
    "                   vals=Arrays(shape=(self.n_points.get_latest,)))\n",
    "                "
   ]
  },
  {
   "cell_type": "markdown",
   "metadata": {},
   "source": [
    "In the above example, the shape is defined by the parameter `n_points` that defines how many samples our `DummySpectrumAnalyzer` returns.\n",
    "\n",
    "This means that the validation will call the function to get `n_points` twice for each `get` of the parameter. This may be too slow, however, if you (as the driver-writer) can guarantee that the cached value for `n_points` will never be out of sync with the value stored in the instrument, `n_points` may be replaced by it's latest known value such that the `validator` reads:\n",
    "```python\n",
    "vals=Arrays(shape=(self.n_points.get_latest))\n",
    "```\n",
    "\n",
    "This avoids any additional call to the instrument. In the same way, the arguments to the `freq_axis` parameter that defines the start, stop and number of points can be replaced by their latest value if the instrument allows it.\n",
    "\n"
   ]
  },
  {
   "cell_type": "code",
   "execution_count": 6,
   "metadata": {},
   "outputs": [
    {
     "name": "stdout",
     "output_type": "stream",
     "text": [
      "\r",
      "0it [00:00, ?it/s]"
     ]
    },
    {
     "name": "stdout",
     "output_type": "stream",
     "text": [
      "\r",
      "Upgrading database; v0 -> v1: : 0it [00:00, ?it/s]"
     ]
    },
    {
     "name": "stdout",
     "output_type": "stream",
     "text": [
      "\r",
      "Upgrading database; v0 -> v1: : 0it [00:00, ?it/s]"
     ]
    },
    {
     "name": "stdout",
     "output_type": "stream",
     "text": [
      "\n",
      "\r",
      "  0%|          | 0/1 [00:00<?, ?it/s]"
     ]
    },
    {
     "name": "stdout",
     "output_type": "stream",
     "text": [
      "\r",
      "Upgrading database; v1 -> v2:   0%|          | 0/1 [00:00<?, ?it/s]"
     ]
    },
    {
     "name": "stdout",
     "output_type": "stream",
     "text": [
      "\r",
      "Upgrading database; v1 -> v2: 100%|██████████| 1/1 [00:00<00:00, 601.33it/s]"
     ]
    },
    {
     "name": "stdout",
     "output_type": "stream",
     "text": [
      "\n",
      "\r",
      "0it [00:00, ?it/s]"
     ]
    },
    {
     "name": "stdout",
     "output_type": "stream",
     "text": [
      "\r",
      "Upgrading database; v2 -> v3: : 0it [00:00, ?it/s]"
     ]
    },
    {
     "name": "stdout",
     "output_type": "stream",
     "text": [
      "\r",
      "Upgrading database; v2 -> v3: : 0it [00:00, ?it/s]"
     ]
    },
    {
     "name": "stdout",
     "output_type": "stream",
     "text": [
      "\n",
      "\r",
      "0it [00:00, ?it/s]"
     ]
    },
    {
     "name": "stdout",
     "output_type": "stream",
     "text": [
      "\r",
      "Upgrading database; v3 -> v4: : 0it [00:00, ?it/s]"
     ]
    },
    {
     "name": "stdout",
     "output_type": "stream",
     "text": [
      "\r",
      "Upgrading database; v3 -> v4: : 0it [00:00, ?it/s]"
     ]
    },
    {
     "name": "stdout",
     "output_type": "stream",
     "text": [
      "\n",
      "\r",
      "  0%|          | 0/1 [00:00<?, ?it/s]"
     ]
    },
    {
     "name": "stdout",
     "output_type": "stream",
     "text": [
      "\r",
      "Upgrading database; v4 -> v5:   0%|          | 0/1 [00:00<?, ?it/s]"
     ]
    },
    {
     "name": "stdout",
     "output_type": "stream",
     "text": [
      "\r",
      "Upgrading database; v4 -> v5: 100%|██████████| 1/1 [00:00<00:00, 611.95it/s]"
     ]
    },
    {
     "name": "stdout",
     "output_type": "stream",
     "text": [
      "\n",
      "\r",
      "0it [00:00, ?it/s]"
     ]
    },
    {
     "name": "stdout",
     "output_type": "stream",
     "text": [
      "\r",
      "Upgrading database; v5 -> v6: : 0it [00:00, ?it/s]"
     ]
    },
    {
     "name": "stdout",
     "output_type": "stream",
     "text": [
      "\r",
      "Upgrading database; v5 -> v6: : 0it [00:00, ?it/s]"
     ]
    },
    {
     "name": "stdout",
     "output_type": "stream",
     "text": [
      "\n",
      "\r",
      "  0%|          | 0/1 [00:00<?, ?it/s]"
     ]
    },
    {
     "name": "stdout",
     "output_type": "stream",
     "text": [
      "\r",
      "Upgrading database; v6 -> v7:   0%|          | 0/1 [00:00<?, ?it/s]"
     ]
    },
    {
     "name": "stdout",
     "output_type": "stream",
     "text": [
      "\r",
      "Upgrading database; v6 -> v7: 100%|██████████| 1/1 [00:00<00:00, 419.18it/s]"
     ]
    },
    {
     "name": "stdout",
     "output_type": "stream",
     "text": [
      "\n",
      "\r",
      "  0%|          | 0/1 [00:00<?, ?it/s]"
     ]
    },
    {
     "name": "stdout",
     "output_type": "stream",
     "text": [
      "\r",
      "Upgrading database; v7 -> v8:   0%|          | 0/1 [00:00<?, ?it/s]"
     ]
    },
    {
     "name": "stdout",
     "output_type": "stream",
     "text": [
      "\r",
      "Upgrading database; v7 -> v8: 100%|██████████| 1/1 [00:00<00:00, 677.48it/s]"
     ]
    },
    {
     "name": "stdout",
     "output_type": "stream",
     "text": [
      "\n",
      "\r",
      "  0%|          | 0/1 [00:00<?, ?it/s]"
     ]
    },
    {
     "name": "stdout",
     "output_type": "stream",
     "text": [
      "\r",
      "Upgrading database; v8 -> v9:   0%|          | 0/1 [00:00<?, ?it/s]"
     ]
    },
    {
     "name": "stdout",
     "output_type": "stream",
     "text": [
      "\r",
      "Upgrading database; v8 -> v9: 100%|██████████| 1/1 [00:00<00:00, 855.11it/s]"
     ]
    },
    {
     "name": "stdout",
     "output_type": "stream",
     "text": [
      "\n"
     ]
    },
    {
     "data": {
      "text/plain": [
       "tutorial_ParameterWithSetpoints#no sample#1@/home/vsts/work/1/s/docs/examples/Parameters/tutorial_paramter_with_setpoints.db\n",
       "----------------------------------------------------------------------------------------------------------------------------"
      ]
     },
     "execution_count": 6,
     "metadata": {},
     "output_type": "execute_result"
    }
   ],
   "source": [
    "tutorial_db_path = os.path.join(os.getcwd(), 'tutorial_paramter_with_setpoints.db')\n",
    "initialise_or_create_database_at(tutorial_db_path)\n",
    "load_or_create_experiment(experiment_name='tutorial_ParameterWithSetpoints', sample_name=\"no sample\")"
   ]
  },
  {
   "cell_type": "code",
   "execution_count": 7,
   "metadata": {},
   "outputs": [],
   "source": [
    "a = DummySpectrumAnalyzer('foobar')"
   ]
  },
  {
   "cell_type": "markdown",
   "metadata": {},
   "source": [
    "First we setup the limits of the spectrum"
   ]
  },
  {
   "cell_type": "code",
   "execution_count": 8,
   "metadata": {},
   "outputs": [],
   "source": [
    "a.f_start(0)\n",
    "a.f_stop(500)\n",
    "a.n_points(501)"
   ]
  },
  {
   "cell_type": "markdown",
   "metadata": {},
   "source": [
    "And we can grab the frequency axis"
   ]
  },
  {
   "cell_type": "code",
   "execution_count": 9,
   "metadata": {},
   "outputs": [
    {
     "data": {
      "text/plain": [
       "501"
      ]
     },
     "execution_count": 9,
     "metadata": {},
     "output_type": "execute_result"
    }
   ],
   "source": [
    "a.n_points()"
   ]
  },
  {
   "cell_type": "code",
   "execution_count": 10,
   "metadata": {
    "scrolled": false
   },
   "outputs": [
    {
     "data": {
      "text/plain": [
       "501"
      ]
     },
     "execution_count": 10,
     "metadata": {},
     "output_type": "execute_result"
    }
   ],
   "source": [
    "freq_axis = a.freq_axis()\n",
    "len(freq_axis)"
   ]
  },
  {
   "cell_type": "code",
   "execution_count": 11,
   "metadata": {},
   "outputs": [
    {
     "data": {
      "text/plain": [
       "array([0., 1., 2., 3., 4., 5., 6., 7., 8., 9.])"
      ]
     },
     "execution_count": 11,
     "metadata": {},
     "output_type": "execute_result"
    }
   ],
   "source": [
    "freq_axis[:10]"
   ]
  },
  {
   "cell_type": "markdown",
   "metadata": {},
   "source": [
    "As expected we get a result wit 501 points as we asked for an axis with 501 points. "
   ]
  },
  {
   "cell_type": "markdown",
   "metadata": {},
   "source": [
    "Above we have added a validator to the `freq_axis` parameter encoding the fact that this is an Array with `n_points`. Note that we do not have to supply the number of points as an integer but can supply a function that returns the valid number of points. This would normally be a QCoDeS parameter.\n",
    "\n",
    "This will be checked if we validate the output."
   ]
  },
  {
   "cell_type": "code",
   "execution_count": 12,
   "metadata": {},
   "outputs": [],
   "source": [
    "a.freq_axis.validate(a.freq_axis.get())"
   ]
  },
  {
   "cell_type": "markdown",
   "metadata": {},
   "source": [
    "Naturally, we can also get the spectrum. Getting the spectrum will automatically perform validation both for the shape of the parameter itself and the relation to the setpoint parameter(s)"
   ]
  },
  {
   "cell_type": "code",
   "execution_count": 13,
   "metadata": {
    "scrolled": true
   },
   "outputs": [
    {
     "data": {
      "text/plain": [
       "501"
      ]
     },
     "execution_count": 13,
     "metadata": {},
     "output_type": "execute_result"
    }
   ],
   "source": [
    "spectrum = a.spectrum.get()\n",
    "len(spectrum)"
   ]
  },
  {
   "cell_type": "markdown",
   "metadata": {},
   "source": [
    "When we validate a `ParameterWithSetpoints`, we automatically validate that the shape is consistent between the parameters and its setpoints. As well as validating the shape as above."
   ]
  },
  {
   "cell_type": "code",
   "execution_count": 14,
   "metadata": {},
   "outputs": [],
   "source": [
    "a.spectrum.validate(a.spectrum.get())"
   ]
  },
  {
   "cell_type": "markdown",
   "metadata": {},
   "source": [
    "The consistent shapes can be validated explicitly."
   ]
  },
  {
   "cell_type": "code",
   "execution_count": 15,
   "metadata": {},
   "outputs": [],
   "source": [
    "a.spectrum.validate_consistent_shape()"
   ]
  },
  {
   "cell_type": "markdown",
   "metadata": {},
   "source": [
    "We can inspect the setpoints of the spectrum."
   ]
  },
  {
   "cell_type": "code",
   "execution_count": 16,
   "metadata": {},
   "outputs": [
    {
     "data": {
      "text/plain": [
       "(<__main__.GeneratedSetPoints: freq_axis at 140201104965904>,)"
      ]
     },
     "execution_count": 16,
     "metadata": {},
     "output_type": "execute_result"
    }
   ],
   "source": [
    "a.spectrum.setpoints"
   ]
  },
  {
   "cell_type": "markdown",
   "metadata": {},
   "source": [
    "Or even change them."
   ]
  },
  {
   "cell_type": "code",
   "execution_count": 17,
   "metadata": {},
   "outputs": [],
   "source": [
    "a.spectrum.setpoints = (a.freq_axis,)"
   ]
  },
  {
   "cell_type": "markdown",
   "metadata": {},
   "source": [
    "## Measurement"
   ]
  },
  {
   "cell_type": "markdown",
   "metadata": {},
   "source": [
    "We can also directly consume the parameter in a measurement without defining the setpoints of the parameter again. The setpoints are automatically obtained from the definition of the `ParameterWithSetpoint` instance. "
   ]
  },
  {
   "cell_type": "code",
   "execution_count": 18,
   "metadata": {},
   "outputs": [
    {
     "name": "stdout",
     "output_type": "stream",
     "text": [
      "Starting experimental run with id: 1. \n"
     ]
    }
   ],
   "source": [
    "meas = Measurement()\n",
    "meas.register_parameter(a.spectrum)\n",
    "\n",
    "with meas.run() as datasaver:\n",
    "    datasaver.add_result((a.freq_axis, a.freq_axis()),\n",
    "                         (a.spectrum, a.spectrum()))\n",
    "    dataset = datasaver.dataset"
   ]
  },
  {
   "cell_type": "markdown",
   "metadata": {},
   "source": [
    "And plot it"
   ]
  },
  {
   "cell_type": "code",
   "execution_count": 19,
   "metadata": {},
   "outputs": [
    {
     "data": {
      "text/plain": [
       "([<matplotlib.axes._subplots.AxesSubplot at 0x7f831d0a1c10>], [None])"
      ]
     },
     "execution_count": 19,
     "metadata": {},
     "output_type": "execute_result"
    },
    {
     "data": {
      "image/png": "[encoded data removed]",
      "text/plain": [
       "<Figure size 432x288 with 1 Axes>"
      ]
     },
     "metadata": {
      "needs_background": "light"
     },
     "output_type": "display_data"
    }
   ],
   "source": [
    "plot_dataset(dataset)"
   ]
  },
  {
   "cell_type": "markdown",
   "metadata": {},
   "source": [
    "To reduce the amount of typing a simple convenience function is provided that will take a `ParameterWithSetpoints` and get both its values and the setpoints values and return them as tuples for direct insertion into the Dataset."
   ]
  },
  {
   "cell_type": "code",
   "execution_count": 20,
   "metadata": {
    "scrolled": true
   },
   "outputs": [
    {
     "data": {
      "text/plain": [
       "[(<__main__.GeneratedSetPoints: freq_axis at 140201104965904>,\n",
       "  array([  0.,   1.,   2.,   3.,   4.,   5.,   6.,   7.,   8.,   9.,  10.,\n",
       "          11.,  12.,  13.,  14.,  15.,  16.,  17.,  18.,  19.,  20.,  21.,\n",
       "          22.,  23.,  24.,  25.,  26.,  27.,  28.,  29.,  30.,  31.,  32.,\n",
       "          33.,  34.,  35.,  36.,  37.,  38.,  39.,  40.,  41.,  42.,  43.,\n",
       "          44.,  45.,  46.,  47.,  48.,  49.,  50.,  51.,  52.,  53.,  54.,\n",
       "          55.,  56.,  57.,  58.,  59.,  60.,  61.,  62.,  63.,  64.,  65.,\n",
       "          66.,  67.,  68.,  69.,  70.,  71.,  72.,  73.,  74.,  75.,  76.,\n",
       "          77.,  78.,  79.,  80.,  81.,  82.,  83.,  84.,  85.,  86.,  87.,\n",
       "          88.,  89.,  90.,  91.,  92.,  93.,  94.,  95.,  96.,  97.,  98.,\n",
       "          99., 100., 101., 102., 103., 104., 105., 106., 107., 108., 109.,\n",
       "         110., 111., 112., 113., 114., 115., 116., 117., 118., 119., 120.,\n",
       "         121., 122., 123., 124., 125., 126., 127., 128., 129., 130., 131.,\n",
       "         132., 133., 134., 135., 136., 137., 138., 139., 140., 141., 142.,\n",
       "         143., 144., 145., 146., 147., 148., 149., 150., 151., 152., 153.,\n",
       "         154., 155., 156., 157., 158., 159., 160., 161., 162., 163., 164.,\n",
       "         165., 166., 167., 168., 169., 170., 171., 172., 173., 174., 175.,\n",
       "         176., 177., 178., 179., 180., 181., 182., 183., 184., 185., 186.,\n",
       "         187., 188., 189., 190., 191., 192., 193., 194., 195., 196., 197.,\n",
       "         198., 199., 200., 201., 202., 203., 204., 205., 206., 207., 208.,\n",
       "         209., 210., 211., 212., 213., 214., 215., 216., 217., 218., 219.,\n",
       "         220., 221., 222., 223., 224., 225., 226., 227., 228., 229., 230.,\n",
       "         231., 232., 233., 234., 235., 236., 237., 238., 239., 240., 241.,\n",
       "         242., 243., 244., 245., 246., 247., 248., 249., 250., 251., 252.,\n",
       "         253., 254., 255., 256., 257., 258., 259., 260., 261., 262., 263.,\n",
       "         264., 265., 266., 267., 268., 269., 270., 271., 272., 273., 274.,\n",
       "         275., 276., 277., 278., 279., 280., 281., 282., 283., 284., 285.,\n",
       "         286., 287., 288., 289., 290., 291., 292., 293., 294., 295., 296.,\n",
       "         297., 298., 299., 300., 301., 302., 303., 304., 305., 306., 307.,\n",
       "         308., 309., 310., 311., 312., 313., 314., 315., 316., 317., 318.,\n",
       "         319., 320., 321., 322., 323., 324., 325., 326., 327., 328., 329.,\n",
       "         330., 331., 332., 333., 334., 335., 336., 337., 338., 339., 340.,\n",
       "         341., 342., 343., 344., 345., 346., 347., 348., 349., 350., 351.,\n",
       "         352., 353., 354., 355., 356., 357., 358., 359., 360., 361., 362.,\n",
       "         363., 364., 365., 366., 367., 368., 369., 370., 371., 372., 373.,\n",
       "         374., 375., 376., 377., 378., 379., 380., 381., 382., 383., 384.,\n",
       "         385., 386., 387., 388., 389., 390., 391., 392., 393., 394., 395.,\n",
       "         396., 397., 398., 399., 400., 401., 402., 403., 404., 405., 406.,\n",
       "         407., 408., 409., 410., 411., 412., 413., 414., 415., 416., 417.,\n",
       "         418., 419., 420., 421., 422., 423., 424., 425., 426., 427., 428.,\n",
       "         429., 430., 431., 432., 433., 434., 435., 436., 437., 438., 439.,\n",
       "         440., 441., 442., 443., 444., 445., 446., 447., 448., 449., 450.,\n",
       "         451., 452., 453., 454., 455., 456., 457., 458., 459., 460., 461.,\n",
       "         462., 463., 464., 465., 466., 467., 468., 469., 470., 471., 472.,\n",
       "         473., 474., 475., 476., 477., 478., 479., 480., 481., 482., 483.,\n",
       "         484., 485., 486., 487., 488., 489., 490., 491., 492., 493., 494.,\n",
       "         495., 496., 497., 498., 499., 500.])),\n",
       " (<__main__.DummyArray: spectrum at 140201094982416>,\n",
       "  array([5.93962741e-01, 6.37944232e-01, 5.18840664e-01, 7.24945515e-01,\n",
       "         9.18617770e-01, 9.24797242e-02, 2.51626349e-01, 4.15968017e-01,\n",
       "         9.18358576e-01, 3.82214399e-02, 2.82975855e-01, 1.60938583e-01,\n",
       "         2.35869952e-03, 6.93520971e-01, 7.48890360e-01, 4.49977605e-01,\n",
       "         4.78864574e-01, 4.39608234e-01, 3.81467754e-01, 2.02958024e-01,\n",
       "         3.12245529e-01, 7.31341995e-03, 7.27868450e-01, 9.42512031e-01,\n",
       "         1.98511111e-01, 3.71410229e-01, 1.50035064e-01, 3.37293324e-01,\n",
       "         7.06159821e-01, 2.80405383e-01, 5.99015078e-01, 5.23679937e-01,\n",
       "         3.29794178e-01, 8.89150647e-01, 6.52173488e-02, 1.26457143e-01,\n",
       "         7.50094605e-01, 6.14691459e-01, 6.80744773e-01, 9.73598470e-02,\n",
       "         9.05988552e-01, 2.15896409e-02, 4.74571242e-01, 5.98678776e-01,\n",
       "         9.64895933e-01, 3.79472612e-03, 1.94118675e-02, 1.34188043e-01,\n",
       "         9.12780625e-01, 5.23331924e-01, 1.59074498e-01, 2.35974955e-01,\n",
       "         8.75010209e-01, 6.04474217e-01, 2.01591349e-01, 2.78655951e-01,\n",
       "         1.23510721e-01, 5.81614357e-01, 1.31525844e-01, 5.12093520e-01,\n",
       "         5.36469556e-04, 8.41331151e-01, 6.23579564e-01, 3.05713810e-04,\n",
       "         8.26322503e-01, 4.64052905e-01, 3.52008935e-01, 3.88679708e-01,\n",
       "         9.58493044e-01, 1.08080629e-01, 6.77349055e-01, 3.82210198e-01,\n",
       "         9.86262040e-01, 8.39351767e-01, 7.69378691e-01, 3.53728731e-01,\n",
       "         2.13455914e-01, 6.56300266e-01, 7.39907660e-01, 8.40377769e-01,\n",
       "         2.02099443e-02, 3.18125829e-01, 9.70439544e-01, 4.17199779e-01,\n",
       "         5.45458531e-01, 2.73037612e-01, 1.16412371e-01, 9.82117965e-01,\n",
       "         5.85939813e-03, 8.34958829e-01, 5.11305515e-01, 6.83586081e-01,\n",
       "         9.84690026e-01, 3.12792571e-02, 5.89219107e-01, 4.86712257e-01,\n",
       "         9.62789033e-01, 4.79327059e-01, 1.75369315e-01, 6.50000601e-01,\n",
       "         5.28884700e-01, 5.81327134e-01, 5.06110473e-01, 8.21747884e-01,\n",
       "         1.75799655e-01, 5.86585262e-01, 7.77704236e-01, 8.59434065e-01,\n",
       "         1.73373274e-01, 8.06115440e-01, 5.73365849e-01, 9.25651380e-02,\n",
       "         2.89685480e-01, 5.01177623e-01, 2.04269977e-01, 7.29551790e-01,\n",
       "         5.83952755e-01, 6.25696128e-01, 1.59900770e-01, 4.71104279e-01,\n",
       "         7.20366780e-01, 1.52504342e-01, 7.11411128e-01, 4.74095553e-01,\n",
       "         1.98103431e-02, 7.15745515e-01, 5.24581201e-01, 6.93275996e-01,\n",
       "         9.43123678e-01, 6.99839392e-01, 7.23359758e-01, 9.30347761e-01,\n",
       "         1.64140969e-01, 3.87488865e-01, 4.89935849e-01, 4.15374304e-01,\n",
       "         8.77119818e-01, 1.06552537e-02, 3.43435504e-01, 9.61819178e-01,\n",
       "         9.50619022e-02, 5.08348981e-01, 3.14272051e-01, 5.15260194e-01,\n",
       "         3.34611248e-01, 7.79497596e-01, 2.17015690e-01, 8.69935647e-01,\n",
       "         8.64235122e-01, 6.63943629e-01, 8.43506846e-01, 8.97625797e-01,\n",
       "         8.06472992e-01, 1.50302079e-01, 2.87659549e-01, 3.72328703e-02,\n",
       "         8.53912954e-01, 8.07074168e-01, 9.58625576e-01, 6.81296662e-03,\n",
       "         5.89336782e-01, 9.46990607e-01, 4.78257722e-01, 3.51568966e-01,\n",
       "         1.41055774e-01, 4.87428713e-03, 5.84484542e-02, 5.77609096e-01,\n",
       "         7.31492051e-01, 5.96741642e-01, 5.12989409e-01, 4.80886694e-01,\n",
       "         3.84883624e-02, 9.59603509e-01, 5.02371069e-01, 4.85235392e-01,\n",
       "         4.51339311e-01, 6.87577814e-01, 6.25706773e-01, 7.91971694e-01,\n",
       "         4.52071933e-01, 3.95759191e-01, 3.66001713e-01, 2.42364308e-01,\n",
       "         3.03863088e-01, 1.45753942e-01, 8.84502834e-01, 7.27013545e-01,\n",
       "         9.54000651e-01, 6.03496932e-01, 4.99186440e-01, 8.22133104e-01,\n",
       "         7.60974733e-01, 1.08091486e-01, 7.84061816e-01, 8.05662872e-02,\n",
       "         1.14391540e-01, 7.05021064e-01, 8.11978107e-01, 5.74751143e-01,\n",
       "         1.02864902e-01, 7.81798884e-01, 3.28889620e-02, 8.14534830e-01,\n",
       "         6.15730567e-01, 5.40252929e-01, 3.69907931e-02, 3.05206010e-01,\n",
       "         8.96567313e-01, 6.74151010e-01, 7.09720718e-01, 1.31601636e-02,\n",
       "         1.75697288e-01, 6.70565056e-01, 3.56569823e-01, 4.50030500e-01,\n",
       "         4.59409402e-01, 2.22007546e-01, 5.26400664e-01, 9.99260561e-01,\n",
       "         7.53654702e-01, 6.06949917e-01, 3.32704479e-01, 3.02049482e-01,\n",
       "         6.73401948e-01, 8.59667195e-02, 3.01895557e-01, 6.41888575e-01,\n",
       "         4.81688491e-01, 5.59245116e-01, 9.51186508e-02, 3.21110610e-01,\n",
       "         6.67769848e-01, 1.56770618e-01, 4.80456749e-01, 1.96846690e-02,\n",
       "         9.65873777e-01, 9.81820904e-01, 7.05686791e-01, 3.69556697e-01,\n",
       "         3.17686983e-01, 2.96447179e-01, 4.45361422e-01, 8.93384371e-01,\n",
       "         2.17122868e-01, 2.32382194e-01, 2.20875499e-01, 1.27523270e-01,\n",
       "         5.77276436e-01, 6.12277047e-01, 8.12531762e-01, 4.40423714e-01,\n",
       "         6.02867347e-01, 6.52973919e-01, 8.11549397e-01, 3.51980299e-01,\n",
       "         4.57903853e-02, 6.80015343e-01, 8.11836980e-01, 5.17517909e-01,\n",
       "         5.67719421e-02, 4.48265764e-01, 1.02198364e-01, 7.09317619e-01,\n",
       "         1.91927394e-02, 4.99613847e-01, 6.07958424e-01, 7.56442854e-01,\n",
       "         5.64353533e-03, 3.80058785e-01, 5.71438058e-01, 6.31315675e-01,\n",
       "         2.32368356e-01, 5.12028984e-01, 4.46684133e-02, 5.59951542e-01,\n",
       "         4.52606822e-02, 9.22073093e-01, 3.05753251e-01, 7.45639669e-01,\n",
       "         7.70341386e-01, 2.38886959e-01, 7.90287764e-01, 2.27630616e-02,\n",
       "         1.14799650e-01, 8.62819217e-01, 3.96444749e-02, 6.74733596e-01,\n",
       "         3.31199175e-01, 8.60005781e-01, 7.91879229e-01, 8.83730018e-01,\n",
       "         2.95479998e-01, 8.73878955e-01, 7.39452784e-01, 6.08300290e-02,\n",
       "         3.07983881e-01, 9.33291425e-01, 6.37406664e-01, 8.52008084e-01,\n",
       "         5.71339168e-01, 3.67578946e-01, 4.82511429e-01, 9.36360446e-01,\n",
       "         2.86833596e-01, 1.63484481e-01, 2.02030830e-01, 2.02512281e-01,\n",
       "         8.08016291e-02, 9.36902735e-01, 8.51637698e-01, 3.75441786e-01,\n",
       "         8.79453790e-01, 1.74834893e-01, 8.93977615e-01, 1.48957280e-01,\n",
       "         1.45850139e-01, 8.97986760e-01, 6.39800335e-01, 6.85991284e-01,\n",
       "         7.02324108e-01, 8.20761759e-01, 4.44366525e-01, 5.20848902e-01,\n",
       "         1.59142448e-01, 8.92186107e-01, 7.88202786e-01, 5.49955727e-01,\n",
       "         7.59109731e-01, 8.06224417e-01, 2.63654335e-01, 7.60056438e-01,\n",
       "         6.94475896e-01, 1.27346364e-01, 7.72373741e-01, 6.12952158e-01,\n",
       "         3.75021542e-01, 2.36035284e-01, 3.23990507e-01, 8.69440198e-01,\n",
       "         6.21363216e-02, 2.71556856e-01, 4.19817712e-01, 2.98703263e-01,\n",
       "         6.24066169e-01, 6.36141883e-03, 3.23972377e-01, 9.86548890e-01,\n",
       "         4.26120173e-01, 3.93111167e-01, 8.31209457e-01, 5.37416663e-01,\n",
       "         9.93380524e-01, 5.89248433e-01, 5.17805307e-01, 4.33166280e-01,\n",
       "         6.61983135e-01, 6.39389427e-01, 7.55826903e-01, 6.59284404e-01,\n",
       "         9.11827547e-01, 3.75521974e-01, 3.32120303e-01, 3.84310767e-01,\n",
       "         3.65512178e-01, 6.20459803e-01, 4.24359957e-02, 2.55934659e-01,\n",
       "         9.30397833e-01, 6.90970882e-01, 9.24545526e-01, 5.78373283e-01,\n",
       "         1.56477011e-01, 2.14814848e-01, 5.56918041e-01, 8.07599377e-01,\n",
       "         3.93611341e-01, 9.85643092e-01, 3.79946286e-01, 4.06854207e-01,\n",
       "         3.05058320e-01, 8.06153180e-01, 7.78599537e-01, 5.52501538e-01,\n",
       "         8.89776891e-01, 2.21255032e-01, 6.19402505e-01, 3.80073254e-02,\n",
       "         2.20057825e-01, 7.17561327e-01, 9.53443962e-02, 4.95749744e-01,\n",
       "         4.27168087e-02, 3.24754552e-01, 1.82946110e-01, 8.78139253e-01,\n",
       "         3.17591154e-01, 5.75894246e-01, 7.07690412e-01, 1.63119583e-01,\n",
       "         8.44809131e-01, 8.15187299e-01, 8.07383034e-01, 8.76031084e-01,\n",
       "         5.34260933e-01, 6.69445225e-01, 8.96087243e-01, 4.53461552e-01,\n",
       "         9.56080536e-01, 5.06311281e-01, 4.79368439e-02, 7.26042621e-01,\n",
       "         8.10673249e-01, 8.22130960e-01, 9.66350427e-01, 5.68847068e-01,\n",
       "         3.51833986e-01, 2.11878126e-01, 7.92369940e-01, 9.44251807e-01,\n",
       "         2.28851880e-01, 6.06449515e-01, 7.61759200e-01, 9.96279631e-01,\n",
       "         9.69835494e-01, 8.60114427e-01, 9.68536495e-01, 7.91922949e-01,\n",
       "         2.72360123e-01, 5.15596390e-01, 7.84482697e-01, 6.35232477e-01,\n",
       "         1.21602552e-01, 8.36608309e-01, 1.33203989e-01, 6.81281634e-01,\n",
       "         4.79816924e-01, 3.59166925e-01, 2.70157446e-01, 3.17180406e-01,\n",
       "         5.21896380e-02, 9.69784601e-01, 7.20391176e-01, 4.85938042e-02,\n",
       "         7.15493334e-01, 6.27889206e-01, 9.18374611e-01, 7.48205697e-01,\n",
       "         7.74676893e-01, 3.95401336e-01, 4.34833200e-01, 6.48569739e-02,\n",
       "         1.14028982e-01, 7.65915949e-01, 7.66073663e-01, 2.48038158e-01,\n",
       "         8.02502251e-01, 8.16074729e-01, 7.91388172e-01, 2.15742115e-01,\n",
       "         8.68237387e-01, 1.52509425e-01, 1.02650618e-01, 7.34155276e-02,\n",
       "         3.10125161e-01, 7.69327213e-01, 3.58854651e-01, 8.64626582e-01,\n",
       "         4.15406067e-02, 1.41488182e-01, 8.93646673e-01, 9.55023246e-01,\n",
       "         3.70498598e-02, 3.22879923e-01, 5.59723195e-01, 8.81717680e-01,\n",
       "         6.07356153e-01, 3.25334749e-01, 6.92928606e-01, 2.12823365e-01,\n",
       "         7.98058543e-01, 5.71025767e-01, 5.91674370e-01, 9.56548431e-01,\n",
       "         3.57216128e-01, 1.85119679e-01, 5.03196458e-01, 2.93181607e-01,\n",
       "         7.94868041e-01, 3.54794924e-01, 3.09663168e-01, 7.23692451e-01,\n",
       "         1.78701968e-01, 5.81932957e-01, 8.80487672e-01, 8.22554807e-01,\n",
       "         1.69227632e-01, 3.96230266e-01, 6.19289356e-01, 6.54232489e-01,\n",
       "         7.58865920e-01]))]"
      ]
     },
     "execution_count": 20,
     "metadata": {},
     "output_type": "execute_result"
    }
   ],
   "source": [
    "expand_setpoints_helper(a.spectrum)"
   ]
  },
  {
   "cell_type": "code",
   "execution_count": 21,
   "metadata": {},
   "outputs": [
    {
     "name": "stdout",
     "output_type": "stream",
     "text": [
      "Starting experimental run with id: 2. \n"
     ]
    }
   ],
   "source": [
    "meas = Measurement()\n",
    "meas.register_parameter(a.spectrum)\n",
    "\n",
    "with meas.run() as datasaver:\n",
    "    datasaver.add_result(*expand_setpoints_helper(a.spectrum))\n",
    "    \n",
    "    dataid = datasaver.run_id"
   ]
  },
  {
   "cell_type": "code",
   "execution_count": null,
   "metadata": {},
   "outputs": [],
   "source": []
  }
 ],
 "metadata": {
  "kernelspec": {
   "display_name": "Python 3",
   "language": "python",
   "name": "python3"
  },
  "language_info": {
   "codemirror_mode": {
    "name": "ipython",
    "version": 3
   },
   "file_extension": ".py",
   "mimetype": "text/x-python",
   "name": "python",
   "nbconvert_exporter": "python",
   "pygments_lexer": "ipython3",
   "version": "3.7.5"
  },
  "toc": {
   "base_numbering": 1,
   "nav_menu": {},
   "number_sections": true,
   "sideBar": true,
   "skip_h1_title": false,
   "title_cell": "Table of Contents",
   "title_sidebar": "Contents",
   "toc_cell": false,
   "toc_position": {},
   "toc_section_display": true,
   "toc_window_display": false
  },
  "varInspector": {
   "cols": {
    "lenName": 16,
    "lenType": 16,
    "lenVar": 40
   },
   "kernels_config": {
    "python": {
     "delete_cmd_postfix": "",
     "delete_cmd_prefix": "del ",
     "library": "var_list.py",
     "varRefreshCmd": "print(var_dic_list())"
    },
    "r": {
     "delete_cmd_postfix": ") ",
     "delete_cmd_prefix": "rm(",
     "library": "var_list.r",
     "varRefreshCmd": "cat(var_dic_list()) "
    }
   },
   "types_to_exclude": [
    "module",
    "function",
    "builtin_function_or_method",
    "instance",
    "_Feature"
   ],
   "window_display": false
  }
 },
 "nbformat": 4,
 "nbformat_minor": 2
}
