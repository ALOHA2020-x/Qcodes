{
 "cells": [
  {
   "cell_type": "markdown",
   "metadata": {},
   "source": [
    "# Simple Example of ParameterWithSetpoints\n",
    "This notebook provides an example for writing a simple driver with a parameter that has setpoints. Let's name this parameter that has setpoints as \"y\". Then, the setpoints, say \"x1, x2, x3 ..\", are the parameters on which the parameter \n",
    "\"y\" depends upon. Meaning \"y\" is a function of \"x1, x2, x3 ...\" where \"x1, x2, x3 ...\" are known as the setpoints of parameter \"y\".\n",
    "\n",
    "This is most likely to be useful for instruments that return arrays of results. In this notebook, we will show an example of this."
   ]
  },
  {
   "cell_type": "code",
   "execution_count": 1,
   "metadata": {},
   "outputs": [],
   "source": [
    "import numpy as np\n",
    "import os"
   ]
  },
  {
   "cell_type": "code",
   "execution_count": 2,
   "metadata": {},
   "outputs": [
    {
     "name": "stdout",
     "output_type": "stream",
     "text": [
      "Logging hadn't been started.\n",
      "Activating auto-logging. Current session state plus future input saved.\n",
      "Filename       : /home/vsts/.qcodes/logs/command_history.log\n",
      "Mode           : append\n",
      "Output logging : True\n",
      "Raw input log  : False\n",
      "Timestamping   : True\n",
      "State          : active\n"
     ]
    },
    {
     "name": "stdout",
     "output_type": "stream",
     "text": [
      "Qcodes Logfile : /home/vsts/.qcodes/logs/200603-22269-qcodes.log\n"
     ]
    }
   ],
   "source": [
    "from qcodes.dataset.plotting import plot_dataset\n",
    "from qcodes.utils.validators import Numbers, Arrays\n",
    "from qcodes.instrument.base import Instrument\n",
    "from qcodes.dataset.measurements import Measurement"
   ]
  },
  {
   "cell_type": "code",
   "execution_count": 3,
   "metadata": {},
   "outputs": [],
   "source": [
    "from qcodes.dataset.sqlite.database import initialise_or_create_database_at\n",
    "from qcodes.dataset.experiment_container import load_or_create_experiment"
   ]
  },
  {
   "cell_type": "code",
   "execution_count": 4,
   "metadata": {},
   "outputs": [],
   "source": [
    "from qcodes.instrument.parameter import ParameterWithSetpoints, Parameter\n",
    "from qcodes.instrument.parameter import expand_setpoints_helper"
   ]
  },
  {
   "cell_type": "markdown",
   "metadata": {},
   "source": [
    "First, we define a dummy instrument that returns something like a frequency spectrum starting from a frequency given by `f_start` to a frequency given by `f_stop` in `n_points` steps. \n",
    "\n",
    "The extra functionality of the `ParameterWithSetpoints` is implemented by giving it a reference to one or more parameters that acts like its setpoints. \n",
    "\n",
    "To setup a `ParameterWithSetpoints` we have to do two things in addition to what we do for a normal parameter.\n",
    "\n",
    "* Define one or more parameter for the setpoints (one for each dimension of the array and let the `ParameterWithSetpoints` know that these are the setpoints.\n",
    "* Give both the setpoints parameter(s) and the `ParameterWithSetpoints` a `validator` of type `Arrays` with a shape. The shapes should be such that the combined shape of the setpoints matches the shape of the `ParameterWithSetpoints`. Note that if the shape changes with the setting of the instrument, it can be defined by another parameter as shown below. "
   ]
  },
  {
   "cell_type": "code",
   "execution_count": 5,
   "metadata": {},
   "outputs": [],
   "source": [
    "class GeneratedSetPoints(Parameter):\n",
    "    \"\"\"\n",
    "    A parameter that generates a setpoint array from start, stop and num points\n",
    "    parameters.\n",
    "    \"\"\"\n",
    "    def __init__(self, startparam, stopparam, numpointsparam, *args, **kwargs):\n",
    "        super().__init__(*args, **kwargs)\n",
    "        self._startparam = startparam\n",
    "        self._stopparam = stopparam\n",
    "        self._numpointsparam = numpointsparam\n",
    "\n",
    "    def get_raw(self):\n",
    "        return np.linspace(self._startparam(), self._stopparam(),\n",
    "                              self._numpointsparam())\n",
    "\n",
    "class DummyArray(ParameterWithSetpoints):\n",
    "    \n",
    "    def get_raw(self):\n",
    "        npoints = self.root_instrument.n_points.get_latest()\n",
    "        return np.random.rand(npoints)\n",
    "    \n",
    "\n",
    "class DummySpectrumAnalyzer(Instrument):\n",
    "    \n",
    "    def __init__(self, name, **kwargs):\n",
    "        \n",
    "        super().__init__(name, **kwargs)\n",
    "            \n",
    "\n",
    "        self.add_parameter('f_start',\n",
    "                           initial_value=0,\n",
    "                           unit='Hz',\n",
    "                           label='f start',\n",
    "                           vals=Numbers(0,1e3),\n",
    "                           get_cmd=None,\n",
    "                           set_cmd=None)\n",
    "\n",
    "        self.add_parameter('f_stop',\n",
    "                           unit='Hz',\n",
    "                           label='f stop',\n",
    "                           vals=Numbers(1,1e3),\n",
    "                           get_cmd=None,\n",
    "                           set_cmd=None)\n",
    "\n",
    "        self.add_parameter('n_points',\n",
    "                           unit='',\n",
    "                           initial_value=10,\n",
    "                           vals=Numbers(1,1e3),\n",
    "                           get_cmd=None,\n",
    "                           set_cmd=None)\n",
    "        \n",
    "        self.add_parameter('freq_axis',\n",
    "                           unit='Hz',\n",
    "                           label='Freq Axis',\n",
    "                           parameter_class=GeneratedSetPoints,\n",
    "                           startparam=self.f_start,\n",
    "                           stopparam=self.f_stop,\n",
    "                           numpointsparam=self.n_points,\n",
    "                           vals=Arrays(shape=(self.n_points.get_latest,)))\n",
    "                           \n",
    "        self.add_parameter('spectrum',\n",
    "                   unit='dBm',\n",
    "                   setpoints=(self.freq_axis,),\n",
    "                   label='Spectrum',\n",
    "                   parameter_class=DummyArray,\n",
    "                   vals=Arrays(shape=(self.n_points.get_latest,)))\n",
    "                "
   ]
  },
  {
   "cell_type": "markdown",
   "metadata": {},
   "source": [
    "In the above example, the shape is defined by the parameter `n_points` that defines how many samples our `DummySpectrumAnalyzer` returns.\n",
    "\n",
    "This means that the validation will call the function to get `n_points` twice for each `get` of the parameter. This may be too slow, however, if you (as the driver-writer) can guarantee that the cached value for `n_points` will never be out of sync with the value stored in the instrument, `n_points` may be replaced by it's latest known value such that the `validator` reads:\n",
    "```python\n",
    "vals=Arrays(shape=(self.n_points.get_latest))\n",
    "```\n",
    "\n",
    "This avoids any additional call to the instrument. In the same way, the arguments to the `freq_axis` parameter that defines the start, stop and number of points can be replaced by their latest value if the instrument allows it.\n",
    "\n"
   ]
  },
  {
   "cell_type": "code",
   "execution_count": 6,
   "metadata": {},
   "outputs": [
    {
     "name": "stdout",
     "output_type": "stream",
     "text": [
      "\r",
      "0it [00:00, ?it/s]"
     ]
    },
    {
     "name": "stdout",
     "output_type": "stream",
     "text": [
      "\r",
      "Upgrading database; v0 -> v1: : 0it [00:00, ?it/s]"
     ]
    },
    {
     "name": "stdout",
     "output_type": "stream",
     "text": [
      "\r",
      "Upgrading database; v0 -> v1: : 0it [00:00, ?it/s]"
     ]
    },
    {
     "name": "stdout",
     "output_type": "stream",
     "text": [
      "\n",
      "\r",
      "  0%|          | 0/1 [00:00<?, ?it/s]"
     ]
    },
    {
     "name": "stdout",
     "output_type": "stream",
     "text": [
      "\r",
      "Upgrading database; v1 -> v2:   0%|          | 0/1 [00:00<?, ?it/s]"
     ]
    },
    {
     "name": "stdout",
     "output_type": "stream",
     "text": [
      "\r",
      "Upgrading database; v1 -> v2: 100%|██████████| 1/1 [00:00<00:00, 822.74it/s]"
     ]
    },
    {
     "name": "stdout",
     "output_type": "stream",
     "text": [
      "\n",
      "\r",
      "0it [00:00, ?it/s]"
     ]
    },
    {
     "name": "stdout",
     "output_type": "stream",
     "text": [
      "\r",
      "Upgrading database; v2 -> v3: : 0it [00:00, ?it/s]"
     ]
    },
    {
     "name": "stdout",
     "output_type": "stream",
     "text": [
      "\r",
      "Upgrading database; v2 -> v3: : 0it [00:00, ?it/s]"
     ]
    },
    {
     "name": "stdout",
     "output_type": "stream",
     "text": [
      "\n",
      "\r",
      "0it [00:00, ?it/s]"
     ]
    },
    {
     "name": "stdout",
     "output_type": "stream",
     "text": [
      "\r",
      "Upgrading database; v3 -> v4: : 0it [00:00, ?it/s]"
     ]
    },
    {
     "name": "stdout",
     "output_type": "stream",
     "text": [
      "\r",
      "Upgrading database; v3 -> v4: : 0it [00:00, ?it/s]"
     ]
    },
    {
     "name": "stdout",
     "output_type": "stream",
     "text": [
      "\n",
      "\r",
      "  0%|          | 0/1 [00:00<?, ?it/s]"
     ]
    },
    {
     "name": "stdout",
     "output_type": "stream",
     "text": [
      "\r",
      "Upgrading database; v4 -> v5:   0%|          | 0/1 [00:00<?, ?it/s]"
     ]
    },
    {
     "name": "stdout",
     "output_type": "stream",
     "text": [
      "\r",
      "Upgrading database; v4 -> v5: 100%|██████████| 1/1 [00:00<00:00, 810.49it/s]"
     ]
    },
    {
     "name": "stdout",
     "output_type": "stream",
     "text": [
      "\n",
      "\r",
      "0it [00:00, ?it/s]"
     ]
    },
    {
     "name": "stdout",
     "output_type": "stream",
     "text": [
      "\r",
      "Upgrading database; v5 -> v6: : 0it [00:00, ?it/s]"
     ]
    },
    {
     "name": "stdout",
     "output_type": "stream",
     "text": [
      "\r",
      "Upgrading database; v5 -> v6: : 0it [00:00, ?it/s]"
     ]
    },
    {
     "name": "stdout",
     "output_type": "stream",
     "text": [
      "\n",
      "\r",
      "  0%|          | 0/1 [00:00<?, ?it/s]"
     ]
    },
    {
     "name": "stdout",
     "output_type": "stream",
     "text": [
      "\r",
      "Upgrading database; v6 -> v7:   0%|          | 0/1 [00:00<?, ?it/s]"
     ]
    },
    {
     "name": "stdout",
     "output_type": "stream",
     "text": [
      "\r",
      "Upgrading database; v6 -> v7: 100%|██████████| 1/1 [00:00<00:00, 376.51it/s]"
     ]
    },
    {
     "name": "stdout",
     "output_type": "stream",
     "text": [
      "\n",
      "\r",
      "  0%|          | 0/1 [00:00<?, ?it/s]"
     ]
    },
    {
     "name": "stdout",
     "output_type": "stream",
     "text": [
      "\r",
      "Upgrading database; v7 -> v8:   0%|          | 0/1 [00:00<?, ?it/s]"
     ]
    },
    {
     "name": "stdout",
     "output_type": "stream",
     "text": [
      "\r",
      "Upgrading database; v7 -> v8: 100%|██████████| 1/1 [00:00<00:00, 721.91it/s]"
     ]
    },
    {
     "name": "stdout",
     "output_type": "stream",
     "text": [
      "\n",
      "\r",
      "  0%|          | 0/1 [00:00<?, ?it/s]"
     ]
    },
    {
     "name": "stdout",
     "output_type": "stream",
     "text": [
      "\r",
      "Upgrading database; v8 -> v9:   0%|          | 0/1 [00:00<?, ?it/s]"
     ]
    },
    {
     "name": "stdout",
     "output_type": "stream",
     "text": [
      "\r",
      "Upgrading database; v8 -> v9: 100%|██████████| 1/1 [00:00<00:00, 850.77it/s]"
     ]
    },
    {
     "name": "stdout",
     "output_type": "stream",
     "text": [
      "\n"
     ]
    },
    {
     "data": {
      "text/plain": [
       "tutorial_ParameterWithSetpoints#no sample#1@/home/vsts/work/1/s/docs/examples/Parameters/tutorial_paramter_with_setpoints.db\n",
       "----------------------------------------------------------------------------------------------------------------------------"
      ]
     },
     "execution_count": 6,
     "metadata": {},
     "output_type": "execute_result"
    }
   ],
   "source": [
    "tutorial_db_path = os.path.join(os.getcwd(), 'tutorial_paramter_with_setpoints.db')\n",
    "initialise_or_create_database_at(tutorial_db_path)\n",
    "load_or_create_experiment(experiment_name='tutorial_ParameterWithSetpoints', sample_name=\"no sample\")"
   ]
  },
  {
   "cell_type": "code",
   "execution_count": 7,
   "metadata": {},
   "outputs": [],
   "source": [
    "a = DummySpectrumAnalyzer('foobar')"
   ]
  },
  {
   "cell_type": "markdown",
   "metadata": {},
   "source": [
    "First we setup the limits of the spectrum"
   ]
  },
  {
   "cell_type": "code",
   "execution_count": 8,
   "metadata": {},
   "outputs": [],
   "source": [
    "a.f_start(0)\n",
    "a.f_stop(500)\n",
    "a.n_points(501)"
   ]
  },
  {
   "cell_type": "markdown",
   "metadata": {},
   "source": [
    "And we can grab the frequency axis"
   ]
  },
  {
   "cell_type": "code",
   "execution_count": 9,
   "metadata": {},
   "outputs": [
    {
     "data": {
      "text/plain": [
       "501"
      ]
     },
     "execution_count": 9,
     "metadata": {},
     "output_type": "execute_result"
    }
   ],
   "source": [
    "a.n_points()"
   ]
  },
  {
   "cell_type": "code",
   "execution_count": 10,
   "metadata": {
    "scrolled": false
   },
   "outputs": [
    {
     "data": {
      "text/plain": [
       "501"
      ]
     },
     "execution_count": 10,
     "metadata": {},
     "output_type": "execute_result"
    }
   ],
   "source": [
    "freq_axis = a.freq_axis()\n",
    "len(freq_axis)"
   ]
  },
  {
   "cell_type": "code",
   "execution_count": 11,
   "metadata": {},
   "outputs": [
    {
     "data": {
      "text/plain": [
       "array([0., 1., 2., 3., 4., 5., 6., 7., 8., 9.])"
      ]
     },
     "execution_count": 11,
     "metadata": {},
     "output_type": "execute_result"
    }
   ],
   "source": [
    "freq_axis[:10]"
   ]
  },
  {
   "cell_type": "markdown",
   "metadata": {},
   "source": [
    "As expected we get a result wit 501 points as we asked for an axis with 501 points. "
   ]
  },
  {
   "cell_type": "markdown",
   "metadata": {},
   "source": [
    "Above we have added a validator to the `freq_axis` parameter encoding the fact that this is an Array with `n_points`. Note that we do not have to supply the number of points as an integer but can supply a function that returns the valid number of points. This would normally be a QCoDeS parameter.\n",
    "\n",
    "This will be checked if we validate the output."
   ]
  },
  {
   "cell_type": "code",
   "execution_count": 12,
   "metadata": {},
   "outputs": [],
   "source": [
    "a.freq_axis.validate(a.freq_axis.get())"
   ]
  },
  {
   "cell_type": "markdown",
   "metadata": {},
   "source": [
    "Naturally, we can also get the spectrum. Getting the spectrum will automatically perform validation both for the shape of the parameter itself and the relation to the setpoint parameter(s)"
   ]
  },
  {
   "cell_type": "code",
   "execution_count": 13,
   "metadata": {
    "scrolled": true
   },
   "outputs": [
    {
     "data": {
      "text/plain": [
       "501"
      ]
     },
     "execution_count": 13,
     "metadata": {},
     "output_type": "execute_result"
    }
   ],
   "source": [
    "spectrum = a.spectrum.get()\n",
    "len(spectrum)"
   ]
  },
  {
   "cell_type": "markdown",
   "metadata": {},
   "source": [
    "When we validate a `ParameterWithSetpoints`, we automatically validate that the shape is consistent between the parameters and its setpoints. As well as validating the shape as above."
   ]
  },
  {
   "cell_type": "code",
   "execution_count": 14,
   "metadata": {},
   "outputs": [],
   "source": [
    "a.spectrum.validate(a.spectrum.get())"
   ]
  },
  {
   "cell_type": "markdown",
   "metadata": {},
   "source": [
    "The consistent shapes can be validated explicitly."
   ]
  },
  {
   "cell_type": "code",
   "execution_count": 15,
   "metadata": {},
   "outputs": [],
   "source": [
    "a.spectrum.validate_consistent_shape()"
   ]
  },
  {
   "cell_type": "markdown",
   "metadata": {},
   "source": [
    "We can inspect the setpoints of the spectrum."
   ]
  },
  {
   "cell_type": "code",
   "execution_count": 16,
   "metadata": {},
   "outputs": [
    {
     "data": {
      "text/plain": [
       "(<__main__.GeneratedSetPoints: freq_axis at 139724300357968>,)"
      ]
     },
     "execution_count": 16,
     "metadata": {},
     "output_type": "execute_result"
    }
   ],
   "source": [
    "a.spectrum.setpoints"
   ]
  },
  {
   "cell_type": "markdown",
   "metadata": {},
   "source": [
    "Or even change them."
   ]
  },
  {
   "cell_type": "code",
   "execution_count": 17,
   "metadata": {},
   "outputs": [],
   "source": [
    "a.spectrum.setpoints = (a.freq_axis,)"
   ]
  },
  {
   "cell_type": "markdown",
   "metadata": {},
   "source": [
    "## Measurement"
   ]
  },
  {
   "cell_type": "markdown",
   "metadata": {},
   "source": [
    "We can also directly consume the parameter in a measurement without defining the setpoints of the parameter again. The setpoints are automatically obtained from the definition of the `ParameterWithSetpoint` instance. "
   ]
  },
  {
   "cell_type": "code",
   "execution_count": 18,
   "metadata": {},
   "outputs": [
    {
     "name": "stdout",
     "output_type": "stream",
     "text": [
      "Starting experimental run with id: 1. \n"
     ]
    }
   ],
   "source": [
    "meas = Measurement()\n",
    "meas.register_parameter(a.spectrum)\n",
    "\n",
    "with meas.run() as datasaver:\n",
    "    datasaver.add_result((a.freq_axis, a.freq_axis()),\n",
    "                         (a.spectrum, a.spectrum()))\n",
    "    dataset = datasaver.dataset"
   ]
  },
  {
   "cell_type": "markdown",
   "metadata": {},
   "source": [
    "And plot it"
   ]
  },
  {
   "cell_type": "code",
   "execution_count": 19,
   "metadata": {},
   "outputs": [
    {
     "data": {
      "text/plain": [
       "([<matplotlib.axes._subplots.AxesSubplot at 0x7f141873ccd0>], [None])"
      ]
     },
     "execution_count": 19,
     "metadata": {},
     "output_type": "execute_result"
    },
    {
     "data": {
      "image/png": "[encoded data removed]",
      "text/plain": [
       "<Figure size 432x288 with 1 Axes>"
      ]
     },
     "metadata": {
      "needs_background": "light"
     },
     "output_type": "display_data"
    }
   ],
   "source": [
    "plot_dataset(dataset)"
   ]
  },
  {
   "cell_type": "markdown",
   "metadata": {},
   "source": [
    "To reduce the amount of typing a simple convenience function is provided that will take a `ParameterWithSetpoints` and get both its values and the setpoints values and return them as tuples for direct insertion into the Dataset."
   ]
  },
  {
   "cell_type": "code",
   "execution_count": 20,
   "metadata": {
    "scrolled": true
   },
   "outputs": [
    {
     "data": {
      "text/plain": [
       "[(<__main__.GeneratedSetPoints: freq_axis at 139724300357968>,\n",
       "  array([  0.,   1.,   2.,   3.,   4.,   5.,   6.,   7.,   8.,   9.,  10.,\n",
       "          11.,  12.,  13.,  14.,  15.,  16.,  17.,  18.,  19.,  20.,  21.,\n",
       "          22.,  23.,  24.,  25.,  26.,  27.,  28.,  29.,  30.,  31.,  32.,\n",
       "          33.,  34.,  35.,  36.,  37.,  38.,  39.,  40.,  41.,  42.,  43.,\n",
       "          44.,  45.,  46.,  47.,  48.,  49.,  50.,  51.,  52.,  53.,  54.,\n",
       "          55.,  56.,  57.,  58.,  59.,  60.,  61.,  62.,  63.,  64.,  65.,\n",
       "          66.,  67.,  68.,  69.,  70.,  71.,  72.,  73.,  74.,  75.,  76.,\n",
       "          77.,  78.,  79.,  80.,  81.,  82.,  83.,  84.,  85.,  86.,  87.,\n",
       "          88.,  89.,  90.,  91.,  92.,  93.,  94.,  95.,  96.,  97.,  98.,\n",
       "          99., 100., 101., 102., 103., 104., 105., 106., 107., 108., 109.,\n",
       "         110., 111., 112., 113., 114., 115., 116., 117., 118., 119., 120.,\n",
       "         121., 122., 123., 124., 125., 126., 127., 128., 129., 130., 131.,\n",
       "         132., 133., 134., 135., 136., 137., 138., 139., 140., 141., 142.,\n",
       "         143., 144., 145., 146., 147., 148., 149., 150., 151., 152., 153.,\n",
       "         154., 155., 156., 157., 158., 159., 160., 161., 162., 163., 164.,\n",
       "         165., 166., 167., 168., 169., 170., 171., 172., 173., 174., 175.,\n",
       "         176., 177., 178., 179., 180., 181., 182., 183., 184., 185., 186.,\n",
       "         187., 188., 189., 190., 191., 192., 193., 194., 195., 196., 197.,\n",
       "         198., 199., 200., 201., 202., 203., 204., 205., 206., 207., 208.,\n",
       "         209., 210., 211., 212., 213., 214., 215., 216., 217., 218., 219.,\n",
       "         220., 221., 222., 223., 224., 225., 226., 227., 228., 229., 230.,\n",
       "         231., 232., 233., 234., 235., 236., 237., 238., 239., 240., 241.,\n",
       "         242., 243., 244., 245., 246., 247., 248., 249., 250., 251., 252.,\n",
       "         253., 254., 255., 256., 257., 258., 259., 260., 261., 262., 263.,\n",
       "         264., 265., 266., 267., 268., 269., 270., 271., 272., 273., 274.,\n",
       "         275., 276., 277., 278., 279., 280., 281., 282., 283., 284., 285.,\n",
       "         286., 287., 288., 289., 290., 291., 292., 293., 294., 295., 296.,\n",
       "         297., 298., 299., 300., 301., 302., 303., 304., 305., 306., 307.,\n",
       "         308., 309., 310., 311., 312., 313., 314., 315., 316., 317., 318.,\n",
       "         319., 320., 321., 322., 323., 324., 325., 326., 327., 328., 329.,\n",
       "         330., 331., 332., 333., 334., 335., 336., 337., 338., 339., 340.,\n",
       "         341., 342., 343., 344., 345., 346., 347., 348., 349., 350., 351.,\n",
       "         352., 353., 354., 355., 356., 357., 358., 359., 360., 361., 362.,\n",
       "         363., 364., 365., 366., 367., 368., 369., 370., 371., 372., 373.,\n",
       "         374., 375., 376., 377., 378., 379., 380., 381., 382., 383., 384.,\n",
       "         385., 386., 387., 388., 389., 390., 391., 392., 393., 394., 395.,\n",
       "         396., 397., 398., 399., 400., 401., 402., 403., 404., 405., 406.,\n",
       "         407., 408., 409., 410., 411., 412., 413., 414., 415., 416., 417.,\n",
       "         418., 419., 420., 421., 422., 423., 424., 425., 426., 427., 428.,\n",
       "         429., 430., 431., 432., 433., 434., 435., 436., 437., 438., 439.,\n",
       "         440., 441., 442., 443., 444., 445., 446., 447., 448., 449., 450.,\n",
       "         451., 452., 453., 454., 455., 456., 457., 458., 459., 460., 461.,\n",
       "         462., 463., 464., 465., 466., 467., 468., 469., 470., 471., 472.,\n",
       "         473., 474., 475., 476., 477., 478., 479., 480., 481., 482., 483.,\n",
       "         484., 485., 486., 487., 488., 489., 490., 491., 492., 493., 494.,\n",
       "         495., 496., 497., 498., 499., 500.])),\n",
       " (<__main__.DummyArray: spectrum at 139724303701072>,\n",
       "  array([9.84519043e-01, 3.11518772e-01, 5.88884520e-01, 8.81400777e-01,\n",
       "         7.50674771e-01, 3.26489803e-01, 4.24894252e-01, 6.91115879e-01,\n",
       "         7.45755448e-01, 7.15020886e-02, 4.25618025e-01, 9.03249344e-01,\n",
       "         8.45631987e-02, 2.07637844e-01, 6.59174180e-01, 3.34442612e-01,\n",
       "         5.11434986e-01, 6.13139982e-01, 1.51637644e-01, 6.23865491e-02,\n",
       "         4.68630629e-01, 2.56850958e-01, 3.84336061e-02, 4.46654932e-01,\n",
       "         5.50087930e-01, 1.53952600e-01, 8.32918868e-02, 2.17980511e-01,\n",
       "         4.28292145e-01, 4.29806520e-01, 7.61832709e-01, 5.60198725e-02,\n",
       "         8.53556184e-01, 7.85187739e-01, 3.03355344e-01, 1.34775038e-01,\n",
       "         4.85149637e-01, 4.91297273e-01, 2.72878819e-01, 8.35819205e-01,\n",
       "         2.88151102e-01, 4.05480380e-01, 5.64819226e-01, 5.19827442e-01,\n",
       "         3.80204707e-01, 2.76194838e-01, 9.21087715e-01, 4.86287291e-01,\n",
       "         1.32741100e-01, 1.33198372e-01, 4.90946381e-01, 8.80146995e-01,\n",
       "         5.78933433e-01, 6.99255102e-01, 6.48925783e-01, 2.18301151e-01,\n",
       "         9.27601041e-01, 8.41423558e-01, 1.76224634e-01, 9.04657656e-01,\n",
       "         1.34244369e-01, 8.23391706e-01, 8.56295322e-01, 7.69279928e-01,\n",
       "         6.13835744e-01, 1.33287330e-01, 3.55070297e-01, 3.23598731e-01,\n",
       "         7.78214300e-01, 7.03887703e-01, 2.08130078e-01, 8.60750115e-01,\n",
       "         3.41269882e-02, 5.85087682e-02, 6.53267852e-01, 1.70625483e-01,\n",
       "         4.25858706e-01, 1.10992233e-01, 9.01536444e-01, 2.06837060e-02,\n",
       "         1.86997655e-01, 1.77188098e-01, 7.15825768e-01, 3.58583925e-01,\n",
       "         3.32260536e-01, 7.18567533e-01, 3.91887533e-03, 7.12170399e-01,\n",
       "         6.14072447e-01, 8.42098626e-01, 8.87019649e-01, 8.13877566e-01,\n",
       "         4.91826318e-01, 2.63462308e-02, 5.13670333e-01, 3.95657563e-01,\n",
       "         9.11609186e-02, 2.13695734e-02, 9.42434020e-01, 7.15557305e-01,\n",
       "         1.40740292e-01, 4.72463532e-01, 3.74412106e-01, 4.16915854e-02,\n",
       "         2.84072687e-01, 5.58578023e-01, 4.98741797e-02, 9.93785275e-01,\n",
       "         9.10192981e-01, 5.04700473e-01, 5.92596155e-01, 5.78196477e-02,\n",
       "         5.86281507e-02, 5.42729802e-01, 4.76387390e-01, 4.08592886e-01,\n",
       "         9.39084164e-01, 5.33708978e-01, 6.07735670e-01, 2.61559714e-01,\n",
       "         5.78978286e-01, 5.49885540e-01, 6.28241453e-01, 4.19253522e-01,\n",
       "         1.49904507e-01, 8.28377394e-01, 9.21900707e-01, 6.24298253e-01,\n",
       "         6.24771077e-01, 4.40525862e-01, 4.50055627e-01, 5.41440176e-01,\n",
       "         1.48987431e-01, 6.74829900e-01, 6.96512900e-01, 3.84434085e-01,\n",
       "         2.68914327e-01, 6.62826454e-01, 1.83336919e-01, 5.95812394e-01,\n",
       "         4.90457233e-01, 8.99266812e-01, 8.87682943e-01, 5.85965236e-01,\n",
       "         2.70966500e-01, 4.07929953e-02, 7.19824376e-01, 6.31469548e-01,\n",
       "         9.70222500e-01, 4.44318141e-01, 3.02533743e-01, 6.09227026e-01,\n",
       "         4.40435774e-01, 7.01991544e-01, 6.00462378e-01, 4.03760270e-01,\n",
       "         3.17807898e-01, 3.46632903e-01, 7.78444637e-01, 8.62442862e-01,\n",
       "         1.59689538e-01, 2.66808545e-01, 1.62601964e-01, 1.80243425e-01,\n",
       "         2.93823712e-01, 6.68586825e-01, 6.10086249e-01, 9.84533174e-01,\n",
       "         5.99346897e-01, 8.95779185e-01, 1.05565320e-01, 8.32489455e-01,\n",
       "         3.20660616e-01, 3.44804996e-01, 3.27196403e-01, 3.20163714e-01,\n",
       "         8.66659061e-01, 5.29585384e-01, 5.09384081e-02, 7.22228626e-01,\n",
       "         6.37377119e-01, 6.24504346e-01, 9.27895902e-01, 2.19343131e-01,\n",
       "         2.28412934e-01, 6.06180863e-01, 3.68816410e-01, 5.15661935e-01,\n",
       "         7.51997490e-01, 1.85222519e-01, 4.10684735e-03, 9.65156840e-01,\n",
       "         2.69471648e-01, 9.80987402e-01, 4.17464626e-01, 4.20996679e-01,\n",
       "         2.76494730e-01, 4.44068950e-01, 4.01009991e-02, 5.25140832e-02,\n",
       "         5.11031926e-01, 7.99623281e-01, 1.66291931e-01, 6.28192393e-01,\n",
       "         8.43960777e-01, 3.36500483e-01, 1.42866882e-01, 4.64338130e-01,\n",
       "         6.81152100e-01, 2.01888771e-01, 6.26087917e-01, 9.99695313e-01,\n",
       "         8.01451682e-01, 1.72092015e-02, 6.74204244e-01, 9.21798441e-01,\n",
       "         7.70406817e-02, 2.66302585e-01, 7.71403896e-01, 5.60506611e-01,\n",
       "         8.59879956e-01, 8.64285039e-01, 5.92876918e-01, 9.84796966e-01,\n",
       "         5.02021258e-01, 7.61502693e-01, 3.33810519e-01, 4.16972747e-01,\n",
       "         2.92966699e-02, 6.58082049e-01, 8.89273756e-01, 4.71767635e-01,\n",
       "         8.04205870e-01, 1.59558611e-01, 9.14689597e-01, 9.36287332e-01,\n",
       "         8.42042803e-01, 2.02085754e-01, 1.86879134e-01, 5.88810712e-01,\n",
       "         2.63417263e-01, 7.96713927e-01, 8.20732104e-01, 9.74595423e-02,\n",
       "         2.64333161e-01, 3.91674811e-01, 4.59864969e-01, 9.32388866e-02,\n",
       "         7.90331697e-01, 7.41572851e-01, 9.59654012e-01, 3.92750092e-01,\n",
       "         4.05331288e-01, 2.61774780e-01, 2.62722348e-01, 8.45292204e-01,\n",
       "         5.10470072e-01, 6.52360059e-01, 9.49326462e-01, 9.26549267e-01,\n",
       "         7.70985644e-01, 4.96068720e-01, 4.71660904e-01, 7.71242495e-01,\n",
       "         7.36928035e-01, 5.70027927e-01, 4.95914606e-01, 1.74751572e-01,\n",
       "         9.76663424e-01, 9.29804882e-01, 6.11081779e-01, 2.39442139e-01,\n",
       "         1.17645001e-01, 5.41291402e-01, 3.02742924e-01, 2.61271714e-01,\n",
       "         3.62779358e-01, 7.62455793e-01, 7.44564357e-01, 3.01619123e-01,\n",
       "         9.51393827e-01, 7.53422400e-01, 9.19010751e-01, 4.20388872e-01,\n",
       "         3.86878412e-01, 5.93769351e-03, 8.62973599e-01, 4.36541224e-01,\n",
       "         7.35557070e-01, 9.34483276e-01, 6.69747553e-01, 3.57115982e-01,\n",
       "         4.93398832e-01, 5.87358033e-01, 9.32117839e-01, 1.30433706e-01,\n",
       "         7.85354805e-01, 9.89333358e-01, 7.83304812e-01, 6.78878330e-01,\n",
       "         2.49184202e-01, 8.69911471e-01, 9.46252440e-01, 5.99370429e-01,\n",
       "         9.13412308e-01, 1.51568138e-01, 5.20096247e-01, 9.70263647e-01,\n",
       "         6.30184971e-01, 8.54703419e-01, 5.93624457e-01, 5.41004406e-01,\n",
       "         3.82558133e-01, 9.11091712e-01, 7.49194361e-01, 8.34341727e-01,\n",
       "         7.54895203e-01, 7.70153177e-01, 4.62655648e-01, 8.64267996e-01,\n",
       "         8.24198154e-01, 7.69437797e-01, 2.68702656e-01, 5.45855479e-01,\n",
       "         2.57420166e-01, 5.69907271e-02, 1.76135670e-01, 6.35961474e-01,\n",
       "         7.57135653e-01, 2.61030744e-01, 3.06423008e-02, 8.73147626e-02,\n",
       "         1.37438074e-01, 5.93696189e-01, 5.99977438e-01, 5.21605927e-01,\n",
       "         5.74481907e-01, 4.29868998e-01, 5.66238664e-01, 2.64686813e-01,\n",
       "         5.08689365e-01, 6.94312487e-01, 1.93147667e-01, 2.56661921e-01,\n",
       "         4.36982117e-01, 9.40446514e-01, 3.36663849e-01, 2.53774454e-01,\n",
       "         5.49473361e-01, 3.81065919e-01, 6.55966704e-01, 9.25952570e-01,\n",
       "         9.41375057e-01, 6.87233775e-01, 2.59842840e-01, 9.46492130e-01,\n",
       "         7.51986206e-01, 7.76217501e-01, 8.33834796e-01, 9.99509691e-01,\n",
       "         1.67317690e-01, 8.91055405e-01, 5.15305079e-01, 9.67513022e-01,\n",
       "         1.35332259e-01, 7.06835671e-01, 9.40311622e-01, 6.83210109e-01,\n",
       "         3.28224383e-01, 7.82739871e-01, 5.49319876e-04, 4.44602490e-01,\n",
       "         7.78260072e-01, 9.11771421e-01, 5.31152605e-01, 1.30045849e-01,\n",
       "         1.49516500e-01, 3.90539479e-02, 3.34599933e-01, 8.64098119e-01,\n",
       "         2.46924386e-02, 6.92255091e-02, 5.49950587e-02, 2.87331557e-03,\n",
       "         9.24055122e-01, 9.27550698e-02, 3.04896474e-01, 4.82260609e-01,\n",
       "         8.97426914e-01, 9.43674504e-01, 5.02181570e-01, 2.85455339e-01,\n",
       "         7.83392301e-01, 6.02566150e-01, 1.79255335e-01, 6.73033229e-01,\n",
       "         9.37400388e-01, 1.49427511e-01, 5.05738151e-01, 4.16434509e-01,\n",
       "         7.90242369e-01, 2.78318361e-01, 8.91396014e-02, 7.70532436e-01,\n",
       "         6.32425558e-01, 6.43278819e-01, 1.34537445e-01, 2.40355204e-01,\n",
       "         2.32231567e-01, 8.14475489e-01, 2.35275646e-01, 2.75694085e-01,\n",
       "         5.61707476e-01, 7.74065258e-01, 9.81452015e-01, 4.92383103e-01,\n",
       "         9.32927021e-01, 7.49855940e-01, 1.49797084e-01, 9.05591366e-01,\n",
       "         6.89785083e-01, 1.27535741e-01, 5.05735211e-01, 7.57983825e-01,\n",
       "         7.15491861e-01, 9.42983482e-01, 2.16093231e-01, 8.49752937e-01,\n",
       "         7.25692708e-01, 3.66901112e-01, 2.21219897e-01, 7.28247859e-01,\n",
       "         8.14236896e-01, 9.81943475e-01, 7.34953248e-01, 9.68579501e-01,\n",
       "         1.84641481e-01, 5.48580960e-01, 4.20662984e-01, 8.93215506e-01,\n",
       "         6.76203797e-01, 1.42642521e-01, 1.06253458e-01, 5.78775298e-01,\n",
       "         8.33546177e-01, 3.53234765e-01, 4.05399310e-01, 5.56447005e-02,\n",
       "         3.57826759e-01, 5.92639443e-02, 6.73150895e-01, 8.82979129e-01,\n",
       "         7.35736027e-01, 3.71806453e-01, 6.02231408e-01, 5.56127043e-01,\n",
       "         9.53838261e-01, 6.85968600e-01, 8.47672735e-02, 4.25333351e-01,\n",
       "         9.90529357e-01, 3.53409898e-01, 1.32870780e-02, 4.66070204e-01,\n",
       "         7.75962038e-02, 1.51089122e-01, 5.71163829e-01, 3.50859930e-01,\n",
       "         8.38402719e-01, 7.31098396e-01, 5.60427699e-01, 4.78170995e-02,\n",
       "         3.16009848e-01, 3.24612048e-02, 5.64749712e-01, 8.65978926e-01,\n",
       "         2.66233010e-01, 5.08717478e-02, 9.01803767e-01, 3.44732921e-01,\n",
       "         6.71857587e-01, 9.68899464e-01, 4.31423520e-01, 8.85436221e-03,\n",
       "         6.74705463e-01, 1.46340992e-01, 5.10561833e-01, 8.88188548e-01,\n",
       "         2.71586402e-02, 1.88958248e-01, 2.64231372e-01, 5.68895803e-01,\n",
       "         2.32831376e-01, 9.21989896e-01, 7.87436722e-01, 5.48689301e-01,\n",
       "         1.19503340e-01, 5.87546448e-01, 4.34312747e-01, 7.35801947e-01,\n",
       "         3.80879436e-01]))]"
      ]
     },
     "execution_count": 20,
     "metadata": {},
     "output_type": "execute_result"
    }
   ],
   "source": [
    "expand_setpoints_helper(a.spectrum)"
   ]
  },
  {
   "cell_type": "code",
   "execution_count": 21,
   "metadata": {},
   "outputs": [
    {
     "name": "stdout",
     "output_type": "stream",
     "text": [
      "Starting experimental run with id: 2. \n"
     ]
    }
   ],
   "source": [
    "meas = Measurement()\n",
    "meas.register_parameter(a.spectrum)\n",
    "\n",
    "with meas.run() as datasaver:\n",
    "    datasaver.add_result(*expand_setpoints_helper(a.spectrum))\n",
    "    \n",
    "    dataid = datasaver.run_id"
   ]
  },
  {
   "cell_type": "code",
   "execution_count": null,
   "metadata": {},
   "outputs": [],
   "source": []
  }
 ],
 "metadata": {
  "kernelspec": {
   "display_name": "Python 3",
   "language": "python",
   "name": "python3"
  },
  "language_info": {
   "codemirror_mode": {
    "name": "ipython",
    "version": 3
   },
   "file_extension": ".py",
   "mimetype": "text/x-python",
   "name": "python",
   "nbconvert_exporter": "python",
   "pygments_lexer": "ipython3",
   "version": "3.7.7"
  },
  "toc": {
   "base_numbering": 1,
   "nav_menu": {},
   "number_sections": true,
   "sideBar": true,
   "skip_h1_title": false,
   "title_cell": "Table of Contents",
   "title_sidebar": "Contents",
   "toc_cell": false,
   "toc_position": {},
   "toc_section_display": true,
   "toc_window_display": false
  },
  "varInspector": {
   "cols": {
    "lenName": 16,
    "lenType": 16,
    "lenVar": 40
   },
   "kernels_config": {
    "python": {
     "delete_cmd_postfix": "",
     "delete_cmd_prefix": "del ",
     "library": "var_list.py",
     "varRefreshCmd": "print(var_dic_list())"
    },
    "r": {
     "delete_cmd_postfix": ") ",
     "delete_cmd_prefix": "rm(",
     "library": "var_list.r",
     "varRefreshCmd": "cat(var_dic_list()) "
    }
   },
   "types_to_exclude": [
    "module",
    "function",
    "builtin_function_or_method",
    "instance",
    "_Feature"
   ],
   "window_display": false
  }
 },
 "nbformat": 4,
 "nbformat_minor": 2
}
