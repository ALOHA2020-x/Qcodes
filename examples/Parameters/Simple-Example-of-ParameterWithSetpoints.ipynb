{
 "cells": [
  {
   "cell_type": "markdown",
   "metadata": {},
   "source": [
    "# Simple Example of ParameterWithSetpoints\n",
    "This notebook provides an example for writing a simple driver with a parameter that has setpoints. Let's name this parameter that has setpoints as \"y\". Then, the setpoints, say \"x1, x2, x3 ..\", are the parameters on which the parameter \n",
    "\"y\" depends upon. Meaning \"y\" is a function of \"x1, x2, x3 ...\" where \"x1, x2, x3 ...\" are known as the setpoints of parameter \"y\".\n",
    "\n",
    "This is most likely to be useful for instruments that return arrays of results. In this notebook, we will show an example of this."
   ]
  },
  {
   "cell_type": "code",
   "execution_count": 1,
   "metadata": {
    "execution": {
     "iopub.execute_input": "2020-09-18T09:57:58.563233Z",
     "iopub.status.busy": "2020-09-18T09:57:58.562676Z",
     "iopub.status.idle": "2020-09-18T09:57:58.656219Z",
     "shell.execute_reply": "2020-09-18T09:57:58.655461Z"
    }
   },
   "outputs": [],
   "source": [
    "import numpy as np\n",
    "import os"
   ]
  },
  {
   "cell_type": "code",
   "execution_count": 2,
   "metadata": {
    "execution": {
     "iopub.execute_input": "2020-09-18T09:57:58.660237Z",
     "iopub.status.busy": "2020-09-18T09:57:58.659755Z",
     "iopub.status.idle": "2020-09-18T09:57:59.719081Z",
     "shell.execute_reply": "2020-09-18T09:57:59.718236Z"
    }
   },
   "outputs": [
    {
     "name": "stdout",
     "output_type": "stream",
     "text": [
      "Logging hadn't been started.\n",
      "Activating auto-logging. Current session state plus future input saved.\n",
      "Filename       : /home/vsts/.qcodes/logs/command_history.log\n",
      "Mode           : append\n",
      "Output logging : True\n",
      "Raw input log  : False\n",
      "Timestamping   : True\n",
      "State          : active\n"
     ]
    },
    {
     "name": "stdout",
     "output_type": "stream",
     "text": [
      "Qcodes Logfile : /home/vsts/.qcodes/logs/200918-22255-qcodes.log\n"
     ]
    }
   ],
   "source": [
    "from qcodes.dataset.plotting import plot_dataset\n",
    "from qcodes.utils.validators import Numbers, Arrays\n",
    "from qcodes.instrument.base import Instrument\n",
    "from qcodes.dataset.measurements import Measurement"
   ]
  },
  {
   "cell_type": "code",
   "execution_count": 3,
   "metadata": {
    "execution": {
     "iopub.execute_input": "2020-09-18T09:57:59.723316Z",
     "iopub.status.busy": "2020-09-18T09:57:59.722753Z",
     "iopub.status.idle": "2020-09-18T09:57:59.726042Z",
     "shell.execute_reply": "2020-09-18T09:57:59.726506Z"
    }
   },
   "outputs": [],
   "source": [
    "from qcodes.dataset.sqlite.database import initialise_or_create_database_at\n",
    "from qcodes.dataset.experiment_container import load_or_create_experiment"
   ]
  },
  {
   "cell_type": "code",
   "execution_count": 4,
   "metadata": {
    "execution": {
     "iopub.execute_input": "2020-09-18T09:57:59.730836Z",
     "iopub.status.busy": "2020-09-18T09:57:59.730160Z",
     "iopub.status.idle": "2020-09-18T09:57:59.733816Z",
     "shell.execute_reply": "2020-09-18T09:57:59.733383Z"
    }
   },
   "outputs": [],
   "source": [
    "from qcodes.instrument.parameter import ParameterWithSetpoints, Parameter\n",
    "from qcodes.instrument.parameter import expand_setpoints_helper"
   ]
  },
  {
   "cell_type": "markdown",
   "metadata": {},
   "source": [
    "First, we define a dummy instrument that returns something like a frequency spectrum starting from a frequency given by `f_start` to a frequency given by `f_stop` in `n_points` steps. \n",
    "\n",
    "The extra functionality of the `ParameterWithSetpoints` is implemented by giving it a reference to one or more parameters that acts like its setpoints. \n",
    "\n",
    "To setup a `ParameterWithSetpoints` we have to do two things in addition to what we do for a normal parameter.\n",
    "\n",
    "* Define one or more parameter for the setpoints (one for each dimension of the array and let the `ParameterWithSetpoints` know that these are the setpoints.\n",
    "* Give both the setpoints parameter(s) and the `ParameterWithSetpoints` a `validator` of type `Arrays` with a shape. The shapes should be such that the combined shape of the setpoints matches the shape of the `ParameterWithSetpoints`. Note that if the shape changes with the setting of the instrument, it can be defined by another parameter as shown below. "
   ]
  },
  {
   "cell_type": "code",
   "execution_count": 5,
   "metadata": {
    "execution": {
     "iopub.execute_input": "2020-09-18T09:57:59.744857Z",
     "iopub.status.busy": "2020-09-18T09:57:59.744148Z",
     "iopub.status.idle": "2020-09-18T09:57:59.747706Z",
     "shell.execute_reply": "2020-09-18T09:57:59.748241Z"
    }
   },
   "outputs": [],
   "source": [
    "class GeneratedSetPoints(Parameter):\n",
    "    \"\"\"\n",
    "    A parameter that generates a setpoint array from start, stop and num points\n",
    "    parameters.\n",
    "    \"\"\"\n",
    "    def __init__(self, startparam, stopparam, numpointsparam, *args, **kwargs):\n",
    "        super().__init__(*args, **kwargs)\n",
    "        self._startparam = startparam\n",
    "        self._stopparam = stopparam\n",
    "        self._numpointsparam = numpointsparam\n",
    "\n",
    "    def get_raw(self):\n",
    "        return np.linspace(self._startparam(), self._stopparam(),\n",
    "                              self._numpointsparam())\n",
    "\n",
    "class DummyArray(ParameterWithSetpoints):\n",
    "    \n",
    "    def get_raw(self):\n",
    "        npoints = self.root_instrument.n_points.get_latest()\n",
    "        return np.random.rand(npoints)\n",
    "    \n",
    "\n",
    "class DummySpectrumAnalyzer(Instrument):\n",
    "    \n",
    "    def __init__(self, name, **kwargs):\n",
    "        \n",
    "        super().__init__(name, **kwargs)\n",
    "            \n",
    "\n",
    "        self.add_parameter('f_start',\n",
    "                           initial_value=0,\n",
    "                           unit='Hz',\n",
    "                           label='f start',\n",
    "                           vals=Numbers(0,1e3),\n",
    "                           get_cmd=None,\n",
    "                           set_cmd=None)\n",
    "\n",
    "        self.add_parameter('f_stop',\n",
    "                           unit='Hz',\n",
    "                           label='f stop',\n",
    "                           vals=Numbers(1,1e3),\n",
    "                           get_cmd=None,\n",
    "                           set_cmd=None)\n",
    "\n",
    "        self.add_parameter('n_points',\n",
    "                           unit='',\n",
    "                           initial_value=10,\n",
    "                           vals=Numbers(1,1e3),\n",
    "                           get_cmd=None,\n",
    "                           set_cmd=None)\n",
    "        \n",
    "        self.add_parameter('freq_axis',\n",
    "                           unit='Hz',\n",
    "                           label='Freq Axis',\n",
    "                           parameter_class=GeneratedSetPoints,\n",
    "                           startparam=self.f_start,\n",
    "                           stopparam=self.f_stop,\n",
    "                           numpointsparam=self.n_points,\n",
    "                           vals=Arrays(shape=(self.n_points.get_latest,)))\n",
    "                           \n",
    "        self.add_parameter('spectrum',\n",
    "                   unit='dBm',\n",
    "                   setpoints=(self.freq_axis,),\n",
    "                   label='Spectrum',\n",
    "                   parameter_class=DummyArray,\n",
    "                   vals=Arrays(shape=(self.n_points.get_latest,)))\n",
    "                "
   ]
  },
  {
   "cell_type": "markdown",
   "metadata": {},
   "source": [
    "In the above example, the shape is defined by the parameter `n_points` that defines how many samples our `DummySpectrumAnalyzer` returns.\n",
    "\n",
    "This means that the validation will call the function to get `n_points` twice for each `get` of the parameter. This may be too slow, however, if you (as the driver-writer) can guarantee that the cached value for `n_points` will never be out of sync with the value stored in the instrument, `n_points` may be replaced by it's latest known value such that the `validator` reads:\n",
    "```python\n",
    "vals=Arrays(shape=(self.n_points.get_latest))\n",
    "```\n",
    "\n",
    "This avoids any additional call to the instrument. In the same way, the arguments to the `freq_axis` parameter that defines the start, stop and number of points can be replaced by their latest value if the instrument allows it.\n",
    "\n"
   ]
  },
  {
   "cell_type": "code",
   "execution_count": 6,
   "metadata": {
    "execution": {
     "iopub.execute_input": "2020-09-18T09:57:59.752466Z",
     "iopub.status.busy": "2020-09-18T09:57:59.751897Z",
     "iopub.status.idle": "2020-09-18T09:57:59.835319Z",
     "shell.execute_reply": "2020-09-18T09:57:59.834763Z"
    }
   },
   "outputs": [
    {
     "name": "stdout",
     "output_type": "stream",
     "text": [
      "\r",
      "0it [00:00, ?it/s]"
     ]
    },
    {
     "name": "stdout",
     "output_type": "stream",
     "text": [
      "\r",
      "Upgrading database; v0 -> v1: : 0it [00:00, ?it/s]"
     ]
    },
    {
     "name": "stdout",
     "output_type": "stream",
     "text": [
      "\r",
      "Upgrading database; v0 -> v1: : 0it [00:00, ?it/s]"
     ]
    },
    {
     "name": "stdout",
     "output_type": "stream",
     "text": [
      "\n",
      "\r",
      "  0%|          | 0/1 [00:00<?, ?it/s]"
     ]
    },
    {
     "name": "stdout",
     "output_type": "stream",
     "text": [
      "\r",
      "Upgrading database; v1 -> v2:   0%|          | 0/1 [00:00<?, ?it/s]"
     ]
    },
    {
     "name": "stdout",
     "output_type": "stream",
     "text": [
      "\r",
      "Upgrading database; v1 -> v2: 100%|██████████| 1/1 [00:00<00:00, 399.65it/s]"
     ]
    },
    {
     "name": "stdout",
     "output_type": "stream",
     "text": [
      "\n",
      "\r",
      "0it [00:00, ?it/s]"
     ]
    },
    {
     "name": "stdout",
     "output_type": "stream",
     "text": [
      "\r",
      "Upgrading database; v2 -> v3: : 0it [00:00, ?it/s]"
     ]
    },
    {
     "name": "stdout",
     "output_type": "stream",
     "text": [
      "\r",
      "Upgrading database; v2 -> v3: : 0it [00:00, ?it/s]"
     ]
    },
    {
     "name": "stdout",
     "output_type": "stream",
     "text": [
      "\n",
      "\r",
      "0it [00:00, ?it/s]"
     ]
    },
    {
     "name": "stdout",
     "output_type": "stream",
     "text": [
      "\r",
      "Upgrading database; v3 -> v4: : 0it [00:00, ?it/s]"
     ]
    },
    {
     "name": "stdout",
     "output_type": "stream",
     "text": [
      "\r",
      "Upgrading database; v3 -> v4: : 0it [00:00, ?it/s]"
     ]
    },
    {
     "name": "stdout",
     "output_type": "stream",
     "text": [
      "\n",
      "\r",
      "  0%|          | 0/1 [00:00<?, ?it/s]"
     ]
    },
    {
     "name": "stdout",
     "output_type": "stream",
     "text": [
      "\r",
      "Upgrading database; v4 -> v5:   0%|          | 0/1 [00:00<?, ?it/s]"
     ]
    },
    {
     "name": "stdout",
     "output_type": "stream",
     "text": [
      "\r",
      "Upgrading database; v4 -> v5: 100%|██████████| 1/1 [00:00<00:00, 387.72it/s]"
     ]
    },
    {
     "name": "stdout",
     "output_type": "stream",
     "text": [
      "\n",
      "\r",
      "0it [00:00, ?it/s]"
     ]
    },
    {
     "name": "stdout",
     "output_type": "stream",
     "text": [
      "\r",
      "Upgrading database; v5 -> v6: : 0it [00:00, ?it/s]"
     ]
    },
    {
     "name": "stdout",
     "output_type": "stream",
     "text": [
      "\r",
      "Upgrading database; v5 -> v6: : 0it [00:00, ?it/s]"
     ]
    },
    {
     "name": "stdout",
     "output_type": "stream",
     "text": [
      "\n",
      "\r",
      "  0%|          | 0/1 [00:00<?, ?it/s]"
     ]
    },
    {
     "name": "stdout",
     "output_type": "stream",
     "text": [
      "\r",
      "Upgrading database; v6 -> v7:   0%|          | 0/1 [00:00<?, ?it/s]"
     ]
    },
    {
     "name": "stdout",
     "output_type": "stream",
     "text": [
      "\r",
      "Upgrading database; v6 -> v7: 100%|██████████| 1/1 [00:00<00:00, 359.29it/s]"
     ]
    },
    {
     "name": "stdout",
     "output_type": "stream",
     "text": [
      "\n",
      "\r",
      "  0%|          | 0/1 [00:00<?, ?it/s]"
     ]
    },
    {
     "name": "stdout",
     "output_type": "stream",
     "text": [
      "\r",
      "Upgrading database; v7 -> v8:   0%|          | 0/1 [00:00<?, ?it/s]"
     ]
    },
    {
     "name": "stdout",
     "output_type": "stream",
     "text": [
      "\r",
      "Upgrading database; v7 -> v8: 100%|██████████| 1/1 [00:00<00:00, 847.51it/s]"
     ]
    },
    {
     "name": "stdout",
     "output_type": "stream",
     "text": [
      "\n",
      "\r",
      "  0%|          | 0/1 [00:00<?, ?it/s]"
     ]
    },
    {
     "name": "stdout",
     "output_type": "stream",
     "text": [
      "\r",
      "Upgrading database; v8 -> v9:   0%|          | 0/1 [00:00<?, ?it/s]"
     ]
    },
    {
     "name": "stdout",
     "output_type": "stream",
     "text": [
      "\r",
      "Upgrading database; v8 -> v9: 100%|██████████| 1/1 [00:00<00:00, 454.67it/s]"
     ]
    },
    {
     "name": "stdout",
     "output_type": "stream",
     "text": [
      "\n"
     ]
    },
    {
     "data": {
      "text/plain": [
       "tutorial_ParameterWithSetpoints#no sample#1@/home/vsts/work/1/s/docs/examples/Parameters/tutorial_paramter_with_setpoints.db\n",
       "----------------------------------------------------------------------------------------------------------------------------"
      ]
     },
     "execution_count": 1,
     "metadata": {},
     "output_type": "execute_result"
    }
   ],
   "source": [
    "tutorial_db_path = os.path.join(os.getcwd(), 'tutorial_paramter_with_setpoints.db')\n",
    "initialise_or_create_database_at(tutorial_db_path)\n",
    "load_or_create_experiment(experiment_name='tutorial_ParameterWithSetpoints', sample_name=\"no sample\")"
   ]
  },
  {
   "cell_type": "code",
   "execution_count": 7,
   "metadata": {
    "execution": {
     "iopub.execute_input": "2020-09-18T09:57:59.839069Z",
     "iopub.status.busy": "2020-09-18T09:57:59.838415Z",
     "iopub.status.idle": "2020-09-18T09:57:59.842212Z",
     "shell.execute_reply": "2020-09-18T09:57:59.841655Z"
    }
   },
   "outputs": [],
   "source": [
    "a = DummySpectrumAnalyzer('foobar')"
   ]
  },
  {
   "cell_type": "markdown",
   "metadata": {},
   "source": [
    "First we setup the limits of the spectrum"
   ]
  },
  {
   "cell_type": "code",
   "execution_count": 8,
   "metadata": {
    "execution": {
     "iopub.execute_input": "2020-09-18T09:57:59.845377Z",
     "iopub.status.busy": "2020-09-18T09:57:59.844812Z",
     "iopub.status.idle": "2020-09-18T09:57:59.848344Z",
     "shell.execute_reply": "2020-09-18T09:57:59.847799Z"
    }
   },
   "outputs": [],
   "source": [
    "a.f_start(0)\n",
    "a.f_stop(500)\n",
    "a.n_points(501)"
   ]
  },
  {
   "cell_type": "markdown",
   "metadata": {},
   "source": [
    "And we can grab the frequency axis"
   ]
  },
  {
   "cell_type": "code",
   "execution_count": 9,
   "metadata": {
    "execution": {
     "iopub.execute_input": "2020-09-18T09:57:59.852877Z",
     "iopub.status.busy": "2020-09-18T09:57:59.852334Z",
     "iopub.status.idle": "2020-09-18T09:57:59.855284Z",
     "shell.execute_reply": "2020-09-18T09:57:59.855786Z"
    }
   },
   "outputs": [
    {
     "data": {
      "text/plain": [
       "501"
      ]
     },
     "execution_count": 1,
     "metadata": {},
     "output_type": "execute_result"
    }
   ],
   "source": [
    "a.n_points()"
   ]
  },
  {
   "cell_type": "code",
   "execution_count": 10,
   "metadata": {
    "execution": {
     "iopub.execute_input": "2020-09-18T09:57:59.860720Z",
     "iopub.status.busy": "2020-09-18T09:57:59.860167Z",
     "iopub.status.idle": "2020-09-18T09:57:59.862539Z",
     "shell.execute_reply": "2020-09-18T09:57:59.863022Z"
    },
    "scrolled": false
   },
   "outputs": [
    {
     "data": {
      "text/plain": [
       "501"
      ]
     },
     "execution_count": 1,
     "metadata": {},
     "output_type": "execute_result"
    }
   ],
   "source": [
    "freq_axis = a.freq_axis()\n",
    "len(freq_axis)"
   ]
  },
  {
   "cell_type": "code",
   "execution_count": 11,
   "metadata": {
    "execution": {
     "iopub.execute_input": "2020-09-18T09:57:59.867621Z",
     "iopub.status.busy": "2020-09-18T09:57:59.866647Z",
     "iopub.status.idle": "2020-09-18T09:57:59.870138Z",
     "shell.execute_reply": "2020-09-18T09:57:59.870795Z"
    }
   },
   "outputs": [
    {
     "data": {
      "text/plain": [
       "array([0., 1., 2., 3., 4., 5., 6., 7., 8., 9.])"
      ]
     },
     "execution_count": 1,
     "metadata": {},
     "output_type": "execute_result"
    }
   ],
   "source": [
    "freq_axis[:10]"
   ]
  },
  {
   "cell_type": "markdown",
   "metadata": {},
   "source": [
    "As expected we get a result wit 501 points as we asked for an axis with 501 points. "
   ]
  },
  {
   "cell_type": "markdown",
   "metadata": {},
   "source": [
    "Above we have added a validator to the `freq_axis` parameter encoding the fact that this is an Array with `n_points`. Note that we do not have to supply the number of points as an integer but can supply a function that returns the valid number of points. This would normally be a QCoDeS parameter.\n",
    "\n",
    "This will be checked if we validate the output."
   ]
  },
  {
   "cell_type": "code",
   "execution_count": 12,
   "metadata": {
    "execution": {
     "iopub.execute_input": "2020-09-18T09:57:59.874229Z",
     "iopub.status.busy": "2020-09-18T09:57:59.873700Z",
     "iopub.status.idle": "2020-09-18T09:57:59.876233Z",
     "shell.execute_reply": "2020-09-18T09:57:59.875751Z"
    }
   },
   "outputs": [],
   "source": [
    "a.freq_axis.validate(a.freq_axis.get())"
   ]
  },
  {
   "cell_type": "markdown",
   "metadata": {},
   "source": [
    "Naturally, we can also get the spectrum. Getting the spectrum will automatically perform validation both for the shape of the parameter itself and the relation to the setpoint parameter(s)"
   ]
  },
  {
   "cell_type": "code",
   "execution_count": 13,
   "metadata": {
    "execution": {
     "iopub.execute_input": "2020-09-18T09:57:59.880020Z",
     "iopub.status.busy": "2020-09-18T09:57:59.878682Z",
     "iopub.status.idle": "2020-09-18T09:57:59.882935Z",
     "shell.execute_reply": "2020-09-18T09:57:59.882348Z"
    },
    "scrolled": true
   },
   "outputs": [
    {
     "data": {
      "text/plain": [
       "501"
      ]
     },
     "execution_count": 1,
     "metadata": {},
     "output_type": "execute_result"
    }
   ],
   "source": [
    "spectrum = a.spectrum.get()\n",
    "len(spectrum)"
   ]
  },
  {
   "cell_type": "markdown",
   "metadata": {},
   "source": [
    "When we validate a `ParameterWithSetpoints`, we automatically validate that the shape is consistent between the parameters and its setpoints. As well as validating the shape as above."
   ]
  },
  {
   "cell_type": "code",
   "execution_count": 14,
   "metadata": {
    "execution": {
     "iopub.execute_input": "2020-09-18T09:57:59.887118Z",
     "iopub.status.busy": "2020-09-18T09:57:59.886580Z",
     "iopub.status.idle": "2020-09-18T09:57:59.889154Z",
     "shell.execute_reply": "2020-09-18T09:57:59.888475Z"
    }
   },
   "outputs": [],
   "source": [
    "a.spectrum.validate(a.spectrum.get())"
   ]
  },
  {
   "cell_type": "markdown",
   "metadata": {},
   "source": [
    "The consistent shapes can be validated explicitly."
   ]
  },
  {
   "cell_type": "code",
   "execution_count": 15,
   "metadata": {
    "execution": {
     "iopub.execute_input": "2020-09-18T09:57:59.893487Z",
     "iopub.status.busy": "2020-09-18T09:57:59.892489Z",
     "iopub.status.idle": "2020-09-18T09:57:59.894274Z",
     "shell.execute_reply": "2020-09-18T09:57:59.894750Z"
    }
   },
   "outputs": [],
   "source": [
    "a.spectrum.validate_consistent_shape()"
   ]
  },
  {
   "cell_type": "markdown",
   "metadata": {},
   "source": [
    "We can inspect the setpoints of the spectrum."
   ]
  },
  {
   "cell_type": "code",
   "execution_count": 16,
   "metadata": {
    "execution": {
     "iopub.execute_input": "2020-09-18T09:57:59.898553Z",
     "iopub.status.busy": "2020-09-18T09:57:59.897522Z",
     "iopub.status.idle": "2020-09-18T09:57:59.900688Z",
     "shell.execute_reply": "2020-09-18T09:57:59.901292Z"
    }
   },
   "outputs": [
    {
     "data": {
      "text/plain": [
       "(<__main__.GeneratedSetPoints: freq_axis at 140472630072976>,)"
      ]
     },
     "execution_count": 1,
     "metadata": {},
     "output_type": "execute_result"
    }
   ],
   "source": [
    "a.spectrum.setpoints"
   ]
  },
  {
   "cell_type": "markdown",
   "metadata": {},
   "source": [
    "Or even change them."
   ]
  },
  {
   "cell_type": "code",
   "execution_count": 17,
   "metadata": {
    "execution": {
     "iopub.execute_input": "2020-09-18T09:57:59.905374Z",
     "iopub.status.busy": "2020-09-18T09:57:59.904451Z",
     "iopub.status.idle": "2020-09-18T09:57:59.906042Z",
     "shell.execute_reply": "2020-09-18T09:57:59.906560Z"
    }
   },
   "outputs": [],
   "source": [
    "a.spectrum.setpoints = (a.freq_axis,)"
   ]
  },
  {
   "cell_type": "markdown",
   "metadata": {},
   "source": [
    "## Measurement"
   ]
  },
  {
   "cell_type": "markdown",
   "metadata": {},
   "source": [
    "We can also directly consume the parameter in a measurement without defining the setpoints of the parameter again. The setpoints are automatically obtained from the definition of the `ParameterWithSetpoint` instance. "
   ]
  },
  {
   "cell_type": "code",
   "execution_count": 18,
   "metadata": {
    "execution": {
     "iopub.execute_input": "2020-09-18T09:57:59.910681Z",
     "iopub.status.busy": "2020-09-18T09:57:59.910198Z",
     "iopub.status.idle": "2020-09-18T09:57:59.925304Z",
     "shell.execute_reply": "2020-09-18T09:57:59.924818Z"
    }
   },
   "outputs": [
    {
     "name": "stdout",
     "output_type": "stream",
     "text": [
      "Starting experimental run with id: 1. \n"
     ]
    }
   ],
   "source": [
    "meas = Measurement()\n",
    "meas.register_parameter(a.spectrum)\n",
    "\n",
    "with meas.run() as datasaver:\n",
    "    datasaver.add_result((a.freq_axis, a.freq_axis()),\n",
    "                         (a.spectrum, a.spectrum()))\n",
    "    dataset = datasaver.dataset"
   ]
  },
  {
   "cell_type": "markdown",
   "metadata": {},
   "source": [
    "And plot it"
   ]
  },
  {
   "cell_type": "code",
   "execution_count": 19,
   "metadata": {
    "execution": {
     "iopub.execute_input": "2020-09-18T09:57:59.928457Z",
     "iopub.status.busy": "2020-09-18T09:57:59.927940Z",
     "iopub.status.idle": "2020-09-18T09:58:00.314337Z",
     "shell.execute_reply": "2020-09-18T09:58:00.314708Z"
    }
   },
   "outputs": [
    {
     "data": {
      "text/plain": [
       "([<matplotlib.axes._subplots.AxesSubplot at 0x7fc255cf6410>], [None])"
      ]
     },
     "execution_count": 1,
     "metadata": {},
     "output_type": "execute_result"
    },
    {
     "data": {
      "image/png": "[encoded data removed]",
      "text/plain": [
       "<Figure size 432x288 with 1 Axes>"
      ]
     },
     "metadata": {
      "needs_background": "light"
     },
     "output_type": "display_data"
    }
   ],
   "source": [
    "plot_dataset(dataset)"
   ]
  },
  {
   "cell_type": "markdown",
   "metadata": {},
   "source": [
    "To reduce the amount of typing a simple convenience function is provided that will take a `ParameterWithSetpoints` and get both its values and the setpoints values and return them as tuples for direct insertion into the Dataset."
   ]
  },
  {
   "cell_type": "code",
   "execution_count": 20,
   "metadata": {
    "execution": {
     "iopub.execute_input": "2020-09-18T09:58:00.328179Z",
     "iopub.status.busy": "2020-09-18T09:58:00.327440Z",
     "iopub.status.idle": "2020-09-18T09:58:00.331735Z",
     "shell.execute_reply": "2020-09-18T09:58:00.330899Z"
    },
    "scrolled": true
   },
   "outputs": [
    {
     "data": {
      "text/plain": [
       "[(<__main__.GeneratedSetPoints: freq_axis at 140472630072976>,\n",
       "  array([  0.,   1.,   2.,   3.,   4.,   5.,   6.,   7.,   8.,   9.,  10.,\n",
       "          11.,  12.,  13.,  14.,  15.,  16.,  17.,  18.,  19.,  20.,  21.,\n",
       "          22.,  23.,  24.,  25.,  26.,  27.,  28.,  29.,  30.,  31.,  32.,\n",
       "          33.,  34.,  35.,  36.,  37.,  38.,  39.,  40.,  41.,  42.,  43.,\n",
       "          44.,  45.,  46.,  47.,  48.,  49.,  50.,  51.,  52.,  53.,  54.,\n",
       "          55.,  56.,  57.,  58.,  59.,  60.,  61.,  62.,  63.,  64.,  65.,\n",
       "          66.,  67.,  68.,  69.,  70.,  71.,  72.,  73.,  74.,  75.,  76.,\n",
       "          77.,  78.,  79.,  80.,  81.,  82.,  83.,  84.,  85.,  86.,  87.,\n",
       "          88.,  89.,  90.,  91.,  92.,  93.,  94.,  95.,  96.,  97.,  98.,\n",
       "          99., 100., 101., 102., 103., 104., 105., 106., 107., 108., 109.,\n",
       "         110., 111., 112., 113., 114., 115., 116., 117., 118., 119., 120.,\n",
       "         121., 122., 123., 124., 125., 126., 127., 128., 129., 130., 131.,\n",
       "         132., 133., 134., 135., 136., 137., 138., 139., 140., 141., 142.,\n",
       "         143., 144., 145., 146., 147., 148., 149., 150., 151., 152., 153.,\n",
       "         154., 155., 156., 157., 158., 159., 160., 161., 162., 163., 164.,\n",
       "         165., 166., 167., 168., 169., 170., 171., 172., 173., 174., 175.,\n",
       "         176., 177., 178., 179., 180., 181., 182., 183., 184., 185., 186.,\n",
       "         187., 188., 189., 190., 191., 192., 193., 194., 195., 196., 197.,\n",
       "         198., 199., 200., 201., 202., 203., 204., 205., 206., 207., 208.,\n",
       "         209., 210., 211., 212., 213., 214., 215., 216., 217., 218., 219.,\n",
       "         220., 221., 222., 223., 224., 225., 226., 227., 228., 229., 230.,\n",
       "         231., 232., 233., 234., 235., 236., 237., 238., 239., 240., 241.,\n",
       "         242., 243., 244., 245., 246., 247., 248., 249., 250., 251., 252.,\n",
       "         253., 254., 255., 256., 257., 258., 259., 260., 261., 262., 263.,\n",
       "         264., 265., 266., 267., 268., 269., 270., 271., 272., 273., 274.,\n",
       "         275., 276., 277., 278., 279., 280., 281., 282., 283., 284., 285.,\n",
       "         286., 287., 288., 289., 290., 291., 292., 293., 294., 295., 296.,\n",
       "         297., 298., 299., 300., 301., 302., 303., 304., 305., 306., 307.,\n",
       "         308., 309., 310., 311., 312., 313., 314., 315., 316., 317., 318.,\n",
       "         319., 320., 321., 322., 323., 324., 325., 326., 327., 328., 329.,\n",
       "         330., 331., 332., 333., 334., 335., 336., 337., 338., 339., 340.,\n",
       "         341., 342., 343., 344., 345., 346., 347., 348., 349., 350., 351.,\n",
       "         352., 353., 354., 355., 356., 357., 358., 359., 360., 361., 362.,\n",
       "         363., 364., 365., 366., 367., 368., 369., 370., 371., 372., 373.,\n",
       "         374., 375., 376., 377., 378., 379., 380., 381., 382., 383., 384.,\n",
       "         385., 386., 387., 388., 389., 390., 391., 392., 393., 394., 395.,\n",
       "         396., 397., 398., 399., 400., 401., 402., 403., 404., 405., 406.,\n",
       "         407., 408., 409., 410., 411., 412., 413., 414., 415., 416., 417.,\n",
       "         418., 419., 420., 421., 422., 423., 424., 425., 426., 427., 428.,\n",
       "         429., 430., 431., 432., 433., 434., 435., 436., 437., 438., 439.,\n",
       "         440., 441., 442., 443., 444., 445., 446., 447., 448., 449., 450.,\n",
       "         451., 452., 453., 454., 455., 456., 457., 458., 459., 460., 461.,\n",
       "         462., 463., 464., 465., 466., 467., 468., 469., 470., 471., 472.,\n",
       "         473., 474., 475., 476., 477., 478., 479., 480., 481., 482., 483.,\n",
       "         484., 485., 486., 487., 488., 489., 490., 491., 492., 493., 494.,\n",
       "         495., 496., 497., 498., 499., 500.])),\n",
       " (<__main__.DummyArray: spectrum at 140472640040208>,\n",
       "  array([0.12574374, 0.64400182, 0.13231998, 0.44476342, 0.99789199,\n",
       "         0.72704017, 0.99894149, 0.88577581, 0.66549148, 0.27139399,\n",
       "         0.14052985, 0.56469536, 0.59127568, 0.94798887, 0.58736025,\n",
       "         0.76917598, 0.09199305, 0.22328784, 0.84111306, 0.00783638,\n",
       "         0.67580528, 0.21592302, 0.43472041, 0.42152997, 0.60963493,\n",
       "         0.37346982, 0.68244629, 0.63186246, 0.37260829, 0.87130314,\n",
       "         0.47956807, 0.92494947, 0.88217614, 0.86109379, 0.95336887,\n",
       "         0.63727215, 0.8821545 , 0.10835662, 0.5473681 , 0.63754557,\n",
       "         0.05058249, 0.24908323, 0.75680602, 0.54334132, 0.58768209,\n",
       "         0.29619145, 0.62898818, 0.68531011, 0.33654132, 0.58151798,\n",
       "         0.14009996, 0.07613907, 0.52447015, 0.06903742, 0.07438666,\n",
       "         0.78512984, 0.46014288, 0.53462637, 0.09323156, 0.2951997 ,\n",
       "         0.01780003, 0.21012806, 0.0189496 , 0.80002262, 0.8497521 ,\n",
       "         0.42079675, 0.36557994, 0.95726756, 0.37827136, 0.60467308,\n",
       "         0.78084011, 0.1298685 , 0.31752383, 0.02643691, 0.51676229,\n",
       "         0.89346989, 0.07780726, 0.38168779, 0.76506396, 0.11075441,\n",
       "         0.69299796, 0.92974851, 0.9556311 , 0.1264091 , 0.51001207,\n",
       "         0.15145675, 0.66904205, 0.15617136, 0.89816957, 0.44155584,\n",
       "         0.24724163, 0.02148216, 0.96208032, 0.19906406, 0.35976377,\n",
       "         0.69149986, 0.32342142, 0.2232706 , 0.12467813, 0.7056677 ,\n",
       "         0.27149187, 0.92750547, 0.06179929, 0.50211348, 0.83393092,\n",
       "         0.56309128, 0.59730646, 0.22406926, 0.62194608, 0.16618798,\n",
       "         0.77595233, 0.10744971, 0.43814759, 0.20928961, 0.82390397,\n",
       "         0.74249976, 0.16826747, 0.37771687, 0.52430157, 0.47376011,\n",
       "         0.42372615, 0.8583156 , 0.41412673, 0.73713312, 0.92285796,\n",
       "         0.71997761, 0.85684995, 0.416429  , 0.24267338, 0.71503842,\n",
       "         0.52126845, 0.38237866, 0.61519552, 0.5445848 , 0.92084002,\n",
       "         0.25567647, 0.11385283, 0.9218517 , 0.91282779, 0.60896577,\n",
       "         0.19354579, 0.74122116, 0.94150143, 0.8600251 , 0.98101685,\n",
       "         0.19947515, 0.46119443, 0.72240265, 0.17370417, 0.44440747,\n",
       "         0.28938496, 0.82361841, 0.7034008 , 0.87116717, 0.27158098,\n",
       "         0.41602779, 0.15352165, 0.55608301, 0.34030448, 0.7140704 ,\n",
       "         0.9592532 , 0.21510533, 0.30822894, 0.32852127, 0.81490144,\n",
       "         0.80476103, 0.46715231, 0.06287003, 0.25949188, 0.77079472,\n",
       "         0.18748767, 0.94486011, 0.24344781, 0.96188569, 0.28372187,\n",
       "         0.19304926, 0.65829159, 0.5304277 , 0.87658107, 0.61960142,\n",
       "         0.68582365, 0.44343515, 0.1350475 , 0.65582429, 0.55976383,\n",
       "         0.1114795 , 0.34637635, 0.39390782, 0.16009291, 0.17044105,\n",
       "         0.38793618, 0.89248132, 0.24622622, 0.10494976, 0.63909799,\n",
       "         0.93558064, 0.9113129 , 0.93252354, 0.70704131, 0.11204577,\n",
       "         0.39635648, 0.21186257, 0.8235955 , 0.87626273, 0.95441853,\n",
       "         0.31227548, 0.11434009, 0.73725739, 0.28892435, 0.4222944 ,\n",
       "         0.387559  , 0.16477542, 0.86989987, 0.81879714, 0.88824652,\n",
       "         0.92911601, 0.87561598, 0.08801791, 0.93753179, 0.22290029,\n",
       "         0.64644542, 0.43035638, 0.30230614, 0.40009159, 0.36345373,\n",
       "         0.79272299, 0.02609878, 0.72413957, 0.4909796 , 0.55741119,\n",
       "         0.00608792, 0.04323749, 0.84125711, 0.726172  , 0.16686417,\n",
       "         0.79479466, 0.43478888, 0.63293455, 0.84406814, 0.72133956,\n",
       "         0.24220988, 0.68018029, 0.98487653, 0.89453603, 0.86835802,\n",
       "         0.33639045, 0.84686936, 0.32256472, 0.93867897, 0.18509457,\n",
       "         0.14741328, 0.36445554, 0.16786216, 0.79441474, 0.4303632 ,\n",
       "         0.59287575, 0.75406873, 0.80674368, 0.85609217, 0.88533993,\n",
       "         0.38528055, 0.79273507, 0.22625022, 0.56351798, 0.33564786,\n",
       "         0.78109695, 0.35335973, 0.87007661, 0.78143338, 0.65268411,\n",
       "         0.94240535, 0.74264444, 0.10758527, 0.43637232, 0.11343359,\n",
       "         0.46962021, 0.35367115, 0.29130706, 0.6838041 , 0.46178538,\n",
       "         0.75431863, 0.04508723, 0.78863548, 0.80275456, 0.04852448,\n",
       "         0.34046792, 0.51592622, 0.08461831, 0.59134001, 0.21301066,\n",
       "         0.45580684, 0.45808803, 0.36142706, 0.08503536, 0.12154938,\n",
       "         0.81238168, 0.81965773, 0.33086038, 0.69157153, 0.2594907 ,\n",
       "         0.09821704, 0.51305846, 0.47242647, 0.77247979, 0.7165925 ,\n",
       "         0.16616782, 0.00597956, 0.10944526, 0.88484866, 0.33159384,\n",
       "         0.14072626, 0.31329024, 0.00890513, 0.85145821, 0.38484989,\n",
       "         0.50628231, 0.0961745 , 0.0032909 , 0.21081382, 0.05102049,\n",
       "         0.53972881, 0.24113834, 0.12301412, 0.41246417, 0.31396031,\n",
       "         0.35377728, 0.65665341, 0.31657255, 0.90050541, 0.31406026,\n",
       "         0.65159462, 0.8462632 , 0.02572476, 0.88451481, 0.60171315,\n",
       "         0.63240548, 0.94570361, 0.09862188, 0.82811225, 0.85937264,\n",
       "         0.54117115, 0.14280734, 0.04170663, 0.17157852, 0.22744059,\n",
       "         0.58784339, 0.74519888, 0.1240455 , 0.4207758 , 0.75895165,\n",
       "         0.2764271 , 0.44633861, 0.28975138, 0.35495989, 0.4107978 ,\n",
       "         0.52933852, 0.11889378, 0.09082852, 0.8948681 , 0.45579222,\n",
       "         0.0368209 , 0.32352922, 0.24713108, 0.62281252, 0.67624004,\n",
       "         0.98829862, 0.10487093, 0.43160858, 0.25128497, 0.62606794,\n",
       "         0.68697213, 0.0261913 , 0.20128754, 0.30955375, 0.14615502,\n",
       "         0.40352861, 0.64910813, 0.19905245, 0.02584661, 0.84916169,\n",
       "         0.55771054, 0.36976221, 0.33492614, 0.79092689, 0.88482059,\n",
       "         0.96957785, 0.55376928, 0.15382734, 0.55410777, 0.81270774,\n",
       "         0.81318058, 0.04460363, 0.52908409, 0.71442748, 0.03479102,\n",
       "         0.77114108, 0.44688572, 0.81765478, 0.45226713, 0.95625509,\n",
       "         0.91284047, 0.76452084, 0.2396278 , 0.48778148, 0.2516164 ,\n",
       "         0.77394393, 0.42803299, 0.6618865 , 0.56679388, 0.13225012,\n",
       "         0.36554848, 0.36842108, 0.8806359 , 0.49648993, 0.76772394,\n",
       "         0.2386274 , 0.73336473, 0.56355471, 0.63689395, 0.79041189,\n",
       "         0.0832015 , 0.2861967 , 0.09899843, 0.18222985, 0.39207456,\n",
       "         0.47959598, 0.86848284, 0.68359248, 0.05071508, 0.77396254,\n",
       "         0.05055136, 0.62137076, 0.57223655, 0.06939996, 0.92326268,\n",
       "         0.65482192, 0.69252159, 0.02700818, 0.22318406, 0.96360127,\n",
       "         0.67249307, 0.07375292, 0.9744324 , 0.94291368, 0.33489523,\n",
       "         0.50336664, 0.72447647, 0.14099331, 0.16822671, 0.07357238,\n",
       "         0.45732233, 0.32053709, 0.12650206, 0.94367514, 0.74188874,\n",
       "         0.82656074, 0.89912341, 0.5577501 , 0.93695892, 0.16778654,\n",
       "         0.60502834, 0.28474608, 0.59009007, 0.92194409, 0.26745822,\n",
       "         0.0955475 , 0.06224241, 0.67810075, 0.03944898, 0.11064497,\n",
       "         0.10709119, 0.55051741, 0.96023485, 0.34003575, 0.82485423,\n",
       "         0.91783509, 0.66678639, 0.5008046 , 0.10689498, 0.60718519,\n",
       "         0.96918377, 0.76923067, 0.1894533 , 0.29652385, 0.09452012,\n",
       "         0.57875877, 0.73850231, 0.21672183, 0.4088036 , 0.89502475,\n",
       "         0.86201734, 0.48105914, 0.05403208, 0.53188366, 0.8128027 ,\n",
       "         0.64874968, 0.42591517, 0.47091367, 0.86934764, 0.80207803,\n",
       "         0.64191322]))]"
      ]
     },
     "execution_count": 1,
     "metadata": {},
     "output_type": "execute_result"
    }
   ],
   "source": [
    "expand_setpoints_helper(a.spectrum)"
   ]
  },
  {
   "cell_type": "code",
   "execution_count": 21,
   "metadata": {
    "execution": {
     "iopub.execute_input": "2020-09-18T09:58:00.336811Z",
     "iopub.status.busy": "2020-09-18T09:58:00.335972Z",
     "iopub.status.idle": "2020-09-18T09:58:00.352446Z",
     "shell.execute_reply": "2020-09-18T09:58:00.351979Z"
    }
   },
   "outputs": [
    {
     "name": "stdout",
     "output_type": "stream",
     "text": [
      "Starting experimental run with id: 2. \n"
     ]
    }
   ],
   "source": [
    "meas = Measurement()\n",
    "meas.register_parameter(a.spectrum)\n",
    "\n",
    "with meas.run() as datasaver:\n",
    "    datasaver.add_result(*expand_setpoints_helper(a.spectrum))\n",
    "    \n",
    "    dataid = datasaver.run_id"
   ]
  },
  {
   "cell_type": "code",
   "execution_count": null,
   "metadata": {},
   "outputs": [],
   "source": []
  }
 ],
 "metadata": {
  "kernelspec": {
   "display_name": "Python 3",
   "language": "python",
   "name": "python3"
  },
  "language_info": {
   "codemirror_mode": {
    "name": "ipython",
    "version": 3
   },
   "file_extension": ".py",
   "mimetype": "text/x-python",
   "name": "python",
   "nbconvert_exporter": "python",
   "pygments_lexer": "ipython3",
   "version": "3.7.7"
  },
  "toc": {
   "base_numbering": 1,
   "nav_menu": {},
   "number_sections": true,
   "sideBar": true,
   "skip_h1_title": false,
   "title_cell": "Table of Contents",
   "title_sidebar": "Contents",
   "toc_cell": false,
   "toc_position": {},
   "toc_section_display": true,
   "toc_window_display": false
  },
  "varInspector": {
   "cols": {
    "lenName": 16,
    "lenType": 16,
    "lenVar": 40
   },
   "kernels_config": {
    "python": {
     "delete_cmd_postfix": "",
     "delete_cmd_prefix": "del ",
     "library": "var_list.py",
     "varRefreshCmd": "print(var_dic_list())"
    },
    "r": {
     "delete_cmd_postfix": ") ",
     "delete_cmd_prefix": "rm(",
     "library": "var_list.r",
     "varRefreshCmd": "cat(var_dic_list()) "
    }
   },
   "types_to_exclude": [
    "module",
    "function",
    "builtin_function_or_method",
    "instance",
    "_Feature"
   ],
   "window_display": false
  }
 },
 "nbformat": 4,
 "nbformat_minor": 2
}
