{
 "cells": [
  {
   "cell_type": "markdown",
   "metadata": {},
   "source": [
    "# Simple Example of ParameterWithSetpoints\n",
    "This notebook provides an example for writing a simple driver with a parameter that has setpoints. Let's name this parameter that has setpoints as \"y\". Then, the setpoints, say \"x1, x2, x3 ..\", are the parameters on which the parameter \n",
    "\"y\" depends upon. Meaning \"y\" is a function of \"x1, x2, x3 ...\" where \"x1, x2, x3 ...\" are known as the setpoints of parameter \"y\".\n",
    "\n",
    "This is most likely to be useful for instruments that return arrays of results. In this notebook, we will show an example of this."
   ]
  },
  {
   "cell_type": "code",
   "execution_count": 1,
   "metadata": {},
   "outputs": [],
   "source": [
    "import numpy as np\n",
    "import os"
   ]
  },
  {
   "cell_type": "code",
   "execution_count": 2,
   "metadata": {},
   "outputs": [
    {
     "name": "stdout",
     "output_type": "stream",
     "text": [
      "Logging hadn't been started.\n",
      "Activating auto-logging. Current session state plus future input saved.\n",
      "Filename       : /home/vsts/.qcodes/logs/command_history.log\n",
      "Mode           : append\n",
      "Output logging : True\n",
      "Raw input log  : False\n",
      "Timestamping   : True\n",
      "State          : active\n"
     ]
    },
    {
     "name": "stdout",
     "output_type": "stream",
     "text": [
      "Qcodes Logfile : /home/vsts/.qcodes/logs/200320-22201-qcodes.log\n"
     ]
    }
   ],
   "source": [
    "from qcodes.dataset.plotting import plot_dataset\n",
    "from qcodes.utils.validators import Numbers, Arrays\n",
    "from qcodes.instrument.base import Instrument\n",
    "from qcodes.dataset.measurements import Measurement"
   ]
  },
  {
   "cell_type": "code",
   "execution_count": 3,
   "metadata": {},
   "outputs": [],
   "source": [
    "from qcodes.dataset.sqlite.database import initialise_or_create_database_at\n",
    "from qcodes.dataset.experiment_container import load_or_create_experiment"
   ]
  },
  {
   "cell_type": "code",
   "execution_count": 4,
   "metadata": {},
   "outputs": [],
   "source": [
    "from qcodes.instrument.parameter import ParameterWithSetpoints, Parameter\n",
    "from qcodes.instrument.parameter import expand_setpoints_helper"
   ]
  },
  {
   "cell_type": "markdown",
   "metadata": {},
   "source": [
    "First, we define a dummy instrument that returns something like a frequency spectrum starting from a frequency given by `f_start` to a frequency given by `f_stop` in `n_points` steps. \n",
    "\n",
    "The extra functionality of the `ParameterWithSetpoints` is implemented by giving it a reference to one or more parameters that acts like its setpoints. \n",
    "\n",
    "To setup a `ParameterWithSetpoints` we have to do two things in addition to what we do for a normal parameter.\n",
    "\n",
    "* Define one or more parameter for the setpoints (one for each dimension of the array and let the `ParameterWithSetpoints` know that these are the setpoints.\n",
    "* Give both the setpoints parameter(s) and the `ParameterWithSetpoints` a `validator` of type `Arrays` with a shape. The shapes should be such that the combined shape of the setpoints matches the shape of the `ParameterWithSetpoints`. Note that if the shape changes with the setting of the instrument, it can be defined by another parameter as shown below. "
   ]
  },
  {
   "cell_type": "code",
   "execution_count": 5,
   "metadata": {},
   "outputs": [],
   "source": [
    "class GeneratedSetPoints(Parameter):\n",
    "    \"\"\"\n",
    "    A parameter that generates a setpoint array from start, stop and num points\n",
    "    parameters.\n",
    "    \"\"\"\n",
    "    def __init__(self, startparam, stopparam, numpointsparam, *args, **kwargs):\n",
    "        super().__init__(*args, **kwargs)\n",
    "        self._startparam = startparam\n",
    "        self._stopparam = stopparam\n",
    "        self._numpointsparam = numpointsparam\n",
    "\n",
    "    def get_raw(self):\n",
    "        return np.linspace(self._startparam(), self._stopparam(),\n",
    "                              self._numpointsparam())\n",
    "\n",
    "class DummyArray(ParameterWithSetpoints):\n",
    "    \n",
    "    def get_raw(self):\n",
    "        npoints = self.root_instrument.n_points.get_latest()\n",
    "        return np.random.rand(npoints)\n",
    "    \n",
    "\n",
    "class DummySpectrumAnalyzer(Instrument):\n",
    "    \n",
    "    def __init__(self, name, **kwargs):\n",
    "        \n",
    "        super().__init__(name, **kwargs)\n",
    "            \n",
    "\n",
    "        self.add_parameter('f_start',\n",
    "                           initial_value=0,\n",
    "                           unit='Hz',\n",
    "                           label='f start',\n",
    "                           vals=Numbers(0,1e3),\n",
    "                           get_cmd=None,\n",
    "                           set_cmd=None)\n",
    "\n",
    "        self.add_parameter('f_stop',\n",
    "                           unit='Hz',\n",
    "                           label='f stop',\n",
    "                           vals=Numbers(1,1e3),\n",
    "                           get_cmd=None,\n",
    "                           set_cmd=None)\n",
    "\n",
    "        self.add_parameter('n_points',\n",
    "                           unit='',\n",
    "                           initial_value=10,\n",
    "                           vals=Numbers(1,1e3),\n",
    "                           get_cmd=None,\n",
    "                           set_cmd=None)\n",
    "        \n",
    "        self.add_parameter('freq_axis',\n",
    "                           unit='Hz',\n",
    "                           label='Freq Axis',\n",
    "                           parameter_class=GeneratedSetPoints,\n",
    "                           startparam=self.f_start,\n",
    "                           stopparam=self.f_stop,\n",
    "                           numpointsparam=self.n_points,\n",
    "                           vals=Arrays(shape=(self.n_points.get_latest,)))\n",
    "                           \n",
    "        self.add_parameter('spectrum',\n",
    "                   unit='dBm',\n",
    "                   setpoints=(self.freq_axis,),\n",
    "                   label='Spectrum',\n",
    "                   parameter_class=DummyArray,\n",
    "                   vals=Arrays(shape=(self.n_points.get_latest,)))\n",
    "                "
   ]
  },
  {
   "cell_type": "markdown",
   "metadata": {},
   "source": [
    "In the above example, the shape is defined by the parameter `n_points` that defines how many samples our `DummySpectrumAnalyzer` returns.\n",
    "\n",
    "This means that the validation will call the function to get `n_points` twice for each `get` of the parameter. This may be too slow, however, if you (as the driver-writer) can guarantee that the cached value for `n_points` will never be out of sync with the value stored in the instrument, `n_points` may be replaced by it's latest known value such that the `validator` reads:\n",
    "```python\n",
    "vals=Arrays(shape=(self.n_points.get_latest))\n",
    "```\n",
    "\n",
    "This avoids any additional call to the instrument. In the same way, the arguments to the `freq_axis` parameter that defines the start, stop and number of points can be replaced by their latest value if the instrument allows it.\n",
    "\n"
   ]
  },
  {
   "cell_type": "code",
   "execution_count": 6,
   "metadata": {},
   "outputs": [
    {
     "name": "stdout",
     "output_type": "stream",
     "text": [
      "\r",
      "0it [00:00, ?it/s]"
     ]
    },
    {
     "name": "stdout",
     "output_type": "stream",
     "text": [
      "\r",
      "Upgrading database; v0 -> v1: : 0it [00:00, ?it/s]"
     ]
    },
    {
     "name": "stdout",
     "output_type": "stream",
     "text": [
      "\r",
      "Upgrading database; v0 -> v1: : 0it [00:00, ?it/s]"
     ]
    },
    {
     "name": "stdout",
     "output_type": "stream",
     "text": [
      "\n",
      "\r",
      "  0%|          | 0/1 [00:00<?, ?it/s]"
     ]
    },
    {
     "name": "stdout",
     "output_type": "stream",
     "text": [
      "\r",
      "Upgrading database; v1 -> v2:   0%|          | 0/1 [00:00<?, ?it/s]"
     ]
    },
    {
     "name": "stdout",
     "output_type": "stream",
     "text": [
      "\r",
      "Upgrading database; v1 -> v2: 100%|██████████| 1/1 [00:00<00:00, 752.48it/s]"
     ]
    },
    {
     "name": "stdout",
     "output_type": "stream",
     "text": [
      "\n",
      "\r",
      "0it [00:00, ?it/s]"
     ]
    },
    {
     "name": "stdout",
     "output_type": "stream",
     "text": [
      "\r",
      "Upgrading database; v2 -> v3: : 0it [00:00, ?it/s]"
     ]
    },
    {
     "name": "stdout",
     "output_type": "stream",
     "text": [
      "\r",
      "Upgrading database; v2 -> v3: : 0it [00:00, ?it/s]"
     ]
    },
    {
     "name": "stdout",
     "output_type": "stream",
     "text": [
      "\n",
      "\r",
      "0it [00:00, ?it/s]"
     ]
    },
    {
     "name": "stdout",
     "output_type": "stream",
     "text": [
      "\r",
      "Upgrading database; v3 -> v4: : 0it [00:00, ?it/s]"
     ]
    },
    {
     "name": "stdout",
     "output_type": "stream",
     "text": [
      "\r",
      "Upgrading database; v3 -> v4: : 0it [00:00, ?it/s]"
     ]
    },
    {
     "name": "stdout",
     "output_type": "stream",
     "text": [
      "\n",
      "\r",
      "  0%|          | 0/1 [00:00<?, ?it/s]"
     ]
    },
    {
     "name": "stdout",
     "output_type": "stream",
     "text": [
      "\r",
      "Upgrading database; v4 -> v5:   0%|          | 0/1 [00:00<?, ?it/s]"
     ]
    },
    {
     "name": "stdout",
     "output_type": "stream",
     "text": [
      "\r",
      "Upgrading database; v4 -> v5: 100%|██████████| 1/1 [00:00<00:00, 720.67it/s]"
     ]
    },
    {
     "name": "stdout",
     "output_type": "stream",
     "text": [
      "\n",
      "\r",
      "0it [00:00, ?it/s]"
     ]
    },
    {
     "name": "stdout",
     "output_type": "stream",
     "text": [
      "\r",
      "Upgrading database; v5 -> v6: : 0it [00:00, ?it/s]"
     ]
    },
    {
     "name": "stdout",
     "output_type": "stream",
     "text": [
      "\r",
      "Upgrading database; v5 -> v6: : 0it [00:00, ?it/s]"
     ]
    },
    {
     "name": "stdout",
     "output_type": "stream",
     "text": [
      "\n",
      "\r",
      "  0%|          | 0/1 [00:00<?, ?it/s]"
     ]
    },
    {
     "name": "stdout",
     "output_type": "stream",
     "text": [
      "\r",
      "Upgrading database; v6 -> v7:   0%|          | 0/1 [00:00<?, ?it/s]"
     ]
    },
    {
     "name": "stdout",
     "output_type": "stream",
     "text": [
      "\r",
      "Upgrading database; v6 -> v7: 100%|██████████| 1/1 [00:00<00:00, 291.25it/s]"
     ]
    },
    {
     "name": "stdout",
     "output_type": "stream",
     "text": [
      "\n",
      "\r",
      "  0%|          | 0/1 [00:00<?, ?it/s]"
     ]
    },
    {
     "name": "stdout",
     "output_type": "stream",
     "text": [
      "\r",
      "Upgrading database; v7 -> v8:   0%|          | 0/1 [00:00<?, ?it/s]"
     ]
    },
    {
     "name": "stdout",
     "output_type": "stream",
     "text": [
      "\r",
      "Upgrading database; v7 -> v8: 100%|██████████| 1/1 [00:00<00:00, 739.34it/s]"
     ]
    },
    {
     "name": "stdout",
     "output_type": "stream",
     "text": [
      "\n",
      "\r",
      "  0%|          | 0/1 [00:00<?, ?it/s]"
     ]
    },
    {
     "name": "stdout",
     "output_type": "stream",
     "text": [
      "\r",
      "Upgrading database; v8 -> v9:   0%|          | 0/1 [00:00<?, ?it/s]"
     ]
    },
    {
     "name": "stdout",
     "output_type": "stream",
     "text": [
      "\r",
      "Upgrading database; v8 -> v9: 100%|██████████| 1/1 [00:00<00:00, 910.62it/s]"
     ]
    },
    {
     "name": "stdout",
     "output_type": "stream",
     "text": [
      "\n"
     ]
    },
    {
     "data": {
      "text/plain": [
       "tutorial_ParameterWithSetpoints#no sample#1@/home/vsts/work/1/s/docs/examples/Parameters/tutorial_paramter_with_setpoints.db\n",
       "----------------------------------------------------------------------------------------------------------------------------"
      ]
     },
     "execution_count": 6,
     "metadata": {},
     "output_type": "execute_result"
    }
   ],
   "source": [
    "tutorial_db_path = os.path.join(os.getcwd(), 'tutorial_paramter_with_setpoints.db')\n",
    "initialise_or_create_database_at(tutorial_db_path)\n",
    "load_or_create_experiment(experiment_name='tutorial_ParameterWithSetpoints', sample_name=\"no sample\")"
   ]
  },
  {
   "cell_type": "code",
   "execution_count": 7,
   "metadata": {},
   "outputs": [],
   "source": [
    "a = DummySpectrumAnalyzer('foobar')"
   ]
  },
  {
   "cell_type": "markdown",
   "metadata": {},
   "source": [
    "First we setup the limits of the spectrum"
   ]
  },
  {
   "cell_type": "code",
   "execution_count": 8,
   "metadata": {},
   "outputs": [],
   "source": [
    "a.f_start(0)\n",
    "a.f_stop(500)\n",
    "a.n_points(501)"
   ]
  },
  {
   "cell_type": "markdown",
   "metadata": {},
   "source": [
    "And we can grab the frequency axis"
   ]
  },
  {
   "cell_type": "code",
   "execution_count": 9,
   "metadata": {},
   "outputs": [
    {
     "data": {
      "text/plain": [
       "501"
      ]
     },
     "execution_count": 9,
     "metadata": {},
     "output_type": "execute_result"
    }
   ],
   "source": [
    "a.n_points()"
   ]
  },
  {
   "cell_type": "code",
   "execution_count": 10,
   "metadata": {
    "scrolled": false
   },
   "outputs": [
    {
     "data": {
      "text/plain": [
       "501"
      ]
     },
     "execution_count": 10,
     "metadata": {},
     "output_type": "execute_result"
    }
   ],
   "source": [
    "freq_axis = a.freq_axis()\n",
    "len(freq_axis)"
   ]
  },
  {
   "cell_type": "code",
   "execution_count": 11,
   "metadata": {},
   "outputs": [
    {
     "data": {
      "text/plain": [
       "array([0., 1., 2., 3., 4., 5., 6., 7., 8., 9.])"
      ]
     },
     "execution_count": 11,
     "metadata": {},
     "output_type": "execute_result"
    }
   ],
   "source": [
    "freq_axis[:10]"
   ]
  },
  {
   "cell_type": "markdown",
   "metadata": {},
   "source": [
    "As expected we get a result wit 501 points as we asked for an axis with 501 points. "
   ]
  },
  {
   "cell_type": "markdown",
   "metadata": {},
   "source": [
    "Above we have added a validator to the `freq_axis` parameter encoding the fact that this is an Array with `n_points`. Note that we do not have to supply the number of points as an integer but can supply a function that returns the valid number of points. This would normally be a QCoDeS parameter.\n",
    "\n",
    "This will be checked if we validate the output."
   ]
  },
  {
   "cell_type": "code",
   "execution_count": 12,
   "metadata": {},
   "outputs": [],
   "source": [
    "a.freq_axis.validate(a.freq_axis.get())"
   ]
  },
  {
   "cell_type": "markdown",
   "metadata": {},
   "source": [
    "Naturally, we can also get the spectrum. Getting the spectrum will automatically perform validation both for the shape of the parameter itself and the relation to the setpoint parameter(s)"
   ]
  },
  {
   "cell_type": "code",
   "execution_count": 13,
   "metadata": {
    "scrolled": true
   },
   "outputs": [
    {
     "data": {
      "text/plain": [
       "501"
      ]
     },
     "execution_count": 13,
     "metadata": {},
     "output_type": "execute_result"
    }
   ],
   "source": [
    "spectrum = a.spectrum.get()\n",
    "len(spectrum)"
   ]
  },
  {
   "cell_type": "markdown",
   "metadata": {},
   "source": [
    "When we validate a `ParameterWithSetpoints`, we automatically validate that the shape is consistent between the parameters and its setpoints. As well as validating the shape as above."
   ]
  },
  {
   "cell_type": "code",
   "execution_count": 14,
   "metadata": {},
   "outputs": [],
   "source": [
    "a.spectrum.validate(a.spectrum.get())"
   ]
  },
  {
   "cell_type": "markdown",
   "metadata": {},
   "source": [
    "The consistent shapes can be validated explicitly."
   ]
  },
  {
   "cell_type": "code",
   "execution_count": 15,
   "metadata": {},
   "outputs": [],
   "source": [
    "a.spectrum.validate_consistent_shape()"
   ]
  },
  {
   "cell_type": "markdown",
   "metadata": {},
   "source": [
    "We can inspect the setpoints of the spectrum."
   ]
  },
  {
   "cell_type": "code",
   "execution_count": 16,
   "metadata": {},
   "outputs": [
    {
     "data": {
      "text/plain": [
       "(<__main__.GeneratedSetPoints: freq_axis at 140392384917136>,)"
      ]
     },
     "execution_count": 16,
     "metadata": {},
     "output_type": "execute_result"
    }
   ],
   "source": [
    "a.spectrum.setpoints"
   ]
  },
  {
   "cell_type": "markdown",
   "metadata": {},
   "source": [
    "Or even change them."
   ]
  },
  {
   "cell_type": "code",
   "execution_count": 17,
   "metadata": {},
   "outputs": [],
   "source": [
    "a.spectrum.setpoints = (a.freq_axis,)"
   ]
  },
  {
   "cell_type": "markdown",
   "metadata": {},
   "source": [
    "## Measurement"
   ]
  },
  {
   "cell_type": "markdown",
   "metadata": {},
   "source": [
    "We can also directly consume the parameter in a measurement without defining the setpoints of the parameter again. The setpoints are automatically obtained from the definition of the `ParameterWithSetpoint` instance. "
   ]
  },
  {
   "cell_type": "code",
   "execution_count": 18,
   "metadata": {},
   "outputs": [
    {
     "name": "stdout",
     "output_type": "stream",
     "text": [
      "Starting experimental run with id: 1. \n"
     ]
    }
   ],
   "source": [
    "meas = Measurement()\n",
    "meas.register_parameter(a.spectrum)\n",
    "\n",
    "with meas.run() as datasaver:\n",
    "    datasaver.add_result((a.freq_axis, a.freq_axis()),\n",
    "                         (a.spectrum, a.spectrum()))\n",
    "    dataset = datasaver.dataset"
   ]
  },
  {
   "cell_type": "markdown",
   "metadata": {},
   "source": [
    "And plot it"
   ]
  },
  {
   "cell_type": "code",
   "execution_count": 19,
   "metadata": {},
   "outputs": [
    {
     "data": {
      "text/plain": [
       "([<matplotlib.axes._subplots.AxesSubplot at 0x7fafa59d0650>], [None])"
      ]
     },
     "execution_count": 19,
     "metadata": {},
     "output_type": "execute_result"
    },
    {
     "data": {
      "image/png": "[encoded data removed]",
      "text/plain": [
       "<Figure size 432x288 with 1 Axes>"
      ]
     },
     "metadata": {
      "needs_background": "light"
     },
     "output_type": "display_data"
    }
   ],
   "source": [
    "plot_dataset(dataset)"
   ]
  },
  {
   "cell_type": "markdown",
   "metadata": {},
   "source": [
    "To reduce the amount of typing a simple convenience function is provided that will take a `ParameterWithSetpoints` and get both its values and the setpoints values and return them as tuples for direct insertion into the Dataset."
   ]
  },
  {
   "cell_type": "code",
   "execution_count": 20,
   "metadata": {
    "scrolled": true
   },
   "outputs": [
    {
     "data": {
      "text/plain": [
       "[(<__main__.GeneratedSetPoints: freq_axis at 140392384917136>,\n",
       "  array([  0.,   1.,   2.,   3.,   4.,   5.,   6.,   7.,   8.,   9.,  10.,\n",
       "          11.,  12.,  13.,  14.,  15.,  16.,  17.,  18.,  19.,  20.,  21.,\n",
       "          22.,  23.,  24.,  25.,  26.,  27.,  28.,  29.,  30.,  31.,  32.,\n",
       "          33.,  34.,  35.,  36.,  37.,  38.,  39.,  40.,  41.,  42.,  43.,\n",
       "          44.,  45.,  46.,  47.,  48.,  49.,  50.,  51.,  52.,  53.,  54.,\n",
       "          55.,  56.,  57.,  58.,  59.,  60.,  61.,  62.,  63.,  64.,  65.,\n",
       "          66.,  67.,  68.,  69.,  70.,  71.,  72.,  73.,  74.,  75.,  76.,\n",
       "          77.,  78.,  79.,  80.,  81.,  82.,  83.,  84.,  85.,  86.,  87.,\n",
       "          88.,  89.,  90.,  91.,  92.,  93.,  94.,  95.,  96.,  97.,  98.,\n",
       "          99., 100., 101., 102., 103., 104., 105., 106., 107., 108., 109.,\n",
       "         110., 111., 112., 113., 114., 115., 116., 117., 118., 119., 120.,\n",
       "         121., 122., 123., 124., 125., 126., 127., 128., 129., 130., 131.,\n",
       "         132., 133., 134., 135., 136., 137., 138., 139., 140., 141., 142.,\n",
       "         143., 144., 145., 146., 147., 148., 149., 150., 151., 152., 153.,\n",
       "         154., 155., 156., 157., 158., 159., 160., 161., 162., 163., 164.,\n",
       "         165., 166., 167., 168., 169., 170., 171., 172., 173., 174., 175.,\n",
       "         176., 177., 178., 179., 180., 181., 182., 183., 184., 185., 186.,\n",
       "         187., 188., 189., 190., 191., 192., 193., 194., 195., 196., 197.,\n",
       "         198., 199., 200., 201., 202., 203., 204., 205., 206., 207., 208.,\n",
       "         209., 210., 211., 212., 213., 214., 215., 216., 217., 218., 219.,\n",
       "         220., 221., 222., 223., 224., 225., 226., 227., 228., 229., 230.,\n",
       "         231., 232., 233., 234., 235., 236., 237., 238., 239., 240., 241.,\n",
       "         242., 243., 244., 245., 246., 247., 248., 249., 250., 251., 252.,\n",
       "         253., 254., 255., 256., 257., 258., 259., 260., 261., 262., 263.,\n",
       "         264., 265., 266., 267., 268., 269., 270., 271., 272., 273., 274.,\n",
       "         275., 276., 277., 278., 279., 280., 281., 282., 283., 284., 285.,\n",
       "         286., 287., 288., 289., 290., 291., 292., 293., 294., 295., 296.,\n",
       "         297., 298., 299., 300., 301., 302., 303., 304., 305., 306., 307.,\n",
       "         308., 309., 310., 311., 312., 313., 314., 315., 316., 317., 318.,\n",
       "         319., 320., 321., 322., 323., 324., 325., 326., 327., 328., 329.,\n",
       "         330., 331., 332., 333., 334., 335., 336., 337., 338., 339., 340.,\n",
       "         341., 342., 343., 344., 345., 346., 347., 348., 349., 350., 351.,\n",
       "         352., 353., 354., 355., 356., 357., 358., 359., 360., 361., 362.,\n",
       "         363., 364., 365., 366., 367., 368., 369., 370., 371., 372., 373.,\n",
       "         374., 375., 376., 377., 378., 379., 380., 381., 382., 383., 384.,\n",
       "         385., 386., 387., 388., 389., 390., 391., 392., 393., 394., 395.,\n",
       "         396., 397., 398., 399., 400., 401., 402., 403., 404., 405., 406.,\n",
       "         407., 408., 409., 410., 411., 412., 413., 414., 415., 416., 417.,\n",
       "         418., 419., 420., 421., 422., 423., 424., 425., 426., 427., 428.,\n",
       "         429., 430., 431., 432., 433., 434., 435., 436., 437., 438., 439.,\n",
       "         440., 441., 442., 443., 444., 445., 446., 447., 448., 449., 450.,\n",
       "         451., 452., 453., 454., 455., 456., 457., 458., 459., 460., 461.,\n",
       "         462., 463., 464., 465., 466., 467., 468., 469., 470., 471., 472.,\n",
       "         473., 474., 475., 476., 477., 478., 479., 480., 481., 482., 483.,\n",
       "         484., 485., 486., 487., 488., 489., 490., 491., 492., 493., 494.,\n",
       "         495., 496., 497., 498., 499., 500.])),\n",
       " (<__main__.DummyArray: spectrum at 140392383860816>,\n",
       "  array([0.88861934, 0.14777315, 0.87198758, 0.77219029, 0.18911628,\n",
       "         0.21153395, 0.30806563, 0.92641615, 0.05091431, 0.12902681,\n",
       "         0.68302106, 0.34723311, 0.04172443, 0.02612816, 0.18879577,\n",
       "         0.68702719, 0.23452954, 0.08220222, 0.28323569, 0.76341147,\n",
       "         0.90921689, 0.07773225, 0.97461303, 0.78948172, 0.17819031,\n",
       "         0.88421452, 0.37040956, 0.48755365, 0.75415317, 0.65683731,\n",
       "         0.9336844 , 0.97459435, 0.28256423, 0.87324565, 0.11903793,\n",
       "         0.88214702, 0.28076738, 0.37061773, 0.72454774, 0.76017556,\n",
       "         0.64310729, 0.94953301, 0.3356433 , 0.70313719, 0.47909043,\n",
       "         0.99330329, 0.33625468, 0.60148932, 0.50859877, 0.92098122,\n",
       "         0.53360849, 0.72209308, 0.42166993, 0.95934327, 0.76438516,\n",
       "         0.49279045, 0.76596818, 0.30771965, 0.62396433, 0.68780761,\n",
       "         0.37972837, 0.43954547, 0.89306199, 0.65008921, 0.10165243,\n",
       "         0.18402276, 0.97619247, 0.76504303, 0.35272318, 0.61199742,\n",
       "         0.73400094, 0.63673073, 0.0220114 , 0.20408745, 0.90629932,\n",
       "         0.85182772, 0.13627479, 0.39133198, 0.40016529, 0.83868203,\n",
       "         0.3286082 , 0.711438  , 0.68619595, 0.841173  , 0.33573253,\n",
       "         0.79169918, 0.53454536, 0.24189085, 0.66086043, 0.96453778,\n",
       "         0.0681716 , 0.98976916, 0.64621692, 0.14324179, 0.32050454,\n",
       "         0.20360688, 0.17818947, 0.07922139, 0.77638191, 0.17072658,\n",
       "         0.92484959, 0.20754274, 0.01793622, 0.12535341, 0.83202051,\n",
       "         0.45493279, 0.23333174, 0.45939905, 0.01907637, 0.39704215,\n",
       "         0.0231354 , 0.20495561, 0.81666223, 0.34236278, 0.80485268,\n",
       "         0.74792462, 0.44424086, 0.9744042 , 0.16709889, 0.19301365,\n",
       "         0.003977  , 0.97295517, 0.05483439, 0.46762618, 0.74886423,\n",
       "         0.23928837, 0.28157706, 0.06404391, 0.99770837, 0.67692943,\n",
       "         0.65207014, 0.96516541, 0.23354479, 0.5758415 , 0.75503445,\n",
       "         0.3314461 , 0.82056418, 0.39779148, 0.94503104, 0.61381371,\n",
       "         0.63031158, 0.63182535, 0.30661629, 0.34250108, 0.75698736,\n",
       "         0.49669756, 0.21356522, 0.63218426, 0.44146083, 0.35435223,\n",
       "         0.47326723, 0.80911323, 0.16417107, 0.41034847, 0.78216232,\n",
       "         0.59773648, 0.86113829, 0.57962677, 0.42880757, 0.9174494 ,\n",
       "         0.03337989, 0.12492256, 0.58772018, 0.14797239, 0.76515464,\n",
       "         0.72507184, 0.48323803, 0.05881073, 0.17225622, 0.85383044,\n",
       "         0.62057725, 0.646388  , 0.51983349, 0.83717428, 0.91781768,\n",
       "         0.15747718, 0.15499588, 0.94338414, 0.6660836 , 0.66461311,\n",
       "         0.73507965, 0.57566539, 0.04684338, 0.43253241, 0.26962982,\n",
       "         0.59101288, 0.78949041, 0.04886645, 0.42679217, 0.85951151,\n",
       "         0.109535  , 0.19564936, 0.11284504, 0.06296249, 0.92620763,\n",
       "         0.2873285 , 0.34076915, 0.74326403, 0.13613769, 0.06439313,\n",
       "         0.95926496, 0.42026129, 0.95703317, 0.3501736 , 0.32080401,\n",
       "         0.32547281, 0.87282528, 0.91305953, 0.89259853, 0.17172515,\n",
       "         0.53157622, 0.18556171, 0.28447878, 0.60567605, 0.37934163,\n",
       "         0.67144367, 0.76325777, 0.81611389, 0.49553389, 0.72837655,\n",
       "         0.7401444 , 0.23451787, 0.43860668, 0.7170472 , 0.67800273,\n",
       "         0.53180884, 0.49428333, 0.58810144, 0.27770859, 0.169128  ,\n",
       "         0.5436412 , 0.60364891, 0.99035951, 0.8489764 , 0.43519912,\n",
       "         0.97765591, 0.24324589, 0.08328744, 0.31268838, 0.62098516,\n",
       "         0.38293305, 0.87972616, 0.36358358, 0.5111896 , 0.61349394,\n",
       "         0.27449792, 0.98529761, 0.18120569, 0.99106919, 0.49617088,\n",
       "         0.69303246, 0.40512654, 0.97122882, 0.81066998, 0.5543823 ,\n",
       "         0.56372065, 0.17885896, 0.07546624, 0.10256529, 0.01531649,\n",
       "         0.10670886, 0.08369173, 0.65956235, 0.10970424, 0.93144481,\n",
       "         0.46951189, 0.63203714, 0.2905799 , 0.78773143, 0.51875885,\n",
       "         0.34400056, 0.52548553, 0.7982377 , 0.25274111, 0.51141482,\n",
       "         0.75116588, 0.33458255, 0.5252053 , 0.79054474, 0.39145625,\n",
       "         0.42956494, 0.36907873, 0.78733403, 0.45459278, 0.71566392,\n",
       "         0.86319919, 0.49303329, 0.34646431, 0.68313001, 0.30666671,\n",
       "         0.72139284, 0.39929847, 0.25626619, 0.13573759, 0.94632082,\n",
       "         0.11828148, 0.05139209, 0.11066743, 0.40284727, 0.20975315,\n",
       "         0.00740634, 0.13510379, 0.25313216, 0.52986768, 0.98141583,\n",
       "         0.47248301, 0.34350519, 0.12535841, 0.02276374, 0.76326228,\n",
       "         0.28032048, 0.78714933, 0.17441412, 0.75280557, 0.94468601,\n",
       "         0.04926073, 0.75478515, 0.32787063, 0.85749407, 0.79535801,\n",
       "         0.99255137, 0.99733139, 0.91006639, 0.26883655, 0.48537128,\n",
       "         0.08319584, 0.16090809, 0.11192882, 0.69516433, 0.4316474 ,\n",
       "         0.79244283, 0.35646066, 0.66166843, 0.32924881, 0.92646468,\n",
       "         0.70607926, 0.85578438, 0.61408115, 0.6368489 , 0.81869333,\n",
       "         0.39933864, 0.48340073, 0.68603591, 0.59485599, 0.52247301,\n",
       "         0.67138637, 0.09806904, 0.64863333, 0.9745993 , 0.30150137,\n",
       "         0.13260662, 0.34623748, 0.5568132 , 0.41825557, 0.25343758,\n",
       "         0.33917624, 0.12301765, 0.0596692 , 0.6665089 , 0.66153244,\n",
       "         0.15461502, 0.1812194 , 0.8889349 , 0.69043854, 0.58946662,\n",
       "         0.86688071, 0.36813126, 0.5679604 , 0.55769714, 0.5488934 ,\n",
       "         0.68729078, 0.53530335, 0.59558128, 0.68569869, 0.42668501,\n",
       "         0.13811002, 0.02647083, 0.15190427, 0.11054153, 0.44419668,\n",
       "         0.55285631, 0.92320243, 0.42769119, 0.96664615, 0.48773377,\n",
       "         0.63159928, 0.79917199, 0.94646074, 0.17633265, 0.53969073,\n",
       "         0.59601204, 0.63023788, 0.25494718, 0.96055868, 0.4436271 ,\n",
       "         0.13788834, 0.35811559, 0.12428481, 0.39700807, 0.71157772,\n",
       "         0.28187033, 0.64357011, 0.88615271, 0.50582501, 0.76050179,\n",
       "         0.95023346, 0.32209361, 0.75359952, 0.55208009, 0.43895502,\n",
       "         0.40220386, 0.5053933 , 0.72811647, 0.74388089, 0.12803944,\n",
       "         0.28127157, 0.86412563, 0.77245029, 0.27764471, 0.73821783,\n",
       "         0.87889887, 0.21041897, 0.70346973, 0.1214166 , 0.04518679,\n",
       "         0.44675632, 0.37135609, 0.41327661, 0.23975288, 0.82594751,\n",
       "         0.89480857, 0.79284773, 0.82513097, 0.87606255, 0.80128382,\n",
       "         0.19564649, 0.60891159, 0.28120237, 0.09025111, 0.99779939,\n",
       "         0.71126339, 0.25267633, 0.53763276, 0.8037124 , 0.28161734,\n",
       "         0.15356495, 0.80444605, 0.61053684, 0.39447403, 0.23723749,\n",
       "         0.4480806 , 0.4049819 , 0.53269707, 0.4949445 , 0.99477377,\n",
       "         0.77136045, 0.68993192, 0.49303683, 0.69605234, 0.63391397,\n",
       "         0.56666519, 0.21875872, 0.92863714, 0.17980026, 0.18985984,\n",
       "         0.3269118 , 0.52161505, 0.07428694, 0.04334293, 0.34742526,\n",
       "         0.9747564 , 0.71518459, 0.72786638, 0.66766112, 0.70443003,\n",
       "         0.50665097, 0.46249063, 0.37742021, 0.14733026, 0.96142184,\n",
       "         0.80223881, 0.56761382, 0.01116589, 0.31876197, 0.67211389,\n",
       "         0.96653867, 0.32791921, 0.79797297, 0.63767787, 0.38996485,\n",
       "         0.96895666, 0.68663662, 0.4862879 , 0.6635115 , 0.24321091,\n",
       "         0.82192073, 0.90544805, 0.95669323, 0.25554726, 0.12303042,\n",
       "         0.1376234 ]))]"
      ]
     },
     "execution_count": 20,
     "metadata": {},
     "output_type": "execute_result"
    }
   ],
   "source": [
    "expand_setpoints_helper(a.spectrum)"
   ]
  },
  {
   "cell_type": "code",
   "execution_count": 21,
   "metadata": {},
   "outputs": [
    {
     "name": "stdout",
     "output_type": "stream",
     "text": [
      "Starting experimental run with id: 2. \n"
     ]
    }
   ],
   "source": [
    "meas = Measurement()\n",
    "meas.register_parameter(a.spectrum)\n",
    "\n",
    "with meas.run() as datasaver:\n",
    "    datasaver.add_result(*expand_setpoints_helper(a.spectrum))\n",
    "    \n",
    "    dataid = datasaver.run_id"
   ]
  },
  {
   "cell_type": "code",
   "execution_count": null,
   "metadata": {},
   "outputs": [],
   "source": []
  }
 ],
 "metadata": {
  "kernelspec": {
   "display_name": "Python 3",
   "language": "python",
   "name": "python3"
  },
  "language_info": {
   "codemirror_mode": {
    "name": "ipython",
    "version": 3
   },
   "file_extension": ".py",
   "mimetype": "text/x-python",
   "name": "python",
   "nbconvert_exporter": "python",
   "pygments_lexer": "ipython3",
   "version": "3.7.5"
  },
  "toc": {
   "base_numbering": 1,
   "nav_menu": {},
   "number_sections": true,
   "sideBar": true,
   "skip_h1_title": false,
   "title_cell": "Table of Contents",
   "title_sidebar": "Contents",
   "toc_cell": false,
   "toc_position": {},
   "toc_section_display": true,
   "toc_window_display": false
  },
  "varInspector": {
   "cols": {
    "lenName": 16,
    "lenType": 16,
    "lenVar": 40
   },
   "kernels_config": {
    "python": {
     "delete_cmd_postfix": "",
     "delete_cmd_prefix": "del ",
     "library": "var_list.py",
     "varRefreshCmd": "print(var_dic_list())"
    },
    "r": {
     "delete_cmd_postfix": ") ",
     "delete_cmd_prefix": "rm(",
     "library": "var_list.r",
     "varRefreshCmd": "cat(var_dic_list()) "
    }
   },
   "types_to_exclude": [
    "module",
    "function",
    "builtin_function_or_method",
    "instance",
    "_Feature"
   ],
   "window_display": false
  }
 },
 "nbformat": 4,
 "nbformat_minor": 2
}
