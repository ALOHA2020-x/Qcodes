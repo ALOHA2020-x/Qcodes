{
 "cells": [
  {
   "cell_type": "markdown",
   "metadata": {},
   "source": [
    "# Simple Example of ParameterWithSetpoints\n",
    "This notebook provides an example for writing a simple driver with a parameter that has setpoints. Let's name this parameter that has setpoints as \"y\". Then, the setpoints, say \"x1, x2, x3 ..\", are the parameters on which the parameter \n",
    "\"y\" depends upon. Meaning \"y\" is a function of \"x1, x2, x3 ...\" where \"x1, x2, x3 ...\" are known as the setpoints of parameter \"y\".\n",
    "\n",
    "This is most likely to be useful for instruments that return arrays of results. In this notebook, we will show an example of this."
   ]
  },
  {
   "cell_type": "code",
   "execution_count": 1,
   "metadata": {
    "execution": {
     "iopub.execute_input": "2020-09-21T15:47:58.624878Z",
     "iopub.status.busy": "2020-09-21T15:47:58.624276Z",
     "iopub.status.idle": "2020-09-21T15:47:58.729335Z",
     "shell.execute_reply": "2020-09-21T15:47:58.729845Z"
    }
   },
   "outputs": [],
   "source": [
    "import numpy as np\n",
    "import os"
   ]
  },
  {
   "cell_type": "code",
   "execution_count": 2,
   "metadata": {
    "execution": {
     "iopub.execute_input": "2020-09-21T15:47:58.734452Z",
     "iopub.status.busy": "2020-09-21T15:47:58.733852Z",
     "iopub.status.idle": "2020-09-21T15:47:59.935086Z",
     "shell.execute_reply": "2020-09-21T15:47:59.934515Z"
    }
   },
   "outputs": [
    {
     "name": "stdout",
     "output_type": "stream",
     "text": [
      "Logging hadn't been started.\n",
      "Activating auto-logging. Current session state plus future input saved.\n",
      "Filename       : /home/vsts/.qcodes/logs/command_history.log\n",
      "Mode           : append\n",
      "Output logging : True\n",
      "Raw input log  : False\n",
      "Timestamping   : True\n",
      "State          : active\n"
     ]
    },
    {
     "name": "stdout",
     "output_type": "stream",
     "text": [
      "Qcodes Logfile : /home/vsts/.qcodes/logs/200921-21944-qcodes.log\n"
     ]
    }
   ],
   "source": [
    "from qcodes.dataset.plotting import plot_dataset\n",
    "from qcodes.utils.validators import Numbers, Arrays\n",
    "from qcodes.instrument.base import Instrument\n",
    "from qcodes.dataset.measurements import Measurement"
   ]
  },
  {
   "cell_type": "code",
   "execution_count": 3,
   "metadata": {
    "execution": {
     "iopub.execute_input": "2020-09-21T15:47:59.939368Z",
     "iopub.status.busy": "2020-09-21T15:47:59.938777Z",
     "iopub.status.idle": "2020-09-21T15:47:59.941966Z",
     "shell.execute_reply": "2020-09-21T15:47:59.942475Z"
    }
   },
   "outputs": [],
   "source": [
    "from qcodes.dataset.sqlite.database import initialise_or_create_database_at\n",
    "from qcodes.dataset.experiment_container import load_or_create_experiment"
   ]
  },
  {
   "cell_type": "code",
   "execution_count": 4,
   "metadata": {
    "execution": {
     "iopub.execute_input": "2020-09-21T15:47:59.947669Z",
     "iopub.status.busy": "2020-09-21T15:47:59.946567Z",
     "iopub.status.idle": "2020-09-21T15:47:59.948823Z",
     "shell.execute_reply": "2020-09-21T15:47:59.949330Z"
    }
   },
   "outputs": [],
   "source": [
    "from qcodes.instrument.parameter import ParameterWithSetpoints, Parameter\n",
    "from qcodes.instrument.parameter import expand_setpoints_helper"
   ]
  },
  {
   "cell_type": "markdown",
   "metadata": {},
   "source": [
    "First, we define a dummy instrument that returns something like a frequency spectrum starting from a frequency given by `f_start` to a frequency given by `f_stop` in `n_points` steps. \n",
    "\n",
    "The extra functionality of the `ParameterWithSetpoints` is implemented by giving it a reference to one or more parameters that acts like its setpoints. \n",
    "\n",
    "To setup a `ParameterWithSetpoints` we have to do two things in addition to what we do for a normal parameter.\n",
    "\n",
    "* Define one or more parameter for the setpoints (one for each dimension of the array and let the `ParameterWithSetpoints` know that these are the setpoints.\n",
    "* Give both the setpoints parameter(s) and the `ParameterWithSetpoints` a `validator` of type `Arrays` with a shape. The shapes should be such that the combined shape of the setpoints matches the shape of the `ParameterWithSetpoints`. Note that if the shape changes with the setting of the instrument, it can be defined by another parameter as shown below. "
   ]
  },
  {
   "cell_type": "code",
   "execution_count": 5,
   "metadata": {
    "execution": {
     "iopub.execute_input": "2020-09-21T15:47:59.959911Z",
     "iopub.status.busy": "2020-09-21T15:47:59.956767Z",
     "iopub.status.idle": "2020-09-21T15:47:59.962293Z",
     "shell.execute_reply": "2020-09-21T15:47:59.961762Z"
    }
   },
   "outputs": [],
   "source": [
    "class GeneratedSetPoints(Parameter):\n",
    "    \"\"\"\n",
    "    A parameter that generates a setpoint array from start, stop and num points\n",
    "    parameters.\n",
    "    \"\"\"\n",
    "    def __init__(self, startparam, stopparam, numpointsparam, *args, **kwargs):\n",
    "        super().__init__(*args, **kwargs)\n",
    "        self._startparam = startparam\n",
    "        self._stopparam = stopparam\n",
    "        self._numpointsparam = numpointsparam\n",
    "\n",
    "    def get_raw(self):\n",
    "        return np.linspace(self._startparam(), self._stopparam(),\n",
    "                              self._numpointsparam())\n",
    "\n",
    "class DummyArray(ParameterWithSetpoints):\n",
    "    \n",
    "    def get_raw(self):\n",
    "        npoints = self.root_instrument.n_points.get_latest()\n",
    "        return np.random.rand(npoints)\n",
    "    \n",
    "\n",
    "class DummySpectrumAnalyzer(Instrument):\n",
    "    \n",
    "    def __init__(self, name, **kwargs):\n",
    "        \n",
    "        super().__init__(name, **kwargs)\n",
    "            \n",
    "\n",
    "        self.add_parameter('f_start',\n",
    "                           initial_value=0,\n",
    "                           unit='Hz',\n",
    "                           label='f start',\n",
    "                           vals=Numbers(0,1e3),\n",
    "                           get_cmd=None,\n",
    "                           set_cmd=None)\n",
    "\n",
    "        self.add_parameter('f_stop',\n",
    "                           unit='Hz',\n",
    "                           label='f stop',\n",
    "                           vals=Numbers(1,1e3),\n",
    "                           get_cmd=None,\n",
    "                           set_cmd=None)\n",
    "\n",
    "        self.add_parameter('n_points',\n",
    "                           unit='',\n",
    "                           initial_value=10,\n",
    "                           vals=Numbers(1,1e3),\n",
    "                           get_cmd=None,\n",
    "                           set_cmd=None)\n",
    "        \n",
    "        self.add_parameter('freq_axis',\n",
    "                           unit='Hz',\n",
    "                           label='Freq Axis',\n",
    "                           parameter_class=GeneratedSetPoints,\n",
    "                           startparam=self.f_start,\n",
    "                           stopparam=self.f_stop,\n",
    "                           numpointsparam=self.n_points,\n",
    "                           vals=Arrays(shape=(self.n_points.get_latest,)))\n",
    "                           \n",
    "        self.add_parameter('spectrum',\n",
    "                   unit='dBm',\n",
    "                   setpoints=(self.freq_axis,),\n",
    "                   label='Spectrum',\n",
    "                   parameter_class=DummyArray,\n",
    "                   vals=Arrays(shape=(self.n_points.get_latest,)))\n",
    "                "
   ]
  },
  {
   "cell_type": "markdown",
   "metadata": {},
   "source": [
    "In the above example, the shape is defined by the parameter `n_points` that defines how many samples our `DummySpectrumAnalyzer` returns.\n",
    "\n",
    "This means that the validation will call the function to get `n_points` twice for each `get` of the parameter. This may be too slow, however, if you (as the driver-writer) can guarantee that the cached value for `n_points` will never be out of sync with the value stored in the instrument, `n_points` may be replaced by it's latest known value such that the `validator` reads:\n",
    "```python\n",
    "vals=Arrays(shape=(self.n_points.get_latest))\n",
    "```\n",
    "\n",
    "This avoids any additional call to the instrument. In the same way, the arguments to the `freq_axis` parameter that defines the start, stop and number of points can be replaced by their latest value if the instrument allows it.\n",
    "\n"
   ]
  },
  {
   "cell_type": "code",
   "execution_count": 6,
   "metadata": {
    "execution": {
     "iopub.execute_input": "2020-09-21T15:47:59.966601Z",
     "iopub.status.busy": "2020-09-21T15:47:59.965779Z",
     "iopub.status.idle": "2020-09-21T15:48:00.052322Z",
     "shell.execute_reply": "2020-09-21T15:48:00.051687Z"
    }
   },
   "outputs": [
    {
     "name": "stdout",
     "output_type": "stream",
     "text": [
      "\r",
      "0it [00:00, ?it/s]"
     ]
    },
    {
     "name": "stdout",
     "output_type": "stream",
     "text": [
      "\r",
      "Upgrading database; v0 -> v1: : 0it [00:00, ?it/s]"
     ]
    },
    {
     "name": "stdout",
     "output_type": "stream",
     "text": [
      "\r",
      "Upgrading database; v0 -> v1: : 0it [00:00, ?it/s]"
     ]
    },
    {
     "name": "stdout",
     "output_type": "stream",
     "text": [
      "\n",
      "\r",
      "  0%|          | 0/1 [00:00<?, ?it/s]"
     ]
    },
    {
     "name": "stdout",
     "output_type": "stream",
     "text": [
      "\r",
      "Upgrading database; v1 -> v2:   0%|          | 0/1 [00:00<?, ?it/s]"
     ]
    },
    {
     "name": "stdout",
     "output_type": "stream",
     "text": [
      "\r",
      "Upgrading database; v1 -> v2: 100%|██████████| 1/1 [00:00<00:00, 405.36it/s]"
     ]
    },
    {
     "name": "stdout",
     "output_type": "stream",
     "text": [
      "\n",
      "\r",
      "0it [00:00, ?it/s]"
     ]
    },
    {
     "name": "stdout",
     "output_type": "stream",
     "text": [
      "\r",
      "Upgrading database; v2 -> v3: : 0it [00:00, ?it/s]"
     ]
    },
    {
     "name": "stdout",
     "output_type": "stream",
     "text": [
      "\r",
      "Upgrading database; v2 -> v3: : 0it [00:00, ?it/s]"
     ]
    },
    {
     "name": "stdout",
     "output_type": "stream",
     "text": [
      "\n",
      "\r",
      "0it [00:00, ?it/s]"
     ]
    },
    {
     "name": "stdout",
     "output_type": "stream",
     "text": [
      "\r",
      "Upgrading database; v3 -> v4: : 0it [00:00, ?it/s]"
     ]
    },
    {
     "name": "stdout",
     "output_type": "stream",
     "text": [
      "\r",
      "Upgrading database; v3 -> v4: : 0it [00:00, ?it/s]"
     ]
    },
    {
     "name": "stdout",
     "output_type": "stream",
     "text": [
      "\n",
      "\r",
      "  0%|          | 0/1 [00:00<?, ?it/s]"
     ]
    },
    {
     "name": "stdout",
     "output_type": "stream",
     "text": [
      "\r",
      "Upgrading database; v4 -> v5:   0%|          | 0/1 [00:00<?, ?it/s]"
     ]
    },
    {
     "name": "stdout",
     "output_type": "stream",
     "text": [
      "\r",
      "Upgrading database; v4 -> v5: 100%|██████████| 1/1 [00:00<00:00, 337.30it/s]"
     ]
    },
    {
     "name": "stdout",
     "output_type": "stream",
     "text": [
      "\n",
      "\r",
      "0it [00:00, ?it/s]"
     ]
    },
    {
     "name": "stdout",
     "output_type": "stream",
     "text": [
      "\r",
      "Upgrading database; v5 -> v6: : 0it [00:00, ?it/s]"
     ]
    },
    {
     "name": "stdout",
     "output_type": "stream",
     "text": [
      "\r",
      "Upgrading database; v5 -> v6: : 0it [00:00, ?it/s]"
     ]
    },
    {
     "name": "stdout",
     "output_type": "stream",
     "text": [
      "\n",
      "\r",
      "  0%|          | 0/1 [00:00<?, ?it/s]"
     ]
    },
    {
     "name": "stdout",
     "output_type": "stream",
     "text": [
      "\r",
      "Upgrading database; v6 -> v7:   0%|          | 0/1 [00:00<?, ?it/s]"
     ]
    },
    {
     "name": "stdout",
     "output_type": "stream",
     "text": [
      "\r",
      "Upgrading database; v6 -> v7: 100%|██████████| 1/1 [00:00<00:00, 306.33it/s]"
     ]
    },
    {
     "name": "stdout",
     "output_type": "stream",
     "text": [
      "\n",
      "\r",
      "  0%|          | 0/1 [00:00<?, ?it/s]"
     ]
    },
    {
     "name": "stdout",
     "output_type": "stream",
     "text": [
      "\r",
      "Upgrading database; v7 -> v8:   0%|          | 0/1 [00:00<?, ?it/s]"
     ]
    },
    {
     "name": "stdout",
     "output_type": "stream",
     "text": [
      "\r",
      "Upgrading database; v7 -> v8: 100%|██████████| 1/1 [00:00<00:00, 367.21it/s]"
     ]
    },
    {
     "name": "stdout",
     "output_type": "stream",
     "text": [
      "\n",
      "\r",
      "  0%|          | 0/1 [00:00<?, ?it/s]"
     ]
    },
    {
     "name": "stdout",
     "output_type": "stream",
     "text": [
      "\r",
      "Upgrading database; v8 -> v9:   0%|          | 0/1 [00:00<?, ?it/s]"
     ]
    },
    {
     "name": "stdout",
     "output_type": "stream",
     "text": [
      "\r",
      "Upgrading database; v8 -> v9: 100%|██████████| 1/1 [00:00<00:00, 422.69it/s]"
     ]
    },
    {
     "name": "stdout",
     "output_type": "stream",
     "text": [
      "\n"
     ]
    },
    {
     "data": {
      "text/plain": [
       "tutorial_ParameterWithSetpoints#no sample#1@/home/vsts/work/1/s/docs/examples/Parameters/tutorial_paramter_with_setpoints.db\n",
       "----------------------------------------------------------------------------------------------------------------------------"
      ]
     },
     "execution_count": 1,
     "metadata": {},
     "output_type": "execute_result"
    }
   ],
   "source": [
    "tutorial_db_path = os.path.join(os.getcwd(), 'tutorial_paramter_with_setpoints.db')\n",
    "initialise_or_create_database_at(tutorial_db_path)\n",
    "load_or_create_experiment(experiment_name='tutorial_ParameterWithSetpoints', sample_name=\"no sample\")"
   ]
  },
  {
   "cell_type": "code",
   "execution_count": 7,
   "metadata": {
    "execution": {
     "iopub.execute_input": "2020-09-21T15:48:00.056675Z",
     "iopub.status.busy": "2020-09-21T15:48:00.056081Z",
     "iopub.status.idle": "2020-09-21T15:48:00.059469Z",
     "shell.execute_reply": "2020-09-21T15:48:00.059976Z"
    }
   },
   "outputs": [],
   "source": [
    "a = DummySpectrumAnalyzer('foobar')"
   ]
  },
  {
   "cell_type": "markdown",
   "metadata": {},
   "source": [
    "First we setup the limits of the spectrum"
   ]
  },
  {
   "cell_type": "code",
   "execution_count": 8,
   "metadata": {
    "execution": {
     "iopub.execute_input": "2020-09-21T15:48:00.064781Z",
     "iopub.status.busy": "2020-09-21T15:48:00.063527Z",
     "iopub.status.idle": "2020-09-21T15:48:00.065377Z",
     "shell.execute_reply": "2020-09-21T15:48:00.065932Z"
    }
   },
   "outputs": [],
   "source": [
    "a.f_start(0)\n",
    "a.f_stop(500)\n",
    "a.n_points(501)"
   ]
  },
  {
   "cell_type": "markdown",
   "metadata": {},
   "source": [
    "And we can grab the frequency axis"
   ]
  },
  {
   "cell_type": "code",
   "execution_count": 9,
   "metadata": {
    "execution": {
     "iopub.execute_input": "2020-09-21T15:48:00.071553Z",
     "iopub.status.busy": "2020-09-21T15:48:00.070117Z",
     "iopub.status.idle": "2020-09-21T15:48:00.072922Z",
     "shell.execute_reply": "2020-09-21T15:48:00.073518Z"
    }
   },
   "outputs": [
    {
     "data": {
      "text/plain": [
       "501"
      ]
     },
     "execution_count": 1,
     "metadata": {},
     "output_type": "execute_result"
    }
   ],
   "source": [
    "a.n_points()"
   ]
  },
  {
   "cell_type": "code",
   "execution_count": 10,
   "metadata": {
    "execution": {
     "iopub.execute_input": "2020-09-21T15:48:00.079107Z",
     "iopub.status.busy": "2020-09-21T15:48:00.077896Z",
     "iopub.status.idle": "2020-09-21T15:48:00.080714Z",
     "shell.execute_reply": "2020-09-21T15:48:00.081345Z"
    },
    "scrolled": false
   },
   "outputs": [
    {
     "data": {
      "text/plain": [
       "501"
      ]
     },
     "execution_count": 1,
     "metadata": {},
     "output_type": "execute_result"
    }
   ],
   "source": [
    "freq_axis = a.freq_axis()\n",
    "len(freq_axis)"
   ]
  },
  {
   "cell_type": "code",
   "execution_count": 11,
   "metadata": {
    "execution": {
     "iopub.execute_input": "2020-09-21T15:48:00.087050Z",
     "iopub.status.busy": "2020-09-21T15:48:00.086422Z",
     "iopub.status.idle": "2020-09-21T15:48:00.089164Z",
     "shell.execute_reply": "2020-09-21T15:48:00.089680Z"
    }
   },
   "outputs": [
    {
     "data": {
      "text/plain": [
       "array([0., 1., 2., 3., 4., 5., 6., 7., 8., 9.])"
      ]
     },
     "execution_count": 1,
     "metadata": {},
     "output_type": "execute_result"
    }
   ],
   "source": [
    "freq_axis[:10]"
   ]
  },
  {
   "cell_type": "markdown",
   "metadata": {},
   "source": [
    "As expected we get a result wit 501 points as we asked for an axis with 501 points. "
   ]
  },
  {
   "cell_type": "markdown",
   "metadata": {},
   "source": [
    "Above we have added a validator to the `freq_axis` parameter encoding the fact that this is an Array with `n_points`. Note that we do not have to supply the number of points as an integer but can supply a function that returns the valid number of points. This would normally be a QCoDeS parameter.\n",
    "\n",
    "This will be checked if we validate the output."
   ]
  },
  {
   "cell_type": "code",
   "execution_count": 12,
   "metadata": {
    "execution": {
     "iopub.execute_input": "2020-09-21T15:48:00.094716Z",
     "iopub.status.busy": "2020-09-21T15:48:00.093386Z",
     "iopub.status.idle": "2020-09-21T15:48:00.095229Z",
     "shell.execute_reply": "2020-09-21T15:48:00.095859Z"
    }
   },
   "outputs": [],
   "source": [
    "a.freq_axis.validate(a.freq_axis.get())"
   ]
  },
  {
   "cell_type": "markdown",
   "metadata": {},
   "source": [
    "Naturally, we can also get the spectrum. Getting the spectrum will automatically perform validation both for the shape of the parameter itself and the relation to the setpoint parameter(s)"
   ]
  },
  {
   "cell_type": "code",
   "execution_count": 13,
   "metadata": {
    "execution": {
     "iopub.execute_input": "2020-09-21T15:48:00.100162Z",
     "iopub.status.busy": "2020-09-21T15:48:00.099500Z",
     "iopub.status.idle": "2020-09-21T15:48:00.105050Z",
     "shell.execute_reply": "2020-09-21T15:48:00.104333Z"
    },
    "scrolled": true
   },
   "outputs": [
    {
     "data": {
      "text/plain": [
       "501"
      ]
     },
     "execution_count": 1,
     "metadata": {},
     "output_type": "execute_result"
    }
   ],
   "source": [
    "spectrum = a.spectrum.get()\n",
    "len(spectrum)"
   ]
  },
  {
   "cell_type": "markdown",
   "metadata": {},
   "source": [
    "When we validate a `ParameterWithSetpoints`, we automatically validate that the shape is consistent between the parameters and its setpoints. As well as validating the shape as above."
   ]
  },
  {
   "cell_type": "code",
   "execution_count": 14,
   "metadata": {
    "execution": {
     "iopub.execute_input": "2020-09-21T15:48:00.109990Z",
     "iopub.status.busy": "2020-09-21T15:48:00.108463Z",
     "iopub.status.idle": "2020-09-21T15:48:00.110582Z",
     "shell.execute_reply": "2020-09-21T15:48:00.111178Z"
    }
   },
   "outputs": [],
   "source": [
    "a.spectrum.validate(a.spectrum.get())"
   ]
  },
  {
   "cell_type": "markdown",
   "metadata": {},
   "source": [
    "The consistent shapes can be validated explicitly."
   ]
  },
  {
   "cell_type": "code",
   "execution_count": 15,
   "metadata": {
    "execution": {
     "iopub.execute_input": "2020-09-21T15:48:00.117227Z",
     "iopub.status.busy": "2020-09-21T15:48:00.114480Z",
     "iopub.status.idle": "2020-09-21T15:48:00.117839Z",
     "shell.execute_reply": "2020-09-21T15:48:00.118448Z"
    }
   },
   "outputs": [],
   "source": [
    "a.spectrum.validate_consistent_shape()"
   ]
  },
  {
   "cell_type": "markdown",
   "metadata": {},
   "source": [
    "We can inspect the setpoints of the spectrum."
   ]
  },
  {
   "cell_type": "code",
   "execution_count": 16,
   "metadata": {
    "execution": {
     "iopub.execute_input": "2020-09-21T15:48:00.122248Z",
     "iopub.status.busy": "2020-09-21T15:48:00.121678Z",
     "iopub.status.idle": "2020-09-21T15:48:00.124844Z",
     "shell.execute_reply": "2020-09-21T15:48:00.124199Z"
    }
   },
   "outputs": [
    {
     "data": {
      "text/plain": [
       "(<__main__.GeneratedSetPoints: freq_axis at 139845030237968>,)"
      ]
     },
     "execution_count": 1,
     "metadata": {},
     "output_type": "execute_result"
    }
   ],
   "source": [
    "a.spectrum.setpoints"
   ]
  },
  {
   "cell_type": "markdown",
   "metadata": {},
   "source": [
    "Or even change them."
   ]
  },
  {
   "cell_type": "code",
   "execution_count": 17,
   "metadata": {
    "execution": {
     "iopub.execute_input": "2020-09-21T15:48:00.128837Z",
     "iopub.status.busy": "2020-09-21T15:48:00.128240Z",
     "iopub.status.idle": "2020-09-21T15:48:00.130929Z",
     "shell.execute_reply": "2020-09-21T15:48:00.129707Z"
    }
   },
   "outputs": [],
   "source": [
    "a.spectrum.setpoints = (a.freq_axis,)"
   ]
  },
  {
   "cell_type": "markdown",
   "metadata": {},
   "source": [
    "## Measurement"
   ]
  },
  {
   "cell_type": "markdown",
   "metadata": {},
   "source": [
    "We can also directly consume the parameter in a measurement without defining the setpoints of the parameter again. The setpoints are automatically obtained from the definition of the `ParameterWithSetpoint` instance. "
   ]
  },
  {
   "cell_type": "code",
   "execution_count": 18,
   "metadata": {
    "execution": {
     "iopub.execute_input": "2020-09-21T15:48:00.135991Z",
     "iopub.status.busy": "2020-09-21T15:48:00.135378Z",
     "iopub.status.idle": "2020-09-21T15:48:00.151410Z",
     "shell.execute_reply": "2020-09-21T15:48:00.150822Z"
    }
   },
   "outputs": [
    {
     "name": "stdout",
     "output_type": "stream",
     "text": [
      "Starting experimental run with id: 1. \n"
     ]
    }
   ],
   "source": [
    "meas = Measurement()\n",
    "meas.register_parameter(a.spectrum)\n",
    "\n",
    "with meas.run() as datasaver:\n",
    "    datasaver.add_result((a.freq_axis, a.freq_axis()),\n",
    "                         (a.spectrum, a.spectrum()))\n",
    "    dataset = datasaver.dataset"
   ]
  },
  {
   "cell_type": "markdown",
   "metadata": {},
   "source": [
    "And plot it"
   ]
  },
  {
   "cell_type": "code",
   "execution_count": 19,
   "metadata": {
    "execution": {
     "iopub.execute_input": "2020-09-21T15:48:00.154790Z",
     "iopub.status.busy": "2020-09-21T15:48:00.154201Z",
     "iopub.status.idle": "2020-09-21T15:48:00.535629Z",
     "shell.execute_reply": "2020-09-21T15:48:00.536089Z"
    }
   },
   "outputs": [
    {
     "data": {
      "text/plain": [
       "([<AxesSubplot:title={'center':'Run #1, Experiment tutorial_ParameterWithSetpoints (no sample)'}, xlabel='Freq Axis (Hz)', ylabel='Spectrum ($10^{-3}$ dBm)'>],\n",
       " [None])"
      ]
     },
     "execution_count": 1,
     "metadata": {},
     "output_type": "execute_result"
    },
    {
     "data": {
      "image/png": "[encoded data removed]",
      "text/plain": [
       "<Figure size 432x288 with 1 Axes>"
      ]
     },
     "metadata": {
      "needs_background": "light"
     },
     "output_type": "display_data"
    }
   ],
   "source": [
    "plot_dataset(dataset)"
   ]
  },
  {
   "cell_type": "markdown",
   "metadata": {},
   "source": [
    "To reduce the amount of typing a simple convenience function is provided that will take a `ParameterWithSetpoints` and get both its values and the setpoints values and return them as tuples for direct insertion into the Dataset."
   ]
  },
  {
   "cell_type": "code",
   "execution_count": 20,
   "metadata": {
    "execution": {
     "iopub.execute_input": "2020-09-21T15:48:00.540594Z",
     "iopub.status.busy": "2020-09-21T15:48:00.540016Z",
     "iopub.status.idle": "2020-09-21T15:48:00.555894Z",
     "shell.execute_reply": "2020-09-21T15:48:00.555283Z"
    },
    "scrolled": true
   },
   "outputs": [
    {
     "data": {
      "text/plain": [
       "[(<__main__.GeneratedSetPoints: freq_axis at 139845030237968>,\n",
       "  array([  0.,   1.,   2.,   3.,   4.,   5.,   6.,   7.,   8.,   9.,  10.,\n",
       "          11.,  12.,  13.,  14.,  15.,  16.,  17.,  18.,  19.,  20.,  21.,\n",
       "          22.,  23.,  24.,  25.,  26.,  27.,  28.,  29.,  30.,  31.,  32.,\n",
       "          33.,  34.,  35.,  36.,  37.,  38.,  39.,  40.,  41.,  42.,  43.,\n",
       "          44.,  45.,  46.,  47.,  48.,  49.,  50.,  51.,  52.,  53.,  54.,\n",
       "          55.,  56.,  57.,  58.,  59.,  60.,  61.,  62.,  63.,  64.,  65.,\n",
       "          66.,  67.,  68.,  69.,  70.,  71.,  72.,  73.,  74.,  75.,  76.,\n",
       "          77.,  78.,  79.,  80.,  81.,  82.,  83.,  84.,  85.,  86.,  87.,\n",
       "          88.,  89.,  90.,  91.,  92.,  93.,  94.,  95.,  96.,  97.,  98.,\n",
       "          99., 100., 101., 102., 103., 104., 105., 106., 107., 108., 109.,\n",
       "         110., 111., 112., 113., 114., 115., 116., 117., 118., 119., 120.,\n",
       "         121., 122., 123., 124., 125., 126., 127., 128., 129., 130., 131.,\n",
       "         132., 133., 134., 135., 136., 137., 138., 139., 140., 141., 142.,\n",
       "         143., 144., 145., 146., 147., 148., 149., 150., 151., 152., 153.,\n",
       "         154., 155., 156., 157., 158., 159., 160., 161., 162., 163., 164.,\n",
       "         165., 166., 167., 168., 169., 170., 171., 172., 173., 174., 175.,\n",
       "         176., 177., 178., 179., 180., 181., 182., 183., 184., 185., 186.,\n",
       "         187., 188., 189., 190., 191., 192., 193., 194., 195., 196., 197.,\n",
       "         198., 199., 200., 201., 202., 203., 204., 205., 206., 207., 208.,\n",
       "         209., 210., 211., 212., 213., 214., 215., 216., 217., 218., 219.,\n",
       "         220., 221., 222., 223., 224., 225., 226., 227., 228., 229., 230.,\n",
       "         231., 232., 233., 234., 235., 236., 237., 238., 239., 240., 241.,\n",
       "         242., 243., 244., 245., 246., 247., 248., 249., 250., 251., 252.,\n",
       "         253., 254., 255., 256., 257., 258., 259., 260., 261., 262., 263.,\n",
       "         264., 265., 266., 267., 268., 269., 270., 271., 272., 273., 274.,\n",
       "         275., 276., 277., 278., 279., 280., 281., 282., 283., 284., 285.,\n",
       "         286., 287., 288., 289., 290., 291., 292., 293., 294., 295., 296.,\n",
       "         297., 298., 299., 300., 301., 302., 303., 304., 305., 306., 307.,\n",
       "         308., 309., 310., 311., 312., 313., 314., 315., 316., 317., 318.,\n",
       "         319., 320., 321., 322., 323., 324., 325., 326., 327., 328., 329.,\n",
       "         330., 331., 332., 333., 334., 335., 336., 337., 338., 339., 340.,\n",
       "         341., 342., 343., 344., 345., 346., 347., 348., 349., 350., 351.,\n",
       "         352., 353., 354., 355., 356., 357., 358., 359., 360., 361., 362.,\n",
       "         363., 364., 365., 366., 367., 368., 369., 370., 371., 372., 373.,\n",
       "         374., 375., 376., 377., 378., 379., 380., 381., 382., 383., 384.,\n",
       "         385., 386., 387., 388., 389., 390., 391., 392., 393., 394., 395.,\n",
       "         396., 397., 398., 399., 400., 401., 402., 403., 404., 405., 406.,\n",
       "         407., 408., 409., 410., 411., 412., 413., 414., 415., 416., 417.,\n",
       "         418., 419., 420., 421., 422., 423., 424., 425., 426., 427., 428.,\n",
       "         429., 430., 431., 432., 433., 434., 435., 436., 437., 438., 439.,\n",
       "         440., 441., 442., 443., 444., 445., 446., 447., 448., 449., 450.,\n",
       "         451., 452., 453., 454., 455., 456., 457., 458., 459., 460., 461.,\n",
       "         462., 463., 464., 465., 466., 467., 468., 469., 470., 471., 472.,\n",
       "         473., 474., 475., 476., 477., 478., 479., 480., 481., 482., 483.,\n",
       "         484., 485., 486., 487., 488., 489., 490., 491., 492., 493., 494.,\n",
       "         495., 496., 497., 498., 499., 500.])),\n",
       " (<__main__.DummyArray: spectrum at 139845039646288>,\n",
       "  array([5.87089055e-01, 5.33817904e-01, 7.12120456e-01, 6.58064953e-01,\n",
       "         9.91447009e-01, 9.00507289e-01, 2.92013396e-01, 6.93150276e-01,\n",
       "         9.63381043e-01, 9.91519466e-01, 9.07114488e-02, 8.70622971e-01,\n",
       "         7.98746260e-01, 2.16018213e-01, 1.17816386e-01, 5.10226764e-01,\n",
       "         6.48423882e-01, 9.59369743e-02, 9.95063983e-01, 7.13497400e-01,\n",
       "         6.93601322e-01, 7.36238046e-01, 8.26631588e-01, 5.50223333e-01,\n",
       "         1.38378667e-02, 9.16440565e-01, 2.65027060e-01, 6.19208168e-01,\n",
       "         1.43125728e-01, 6.78109900e-01, 4.21419474e-01, 6.29611763e-01,\n",
       "         2.70152688e-01, 5.93744226e-01, 6.09832611e-01, 9.77241144e-02,\n",
       "         1.06610138e-01, 8.13469978e-01, 5.24871436e-01, 8.36153977e-01,\n",
       "         6.28831537e-02, 6.81853886e-02, 4.12937504e-01, 2.61417734e-01,\n",
       "         2.99672717e-01, 3.32213119e-01, 7.58833415e-01, 4.97212180e-01,\n",
       "         5.65508829e-01, 1.52887659e-01, 4.88729925e-01, 4.98716921e-01,\n",
       "         8.39159807e-01, 6.50107218e-01, 3.48710613e-01, 1.75035614e-02,\n",
       "         4.23235854e-01, 6.54785218e-01, 7.96108527e-01, 4.48433111e-01,\n",
       "         2.78512544e-01, 8.62275694e-01, 9.65711029e-01, 8.51707517e-02,\n",
       "         4.87244622e-02, 3.84292749e-02, 1.56704596e-01, 6.15791670e-01,\n",
       "         8.55312629e-02, 1.55734083e-01, 6.06174274e-01, 4.09811996e-01,\n",
       "         5.78383732e-01, 7.72949529e-02, 3.18023145e-01, 4.69557027e-01,\n",
       "         7.44544461e-01, 8.29524943e-01, 6.09296008e-01, 2.47199362e-01,\n",
       "         3.97592435e-01, 7.89249112e-01, 8.85824136e-01, 5.20998128e-01,\n",
       "         9.51556677e-01, 9.57745169e-01, 4.61081454e-01, 5.27459965e-01,\n",
       "         5.17439382e-01, 8.37916418e-02, 1.53109182e-01, 2.54876185e-01,\n",
       "         3.35224586e-01, 8.25115750e-01, 9.34071062e-01, 1.46005892e-01,\n",
       "         3.11106918e-01, 9.10612472e-01, 9.50370462e-02, 5.28502026e-01,\n",
       "         2.65952289e-01, 3.78481236e-01, 6.47665997e-01, 2.71089881e-01,\n",
       "         8.20365519e-01, 9.17116633e-01, 1.58545050e-01, 5.92191976e-01,\n",
       "         9.97773117e-01, 2.88201833e-01, 8.43125686e-01, 1.55318690e-01,\n",
       "         6.32859020e-01, 9.51095035e-01, 6.30787060e-01, 6.77428622e-01,\n",
       "         2.56095694e-01, 2.65596024e-02, 3.64857876e-02, 9.14388590e-01,\n",
       "         3.36043939e-01, 3.04316507e-01, 7.23074335e-01, 9.61235844e-01,\n",
       "         6.94723269e-01, 6.86277907e-01, 4.64668221e-01, 9.31414102e-01,\n",
       "         4.74083345e-01, 7.57034483e-01, 6.92123332e-01, 5.85636865e-01,\n",
       "         5.02322691e-02, 3.02568878e-01, 5.18923058e-01, 6.32208273e-02,\n",
       "         8.33296440e-01, 4.33559234e-01, 6.30555440e-01, 3.34914006e-01,\n",
       "         1.56502656e-01, 2.75193260e-02, 6.70091042e-01, 7.88101586e-01,\n",
       "         6.48832255e-01, 7.11461002e-01, 7.53154997e-01, 9.19587637e-01,\n",
       "         4.55730480e-01, 7.12860532e-01, 9.08400504e-01, 8.23272313e-01,\n",
       "         1.68149033e-01, 9.31206445e-01, 6.21291088e-01, 3.67541224e-01,\n",
       "         9.50703361e-01, 8.75907621e-01, 6.10005883e-01, 6.16761388e-01,\n",
       "         8.07369988e-01, 9.48966074e-01, 2.30539236e-01, 8.88488440e-03,\n",
       "         9.70117337e-01, 1.03244818e-01, 5.23773140e-01, 3.22720371e-01,\n",
       "         1.77712629e-01, 6.59282248e-01, 4.42413408e-01, 8.36658439e-01,\n",
       "         8.45900592e-01, 6.81163584e-01, 3.29767077e-01, 9.49395995e-01,\n",
       "         2.82577421e-02, 8.58100044e-01, 6.99166092e-02, 3.09455066e-01,\n",
       "         9.21741505e-01, 7.67643737e-01, 4.93755521e-01, 5.36845672e-01,\n",
       "         1.26471340e-01, 5.77851482e-01, 4.03232383e-01, 8.39804407e-01,\n",
       "         3.03084333e-01, 9.90635655e-01, 5.39927803e-01, 2.84249878e-01,\n",
       "         8.76237738e-02, 6.64421720e-01, 6.27521750e-01, 8.02252525e-02,\n",
       "         7.64249679e-01, 1.18839325e-01, 5.52835405e-01, 6.94704096e-01,\n",
       "         4.19655334e-01, 6.38329339e-01, 3.04546043e-01, 7.57659549e-01,\n",
       "         2.58404803e-01, 3.12467243e-01, 8.49498922e-01, 1.27724923e-01,\n",
       "         7.18156136e-01, 6.66877593e-01, 5.30980340e-02, 7.43760608e-01,\n",
       "         7.62679273e-01, 1.14410499e-01, 1.19747968e-01, 5.46623810e-01,\n",
       "         6.22744760e-01, 5.11742112e-03, 4.57531100e-01, 8.79099067e-01,\n",
       "         3.58517909e-01, 6.47531097e-01, 1.34270820e-01, 7.36155911e-01,\n",
       "         5.05469154e-01, 1.17406359e-01, 5.38670423e-01, 7.02355785e-02,\n",
       "         8.69671700e-01, 8.87986211e-01, 8.07310262e-01, 9.83685170e-01,\n",
       "         6.19627036e-01, 7.69320780e-01, 1.84076317e-01, 6.20576541e-02,\n",
       "         1.32791900e-01, 1.59492092e-01, 1.21115834e-01, 6.92479661e-01,\n",
       "         2.19598474e-01, 1.34810498e-01, 8.22174482e-01, 8.70671145e-01,\n",
       "         4.11129312e-01, 6.01280248e-02, 2.09867358e-01, 9.63010759e-01,\n",
       "         2.91363631e-01, 1.27111272e-01, 5.90668952e-01, 8.00468121e-01,\n",
       "         4.61272782e-01, 6.63548891e-01, 3.55561543e-01, 4.35639710e-01,\n",
       "         1.10373762e-01, 6.54777785e-01, 8.56794563e-01, 3.00404236e-02,\n",
       "         5.82990009e-01, 8.41685694e-01, 1.21776136e-01, 5.86294717e-01,\n",
       "         9.63914923e-01, 8.40326331e-01, 3.96620993e-01, 3.38028124e-02,\n",
       "         5.51174058e-01, 5.96377489e-01, 6.49508274e-01, 9.26307251e-01,\n",
       "         4.23518031e-01, 3.00416461e-01, 5.21421496e-01, 3.18520165e-02,\n",
       "         3.67152593e-01, 5.79724424e-01, 3.90363729e-01, 1.35413364e-01,\n",
       "         6.58872054e-01, 2.10250155e-01, 9.36359596e-01, 8.43705332e-01,\n",
       "         8.97706124e-01, 3.25295025e-01, 8.03071028e-01, 3.37073184e-01,\n",
       "         9.51848997e-01, 9.68169169e-01, 9.51893993e-01, 4.49388698e-04,\n",
       "         8.09989567e-01, 7.42447057e-01, 7.20248685e-01, 2.20734470e-01,\n",
       "         7.99939493e-01, 3.05082804e-01, 5.71621849e-01, 2.53360332e-01,\n",
       "         5.58583291e-01, 2.02212605e-01, 4.35668979e-01, 4.16468426e-01,\n",
       "         9.41981102e-02, 6.76930359e-01, 9.81760508e-02, 3.43241350e-01,\n",
       "         9.34169484e-02, 7.07279944e-02, 3.89495423e-01, 2.37378054e-02,\n",
       "         3.48278687e-01, 7.56681267e-02, 5.33152451e-01, 5.56935392e-01,\n",
       "         7.31637607e-01, 5.97901698e-01, 4.13628240e-01, 7.36239305e-01,\n",
       "         8.44374088e-01, 4.61030415e-01, 1.40239162e-02, 3.47068453e-01,\n",
       "         7.41922961e-02, 8.77508671e-01, 2.91524204e-01, 4.90809995e-01,\n",
       "         3.82395120e-01, 2.39059487e-03, 9.37563794e-01, 4.07737781e-01,\n",
       "         6.90763385e-01, 1.71489602e-01, 8.80058072e-01, 8.97140337e-01,\n",
       "         9.29837632e-01, 9.23454415e-01, 7.27890327e-01, 3.64585183e-01,\n",
       "         2.49039746e-01, 5.75878733e-01, 7.17259927e-01, 4.82621383e-01,\n",
       "         4.79256171e-01, 9.29856020e-01, 9.43446642e-01, 4.91954701e-01,\n",
       "         8.52872777e-02, 2.43691536e-01, 8.30708246e-01, 6.67813301e-02,\n",
       "         7.68725354e-01, 7.50145475e-01, 8.96081378e-01, 6.75386585e-01,\n",
       "         6.61958904e-01, 6.69590001e-01, 3.30473420e-01, 1.21490726e-02,\n",
       "         8.08541535e-01, 9.03996509e-01, 6.40307444e-02, 7.70775624e-02,\n",
       "         2.87563003e-01, 1.79333189e-01, 2.83349004e-01, 2.13607568e-01,\n",
       "         5.93301809e-02, 5.88592181e-01, 3.60356001e-01, 3.73717252e-01,\n",
       "         9.26031744e-01, 4.91175414e-01, 2.07289864e-01, 6.98629847e-01,\n",
       "         1.44900574e-01, 2.55706162e-01, 5.88755129e-03, 8.64085650e-01,\n",
       "         7.19031904e-01, 5.68237849e-01, 4.14869261e-01, 5.21041740e-01,\n",
       "         3.27109982e-01, 3.34467051e-01, 4.93829166e-02, 9.18275149e-01,\n",
       "         4.23147237e-01, 1.13372238e-01, 6.00880013e-01, 8.50039744e-01,\n",
       "         9.99883211e-02, 5.38873607e-01, 8.24678033e-02, 5.02789173e-02,\n",
       "         7.32137892e-01, 8.38515145e-01, 4.28449136e-01, 2.20083340e-01,\n",
       "         6.74425453e-01, 4.58866148e-01, 7.30291626e-01, 9.89604066e-01,\n",
       "         7.42745193e-01, 7.58996136e-01, 7.10532795e-01, 6.64169645e-01,\n",
       "         6.03235219e-01, 8.89203782e-02, 2.45356583e-01, 9.77971991e-01,\n",
       "         6.81630125e-01, 6.88359074e-01, 8.24074177e-01, 4.74160929e-01,\n",
       "         1.70178878e-01, 1.76457089e-01, 8.81293000e-01, 1.26861585e-01,\n",
       "         6.52284558e-01, 3.60068576e-01, 8.96074324e-01, 6.01723892e-01,\n",
       "         7.40597094e-01, 8.34730815e-02, 9.27843413e-01, 5.10433524e-01,\n",
       "         9.71922775e-01, 8.76093004e-01, 2.94943767e-01, 9.26832746e-01,\n",
       "         7.79552943e-01, 6.18214523e-01, 1.08161229e-01, 5.99014660e-01,\n",
       "         2.74388414e-01, 7.39194351e-01, 3.72856103e-01, 2.13556146e-01,\n",
       "         6.93525856e-01, 5.85202951e-01, 6.38223333e-02, 6.62130357e-02,\n",
       "         3.18668952e-01, 7.01047860e-01, 1.73979472e-01, 6.34655877e-01,\n",
       "         6.90639672e-01, 3.94444282e-01, 9.70685939e-01, 3.49589469e-01,\n",
       "         6.75586396e-01, 4.53542788e-01, 6.58514123e-01, 1.43017086e-01,\n",
       "         2.74792233e-01, 1.39264499e-01, 1.12161726e-01, 8.27298308e-01,\n",
       "         9.04812164e-01, 6.61427782e-01, 3.61680924e-01, 3.35055684e-01,\n",
       "         4.87816010e-01, 6.49772106e-01, 6.82898597e-01, 5.59586314e-01,\n",
       "         3.78602644e-01, 8.25824107e-01, 8.64975442e-01, 6.79374805e-01,\n",
       "         9.38870476e-01, 2.15353896e-01, 3.23938036e-02, 2.99990008e-01,\n",
       "         1.43425693e-01, 7.61497433e-01, 9.00906357e-01, 6.92028696e-01,\n",
       "         4.86323918e-01, 9.52782284e-01, 6.43605842e-01, 2.54640959e-01,\n",
       "         3.52385639e-03, 1.05708917e-01, 7.10431286e-01, 2.08535387e-01,\n",
       "         7.46322182e-01, 6.59606742e-01, 8.84151567e-01, 6.08490125e-01,\n",
       "         7.52173357e-02, 2.92295073e-01, 1.17639120e-01, 4.92850722e-01,\n",
       "         4.92595947e-01, 2.59611380e-02, 7.94103929e-01, 2.41962384e-01,\n",
       "         8.12105253e-01]))]"
      ]
     },
     "execution_count": 1,
     "metadata": {},
     "output_type": "execute_result"
    }
   ],
   "source": [
    "expand_setpoints_helper(a.spectrum)"
   ]
  },
  {
   "cell_type": "code",
   "execution_count": 21,
   "metadata": {
    "execution": {
     "iopub.execute_input": "2020-09-21T15:48:00.560350Z",
     "iopub.status.busy": "2020-09-21T15:48:00.559576Z",
     "iopub.status.idle": "2020-09-21T15:48:00.575311Z",
     "shell.execute_reply": "2020-09-21T15:48:00.575934Z"
    }
   },
   "outputs": [
    {
     "name": "stdout",
     "output_type": "stream",
     "text": [
      "Starting experimental run with id: 2. \n"
     ]
    }
   ],
   "source": [
    "meas = Measurement()\n",
    "meas.register_parameter(a.spectrum)\n",
    "\n",
    "with meas.run() as datasaver:\n",
    "    datasaver.add_result(*expand_setpoints_helper(a.spectrum))\n",
    "    \n",
    "    dataid = datasaver.run_id"
   ]
  },
  {
   "cell_type": "code",
   "execution_count": null,
   "metadata": {},
   "outputs": [],
   "source": []
  }
 ],
 "metadata": {
  "kernelspec": {
   "display_name": "Python 3",
   "language": "python",
   "name": "python3"
  },
  "language_info": {
   "codemirror_mode": {
    "name": "ipython",
    "version": 3
   },
   "file_extension": ".py",
   "mimetype": "text/x-python",
   "name": "python",
   "nbconvert_exporter": "python",
   "pygments_lexer": "ipython3",
   "version": "3.7.7"
  },
  "toc": {
   "base_numbering": 1,
   "nav_menu": {},
   "number_sections": true,
   "sideBar": true,
   "skip_h1_title": false,
   "title_cell": "Table of Contents",
   "title_sidebar": "Contents",
   "toc_cell": false,
   "toc_position": {},
   "toc_section_display": true,
   "toc_window_display": false
  },
  "varInspector": {
   "cols": {
    "lenName": 16,
    "lenType": 16,
    "lenVar": 40
   },
   "kernels_config": {
    "python": {
     "delete_cmd_postfix": "",
     "delete_cmd_prefix": "del ",
     "library": "var_list.py",
     "varRefreshCmd": "print(var_dic_list())"
    },
    "r": {
     "delete_cmd_postfix": ") ",
     "delete_cmd_prefix": "rm(",
     "library": "var_list.r",
     "varRefreshCmd": "cat(var_dic_list()) "
    }
   },
   "types_to_exclude": [
    "module",
    "function",
    "builtin_function_or_method",
    "instance",
    "_Feature"
   ],
   "window_display": false
  }
 },
 "nbformat": 4,
 "nbformat_minor": 2
}
