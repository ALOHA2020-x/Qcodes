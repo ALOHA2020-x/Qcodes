{
 "cells": [
  {
   "cell_type": "markdown",
   "metadata": {},
   "source": [
    "# Simple Example of ParameterWithSetpoints\n",
    "This notebook provides an example for writing a simple driver with a parameter that has setpoints. Let's name this parameter that has setpoints as \"y\". Then, the setpoints, say \"x1, x2, x3 ..\", are the parameters on which the parameter \n",
    "\"y\" depends upon. Meaning \"y\" is a function of \"x1, x2, x3 ...\" where \"x1, x2, x3 ...\" are known as the setpoints of parameter \"y\".\n",
    "\n",
    "This is most likely to be useful for instruments that return arrays of results. In this notebook, we will show an example of this."
   ]
  },
  {
   "cell_type": "code",
   "execution_count": 1,
   "metadata": {},
   "outputs": [],
   "source": [
    "import numpy as np\n",
    "import os"
   ]
  },
  {
   "cell_type": "code",
   "execution_count": 2,
   "metadata": {},
   "outputs": [
    {
     "name": "stdout",
     "output_type": "stream",
     "text": [
      "Logging hadn't been started.\n",
      "Activating auto-logging. Current session state plus future input saved.\n",
      "Filename       : /home/vsts/.qcodes/logs/command_history.log\n",
      "Mode           : append\n",
      "Output logging : True\n",
      "Raw input log  : False\n",
      "Timestamping   : True\n",
      "State          : active\n"
     ]
    },
    {
     "name": "stdout",
     "output_type": "stream",
     "text": [
      "Qcodes Logfile : /home/vsts/.qcodes/logs/200615-22392-qcodes.log\n"
     ]
    }
   ],
   "source": [
    "from qcodes.dataset.plotting import plot_dataset\n",
    "from qcodes.utils.validators import Numbers, Arrays\n",
    "from qcodes.instrument.base import Instrument\n",
    "from qcodes.dataset.measurements import Measurement"
   ]
  },
  {
   "cell_type": "code",
   "execution_count": 3,
   "metadata": {},
   "outputs": [],
   "source": [
    "from qcodes.dataset.sqlite.database import initialise_or_create_database_at\n",
    "from qcodes.dataset.experiment_container import load_or_create_experiment"
   ]
  },
  {
   "cell_type": "code",
   "execution_count": 4,
   "metadata": {},
   "outputs": [],
   "source": [
    "from qcodes.instrument.parameter import ParameterWithSetpoints, Parameter\n",
    "from qcodes.instrument.parameter import expand_setpoints_helper"
   ]
  },
  {
   "cell_type": "markdown",
   "metadata": {},
   "source": [
    "First, we define a dummy instrument that returns something like a frequency spectrum starting from a frequency given by `f_start` to a frequency given by `f_stop` in `n_points` steps. \n",
    "\n",
    "The extra functionality of the `ParameterWithSetpoints` is implemented by giving it a reference to one or more parameters that acts like its setpoints. \n",
    "\n",
    "To setup a `ParameterWithSetpoints` we have to do two things in addition to what we do for a normal parameter.\n",
    "\n",
    "* Define one or more parameter for the setpoints (one for each dimension of the array and let the `ParameterWithSetpoints` know that these are the setpoints.\n",
    "* Give both the setpoints parameter(s) and the `ParameterWithSetpoints` a `validator` of type `Arrays` with a shape. The shapes should be such that the combined shape of the setpoints matches the shape of the `ParameterWithSetpoints`. Note that if the shape changes with the setting of the instrument, it can be defined by another parameter as shown below. "
   ]
  },
  {
   "cell_type": "code",
   "execution_count": 5,
   "metadata": {},
   "outputs": [],
   "source": [
    "class GeneratedSetPoints(Parameter):\n",
    "    \"\"\"\n",
    "    A parameter that generates a setpoint array from start, stop and num points\n",
    "    parameters.\n",
    "    \"\"\"\n",
    "    def __init__(self, startparam, stopparam, numpointsparam, *args, **kwargs):\n",
    "        super().__init__(*args, **kwargs)\n",
    "        self._startparam = startparam\n",
    "        self._stopparam = stopparam\n",
    "        self._numpointsparam = numpointsparam\n",
    "\n",
    "    def get_raw(self):\n",
    "        return np.linspace(self._startparam(), self._stopparam(),\n",
    "                              self._numpointsparam())\n",
    "\n",
    "class DummyArray(ParameterWithSetpoints):\n",
    "    \n",
    "    def get_raw(self):\n",
    "        npoints = self.root_instrument.n_points.get_latest()\n",
    "        return np.random.rand(npoints)\n",
    "    \n",
    "\n",
    "class DummySpectrumAnalyzer(Instrument):\n",
    "    \n",
    "    def __init__(self, name, **kwargs):\n",
    "        \n",
    "        super().__init__(name, **kwargs)\n",
    "            \n",
    "\n",
    "        self.add_parameter('f_start',\n",
    "                           initial_value=0,\n",
    "                           unit='Hz',\n",
    "                           label='f start',\n",
    "                           vals=Numbers(0,1e3),\n",
    "                           get_cmd=None,\n",
    "                           set_cmd=None)\n",
    "\n",
    "        self.add_parameter('f_stop',\n",
    "                           unit='Hz',\n",
    "                           label='f stop',\n",
    "                           vals=Numbers(1,1e3),\n",
    "                           get_cmd=None,\n",
    "                           set_cmd=None)\n",
    "\n",
    "        self.add_parameter('n_points',\n",
    "                           unit='',\n",
    "                           initial_value=10,\n",
    "                           vals=Numbers(1,1e3),\n",
    "                           get_cmd=None,\n",
    "                           set_cmd=None)\n",
    "        \n",
    "        self.add_parameter('freq_axis',\n",
    "                           unit='Hz',\n",
    "                           label='Freq Axis',\n",
    "                           parameter_class=GeneratedSetPoints,\n",
    "                           startparam=self.f_start,\n",
    "                           stopparam=self.f_stop,\n",
    "                           numpointsparam=self.n_points,\n",
    "                           vals=Arrays(shape=(self.n_points.get_latest,)))\n",
    "                           \n",
    "        self.add_parameter('spectrum',\n",
    "                   unit='dBm',\n",
    "                   setpoints=(self.freq_axis,),\n",
    "                   label='Spectrum',\n",
    "                   parameter_class=DummyArray,\n",
    "                   vals=Arrays(shape=(self.n_points.get_latest,)))\n",
    "                "
   ]
  },
  {
   "cell_type": "markdown",
   "metadata": {},
   "source": [
    "In the above example, the shape is defined by the parameter `n_points` that defines how many samples our `DummySpectrumAnalyzer` returns.\n",
    "\n",
    "This means that the validation will call the function to get `n_points` twice for each `get` of the parameter. This may be too slow, however, if you (as the driver-writer) can guarantee that the cached value for `n_points` will never be out of sync with the value stored in the instrument, `n_points` may be replaced by it's latest known value such that the `validator` reads:\n",
    "```python\n",
    "vals=Arrays(shape=(self.n_points.get_latest))\n",
    "```\n",
    "\n",
    "This avoids any additional call to the instrument. In the same way, the arguments to the `freq_axis` parameter that defines the start, stop and number of points can be replaced by their latest value if the instrument allows it.\n",
    "\n"
   ]
  },
  {
   "cell_type": "code",
   "execution_count": 6,
   "metadata": {},
   "outputs": [
    {
     "name": "stdout",
     "output_type": "stream",
     "text": [
      "\r",
      "0it [00:00, ?it/s]"
     ]
    },
    {
     "name": "stdout",
     "output_type": "stream",
     "text": [
      "\r",
      "Upgrading database; v0 -> v1: : 0it [00:00, ?it/s]"
     ]
    },
    {
     "name": "stdout",
     "output_type": "stream",
     "text": [
      "\r",
      "Upgrading database; v0 -> v1: : 0it [00:00, ?it/s]"
     ]
    },
    {
     "name": "stdout",
     "output_type": "stream",
     "text": [
      "\n",
      "\r",
      "  0%|          | 0/1 [00:00<?, ?it/s]"
     ]
    },
    {
     "name": "stdout",
     "output_type": "stream",
     "text": [
      "\r",
      "Upgrading database; v1 -> v2:   0%|          | 0/1 [00:00<?, ?it/s]"
     ]
    },
    {
     "name": "stdout",
     "output_type": "stream",
     "text": [
      "\r",
      "Upgrading database; v1 -> v2: 100%|██████████| 1/1 [00:00<00:00, 983.65it/s]"
     ]
    },
    {
     "name": "stdout",
     "output_type": "stream",
     "text": [
      "\n",
      "\r",
      "0it [00:00, ?it/s]"
     ]
    },
    {
     "name": "stdout",
     "output_type": "stream",
     "text": [
      "\r",
      "Upgrading database; v2 -> v3: : 0it [00:00, ?it/s]"
     ]
    },
    {
     "name": "stdout",
     "output_type": "stream",
     "text": [
      "\r",
      "Upgrading database; v2 -> v3: : 0it [00:00, ?it/s]"
     ]
    },
    {
     "name": "stdout",
     "output_type": "stream",
     "text": [
      "\n",
      "\r",
      "0it [00:00, ?it/s]"
     ]
    },
    {
     "name": "stdout",
     "output_type": "stream",
     "text": [
      "\r",
      "Upgrading database; v3 -> v4: : 0it [00:00, ?it/s]"
     ]
    },
    {
     "name": "stdout",
     "output_type": "stream",
     "text": [
      "\r",
      "Upgrading database; v3 -> v4: : 0it [00:00, ?it/s]"
     ]
    },
    {
     "name": "stdout",
     "output_type": "stream",
     "text": [
      "\n",
      "\r",
      "  0%|          | 0/1 [00:00<?, ?it/s]"
     ]
    },
    {
     "name": "stdout",
     "output_type": "stream",
     "text": [
      "\r",
      "Upgrading database; v4 -> v5:   0%|          | 0/1 [00:00<?, ?it/s]"
     ]
    },
    {
     "name": "stdout",
     "output_type": "stream",
     "text": [
      "\r",
      "Upgrading database; v4 -> v5: 100%|██████████| 1/1 [00:00<00:00, 1125.69it/s]"
     ]
    },
    {
     "name": "stdout",
     "output_type": "stream",
     "text": [
      "\n",
      "\r",
      "0it [00:00, ?it/s]"
     ]
    },
    {
     "name": "stdout",
     "output_type": "stream",
     "text": [
      "\r",
      "Upgrading database; v5 -> v6: : 0it [00:00, ?it/s]"
     ]
    },
    {
     "name": "stdout",
     "output_type": "stream",
     "text": [
      "\r",
      "Upgrading database; v5 -> v6: : 0it [00:00, ?it/s]"
     ]
    },
    {
     "name": "stdout",
     "output_type": "stream",
     "text": [
      "\n",
      "\r",
      "  0%|          | 0/1 [00:00<?, ?it/s]"
     ]
    },
    {
     "name": "stdout",
     "output_type": "stream",
     "text": [
      "\r",
      "Upgrading database; v6 -> v7:   0%|          | 0/1 [00:00<?, ?it/s]"
     ]
    },
    {
     "name": "stdout",
     "output_type": "stream",
     "text": [
      "\r",
      "Upgrading database; v6 -> v7: 100%|██████████| 1/1 [00:00<00:00, 533.76it/s]"
     ]
    },
    {
     "name": "stdout",
     "output_type": "stream",
     "text": [
      "\n",
      "\r",
      "  0%|          | 0/1 [00:00<?, ?it/s]"
     ]
    },
    {
     "name": "stdout",
     "output_type": "stream",
     "text": [
      "\r",
      "Upgrading database; v7 -> v8:   0%|          | 0/1 [00:00<?, ?it/s]"
     ]
    },
    {
     "name": "stdout",
     "output_type": "stream",
     "text": [
      "\r",
      "Upgrading database; v7 -> v8: 100%|██████████| 1/1 [00:00<00:00, 930.21it/s]"
     ]
    },
    {
     "name": "stdout",
     "output_type": "stream",
     "text": [
      "\n",
      "\r",
      "  0%|          | 0/1 [00:00<?, ?it/s]"
     ]
    },
    {
     "name": "stdout",
     "output_type": "stream",
     "text": [
      "\r",
      "Upgrading database; v8 -> v9:   0%|          | 0/1 [00:00<?, ?it/s]"
     ]
    },
    {
     "name": "stdout",
     "output_type": "stream",
     "text": [
      "\r",
      "Upgrading database; v8 -> v9: 100%|██████████| 1/1 [00:00<00:00, 1210.83it/s]"
     ]
    },
    {
     "name": "stdout",
     "output_type": "stream",
     "text": [
      "\n"
     ]
    },
    {
     "data": {
      "text/plain": [
       "tutorial_ParameterWithSetpoints#no sample#1@/home/vsts/work/1/s/docs/examples/Parameters/tutorial_paramter_with_setpoints.db\n",
       "----------------------------------------------------------------------------------------------------------------------------"
      ]
     },
     "execution_count": 6,
     "metadata": {},
     "output_type": "execute_result"
    }
   ],
   "source": [
    "tutorial_db_path = os.path.join(os.getcwd(), 'tutorial_paramter_with_setpoints.db')\n",
    "initialise_or_create_database_at(tutorial_db_path)\n",
    "load_or_create_experiment(experiment_name='tutorial_ParameterWithSetpoints', sample_name=\"no sample\")"
   ]
  },
  {
   "cell_type": "code",
   "execution_count": 7,
   "metadata": {},
   "outputs": [],
   "source": [
    "a = DummySpectrumAnalyzer('foobar')"
   ]
  },
  {
   "cell_type": "markdown",
   "metadata": {},
   "source": [
    "First we setup the limits of the spectrum"
   ]
  },
  {
   "cell_type": "code",
   "execution_count": 8,
   "metadata": {},
   "outputs": [],
   "source": [
    "a.f_start(0)\n",
    "a.f_stop(500)\n",
    "a.n_points(501)"
   ]
  },
  {
   "cell_type": "markdown",
   "metadata": {},
   "source": [
    "And we can grab the frequency axis"
   ]
  },
  {
   "cell_type": "code",
   "execution_count": 9,
   "metadata": {},
   "outputs": [
    {
     "data": {
      "text/plain": [
       "501"
      ]
     },
     "execution_count": 9,
     "metadata": {},
     "output_type": "execute_result"
    }
   ],
   "source": [
    "a.n_points()"
   ]
  },
  {
   "cell_type": "code",
   "execution_count": 10,
   "metadata": {
    "scrolled": false
   },
   "outputs": [
    {
     "data": {
      "text/plain": [
       "501"
      ]
     },
     "execution_count": 10,
     "metadata": {},
     "output_type": "execute_result"
    }
   ],
   "source": [
    "freq_axis = a.freq_axis()\n",
    "len(freq_axis)"
   ]
  },
  {
   "cell_type": "code",
   "execution_count": 11,
   "metadata": {},
   "outputs": [
    {
     "data": {
      "text/plain": [
       "array([0., 1., 2., 3., 4., 5., 6., 7., 8., 9.])"
      ]
     },
     "execution_count": 11,
     "metadata": {},
     "output_type": "execute_result"
    }
   ],
   "source": [
    "freq_axis[:10]"
   ]
  },
  {
   "cell_type": "markdown",
   "metadata": {},
   "source": [
    "As expected we get a result wit 501 points as we asked for an axis with 501 points. "
   ]
  },
  {
   "cell_type": "markdown",
   "metadata": {},
   "source": [
    "Above we have added a validator to the `freq_axis` parameter encoding the fact that this is an Array with `n_points`. Note that we do not have to supply the number of points as an integer but can supply a function that returns the valid number of points. This would normally be a QCoDeS parameter.\n",
    "\n",
    "This will be checked if we validate the output."
   ]
  },
  {
   "cell_type": "code",
   "execution_count": 12,
   "metadata": {},
   "outputs": [],
   "source": [
    "a.freq_axis.validate(a.freq_axis.get())"
   ]
  },
  {
   "cell_type": "markdown",
   "metadata": {},
   "source": [
    "Naturally, we can also get the spectrum. Getting the spectrum will automatically perform validation both for the shape of the parameter itself and the relation to the setpoint parameter(s)"
   ]
  },
  {
   "cell_type": "code",
   "execution_count": 13,
   "metadata": {
    "scrolled": true
   },
   "outputs": [
    {
     "data": {
      "text/plain": [
       "501"
      ]
     },
     "execution_count": 13,
     "metadata": {},
     "output_type": "execute_result"
    }
   ],
   "source": [
    "spectrum = a.spectrum.get()\n",
    "len(spectrum)"
   ]
  },
  {
   "cell_type": "markdown",
   "metadata": {},
   "source": [
    "When we validate a `ParameterWithSetpoints`, we automatically validate that the shape is consistent between the parameters and its setpoints. As well as validating the shape as above."
   ]
  },
  {
   "cell_type": "code",
   "execution_count": 14,
   "metadata": {},
   "outputs": [],
   "source": [
    "a.spectrum.validate(a.spectrum.get())"
   ]
  },
  {
   "cell_type": "markdown",
   "metadata": {},
   "source": [
    "The consistent shapes can be validated explicitly."
   ]
  },
  {
   "cell_type": "code",
   "execution_count": 15,
   "metadata": {},
   "outputs": [],
   "source": [
    "a.spectrum.validate_consistent_shape()"
   ]
  },
  {
   "cell_type": "markdown",
   "metadata": {},
   "source": [
    "We can inspect the setpoints of the spectrum."
   ]
  },
  {
   "cell_type": "code",
   "execution_count": 16,
   "metadata": {},
   "outputs": [
    {
     "data": {
      "text/plain": [
       "(<__main__.GeneratedSetPoints: freq_axis at 140219397601296>,)"
      ]
     },
     "execution_count": 16,
     "metadata": {},
     "output_type": "execute_result"
    }
   ],
   "source": [
    "a.spectrum.setpoints"
   ]
  },
  {
   "cell_type": "markdown",
   "metadata": {},
   "source": [
    "Or even change them."
   ]
  },
  {
   "cell_type": "code",
   "execution_count": 17,
   "metadata": {},
   "outputs": [],
   "source": [
    "a.spectrum.setpoints = (a.freq_axis,)"
   ]
  },
  {
   "cell_type": "markdown",
   "metadata": {},
   "source": [
    "## Measurement"
   ]
  },
  {
   "cell_type": "markdown",
   "metadata": {},
   "source": [
    "We can also directly consume the parameter in a measurement without defining the setpoints of the parameter again. The setpoints are automatically obtained from the definition of the `ParameterWithSetpoint` instance. "
   ]
  },
  {
   "cell_type": "code",
   "execution_count": 18,
   "metadata": {},
   "outputs": [
    {
     "name": "stdout",
     "output_type": "stream",
     "text": [
      "Starting experimental run with id: 1. \n"
     ]
    }
   ],
   "source": [
    "meas = Measurement()\n",
    "meas.register_parameter(a.spectrum)\n",
    "\n",
    "with meas.run() as datasaver:\n",
    "    datasaver.add_result((a.freq_axis, a.freq_axis()),\n",
    "                         (a.spectrum, a.spectrum()))\n",
    "    dataset = datasaver.dataset"
   ]
  },
  {
   "cell_type": "markdown",
   "metadata": {},
   "source": [
    "And plot it"
   ]
  },
  {
   "cell_type": "code",
   "execution_count": 19,
   "metadata": {},
   "outputs": [
    {
     "data": {
      "text/plain": [
       "([<matplotlib.axes._subplots.AxesSubplot at 0x7f875e9a7e90>], [None])"
      ]
     },
     "execution_count": 19,
     "metadata": {},
     "output_type": "execute_result"
    },
    {
     "data": {
      "image/png": "[encoded data removed]",
      "text/plain": [
       "<Figure size 432x288 with 1 Axes>"
      ]
     },
     "metadata": {
      "needs_background": "light"
     },
     "output_type": "display_data"
    }
   ],
   "source": [
    "plot_dataset(dataset)"
   ]
  },
  {
   "cell_type": "markdown",
   "metadata": {},
   "source": [
    "To reduce the amount of typing a simple convenience function is provided that will take a `ParameterWithSetpoints` and get both its values and the setpoints values and return them as tuples for direct insertion into the Dataset."
   ]
  },
  {
   "cell_type": "code",
   "execution_count": 20,
   "metadata": {
    "scrolled": true
   },
   "outputs": [
    {
     "data": {
      "text/plain": [
       "[(<__main__.GeneratedSetPoints: freq_axis at 140219397601296>,\n",
       "  array([  0.,   1.,   2.,   3.,   4.,   5.,   6.,   7.,   8.,   9.,  10.,\n",
       "          11.,  12.,  13.,  14.,  15.,  16.,  17.,  18.,  19.,  20.,  21.,\n",
       "          22.,  23.,  24.,  25.,  26.,  27.,  28.,  29.,  30.,  31.,  32.,\n",
       "          33.,  34.,  35.,  36.,  37.,  38.,  39.,  40.,  41.,  42.,  43.,\n",
       "          44.,  45.,  46.,  47.,  48.,  49.,  50.,  51.,  52.,  53.,  54.,\n",
       "          55.,  56.,  57.,  58.,  59.,  60.,  61.,  62.,  63.,  64.,  65.,\n",
       "          66.,  67.,  68.,  69.,  70.,  71.,  72.,  73.,  74.,  75.,  76.,\n",
       "          77.,  78.,  79.,  80.,  81.,  82.,  83.,  84.,  85.,  86.,  87.,\n",
       "          88.,  89.,  90.,  91.,  92.,  93.,  94.,  95.,  96.,  97.,  98.,\n",
       "          99., 100., 101., 102., 103., 104., 105., 106., 107., 108., 109.,\n",
       "         110., 111., 112., 113., 114., 115., 116., 117., 118., 119., 120.,\n",
       "         121., 122., 123., 124., 125., 126., 127., 128., 129., 130., 131.,\n",
       "         132., 133., 134., 135., 136., 137., 138., 139., 140., 141., 142.,\n",
       "         143., 144., 145., 146., 147., 148., 149., 150., 151., 152., 153.,\n",
       "         154., 155., 156., 157., 158., 159., 160., 161., 162., 163., 164.,\n",
       "         165., 166., 167., 168., 169., 170., 171., 172., 173., 174., 175.,\n",
       "         176., 177., 178., 179., 180., 181., 182., 183., 184., 185., 186.,\n",
       "         187., 188., 189., 190., 191., 192., 193., 194., 195., 196., 197.,\n",
       "         198., 199., 200., 201., 202., 203., 204., 205., 206., 207., 208.,\n",
       "         209., 210., 211., 212., 213., 214., 215., 216., 217., 218., 219.,\n",
       "         220., 221., 222., 223., 224., 225., 226., 227., 228., 229., 230.,\n",
       "         231., 232., 233., 234., 235., 236., 237., 238., 239., 240., 241.,\n",
       "         242., 243., 244., 245., 246., 247., 248., 249., 250., 251., 252.,\n",
       "         253., 254., 255., 256., 257., 258., 259., 260., 261., 262., 263.,\n",
       "         264., 265., 266., 267., 268., 269., 270., 271., 272., 273., 274.,\n",
       "         275., 276., 277., 278., 279., 280., 281., 282., 283., 284., 285.,\n",
       "         286., 287., 288., 289., 290., 291., 292., 293., 294., 295., 296.,\n",
       "         297., 298., 299., 300., 301., 302., 303., 304., 305., 306., 307.,\n",
       "         308., 309., 310., 311., 312., 313., 314., 315., 316., 317., 318.,\n",
       "         319., 320., 321., 322., 323., 324., 325., 326., 327., 328., 329.,\n",
       "         330., 331., 332., 333., 334., 335., 336., 337., 338., 339., 340.,\n",
       "         341., 342., 343., 344., 345., 346., 347., 348., 349., 350., 351.,\n",
       "         352., 353., 354., 355., 356., 357., 358., 359., 360., 361., 362.,\n",
       "         363., 364., 365., 366., 367., 368., 369., 370., 371., 372., 373.,\n",
       "         374., 375., 376., 377., 378., 379., 380., 381., 382., 383., 384.,\n",
       "         385., 386., 387., 388., 389., 390., 391., 392., 393., 394., 395.,\n",
       "         396., 397., 398., 399., 400., 401., 402., 403., 404., 405., 406.,\n",
       "         407., 408., 409., 410., 411., 412., 413., 414., 415., 416., 417.,\n",
       "         418., 419., 420., 421., 422., 423., 424., 425., 426., 427., 428.,\n",
       "         429., 430., 431., 432., 433., 434., 435., 436., 437., 438., 439.,\n",
       "         440., 441., 442., 443., 444., 445., 446., 447., 448., 449., 450.,\n",
       "         451., 452., 453., 454., 455., 456., 457., 458., 459., 460., 461.,\n",
       "         462., 463., 464., 465., 466., 467., 468., 469., 470., 471., 472.,\n",
       "         473., 474., 475., 476., 477., 478., 479., 480., 481., 482., 483.,\n",
       "         484., 485., 486., 487., 488., 489., 490., 491., 492., 493., 494.,\n",
       "         495., 496., 497., 498., 499., 500.])),\n",
       " (<__main__.DummyArray: spectrum at 140219393307728>,\n",
       "  array([7.75850886e-01, 1.60804147e-01, 5.05669245e-01, 4.30984015e-01,\n",
       "         1.04395287e-01, 8.12840665e-01, 9.77681051e-01, 3.74785033e-01,\n",
       "         7.95242614e-01, 7.21053563e-01, 9.08796060e-01, 9.69958245e-01,\n",
       "         6.49474457e-01, 1.43418552e-01, 6.88511203e-01, 7.43134480e-01,\n",
       "         8.59807006e-01, 2.72922968e-01, 8.44693976e-01, 4.99724630e-01,\n",
       "         7.57623407e-01, 1.97739172e-01, 8.04924845e-01, 7.29226379e-01,\n",
       "         6.13146973e-01, 3.63794210e-01, 3.99487397e-01, 1.65821172e-02,\n",
       "         4.75010477e-02, 8.73539297e-01, 2.06513181e-01, 5.92732690e-01,\n",
       "         7.16319245e-01, 1.93472347e-01, 1.36002267e-01, 9.54779536e-01,\n",
       "         9.47019067e-01, 9.36659171e-02, 6.28307607e-01, 7.81036129e-01,\n",
       "         9.87590315e-01, 5.60303307e-01, 4.85852094e-01, 6.25337444e-01,\n",
       "         8.72926381e-01, 8.46306305e-01, 3.82888691e-01, 2.73269107e-01,\n",
       "         6.42895002e-02, 4.92341600e-01, 4.56363731e-01, 6.81369598e-01,\n",
       "         8.64625638e-01, 3.00835513e-01, 6.55057397e-01, 2.70189616e-01,\n",
       "         2.28259539e-01, 7.85314778e-01, 4.22091795e-01, 6.14212154e-01,\n",
       "         6.94504849e-01, 7.46799403e-01, 6.36933317e-01, 5.63891641e-01,\n",
       "         3.20679667e-01, 7.42022603e-02, 2.31453754e-01, 1.83748537e-01,\n",
       "         6.60616832e-01, 5.51322388e-01, 5.32997733e-01, 7.79228744e-01,\n",
       "         1.64168633e-01, 7.20796219e-01, 1.95858900e-01, 1.28133909e-01,\n",
       "         3.90266627e-02, 7.43385019e-01, 1.47288786e-01, 3.22732447e-01,\n",
       "         6.76318737e-01, 1.33743971e-01, 2.68294038e-01, 1.11657148e-01,\n",
       "         6.96490183e-01, 3.88715346e-01, 8.42364341e-02, 9.55935472e-01,\n",
       "         2.10205334e-02, 6.89318010e-01, 9.05578184e-01, 8.00139394e-01,\n",
       "         3.40380073e-01, 9.73640855e-02, 1.20068854e-01, 3.64964945e-01,\n",
       "         9.05545711e-01, 2.01530542e-01, 7.64051774e-01, 1.13879184e-01,\n",
       "         7.18888492e-01, 3.66044432e-01, 4.60580757e-01, 1.13456490e-01,\n",
       "         4.17874649e-01, 2.29557072e-01, 4.24596637e-01, 1.78144544e-01,\n",
       "         9.89321152e-01, 5.14843669e-01, 7.13124598e-01, 8.90633525e-01,\n",
       "         7.61473521e-01, 9.62935203e-01, 2.19188397e-01, 5.43705196e-01,\n",
       "         8.15203166e-02, 4.36878265e-01, 6.66483299e-01, 4.97328075e-01,\n",
       "         7.62109876e-01, 3.08622448e-01, 1.78737680e-01, 1.46413780e-01,\n",
       "         3.63247897e-01, 6.85122719e-01, 7.74248399e-01, 6.26393342e-01,\n",
       "         4.11965905e-01, 9.23450051e-01, 8.40916941e-01, 3.21695227e-01,\n",
       "         6.57856607e-01, 5.02859256e-01, 8.72255054e-01, 2.85458006e-01,\n",
       "         7.27065631e-02, 6.80813147e-01, 7.42980354e-01, 8.10712640e-01,\n",
       "         1.83863831e-01, 4.46855235e-01, 5.39614634e-01, 1.17919830e-01,\n",
       "         6.79396937e-01, 9.72703512e-01, 9.97447733e-01, 1.70027668e-02,\n",
       "         6.48598382e-01, 7.84410236e-01, 5.96789574e-01, 6.06707713e-01,\n",
       "         7.41521321e-01, 1.35740941e-02, 8.38718382e-01, 6.24551864e-01,\n",
       "         6.19127764e-01, 9.18766597e-01, 4.74951595e-01, 6.94893589e-01,\n",
       "         8.30842973e-01, 3.03611996e-01, 5.14229652e-01, 7.62481755e-01,\n",
       "         8.03561497e-01, 3.76173243e-01, 4.60209264e-01, 9.84314299e-01,\n",
       "         3.83282052e-01, 3.43363082e-01, 8.70710269e-01, 3.22981343e-01,\n",
       "         1.04141708e-01, 7.05933041e-01, 6.77453056e-01, 4.43437970e-01,\n",
       "         5.53837779e-01, 8.33711102e-01, 8.21100048e-01, 9.13600364e-01,\n",
       "         3.96930901e-03, 8.68200434e-02, 5.15712229e-01, 6.24788977e-01,\n",
       "         8.73237375e-01, 5.44242065e-01, 7.61133666e-01, 2.91507916e-01,\n",
       "         4.96088498e-01, 5.54315813e-01, 2.23298538e-01, 3.03871431e-01,\n",
       "         9.96715033e-01, 3.02370005e-03, 6.10226959e-01, 2.07844580e-01,\n",
       "         8.08256654e-01, 5.03060605e-01, 6.12279690e-01, 9.62526830e-01,\n",
       "         4.18432879e-01, 2.26662704e-01, 2.28983389e-01, 7.18798120e-01,\n",
       "         4.87280075e-01, 9.16847259e-01, 4.52379541e-01, 2.37814923e-01,\n",
       "         7.01011489e-02, 9.36718565e-01, 5.06416311e-01, 6.26727329e-01,\n",
       "         6.93273228e-01, 8.98118975e-01, 1.69109305e-01, 3.73352966e-01,\n",
       "         6.67326933e-01, 7.43393581e-01, 2.89418010e-01, 3.90501372e-02,\n",
       "         7.67149541e-01, 6.92022378e-01, 4.42579485e-01, 8.40949591e-01,\n",
       "         8.32495169e-01, 4.14811973e-01, 3.87705943e-01, 6.38389491e-02,\n",
       "         2.98799160e-02, 2.54102522e-01, 4.27371422e-01, 2.11154197e-04,\n",
       "         9.50361842e-01, 8.45904915e-01, 2.64309927e-01, 6.17905442e-01,\n",
       "         9.42686789e-01, 5.39529087e-01, 1.66765249e-01, 4.23535538e-01,\n",
       "         5.12625599e-01, 5.40533864e-01, 4.33363438e-01, 1.81591516e-01,\n",
       "         8.12677585e-01, 6.90219504e-01, 3.54144055e-01, 3.68491625e-02,\n",
       "         5.54993233e-01, 2.20785522e-01, 4.21155960e-01, 9.16444828e-01,\n",
       "         1.03458987e-01, 5.00977608e-01, 2.15562684e-01, 7.52497963e-01,\n",
       "         8.85799886e-01, 2.84155610e-01, 5.29510090e-01, 5.79082508e-02,\n",
       "         8.25526887e-01, 7.01334256e-01, 8.66589722e-01, 3.00205941e-01,\n",
       "         6.20956442e-02, 5.45011482e-01, 7.99356960e-01, 4.07524113e-01,\n",
       "         8.79483571e-01, 7.69775627e-01, 8.01121575e-01, 4.94433310e-03,\n",
       "         8.88605331e-01, 6.89759707e-01, 6.31449583e-01, 9.46724662e-01,\n",
       "         2.82819671e-01, 3.49620081e-01, 4.56970076e-02, 6.67001694e-01,\n",
       "         6.48807147e-01, 9.77193342e-01, 8.75849387e-01, 1.32212818e-01,\n",
       "         6.28150819e-01, 3.27383820e-01, 9.42058747e-01, 4.67037592e-01,\n",
       "         4.37587098e-01, 9.32700053e-01, 1.23470956e-02, 5.73248578e-01,\n",
       "         5.14939159e-01, 4.46564187e-01, 2.40040884e-01, 8.05431538e-01,\n",
       "         6.64235430e-01, 3.97854494e-01, 1.96531378e-01, 3.76180939e-01,\n",
       "         3.92362675e-01, 3.78712532e-01, 7.96555527e-02, 8.25292908e-01,\n",
       "         1.66526783e-01, 9.91283923e-01, 8.80770108e-02, 5.41850594e-02,\n",
       "         5.46922001e-01, 4.37565206e-01, 9.18432558e-01, 1.61132896e-01,\n",
       "         8.88995625e-01, 2.84299903e-01, 5.63241925e-01, 9.17584143e-01,\n",
       "         6.47915155e-01, 9.67166643e-01, 2.42447040e-01, 7.93369010e-02,\n",
       "         7.75587234e-02, 2.08342543e-01, 3.35199940e-01, 3.03648545e-01,\n",
       "         5.73953533e-01, 1.26003435e-01, 1.09885602e-01, 3.43606086e-01,\n",
       "         9.78583197e-01, 2.90298049e-02, 4.80333404e-01, 6.66154522e-01,\n",
       "         8.52349779e-01, 9.12094767e-01, 4.72597907e-01, 3.22489833e-01,\n",
       "         8.44961851e-01, 1.25323604e-01, 8.35051853e-01, 2.26789628e-01,\n",
       "         5.07047713e-02, 1.74401545e-01, 8.22176448e-01, 2.10526451e-01,\n",
       "         8.03538836e-01, 4.45765127e-01, 5.18683216e-01, 8.51639559e-01,\n",
       "         1.54270428e-01, 9.58135907e-01, 2.73119585e-01, 3.57957133e-01,\n",
       "         1.59855599e-01, 8.93895416e-01, 9.88741755e-01, 7.71150187e-01,\n",
       "         3.89508604e-02, 2.81870534e-01, 8.45257585e-01, 6.92894697e-01,\n",
       "         8.72484151e-01, 2.57343817e-01, 1.66816543e-01, 9.92660447e-01,\n",
       "         9.53416926e-01, 7.54930744e-01, 7.48420505e-01, 3.33568497e-02,\n",
       "         4.64584631e-01, 2.62908599e-01, 4.78410994e-01, 6.75702300e-01,\n",
       "         6.75453277e-01, 6.46073061e-01, 2.91039471e-01, 7.14808484e-01,\n",
       "         3.78683952e-01, 3.67637785e-03, 6.03224935e-01, 1.17124753e-01,\n",
       "         8.38753360e-01, 5.25067348e-01, 2.69003629e-01, 1.12727154e-01,\n",
       "         1.30200133e-01, 3.84176391e-01, 1.93056605e-01, 9.68980144e-03,\n",
       "         9.68357878e-01, 8.21060235e-01, 3.49183577e-01, 4.30305174e-01,\n",
       "         2.36807626e-01, 5.86706274e-01, 4.56670047e-01, 3.94862983e-01,\n",
       "         5.85616445e-01, 7.01625574e-01, 2.82219617e-01, 4.97207162e-01,\n",
       "         6.11336094e-02, 7.38345039e-01, 4.59883317e-01, 4.71944353e-01,\n",
       "         5.31464475e-01, 4.27210606e-01, 9.42377072e-01, 4.50334000e-01,\n",
       "         4.96097707e-01, 7.50974956e-01, 1.13470405e-01, 8.34863918e-01,\n",
       "         1.65696800e-01, 7.32838949e-01, 6.17697724e-01, 2.64392148e-01,\n",
       "         2.40454804e-01, 3.05368133e-01, 3.78879729e-01, 6.07897869e-01,\n",
       "         5.44559736e-01, 5.69646330e-01, 6.12094611e-01, 5.32985051e-01,\n",
       "         8.77090560e-01, 1.68863861e-01, 6.33311324e-01, 4.49486167e-01,\n",
       "         2.81236252e-01, 6.44699105e-01, 3.81711862e-01, 8.84118324e-01,\n",
       "         4.74298764e-01, 7.53989593e-02, 8.33531793e-01, 5.27358529e-01,\n",
       "         5.23386955e-01, 2.13103921e-01, 6.57830236e-01, 4.49778911e-01,\n",
       "         7.97957333e-01, 2.82417031e-01, 1.33469728e-01, 2.72797120e-01,\n",
       "         6.77735924e-01, 1.63392302e-01, 1.31541468e-01, 8.05908336e-01,\n",
       "         7.81898650e-01, 9.88205655e-01, 3.81620646e-01, 8.26734022e-01,\n",
       "         1.56033509e-01, 1.41259668e-01, 3.12704489e-01, 7.73894479e-01,\n",
       "         1.93671790e-01, 6.41418102e-01, 7.20753742e-01, 5.03952918e-01,\n",
       "         8.29027058e-01, 5.63015975e-01, 7.67519715e-02, 3.75592417e-01,\n",
       "         1.54327453e-01, 2.86767856e-01, 2.76817918e-02, 7.04834936e-01,\n",
       "         3.77111470e-01, 6.33126295e-01, 2.80339308e-02, 8.64903040e-01,\n",
       "         4.78965940e-02, 2.19841943e-01, 4.44303916e-01, 1.26990059e-01,\n",
       "         6.88171932e-01, 7.11833368e-01, 9.93373731e-01, 5.04625054e-01,\n",
       "         1.53201750e-02, 8.71918392e-01, 8.77333102e-01, 4.85755232e-01,\n",
       "         1.68328093e-01, 5.41769238e-01, 1.17531867e-01, 4.31660268e-01,\n",
       "         9.81875466e-01, 8.68449742e-01, 6.86281316e-01, 3.53551039e-01,\n",
       "         9.47787492e-01, 8.84559962e-01, 7.49908623e-01, 1.21451713e-01,\n",
       "         3.77545768e-01, 8.07794633e-02, 2.25004383e-01, 5.40014013e-01,\n",
       "         9.99423019e-01]))]"
      ]
     },
     "execution_count": 20,
     "metadata": {},
     "output_type": "execute_result"
    }
   ],
   "source": [
    "expand_setpoints_helper(a.spectrum)"
   ]
  },
  {
   "cell_type": "code",
   "execution_count": 21,
   "metadata": {},
   "outputs": [
    {
     "name": "stdout",
     "output_type": "stream",
     "text": [
      "Starting experimental run with id: 2. \n"
     ]
    }
   ],
   "source": [
    "meas = Measurement()\n",
    "meas.register_parameter(a.spectrum)\n",
    "\n",
    "with meas.run() as datasaver:\n",
    "    datasaver.add_result(*expand_setpoints_helper(a.spectrum))\n",
    "    \n",
    "    dataid = datasaver.run_id"
   ]
  },
  {
   "cell_type": "code",
   "execution_count": null,
   "metadata": {},
   "outputs": [],
   "source": []
  }
 ],
 "metadata": {
  "kernelspec": {
   "display_name": "Python 3",
   "language": "python",
   "name": "python3"
  },
  "language_info": {
   "codemirror_mode": {
    "name": "ipython",
    "version": 3
   },
   "file_extension": ".py",
   "mimetype": "text/x-python",
   "name": "python",
   "nbconvert_exporter": "python",
   "pygments_lexer": "ipython3",
   "version": "3.7.7"
  },
  "toc": {
   "base_numbering": 1,
   "nav_menu": {},
   "number_sections": true,
   "sideBar": true,
   "skip_h1_title": false,
   "title_cell": "Table of Contents",
   "title_sidebar": "Contents",
   "toc_cell": false,
   "toc_position": {},
   "toc_section_display": true,
   "toc_window_display": false
  },
  "varInspector": {
   "cols": {
    "lenName": 16,
    "lenType": 16,
    "lenVar": 40
   },
   "kernels_config": {
    "python": {
     "delete_cmd_postfix": "",
     "delete_cmd_prefix": "del ",
     "library": "var_list.py",
     "varRefreshCmd": "print(var_dic_list())"
    },
    "r": {
     "delete_cmd_postfix": ") ",
     "delete_cmd_prefix": "rm(",
     "library": "var_list.r",
     "varRefreshCmd": "cat(var_dic_list()) "
    }
   },
   "types_to_exclude": [
    "module",
    "function",
    "builtin_function_or_method",
    "instance",
    "_Feature"
   ],
   "window_display": false
  }
 },
 "nbformat": 4,
 "nbformat_minor": 2
}
