{
 "cells": [
  {
   "cell_type": "markdown",
   "metadata": {},
   "source": [
    "# Simple Example of ParameterWithSetpoints\n",
    "This notebook provides an example for writing a simple driver with a parameter that has setpoints. Let's name this parameter that has setpoints as \"y\". Then, the setpoints, say \"x1, x2, x3 ..\", are the parameters on which the parameter \n",
    "\"y\" depends upon. Meaning \"y\" is a function of \"x1, x2, x3 ...\" where \"x1, x2, x3 ...\" are known as the setpoints of parameter \"y\".\n",
    "\n",
    "This is most likely to be useful for instruments that return arrays of results. In this notebook, we will show an example of this."
   ]
  },
  {
   "cell_type": "code",
   "execution_count": 1,
   "metadata": {},
   "outputs": [],
   "source": [
    "import numpy as np\n",
    "import os"
   ]
  },
  {
   "cell_type": "code",
   "execution_count": 2,
   "metadata": {},
   "outputs": [
    {
     "name": "stdout",
     "output_type": "stream",
     "text": [
      "Logging hadn't been started.\n",
      "Activating auto-logging. Current session state plus future input saved.\n",
      "Filename       : /home/vsts/.qcodes/logs/command_history.log\n",
      "Mode           : append\n",
      "Output logging : True\n",
      "Raw input log  : False\n",
      "Timestamping   : True\n",
      "State          : active\n"
     ]
    },
    {
     "name": "stdout",
     "output_type": "stream",
     "text": [
      "Qcodes Logfile : /home/vsts/.qcodes/logs/200210-21528-qcodes.log\n"
     ]
    }
   ],
   "source": [
    "from qcodes.dataset.plotting import plot_dataset\n",
    "from qcodes.utils.validators import Numbers, Arrays\n",
    "from qcodes.instrument.base import Instrument\n",
    "from qcodes.dataset.measurements import Measurement"
   ]
  },
  {
   "cell_type": "code",
   "execution_count": 3,
   "metadata": {},
   "outputs": [],
   "source": [
    "from qcodes.dataset.sqlite.database import initialise_or_create_database_at\n",
    "from qcodes.dataset.experiment_container import load_or_create_experiment"
   ]
  },
  {
   "cell_type": "code",
   "execution_count": 4,
   "metadata": {},
   "outputs": [],
   "source": [
    "from qcodes.instrument.parameter import ParameterWithSetpoints, Parameter\n",
    "from qcodes.instrument.parameter import expand_setpoints_helper"
   ]
  },
  {
   "cell_type": "markdown",
   "metadata": {},
   "source": [
    "First, we define a dummy instrument that returns something like a frequency spectrum starting from a frequency given by `f_start` to a frequency given by `f_stop` in `n_points` steps. \n",
    "\n",
    "The extra functionality of the `ParameterWithSetpoints` is implemented by giving it a reference to one or more parameters that acts like its setpoints. \n",
    "\n",
    "To setup a `ParameterWithSetpoints` we have to do two things in addition to what we do for a normal parameter.\n",
    "\n",
    "* Define one or more parameter for the setpoints (one for each dimension of the array and let the `ParameterWithSetpoints` know that these are the setpoints.\n",
    "* Give both the setpoints parameter(s) and the `ParameterWithSetpoints` a `validator` of type `Arrays` with a shape. The shapes should be such that the combined shape of the setpoints matches the shape of the `ParameterWithSetpoints`. Note that if the shape changes with the setting of the instrument, it can be defined by another parameter as shown below. "
   ]
  },
  {
   "cell_type": "code",
   "execution_count": 5,
   "metadata": {},
   "outputs": [],
   "source": [
    "class GeneratedSetPoints(Parameter):\n",
    "    \"\"\"\n",
    "    A parameter that generates a setpoint array from start, stop and num points\n",
    "    parameters.\n",
    "    \"\"\"\n",
    "    def __init__(self, startparam, stopparam, numpointsparam, *args, **kwargs):\n",
    "        super().__init__(*args, **kwargs)\n",
    "        self._startparam = startparam\n",
    "        self._stopparam = stopparam\n",
    "        self._numpointsparam = numpointsparam\n",
    "\n",
    "    def get_raw(self):\n",
    "        return np.linspace(self._startparam(), self._stopparam(),\n",
    "                              self._numpointsparam())\n",
    "\n",
    "class DummyArray(ParameterWithSetpoints):\n",
    "    \n",
    "    def get_raw(self):\n",
    "        npoints = self.root_instrument.n_points.get_latest()\n",
    "        return np.random.rand(npoints)\n",
    "    \n",
    "\n",
    "class DummySpectrumAnalyzer(Instrument):\n",
    "    \n",
    "    def __init__(self, name, **kwargs):\n",
    "        \n",
    "        super().__init__(name, **kwargs)\n",
    "            \n",
    "\n",
    "        self.add_parameter('f_start',\n",
    "                           initial_value=0,\n",
    "                           unit='Hz',\n",
    "                           label='f start',\n",
    "                           vals=Numbers(0,1e3),\n",
    "                           get_cmd=None,\n",
    "                           set_cmd=None)\n",
    "\n",
    "        self.add_parameter('f_stop',\n",
    "                           unit='Hz',\n",
    "                           label='f stop',\n",
    "                           vals=Numbers(1,1e3),\n",
    "                           get_cmd=None,\n",
    "                           set_cmd=None)\n",
    "\n",
    "        self.add_parameter('n_points',\n",
    "                           unit='',\n",
    "                           initial_value=10,\n",
    "                           vals=Numbers(1,1e3),\n",
    "                           get_cmd=None,\n",
    "                           set_cmd=None)\n",
    "        \n",
    "        self.add_parameter('freq_axis',\n",
    "                           unit='Hz',\n",
    "                           label='Freq Axis',\n",
    "                           parameter_class=GeneratedSetPoints,\n",
    "                           startparam=self.f_start,\n",
    "                           stopparam=self.f_stop,\n",
    "                           numpointsparam=self.n_points,\n",
    "                           vals=Arrays(shape=(self.n_points.get_latest,)))\n",
    "                           \n",
    "        self.add_parameter('spectrum',\n",
    "                   unit='dBm',\n",
    "                   setpoints=(self.freq_axis,),\n",
    "                   label='Spectrum',\n",
    "                   parameter_class=DummyArray,\n",
    "                   vals=Arrays(shape=(self.n_points.get_latest,)))\n",
    "                "
   ]
  },
  {
   "cell_type": "markdown",
   "metadata": {},
   "source": [
    "In the above example, the shape is defined by the parameter `n_points` that defines how many samples our `DummySpectrumAnalyzer` returns.\n",
    "\n",
    "This means that the validation will call the function to get `n_points` twice for each `get` of the parameter. This may be too slow, however, if you (as the driver-writer) can guarantee that the cached value for `n_points` will never be out of sync with the value stored in the instrument, `n_points` may be replaced by it's latest known value such that the `validator` reads:\n",
    "```python\n",
    "vals=Arrays(shape=(self.n_points.get_latest))\n",
    "```\n",
    "\n",
    "This avoids any additional call to the instrument. In the same way, the arguments to the `freq_axis` parameter that defines the start, stop and number of points can be replaced by their latest value if the instrument allows it.\n",
    "\n"
   ]
  },
  {
   "cell_type": "code",
   "execution_count": 6,
   "metadata": {},
   "outputs": [
    {
     "name": "stdout",
     "output_type": "stream",
     "text": [
      "\r",
      "0it [00:00, ?it/s]"
     ]
    },
    {
     "name": "stdout",
     "output_type": "stream",
     "text": [
      "\r",
      "Upgrading database; v0 -> v1: : 0it [00:00, ?it/s]"
     ]
    },
    {
     "name": "stdout",
     "output_type": "stream",
     "text": [
      "\r",
      "Upgrading database; v0 -> v1: : 0it [00:00, ?it/s]"
     ]
    },
    {
     "name": "stdout",
     "output_type": "stream",
     "text": [
      "\n",
      "\r",
      "  0%|          | 0/1 [00:00<?, ?it/s]"
     ]
    },
    {
     "name": "stdout",
     "output_type": "stream",
     "text": [
      "\r",
      "Upgrading database; v1 -> v2:   0%|          | 0/1 [00:00<?, ?it/s]"
     ]
    },
    {
     "name": "stdout",
     "output_type": "stream",
     "text": [
      "\r",
      "Upgrading database; v1 -> v2: 100%|██████████| 1/1 [00:00<00:00, 575.82it/s]"
     ]
    },
    {
     "name": "stdout",
     "output_type": "stream",
     "text": [
      "\n",
      "\r",
      "0it [00:00, ?it/s]"
     ]
    },
    {
     "name": "stdout",
     "output_type": "stream",
     "text": [
      "\r",
      "Upgrading database; v2 -> v3: : 0it [00:00, ?it/s]"
     ]
    },
    {
     "name": "stdout",
     "output_type": "stream",
     "text": [
      "\r",
      "Upgrading database; v2 -> v3: : 0it [00:00, ?it/s]"
     ]
    },
    {
     "name": "stdout",
     "output_type": "stream",
     "text": [
      "\n",
      "\r",
      "0it [00:00, ?it/s]"
     ]
    },
    {
     "name": "stdout",
     "output_type": "stream",
     "text": [
      "\r",
      "Upgrading database; v3 -> v4: : 0it [00:00, ?it/s]"
     ]
    },
    {
     "name": "stdout",
     "output_type": "stream",
     "text": [
      "\r",
      "Upgrading database; v3 -> v4: : 0it [00:00, ?it/s]"
     ]
    },
    {
     "name": "stdout",
     "output_type": "stream",
     "text": [
      "\n",
      "\r",
      "  0%|          | 0/1 [00:00<?, ?it/s]"
     ]
    },
    {
     "name": "stdout",
     "output_type": "stream",
     "text": [
      "\r",
      "Upgrading database; v4 -> v5:   0%|          | 0/1 [00:00<?, ?it/s]"
     ]
    },
    {
     "name": "stdout",
     "output_type": "stream",
     "text": [
      "\r",
      "Upgrading database; v4 -> v5: 100%|██████████| 1/1 [00:00<00:00, 740.13it/s]"
     ]
    },
    {
     "name": "stdout",
     "output_type": "stream",
     "text": [
      "\n",
      "\r",
      "0it [00:00, ?it/s]"
     ]
    },
    {
     "name": "stdout",
     "output_type": "stream",
     "text": [
      "\r",
      "Upgrading database; v5 -> v6: : 0it [00:00, ?it/s]"
     ]
    },
    {
     "name": "stdout",
     "output_type": "stream",
     "text": [
      "\r",
      "Upgrading database; v5 -> v6: : 0it [00:00, ?it/s]"
     ]
    },
    {
     "name": "stdout",
     "output_type": "stream",
     "text": [
      "\n"
     ]
    },
    {
     "name": "stdout",
     "output_type": "stream",
     "text": [
      "\r",
      "  0%|          | 0/1 [00:00<?, ?it/s]"
     ]
    },
    {
     "name": "stdout",
     "output_type": "stream",
     "text": [
      "\r",
      "Upgrading database; v6 -> v7:   0%|          | 0/1 [00:00<?, ?it/s]"
     ]
    },
    {
     "name": "stdout",
     "output_type": "stream",
     "text": [
      "\r",
      "Upgrading database; v6 -> v7: 100%|██████████| 1/1 [00:00<00:00, 49.18it/s]"
     ]
    },
    {
     "name": "stdout",
     "output_type": "stream",
     "text": [
      "\n"
     ]
    },
    {
     "name": "stdout",
     "output_type": "stream",
     "text": [
      "\r",
      "  0%|          | 0/1 [00:00<?, ?it/s]"
     ]
    },
    {
     "name": "stdout",
     "output_type": "stream",
     "text": [
      "\r",
      "Upgrading database; v7 -> v8:   0%|          | 0/1 [00:00<?, ?it/s]"
     ]
    },
    {
     "name": "stdout",
     "output_type": "stream",
     "text": [
      "\r",
      "Upgrading database; v7 -> v8: 100%|██████████| 1/1 [00:00<00:00, 594.94it/s]"
     ]
    },
    {
     "name": "stdout",
     "output_type": "stream",
     "text": [
      "\n"
     ]
    },
    {
     "data": {
      "text/plain": [
       "tutorial_ParameterWithSetpoints#no sample#1@/home/vsts/work/1/s/docs/examples/Parameters/tutorial_paramter_with_setpoints.db\n",
       "----------------------------------------------------------------------------------------------------------------------------"
      ]
     },
     "execution_count": 6,
     "metadata": {},
     "output_type": "execute_result"
    }
   ],
   "source": [
    "tutorial_db_path = os.path.join(os.getcwd(), 'tutorial_paramter_with_setpoints.db')\n",
    "initialise_or_create_database_at(tutorial_db_path)\n",
    "load_or_create_experiment(experiment_name='tutorial_ParameterWithSetpoints', sample_name=\"no sample\")"
   ]
  },
  {
   "cell_type": "code",
   "execution_count": 7,
   "metadata": {},
   "outputs": [],
   "source": [
    "a = DummySpectrumAnalyzer('foobar')"
   ]
  },
  {
   "cell_type": "markdown",
   "metadata": {},
   "source": [
    "First we setup the limits of the spectrum"
   ]
  },
  {
   "cell_type": "code",
   "execution_count": 8,
   "metadata": {},
   "outputs": [],
   "source": [
    "a.f_start(0)\n",
    "a.f_stop(500)\n",
    "a.n_points(501)"
   ]
  },
  {
   "cell_type": "markdown",
   "metadata": {},
   "source": [
    "And we can grab the frequency axis"
   ]
  },
  {
   "cell_type": "code",
   "execution_count": 9,
   "metadata": {},
   "outputs": [
    {
     "data": {
      "text/plain": [
       "501"
      ]
     },
     "execution_count": 9,
     "metadata": {},
     "output_type": "execute_result"
    }
   ],
   "source": [
    "a.n_points()"
   ]
  },
  {
   "cell_type": "code",
   "execution_count": 10,
   "metadata": {
    "scrolled": false
   },
   "outputs": [
    {
     "data": {
      "text/plain": [
       "501"
      ]
     },
     "execution_count": 10,
     "metadata": {},
     "output_type": "execute_result"
    }
   ],
   "source": [
    "freq_axis = a.freq_axis()\n",
    "len(freq_axis)"
   ]
  },
  {
   "cell_type": "code",
   "execution_count": 11,
   "metadata": {},
   "outputs": [
    {
     "data": {
      "text/plain": [
       "array([0., 1., 2., 3., 4., 5., 6., 7., 8., 9.])"
      ]
     },
     "execution_count": 11,
     "metadata": {},
     "output_type": "execute_result"
    }
   ],
   "source": [
    "freq_axis[:10]"
   ]
  },
  {
   "cell_type": "markdown",
   "metadata": {},
   "source": [
    "As expected we get a result wit 501 points as we asked for an axis with 501 points. "
   ]
  },
  {
   "cell_type": "markdown",
   "metadata": {},
   "source": [
    "Above we have added a validator to the `freq_axis` parameter encoding the fact that this is an Array with `n_points`. Note that we do not have to supply the number of points as an integer but can supply a function that returns the valid number of points. This would normally be a QCoDeS parameter.\n",
    "\n",
    "This will be checked if we validate the output."
   ]
  },
  {
   "cell_type": "code",
   "execution_count": 12,
   "metadata": {},
   "outputs": [],
   "source": [
    "a.freq_axis.validate(a.freq_axis.get())"
   ]
  },
  {
   "cell_type": "markdown",
   "metadata": {},
   "source": [
    "Naturally, we can also get the spectrum. Getting the spectrum will automatically perform validation both for the shape of the parameter itself and the relation to the setpoint parameter(s)"
   ]
  },
  {
   "cell_type": "code",
   "execution_count": 13,
   "metadata": {
    "scrolled": true
   },
   "outputs": [
    {
     "data": {
      "text/plain": [
       "501"
      ]
     },
     "execution_count": 13,
     "metadata": {},
     "output_type": "execute_result"
    }
   ],
   "source": [
    "spectrum = a.spectrum.get()\n",
    "len(spectrum)"
   ]
  },
  {
   "cell_type": "markdown",
   "metadata": {},
   "source": [
    "When we validate a `ParameterWithSetpoints`, we automatically validate that the shape is consistent between the parameters and its setpoints. As well as validating the shape as above."
   ]
  },
  {
   "cell_type": "code",
   "execution_count": 14,
   "metadata": {},
   "outputs": [],
   "source": [
    "a.spectrum.validate(a.spectrum.get())"
   ]
  },
  {
   "cell_type": "markdown",
   "metadata": {},
   "source": [
    "The consistent shapes can be validated explicitly."
   ]
  },
  {
   "cell_type": "code",
   "execution_count": 15,
   "metadata": {},
   "outputs": [],
   "source": [
    "a.spectrum.validate_consistent_shape()"
   ]
  },
  {
   "cell_type": "markdown",
   "metadata": {},
   "source": [
    "We can inspect the setpoints of the spectrum."
   ]
  },
  {
   "cell_type": "code",
   "execution_count": 16,
   "metadata": {},
   "outputs": [
    {
     "data": {
      "text/plain": [
       "(<__main__.GeneratedSetPoints: freq_axis at 140196332901392>,)"
      ]
     },
     "execution_count": 16,
     "metadata": {},
     "output_type": "execute_result"
    }
   ],
   "source": [
    "a.spectrum.setpoints"
   ]
  },
  {
   "cell_type": "markdown",
   "metadata": {},
   "source": [
    "Or even change them."
   ]
  },
  {
   "cell_type": "code",
   "execution_count": 17,
   "metadata": {},
   "outputs": [],
   "source": [
    "a.spectrum.setpoints = (a.freq_axis,)"
   ]
  },
  {
   "cell_type": "markdown",
   "metadata": {},
   "source": [
    "## Measurement"
   ]
  },
  {
   "cell_type": "markdown",
   "metadata": {},
   "source": [
    "We can also directly consume the parameter in a measurement without defining the setpoints of the parameter again. The setpoints are automatically obtained from the definition of the `ParameterWithSetpoint` instance. "
   ]
  },
  {
   "cell_type": "code",
   "execution_count": 18,
   "metadata": {},
   "outputs": [
    {
     "name": "stdout",
     "output_type": "stream",
     "text": [
      "Starting experimental run with id: 1. \n"
     ]
    }
   ],
   "source": [
    "meas = Measurement()\n",
    "meas.register_parameter(a.spectrum)\n",
    "\n",
    "with meas.run() as datasaver:\n",
    "    datasaver.add_result((a.freq_axis, a.freq_axis()),\n",
    "                         (a.spectrum, a.spectrum()))\n",
    "    dataset = datasaver.dataset"
   ]
  },
  {
   "cell_type": "markdown",
   "metadata": {},
   "source": [
    "And plot it"
   ]
  },
  {
   "cell_type": "code",
   "execution_count": 19,
   "metadata": {},
   "outputs": [
    {
     "data": {
      "text/plain": [
       "([<matplotlib.axes._subplots.AxesSubplot at 0x7f8200a088d0>], [None])"
      ]
     },
     "execution_count": 19,
     "metadata": {},
     "output_type": "execute_result"
    },
    {
     "data": {
      "image/png": "[encoded data removed]",
      "text/plain": [
       "<Figure size 432x288 with 1 Axes>"
      ]
     },
     "metadata": {
      "needs_background": "light"
     },
     "output_type": "display_data"
    }
   ],
   "source": [
    "plot_dataset(dataset)"
   ]
  },
  {
   "cell_type": "markdown",
   "metadata": {},
   "source": [
    "To reduce the amount of typing a simple convenience function is provided that will take a `ParameterWithSetpoints` and get both its values and the setpoints values and return them as tuples for direct insertion into the Dataset."
   ]
  },
  {
   "cell_type": "code",
   "execution_count": 20,
   "metadata": {
    "scrolled": true
   },
   "outputs": [
    {
     "data": {
      "text/plain": [
       "[(<__main__.GeneratedSetPoints: freq_axis at 140196332901392>,\n",
       "  array([  0.,   1.,   2.,   3.,   4.,   5.,   6.,   7.,   8.,   9.,  10.,\n",
       "          11.,  12.,  13.,  14.,  15.,  16.,  17.,  18.,  19.,  20.,  21.,\n",
       "          22.,  23.,  24.,  25.,  26.,  27.,  28.,  29.,  30.,  31.,  32.,\n",
       "          33.,  34.,  35.,  36.,  37.,  38.,  39.,  40.,  41.,  42.,  43.,\n",
       "          44.,  45.,  46.,  47.,  48.,  49.,  50.,  51.,  52.,  53.,  54.,\n",
       "          55.,  56.,  57.,  58.,  59.,  60.,  61.,  62.,  63.,  64.,  65.,\n",
       "          66.,  67.,  68.,  69.,  70.,  71.,  72.,  73.,  74.,  75.,  76.,\n",
       "          77.,  78.,  79.,  80.,  81.,  82.,  83.,  84.,  85.,  86.,  87.,\n",
       "          88.,  89.,  90.,  91.,  92.,  93.,  94.,  95.,  96.,  97.,  98.,\n",
       "          99., 100., 101., 102., 103., 104., 105., 106., 107., 108., 109.,\n",
       "         110., 111., 112., 113., 114., 115., 116., 117., 118., 119., 120.,\n",
       "         121., 122., 123., 124., 125., 126., 127., 128., 129., 130., 131.,\n",
       "         132., 133., 134., 135., 136., 137., 138., 139., 140., 141., 142.,\n",
       "         143., 144., 145., 146., 147., 148., 149., 150., 151., 152., 153.,\n",
       "         154., 155., 156., 157., 158., 159., 160., 161., 162., 163., 164.,\n",
       "         165., 166., 167., 168., 169., 170., 171., 172., 173., 174., 175.,\n",
       "         176., 177., 178., 179., 180., 181., 182., 183., 184., 185., 186.,\n",
       "         187., 188., 189., 190., 191., 192., 193., 194., 195., 196., 197.,\n",
       "         198., 199., 200., 201., 202., 203., 204., 205., 206., 207., 208.,\n",
       "         209., 210., 211., 212., 213., 214., 215., 216., 217., 218., 219.,\n",
       "         220., 221., 222., 223., 224., 225., 226., 227., 228., 229., 230.,\n",
       "         231., 232., 233., 234., 235., 236., 237., 238., 239., 240., 241.,\n",
       "         242., 243., 244., 245., 246., 247., 248., 249., 250., 251., 252.,\n",
       "         253., 254., 255., 256., 257., 258., 259., 260., 261., 262., 263.,\n",
       "         264., 265., 266., 267., 268., 269., 270., 271., 272., 273., 274.,\n",
       "         275., 276., 277., 278., 279., 280., 281., 282., 283., 284., 285.,\n",
       "         286., 287., 288., 289., 290., 291., 292., 293., 294., 295., 296.,\n",
       "         297., 298., 299., 300., 301., 302., 303., 304., 305., 306., 307.,\n",
       "         308., 309., 310., 311., 312., 313., 314., 315., 316., 317., 318.,\n",
       "         319., 320., 321., 322., 323., 324., 325., 326., 327., 328., 329.,\n",
       "         330., 331., 332., 333., 334., 335., 336., 337., 338., 339., 340.,\n",
       "         341., 342., 343., 344., 345., 346., 347., 348., 349., 350., 351.,\n",
       "         352., 353., 354., 355., 356., 357., 358., 359., 360., 361., 362.,\n",
       "         363., 364., 365., 366., 367., 368., 369., 370., 371., 372., 373.,\n",
       "         374., 375., 376., 377., 378., 379., 380., 381., 382., 383., 384.,\n",
       "         385., 386., 387., 388., 389., 390., 391., 392., 393., 394., 395.,\n",
       "         396., 397., 398., 399., 400., 401., 402., 403., 404., 405., 406.,\n",
       "         407., 408., 409., 410., 411., 412., 413., 414., 415., 416., 417.,\n",
       "         418., 419., 420., 421., 422., 423., 424., 425., 426., 427., 428.,\n",
       "         429., 430., 431., 432., 433., 434., 435., 436., 437., 438., 439.,\n",
       "         440., 441., 442., 443., 444., 445., 446., 447., 448., 449., 450.,\n",
       "         451., 452., 453., 454., 455., 456., 457., 458., 459., 460., 461.,\n",
       "         462., 463., 464., 465., 466., 467., 468., 469., 470., 471., 472.,\n",
       "         473., 474., 475., 476., 477., 478., 479., 480., 481., 482., 483.,\n",
       "         484., 485., 486., 487., 488., 489., 490., 491., 492., 493., 494.,\n",
       "         495., 496., 497., 498., 499., 500.])),\n",
       " (<__main__.DummyArray: spectrum at 140196332901648>,\n",
       "  array([3.82003474e-01, 8.08285046e-01, 7.19209851e-01, 1.48058444e-01,\n",
       "         8.68123533e-01, 8.34322469e-01, 8.77060903e-03, 5.54735946e-01,\n",
       "         1.45181807e-01, 1.05887364e-01, 8.66365420e-01, 3.48241416e-01,\n",
       "         7.83184133e-02, 2.02644434e-02, 3.64759233e-01, 9.53102982e-01,\n",
       "         2.96073762e-01, 9.25940134e-01, 8.38881258e-02, 8.75261970e-01,\n",
       "         9.58761645e-01, 4.93720353e-01, 8.88794459e-01, 8.60358624e-01,\n",
       "         7.99695829e-02, 5.42807945e-02, 6.49510203e-01, 5.31628216e-01,\n",
       "         6.36334105e-01, 4.93828767e-01, 1.51541566e-01, 2.15646697e-01,\n",
       "         2.40823064e-01, 4.59817269e-01, 4.91693344e-01, 5.01400357e-01,\n",
       "         5.07809188e-01, 1.24713630e-01, 7.43024814e-01, 3.63085267e-01,\n",
       "         6.22058313e-01, 7.25491533e-01, 4.64482845e-01, 9.42861443e-01,\n",
       "         9.23628397e-01, 5.36868330e-01, 9.56350524e-01, 7.84988711e-02,\n",
       "         9.88027270e-01, 3.97412200e-01, 4.10297123e-01, 3.65634631e-01,\n",
       "         4.20745405e-01, 7.04234343e-02, 4.60487086e-01, 1.48255011e-01,\n",
       "         4.47371625e-01, 3.45218701e-01, 7.82111184e-01, 5.98100775e-01,\n",
       "         8.46027314e-01, 9.65735508e-01, 1.53824541e-01, 8.84679343e-01,\n",
       "         9.69626659e-01, 5.53853826e-01, 4.43264011e-01, 2.39755900e-01,\n",
       "         9.52484577e-01, 9.61565671e-01, 7.16006627e-01, 3.65707539e-01,\n",
       "         8.17517392e-01, 5.97031327e-01, 4.65481111e-01, 6.34108971e-01,\n",
       "         3.12999048e-02, 6.35179548e-01, 6.02103748e-01, 8.38010426e-01,\n",
       "         2.10418916e-01, 6.64209715e-01, 7.33680074e-01, 1.15527640e-01,\n",
       "         3.81937411e-01, 1.28879441e-01, 2.44402934e-01, 4.88769168e-01,\n",
       "         6.76317308e-01, 3.91418102e-01, 8.73672477e-01, 4.95128983e-01,\n",
       "         7.63958084e-01, 4.30840959e-01, 5.86080086e-01, 5.30555811e-01,\n",
       "         3.45645403e-01, 9.18097254e-01, 4.04175125e-01, 6.80672729e-01,\n",
       "         7.38887003e-01, 3.86791827e-01, 1.70198794e-01, 2.09882741e-01,\n",
       "         7.01598600e-01, 3.33341837e-01, 4.91365406e-01, 4.74400526e-01,\n",
       "         7.72529830e-01, 5.21983364e-01, 4.10357629e-01, 2.65577239e-01,\n",
       "         1.30816077e-01, 1.22215575e-01, 1.82721320e-02, 9.54197196e-01,\n",
       "         5.19394657e-01, 4.74474213e-01, 2.51956254e-01, 8.27624516e-01,\n",
       "         8.13859248e-01, 7.73126411e-01, 5.85394983e-01, 6.39071853e-02,\n",
       "         7.69229458e-01, 2.62385638e-02, 2.72862884e-01, 6.86882547e-01,\n",
       "         6.25448637e-01, 7.83276622e-01, 4.35936575e-01, 6.16906447e-01,\n",
       "         2.57795216e-01, 1.49148327e-01, 5.40919289e-01, 8.80863458e-01,\n",
       "         8.24979512e-02, 6.23347235e-01, 4.14582330e-01, 3.63843414e-01,\n",
       "         7.47076948e-01, 7.73561662e-01, 1.87280151e-02, 5.79621752e-01,\n",
       "         9.71597499e-01, 7.32845569e-01, 9.82194548e-01, 5.87075245e-01,\n",
       "         8.46372063e-01, 4.12117528e-01, 2.03908961e-01, 1.68054777e-01,\n",
       "         7.51383161e-01, 7.19881213e-01, 6.70744982e-01, 5.47968090e-01,\n",
       "         2.37115103e-01, 6.47906157e-01, 7.14212885e-01, 1.18217708e-01,\n",
       "         4.14604767e-01, 3.41700931e-01, 1.38728107e-01, 1.13134618e-01,\n",
       "         1.86974230e-01, 4.59644157e-01, 3.94206547e-01, 8.15517923e-01,\n",
       "         1.78424873e-01, 6.49102515e-01, 5.84920044e-01, 9.94542758e-01,\n",
       "         8.88450123e-01, 1.56303595e-02, 2.46651661e-01, 1.79952338e-01,\n",
       "         8.69506316e-01, 3.06084197e-02, 2.90061363e-01, 4.76828846e-02,\n",
       "         5.32800137e-01, 6.57008936e-01, 2.79534564e-01, 7.13592945e-02,\n",
       "         3.07595311e-01, 6.74363095e-01, 9.39724821e-01, 1.96454001e-01,\n",
       "         3.90645348e-01, 1.71252792e-01, 8.31024610e-01, 8.67701680e-01,\n",
       "         4.51799333e-01, 8.52451052e-01, 6.98445515e-02, 8.45944638e-02,\n",
       "         7.41802020e-01, 6.05435955e-01, 4.11254072e-01, 7.19110299e-01,\n",
       "         7.38037419e-01, 4.83669816e-01, 8.64715556e-01, 5.59510151e-01,\n",
       "         5.78701574e-01, 2.31720232e-01, 2.56669383e-01, 4.51085141e-01,\n",
       "         1.81213662e-01, 1.76999889e-01, 1.90072481e-01, 6.91737016e-01,\n",
       "         7.27899933e-01, 1.46337454e-01, 9.49324463e-01, 7.00748016e-01,\n",
       "         2.95706067e-01, 8.83201210e-01, 1.04089442e-01, 3.83420739e-02,\n",
       "         3.59845350e-01, 2.05363024e-01, 5.79287787e-01, 9.56581278e-01,\n",
       "         2.92274464e-01, 5.39716611e-01, 2.44638098e-01, 4.41843634e-01,\n",
       "         7.63130244e-01, 4.49553203e-01, 3.87047710e-01, 3.60264310e-02,\n",
       "         2.05899502e-01, 4.53722477e-01, 4.23790520e-01, 4.48302254e-01,\n",
       "         9.12184837e-01, 6.77824585e-01, 4.84215521e-02, 2.86595326e-01,\n",
       "         1.14275071e-01, 2.35302548e-01, 7.29508779e-02, 2.43037367e-01,\n",
       "         6.70302487e-01, 8.68714194e-01, 2.64721680e-01, 3.77102796e-01,\n",
       "         4.84782973e-02, 3.85498599e-01, 2.82140956e-01, 5.31349392e-01,\n",
       "         2.00517573e-01, 7.19716365e-01, 7.94494443e-01, 7.71974881e-01,\n",
       "         6.21328213e-01, 7.10020229e-02, 1.96995627e-01, 4.15830521e-01,\n",
       "         1.21665282e-01, 6.52105934e-01, 7.22485934e-01, 7.09495658e-01,\n",
       "         8.98666075e-01, 9.43665783e-01, 6.54299971e-01, 2.09913766e-01,\n",
       "         9.56521849e-01, 3.87369258e-02, 9.68792985e-01, 4.44007674e-01,\n",
       "         7.50866654e-01, 9.99971359e-01, 9.39940368e-03, 5.07876299e-01,\n",
       "         3.78621951e-01, 5.36129116e-01, 5.14012478e-01, 9.21358498e-01,\n",
       "         2.33003812e-01, 9.79403900e-01, 2.86680717e-01, 1.96993469e-01,\n",
       "         8.99526469e-01, 6.25067160e-01, 2.90896160e-01, 7.28596702e-01,\n",
       "         5.81986847e-02, 3.12456259e-01, 5.22107073e-01, 2.52014549e-01,\n",
       "         7.42127201e-01, 8.60512747e-01, 5.60803563e-02, 1.54855773e-01,\n",
       "         4.98410037e-01, 1.07104197e-01, 5.10664689e-01, 6.32251139e-01,\n",
       "         8.15474738e-01, 5.09960094e-01, 2.32951715e-02, 2.80244410e-01,\n",
       "         5.73004364e-01, 2.28350816e-01, 7.02940749e-01, 6.71147640e-02,\n",
       "         2.78077152e-01, 5.11332278e-01, 6.16034343e-01, 2.83337485e-01,\n",
       "         7.93807885e-01, 7.88847549e-01, 8.00864541e-01, 9.83758810e-01,\n",
       "         5.05220426e-01, 4.20184354e-01, 7.68666907e-01, 4.71448176e-01,\n",
       "         4.19311703e-01, 3.94967280e-01, 8.15666483e-01, 4.26770469e-01,\n",
       "         3.58523315e-01, 2.55509345e-01, 1.06688548e-01, 2.68548327e-01,\n",
       "         2.63126292e-01, 2.10235045e-01, 1.77287642e-02, 2.24278769e-01,\n",
       "         7.76725731e-01, 9.84084101e-01, 5.96387792e-01, 8.65454848e-02,\n",
       "         4.60825784e-01, 8.03762950e-01, 7.42601454e-01, 9.21720556e-01,\n",
       "         6.81712989e-01, 4.06919346e-01, 7.16591574e-01, 3.68304722e-01,\n",
       "         1.59445566e-01, 4.25062778e-01, 5.85255554e-01, 8.26003271e-01,\n",
       "         4.34364077e-01, 4.21838515e-01, 4.02729865e-02, 2.52453344e-02,\n",
       "         2.39395490e-01, 8.32987273e-01, 6.49768235e-01, 1.08917537e-01,\n",
       "         9.48530477e-01, 9.37671770e-01, 3.47855394e-01, 1.25826890e-01,\n",
       "         6.61801643e-01, 8.10629551e-02, 3.59426676e-01, 9.82187932e-01,\n",
       "         1.31251381e-01, 6.06891317e-01, 4.49582550e-01, 7.49583033e-01,\n",
       "         3.38407913e-01, 5.41221130e-01, 5.98383314e-01, 3.45803225e-01,\n",
       "         4.58979114e-02, 7.77058056e-01, 4.28837048e-01, 6.34564467e-01,\n",
       "         2.19217991e-01, 3.46876903e-01, 4.22138439e-01, 3.89319135e-01,\n",
       "         2.61156484e-01, 3.46450241e-01, 5.61653765e-01, 1.62665070e-01,\n",
       "         9.29595626e-01, 5.43139859e-02, 4.42200643e-01, 9.52369036e-01,\n",
       "         2.88878724e-01, 5.95840121e-01, 3.72365936e-01, 1.41985006e-01,\n",
       "         8.37457131e-01, 3.04702508e-01, 5.35726427e-01, 4.32722547e-01,\n",
       "         2.03351399e-01, 3.30940452e-01, 2.19969923e-01, 4.65689226e-03,\n",
       "         9.07202611e-01, 5.54807486e-01, 1.11657741e-01, 7.46831774e-01,\n",
       "         5.98204147e-01, 4.01805446e-01, 8.57370449e-01, 1.97619198e-01,\n",
       "         9.91745471e-01, 1.12138518e-01, 4.32219360e-01, 5.98792350e-01,\n",
       "         4.25011367e-01, 2.77280222e-01, 3.95830565e-01, 1.60257019e-01,\n",
       "         5.75960470e-01, 9.12859884e-01, 9.27301809e-01, 9.98148092e-01,\n",
       "         8.16874938e-01, 4.63080202e-01, 2.03320839e-01, 3.42460395e-01,\n",
       "         5.99417087e-01, 6.81961300e-01, 9.35102900e-01, 6.70449236e-01,\n",
       "         4.15443908e-01, 5.52410567e-01, 2.57130254e-02, 3.56989937e-01,\n",
       "         8.48548975e-01, 1.92589688e-01, 5.04767989e-01, 5.92044901e-02,\n",
       "         5.27640595e-01, 9.50242986e-01, 1.81035640e-03, 2.03124607e-01,\n",
       "         8.65604858e-01, 9.27902257e-01, 8.44673339e-01, 1.92496666e-01,\n",
       "         5.11731140e-01, 2.21493371e-01, 9.72747258e-01, 8.08732421e-04,\n",
       "         8.89860617e-02, 4.96349502e-01, 3.14629296e-02, 5.51042037e-01,\n",
       "         4.05656538e-01, 8.71207865e-01, 3.38294871e-01, 7.45900347e-01,\n",
       "         5.43727796e-02, 2.59672901e-01, 8.23671179e-01, 5.29012224e-01,\n",
       "         6.38323283e-01, 4.89774211e-01, 9.22004396e-01, 9.50042071e-01,\n",
       "         2.38206527e-01, 9.64347555e-02, 4.85252455e-01, 1.75463440e-01,\n",
       "         1.83987048e-01, 2.04203666e-01, 6.76165177e-01, 4.62012059e-01,\n",
       "         7.87176971e-01, 1.66504402e-01, 1.12846154e-01, 3.42285140e-01,\n",
       "         2.97888396e-01, 5.72256473e-01, 2.82598389e-01, 5.42286195e-01,\n",
       "         6.27294893e-01, 6.39564751e-01, 1.28442929e-01, 9.84707527e-01,\n",
       "         4.32125016e-01, 4.15417387e-01, 9.68354665e-01, 5.61749665e-01,\n",
       "         6.45020817e-01, 9.36311083e-01, 9.66547075e-01, 1.20707666e-01,\n",
       "         4.25254143e-01, 6.12467910e-01, 2.16728990e-01, 4.81361635e-02,\n",
       "         3.16839728e-01, 1.73509376e-01, 5.40120482e-01, 2.30333819e-01,\n",
       "         2.41607461e-01]))]"
      ]
     },
     "execution_count": 20,
     "metadata": {},
     "output_type": "execute_result"
    }
   ],
   "source": [
    "expand_setpoints_helper(a.spectrum)"
   ]
  },
  {
   "cell_type": "code",
   "execution_count": 21,
   "metadata": {},
   "outputs": [
    {
     "name": "stdout",
     "output_type": "stream",
     "text": [
      "Starting experimental run with id: 2. \n"
     ]
    }
   ],
   "source": [
    "meas = Measurement()\n",
    "meas.register_parameter(a.spectrum)\n",
    "\n",
    "with meas.run() as datasaver:\n",
    "    datasaver.add_result(*expand_setpoints_helper(a.spectrum))\n",
    "    \n",
    "    dataid = datasaver.run_id"
   ]
  },
  {
   "cell_type": "code",
   "execution_count": null,
   "metadata": {},
   "outputs": [],
   "source": []
  }
 ],
 "metadata": {
  "kernelspec": {
   "display_name": "Python 3",
   "language": "python",
   "name": "python3"
  },
  "language_info": {
   "codemirror_mode": {
    "name": "ipython",
    "version": 3
   },
   "file_extension": ".py",
   "mimetype": "text/x-python",
   "name": "python",
   "nbconvert_exporter": "python",
   "pygments_lexer": "ipython3",
   "version": "3.7.5"
  },
  "toc": {
   "base_numbering": 1,
   "nav_menu": {},
   "number_sections": true,
   "sideBar": true,
   "skip_h1_title": false,
   "title_cell": "Table of Contents",
   "title_sidebar": "Contents",
   "toc_cell": false,
   "toc_position": {},
   "toc_section_display": true,
   "toc_window_display": false
  },
  "varInspector": {
   "cols": {
    "lenName": 16,
    "lenType": 16,
    "lenVar": 40
   },
   "kernels_config": {
    "python": {
     "delete_cmd_postfix": "",
     "delete_cmd_prefix": "del ",
     "library": "var_list.py",
     "varRefreshCmd": "print(var_dic_list())"
    },
    "r": {
     "delete_cmd_postfix": ") ",
     "delete_cmd_prefix": "rm(",
     "library": "var_list.r",
     "varRefreshCmd": "cat(var_dic_list()) "
    }
   },
   "types_to_exclude": [
    "module",
    "function",
    "builtin_function_or_method",
    "instance",
    "_Feature"
   ],
   "window_display": false
  }
 },
 "nbformat": 4,
 "nbformat_minor": 2
}
