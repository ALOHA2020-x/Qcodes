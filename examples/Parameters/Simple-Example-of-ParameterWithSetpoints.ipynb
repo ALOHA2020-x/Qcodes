{
 "cells": [
  {
   "cell_type": "markdown",
   "metadata": {},
   "source": [
    "# Simple Example of ParameterWithSetpoints\n",
    "This notebook provides an example for writing a simple driver with a parameter that has setpoints. Let's name this parameter that has setpoints as \"y\". Then, the setpoints, say \"x1, x2, x3 ..\", are the parameters on which the parameter \n",
    "\"y\" depends upon. Meaning \"y\" is a function of \"x1, x2, x3 ...\" where \"x1, x2, x3 ...\" are known as the setpoints of parameter \"y\".\n",
    "\n",
    "This is most likely to be useful for instruments that return arrays of results. In this notebook, we will show an example of this."
   ]
  },
  {
   "cell_type": "code",
   "execution_count": 1,
   "metadata": {
    "execution": {
     "iopub.execute_input": "2020-09-18T13:46:46.729462Z",
     "iopub.status.busy": "2020-09-18T13:46:46.728840Z",
     "iopub.status.idle": "2020-09-18T13:46:46.830227Z",
     "shell.execute_reply": "2020-09-18T13:46:46.829562Z"
    }
   },
   "outputs": [],
   "source": [
    "import numpy as np\n",
    "import os"
   ]
  },
  {
   "cell_type": "code",
   "execution_count": 2,
   "metadata": {
    "execution": {
     "iopub.execute_input": "2020-09-18T13:46:46.834437Z",
     "iopub.status.busy": "2020-09-18T13:46:46.833866Z",
     "iopub.status.idle": "2020-09-18T13:46:48.018365Z",
     "shell.execute_reply": "2020-09-18T13:46:48.017498Z"
    }
   },
   "outputs": [
    {
     "name": "stdout",
     "output_type": "stream",
     "text": [
      "Logging hadn't been started.\n",
      "Activating auto-logging. Current session state plus future input saved.\n",
      "Filename       : /home/vsts/.qcodes/logs/command_history.log\n",
      "Mode           : append\n",
      "Output logging : True\n",
      "Raw input log  : False\n",
      "Timestamping   : True\n",
      "State          : active\n"
     ]
    },
    {
     "name": "stdout",
     "output_type": "stream",
     "text": [
      "Qcodes Logfile : /home/vsts/.qcodes/logs/200918-21925-qcodes.log\n"
     ]
    }
   ],
   "source": [
    "from qcodes.dataset.plotting import plot_dataset\n",
    "from qcodes.utils.validators import Numbers, Arrays\n",
    "from qcodes.instrument.base import Instrument\n",
    "from qcodes.dataset.measurements import Measurement"
   ]
  },
  {
   "cell_type": "code",
   "execution_count": 3,
   "metadata": {
    "execution": {
     "iopub.execute_input": "2020-09-18T13:46:48.022164Z",
     "iopub.status.busy": "2020-09-18T13:46:48.021238Z",
     "iopub.status.idle": "2020-09-18T13:46:48.024742Z",
     "shell.execute_reply": "2020-09-18T13:46:48.025500Z"
    }
   },
   "outputs": [],
   "source": [
    "from qcodes.dataset.sqlite.database import initialise_or_create_database_at\n",
    "from qcodes.dataset.experiment_container import load_or_create_experiment"
   ]
  },
  {
   "cell_type": "code",
   "execution_count": 4,
   "metadata": {
    "execution": {
     "iopub.execute_input": "2020-09-18T13:46:48.030154Z",
     "iopub.status.busy": "2020-09-18T13:46:48.028926Z",
     "iopub.status.idle": "2020-09-18T13:46:48.030684Z",
     "shell.execute_reply": "2020-09-18T13:46:48.031247Z"
    }
   },
   "outputs": [],
   "source": [
    "from qcodes.instrument.parameter import ParameterWithSetpoints, Parameter\n",
    "from qcodes.instrument.parameter import expand_setpoints_helper"
   ]
  },
  {
   "cell_type": "markdown",
   "metadata": {},
   "source": [
    "First, we define a dummy instrument that returns something like a frequency spectrum starting from a frequency given by `f_start` to a frequency given by `f_stop` in `n_points` steps. \n",
    "\n",
    "The extra functionality of the `ParameterWithSetpoints` is implemented by giving it a reference to one or more parameters that acts like its setpoints. \n",
    "\n",
    "To setup a `ParameterWithSetpoints` we have to do two things in addition to what we do for a normal parameter.\n",
    "\n",
    "* Define one or more parameter for the setpoints (one for each dimension of the array and let the `ParameterWithSetpoints` know that these are the setpoints.\n",
    "* Give both the setpoints parameter(s) and the `ParameterWithSetpoints` a `validator` of type `Arrays` with a shape. The shapes should be such that the combined shape of the setpoints matches the shape of the `ParameterWithSetpoints`. Note that if the shape changes with the setting of the instrument, it can be defined by another parameter as shown below. "
   ]
  },
  {
   "cell_type": "code",
   "execution_count": 5,
   "metadata": {
    "execution": {
     "iopub.execute_input": "2020-09-18T13:46:48.041689Z",
     "iopub.status.busy": "2020-09-18T13:46:48.039411Z",
     "iopub.status.idle": "2020-09-18T13:46:48.043516Z",
     "shell.execute_reply": "2020-09-18T13:46:48.043958Z"
    }
   },
   "outputs": [],
   "source": [
    "class GeneratedSetPoints(Parameter):\n",
    "    \"\"\"\n",
    "    A parameter that generates a setpoint array from start, stop and num points\n",
    "    parameters.\n",
    "    \"\"\"\n",
    "    def __init__(self, startparam, stopparam, numpointsparam, *args, **kwargs):\n",
    "        super().__init__(*args, **kwargs)\n",
    "        self._startparam = startparam\n",
    "        self._stopparam = stopparam\n",
    "        self._numpointsparam = numpointsparam\n",
    "\n",
    "    def get_raw(self):\n",
    "        return np.linspace(self._startparam(), self._stopparam(),\n",
    "                              self._numpointsparam())\n",
    "\n",
    "class DummyArray(ParameterWithSetpoints):\n",
    "    \n",
    "    def get_raw(self):\n",
    "        npoints = self.root_instrument.n_points.get_latest()\n",
    "        return np.random.rand(npoints)\n",
    "    \n",
    "\n",
    "class DummySpectrumAnalyzer(Instrument):\n",
    "    \n",
    "    def __init__(self, name, **kwargs):\n",
    "        \n",
    "        super().__init__(name, **kwargs)\n",
    "            \n",
    "\n",
    "        self.add_parameter('f_start',\n",
    "                           initial_value=0,\n",
    "                           unit='Hz',\n",
    "                           label='f start',\n",
    "                           vals=Numbers(0,1e3),\n",
    "                           get_cmd=None,\n",
    "                           set_cmd=None)\n",
    "\n",
    "        self.add_parameter('f_stop',\n",
    "                           unit='Hz',\n",
    "                           label='f stop',\n",
    "                           vals=Numbers(1,1e3),\n",
    "                           get_cmd=None,\n",
    "                           set_cmd=None)\n",
    "\n",
    "        self.add_parameter('n_points',\n",
    "                           unit='',\n",
    "                           initial_value=10,\n",
    "                           vals=Numbers(1,1e3),\n",
    "                           get_cmd=None,\n",
    "                           set_cmd=None)\n",
    "        \n",
    "        self.add_parameter('freq_axis',\n",
    "                           unit='Hz',\n",
    "                           label='Freq Axis',\n",
    "                           parameter_class=GeneratedSetPoints,\n",
    "                           startparam=self.f_start,\n",
    "                           stopparam=self.f_stop,\n",
    "                           numpointsparam=self.n_points,\n",
    "                           vals=Arrays(shape=(self.n_points.get_latest,)))\n",
    "                           \n",
    "        self.add_parameter('spectrum',\n",
    "                   unit='dBm',\n",
    "                   setpoints=(self.freq_axis,),\n",
    "                   label='Spectrum',\n",
    "                   parameter_class=DummyArray,\n",
    "                   vals=Arrays(shape=(self.n_points.get_latest,)))\n",
    "                "
   ]
  },
  {
   "cell_type": "markdown",
   "metadata": {},
   "source": [
    "In the above example, the shape is defined by the parameter `n_points` that defines how many samples our `DummySpectrumAnalyzer` returns.\n",
    "\n",
    "This means that the validation will call the function to get `n_points` twice for each `get` of the parameter. This may be too slow, however, if you (as the driver-writer) can guarantee that the cached value for `n_points` will never be out of sync with the value stored in the instrument, `n_points` may be replaced by it's latest known value such that the `validator` reads:\n",
    "```python\n",
    "vals=Arrays(shape=(self.n_points.get_latest))\n",
    "```\n",
    "\n",
    "This avoids any additional call to the instrument. In the same way, the arguments to the `freq_axis` parameter that defines the start, stop and number of points can be replaced by their latest value if the instrument allows it.\n",
    "\n"
   ]
  },
  {
   "cell_type": "code",
   "execution_count": 6,
   "metadata": {
    "execution": {
     "iopub.execute_input": "2020-09-18T13:46:48.048335Z",
     "iopub.status.busy": "2020-09-18T13:46:48.047733Z",
     "iopub.status.idle": "2020-09-18T13:46:48.124147Z",
     "shell.execute_reply": "2020-09-18T13:46:48.123412Z"
    }
   },
   "outputs": [
    {
     "name": "stdout",
     "output_type": "stream",
     "text": [
      "\r",
      "0it [00:00, ?it/s]"
     ]
    },
    {
     "name": "stdout",
     "output_type": "stream",
     "text": [
      "\r",
      "Upgrading database; v0 -> v1: : 0it [00:00, ?it/s]"
     ]
    },
    {
     "name": "stdout",
     "output_type": "stream",
     "text": [
      "\r",
      "Upgrading database; v0 -> v1: : 0it [00:00, ?it/s]"
     ]
    },
    {
     "name": "stdout",
     "output_type": "stream",
     "text": [
      "\n",
      "\r",
      "  0%|          | 0/1 [00:00<?, ?it/s]"
     ]
    },
    {
     "name": "stdout",
     "output_type": "stream",
     "text": [
      "\r",
      "Upgrading database; v1 -> v2:   0%|          | 0/1 [00:00<?, ?it/s]"
     ]
    },
    {
     "name": "stdout",
     "output_type": "stream",
     "text": [
      "\r",
      "Upgrading database; v1 -> v2: 100%|██████████| 1/1 [00:00<00:00, 571.20it/s]"
     ]
    },
    {
     "name": "stdout",
     "output_type": "stream",
     "text": [
      "\n",
      "\r",
      "0it [00:00, ?it/s]"
     ]
    },
    {
     "name": "stdout",
     "output_type": "stream",
     "text": [
      "\r",
      "Upgrading database; v2 -> v3: : 0it [00:00, ?it/s]"
     ]
    },
    {
     "name": "stdout",
     "output_type": "stream",
     "text": [
      "\r",
      "Upgrading database; v2 -> v3: : 0it [00:00, ?it/s]"
     ]
    },
    {
     "name": "stdout",
     "output_type": "stream",
     "text": [
      "\n",
      "\r",
      "0it [00:00, ?it/s]"
     ]
    },
    {
     "name": "stdout",
     "output_type": "stream",
     "text": [
      "\r",
      "Upgrading database; v3 -> v4: : 0it [00:00, ?it/s]"
     ]
    },
    {
     "name": "stdout",
     "output_type": "stream",
     "text": [
      "\r",
      "Upgrading database; v3 -> v4: : 0it [00:00, ?it/s]"
     ]
    },
    {
     "name": "stdout",
     "output_type": "stream",
     "text": [
      "\n",
      "\r",
      "  0%|          | 0/1 [00:00<?, ?it/s]"
     ]
    },
    {
     "name": "stdout",
     "output_type": "stream",
     "text": [
      "\r",
      "Upgrading database; v4 -> v5:   0%|          | 0/1 [00:00<?, ?it/s]"
     ]
    },
    {
     "name": "stdout",
     "output_type": "stream",
     "text": [
      "\r",
      "Upgrading database; v4 -> v5: 100%|██████████| 1/1 [00:00<00:00, 429.83it/s]"
     ]
    },
    {
     "name": "stdout",
     "output_type": "stream",
     "text": [
      "\n",
      "\r",
      "0it [00:00, ?it/s]"
     ]
    },
    {
     "name": "stdout",
     "output_type": "stream",
     "text": [
      "\r",
      "Upgrading database; v5 -> v6: : 0it [00:00, ?it/s]"
     ]
    },
    {
     "name": "stdout",
     "output_type": "stream",
     "text": [
      "\r",
      "Upgrading database; v5 -> v6: : 0it [00:00, ?it/s]"
     ]
    },
    {
     "name": "stdout",
     "output_type": "stream",
     "text": [
      "\n",
      "\r",
      "  0%|          | 0/1 [00:00<?, ?it/s]"
     ]
    },
    {
     "name": "stdout",
     "output_type": "stream",
     "text": [
      "\r",
      "Upgrading database; v6 -> v7:   0%|          | 0/1 [00:00<?, ?it/s]"
     ]
    },
    {
     "name": "stdout",
     "output_type": "stream",
     "text": [
      "\r",
      "Upgrading database; v6 -> v7: 100%|██████████| 1/1 [00:00<00:00, 263.89it/s]"
     ]
    },
    {
     "name": "stdout",
     "output_type": "stream",
     "text": [
      "\n",
      "\r",
      "  0%|          | 0/1 [00:00<?, ?it/s]"
     ]
    },
    {
     "name": "stdout",
     "output_type": "stream",
     "text": [
      "\r",
      "Upgrading database; v7 -> v8:   0%|          | 0/1 [00:00<?, ?it/s]"
     ]
    },
    {
     "name": "stdout",
     "output_type": "stream",
     "text": [
      "\r",
      "Upgrading database; v7 -> v8: 100%|██████████| 1/1 [00:00<00:00, 581.09it/s]"
     ]
    },
    {
     "name": "stdout",
     "output_type": "stream",
     "text": [
      "\n",
      "\r",
      "  0%|          | 0/1 [00:00<?, ?it/s]"
     ]
    },
    {
     "name": "stdout",
     "output_type": "stream",
     "text": [
      "\r",
      "Upgrading database; v8 -> v9:   0%|          | 0/1 [00:00<?, ?it/s]"
     ]
    },
    {
     "name": "stdout",
     "output_type": "stream",
     "text": [
      "\r",
      "Upgrading database; v8 -> v9: 100%|██████████| 1/1 [00:00<00:00, 497.90it/s]"
     ]
    },
    {
     "name": "stdout",
     "output_type": "stream",
     "text": [
      "\n"
     ]
    },
    {
     "data": {
      "text/plain": [
       "tutorial_ParameterWithSetpoints#no sample#1@/home/vsts/work/1/s/docs/examples/Parameters/tutorial_paramter_with_setpoints.db\n",
       "----------------------------------------------------------------------------------------------------------------------------"
      ]
     },
     "execution_count": 1,
     "metadata": {},
     "output_type": "execute_result"
    }
   ],
   "source": [
    "tutorial_db_path = os.path.join(os.getcwd(), 'tutorial_paramter_with_setpoints.db')\n",
    "initialise_or_create_database_at(tutorial_db_path)\n",
    "load_or_create_experiment(experiment_name='tutorial_ParameterWithSetpoints', sample_name=\"no sample\")"
   ]
  },
  {
   "cell_type": "code",
   "execution_count": 7,
   "metadata": {
    "execution": {
     "iopub.execute_input": "2020-09-18T13:46:48.128514Z",
     "iopub.status.busy": "2020-09-18T13:46:48.127930Z",
     "iopub.status.idle": "2020-09-18T13:46:48.131779Z",
     "shell.execute_reply": "2020-09-18T13:46:48.131262Z"
    }
   },
   "outputs": [],
   "source": [
    "a = DummySpectrumAnalyzer('foobar')"
   ]
  },
  {
   "cell_type": "markdown",
   "metadata": {},
   "source": [
    "First we setup the limits of the spectrum"
   ]
  },
  {
   "cell_type": "code",
   "execution_count": 8,
   "metadata": {
    "execution": {
     "iopub.execute_input": "2020-09-18T13:46:48.137765Z",
     "iopub.status.busy": "2020-09-18T13:46:48.137185Z",
     "iopub.status.idle": "2020-09-18T13:46:48.141149Z",
     "shell.execute_reply": "2020-09-18T13:46:48.140519Z"
    }
   },
   "outputs": [],
   "source": [
    "a.f_start(0)\n",
    "a.f_stop(500)\n",
    "a.n_points(501)"
   ]
  },
  {
   "cell_type": "markdown",
   "metadata": {},
   "source": [
    "And we can grab the frequency axis"
   ]
  },
  {
   "cell_type": "code",
   "execution_count": 9,
   "metadata": {
    "execution": {
     "iopub.execute_input": "2020-09-18T13:46:48.145602Z",
     "iopub.status.busy": "2020-09-18T13:46:48.144986Z",
     "iopub.status.idle": "2020-09-18T13:46:48.150535Z",
     "shell.execute_reply": "2020-09-18T13:46:48.149937Z"
    }
   },
   "outputs": [
    {
     "data": {
      "text/plain": [
       "501"
      ]
     },
     "execution_count": 1,
     "metadata": {},
     "output_type": "execute_result"
    }
   ],
   "source": [
    "a.n_points()"
   ]
  },
  {
   "cell_type": "code",
   "execution_count": 10,
   "metadata": {
    "execution": {
     "iopub.execute_input": "2020-09-18T13:46:48.155085Z",
     "iopub.status.busy": "2020-09-18T13:46:48.154041Z",
     "iopub.status.idle": "2020-09-18T13:46:48.157148Z",
     "shell.execute_reply": "2020-09-18T13:46:48.157682Z"
    },
    "scrolled": false
   },
   "outputs": [
    {
     "data": {
      "text/plain": [
       "501"
      ]
     },
     "execution_count": 1,
     "metadata": {},
     "output_type": "execute_result"
    }
   ],
   "source": [
    "freq_axis = a.freq_axis()\n",
    "len(freq_axis)"
   ]
  },
  {
   "cell_type": "code",
   "execution_count": 11,
   "metadata": {
    "execution": {
     "iopub.execute_input": "2020-09-18T13:46:48.162403Z",
     "iopub.status.busy": "2020-09-18T13:46:48.161381Z",
     "iopub.status.idle": "2020-09-18T13:46:48.164389Z",
     "shell.execute_reply": "2020-09-18T13:46:48.164975Z"
    }
   },
   "outputs": [
    {
     "data": {
      "text/plain": [
       "array([0., 1., 2., 3., 4., 5., 6., 7., 8., 9.])"
      ]
     },
     "execution_count": 1,
     "metadata": {},
     "output_type": "execute_result"
    }
   ],
   "source": [
    "freq_axis[:10]"
   ]
  },
  {
   "cell_type": "markdown",
   "metadata": {},
   "source": [
    "As expected we get a result wit 501 points as we asked for an axis with 501 points. "
   ]
  },
  {
   "cell_type": "markdown",
   "metadata": {},
   "source": [
    "Above we have added a validator to the `freq_axis` parameter encoding the fact that this is an Array with `n_points`. Note that we do not have to supply the number of points as an integer but can supply a function that returns the valid number of points. This would normally be a QCoDeS parameter.\n",
    "\n",
    "This will be checked if we validate the output."
   ]
  },
  {
   "cell_type": "code",
   "execution_count": 12,
   "metadata": {
    "execution": {
     "iopub.execute_input": "2020-09-18T13:46:48.171108Z",
     "iopub.status.busy": "2020-09-18T13:46:48.169828Z",
     "iopub.status.idle": "2020-09-18T13:46:48.171643Z",
     "shell.execute_reply": "2020-09-18T13:46:48.172201Z"
    }
   },
   "outputs": [],
   "source": [
    "a.freq_axis.validate(a.freq_axis.get())"
   ]
  },
  {
   "cell_type": "markdown",
   "metadata": {},
   "source": [
    "Naturally, we can also get the spectrum. Getting the spectrum will automatically perform validation both for the shape of the parameter itself and the relation to the setpoint parameter(s)"
   ]
  },
  {
   "cell_type": "code",
   "execution_count": 13,
   "metadata": {
    "execution": {
     "iopub.execute_input": "2020-09-18T13:46:48.176491Z",
     "iopub.status.busy": "2020-09-18T13:46:48.175470Z",
     "iopub.status.idle": "2020-09-18T13:46:48.178864Z",
     "shell.execute_reply": "2020-09-18T13:46:48.178304Z"
    },
    "scrolled": true
   },
   "outputs": [
    {
     "data": {
      "text/plain": [
       "501"
      ]
     },
     "execution_count": 1,
     "metadata": {},
     "output_type": "execute_result"
    }
   ],
   "source": [
    "spectrum = a.spectrum.get()\n",
    "len(spectrum)"
   ]
  },
  {
   "cell_type": "markdown",
   "metadata": {},
   "source": [
    "When we validate a `ParameterWithSetpoints`, we automatically validate that the shape is consistent between the parameters and its setpoints. As well as validating the shape as above."
   ]
  },
  {
   "cell_type": "code",
   "execution_count": 14,
   "metadata": {
    "execution": {
     "iopub.execute_input": "2020-09-18T13:46:48.184004Z",
     "iopub.status.busy": "2020-09-18T13:46:48.182744Z",
     "iopub.status.idle": "2020-09-18T13:46:48.184551Z",
     "shell.execute_reply": "2020-09-18T13:46:48.185124Z"
    }
   },
   "outputs": [],
   "source": [
    "a.spectrum.validate(a.spectrum.get())"
   ]
  },
  {
   "cell_type": "markdown",
   "metadata": {},
   "source": [
    "The consistent shapes can be validated explicitly."
   ]
  },
  {
   "cell_type": "code",
   "execution_count": 15,
   "metadata": {
    "execution": {
     "iopub.execute_input": "2020-09-18T13:46:48.190587Z",
     "iopub.status.busy": "2020-09-18T13:46:48.188499Z",
     "iopub.status.idle": "2020-09-18T13:46:48.191153Z",
     "shell.execute_reply": "2020-09-18T13:46:48.191727Z"
    }
   },
   "outputs": [],
   "source": [
    "a.spectrum.validate_consistent_shape()"
   ]
  },
  {
   "cell_type": "markdown",
   "metadata": {},
   "source": [
    "We can inspect the setpoints of the spectrum."
   ]
  },
  {
   "cell_type": "code",
   "execution_count": 16,
   "metadata": {
    "execution": {
     "iopub.execute_input": "2020-09-18T13:46:48.196513Z",
     "iopub.status.busy": "2020-09-18T13:46:48.195720Z",
     "iopub.status.idle": "2020-09-18T13:46:48.198518Z",
     "shell.execute_reply": "2020-09-18T13:46:48.199074Z"
    }
   },
   "outputs": [
    {
     "data": {
      "text/plain": [
       "(<__main__.GeneratedSetPoints: freq_axis at 140043643209552>,)"
      ]
     },
     "execution_count": 1,
     "metadata": {},
     "output_type": "execute_result"
    }
   ],
   "source": [
    "a.spectrum.setpoints"
   ]
  },
  {
   "cell_type": "markdown",
   "metadata": {},
   "source": [
    "Or even change them."
   ]
  },
  {
   "cell_type": "code",
   "execution_count": 17,
   "metadata": {
    "execution": {
     "iopub.execute_input": "2020-09-18T13:46:48.203417Z",
     "iopub.status.busy": "2020-09-18T13:46:48.202252Z",
     "iopub.status.idle": "2020-09-18T13:46:48.203949Z",
     "shell.execute_reply": "2020-09-18T13:46:48.204489Z"
    }
   },
   "outputs": [],
   "source": [
    "a.spectrum.setpoints = (a.freq_axis,)"
   ]
  },
  {
   "cell_type": "markdown",
   "metadata": {},
   "source": [
    "## Measurement"
   ]
  },
  {
   "cell_type": "markdown",
   "metadata": {},
   "source": [
    "We can also directly consume the parameter in a measurement without defining the setpoints of the parameter again. The setpoints are automatically obtained from the definition of the `ParameterWithSetpoint` instance. "
   ]
  },
  {
   "cell_type": "code",
   "execution_count": 18,
   "metadata": {
    "execution": {
     "iopub.execute_input": "2020-09-18T13:46:48.209178Z",
     "iopub.status.busy": "2020-09-18T13:46:48.208577Z",
     "iopub.status.idle": "2020-09-18T13:46:48.225463Z",
     "shell.execute_reply": "2020-09-18T13:46:48.224841Z"
    }
   },
   "outputs": [
    {
     "name": "stdout",
     "output_type": "stream",
     "text": [
      "Starting experimental run with id: 1. \n"
     ]
    }
   ],
   "source": [
    "meas = Measurement()\n",
    "meas.register_parameter(a.spectrum)\n",
    "\n",
    "with meas.run() as datasaver:\n",
    "    datasaver.add_result((a.freq_axis, a.freq_axis()),\n",
    "                         (a.spectrum, a.spectrum()))\n",
    "    dataset = datasaver.dataset"
   ]
  },
  {
   "cell_type": "markdown",
   "metadata": {},
   "source": [
    "And plot it"
   ]
  },
  {
   "cell_type": "code",
   "execution_count": 19,
   "metadata": {
    "execution": {
     "iopub.execute_input": "2020-09-18T13:46:48.229317Z",
     "iopub.status.busy": "2020-09-18T13:46:48.228647Z",
     "iopub.status.idle": "2020-09-18T13:46:48.618321Z",
     "shell.execute_reply": "2020-09-18T13:46:48.619200Z"
    }
   },
   "outputs": [
    {
     "data": {
      "text/plain": [
       "([<matplotlib.axes._subplots.AxesSubplot at 0x7f5e9c2a1350>], [None])"
      ]
     },
     "execution_count": 1,
     "metadata": {},
     "output_type": "execute_result"
    },
    {
     "data": {
      "image/png": "[encoded data removed]",
      "text/plain": [
       "<Figure size 432x288 with 1 Axes>"
      ]
     },
     "metadata": {
      "needs_background": "light"
     },
     "output_type": "display_data"
    }
   ],
   "source": [
    "plot_dataset(dataset)"
   ]
  },
  {
   "cell_type": "markdown",
   "metadata": {},
   "source": [
    "To reduce the amount of typing a simple convenience function is provided that will take a `ParameterWithSetpoints` and get both its values and the setpoints values and return them as tuples for direct insertion into the Dataset."
   ]
  },
  {
   "cell_type": "code",
   "execution_count": 20,
   "metadata": {
    "execution": {
     "iopub.execute_input": "2020-09-18T13:46:48.632473Z",
     "iopub.status.busy": "2020-09-18T13:46:48.622683Z",
     "iopub.status.idle": "2020-09-18T13:46:48.637722Z",
     "shell.execute_reply": "2020-09-18T13:46:48.637130Z"
    },
    "scrolled": true
   },
   "outputs": [
    {
     "data": {
      "text/plain": [
       "[(<__main__.GeneratedSetPoints: freq_axis at 140043643209552>,\n",
       "  array([  0.,   1.,   2.,   3.,   4.,   5.,   6.,   7.,   8.,   9.,  10.,\n",
       "          11.,  12.,  13.,  14.,  15.,  16.,  17.,  18.,  19.,  20.,  21.,\n",
       "          22.,  23.,  24.,  25.,  26.,  27.,  28.,  29.,  30.,  31.,  32.,\n",
       "          33.,  34.,  35.,  36.,  37.,  38.,  39.,  40.,  41.,  42.,  43.,\n",
       "          44.,  45.,  46.,  47.,  48.,  49.,  50.,  51.,  52.,  53.,  54.,\n",
       "          55.,  56.,  57.,  58.,  59.,  60.,  61.,  62.,  63.,  64.,  65.,\n",
       "          66.,  67.,  68.,  69.,  70.,  71.,  72.,  73.,  74.,  75.,  76.,\n",
       "          77.,  78.,  79.,  80.,  81.,  82.,  83.,  84.,  85.,  86.,  87.,\n",
       "          88.,  89.,  90.,  91.,  92.,  93.,  94.,  95.,  96.,  97.,  98.,\n",
       "          99., 100., 101., 102., 103., 104., 105., 106., 107., 108., 109.,\n",
       "         110., 111., 112., 113., 114., 115., 116., 117., 118., 119., 120.,\n",
       "         121., 122., 123., 124., 125., 126., 127., 128., 129., 130., 131.,\n",
       "         132., 133., 134., 135., 136., 137., 138., 139., 140., 141., 142.,\n",
       "         143., 144., 145., 146., 147., 148., 149., 150., 151., 152., 153.,\n",
       "         154., 155., 156., 157., 158., 159., 160., 161., 162., 163., 164.,\n",
       "         165., 166., 167., 168., 169., 170., 171., 172., 173., 174., 175.,\n",
       "         176., 177., 178., 179., 180., 181., 182., 183., 184., 185., 186.,\n",
       "         187., 188., 189., 190., 191., 192., 193., 194., 195., 196., 197.,\n",
       "         198., 199., 200., 201., 202., 203., 204., 205., 206., 207., 208.,\n",
       "         209., 210., 211., 212., 213., 214., 215., 216., 217., 218., 219.,\n",
       "         220., 221., 222., 223., 224., 225., 226., 227., 228., 229., 230.,\n",
       "         231., 232., 233., 234., 235., 236., 237., 238., 239., 240., 241.,\n",
       "         242., 243., 244., 245., 246., 247., 248., 249., 250., 251., 252.,\n",
       "         253., 254., 255., 256., 257., 258., 259., 260., 261., 262., 263.,\n",
       "         264., 265., 266., 267., 268., 269., 270., 271., 272., 273., 274.,\n",
       "         275., 276., 277., 278., 279., 280., 281., 282., 283., 284., 285.,\n",
       "         286., 287., 288., 289., 290., 291., 292., 293., 294., 295., 296.,\n",
       "         297., 298., 299., 300., 301., 302., 303., 304., 305., 306., 307.,\n",
       "         308., 309., 310., 311., 312., 313., 314., 315., 316., 317., 318.,\n",
       "         319., 320., 321., 322., 323., 324., 325., 326., 327., 328., 329.,\n",
       "         330., 331., 332., 333., 334., 335., 336., 337., 338., 339., 340.,\n",
       "         341., 342., 343., 344., 345., 346., 347., 348., 349., 350., 351.,\n",
       "         352., 353., 354., 355., 356., 357., 358., 359., 360., 361., 362.,\n",
       "         363., 364., 365., 366., 367., 368., 369., 370., 371., 372., 373.,\n",
       "         374., 375., 376., 377., 378., 379., 380., 381., 382., 383., 384.,\n",
       "         385., 386., 387., 388., 389., 390., 391., 392., 393., 394., 395.,\n",
       "         396., 397., 398., 399., 400., 401., 402., 403., 404., 405., 406.,\n",
       "         407., 408., 409., 410., 411., 412., 413., 414., 415., 416., 417.,\n",
       "         418., 419., 420., 421., 422., 423., 424., 425., 426., 427., 428.,\n",
       "         429., 430., 431., 432., 433., 434., 435., 436., 437., 438., 439.,\n",
       "         440., 441., 442., 443., 444., 445., 446., 447., 448., 449., 450.,\n",
       "         451., 452., 453., 454., 455., 456., 457., 458., 459., 460., 461.,\n",
       "         462., 463., 464., 465., 466., 467., 468., 469., 470., 471., 472.,\n",
       "         473., 474., 475., 476., 477., 478., 479., 480., 481., 482., 483.,\n",
       "         484., 485., 486., 487., 488., 489., 490., 491., 492., 493., 494.,\n",
       "         495., 496., 497., 498., 499., 500.])),\n",
       " (<__main__.DummyArray: spectrum at 140043643208464>,\n",
       "  array([7.43864552e-01, 9.44916474e-01, 9.14349524e-01, 2.37191722e-01,\n",
       "         8.15110844e-01, 3.49875488e-01, 5.42722539e-01, 1.10057713e-01,\n",
       "         5.77192059e-01, 5.29195299e-01, 3.22555051e-01, 4.05585043e-01,\n",
       "         6.05799797e-01, 1.30470438e-01, 7.39919632e-02, 3.46470657e-02,\n",
       "         1.99737988e-04, 3.62392537e-01, 8.48114017e-01, 7.05281838e-01,\n",
       "         4.53909960e-01, 3.90903514e-01, 8.06686876e-01, 2.66625527e-01,\n",
       "         5.15643763e-01, 3.62047938e-01, 3.12948187e-01, 6.05861890e-01,\n",
       "         5.34142247e-01, 9.24945055e-01, 2.68297693e-01, 3.27014282e-01,\n",
       "         8.73859803e-01, 9.11132100e-01, 2.67415990e-01, 3.00842821e-02,\n",
       "         6.65376454e-01, 4.69170377e-01, 1.94386146e-01, 7.42348690e-01,\n",
       "         7.99651712e-01, 7.61733103e-01, 3.81446275e-02, 6.81327407e-01,\n",
       "         7.22520141e-01, 9.63484968e-01, 8.15367484e-01, 8.90591521e-01,\n",
       "         2.06627203e-01, 5.62999161e-01, 5.87115780e-01, 4.85441629e-01,\n",
       "         3.40118811e-01, 3.38001323e-01, 2.85006087e-01, 3.15616723e-01,\n",
       "         3.51675245e-01, 6.91155940e-01, 5.90402055e-01, 1.31158918e-02,\n",
       "         5.95466357e-01, 4.96605403e-01, 5.27943807e-01, 3.07692852e-01,\n",
       "         4.01641444e-01, 4.19423149e-01, 3.75306123e-01, 7.59105578e-01,\n",
       "         7.33977912e-01, 2.67292245e-01, 5.40976437e-01, 7.00620151e-02,\n",
       "         4.51649714e-03, 6.20022423e-01, 9.06289214e-01, 6.82730338e-01,\n",
       "         8.95352138e-01, 6.97595490e-01, 2.63779525e-01, 5.94267013e-01,\n",
       "         2.54726674e-01, 5.98652442e-01, 1.52678089e-01, 4.03578279e-01,\n",
       "         8.27877688e-01, 5.02749607e-01, 6.56556990e-01, 1.75943294e-01,\n",
       "         9.07056851e-01, 9.66689679e-01, 5.40551502e-01, 2.41010036e-01,\n",
       "         2.21252483e-01, 4.62864879e-01, 9.64327611e-01, 3.85631559e-01,\n",
       "         1.87767413e-02, 2.29332100e-01, 2.08540736e-01, 8.67623613e-01,\n",
       "         7.98461855e-01, 8.96792853e-02, 9.65466604e-01, 1.39444314e-01,\n",
       "         9.08500296e-01, 6.80446822e-01, 5.10113882e-01, 5.16068685e-01,\n",
       "         2.66649189e-01, 1.17465157e-01, 2.43956816e-01, 7.06289561e-01,\n",
       "         5.57826196e-01, 5.73605945e-01, 5.17982698e-01, 4.54338100e-01,\n",
       "         1.08736269e-01, 9.84457096e-01, 6.62471393e-01, 8.76547877e-02,\n",
       "         2.82471101e-01, 8.27098746e-01, 2.20625299e-01, 3.24378132e-01,\n",
       "         2.02659229e-02, 5.45263361e-01, 5.04032225e-01, 9.97538767e-01,\n",
       "         1.34520112e-01, 3.67732675e-01, 9.80830869e-01, 2.95188040e-01,\n",
       "         8.78238989e-01, 4.30901530e-02, 8.23689449e-02, 4.59086245e-01,\n",
       "         6.86403470e-01, 4.14369282e-01, 2.12834492e-01, 8.13841303e-02,\n",
       "         1.20778832e-01, 1.07770289e-01, 4.81216679e-01, 2.99362341e-01,\n",
       "         8.78474181e-03, 8.20761547e-01, 4.89531019e-01, 4.75588172e-01,\n",
       "         6.24981264e-01, 7.65072035e-01, 4.98004045e-01, 5.15850551e-01,\n",
       "         2.25414417e-01, 7.79036845e-01, 2.61779078e-01, 4.90797353e-01,\n",
       "         2.80463426e-01, 5.68673748e-01, 6.58143561e-01, 3.30929171e-01,\n",
       "         7.34743213e-02, 2.02908047e-01, 2.09871836e-02, 1.31543754e-01,\n",
       "         1.44472194e-01, 6.35980693e-01, 2.85476380e-01, 4.37462148e-01,\n",
       "         1.79553809e-01, 4.62863279e-01, 4.60393210e-01, 7.69707088e-01,\n",
       "         2.71387544e-01, 3.75237881e-02, 6.11346374e-02, 5.15557313e-01,\n",
       "         9.33436875e-01, 1.15767757e-02, 9.81518768e-01, 5.99963862e-01,\n",
       "         6.78913448e-01, 9.63763565e-01, 1.58713485e-01, 9.72026053e-01,\n",
       "         6.64609041e-01, 5.17737750e-01, 7.83152495e-01, 1.23456931e-01,\n",
       "         4.19349982e-01, 8.99081554e-01, 8.49206967e-01, 3.35869451e-01,\n",
       "         8.72665145e-01, 3.10731725e-01, 5.07172678e-02, 9.44700175e-01,\n",
       "         8.73993976e-01, 7.70106498e-01, 1.68134495e-01, 7.29081084e-01,\n",
       "         3.16639776e-01, 6.39199704e-01, 7.72494800e-01, 4.01056243e-01,\n",
       "         5.85274954e-01, 5.09010067e-01, 8.08907016e-01, 8.46053544e-01,\n",
       "         6.97933762e-01, 5.70098638e-01, 1.71999192e-01, 1.78323621e-01,\n",
       "         1.49333677e-01, 2.14099849e-01, 8.27853673e-01, 8.77006095e-01,\n",
       "         3.44381875e-01, 5.22664935e-01, 2.83000017e-01, 9.31999171e-01,\n",
       "         2.07697949e-01, 4.82726339e-01, 1.00610947e-02, 4.28266861e-01,\n",
       "         1.79330309e-01, 8.26797066e-01, 6.36964540e-01, 6.72967119e-01,\n",
       "         3.30520463e-01, 1.77414711e-01, 3.80775240e-01, 8.11436810e-01,\n",
       "         5.01170858e-01, 1.84168185e-01, 9.84748488e-01, 7.10630578e-01,\n",
       "         6.51187605e-01, 1.96222021e-01, 3.59840305e-01, 1.22317082e-01,\n",
       "         3.88042687e-01, 3.66645579e-01, 9.99899746e-01, 6.56146820e-01,\n",
       "         4.72258330e-01, 9.20865198e-01, 3.60352025e-02, 1.89111891e-01,\n",
       "         7.51713536e-01, 8.22723667e-01, 4.74421732e-01, 3.00615743e-01,\n",
       "         9.17769607e-01, 8.21168306e-01, 5.59888996e-01, 3.40034378e-01,\n",
       "         9.49208008e-01, 2.80013702e-01, 2.75507983e-02, 2.20620377e-01,\n",
       "         7.90643146e-02, 1.63849921e-01, 2.57470632e-01, 8.72552728e-01,\n",
       "         5.02540805e-01, 5.81686984e-01, 7.17895551e-01, 6.91824161e-01,\n",
       "         3.84906589e-01, 3.23450250e-01, 1.33223605e-01, 7.11401220e-01,\n",
       "         1.52652353e-01, 5.69735088e-01, 1.36349725e-01, 6.85102044e-01,\n",
       "         2.38454210e-01, 7.41831212e-01, 4.17654650e-01, 5.05689270e-01,\n",
       "         1.49065719e-01, 3.64720851e-01, 4.19637772e-01, 9.03106121e-01,\n",
       "         3.35199354e-01, 1.01185844e-01, 9.56681720e-01, 1.03679084e-01,\n",
       "         5.74685561e-01, 8.67099163e-01, 1.96956811e-01, 8.00604620e-01,\n",
       "         9.41382596e-01, 2.43570480e-01, 2.84297826e-01, 2.65320577e-01,\n",
       "         9.81433168e-01, 6.27669221e-01, 9.78719125e-01, 7.77477290e-01,\n",
       "         3.01494405e-01, 8.04382204e-01, 1.62647629e-01, 6.33000794e-02,\n",
       "         4.84034157e-01, 2.03342830e-02, 1.92762609e-01, 7.66242627e-01,\n",
       "         5.65610350e-01, 6.98879438e-01, 2.95496946e-01, 5.73565983e-01,\n",
       "         9.50389963e-02, 1.46667447e-01, 5.57014376e-01, 5.04464267e-01,\n",
       "         4.30987159e-01, 4.30365214e-02, 6.17621510e-01, 6.37482171e-01,\n",
       "         8.05984135e-01, 3.35761749e-01, 4.76531604e-01, 3.06918150e-01,\n",
       "         3.10431052e-01, 8.20108812e-01, 5.47825094e-01, 5.45975766e-01,\n",
       "         6.54976641e-01, 4.88268439e-01, 1.12485265e-01, 6.07574022e-01,\n",
       "         2.90832263e-01, 2.55205097e-02, 2.32482421e-01, 3.18726996e-01,\n",
       "         5.90194856e-01, 5.81431027e-01, 1.05315422e-01, 1.42028933e-02,\n",
       "         6.25363565e-01, 7.96180227e-01, 9.05344256e-01, 1.15266125e-01,\n",
       "         4.02935646e-01, 7.75609117e-01, 8.91187572e-01, 6.51208419e-01,\n",
       "         2.53333009e-01, 5.50171785e-01, 2.88817934e-01, 3.95299358e-01,\n",
       "         9.95417372e-01, 5.63698515e-01, 9.47579277e-01, 8.55395009e-01,\n",
       "         3.46359293e-01, 8.70849498e-01, 3.02491817e-01, 9.87986987e-01,\n",
       "         3.99542359e-01, 4.36162866e-01, 3.74743043e-01, 8.54267463e-01,\n",
       "         1.81109247e-01, 6.10861582e-01, 7.57676603e-01, 3.75044583e-01,\n",
       "         3.95849471e-01, 6.18062112e-01, 1.01279319e-01, 3.56839953e-01,\n",
       "         9.37556368e-01, 3.40385472e-01, 5.72509089e-01, 7.20089334e-01,\n",
       "         9.60186552e-01, 1.17461083e-02, 1.33655593e-01, 4.09731902e-01,\n",
       "         4.16166743e-01, 7.51765582e-01, 5.84526092e-01, 8.61298926e-01,\n",
       "         4.24225114e-02, 2.17372806e-01, 6.49597412e-01, 3.58661915e-01,\n",
       "         9.62866970e-01, 7.54026774e-01, 3.90005511e-01, 5.79241877e-01,\n",
       "         9.50131162e-01, 8.82741822e-01, 7.47915431e-01, 1.43504519e-01,\n",
       "         1.11685142e-01, 6.91297773e-01, 8.62814986e-02, 2.17809186e-01,\n",
       "         1.18930003e-01, 3.20233748e-01, 9.83920012e-01, 3.55420604e-01,\n",
       "         7.58529406e-01, 1.91407360e-01, 1.00758369e-01, 1.99523792e-01,\n",
       "         5.06233007e-01, 9.50160436e-01, 2.33647590e-01, 9.54843066e-01,\n",
       "         8.74048577e-01, 4.74551476e-01, 3.90829555e-01, 5.71912736e-01,\n",
       "         5.02481941e-01, 5.77016619e-01, 8.03381914e-01, 2.82135928e-01,\n",
       "         4.82953634e-01, 2.07704762e-01, 9.56171123e-01, 1.11967919e-01,\n",
       "         6.37675717e-01, 7.81237853e-02, 4.09422630e-01, 2.22006505e-01,\n",
       "         2.58260553e-01, 3.40148197e-01, 5.51356025e-02, 5.02486024e-01,\n",
       "         2.81479887e-01, 9.48579801e-01, 4.93063331e-01, 6.44639944e-01,\n",
       "         6.38596847e-01, 1.32733145e-01, 3.73820326e-01, 2.54579132e-01,\n",
       "         7.79239862e-01, 9.55485363e-01, 5.17648856e-01, 3.26523453e-01,\n",
       "         7.00353241e-01, 6.74556211e-01, 3.91163427e-01, 4.09313591e-01,\n",
       "         4.56892946e-01, 9.32633899e-03, 9.43147972e-01, 4.98985370e-01,\n",
       "         5.13756840e-01, 8.37410636e-01, 8.44835392e-01, 8.91859770e-01,\n",
       "         8.81612805e-01, 6.12909388e-01, 3.51214426e-01, 1.06364389e-01,\n",
       "         6.84274614e-01, 1.90287887e-01, 2.61677913e-01, 3.00143186e-01,\n",
       "         4.39730503e-01, 6.87683567e-02, 7.78617633e-01, 5.22059588e-01,\n",
       "         3.94819281e-01, 7.68676242e-01, 9.03733909e-01, 8.25947820e-01,\n",
       "         1.19945221e-01, 1.16332452e-01, 9.55464546e-01, 3.68296613e-01,\n",
       "         1.81417773e-01, 4.71422065e-01, 2.98698076e-01, 2.02528300e-01,\n",
       "         3.47018650e-01, 3.35115453e-01, 6.85428177e-01, 6.42616850e-01,\n",
       "         1.65324357e-02, 7.60187590e-01, 1.09869068e-01, 7.18925931e-01,\n",
       "         6.31948384e-01, 3.62913364e-01, 1.18472721e-01, 1.66134126e-01,\n",
       "         7.27570828e-01, 4.85571827e-01, 3.57945855e-01, 1.53420056e-01,\n",
       "         4.95563076e-01, 3.13266699e-01, 9.88898036e-01, 7.73915319e-01,\n",
       "         3.11727691e-01]))]"
      ]
     },
     "execution_count": 1,
     "metadata": {},
     "output_type": "execute_result"
    }
   ],
   "source": [
    "expand_setpoints_helper(a.spectrum)"
   ]
  },
  {
   "cell_type": "code",
   "execution_count": 21,
   "metadata": {
    "execution": {
     "iopub.execute_input": "2020-09-18T13:46:48.643535Z",
     "iopub.status.busy": "2020-09-18T13:46:48.642668Z",
     "iopub.status.idle": "2020-09-18T13:46:48.658197Z",
     "shell.execute_reply": "2020-09-18T13:46:48.658844Z"
    }
   },
   "outputs": [
    {
     "name": "stdout",
     "output_type": "stream",
     "text": [
      "Starting experimental run with id: 2. \n"
     ]
    }
   ],
   "source": [
    "meas = Measurement()\n",
    "meas.register_parameter(a.spectrum)\n",
    "\n",
    "with meas.run() as datasaver:\n",
    "    datasaver.add_result(*expand_setpoints_helper(a.spectrum))\n",
    "    \n",
    "    dataid = datasaver.run_id"
   ]
  },
  {
   "cell_type": "code",
   "execution_count": null,
   "metadata": {},
   "outputs": [],
   "source": []
  }
 ],
 "metadata": {
  "kernelspec": {
   "display_name": "Python 3",
   "language": "python",
   "name": "python3"
  },
  "language_info": {
   "codemirror_mode": {
    "name": "ipython",
    "version": 3
   },
   "file_extension": ".py",
   "mimetype": "text/x-python",
   "name": "python",
   "nbconvert_exporter": "python",
   "pygments_lexer": "ipython3",
   "version": "3.7.7"
  },
  "toc": {
   "base_numbering": 1,
   "nav_menu": {},
   "number_sections": true,
   "sideBar": true,
   "skip_h1_title": false,
   "title_cell": "Table of Contents",
   "title_sidebar": "Contents",
   "toc_cell": false,
   "toc_position": {},
   "toc_section_display": true,
   "toc_window_display": false
  },
  "varInspector": {
   "cols": {
    "lenName": 16,
    "lenType": 16,
    "lenVar": 40
   },
   "kernels_config": {
    "python": {
     "delete_cmd_postfix": "",
     "delete_cmd_prefix": "del ",
     "library": "var_list.py",
     "varRefreshCmd": "print(var_dic_list())"
    },
    "r": {
     "delete_cmd_postfix": ") ",
     "delete_cmd_prefix": "rm(",
     "library": "var_list.r",
     "varRefreshCmd": "cat(var_dic_list()) "
    }
   },
   "types_to_exclude": [
    "module",
    "function",
    "builtin_function_or_method",
    "instance",
    "_Feature"
   ],
   "window_display": false
  }
 },
 "nbformat": 4,
 "nbformat_minor": 2
}
