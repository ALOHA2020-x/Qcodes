{
 "cells": [
  {
   "cell_type": "markdown",
   "metadata": {},
   "source": [
    "# Simple Example of ParameterWithSetpoints\n",
    "This notebook provides an example for writing a simple driver with a parameter that has setpoints. Let's name this parameter that has setpoints as \"y\". Then, the setpoints, say \"x1, x2, x3 ..\", are the parameters on which the parameter \n",
    "\"y\" depends upon. Meaning \"y\" is a function of \"x1, x2, x3 ...\" where \"x1, x2, x3 ...\" are known as the setpoints of parameter \"y\".\n",
    "\n",
    "This is most likely to be useful for instruments that return arrays of results. In this notebook, we will show an example of this."
   ]
  },
  {
   "cell_type": "code",
   "execution_count": 1,
   "metadata": {
    "execution": {
     "iopub.execute_input": "2020-09-21T08:50:06.089112Z",
     "iopub.status.busy": "2020-09-21T08:50:06.088568Z",
     "iopub.status.idle": "2020-09-21T08:50:06.182684Z",
     "shell.execute_reply": "2020-09-21T08:50:06.183210Z"
    }
   },
   "outputs": [],
   "source": [
    "import numpy as np\n",
    "import os"
   ]
  },
  {
   "cell_type": "code",
   "execution_count": 2,
   "metadata": {
    "execution": {
     "iopub.execute_input": "2020-09-21T08:50:06.187865Z",
     "iopub.status.busy": "2020-09-21T08:50:06.187229Z",
     "iopub.status.idle": "2020-09-21T08:50:07.293257Z",
     "shell.execute_reply": "2020-09-21T08:50:07.292329Z"
    }
   },
   "outputs": [
    {
     "name": "stdout",
     "output_type": "stream",
     "text": [
      "Logging hadn't been started.\n",
      "Activating auto-logging. Current session state plus future input saved.\n",
      "Filename       : /home/vsts/.qcodes/logs/command_history.log\n",
      "Mode           : append\n",
      "Output logging : True\n",
      "Raw input log  : False\n",
      "Timestamping   : True\n",
      "State          : active\n"
     ]
    },
    {
     "name": "stdout",
     "output_type": "stream",
     "text": [
      "Qcodes Logfile : /home/vsts/.qcodes/logs/200921-21989-qcodes.log\n"
     ]
    }
   ],
   "source": [
    "from qcodes.dataset.plotting import plot_dataset\n",
    "from qcodes.utils.validators import Numbers, Arrays\n",
    "from qcodes.instrument.base import Instrument\n",
    "from qcodes.dataset.measurements import Measurement"
   ]
  },
  {
   "cell_type": "code",
   "execution_count": 3,
   "metadata": {
    "execution": {
     "iopub.execute_input": "2020-09-21T08:50:07.297245Z",
     "iopub.status.busy": "2020-09-21T08:50:07.296717Z",
     "iopub.status.idle": "2020-09-21T08:50:07.300090Z",
     "shell.execute_reply": "2020-09-21T08:50:07.299688Z"
    }
   },
   "outputs": [],
   "source": [
    "from qcodes.dataset.sqlite.database import initialise_or_create_database_at\n",
    "from qcodes.dataset.experiment_container import load_or_create_experiment"
   ]
  },
  {
   "cell_type": "code",
   "execution_count": 4,
   "metadata": {
    "execution": {
     "iopub.execute_input": "2020-09-21T08:50:07.303929Z",
     "iopub.status.busy": "2020-09-21T08:50:07.302774Z",
     "iopub.status.idle": "2020-09-21T08:50:07.306320Z",
     "shell.execute_reply": "2020-09-21T08:50:07.306737Z"
    }
   },
   "outputs": [],
   "source": [
    "from qcodes.instrument.parameter import ParameterWithSetpoints, Parameter\n",
    "from qcodes.instrument.parameter import expand_setpoints_helper"
   ]
  },
  {
   "cell_type": "markdown",
   "metadata": {},
   "source": [
    "First, we define a dummy instrument that returns something like a frequency spectrum starting from a frequency given by `f_start` to a frequency given by `f_stop` in `n_points` steps. \n",
    "\n",
    "The extra functionality of the `ParameterWithSetpoints` is implemented by giving it a reference to one or more parameters that acts like its setpoints. \n",
    "\n",
    "To setup a `ParameterWithSetpoints` we have to do two things in addition to what we do for a normal parameter.\n",
    "\n",
    "* Define one or more parameter for the setpoints (one for each dimension of the array and let the `ParameterWithSetpoints` know that these are the setpoints.\n",
    "* Give both the setpoints parameter(s) and the `ParameterWithSetpoints` a `validator` of type `Arrays` with a shape. The shapes should be such that the combined shape of the setpoints matches the shape of the `ParameterWithSetpoints`. Note that if the shape changes with the setting of the instrument, it can be defined by another parameter as shown below. "
   ]
  },
  {
   "cell_type": "code",
   "execution_count": 5,
   "metadata": {
    "execution": {
     "iopub.execute_input": "2020-09-21T08:50:07.317840Z",
     "iopub.status.busy": "2020-09-21T08:50:07.314534Z",
     "iopub.status.idle": "2020-09-21T08:50:07.321289Z",
     "shell.execute_reply": "2020-09-21T08:50:07.320749Z"
    }
   },
   "outputs": [],
   "source": [
    "class GeneratedSetPoints(Parameter):\n",
    "    \"\"\"\n",
    "    A parameter that generates a setpoint array from start, stop and num points\n",
    "    parameters.\n",
    "    \"\"\"\n",
    "    def __init__(self, startparam, stopparam, numpointsparam, *args, **kwargs):\n",
    "        super().__init__(*args, **kwargs)\n",
    "        self._startparam = startparam\n",
    "        self._stopparam = stopparam\n",
    "        self._numpointsparam = numpointsparam\n",
    "\n",
    "    def get_raw(self):\n",
    "        return np.linspace(self._startparam(), self._stopparam(),\n",
    "                              self._numpointsparam())\n",
    "\n",
    "class DummyArray(ParameterWithSetpoints):\n",
    "    \n",
    "    def get_raw(self):\n",
    "        npoints = self.root_instrument.n_points.get_latest()\n",
    "        return np.random.rand(npoints)\n",
    "    \n",
    "\n",
    "class DummySpectrumAnalyzer(Instrument):\n",
    "    \n",
    "    def __init__(self, name, **kwargs):\n",
    "        \n",
    "        super().__init__(name, **kwargs)\n",
    "            \n",
    "\n",
    "        self.add_parameter('f_start',\n",
    "                           initial_value=0,\n",
    "                           unit='Hz',\n",
    "                           label='f start',\n",
    "                           vals=Numbers(0,1e3),\n",
    "                           get_cmd=None,\n",
    "                           set_cmd=None)\n",
    "\n",
    "        self.add_parameter('f_stop',\n",
    "                           unit='Hz',\n",
    "                           label='f stop',\n",
    "                           vals=Numbers(1,1e3),\n",
    "                           get_cmd=None,\n",
    "                           set_cmd=None)\n",
    "\n",
    "        self.add_parameter('n_points',\n",
    "                           unit='',\n",
    "                           initial_value=10,\n",
    "                           vals=Numbers(1,1e3),\n",
    "                           get_cmd=None,\n",
    "                           set_cmd=None)\n",
    "        \n",
    "        self.add_parameter('freq_axis',\n",
    "                           unit='Hz',\n",
    "                           label='Freq Axis',\n",
    "                           parameter_class=GeneratedSetPoints,\n",
    "                           startparam=self.f_start,\n",
    "                           stopparam=self.f_stop,\n",
    "                           numpointsparam=self.n_points,\n",
    "                           vals=Arrays(shape=(self.n_points.get_latest,)))\n",
    "                           \n",
    "        self.add_parameter('spectrum',\n",
    "                   unit='dBm',\n",
    "                   setpoints=(self.freq_axis,),\n",
    "                   label='Spectrum',\n",
    "                   parameter_class=DummyArray,\n",
    "                   vals=Arrays(shape=(self.n_points.get_latest,)))\n",
    "                "
   ]
  },
  {
   "cell_type": "markdown",
   "metadata": {},
   "source": [
    "In the above example, the shape is defined by the parameter `n_points` that defines how many samples our `DummySpectrumAnalyzer` returns.\n",
    "\n",
    "This means that the validation will call the function to get `n_points` twice for each `get` of the parameter. This may be too slow, however, if you (as the driver-writer) can guarantee that the cached value for `n_points` will never be out of sync with the value stored in the instrument, `n_points` may be replaced by it's latest known value such that the `validator` reads:\n",
    "```python\n",
    "vals=Arrays(shape=(self.n_points.get_latest))\n",
    "```\n",
    "\n",
    "This avoids any additional call to the instrument. In the same way, the arguments to the `freq_axis` parameter that defines the start, stop and number of points can be replaced by their latest value if the instrument allows it.\n",
    "\n"
   ]
  },
  {
   "cell_type": "code",
   "execution_count": 6,
   "metadata": {
    "execution": {
     "iopub.execute_input": "2020-09-21T08:50:07.325254Z",
     "iopub.status.busy": "2020-09-21T08:50:07.324459Z",
     "iopub.status.idle": "2020-09-21T08:50:07.397632Z",
     "shell.execute_reply": "2020-09-21T08:50:07.397077Z"
    }
   },
   "outputs": [
    {
     "name": "stdout",
     "output_type": "stream",
     "text": [
      "\r",
      "0it [00:00, ?it/s]"
     ]
    },
    {
     "name": "stdout",
     "output_type": "stream",
     "text": [
      "\r",
      "Upgrading database; v0 -> v1: : 0it [00:00, ?it/s]"
     ]
    },
    {
     "name": "stdout",
     "output_type": "stream",
     "text": [
      "\r",
      "Upgrading database; v0 -> v1: : 0it [00:00, ?it/s]"
     ]
    },
    {
     "name": "stdout",
     "output_type": "stream",
     "text": [
      "\n",
      "\r",
      "  0%|          | 0/1 [00:00<?, ?it/s]"
     ]
    },
    {
     "name": "stdout",
     "output_type": "stream",
     "text": [
      "\r",
      "Upgrading database; v1 -> v2:   0%|          | 0/1 [00:00<?, ?it/s]"
     ]
    },
    {
     "name": "stdout",
     "output_type": "stream",
     "text": [
      "\r",
      "Upgrading database; v1 -> v2: 100%|██████████| 1/1 [00:00<00:00, 444.03it/s]"
     ]
    },
    {
     "name": "stdout",
     "output_type": "stream",
     "text": [
      "\n",
      "\r",
      "0it [00:00, ?it/s]"
     ]
    },
    {
     "name": "stdout",
     "output_type": "stream",
     "text": [
      "\r",
      "Upgrading database; v2 -> v3: : 0it [00:00, ?it/s]"
     ]
    },
    {
     "name": "stdout",
     "output_type": "stream",
     "text": [
      "\r",
      "Upgrading database; v2 -> v3: : 0it [00:00, ?it/s]"
     ]
    },
    {
     "name": "stdout",
     "output_type": "stream",
     "text": [
      "\n",
      "\r",
      "0it [00:00, ?it/s]"
     ]
    },
    {
     "name": "stdout",
     "output_type": "stream",
     "text": [
      "\r",
      "Upgrading database; v3 -> v4: : 0it [00:00, ?it/s]"
     ]
    },
    {
     "name": "stdout",
     "output_type": "stream",
     "text": [
      "\r",
      "Upgrading database; v3 -> v4: : 0it [00:00, ?it/s]"
     ]
    },
    {
     "name": "stdout",
     "output_type": "stream",
     "text": [
      "\n",
      "\r",
      "  0%|          | 0/1 [00:00<?, ?it/s]"
     ]
    },
    {
     "name": "stdout",
     "output_type": "stream",
     "text": [
      "\r",
      "Upgrading database; v4 -> v5:   0%|          | 0/1 [00:00<?, ?it/s]"
     ]
    },
    {
     "name": "stdout",
     "output_type": "stream",
     "text": [
      "\r",
      "Upgrading database; v4 -> v5: 100%|██████████| 1/1 [00:00<00:00, 342.28it/s]"
     ]
    },
    {
     "name": "stdout",
     "output_type": "stream",
     "text": [
      "\n",
      "\r",
      "0it [00:00, ?it/s]"
     ]
    },
    {
     "name": "stdout",
     "output_type": "stream",
     "text": [
      "\r",
      "Upgrading database; v5 -> v6: : 0it [00:00, ?it/s]"
     ]
    },
    {
     "name": "stdout",
     "output_type": "stream",
     "text": [
      "\r",
      "Upgrading database; v5 -> v6: : 0it [00:00, ?it/s]"
     ]
    },
    {
     "name": "stdout",
     "output_type": "stream",
     "text": [
      "\n",
      "\r",
      "  0%|          | 0/1 [00:00<?, ?it/s]"
     ]
    },
    {
     "name": "stdout",
     "output_type": "stream",
     "text": [
      "\r",
      "Upgrading database; v6 -> v7:   0%|          | 0/1 [00:00<?, ?it/s]"
     ]
    },
    {
     "name": "stdout",
     "output_type": "stream",
     "text": [
      "\r",
      "Upgrading database; v6 -> v7: 100%|██████████| 1/1 [00:00<00:00, 409.12it/s]"
     ]
    },
    {
     "name": "stdout",
     "output_type": "stream",
     "text": [
      "\n",
      "\r",
      "  0%|          | 0/1 [00:00<?, ?it/s]"
     ]
    },
    {
     "name": "stdout",
     "output_type": "stream",
     "text": [
      "\r",
      "Upgrading database; v7 -> v8:   0%|          | 0/1 [00:00<?, ?it/s]"
     ]
    },
    {
     "name": "stdout",
     "output_type": "stream",
     "text": [
      "\r",
      "Upgrading database; v7 -> v8: 100%|██████████| 1/1 [00:00<00:00, 426.25it/s]"
     ]
    },
    {
     "name": "stdout",
     "output_type": "stream",
     "text": [
      "\n",
      "\r",
      "  0%|          | 0/1 [00:00<?, ?it/s]"
     ]
    },
    {
     "name": "stdout",
     "output_type": "stream",
     "text": [
      "\r",
      "Upgrading database; v8 -> v9:   0%|          | 0/1 [00:00<?, ?it/s]"
     ]
    },
    {
     "name": "stdout",
     "output_type": "stream",
     "text": [
      "\r",
      "Upgrading database; v8 -> v9: 100%|██████████| 1/1 [00:00<00:00, 1132.68it/s]"
     ]
    },
    {
     "name": "stdout",
     "output_type": "stream",
     "text": [
      "\n"
     ]
    },
    {
     "data": {
      "text/plain": [
       "tutorial_ParameterWithSetpoints#no sample#1@/home/vsts/work/1/s/docs/examples/Parameters/tutorial_paramter_with_setpoints.db\n",
       "----------------------------------------------------------------------------------------------------------------------------"
      ]
     },
     "execution_count": 1,
     "metadata": {},
     "output_type": "execute_result"
    }
   ],
   "source": [
    "tutorial_db_path = os.path.join(os.getcwd(), 'tutorial_paramter_with_setpoints.db')\n",
    "initialise_or_create_database_at(tutorial_db_path)\n",
    "load_or_create_experiment(experiment_name='tutorial_ParameterWithSetpoints', sample_name=\"no sample\")"
   ]
  },
  {
   "cell_type": "code",
   "execution_count": 7,
   "metadata": {
    "execution": {
     "iopub.execute_input": "2020-09-21T08:50:07.402719Z",
     "iopub.status.busy": "2020-09-21T08:50:07.401531Z",
     "iopub.status.idle": "2020-09-21T08:50:07.403255Z",
     "shell.execute_reply": "2020-09-21T08:50:07.403767Z"
    }
   },
   "outputs": [],
   "source": [
    "a = DummySpectrumAnalyzer('foobar')"
   ]
  },
  {
   "cell_type": "markdown",
   "metadata": {},
   "source": [
    "First we setup the limits of the spectrum"
   ]
  },
  {
   "cell_type": "code",
   "execution_count": 8,
   "metadata": {
    "execution": {
     "iopub.execute_input": "2020-09-21T08:50:07.408415Z",
     "iopub.status.busy": "2020-09-21T08:50:07.407299Z",
     "iopub.status.idle": "2020-09-21T08:50:07.408932Z",
     "shell.execute_reply": "2020-09-21T08:50:07.409425Z"
    }
   },
   "outputs": [],
   "source": [
    "a.f_start(0)\n",
    "a.f_stop(500)\n",
    "a.n_points(501)"
   ]
  },
  {
   "cell_type": "markdown",
   "metadata": {},
   "source": [
    "And we can grab the frequency axis"
   ]
  },
  {
   "cell_type": "code",
   "execution_count": 9,
   "metadata": {
    "execution": {
     "iopub.execute_input": "2020-09-21T08:50:07.413623Z",
     "iopub.status.busy": "2020-09-21T08:50:07.413104Z",
     "iopub.status.idle": "2020-09-21T08:50:07.415430Z",
     "shell.execute_reply": "2020-09-21T08:50:07.415927Z"
    }
   },
   "outputs": [
    {
     "data": {
      "text/plain": [
       "501"
      ]
     },
     "execution_count": 1,
     "metadata": {},
     "output_type": "execute_result"
    }
   ],
   "source": [
    "a.n_points()"
   ]
  },
  {
   "cell_type": "code",
   "execution_count": 10,
   "metadata": {
    "execution": {
     "iopub.execute_input": "2020-09-21T08:50:07.420459Z",
     "iopub.status.busy": "2020-09-21T08:50:07.419929Z",
     "iopub.status.idle": "2020-09-21T08:50:07.422372Z",
     "shell.execute_reply": "2020-09-21T08:50:07.422878Z"
    },
    "scrolled": false
   },
   "outputs": [
    {
     "data": {
      "text/plain": [
       "501"
      ]
     },
     "execution_count": 1,
     "metadata": {},
     "output_type": "execute_result"
    }
   ],
   "source": [
    "freq_axis = a.freq_axis()\n",
    "len(freq_axis)"
   ]
  },
  {
   "cell_type": "code",
   "execution_count": 11,
   "metadata": {
    "execution": {
     "iopub.execute_input": "2020-09-21T08:50:07.426288Z",
     "iopub.status.busy": "2020-09-21T08:50:07.425331Z",
     "iopub.status.idle": "2020-09-21T08:50:07.429353Z",
     "shell.execute_reply": "2020-09-21T08:50:07.428824Z"
    }
   },
   "outputs": [
    {
     "data": {
      "text/plain": [
       "array([0., 1., 2., 3., 4., 5., 6., 7., 8., 9.])"
      ]
     },
     "execution_count": 1,
     "metadata": {},
     "output_type": "execute_result"
    }
   ],
   "source": [
    "freq_axis[:10]"
   ]
  },
  {
   "cell_type": "markdown",
   "metadata": {},
   "source": [
    "As expected we get a result wit 501 points as we asked for an axis with 501 points. "
   ]
  },
  {
   "cell_type": "markdown",
   "metadata": {},
   "source": [
    "Above we have added a validator to the `freq_axis` parameter encoding the fact that this is an Array with `n_points`. Note that we do not have to supply the number of points as an integer but can supply a function that returns the valid number of points. This would normally be a QCoDeS parameter.\n",
    "\n",
    "This will be checked if we validate the output."
   ]
  },
  {
   "cell_type": "code",
   "execution_count": 12,
   "metadata": {
    "execution": {
     "iopub.execute_input": "2020-09-21T08:50:07.432950Z",
     "iopub.status.busy": "2020-09-21T08:50:07.432381Z",
     "iopub.status.idle": "2020-09-21T08:50:07.435043Z",
     "shell.execute_reply": "2020-09-21T08:50:07.434491Z"
    }
   },
   "outputs": [],
   "source": [
    "a.freq_axis.validate(a.freq_axis.get())"
   ]
  },
  {
   "cell_type": "markdown",
   "metadata": {},
   "source": [
    "Naturally, we can also get the spectrum. Getting the spectrum will automatically perform validation both for the shape of the parameter itself and the relation to the setpoint parameter(s)"
   ]
  },
  {
   "cell_type": "code",
   "execution_count": 13,
   "metadata": {
    "execution": {
     "iopub.execute_input": "2020-09-21T08:50:07.439366Z",
     "iopub.status.busy": "2020-09-21T08:50:07.438331Z",
     "iopub.status.idle": "2020-09-21T08:50:07.441284Z",
     "shell.execute_reply": "2020-09-21T08:50:07.441853Z"
    },
    "scrolled": true
   },
   "outputs": [
    {
     "data": {
      "text/plain": [
       "501"
      ]
     },
     "execution_count": 1,
     "metadata": {},
     "output_type": "execute_result"
    }
   ],
   "source": [
    "spectrum = a.spectrum.get()\n",
    "len(spectrum)"
   ]
  },
  {
   "cell_type": "markdown",
   "metadata": {},
   "source": [
    "When we validate a `ParameterWithSetpoints`, we automatically validate that the shape is consistent between the parameters and its setpoints. As well as validating the shape as above."
   ]
  },
  {
   "cell_type": "code",
   "execution_count": 14,
   "metadata": {
    "execution": {
     "iopub.execute_input": "2020-09-21T08:50:07.445863Z",
     "iopub.status.busy": "2020-09-21T08:50:07.444675Z",
     "iopub.status.idle": "2020-09-21T08:50:07.447753Z",
     "shell.execute_reply": "2020-09-21T08:50:07.447191Z"
    }
   },
   "outputs": [],
   "source": [
    "a.spectrum.validate(a.spectrum.get())"
   ]
  },
  {
   "cell_type": "markdown",
   "metadata": {},
   "source": [
    "The consistent shapes can be validated explicitly."
   ]
  },
  {
   "cell_type": "code",
   "execution_count": 15,
   "metadata": {
    "execution": {
     "iopub.execute_input": "2020-09-21T08:50:07.451504Z",
     "iopub.status.busy": "2020-09-21T08:50:07.450776Z",
     "iopub.status.idle": "2020-09-21T08:50:07.453054Z",
     "shell.execute_reply": "2020-09-21T08:50:07.452529Z"
    }
   },
   "outputs": [],
   "source": [
    "a.spectrum.validate_consistent_shape()"
   ]
  },
  {
   "cell_type": "markdown",
   "metadata": {},
   "source": [
    "We can inspect the setpoints of the spectrum."
   ]
  },
  {
   "cell_type": "code",
   "execution_count": 16,
   "metadata": {
    "execution": {
     "iopub.execute_input": "2020-09-21T08:50:07.457229Z",
     "iopub.status.busy": "2020-09-21T08:50:07.456743Z",
     "iopub.status.idle": "2020-09-21T08:50:07.459034Z",
     "shell.execute_reply": "2020-09-21T08:50:07.459536Z"
    }
   },
   "outputs": [
    {
     "data": {
      "text/plain": [
       "(<__main__.GeneratedSetPoints: freq_axis at 140537913392080>,)"
      ]
     },
     "execution_count": 1,
     "metadata": {},
     "output_type": "execute_result"
    }
   ],
   "source": [
    "a.spectrum.setpoints"
   ]
  },
  {
   "cell_type": "markdown",
   "metadata": {},
   "source": [
    "Or even change them."
   ]
  },
  {
   "cell_type": "code",
   "execution_count": 17,
   "metadata": {
    "execution": {
     "iopub.execute_input": "2020-09-21T08:50:07.463120Z",
     "iopub.status.busy": "2020-09-21T08:50:07.462619Z",
     "iopub.status.idle": "2020-09-21T08:50:07.464132Z",
     "shell.execute_reply": "2020-09-21T08:50:07.464634Z"
    }
   },
   "outputs": [],
   "source": [
    "a.spectrum.setpoints = (a.freq_axis,)"
   ]
  },
  {
   "cell_type": "markdown",
   "metadata": {},
   "source": [
    "## Measurement"
   ]
  },
  {
   "cell_type": "markdown",
   "metadata": {},
   "source": [
    "We can also directly consume the parameter in a measurement without defining the setpoints of the parameter again. The setpoints are automatically obtained from the definition of the `ParameterWithSetpoint` instance. "
   ]
  },
  {
   "cell_type": "code",
   "execution_count": 18,
   "metadata": {
    "execution": {
     "iopub.execute_input": "2020-09-21T08:50:07.468414Z",
     "iopub.status.busy": "2020-09-21T08:50:07.467865Z",
     "iopub.status.idle": "2020-09-21T08:50:07.483743Z",
     "shell.execute_reply": "2020-09-21T08:50:07.483203Z"
    }
   },
   "outputs": [
    {
     "name": "stdout",
     "output_type": "stream",
     "text": [
      "Starting experimental run with id: 1. \n"
     ]
    }
   ],
   "source": [
    "meas = Measurement()\n",
    "meas.register_parameter(a.spectrum)\n",
    "\n",
    "with meas.run() as datasaver:\n",
    "    datasaver.add_result((a.freq_axis, a.freq_axis()),\n",
    "                         (a.spectrum, a.spectrum()))\n",
    "    dataset = datasaver.dataset"
   ]
  },
  {
   "cell_type": "markdown",
   "metadata": {},
   "source": [
    "And plot it"
   ]
  },
  {
   "cell_type": "code",
   "execution_count": 19,
   "metadata": {
    "execution": {
     "iopub.execute_input": "2020-09-21T08:50:07.487002Z",
     "iopub.status.busy": "2020-09-21T08:50:07.486502Z",
     "iopub.status.idle": "2020-09-21T08:50:07.840713Z",
     "shell.execute_reply": "2020-09-21T08:50:07.840158Z"
    }
   },
   "outputs": [
    {
     "data": {
      "text/plain": [
       "([<AxesSubplot:title={'center':'Run #1, Experiment tutorial_ParameterWithSetpoints (no sample)'}, xlabel='Freq Axis (Hz)', ylabel='Spectrum ($10^{-3}$ dBm)'>],\n",
       " [None])"
      ]
     },
     "execution_count": 1,
     "metadata": {},
     "output_type": "execute_result"
    },
    {
     "data": {
      "image/png": "[encoded data removed]",
      "text/plain": [
       "<Figure size 432x288 with 1 Axes>"
      ]
     },
     "metadata": {
      "needs_background": "light"
     },
     "output_type": "display_data"
    }
   ],
   "source": [
    "plot_dataset(dataset)"
   ]
  },
  {
   "cell_type": "markdown",
   "metadata": {},
   "source": [
    "To reduce the amount of typing a simple convenience function is provided that will take a `ParameterWithSetpoints` and get both its values and the setpoints values and return them as tuples for direct insertion into the Dataset."
   ]
  },
  {
   "cell_type": "code",
   "execution_count": 20,
   "metadata": {
    "execution": {
     "iopub.execute_input": "2020-09-21T08:50:07.844601Z",
     "iopub.status.busy": "2020-09-21T08:50:07.844062Z",
     "iopub.status.idle": "2020-09-21T08:50:07.857899Z",
     "shell.execute_reply": "2020-09-21T08:50:07.858326Z"
    },
    "scrolled": true
   },
   "outputs": [
    {
     "data": {
      "text/plain": [
       "[(<__main__.GeneratedSetPoints: freq_axis at 140537913392080>,\n",
       "  array([  0.,   1.,   2.,   3.,   4.,   5.,   6.,   7.,   8.,   9.,  10.,\n",
       "          11.,  12.,  13.,  14.,  15.,  16.,  17.,  18.,  19.,  20.,  21.,\n",
       "          22.,  23.,  24.,  25.,  26.,  27.,  28.,  29.,  30.,  31.,  32.,\n",
       "          33.,  34.,  35.,  36.,  37.,  38.,  39.,  40.,  41.,  42.,  43.,\n",
       "          44.,  45.,  46.,  47.,  48.,  49.,  50.,  51.,  52.,  53.,  54.,\n",
       "          55.,  56.,  57.,  58.,  59.,  60.,  61.,  62.,  63.,  64.,  65.,\n",
       "          66.,  67.,  68.,  69.,  70.,  71.,  72.,  73.,  74.,  75.,  76.,\n",
       "          77.,  78.,  79.,  80.,  81.,  82.,  83.,  84.,  85.,  86.,  87.,\n",
       "          88.,  89.,  90.,  91.,  92.,  93.,  94.,  95.,  96.,  97.,  98.,\n",
       "          99., 100., 101., 102., 103., 104., 105., 106., 107., 108., 109.,\n",
       "         110., 111., 112., 113., 114., 115., 116., 117., 118., 119., 120.,\n",
       "         121., 122., 123., 124., 125., 126., 127., 128., 129., 130., 131.,\n",
       "         132., 133., 134., 135., 136., 137., 138., 139., 140., 141., 142.,\n",
       "         143., 144., 145., 146., 147., 148., 149., 150., 151., 152., 153.,\n",
       "         154., 155., 156., 157., 158., 159., 160., 161., 162., 163., 164.,\n",
       "         165., 166., 167., 168., 169., 170., 171., 172., 173., 174., 175.,\n",
       "         176., 177., 178., 179., 180., 181., 182., 183., 184., 185., 186.,\n",
       "         187., 188., 189., 190., 191., 192., 193., 194., 195., 196., 197.,\n",
       "         198., 199., 200., 201., 202., 203., 204., 205., 206., 207., 208.,\n",
       "         209., 210., 211., 212., 213., 214., 215., 216., 217., 218., 219.,\n",
       "         220., 221., 222., 223., 224., 225., 226., 227., 228., 229., 230.,\n",
       "         231., 232., 233., 234., 235., 236., 237., 238., 239., 240., 241.,\n",
       "         242., 243., 244., 245., 246., 247., 248., 249., 250., 251., 252.,\n",
       "         253., 254., 255., 256., 257., 258., 259., 260., 261., 262., 263.,\n",
       "         264., 265., 266., 267., 268., 269., 270., 271., 272., 273., 274.,\n",
       "         275., 276., 277., 278., 279., 280., 281., 282., 283., 284., 285.,\n",
       "         286., 287., 288., 289., 290., 291., 292., 293., 294., 295., 296.,\n",
       "         297., 298., 299., 300., 301., 302., 303., 304., 305., 306., 307.,\n",
       "         308., 309., 310., 311., 312., 313., 314., 315., 316., 317., 318.,\n",
       "         319., 320., 321., 322., 323., 324., 325., 326., 327., 328., 329.,\n",
       "         330., 331., 332., 333., 334., 335., 336., 337., 338., 339., 340.,\n",
       "         341., 342., 343., 344., 345., 346., 347., 348., 349., 350., 351.,\n",
       "         352., 353., 354., 355., 356., 357., 358., 359., 360., 361., 362.,\n",
       "         363., 364., 365., 366., 367., 368., 369., 370., 371., 372., 373.,\n",
       "         374., 375., 376., 377., 378., 379., 380., 381., 382., 383., 384.,\n",
       "         385., 386., 387., 388., 389., 390., 391., 392., 393., 394., 395.,\n",
       "         396., 397., 398., 399., 400., 401., 402., 403., 404., 405., 406.,\n",
       "         407., 408., 409., 410., 411., 412., 413., 414., 415., 416., 417.,\n",
       "         418., 419., 420., 421., 422., 423., 424., 425., 426., 427., 428.,\n",
       "         429., 430., 431., 432., 433., 434., 435., 436., 437., 438., 439.,\n",
       "         440., 441., 442., 443., 444., 445., 446., 447., 448., 449., 450.,\n",
       "         451., 452., 453., 454., 455., 456., 457., 458., 459., 460., 461.,\n",
       "         462., 463., 464., 465., 466., 467., 468., 469., 470., 471., 472.,\n",
       "         473., 474., 475., 476., 477., 478., 479., 480., 481., 482., 483.,\n",
       "         484., 485., 486., 487., 488., 489., 490., 491., 492., 493., 494.,\n",
       "         495., 496., 497., 498., 499., 500.])),\n",
       " (<__main__.DummyArray: spectrum at 140537914312784>,\n",
       "  array([0.54347374, 0.49868489, 0.37426413, 0.26248753, 0.06569667,\n",
       "         0.26938469, 0.61857927, 0.8917293 , 0.79496461, 0.54818928,\n",
       "         0.11252964, 0.21349256, 0.63213783, 0.54113134, 0.49440013,\n",
       "         0.10153762, 0.97503595, 0.67173628, 0.04594391, 0.30805276,\n",
       "         0.48624533, 0.39331621, 0.08407671, 0.49248837, 0.8977622 ,\n",
       "         0.97574034, 0.94439996, 0.64481442, 0.16773321, 0.07406929,\n",
       "         0.09420982, 0.16522856, 0.53380534, 0.48480327, 0.82669208,\n",
       "         0.31015007, 0.71096499, 0.66231943, 0.9925065 , 0.26435602,\n",
       "         0.99401254, 0.8618131 , 0.82186119, 0.03388879, 0.47796321,\n",
       "         0.50181225, 0.56489518, 0.61809199, 0.63743702, 0.82519702,\n",
       "         0.43006644, 0.43606529, 0.31329778, 0.41323977, 0.64830925,\n",
       "         0.88389725, 0.43597611, 0.28380596, 0.06080498, 0.67679677,\n",
       "         0.41061491, 0.75412991, 0.28462049, 0.40114343, 0.28320038,\n",
       "         0.19125268, 0.86697707, 0.10052862, 0.91453318, 0.50456448,\n",
       "         0.6384258 , 0.11558966, 0.87705795, 0.26637698, 0.77647918,\n",
       "         0.18383635, 0.50266116, 0.55274159, 0.6643703 , 0.80977388,\n",
       "         0.93502911, 0.83397795, 0.2261574 , 0.32231643, 0.26157383,\n",
       "         0.0093563 , 0.96381721, 0.21331683, 0.05723642, 0.54453874,\n",
       "         0.39739198, 0.04085734, 0.33678583, 0.65895864, 0.73014845,\n",
       "         0.77459798, 0.38072891, 0.43216586, 0.44293835, 0.86585412,\n",
       "         0.94568298, 0.09925488, 0.27288289, 0.94832696, 0.09292598,\n",
       "         0.49894232, 0.35328603, 0.53852098, 0.853584  , 0.67082054,\n",
       "         0.13001621, 0.54283035, 0.58902732, 0.4988689 , 0.41152035,\n",
       "         0.14624348, 0.5626697 , 0.50293257, 0.23071706, 0.10821357,\n",
       "         0.19023674, 0.26168087, 0.29009157, 0.81126961, 0.28075787,\n",
       "         0.80247943, 0.93264768, 0.66442197, 0.18807044, 0.6185185 ,\n",
       "         0.52696297, 0.90505587, 0.69085556, 0.11247302, 0.4366577 ,\n",
       "         0.32865112, 0.11710817, 0.05851257, 0.99531816, 0.30624767,\n",
       "         0.12753303, 0.69195985, 0.27533025, 0.82077124, 0.39709026,\n",
       "         0.15586147, 0.2507142 , 0.95773228, 0.04107012, 0.64461973,\n",
       "         0.63510019, 0.50119539, 0.01067486, 0.21386037, 0.39115906,\n",
       "         0.52339295, 0.05598717, 0.07840364, 0.08192661, 0.75697147,\n",
       "         0.54858861, 0.97380813, 0.88680908, 0.17226824, 0.88321289,\n",
       "         0.89547803, 0.69831584, 0.12830086, 0.76702963, 0.89093018,\n",
       "         0.40135304, 0.19162256, 0.8478242 , 0.36092644, 0.83552946,\n",
       "         0.30597382, 0.36499054, 0.52988815, 0.40091692, 0.60065128,\n",
       "         0.5114011 , 0.13826297, 0.03219347, 0.71128008, 0.91555321,\n",
       "         0.03288551, 0.93883928, 0.2460506 , 0.74220742, 0.86093094,\n",
       "         0.15885414, 0.49547937, 0.22631518, 0.52430019, 0.03822235,\n",
       "         0.16996069, 0.24423856, 0.02843167, 0.14758109, 0.4881715 ,\n",
       "         0.61423128, 0.51185053, 0.12230471, 0.72221557, 0.26377374,\n",
       "         0.61456024, 0.56495811, 0.8999874 , 0.07388225, 0.39638253,\n",
       "         0.39171214, 0.25265211, 0.52046219, 0.86488225, 0.16371571,\n",
       "         0.29801828, 0.01383473, 0.27709803, 0.17144306, 0.22300853,\n",
       "         0.892633  , 0.93581837, 0.27907801, 0.76563303, 0.93825289,\n",
       "         0.66353185, 0.4491555 , 0.43631235, 0.95131832, 0.57365024,\n",
       "         0.25250642, 0.89783216, 0.48929337, 0.96388324, 0.23732691,\n",
       "         0.68641659, 0.09204071, 0.90120198, 0.13969669, 0.02252227,\n",
       "         0.52062023, 0.95715837, 0.46581345, 0.80465319, 0.71831901,\n",
       "         0.0502157 , 0.21297231, 0.15774606, 0.18558508, 0.7263193 ,\n",
       "         0.07905481, 0.47821669, 0.20565488, 0.32247849, 0.49843816,\n",
       "         0.09880459, 0.83921868, 0.49050724, 0.17455246, 0.38836591,\n",
       "         0.73765781, 0.69880706, 0.69111756, 0.27794429, 0.4118962 ,\n",
       "         0.39412394, 0.93061645, 0.1253268 , 0.83701956, 0.11271983,\n",
       "         0.70335924, 0.31921587, 0.21251157, 0.07619451, 0.6396019 ,\n",
       "         0.79403163, 0.1359704 , 0.96586183, 0.14073956, 0.78093647,\n",
       "         0.38715266, 0.97857958, 0.00939128, 0.02950022, 0.43465336,\n",
       "         0.97590062, 0.306583  , 0.2776357 , 0.3260922 , 0.23547622,\n",
       "         0.06471899, 0.06939977, 0.43200038, 0.45969178, 0.47188551,\n",
       "         0.02399154, 0.88100861, 0.74183005, 0.67716673, 0.88918807,\n",
       "         0.52242957, 0.66262695, 0.06830918, 0.60285393, 0.313732  ,\n",
       "         0.66463003, 0.98037119, 0.38725829, 0.64067545, 0.22026806,\n",
       "         0.9968428 , 0.26091901, 0.49273013, 0.94619919, 0.82635541,\n",
       "         0.95469612, 0.54463431, 0.56773548, 0.54726784, 0.18010721,\n",
       "         0.3457994 , 0.34898761, 0.92388569, 0.70795688, 0.65583907,\n",
       "         0.33857385, 0.3281532 , 0.97371371, 0.10123874, 0.31394337,\n",
       "         0.09891424, 0.50154966, 0.40509256, 0.96357908, 0.60824505,\n",
       "         0.4167784 , 0.57709825, 0.58652262, 0.70436354, 0.31087258,\n",
       "         0.81804744, 0.74963668, 0.745173  , 0.5513913 , 0.39210639,\n",
       "         0.95663627, 0.72251621, 0.43625114, 0.83142013, 0.76099621,\n",
       "         0.60711643, 0.96676783, 0.05098036, 0.58339958, 0.92702844,\n",
       "         0.20114139, 0.98415077, 0.20444705, 0.40490606, 0.34503939,\n",
       "         0.56900243, 0.15056357, 0.18110616, 0.86067329, 0.05595892,\n",
       "         0.28994376, 0.01967044, 0.13054014, 0.4661733 , 0.23611232,\n",
       "         0.1079586 , 0.43056946, 0.25130799, 0.05768862, 0.97733393,\n",
       "         0.52274205, 0.97954347, 0.55500917, 0.81920366, 0.56046694,\n",
       "         0.55237632, 0.52206305, 0.81564736, 0.61403381, 0.88838747,\n",
       "         0.97633549, 0.77610955, 0.37739104, 0.46999863, 0.87351183,\n",
       "         0.82473734, 0.37191647, 0.68009142, 0.93573038, 0.47680885,\n",
       "         0.49720619, 0.03104963, 0.72729596, 0.03638611, 0.3949683 ,\n",
       "         0.01056535, 0.54027325, 0.87552295, 0.92326123, 0.48363417,\n",
       "         0.54655229, 0.11249672, 0.14272262, 0.28178603, 0.48382562,\n",
       "         0.86545345, 0.57585388, 0.84003102, 0.73935993, 0.6603477 ,\n",
       "         0.073911  , 0.22176   , 0.33360482, 0.56333977, 0.07821004,\n",
       "         0.44482819, 0.2973021 , 0.47896915, 0.84561914, 0.39501082,\n",
       "         0.33676507, 0.54707167, 0.15876039, 0.85288447, 0.08859105,\n",
       "         0.10071993, 0.38144675, 0.96954235, 0.89388825, 0.17240449,\n",
       "         0.97257432, 0.6063031 , 0.56396237, 0.28320001, 0.69702025,\n",
       "         0.58584131, 0.56575852, 0.78596369, 0.2678148 , 0.52254291,\n",
       "         0.770599  , 0.00230147, 0.47062705, 0.29026159, 0.22924314,\n",
       "         0.87754069, 0.85986777, 0.00410801, 0.68532174, 0.16806998,\n",
       "         0.66369771, 0.70118512, 0.8395387 , 0.84691927, 0.94672631,\n",
       "         0.26573175, 0.31761009, 0.42940549, 0.36872836, 0.08045009,\n",
       "         0.94060001, 0.97023206, 0.87610567, 0.53061567, 0.29389982,\n",
       "         0.24334987, 0.84516647, 0.64160073, 0.10938243, 0.93102572,\n",
       "         0.15929688, 0.94069936, 0.62418766, 0.41263886, 0.00643647,\n",
       "         0.6291222 , 0.6008893 , 0.52739481, 0.43965612, 0.21020743,\n",
       "         0.0375218 , 0.79623079, 0.66966025, 0.43558935, 0.444155  ,\n",
       "         0.53243045, 0.4763675 , 0.25101808, 0.84048144, 0.26043081,\n",
       "         0.79646301, 0.22905033, 0.92300306, 0.42454866, 0.75400428,\n",
       "         0.88092259]))]"
      ]
     },
     "execution_count": 1,
     "metadata": {},
     "output_type": "execute_result"
    }
   ],
   "source": [
    "expand_setpoints_helper(a.spectrum)"
   ]
  },
  {
   "cell_type": "code",
   "execution_count": 21,
   "metadata": {
    "execution": {
     "iopub.execute_input": "2020-09-21T08:50:07.861927Z",
     "iopub.status.busy": "2020-09-21T08:50:07.861396Z",
     "iopub.status.idle": "2020-09-21T08:50:07.874936Z",
     "shell.execute_reply": "2020-09-21T08:50:07.874485Z"
    }
   },
   "outputs": [
    {
     "name": "stdout",
     "output_type": "stream",
     "text": [
      "Starting experimental run with id: 2. \n"
     ]
    }
   ],
   "source": [
    "meas = Measurement()\n",
    "meas.register_parameter(a.spectrum)\n",
    "\n",
    "with meas.run() as datasaver:\n",
    "    datasaver.add_result(*expand_setpoints_helper(a.spectrum))\n",
    "    \n",
    "    dataid = datasaver.run_id"
   ]
  },
  {
   "cell_type": "code",
   "execution_count": null,
   "metadata": {},
   "outputs": [],
   "source": []
  }
 ],
 "metadata": {
  "kernelspec": {
   "display_name": "Python 3",
   "language": "python",
   "name": "python3"
  },
  "language_info": {
   "codemirror_mode": {
    "name": "ipython",
    "version": 3
   },
   "file_extension": ".py",
   "mimetype": "text/x-python",
   "name": "python",
   "nbconvert_exporter": "python",
   "pygments_lexer": "ipython3",
   "version": "3.7.7"
  },
  "toc": {
   "base_numbering": 1,
   "nav_menu": {},
   "number_sections": true,
   "sideBar": true,
   "skip_h1_title": false,
   "title_cell": "Table of Contents",
   "title_sidebar": "Contents",
   "toc_cell": false,
   "toc_position": {},
   "toc_section_display": true,
   "toc_window_display": false
  },
  "varInspector": {
   "cols": {
    "lenName": 16,
    "lenType": 16,
    "lenVar": 40
   },
   "kernels_config": {
    "python": {
     "delete_cmd_postfix": "",
     "delete_cmd_prefix": "del ",
     "library": "var_list.py",
     "varRefreshCmd": "print(var_dic_list())"
    },
    "r": {
     "delete_cmd_postfix": ") ",
     "delete_cmd_prefix": "rm(",
     "library": "var_list.r",
     "varRefreshCmd": "cat(var_dic_list()) "
    }
   },
   "types_to_exclude": [
    "module",
    "function",
    "builtin_function_or_method",
    "instance",
    "_Feature"
   ],
   "window_display": false
  }
 },
 "nbformat": 4,
 "nbformat_minor": 2
}
