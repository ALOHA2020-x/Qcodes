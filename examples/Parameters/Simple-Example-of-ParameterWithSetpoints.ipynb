{
 "cells": [
  {
   "cell_type": "markdown",
   "metadata": {},
   "source": [
    "# Simple Example of ParameterWithSetpoints\n",
    "This notebook provides an example for writing a simple driver with a parameter that has setpoints. Let's name this parameter that has setpoints as \"y\". Then, the setpoints, say \"x1, x2, x3 ..\", are the parameters on which the parameter \n",
    "\"y\" depends upon. Meaning \"y\" is a function of \"x1, x2, x3 ...\" where \"x1, x2, x3 ...\" are known as the setpoints of parameter \"y\".\n",
    "\n",
    "This is most likely to be useful for instruments that return arrays of results. In this notebook, we will show an example of this."
   ]
  },
  {
   "cell_type": "code",
   "execution_count": 1,
   "metadata": {},
   "outputs": [],
   "source": [
    "import numpy as np\n",
    "import os"
   ]
  },
  {
   "cell_type": "code",
   "execution_count": 2,
   "metadata": {},
   "outputs": [
    {
     "name": "stdout",
     "output_type": "stream",
     "text": [
      "Logging hadn't been started.\n",
      "Activating auto-logging. Current session state plus future input saved.\n",
      "Filename       : /home/vsts/.qcodes/logs/command_history.log\n",
      "Mode           : append\n",
      "Output logging : True\n",
      "Raw input log  : False\n",
      "Timestamping   : True\n",
      "State          : active\n"
     ]
    },
    {
     "name": "stdout",
     "output_type": "stream",
     "text": [
      "Qcodes Logfile : /home/vsts/.qcodes/logs/200323-21605-qcodes.log\n"
     ]
    }
   ],
   "source": [
    "from qcodes.dataset.plotting import plot_dataset\n",
    "from qcodes.utils.validators import Numbers, Arrays\n",
    "from qcodes.instrument.base import Instrument\n",
    "from qcodes.dataset.measurements import Measurement"
   ]
  },
  {
   "cell_type": "code",
   "execution_count": 3,
   "metadata": {},
   "outputs": [],
   "source": [
    "from qcodes.dataset.sqlite.database import initialise_or_create_database_at\n",
    "from qcodes.dataset.experiment_container import load_or_create_experiment"
   ]
  },
  {
   "cell_type": "code",
   "execution_count": 4,
   "metadata": {},
   "outputs": [],
   "source": [
    "from qcodes.instrument.parameter import ParameterWithSetpoints, Parameter\n",
    "from qcodes.instrument.parameter import expand_setpoints_helper"
   ]
  },
  {
   "cell_type": "markdown",
   "metadata": {},
   "source": [
    "First, we define a dummy instrument that returns something like a frequency spectrum starting from a frequency given by `f_start` to a frequency given by `f_stop` in `n_points` steps. \n",
    "\n",
    "The extra functionality of the `ParameterWithSetpoints` is implemented by giving it a reference to one or more parameters that acts like its setpoints. \n",
    "\n",
    "To setup a `ParameterWithSetpoints` we have to do two things in addition to what we do for a normal parameter.\n",
    "\n",
    "* Define one or more parameter for the setpoints (one for each dimension of the array and let the `ParameterWithSetpoints` know that these are the setpoints.\n",
    "* Give both the setpoints parameter(s) and the `ParameterWithSetpoints` a `validator` of type `Arrays` with a shape. The shapes should be such that the combined shape of the setpoints matches the shape of the `ParameterWithSetpoints`. Note that if the shape changes with the setting of the instrument, it can be defined by another parameter as shown below. "
   ]
  },
  {
   "cell_type": "code",
   "execution_count": 5,
   "metadata": {},
   "outputs": [],
   "source": [
    "class GeneratedSetPoints(Parameter):\n",
    "    \"\"\"\n",
    "    A parameter that generates a setpoint array from start, stop and num points\n",
    "    parameters.\n",
    "    \"\"\"\n",
    "    def __init__(self, startparam, stopparam, numpointsparam, *args, **kwargs):\n",
    "        super().__init__(*args, **kwargs)\n",
    "        self._startparam = startparam\n",
    "        self._stopparam = stopparam\n",
    "        self._numpointsparam = numpointsparam\n",
    "\n",
    "    def get_raw(self):\n",
    "        return np.linspace(self._startparam(), self._stopparam(),\n",
    "                              self._numpointsparam())\n",
    "\n",
    "class DummyArray(ParameterWithSetpoints):\n",
    "    \n",
    "    def get_raw(self):\n",
    "        npoints = self.root_instrument.n_points.get_latest()\n",
    "        return np.random.rand(npoints)\n",
    "    \n",
    "\n",
    "class DummySpectrumAnalyzer(Instrument):\n",
    "    \n",
    "    def __init__(self, name, **kwargs):\n",
    "        \n",
    "        super().__init__(name, **kwargs)\n",
    "            \n",
    "\n",
    "        self.add_parameter('f_start',\n",
    "                           initial_value=0,\n",
    "                           unit='Hz',\n",
    "                           label='f start',\n",
    "                           vals=Numbers(0,1e3),\n",
    "                           get_cmd=None,\n",
    "                           set_cmd=None)\n",
    "\n",
    "        self.add_parameter('f_stop',\n",
    "                           unit='Hz',\n",
    "                           label='f stop',\n",
    "                           vals=Numbers(1,1e3),\n",
    "                           get_cmd=None,\n",
    "                           set_cmd=None)\n",
    "\n",
    "        self.add_parameter('n_points',\n",
    "                           unit='',\n",
    "                           initial_value=10,\n",
    "                           vals=Numbers(1,1e3),\n",
    "                           get_cmd=None,\n",
    "                           set_cmd=None)\n",
    "        \n",
    "        self.add_parameter('freq_axis',\n",
    "                           unit='Hz',\n",
    "                           label='Freq Axis',\n",
    "                           parameter_class=GeneratedSetPoints,\n",
    "                           startparam=self.f_start,\n",
    "                           stopparam=self.f_stop,\n",
    "                           numpointsparam=self.n_points,\n",
    "                           vals=Arrays(shape=(self.n_points.get_latest,)))\n",
    "                           \n",
    "        self.add_parameter('spectrum',\n",
    "                   unit='dBm',\n",
    "                   setpoints=(self.freq_axis,),\n",
    "                   label='Spectrum',\n",
    "                   parameter_class=DummyArray,\n",
    "                   vals=Arrays(shape=(self.n_points.get_latest,)))\n",
    "                "
   ]
  },
  {
   "cell_type": "markdown",
   "metadata": {},
   "source": [
    "In the above example, the shape is defined by the parameter `n_points` that defines how many samples our `DummySpectrumAnalyzer` returns.\n",
    "\n",
    "This means that the validation will call the function to get `n_points` twice for each `get` of the parameter. This may be too slow, however, if you (as the driver-writer) can guarantee that the cached value for `n_points` will never be out of sync with the value stored in the instrument, `n_points` may be replaced by it's latest known value such that the `validator` reads:\n",
    "```python\n",
    "vals=Arrays(shape=(self.n_points.get_latest))\n",
    "```\n",
    "\n",
    "This avoids any additional call to the instrument. In the same way, the arguments to the `freq_axis` parameter that defines the start, stop and number of points can be replaced by their latest value if the instrument allows it.\n",
    "\n"
   ]
  },
  {
   "cell_type": "code",
   "execution_count": 6,
   "metadata": {},
   "outputs": [
    {
     "name": "stdout",
     "output_type": "stream",
     "text": [
      "\r",
      "0it [00:00, ?it/s]"
     ]
    },
    {
     "name": "stdout",
     "output_type": "stream",
     "text": [
      "\r",
      "Upgrading database; v0 -> v1: : 0it [00:00, ?it/s]"
     ]
    },
    {
     "name": "stdout",
     "output_type": "stream",
     "text": [
      "\r",
      "Upgrading database; v0 -> v1: : 0it [00:00, ?it/s]"
     ]
    },
    {
     "name": "stdout",
     "output_type": "stream",
     "text": [
      "\n",
      "\r",
      "  0%|          | 0/1 [00:00<?, ?it/s]"
     ]
    },
    {
     "name": "stdout",
     "output_type": "stream",
     "text": [
      "\r",
      "Upgrading database; v1 -> v2:   0%|          | 0/1 [00:00<?, ?it/s]"
     ]
    },
    {
     "name": "stdout",
     "output_type": "stream",
     "text": [
      "\r",
      "Upgrading database; v1 -> v2: 100%|██████████| 1/1 [00:00<00:00, 1078.78it/s]"
     ]
    },
    {
     "name": "stdout",
     "output_type": "stream",
     "text": [
      "\n",
      "\r",
      "0it [00:00, ?it/s]"
     ]
    },
    {
     "name": "stdout",
     "output_type": "stream",
     "text": [
      "\r",
      "Upgrading database; v2 -> v3: : 0it [00:00, ?it/s]"
     ]
    },
    {
     "name": "stdout",
     "output_type": "stream",
     "text": [
      "\r",
      "Upgrading database; v2 -> v3: : 0it [00:00, ?it/s]"
     ]
    },
    {
     "name": "stdout",
     "output_type": "stream",
     "text": [
      "\n",
      "\r",
      "0it [00:00, ?it/s]"
     ]
    },
    {
     "name": "stdout",
     "output_type": "stream",
     "text": [
      "\r",
      "Upgrading database; v3 -> v4: : 0it [00:00, ?it/s]"
     ]
    },
    {
     "name": "stdout",
     "output_type": "stream",
     "text": [
      "\r",
      "Upgrading database; v3 -> v4: : 0it [00:00, ?it/s]"
     ]
    },
    {
     "name": "stdout",
     "output_type": "stream",
     "text": [
      "\n",
      "\r",
      "  0%|          | 0/1 [00:00<?, ?it/s]"
     ]
    },
    {
     "name": "stdout",
     "output_type": "stream",
     "text": [
      "\r",
      "Upgrading database; v4 -> v5:   0%|          | 0/1 [00:00<?, ?it/s]"
     ]
    },
    {
     "name": "stdout",
     "output_type": "stream",
     "text": [
      "\r",
      "Upgrading database; v4 -> v5: 100%|██████████| 1/1 [00:00<00:00, 932.48it/s]"
     ]
    },
    {
     "name": "stdout",
     "output_type": "stream",
     "text": [
      "\n",
      "\r",
      "0it [00:00, ?it/s]"
     ]
    },
    {
     "name": "stdout",
     "output_type": "stream",
     "text": [
      "\r",
      "Upgrading database; v5 -> v6: : 0it [00:00, ?it/s]"
     ]
    },
    {
     "name": "stdout",
     "output_type": "stream",
     "text": [
      "\r",
      "Upgrading database; v5 -> v6: : 0it [00:00, ?it/s]"
     ]
    },
    {
     "name": "stdout",
     "output_type": "stream",
     "text": [
      "\n",
      "\r",
      "  0%|          | 0/1 [00:00<?, ?it/s]"
     ]
    },
    {
     "name": "stdout",
     "output_type": "stream",
     "text": [
      "\r",
      "Upgrading database; v6 -> v7:   0%|          | 0/1 [00:00<?, ?it/s]"
     ]
    },
    {
     "name": "stdout",
     "output_type": "stream",
     "text": [
      "\r",
      "Upgrading database; v6 -> v7: 100%|██████████| 1/1 [00:00<00:00, 381.65it/s]"
     ]
    },
    {
     "name": "stdout",
     "output_type": "stream",
     "text": [
      "\n",
      "\r",
      "  0%|          | 0/1 [00:00<?, ?it/s]"
     ]
    },
    {
     "name": "stdout",
     "output_type": "stream",
     "text": [
      "\r",
      "Upgrading database; v7 -> v8:   0%|          | 0/1 [00:00<?, ?it/s]"
     ]
    },
    {
     "name": "stdout",
     "output_type": "stream",
     "text": [
      "\r",
      "Upgrading database; v7 -> v8: 100%|██████████| 1/1 [00:00<00:00, 700.33it/s]"
     ]
    },
    {
     "name": "stdout",
     "output_type": "stream",
     "text": [
      "\n",
      "\r",
      "  0%|          | 0/1 [00:00<?, ?it/s]"
     ]
    },
    {
     "name": "stdout",
     "output_type": "stream",
     "text": [
      "\r",
      "Upgrading database; v8 -> v9:   0%|          | 0/1 [00:00<?, ?it/s]"
     ]
    },
    {
     "name": "stdout",
     "output_type": "stream",
     "text": [
      "\r",
      "Upgrading database; v8 -> v9: 100%|██████████| 1/1 [00:00<00:00, 968.44it/s]"
     ]
    },
    {
     "name": "stdout",
     "output_type": "stream",
     "text": [
      "\n"
     ]
    },
    {
     "data": {
      "text/plain": [
       "tutorial_ParameterWithSetpoints#no sample#1@/home/vsts/work/1/s/docs/examples/Parameters/tutorial_paramter_with_setpoints.db\n",
       "----------------------------------------------------------------------------------------------------------------------------"
      ]
     },
     "execution_count": 6,
     "metadata": {},
     "output_type": "execute_result"
    }
   ],
   "source": [
    "tutorial_db_path = os.path.join(os.getcwd(), 'tutorial_paramter_with_setpoints.db')\n",
    "initialise_or_create_database_at(tutorial_db_path)\n",
    "load_or_create_experiment(experiment_name='tutorial_ParameterWithSetpoints', sample_name=\"no sample\")"
   ]
  },
  {
   "cell_type": "code",
   "execution_count": 7,
   "metadata": {},
   "outputs": [],
   "source": [
    "a = DummySpectrumAnalyzer('foobar')"
   ]
  },
  {
   "cell_type": "markdown",
   "metadata": {},
   "source": [
    "First we setup the limits of the spectrum"
   ]
  },
  {
   "cell_type": "code",
   "execution_count": 8,
   "metadata": {},
   "outputs": [],
   "source": [
    "a.f_start(0)\n",
    "a.f_stop(500)\n",
    "a.n_points(501)"
   ]
  },
  {
   "cell_type": "markdown",
   "metadata": {},
   "source": [
    "And we can grab the frequency axis"
   ]
  },
  {
   "cell_type": "code",
   "execution_count": 9,
   "metadata": {},
   "outputs": [
    {
     "data": {
      "text/plain": [
       "501"
      ]
     },
     "execution_count": 9,
     "metadata": {},
     "output_type": "execute_result"
    }
   ],
   "source": [
    "a.n_points()"
   ]
  },
  {
   "cell_type": "code",
   "execution_count": 10,
   "metadata": {
    "scrolled": false
   },
   "outputs": [
    {
     "data": {
      "text/plain": [
       "501"
      ]
     },
     "execution_count": 10,
     "metadata": {},
     "output_type": "execute_result"
    }
   ],
   "source": [
    "freq_axis = a.freq_axis()\n",
    "len(freq_axis)"
   ]
  },
  {
   "cell_type": "code",
   "execution_count": 11,
   "metadata": {},
   "outputs": [
    {
     "data": {
      "text/plain": [
       "array([0., 1., 2., 3., 4., 5., 6., 7., 8., 9.])"
      ]
     },
     "execution_count": 11,
     "metadata": {},
     "output_type": "execute_result"
    }
   ],
   "source": [
    "freq_axis[:10]"
   ]
  },
  {
   "cell_type": "markdown",
   "metadata": {},
   "source": [
    "As expected we get a result wit 501 points as we asked for an axis with 501 points. "
   ]
  },
  {
   "cell_type": "markdown",
   "metadata": {},
   "source": [
    "Above we have added a validator to the `freq_axis` parameter encoding the fact that this is an Array with `n_points`. Note that we do not have to supply the number of points as an integer but can supply a function that returns the valid number of points. This would normally be a QCoDeS parameter.\n",
    "\n",
    "This will be checked if we validate the output."
   ]
  },
  {
   "cell_type": "code",
   "execution_count": 12,
   "metadata": {},
   "outputs": [],
   "source": [
    "a.freq_axis.validate(a.freq_axis.get())"
   ]
  },
  {
   "cell_type": "markdown",
   "metadata": {},
   "source": [
    "Naturally, we can also get the spectrum. Getting the spectrum will automatically perform validation both for the shape of the parameter itself and the relation to the setpoint parameter(s)"
   ]
  },
  {
   "cell_type": "code",
   "execution_count": 13,
   "metadata": {
    "scrolled": true
   },
   "outputs": [
    {
     "data": {
      "text/plain": [
       "501"
      ]
     },
     "execution_count": 13,
     "metadata": {},
     "output_type": "execute_result"
    }
   ],
   "source": [
    "spectrum = a.spectrum.get()\n",
    "len(spectrum)"
   ]
  },
  {
   "cell_type": "markdown",
   "metadata": {},
   "source": [
    "When we validate a `ParameterWithSetpoints`, we automatically validate that the shape is consistent between the parameters and its setpoints. As well as validating the shape as above."
   ]
  },
  {
   "cell_type": "code",
   "execution_count": 14,
   "metadata": {},
   "outputs": [],
   "source": [
    "a.spectrum.validate(a.spectrum.get())"
   ]
  },
  {
   "cell_type": "markdown",
   "metadata": {},
   "source": [
    "The consistent shapes can be validated explicitly."
   ]
  },
  {
   "cell_type": "code",
   "execution_count": 15,
   "metadata": {},
   "outputs": [],
   "source": [
    "a.spectrum.validate_consistent_shape()"
   ]
  },
  {
   "cell_type": "markdown",
   "metadata": {},
   "source": [
    "We can inspect the setpoints of the spectrum."
   ]
  },
  {
   "cell_type": "code",
   "execution_count": 16,
   "metadata": {},
   "outputs": [
    {
     "data": {
      "text/plain": [
       "(<__main__.GeneratedSetPoints: freq_axis at 140033852947600>,)"
      ]
     },
     "execution_count": 16,
     "metadata": {},
     "output_type": "execute_result"
    }
   ],
   "source": [
    "a.spectrum.setpoints"
   ]
  },
  {
   "cell_type": "markdown",
   "metadata": {},
   "source": [
    "Or even change them."
   ]
  },
  {
   "cell_type": "code",
   "execution_count": 17,
   "metadata": {},
   "outputs": [],
   "source": [
    "a.spectrum.setpoints = (a.freq_axis,)"
   ]
  },
  {
   "cell_type": "markdown",
   "metadata": {},
   "source": [
    "## Measurement"
   ]
  },
  {
   "cell_type": "markdown",
   "metadata": {},
   "source": [
    "We can also directly consume the parameter in a measurement without defining the setpoints of the parameter again. The setpoints are automatically obtained from the definition of the `ParameterWithSetpoint` instance. "
   ]
  },
  {
   "cell_type": "code",
   "execution_count": 18,
   "metadata": {},
   "outputs": [
    {
     "name": "stdout",
     "output_type": "stream",
     "text": [
      "Starting experimental run with id: 1. \n"
     ]
    }
   ],
   "source": [
    "meas = Measurement()\n",
    "meas.register_parameter(a.spectrum)\n",
    "\n",
    "with meas.run() as datasaver:\n",
    "    datasaver.add_result((a.freq_axis, a.freq_axis()),\n",
    "                         (a.spectrum, a.spectrum()))\n",
    "    dataset = datasaver.dataset"
   ]
  },
  {
   "cell_type": "markdown",
   "metadata": {},
   "source": [
    "And plot it"
   ]
  },
  {
   "cell_type": "code",
   "execution_count": 19,
   "metadata": {},
   "outputs": [
    {
     "data": {
      "text/plain": [
       "([<matplotlib.axes._subplots.AxesSubplot at 0x7f5c2c1e9d50>], [None])"
      ]
     },
     "execution_count": 19,
     "metadata": {},
     "output_type": "execute_result"
    },
    {
     "data": {
      "image/png": "[encoded data removed]",
      "text/plain": [
       "<Figure size 432x288 with 1 Axes>"
      ]
     },
     "metadata": {
      "needs_background": "light"
     },
     "output_type": "display_data"
    }
   ],
   "source": [
    "plot_dataset(dataset)"
   ]
  },
  {
   "cell_type": "markdown",
   "metadata": {},
   "source": [
    "To reduce the amount of typing a simple convenience function is provided that will take a `ParameterWithSetpoints` and get both its values and the setpoints values and return them as tuples for direct insertion into the Dataset."
   ]
  },
  {
   "cell_type": "code",
   "execution_count": 20,
   "metadata": {
    "scrolled": true
   },
   "outputs": [
    {
     "data": {
      "text/plain": [
       "[(<__main__.GeneratedSetPoints: freq_axis at 140033852947600>,\n",
       "  array([  0.,   1.,   2.,   3.,   4.,   5.,   6.,   7.,   8.,   9.,  10.,\n",
       "          11.,  12.,  13.,  14.,  15.,  16.,  17.,  18.,  19.,  20.,  21.,\n",
       "          22.,  23.,  24.,  25.,  26.,  27.,  28.,  29.,  30.,  31.,  32.,\n",
       "          33.,  34.,  35.,  36.,  37.,  38.,  39.,  40.,  41.,  42.,  43.,\n",
       "          44.,  45.,  46.,  47.,  48.,  49.,  50.,  51.,  52.,  53.,  54.,\n",
       "          55.,  56.,  57.,  58.,  59.,  60.,  61.,  62.,  63.,  64.,  65.,\n",
       "          66.,  67.,  68.,  69.,  70.,  71.,  72.,  73.,  74.,  75.,  76.,\n",
       "          77.,  78.,  79.,  80.,  81.,  82.,  83.,  84.,  85.,  86.,  87.,\n",
       "          88.,  89.,  90.,  91.,  92.,  93.,  94.,  95.,  96.,  97.,  98.,\n",
       "          99., 100., 101., 102., 103., 104., 105., 106., 107., 108., 109.,\n",
       "         110., 111., 112., 113., 114., 115., 116., 117., 118., 119., 120.,\n",
       "         121., 122., 123., 124., 125., 126., 127., 128., 129., 130., 131.,\n",
       "         132., 133., 134., 135., 136., 137., 138., 139., 140., 141., 142.,\n",
       "         143., 144., 145., 146., 147., 148., 149., 150., 151., 152., 153.,\n",
       "         154., 155., 156., 157., 158., 159., 160., 161., 162., 163., 164.,\n",
       "         165., 166., 167., 168., 169., 170., 171., 172., 173., 174., 175.,\n",
       "         176., 177., 178., 179., 180., 181., 182., 183., 184., 185., 186.,\n",
       "         187., 188., 189., 190., 191., 192., 193., 194., 195., 196., 197.,\n",
       "         198., 199., 200., 201., 202., 203., 204., 205., 206., 207., 208.,\n",
       "         209., 210., 211., 212., 213., 214., 215., 216., 217., 218., 219.,\n",
       "         220., 221., 222., 223., 224., 225., 226., 227., 228., 229., 230.,\n",
       "         231., 232., 233., 234., 235., 236., 237., 238., 239., 240., 241.,\n",
       "         242., 243., 244., 245., 246., 247., 248., 249., 250., 251., 252.,\n",
       "         253., 254., 255., 256., 257., 258., 259., 260., 261., 262., 263.,\n",
       "         264., 265., 266., 267., 268., 269., 270., 271., 272., 273., 274.,\n",
       "         275., 276., 277., 278., 279., 280., 281., 282., 283., 284., 285.,\n",
       "         286., 287., 288., 289., 290., 291., 292., 293., 294., 295., 296.,\n",
       "         297., 298., 299., 300., 301., 302., 303., 304., 305., 306., 307.,\n",
       "         308., 309., 310., 311., 312., 313., 314., 315., 316., 317., 318.,\n",
       "         319., 320., 321., 322., 323., 324., 325., 326., 327., 328., 329.,\n",
       "         330., 331., 332., 333., 334., 335., 336., 337., 338., 339., 340.,\n",
       "         341., 342., 343., 344., 345., 346., 347., 348., 349., 350., 351.,\n",
       "         352., 353., 354., 355., 356., 357., 358., 359., 360., 361., 362.,\n",
       "         363., 364., 365., 366., 367., 368., 369., 370., 371., 372., 373.,\n",
       "         374., 375., 376., 377., 378., 379., 380., 381., 382., 383., 384.,\n",
       "         385., 386., 387., 388., 389., 390., 391., 392., 393., 394., 395.,\n",
       "         396., 397., 398., 399., 400., 401., 402., 403., 404., 405., 406.,\n",
       "         407., 408., 409., 410., 411., 412., 413., 414., 415., 416., 417.,\n",
       "         418., 419., 420., 421., 422., 423., 424., 425., 426., 427., 428.,\n",
       "         429., 430., 431., 432., 433., 434., 435., 436., 437., 438., 439.,\n",
       "         440., 441., 442., 443., 444., 445., 446., 447., 448., 449., 450.,\n",
       "         451., 452., 453., 454., 455., 456., 457., 458., 459., 460., 461.,\n",
       "         462., 463., 464., 465., 466., 467., 468., 469., 470., 471., 472.,\n",
       "         473., 474., 475., 476., 477., 478., 479., 480., 481., 482., 483.,\n",
       "         484., 485., 486., 487., 488., 489., 490., 491., 492., 493., 494.,\n",
       "         495., 496., 497., 498., 499., 500.])),\n",
       " (<__main__.DummyArray: spectrum at 140033852947280>,\n",
       "  array([3.52991939e-01, 7.52178654e-01, 8.32107244e-01, 8.99714422e-01,\n",
       "         3.88692611e-01, 3.91645927e-01, 7.67596166e-01, 8.89467674e-01,\n",
       "         5.67749776e-01, 8.04185528e-01, 7.29268943e-01, 2.11163434e-01,\n",
       "         9.61929149e-01, 2.34406570e-01, 9.09217344e-01, 8.61213613e-01,\n",
       "         5.82429949e-01, 8.06791644e-01, 2.60878967e-01, 9.68148922e-01,\n",
       "         2.42159490e-01, 7.18585471e-01, 5.84985478e-01, 7.71215703e-02,\n",
       "         3.09547830e-01, 2.47053691e-01, 8.73473037e-01, 4.59052531e-01,\n",
       "         7.42314228e-01, 9.05420692e-01, 5.52296479e-01, 3.76612625e-01,\n",
       "         3.18728003e-01, 4.69827051e-01, 5.65958462e-01, 7.68920264e-01,\n",
       "         2.80178575e-01, 5.89225756e-01, 3.25593564e-01, 5.24879258e-01,\n",
       "         5.78226436e-01, 2.83020016e-01, 3.12060300e-01, 5.91500063e-01,\n",
       "         9.79268453e-01, 5.88864156e-01, 7.75686466e-01, 4.97794821e-01,\n",
       "         7.81156449e-01, 5.04638280e-01, 4.70495837e-01, 6.98705508e-01,\n",
       "         2.16203598e-01, 6.73040417e-01, 6.81016059e-01, 6.72117734e-01,\n",
       "         5.94602298e-01, 4.22640894e-01, 2.44304212e-01, 1.80367980e-01,\n",
       "         4.71580289e-01, 5.65422793e-01, 3.83966985e-01, 2.27919551e-01,\n",
       "         4.13423250e-01, 2.10035523e-01, 3.60813347e-01, 2.80700204e-01,\n",
       "         6.38131632e-01, 8.40607291e-01, 4.28398609e-01, 9.35478949e-01,\n",
       "         9.96382019e-01, 5.14480849e-01, 8.90351926e-01, 8.29159140e-01,\n",
       "         6.79770032e-01, 4.59569328e-01, 2.72649273e-01, 3.66702927e-01,\n",
       "         1.60871331e-01, 4.39894460e-01, 5.36570865e-01, 8.65140026e-01,\n",
       "         8.69809803e-01, 5.16057049e-01, 7.48615272e-01, 4.26380468e-01,\n",
       "         7.49682453e-02, 2.95038892e-01, 8.88638472e-01, 9.26088562e-01,\n",
       "         7.35409651e-01, 3.72394070e-01, 9.70118656e-01, 6.85721559e-01,\n",
       "         8.03877662e-01, 9.44290723e-01, 2.50664028e-01, 3.52707583e-01,\n",
       "         1.96007043e-02, 4.79796004e-01, 4.98696649e-01, 2.88678261e-01,\n",
       "         9.35172072e-01, 4.14563156e-01, 2.29496454e-01, 6.28780021e-01,\n",
       "         1.27251881e-02, 2.93043348e-02, 2.33841675e-01, 4.08516429e-04,\n",
       "         3.69601008e-01, 8.66516788e-01, 9.45716242e-01, 6.23517716e-01,\n",
       "         4.85501119e-01, 7.66594501e-01, 8.90868994e-01, 6.46672473e-01,\n",
       "         9.62499170e-01, 4.17113076e-01, 5.60870120e-01, 7.01394428e-01,\n",
       "         1.55820995e-01, 6.24451346e-02, 8.34939568e-01, 3.17514461e-01,\n",
       "         7.62083651e-01, 7.86859726e-01, 3.90176875e-01, 5.35631980e-01,\n",
       "         4.18562438e-01, 9.39582846e-01, 4.59773674e-01, 2.77504849e-01,\n",
       "         8.69784184e-01, 7.17358263e-01, 7.13300916e-01, 2.97993318e-01,\n",
       "         9.42233654e-01, 2.57745529e-01, 6.20800863e-01, 9.81762611e-01,\n",
       "         6.67401947e-01, 6.40097036e-01, 6.02197500e-01, 5.91906592e-01,\n",
       "         4.28255496e-01, 1.84420319e-01, 7.88886781e-01, 8.83797248e-01,\n",
       "         1.88471434e-01, 7.62380364e-01, 7.33953439e-01, 9.51690870e-01,\n",
       "         7.17957094e-01, 3.62246551e-01, 1.93530061e-01, 4.94857296e-02,\n",
       "         4.61382555e-01, 9.19717281e-01, 8.49619032e-01, 1.04359738e-02,\n",
       "         5.19481839e-01, 6.09869469e-01, 9.88111703e-03, 1.40177733e-01,\n",
       "         1.82967631e-02, 8.45455467e-01, 4.38732176e-01, 4.25061642e-01,\n",
       "         1.02331579e-01, 4.41534087e-01, 7.45344091e-01, 2.33165169e-01,\n",
       "         5.21512161e-02, 6.20555143e-01, 6.46235878e-01, 1.11525266e-01,\n",
       "         7.51196417e-01, 3.15269906e-02, 2.55721894e-01, 3.72756075e-01,\n",
       "         3.26568945e-01, 1.26405628e-01, 6.83950230e-01, 7.87179128e-01,\n",
       "         7.76569643e-01, 5.26912069e-01, 7.48223788e-02, 3.06069099e-01,\n",
       "         6.40490759e-01, 2.90805501e-01, 6.42815924e-01, 9.32864346e-01,\n",
       "         2.91675370e-01, 9.25324861e-01, 1.14620853e-01, 8.98729231e-01,\n",
       "         9.27707014e-01, 7.52367793e-01, 1.26860858e-01, 4.42456758e-01,\n",
       "         2.85623992e-02, 7.92958662e-01, 2.53793625e-01, 1.16137890e-01,\n",
       "         5.60498332e-01, 2.24170899e-01, 5.54065528e-02, 2.28408834e-01,\n",
       "         7.94780063e-01, 4.28864501e-01, 6.30979143e-01, 8.11722422e-01,\n",
       "         4.32657964e-01, 6.83754630e-01, 9.03891746e-01, 3.99642617e-01,\n",
       "         5.60137223e-01, 2.96529601e-01, 6.20951943e-01, 8.63227390e-01,\n",
       "         6.47378352e-01, 7.52796231e-02, 5.75810024e-02, 6.31471564e-01,\n",
       "         6.88601411e-01, 3.34341735e-01, 4.95585791e-01, 9.69161401e-02,\n",
       "         5.87306102e-01, 4.39499870e-01, 1.95668202e-01, 5.14804165e-02,\n",
       "         7.21846799e-01, 7.96760457e-01, 5.74760825e-02, 9.69942519e-01,\n",
       "         5.17988324e-01, 7.62779759e-01, 1.22743350e-01, 5.42502244e-01,\n",
       "         1.50600761e-01, 2.55600736e-01, 9.40696225e-01, 5.09550980e-01,\n",
       "         5.82150825e-01, 2.07198585e-01, 7.73623788e-01, 8.36290451e-01,\n",
       "         3.11790166e-01, 8.18302774e-01, 5.13572833e-01, 7.87488251e-01,\n",
       "         4.13056941e-01, 2.59005824e-01, 2.83892618e-01, 3.09350934e-01,\n",
       "         9.54022305e-01, 4.61242777e-01, 4.67247671e-01, 9.68986964e-01,\n",
       "         3.04281359e-01, 6.78596116e-01, 4.32608232e-01, 5.51266812e-01,\n",
       "         2.02743984e-02, 6.92746016e-01, 2.07873544e-01, 2.80831382e-01,\n",
       "         2.32016127e-01, 8.43340297e-01, 9.07760392e-01, 3.64333006e-01,\n",
       "         9.36286614e-01, 3.08117704e-01, 5.12467224e-01, 1.36672428e-01,\n",
       "         3.21370087e-01, 6.33207422e-01, 5.52047589e-01, 3.84621281e-01,\n",
       "         9.12539142e-01, 4.82224689e-01, 6.60204875e-01, 7.42392336e-01,\n",
       "         8.97875679e-01, 9.36168496e-01, 2.93904494e-01, 6.91627761e-01,\n",
       "         8.29384426e-01, 5.14729018e-02, 7.59080359e-02, 8.62706973e-01,\n",
       "         4.74972261e-01, 2.47515116e-01, 6.98231350e-01, 3.63873129e-01,\n",
       "         6.22889241e-02, 2.77827357e-01, 5.70229190e-02, 3.75121395e-01,\n",
       "         8.90168455e-01, 7.04761450e-01, 4.40234450e-01, 4.30199233e-01,\n",
       "         5.91756137e-01, 2.91247481e-01, 4.74226563e-02, 9.17423311e-02,\n",
       "         4.57780299e-01, 7.34927500e-01, 1.25191981e-01, 7.84291423e-01,\n",
       "         1.79944307e-01, 1.14673789e-01, 4.29425216e-01, 6.23670632e-01,\n",
       "         2.08559610e-01, 5.72373900e-01, 6.53708226e-01, 5.14055676e-01,\n",
       "         3.59750732e-01, 1.40277052e-02, 8.48065995e-01, 6.13759077e-01,\n",
       "         3.69454578e-01, 5.39148610e-01, 9.99013696e-01, 4.26992740e-01,\n",
       "         7.78533415e-01, 8.11937588e-01, 3.50081799e-01, 3.12911824e-01,\n",
       "         9.79680030e-01, 9.48306891e-01, 9.57283294e-01, 8.82697480e-01,\n",
       "         2.08111381e-01, 7.29941227e-01, 3.56937295e-01, 9.62560657e-01,\n",
       "         9.43261530e-03, 1.87587003e-01, 9.98988754e-01, 6.21010097e-01,\n",
       "         8.50026168e-01, 4.19454244e-02, 3.03898124e-02, 1.23541786e-01,\n",
       "         6.10396165e-01, 9.23094484e-01, 1.47037296e-01, 5.19520818e-01,\n",
       "         4.59906096e-01, 3.43172344e-01, 6.62539051e-01, 5.88524029e-01,\n",
       "         8.22468113e-01, 5.19460077e-01, 6.86805731e-01, 8.64886293e-01,\n",
       "         3.68381680e-01, 5.71169505e-01, 6.09768233e-01, 5.40594659e-01,\n",
       "         4.39015279e-01, 2.22234317e-01, 8.25782716e-01, 3.91414192e-01,\n",
       "         2.86573184e-01, 8.89250319e-01, 3.11401587e-01, 9.93843244e-01,\n",
       "         7.97543750e-01, 8.47700926e-01, 9.03474851e-01, 1.23743251e-01,\n",
       "         1.96504441e-01, 2.57178855e-01, 7.94792463e-01, 3.96068418e-02,\n",
       "         1.51508074e-01, 1.93628767e-01, 2.06469673e-01, 3.69420120e-01,\n",
       "         8.85964734e-02, 5.85811490e-01, 4.00886482e-01, 5.61702096e-01,\n",
       "         5.63873304e-01, 1.69229617e-01, 6.64085555e-02, 7.27354487e-02,\n",
       "         8.37785730e-01, 4.51873862e-01, 9.31202967e-01, 7.03950475e-01,\n",
       "         2.85212624e-01, 2.33740028e-02, 3.39939798e-01, 7.18246526e-01,\n",
       "         2.06403475e-01, 2.85250613e-01, 4.70732809e-01, 7.69355238e-01,\n",
       "         4.17187639e-01, 5.09921119e-01, 3.79657725e-01, 2.00163536e-02,\n",
       "         2.64338148e-01, 5.98788074e-01, 1.37807918e-01, 6.84651399e-01,\n",
       "         9.13410589e-02, 4.19913103e-01, 7.93378301e-01, 5.04859315e-01,\n",
       "         4.17021196e-01, 7.98022913e-01, 6.35707884e-01, 7.03650570e-01,\n",
       "         1.94963038e-02, 4.36130721e-01, 3.86001745e-02, 6.99587927e-01,\n",
       "         9.02609490e-01, 1.90127424e-01, 6.27457242e-01, 5.32413504e-01,\n",
       "         2.69913103e-01, 3.17316255e-02, 7.02439576e-02, 2.52972668e-01,\n",
       "         2.55517822e-01, 7.64464380e-01, 8.42387396e-01, 4.14905620e-01,\n",
       "         8.16522625e-01, 1.56178502e-02, 8.16630180e-01, 3.86770487e-01,\n",
       "         4.23007959e-01, 7.15493634e-01, 4.05229839e-01, 7.00571348e-01,\n",
       "         2.87347021e-01, 9.32716724e-01, 9.49475698e-01, 5.63322816e-01,\n",
       "         7.54079004e-01, 3.90416142e-02, 8.83695526e-01, 5.84173478e-01,\n",
       "         4.46179287e-02, 9.37063842e-01, 6.05846330e-01, 6.29801594e-01,\n",
       "         8.88868453e-01, 6.11518552e-01, 6.92085884e-01, 2.64479208e-01,\n",
       "         8.34018635e-01, 8.98255607e-01, 9.78957189e-01, 1.72154199e-01,\n",
       "         5.38038265e-01, 8.17637791e-01, 7.30044744e-01, 7.01398765e-01,\n",
       "         7.56426401e-02, 3.87519719e-01, 1.82764684e-01, 6.93332459e-01,\n",
       "         7.16195765e-01, 7.76401813e-02, 3.24645078e-01, 8.34543356e-01,\n",
       "         4.67225404e-01, 8.70169521e-01, 9.02493248e-01, 5.28278781e-01,\n",
       "         3.61020410e-01, 1.51298751e-01, 5.33156858e-01, 2.94652228e-01,\n",
       "         1.24834067e-01, 5.97300549e-02, 8.86807678e-01, 7.96562570e-01,\n",
       "         4.44806535e-01, 9.46151376e-01, 2.66464941e-01, 8.78586253e-01,\n",
       "         4.35847786e-01, 7.14639259e-02, 9.53938614e-01, 9.51520799e-01,\n",
       "         4.34716057e-01]))]"
      ]
     },
     "execution_count": 20,
     "metadata": {},
     "output_type": "execute_result"
    }
   ],
   "source": [
    "expand_setpoints_helper(a.spectrum)"
   ]
  },
  {
   "cell_type": "code",
   "execution_count": 21,
   "metadata": {},
   "outputs": [
    {
     "name": "stdout",
     "output_type": "stream",
     "text": [
      "Starting experimental run with id: 2. \n"
     ]
    }
   ],
   "source": [
    "meas = Measurement()\n",
    "meas.register_parameter(a.spectrum)\n",
    "\n",
    "with meas.run() as datasaver:\n",
    "    datasaver.add_result(*expand_setpoints_helper(a.spectrum))\n",
    "    \n",
    "    dataid = datasaver.run_id"
   ]
  },
  {
   "cell_type": "code",
   "execution_count": null,
   "metadata": {},
   "outputs": [],
   "source": []
  }
 ],
 "metadata": {
  "kernelspec": {
   "display_name": "Python 3",
   "language": "python",
   "name": "python3"
  },
  "language_info": {
   "codemirror_mode": {
    "name": "ipython",
    "version": 3
   },
   "file_extension": ".py",
   "mimetype": "text/x-python",
   "name": "python",
   "nbconvert_exporter": "python",
   "pygments_lexer": "ipython3",
   "version": "3.7.5"
  },
  "toc": {
   "base_numbering": 1,
   "nav_menu": {},
   "number_sections": true,
   "sideBar": true,
   "skip_h1_title": false,
   "title_cell": "Table of Contents",
   "title_sidebar": "Contents",
   "toc_cell": false,
   "toc_position": {},
   "toc_section_display": true,
   "toc_window_display": false
  },
  "varInspector": {
   "cols": {
    "lenName": 16,
    "lenType": 16,
    "lenVar": 40
   },
   "kernels_config": {
    "python": {
     "delete_cmd_postfix": "",
     "delete_cmd_prefix": "del ",
     "library": "var_list.py",
     "varRefreshCmd": "print(var_dic_list())"
    },
    "r": {
     "delete_cmd_postfix": ") ",
     "delete_cmd_prefix": "rm(",
     "library": "var_list.r",
     "varRefreshCmd": "cat(var_dic_list()) "
    }
   },
   "types_to_exclude": [
    "module",
    "function",
    "builtin_function_or_method",
    "instance",
    "_Feature"
   ],
   "window_display": false
  }
 },
 "nbformat": 4,
 "nbformat_minor": 2
}
