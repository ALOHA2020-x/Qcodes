{
 "cells": [
  {
   "cell_type": "markdown",
   "metadata": {},
   "source": [
    "# Simple Example of ParameterWithSetpoints\n",
    "This notebook provides an example for writing a simple driver with a parameter that has setpoints. Let's name this parameter that has setpoints as \"y\". Then, the setpoints, say \"x1, x2, x3 ..\", are the parameters on which the parameter \n",
    "\"y\" depends upon. Meaning \"y\" is a function of \"x1, x2, x3 ...\" where \"x1, x2, x3 ...\" are known as the setpoints of parameter \"y\".\n",
    "\n",
    "This is most likely to be useful for instruments that return arrays of results. In this notebook, we will show an example of this."
   ]
  },
  {
   "cell_type": "code",
   "execution_count": 1,
   "metadata": {},
   "outputs": [],
   "source": [
    "import numpy as np\n",
    "import os"
   ]
  },
  {
   "cell_type": "code",
   "execution_count": 2,
   "metadata": {},
   "outputs": [
    {
     "name": "stdout",
     "output_type": "stream",
     "text": [
      "Logging hadn't been started.\n",
      "Activating auto-logging. Current session state plus future input saved.\n",
      "Filename       : /home/vsts/.qcodes/logs/command_history.log\n",
      "Mode           : append\n",
      "Output logging : True\n",
      "Raw input log  : False\n",
      "Timestamping   : True\n",
      "State          : active\n"
     ]
    },
    {
     "name": "stdout",
     "output_type": "stream",
     "text": [
      "Qcodes Logfile : /home/vsts/.qcodes/logs/200704-24133-qcodes.log\n"
     ]
    }
   ],
   "source": [
    "from qcodes.dataset.plotting import plot_dataset\n",
    "from qcodes.utils.validators import Numbers, Arrays\n",
    "from qcodes.instrument.base import Instrument\n",
    "from qcodes.dataset.measurements import Measurement"
   ]
  },
  {
   "cell_type": "code",
   "execution_count": 3,
   "metadata": {},
   "outputs": [],
   "source": [
    "from qcodes.dataset.sqlite.database import initialise_or_create_database_at\n",
    "from qcodes.dataset.experiment_container import load_or_create_experiment"
   ]
  },
  {
   "cell_type": "code",
   "execution_count": 4,
   "metadata": {},
   "outputs": [],
   "source": [
    "from qcodes.instrument.parameter import ParameterWithSetpoints, Parameter\n",
    "from qcodes.instrument.parameter import expand_setpoints_helper"
   ]
  },
  {
   "cell_type": "markdown",
   "metadata": {},
   "source": [
    "First, we define a dummy instrument that returns something like a frequency spectrum starting from a frequency given by `f_start` to a frequency given by `f_stop` in `n_points` steps. \n",
    "\n",
    "The extra functionality of the `ParameterWithSetpoints` is implemented by giving it a reference to one or more parameters that acts like its setpoints. \n",
    "\n",
    "To setup a `ParameterWithSetpoints` we have to do two things in addition to what we do for a normal parameter.\n",
    "\n",
    "* Define one or more parameter for the setpoints (one for each dimension of the array and let the `ParameterWithSetpoints` know that these are the setpoints.\n",
    "* Give both the setpoints parameter(s) and the `ParameterWithSetpoints` a `validator` of type `Arrays` with a shape. The shapes should be such that the combined shape of the setpoints matches the shape of the `ParameterWithSetpoints`. Note that if the shape changes with the setting of the instrument, it can be defined by another parameter as shown below. "
   ]
  },
  {
   "cell_type": "code",
   "execution_count": 5,
   "metadata": {},
   "outputs": [],
   "source": [
    "class GeneratedSetPoints(Parameter):\n",
    "    \"\"\"\n",
    "    A parameter that generates a setpoint array from start, stop and num points\n",
    "    parameters.\n",
    "    \"\"\"\n",
    "    def __init__(self, startparam, stopparam, numpointsparam, *args, **kwargs):\n",
    "        super().__init__(*args, **kwargs)\n",
    "        self._startparam = startparam\n",
    "        self._stopparam = stopparam\n",
    "        self._numpointsparam = numpointsparam\n",
    "\n",
    "    def get_raw(self):\n",
    "        return np.linspace(self._startparam(), self._stopparam(),\n",
    "                              self._numpointsparam())\n",
    "\n",
    "class DummyArray(ParameterWithSetpoints):\n",
    "    \n",
    "    def get_raw(self):\n",
    "        npoints = self.root_instrument.n_points.get_latest()\n",
    "        return np.random.rand(npoints)\n",
    "    \n",
    "\n",
    "class DummySpectrumAnalyzer(Instrument):\n",
    "    \n",
    "    def __init__(self, name, **kwargs):\n",
    "        \n",
    "        super().__init__(name, **kwargs)\n",
    "            \n",
    "\n",
    "        self.add_parameter('f_start',\n",
    "                           initial_value=0,\n",
    "                           unit='Hz',\n",
    "                           label='f start',\n",
    "                           vals=Numbers(0,1e3),\n",
    "                           get_cmd=None,\n",
    "                           set_cmd=None)\n",
    "\n",
    "        self.add_parameter('f_stop',\n",
    "                           unit='Hz',\n",
    "                           label='f stop',\n",
    "                           vals=Numbers(1,1e3),\n",
    "                           get_cmd=None,\n",
    "                           set_cmd=None)\n",
    "\n",
    "        self.add_parameter('n_points',\n",
    "                           unit='',\n",
    "                           initial_value=10,\n",
    "                           vals=Numbers(1,1e3),\n",
    "                           get_cmd=None,\n",
    "                           set_cmd=None)\n",
    "        \n",
    "        self.add_parameter('freq_axis',\n",
    "                           unit='Hz',\n",
    "                           label='Freq Axis',\n",
    "                           parameter_class=GeneratedSetPoints,\n",
    "                           startparam=self.f_start,\n",
    "                           stopparam=self.f_stop,\n",
    "                           numpointsparam=self.n_points,\n",
    "                           vals=Arrays(shape=(self.n_points.get_latest,)))\n",
    "                           \n",
    "        self.add_parameter('spectrum',\n",
    "                   unit='dBm',\n",
    "                   setpoints=(self.freq_axis,),\n",
    "                   label='Spectrum',\n",
    "                   parameter_class=DummyArray,\n",
    "                   vals=Arrays(shape=(self.n_points.get_latest,)))\n",
    "                "
   ]
  },
  {
   "cell_type": "markdown",
   "metadata": {},
   "source": [
    "In the above example, the shape is defined by the parameter `n_points` that defines how many samples our `DummySpectrumAnalyzer` returns.\n",
    "\n",
    "This means that the validation will call the function to get `n_points` twice for each `get` of the parameter. This may be too slow, however, if you (as the driver-writer) can guarantee that the cached value for `n_points` will never be out of sync with the value stored in the instrument, `n_points` may be replaced by it's latest known value such that the `validator` reads:\n",
    "```python\n",
    "vals=Arrays(shape=(self.n_points.get_latest))\n",
    "```\n",
    "\n",
    "This avoids any additional call to the instrument. In the same way, the arguments to the `freq_axis` parameter that defines the start, stop and number of points can be replaced by their latest value if the instrument allows it.\n",
    "\n"
   ]
  },
  {
   "cell_type": "code",
   "execution_count": 6,
   "metadata": {},
   "outputs": [
    {
     "name": "stdout",
     "output_type": "stream",
     "text": [
      "\r",
      "0it [00:00, ?it/s]"
     ]
    },
    {
     "name": "stdout",
     "output_type": "stream",
     "text": [
      "\r",
      "Upgrading database; v0 -> v1: : 0it [00:00, ?it/s]"
     ]
    },
    {
     "name": "stdout",
     "output_type": "stream",
     "text": [
      "\r",
      "Upgrading database; v0 -> v1: : 0it [00:00, ?it/s]"
     ]
    },
    {
     "name": "stdout",
     "output_type": "stream",
     "text": [
      "\n",
      "\r",
      "  0%|          | 0/1 [00:00<?, ?it/s]"
     ]
    },
    {
     "name": "stdout",
     "output_type": "stream",
     "text": [
      "\r",
      "Upgrading database; v1 -> v2:   0%|          | 0/1 [00:00<?, ?it/s]"
     ]
    },
    {
     "name": "stdout",
     "output_type": "stream",
     "text": [
      "\r",
      "Upgrading database; v1 -> v2: 100%|██████████| 1/1 [00:00<00:00, 1068.88it/s]"
     ]
    },
    {
     "name": "stdout",
     "output_type": "stream",
     "text": [
      "\n",
      "\r",
      "0it [00:00, ?it/s]"
     ]
    },
    {
     "name": "stdout",
     "output_type": "stream",
     "text": [
      "\r",
      "Upgrading database; v2 -> v3: : 0it [00:00, ?it/s]"
     ]
    },
    {
     "name": "stdout",
     "output_type": "stream",
     "text": [
      "\r",
      "Upgrading database; v2 -> v3: : 0it [00:00, ?it/s]"
     ]
    },
    {
     "name": "stdout",
     "output_type": "stream",
     "text": [
      "\n",
      "\r",
      "0it [00:00, ?it/s]"
     ]
    },
    {
     "name": "stdout",
     "output_type": "stream",
     "text": [
      "\r",
      "Upgrading database; v3 -> v4: : 0it [00:00, ?it/s]"
     ]
    },
    {
     "name": "stdout",
     "output_type": "stream",
     "text": [
      "\r",
      "Upgrading database; v3 -> v4: : 0it [00:00, ?it/s]"
     ]
    },
    {
     "name": "stdout",
     "output_type": "stream",
     "text": [
      "\n",
      "\r",
      "  0%|          | 0/1 [00:00<?, ?it/s]"
     ]
    },
    {
     "name": "stdout",
     "output_type": "stream",
     "text": [
      "\r",
      "Upgrading database; v4 -> v5:   0%|          | 0/1 [00:00<?, ?it/s]"
     ]
    },
    {
     "name": "stdout",
     "output_type": "stream",
     "text": [
      "\r",
      "Upgrading database; v4 -> v5: 100%|██████████| 1/1 [00:00<00:00, 923.65it/s]"
     ]
    },
    {
     "name": "stdout",
     "output_type": "stream",
     "text": [
      "\n",
      "\r",
      "0it [00:00, ?it/s]"
     ]
    },
    {
     "name": "stdout",
     "output_type": "stream",
     "text": [
      "\r",
      "Upgrading database; v5 -> v6: : 0it [00:00, ?it/s]"
     ]
    },
    {
     "name": "stdout",
     "output_type": "stream",
     "text": [
      "\r",
      "Upgrading database; v5 -> v6: : 0it [00:00, ?it/s]"
     ]
    },
    {
     "name": "stdout",
     "output_type": "stream",
     "text": [
      "\n",
      "\r",
      "  0%|          | 0/1 [00:00<?, ?it/s]"
     ]
    },
    {
     "name": "stdout",
     "output_type": "stream",
     "text": [
      "\r",
      "Upgrading database; v6 -> v7:   0%|          | 0/1 [00:00<?, ?it/s]"
     ]
    },
    {
     "name": "stdout",
     "output_type": "stream",
     "text": [
      "\r",
      "Upgrading database; v6 -> v7: 100%|██████████| 1/1 [00:00<00:00, 335.33it/s]"
     ]
    },
    {
     "name": "stdout",
     "output_type": "stream",
     "text": [
      "\n",
      "\r",
      "  0%|          | 0/1 [00:00<?, ?it/s]"
     ]
    },
    {
     "name": "stdout",
     "output_type": "stream",
     "text": [
      "\r",
      "Upgrading database; v7 -> v8:   0%|          | 0/1 [00:00<?, ?it/s]"
     ]
    },
    {
     "name": "stdout",
     "output_type": "stream",
     "text": [
      "\r",
      "Upgrading database; v7 -> v8: 100%|██████████| 1/1 [00:00<00:00, 897.56it/s]"
     ]
    },
    {
     "name": "stdout",
     "output_type": "stream",
     "text": [
      "\n",
      "\r",
      "  0%|          | 0/1 [00:00<?, ?it/s]"
     ]
    },
    {
     "name": "stdout",
     "output_type": "stream",
     "text": [
      "\r",
      "Upgrading database; v8 -> v9:   0%|          | 0/1 [00:00<?, ?it/s]"
     ]
    },
    {
     "name": "stdout",
     "output_type": "stream",
     "text": [
      "\r",
      "Upgrading database; v8 -> v9: 100%|██████████| 1/1 [00:00<00:00, 1010.68it/s]"
     ]
    },
    {
     "name": "stdout",
     "output_type": "stream",
     "text": [
      "\n"
     ]
    },
    {
     "data": {
      "text/plain": [
       "tutorial_ParameterWithSetpoints#no sample#1@/home/vsts/work/1/s/docs/examples/Parameters/tutorial_paramter_with_setpoints.db\n",
       "----------------------------------------------------------------------------------------------------------------------------"
      ]
     },
     "execution_count": 6,
     "metadata": {},
     "output_type": "execute_result"
    }
   ],
   "source": [
    "tutorial_db_path = os.path.join(os.getcwd(), 'tutorial_paramter_with_setpoints.db')\n",
    "initialise_or_create_database_at(tutorial_db_path)\n",
    "load_or_create_experiment(experiment_name='tutorial_ParameterWithSetpoints', sample_name=\"no sample\")"
   ]
  },
  {
   "cell_type": "code",
   "execution_count": 7,
   "metadata": {},
   "outputs": [],
   "source": [
    "a = DummySpectrumAnalyzer('foobar')"
   ]
  },
  {
   "cell_type": "markdown",
   "metadata": {},
   "source": [
    "First we setup the limits of the spectrum"
   ]
  },
  {
   "cell_type": "code",
   "execution_count": 8,
   "metadata": {},
   "outputs": [],
   "source": [
    "a.f_start(0)\n",
    "a.f_stop(500)\n",
    "a.n_points(501)"
   ]
  },
  {
   "cell_type": "markdown",
   "metadata": {},
   "source": [
    "And we can grab the frequency axis"
   ]
  },
  {
   "cell_type": "code",
   "execution_count": 9,
   "metadata": {},
   "outputs": [
    {
     "data": {
      "text/plain": [
       "501"
      ]
     },
     "execution_count": 9,
     "metadata": {},
     "output_type": "execute_result"
    }
   ],
   "source": [
    "a.n_points()"
   ]
  },
  {
   "cell_type": "code",
   "execution_count": 10,
   "metadata": {
    "scrolled": false
   },
   "outputs": [
    {
     "data": {
      "text/plain": [
       "501"
      ]
     },
     "execution_count": 10,
     "metadata": {},
     "output_type": "execute_result"
    }
   ],
   "source": [
    "freq_axis = a.freq_axis()\n",
    "len(freq_axis)"
   ]
  },
  {
   "cell_type": "code",
   "execution_count": 11,
   "metadata": {},
   "outputs": [
    {
     "data": {
      "text/plain": [
       "array([0., 1., 2., 3., 4., 5., 6., 7., 8., 9.])"
      ]
     },
     "execution_count": 11,
     "metadata": {},
     "output_type": "execute_result"
    }
   ],
   "source": [
    "freq_axis[:10]"
   ]
  },
  {
   "cell_type": "markdown",
   "metadata": {},
   "source": [
    "As expected we get a result wit 501 points as we asked for an axis with 501 points. "
   ]
  },
  {
   "cell_type": "markdown",
   "metadata": {},
   "source": [
    "Above we have added a validator to the `freq_axis` parameter encoding the fact that this is an Array with `n_points`. Note that we do not have to supply the number of points as an integer but can supply a function that returns the valid number of points. This would normally be a QCoDeS parameter.\n",
    "\n",
    "This will be checked if we validate the output."
   ]
  },
  {
   "cell_type": "code",
   "execution_count": 12,
   "metadata": {},
   "outputs": [],
   "source": [
    "a.freq_axis.validate(a.freq_axis.get())"
   ]
  },
  {
   "cell_type": "markdown",
   "metadata": {},
   "source": [
    "Naturally, we can also get the spectrum. Getting the spectrum will automatically perform validation both for the shape of the parameter itself and the relation to the setpoint parameter(s)"
   ]
  },
  {
   "cell_type": "code",
   "execution_count": 13,
   "metadata": {
    "scrolled": true
   },
   "outputs": [
    {
     "data": {
      "text/plain": [
       "501"
      ]
     },
     "execution_count": 13,
     "metadata": {},
     "output_type": "execute_result"
    }
   ],
   "source": [
    "spectrum = a.spectrum.get()\n",
    "len(spectrum)"
   ]
  },
  {
   "cell_type": "markdown",
   "metadata": {},
   "source": [
    "When we validate a `ParameterWithSetpoints`, we automatically validate that the shape is consistent between the parameters and its setpoints. As well as validating the shape as above."
   ]
  },
  {
   "cell_type": "code",
   "execution_count": 14,
   "metadata": {},
   "outputs": [],
   "source": [
    "a.spectrum.validate(a.spectrum.get())"
   ]
  },
  {
   "cell_type": "markdown",
   "metadata": {},
   "source": [
    "The consistent shapes can be validated explicitly."
   ]
  },
  {
   "cell_type": "code",
   "execution_count": 15,
   "metadata": {},
   "outputs": [],
   "source": [
    "a.spectrum.validate_consistent_shape()"
   ]
  },
  {
   "cell_type": "markdown",
   "metadata": {},
   "source": [
    "We can inspect the setpoints of the spectrum."
   ]
  },
  {
   "cell_type": "code",
   "execution_count": 16,
   "metadata": {},
   "outputs": [
    {
     "data": {
      "text/plain": [
       "(<__main__.GeneratedSetPoints: freq_axis at 139999442652944>,)"
      ]
     },
     "execution_count": 16,
     "metadata": {},
     "output_type": "execute_result"
    }
   ],
   "source": [
    "a.spectrum.setpoints"
   ]
  },
  {
   "cell_type": "markdown",
   "metadata": {},
   "source": [
    "Or even change them."
   ]
  },
  {
   "cell_type": "code",
   "execution_count": 17,
   "metadata": {},
   "outputs": [],
   "source": [
    "a.spectrum.setpoints = (a.freq_axis,)"
   ]
  },
  {
   "cell_type": "markdown",
   "metadata": {},
   "source": [
    "## Measurement"
   ]
  },
  {
   "cell_type": "markdown",
   "metadata": {},
   "source": [
    "We can also directly consume the parameter in a measurement without defining the setpoints of the parameter again. The setpoints are automatically obtained from the definition of the `ParameterWithSetpoint` instance. "
   ]
  },
  {
   "cell_type": "code",
   "execution_count": 18,
   "metadata": {},
   "outputs": [
    {
     "name": "stdout",
     "output_type": "stream",
     "text": [
      "Starting experimental run with id: 1. \n"
     ]
    }
   ],
   "source": [
    "meas = Measurement()\n",
    "meas.register_parameter(a.spectrum)\n",
    "\n",
    "with meas.run() as datasaver:\n",
    "    datasaver.add_result((a.freq_axis, a.freq_axis()),\n",
    "                         (a.spectrum, a.spectrum()))\n",
    "    dataset = datasaver.dataset"
   ]
  },
  {
   "cell_type": "markdown",
   "metadata": {},
   "source": [
    "And plot it"
   ]
  },
  {
   "cell_type": "code",
   "execution_count": 19,
   "metadata": {},
   "outputs": [
    {
     "data": {
      "text/plain": [
       "([<matplotlib.axes._subplots.AxesSubplot at 0x7f542887e8d0>], [None])"
      ]
     },
     "execution_count": 19,
     "metadata": {},
     "output_type": "execute_result"
    },
    {
     "data": {
      "image/png": "[encoded data removed]",
      "text/plain": [
       "<Figure size 432x288 with 1 Axes>"
      ]
     },
     "metadata": {
      "needs_background": "light"
     },
     "output_type": "display_data"
    }
   ],
   "source": [
    "plot_dataset(dataset)"
   ]
  },
  {
   "cell_type": "markdown",
   "metadata": {},
   "source": [
    "To reduce the amount of typing a simple convenience function is provided that will take a `ParameterWithSetpoints` and get both its values and the setpoints values and return them as tuples for direct insertion into the Dataset."
   ]
  },
  {
   "cell_type": "code",
   "execution_count": 20,
   "metadata": {
    "scrolled": true
   },
   "outputs": [
    {
     "data": {
      "text/plain": [
       "[(<__main__.GeneratedSetPoints: freq_axis at 139999442652944>,\n",
       "  array([  0.,   1.,   2.,   3.,   4.,   5.,   6.,   7.,   8.,   9.,  10.,\n",
       "          11.,  12.,  13.,  14.,  15.,  16.,  17.,  18.,  19.,  20.,  21.,\n",
       "          22.,  23.,  24.,  25.,  26.,  27.,  28.,  29.,  30.,  31.,  32.,\n",
       "          33.,  34.,  35.,  36.,  37.,  38.,  39.,  40.,  41.,  42.,  43.,\n",
       "          44.,  45.,  46.,  47.,  48.,  49.,  50.,  51.,  52.,  53.,  54.,\n",
       "          55.,  56.,  57.,  58.,  59.,  60.,  61.,  62.,  63.,  64.,  65.,\n",
       "          66.,  67.,  68.,  69.,  70.,  71.,  72.,  73.,  74.,  75.,  76.,\n",
       "          77.,  78.,  79.,  80.,  81.,  82.,  83.,  84.,  85.,  86.,  87.,\n",
       "          88.,  89.,  90.,  91.,  92.,  93.,  94.,  95.,  96.,  97.,  98.,\n",
       "          99., 100., 101., 102., 103., 104., 105., 106., 107., 108., 109.,\n",
       "         110., 111., 112., 113., 114., 115., 116., 117., 118., 119., 120.,\n",
       "         121., 122., 123., 124., 125., 126., 127., 128., 129., 130., 131.,\n",
       "         132., 133., 134., 135., 136., 137., 138., 139., 140., 141., 142.,\n",
       "         143., 144., 145., 146., 147., 148., 149., 150., 151., 152., 153.,\n",
       "         154., 155., 156., 157., 158., 159., 160., 161., 162., 163., 164.,\n",
       "         165., 166., 167., 168., 169., 170., 171., 172., 173., 174., 175.,\n",
       "         176., 177., 178., 179., 180., 181., 182., 183., 184., 185., 186.,\n",
       "         187., 188., 189., 190., 191., 192., 193., 194., 195., 196., 197.,\n",
       "         198., 199., 200., 201., 202., 203., 204., 205., 206., 207., 208.,\n",
       "         209., 210., 211., 212., 213., 214., 215., 216., 217., 218., 219.,\n",
       "         220., 221., 222., 223., 224., 225., 226., 227., 228., 229., 230.,\n",
       "         231., 232., 233., 234., 235., 236., 237., 238., 239., 240., 241.,\n",
       "         242., 243., 244., 245., 246., 247., 248., 249., 250., 251., 252.,\n",
       "         253., 254., 255., 256., 257., 258., 259., 260., 261., 262., 263.,\n",
       "         264., 265., 266., 267., 268., 269., 270., 271., 272., 273., 274.,\n",
       "         275., 276., 277., 278., 279., 280., 281., 282., 283., 284., 285.,\n",
       "         286., 287., 288., 289., 290., 291., 292., 293., 294., 295., 296.,\n",
       "         297., 298., 299., 300., 301., 302., 303., 304., 305., 306., 307.,\n",
       "         308., 309., 310., 311., 312., 313., 314., 315., 316., 317., 318.,\n",
       "         319., 320., 321., 322., 323., 324., 325., 326., 327., 328., 329.,\n",
       "         330., 331., 332., 333., 334., 335., 336., 337., 338., 339., 340.,\n",
       "         341., 342., 343., 344., 345., 346., 347., 348., 349., 350., 351.,\n",
       "         352., 353., 354., 355., 356., 357., 358., 359., 360., 361., 362.,\n",
       "         363., 364., 365., 366., 367., 368., 369., 370., 371., 372., 373.,\n",
       "         374., 375., 376., 377., 378., 379., 380., 381., 382., 383., 384.,\n",
       "         385., 386., 387., 388., 389., 390., 391., 392., 393., 394., 395.,\n",
       "         396., 397., 398., 399., 400., 401., 402., 403., 404., 405., 406.,\n",
       "         407., 408., 409., 410., 411., 412., 413., 414., 415., 416., 417.,\n",
       "         418., 419., 420., 421., 422., 423., 424., 425., 426., 427., 428.,\n",
       "         429., 430., 431., 432., 433., 434., 435., 436., 437., 438., 439.,\n",
       "         440., 441., 442., 443., 444., 445., 446., 447., 448., 449., 450.,\n",
       "         451., 452., 453., 454., 455., 456., 457., 458., 459., 460., 461.,\n",
       "         462., 463., 464., 465., 466., 467., 468., 469., 470., 471., 472.,\n",
       "         473., 474., 475., 476., 477., 478., 479., 480., 481., 482., 483.,\n",
       "         484., 485., 486., 487., 488., 489., 490., 491., 492., 493., 494.,\n",
       "         495., 496., 497., 498., 499., 500.])),\n",
       " (<__main__.DummyArray: spectrum at 139999442651792>,\n",
       "  array([4.43181582e-01, 3.47770040e-01, 3.32610981e-01, 5.38161630e-01,\n",
       "         4.23617134e-01, 8.84724820e-01, 6.24641808e-01, 3.68986734e-02,\n",
       "         3.83672094e-01, 4.09055391e-01, 3.28877407e-01, 5.41182287e-01,\n",
       "         6.47609162e-01, 6.37942136e-01, 4.20723078e-01, 1.22100964e-01,\n",
       "         6.74785760e-01, 2.23827501e-01, 1.84422095e-01, 8.61779776e-01,\n",
       "         1.96326712e-02, 5.86265947e-01, 4.00730209e-01, 2.72493723e-01,\n",
       "         8.70582221e-01, 3.25390475e-02, 8.73907382e-01, 9.87817220e-01,\n",
       "         5.42576351e-01, 8.22783853e-01, 8.31422054e-01, 4.38013336e-01,\n",
       "         9.97543836e-01, 6.62635969e-01, 2.75661757e-01, 2.35158015e-01,\n",
       "         3.79256894e-01, 7.52520671e-01, 2.37867347e-01, 7.89250432e-01,\n",
       "         6.03830646e-01, 1.80960242e-01, 6.47939231e-01, 9.88591151e-01,\n",
       "         9.54499803e-01, 4.41355395e-01, 3.77934050e-01, 8.84170529e-01,\n",
       "         8.54881575e-01, 6.97178099e-01, 6.05939987e-01, 7.03860770e-01,\n",
       "         9.71472353e-01, 4.14914944e-01, 8.49622305e-01, 1.65043642e-01,\n",
       "         1.71322215e-01, 2.47317670e-01, 9.19290417e-01, 2.64480658e-01,\n",
       "         7.20188337e-01, 3.79775023e-01, 8.26750351e-01, 3.16407595e-01,\n",
       "         4.25208706e-01, 5.25760028e-01, 1.69142459e-01, 8.22773337e-01,\n",
       "         7.40843572e-02, 9.26801404e-01, 3.48030261e-01, 5.49409021e-01,\n",
       "         8.92159979e-01, 5.58027753e-01, 6.59821883e-01, 8.18508994e-01,\n",
       "         7.85610254e-03, 5.84408162e-01, 7.06470869e-02, 8.31318877e-01,\n",
       "         2.05350924e-01, 9.21716456e-01, 6.40499133e-01, 4.57609865e-01,\n",
       "         5.86450591e-02, 9.50118701e-01, 6.31288187e-01, 7.69128603e-02,\n",
       "         5.90881849e-01, 9.81658437e-01, 3.88379813e-01, 2.61216807e-01,\n",
       "         9.34489647e-01, 4.62643408e-01, 7.38714174e-03, 4.83416655e-01,\n",
       "         2.87986167e-01, 6.77473020e-01, 5.44965202e-01, 3.23138866e-02,\n",
       "         7.37053333e-01, 8.41667175e-02, 5.95874899e-01, 2.60453232e-01,\n",
       "         1.01545461e-02, 1.26541338e-01, 4.36589604e-01, 5.92915116e-01,\n",
       "         3.81313745e-01, 3.96449970e-01, 2.62230038e-01, 2.15762551e-01,\n",
       "         5.57845102e-03, 6.13141384e-01, 3.75309671e-01, 3.24193744e-01,\n",
       "         4.63481420e-01, 7.76873291e-01, 9.55060054e-01, 9.59617348e-01,\n",
       "         7.19874153e-01, 8.24187437e-01, 7.62869831e-02, 8.07218471e-01,\n",
       "         2.11993805e-01, 1.04923869e-01, 2.41360828e-01, 2.73307823e-01,\n",
       "         6.89199725e-01, 4.73035425e-02, 9.69074050e-01, 2.76596106e-01,\n",
       "         3.47764617e-01, 6.89062922e-02, 1.03802360e-01, 6.28786001e-01,\n",
       "         8.88777034e-01, 5.25646485e-01, 2.99519350e-02, 3.68303979e-01,\n",
       "         6.63264386e-01, 5.09537701e-01, 5.59730999e-01, 3.87810138e-01,\n",
       "         8.05546830e-01, 9.70695490e-01, 4.76503396e-02, 2.46078300e-01,\n",
       "         4.37389785e-03, 7.00027923e-01, 2.98128690e-01, 6.93823244e-01,\n",
       "         7.13855198e-01, 1.66629925e-01, 9.34556230e-01, 2.10024457e-01,\n",
       "         5.51552046e-01, 7.90301509e-01, 7.75873314e-01, 8.93248411e-01,\n",
       "         6.53683160e-01, 1.54133957e-01, 8.05227485e-01, 6.20923941e-01,\n",
       "         9.34455283e-01, 7.70200693e-02, 7.90168283e-01, 5.60824611e-01,\n",
       "         2.49424786e-01, 2.10112834e-01, 4.31857895e-01, 1.73003572e-01,\n",
       "         4.24910941e-01, 9.94907081e-01, 1.54270370e-01, 6.51771216e-01,\n",
       "         7.79976589e-01, 1.08372536e-01, 3.35822755e-01, 9.01181541e-04,\n",
       "         6.39539225e-01, 6.85311058e-01, 9.42539624e-01, 4.81554328e-01,\n",
       "         2.28568369e-01, 1.46652502e-01, 7.17976670e-02, 8.95782478e-01,\n",
       "         5.82100392e-01, 9.21318094e-01, 9.53788106e-01, 3.35885595e-01,\n",
       "         7.00224678e-01, 5.78601695e-01, 7.28840758e-01, 2.91634774e-01,\n",
       "         8.76362215e-01, 9.16923040e-01, 3.42269713e-01, 6.30625507e-01,\n",
       "         1.94694308e-01, 8.36783006e-01, 4.60325938e-01, 2.62850668e-01,\n",
       "         9.72520617e-01, 4.65387330e-01, 9.65144165e-01, 7.12651565e-02,\n",
       "         7.45734630e-01, 6.54671760e-01, 9.61752291e-01, 7.62788171e-01,\n",
       "         8.99035762e-01, 1.13439333e-01, 5.65039491e-01, 8.95182117e-02,\n",
       "         2.57679152e-01, 8.42613790e-01, 1.08694569e-01, 6.18435226e-01,\n",
       "         9.07193122e-01, 5.05404285e-01, 5.08047447e-01, 8.39480659e-02,\n",
       "         5.51974289e-01, 5.47343998e-01, 2.64746688e-01, 5.67968144e-03,\n",
       "         4.92681816e-01, 3.77708137e-01, 8.14841222e-01, 6.76455391e-02,\n",
       "         7.71679395e-02, 6.30857530e-01, 8.44889872e-01, 5.16469132e-02,\n",
       "         5.81971324e-01, 1.74699124e-01, 2.08349022e-01, 4.31733374e-01,\n",
       "         6.97762334e-01, 7.43752443e-01, 4.78076195e-01, 7.99375024e-01,\n",
       "         2.37001296e-01, 4.63877674e-01, 1.90354070e-01, 6.07754551e-01,\n",
       "         5.13281768e-01, 6.16857474e-01, 3.96780670e-01, 3.73209108e-01,\n",
       "         3.52130052e-01, 7.09731008e-01, 3.21890828e-01, 3.79873835e-01,\n",
       "         7.36006376e-01, 1.23367959e-01, 3.30189526e-01, 5.50824900e-01,\n",
       "         1.76931794e-01, 8.80508013e-02, 7.93766242e-01, 6.11261206e-01,\n",
       "         4.39882291e-01, 7.08937885e-01, 1.75156158e-01, 9.68068870e-01,\n",
       "         4.64606824e-02, 8.23221432e-01, 9.43624948e-01, 3.99803945e-03,\n",
       "         1.65670355e-01, 9.37478528e-01, 9.12731578e-01, 9.46181068e-01,\n",
       "         2.78803433e-01, 3.99287785e-01, 1.76435842e-01, 2.89077703e-01,\n",
       "         5.24560553e-01, 5.01244446e-01, 7.98528003e-01, 9.01228450e-01,\n",
       "         6.00716769e-01, 9.39433768e-01, 9.00755667e-01, 4.86861020e-01,\n",
       "         6.90643722e-01, 7.23188876e-01, 4.95009969e-01, 1.01668616e-01,\n",
       "         5.64531519e-01, 7.74326211e-01, 4.80055561e-01, 2.46383944e-01,\n",
       "         6.10725768e-01, 7.31773813e-01, 4.38490453e-01, 8.38271159e-02,\n",
       "         7.97812454e-01, 4.67344096e-01, 7.40431377e-01, 7.28639383e-01,\n",
       "         1.36380072e-01, 7.57627519e-02, 2.36264652e-01, 1.76852601e-02,\n",
       "         6.53737417e-01, 4.26625631e-01, 1.59438933e-01, 9.25657343e-01,\n",
       "         5.58917815e-01, 7.98122277e-02, 6.13667919e-03, 6.59512497e-01,\n",
       "         9.67586400e-01, 2.99119972e-01, 3.15500142e-01, 7.95836476e-01,\n",
       "         4.74347398e-01, 4.93980083e-01, 4.39545031e-01, 6.54207639e-01,\n",
       "         1.95147471e-01, 7.01646156e-01, 8.67053652e-01, 5.59966208e-01,\n",
       "         1.34180393e-01, 8.35048915e-01, 6.99976998e-02, 9.97233266e-01,\n",
       "         3.31321478e-02, 1.55923045e-01, 6.95983560e-01, 1.25677019e-02,\n",
       "         5.90062145e-01, 8.66470759e-01, 8.01752408e-01, 9.47479667e-01,\n",
       "         1.77157824e-01, 7.62340546e-01, 9.49713470e-01, 5.43969127e-01,\n",
       "         1.00389020e-01, 4.58922815e-01, 8.35417941e-01, 2.35284985e-01,\n",
       "         1.16669766e-01, 3.41420096e-01, 2.60653953e-01, 3.15895387e-01,\n",
       "         7.57726042e-01, 3.42506163e-01, 9.98376383e-01, 7.21247117e-01,\n",
       "         2.32710452e-02, 5.48109372e-01, 8.31598718e-01, 1.67629613e-01,\n",
       "         7.43188074e-01, 8.95305443e-02, 5.08279813e-01, 8.94991744e-01,\n",
       "         6.51921038e-03, 9.79743110e-01, 9.43945126e-01, 7.85349249e-01,\n",
       "         1.25247103e-01, 2.46970517e-01, 7.83270173e-01, 5.59602266e-01,\n",
       "         6.25696879e-02, 4.46392105e-02, 1.18482181e-01, 2.16888569e-01,\n",
       "         4.37359628e-01, 9.87855254e-01, 9.90321181e-01, 4.66076050e-01,\n",
       "         4.28750541e-01, 7.91383063e-01, 9.03700489e-01, 2.47895960e-01,\n",
       "         6.22920750e-01, 3.76101580e-01, 7.12006514e-01, 1.29831351e-02,\n",
       "         9.64705681e-01, 5.66147098e-01, 6.08020225e-01, 1.37923491e-01,\n",
       "         8.16483013e-01, 6.53358536e-01, 3.22650442e-01, 1.58809520e-01,\n",
       "         6.79937031e-01, 8.82879216e-01, 2.21359006e-01, 6.67273194e-01,\n",
       "         9.16346325e-01, 6.33633072e-01, 5.08427619e-02, 1.50880878e-01,\n",
       "         4.38464896e-01, 8.15262346e-01, 8.16612849e-01, 3.41438513e-01,\n",
       "         4.66743785e-01, 8.12186651e-01, 5.40747430e-01, 2.56327770e-01,\n",
       "         1.27814014e-01, 8.47234166e-01, 4.21210006e-01, 9.17855221e-03,\n",
       "         6.49214611e-01, 6.81259540e-01, 8.27477134e-01, 9.55225858e-01,\n",
       "         7.44217418e-02, 3.06350772e-01, 5.72667982e-01, 1.96135831e-01,\n",
       "         1.70526122e-01, 6.87953141e-01, 5.15423871e-01, 2.95537703e-01,\n",
       "         1.35312436e-01, 3.87913540e-01, 8.99947953e-01, 9.73850954e-01,\n",
       "         1.42629889e-01, 2.67498608e-02, 3.42053416e-01, 5.91189347e-01,\n",
       "         8.54904632e-01, 2.39758291e-01, 7.77654656e-01, 9.36754687e-01,\n",
       "         3.87323949e-01, 3.26098393e-01, 6.46341491e-01, 7.81877643e-01,\n",
       "         8.26295045e-01, 7.09667442e-01, 4.29511838e-01, 8.66555815e-02,\n",
       "         1.30825566e-01, 9.21156030e-02, 5.91515564e-01, 5.57572527e-01,\n",
       "         8.43769675e-01, 3.23665475e-01, 2.00969845e-01, 9.61700204e-02,\n",
       "         4.61494732e-01, 6.96677160e-01, 2.81776599e-01, 6.14425501e-01,\n",
       "         4.82653896e-01, 8.84448130e-01, 1.62025609e-01, 5.61966999e-01,\n",
       "         1.21687055e-01, 8.73731007e-01, 9.31320887e-01, 6.65128250e-01,\n",
       "         7.19463086e-01, 5.44453962e-01, 6.68917766e-01, 8.39224778e-01,\n",
       "         5.98091533e-01, 9.44958030e-01, 7.20461991e-01, 1.62341901e-01,\n",
       "         2.63939673e-01, 4.30318633e-01, 9.25837990e-01, 5.04685977e-01,\n",
       "         3.22053224e-01, 4.95167379e-01, 1.40371317e-01, 5.33334151e-01,\n",
       "         2.70525150e-02, 8.95787536e-01, 6.60005995e-01, 4.34386793e-01,\n",
       "         5.31644554e-01, 2.61104628e-01, 7.33259383e-01, 1.51555769e-02,\n",
       "         7.91065075e-02, 5.81222390e-01, 3.94489517e-01, 4.12223407e-01,\n",
       "         4.30294743e-03, 5.24717111e-02, 9.07754606e-01, 2.63185658e-01,\n",
       "         4.82082863e-01]))]"
      ]
     },
     "execution_count": 20,
     "metadata": {},
     "output_type": "execute_result"
    }
   ],
   "source": [
    "expand_setpoints_helper(a.spectrum)"
   ]
  },
  {
   "cell_type": "code",
   "execution_count": 21,
   "metadata": {},
   "outputs": [
    {
     "name": "stdout",
     "output_type": "stream",
     "text": [
      "Starting experimental run with id: 2. \n"
     ]
    }
   ],
   "source": [
    "meas = Measurement()\n",
    "meas.register_parameter(a.spectrum)\n",
    "\n",
    "with meas.run() as datasaver:\n",
    "    datasaver.add_result(*expand_setpoints_helper(a.spectrum))\n",
    "    \n",
    "    dataid = datasaver.run_id"
   ]
  },
  {
   "cell_type": "code",
   "execution_count": null,
   "metadata": {},
   "outputs": [],
   "source": []
  }
 ],
 "metadata": {
  "kernelspec": {
   "display_name": "Python 3",
   "language": "python",
   "name": "python3"
  },
  "language_info": {
   "codemirror_mode": {
    "name": "ipython",
    "version": 3
   },
   "file_extension": ".py",
   "mimetype": "text/x-python",
   "name": "python",
   "nbconvert_exporter": "python",
   "pygments_lexer": "ipython3",
   "version": "3.7.7"
  },
  "toc": {
   "base_numbering": 1,
   "nav_menu": {},
   "number_sections": true,
   "sideBar": true,
   "skip_h1_title": false,
   "title_cell": "Table of Contents",
   "title_sidebar": "Contents",
   "toc_cell": false,
   "toc_position": {},
   "toc_section_display": true,
   "toc_window_display": false
  },
  "varInspector": {
   "cols": {
    "lenName": 16,
    "lenType": 16,
    "lenVar": 40
   },
   "kernels_config": {
    "python": {
     "delete_cmd_postfix": "",
     "delete_cmd_prefix": "del ",
     "library": "var_list.py",
     "varRefreshCmd": "print(var_dic_list())"
    },
    "r": {
     "delete_cmd_postfix": ") ",
     "delete_cmd_prefix": "rm(",
     "library": "var_list.r",
     "varRefreshCmd": "cat(var_dic_list()) "
    }
   },
   "types_to_exclude": [
    "module",
    "function",
    "builtin_function_or_method",
    "instance",
    "_Feature"
   ],
   "window_display": false
  }
 },
 "nbformat": 4,
 "nbformat_minor": 2
}
