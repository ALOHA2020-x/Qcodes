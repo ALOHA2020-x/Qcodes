{
 "cells": [
  {
   "cell_type": "markdown",
   "metadata": {},
   "source": [
    "# Simple Example of ParameterWithSetpoints\n",
    "This notebook provides an example for writing a simple driver with a parameter that has setpoints. Let's name this parameter that has setpoints as \"y\". Then, the setpoints, say \"x1, x2, x3 ..\", are the parameters on which the parameter \n",
    "\"y\" depends upon. Meaning \"y\" is a function of \"x1, x2, x3 ...\" where \"x1, x2, x3 ...\" are known as the setpoints of parameter \"y\".\n",
    "\n",
    "This is most likely to be useful for instruments that return arrays of results. In this notebook, we will show an example of this."
   ]
  },
  {
   "cell_type": "code",
   "execution_count": 1,
   "metadata": {},
   "outputs": [],
   "source": [
    "import numpy as np\n",
    "import os"
   ]
  },
  {
   "cell_type": "code",
   "execution_count": 2,
   "metadata": {},
   "outputs": [
    {
     "name": "stdout",
     "output_type": "stream",
     "text": [
      "Logging hadn't been started.\n",
      "Activating auto-logging. Current session state plus future input saved.\n",
      "Filename       : /home/vsts/.qcodes/logs/command_history.log\n",
      "Mode           : append\n",
      "Output logging : True\n",
      "Raw input log  : False\n",
      "Timestamping   : True\n",
      "State          : active\n"
     ]
    },
    {
     "name": "stdout",
     "output_type": "stream",
     "text": [
      "Qcodes Logfile : /home/vsts/.qcodes/logs/200622-22321-qcodes.log\n"
     ]
    }
   ],
   "source": [
    "from qcodes.dataset.plotting import plot_dataset\n",
    "from qcodes.utils.validators import Numbers, Arrays\n",
    "from qcodes.instrument.base import Instrument\n",
    "from qcodes.dataset.measurements import Measurement"
   ]
  },
  {
   "cell_type": "code",
   "execution_count": 3,
   "metadata": {},
   "outputs": [],
   "source": [
    "from qcodes.dataset.sqlite.database import initialise_or_create_database_at\n",
    "from qcodes.dataset.experiment_container import load_or_create_experiment"
   ]
  },
  {
   "cell_type": "code",
   "execution_count": 4,
   "metadata": {},
   "outputs": [],
   "source": [
    "from qcodes.instrument.parameter import ParameterWithSetpoints, Parameter\n",
    "from qcodes.instrument.parameter import expand_setpoints_helper"
   ]
  },
  {
   "cell_type": "markdown",
   "metadata": {},
   "source": [
    "First, we define a dummy instrument that returns something like a frequency spectrum starting from a frequency given by `f_start` to a frequency given by `f_stop` in `n_points` steps. \n",
    "\n",
    "The extra functionality of the `ParameterWithSetpoints` is implemented by giving it a reference to one or more parameters that acts like its setpoints. \n",
    "\n",
    "To setup a `ParameterWithSetpoints` we have to do two things in addition to what we do for a normal parameter.\n",
    "\n",
    "* Define one or more parameter for the setpoints (one for each dimension of the array and let the `ParameterWithSetpoints` know that these are the setpoints.\n",
    "* Give both the setpoints parameter(s) and the `ParameterWithSetpoints` a `validator` of type `Arrays` with a shape. The shapes should be such that the combined shape of the setpoints matches the shape of the `ParameterWithSetpoints`. Note that if the shape changes with the setting of the instrument, it can be defined by another parameter as shown below. "
   ]
  },
  {
   "cell_type": "code",
   "execution_count": 5,
   "metadata": {},
   "outputs": [],
   "source": [
    "class GeneratedSetPoints(Parameter):\n",
    "    \"\"\"\n",
    "    A parameter that generates a setpoint array from start, stop and num points\n",
    "    parameters.\n",
    "    \"\"\"\n",
    "    def __init__(self, startparam, stopparam, numpointsparam, *args, **kwargs):\n",
    "        super().__init__(*args, **kwargs)\n",
    "        self._startparam = startparam\n",
    "        self._stopparam = stopparam\n",
    "        self._numpointsparam = numpointsparam\n",
    "\n",
    "    def get_raw(self):\n",
    "        return np.linspace(self._startparam(), self._stopparam(),\n",
    "                              self._numpointsparam())\n",
    "\n",
    "class DummyArray(ParameterWithSetpoints):\n",
    "    \n",
    "    def get_raw(self):\n",
    "        npoints = self.root_instrument.n_points.get_latest()\n",
    "        return np.random.rand(npoints)\n",
    "    \n",
    "\n",
    "class DummySpectrumAnalyzer(Instrument):\n",
    "    \n",
    "    def __init__(self, name, **kwargs):\n",
    "        \n",
    "        super().__init__(name, **kwargs)\n",
    "            \n",
    "\n",
    "        self.add_parameter('f_start',\n",
    "                           initial_value=0,\n",
    "                           unit='Hz',\n",
    "                           label='f start',\n",
    "                           vals=Numbers(0,1e3),\n",
    "                           get_cmd=None,\n",
    "                           set_cmd=None)\n",
    "\n",
    "        self.add_parameter('f_stop',\n",
    "                           unit='Hz',\n",
    "                           label='f stop',\n",
    "                           vals=Numbers(1,1e3),\n",
    "                           get_cmd=None,\n",
    "                           set_cmd=None)\n",
    "\n",
    "        self.add_parameter('n_points',\n",
    "                           unit='',\n",
    "                           initial_value=10,\n",
    "                           vals=Numbers(1,1e3),\n",
    "                           get_cmd=None,\n",
    "                           set_cmd=None)\n",
    "        \n",
    "        self.add_parameter('freq_axis',\n",
    "                           unit='Hz',\n",
    "                           label='Freq Axis',\n",
    "                           parameter_class=GeneratedSetPoints,\n",
    "                           startparam=self.f_start,\n",
    "                           stopparam=self.f_stop,\n",
    "                           numpointsparam=self.n_points,\n",
    "                           vals=Arrays(shape=(self.n_points.get_latest,)))\n",
    "                           \n",
    "        self.add_parameter('spectrum',\n",
    "                   unit='dBm',\n",
    "                   setpoints=(self.freq_axis,),\n",
    "                   label='Spectrum',\n",
    "                   parameter_class=DummyArray,\n",
    "                   vals=Arrays(shape=(self.n_points.get_latest,)))\n",
    "                "
   ]
  },
  {
   "cell_type": "markdown",
   "metadata": {},
   "source": [
    "In the above example, the shape is defined by the parameter `n_points` that defines how many samples our `DummySpectrumAnalyzer` returns.\n",
    "\n",
    "This means that the validation will call the function to get `n_points` twice for each `get` of the parameter. This may be too slow, however, if you (as the driver-writer) can guarantee that the cached value for `n_points` will never be out of sync with the value stored in the instrument, `n_points` may be replaced by it's latest known value such that the `validator` reads:\n",
    "```python\n",
    "vals=Arrays(shape=(self.n_points.get_latest))\n",
    "```\n",
    "\n",
    "This avoids any additional call to the instrument. In the same way, the arguments to the `freq_axis` parameter that defines the start, stop and number of points can be replaced by their latest value if the instrument allows it.\n",
    "\n"
   ]
  },
  {
   "cell_type": "code",
   "execution_count": 6,
   "metadata": {},
   "outputs": [
    {
     "name": "stdout",
     "output_type": "stream",
     "text": [
      "\r",
      "0it [00:00, ?it/s]"
     ]
    },
    {
     "name": "stdout",
     "output_type": "stream",
     "text": [
      "\r",
      "Upgrading database; v0 -> v1: : 0it [00:00, ?it/s]"
     ]
    },
    {
     "name": "stdout",
     "output_type": "stream",
     "text": [
      "\r",
      "Upgrading database; v0 -> v1: : 0it [00:00, ?it/s]"
     ]
    },
    {
     "name": "stdout",
     "output_type": "stream",
     "text": [
      "\n",
      "\r",
      "  0%|          | 0/1 [00:00<?, ?it/s]"
     ]
    },
    {
     "name": "stdout",
     "output_type": "stream",
     "text": [
      "\r",
      "Upgrading database; v1 -> v2:   0%|          | 0/1 [00:00<?, ?it/s]"
     ]
    },
    {
     "name": "stdout",
     "output_type": "stream",
     "text": [
      "\r",
      "Upgrading database; v1 -> v2: 100%|██████████| 1/1 [00:00<00:00, 1130.84it/s]"
     ]
    },
    {
     "name": "stdout",
     "output_type": "stream",
     "text": [
      "\n",
      "\r",
      "0it [00:00, ?it/s]"
     ]
    },
    {
     "name": "stdout",
     "output_type": "stream",
     "text": [
      "\r",
      "Upgrading database; v2 -> v3: : 0it [00:00, ?it/s]"
     ]
    },
    {
     "name": "stdout",
     "output_type": "stream",
     "text": [
      "\r",
      "Upgrading database; v2 -> v3: : 0it [00:00, ?it/s]"
     ]
    },
    {
     "name": "stdout",
     "output_type": "stream",
     "text": [
      "\n",
      "\r",
      "0it [00:00, ?it/s]"
     ]
    },
    {
     "name": "stdout",
     "output_type": "stream",
     "text": [
      "\r",
      "Upgrading database; v3 -> v4: : 0it [00:00, ?it/s]"
     ]
    },
    {
     "name": "stdout",
     "output_type": "stream",
     "text": [
      "\r",
      "Upgrading database; v3 -> v4: : 0it [00:00, ?it/s]"
     ]
    },
    {
     "name": "stdout",
     "output_type": "stream",
     "text": [
      "\n",
      "\r",
      "  0%|          | 0/1 [00:00<?, ?it/s]"
     ]
    },
    {
     "name": "stdout",
     "output_type": "stream",
     "text": [
      "\r",
      "Upgrading database; v4 -> v5:   0%|          | 0/1 [00:00<?, ?it/s]"
     ]
    },
    {
     "name": "stdout",
     "output_type": "stream",
     "text": [
      "\r",
      "Upgrading database; v4 -> v5: 100%|██████████| 1/1 [00:00<00:00, 785.45it/s]"
     ]
    },
    {
     "name": "stdout",
     "output_type": "stream",
     "text": [
      "\n",
      "\r",
      "0it [00:00, ?it/s]"
     ]
    },
    {
     "name": "stdout",
     "output_type": "stream",
     "text": [
      "\r",
      "Upgrading database; v5 -> v6: : 0it [00:00, ?it/s]"
     ]
    },
    {
     "name": "stdout",
     "output_type": "stream",
     "text": [
      "\r",
      "Upgrading database; v5 -> v6: : 0it [00:00, ?it/s]"
     ]
    },
    {
     "name": "stdout",
     "output_type": "stream",
     "text": [
      "\n",
      "\r",
      "  0%|          | 0/1 [00:00<?, ?it/s]"
     ]
    },
    {
     "name": "stdout",
     "output_type": "stream",
     "text": [
      "\r",
      "Upgrading database; v6 -> v7:   0%|          | 0/1 [00:00<?, ?it/s]"
     ]
    },
    {
     "name": "stdout",
     "output_type": "stream",
     "text": [
      "\r",
      "Upgrading database; v6 -> v7: 100%|██████████| 1/1 [00:00<00:00, 491.83it/s]"
     ]
    },
    {
     "name": "stdout",
     "output_type": "stream",
     "text": [
      "\n",
      "\r",
      "  0%|          | 0/1 [00:00<?, ?it/s]"
     ]
    },
    {
     "name": "stdout",
     "output_type": "stream",
     "text": [
      "\r",
      "Upgrading database; v7 -> v8:   0%|          | 0/1 [00:00<?, ?it/s]"
     ]
    },
    {
     "name": "stdout",
     "output_type": "stream",
     "text": [
      "\r",
      "Upgrading database; v7 -> v8: 100%|██████████| 1/1 [00:00<00:00, 802.28it/s]"
     ]
    },
    {
     "name": "stdout",
     "output_type": "stream",
     "text": [
      "\n",
      "\r",
      "  0%|          | 0/1 [00:00<?, ?it/s]"
     ]
    },
    {
     "name": "stdout",
     "output_type": "stream",
     "text": [
      "\r",
      "Upgrading database; v8 -> v9:   0%|          | 0/1 [00:00<?, ?it/s]"
     ]
    },
    {
     "name": "stdout",
     "output_type": "stream",
     "text": [
      "\r",
      "Upgrading database; v8 -> v9: 100%|██████████| 1/1 [00:00<00:00, 1137.28it/s]"
     ]
    },
    {
     "name": "stdout",
     "output_type": "stream",
     "text": [
      "\n"
     ]
    },
    {
     "data": {
      "text/plain": [
       "tutorial_ParameterWithSetpoints#no sample#1@/home/vsts/work/1/s/docs/examples/Parameters/tutorial_paramter_with_setpoints.db\n",
       "----------------------------------------------------------------------------------------------------------------------------"
      ]
     },
     "execution_count": 6,
     "metadata": {},
     "output_type": "execute_result"
    }
   ],
   "source": [
    "tutorial_db_path = os.path.join(os.getcwd(), 'tutorial_paramter_with_setpoints.db')\n",
    "initialise_or_create_database_at(tutorial_db_path)\n",
    "load_or_create_experiment(experiment_name='tutorial_ParameterWithSetpoints', sample_name=\"no sample\")"
   ]
  },
  {
   "cell_type": "code",
   "execution_count": 7,
   "metadata": {},
   "outputs": [],
   "source": [
    "a = DummySpectrumAnalyzer('foobar')"
   ]
  },
  {
   "cell_type": "markdown",
   "metadata": {},
   "source": [
    "First we setup the limits of the spectrum"
   ]
  },
  {
   "cell_type": "code",
   "execution_count": 8,
   "metadata": {},
   "outputs": [],
   "source": [
    "a.f_start(0)\n",
    "a.f_stop(500)\n",
    "a.n_points(501)"
   ]
  },
  {
   "cell_type": "markdown",
   "metadata": {},
   "source": [
    "And we can grab the frequency axis"
   ]
  },
  {
   "cell_type": "code",
   "execution_count": 9,
   "metadata": {},
   "outputs": [
    {
     "data": {
      "text/plain": [
       "501"
      ]
     },
     "execution_count": 9,
     "metadata": {},
     "output_type": "execute_result"
    }
   ],
   "source": [
    "a.n_points()"
   ]
  },
  {
   "cell_type": "code",
   "execution_count": 10,
   "metadata": {
    "scrolled": false
   },
   "outputs": [
    {
     "data": {
      "text/plain": [
       "501"
      ]
     },
     "execution_count": 10,
     "metadata": {},
     "output_type": "execute_result"
    }
   ],
   "source": [
    "freq_axis = a.freq_axis()\n",
    "len(freq_axis)"
   ]
  },
  {
   "cell_type": "code",
   "execution_count": 11,
   "metadata": {},
   "outputs": [
    {
     "data": {
      "text/plain": [
       "array([0., 1., 2., 3., 4., 5., 6., 7., 8., 9.])"
      ]
     },
     "execution_count": 11,
     "metadata": {},
     "output_type": "execute_result"
    }
   ],
   "source": [
    "freq_axis[:10]"
   ]
  },
  {
   "cell_type": "markdown",
   "metadata": {},
   "source": [
    "As expected we get a result wit 501 points as we asked for an axis with 501 points. "
   ]
  },
  {
   "cell_type": "markdown",
   "metadata": {},
   "source": [
    "Above we have added a validator to the `freq_axis` parameter encoding the fact that this is an Array with `n_points`. Note that we do not have to supply the number of points as an integer but can supply a function that returns the valid number of points. This would normally be a QCoDeS parameter.\n",
    "\n",
    "This will be checked if we validate the output."
   ]
  },
  {
   "cell_type": "code",
   "execution_count": 12,
   "metadata": {},
   "outputs": [],
   "source": [
    "a.freq_axis.validate(a.freq_axis.get())"
   ]
  },
  {
   "cell_type": "markdown",
   "metadata": {},
   "source": [
    "Naturally, we can also get the spectrum. Getting the spectrum will automatically perform validation both for the shape of the parameter itself and the relation to the setpoint parameter(s)"
   ]
  },
  {
   "cell_type": "code",
   "execution_count": 13,
   "metadata": {
    "scrolled": true
   },
   "outputs": [
    {
     "data": {
      "text/plain": [
       "501"
      ]
     },
     "execution_count": 13,
     "metadata": {},
     "output_type": "execute_result"
    }
   ],
   "source": [
    "spectrum = a.spectrum.get()\n",
    "len(spectrum)"
   ]
  },
  {
   "cell_type": "markdown",
   "metadata": {},
   "source": [
    "When we validate a `ParameterWithSetpoints`, we automatically validate that the shape is consistent between the parameters and its setpoints. As well as validating the shape as above."
   ]
  },
  {
   "cell_type": "code",
   "execution_count": 14,
   "metadata": {},
   "outputs": [],
   "source": [
    "a.spectrum.validate(a.spectrum.get())"
   ]
  },
  {
   "cell_type": "markdown",
   "metadata": {},
   "source": [
    "The consistent shapes can be validated explicitly."
   ]
  },
  {
   "cell_type": "code",
   "execution_count": 15,
   "metadata": {},
   "outputs": [],
   "source": [
    "a.spectrum.validate_consistent_shape()"
   ]
  },
  {
   "cell_type": "markdown",
   "metadata": {},
   "source": [
    "We can inspect the setpoints of the spectrum."
   ]
  },
  {
   "cell_type": "code",
   "execution_count": 16,
   "metadata": {},
   "outputs": [
    {
     "data": {
      "text/plain": [
       "(<__main__.GeneratedSetPoints: freq_axis at 139701865158480>,)"
      ]
     },
     "execution_count": 16,
     "metadata": {},
     "output_type": "execute_result"
    }
   ],
   "source": [
    "a.spectrum.setpoints"
   ]
  },
  {
   "cell_type": "markdown",
   "metadata": {},
   "source": [
    "Or even change them."
   ]
  },
  {
   "cell_type": "code",
   "execution_count": 17,
   "metadata": {},
   "outputs": [],
   "source": [
    "a.spectrum.setpoints = (a.freq_axis,)"
   ]
  },
  {
   "cell_type": "markdown",
   "metadata": {},
   "source": [
    "## Measurement"
   ]
  },
  {
   "cell_type": "markdown",
   "metadata": {},
   "source": [
    "We can also directly consume the parameter in a measurement without defining the setpoints of the parameter again. The setpoints are automatically obtained from the definition of the `ParameterWithSetpoint` instance. "
   ]
  },
  {
   "cell_type": "code",
   "execution_count": 18,
   "metadata": {},
   "outputs": [
    {
     "name": "stdout",
     "output_type": "stream",
     "text": [
      "Starting experimental run with id: 1. \n"
     ]
    }
   ],
   "source": [
    "meas = Measurement()\n",
    "meas.register_parameter(a.spectrum)\n",
    "\n",
    "with meas.run() as datasaver:\n",
    "    datasaver.add_result((a.freq_axis, a.freq_axis()),\n",
    "                         (a.spectrum, a.spectrum()))\n",
    "    dataset = datasaver.dataset"
   ]
  },
  {
   "cell_type": "markdown",
   "metadata": {},
   "source": [
    "And plot it"
   ]
  },
  {
   "cell_type": "code",
   "execution_count": 19,
   "metadata": {},
   "outputs": [
    {
     "data": {
      "text/plain": [
       "([<matplotlib.axes._subplots.AxesSubplot at 0x7f0ee01ee310>], [None])"
      ]
     },
     "execution_count": 19,
     "metadata": {},
     "output_type": "execute_result"
    },
    {
     "data": {
      "image/png": "[encoded data removed]",
      "text/plain": [
       "<Figure size 432x288 with 1 Axes>"
      ]
     },
     "metadata": {
      "needs_background": "light"
     },
     "output_type": "display_data"
    }
   ],
   "source": [
    "plot_dataset(dataset)"
   ]
  },
  {
   "cell_type": "markdown",
   "metadata": {},
   "source": [
    "To reduce the amount of typing a simple convenience function is provided that will take a `ParameterWithSetpoints` and get both its values and the setpoints values and return them as tuples for direct insertion into the Dataset."
   ]
  },
  {
   "cell_type": "code",
   "execution_count": 20,
   "metadata": {
    "scrolled": true
   },
   "outputs": [
    {
     "data": {
      "text/plain": [
       "[(<__main__.GeneratedSetPoints: freq_axis at 139701865158480>,\n",
       "  array([  0.,   1.,   2.,   3.,   4.,   5.,   6.,   7.,   8.,   9.,  10.,\n",
       "          11.,  12.,  13.,  14.,  15.,  16.,  17.,  18.,  19.,  20.,  21.,\n",
       "          22.,  23.,  24.,  25.,  26.,  27.,  28.,  29.,  30.,  31.,  32.,\n",
       "          33.,  34.,  35.,  36.,  37.,  38.,  39.,  40.,  41.,  42.,  43.,\n",
       "          44.,  45.,  46.,  47.,  48.,  49.,  50.,  51.,  52.,  53.,  54.,\n",
       "          55.,  56.,  57.,  58.,  59.,  60.,  61.,  62.,  63.,  64.,  65.,\n",
       "          66.,  67.,  68.,  69.,  70.,  71.,  72.,  73.,  74.,  75.,  76.,\n",
       "          77.,  78.,  79.,  80.,  81.,  82.,  83.,  84.,  85.,  86.,  87.,\n",
       "          88.,  89.,  90.,  91.,  92.,  93.,  94.,  95.,  96.,  97.,  98.,\n",
       "          99., 100., 101., 102., 103., 104., 105., 106., 107., 108., 109.,\n",
       "         110., 111., 112., 113., 114., 115., 116., 117., 118., 119., 120.,\n",
       "         121., 122., 123., 124., 125., 126., 127., 128., 129., 130., 131.,\n",
       "         132., 133., 134., 135., 136., 137., 138., 139., 140., 141., 142.,\n",
       "         143., 144., 145., 146., 147., 148., 149., 150., 151., 152., 153.,\n",
       "         154., 155., 156., 157., 158., 159., 160., 161., 162., 163., 164.,\n",
       "         165., 166., 167., 168., 169., 170., 171., 172., 173., 174., 175.,\n",
       "         176., 177., 178., 179., 180., 181., 182., 183., 184., 185., 186.,\n",
       "         187., 188., 189., 190., 191., 192., 193., 194., 195., 196., 197.,\n",
       "         198., 199., 200., 201., 202., 203., 204., 205., 206., 207., 208.,\n",
       "         209., 210., 211., 212., 213., 214., 215., 216., 217., 218., 219.,\n",
       "         220., 221., 222., 223., 224., 225., 226., 227., 228., 229., 230.,\n",
       "         231., 232., 233., 234., 235., 236., 237., 238., 239., 240., 241.,\n",
       "         242., 243., 244., 245., 246., 247., 248., 249., 250., 251., 252.,\n",
       "         253., 254., 255., 256., 257., 258., 259., 260., 261., 262., 263.,\n",
       "         264., 265., 266., 267., 268., 269., 270., 271., 272., 273., 274.,\n",
       "         275., 276., 277., 278., 279., 280., 281., 282., 283., 284., 285.,\n",
       "         286., 287., 288., 289., 290., 291., 292., 293., 294., 295., 296.,\n",
       "         297., 298., 299., 300., 301., 302., 303., 304., 305., 306., 307.,\n",
       "         308., 309., 310., 311., 312., 313., 314., 315., 316., 317., 318.,\n",
       "         319., 320., 321., 322., 323., 324., 325., 326., 327., 328., 329.,\n",
       "         330., 331., 332., 333., 334., 335., 336., 337., 338., 339., 340.,\n",
       "         341., 342., 343., 344., 345., 346., 347., 348., 349., 350., 351.,\n",
       "         352., 353., 354., 355., 356., 357., 358., 359., 360., 361., 362.,\n",
       "         363., 364., 365., 366., 367., 368., 369., 370., 371., 372., 373.,\n",
       "         374., 375., 376., 377., 378., 379., 380., 381., 382., 383., 384.,\n",
       "         385., 386., 387., 388., 389., 390., 391., 392., 393., 394., 395.,\n",
       "         396., 397., 398., 399., 400., 401., 402., 403., 404., 405., 406.,\n",
       "         407., 408., 409., 410., 411., 412., 413., 414., 415., 416., 417.,\n",
       "         418., 419., 420., 421., 422., 423., 424., 425., 426., 427., 428.,\n",
       "         429., 430., 431., 432., 433., 434., 435., 436., 437., 438., 439.,\n",
       "         440., 441., 442., 443., 444., 445., 446., 447., 448., 449., 450.,\n",
       "         451., 452., 453., 454., 455., 456., 457., 458., 459., 460., 461.,\n",
       "         462., 463., 464., 465., 466., 467., 468., 469., 470., 471., 472.,\n",
       "         473., 474., 475., 476., 477., 478., 479., 480., 481., 482., 483.,\n",
       "         484., 485., 486., 487., 488., 489., 490., 491., 492., 493., 494.,\n",
       "         495., 496., 497., 498., 499., 500.])),\n",
       " (<__main__.DummyArray: spectrum at 139701860739408>,\n",
       "  array([2.95056949e-01, 9.46199824e-01, 9.73332988e-01, 4.82206370e-01,\n",
       "         1.62616871e-01, 6.63162143e-01, 9.55369761e-01, 5.13442203e-01,\n",
       "         7.46029554e-01, 8.42359807e-01, 6.25248964e-01, 5.05718484e-01,\n",
       "         7.11827208e-01, 6.75837713e-01, 3.17012521e-02, 4.18186652e-02,\n",
       "         3.88623414e-01, 7.75303489e-01, 6.21272404e-01, 6.94447851e-01,\n",
       "         7.03731773e-01, 8.81773636e-01, 8.91541565e-01, 7.62993044e-01,\n",
       "         3.59316280e-01, 4.13818352e-01, 8.44557330e-01, 6.54840591e-01,\n",
       "         1.94204800e-01, 7.80058611e-01, 7.82777559e-01, 9.75554247e-01,\n",
       "         6.64474305e-01, 8.77246015e-01, 3.51055318e-02, 2.15726123e-01,\n",
       "         1.95260602e-01, 1.55330764e-01, 6.23646948e-01, 4.55325087e-01,\n",
       "         2.93713877e-01, 3.59166095e-01, 3.62787471e-01, 7.22859344e-01,\n",
       "         7.90005517e-01, 5.04059198e-01, 3.92329253e-01, 7.50348418e-01,\n",
       "         6.95140524e-01, 1.78534992e-01, 1.48145625e-01, 9.17411751e-01,\n",
       "         7.45300532e-01, 1.68563168e-01, 3.11953469e-02, 6.29428372e-01,\n",
       "         1.88751461e-01, 6.99284986e-01, 8.04873998e-01, 5.63091349e-01,\n",
       "         6.87315633e-01, 4.46440110e-02, 8.49866401e-01, 9.43225159e-01,\n",
       "         2.58223713e-01, 8.30279338e-01, 4.15723617e-02, 2.66224264e-01,\n",
       "         4.21724665e-01, 3.35054640e-02, 4.41627965e-01, 4.96836114e-01,\n",
       "         7.10769857e-01, 1.93280075e-01, 9.44917915e-01, 7.07219738e-03,\n",
       "         6.76937711e-01, 2.55702993e-01, 8.09096275e-01, 1.75302506e-01,\n",
       "         4.09741676e-01, 5.17867586e-01, 9.25451200e-01, 7.05093123e-01,\n",
       "         2.97634889e-01, 9.08135536e-01, 2.59820373e-01, 1.91537139e-01,\n",
       "         6.87779770e-01, 4.01446593e-01, 2.48415534e-01, 2.79663050e-01,\n",
       "         7.92976734e-01, 5.80651924e-01, 1.87115364e-01, 3.43520434e-01,\n",
       "         1.38983669e-01, 1.93652935e-01, 7.74623371e-01, 5.49230023e-01,\n",
       "         4.82474964e-01, 8.16710204e-01, 6.04270126e-01, 1.68997391e-03,\n",
       "         9.49687993e-01, 5.87089579e-01, 3.49886172e-01, 3.45580748e-01,\n",
       "         2.29467365e-02, 2.70355998e-01, 2.58646307e-01, 3.98425785e-01,\n",
       "         1.26565153e-01, 6.84215087e-01, 2.83677543e-01, 1.77036144e-01,\n",
       "         7.57757328e-01, 5.25319630e-01, 7.45206263e-01, 5.04732754e-02,\n",
       "         1.55423763e-02, 7.20586117e-01, 1.59788156e-01, 5.62227735e-01,\n",
       "         3.28875333e-01, 8.23445583e-01, 3.36729406e-01, 8.48999869e-01,\n",
       "         5.57256747e-02, 4.57685329e-01, 4.27113335e-01, 4.53062714e-01,\n",
       "         4.70736049e-01, 8.84485599e-01, 1.35207443e-02, 5.82480781e-01,\n",
       "         5.04300658e-01, 4.95010781e-02, 9.58152596e-01, 1.84219746e-01,\n",
       "         3.17539982e-02, 9.43849803e-01, 1.98088626e-01, 9.46312523e-01,\n",
       "         4.56363198e-01, 8.01169121e-01, 6.21124106e-02, 1.02355225e-01,\n",
       "         3.35423156e-02, 4.37881062e-01, 4.57659105e-01, 5.19196674e-01,\n",
       "         7.12534376e-01, 5.62456384e-01, 9.52448483e-01, 5.73833537e-01,\n",
       "         6.88322846e-01, 8.98180276e-01, 5.03571878e-01, 8.55348305e-01,\n",
       "         1.31125214e-01, 7.72743693e-01, 5.46378535e-01, 2.41347729e-01,\n",
       "         8.35197444e-01, 4.14906501e-01, 9.18759684e-01, 5.79477763e-01,\n",
       "         8.93785542e-01, 6.41083237e-01, 6.94863270e-01, 4.91214656e-01,\n",
       "         3.29816135e-02, 5.78596406e-01, 5.97370358e-01, 4.26093651e-01,\n",
       "         7.41547981e-01, 6.62556788e-01, 8.98929941e-01, 7.40332031e-01,\n",
       "         6.08114804e-01, 1.21304061e-01, 9.25892467e-01, 3.65572542e-01,\n",
       "         2.27579752e-01, 5.94663298e-01, 7.87935228e-02, 1.56812258e-01,\n",
       "         9.39319364e-01, 1.53819315e-01, 2.56685942e-02, 9.21485616e-01,\n",
       "         3.78367907e-02, 2.27574536e-01, 3.13716188e-02, 4.13150459e-01,\n",
       "         9.68585806e-01, 2.82835554e-01, 1.66551224e-01, 6.76947022e-01,\n",
       "         2.81089958e-01, 9.90530982e-02, 7.76445014e-01, 5.46075388e-01,\n",
       "         1.75810505e-05, 3.21472043e-01, 1.18113549e-01, 1.95419330e-01,\n",
       "         9.95665945e-01, 3.65890492e-01, 9.92816311e-01, 2.03721587e-02,\n",
       "         6.49987736e-01, 4.63743447e-01, 7.08155693e-01, 5.96391447e-01,\n",
       "         3.50362546e-01, 2.14970709e-01, 3.85301660e-01, 5.13858543e-01,\n",
       "         2.64319914e-02, 2.31093379e-01, 5.39989934e-01, 4.20348518e-01,\n",
       "         7.68269156e-01, 5.68923021e-01, 6.45930524e-02, 5.55917188e-01,\n",
       "         9.35603054e-01, 9.04146161e-01, 7.09584920e-01, 4.48490118e-01,\n",
       "         6.19089325e-01, 4.24823929e-02, 3.30418640e-01, 3.55601374e-01,\n",
       "         8.91603121e-01, 1.04857226e-01, 4.44910083e-01, 4.14055355e-01,\n",
       "         1.02226233e-01, 6.59932577e-01, 6.38334385e-01, 6.17852643e-01,\n",
       "         2.92005543e-01, 1.47503373e-01, 5.68225653e-01, 6.00472234e-01,\n",
       "         6.69965422e-01, 7.26223145e-01, 1.78172087e-01, 9.92835869e-01,\n",
       "         9.91601125e-01, 9.95943073e-01, 8.91021221e-03, 8.15893959e-01,\n",
       "         1.59549104e-01, 9.92703391e-02, 9.26765527e-01, 6.38711068e-01,\n",
       "         3.22536674e-01, 5.24993603e-02, 2.89760921e-01, 5.51973970e-01,\n",
       "         8.51956120e-02, 9.06085304e-01, 7.68453181e-01, 2.39610827e-01,\n",
       "         4.62050020e-02, 9.45215020e-01, 2.57832019e-01, 7.40115958e-01,\n",
       "         2.38915213e-01, 8.52941118e-01, 3.54409254e-01, 2.14139303e-01,\n",
       "         6.50736965e-01, 7.83589259e-01, 1.07823650e-01, 5.66646056e-01,\n",
       "         7.00588667e-01, 2.14721741e-01, 3.45760642e-01, 4.72025337e-01,\n",
       "         2.71221851e-01, 9.20961104e-01, 6.85825465e-01, 8.76439151e-01,\n",
       "         1.77637786e-01, 9.31570930e-01, 3.41135687e-01, 7.71354167e-01,\n",
       "         5.73243456e-01, 8.44558608e-01, 4.63098872e-01, 4.24698190e-01,\n",
       "         5.53738065e-01, 8.09398999e-01, 8.56257381e-01, 4.37144906e-02,\n",
       "         8.50963217e-01, 5.95296993e-02, 7.26217889e-01, 1.01879491e-01,\n",
       "         7.89345147e-02, 9.09778024e-01, 6.08336800e-01, 8.29295726e-01,\n",
       "         6.19285771e-01, 1.09688466e-01, 2.96093571e-01, 6.02003243e-01,\n",
       "         3.57678185e-01, 5.06617154e-01, 3.41897764e-01, 2.39463221e-01,\n",
       "         2.95130926e-02, 8.87864952e-01, 8.26509059e-01, 6.38318698e-01,\n",
       "         5.46798218e-01, 7.62275740e-01, 4.49496319e-01, 3.07376285e-01,\n",
       "         8.12954929e-01, 6.92178436e-01, 9.25588606e-01, 9.64084621e-01,\n",
       "         9.02499790e-01, 6.54724633e-02, 4.97925067e-01, 2.67606512e-01,\n",
       "         4.08456636e-01, 7.23774867e-01, 8.12975589e-01, 4.34938351e-01,\n",
       "         9.42372956e-01, 5.88435827e-01, 3.10812037e-01, 9.17895290e-01,\n",
       "         9.30344824e-01, 1.09143856e-01, 7.37130994e-01, 8.27979497e-01,\n",
       "         5.69271141e-01, 4.80564670e-01, 8.81175438e-02, 3.51502676e-01,\n",
       "         2.63685601e-01, 5.85391288e-01, 7.31892283e-01, 1.65493032e-01,\n",
       "         7.79992362e-01, 7.48403418e-01, 5.53785755e-01, 2.84620920e-01,\n",
       "         7.08663269e-01, 1.85692291e-01, 3.26554370e-01, 5.37325211e-01,\n",
       "         1.62118217e-01, 8.25743394e-01, 8.32785036e-01, 1.02225159e-01,\n",
       "         1.06672215e-01, 2.08926190e-01, 7.20503692e-01, 8.49023932e-01,\n",
       "         9.97525046e-01, 9.21462170e-01, 6.65369480e-01, 9.58224940e-01,\n",
       "         1.69774169e-01, 1.50031273e-01, 1.38349770e-01, 4.97541346e-01,\n",
       "         9.54769809e-01, 8.11714134e-01, 6.63836725e-01, 8.24278690e-01,\n",
       "         5.23305283e-02, 9.57344378e-02, 6.30459995e-01, 7.08517394e-02,\n",
       "         8.58094311e-01, 2.63319458e-01, 4.97888495e-01, 6.76880316e-01,\n",
       "         1.06281775e-01, 5.51778114e-01, 1.26024462e-01, 8.96732910e-01,\n",
       "         4.23343152e-01, 3.38791964e-02, 1.50225916e-01, 7.79532690e-02,\n",
       "         2.90203923e-01, 3.61816886e-01, 8.66484704e-01, 6.05040933e-01,\n",
       "         3.42497969e-01, 9.61040559e-01, 2.91845670e-01, 4.42964579e-01,\n",
       "         9.13369194e-01, 6.74623028e-01, 9.25465567e-02, 4.01995821e-01,\n",
       "         9.76398876e-01, 5.07201089e-01, 2.98551529e-01, 9.84961514e-01,\n",
       "         5.61569731e-01, 8.24468705e-02, 9.34610931e-01, 5.24980403e-01,\n",
       "         6.70090944e-01, 8.96784261e-01, 5.25723747e-01, 5.32074874e-01,\n",
       "         2.07103288e-01, 7.36892233e-01, 4.17048517e-01, 4.33442790e-01,\n",
       "         5.35695653e-01, 5.23059679e-02, 5.78955662e-01, 6.29550680e-02,\n",
       "         1.74012686e-01, 3.45654141e-01, 9.32985374e-01, 5.81979660e-03,\n",
       "         5.82553378e-01, 6.05971675e-01, 1.64167360e-01, 9.48923367e-01,\n",
       "         3.84772510e-02, 1.40538738e-01, 3.90094333e-01, 4.45021411e-01,\n",
       "         8.66051208e-01, 1.49231099e-02, 2.71912224e-01, 1.32446516e-01,\n",
       "         8.54162609e-01, 2.00425346e-01, 7.79956650e-01, 4.74498971e-01,\n",
       "         9.76932345e-01, 7.84237955e-01, 7.44365211e-01, 8.95554665e-01,\n",
       "         2.15630147e-01, 8.30732309e-01, 8.57822417e-01, 5.33796974e-01,\n",
       "         3.21651695e-01, 3.18325847e-01, 6.30965229e-01, 9.64002074e-01,\n",
       "         8.70813412e-01, 4.66755481e-01, 8.14109363e-01, 4.06557395e-01,\n",
       "         8.35149044e-02, 1.72668133e-01, 2.06362075e-01, 8.60962105e-01,\n",
       "         3.78656503e-01, 8.01701731e-01, 8.80837119e-01, 3.09969451e-01,\n",
       "         5.73612568e-01, 7.01879106e-01, 6.30263290e-01, 3.27338048e-01,\n",
       "         7.59469277e-03, 5.85097062e-01, 4.03102148e-01, 8.70263285e-01,\n",
       "         9.32998478e-01, 3.58943074e-01, 7.70388925e-01, 6.72604006e-01,\n",
       "         8.45875888e-01, 5.98319315e-01, 1.01240629e-01, 5.04323431e-01,\n",
       "         4.88657141e-01, 1.71266733e-01, 1.11856309e-01, 1.16216393e-02,\n",
       "         9.82325485e-01, 4.92269431e-02, 7.61305771e-01, 7.41569915e-01,\n",
       "         5.60586078e-01, 6.81397158e-01, 4.62855502e-01, 5.53289338e-01,\n",
       "         2.18251110e-01]))]"
      ]
     },
     "execution_count": 20,
     "metadata": {},
     "output_type": "execute_result"
    }
   ],
   "source": [
    "expand_setpoints_helper(a.spectrum)"
   ]
  },
  {
   "cell_type": "code",
   "execution_count": 21,
   "metadata": {},
   "outputs": [
    {
     "name": "stdout",
     "output_type": "stream",
     "text": [
      "Starting experimental run with id: 2. \n"
     ]
    }
   ],
   "source": [
    "meas = Measurement()\n",
    "meas.register_parameter(a.spectrum)\n",
    "\n",
    "with meas.run() as datasaver:\n",
    "    datasaver.add_result(*expand_setpoints_helper(a.spectrum))\n",
    "    \n",
    "    dataid = datasaver.run_id"
   ]
  },
  {
   "cell_type": "code",
   "execution_count": null,
   "metadata": {},
   "outputs": [],
   "source": []
  }
 ],
 "metadata": {
  "kernelspec": {
   "display_name": "Python 3",
   "language": "python",
   "name": "python3"
  },
  "language_info": {
   "codemirror_mode": {
    "name": "ipython",
    "version": 3
   },
   "file_extension": ".py",
   "mimetype": "text/x-python",
   "name": "python",
   "nbconvert_exporter": "python",
   "pygments_lexer": "ipython3",
   "version": "3.7.7"
  },
  "toc": {
   "base_numbering": 1,
   "nav_menu": {},
   "number_sections": true,
   "sideBar": true,
   "skip_h1_title": false,
   "title_cell": "Table of Contents",
   "title_sidebar": "Contents",
   "toc_cell": false,
   "toc_position": {},
   "toc_section_display": true,
   "toc_window_display": false
  },
  "varInspector": {
   "cols": {
    "lenName": 16,
    "lenType": 16,
    "lenVar": 40
   },
   "kernels_config": {
    "python": {
     "delete_cmd_postfix": "",
     "delete_cmd_prefix": "del ",
     "library": "var_list.py",
     "varRefreshCmd": "print(var_dic_list())"
    },
    "r": {
     "delete_cmd_postfix": ") ",
     "delete_cmd_prefix": "rm(",
     "library": "var_list.r",
     "varRefreshCmd": "cat(var_dic_list()) "
    }
   },
   "types_to_exclude": [
    "module",
    "function",
    "builtin_function_or_method",
    "instance",
    "_Feature"
   ],
   "window_display": false
  }
 },
 "nbformat": 4,
 "nbformat_minor": 2
}
