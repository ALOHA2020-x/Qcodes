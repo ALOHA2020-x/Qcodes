{
 "cells": [
  {
   "cell_type": "markdown",
   "metadata": {},
   "source": [
    "# Simple Example of ParameterWithSetpoints\n",
    "This notebook provides an example for writing a simple driver with a parameter that has setpoints. Let's name this parameter that has setpoints as \"y\". Then, the setpoints, say \"x1, x2, x3 ..\", are the parameters on which the parameter \n",
    "\"y\" depends upon. Meaning \"y\" is a function of \"x1, x2, x3 ...\" where \"x1, x2, x3 ...\" are known as the setpoints of parameter \"y\".\n",
    "\n",
    "This is most likely to be useful for instruments that return arrays of results. In this notebook, we will show an example of this."
   ]
  },
  {
   "cell_type": "code",
   "execution_count": 1,
   "metadata": {},
   "outputs": [],
   "source": [
    "import numpy as np\n",
    "import os"
   ]
  },
  {
   "cell_type": "code",
   "execution_count": 2,
   "metadata": {},
   "outputs": [
    {
     "name": "stdout",
     "output_type": "stream",
     "text": [
      "Logging hadn't been started.\n",
      "Activating auto-logging. Current session state plus future input saved.\n",
      "Filename       : /home/vsts/.qcodes/logs/command_history.log\n",
      "Mode           : append\n",
      "Output logging : True\n",
      "Raw input log  : False\n",
      "Timestamping   : True\n",
      "State          : active\n"
     ]
    },
    {
     "name": "stdout",
     "output_type": "stream",
     "text": [
      "Qcodes Logfile : /home/vsts/.qcodes/logs/200821-21332-qcodes.log\n"
     ]
    }
   ],
   "source": [
    "from qcodes.dataset.plotting import plot_dataset\n",
    "from qcodes.utils.validators import Numbers, Arrays\n",
    "from qcodes.instrument.base import Instrument\n",
    "from qcodes.dataset.measurements import Measurement"
   ]
  },
  {
   "cell_type": "code",
   "execution_count": 3,
   "metadata": {},
   "outputs": [],
   "source": [
    "from qcodes.dataset.sqlite.database import initialise_or_create_database_at\n",
    "from qcodes.dataset.experiment_container import load_or_create_experiment"
   ]
  },
  {
   "cell_type": "code",
   "execution_count": 4,
   "metadata": {},
   "outputs": [],
   "source": [
    "from qcodes.instrument.parameter import ParameterWithSetpoints, Parameter\n",
    "from qcodes.instrument.parameter import expand_setpoints_helper"
   ]
  },
  {
   "cell_type": "markdown",
   "metadata": {},
   "source": [
    "First, we define a dummy instrument that returns something like a frequency spectrum starting from a frequency given by `f_start` to a frequency given by `f_stop` in `n_points` steps. \n",
    "\n",
    "The extra functionality of the `ParameterWithSetpoints` is implemented by giving it a reference to one or more parameters that acts like its setpoints. \n",
    "\n",
    "To setup a `ParameterWithSetpoints` we have to do two things in addition to what we do for a normal parameter.\n",
    "\n",
    "* Define one or more parameter for the setpoints (one for each dimension of the array and let the `ParameterWithSetpoints` know that these are the setpoints.\n",
    "* Give both the setpoints parameter(s) and the `ParameterWithSetpoints` a `validator` of type `Arrays` with a shape. The shapes should be such that the combined shape of the setpoints matches the shape of the `ParameterWithSetpoints`. Note that if the shape changes with the setting of the instrument, it can be defined by another parameter as shown below. "
   ]
  },
  {
   "cell_type": "code",
   "execution_count": 5,
   "metadata": {},
   "outputs": [],
   "source": [
    "class GeneratedSetPoints(Parameter):\n",
    "    \"\"\"\n",
    "    A parameter that generates a setpoint array from start, stop and num points\n",
    "    parameters.\n",
    "    \"\"\"\n",
    "    def __init__(self, startparam, stopparam, numpointsparam, *args, **kwargs):\n",
    "        super().__init__(*args, **kwargs)\n",
    "        self._startparam = startparam\n",
    "        self._stopparam = stopparam\n",
    "        self._numpointsparam = numpointsparam\n",
    "\n",
    "    def get_raw(self):\n",
    "        return np.linspace(self._startparam(), self._stopparam(),\n",
    "                              self._numpointsparam())\n",
    "\n",
    "class DummyArray(ParameterWithSetpoints):\n",
    "    \n",
    "    def get_raw(self):\n",
    "        npoints = self.root_instrument.n_points.get_latest()\n",
    "        return np.random.rand(npoints)\n",
    "    \n",
    "\n",
    "class DummySpectrumAnalyzer(Instrument):\n",
    "    \n",
    "    def __init__(self, name, **kwargs):\n",
    "        \n",
    "        super().__init__(name, **kwargs)\n",
    "            \n",
    "\n",
    "        self.add_parameter('f_start',\n",
    "                           initial_value=0,\n",
    "                           unit='Hz',\n",
    "                           label='f start',\n",
    "                           vals=Numbers(0,1e3),\n",
    "                           get_cmd=None,\n",
    "                           set_cmd=None)\n",
    "\n",
    "        self.add_parameter('f_stop',\n",
    "                           unit='Hz',\n",
    "                           label='f stop',\n",
    "                           vals=Numbers(1,1e3),\n",
    "                           get_cmd=None,\n",
    "                           set_cmd=None)\n",
    "\n",
    "        self.add_parameter('n_points',\n",
    "                           unit='',\n",
    "                           initial_value=10,\n",
    "                           vals=Numbers(1,1e3),\n",
    "                           get_cmd=None,\n",
    "                           set_cmd=None)\n",
    "        \n",
    "        self.add_parameter('freq_axis',\n",
    "                           unit='Hz',\n",
    "                           label='Freq Axis',\n",
    "                           parameter_class=GeneratedSetPoints,\n",
    "                           startparam=self.f_start,\n",
    "                           stopparam=self.f_stop,\n",
    "                           numpointsparam=self.n_points,\n",
    "                           vals=Arrays(shape=(self.n_points.get_latest,)))\n",
    "                           \n",
    "        self.add_parameter('spectrum',\n",
    "                   unit='dBm',\n",
    "                   setpoints=(self.freq_axis,),\n",
    "                   label='Spectrum',\n",
    "                   parameter_class=DummyArray,\n",
    "                   vals=Arrays(shape=(self.n_points.get_latest,)))\n",
    "                "
   ]
  },
  {
   "cell_type": "markdown",
   "metadata": {},
   "source": [
    "In the above example, the shape is defined by the parameter `n_points` that defines how many samples our `DummySpectrumAnalyzer` returns.\n",
    "\n",
    "This means that the validation will call the function to get `n_points` twice for each `get` of the parameter. This may be too slow, however, if you (as the driver-writer) can guarantee that the cached value for `n_points` will never be out of sync with the value stored in the instrument, `n_points` may be replaced by it's latest known value such that the `validator` reads:\n",
    "```python\n",
    "vals=Arrays(shape=(self.n_points.get_latest))\n",
    "```\n",
    "\n",
    "This avoids any additional call to the instrument. In the same way, the arguments to the `freq_axis` parameter that defines the start, stop and number of points can be replaced by their latest value if the instrument allows it.\n",
    "\n"
   ]
  },
  {
   "cell_type": "code",
   "execution_count": 6,
   "metadata": {},
   "outputs": [
    {
     "name": "stdout",
     "output_type": "stream",
     "text": [
      "\r",
      "0it [00:00, ?it/s]"
     ]
    },
    {
     "name": "stdout",
     "output_type": "stream",
     "text": [
      "\r",
      "Upgrading database; v0 -> v1: : 0it [00:00, ?it/s]"
     ]
    },
    {
     "name": "stdout",
     "output_type": "stream",
     "text": [
      "\r",
      "Upgrading database; v0 -> v1: : 0it [00:00, ?it/s]"
     ]
    },
    {
     "name": "stdout",
     "output_type": "stream",
     "text": [
      "\n",
      "\r",
      "  0%|          | 0/1 [00:00<?, ?it/s]"
     ]
    },
    {
     "name": "stdout",
     "output_type": "stream",
     "text": [
      "\r",
      "Upgrading database; v1 -> v2:   0%|          | 0/1 [00:00<?, ?it/s]"
     ]
    },
    {
     "name": "stdout",
     "output_type": "stream",
     "text": [
      "\r",
      "Upgrading database; v1 -> v2: 100%|██████████| 1/1 [00:00<00:00, 917.99it/s]"
     ]
    },
    {
     "name": "stdout",
     "output_type": "stream",
     "text": [
      "\n",
      "\r",
      "0it [00:00, ?it/s]"
     ]
    },
    {
     "name": "stdout",
     "output_type": "stream",
     "text": [
      "\r",
      "Upgrading database; v2 -> v3: : 0it [00:00, ?it/s]"
     ]
    },
    {
     "name": "stdout",
     "output_type": "stream",
     "text": [
      "\r",
      "Upgrading database; v2 -> v3: : 0it [00:00, ?it/s]"
     ]
    },
    {
     "name": "stdout",
     "output_type": "stream",
     "text": [
      "\n",
      "\r",
      "0it [00:00, ?it/s]"
     ]
    },
    {
     "name": "stdout",
     "output_type": "stream",
     "text": [
      "\r",
      "Upgrading database; v3 -> v4: : 0it [00:00, ?it/s]"
     ]
    },
    {
     "name": "stdout",
     "output_type": "stream",
     "text": [
      "\r",
      "Upgrading database; v3 -> v4: : 0it [00:00, ?it/s]"
     ]
    },
    {
     "name": "stdout",
     "output_type": "stream",
     "text": [
      "\n",
      "\r",
      "  0%|          | 0/1 [00:00<?, ?it/s]"
     ]
    },
    {
     "name": "stdout",
     "output_type": "stream",
     "text": [
      "\r",
      "Upgrading database; v4 -> v5:   0%|          | 0/1 [00:00<?, ?it/s]"
     ]
    },
    {
     "name": "stdout",
     "output_type": "stream",
     "text": [
      "\r",
      "Upgrading database; v4 -> v5: 100%|██████████| 1/1 [00:00<00:00, 811.91it/s]"
     ]
    },
    {
     "name": "stdout",
     "output_type": "stream",
     "text": [
      "\n",
      "\r",
      "0it [00:00, ?it/s]"
     ]
    },
    {
     "name": "stdout",
     "output_type": "stream",
     "text": [
      "\r",
      "Upgrading database; v5 -> v6: : 0it [00:00, ?it/s]"
     ]
    },
    {
     "name": "stdout",
     "output_type": "stream",
     "text": [
      "\r",
      "Upgrading database; v5 -> v6: : 0it [00:00, ?it/s]"
     ]
    },
    {
     "name": "stdout",
     "output_type": "stream",
     "text": [
      "\n",
      "\r",
      "  0%|          | 0/1 [00:00<?, ?it/s]"
     ]
    },
    {
     "name": "stdout",
     "output_type": "stream",
     "text": [
      "\r",
      "Upgrading database; v6 -> v7:   0%|          | 0/1 [00:00<?, ?it/s]"
     ]
    },
    {
     "name": "stdout",
     "output_type": "stream",
     "text": [
      "\r",
      "Upgrading database; v6 -> v7: 100%|██████████| 1/1 [00:00<00:00, 381.06it/s]"
     ]
    },
    {
     "name": "stdout",
     "output_type": "stream",
     "text": [
      "\n",
      "\r",
      "  0%|          | 0/1 [00:00<?, ?it/s]"
     ]
    },
    {
     "name": "stdout",
     "output_type": "stream",
     "text": [
      "\r",
      "Upgrading database; v7 -> v8:   0%|          | 0/1 [00:00<?, ?it/s]"
     ]
    },
    {
     "name": "stdout",
     "output_type": "stream",
     "text": [
      "\r",
      "Upgrading database; v7 -> v8: 100%|██████████| 1/1 [00:00<00:00, 886.75it/s]"
     ]
    },
    {
     "name": "stdout",
     "output_type": "stream",
     "text": [
      "\n",
      "\r",
      "  0%|          | 0/1 [00:00<?, ?it/s]"
     ]
    },
    {
     "name": "stdout",
     "output_type": "stream",
     "text": [
      "\r",
      "Upgrading database; v8 -> v9:   0%|          | 0/1 [00:00<?, ?it/s]"
     ]
    },
    {
     "name": "stdout",
     "output_type": "stream",
     "text": [
      "\r",
      "Upgrading database; v8 -> v9: 100%|██████████| 1/1 [00:00<00:00, 953.90it/s]"
     ]
    },
    {
     "name": "stdout",
     "output_type": "stream",
     "text": [
      "\n"
     ]
    },
    {
     "data": {
      "text/plain": [
       "tutorial_ParameterWithSetpoints#no sample#1@/home/vsts/work/1/s/docs/examples/Parameters/tutorial_paramter_with_setpoints.db\n",
       "----------------------------------------------------------------------------------------------------------------------------"
      ]
     },
     "execution_count": 6,
     "metadata": {},
     "output_type": "execute_result"
    }
   ],
   "source": [
    "tutorial_db_path = os.path.join(os.getcwd(), 'tutorial_paramter_with_setpoints.db')\n",
    "initialise_or_create_database_at(tutorial_db_path)\n",
    "load_or_create_experiment(experiment_name='tutorial_ParameterWithSetpoints', sample_name=\"no sample\")"
   ]
  },
  {
   "cell_type": "code",
   "execution_count": 7,
   "metadata": {},
   "outputs": [],
   "source": [
    "a = DummySpectrumAnalyzer('foobar')"
   ]
  },
  {
   "cell_type": "markdown",
   "metadata": {},
   "source": [
    "First we setup the limits of the spectrum"
   ]
  },
  {
   "cell_type": "code",
   "execution_count": 8,
   "metadata": {},
   "outputs": [],
   "source": [
    "a.f_start(0)\n",
    "a.f_stop(500)\n",
    "a.n_points(501)"
   ]
  },
  {
   "cell_type": "markdown",
   "metadata": {},
   "source": [
    "And we can grab the frequency axis"
   ]
  },
  {
   "cell_type": "code",
   "execution_count": 9,
   "metadata": {},
   "outputs": [
    {
     "data": {
      "text/plain": [
       "501"
      ]
     },
     "execution_count": 9,
     "metadata": {},
     "output_type": "execute_result"
    }
   ],
   "source": [
    "a.n_points()"
   ]
  },
  {
   "cell_type": "code",
   "execution_count": 10,
   "metadata": {
    "scrolled": false
   },
   "outputs": [
    {
     "data": {
      "text/plain": [
       "501"
      ]
     },
     "execution_count": 10,
     "metadata": {},
     "output_type": "execute_result"
    }
   ],
   "source": [
    "freq_axis = a.freq_axis()\n",
    "len(freq_axis)"
   ]
  },
  {
   "cell_type": "code",
   "execution_count": 11,
   "metadata": {},
   "outputs": [
    {
     "data": {
      "text/plain": [
       "array([0., 1., 2., 3., 4., 5., 6., 7., 8., 9.])"
      ]
     },
     "execution_count": 11,
     "metadata": {},
     "output_type": "execute_result"
    }
   ],
   "source": [
    "freq_axis[:10]"
   ]
  },
  {
   "cell_type": "markdown",
   "metadata": {},
   "source": [
    "As expected we get a result wit 501 points as we asked for an axis with 501 points. "
   ]
  },
  {
   "cell_type": "markdown",
   "metadata": {},
   "source": [
    "Above we have added a validator to the `freq_axis` parameter encoding the fact that this is an Array with `n_points`. Note that we do not have to supply the number of points as an integer but can supply a function that returns the valid number of points. This would normally be a QCoDeS parameter.\n",
    "\n",
    "This will be checked if we validate the output."
   ]
  },
  {
   "cell_type": "code",
   "execution_count": 12,
   "metadata": {},
   "outputs": [],
   "source": [
    "a.freq_axis.validate(a.freq_axis.get())"
   ]
  },
  {
   "cell_type": "markdown",
   "metadata": {},
   "source": [
    "Naturally, we can also get the spectrum. Getting the spectrum will automatically perform validation both for the shape of the parameter itself and the relation to the setpoint parameter(s)"
   ]
  },
  {
   "cell_type": "code",
   "execution_count": 13,
   "metadata": {
    "scrolled": true
   },
   "outputs": [
    {
     "data": {
      "text/plain": [
       "501"
      ]
     },
     "execution_count": 13,
     "metadata": {},
     "output_type": "execute_result"
    }
   ],
   "source": [
    "spectrum = a.spectrum.get()\n",
    "len(spectrum)"
   ]
  },
  {
   "cell_type": "markdown",
   "metadata": {},
   "source": [
    "When we validate a `ParameterWithSetpoints`, we automatically validate that the shape is consistent between the parameters and its setpoints. As well as validating the shape as above."
   ]
  },
  {
   "cell_type": "code",
   "execution_count": 14,
   "metadata": {},
   "outputs": [],
   "source": [
    "a.spectrum.validate(a.spectrum.get())"
   ]
  },
  {
   "cell_type": "markdown",
   "metadata": {},
   "source": [
    "The consistent shapes can be validated explicitly."
   ]
  },
  {
   "cell_type": "code",
   "execution_count": 15,
   "metadata": {},
   "outputs": [],
   "source": [
    "a.spectrum.validate_consistent_shape()"
   ]
  },
  {
   "cell_type": "markdown",
   "metadata": {},
   "source": [
    "We can inspect the setpoints of the spectrum."
   ]
  },
  {
   "cell_type": "code",
   "execution_count": 16,
   "metadata": {},
   "outputs": [
    {
     "data": {
      "text/plain": [
       "(<__main__.GeneratedSetPoints: freq_axis at 139803454732048>,)"
      ]
     },
     "execution_count": 16,
     "metadata": {},
     "output_type": "execute_result"
    }
   ],
   "source": [
    "a.spectrum.setpoints"
   ]
  },
  {
   "cell_type": "markdown",
   "metadata": {},
   "source": [
    "Or even change them."
   ]
  },
  {
   "cell_type": "code",
   "execution_count": 17,
   "metadata": {},
   "outputs": [],
   "source": [
    "a.spectrum.setpoints = (a.freq_axis,)"
   ]
  },
  {
   "cell_type": "markdown",
   "metadata": {},
   "source": [
    "## Measurement"
   ]
  },
  {
   "cell_type": "markdown",
   "metadata": {},
   "source": [
    "We can also directly consume the parameter in a measurement without defining the setpoints of the parameter again. The setpoints are automatically obtained from the definition of the `ParameterWithSetpoint` instance. "
   ]
  },
  {
   "cell_type": "code",
   "execution_count": 18,
   "metadata": {},
   "outputs": [
    {
     "name": "stdout",
     "output_type": "stream",
     "text": [
      "Starting experimental run with id: 1. \n"
     ]
    }
   ],
   "source": [
    "meas = Measurement()\n",
    "meas.register_parameter(a.spectrum)\n",
    "\n",
    "with meas.run() as datasaver:\n",
    "    datasaver.add_result((a.freq_axis, a.freq_axis()),\n",
    "                         (a.spectrum, a.spectrum()))\n",
    "    dataset = datasaver.dataset"
   ]
  },
  {
   "cell_type": "markdown",
   "metadata": {},
   "source": [
    "And plot it"
   ]
  },
  {
   "cell_type": "code",
   "execution_count": 19,
   "metadata": {},
   "outputs": [
    {
     "data": {
      "text/plain": [
       "([<matplotlib.axes._subplots.AxesSubplot at 0x7f26880b0410>], [None])"
      ]
     },
     "execution_count": 19,
     "metadata": {},
     "output_type": "execute_result"
    },
    {
     "data": {
      "image/png": "[encoded data removed]",
      "text/plain": [
       "<Figure size 432x288 with 1 Axes>"
      ]
     },
     "metadata": {
      "needs_background": "light"
     },
     "output_type": "display_data"
    }
   ],
   "source": [
    "plot_dataset(dataset)"
   ]
  },
  {
   "cell_type": "markdown",
   "metadata": {},
   "source": [
    "To reduce the amount of typing a simple convenience function is provided that will take a `ParameterWithSetpoints` and get both its values and the setpoints values and return them as tuples for direct insertion into the Dataset."
   ]
  },
  {
   "cell_type": "code",
   "execution_count": 20,
   "metadata": {
    "scrolled": true
   },
   "outputs": [
    {
     "data": {
      "text/plain": [
       "[(<__main__.GeneratedSetPoints: freq_axis at 139803454732048>,\n",
       "  array([  0.,   1.,   2.,   3.,   4.,   5.,   6.,   7.,   8.,   9.,  10.,\n",
       "          11.,  12.,  13.,  14.,  15.,  16.,  17.,  18.,  19.,  20.,  21.,\n",
       "          22.,  23.,  24.,  25.,  26.,  27.,  28.,  29.,  30.,  31.,  32.,\n",
       "          33.,  34.,  35.,  36.,  37.,  38.,  39.,  40.,  41.,  42.,  43.,\n",
       "          44.,  45.,  46.,  47.,  48.,  49.,  50.,  51.,  52.,  53.,  54.,\n",
       "          55.,  56.,  57.,  58.,  59.,  60.,  61.,  62.,  63.,  64.,  65.,\n",
       "          66.,  67.,  68.,  69.,  70.,  71.,  72.,  73.,  74.,  75.,  76.,\n",
       "          77.,  78.,  79.,  80.,  81.,  82.,  83.,  84.,  85.,  86.,  87.,\n",
       "          88.,  89.,  90.,  91.,  92.,  93.,  94.,  95.,  96.,  97.,  98.,\n",
       "          99., 100., 101., 102., 103., 104., 105., 106., 107., 108., 109.,\n",
       "         110., 111., 112., 113., 114., 115., 116., 117., 118., 119., 120.,\n",
       "         121., 122., 123., 124., 125., 126., 127., 128., 129., 130., 131.,\n",
       "         132., 133., 134., 135., 136., 137., 138., 139., 140., 141., 142.,\n",
       "         143., 144., 145., 146., 147., 148., 149., 150., 151., 152., 153.,\n",
       "         154., 155., 156., 157., 158., 159., 160., 161., 162., 163., 164.,\n",
       "         165., 166., 167., 168., 169., 170., 171., 172., 173., 174., 175.,\n",
       "         176., 177., 178., 179., 180., 181., 182., 183., 184., 185., 186.,\n",
       "         187., 188., 189., 190., 191., 192., 193., 194., 195., 196., 197.,\n",
       "         198., 199., 200., 201., 202., 203., 204., 205., 206., 207., 208.,\n",
       "         209., 210., 211., 212., 213., 214., 215., 216., 217., 218., 219.,\n",
       "         220., 221., 222., 223., 224., 225., 226., 227., 228., 229., 230.,\n",
       "         231., 232., 233., 234., 235., 236., 237., 238., 239., 240., 241.,\n",
       "         242., 243., 244., 245., 246., 247., 248., 249., 250., 251., 252.,\n",
       "         253., 254., 255., 256., 257., 258., 259., 260., 261., 262., 263.,\n",
       "         264., 265., 266., 267., 268., 269., 270., 271., 272., 273., 274.,\n",
       "         275., 276., 277., 278., 279., 280., 281., 282., 283., 284., 285.,\n",
       "         286., 287., 288., 289., 290., 291., 292., 293., 294., 295., 296.,\n",
       "         297., 298., 299., 300., 301., 302., 303., 304., 305., 306., 307.,\n",
       "         308., 309., 310., 311., 312., 313., 314., 315., 316., 317., 318.,\n",
       "         319., 320., 321., 322., 323., 324., 325., 326., 327., 328., 329.,\n",
       "         330., 331., 332., 333., 334., 335., 336., 337., 338., 339., 340.,\n",
       "         341., 342., 343., 344., 345., 346., 347., 348., 349., 350., 351.,\n",
       "         352., 353., 354., 355., 356., 357., 358., 359., 360., 361., 362.,\n",
       "         363., 364., 365., 366., 367., 368., 369., 370., 371., 372., 373.,\n",
       "         374., 375., 376., 377., 378., 379., 380., 381., 382., 383., 384.,\n",
       "         385., 386., 387., 388., 389., 390., 391., 392., 393., 394., 395.,\n",
       "         396., 397., 398., 399., 400., 401., 402., 403., 404., 405., 406.,\n",
       "         407., 408., 409., 410., 411., 412., 413., 414., 415., 416., 417.,\n",
       "         418., 419., 420., 421., 422., 423., 424., 425., 426., 427., 428.,\n",
       "         429., 430., 431., 432., 433., 434., 435., 436., 437., 438., 439.,\n",
       "         440., 441., 442., 443., 444., 445., 446., 447., 448., 449., 450.,\n",
       "         451., 452., 453., 454., 455., 456., 457., 458., 459., 460., 461.,\n",
       "         462., 463., 464., 465., 466., 467., 468., 469., 470., 471., 472.,\n",
       "         473., 474., 475., 476., 477., 478., 479., 480., 481., 482., 483.,\n",
       "         484., 485., 486., 487., 488., 489., 490., 491., 492., 493., 494.,\n",
       "         495., 496., 497., 498., 499., 500.])),\n",
       " (<__main__.DummyArray: spectrum at 139803454731856>,\n",
       "  array([1.86490392e-01, 8.71473866e-01, 7.45314108e-01, 2.49241109e-01,\n",
       "         8.09885596e-01, 5.61048555e-01, 5.17144003e-01, 1.09381169e-01,\n",
       "         8.83366581e-02, 2.99032249e-01, 6.53940852e-01, 7.58849645e-01,\n",
       "         4.09833754e-01, 7.82987784e-01, 2.09253614e-01, 2.58133557e-01,\n",
       "         9.99336739e-01, 1.16269318e-02, 5.54603711e-01, 3.47535921e-01,\n",
       "         6.62314748e-01, 8.92760791e-01, 4.62419273e-01, 3.33599953e-01,\n",
       "         4.00798192e-01, 9.32818515e-01, 3.63396677e-01, 7.53361572e-01,\n",
       "         1.56721445e-01, 7.12877032e-01, 1.17136556e-01, 6.76379137e-01,\n",
       "         6.26251464e-01, 9.12485990e-01, 6.67093667e-01, 8.38663300e-01,\n",
       "         4.95451979e-01, 2.13466145e-01, 6.98639374e-01, 3.07225868e-01,\n",
       "         5.90752082e-01, 9.60488017e-01, 7.55942147e-01, 4.46388480e-02,\n",
       "         5.64313240e-01, 7.53763820e-01, 9.81075021e-01, 6.56189358e-01,\n",
       "         9.77523541e-01, 5.33709312e-01, 6.53308738e-02, 6.96594580e-02,\n",
       "         7.17389601e-01, 4.02543731e-01, 2.59094683e-02, 7.08085366e-01,\n",
       "         3.69915692e-01, 6.49340598e-01, 9.44775454e-01, 8.70821227e-01,\n",
       "         8.87453878e-01, 8.87432679e-02, 7.33625723e-01, 7.07296323e-01,\n",
       "         2.45780550e-01, 5.14916609e-02, 2.91591849e-01, 4.46708480e-01,\n",
       "         5.00723356e-01, 3.88875038e-01, 6.55799885e-01, 2.41562690e-01,\n",
       "         1.59920584e-01, 1.07847713e-01, 9.98527558e-01, 2.73008130e-01,\n",
       "         8.10727827e-01, 4.01655246e-01, 4.45187873e-01, 4.40202162e-01,\n",
       "         6.77410314e-01, 7.48622587e-03, 8.38835283e-01, 3.99933100e-01,\n",
       "         7.37354257e-01, 5.18547449e-02, 5.65415428e-01, 8.86422488e-01,\n",
       "         9.13730347e-01, 3.95422230e-01, 7.43905036e-01, 9.09268456e-01,\n",
       "         5.10177097e-01, 8.49551739e-01, 2.16500068e-01, 5.85067255e-01,\n",
       "         4.68123908e-01, 6.24702330e-01, 7.95743139e-01, 4.71575547e-01,\n",
       "         6.47039642e-01, 9.23718231e-01, 7.85490044e-01, 5.48757370e-01,\n",
       "         7.07458214e-01, 9.79034211e-01, 6.13863581e-01, 1.73686837e-01,\n",
       "         6.55023654e-01, 1.99592204e-01, 1.80095462e-01, 3.49453806e-01,\n",
       "         2.67565800e-01, 8.60155265e-01, 9.37646214e-01, 6.24251080e-01,\n",
       "         4.75350998e-01, 9.42608377e-02, 3.62978802e-02, 5.25242841e-01,\n",
       "         2.78325331e-01, 5.27546332e-01, 7.71548831e-01, 1.93849400e-01,\n",
       "         2.88711559e-01, 1.62476661e-01, 8.61296617e-01, 1.89869712e-01,\n",
       "         2.37859815e-01, 7.36569403e-01, 3.91057207e-01, 5.28355793e-03,\n",
       "         1.43505975e-01, 4.70018273e-01, 2.59202391e-01, 5.99328506e-01,\n",
       "         4.35747426e-01, 1.88999323e-05, 8.46574455e-01, 3.23091552e-01,\n",
       "         6.31332002e-01, 4.12257148e-01, 1.53064040e-01, 4.51650887e-01,\n",
       "         9.75686549e-02, 1.69209523e-01, 3.52137819e-01, 8.69142960e-01,\n",
       "         1.69817998e-01, 4.16206161e-01, 2.79460494e-01, 4.85737625e-01,\n",
       "         9.45361279e-01, 2.92559123e-01, 9.69188699e-01, 7.61033147e-01,\n",
       "         1.03955579e-01, 4.96549595e-01, 7.04259126e-01, 9.36163549e-03,\n",
       "         4.17502304e-01, 6.22789081e-01, 1.85131061e-01, 8.02577377e-01,\n",
       "         7.41504486e-01, 3.26363938e-02, 2.97558278e-01, 4.07695206e-01,\n",
       "         2.21764425e-01, 1.00539390e-01, 3.82391279e-01, 7.27489289e-01,\n",
       "         6.44152299e-01, 6.62516634e-01, 3.01864879e-01, 4.33932186e-01,\n",
       "         9.25174730e-01, 7.65217424e-01, 5.10160440e-01, 4.13744902e-01,\n",
       "         9.60899867e-01, 9.13652178e-01, 6.64439882e-02, 4.32641622e-01,\n",
       "         5.36740220e-01, 3.12342680e-01, 1.05341759e-01, 2.74010315e-02,\n",
       "         8.16751649e-02, 1.85552494e-01, 8.20566501e-01, 6.23982655e-01,\n",
       "         5.41256568e-01, 2.19885095e-01, 5.45931420e-01, 7.35635915e-01,\n",
       "         4.09298602e-01, 8.45294565e-01, 4.81144679e-01, 1.96379134e-01,\n",
       "         1.14338957e-01, 8.31666920e-02, 9.72964503e-01, 7.12272264e-01,\n",
       "         3.27383229e-01, 9.37230677e-01, 2.60300077e-01, 5.23283234e-01,\n",
       "         5.10600795e-01, 5.07277380e-01, 9.03253756e-01, 2.52688552e-01,\n",
       "         6.76534584e-01, 5.91522804e-01, 2.30331150e-01, 4.32279101e-01,\n",
       "         2.57417403e-01, 6.63265456e-01, 4.99396904e-01, 4.95107514e-01,\n",
       "         8.39769704e-01, 9.25213071e-01, 6.40846570e-01, 3.13596529e-01,\n",
       "         5.51924700e-01, 7.19528436e-01, 6.68894091e-01, 4.20050442e-01,\n",
       "         2.19975744e-01, 6.73664504e-01, 7.96575239e-01, 6.17719237e-01,\n",
       "         1.27849832e-01, 7.66024572e-01, 9.85341113e-01, 3.97599334e-01,\n",
       "         1.48806868e-01, 3.95769382e-01, 7.65758038e-01, 3.06339354e-01,\n",
       "         3.55155158e-01, 3.87773381e-01, 2.92025298e-01, 3.29084465e-01,\n",
       "         2.84361088e-01, 2.15070115e-01, 3.44522877e-01, 5.82722112e-01,\n",
       "         8.08355190e-01, 9.99313442e-01, 2.06798558e-01, 6.57856991e-01,\n",
       "         3.35827758e-01, 5.72895123e-01, 2.40036602e-01, 2.41825394e-02,\n",
       "         4.30003276e-01, 6.27807236e-01, 3.65636402e-01, 2.61055132e-02,\n",
       "         3.26629467e-01, 7.57399194e-01, 4.18916705e-01, 3.98013420e-01,\n",
       "         7.44802516e-01, 8.62196410e-01, 7.94552196e-01, 9.64109107e-01,\n",
       "         1.60745734e-01, 5.89923066e-01, 6.93023415e-01, 9.28721989e-01,\n",
       "         8.57734842e-01, 9.27203431e-01, 3.39089490e-01, 6.90249789e-01,\n",
       "         9.54348058e-01, 3.10733945e-01, 6.37454122e-01, 5.80797328e-01,\n",
       "         7.54050721e-01, 3.32288955e-02, 3.83891695e-01, 1.23337691e-03,\n",
       "         6.21868434e-01, 7.24034387e-01, 8.94175125e-01, 1.45133520e-01,\n",
       "         7.16869429e-01, 4.76382880e-01, 6.66347260e-01, 7.26393486e-01,\n",
       "         9.67576995e-01, 3.28257180e-01, 5.52970285e-01, 3.32000173e-01,\n",
       "         3.42831036e-01, 8.49121691e-01, 1.27428404e-01, 9.42620314e-02,\n",
       "         9.97814730e-01, 6.50222534e-01, 5.71085849e-01, 8.23954929e-01,\n",
       "         7.86425827e-01, 2.80059184e-01, 8.20066518e-01, 1.10469066e-01,\n",
       "         6.35356996e-03, 9.61136357e-01, 4.20490842e-01, 6.79210674e-01,\n",
       "         4.50107907e-01, 8.87228520e-01, 4.17567677e-01, 4.03127981e-01,\n",
       "         7.10983478e-01, 9.44913577e-01, 4.96983471e-01, 9.40228430e-01,\n",
       "         5.81564319e-01, 3.75661350e-01, 4.62917812e-01, 5.97093452e-01,\n",
       "         8.64081249e-01, 2.95690251e-01, 3.97573748e-01, 3.82061571e-01,\n",
       "         1.84580641e-01, 4.77973422e-01, 5.34310821e-02, 1.80218798e-02,\n",
       "         8.04412285e-01, 7.32888866e-01, 8.70763417e-01, 7.75840660e-01,\n",
       "         7.31514383e-01, 5.62418577e-02, 8.83160127e-02, 9.95709139e-01,\n",
       "         2.09338823e-02, 9.23699105e-01, 8.17874905e-01, 5.63205507e-01,\n",
       "         6.12347646e-01, 3.55943882e-01, 3.75996930e-01, 4.49727713e-01,\n",
       "         3.33206415e-01, 4.72594457e-01, 4.75319604e-02, 3.73861841e-01,\n",
       "         3.90269837e-01, 2.26606902e-01, 5.85959669e-01, 5.59347688e-01,\n",
       "         7.81649672e-01, 3.52935203e-02, 3.22480450e-01, 6.58938450e-01,\n",
       "         8.53174887e-01, 9.81220716e-02, 8.32684783e-01, 2.43760266e-01,\n",
       "         2.44441824e-01, 6.68994863e-01, 6.69186963e-02, 7.57774078e-01,\n",
       "         1.94470349e-01, 9.82396472e-01, 2.31781783e-01, 7.51190460e-01,\n",
       "         9.76155868e-01, 3.26024085e-02, 7.60611310e-03, 9.87876364e-01,\n",
       "         5.47344546e-01, 1.78428533e-01, 1.41050461e-01, 6.15684091e-01,\n",
       "         3.06776236e-01, 9.82567248e-01, 8.27809940e-01, 3.40212790e-01,\n",
       "         7.69955463e-01, 4.16297125e-01, 1.31854075e-01, 6.57638780e-01,\n",
       "         9.43569812e-01, 5.15321513e-01, 1.35150620e-02, 4.67414242e-01,\n",
       "         5.52524442e-01, 1.51181470e-02, 3.06442232e-01, 5.68598436e-01,\n",
       "         7.51778691e-01, 3.86638127e-01, 8.18335934e-01, 5.17419136e-01,\n",
       "         7.51279899e-01, 5.97235366e-01, 1.08961655e-02, 5.43863075e-01,\n",
       "         2.33542664e-02, 7.11600810e-01, 7.67902985e-01, 8.35974619e-01,\n",
       "         2.93888413e-01, 5.09450496e-01, 3.52293436e-01, 2.98013984e-01,\n",
       "         2.75232828e-01, 1.30776930e-01, 1.46216534e-02, 2.72606649e-01,\n",
       "         9.49342582e-01, 9.56619860e-02, 6.39973817e-01, 1.84644007e-01,\n",
       "         8.43726943e-01, 7.99094838e-01, 3.87787576e-01, 2.34695223e-01,\n",
       "         5.28965084e-01, 7.18927018e-01, 7.35031573e-01, 1.66903914e-01,\n",
       "         1.46957781e-01, 2.21509785e-01, 9.71210008e-01, 4.53748519e-01,\n",
       "         2.97264829e-01, 8.56523456e-01, 2.91188111e-01, 4.76878643e-01,\n",
       "         3.27025566e-01, 8.72604416e-01, 1.52296228e-02, 9.86301984e-01,\n",
       "         8.09862550e-01, 4.16727128e-01, 9.75550908e-01, 1.49111679e-01,\n",
       "         8.16516499e-01, 8.95757606e-01, 8.82361750e-01, 4.94741942e-01,\n",
       "         5.89596960e-01, 5.78992021e-01, 1.30234672e-01, 9.54122895e-01,\n",
       "         2.64590286e-01, 4.25310165e-01, 7.49057912e-01, 1.72953873e-01,\n",
       "         6.40117457e-01, 9.40792140e-01, 4.07229019e-01, 7.13861416e-01,\n",
       "         9.09849211e-02, 4.60064304e-01, 5.31533639e-02, 1.28158353e-01,\n",
       "         3.58821435e-01, 7.11413679e-01, 9.99699764e-01, 6.94630274e-01,\n",
       "         4.85148567e-01, 8.83810965e-01, 7.95394502e-01, 3.66358259e-01,\n",
       "         4.67471368e-01, 3.90875402e-01, 7.19366109e-01, 2.20842203e-01,\n",
       "         7.57645110e-02, 6.64474727e-01, 7.58042400e-01, 2.37295012e-01,\n",
       "         1.80343162e-01, 4.84892148e-01, 7.97121319e-01, 4.56587889e-01,\n",
       "         1.57866191e-01, 1.19788187e-01, 5.22218014e-01, 4.90460558e-01,\n",
       "         6.93606104e-01, 9.00531892e-01, 2.67915482e-02, 2.85492743e-01,\n",
       "         3.97670143e-01, 3.44620218e-01, 7.26763748e-02, 6.90302482e-01,\n",
       "         8.90389184e-01, 9.77571751e-01, 7.56309198e-01, 4.81337471e-01,\n",
       "         2.96116964e-01]))]"
      ]
     },
     "execution_count": 20,
     "metadata": {},
     "output_type": "execute_result"
    }
   ],
   "source": [
    "expand_setpoints_helper(a.spectrum)"
   ]
  },
  {
   "cell_type": "code",
   "execution_count": 21,
   "metadata": {},
   "outputs": [
    {
     "name": "stdout",
     "output_type": "stream",
     "text": [
      "Starting experimental run with id: 2. \n"
     ]
    }
   ],
   "source": [
    "meas = Measurement()\n",
    "meas.register_parameter(a.spectrum)\n",
    "\n",
    "with meas.run() as datasaver:\n",
    "    datasaver.add_result(*expand_setpoints_helper(a.spectrum))\n",
    "    \n",
    "    dataid = datasaver.run_id"
   ]
  },
  {
   "cell_type": "code",
   "execution_count": null,
   "metadata": {},
   "outputs": [],
   "source": []
  }
 ],
 "metadata": {
  "kernelspec": {
   "display_name": "Python 3",
   "language": "python",
   "name": "python3"
  },
  "language_info": {
   "codemirror_mode": {
    "name": "ipython",
    "version": 3
   },
   "file_extension": ".py",
   "mimetype": "text/x-python",
   "name": "python",
   "nbconvert_exporter": "python",
   "pygments_lexer": "ipython3",
   "version": "3.7.7"
  },
  "toc": {
   "base_numbering": 1,
   "nav_menu": {},
   "number_sections": true,
   "sideBar": true,
   "skip_h1_title": false,
   "title_cell": "Table of Contents",
   "title_sidebar": "Contents",
   "toc_cell": false,
   "toc_position": {},
   "toc_section_display": true,
   "toc_window_display": false
  },
  "varInspector": {
   "cols": {
    "lenName": 16,
    "lenType": 16,
    "lenVar": 40
   },
   "kernels_config": {
    "python": {
     "delete_cmd_postfix": "",
     "delete_cmd_prefix": "del ",
     "library": "var_list.py",
     "varRefreshCmd": "print(var_dic_list())"
    },
    "r": {
     "delete_cmd_postfix": ") ",
     "delete_cmd_prefix": "rm(",
     "library": "var_list.r",
     "varRefreshCmd": "cat(var_dic_list()) "
    }
   },
   "types_to_exclude": [
    "module",
    "function",
    "builtin_function_or_method",
    "instance",
    "_Feature"
   ],
   "window_display": false
  }
 },
 "nbformat": 4,
 "nbformat_minor": 2
}
