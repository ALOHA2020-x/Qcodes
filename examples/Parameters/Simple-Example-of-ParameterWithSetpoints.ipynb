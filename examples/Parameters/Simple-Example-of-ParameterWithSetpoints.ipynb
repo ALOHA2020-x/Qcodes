{
 "cells": [
  {
   "cell_type": "markdown",
   "metadata": {},
   "source": [
    "# Simple Example of ParameterWithSetpoints\n",
    "This notebook provides an example for writing a simple driver with a parameter that has setpoints. Let's name this parameter that has setpoints as \"y\". Then, the setpoints, say \"x1, x2, x3 ..\", are the parameters on which the parameter \n",
    "\"y\" depends upon. Meaning \"y\" is a function of \"x1, x2, x3 ...\" where \"x1, x2, x3 ...\" are known as the setpoints of parameter \"y\".\n",
    "\n",
    "This is most likely to be useful for instruments that return arrays of results. In this notebook, we will show an example of this."
   ]
  },
  {
   "cell_type": "code",
   "execution_count": 1,
   "metadata": {
    "execution": {
     "iopub.execute_input": "2020-09-18T18:42:40.468900Z",
     "iopub.status.busy": "2020-09-18T18:42:40.468358Z",
     "iopub.status.idle": "2020-09-18T18:42:40.565168Z",
     "shell.execute_reply": "2020-09-18T18:42:40.564644Z"
    }
   },
   "outputs": [],
   "source": [
    "import numpy as np\n",
    "import os"
   ]
  },
  {
   "cell_type": "code",
   "execution_count": 2,
   "metadata": {
    "execution": {
     "iopub.execute_input": "2020-09-18T18:42:40.569068Z",
     "iopub.status.busy": "2020-09-18T18:42:40.568543Z",
     "iopub.status.idle": "2020-09-18T18:42:41.747966Z",
     "shell.execute_reply": "2020-09-18T18:42:41.747381Z"
    }
   },
   "outputs": [
    {
     "name": "stdout",
     "output_type": "stream",
     "text": [
      "Logging hadn't been started.\n",
      "Activating auto-logging. Current session state plus future input saved.\n",
      "Filename       : /home/vsts/.qcodes/logs/command_history.log\n",
      "Mode           : append\n",
      "Output logging : True\n",
      "Raw input log  : False\n",
      "Timestamping   : True\n",
      "State          : active\n"
     ]
    },
    {
     "name": "stdout",
     "output_type": "stream",
     "text": [
      "Qcodes Logfile : /home/vsts/.qcodes/logs/200918-21696-qcodes.log\n"
     ]
    }
   ],
   "source": [
    "from qcodes.dataset.plotting import plot_dataset\n",
    "from qcodes.utils.validators import Numbers, Arrays\n",
    "from qcodes.instrument.base import Instrument\n",
    "from qcodes.dataset.measurements import Measurement"
   ]
  },
  {
   "cell_type": "code",
   "execution_count": 3,
   "metadata": {
    "execution": {
     "iopub.execute_input": "2020-09-18T18:42:41.752457Z",
     "iopub.status.busy": "2020-09-18T18:42:41.751893Z",
     "iopub.status.idle": "2020-09-18T18:42:41.755630Z",
     "shell.execute_reply": "2020-09-18T18:42:41.754899Z"
    }
   },
   "outputs": [],
   "source": [
    "from qcodes.dataset.sqlite.database import initialise_or_create_database_at\n",
    "from qcodes.dataset.experiment_container import load_or_create_experiment"
   ]
  },
  {
   "cell_type": "code",
   "execution_count": 4,
   "metadata": {
    "execution": {
     "iopub.execute_input": "2020-09-18T18:42:41.760683Z",
     "iopub.status.busy": "2020-09-18T18:42:41.759386Z",
     "iopub.status.idle": "2020-09-18T18:42:41.761308Z",
     "shell.execute_reply": "2020-09-18T18:42:41.761926Z"
    }
   },
   "outputs": [],
   "source": [
    "from qcodes.instrument.parameter import ParameterWithSetpoints, Parameter\n",
    "from qcodes.instrument.parameter import expand_setpoints_helper"
   ]
  },
  {
   "cell_type": "markdown",
   "metadata": {},
   "source": [
    "First, we define a dummy instrument that returns something like a frequency spectrum starting from a frequency given by `f_start` to a frequency given by `f_stop` in `n_points` steps. \n",
    "\n",
    "The extra functionality of the `ParameterWithSetpoints` is implemented by giving it a reference to one or more parameters that acts like its setpoints. \n",
    "\n",
    "To setup a `ParameterWithSetpoints` we have to do two things in addition to what we do for a normal parameter.\n",
    "\n",
    "* Define one or more parameter for the setpoints (one for each dimension of the array and let the `ParameterWithSetpoints` know that these are the setpoints.\n",
    "* Give both the setpoints parameter(s) and the `ParameterWithSetpoints` a `validator` of type `Arrays` with a shape. The shapes should be such that the combined shape of the setpoints matches the shape of the `ParameterWithSetpoints`. Note that if the shape changes with the setting of the instrument, it can be defined by another parameter as shown below. "
   ]
  },
  {
   "cell_type": "code",
   "execution_count": 5,
   "metadata": {
    "execution": {
     "iopub.execute_input": "2020-09-18T18:42:41.769787Z",
     "iopub.status.busy": "2020-09-18T18:42:41.764252Z",
     "iopub.status.idle": "2020-09-18T18:42:41.775583Z",
     "shell.execute_reply": "2020-09-18T18:42:41.774800Z"
    }
   },
   "outputs": [],
   "source": [
    "class GeneratedSetPoints(Parameter):\n",
    "    \"\"\"\n",
    "    A parameter that generates a setpoint array from start, stop and num points\n",
    "    parameters.\n",
    "    \"\"\"\n",
    "    def __init__(self, startparam, stopparam, numpointsparam, *args, **kwargs):\n",
    "        super().__init__(*args, **kwargs)\n",
    "        self._startparam = startparam\n",
    "        self._stopparam = stopparam\n",
    "        self._numpointsparam = numpointsparam\n",
    "\n",
    "    def get_raw(self):\n",
    "        return np.linspace(self._startparam(), self._stopparam(),\n",
    "                              self._numpointsparam())\n",
    "\n",
    "class DummyArray(ParameterWithSetpoints):\n",
    "    \n",
    "    def get_raw(self):\n",
    "        npoints = self.root_instrument.n_points.get_latest()\n",
    "        return np.random.rand(npoints)\n",
    "    \n",
    "\n",
    "class DummySpectrumAnalyzer(Instrument):\n",
    "    \n",
    "    def __init__(self, name, **kwargs):\n",
    "        \n",
    "        super().__init__(name, **kwargs)\n",
    "            \n",
    "\n",
    "        self.add_parameter('f_start',\n",
    "                           initial_value=0,\n",
    "                           unit='Hz',\n",
    "                           label='f start',\n",
    "                           vals=Numbers(0,1e3),\n",
    "                           get_cmd=None,\n",
    "                           set_cmd=None)\n",
    "\n",
    "        self.add_parameter('f_stop',\n",
    "                           unit='Hz',\n",
    "                           label='f stop',\n",
    "                           vals=Numbers(1,1e3),\n",
    "                           get_cmd=None,\n",
    "                           set_cmd=None)\n",
    "\n",
    "        self.add_parameter('n_points',\n",
    "                           unit='',\n",
    "                           initial_value=10,\n",
    "                           vals=Numbers(1,1e3),\n",
    "                           get_cmd=None,\n",
    "                           set_cmd=None)\n",
    "        \n",
    "        self.add_parameter('freq_axis',\n",
    "                           unit='Hz',\n",
    "                           label='Freq Axis',\n",
    "                           parameter_class=GeneratedSetPoints,\n",
    "                           startparam=self.f_start,\n",
    "                           stopparam=self.f_stop,\n",
    "                           numpointsparam=self.n_points,\n",
    "                           vals=Arrays(shape=(self.n_points.get_latest,)))\n",
    "                           \n",
    "        self.add_parameter('spectrum',\n",
    "                   unit='dBm',\n",
    "                   setpoints=(self.freq_axis,),\n",
    "                   label='Spectrum',\n",
    "                   parameter_class=DummyArray,\n",
    "                   vals=Arrays(shape=(self.n_points.get_latest,)))\n",
    "                "
   ]
  },
  {
   "cell_type": "markdown",
   "metadata": {},
   "source": [
    "In the above example, the shape is defined by the parameter `n_points` that defines how many samples our `DummySpectrumAnalyzer` returns.\n",
    "\n",
    "This means that the validation will call the function to get `n_points` twice for each `get` of the parameter. This may be too slow, however, if you (as the driver-writer) can guarantee that the cached value for `n_points` will never be out of sync with the value stored in the instrument, `n_points` may be replaced by it's latest known value such that the `validator` reads:\n",
    "```python\n",
    "vals=Arrays(shape=(self.n_points.get_latest))\n",
    "```\n",
    "\n",
    "This avoids any additional call to the instrument. In the same way, the arguments to the `freq_axis` parameter that defines the start, stop and number of points can be replaced by their latest value if the instrument allows it.\n",
    "\n"
   ]
  },
  {
   "cell_type": "code",
   "execution_count": 6,
   "metadata": {
    "execution": {
     "iopub.execute_input": "2020-09-18T18:42:41.779627Z",
     "iopub.status.busy": "2020-09-18T18:42:41.778953Z",
     "iopub.status.idle": "2020-09-18T18:42:41.859372Z",
     "shell.execute_reply": "2020-09-18T18:42:41.858797Z"
    }
   },
   "outputs": [
    {
     "name": "stdout",
     "output_type": "stream",
     "text": [
      "\r",
      "0it [00:00, ?it/s]"
     ]
    },
    {
     "name": "stdout",
     "output_type": "stream",
     "text": [
      "\r",
      "Upgrading database; v0 -> v1: : 0it [00:00, ?it/s]"
     ]
    },
    {
     "name": "stdout",
     "output_type": "stream",
     "text": [
      "\r",
      "Upgrading database; v0 -> v1: : 0it [00:00, ?it/s]"
     ]
    },
    {
     "name": "stdout",
     "output_type": "stream",
     "text": [
      "\n",
      "\r",
      "  0%|          | 0/1 [00:00<?, ?it/s]"
     ]
    },
    {
     "name": "stdout",
     "output_type": "stream",
     "text": [
      "\r",
      "Upgrading database; v1 -> v2:   0%|          | 0/1 [00:00<?, ?it/s]"
     ]
    },
    {
     "name": "stdout",
     "output_type": "stream",
     "text": [
      "\r",
      "Upgrading database; v1 -> v2: 100%|██████████| 1/1 [00:00<00:00, 390.10it/s]"
     ]
    },
    {
     "name": "stdout",
     "output_type": "stream",
     "text": [
      "\n",
      "\r",
      "0it [00:00, ?it/s]"
     ]
    },
    {
     "name": "stdout",
     "output_type": "stream",
     "text": [
      "\r",
      "Upgrading database; v2 -> v3: : 0it [00:00, ?it/s]"
     ]
    },
    {
     "name": "stdout",
     "output_type": "stream",
     "text": [
      "\r",
      "Upgrading database; v2 -> v3: : 0it [00:00, ?it/s]"
     ]
    },
    {
     "name": "stdout",
     "output_type": "stream",
     "text": [
      "\n",
      "\r",
      "0it [00:00, ?it/s]"
     ]
    },
    {
     "name": "stdout",
     "output_type": "stream",
     "text": [
      "\r",
      "Upgrading database; v3 -> v4: : 0it [00:00, ?it/s]"
     ]
    },
    {
     "name": "stdout",
     "output_type": "stream",
     "text": [
      "\r",
      "Upgrading database; v3 -> v4: : 0it [00:00, ?it/s]"
     ]
    },
    {
     "name": "stdout",
     "output_type": "stream",
     "text": [
      "\n",
      "\r",
      "  0%|          | 0/1 [00:00<?, ?it/s]"
     ]
    },
    {
     "name": "stdout",
     "output_type": "stream",
     "text": [
      "\r",
      "Upgrading database; v4 -> v5:   0%|          | 0/1 [00:00<?, ?it/s]"
     ]
    },
    {
     "name": "stdout",
     "output_type": "stream",
     "text": [
      "\r",
      "Upgrading database; v4 -> v5: 100%|██████████| 1/1 [00:00<00:00, 558.79it/s]"
     ]
    },
    {
     "name": "stdout",
     "output_type": "stream",
     "text": [
      "\n",
      "\r",
      "0it [00:00, ?it/s]"
     ]
    },
    {
     "name": "stdout",
     "output_type": "stream",
     "text": [
      "\r",
      "Upgrading database; v5 -> v6: : 0it [00:00, ?it/s]"
     ]
    },
    {
     "name": "stdout",
     "output_type": "stream",
     "text": [
      "\r",
      "Upgrading database; v5 -> v6: : 0it [00:00, ?it/s]"
     ]
    },
    {
     "name": "stdout",
     "output_type": "stream",
     "text": [
      "\n",
      "\r",
      "  0%|          | 0/1 [00:00<?, ?it/s]"
     ]
    },
    {
     "name": "stdout",
     "output_type": "stream",
     "text": [
      "\r",
      "Upgrading database; v6 -> v7:   0%|          | 0/1 [00:00<?, ?it/s]"
     ]
    },
    {
     "name": "stdout",
     "output_type": "stream",
     "text": [
      "\r",
      "Upgrading database; v6 -> v7: 100%|██████████| 1/1 [00:00<00:00, 353.15it/s]"
     ]
    },
    {
     "name": "stdout",
     "output_type": "stream",
     "text": [
      "\n",
      "\r",
      "  0%|          | 0/1 [00:00<?, ?it/s]"
     ]
    },
    {
     "name": "stdout",
     "output_type": "stream",
     "text": [
      "\r",
      "Upgrading database; v7 -> v8:   0%|          | 0/1 [00:00<?, ?it/s]"
     ]
    },
    {
     "name": "stdout",
     "output_type": "stream",
     "text": [
      "\r",
      "Upgrading database; v7 -> v8: 100%|██████████| 1/1 [00:00<00:00, 620.37it/s]"
     ]
    },
    {
     "name": "stdout",
     "output_type": "stream",
     "text": [
      "\n",
      "\r",
      "  0%|          | 0/1 [00:00<?, ?it/s]"
     ]
    },
    {
     "name": "stdout",
     "output_type": "stream",
     "text": [
      "\r",
      "Upgrading database; v8 -> v9:   0%|          | 0/1 [00:00<?, ?it/s]"
     ]
    },
    {
     "name": "stdout",
     "output_type": "stream",
     "text": [
      "\r",
      "Upgrading database; v8 -> v9: 100%|██████████| 1/1 [00:00<00:00, 466.24it/s]"
     ]
    },
    {
     "name": "stdout",
     "output_type": "stream",
     "text": [
      "\n"
     ]
    },
    {
     "data": {
      "text/plain": [
       "tutorial_ParameterWithSetpoints#no sample#1@/home/vsts/work/1/s/docs/examples/Parameters/tutorial_paramter_with_setpoints.db\n",
       "----------------------------------------------------------------------------------------------------------------------------"
      ]
     },
     "execution_count": 1,
     "metadata": {},
     "output_type": "execute_result"
    }
   ],
   "source": [
    "tutorial_db_path = os.path.join(os.getcwd(), 'tutorial_paramter_with_setpoints.db')\n",
    "initialise_or_create_database_at(tutorial_db_path)\n",
    "load_or_create_experiment(experiment_name='tutorial_ParameterWithSetpoints', sample_name=\"no sample\")"
   ]
  },
  {
   "cell_type": "code",
   "execution_count": 7,
   "metadata": {
    "execution": {
     "iopub.execute_input": "2020-09-18T18:42:41.863910Z",
     "iopub.status.busy": "2020-09-18T18:42:41.863086Z",
     "iopub.status.idle": "2020-09-18T18:42:41.866389Z",
     "shell.execute_reply": "2020-09-18T18:42:41.865848Z"
    }
   },
   "outputs": [],
   "source": [
    "a = DummySpectrumAnalyzer('foobar')"
   ]
  },
  {
   "cell_type": "markdown",
   "metadata": {},
   "source": [
    "First we setup the limits of the spectrum"
   ]
  },
  {
   "cell_type": "code",
   "execution_count": 8,
   "metadata": {
    "execution": {
     "iopub.execute_input": "2020-09-18T18:42:41.870703Z",
     "iopub.status.busy": "2020-09-18T18:42:41.870174Z",
     "iopub.status.idle": "2020-09-18T18:42:41.873290Z",
     "shell.execute_reply": "2020-09-18T18:42:41.873716Z"
    }
   },
   "outputs": [],
   "source": [
    "a.f_start(0)\n",
    "a.f_stop(500)\n",
    "a.n_points(501)"
   ]
  },
  {
   "cell_type": "markdown",
   "metadata": {},
   "source": [
    "And we can grab the frequency axis"
   ]
  },
  {
   "cell_type": "code",
   "execution_count": 9,
   "metadata": {
    "execution": {
     "iopub.execute_input": "2020-09-18T18:42:41.877497Z",
     "iopub.status.busy": "2020-09-18T18:42:41.876929Z",
     "iopub.status.idle": "2020-09-18T18:42:41.880908Z",
     "shell.execute_reply": "2020-09-18T18:42:41.881367Z"
    }
   },
   "outputs": [
    {
     "data": {
      "text/plain": [
       "501"
      ]
     },
     "execution_count": 1,
     "metadata": {},
     "output_type": "execute_result"
    }
   ],
   "source": [
    "a.n_points()"
   ]
  },
  {
   "cell_type": "code",
   "execution_count": 10,
   "metadata": {
    "execution": {
     "iopub.execute_input": "2020-09-18T18:42:41.886147Z",
     "iopub.status.busy": "2020-09-18T18:42:41.885567Z",
     "iopub.status.idle": "2020-09-18T18:42:41.888159Z",
     "shell.execute_reply": "2020-09-18T18:42:41.888681Z"
    },
    "scrolled": false
   },
   "outputs": [
    {
     "data": {
      "text/plain": [
       "501"
      ]
     },
     "execution_count": 1,
     "metadata": {},
     "output_type": "execute_result"
    }
   ],
   "source": [
    "freq_axis = a.freq_axis()\n",
    "len(freq_axis)"
   ]
  },
  {
   "cell_type": "code",
   "execution_count": 11,
   "metadata": {
    "execution": {
     "iopub.execute_input": "2020-09-18T18:42:41.893522Z",
     "iopub.status.busy": "2020-09-18T18:42:41.892482Z",
     "iopub.status.idle": "2020-09-18T18:42:41.895443Z",
     "shell.execute_reply": "2020-09-18T18:42:41.895991Z"
    }
   },
   "outputs": [
    {
     "data": {
      "text/plain": [
       "array([0., 1., 2., 3., 4., 5., 6., 7., 8., 9.])"
      ]
     },
     "execution_count": 1,
     "metadata": {},
     "output_type": "execute_result"
    }
   ],
   "source": [
    "freq_axis[:10]"
   ]
  },
  {
   "cell_type": "markdown",
   "metadata": {},
   "source": [
    "As expected we get a result wit 501 points as we asked for an axis with 501 points. "
   ]
  },
  {
   "cell_type": "markdown",
   "metadata": {},
   "source": [
    "Above we have added a validator to the `freq_axis` parameter encoding the fact that this is an Array with `n_points`. Note that we do not have to supply the number of points as an integer but can supply a function that returns the valid number of points. This would normally be a QCoDeS parameter.\n",
    "\n",
    "This will be checked if we validate the output."
   ]
  },
  {
   "cell_type": "code",
   "execution_count": 12,
   "metadata": {
    "execution": {
     "iopub.execute_input": "2020-09-18T18:42:41.899976Z",
     "iopub.status.busy": "2020-09-18T18:42:41.899331Z",
     "iopub.status.idle": "2020-09-18T18:42:41.901995Z",
     "shell.execute_reply": "2020-09-18T18:42:41.901467Z"
    }
   },
   "outputs": [],
   "source": [
    "a.freq_axis.validate(a.freq_axis.get())"
   ]
  },
  {
   "cell_type": "markdown",
   "metadata": {},
   "source": [
    "Naturally, we can also get the spectrum. Getting the spectrum will automatically perform validation both for the shape of the parameter itself and the relation to the setpoint parameter(s)"
   ]
  },
  {
   "cell_type": "code",
   "execution_count": 13,
   "metadata": {
    "execution": {
     "iopub.execute_input": "2020-09-18T18:42:41.906229Z",
     "iopub.status.busy": "2020-09-18T18:42:41.904623Z",
     "iopub.status.idle": "2020-09-18T18:42:41.908704Z",
     "shell.execute_reply": "2020-09-18T18:42:41.908162Z"
    },
    "scrolled": true
   },
   "outputs": [
    {
     "data": {
      "text/plain": [
       "501"
      ]
     },
     "execution_count": 1,
     "metadata": {},
     "output_type": "execute_result"
    }
   ],
   "source": [
    "spectrum = a.spectrum.get()\n",
    "len(spectrum)"
   ]
  },
  {
   "cell_type": "markdown",
   "metadata": {},
   "source": [
    "When we validate a `ParameterWithSetpoints`, we automatically validate that the shape is consistent between the parameters and its setpoints. As well as validating the shape as above."
   ]
  },
  {
   "cell_type": "code",
   "execution_count": 14,
   "metadata": {
    "execution": {
     "iopub.execute_input": "2020-09-18T18:42:41.912366Z",
     "iopub.status.busy": "2020-09-18T18:42:41.911403Z",
     "iopub.status.idle": "2020-09-18T18:42:41.914906Z",
     "shell.execute_reply": "2020-09-18T18:42:41.913980Z"
    }
   },
   "outputs": [],
   "source": [
    "a.spectrum.validate(a.spectrum.get())"
   ]
  },
  {
   "cell_type": "markdown",
   "metadata": {},
   "source": [
    "The consistent shapes can be validated explicitly."
   ]
  },
  {
   "cell_type": "code",
   "execution_count": 15,
   "metadata": {
    "execution": {
     "iopub.execute_input": "2020-09-18T18:42:41.919455Z",
     "iopub.status.busy": "2020-09-18T18:42:41.918341Z",
     "iopub.status.idle": "2020-09-18T18:42:41.920217Z",
     "shell.execute_reply": "2020-09-18T18:42:41.920765Z"
    }
   },
   "outputs": [],
   "source": [
    "a.spectrum.validate_consistent_shape()"
   ]
  },
  {
   "cell_type": "markdown",
   "metadata": {},
   "source": [
    "We can inspect the setpoints of the spectrum."
   ]
  },
  {
   "cell_type": "code",
   "execution_count": 16,
   "metadata": {
    "execution": {
     "iopub.execute_input": "2020-09-18T18:42:41.925330Z",
     "iopub.status.busy": "2020-09-18T18:42:41.924749Z",
     "iopub.status.idle": "2020-09-18T18:42:41.927450Z",
     "shell.execute_reply": "2020-09-18T18:42:41.928019Z"
    }
   },
   "outputs": [
    {
     "data": {
      "text/plain": [
       "(<__main__.GeneratedSetPoints: freq_axis at 140570296160144>,)"
      ]
     },
     "execution_count": 1,
     "metadata": {},
     "output_type": "execute_result"
    }
   ],
   "source": [
    "a.spectrum.setpoints"
   ]
  },
  {
   "cell_type": "markdown",
   "metadata": {},
   "source": [
    "Or even change them."
   ]
  },
  {
   "cell_type": "code",
   "execution_count": 17,
   "metadata": {
    "execution": {
     "iopub.execute_input": "2020-09-18T18:42:41.932774Z",
     "iopub.status.busy": "2020-09-18T18:42:41.931552Z",
     "iopub.status.idle": "2020-09-18T18:42:41.933416Z",
     "shell.execute_reply": "2020-09-18T18:42:41.934021Z"
    }
   },
   "outputs": [],
   "source": [
    "a.spectrum.setpoints = (a.freq_axis,)"
   ]
  },
  {
   "cell_type": "markdown",
   "metadata": {},
   "source": [
    "## Measurement"
   ]
  },
  {
   "cell_type": "markdown",
   "metadata": {},
   "source": [
    "We can also directly consume the parameter in a measurement without defining the setpoints of the parameter again. The setpoints are automatically obtained from the definition of the `ParameterWithSetpoint` instance. "
   ]
  },
  {
   "cell_type": "code",
   "execution_count": 18,
   "metadata": {
    "execution": {
     "iopub.execute_input": "2020-09-18T18:42:41.938344Z",
     "iopub.status.busy": "2020-09-18T18:42:41.937767Z",
     "iopub.status.idle": "2020-09-18T18:42:41.953474Z",
     "shell.execute_reply": "2020-09-18T18:42:41.952818Z"
    }
   },
   "outputs": [
    {
     "name": "stdout",
     "output_type": "stream",
     "text": [
      "Starting experimental run with id: 1. \n"
     ]
    }
   ],
   "source": [
    "meas = Measurement()\n",
    "meas.register_parameter(a.spectrum)\n",
    "\n",
    "with meas.run() as datasaver:\n",
    "    datasaver.add_result((a.freq_axis, a.freq_axis()),\n",
    "                         (a.spectrum, a.spectrum()))\n",
    "    dataset = datasaver.dataset"
   ]
  },
  {
   "cell_type": "markdown",
   "metadata": {},
   "source": [
    "And plot it"
   ]
  },
  {
   "cell_type": "code",
   "execution_count": 19,
   "metadata": {
    "execution": {
     "iopub.execute_input": "2020-09-18T18:42:41.956931Z",
     "iopub.status.busy": "2020-09-18T18:42:41.956106Z",
     "iopub.status.idle": "2020-09-18T18:42:42.365239Z",
     "shell.execute_reply": "2020-09-18T18:42:42.365838Z"
    }
   },
   "outputs": [
    {
     "data": {
      "text/plain": [
       "([<AxesSubplot:title={'center':'Run #1, Experiment tutorial_ParameterWithSetpoints (no sample)'}, xlabel='Freq Axis (Hz)', ylabel='Spectrum ($10^{-3}$ dBm)'>],\n",
       " [None])"
      ]
     },
     "execution_count": 1,
     "metadata": {},
     "output_type": "execute_result"
    },
    {
     "data": {
      "image/png": "[encoded data removed]",
      "text/plain": [
       "<Figure size 432x288 with 1 Axes>"
      ]
     },
     "metadata": {
      "needs_background": "light"
     },
     "output_type": "display_data"
    }
   ],
   "source": [
    "plot_dataset(dataset)"
   ]
  },
  {
   "cell_type": "markdown",
   "metadata": {},
   "source": [
    "To reduce the amount of typing a simple convenience function is provided that will take a `ParameterWithSetpoints` and get both its values and the setpoints values and return them as tuples for direct insertion into the Dataset."
   ]
  },
  {
   "cell_type": "code",
   "execution_count": 20,
   "metadata": {
    "execution": {
     "iopub.execute_input": "2020-09-18T18:42:42.379918Z",
     "iopub.status.busy": "2020-09-18T18:42:42.369558Z",
     "iopub.status.idle": "2020-09-18T18:42:42.385585Z",
     "shell.execute_reply": "2020-09-18T18:42:42.384980Z"
    },
    "scrolled": true
   },
   "outputs": [
    {
     "data": {
      "text/plain": [
       "[(<__main__.GeneratedSetPoints: freq_axis at 140570296160144>,\n",
       "  array([  0.,   1.,   2.,   3.,   4.,   5.,   6.,   7.,   8.,   9.,  10.,\n",
       "          11.,  12.,  13.,  14.,  15.,  16.,  17.,  18.,  19.,  20.,  21.,\n",
       "          22.,  23.,  24.,  25.,  26.,  27.,  28.,  29.,  30.,  31.,  32.,\n",
       "          33.,  34.,  35.,  36.,  37.,  38.,  39.,  40.,  41.,  42.,  43.,\n",
       "          44.,  45.,  46.,  47.,  48.,  49.,  50.,  51.,  52.,  53.,  54.,\n",
       "          55.,  56.,  57.,  58.,  59.,  60.,  61.,  62.,  63.,  64.,  65.,\n",
       "          66.,  67.,  68.,  69.,  70.,  71.,  72.,  73.,  74.,  75.,  76.,\n",
       "          77.,  78.,  79.,  80.,  81.,  82.,  83.,  84.,  85.,  86.,  87.,\n",
       "          88.,  89.,  90.,  91.,  92.,  93.,  94.,  95.,  96.,  97.,  98.,\n",
       "          99., 100., 101., 102., 103., 104., 105., 106., 107., 108., 109.,\n",
       "         110., 111., 112., 113., 114., 115., 116., 117., 118., 119., 120.,\n",
       "         121., 122., 123., 124., 125., 126., 127., 128., 129., 130., 131.,\n",
       "         132., 133., 134., 135., 136., 137., 138., 139., 140., 141., 142.,\n",
       "         143., 144., 145., 146., 147., 148., 149., 150., 151., 152., 153.,\n",
       "         154., 155., 156., 157., 158., 159., 160., 161., 162., 163., 164.,\n",
       "         165., 166., 167., 168., 169., 170., 171., 172., 173., 174., 175.,\n",
       "         176., 177., 178., 179., 180., 181., 182., 183., 184., 185., 186.,\n",
       "         187., 188., 189., 190., 191., 192., 193., 194., 195., 196., 197.,\n",
       "         198., 199., 200., 201., 202., 203., 204., 205., 206., 207., 208.,\n",
       "         209., 210., 211., 212., 213., 214., 215., 216., 217., 218., 219.,\n",
       "         220., 221., 222., 223., 224., 225., 226., 227., 228., 229., 230.,\n",
       "         231., 232., 233., 234., 235., 236., 237., 238., 239., 240., 241.,\n",
       "         242., 243., 244., 245., 246., 247., 248., 249., 250., 251., 252.,\n",
       "         253., 254., 255., 256., 257., 258., 259., 260., 261., 262., 263.,\n",
       "         264., 265., 266., 267., 268., 269., 270., 271., 272., 273., 274.,\n",
       "         275., 276., 277., 278., 279., 280., 281., 282., 283., 284., 285.,\n",
       "         286., 287., 288., 289., 290., 291., 292., 293., 294., 295., 296.,\n",
       "         297., 298., 299., 300., 301., 302., 303., 304., 305., 306., 307.,\n",
       "         308., 309., 310., 311., 312., 313., 314., 315., 316., 317., 318.,\n",
       "         319., 320., 321., 322., 323., 324., 325., 326., 327., 328., 329.,\n",
       "         330., 331., 332., 333., 334., 335., 336., 337., 338., 339., 340.,\n",
       "         341., 342., 343., 344., 345., 346., 347., 348., 349., 350., 351.,\n",
       "         352., 353., 354., 355., 356., 357., 358., 359., 360., 361., 362.,\n",
       "         363., 364., 365., 366., 367., 368., 369., 370., 371., 372., 373.,\n",
       "         374., 375., 376., 377., 378., 379., 380., 381., 382., 383., 384.,\n",
       "         385., 386., 387., 388., 389., 390., 391., 392., 393., 394., 395.,\n",
       "         396., 397., 398., 399., 400., 401., 402., 403., 404., 405., 406.,\n",
       "         407., 408., 409., 410., 411., 412., 413., 414., 415., 416., 417.,\n",
       "         418., 419., 420., 421., 422., 423., 424., 425., 426., 427., 428.,\n",
       "         429., 430., 431., 432., 433., 434., 435., 436., 437., 438., 439.,\n",
       "         440., 441., 442., 443., 444., 445., 446., 447., 448., 449., 450.,\n",
       "         451., 452., 453., 454., 455., 456., 457., 458., 459., 460., 461.,\n",
       "         462., 463., 464., 465., 466., 467., 468., 469., 470., 471., 472.,\n",
       "         473., 474., 475., 476., 477., 478., 479., 480., 481., 482., 483.,\n",
       "         484., 485., 486., 487., 488., 489., 490., 491., 492., 493., 494.,\n",
       "         495., 496., 497., 498., 499., 500.])),\n",
       " (<__main__.DummyArray: spectrum at 140570310002768>,\n",
       "  array([0.98405682, 0.458123  , 0.53259717, 0.28749674, 0.94666206,\n",
       "         0.1301411 , 0.15444359, 0.82202089, 0.38600274, 0.87893081,\n",
       "         0.06367991, 0.77609918, 0.94027273, 0.6804081 , 0.06066327,\n",
       "         0.08630954, 0.58237994, 0.89060274, 0.21807611, 0.7561562 ,\n",
       "         0.59283449, 0.36816859, 0.16194914, 0.77188927, 0.15697028,\n",
       "         0.83617171, 0.15142806, 0.61902748, 0.35222668, 0.15358991,\n",
       "         0.47957223, 0.09765407, 0.77059358, 0.65982774, 0.02472313,\n",
       "         0.86939254, 0.1125174 , 0.74666343, 0.31100109, 0.90396263,\n",
       "         0.52576026, 0.94933456, 0.0983115 , 0.22208717, 0.9504942 ,\n",
       "         0.18262169, 0.00363421, 0.33129041, 0.48041857, 0.54538389,\n",
       "         0.80486798, 0.77233733, 0.87922988, 0.16026149, 0.22243973,\n",
       "         0.9672626 , 0.57307245, 0.59783123, 0.48767216, 0.51305628,\n",
       "         0.67807001, 0.59752664, 0.51308417, 0.45929499, 0.65450245,\n",
       "         0.23810562, 0.73596144, 0.32150164, 0.4291495 , 0.21811987,\n",
       "         0.8895605 , 0.92517412, 0.65172411, 0.29870362, 0.07460274,\n",
       "         0.36691069, 0.33113252, 0.97833071, 0.05578141, 0.68824128,\n",
       "         0.69147969, 0.18749071, 0.5923016 , 0.10805829, 0.02880619,\n",
       "         0.40255139, 0.21970246, 0.81237139, 0.71858117, 0.71570925,\n",
       "         0.84790072, 0.49842562, 0.45410843, 0.79568626, 0.02010586,\n",
       "         0.42993876, 0.67154104, 0.12526465, 0.3008066 , 0.16883768,\n",
       "         0.1903715 , 0.8282433 , 0.22170421, 0.03936373, 0.42083819,\n",
       "         0.38731226, 0.38694125, 0.49870307, 0.08267013, 0.96538566,\n",
       "         0.49569714, 0.01847127, 0.76206362, 0.22897615, 0.30379258,\n",
       "         0.05542602, 0.59354015, 0.82726226, 0.43722267, 0.30063217,\n",
       "         0.59846199, 0.06691793, 0.13415054, 0.65107356, 0.47715815,\n",
       "         0.98852357, 0.83211799, 0.7706563 , 0.77437026, 0.09533051,\n",
       "         0.38985996, 0.6746696 , 0.74889593, 0.82487765, 0.75613609,\n",
       "         0.45877229, 0.064462  , 0.86213312, 0.28496069, 0.11661475,\n",
       "         0.45674049, 0.92390568, 0.49628824, 0.36118665, 0.33266907,\n",
       "         0.79161722, 0.08128238, 0.78248295, 0.27263233, 0.30427503,\n",
       "         0.28946928, 0.93292342, 0.22395705, 0.86446424, 0.23524643,\n",
       "         0.30219711, 0.05916851, 0.48252628, 0.9508186 , 0.22794849,\n",
       "         0.20184093, 0.50548934, 0.03932008, 0.2958451 , 0.13902132,\n",
       "         0.17910941, 0.57507402, 0.01581378, 0.19827906, 0.32827387,\n",
       "         0.36936975, 0.01582459, 0.69281953, 0.93827096, 0.90222781,\n",
       "         0.68822502, 0.40869396, 0.35516933, 0.55809738, 0.61397315,\n",
       "         0.40611509, 0.61642801, 0.49834199, 0.01085757, 0.85849967,\n",
       "         0.09122731, 0.48966241, 0.16412154, 0.22795275, 0.31539778,\n",
       "         0.13345644, 0.41885928, 0.23148107, 0.64085107, 0.70237287,\n",
       "         0.19813384, 0.71240157, 0.54347694, 0.1734702 , 0.33456649,\n",
       "         0.73606267, 0.86520565, 0.99864538, 0.48436037, 0.35527511,\n",
       "         0.43380793, 0.96459848, 0.62363286, 0.30296665, 0.15294797,\n",
       "         0.89428928, 0.12468268, 0.17412188, 0.69729683, 0.5982011 ,\n",
       "         0.90695646, 0.79245233, 0.91573104, 0.1023659 , 0.08337856,\n",
       "         0.95866741, 0.2201222 , 0.9132288 , 0.66104711, 0.75927876,\n",
       "         0.63892024, 0.31709121, 0.4206265 , 0.63518791, 0.30950546,\n",
       "         0.3840112 , 0.48888756, 0.21733128, 0.30036727, 0.75919131,\n",
       "         0.24728706, 0.36160597, 0.77463232, 0.72114854, 0.86946068,\n",
       "         0.18139239, 0.16668154, 0.43833147, 0.29253806, 0.58288491,\n",
       "         0.28013849, 0.34391175, 0.79835903, 0.80211742, 0.40666446,\n",
       "         0.9636995 , 0.59732851, 0.75084039, 0.23838849, 0.49108393,\n",
       "         0.92133085, 0.83509011, 0.67151482, 0.08651058, 0.14195147,\n",
       "         0.63942154, 0.49678406, 0.57509322, 0.90670266, 0.05284271,\n",
       "         0.08482167, 0.18368187, 0.09442921, 0.34723964, 0.70400258,\n",
       "         0.25713414, 0.47525616, 0.14213298, 0.3429237 , 0.18434594,\n",
       "         0.08201149, 0.15036316, 0.82127349, 0.92566317, 0.97791211,\n",
       "         0.38484467, 0.31187178, 0.08793665, 0.89603289, 0.89791868,\n",
       "         0.2324592 , 0.86789511, 0.93148088, 0.78592295, 0.41035187,\n",
       "         0.64577699, 0.13887004, 0.18518369, 0.26606448, 0.26523785,\n",
       "         0.01849204, 0.23332298, 0.85746893, 0.00604822, 0.41836247,\n",
       "         0.78782267, 0.02686341, 0.98628023, 0.19521123, 0.9927959 ,\n",
       "         0.01292465, 0.65633239, 0.40839077, 0.34253634, 0.2669858 ,\n",
       "         0.22228031, 0.90515896, 0.94721445, 0.83871902, 0.67244496,\n",
       "         0.7956064 , 0.07994993, 0.5462666 , 0.33429455, 0.18654269,\n",
       "         0.37971524, 0.18095127, 0.97853118, 0.18070289, 0.74492681,\n",
       "         0.7169965 , 0.44052538, 0.66057448, 0.83922102, 0.64608568,\n",
       "         0.75629258, 0.12955093, 0.47217259, 0.04011157, 0.38809857,\n",
       "         0.2759568 , 0.52437804, 0.1892905 , 0.11337484, 0.82943801,\n",
       "         0.33861419, 0.15618564, 0.71602014, 0.60136959, 0.05489031,\n",
       "         0.4052992 , 0.34741628, 0.92173882, 0.28750721, 0.99532427,\n",
       "         0.12457027, 0.00759706, 0.63422986, 0.85768022, 0.62232899,\n",
       "         0.2505329 , 0.64266199, 0.35861593, 0.77098296, 0.56908216,\n",
       "         0.2964765 , 0.82595005, 0.67173447, 0.49457529, 0.75467188,\n",
       "         0.03242934, 0.71071804, 0.42147794, 0.6506666 , 0.47940201,\n",
       "         0.13247568, 0.59739829, 0.69033361, 0.68020438, 0.49125091,\n",
       "         0.48053835, 0.85822446, 0.8892851 , 0.69891597, 0.59203847,\n",
       "         0.77122165, 0.17407146, 0.96151881, 0.97256116, 0.7613272 ,\n",
       "         0.51512501, 0.72011725, 0.83162476, 0.20151605, 0.30285773,\n",
       "         0.45050441, 0.28070905, 0.59597238, 0.0811433 , 0.79582381,\n",
       "         0.66446446, 0.03600348, 0.69100634, 0.3606199 , 0.84062738,\n",
       "         0.01237228, 0.55052299, 0.48203709, 0.20663718, 0.85702314,\n",
       "         0.45601912, 0.35594577, 0.10942996, 0.24317901, 0.79090785,\n",
       "         0.79597058, 0.98011087, 0.9523938 , 0.4858731 , 0.98427891,\n",
       "         0.87362892, 0.20766171, 0.10006856, 0.53101289, 0.88836932,\n",
       "         0.40254999, 0.39417881, 0.0680799 , 0.78159473, 0.35035188,\n",
       "         0.9915929 , 0.50723585, 0.67461891, 0.02317756, 0.06531013,\n",
       "         0.44135368, 0.35028666, 0.95818736, 0.48782124, 0.67804553,\n",
       "         0.85462127, 0.60070077, 0.58797514, 0.10146686, 0.02081946,\n",
       "         0.5182829 , 0.22447515, 0.24636606, 0.13944295, 0.82944803,\n",
       "         0.59486262, 0.18091197, 0.38719406, 0.73293184, 0.65838501,\n",
       "         0.89271253, 0.94295362, 0.15045738, 0.16345989, 0.93869035,\n",
       "         0.77022611, 0.62913501, 0.09689527, 0.57203055, 0.81282124,\n",
       "         0.56845635, 0.25391873, 0.54634206, 0.48956086, 0.96773992,\n",
       "         0.55881557, 0.23671335, 0.17405814, 0.28552221, 0.34812739,\n",
       "         0.84574988, 0.01770004, 0.97629873, 0.4876901 , 0.34805508,\n",
       "         0.37983093, 0.37470029, 0.18069018, 0.46809926, 0.78698801,\n",
       "         0.96406344, 0.99923902, 0.91235889, 0.16863096, 0.64331628,\n",
       "         0.59926313, 0.87163324, 0.51360174, 0.578026  , 0.33803911,\n",
       "         0.05409007, 0.09020928, 0.22127495, 0.74058985, 0.77805449,\n",
       "         0.8325012 , 0.01381022, 0.5078287 , 0.55576998, 0.14014918,\n",
       "         0.49122541]))]"
      ]
     },
     "execution_count": 1,
     "metadata": {},
     "output_type": "execute_result"
    }
   ],
   "source": [
    "expand_setpoints_helper(a.spectrum)"
   ]
  },
  {
   "cell_type": "code",
   "execution_count": 21,
   "metadata": {
    "execution": {
     "iopub.execute_input": "2020-09-18T18:42:42.390555Z",
     "iopub.status.busy": "2020-09-18T18:42:42.389595Z",
     "iopub.status.idle": "2020-09-18T18:42:42.405080Z",
     "shell.execute_reply": "2020-09-18T18:42:42.404320Z"
    }
   },
   "outputs": [
    {
     "name": "stdout",
     "output_type": "stream",
     "text": [
      "Starting experimental run with id: 2. \n"
     ]
    }
   ],
   "source": [
    "meas = Measurement()\n",
    "meas.register_parameter(a.spectrum)\n",
    "\n",
    "with meas.run() as datasaver:\n",
    "    datasaver.add_result(*expand_setpoints_helper(a.spectrum))\n",
    "    \n",
    "    dataid = datasaver.run_id"
   ]
  },
  {
   "cell_type": "code",
   "execution_count": null,
   "metadata": {},
   "outputs": [],
   "source": []
  }
 ],
 "metadata": {
  "kernelspec": {
   "display_name": "Python 3",
   "language": "python",
   "name": "python3"
  },
  "language_info": {
   "codemirror_mode": {
    "name": "ipython",
    "version": 3
   },
   "file_extension": ".py",
   "mimetype": "text/x-python",
   "name": "python",
   "nbconvert_exporter": "python",
   "pygments_lexer": "ipython3",
   "version": "3.7.7"
  },
  "toc": {
   "base_numbering": 1,
   "nav_menu": {},
   "number_sections": true,
   "sideBar": true,
   "skip_h1_title": false,
   "title_cell": "Table of Contents",
   "title_sidebar": "Contents",
   "toc_cell": false,
   "toc_position": {},
   "toc_section_display": true,
   "toc_window_display": false
  },
  "varInspector": {
   "cols": {
    "lenName": 16,
    "lenType": 16,
    "lenVar": 40
   },
   "kernels_config": {
    "python": {
     "delete_cmd_postfix": "",
     "delete_cmd_prefix": "del ",
     "library": "var_list.py",
     "varRefreshCmd": "print(var_dic_list())"
    },
    "r": {
     "delete_cmd_postfix": ") ",
     "delete_cmd_prefix": "rm(",
     "library": "var_list.r",
     "varRefreshCmd": "cat(var_dic_list()) "
    }
   },
   "types_to_exclude": [
    "module",
    "function",
    "builtin_function_or_method",
    "instance",
    "_Feature"
   ],
   "window_display": false
  }
 },
 "nbformat": 4,
 "nbformat_minor": 2
}
