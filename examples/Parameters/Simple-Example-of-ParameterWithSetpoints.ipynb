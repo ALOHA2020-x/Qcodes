{
 "cells": [
  {
   "cell_type": "markdown",
   "metadata": {},
   "source": [
    "# Simple Example of ParameterWithSetpoints\n",
    "This notebook provides an example for writing a simple driver with a parameter that has setpoints. Let's name this parameter that has setpoints as \"y\". Then, the setpoints, say \"x1, x2, x3 ..\", are the parameters on which the parameter \n",
    "\"y\" depends upon. Meaning \"y\" is a function of \"x1, x2, x3 ...\" where \"x1, x2, x3 ...\" are known as the setpoints of parameter \"y\".\n",
    "\n",
    "This is most likely to be useful for instruments that return arrays of results. In this notebook, we will show an example of this."
   ]
  },
  {
   "cell_type": "code",
   "execution_count": 1,
   "metadata": {},
   "outputs": [],
   "source": [
    "import numpy as np\n",
    "import os"
   ]
  },
  {
   "cell_type": "code",
   "execution_count": 2,
   "metadata": {},
   "outputs": [
    {
     "name": "stdout",
     "output_type": "stream",
     "text": [
      "Logging hadn't been started.\n",
      "Activating auto-logging. Current session state plus future input saved.\n",
      "Filename       : /home/vsts/.qcodes/logs/command_history.log\n",
      "Mode           : append\n",
      "Output logging : True\n",
      "Raw input log  : False\n",
      "Timestamping   : True\n",
      "State          : active\n"
     ]
    },
    {
     "name": "stdout",
     "output_type": "stream",
     "text": [
      "Qcodes Logfile : /home/vsts/.qcodes/logs/200608-22733-qcodes.log\n"
     ]
    }
   ],
   "source": [
    "from qcodes.dataset.plotting import plot_dataset\n",
    "from qcodes.utils.validators import Numbers, Arrays\n",
    "from qcodes.instrument.base import Instrument\n",
    "from qcodes.dataset.measurements import Measurement"
   ]
  },
  {
   "cell_type": "code",
   "execution_count": 3,
   "metadata": {},
   "outputs": [],
   "source": [
    "from qcodes.dataset.sqlite.database import initialise_or_create_database_at\n",
    "from qcodes.dataset.experiment_container import load_or_create_experiment"
   ]
  },
  {
   "cell_type": "code",
   "execution_count": 4,
   "metadata": {},
   "outputs": [],
   "source": [
    "from qcodes.instrument.parameter import ParameterWithSetpoints, Parameter\n",
    "from qcodes.instrument.parameter import expand_setpoints_helper"
   ]
  },
  {
   "cell_type": "markdown",
   "metadata": {},
   "source": [
    "First, we define a dummy instrument that returns something like a frequency spectrum starting from a frequency given by `f_start` to a frequency given by `f_stop` in `n_points` steps. \n",
    "\n",
    "The extra functionality of the `ParameterWithSetpoints` is implemented by giving it a reference to one or more parameters that acts like its setpoints. \n",
    "\n",
    "To setup a `ParameterWithSetpoints` we have to do two things in addition to what we do for a normal parameter.\n",
    "\n",
    "* Define one or more parameter for the setpoints (one for each dimension of the array and let the `ParameterWithSetpoints` know that these are the setpoints.\n",
    "* Give both the setpoints parameter(s) and the `ParameterWithSetpoints` a `validator` of type `Arrays` with a shape. The shapes should be such that the combined shape of the setpoints matches the shape of the `ParameterWithSetpoints`. Note that if the shape changes with the setting of the instrument, it can be defined by another parameter as shown below. "
   ]
  },
  {
   "cell_type": "code",
   "execution_count": 5,
   "metadata": {},
   "outputs": [],
   "source": [
    "class GeneratedSetPoints(Parameter):\n",
    "    \"\"\"\n",
    "    A parameter that generates a setpoint array from start, stop and num points\n",
    "    parameters.\n",
    "    \"\"\"\n",
    "    def __init__(self, startparam, stopparam, numpointsparam, *args, **kwargs):\n",
    "        super().__init__(*args, **kwargs)\n",
    "        self._startparam = startparam\n",
    "        self._stopparam = stopparam\n",
    "        self._numpointsparam = numpointsparam\n",
    "\n",
    "    def get_raw(self):\n",
    "        return np.linspace(self._startparam(), self._stopparam(),\n",
    "                              self._numpointsparam())\n",
    "\n",
    "class DummyArray(ParameterWithSetpoints):\n",
    "    \n",
    "    def get_raw(self):\n",
    "        npoints = self.root_instrument.n_points.get_latest()\n",
    "        return np.random.rand(npoints)\n",
    "    \n",
    "\n",
    "class DummySpectrumAnalyzer(Instrument):\n",
    "    \n",
    "    def __init__(self, name, **kwargs):\n",
    "        \n",
    "        super().__init__(name, **kwargs)\n",
    "            \n",
    "\n",
    "        self.add_parameter('f_start',\n",
    "                           initial_value=0,\n",
    "                           unit='Hz',\n",
    "                           label='f start',\n",
    "                           vals=Numbers(0,1e3),\n",
    "                           get_cmd=None,\n",
    "                           set_cmd=None)\n",
    "\n",
    "        self.add_parameter('f_stop',\n",
    "                           unit='Hz',\n",
    "                           label='f stop',\n",
    "                           vals=Numbers(1,1e3),\n",
    "                           get_cmd=None,\n",
    "                           set_cmd=None)\n",
    "\n",
    "        self.add_parameter('n_points',\n",
    "                           unit='',\n",
    "                           initial_value=10,\n",
    "                           vals=Numbers(1,1e3),\n",
    "                           get_cmd=None,\n",
    "                           set_cmd=None)\n",
    "        \n",
    "        self.add_parameter('freq_axis',\n",
    "                           unit='Hz',\n",
    "                           label='Freq Axis',\n",
    "                           parameter_class=GeneratedSetPoints,\n",
    "                           startparam=self.f_start,\n",
    "                           stopparam=self.f_stop,\n",
    "                           numpointsparam=self.n_points,\n",
    "                           vals=Arrays(shape=(self.n_points.get_latest,)))\n",
    "                           \n",
    "        self.add_parameter('spectrum',\n",
    "                   unit='dBm',\n",
    "                   setpoints=(self.freq_axis,),\n",
    "                   label='Spectrum',\n",
    "                   parameter_class=DummyArray,\n",
    "                   vals=Arrays(shape=(self.n_points.get_latest,)))\n",
    "                "
   ]
  },
  {
   "cell_type": "markdown",
   "metadata": {},
   "source": [
    "In the above example, the shape is defined by the parameter `n_points` that defines how many samples our `DummySpectrumAnalyzer` returns.\n",
    "\n",
    "This means that the validation will call the function to get `n_points` twice for each `get` of the parameter. This may be too slow, however, if you (as the driver-writer) can guarantee that the cached value for `n_points` will never be out of sync with the value stored in the instrument, `n_points` may be replaced by it's latest known value such that the `validator` reads:\n",
    "```python\n",
    "vals=Arrays(shape=(self.n_points.get_latest))\n",
    "```\n",
    "\n",
    "This avoids any additional call to the instrument. In the same way, the arguments to the `freq_axis` parameter that defines the start, stop and number of points can be replaced by their latest value if the instrument allows it.\n",
    "\n"
   ]
  },
  {
   "cell_type": "code",
   "execution_count": 6,
   "metadata": {},
   "outputs": [
    {
     "name": "stdout",
     "output_type": "stream",
     "text": [
      "\r",
      "0it [00:00, ?it/s]"
     ]
    },
    {
     "name": "stdout",
     "output_type": "stream",
     "text": [
      "\r",
      "Upgrading database; v0 -> v1: : 0it [00:00, ?it/s]"
     ]
    },
    {
     "name": "stdout",
     "output_type": "stream",
     "text": [
      "\r",
      "Upgrading database; v0 -> v1: : 0it [00:00, ?it/s]"
     ]
    },
    {
     "name": "stdout",
     "output_type": "stream",
     "text": [
      "\n",
      "\r",
      "  0%|          | 0/1 [00:00<?, ?it/s]"
     ]
    },
    {
     "name": "stdout",
     "output_type": "stream",
     "text": [
      "\r",
      "Upgrading database; v1 -> v2:   0%|          | 0/1 [00:00<?, ?it/s]"
     ]
    },
    {
     "name": "stdout",
     "output_type": "stream",
     "text": [
      "\r",
      "Upgrading database; v1 -> v2: 100%|██████████| 1/1 [00:00<00:00, 900.84it/s]"
     ]
    },
    {
     "name": "stdout",
     "output_type": "stream",
     "text": [
      "\n",
      "\r",
      "0it [00:00, ?it/s]"
     ]
    },
    {
     "name": "stdout",
     "output_type": "stream",
     "text": [
      "\r",
      "Upgrading database; v2 -> v3: : 0it [00:00, ?it/s]"
     ]
    },
    {
     "name": "stdout",
     "output_type": "stream",
     "text": [
      "\r",
      "Upgrading database; v2 -> v3: : 0it [00:00, ?it/s]"
     ]
    },
    {
     "name": "stdout",
     "output_type": "stream",
     "text": [
      "\n",
      "\r",
      "0it [00:00, ?it/s]"
     ]
    },
    {
     "name": "stdout",
     "output_type": "stream",
     "text": [
      "\r",
      "Upgrading database; v3 -> v4: : 0it [00:00, ?it/s]"
     ]
    },
    {
     "name": "stdout",
     "output_type": "stream",
     "text": [
      "\r",
      "Upgrading database; v3 -> v4: : 0it [00:00, ?it/s]"
     ]
    },
    {
     "name": "stdout",
     "output_type": "stream",
     "text": [
      "\n",
      "\r",
      "  0%|          | 0/1 [00:00<?, ?it/s]"
     ]
    },
    {
     "name": "stdout",
     "output_type": "stream",
     "text": [
      "\r",
      "Upgrading database; v4 -> v5:   0%|          | 0/1 [00:00<?, ?it/s]"
     ]
    },
    {
     "name": "stdout",
     "output_type": "stream",
     "text": [
      "\r",
      "Upgrading database; v4 -> v5: 100%|██████████| 1/1 [00:00<00:00, 706.94it/s]"
     ]
    },
    {
     "name": "stdout",
     "output_type": "stream",
     "text": [
      "\n",
      "\r",
      "0it [00:00, ?it/s]"
     ]
    },
    {
     "name": "stdout",
     "output_type": "stream",
     "text": [
      "\r",
      "Upgrading database; v5 -> v6: : 0it [00:00, ?it/s]"
     ]
    },
    {
     "name": "stdout",
     "output_type": "stream",
     "text": [
      "\r",
      "Upgrading database; v5 -> v6: : 0it [00:00, ?it/s]"
     ]
    },
    {
     "name": "stdout",
     "output_type": "stream",
     "text": [
      "\n",
      "\r",
      "  0%|          | 0/1 [00:00<?, ?it/s]"
     ]
    },
    {
     "name": "stdout",
     "output_type": "stream",
     "text": [
      "\r",
      "Upgrading database; v6 -> v7:   0%|          | 0/1 [00:00<?, ?it/s]"
     ]
    },
    {
     "name": "stdout",
     "output_type": "stream",
     "text": [
      "\r",
      "Upgrading database; v6 -> v7: 100%|██████████| 1/1 [00:00<00:00, 386.61it/s]"
     ]
    },
    {
     "name": "stdout",
     "output_type": "stream",
     "text": [
      "\n",
      "\r",
      "  0%|          | 0/1 [00:00<?, ?it/s]"
     ]
    },
    {
     "name": "stdout",
     "output_type": "stream",
     "text": [
      "\r",
      "Upgrading database; v7 -> v8:   0%|          | 0/1 [00:00<?, ?it/s]"
     ]
    },
    {
     "name": "stdout",
     "output_type": "stream",
     "text": [
      "\r",
      "Upgrading database; v7 -> v8: 100%|██████████| 1/1 [00:00<00:00, 646.27it/s]"
     ]
    },
    {
     "name": "stdout",
     "output_type": "stream",
     "text": [
      "\n",
      "\r",
      "  0%|          | 0/1 [00:00<?, ?it/s]"
     ]
    },
    {
     "name": "stdout",
     "output_type": "stream",
     "text": [
      "\r",
      "Upgrading database; v8 -> v9:   0%|          | 0/1 [00:00<?, ?it/s]"
     ]
    },
    {
     "name": "stdout",
     "output_type": "stream",
     "text": [
      "\r",
      "Upgrading database; v8 -> v9: 100%|██████████| 1/1 [00:00<00:00, 788.55it/s]"
     ]
    },
    {
     "name": "stdout",
     "output_type": "stream",
     "text": [
      "\n"
     ]
    },
    {
     "data": {
      "text/plain": [
       "tutorial_ParameterWithSetpoints#no sample#1@/home/vsts/work/1/s/docs/examples/Parameters/tutorial_paramter_with_setpoints.db\n",
       "----------------------------------------------------------------------------------------------------------------------------"
      ]
     },
     "execution_count": 6,
     "metadata": {},
     "output_type": "execute_result"
    }
   ],
   "source": [
    "tutorial_db_path = os.path.join(os.getcwd(), 'tutorial_paramter_with_setpoints.db')\n",
    "initialise_or_create_database_at(tutorial_db_path)\n",
    "load_or_create_experiment(experiment_name='tutorial_ParameterWithSetpoints', sample_name=\"no sample\")"
   ]
  },
  {
   "cell_type": "code",
   "execution_count": 7,
   "metadata": {},
   "outputs": [],
   "source": [
    "a = DummySpectrumAnalyzer('foobar')"
   ]
  },
  {
   "cell_type": "markdown",
   "metadata": {},
   "source": [
    "First we setup the limits of the spectrum"
   ]
  },
  {
   "cell_type": "code",
   "execution_count": 8,
   "metadata": {},
   "outputs": [],
   "source": [
    "a.f_start(0)\n",
    "a.f_stop(500)\n",
    "a.n_points(501)"
   ]
  },
  {
   "cell_type": "markdown",
   "metadata": {},
   "source": [
    "And we can grab the frequency axis"
   ]
  },
  {
   "cell_type": "code",
   "execution_count": 9,
   "metadata": {},
   "outputs": [
    {
     "data": {
      "text/plain": [
       "501"
      ]
     },
     "execution_count": 9,
     "metadata": {},
     "output_type": "execute_result"
    }
   ],
   "source": [
    "a.n_points()"
   ]
  },
  {
   "cell_type": "code",
   "execution_count": 10,
   "metadata": {
    "scrolled": false
   },
   "outputs": [
    {
     "data": {
      "text/plain": [
       "501"
      ]
     },
     "execution_count": 10,
     "metadata": {},
     "output_type": "execute_result"
    }
   ],
   "source": [
    "freq_axis = a.freq_axis()\n",
    "len(freq_axis)"
   ]
  },
  {
   "cell_type": "code",
   "execution_count": 11,
   "metadata": {},
   "outputs": [
    {
     "data": {
      "text/plain": [
       "array([0., 1., 2., 3., 4., 5., 6., 7., 8., 9.])"
      ]
     },
     "execution_count": 11,
     "metadata": {},
     "output_type": "execute_result"
    }
   ],
   "source": [
    "freq_axis[:10]"
   ]
  },
  {
   "cell_type": "markdown",
   "metadata": {},
   "source": [
    "As expected we get a result wit 501 points as we asked for an axis with 501 points. "
   ]
  },
  {
   "cell_type": "markdown",
   "metadata": {},
   "source": [
    "Above we have added a validator to the `freq_axis` parameter encoding the fact that this is an Array with `n_points`. Note that we do not have to supply the number of points as an integer but can supply a function that returns the valid number of points. This would normally be a QCoDeS parameter.\n",
    "\n",
    "This will be checked if we validate the output."
   ]
  },
  {
   "cell_type": "code",
   "execution_count": 12,
   "metadata": {},
   "outputs": [],
   "source": [
    "a.freq_axis.validate(a.freq_axis.get())"
   ]
  },
  {
   "cell_type": "markdown",
   "metadata": {},
   "source": [
    "Naturally, we can also get the spectrum. Getting the spectrum will automatically perform validation both for the shape of the parameter itself and the relation to the setpoint parameter(s)"
   ]
  },
  {
   "cell_type": "code",
   "execution_count": 13,
   "metadata": {
    "scrolled": true
   },
   "outputs": [
    {
     "data": {
      "text/plain": [
       "501"
      ]
     },
     "execution_count": 13,
     "metadata": {},
     "output_type": "execute_result"
    }
   ],
   "source": [
    "spectrum = a.spectrum.get()\n",
    "len(spectrum)"
   ]
  },
  {
   "cell_type": "markdown",
   "metadata": {},
   "source": [
    "When we validate a `ParameterWithSetpoints`, we automatically validate that the shape is consistent between the parameters and its setpoints. As well as validating the shape as above."
   ]
  },
  {
   "cell_type": "code",
   "execution_count": 14,
   "metadata": {},
   "outputs": [],
   "source": [
    "a.spectrum.validate(a.spectrum.get())"
   ]
  },
  {
   "cell_type": "markdown",
   "metadata": {},
   "source": [
    "The consistent shapes can be validated explicitly."
   ]
  },
  {
   "cell_type": "code",
   "execution_count": 15,
   "metadata": {},
   "outputs": [],
   "source": [
    "a.spectrum.validate_consistent_shape()"
   ]
  },
  {
   "cell_type": "markdown",
   "metadata": {},
   "source": [
    "We can inspect the setpoints of the spectrum."
   ]
  },
  {
   "cell_type": "code",
   "execution_count": 16,
   "metadata": {},
   "outputs": [
    {
     "data": {
      "text/plain": [
       "(<__main__.GeneratedSetPoints: freq_axis at 140614635798800>,)"
      ]
     },
     "execution_count": 16,
     "metadata": {},
     "output_type": "execute_result"
    }
   ],
   "source": [
    "a.spectrum.setpoints"
   ]
  },
  {
   "cell_type": "markdown",
   "metadata": {},
   "source": [
    "Or even change them."
   ]
  },
  {
   "cell_type": "code",
   "execution_count": 17,
   "metadata": {},
   "outputs": [],
   "source": [
    "a.spectrum.setpoints = (a.freq_axis,)"
   ]
  },
  {
   "cell_type": "markdown",
   "metadata": {},
   "source": [
    "## Measurement"
   ]
  },
  {
   "cell_type": "markdown",
   "metadata": {},
   "source": [
    "We can also directly consume the parameter in a measurement without defining the setpoints of the parameter again. The setpoints are automatically obtained from the definition of the `ParameterWithSetpoint` instance. "
   ]
  },
  {
   "cell_type": "code",
   "execution_count": 18,
   "metadata": {},
   "outputs": [
    {
     "name": "stdout",
     "output_type": "stream",
     "text": [
      "Starting experimental run with id: 1. \n"
     ]
    }
   ],
   "source": [
    "meas = Measurement()\n",
    "meas.register_parameter(a.spectrum)\n",
    "\n",
    "with meas.run() as datasaver:\n",
    "    datasaver.add_result((a.freq_axis, a.freq_axis()),\n",
    "                         (a.spectrum, a.spectrum()))\n",
    "    dataset = datasaver.dataset"
   ]
  },
  {
   "cell_type": "markdown",
   "metadata": {},
   "source": [
    "And plot it"
   ]
  },
  {
   "cell_type": "code",
   "execution_count": 19,
   "metadata": {},
   "outputs": [
    {
     "data": {
      "text/plain": [
       "([<matplotlib.axes._subplots.AxesSubplot at 0x7fe3656c0b50>], [None])"
      ]
     },
     "execution_count": 19,
     "metadata": {},
     "output_type": "execute_result"
    },
    {
     "data": {
      "image/png": "[encoded data removed]",
      "text/plain": [
       "<Figure size 432x288 with 1 Axes>"
      ]
     },
     "metadata": {
      "needs_background": "light"
     },
     "output_type": "display_data"
    }
   ],
   "source": [
    "plot_dataset(dataset)"
   ]
  },
  {
   "cell_type": "markdown",
   "metadata": {},
   "source": [
    "To reduce the amount of typing a simple convenience function is provided that will take a `ParameterWithSetpoints` and get both its values and the setpoints values and return them as tuples for direct insertion into the Dataset."
   ]
  },
  {
   "cell_type": "code",
   "execution_count": 20,
   "metadata": {
    "scrolled": true
   },
   "outputs": [
    {
     "data": {
      "text/plain": [
       "[(<__main__.GeneratedSetPoints: freq_axis at 140614635798800>,\n",
       "  array([  0.,   1.,   2.,   3.,   4.,   5.,   6.,   7.,   8.,   9.,  10.,\n",
       "          11.,  12.,  13.,  14.,  15.,  16.,  17.,  18.,  19.,  20.,  21.,\n",
       "          22.,  23.,  24.,  25.,  26.,  27.,  28.,  29.,  30.,  31.,  32.,\n",
       "          33.,  34.,  35.,  36.,  37.,  38.,  39.,  40.,  41.,  42.,  43.,\n",
       "          44.,  45.,  46.,  47.,  48.,  49.,  50.,  51.,  52.,  53.,  54.,\n",
       "          55.,  56.,  57.,  58.,  59.,  60.,  61.,  62.,  63.,  64.,  65.,\n",
       "          66.,  67.,  68.,  69.,  70.,  71.,  72.,  73.,  74.,  75.,  76.,\n",
       "          77.,  78.,  79.,  80.,  81.,  82.,  83.,  84.,  85.,  86.,  87.,\n",
       "          88.,  89.,  90.,  91.,  92.,  93.,  94.,  95.,  96.,  97.,  98.,\n",
       "          99., 100., 101., 102., 103., 104., 105., 106., 107., 108., 109.,\n",
       "         110., 111., 112., 113., 114., 115., 116., 117., 118., 119., 120.,\n",
       "         121., 122., 123., 124., 125., 126., 127., 128., 129., 130., 131.,\n",
       "         132., 133., 134., 135., 136., 137., 138., 139., 140., 141., 142.,\n",
       "         143., 144., 145., 146., 147., 148., 149., 150., 151., 152., 153.,\n",
       "         154., 155., 156., 157., 158., 159., 160., 161., 162., 163., 164.,\n",
       "         165., 166., 167., 168., 169., 170., 171., 172., 173., 174., 175.,\n",
       "         176., 177., 178., 179., 180., 181., 182., 183., 184., 185., 186.,\n",
       "         187., 188., 189., 190., 191., 192., 193., 194., 195., 196., 197.,\n",
       "         198., 199., 200., 201., 202., 203., 204., 205., 206., 207., 208.,\n",
       "         209., 210., 211., 212., 213., 214., 215., 216., 217., 218., 219.,\n",
       "         220., 221., 222., 223., 224., 225., 226., 227., 228., 229., 230.,\n",
       "         231., 232., 233., 234., 235., 236., 237., 238., 239., 240., 241.,\n",
       "         242., 243., 244., 245., 246., 247., 248., 249., 250., 251., 252.,\n",
       "         253., 254., 255., 256., 257., 258., 259., 260., 261., 262., 263.,\n",
       "         264., 265., 266., 267., 268., 269., 270., 271., 272., 273., 274.,\n",
       "         275., 276., 277., 278., 279., 280., 281., 282., 283., 284., 285.,\n",
       "         286., 287., 288., 289., 290., 291., 292., 293., 294., 295., 296.,\n",
       "         297., 298., 299., 300., 301., 302., 303., 304., 305., 306., 307.,\n",
       "         308., 309., 310., 311., 312., 313., 314., 315., 316., 317., 318.,\n",
       "         319., 320., 321., 322., 323., 324., 325., 326., 327., 328., 329.,\n",
       "         330., 331., 332., 333., 334., 335., 336., 337., 338., 339., 340.,\n",
       "         341., 342., 343., 344., 345., 346., 347., 348., 349., 350., 351.,\n",
       "         352., 353., 354., 355., 356., 357., 358., 359., 360., 361., 362.,\n",
       "         363., 364., 365., 366., 367., 368., 369., 370., 371., 372., 373.,\n",
       "         374., 375., 376., 377., 378., 379., 380., 381., 382., 383., 384.,\n",
       "         385., 386., 387., 388., 389., 390., 391., 392., 393., 394., 395.,\n",
       "         396., 397., 398., 399., 400., 401., 402., 403., 404., 405., 406.,\n",
       "         407., 408., 409., 410., 411., 412., 413., 414., 415., 416., 417.,\n",
       "         418., 419., 420., 421., 422., 423., 424., 425., 426., 427., 428.,\n",
       "         429., 430., 431., 432., 433., 434., 435., 436., 437., 438., 439.,\n",
       "         440., 441., 442., 443., 444., 445., 446., 447., 448., 449., 450.,\n",
       "         451., 452., 453., 454., 455., 456., 457., 458., 459., 460., 461.,\n",
       "         462., 463., 464., 465., 466., 467., 468., 469., 470., 471., 472.,\n",
       "         473., 474., 475., 476., 477., 478., 479., 480., 481., 482., 483.,\n",
       "         484., 485., 486., 487., 488., 489., 490., 491., 492., 493., 494.,\n",
       "         495., 496., 497., 498., 499., 500.])),\n",
       " (<__main__.DummyArray: spectrum at 140614645744720>,\n",
       "  array([8.57444400e-01, 6.81996844e-01, 2.22164829e-01, 7.04638628e-01,\n",
       "         2.03230424e-01, 2.70954676e-01, 9.58757076e-01, 9.75461789e-01,\n",
       "         9.57059922e-01, 6.58200741e-01, 4.95352952e-01, 9.24324113e-01,\n",
       "         1.70138395e-03, 8.49536601e-01, 1.55212083e-01, 5.24980358e-01,\n",
       "         5.12164704e-01, 5.84260678e-01, 7.43716517e-01, 8.89695090e-01,\n",
       "         1.40479257e-02, 1.13617315e-01, 7.57796185e-01, 1.07010842e-01,\n",
       "         8.59861479e-01, 9.24475808e-01, 3.10874109e-02, 8.56016732e-01,\n",
       "         2.21107083e-02, 4.29402520e-01, 2.67258756e-01, 1.38618194e-01,\n",
       "         5.53542072e-01, 6.77452836e-03, 4.67631810e-02, 4.27661998e-01,\n",
       "         4.12219281e-01, 3.38714507e-01, 2.30009380e-01, 2.35272996e-02,\n",
       "         6.72195295e-01, 8.58267484e-01, 9.41060037e-01, 4.77969814e-01,\n",
       "         5.77076873e-01, 5.04349415e-01, 8.49212453e-01, 7.30884781e-01,\n",
       "         1.33022853e-01, 3.13728631e-01, 5.65864553e-01, 7.19986103e-01,\n",
       "         4.96347597e-01, 2.06262786e-02, 4.36797588e-01, 4.57408066e-01,\n",
       "         7.61153683e-01, 1.49140478e-01, 8.23985024e-01, 7.50000027e-01,\n",
       "         1.26232876e-01, 9.11951418e-01, 7.09684320e-01, 7.85611367e-01,\n",
       "         8.99037461e-02, 8.44417250e-01, 1.06119721e-01, 4.05790668e-01,\n",
       "         4.16301757e-01, 5.83416339e-01, 6.71721147e-01, 7.15334851e-01,\n",
       "         2.10217394e-01, 7.33396526e-01, 5.18713574e-01, 9.24582211e-01,\n",
       "         2.22755639e-01, 3.77120028e-01, 6.28257910e-01, 5.52668600e-01,\n",
       "         4.96373565e-01, 8.50187790e-01, 4.23799598e-02, 1.73556793e-01,\n",
       "         5.28864754e-01, 4.40255948e-01, 6.23477769e-02, 6.27631781e-01,\n",
       "         5.68577754e-01, 8.76354861e-01, 5.34558079e-01, 7.82136215e-01,\n",
       "         6.12847906e-01, 1.40371920e-01, 8.63450693e-01, 9.12257007e-01,\n",
       "         3.71041361e-01, 8.71165662e-01, 1.35224032e-01, 5.70097876e-01,\n",
       "         7.27758083e-01, 6.37797585e-02, 3.65591112e-01, 4.61593497e-01,\n",
       "         8.01382552e-01, 2.25962363e-01, 1.05970568e-01, 4.86940223e-01,\n",
       "         9.38616191e-01, 4.89172578e-02, 4.19339642e-01, 4.04850770e-01,\n",
       "         1.69592101e-01, 7.21634548e-01, 3.53484015e-01, 8.42916340e-01,\n",
       "         6.14616023e-01, 7.13932371e-01, 1.06024480e-01, 5.58014150e-01,\n",
       "         5.49401030e-02, 9.30780797e-01, 7.09102600e-01, 9.08839889e-01,\n",
       "         6.13528136e-01, 3.01888541e-01, 1.24667459e-01, 9.47437752e-01,\n",
       "         3.15203035e-01, 6.97043781e-01, 3.76940174e-01, 5.19655860e-01,\n",
       "         3.49600977e-01, 9.90445390e-01, 2.74221620e-01, 3.63281846e-02,\n",
       "         1.54409076e-01, 5.11895150e-01, 9.06895452e-01, 1.51449681e-01,\n",
       "         2.58537869e-01, 7.05393030e-01, 4.88474404e-01, 4.02642514e-01,\n",
       "         9.56731583e-01, 9.49204743e-01, 9.19190565e-01, 6.13376756e-02,\n",
       "         3.47220774e-01, 4.11017158e-01, 3.39045454e-02, 7.27953579e-01,\n",
       "         6.89572180e-01, 1.45342638e-02, 3.78684191e-01, 6.22814376e-01,\n",
       "         1.10166924e-01, 8.57200937e-01, 9.81920659e-01, 4.07965611e-01,\n",
       "         9.77278555e-01, 6.53312539e-01, 2.25468716e-01, 2.65935339e-01,\n",
       "         4.39505930e-01, 9.98033827e-01, 1.28452957e-01, 4.43268040e-01,\n",
       "         2.76076700e-01, 8.42692755e-02, 3.21163518e-01, 7.03321741e-01,\n",
       "         2.16749025e-01, 9.20314335e-02, 9.61424637e-01, 2.18657153e-01,\n",
       "         2.87545577e-01, 1.09022656e-01, 6.70811240e-02, 2.46444204e-01,\n",
       "         6.27643081e-01, 8.73549973e-01, 1.33086761e-02, 7.24757630e-01,\n",
       "         3.46618934e-01, 6.36081801e-01, 6.69658640e-01, 3.68405078e-01,\n",
       "         3.47432265e-01, 2.78090754e-01, 3.39042748e-01, 2.99214226e-01,\n",
       "         2.37888122e-02, 7.50916826e-01, 6.47204779e-01, 9.65724316e-02,\n",
       "         3.57120887e-01, 7.62958817e-01, 1.54227223e-01, 3.78608111e-01,\n",
       "         6.95044888e-01, 2.07333506e-01, 3.51548853e-04, 4.92103675e-01,\n",
       "         6.88068210e-01, 1.25571840e-01, 4.71410610e-01, 9.09971718e-01,\n",
       "         1.13322796e-01, 8.76429973e-01, 7.81007162e-01, 9.95450730e-01,\n",
       "         8.44884915e-01, 6.25747914e-01, 8.92502564e-01, 1.32512007e-01,\n",
       "         6.30029964e-01, 6.08422463e-01, 1.11905603e-01, 1.25808141e-01,\n",
       "         5.20096648e-01, 9.29959777e-02, 2.41590889e-01, 9.56879342e-01,\n",
       "         5.59857157e-01, 6.60457650e-01, 2.74603738e-02, 9.78025842e-01,\n",
       "         7.12392057e-01, 6.79455668e-01, 5.34084049e-01, 3.15859761e-01,\n",
       "         8.02753991e-01, 4.95095574e-01, 1.03656069e-01, 4.76675341e-01,\n",
       "         9.25503568e-01, 2.89604704e-01, 5.88890512e-01, 3.08241092e-01,\n",
       "         2.59183483e-03, 6.85533247e-02, 7.70937111e-01, 5.31652080e-01,\n",
       "         3.82455614e-01, 2.91914785e-02, 1.71348212e-01, 5.03123171e-02,\n",
       "         9.40118256e-01, 9.47582563e-01, 1.27257971e-01, 6.40614942e-01,\n",
       "         8.85447165e-02, 8.33822109e-01, 4.78407986e-01, 4.22227025e-01,\n",
       "         8.56917354e-01, 3.75360274e-01, 8.86159416e-02, 2.66713119e-01,\n",
       "         3.83169857e-02, 4.92549071e-01, 9.42651129e-01, 6.03312558e-01,\n",
       "         7.10580165e-01, 9.94944916e-01, 8.55559023e-01, 5.36336570e-01,\n",
       "         6.08346673e-01, 8.04277348e-01, 9.37397933e-04, 3.29618702e-01,\n",
       "         7.88514054e-01, 1.01979581e-01, 3.17283544e-01, 2.30896034e-02,\n",
       "         8.25428069e-01, 4.50257423e-01, 8.90998318e-01, 5.39541210e-01,\n",
       "         7.65335366e-02, 2.48817857e-01, 3.98346761e-01, 3.05695831e-01,\n",
       "         6.17723912e-01, 1.49264770e-01, 4.26923362e-01, 2.37124331e-01,\n",
       "         5.13059381e-01, 9.56180616e-01, 7.14780432e-01, 5.70430808e-01,\n",
       "         3.69070046e-01, 6.66269901e-01, 9.11940477e-01, 6.03986503e-01,\n",
       "         3.84989737e-01, 9.01923065e-01, 3.18862480e-03, 4.20012538e-01,\n",
       "         8.55293245e-01, 5.54391403e-01, 7.82395322e-01, 6.46003571e-01,\n",
       "         8.81986079e-01, 4.24219089e-01, 8.59778992e-01, 2.00963666e-01,\n",
       "         6.46964428e-01, 3.96032449e-01, 1.15543905e-01, 6.62486950e-01,\n",
       "         1.31008281e-01, 3.48816637e-01, 6.54633758e-01, 4.91751015e-01,\n",
       "         8.02156612e-01, 1.42925582e-01, 3.52178163e-01, 6.32151487e-01,\n",
       "         2.14385640e-01, 5.08212683e-01, 6.49818915e-01, 7.55533920e-02,\n",
       "         2.31771581e-01, 1.45651817e-01, 2.78246752e-01, 5.61648561e-01,\n",
       "         8.12688438e-01, 3.53999846e-01, 3.96614669e-01, 1.62961993e-01,\n",
       "         8.53399281e-01, 1.27464964e-01, 5.73669182e-01, 1.06796306e-01,\n",
       "         6.01844307e-01, 7.34355415e-01, 7.05070710e-01, 1.72174201e-01,\n",
       "         7.35265916e-01, 6.80693419e-01, 1.46342946e-01, 7.45043731e-01,\n",
       "         2.55387772e-01, 1.39367835e-01, 7.32703991e-01, 9.56012913e-01,\n",
       "         9.76963711e-02, 1.60072156e-01, 8.20620872e-01, 7.56834470e-01,\n",
       "         5.26840378e-01, 6.15370627e-02, 4.08146329e-01, 8.45870997e-01,\n",
       "         8.15700815e-01, 8.59904785e-02, 8.85084395e-01, 6.48600616e-01,\n",
       "         4.20935357e-01, 2.10406087e-01, 9.74841994e-02, 9.74304882e-01,\n",
       "         7.93203466e-01, 6.28086491e-01, 4.98707135e-01, 9.39821456e-01,\n",
       "         3.28533351e-01, 7.85854158e-01, 8.77070963e-01, 3.35063876e-01,\n",
       "         3.61490755e-01, 9.59033942e-01, 7.72450158e-01, 4.03810490e-01,\n",
       "         6.63858485e-01, 4.36183436e-01, 6.62104158e-01, 5.73139249e-01,\n",
       "         8.62201181e-01, 8.54971577e-01, 7.22621782e-01, 9.22996515e-01,\n",
       "         2.27071354e-01, 5.73397664e-01, 4.04550812e-01, 8.40094608e-01,\n",
       "         2.60335316e-01, 5.97825388e-01, 6.34342631e-01, 9.00512074e-01,\n",
       "         4.39774573e-01, 8.38708892e-01, 8.38901949e-01, 4.41496072e-01,\n",
       "         8.18021712e-01, 5.51850135e-01, 6.90807159e-01, 3.66899667e-01,\n",
       "         6.38319831e-01, 4.10508488e-01, 4.97282871e-01, 5.00343703e-01,\n",
       "         9.47642297e-01, 4.48359759e-01, 6.69252383e-01, 1.70737393e-02,\n",
       "         9.80387975e-01, 3.98840962e-01, 9.66178813e-02, 1.85338027e-01,\n",
       "         9.77597891e-01, 3.59936602e-01, 9.90936716e-01, 4.04005114e-01,\n",
       "         3.32319423e-01, 7.14419065e-01, 7.50500132e-01, 1.11595777e-01,\n",
       "         1.74694906e-01, 6.76592978e-01, 6.43845825e-01, 6.27366392e-01,\n",
       "         9.12570053e-02, 6.20178848e-02, 4.97977957e-01, 9.97084899e-01,\n",
       "         8.98577600e-01, 4.17782601e-01, 3.51585508e-02, 8.30198936e-01,\n",
       "         6.94322780e-01, 4.60721372e-01, 6.06701262e-01, 5.77035056e-01,\n",
       "         4.76054372e-01, 9.72966423e-01, 1.46688828e-03, 8.50488676e-01,\n",
       "         4.18351347e-01, 1.06536032e-01, 6.43271907e-01, 3.59496947e-01,\n",
       "         7.15817724e-01, 5.21443619e-02, 3.11238215e-01, 6.79952416e-01,\n",
       "         8.91599841e-01, 1.39663552e-01, 4.13593345e-01, 7.70663355e-02,\n",
       "         8.45962696e-01, 9.63534441e-01, 5.19370483e-01, 7.42260553e-02,\n",
       "         6.48384243e-01, 9.52702082e-01, 2.65448018e-01, 2.03164664e-01,\n",
       "         4.55407008e-01, 8.68910328e-01, 1.44910673e-01, 4.41682914e-02,\n",
       "         1.26067039e-01, 6.62909413e-01, 2.93502095e-01, 7.25597332e-01,\n",
       "         1.80462341e-01, 7.75178241e-01, 4.44090860e-01, 4.06521465e-01,\n",
       "         4.08245214e-01, 9.03957022e-01, 7.89877787e-01, 9.03196540e-02,\n",
       "         1.35226991e-01, 7.44113160e-01, 4.63802269e-01, 2.97542334e-01,\n",
       "         2.01411474e-01, 8.18200854e-01, 1.80333372e-01, 6.62802757e-01,\n",
       "         8.56104126e-01, 8.95476951e-01, 7.59808662e-01, 6.16012602e-01,\n",
       "         3.63341297e-02, 2.22664718e-01, 5.58788701e-01, 8.09897182e-01,\n",
       "         5.32167688e-01, 6.05211826e-01, 5.58960373e-01, 8.25718353e-01,\n",
       "         3.29014621e-01, 5.70369598e-01, 4.13120376e-01, 6.74314531e-01,\n",
       "         5.52626755e-01]))]"
      ]
     },
     "execution_count": 20,
     "metadata": {},
     "output_type": "execute_result"
    }
   ],
   "source": [
    "expand_setpoints_helper(a.spectrum)"
   ]
  },
  {
   "cell_type": "code",
   "execution_count": 21,
   "metadata": {},
   "outputs": [
    {
     "name": "stdout",
     "output_type": "stream",
     "text": [
      "Starting experimental run with id: 2. \n"
     ]
    }
   ],
   "source": [
    "meas = Measurement()\n",
    "meas.register_parameter(a.spectrum)\n",
    "\n",
    "with meas.run() as datasaver:\n",
    "    datasaver.add_result(*expand_setpoints_helper(a.spectrum))\n",
    "    \n",
    "    dataid = datasaver.run_id"
   ]
  },
  {
   "cell_type": "code",
   "execution_count": null,
   "metadata": {},
   "outputs": [],
   "source": []
  }
 ],
 "metadata": {
  "kernelspec": {
   "display_name": "Python 3",
   "language": "python",
   "name": "python3"
  },
  "language_info": {
   "codemirror_mode": {
    "name": "ipython",
    "version": 3
   },
   "file_extension": ".py",
   "mimetype": "text/x-python",
   "name": "python",
   "nbconvert_exporter": "python",
   "pygments_lexer": "ipython3",
   "version": "3.7.7"
  },
  "toc": {
   "base_numbering": 1,
   "nav_menu": {},
   "number_sections": true,
   "sideBar": true,
   "skip_h1_title": false,
   "title_cell": "Table of Contents",
   "title_sidebar": "Contents",
   "toc_cell": false,
   "toc_position": {},
   "toc_section_display": true,
   "toc_window_display": false
  },
  "varInspector": {
   "cols": {
    "lenName": 16,
    "lenType": 16,
    "lenVar": 40
   },
   "kernels_config": {
    "python": {
     "delete_cmd_postfix": "",
     "delete_cmd_prefix": "del ",
     "library": "var_list.py",
     "varRefreshCmd": "print(var_dic_list())"
    },
    "r": {
     "delete_cmd_postfix": ") ",
     "delete_cmd_prefix": "rm(",
     "library": "var_list.r",
     "varRefreshCmd": "cat(var_dic_list()) "
    }
   },
   "types_to_exclude": [
    "module",
    "function",
    "builtin_function_or_method",
    "instance",
    "_Feature"
   ],
   "window_display": false
  }
 },
 "nbformat": 4,
 "nbformat_minor": 2
}
