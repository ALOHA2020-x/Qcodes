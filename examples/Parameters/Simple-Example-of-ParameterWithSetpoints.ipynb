{
 "cells": [
  {
   "cell_type": "markdown",
   "metadata": {},
   "source": [
    "# Simple Example of ParameterWithSetpoints\n",
    "This notebook provides an example for writing a simple driver with a parameter that has setpoints. Let's name this parameter that has setpoints as \"y\". Then, the setpoints, say \"x1, x2, x3 ..\", are the parameters on which the parameter \n",
    "\"y\" depends upon. Meaning \"y\" is a function of \"x1, x2, x3 ...\" where \"x1, x2, x3 ...\" are known as the setpoints of parameter \"y\".\n",
    "\n",
    "This is most likely to be useful for instruments that return arrays of results. In this notebook, we will show an example of this."
   ]
  },
  {
   "cell_type": "code",
   "execution_count": 1,
   "metadata": {},
   "outputs": [],
   "source": [
    "import numpy as np\n",
    "import os"
   ]
  },
  {
   "cell_type": "code",
   "execution_count": 2,
   "metadata": {},
   "outputs": [
    {
     "name": "stdout",
     "output_type": "stream",
     "text": [
      "Logging hadn't been started.\n",
      "Activating auto-logging. Current session state plus future input saved.\n",
      "Filename       : /home/vsts/.qcodes/logs/command_history.log\n",
      "Mode           : append\n",
      "Output logging : True\n",
      "Raw input log  : False\n",
      "Timestamping   : True\n",
      "State          : active\n"
     ]
    },
    {
     "name": "stdout",
     "output_type": "stream",
     "text": [
      "Qcodes Logfile : /home/vsts/.qcodes/logs/200622-22575-qcodes.log\n"
     ]
    }
   ],
   "source": [
    "from qcodes.dataset.plotting import plot_dataset\n",
    "from qcodes.utils.validators import Numbers, Arrays\n",
    "from qcodes.instrument.base import Instrument\n",
    "from qcodes.dataset.measurements import Measurement"
   ]
  },
  {
   "cell_type": "code",
   "execution_count": 3,
   "metadata": {},
   "outputs": [],
   "source": [
    "from qcodes.dataset.sqlite.database import initialise_or_create_database_at\n",
    "from qcodes.dataset.experiment_container import load_or_create_experiment"
   ]
  },
  {
   "cell_type": "code",
   "execution_count": 4,
   "metadata": {},
   "outputs": [],
   "source": [
    "from qcodes.instrument.parameter import ParameterWithSetpoints, Parameter\n",
    "from qcodes.instrument.parameter import expand_setpoints_helper"
   ]
  },
  {
   "cell_type": "markdown",
   "metadata": {},
   "source": [
    "First, we define a dummy instrument that returns something like a frequency spectrum starting from a frequency given by `f_start` to a frequency given by `f_stop` in `n_points` steps. \n",
    "\n",
    "The extra functionality of the `ParameterWithSetpoints` is implemented by giving it a reference to one or more parameters that acts like its setpoints. \n",
    "\n",
    "To setup a `ParameterWithSetpoints` we have to do two things in addition to what we do for a normal parameter.\n",
    "\n",
    "* Define one or more parameter for the setpoints (one for each dimension of the array and let the `ParameterWithSetpoints` know that these are the setpoints.\n",
    "* Give both the setpoints parameter(s) and the `ParameterWithSetpoints` a `validator` of type `Arrays` with a shape. The shapes should be such that the combined shape of the setpoints matches the shape of the `ParameterWithSetpoints`. Note that if the shape changes with the setting of the instrument, it can be defined by another parameter as shown below. "
   ]
  },
  {
   "cell_type": "code",
   "execution_count": 5,
   "metadata": {},
   "outputs": [],
   "source": [
    "class GeneratedSetPoints(Parameter):\n",
    "    \"\"\"\n",
    "    A parameter that generates a setpoint array from start, stop and num points\n",
    "    parameters.\n",
    "    \"\"\"\n",
    "    def __init__(self, startparam, stopparam, numpointsparam, *args, **kwargs):\n",
    "        super().__init__(*args, **kwargs)\n",
    "        self._startparam = startparam\n",
    "        self._stopparam = stopparam\n",
    "        self._numpointsparam = numpointsparam\n",
    "\n",
    "    def get_raw(self):\n",
    "        return np.linspace(self._startparam(), self._stopparam(),\n",
    "                              self._numpointsparam())\n",
    "\n",
    "class DummyArray(ParameterWithSetpoints):\n",
    "    \n",
    "    def get_raw(self):\n",
    "        npoints = self.root_instrument.n_points.get_latest()\n",
    "        return np.random.rand(npoints)\n",
    "    \n",
    "\n",
    "class DummySpectrumAnalyzer(Instrument):\n",
    "    \n",
    "    def __init__(self, name, **kwargs):\n",
    "        \n",
    "        super().__init__(name, **kwargs)\n",
    "            \n",
    "\n",
    "        self.add_parameter('f_start',\n",
    "                           initial_value=0,\n",
    "                           unit='Hz',\n",
    "                           label='f start',\n",
    "                           vals=Numbers(0,1e3),\n",
    "                           get_cmd=None,\n",
    "                           set_cmd=None)\n",
    "\n",
    "        self.add_parameter('f_stop',\n",
    "                           unit='Hz',\n",
    "                           label='f stop',\n",
    "                           vals=Numbers(1,1e3),\n",
    "                           get_cmd=None,\n",
    "                           set_cmd=None)\n",
    "\n",
    "        self.add_parameter('n_points',\n",
    "                           unit='',\n",
    "                           initial_value=10,\n",
    "                           vals=Numbers(1,1e3),\n",
    "                           get_cmd=None,\n",
    "                           set_cmd=None)\n",
    "        \n",
    "        self.add_parameter('freq_axis',\n",
    "                           unit='Hz',\n",
    "                           label='Freq Axis',\n",
    "                           parameter_class=GeneratedSetPoints,\n",
    "                           startparam=self.f_start,\n",
    "                           stopparam=self.f_stop,\n",
    "                           numpointsparam=self.n_points,\n",
    "                           vals=Arrays(shape=(self.n_points.get_latest,)))\n",
    "                           \n",
    "        self.add_parameter('spectrum',\n",
    "                   unit='dBm',\n",
    "                   setpoints=(self.freq_axis,),\n",
    "                   label='Spectrum',\n",
    "                   parameter_class=DummyArray,\n",
    "                   vals=Arrays(shape=(self.n_points.get_latest,)))\n",
    "                "
   ]
  },
  {
   "cell_type": "markdown",
   "metadata": {},
   "source": [
    "In the above example, the shape is defined by the parameter `n_points` that defines how many samples our `DummySpectrumAnalyzer` returns.\n",
    "\n",
    "This means that the validation will call the function to get `n_points` twice for each `get` of the parameter. This may be too slow, however, if you (as the driver-writer) can guarantee that the cached value for `n_points` will never be out of sync with the value stored in the instrument, `n_points` may be replaced by it's latest known value such that the `validator` reads:\n",
    "```python\n",
    "vals=Arrays(shape=(self.n_points.get_latest))\n",
    "```\n",
    "\n",
    "This avoids any additional call to the instrument. In the same way, the arguments to the `freq_axis` parameter that defines the start, stop and number of points can be replaced by their latest value if the instrument allows it.\n",
    "\n"
   ]
  },
  {
   "cell_type": "code",
   "execution_count": 6,
   "metadata": {},
   "outputs": [
    {
     "name": "stdout",
     "output_type": "stream",
     "text": [
      "\r",
      "0it [00:00, ?it/s]"
     ]
    },
    {
     "name": "stdout",
     "output_type": "stream",
     "text": [
      "\r",
      "Upgrading database; v0 -> v1: : 0it [00:00, ?it/s]"
     ]
    },
    {
     "name": "stdout",
     "output_type": "stream",
     "text": [
      "\r",
      "Upgrading database; v0 -> v1: : 0it [00:00, ?it/s]"
     ]
    },
    {
     "name": "stdout",
     "output_type": "stream",
     "text": [
      "\n",
      "\r",
      "  0%|          | 0/1 [00:00<?, ?it/s]"
     ]
    },
    {
     "name": "stdout",
     "output_type": "stream",
     "text": [
      "\r",
      "Upgrading database; v1 -> v2:   0%|          | 0/1 [00:00<?, ?it/s]"
     ]
    },
    {
     "name": "stdout",
     "output_type": "stream",
     "text": [
      "\r",
      "Upgrading database; v1 -> v2: 100%|██████████| 1/1 [00:00<00:00, 918.59it/s]"
     ]
    },
    {
     "name": "stdout",
     "output_type": "stream",
     "text": [
      "\n",
      "\r",
      "0it [00:00, ?it/s]"
     ]
    },
    {
     "name": "stdout",
     "output_type": "stream",
     "text": [
      "\r",
      "Upgrading database; v2 -> v3: : 0it [00:00, ?it/s]"
     ]
    },
    {
     "name": "stdout",
     "output_type": "stream",
     "text": [
      "\r",
      "Upgrading database; v2 -> v3: : 0it [00:00, ?it/s]"
     ]
    },
    {
     "name": "stdout",
     "output_type": "stream",
     "text": [
      "\n",
      "\r",
      "0it [00:00, ?it/s]"
     ]
    },
    {
     "name": "stdout",
     "output_type": "stream",
     "text": [
      "\r",
      "Upgrading database; v3 -> v4: : 0it [00:00, ?it/s]"
     ]
    },
    {
     "name": "stdout",
     "output_type": "stream",
     "text": [
      "\r",
      "Upgrading database; v3 -> v4: : 0it [00:00, ?it/s]"
     ]
    },
    {
     "name": "stdout",
     "output_type": "stream",
     "text": [
      "\n",
      "\r",
      "  0%|          | 0/1 [00:00<?, ?it/s]"
     ]
    },
    {
     "name": "stdout",
     "output_type": "stream",
     "text": [
      "\r",
      "Upgrading database; v4 -> v5:   0%|          | 0/1 [00:00<?, ?it/s]"
     ]
    },
    {
     "name": "stdout",
     "output_type": "stream",
     "text": [
      "\r",
      "Upgrading database; v4 -> v5: 100%|██████████| 1/1 [00:00<00:00, 913.39it/s]"
     ]
    },
    {
     "name": "stdout",
     "output_type": "stream",
     "text": [
      "\n",
      "\r",
      "0it [00:00, ?it/s]"
     ]
    },
    {
     "name": "stdout",
     "output_type": "stream",
     "text": [
      "\r",
      "Upgrading database; v5 -> v6: : 0it [00:00, ?it/s]"
     ]
    },
    {
     "name": "stdout",
     "output_type": "stream",
     "text": [
      "\r",
      "Upgrading database; v5 -> v6: : 0it [00:00, ?it/s]"
     ]
    },
    {
     "name": "stdout",
     "output_type": "stream",
     "text": [
      "\n",
      "\r",
      "  0%|          | 0/1 [00:00<?, ?it/s]"
     ]
    },
    {
     "name": "stdout",
     "output_type": "stream",
     "text": [
      "\r",
      "Upgrading database; v6 -> v7:   0%|          | 0/1 [00:00<?, ?it/s]"
     ]
    },
    {
     "name": "stdout",
     "output_type": "stream",
     "text": [
      "\r",
      "Upgrading database; v6 -> v7: 100%|██████████| 1/1 [00:00<00:00, 425.60it/s]"
     ]
    },
    {
     "name": "stdout",
     "output_type": "stream",
     "text": [
      "\n",
      "\r",
      "  0%|          | 0/1 [00:00<?, ?it/s]"
     ]
    },
    {
     "name": "stdout",
     "output_type": "stream",
     "text": [
      "\r",
      "Upgrading database; v7 -> v8:   0%|          | 0/1 [00:00<?, ?it/s]"
     ]
    },
    {
     "name": "stdout",
     "output_type": "stream",
     "text": [
      "\r",
      "Upgrading database; v7 -> v8: 100%|██████████| 1/1 [00:00<00:00, 965.76it/s]"
     ]
    },
    {
     "name": "stdout",
     "output_type": "stream",
     "text": [
      "\n",
      "\r",
      "  0%|          | 0/1 [00:00<?, ?it/s]"
     ]
    },
    {
     "name": "stdout",
     "output_type": "stream",
     "text": [
      "\r",
      "Upgrading database; v8 -> v9:   0%|          | 0/1 [00:00<?, ?it/s]"
     ]
    },
    {
     "name": "stdout",
     "output_type": "stream",
     "text": [
      "\r",
      "Upgrading database; v8 -> v9: 100%|██████████| 1/1 [00:00<00:00, 949.80it/s]"
     ]
    },
    {
     "name": "stdout",
     "output_type": "stream",
     "text": [
      "\n"
     ]
    },
    {
     "data": {
      "text/plain": [
       "tutorial_ParameterWithSetpoints#no sample#1@/home/vsts/work/1/s/docs/examples/Parameters/tutorial_paramter_with_setpoints.db\n",
       "----------------------------------------------------------------------------------------------------------------------------"
      ]
     },
     "execution_count": 6,
     "metadata": {},
     "output_type": "execute_result"
    }
   ],
   "source": [
    "tutorial_db_path = os.path.join(os.getcwd(), 'tutorial_paramter_with_setpoints.db')\n",
    "initialise_or_create_database_at(tutorial_db_path)\n",
    "load_or_create_experiment(experiment_name='tutorial_ParameterWithSetpoints', sample_name=\"no sample\")"
   ]
  },
  {
   "cell_type": "code",
   "execution_count": 7,
   "metadata": {},
   "outputs": [],
   "source": [
    "a = DummySpectrumAnalyzer('foobar')"
   ]
  },
  {
   "cell_type": "markdown",
   "metadata": {},
   "source": [
    "First we setup the limits of the spectrum"
   ]
  },
  {
   "cell_type": "code",
   "execution_count": 8,
   "metadata": {},
   "outputs": [],
   "source": [
    "a.f_start(0)\n",
    "a.f_stop(500)\n",
    "a.n_points(501)"
   ]
  },
  {
   "cell_type": "markdown",
   "metadata": {},
   "source": [
    "And we can grab the frequency axis"
   ]
  },
  {
   "cell_type": "code",
   "execution_count": 9,
   "metadata": {},
   "outputs": [
    {
     "data": {
      "text/plain": [
       "501"
      ]
     },
     "execution_count": 9,
     "metadata": {},
     "output_type": "execute_result"
    }
   ],
   "source": [
    "a.n_points()"
   ]
  },
  {
   "cell_type": "code",
   "execution_count": 10,
   "metadata": {
    "scrolled": false
   },
   "outputs": [
    {
     "data": {
      "text/plain": [
       "501"
      ]
     },
     "execution_count": 10,
     "metadata": {},
     "output_type": "execute_result"
    }
   ],
   "source": [
    "freq_axis = a.freq_axis()\n",
    "len(freq_axis)"
   ]
  },
  {
   "cell_type": "code",
   "execution_count": 11,
   "metadata": {},
   "outputs": [
    {
     "data": {
      "text/plain": [
       "array([0., 1., 2., 3., 4., 5., 6., 7., 8., 9.])"
      ]
     },
     "execution_count": 11,
     "metadata": {},
     "output_type": "execute_result"
    }
   ],
   "source": [
    "freq_axis[:10]"
   ]
  },
  {
   "cell_type": "markdown",
   "metadata": {},
   "source": [
    "As expected we get a result wit 501 points as we asked for an axis with 501 points. "
   ]
  },
  {
   "cell_type": "markdown",
   "metadata": {},
   "source": [
    "Above we have added a validator to the `freq_axis` parameter encoding the fact that this is an Array with `n_points`. Note that we do not have to supply the number of points as an integer but can supply a function that returns the valid number of points. This would normally be a QCoDeS parameter.\n",
    "\n",
    "This will be checked if we validate the output."
   ]
  },
  {
   "cell_type": "code",
   "execution_count": 12,
   "metadata": {},
   "outputs": [],
   "source": [
    "a.freq_axis.validate(a.freq_axis.get())"
   ]
  },
  {
   "cell_type": "markdown",
   "metadata": {},
   "source": [
    "Naturally, we can also get the spectrum. Getting the spectrum will automatically perform validation both for the shape of the parameter itself and the relation to the setpoint parameter(s)"
   ]
  },
  {
   "cell_type": "code",
   "execution_count": 13,
   "metadata": {
    "scrolled": true
   },
   "outputs": [
    {
     "data": {
      "text/plain": [
       "501"
      ]
     },
     "execution_count": 13,
     "metadata": {},
     "output_type": "execute_result"
    }
   ],
   "source": [
    "spectrum = a.spectrum.get()\n",
    "len(spectrum)"
   ]
  },
  {
   "cell_type": "markdown",
   "metadata": {},
   "source": [
    "When we validate a `ParameterWithSetpoints`, we automatically validate that the shape is consistent between the parameters and its setpoints. As well as validating the shape as above."
   ]
  },
  {
   "cell_type": "code",
   "execution_count": 14,
   "metadata": {},
   "outputs": [],
   "source": [
    "a.spectrum.validate(a.spectrum.get())"
   ]
  },
  {
   "cell_type": "markdown",
   "metadata": {},
   "source": [
    "The consistent shapes can be validated explicitly."
   ]
  },
  {
   "cell_type": "code",
   "execution_count": 15,
   "metadata": {},
   "outputs": [],
   "source": [
    "a.spectrum.validate_consistent_shape()"
   ]
  },
  {
   "cell_type": "markdown",
   "metadata": {},
   "source": [
    "We can inspect the setpoints of the spectrum."
   ]
  },
  {
   "cell_type": "code",
   "execution_count": 16,
   "metadata": {},
   "outputs": [
    {
     "data": {
      "text/plain": [
       "(<__main__.GeneratedSetPoints: freq_axis at 140147526835216>,)"
      ]
     },
     "execution_count": 16,
     "metadata": {},
     "output_type": "execute_result"
    }
   ],
   "source": [
    "a.spectrum.setpoints"
   ]
  },
  {
   "cell_type": "markdown",
   "metadata": {},
   "source": [
    "Or even change them."
   ]
  },
  {
   "cell_type": "code",
   "execution_count": 17,
   "metadata": {},
   "outputs": [],
   "source": [
    "a.spectrum.setpoints = (a.freq_axis,)"
   ]
  },
  {
   "cell_type": "markdown",
   "metadata": {},
   "source": [
    "## Measurement"
   ]
  },
  {
   "cell_type": "markdown",
   "metadata": {},
   "source": [
    "We can also directly consume the parameter in a measurement without defining the setpoints of the parameter again. The setpoints are automatically obtained from the definition of the `ParameterWithSetpoint` instance. "
   ]
  },
  {
   "cell_type": "code",
   "execution_count": 18,
   "metadata": {},
   "outputs": [
    {
     "name": "stdout",
     "output_type": "stream",
     "text": [
      "Starting experimental run with id: 1. \n"
     ]
    }
   ],
   "source": [
    "meas = Measurement()\n",
    "meas.register_parameter(a.spectrum)\n",
    "\n",
    "with meas.run() as datasaver:\n",
    "    datasaver.add_result((a.freq_axis, a.freq_axis()),\n",
    "                         (a.spectrum, a.spectrum()))\n",
    "    dataset = datasaver.dataset"
   ]
  },
  {
   "cell_type": "markdown",
   "metadata": {},
   "source": [
    "And plot it"
   ]
  },
  {
   "cell_type": "code",
   "execution_count": 19,
   "metadata": {},
   "outputs": [
    {
     "data": {
      "text/plain": [
       "([<matplotlib.axes._subplots.AxesSubplot at 0x7f76a3837890>], [None])"
      ]
     },
     "execution_count": 19,
     "metadata": {},
     "output_type": "execute_result"
    },
    {
     "data": {
      "image/png": "[encoded data removed]",
      "text/plain": [
       "<Figure size 432x288 with 1 Axes>"
      ]
     },
     "metadata": {
      "needs_background": "light"
     },
     "output_type": "display_data"
    }
   ],
   "source": [
    "plot_dataset(dataset)"
   ]
  },
  {
   "cell_type": "markdown",
   "metadata": {},
   "source": [
    "To reduce the amount of typing a simple convenience function is provided that will take a `ParameterWithSetpoints` and get both its values and the setpoints values and return them as tuples for direct insertion into the Dataset."
   ]
  },
  {
   "cell_type": "code",
   "execution_count": 20,
   "metadata": {
    "scrolled": true
   },
   "outputs": [
    {
     "data": {
      "text/plain": [
       "[(<__main__.GeneratedSetPoints: freq_axis at 140147526835216>,\n",
       "  array([  0.,   1.,   2.,   3.,   4.,   5.,   6.,   7.,   8.,   9.,  10.,\n",
       "          11.,  12.,  13.,  14.,  15.,  16.,  17.,  18.,  19.,  20.,  21.,\n",
       "          22.,  23.,  24.,  25.,  26.,  27.,  28.,  29.,  30.,  31.,  32.,\n",
       "          33.,  34.,  35.,  36.,  37.,  38.,  39.,  40.,  41.,  42.,  43.,\n",
       "          44.,  45.,  46.,  47.,  48.,  49.,  50.,  51.,  52.,  53.,  54.,\n",
       "          55.,  56.,  57.,  58.,  59.,  60.,  61.,  62.,  63.,  64.,  65.,\n",
       "          66.,  67.,  68.,  69.,  70.,  71.,  72.,  73.,  74.,  75.,  76.,\n",
       "          77.,  78.,  79.,  80.,  81.,  82.,  83.,  84.,  85.,  86.,  87.,\n",
       "          88.,  89.,  90.,  91.,  92.,  93.,  94.,  95.,  96.,  97.,  98.,\n",
       "          99., 100., 101., 102., 103., 104., 105., 106., 107., 108., 109.,\n",
       "         110., 111., 112., 113., 114., 115., 116., 117., 118., 119., 120.,\n",
       "         121., 122., 123., 124., 125., 126., 127., 128., 129., 130., 131.,\n",
       "         132., 133., 134., 135., 136., 137., 138., 139., 140., 141., 142.,\n",
       "         143., 144., 145., 146., 147., 148., 149., 150., 151., 152., 153.,\n",
       "         154., 155., 156., 157., 158., 159., 160., 161., 162., 163., 164.,\n",
       "         165., 166., 167., 168., 169., 170., 171., 172., 173., 174., 175.,\n",
       "         176., 177., 178., 179., 180., 181., 182., 183., 184., 185., 186.,\n",
       "         187., 188., 189., 190., 191., 192., 193., 194., 195., 196., 197.,\n",
       "         198., 199., 200., 201., 202., 203., 204., 205., 206., 207., 208.,\n",
       "         209., 210., 211., 212., 213., 214., 215., 216., 217., 218., 219.,\n",
       "         220., 221., 222., 223., 224., 225., 226., 227., 228., 229., 230.,\n",
       "         231., 232., 233., 234., 235., 236., 237., 238., 239., 240., 241.,\n",
       "         242., 243., 244., 245., 246., 247., 248., 249., 250., 251., 252.,\n",
       "         253., 254., 255., 256., 257., 258., 259., 260., 261., 262., 263.,\n",
       "         264., 265., 266., 267., 268., 269., 270., 271., 272., 273., 274.,\n",
       "         275., 276., 277., 278., 279., 280., 281., 282., 283., 284., 285.,\n",
       "         286., 287., 288., 289., 290., 291., 292., 293., 294., 295., 296.,\n",
       "         297., 298., 299., 300., 301., 302., 303., 304., 305., 306., 307.,\n",
       "         308., 309., 310., 311., 312., 313., 314., 315., 316., 317., 318.,\n",
       "         319., 320., 321., 322., 323., 324., 325., 326., 327., 328., 329.,\n",
       "         330., 331., 332., 333., 334., 335., 336., 337., 338., 339., 340.,\n",
       "         341., 342., 343., 344., 345., 346., 347., 348., 349., 350., 351.,\n",
       "         352., 353., 354., 355., 356., 357., 358., 359., 360., 361., 362.,\n",
       "         363., 364., 365., 366., 367., 368., 369., 370., 371., 372., 373.,\n",
       "         374., 375., 376., 377., 378., 379., 380., 381., 382., 383., 384.,\n",
       "         385., 386., 387., 388., 389., 390., 391., 392., 393., 394., 395.,\n",
       "         396., 397., 398., 399., 400., 401., 402., 403., 404., 405., 406.,\n",
       "         407., 408., 409., 410., 411., 412., 413., 414., 415., 416., 417.,\n",
       "         418., 419., 420., 421., 422., 423., 424., 425., 426., 427., 428.,\n",
       "         429., 430., 431., 432., 433., 434., 435., 436., 437., 438., 439.,\n",
       "         440., 441., 442., 443., 444., 445., 446., 447., 448., 449., 450.,\n",
       "         451., 452., 453., 454., 455., 456., 457., 458., 459., 460., 461.,\n",
       "         462., 463., 464., 465., 466., 467., 468., 469., 470., 471., 472.,\n",
       "         473., 474., 475., 476., 477., 478., 479., 480., 481., 482., 483.,\n",
       "         484., 485., 486., 487., 488., 489., 490., 491., 492., 493., 494.,\n",
       "         495., 496., 497., 498., 499., 500.])),\n",
       " (<__main__.DummyArray: spectrum at 140147526833232>,\n",
       "  array([3.39319805e-01, 6.13287501e-01, 7.78240984e-01, 1.10045540e-01,\n",
       "         9.60679709e-01, 5.51429931e-01, 3.44315974e-01, 4.54738922e-01,\n",
       "         9.25887847e-01, 6.01879341e-01, 5.54208818e-01, 9.56237250e-01,\n",
       "         8.90741325e-01, 2.10850878e-01, 5.30976133e-01, 1.45791458e-01,\n",
       "         7.78098989e-04, 1.71564221e-01, 8.72897505e-01, 2.45472618e-01,\n",
       "         2.98628560e-01, 6.81156398e-01, 1.16841750e-01, 5.32842062e-01,\n",
       "         5.01138290e-01, 7.78550204e-02, 1.83501034e-01, 1.40169924e-01,\n",
       "         2.81334340e-01, 5.69423583e-01, 3.13881502e-01, 8.89651473e-01,\n",
       "         9.85826302e-01, 8.69835886e-01, 2.40143709e-01, 1.91892113e-02,\n",
       "         9.99080700e-01, 3.59191059e-01, 1.21663392e-01, 4.71425476e-01,\n",
       "         3.61887180e-01, 8.56694577e-01, 4.43210435e-01, 9.34026115e-02,\n",
       "         1.93533510e-01, 8.10182614e-01, 9.84586794e-01, 9.50233617e-01,\n",
       "         6.88337610e-01, 6.89302237e-01, 8.86961809e-02, 8.89973082e-01,\n",
       "         1.42028671e-01, 2.64586631e-01, 3.00304147e-01, 5.05469711e-01,\n",
       "         9.97083562e-01, 8.60114686e-01, 8.13647654e-01, 8.19162907e-01,\n",
       "         8.09790022e-01, 9.89660172e-01, 5.98036999e-01, 5.34910783e-01,\n",
       "         4.68115254e-01, 9.27788907e-01, 1.97098702e-01, 3.34036518e-01,\n",
       "         3.22720224e-01, 5.57232349e-01, 6.01643641e-01, 5.01758660e-01,\n",
       "         2.32377626e-01, 2.06996257e-01, 7.42833669e-01, 8.70236398e-01,\n",
       "         7.57139182e-01, 1.99328439e-01, 4.49046000e-02, 4.10558026e-01,\n",
       "         4.85599270e-01, 6.13420813e-01, 1.61374103e-01, 9.18256562e-01,\n",
       "         6.43107648e-01, 8.20479269e-02, 8.35184777e-01, 1.62616433e-01,\n",
       "         7.48067800e-01, 4.16632562e-01, 2.70490892e-01, 5.58547506e-01,\n",
       "         5.18692174e-01, 4.72662034e-01, 9.46243285e-01, 3.44239141e-01,\n",
       "         5.87371743e-01, 6.96707746e-01, 9.19922985e-01, 7.88384645e-01,\n",
       "         6.18912275e-01, 9.26180669e-01, 6.74777387e-01, 6.30897393e-01,\n",
       "         5.28158556e-01, 6.67349695e-01, 1.04077020e-01, 6.95333327e-01,\n",
       "         5.72725663e-01, 3.64434149e-01, 8.00796366e-01, 1.38764929e-01,\n",
       "         2.58202008e-01, 1.34224515e-01, 5.03974668e-01, 7.42862917e-01,\n",
       "         1.82150021e-01, 8.03934167e-01, 6.11577364e-01, 9.39832094e-01,\n",
       "         8.42377644e-01, 8.87753156e-01, 2.82404111e-01, 5.84488764e-01,\n",
       "         7.25419606e-01, 6.41346318e-01, 7.12765519e-01, 1.25629276e-01,\n",
       "         4.56981636e-01, 7.04823842e-01, 3.48023256e-01, 8.25849675e-01,\n",
       "         3.27079974e-01, 1.95909491e-01, 7.15761232e-01, 7.21982466e-01,\n",
       "         7.80910879e-01, 1.33298362e-01, 8.81955097e-01, 2.51169548e-01,\n",
       "         4.77630400e-01, 9.15460904e-01, 1.01967468e-01, 4.75178258e-01,\n",
       "         7.43264707e-01, 7.79498914e-01, 2.55370789e-01, 9.49472905e-01,\n",
       "         3.95819792e-01, 7.50066665e-02, 4.58416801e-01, 7.63084615e-01,\n",
       "         4.09377831e-01, 9.94953808e-01, 6.89270381e-02, 7.66663687e-01,\n",
       "         3.03310100e-02, 4.45118011e-01, 6.74109127e-01, 9.84858724e-01,\n",
       "         2.90632837e-01, 6.24014954e-01, 8.95293699e-01, 4.99503024e-02,\n",
       "         4.67513552e-01, 1.60569987e-01, 5.14304010e-01, 6.40392777e-01,\n",
       "         3.45205039e-01, 9.15403536e-01, 7.45498895e-01, 7.35917761e-01,\n",
       "         8.30268661e-01, 5.17588903e-01, 7.31515778e-01, 2.72848432e-01,\n",
       "         2.73077017e-01, 1.12577425e-01, 9.75244845e-01, 7.14058353e-01,\n",
       "         5.52502288e-01, 7.85163977e-02, 6.86726052e-01, 8.99501322e-01,\n",
       "         7.50770854e-01, 9.08661958e-01, 4.19310342e-01, 3.84679011e-01,\n",
       "         5.77822777e-01, 9.59559542e-01, 1.23926763e-03, 6.77072055e-01,\n",
       "         6.10461980e-02, 5.55258426e-01, 6.83288600e-01, 8.05465211e-01,\n",
       "         9.43240048e-01, 6.37499680e-02, 1.48779645e-01, 1.26105017e-02,\n",
       "         8.55218651e-01, 8.48241415e-01, 9.28067624e-01, 1.96604659e-01,\n",
       "         2.92098725e-01, 8.51773200e-01, 7.17961543e-01, 4.18613285e-01,\n",
       "         5.21654975e-01, 4.67548889e-01, 3.62903516e-01, 9.54782225e-01,\n",
       "         6.07308553e-01, 4.16985002e-01, 1.29642731e-02, 6.28826774e-01,\n",
       "         8.14006955e-01, 3.49558139e-01, 3.01017289e-01, 9.90465991e-01,\n",
       "         4.20925939e-01, 1.96749838e-01, 3.62056968e-01, 5.87859431e-01,\n",
       "         3.33011266e-01, 1.52250709e-01, 6.44675989e-01, 5.10310867e-01,\n",
       "         5.96551803e-01, 2.66877570e-01, 9.61468001e-01, 3.37341279e-01,\n",
       "         8.25769947e-01, 6.88023252e-01, 5.85988960e-01, 8.74554978e-01,\n",
       "         5.68290070e-01, 4.37828311e-01, 9.26898368e-01, 8.50798071e-02,\n",
       "         7.18887433e-01, 6.88908767e-02, 8.87333656e-01, 7.37595045e-01,\n",
       "         5.06128266e-01, 9.32057519e-01, 8.07109146e-01, 9.55524292e-01,\n",
       "         7.20872193e-02, 3.58248267e-01, 1.14765279e-01, 7.54525425e-01,\n",
       "         6.15142137e-01, 2.14116272e-01, 6.54078972e-01, 9.82146143e-01,\n",
       "         5.61765254e-01, 4.13249258e-01, 2.13730220e-01, 7.70106767e-01,\n",
       "         9.59421158e-01, 9.21142567e-03, 2.87141484e-01, 8.94314282e-01,\n",
       "         4.39233022e-01, 1.93116123e-01, 8.97623979e-02, 9.31902441e-01,\n",
       "         3.07362727e-01, 9.13180690e-01, 4.11087393e-01, 5.73274924e-01,\n",
       "         9.83238997e-01, 8.21142600e-01, 7.97249248e-01, 9.83114702e-01,\n",
       "         5.49648474e-01, 4.74279442e-01, 9.14622535e-01, 3.52768614e-01,\n",
       "         9.87613985e-01, 9.70261578e-01, 2.18721276e-01, 5.97865733e-01,\n",
       "         6.07436381e-01, 3.14792638e-01, 6.96517159e-01, 5.99864499e-01,\n",
       "         3.35337673e-01, 9.90773095e-01, 6.65562686e-01, 6.73195857e-02,\n",
       "         6.41771073e-01, 1.27877374e-01, 5.76361851e-01, 4.15962203e-01,\n",
       "         1.93511510e-01, 9.05578642e-01, 9.15642378e-01, 4.80671298e-01,\n",
       "         9.66400051e-01, 8.71780510e-01, 5.97055938e-01, 2.67828215e-01,\n",
       "         3.17289251e-01, 4.71398727e-01, 2.19341413e-01, 1.24202296e-02,\n",
       "         9.21327338e-01, 5.73140423e-01, 9.51375959e-01, 9.16199207e-01,\n",
       "         5.22370835e-01, 3.28729365e-01, 7.28414481e-01, 6.45714954e-01,\n",
       "         2.52896431e-02, 1.26234624e-01, 3.45568720e-01, 9.15450100e-01,\n",
       "         6.60852809e-01, 2.01385788e-01, 8.66330618e-01, 9.89683871e-01,\n",
       "         2.36491244e-01, 8.50303772e-01, 9.12854162e-01, 9.10228296e-01,\n",
       "         4.92693698e-01, 9.54610049e-01, 3.99200864e-01, 1.67452888e-01,\n",
       "         1.10866937e-01, 5.91138450e-01, 5.32084529e-01, 1.45293933e-01,\n",
       "         3.54832064e-01, 6.51873281e-01, 7.27724510e-01, 9.44616834e-01,\n",
       "         1.44604605e-02, 1.82351391e-01, 6.50863006e-01, 8.71028469e-01,\n",
       "         6.18597159e-01, 4.39027946e-01, 9.80187341e-01, 7.84353100e-01,\n",
       "         2.70152401e-02, 9.73458730e-01, 3.34647315e-01, 3.80606633e-01,\n",
       "         5.18236974e-01, 3.99070854e-01, 8.50151352e-01, 8.54321098e-01,\n",
       "         4.34562516e-01, 8.96259504e-03, 7.12836484e-01, 7.63663235e-01,\n",
       "         6.96122422e-01, 1.34135823e-01, 8.99222098e-01, 1.36226407e-01,\n",
       "         9.45071865e-01, 1.50079196e-01, 9.97064517e-02, 9.97473776e-02,\n",
       "         7.67351861e-01, 3.50613868e-01, 3.07587670e-01, 3.04778841e-01,\n",
       "         9.41264951e-02, 4.70007195e-01, 5.63151965e-01, 2.61820136e-01,\n",
       "         1.23248567e-01, 8.11217481e-01, 1.67048860e-01, 7.48803296e-01,\n",
       "         5.46996603e-01, 2.65062508e-01, 1.52177435e-01, 7.85692930e-01,\n",
       "         7.43953551e-01, 7.25251554e-01, 1.32166777e-01, 8.46526046e-01,\n",
       "         6.30352186e-01, 2.29000161e-01, 5.40192433e-01, 5.46280307e-01,\n",
       "         6.89116546e-01, 5.88517457e-01, 3.74502492e-01, 2.27262169e-01,\n",
       "         6.92078497e-01, 6.76796703e-01, 7.64228507e-01, 8.41655112e-01,\n",
       "         5.05780310e-01, 2.93057503e-01, 2.71690440e-01, 9.28728191e-01,\n",
       "         8.06050503e-01, 9.95518983e-01, 7.40290439e-01, 3.78921674e-01,\n",
       "         3.43795809e-01, 4.61778786e-01, 8.77803236e-01, 4.38214627e-01,\n",
       "         5.47787607e-01, 8.54521848e-01, 7.12433676e-01, 3.49927785e-01,\n",
       "         1.21923348e-01, 2.80294399e-01, 4.88450944e-01, 6.17107865e-01,\n",
       "         4.38800967e-02, 9.39609800e-01, 9.89806609e-01, 4.35821087e-02,\n",
       "         3.31467770e-01, 2.45743998e-02, 5.20611077e-02, 2.54206607e-01,\n",
       "         9.19733512e-01, 2.66887430e-01, 8.48649813e-01, 9.26511715e-01,\n",
       "         9.04494373e-01, 4.75291210e-01, 8.77161653e-01, 4.90528430e-01,\n",
       "         2.09040773e-01, 3.71151829e-02, 4.09758949e-01, 7.79569791e-01,\n",
       "         2.20332809e-01, 3.04345613e-01, 1.02661159e-01, 2.24157283e-01,\n",
       "         5.07512878e-01, 3.98593843e-04, 8.61467818e-01, 1.42803842e-01,\n",
       "         2.40139396e-01, 5.11741688e-01, 8.92846377e-01, 5.91374380e-02,\n",
       "         4.11912126e-01, 8.00888584e-01, 5.91253256e-01, 7.93584151e-01,\n",
       "         7.25207138e-01, 3.87029144e-01, 1.29725230e-01, 3.86975542e-01,\n",
       "         5.36046577e-01, 6.65529869e-01, 7.21566939e-01, 1.78780713e-01,\n",
       "         8.84771483e-01, 6.96641839e-01, 7.71947507e-01, 1.97254182e-01,\n",
       "         8.90010748e-02, 4.71016240e-01, 9.95045786e-01, 2.28292254e-01,\n",
       "         7.58287499e-01, 6.74968112e-01, 9.40938799e-01, 3.47782457e-01,\n",
       "         3.63074804e-01, 4.53702380e-01, 4.93674788e-01, 4.02666151e-01,\n",
       "         9.93574670e-01, 3.60810637e-01, 7.83447242e-01, 8.61206425e-02,\n",
       "         4.84322056e-01, 2.65990661e-01, 2.00181686e-01, 4.85177712e-01,\n",
       "         6.56062267e-01, 8.82663842e-01, 9.54312128e-01, 3.19548589e-01,\n",
       "         4.11091208e-01, 7.37638647e-01, 7.55967788e-01, 3.36980345e-01,\n",
       "         7.54960170e-01, 4.93745332e-01, 5.84698487e-01, 4.12580182e-01,\n",
       "         4.05324059e-01]))]"
      ]
     },
     "execution_count": 20,
     "metadata": {},
     "output_type": "execute_result"
    }
   ],
   "source": [
    "expand_setpoints_helper(a.spectrum)"
   ]
  },
  {
   "cell_type": "code",
   "execution_count": 21,
   "metadata": {},
   "outputs": [
    {
     "name": "stdout",
     "output_type": "stream",
     "text": [
      "Starting experimental run with id: 2. \n"
     ]
    }
   ],
   "source": [
    "meas = Measurement()\n",
    "meas.register_parameter(a.spectrum)\n",
    "\n",
    "with meas.run() as datasaver:\n",
    "    datasaver.add_result(*expand_setpoints_helper(a.spectrum))\n",
    "    \n",
    "    dataid = datasaver.run_id"
   ]
  },
  {
   "cell_type": "code",
   "execution_count": null,
   "metadata": {},
   "outputs": [],
   "source": []
  }
 ],
 "metadata": {
  "kernelspec": {
   "display_name": "Python 3",
   "language": "python",
   "name": "python3"
  },
  "language_info": {
   "codemirror_mode": {
    "name": "ipython",
    "version": 3
   },
   "file_extension": ".py",
   "mimetype": "text/x-python",
   "name": "python",
   "nbconvert_exporter": "python",
   "pygments_lexer": "ipython3",
   "version": "3.7.7"
  },
  "toc": {
   "base_numbering": 1,
   "nav_menu": {},
   "number_sections": true,
   "sideBar": true,
   "skip_h1_title": false,
   "title_cell": "Table of Contents",
   "title_sidebar": "Contents",
   "toc_cell": false,
   "toc_position": {},
   "toc_section_display": true,
   "toc_window_display": false
  },
  "varInspector": {
   "cols": {
    "lenName": 16,
    "lenType": 16,
    "lenVar": 40
   },
   "kernels_config": {
    "python": {
     "delete_cmd_postfix": "",
     "delete_cmd_prefix": "del ",
     "library": "var_list.py",
     "varRefreshCmd": "print(var_dic_list())"
    },
    "r": {
     "delete_cmd_postfix": ") ",
     "delete_cmd_prefix": "rm(",
     "library": "var_list.r",
     "varRefreshCmd": "cat(var_dic_list()) "
    }
   },
   "types_to_exclude": [
    "module",
    "function",
    "builtin_function_or_method",
    "instance",
    "_Feature"
   ],
   "window_display": false
  }
 },
 "nbformat": 4,
 "nbformat_minor": 2
}
