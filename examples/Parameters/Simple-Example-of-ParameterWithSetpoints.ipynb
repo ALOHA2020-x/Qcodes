{
 "cells": [
  {
   "cell_type": "markdown",
   "metadata": {},
   "source": [
    "# Simple Example of ParameterWithSetpoints\n",
    "This notebook provides an example for writing a simple driver with a parameter that has setpoints. Let's name this parameter that has setpoints as \"y\". Then, the setpoints, say \"x1, x2, x3 ..\", are the parameters on which the parameter \n",
    "\"y\" depends upon. Meaning \"y\" is a function of \"x1, x2, x3 ...\" where \"x1, x2, x3 ...\" are known as the setpoints of parameter \"y\".\n",
    "\n",
    "This is most likely to be useful for instruments that return arrays of results. In this notebook, we will show an example of this."
   ]
  },
  {
   "cell_type": "code",
   "execution_count": 1,
   "metadata": {},
   "outputs": [],
   "source": [
    "import numpy as np\n",
    "import os"
   ]
  },
  {
   "cell_type": "code",
   "execution_count": 2,
   "metadata": {},
   "outputs": [
    {
     "name": "stdout",
     "output_type": "stream",
     "text": [
      "Logging hadn't been started.\n",
      "Activating auto-logging. Current session state plus future input saved.\n",
      "Filename       : /home/vsts/.qcodes/logs/command_history.log\n",
      "Mode           : append\n",
      "Output logging : True\n",
      "Raw input log  : False\n",
      "Timestamping   : True\n",
      "State          : active\n"
     ]
    },
    {
     "name": "stdout",
     "output_type": "stream",
     "text": [
      "Qcodes Logfile : /home/vsts/.qcodes/logs/200327-21766-qcodes.log\n"
     ]
    }
   ],
   "source": [
    "from qcodes.dataset.plotting import plot_dataset\n",
    "from qcodes.utils.validators import Numbers, Arrays\n",
    "from qcodes.instrument.base import Instrument\n",
    "from qcodes.dataset.measurements import Measurement"
   ]
  },
  {
   "cell_type": "code",
   "execution_count": 3,
   "metadata": {},
   "outputs": [],
   "source": [
    "from qcodes.dataset.sqlite.database import initialise_or_create_database_at\n",
    "from qcodes.dataset.experiment_container import load_or_create_experiment"
   ]
  },
  {
   "cell_type": "code",
   "execution_count": 4,
   "metadata": {},
   "outputs": [],
   "source": [
    "from qcodes.instrument.parameter import ParameterWithSetpoints, Parameter\n",
    "from qcodes.instrument.parameter import expand_setpoints_helper"
   ]
  },
  {
   "cell_type": "markdown",
   "metadata": {},
   "source": [
    "First, we define a dummy instrument that returns something like a frequency spectrum starting from a frequency given by `f_start` to a frequency given by `f_stop` in `n_points` steps. \n",
    "\n",
    "The extra functionality of the `ParameterWithSetpoints` is implemented by giving it a reference to one or more parameters that acts like its setpoints. \n",
    "\n",
    "To setup a `ParameterWithSetpoints` we have to do two things in addition to what we do for a normal parameter.\n",
    "\n",
    "* Define one or more parameter for the setpoints (one for each dimension of the array and let the `ParameterWithSetpoints` know that these are the setpoints.\n",
    "* Give both the setpoints parameter(s) and the `ParameterWithSetpoints` a `validator` of type `Arrays` with a shape. The shapes should be such that the combined shape of the setpoints matches the shape of the `ParameterWithSetpoints`. Note that if the shape changes with the setting of the instrument, it can be defined by another parameter as shown below. "
   ]
  },
  {
   "cell_type": "code",
   "execution_count": 5,
   "metadata": {},
   "outputs": [],
   "source": [
    "class GeneratedSetPoints(Parameter):\n",
    "    \"\"\"\n",
    "    A parameter that generates a setpoint array from start, stop and num points\n",
    "    parameters.\n",
    "    \"\"\"\n",
    "    def __init__(self, startparam, stopparam, numpointsparam, *args, **kwargs):\n",
    "        super().__init__(*args, **kwargs)\n",
    "        self._startparam = startparam\n",
    "        self._stopparam = stopparam\n",
    "        self._numpointsparam = numpointsparam\n",
    "\n",
    "    def get_raw(self):\n",
    "        return np.linspace(self._startparam(), self._stopparam(),\n",
    "                              self._numpointsparam())\n",
    "\n",
    "class DummyArray(ParameterWithSetpoints):\n",
    "    \n",
    "    def get_raw(self):\n",
    "        npoints = self.root_instrument.n_points.get_latest()\n",
    "        return np.random.rand(npoints)\n",
    "    \n",
    "\n",
    "class DummySpectrumAnalyzer(Instrument):\n",
    "    \n",
    "    def __init__(self, name, **kwargs):\n",
    "        \n",
    "        super().__init__(name, **kwargs)\n",
    "            \n",
    "\n",
    "        self.add_parameter('f_start',\n",
    "                           initial_value=0,\n",
    "                           unit='Hz',\n",
    "                           label='f start',\n",
    "                           vals=Numbers(0,1e3),\n",
    "                           get_cmd=None,\n",
    "                           set_cmd=None)\n",
    "\n",
    "        self.add_parameter('f_stop',\n",
    "                           unit='Hz',\n",
    "                           label='f stop',\n",
    "                           vals=Numbers(1,1e3),\n",
    "                           get_cmd=None,\n",
    "                           set_cmd=None)\n",
    "\n",
    "        self.add_parameter('n_points',\n",
    "                           unit='',\n",
    "                           initial_value=10,\n",
    "                           vals=Numbers(1,1e3),\n",
    "                           get_cmd=None,\n",
    "                           set_cmd=None)\n",
    "        \n",
    "        self.add_parameter('freq_axis',\n",
    "                           unit='Hz',\n",
    "                           label='Freq Axis',\n",
    "                           parameter_class=GeneratedSetPoints,\n",
    "                           startparam=self.f_start,\n",
    "                           stopparam=self.f_stop,\n",
    "                           numpointsparam=self.n_points,\n",
    "                           vals=Arrays(shape=(self.n_points.get_latest,)))\n",
    "                           \n",
    "        self.add_parameter('spectrum',\n",
    "                   unit='dBm',\n",
    "                   setpoints=(self.freq_axis,),\n",
    "                   label='Spectrum',\n",
    "                   parameter_class=DummyArray,\n",
    "                   vals=Arrays(shape=(self.n_points.get_latest,)))\n",
    "                "
   ]
  },
  {
   "cell_type": "markdown",
   "metadata": {},
   "source": [
    "In the above example, the shape is defined by the parameter `n_points` that defines how many samples our `DummySpectrumAnalyzer` returns.\n",
    "\n",
    "This means that the validation will call the function to get `n_points` twice for each `get` of the parameter. This may be too slow, however, if you (as the driver-writer) can guarantee that the cached value for `n_points` will never be out of sync with the value stored in the instrument, `n_points` may be replaced by it's latest known value such that the `validator` reads:\n",
    "```python\n",
    "vals=Arrays(shape=(self.n_points.get_latest))\n",
    "```\n",
    "\n",
    "This avoids any additional call to the instrument. In the same way, the arguments to the `freq_axis` parameter that defines the start, stop and number of points can be replaced by their latest value if the instrument allows it.\n",
    "\n"
   ]
  },
  {
   "cell_type": "code",
   "execution_count": 6,
   "metadata": {},
   "outputs": [
    {
     "name": "stdout",
     "output_type": "stream",
     "text": [
      "\r",
      "0it [00:00, ?it/s]"
     ]
    },
    {
     "name": "stdout",
     "output_type": "stream",
     "text": [
      "\r",
      "Upgrading database; v0 -> v1: : 0it [00:00, ?it/s]"
     ]
    },
    {
     "name": "stdout",
     "output_type": "stream",
     "text": [
      "\r",
      "Upgrading database; v0 -> v1: : 0it [00:00, ?it/s]"
     ]
    },
    {
     "name": "stdout",
     "output_type": "stream",
     "text": [
      "\n",
      "\r",
      "  0%|          | 0/1 [00:00<?, ?it/s]"
     ]
    },
    {
     "name": "stdout",
     "output_type": "stream",
     "text": [
      "\r",
      "Upgrading database; v1 -> v2:   0%|          | 0/1 [00:00<?, ?it/s]"
     ]
    },
    {
     "name": "stdout",
     "output_type": "stream",
     "text": [
      "\r",
      "Upgrading database; v1 -> v2: 100%|██████████| 1/1 [00:00<00:00, 866.77it/s]"
     ]
    },
    {
     "name": "stdout",
     "output_type": "stream",
     "text": [
      "\n",
      "\r",
      "0it [00:00, ?it/s]"
     ]
    },
    {
     "name": "stdout",
     "output_type": "stream",
     "text": [
      "\r",
      "Upgrading database; v2 -> v3: : 0it [00:00, ?it/s]"
     ]
    },
    {
     "name": "stdout",
     "output_type": "stream",
     "text": [
      "\r",
      "Upgrading database; v2 -> v3: : 0it [00:00, ?it/s]"
     ]
    },
    {
     "name": "stdout",
     "output_type": "stream",
     "text": [
      "\n",
      "\r",
      "0it [00:00, ?it/s]"
     ]
    },
    {
     "name": "stdout",
     "output_type": "stream",
     "text": [
      "\r",
      "Upgrading database; v3 -> v4: : 0it [00:00, ?it/s]"
     ]
    },
    {
     "name": "stdout",
     "output_type": "stream",
     "text": [
      "\r",
      "Upgrading database; v3 -> v4: : 0it [00:00, ?it/s]"
     ]
    },
    {
     "name": "stdout",
     "output_type": "stream",
     "text": [
      "\n",
      "\r",
      "  0%|          | 0/1 [00:00<?, ?it/s]"
     ]
    },
    {
     "name": "stdout",
     "output_type": "stream",
     "text": [
      "\r",
      "Upgrading database; v4 -> v5:   0%|          | 0/1 [00:00<?, ?it/s]"
     ]
    },
    {
     "name": "stdout",
     "output_type": "stream",
     "text": [
      "\r",
      "Upgrading database; v4 -> v5: 100%|██████████| 1/1 [00:00<00:00, 696.50it/s]"
     ]
    },
    {
     "name": "stdout",
     "output_type": "stream",
     "text": [
      "\n",
      "\r",
      "0it [00:00, ?it/s]"
     ]
    },
    {
     "name": "stdout",
     "output_type": "stream",
     "text": [
      "\r",
      "Upgrading database; v5 -> v6: : 0it [00:00, ?it/s]"
     ]
    },
    {
     "name": "stdout",
     "output_type": "stream",
     "text": [
      "\r",
      "Upgrading database; v5 -> v6: : 0it [00:00, ?it/s]"
     ]
    },
    {
     "name": "stdout",
     "output_type": "stream",
     "text": [
      "\n",
      "\r",
      "  0%|          | 0/1 [00:00<?, ?it/s]"
     ]
    },
    {
     "name": "stdout",
     "output_type": "stream",
     "text": [
      "\r",
      "Upgrading database; v6 -> v7:   0%|          | 0/1 [00:00<?, ?it/s]"
     ]
    },
    {
     "name": "stdout",
     "output_type": "stream",
     "text": [
      "\r",
      "Upgrading database; v6 -> v7: 100%|██████████| 1/1 [00:00<00:00, 425.47it/s]"
     ]
    },
    {
     "name": "stdout",
     "output_type": "stream",
     "text": [
      "\n",
      "\r",
      "  0%|          | 0/1 [00:00<?, ?it/s]"
     ]
    },
    {
     "name": "stdout",
     "output_type": "stream",
     "text": [
      "\r",
      "Upgrading database; v7 -> v8:   0%|          | 0/1 [00:00<?, ?it/s]"
     ]
    },
    {
     "name": "stdout",
     "output_type": "stream",
     "text": [
      "\r",
      "Upgrading database; v7 -> v8: 100%|██████████| 1/1 [00:00<00:00, 773.43it/s]"
     ]
    },
    {
     "name": "stdout",
     "output_type": "stream",
     "text": [
      "\n",
      "\r",
      "  0%|          | 0/1 [00:00<?, ?it/s]"
     ]
    },
    {
     "name": "stdout",
     "output_type": "stream",
     "text": [
      "\r",
      "Upgrading database; v8 -> v9:   0%|          | 0/1 [00:00<?, ?it/s]"
     ]
    },
    {
     "name": "stdout",
     "output_type": "stream",
     "text": [
      "\r",
      "Upgrading database; v8 -> v9: 100%|██████████| 1/1 [00:00<00:00, 983.65it/s]"
     ]
    },
    {
     "name": "stdout",
     "output_type": "stream",
     "text": [
      "\n"
     ]
    },
    {
     "data": {
      "text/plain": [
       "tutorial_ParameterWithSetpoints#no sample#1@/home/vsts/work/1/s/docs/examples/Parameters/tutorial_paramter_with_setpoints.db\n",
       "----------------------------------------------------------------------------------------------------------------------------"
      ]
     },
     "execution_count": 6,
     "metadata": {},
     "output_type": "execute_result"
    }
   ],
   "source": [
    "tutorial_db_path = os.path.join(os.getcwd(), 'tutorial_paramter_with_setpoints.db')\n",
    "initialise_or_create_database_at(tutorial_db_path)\n",
    "load_or_create_experiment(experiment_name='tutorial_ParameterWithSetpoints', sample_name=\"no sample\")"
   ]
  },
  {
   "cell_type": "code",
   "execution_count": 7,
   "metadata": {},
   "outputs": [],
   "source": [
    "a = DummySpectrumAnalyzer('foobar')"
   ]
  },
  {
   "cell_type": "markdown",
   "metadata": {},
   "source": [
    "First we setup the limits of the spectrum"
   ]
  },
  {
   "cell_type": "code",
   "execution_count": 8,
   "metadata": {},
   "outputs": [],
   "source": [
    "a.f_start(0)\n",
    "a.f_stop(500)\n",
    "a.n_points(501)"
   ]
  },
  {
   "cell_type": "markdown",
   "metadata": {},
   "source": [
    "And we can grab the frequency axis"
   ]
  },
  {
   "cell_type": "code",
   "execution_count": 9,
   "metadata": {},
   "outputs": [
    {
     "data": {
      "text/plain": [
       "501"
      ]
     },
     "execution_count": 9,
     "metadata": {},
     "output_type": "execute_result"
    }
   ],
   "source": [
    "a.n_points()"
   ]
  },
  {
   "cell_type": "code",
   "execution_count": 10,
   "metadata": {
    "scrolled": false
   },
   "outputs": [
    {
     "data": {
      "text/plain": [
       "501"
      ]
     },
     "execution_count": 10,
     "metadata": {},
     "output_type": "execute_result"
    }
   ],
   "source": [
    "freq_axis = a.freq_axis()\n",
    "len(freq_axis)"
   ]
  },
  {
   "cell_type": "code",
   "execution_count": 11,
   "metadata": {},
   "outputs": [
    {
     "data": {
      "text/plain": [
       "array([0., 1., 2., 3., 4., 5., 6., 7., 8., 9.])"
      ]
     },
     "execution_count": 11,
     "metadata": {},
     "output_type": "execute_result"
    }
   ],
   "source": [
    "freq_axis[:10]"
   ]
  },
  {
   "cell_type": "markdown",
   "metadata": {},
   "source": [
    "As expected we get a result wit 501 points as we asked for an axis with 501 points. "
   ]
  },
  {
   "cell_type": "markdown",
   "metadata": {},
   "source": [
    "Above we have added a validator to the `freq_axis` parameter encoding the fact that this is an Array with `n_points`. Note that we do not have to supply the number of points as an integer but can supply a function that returns the valid number of points. This would normally be a QCoDeS parameter.\n",
    "\n",
    "This will be checked if we validate the output."
   ]
  },
  {
   "cell_type": "code",
   "execution_count": 12,
   "metadata": {},
   "outputs": [],
   "source": [
    "a.freq_axis.validate(a.freq_axis.get())"
   ]
  },
  {
   "cell_type": "markdown",
   "metadata": {},
   "source": [
    "Naturally, we can also get the spectrum. Getting the spectrum will automatically perform validation both for the shape of the parameter itself and the relation to the setpoint parameter(s)"
   ]
  },
  {
   "cell_type": "code",
   "execution_count": 13,
   "metadata": {
    "scrolled": true
   },
   "outputs": [
    {
     "data": {
      "text/plain": [
       "501"
      ]
     },
     "execution_count": 13,
     "metadata": {},
     "output_type": "execute_result"
    }
   ],
   "source": [
    "spectrum = a.spectrum.get()\n",
    "len(spectrum)"
   ]
  },
  {
   "cell_type": "markdown",
   "metadata": {},
   "source": [
    "When we validate a `ParameterWithSetpoints`, we automatically validate that the shape is consistent between the parameters and its setpoints. As well as validating the shape as above."
   ]
  },
  {
   "cell_type": "code",
   "execution_count": 14,
   "metadata": {},
   "outputs": [],
   "source": [
    "a.spectrum.validate(a.spectrum.get())"
   ]
  },
  {
   "cell_type": "markdown",
   "metadata": {},
   "source": [
    "The consistent shapes can be validated explicitly."
   ]
  },
  {
   "cell_type": "code",
   "execution_count": 15,
   "metadata": {},
   "outputs": [],
   "source": [
    "a.spectrum.validate_consistent_shape()"
   ]
  },
  {
   "cell_type": "markdown",
   "metadata": {},
   "source": [
    "We can inspect the setpoints of the spectrum."
   ]
  },
  {
   "cell_type": "code",
   "execution_count": 16,
   "metadata": {},
   "outputs": [
    {
     "data": {
      "text/plain": [
       "(<__main__.GeneratedSetPoints: freq_axis at 140459793789584>,)"
      ]
     },
     "execution_count": 16,
     "metadata": {},
     "output_type": "execute_result"
    }
   ],
   "source": [
    "a.spectrum.setpoints"
   ]
  },
  {
   "cell_type": "markdown",
   "metadata": {},
   "source": [
    "Or even change them."
   ]
  },
  {
   "cell_type": "code",
   "execution_count": 17,
   "metadata": {},
   "outputs": [],
   "source": [
    "a.spectrum.setpoints = (a.freq_axis,)"
   ]
  },
  {
   "cell_type": "markdown",
   "metadata": {},
   "source": [
    "## Measurement"
   ]
  },
  {
   "cell_type": "markdown",
   "metadata": {},
   "source": [
    "We can also directly consume the parameter in a measurement without defining the setpoints of the parameter again. The setpoints are automatically obtained from the definition of the `ParameterWithSetpoint` instance. "
   ]
  },
  {
   "cell_type": "code",
   "execution_count": 18,
   "metadata": {},
   "outputs": [
    {
     "name": "stdout",
     "output_type": "stream",
     "text": [
      "Starting experimental run with id: 1. \n"
     ]
    }
   ],
   "source": [
    "meas = Measurement()\n",
    "meas.register_parameter(a.spectrum)\n",
    "\n",
    "with meas.run() as datasaver:\n",
    "    datasaver.add_result((a.freq_axis, a.freq_axis()),\n",
    "                         (a.spectrum, a.spectrum()))\n",
    "    dataset = datasaver.dataset"
   ]
  },
  {
   "cell_type": "markdown",
   "metadata": {},
   "source": [
    "And plot it"
   ]
  },
  {
   "cell_type": "code",
   "execution_count": 19,
   "metadata": {},
   "outputs": [
    {
     "data": {
      "text/plain": [
       "([<matplotlib.axes._subplots.AxesSubplot at 0x7fbf57d01850>], [None])"
      ]
     },
     "execution_count": 19,
     "metadata": {},
     "output_type": "execute_result"
    },
    {
     "data": {
      "image/png": "[encoded data removed]",
      "text/plain": [
       "<Figure size 432x288 with 1 Axes>"
      ]
     },
     "metadata": {
      "needs_background": "light"
     },
     "output_type": "display_data"
    }
   ],
   "source": [
    "plot_dataset(dataset)"
   ]
  },
  {
   "cell_type": "markdown",
   "metadata": {},
   "source": [
    "To reduce the amount of typing a simple convenience function is provided that will take a `ParameterWithSetpoints` and get both its values and the setpoints values and return them as tuples for direct insertion into the Dataset."
   ]
  },
  {
   "cell_type": "code",
   "execution_count": 20,
   "metadata": {
    "scrolled": true
   },
   "outputs": [
    {
     "data": {
      "text/plain": [
       "[(<__main__.GeneratedSetPoints: freq_axis at 140459793789584>,\n",
       "  array([  0.,   1.,   2.,   3.,   4.,   5.,   6.,   7.,   8.,   9.,  10.,\n",
       "          11.,  12.,  13.,  14.,  15.,  16.,  17.,  18.,  19.,  20.,  21.,\n",
       "          22.,  23.,  24.,  25.,  26.,  27.,  28.,  29.,  30.,  31.,  32.,\n",
       "          33.,  34.,  35.,  36.,  37.,  38.,  39.,  40.,  41.,  42.,  43.,\n",
       "          44.,  45.,  46.,  47.,  48.,  49.,  50.,  51.,  52.,  53.,  54.,\n",
       "          55.,  56.,  57.,  58.,  59.,  60.,  61.,  62.,  63.,  64.,  65.,\n",
       "          66.,  67.,  68.,  69.,  70.,  71.,  72.,  73.,  74.,  75.,  76.,\n",
       "          77.,  78.,  79.,  80.,  81.,  82.,  83.,  84.,  85.,  86.,  87.,\n",
       "          88.,  89.,  90.,  91.,  92.,  93.,  94.,  95.,  96.,  97.,  98.,\n",
       "          99., 100., 101., 102., 103., 104., 105., 106., 107., 108., 109.,\n",
       "         110., 111., 112., 113., 114., 115., 116., 117., 118., 119., 120.,\n",
       "         121., 122., 123., 124., 125., 126., 127., 128., 129., 130., 131.,\n",
       "         132., 133., 134., 135., 136., 137., 138., 139., 140., 141., 142.,\n",
       "         143., 144., 145., 146., 147., 148., 149., 150., 151., 152., 153.,\n",
       "         154., 155., 156., 157., 158., 159., 160., 161., 162., 163., 164.,\n",
       "         165., 166., 167., 168., 169., 170., 171., 172., 173., 174., 175.,\n",
       "         176., 177., 178., 179., 180., 181., 182., 183., 184., 185., 186.,\n",
       "         187., 188., 189., 190., 191., 192., 193., 194., 195., 196., 197.,\n",
       "         198., 199., 200., 201., 202., 203., 204., 205., 206., 207., 208.,\n",
       "         209., 210., 211., 212., 213., 214., 215., 216., 217., 218., 219.,\n",
       "         220., 221., 222., 223., 224., 225., 226., 227., 228., 229., 230.,\n",
       "         231., 232., 233., 234., 235., 236., 237., 238., 239., 240., 241.,\n",
       "         242., 243., 244., 245., 246., 247., 248., 249., 250., 251., 252.,\n",
       "         253., 254., 255., 256., 257., 258., 259., 260., 261., 262., 263.,\n",
       "         264., 265., 266., 267., 268., 269., 270., 271., 272., 273., 274.,\n",
       "         275., 276., 277., 278., 279., 280., 281., 282., 283., 284., 285.,\n",
       "         286., 287., 288., 289., 290., 291., 292., 293., 294., 295., 296.,\n",
       "         297., 298., 299., 300., 301., 302., 303., 304., 305., 306., 307.,\n",
       "         308., 309., 310., 311., 312., 313., 314., 315., 316., 317., 318.,\n",
       "         319., 320., 321., 322., 323., 324., 325., 326., 327., 328., 329.,\n",
       "         330., 331., 332., 333., 334., 335., 336., 337., 338., 339., 340.,\n",
       "         341., 342., 343., 344., 345., 346., 347., 348., 349., 350., 351.,\n",
       "         352., 353., 354., 355., 356., 357., 358., 359., 360., 361., 362.,\n",
       "         363., 364., 365., 366., 367., 368., 369., 370., 371., 372., 373.,\n",
       "         374., 375., 376., 377., 378., 379., 380., 381., 382., 383., 384.,\n",
       "         385., 386., 387., 388., 389., 390., 391., 392., 393., 394., 395.,\n",
       "         396., 397., 398., 399., 400., 401., 402., 403., 404., 405., 406.,\n",
       "         407., 408., 409., 410., 411., 412., 413., 414., 415., 416., 417.,\n",
       "         418., 419., 420., 421., 422., 423., 424., 425., 426., 427., 428.,\n",
       "         429., 430., 431., 432., 433., 434., 435., 436., 437., 438., 439.,\n",
       "         440., 441., 442., 443., 444., 445., 446., 447., 448., 449., 450.,\n",
       "         451., 452., 453., 454., 455., 456., 457., 458., 459., 460., 461.,\n",
       "         462., 463., 464., 465., 466., 467., 468., 469., 470., 471., 472.,\n",
       "         473., 474., 475., 476., 477., 478., 479., 480., 481., 482., 483.,\n",
       "         484., 485., 486., 487., 488., 489., 490., 491., 492., 493., 494.,\n",
       "         495., 496., 497., 498., 499., 500.])),\n",
       " (<__main__.DummyArray: spectrum at 140459779279696>,\n",
       "  array([8.33661583e-01, 4.55558396e-01, 9.27896535e-01, 3.31025743e-02,\n",
       "         7.85634626e-01, 2.16299287e-01, 1.97454312e-01, 9.36564524e-01,\n",
       "         5.56865424e-01, 2.16936469e-01, 9.35507940e-01, 1.48937749e-01,\n",
       "         3.27483868e-01, 7.53601864e-01, 1.59772169e-01, 4.41827314e-01,\n",
       "         2.11936572e-01, 6.99483332e-01, 8.57018098e-01, 3.18917898e-01,\n",
       "         8.98693416e-02, 5.79853770e-01, 4.12749644e-01, 1.88145797e-01,\n",
       "         1.70399258e-01, 5.21607865e-01, 8.98588682e-01, 8.68957215e-01,\n",
       "         2.59628229e-01, 7.17401190e-01, 6.19182984e-01, 9.89148120e-01,\n",
       "         5.75904069e-01, 1.19849602e-01, 5.73294218e-01, 2.33548776e-01,\n",
       "         1.01793720e-01, 8.28233763e-01, 4.40223904e-01, 1.25085905e-02,\n",
       "         5.57645311e-01, 3.22786110e-01, 5.64450467e-01, 9.44390051e-01,\n",
       "         6.48984850e-01, 6.12801568e-01, 7.18951245e-01, 5.42021801e-01,\n",
       "         2.01836534e-02, 6.56447315e-02, 7.63074254e-01, 8.23794865e-01,\n",
       "         1.51031339e-01, 5.62018161e-01, 2.36983607e-01, 4.37519504e-01,\n",
       "         6.09272498e-01, 3.37693239e-01, 6.67000948e-01, 5.52480681e-01,\n",
       "         4.81981206e-01, 8.66586659e-01, 5.73576722e-01, 5.76674058e-01,\n",
       "         6.42631679e-01, 7.30197376e-02, 1.34452045e-01, 1.50324777e-02,\n",
       "         5.65438227e-01, 6.55600250e-01, 4.24312128e-01, 8.94070993e-01,\n",
       "         6.80320737e-01, 9.03351403e-01, 9.28139714e-01, 2.85095258e-01,\n",
       "         9.07899305e-01, 2.17601543e-01, 7.54516384e-01, 4.26384249e-01,\n",
       "         1.70329881e-01, 1.10738772e-01, 4.62082748e-01, 9.40729301e-01,\n",
       "         3.51505366e-01, 9.66935571e-01, 2.22596166e-01, 4.00510714e-01,\n",
       "         9.38523062e-01, 3.65418121e-01, 2.64463437e-01, 6.11411493e-01,\n",
       "         8.21304687e-01, 3.52348657e-01, 5.23077835e-01, 4.50080551e-01,\n",
       "         7.93378247e-02, 5.86905548e-01, 2.38726847e-01, 9.19841571e-01,\n",
       "         4.83994167e-01, 7.23852624e-01, 8.72622511e-01, 6.95670547e-01,\n",
       "         2.79726331e-01, 5.61183162e-01, 8.03824091e-01, 6.12582730e-01,\n",
       "         3.63609485e-01, 9.15366402e-01, 6.47559165e-01, 1.40766138e-01,\n",
       "         4.69650182e-01, 4.19313972e-02, 2.62496037e-01, 2.44150206e-01,\n",
       "         7.09687997e-01, 7.50389956e-01, 3.64599369e-01, 3.98038926e-01,\n",
       "         7.35457320e-01, 4.51153278e-01, 7.78565924e-01, 8.48575701e-02,\n",
       "         2.90884241e-01, 1.03114542e-01, 4.61637122e-01, 7.17267204e-02,\n",
       "         4.20961128e-01, 2.97553843e-01, 9.41328837e-01, 2.58727744e-01,\n",
       "         9.31855720e-01, 7.62090968e-01, 1.96672616e-01, 6.01689954e-02,\n",
       "         1.36209100e-01, 1.60039682e-01, 6.27441381e-01, 9.38798417e-01,\n",
       "         3.38822513e-01, 3.39396630e-02, 3.83854939e-02, 3.89577620e-01,\n",
       "         9.55245775e-01, 6.29148656e-01, 6.46583599e-01, 9.65351940e-01,\n",
       "         6.10407161e-02, 4.87716011e-01, 1.51472570e-01, 4.03549959e-01,\n",
       "         2.29726061e-01, 2.80314076e-01, 3.23431201e-01, 1.46300033e-01,\n",
       "         7.76633045e-01, 2.98447465e-01, 3.90702934e-01, 1.44280932e-01,\n",
       "         9.73847627e-01, 7.75124503e-01, 1.35160638e-01, 6.94484706e-01,\n",
       "         6.02423401e-02, 3.98877389e-01, 8.44577379e-01, 4.39819366e-01,\n",
       "         8.57685489e-01, 5.80958750e-01, 3.82181187e-01, 5.32809403e-03,\n",
       "         7.94598972e-01, 2.21568061e-02, 8.07613418e-01, 1.64761810e-01,\n",
       "         7.47912347e-01, 6.64619956e-02, 8.98230798e-01, 8.55549442e-01,\n",
       "         7.57189140e-01, 4.66125210e-01, 6.36118874e-01, 3.04422507e-01,\n",
       "         5.15740715e-01, 8.80216324e-01, 5.53794799e-01, 4.23538026e-01,\n",
       "         2.41163957e-01, 2.50020661e-01, 4.00438799e-01, 8.40649244e-01,\n",
       "         6.04757201e-01, 1.88231773e-01, 4.31488033e-01, 6.56981521e-02,\n",
       "         4.37889891e-01, 8.46465277e-01, 3.97906226e-01, 6.14728154e-01,\n",
       "         7.52532696e-01, 2.53734345e-02, 9.39674028e-01, 6.88875943e-01,\n",
       "         4.21939081e-01, 9.63817439e-01, 2.88846793e-01, 7.94754225e-01,\n",
       "         9.63280348e-01, 9.79575362e-01, 3.26127209e-01, 9.10992217e-01,\n",
       "         9.43874397e-01, 9.83420113e-01, 9.71005192e-01, 9.02907156e-01,\n",
       "         4.98331840e-01, 4.77918095e-01, 3.50243078e-01, 6.96811841e-01,\n",
       "         6.67103084e-02, 1.59170169e-02, 8.68731917e-01, 7.78309383e-01,\n",
       "         5.48165184e-01, 6.86383300e-01, 9.21360167e-01, 9.01209684e-01,\n",
       "         2.59185668e-01, 3.27425843e-01, 1.50573451e-02, 8.15443329e-01,\n",
       "         9.02521848e-01, 6.19977148e-04, 1.93936706e-02, 9.76690711e-01,\n",
       "         3.97625392e-01, 6.71124949e-01, 3.72161516e-01, 2.57618911e-01,\n",
       "         2.58662508e-01, 5.82469319e-01, 9.72015441e-01, 8.64771091e-02,\n",
       "         1.58424165e-02, 7.51661791e-01, 4.31009703e-01, 1.44769902e-01,\n",
       "         6.55601089e-01, 3.98271857e-01, 2.75269498e-01, 4.25575772e-01,\n",
       "         2.98127318e-01, 7.54925712e-01, 3.96828291e-01, 5.56695947e-01,\n",
       "         2.86223489e-01, 8.48553942e-01, 3.18052150e-01, 3.71953393e-01,\n",
       "         5.42863120e-01, 1.24671989e-01, 4.46749770e-01, 3.55186905e-01,\n",
       "         1.49733087e-01, 7.19969717e-01, 5.16352858e-01, 3.04580861e-01,\n",
       "         1.64782994e-01, 1.31804844e-01, 4.28064126e-01, 9.83815403e-01,\n",
       "         1.95462879e-01, 9.27328989e-01, 8.46031533e-01, 6.72637255e-01,\n",
       "         9.02101464e-01, 1.08406324e-01, 8.01279343e-01, 7.23737665e-01,\n",
       "         4.91632688e-01, 4.64311795e-01, 4.34733198e-01, 9.61949617e-04,\n",
       "         4.93176260e-01, 4.00020538e-01, 2.05455364e-01, 2.69162152e-01,\n",
       "         6.46508586e-01, 4.59134113e-01, 8.13266201e-01, 4.98605639e-01,\n",
       "         8.42648535e-01, 4.48166403e-01, 4.71712019e-01, 7.59016829e-01,\n",
       "         6.48516379e-01, 1.54309344e-01, 8.85370367e-01, 1.05288694e-01,\n",
       "         4.65723849e-01, 8.01480263e-01, 3.14381178e-01, 2.20511685e-01,\n",
       "         7.35673212e-01, 7.50114035e-01, 5.51478072e-01, 6.52779440e-01,\n",
       "         5.91944349e-01, 1.89800886e-01, 3.42499068e-02, 5.67786186e-01,\n",
       "         1.74615330e-01, 6.69434512e-01, 5.80420668e-01, 4.41384967e-01,\n",
       "         9.39452882e-02, 5.42783048e-01, 5.67034733e-01, 2.00955530e-02,\n",
       "         6.71820142e-01, 6.31723079e-02, 7.40381301e-01, 9.56671073e-01,\n",
       "         9.69720926e-02, 5.14359173e-01, 6.68217854e-01, 3.97359747e-01,\n",
       "         7.67040822e-01, 8.54886963e-01, 9.06120670e-01, 4.76819331e-01,\n",
       "         2.55825347e-01, 7.59184397e-01, 1.44070119e-01, 9.46499073e-01,\n",
       "         4.42577302e-01, 8.81891652e-01, 6.81134160e-01, 2.46325791e-01,\n",
       "         6.75814691e-01, 7.87214948e-01, 3.39837111e-01, 1.02838796e-02,\n",
       "         8.14896404e-01, 4.61880769e-01, 3.76642551e-01, 2.86848929e-01,\n",
       "         3.22543360e-01, 2.27504043e-01, 4.72139806e-02, 2.63324739e-01,\n",
       "         1.82190868e-01, 3.04882551e-01, 7.37616090e-01, 9.88785381e-01,\n",
       "         6.51233671e-01, 7.06507946e-01, 4.87498053e-01, 3.27813941e-01,\n",
       "         8.37404318e-01, 4.58424288e-01, 8.94833617e-01, 2.04881557e-01,\n",
       "         5.87563069e-01, 7.19057912e-01, 6.87095736e-01, 3.17365454e-01,\n",
       "         6.22713764e-01, 9.37558410e-01, 3.84200736e-01, 6.73993752e-01,\n",
       "         3.21650194e-01, 7.13166637e-01, 7.15582507e-01, 5.47230389e-01,\n",
       "         3.39578136e-01, 5.50625066e-02, 4.00063592e-02, 3.47063010e-01,\n",
       "         5.76364631e-01, 3.53707076e-01, 2.80910782e-01, 9.12378867e-01,\n",
       "         2.79695003e-01, 3.68336228e-01, 8.41439174e-01, 3.14338696e-01,\n",
       "         5.77101188e-01, 2.29988032e-01, 1.94576648e-01, 6.46847270e-01,\n",
       "         3.00142881e-01, 3.79398142e-01, 4.37332015e-01, 8.27934678e-01,\n",
       "         1.70827106e-01, 6.70955018e-02, 7.87640610e-02, 9.95169956e-01,\n",
       "         3.28321260e-01, 2.99487153e-01, 6.46231542e-01, 3.85322878e-01,\n",
       "         8.69123933e-01, 9.56928016e-01, 3.33982424e-01, 7.96747132e-01,\n",
       "         4.55146474e-02, 8.18875480e-01, 7.45678367e-01, 1.76184067e-01,\n",
       "         4.75171908e-01, 8.19677833e-01, 5.13714811e-01, 3.78974388e-01,\n",
       "         8.05096644e-01, 3.72767061e-01, 9.28406255e-01, 8.46054399e-01,\n",
       "         6.04409938e-01, 6.63949418e-01, 1.14676162e-01, 4.89799768e-01,\n",
       "         1.75259972e-01, 6.81525480e-02, 8.60643510e-01, 6.99416878e-01,\n",
       "         9.61512109e-01, 4.88335638e-01, 3.09568316e-01, 6.71176587e-01,\n",
       "         2.67524299e-02, 3.09108537e-01, 7.66985418e-02, 2.93995139e-02,\n",
       "         5.21046897e-01, 5.52934481e-01, 9.64890205e-01, 1.28374695e-01,\n",
       "         9.38962598e-01, 4.53623519e-01, 2.36319127e-01, 3.99840101e-02,\n",
       "         7.36236518e-01, 5.47404750e-01, 4.95388841e-01, 9.26916600e-04,\n",
       "         5.35228875e-01, 9.73468840e-01, 6.56922273e-02, 2.57110837e-02,\n",
       "         5.71140140e-01, 7.37814502e-01, 5.95748023e-03, 5.31550370e-01,\n",
       "         8.91600440e-01, 7.51252991e-01, 4.12143931e-01, 2.60121876e-01,\n",
       "         7.44983355e-01, 2.84921929e-01, 7.54957314e-01, 1.94899118e-01,\n",
       "         2.61889492e-02, 3.92056288e-01, 2.02590573e-01, 1.50463282e-01,\n",
       "         6.38359482e-01, 9.40012995e-01, 3.28031334e-01, 7.83085394e-01,\n",
       "         8.28170957e-01, 8.92086107e-01, 4.15259273e-01, 6.81118381e-01,\n",
       "         8.55213835e-01, 5.09129101e-01, 6.12699797e-01, 2.46236180e-02,\n",
       "         9.48645361e-01, 5.52266703e-01, 6.44871913e-01, 1.95867513e-01,\n",
       "         6.06669987e-01, 5.14775882e-01, 1.17008453e-01, 5.59238388e-01,\n",
       "         5.52748567e-01, 6.28156647e-02, 8.81163130e-01, 8.22301997e-01,\n",
       "         1.18925852e-02, 6.41699700e-01, 8.61310545e-01, 2.86965750e-01,\n",
       "         7.50715265e-01, 9.68722508e-01, 6.98049993e-01, 2.08652336e-01,\n",
       "         8.39774577e-01]))]"
      ]
     },
     "execution_count": 20,
     "metadata": {},
     "output_type": "execute_result"
    }
   ],
   "source": [
    "expand_setpoints_helper(a.spectrum)"
   ]
  },
  {
   "cell_type": "code",
   "execution_count": 21,
   "metadata": {},
   "outputs": [
    {
     "name": "stdout",
     "output_type": "stream",
     "text": [
      "Starting experimental run with id: 2. \n"
     ]
    }
   ],
   "source": [
    "meas = Measurement()\n",
    "meas.register_parameter(a.spectrum)\n",
    "\n",
    "with meas.run() as datasaver:\n",
    "    datasaver.add_result(*expand_setpoints_helper(a.spectrum))\n",
    "    \n",
    "    dataid = datasaver.run_id"
   ]
  },
  {
   "cell_type": "code",
   "execution_count": null,
   "metadata": {},
   "outputs": [],
   "source": []
  }
 ],
 "metadata": {
  "kernelspec": {
   "display_name": "Python 3",
   "language": "python",
   "name": "python3"
  },
  "language_info": {
   "codemirror_mode": {
    "name": "ipython",
    "version": 3
   },
   "file_extension": ".py",
   "mimetype": "text/x-python",
   "name": "python",
   "nbconvert_exporter": "python",
   "pygments_lexer": "ipython3",
   "version": "3.7.7"
  },
  "toc": {
   "base_numbering": 1,
   "nav_menu": {},
   "number_sections": true,
   "sideBar": true,
   "skip_h1_title": false,
   "title_cell": "Table of Contents",
   "title_sidebar": "Contents",
   "toc_cell": false,
   "toc_position": {},
   "toc_section_display": true,
   "toc_window_display": false
  },
  "varInspector": {
   "cols": {
    "lenName": 16,
    "lenType": 16,
    "lenVar": 40
   },
   "kernels_config": {
    "python": {
     "delete_cmd_postfix": "",
     "delete_cmd_prefix": "del ",
     "library": "var_list.py",
     "varRefreshCmd": "print(var_dic_list())"
    },
    "r": {
     "delete_cmd_postfix": ") ",
     "delete_cmd_prefix": "rm(",
     "library": "var_list.r",
     "varRefreshCmd": "cat(var_dic_list()) "
    }
   },
   "types_to_exclude": [
    "module",
    "function",
    "builtin_function_or_method",
    "instance",
    "_Feature"
   ],
   "window_display": false
  }
 },
 "nbformat": 4,
 "nbformat_minor": 2
}
