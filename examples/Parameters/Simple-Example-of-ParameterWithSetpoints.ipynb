{
 "cells": [
  {
   "cell_type": "markdown",
   "metadata": {},
   "source": [
    "# Simple Example of ParameterWithSetpoints\n",
    "This notebook provides an example for writing a simple driver with a parameter that has setpoints. Let's name this parameter that has setpoints as \"y\". Then, the setpoints, say \"x1, x2, x3 ..\", are the parameters on which the parameter \n",
    "\"y\" depends upon. Meaning \"y\" is a function of \"x1, x2, x3 ...\" where \"x1, x2, x3 ...\" are known as the setpoints of parameter \"y\".\n",
    "\n",
    "This is most likely to be useful for instruments that return arrays of results. In this notebook, we will show an example of this."
   ]
  },
  {
   "cell_type": "code",
   "execution_count": 1,
   "metadata": {},
   "outputs": [],
   "source": [
    "import numpy as np\n",
    "import os"
   ]
  },
  {
   "cell_type": "code",
   "execution_count": 2,
   "metadata": {},
   "outputs": [
    {
     "name": "stdout",
     "output_type": "stream",
     "text": [
      "Logging hadn't been started.\n",
      "Activating auto-logging. Current session state plus future input saved.\n",
      "Filename       : /home/vsts/.qcodes/logs/command_history.log\n",
      "Mode           : append\n",
      "Output logging : True\n",
      "Raw input log  : False\n",
      "Timestamping   : True\n",
      "State          : active\n"
     ]
    },
    {
     "name": "stdout",
     "output_type": "stream",
     "text": [
      "Qcodes Logfile : /home/vsts/.qcodes/logs/200306-23112-qcodes.log\n"
     ]
    }
   ],
   "source": [
    "from qcodes.dataset.plotting import plot_dataset\n",
    "from qcodes.utils.validators import Numbers, Arrays\n",
    "from qcodes.instrument.base import Instrument\n",
    "from qcodes.dataset.measurements import Measurement"
   ]
  },
  {
   "cell_type": "code",
   "execution_count": 3,
   "metadata": {},
   "outputs": [],
   "source": [
    "from qcodes.dataset.sqlite.database import initialise_or_create_database_at\n",
    "from qcodes.dataset.experiment_container import load_or_create_experiment"
   ]
  },
  {
   "cell_type": "code",
   "execution_count": 4,
   "metadata": {},
   "outputs": [],
   "source": [
    "from qcodes.instrument.parameter import ParameterWithSetpoints, Parameter\n",
    "from qcodes.instrument.parameter import expand_setpoints_helper"
   ]
  },
  {
   "cell_type": "markdown",
   "metadata": {},
   "source": [
    "First, we define a dummy instrument that returns something like a frequency spectrum starting from a frequency given by `f_start` to a frequency given by `f_stop` in `n_points` steps. \n",
    "\n",
    "The extra functionality of the `ParameterWithSetpoints` is implemented by giving it a reference to one or more parameters that acts like its setpoints. \n",
    "\n",
    "To setup a `ParameterWithSetpoints` we have to do two things in addition to what we do for a normal parameter.\n",
    "\n",
    "* Define one or more parameter for the setpoints (one for each dimension of the array and let the `ParameterWithSetpoints` know that these are the setpoints.\n",
    "* Give both the setpoints parameter(s) and the `ParameterWithSetpoints` a `validator` of type `Arrays` with a shape. The shapes should be such that the combined shape of the setpoints matches the shape of the `ParameterWithSetpoints`. Note that if the shape changes with the setting of the instrument, it can be defined by another parameter as shown below. "
   ]
  },
  {
   "cell_type": "code",
   "execution_count": 5,
   "metadata": {},
   "outputs": [],
   "source": [
    "class GeneratedSetPoints(Parameter):\n",
    "    \"\"\"\n",
    "    A parameter that generates a setpoint array from start, stop and num points\n",
    "    parameters.\n",
    "    \"\"\"\n",
    "    def __init__(self, startparam, stopparam, numpointsparam, *args, **kwargs):\n",
    "        super().__init__(*args, **kwargs)\n",
    "        self._startparam = startparam\n",
    "        self._stopparam = stopparam\n",
    "        self._numpointsparam = numpointsparam\n",
    "\n",
    "    def get_raw(self):\n",
    "        return np.linspace(self._startparam(), self._stopparam(),\n",
    "                              self._numpointsparam())\n",
    "\n",
    "class DummyArray(ParameterWithSetpoints):\n",
    "    \n",
    "    def get_raw(self):\n",
    "        npoints = self.root_instrument.n_points.get_latest()\n",
    "        return np.random.rand(npoints)\n",
    "    \n",
    "\n",
    "class DummySpectrumAnalyzer(Instrument):\n",
    "    \n",
    "    def __init__(self, name, **kwargs):\n",
    "        \n",
    "        super().__init__(name, **kwargs)\n",
    "            \n",
    "\n",
    "        self.add_parameter('f_start',\n",
    "                           initial_value=0,\n",
    "                           unit='Hz',\n",
    "                           label='f start',\n",
    "                           vals=Numbers(0,1e3),\n",
    "                           get_cmd=None,\n",
    "                           set_cmd=None)\n",
    "\n",
    "        self.add_parameter('f_stop',\n",
    "                           unit='Hz',\n",
    "                           label='f stop',\n",
    "                           vals=Numbers(1,1e3),\n",
    "                           get_cmd=None,\n",
    "                           set_cmd=None)\n",
    "\n",
    "        self.add_parameter('n_points',\n",
    "                           unit='',\n",
    "                           initial_value=10,\n",
    "                           vals=Numbers(1,1e3),\n",
    "                           get_cmd=None,\n",
    "                           set_cmd=None)\n",
    "        \n",
    "        self.add_parameter('freq_axis',\n",
    "                           unit='Hz',\n",
    "                           label='Freq Axis',\n",
    "                           parameter_class=GeneratedSetPoints,\n",
    "                           startparam=self.f_start,\n",
    "                           stopparam=self.f_stop,\n",
    "                           numpointsparam=self.n_points,\n",
    "                           vals=Arrays(shape=(self.n_points.get_latest,)))\n",
    "                           \n",
    "        self.add_parameter('spectrum',\n",
    "                   unit='dBm',\n",
    "                   setpoints=(self.freq_axis,),\n",
    "                   label='Spectrum',\n",
    "                   parameter_class=DummyArray,\n",
    "                   vals=Arrays(shape=(self.n_points.get_latest,)))\n",
    "                "
   ]
  },
  {
   "cell_type": "markdown",
   "metadata": {},
   "source": [
    "In the above example, the shape is defined by the parameter `n_points` that defines how many samples our `DummySpectrumAnalyzer` returns.\n",
    "\n",
    "This means that the validation will call the function to get `n_points` twice for each `get` of the parameter. This may be too slow, however, if you (as the driver-writer) can guarantee that the cached value for `n_points` will never be out of sync with the value stored in the instrument, `n_points` may be replaced by it's latest known value such that the `validator` reads:\n",
    "```python\n",
    "vals=Arrays(shape=(self.n_points.get_latest))\n",
    "```\n",
    "\n",
    "This avoids any additional call to the instrument. In the same way, the arguments to the `freq_axis` parameter that defines the start, stop and number of points can be replaced by their latest value if the instrument allows it.\n",
    "\n"
   ]
  },
  {
   "cell_type": "code",
   "execution_count": 6,
   "metadata": {},
   "outputs": [
    {
     "name": "stdout",
     "output_type": "stream",
     "text": [
      "\r",
      "0it [00:00, ?it/s]"
     ]
    },
    {
     "name": "stdout",
     "output_type": "stream",
     "text": [
      "\r",
      "Upgrading database; v0 -> v1: : 0it [00:00, ?it/s]"
     ]
    },
    {
     "name": "stdout",
     "output_type": "stream",
     "text": [
      "\r",
      "Upgrading database; v0 -> v1: : 0it [00:00, ?it/s]"
     ]
    },
    {
     "name": "stdout",
     "output_type": "stream",
     "text": [
      "\n",
      "\r",
      "  0%|          | 0/1 [00:00<?, ?it/s]"
     ]
    },
    {
     "name": "stdout",
     "output_type": "stream",
     "text": [
      "\r",
      "Upgrading database; v1 -> v2:   0%|          | 0/1 [00:00<?, ?it/s]"
     ]
    },
    {
     "name": "stdout",
     "output_type": "stream",
     "text": [
      "\r",
      "Upgrading database; v1 -> v2: 100%|██████████| 1/1 [00:00<00:00, 909.24it/s]"
     ]
    },
    {
     "name": "stdout",
     "output_type": "stream",
     "text": [
      "\n",
      "\r",
      "0it [00:00, ?it/s]"
     ]
    },
    {
     "name": "stdout",
     "output_type": "stream",
     "text": [
      "\r",
      "Upgrading database; v2 -> v3: : 0it [00:00, ?it/s]"
     ]
    },
    {
     "name": "stdout",
     "output_type": "stream",
     "text": [
      "\r",
      "Upgrading database; v2 -> v3: : 0it [00:00, ?it/s]"
     ]
    },
    {
     "name": "stdout",
     "output_type": "stream",
     "text": [
      "\n",
      "\r",
      "0it [00:00, ?it/s]"
     ]
    },
    {
     "name": "stdout",
     "output_type": "stream",
     "text": [
      "\r",
      "Upgrading database; v3 -> v4: : 0it [00:00, ?it/s]"
     ]
    },
    {
     "name": "stdout",
     "output_type": "stream",
     "text": [
      "\r",
      "Upgrading database; v3 -> v4: : 0it [00:00, ?it/s]"
     ]
    },
    {
     "name": "stdout",
     "output_type": "stream",
     "text": [
      "\n",
      "\r",
      "  0%|          | 0/1 [00:00<?, ?it/s]"
     ]
    },
    {
     "name": "stdout",
     "output_type": "stream",
     "text": [
      "\r",
      "Upgrading database; v4 -> v5:   0%|          | 0/1 [00:00<?, ?it/s]"
     ]
    },
    {
     "name": "stdout",
     "output_type": "stream",
     "text": [
      "\r",
      "Upgrading database; v4 -> v5: 100%|██████████| 1/1 [00:00<00:00, 974.06it/s]"
     ]
    },
    {
     "name": "stdout",
     "output_type": "stream",
     "text": [
      "\n",
      "\r",
      "0it [00:00, ?it/s]"
     ]
    },
    {
     "name": "stdout",
     "output_type": "stream",
     "text": [
      "\r",
      "Upgrading database; v5 -> v6: : 0it [00:00, ?it/s]"
     ]
    },
    {
     "name": "stdout",
     "output_type": "stream",
     "text": [
      "\r",
      "Upgrading database; v5 -> v6: : 0it [00:00, ?it/s]"
     ]
    },
    {
     "name": "stdout",
     "output_type": "stream",
     "text": [
      "\n",
      "\r",
      "  0%|          | 0/1 [00:00<?, ?it/s]"
     ]
    },
    {
     "name": "stdout",
     "output_type": "stream",
     "text": [
      "\r",
      "Upgrading database; v6 -> v7:   0%|          | 0/1 [00:00<?, ?it/s]"
     ]
    },
    {
     "name": "stdout",
     "output_type": "stream",
     "text": [
      "\r",
      "Upgrading database; v6 -> v7: 100%|██████████| 1/1 [00:00<00:00, 263.43it/s]"
     ]
    },
    {
     "name": "stdout",
     "output_type": "stream",
     "text": [
      "\n",
      "\r",
      "  0%|          | 0/1 [00:00<?, ?it/s]"
     ]
    },
    {
     "name": "stdout",
     "output_type": "stream",
     "text": [
      "\r",
      "Upgrading database; v7 -> v8:   0%|          | 0/1 [00:00<?, ?it/s]"
     ]
    },
    {
     "name": "stdout",
     "output_type": "stream",
     "text": [
      "\r",
      "Upgrading database; v7 -> v8: 100%|██████████| 1/1 [00:00<00:00, 985.50it/s]"
     ]
    },
    {
     "name": "stdout",
     "output_type": "stream",
     "text": [
      "\n",
      "\r",
      "  0%|          | 0/1 [00:00<?, ?it/s]"
     ]
    },
    {
     "name": "stdout",
     "output_type": "stream",
     "text": [
      "\r",
      "Upgrading database; v8 -> v9:   0%|          | 0/1 [00:00<?, ?it/s]"
     ]
    },
    {
     "name": "stdout",
     "output_type": "stream",
     "text": [
      "\r",
      "Upgrading database; v8 -> v9: 100%|██████████| 1/1 [00:00<00:00, 972.93it/s]"
     ]
    },
    {
     "name": "stdout",
     "output_type": "stream",
     "text": [
      "\n"
     ]
    },
    {
     "data": {
      "text/plain": [
       "tutorial_ParameterWithSetpoints#no sample#1@/home/vsts/work/1/s/docs/examples/Parameters/tutorial_paramter_with_setpoints.db\n",
       "----------------------------------------------------------------------------------------------------------------------------"
      ]
     },
     "execution_count": 6,
     "metadata": {},
     "output_type": "execute_result"
    }
   ],
   "source": [
    "tutorial_db_path = os.path.join(os.getcwd(), 'tutorial_paramter_with_setpoints.db')\n",
    "initialise_or_create_database_at(tutorial_db_path)\n",
    "load_or_create_experiment(experiment_name='tutorial_ParameterWithSetpoints', sample_name=\"no sample\")"
   ]
  },
  {
   "cell_type": "code",
   "execution_count": 7,
   "metadata": {},
   "outputs": [],
   "source": [
    "a = DummySpectrumAnalyzer('foobar')"
   ]
  },
  {
   "cell_type": "markdown",
   "metadata": {},
   "source": [
    "First we setup the limits of the spectrum"
   ]
  },
  {
   "cell_type": "code",
   "execution_count": 8,
   "metadata": {},
   "outputs": [],
   "source": [
    "a.f_start(0)\n",
    "a.f_stop(500)\n",
    "a.n_points(501)"
   ]
  },
  {
   "cell_type": "markdown",
   "metadata": {},
   "source": [
    "And we can grab the frequency axis"
   ]
  },
  {
   "cell_type": "code",
   "execution_count": 9,
   "metadata": {},
   "outputs": [
    {
     "data": {
      "text/plain": [
       "501"
      ]
     },
     "execution_count": 9,
     "metadata": {},
     "output_type": "execute_result"
    }
   ],
   "source": [
    "a.n_points()"
   ]
  },
  {
   "cell_type": "code",
   "execution_count": 10,
   "metadata": {
    "scrolled": false
   },
   "outputs": [
    {
     "data": {
      "text/plain": [
       "501"
      ]
     },
     "execution_count": 10,
     "metadata": {},
     "output_type": "execute_result"
    }
   ],
   "source": [
    "freq_axis = a.freq_axis()\n",
    "len(freq_axis)"
   ]
  },
  {
   "cell_type": "code",
   "execution_count": 11,
   "metadata": {},
   "outputs": [
    {
     "data": {
      "text/plain": [
       "array([0., 1., 2., 3., 4., 5., 6., 7., 8., 9.])"
      ]
     },
     "execution_count": 11,
     "metadata": {},
     "output_type": "execute_result"
    }
   ],
   "source": [
    "freq_axis[:10]"
   ]
  },
  {
   "cell_type": "markdown",
   "metadata": {},
   "source": [
    "As expected we get a result wit 501 points as we asked for an axis with 501 points. "
   ]
  },
  {
   "cell_type": "markdown",
   "metadata": {},
   "source": [
    "Above we have added a validator to the `freq_axis` parameter encoding the fact that this is an Array with `n_points`. Note that we do not have to supply the number of points as an integer but can supply a function that returns the valid number of points. This would normally be a QCoDeS parameter.\n",
    "\n",
    "This will be checked if we validate the output."
   ]
  },
  {
   "cell_type": "code",
   "execution_count": 12,
   "metadata": {},
   "outputs": [],
   "source": [
    "a.freq_axis.validate(a.freq_axis.get())"
   ]
  },
  {
   "cell_type": "markdown",
   "metadata": {},
   "source": [
    "Naturally, we can also get the spectrum. Getting the spectrum will automatically perform validation both for the shape of the parameter itself and the relation to the setpoint parameter(s)"
   ]
  },
  {
   "cell_type": "code",
   "execution_count": 13,
   "metadata": {
    "scrolled": true
   },
   "outputs": [
    {
     "data": {
      "text/plain": [
       "501"
      ]
     },
     "execution_count": 13,
     "metadata": {},
     "output_type": "execute_result"
    }
   ],
   "source": [
    "spectrum = a.spectrum.get()\n",
    "len(spectrum)"
   ]
  },
  {
   "cell_type": "markdown",
   "metadata": {},
   "source": [
    "When we validate a `ParameterWithSetpoints`, we automatically validate that the shape is consistent between the parameters and its setpoints. As well as validating the shape as above."
   ]
  },
  {
   "cell_type": "code",
   "execution_count": 14,
   "metadata": {},
   "outputs": [],
   "source": [
    "a.spectrum.validate(a.spectrum.get())"
   ]
  },
  {
   "cell_type": "markdown",
   "metadata": {},
   "source": [
    "The consistent shapes can be validated explicitly."
   ]
  },
  {
   "cell_type": "code",
   "execution_count": 15,
   "metadata": {},
   "outputs": [],
   "source": [
    "a.spectrum.validate_consistent_shape()"
   ]
  },
  {
   "cell_type": "markdown",
   "metadata": {},
   "source": [
    "We can inspect the setpoints of the spectrum."
   ]
  },
  {
   "cell_type": "code",
   "execution_count": 16,
   "metadata": {},
   "outputs": [
    {
     "data": {
      "text/plain": [
       "(<__main__.GeneratedSetPoints: freq_axis at 140491664573392>,)"
      ]
     },
     "execution_count": 16,
     "metadata": {},
     "output_type": "execute_result"
    }
   ],
   "source": [
    "a.spectrum.setpoints"
   ]
  },
  {
   "cell_type": "markdown",
   "metadata": {},
   "source": [
    "Or even change them."
   ]
  },
  {
   "cell_type": "code",
   "execution_count": 17,
   "metadata": {},
   "outputs": [],
   "source": [
    "a.spectrum.setpoints = (a.freq_axis,)"
   ]
  },
  {
   "cell_type": "markdown",
   "metadata": {},
   "source": [
    "## Measurement"
   ]
  },
  {
   "cell_type": "markdown",
   "metadata": {},
   "source": [
    "We can also directly consume the parameter in a measurement without defining the setpoints of the parameter again. The setpoints are automatically obtained from the definition of the `ParameterWithSetpoint` instance. "
   ]
  },
  {
   "cell_type": "code",
   "execution_count": 18,
   "metadata": {},
   "outputs": [
    {
     "name": "stdout",
     "output_type": "stream",
     "text": [
      "Starting experimental run with id: 1. \n"
     ]
    }
   ],
   "source": [
    "meas = Measurement()\n",
    "meas.register_parameter(a.spectrum)\n",
    "\n",
    "with meas.run() as datasaver:\n",
    "    datasaver.add_result((a.freq_axis, a.freq_axis()),\n",
    "                         (a.spectrum, a.spectrum()))\n",
    "    dataset = datasaver.dataset"
   ]
  },
  {
   "cell_type": "markdown",
   "metadata": {},
   "source": [
    "And plot it"
   ]
  },
  {
   "cell_type": "code",
   "execution_count": 19,
   "metadata": {},
   "outputs": [
    {
     "data": {
      "text/plain": [
       "([<matplotlib.axes._subplots.AxesSubplot at 0x7fc6c3c30390>], [None])"
      ]
     },
     "execution_count": 19,
     "metadata": {},
     "output_type": "execute_result"
    },
    {
     "data": {
      "image/png": "[encoded data removed]",
      "text/plain": [
       "<Figure size 432x288 with 1 Axes>"
      ]
     },
     "metadata": {
      "needs_background": "light"
     },
     "output_type": "display_data"
    }
   ],
   "source": [
    "plot_dataset(dataset)"
   ]
  },
  {
   "cell_type": "markdown",
   "metadata": {},
   "source": [
    "To reduce the amount of typing a simple convenience function is provided that will take a `ParameterWithSetpoints` and get both its values and the setpoints values and return them as tuples for direct insertion into the Dataset."
   ]
  },
  {
   "cell_type": "code",
   "execution_count": 20,
   "metadata": {
    "scrolled": true
   },
   "outputs": [
    {
     "data": {
      "text/plain": [
       "[(<__main__.GeneratedSetPoints: freq_axis at 140491664573392>,\n",
       "  array([  0.,   1.,   2.,   3.,   4.,   5.,   6.,   7.,   8.,   9.,  10.,\n",
       "          11.,  12.,  13.,  14.,  15.,  16.,  17.,  18.,  19.,  20.,  21.,\n",
       "          22.,  23.,  24.,  25.,  26.,  27.,  28.,  29.,  30.,  31.,  32.,\n",
       "          33.,  34.,  35.,  36.,  37.,  38.,  39.,  40.,  41.,  42.,  43.,\n",
       "          44.,  45.,  46.,  47.,  48.,  49.,  50.,  51.,  52.,  53.,  54.,\n",
       "          55.,  56.,  57.,  58.,  59.,  60.,  61.,  62.,  63.,  64.,  65.,\n",
       "          66.,  67.,  68.,  69.,  70.,  71.,  72.,  73.,  74.,  75.,  76.,\n",
       "          77.,  78.,  79.,  80.,  81.,  82.,  83.,  84.,  85.,  86.,  87.,\n",
       "          88.,  89.,  90.,  91.,  92.,  93.,  94.,  95.,  96.,  97.,  98.,\n",
       "          99., 100., 101., 102., 103., 104., 105., 106., 107., 108., 109.,\n",
       "         110., 111., 112., 113., 114., 115., 116., 117., 118., 119., 120.,\n",
       "         121., 122., 123., 124., 125., 126., 127., 128., 129., 130., 131.,\n",
       "         132., 133., 134., 135., 136., 137., 138., 139., 140., 141., 142.,\n",
       "         143., 144., 145., 146., 147., 148., 149., 150., 151., 152., 153.,\n",
       "         154., 155., 156., 157., 158., 159., 160., 161., 162., 163., 164.,\n",
       "         165., 166., 167., 168., 169., 170., 171., 172., 173., 174., 175.,\n",
       "         176., 177., 178., 179., 180., 181., 182., 183., 184., 185., 186.,\n",
       "         187., 188., 189., 190., 191., 192., 193., 194., 195., 196., 197.,\n",
       "         198., 199., 200., 201., 202., 203., 204., 205., 206., 207., 208.,\n",
       "         209., 210., 211., 212., 213., 214., 215., 216., 217., 218., 219.,\n",
       "         220., 221., 222., 223., 224., 225., 226., 227., 228., 229., 230.,\n",
       "         231., 232., 233., 234., 235., 236., 237., 238., 239., 240., 241.,\n",
       "         242., 243., 244., 245., 246., 247., 248., 249., 250., 251., 252.,\n",
       "         253., 254., 255., 256., 257., 258., 259., 260., 261., 262., 263.,\n",
       "         264., 265., 266., 267., 268., 269., 270., 271., 272., 273., 274.,\n",
       "         275., 276., 277., 278., 279., 280., 281., 282., 283., 284., 285.,\n",
       "         286., 287., 288., 289., 290., 291., 292., 293., 294., 295., 296.,\n",
       "         297., 298., 299., 300., 301., 302., 303., 304., 305., 306., 307.,\n",
       "         308., 309., 310., 311., 312., 313., 314., 315., 316., 317., 318.,\n",
       "         319., 320., 321., 322., 323., 324., 325., 326., 327., 328., 329.,\n",
       "         330., 331., 332., 333., 334., 335., 336., 337., 338., 339., 340.,\n",
       "         341., 342., 343., 344., 345., 346., 347., 348., 349., 350., 351.,\n",
       "         352., 353., 354., 355., 356., 357., 358., 359., 360., 361., 362.,\n",
       "         363., 364., 365., 366., 367., 368., 369., 370., 371., 372., 373.,\n",
       "         374., 375., 376., 377., 378., 379., 380., 381., 382., 383., 384.,\n",
       "         385., 386., 387., 388., 389., 390., 391., 392., 393., 394., 395.,\n",
       "         396., 397., 398., 399., 400., 401., 402., 403., 404., 405., 406.,\n",
       "         407., 408., 409., 410., 411., 412., 413., 414., 415., 416., 417.,\n",
       "         418., 419., 420., 421., 422., 423., 424., 425., 426., 427., 428.,\n",
       "         429., 430., 431., 432., 433., 434., 435., 436., 437., 438., 439.,\n",
       "         440., 441., 442., 443., 444., 445., 446., 447., 448., 449., 450.,\n",
       "         451., 452., 453., 454., 455., 456., 457., 458., 459., 460., 461.,\n",
       "         462., 463., 464., 465., 466., 467., 468., 469., 470., 471., 472.,\n",
       "         473., 474., 475., 476., 477., 478., 479., 480., 481., 482., 483.,\n",
       "         484., 485., 486., 487., 488., 489., 490., 491., 492., 493., 494.,\n",
       "         495., 496., 497., 498., 499., 500.])),\n",
       " (<__main__.DummyArray: spectrum at 140491664576080>,\n",
       "  array([4.39681952e-01, 5.56951875e-02, 7.91299072e-01, 7.62690655e-01,\n",
       "         6.10722836e-01, 7.21606029e-01, 4.16346578e-01, 9.05662673e-01,\n",
       "         1.11420204e-01, 7.06599913e-01, 3.11423937e-01, 4.81646949e-01,\n",
       "         5.41583829e-01, 1.56121511e-02, 9.67816746e-01, 6.87346305e-01,\n",
       "         2.22562918e-02, 5.33048890e-01, 5.91138145e-01, 5.57321284e-01,\n",
       "         9.35322097e-01, 2.78843741e-02, 4.59467717e-01, 3.67985359e-01,\n",
       "         4.86669436e-01, 8.80863656e-01, 7.62229523e-01, 2.35066807e-01,\n",
       "         1.00032068e-01, 6.69302188e-01, 5.49825329e-01, 8.18478949e-01,\n",
       "         6.73439366e-01, 9.11272276e-02, 5.44849027e-01, 8.04181736e-01,\n",
       "         2.05316249e-01, 6.19372217e-02, 4.96432093e-01, 1.90049532e-01,\n",
       "         1.05287674e-01, 3.06267762e-01, 4.03070805e-01, 8.75264292e-01,\n",
       "         7.53497447e-01, 7.40847935e-01, 8.72396012e-01, 6.35757491e-01,\n",
       "         3.05591493e-01, 1.41008397e-01, 5.46796197e-01, 8.51036904e-01,\n",
       "         1.28951095e-01, 5.64061462e-01, 2.49274119e-01, 5.70051604e-03,\n",
       "         6.16522964e-01, 8.94100985e-01, 2.42961656e-01, 2.46833878e-01,\n",
       "         1.02925681e-01, 2.11522455e-01, 6.20612419e-01, 5.10999782e-01,\n",
       "         8.08223786e-01, 6.78131843e-01, 5.33818110e-01, 4.16255887e-01,\n",
       "         7.51296245e-01, 7.47051257e-01, 2.05847930e-02, 6.96490136e-01,\n",
       "         5.70147819e-01, 9.80126602e-01, 6.33505140e-02, 7.13758983e-01,\n",
       "         1.97226990e-01, 4.30776348e-01, 5.61541195e-01, 4.17285267e-01,\n",
       "         7.65229949e-01, 8.17125553e-02, 9.59743329e-01, 9.74091670e-01,\n",
       "         8.19741440e-01, 7.96292618e-01, 2.78694385e-01, 9.36486847e-01,\n",
       "         2.12925232e-01, 9.68036597e-01, 3.98214730e-02, 3.85996172e-01,\n",
       "         3.23907280e-01, 4.30395700e-01, 4.10521983e-01, 3.58669213e-01,\n",
       "         3.08246989e-01, 9.24928310e-01, 7.78044800e-01, 2.95713018e-01,\n",
       "         2.57620754e-01, 1.30877656e-01, 6.56256580e-01, 6.81442238e-02,\n",
       "         2.88035789e-01, 3.94994968e-02, 2.82637408e-01, 2.72545625e-01,\n",
       "         9.76052660e-02, 2.61887393e-01, 2.99749871e-01, 9.33793358e-01,\n",
       "         6.93797832e-01, 8.21369220e-01, 1.72037340e-01, 3.37481535e-02,\n",
       "         6.32267572e-01, 1.00946353e-01, 8.29775021e-02, 1.20851245e-01,\n",
       "         6.89434783e-01, 9.67700332e-01, 1.98865152e-01, 2.92761547e-01,\n",
       "         6.93750004e-01, 5.31186284e-01, 3.60281281e-01, 3.22022369e-01,\n",
       "         5.56394296e-01, 9.15857336e-01, 1.08636478e-02, 1.14367149e-01,\n",
       "         8.40667825e-02, 5.16789550e-01, 2.37487365e-02, 6.39470769e-01,\n",
       "         8.31369361e-01, 3.68157409e-01, 5.63240413e-01, 1.35198632e-01,\n",
       "         8.05318954e-01, 8.26319722e-01, 7.90034109e-02, 1.02346162e-01,\n",
       "         9.55169188e-01, 8.56853410e-01, 3.06823054e-01, 4.73460458e-01,\n",
       "         4.66158465e-01, 1.60168457e-01, 1.72905184e-02, 5.39654160e-01,\n",
       "         4.58185446e-01, 3.19754749e-01, 2.33977649e-02, 3.16525189e-01,\n",
       "         9.90314787e-01, 1.43175096e-01, 5.56479739e-01, 6.47463857e-02,\n",
       "         9.65621510e-02, 7.13437805e-01, 2.72017809e-02, 5.65340718e-01,\n",
       "         4.59199536e-01, 1.92222070e-01, 7.78653743e-02, 4.81083847e-01,\n",
       "         5.87881370e-01, 8.42426030e-01, 3.01381269e-01, 1.71421264e-01,\n",
       "         2.99927923e-01, 2.42021016e-01, 3.93843923e-01, 2.43438121e-01,\n",
       "         8.73813377e-02, 2.76320358e-01, 6.88432276e-01, 8.38636312e-01,\n",
       "         4.53023446e-01, 7.19920717e-01, 3.52117982e-01, 3.81302062e-01,\n",
       "         4.40466352e-01, 8.09353750e-01, 3.59183746e-01, 4.31493853e-01,\n",
       "         7.92918551e-02, 4.38821618e-01, 5.91891882e-01, 5.38169335e-01,\n",
       "         4.23461151e-01, 8.75483999e-01, 6.92237457e-01, 7.88028900e-01,\n",
       "         8.35563971e-02, 8.60588967e-02, 7.77641360e-01, 9.54505508e-01,\n",
       "         8.05122797e-01, 3.61505471e-01, 8.40894013e-01, 9.14322505e-01,\n",
       "         2.64231538e-01, 1.34906516e-01, 4.30167074e-03, 7.98646572e-02,\n",
       "         9.65839385e-01, 5.62647616e-01, 7.65270284e-01, 4.91291534e-01,\n",
       "         3.52843222e-01, 2.46705208e-01, 5.07108985e-01, 5.63821321e-01,\n",
       "         7.46610180e-02, 6.67884241e-01, 7.98883680e-01, 1.91552653e-02,\n",
       "         3.66059938e-01, 7.99534038e-03, 1.48748718e-01, 5.82981463e-01,\n",
       "         5.58140438e-01, 7.90553165e-01, 5.34252856e-01, 5.86187727e-01,\n",
       "         3.97713391e-01, 2.61361573e-01, 6.55722241e-02, 7.52665262e-01,\n",
       "         5.17493673e-01, 8.74913977e-01, 8.56882637e-01, 3.90816573e-01,\n",
       "         1.35472108e-01, 2.23747616e-01, 6.02977409e-01, 9.81558543e-02,\n",
       "         3.29328595e-01, 6.66150012e-01, 6.60348759e-01, 9.63217415e-02,\n",
       "         3.53457616e-01, 1.00152170e-01, 6.70423385e-01, 3.74857593e-01,\n",
       "         8.80339750e-01, 5.19999685e-01, 5.44061806e-02, 2.40690012e-01,\n",
       "         1.15993621e-01, 6.80821423e-01, 1.28119977e-03, 7.92835547e-01,\n",
       "         7.02231888e-01, 6.23484137e-01, 9.03960914e-01, 6.27045336e-01,\n",
       "         8.39661188e-01, 3.38263031e-02, 7.78649052e-01, 9.78892745e-01,\n",
       "         5.63624593e-01, 7.22096148e-01, 5.32813605e-01, 7.90055132e-01,\n",
       "         9.20824026e-01, 2.95567621e-01, 6.55201332e-01, 2.36305152e-01,\n",
       "         5.23061320e-01, 2.05718010e-01, 1.21932146e-01, 8.73775215e-01,\n",
       "         1.00363520e-01, 4.60493946e-01, 3.92331033e-01, 1.97881747e-01,\n",
       "         1.40249043e-01, 5.90486828e-01, 4.97176712e-01, 5.89548305e-01,\n",
       "         3.66871073e-01, 5.84866073e-01, 7.27096878e-01, 9.25374932e-01,\n",
       "         6.97825351e-01, 1.61903606e-01, 5.97123879e-01, 6.40255611e-01,\n",
       "         9.29725820e-01, 9.67961094e-01, 7.42471682e-01, 2.45661210e-01,\n",
       "         3.18877283e-01, 9.94058604e-01, 6.64206477e-01, 3.54880294e-02,\n",
       "         9.70300490e-01, 3.44622736e-01, 8.41476514e-04, 1.79762091e-01,\n",
       "         5.84776063e-03, 1.01063830e-01, 5.47547004e-02, 3.26065707e-01,\n",
       "         5.37847900e-01, 1.72030964e-01, 8.71095441e-01, 2.48461071e-01,\n",
       "         3.20758100e-01, 6.27477900e-01, 9.82046155e-01, 9.97058046e-01,\n",
       "         9.58561631e-01, 5.62150127e-01, 9.43773603e-01, 6.82606177e-01,\n",
       "         9.91546831e-01, 4.52771221e-01, 1.47165985e-01, 5.38990179e-01,\n",
       "         2.87538295e-01, 8.78406119e-01, 3.26971395e-01, 9.67622826e-01,\n",
       "         4.97740406e-02, 4.99061395e-01, 8.37013490e-01, 4.63660287e-01,\n",
       "         2.29674167e-01, 5.01593878e-01, 6.60453472e-01, 2.64262584e-01,\n",
       "         3.36789251e-01, 8.22855729e-01, 9.91594214e-01, 6.69031652e-01,\n",
       "         8.38380759e-01, 7.06933595e-01, 6.68843068e-01, 5.35663752e-01,\n",
       "         9.51105945e-01, 8.07541425e-01, 2.17412504e-01, 1.43314946e-01,\n",
       "         4.35046796e-01, 9.17962399e-01, 5.51182057e-01, 6.74424653e-01,\n",
       "         8.49660265e-01, 6.03040125e-01, 1.11896922e-03, 9.13825652e-01,\n",
       "         8.83165813e-01, 2.48426104e-01, 9.54009298e-01, 7.72390073e-01,\n",
       "         3.24018671e-01, 9.51543738e-01, 8.85400193e-01, 9.58722291e-01,\n",
       "         9.26390900e-01, 6.10947263e-01, 8.05556963e-01, 2.17250081e-01,\n",
       "         2.79086810e-01, 6.72809285e-01, 2.15312088e-01, 3.17605199e-01,\n",
       "         4.39044377e-03, 1.86914915e-01, 5.28333721e-01, 6.58500710e-01,\n",
       "         3.59043987e-01, 1.59546161e-01, 6.89480491e-01, 3.48850146e-01,\n",
       "         7.26763368e-01, 3.27354799e-01, 3.91512132e-01, 6.84053383e-02,\n",
       "         5.19843063e-02, 2.07428958e-01, 5.55235047e-02, 3.76626901e-01,\n",
       "         7.39840322e-01, 2.55167141e-01, 9.36879890e-01, 1.50290703e-01,\n",
       "         4.65839370e-01, 2.13397543e-01, 6.10857045e-02, 7.25214224e-01,\n",
       "         3.00259592e-01, 9.06679331e-01, 9.85032280e-01, 1.46141020e-02,\n",
       "         5.35491376e-01, 6.57958219e-01, 2.96425195e-01, 9.46248371e-01,\n",
       "         9.83501679e-01, 2.69769361e-01, 1.32901825e-01, 1.59426824e-02,\n",
       "         3.84343679e-02, 6.94842608e-01, 3.77468070e-01, 7.53620603e-01,\n",
       "         1.61109283e-01, 9.87220746e-01, 5.15142617e-01, 5.83013437e-01,\n",
       "         2.26583144e-01, 3.59762195e-02, 5.33596457e-01, 8.13794668e-01,\n",
       "         2.11381219e-01, 8.08081537e-01, 9.49715650e-01, 1.16920380e-04,\n",
       "         4.96745138e-01, 8.29188456e-01, 3.15450969e-01, 6.66342570e-01,\n",
       "         6.01219193e-01, 8.24670483e-01, 7.58608094e-01, 2.91999685e-01,\n",
       "         8.96587262e-01, 6.09785700e-01, 7.29851460e-01, 1.77302010e-01,\n",
       "         4.78861081e-01, 8.17535982e-01, 8.38181357e-01, 7.19750237e-01,\n",
       "         7.99273681e-01, 3.90600468e-01, 8.50733738e-01, 6.61533432e-01,\n",
       "         9.60376158e-01, 9.24785984e-02, 5.29036338e-01, 6.84811178e-01,\n",
       "         8.09998275e-02, 6.68085939e-01, 7.76062231e-01, 8.73009292e-01,\n",
       "         2.04016385e-01, 5.53343713e-02, 4.91811999e-01, 8.68175947e-01,\n",
       "         4.72857056e-01, 9.59259666e-01, 4.41163948e-01, 6.96256386e-01,\n",
       "         4.34892330e-02, 3.06666889e-01, 2.16898557e-01, 7.42542110e-01,\n",
       "         9.06455798e-01, 6.67708374e-02, 7.92901741e-02, 6.72516420e-01,\n",
       "         2.67050091e-01, 4.31971306e-01, 4.50821316e-01, 4.04067268e-03,\n",
       "         9.32693849e-01, 7.93409423e-02, 2.42601520e-01, 2.60968264e-01,\n",
       "         2.73917743e-01, 9.10515379e-01, 8.55742867e-01, 5.40284523e-01,\n",
       "         3.26395348e-02, 9.11099241e-01, 4.56082513e-01, 9.39759259e-01,\n",
       "         6.32622870e-01, 7.01247087e-01, 7.41692025e-01, 1.45761386e-01,\n",
       "         4.40529589e-01, 3.92359990e-01, 1.49985995e-01, 2.97588936e-01,\n",
       "         6.81733975e-01, 8.71505761e-01, 6.13598175e-01, 9.50891282e-01,\n",
       "         7.68046636e-01, 9.81884852e-02, 3.52367627e-01, 5.85009136e-01,\n",
       "         6.00927378e-01]))]"
      ]
     },
     "execution_count": 20,
     "metadata": {},
     "output_type": "execute_result"
    }
   ],
   "source": [
    "expand_setpoints_helper(a.spectrum)"
   ]
  },
  {
   "cell_type": "code",
   "execution_count": 21,
   "metadata": {},
   "outputs": [
    {
     "name": "stdout",
     "output_type": "stream",
     "text": [
      "Starting experimental run with id: 2. \n"
     ]
    }
   ],
   "source": [
    "meas = Measurement()\n",
    "meas.register_parameter(a.spectrum)\n",
    "\n",
    "with meas.run() as datasaver:\n",
    "    datasaver.add_result(*expand_setpoints_helper(a.spectrum))\n",
    "    \n",
    "    dataid = datasaver.run_id"
   ]
  },
  {
   "cell_type": "code",
   "execution_count": null,
   "metadata": {},
   "outputs": [],
   "source": []
  }
 ],
 "metadata": {
  "kernelspec": {
   "display_name": "Python 3",
   "language": "python",
   "name": "python3"
  },
  "language_info": {
   "codemirror_mode": {
    "name": "ipython",
    "version": 3
   },
   "file_extension": ".py",
   "mimetype": "text/x-python",
   "name": "python",
   "nbconvert_exporter": "python",
   "pygments_lexer": "ipython3",
   "version": "3.7.5"
  },
  "toc": {
   "base_numbering": 1,
   "nav_menu": {},
   "number_sections": true,
   "sideBar": true,
   "skip_h1_title": false,
   "title_cell": "Table of Contents",
   "title_sidebar": "Contents",
   "toc_cell": false,
   "toc_position": {},
   "toc_section_display": true,
   "toc_window_display": false
  },
  "varInspector": {
   "cols": {
    "lenName": 16,
    "lenType": 16,
    "lenVar": 40
   },
   "kernels_config": {
    "python": {
     "delete_cmd_postfix": "",
     "delete_cmd_prefix": "del ",
     "library": "var_list.py",
     "varRefreshCmd": "print(var_dic_list())"
    },
    "r": {
     "delete_cmd_postfix": ") ",
     "delete_cmd_prefix": "rm(",
     "library": "var_list.r",
     "varRefreshCmd": "cat(var_dic_list()) "
    }
   },
   "types_to_exclude": [
    "module",
    "function",
    "builtin_function_or_method",
    "instance",
    "_Feature"
   ],
   "window_display": false
  }
 },
 "nbformat": 4,
 "nbformat_minor": 2
}
