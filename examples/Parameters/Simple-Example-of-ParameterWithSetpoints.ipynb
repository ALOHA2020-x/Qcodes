{
 "cells": [
  {
   "cell_type": "markdown",
   "metadata": {},
   "source": [
    "# Simple Example of ParameterWithSetpoints\n",
    "This notebook provides an example for writing a simple driver with a parameter that has setpoints. Let's name this parameter that has setpoints as \"y\". Then, the setpoints, say \"x1, x2, x3 ..\", are the parameters on which the parameter \n",
    "\"y\" depends upon. Meaning \"y\" is a function of \"x1, x2, x3 ...\" where \"x1, x2, x3 ...\" are known as the setpoints of parameter \"y\".\n",
    "\n",
    "This is most likely to be useful for instruments that return arrays of results. In this notebook, we will show an example of this."
   ]
  },
  {
   "cell_type": "code",
   "execution_count": 1,
   "metadata": {},
   "outputs": [],
   "source": [
    "import numpy as np\n",
    "import os"
   ]
  },
  {
   "cell_type": "code",
   "execution_count": 2,
   "metadata": {},
   "outputs": [
    {
     "name": "stdout",
     "output_type": "stream",
     "text": [
      "Logging hadn't been started.\n",
      "Activating auto-logging. Current session state plus future input saved.\n",
      "Filename       : /home/vsts/.qcodes/logs/command_history.log\n",
      "Mode           : append\n",
      "Output logging : True\n",
      "Raw input log  : False\n",
      "Timestamping   : True\n",
      "State          : active\n"
     ]
    },
    {
     "name": "stdout",
     "output_type": "stream",
     "text": [
      "Qcodes Logfile : /home/vsts/.qcodes/logs/200704-22715-qcodes.log\n"
     ]
    }
   ],
   "source": [
    "from qcodes.dataset.plotting import plot_dataset\n",
    "from qcodes.utils.validators import Numbers, Arrays\n",
    "from qcodes.instrument.base import Instrument\n",
    "from qcodes.dataset.measurements import Measurement"
   ]
  },
  {
   "cell_type": "code",
   "execution_count": 3,
   "metadata": {},
   "outputs": [],
   "source": [
    "from qcodes.dataset.sqlite.database import initialise_or_create_database_at\n",
    "from qcodes.dataset.experiment_container import load_or_create_experiment"
   ]
  },
  {
   "cell_type": "code",
   "execution_count": 4,
   "metadata": {},
   "outputs": [],
   "source": [
    "from qcodes.instrument.parameter import ParameterWithSetpoints, Parameter\n",
    "from qcodes.instrument.parameter import expand_setpoints_helper"
   ]
  },
  {
   "cell_type": "markdown",
   "metadata": {},
   "source": [
    "First, we define a dummy instrument that returns something like a frequency spectrum starting from a frequency given by `f_start` to a frequency given by `f_stop` in `n_points` steps. \n",
    "\n",
    "The extra functionality of the `ParameterWithSetpoints` is implemented by giving it a reference to one or more parameters that acts like its setpoints. \n",
    "\n",
    "To setup a `ParameterWithSetpoints` we have to do two things in addition to what we do for a normal parameter.\n",
    "\n",
    "* Define one or more parameter for the setpoints (one for each dimension of the array and let the `ParameterWithSetpoints` know that these are the setpoints.\n",
    "* Give both the setpoints parameter(s) and the `ParameterWithSetpoints` a `validator` of type `Arrays` with a shape. The shapes should be such that the combined shape of the setpoints matches the shape of the `ParameterWithSetpoints`. Note that if the shape changes with the setting of the instrument, it can be defined by another parameter as shown below. "
   ]
  },
  {
   "cell_type": "code",
   "execution_count": 5,
   "metadata": {},
   "outputs": [],
   "source": [
    "class GeneratedSetPoints(Parameter):\n",
    "    \"\"\"\n",
    "    A parameter that generates a setpoint array from start, stop and num points\n",
    "    parameters.\n",
    "    \"\"\"\n",
    "    def __init__(self, startparam, stopparam, numpointsparam, *args, **kwargs):\n",
    "        super().__init__(*args, **kwargs)\n",
    "        self._startparam = startparam\n",
    "        self._stopparam = stopparam\n",
    "        self._numpointsparam = numpointsparam\n",
    "\n",
    "    def get_raw(self):\n",
    "        return np.linspace(self._startparam(), self._stopparam(),\n",
    "                              self._numpointsparam())\n",
    "\n",
    "class DummyArray(ParameterWithSetpoints):\n",
    "    \n",
    "    def get_raw(self):\n",
    "        npoints = self.root_instrument.n_points.get_latest()\n",
    "        return np.random.rand(npoints)\n",
    "    \n",
    "\n",
    "class DummySpectrumAnalyzer(Instrument):\n",
    "    \n",
    "    def __init__(self, name, **kwargs):\n",
    "        \n",
    "        super().__init__(name, **kwargs)\n",
    "            \n",
    "\n",
    "        self.add_parameter('f_start',\n",
    "                           initial_value=0,\n",
    "                           unit='Hz',\n",
    "                           label='f start',\n",
    "                           vals=Numbers(0,1e3),\n",
    "                           get_cmd=None,\n",
    "                           set_cmd=None)\n",
    "\n",
    "        self.add_parameter('f_stop',\n",
    "                           unit='Hz',\n",
    "                           label='f stop',\n",
    "                           vals=Numbers(1,1e3),\n",
    "                           get_cmd=None,\n",
    "                           set_cmd=None)\n",
    "\n",
    "        self.add_parameter('n_points',\n",
    "                           unit='',\n",
    "                           initial_value=10,\n",
    "                           vals=Numbers(1,1e3),\n",
    "                           get_cmd=None,\n",
    "                           set_cmd=None)\n",
    "        \n",
    "        self.add_parameter('freq_axis',\n",
    "                           unit='Hz',\n",
    "                           label='Freq Axis',\n",
    "                           parameter_class=GeneratedSetPoints,\n",
    "                           startparam=self.f_start,\n",
    "                           stopparam=self.f_stop,\n",
    "                           numpointsparam=self.n_points,\n",
    "                           vals=Arrays(shape=(self.n_points.get_latest,)))\n",
    "                           \n",
    "        self.add_parameter('spectrum',\n",
    "                   unit='dBm',\n",
    "                   setpoints=(self.freq_axis,),\n",
    "                   label='Spectrum',\n",
    "                   parameter_class=DummyArray,\n",
    "                   vals=Arrays(shape=(self.n_points.get_latest,)))\n",
    "                "
   ]
  },
  {
   "cell_type": "markdown",
   "metadata": {},
   "source": [
    "In the above example, the shape is defined by the parameter `n_points` that defines how many samples our `DummySpectrumAnalyzer` returns.\n",
    "\n",
    "This means that the validation will call the function to get `n_points` twice for each `get` of the parameter. This may be too slow, however, if you (as the driver-writer) can guarantee that the cached value for `n_points` will never be out of sync with the value stored in the instrument, `n_points` may be replaced by it's latest known value such that the `validator` reads:\n",
    "```python\n",
    "vals=Arrays(shape=(self.n_points.get_latest))\n",
    "```\n",
    "\n",
    "This avoids any additional call to the instrument. In the same way, the arguments to the `freq_axis` parameter that defines the start, stop and number of points can be replaced by their latest value if the instrument allows it.\n",
    "\n"
   ]
  },
  {
   "cell_type": "code",
   "execution_count": 6,
   "metadata": {},
   "outputs": [
    {
     "name": "stdout",
     "output_type": "stream",
     "text": [
      "\r",
      "0it [00:00, ?it/s]"
     ]
    },
    {
     "name": "stdout",
     "output_type": "stream",
     "text": [
      "\r",
      "Upgrading database; v0 -> v1: : 0it [00:00, ?it/s]"
     ]
    },
    {
     "name": "stdout",
     "output_type": "stream",
     "text": [
      "\r",
      "Upgrading database; v0 -> v1: : 0it [00:00, ?it/s]"
     ]
    },
    {
     "name": "stdout",
     "output_type": "stream",
     "text": [
      "\n",
      "\r",
      "  0%|          | 0/1 [00:00<?, ?it/s]"
     ]
    },
    {
     "name": "stdout",
     "output_type": "stream",
     "text": [
      "\r",
      "Upgrading database; v1 -> v2:   0%|          | 0/1 [00:00<?, ?it/s]"
     ]
    },
    {
     "name": "stdout",
     "output_type": "stream",
     "text": [
      "\r",
      "Upgrading database; v1 -> v2: 100%|██████████| 1/1 [00:00<00:00, 1076.84it/s]"
     ]
    },
    {
     "name": "stdout",
     "output_type": "stream",
     "text": [
      "\n",
      "\r",
      "0it [00:00, ?it/s]"
     ]
    },
    {
     "name": "stdout",
     "output_type": "stream",
     "text": [
      "\r",
      "Upgrading database; v2 -> v3: : 0it [00:00, ?it/s]"
     ]
    },
    {
     "name": "stdout",
     "output_type": "stream",
     "text": [
      "\r",
      "Upgrading database; v2 -> v3: : 0it [00:00, ?it/s]"
     ]
    },
    {
     "name": "stdout",
     "output_type": "stream",
     "text": [
      "\n",
      "\r",
      "0it [00:00, ?it/s]"
     ]
    },
    {
     "name": "stdout",
     "output_type": "stream",
     "text": [
      "\r",
      "Upgrading database; v3 -> v4: : 0it [00:00, ?it/s]"
     ]
    },
    {
     "name": "stdout",
     "output_type": "stream",
     "text": [
      "\r",
      "Upgrading database; v3 -> v4: : 0it [00:00, ?it/s]"
     ]
    },
    {
     "name": "stdout",
     "output_type": "stream",
     "text": [
      "\n",
      "\r",
      "  0%|          | 0/1 [00:00<?, ?it/s]"
     ]
    },
    {
     "name": "stdout",
     "output_type": "stream",
     "text": [
      "\r",
      "Upgrading database; v4 -> v5:   0%|          | 0/1 [00:00<?, ?it/s]"
     ]
    },
    {
     "name": "stdout",
     "output_type": "stream",
     "text": [
      "\r",
      "Upgrading database; v4 -> v5: 100%|██████████| 1/1 [00:00<00:00, 975.19it/s]"
     ]
    },
    {
     "name": "stdout",
     "output_type": "stream",
     "text": [
      "\n",
      "\r",
      "0it [00:00, ?it/s]"
     ]
    },
    {
     "name": "stdout",
     "output_type": "stream",
     "text": [
      "\r",
      "Upgrading database; v5 -> v6: : 0it [00:00, ?it/s]"
     ]
    },
    {
     "name": "stdout",
     "output_type": "stream",
     "text": [
      "\r",
      "Upgrading database; v5 -> v6: : 0it [00:00, ?it/s]"
     ]
    },
    {
     "name": "stdout",
     "output_type": "stream",
     "text": [
      "\n",
      "\r",
      "  0%|          | 0/1 [00:00<?, ?it/s]"
     ]
    },
    {
     "name": "stdout",
     "output_type": "stream",
     "text": [
      "\r",
      "Upgrading database; v6 -> v7:   0%|          | 0/1 [00:00<?, ?it/s]"
     ]
    },
    {
     "name": "stdout",
     "output_type": "stream",
     "text": [
      "\r",
      "Upgrading database; v6 -> v7: 100%|██████████| 1/1 [00:00<00:00, 496.72it/s]"
     ]
    },
    {
     "name": "stdout",
     "output_type": "stream",
     "text": [
      "\n",
      "\r",
      "  0%|          | 0/1 [00:00<?, ?it/s]"
     ]
    },
    {
     "name": "stdout",
     "output_type": "stream",
     "text": [
      "\r",
      "Upgrading database; v7 -> v8:   0%|          | 0/1 [00:00<?, ?it/s]"
     ]
    },
    {
     "name": "stdout",
     "output_type": "stream",
     "text": [
      "\r",
      "Upgrading database; v7 -> v8: 100%|██████████| 1/1 [00:00<00:00, 917.19it/s]"
     ]
    },
    {
     "name": "stdout",
     "output_type": "stream",
     "text": [
      "\n",
      "\r",
      "  0%|          | 0/1 [00:00<?, ?it/s]"
     ]
    },
    {
     "name": "stdout",
     "output_type": "stream",
     "text": [
      "\r",
      "Upgrading database; v8 -> v9:   0%|          | 0/1 [00:00<?, ?it/s]"
     ]
    },
    {
     "name": "stdout",
     "output_type": "stream",
     "text": [
      "\r",
      "Upgrading database; v8 -> v9: 100%|██████████| 1/1 [00:00<00:00, 991.33it/s]"
     ]
    },
    {
     "name": "stdout",
     "output_type": "stream",
     "text": [
      "\n"
     ]
    },
    {
     "data": {
      "text/plain": [
       "tutorial_ParameterWithSetpoints#no sample#1@/home/vsts/work/1/s/docs/examples/Parameters/tutorial_paramter_with_setpoints.db\n",
       "----------------------------------------------------------------------------------------------------------------------------"
      ]
     },
     "execution_count": 6,
     "metadata": {},
     "output_type": "execute_result"
    }
   ],
   "source": [
    "tutorial_db_path = os.path.join(os.getcwd(), 'tutorial_paramter_with_setpoints.db')\n",
    "initialise_or_create_database_at(tutorial_db_path)\n",
    "load_or_create_experiment(experiment_name='tutorial_ParameterWithSetpoints', sample_name=\"no sample\")"
   ]
  },
  {
   "cell_type": "code",
   "execution_count": 7,
   "metadata": {},
   "outputs": [],
   "source": [
    "a = DummySpectrumAnalyzer('foobar')"
   ]
  },
  {
   "cell_type": "markdown",
   "metadata": {},
   "source": [
    "First we setup the limits of the spectrum"
   ]
  },
  {
   "cell_type": "code",
   "execution_count": 8,
   "metadata": {},
   "outputs": [],
   "source": [
    "a.f_start(0)\n",
    "a.f_stop(500)\n",
    "a.n_points(501)"
   ]
  },
  {
   "cell_type": "markdown",
   "metadata": {},
   "source": [
    "And we can grab the frequency axis"
   ]
  },
  {
   "cell_type": "code",
   "execution_count": 9,
   "metadata": {},
   "outputs": [
    {
     "data": {
      "text/plain": [
       "501"
      ]
     },
     "execution_count": 9,
     "metadata": {},
     "output_type": "execute_result"
    }
   ],
   "source": [
    "a.n_points()"
   ]
  },
  {
   "cell_type": "code",
   "execution_count": 10,
   "metadata": {
    "scrolled": false
   },
   "outputs": [
    {
     "data": {
      "text/plain": [
       "501"
      ]
     },
     "execution_count": 10,
     "metadata": {},
     "output_type": "execute_result"
    }
   ],
   "source": [
    "freq_axis = a.freq_axis()\n",
    "len(freq_axis)"
   ]
  },
  {
   "cell_type": "code",
   "execution_count": 11,
   "metadata": {},
   "outputs": [
    {
     "data": {
      "text/plain": [
       "array([0., 1., 2., 3., 4., 5., 6., 7., 8., 9.])"
      ]
     },
     "execution_count": 11,
     "metadata": {},
     "output_type": "execute_result"
    }
   ],
   "source": [
    "freq_axis[:10]"
   ]
  },
  {
   "cell_type": "markdown",
   "metadata": {},
   "source": [
    "As expected we get a result wit 501 points as we asked for an axis with 501 points. "
   ]
  },
  {
   "cell_type": "markdown",
   "metadata": {},
   "source": [
    "Above we have added a validator to the `freq_axis` parameter encoding the fact that this is an Array with `n_points`. Note that we do not have to supply the number of points as an integer but can supply a function that returns the valid number of points. This would normally be a QCoDeS parameter.\n",
    "\n",
    "This will be checked if we validate the output."
   ]
  },
  {
   "cell_type": "code",
   "execution_count": 12,
   "metadata": {},
   "outputs": [],
   "source": [
    "a.freq_axis.validate(a.freq_axis.get())"
   ]
  },
  {
   "cell_type": "markdown",
   "metadata": {},
   "source": [
    "Naturally, we can also get the spectrum. Getting the spectrum will automatically perform validation both for the shape of the parameter itself and the relation to the setpoint parameter(s)"
   ]
  },
  {
   "cell_type": "code",
   "execution_count": 13,
   "metadata": {
    "scrolled": true
   },
   "outputs": [
    {
     "data": {
      "text/plain": [
       "501"
      ]
     },
     "execution_count": 13,
     "metadata": {},
     "output_type": "execute_result"
    }
   ],
   "source": [
    "spectrum = a.spectrum.get()\n",
    "len(spectrum)"
   ]
  },
  {
   "cell_type": "markdown",
   "metadata": {},
   "source": [
    "When we validate a `ParameterWithSetpoints`, we automatically validate that the shape is consistent between the parameters and its setpoints. As well as validating the shape as above."
   ]
  },
  {
   "cell_type": "code",
   "execution_count": 14,
   "metadata": {},
   "outputs": [],
   "source": [
    "a.spectrum.validate(a.spectrum.get())"
   ]
  },
  {
   "cell_type": "markdown",
   "metadata": {},
   "source": [
    "The consistent shapes can be validated explicitly."
   ]
  },
  {
   "cell_type": "code",
   "execution_count": 15,
   "metadata": {},
   "outputs": [],
   "source": [
    "a.spectrum.validate_consistent_shape()"
   ]
  },
  {
   "cell_type": "markdown",
   "metadata": {},
   "source": [
    "We can inspect the setpoints of the spectrum."
   ]
  },
  {
   "cell_type": "code",
   "execution_count": 16,
   "metadata": {},
   "outputs": [
    {
     "data": {
      "text/plain": [
       "(<__main__.GeneratedSetPoints: freq_axis at 140468690804048>,)"
      ]
     },
     "execution_count": 16,
     "metadata": {},
     "output_type": "execute_result"
    }
   ],
   "source": [
    "a.spectrum.setpoints"
   ]
  },
  {
   "cell_type": "markdown",
   "metadata": {},
   "source": [
    "Or even change them."
   ]
  },
  {
   "cell_type": "code",
   "execution_count": 17,
   "metadata": {},
   "outputs": [],
   "source": [
    "a.spectrum.setpoints = (a.freq_axis,)"
   ]
  },
  {
   "cell_type": "markdown",
   "metadata": {},
   "source": [
    "## Measurement"
   ]
  },
  {
   "cell_type": "markdown",
   "metadata": {},
   "source": [
    "We can also directly consume the parameter in a measurement without defining the setpoints of the parameter again. The setpoints are automatically obtained from the definition of the `ParameterWithSetpoint` instance. "
   ]
  },
  {
   "cell_type": "code",
   "execution_count": 18,
   "metadata": {},
   "outputs": [
    {
     "name": "stdout",
     "output_type": "stream",
     "text": [
      "Starting experimental run with id: 1. \n"
     ]
    }
   ],
   "source": [
    "meas = Measurement()\n",
    "meas.register_parameter(a.spectrum)\n",
    "\n",
    "with meas.run() as datasaver:\n",
    "    datasaver.add_result((a.freq_axis, a.freq_axis()),\n",
    "                         (a.spectrum, a.spectrum()))\n",
    "    dataset = datasaver.dataset"
   ]
  },
  {
   "cell_type": "markdown",
   "metadata": {},
   "source": [
    "And plot it"
   ]
  },
  {
   "cell_type": "code",
   "execution_count": 19,
   "metadata": {},
   "outputs": [
    {
     "data": {
      "text/plain": [
       "([<matplotlib.axes._subplots.AxesSubplot at 0x7fc16b554850>], [None])"
      ]
     },
     "execution_count": 19,
     "metadata": {},
     "output_type": "execute_result"
    },
    {
     "data": {
      "image/png": "[encoded data removed]",
      "text/plain": [
       "<Figure size 432x288 with 1 Axes>"
      ]
     },
     "metadata": {
      "needs_background": "light"
     },
     "output_type": "display_data"
    }
   ],
   "source": [
    "plot_dataset(dataset)"
   ]
  },
  {
   "cell_type": "markdown",
   "metadata": {},
   "source": [
    "To reduce the amount of typing a simple convenience function is provided that will take a `ParameterWithSetpoints` and get both its values and the setpoints values and return them as tuples for direct insertion into the Dataset."
   ]
  },
  {
   "cell_type": "code",
   "execution_count": 20,
   "metadata": {
    "scrolled": true
   },
   "outputs": [
    {
     "data": {
      "text/plain": [
       "[(<__main__.GeneratedSetPoints: freq_axis at 140468690804048>,\n",
       "  array([  0.,   1.,   2.,   3.,   4.,   5.,   6.,   7.,   8.,   9.,  10.,\n",
       "          11.,  12.,  13.,  14.,  15.,  16.,  17.,  18.,  19.,  20.,  21.,\n",
       "          22.,  23.,  24.,  25.,  26.,  27.,  28.,  29.,  30.,  31.,  32.,\n",
       "          33.,  34.,  35.,  36.,  37.,  38.,  39.,  40.,  41.,  42.,  43.,\n",
       "          44.,  45.,  46.,  47.,  48.,  49.,  50.,  51.,  52.,  53.,  54.,\n",
       "          55.,  56.,  57.,  58.,  59.,  60.,  61.,  62.,  63.,  64.,  65.,\n",
       "          66.,  67.,  68.,  69.,  70.,  71.,  72.,  73.,  74.,  75.,  76.,\n",
       "          77.,  78.,  79.,  80.,  81.,  82.,  83.,  84.,  85.,  86.,  87.,\n",
       "          88.,  89.,  90.,  91.,  92.,  93.,  94.,  95.,  96.,  97.,  98.,\n",
       "          99., 100., 101., 102., 103., 104., 105., 106., 107., 108., 109.,\n",
       "         110., 111., 112., 113., 114., 115., 116., 117., 118., 119., 120.,\n",
       "         121., 122., 123., 124., 125., 126., 127., 128., 129., 130., 131.,\n",
       "         132., 133., 134., 135., 136., 137., 138., 139., 140., 141., 142.,\n",
       "         143., 144., 145., 146., 147., 148., 149., 150., 151., 152., 153.,\n",
       "         154., 155., 156., 157., 158., 159., 160., 161., 162., 163., 164.,\n",
       "         165., 166., 167., 168., 169., 170., 171., 172., 173., 174., 175.,\n",
       "         176., 177., 178., 179., 180., 181., 182., 183., 184., 185., 186.,\n",
       "         187., 188., 189., 190., 191., 192., 193., 194., 195., 196., 197.,\n",
       "         198., 199., 200., 201., 202., 203., 204., 205., 206., 207., 208.,\n",
       "         209., 210., 211., 212., 213., 214., 215., 216., 217., 218., 219.,\n",
       "         220., 221., 222., 223., 224., 225., 226., 227., 228., 229., 230.,\n",
       "         231., 232., 233., 234., 235., 236., 237., 238., 239., 240., 241.,\n",
       "         242., 243., 244., 245., 246., 247., 248., 249., 250., 251., 252.,\n",
       "         253., 254., 255., 256., 257., 258., 259., 260., 261., 262., 263.,\n",
       "         264., 265., 266., 267., 268., 269., 270., 271., 272., 273., 274.,\n",
       "         275., 276., 277., 278., 279., 280., 281., 282., 283., 284., 285.,\n",
       "         286., 287., 288., 289., 290., 291., 292., 293., 294., 295., 296.,\n",
       "         297., 298., 299., 300., 301., 302., 303., 304., 305., 306., 307.,\n",
       "         308., 309., 310., 311., 312., 313., 314., 315., 316., 317., 318.,\n",
       "         319., 320., 321., 322., 323., 324., 325., 326., 327., 328., 329.,\n",
       "         330., 331., 332., 333., 334., 335., 336., 337., 338., 339., 340.,\n",
       "         341., 342., 343., 344., 345., 346., 347., 348., 349., 350., 351.,\n",
       "         352., 353., 354., 355., 356., 357., 358., 359., 360., 361., 362.,\n",
       "         363., 364., 365., 366., 367., 368., 369., 370., 371., 372., 373.,\n",
       "         374., 375., 376., 377., 378., 379., 380., 381., 382., 383., 384.,\n",
       "         385., 386., 387., 388., 389., 390., 391., 392., 393., 394., 395.,\n",
       "         396., 397., 398., 399., 400., 401., 402., 403., 404., 405., 406.,\n",
       "         407., 408., 409., 410., 411., 412., 413., 414., 415., 416., 417.,\n",
       "         418., 419., 420., 421., 422., 423., 424., 425., 426., 427., 428.,\n",
       "         429., 430., 431., 432., 433., 434., 435., 436., 437., 438., 439.,\n",
       "         440., 441., 442., 443., 444., 445., 446., 447., 448., 449., 450.,\n",
       "         451., 452., 453., 454., 455., 456., 457., 458., 459., 460., 461.,\n",
       "         462., 463., 464., 465., 466., 467., 468., 469., 470., 471., 472.,\n",
       "         473., 474., 475., 476., 477., 478., 479., 480., 481., 482., 483.,\n",
       "         484., 485., 486., 487., 488., 489., 490., 491., 492., 493., 494.,\n",
       "         495., 496., 497., 498., 499., 500.])),\n",
       " (<__main__.DummyArray: spectrum at 140468690802768>,\n",
       "  array([3.28237508e-01, 9.75563957e-01, 1.63458274e-01, 6.82697083e-02,\n",
       "         1.86991620e-01, 8.04256166e-01, 4.91535906e-01, 6.19015804e-01,\n",
       "         2.64773076e-01, 2.61478499e-01, 8.75451690e-01, 9.90520161e-01,\n",
       "         9.23767318e-01, 8.56081073e-01, 3.90781711e-01, 4.51344747e-01,\n",
       "         1.73152664e-01, 5.24605242e-01, 1.77497149e-01, 1.30732392e-01,\n",
       "         8.47502634e-01, 2.48941198e-01, 6.09930817e-01, 9.45103077e-01,\n",
       "         1.09919522e-01, 8.36995575e-02, 3.64186560e-01, 9.95713041e-01,\n",
       "         2.84350955e-01, 2.26681320e-01, 6.14982441e-02, 6.80396747e-01,\n",
       "         4.97871503e-01, 5.68356689e-01, 1.99441531e-01, 2.64526201e-01,\n",
       "         9.61697268e-01, 5.26740212e-01, 3.03659787e-01, 6.45764168e-01,\n",
       "         4.57265879e-01, 2.80011124e-01, 6.15497618e-01, 6.22743934e-01,\n",
       "         4.60934492e-01, 3.80773874e-01, 5.05732717e-01, 8.04829460e-01,\n",
       "         8.13589422e-01, 5.08304464e-01, 1.95424990e-01, 1.45821961e-02,\n",
       "         2.63108607e-01, 7.56349478e-01, 4.49498168e-01, 9.30353262e-01,\n",
       "         8.78395417e-01, 5.58111968e-02, 4.49476736e-01, 7.80724236e-03,\n",
       "         9.27378626e-02, 4.25570463e-01, 5.20436273e-01, 8.26998948e-01,\n",
       "         9.20689587e-01, 3.29624252e-01, 8.49075465e-01, 6.80689100e-01,\n",
       "         1.88854220e-01, 2.73146363e-01, 2.36891433e-01, 7.46694780e-01,\n",
       "         4.12889951e-01, 2.38460576e-01, 7.10903657e-01, 9.40547790e-01,\n",
       "         5.67885969e-01, 8.32890965e-01, 6.55370885e-01, 8.91345850e-02,\n",
       "         4.26747072e-01, 1.73810615e-01, 9.96422585e-01, 3.62624786e-01,\n",
       "         5.44856786e-01, 9.35238257e-01, 7.19661748e-01, 4.45010387e-04,\n",
       "         3.98714632e-01, 9.39872322e-01, 1.79057234e-01, 1.10687013e-01,\n",
       "         4.73725301e-01, 1.32685050e-01, 9.57886657e-01, 7.00551947e-01,\n",
       "         7.16543760e-01, 4.94770410e-01, 1.74037387e-01, 6.06366573e-01,\n",
       "         8.75349774e-01, 5.29460692e-01, 8.05474954e-01, 7.52921898e-01,\n",
       "         3.50116921e-01, 8.93926480e-01, 6.80564339e-01, 1.22715063e-01,\n",
       "         6.22538081e-01, 7.13624635e-01, 6.15486771e-01, 6.27753793e-02,\n",
       "         5.90289347e-01, 1.09703518e-01, 9.43787860e-01, 2.05354873e-01,\n",
       "         8.15132142e-01, 5.97082894e-01, 9.04325461e-01, 4.53539815e-01,\n",
       "         1.13854004e-01, 6.83753502e-01, 4.46542122e-01, 9.60782989e-01,\n",
       "         4.18140632e-01, 8.34414190e-01, 3.43177350e-01, 7.03016346e-01,\n",
       "         2.73517015e-01, 8.60451480e-01, 3.81359113e-01, 6.11374076e-01,\n",
       "         1.57984069e-01, 2.04804424e-01, 4.22120768e-01, 6.32635575e-01,\n",
       "         2.70835348e-01, 3.38291121e-01, 6.16308109e-01, 2.91561560e-01,\n",
       "         5.08597836e-01, 1.89382860e-01, 7.86419487e-01, 9.35137292e-01,\n",
       "         7.40265730e-01, 7.45314603e-01, 6.58572412e-01, 1.84238801e-01,\n",
       "         2.83400312e-01, 8.48791268e-01, 6.05662929e-01, 5.23231014e-01,\n",
       "         7.43677558e-01, 2.17518162e-01, 5.95652156e-02, 7.33134942e-02,\n",
       "         4.17682135e-01, 4.76534755e-01, 7.83408195e-01, 9.99059176e-01,\n",
       "         8.91519523e-01, 7.99907061e-01, 1.17753759e-01, 7.33036997e-01,\n",
       "         2.46926143e-02, 6.44446336e-01, 8.01153995e-01, 6.61941628e-01,\n",
       "         7.83703218e-01, 6.44221006e-01, 4.34310757e-02, 2.69012773e-01,\n",
       "         4.04988473e-01, 1.54927034e-01, 5.20193453e-01, 9.51609931e-01,\n",
       "         4.73762465e-01, 5.98509438e-01, 8.92504557e-01, 3.38465834e-01,\n",
       "         2.38144788e-01, 9.16986991e-01, 4.12447955e-01, 1.03605847e-01,\n",
       "         7.08618722e-02, 4.45149183e-01, 9.51319824e-01, 4.80904646e-01,\n",
       "         1.02478105e-01, 2.10243557e-01, 7.09609884e-01, 1.47402577e-01,\n",
       "         2.02047234e-01, 7.06317874e-01, 1.31317631e-01, 7.24164369e-01,\n",
       "         9.23825053e-01, 5.64121049e-01, 2.91188242e-01, 2.84530883e-02,\n",
       "         2.99036589e-02, 7.78317457e-01, 5.94964350e-01, 1.71449696e-02,\n",
       "         2.65290635e-01, 2.99260470e-01, 2.34040419e-01, 2.45571831e-01,\n",
       "         7.65075954e-01, 6.91014976e-01, 8.19668972e-01, 9.68855382e-01,\n",
       "         9.23807426e-01, 2.93746699e-01, 4.18726028e-01, 3.69254685e-01,\n",
       "         7.27922893e-01, 4.86549023e-01, 9.71982902e-01, 5.48168554e-01,\n",
       "         4.76666224e-01, 8.10631394e-01, 8.17336062e-01, 8.93950257e-01,\n",
       "         1.33756336e-01, 7.46131935e-01, 4.65147065e-01, 9.39561682e-01,\n",
       "         3.14930741e-01, 6.61985348e-01, 1.39510139e-01, 3.63300233e-01,\n",
       "         2.11306027e-01, 2.22954872e-01, 7.13396870e-01, 8.95845746e-01,\n",
       "         7.26629484e-01, 9.68354193e-01, 6.14134735e-01, 3.84976071e-01,\n",
       "         4.43974995e-02, 1.19859355e-01, 1.58925083e-01, 9.76523148e-01,\n",
       "         1.92692394e-01, 2.78370669e-01, 4.56138784e-01, 4.81897257e-01,\n",
       "         9.65664189e-01, 8.05350454e-01, 9.33920463e-01, 5.88133829e-01,\n",
       "         6.86951424e-01, 6.45162991e-01, 6.07653726e-01, 8.58729923e-01,\n",
       "         8.39739247e-01, 1.56614734e-01, 2.95506162e-01, 6.37868341e-01,\n",
       "         7.90083892e-01, 4.18665339e-01, 4.32411411e-01, 5.73052204e-01,\n",
       "         6.24088710e-01, 6.10451735e-01, 8.38807405e-01, 5.06584596e-01,\n",
       "         1.13615017e-01, 2.31793375e-01, 3.44413675e-01, 8.33785007e-01,\n",
       "         3.34879205e-01, 1.17724665e-01, 5.55145602e-02, 8.37252477e-01,\n",
       "         4.51421940e-01, 6.67645295e-01, 3.45471511e-01, 9.13177135e-01,\n",
       "         6.48912213e-01, 9.17418099e-01, 4.91155942e-01, 7.50424118e-01,\n",
       "         6.27129369e-01, 7.01704948e-01, 9.01449862e-01, 5.90936436e-01,\n",
       "         9.89785586e-01, 6.83971651e-01, 3.72435843e-03, 8.95107824e-01,\n",
       "         4.57103337e-01, 9.30738778e-01, 5.07507090e-01, 7.16329851e-01,\n",
       "         7.67746772e-01, 2.88810318e-01, 8.88847571e-01, 2.50459989e-01,\n",
       "         9.93445016e-01, 5.13096597e-01, 6.28110689e-01, 1.02242499e-01,\n",
       "         9.82698393e-01, 7.25954962e-01, 7.08348327e-01, 3.21972082e-01,\n",
       "         8.59907105e-01, 2.65200284e-01, 3.59253179e-01, 1.89156414e-01,\n",
       "         1.28102868e-01, 1.43878466e-01, 8.76501263e-01, 4.66202149e-01,\n",
       "         5.13685740e-01, 4.17633568e-01, 9.86689530e-01, 3.61261770e-01,\n",
       "         5.78456598e-01, 3.55717143e-01, 4.33380700e-01, 4.43518524e-01,\n",
       "         1.82905528e-01, 5.09609581e-01, 1.85721009e-01, 8.09734745e-01,\n",
       "         6.25683987e-01, 8.76267107e-01, 8.50039149e-01, 1.35940849e-01,\n",
       "         7.02409663e-02, 7.01835966e-02, 1.12180941e-01, 4.81094189e-01,\n",
       "         1.63048695e-02, 6.33118370e-01, 4.01809978e-01, 3.82941053e-01,\n",
       "         7.38404140e-01, 5.62820549e-01, 9.80277173e-01, 7.02494770e-03,\n",
       "         8.50195905e-01, 7.98974035e-01, 9.76044359e-01, 7.13896183e-01,\n",
       "         2.27103890e-01, 8.71291261e-01, 6.81269712e-01, 9.28295474e-01,\n",
       "         2.09085890e-02, 5.86713049e-02, 5.01912993e-01, 5.79295261e-01,\n",
       "         1.92568015e-01, 9.62719173e-01, 4.74200809e-01, 3.72520498e-01,\n",
       "         2.10262279e-01, 2.30337646e-01, 6.89286268e-01, 4.54106463e-01,\n",
       "         6.45004966e-01, 5.89903253e-01, 3.27969824e-01, 3.72751922e-01,\n",
       "         6.17120151e-01, 3.16487803e-01, 8.02379424e-01, 5.97353593e-01,\n",
       "         2.66302223e-01, 5.76039365e-01, 5.13843742e-01, 1.45513934e-01,\n",
       "         2.67093172e-01, 6.23213569e-01, 3.87932261e-02, 2.82829444e-01,\n",
       "         9.87322079e-01, 6.44859264e-01, 4.56164373e-01, 4.80170183e-01,\n",
       "         9.35996839e-01, 6.10996788e-01, 7.60678430e-01, 3.00702127e-01,\n",
       "         4.84557603e-01, 6.52439967e-01, 4.87828951e-01, 9.94994651e-01,\n",
       "         7.50904092e-01, 4.85325143e-01, 9.46649815e-01, 4.96300428e-01,\n",
       "         4.67835087e-01, 3.07270391e-01, 3.45865676e-01, 4.95899142e-01,\n",
       "         2.49929639e-01, 4.20321789e-01, 2.70167630e-01, 6.84521351e-01,\n",
       "         3.18999129e-01, 8.75307397e-02, 3.59349806e-01, 7.91727726e-01,\n",
       "         2.12381000e-01, 1.14709935e-01, 1.20040505e-01, 9.65562179e-01,\n",
       "         3.06423731e-02, 7.27347296e-01, 5.05035919e-01, 6.58617990e-01,\n",
       "         3.39382321e-01, 6.71323063e-01, 6.35452206e-01, 7.21468959e-01,\n",
       "         7.28392382e-01, 3.61632524e-01, 6.12359022e-01, 6.39016185e-01,\n",
       "         9.61011990e-02, 2.19397724e-01, 9.26097384e-01, 1.39851239e-01,\n",
       "         1.82938953e-01, 8.31169884e-01, 6.60949353e-01, 9.10100967e-01,\n",
       "         7.51987399e-01, 4.85025062e-01, 2.46190470e-01, 3.26618030e-01,\n",
       "         1.15449376e-01, 7.03148769e-01, 5.13134965e-01, 3.07890044e-01,\n",
       "         1.33687246e-01, 3.85924749e-01, 3.92227066e-01, 8.72116477e-01,\n",
       "         1.74580982e-01, 9.71622229e-01, 6.09718589e-01, 6.85455521e-02,\n",
       "         3.52845719e-01, 4.52950149e-01, 1.93725975e-01, 9.01486105e-01,\n",
       "         6.63778638e-02, 5.92727642e-01, 2.45634811e-01, 7.24524096e-01,\n",
       "         4.18523080e-02, 6.09304732e-01, 3.15553007e-01, 3.04000484e-01,\n",
       "         2.45886891e-01, 2.10840642e-01, 8.30892578e-01, 6.59267552e-02,\n",
       "         4.59988925e-01, 7.27894731e-01, 6.05153043e-01, 5.20543280e-01,\n",
       "         4.57013050e-01, 6.07288792e-01, 1.62431046e-01, 6.41658743e-01,\n",
       "         1.32352590e-01, 1.82948584e-01, 3.24207411e-01, 6.40230828e-01,\n",
       "         7.63560900e-01, 9.70946705e-01, 4.44393589e-01, 1.33899524e-01,\n",
       "         3.43963611e-01, 4.72728675e-01, 9.35368561e-01, 1.37247373e-03,\n",
       "         4.90070103e-01, 6.91138506e-02, 5.58095512e-01, 5.58016591e-02,\n",
       "         6.04880696e-01, 8.42633210e-01, 6.23394482e-01, 6.48943522e-01,\n",
       "         7.58024340e-02, 8.72414073e-02, 9.30999979e-01, 2.20969315e-01,\n",
       "         5.36505125e-01, 3.79357970e-01, 3.62274054e-01, 6.61775509e-01,\n",
       "         3.85085204e-01]))]"
      ]
     },
     "execution_count": 20,
     "metadata": {},
     "output_type": "execute_result"
    }
   ],
   "source": [
    "expand_setpoints_helper(a.spectrum)"
   ]
  },
  {
   "cell_type": "code",
   "execution_count": 21,
   "metadata": {},
   "outputs": [
    {
     "name": "stdout",
     "output_type": "stream",
     "text": [
      "Starting experimental run with id: 2. \n"
     ]
    }
   ],
   "source": [
    "meas = Measurement()\n",
    "meas.register_parameter(a.spectrum)\n",
    "\n",
    "with meas.run() as datasaver:\n",
    "    datasaver.add_result(*expand_setpoints_helper(a.spectrum))\n",
    "    \n",
    "    dataid = datasaver.run_id"
   ]
  },
  {
   "cell_type": "code",
   "execution_count": null,
   "metadata": {},
   "outputs": [],
   "source": []
  }
 ],
 "metadata": {
  "kernelspec": {
   "display_name": "Python 3",
   "language": "python",
   "name": "python3"
  },
  "language_info": {
   "codemirror_mode": {
    "name": "ipython",
    "version": 3
   },
   "file_extension": ".py",
   "mimetype": "text/x-python",
   "name": "python",
   "nbconvert_exporter": "python",
   "pygments_lexer": "ipython3",
   "version": "3.7.7"
  },
  "toc": {
   "base_numbering": 1,
   "nav_menu": {},
   "number_sections": true,
   "sideBar": true,
   "skip_h1_title": false,
   "title_cell": "Table of Contents",
   "title_sidebar": "Contents",
   "toc_cell": false,
   "toc_position": {},
   "toc_section_display": true,
   "toc_window_display": false
  },
  "varInspector": {
   "cols": {
    "lenName": 16,
    "lenType": 16,
    "lenVar": 40
   },
   "kernels_config": {
    "python": {
     "delete_cmd_postfix": "",
     "delete_cmd_prefix": "del ",
     "library": "var_list.py",
     "varRefreshCmd": "print(var_dic_list())"
    },
    "r": {
     "delete_cmd_postfix": ") ",
     "delete_cmd_prefix": "rm(",
     "library": "var_list.r",
     "varRefreshCmd": "cat(var_dic_list()) "
    }
   },
   "types_to_exclude": [
    "module",
    "function",
    "builtin_function_or_method",
    "instance",
    "_Feature"
   ],
   "window_display": false
  }
 },
 "nbformat": 4,
 "nbformat_minor": 2
}
