{
 "cells": [
  {
   "cell_type": "markdown",
   "metadata": {},
   "source": [
    "# Simple Example of ParameterWithSetpoints\n",
    "This notebook provides an example for writing a simple driver with a parameter that has setpoints. Let's name this parameter that has setpoints as \"y\". Then, the setpoints, say \"x1, x2, x3 ..\", are the parameters on which the parameter \n",
    "\"y\" depends upon. Meaning \"y\" is a function of \"x1, x2, x3 ...\" where \"x1, x2, x3 ...\" are known as the setpoints of parameter \"y\".\n",
    "\n",
    "This is most likely to be useful for instruments that return arrays of results. In this notebook, we will show an example of this."
   ]
  },
  {
   "cell_type": "code",
   "execution_count": 1,
   "metadata": {},
   "outputs": [],
   "source": [
    "import numpy as np\n",
    "import os"
   ]
  },
  {
   "cell_type": "code",
   "execution_count": 2,
   "metadata": {},
   "outputs": [
    {
     "name": "stdout",
     "output_type": "stream",
     "text": [
      "Logging hadn't been started.\n",
      "Activating auto-logging. Current session state plus future input saved.\n",
      "Filename       : /home/vsts/.qcodes/logs/command_history.log\n",
      "Mode           : append\n",
      "Output logging : True\n",
      "Raw input log  : False\n",
      "Timestamping   : True\n",
      "State          : active\n"
     ]
    },
    {
     "name": "stdout",
     "output_type": "stream",
     "text": [
      "Qcodes Logfile : /home/vsts/.qcodes/logs/200814-21705-qcodes.log\n"
     ]
    }
   ],
   "source": [
    "from qcodes.dataset.plotting import plot_dataset\n",
    "from qcodes.utils.validators import Numbers, Arrays\n",
    "from qcodes.instrument.base import Instrument\n",
    "from qcodes.dataset.measurements import Measurement"
   ]
  },
  {
   "cell_type": "code",
   "execution_count": 3,
   "metadata": {},
   "outputs": [],
   "source": [
    "from qcodes.dataset.sqlite.database import initialise_or_create_database_at\n",
    "from qcodes.dataset.experiment_container import load_or_create_experiment"
   ]
  },
  {
   "cell_type": "code",
   "execution_count": 4,
   "metadata": {},
   "outputs": [],
   "source": [
    "from qcodes.instrument.parameter import ParameterWithSetpoints, Parameter\n",
    "from qcodes.instrument.parameter import expand_setpoints_helper"
   ]
  },
  {
   "cell_type": "markdown",
   "metadata": {},
   "source": [
    "First, we define a dummy instrument that returns something like a frequency spectrum starting from a frequency given by `f_start` to a frequency given by `f_stop` in `n_points` steps. \n",
    "\n",
    "The extra functionality of the `ParameterWithSetpoints` is implemented by giving it a reference to one or more parameters that acts like its setpoints. \n",
    "\n",
    "To setup a `ParameterWithSetpoints` we have to do two things in addition to what we do for a normal parameter.\n",
    "\n",
    "* Define one or more parameter for the setpoints (one for each dimension of the array and let the `ParameterWithSetpoints` know that these are the setpoints.\n",
    "* Give both the setpoints parameter(s) and the `ParameterWithSetpoints` a `validator` of type `Arrays` with a shape. The shapes should be such that the combined shape of the setpoints matches the shape of the `ParameterWithSetpoints`. Note that if the shape changes with the setting of the instrument, it can be defined by another parameter as shown below. "
   ]
  },
  {
   "cell_type": "code",
   "execution_count": 5,
   "metadata": {},
   "outputs": [],
   "source": [
    "class GeneratedSetPoints(Parameter):\n",
    "    \"\"\"\n",
    "    A parameter that generates a setpoint array from start, stop and num points\n",
    "    parameters.\n",
    "    \"\"\"\n",
    "    def __init__(self, startparam, stopparam, numpointsparam, *args, **kwargs):\n",
    "        super().__init__(*args, **kwargs)\n",
    "        self._startparam = startparam\n",
    "        self._stopparam = stopparam\n",
    "        self._numpointsparam = numpointsparam\n",
    "\n",
    "    def get_raw(self):\n",
    "        return np.linspace(self._startparam(), self._stopparam(),\n",
    "                              self._numpointsparam())\n",
    "\n",
    "class DummyArray(ParameterWithSetpoints):\n",
    "    \n",
    "    def get_raw(self):\n",
    "        npoints = self.root_instrument.n_points.get_latest()\n",
    "        return np.random.rand(npoints)\n",
    "    \n",
    "\n",
    "class DummySpectrumAnalyzer(Instrument):\n",
    "    \n",
    "    def __init__(self, name, **kwargs):\n",
    "        \n",
    "        super().__init__(name, **kwargs)\n",
    "            \n",
    "\n",
    "        self.add_parameter('f_start',\n",
    "                           initial_value=0,\n",
    "                           unit='Hz',\n",
    "                           label='f start',\n",
    "                           vals=Numbers(0,1e3),\n",
    "                           get_cmd=None,\n",
    "                           set_cmd=None)\n",
    "\n",
    "        self.add_parameter('f_stop',\n",
    "                           unit='Hz',\n",
    "                           label='f stop',\n",
    "                           vals=Numbers(1,1e3),\n",
    "                           get_cmd=None,\n",
    "                           set_cmd=None)\n",
    "\n",
    "        self.add_parameter('n_points',\n",
    "                           unit='',\n",
    "                           initial_value=10,\n",
    "                           vals=Numbers(1,1e3),\n",
    "                           get_cmd=None,\n",
    "                           set_cmd=None)\n",
    "        \n",
    "        self.add_parameter('freq_axis',\n",
    "                           unit='Hz',\n",
    "                           label='Freq Axis',\n",
    "                           parameter_class=GeneratedSetPoints,\n",
    "                           startparam=self.f_start,\n",
    "                           stopparam=self.f_stop,\n",
    "                           numpointsparam=self.n_points,\n",
    "                           vals=Arrays(shape=(self.n_points.get_latest,)))\n",
    "                           \n",
    "        self.add_parameter('spectrum',\n",
    "                   unit='dBm',\n",
    "                   setpoints=(self.freq_axis,),\n",
    "                   label='Spectrum',\n",
    "                   parameter_class=DummyArray,\n",
    "                   vals=Arrays(shape=(self.n_points.get_latest,)))\n",
    "                "
   ]
  },
  {
   "cell_type": "markdown",
   "metadata": {},
   "source": [
    "In the above example, the shape is defined by the parameter `n_points` that defines how many samples our `DummySpectrumAnalyzer` returns.\n",
    "\n",
    "This means that the validation will call the function to get `n_points` twice for each `get` of the parameter. This may be too slow, however, if you (as the driver-writer) can guarantee that the cached value for `n_points` will never be out of sync with the value stored in the instrument, `n_points` may be replaced by it's latest known value such that the `validator` reads:\n",
    "```python\n",
    "vals=Arrays(shape=(self.n_points.get_latest))\n",
    "```\n",
    "\n",
    "This avoids any additional call to the instrument. In the same way, the arguments to the `freq_axis` parameter that defines the start, stop and number of points can be replaced by their latest value if the instrument allows it.\n",
    "\n"
   ]
  },
  {
   "cell_type": "code",
   "execution_count": 6,
   "metadata": {},
   "outputs": [
    {
     "name": "stdout",
     "output_type": "stream",
     "text": [
      "\r",
      "0it [00:00, ?it/s]"
     ]
    },
    {
     "name": "stdout",
     "output_type": "stream",
     "text": [
      "\r",
      "Upgrading database; v0 -> v1: : 0it [00:00, ?it/s]"
     ]
    },
    {
     "name": "stdout",
     "output_type": "stream",
     "text": [
      "\r",
      "Upgrading database; v0 -> v1: : 0it [00:00, ?it/s]"
     ]
    },
    {
     "name": "stdout",
     "output_type": "stream",
     "text": [
      "\n",
      "\r",
      "  0%|          | 0/1 [00:00<?, ?it/s]"
     ]
    },
    {
     "name": "stdout",
     "output_type": "stream",
     "text": [
      "\r",
      "Upgrading database; v1 -> v2:   0%|          | 0/1 [00:00<?, ?it/s]"
     ]
    },
    {
     "name": "stdout",
     "output_type": "stream",
     "text": [
      "\r",
      "Upgrading database; v1 -> v2: 100%|██████████| 1/1 [00:00<00:00, 626.48it/s]"
     ]
    },
    {
     "name": "stdout",
     "output_type": "stream",
     "text": [
      "\n",
      "\r",
      "0it [00:00, ?it/s]"
     ]
    },
    {
     "name": "stdout",
     "output_type": "stream",
     "text": [
      "\r",
      "Upgrading database; v2 -> v3: : 0it [00:00, ?it/s]"
     ]
    },
    {
     "name": "stdout",
     "output_type": "stream",
     "text": [
      "\r",
      "Upgrading database; v2 -> v3: : 0it [00:00, ?it/s]"
     ]
    },
    {
     "name": "stdout",
     "output_type": "stream",
     "text": [
      "\n",
      "\r",
      "0it [00:00, ?it/s]"
     ]
    },
    {
     "name": "stdout",
     "output_type": "stream",
     "text": [
      "\r",
      "Upgrading database; v3 -> v4: : 0it [00:00, ?it/s]"
     ]
    },
    {
     "name": "stdout",
     "output_type": "stream",
     "text": [
      "\r",
      "Upgrading database; v3 -> v4: : 0it [00:00, ?it/s]"
     ]
    },
    {
     "name": "stdout",
     "output_type": "stream",
     "text": [
      "\n",
      "\r",
      "  0%|          | 0/1 [00:00<?, ?it/s]"
     ]
    },
    {
     "name": "stdout",
     "output_type": "stream",
     "text": [
      "\r",
      "Upgrading database; v4 -> v5:   0%|          | 0/1 [00:00<?, ?it/s]"
     ]
    },
    {
     "name": "stdout",
     "output_type": "stream",
     "text": [
      "\r",
      "Upgrading database; v4 -> v5: 100%|██████████| 1/1 [00:00<00:00, 477.44it/s]"
     ]
    },
    {
     "name": "stdout",
     "output_type": "stream",
     "text": [
      "\n",
      "\r",
      "0it [00:00, ?it/s]"
     ]
    },
    {
     "name": "stdout",
     "output_type": "stream",
     "text": [
      "\r",
      "Upgrading database; v5 -> v6: : 0it [00:00, ?it/s]"
     ]
    },
    {
     "name": "stdout",
     "output_type": "stream",
     "text": [
      "\r",
      "Upgrading database; v5 -> v6: : 0it [00:00, ?it/s]"
     ]
    },
    {
     "name": "stdout",
     "output_type": "stream",
     "text": [
      "\n",
      "\r",
      "  0%|          | 0/1 [00:00<?, ?it/s]"
     ]
    },
    {
     "name": "stdout",
     "output_type": "stream",
     "text": [
      "\r",
      "Upgrading database; v6 -> v7:   0%|          | 0/1 [00:00<?, ?it/s]"
     ]
    },
    {
     "name": "stdout",
     "output_type": "stream",
     "text": [
      "\r",
      "Upgrading database; v6 -> v7: 100%|██████████| 1/1 [00:00<00:00, 335.14it/s]"
     ]
    },
    {
     "name": "stdout",
     "output_type": "stream",
     "text": [
      "\n",
      "\r",
      "  0%|          | 0/1 [00:00<?, ?it/s]"
     ]
    },
    {
     "name": "stdout",
     "output_type": "stream",
     "text": [
      "\r",
      "Upgrading database; v7 -> v8:   0%|          | 0/1 [00:00<?, ?it/s]"
     ]
    },
    {
     "name": "stdout",
     "output_type": "stream",
     "text": [
      "\r",
      "Upgrading database; v7 -> v8: 100%|██████████| 1/1 [00:00<00:00, 695.00it/s]"
     ]
    },
    {
     "name": "stdout",
     "output_type": "stream",
     "text": [
      "\n",
      "\r",
      "  0%|          | 0/1 [00:00<?, ?it/s]"
     ]
    },
    {
     "name": "stdout",
     "output_type": "stream",
     "text": [
      "\r",
      "Upgrading database; v8 -> v9:   0%|          | 0/1 [00:00<?, ?it/s]"
     ]
    },
    {
     "name": "stdout",
     "output_type": "stream",
     "text": [
      "\r",
      "Upgrading database; v8 -> v9: 100%|██████████| 1/1 [00:00<00:00, 752.88it/s]"
     ]
    },
    {
     "name": "stdout",
     "output_type": "stream",
     "text": [
      "\n"
     ]
    },
    {
     "data": {
      "text/plain": [
       "tutorial_ParameterWithSetpoints#no sample#1@/home/vsts/work/1/s/docs/examples/Parameters/tutorial_paramter_with_setpoints.db\n",
       "----------------------------------------------------------------------------------------------------------------------------"
      ]
     },
     "execution_count": 6,
     "metadata": {},
     "output_type": "execute_result"
    }
   ],
   "source": [
    "tutorial_db_path = os.path.join(os.getcwd(), 'tutorial_paramter_with_setpoints.db')\n",
    "initialise_or_create_database_at(tutorial_db_path)\n",
    "load_or_create_experiment(experiment_name='tutorial_ParameterWithSetpoints', sample_name=\"no sample\")"
   ]
  },
  {
   "cell_type": "code",
   "execution_count": 7,
   "metadata": {},
   "outputs": [],
   "source": [
    "a = DummySpectrumAnalyzer('foobar')"
   ]
  },
  {
   "cell_type": "markdown",
   "metadata": {},
   "source": [
    "First we setup the limits of the spectrum"
   ]
  },
  {
   "cell_type": "code",
   "execution_count": 8,
   "metadata": {},
   "outputs": [],
   "source": [
    "a.f_start(0)\n",
    "a.f_stop(500)\n",
    "a.n_points(501)"
   ]
  },
  {
   "cell_type": "markdown",
   "metadata": {},
   "source": [
    "And we can grab the frequency axis"
   ]
  },
  {
   "cell_type": "code",
   "execution_count": 9,
   "metadata": {},
   "outputs": [
    {
     "data": {
      "text/plain": [
       "501"
      ]
     },
     "execution_count": 9,
     "metadata": {},
     "output_type": "execute_result"
    }
   ],
   "source": [
    "a.n_points()"
   ]
  },
  {
   "cell_type": "code",
   "execution_count": 10,
   "metadata": {
    "scrolled": false
   },
   "outputs": [
    {
     "data": {
      "text/plain": [
       "501"
      ]
     },
     "execution_count": 10,
     "metadata": {},
     "output_type": "execute_result"
    }
   ],
   "source": [
    "freq_axis = a.freq_axis()\n",
    "len(freq_axis)"
   ]
  },
  {
   "cell_type": "code",
   "execution_count": 11,
   "metadata": {},
   "outputs": [
    {
     "data": {
      "text/plain": [
       "array([0., 1., 2., 3., 4., 5., 6., 7., 8., 9.])"
      ]
     },
     "execution_count": 11,
     "metadata": {},
     "output_type": "execute_result"
    }
   ],
   "source": [
    "freq_axis[:10]"
   ]
  },
  {
   "cell_type": "markdown",
   "metadata": {},
   "source": [
    "As expected we get a result wit 501 points as we asked for an axis with 501 points. "
   ]
  },
  {
   "cell_type": "markdown",
   "metadata": {},
   "source": [
    "Above we have added a validator to the `freq_axis` parameter encoding the fact that this is an Array with `n_points`. Note that we do not have to supply the number of points as an integer but can supply a function that returns the valid number of points. This would normally be a QCoDeS parameter.\n",
    "\n",
    "This will be checked if we validate the output."
   ]
  },
  {
   "cell_type": "code",
   "execution_count": 12,
   "metadata": {},
   "outputs": [],
   "source": [
    "a.freq_axis.validate(a.freq_axis.get())"
   ]
  },
  {
   "cell_type": "markdown",
   "metadata": {},
   "source": [
    "Naturally, we can also get the spectrum. Getting the spectrum will automatically perform validation both for the shape of the parameter itself and the relation to the setpoint parameter(s)"
   ]
  },
  {
   "cell_type": "code",
   "execution_count": 13,
   "metadata": {
    "scrolled": true
   },
   "outputs": [
    {
     "data": {
      "text/plain": [
       "501"
      ]
     },
     "execution_count": 13,
     "metadata": {},
     "output_type": "execute_result"
    }
   ],
   "source": [
    "spectrum = a.spectrum.get()\n",
    "len(spectrum)"
   ]
  },
  {
   "cell_type": "markdown",
   "metadata": {},
   "source": [
    "When we validate a `ParameterWithSetpoints`, we automatically validate that the shape is consistent between the parameters and its setpoints. As well as validating the shape as above."
   ]
  },
  {
   "cell_type": "code",
   "execution_count": 14,
   "metadata": {},
   "outputs": [],
   "source": [
    "a.spectrum.validate(a.spectrum.get())"
   ]
  },
  {
   "cell_type": "markdown",
   "metadata": {},
   "source": [
    "The consistent shapes can be validated explicitly."
   ]
  },
  {
   "cell_type": "code",
   "execution_count": 15,
   "metadata": {},
   "outputs": [],
   "source": [
    "a.spectrum.validate_consistent_shape()"
   ]
  },
  {
   "cell_type": "markdown",
   "metadata": {},
   "source": [
    "We can inspect the setpoints of the spectrum."
   ]
  },
  {
   "cell_type": "code",
   "execution_count": 16,
   "metadata": {},
   "outputs": [
    {
     "data": {
      "text/plain": [
       "(<__main__.GeneratedSetPoints: freq_axis at 140267391957200>,)"
      ]
     },
     "execution_count": 16,
     "metadata": {},
     "output_type": "execute_result"
    }
   ],
   "source": [
    "a.spectrum.setpoints"
   ]
  },
  {
   "cell_type": "markdown",
   "metadata": {},
   "source": [
    "Or even change them."
   ]
  },
  {
   "cell_type": "code",
   "execution_count": 17,
   "metadata": {},
   "outputs": [],
   "source": [
    "a.spectrum.setpoints = (a.freq_axis,)"
   ]
  },
  {
   "cell_type": "markdown",
   "metadata": {},
   "source": [
    "## Measurement"
   ]
  },
  {
   "cell_type": "markdown",
   "metadata": {},
   "source": [
    "We can also directly consume the parameter in a measurement without defining the setpoints of the parameter again. The setpoints are automatically obtained from the definition of the `ParameterWithSetpoint` instance. "
   ]
  },
  {
   "cell_type": "code",
   "execution_count": 18,
   "metadata": {},
   "outputs": [
    {
     "name": "stdout",
     "output_type": "stream",
     "text": [
      "Starting experimental run with id: 1. \n"
     ]
    }
   ],
   "source": [
    "meas = Measurement()\n",
    "meas.register_parameter(a.spectrum)\n",
    "\n",
    "with meas.run() as datasaver:\n",
    "    datasaver.add_result((a.freq_axis, a.freq_axis()),\n",
    "                         (a.spectrum, a.spectrum()))\n",
    "    dataset = datasaver.dataset"
   ]
  },
  {
   "cell_type": "markdown",
   "metadata": {},
   "source": [
    "And plot it"
   ]
  },
  {
   "cell_type": "code",
   "execution_count": 19,
   "metadata": {},
   "outputs": [
    {
     "data": {
      "text/plain": [
       "([<matplotlib.axes._subplots.AxesSubplot at 0x7f9277419450>], [None])"
      ]
     },
     "execution_count": 19,
     "metadata": {},
     "output_type": "execute_result"
    },
    {
     "data": {
      "image/png": "[encoded data removed]",
      "text/plain": [
       "<Figure size 432x288 with 1 Axes>"
      ]
     },
     "metadata": {
      "needs_background": "light"
     },
     "output_type": "display_data"
    }
   ],
   "source": [
    "plot_dataset(dataset)"
   ]
  },
  {
   "cell_type": "markdown",
   "metadata": {},
   "source": [
    "To reduce the amount of typing a simple convenience function is provided that will take a `ParameterWithSetpoints` and get both its values and the setpoints values and return them as tuples for direct insertion into the Dataset."
   ]
  },
  {
   "cell_type": "code",
   "execution_count": 20,
   "metadata": {
    "scrolled": true
   },
   "outputs": [
    {
     "data": {
      "text/plain": [
       "[(<__main__.GeneratedSetPoints: freq_axis at 140267391957200>,\n",
       "  array([  0.,   1.,   2.,   3.,   4.,   5.,   6.,   7.,   8.,   9.,  10.,\n",
       "          11.,  12.,  13.,  14.,  15.,  16.,  17.,  18.,  19.,  20.,  21.,\n",
       "          22.,  23.,  24.,  25.,  26.,  27.,  28.,  29.,  30.,  31.,  32.,\n",
       "          33.,  34.,  35.,  36.,  37.,  38.,  39.,  40.,  41.,  42.,  43.,\n",
       "          44.,  45.,  46.,  47.,  48.,  49.,  50.,  51.,  52.,  53.,  54.,\n",
       "          55.,  56.,  57.,  58.,  59.,  60.,  61.,  62.,  63.,  64.,  65.,\n",
       "          66.,  67.,  68.,  69.,  70.,  71.,  72.,  73.,  74.,  75.,  76.,\n",
       "          77.,  78.,  79.,  80.,  81.,  82.,  83.,  84.,  85.,  86.,  87.,\n",
       "          88.,  89.,  90.,  91.,  92.,  93.,  94.,  95.,  96.,  97.,  98.,\n",
       "          99., 100., 101., 102., 103., 104., 105., 106., 107., 108., 109.,\n",
       "         110., 111., 112., 113., 114., 115., 116., 117., 118., 119., 120.,\n",
       "         121., 122., 123., 124., 125., 126., 127., 128., 129., 130., 131.,\n",
       "         132., 133., 134., 135., 136., 137., 138., 139., 140., 141., 142.,\n",
       "         143., 144., 145., 146., 147., 148., 149., 150., 151., 152., 153.,\n",
       "         154., 155., 156., 157., 158., 159., 160., 161., 162., 163., 164.,\n",
       "         165., 166., 167., 168., 169., 170., 171., 172., 173., 174., 175.,\n",
       "         176., 177., 178., 179., 180., 181., 182., 183., 184., 185., 186.,\n",
       "         187., 188., 189., 190., 191., 192., 193., 194., 195., 196., 197.,\n",
       "         198., 199., 200., 201., 202., 203., 204., 205., 206., 207., 208.,\n",
       "         209., 210., 211., 212., 213., 214., 215., 216., 217., 218., 219.,\n",
       "         220., 221., 222., 223., 224., 225., 226., 227., 228., 229., 230.,\n",
       "         231., 232., 233., 234., 235., 236., 237., 238., 239., 240., 241.,\n",
       "         242., 243., 244., 245., 246., 247., 248., 249., 250., 251., 252.,\n",
       "         253., 254., 255., 256., 257., 258., 259., 260., 261., 262., 263.,\n",
       "         264., 265., 266., 267., 268., 269., 270., 271., 272., 273., 274.,\n",
       "         275., 276., 277., 278., 279., 280., 281., 282., 283., 284., 285.,\n",
       "         286., 287., 288., 289., 290., 291., 292., 293., 294., 295., 296.,\n",
       "         297., 298., 299., 300., 301., 302., 303., 304., 305., 306., 307.,\n",
       "         308., 309., 310., 311., 312., 313., 314., 315., 316., 317., 318.,\n",
       "         319., 320., 321., 322., 323., 324., 325., 326., 327., 328., 329.,\n",
       "         330., 331., 332., 333., 334., 335., 336., 337., 338., 339., 340.,\n",
       "         341., 342., 343., 344., 345., 346., 347., 348., 349., 350., 351.,\n",
       "         352., 353., 354., 355., 356., 357., 358., 359., 360., 361., 362.,\n",
       "         363., 364., 365., 366., 367., 368., 369., 370., 371., 372., 373.,\n",
       "         374., 375., 376., 377., 378., 379., 380., 381., 382., 383., 384.,\n",
       "         385., 386., 387., 388., 389., 390., 391., 392., 393., 394., 395.,\n",
       "         396., 397., 398., 399., 400., 401., 402., 403., 404., 405., 406.,\n",
       "         407., 408., 409., 410., 411., 412., 413., 414., 415., 416., 417.,\n",
       "         418., 419., 420., 421., 422., 423., 424., 425., 426., 427., 428.,\n",
       "         429., 430., 431., 432., 433., 434., 435., 436., 437., 438., 439.,\n",
       "         440., 441., 442., 443., 444., 445., 446., 447., 448., 449., 450.,\n",
       "         451., 452., 453., 454., 455., 456., 457., 458., 459., 460., 461.,\n",
       "         462., 463., 464., 465., 466., 467., 468., 469., 470., 471., 472.,\n",
       "         473., 474., 475., 476., 477., 478., 479., 480., 481., 482., 483.,\n",
       "         484., 485., 486., 487., 488., 489., 490., 491., 492., 493., 494.,\n",
       "         495., 496., 497., 498., 499., 500.])),\n",
       " (<__main__.DummyArray: spectrum at 140267059961680>,\n",
       "  array([7.99952382e-02, 6.47078562e-01, 6.46542170e-01, 3.93814534e-01,\n",
       "         7.70096931e-01, 6.08625672e-01, 1.90654099e-03, 6.21524596e-01,\n",
       "         1.07892015e-01, 3.77293498e-01, 7.74290247e-01, 5.32871484e-01,\n",
       "         3.25102028e-01, 9.29174151e-01, 8.51546303e-01, 2.25813785e-01,\n",
       "         4.44861726e-01, 1.78935891e-01, 2.91780576e-01, 8.48955068e-01,\n",
       "         2.67485737e-01, 5.65237576e-01, 1.39241604e-01, 9.77403961e-01,\n",
       "         9.56889820e-01, 8.31570737e-02, 3.18694412e-01, 3.28737247e-01,\n",
       "         8.62005116e-01, 9.97828861e-01, 6.95874660e-01, 3.22608697e-01,\n",
       "         5.42155338e-01, 3.76896029e-01, 8.72034595e-01, 7.33354441e-01,\n",
       "         7.83203186e-01, 6.64287159e-01, 4.03503966e-01, 5.18315899e-01,\n",
       "         5.40412640e-01, 6.26830180e-01, 5.92956031e-01, 4.51269499e-01,\n",
       "         8.14244874e-02, 2.72679446e-01, 8.83385651e-01, 6.50783443e-01,\n",
       "         1.15385205e-01, 5.12596030e-01, 1.21008281e-01, 2.81421724e-01,\n",
       "         4.12191724e-01, 2.15453333e-01, 1.82856078e-01, 6.92080985e-02,\n",
       "         5.67994820e-01, 9.52719095e-01, 2.39820880e-04, 7.69587323e-02,\n",
       "         3.46799168e-01, 3.53665777e-01, 3.21744545e-01, 7.50382388e-01,\n",
       "         1.10558392e-01, 2.44595286e-01, 3.07629980e-01, 7.17689548e-01,\n",
       "         3.59345140e-03, 2.73189190e-02, 4.96071762e-01, 3.65606717e-01,\n",
       "         4.96288451e-01, 8.33283429e-01, 5.10568962e-01, 2.81033913e-01,\n",
       "         2.59120906e-01, 8.51865191e-02, 3.86529557e-01, 4.21584116e-01,\n",
       "         1.19356412e-01, 6.83393222e-01, 8.34393679e-01, 3.17788420e-01,\n",
       "         5.58710287e-01, 1.87394803e-01, 3.83849977e-01, 5.35018141e-01,\n",
       "         5.59867861e-01, 9.66471600e-02, 8.94729102e-01, 3.22301167e-01,\n",
       "         3.89909407e-01, 2.39012891e-01, 6.06934811e-01, 1.39015486e-01,\n",
       "         4.51374192e-01, 5.04347352e-01, 8.91540517e-01, 3.33740983e-01,\n",
       "         6.08452301e-01, 7.01090857e-01, 4.96626446e-01, 8.77123351e-01,\n",
       "         6.66356873e-01, 9.99758571e-01, 7.14786575e-01, 4.53763016e-01,\n",
       "         6.22033459e-01, 5.45624356e-01, 8.19077390e-01, 8.76105207e-01,\n",
       "         1.13685069e-01, 2.13872466e-01, 7.44115140e-01, 7.56566478e-01,\n",
       "         6.48564648e-01, 2.68043062e-01, 9.17867894e-01, 9.00875720e-01,\n",
       "         8.88527286e-01, 4.92451705e-01, 7.85226707e-01, 2.26994364e-01,\n",
       "         6.47178120e-01, 3.35134547e-03, 7.87207286e-01, 2.39880644e-01,\n",
       "         3.33758787e-01, 4.51819378e-01, 4.40326278e-01, 9.77826610e-01,\n",
       "         5.36183837e-01, 8.35844404e-01, 3.81201345e-01, 4.06003878e-01,\n",
       "         9.75815260e-01, 9.90365558e-01, 6.42561334e-01, 4.22491959e-01,\n",
       "         4.13280951e-01, 5.11867705e-01, 7.18337968e-01, 1.12712262e-01,\n",
       "         7.70685737e-01, 3.21899895e-01, 4.77850329e-01, 7.86858752e-01,\n",
       "         5.13993924e-01, 8.26839951e-01, 7.33482596e-01, 7.72052063e-01,\n",
       "         4.58120888e-01, 8.33559464e-01, 7.04528438e-01, 7.74747385e-01,\n",
       "         8.43743069e-01, 2.74906173e-01, 5.40946167e-01, 2.75813295e-01,\n",
       "         2.61501383e-01, 6.57973385e-01, 9.35989287e-01, 5.30889405e-01,\n",
       "         7.58175572e-01, 2.68510833e-01, 7.30641083e-02, 4.63306547e-01,\n",
       "         8.70551216e-01, 6.22148149e-01, 5.87976096e-01, 4.34764970e-02,\n",
       "         1.61141090e-01, 5.27770332e-01, 4.72291554e-02, 7.03293105e-01,\n",
       "         7.21692752e-01, 3.20006490e-01, 6.12163201e-01, 8.75248264e-01,\n",
       "         3.72066978e-02, 6.68486342e-01, 8.47268644e-01, 6.49781139e-01,\n",
       "         9.78064972e-01, 8.80081734e-01, 1.76240559e-01, 2.87618179e-01,\n",
       "         2.12016396e-01, 6.24562297e-01, 9.19602865e-01, 9.02234566e-01,\n",
       "         6.94706958e-01, 4.26237900e-01, 5.43364313e-01, 6.56111572e-01,\n",
       "         7.40310162e-02, 5.49633844e-01, 5.52304598e-01, 9.69170037e-01,\n",
       "         4.33019208e-01, 9.07352415e-01, 4.48195723e-01, 2.56783777e-01,\n",
       "         9.71683981e-01, 4.91907295e-01, 3.71409241e-04, 5.50587805e-01,\n",
       "         7.25481866e-02, 7.58179564e-01, 5.13609231e-01, 7.52933933e-01,\n",
       "         7.87168353e-01, 7.27513708e-02, 5.15767155e-01, 7.13434662e-01,\n",
       "         5.31009549e-01, 6.01741376e-01, 6.45083905e-01, 5.00903222e-01,\n",
       "         5.76361551e-01, 5.95809267e-01, 3.48047420e-01, 9.41095525e-01,\n",
       "         4.40335574e-01, 6.89812618e-01, 5.76236231e-01, 6.12954106e-01,\n",
       "         9.87571922e-01, 8.13616243e-01, 7.62585692e-02, 6.56107369e-01,\n",
       "         8.11845886e-01, 1.83580018e-01, 3.35987826e-01, 5.55029221e-01,\n",
       "         2.87629245e-01, 7.69388566e-02, 3.86922432e-01, 3.24654410e-01,\n",
       "         8.14976519e-01, 3.42283286e-01, 7.54087515e-01, 5.80725774e-01,\n",
       "         5.16233507e-01, 9.74136450e-01, 2.51846935e-01, 2.48568188e-01,\n",
       "         2.59582826e-01, 8.36999668e-02, 7.43414061e-02, 5.51071642e-01,\n",
       "         9.82998934e-01, 7.94155569e-01, 9.72767706e-01, 2.84325835e-01,\n",
       "         9.24412236e-01, 6.42554402e-01, 9.15836551e-01, 7.08167596e-01,\n",
       "         2.78446709e-02, 7.43141244e-01, 8.40703116e-02, 9.00865418e-01,\n",
       "         7.22951250e-01, 9.45439194e-01, 4.27877420e-01, 8.68986405e-01,\n",
       "         8.19348584e-01, 3.26414381e-01, 6.55270773e-01, 7.45135475e-02,\n",
       "         4.52266115e-01, 7.56609217e-01, 1.81467801e-01, 4.19237002e-01,\n",
       "         7.17810205e-01, 4.40630379e-01, 3.39010183e-01, 8.80369265e-01,\n",
       "         5.94169031e-01, 1.53901230e-01, 9.28507278e-01, 5.70907419e-01,\n",
       "         1.83678695e-01, 3.08020598e-01, 7.56093370e-01, 8.18186122e-01,\n",
       "         5.20467507e-01, 5.51217549e-01, 4.06741609e-01, 6.27337585e-01,\n",
       "         6.49812317e-01, 6.59134356e-01, 1.27707754e-01, 7.67049573e-01,\n",
       "         3.16809458e-01, 8.12726124e-01, 1.02496093e-01, 9.35475578e-01,\n",
       "         9.22751215e-01, 9.87468860e-01, 9.81319267e-01, 7.46648263e-01,\n",
       "         9.95067262e-01, 7.33858594e-01, 8.15421359e-01, 4.47660463e-01,\n",
       "         9.73325046e-01, 5.09909518e-01, 1.63985140e-01, 9.03859490e-01,\n",
       "         8.86265736e-01, 6.51351806e-01, 2.17805554e-01, 6.27727744e-01,\n",
       "         8.81692642e-01, 2.89976657e-01, 3.07873420e-01, 6.49052814e-01,\n",
       "         3.28383056e-01, 8.12309669e-01, 6.82753173e-01, 2.20941318e-01,\n",
       "         3.28548802e-01, 4.10429434e-01, 9.51571253e-01, 9.43798366e-01,\n",
       "         8.86725974e-01, 7.45375557e-01, 5.59146300e-01, 1.86767298e-01,\n",
       "         7.07514204e-03, 1.33218687e-01, 5.66084963e-01, 9.46362022e-01,\n",
       "         4.85335181e-01, 8.35031907e-01, 4.31740796e-01, 1.17974192e-01,\n",
       "         7.79331768e-01, 3.58531756e-02, 7.75695630e-01, 8.19716018e-01,\n",
       "         4.93438181e-01, 4.66043847e-01, 9.48887129e-01, 2.73076392e-01,\n",
       "         7.85088755e-01, 9.50422085e-02, 4.71154481e-01, 5.03184447e-01,\n",
       "         9.79422083e-02, 5.18914787e-01, 6.65499107e-01, 4.83924719e-01,\n",
       "         4.64519455e-01, 5.43382296e-01, 7.71281023e-01, 1.38534014e-01,\n",
       "         2.15606462e-01, 4.05002420e-02, 7.67960361e-01, 3.27874239e-01,\n",
       "         2.86186451e-01, 6.01546750e-01, 5.31036297e-01, 9.98519291e-01,\n",
       "         2.81523389e-01, 9.84752900e-01, 6.03237235e-01, 4.75579352e-01,\n",
       "         8.98206066e-02, 7.05261355e-01, 4.28536335e-01, 5.37861132e-01,\n",
       "         6.82723186e-01, 2.92531539e-01, 1.31836601e-01, 7.34698100e-01,\n",
       "         3.46890470e-01, 4.03056742e-01, 9.84747976e-01, 2.11087401e-01,\n",
       "         6.33486675e-01, 4.05783878e-01, 4.29149909e-01, 5.16088108e-04,\n",
       "         6.89211060e-01, 7.48944022e-01, 1.25197319e-01, 7.39942273e-01,\n",
       "         7.95585424e-01, 4.02530461e-01, 2.54043445e-01, 8.04743782e-01,\n",
       "         4.28780855e-01, 1.58471801e-02, 7.83411364e-01, 4.88282006e-02,\n",
       "         3.23127342e-01, 6.97117455e-02, 6.40164514e-01, 4.66798550e-01,\n",
       "         7.58697144e-01, 8.81020880e-01, 6.26710422e-01, 5.94100554e-01,\n",
       "         9.70751145e-01, 2.43905711e-01, 9.09187708e-01, 8.24465266e-01,\n",
       "         1.44005471e-01, 7.02717327e-01, 5.17941218e-01, 1.62321982e-02,\n",
       "         1.06870240e-01, 9.49986573e-01, 5.25999263e-01, 2.83514683e-01,\n",
       "         6.99089994e-02, 4.26927279e-01, 8.41945276e-01, 8.65243260e-01,\n",
       "         5.63565626e-01, 5.12674884e-02, 7.62048252e-01, 2.98471864e-01,\n",
       "         3.44967617e-01, 5.41567561e-02, 9.08199737e-01, 2.45283024e-01,\n",
       "         5.45999933e-01, 7.50588147e-01, 5.51824260e-01, 4.38062207e-01,\n",
       "         1.37377800e-01, 4.12002263e-02, 8.73395266e-01, 5.35802178e-01,\n",
       "         5.00856471e-01, 2.68412393e-01, 7.91164912e-01, 7.53016030e-01,\n",
       "         3.00414677e-01, 6.58391457e-01, 9.94191464e-01, 2.13839778e-01,\n",
       "         7.01854891e-01, 6.12970058e-01, 4.93105780e-02, 5.09240278e-01,\n",
       "         9.80390737e-01, 8.99681583e-01, 5.89035898e-01, 8.14346818e-01,\n",
       "         4.46407102e-01, 7.39248450e-01, 6.18178117e-01, 1.38456559e-01,\n",
       "         9.62969401e-01, 7.95607469e-01, 4.05167159e-01, 1.17488008e-03,\n",
       "         1.23101533e-01, 8.75455271e-01, 6.56132569e-01, 4.15753015e-01,\n",
       "         9.83609560e-01, 6.28051134e-01, 2.40464756e-01, 8.37619265e-01,\n",
       "         8.95684675e-01, 7.99418724e-01, 1.35537080e-01, 5.93687628e-01,\n",
       "         3.71443889e-01, 8.42308098e-01, 1.18027122e-01, 8.72607674e-01,\n",
       "         3.11089548e-03, 3.11104367e-01, 7.67482846e-01, 1.79286582e-01,\n",
       "         3.29410953e-01, 4.81918680e-01, 3.72251316e-01, 3.27522296e-01,\n",
       "         6.30431610e-01, 3.75231034e-01, 8.36057870e-01, 5.40671523e-01,\n",
       "         5.17459160e-01, 6.97690640e-01, 6.64691298e-01, 3.39874996e-02,\n",
       "         7.29515340e-01, 1.34270124e-02, 4.87232591e-01, 9.12804865e-01,\n",
       "         9.04952313e-02]))]"
      ]
     },
     "execution_count": 20,
     "metadata": {},
     "output_type": "execute_result"
    }
   ],
   "source": [
    "expand_setpoints_helper(a.spectrum)"
   ]
  },
  {
   "cell_type": "code",
   "execution_count": 21,
   "metadata": {},
   "outputs": [
    {
     "name": "stdout",
     "output_type": "stream",
     "text": [
      "Starting experimental run with id: 2. \n"
     ]
    }
   ],
   "source": [
    "meas = Measurement()\n",
    "meas.register_parameter(a.spectrum)\n",
    "\n",
    "with meas.run() as datasaver:\n",
    "    datasaver.add_result(*expand_setpoints_helper(a.spectrum))\n",
    "    \n",
    "    dataid = datasaver.run_id"
   ]
  },
  {
   "cell_type": "code",
   "execution_count": null,
   "metadata": {},
   "outputs": [],
   "source": []
  }
 ],
 "metadata": {
  "kernelspec": {
   "display_name": "Python 3",
   "language": "python",
   "name": "python3"
  },
  "language_info": {
   "codemirror_mode": {
    "name": "ipython",
    "version": 3
   },
   "file_extension": ".py",
   "mimetype": "text/x-python",
   "name": "python",
   "nbconvert_exporter": "python",
   "pygments_lexer": "ipython3",
   "version": "3.7.7"
  },
  "toc": {
   "base_numbering": 1,
   "nav_menu": {},
   "number_sections": true,
   "sideBar": true,
   "skip_h1_title": false,
   "title_cell": "Table of Contents",
   "title_sidebar": "Contents",
   "toc_cell": false,
   "toc_position": {},
   "toc_section_display": true,
   "toc_window_display": false
  },
  "varInspector": {
   "cols": {
    "lenName": 16,
    "lenType": 16,
    "lenVar": 40
   },
   "kernels_config": {
    "python": {
     "delete_cmd_postfix": "",
     "delete_cmd_prefix": "del ",
     "library": "var_list.py",
     "varRefreshCmd": "print(var_dic_list())"
    },
    "r": {
     "delete_cmd_postfix": ") ",
     "delete_cmd_prefix": "rm(",
     "library": "var_list.r",
     "varRefreshCmd": "cat(var_dic_list()) "
    }
   },
   "types_to_exclude": [
    "module",
    "function",
    "builtin_function_or_method",
    "instance",
    "_Feature"
   ],
   "window_display": false
  }
 },
 "nbformat": 4,
 "nbformat_minor": 2
}
