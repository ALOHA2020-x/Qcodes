{
 "cells": [
  {
   "cell_type": "markdown",
   "metadata": {},
   "source": [
    "# Simple Example of ParameterWithSetpoints\n",
    "This notebook provides an example for writing a simple driver with a parameter that has setpoints. Let's name this parameter that has setpoints as \"y\". Then, the setpoints, say \"x1, x2, x3 ..\", are the parameters on which the parameter \n",
    "\"y\" depends upon. Meaning \"y\" is a function of \"x1, x2, x3 ...\" where \"x1, x2, x3 ...\" are known as the setpoints of parameter \"y\".\n",
    "\n",
    "This is most likely to be useful for instruments that return arrays of results. In this notebook, we will show an example of this."
   ]
  },
  {
   "cell_type": "code",
   "execution_count": 1,
   "metadata": {},
   "outputs": [],
   "source": [
    "import numpy as np\n",
    "import os"
   ]
  },
  {
   "cell_type": "code",
   "execution_count": 2,
   "metadata": {},
   "outputs": [
    {
     "name": "stdout",
     "output_type": "stream",
     "text": [
      "Logging hadn't been started.\n",
      "Activating auto-logging. Current session state plus future input saved.\n",
      "Filename       : /home/vsts/.qcodes/logs/command_history.log\n",
      "Mode           : append\n",
      "Output logging : True\n",
      "Raw input log  : False\n",
      "Timestamping   : True\n",
      "State          : active\n"
     ]
    },
    {
     "name": "stdout",
     "output_type": "stream",
     "text": [
      "Qcodes Logfile : /home/vsts/.qcodes/logs/200320-21183-qcodes.log\n"
     ]
    }
   ],
   "source": [
    "from qcodes.dataset.plotting import plot_dataset\n",
    "from qcodes.utils.validators import Numbers, Arrays\n",
    "from qcodes.instrument.base import Instrument\n",
    "from qcodes.dataset.measurements import Measurement"
   ]
  },
  {
   "cell_type": "code",
   "execution_count": 3,
   "metadata": {},
   "outputs": [],
   "source": [
    "from qcodes.dataset.sqlite.database import initialise_or_create_database_at\n",
    "from qcodes.dataset.experiment_container import load_or_create_experiment"
   ]
  },
  {
   "cell_type": "code",
   "execution_count": 4,
   "metadata": {},
   "outputs": [],
   "source": [
    "from qcodes.instrument.parameter import ParameterWithSetpoints, Parameter\n",
    "from qcodes.instrument.parameter import expand_setpoints_helper"
   ]
  },
  {
   "cell_type": "markdown",
   "metadata": {},
   "source": [
    "First, we define a dummy instrument that returns something like a frequency spectrum starting from a frequency given by `f_start` to a frequency given by `f_stop` in `n_points` steps. \n",
    "\n",
    "The extra functionality of the `ParameterWithSetpoints` is implemented by giving it a reference to one or more parameters that acts like its setpoints. \n",
    "\n",
    "To setup a `ParameterWithSetpoints` we have to do two things in addition to what we do for a normal parameter.\n",
    "\n",
    "* Define one or more parameter for the setpoints (one for each dimension of the array and let the `ParameterWithSetpoints` know that these are the setpoints.\n",
    "* Give both the setpoints parameter(s) and the `ParameterWithSetpoints` a `validator` of type `Arrays` with a shape. The shapes should be such that the combined shape of the setpoints matches the shape of the `ParameterWithSetpoints`. Note that if the shape changes with the setting of the instrument, it can be defined by another parameter as shown below. "
   ]
  },
  {
   "cell_type": "code",
   "execution_count": 5,
   "metadata": {},
   "outputs": [],
   "source": [
    "class GeneratedSetPoints(Parameter):\n",
    "    \"\"\"\n",
    "    A parameter that generates a setpoint array from start, stop and num points\n",
    "    parameters.\n",
    "    \"\"\"\n",
    "    def __init__(self, startparam, stopparam, numpointsparam, *args, **kwargs):\n",
    "        super().__init__(*args, **kwargs)\n",
    "        self._startparam = startparam\n",
    "        self._stopparam = stopparam\n",
    "        self._numpointsparam = numpointsparam\n",
    "\n",
    "    def get_raw(self):\n",
    "        return np.linspace(self._startparam(), self._stopparam(),\n",
    "                              self._numpointsparam())\n",
    "\n",
    "class DummyArray(ParameterWithSetpoints):\n",
    "    \n",
    "    def get_raw(self):\n",
    "        npoints = self.root_instrument.n_points.get_latest()\n",
    "        return np.random.rand(npoints)\n",
    "    \n",
    "\n",
    "class DummySpectrumAnalyzer(Instrument):\n",
    "    \n",
    "    def __init__(self, name, **kwargs):\n",
    "        \n",
    "        super().__init__(name, **kwargs)\n",
    "            \n",
    "\n",
    "        self.add_parameter('f_start',\n",
    "                           initial_value=0,\n",
    "                           unit='Hz',\n",
    "                           label='f start',\n",
    "                           vals=Numbers(0,1e3),\n",
    "                           get_cmd=None,\n",
    "                           set_cmd=None)\n",
    "\n",
    "        self.add_parameter('f_stop',\n",
    "                           unit='Hz',\n",
    "                           label='f stop',\n",
    "                           vals=Numbers(1,1e3),\n",
    "                           get_cmd=None,\n",
    "                           set_cmd=None)\n",
    "\n",
    "        self.add_parameter('n_points',\n",
    "                           unit='',\n",
    "                           initial_value=10,\n",
    "                           vals=Numbers(1,1e3),\n",
    "                           get_cmd=None,\n",
    "                           set_cmd=None)\n",
    "        \n",
    "        self.add_parameter('freq_axis',\n",
    "                           unit='Hz',\n",
    "                           label='Freq Axis',\n",
    "                           parameter_class=GeneratedSetPoints,\n",
    "                           startparam=self.f_start,\n",
    "                           stopparam=self.f_stop,\n",
    "                           numpointsparam=self.n_points,\n",
    "                           vals=Arrays(shape=(self.n_points.get_latest,)))\n",
    "                           \n",
    "        self.add_parameter('spectrum',\n",
    "                   unit='dBm',\n",
    "                   setpoints=(self.freq_axis,),\n",
    "                   label='Spectrum',\n",
    "                   parameter_class=DummyArray,\n",
    "                   vals=Arrays(shape=(self.n_points.get_latest,)))\n",
    "                "
   ]
  },
  {
   "cell_type": "markdown",
   "metadata": {},
   "source": [
    "In the above example, the shape is defined by the parameter `n_points` that defines how many samples our `DummySpectrumAnalyzer` returns.\n",
    "\n",
    "This means that the validation will call the function to get `n_points` twice for each `get` of the parameter. This may be too slow, however, if you (as the driver-writer) can guarantee that the cached value for `n_points` will never be out of sync with the value stored in the instrument, `n_points` may be replaced by it's latest known value such that the `validator` reads:\n",
    "```python\n",
    "vals=Arrays(shape=(self.n_points.get_latest))\n",
    "```\n",
    "\n",
    "This avoids any additional call to the instrument. In the same way, the arguments to the `freq_axis` parameter that defines the start, stop and number of points can be replaced by their latest value if the instrument allows it.\n",
    "\n"
   ]
  },
  {
   "cell_type": "code",
   "execution_count": 6,
   "metadata": {},
   "outputs": [
    {
     "name": "stdout",
     "output_type": "stream",
     "text": [
      "\r",
      "0it [00:00, ?it/s]"
     ]
    },
    {
     "name": "stdout",
     "output_type": "stream",
     "text": [
      "\r",
      "Upgrading database; v0 -> v1: : 0it [00:00, ?it/s]"
     ]
    },
    {
     "name": "stdout",
     "output_type": "stream",
     "text": [
      "\r",
      "Upgrading database; v0 -> v1: : 0it [00:00, ?it/s]"
     ]
    },
    {
     "name": "stdout",
     "output_type": "stream",
     "text": [
      "\n",
      "\r",
      "  0%|          | 0/1 [00:00<?, ?it/s]"
     ]
    },
    {
     "name": "stdout",
     "output_type": "stream",
     "text": [
      "\r",
      "Upgrading database; v1 -> v2:   0%|          | 0/1 [00:00<?, ?it/s]"
     ]
    },
    {
     "name": "stdout",
     "output_type": "stream",
     "text": [
      "\r",
      "Upgrading database; v1 -> v2: 100%|██████████| 1/1 [00:00<00:00, 1244.23it/s]"
     ]
    },
    {
     "name": "stdout",
     "output_type": "stream",
     "text": [
      "\n",
      "\r",
      "0it [00:00, ?it/s]"
     ]
    },
    {
     "name": "stdout",
     "output_type": "stream",
     "text": [
      "\r",
      "Upgrading database; v2 -> v3: : 0it [00:00, ?it/s]"
     ]
    },
    {
     "name": "stdout",
     "output_type": "stream",
     "text": [
      "\r",
      "Upgrading database; v2 -> v3: : 0it [00:00, ?it/s]"
     ]
    },
    {
     "name": "stdout",
     "output_type": "stream",
     "text": [
      "\n",
      "\r",
      "0it [00:00, ?it/s]"
     ]
    },
    {
     "name": "stdout",
     "output_type": "stream",
     "text": [
      "\r",
      "Upgrading database; v3 -> v4: : 0it [00:00, ?it/s]"
     ]
    },
    {
     "name": "stdout",
     "output_type": "stream",
     "text": [
      "\r",
      "Upgrading database; v3 -> v4: : 0it [00:00, ?it/s]"
     ]
    },
    {
     "name": "stdout",
     "output_type": "stream",
     "text": [
      "\n",
      "\r",
      "  0%|          | 0/1 [00:00<?, ?it/s]"
     ]
    },
    {
     "name": "stdout",
     "output_type": "stream",
     "text": [
      "\r",
      "Upgrading database; v4 -> v5:   0%|          | 0/1 [00:00<?, ?it/s]"
     ]
    },
    {
     "name": "stdout",
     "output_type": "stream",
     "text": [
      "\r",
      "Upgrading database; v4 -> v5: 100%|██████████| 1/1 [00:00<00:00, 1176.19it/s]"
     ]
    },
    {
     "name": "stdout",
     "output_type": "stream",
     "text": [
      "\n",
      "\r",
      "0it [00:00, ?it/s]"
     ]
    },
    {
     "name": "stdout",
     "output_type": "stream",
     "text": [
      "\r",
      "Upgrading database; v5 -> v6: : 0it [00:00, ?it/s]"
     ]
    },
    {
     "name": "stdout",
     "output_type": "stream",
     "text": [
      "\r",
      "Upgrading database; v5 -> v6: : 0it [00:00, ?it/s]"
     ]
    },
    {
     "name": "stdout",
     "output_type": "stream",
     "text": [
      "\n",
      "\r",
      "  0%|          | 0/1 [00:00<?, ?it/s]"
     ]
    },
    {
     "name": "stdout",
     "output_type": "stream",
     "text": [
      "\r",
      "Upgrading database; v6 -> v7:   0%|          | 0/1 [00:00<?, ?it/s]"
     ]
    },
    {
     "name": "stdout",
     "output_type": "stream",
     "text": [
      "\r",
      "Upgrading database; v6 -> v7: 100%|██████████| 1/1 [00:00<00:00, 501.59it/s]"
     ]
    },
    {
     "name": "stdout",
     "output_type": "stream",
     "text": [
      "\n",
      "\r",
      "  0%|          | 0/1 [00:00<?, ?it/s]"
     ]
    },
    {
     "name": "stdout",
     "output_type": "stream",
     "text": [
      "\r",
      "Upgrading database; v7 -> v8:   0%|          | 0/1 [00:00<?, ?it/s]"
     ]
    },
    {
     "name": "stdout",
     "output_type": "stream",
     "text": [
      "\r",
      "Upgrading database; v7 -> v8: 100%|██████████| 1/1 [00:00<00:00, 1160.25it/s]"
     ]
    },
    {
     "name": "stdout",
     "output_type": "stream",
     "text": [
      "\n",
      "\r",
      "  0%|          | 0/1 [00:00<?, ?it/s]"
     ]
    },
    {
     "name": "stdout",
     "output_type": "stream",
     "text": [
      "\r",
      "Upgrading database; v8 -> v9:   0%|          | 0/1 [00:00<?, ?it/s]"
     ]
    },
    {
     "name": "stdout",
     "output_type": "stream",
     "text": [
      "\r",
      "Upgrading database; v8 -> v9: 100%|██████████| 1/1 [00:00<00:00, 1314.83it/s]"
     ]
    },
    {
     "name": "stdout",
     "output_type": "stream",
     "text": [
      "\n"
     ]
    },
    {
     "data": {
      "text/plain": [
       "tutorial_ParameterWithSetpoints#no sample#1@/home/vsts/work/1/s/docs/examples/Parameters/tutorial_paramter_with_setpoints.db\n",
       "----------------------------------------------------------------------------------------------------------------------------"
      ]
     },
     "execution_count": 6,
     "metadata": {},
     "output_type": "execute_result"
    }
   ],
   "source": [
    "tutorial_db_path = os.path.join(os.getcwd(), 'tutorial_paramter_with_setpoints.db')\n",
    "initialise_or_create_database_at(tutorial_db_path)\n",
    "load_or_create_experiment(experiment_name='tutorial_ParameterWithSetpoints', sample_name=\"no sample\")"
   ]
  },
  {
   "cell_type": "code",
   "execution_count": 7,
   "metadata": {},
   "outputs": [],
   "source": [
    "a = DummySpectrumAnalyzer('foobar')"
   ]
  },
  {
   "cell_type": "markdown",
   "metadata": {},
   "source": [
    "First we setup the limits of the spectrum"
   ]
  },
  {
   "cell_type": "code",
   "execution_count": 8,
   "metadata": {},
   "outputs": [],
   "source": [
    "a.f_start(0)\n",
    "a.f_stop(500)\n",
    "a.n_points(501)"
   ]
  },
  {
   "cell_type": "markdown",
   "metadata": {},
   "source": [
    "And we can grab the frequency axis"
   ]
  },
  {
   "cell_type": "code",
   "execution_count": 9,
   "metadata": {},
   "outputs": [
    {
     "data": {
      "text/plain": [
       "501"
      ]
     },
     "execution_count": 9,
     "metadata": {},
     "output_type": "execute_result"
    }
   ],
   "source": [
    "a.n_points()"
   ]
  },
  {
   "cell_type": "code",
   "execution_count": 10,
   "metadata": {
    "scrolled": false
   },
   "outputs": [
    {
     "data": {
      "text/plain": [
       "501"
      ]
     },
     "execution_count": 10,
     "metadata": {},
     "output_type": "execute_result"
    }
   ],
   "source": [
    "freq_axis = a.freq_axis()\n",
    "len(freq_axis)"
   ]
  },
  {
   "cell_type": "code",
   "execution_count": 11,
   "metadata": {},
   "outputs": [
    {
     "data": {
      "text/plain": [
       "array([0., 1., 2., 3., 4., 5., 6., 7., 8., 9.])"
      ]
     },
     "execution_count": 11,
     "metadata": {},
     "output_type": "execute_result"
    }
   ],
   "source": [
    "freq_axis[:10]"
   ]
  },
  {
   "cell_type": "markdown",
   "metadata": {},
   "source": [
    "As expected we get a result wit 501 points as we asked for an axis with 501 points. "
   ]
  },
  {
   "cell_type": "markdown",
   "metadata": {},
   "source": [
    "Above we have added a validator to the `freq_axis` parameter encoding the fact that this is an Array with `n_points`. Note that we do not have to supply the number of points as an integer but can supply a function that returns the valid number of points. This would normally be a QCoDeS parameter.\n",
    "\n",
    "This will be checked if we validate the output."
   ]
  },
  {
   "cell_type": "code",
   "execution_count": 12,
   "metadata": {},
   "outputs": [],
   "source": [
    "a.freq_axis.validate(a.freq_axis.get())"
   ]
  },
  {
   "cell_type": "markdown",
   "metadata": {},
   "source": [
    "Naturally, we can also get the spectrum. Getting the spectrum will automatically perform validation both for the shape of the parameter itself and the relation to the setpoint parameter(s)"
   ]
  },
  {
   "cell_type": "code",
   "execution_count": 13,
   "metadata": {
    "scrolled": true
   },
   "outputs": [
    {
     "data": {
      "text/plain": [
       "501"
      ]
     },
     "execution_count": 13,
     "metadata": {},
     "output_type": "execute_result"
    }
   ],
   "source": [
    "spectrum = a.spectrum.get()\n",
    "len(spectrum)"
   ]
  },
  {
   "cell_type": "markdown",
   "metadata": {},
   "source": [
    "When we validate a `ParameterWithSetpoints`, we automatically validate that the shape is consistent between the parameters and its setpoints. As well as validating the shape as above."
   ]
  },
  {
   "cell_type": "code",
   "execution_count": 14,
   "metadata": {},
   "outputs": [],
   "source": [
    "a.spectrum.validate(a.spectrum.get())"
   ]
  },
  {
   "cell_type": "markdown",
   "metadata": {},
   "source": [
    "The consistent shapes can be validated explicitly."
   ]
  },
  {
   "cell_type": "code",
   "execution_count": 15,
   "metadata": {},
   "outputs": [],
   "source": [
    "a.spectrum.validate_consistent_shape()"
   ]
  },
  {
   "cell_type": "markdown",
   "metadata": {},
   "source": [
    "We can inspect the setpoints of the spectrum."
   ]
  },
  {
   "cell_type": "code",
   "execution_count": 16,
   "metadata": {},
   "outputs": [
    {
     "data": {
      "text/plain": [
       "(<__main__.GeneratedSetPoints: freq_axis at 139695424400592>,)"
      ]
     },
     "execution_count": 16,
     "metadata": {},
     "output_type": "execute_result"
    }
   ],
   "source": [
    "a.spectrum.setpoints"
   ]
  },
  {
   "cell_type": "markdown",
   "metadata": {},
   "source": [
    "Or even change them."
   ]
  },
  {
   "cell_type": "code",
   "execution_count": 17,
   "metadata": {},
   "outputs": [],
   "source": [
    "a.spectrum.setpoints = (a.freq_axis,)"
   ]
  },
  {
   "cell_type": "markdown",
   "metadata": {},
   "source": [
    "## Measurement"
   ]
  },
  {
   "cell_type": "markdown",
   "metadata": {},
   "source": [
    "We can also directly consume the parameter in a measurement without defining the setpoints of the parameter again. The setpoints are automatically obtained from the definition of the `ParameterWithSetpoint` instance. "
   ]
  },
  {
   "cell_type": "code",
   "execution_count": 18,
   "metadata": {},
   "outputs": [
    {
     "name": "stdout",
     "output_type": "stream",
     "text": [
      "Starting experimental run with id: 1. \n"
     ]
    }
   ],
   "source": [
    "meas = Measurement()\n",
    "meas.register_parameter(a.spectrum)\n",
    "\n",
    "with meas.run() as datasaver:\n",
    "    datasaver.add_result((a.freq_axis, a.freq_axis()),\n",
    "                         (a.spectrum, a.spectrum()))\n",
    "    dataset = datasaver.dataset"
   ]
  },
  {
   "cell_type": "markdown",
   "metadata": {},
   "source": [
    "And plot it"
   ]
  },
  {
   "cell_type": "code",
   "execution_count": 19,
   "metadata": {},
   "outputs": [
    {
     "data": {
      "text/plain": [
       "([<matplotlib.axes._subplots.AxesSubplot at 0x7f0d61105210>], [None])"
      ]
     },
     "execution_count": 19,
     "metadata": {},
     "output_type": "execute_result"
    },
    {
     "data": {
      "image/png": "[encoded data removed]",
      "text/plain": [
       "<Figure size 432x288 with 1 Axes>"
      ]
     },
     "metadata": {
      "needs_background": "light"
     },
     "output_type": "display_data"
    }
   ],
   "source": [
    "plot_dataset(dataset)"
   ]
  },
  {
   "cell_type": "markdown",
   "metadata": {},
   "source": [
    "To reduce the amount of typing a simple convenience function is provided that will take a `ParameterWithSetpoints` and get both its values and the setpoints values and return them as tuples for direct insertion into the Dataset."
   ]
  },
  {
   "cell_type": "code",
   "execution_count": 20,
   "metadata": {
    "scrolled": true
   },
   "outputs": [
    {
     "data": {
      "text/plain": [
       "[(<__main__.GeneratedSetPoints: freq_axis at 139695424400592>,\n",
       "  array([  0.,   1.,   2.,   3.,   4.,   5.,   6.,   7.,   8.,   9.,  10.,\n",
       "          11.,  12.,  13.,  14.,  15.,  16.,  17.,  18.,  19.,  20.,  21.,\n",
       "          22.,  23.,  24.,  25.,  26.,  27.,  28.,  29.,  30.,  31.,  32.,\n",
       "          33.,  34.,  35.,  36.,  37.,  38.,  39.,  40.,  41.,  42.,  43.,\n",
       "          44.,  45.,  46.,  47.,  48.,  49.,  50.,  51.,  52.,  53.,  54.,\n",
       "          55.,  56.,  57.,  58.,  59.,  60.,  61.,  62.,  63.,  64.,  65.,\n",
       "          66.,  67.,  68.,  69.,  70.,  71.,  72.,  73.,  74.,  75.,  76.,\n",
       "          77.,  78.,  79.,  80.,  81.,  82.,  83.,  84.,  85.,  86.,  87.,\n",
       "          88.,  89.,  90.,  91.,  92.,  93.,  94.,  95.,  96.,  97.,  98.,\n",
       "          99., 100., 101., 102., 103., 104., 105., 106., 107., 108., 109.,\n",
       "         110., 111., 112., 113., 114., 115., 116., 117., 118., 119., 120.,\n",
       "         121., 122., 123., 124., 125., 126., 127., 128., 129., 130., 131.,\n",
       "         132., 133., 134., 135., 136., 137., 138., 139., 140., 141., 142.,\n",
       "         143., 144., 145., 146., 147., 148., 149., 150., 151., 152., 153.,\n",
       "         154., 155., 156., 157., 158., 159., 160., 161., 162., 163., 164.,\n",
       "         165., 166., 167., 168., 169., 170., 171., 172., 173., 174., 175.,\n",
       "         176., 177., 178., 179., 180., 181., 182., 183., 184., 185., 186.,\n",
       "         187., 188., 189., 190., 191., 192., 193., 194., 195., 196., 197.,\n",
       "         198., 199., 200., 201., 202., 203., 204., 205., 206., 207., 208.,\n",
       "         209., 210., 211., 212., 213., 214., 215., 216., 217., 218., 219.,\n",
       "         220., 221., 222., 223., 224., 225., 226., 227., 228., 229., 230.,\n",
       "         231., 232., 233., 234., 235., 236., 237., 238., 239., 240., 241.,\n",
       "         242., 243., 244., 245., 246., 247., 248., 249., 250., 251., 252.,\n",
       "         253., 254., 255., 256., 257., 258., 259., 260., 261., 262., 263.,\n",
       "         264., 265., 266., 267., 268., 269., 270., 271., 272., 273., 274.,\n",
       "         275., 276., 277., 278., 279., 280., 281., 282., 283., 284., 285.,\n",
       "         286., 287., 288., 289., 290., 291., 292., 293., 294., 295., 296.,\n",
       "         297., 298., 299., 300., 301., 302., 303., 304., 305., 306., 307.,\n",
       "         308., 309., 310., 311., 312., 313., 314., 315., 316., 317., 318.,\n",
       "         319., 320., 321., 322., 323., 324., 325., 326., 327., 328., 329.,\n",
       "         330., 331., 332., 333., 334., 335., 336., 337., 338., 339., 340.,\n",
       "         341., 342., 343., 344., 345., 346., 347., 348., 349., 350., 351.,\n",
       "         352., 353., 354., 355., 356., 357., 358., 359., 360., 361., 362.,\n",
       "         363., 364., 365., 366., 367., 368., 369., 370., 371., 372., 373.,\n",
       "         374., 375., 376., 377., 378., 379., 380., 381., 382., 383., 384.,\n",
       "         385., 386., 387., 388., 389., 390., 391., 392., 393., 394., 395.,\n",
       "         396., 397., 398., 399., 400., 401., 402., 403., 404., 405., 406.,\n",
       "         407., 408., 409., 410., 411., 412., 413., 414., 415., 416., 417.,\n",
       "         418., 419., 420., 421., 422., 423., 424., 425., 426., 427., 428.,\n",
       "         429., 430., 431., 432., 433., 434., 435., 436., 437., 438., 439.,\n",
       "         440., 441., 442., 443., 444., 445., 446., 447., 448., 449., 450.,\n",
       "         451., 452., 453., 454., 455., 456., 457., 458., 459., 460., 461.,\n",
       "         462., 463., 464., 465., 466., 467., 468., 469., 470., 471., 472.,\n",
       "         473., 474., 475., 476., 477., 478., 479., 480., 481., 482., 483.,\n",
       "         484., 485., 486., 487., 488., 489., 490., 491., 492., 493., 494.,\n",
       "         495., 496., 497., 498., 499., 500.])),\n",
       " (<__main__.DummyArray: spectrum at 139695424400016>,\n",
       "  array([1.78110225e-01, 2.05507137e-01, 4.07047793e-01, 2.45309715e-01,\n",
       "         9.36258836e-01, 9.33198394e-01, 8.01829606e-01, 9.53567392e-01,\n",
       "         6.85186962e-01, 5.92029729e-01, 4.62954341e-01, 5.74871165e-01,\n",
       "         7.79931383e-01, 6.51984728e-01, 5.56725280e-01, 3.34439286e-01,\n",
       "         9.13955469e-01, 9.88056435e-01, 1.15243686e-01, 3.67209207e-01,\n",
       "         5.49669951e-01, 1.99125635e-02, 6.64363660e-01, 2.79371171e-01,\n",
       "         8.02611714e-01, 2.84718081e-01, 3.19524324e-01, 6.24931972e-01,\n",
       "         6.93548723e-01, 3.67023271e-01, 7.91928785e-01, 9.32655488e-01,\n",
       "         1.22268311e-02, 1.80588166e-01, 5.92279555e-01, 4.74959754e-01,\n",
       "         1.22427080e-01, 8.38674986e-01, 2.81036948e-01, 8.48378526e-01,\n",
       "         4.24099601e-01, 9.59440870e-01, 2.15785858e-01, 3.59073947e-01,\n",
       "         4.64672769e-01, 8.36707143e-01, 3.53686625e-02, 2.70531793e-02,\n",
       "         7.89696624e-01, 2.08045525e-01, 3.67883570e-01, 2.97197814e-01,\n",
       "         4.00156554e-01, 9.10806961e-01, 5.97413172e-01, 5.55521669e-01,\n",
       "         4.18951780e-01, 2.71450369e-01, 1.02559204e-01, 3.36544190e-01,\n",
       "         4.66503189e-01, 3.68356620e-01, 9.20529593e-01, 5.50386174e-01,\n",
       "         1.13291709e-01, 7.25063807e-01, 4.55439562e-01, 5.17877656e-01,\n",
       "         4.42334289e-01, 8.39733268e-01, 3.17840537e-01, 3.82230962e-01,\n",
       "         6.93553855e-01, 5.74233389e-01, 8.21201792e-01, 9.54274345e-01,\n",
       "         9.99793722e-01, 7.59349043e-01, 5.42867479e-01, 3.26498665e-02,\n",
       "         1.65217195e-01, 5.94854436e-01, 3.42870192e-01, 7.97654742e-01,\n",
       "         9.34635768e-02, 7.48571316e-01, 3.30495965e-01, 6.22026762e-01,\n",
       "         3.57520243e-02, 1.03091721e-01, 2.65028952e-01, 6.32246789e-01,\n",
       "         5.12182490e-01, 8.40488514e-01, 5.93673428e-01, 5.00987386e-01,\n",
       "         7.41682564e-01, 4.31943740e-01, 2.85976260e-01, 8.13510588e-01,\n",
       "         1.48707251e-01, 8.54059413e-01, 1.92527662e-02, 8.51641353e-01,\n",
       "         7.39969334e-01, 1.11051354e-02, 4.95317306e-01, 8.14287351e-01,\n",
       "         4.63553627e-01, 1.10443981e-01, 8.96333124e-01, 1.49011952e-01,\n",
       "         1.23287528e-01, 1.66179032e-01, 4.44276819e-01, 4.84999879e-01,\n",
       "         6.75480274e-01, 4.23912837e-01, 3.58589561e-01, 7.04998708e-01,\n",
       "         9.71570451e-01, 7.43222507e-01, 7.48761070e-01, 3.53034056e-01,\n",
       "         1.56805650e-01, 3.45159883e-01, 3.26964155e-01, 8.98030332e-01,\n",
       "         6.57780835e-01, 4.40239859e-01, 3.24279291e-01, 2.45234442e-01,\n",
       "         4.40970137e-01, 7.92689231e-01, 7.63208697e-01, 4.48485059e-01,\n",
       "         3.65316521e-01, 7.72746187e-01, 2.59657180e-03, 9.01473008e-01,\n",
       "         4.67690789e-01, 5.95303869e-01, 1.48024325e-01, 6.04998422e-01,\n",
       "         1.05773328e-01, 9.71112538e-01, 6.79801559e-02, 6.71628560e-01,\n",
       "         4.54138326e-01, 6.36420960e-01, 4.90778555e-02, 4.67685429e-01,\n",
       "         3.03816682e-02, 7.46677272e-02, 9.43289999e-01, 5.99942308e-02,\n",
       "         5.52279569e-01, 4.93930872e-01, 1.06506274e-01, 8.69793400e-01,\n",
       "         7.45534731e-01, 3.64751291e-01, 2.21381599e-01, 8.64873923e-02,\n",
       "         9.74518719e-01, 5.59664940e-01, 6.45967663e-01, 8.56386247e-01,\n",
       "         1.18189579e-01, 1.06696895e-01, 9.45656078e-01, 9.75493555e-01,\n",
       "         5.46167947e-02, 1.04085558e-01, 6.57021263e-01, 9.69459742e-01,\n",
       "         2.97920294e-01, 8.73495461e-01, 8.89333347e-02, 2.95121723e-01,\n",
       "         8.07840560e-01, 9.30867363e-01, 8.70432582e-01, 9.39635701e-01,\n",
       "         1.27356788e-01, 7.46751758e-01, 9.51477210e-01, 7.18494631e-01,\n",
       "         5.49648429e-01, 9.91128757e-01, 9.95827461e-01, 7.15657828e-01,\n",
       "         1.99664464e-02, 4.49660738e-01, 9.87170863e-01, 6.74697809e-01,\n",
       "         5.79104495e-01, 9.67951069e-01, 1.73352007e-01, 4.43333968e-01,\n",
       "         7.86422951e-01, 7.04848510e-01, 7.97175446e-02, 5.75266803e-01,\n",
       "         5.75616087e-01, 8.32915276e-01, 1.28695285e-01, 7.21851564e-01,\n",
       "         8.22473890e-01, 3.15065165e-01, 6.86171499e-01, 7.04486281e-01,\n",
       "         5.22687365e-01, 4.25530636e-01, 1.37646129e-01, 9.78891300e-01,\n",
       "         5.37764931e-01, 2.91594780e-01, 9.07475204e-01, 4.60649611e-01,\n",
       "         3.93845893e-01, 3.82661122e-01, 6.08975964e-01, 1.16946211e-01,\n",
       "         3.85410188e-01, 5.69305277e-01, 5.38584321e-01, 1.41244482e-01,\n",
       "         1.93268893e-01, 4.81015735e-01, 7.54751153e-01, 3.03721707e-02,\n",
       "         1.66574288e-01, 4.02944068e-01, 1.40151297e-01, 2.35784407e-01,\n",
       "         9.95194447e-01, 5.15102059e-01, 5.81657693e-01, 8.91956255e-01,\n",
       "         8.05965527e-01, 7.40055488e-01, 4.13121230e-01, 9.34964585e-01,\n",
       "         8.00531253e-01, 6.89156252e-01, 4.06459505e-02, 1.33361731e-01,\n",
       "         6.48015953e-01, 3.65278632e-01, 1.37101946e-01, 1.24923784e-01,\n",
       "         8.13834166e-01, 5.94406851e-01, 1.70226006e-01, 3.09356843e-01,\n",
       "         9.82626052e-01, 3.19428822e-02, 4.85603980e-01, 3.09793266e-01,\n",
       "         9.23679074e-01, 6.53668201e-01, 4.02146317e-02, 2.27578015e-01,\n",
       "         1.07581357e-01, 4.55625920e-01, 5.63136950e-01, 8.06092067e-01,\n",
       "         3.29598829e-01, 8.28028456e-01, 5.95366333e-01, 2.67791464e-01,\n",
       "         2.45525787e-01, 1.03549723e-01, 5.88457864e-01, 1.90338376e-01,\n",
       "         6.42964099e-02, 7.68725965e-01, 2.66808681e-01, 8.92598403e-01,\n",
       "         8.84411671e-01, 3.62300367e-01, 4.51154540e-01, 7.02303232e-01,\n",
       "         8.93387550e-01, 5.10768622e-01, 4.57727220e-01, 7.48884343e-01,\n",
       "         2.44606189e-01, 2.42135225e-01, 3.31348631e-01, 3.82365125e-02,\n",
       "         9.05555083e-01, 6.01791640e-01, 6.86053958e-01, 9.94492615e-01,\n",
       "         8.68199626e-01, 1.92673416e-01, 5.99874801e-01, 3.03953748e-01,\n",
       "         2.72998477e-01, 8.44307373e-04, 7.29775659e-01, 5.56631183e-01,\n",
       "         9.51064711e-01, 1.22006486e-01, 8.66713016e-01, 5.75373949e-01,\n",
       "         8.05155948e-01, 6.66645859e-01, 5.14775983e-02, 1.25204266e-01,\n",
       "         3.11039122e-01, 2.45888952e-01, 6.90466119e-01, 1.11531804e-01,\n",
       "         6.82218570e-01, 7.21812146e-01, 9.93715980e-02, 1.33998291e-01,\n",
       "         9.00261801e-01, 4.13341137e-01, 2.03729489e-01, 4.47068804e-01,\n",
       "         6.52370333e-01, 4.39183994e-01, 7.79758500e-01, 2.77131532e-01,\n",
       "         9.08188164e-01, 1.31995547e-01, 9.37641142e-01, 6.59050288e-01,\n",
       "         6.88722575e-02, 5.06100040e-01, 7.97650703e-01, 5.98005588e-01,\n",
       "         1.43037987e-01, 2.25901943e-01, 9.80080100e-02, 9.83441827e-01,\n",
       "         7.95287260e-01, 2.11598938e-01, 8.45273057e-01, 9.77231227e-01,\n",
       "         8.19537368e-01, 9.22040106e-01, 9.89497606e-01, 3.83001312e-01,\n",
       "         1.64574170e-01, 7.51293916e-02, 4.03314736e-01, 5.40481021e-01,\n",
       "         3.41115388e-01, 6.99728808e-01, 7.99755371e-01, 1.74038893e-01,\n",
       "         5.58656767e-01, 6.58297396e-01, 3.55556315e-01, 9.18238387e-01,\n",
       "         4.26334005e-01, 3.44083520e-01, 4.27062139e-01, 1.17354275e-01,\n",
       "         1.54123345e-01, 1.81930577e-01, 3.37489561e-01, 2.91909022e-01,\n",
       "         6.04400542e-01, 1.96675754e-01, 5.79618428e-01, 9.08533788e-01,\n",
       "         7.94231469e-02, 4.53644033e-02, 5.35485976e-01, 5.51704885e-01,\n",
       "         4.00472842e-01, 8.61725626e-02, 6.75152995e-01, 2.84659902e-01,\n",
       "         3.15702430e-01, 1.69390728e-01, 5.05774403e-01, 5.94537103e-02,\n",
       "         1.32352163e-01, 4.76378827e-01, 5.08406295e-01, 9.57544362e-01,\n",
       "         9.20784191e-01, 3.35510433e-01, 7.33568636e-01, 8.89858007e-01,\n",
       "         2.58931183e-02, 4.24896817e-01, 2.31383208e-01, 2.72847476e-01,\n",
       "         2.50823136e-02, 4.82399019e-02, 4.03403263e-01, 6.23510175e-02,\n",
       "         3.61680241e-01, 6.72069199e-01, 3.80491236e-01, 2.50937712e-01,\n",
       "         9.74712844e-01, 8.96512907e-01, 7.99807159e-01, 9.23806727e-01,\n",
       "         2.35381905e-01, 2.25667296e-02, 3.54095329e-01, 8.40055455e-01,\n",
       "         3.32116761e-01, 1.24120126e-01, 7.23774535e-01, 5.44765852e-01,\n",
       "         8.46232914e-01, 7.47134747e-01, 9.45780230e-03, 5.33280234e-01,\n",
       "         6.37265242e-01, 8.64156170e-01, 6.83371959e-01, 3.55248721e-01,\n",
       "         6.68377399e-01, 9.17700337e-01, 4.79762377e-01, 3.28010101e-01,\n",
       "         6.08125863e-02, 3.94664864e-01, 2.64313609e-01, 4.89062569e-01,\n",
       "         8.79228547e-01, 2.11920935e-01, 4.17150523e-02, 1.93806729e-01,\n",
       "         6.08870325e-02, 9.29779408e-01, 1.58272720e-02, 1.29982554e-01,\n",
       "         8.01473365e-01, 2.78618761e-01, 1.05572820e-01, 4.93699820e-01,\n",
       "         3.62012226e-01, 7.05306752e-01, 4.88757195e-01, 5.29231160e-01,\n",
       "         6.38266885e-01, 9.59088396e-01, 1.77890566e-01, 4.87526155e-02,\n",
       "         9.66333462e-01, 3.39462893e-01, 4.57240106e-01, 2.68497045e-02,\n",
       "         6.88881943e-01, 2.62820574e-01, 4.23836023e-01, 4.51828590e-01,\n",
       "         6.63836909e-01, 2.26355196e-01, 4.41734517e-01, 9.45379745e-01,\n",
       "         1.96607651e-03, 3.80264814e-01, 2.35658002e-01, 5.80822023e-01,\n",
       "         5.89865385e-01, 7.99565860e-01, 6.07747571e-01, 8.74234098e-01,\n",
       "         4.75547317e-01, 2.76115436e-01, 1.25811775e-02, 5.74640858e-01,\n",
       "         5.81877856e-01, 1.18297648e-01, 9.09356996e-01, 8.97979232e-01,\n",
       "         2.02301200e-01, 3.81790572e-02, 4.38504631e-01, 3.82338175e-01,\n",
       "         6.92702449e-01, 4.20827603e-01, 5.27347272e-01, 2.92350665e-01,\n",
       "         8.84877313e-01, 4.61786008e-01, 2.38484981e-01, 7.61002639e-01,\n",
       "         1.94652005e-01, 8.98484031e-01, 9.98688665e-01, 7.19866704e-01,\n",
       "         5.84778904e-01, 3.04224418e-01, 4.22592021e-01, 1.89962496e-01,\n",
       "         4.07832529e-02]))]"
      ]
     },
     "execution_count": 20,
     "metadata": {},
     "output_type": "execute_result"
    }
   ],
   "source": [
    "expand_setpoints_helper(a.spectrum)"
   ]
  },
  {
   "cell_type": "code",
   "execution_count": 21,
   "metadata": {},
   "outputs": [
    {
     "name": "stdout",
     "output_type": "stream",
     "text": [
      "Starting experimental run with id: 2. \n"
     ]
    }
   ],
   "source": [
    "meas = Measurement()\n",
    "meas.register_parameter(a.spectrum)\n",
    "\n",
    "with meas.run() as datasaver:\n",
    "    datasaver.add_result(*expand_setpoints_helper(a.spectrum))\n",
    "    \n",
    "    dataid = datasaver.run_id"
   ]
  },
  {
   "cell_type": "code",
   "execution_count": null,
   "metadata": {},
   "outputs": [],
   "source": []
  }
 ],
 "metadata": {
  "kernelspec": {
   "display_name": "Python 3",
   "language": "python",
   "name": "python3"
  },
  "language_info": {
   "codemirror_mode": {
    "name": "ipython",
    "version": 3
   },
   "file_extension": ".py",
   "mimetype": "text/x-python",
   "name": "python",
   "nbconvert_exporter": "python",
   "pygments_lexer": "ipython3",
   "version": "3.7.5"
  },
  "toc": {
   "base_numbering": 1,
   "nav_menu": {},
   "number_sections": true,
   "sideBar": true,
   "skip_h1_title": false,
   "title_cell": "Table of Contents",
   "title_sidebar": "Contents",
   "toc_cell": false,
   "toc_position": {},
   "toc_section_display": true,
   "toc_window_display": false
  },
  "varInspector": {
   "cols": {
    "lenName": 16,
    "lenType": 16,
    "lenVar": 40
   },
   "kernels_config": {
    "python": {
     "delete_cmd_postfix": "",
     "delete_cmd_prefix": "del ",
     "library": "var_list.py",
     "varRefreshCmd": "print(var_dic_list())"
    },
    "r": {
     "delete_cmd_postfix": ") ",
     "delete_cmd_prefix": "rm(",
     "library": "var_list.r",
     "varRefreshCmd": "cat(var_dic_list()) "
    }
   },
   "types_to_exclude": [
    "module",
    "function",
    "builtin_function_or_method",
    "instance",
    "_Feature"
   ],
   "window_display": false
  }
 },
 "nbformat": 4,
 "nbformat_minor": 2
}
