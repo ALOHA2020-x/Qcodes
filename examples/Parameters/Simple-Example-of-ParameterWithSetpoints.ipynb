{
 "cells": [
  {
   "cell_type": "markdown",
   "metadata": {},
   "source": [
    "# Simple Example of ParameterWithSetpoints\n",
    "This notebook provides an example for writing a simple driver with a parameter that has setpoints. Let's name this parameter that has setpoints as \"y\". Then, the setpoints, say \"x1, x2, x3 ..\", are the parameters on which the parameter \n",
    "\"y\" depends upon. Meaning \"y\" is a function of \"x1, x2, x3 ...\" where \"x1, x2, x3 ...\" are known as the setpoints of parameter \"y\".\n",
    "\n",
    "This is most likely to be useful for instruments that return arrays of results. In this notebook, we will show an example of this."
   ]
  },
  {
   "cell_type": "code",
   "execution_count": 1,
   "metadata": {
    "execution": {
     "iopub.execute_input": "2020-09-17T06:28:29.038453Z",
     "iopub.status.busy": "2020-09-17T06:28:29.037864Z",
     "iopub.status.idle": "2020-09-17T06:28:29.138996Z",
     "shell.execute_reply": "2020-09-17T06:28:29.138360Z"
    }
   },
   "outputs": [],
   "source": [
    "import numpy as np\n",
    "import os"
   ]
  },
  {
   "cell_type": "code",
   "execution_count": 2,
   "metadata": {
    "execution": {
     "iopub.execute_input": "2020-09-17T06:28:29.143300Z",
     "iopub.status.busy": "2020-09-17T06:28:29.142751Z",
     "iopub.status.idle": "2020-09-17T06:28:30.137693Z",
     "shell.execute_reply": "2020-09-17T06:28:30.136886Z"
    }
   },
   "outputs": [
    {
     "name": "stdout",
     "output_type": "stream",
     "text": [
      "Logging hadn't been started.\n",
      "Activating auto-logging. Current session state plus future input saved.\n",
      "Filename       : /home/vsts/.qcodes/logs/command_history.log\n",
      "Mode           : append\n",
      "Output logging : True\n",
      "Raw input log  : False\n",
      "Timestamping   : True\n",
      "State          : active\n"
     ]
    },
    {
     "name": "stdout",
     "output_type": "stream",
     "text": [
      "Qcodes Logfile : /home/vsts/.qcodes/logs/200917-22006-qcodes.log\n"
     ]
    }
   ],
   "source": [
    "from qcodes.dataset.plotting import plot_dataset\n",
    "from qcodes.utils.validators import Numbers, Arrays\n",
    "from qcodes.instrument.base import Instrument\n",
    "from qcodes.dataset.measurements import Measurement"
   ]
  },
  {
   "cell_type": "code",
   "execution_count": 3,
   "metadata": {
    "execution": {
     "iopub.execute_input": "2020-09-17T06:28:30.141662Z",
     "iopub.status.busy": "2020-09-17T06:28:30.141010Z",
     "iopub.status.idle": "2020-09-17T06:28:30.144672Z",
     "shell.execute_reply": "2020-09-17T06:28:30.144196Z"
    }
   },
   "outputs": [],
   "source": [
    "from qcodes.dataset.sqlite.database import initialise_or_create_database_at\n",
    "from qcodes.dataset.experiment_container import load_or_create_experiment"
   ]
  },
  {
   "cell_type": "code",
   "execution_count": 4,
   "metadata": {
    "execution": {
     "iopub.execute_input": "2020-09-17T06:28:30.148359Z",
     "iopub.status.busy": "2020-09-17T06:28:30.147815Z",
     "iopub.status.idle": "2020-09-17T06:28:30.151123Z",
     "shell.execute_reply": "2020-09-17T06:28:30.151540Z"
    }
   },
   "outputs": [],
   "source": [
    "from qcodes.instrument.parameter import ParameterWithSetpoints, Parameter\n",
    "from qcodes.instrument.parameter import expand_setpoints_helper"
   ]
  },
  {
   "cell_type": "markdown",
   "metadata": {},
   "source": [
    "First, we define a dummy instrument that returns something like a frequency spectrum starting from a frequency given by `f_start` to a frequency given by `f_stop` in `n_points` steps. \n",
    "\n",
    "The extra functionality of the `ParameterWithSetpoints` is implemented by giving it a reference to one or more parameters that acts like its setpoints. \n",
    "\n",
    "To setup a `ParameterWithSetpoints` we have to do two things in addition to what we do for a normal parameter.\n",
    "\n",
    "* Define one or more parameter for the setpoints (one for each dimension of the array and let the `ParameterWithSetpoints` know that these are the setpoints.\n",
    "* Give both the setpoints parameter(s) and the `ParameterWithSetpoints` a `validator` of type `Arrays` with a shape. The shapes should be such that the combined shape of the setpoints matches the shape of the `ParameterWithSetpoints`. Note that if the shape changes with the setting of the instrument, it can be defined by another parameter as shown below. "
   ]
  },
  {
   "cell_type": "code",
   "execution_count": 5,
   "metadata": {
    "execution": {
     "iopub.execute_input": "2020-09-17T06:28:30.160702Z",
     "iopub.status.busy": "2020-09-17T06:28:30.158866Z",
     "iopub.status.idle": "2020-09-17T06:28:30.163729Z",
     "shell.execute_reply": "2020-09-17T06:28:30.163253Z"
    }
   },
   "outputs": [],
   "source": [
    "class GeneratedSetPoints(Parameter):\n",
    "    \"\"\"\n",
    "    A parameter that generates a setpoint array from start, stop and num points\n",
    "    parameters.\n",
    "    \"\"\"\n",
    "    def __init__(self, startparam, stopparam, numpointsparam, *args, **kwargs):\n",
    "        super().__init__(*args, **kwargs)\n",
    "        self._startparam = startparam\n",
    "        self._stopparam = stopparam\n",
    "        self._numpointsparam = numpointsparam\n",
    "\n",
    "    def get_raw(self):\n",
    "        return np.linspace(self._startparam(), self._stopparam(),\n",
    "                              self._numpointsparam())\n",
    "\n",
    "class DummyArray(ParameterWithSetpoints):\n",
    "    \n",
    "    def get_raw(self):\n",
    "        npoints = self.root_instrument.n_points.get_latest()\n",
    "        return np.random.rand(npoints)\n",
    "    \n",
    "\n",
    "class DummySpectrumAnalyzer(Instrument):\n",
    "    \n",
    "    def __init__(self, name, **kwargs):\n",
    "        \n",
    "        super().__init__(name, **kwargs)\n",
    "            \n",
    "\n",
    "        self.add_parameter('f_start',\n",
    "                           initial_value=0,\n",
    "                           unit='Hz',\n",
    "                           label='f start',\n",
    "                           vals=Numbers(0,1e3),\n",
    "                           get_cmd=None,\n",
    "                           set_cmd=None)\n",
    "\n",
    "        self.add_parameter('f_stop',\n",
    "                           unit='Hz',\n",
    "                           label='f stop',\n",
    "                           vals=Numbers(1,1e3),\n",
    "                           get_cmd=None,\n",
    "                           set_cmd=None)\n",
    "\n",
    "        self.add_parameter('n_points',\n",
    "                           unit='',\n",
    "                           initial_value=10,\n",
    "                           vals=Numbers(1,1e3),\n",
    "                           get_cmd=None,\n",
    "                           set_cmd=None)\n",
    "        \n",
    "        self.add_parameter('freq_axis',\n",
    "                           unit='Hz',\n",
    "                           label='Freq Axis',\n",
    "                           parameter_class=GeneratedSetPoints,\n",
    "                           startparam=self.f_start,\n",
    "                           stopparam=self.f_stop,\n",
    "                           numpointsparam=self.n_points,\n",
    "                           vals=Arrays(shape=(self.n_points.get_latest,)))\n",
    "                           \n",
    "        self.add_parameter('spectrum',\n",
    "                   unit='dBm',\n",
    "                   setpoints=(self.freq_axis,),\n",
    "                   label='Spectrum',\n",
    "                   parameter_class=DummyArray,\n",
    "                   vals=Arrays(shape=(self.n_points.get_latest,)))\n",
    "                "
   ]
  },
  {
   "cell_type": "markdown",
   "metadata": {},
   "source": [
    "In the above example, the shape is defined by the parameter `n_points` that defines how many samples our `DummySpectrumAnalyzer` returns.\n",
    "\n",
    "This means that the validation will call the function to get `n_points` twice for each `get` of the parameter. This may be too slow, however, if you (as the driver-writer) can guarantee that the cached value for `n_points` will never be out of sync with the value stored in the instrument, `n_points` may be replaced by it's latest known value such that the `validator` reads:\n",
    "```python\n",
    "vals=Arrays(shape=(self.n_points.get_latest))\n",
    "```\n",
    "\n",
    "This avoids any additional call to the instrument. In the same way, the arguments to the `freq_axis` parameter that defines the start, stop and number of points can be replaced by their latest value if the instrument allows it.\n",
    "\n"
   ]
  },
  {
   "cell_type": "code",
   "execution_count": 6,
   "metadata": {
    "execution": {
     "iopub.execute_input": "2020-09-17T06:28:30.167098Z",
     "iopub.status.busy": "2020-09-17T06:28:30.166561Z",
     "iopub.status.idle": "2020-09-17T06:28:30.246963Z",
     "shell.execute_reply": "2020-09-17T06:28:30.247464Z"
    }
   },
   "outputs": [
    {
     "name": "stdout",
     "output_type": "stream",
     "text": [
      "\r",
      "0it [00:00, ?it/s]"
     ]
    },
    {
     "name": "stdout",
     "output_type": "stream",
     "text": [
      "\r",
      "Upgrading database; v0 -> v1: : 0it [00:00, ?it/s]"
     ]
    },
    {
     "name": "stdout",
     "output_type": "stream",
     "text": [
      "\r",
      "Upgrading database; v0 -> v1: : 0it [00:00, ?it/s]"
     ]
    },
    {
     "name": "stdout",
     "output_type": "stream",
     "text": [
      "\n",
      "\r",
      "  0%|          | 0/1 [00:00<?, ?it/s]"
     ]
    },
    {
     "name": "stdout",
     "output_type": "stream",
     "text": [
      "\r",
      "Upgrading database; v1 -> v2:   0%|          | 0/1 [00:00<?, ?it/s]"
     ]
    },
    {
     "name": "stdout",
     "output_type": "stream",
     "text": [
      "\r",
      "Upgrading database; v1 -> v2: 100%|██████████| 1/1 [00:00<00:00, 476.03it/s]"
     ]
    },
    {
     "name": "stdout",
     "output_type": "stream",
     "text": [
      "\n",
      "\r",
      "0it [00:00, ?it/s]"
     ]
    },
    {
     "name": "stdout",
     "output_type": "stream",
     "text": [
      "\r",
      "Upgrading database; v2 -> v3: : 0it [00:00, ?it/s]"
     ]
    },
    {
     "name": "stdout",
     "output_type": "stream",
     "text": [
      "\r",
      "Upgrading database; v2 -> v3: : 0it [00:00, ?it/s]"
     ]
    },
    {
     "name": "stdout",
     "output_type": "stream",
     "text": [
      "\n",
      "\r",
      "0it [00:00, ?it/s]"
     ]
    },
    {
     "name": "stdout",
     "output_type": "stream",
     "text": [
      "\r",
      "Upgrading database; v3 -> v4: : 0it [00:00, ?it/s]"
     ]
    },
    {
     "name": "stdout",
     "output_type": "stream",
     "text": [
      "\r",
      "Upgrading database; v3 -> v4: : 0it [00:00, ?it/s]"
     ]
    },
    {
     "name": "stdout",
     "output_type": "stream",
     "text": [
      "\n",
      "\r",
      "  0%|          | 0/1 [00:00<?, ?it/s]"
     ]
    },
    {
     "name": "stdout",
     "output_type": "stream",
     "text": [
      "\r",
      "Upgrading database; v4 -> v5:   0%|          | 0/1 [00:00<?, ?it/s]"
     ]
    },
    {
     "name": "stdout",
     "output_type": "stream",
     "text": [
      "\r",
      "Upgrading database; v4 -> v5: 100%|██████████| 1/1 [00:00<00:00, 409.60it/s]"
     ]
    },
    {
     "name": "stdout",
     "output_type": "stream",
     "text": [
      "\n",
      "\r",
      "0it [00:00, ?it/s]"
     ]
    },
    {
     "name": "stdout",
     "output_type": "stream",
     "text": [
      "\r",
      "Upgrading database; v5 -> v6: : 0it [00:00, ?it/s]"
     ]
    },
    {
     "name": "stdout",
     "output_type": "stream",
     "text": [
      "\r",
      "Upgrading database; v5 -> v6: : 0it [00:00, ?it/s]"
     ]
    },
    {
     "name": "stdout",
     "output_type": "stream",
     "text": [
      "\n",
      "\r",
      "  0%|          | 0/1 [00:00<?, ?it/s]"
     ]
    },
    {
     "name": "stdout",
     "output_type": "stream",
     "text": [
      "\r",
      "Upgrading database; v6 -> v7:   0%|          | 0/1 [00:00<?, ?it/s]"
     ]
    },
    {
     "name": "stdout",
     "output_type": "stream",
     "text": [
      "\r",
      "Upgrading database; v6 -> v7: 100%|██████████| 1/1 [00:00<00:00, 253.25it/s]"
     ]
    },
    {
     "name": "stdout",
     "output_type": "stream",
     "text": [
      "\n",
      "\r",
      "  0%|          | 0/1 [00:00<?, ?it/s]"
     ]
    },
    {
     "name": "stdout",
     "output_type": "stream",
     "text": [
      "\r",
      "Upgrading database; v7 -> v8:   0%|          | 0/1 [00:00<?, ?it/s]"
     ]
    },
    {
     "name": "stdout",
     "output_type": "stream",
     "text": [
      "\r",
      "Upgrading database; v7 -> v8: 100%|██████████| 1/1 [00:00<00:00, 705.87it/s]"
     ]
    },
    {
     "name": "stdout",
     "output_type": "stream",
     "text": [
      "\n",
      "\r",
      "  0%|          | 0/1 [00:00<?, ?it/s]"
     ]
    },
    {
     "name": "stdout",
     "output_type": "stream",
     "text": [
      "\r",
      "Upgrading database; v8 -> v9:   0%|          | 0/1 [00:00<?, ?it/s]"
     ]
    },
    {
     "name": "stdout",
     "output_type": "stream",
     "text": [
      "\r",
      "Upgrading database; v8 -> v9: 100%|██████████| 1/1 [00:00<00:00, 456.75it/s]"
     ]
    },
    {
     "name": "stdout",
     "output_type": "stream",
     "text": [
      "\n"
     ]
    },
    {
     "data": {
      "text/plain": [
       "tutorial_ParameterWithSetpoints#no sample#1@/home/vsts/work/1/s/docs/examples/Parameters/tutorial_paramter_with_setpoints.db\n",
       "----------------------------------------------------------------------------------------------------------------------------"
      ]
     },
     "execution_count": 1,
     "metadata": {},
     "output_type": "execute_result"
    }
   ],
   "source": [
    "tutorial_db_path = os.path.join(os.getcwd(), 'tutorial_paramter_with_setpoints.db')\n",
    "initialise_or_create_database_at(tutorial_db_path)\n",
    "load_or_create_experiment(experiment_name='tutorial_ParameterWithSetpoints', sample_name=\"no sample\")"
   ]
  },
  {
   "cell_type": "code",
   "execution_count": 7,
   "metadata": {
    "execution": {
     "iopub.execute_input": "2020-09-17T06:28:30.252436Z",
     "iopub.status.busy": "2020-09-17T06:28:30.251205Z",
     "iopub.status.idle": "2020-09-17T06:28:30.252930Z",
     "shell.execute_reply": "2020-09-17T06:28:30.253426Z"
    }
   },
   "outputs": [],
   "source": [
    "a = DummySpectrumAnalyzer('foobar')"
   ]
  },
  {
   "cell_type": "markdown",
   "metadata": {},
   "source": [
    "First we setup the limits of the spectrum"
   ]
  },
  {
   "cell_type": "code",
   "execution_count": 8,
   "metadata": {
    "execution": {
     "iopub.execute_input": "2020-09-17T06:28:30.257350Z",
     "iopub.status.busy": "2020-09-17T06:28:30.256494Z",
     "iopub.status.idle": "2020-09-17T06:28:30.258106Z",
     "shell.execute_reply": "2020-09-17T06:28:30.258593Z"
    }
   },
   "outputs": [],
   "source": [
    "a.f_start(0)\n",
    "a.f_stop(500)\n",
    "a.n_points(501)"
   ]
  },
  {
   "cell_type": "markdown",
   "metadata": {},
   "source": [
    "And we can grab the frequency axis"
   ]
  },
  {
   "cell_type": "code",
   "execution_count": 9,
   "metadata": {
    "execution": {
     "iopub.execute_input": "2020-09-17T06:28:30.262507Z",
     "iopub.status.busy": "2020-09-17T06:28:30.262009Z",
     "iopub.status.idle": "2020-09-17T06:28:30.264285Z",
     "shell.execute_reply": "2020-09-17T06:28:30.264773Z"
    }
   },
   "outputs": [
    {
     "data": {
      "text/plain": [
       "501"
      ]
     },
     "execution_count": 1,
     "metadata": {},
     "output_type": "execute_result"
    }
   ],
   "source": [
    "a.n_points()"
   ]
  },
  {
   "cell_type": "code",
   "execution_count": 10,
   "metadata": {
    "execution": {
     "iopub.execute_input": "2020-09-17T06:28:30.268943Z",
     "iopub.status.busy": "2020-09-17T06:28:30.267943Z",
     "iopub.status.idle": "2020-09-17T06:28:30.270727Z",
     "shell.execute_reply": "2020-09-17T06:28:30.271244Z"
    },
    "scrolled": false
   },
   "outputs": [
    {
     "data": {
      "text/plain": [
       "501"
      ]
     },
     "execution_count": 1,
     "metadata": {},
     "output_type": "execute_result"
    }
   ],
   "source": [
    "freq_axis = a.freq_axis()\n",
    "len(freq_axis)"
   ]
  },
  {
   "cell_type": "code",
   "execution_count": 11,
   "metadata": {
    "execution": {
     "iopub.execute_input": "2020-09-17T06:28:30.276179Z",
     "iopub.status.busy": "2020-09-17T06:28:30.275596Z",
     "iopub.status.idle": "2020-09-17T06:28:30.278093Z",
     "shell.execute_reply": "2020-09-17T06:28:30.278643Z"
    }
   },
   "outputs": [
    {
     "data": {
      "text/plain": [
       "array([0., 1., 2., 3., 4., 5., 6., 7., 8., 9.])"
      ]
     },
     "execution_count": 1,
     "metadata": {},
     "output_type": "execute_result"
    }
   ],
   "source": [
    "freq_axis[:10]"
   ]
  },
  {
   "cell_type": "markdown",
   "metadata": {},
   "source": [
    "As expected we get a result wit 501 points as we asked for an axis with 501 points. "
   ]
  },
  {
   "cell_type": "markdown",
   "metadata": {},
   "source": [
    "Above we have added a validator to the `freq_axis` parameter encoding the fact that this is an Array with `n_points`. Note that we do not have to supply the number of points as an integer but can supply a function that returns the valid number of points. This would normally be a QCoDeS parameter.\n",
    "\n",
    "This will be checked if we validate the output."
   ]
  },
  {
   "cell_type": "code",
   "execution_count": 12,
   "metadata": {
    "execution": {
     "iopub.execute_input": "2020-09-17T06:28:30.283270Z",
     "iopub.status.busy": "2020-09-17T06:28:30.282743Z",
     "iopub.status.idle": "2020-09-17T06:28:30.285338Z",
     "shell.execute_reply": "2020-09-17T06:28:30.284767Z"
    }
   },
   "outputs": [],
   "source": [
    "a.freq_axis.validate(a.freq_axis.get())"
   ]
  },
  {
   "cell_type": "markdown",
   "metadata": {},
   "source": [
    "Naturally, we can also get the spectrum. Getting the spectrum will automatically perform validation both for the shape of the parameter itself and the relation to the setpoint parameter(s)"
   ]
  },
  {
   "cell_type": "code",
   "execution_count": 13,
   "metadata": {
    "execution": {
     "iopub.execute_input": "2020-09-17T06:28:30.289460Z",
     "iopub.status.busy": "2020-09-17T06:28:30.288523Z",
     "iopub.status.idle": "2020-09-17T06:28:30.291526Z",
     "shell.execute_reply": "2020-09-17T06:28:30.291015Z"
    },
    "scrolled": true
   },
   "outputs": [
    {
     "data": {
      "text/plain": [
       "501"
      ]
     },
     "execution_count": 1,
     "metadata": {},
     "output_type": "execute_result"
    }
   ],
   "source": [
    "spectrum = a.spectrum.get()\n",
    "len(spectrum)"
   ]
  },
  {
   "cell_type": "markdown",
   "metadata": {},
   "source": [
    "When we validate a `ParameterWithSetpoints`, we automatically validate that the shape is consistent between the parameters and its setpoints. As well as validating the shape as above."
   ]
  },
  {
   "cell_type": "code",
   "execution_count": 14,
   "metadata": {
    "execution": {
     "iopub.execute_input": "2020-09-17T06:28:30.295072Z",
     "iopub.status.busy": "2020-09-17T06:28:30.294578Z",
     "iopub.status.idle": "2020-09-17T06:28:30.297046Z",
     "shell.execute_reply": "2020-09-17T06:28:30.296532Z"
    }
   },
   "outputs": [],
   "source": [
    "a.spectrum.validate(a.spectrum.get())"
   ]
  },
  {
   "cell_type": "markdown",
   "metadata": {},
   "source": [
    "The consistent shapes can be validated explicitly."
   ]
  },
  {
   "cell_type": "code",
   "execution_count": 15,
   "metadata": {
    "execution": {
     "iopub.execute_input": "2020-09-17T06:28:30.301133Z",
     "iopub.status.busy": "2020-09-17T06:28:30.300128Z",
     "iopub.status.idle": "2020-09-17T06:28:30.301699Z",
     "shell.execute_reply": "2020-09-17T06:28:30.302191Z"
    }
   },
   "outputs": [],
   "source": [
    "a.spectrum.validate_consistent_shape()"
   ]
  },
  {
   "cell_type": "markdown",
   "metadata": {},
   "source": [
    "We can inspect the setpoints of the spectrum."
   ]
  },
  {
   "cell_type": "code",
   "execution_count": 16,
   "metadata": {
    "execution": {
     "iopub.execute_input": "2020-09-17T06:28:30.305936Z",
     "iopub.status.busy": "2020-09-17T06:28:30.305440Z",
     "iopub.status.idle": "2020-09-17T06:28:30.307254Z",
     "shell.execute_reply": "2020-09-17T06:28:30.307770Z"
    }
   },
   "outputs": [
    {
     "data": {
      "text/plain": [
       "(<__main__.GeneratedSetPoints: freq_axis at 140087939392144>,)"
      ]
     },
     "execution_count": 1,
     "metadata": {},
     "output_type": "execute_result"
    }
   ],
   "source": [
    "a.spectrum.setpoints"
   ]
  },
  {
   "cell_type": "markdown",
   "metadata": {},
   "source": [
    "Or even change them."
   ]
  },
  {
   "cell_type": "code",
   "execution_count": 17,
   "metadata": {
    "execution": {
     "iopub.execute_input": "2020-09-17T06:28:30.311023Z",
     "iopub.status.busy": "2020-09-17T06:28:30.310470Z",
     "iopub.status.idle": "2020-09-17T06:28:30.312379Z",
     "shell.execute_reply": "2020-09-17T06:28:30.312784Z"
    }
   },
   "outputs": [],
   "source": [
    "a.spectrum.setpoints = (a.freq_axis,)"
   ]
  },
  {
   "cell_type": "markdown",
   "metadata": {},
   "source": [
    "## Measurement"
   ]
  },
  {
   "cell_type": "markdown",
   "metadata": {},
   "source": [
    "We can also directly consume the parameter in a measurement without defining the setpoints of the parameter again. The setpoints are automatically obtained from the definition of the `ParameterWithSetpoint` instance. "
   ]
  },
  {
   "cell_type": "code",
   "execution_count": 18,
   "metadata": {
    "execution": {
     "iopub.execute_input": "2020-09-17T06:28:30.316907Z",
     "iopub.status.busy": "2020-09-17T06:28:30.316416Z",
     "iopub.status.idle": "2020-09-17T06:28:30.332460Z",
     "shell.execute_reply": "2020-09-17T06:28:30.331919Z"
    }
   },
   "outputs": [
    {
     "name": "stdout",
     "output_type": "stream",
     "text": [
      "Starting experimental run with id: 1. \n"
     ]
    }
   ],
   "source": [
    "meas = Measurement()\n",
    "meas.register_parameter(a.spectrum)\n",
    "\n",
    "with meas.run() as datasaver:\n",
    "    datasaver.add_result((a.freq_axis, a.freq_axis()),\n",
    "                         (a.spectrum, a.spectrum()))\n",
    "    dataset = datasaver.dataset"
   ]
  },
  {
   "cell_type": "markdown",
   "metadata": {},
   "source": [
    "And plot it"
   ]
  },
  {
   "cell_type": "code",
   "execution_count": 19,
   "metadata": {
    "execution": {
     "iopub.execute_input": "2020-09-17T06:28:30.335662Z",
     "iopub.status.busy": "2020-09-17T06:28:30.335114Z",
     "iopub.status.idle": "2020-09-17T06:28:30.681760Z",
     "shell.execute_reply": "2020-09-17T06:28:30.681272Z"
    }
   },
   "outputs": [
    {
     "data": {
      "text/plain": [
       "([<matplotlib.axes._subplots.AxesSubplot at 0x7f68c4751350>], [None])"
      ]
     },
     "execution_count": 1,
     "metadata": {},
     "output_type": "execute_result"
    },
    {
     "data": {
      "image/png": "[encoded data removed]",
      "text/plain": [
       "<Figure size 432x288 with 1 Axes>"
      ]
     },
     "metadata": {
      "needs_background": "light"
     },
     "output_type": "display_data"
    }
   ],
   "source": [
    "plot_dataset(dataset)"
   ]
  },
  {
   "cell_type": "markdown",
   "metadata": {},
   "source": [
    "To reduce the amount of typing a simple convenience function is provided that will take a `ParameterWithSetpoints` and get both its values and the setpoints values and return them as tuples for direct insertion into the Dataset."
   ]
  },
  {
   "cell_type": "code",
   "execution_count": 20,
   "metadata": {
    "execution": {
     "iopub.execute_input": "2020-09-17T06:28:30.697473Z",
     "iopub.status.busy": "2020-09-17T06:28:30.685282Z",
     "iopub.status.idle": "2020-09-17T06:28:30.701592Z",
     "shell.execute_reply": "2020-09-17T06:28:30.702113Z"
    },
    "scrolled": true
   },
   "outputs": [
    {
     "data": {
      "text/plain": [
       "[(<__main__.GeneratedSetPoints: freq_axis at 140087939392144>,\n",
       "  array([  0.,   1.,   2.,   3.,   4.,   5.,   6.,   7.,   8.,   9.,  10.,\n",
       "          11.,  12.,  13.,  14.,  15.,  16.,  17.,  18.,  19.,  20.,  21.,\n",
       "          22.,  23.,  24.,  25.,  26.,  27.,  28.,  29.,  30.,  31.,  32.,\n",
       "          33.,  34.,  35.,  36.,  37.,  38.,  39.,  40.,  41.,  42.,  43.,\n",
       "          44.,  45.,  46.,  47.,  48.,  49.,  50.,  51.,  52.,  53.,  54.,\n",
       "          55.,  56.,  57.,  58.,  59.,  60.,  61.,  62.,  63.,  64.,  65.,\n",
       "          66.,  67.,  68.,  69.,  70.,  71.,  72.,  73.,  74.,  75.,  76.,\n",
       "          77.,  78.,  79.,  80.,  81.,  82.,  83.,  84.,  85.,  86.,  87.,\n",
       "          88.,  89.,  90.,  91.,  92.,  93.,  94.,  95.,  96.,  97.,  98.,\n",
       "          99., 100., 101., 102., 103., 104., 105., 106., 107., 108., 109.,\n",
       "         110., 111., 112., 113., 114., 115., 116., 117., 118., 119., 120.,\n",
       "         121., 122., 123., 124., 125., 126., 127., 128., 129., 130., 131.,\n",
       "         132., 133., 134., 135., 136., 137., 138., 139., 140., 141., 142.,\n",
       "         143., 144., 145., 146., 147., 148., 149., 150., 151., 152., 153.,\n",
       "         154., 155., 156., 157., 158., 159., 160., 161., 162., 163., 164.,\n",
       "         165., 166., 167., 168., 169., 170., 171., 172., 173., 174., 175.,\n",
       "         176., 177., 178., 179., 180., 181., 182., 183., 184., 185., 186.,\n",
       "         187., 188., 189., 190., 191., 192., 193., 194., 195., 196., 197.,\n",
       "         198., 199., 200., 201., 202., 203., 204., 205., 206., 207., 208.,\n",
       "         209., 210., 211., 212., 213., 214., 215., 216., 217., 218., 219.,\n",
       "         220., 221., 222., 223., 224., 225., 226., 227., 228., 229., 230.,\n",
       "         231., 232., 233., 234., 235., 236., 237., 238., 239., 240., 241.,\n",
       "         242., 243., 244., 245., 246., 247., 248., 249., 250., 251., 252.,\n",
       "         253., 254., 255., 256., 257., 258., 259., 260., 261., 262., 263.,\n",
       "         264., 265., 266., 267., 268., 269., 270., 271., 272., 273., 274.,\n",
       "         275., 276., 277., 278., 279., 280., 281., 282., 283., 284., 285.,\n",
       "         286., 287., 288., 289., 290., 291., 292., 293., 294., 295., 296.,\n",
       "         297., 298., 299., 300., 301., 302., 303., 304., 305., 306., 307.,\n",
       "         308., 309., 310., 311., 312., 313., 314., 315., 316., 317., 318.,\n",
       "         319., 320., 321., 322., 323., 324., 325., 326., 327., 328., 329.,\n",
       "         330., 331., 332., 333., 334., 335., 336., 337., 338., 339., 340.,\n",
       "         341., 342., 343., 344., 345., 346., 347., 348., 349., 350., 351.,\n",
       "         352., 353., 354., 355., 356., 357., 358., 359., 360., 361., 362.,\n",
       "         363., 364., 365., 366., 367., 368., 369., 370., 371., 372., 373.,\n",
       "         374., 375., 376., 377., 378., 379., 380., 381., 382., 383., 384.,\n",
       "         385., 386., 387., 388., 389., 390., 391., 392., 393., 394., 395.,\n",
       "         396., 397., 398., 399., 400., 401., 402., 403., 404., 405., 406.,\n",
       "         407., 408., 409., 410., 411., 412., 413., 414., 415., 416., 417.,\n",
       "         418., 419., 420., 421., 422., 423., 424., 425., 426., 427., 428.,\n",
       "         429., 430., 431., 432., 433., 434., 435., 436., 437., 438., 439.,\n",
       "         440., 441., 442., 443., 444., 445., 446., 447., 448., 449., 450.,\n",
       "         451., 452., 453., 454., 455., 456., 457., 458., 459., 460., 461.,\n",
       "         462., 463., 464., 465., 466., 467., 468., 469., 470., 471., 472.,\n",
       "         473., 474., 475., 476., 477., 478., 479., 480., 481., 482., 483.,\n",
       "         484., 485., 486., 487., 488., 489., 490., 491., 492., 493., 494.,\n",
       "         495., 496., 497., 498., 499., 500.])),\n",
       " (<__main__.DummyArray: spectrum at 140087948208912>,\n",
       "  array([8.48995634e-01, 2.46133738e-01, 8.35688772e-01, 8.35106568e-01,\n",
       "         3.87835589e-01, 8.39706627e-02, 2.48285188e-02, 8.14169361e-01,\n",
       "         2.83505181e-01, 1.97488782e-01, 7.49185552e-01, 6.76869040e-01,\n",
       "         9.65763097e-02, 4.25578394e-01, 7.03617608e-01, 2.20019087e-01,\n",
       "         3.98951621e-01, 9.33963390e-01, 3.63872698e-01, 9.81907469e-01,\n",
       "         8.63663128e-01, 2.64752674e-01, 5.93624026e-01, 3.61963545e-01,\n",
       "         2.92588701e-01, 9.85209124e-01, 6.65733209e-01, 1.14514720e-01,\n",
       "         4.93661843e-02, 4.55111977e-01, 5.14336635e-01, 6.86857813e-01,\n",
       "         9.20300464e-01, 5.18727867e-01, 8.16651775e-01, 1.73638986e-01,\n",
       "         5.25006094e-01, 2.56408230e-02, 8.75414872e-01, 7.65794127e-01,\n",
       "         8.71106786e-01, 7.14970174e-01, 6.05918074e-01, 6.40568809e-01,\n",
       "         2.54788325e-01, 8.01790781e-01, 1.08793246e-01, 3.87269246e-01,\n",
       "         7.84857085e-01, 1.97597467e-01, 2.50867574e-01, 6.47413681e-01,\n",
       "         3.27577890e-03, 3.76051835e-01, 3.47253377e-01, 5.81243053e-01,\n",
       "         1.54170919e-01, 4.76008803e-01, 3.60498066e-01, 4.62223668e-01,\n",
       "         2.63168064e-01, 1.22160736e-01, 8.77817564e-01, 3.54795382e-01,\n",
       "         2.87615079e-01, 5.11617772e-01, 6.01019684e-01, 4.93991712e-01,\n",
       "         5.99263392e-01, 1.38976345e-01, 2.65578648e-01, 3.10339137e-01,\n",
       "         9.27437828e-01, 5.36943540e-01, 3.43517818e-01, 9.74853797e-01,\n",
       "         3.60225609e-01, 7.26589337e-01, 8.62480140e-01, 7.69658590e-01,\n",
       "         5.78812896e-01, 7.78502257e-01, 5.03937764e-01, 9.20960935e-01,\n",
       "         7.37188687e-01, 9.77987269e-01, 7.21464042e-02, 8.43508087e-01,\n",
       "         3.41063521e-01, 2.85963285e-01, 3.75147643e-01, 5.75990836e-01,\n",
       "         3.84141639e-01, 4.21909535e-02, 5.28414236e-01, 3.45510706e-01,\n",
       "         3.38650100e-01, 1.16272294e-01, 4.34827747e-01, 4.56378422e-01,\n",
       "         5.62511702e-01, 1.48207280e-01, 2.59510304e-01, 2.81202321e-01,\n",
       "         1.60397641e-01, 2.24079955e-01, 1.98862179e-01, 8.96729343e-01,\n",
       "         7.11035942e-01, 2.81542767e-01, 2.34306809e-02, 6.47616240e-01,\n",
       "         7.12266334e-01, 4.99705923e-02, 4.61882095e-01, 2.87323494e-02,\n",
       "         2.69785060e-03, 8.89225886e-01, 1.74553965e-02, 5.26774546e-01,\n",
       "         3.88800361e-01, 2.37660022e-01, 5.64688032e-01, 5.12881317e-01,\n",
       "         9.12979350e-01, 6.62768310e-01, 4.25953393e-02, 9.53823076e-01,\n",
       "         5.55879027e-01, 7.89809683e-01, 4.68893166e-02, 1.62915475e-01,\n",
       "         1.99852717e-01, 4.85822739e-01, 7.33735224e-01, 7.49293468e-01,\n",
       "         5.54240243e-01, 9.29818434e-01, 4.72155688e-01, 9.61090353e-01,\n",
       "         9.29886219e-01, 8.13485395e-01, 1.10236532e-01, 7.69061260e-01,\n",
       "         2.98547825e-01, 2.03889211e-01, 8.02443926e-01, 8.54692730e-01,\n",
       "         1.42746924e-01, 9.16806961e-01, 8.36693219e-01, 8.82167325e-01,\n",
       "         1.09448360e-01, 2.02124268e-02, 5.53697538e-02, 5.10004648e-01,\n",
       "         2.77867745e-01, 8.50715609e-01, 2.31767420e-01, 9.09156885e-01,\n",
       "         8.92100399e-01, 5.71708780e-01, 1.33810430e-01, 4.88845297e-01,\n",
       "         6.66370534e-01, 6.73273414e-01, 4.28514600e-01, 1.19185587e-01,\n",
       "         9.03768728e-02, 9.10336407e-01, 8.95424075e-01, 1.13233764e-01,\n",
       "         5.51412187e-01, 5.28569331e-01, 6.48098411e-01, 1.71325970e-01,\n",
       "         6.69162486e-02, 8.26512330e-01, 4.57716299e-01, 7.43911742e-01,\n",
       "         6.56176909e-01, 7.91911418e-02, 4.70303716e-01, 1.52642023e-01,\n",
       "         9.62962621e-02, 1.25980872e-01, 5.14938328e-01, 8.98789197e-01,\n",
       "         8.36853497e-01, 4.72331064e-01, 2.82728759e-01, 7.02923065e-01,\n",
       "         4.51181551e-01, 5.11296429e-01, 8.51882348e-01, 1.83284678e-01,\n",
       "         2.49693421e-01, 6.89957190e-01, 7.25937693e-01, 5.88608823e-01,\n",
       "         2.01224119e-01, 6.87803101e-01, 4.83059704e-01, 9.72342317e-01,\n",
       "         5.89094171e-01, 7.47250639e-01, 3.85687448e-01, 1.95857692e-01,\n",
       "         4.93155363e-01, 3.30350686e-01, 2.64276031e-01, 6.91207898e-01,\n",
       "         2.63353451e-01, 9.84233700e-01, 8.34876446e-01, 1.37976841e-01,\n",
       "         4.60458779e-01, 4.10928247e-01, 2.35952681e-01, 8.03823819e-01,\n",
       "         6.51898790e-01, 4.76330265e-01, 5.63256724e-01, 8.33597182e-01,\n",
       "         3.80487290e-02, 3.24270292e-01, 8.93328821e-01, 8.01828860e-01,\n",
       "         7.34042809e-01, 6.48114604e-02, 4.66787052e-01, 2.93228939e-01,\n",
       "         3.04821513e-02, 6.82596579e-01, 1.82625105e-01, 1.99811108e-01,\n",
       "         9.61148761e-01, 1.36414828e-01, 2.82903087e-01, 8.49533107e-01,\n",
       "         3.10464443e-01, 4.72071464e-01, 7.33150710e-01, 7.15870441e-01,\n",
       "         4.06435203e-01, 7.70234814e-01, 9.04617447e-01, 8.84709132e-01,\n",
       "         9.06662663e-01, 1.39458200e-02, 3.70275088e-01, 4.25801687e-02,\n",
       "         9.34024062e-01, 6.92425491e-01, 3.55052183e-01, 4.79748859e-01,\n",
       "         4.01917224e-01, 2.17078839e-01, 8.31686019e-01, 4.97777465e-01,\n",
       "         4.48535939e-01, 6.20143899e-01, 6.04832531e-01, 1.56807718e-01,\n",
       "         5.43160313e-04, 7.99745887e-01, 5.26788225e-01, 3.88296663e-01,\n",
       "         6.67865958e-01, 9.03452316e-01, 2.45696005e-02, 9.59725477e-01,\n",
       "         6.55096046e-01, 8.28997828e-01, 9.34667211e-01, 4.27982293e-01,\n",
       "         2.48958611e-01, 7.42659368e-02, 8.12776104e-01, 4.74730333e-01,\n",
       "         4.01098608e-01, 9.87907929e-01, 5.85751841e-01, 8.61307194e-01,\n",
       "         9.10577014e-01, 9.37055744e-01, 4.24357392e-01, 4.57908566e-01,\n",
       "         5.19105134e-01, 7.07071351e-01, 7.91849036e-01, 6.00006785e-01,\n",
       "         3.64645624e-01, 2.13422867e-01, 2.19276224e-01, 2.50069181e-01,\n",
       "         6.47857550e-01, 4.19443018e-01, 9.49161618e-01, 9.86148670e-01,\n",
       "         2.45835001e-01, 2.05545260e-01, 6.97863258e-01, 9.80741812e-02,\n",
       "         7.22884983e-01, 6.72094545e-01, 6.97321369e-01, 5.65687644e-01,\n",
       "         1.42035231e-01, 6.85855265e-01, 6.79403169e-03, 3.91484516e-01,\n",
       "         5.04197565e-01, 2.97484525e-01, 7.85783202e-01, 6.79036894e-01,\n",
       "         3.98816911e-01, 4.01535221e-01, 7.15455970e-01, 1.23164552e-01,\n",
       "         6.01960607e-01, 6.99234769e-01, 9.95712074e-01, 3.01902042e-01,\n",
       "         4.63068818e-01, 7.98109399e-01, 8.80989866e-01, 2.52408787e-01,\n",
       "         2.48304268e-01, 4.73367614e-01, 2.87248363e-01, 5.63866046e-01,\n",
       "         7.40636731e-02, 8.15870848e-01, 1.83169329e-01, 8.36895298e-01,\n",
       "         7.79722160e-01, 4.51541373e-01, 1.39870404e-01, 5.30554630e-02,\n",
       "         4.21204930e-02, 5.92121508e-01, 6.54088761e-02, 9.93140327e-01,\n",
       "         2.09575233e-01, 2.04047305e-01, 2.89221117e-01, 2.37901699e-01,\n",
       "         7.76764371e-01, 4.16088315e-01, 5.38871173e-01, 8.93134282e-01,\n",
       "         3.49857272e-01, 7.23535203e-01, 9.78733209e-01, 7.98354153e-01,\n",
       "         1.23936729e-01, 4.27883355e-01, 5.69571152e-01, 5.68824657e-01,\n",
       "         4.74803128e-02, 3.26675162e-01, 7.86385034e-01, 3.09255375e-01,\n",
       "         9.73604292e-01, 3.25402665e-01, 5.04060918e-01, 1.16122362e-02,\n",
       "         9.10945972e-01, 2.45510334e-01, 5.81708104e-01, 9.09619338e-01,\n",
       "         9.36639520e-01, 4.48641428e-01, 3.94956561e-01, 3.19260030e-01,\n",
       "         1.95451567e-01, 9.70810381e-02, 5.52065524e-01, 5.58358231e-01,\n",
       "         9.55361912e-01, 5.19081161e-02, 9.63134353e-01, 9.03127591e-01,\n",
       "         7.46368590e-01, 5.93135364e-02, 7.08438851e-01, 8.15140495e-01,\n",
       "         8.93676078e-01, 1.95595484e-01, 2.01236345e-01, 9.40926262e-01,\n",
       "         5.28526712e-01, 1.12368818e-01, 7.05381182e-01, 6.38004901e-01,\n",
       "         7.28942923e-01, 4.18527053e-01, 9.70821301e-01, 9.56777904e-01,\n",
       "         6.10893354e-01, 5.87153134e-01, 5.93167846e-01, 2.97548126e-01,\n",
       "         7.25972879e-01, 1.76485066e-02, 6.83909270e-01, 1.51839590e-01,\n",
       "         6.44796155e-01, 2.21290208e-01, 2.38358626e-01, 9.75038262e-01,\n",
       "         4.51480152e-01, 1.44740286e-01, 8.22716663e-01, 7.17897547e-01,\n",
       "         8.57731667e-02, 6.07321671e-01, 7.05659401e-01, 5.88806620e-01,\n",
       "         5.77934783e-01, 5.88397791e-01, 7.57563516e-01, 8.72023092e-01,\n",
       "         3.09295956e-01, 4.76665451e-01, 5.17970715e-01, 5.68794013e-01,\n",
       "         3.59555114e-01, 2.26714154e-01, 3.20954198e-01, 8.34397321e-01,\n",
       "         8.44319067e-01, 1.40967011e-01, 3.59685967e-01, 2.01819932e-01,\n",
       "         8.04716930e-01, 9.65080696e-02, 6.36051695e-01, 8.30072349e-01,\n",
       "         7.76052628e-01, 3.46720017e-01, 5.12164840e-01, 1.51876126e-01,\n",
       "         9.90821152e-01, 3.57428150e-01, 6.52676807e-01, 7.86868495e-01,\n",
       "         7.91077931e-01, 5.60532828e-01, 1.67520136e-01, 4.17319837e-01,\n",
       "         8.34458322e-02, 6.01081919e-01, 5.41984166e-01, 1.61263809e-01,\n",
       "         9.44936727e-01, 6.66720844e-01, 1.97747913e-01, 2.84579502e-01,\n",
       "         3.67296318e-01, 6.74568036e-01, 8.43193781e-01, 3.40102633e-01,\n",
       "         4.86705782e-04, 4.27052450e-01, 8.02913817e-02, 5.44692578e-01,\n",
       "         9.28509033e-01, 2.91627413e-01, 1.79188635e-01, 3.40478735e-01,\n",
       "         3.10057496e-01, 8.85701345e-01, 9.72093658e-02, 3.52903533e-01,\n",
       "         8.33580604e-01, 2.14489562e-01, 8.88106836e-01, 5.26741098e-01,\n",
       "         1.41440559e-01, 5.45317172e-01, 1.22801933e-01, 5.30209411e-01,\n",
       "         7.09258250e-01, 4.63326620e-01, 2.99605130e-01, 6.61512269e-01,\n",
       "         5.84185770e-01, 5.66966153e-01, 4.61739391e-01, 2.59063847e-01,\n",
       "         6.76013226e-01, 7.11651154e-01, 4.66005479e-01, 6.27319637e-01,\n",
       "         3.62765783e-01, 6.11734070e-01, 4.74172577e-01, 2.43479206e-01,\n",
       "         4.92902221e-01]))]"
      ]
     },
     "execution_count": 1,
     "metadata": {},
     "output_type": "execute_result"
    }
   ],
   "source": [
    "expand_setpoints_helper(a.spectrum)"
   ]
  },
  {
   "cell_type": "code",
   "execution_count": 21,
   "metadata": {
    "execution": {
     "iopub.execute_input": "2020-09-17T06:28:30.706930Z",
     "iopub.status.busy": "2020-09-17T06:28:30.705892Z",
     "iopub.status.idle": "2020-09-17T06:28:30.723208Z",
     "shell.execute_reply": "2020-09-17T06:28:30.722776Z"
    }
   },
   "outputs": [
    {
     "name": "stdout",
     "output_type": "stream",
     "text": [
      "Starting experimental run with id: 2. \n"
     ]
    }
   ],
   "source": [
    "meas = Measurement()\n",
    "meas.register_parameter(a.spectrum)\n",
    "\n",
    "with meas.run() as datasaver:\n",
    "    datasaver.add_result(*expand_setpoints_helper(a.spectrum))\n",
    "    \n",
    "    dataid = datasaver.run_id"
   ]
  },
  {
   "cell_type": "code",
   "execution_count": null,
   "metadata": {},
   "outputs": [],
   "source": []
  }
 ],
 "metadata": {
  "kernelspec": {
   "display_name": "Python 3",
   "language": "python",
   "name": "python3"
  },
  "language_info": {
   "codemirror_mode": {
    "name": "ipython",
    "version": 3
   },
   "file_extension": ".py",
   "mimetype": "text/x-python",
   "name": "python",
   "nbconvert_exporter": "python",
   "pygments_lexer": "ipython3",
   "version": "3.7.7"
  },
  "toc": {
   "base_numbering": 1,
   "nav_menu": {},
   "number_sections": true,
   "sideBar": true,
   "skip_h1_title": false,
   "title_cell": "Table of Contents",
   "title_sidebar": "Contents",
   "toc_cell": false,
   "toc_position": {},
   "toc_section_display": true,
   "toc_window_display": false
  },
  "varInspector": {
   "cols": {
    "lenName": 16,
    "lenType": 16,
    "lenVar": 40
   },
   "kernels_config": {
    "python": {
     "delete_cmd_postfix": "",
     "delete_cmd_prefix": "del ",
     "library": "var_list.py",
     "varRefreshCmd": "print(var_dic_list())"
    },
    "r": {
     "delete_cmd_postfix": ") ",
     "delete_cmd_prefix": "rm(",
     "library": "var_list.r",
     "varRefreshCmd": "cat(var_dic_list()) "
    }
   },
   "types_to_exclude": [
    "module",
    "function",
    "builtin_function_or_method",
    "instance",
    "_Feature"
   ],
   "window_display": false
  }
 },
 "nbformat": 4,
 "nbformat_minor": 2
}
