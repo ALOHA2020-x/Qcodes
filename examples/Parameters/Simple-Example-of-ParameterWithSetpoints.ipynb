{
 "cells": [
  {
   "cell_type": "markdown",
   "execution_count": 1,
   "metadata": {},
   "source": [
    "# Simple Example of ParameterWithSetpoints\n",
    "This notebook provides an example for writing a simple driver with a parameter that has setpoints. Let's name this parameter that has setpoints as \"y\". Then, the setpoints, say \"x1, x2, x3 ..\", are the parameters on which the parameter \n",
    "\"y\" depends upon. Meaning \"y\" is a function of \"x1, x2, x3 ...\" where \"x1, x2, x3 ...\" are known as the setpoints of parameter \"y\".\n",
    "\n",
    "This is most likely to be useful for instruments that return arrays of results. In this notebook, we will show an example of this."
   ]
  },
  {
   "cell_type": "code",
   "execution_count": 1,
   "metadata": {
    "execution": {
     "iopub.execute_input": "2020-09-14T08:57:29.461279Z",
     "iopub.status.busy": "2020-09-14T08:57:29.460771Z",
     "iopub.status.idle": "2020-09-14T08:57:29.560546Z",
     "shell.execute_reply": "2020-09-14T08:57:29.561066Z"
    }
   },
   "outputs": [],
   "source": [
    "import numpy as np\n",
    "import os"
   ]
  },
  {
   "cell_type": "code",
   "execution_count": 2,
   "metadata": {
    "execution": {
     "iopub.execute_input": "2020-09-14T08:57:29.566051Z",
     "iopub.status.busy": "2020-09-14T08:57:29.565449Z",
     "iopub.status.idle": "2020-09-14T08:57:30.710278Z",
     "shell.execute_reply": "2020-09-14T08:57:30.709781Z"
    }
   },
   "outputs": [
    {
     "name": "stdout",
     "output_type": "stream",
     "text": [
      "Logging hadn't been started.\n",
      "Activating auto-logging. Current session state plus future input saved.\n",
      "Filename       : /home/vsts/.qcodes/logs/command_history.log\n",
      "Mode           : append\n",
      "Output logging : True\n",
      "Raw input log  : False\n",
      "Timestamping   : True\n",
      "State          : active\n"
     ]
    },
    {
     "name": "stdout",
     "output_type": "stream",
     "text": [
      "Qcodes Logfile : /home/vsts/.qcodes/logs/200914-21726-qcodes.log\n"
     ]
    }
   ],
   "source": [
    "from qcodes.dataset.plotting import plot_dataset\n",
    "from qcodes.utils.validators import Numbers, Arrays\n",
    "from qcodes.instrument.base import Instrument\n",
    "from qcodes.dataset.measurements import Measurement"
   ]
  },
  {
   "cell_type": "code",
   "execution_count": 3,
   "metadata": {
    "execution": {
     "iopub.execute_input": "2020-09-14T08:57:30.714518Z",
     "iopub.status.busy": "2020-09-14T08:57:30.713983Z",
     "iopub.status.idle": "2020-09-14T08:57:30.717357Z",
     "shell.execute_reply": "2020-09-14T08:57:30.716918Z"
    }
   },
   "outputs": [],
   "source": [
    "from qcodes.dataset.sqlite.database import initialise_or_create_database_at\n",
    "from qcodes.dataset.experiment_container import load_or_create_experiment"
   ]
  },
  {
   "cell_type": "code",
   "execution_count": 4,
   "metadata": {
    "execution": {
     "iopub.execute_input": "2020-09-14T08:57:30.722291Z",
     "iopub.status.busy": "2020-09-14T08:57:30.720918Z",
     "iopub.status.idle": "2020-09-14T08:57:30.722813Z",
     "shell.execute_reply": "2020-09-14T08:57:30.723323Z"
    }
   },
   "outputs": [],
   "source": [
    "from qcodes.instrument.parameter import ParameterWithSetpoints, Parameter\n",
    "from qcodes.instrument.parameter import expand_setpoints_helper"
   ]
  },
  {
   "cell_type": "markdown",
   "execution_count": 5,
   "metadata": {},
   "source": [
    "First, we define a dummy instrument that returns something like a frequency spectrum starting from a frequency given by `f_start` to a frequency given by `f_stop` in `n_points` steps. \n",
    "\n",
    "The extra functionality of the `ParameterWithSetpoints` is implemented by giving it a reference to one or more parameters that acts like its setpoints. \n",
    "\n",
    "To setup a `ParameterWithSetpoints` we have to do two things in addition to what we do for a normal parameter.\n",
    "\n",
    "* Define one or more parameter for the setpoints (one for each dimension of the array and let the `ParameterWithSetpoints` know that these are the setpoints.\n",
    "* Give both the setpoints parameter(s) and the `ParameterWithSetpoints` a `validator` of type `Arrays` with a shape. The shapes should be such that the combined shape of the setpoints matches the shape of the `ParameterWithSetpoints`. Note that if the shape changes with the setting of the instrument, it can be defined by another parameter as shown below. "
   ]
  },
  {
   "cell_type": "code",
   "execution_count": 5,
   "metadata": {
    "execution": {
     "iopub.execute_input": "2020-09-14T08:57:30.731025Z",
     "iopub.status.busy": "2020-09-14T08:57:30.725465Z",
     "iopub.status.idle": "2020-09-14T08:57:30.736012Z",
     "shell.execute_reply": "2020-09-14T08:57:30.735456Z"
    }
   },
   "outputs": [],
   "source": [
    "class GeneratedSetPoints(Parameter):\n",
    "    \"\"\"\n",
    "    A parameter that generates a setpoint array from start, stop and num points\n",
    "    parameters.\n",
    "    \"\"\"\n",
    "    def __init__(self, startparam, stopparam, numpointsparam, *args, **kwargs):\n",
    "        super().__init__(*args, **kwargs)\n",
    "        self._startparam = startparam\n",
    "        self._stopparam = stopparam\n",
    "        self._numpointsparam = numpointsparam\n",
    "\n",
    "    def get_raw(self):\n",
    "        return np.linspace(self._startparam(), self._stopparam(),\n",
    "                              self._numpointsparam())\n",
    "\n",
    "class DummyArray(ParameterWithSetpoints):\n",
    "    \n",
    "    def get_raw(self):\n",
    "        npoints = self.root_instrument.n_points.get_latest()\n",
    "        return np.random.rand(npoints)\n",
    "    \n",
    "\n",
    "class DummySpectrumAnalyzer(Instrument):\n",
    "    \n",
    "    def __init__(self, name, **kwargs):\n",
    "        \n",
    "        super().__init__(name, **kwargs)\n",
    "            \n",
    "\n",
    "        self.add_parameter('f_start',\n",
    "                           initial_value=0,\n",
    "                           unit='Hz',\n",
    "                           label='f start',\n",
    "                           vals=Numbers(0,1e3),\n",
    "                           get_cmd=None,\n",
    "                           set_cmd=None)\n",
    "\n",
    "        self.add_parameter('f_stop',\n",
    "                           unit='Hz',\n",
    "                           label='f stop',\n",
    "                           vals=Numbers(1,1e3),\n",
    "                           get_cmd=None,\n",
    "                           set_cmd=None)\n",
    "\n",
    "        self.add_parameter('n_points',\n",
    "                           unit='',\n",
    "                           initial_value=10,\n",
    "                           vals=Numbers(1,1e3),\n",
    "                           get_cmd=None,\n",
    "                           set_cmd=None)\n",
    "        \n",
    "        self.add_parameter('freq_axis',\n",
    "                           unit='Hz',\n",
    "                           label='Freq Axis',\n",
    "                           parameter_class=GeneratedSetPoints,\n",
    "                           startparam=self.f_start,\n",
    "                           stopparam=self.f_stop,\n",
    "                           numpointsparam=self.n_points,\n",
    "                           vals=Arrays(shape=(self.n_points.get_latest,)))\n",
    "                           \n",
    "        self.add_parameter('spectrum',\n",
    "                   unit='dBm',\n",
    "                   setpoints=(self.freq_axis,),\n",
    "                   label='Spectrum',\n",
    "                   parameter_class=DummyArray,\n",
    "                   vals=Arrays(shape=(self.n_points.get_latest,)))\n",
    "                "
   ]
  },
  {
   "cell_type": "markdown",
   "execution_count": 6,
   "metadata": {},
   "source": [
    "In the above example, the shape is defined by the parameter `n_points` that defines how many samples our `DummySpectrumAnalyzer` returns.\n",
    "\n",
    "This means that the validation will call the function to get `n_points` twice for each `get` of the parameter. This may be too slow, however, if you (as the driver-writer) can guarantee that the cached value for `n_points` will never be out of sync with the value stored in the instrument, `n_points` may be replaced by it's latest known value such that the `validator` reads:\n",
    "```python\n",
    "vals=Arrays(shape=(self.n_points.get_latest))\n",
    "```\n",
    "\n",
    "This avoids any additional call to the instrument. In the same way, the arguments to the `freq_axis` parameter that defines the start, stop and number of points can be replaced by their latest value if the instrument allows it.\n",
    "\n"
   ]
  },
  {
   "cell_type": "code",
   "execution_count": 6,
   "metadata": {
    "execution": {
     "iopub.execute_input": "2020-09-14T08:57:30.739891Z",
     "iopub.status.busy": "2020-09-14T08:57:30.739392Z",
     "iopub.status.idle": "2020-09-14T08:57:30.826048Z",
     "shell.execute_reply": "2020-09-14T08:57:30.825484Z"
    }
   },
   "outputs": [
    {
     "name": "stdout",
     "output_type": "stream",
     "text": [
      "\r",
      "0it [00:00, ?it/s]"
     ]
    },
    {
     "name": "stdout",
     "output_type": "stream",
     "text": [
      "\r",
      "Upgrading database; v0 -> v1: : 0it [00:00, ?it/s]"
     ]
    },
    {
     "name": "stdout",
     "output_type": "stream",
     "text": [
      "\r",
      "Upgrading database; v0 -> v1: : 0it [00:00, ?it/s]"
     ]
    },
    {
     "name": "stdout",
     "output_type": "stream",
     "text": [
      "\n",
      "\r",
      "  0%|          | 0/1 [00:00<?, ?it/s]"
     ]
    },
    {
     "name": "stdout",
     "output_type": "stream",
     "text": [
      "\r",
      "Upgrading database; v1 -> v2:   0%|          | 0/1 [00:00<?, ?it/s]"
     ]
    },
    {
     "name": "stdout",
     "output_type": "stream",
     "text": [
      "\r",
      "Upgrading database; v1 -> v2: 100%|██████████| 1/1 [00:00<00:00, 438.14it/s]"
     ]
    },
    {
     "name": "stdout",
     "output_type": "stream",
     "text": [
      "\n",
      "\r",
      "0it [00:00, ?it/s]"
     ]
    },
    {
     "name": "stdout",
     "output_type": "stream",
     "text": [
      "\r",
      "Upgrading database; v2 -> v3: : 0it [00:00, ?it/s]"
     ]
    },
    {
     "name": "stdout",
     "output_type": "stream",
     "text": [
      "\r",
      "Upgrading database; v2 -> v3: : 0it [00:00, ?it/s]"
     ]
    },
    {
     "name": "stdout",
     "output_type": "stream",
     "text": [
      "\n",
      "\r",
      "0it [00:00, ?it/s]"
     ]
    },
    {
     "name": "stdout",
     "output_type": "stream",
     "text": [
      "\r",
      "Upgrading database; v3 -> v4: : 0it [00:00, ?it/s]"
     ]
    },
    {
     "name": "stdout",
     "output_type": "stream",
     "text": [
      "\r",
      "Upgrading database; v3 -> v4: : 0it [00:00, ?it/s]"
     ]
    },
    {
     "name": "stdout",
     "output_type": "stream",
     "text": [
      "\n",
      "\r",
      "  0%|          | 0/1 [00:00<?, ?it/s]"
     ]
    },
    {
     "name": "stdout",
     "output_type": "stream",
     "text": [
      "\r",
      "Upgrading database; v4 -> v5:   0%|          | 0/1 [00:00<?, ?it/s]"
     ]
    },
    {
     "name": "stdout",
     "output_type": "stream",
     "text": [
      "\r",
      "Upgrading database; v4 -> v5: 100%|██████████| 1/1 [00:00<00:00, 444.64it/s]"
     ]
    },
    {
     "name": "stdout",
     "output_type": "stream",
     "text": [
      "\n",
      "\r",
      "0it [00:00, ?it/s]"
     ]
    },
    {
     "name": "stdout",
     "output_type": "stream",
     "text": [
      "\r",
      "Upgrading database; v5 -> v6: : 0it [00:00, ?it/s]"
     ]
    },
    {
     "name": "stdout",
     "output_type": "stream",
     "text": [
      "\r",
      "Upgrading database; v5 -> v6: : 0it [00:00, ?it/s]"
     ]
    },
    {
     "name": "stdout",
     "output_type": "stream",
     "text": [
      "\n",
      "\r",
      "  0%|          | 0/1 [00:00<?, ?it/s]"
     ]
    },
    {
     "name": "stdout",
     "output_type": "stream",
     "text": [
      "\r",
      "Upgrading database; v6 -> v7:   0%|          | 0/1 [00:00<?, ?it/s]"
     ]
    },
    {
     "name": "stdout",
     "output_type": "stream",
     "text": [
      "\r",
      "Upgrading database; v6 -> v7: 100%|██████████| 1/1 [00:00<00:00, 254.97it/s]"
     ]
    },
    {
     "name": "stdout",
     "output_type": "stream",
     "text": [
      "\n",
      "\r",
      "  0%|          | 0/1 [00:00<?, ?it/s]"
     ]
    },
    {
     "name": "stdout",
     "output_type": "stream",
     "text": [
      "\r",
      "Upgrading database; v7 -> v8:   0%|          | 0/1 [00:00<?, ?it/s]"
     ]
    },
    {
     "name": "stdout",
     "output_type": "stream",
     "text": [
      "\r",
      "Upgrading database; v7 -> v8: 100%|██████████| 1/1 [00:00<00:00, 266.97it/s]"
     ]
    },
    {
     "name": "stdout",
     "output_type": "stream",
     "text": [
      "\n",
      "\r",
      "  0%|          | 0/1 [00:00<?, ?it/s]"
     ]
    },
    {
     "name": "stdout",
     "output_type": "stream",
     "text": [
      "\r",
      "Upgrading database; v8 -> v9:   0%|          | 0/1 [00:00<?, ?it/s]"
     ]
    },
    {
     "name": "stdout",
     "output_type": "stream",
     "text": [
      "\r",
      "Upgrading database; v8 -> v9: 100%|██████████| 1/1 [00:00<00:00, 889.19it/s]"
     ]
    },
    {
     "name": "stdout",
     "output_type": "stream",
     "text": [
      "\n"
     ]
    },
    {
     "data": {
      "text/plain": [
       "tutorial_ParameterWithSetpoints#no sample#1@/home/vsts/work/1/s/docs/examples/Parameters/tutorial_paramter_with_setpoints.db\n",
       "----------------------------------------------------------------------------------------------------------------------------"
      ]
     },
     "execution_count": 1,
     "metadata": {},
     "output_type": "execute_result"
    }
   ],
   "source": [
    "tutorial_db_path = os.path.join(os.getcwd(), 'tutorial_paramter_with_setpoints.db')\n",
    "initialise_or_create_database_at(tutorial_db_path)\n",
    "load_or_create_experiment(experiment_name='tutorial_ParameterWithSetpoints', sample_name=\"no sample\")"
   ]
  },
  {
   "cell_type": "code",
   "execution_count": 7,
   "metadata": {
    "execution": {
     "iopub.execute_input": "2020-09-14T08:57:30.830858Z",
     "iopub.status.busy": "2020-09-14T08:57:30.830318Z",
     "iopub.status.idle": "2020-09-14T08:57:30.832923Z",
     "shell.execute_reply": "2020-09-14T08:57:30.832363Z"
    }
   },
   "outputs": [],
   "source": [
    "a = DummySpectrumAnalyzer('foobar')"
   ]
  },
  {
   "cell_type": "markdown",
   "execution_count": 8,
   "metadata": {},
   "source": [
    "First we setup the limits of the spectrum"
   ]
  },
  {
   "cell_type": "code",
   "execution_count": 8,
   "metadata": {
    "execution": {
     "iopub.execute_input": "2020-09-14T08:57:30.836696Z",
     "iopub.status.busy": "2020-09-14T08:57:30.835984Z",
     "iopub.status.idle": "2020-09-14T08:57:30.838226Z",
     "shell.execute_reply": "2020-09-14T08:57:30.838768Z"
    }
   },
   "outputs": [],
   "source": [
    "a.f_start(0)\n",
    "a.f_stop(500)\n",
    "a.n_points(501)"
   ]
  },
  {
   "cell_type": "markdown",
   "execution_count": 9,
   "metadata": {},
   "source": [
    "And we can grab the frequency axis"
   ]
  },
  {
   "cell_type": "code",
   "execution_count": 9,
   "metadata": {
    "execution": {
     "iopub.execute_input": "2020-09-14T08:57:30.843080Z",
     "iopub.status.busy": "2020-09-14T08:57:30.841366Z",
     "iopub.status.idle": "2020-09-14T08:57:30.845411Z",
     "shell.execute_reply": "2020-09-14T08:57:30.845916Z"
    }
   },
   "outputs": [
    {
     "data": {
      "text/plain": [
       "501"
      ]
     },
     "execution_count": 1,
     "metadata": {},
     "output_type": "execute_result"
    }
   ],
   "source": [
    "a.n_points()"
   ]
  },
  {
   "cell_type": "code",
   "execution_count": 10,
   "metadata": {
    "execution": {
     "iopub.execute_input": "2020-09-14T08:57:30.850668Z",
     "iopub.status.busy": "2020-09-14T08:57:30.850109Z",
     "iopub.status.idle": "2020-09-14T08:57:30.852936Z",
     "shell.execute_reply": "2020-09-14T08:57:30.853454Z"
    },
    "scrolled": false
   },
   "outputs": [
    {
     "data": {
      "text/plain": [
       "501"
      ]
     },
     "execution_count": 1,
     "metadata": {},
     "output_type": "execute_result"
    }
   ],
   "source": [
    "freq_axis = a.freq_axis()\n",
    "len(freq_axis)"
   ]
  },
  {
   "cell_type": "code",
   "execution_count": 11,
   "metadata": {
    "execution": {
     "iopub.execute_input": "2020-09-14T08:57:30.856707Z",
     "iopub.status.busy": "2020-09-14T08:57:30.856217Z",
     "iopub.status.idle": "2020-09-14T08:57:30.860669Z",
     "shell.execute_reply": "2020-09-14T08:57:30.861081Z"
    }
   },
   "outputs": [
    {
     "data": {
      "text/plain": [
       "array([0., 1., 2., 3., 4., 5., 6., 7., 8., 9.])"
      ]
     },
     "execution_count": 1,
     "metadata": {},
     "output_type": "execute_result"
    }
   ],
   "source": [
    "freq_axis[:10]"
   ]
  },
  {
   "cell_type": "markdown",
   "execution_count": 12,
   "metadata": {},
   "source": [
    "As expected we get a result wit 501 points as we asked for an axis with 501 points. "
   ]
  },
  {
   "cell_type": "markdown",
   "execution_count": 12,
   "metadata": {},
   "source": [
    "Above we have added a validator to the `freq_axis` parameter encoding the fact that this is an Array with `n_points`. Note that we do not have to supply the number of points as an integer but can supply a function that returns the valid number of points. This would normally be a QCoDeS parameter.\n",
    "\n",
    "This will be checked if we validate the output."
   ]
  },
  {
   "cell_type": "code",
   "execution_count": 12,
   "metadata": {
    "execution": {
     "iopub.execute_input": "2020-09-14T08:57:30.865657Z",
     "iopub.status.busy": "2020-09-14T08:57:30.864775Z",
     "iopub.status.idle": "2020-09-14T08:57:30.867085Z",
     "shell.execute_reply": "2020-09-14T08:57:30.866544Z"
    }
   },
   "outputs": [],
   "source": [
    "a.freq_axis.validate(a.freq_axis.get())"
   ]
  },
  {
   "cell_type": "markdown",
   "execution_count": 13,
   "metadata": {},
   "source": [
    "Naturally, we can also get the spectrum. Getting the spectrum will automatically perform validation both for the shape of the parameter itself and the relation to the setpoint parameter(s)"
   ]
  },
  {
   "cell_type": "code",
   "execution_count": 13,
   "metadata": {
    "execution": {
     "iopub.execute_input": "2020-09-14T08:57:30.870867Z",
     "iopub.status.busy": "2020-09-14T08:57:30.869825Z",
     "iopub.status.idle": "2020-09-14T08:57:30.873903Z",
     "shell.execute_reply": "2020-09-14T08:57:30.873458Z"
    },
    "scrolled": true
   },
   "outputs": [
    {
     "data": {
      "text/plain": [
       "501"
      ]
     },
     "execution_count": 1,
     "metadata": {},
     "output_type": "execute_result"
    }
   ],
   "source": [
    "spectrum = a.spectrum.get()\n",
    "len(spectrum)"
   ]
  },
  {
   "cell_type": "markdown",
   "execution_count": 14,
   "metadata": {},
   "source": [
    "When we validate a `ParameterWithSetpoints`, we automatically validate that the shape is consistent between the parameters and its setpoints. As well as validating the shape as above."
   ]
  },
  {
   "cell_type": "code",
   "execution_count": 14,
   "metadata": {
    "execution": {
     "iopub.execute_input": "2020-09-14T08:57:30.878058Z",
     "iopub.status.busy": "2020-09-14T08:57:30.877525Z",
     "iopub.status.idle": "2020-09-14T08:57:30.879884Z",
     "shell.execute_reply": "2020-09-14T08:57:30.879450Z"
    }
   },
   "outputs": [],
   "source": [
    "a.spectrum.validate(a.spectrum.get())"
   ]
  },
  {
   "cell_type": "markdown",
   "execution_count": 15,
   "metadata": {},
   "source": [
    "The consistent shapes can be validated explicitly."
   ]
  },
  {
   "cell_type": "code",
   "execution_count": 15,
   "metadata": {
    "execution": {
     "iopub.execute_input": "2020-09-14T08:57:30.883560Z",
     "iopub.status.busy": "2020-09-14T08:57:30.883034Z",
     "iopub.status.idle": "2020-09-14T08:57:30.885427Z",
     "shell.execute_reply": "2020-09-14T08:57:30.884989Z"
    }
   },
   "outputs": [],
   "source": [
    "a.spectrum.validate_consistent_shape()"
   ]
  },
  {
   "cell_type": "markdown",
   "execution_count": 16,
   "metadata": {},
   "source": [
    "We can inspect the setpoints of the spectrum."
   ]
  },
  {
   "cell_type": "code",
   "execution_count": 16,
   "metadata": {
    "execution": {
     "iopub.execute_input": "2020-09-14T08:57:30.889431Z",
     "iopub.status.busy": "2020-09-14T08:57:30.887954Z",
     "iopub.status.idle": "2020-09-14T08:57:30.891334Z",
     "shell.execute_reply": "2020-09-14T08:57:30.891847Z"
    }
   },
   "outputs": [
    {
     "data": {
      "text/plain": [
       "(<__main__.GeneratedSetPoints: freq_axis at 139620795996752>,)"
      ]
     },
     "execution_count": 1,
     "metadata": {},
     "output_type": "execute_result"
    }
   ],
   "source": [
    "a.spectrum.setpoints"
   ]
  },
  {
   "cell_type": "markdown",
   "execution_count": 17,
   "metadata": {},
   "source": [
    "Or even change them."
   ]
  },
  {
   "cell_type": "code",
   "execution_count": 17,
   "metadata": {
    "execution": {
     "iopub.execute_input": "2020-09-14T08:57:30.896185Z",
     "iopub.status.busy": "2020-09-14T08:57:30.895100Z",
     "iopub.status.idle": "2020-09-14T08:57:30.896718Z",
     "shell.execute_reply": "2020-09-14T08:57:30.897220Z"
    }
   },
   "outputs": [],
   "source": [
    "a.spectrum.setpoints = (a.freq_axis,)"
   ]
  },
  {
   "cell_type": "markdown",
   "execution_count": 18,
   "metadata": {},
   "source": [
    "## Measurement"
   ]
  },
  {
   "cell_type": "markdown",
   "execution_count": 18,
   "metadata": {},
   "source": [
    "We can also directly consume the parameter in a measurement without defining the setpoints of the parameter again. The setpoints are automatically obtained from the definition of the `ParameterWithSetpoint` instance. "
   ]
  },
  {
   "cell_type": "code",
   "execution_count": 18,
   "metadata": {
    "execution": {
     "iopub.execute_input": "2020-09-14T08:57:30.901588Z",
     "iopub.status.busy": "2020-09-14T08:57:30.901088Z",
     "iopub.status.idle": "2020-09-14T08:57:30.919828Z",
     "shell.execute_reply": "2020-09-14T08:57:30.919073Z"
    }
   },
   "outputs": [
    {
     "name": "stdout",
     "output_type": "stream",
     "text": [
      "Starting experimental run with id: 1. \n"
     ]
    }
   ],
   "source": [
    "meas = Measurement()\n",
    "meas.register_parameter(a.spectrum)\n",
    "\n",
    "with meas.run() as datasaver:\n",
    "    datasaver.add_result((a.freq_axis, a.freq_axis()),\n",
    "                         (a.spectrum, a.spectrum()))\n",
    "    dataset = datasaver.dataset"
   ]
  },
  {
   "cell_type": "markdown",
   "execution_count": 19,
   "metadata": {},
   "source": [
    "And plot it"
   ]
  },
  {
   "cell_type": "code",
   "execution_count": 19,
   "metadata": {
    "execution": {
     "iopub.execute_input": "2020-09-14T08:57:30.923584Z",
     "iopub.status.busy": "2020-09-14T08:57:30.923088Z",
     "iopub.status.idle": "2020-09-14T08:57:31.305493Z",
     "shell.execute_reply": "2020-09-14T08:57:31.304936Z"
    }
   },
   "outputs": [
    {
     "data": {
      "text/plain": [
       "([<matplotlib.axes._subplots.AxesSubplot at 0x7efbfff52750>], [None])"
      ]
     },
     "execution_count": 1,
     "metadata": {},
     "output_type": "execute_result"
    },
    {
     "data": {
      "image/png": "[encoded data removed]",
      "text/plain": [
       "<Figure size 432x288 with 1 Axes>"
      ]
     },
     "metadata": {
      "needs_background": "light"
     },
     "output_type": "display_data"
    }
   ],
   "source": [
    "plot_dataset(dataset)"
   ]
  },
  {
   "cell_type": "markdown",
   "execution_count": 20,
   "metadata": {},
   "source": [
    "To reduce the amount of typing a simple convenience function is provided that will take a `ParameterWithSetpoints` and get both its values and the setpoints values and return them as tuples for direct insertion into the Dataset."
   ]
  },
  {
   "cell_type": "code",
   "execution_count": 20,
   "metadata": {
    "execution": {
     "iopub.execute_input": "2020-09-14T08:57:31.320365Z",
     "iopub.status.busy": "2020-09-14T08:57:31.319437Z",
     "iopub.status.idle": "2020-09-14T08:57:31.323588Z",
     "shell.execute_reply": "2020-09-14T08:57:31.323124Z"
    },
    "scrolled": true
   },
   "outputs": [
    {
     "data": {
      "text/plain": [
       "[(<__main__.GeneratedSetPoints: freq_axis at 139620795996752>,\n",
       "  array([  0.,   1.,   2.,   3.,   4.,   5.,   6.,   7.,   8.,   9.,  10.,\n",
       "          11.,  12.,  13.,  14.,  15.,  16.,  17.,  18.,  19.,  20.,  21.,\n",
       "          22.,  23.,  24.,  25.,  26.,  27.,  28.,  29.,  30.,  31.,  32.,\n",
       "          33.,  34.,  35.,  36.,  37.,  38.,  39.,  40.,  41.,  42.,  43.,\n",
       "          44.,  45.,  46.,  47.,  48.,  49.,  50.,  51.,  52.,  53.,  54.,\n",
       "          55.,  56.,  57.,  58.,  59.,  60.,  61.,  62.,  63.,  64.,  65.,\n",
       "          66.,  67.,  68.,  69.,  70.,  71.,  72.,  73.,  74.,  75.,  76.,\n",
       "          77.,  78.,  79.,  80.,  81.,  82.,  83.,  84.,  85.,  86.,  87.,\n",
       "          88.,  89.,  90.,  91.,  92.,  93.,  94.,  95.,  96.,  97.,  98.,\n",
       "          99., 100., 101., 102., 103., 104., 105., 106., 107., 108., 109.,\n",
       "         110., 111., 112., 113., 114., 115., 116., 117., 118., 119., 120.,\n",
       "         121., 122., 123., 124., 125., 126., 127., 128., 129., 130., 131.,\n",
       "         132., 133., 134., 135., 136., 137., 138., 139., 140., 141., 142.,\n",
       "         143., 144., 145., 146., 147., 148., 149., 150., 151., 152., 153.,\n",
       "         154., 155., 156., 157., 158., 159., 160., 161., 162., 163., 164.,\n",
       "         165., 166., 167., 168., 169., 170., 171., 172., 173., 174., 175.,\n",
       "         176., 177., 178., 179., 180., 181., 182., 183., 184., 185., 186.,\n",
       "         187., 188., 189., 190., 191., 192., 193., 194., 195., 196., 197.,\n",
       "         198., 199., 200., 201., 202., 203., 204., 205., 206., 207., 208.,\n",
       "         209., 210., 211., 212., 213., 214., 215., 216., 217., 218., 219.,\n",
       "         220., 221., 222., 223., 224., 225., 226., 227., 228., 229., 230.,\n",
       "         231., 232., 233., 234., 235., 236., 237., 238., 239., 240., 241.,\n",
       "         242., 243., 244., 245., 246., 247., 248., 249., 250., 251., 252.,\n",
       "         253., 254., 255., 256., 257., 258., 259., 260., 261., 262., 263.,\n",
       "         264., 265., 266., 267., 268., 269., 270., 271., 272., 273., 274.,\n",
       "         275., 276., 277., 278., 279., 280., 281., 282., 283., 284., 285.,\n",
       "         286., 287., 288., 289., 290., 291., 292., 293., 294., 295., 296.,\n",
       "         297., 298., 299., 300., 301., 302., 303., 304., 305., 306., 307.,\n",
       "         308., 309., 310., 311., 312., 313., 314., 315., 316., 317., 318.,\n",
       "         319., 320., 321., 322., 323., 324., 325., 326., 327., 328., 329.,\n",
       "         330., 331., 332., 333., 334., 335., 336., 337., 338., 339., 340.,\n",
       "         341., 342., 343., 344., 345., 346., 347., 348., 349., 350., 351.,\n",
       "         352., 353., 354., 355., 356., 357., 358., 359., 360., 361., 362.,\n",
       "         363., 364., 365., 366., 367., 368., 369., 370., 371., 372., 373.,\n",
       "         374., 375., 376., 377., 378., 379., 380., 381., 382., 383., 384.,\n",
       "         385., 386., 387., 388., 389., 390., 391., 392., 393., 394., 395.,\n",
       "         396., 397., 398., 399., 400., 401., 402., 403., 404., 405., 406.,\n",
       "         407., 408., 409., 410., 411., 412., 413., 414., 415., 416., 417.,\n",
       "         418., 419., 420., 421., 422., 423., 424., 425., 426., 427., 428.,\n",
       "         429., 430., 431., 432., 433., 434., 435., 436., 437., 438., 439.,\n",
       "         440., 441., 442., 443., 444., 445., 446., 447., 448., 449., 450.,\n",
       "         451., 452., 453., 454., 455., 456., 457., 458., 459., 460., 461.,\n",
       "         462., 463., 464., 465., 466., 467., 468., 469., 470., 471., 472.,\n",
       "         473., 474., 475., 476., 477., 478., 479., 480., 481., 482., 483.,\n",
       "         484., 485., 486., 487., 488., 489., 490., 491., 492., 493., 494.,\n",
       "         495., 496., 497., 498., 499., 500.])),\n",
       " (<__main__.DummyArray: spectrum at 139620795995920>,\n",
       "  array([0.2341593 , 0.22548907, 0.00181985, 0.97398385, 0.45877396,\n",
       "         0.72324307, 0.02110778, 0.86673209, 0.33758853, 0.89309456,\n",
       "         0.247158  , 0.79731509, 0.66231545, 0.64420879, 0.60837357,\n",
       "         0.1159367 , 0.65145885, 0.06835556, 0.78349856, 0.07365891,\n",
       "         0.84618417, 0.70955477, 0.6473217 , 0.67526422, 0.68164319,\n",
       "         0.72090458, 0.42578694, 0.54530077, 0.40774205, 0.43278259,\n",
       "         0.71597962, 0.74148486, 0.29278761, 0.24368865, 0.74867934,\n",
       "         0.01922344, 0.78622111, 0.03336169, 0.10079504, 0.33602507,\n",
       "         0.86721541, 0.05106043, 0.86904426, 0.41803819, 0.99754185,\n",
       "         0.86325584, 0.74986932, 0.97617684, 0.92123917, 0.01905275,\n",
       "         0.83125727, 0.03694084, 0.31395087, 0.55436328, 0.73764089,\n",
       "         0.97639406, 0.31024278, 0.73625112, 0.00542474, 0.86877921,\n",
       "         0.08037638, 0.99709516, 0.21424925, 0.11913238, 0.57073494,\n",
       "         0.30259279, 0.18823927, 0.67433975, 0.80503395, 0.55419992,\n",
       "         0.00424304, 0.85284185, 0.48523335, 0.51052736, 0.00676041,\n",
       "         0.50245896, 0.31599017, 0.404951  , 0.28704275, 0.49969838,\n",
       "         0.20858309, 0.4465173 , 0.15729461, 0.92459941, 0.97121914,\n",
       "         0.50200666, 0.95321503, 0.04355249, 0.89934967, 0.97418384,\n",
       "         0.64714596, 0.92978179, 0.0805873 , 0.480546  , 0.31458788,\n",
       "         0.75187022, 0.48289528, 0.76537764, 0.47720231, 0.36718556,\n",
       "         0.1557809 , 0.77319591, 0.66172835, 0.08835495, 0.61642235,\n",
       "         0.67103684, 0.23879255, 0.71060836, 0.06366358, 0.40547585,\n",
       "         0.34704759, 0.70981034, 0.6544248 , 0.44810262, 0.12777717,\n",
       "         0.97422384, 0.78738867, 0.19118162, 0.78423301, 0.44628128,\n",
       "         0.60556614, 0.42249771, 0.79077792, 0.87924267, 0.55083669,\n",
       "         0.98911245, 0.22937538, 0.43118484, 0.58630975, 0.02430592,\n",
       "         0.59791769, 0.20413688, 0.73999002, 0.638968  , 0.88920993,\n",
       "         0.19181488, 0.68928118, 0.50866927, 0.20370681, 0.63064532,\n",
       "         0.14463617, 0.07415625, 0.75083244, 0.46426929, 0.62825107,\n",
       "         0.07360067, 0.63135043, 0.28780982, 0.44102986, 0.79811398,\n",
       "         0.24167753, 0.14872325, 0.29893116, 0.06414129, 0.12013701,\n",
       "         0.25716888, 0.29100318, 0.11356505, 0.45134695, 0.54942369,\n",
       "         0.36810771, 0.87194916, 0.77051401, 0.36662782, 0.36919412,\n",
       "         0.16714097, 0.99253166, 0.77616044, 0.02541468, 0.49193272,\n",
       "         0.70964012, 0.27430345, 0.39316227, 0.96813943, 0.68104959,\n",
       "         0.89833213, 0.99263884, 0.74394483, 0.35574451, 0.96061085,\n",
       "         0.5864864 , 0.47022201, 0.87030383, 0.44123218, 0.56472184,\n",
       "         0.55051937, 0.49844079, 0.12056379, 0.40371519, 0.32989562,\n",
       "         0.60721422, 0.86342703, 0.68387965, 0.930128  , 0.76520194,\n",
       "         0.93461641, 0.10162817, 0.17130393, 0.69143211, 0.8604338 ,\n",
       "         0.65567933, 0.64445848, 0.79019502, 0.00745135, 0.965583  ,\n",
       "         0.59557206, 0.53460255, 0.84252688, 0.53486145, 0.32366161,\n",
       "         0.28417846, 0.02145288, 0.71210545, 0.14762045, 0.57109185,\n",
       "         0.69870957, 0.58434594, 0.15974252, 0.70231671, 0.71663933,\n",
       "         0.3598106 , 0.29450633, 0.36227876, 0.38205104, 0.92132664,\n",
       "         0.9659207 , 0.70517719, 0.97403622, 0.6740829 , 0.57072849,\n",
       "         0.88484408, 0.19909611, 0.96447771, 0.15621574, 0.92967059,\n",
       "         0.60658175, 0.87201729, 0.81704509, 0.48128228, 0.79940266,\n",
       "         0.97066036, 0.60271496, 0.14198971, 0.09061459, 0.98871777,\n",
       "         0.81828279, 0.22742366, 0.55415534, 0.72396041, 0.05624191,\n",
       "         0.80779666, 0.73718992, 0.29322383, 0.73353818, 0.11803453,\n",
       "         0.76481185, 0.79523208, 0.873731  , 0.38555188, 0.22401149,\n",
       "         0.27663746, 0.45404753, 0.17399382, 0.36529329, 0.83917899,\n",
       "         0.56956669, 0.96194921, 0.96412252, 0.01936234, 0.35531557,\n",
       "         0.9530183 , 0.47168302, 0.18856457, 0.41162929, 0.0196174 ,\n",
       "         0.39803874, 0.87990224, 0.45744334, 0.09521705, 0.07258151,\n",
       "         0.21842617, 0.7960926 , 0.25915021, 0.40245654, 0.53263544,\n",
       "         0.71283557, 0.72182568, 0.05086676, 0.76023648, 0.67199688,\n",
       "         0.82664027, 0.54659944, 0.17653328, 0.21192631, 0.24047884,\n",
       "         0.94904924, 0.62452606, 0.24488281, 0.64414484, 0.44695135,\n",
       "         0.19335666, 0.95109731, 0.61176536, 0.45777789, 0.38401111,\n",
       "         0.74531216, 0.82308255, 0.37216639, 0.58163018, 0.29566808,\n",
       "         0.22805831, 0.44216401, 0.32528281, 0.8522014 , 0.1108428 ,\n",
       "         0.24575384, 0.18429157, 0.12424446, 0.7103947 , 0.60989343,\n",
       "         0.47007286, 0.78821824, 0.36401484, 0.90452339, 0.99382149,\n",
       "         0.79127362, 0.63372126, 0.4445895 , 0.04422037, 0.26405824,\n",
       "         0.27286909, 0.0068725 , 0.29312592, 0.73553495, 0.58221169,\n",
       "         0.33800732, 0.03181834, 0.01434595, 0.87662759, 0.8288044 ,\n",
       "         0.19266812, 0.46059589, 0.9406175 , 0.22670926, 0.63584376,\n",
       "         0.19656617, 0.8365446 , 0.5614733 , 0.99570158, 0.63450157,\n",
       "         0.75651526, 0.81756335, 0.85607121, 0.4989037 , 0.8649387 ,\n",
       "         0.96765282, 0.15621909, 0.03192265, 0.98808107, 0.6223606 ,\n",
       "         0.42329159, 0.23760739, 0.65475292, 0.52738133, 0.51210599,\n",
       "         0.38298436, 0.68691959, 0.75337109, 0.71382863, 0.46558993,\n",
       "         0.08148402, 0.01280104, 0.93418976, 0.60934477, 0.1589662 ,\n",
       "         0.14839856, 0.95898124, 0.86256218, 0.78229038, 0.05688306,\n",
       "         0.36031377, 0.22637924, 0.52832973, 0.82682944, 0.5732219 ,\n",
       "         0.82097244, 0.39945232, 0.9639008 , 0.20896521, 0.15984054,\n",
       "         0.38462517, 0.67726307, 0.5710635 , 0.23679317, 0.93437775,\n",
       "         0.0739095 , 0.68278898, 0.50729374, 0.44538791, 0.28483417,\n",
       "         0.59698744, 0.52100451, 0.776795  , 0.14551494, 0.02200818,\n",
       "         0.97516807, 0.17690926, 0.33205972, 0.87780404, 0.4861577 ,\n",
       "         0.76547589, 0.8560335 , 0.25573917, 0.93111875, 0.35868303,\n",
       "         0.51321966, 0.91784798, 0.26785618, 0.94544295, 0.10971852,\n",
       "         0.09085711, 0.15486472, 0.57260249, 0.33503451, 0.88514564,\n",
       "         0.12283949, 0.21350954, 0.84334362, 0.58595641, 0.25365757,\n",
       "         0.35753115, 0.25833944, 0.44465258, 0.46771061, 0.69811168,\n",
       "         0.22671954, 0.40567892, 0.89579526, 0.21290901, 0.31377015,\n",
       "         0.04990075, 0.35922043, 0.54220721, 0.98122605, 0.88968142,\n",
       "         0.63235576, 0.01817718, 0.70627785, 0.97634031, 0.46924383,\n",
       "         0.70095409, 0.30060644, 0.16591059, 0.34615074, 0.36129537,\n",
       "         0.39383361, 0.43251888, 0.8365549 , 0.36617008, 0.67798093,\n",
       "         0.15750061, 0.37702542, 0.35343415, 0.19771636, 0.10657478,\n",
       "         0.71026611, 0.32825183, 0.68463997, 0.57590831, 0.29412699,\n",
       "         0.64726754, 0.99661579, 0.5455286 , 0.77261883, 0.48257254,\n",
       "         0.00849515, 0.7988431 , 0.8138828 , 0.31305626, 0.98856443,\n",
       "         0.98491316, 0.75196913, 0.15357228, 0.60112757, 0.05283265,\n",
       "         0.17564964, 0.68507491, 0.88651799, 0.39327284, 0.45882844,\n",
       "         0.58608699, 0.83327018, 0.1823017 , 0.46995459, 0.52272694,\n",
       "         0.99274535, 0.53429533, 0.76125487, 0.17790909, 0.55571048,\n",
       "         0.32706772]))]"
      ]
     },
     "execution_count": 1,
     "metadata": {},
     "output_type": "execute_result"
    }
   ],
   "source": [
    "expand_setpoints_helper(a.spectrum)"
   ]
  },
  {
   "cell_type": "code",
   "execution_count": 21,
   "metadata": {
    "execution": {
     "iopub.execute_input": "2020-09-14T08:57:31.329521Z",
     "iopub.status.busy": "2020-09-14T08:57:31.328339Z",
     "iopub.status.idle": "2020-09-14T08:57:31.343027Z",
     "shell.execute_reply": "2020-09-14T08:57:31.343447Z"
    }
   },
   "outputs": [
    {
     "name": "stdout",
     "output_type": "stream",
     "text": [
      "Starting experimental run with id: 2. \n"
     ]
    }
   ],
   "source": [
    "meas = Measurement()\n",
    "meas.register_parameter(a.spectrum)\n",
    "\n",
    "with meas.run() as datasaver:\n",
    "    datasaver.add_result(*expand_setpoints_helper(a.spectrum))\n",
    "    \n",
    "    dataid = datasaver.run_id"
   ]
  },
  {
   "cell_type": "code",
   "execution_count": 22,
   "metadata": {},
   "outputs": [],
   "source": []
  }
 ],
 "metadata": {
  "kernelspec": {
   "display_name": "Python 3",
   "language": "python",
   "name": "python3"
  },
  "language_info": {
   "codemirror_mode": {
    "name": "ipython",
    "version": 3
   },
   "file_extension": ".py",
   "mimetype": "text/x-python",
   "name": "python",
   "nbconvert_exporter": "python",
   "pygments_lexer": "ipython3",
   "version": "3.7.7"
  },
  "toc": {
   "base_numbering": 1,
   "nav_menu": {},
   "number_sections": true,
   "sideBar": true,
   "skip_h1_title": false,
   "title_cell": "Table of Contents",
   "title_sidebar": "Contents",
   "toc_cell": false,
   "toc_position": {},
   "toc_section_display": true,
   "toc_window_display": false
  },
  "varInspector": {
   "cols": {
    "lenName": 16,
    "lenType": 16,
    "lenVar": 40
   },
   "kernels_config": {
    "python": {
     "delete_cmd_postfix": "",
     "delete_cmd_prefix": "del ",
     "library": "var_list.py",
     "varRefreshCmd": "print(var_dic_list())"
    },
    "r": {
     "delete_cmd_postfix": ") ",
     "delete_cmd_prefix": "rm(",
     "library": "var_list.r",
     "varRefreshCmd": "cat(var_dic_list()) "
    }
   },
   "types_to_exclude": [
    "module",
    "function",
    "builtin_function_or_method",
    "instance",
    "_Feature"
   ],
   "window_display": false
  }
 },
 "nbformat": 4,
 "nbformat_minor": 2
}
