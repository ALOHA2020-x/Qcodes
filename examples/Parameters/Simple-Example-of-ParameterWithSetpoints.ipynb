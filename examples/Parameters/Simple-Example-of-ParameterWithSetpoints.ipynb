{
 "cells": [
  {
   "cell_type": "markdown",
   "metadata": {},
   "source": [
    "# Simple Example of ParameterWithSetpoints\n",
    "This notebook provides an example for writing a simple driver with a parameter that has setpoints. Let's name this parameter that has setpoints as \"y\". Then, the setpoints, say \"x1, x2, x3 ..\", are the parameters on which the parameter \n",
    "\"y\" depends upon. Meaning \"y\" is a function of \"x1, x2, x3 ...\" where \"x1, x2, x3 ...\" are known as the setpoints of parameter \"y\".\n",
    "\n",
    "This is most likely to be useful for instruments that return arrays of results. In this notebook, we will show an example of this."
   ]
  },
  {
   "cell_type": "code",
   "execution_count": 1,
   "metadata": {},
   "outputs": [],
   "source": [
    "import numpy as np\n",
    "import os"
   ]
  },
  {
   "cell_type": "code",
   "execution_count": 2,
   "metadata": {},
   "outputs": [
    {
     "name": "stdout",
     "output_type": "stream",
     "text": [
      "Logging hadn't been started.\n",
      "Activating auto-logging. Current session state plus future input saved.\n",
      "Filename       : /home/vsts/.qcodes/logs/command_history.log\n",
      "Mode           : append\n",
      "Output logging : True\n",
      "Raw input log  : False\n",
      "Timestamping   : True\n",
      "State          : active\n"
     ]
    },
    {
     "name": "stdout",
     "output_type": "stream",
     "text": [
      "Qcodes Logfile : /home/vsts/.qcodes/logs/200529-22397-qcodes.log\n"
     ]
    }
   ],
   "source": [
    "from qcodes.dataset.plotting import plot_dataset\n",
    "from qcodes.utils.validators import Numbers, Arrays\n",
    "from qcodes.instrument.base import Instrument\n",
    "from qcodes.dataset.measurements import Measurement"
   ]
  },
  {
   "cell_type": "code",
   "execution_count": 3,
   "metadata": {},
   "outputs": [],
   "source": [
    "from qcodes.dataset.sqlite.database import initialise_or_create_database_at\n",
    "from qcodes.dataset.experiment_container import load_or_create_experiment"
   ]
  },
  {
   "cell_type": "code",
   "execution_count": 4,
   "metadata": {},
   "outputs": [],
   "source": [
    "from qcodes.instrument.parameter import ParameterWithSetpoints, Parameter\n",
    "from qcodes.instrument.parameter import expand_setpoints_helper"
   ]
  },
  {
   "cell_type": "markdown",
   "metadata": {},
   "source": [
    "First, we define a dummy instrument that returns something like a frequency spectrum starting from a frequency given by `f_start` to a frequency given by `f_stop` in `n_points` steps. \n",
    "\n",
    "The extra functionality of the `ParameterWithSetpoints` is implemented by giving it a reference to one or more parameters that acts like its setpoints. \n",
    "\n",
    "To setup a `ParameterWithSetpoints` we have to do two things in addition to what we do for a normal parameter.\n",
    "\n",
    "* Define one or more parameter for the setpoints (one for each dimension of the array and let the `ParameterWithSetpoints` know that these are the setpoints.\n",
    "* Give both the setpoints parameter(s) and the `ParameterWithSetpoints` a `validator` of type `Arrays` with a shape. The shapes should be such that the combined shape of the setpoints matches the shape of the `ParameterWithSetpoints`. Note that if the shape changes with the setting of the instrument, it can be defined by another parameter as shown below. "
   ]
  },
  {
   "cell_type": "code",
   "execution_count": 5,
   "metadata": {},
   "outputs": [],
   "source": [
    "class GeneratedSetPoints(Parameter):\n",
    "    \"\"\"\n",
    "    A parameter that generates a setpoint array from start, stop and num points\n",
    "    parameters.\n",
    "    \"\"\"\n",
    "    def __init__(self, startparam, stopparam, numpointsparam, *args, **kwargs):\n",
    "        super().__init__(*args, **kwargs)\n",
    "        self._startparam = startparam\n",
    "        self._stopparam = stopparam\n",
    "        self._numpointsparam = numpointsparam\n",
    "\n",
    "    def get_raw(self):\n",
    "        return np.linspace(self._startparam(), self._stopparam(),\n",
    "                              self._numpointsparam())\n",
    "\n",
    "class DummyArray(ParameterWithSetpoints):\n",
    "    \n",
    "    def get_raw(self):\n",
    "        npoints = self.root_instrument.n_points.get_latest()\n",
    "        return np.random.rand(npoints)\n",
    "    \n",
    "\n",
    "class DummySpectrumAnalyzer(Instrument):\n",
    "    \n",
    "    def __init__(self, name, **kwargs):\n",
    "        \n",
    "        super().__init__(name, **kwargs)\n",
    "            \n",
    "\n",
    "        self.add_parameter('f_start',\n",
    "                           initial_value=0,\n",
    "                           unit='Hz',\n",
    "                           label='f start',\n",
    "                           vals=Numbers(0,1e3),\n",
    "                           get_cmd=None,\n",
    "                           set_cmd=None)\n",
    "\n",
    "        self.add_parameter('f_stop',\n",
    "                           unit='Hz',\n",
    "                           label='f stop',\n",
    "                           vals=Numbers(1,1e3),\n",
    "                           get_cmd=None,\n",
    "                           set_cmd=None)\n",
    "\n",
    "        self.add_parameter('n_points',\n",
    "                           unit='',\n",
    "                           initial_value=10,\n",
    "                           vals=Numbers(1,1e3),\n",
    "                           get_cmd=None,\n",
    "                           set_cmd=None)\n",
    "        \n",
    "        self.add_parameter('freq_axis',\n",
    "                           unit='Hz',\n",
    "                           label='Freq Axis',\n",
    "                           parameter_class=GeneratedSetPoints,\n",
    "                           startparam=self.f_start,\n",
    "                           stopparam=self.f_stop,\n",
    "                           numpointsparam=self.n_points,\n",
    "                           vals=Arrays(shape=(self.n_points.get_latest,)))\n",
    "                           \n",
    "        self.add_parameter('spectrum',\n",
    "                   unit='dBm',\n",
    "                   setpoints=(self.freq_axis,),\n",
    "                   label='Spectrum',\n",
    "                   parameter_class=DummyArray,\n",
    "                   vals=Arrays(shape=(self.n_points.get_latest,)))\n",
    "                "
   ]
  },
  {
   "cell_type": "markdown",
   "metadata": {},
   "source": [
    "In the above example, the shape is defined by the parameter `n_points` that defines how many samples our `DummySpectrumAnalyzer` returns.\n",
    "\n",
    "This means that the validation will call the function to get `n_points` twice for each `get` of the parameter. This may be too slow, however, if you (as the driver-writer) can guarantee that the cached value for `n_points` will never be out of sync with the value stored in the instrument, `n_points` may be replaced by it's latest known value such that the `validator` reads:\n",
    "```python\n",
    "vals=Arrays(shape=(self.n_points.get_latest))\n",
    "```\n",
    "\n",
    "This avoids any additional call to the instrument. In the same way, the arguments to the `freq_axis` parameter that defines the start, stop and number of points can be replaced by their latest value if the instrument allows it.\n",
    "\n"
   ]
  },
  {
   "cell_type": "code",
   "execution_count": 6,
   "metadata": {},
   "outputs": [
    {
     "name": "stdout",
     "output_type": "stream",
     "text": [
      "\r",
      "0it [00:00, ?it/s]"
     ]
    },
    {
     "name": "stdout",
     "output_type": "stream",
     "text": [
      "\r",
      "Upgrading database; v0 -> v1: : 0it [00:00, ?it/s]"
     ]
    },
    {
     "name": "stdout",
     "output_type": "stream",
     "text": [
      "\r",
      "Upgrading database; v0 -> v1: : 0it [00:00, ?it/s]"
     ]
    },
    {
     "name": "stdout",
     "output_type": "stream",
     "text": [
      "\n",
      "\r",
      "  0%|          | 0/1 [00:00<?, ?it/s]"
     ]
    },
    {
     "name": "stdout",
     "output_type": "stream",
     "text": [
      "\r",
      "Upgrading database; v1 -> v2:   0%|          | 0/1 [00:00<?, ?it/s]"
     ]
    },
    {
     "name": "stdout",
     "output_type": "stream",
     "text": [
      "\r",
      "Upgrading database; v1 -> v2: 100%|██████████| 1/1 [00:00<00:00, 534.10it/s]"
     ]
    },
    {
     "name": "stdout",
     "output_type": "stream",
     "text": [
      "\n",
      "\r",
      "0it [00:00, ?it/s]"
     ]
    },
    {
     "name": "stdout",
     "output_type": "stream",
     "text": [
      "\r",
      "Upgrading database; v2 -> v3: : 0it [00:00, ?it/s]"
     ]
    },
    {
     "name": "stdout",
     "output_type": "stream",
     "text": [
      "\r",
      "Upgrading database; v2 -> v3: : 0it [00:00, ?it/s]"
     ]
    },
    {
     "name": "stdout",
     "output_type": "stream",
     "text": [
      "\n",
      "\r",
      "0it [00:00, ?it/s]"
     ]
    },
    {
     "name": "stdout",
     "output_type": "stream",
     "text": [
      "\r",
      "Upgrading database; v3 -> v4: : 0it [00:00, ?it/s]"
     ]
    },
    {
     "name": "stdout",
     "output_type": "stream",
     "text": [
      "\r",
      "Upgrading database; v3 -> v4: : 0it [00:00, ?it/s]"
     ]
    },
    {
     "name": "stdout",
     "output_type": "stream",
     "text": [
      "\n",
      "\r",
      "  0%|          | 0/1 [00:00<?, ?it/s]"
     ]
    },
    {
     "name": "stdout",
     "output_type": "stream",
     "text": [
      "\r",
      "Upgrading database; v4 -> v5:   0%|          | 0/1 [00:00<?, ?it/s]"
     ]
    },
    {
     "name": "stdout",
     "output_type": "stream",
     "text": [
      "\r",
      "Upgrading database; v4 -> v5: 100%|██████████| 1/1 [00:00<00:00, 684.23it/s]"
     ]
    },
    {
     "name": "stdout",
     "output_type": "stream",
     "text": [
      "\n",
      "\r",
      "0it [00:00, ?it/s]"
     ]
    },
    {
     "name": "stdout",
     "output_type": "stream",
     "text": [
      "\r",
      "Upgrading database; v5 -> v6: : 0it [00:00, ?it/s]"
     ]
    },
    {
     "name": "stdout",
     "output_type": "stream",
     "text": [
      "\r",
      "Upgrading database; v5 -> v6: : 0it [00:00, ?it/s]"
     ]
    },
    {
     "name": "stdout",
     "output_type": "stream",
     "text": [
      "\n",
      "\r",
      "  0%|          | 0/1 [00:00<?, ?it/s]"
     ]
    },
    {
     "name": "stdout",
     "output_type": "stream",
     "text": [
      "\r",
      "Upgrading database; v6 -> v7:   0%|          | 0/1 [00:00<?, ?it/s]"
     ]
    },
    {
     "name": "stdout",
     "output_type": "stream",
     "text": [
      "\r",
      "Upgrading database; v6 -> v7: 100%|██████████| 1/1 [00:00<00:00, 396.40it/s]"
     ]
    },
    {
     "name": "stdout",
     "output_type": "stream",
     "text": [
      "\n",
      "\r",
      "  0%|          | 0/1 [00:00<?, ?it/s]"
     ]
    },
    {
     "name": "stdout",
     "output_type": "stream",
     "text": [
      "\r",
      "Upgrading database; v7 -> v8:   0%|          | 0/1 [00:00<?, ?it/s]"
     ]
    },
    {
     "name": "stdout",
     "output_type": "stream",
     "text": [
      "\r",
      "Upgrading database; v7 -> v8: 100%|██████████| 1/1 [00:00<00:00, 940.22it/s]"
     ]
    },
    {
     "name": "stdout",
     "output_type": "stream",
     "text": [
      "\n",
      "\r",
      "  0%|          | 0/1 [00:00<?, ?it/s]"
     ]
    },
    {
     "name": "stdout",
     "output_type": "stream",
     "text": [
      "\r",
      "Upgrading database; v8 -> v9:   0%|          | 0/1 [00:00<?, ?it/s]"
     ]
    },
    {
     "name": "stdout",
     "output_type": "stream",
     "text": [
      "\r",
      "Upgrading database; v8 -> v9: 100%|██████████| 1/1 [00:00<00:00, 874.36it/s]"
     ]
    },
    {
     "name": "stdout",
     "output_type": "stream",
     "text": [
      "\n"
     ]
    },
    {
     "data": {
      "text/plain": [
       "tutorial_ParameterWithSetpoints#no sample#1@/home/vsts/work/1/s/docs/examples/Parameters/tutorial_paramter_with_setpoints.db\n",
       "----------------------------------------------------------------------------------------------------------------------------"
      ]
     },
     "execution_count": 6,
     "metadata": {},
     "output_type": "execute_result"
    }
   ],
   "source": [
    "tutorial_db_path = os.path.join(os.getcwd(), 'tutorial_paramter_with_setpoints.db')\n",
    "initialise_or_create_database_at(tutorial_db_path)\n",
    "load_or_create_experiment(experiment_name='tutorial_ParameterWithSetpoints', sample_name=\"no sample\")"
   ]
  },
  {
   "cell_type": "code",
   "execution_count": 7,
   "metadata": {},
   "outputs": [],
   "source": [
    "a = DummySpectrumAnalyzer('foobar')"
   ]
  },
  {
   "cell_type": "markdown",
   "metadata": {},
   "source": [
    "First we setup the limits of the spectrum"
   ]
  },
  {
   "cell_type": "code",
   "execution_count": 8,
   "metadata": {},
   "outputs": [],
   "source": [
    "a.f_start(0)\n",
    "a.f_stop(500)\n",
    "a.n_points(501)"
   ]
  },
  {
   "cell_type": "markdown",
   "metadata": {},
   "source": [
    "And we can grab the frequency axis"
   ]
  },
  {
   "cell_type": "code",
   "execution_count": 9,
   "metadata": {},
   "outputs": [
    {
     "data": {
      "text/plain": [
       "501"
      ]
     },
     "execution_count": 9,
     "metadata": {},
     "output_type": "execute_result"
    }
   ],
   "source": [
    "a.n_points()"
   ]
  },
  {
   "cell_type": "code",
   "execution_count": 10,
   "metadata": {
    "scrolled": false
   },
   "outputs": [
    {
     "data": {
      "text/plain": [
       "501"
      ]
     },
     "execution_count": 10,
     "metadata": {},
     "output_type": "execute_result"
    }
   ],
   "source": [
    "freq_axis = a.freq_axis()\n",
    "len(freq_axis)"
   ]
  },
  {
   "cell_type": "code",
   "execution_count": 11,
   "metadata": {},
   "outputs": [
    {
     "data": {
      "text/plain": [
       "array([0., 1., 2., 3., 4., 5., 6., 7., 8., 9.])"
      ]
     },
     "execution_count": 11,
     "metadata": {},
     "output_type": "execute_result"
    }
   ],
   "source": [
    "freq_axis[:10]"
   ]
  },
  {
   "cell_type": "markdown",
   "metadata": {},
   "source": [
    "As expected we get a result wit 501 points as we asked for an axis with 501 points. "
   ]
  },
  {
   "cell_type": "markdown",
   "metadata": {},
   "source": [
    "Above we have added a validator to the `freq_axis` parameter encoding the fact that this is an Array with `n_points`. Note that we do not have to supply the number of points as an integer but can supply a function that returns the valid number of points. This would normally be a QCoDeS parameter.\n",
    "\n",
    "This will be checked if we validate the output."
   ]
  },
  {
   "cell_type": "code",
   "execution_count": 12,
   "metadata": {},
   "outputs": [],
   "source": [
    "a.freq_axis.validate(a.freq_axis.get())"
   ]
  },
  {
   "cell_type": "markdown",
   "metadata": {},
   "source": [
    "Naturally, we can also get the spectrum. Getting the spectrum will automatically perform validation both for the shape of the parameter itself and the relation to the setpoint parameter(s)"
   ]
  },
  {
   "cell_type": "code",
   "execution_count": 13,
   "metadata": {
    "scrolled": true
   },
   "outputs": [
    {
     "data": {
      "text/plain": [
       "501"
      ]
     },
     "execution_count": 13,
     "metadata": {},
     "output_type": "execute_result"
    }
   ],
   "source": [
    "spectrum = a.spectrum.get()\n",
    "len(spectrum)"
   ]
  },
  {
   "cell_type": "markdown",
   "metadata": {},
   "source": [
    "When we validate a `ParameterWithSetpoints`, we automatically validate that the shape is consistent between the parameters and its setpoints. As well as validating the shape as above."
   ]
  },
  {
   "cell_type": "code",
   "execution_count": 14,
   "metadata": {},
   "outputs": [],
   "source": [
    "a.spectrum.validate(a.spectrum.get())"
   ]
  },
  {
   "cell_type": "markdown",
   "metadata": {},
   "source": [
    "The consistent shapes can be validated explicitly."
   ]
  },
  {
   "cell_type": "code",
   "execution_count": 15,
   "metadata": {},
   "outputs": [],
   "source": [
    "a.spectrum.validate_consistent_shape()"
   ]
  },
  {
   "cell_type": "markdown",
   "metadata": {},
   "source": [
    "We can inspect the setpoints of the spectrum."
   ]
  },
  {
   "cell_type": "code",
   "execution_count": 16,
   "metadata": {},
   "outputs": [
    {
     "data": {
      "text/plain": [
       "(<__main__.GeneratedSetPoints: freq_axis at 139804115192784>,)"
      ]
     },
     "execution_count": 16,
     "metadata": {},
     "output_type": "execute_result"
    }
   ],
   "source": [
    "a.spectrum.setpoints"
   ]
  },
  {
   "cell_type": "markdown",
   "metadata": {},
   "source": [
    "Or even change them."
   ]
  },
  {
   "cell_type": "code",
   "execution_count": 17,
   "metadata": {},
   "outputs": [],
   "source": [
    "a.spectrum.setpoints = (a.freq_axis,)"
   ]
  },
  {
   "cell_type": "markdown",
   "metadata": {},
   "source": [
    "## Measurement"
   ]
  },
  {
   "cell_type": "markdown",
   "metadata": {},
   "source": [
    "We can also directly consume the parameter in a measurement without defining the setpoints of the parameter again. The setpoints are automatically obtained from the definition of the `ParameterWithSetpoint` instance. "
   ]
  },
  {
   "cell_type": "code",
   "execution_count": 18,
   "metadata": {},
   "outputs": [
    {
     "name": "stdout",
     "output_type": "stream",
     "text": [
      "Starting experimental run with id: 1. \n"
     ]
    }
   ],
   "source": [
    "meas = Measurement()\n",
    "meas.register_parameter(a.spectrum)\n",
    "\n",
    "with meas.run() as datasaver:\n",
    "    datasaver.add_result((a.freq_axis, a.freq_axis()),\n",
    "                         (a.spectrum, a.spectrum()))\n",
    "    dataset = datasaver.dataset"
   ]
  },
  {
   "cell_type": "markdown",
   "metadata": {},
   "source": [
    "And plot it"
   ]
  },
  {
   "cell_type": "code",
   "execution_count": 19,
   "metadata": {},
   "outputs": [
    {
     "data": {
      "text/plain": [
       "([<matplotlib.axes._subplots.AxesSubplot at 0x7f26ae198910>], [None])"
      ]
     },
     "execution_count": 19,
     "metadata": {},
     "output_type": "execute_result"
    },
    {
     "data": {
      "image/png": "[encoded data removed]",
      "text/plain": [
       "<Figure size 432x288 with 1 Axes>"
      ]
     },
     "metadata": {
      "needs_background": "light"
     },
     "output_type": "display_data"
    }
   ],
   "source": [
    "plot_dataset(dataset)"
   ]
  },
  {
   "cell_type": "markdown",
   "metadata": {},
   "source": [
    "To reduce the amount of typing a simple convenience function is provided that will take a `ParameterWithSetpoints` and get both its values and the setpoints values and return them as tuples for direct insertion into the Dataset."
   ]
  },
  {
   "cell_type": "code",
   "execution_count": 20,
   "metadata": {
    "scrolled": true
   },
   "outputs": [
    {
     "data": {
      "text/plain": [
       "[(<__main__.GeneratedSetPoints: freq_axis at 139804115192784>,\n",
       "  array([  0.,   1.,   2.,   3.,   4.,   5.,   6.,   7.,   8.,   9.,  10.,\n",
       "          11.,  12.,  13.,  14.,  15.,  16.,  17.,  18.,  19.,  20.,  21.,\n",
       "          22.,  23.,  24.,  25.,  26.,  27.,  28.,  29.,  30.,  31.,  32.,\n",
       "          33.,  34.,  35.,  36.,  37.,  38.,  39.,  40.,  41.,  42.,  43.,\n",
       "          44.,  45.,  46.,  47.,  48.,  49.,  50.,  51.,  52.,  53.,  54.,\n",
       "          55.,  56.,  57.,  58.,  59.,  60.,  61.,  62.,  63.,  64.,  65.,\n",
       "          66.,  67.,  68.,  69.,  70.,  71.,  72.,  73.,  74.,  75.,  76.,\n",
       "          77.,  78.,  79.,  80.,  81.,  82.,  83.,  84.,  85.,  86.,  87.,\n",
       "          88.,  89.,  90.,  91.,  92.,  93.,  94.,  95.,  96.,  97.,  98.,\n",
       "          99., 100., 101., 102., 103., 104., 105., 106., 107., 108., 109.,\n",
       "         110., 111., 112., 113., 114., 115., 116., 117., 118., 119., 120.,\n",
       "         121., 122., 123., 124., 125., 126., 127., 128., 129., 130., 131.,\n",
       "         132., 133., 134., 135., 136., 137., 138., 139., 140., 141., 142.,\n",
       "         143., 144., 145., 146., 147., 148., 149., 150., 151., 152., 153.,\n",
       "         154., 155., 156., 157., 158., 159., 160., 161., 162., 163., 164.,\n",
       "         165., 166., 167., 168., 169., 170., 171., 172., 173., 174., 175.,\n",
       "         176., 177., 178., 179., 180., 181., 182., 183., 184., 185., 186.,\n",
       "         187., 188., 189., 190., 191., 192., 193., 194., 195., 196., 197.,\n",
       "         198., 199., 200., 201., 202., 203., 204., 205., 206., 207., 208.,\n",
       "         209., 210., 211., 212., 213., 214., 215., 216., 217., 218., 219.,\n",
       "         220., 221., 222., 223., 224., 225., 226., 227., 228., 229., 230.,\n",
       "         231., 232., 233., 234., 235., 236., 237., 238., 239., 240., 241.,\n",
       "         242., 243., 244., 245., 246., 247., 248., 249., 250., 251., 252.,\n",
       "         253., 254., 255., 256., 257., 258., 259., 260., 261., 262., 263.,\n",
       "         264., 265., 266., 267., 268., 269., 270., 271., 272., 273., 274.,\n",
       "         275., 276., 277., 278., 279., 280., 281., 282., 283., 284., 285.,\n",
       "         286., 287., 288., 289., 290., 291., 292., 293., 294., 295., 296.,\n",
       "         297., 298., 299., 300., 301., 302., 303., 304., 305., 306., 307.,\n",
       "         308., 309., 310., 311., 312., 313., 314., 315., 316., 317., 318.,\n",
       "         319., 320., 321., 322., 323., 324., 325., 326., 327., 328., 329.,\n",
       "         330., 331., 332., 333., 334., 335., 336., 337., 338., 339., 340.,\n",
       "         341., 342., 343., 344., 345., 346., 347., 348., 349., 350., 351.,\n",
       "         352., 353., 354., 355., 356., 357., 358., 359., 360., 361., 362.,\n",
       "         363., 364., 365., 366., 367., 368., 369., 370., 371., 372., 373.,\n",
       "         374., 375., 376., 377., 378., 379., 380., 381., 382., 383., 384.,\n",
       "         385., 386., 387., 388., 389., 390., 391., 392., 393., 394., 395.,\n",
       "         396., 397., 398., 399., 400., 401., 402., 403., 404., 405., 406.,\n",
       "         407., 408., 409., 410., 411., 412., 413., 414., 415., 416., 417.,\n",
       "         418., 419., 420., 421., 422., 423., 424., 425., 426., 427., 428.,\n",
       "         429., 430., 431., 432., 433., 434., 435., 436., 437., 438., 439.,\n",
       "         440., 441., 442., 443., 444., 445., 446., 447., 448., 449., 450.,\n",
       "         451., 452., 453., 454., 455., 456., 457., 458., 459., 460., 461.,\n",
       "         462., 463., 464., 465., 466., 467., 468., 469., 470., 471., 472.,\n",
       "         473., 474., 475., 476., 477., 478., 479., 480., 481., 482., 483.,\n",
       "         484., 485., 486., 487., 488., 489., 490., 491., 492., 493., 494.,\n",
       "         495., 496., 497., 498., 499., 500.])),\n",
       " (<__main__.DummyArray: spectrum at 139804115192592>,\n",
       "  array([7.61908222e-01, 7.32779987e-01, 3.53321906e-01, 5.04843081e-01,\n",
       "         6.86886486e-01, 5.28809676e-01, 7.88862358e-01, 6.45584239e-01,\n",
       "         7.77522708e-01, 7.33846460e-01, 9.93967244e-01, 9.33095189e-01,\n",
       "         3.23985969e-01, 5.68734927e-01, 4.52019252e-01, 7.97376253e-01,\n",
       "         9.95536557e-01, 3.78526073e-01, 3.53443261e-01, 6.81570471e-01,\n",
       "         2.61562973e-04, 1.26457748e-02, 3.83774764e-01, 3.47126484e-01,\n",
       "         6.25462296e-01, 1.57243988e-01, 3.55574675e-01, 2.58641334e-01,\n",
       "         5.20322910e-02, 9.59956443e-01, 3.50983070e-01, 6.09793565e-01,\n",
       "         8.57921907e-01, 9.18484694e-01, 6.96405318e-01, 9.18335915e-01,\n",
       "         8.37809768e-01, 1.69425656e-01, 5.31145494e-01, 5.43913664e-01,\n",
       "         2.91623908e-01, 1.62635034e-01, 9.36236729e-01, 9.31311549e-01,\n",
       "         5.86254314e-01, 3.74121371e-01, 4.44013738e-01, 7.36899929e-01,\n",
       "         1.44321759e-01, 5.52496534e-01, 6.95060166e-01, 2.22325759e-01,\n",
       "         3.81879621e-01, 4.50862574e-01, 6.62627154e-01, 7.61618969e-01,\n",
       "         9.18144057e-02, 6.16016730e-01, 2.83403600e-02, 8.71800404e-02,\n",
       "         5.56742539e-01, 4.81036181e-01, 6.05253798e-01, 5.89601244e-01,\n",
       "         1.10748012e-03, 2.58756828e-01, 9.96175561e-01, 8.46988136e-02,\n",
       "         5.77837768e-01, 1.17055711e-01, 1.35214419e-01, 4.93281792e-01,\n",
       "         8.42883520e-01, 6.71609000e-02, 8.89684963e-01, 8.75256725e-01,\n",
       "         6.94601236e-01, 4.65630544e-01, 7.04879519e-01, 6.64286542e-01,\n",
       "         5.11520113e-02, 6.72771664e-01, 2.35821268e-01, 5.58184894e-01,\n",
       "         7.47418544e-01, 6.39209506e-01, 8.28679483e-01, 4.30797025e-01,\n",
       "         5.13399712e-01, 6.84445600e-01, 1.53734750e-01, 5.02834581e-01,\n",
       "         5.46878343e-01, 8.17471148e-01, 2.17483636e-01, 7.40301776e-01,\n",
       "         4.08287754e-01, 5.88060478e-01, 2.75976157e-01, 1.76662294e-01,\n",
       "         5.06403197e-01, 1.36292099e-01, 4.82687866e-01, 2.36943937e-01,\n",
       "         7.62865625e-01, 8.18983660e-01, 9.53802555e-01, 5.61473418e-01,\n",
       "         1.53906740e-01, 9.21183647e-01, 1.18698402e-01, 7.11815589e-01,\n",
       "         9.98373063e-01, 3.03024852e-01, 3.32520714e-01, 5.50264558e-01,\n",
       "         6.98965673e-01, 5.08682285e-01, 6.67096111e-01, 3.97727884e-01,\n",
       "         6.90301030e-02, 7.50143301e-02, 8.66435549e-01, 2.89974825e-01,\n",
       "         5.27325050e-01, 3.02717779e-01, 1.29438355e-01, 2.72471397e-02,\n",
       "         9.73098581e-02, 1.73912048e-01, 6.29167592e-01, 5.09918219e-01,\n",
       "         1.23765097e-01, 7.68757652e-01, 9.81206989e-01, 7.69962473e-02,\n",
       "         9.73325441e-01, 1.50140140e-01, 1.89127347e-01, 6.30257389e-01,\n",
       "         5.47179436e-01, 9.39195198e-01, 1.41546909e-01, 1.52051845e-01,\n",
       "         6.63928641e-01, 9.47412996e-01, 7.18437173e-01, 7.46788439e-01,\n",
       "         1.90572104e-01, 1.78946017e-01, 2.32232230e-01, 8.45469317e-01,\n",
       "         2.12690769e-01, 6.06893721e-01, 5.44664102e-01, 5.72621113e-01,\n",
       "         1.54527862e-01, 2.31536955e-01, 2.95995299e-01, 1.62770462e-01,\n",
       "         1.36996915e-01, 2.88474963e-01, 9.12516315e-01, 7.90199728e-01,\n",
       "         1.74737650e-01, 8.57251405e-01, 7.85935305e-01, 5.18978918e-01,\n",
       "         6.39157890e-02, 8.50028740e-01, 9.15799667e-01, 4.30851273e-01,\n",
       "         1.18364745e-01, 9.97993715e-01, 2.35882267e-01, 2.49174765e-01,\n",
       "         3.65116056e-01, 9.25745594e-02, 4.80899178e-02, 2.27913824e-01,\n",
       "         3.38271325e-01, 9.76057503e-02, 2.79606297e-01, 4.55288320e-01,\n",
       "         6.38976164e-01, 2.62990100e-01, 2.66416083e-01, 2.66020129e-01,\n",
       "         3.18436382e-01, 9.50375077e-01, 6.87434604e-01, 7.52552727e-01,\n",
       "         3.09229800e-01, 3.69406298e-01, 5.46832367e-01, 7.27015917e-01,\n",
       "         4.72379782e-01, 9.49931545e-02, 2.21245506e-01, 5.66367033e-01,\n",
       "         4.51725310e-02, 4.79451434e-01, 4.47917441e-01, 1.96991308e-01,\n",
       "         2.70720341e-01, 4.79591967e-01, 3.22443097e-01, 3.76378401e-01,\n",
       "         9.86424035e-01, 5.17332488e-01, 7.32830823e-01, 9.96501335e-01,\n",
       "         6.91849297e-01, 1.61787378e-01, 3.39823345e-01, 5.49233704e-01,\n",
       "         5.67266743e-01, 1.90936620e-01, 3.86757700e-01, 4.20988385e-01,\n",
       "         8.34454708e-01, 9.83599348e-01, 6.46859233e-01, 3.96742276e-01,\n",
       "         7.38687747e-01, 3.91255389e-01, 6.81703011e-01, 5.46991644e-01,\n",
       "         5.14299664e-01, 5.13911636e-01, 2.75585896e-01, 9.81944936e-01,\n",
       "         3.62313629e-01, 3.94072125e-01, 7.64730589e-01, 2.70486310e-01,\n",
       "         6.05090559e-01, 3.42527997e-03, 2.49273377e-01, 9.10188638e-01,\n",
       "         7.31773733e-01, 5.34107913e-02, 8.68853148e-01, 9.57262871e-01,\n",
       "         2.80485495e-01, 7.81916951e-01, 6.29937931e-01, 9.58703511e-01,\n",
       "         7.59400810e-01, 8.38222590e-01, 3.46942983e-01, 6.28924568e-02,\n",
       "         6.62797991e-01, 5.26792199e-02, 8.54648940e-01, 5.36562568e-01,\n",
       "         1.62036964e-01, 2.53281373e-02, 7.24189990e-01, 6.24687973e-01,\n",
       "         1.04848145e-01, 1.58193062e-01, 7.37006077e-01, 1.00386694e-02,\n",
       "         1.85582594e-01, 2.80436392e-01, 5.95786558e-01, 5.47152780e-01,\n",
       "         4.72454930e-01, 4.99951309e-01, 9.15275177e-01, 5.07272363e-01,\n",
       "         6.61386355e-01, 1.87413047e-01, 7.93548822e-01, 7.12624469e-01,\n",
       "         6.82658966e-01, 1.21864664e-01, 8.16517945e-01, 2.45677590e-01,\n",
       "         2.11490057e-01, 4.97787002e-01, 9.74056077e-01, 1.38337733e-01,\n",
       "         7.53819523e-01, 3.08596603e-01, 8.74285072e-01, 3.94435039e-01,\n",
       "         6.95795495e-01, 2.94473440e-01, 3.90780894e-03, 7.63921547e-01,\n",
       "         6.61912628e-02, 5.45210881e-01, 6.10404657e-01, 8.42195959e-01,\n",
       "         2.65558689e-01, 2.10692291e-01, 5.86333240e-01, 5.04989126e-01,\n",
       "         5.01733209e-01, 2.52988421e-01, 3.30245812e-01, 3.66431394e-01,\n",
       "         8.95691848e-02, 5.91952220e-02, 3.31172144e-01, 3.54368521e-01,\n",
       "         3.04062198e-01, 6.44850732e-01, 5.24723794e-01, 5.07892119e-01,\n",
       "         5.82172233e-01, 6.84573544e-01, 9.81880170e-01, 5.84652340e-01,\n",
       "         9.47211931e-01, 9.77503156e-01, 2.71630033e-01, 8.35838383e-01,\n",
       "         6.51723647e-01, 6.53648213e-01, 1.62417253e-01, 3.52104230e-01,\n",
       "         9.61114396e-01, 6.64382847e-01, 2.17988285e-02, 6.44574841e-01,\n",
       "         7.73460691e-01, 3.60241042e-01, 6.09503078e-01, 2.23540061e-01,\n",
       "         7.64789807e-01, 3.58418286e-01, 3.52427600e-02, 8.73877887e-01,\n",
       "         5.35818598e-01, 8.62562643e-01, 5.47258547e-01, 4.91819101e-01,\n",
       "         1.31733775e-02, 6.31227822e-01, 4.83125476e-01, 2.14710796e-03,\n",
       "         6.67498749e-01, 3.29703558e-01, 8.05784082e-01, 1.81247029e-01,\n",
       "         3.38599957e-01, 7.31085625e-01, 6.27122973e-01, 9.47223697e-01,\n",
       "         3.87784006e-01, 7.45251834e-01, 9.54802780e-01, 2.66132129e-01,\n",
       "         2.03141210e-01, 7.17673351e-01, 6.48753726e-01, 6.35145664e-01,\n",
       "         5.92460726e-01, 8.53669869e-01, 9.63263634e-01, 5.96576708e-01,\n",
       "         5.70449432e-01, 8.91202485e-01, 9.66041293e-01, 1.82472124e-01,\n",
       "         7.41207549e-01, 5.33929517e-01, 5.94627405e-01, 1.99992058e-02,\n",
       "         5.14511201e-01, 6.03470656e-02, 8.92201654e-01, 9.03012584e-01,\n",
       "         3.24701996e-01, 3.63680637e-02, 5.30523715e-01, 6.51183456e-01,\n",
       "         2.29022167e-01, 7.22328763e-01, 3.43676394e-01, 9.26741033e-01,\n",
       "         5.08631960e-01, 5.41580237e-01, 4.42506284e-01, 6.71400873e-01,\n",
       "         6.59485605e-01, 9.04372994e-01, 6.77008757e-01, 7.73281311e-01,\n",
       "         5.75587314e-02, 3.85152405e-01, 5.55869490e-01, 6.82314207e-01,\n",
       "         9.37301376e-01, 7.99228901e-01, 2.40443448e-01, 9.14809688e-01,\n",
       "         5.23326500e-01, 4.85353132e-01, 6.53704415e-02, 2.61398298e-01,\n",
       "         1.24839933e-01, 3.38720579e-01, 2.72045320e-01, 9.67776171e-01,\n",
       "         1.45385451e-01, 4.93273465e-01, 1.91857170e-01, 4.15810966e-01,\n",
       "         9.88388182e-01, 9.51214047e-02, 5.14850803e-01, 2.77750236e-01,\n",
       "         1.81586505e-01, 5.71591473e-01, 8.38059110e-01, 4.13940684e-01,\n",
       "         4.97609123e-01, 3.27217168e-01, 8.78584886e-01, 2.80605496e-02,\n",
       "         7.47178230e-01, 2.63317001e-01, 5.33971281e-01, 8.49068149e-02,\n",
       "         3.73321733e-01, 4.99335177e-02, 5.55435018e-01, 9.21778131e-01,\n",
       "         5.82158526e-01, 5.91297273e-01, 2.59455913e-02, 5.59231927e-01,\n",
       "         9.74577813e-01, 2.57074053e-01, 9.11872241e-01, 4.70907576e-04,\n",
       "         2.25625522e-01, 9.69232575e-01, 7.42929639e-01, 8.07381130e-01,\n",
       "         5.70411870e-01, 2.69865399e-01, 7.71300048e-01, 1.81295462e-02,\n",
       "         7.24384566e-01, 3.61009803e-01, 7.30898234e-01, 1.76346772e-01,\n",
       "         6.92759350e-01, 1.92438059e-01, 5.55696874e-01, 9.16583313e-01,\n",
       "         4.60144724e-01, 8.10164343e-01, 9.36797651e-01, 3.26892324e-01,\n",
       "         3.14715254e-01, 4.58129523e-01, 5.74086078e-01, 6.49614313e-01,\n",
       "         1.98130917e-01, 1.48675923e-01, 2.60338837e-02, 1.14207903e-01,\n",
       "         3.37864215e-01, 3.89032359e-01, 2.75808797e-01, 2.37818260e-01,\n",
       "         6.40483241e-01, 9.21588570e-01, 5.80320932e-01, 8.80716174e-01,\n",
       "         3.48182899e-01, 4.06526886e-02, 5.72916496e-01, 1.45686812e-01,\n",
       "         2.01759622e-01, 9.11989579e-01, 7.14871174e-01, 3.66168749e-01,\n",
       "         4.49989074e-01, 5.70881289e-01, 8.47011447e-01, 4.54561350e-01,\n",
       "         6.60448456e-02, 9.68894027e-01, 7.50027860e-02, 9.47547672e-01,\n",
       "         6.31064026e-01, 9.21739186e-01, 2.59265607e-01, 5.61818037e-01,\n",
       "         1.81803671e-01, 4.10099716e-01, 1.33865583e-02, 7.61637203e-01,\n",
       "         6.57262888e-01]))]"
      ]
     },
     "execution_count": 20,
     "metadata": {},
     "output_type": "execute_result"
    }
   ],
   "source": [
    "expand_setpoints_helper(a.spectrum)"
   ]
  },
  {
   "cell_type": "code",
   "execution_count": 21,
   "metadata": {},
   "outputs": [
    {
     "name": "stdout",
     "output_type": "stream",
     "text": [
      "Starting experimental run with id: 2. \n"
     ]
    }
   ],
   "source": [
    "meas = Measurement()\n",
    "meas.register_parameter(a.spectrum)\n",
    "\n",
    "with meas.run() as datasaver:\n",
    "    datasaver.add_result(*expand_setpoints_helper(a.spectrum))\n",
    "    \n",
    "    dataid = datasaver.run_id"
   ]
  },
  {
   "cell_type": "code",
   "execution_count": null,
   "metadata": {},
   "outputs": [],
   "source": []
  }
 ],
 "metadata": {
  "kernelspec": {
   "display_name": "Python 3",
   "language": "python",
   "name": "python3"
  },
  "language_info": {
   "codemirror_mode": {
    "name": "ipython",
    "version": 3
   },
   "file_extension": ".py",
   "mimetype": "text/x-python",
   "name": "python",
   "nbconvert_exporter": "python",
   "pygments_lexer": "ipython3",
   "version": "3.7.7"
  },
  "toc": {
   "base_numbering": 1,
   "nav_menu": {},
   "number_sections": true,
   "sideBar": true,
   "skip_h1_title": false,
   "title_cell": "Table of Contents",
   "title_sidebar": "Contents",
   "toc_cell": false,
   "toc_position": {},
   "toc_section_display": true,
   "toc_window_display": false
  },
  "varInspector": {
   "cols": {
    "lenName": 16,
    "lenType": 16,
    "lenVar": 40
   },
   "kernels_config": {
    "python": {
     "delete_cmd_postfix": "",
     "delete_cmd_prefix": "del ",
     "library": "var_list.py",
     "varRefreshCmd": "print(var_dic_list())"
    },
    "r": {
     "delete_cmd_postfix": ") ",
     "delete_cmd_prefix": "rm(",
     "library": "var_list.r",
     "varRefreshCmd": "cat(var_dic_list()) "
    }
   },
   "types_to_exclude": [
    "module",
    "function",
    "builtin_function_or_method",
    "instance",
    "_Feature"
   ],
   "window_display": false
  }
 },
 "nbformat": 4,
 "nbformat_minor": 2
}
