{
 "cells": [
  {
   "cell_type": "markdown",
   "metadata": {},
   "source": [
    "# Simple Example of ParameterWithSetpoints\n",
    "This notebook provides an example for writing a simple driver with a parameter that has setpoints. Let's name this parameter that has setpoints as \"y\". Then, the setpoints, say \"x1, x2, x3 ..\", are the parameters on which the parameter \n",
    "\"y\" depends upon. Meaning \"y\" is a function of \"x1, x2, x3 ...\" where \"x1, x2, x3 ...\" are known as the setpoints of parameter \"y\".\n",
    "\n",
    "This is most likely to be useful for instruments that return arrays of results. In this notebook, we will show an example of this."
   ]
  },
  {
   "cell_type": "code",
   "execution_count": 1,
   "metadata": {},
   "outputs": [],
   "source": [
    "import numpy as np\n",
    "import os"
   ]
  },
  {
   "cell_type": "code",
   "execution_count": 2,
   "metadata": {},
   "outputs": [
    {
     "name": "stdout",
     "output_type": "stream",
     "text": [
      "Logging hadn't been started.\n",
      "Activating auto-logging. Current session state plus future input saved.\n",
      "Filename       : /home/vsts/.qcodes/logs/command_history.log\n",
      "Mode           : append\n",
      "Output logging : True\n",
      "Raw input log  : False\n",
      "Timestamping   : True\n",
      "State          : active\n"
     ]
    },
    {
     "name": "stdout",
     "output_type": "stream",
     "text": [
      "Qcodes Logfile : /home/vsts/.qcodes/logs/200813-21088-qcodes.log\n"
     ]
    }
   ],
   "source": [
    "from qcodes.dataset.plotting import plot_dataset\n",
    "from qcodes.utils.validators import Numbers, Arrays\n",
    "from qcodes.instrument.base import Instrument\n",
    "from qcodes.dataset.measurements import Measurement"
   ]
  },
  {
   "cell_type": "code",
   "execution_count": 3,
   "metadata": {},
   "outputs": [],
   "source": [
    "from qcodes.dataset.sqlite.database import initialise_or_create_database_at\n",
    "from qcodes.dataset.experiment_container import load_or_create_experiment"
   ]
  },
  {
   "cell_type": "code",
   "execution_count": 4,
   "metadata": {},
   "outputs": [],
   "source": [
    "from qcodes.instrument.parameter import ParameterWithSetpoints, Parameter\n",
    "from qcodes.instrument.parameter import expand_setpoints_helper"
   ]
  },
  {
   "cell_type": "markdown",
   "metadata": {},
   "source": [
    "First, we define a dummy instrument that returns something like a frequency spectrum starting from a frequency given by `f_start` to a frequency given by `f_stop` in `n_points` steps. \n",
    "\n",
    "The extra functionality of the `ParameterWithSetpoints` is implemented by giving it a reference to one or more parameters that acts like its setpoints. \n",
    "\n",
    "To setup a `ParameterWithSetpoints` we have to do two things in addition to what we do for a normal parameter.\n",
    "\n",
    "* Define one or more parameter for the setpoints (one for each dimension of the array and let the `ParameterWithSetpoints` know that these are the setpoints.\n",
    "* Give both the setpoints parameter(s) and the `ParameterWithSetpoints` a `validator` of type `Arrays` with a shape. The shapes should be such that the combined shape of the setpoints matches the shape of the `ParameterWithSetpoints`. Note that if the shape changes with the setting of the instrument, it can be defined by another parameter as shown below. "
   ]
  },
  {
   "cell_type": "code",
   "execution_count": 5,
   "metadata": {},
   "outputs": [],
   "source": [
    "class GeneratedSetPoints(Parameter):\n",
    "    \"\"\"\n",
    "    A parameter that generates a setpoint array from start, stop and num points\n",
    "    parameters.\n",
    "    \"\"\"\n",
    "    def __init__(self, startparam, stopparam, numpointsparam, *args, **kwargs):\n",
    "        super().__init__(*args, **kwargs)\n",
    "        self._startparam = startparam\n",
    "        self._stopparam = stopparam\n",
    "        self._numpointsparam = numpointsparam\n",
    "\n",
    "    def get_raw(self):\n",
    "        return np.linspace(self._startparam(), self._stopparam(),\n",
    "                              self._numpointsparam())\n",
    "\n",
    "class DummyArray(ParameterWithSetpoints):\n",
    "    \n",
    "    def get_raw(self):\n",
    "        npoints = self.root_instrument.n_points.get_latest()\n",
    "        return np.random.rand(npoints)\n",
    "    \n",
    "\n",
    "class DummySpectrumAnalyzer(Instrument):\n",
    "    \n",
    "    def __init__(self, name, **kwargs):\n",
    "        \n",
    "        super().__init__(name, **kwargs)\n",
    "            \n",
    "\n",
    "        self.add_parameter('f_start',\n",
    "                           initial_value=0,\n",
    "                           unit='Hz',\n",
    "                           label='f start',\n",
    "                           vals=Numbers(0,1e3),\n",
    "                           get_cmd=None,\n",
    "                           set_cmd=None)\n",
    "\n",
    "        self.add_parameter('f_stop',\n",
    "                           unit='Hz',\n",
    "                           label='f stop',\n",
    "                           vals=Numbers(1,1e3),\n",
    "                           get_cmd=None,\n",
    "                           set_cmd=None)\n",
    "\n",
    "        self.add_parameter('n_points',\n",
    "                           unit='',\n",
    "                           initial_value=10,\n",
    "                           vals=Numbers(1,1e3),\n",
    "                           get_cmd=None,\n",
    "                           set_cmd=None)\n",
    "        \n",
    "        self.add_parameter('freq_axis',\n",
    "                           unit='Hz',\n",
    "                           label='Freq Axis',\n",
    "                           parameter_class=GeneratedSetPoints,\n",
    "                           startparam=self.f_start,\n",
    "                           stopparam=self.f_stop,\n",
    "                           numpointsparam=self.n_points,\n",
    "                           vals=Arrays(shape=(self.n_points.get_latest,)))\n",
    "                           \n",
    "        self.add_parameter('spectrum',\n",
    "                   unit='dBm',\n",
    "                   setpoints=(self.freq_axis,),\n",
    "                   label='Spectrum',\n",
    "                   parameter_class=DummyArray,\n",
    "                   vals=Arrays(shape=(self.n_points.get_latest,)))\n",
    "                "
   ]
  },
  {
   "cell_type": "markdown",
   "metadata": {},
   "source": [
    "In the above example, the shape is defined by the parameter `n_points` that defines how many samples our `DummySpectrumAnalyzer` returns.\n",
    "\n",
    "This means that the validation will call the function to get `n_points` twice for each `get` of the parameter. This may be too slow, however, if you (as the driver-writer) can guarantee that the cached value for `n_points` will never be out of sync with the value stored in the instrument, `n_points` may be replaced by it's latest known value such that the `validator` reads:\n",
    "```python\n",
    "vals=Arrays(shape=(self.n_points.get_latest))\n",
    "```\n",
    "\n",
    "This avoids any additional call to the instrument. In the same way, the arguments to the `freq_axis` parameter that defines the start, stop and number of points can be replaced by their latest value if the instrument allows it.\n",
    "\n"
   ]
  },
  {
   "cell_type": "code",
   "execution_count": 6,
   "metadata": {},
   "outputs": [
    {
     "name": "stdout",
     "output_type": "stream",
     "text": [
      "\r",
      "0it [00:00, ?it/s]"
     ]
    },
    {
     "name": "stdout",
     "output_type": "stream",
     "text": [
      "\r",
      "Upgrading database; v0 -> v1: : 0it [00:00, ?it/s]"
     ]
    },
    {
     "name": "stdout",
     "output_type": "stream",
     "text": [
      "\r",
      "Upgrading database; v0 -> v1: : 0it [00:00, ?it/s]"
     ]
    },
    {
     "name": "stdout",
     "output_type": "stream",
     "text": [
      "\n",
      "\r",
      "  0%|          | 0/1 [00:00<?, ?it/s]"
     ]
    },
    {
     "name": "stdout",
     "output_type": "stream",
     "text": [
      "\r",
      "Upgrading database; v1 -> v2:   0%|          | 0/1 [00:00<?, ?it/s]"
     ]
    },
    {
     "name": "stdout",
     "output_type": "stream",
     "text": [
      "\r",
      "Upgrading database; v1 -> v2: 100%|██████████| 1/1 [00:00<00:00, 927.12it/s]"
     ]
    },
    {
     "name": "stdout",
     "output_type": "stream",
     "text": [
      "\n",
      "\r",
      "0it [00:00, ?it/s]"
     ]
    },
    {
     "name": "stdout",
     "output_type": "stream",
     "text": [
      "\r",
      "Upgrading database; v2 -> v3: : 0it [00:00, ?it/s]"
     ]
    },
    {
     "name": "stdout",
     "output_type": "stream",
     "text": [
      "\r",
      "Upgrading database; v2 -> v3: : 0it [00:00, ?it/s]"
     ]
    },
    {
     "name": "stdout",
     "output_type": "stream",
     "text": [
      "\n",
      "\r",
      "0it [00:00, ?it/s]"
     ]
    },
    {
     "name": "stdout",
     "output_type": "stream",
     "text": [
      "\r",
      "Upgrading database; v3 -> v4: : 0it [00:00, ?it/s]"
     ]
    },
    {
     "name": "stdout",
     "output_type": "stream",
     "text": [
      "\r",
      "Upgrading database; v3 -> v4: : 0it [00:00, ?it/s]"
     ]
    },
    {
     "name": "stdout",
     "output_type": "stream",
     "text": [
      "\n",
      "\r",
      "  0%|          | 0/1 [00:00<?, ?it/s]"
     ]
    },
    {
     "name": "stdout",
     "output_type": "stream",
     "text": [
      "\r",
      "Upgrading database; v4 -> v5:   0%|          | 0/1 [00:00<?, ?it/s]"
     ]
    },
    {
     "name": "stdout",
     "output_type": "stream",
     "text": [
      "\r",
      "Upgrading database; v4 -> v5: 100%|██████████| 1/1 [00:00<00:00, 870.37it/s]"
     ]
    },
    {
     "name": "stdout",
     "output_type": "stream",
     "text": [
      "\n",
      "\r",
      "0it [00:00, ?it/s]"
     ]
    },
    {
     "name": "stdout",
     "output_type": "stream",
     "text": [
      "\r",
      "Upgrading database; v5 -> v6: : 0it [00:00, ?it/s]"
     ]
    },
    {
     "name": "stdout",
     "output_type": "stream",
     "text": [
      "\r",
      "Upgrading database; v5 -> v6: : 0it [00:00, ?it/s]"
     ]
    },
    {
     "name": "stdout",
     "output_type": "stream",
     "text": [
      "\n",
      "\r",
      "  0%|          | 0/1 [00:00<?, ?it/s]"
     ]
    },
    {
     "name": "stdout",
     "output_type": "stream",
     "text": [
      "\r",
      "Upgrading database; v6 -> v7:   0%|          | 0/1 [00:00<?, ?it/s]"
     ]
    },
    {
     "name": "stdout",
     "output_type": "stream",
     "text": [
      "\r",
      "Upgrading database; v6 -> v7: 100%|██████████| 1/1 [00:00<00:00, 383.85it/s]"
     ]
    },
    {
     "name": "stdout",
     "output_type": "stream",
     "text": [
      "\n",
      "\r",
      "  0%|          | 0/1 [00:00<?, ?it/s]"
     ]
    },
    {
     "name": "stdout",
     "output_type": "stream",
     "text": [
      "\r",
      "Upgrading database; v7 -> v8:   0%|          | 0/1 [00:00<?, ?it/s]"
     ]
    },
    {
     "name": "stdout",
     "output_type": "stream",
     "text": [
      "\r",
      "Upgrading database; v7 -> v8: 100%|██████████| 1/1 [00:00<00:00, 899.87it/s]"
     ]
    },
    {
     "name": "stdout",
     "output_type": "stream",
     "text": [
      "\n",
      "\r",
      "  0%|          | 0/1 [00:00<?, ?it/s]"
     ]
    },
    {
     "name": "stdout",
     "output_type": "stream",
     "text": [
      "\r",
      "Upgrading database; v8 -> v9:   0%|          | 0/1 [00:00<?, ?it/s]"
     ]
    },
    {
     "name": "stdout",
     "output_type": "stream",
     "text": [
      "\r",
      "Upgrading database; v8 -> v9: 100%|██████████| 1/1 [00:00<00:00, 1143.80it/s]"
     ]
    },
    {
     "name": "stdout",
     "output_type": "stream",
     "text": [
      "\n"
     ]
    },
    {
     "data": {
      "text/plain": [
       "tutorial_ParameterWithSetpoints#no sample#1@/home/vsts/work/1/s/docs/examples/Parameters/tutorial_paramter_with_setpoints.db\n",
       "----------------------------------------------------------------------------------------------------------------------------"
      ]
     },
     "execution_count": 6,
     "metadata": {},
     "output_type": "execute_result"
    }
   ],
   "source": [
    "tutorial_db_path = os.path.join(os.getcwd(), 'tutorial_paramter_with_setpoints.db')\n",
    "initialise_or_create_database_at(tutorial_db_path)\n",
    "load_or_create_experiment(experiment_name='tutorial_ParameterWithSetpoints', sample_name=\"no sample\")"
   ]
  },
  {
   "cell_type": "code",
   "execution_count": 7,
   "metadata": {},
   "outputs": [],
   "source": [
    "a = DummySpectrumAnalyzer('foobar')"
   ]
  },
  {
   "cell_type": "markdown",
   "metadata": {},
   "source": [
    "First we setup the limits of the spectrum"
   ]
  },
  {
   "cell_type": "code",
   "execution_count": 8,
   "metadata": {},
   "outputs": [],
   "source": [
    "a.f_start(0)\n",
    "a.f_stop(500)\n",
    "a.n_points(501)"
   ]
  },
  {
   "cell_type": "markdown",
   "metadata": {},
   "source": [
    "And we can grab the frequency axis"
   ]
  },
  {
   "cell_type": "code",
   "execution_count": 9,
   "metadata": {},
   "outputs": [
    {
     "data": {
      "text/plain": [
       "501"
      ]
     },
     "execution_count": 9,
     "metadata": {},
     "output_type": "execute_result"
    }
   ],
   "source": [
    "a.n_points()"
   ]
  },
  {
   "cell_type": "code",
   "execution_count": 10,
   "metadata": {
    "scrolled": false
   },
   "outputs": [
    {
     "data": {
      "text/plain": [
       "501"
      ]
     },
     "execution_count": 10,
     "metadata": {},
     "output_type": "execute_result"
    }
   ],
   "source": [
    "freq_axis = a.freq_axis()\n",
    "len(freq_axis)"
   ]
  },
  {
   "cell_type": "code",
   "execution_count": 11,
   "metadata": {},
   "outputs": [
    {
     "data": {
      "text/plain": [
       "array([0., 1., 2., 3., 4., 5., 6., 7., 8., 9.])"
      ]
     },
     "execution_count": 11,
     "metadata": {},
     "output_type": "execute_result"
    }
   ],
   "source": [
    "freq_axis[:10]"
   ]
  },
  {
   "cell_type": "markdown",
   "metadata": {},
   "source": [
    "As expected we get a result wit 501 points as we asked for an axis with 501 points. "
   ]
  },
  {
   "cell_type": "markdown",
   "metadata": {},
   "source": [
    "Above we have added a validator to the `freq_axis` parameter encoding the fact that this is an Array with `n_points`. Note that we do not have to supply the number of points as an integer but can supply a function that returns the valid number of points. This would normally be a QCoDeS parameter.\n",
    "\n",
    "This will be checked if we validate the output."
   ]
  },
  {
   "cell_type": "code",
   "execution_count": 12,
   "metadata": {},
   "outputs": [],
   "source": [
    "a.freq_axis.validate(a.freq_axis.get())"
   ]
  },
  {
   "cell_type": "markdown",
   "metadata": {},
   "source": [
    "Naturally, we can also get the spectrum. Getting the spectrum will automatically perform validation both for the shape of the parameter itself and the relation to the setpoint parameter(s)"
   ]
  },
  {
   "cell_type": "code",
   "execution_count": 13,
   "metadata": {
    "scrolled": true
   },
   "outputs": [
    {
     "data": {
      "text/plain": [
       "501"
      ]
     },
     "execution_count": 13,
     "metadata": {},
     "output_type": "execute_result"
    }
   ],
   "source": [
    "spectrum = a.spectrum.get()\n",
    "len(spectrum)"
   ]
  },
  {
   "cell_type": "markdown",
   "metadata": {},
   "source": [
    "When we validate a `ParameterWithSetpoints`, we automatically validate that the shape is consistent between the parameters and its setpoints. As well as validating the shape as above."
   ]
  },
  {
   "cell_type": "code",
   "execution_count": 14,
   "metadata": {},
   "outputs": [],
   "source": [
    "a.spectrum.validate(a.spectrum.get())"
   ]
  },
  {
   "cell_type": "markdown",
   "metadata": {},
   "source": [
    "The consistent shapes can be validated explicitly."
   ]
  },
  {
   "cell_type": "code",
   "execution_count": 15,
   "metadata": {},
   "outputs": [],
   "source": [
    "a.spectrum.validate_consistent_shape()"
   ]
  },
  {
   "cell_type": "markdown",
   "metadata": {},
   "source": [
    "We can inspect the setpoints of the spectrum."
   ]
  },
  {
   "cell_type": "code",
   "execution_count": 16,
   "metadata": {},
   "outputs": [
    {
     "data": {
      "text/plain": [
       "(<__main__.GeneratedSetPoints: freq_axis at 140266935785424>,)"
      ]
     },
     "execution_count": 16,
     "metadata": {},
     "output_type": "execute_result"
    }
   ],
   "source": [
    "a.spectrum.setpoints"
   ]
  },
  {
   "cell_type": "markdown",
   "metadata": {},
   "source": [
    "Or even change them."
   ]
  },
  {
   "cell_type": "code",
   "execution_count": 17,
   "metadata": {},
   "outputs": [],
   "source": [
    "a.spectrum.setpoints = (a.freq_axis,)"
   ]
  },
  {
   "cell_type": "markdown",
   "metadata": {},
   "source": [
    "## Measurement"
   ]
  },
  {
   "cell_type": "markdown",
   "metadata": {},
   "source": [
    "We can also directly consume the parameter in a measurement without defining the setpoints of the parameter again. The setpoints are automatically obtained from the definition of the `ParameterWithSetpoint` instance. "
   ]
  },
  {
   "cell_type": "code",
   "execution_count": 18,
   "metadata": {},
   "outputs": [
    {
     "name": "stdout",
     "output_type": "stream",
     "text": [
      "Starting experimental run with id: 1. \n"
     ]
    }
   ],
   "source": [
    "meas = Measurement()\n",
    "meas.register_parameter(a.spectrum)\n",
    "\n",
    "with meas.run() as datasaver:\n",
    "    datasaver.add_result((a.freq_axis, a.freq_axis()),\n",
    "                         (a.spectrum, a.spectrum()))\n",
    "    dataset = datasaver.dataset"
   ]
  },
  {
   "cell_type": "markdown",
   "metadata": {},
   "source": [
    "And plot it"
   ]
  },
  {
   "cell_type": "code",
   "execution_count": 19,
   "metadata": {},
   "outputs": [
    {
     "data": {
      "text/plain": [
       "([<matplotlib.axes._subplots.AxesSubplot at 0x7f927fe7e610>], [None])"
      ]
     },
     "execution_count": 19,
     "metadata": {},
     "output_type": "execute_result"
    },
    {
     "data": {
      "image/png": "[encoded data removed]",
      "text/plain": [
       "<Figure size 432x288 with 1 Axes>"
      ]
     },
     "metadata": {
      "needs_background": "light"
     },
     "output_type": "display_data"
    }
   ],
   "source": [
    "plot_dataset(dataset)"
   ]
  },
  {
   "cell_type": "markdown",
   "metadata": {},
   "source": [
    "To reduce the amount of typing a simple convenience function is provided that will take a `ParameterWithSetpoints` and get both its values and the setpoints values and return them as tuples for direct insertion into the Dataset."
   ]
  },
  {
   "cell_type": "code",
   "execution_count": 20,
   "metadata": {
    "scrolled": true
   },
   "outputs": [
    {
     "data": {
      "text/plain": [
       "[(<__main__.GeneratedSetPoints: freq_axis at 140266935785424>,\n",
       "  array([  0.,   1.,   2.,   3.,   4.,   5.,   6.,   7.,   8.,   9.,  10.,\n",
       "          11.,  12.,  13.,  14.,  15.,  16.,  17.,  18.,  19.,  20.,  21.,\n",
       "          22.,  23.,  24.,  25.,  26.,  27.,  28.,  29.,  30.,  31.,  32.,\n",
       "          33.,  34.,  35.,  36.,  37.,  38.,  39.,  40.,  41.,  42.,  43.,\n",
       "          44.,  45.,  46.,  47.,  48.,  49.,  50.,  51.,  52.,  53.,  54.,\n",
       "          55.,  56.,  57.,  58.,  59.,  60.,  61.,  62.,  63.,  64.,  65.,\n",
       "          66.,  67.,  68.,  69.,  70.,  71.,  72.,  73.,  74.,  75.,  76.,\n",
       "          77.,  78.,  79.,  80.,  81.,  82.,  83.,  84.,  85.,  86.,  87.,\n",
       "          88.,  89.,  90.,  91.,  92.,  93.,  94.,  95.,  96.,  97.,  98.,\n",
       "          99., 100., 101., 102., 103., 104., 105., 106., 107., 108., 109.,\n",
       "         110., 111., 112., 113., 114., 115., 116., 117., 118., 119., 120.,\n",
       "         121., 122., 123., 124., 125., 126., 127., 128., 129., 130., 131.,\n",
       "         132., 133., 134., 135., 136., 137., 138., 139., 140., 141., 142.,\n",
       "         143., 144., 145., 146., 147., 148., 149., 150., 151., 152., 153.,\n",
       "         154., 155., 156., 157., 158., 159., 160., 161., 162., 163., 164.,\n",
       "         165., 166., 167., 168., 169., 170., 171., 172., 173., 174., 175.,\n",
       "         176., 177., 178., 179., 180., 181., 182., 183., 184., 185., 186.,\n",
       "         187., 188., 189., 190., 191., 192., 193., 194., 195., 196., 197.,\n",
       "         198., 199., 200., 201., 202., 203., 204., 205., 206., 207., 208.,\n",
       "         209., 210., 211., 212., 213., 214., 215., 216., 217., 218., 219.,\n",
       "         220., 221., 222., 223., 224., 225., 226., 227., 228., 229., 230.,\n",
       "         231., 232., 233., 234., 235., 236., 237., 238., 239., 240., 241.,\n",
       "         242., 243., 244., 245., 246., 247., 248., 249., 250., 251., 252.,\n",
       "         253., 254., 255., 256., 257., 258., 259., 260., 261., 262., 263.,\n",
       "         264., 265., 266., 267., 268., 269., 270., 271., 272., 273., 274.,\n",
       "         275., 276., 277., 278., 279., 280., 281., 282., 283., 284., 285.,\n",
       "         286., 287., 288., 289., 290., 291., 292., 293., 294., 295., 296.,\n",
       "         297., 298., 299., 300., 301., 302., 303., 304., 305., 306., 307.,\n",
       "         308., 309., 310., 311., 312., 313., 314., 315., 316., 317., 318.,\n",
       "         319., 320., 321., 322., 323., 324., 325., 326., 327., 328., 329.,\n",
       "         330., 331., 332., 333., 334., 335., 336., 337., 338., 339., 340.,\n",
       "         341., 342., 343., 344., 345., 346., 347., 348., 349., 350., 351.,\n",
       "         352., 353., 354., 355., 356., 357., 358., 359., 360., 361., 362.,\n",
       "         363., 364., 365., 366., 367., 368., 369., 370., 371., 372., 373.,\n",
       "         374., 375., 376., 377., 378., 379., 380., 381., 382., 383., 384.,\n",
       "         385., 386., 387., 388., 389., 390., 391., 392., 393., 394., 395.,\n",
       "         396., 397., 398., 399., 400., 401., 402., 403., 404., 405., 406.,\n",
       "         407., 408., 409., 410., 411., 412., 413., 414., 415., 416., 417.,\n",
       "         418., 419., 420., 421., 422., 423., 424., 425., 426., 427., 428.,\n",
       "         429., 430., 431., 432., 433., 434., 435., 436., 437., 438., 439.,\n",
       "         440., 441., 442., 443., 444., 445., 446., 447., 448., 449., 450.,\n",
       "         451., 452., 453., 454., 455., 456., 457., 458., 459., 460., 461.,\n",
       "         462., 463., 464., 465., 466., 467., 468., 469., 470., 471., 472.,\n",
       "         473., 474., 475., 476., 477., 478., 479., 480., 481., 482., 483.,\n",
       "         484., 485., 486., 487., 488., 489., 490., 491., 492., 493., 494.,\n",
       "         495., 496., 497., 498., 499., 500.])),\n",
       " (<__main__.DummyArray: spectrum at 140266944665936>,\n",
       "  array([3.70045056e-01, 4.55838952e-01, 8.13680071e-01, 2.63345344e-01,\n",
       "         2.21870132e-01, 5.54627371e-01, 3.22426725e-01, 4.59390853e-01,\n",
       "         5.75705206e-01, 7.63588267e-01, 9.27953240e-01, 1.68186096e-01,\n",
       "         1.98906161e-02, 5.76536698e-01, 1.05690729e-01, 3.49782564e-03,\n",
       "         6.18336470e-01, 5.90656063e-01, 3.21435515e-01, 7.17091065e-01,\n",
       "         7.28651524e-02, 4.29249078e-01, 6.78764033e-01, 5.59193907e-01,\n",
       "         2.27289559e-01, 5.01425032e-01, 7.08788719e-01, 3.54388763e-02,\n",
       "         4.45588607e-01, 4.94939183e-01, 2.15473192e-01, 4.81240493e-01,\n",
       "         9.42381036e-01, 1.89368929e-01, 8.95445372e-01, 3.65176236e-01,\n",
       "         1.07489892e-01, 1.97693952e-01, 6.03461408e-01, 7.30266399e-01,\n",
       "         9.10217342e-01, 8.17075053e-01, 6.14591141e-01, 5.12580351e-02,\n",
       "         5.12994289e-01, 9.03306898e-01, 4.25351550e-01, 5.58492018e-01,\n",
       "         7.93927063e-01, 5.04036319e-01, 7.97982707e-01, 9.13843559e-01,\n",
       "         9.30054746e-01, 7.11863347e-01, 1.72119448e-01, 8.10938935e-01,\n",
       "         5.65118791e-01, 8.52065417e-01, 1.21105717e-01, 1.00666958e-01,\n",
       "         2.90990499e-01, 7.75734218e-01, 4.88402536e-01, 8.24038453e-01,\n",
       "         5.84730992e-01, 7.37829255e-01, 3.28423232e-01, 7.19778899e-02,\n",
       "         8.47644992e-01, 3.11386163e-01, 9.15570921e-01, 5.91079100e-01,\n",
       "         3.21312642e-01, 2.34283963e-01, 4.06513326e-01, 9.20474725e-01,\n",
       "         3.76726036e-01, 7.88475724e-01, 8.19737970e-02, 4.37880936e-01,\n",
       "         9.46965127e-01, 4.47121507e-01, 7.36191851e-01, 1.68965186e-01,\n",
       "         5.25470710e-01, 1.17936816e-01, 3.02423790e-01, 1.49197183e-03,\n",
       "         6.00445784e-01, 9.21267377e-01, 6.84970426e-01, 5.53392082e-01,\n",
       "         1.86788360e-01, 8.94469753e-01, 5.91118788e-02, 6.13872713e-01,\n",
       "         9.87852173e-01, 7.33273648e-02, 8.52584094e-01, 8.17306639e-01,\n",
       "         5.04860548e-01, 3.21975126e-01, 6.42848041e-01, 2.25615445e-01,\n",
       "         7.21919068e-01, 1.13584083e-01, 6.19696777e-01, 4.89897695e-01,\n",
       "         2.02871386e-01, 6.68269381e-01, 7.75071732e-01, 9.53115505e-01,\n",
       "         8.59329029e-01, 9.89458179e-01, 7.71289536e-01, 6.77712408e-01,\n",
       "         9.39606104e-01, 6.30727777e-01, 7.08776685e-01, 2.28498596e-01,\n",
       "         3.29179586e-01, 5.07633641e-01, 9.08373092e-01, 5.14512442e-03,\n",
       "         5.53595757e-01, 8.98764703e-01, 1.30698019e-01, 8.57783503e-01,\n",
       "         6.17557352e-01, 1.87218075e-01, 3.74393258e-01, 2.47425563e-01,\n",
       "         3.56910082e-01, 3.30811970e-01, 8.03875942e-01, 3.01217780e-01,\n",
       "         8.07833825e-01, 1.49192831e-01, 9.96329591e-01, 2.01173581e-01,\n",
       "         7.53946457e-01, 4.94695282e-01, 9.05980631e-01, 7.96117378e-01,\n",
       "         5.10067049e-01, 2.31059723e-02, 1.05087257e-01, 9.06181684e-01,\n",
       "         6.88487901e-01, 3.62089818e-02, 3.09632939e-01, 2.12841445e-01,\n",
       "         8.17841955e-01, 8.42860441e-01, 9.92000621e-01, 3.44407498e-01,\n",
       "         9.78481704e-01, 8.60407662e-01, 1.91739977e-01, 9.79306854e-01,\n",
       "         8.47953528e-01, 7.60611921e-01, 9.32214708e-02, 9.94163281e-01,\n",
       "         1.57087973e-01, 2.28715229e-01, 4.75617935e-01, 6.11952686e-01,\n",
       "         6.75847764e-01, 4.04909578e-01, 2.95808877e-01, 5.82192158e-01,\n",
       "         9.86871446e-01, 2.32710253e-01, 1.00099172e-02, 8.28362646e-03,\n",
       "         6.18575758e-02, 7.19819725e-01, 2.33525083e-01, 3.69353258e-01,\n",
       "         5.11985134e-02, 1.41002876e-01, 7.83353071e-01, 4.41523587e-01,\n",
       "         1.86425752e-01, 7.58149525e-01, 7.73491662e-01, 7.86602321e-01,\n",
       "         3.11043163e-01, 8.89889786e-01, 7.45854163e-02, 2.00644229e-01,\n",
       "         6.02122826e-01, 1.78221018e-01, 6.15675336e-02, 7.06329082e-01,\n",
       "         8.25575089e-01, 6.61871279e-01, 8.96509054e-01, 3.34602029e-02,\n",
       "         5.24811869e-01, 8.25140223e-01, 6.05710194e-01, 1.52358142e-01,\n",
       "         5.07215564e-01, 4.98205439e-01, 8.77294965e-01, 9.27846502e-01,\n",
       "         6.91867518e-02, 5.30228875e-01, 3.85237038e-02, 5.47848830e-01,\n",
       "         5.65122367e-01, 2.94840015e-01, 3.48573337e-01, 1.84203797e-01,\n",
       "         7.96234019e-01, 1.24317400e-01, 8.29819035e-01, 5.39104346e-01,\n",
       "         3.39973443e-01, 6.47624153e-01, 7.01533352e-01, 3.58478567e-01,\n",
       "         3.54524786e-01, 8.37558053e-02, 7.20048001e-01, 7.76580453e-01,\n",
       "         2.36210738e-01, 2.99142904e-01, 3.12599664e-01, 3.12751081e-01,\n",
       "         5.77283521e-01, 2.35595820e-01, 7.60003497e-01, 4.37629185e-01,\n",
       "         5.68175109e-01, 2.82233998e-01, 5.72892170e-01, 3.71948667e-01,\n",
       "         1.95149634e-01, 7.59410287e-01, 8.14226060e-01, 8.59390129e-01,\n",
       "         5.91136334e-01, 6.79234927e-02, 1.29484565e-01, 7.65945983e-01,\n",
       "         8.97479802e-01, 9.02674652e-01, 1.84384595e-01, 5.36497732e-01,\n",
       "         7.97096708e-01, 6.07536941e-01, 3.21302428e-01, 8.94288259e-01,\n",
       "         2.99463652e-01, 4.38205527e-01, 5.77158037e-01, 2.90268253e-02,\n",
       "         8.49880011e-02, 3.35394098e-02, 7.06927239e-01, 4.40137384e-01,\n",
       "         1.65348151e-01, 7.88262445e-01, 3.20357323e-01, 5.88466686e-01,\n",
       "         6.40496151e-01, 9.17985695e-01, 7.19939980e-01, 4.74891321e-01,\n",
       "         2.72788166e-01, 3.22777130e-01, 1.73043241e-01, 3.63244271e-01,\n",
       "         8.08170996e-02, 4.32625229e-01, 5.03149570e-01, 4.79737145e-01,\n",
       "         1.87993968e-01, 4.23311253e-01, 7.72157340e-01, 1.53811733e-01,\n",
       "         6.30926315e-01, 9.77030457e-01, 6.23361951e-01, 3.62403549e-01,\n",
       "         5.98605467e-01, 6.37225705e-01, 1.59518858e-01, 6.10550034e-01,\n",
       "         2.24296533e-01, 5.38195023e-01, 8.16958366e-02, 4.01579707e-01,\n",
       "         5.33230507e-01, 3.24205745e-01, 5.84437424e-01, 4.89588662e-01,\n",
       "         8.06516831e-01, 4.91484797e-01, 2.58049028e-01, 9.09952473e-01,\n",
       "         6.03330068e-01, 6.46756425e-01, 4.77570459e-01, 4.72973646e-01,\n",
       "         6.34326863e-01, 2.49719891e-01, 7.42023358e-01, 8.25278208e-01,\n",
       "         9.80644161e-01, 1.96080086e-04, 2.02034382e-01, 6.22814156e-01,\n",
       "         6.07204466e-01, 2.74692788e-01, 3.79778321e-01, 4.41438128e-01,\n",
       "         2.22510372e-01, 8.60153254e-01, 4.46203551e-01, 4.08900890e-01,\n",
       "         9.61159590e-01, 2.94448329e-01, 6.73612772e-01, 6.23700760e-01,\n",
       "         1.04565625e-02, 7.69120965e-01, 4.32328117e-01, 3.38664777e-01,\n",
       "         5.09499217e-01, 3.36849452e-02, 6.73644497e-01, 6.92755053e-01,\n",
       "         4.49881681e-01, 3.69763459e-01, 8.64026812e-02, 2.39032975e-01,\n",
       "         8.74294450e-01, 6.59331540e-01, 5.66048000e-02, 4.03132410e-01,\n",
       "         8.50660889e-01, 6.63247144e-01, 1.31284830e-01, 5.38971548e-01,\n",
       "         4.27756610e-01, 6.97508026e-01, 8.59523438e-02, 1.03265399e-01,\n",
       "         6.00261939e-01, 6.25250530e-01, 7.74129240e-01, 3.63923318e-01,\n",
       "         7.20133232e-01, 2.01699327e-01, 4.48438024e-01, 9.71956929e-01,\n",
       "         1.59935267e-03, 7.41253860e-01, 9.27811970e-01, 5.32717539e-01,\n",
       "         9.59093107e-01, 9.82700392e-01, 1.43237724e-02, 7.85160695e-01,\n",
       "         6.33264091e-01, 9.17797500e-01, 9.28165841e-01, 9.52002255e-01,\n",
       "         9.08186852e-01, 3.61457547e-01, 5.34025471e-01, 4.26094498e-01,\n",
       "         8.58877523e-01, 2.99419134e-02, 6.09486544e-01, 5.80357024e-01,\n",
       "         8.15477259e-01, 1.36497718e-01, 1.77516652e-01, 7.22117984e-01,\n",
       "         8.54767706e-01, 9.33643720e-01, 6.56253640e-01, 2.12046007e-01,\n",
       "         5.13747829e-01, 4.14665122e-01, 5.65681638e-01, 2.33692745e-01,\n",
       "         4.85007288e-01, 5.76725551e-01, 7.46071968e-01, 2.39573345e-02,\n",
       "         6.18451311e-01, 4.80061584e-01, 5.05985179e-01, 5.47723564e-01,\n",
       "         6.17315114e-01, 3.40018893e-01, 5.21059754e-01, 9.35732584e-01,\n",
       "         3.64471102e-01, 7.87256249e-02, 2.11195804e-01, 2.38954828e-01,\n",
       "         7.21506467e-01, 1.15831945e-01, 4.62128380e-01, 8.44412382e-01,\n",
       "         5.81244969e-01, 4.41342688e-01, 9.51555542e-01, 8.91828107e-01,\n",
       "         9.74312957e-01, 2.01463264e-02, 6.10253877e-01, 7.95334887e-01,\n",
       "         5.93600741e-01, 3.01549486e-01, 7.61884620e-01, 8.46757865e-01,\n",
       "         1.06264938e-01, 8.74840008e-01, 3.01548789e-01, 7.58471187e-01,\n",
       "         5.64958340e-01, 1.92582135e-01, 9.03298650e-01, 4.88334273e-01,\n",
       "         1.21496492e-01, 8.44627941e-01, 8.58318761e-02, 6.89507770e-01,\n",
       "         8.88973102e-01, 2.06800886e-01, 7.91901295e-01, 2.76174403e-01,\n",
       "         7.00256183e-01, 5.67365180e-01, 2.24422599e-01, 1.76260612e-01,\n",
       "         9.70079239e-01, 7.32778787e-01, 2.06294265e-01, 8.67968165e-02,\n",
       "         9.64350076e-02, 3.47656153e-01, 7.24347443e-01, 7.84945534e-01,\n",
       "         3.38402415e-01, 4.66481540e-01, 3.92071208e-01, 4.98805610e-01,\n",
       "         3.40469420e-02, 6.58255124e-01, 9.31531425e-01, 7.94158761e-01,\n",
       "         9.92085475e-01, 6.50702560e-01, 4.69872331e-01, 4.67938718e-01,\n",
       "         6.88568421e-01, 8.00954568e-01, 6.09066414e-01, 4.48946001e-01,\n",
       "         5.24473789e-01, 8.53045535e-01, 2.52577577e-01, 7.26330095e-01,\n",
       "         7.43609784e-01, 5.07303481e-02, 1.37565109e-01, 7.40105623e-01,\n",
       "         9.56266911e-01, 4.59484138e-01, 2.24950366e-01, 2.10987217e-01,\n",
       "         6.38185090e-01, 3.87115533e-01, 2.85348698e-01, 7.67825964e-01,\n",
       "         7.99523476e-01, 6.23414189e-01, 8.60795530e-01, 5.84017892e-01,\n",
       "         6.39780550e-01, 3.54401441e-01, 8.45650249e-01, 8.13948086e-01,\n",
       "         1.55667033e-01, 7.96989677e-01, 9.87102197e-01, 8.03203251e-01,\n",
       "         7.18052296e-01, 5.43696513e-01, 2.40972442e-01, 3.16044755e-01,\n",
       "         2.54605464e-01]))]"
      ]
     },
     "execution_count": 20,
     "metadata": {},
     "output_type": "execute_result"
    }
   ],
   "source": [
    "expand_setpoints_helper(a.spectrum)"
   ]
  },
  {
   "cell_type": "code",
   "execution_count": 21,
   "metadata": {},
   "outputs": [
    {
     "name": "stdout",
     "output_type": "stream",
     "text": [
      "Starting experimental run with id: 2. \n"
     ]
    }
   ],
   "source": [
    "meas = Measurement()\n",
    "meas.register_parameter(a.spectrum)\n",
    "\n",
    "with meas.run() as datasaver:\n",
    "    datasaver.add_result(*expand_setpoints_helper(a.spectrum))\n",
    "    \n",
    "    dataid = datasaver.run_id"
   ]
  },
  {
   "cell_type": "code",
   "execution_count": null,
   "metadata": {},
   "outputs": [],
   "source": []
  }
 ],
 "metadata": {
  "kernelspec": {
   "display_name": "Python 3",
   "language": "python",
   "name": "python3"
  },
  "language_info": {
   "codemirror_mode": {
    "name": "ipython",
    "version": 3
   },
   "file_extension": ".py",
   "mimetype": "text/x-python",
   "name": "python",
   "nbconvert_exporter": "python",
   "pygments_lexer": "ipython3",
   "version": "3.7.7"
  },
  "toc": {
   "base_numbering": 1,
   "nav_menu": {},
   "number_sections": true,
   "sideBar": true,
   "skip_h1_title": false,
   "title_cell": "Table of Contents",
   "title_sidebar": "Contents",
   "toc_cell": false,
   "toc_position": {},
   "toc_section_display": true,
   "toc_window_display": false
  },
  "varInspector": {
   "cols": {
    "lenName": 16,
    "lenType": 16,
    "lenVar": 40
   },
   "kernels_config": {
    "python": {
     "delete_cmd_postfix": "",
     "delete_cmd_prefix": "del ",
     "library": "var_list.py",
     "varRefreshCmd": "print(var_dic_list())"
    },
    "r": {
     "delete_cmd_postfix": ") ",
     "delete_cmd_prefix": "rm(",
     "library": "var_list.r",
     "varRefreshCmd": "cat(var_dic_list()) "
    }
   },
   "types_to_exclude": [
    "module",
    "function",
    "builtin_function_or_method",
    "instance",
    "_Feature"
   ],
   "window_display": false
  }
 },
 "nbformat": 4,
 "nbformat_minor": 2
}
