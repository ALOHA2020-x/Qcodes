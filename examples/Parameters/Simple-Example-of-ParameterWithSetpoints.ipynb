{
 "cells": [
  {
   "cell_type": "markdown",
   "metadata": {},
   "source": [
    "# Simple Example of ParameterWithSetpoints\n",
    "This notebook provides an example for writing a simple driver with a parameter that has setpoints. Let's name this parameter that has setpoints as \"y\". Then, the setpoints, say \"x1, x2, x3 ..\", are the parameters on which the parameter \n",
    "\"y\" depends upon. Meaning \"y\" is a function of \"x1, x2, x3 ...\" where \"x1, x2, x3 ...\" are known as the setpoints of parameter \"y\".\n",
    "\n",
    "This is most likely to be useful for instruments that return arrays of results. In this notebook, we will show an example of this."
   ]
  },
  {
   "cell_type": "code",
   "execution_count": 1,
   "metadata": {},
   "outputs": [],
   "source": [
    "import numpy as np\n",
    "import os"
   ]
  },
  {
   "cell_type": "code",
   "execution_count": 2,
   "metadata": {},
   "outputs": [
    {
     "name": "stdout",
     "output_type": "stream",
     "text": [
      "Logging hadn't been started.\n",
      "Activating auto-logging. Current session state plus future input saved.\n",
      "Filename       : /home/vsts/.qcodes/logs/command_history.log\n",
      "Mode           : append\n",
      "Output logging : True\n",
      "Raw input log  : False\n",
      "Timestamping   : True\n",
      "State          : active\n"
     ]
    },
    {
     "name": "stdout",
     "output_type": "stream",
     "text": [
      "Qcodes Logfile : /home/vsts/.qcodes/logs/200318-24935-qcodes.log\n"
     ]
    }
   ],
   "source": [
    "from qcodes.dataset.plotting import plot_dataset\n",
    "from qcodes.utils.validators import Numbers, Arrays\n",
    "from qcodes.instrument.base import Instrument\n",
    "from qcodes.dataset.measurements import Measurement"
   ]
  },
  {
   "cell_type": "code",
   "execution_count": 3,
   "metadata": {},
   "outputs": [],
   "source": [
    "from qcodes.dataset.sqlite.database import initialise_or_create_database_at\n",
    "from qcodes.dataset.experiment_container import load_or_create_experiment"
   ]
  },
  {
   "cell_type": "code",
   "execution_count": 4,
   "metadata": {},
   "outputs": [],
   "source": [
    "from qcodes.instrument.parameter import ParameterWithSetpoints, Parameter\n",
    "from qcodes.instrument.parameter import expand_setpoints_helper"
   ]
  },
  {
   "cell_type": "markdown",
   "metadata": {},
   "source": [
    "First, we define a dummy instrument that returns something like a frequency spectrum starting from a frequency given by `f_start` to a frequency given by `f_stop` in `n_points` steps. \n",
    "\n",
    "The extra functionality of the `ParameterWithSetpoints` is implemented by giving it a reference to one or more parameters that acts like its setpoints. \n",
    "\n",
    "To setup a `ParameterWithSetpoints` we have to do two things in addition to what we do for a normal parameter.\n",
    "\n",
    "* Define one or more parameter for the setpoints (one for each dimension of the array and let the `ParameterWithSetpoints` know that these are the setpoints.\n",
    "* Give both the setpoints parameter(s) and the `ParameterWithSetpoints` a `validator` of type `Arrays` with a shape. The shapes should be such that the combined shape of the setpoints matches the shape of the `ParameterWithSetpoints`. Note that if the shape changes with the setting of the instrument, it can be defined by another parameter as shown below. "
   ]
  },
  {
   "cell_type": "code",
   "execution_count": 5,
   "metadata": {},
   "outputs": [],
   "source": [
    "class GeneratedSetPoints(Parameter):\n",
    "    \"\"\"\n",
    "    A parameter that generates a setpoint array from start, stop and num points\n",
    "    parameters.\n",
    "    \"\"\"\n",
    "    def __init__(self, startparam, stopparam, numpointsparam, *args, **kwargs):\n",
    "        super().__init__(*args, **kwargs)\n",
    "        self._startparam = startparam\n",
    "        self._stopparam = stopparam\n",
    "        self._numpointsparam = numpointsparam\n",
    "\n",
    "    def get_raw(self):\n",
    "        return np.linspace(self._startparam(), self._stopparam(),\n",
    "                              self._numpointsparam())\n",
    "\n",
    "class DummyArray(ParameterWithSetpoints):\n",
    "    \n",
    "    def get_raw(self):\n",
    "        npoints = self.root_instrument.n_points.get_latest()\n",
    "        return np.random.rand(npoints)\n",
    "    \n",
    "\n",
    "class DummySpectrumAnalyzer(Instrument):\n",
    "    \n",
    "    def __init__(self, name, **kwargs):\n",
    "        \n",
    "        super().__init__(name, **kwargs)\n",
    "            \n",
    "\n",
    "        self.add_parameter('f_start',\n",
    "                           initial_value=0,\n",
    "                           unit='Hz',\n",
    "                           label='f start',\n",
    "                           vals=Numbers(0,1e3),\n",
    "                           get_cmd=None,\n",
    "                           set_cmd=None)\n",
    "\n",
    "        self.add_parameter('f_stop',\n",
    "                           unit='Hz',\n",
    "                           label='f stop',\n",
    "                           vals=Numbers(1,1e3),\n",
    "                           get_cmd=None,\n",
    "                           set_cmd=None)\n",
    "\n",
    "        self.add_parameter('n_points',\n",
    "                           unit='',\n",
    "                           initial_value=10,\n",
    "                           vals=Numbers(1,1e3),\n",
    "                           get_cmd=None,\n",
    "                           set_cmd=None)\n",
    "        \n",
    "        self.add_parameter('freq_axis',\n",
    "                           unit='Hz',\n",
    "                           label='Freq Axis',\n",
    "                           parameter_class=GeneratedSetPoints,\n",
    "                           startparam=self.f_start,\n",
    "                           stopparam=self.f_stop,\n",
    "                           numpointsparam=self.n_points,\n",
    "                           vals=Arrays(shape=(self.n_points.get_latest,)))\n",
    "                           \n",
    "        self.add_parameter('spectrum',\n",
    "                   unit='dBm',\n",
    "                   setpoints=(self.freq_axis,),\n",
    "                   label='Spectrum',\n",
    "                   parameter_class=DummyArray,\n",
    "                   vals=Arrays(shape=(self.n_points.get_latest,)))\n",
    "                "
   ]
  },
  {
   "cell_type": "markdown",
   "metadata": {},
   "source": [
    "In the above example, the shape is defined by the parameter `n_points` that defines how many samples our `DummySpectrumAnalyzer` returns.\n",
    "\n",
    "This means that the validation will call the function to get `n_points` twice for each `get` of the parameter. This may be too slow, however, if you (as the driver-writer) can guarantee that the cached value for `n_points` will never be out of sync with the value stored in the instrument, `n_points` may be replaced by it's latest known value such that the `validator` reads:\n",
    "```python\n",
    "vals=Arrays(shape=(self.n_points.get_latest))\n",
    "```\n",
    "\n",
    "This avoids any additional call to the instrument. In the same way, the arguments to the `freq_axis` parameter that defines the start, stop and number of points can be replaced by their latest value if the instrument allows it.\n",
    "\n"
   ]
  },
  {
   "cell_type": "code",
   "execution_count": 6,
   "metadata": {},
   "outputs": [
    {
     "name": "stdout",
     "output_type": "stream",
     "text": [
      "\r",
      "0it [00:00, ?it/s]"
     ]
    },
    {
     "name": "stdout",
     "output_type": "stream",
     "text": [
      "\r",
      "Upgrading database; v0 -> v1: : 0it [00:00, ?it/s]"
     ]
    },
    {
     "name": "stdout",
     "output_type": "stream",
     "text": [
      "\r",
      "Upgrading database; v0 -> v1: : 0it [00:00, ?it/s]"
     ]
    },
    {
     "name": "stdout",
     "output_type": "stream",
     "text": [
      "\n",
      "\r",
      "  0%|          | 0/1 [00:00<?, ?it/s]"
     ]
    },
    {
     "name": "stdout",
     "output_type": "stream",
     "text": [
      "\r",
      "Upgrading database; v1 -> v2:   0%|          | 0/1 [00:00<?, ?it/s]"
     ]
    },
    {
     "name": "stdout",
     "output_type": "stream",
     "text": [
      "\r",
      "Upgrading database; v1 -> v2: 100%|██████████| 1/1 [00:00<00:00, 1017.79it/s]"
     ]
    },
    {
     "name": "stdout",
     "output_type": "stream",
     "text": [
      "\n",
      "\r",
      "0it [00:00, ?it/s]"
     ]
    },
    {
     "name": "stdout",
     "output_type": "stream",
     "text": [
      "\r",
      "Upgrading database; v2 -> v3: : 0it [00:00, ?it/s]"
     ]
    },
    {
     "name": "stdout",
     "output_type": "stream",
     "text": [
      "\r",
      "Upgrading database; v2 -> v3: : 0it [00:00, ?it/s]"
     ]
    },
    {
     "name": "stdout",
     "output_type": "stream",
     "text": [
      "\n",
      "\r",
      "0it [00:00, ?it/s]"
     ]
    },
    {
     "name": "stdout",
     "output_type": "stream",
     "text": [
      "\r",
      "Upgrading database; v3 -> v4: : 0it [00:00, ?it/s]"
     ]
    },
    {
     "name": "stdout",
     "output_type": "stream",
     "text": [
      "\r",
      "Upgrading database; v3 -> v4: : 0it [00:00, ?it/s]"
     ]
    },
    {
     "name": "stdout",
     "output_type": "stream",
     "text": [
      "\n",
      "\r",
      "  0%|          | 0/1 [00:00<?, ?it/s]"
     ]
    },
    {
     "name": "stdout",
     "output_type": "stream",
     "text": [
      "\r",
      "Upgrading database; v4 -> v5:   0%|          | 0/1 [00:00<?, ?it/s]"
     ]
    },
    {
     "name": "stdout",
     "output_type": "stream",
     "text": [
      "\r",
      "Upgrading database; v4 -> v5: 100%|██████████| 1/1 [00:00<00:00, 1012.63it/s]"
     ]
    },
    {
     "name": "stdout",
     "output_type": "stream",
     "text": [
      "\n",
      "\r",
      "0it [00:00, ?it/s]"
     ]
    },
    {
     "name": "stdout",
     "output_type": "stream",
     "text": [
      "\r",
      "Upgrading database; v5 -> v6: : 0it [00:00, ?it/s]"
     ]
    },
    {
     "name": "stdout",
     "output_type": "stream",
     "text": [
      "\r",
      "Upgrading database; v5 -> v6: : 0it [00:00, ?it/s]"
     ]
    },
    {
     "name": "stdout",
     "output_type": "stream",
     "text": [
      "\n",
      "\r",
      "  0%|          | 0/1 [00:00<?, ?it/s]"
     ]
    },
    {
     "name": "stdout",
     "output_type": "stream",
     "text": [
      "\r",
      "Upgrading database; v6 -> v7:   0%|          | 0/1 [00:00<?, ?it/s]"
     ]
    },
    {
     "name": "stdout",
     "output_type": "stream",
     "text": [
      "\r",
      "Upgrading database; v6 -> v7: 100%|██████████| 1/1 [00:00<00:00, 256.93it/s]"
     ]
    },
    {
     "name": "stdout",
     "output_type": "stream",
     "text": [
      "\n",
      "\r",
      "  0%|          | 0/1 [00:00<?, ?it/s]"
     ]
    },
    {
     "name": "stdout",
     "output_type": "stream",
     "text": [
      "\r",
      "Upgrading database; v7 -> v8:   0%|          | 0/1 [00:00<?, ?it/s]"
     ]
    },
    {
     "name": "stdout",
     "output_type": "stream",
     "text": [
      "\r",
      "Upgrading database; v7 -> v8: 100%|██████████| 1/1 [00:00<00:00, 759.98it/s]"
     ]
    },
    {
     "name": "stdout",
     "output_type": "stream",
     "text": [
      "\n",
      "\r",
      "  0%|          | 0/1 [00:00<?, ?it/s]"
     ]
    },
    {
     "name": "stdout",
     "output_type": "stream",
     "text": [
      "\r",
      "Upgrading database; v8 -> v9:   0%|          | 0/1 [00:00<?, ?it/s]"
     ]
    },
    {
     "name": "stdout",
     "output_type": "stream",
     "text": [
      "\r",
      "Upgrading database; v8 -> v9: 100%|██████████| 1/1 [00:00<00:00, 1207.69it/s]"
     ]
    },
    {
     "name": "stdout",
     "output_type": "stream",
     "text": [
      "\n"
     ]
    },
    {
     "data": {
      "text/plain": [
       "tutorial_ParameterWithSetpoints#no sample#1@/home/vsts/work/1/s/docs/examples/Parameters/tutorial_paramter_with_setpoints.db\n",
       "----------------------------------------------------------------------------------------------------------------------------"
      ]
     },
     "execution_count": 6,
     "metadata": {},
     "output_type": "execute_result"
    }
   ],
   "source": [
    "tutorial_db_path = os.path.join(os.getcwd(), 'tutorial_paramter_with_setpoints.db')\n",
    "initialise_or_create_database_at(tutorial_db_path)\n",
    "load_or_create_experiment(experiment_name='tutorial_ParameterWithSetpoints', sample_name=\"no sample\")"
   ]
  },
  {
   "cell_type": "code",
   "execution_count": 7,
   "metadata": {},
   "outputs": [],
   "source": [
    "a = DummySpectrumAnalyzer('foobar')"
   ]
  },
  {
   "cell_type": "markdown",
   "metadata": {},
   "source": [
    "First we setup the limits of the spectrum"
   ]
  },
  {
   "cell_type": "code",
   "execution_count": 8,
   "metadata": {},
   "outputs": [],
   "source": [
    "a.f_start(0)\n",
    "a.f_stop(500)\n",
    "a.n_points(501)"
   ]
  },
  {
   "cell_type": "markdown",
   "metadata": {},
   "source": [
    "And we can grab the frequency axis"
   ]
  },
  {
   "cell_type": "code",
   "execution_count": 9,
   "metadata": {},
   "outputs": [
    {
     "data": {
      "text/plain": [
       "501"
      ]
     },
     "execution_count": 9,
     "metadata": {},
     "output_type": "execute_result"
    }
   ],
   "source": [
    "a.n_points()"
   ]
  },
  {
   "cell_type": "code",
   "execution_count": 10,
   "metadata": {
    "scrolled": false
   },
   "outputs": [
    {
     "data": {
      "text/plain": [
       "501"
      ]
     },
     "execution_count": 10,
     "metadata": {},
     "output_type": "execute_result"
    }
   ],
   "source": [
    "freq_axis = a.freq_axis()\n",
    "len(freq_axis)"
   ]
  },
  {
   "cell_type": "code",
   "execution_count": 11,
   "metadata": {},
   "outputs": [
    {
     "data": {
      "text/plain": [
       "array([0., 1., 2., 3., 4., 5., 6., 7., 8., 9.])"
      ]
     },
     "execution_count": 11,
     "metadata": {},
     "output_type": "execute_result"
    }
   ],
   "source": [
    "freq_axis[:10]"
   ]
  },
  {
   "cell_type": "markdown",
   "metadata": {},
   "source": [
    "As expected we get a result wit 501 points as we asked for an axis with 501 points. "
   ]
  },
  {
   "cell_type": "markdown",
   "metadata": {},
   "source": [
    "Above we have added a validator to the `freq_axis` parameter encoding the fact that this is an Array with `n_points`. Note that we do not have to supply the number of points as an integer but can supply a function that returns the valid number of points. This would normally be a QCoDeS parameter.\n",
    "\n",
    "This will be checked if we validate the output."
   ]
  },
  {
   "cell_type": "code",
   "execution_count": 12,
   "metadata": {},
   "outputs": [],
   "source": [
    "a.freq_axis.validate(a.freq_axis.get())"
   ]
  },
  {
   "cell_type": "markdown",
   "metadata": {},
   "source": [
    "Naturally, we can also get the spectrum. Getting the spectrum will automatically perform validation both for the shape of the parameter itself and the relation to the setpoint parameter(s)"
   ]
  },
  {
   "cell_type": "code",
   "execution_count": 13,
   "metadata": {
    "scrolled": true
   },
   "outputs": [
    {
     "data": {
      "text/plain": [
       "501"
      ]
     },
     "execution_count": 13,
     "metadata": {},
     "output_type": "execute_result"
    }
   ],
   "source": [
    "spectrum = a.spectrum.get()\n",
    "len(spectrum)"
   ]
  },
  {
   "cell_type": "markdown",
   "metadata": {},
   "source": [
    "When we validate a `ParameterWithSetpoints`, we automatically validate that the shape is consistent between the parameters and its setpoints. As well as validating the shape as above."
   ]
  },
  {
   "cell_type": "code",
   "execution_count": 14,
   "metadata": {},
   "outputs": [],
   "source": [
    "a.spectrum.validate(a.spectrum.get())"
   ]
  },
  {
   "cell_type": "markdown",
   "metadata": {},
   "source": [
    "The consistent shapes can be validated explicitly."
   ]
  },
  {
   "cell_type": "code",
   "execution_count": 15,
   "metadata": {},
   "outputs": [],
   "source": [
    "a.spectrum.validate_consistent_shape()"
   ]
  },
  {
   "cell_type": "markdown",
   "metadata": {},
   "source": [
    "We can inspect the setpoints of the spectrum."
   ]
  },
  {
   "cell_type": "code",
   "execution_count": 16,
   "metadata": {},
   "outputs": [
    {
     "data": {
      "text/plain": [
       "(<__main__.GeneratedSetPoints: freq_axis at 139746069273680>,)"
      ]
     },
     "execution_count": 16,
     "metadata": {},
     "output_type": "execute_result"
    }
   ],
   "source": [
    "a.spectrum.setpoints"
   ]
  },
  {
   "cell_type": "markdown",
   "metadata": {},
   "source": [
    "Or even change them."
   ]
  },
  {
   "cell_type": "code",
   "execution_count": 17,
   "metadata": {},
   "outputs": [],
   "source": [
    "a.spectrum.setpoints = (a.freq_axis,)"
   ]
  },
  {
   "cell_type": "markdown",
   "metadata": {},
   "source": [
    "## Measurement"
   ]
  },
  {
   "cell_type": "markdown",
   "metadata": {},
   "source": [
    "We can also directly consume the parameter in a measurement without defining the setpoints of the parameter again. The setpoints are automatically obtained from the definition of the `ParameterWithSetpoint` instance. "
   ]
  },
  {
   "cell_type": "code",
   "execution_count": 18,
   "metadata": {},
   "outputs": [
    {
     "name": "stdout",
     "output_type": "stream",
     "text": [
      "Starting experimental run with id: 1. \n"
     ]
    }
   ],
   "source": [
    "meas = Measurement()\n",
    "meas.register_parameter(a.spectrum)\n",
    "\n",
    "with meas.run() as datasaver:\n",
    "    datasaver.add_result((a.freq_axis, a.freq_axis()),\n",
    "                         (a.spectrum, a.spectrum()))\n",
    "    dataset = datasaver.dataset"
   ]
  },
  {
   "cell_type": "markdown",
   "metadata": {},
   "source": [
    "And plot it"
   ]
  },
  {
   "cell_type": "code",
   "execution_count": 19,
   "metadata": {},
   "outputs": [
    {
     "data": {
      "text/plain": [
       "([<matplotlib.axes._subplots.AxesSubplot at 0x7f192ad2ff90>], [None])"
      ]
     },
     "execution_count": 19,
     "metadata": {},
     "output_type": "execute_result"
    },
    {
     "data": {
      "image/png": "[encoded data removed]",
      "text/plain": [
       "<Figure size 432x288 with 1 Axes>"
      ]
     },
     "metadata": {
      "needs_background": "light"
     },
     "output_type": "display_data"
    }
   ],
   "source": [
    "plot_dataset(dataset)"
   ]
  },
  {
   "cell_type": "markdown",
   "metadata": {},
   "source": [
    "To reduce the amount of typing a simple convenience function is provided that will take a `ParameterWithSetpoints` and get both its values and the setpoints values and return them as tuples for direct insertion into the Dataset."
   ]
  },
  {
   "cell_type": "code",
   "execution_count": 20,
   "metadata": {
    "scrolled": true
   },
   "outputs": [
    {
     "data": {
      "text/plain": [
       "[(<__main__.GeneratedSetPoints: freq_axis at 139746069273680>,\n",
       "  array([  0.,   1.,   2.,   3.,   4.,   5.,   6.,   7.,   8.,   9.,  10.,\n",
       "          11.,  12.,  13.,  14.,  15.,  16.,  17.,  18.,  19.,  20.,  21.,\n",
       "          22.,  23.,  24.,  25.,  26.,  27.,  28.,  29.,  30.,  31.,  32.,\n",
       "          33.,  34.,  35.,  36.,  37.,  38.,  39.,  40.,  41.,  42.,  43.,\n",
       "          44.,  45.,  46.,  47.,  48.,  49.,  50.,  51.,  52.,  53.,  54.,\n",
       "          55.,  56.,  57.,  58.,  59.,  60.,  61.,  62.,  63.,  64.,  65.,\n",
       "          66.,  67.,  68.,  69.,  70.,  71.,  72.,  73.,  74.,  75.,  76.,\n",
       "          77.,  78.,  79.,  80.,  81.,  82.,  83.,  84.,  85.,  86.,  87.,\n",
       "          88.,  89.,  90.,  91.,  92.,  93.,  94.,  95.,  96.,  97.,  98.,\n",
       "          99., 100., 101., 102., 103., 104., 105., 106., 107., 108., 109.,\n",
       "         110., 111., 112., 113., 114., 115., 116., 117., 118., 119., 120.,\n",
       "         121., 122., 123., 124., 125., 126., 127., 128., 129., 130., 131.,\n",
       "         132., 133., 134., 135., 136., 137., 138., 139., 140., 141., 142.,\n",
       "         143., 144., 145., 146., 147., 148., 149., 150., 151., 152., 153.,\n",
       "         154., 155., 156., 157., 158., 159., 160., 161., 162., 163., 164.,\n",
       "         165., 166., 167., 168., 169., 170., 171., 172., 173., 174., 175.,\n",
       "         176., 177., 178., 179., 180., 181., 182., 183., 184., 185., 186.,\n",
       "         187., 188., 189., 190., 191., 192., 193., 194., 195., 196., 197.,\n",
       "         198., 199., 200., 201., 202., 203., 204., 205., 206., 207., 208.,\n",
       "         209., 210., 211., 212., 213., 214., 215., 216., 217., 218., 219.,\n",
       "         220., 221., 222., 223., 224., 225., 226., 227., 228., 229., 230.,\n",
       "         231., 232., 233., 234., 235., 236., 237., 238., 239., 240., 241.,\n",
       "         242., 243., 244., 245., 246., 247., 248., 249., 250., 251., 252.,\n",
       "         253., 254., 255., 256., 257., 258., 259., 260., 261., 262., 263.,\n",
       "         264., 265., 266., 267., 268., 269., 270., 271., 272., 273., 274.,\n",
       "         275., 276., 277., 278., 279., 280., 281., 282., 283., 284., 285.,\n",
       "         286., 287., 288., 289., 290., 291., 292., 293., 294., 295., 296.,\n",
       "         297., 298., 299., 300., 301., 302., 303., 304., 305., 306., 307.,\n",
       "         308., 309., 310., 311., 312., 313., 314., 315., 316., 317., 318.,\n",
       "         319., 320., 321., 322., 323., 324., 325., 326., 327., 328., 329.,\n",
       "         330., 331., 332., 333., 334., 335., 336., 337., 338., 339., 340.,\n",
       "         341., 342., 343., 344., 345., 346., 347., 348., 349., 350., 351.,\n",
       "         352., 353., 354., 355., 356., 357., 358., 359., 360., 361., 362.,\n",
       "         363., 364., 365., 366., 367., 368., 369., 370., 371., 372., 373.,\n",
       "         374., 375., 376., 377., 378., 379., 380., 381., 382., 383., 384.,\n",
       "         385., 386., 387., 388., 389., 390., 391., 392., 393., 394., 395.,\n",
       "         396., 397., 398., 399., 400., 401., 402., 403., 404., 405., 406.,\n",
       "         407., 408., 409., 410., 411., 412., 413., 414., 415., 416., 417.,\n",
       "         418., 419., 420., 421., 422., 423., 424., 425., 426., 427., 428.,\n",
       "         429., 430., 431., 432., 433., 434., 435., 436., 437., 438., 439.,\n",
       "         440., 441., 442., 443., 444., 445., 446., 447., 448., 449., 450.,\n",
       "         451., 452., 453., 454., 455., 456., 457., 458., 459., 460., 461.,\n",
       "         462., 463., 464., 465., 466., 467., 468., 469., 470., 471., 472.,\n",
       "         473., 474., 475., 476., 477., 478., 479., 480., 481., 482., 483.,\n",
       "         484., 485., 486., 487., 488., 489., 490., 491., 492., 493., 494.,\n",
       "         495., 496., 497., 498., 499., 500.])),\n",
       " (<__main__.DummyArray: spectrum at 139746069274128>,\n",
       "  array([6.12171660e-01, 2.31739060e-02, 5.96020441e-01, 7.17493052e-01,\n",
       "         3.19938820e-01, 9.35221892e-01, 1.33881806e-01, 4.97314177e-02,\n",
       "         6.73892202e-01, 5.67673537e-01, 9.41055479e-01, 3.75447524e-01,\n",
       "         1.40736604e-01, 5.19560164e-01, 3.20908097e-01, 5.65907050e-01,\n",
       "         5.47493617e-01, 3.89657548e-01, 1.36642391e-01, 7.37670429e-02,\n",
       "         5.12321932e-01, 1.55925627e-01, 1.48599822e-01, 2.83996746e-01,\n",
       "         6.01355880e-01, 7.52438567e-01, 1.52546396e-01, 9.38622317e-01,\n",
       "         1.92966559e-01, 6.71492075e-01, 1.92144861e-01, 1.43281881e-01,\n",
       "         8.44951032e-01, 3.54976214e-01, 6.91621248e-01, 9.99737727e-01,\n",
       "         2.25079008e-01, 4.83629253e-01, 1.15913349e-01, 4.68072735e-01,\n",
       "         1.11853814e-01, 9.45432053e-01, 6.10692318e-01, 8.40082272e-02,\n",
       "         6.26945490e-01, 7.10881496e-01, 6.91710994e-02, 3.60220068e-01,\n",
       "         3.58001744e-02, 7.72106754e-01, 3.69971174e-02, 5.03316668e-01,\n",
       "         9.09335919e-01, 6.91933532e-01, 9.47474461e-01, 2.83606468e-01,\n",
       "         4.17460615e-01, 6.92270820e-01, 5.67452299e-01, 7.14154564e-01,\n",
       "         8.10296803e-02, 2.35409291e-01, 4.48503440e-01, 6.32983739e-01,\n",
       "         2.80701288e-01, 4.78283656e-01, 9.36071928e-01, 9.65139253e-01,\n",
       "         2.81757219e-01, 5.23796535e-01, 4.84512849e-01, 8.26505247e-01,\n",
       "         3.33116699e-01, 9.55714092e-01, 8.54952711e-01, 9.28767638e-01,\n",
       "         4.92357709e-01, 1.42496386e-01, 7.90653848e-01, 5.82531508e-01,\n",
       "         9.54727198e-01, 1.43966088e-01, 8.08530491e-01, 2.15714068e-01,\n",
       "         7.60020591e-01, 5.06910224e-01, 8.67889385e-01, 1.45180361e-01,\n",
       "         8.05900462e-01, 8.76326716e-01, 7.63682373e-01, 5.92305678e-01,\n",
       "         9.65714140e-01, 6.20358287e-01, 4.44106003e-02, 6.44174702e-01,\n",
       "         3.41209670e-01, 6.98170153e-01, 4.18776029e-01, 6.64393410e-01,\n",
       "         1.33607504e-01, 2.60240904e-01, 3.30445543e-01, 1.76274959e-01,\n",
       "         9.82481275e-01, 8.45129988e-01, 6.20010285e-01, 1.19606228e-01,\n",
       "         8.01090543e-01, 4.60201250e-01, 6.71262514e-01, 4.31306822e-01,\n",
       "         9.10869528e-01, 7.90760931e-01, 6.49827898e-01, 1.83850923e-01,\n",
       "         3.90621612e-01, 2.52533546e-01, 5.42786826e-01, 1.62847688e-01,\n",
       "         8.13731486e-01, 8.68775296e-01, 2.42548768e-01, 6.99235948e-01,\n",
       "         2.18358506e-01, 6.14337914e-01, 5.55724591e-01, 9.55420139e-01,\n",
       "         2.22296833e-01, 3.38676659e-01, 6.92708240e-01, 5.10734387e-01,\n",
       "         1.25807400e-01, 7.78657453e-02, 2.72381139e-01, 1.79148799e-01,\n",
       "         1.41493423e-01, 1.75231273e-01, 2.22669556e-01, 7.24038070e-01,\n",
       "         4.39186999e-01, 4.14653554e-02, 4.92152170e-01, 8.97395426e-02,\n",
       "         9.13745507e-01, 4.43254918e-01, 7.39128061e-01, 4.43289723e-01,\n",
       "         6.59495406e-01, 6.14203032e-02, 7.03519500e-02, 3.64265606e-01,\n",
       "         9.97031866e-02, 9.07603272e-03, 9.99508141e-01, 1.42970665e-01,\n",
       "         1.51168477e-01, 3.16679281e-01, 5.73884746e-01, 7.27544383e-01,\n",
       "         8.26164859e-01, 7.28886874e-01, 6.41521116e-01, 7.73416776e-01,\n",
       "         8.06055831e-01, 4.50281747e-02, 2.56240987e-01, 2.48628199e-01,\n",
       "         7.74606497e-01, 3.53281470e-01, 4.06461762e-01, 9.12583637e-01,\n",
       "         1.87062646e-01, 1.40574445e-01, 4.60973550e-01, 1.84467677e-01,\n",
       "         4.69077607e-01, 1.25321010e-01, 6.04767308e-01, 1.18897037e-01,\n",
       "         7.61252141e-01, 4.05669129e-01, 3.78718620e-01, 4.58878392e-01,\n",
       "         9.19190109e-01, 7.53405428e-01, 9.64223947e-01, 5.66977012e-01,\n",
       "         1.21198891e-01, 4.71621777e-01, 9.35073121e-01, 4.14370987e-01,\n",
       "         3.34353365e-01, 5.22701496e-01, 5.34172071e-01, 4.22715495e-01,\n",
       "         2.40204699e-01, 2.49104533e-01, 2.21747553e-01, 7.21693616e-01,\n",
       "         2.30551885e-02, 3.14108141e-01, 4.31057700e-01, 1.71952078e-01,\n",
       "         3.21240452e-01, 1.56502338e-01, 9.78334447e-02, 2.52232759e-01,\n",
       "         2.03988599e-01, 9.63231984e-01, 8.42290132e-02, 6.72624710e-01,\n",
       "         7.87953322e-01, 3.04574612e-01, 8.28304574e-01, 7.83501351e-01,\n",
       "         9.71461225e-01, 2.39837644e-01, 1.18255053e-02, 1.51227040e-02,\n",
       "         2.00518325e-01, 1.95586385e-01, 6.53860688e-01, 4.76096979e-01,\n",
       "         3.87511041e-01, 8.64138219e-02, 8.57598997e-03, 8.69112781e-01,\n",
       "         2.05302289e-01, 9.09113006e-01, 6.76729112e-01, 6.79696337e-01,\n",
       "         2.04253903e-01, 2.19638603e-01, 8.28742821e-01, 6.70540756e-01,\n",
       "         1.61998895e-01, 9.76177476e-01, 9.40577571e-02, 4.58829371e-01,\n",
       "         2.71457920e-01, 7.10025773e-01, 9.44044390e-01, 4.26672186e-01,\n",
       "         5.76369441e-01, 4.29721834e-01, 9.65568040e-01, 6.60265979e-01,\n",
       "         6.84411816e-01, 1.23951698e-01, 1.83961926e-02, 9.04920518e-01,\n",
       "         1.74383373e-01, 8.30862896e-01, 2.23951371e-01, 5.37353125e-02,\n",
       "         6.05817980e-01, 8.32743040e-01, 1.82324039e-01, 2.33298882e-01,\n",
       "         1.34782105e-02, 8.93505888e-01, 5.69768790e-02, 8.38808873e-01,\n",
       "         6.80607208e-01, 3.35805304e-01, 8.11991657e-01, 6.59845893e-01,\n",
       "         7.21277449e-01, 4.19747017e-01, 7.37800893e-01, 6.98137473e-01,\n",
       "         2.39863585e-01, 8.63744163e-01, 4.00520724e-02, 8.32480983e-01,\n",
       "         1.98048192e-01, 1.23899999e-01, 5.25673268e-01, 3.40875488e-01,\n",
       "         1.54042650e-01, 7.26382916e-01, 6.62971358e-01, 1.72013425e-02,\n",
       "         7.30914753e-01, 9.25122378e-01, 7.59329316e-01, 6.36839142e-01,\n",
       "         3.39804745e-01, 6.36988216e-01, 4.60306695e-01, 2.68424551e-01,\n",
       "         1.71454645e-01, 1.45488063e-01, 5.87839183e-01, 1.18036641e-01,\n",
       "         7.27282527e-01, 3.46174789e-01, 2.69009728e-01, 5.52188439e-01,\n",
       "         6.91257757e-01, 4.39806266e-01, 8.07334201e-01, 3.45731080e-01,\n",
       "         8.88714769e-01, 3.59522379e-01, 9.51662090e-01, 5.47124921e-02,\n",
       "         6.00670316e-01, 3.94647161e-01, 7.22845761e-01, 9.50494900e-01,\n",
       "         3.21954107e-01, 6.12857666e-02, 4.16973177e-01, 7.92002529e-01,\n",
       "         5.53633377e-01, 5.64027939e-01, 6.07529419e-02, 4.29613422e-01,\n",
       "         8.04479845e-01, 6.47939014e-01, 5.02100316e-01, 6.05798382e-01,\n",
       "         7.61671479e-01, 4.67886649e-01, 9.62610382e-01, 2.26946325e-01,\n",
       "         6.58474074e-01, 4.16844801e-01, 9.05159489e-01, 4.84614490e-01,\n",
       "         7.86188994e-01, 9.78256171e-01, 2.02148752e-01, 1.36267307e-01,\n",
       "         4.87468201e-01, 2.19126691e-01, 8.48183345e-02, 6.22265018e-01,\n",
       "         5.01827988e-01, 3.98230115e-01, 6.76524151e-01, 4.03768278e-02,\n",
       "         2.14525287e-01, 3.44922716e-01, 4.19846909e-01, 8.09243696e-01,\n",
       "         9.23980449e-01, 9.43582554e-01, 4.76616566e-02, 1.02979918e-01,\n",
       "         7.78388290e-01, 4.61882632e-02, 4.31437530e-01, 3.85858949e-02,\n",
       "         7.77561757e-01, 3.42344259e-01, 3.73669177e-01, 5.24405041e-01,\n",
       "         9.91195833e-01, 7.23181113e-01, 6.23186813e-01, 3.18653626e-01,\n",
       "         9.39729258e-01, 4.42140935e-01, 5.41970392e-04, 3.50583456e-01,\n",
       "         9.72131271e-01, 6.28758548e-01, 3.89726655e-02, 7.74837374e-01,\n",
       "         1.30673639e-01, 3.82888840e-01, 5.68965683e-01, 5.07898430e-01,\n",
       "         7.78464215e-01, 9.56015128e-01, 8.27322571e-01, 2.46918869e-01,\n",
       "         9.18014430e-01, 8.60084419e-01, 9.19650688e-01, 1.37870161e-01,\n",
       "         8.14910545e-01, 9.37785230e-01, 1.43036794e-01, 5.38308427e-01,\n",
       "         2.73715594e-01, 7.68866245e-01, 8.19881510e-01, 3.65062343e-01,\n",
       "         5.25389315e-01, 8.45743709e-02, 3.62616928e-01, 1.31238883e-01,\n",
       "         1.87355177e-01, 7.81269966e-01, 2.33910528e-01, 4.46670453e-02,\n",
       "         8.60980112e-01, 9.85349160e-01, 9.63557106e-01, 1.08880973e-01,\n",
       "         2.62697635e-01, 9.63757343e-01, 8.02058378e-01, 8.03164125e-01,\n",
       "         5.86306834e-01, 4.16982221e-01, 3.97984916e-01, 8.74376264e-01,\n",
       "         1.56949678e-01, 6.19787521e-01, 3.94307420e-01, 1.48878482e-01,\n",
       "         2.79562544e-01, 4.00534924e-01, 3.71219520e-01, 5.24925321e-01,\n",
       "         7.30981812e-01, 8.50618103e-01, 2.18973700e-01, 1.95027725e-01,\n",
       "         9.98774445e-01, 9.80530448e-01, 2.38390741e-01, 1.98392126e-01,\n",
       "         4.04453632e-01, 9.75095868e-01, 1.12093109e-01, 8.97880039e-01,\n",
       "         2.87012899e-01, 5.58498804e-01, 7.01323516e-01, 3.66592550e-01,\n",
       "         6.97126047e-01, 2.18609598e-01, 9.70635624e-01, 2.30877512e-01,\n",
       "         7.21790290e-01, 2.02537570e-01, 5.11474927e-01, 7.05875790e-01,\n",
       "         1.94893064e-01, 3.40116763e-01, 3.26494639e-02, 1.83073794e-01,\n",
       "         9.34423782e-01, 8.51482925e-02, 6.26897639e-01, 1.67308757e-02,\n",
       "         7.13554564e-01, 3.60397298e-02, 1.84567942e-01, 5.70604633e-01,\n",
       "         5.67211946e-01, 9.88927014e-02, 4.46739776e-01, 5.01466693e-01,\n",
       "         8.19306486e-01, 7.45438081e-01, 1.43121833e-01, 3.58350573e-01,\n",
       "         8.45138495e-02, 5.73947539e-02, 2.30397841e-01, 2.87352269e-01,\n",
       "         1.19154350e-02, 7.93427232e-02, 3.46656833e-01, 4.14768283e-01,\n",
       "         7.88930345e-01, 9.11668725e-02, 5.48211917e-01, 8.81247616e-01,\n",
       "         9.48494105e-01, 8.53499985e-01, 8.05390786e-01, 3.52584171e-01,\n",
       "         5.97229708e-01, 6.99395036e-01, 7.44888712e-02, 3.34066606e-01,\n",
       "         9.78228676e-01, 9.30348759e-01, 7.89291066e-01, 6.70096571e-01,\n",
       "         9.37012144e-01, 2.81417809e-01, 7.73498229e-01, 8.41750826e-01,\n",
       "         9.68176800e-01, 7.38945847e-02, 2.46831692e-01, 8.26196126e-01,\n",
       "         6.00304083e-01, 7.28537917e-01, 8.32828676e-01, 2.51659023e-01,\n",
       "         7.28338488e-01]))]"
      ]
     },
     "execution_count": 20,
     "metadata": {},
     "output_type": "execute_result"
    }
   ],
   "source": [
    "expand_setpoints_helper(a.spectrum)"
   ]
  },
  {
   "cell_type": "code",
   "execution_count": 21,
   "metadata": {},
   "outputs": [
    {
     "name": "stdout",
     "output_type": "stream",
     "text": [
      "Starting experimental run with id: 2. \n"
     ]
    }
   ],
   "source": [
    "meas = Measurement()\n",
    "meas.register_parameter(a.spectrum)\n",
    "\n",
    "with meas.run() as datasaver:\n",
    "    datasaver.add_result(*expand_setpoints_helper(a.spectrum))\n",
    "    \n",
    "    dataid = datasaver.run_id"
   ]
  },
  {
   "cell_type": "code",
   "execution_count": null,
   "metadata": {},
   "outputs": [],
   "source": []
  }
 ],
 "metadata": {
  "kernelspec": {
   "display_name": "Python 3",
   "language": "python",
   "name": "python3"
  },
  "language_info": {
   "codemirror_mode": {
    "name": "ipython",
    "version": 3
   },
   "file_extension": ".py",
   "mimetype": "text/x-python",
   "name": "python",
   "nbconvert_exporter": "python",
   "pygments_lexer": "ipython3",
   "version": "3.7.5"
  },
  "toc": {
   "base_numbering": 1,
   "nav_menu": {},
   "number_sections": true,
   "sideBar": true,
   "skip_h1_title": false,
   "title_cell": "Table of Contents",
   "title_sidebar": "Contents",
   "toc_cell": false,
   "toc_position": {},
   "toc_section_display": true,
   "toc_window_display": false
  },
  "varInspector": {
   "cols": {
    "lenName": 16,
    "lenType": 16,
    "lenVar": 40
   },
   "kernels_config": {
    "python": {
     "delete_cmd_postfix": "",
     "delete_cmd_prefix": "del ",
     "library": "var_list.py",
     "varRefreshCmd": "print(var_dic_list())"
    },
    "r": {
     "delete_cmd_postfix": ") ",
     "delete_cmd_prefix": "rm(",
     "library": "var_list.r",
     "varRefreshCmd": "cat(var_dic_list()) "
    }
   },
   "types_to_exclude": [
    "module",
    "function",
    "builtin_function_or_method",
    "instance",
    "_Feature"
   ],
   "window_display": false
  }
 },
 "nbformat": 4,
 "nbformat_minor": 2
}
