{
 "cells": [
  {
   "cell_type": "markdown",
   "metadata": {},
   "source": [
    "# Simple Example of ParameterWithSetpoints\n",
    "This notebook provides an example for writing a simple driver with a parameter that has setpoints. Let's name this parameter that has setpoints as \"y\". Then, the setpoints, say \"x1, x2, x3 ..\", are the parameters on which the parameter \n",
    "\"y\" depends upon. Meaning \"y\" is a function of \"x1, x2, x3 ...\" where \"x1, x2, x3 ...\" are known as the setpoints of parameter \"y\".\n",
    "\n",
    "This is most likely to be useful for instruments that return arrays of results. In this notebook, we will show an example of this."
   ]
  },
  {
   "cell_type": "code",
   "execution_count": 1,
   "metadata": {},
   "outputs": [],
   "source": [
    "import numpy as np\n",
    "import os"
   ]
  },
  {
   "cell_type": "code",
   "execution_count": 2,
   "metadata": {},
   "outputs": [
    {
     "name": "stdout",
     "output_type": "stream",
     "text": [
      "Logging hadn't been started.\n",
      "Activating auto-logging. Current session state plus future input saved.\n",
      "Filename       : /home/vsts/.qcodes/logs/command_history.log\n",
      "Mode           : append\n",
      "Output logging : True\n",
      "Raw input log  : False\n",
      "Timestamping   : True\n",
      "State          : active\n"
     ]
    },
    {
     "name": "stdout",
     "output_type": "stream",
     "text": [
      "Qcodes Logfile : /home/vsts/.qcodes/logs/200819-21753-qcodes.log\n"
     ]
    }
   ],
   "source": [
    "from qcodes.dataset.plotting import plot_dataset\n",
    "from qcodes.utils.validators import Numbers, Arrays\n",
    "from qcodes.instrument.base import Instrument\n",
    "from qcodes.dataset.measurements import Measurement"
   ]
  },
  {
   "cell_type": "code",
   "execution_count": 3,
   "metadata": {},
   "outputs": [],
   "source": [
    "from qcodes.dataset.sqlite.database import initialise_or_create_database_at\n",
    "from qcodes.dataset.experiment_container import load_or_create_experiment"
   ]
  },
  {
   "cell_type": "code",
   "execution_count": 4,
   "metadata": {},
   "outputs": [],
   "source": [
    "from qcodes.instrument.parameter import ParameterWithSetpoints, Parameter\n",
    "from qcodes.instrument.parameter import expand_setpoints_helper"
   ]
  },
  {
   "cell_type": "markdown",
   "metadata": {},
   "source": [
    "First, we define a dummy instrument that returns something like a frequency spectrum starting from a frequency given by `f_start` to a frequency given by `f_stop` in `n_points` steps. \n",
    "\n",
    "The extra functionality of the `ParameterWithSetpoints` is implemented by giving it a reference to one or more parameters that acts like its setpoints. \n",
    "\n",
    "To setup a `ParameterWithSetpoints` we have to do two things in addition to what we do for a normal parameter.\n",
    "\n",
    "* Define one or more parameter for the setpoints (one for each dimension of the array and let the `ParameterWithSetpoints` know that these are the setpoints.\n",
    "* Give both the setpoints parameter(s) and the `ParameterWithSetpoints` a `validator` of type `Arrays` with a shape. The shapes should be such that the combined shape of the setpoints matches the shape of the `ParameterWithSetpoints`. Note that if the shape changes with the setting of the instrument, it can be defined by another parameter as shown below. "
   ]
  },
  {
   "cell_type": "code",
   "execution_count": 5,
   "metadata": {},
   "outputs": [],
   "source": [
    "class GeneratedSetPoints(Parameter):\n",
    "    \"\"\"\n",
    "    A parameter that generates a setpoint array from start, stop and num points\n",
    "    parameters.\n",
    "    \"\"\"\n",
    "    def __init__(self, startparam, stopparam, numpointsparam, *args, **kwargs):\n",
    "        super().__init__(*args, **kwargs)\n",
    "        self._startparam = startparam\n",
    "        self._stopparam = stopparam\n",
    "        self._numpointsparam = numpointsparam\n",
    "\n",
    "    def get_raw(self):\n",
    "        return np.linspace(self._startparam(), self._stopparam(),\n",
    "                              self._numpointsparam())\n",
    "\n",
    "class DummyArray(ParameterWithSetpoints):\n",
    "    \n",
    "    def get_raw(self):\n",
    "        npoints = self.root_instrument.n_points.get_latest()\n",
    "        return np.random.rand(npoints)\n",
    "    \n",
    "\n",
    "class DummySpectrumAnalyzer(Instrument):\n",
    "    \n",
    "    def __init__(self, name, **kwargs):\n",
    "        \n",
    "        super().__init__(name, **kwargs)\n",
    "            \n",
    "\n",
    "        self.add_parameter('f_start',\n",
    "                           initial_value=0,\n",
    "                           unit='Hz',\n",
    "                           label='f start',\n",
    "                           vals=Numbers(0,1e3),\n",
    "                           get_cmd=None,\n",
    "                           set_cmd=None)\n",
    "\n",
    "        self.add_parameter('f_stop',\n",
    "                           unit='Hz',\n",
    "                           label='f stop',\n",
    "                           vals=Numbers(1,1e3),\n",
    "                           get_cmd=None,\n",
    "                           set_cmd=None)\n",
    "\n",
    "        self.add_parameter('n_points',\n",
    "                           unit='',\n",
    "                           initial_value=10,\n",
    "                           vals=Numbers(1,1e3),\n",
    "                           get_cmd=None,\n",
    "                           set_cmd=None)\n",
    "        \n",
    "        self.add_parameter('freq_axis',\n",
    "                           unit='Hz',\n",
    "                           label='Freq Axis',\n",
    "                           parameter_class=GeneratedSetPoints,\n",
    "                           startparam=self.f_start,\n",
    "                           stopparam=self.f_stop,\n",
    "                           numpointsparam=self.n_points,\n",
    "                           vals=Arrays(shape=(self.n_points.get_latest,)))\n",
    "                           \n",
    "        self.add_parameter('spectrum',\n",
    "                   unit='dBm',\n",
    "                   setpoints=(self.freq_axis,),\n",
    "                   label='Spectrum',\n",
    "                   parameter_class=DummyArray,\n",
    "                   vals=Arrays(shape=(self.n_points.get_latest,)))\n",
    "                "
   ]
  },
  {
   "cell_type": "markdown",
   "metadata": {},
   "source": [
    "In the above example, the shape is defined by the parameter `n_points` that defines how many samples our `DummySpectrumAnalyzer` returns.\n",
    "\n",
    "This means that the validation will call the function to get `n_points` twice for each `get` of the parameter. This may be too slow, however, if you (as the driver-writer) can guarantee that the cached value for `n_points` will never be out of sync with the value stored in the instrument, `n_points` may be replaced by it's latest known value such that the `validator` reads:\n",
    "```python\n",
    "vals=Arrays(shape=(self.n_points.get_latest))\n",
    "```\n",
    "\n",
    "This avoids any additional call to the instrument. In the same way, the arguments to the `freq_axis` parameter that defines the start, stop and number of points can be replaced by their latest value if the instrument allows it.\n",
    "\n"
   ]
  },
  {
   "cell_type": "code",
   "execution_count": 6,
   "metadata": {},
   "outputs": [
    {
     "name": "stdout",
     "output_type": "stream",
     "text": [
      "\r",
      "0it [00:00, ?it/s]"
     ]
    },
    {
     "name": "stdout",
     "output_type": "stream",
     "text": [
      "\r",
      "Upgrading database; v0 -> v1: : 0it [00:00, ?it/s]"
     ]
    },
    {
     "name": "stdout",
     "output_type": "stream",
     "text": [
      "\r",
      "Upgrading database; v0 -> v1: : 0it [00:00, ?it/s]"
     ]
    },
    {
     "name": "stdout",
     "output_type": "stream",
     "text": [
      "\n",
      "\r",
      "  0%|          | 0/1 [00:00<?, ?it/s]"
     ]
    },
    {
     "name": "stdout",
     "output_type": "stream",
     "text": [
      "\r",
      "Upgrading database; v1 -> v2:   0%|          | 0/1 [00:00<?, ?it/s]"
     ]
    },
    {
     "name": "stdout",
     "output_type": "stream",
     "text": [
      "\r",
      "Upgrading database; v1 -> v2: 100%|██████████| 1/1 [00:00<00:00, 763.02it/s]"
     ]
    },
    {
     "name": "stdout",
     "output_type": "stream",
     "text": [
      "\n",
      "\r",
      "0it [00:00, ?it/s]"
     ]
    },
    {
     "name": "stdout",
     "output_type": "stream",
     "text": [
      "\r",
      "Upgrading database; v2 -> v3: : 0it [00:00, ?it/s]"
     ]
    },
    {
     "name": "stdout",
     "output_type": "stream",
     "text": [
      "\r",
      "Upgrading database; v2 -> v3: : 0it [00:00, ?it/s]"
     ]
    },
    {
     "name": "stdout",
     "output_type": "stream",
     "text": [
      "\n",
      "\r",
      "0it [00:00, ?it/s]"
     ]
    },
    {
     "name": "stdout",
     "output_type": "stream",
     "text": [
      "\r",
      "Upgrading database; v3 -> v4: : 0it [00:00, ?it/s]"
     ]
    },
    {
     "name": "stdout",
     "output_type": "stream",
     "text": [
      "\r",
      "Upgrading database; v3 -> v4: : 0it [00:00, ?it/s]"
     ]
    },
    {
     "name": "stdout",
     "output_type": "stream",
     "text": [
      "\n",
      "\r",
      "  0%|          | 0/1 [00:00<?, ?it/s]"
     ]
    },
    {
     "name": "stdout",
     "output_type": "stream",
     "text": [
      "\r",
      "Upgrading database; v4 -> v5:   0%|          | 0/1 [00:00<?, ?it/s]"
     ]
    },
    {
     "name": "stdout",
     "output_type": "stream",
     "text": [
      "\r",
      "Upgrading database; v4 -> v5: 100%|██████████| 1/1 [00:00<00:00, 699.40it/s]"
     ]
    },
    {
     "name": "stdout",
     "output_type": "stream",
     "text": [
      "\n",
      "\r",
      "0it [00:00, ?it/s]"
     ]
    },
    {
     "name": "stdout",
     "output_type": "stream",
     "text": [
      "\r",
      "Upgrading database; v5 -> v6: : 0it [00:00, ?it/s]"
     ]
    },
    {
     "name": "stdout",
     "output_type": "stream",
     "text": [
      "\r",
      "Upgrading database; v5 -> v6: : 0it [00:00, ?it/s]"
     ]
    },
    {
     "name": "stdout",
     "output_type": "stream",
     "text": [
      "\n",
      "\r",
      "  0%|          | 0/1 [00:00<?, ?it/s]"
     ]
    },
    {
     "name": "stdout",
     "output_type": "stream",
     "text": [
      "\r",
      "Upgrading database; v6 -> v7:   0%|          | 0/1 [00:00<?, ?it/s]"
     ]
    },
    {
     "name": "stdout",
     "output_type": "stream",
     "text": [
      "\r",
      "Upgrading database; v6 -> v7: 100%|██████████| 1/1 [00:00<00:00, 272.73it/s]"
     ]
    },
    {
     "name": "stdout",
     "output_type": "stream",
     "text": [
      "\n",
      "\r",
      "  0%|          | 0/1 [00:00<?, ?it/s]"
     ]
    },
    {
     "name": "stdout",
     "output_type": "stream",
     "text": [
      "\r",
      "Upgrading database; v7 -> v8:   0%|          | 0/1 [00:00<?, ?it/s]"
     ]
    },
    {
     "name": "stdout",
     "output_type": "stream",
     "text": [
      "\r",
      "Upgrading database; v7 -> v8: 100%|██████████| 1/1 [00:00<00:00, 830.88it/s]"
     ]
    },
    {
     "name": "stdout",
     "output_type": "stream",
     "text": [
      "\n",
      "\r",
      "  0%|          | 0/1 [00:00<?, ?it/s]"
     ]
    },
    {
     "name": "stdout",
     "output_type": "stream",
     "text": [
      "\r",
      "Upgrading database; v8 -> v9:   0%|          | 0/1 [00:00<?, ?it/s]"
     ]
    },
    {
     "name": "stdout",
     "output_type": "stream",
     "text": [
      "\r",
      "Upgrading database; v8 -> v9: 100%|██████████| 1/1 [00:00<00:00, 803.04it/s]"
     ]
    },
    {
     "name": "stdout",
     "output_type": "stream",
     "text": [
      "\n"
     ]
    },
    {
     "data": {
      "text/plain": [
       "tutorial_ParameterWithSetpoints#no sample#1@/home/vsts/work/1/s/docs/examples/Parameters/tutorial_paramter_with_setpoints.db\n",
       "----------------------------------------------------------------------------------------------------------------------------"
      ]
     },
     "execution_count": 6,
     "metadata": {},
     "output_type": "execute_result"
    }
   ],
   "source": [
    "tutorial_db_path = os.path.join(os.getcwd(), 'tutorial_paramter_with_setpoints.db')\n",
    "initialise_or_create_database_at(tutorial_db_path)\n",
    "load_or_create_experiment(experiment_name='tutorial_ParameterWithSetpoints', sample_name=\"no sample\")"
   ]
  },
  {
   "cell_type": "code",
   "execution_count": 7,
   "metadata": {},
   "outputs": [],
   "source": [
    "a = DummySpectrumAnalyzer('foobar')"
   ]
  },
  {
   "cell_type": "markdown",
   "metadata": {},
   "source": [
    "First we setup the limits of the spectrum"
   ]
  },
  {
   "cell_type": "code",
   "execution_count": 8,
   "metadata": {},
   "outputs": [],
   "source": [
    "a.f_start(0)\n",
    "a.f_stop(500)\n",
    "a.n_points(501)"
   ]
  },
  {
   "cell_type": "markdown",
   "metadata": {},
   "source": [
    "And we can grab the frequency axis"
   ]
  },
  {
   "cell_type": "code",
   "execution_count": 9,
   "metadata": {},
   "outputs": [
    {
     "data": {
      "text/plain": [
       "501"
      ]
     },
     "execution_count": 9,
     "metadata": {},
     "output_type": "execute_result"
    }
   ],
   "source": [
    "a.n_points()"
   ]
  },
  {
   "cell_type": "code",
   "execution_count": 10,
   "metadata": {
    "scrolled": false
   },
   "outputs": [
    {
     "data": {
      "text/plain": [
       "501"
      ]
     },
     "execution_count": 10,
     "metadata": {},
     "output_type": "execute_result"
    }
   ],
   "source": [
    "freq_axis = a.freq_axis()\n",
    "len(freq_axis)"
   ]
  },
  {
   "cell_type": "code",
   "execution_count": 11,
   "metadata": {},
   "outputs": [
    {
     "data": {
      "text/plain": [
       "array([0., 1., 2., 3., 4., 5., 6., 7., 8., 9.])"
      ]
     },
     "execution_count": 11,
     "metadata": {},
     "output_type": "execute_result"
    }
   ],
   "source": [
    "freq_axis[:10]"
   ]
  },
  {
   "cell_type": "markdown",
   "metadata": {},
   "source": [
    "As expected we get a result wit 501 points as we asked for an axis with 501 points. "
   ]
  },
  {
   "cell_type": "markdown",
   "metadata": {},
   "source": [
    "Above we have added a validator to the `freq_axis` parameter encoding the fact that this is an Array with `n_points`. Note that we do not have to supply the number of points as an integer but can supply a function that returns the valid number of points. This would normally be a QCoDeS parameter.\n",
    "\n",
    "This will be checked if we validate the output."
   ]
  },
  {
   "cell_type": "code",
   "execution_count": 12,
   "metadata": {},
   "outputs": [],
   "source": [
    "a.freq_axis.validate(a.freq_axis.get())"
   ]
  },
  {
   "cell_type": "markdown",
   "metadata": {},
   "source": [
    "Naturally, we can also get the spectrum. Getting the spectrum will automatically perform validation both for the shape of the parameter itself and the relation to the setpoint parameter(s)"
   ]
  },
  {
   "cell_type": "code",
   "execution_count": 13,
   "metadata": {
    "scrolled": true
   },
   "outputs": [
    {
     "data": {
      "text/plain": [
       "501"
      ]
     },
     "execution_count": 13,
     "metadata": {},
     "output_type": "execute_result"
    }
   ],
   "source": [
    "spectrum = a.spectrum.get()\n",
    "len(spectrum)"
   ]
  },
  {
   "cell_type": "markdown",
   "metadata": {},
   "source": [
    "When we validate a `ParameterWithSetpoints`, we automatically validate that the shape is consistent between the parameters and its setpoints. As well as validating the shape as above."
   ]
  },
  {
   "cell_type": "code",
   "execution_count": 14,
   "metadata": {},
   "outputs": [],
   "source": [
    "a.spectrum.validate(a.spectrum.get())"
   ]
  },
  {
   "cell_type": "markdown",
   "metadata": {},
   "source": [
    "The consistent shapes can be validated explicitly."
   ]
  },
  {
   "cell_type": "code",
   "execution_count": 15,
   "metadata": {},
   "outputs": [],
   "source": [
    "a.spectrum.validate_consistent_shape()"
   ]
  },
  {
   "cell_type": "markdown",
   "metadata": {},
   "source": [
    "We can inspect the setpoints of the spectrum."
   ]
  },
  {
   "cell_type": "code",
   "execution_count": 16,
   "metadata": {},
   "outputs": [
    {
     "data": {
      "text/plain": [
       "(<__main__.GeneratedSetPoints: freq_axis at 140105802413136>,)"
      ]
     },
     "execution_count": 16,
     "metadata": {},
     "output_type": "execute_result"
    }
   ],
   "source": [
    "a.spectrum.setpoints"
   ]
  },
  {
   "cell_type": "markdown",
   "metadata": {},
   "source": [
    "Or even change them."
   ]
  },
  {
   "cell_type": "code",
   "execution_count": 17,
   "metadata": {},
   "outputs": [],
   "source": [
    "a.spectrum.setpoints = (a.freq_axis,)"
   ]
  },
  {
   "cell_type": "markdown",
   "metadata": {},
   "source": [
    "## Measurement"
   ]
  },
  {
   "cell_type": "markdown",
   "metadata": {},
   "source": [
    "We can also directly consume the parameter in a measurement without defining the setpoints of the parameter again. The setpoints are automatically obtained from the definition of the `ParameterWithSetpoint` instance. "
   ]
  },
  {
   "cell_type": "code",
   "execution_count": 18,
   "metadata": {},
   "outputs": [
    {
     "name": "stdout",
     "output_type": "stream",
     "text": [
      "Starting experimental run with id: 1. \n"
     ]
    }
   ],
   "source": [
    "meas = Measurement()\n",
    "meas.register_parameter(a.spectrum)\n",
    "\n",
    "with meas.run() as datasaver:\n",
    "    datasaver.add_result((a.freq_axis, a.freq_axis()),\n",
    "                         (a.spectrum, a.spectrum()))\n",
    "    dataset = datasaver.dataset"
   ]
  },
  {
   "cell_type": "markdown",
   "metadata": {},
   "source": [
    "And plot it"
   ]
  },
  {
   "cell_type": "code",
   "execution_count": 19,
   "metadata": {},
   "outputs": [
    {
     "data": {
      "text/plain": [
       "([<matplotlib.axes._subplots.AxesSubplot at 0x7f6cec9110d0>], [None])"
      ]
     },
     "execution_count": 19,
     "metadata": {},
     "output_type": "execute_result"
    },
    {
     "data": {
      "image/png": "[encoded data removed]",
      "text/plain": [
       "<Figure size 432x288 with 1 Axes>"
      ]
     },
     "metadata": {
      "needs_background": "light"
     },
     "output_type": "display_data"
    }
   ],
   "source": [
    "plot_dataset(dataset)"
   ]
  },
  {
   "cell_type": "markdown",
   "metadata": {},
   "source": [
    "To reduce the amount of typing a simple convenience function is provided that will take a `ParameterWithSetpoints` and get both its values and the setpoints values and return them as tuples for direct insertion into the Dataset."
   ]
  },
  {
   "cell_type": "code",
   "execution_count": 20,
   "metadata": {
    "scrolled": true
   },
   "outputs": [
    {
     "data": {
      "text/plain": [
       "[(<__main__.GeneratedSetPoints: freq_axis at 140105802413136>,\n",
       "  array([  0.,   1.,   2.,   3.,   4.,   5.,   6.,   7.,   8.,   9.,  10.,\n",
       "          11.,  12.,  13.,  14.,  15.,  16.,  17.,  18.,  19.,  20.,  21.,\n",
       "          22.,  23.,  24.,  25.,  26.,  27.,  28.,  29.,  30.,  31.,  32.,\n",
       "          33.,  34.,  35.,  36.,  37.,  38.,  39.,  40.,  41.,  42.,  43.,\n",
       "          44.,  45.,  46.,  47.,  48.,  49.,  50.,  51.,  52.,  53.,  54.,\n",
       "          55.,  56.,  57.,  58.,  59.,  60.,  61.,  62.,  63.,  64.,  65.,\n",
       "          66.,  67.,  68.,  69.,  70.,  71.,  72.,  73.,  74.,  75.,  76.,\n",
       "          77.,  78.,  79.,  80.,  81.,  82.,  83.,  84.,  85.,  86.,  87.,\n",
       "          88.,  89.,  90.,  91.,  92.,  93.,  94.,  95.,  96.,  97.,  98.,\n",
       "          99., 100., 101., 102., 103., 104., 105., 106., 107., 108., 109.,\n",
       "         110., 111., 112., 113., 114., 115., 116., 117., 118., 119., 120.,\n",
       "         121., 122., 123., 124., 125., 126., 127., 128., 129., 130., 131.,\n",
       "         132., 133., 134., 135., 136., 137., 138., 139., 140., 141., 142.,\n",
       "         143., 144., 145., 146., 147., 148., 149., 150., 151., 152., 153.,\n",
       "         154., 155., 156., 157., 158., 159., 160., 161., 162., 163., 164.,\n",
       "         165., 166., 167., 168., 169., 170., 171., 172., 173., 174., 175.,\n",
       "         176., 177., 178., 179., 180., 181., 182., 183., 184., 185., 186.,\n",
       "         187., 188., 189., 190., 191., 192., 193., 194., 195., 196., 197.,\n",
       "         198., 199., 200., 201., 202., 203., 204., 205., 206., 207., 208.,\n",
       "         209., 210., 211., 212., 213., 214., 215., 216., 217., 218., 219.,\n",
       "         220., 221., 222., 223., 224., 225., 226., 227., 228., 229., 230.,\n",
       "         231., 232., 233., 234., 235., 236., 237., 238., 239., 240., 241.,\n",
       "         242., 243., 244., 245., 246., 247., 248., 249., 250., 251., 252.,\n",
       "         253., 254., 255., 256., 257., 258., 259., 260., 261., 262., 263.,\n",
       "         264., 265., 266., 267., 268., 269., 270., 271., 272., 273., 274.,\n",
       "         275., 276., 277., 278., 279., 280., 281., 282., 283., 284., 285.,\n",
       "         286., 287., 288., 289., 290., 291., 292., 293., 294., 295., 296.,\n",
       "         297., 298., 299., 300., 301., 302., 303., 304., 305., 306., 307.,\n",
       "         308., 309., 310., 311., 312., 313., 314., 315., 316., 317., 318.,\n",
       "         319., 320., 321., 322., 323., 324., 325., 326., 327., 328., 329.,\n",
       "         330., 331., 332., 333., 334., 335., 336., 337., 338., 339., 340.,\n",
       "         341., 342., 343., 344., 345., 346., 347., 348., 349., 350., 351.,\n",
       "         352., 353., 354., 355., 356., 357., 358., 359., 360., 361., 362.,\n",
       "         363., 364., 365., 366., 367., 368., 369., 370., 371., 372., 373.,\n",
       "         374., 375., 376., 377., 378., 379., 380., 381., 382., 383., 384.,\n",
       "         385., 386., 387., 388., 389., 390., 391., 392., 393., 394., 395.,\n",
       "         396., 397., 398., 399., 400., 401., 402., 403., 404., 405., 406.,\n",
       "         407., 408., 409., 410., 411., 412., 413., 414., 415., 416., 417.,\n",
       "         418., 419., 420., 421., 422., 423., 424., 425., 426., 427., 428.,\n",
       "         429., 430., 431., 432., 433., 434., 435., 436., 437., 438., 439.,\n",
       "         440., 441., 442., 443., 444., 445., 446., 447., 448., 449., 450.,\n",
       "         451., 452., 453., 454., 455., 456., 457., 458., 459., 460., 461.,\n",
       "         462., 463., 464., 465., 466., 467., 468., 469., 470., 471., 472.,\n",
       "         473., 474., 475., 476., 477., 478., 479., 480., 481., 482., 483.,\n",
       "         484., 485., 486., 487., 488., 489., 490., 491., 492., 493., 494.,\n",
       "         495., 496., 497., 498., 499., 500.])),\n",
       " (<__main__.DummyArray: spectrum at 140105817729488>,\n",
       "  array([8.55142122e-01, 9.62237834e-01, 2.59088708e-01, 1.41129768e-01,\n",
       "         7.10449019e-01, 8.33328947e-01, 3.02429722e-02, 8.00283048e-01,\n",
       "         8.28783515e-02, 7.99093201e-01, 7.45424557e-01, 3.94868306e-01,\n",
       "         3.14300152e-01, 8.22003857e-01, 1.46482916e-01, 2.60542438e-01,\n",
       "         7.64264114e-02, 3.95201201e-01, 1.40138965e-01, 1.14514545e-01,\n",
       "         9.43029985e-01, 5.40020001e-01, 3.09567033e-01, 6.67201678e-01,\n",
       "         8.35260658e-01, 1.13269657e-01, 1.91189862e-01, 1.96067242e-01,\n",
       "         1.44575541e-01, 3.60192867e-02, 7.02915560e-01, 1.55889821e-01,\n",
       "         6.45943246e-01, 8.72756520e-01, 8.18930614e-01, 1.57900536e-01,\n",
       "         7.56773931e-01, 7.12586733e-01, 5.70257602e-01, 2.68366047e-02,\n",
       "         3.11286506e-01, 6.61782938e-01, 8.98620758e-01, 3.28995719e-01,\n",
       "         9.82762327e-01, 4.41681604e-02, 9.76176206e-01, 8.45950291e-02,\n",
       "         2.04620014e-01, 4.22037542e-01, 2.80359432e-01, 1.71425567e-02,\n",
       "         6.84676785e-01, 8.95853780e-01, 8.99687731e-01, 1.51061853e-01,\n",
       "         5.17281403e-01, 4.79457760e-01, 9.19745397e-01, 8.81132141e-01,\n",
       "         4.04661036e-01, 2.79719995e-01, 8.43521444e-01, 6.04371528e-02,\n",
       "         9.58067381e-02, 2.07703576e-01, 4.88409264e-01, 9.29021103e-01,\n",
       "         2.12911977e-01, 9.45308119e-01, 6.70073926e-01, 5.41880292e-01,\n",
       "         9.10168606e-01, 5.47682187e-01, 4.79400579e-01, 8.16815445e-01,\n",
       "         4.04170681e-01, 2.15052874e-01, 5.40733851e-01, 4.30820715e-01,\n",
       "         9.58124891e-01, 2.84360287e-01, 6.95156471e-01, 3.20557808e-03,\n",
       "         2.53080377e-01, 7.83306191e-01, 7.97682002e-01, 9.22723229e-01,\n",
       "         4.55396906e-01, 8.14500709e-01, 4.73248047e-01, 9.02524133e-01,\n",
       "         4.60781207e-01, 8.77772391e-01, 8.40394472e-02, 8.58163013e-01,\n",
       "         5.11672222e-01, 8.67760617e-01, 7.38879433e-01, 7.98095002e-01,\n",
       "         8.01579373e-01, 3.12964662e-01, 8.79067391e-01, 7.48613717e-01,\n",
       "         7.45881090e-01, 5.25585452e-01, 2.75338192e-01, 9.92018736e-01,\n",
       "         1.31964266e-01, 8.47974566e-01, 7.95358123e-01, 4.61026272e-01,\n",
       "         6.92339970e-01, 2.83175022e-01, 9.93182233e-01, 8.66887519e-01,\n",
       "         1.69915760e-01, 2.97136047e-01, 8.10814354e-01, 7.87455096e-01,\n",
       "         1.08453200e-01, 1.53861883e-01, 3.97866193e-01, 9.46695789e-01,\n",
       "         9.18508714e-01, 2.95624519e-01, 5.11871002e-02, 7.79407049e-01,\n",
       "         3.93932521e-02, 7.29804164e-01, 1.82384862e-01, 7.43006772e-01,\n",
       "         3.20728340e-01, 6.34175541e-01, 8.35503286e-01, 8.75416405e-01,\n",
       "         2.10916726e-01, 2.57089036e-01, 4.22539790e-01, 9.89045179e-01,\n",
       "         5.97200469e-01, 8.94824152e-02, 1.01674252e-01, 5.13227744e-01,\n",
       "         9.73116850e-01, 4.63730410e-01, 7.93196120e-01, 2.25198278e-01,\n",
       "         7.40847599e-04, 2.41301059e-01, 5.37427665e-01, 5.07076403e-01,\n",
       "         5.33539737e-01, 6.95124063e-01, 3.87950381e-01, 2.89001238e-01,\n",
       "         2.56839002e-02, 9.11040433e-01, 6.52415984e-01, 4.07900252e-01,\n",
       "         7.26760787e-01, 2.74930999e-01, 5.41470866e-01, 2.50802730e-01,\n",
       "         7.66955381e-01, 1.59664209e-01, 4.47833511e-01, 4.91616652e-01,\n",
       "         7.14868612e-01, 7.50236024e-01, 2.88835067e-02, 7.77685654e-01,\n",
       "         2.27492430e-01, 9.59131952e-01, 8.24697626e-01, 6.69613098e-01,\n",
       "         5.40636417e-01, 6.57853021e-02, 5.48257940e-01, 2.58100357e-01,\n",
       "         4.63447663e-01, 4.69883477e-01, 6.24760095e-01, 3.90916765e-01,\n",
       "         6.20438602e-01, 2.92546131e-02, 1.25242176e-01, 9.75976745e-01,\n",
       "         8.20406366e-01, 7.36797885e-01, 7.83446138e-01, 6.57439474e-03,\n",
       "         5.48648989e-01, 2.32813959e-01, 9.49068396e-01, 1.52274608e-01,\n",
       "         5.16933114e-01, 1.88443310e-01, 6.47200484e-01, 5.35256334e-01,\n",
       "         6.82622377e-01, 3.52194277e-01, 7.16464308e-01, 1.08475890e-01,\n",
       "         8.12738519e-01, 4.91172318e-02, 1.34340918e-01, 7.38851915e-01,\n",
       "         6.97567342e-01, 9.23004613e-01, 3.43618496e-01, 3.04221690e-01,\n",
       "         8.00450518e-01, 6.31462020e-01, 7.58294558e-01, 9.43137013e-01,\n",
       "         5.95530677e-01, 8.64256606e-01, 7.41818213e-01, 7.10361914e-01,\n",
       "         7.24778355e-01, 9.84542343e-01, 9.69741747e-01, 9.08967660e-02,\n",
       "         4.14328592e-01, 4.67939606e-02, 6.77611101e-02, 4.67239346e-01,\n",
       "         7.11910414e-02, 4.79512611e-01, 6.00286860e-01, 8.55126477e-01,\n",
       "         4.95051164e-01, 6.96276266e-02, 5.52582607e-01, 3.35684063e-01,\n",
       "         3.71951970e-01, 1.31693150e-01, 6.84029873e-01, 1.39933111e-01,\n",
       "         9.57542490e-01, 6.42170183e-02, 8.59323142e-01, 1.04833437e-02,\n",
       "         5.34337539e-01, 7.83113721e-01, 2.48653490e-01, 9.08946912e-02,\n",
       "         6.77205151e-01, 2.72325256e-01, 8.55824861e-01, 5.82882733e-01,\n",
       "         4.39182665e-01, 4.19737436e-01, 5.76502585e-01, 2.28610098e-01,\n",
       "         9.54802114e-01, 8.51831964e-01, 1.11822992e-01, 8.48429648e-01,\n",
       "         6.29373609e-01, 7.02244028e-01, 5.21588026e-01, 5.56035092e-01,\n",
       "         2.63777617e-01, 5.77106339e-01, 4.35663205e-01, 3.26323949e-01,\n",
       "         8.78301974e-01, 5.77007095e-01, 4.15417007e-02, 9.46943436e-01,\n",
       "         7.83496894e-01, 3.75299856e-01, 9.87704644e-02, 4.54482361e-01,\n",
       "         5.26240676e-01, 4.92022959e-01, 2.98889265e-01, 1.50018472e-01,\n",
       "         1.15886668e-01, 8.60093898e-01, 5.15316986e-01, 7.45580988e-01,\n",
       "         6.99160041e-02, 7.27831208e-01, 3.56860033e-01, 9.16601822e-01,\n",
       "         1.83262244e-01, 7.69689939e-01, 1.76981527e-01, 5.25001117e-03,\n",
       "         9.30191239e-01, 8.85091280e-01, 5.02208774e-01, 9.69841414e-01,\n",
       "         9.31439737e-01, 7.77429309e-01, 8.45396066e-01, 1.89296981e-01,\n",
       "         6.69305254e-01, 2.86391595e-01, 7.31564819e-01, 2.66641549e-01,\n",
       "         5.50196573e-01, 2.82658010e-01, 3.00520970e-02, 9.00066605e-01,\n",
       "         3.03428087e-01, 5.75998840e-01, 1.94260964e-01, 3.15105511e-01,\n",
       "         8.75484987e-01, 5.95353811e-01, 2.18151893e-01, 6.98390187e-01,\n",
       "         3.11548195e-01, 2.07209555e-01, 7.55964317e-02, 4.00595173e-01,\n",
       "         9.80901906e-01, 2.17041163e-01, 7.13724967e-01, 7.51154154e-01,\n",
       "         2.53105609e-01, 5.59344342e-01, 5.20192286e-02, 8.91590169e-01,\n",
       "         1.74999578e-01, 2.85936496e-01, 6.32703925e-02, 4.78814975e-01,\n",
       "         4.23068505e-01, 4.97756810e-01, 2.19951691e-01, 1.83281808e-01,\n",
       "         9.33128304e-01, 3.20046272e-01, 5.53686059e-01, 7.40809015e-01,\n",
       "         2.87401686e-01, 2.16951645e-01, 5.99646947e-01, 6.27683096e-01,\n",
       "         7.01265265e-01, 7.63409241e-01, 3.68249725e-01, 3.21602121e-01,\n",
       "         3.92300264e-01, 8.94267473e-01, 9.73436637e-02, 6.91237591e-01,\n",
       "         9.71561506e-01, 2.86819249e-01, 5.81044413e-02, 8.61896060e-01,\n",
       "         5.93395989e-01, 1.97630048e-01, 3.77882913e-01, 1.46027324e-01,\n",
       "         8.07911556e-02, 2.32363066e-02, 7.45328454e-01, 5.71788892e-01,\n",
       "         1.44348855e-01, 6.96345565e-01, 6.61391532e-01, 3.89976546e-01,\n",
       "         5.56230962e-02, 3.73678971e-01, 7.11517885e-01, 7.29057200e-01,\n",
       "         4.69683955e-01, 1.44065509e-01, 2.74290281e-01, 9.77881490e-01,\n",
       "         4.13899615e-01, 7.63333524e-01, 1.34977035e-01, 2.57663463e-01,\n",
       "         4.94131345e-01, 3.85530594e-01, 3.92941965e-01, 7.11840455e-01,\n",
       "         3.72498087e-01, 5.06656689e-01, 8.42604183e-01, 2.90786443e-01,\n",
       "         4.56566265e-01, 9.08624281e-01, 4.18873675e-01, 5.01953852e-01,\n",
       "         9.24829461e-01, 8.01786348e-01, 2.33094664e-01, 5.27878937e-01,\n",
       "         5.76077954e-01, 9.03751392e-02, 5.46176778e-01, 1.19425836e-01,\n",
       "         3.46939627e-01, 8.82202040e-01, 1.15221919e-01, 2.47138435e-01,\n",
       "         9.47135193e-01, 7.23372645e-02, 3.34549841e-01, 7.20738536e-01,\n",
       "         4.01842479e-01, 4.22840539e-01, 3.31365461e-01, 4.19506645e-01,\n",
       "         2.95457153e-01, 8.43015112e-01, 2.97593650e-01, 9.16714908e-01,\n",
       "         1.65853480e-01, 9.71603978e-01, 7.96271249e-01, 5.85076464e-01,\n",
       "         2.28280275e-01, 4.99309194e-01, 8.21722100e-01, 3.75056474e-01,\n",
       "         4.99764375e-01, 2.30884173e-01, 2.25420187e-01, 3.37752519e-01,\n",
       "         2.58903287e-01, 2.45379328e-01, 4.62108806e-02, 1.22587897e-01,\n",
       "         2.68174956e-01, 6.15890128e-01, 7.24535148e-01, 7.03260807e-01,\n",
       "         1.12119155e-01, 2.42370409e-02, 1.27998904e-01, 6.82650902e-01,\n",
       "         1.30740321e-01, 1.12288130e-01, 4.10309395e-01, 1.97768342e-01,\n",
       "         3.36858012e-01, 6.92262748e-02, 2.34253423e-01, 9.05758204e-01,\n",
       "         5.72096624e-01, 5.02117654e-01, 8.39790574e-01, 3.86718634e-01,\n",
       "         2.57049039e-01, 8.55077707e-01, 2.65397597e-01, 2.57532543e-01,\n",
       "         2.91029984e-01, 7.83080412e-01, 2.67974773e-01, 8.63866952e-01,\n",
       "         1.08047668e-01, 5.22283186e-01, 2.61552737e-02, 3.96779127e-01,\n",
       "         6.40104578e-01, 8.99465147e-01, 6.88421835e-01, 5.48573526e-01,\n",
       "         8.69738574e-01, 5.96211254e-01, 1.25792416e-01, 4.93030362e-01,\n",
       "         5.41468059e-01, 2.38875108e-02, 4.73023996e-01, 8.69012806e-01,\n",
       "         7.80897748e-01, 3.01779868e-01, 7.34454230e-01, 1.56059026e-01,\n",
       "         3.88839912e-01, 3.10730331e-01, 6.54731615e-01, 4.11007751e-01,\n",
       "         4.20541693e-01, 6.39433374e-01, 9.17375001e-01, 7.61297494e-01,\n",
       "         2.14953144e-01, 9.32332926e-01, 4.36678345e-01, 4.43541829e-01,\n",
       "         3.57887516e-01, 4.45022439e-01, 3.36463507e-01, 3.22003270e-01,\n",
       "         4.82758972e-01, 4.78131838e-01, 2.00541761e-01, 1.08839620e-01,\n",
       "         6.72287900e-01]))]"
      ]
     },
     "execution_count": 20,
     "metadata": {},
     "output_type": "execute_result"
    }
   ],
   "source": [
    "expand_setpoints_helper(a.spectrum)"
   ]
  },
  {
   "cell_type": "code",
   "execution_count": 21,
   "metadata": {},
   "outputs": [
    {
     "name": "stdout",
     "output_type": "stream",
     "text": [
      "Starting experimental run with id: 2. \n"
     ]
    }
   ],
   "source": [
    "meas = Measurement()\n",
    "meas.register_parameter(a.spectrum)\n",
    "\n",
    "with meas.run() as datasaver:\n",
    "    datasaver.add_result(*expand_setpoints_helper(a.spectrum))\n",
    "    \n",
    "    dataid = datasaver.run_id"
   ]
  },
  {
   "cell_type": "code",
   "execution_count": null,
   "metadata": {},
   "outputs": [],
   "source": []
  }
 ],
 "metadata": {
  "kernelspec": {
   "display_name": "Python 3",
   "language": "python",
   "name": "python3"
  },
  "language_info": {
   "codemirror_mode": {
    "name": "ipython",
    "version": 3
   },
   "file_extension": ".py",
   "mimetype": "text/x-python",
   "name": "python",
   "nbconvert_exporter": "python",
   "pygments_lexer": "ipython3",
   "version": "3.7.7"
  },
  "toc": {
   "base_numbering": 1,
   "nav_menu": {},
   "number_sections": true,
   "sideBar": true,
   "skip_h1_title": false,
   "title_cell": "Table of Contents",
   "title_sidebar": "Contents",
   "toc_cell": false,
   "toc_position": {},
   "toc_section_display": true,
   "toc_window_display": false
  },
  "varInspector": {
   "cols": {
    "lenName": 16,
    "lenType": 16,
    "lenVar": 40
   },
   "kernels_config": {
    "python": {
     "delete_cmd_postfix": "",
     "delete_cmd_prefix": "del ",
     "library": "var_list.py",
     "varRefreshCmd": "print(var_dic_list())"
    },
    "r": {
     "delete_cmd_postfix": ") ",
     "delete_cmd_prefix": "rm(",
     "library": "var_list.r",
     "varRefreshCmd": "cat(var_dic_list()) "
    }
   },
   "types_to_exclude": [
    "module",
    "function",
    "builtin_function_or_method",
    "instance",
    "_Feature"
   ],
   "window_display": false
  }
 },
 "nbformat": 4,
 "nbformat_minor": 2
}
