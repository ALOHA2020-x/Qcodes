{
 "cells": [
  {
   "cell_type": "markdown",
   "execution_count": 1,
   "metadata": {},
   "source": [
    "# Simple Example of ParameterWithSetpoints\n",
    "This notebook provides an example for writing a simple driver with a parameter that has setpoints. Let's name this parameter that has setpoints as \"y\". Then, the setpoints, say \"x1, x2, x3 ..\", are the parameters on which the parameter \n",
    "\"y\" depends upon. Meaning \"y\" is a function of \"x1, x2, x3 ...\" where \"x1, x2, x3 ...\" are known as the setpoints of parameter \"y\".\n",
    "\n",
    "This is most likely to be useful for instruments that return arrays of results. In this notebook, we will show an example of this."
   ]
  },
  {
   "cell_type": "code",
   "execution_count": 1,
   "metadata": {
    "execution": {
     "iopub.execute_input": "2020-09-14T06:58:56.020905Z",
     "iopub.status.busy": "2020-09-14T06:58:56.020440Z",
     "iopub.status.idle": "2020-09-14T06:58:56.126692Z",
     "shell.execute_reply": "2020-09-14T06:58:56.125795Z"
    }
   },
   "outputs": [],
   "source": [
    "import numpy as np\n",
    "import os"
   ]
  },
  {
   "cell_type": "code",
   "execution_count": 2,
   "metadata": {
    "execution": {
     "iopub.execute_input": "2020-09-14T06:58:56.131652Z",
     "iopub.status.busy": "2020-09-14T06:58:56.131127Z",
     "iopub.status.idle": "2020-09-14T06:58:57.225694Z",
     "shell.execute_reply": "2020-09-14T06:58:57.224365Z"
    }
   },
   "outputs": [
    {
     "name": "stdout",
     "output_type": "stream",
     "text": [
      "Logging hadn't been started.\n",
      "Activating auto-logging. Current session state plus future input saved.\n",
      "Filename       : /home/vsts/.qcodes/logs/command_history.log\n",
      "Mode           : append\n",
      "Output logging : True\n",
      "Raw input log  : False\n",
      "Timestamping   : True\n",
      "State          : active\n"
     ]
    },
    {
     "name": "stdout",
     "output_type": "stream",
     "text": [
      "Qcodes Logfile : /home/vsts/.qcodes/logs/200914-23355-qcodes.log\n"
     ]
    }
   ],
   "source": [
    "from qcodes.dataset.plotting import plot_dataset\n",
    "from qcodes.utils.validators import Numbers, Arrays\n",
    "from qcodes.instrument.base import Instrument\n",
    "from qcodes.dataset.measurements import Measurement"
   ]
  },
  {
   "cell_type": "code",
   "execution_count": 3,
   "metadata": {
    "execution": {
     "iopub.execute_input": "2020-09-14T06:58:57.229656Z",
     "iopub.status.busy": "2020-09-14T06:58:57.229095Z",
     "iopub.status.idle": "2020-09-14T06:58:57.232530Z",
     "shell.execute_reply": "2020-09-14T06:58:57.232071Z"
    }
   },
   "outputs": [],
   "source": [
    "from qcodes.dataset.sqlite.database import initialise_or_create_database_at\n",
    "from qcodes.dataset.experiment_container import load_or_create_experiment"
   ]
  },
  {
   "cell_type": "code",
   "execution_count": 4,
   "metadata": {
    "execution": {
     "iopub.execute_input": "2020-09-14T06:58:57.237126Z",
     "iopub.status.busy": "2020-09-14T06:58:57.236026Z",
     "iopub.status.idle": "2020-09-14T06:58:57.237689Z",
     "shell.execute_reply": "2020-09-14T06:58:57.238210Z"
    }
   },
   "outputs": [],
   "source": [
    "from qcodes.instrument.parameter import ParameterWithSetpoints, Parameter\n",
    "from qcodes.instrument.parameter import expand_setpoints_helper"
   ]
  },
  {
   "cell_type": "markdown",
   "execution_count": 5,
   "metadata": {},
   "source": [
    "First, we define a dummy instrument that returns something like a frequency spectrum starting from a frequency given by `f_start` to a frequency given by `f_stop` in `n_points` steps. \n",
    "\n",
    "The extra functionality of the `ParameterWithSetpoints` is implemented by giving it a reference to one or more parameters that acts like its setpoints. \n",
    "\n",
    "To setup a `ParameterWithSetpoints` we have to do two things in addition to what we do for a normal parameter.\n",
    "\n",
    "* Define one or more parameter for the setpoints (one for each dimension of the array and let the `ParameterWithSetpoints` know that these are the setpoints.\n",
    "* Give both the setpoints parameter(s) and the `ParameterWithSetpoints` a `validator` of type `Arrays` with a shape. The shapes should be such that the combined shape of the setpoints matches the shape of the `ParameterWithSetpoints`. Note that if the shape changes with the setting of the instrument, it can be defined by another parameter as shown below. "
   ]
  },
  {
   "cell_type": "code",
   "execution_count": 5,
   "metadata": {
    "execution": {
     "iopub.execute_input": "2020-09-14T06:58:57.248468Z",
     "iopub.status.busy": "2020-09-14T06:58:57.245605Z",
     "iopub.status.idle": "2020-09-14T06:58:57.250224Z",
     "shell.execute_reply": "2020-09-14T06:58:57.250653Z"
    }
   },
   "outputs": [],
   "source": [
    "class GeneratedSetPoints(Parameter):\n",
    "    \"\"\"\n",
    "    A parameter that generates a setpoint array from start, stop and num points\n",
    "    parameters.\n",
    "    \"\"\"\n",
    "    def __init__(self, startparam, stopparam, numpointsparam, *args, **kwargs):\n",
    "        super().__init__(*args, **kwargs)\n",
    "        self._startparam = startparam\n",
    "        self._stopparam = stopparam\n",
    "        self._numpointsparam = numpointsparam\n",
    "\n",
    "    def get_raw(self):\n",
    "        return np.linspace(self._startparam(), self._stopparam(),\n",
    "                              self._numpointsparam())\n",
    "\n",
    "class DummyArray(ParameterWithSetpoints):\n",
    "    \n",
    "    def get_raw(self):\n",
    "        npoints = self.root_instrument.n_points.get_latest()\n",
    "        return np.random.rand(npoints)\n",
    "    \n",
    "\n",
    "class DummySpectrumAnalyzer(Instrument):\n",
    "    \n",
    "    def __init__(self, name, **kwargs):\n",
    "        \n",
    "        super().__init__(name, **kwargs)\n",
    "            \n",
    "\n",
    "        self.add_parameter('f_start',\n",
    "                           initial_value=0,\n",
    "                           unit='Hz',\n",
    "                           label='f start',\n",
    "                           vals=Numbers(0,1e3),\n",
    "                           get_cmd=None,\n",
    "                           set_cmd=None)\n",
    "\n",
    "        self.add_parameter('f_stop',\n",
    "                           unit='Hz',\n",
    "                           label='f stop',\n",
    "                           vals=Numbers(1,1e3),\n",
    "                           get_cmd=None,\n",
    "                           set_cmd=None)\n",
    "\n",
    "        self.add_parameter('n_points',\n",
    "                           unit='',\n",
    "                           initial_value=10,\n",
    "                           vals=Numbers(1,1e3),\n",
    "                           get_cmd=None,\n",
    "                           set_cmd=None)\n",
    "        \n",
    "        self.add_parameter('freq_axis',\n",
    "                           unit='Hz',\n",
    "                           label='Freq Axis',\n",
    "                           parameter_class=GeneratedSetPoints,\n",
    "                           startparam=self.f_start,\n",
    "                           stopparam=self.f_stop,\n",
    "                           numpointsparam=self.n_points,\n",
    "                           vals=Arrays(shape=(self.n_points.get_latest,)))\n",
    "                           \n",
    "        self.add_parameter('spectrum',\n",
    "                   unit='dBm',\n",
    "                   setpoints=(self.freq_axis,),\n",
    "                   label='Spectrum',\n",
    "                   parameter_class=DummyArray,\n",
    "                   vals=Arrays(shape=(self.n_points.get_latest,)))\n",
    "                "
   ]
  },
  {
   "cell_type": "markdown",
   "execution_count": 6,
   "metadata": {},
   "source": [
    "In the above example, the shape is defined by the parameter `n_points` that defines how many samples our `DummySpectrumAnalyzer` returns.\n",
    "\n",
    "This means that the validation will call the function to get `n_points` twice for each `get` of the parameter. This may be too slow, however, if you (as the driver-writer) can guarantee that the cached value for `n_points` will never be out of sync with the value stored in the instrument, `n_points` may be replaced by it's latest known value such that the `validator` reads:\n",
    "```python\n",
    "vals=Arrays(shape=(self.n_points.get_latest))\n",
    "```\n",
    "\n",
    "This avoids any additional call to the instrument. In the same way, the arguments to the `freq_axis` parameter that defines the start, stop and number of points can be replaced by their latest value if the instrument allows it.\n",
    "\n"
   ]
  },
  {
   "cell_type": "code",
   "execution_count": 6,
   "metadata": {
    "execution": {
     "iopub.execute_input": "2020-09-14T06:58:57.254435Z",
     "iopub.status.busy": "2020-09-14T06:58:57.253923Z",
     "iopub.status.idle": "2020-09-14T06:58:57.350349Z",
     "shell.execute_reply": "2020-09-14T06:58:57.349893Z"
    }
   },
   "outputs": [
    {
     "name": "stdout",
     "output_type": "stream",
     "text": [
      "\r",
      "0it [00:00, ?it/s]"
     ]
    },
    {
     "name": "stdout",
     "output_type": "stream",
     "text": [
      "\r",
      "Upgrading database; v0 -> v1: : 0it [00:00, ?it/s]"
     ]
    },
    {
     "name": "stdout",
     "output_type": "stream",
     "text": [
      "\r",
      "Upgrading database; v0 -> v1: : 0it [00:00, ?it/s]"
     ]
    },
    {
     "name": "stdout",
     "output_type": "stream",
     "text": [
      "\n",
      "\r",
      "  0%|          | 0/1 [00:00<?, ?it/s]"
     ]
    },
    {
     "name": "stdout",
     "output_type": "stream",
     "text": [
      "\r",
      "Upgrading database; v1 -> v2:   0%|          | 0/1 [00:00<?, ?it/s]"
     ]
    },
    {
     "name": "stdout",
     "output_type": "stream",
     "text": [
      "\r",
      "Upgrading database; v1 -> v2: 100%|██████████| 1/1 [00:00<00:00, 331.25it/s]"
     ]
    },
    {
     "name": "stdout",
     "output_type": "stream",
     "text": [
      "\n",
      "\r",
      "0it [00:00, ?it/s]"
     ]
    },
    {
     "name": "stdout",
     "output_type": "stream",
     "text": [
      "\r",
      "Upgrading database; v2 -> v3: : 0it [00:00, ?it/s]"
     ]
    },
    {
     "name": "stdout",
     "output_type": "stream",
     "text": [
      "\r",
      "Upgrading database; v2 -> v3: : 0it [00:00, ?it/s]"
     ]
    },
    {
     "name": "stdout",
     "output_type": "stream",
     "text": [
      "\n",
      "\r",
      "0it [00:00, ?it/s]"
     ]
    },
    {
     "name": "stdout",
     "output_type": "stream",
     "text": [
      "\r",
      "Upgrading database; v3 -> v4: : 0it [00:00, ?it/s]"
     ]
    },
    {
     "name": "stdout",
     "output_type": "stream",
     "text": [
      "\r",
      "Upgrading database; v3 -> v4: : 0it [00:00, ?it/s]"
     ]
    },
    {
     "name": "stdout",
     "output_type": "stream",
     "text": [
      "\n",
      "\r",
      "  0%|          | 0/1 [00:00<?, ?it/s]"
     ]
    },
    {
     "name": "stdout",
     "output_type": "stream",
     "text": [
      "\r",
      "Upgrading database; v4 -> v5:   0%|          | 0/1 [00:00<?, ?it/s]"
     ]
    },
    {
     "name": "stdout",
     "output_type": "stream",
     "text": [
      "\r",
      "Upgrading database; v4 -> v5: 100%|██████████| 1/1 [00:00<00:00, 773.00it/s]"
     ]
    },
    {
     "name": "stdout",
     "output_type": "stream",
     "text": [
      "\n",
      "\r",
      "0it [00:00, ?it/s]"
     ]
    },
    {
     "name": "stdout",
     "output_type": "stream",
     "text": [
      "\r",
      "Upgrading database; v5 -> v6: : 0it [00:00, ?it/s]"
     ]
    },
    {
     "name": "stdout",
     "output_type": "stream",
     "text": [
      "\r",
      "Upgrading database; v5 -> v6: : 0it [00:00, ?it/s]"
     ]
    },
    {
     "name": "stdout",
     "output_type": "stream",
     "text": [
      "\n",
      "\r",
      "  0%|          | 0/1 [00:00<?, ?it/s]"
     ]
    },
    {
     "name": "stdout",
     "output_type": "stream",
     "text": [
      "\r",
      "Upgrading database; v6 -> v7:   0%|          | 0/1 [00:00<?, ?it/s]"
     ]
    },
    {
     "name": "stdout",
     "output_type": "stream",
     "text": [
      "\r",
      "Upgrading database; v6 -> v7: 100%|██████████| 1/1 [00:00<00:00, 264.46it/s]"
     ]
    },
    {
     "name": "stdout",
     "output_type": "stream",
     "text": [
      "\n",
      "\r",
      "  0%|          | 0/1 [00:00<?, ?it/s]"
     ]
    },
    {
     "name": "stdout",
     "output_type": "stream",
     "text": [
      "\r",
      "Upgrading database; v7 -> v8:   0%|          | 0/1 [00:00<?, ?it/s]"
     ]
    },
    {
     "name": "stdout",
     "output_type": "stream",
     "text": [
      "\r",
      "Upgrading database; v7 -> v8: 100%|██████████| 1/1 [00:00<00:00, 405.05it/s]"
     ]
    },
    {
     "name": "stdout",
     "output_type": "stream",
     "text": [
      "\n",
      "\r",
      "  0%|          | 0/1 [00:00<?, ?it/s]"
     ]
    },
    {
     "name": "stdout",
     "output_type": "stream",
     "text": [
      "\r",
      "Upgrading database; v8 -> v9:   0%|          | 0/1 [00:00<?, ?it/s]"
     ]
    },
    {
     "name": "stdout",
     "output_type": "stream",
     "text": [
      "\r",
      "Upgrading database; v8 -> v9: 100%|██████████| 1/1 [00:00<00:00, 289.50it/s]"
     ]
    },
    {
     "name": "stdout",
     "output_type": "stream",
     "text": [
      "\n"
     ]
    },
    {
     "data": {
      "text/plain": [
       "tutorial_ParameterWithSetpoints#no sample#1@/home/vsts/work/1/s/docs/examples/Parameters/tutorial_paramter_with_setpoints.db\n",
       "----------------------------------------------------------------------------------------------------------------------------"
      ]
     },
     "execution_count": 1,
     "metadata": {},
     "output_type": "execute_result"
    }
   ],
   "source": [
    "tutorial_db_path = os.path.join(os.getcwd(), 'tutorial_paramter_with_setpoints.db')\n",
    "initialise_or_create_database_at(tutorial_db_path)\n",
    "load_or_create_experiment(experiment_name='tutorial_ParameterWithSetpoints', sample_name=\"no sample\")"
   ]
  },
  {
   "cell_type": "code",
   "execution_count": 7,
   "metadata": {
    "execution": {
     "iopub.execute_input": "2020-09-14T06:58:57.355258Z",
     "iopub.status.busy": "2020-09-14T06:58:57.354433Z",
     "iopub.status.idle": "2020-09-14T06:58:57.357819Z",
     "shell.execute_reply": "2020-09-14T06:58:57.357202Z"
    }
   },
   "outputs": [],
   "source": [
    "a = DummySpectrumAnalyzer('foobar')"
   ]
  },
  {
   "cell_type": "markdown",
   "execution_count": 8,
   "metadata": {},
   "source": [
    "First we setup the limits of the spectrum"
   ]
  },
  {
   "cell_type": "code",
   "execution_count": 8,
   "metadata": {
    "execution": {
     "iopub.execute_input": "2020-09-14T06:58:57.361589Z",
     "iopub.status.busy": "2020-09-14T06:58:57.360683Z",
     "iopub.status.idle": "2020-09-14T06:58:57.364440Z",
     "shell.execute_reply": "2020-09-14T06:58:57.363899Z"
    }
   },
   "outputs": [],
   "source": [
    "a.f_start(0)\n",
    "a.f_stop(500)\n",
    "a.n_points(501)"
   ]
  },
  {
   "cell_type": "markdown",
   "execution_count": 9,
   "metadata": {},
   "source": [
    "And we can grab the frequency axis"
   ]
  },
  {
   "cell_type": "code",
   "execution_count": 9,
   "metadata": {
    "execution": {
     "iopub.execute_input": "2020-09-14T06:58:57.368882Z",
     "iopub.status.busy": "2020-09-14T06:58:57.368331Z",
     "iopub.status.idle": "2020-09-14T06:58:57.370612Z",
     "shell.execute_reply": "2020-09-14T06:58:57.371087Z"
    }
   },
   "outputs": [
    {
     "data": {
      "text/plain": [
       "501"
      ]
     },
     "execution_count": 1,
     "metadata": {},
     "output_type": "execute_result"
    }
   ],
   "source": [
    "a.n_points()"
   ]
  },
  {
   "cell_type": "code",
   "execution_count": 10,
   "metadata": {
    "execution": {
     "iopub.execute_input": "2020-09-14T06:58:57.375427Z",
     "iopub.status.busy": "2020-09-14T06:58:57.373645Z",
     "iopub.status.idle": "2020-09-14T06:58:57.377251Z",
     "shell.execute_reply": "2020-09-14T06:58:57.377798Z"
    },
    "scrolled": false
   },
   "outputs": [
    {
     "data": {
      "text/plain": [
       "501"
      ]
     },
     "execution_count": 1,
     "metadata": {},
     "output_type": "execute_result"
    }
   ],
   "source": [
    "freq_axis = a.freq_axis()\n",
    "len(freq_axis)"
   ]
  },
  {
   "cell_type": "code",
   "execution_count": 11,
   "metadata": {
    "execution": {
     "iopub.execute_input": "2020-09-14T06:58:57.381952Z",
     "iopub.status.busy": "2020-09-14T06:58:57.381178Z",
     "iopub.status.idle": "2020-09-14T06:58:57.385467Z",
     "shell.execute_reply": "2020-09-14T06:58:57.384898Z"
    }
   },
   "outputs": [
    {
     "data": {
      "text/plain": [
       "array([0., 1., 2., 3., 4., 5., 6., 7., 8., 9.])"
      ]
     },
     "execution_count": 1,
     "metadata": {},
     "output_type": "execute_result"
    }
   ],
   "source": [
    "freq_axis[:10]"
   ]
  },
  {
   "cell_type": "markdown",
   "execution_count": 12,
   "metadata": {},
   "source": [
    "As expected we get a result wit 501 points as we asked for an axis with 501 points. "
   ]
  },
  {
   "cell_type": "markdown",
   "execution_count": 12,
   "metadata": {},
   "source": [
    "Above we have added a validator to the `freq_axis` parameter encoding the fact that this is an Array with `n_points`. Note that we do not have to supply the number of points as an integer but can supply a function that returns the valid number of points. This would normally be a QCoDeS parameter.\n",
    "\n",
    "This will be checked if we validate the output."
   ]
  },
  {
   "cell_type": "code",
   "execution_count": 12,
   "metadata": {
    "execution": {
     "iopub.execute_input": "2020-09-14T06:58:57.390449Z",
     "iopub.status.busy": "2020-09-14T06:58:57.389647Z",
     "iopub.status.idle": "2020-09-14T06:58:57.391720Z",
     "shell.execute_reply": "2020-09-14T06:58:57.392132Z"
    }
   },
   "outputs": [],
   "source": [
    "a.freq_axis.validate(a.freq_axis.get())"
   ]
  },
  {
   "cell_type": "markdown",
   "execution_count": 13,
   "metadata": {},
   "source": [
    "Naturally, we can also get the spectrum. Getting the spectrum will automatically perform validation both for the shape of the parameter itself and the relation to the setpoint parameter(s)"
   ]
  },
  {
   "cell_type": "code",
   "execution_count": 13,
   "metadata": {
    "execution": {
     "iopub.execute_input": "2020-09-14T06:58:57.396320Z",
     "iopub.status.busy": "2020-09-14T06:58:57.394904Z",
     "iopub.status.idle": "2020-09-14T06:58:57.398230Z",
     "shell.execute_reply": "2020-09-14T06:58:57.398750Z"
    },
    "scrolled": true
   },
   "outputs": [
    {
     "data": {
      "text/plain": [
       "501"
      ]
     },
     "execution_count": 1,
     "metadata": {},
     "output_type": "execute_result"
    }
   ],
   "source": [
    "spectrum = a.spectrum.get()\n",
    "len(spectrum)"
   ]
  },
  {
   "cell_type": "markdown",
   "execution_count": 14,
   "metadata": {},
   "source": [
    "When we validate a `ParameterWithSetpoints`, we automatically validate that the shape is consistent between the parameters and its setpoints. As well as validating the shape as above."
   ]
  },
  {
   "cell_type": "code",
   "execution_count": 14,
   "metadata": {
    "execution": {
     "iopub.execute_input": "2020-09-14T06:58:57.402818Z",
     "iopub.status.busy": "2020-09-14T06:58:57.401703Z",
     "iopub.status.idle": "2020-09-14T06:58:57.406407Z",
     "shell.execute_reply": "2020-09-14T06:58:57.405824Z"
    }
   },
   "outputs": [],
   "source": [
    "a.spectrum.validate(a.spectrum.get())"
   ]
  },
  {
   "cell_type": "markdown",
   "execution_count": 15,
   "metadata": {},
   "source": [
    "The consistent shapes can be validated explicitly."
   ]
  },
  {
   "cell_type": "code",
   "execution_count": 15,
   "metadata": {
    "execution": {
     "iopub.execute_input": "2020-09-14T06:58:57.410014Z",
     "iopub.status.busy": "2020-09-14T06:58:57.409472Z",
     "iopub.status.idle": "2020-09-14T06:58:57.412032Z",
     "shell.execute_reply": "2020-09-14T06:58:57.411477Z"
    }
   },
   "outputs": [],
   "source": [
    "a.spectrum.validate_consistent_shape()"
   ]
  },
  {
   "cell_type": "markdown",
   "execution_count": 16,
   "metadata": {},
   "source": [
    "We can inspect the setpoints of the spectrum."
   ]
  },
  {
   "cell_type": "code",
   "execution_count": 16,
   "metadata": {
    "execution": {
     "iopub.execute_input": "2020-09-14T06:58:57.417207Z",
     "iopub.status.busy": "2020-09-14T06:58:57.416199Z",
     "iopub.status.idle": "2020-09-14T06:58:57.419242Z",
     "shell.execute_reply": "2020-09-14T06:58:57.419950Z"
    }
   },
   "outputs": [
    {
     "data": {
      "text/plain": [
       "(<__main__.GeneratedSetPoints: freq_axis at 140048072835024>,)"
      ]
     },
     "execution_count": 1,
     "metadata": {},
     "output_type": "execute_result"
    }
   ],
   "source": [
    "a.spectrum.setpoints"
   ]
  },
  {
   "cell_type": "markdown",
   "execution_count": 17,
   "metadata": {},
   "source": [
    "Or even change them."
   ]
  },
  {
   "cell_type": "code",
   "execution_count": 17,
   "metadata": {
    "execution": {
     "iopub.execute_input": "2020-09-14T06:58:57.423959Z",
     "iopub.status.busy": "2020-09-14T06:58:57.423333Z",
     "iopub.status.idle": "2020-09-14T06:58:57.425797Z",
     "shell.execute_reply": "2020-09-14T06:58:57.425107Z"
    }
   },
   "outputs": [],
   "source": [
    "a.spectrum.setpoints = (a.freq_axis,)"
   ]
  },
  {
   "cell_type": "markdown",
   "execution_count": 18,
   "metadata": {},
   "source": [
    "## Measurement"
   ]
  },
  {
   "cell_type": "markdown",
   "execution_count": 18,
   "metadata": {},
   "source": [
    "We can also directly consume the parameter in a measurement without defining the setpoints of the parameter again. The setpoints are automatically obtained from the definition of the `ParameterWithSetpoint` instance. "
   ]
  },
  {
   "cell_type": "code",
   "execution_count": 18,
   "metadata": {
    "execution": {
     "iopub.execute_input": "2020-09-14T06:58:57.430660Z",
     "iopub.status.busy": "2020-09-14T06:58:57.430149Z",
     "iopub.status.idle": "2020-09-14T06:58:57.450844Z",
     "shell.execute_reply": "2020-09-14T06:58:57.451268Z"
    }
   },
   "outputs": [
    {
     "name": "stdout",
     "output_type": "stream",
     "text": [
      "Starting experimental run with id: 1. \n"
     ]
    }
   ],
   "source": [
    "meas = Measurement()\n",
    "meas.register_parameter(a.spectrum)\n",
    "\n",
    "with meas.run() as datasaver:\n",
    "    datasaver.add_result((a.freq_axis, a.freq_axis()),\n",
    "                         (a.spectrum, a.spectrum()))\n",
    "    dataset = datasaver.dataset"
   ]
  },
  {
   "cell_type": "markdown",
   "execution_count": 19,
   "metadata": {},
   "source": [
    "And plot it"
   ]
  },
  {
   "cell_type": "code",
   "execution_count": 19,
   "metadata": {
    "execution": {
     "iopub.execute_input": "2020-09-14T06:58:57.455915Z",
     "iopub.status.busy": "2020-09-14T06:58:57.455407Z",
     "iopub.status.idle": "2020-09-14T06:58:57.832548Z",
     "shell.execute_reply": "2020-09-14T06:58:57.833304Z"
    }
   },
   "outputs": [
    {
     "data": {
      "text/plain": [
       "([<matplotlib.axes._subplots.AxesSubplot at 0x7f5f948ab790>], [None])"
      ]
     },
     "execution_count": 1,
     "metadata": {},
     "output_type": "execute_result"
    },
    {
     "data": {
      "image/png": "[encoded data removed]",
      "text/plain": [
       "<Figure size 432x288 with 1 Axes>"
      ]
     },
     "metadata": {
      "needs_background": "light"
     },
     "output_type": "display_data"
    }
   ],
   "source": [
    "plot_dataset(dataset)"
   ]
  },
  {
   "cell_type": "markdown",
   "execution_count": 20,
   "metadata": {},
   "source": [
    "To reduce the amount of typing a simple convenience function is provided that will take a `ParameterWithSetpoints` and get both its values and the setpoints values and return them as tuples for direct insertion into the Dataset."
   ]
  },
  {
   "cell_type": "code",
   "execution_count": 20,
   "metadata": {
    "execution": {
     "iopub.execute_input": "2020-09-14T06:58:57.847481Z",
     "iopub.status.busy": "2020-09-14T06:58:57.836736Z",
     "iopub.status.idle": "2020-09-14T06:58:57.852359Z",
     "shell.execute_reply": "2020-09-14T06:58:57.851621Z"
    },
    "scrolled": true
   },
   "outputs": [
    {
     "data": {
      "text/plain": [
       "[(<__main__.GeneratedSetPoints: freq_axis at 140048072835024>,\n",
       "  array([  0.,   1.,   2.,   3.,   4.,   5.,   6.,   7.,   8.,   9.,  10.,\n",
       "          11.,  12.,  13.,  14.,  15.,  16.,  17.,  18.,  19.,  20.,  21.,\n",
       "          22.,  23.,  24.,  25.,  26.,  27.,  28.,  29.,  30.,  31.,  32.,\n",
       "          33.,  34.,  35.,  36.,  37.,  38.,  39.,  40.,  41.,  42.,  43.,\n",
       "          44.,  45.,  46.,  47.,  48.,  49.,  50.,  51.,  52.,  53.,  54.,\n",
       "          55.,  56.,  57.,  58.,  59.,  60.,  61.,  62.,  63.,  64.,  65.,\n",
       "          66.,  67.,  68.,  69.,  70.,  71.,  72.,  73.,  74.,  75.,  76.,\n",
       "          77.,  78.,  79.,  80.,  81.,  82.,  83.,  84.,  85.,  86.,  87.,\n",
       "          88.,  89.,  90.,  91.,  92.,  93.,  94.,  95.,  96.,  97.,  98.,\n",
       "          99., 100., 101., 102., 103., 104., 105., 106., 107., 108., 109.,\n",
       "         110., 111., 112., 113., 114., 115., 116., 117., 118., 119., 120.,\n",
       "         121., 122., 123., 124., 125., 126., 127., 128., 129., 130., 131.,\n",
       "         132., 133., 134., 135., 136., 137., 138., 139., 140., 141., 142.,\n",
       "         143., 144., 145., 146., 147., 148., 149., 150., 151., 152., 153.,\n",
       "         154., 155., 156., 157., 158., 159., 160., 161., 162., 163., 164.,\n",
       "         165., 166., 167., 168., 169., 170., 171., 172., 173., 174., 175.,\n",
       "         176., 177., 178., 179., 180., 181., 182., 183., 184., 185., 186.,\n",
       "         187., 188., 189., 190., 191., 192., 193., 194., 195., 196., 197.,\n",
       "         198., 199., 200., 201., 202., 203., 204., 205., 206., 207., 208.,\n",
       "         209., 210., 211., 212., 213., 214., 215., 216., 217., 218., 219.,\n",
       "         220., 221., 222., 223., 224., 225., 226., 227., 228., 229., 230.,\n",
       "         231., 232., 233., 234., 235., 236., 237., 238., 239., 240., 241.,\n",
       "         242., 243., 244., 245., 246., 247., 248., 249., 250., 251., 252.,\n",
       "         253., 254., 255., 256., 257., 258., 259., 260., 261., 262., 263.,\n",
       "         264., 265., 266., 267., 268., 269., 270., 271., 272., 273., 274.,\n",
       "         275., 276., 277., 278., 279., 280., 281., 282., 283., 284., 285.,\n",
       "         286., 287., 288., 289., 290., 291., 292., 293., 294., 295., 296.,\n",
       "         297., 298., 299., 300., 301., 302., 303., 304., 305., 306., 307.,\n",
       "         308., 309., 310., 311., 312., 313., 314., 315., 316., 317., 318.,\n",
       "         319., 320., 321., 322., 323., 324., 325., 326., 327., 328., 329.,\n",
       "         330., 331., 332., 333., 334., 335., 336., 337., 338., 339., 340.,\n",
       "         341., 342., 343., 344., 345., 346., 347., 348., 349., 350., 351.,\n",
       "         352., 353., 354., 355., 356., 357., 358., 359., 360., 361., 362.,\n",
       "         363., 364., 365., 366., 367., 368., 369., 370., 371., 372., 373.,\n",
       "         374., 375., 376., 377., 378., 379., 380., 381., 382., 383., 384.,\n",
       "         385., 386., 387., 388., 389., 390., 391., 392., 393., 394., 395.,\n",
       "         396., 397., 398., 399., 400., 401., 402., 403., 404., 405., 406.,\n",
       "         407., 408., 409., 410., 411., 412., 413., 414., 415., 416., 417.,\n",
       "         418., 419., 420., 421., 422., 423., 424., 425., 426., 427., 428.,\n",
       "         429., 430., 431., 432., 433., 434., 435., 436., 437., 438., 439.,\n",
       "         440., 441., 442., 443., 444., 445., 446., 447., 448., 449., 450.,\n",
       "         451., 452., 453., 454., 455., 456., 457., 458., 459., 460., 461.,\n",
       "         462., 463., 464., 465., 466., 467., 468., 469., 470., 471., 472.,\n",
       "         473., 474., 475., 476., 477., 478., 479., 480., 481., 482., 483.,\n",
       "         484., 485., 486., 487., 488., 489., 490., 491., 492., 493., 494.,\n",
       "         495., 496., 497., 498., 499., 500.])),\n",
       " (<__main__.DummyArray: spectrum at 140047808199504>,\n",
       "  array([3.78484825e-02, 3.35643588e-01, 1.51804787e-01, 6.25504672e-01,\n",
       "         4.65842196e-01, 3.85568500e-01, 1.14800006e-01, 8.92308523e-01,\n",
       "         1.05746231e-01, 6.69161449e-01, 5.02629431e-01, 4.73529550e-02,\n",
       "         4.57730679e-01, 3.01958716e-01, 4.45315627e-01, 2.59720137e-01,\n",
       "         7.65900843e-01, 2.68101073e-01, 1.48081346e-01, 5.36965297e-01,\n",
       "         6.95176552e-01, 6.80551022e-01, 5.36903995e-01, 6.94530162e-01,\n",
       "         5.17014732e-02, 4.49605538e-01, 8.57366842e-01, 1.44694089e-01,\n",
       "         1.78389185e-01, 8.94068219e-01, 6.34418072e-04, 6.40014621e-02,\n",
       "         1.25158940e-01, 6.93645622e-01, 7.19869531e-01, 6.80410364e-01,\n",
       "         3.59984474e-01, 6.97769684e-01, 2.30552480e-01, 9.99032946e-01,\n",
       "         6.19266603e-02, 9.89997341e-01, 9.23773598e-01, 2.28153956e-01,\n",
       "         7.76152531e-02, 4.58682540e-01, 5.95770137e-01, 3.18058106e-01,\n",
       "         3.15187940e-01, 9.10476157e-01, 5.84003333e-01, 2.36143588e-01,\n",
       "         3.68610274e-01, 3.56942179e-01, 2.91398716e-02, 4.72115192e-01,\n",
       "         6.88094194e-01, 3.86139341e-01, 1.18075496e-01, 8.82488161e-01,\n",
       "         3.59198143e-01, 8.65874676e-01, 1.04227796e-01, 1.23674988e-01,\n",
       "         3.32780586e-01, 5.84751127e-01, 8.74576883e-01, 3.99532294e-01,\n",
       "         4.23057937e-01, 1.64589109e-01, 1.40418810e-01, 2.99411151e-01,\n",
       "         6.01126477e-01, 3.94990429e-01, 3.06110362e-01, 1.53236743e-01,\n",
       "         9.56451342e-01, 5.95400891e-02, 7.16202235e-01, 9.15657610e-01,\n",
       "         7.85448305e-01, 7.01776841e-01, 1.91100008e-01, 6.42012335e-01,\n",
       "         9.94028123e-01, 2.60856944e-01, 3.95926879e-01, 1.49113866e-02,\n",
       "         8.23156400e-01, 9.75618648e-01, 5.63778148e-01, 8.38367788e-01,\n",
       "         3.01395842e-01, 7.74176966e-01, 2.90473459e-01, 1.92308906e-01,\n",
       "         1.74724474e-01, 1.35311590e-01, 4.99688580e-01, 3.98758169e-01,\n",
       "         6.08438107e-01, 1.84570685e-01, 4.31299102e-01, 6.44984960e-01,\n",
       "         8.82647717e-01, 2.15269356e-03, 4.71136450e-01, 8.53527404e-01,\n",
       "         8.60436495e-01, 4.36388918e-01, 2.20594992e-01, 9.38772805e-03,\n",
       "         5.20375732e-02, 1.61884243e-01, 6.59330776e-02, 9.71718211e-01,\n",
       "         7.59037288e-01, 8.92055724e-01, 9.84743500e-01, 3.43543782e-01,\n",
       "         5.49175009e-01, 5.82941666e-01, 9.72639381e-01, 5.82151436e-01,\n",
       "         5.32307175e-03, 2.78715126e-01, 9.71253337e-01, 7.66000018e-01,\n",
       "         5.84873173e-01, 7.34262436e-01, 1.56722463e-01, 6.51200754e-01,\n",
       "         3.06665492e-01, 5.91664103e-02, 4.29322159e-01, 2.09120738e-01,\n",
       "         5.27437873e-01, 4.68851967e-01, 6.13518057e-01, 5.89330318e-01,\n",
       "         5.38214695e-01, 7.16873027e-01, 9.55573933e-01, 6.13913718e-01,\n",
       "         4.02839973e-01, 1.52367993e-01, 3.01225541e-01, 7.00537760e-01,\n",
       "         6.18035243e-01, 2.94539234e-01, 7.48900708e-01, 9.46862409e-01,\n",
       "         4.81282419e-01, 3.43510293e-02, 6.12626068e-01, 7.04671688e-02,\n",
       "         5.53830101e-01, 7.22416652e-01, 4.34029665e-01, 7.93260055e-01,\n",
       "         3.83548378e-01, 5.37860207e-01, 7.58879532e-01, 8.68358777e-01,\n",
       "         1.65837282e-01, 8.54852521e-01, 2.50675016e-01, 5.05077648e-01,\n",
       "         1.53095113e-02, 2.12710812e-01, 1.09319359e-01, 4.88557876e-01,\n",
       "         8.64424499e-01, 3.84575453e-02, 1.64268608e-01, 7.33700108e-01,\n",
       "         2.24987583e-01, 4.63634994e-01, 6.37256860e-01, 8.49793168e-01,\n",
       "         9.38015385e-01, 6.69614914e-01, 1.75236370e-01, 6.07710255e-01,\n",
       "         9.10644258e-01, 3.61657113e-01, 3.66624862e-01, 4.43738646e-01,\n",
       "         3.36949514e-01, 2.45798520e-01, 3.00887421e-01, 2.51482296e-01,\n",
       "         1.71469446e-01, 6.81055585e-01, 7.55392181e-01, 6.22488224e-01,\n",
       "         9.30845589e-01, 3.69329036e-01, 7.66039496e-01, 5.34238106e-01,\n",
       "         5.93989461e-01, 2.53295601e-01, 9.88727070e-01, 8.12983839e-01,\n",
       "         1.83453222e-01, 2.62241444e-01, 2.94426461e-02, 6.68712438e-01,\n",
       "         1.67770942e-01, 3.83459189e-01, 2.99382731e-01, 5.41820340e-01,\n",
       "         1.87704691e-01, 8.12203002e-01, 5.10005448e-01, 7.90924613e-01,\n",
       "         9.45577728e-01, 5.02375167e-01, 9.97975847e-01, 8.20548478e-01,\n",
       "         7.51953715e-01, 4.84689236e-01, 8.16456315e-01, 6.11613413e-01,\n",
       "         2.82427733e-01, 2.89036308e-01, 1.48195311e-01, 7.23856765e-01,\n",
       "         2.79985542e-01, 7.34323124e-01, 4.84317478e-01, 9.00238476e-02,\n",
       "         3.81908147e-01, 6.12427480e-01, 6.98569469e-01, 1.21875864e-01,\n",
       "         6.17354597e-01, 4.62843524e-01, 4.39282980e-01, 4.16977642e-01,\n",
       "         6.01003706e-01, 7.88304433e-03, 2.41216491e-01, 7.27705314e-01,\n",
       "         4.91682708e-01, 9.11601962e-02, 3.83941134e-01, 5.62546046e-01,\n",
       "         8.81808743e-01, 5.50741020e-01, 4.96660574e-01, 6.14268130e-01,\n",
       "         1.80771770e-01, 1.36807912e-01, 4.63646832e-02, 8.77258960e-01,\n",
       "         6.83029219e-01, 5.65064794e-01, 5.12890530e-02, 3.67574927e-01,\n",
       "         6.89777657e-01, 9.03545732e-01, 1.70083893e-01, 6.63866143e-01,\n",
       "         5.64018507e-01, 4.15895368e-01, 7.60174059e-01, 2.97653446e-01,\n",
       "         2.94964256e-01, 3.34344197e-01, 2.68520019e-01, 8.49602430e-01,\n",
       "         1.67532253e-01, 9.79216323e-01, 4.71409868e-01, 2.26072796e-01,\n",
       "         4.11273928e-01, 7.09281008e-02, 8.78105832e-01, 9.31352757e-01,\n",
       "         5.00312734e-01, 4.29897387e-01, 4.61839626e-01, 9.26713060e-02,\n",
       "         3.96048104e-01, 2.24504436e-01, 2.06726690e-02, 1.08920088e-01,\n",
       "         4.29826298e-01, 3.14123660e-01, 8.42039028e-01, 3.38619777e-01,\n",
       "         8.47157626e-01, 6.79798640e-01, 5.26538047e-03, 9.62539343e-01,\n",
       "         1.71170139e-01, 9.97358668e-02, 5.62347016e-01, 6.23000021e-01,\n",
       "         6.64946684e-01, 1.01635745e-02, 3.69295501e-01, 1.57746268e-01,\n",
       "         6.12018436e-01, 8.44908651e-01, 3.38614831e-01, 1.07507806e-01,\n",
       "         3.05741726e-01, 7.89818806e-01, 2.25711985e-01, 3.30005352e-01,\n",
       "         6.86208154e-01, 1.66020892e-01, 3.01695561e-01, 3.31001110e-01,\n",
       "         9.63632769e-01, 7.86565782e-01, 9.49627383e-02, 6.79506934e-01,\n",
       "         8.00302686e-01, 7.43715749e-01, 5.49745841e-01, 1.29626453e-01,\n",
       "         2.45545648e-01, 3.54129138e-01, 2.23605182e-01, 3.44917655e-01,\n",
       "         8.78401807e-01, 3.20595296e-01, 4.10744490e-01, 8.13055494e-01,\n",
       "         5.88999103e-01, 8.63469510e-01, 5.26938404e-01, 7.83789667e-01,\n",
       "         2.49005388e-01, 5.41495527e-01, 2.65609059e-01, 5.15431264e-01,\n",
       "         2.10324603e-01, 6.78525580e-01, 2.19516311e-01, 8.46982145e-01,\n",
       "         6.54817851e-01, 9.38025183e-01, 9.23965226e-01, 9.94301267e-01,\n",
       "         5.86579148e-03, 1.36371408e-01, 5.17849923e-01, 6.36210279e-01,\n",
       "         2.64507892e-01, 4.80496267e-01, 9.55268057e-01, 7.80575149e-01,\n",
       "         6.95159304e-01, 7.48961383e-01, 5.31662915e-01, 8.38491304e-01,\n",
       "         4.56772642e-02, 9.72482488e-02, 7.30319828e-01, 3.12708206e-01,\n",
       "         3.52422090e-01, 6.42121021e-01, 9.44691316e-01, 3.16167856e-02,\n",
       "         6.83892880e-01, 9.19327048e-01, 7.82051895e-01, 1.07187850e-01,\n",
       "         3.42573395e-03, 8.79630343e-01, 6.50475462e-01, 7.05972897e-02,\n",
       "         3.56979083e-01, 7.97213792e-01, 7.34510308e-02, 3.13175399e-01,\n",
       "         4.15351134e-01, 1.06479014e-01, 2.85737900e-01, 2.25216101e-01,\n",
       "         1.28714053e-01, 5.96542320e-01, 5.50526166e-01, 1.87540239e-01,\n",
       "         7.58659746e-01, 2.32834007e-01, 1.92147307e-01, 4.51447989e-01,\n",
       "         6.47754683e-01, 8.01876656e-01, 9.90050737e-01, 1.74147014e-01,\n",
       "         4.21617393e-02, 3.16162455e-01, 7.89402621e-01, 2.82725578e-01,\n",
       "         4.60145111e-01, 3.08647423e-01, 2.57591845e-01, 8.54543320e-01,\n",
       "         1.58894858e-02, 7.29532228e-01, 1.30045015e-01, 9.70694806e-01,\n",
       "         5.18051859e-02, 5.45384046e-01, 2.16333122e-01, 8.24033478e-01,\n",
       "         5.97690045e-01, 6.80650097e-01, 4.86398829e-01, 2.31191256e-01,\n",
       "         4.92647472e-01, 1.52933781e-03, 9.49644644e-01, 1.74858642e-01,\n",
       "         3.89345484e-01, 7.38323906e-01, 7.15043783e-01, 5.70746322e-01,\n",
       "         2.18530458e-01, 1.02072442e-01, 8.80848628e-01, 2.37677835e-02,\n",
       "         9.91369056e-01, 3.74381512e-01, 1.13320886e-01, 8.95221612e-01,\n",
       "         7.56072920e-01, 5.62640145e-01, 1.32837893e-01, 2.58140840e-01,\n",
       "         4.18827714e-01, 3.91413836e-01, 2.04026200e-03, 7.08816200e-01,\n",
       "         9.33081612e-01, 3.29447946e-01, 7.29298711e-01, 6.58038490e-01,\n",
       "         3.17674410e-01, 6.99967269e-01, 1.50882682e-01, 3.23025919e-01,\n",
       "         6.41187041e-01, 5.58958722e-01, 2.83442089e-01, 6.20672034e-01,\n",
       "         9.34182765e-01, 1.62577996e-01, 5.52010918e-01, 3.32367392e-01,\n",
       "         2.83701056e-01, 2.33260671e-01, 6.68363602e-01, 4.91880613e-01,\n",
       "         6.78788083e-01, 1.37182270e-01, 8.75695567e-01, 5.06620037e-01,\n",
       "         2.60235741e-01, 5.36272455e-02, 5.24759188e-01, 5.38989063e-01,\n",
       "         5.79691647e-01, 1.25494113e-01, 1.01519435e-01, 3.93088357e-01,\n",
       "         9.35211455e-01, 1.87213501e-01, 1.58115601e-02, 8.48357877e-01,\n",
       "         8.03611197e-01, 7.24280131e-01, 6.53173633e-01, 1.85159413e-01,\n",
       "         6.32285752e-01, 5.19408669e-01, 7.77973237e-01, 9.47112705e-01,\n",
       "         2.70292735e-01, 5.84393550e-01, 2.95460121e-01, 3.32616210e-01,\n",
       "         7.54326496e-01, 6.19575082e-01, 6.16548824e-01, 5.52329534e-01,\n",
       "         5.17413997e-01, 5.99522957e-01, 6.26316504e-01, 9.17882294e-01,\n",
       "         9.54679778e-01, 6.01780247e-01, 9.02537431e-02, 3.10327893e-01,\n",
       "         9.32084584e-01]))]"
      ]
     },
     "execution_count": 1,
     "metadata": {},
     "output_type": "execute_result"
    }
   ],
   "source": [
    "expand_setpoints_helper(a.spectrum)"
   ]
  },
  {
   "cell_type": "code",
   "execution_count": 21,
   "metadata": {
    "execution": {
     "iopub.execute_input": "2020-09-14T06:58:57.856537Z",
     "iopub.status.busy": "2020-09-14T06:58:57.856027Z",
     "iopub.status.idle": "2020-09-14T06:58:57.876259Z",
     "shell.execute_reply": "2020-09-14T06:58:57.876943Z"
    }
   },
   "outputs": [
    {
     "name": "stdout",
     "output_type": "stream",
     "text": [
      "Starting experimental run with id: 2. \n"
     ]
    }
   ],
   "source": [
    "meas = Measurement()\n",
    "meas.register_parameter(a.spectrum)\n",
    "\n",
    "with meas.run() as datasaver:\n",
    "    datasaver.add_result(*expand_setpoints_helper(a.spectrum))\n",
    "    \n",
    "    dataid = datasaver.run_id"
   ]
  },
  {
   "cell_type": "code",
   "execution_count": 22,
   "metadata": {},
   "outputs": [],
   "source": []
  }
 ],
 "metadata": {
  "kernelspec": {
   "display_name": "Python 3",
   "language": "python",
   "name": "python3"
  },
  "language_info": {
   "codemirror_mode": {
    "name": "ipython",
    "version": 3
   },
   "file_extension": ".py",
   "mimetype": "text/x-python",
   "name": "python",
   "nbconvert_exporter": "python",
   "pygments_lexer": "ipython3",
   "version": "3.7.7"
  },
  "toc": {
   "base_numbering": 1,
   "nav_menu": {},
   "number_sections": true,
   "sideBar": true,
   "skip_h1_title": false,
   "title_cell": "Table of Contents",
   "title_sidebar": "Contents",
   "toc_cell": false,
   "toc_position": {},
   "toc_section_display": true,
   "toc_window_display": false
  },
  "varInspector": {
   "cols": {
    "lenName": 16,
    "lenType": 16,
    "lenVar": 40
   },
   "kernels_config": {
    "python": {
     "delete_cmd_postfix": "",
     "delete_cmd_prefix": "del ",
     "library": "var_list.py",
     "varRefreshCmd": "print(var_dic_list())"
    },
    "r": {
     "delete_cmd_postfix": ") ",
     "delete_cmd_prefix": "rm(",
     "library": "var_list.r",
     "varRefreshCmd": "cat(var_dic_list()) "
    }
   },
   "types_to_exclude": [
    "module",
    "function",
    "builtin_function_or_method",
    "instance",
    "_Feature"
   ],
   "window_display": false
  }
 },
 "nbformat": 4,
 "nbformat_minor": 2
}
