{
 "cells": [
  {
   "cell_type": "markdown",
   "metadata": {},
   "source": [
    "# Simple Example of ParameterWithSetpoints\n",
    "This notebook provides an example for writing a simple driver with a parameter that has setpoints. Let's name this parameter that has setpoints as \"y\". Then, the setpoints, say \"x1, x2, x3 ..\", are the parameters on which the parameter \n",
    "\"y\" depends upon. Meaning \"y\" is a function of \"x1, x2, x3 ...\" where \"x1, x2, x3 ...\" are known as the setpoints of parameter \"y\".\n",
    "\n",
    "This is most likely to be useful for instruments that return arrays of results. In this notebook, we will show an example of this."
   ]
  },
  {
   "cell_type": "code",
   "execution_count": 1,
   "metadata": {
    "execution": {
     "iopub.execute_input": "2020-09-18T11:47:48.064954Z",
     "iopub.status.busy": "2020-09-18T11:47:48.064086Z",
     "iopub.status.idle": "2020-09-18T11:47:48.157086Z",
     "shell.execute_reply": "2020-09-18T11:47:48.156292Z"
    }
   },
   "outputs": [],
   "source": [
    "import numpy as np\n",
    "import os"
   ]
  },
  {
   "cell_type": "code",
   "execution_count": 2,
   "metadata": {
    "execution": {
     "iopub.execute_input": "2020-09-18T11:47:48.160969Z",
     "iopub.status.busy": "2020-09-18T11:47:48.160494Z",
     "iopub.status.idle": "2020-09-18T11:47:49.223836Z",
     "shell.execute_reply": "2020-09-18T11:47:49.223073Z"
    }
   },
   "outputs": [
    {
     "name": "stdout",
     "output_type": "stream",
     "text": [
      "Logging hadn't been started.\n",
      "Activating auto-logging. Current session state plus future input saved.\n",
      "Filename       : /home/vsts/.qcodes/logs/command_history.log\n",
      "Mode           : append\n",
      "Output logging : True\n",
      "Raw input log  : False\n",
      "Timestamping   : True\n",
      "State          : active\n"
     ]
    },
    {
     "name": "stdout",
     "output_type": "stream",
     "text": [
      "Qcodes Logfile : /home/vsts/.qcodes/logs/200918-21938-qcodes.log\n"
     ]
    }
   ],
   "source": [
    "from qcodes.dataset.plotting import plot_dataset\n",
    "from qcodes.utils.validators import Numbers, Arrays\n",
    "from qcodes.instrument.base import Instrument\n",
    "from qcodes.dataset.measurements import Measurement"
   ]
  },
  {
   "cell_type": "code",
   "execution_count": 3,
   "metadata": {
    "execution": {
     "iopub.execute_input": "2020-09-18T11:47:49.227578Z",
     "iopub.status.busy": "2020-09-18T11:47:49.227107Z",
     "iopub.status.idle": "2020-09-18T11:47:49.230257Z",
     "shell.execute_reply": "2020-09-18T11:47:49.229838Z"
    }
   },
   "outputs": [],
   "source": [
    "from qcodes.dataset.sqlite.database import initialise_or_create_database_at\n",
    "from qcodes.dataset.experiment_container import load_or_create_experiment"
   ]
  },
  {
   "cell_type": "code",
   "execution_count": 4,
   "metadata": {
    "execution": {
     "iopub.execute_input": "2020-09-18T11:47:49.234569Z",
     "iopub.status.busy": "2020-09-18T11:47:49.233487Z",
     "iopub.status.idle": "2020-09-18T11:47:49.235164Z",
     "shell.execute_reply": "2020-09-18T11:47:49.235671Z"
    }
   },
   "outputs": [],
   "source": [
    "from qcodes.instrument.parameter import ParameterWithSetpoints, Parameter\n",
    "from qcodes.instrument.parameter import expand_setpoints_helper"
   ]
  },
  {
   "cell_type": "markdown",
   "metadata": {},
   "source": [
    "First, we define a dummy instrument that returns something like a frequency spectrum starting from a frequency given by `f_start` to a frequency given by `f_stop` in `n_points` steps. \n",
    "\n",
    "The extra functionality of the `ParameterWithSetpoints` is implemented by giving it a reference to one or more parameters that acts like its setpoints. \n",
    "\n",
    "To setup a `ParameterWithSetpoints` we have to do two things in addition to what we do for a normal parameter.\n",
    "\n",
    "* Define one or more parameter for the setpoints (one for each dimension of the array and let the `ParameterWithSetpoints` know that these are the setpoints.\n",
    "* Give both the setpoints parameter(s) and the `ParameterWithSetpoints` a `validator` of type `Arrays` with a shape. The shapes should be such that the combined shape of the setpoints matches the shape of the `ParameterWithSetpoints`. Note that if the shape changes with the setting of the instrument, it can be defined by another parameter as shown below. "
   ]
  },
  {
   "cell_type": "code",
   "execution_count": 5,
   "metadata": {
    "execution": {
     "iopub.execute_input": "2020-09-18T11:47:49.245527Z",
     "iopub.status.busy": "2020-09-18T11:47:49.243062Z",
     "iopub.status.idle": "2020-09-18T11:47:49.247133Z",
     "shell.execute_reply": "2020-09-18T11:47:49.247544Z"
    }
   },
   "outputs": [],
   "source": [
    "class GeneratedSetPoints(Parameter):\n",
    "    \"\"\"\n",
    "    A parameter that generates a setpoint array from start, stop and num points\n",
    "    parameters.\n",
    "    \"\"\"\n",
    "    def __init__(self, startparam, stopparam, numpointsparam, *args, **kwargs):\n",
    "        super().__init__(*args, **kwargs)\n",
    "        self._startparam = startparam\n",
    "        self._stopparam = stopparam\n",
    "        self._numpointsparam = numpointsparam\n",
    "\n",
    "    def get_raw(self):\n",
    "        return np.linspace(self._startparam(), self._stopparam(),\n",
    "                              self._numpointsparam())\n",
    "\n",
    "class DummyArray(ParameterWithSetpoints):\n",
    "    \n",
    "    def get_raw(self):\n",
    "        npoints = self.root_instrument.n_points.get_latest()\n",
    "        return np.random.rand(npoints)\n",
    "    \n",
    "\n",
    "class DummySpectrumAnalyzer(Instrument):\n",
    "    \n",
    "    def __init__(self, name, **kwargs):\n",
    "        \n",
    "        super().__init__(name, **kwargs)\n",
    "            \n",
    "\n",
    "        self.add_parameter('f_start',\n",
    "                           initial_value=0,\n",
    "                           unit='Hz',\n",
    "                           label='f start',\n",
    "                           vals=Numbers(0,1e3),\n",
    "                           get_cmd=None,\n",
    "                           set_cmd=None)\n",
    "\n",
    "        self.add_parameter('f_stop',\n",
    "                           unit='Hz',\n",
    "                           label='f stop',\n",
    "                           vals=Numbers(1,1e3),\n",
    "                           get_cmd=None,\n",
    "                           set_cmd=None)\n",
    "\n",
    "        self.add_parameter('n_points',\n",
    "                           unit='',\n",
    "                           initial_value=10,\n",
    "                           vals=Numbers(1,1e3),\n",
    "                           get_cmd=None,\n",
    "                           set_cmd=None)\n",
    "        \n",
    "        self.add_parameter('freq_axis',\n",
    "                           unit='Hz',\n",
    "                           label='Freq Axis',\n",
    "                           parameter_class=GeneratedSetPoints,\n",
    "                           startparam=self.f_start,\n",
    "                           stopparam=self.f_stop,\n",
    "                           numpointsparam=self.n_points,\n",
    "                           vals=Arrays(shape=(self.n_points.get_latest,)))\n",
    "                           \n",
    "        self.add_parameter('spectrum',\n",
    "                   unit='dBm',\n",
    "                   setpoints=(self.freq_axis,),\n",
    "                   label='Spectrum',\n",
    "                   parameter_class=DummyArray,\n",
    "                   vals=Arrays(shape=(self.n_points.get_latest,)))\n",
    "                "
   ]
  },
  {
   "cell_type": "markdown",
   "metadata": {},
   "source": [
    "In the above example, the shape is defined by the parameter `n_points` that defines how many samples our `DummySpectrumAnalyzer` returns.\n",
    "\n",
    "This means that the validation will call the function to get `n_points` twice for each `get` of the parameter. This may be too slow, however, if you (as the driver-writer) can guarantee that the cached value for `n_points` will never be out of sync with the value stored in the instrument, `n_points` may be replaced by it's latest known value such that the `validator` reads:\n",
    "```python\n",
    "vals=Arrays(shape=(self.n_points.get_latest))\n",
    "```\n",
    "\n",
    "This avoids any additional call to the instrument. In the same way, the arguments to the `freq_axis` parameter that defines the start, stop and number of points can be replaced by their latest value if the instrument allows it.\n",
    "\n"
   ]
  },
  {
   "cell_type": "code",
   "execution_count": 6,
   "metadata": {
    "execution": {
     "iopub.execute_input": "2020-09-18T11:47:49.251345Z",
     "iopub.status.busy": "2020-09-18T11:47:49.250653Z",
     "iopub.status.idle": "2020-09-18T11:47:49.335206Z",
     "shell.execute_reply": "2020-09-18T11:47:49.334690Z"
    }
   },
   "outputs": [
    {
     "name": "stdout",
     "output_type": "stream",
     "text": [
      "\r",
      "0it [00:00, ?it/s]"
     ]
    },
    {
     "name": "stdout",
     "output_type": "stream",
     "text": [
      "\r",
      "Upgrading database; v0 -> v1: : 0it [00:00, ?it/s]"
     ]
    },
    {
     "name": "stdout",
     "output_type": "stream",
     "text": [
      "\r",
      "Upgrading database; v0 -> v1: : 0it [00:00, ?it/s]"
     ]
    },
    {
     "name": "stdout",
     "output_type": "stream",
     "text": [
      "\n",
      "\r",
      "  0%|          | 0/1 [00:00<?, ?it/s]"
     ]
    },
    {
     "name": "stdout",
     "output_type": "stream",
     "text": [
      "\r",
      "Upgrading database; v1 -> v2:   0%|          | 0/1 [00:00<?, ?it/s]"
     ]
    },
    {
     "name": "stdout",
     "output_type": "stream",
     "text": [
      "\r",
      "Upgrading database; v1 -> v2: 100%|██████████| 1/1 [00:00<00:00, 519.10it/s]"
     ]
    },
    {
     "name": "stdout",
     "output_type": "stream",
     "text": [
      "\n",
      "\r",
      "0it [00:00, ?it/s]"
     ]
    },
    {
     "name": "stdout",
     "output_type": "stream",
     "text": [
      "\r",
      "Upgrading database; v2 -> v3: : 0it [00:00, ?it/s]"
     ]
    },
    {
     "name": "stdout",
     "output_type": "stream",
     "text": [
      "\r",
      "Upgrading database; v2 -> v3: : 0it [00:00, ?it/s]"
     ]
    },
    {
     "name": "stdout",
     "output_type": "stream",
     "text": [
      "\n",
      "\r",
      "0it [00:00, ?it/s]"
     ]
    },
    {
     "name": "stdout",
     "output_type": "stream",
     "text": [
      "\r",
      "Upgrading database; v3 -> v4: : 0it [00:00, ?it/s]"
     ]
    },
    {
     "name": "stdout",
     "output_type": "stream",
     "text": [
      "\r",
      "Upgrading database; v3 -> v4: : 0it [00:00, ?it/s]"
     ]
    },
    {
     "name": "stdout",
     "output_type": "stream",
     "text": [
      "\n",
      "\r",
      "  0%|          | 0/1 [00:00<?, ?it/s]"
     ]
    },
    {
     "name": "stdout",
     "output_type": "stream",
     "text": [
      "\r",
      "Upgrading database; v4 -> v5:   0%|          | 0/1 [00:00<?, ?it/s]"
     ]
    },
    {
     "name": "stdout",
     "output_type": "stream",
     "text": [
      "\r",
      "Upgrading database; v4 -> v5: 100%|██████████| 1/1 [00:00<00:00, 672.16it/s]"
     ]
    },
    {
     "name": "stdout",
     "output_type": "stream",
     "text": [
      "\n",
      "\r",
      "0it [00:00, ?it/s]"
     ]
    },
    {
     "name": "stdout",
     "output_type": "stream",
     "text": [
      "\r",
      "Upgrading database; v5 -> v6: : 0it [00:00, ?it/s]"
     ]
    },
    {
     "name": "stdout",
     "output_type": "stream",
     "text": [
      "\r",
      "Upgrading database; v5 -> v6: : 0it [00:00, ?it/s]"
     ]
    },
    {
     "name": "stdout",
     "output_type": "stream",
     "text": [
      "\n",
      "\r",
      "  0%|          | 0/1 [00:00<?, ?it/s]"
     ]
    },
    {
     "name": "stdout",
     "output_type": "stream",
     "text": [
      "\r",
      "Upgrading database; v6 -> v7:   0%|          | 0/1 [00:00<?, ?it/s]"
     ]
    },
    {
     "name": "stdout",
     "output_type": "stream",
     "text": [
      "\r",
      "Upgrading database; v6 -> v7: 100%|██████████| 1/1 [00:00<00:00, 285.11it/s]"
     ]
    },
    {
     "name": "stdout",
     "output_type": "stream",
     "text": [
      "\n",
      "\r",
      "  0%|          | 0/1 [00:00<?, ?it/s]"
     ]
    },
    {
     "name": "stdout",
     "output_type": "stream",
     "text": [
      "\r",
      "Upgrading database; v7 -> v8:   0%|          | 0/1 [00:00<?, ?it/s]"
     ]
    },
    {
     "name": "stdout",
     "output_type": "stream",
     "text": [
      "\r",
      "Upgrading database; v7 -> v8: 100%|██████████| 1/1 [00:00<00:00, 412.54it/s]"
     ]
    },
    {
     "name": "stdout",
     "output_type": "stream",
     "text": [
      "\n",
      "\r",
      "  0%|          | 0/1 [00:00<?, ?it/s]"
     ]
    },
    {
     "name": "stdout",
     "output_type": "stream",
     "text": [
      "\r",
      "Upgrading database; v8 -> v9:   0%|          | 0/1 [00:00<?, ?it/s]"
     ]
    },
    {
     "name": "stdout",
     "output_type": "stream",
     "text": [
      "\r",
      "Upgrading database; v8 -> v9: 100%|██████████| 1/1 [00:00<00:00, 1071.89it/s]"
     ]
    },
    {
     "name": "stdout",
     "output_type": "stream",
     "text": [
      "\n"
     ]
    },
    {
     "data": {
      "text/plain": [
       "tutorial_ParameterWithSetpoints#no sample#1@/home/vsts/work/1/s/docs/examples/Parameters/tutorial_paramter_with_setpoints.db\n",
       "----------------------------------------------------------------------------------------------------------------------------"
      ]
     },
     "execution_count": 1,
     "metadata": {},
     "output_type": "execute_result"
    }
   ],
   "source": [
    "tutorial_db_path = os.path.join(os.getcwd(), 'tutorial_paramter_with_setpoints.db')\n",
    "initialise_or_create_database_at(tutorial_db_path)\n",
    "load_or_create_experiment(experiment_name='tutorial_ParameterWithSetpoints', sample_name=\"no sample\")"
   ]
  },
  {
   "cell_type": "code",
   "execution_count": 7,
   "metadata": {
    "execution": {
     "iopub.execute_input": "2020-09-18T11:47:49.339069Z",
     "iopub.status.busy": "2020-09-18T11:47:49.337737Z",
     "iopub.status.idle": "2020-09-18T11:47:49.341394Z",
     "shell.execute_reply": "2020-09-18T11:47:49.341794Z"
    }
   },
   "outputs": [],
   "source": [
    "a = DummySpectrumAnalyzer('foobar')"
   ]
  },
  {
   "cell_type": "markdown",
   "metadata": {},
   "source": [
    "First we setup the limits of the spectrum"
   ]
  },
  {
   "cell_type": "code",
   "execution_count": 8,
   "metadata": {
    "execution": {
     "iopub.execute_input": "2020-09-18T11:47:49.345594Z",
     "iopub.status.busy": "2020-09-18T11:47:49.345098Z",
     "iopub.status.idle": "2020-09-18T11:47:49.348707Z",
     "shell.execute_reply": "2020-09-18T11:47:49.348177Z"
    }
   },
   "outputs": [],
   "source": [
    "a.f_start(0)\n",
    "a.f_stop(500)\n",
    "a.n_points(501)"
   ]
  },
  {
   "cell_type": "markdown",
   "metadata": {},
   "source": [
    "And we can grab the frequency axis"
   ]
  },
  {
   "cell_type": "code",
   "execution_count": 9,
   "metadata": {
    "execution": {
     "iopub.execute_input": "2020-09-18T11:47:49.352389Z",
     "iopub.status.busy": "2020-09-18T11:47:49.351118Z",
     "iopub.status.idle": "2020-09-18T11:47:49.354513Z",
     "shell.execute_reply": "2020-09-18T11:47:49.355018Z"
    }
   },
   "outputs": [
    {
     "data": {
      "text/plain": [
       "501"
      ]
     },
     "execution_count": 1,
     "metadata": {},
     "output_type": "execute_result"
    }
   ],
   "source": [
    "a.n_points()"
   ]
  },
  {
   "cell_type": "code",
   "execution_count": 10,
   "metadata": {
    "execution": {
     "iopub.execute_input": "2020-09-18T11:47:49.359142Z",
     "iopub.status.busy": "2020-09-18T11:47:49.358176Z",
     "iopub.status.idle": "2020-09-18T11:47:49.361107Z",
     "shell.execute_reply": "2020-09-18T11:47:49.361611Z"
    },
    "scrolled": false
   },
   "outputs": [
    {
     "data": {
      "text/plain": [
       "501"
      ]
     },
     "execution_count": 1,
     "metadata": {},
     "output_type": "execute_result"
    }
   ],
   "source": [
    "freq_axis = a.freq_axis()\n",
    "len(freq_axis)"
   ]
  },
  {
   "cell_type": "code",
   "execution_count": 11,
   "metadata": {
    "execution": {
     "iopub.execute_input": "2020-09-18T11:47:49.365588Z",
     "iopub.status.busy": "2020-09-18T11:47:49.364682Z",
     "iopub.status.idle": "2020-09-18T11:47:49.368472Z",
     "shell.execute_reply": "2020-09-18T11:47:49.367978Z"
    }
   },
   "outputs": [
    {
     "data": {
      "text/plain": [
       "array([0., 1., 2., 3., 4., 5., 6., 7., 8., 9.])"
      ]
     },
     "execution_count": 1,
     "metadata": {},
     "output_type": "execute_result"
    }
   ],
   "source": [
    "freq_axis[:10]"
   ]
  },
  {
   "cell_type": "markdown",
   "metadata": {},
   "source": [
    "As expected we get a result wit 501 points as we asked for an axis with 501 points. "
   ]
  },
  {
   "cell_type": "markdown",
   "metadata": {},
   "source": [
    "Above we have added a validator to the `freq_axis` parameter encoding the fact that this is an Array with `n_points`. Note that we do not have to supply the number of points as an integer but can supply a function that returns the valid number of points. This would normally be a QCoDeS parameter.\n",
    "\n",
    "This will be checked if we validate the output."
   ]
  },
  {
   "cell_type": "code",
   "execution_count": 12,
   "metadata": {
    "execution": {
     "iopub.execute_input": "2020-09-18T11:47:49.371813Z",
     "iopub.status.busy": "2020-09-18T11:47:49.371277Z",
     "iopub.status.idle": "2020-09-18T11:47:49.373398Z",
     "shell.execute_reply": "2020-09-18T11:47:49.373773Z"
    }
   },
   "outputs": [],
   "source": [
    "a.freq_axis.validate(a.freq_axis.get())"
   ]
  },
  {
   "cell_type": "markdown",
   "metadata": {},
   "source": [
    "Naturally, we can also get the spectrum. Getting the spectrum will automatically perform validation both for the shape of the parameter itself and the relation to the setpoint parameter(s)"
   ]
  },
  {
   "cell_type": "code",
   "execution_count": 13,
   "metadata": {
    "execution": {
     "iopub.execute_input": "2020-09-18T11:47:49.378075Z",
     "iopub.status.busy": "2020-09-18T11:47:49.377590Z",
     "iopub.status.idle": "2020-09-18T11:47:49.379749Z",
     "shell.execute_reply": "2020-09-18T11:47:49.380207Z"
    },
    "scrolled": true
   },
   "outputs": [
    {
     "data": {
      "text/plain": [
       "501"
      ]
     },
     "execution_count": 1,
     "metadata": {},
     "output_type": "execute_result"
    }
   ],
   "source": [
    "spectrum = a.spectrum.get()\n",
    "len(spectrum)"
   ]
  },
  {
   "cell_type": "markdown",
   "metadata": {},
   "source": [
    "When we validate a `ParameterWithSetpoints`, we automatically validate that the shape is consistent between the parameters and its setpoints. As well as validating the shape as above."
   ]
  },
  {
   "cell_type": "code",
   "execution_count": 14,
   "metadata": {
    "execution": {
     "iopub.execute_input": "2020-09-18T11:47:49.383625Z",
     "iopub.status.busy": "2020-09-18T11:47:49.382791Z",
     "iopub.status.idle": "2020-09-18T11:47:49.385678Z",
     "shell.execute_reply": "2020-09-18T11:47:49.385146Z"
    }
   },
   "outputs": [],
   "source": [
    "a.spectrum.validate(a.spectrum.get())"
   ]
  },
  {
   "cell_type": "markdown",
   "metadata": {},
   "source": [
    "The consistent shapes can be validated explicitly."
   ]
  },
  {
   "cell_type": "code",
   "execution_count": 15,
   "metadata": {
    "execution": {
     "iopub.execute_input": "2020-09-18T11:47:49.389600Z",
     "iopub.status.busy": "2020-09-18T11:47:49.388978Z",
     "iopub.status.idle": "2020-09-18T11:47:49.391483Z",
     "shell.execute_reply": "2020-09-18T11:47:49.390943Z"
    }
   },
   "outputs": [],
   "source": [
    "a.spectrum.validate_consistent_shape()"
   ]
  },
  {
   "cell_type": "markdown",
   "metadata": {},
   "source": [
    "We can inspect the setpoints of the spectrum."
   ]
  },
  {
   "cell_type": "code",
   "execution_count": 16,
   "metadata": {
    "execution": {
     "iopub.execute_input": "2020-09-18T11:47:49.394647Z",
     "iopub.status.busy": "2020-09-18T11:47:49.393970Z",
     "iopub.status.idle": "2020-09-18T11:47:49.397247Z",
     "shell.execute_reply": "2020-09-18T11:47:49.396725Z"
    }
   },
   "outputs": [
    {
     "data": {
      "text/plain": [
       "(<__main__.GeneratedSetPoints: freq_axis at 140285800408016>,)"
      ]
     },
     "execution_count": 1,
     "metadata": {},
     "output_type": "execute_result"
    }
   ],
   "source": [
    "a.spectrum.setpoints"
   ]
  },
  {
   "cell_type": "markdown",
   "metadata": {},
   "source": [
    "Or even change them."
   ]
  },
  {
   "cell_type": "code",
   "execution_count": 17,
   "metadata": {
    "execution": {
     "iopub.execute_input": "2020-09-18T11:47:49.401203Z",
     "iopub.status.busy": "2020-09-18T11:47:49.400253Z",
     "iopub.status.idle": "2020-09-18T11:47:49.401729Z",
     "shell.execute_reply": "2020-09-18T11:47:49.402216Z"
    }
   },
   "outputs": [],
   "source": [
    "a.spectrum.setpoints = (a.freq_axis,)"
   ]
  },
  {
   "cell_type": "markdown",
   "metadata": {},
   "source": [
    "## Measurement"
   ]
  },
  {
   "cell_type": "markdown",
   "metadata": {},
   "source": [
    "We can also directly consume the parameter in a measurement without defining the setpoints of the parameter again. The setpoints are automatically obtained from the definition of the `ParameterWithSetpoint` instance. "
   ]
  },
  {
   "cell_type": "code",
   "execution_count": 18,
   "metadata": {
    "execution": {
     "iopub.execute_input": "2020-09-18T11:47:49.407337Z",
     "iopub.status.busy": "2020-09-18T11:47:49.406146Z",
     "iopub.status.idle": "2020-09-18T11:47:49.421269Z",
     "shell.execute_reply": "2020-09-18T11:47:49.420742Z"
    }
   },
   "outputs": [
    {
     "name": "stdout",
     "output_type": "stream",
     "text": [
      "Starting experimental run with id: 1. \n"
     ]
    }
   ],
   "source": [
    "meas = Measurement()\n",
    "meas.register_parameter(a.spectrum)\n",
    "\n",
    "with meas.run() as datasaver:\n",
    "    datasaver.add_result((a.freq_axis, a.freq_axis()),\n",
    "                         (a.spectrum, a.spectrum()))\n",
    "    dataset = datasaver.dataset"
   ]
  },
  {
   "cell_type": "markdown",
   "metadata": {},
   "source": [
    "And plot it"
   ]
  },
  {
   "cell_type": "code",
   "execution_count": 19,
   "metadata": {
    "execution": {
     "iopub.execute_input": "2020-09-18T11:47:49.424277Z",
     "iopub.status.busy": "2020-09-18T11:47:49.423802Z",
     "iopub.status.idle": "2020-09-18T11:47:49.781899Z",
     "shell.execute_reply": "2020-09-18T11:47:49.781191Z"
    }
   },
   "outputs": [
    {
     "data": {
      "text/plain": [
       "([<matplotlib.axes._subplots.AxesSubplot at 0x7f96d5e48c90>], [None])"
      ]
     },
     "execution_count": 1,
     "metadata": {},
     "output_type": "execute_result"
    },
    {
     "data": {
      "image/png": "[encoded data removed]",
      "text/plain": [
       "<Figure size 432x288 with 1 Axes>"
      ]
     },
     "metadata": {
      "needs_background": "light"
     },
     "output_type": "display_data"
    }
   ],
   "source": [
    "plot_dataset(dataset)"
   ]
  },
  {
   "cell_type": "markdown",
   "metadata": {},
   "source": [
    "To reduce the amount of typing a simple convenience function is provided that will take a `ParameterWithSetpoints` and get both its values and the setpoints values and return them as tuples for direct insertion into the Dataset."
   ]
  },
  {
   "cell_type": "code",
   "execution_count": 20,
   "metadata": {
    "execution": {
     "iopub.execute_input": "2020-09-18T11:47:49.794550Z",
     "iopub.status.busy": "2020-09-18T11:47:49.785162Z",
     "iopub.status.idle": "2020-09-18T11:47:49.798775Z",
     "shell.execute_reply": "2020-09-18T11:47:49.798208Z"
    },
    "scrolled": true
   },
   "outputs": [
    {
     "data": {
      "text/plain": [
       "[(<__main__.GeneratedSetPoints: freq_axis at 140285800408016>,\n",
       "  array([  0.,   1.,   2.,   3.,   4.,   5.,   6.,   7.,   8.,   9.,  10.,\n",
       "          11.,  12.,  13.,  14.,  15.,  16.,  17.,  18.,  19.,  20.,  21.,\n",
       "          22.,  23.,  24.,  25.,  26.,  27.,  28.,  29.,  30.,  31.,  32.,\n",
       "          33.,  34.,  35.,  36.,  37.,  38.,  39.,  40.,  41.,  42.,  43.,\n",
       "          44.,  45.,  46.,  47.,  48.,  49.,  50.,  51.,  52.,  53.,  54.,\n",
       "          55.,  56.,  57.,  58.,  59.,  60.,  61.,  62.,  63.,  64.,  65.,\n",
       "          66.,  67.,  68.,  69.,  70.,  71.,  72.,  73.,  74.,  75.,  76.,\n",
       "          77.,  78.,  79.,  80.,  81.,  82.,  83.,  84.,  85.,  86.,  87.,\n",
       "          88.,  89.,  90.,  91.,  92.,  93.,  94.,  95.,  96.,  97.,  98.,\n",
       "          99., 100., 101., 102., 103., 104., 105., 106., 107., 108., 109.,\n",
       "         110., 111., 112., 113., 114., 115., 116., 117., 118., 119., 120.,\n",
       "         121., 122., 123., 124., 125., 126., 127., 128., 129., 130., 131.,\n",
       "         132., 133., 134., 135., 136., 137., 138., 139., 140., 141., 142.,\n",
       "         143., 144., 145., 146., 147., 148., 149., 150., 151., 152., 153.,\n",
       "         154., 155., 156., 157., 158., 159., 160., 161., 162., 163., 164.,\n",
       "         165., 166., 167., 168., 169., 170., 171., 172., 173., 174., 175.,\n",
       "         176., 177., 178., 179., 180., 181., 182., 183., 184., 185., 186.,\n",
       "         187., 188., 189., 190., 191., 192., 193., 194., 195., 196., 197.,\n",
       "         198., 199., 200., 201., 202., 203., 204., 205., 206., 207., 208.,\n",
       "         209., 210., 211., 212., 213., 214., 215., 216., 217., 218., 219.,\n",
       "         220., 221., 222., 223., 224., 225., 226., 227., 228., 229., 230.,\n",
       "         231., 232., 233., 234., 235., 236., 237., 238., 239., 240., 241.,\n",
       "         242., 243., 244., 245., 246., 247., 248., 249., 250., 251., 252.,\n",
       "         253., 254., 255., 256., 257., 258., 259., 260., 261., 262., 263.,\n",
       "         264., 265., 266., 267., 268., 269., 270., 271., 272., 273., 274.,\n",
       "         275., 276., 277., 278., 279., 280., 281., 282., 283., 284., 285.,\n",
       "         286., 287., 288., 289., 290., 291., 292., 293., 294., 295., 296.,\n",
       "         297., 298., 299., 300., 301., 302., 303., 304., 305., 306., 307.,\n",
       "         308., 309., 310., 311., 312., 313., 314., 315., 316., 317., 318.,\n",
       "         319., 320., 321., 322., 323., 324., 325., 326., 327., 328., 329.,\n",
       "         330., 331., 332., 333., 334., 335., 336., 337., 338., 339., 340.,\n",
       "         341., 342., 343., 344., 345., 346., 347., 348., 349., 350., 351.,\n",
       "         352., 353., 354., 355., 356., 357., 358., 359., 360., 361., 362.,\n",
       "         363., 364., 365., 366., 367., 368., 369., 370., 371., 372., 373.,\n",
       "         374., 375., 376., 377., 378., 379., 380., 381., 382., 383., 384.,\n",
       "         385., 386., 387., 388., 389., 390., 391., 392., 393., 394., 395.,\n",
       "         396., 397., 398., 399., 400., 401., 402., 403., 404., 405., 406.,\n",
       "         407., 408., 409., 410., 411., 412., 413., 414., 415., 416., 417.,\n",
       "         418., 419., 420., 421., 422., 423., 424., 425., 426., 427., 428.,\n",
       "         429., 430., 431., 432., 433., 434., 435., 436., 437., 438., 439.,\n",
       "         440., 441., 442., 443., 444., 445., 446., 447., 448., 449., 450.,\n",
       "         451., 452., 453., 454., 455., 456., 457., 458., 459., 460., 461.,\n",
       "         462., 463., 464., 465., 466., 467., 468., 469., 470., 471., 472.,\n",
       "         473., 474., 475., 476., 477., 478., 479., 480., 481., 482., 483.,\n",
       "         484., 485., 486., 487., 488., 489., 490., 491., 492., 493., 494.,\n",
       "         495., 496., 497., 498., 499., 500.])),\n",
       " (<__main__.DummyArray: spectrum at 140285810920080>,\n",
       "  array([0.57430791, 0.94735051, 0.90177566, 0.05478779, 0.35018853,\n",
       "         0.9687071 , 0.90469945, 0.15331856, 0.9467775 , 0.4271717 ,\n",
       "         0.16156016, 0.99400616, 0.44234105, 0.69475384, 0.70894916,\n",
       "         0.45521873, 0.41932193, 0.94502939, 0.25755621, 0.15789682,\n",
       "         0.12681187, 0.14297467, 0.4444682 , 0.83466944, 0.6976239 ,\n",
       "         0.93680368, 0.33172557, 0.71834866, 0.29873528, 0.55705539,\n",
       "         0.91606207, 0.35464091, 0.68008679, 0.82784376, 0.29028435,\n",
       "         0.76828753, 0.96377371, 0.73170883, 0.47898641, 0.20664886,\n",
       "         0.41676378, 0.4247753 , 0.32222433, 0.72190339, 0.0717199 ,\n",
       "         0.75122633, 0.57063998, 0.71425006, 0.60831755, 0.78698299,\n",
       "         0.38761087, 0.12309396, 0.10956013, 0.92326612, 0.0026562 ,\n",
       "         0.59552076, 0.18499638, 0.95839907, 0.49522704, 0.68574457,\n",
       "         0.40560668, 0.28611043, 0.73698723, 0.67868904, 0.79578951,\n",
       "         0.92856663, 0.1917073 , 0.54806883, 0.87304594, 0.69445132,\n",
       "         0.39583601, 0.43048477, 0.115891  , 0.27399815, 0.41737796,\n",
       "         0.05789001, 0.39920501, 0.27480016, 0.40209713, 0.25241615,\n",
       "         0.88837063, 0.13876506, 0.92063995, 0.71979712, 0.68302897,\n",
       "         0.64920018, 0.1811142 , 0.4812024 , 0.50820282, 0.79823639,\n",
       "         0.74466205, 0.38582719, 0.12366341, 0.29837639, 0.30341007,\n",
       "         0.79387208, 0.96271804, 0.45012544, 0.65799712, 0.93790458,\n",
       "         0.01676554, 0.64064601, 0.55554663, 0.61157006, 0.99119219,\n",
       "         0.21958424, 0.55810359, 0.42257302, 0.39328875, 0.7056035 ,\n",
       "         0.35608259, 0.3900932 , 0.54833524, 0.26228708, 0.41993838,\n",
       "         0.13745168, 0.65237455, 0.16341843, 0.98034327, 0.05018961,\n",
       "         0.82587462, 0.72150436, 0.05904505, 0.6652638 , 0.7661193 ,\n",
       "         0.96356874, 0.64057926, 0.2119375 , 0.43706686, 0.06944658,\n",
       "         0.19244423, 0.926906  , 0.55681508, 0.83966117, 0.15070491,\n",
       "         0.18261518, 0.46702268, 0.1631173 , 0.21546291, 0.43819796,\n",
       "         0.82878131, 0.34943533, 0.04702916, 0.08049607, 0.94267325,\n",
       "         0.64881564, 0.49156123, 0.37352454, 0.00671208, 0.37329111,\n",
       "         0.84210138, 0.28191136, 0.96919724, 0.74656309, 0.1630528 ,\n",
       "         0.61136236, 0.34839612, 0.338993  , 0.6358018 , 0.8725899 ,\n",
       "         0.44169353, 0.96791732, 0.41470437, 0.266827  , 0.74353342,\n",
       "         0.06039105, 0.92446543, 0.99955871, 0.25241781, 0.91923875,\n",
       "         0.47811481, 0.58823121, 0.76952022, 0.48548737, 0.65606556,\n",
       "         0.60670345, 0.95582187, 0.51577579, 0.92163448, 0.74798377,\n",
       "         0.40682904, 0.3757453 , 0.31634659, 0.97556351, 0.38356979,\n",
       "         0.76561991, 0.59126352, 0.79399613, 0.40010067, 0.67230773,\n",
       "         0.13315227, 0.79779484, 0.72422728, 0.79502299, 0.22901688,\n",
       "         0.74508769, 0.17037023, 0.32987685, 0.37238116, 0.83701072,\n",
       "         0.10595161, 0.03272577, 0.16677787, 0.15661311, 0.46020273,\n",
       "         0.08329038, 0.81937639, 0.49023841, 0.60460111, 0.82720072,\n",
       "         0.90074804, 0.49125075, 0.37680585, 0.60602566, 0.1253187 ,\n",
       "         0.62462256, 0.7044701 , 0.90693342, 0.78206193, 0.72033685,\n",
       "         0.09850171, 0.34261511, 0.78599596, 0.04836734, 0.61095614,\n",
       "         0.10364491, 0.03274006, 0.29869247, 0.73063612, 0.40592456,\n",
       "         0.05693673, 0.79261716, 0.77178693, 0.72036313, 0.08784043,\n",
       "         0.90935693, 0.06422217, 0.65149158, 0.16816742, 0.71322579,\n",
       "         0.93186416, 0.91529118, 0.61669665, 0.15958394, 0.79310996,\n",
       "         0.44363293, 0.30150358, 0.20494885, 0.6152143 , 0.09217724,\n",
       "         0.62239175, 0.33935004, 0.50473136, 0.28683797, 0.67279789,\n",
       "         0.48906629, 0.57049972, 0.23056896, 0.90485572, 0.56693216,\n",
       "         0.98967979, 0.3502491 , 0.01856524, 0.55707411, 0.87693838,\n",
       "         0.55627963, 0.22746835, 0.22670786, 0.04171062, 0.76086556,\n",
       "         0.01916811, 0.19500617, 0.89680412, 0.75853032, 0.9577094 ,\n",
       "         0.29762883, 0.1438281 , 0.94985681, 0.6429315 , 0.50043394,\n",
       "         0.10816413, 0.51631294, 0.22135074, 0.03981642, 0.58018602,\n",
       "         0.5510304 , 0.65309179, 0.8963048 , 0.79856644, 0.02599695,\n",
       "         0.13249492, 0.97361104, 0.42523941, 0.76059242, 0.62635638,\n",
       "         0.13645191, 0.65184758, 0.80481182, 0.89247518, 0.32679132,\n",
       "         0.35975139, 0.98814865, 0.74358176, 0.64765336, 0.68051959,\n",
       "         0.62043724, 0.48664459, 0.07973966, 0.06639684, 0.51123033,\n",
       "         0.75252948, 0.358545  , 0.04911055, 0.41596921, 0.66173942,\n",
       "         0.86230525, 0.21255365, 0.29350183, 0.49965026, 0.10330018,\n",
       "         0.8719739 , 0.95883788, 0.30357141, 0.0681885 , 0.40503205,\n",
       "         0.39859453, 0.21887623, 0.7147397 , 0.4499436 , 0.12703347,\n",
       "         0.83503679, 0.35189434, 0.15736334, 0.1634065 , 0.69911772,\n",
       "         0.13423299, 0.14802569, 0.02802112, 0.73390186, 0.37314354,\n",
       "         0.04656267, 0.52387084, 0.61774683, 0.0928158 , 0.62429182,\n",
       "         0.56921722, 0.35442989, 0.58554826, 0.79604317, 0.15124733,\n",
       "         0.65695267, 0.92276939, 0.34084966, 0.08111339, 0.54857876,\n",
       "         0.54031736, 0.90462439, 0.93333842, 0.72652259, 0.48644696,\n",
       "         0.4050279 , 0.29523804, 0.24594429, 0.19659594, 0.2254256 ,\n",
       "         0.66426231, 0.66866328, 0.25352259, 0.59148842, 0.6708637 ,\n",
       "         0.19619701, 0.43298209, 0.4331016 , 0.22581431, 0.08547387,\n",
       "         0.74128961, 0.84731378, 0.48852027, 0.54265276, 0.20083786,\n",
       "         0.34090001, 0.42515515, 0.24201497, 0.83085578, 0.35239673,\n",
       "         0.99624628, 0.56341344, 0.93723013, 0.53485388, 0.53362165,\n",
       "         0.55095891, 0.0997674 , 0.71533714, 0.40438921, 0.60796807,\n",
       "         0.54336576, 0.2970826 , 0.87930065, 0.7025656 , 0.1903808 ,\n",
       "         0.32220597, 0.97073145, 0.65765294, 0.83274304, 0.23265468,\n",
       "         0.2245089 , 0.81446492, 0.65841764, 0.94495737, 0.33257676,\n",
       "         0.41231675, 0.0262748 , 0.19828465, 0.84552302, 0.44342007,\n",
       "         0.87255345, 0.31269916, 0.50578499, 0.00608584, 0.8565912 ,\n",
       "         0.02830162, 0.63494399, 0.01725522, 0.19283079, 0.67463863,\n",
       "         0.64707994, 0.9932152 , 0.43385299, 0.49884336, 0.82560279,\n",
       "         0.01043217, 0.66647029, 0.39481604, 0.96454898, 0.7828198 ,\n",
       "         0.17281656, 0.94477939, 0.55533199, 0.34655394, 0.797422  ,\n",
       "         0.32690723, 0.4300402 , 0.96565497, 0.94707509, 0.57685874,\n",
       "         0.85343205, 0.67917583, 0.53984945, 0.17861445, 0.90228443,\n",
       "         0.72249309, 0.36110769, 0.22369181, 0.00945873, 0.10536383,\n",
       "         0.07101641, 0.96227977, 0.94399851, 0.392783  , 0.50638196,\n",
       "         0.38485436, 0.84539596, 0.82650394, 0.47309836, 0.60378671,\n",
       "         0.06244317, 0.63290975, 0.82968386, 0.62530319, 0.4111229 ,\n",
       "         0.20432928, 0.37465992, 0.68447013, 0.65368037, 0.77450716,\n",
       "         0.28482436, 0.86980199, 0.44728211, 0.72003867, 0.20928047,\n",
       "         0.29797423, 0.69667026, 0.78056224, 0.07565095, 0.02694963,\n",
       "         0.57163529, 0.83283163, 0.06456816, 0.32838654, 0.42294964,\n",
       "         0.34482999, 0.2910234 , 0.41921696, 0.63509134, 0.91955095,\n",
       "         0.17551636, 0.41326778, 0.52595502, 0.20969104, 0.42462554,\n",
       "         0.14519498]))]"
      ]
     },
     "execution_count": 1,
     "metadata": {},
     "output_type": "execute_result"
    }
   ],
   "source": [
    "expand_setpoints_helper(a.spectrum)"
   ]
  },
  {
   "cell_type": "code",
   "execution_count": 21,
   "metadata": {
    "execution": {
     "iopub.execute_input": "2020-09-18T11:47:49.802918Z",
     "iopub.status.busy": "2020-09-18T11:47:49.802457Z",
     "iopub.status.idle": "2020-09-18T11:47:49.820928Z",
     "shell.execute_reply": "2020-09-18T11:47:49.820383Z"
    }
   },
   "outputs": [
    {
     "name": "stdout",
     "output_type": "stream",
     "text": [
      "Starting experimental run with id: 2. \n"
     ]
    }
   ],
   "source": [
    "meas = Measurement()\n",
    "meas.register_parameter(a.spectrum)\n",
    "\n",
    "with meas.run() as datasaver:\n",
    "    datasaver.add_result(*expand_setpoints_helper(a.spectrum))\n",
    "    \n",
    "    dataid = datasaver.run_id"
   ]
  },
  {
   "cell_type": "code",
   "execution_count": null,
   "metadata": {},
   "outputs": [],
   "source": []
  }
 ],
 "metadata": {
  "kernelspec": {
   "display_name": "Python 3",
   "language": "python",
   "name": "python3"
  },
  "language_info": {
   "codemirror_mode": {
    "name": "ipython",
    "version": 3
   },
   "file_extension": ".py",
   "mimetype": "text/x-python",
   "name": "python",
   "nbconvert_exporter": "python",
   "pygments_lexer": "ipython3",
   "version": "3.7.7"
  },
  "toc": {
   "base_numbering": 1,
   "nav_menu": {},
   "number_sections": true,
   "sideBar": true,
   "skip_h1_title": false,
   "title_cell": "Table of Contents",
   "title_sidebar": "Contents",
   "toc_cell": false,
   "toc_position": {},
   "toc_section_display": true,
   "toc_window_display": false
  },
  "varInspector": {
   "cols": {
    "lenName": 16,
    "lenType": 16,
    "lenVar": 40
   },
   "kernels_config": {
    "python": {
     "delete_cmd_postfix": "",
     "delete_cmd_prefix": "del ",
     "library": "var_list.py",
     "varRefreshCmd": "print(var_dic_list())"
    },
    "r": {
     "delete_cmd_postfix": ") ",
     "delete_cmd_prefix": "rm(",
     "library": "var_list.r",
     "varRefreshCmd": "cat(var_dic_list()) "
    }
   },
   "types_to_exclude": [
    "module",
    "function",
    "builtin_function_or_method",
    "instance",
    "_Feature"
   ],
   "window_display": false
  }
 },
 "nbformat": 4,
 "nbformat_minor": 2
}
