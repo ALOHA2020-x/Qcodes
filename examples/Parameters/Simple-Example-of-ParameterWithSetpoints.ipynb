{
 "cells": [
  {
   "cell_type": "markdown",
   "metadata": {},
   "source": [
    "# Simple Example of ParameterWithSetpoints\n",
    "This notebook provides an example for writing a simple driver with a parameter that has setpoints. Let's name this parameter that has setpoints as \"y\". Then, the setpoints, say \"x1, x2, x3 ..\", are the parameters on which the parameter \n",
    "\"y\" depends upon. Meaning \"y\" is a function of \"x1, x2, x3 ...\" where \"x1, x2, x3 ...\" are known as the setpoints of parameter \"y\".\n",
    "\n",
    "This is most likely to be useful for instruments that return arrays of results. In this notebook, we will show an example of this."
   ]
  },
  {
   "cell_type": "code",
   "execution_count": 1,
   "metadata": {},
   "outputs": [],
   "source": [
    "import numpy as np\n",
    "import os"
   ]
  },
  {
   "cell_type": "code",
   "execution_count": 2,
   "metadata": {},
   "outputs": [
    {
     "name": "stdout",
     "output_type": "stream",
     "text": [
      "Logging hadn't been started.\n",
      "Activating auto-logging. Current session state plus future input saved.\n",
      "Filename       : /home/vsts/.qcodes/logs/command_history.log\n",
      "Mode           : append\n",
      "Output logging : True\n",
      "Raw input log  : False\n",
      "Timestamping   : True\n",
      "State          : active\n"
     ]
    },
    {
     "name": "stdout",
     "output_type": "stream",
     "text": [
      "Qcodes Logfile : /home/vsts/.qcodes/logs/200316-22127-qcodes.log\n"
     ]
    }
   ],
   "source": [
    "from qcodes.dataset.plotting import plot_dataset\n",
    "from qcodes.utils.validators import Numbers, Arrays\n",
    "from qcodes.instrument.base import Instrument\n",
    "from qcodes.dataset.measurements import Measurement"
   ]
  },
  {
   "cell_type": "code",
   "execution_count": 3,
   "metadata": {},
   "outputs": [],
   "source": [
    "from qcodes.dataset.sqlite.database import initialise_or_create_database_at\n",
    "from qcodes.dataset.experiment_container import load_or_create_experiment"
   ]
  },
  {
   "cell_type": "code",
   "execution_count": 4,
   "metadata": {},
   "outputs": [],
   "source": [
    "from qcodes.instrument.parameter import ParameterWithSetpoints, Parameter\n",
    "from qcodes.instrument.parameter import expand_setpoints_helper"
   ]
  },
  {
   "cell_type": "markdown",
   "metadata": {},
   "source": [
    "First, we define a dummy instrument that returns something like a frequency spectrum starting from a frequency given by `f_start` to a frequency given by `f_stop` in `n_points` steps. \n",
    "\n",
    "The extra functionality of the `ParameterWithSetpoints` is implemented by giving it a reference to one or more parameters that acts like its setpoints. \n",
    "\n",
    "To setup a `ParameterWithSetpoints` we have to do two things in addition to what we do for a normal parameter.\n",
    "\n",
    "* Define one or more parameter for the setpoints (one for each dimension of the array and let the `ParameterWithSetpoints` know that these are the setpoints.\n",
    "* Give both the setpoints parameter(s) and the `ParameterWithSetpoints` a `validator` of type `Arrays` with a shape. The shapes should be such that the combined shape of the setpoints matches the shape of the `ParameterWithSetpoints`. Note that if the shape changes with the setting of the instrument, it can be defined by another parameter as shown below. "
   ]
  },
  {
   "cell_type": "code",
   "execution_count": 5,
   "metadata": {},
   "outputs": [],
   "source": [
    "class GeneratedSetPoints(Parameter):\n",
    "    \"\"\"\n",
    "    A parameter that generates a setpoint array from start, stop and num points\n",
    "    parameters.\n",
    "    \"\"\"\n",
    "    def __init__(self, startparam, stopparam, numpointsparam, *args, **kwargs):\n",
    "        super().__init__(*args, **kwargs)\n",
    "        self._startparam = startparam\n",
    "        self._stopparam = stopparam\n",
    "        self._numpointsparam = numpointsparam\n",
    "\n",
    "    def get_raw(self):\n",
    "        return np.linspace(self._startparam(), self._stopparam(),\n",
    "                              self._numpointsparam())\n",
    "\n",
    "class DummyArray(ParameterWithSetpoints):\n",
    "    \n",
    "    def get_raw(self):\n",
    "        npoints = self.root_instrument.n_points.get_latest()\n",
    "        return np.random.rand(npoints)\n",
    "    \n",
    "\n",
    "class DummySpectrumAnalyzer(Instrument):\n",
    "    \n",
    "    def __init__(self, name, **kwargs):\n",
    "        \n",
    "        super().__init__(name, **kwargs)\n",
    "            \n",
    "\n",
    "        self.add_parameter('f_start',\n",
    "                           initial_value=0,\n",
    "                           unit='Hz',\n",
    "                           label='f start',\n",
    "                           vals=Numbers(0,1e3),\n",
    "                           get_cmd=None,\n",
    "                           set_cmd=None)\n",
    "\n",
    "        self.add_parameter('f_stop',\n",
    "                           unit='Hz',\n",
    "                           label='f stop',\n",
    "                           vals=Numbers(1,1e3),\n",
    "                           get_cmd=None,\n",
    "                           set_cmd=None)\n",
    "\n",
    "        self.add_parameter('n_points',\n",
    "                           unit='',\n",
    "                           initial_value=10,\n",
    "                           vals=Numbers(1,1e3),\n",
    "                           get_cmd=None,\n",
    "                           set_cmd=None)\n",
    "        \n",
    "        self.add_parameter('freq_axis',\n",
    "                           unit='Hz',\n",
    "                           label='Freq Axis',\n",
    "                           parameter_class=GeneratedSetPoints,\n",
    "                           startparam=self.f_start,\n",
    "                           stopparam=self.f_stop,\n",
    "                           numpointsparam=self.n_points,\n",
    "                           vals=Arrays(shape=(self.n_points.get_latest,)))\n",
    "                           \n",
    "        self.add_parameter('spectrum',\n",
    "                   unit='dBm',\n",
    "                   setpoints=(self.freq_axis,),\n",
    "                   label='Spectrum',\n",
    "                   parameter_class=DummyArray,\n",
    "                   vals=Arrays(shape=(self.n_points.get_latest,)))\n",
    "                "
   ]
  },
  {
   "cell_type": "markdown",
   "metadata": {},
   "source": [
    "In the above example, the shape is defined by the parameter `n_points` that defines how many samples our `DummySpectrumAnalyzer` returns.\n",
    "\n",
    "This means that the validation will call the function to get `n_points` twice for each `get` of the parameter. This may be too slow, however, if you (as the driver-writer) can guarantee that the cached value for `n_points` will never be out of sync with the value stored in the instrument, `n_points` may be replaced by it's latest known value such that the `validator` reads:\n",
    "```python\n",
    "vals=Arrays(shape=(self.n_points.get_latest))\n",
    "```\n",
    "\n",
    "This avoids any additional call to the instrument. In the same way, the arguments to the `freq_axis` parameter that defines the start, stop and number of points can be replaced by their latest value if the instrument allows it.\n",
    "\n"
   ]
  },
  {
   "cell_type": "code",
   "execution_count": 6,
   "metadata": {},
   "outputs": [
    {
     "name": "stdout",
     "output_type": "stream",
     "text": [
      "\r",
      "0it [00:00, ?it/s]"
     ]
    },
    {
     "name": "stdout",
     "output_type": "stream",
     "text": [
      "\r",
      "Upgrading database; v0 -> v1: : 0it [00:00, ?it/s]"
     ]
    },
    {
     "name": "stdout",
     "output_type": "stream",
     "text": [
      "\r",
      "Upgrading database; v0 -> v1: : 0it [00:00, ?it/s]"
     ]
    },
    {
     "name": "stdout",
     "output_type": "stream",
     "text": [
      "\n",
      "\r",
      "  0%|          | 0/1 [00:00<?, ?it/s]"
     ]
    },
    {
     "name": "stdout",
     "output_type": "stream",
     "text": [
      "\r",
      "Upgrading database; v1 -> v2:   0%|          | 0/1 [00:00<?, ?it/s]"
     ]
    },
    {
     "name": "stdout",
     "output_type": "stream",
     "text": [
      "\r",
      "Upgrading database; v1 -> v2: 100%|██████████| 1/1 [00:00<00:00, 263.68it/s]"
     ]
    },
    {
     "name": "stdout",
     "output_type": "stream",
     "text": [
      "\n",
      "\r",
      "0it [00:00, ?it/s]"
     ]
    },
    {
     "name": "stdout",
     "output_type": "stream",
     "text": [
      "\r",
      "Upgrading database; v2 -> v3: : 0it [00:00, ?it/s]"
     ]
    },
    {
     "name": "stdout",
     "output_type": "stream",
     "text": [
      "\r",
      "Upgrading database; v2 -> v3: : 0it [00:00, ?it/s]"
     ]
    },
    {
     "name": "stdout",
     "output_type": "stream",
     "text": [
      "\n",
      "\r",
      "0it [00:00, ?it/s]"
     ]
    },
    {
     "name": "stdout",
     "output_type": "stream",
     "text": [
      "\r",
      "Upgrading database; v3 -> v4: : 0it [00:00, ?it/s]"
     ]
    },
    {
     "name": "stdout",
     "output_type": "stream",
     "text": [
      "\r",
      "Upgrading database; v3 -> v4: : 0it [00:00, ?it/s]"
     ]
    },
    {
     "name": "stdout",
     "output_type": "stream",
     "text": [
      "\n",
      "\r",
      "  0%|          | 0/1 [00:00<?, ?it/s]"
     ]
    },
    {
     "name": "stdout",
     "output_type": "stream",
     "text": [
      "\r",
      "Upgrading database; v4 -> v5:   0%|          | 0/1 [00:00<?, ?it/s]"
     ]
    },
    {
     "name": "stdout",
     "output_type": "stream",
     "text": [
      "\r",
      "Upgrading database; v4 -> v5: 100%|██████████| 1/1 [00:00<00:00, 699.52it/s]"
     ]
    },
    {
     "name": "stdout",
     "output_type": "stream",
     "text": [
      "\n",
      "\r",
      "0it [00:00, ?it/s]"
     ]
    },
    {
     "name": "stdout",
     "output_type": "stream",
     "text": [
      "\r",
      "Upgrading database; v5 -> v6: : 0it [00:00, ?it/s]"
     ]
    },
    {
     "name": "stdout",
     "output_type": "stream",
     "text": [
      "\r",
      "Upgrading database; v5 -> v6: : 0it [00:00, ?it/s]"
     ]
    },
    {
     "name": "stdout",
     "output_type": "stream",
     "text": [
      "\n",
      "\r",
      "  0%|          | 0/1 [00:00<?, ?it/s]"
     ]
    },
    {
     "name": "stdout",
     "output_type": "stream",
     "text": [
      "\r",
      "Upgrading database; v6 -> v7:   0%|          | 0/1 [00:00<?, ?it/s]"
     ]
    },
    {
     "name": "stdout",
     "output_type": "stream",
     "text": [
      "\r",
      "Upgrading database; v6 -> v7: 100%|██████████| 1/1 [00:00<00:00, 312.70it/s]"
     ]
    },
    {
     "name": "stdout",
     "output_type": "stream",
     "text": [
      "\n",
      "\r",
      "  0%|          | 0/1 [00:00<?, ?it/s]"
     ]
    },
    {
     "name": "stdout",
     "output_type": "stream",
     "text": [
      "\r",
      "Upgrading database; v7 -> v8:   0%|          | 0/1 [00:00<?, ?it/s]"
     ]
    },
    {
     "name": "stdout",
     "output_type": "stream",
     "text": [
      "\r",
      "Upgrading database; v7 -> v8: 100%|██████████| 1/1 [00:00<00:00, 712.35it/s]"
     ]
    },
    {
     "name": "stdout",
     "output_type": "stream",
     "text": [
      "\n",
      "\r",
      "  0%|          | 0/1 [00:00<?, ?it/s]"
     ]
    },
    {
     "name": "stdout",
     "output_type": "stream",
     "text": [
      "\r",
      "Upgrading database; v8 -> v9:   0%|          | 0/1 [00:00<?, ?it/s]"
     ]
    },
    {
     "name": "stdout",
     "output_type": "stream",
     "text": [
      "\r",
      "Upgrading database; v8 -> v9: 100%|██████████| 1/1 [00:00<00:00, 606.73it/s]"
     ]
    },
    {
     "name": "stdout",
     "output_type": "stream",
     "text": [
      "\n"
     ]
    },
    {
     "data": {
      "text/plain": [
       "tutorial_ParameterWithSetpoints#no sample#1@/home/vsts/work/1/s/docs/examples/Parameters/tutorial_paramter_with_setpoints.db\n",
       "----------------------------------------------------------------------------------------------------------------------------"
      ]
     },
     "execution_count": 6,
     "metadata": {},
     "output_type": "execute_result"
    }
   ],
   "source": [
    "tutorial_db_path = os.path.join(os.getcwd(), 'tutorial_paramter_with_setpoints.db')\n",
    "initialise_or_create_database_at(tutorial_db_path)\n",
    "load_or_create_experiment(experiment_name='tutorial_ParameterWithSetpoints', sample_name=\"no sample\")"
   ]
  },
  {
   "cell_type": "code",
   "execution_count": 7,
   "metadata": {},
   "outputs": [],
   "source": [
    "a = DummySpectrumAnalyzer('foobar')"
   ]
  },
  {
   "cell_type": "markdown",
   "metadata": {},
   "source": [
    "First we setup the limits of the spectrum"
   ]
  },
  {
   "cell_type": "code",
   "execution_count": 8,
   "metadata": {},
   "outputs": [],
   "source": [
    "a.f_start(0)\n",
    "a.f_stop(500)\n",
    "a.n_points(501)"
   ]
  },
  {
   "cell_type": "markdown",
   "metadata": {},
   "source": [
    "And we can grab the frequency axis"
   ]
  },
  {
   "cell_type": "code",
   "execution_count": 9,
   "metadata": {},
   "outputs": [
    {
     "data": {
      "text/plain": [
       "501"
      ]
     },
     "execution_count": 9,
     "metadata": {},
     "output_type": "execute_result"
    }
   ],
   "source": [
    "a.n_points()"
   ]
  },
  {
   "cell_type": "code",
   "execution_count": 10,
   "metadata": {
    "scrolled": false
   },
   "outputs": [
    {
     "data": {
      "text/plain": [
       "501"
      ]
     },
     "execution_count": 10,
     "metadata": {},
     "output_type": "execute_result"
    }
   ],
   "source": [
    "freq_axis = a.freq_axis()\n",
    "len(freq_axis)"
   ]
  },
  {
   "cell_type": "code",
   "execution_count": 11,
   "metadata": {},
   "outputs": [
    {
     "data": {
      "text/plain": [
       "array([0., 1., 2., 3., 4., 5., 6., 7., 8., 9.])"
      ]
     },
     "execution_count": 11,
     "metadata": {},
     "output_type": "execute_result"
    }
   ],
   "source": [
    "freq_axis[:10]"
   ]
  },
  {
   "cell_type": "markdown",
   "metadata": {},
   "source": [
    "As expected we get a result wit 501 points as we asked for an axis with 501 points. "
   ]
  },
  {
   "cell_type": "markdown",
   "metadata": {},
   "source": [
    "Above we have added a validator to the `freq_axis` parameter encoding the fact that this is an Array with `n_points`. Note that we do not have to supply the number of points as an integer but can supply a function that returns the valid number of points. This would normally be a QCoDeS parameter.\n",
    "\n",
    "This will be checked if we validate the output."
   ]
  },
  {
   "cell_type": "code",
   "execution_count": 12,
   "metadata": {},
   "outputs": [],
   "source": [
    "a.freq_axis.validate(a.freq_axis.get())"
   ]
  },
  {
   "cell_type": "markdown",
   "metadata": {},
   "source": [
    "Naturally, we can also get the spectrum. Getting the spectrum will automatically perform validation both for the shape of the parameter itself and the relation to the setpoint parameter(s)"
   ]
  },
  {
   "cell_type": "code",
   "execution_count": 13,
   "metadata": {
    "scrolled": true
   },
   "outputs": [
    {
     "data": {
      "text/plain": [
       "501"
      ]
     },
     "execution_count": 13,
     "metadata": {},
     "output_type": "execute_result"
    }
   ],
   "source": [
    "spectrum = a.spectrum.get()\n",
    "len(spectrum)"
   ]
  },
  {
   "cell_type": "markdown",
   "metadata": {},
   "source": [
    "When we validate a `ParameterWithSetpoints`, we automatically validate that the shape is consistent between the parameters and its setpoints. As well as validating the shape as above."
   ]
  },
  {
   "cell_type": "code",
   "execution_count": 14,
   "metadata": {},
   "outputs": [],
   "source": [
    "a.spectrum.validate(a.spectrum.get())"
   ]
  },
  {
   "cell_type": "markdown",
   "metadata": {},
   "source": [
    "The consistent shapes can be validated explicitly."
   ]
  },
  {
   "cell_type": "code",
   "execution_count": 15,
   "metadata": {},
   "outputs": [],
   "source": [
    "a.spectrum.validate_consistent_shape()"
   ]
  },
  {
   "cell_type": "markdown",
   "metadata": {},
   "source": [
    "We can inspect the setpoints of the spectrum."
   ]
  },
  {
   "cell_type": "code",
   "execution_count": 16,
   "metadata": {},
   "outputs": [
    {
     "data": {
      "text/plain": [
       "(<__main__.GeneratedSetPoints: freq_axis at 140219939873360>,)"
      ]
     },
     "execution_count": 16,
     "metadata": {},
     "output_type": "execute_result"
    }
   ],
   "source": [
    "a.spectrum.setpoints"
   ]
  },
  {
   "cell_type": "markdown",
   "metadata": {},
   "source": [
    "Or even change them."
   ]
  },
  {
   "cell_type": "code",
   "execution_count": 17,
   "metadata": {},
   "outputs": [],
   "source": [
    "a.spectrum.setpoints = (a.freq_axis,)"
   ]
  },
  {
   "cell_type": "markdown",
   "metadata": {},
   "source": [
    "## Measurement"
   ]
  },
  {
   "cell_type": "markdown",
   "metadata": {},
   "source": [
    "We can also directly consume the parameter in a measurement without defining the setpoints of the parameter again. The setpoints are automatically obtained from the definition of the `ParameterWithSetpoint` instance. "
   ]
  },
  {
   "cell_type": "code",
   "execution_count": 18,
   "metadata": {},
   "outputs": [
    {
     "name": "stdout",
     "output_type": "stream",
     "text": [
      "Starting experimental run with id: 1. "
     ]
    },
    {
     "name": "stdout",
     "output_type": "stream",
     "text": [
      "\n"
     ]
    }
   ],
   "source": [
    "meas = Measurement()\n",
    "meas.register_parameter(a.spectrum)\n",
    "\n",
    "with meas.run() as datasaver:\n",
    "    datasaver.add_result((a.freq_axis, a.freq_axis()),\n",
    "                         (a.spectrum, a.spectrum()))\n",
    "    dataset = datasaver.dataset"
   ]
  },
  {
   "cell_type": "markdown",
   "metadata": {},
   "source": [
    "And plot it"
   ]
  },
  {
   "cell_type": "code",
   "execution_count": 19,
   "metadata": {},
   "outputs": [
    {
     "data": {
      "text/plain": [
       "([<matplotlib.axes._subplots.AxesSubplot at 0x7f8771cf8950>], [None])"
      ]
     },
     "execution_count": 19,
     "metadata": {},
     "output_type": "execute_result"
    },
    {
     "data": {
      "image/png": "[encoded data removed]",
      "text/plain": [
       "<Figure size 432x288 with 1 Axes>"
      ]
     },
     "metadata": {
      "needs_background": "light"
     },
     "output_type": "display_data"
    }
   ],
   "source": [
    "plot_dataset(dataset)"
   ]
  },
  {
   "cell_type": "markdown",
   "metadata": {},
   "source": [
    "To reduce the amount of typing a simple convenience function is provided that will take a `ParameterWithSetpoints` and get both its values and the setpoints values and return them as tuples for direct insertion into the Dataset."
   ]
  },
  {
   "cell_type": "code",
   "execution_count": 20,
   "metadata": {
    "scrolled": true
   },
   "outputs": [
    {
     "data": {
      "text/plain": [
       "[(<__main__.GeneratedSetPoints: freq_axis at 140219939873360>,\n",
       "  array([  0.,   1.,   2.,   3.,   4.,   5.,   6.,   7.,   8.,   9.,  10.,\n",
       "          11.,  12.,  13.,  14.,  15.,  16.,  17.,  18.,  19.,  20.,  21.,\n",
       "          22.,  23.,  24.,  25.,  26.,  27.,  28.,  29.,  30.,  31.,  32.,\n",
       "          33.,  34.,  35.,  36.,  37.,  38.,  39.,  40.,  41.,  42.,  43.,\n",
       "          44.,  45.,  46.,  47.,  48.,  49.,  50.,  51.,  52.,  53.,  54.,\n",
       "          55.,  56.,  57.,  58.,  59.,  60.,  61.,  62.,  63.,  64.,  65.,\n",
       "          66.,  67.,  68.,  69.,  70.,  71.,  72.,  73.,  74.,  75.,  76.,\n",
       "          77.,  78.,  79.,  80.,  81.,  82.,  83.,  84.,  85.,  86.,  87.,\n",
       "          88.,  89.,  90.,  91.,  92.,  93.,  94.,  95.,  96.,  97.,  98.,\n",
       "          99., 100., 101., 102., 103., 104., 105., 106., 107., 108., 109.,\n",
       "         110., 111., 112., 113., 114., 115., 116., 117., 118., 119., 120.,\n",
       "         121., 122., 123., 124., 125., 126., 127., 128., 129., 130., 131.,\n",
       "         132., 133., 134., 135., 136., 137., 138., 139., 140., 141., 142.,\n",
       "         143., 144., 145., 146., 147., 148., 149., 150., 151., 152., 153.,\n",
       "         154., 155., 156., 157., 158., 159., 160., 161., 162., 163., 164.,\n",
       "         165., 166., 167., 168., 169., 170., 171., 172., 173., 174., 175.,\n",
       "         176., 177., 178., 179., 180., 181., 182., 183., 184., 185., 186.,\n",
       "         187., 188., 189., 190., 191., 192., 193., 194., 195., 196., 197.,\n",
       "         198., 199., 200., 201., 202., 203., 204., 205., 206., 207., 208.,\n",
       "         209., 210., 211., 212., 213., 214., 215., 216., 217., 218., 219.,\n",
       "         220., 221., 222., 223., 224., 225., 226., 227., 228., 229., 230.,\n",
       "         231., 232., 233., 234., 235., 236., 237., 238., 239., 240., 241.,\n",
       "         242., 243., 244., 245., 246., 247., 248., 249., 250., 251., 252.,\n",
       "         253., 254., 255., 256., 257., 258., 259., 260., 261., 262., 263.,\n",
       "         264., 265., 266., 267., 268., 269., 270., 271., 272., 273., 274.,\n",
       "         275., 276., 277., 278., 279., 280., 281., 282., 283., 284., 285.,\n",
       "         286., 287., 288., 289., 290., 291., 292., 293., 294., 295., 296.,\n",
       "         297., 298., 299., 300., 301., 302., 303., 304., 305., 306., 307.,\n",
       "         308., 309., 310., 311., 312., 313., 314., 315., 316., 317., 318.,\n",
       "         319., 320., 321., 322., 323., 324., 325., 326., 327., 328., 329.,\n",
       "         330., 331., 332., 333., 334., 335., 336., 337., 338., 339., 340.,\n",
       "         341., 342., 343., 344., 345., 346., 347., 348., 349., 350., 351.,\n",
       "         352., 353., 354., 355., 356., 357., 358., 359., 360., 361., 362.,\n",
       "         363., 364., 365., 366., 367., 368., 369., 370., 371., 372., 373.,\n",
       "         374., 375., 376., 377., 378., 379., 380., 381., 382., 383., 384.,\n",
       "         385., 386., 387., 388., 389., 390., 391., 392., 393., 394., 395.,\n",
       "         396., 397., 398., 399., 400., 401., 402., 403., 404., 405., 406.,\n",
       "         407., 408., 409., 410., 411., 412., 413., 414., 415., 416., 417.,\n",
       "         418., 419., 420., 421., 422., 423., 424., 425., 426., 427., 428.,\n",
       "         429., 430., 431., 432., 433., 434., 435., 436., 437., 438., 439.,\n",
       "         440., 441., 442., 443., 444., 445., 446., 447., 448., 449., 450.,\n",
       "         451., 452., 453., 454., 455., 456., 457., 458., 459., 460., 461.,\n",
       "         462., 463., 464., 465., 466., 467., 468., 469., 470., 471., 472.,\n",
       "         473., 474., 475., 476., 477., 478., 479., 480., 481., 482., 483.,\n",
       "         484., 485., 486., 487., 488., 489., 490., 491., 492., 493., 494.,\n",
       "         495., 496., 497., 498., 499., 500.])),\n",
       " (<__main__.DummyArray: spectrum at 140219715602704>,\n",
       "  array([9.46650626e-01, 4.97063292e-01, 6.81232498e-01, 4.20253048e-01,\n",
       "         2.24983680e-03, 7.29237817e-01, 3.29839692e-01, 2.69845702e-01,\n",
       "         6.67313395e-01, 2.94741022e-01, 5.45203053e-01, 9.85285093e-01,\n",
       "         5.78117009e-01, 6.66913686e-01, 6.95217522e-01, 9.96911288e-01,\n",
       "         2.58289770e-02, 1.60151066e-01, 3.47513780e-01, 5.09263813e-01,\n",
       "         9.66635289e-01, 7.48823139e-01, 2.95023591e-01, 7.62613551e-01,\n",
       "         7.99688396e-01, 9.46643642e-01, 8.88332782e-01, 2.77623403e-01,\n",
       "         6.83335068e-01, 8.86594808e-01, 9.91801853e-01, 3.87942553e-01,\n",
       "         8.10946295e-01, 7.64830468e-01, 2.30903695e-02, 1.78005974e-01,\n",
       "         5.92401839e-01, 4.47548433e-01, 2.17860631e-01, 7.79076489e-02,\n",
       "         8.52089372e-01, 9.27059770e-01, 6.56135538e-01, 3.02571153e-01,\n",
       "         6.12124137e-01, 2.19871243e-01, 3.95943002e-01, 3.51629756e-01,\n",
       "         7.09829921e-01, 9.68184021e-01, 4.20126252e-01, 7.18169946e-01,\n",
       "         5.34585547e-01, 9.50035191e-01, 1.86998862e-01, 5.03496857e-01,\n",
       "         3.68943850e-02, 1.07277013e-01, 4.75302386e-01, 9.61524055e-04,\n",
       "         9.53652840e-01, 8.20405998e-01, 5.87418163e-01, 1.18544340e-01,\n",
       "         7.38798330e-02, 8.21872765e-01, 9.36062720e-01, 9.51600980e-01,\n",
       "         5.60012101e-01, 4.71815750e-01, 2.72252922e-01, 8.76834041e-01,\n",
       "         8.06173126e-01, 9.70085603e-02, 6.72472068e-01, 3.74451064e-01,\n",
       "         1.55853920e-01, 2.13787065e-01, 5.63604011e-01, 7.10087638e-01,\n",
       "         4.11101984e-01, 2.76293688e-01, 9.09127033e-01, 6.27716613e-01,\n",
       "         2.82496754e-01, 6.08197370e-01, 3.20055930e-01, 7.82981169e-01,\n",
       "         5.81988355e-02, 3.67927108e-01, 3.62869456e-01, 3.70404906e-02,\n",
       "         8.79366781e-02, 9.26553292e-01, 6.09041626e-01, 3.40561931e-01,\n",
       "         6.07440469e-02, 2.37039248e-02, 9.37892932e-01, 2.65420814e-01,\n",
       "         3.37268671e-01, 4.76226689e-01, 3.03688007e-01, 7.86615661e-01,\n",
       "         2.66684334e-01, 6.40136557e-01, 1.46762465e-01, 9.54407503e-01,\n",
       "         7.52700568e-01, 6.13768674e-01, 2.46140858e-01, 2.58289275e-01,\n",
       "         3.37804207e-01, 4.97939832e-01, 5.73117873e-01, 1.21151191e-01,\n",
       "         6.21724325e-01, 6.08829859e-01, 4.09178000e-01, 5.47257503e-01,\n",
       "         2.92122836e-01, 4.86431476e-02, 9.63965066e-01, 2.13253807e-01,\n",
       "         5.86879876e-01, 4.84149413e-01, 4.17400682e-01, 6.06736109e-01,\n",
       "         4.24955235e-01, 4.18721100e-01, 3.28749493e-01, 3.55124887e-01,\n",
       "         6.54047889e-01, 5.02358957e-01, 3.70514584e-01, 4.00633386e-01,\n",
       "         5.56562329e-02, 4.04615481e-01, 3.72407794e-02, 8.44822451e-01,\n",
       "         4.63471857e-01, 8.67596274e-01, 2.33149020e-01, 4.47827367e-01,\n",
       "         3.13346759e-01, 3.59213371e-01, 2.75762497e-01, 1.17238891e-01,\n",
       "         7.45943073e-01, 4.64681996e-01, 2.73571901e-01, 3.92165296e-01,\n",
       "         3.76720769e-02, 3.26047261e-02, 7.91504933e-01, 6.63058048e-01,\n",
       "         6.23260992e-01, 3.90101468e-01, 6.02598628e-01, 7.45295728e-01,\n",
       "         2.93544916e-03, 5.21217798e-01, 6.72882078e-01, 5.46307544e-01,\n",
       "         7.57557733e-01, 6.33982597e-01, 3.43979482e-01, 9.88065402e-01,\n",
       "         5.72952208e-01, 9.97182243e-01, 4.60026835e-01, 8.43677233e-01,\n",
       "         6.16875305e-01, 5.22714352e-01, 3.09339001e-01, 3.14882629e-01,\n",
       "         8.22123282e-01, 1.14156569e-01, 2.70241990e-01, 2.31689424e-02,\n",
       "         5.85100339e-01, 9.14517582e-01, 1.14099258e-01, 5.82008710e-01,\n",
       "         3.95770166e-01, 1.22873067e-01, 6.50574369e-01, 8.00818009e-01,\n",
       "         4.62226894e-01, 4.64463344e-01, 3.90531131e-01, 5.79189547e-01,\n",
       "         9.19845611e-01, 9.22568945e-01, 4.55777948e-01, 1.04735469e-01,\n",
       "         3.40415536e-01, 8.91200995e-02, 5.14254591e-01, 6.37776701e-01,\n",
       "         8.15873237e-01, 9.99224109e-01, 3.87374238e-01, 5.40803310e-01,\n",
       "         6.68340457e-01, 5.09745993e-01, 7.52249168e-01, 9.24115785e-01,\n",
       "         8.44805591e-01, 5.84347116e-01, 5.77373460e-01, 3.70921719e-01,\n",
       "         8.03228640e-01, 5.30725601e-01, 4.99628385e-01, 3.03123912e-01,\n",
       "         6.85191219e-01, 6.50620614e-01, 3.28291625e-01, 2.92667112e-01,\n",
       "         5.01141914e-01, 7.06350962e-01, 1.17300608e-01, 1.49480712e-01,\n",
       "         9.08039339e-02, 1.39307530e-01, 6.84559208e-01, 1.73500182e-01,\n",
       "         1.28942049e-02, 9.45180745e-01, 2.56218089e-01, 5.93642741e-01,\n",
       "         3.76120399e-02, 5.73794836e-01, 8.02785937e-01, 7.48816555e-01,\n",
       "         7.58107877e-01, 5.31208075e-02, 1.09198264e-01, 6.96115707e-01,\n",
       "         9.25514816e-01, 7.35225977e-01, 5.65797417e-02, 5.75259443e-01,\n",
       "         7.61236014e-01, 6.40296183e-01, 4.43371265e-01, 9.80237663e-01,\n",
       "         3.93733270e-02, 7.47594782e-01, 1.67573197e-01, 4.25687690e-01,\n",
       "         2.72479569e-01, 3.95931083e-01, 1.18389306e-01, 8.49781330e-01,\n",
       "         1.98401428e-01, 8.13067739e-01, 4.30157926e-01, 3.97114266e-01,\n",
       "         2.91800939e-02, 6.93141702e-01, 7.40962888e-01, 3.24043561e-01,\n",
       "         7.56431157e-01, 9.54389571e-01, 3.94747781e-02, 5.56324121e-01,\n",
       "         5.87569094e-01, 7.15207998e-02, 2.26852373e-01, 9.19650115e-01,\n",
       "         6.72886178e-01, 9.07349328e-02, 1.77765988e-01, 9.31022852e-01,\n",
       "         5.21210850e-01, 3.39750450e-01, 1.40550727e-01, 9.12499122e-01,\n",
       "         6.25259932e-03, 5.88255348e-01, 6.15346002e-01, 9.36946756e-01,\n",
       "         7.90488224e-01, 7.23172583e-01, 2.75652153e-01, 2.77916544e-01,\n",
       "         3.52986663e-01, 8.67483840e-01, 8.26306047e-01, 4.75411453e-01,\n",
       "         9.83091883e-01, 1.13223912e-01, 4.72667494e-01, 7.67340344e-01,\n",
       "         9.86706027e-01, 5.65668939e-02, 3.92733829e-01, 5.78972543e-01,\n",
       "         1.61878967e-01, 6.94506354e-01, 9.72493073e-01, 4.23758200e-01,\n",
       "         7.64115430e-01, 3.22615456e-01, 7.32376037e-01, 3.54825020e-01,\n",
       "         5.94190125e-01, 4.50381430e-01, 2.95869512e-01, 8.61956199e-01,\n",
       "         1.37488663e-02, 9.24151161e-01, 6.42094531e-01, 8.49141622e-01,\n",
       "         8.76014874e-01, 3.85637391e-01, 8.26701693e-01, 2.80535599e-01,\n",
       "         5.98777316e-01, 8.52134810e-03, 1.77314632e-01, 2.53104545e-01,\n",
       "         9.88192513e-01, 5.35232519e-02, 7.98535533e-01, 1.60447024e-01,\n",
       "         4.48621987e-01, 1.12776712e-01, 7.47456669e-01, 1.48104496e-01,\n",
       "         2.40516637e-01, 6.36743863e-01, 2.08712272e-01, 6.39842973e-01,\n",
       "         2.37355854e-01, 8.95299265e-01, 6.62228956e-01, 7.11301857e-01,\n",
       "         6.28506997e-01, 9.09918785e-01, 2.16380973e-02, 7.96835076e-01,\n",
       "         1.50985434e-01, 6.95791156e-01, 1.53017877e-01, 4.39315626e-01,\n",
       "         7.95654921e-01, 5.40127979e-01, 7.34888980e-01, 2.89558860e-01,\n",
       "         6.09395790e-01, 7.02509476e-01, 8.36202387e-01, 9.87413725e-01,\n",
       "         8.70206612e-01, 7.00368238e-01, 2.34223590e-01, 1.68594311e-01,\n",
       "         4.76845843e-01, 2.51019304e-01, 9.77403249e-01, 5.79535828e-01,\n",
       "         1.96764724e-01, 8.16815794e-01, 2.78834641e-01, 1.44028910e-01,\n",
       "         5.73827207e-01, 9.92069587e-01, 2.21320787e-01, 2.16026012e-01,\n",
       "         9.28951986e-01, 2.50961117e-01, 3.82422678e-01, 4.63440546e-01,\n",
       "         4.57806410e-01, 8.27717842e-01, 3.04812275e-01, 4.25159339e-01,\n",
       "         4.45501901e-01, 1.95663656e-01, 6.12716093e-02, 4.22781460e-01,\n",
       "         3.97098137e-01, 1.57806857e-01, 2.09161419e-01, 2.13735690e-01,\n",
       "         3.95869614e-01, 4.19993549e-02, 9.18172699e-01, 7.34476568e-02,\n",
       "         4.27700225e-01, 7.74429609e-01, 9.60688672e-01, 7.00808287e-01,\n",
       "         8.96120130e-01, 6.44244416e-01, 9.18985817e-01, 2.04020659e-02,\n",
       "         3.64859120e-01, 5.41918139e-01, 3.57019623e-01, 2.57183086e-01,\n",
       "         2.56194610e-01, 2.95485047e-01, 4.53341513e-03, 2.08744294e-01,\n",
       "         2.35596470e-01, 3.89635237e-01, 9.28502280e-01, 8.90174430e-01,\n",
       "         8.92140725e-01, 6.27537468e-01, 1.95127227e-01, 7.17296225e-01,\n",
       "         8.81034184e-01, 9.18904711e-01, 3.70908186e-01, 1.68041523e-01,\n",
       "         2.24236033e-01, 5.09789148e-01, 6.56009822e-01, 7.01893217e-01,\n",
       "         2.40565256e-01, 6.29516886e-01, 5.65034740e-01, 3.58348180e-01,\n",
       "         6.06484841e-02, 5.95672356e-01, 8.78323932e-01, 6.63891813e-01,\n",
       "         4.21692028e-01, 4.67455106e-01, 2.96890577e-02, 2.70488162e-01,\n",
       "         8.63019780e-01, 4.37315717e-01, 9.20393723e-01, 7.76200231e-02,\n",
       "         4.44319840e-01, 8.96843857e-01, 1.50063204e-01, 3.09113861e-01,\n",
       "         4.40642741e-01, 2.35232923e-01, 4.53906237e-01, 4.92518775e-01,\n",
       "         6.83352496e-01, 5.78657528e-02, 6.40858452e-01, 1.88232405e-01,\n",
       "         8.44128102e-01, 4.34694350e-01, 7.39392168e-01, 1.79895954e-01,\n",
       "         5.41165305e-01, 1.57578824e-01, 1.39615557e-01, 5.60266207e-01,\n",
       "         8.66629532e-01, 6.24123037e-01, 9.70048554e-01, 7.78408719e-01,\n",
       "         2.64219020e-01, 1.46402463e-01, 7.38065586e-01, 9.40295241e-01,\n",
       "         4.62089353e-01, 4.22920845e-01, 1.31539793e-01, 4.74227544e-02,\n",
       "         4.58269703e-01, 4.76091931e-01, 3.85291331e-01, 6.72609372e-02,\n",
       "         9.11252535e-01, 5.68675094e-01, 5.29880554e-01, 9.27698506e-01,\n",
       "         7.18975254e-01, 1.51053574e-01, 7.87485220e-01, 4.29348556e-01,\n",
       "         2.98989886e-01, 5.23744215e-01, 2.16967139e-02, 8.74760064e-01,\n",
       "         2.21764299e-01, 6.71722304e-01, 3.72512858e-01, 3.76010471e-01,\n",
       "         9.84248197e-01, 6.33025070e-01, 8.98898028e-01, 9.17977525e-01,\n",
       "         1.37490105e-01, 9.72578685e-01, 9.27806088e-01, 8.52801782e-01,\n",
       "         4.51055954e-01]))]"
      ]
     },
     "execution_count": 20,
     "metadata": {},
     "output_type": "execute_result"
    }
   ],
   "source": [
    "expand_setpoints_helper(a.spectrum)"
   ]
  },
  {
   "cell_type": "code",
   "execution_count": 21,
   "metadata": {},
   "outputs": [
    {
     "name": "stdout",
     "output_type": "stream",
     "text": [
      "Starting experimental run with id: 2. \n"
     ]
    }
   ],
   "source": [
    "meas = Measurement()\n",
    "meas.register_parameter(a.spectrum)\n",
    "\n",
    "with meas.run() as datasaver:\n",
    "    datasaver.add_result(*expand_setpoints_helper(a.spectrum))\n",
    "    \n",
    "    dataid = datasaver.run_id"
   ]
  },
  {
   "cell_type": "code",
   "execution_count": null,
   "metadata": {},
   "outputs": [],
   "source": []
  }
 ],
 "metadata": {
  "kernelspec": {
   "display_name": "Python 3",
   "language": "python",
   "name": "python3"
  },
  "language_info": {
   "codemirror_mode": {
    "name": "ipython",
    "version": 3
   },
   "file_extension": ".py",
   "mimetype": "text/x-python",
   "name": "python",
   "nbconvert_exporter": "python",
   "pygments_lexer": "ipython3",
   "version": "3.7.5"
  },
  "toc": {
   "base_numbering": 1,
   "nav_menu": {},
   "number_sections": true,
   "sideBar": true,
   "skip_h1_title": false,
   "title_cell": "Table of Contents",
   "title_sidebar": "Contents",
   "toc_cell": false,
   "toc_position": {},
   "toc_section_display": true,
   "toc_window_display": false
  },
  "varInspector": {
   "cols": {
    "lenName": 16,
    "lenType": 16,
    "lenVar": 40
   },
   "kernels_config": {
    "python": {
     "delete_cmd_postfix": "",
     "delete_cmd_prefix": "del ",
     "library": "var_list.py",
     "varRefreshCmd": "print(var_dic_list())"
    },
    "r": {
     "delete_cmd_postfix": ") ",
     "delete_cmd_prefix": "rm(",
     "library": "var_list.r",
     "varRefreshCmd": "cat(var_dic_list()) "
    }
   },
   "types_to_exclude": [
    "module",
    "function",
    "builtin_function_or_method",
    "instance",
    "_Feature"
   ],
   "window_display": false
  }
 },
 "nbformat": 4,
 "nbformat_minor": 2
}
