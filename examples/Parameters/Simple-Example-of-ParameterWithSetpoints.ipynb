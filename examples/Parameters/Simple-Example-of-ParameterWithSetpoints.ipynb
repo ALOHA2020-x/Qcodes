{
 "cells": [
  {
   "cell_type": "markdown",
   "metadata": {},
   "source": [
    "# Simple Example of ParameterWithSetpoints\n",
    "This notebook provides an example for writing a simple driver with a parameter that has setpoints. Let's name this parameter that has setpoints as \"y\". Then, the setpoints, say \"x1, x2, x3 ..\", are the parameters on which the parameter \n",
    "\"y\" depends upon. Meaning \"y\" is a function of \"x1, x2, x3 ...\" where \"x1, x2, x3 ...\" are known as the setpoints of parameter \"y\".\n",
    "\n",
    "This is most likely to be useful for instruments that return arrays of results. In this notebook, we will show an example of this."
   ]
  },
  {
   "cell_type": "code",
   "execution_count": 1,
   "metadata": {
    "execution": {
     "iopub.execute_input": "2020-09-17T09:34:24.751357Z",
     "iopub.status.busy": "2020-09-17T09:34:24.750791Z",
     "iopub.status.idle": "2020-09-17T09:34:24.846547Z",
     "shell.execute_reply": "2020-09-17T09:34:24.846986Z"
    }
   },
   "outputs": [],
   "source": [
    "import numpy as np\n",
    "import os"
   ]
  },
  {
   "cell_type": "code",
   "execution_count": 2,
   "metadata": {
    "execution": {
     "iopub.execute_input": "2020-09-17T09:34:24.851260Z",
     "iopub.status.busy": "2020-09-17T09:34:24.850606Z",
     "iopub.status.idle": "2020-09-17T09:34:25.929072Z",
     "shell.execute_reply": "2020-09-17T09:34:25.928498Z"
    }
   },
   "outputs": [
    {
     "name": "stdout",
     "output_type": "stream",
     "text": [
      "Logging hadn't been started.\n",
      "Activating auto-logging. Current session state plus future input saved.\n",
      "Filename       : /home/vsts/.qcodes/logs/command_history.log\n",
      "Mode           : append\n",
      "Output logging : True\n",
      "Raw input log  : False\n",
      "Timestamping   : True\n",
      "State          : active\n"
     ]
    },
    {
     "name": "stdout",
     "output_type": "stream",
     "text": [
      "Qcodes Logfile : /home/vsts/.qcodes/logs/200917-21201-qcodes.log\n"
     ]
    }
   ],
   "source": [
    "from qcodes.dataset.plotting import plot_dataset\n",
    "from qcodes.utils.validators import Numbers, Arrays\n",
    "from qcodes.instrument.base import Instrument\n",
    "from qcodes.dataset.measurements import Measurement"
   ]
  },
  {
   "cell_type": "code",
   "execution_count": 3,
   "metadata": {
    "execution": {
     "iopub.execute_input": "2020-09-17T09:34:25.933151Z",
     "iopub.status.busy": "2020-09-17T09:34:25.932620Z",
     "iopub.status.idle": "2020-09-17T09:34:25.936279Z",
     "shell.execute_reply": "2020-09-17T09:34:25.935759Z"
    }
   },
   "outputs": [],
   "source": [
    "from qcodes.dataset.sqlite.database import initialise_or_create_database_at\n",
    "from qcodes.dataset.experiment_container import load_or_create_experiment"
   ]
  },
  {
   "cell_type": "code",
   "execution_count": 4,
   "metadata": {
    "execution": {
     "iopub.execute_input": "2020-09-17T09:34:25.939864Z",
     "iopub.status.busy": "2020-09-17T09:34:25.939390Z",
     "iopub.status.idle": "2020-09-17T09:34:25.942759Z",
     "shell.execute_reply": "2020-09-17T09:34:25.942071Z"
    }
   },
   "outputs": [],
   "source": [
    "from qcodes.instrument.parameter import ParameterWithSetpoints, Parameter\n",
    "from qcodes.instrument.parameter import expand_setpoints_helper"
   ]
  },
  {
   "cell_type": "markdown",
   "metadata": {},
   "source": [
    "First, we define a dummy instrument that returns something like a frequency spectrum starting from a frequency given by `f_start` to a frequency given by `f_stop` in `n_points` steps. \n",
    "\n",
    "The extra functionality of the `ParameterWithSetpoints` is implemented by giving it a reference to one or more parameters that acts like its setpoints. \n",
    "\n",
    "To setup a `ParameterWithSetpoints` we have to do two things in addition to what we do for a normal parameter.\n",
    "\n",
    "* Define one or more parameter for the setpoints (one for each dimension of the array and let the `ParameterWithSetpoints` know that these are the setpoints.\n",
    "* Give both the setpoints parameter(s) and the `ParameterWithSetpoints` a `validator` of type `Arrays` with a shape. The shapes should be such that the combined shape of the setpoints matches the shape of the `ParameterWithSetpoints`. Note that if the shape changes with the setting of the instrument, it can be defined by another parameter as shown below. "
   ]
  },
  {
   "cell_type": "code",
   "execution_count": 5,
   "metadata": {
    "execution": {
     "iopub.execute_input": "2020-09-17T09:34:25.952331Z",
     "iopub.status.busy": "2020-09-17T09:34:25.950663Z",
     "iopub.status.idle": "2020-09-17T09:34:25.954735Z",
     "shell.execute_reply": "2020-09-17T09:34:25.955185Z"
    }
   },
   "outputs": [],
   "source": [
    "class GeneratedSetPoints(Parameter):\n",
    "    \"\"\"\n",
    "    A parameter that generates a setpoint array from start, stop and num points\n",
    "    parameters.\n",
    "    \"\"\"\n",
    "    def __init__(self, startparam, stopparam, numpointsparam, *args, **kwargs):\n",
    "        super().__init__(*args, **kwargs)\n",
    "        self._startparam = startparam\n",
    "        self._stopparam = stopparam\n",
    "        self._numpointsparam = numpointsparam\n",
    "\n",
    "    def get_raw(self):\n",
    "        return np.linspace(self._startparam(), self._stopparam(),\n",
    "                              self._numpointsparam())\n",
    "\n",
    "class DummyArray(ParameterWithSetpoints):\n",
    "    \n",
    "    def get_raw(self):\n",
    "        npoints = self.root_instrument.n_points.get_latest()\n",
    "        return np.random.rand(npoints)\n",
    "    \n",
    "\n",
    "class DummySpectrumAnalyzer(Instrument):\n",
    "    \n",
    "    def __init__(self, name, **kwargs):\n",
    "        \n",
    "        super().__init__(name, **kwargs)\n",
    "            \n",
    "\n",
    "        self.add_parameter('f_start',\n",
    "                           initial_value=0,\n",
    "                           unit='Hz',\n",
    "                           label='f start',\n",
    "                           vals=Numbers(0,1e3),\n",
    "                           get_cmd=None,\n",
    "                           set_cmd=None)\n",
    "\n",
    "        self.add_parameter('f_stop',\n",
    "                           unit='Hz',\n",
    "                           label='f stop',\n",
    "                           vals=Numbers(1,1e3),\n",
    "                           get_cmd=None,\n",
    "                           set_cmd=None)\n",
    "\n",
    "        self.add_parameter('n_points',\n",
    "                           unit='',\n",
    "                           initial_value=10,\n",
    "                           vals=Numbers(1,1e3),\n",
    "                           get_cmd=None,\n",
    "                           set_cmd=None)\n",
    "        \n",
    "        self.add_parameter('freq_axis',\n",
    "                           unit='Hz',\n",
    "                           label='Freq Axis',\n",
    "                           parameter_class=GeneratedSetPoints,\n",
    "                           startparam=self.f_start,\n",
    "                           stopparam=self.f_stop,\n",
    "                           numpointsparam=self.n_points,\n",
    "                           vals=Arrays(shape=(self.n_points.get_latest,)))\n",
    "                           \n",
    "        self.add_parameter('spectrum',\n",
    "                   unit='dBm',\n",
    "                   setpoints=(self.freq_axis,),\n",
    "                   label='Spectrum',\n",
    "                   parameter_class=DummyArray,\n",
    "                   vals=Arrays(shape=(self.n_points.get_latest,)))\n",
    "                "
   ]
  },
  {
   "cell_type": "markdown",
   "metadata": {},
   "source": [
    "In the above example, the shape is defined by the parameter `n_points` that defines how many samples our `DummySpectrumAnalyzer` returns.\n",
    "\n",
    "This means that the validation will call the function to get `n_points` twice for each `get` of the parameter. This may be too slow, however, if you (as the driver-writer) can guarantee that the cached value for `n_points` will never be out of sync with the value stored in the instrument, `n_points` may be replaced by it's latest known value such that the `validator` reads:\n",
    "```python\n",
    "vals=Arrays(shape=(self.n_points.get_latest))\n",
    "```\n",
    "\n",
    "This avoids any additional call to the instrument. In the same way, the arguments to the `freq_axis` parameter that defines the start, stop and number of points can be replaced by their latest value if the instrument allows it.\n",
    "\n"
   ]
  },
  {
   "cell_type": "code",
   "execution_count": 6,
   "metadata": {
    "execution": {
     "iopub.execute_input": "2020-09-17T09:34:25.959421Z",
     "iopub.status.busy": "2020-09-17T09:34:25.958646Z",
     "iopub.status.idle": "2020-09-17T09:34:26.053667Z",
     "shell.execute_reply": "2020-09-17T09:34:26.054150Z"
    }
   },
   "outputs": [
    {
     "name": "stdout",
     "output_type": "stream",
     "text": [
      "\r",
      "0it [00:00, ?it/s]"
     ]
    },
    {
     "name": "stdout",
     "output_type": "stream",
     "text": [
      "\r",
      "Upgrading database; v0 -> v1: : 0it [00:00, ?it/s]"
     ]
    },
    {
     "name": "stdout",
     "output_type": "stream",
     "text": [
      "\r",
      "Upgrading database; v0 -> v1: : 0it [00:00, ?it/s]"
     ]
    },
    {
     "name": "stdout",
     "output_type": "stream",
     "text": [
      "\n",
      "\r",
      "  0%|          | 0/1 [00:00<?, ?it/s]"
     ]
    },
    {
     "name": "stdout",
     "output_type": "stream",
     "text": [
      "\r",
      "Upgrading database; v1 -> v2:   0%|          | 0/1 [00:00<?, ?it/s]"
     ]
    },
    {
     "name": "stdout",
     "output_type": "stream",
     "text": [
      "\r",
      "Upgrading database; v1 -> v2: 100%|██████████| 1/1 [00:00<00:00, 371.87it/s]"
     ]
    },
    {
     "name": "stdout",
     "output_type": "stream",
     "text": [
      "\n",
      "\r",
      "0it [00:00, ?it/s]"
     ]
    },
    {
     "name": "stdout",
     "output_type": "stream",
     "text": [
      "\r",
      "Upgrading database; v2 -> v3: : 0it [00:00, ?it/s]"
     ]
    },
    {
     "name": "stdout",
     "output_type": "stream",
     "text": [
      "\r",
      "Upgrading database; v2 -> v3: : 0it [00:00, ?it/s]"
     ]
    },
    {
     "name": "stdout",
     "output_type": "stream",
     "text": [
      "\n",
      "\r",
      "0it [00:00, ?it/s]"
     ]
    },
    {
     "name": "stdout",
     "output_type": "stream",
     "text": [
      "\r",
      "Upgrading database; v3 -> v4: : 0it [00:00, ?it/s]"
     ]
    },
    {
     "name": "stdout",
     "output_type": "stream",
     "text": [
      "\r",
      "Upgrading database; v3 -> v4: : 0it [00:00, ?it/s]"
     ]
    },
    {
     "name": "stdout",
     "output_type": "stream",
     "text": [
      "\n",
      "\r",
      "  0%|          | 0/1 [00:00<?, ?it/s]"
     ]
    },
    {
     "name": "stdout",
     "output_type": "stream",
     "text": [
      "\r",
      "Upgrading database; v4 -> v5:   0%|          | 0/1 [00:00<?, ?it/s]"
     ]
    },
    {
     "name": "stdout",
     "output_type": "stream",
     "text": [
      "\r",
      "Upgrading database; v4 -> v5: 100%|██████████| 1/1 [00:00<00:00, 364.31it/s]"
     ]
    },
    {
     "name": "stdout",
     "output_type": "stream",
     "text": [
      "\n",
      "\r",
      "0it [00:00, ?it/s]"
     ]
    },
    {
     "name": "stdout",
     "output_type": "stream",
     "text": [
      "\r",
      "Upgrading database; v5 -> v6: : 0it [00:00, ?it/s]"
     ]
    },
    {
     "name": "stdout",
     "output_type": "stream",
     "text": [
      "\r",
      "Upgrading database; v5 -> v6: : 0it [00:00, ?it/s]"
     ]
    },
    {
     "name": "stdout",
     "output_type": "stream",
     "text": [
      "\n",
      "\r",
      "  0%|          | 0/1 [00:00<?, ?it/s]"
     ]
    },
    {
     "name": "stdout",
     "output_type": "stream",
     "text": [
      "\r",
      "Upgrading database; v6 -> v7:   0%|          | 0/1 [00:00<?, ?it/s]"
     ]
    },
    {
     "name": "stdout",
     "output_type": "stream",
     "text": [
      "\r",
      "Upgrading database; v6 -> v7: 100%|██████████| 1/1 [00:00<00:00, 191.18it/s]"
     ]
    },
    {
     "name": "stdout",
     "output_type": "stream",
     "text": [
      "\n",
      "\r",
      "  0%|          | 0/1 [00:00<?, ?it/s]"
     ]
    },
    {
     "name": "stdout",
     "output_type": "stream",
     "text": [
      "\r",
      "Upgrading database; v7 -> v8:   0%|          | 0/1 [00:00<?, ?it/s]"
     ]
    },
    {
     "name": "stdout",
     "output_type": "stream",
     "text": [
      "\r",
      "Upgrading database; v7 -> v8: 100%|██████████| 1/1 [00:00<00:00, 419.72it/s]"
     ]
    },
    {
     "name": "stdout",
     "output_type": "stream",
     "text": [
      "\n",
      "\r",
      "  0%|          | 0/1 [00:00<?, ?it/s]"
     ]
    },
    {
     "name": "stdout",
     "output_type": "stream",
     "text": [
      "\r",
      "Upgrading database; v8 -> v9:   0%|          | 0/1 [00:00<?, ?it/s]"
     ]
    },
    {
     "name": "stdout",
     "output_type": "stream",
     "text": [
      "\r",
      "Upgrading database; v8 -> v9: 100%|██████████| 1/1 [00:00<00:00, 433.56it/s]"
     ]
    },
    {
     "name": "stdout",
     "output_type": "stream",
     "text": [
      "\n"
     ]
    },
    {
     "data": {
      "text/plain": [
       "tutorial_ParameterWithSetpoints#no sample#1@/home/vsts/work/1/s/docs/examples/Parameters/tutorial_paramter_with_setpoints.db\n",
       "----------------------------------------------------------------------------------------------------------------------------"
      ]
     },
     "execution_count": 1,
     "metadata": {},
     "output_type": "execute_result"
    }
   ],
   "source": [
    "tutorial_db_path = os.path.join(os.getcwd(), 'tutorial_paramter_with_setpoints.db')\n",
    "initialise_or_create_database_at(tutorial_db_path)\n",
    "load_or_create_experiment(experiment_name='tutorial_ParameterWithSetpoints', sample_name=\"no sample\")"
   ]
  },
  {
   "cell_type": "code",
   "execution_count": 7,
   "metadata": {
    "execution": {
     "iopub.execute_input": "2020-09-17T09:34:26.059863Z",
     "iopub.status.busy": "2020-09-17T09:34:26.058698Z",
     "iopub.status.idle": "2020-09-17T09:34:26.060442Z",
     "shell.execute_reply": "2020-09-17T09:34:26.061083Z"
    }
   },
   "outputs": [],
   "source": [
    "a = DummySpectrumAnalyzer('foobar')"
   ]
  },
  {
   "cell_type": "markdown",
   "metadata": {},
   "source": [
    "First we setup the limits of the spectrum"
   ]
  },
  {
   "cell_type": "code",
   "execution_count": 8,
   "metadata": {
    "execution": {
     "iopub.execute_input": "2020-09-17T09:34:26.065953Z",
     "iopub.status.busy": "2020-09-17T09:34:26.064639Z",
     "iopub.status.idle": "2020-09-17T09:34:26.066495Z",
     "shell.execute_reply": "2020-09-17T09:34:26.067070Z"
    }
   },
   "outputs": [],
   "source": [
    "a.f_start(0)\n",
    "a.f_stop(500)\n",
    "a.n_points(501)"
   ]
  },
  {
   "cell_type": "markdown",
   "metadata": {},
   "source": [
    "And we can grab the frequency axis"
   ]
  },
  {
   "cell_type": "code",
   "execution_count": 9,
   "metadata": {
    "execution": {
     "iopub.execute_input": "2020-09-17T09:34:26.072992Z",
     "iopub.status.busy": "2020-09-17T09:34:26.071930Z",
     "iopub.status.idle": "2020-09-17T09:34:26.074697Z",
     "shell.execute_reply": "2020-09-17T09:34:26.075212Z"
    }
   },
   "outputs": [
    {
     "data": {
      "text/plain": [
       "501"
      ]
     },
     "execution_count": 1,
     "metadata": {},
     "output_type": "execute_result"
    }
   ],
   "source": [
    "a.n_points()"
   ]
  },
  {
   "cell_type": "code",
   "execution_count": 10,
   "metadata": {
    "execution": {
     "iopub.execute_input": "2020-09-17T09:34:26.080902Z",
     "iopub.status.busy": "2020-09-17T09:34:26.079832Z",
     "iopub.status.idle": "2020-09-17T09:34:26.082494Z",
     "shell.execute_reply": "2020-09-17T09:34:26.083113Z"
    },
    "scrolled": false
   },
   "outputs": [
    {
     "data": {
      "text/plain": [
       "501"
      ]
     },
     "execution_count": 1,
     "metadata": {},
     "output_type": "execute_result"
    }
   ],
   "source": [
    "freq_axis = a.freq_axis()\n",
    "len(freq_axis)"
   ]
  },
  {
   "cell_type": "code",
   "execution_count": 11,
   "metadata": {
    "execution": {
     "iopub.execute_input": "2020-09-17T09:34:26.088089Z",
     "iopub.status.busy": "2020-09-17T09:34:26.086919Z",
     "iopub.status.idle": "2020-09-17T09:34:26.091917Z",
     "shell.execute_reply": "2020-09-17T09:34:26.091182Z"
    }
   },
   "outputs": [
    {
     "data": {
      "text/plain": [
       "array([0., 1., 2., 3., 4., 5., 6., 7., 8., 9.])"
      ]
     },
     "execution_count": 1,
     "metadata": {},
     "output_type": "execute_result"
    }
   ],
   "source": [
    "freq_axis[:10]"
   ]
  },
  {
   "cell_type": "markdown",
   "metadata": {},
   "source": [
    "As expected we get a result wit 501 points as we asked for an axis with 501 points. "
   ]
  },
  {
   "cell_type": "markdown",
   "metadata": {},
   "source": [
    "Above we have added a validator to the `freq_axis` parameter encoding the fact that this is an Array with `n_points`. Note that we do not have to supply the number of points as an integer but can supply a function that returns the valid number of points. This would normally be a QCoDeS parameter.\n",
    "\n",
    "This will be checked if we validate the output."
   ]
  },
  {
   "cell_type": "code",
   "execution_count": 12,
   "metadata": {
    "execution": {
     "iopub.execute_input": "2020-09-17T09:34:26.097225Z",
     "iopub.status.busy": "2020-09-17T09:34:26.095976Z",
     "iopub.status.idle": "2020-09-17T09:34:26.097783Z",
     "shell.execute_reply": "2020-09-17T09:34:26.098395Z"
    }
   },
   "outputs": [],
   "source": [
    "a.freq_axis.validate(a.freq_axis.get())"
   ]
  },
  {
   "cell_type": "markdown",
   "metadata": {},
   "source": [
    "Naturally, we can also get the spectrum. Getting the spectrum will automatically perform validation both for the shape of the parameter itself and the relation to the setpoint parameter(s)"
   ]
  },
  {
   "cell_type": "code",
   "execution_count": 13,
   "metadata": {
    "execution": {
     "iopub.execute_input": "2020-09-17T09:34:26.103782Z",
     "iopub.status.busy": "2020-09-17T09:34:26.101510Z",
     "iopub.status.idle": "2020-09-17T09:34:26.105887Z",
     "shell.execute_reply": "2020-09-17T09:34:26.106292Z"
    },
    "scrolled": true
   },
   "outputs": [
    {
     "data": {
      "text/plain": [
       "501"
      ]
     },
     "execution_count": 1,
     "metadata": {},
     "output_type": "execute_result"
    }
   ],
   "source": [
    "spectrum = a.spectrum.get()\n",
    "len(spectrum)"
   ]
  },
  {
   "cell_type": "markdown",
   "metadata": {},
   "source": [
    "When we validate a `ParameterWithSetpoints`, we automatically validate that the shape is consistent between the parameters and its setpoints. As well as validating the shape as above."
   ]
  },
  {
   "cell_type": "code",
   "execution_count": 14,
   "metadata": {
    "execution": {
     "iopub.execute_input": "2020-09-17T09:34:26.109885Z",
     "iopub.status.busy": "2020-09-17T09:34:26.109403Z",
     "iopub.status.idle": "2020-09-17T09:34:26.112020Z",
     "shell.execute_reply": "2020-09-17T09:34:26.111472Z"
    }
   },
   "outputs": [],
   "source": [
    "a.spectrum.validate(a.spectrum.get())"
   ]
  },
  {
   "cell_type": "markdown",
   "metadata": {},
   "source": [
    "The consistent shapes can be validated explicitly."
   ]
  },
  {
   "cell_type": "code",
   "execution_count": 15,
   "metadata": {
    "execution": {
     "iopub.execute_input": "2020-09-17T09:34:26.116174Z",
     "iopub.status.busy": "2020-09-17T09:34:26.115101Z",
     "iopub.status.idle": "2020-09-17T09:34:26.117098Z",
     "shell.execute_reply": "2020-09-17T09:34:26.117555Z"
    }
   },
   "outputs": [],
   "source": [
    "a.spectrum.validate_consistent_shape()"
   ]
  },
  {
   "cell_type": "markdown",
   "metadata": {},
   "source": [
    "We can inspect the setpoints of the spectrum."
   ]
  },
  {
   "cell_type": "code",
   "execution_count": 16,
   "metadata": {
    "execution": {
     "iopub.execute_input": "2020-09-17T09:34:26.121875Z",
     "iopub.status.busy": "2020-09-17T09:34:26.120466Z",
     "iopub.status.idle": "2020-09-17T09:34:26.123776Z",
     "shell.execute_reply": "2020-09-17T09:34:26.124276Z"
    }
   },
   "outputs": [
    {
     "data": {
      "text/plain": [
       "(<__main__.GeneratedSetPoints: freq_axis at 139695357514384>,)"
      ]
     },
     "execution_count": 1,
     "metadata": {},
     "output_type": "execute_result"
    }
   ],
   "source": [
    "a.spectrum.setpoints"
   ]
  },
  {
   "cell_type": "markdown",
   "metadata": {},
   "source": [
    "Or even change them."
   ]
  },
  {
   "cell_type": "code",
   "execution_count": 17,
   "metadata": {
    "execution": {
     "iopub.execute_input": "2020-09-17T09:34:26.128495Z",
     "iopub.status.busy": "2020-09-17T09:34:26.127418Z",
     "iopub.status.idle": "2020-09-17T09:34:26.129058Z",
     "shell.execute_reply": "2020-09-17T09:34:26.129551Z"
    }
   },
   "outputs": [],
   "source": [
    "a.spectrum.setpoints = (a.freq_axis,)"
   ]
  },
  {
   "cell_type": "markdown",
   "metadata": {},
   "source": [
    "## Measurement"
   ]
  },
  {
   "cell_type": "markdown",
   "metadata": {},
   "source": [
    "We can also directly consume the parameter in a measurement without defining the setpoints of the parameter again. The setpoints are automatically obtained from the definition of the `ParameterWithSetpoint` instance. "
   ]
  },
  {
   "cell_type": "code",
   "execution_count": 18,
   "metadata": {
    "execution": {
     "iopub.execute_input": "2020-09-17T09:34:26.146446Z",
     "iopub.status.busy": "2020-09-17T09:34:26.145664Z",
     "iopub.status.idle": "2020-09-17T09:34:26.167654Z",
     "shell.execute_reply": "2020-09-17T09:34:26.167101Z"
    }
   },
   "outputs": [
    {
     "name": "stdout",
     "output_type": "stream",
     "text": [
      "Starting experimental run with id: 1. \n"
     ]
    }
   ],
   "source": [
    "meas = Measurement()\n",
    "meas.register_parameter(a.spectrum)\n",
    "\n",
    "with meas.run() as datasaver:\n",
    "    datasaver.add_result((a.freq_axis, a.freq_axis()),\n",
    "                         (a.spectrum, a.spectrum()))\n",
    "    dataset = datasaver.dataset"
   ]
  },
  {
   "cell_type": "markdown",
   "metadata": {},
   "source": [
    "And plot it"
   ]
  },
  {
   "cell_type": "code",
   "execution_count": 19,
   "metadata": {
    "execution": {
     "iopub.execute_input": "2020-09-17T09:34:26.171626Z",
     "iopub.status.busy": "2020-09-17T09:34:26.170899Z",
     "iopub.status.idle": "2020-09-17T09:34:26.542134Z",
     "shell.execute_reply": "2020-09-17T09:34:26.541636Z"
    }
   },
   "outputs": [
    {
     "data": {
      "text/plain": [
       "([<matplotlib.axes._subplots.AxesSubplot at 0x7f0d6bc70bd0>], [None])"
      ]
     },
     "execution_count": 1,
     "metadata": {},
     "output_type": "execute_result"
    },
    {
     "data": {
      "image/png": "[encoded data removed]",
      "text/plain": [
       "<Figure size 432x288 with 1 Axes>"
      ]
     },
     "metadata": {
      "needs_background": "light"
     },
     "output_type": "display_data"
    }
   ],
   "source": [
    "plot_dataset(dataset)"
   ]
  },
  {
   "cell_type": "markdown",
   "metadata": {},
   "source": [
    "To reduce the amount of typing a simple convenience function is provided that will take a `ParameterWithSetpoints` and get both its values and the setpoints values and return them as tuples for direct insertion into the Dataset."
   ]
  },
  {
   "cell_type": "code",
   "execution_count": 20,
   "metadata": {
    "execution": {
     "iopub.execute_input": "2020-09-17T09:34:26.545457Z",
     "iopub.status.busy": "2020-09-17T09:34:26.544911Z",
     "iopub.status.idle": "2020-09-17T09:34:26.557639Z",
     "shell.execute_reply": "2020-09-17T09:34:26.557236Z"
    },
    "scrolled": true
   },
   "outputs": [
    {
     "data": {
      "text/plain": [
       "[(<__main__.GeneratedSetPoints: freq_axis at 139695357514384>,\n",
       "  array([  0.,   1.,   2.,   3.,   4.,   5.,   6.,   7.,   8.,   9.,  10.,\n",
       "          11.,  12.,  13.,  14.,  15.,  16.,  17.,  18.,  19.,  20.,  21.,\n",
       "          22.,  23.,  24.,  25.,  26.,  27.,  28.,  29.,  30.,  31.,  32.,\n",
       "          33.,  34.,  35.,  36.,  37.,  38.,  39.,  40.,  41.,  42.,  43.,\n",
       "          44.,  45.,  46.,  47.,  48.,  49.,  50.,  51.,  52.,  53.,  54.,\n",
       "          55.,  56.,  57.,  58.,  59.,  60.,  61.,  62.,  63.,  64.,  65.,\n",
       "          66.,  67.,  68.,  69.,  70.,  71.,  72.,  73.,  74.,  75.,  76.,\n",
       "          77.,  78.,  79.,  80.,  81.,  82.,  83.,  84.,  85.,  86.,  87.,\n",
       "          88.,  89.,  90.,  91.,  92.,  93.,  94.,  95.,  96.,  97.,  98.,\n",
       "          99., 100., 101., 102., 103., 104., 105., 106., 107., 108., 109.,\n",
       "         110., 111., 112., 113., 114., 115., 116., 117., 118., 119., 120.,\n",
       "         121., 122., 123., 124., 125., 126., 127., 128., 129., 130., 131.,\n",
       "         132., 133., 134., 135., 136., 137., 138., 139., 140., 141., 142.,\n",
       "         143., 144., 145., 146., 147., 148., 149., 150., 151., 152., 153.,\n",
       "         154., 155., 156., 157., 158., 159., 160., 161., 162., 163., 164.,\n",
       "         165., 166., 167., 168., 169., 170., 171., 172., 173., 174., 175.,\n",
       "         176., 177., 178., 179., 180., 181., 182., 183., 184., 185., 186.,\n",
       "         187., 188., 189., 190., 191., 192., 193., 194., 195., 196., 197.,\n",
       "         198., 199., 200., 201., 202., 203., 204., 205., 206., 207., 208.,\n",
       "         209., 210., 211., 212., 213., 214., 215., 216., 217., 218., 219.,\n",
       "         220., 221., 222., 223., 224., 225., 226., 227., 228., 229., 230.,\n",
       "         231., 232., 233., 234., 235., 236., 237., 238., 239., 240., 241.,\n",
       "         242., 243., 244., 245., 246., 247., 248., 249., 250., 251., 252.,\n",
       "         253., 254., 255., 256., 257., 258., 259., 260., 261., 262., 263.,\n",
       "         264., 265., 266., 267., 268., 269., 270., 271., 272., 273., 274.,\n",
       "         275., 276., 277., 278., 279., 280., 281., 282., 283., 284., 285.,\n",
       "         286., 287., 288., 289., 290., 291., 292., 293., 294., 295., 296.,\n",
       "         297., 298., 299., 300., 301., 302., 303., 304., 305., 306., 307.,\n",
       "         308., 309., 310., 311., 312., 313., 314., 315., 316., 317., 318.,\n",
       "         319., 320., 321., 322., 323., 324., 325., 326., 327., 328., 329.,\n",
       "         330., 331., 332., 333., 334., 335., 336., 337., 338., 339., 340.,\n",
       "         341., 342., 343., 344., 345., 346., 347., 348., 349., 350., 351.,\n",
       "         352., 353., 354., 355., 356., 357., 358., 359., 360., 361., 362.,\n",
       "         363., 364., 365., 366., 367., 368., 369., 370., 371., 372., 373.,\n",
       "         374., 375., 376., 377., 378., 379., 380., 381., 382., 383., 384.,\n",
       "         385., 386., 387., 388., 389., 390., 391., 392., 393., 394., 395.,\n",
       "         396., 397., 398., 399., 400., 401., 402., 403., 404., 405., 406.,\n",
       "         407., 408., 409., 410., 411., 412., 413., 414., 415., 416., 417.,\n",
       "         418., 419., 420., 421., 422., 423., 424., 425., 426., 427., 428.,\n",
       "         429., 430., 431., 432., 433., 434., 435., 436., 437., 438., 439.,\n",
       "         440., 441., 442., 443., 444., 445., 446., 447., 448., 449., 450.,\n",
       "         451., 452., 453., 454., 455., 456., 457., 458., 459., 460., 461.,\n",
       "         462., 463., 464., 465., 466., 467., 468., 469., 470., 471., 472.,\n",
       "         473., 474., 475., 476., 477., 478., 479., 480., 481., 482., 483.,\n",
       "         484., 485., 486., 487., 488., 489., 490., 491., 492., 493., 494.,\n",
       "         495., 496., 497., 498., 499., 500.])),\n",
       " (<__main__.DummyArray: spectrum at 139695357514192>,\n",
       "  array([0.67726497, 0.54268048, 0.26454462, 0.53548284, 0.84186671,\n",
       "         0.95545805, 0.67313166, 0.82987165, 0.56072362, 0.60995395,\n",
       "         0.74612633, 0.53500118, 0.9286061 , 0.83485833, 0.50814991,\n",
       "         0.58091544, 0.30964568, 0.61903941, 0.54644074, 0.72611119,\n",
       "         0.39979408, 0.78602329, 0.82132543, 0.30793832, 0.33126623,\n",
       "         0.14492844, 0.18219732, 0.34756624, 0.33516587, 0.83749354,\n",
       "         0.29719064, 0.57321412, 0.81810491, 0.3454513 , 0.00351881,\n",
       "         0.84580409, 0.79934508, 0.91447399, 0.16733854, 0.25205964,\n",
       "         0.4387059 , 0.72235917, 0.27212146, 0.42885163, 0.08429631,\n",
       "         0.10716916, 0.22862451, 0.41424099, 0.7966601 , 0.60312417,\n",
       "         0.13690114, 0.04107305, 0.1401944 , 0.36342039, 0.87655829,\n",
       "         0.55588436, 0.58345966, 0.01073861, 0.09142766, 0.84196111,\n",
       "         0.52489917, 0.86309382, 0.6119532 , 0.0625483 , 0.83255942,\n",
       "         0.33083061, 0.23447398, 0.32439744, 0.3846795 , 0.51147371,\n",
       "         0.20509721, 0.62105243, 0.14808306, 0.93563021, 0.81428898,\n",
       "         0.65773241, 0.37697303, 0.48559134, 0.71278432, 0.62302604,\n",
       "         0.85574409, 0.09299058, 0.21889977, 0.27473159, 0.78616235,\n",
       "         0.60307914, 0.41312168, 0.2222394 , 0.15724406, 0.27606818,\n",
       "         0.83476898, 0.35660355, 0.51241586, 0.99891079, 0.96151705,\n",
       "         0.90626249, 0.04602951, 0.31589194, 0.34261228, 0.22241137,\n",
       "         0.47030684, 0.30282182, 0.03777044, 0.90250614, 0.66213724,\n",
       "         0.74956718, 0.83299245, 0.18622269, 0.6856803 , 0.44697023,\n",
       "         0.73639694, 0.34948787, 0.16813126, 0.17010306, 0.35603632,\n",
       "         0.10175802, 0.47917614, 0.59944176, 0.92261054, 0.27668602,\n",
       "         0.47510938, 0.47827934, 0.05912694, 0.16231972, 0.38106009,\n",
       "         0.60192073, 0.75071523, 0.23478243, 0.46501736, 0.66492095,\n",
       "         0.46948204, 0.5968621 , 0.8719376 , 0.14108119, 0.91669198,\n",
       "         0.05214772, 0.9957322 , 0.98525135, 0.12129711, 0.39538936,\n",
       "         0.34829989, 0.44270101, 0.55442783, 0.07838342, 0.54517813,\n",
       "         0.2512695 , 0.35146541, 0.87284527, 0.52166282, 0.82256311,\n",
       "         0.03475458, 0.9952729 , 0.35856017, 0.60766377, 0.55868018,\n",
       "         0.97088458, 0.6112333 , 0.1921466 , 0.04217749, 0.62717302,\n",
       "         0.39916418, 0.62615215, 0.37284993, 0.72451521, 0.83404681,\n",
       "         0.73469926, 0.55112937, 0.87760202, 0.74925703, 0.35401245,\n",
       "         0.83605734, 0.22506723, 0.19105625, 0.11654286, 0.66386043,\n",
       "         0.56837061, 0.49846273, 0.82476818, 0.80568068, 0.59024551,\n",
       "         0.66416369, 0.38156365, 0.34241698, 0.83738621, 0.89819644,\n",
       "         0.53319642, 0.46330172, 0.31574227, 0.0799748 , 0.72926265,\n",
       "         0.1632409 , 0.36360472, 0.59707682, 0.27651559, 0.61770292,\n",
       "         0.24496005, 0.88252158, 0.91381187, 0.88959486, 0.03591631,\n",
       "         0.90399078, 0.32271889, 0.85660473, 0.01702836, 0.41720755,\n",
       "         0.76440281, 0.16072482, 0.3277064 , 0.68952738, 0.42649945,\n",
       "         0.61273765, 0.60785331, 0.81584097, 0.48115411, 0.83489969,\n",
       "         0.24798906, 0.84621178, 0.5799854 , 0.40988486, 0.06045259,\n",
       "         0.40020435, 0.44595235, 0.76477949, 0.55914784, 0.90647511,\n",
       "         0.01779361, 0.81675065, 0.37525197, 0.80585646, 0.50457658,\n",
       "         0.26664585, 0.29797626, 0.10848974, 0.28908015, 0.51527778,\n",
       "         0.03793144, 0.23294785, 0.98635988, 0.74281507, 0.16925864,\n",
       "         0.02921266, 0.68681405, 0.74469143, 0.20342337, 0.57908386,\n",
       "         0.31401326, 0.10366192, 0.30761495, 0.39838954, 0.08949476,\n",
       "         0.37128457, 0.43955071, 0.8714944 , 0.29510101, 0.22709649,\n",
       "         0.15559723, 0.44922317, 0.39982498, 0.93631172, 0.00846021,\n",
       "         0.89484788, 0.67489575, 0.94455495, 0.99323783, 0.88662794,\n",
       "         0.20657641, 0.15519979, 0.06418042, 0.34381692, 0.5626389 ,\n",
       "         0.17374928, 0.89823817, 0.44799283, 0.75793484, 0.12218774,\n",
       "         0.42882277, 0.92752326, 0.36183775, 0.30614168, 0.38966483,\n",
       "         0.18293063, 0.32972856, 0.07336506, 0.95269002, 0.64969212,\n",
       "         0.03615301, 0.71752209, 0.80170764, 0.6918742 , 0.76086258,\n",
       "         0.33971326, 0.37222211, 0.53161773, 0.27165651, 0.77524511,\n",
       "         0.33242595, 0.67004137, 0.45987926, 0.69238268, 0.38784748,\n",
       "         0.15206921, 0.36172883, 0.15252965, 0.68389557, 0.7403855 ,\n",
       "         0.9240385 , 0.65386839, 0.54594084, 0.02165033, 0.43929247,\n",
       "         0.4778917 , 0.27624129, 0.06028725, 0.27556865, 0.71067799,\n",
       "         0.2852617 , 0.43729935, 0.06658358, 0.74990204, 0.39155823,\n",
       "         0.34626946, 0.70332916, 0.63185773, 0.36509741, 0.71460794,\n",
       "         0.87758881, 0.38784025, 0.94928965, 0.26288819, 0.29887457,\n",
       "         0.11902504, 0.46484017, 0.44511301, 0.34884585, 0.28567361,\n",
       "         0.20059068, 0.26760485, 0.2053598 , 0.42272783, 0.15906722,\n",
       "         0.26080026, 0.82224025, 0.27447695, 0.63117257, 0.71666839,\n",
       "         0.57564691, 0.33832471, 0.40611299, 0.50413735, 0.62675489,\n",
       "         0.10558495, 0.8918508 , 0.85729532, 0.89853697, 0.07607646,\n",
       "         0.60493251, 0.44146217, 0.40244622, 0.78466228, 0.70940996,\n",
       "         0.75734253, 0.42499514, 0.12507659, 0.4420509 , 0.67834444,\n",
       "         0.64699598, 0.46512658, 0.23514547, 0.86029328, 0.80825634,\n",
       "         0.04393349, 0.55461823, 0.63255923, 0.11990751, 0.34722152,\n",
       "         0.44194073, 0.36642536, 0.78034712, 0.72940302, 0.4948739 ,\n",
       "         0.76823627, 0.66348984, 0.16677961, 0.13540952, 0.61304496,\n",
       "         0.1072326 , 0.73106007, 0.43093922, 0.72972045, 0.82190461,\n",
       "         0.09932487, 0.80492144, 0.14331792, 0.50794016, 0.29660558,\n",
       "         0.81972936, 0.54996508, 0.18131106, 0.37634506, 0.71582534,\n",
       "         0.81882715, 0.3641426 , 0.62527777, 0.60830273, 0.5045934 ,\n",
       "         0.01489019, 0.93547046, 0.73486634, 0.49023924, 0.46576008,\n",
       "         0.49713545, 0.35213258, 0.02844994, 0.70086738, 0.00880965,\n",
       "         0.67531842, 0.83416171, 0.79837641, 0.55936335, 0.21207623,\n",
       "         0.41438492, 0.75384653, 0.44419063, 0.97424366, 0.82934476,\n",
       "         0.39184955, 0.46257316, 0.28814685, 0.49849155, 0.9193338 ,\n",
       "         0.91577684, 0.89713083, 0.56559871, 0.63613925, 0.39256205,\n",
       "         0.57089496, 0.0847248 , 0.19211575, 0.36623382, 0.65078327,\n",
       "         0.25814736, 0.72605989, 0.71197958, 0.78879901, 0.62257269,\n",
       "         0.1723295 , 0.42083587, 0.80511058, 0.65267976, 0.47476027,\n",
       "         0.62565391, 0.33124455, 0.09544947, 0.92210146, 0.39210437,\n",
       "         0.27866341, 0.59732837, 0.03242661, 0.7317451 , 0.36654612,\n",
       "         0.25876585, 0.23860642, 0.97532589, 0.02206114, 0.69589109,\n",
       "         0.72472112, 0.81603666, 0.11918373, 0.58307332, 0.12182069,\n",
       "         0.89312308, 0.82636015, 0.55970802, 0.04754661, 0.6167379 ,\n",
       "         0.67867657, 0.76335044, 0.19947796, 0.63432406, 0.72210716,\n",
       "         0.98433396, 0.50726138, 0.12039954, 0.37902926, 0.61232221,\n",
       "         0.68754169, 0.26509876, 0.97636526, 0.39951952, 0.56655893,\n",
       "         0.42023567, 0.54025905, 0.05028311, 0.23707384, 0.56322895,\n",
       "         0.35387558, 0.03507959, 0.30263895, 0.96363652, 0.08178612,\n",
       "         0.87401106]))]"
      ]
     },
     "execution_count": 1,
     "metadata": {},
     "output_type": "execute_result"
    }
   ],
   "source": [
    "expand_setpoints_helper(a.spectrum)"
   ]
  },
  {
   "cell_type": "code",
   "execution_count": 21,
   "metadata": {
    "execution": {
     "iopub.execute_input": "2020-09-17T09:34:26.561542Z",
     "iopub.status.busy": "2020-09-17T09:34:26.561019Z",
     "iopub.status.idle": "2020-09-17T09:34:26.575575Z",
     "shell.execute_reply": "2020-09-17T09:34:26.574853Z"
    }
   },
   "outputs": [
    {
     "name": "stdout",
     "output_type": "stream",
     "text": [
      "Starting experimental run with id: 2. \n"
     ]
    }
   ],
   "source": [
    "meas = Measurement()\n",
    "meas.register_parameter(a.spectrum)\n",
    "\n",
    "with meas.run() as datasaver:\n",
    "    datasaver.add_result(*expand_setpoints_helper(a.spectrum))\n",
    "    \n",
    "    dataid = datasaver.run_id"
   ]
  },
  {
   "cell_type": "code",
   "execution_count": null,
   "metadata": {},
   "outputs": [],
   "source": []
  }
 ],
 "metadata": {
  "kernelspec": {
   "display_name": "Python 3",
   "language": "python",
   "name": "python3"
  },
  "language_info": {
   "codemirror_mode": {
    "name": "ipython",
    "version": 3
   },
   "file_extension": ".py",
   "mimetype": "text/x-python",
   "name": "python",
   "nbconvert_exporter": "python",
   "pygments_lexer": "ipython3",
   "version": "3.7.7"
  },
  "toc": {
   "base_numbering": 1,
   "nav_menu": {},
   "number_sections": true,
   "sideBar": true,
   "skip_h1_title": false,
   "title_cell": "Table of Contents",
   "title_sidebar": "Contents",
   "toc_cell": false,
   "toc_position": {},
   "toc_section_display": true,
   "toc_window_display": false
  },
  "varInspector": {
   "cols": {
    "lenName": 16,
    "lenType": 16,
    "lenVar": 40
   },
   "kernels_config": {
    "python": {
     "delete_cmd_postfix": "",
     "delete_cmd_prefix": "del ",
     "library": "var_list.py",
     "varRefreshCmd": "print(var_dic_list())"
    },
    "r": {
     "delete_cmd_postfix": ") ",
     "delete_cmd_prefix": "rm(",
     "library": "var_list.r",
     "varRefreshCmd": "cat(var_dic_list()) "
    }
   },
   "types_to_exclude": [
    "module",
    "function",
    "builtin_function_or_method",
    "instance",
    "_Feature"
   ],
   "window_display": false
  }
 },
 "nbformat": 4,
 "nbformat_minor": 2
}
