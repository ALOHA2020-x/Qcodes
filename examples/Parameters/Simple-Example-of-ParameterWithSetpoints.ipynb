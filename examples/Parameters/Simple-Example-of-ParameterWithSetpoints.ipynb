{
 "cells": [
  {
   "cell_type": "markdown",
   "metadata": {},
   "source": [
    "# Simple Example of ParameterWithSetpoints\n",
    "This notebook provides an example for writing a simple driver with a parameter that has setpoints. Let's name this parameter that has setpoints as \"y\". Then, the setpoints, say \"x1, x2, x3 ..\", are the parameters on which the parameter \n",
    "\"y\" depends upon. Meaning \"y\" is a function of \"x1, x2, x3 ...\" where \"x1, x2, x3 ...\" are known as the setpoints of parameter \"y\".\n",
    "\n",
    "This is most likely to be useful for instruments that return arrays of results. In this notebook, we will show an example of this."
   ]
  },
  {
   "cell_type": "code",
   "execution_count": 1,
   "metadata": {},
   "outputs": [],
   "source": [
    "import numpy as np\n",
    "import os"
   ]
  },
  {
   "cell_type": "code",
   "execution_count": 2,
   "metadata": {},
   "outputs": [
    {
     "name": "stdout",
     "output_type": "stream",
     "text": [
      "Logging hadn't been started.\n",
      "Activating auto-logging. Current session state plus future input saved.\n",
      "Filename       : /home/vsts/.qcodes/logs/command_history.log\n",
      "Mode           : append\n",
      "Output logging : True\n",
      "Raw input log  : False\n",
      "Timestamping   : True\n",
      "State          : active\n"
     ]
    },
    {
     "name": "stdout",
     "output_type": "stream",
     "text": [
      "Qcodes Logfile : /home/vsts/.qcodes/logs/200420-21781-qcodes.log\n"
     ]
    }
   ],
   "source": [
    "from qcodes.dataset.plotting import plot_dataset\n",
    "from qcodes.utils.validators import Numbers, Arrays\n",
    "from qcodes.instrument.base import Instrument\n",
    "from qcodes.dataset.measurements import Measurement"
   ]
  },
  {
   "cell_type": "code",
   "execution_count": 3,
   "metadata": {},
   "outputs": [],
   "source": [
    "from qcodes.dataset.sqlite.database import initialise_or_create_database_at\n",
    "from qcodes.dataset.experiment_container import load_or_create_experiment"
   ]
  },
  {
   "cell_type": "code",
   "execution_count": 4,
   "metadata": {},
   "outputs": [],
   "source": [
    "from qcodes.instrument.parameter import ParameterWithSetpoints, Parameter\n",
    "from qcodes.instrument.parameter import expand_setpoints_helper"
   ]
  },
  {
   "cell_type": "markdown",
   "metadata": {},
   "source": [
    "First, we define a dummy instrument that returns something like a frequency spectrum starting from a frequency given by `f_start` to a frequency given by `f_stop` in `n_points` steps. \n",
    "\n",
    "The extra functionality of the `ParameterWithSetpoints` is implemented by giving it a reference to one or more parameters that acts like its setpoints. \n",
    "\n",
    "To setup a `ParameterWithSetpoints` we have to do two things in addition to what we do for a normal parameter.\n",
    "\n",
    "* Define one or more parameter for the setpoints (one for each dimension of the array and let the `ParameterWithSetpoints` know that these are the setpoints.\n",
    "* Give both the setpoints parameter(s) and the `ParameterWithSetpoints` a `validator` of type `Arrays` with a shape. The shapes should be such that the combined shape of the setpoints matches the shape of the `ParameterWithSetpoints`. Note that if the shape changes with the setting of the instrument, it can be defined by another parameter as shown below. "
   ]
  },
  {
   "cell_type": "code",
   "execution_count": 5,
   "metadata": {},
   "outputs": [],
   "source": [
    "class GeneratedSetPoints(Parameter):\n",
    "    \"\"\"\n",
    "    A parameter that generates a setpoint array from start, stop and num points\n",
    "    parameters.\n",
    "    \"\"\"\n",
    "    def __init__(self, startparam, stopparam, numpointsparam, *args, **kwargs):\n",
    "        super().__init__(*args, **kwargs)\n",
    "        self._startparam = startparam\n",
    "        self._stopparam = stopparam\n",
    "        self._numpointsparam = numpointsparam\n",
    "\n",
    "    def get_raw(self):\n",
    "        return np.linspace(self._startparam(), self._stopparam(),\n",
    "                              self._numpointsparam())\n",
    "\n",
    "class DummyArray(ParameterWithSetpoints):\n",
    "    \n",
    "    def get_raw(self):\n",
    "        npoints = self.root_instrument.n_points.get_latest()\n",
    "        return np.random.rand(npoints)\n",
    "    \n",
    "\n",
    "class DummySpectrumAnalyzer(Instrument):\n",
    "    \n",
    "    def __init__(self, name, **kwargs):\n",
    "        \n",
    "        super().__init__(name, **kwargs)\n",
    "            \n",
    "\n",
    "        self.add_parameter('f_start',\n",
    "                           initial_value=0,\n",
    "                           unit='Hz',\n",
    "                           label='f start',\n",
    "                           vals=Numbers(0,1e3),\n",
    "                           get_cmd=None,\n",
    "                           set_cmd=None)\n",
    "\n",
    "        self.add_parameter('f_stop',\n",
    "                           unit='Hz',\n",
    "                           label='f stop',\n",
    "                           vals=Numbers(1,1e3),\n",
    "                           get_cmd=None,\n",
    "                           set_cmd=None)\n",
    "\n",
    "        self.add_parameter('n_points',\n",
    "                           unit='',\n",
    "                           initial_value=10,\n",
    "                           vals=Numbers(1,1e3),\n",
    "                           get_cmd=None,\n",
    "                           set_cmd=None)\n",
    "        \n",
    "        self.add_parameter('freq_axis',\n",
    "                           unit='Hz',\n",
    "                           label='Freq Axis',\n",
    "                           parameter_class=GeneratedSetPoints,\n",
    "                           startparam=self.f_start,\n",
    "                           stopparam=self.f_stop,\n",
    "                           numpointsparam=self.n_points,\n",
    "                           vals=Arrays(shape=(self.n_points.get_latest,)))\n",
    "                           \n",
    "        self.add_parameter('spectrum',\n",
    "                   unit='dBm',\n",
    "                   setpoints=(self.freq_axis,),\n",
    "                   label='Spectrum',\n",
    "                   parameter_class=DummyArray,\n",
    "                   vals=Arrays(shape=(self.n_points.get_latest,)))\n",
    "                "
   ]
  },
  {
   "cell_type": "markdown",
   "metadata": {},
   "source": [
    "In the above example, the shape is defined by the parameter `n_points` that defines how many samples our `DummySpectrumAnalyzer` returns.\n",
    "\n",
    "This means that the validation will call the function to get `n_points` twice for each `get` of the parameter. This may be too slow, however, if you (as the driver-writer) can guarantee that the cached value for `n_points` will never be out of sync with the value stored in the instrument, `n_points` may be replaced by it's latest known value such that the `validator` reads:\n",
    "```python\n",
    "vals=Arrays(shape=(self.n_points.get_latest))\n",
    "```\n",
    "\n",
    "This avoids any additional call to the instrument. In the same way, the arguments to the `freq_axis` parameter that defines the start, stop and number of points can be replaced by their latest value if the instrument allows it.\n",
    "\n"
   ]
  },
  {
   "cell_type": "code",
   "execution_count": 6,
   "metadata": {},
   "outputs": [
    {
     "name": "stdout",
     "output_type": "stream",
     "text": [
      "\r",
      "0it [00:00, ?it/s]"
     ]
    },
    {
     "name": "stdout",
     "output_type": "stream",
     "text": [
      "\r",
      "Upgrading database; v0 -> v1: : 0it [00:00, ?it/s]"
     ]
    },
    {
     "name": "stdout",
     "output_type": "stream",
     "text": [
      "\r",
      "Upgrading database; v0 -> v1: : 0it [00:00, ?it/s]"
     ]
    },
    {
     "name": "stdout",
     "output_type": "stream",
     "text": [
      "\n",
      "\r",
      "  0%|          | 0/1 [00:00<?, ?it/s]"
     ]
    },
    {
     "name": "stdout",
     "output_type": "stream",
     "text": [
      "\r",
      "Upgrading database; v1 -> v2:   0%|          | 0/1 [00:00<?, ?it/s]"
     ]
    },
    {
     "name": "stdout",
     "output_type": "stream",
     "text": [
      "\r",
      "Upgrading database; v1 -> v2: 100%|██████████| 1/1 [00:00<00:00, 1045.70it/s]"
     ]
    },
    {
     "name": "stdout",
     "output_type": "stream",
     "text": [
      "\n",
      "\r",
      "0it [00:00, ?it/s]"
     ]
    },
    {
     "name": "stdout",
     "output_type": "stream",
     "text": [
      "\r",
      "Upgrading database; v2 -> v3: : 0it [00:00, ?it/s]"
     ]
    },
    {
     "name": "stdout",
     "output_type": "stream",
     "text": [
      "\r",
      "Upgrading database; v2 -> v3: : 0it [00:00, ?it/s]"
     ]
    },
    {
     "name": "stdout",
     "output_type": "stream",
     "text": [
      "\n",
      "\r",
      "0it [00:00, ?it/s]"
     ]
    },
    {
     "name": "stdout",
     "output_type": "stream",
     "text": [
      "\r",
      "Upgrading database; v3 -> v4: : 0it [00:00, ?it/s]"
     ]
    },
    {
     "name": "stdout",
     "output_type": "stream",
     "text": [
      "\r",
      "Upgrading database; v3 -> v4: : 0it [00:00, ?it/s]"
     ]
    },
    {
     "name": "stdout",
     "output_type": "stream",
     "text": [
      "\n",
      "\r",
      "  0%|          | 0/1 [00:00<?, ?it/s]"
     ]
    },
    {
     "name": "stdout",
     "output_type": "stream",
     "text": [
      "\r",
      "Upgrading database; v4 -> v5:   0%|          | 0/1 [00:00<?, ?it/s]"
     ]
    },
    {
     "name": "stdout",
     "output_type": "stream",
     "text": [
      "\r",
      "Upgrading database; v4 -> v5: 100%|██████████| 1/1 [00:00<00:00, 901.81it/s]"
     ]
    },
    {
     "name": "stdout",
     "output_type": "stream",
     "text": [
      "\n",
      "\r",
      "0it [00:00, ?it/s]"
     ]
    },
    {
     "name": "stdout",
     "output_type": "stream",
     "text": [
      "\r",
      "Upgrading database; v5 -> v6: : 0it [00:00, ?it/s]"
     ]
    },
    {
     "name": "stdout",
     "output_type": "stream",
     "text": [
      "\r",
      "Upgrading database; v5 -> v6: : 0it [00:00, ?it/s]"
     ]
    },
    {
     "name": "stdout",
     "output_type": "stream",
     "text": [
      "\n",
      "\r",
      "  0%|          | 0/1 [00:00<?, ?it/s]"
     ]
    },
    {
     "name": "stdout",
     "output_type": "stream",
     "text": [
      "\r",
      "Upgrading database; v6 -> v7:   0%|          | 0/1 [00:00<?, ?it/s]"
     ]
    },
    {
     "name": "stdout",
     "output_type": "stream",
     "text": [
      "\r",
      "Upgrading database; v6 -> v7: 100%|██████████| 1/1 [00:00<00:00, 444.03it/s]"
     ]
    },
    {
     "name": "stdout",
     "output_type": "stream",
     "text": [
      "\n",
      "\r",
      "  0%|          | 0/1 [00:00<?, ?it/s]"
     ]
    },
    {
     "name": "stdout",
     "output_type": "stream",
     "text": [
      "\r",
      "Upgrading database; v7 -> v8:   0%|          | 0/1 [00:00<?, ?it/s]"
     ]
    },
    {
     "name": "stdout",
     "output_type": "stream",
     "text": [
      "\r",
      "Upgrading database; v7 -> v8: 100%|██████████| 1/1 [00:00<00:00, 944.88it/s]"
     ]
    },
    {
     "name": "stdout",
     "output_type": "stream",
     "text": [
      "\n",
      "\r",
      "  0%|          | 0/1 [00:00<?, ?it/s]"
     ]
    },
    {
     "name": "stdout",
     "output_type": "stream",
     "text": [
      "\r",
      "Upgrading database; v8 -> v9:   0%|          | 0/1 [00:00<?, ?it/s]"
     ]
    },
    {
     "name": "stdout",
     "output_type": "stream",
     "text": [
      "\r",
      "Upgrading database; v8 -> v9: 100%|██████████| 1/1 [00:00<00:00, 1173.23it/s]"
     ]
    },
    {
     "name": "stdout",
     "output_type": "stream",
     "text": [
      "\n"
     ]
    },
    {
     "data": {
      "text/plain": [
       "tutorial_ParameterWithSetpoints#no sample#1@/home/vsts/work/1/s/docs/examples/Parameters/tutorial_paramter_with_setpoints.db\n",
       "----------------------------------------------------------------------------------------------------------------------------"
      ]
     },
     "execution_count": 6,
     "metadata": {},
     "output_type": "execute_result"
    }
   ],
   "source": [
    "tutorial_db_path = os.path.join(os.getcwd(), 'tutorial_paramter_with_setpoints.db')\n",
    "initialise_or_create_database_at(tutorial_db_path)\n",
    "load_or_create_experiment(experiment_name='tutorial_ParameterWithSetpoints', sample_name=\"no sample\")"
   ]
  },
  {
   "cell_type": "code",
   "execution_count": 7,
   "metadata": {},
   "outputs": [],
   "source": [
    "a = DummySpectrumAnalyzer('foobar')"
   ]
  },
  {
   "cell_type": "markdown",
   "metadata": {},
   "source": [
    "First we setup the limits of the spectrum"
   ]
  },
  {
   "cell_type": "code",
   "execution_count": 8,
   "metadata": {},
   "outputs": [],
   "source": [
    "a.f_start(0)\n",
    "a.f_stop(500)\n",
    "a.n_points(501)"
   ]
  },
  {
   "cell_type": "markdown",
   "metadata": {},
   "source": [
    "And we can grab the frequency axis"
   ]
  },
  {
   "cell_type": "code",
   "execution_count": 9,
   "metadata": {},
   "outputs": [
    {
     "data": {
      "text/plain": [
       "501"
      ]
     },
     "execution_count": 9,
     "metadata": {},
     "output_type": "execute_result"
    }
   ],
   "source": [
    "a.n_points()"
   ]
  },
  {
   "cell_type": "code",
   "execution_count": 10,
   "metadata": {
    "scrolled": false
   },
   "outputs": [
    {
     "data": {
      "text/plain": [
       "501"
      ]
     },
     "execution_count": 10,
     "metadata": {},
     "output_type": "execute_result"
    }
   ],
   "source": [
    "freq_axis = a.freq_axis()\n",
    "len(freq_axis)"
   ]
  },
  {
   "cell_type": "code",
   "execution_count": 11,
   "metadata": {},
   "outputs": [
    {
     "data": {
      "text/plain": [
       "array([0., 1., 2., 3., 4., 5., 6., 7., 8., 9.])"
      ]
     },
     "execution_count": 11,
     "metadata": {},
     "output_type": "execute_result"
    }
   ],
   "source": [
    "freq_axis[:10]"
   ]
  },
  {
   "cell_type": "markdown",
   "metadata": {},
   "source": [
    "As expected we get a result wit 501 points as we asked for an axis with 501 points. "
   ]
  },
  {
   "cell_type": "markdown",
   "metadata": {},
   "source": [
    "Above we have added a validator to the `freq_axis` parameter encoding the fact that this is an Array with `n_points`. Note that we do not have to supply the number of points as an integer but can supply a function that returns the valid number of points. This would normally be a QCoDeS parameter.\n",
    "\n",
    "This will be checked if we validate the output."
   ]
  },
  {
   "cell_type": "code",
   "execution_count": 12,
   "metadata": {},
   "outputs": [],
   "source": [
    "a.freq_axis.validate(a.freq_axis.get())"
   ]
  },
  {
   "cell_type": "markdown",
   "metadata": {},
   "source": [
    "Naturally, we can also get the spectrum. Getting the spectrum will automatically perform validation both for the shape of the parameter itself and the relation to the setpoint parameter(s)"
   ]
  },
  {
   "cell_type": "code",
   "execution_count": 13,
   "metadata": {
    "scrolled": true
   },
   "outputs": [
    {
     "data": {
      "text/plain": [
       "501"
      ]
     },
     "execution_count": 13,
     "metadata": {},
     "output_type": "execute_result"
    }
   ],
   "source": [
    "spectrum = a.spectrum.get()\n",
    "len(spectrum)"
   ]
  },
  {
   "cell_type": "markdown",
   "metadata": {},
   "source": [
    "When we validate a `ParameterWithSetpoints`, we automatically validate that the shape is consistent between the parameters and its setpoints. As well as validating the shape as above."
   ]
  },
  {
   "cell_type": "code",
   "execution_count": 14,
   "metadata": {},
   "outputs": [],
   "source": [
    "a.spectrum.validate(a.spectrum.get())"
   ]
  },
  {
   "cell_type": "markdown",
   "metadata": {},
   "source": [
    "The consistent shapes can be validated explicitly."
   ]
  },
  {
   "cell_type": "code",
   "execution_count": 15,
   "metadata": {},
   "outputs": [],
   "source": [
    "a.spectrum.validate_consistent_shape()"
   ]
  },
  {
   "cell_type": "markdown",
   "metadata": {},
   "source": [
    "We can inspect the setpoints of the spectrum."
   ]
  },
  {
   "cell_type": "code",
   "execution_count": 16,
   "metadata": {},
   "outputs": [
    {
     "data": {
      "text/plain": [
       "(<__main__.GeneratedSetPoints: freq_axis at 140537546480464>,)"
      ]
     },
     "execution_count": 16,
     "metadata": {},
     "output_type": "execute_result"
    }
   ],
   "source": [
    "a.spectrum.setpoints"
   ]
  },
  {
   "cell_type": "markdown",
   "metadata": {},
   "source": [
    "Or even change them."
   ]
  },
  {
   "cell_type": "code",
   "execution_count": 17,
   "metadata": {},
   "outputs": [],
   "source": [
    "a.spectrum.setpoints = (a.freq_axis,)"
   ]
  },
  {
   "cell_type": "markdown",
   "metadata": {},
   "source": [
    "## Measurement"
   ]
  },
  {
   "cell_type": "markdown",
   "metadata": {},
   "source": [
    "We can also directly consume the parameter in a measurement without defining the setpoints of the parameter again. The setpoints are automatically obtained from the definition of the `ParameterWithSetpoint` instance. "
   ]
  },
  {
   "cell_type": "code",
   "execution_count": 18,
   "metadata": {},
   "outputs": [
    {
     "name": "stdout",
     "output_type": "stream",
     "text": [
      "Starting experimental run with id: 1. \n"
     ]
    }
   ],
   "source": [
    "meas = Measurement()\n",
    "meas.register_parameter(a.spectrum)\n",
    "\n",
    "with meas.run() as datasaver:\n",
    "    datasaver.add_result((a.freq_axis, a.freq_axis()),\n",
    "                         (a.spectrum, a.spectrum()))\n",
    "    dataset = datasaver.dataset"
   ]
  },
  {
   "cell_type": "markdown",
   "metadata": {},
   "source": [
    "And plot it"
   ]
  },
  {
   "cell_type": "code",
   "execution_count": 19,
   "metadata": {},
   "outputs": [
    {
     "data": {
      "text/plain": [
       "([<matplotlib.axes._subplots.AxesSubplot at 0x7fd1728a4c90>], [None])"
      ]
     },
     "execution_count": 19,
     "metadata": {},
     "output_type": "execute_result"
    },
    {
     "data": {
      "image/png": "[encoded data removed]",
      "text/plain": [
       "<Figure size 432x288 with 1 Axes>"
      ]
     },
     "metadata": {
      "needs_background": "light"
     },
     "output_type": "display_data"
    }
   ],
   "source": [
    "plot_dataset(dataset)"
   ]
  },
  {
   "cell_type": "markdown",
   "metadata": {},
   "source": [
    "To reduce the amount of typing a simple convenience function is provided that will take a `ParameterWithSetpoints` and get both its values and the setpoints values and return them as tuples for direct insertion into the Dataset."
   ]
  },
  {
   "cell_type": "code",
   "execution_count": 20,
   "metadata": {
    "scrolled": true
   },
   "outputs": [
    {
     "data": {
      "text/plain": [
       "[(<__main__.GeneratedSetPoints: freq_axis at 140537546480464>,\n",
       "  array([  0.,   1.,   2.,   3.,   4.,   5.,   6.,   7.,   8.,   9.,  10.,\n",
       "          11.,  12.,  13.,  14.,  15.,  16.,  17.,  18.,  19.,  20.,  21.,\n",
       "          22.,  23.,  24.,  25.,  26.,  27.,  28.,  29.,  30.,  31.,  32.,\n",
       "          33.,  34.,  35.,  36.,  37.,  38.,  39.,  40.,  41.,  42.,  43.,\n",
       "          44.,  45.,  46.,  47.,  48.,  49.,  50.,  51.,  52.,  53.,  54.,\n",
       "          55.,  56.,  57.,  58.,  59.,  60.,  61.,  62.,  63.,  64.,  65.,\n",
       "          66.,  67.,  68.,  69.,  70.,  71.,  72.,  73.,  74.,  75.,  76.,\n",
       "          77.,  78.,  79.,  80.,  81.,  82.,  83.,  84.,  85.,  86.,  87.,\n",
       "          88.,  89.,  90.,  91.,  92.,  93.,  94.,  95.,  96.,  97.,  98.,\n",
       "          99., 100., 101., 102., 103., 104., 105., 106., 107., 108., 109.,\n",
       "         110., 111., 112., 113., 114., 115., 116., 117., 118., 119., 120.,\n",
       "         121., 122., 123., 124., 125., 126., 127., 128., 129., 130., 131.,\n",
       "         132., 133., 134., 135., 136., 137., 138., 139., 140., 141., 142.,\n",
       "         143., 144., 145., 146., 147., 148., 149., 150., 151., 152., 153.,\n",
       "         154., 155., 156., 157., 158., 159., 160., 161., 162., 163., 164.,\n",
       "         165., 166., 167., 168., 169., 170., 171., 172., 173., 174., 175.,\n",
       "         176., 177., 178., 179., 180., 181., 182., 183., 184., 185., 186.,\n",
       "         187., 188., 189., 190., 191., 192., 193., 194., 195., 196., 197.,\n",
       "         198., 199., 200., 201., 202., 203., 204., 205., 206., 207., 208.,\n",
       "         209., 210., 211., 212., 213., 214., 215., 216., 217., 218., 219.,\n",
       "         220., 221., 222., 223., 224., 225., 226., 227., 228., 229., 230.,\n",
       "         231., 232., 233., 234., 235., 236., 237., 238., 239., 240., 241.,\n",
       "         242., 243., 244., 245., 246., 247., 248., 249., 250., 251., 252.,\n",
       "         253., 254., 255., 256., 257., 258., 259., 260., 261., 262., 263.,\n",
       "         264., 265., 266., 267., 268., 269., 270., 271., 272., 273., 274.,\n",
       "         275., 276., 277., 278., 279., 280., 281., 282., 283., 284., 285.,\n",
       "         286., 287., 288., 289., 290., 291., 292., 293., 294., 295., 296.,\n",
       "         297., 298., 299., 300., 301., 302., 303., 304., 305., 306., 307.,\n",
       "         308., 309., 310., 311., 312., 313., 314., 315., 316., 317., 318.,\n",
       "         319., 320., 321., 322., 323., 324., 325., 326., 327., 328., 329.,\n",
       "         330., 331., 332., 333., 334., 335., 336., 337., 338., 339., 340.,\n",
       "         341., 342., 343., 344., 345., 346., 347., 348., 349., 350., 351.,\n",
       "         352., 353., 354., 355., 356., 357., 358., 359., 360., 361., 362.,\n",
       "         363., 364., 365., 366., 367., 368., 369., 370., 371., 372., 373.,\n",
       "         374., 375., 376., 377., 378., 379., 380., 381., 382., 383., 384.,\n",
       "         385., 386., 387., 388., 389., 390., 391., 392., 393., 394., 395.,\n",
       "         396., 397., 398., 399., 400., 401., 402., 403., 404., 405., 406.,\n",
       "         407., 408., 409., 410., 411., 412., 413., 414., 415., 416., 417.,\n",
       "         418., 419., 420., 421., 422., 423., 424., 425., 426., 427., 428.,\n",
       "         429., 430., 431., 432., 433., 434., 435., 436., 437., 438., 439.,\n",
       "         440., 441., 442., 443., 444., 445., 446., 447., 448., 449., 450.,\n",
       "         451., 452., 453., 454., 455., 456., 457., 458., 459., 460., 461.,\n",
       "         462., 463., 464., 465., 466., 467., 468., 469., 470., 471., 472.,\n",
       "         473., 474., 475., 476., 477., 478., 479., 480., 481., 482., 483.,\n",
       "         484., 485., 486., 487., 488., 489., 490., 491., 492., 493., 494.,\n",
       "         495., 496., 497., 498., 499., 500.])),\n",
       " (<__main__.DummyArray: spectrum at 140537546480784>,\n",
       "  array([7.53465511e-01, 7.11091543e-01, 2.87524581e-01, 5.35611650e-01,\n",
       "         7.20921752e-01, 9.12992219e-01, 7.07569854e-01, 1.46373219e-01,\n",
       "         4.42093969e-01, 1.05111506e-01, 3.43166640e-01, 3.57908814e-01,\n",
       "         9.48593975e-01, 2.57001393e-01, 1.47447505e-01, 6.61298350e-01,\n",
       "         4.82508903e-01, 5.69237176e-01, 8.98091058e-01, 3.53484543e-01,\n",
       "         3.86078014e-01, 5.49203746e-01, 9.51235234e-01, 3.68665239e-01,\n",
       "         8.34011340e-01, 1.26240999e-01, 1.68758505e-01, 1.36504828e-01,\n",
       "         9.86542795e-01, 7.39623867e-01, 5.19144147e-02, 5.49424242e-02,\n",
       "         6.23509676e-01, 3.79004208e-01, 3.78549273e-01, 5.47220889e-01,\n",
       "         8.59320007e-01, 3.37060966e-02, 2.46557247e-02, 1.11605845e-02,\n",
       "         3.95060187e-01, 5.62339787e-01, 9.06720843e-01, 2.53599732e-02,\n",
       "         7.27309294e-01, 5.61816854e-01, 3.72628866e-01, 2.44151370e-01,\n",
       "         5.16440939e-01, 6.88153233e-01, 7.34192131e-01, 9.25825389e-01,\n",
       "         3.89911888e-01, 5.12552963e-01, 4.53409150e-01, 1.36940477e-01,\n",
       "         9.21128574e-01, 4.98552152e-01, 7.04189303e-01, 1.00106704e-01,\n",
       "         1.63238266e-01, 5.40313749e-01, 1.34327884e-01, 3.98559866e-01,\n",
       "         3.88405531e-01, 1.54269758e-01, 2.53986238e-01, 4.46626497e-01,\n",
       "         1.60569259e-01, 3.86862166e-01, 5.17261259e-01, 4.46660741e-01,\n",
       "         8.40652135e-01, 3.40472133e-01, 1.40370073e-01, 9.91135415e-01,\n",
       "         5.93926270e-01, 4.07689367e-01, 2.38002323e-01, 3.35349172e-01,\n",
       "         5.17714855e-01, 8.76371642e-01, 6.71502359e-02, 1.36932568e-01,\n",
       "         5.51519031e-01, 2.24761636e-01, 4.58195186e-01, 9.25823938e-01,\n",
       "         4.07753976e-01, 2.25609369e-01, 8.36142883e-01, 3.72136357e-01,\n",
       "         7.37424886e-01, 6.86649246e-01, 7.72967919e-01, 2.09962813e-01,\n",
       "         1.32791932e-01, 8.08074869e-01, 5.52001074e-01, 3.29008240e-01,\n",
       "         4.03453051e-01, 4.10899045e-01, 4.59724343e-02, 6.26248189e-01,\n",
       "         1.05796891e-01, 4.33035611e-01, 2.04888410e-01, 1.92460476e-01,\n",
       "         8.69727132e-01, 3.37995485e-03, 8.01368145e-01, 7.93250225e-01,\n",
       "         6.82744655e-01, 3.04317734e-01, 2.60535543e-01, 9.13890134e-01,\n",
       "         5.68780896e-01, 2.90873321e-01, 3.79992349e-01, 9.45565933e-01,\n",
       "         8.40473021e-01, 2.97420963e-01, 5.86810812e-01, 4.95843303e-01,\n",
       "         6.81086646e-01, 8.64922414e-01, 6.85560112e-01, 2.26822018e-01,\n",
       "         1.39104358e-01, 7.74982427e-01, 6.97702969e-01, 9.56967269e-01,\n",
       "         9.72704914e-01, 2.06302077e-02, 6.63621192e-01, 7.12404684e-01,\n",
       "         7.51444517e-01, 4.58394933e-01, 6.09368422e-01, 5.29162711e-01,\n",
       "         1.05442609e-02, 9.19609220e-01, 7.68166254e-01, 7.69111349e-01,\n",
       "         8.50553517e-01, 8.09854050e-01, 4.81137595e-01, 1.42056701e-01,\n",
       "         9.57231658e-01, 9.87782949e-03, 7.75799117e-01, 9.52373848e-01,\n",
       "         5.17480177e-01, 7.18359399e-02, 9.67237578e-01, 1.25475406e-01,\n",
       "         1.55523000e-01, 9.34968658e-01, 9.28771698e-01, 2.82762873e-01,\n",
       "         1.37865933e-01, 3.22052353e-01, 4.37962044e-01, 4.87710244e-01,\n",
       "         4.03560046e-01, 4.25352729e-01, 2.32585590e-03, 5.13877531e-01,\n",
       "         3.62823056e-01, 3.22719111e-01, 7.45256882e-01, 5.98024598e-01,\n",
       "         4.13011709e-02, 7.65855935e-01, 1.53581193e-01, 2.09097411e-01,\n",
       "         3.58393488e-01, 2.72495143e-01, 4.92979978e-01, 7.60033754e-01,\n",
       "         7.18892373e-01, 7.55565266e-01, 9.26671869e-01, 3.88138259e-01,\n",
       "         8.45113543e-01, 3.76531121e-01, 8.31525115e-01, 5.51014149e-01,\n",
       "         5.23865574e-01, 9.68651716e-01, 6.59210840e-01, 1.34088003e-01,\n",
       "         1.95980645e-01, 5.26864279e-01, 9.81862586e-01, 4.10212328e-01,\n",
       "         4.78833183e-01, 2.08688023e-01, 3.54297565e-01, 3.52500786e-01,\n",
       "         3.54823732e-01, 3.42620776e-01, 3.23499427e-01, 5.63058388e-01,\n",
       "         3.15128517e-01, 8.86889195e-02, 3.14041117e-02, 4.75694702e-01,\n",
       "         2.90487909e-01, 5.63985213e-01, 4.27839519e-01, 4.33815258e-01,\n",
       "         4.46545835e-01, 6.31205138e-01, 8.04149261e-02, 6.34575309e-01,\n",
       "         2.27714048e-01, 3.20609815e-01, 5.22373909e-02, 2.49030736e-01,\n",
       "         5.61896051e-01, 4.13274501e-01, 5.00671060e-03, 9.84502082e-01,\n",
       "         2.37624227e-01, 2.78448016e-01, 5.27368350e-01, 6.93277312e-01,\n",
       "         5.19554380e-01, 3.90123794e-01, 9.92870919e-01, 6.17919848e-01,\n",
       "         7.08528565e-01, 5.04449443e-01, 2.21656571e-02, 7.45362191e-01,\n",
       "         4.69378810e-02, 4.24253235e-04, 3.85223444e-01, 4.24218371e-01,\n",
       "         2.19735877e-01, 4.94533565e-01, 8.82666693e-01, 5.03055299e-01,\n",
       "         4.95357811e-01, 2.23570574e-01, 9.29096411e-01, 9.95105967e-01,\n",
       "         8.28228144e-01, 6.06690744e-01, 7.76885738e-01, 1.14468232e-01,\n",
       "         8.12737299e-02, 8.65261756e-01, 9.39643556e-01, 8.05584977e-01,\n",
       "         8.12522748e-01, 7.99990133e-01, 1.32548713e-01, 2.88571203e-01,\n",
       "         9.76840223e-01, 1.30811349e-01, 8.43525815e-02, 3.81410631e-01,\n",
       "         5.13860536e-02, 3.82102173e-01, 7.66060994e-01, 7.21115096e-01,\n",
       "         1.72557897e-01, 9.10031409e-01, 4.45700837e-01, 8.33864507e-01,\n",
       "         9.66861110e-01, 9.44724953e-01, 5.81599877e-01, 4.24483636e-01,\n",
       "         9.20394005e-01, 5.86833212e-01, 7.90934075e-01, 9.03825724e-01,\n",
       "         6.71481095e-01, 2.40086861e-01, 1.81410110e-01, 9.85613537e-02,\n",
       "         5.34731746e-01, 4.67850530e-01, 8.90499820e-01, 4.46884252e-01,\n",
       "         7.45062098e-01, 2.22079241e-01, 7.71859406e-01, 3.05902260e-01,\n",
       "         5.66974125e-01, 5.93910967e-02, 3.98686463e-01, 7.26487516e-01,\n",
       "         8.51150658e-01, 6.15805756e-01, 7.97121996e-01, 9.82808242e-01,\n",
       "         9.43712556e-01, 6.78812929e-01, 9.56193942e-01, 8.07928813e-01,\n",
       "         2.69173209e-02, 6.97062116e-01, 3.62725869e-01, 5.93663479e-01,\n",
       "         8.55329953e-01, 2.75142192e-01, 8.08817744e-01, 4.60011441e-01,\n",
       "         7.38452423e-01, 6.19600607e-01, 4.03115826e-01, 2.85163955e-01,\n",
       "         7.77454255e-01, 4.88447436e-01, 1.80814794e-01, 6.46144498e-01,\n",
       "         1.54021997e-01, 6.11019788e-01, 9.00442654e-01, 1.16247336e-01,\n",
       "         9.71677171e-01, 9.71780402e-01, 2.63231787e-01, 7.39180388e-01,\n",
       "         4.97819701e-01, 4.75269643e-01, 7.99353597e-01, 1.49497891e-01,\n",
       "         9.69010950e-01, 5.46579431e-01, 2.95573577e-01, 1.89915973e-01,\n",
       "         3.88537824e-01, 2.42990511e-01, 1.64147746e-01, 9.32468529e-01,\n",
       "         7.71954528e-01, 1.94086954e-01, 7.45367652e-01, 3.98288246e-01,\n",
       "         1.24101365e-01, 3.86740811e-02, 6.17763886e-01, 2.59266471e-01,\n",
       "         5.89825851e-02, 4.96488687e-01, 8.43260040e-01, 9.49922827e-01,\n",
       "         7.40262909e-01, 1.30601445e-01, 5.59830650e-02, 1.17701393e-01,\n",
       "         8.12237740e-01, 2.22518044e-02, 1.32558523e-01, 9.44829753e-01,\n",
       "         4.65942853e-01, 3.55937639e-01, 9.29632347e-01, 8.71836995e-01,\n",
       "         2.54880410e-01, 6.83418530e-01, 4.22285906e-01, 8.16358062e-01,\n",
       "         1.09788306e-01, 9.92356335e-01, 4.10828768e-01, 7.92586757e-01,\n",
       "         2.86484787e-01, 2.32110251e-01, 7.27991406e-01, 1.98745871e-01,\n",
       "         4.27378774e-01, 3.61371064e-01, 8.60922938e-01, 1.45558992e-02,\n",
       "         2.00802185e-01, 2.91117064e-01, 3.85114779e-01, 8.79426213e-01,\n",
       "         6.34441497e-02, 2.36039606e-01, 5.37944713e-02, 7.21779134e-01,\n",
       "         3.71246100e-01, 6.30273150e-01, 3.14470042e-01, 7.41495945e-01,\n",
       "         3.41518636e-01, 6.53289374e-01, 3.29183765e-01, 8.77201683e-01,\n",
       "         7.52888981e-01, 4.91247219e-01, 4.11877165e-01, 2.03878801e-01,\n",
       "         5.65259322e-01, 4.11188831e-01, 1.98750242e-01, 5.54218891e-01,\n",
       "         7.39729446e-01, 9.96045539e-01, 3.09681259e-01, 4.50919155e-01,\n",
       "         6.52675403e-01, 1.56039358e-01, 8.62941506e-01, 2.82148293e-01,\n",
       "         5.52054005e-01, 6.15039127e-01, 6.54281496e-01, 5.28666072e-01,\n",
       "         8.28645099e-01, 5.63432727e-01, 4.89314911e-01, 2.19410653e-01,\n",
       "         5.42135140e-01, 2.00675056e-01, 2.36990231e-01, 1.69762023e-01,\n",
       "         3.25883199e-01, 8.40793813e-01, 8.99231001e-01, 5.33004354e-01,\n",
       "         3.88364386e-02, 7.08413052e-01, 8.69583620e-01, 6.78959334e-01,\n",
       "         3.09033066e-01, 9.42354237e-01, 3.70610541e-01, 6.95621382e-01,\n",
       "         3.02366389e-02, 5.50429102e-01, 4.18167680e-01, 1.85723590e-01,\n",
       "         8.12538957e-01, 5.07934731e-01, 9.85505815e-03, 4.75683510e-01,\n",
       "         7.80500545e-01, 3.30733547e-01, 2.69438551e-01, 8.79259937e-01,\n",
       "         5.74541204e-01, 6.90709357e-01, 7.28884613e-01, 3.88323203e-01,\n",
       "         5.41893407e-01, 1.37993778e-01, 8.79387114e-01, 3.69399788e-01,\n",
       "         3.36387933e-01, 1.89468832e-01, 5.05247269e-01, 9.84710565e-01,\n",
       "         9.35696353e-01, 5.59510297e-01, 2.02211278e-01, 6.95423950e-01,\n",
       "         3.05694200e-01, 8.19244503e-01, 9.30796398e-02, 5.16764631e-01,\n",
       "         3.62970635e-01, 7.49269376e-01, 2.86715323e-01, 2.62594397e-01,\n",
       "         5.80479332e-01, 1.50601202e-01, 9.36448375e-01, 2.03800250e-01,\n",
       "         8.88456150e-01, 3.34725777e-01, 5.31191335e-01, 8.31829375e-01,\n",
       "         1.71127875e-01, 8.47237165e-01, 7.81813409e-01, 3.34900871e-02,\n",
       "         4.33941740e-03, 2.23856013e-01, 9.11968843e-02, 3.59165435e-01,\n",
       "         6.88913249e-01, 2.90394891e-01, 8.56783135e-02, 8.40322209e-01,\n",
       "         4.38379500e-01, 3.51348200e-02, 5.78100950e-01, 9.87610189e-01,\n",
       "         4.44808662e-01, 4.80569706e-01, 8.63161280e-01, 7.68243628e-01,\n",
       "         5.44376373e-01]))]"
      ]
     },
     "execution_count": 20,
     "metadata": {},
     "output_type": "execute_result"
    }
   ],
   "source": [
    "expand_setpoints_helper(a.spectrum)"
   ]
  },
  {
   "cell_type": "code",
   "execution_count": 21,
   "metadata": {},
   "outputs": [
    {
     "name": "stdout",
     "output_type": "stream",
     "text": [
      "Starting experimental run with id: 2. \n"
     ]
    }
   ],
   "source": [
    "meas = Measurement()\n",
    "meas.register_parameter(a.spectrum)\n",
    "\n",
    "with meas.run() as datasaver:\n",
    "    datasaver.add_result(*expand_setpoints_helper(a.spectrum))\n",
    "    \n",
    "    dataid = datasaver.run_id"
   ]
  },
  {
   "cell_type": "code",
   "execution_count": null,
   "metadata": {},
   "outputs": [],
   "source": []
  }
 ],
 "metadata": {
  "kernelspec": {
   "display_name": "Python 3",
   "language": "python",
   "name": "python3"
  },
  "language_info": {
   "codemirror_mode": {
    "name": "ipython",
    "version": 3
   },
   "file_extension": ".py",
   "mimetype": "text/x-python",
   "name": "python",
   "nbconvert_exporter": "python",
   "pygments_lexer": "ipython3",
   "version": "3.7.7"
  },
  "toc": {
   "base_numbering": 1,
   "nav_menu": {},
   "number_sections": true,
   "sideBar": true,
   "skip_h1_title": false,
   "title_cell": "Table of Contents",
   "title_sidebar": "Contents",
   "toc_cell": false,
   "toc_position": {},
   "toc_section_display": true,
   "toc_window_display": false
  },
  "varInspector": {
   "cols": {
    "lenName": 16,
    "lenType": 16,
    "lenVar": 40
   },
   "kernels_config": {
    "python": {
     "delete_cmd_postfix": "",
     "delete_cmd_prefix": "del ",
     "library": "var_list.py",
     "varRefreshCmd": "print(var_dic_list())"
    },
    "r": {
     "delete_cmd_postfix": ") ",
     "delete_cmd_prefix": "rm(",
     "library": "var_list.r",
     "varRefreshCmd": "cat(var_dic_list()) "
    }
   },
   "types_to_exclude": [
    "module",
    "function",
    "builtin_function_or_method",
    "instance",
    "_Feature"
   ],
   "window_display": false
  }
 },
 "nbformat": 4,
 "nbformat_minor": 2
}
