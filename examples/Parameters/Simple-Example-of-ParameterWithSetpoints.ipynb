{
 "cells": [
  {
   "cell_type": "markdown",
   "metadata": {},
   "source": [
    "# Simple Example of ParameterWithSetpoints\n",
    "This notebook provides an example for writing a simple driver with a parameter that has setpoints. Let's name this parameter that has setpoints as \"y\". Then, the setpoints, say \"x1, x2, x3 ..\", are the parameters on which the parameter \n",
    "\"y\" depends upon. Meaning \"y\" is a function of \"x1, x2, x3 ...\" where \"x1, x2, x3 ...\" are known as the setpoints of parameter \"y\".\n",
    "\n",
    "This is most likely to be useful for instruments that return arrays of results. In this notebook, we will show an example of this."
   ]
  },
  {
   "cell_type": "code",
   "execution_count": 1,
   "metadata": {
    "execution": {
     "iopub.execute_input": "2020-09-11T12:48:08.816748Z",
     "iopub.status.busy": "2020-09-11T12:48:08.815966Z",
     "iopub.status.idle": "2020-09-11T12:48:08.927138Z",
     "shell.execute_reply": "2020-09-11T12:48:08.927602Z"
    }
   },
   "outputs": [],
   "source": [
    "import numpy as np\n",
    "import os"
   ]
  },
  {
   "cell_type": "code",
   "execution_count": 2,
   "metadata": {
    "execution": {
     "iopub.execute_input": "2020-09-11T12:48:08.931946Z",
     "iopub.status.busy": "2020-09-11T12:48:08.931374Z",
     "iopub.status.idle": "2020-09-11T12:48:10.088529Z",
     "shell.execute_reply": "2020-09-11T12:48:10.087991Z"
    }
   },
   "outputs": [
    {
     "name": "stdout",
     "output_type": "stream",
     "text": [
      "Logging hadn't been started.\n",
      "Activating auto-logging. Current session state plus future input saved.\n",
      "Filename       : /home/vsts/.qcodes/logs/command_history.log\n",
      "Mode           : append\n",
      "Output logging : True\n",
      "Raw input log  : False\n",
      "Timestamping   : True\n",
      "State          : active\n"
     ]
    },
    {
     "name": "stdout",
     "output_type": "stream",
     "text": [
      "Qcodes Logfile : /home/vsts/.qcodes/logs/200911-21984-qcodes.log\n"
     ]
    }
   ],
   "source": [
    "from qcodes.dataset.plotting import plot_dataset\n",
    "from qcodes.utils.validators import Numbers, Arrays\n",
    "from qcodes.instrument.base import Instrument\n",
    "from qcodes.dataset.measurements import Measurement"
   ]
  },
  {
   "cell_type": "code",
   "execution_count": 3,
   "metadata": {
    "execution": {
     "iopub.execute_input": "2020-09-11T12:48:10.092129Z",
     "iopub.status.busy": "2020-09-11T12:48:10.091310Z",
     "iopub.status.idle": "2020-09-11T12:48:10.095227Z",
     "shell.execute_reply": "2020-09-11T12:48:10.094771Z"
    }
   },
   "outputs": [],
   "source": [
    "from qcodes.dataset.sqlite.database import initialise_or_create_database_at\n",
    "from qcodes.dataset.experiment_container import load_or_create_experiment"
   ]
  },
  {
   "cell_type": "code",
   "execution_count": 4,
   "metadata": {
    "execution": {
     "iopub.execute_input": "2020-09-11T12:48:10.098638Z",
     "iopub.status.busy": "2020-09-11T12:48:10.098079Z",
     "iopub.status.idle": "2020-09-11T12:48:10.102482Z",
     "shell.execute_reply": "2020-09-11T12:48:10.101953Z"
    }
   },
   "outputs": [],
   "source": [
    "from qcodes.instrument.parameter import ParameterWithSetpoints, Parameter\n",
    "from qcodes.instrument.parameter import expand_setpoints_helper"
   ]
  },
  {
   "cell_type": "markdown",
   "metadata": {},
   "source": [
    "First, we define a dummy instrument that returns something like a frequency spectrum starting from a frequency given by `f_start` to a frequency given by `f_stop` in `n_points` steps. \n",
    "\n",
    "The extra functionality of the `ParameterWithSetpoints` is implemented by giving it a reference to one or more parameters that acts like its setpoints. \n",
    "\n",
    "To setup a `ParameterWithSetpoints` we have to do two things in addition to what we do for a normal parameter.\n",
    "\n",
    "* Define one or more parameter for the setpoints (one for each dimension of the array and let the `ParameterWithSetpoints` know that these are the setpoints.\n",
    "* Give both the setpoints parameter(s) and the `ParameterWithSetpoints` a `validator` of type `Arrays` with a shape. The shapes should be such that the combined shape of the setpoints matches the shape of the `ParameterWithSetpoints`. Note that if the shape changes with the setting of the instrument, it can be defined by another parameter as shown below. "
   ]
  },
  {
   "cell_type": "code",
   "execution_count": 5,
   "metadata": {
    "execution": {
     "iopub.execute_input": "2020-09-11T12:48:10.112352Z",
     "iopub.status.busy": "2020-09-11T12:48:10.110727Z",
     "iopub.status.idle": "2020-09-11T12:48:10.115554Z",
     "shell.execute_reply": "2020-09-11T12:48:10.115064Z"
    }
   },
   "outputs": [],
   "source": [
    "class GeneratedSetPoints(Parameter):\n",
    "    \"\"\"\n",
    "    A parameter that generates a setpoint array from start, stop and num points\n",
    "    parameters.\n",
    "    \"\"\"\n",
    "    def __init__(self, startparam, stopparam, numpointsparam, *args, **kwargs):\n",
    "        super().__init__(*args, **kwargs)\n",
    "        self._startparam = startparam\n",
    "        self._stopparam = stopparam\n",
    "        self._numpointsparam = numpointsparam\n",
    "\n",
    "    def get_raw(self):\n",
    "        return np.linspace(self._startparam(), self._stopparam(),\n",
    "                              self._numpointsparam())\n",
    "\n",
    "class DummyArray(ParameterWithSetpoints):\n",
    "    \n",
    "    def get_raw(self):\n",
    "        npoints = self.root_instrument.n_points.get_latest()\n",
    "        return np.random.rand(npoints)\n",
    "    \n",
    "\n",
    "class DummySpectrumAnalyzer(Instrument):\n",
    "    \n",
    "    def __init__(self, name, **kwargs):\n",
    "        \n",
    "        super().__init__(name, **kwargs)\n",
    "            \n",
    "\n",
    "        self.add_parameter('f_start',\n",
    "                           initial_value=0,\n",
    "                           unit='Hz',\n",
    "                           label='f start',\n",
    "                           vals=Numbers(0,1e3),\n",
    "                           get_cmd=None,\n",
    "                           set_cmd=None)\n",
    "\n",
    "        self.add_parameter('f_stop',\n",
    "                           unit='Hz',\n",
    "                           label='f stop',\n",
    "                           vals=Numbers(1,1e3),\n",
    "                           get_cmd=None,\n",
    "                           set_cmd=None)\n",
    "\n",
    "        self.add_parameter('n_points',\n",
    "                           unit='',\n",
    "                           initial_value=10,\n",
    "                           vals=Numbers(1,1e3),\n",
    "                           get_cmd=None,\n",
    "                           set_cmd=None)\n",
    "        \n",
    "        self.add_parameter('freq_axis',\n",
    "                           unit='Hz',\n",
    "                           label='Freq Axis',\n",
    "                           parameter_class=GeneratedSetPoints,\n",
    "                           startparam=self.f_start,\n",
    "                           stopparam=self.f_stop,\n",
    "                           numpointsparam=self.n_points,\n",
    "                           vals=Arrays(shape=(self.n_points.get_latest,)))\n",
    "                           \n",
    "        self.add_parameter('spectrum',\n",
    "                   unit='dBm',\n",
    "                   setpoints=(self.freq_axis,),\n",
    "                   label='Spectrum',\n",
    "                   parameter_class=DummyArray,\n",
    "                   vals=Arrays(shape=(self.n_points.get_latest,)))\n",
    "                "
   ]
  },
  {
   "cell_type": "markdown",
   "metadata": {},
   "source": [
    "In the above example, the shape is defined by the parameter `n_points` that defines how many samples our `DummySpectrumAnalyzer` returns.\n",
    "\n",
    "This means that the validation will call the function to get `n_points` twice for each `get` of the parameter. This may be too slow, however, if you (as the driver-writer) can guarantee that the cached value for `n_points` will never be out of sync with the value stored in the instrument, `n_points` may be replaced by it's latest known value such that the `validator` reads:\n",
    "```python\n",
    "vals=Arrays(shape=(self.n_points.get_latest))\n",
    "```\n",
    "\n",
    "This avoids any additional call to the instrument. In the same way, the arguments to the `freq_axis` parameter that defines the start, stop and number of points can be replaced by their latest value if the instrument allows it.\n",
    "\n"
   ]
  },
  {
   "cell_type": "code",
   "execution_count": 6,
   "metadata": {
    "execution": {
     "iopub.execute_input": "2020-09-11T12:48:10.119471Z",
     "iopub.status.busy": "2020-09-11T12:48:10.118546Z",
     "iopub.status.idle": "2020-09-11T12:48:10.196915Z",
     "shell.execute_reply": "2020-09-11T12:48:10.196186Z"
    }
   },
   "outputs": [
    {
     "name": "stdout",
     "output_type": "stream",
     "text": [
      "\r",
      "0it [00:00, ?it/s]"
     ]
    },
    {
     "name": "stdout",
     "output_type": "stream",
     "text": [
      "\r",
      "Upgrading database; v0 -> v1: : 0it [00:00, ?it/s]"
     ]
    },
    {
     "name": "stdout",
     "output_type": "stream",
     "text": [
      "\r",
      "Upgrading database; v0 -> v1: : 0it [00:00, ?it/s]"
     ]
    },
    {
     "name": "stdout",
     "output_type": "stream",
     "text": [
      "\n",
      "\r",
      "  0%|          | 0/1 [00:00<?, ?it/s]"
     ]
    },
    {
     "name": "stdout",
     "output_type": "stream",
     "text": [
      "\r",
      "Upgrading database; v1 -> v2:   0%|          | 0/1 [00:00<?, ?it/s]"
     ]
    },
    {
     "name": "stdout",
     "output_type": "stream",
     "text": [
      "\r",
      "Upgrading database; v1 -> v2: 100%|██████████| 1/1 [00:00<00:00, 567.87it/s]"
     ]
    },
    {
     "name": "stdout",
     "output_type": "stream",
     "text": [
      "\n",
      "\r",
      "0it [00:00, ?it/s]"
     ]
    },
    {
     "name": "stdout",
     "output_type": "stream",
     "text": [
      "\r",
      "Upgrading database; v2 -> v3: : 0it [00:00, ?it/s]"
     ]
    },
    {
     "name": "stdout",
     "output_type": "stream",
     "text": [
      "\r",
      "Upgrading database; v2 -> v3: : 0it [00:00, ?it/s]"
     ]
    },
    {
     "name": "stdout",
     "output_type": "stream",
     "text": [
      "\n",
      "\r",
      "0it [00:00, ?it/s]"
     ]
    },
    {
     "name": "stdout",
     "output_type": "stream",
     "text": [
      "\r",
      "Upgrading database; v3 -> v4: : 0it [00:00, ?it/s]"
     ]
    },
    {
     "name": "stdout",
     "output_type": "stream",
     "text": [
      "\r",
      "Upgrading database; v3 -> v4: : 0it [00:00, ?it/s]"
     ]
    },
    {
     "name": "stdout",
     "output_type": "stream",
     "text": [
      "\n",
      "\r",
      "  0%|          | 0/1 [00:00<?, ?it/s]"
     ]
    },
    {
     "name": "stdout",
     "output_type": "stream",
     "text": [
      "\r",
      "Upgrading database; v4 -> v5:   0%|          | 0/1 [00:00<?, ?it/s]"
     ]
    },
    {
     "name": "stdout",
     "output_type": "stream",
     "text": [
      "\r",
      "Upgrading database; v4 -> v5: 100%|██████████| 1/1 [00:00<00:00, 493.68it/s]"
     ]
    },
    {
     "name": "stdout",
     "output_type": "stream",
     "text": [
      "\n",
      "\r",
      "0it [00:00, ?it/s]"
     ]
    },
    {
     "name": "stdout",
     "output_type": "stream",
     "text": [
      "\r",
      "Upgrading database; v5 -> v6: : 0it [00:00, ?it/s]"
     ]
    },
    {
     "name": "stdout",
     "output_type": "stream",
     "text": [
      "\r",
      "Upgrading database; v5 -> v6: : 0it [00:00, ?it/s]"
     ]
    },
    {
     "name": "stdout",
     "output_type": "stream",
     "text": [
      "\n",
      "\r",
      "  0%|          | 0/1 [00:00<?, ?it/s]"
     ]
    },
    {
     "name": "stdout",
     "output_type": "stream",
     "text": [
      "\r",
      "Upgrading database; v6 -> v7:   0%|          | 0/1 [00:00<?, ?it/s]"
     ]
    },
    {
     "name": "stdout",
     "output_type": "stream",
     "text": [
      "\r",
      "Upgrading database; v6 -> v7: 100%|██████████| 1/1 [00:00<00:00, 344.50it/s]"
     ]
    },
    {
     "name": "stdout",
     "output_type": "stream",
     "text": [
      "\n",
      "\r",
      "  0%|          | 0/1 [00:00<?, ?it/s]"
     ]
    },
    {
     "name": "stdout",
     "output_type": "stream",
     "text": [
      "\r",
      "Upgrading database; v7 -> v8:   0%|          | 0/1 [00:00<?, ?it/s]"
     ]
    },
    {
     "name": "stdout",
     "output_type": "stream",
     "text": [
      "\r",
      "Upgrading database; v7 -> v8: 100%|██████████| 1/1 [00:00<00:00, 438.60it/s]"
     ]
    },
    {
     "name": "stdout",
     "output_type": "stream",
     "text": [
      "\n",
      "\r",
      "  0%|          | 0/1 [00:00<?, ?it/s]"
     ]
    },
    {
     "name": "stdout",
     "output_type": "stream",
     "text": [
      "\r",
      "Upgrading database; v8 -> v9:   0%|          | 0/1 [00:00<?, ?it/s]"
     ]
    },
    {
     "name": "stdout",
     "output_type": "stream",
     "text": [
      "\r",
      "Upgrading database; v8 -> v9: 100%|██████████| 1/1 [00:00<00:00, 442.90it/s]"
     ]
    },
    {
     "name": "stdout",
     "output_type": "stream",
     "text": [
      "\n"
     ]
    },
    {
     "data": {
      "text/plain": [
       "tutorial_ParameterWithSetpoints#no sample#1@/home/vsts/work/1/s/docs/examples/Parameters/tutorial_paramter_with_setpoints.db\n",
       "----------------------------------------------------------------------------------------------------------------------------"
      ]
     },
     "execution_count": 6,
     "metadata": {},
     "output_type": "execute_result"
    }
   ],
   "source": [
    "tutorial_db_path = os.path.join(os.getcwd(), 'tutorial_paramter_with_setpoints.db')\n",
    "initialise_or_create_database_at(tutorial_db_path)\n",
    "load_or_create_experiment(experiment_name='tutorial_ParameterWithSetpoints', sample_name=\"no sample\")"
   ]
  },
  {
   "cell_type": "code",
   "execution_count": 7,
   "metadata": {
    "execution": {
     "iopub.execute_input": "2020-09-11T12:48:10.201038Z",
     "iopub.status.busy": "2020-09-11T12:48:10.200485Z",
     "iopub.status.idle": "2020-09-11T12:48:10.204475Z",
     "shell.execute_reply": "2020-09-11T12:48:10.203774Z"
    }
   },
   "outputs": [],
   "source": [
    "a = DummySpectrumAnalyzer('foobar')"
   ]
  },
  {
   "cell_type": "markdown",
   "metadata": {},
   "source": [
    "First we setup the limits of the spectrum"
   ]
  },
  {
   "cell_type": "code",
   "execution_count": 8,
   "metadata": {
    "execution": {
     "iopub.execute_input": "2020-09-11T12:48:10.207967Z",
     "iopub.status.busy": "2020-09-11T12:48:10.207422Z",
     "iopub.status.idle": "2020-09-11T12:48:10.211299Z",
     "shell.execute_reply": "2020-09-11T12:48:10.210573Z"
    }
   },
   "outputs": [],
   "source": [
    "a.f_start(0)\n",
    "a.f_stop(500)\n",
    "a.n_points(501)"
   ]
  },
  {
   "cell_type": "markdown",
   "metadata": {},
   "source": [
    "And we can grab the frequency axis"
   ]
  },
  {
   "cell_type": "code",
   "execution_count": 9,
   "metadata": {
    "execution": {
     "iopub.execute_input": "2020-09-11T12:48:10.214963Z",
     "iopub.status.busy": "2020-09-11T12:48:10.214168Z",
     "iopub.status.idle": "2020-09-11T12:48:10.218686Z",
     "shell.execute_reply": "2020-09-11T12:48:10.218195Z"
    }
   },
   "outputs": [
    {
     "data": {
      "text/plain": [
       "501"
      ]
     },
     "execution_count": 9,
     "metadata": {},
     "output_type": "execute_result"
    }
   ],
   "source": [
    "a.n_points()"
   ]
  },
  {
   "cell_type": "code",
   "execution_count": 10,
   "metadata": {
    "execution": {
     "iopub.execute_input": "2020-09-11T12:48:10.222007Z",
     "iopub.status.busy": "2020-09-11T12:48:10.221452Z",
     "iopub.status.idle": "2020-09-11T12:48:10.226388Z",
     "shell.execute_reply": "2020-09-11T12:48:10.226865Z"
    },
    "scrolled": false
   },
   "outputs": [
    {
     "data": {
      "text/plain": [
       "501"
      ]
     },
     "execution_count": 10,
     "metadata": {},
     "output_type": "execute_result"
    }
   ],
   "source": [
    "freq_axis = a.freq_axis()\n",
    "len(freq_axis)"
   ]
  },
  {
   "cell_type": "code",
   "execution_count": 11,
   "metadata": {
    "execution": {
     "iopub.execute_input": "2020-09-11T12:48:10.231797Z",
     "iopub.status.busy": "2020-09-11T12:48:10.231018Z",
     "iopub.status.idle": "2020-09-11T12:48:10.233726Z",
     "shell.execute_reply": "2020-09-11T12:48:10.234201Z"
    }
   },
   "outputs": [
    {
     "data": {
      "text/plain": [
       "array([0., 1., 2., 3., 4., 5., 6., 7., 8., 9.])"
      ]
     },
     "execution_count": 11,
     "metadata": {},
     "output_type": "execute_result"
    }
   ],
   "source": [
    "freq_axis[:10]"
   ]
  },
  {
   "cell_type": "markdown",
   "metadata": {},
   "source": [
    "As expected we get a result wit 501 points as we asked for an axis with 501 points. "
   ]
  },
  {
   "cell_type": "markdown",
   "metadata": {},
   "source": [
    "Above we have added a validator to the `freq_axis` parameter encoding the fact that this is an Array with `n_points`. Note that we do not have to supply the number of points as an integer but can supply a function that returns the valid number of points. This would normally be a QCoDeS parameter.\n",
    "\n",
    "This will be checked if we validate the output."
   ]
  },
  {
   "cell_type": "code",
   "execution_count": 12,
   "metadata": {
    "execution": {
     "iopub.execute_input": "2020-09-11T12:48:10.238372Z",
     "iopub.status.busy": "2020-09-11T12:48:10.237407Z",
     "iopub.status.idle": "2020-09-11T12:48:10.239781Z",
     "shell.execute_reply": "2020-09-11T12:48:10.239288Z"
    }
   },
   "outputs": [],
   "source": [
    "a.freq_axis.validate(a.freq_axis.get())"
   ]
  },
  {
   "cell_type": "markdown",
   "metadata": {},
   "source": [
    "Naturally, we can also get the spectrum. Getting the spectrum will automatically perform validation both for the shape of the parameter itself and the relation to the setpoint parameter(s)"
   ]
  },
  {
   "cell_type": "code",
   "execution_count": 13,
   "metadata": {
    "execution": {
     "iopub.execute_input": "2020-09-11T12:48:10.244413Z",
     "iopub.status.busy": "2020-09-11T12:48:10.242932Z",
     "iopub.status.idle": "2020-09-11T12:48:10.246601Z",
     "shell.execute_reply": "2020-09-11T12:48:10.247046Z"
    },
    "scrolled": true
   },
   "outputs": [
    {
     "data": {
      "text/plain": [
       "501"
      ]
     },
     "execution_count": 13,
     "metadata": {},
     "output_type": "execute_result"
    }
   ],
   "source": [
    "spectrum = a.spectrum.get()\n",
    "len(spectrum)"
   ]
  },
  {
   "cell_type": "markdown",
   "metadata": {},
   "source": [
    "When we validate a `ParameterWithSetpoints`, we automatically validate that the shape is consistent between the parameters and its setpoints. As well as validating the shape as above."
   ]
  },
  {
   "cell_type": "code",
   "execution_count": 14,
   "metadata": {
    "execution": {
     "iopub.execute_input": "2020-09-11T12:48:10.251631Z",
     "iopub.status.busy": "2020-09-11T12:48:10.250515Z",
     "iopub.status.idle": "2020-09-11T12:48:10.253210Z",
     "shell.execute_reply": "2020-09-11T12:48:10.252636Z"
    }
   },
   "outputs": [],
   "source": [
    "a.spectrum.validate(a.spectrum.get())"
   ]
  },
  {
   "cell_type": "markdown",
   "metadata": {},
   "source": [
    "The consistent shapes can be validated explicitly."
   ]
  },
  {
   "cell_type": "code",
   "execution_count": 15,
   "metadata": {
    "execution": {
     "iopub.execute_input": "2020-09-11T12:48:10.259447Z",
     "iopub.status.busy": "2020-09-11T12:48:10.258882Z",
     "iopub.status.idle": "2020-09-11T12:48:10.261898Z",
     "shell.execute_reply": "2020-09-11T12:48:10.261330Z"
    }
   },
   "outputs": [],
   "source": [
    "a.spectrum.validate_consistent_shape()"
   ]
  },
  {
   "cell_type": "markdown",
   "metadata": {},
   "source": [
    "We can inspect the setpoints of the spectrum."
   ]
  },
  {
   "cell_type": "code",
   "execution_count": 16,
   "metadata": {
    "execution": {
     "iopub.execute_input": "2020-09-11T12:48:10.265535Z",
     "iopub.status.busy": "2020-09-11T12:48:10.264386Z",
     "iopub.status.idle": "2020-09-11T12:48:10.269088Z",
     "shell.execute_reply": "2020-09-11T12:48:10.268515Z"
    }
   },
   "outputs": [
    {
     "data": {
      "text/plain": [
       "(<__main__.GeneratedSetPoints: freq_axis at 140331935107856>,)"
      ]
     },
     "execution_count": 16,
     "metadata": {},
     "output_type": "execute_result"
    }
   ],
   "source": [
    "a.spectrum.setpoints"
   ]
  },
  {
   "cell_type": "markdown",
   "metadata": {},
   "source": [
    "Or even change them."
   ]
  },
  {
   "cell_type": "code",
   "execution_count": 17,
   "metadata": {
    "execution": {
     "iopub.execute_input": "2020-09-11T12:48:10.272498Z",
     "iopub.status.busy": "2020-09-11T12:48:10.271914Z",
     "iopub.status.idle": "2020-09-11T12:48:10.274494Z",
     "shell.execute_reply": "2020-09-11T12:48:10.274002Z"
    }
   },
   "outputs": [],
   "source": [
    "a.spectrum.setpoints = (a.freq_axis,)"
   ]
  },
  {
   "cell_type": "markdown",
   "metadata": {},
   "source": [
    "## Measurement"
   ]
  },
  {
   "cell_type": "markdown",
   "metadata": {},
   "source": [
    "We can also directly consume the parameter in a measurement without defining the setpoints of the parameter again. The setpoints are automatically obtained from the definition of the `ParameterWithSetpoint` instance. "
   ]
  },
  {
   "cell_type": "code",
   "execution_count": 18,
   "metadata": {
    "execution": {
     "iopub.execute_input": "2020-09-11T12:48:10.278972Z",
     "iopub.status.busy": "2020-09-11T12:48:10.278415Z",
     "iopub.status.idle": "2020-09-11T12:48:10.294357Z",
     "shell.execute_reply": "2020-09-11T12:48:10.293856Z"
    }
   },
   "outputs": [
    {
     "name": "stdout",
     "output_type": "stream",
     "text": [
      "Starting experimental run with id: 1. \n"
     ]
    }
   ],
   "source": [
    "meas = Measurement()\n",
    "meas.register_parameter(a.spectrum)\n",
    "\n",
    "with meas.run() as datasaver:\n",
    "    datasaver.add_result((a.freq_axis, a.freq_axis()),\n",
    "                         (a.spectrum, a.spectrum()))\n",
    "    dataset = datasaver.dataset"
   ]
  },
  {
   "cell_type": "markdown",
   "metadata": {},
   "source": [
    "And plot it"
   ]
  },
  {
   "cell_type": "code",
   "execution_count": 19,
   "metadata": {
    "execution": {
     "iopub.execute_input": "2020-09-11T12:48:10.297500Z",
     "iopub.status.busy": "2020-09-11T12:48:10.296945Z",
     "iopub.status.idle": "2020-09-11T12:48:10.683028Z",
     "shell.execute_reply": "2020-09-11T12:48:10.682539Z"
    }
   },
   "outputs": [
    {
     "data": {
      "text/plain": [
       "([<matplotlib.axes._subplots.AxesSubplot at 0x7fa1938d7b90>], [None])"
      ]
     },
     "execution_count": 19,
     "metadata": {},
     "output_type": "execute_result"
    },
    {
     "data": {
      "image/png": "[encoded data removed]",
      "text/plain": [
       "<Figure size 432x288 with 1 Axes>"
      ]
     },
     "metadata": {
      "needs_background": "light"
     },
     "output_type": "display_data"
    }
   ],
   "source": [
    "plot_dataset(dataset)"
   ]
  },
  {
   "cell_type": "markdown",
   "metadata": {},
   "source": [
    "To reduce the amount of typing a simple convenience function is provided that will take a `ParameterWithSetpoints` and get both its values and the setpoints values and return them as tuples for direct insertion into the Dataset."
   ]
  },
  {
   "cell_type": "code",
   "execution_count": 20,
   "metadata": {
    "execution": {
     "iopub.execute_input": "2020-09-11T12:48:10.686683Z",
     "iopub.status.busy": "2020-09-11T12:48:10.686123Z",
     "iopub.status.idle": "2020-09-11T12:48:10.702198Z",
     "shell.execute_reply": "2020-09-11T12:48:10.702666Z"
    },
    "scrolled": true
   },
   "outputs": [
    {
     "data": {
      "text/plain": [
       "[(<__main__.GeneratedSetPoints: freq_axis at 140331935107856>,\n",
       "  array([  0.,   1.,   2.,   3.,   4.,   5.,   6.,   7.,   8.,   9.,  10.,\n",
       "          11.,  12.,  13.,  14.,  15.,  16.,  17.,  18.,  19.,  20.,  21.,\n",
       "          22.,  23.,  24.,  25.,  26.,  27.,  28.,  29.,  30.,  31.,  32.,\n",
       "          33.,  34.,  35.,  36.,  37.,  38.,  39.,  40.,  41.,  42.,  43.,\n",
       "          44.,  45.,  46.,  47.,  48.,  49.,  50.,  51.,  52.,  53.,  54.,\n",
       "          55.,  56.,  57.,  58.,  59.,  60.,  61.,  62.,  63.,  64.,  65.,\n",
       "          66.,  67.,  68.,  69.,  70.,  71.,  72.,  73.,  74.,  75.,  76.,\n",
       "          77.,  78.,  79.,  80.,  81.,  82.,  83.,  84.,  85.,  86.,  87.,\n",
       "          88.,  89.,  90.,  91.,  92.,  93.,  94.,  95.,  96.,  97.,  98.,\n",
       "          99., 100., 101., 102., 103., 104., 105., 106., 107., 108., 109.,\n",
       "         110., 111., 112., 113., 114., 115., 116., 117., 118., 119., 120.,\n",
       "         121., 122., 123., 124., 125., 126., 127., 128., 129., 130., 131.,\n",
       "         132., 133., 134., 135., 136., 137., 138., 139., 140., 141., 142.,\n",
       "         143., 144., 145., 146., 147., 148., 149., 150., 151., 152., 153.,\n",
       "         154., 155., 156., 157., 158., 159., 160., 161., 162., 163., 164.,\n",
       "         165., 166., 167., 168., 169., 170., 171., 172., 173., 174., 175.,\n",
       "         176., 177., 178., 179., 180., 181., 182., 183., 184., 185., 186.,\n",
       "         187., 188., 189., 190., 191., 192., 193., 194., 195., 196., 197.,\n",
       "         198., 199., 200., 201., 202., 203., 204., 205., 206., 207., 208.,\n",
       "         209., 210., 211., 212., 213., 214., 215., 216., 217., 218., 219.,\n",
       "         220., 221., 222., 223., 224., 225., 226., 227., 228., 229., 230.,\n",
       "         231., 232., 233., 234., 235., 236., 237., 238., 239., 240., 241.,\n",
       "         242., 243., 244., 245., 246., 247., 248., 249., 250., 251., 252.,\n",
       "         253., 254., 255., 256., 257., 258., 259., 260., 261., 262., 263.,\n",
       "         264., 265., 266., 267., 268., 269., 270., 271., 272., 273., 274.,\n",
       "         275., 276., 277., 278., 279., 280., 281., 282., 283., 284., 285.,\n",
       "         286., 287., 288., 289., 290., 291., 292., 293., 294., 295., 296.,\n",
       "         297., 298., 299., 300., 301., 302., 303., 304., 305., 306., 307.,\n",
       "         308., 309., 310., 311., 312., 313., 314., 315., 316., 317., 318.,\n",
       "         319., 320., 321., 322., 323., 324., 325., 326., 327., 328., 329.,\n",
       "         330., 331., 332., 333., 334., 335., 336., 337., 338., 339., 340.,\n",
       "         341., 342., 343., 344., 345., 346., 347., 348., 349., 350., 351.,\n",
       "         352., 353., 354., 355., 356., 357., 358., 359., 360., 361., 362.,\n",
       "         363., 364., 365., 366., 367., 368., 369., 370., 371., 372., 373.,\n",
       "         374., 375., 376., 377., 378., 379., 380., 381., 382., 383., 384.,\n",
       "         385., 386., 387., 388., 389., 390., 391., 392., 393., 394., 395.,\n",
       "         396., 397., 398., 399., 400., 401., 402., 403., 404., 405., 406.,\n",
       "         407., 408., 409., 410., 411., 412., 413., 414., 415., 416., 417.,\n",
       "         418., 419., 420., 421., 422., 423., 424., 425., 426., 427., 428.,\n",
       "         429., 430., 431., 432., 433., 434., 435., 436., 437., 438., 439.,\n",
       "         440., 441., 442., 443., 444., 445., 446., 447., 448., 449., 450.,\n",
       "         451., 452., 453., 454., 455., 456., 457., 458., 459., 460., 461.,\n",
       "         462., 463., 464., 465., 466., 467., 468., 469., 470., 471., 472.,\n",
       "         473., 474., 475., 476., 477., 478., 479., 480., 481., 482., 483.,\n",
       "         484., 485., 486., 487., 488., 489., 490., 491., 492., 493., 494.,\n",
       "         495., 496., 497., 498., 499., 500.])),\n",
       " (<__main__.DummyArray: spectrum at 140331935106128>,\n",
       "  array([7.84050077e-01, 6.78161218e-01, 8.26838905e-01, 8.73444979e-01,\n",
       "         5.00753814e-01, 8.60213620e-01, 4.63329353e-01, 3.83244655e-01,\n",
       "         9.37830029e-02, 6.62481189e-01, 7.38124115e-01, 8.43251919e-01,\n",
       "         8.56691941e-02, 5.57149258e-01, 7.16841164e-01, 5.58965721e-01,\n",
       "         2.60374860e-01, 3.20091856e-01, 1.42799332e-01, 7.09063901e-02,\n",
       "         8.65820108e-01, 1.27225309e-01, 9.75267227e-01, 4.18323237e-01,\n",
       "         7.58683802e-01, 4.93037605e-01, 3.84930745e-01, 4.74797584e-01,\n",
       "         1.68193335e-01, 9.46946798e-02, 9.11358961e-01, 1.40535035e-01,\n",
       "         5.37435231e-01, 9.80548254e-01, 6.31499178e-01, 8.21494122e-01,\n",
       "         6.27914823e-01, 9.18718468e-01, 4.13031869e-01, 2.97677141e-01,\n",
       "         7.71256263e-01, 3.37998828e-01, 8.86294492e-02, 1.50960043e-01,\n",
       "         6.04612345e-01, 9.94740589e-01, 5.95085129e-01, 5.13386904e-01,\n",
       "         4.99971219e-01, 9.88399448e-01, 7.08407098e-01, 1.43565069e-01,\n",
       "         1.17482561e-01, 6.97278502e-01, 2.86986763e-04, 1.79034028e-01,\n",
       "         1.48007482e-01, 4.54746214e-02, 7.36774245e-01, 3.36174471e-01,\n",
       "         6.58174187e-01, 8.48609522e-01, 8.55668698e-02, 8.58941059e-01,\n",
       "         3.90122715e-01, 2.76697637e-01, 9.95289267e-02, 4.44505352e-01,\n",
       "         8.78524731e-01, 4.32595084e-01, 3.82175387e-01, 1.91281113e-01,\n",
       "         3.20780900e-01, 6.90925876e-01, 7.52381955e-01, 2.78347406e-01,\n",
       "         3.03480683e-01, 9.57644160e-01, 2.47793065e-01, 9.15778514e-01,\n",
       "         9.69654354e-01, 7.00862837e-01, 3.63862018e-01, 1.76872529e-01,\n",
       "         3.64554362e-01, 2.99090760e-01, 1.39731431e-01, 3.41248422e-01,\n",
       "         7.61195831e-01, 6.53352069e-01, 8.65207701e-02, 3.13917780e-01,\n",
       "         1.92145607e-01, 5.04728702e-01, 9.85126054e-01, 6.24204468e-01,\n",
       "         3.42564732e-01, 3.88411708e-01, 8.10017156e-01, 7.26399381e-01,\n",
       "         6.19186581e-01, 7.77538139e-01, 2.60740444e-02, 1.20915911e-01,\n",
       "         5.64099784e-01, 6.03780686e-01, 7.71518338e-01, 7.56316680e-01,\n",
       "         4.76387918e-01, 7.57551600e-01, 8.45417728e-01, 9.89800987e-01,\n",
       "         5.19664776e-01, 9.46203785e-01, 6.79204723e-01, 5.27965942e-01,\n",
       "         8.40637396e-01, 8.98913997e-01, 3.58635507e-01, 2.41477260e-01,\n",
       "         1.43631571e-01, 1.80647734e-01, 4.11840688e-02, 4.84578756e-01,\n",
       "         5.60420875e-01, 5.02860624e-01, 3.70553163e-01, 6.68849540e-01,\n",
       "         3.98263814e-01, 3.43899975e-02, 1.29743314e-02, 6.34782293e-01,\n",
       "         9.32483651e-01, 9.56048124e-02, 8.59134731e-01, 1.02954252e-01,\n",
       "         7.43611707e-01, 3.88989063e-01, 4.15034428e-01, 7.08260027e-01,\n",
       "         8.19565202e-01, 8.29678425e-01, 3.40719690e-01, 7.57772855e-01,\n",
       "         6.04991352e-01, 1.15359000e-01, 6.55327874e-01, 7.03173997e-01,\n",
       "         6.08589019e-01, 7.90970330e-02, 7.25912401e-01, 5.10862694e-01,\n",
       "         4.32196087e-01, 5.15066754e-01, 9.78232475e-01, 8.74566891e-01,\n",
       "         6.61216461e-01, 4.61431532e-01, 9.01781458e-01, 9.00921162e-01,\n",
       "         2.27392792e-01, 1.40850542e-01, 1.61533475e-01, 9.19942297e-01,\n",
       "         2.83531801e-01, 3.21160244e-01, 8.50467563e-01, 3.92724450e-01,\n",
       "         4.81756694e-01, 2.27172621e-01, 3.02420299e-01, 2.63803553e-01,\n",
       "         3.12333466e-01, 3.60236011e-01, 5.98232705e-03, 9.75428352e-01,\n",
       "         3.63395779e-01, 7.34583894e-01, 8.53065605e-01, 7.61482006e-01,\n",
       "         4.83354215e-01, 3.12546042e-01, 4.56802592e-01, 5.72929821e-01,\n",
       "         4.07040671e-01, 6.20475422e-01, 8.01601967e-01, 6.96748549e-01,\n",
       "         3.99040422e-01, 2.72164401e-01, 8.62679243e-01, 1.31897023e-01,\n",
       "         4.80144390e-01, 8.82792365e-01, 8.58661670e-02, 3.98307379e-01,\n",
       "         2.51816478e-01, 7.22782527e-01, 1.05237470e-01, 9.42057411e-01,\n",
       "         9.77452443e-01, 9.93453847e-01, 4.12134746e-01, 1.12800039e-01,\n",
       "         6.71990319e-01, 5.61315710e-01, 1.55262682e-01, 9.49039180e-01,\n",
       "         1.36291033e-02, 6.43123172e-01, 1.72340773e-01, 9.11989062e-02,\n",
       "         8.16932854e-01, 5.88841912e-01, 1.08525753e-01, 3.67111291e-01,\n",
       "         1.40888480e-01, 8.33009915e-01, 9.34279285e-01, 9.54160116e-01,\n",
       "         2.52329560e-01, 5.89434833e-01, 2.43029422e-01, 3.77631795e-01,\n",
       "         1.93187327e-01, 9.98202328e-01, 3.81153749e-02, 9.32474991e-01,\n",
       "         7.26033908e-01, 4.03787920e-01, 8.99985891e-01, 9.67959987e-01,\n",
       "         9.53767670e-01, 6.16816857e-01, 1.98991391e-01, 2.14386667e-01,\n",
       "         8.07047924e-01, 9.38973115e-01, 5.40329545e-01, 6.48534151e-02,\n",
       "         4.83602704e-01, 8.44695647e-01, 7.17283867e-01, 3.46795875e-01,\n",
       "         2.80530504e-01, 1.02063461e-01, 1.46549607e-01, 1.29966941e-01,\n",
       "         9.92565364e-01, 8.26618369e-01, 6.64629729e-01, 2.56742178e-01,\n",
       "         3.65731344e-02, 4.28166156e-01, 7.41434769e-01, 9.98434597e-01,\n",
       "         1.87751215e-01, 3.15754914e-01, 6.32200569e-01, 1.22159567e-01,\n",
       "         5.45085539e-01, 1.39752098e-01, 8.19878816e-02, 2.31316061e-01,\n",
       "         2.99165088e-01, 3.00738971e-01, 5.93331255e-01, 1.33476548e-01,\n",
       "         3.48632096e-01, 5.30274632e-01, 3.68815842e-01, 8.23573797e-01,\n",
       "         6.28317836e-01, 1.76802430e-01, 1.91051216e-01, 3.61254892e-01,\n",
       "         5.40531513e-01, 7.74734556e-01, 2.93377063e-01, 8.96260473e-01,\n",
       "         4.17930185e-01, 7.09258083e-02, 1.88496506e-01, 7.23801885e-01,\n",
       "         2.81900444e-01, 7.74874265e-01, 2.46953515e-01, 3.60724702e-01,\n",
       "         6.81974684e-01, 7.48723643e-01, 4.02825404e-01, 2.92460197e-01,\n",
       "         5.30413476e-01, 1.08429212e-01, 3.70718260e-01, 6.70263256e-02,\n",
       "         5.27606457e-01, 2.27150793e-01, 1.76839845e-01, 8.90342555e-01,\n",
       "         4.85491541e-01, 7.56452622e-01, 5.39993278e-01, 7.04726564e-01,\n",
       "         7.90567258e-01, 3.60798116e-02, 3.80260470e-02, 6.47031976e-01,\n",
       "         7.74290137e-01, 3.87951726e-02, 4.69750569e-01, 7.01124411e-01,\n",
       "         8.30255477e-01, 4.39920879e-01, 3.84681938e-01, 7.75595027e-01,\n",
       "         1.10437427e-01, 8.96695488e-02, 1.48726973e-01, 2.79629229e-01,\n",
       "         5.57732690e-01, 7.49138453e-02, 3.49406510e-01, 2.89574993e-01,\n",
       "         6.38436650e-01, 5.77100752e-01, 1.02113594e-01, 3.15724618e-01,\n",
       "         8.07930963e-02, 3.23885535e-01, 6.53339075e-01, 9.09528635e-01,\n",
       "         7.35119900e-02, 7.05294971e-01, 1.31229523e-01, 1.88553264e-01,\n",
       "         1.57372529e-02, 6.30349465e-01, 1.07509996e-01, 6.32425252e-01,\n",
       "         8.34176101e-02, 7.42454414e-02, 8.58036949e-01, 2.15026332e-01,\n",
       "         6.88280243e-01, 6.04880212e-01, 9.62302967e-03, 6.99173508e-01,\n",
       "         2.79927018e-01, 6.81924057e-01, 5.76304998e-01, 4.17184346e-01,\n",
       "         1.42875196e-01, 6.30805898e-01, 6.26368880e-02, 1.13852148e-01,\n",
       "         8.08028379e-01, 6.48368713e-01, 2.22764341e-01, 9.19366102e-01,\n",
       "         7.85106123e-01, 1.05508287e-01, 4.73769624e-01, 4.48247234e-01,\n",
       "         1.32988649e-02, 8.03079108e-01, 4.09969051e-01, 7.48083801e-01,\n",
       "         1.07061128e-01, 7.35697781e-01, 9.08681907e-01, 5.23134003e-02,\n",
       "         7.05947453e-01, 6.94904400e-01, 2.75390707e-01, 9.29596185e-01,\n",
       "         5.92705752e-02, 1.39714868e-01, 8.84963070e-01, 5.18920001e-01,\n",
       "         1.33087646e-01, 4.66182745e-02, 2.81321511e-01, 5.79634157e-01,\n",
       "         4.57605578e-01, 8.29480286e-01, 5.67689850e-01, 4.70590826e-01,\n",
       "         7.31583959e-01, 9.05032211e-01, 8.41374108e-02, 7.57303966e-02,\n",
       "         8.48802276e-01, 2.09134472e-01, 4.00361394e-01, 8.39775980e-02,\n",
       "         2.73538864e-01, 7.64985192e-01, 6.87963151e-01, 5.50364177e-01,\n",
       "         4.78140574e-01, 5.81338114e-01, 2.71226312e-01, 2.51996047e-01,\n",
       "         8.72108319e-01, 1.97586196e-01, 7.80097056e-01, 7.66386713e-01,\n",
       "         3.66283291e-01, 4.88923533e-01, 1.37741617e-02, 1.06555065e-01,\n",
       "         7.93287226e-01, 5.82788222e-02, 7.24714970e-01, 7.47454299e-01,\n",
       "         6.37158978e-01, 2.97936253e-01, 7.55541164e-01, 6.78390949e-01,\n",
       "         8.18468549e-02, 1.02861001e-01, 3.90192483e-01, 6.97761008e-01,\n",
       "         8.37339749e-02, 2.28659372e-01, 8.78719453e-01, 7.31474948e-01,\n",
       "         1.62309676e-01, 8.59792649e-03, 9.86483658e-01, 6.97636584e-02,\n",
       "         1.24219149e-01, 6.54698347e-01, 2.54279931e-01, 5.50152998e-02,\n",
       "         3.69864073e-01, 2.41142039e-01, 7.72229463e-01, 9.50063487e-01,\n",
       "         5.93861190e-01, 3.36657439e-01, 2.36274884e-01, 3.36763022e-01,\n",
       "         4.94038492e-01, 5.23726353e-01, 8.31360008e-01, 2.08390079e-01,\n",
       "         1.83405794e-01, 2.08205967e-01, 6.14164724e-01, 6.72159432e-02,\n",
       "         4.75549650e-01, 9.18146071e-01, 3.48499694e-01, 2.40394864e-01,\n",
       "         2.69592296e-01, 4.61680056e-01, 1.82094771e-01, 8.14935341e-02,\n",
       "         4.53733144e-02, 3.65758727e-02, 9.87176206e-01, 2.08193033e-01,\n",
       "         1.19795523e-01, 6.44893578e-01, 3.78247933e-01, 6.23672917e-01,\n",
       "         1.28435939e-02, 8.59471977e-01, 9.53214238e-01, 1.55680746e-01,\n",
       "         8.86904451e-02, 2.77198883e-01, 8.99624707e-01, 9.45209260e-01,\n",
       "         8.60538288e-01, 6.95797163e-01, 3.13169975e-01, 5.17433934e-01,\n",
       "         5.90066097e-01, 7.09064673e-01, 8.36317915e-01, 6.72380430e-01,\n",
       "         6.99801531e-01, 7.04743278e-01, 3.26724827e-01, 3.13747530e-02,\n",
       "         8.53747895e-02, 5.30920426e-02, 7.41102135e-01, 3.83823369e-01,\n",
       "         5.66705543e-01, 2.95678553e-01, 7.08139995e-01, 6.57642797e-01,\n",
       "         7.20182638e-01, 5.61162003e-01, 1.18344438e-01, 9.60198562e-01,\n",
       "         4.20976293e-01]))]"
      ]
     },
     "execution_count": 20,
     "metadata": {},
     "output_type": "execute_result"
    }
   ],
   "source": [
    "expand_setpoints_helper(a.spectrum)"
   ]
  },
  {
   "cell_type": "code",
   "execution_count": 21,
   "metadata": {
    "execution": {
     "iopub.execute_input": "2020-09-11T12:48:10.707382Z",
     "iopub.status.busy": "2020-09-11T12:48:10.705757Z",
     "iopub.status.idle": "2020-09-11T12:48:10.724096Z",
     "shell.execute_reply": "2020-09-11T12:48:10.723587Z"
    }
   },
   "outputs": [
    {
     "name": "stdout",
     "output_type": "stream",
     "text": [
      "Starting experimental run with id: 2. \n"
     ]
    }
   ],
   "source": [
    "meas = Measurement()\n",
    "meas.register_parameter(a.spectrum)\n",
    "\n",
    "with meas.run() as datasaver:\n",
    "    datasaver.add_result(*expand_setpoints_helper(a.spectrum))\n",
    "    \n",
    "    dataid = datasaver.run_id"
   ]
  },
  {
   "cell_type": "code",
   "execution_count": null,
   "metadata": {},
   "outputs": [],
   "source": []
  }
 ],
 "metadata": {
  "kernelspec": {
   "display_name": "Python 3",
   "language": "python",
   "name": "python3"
  },
  "language_info": {
   "codemirror_mode": {
    "name": "ipython",
    "version": 3
   },
   "file_extension": ".py",
   "mimetype": "text/x-python",
   "name": "python",
   "nbconvert_exporter": "python",
   "pygments_lexer": "ipython3",
   "version": "3.7.7"
  },
  "toc": {
   "base_numbering": 1,
   "nav_menu": {},
   "number_sections": true,
   "sideBar": true,
   "skip_h1_title": false,
   "title_cell": "Table of Contents",
   "title_sidebar": "Contents",
   "toc_cell": false,
   "toc_position": {},
   "toc_section_display": true,
   "toc_window_display": false
  },
  "varInspector": {
   "cols": {
    "lenName": 16,
    "lenType": 16,
    "lenVar": 40
   },
   "kernels_config": {
    "python": {
     "delete_cmd_postfix": "",
     "delete_cmd_prefix": "del ",
     "library": "var_list.py",
     "varRefreshCmd": "print(var_dic_list())"
    },
    "r": {
     "delete_cmd_postfix": ") ",
     "delete_cmd_prefix": "rm(",
     "library": "var_list.r",
     "varRefreshCmd": "cat(var_dic_list()) "
    }
   },
   "types_to_exclude": [
    "module",
    "function",
    "builtin_function_or_method",
    "instance",
    "_Feature"
   ],
   "window_display": false
  }
 },
 "nbformat": 4,
 "nbformat_minor": 2
}
