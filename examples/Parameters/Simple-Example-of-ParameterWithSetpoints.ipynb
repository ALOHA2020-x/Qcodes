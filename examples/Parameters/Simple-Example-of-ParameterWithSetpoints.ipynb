{
 "cells": [
  {
   "cell_type": "markdown",
   "metadata": {},
   "source": [
    "# Simple Example of ParameterWithSetpoints\n",
    "This notebook provides an example for writing a simple driver with a parameter that has setpoints. Let's name this parameter that has setpoints as \"y\". Then, the setpoints, say \"x1, x2, x3 ..\", are the parameters on which the parameter \n",
    "\"y\" depends upon. Meaning \"y\" is a function of \"x1, x2, x3 ...\" where \"x1, x2, x3 ...\" are known as the setpoints of parameter \"y\".\n",
    "\n",
    "This is most likely to be useful for instruments that return arrays of results. In this notebook, we will show an example of this."
   ]
  },
  {
   "cell_type": "code",
   "execution_count": 1,
   "metadata": {
    "execution": {
     "iopub.execute_input": "2020-10-27T13:18:56.631029Z",
     "iopub.status.busy": "2020-10-27T13:18:56.628495Z",
     "iopub.status.idle": "2020-10-27T13:18:56.732871Z",
     "shell.execute_reply": "2020-10-27T13:18:56.733638Z"
    }
   },
   "outputs": [],
   "source": [
    "import numpy as np\n",
    "import os"
   ]
  },
  {
   "cell_type": "code",
   "execution_count": 2,
   "metadata": {
    "execution": {
     "iopub.execute_input": "2020-10-27T13:18:56.737339Z",
     "iopub.status.busy": "2020-10-27T13:18:56.736277Z",
     "iopub.status.idle": "2020-10-27T13:18:57.939610Z",
     "shell.execute_reply": "2020-10-27T13:18:57.938744Z"
    }
   },
   "outputs": [
    {
     "name": "stdout",
     "output_type": "stream",
     "text": [
      "Logging hadn't been started.\n",
      "Activating auto-logging. Current session state plus future input saved.\n",
      "Filename       : /home/vsts/.qcodes/logs/command_history.log\n",
      "Mode           : append\n",
      "Output logging : True\n",
      "Raw input log  : False\n",
      "Timestamping   : True\n",
      "State          : active\n"
     ]
    },
    {
     "name": "stdout",
     "output_type": "stream",
     "text": [
      "Qcodes Logfile : /home/vsts/.qcodes/logs/201027-17786-qcodes.log\n"
     ]
    }
   ],
   "source": [
    "from qcodes.dataset.plotting import plot_dataset\n",
    "from qcodes.utils.validators import Numbers, Arrays\n",
    "from qcodes.instrument.base import Instrument\n",
    "from qcodes.dataset.measurements import Measurement"
   ]
  },
  {
   "cell_type": "code",
   "execution_count": 3,
   "metadata": {
    "execution": {
     "iopub.execute_input": "2020-10-27T13:18:57.943976Z",
     "iopub.status.busy": "2020-10-27T13:18:57.943343Z",
     "iopub.status.idle": "2020-10-27T13:18:57.947534Z",
     "shell.execute_reply": "2020-10-27T13:18:57.947019Z"
    }
   },
   "outputs": [],
   "source": [
    "from qcodes.dataset.sqlite.database import initialise_or_create_database_at\n",
    "from qcodes.dataset.experiment_container import load_or_create_experiment"
   ]
  },
  {
   "cell_type": "code",
   "execution_count": 4,
   "metadata": {
    "execution": {
     "iopub.execute_input": "2020-10-27T13:18:57.991813Z",
     "iopub.status.busy": "2020-10-27T13:18:57.991215Z",
     "iopub.status.idle": "2020-10-27T13:18:57.995137Z",
     "shell.execute_reply": "2020-10-27T13:18:57.995606Z"
    }
   },
   "outputs": [],
   "source": [
    "from qcodes.instrument.parameter import ParameterWithSetpoints, Parameter"
   ]
  },
  {
   "cell_type": "markdown",
   "metadata": {},
   "source": [
    "First, we define a dummy instrument that returns something like a frequency spectrum starting from a frequency given by `f_start` to a frequency given by `f_stop` in `n_points` steps. \n",
    "\n",
    "The extra functionality of the `ParameterWithSetpoints` is implemented by giving it a reference to one or more parameters that acts like its setpoints. \n",
    "\n",
    "To setup a `ParameterWithSetpoints` we have to do two things in addition to what we do for a normal parameter.\n",
    "\n",
    "* Define one or more parameter for the setpoints (one for each dimension of the array and let the `ParameterWithSetpoints` know that these are the setpoints.\n",
    "* Give both the setpoints parameter(s) and the `ParameterWithSetpoints` a `validator` of type `Arrays` with a shape. The shapes should be such that the combined shape of the setpoints matches the shape of the `ParameterWithSetpoints`. Note that if the shape changes with the setting of the instrument, it can be defined by another parameter as shown below. "
   ]
  },
  {
   "cell_type": "code",
   "execution_count": 5,
   "metadata": {
    "execution": {
     "iopub.execute_input": "2020-10-27T13:18:58.006347Z",
     "iopub.status.busy": "2020-10-27T13:18:58.003445Z",
     "iopub.status.idle": "2020-10-27T13:18:58.009307Z",
     "shell.execute_reply": "2020-10-27T13:18:58.009727Z"
    }
   },
   "outputs": [],
   "source": [
    "class GeneratedSetPoints(Parameter):\n",
    "    \"\"\"\n",
    "    A parameter that generates a setpoint array from start, stop and num points\n",
    "    parameters.\n",
    "    \"\"\"\n",
    "    def __init__(self, startparam, stopparam, numpointsparam, *args, **kwargs):\n",
    "        super().__init__(*args, **kwargs)\n",
    "        self._startparam = startparam\n",
    "        self._stopparam = stopparam\n",
    "        self._numpointsparam = numpointsparam\n",
    "\n",
    "    def get_raw(self):\n",
    "        return np.linspace(self._startparam(), self._stopparam(),\n",
    "                              self._numpointsparam())\n",
    "\n",
    "class DummyArray(ParameterWithSetpoints):\n",
    "    \n",
    "    def get_raw(self):\n",
    "        npoints = self.root_instrument.n_points.get_latest()\n",
    "        return np.random.rand(npoints)\n",
    "    \n",
    "\n",
    "class DummySpectrumAnalyzer(Instrument):\n",
    "    \n",
    "    def __init__(self, name, **kwargs):\n",
    "        \n",
    "        super().__init__(name, **kwargs)\n",
    "            \n",
    "\n",
    "        self.add_parameter('f_start',\n",
    "                           initial_value=0,\n",
    "                           unit='Hz',\n",
    "                           label='f start',\n",
    "                           vals=Numbers(0,1e3),\n",
    "                           get_cmd=None,\n",
    "                           set_cmd=None)\n",
    "\n",
    "        self.add_parameter('f_stop',\n",
    "                           unit='Hz',\n",
    "                           label='f stop',\n",
    "                           vals=Numbers(1,1e3),\n",
    "                           get_cmd=None,\n",
    "                           set_cmd=None)\n",
    "\n",
    "        self.add_parameter('n_points',\n",
    "                           unit='',\n",
    "                           initial_value=10,\n",
    "                           vals=Numbers(1,1e3),\n",
    "                           get_cmd=None,\n",
    "                           set_cmd=None)\n",
    "        \n",
    "        self.add_parameter('freq_axis',\n",
    "                           unit='Hz',\n",
    "                           label='Freq Axis',\n",
    "                           parameter_class=GeneratedSetPoints,\n",
    "                           startparam=self.f_start,\n",
    "                           stopparam=self.f_stop,\n",
    "                           numpointsparam=self.n_points,\n",
    "                           vals=Arrays(shape=(self.n_points.get_latest,)))\n",
    "                           \n",
    "        self.add_parameter('spectrum',\n",
    "                   unit='dBm',\n",
    "                   setpoints=(self.freq_axis,),\n",
    "                   label='Spectrum',\n",
    "                   parameter_class=DummyArray,\n",
    "                   vals=Arrays(shape=(self.n_points.get_latest,)))\n",
    "                "
   ]
  },
  {
   "cell_type": "markdown",
   "metadata": {},
   "source": [
    "In the above example, the shape is defined by the parameter `n_points` that defines how many samples our `DummySpectrumAnalyzer` returns.\n",
    "\n",
    "This means that the validation will call the function to get `n_points` twice for each `get` of the parameter. This may be too slow, however, if you (as the driver-writer) can guarantee that the cached value for `n_points` will never be out of sync with the value stored in the instrument, `n_points` may be replaced by it's latest known value such that the `validator` reads:\n",
    "```python\n",
    "vals=Arrays(shape=(self.n_points.get_latest))\n",
    "```\n",
    "\n",
    "This avoids any additional call to the instrument. In the same way, the arguments to the `freq_axis` parameter that defines the start, stop and number of points can be replaced by their latest value if the instrument allows it.\n",
    "\n"
   ]
  },
  {
   "cell_type": "code",
   "execution_count": 6,
   "metadata": {
    "execution": {
     "iopub.execute_input": "2020-10-27T13:18:58.013850Z",
     "iopub.status.busy": "2020-10-27T13:18:58.013016Z",
     "iopub.status.idle": "2020-10-27T13:18:58.026470Z",
     "shell.execute_reply": "2020-10-27T13:18:58.025981Z"
    }
   },
   "outputs": [
    {
     "data": {
      "text/plain": [
       "tutorial_ParameterWithSetpoints#no sample#1@/home/vsts/work/1/s/docs/examples/Parameters/tutorial_paramter_with_setpoints.db\n",
       "----------------------------------------------------------------------------------------------------------------------------\n",
       "1-results-1-dmm_setpoints,dmm_current-1\n",
       "2-results-2-dmm_setpoints,dmm_current-1\n",
       "3-results-3-dmm_setpoints,dmm_current-1"
      ]
     },
     "execution_count": 1,
     "metadata": {},
     "output_type": "execute_result"
    }
   ],
   "source": [
    "tutorial_db_path = os.path.join(os.getcwd(), 'tutorial_paramter_with_setpoints.db')\n",
    "initialise_or_create_database_at(tutorial_db_path)\n",
    "load_or_create_experiment(experiment_name='tutorial_ParameterWithSetpoints', sample_name=\"no sample\")"
   ]
  },
  {
   "cell_type": "code",
   "execution_count": 7,
   "metadata": {
    "execution": {
     "iopub.execute_input": "2020-10-27T13:18:58.031049Z",
     "iopub.status.busy": "2020-10-27T13:18:58.030442Z",
     "iopub.status.idle": "2020-10-27T13:18:58.033644Z",
     "shell.execute_reply": "2020-10-27T13:18:58.034157Z"
    }
   },
   "outputs": [],
   "source": [
    "a = DummySpectrumAnalyzer('foobar')"
   ]
  },
  {
   "cell_type": "markdown",
   "metadata": {},
   "source": [
    "First we setup the limits of the spectrum"
   ]
  },
  {
   "cell_type": "code",
   "execution_count": 8,
   "metadata": {
    "execution": {
     "iopub.execute_input": "2020-10-27T13:18:58.039363Z",
     "iopub.status.busy": "2020-10-27T13:18:58.037917Z",
     "iopub.status.idle": "2020-10-27T13:18:58.040203Z",
     "shell.execute_reply": "2020-10-27T13:18:58.040710Z"
    }
   },
   "outputs": [],
   "source": [
    "a.f_start(0)\n",
    "a.f_stop(500)\n",
    "a.n_points(501)"
   ]
  },
  {
   "cell_type": "markdown",
   "metadata": {},
   "source": [
    "And we can grab the frequency axis"
   ]
  },
  {
   "cell_type": "code",
   "execution_count": 9,
   "metadata": {
    "execution": {
     "iopub.execute_input": "2020-10-27T13:18:58.044536Z",
     "iopub.status.busy": "2020-10-27T13:18:58.044007Z",
     "iopub.status.idle": "2020-10-27T13:18:58.048780Z",
     "shell.execute_reply": "2020-10-27T13:18:58.048225Z"
    }
   },
   "outputs": [
    {
     "data": {
      "text/plain": [
       "501"
      ]
     },
     "execution_count": 1,
     "metadata": {},
     "output_type": "execute_result"
    }
   ],
   "source": [
    "a.n_points()"
   ]
  },
  {
   "cell_type": "code",
   "execution_count": 10,
   "metadata": {
    "execution": {
     "iopub.execute_input": "2020-10-27T13:18:58.054126Z",
     "iopub.status.busy": "2020-10-27T13:18:58.053257Z",
     "iopub.status.idle": "2020-10-27T13:18:58.056441Z",
     "shell.execute_reply": "2020-10-27T13:18:58.056976Z"
    },
    "scrolled": false
   },
   "outputs": [
    {
     "data": {
      "text/plain": [
       "501"
      ]
     },
     "execution_count": 1,
     "metadata": {},
     "output_type": "execute_result"
    }
   ],
   "source": [
    "freq_axis = a.freq_axis()\n",
    "len(freq_axis)"
   ]
  },
  {
   "cell_type": "code",
   "execution_count": 11,
   "metadata": {
    "execution": {
     "iopub.execute_input": "2020-10-27T13:18:58.062410Z",
     "iopub.status.busy": "2020-10-27T13:18:58.061492Z",
     "iopub.status.idle": "2020-10-27T13:18:58.064333Z",
     "shell.execute_reply": "2020-10-27T13:18:58.064870Z"
    }
   },
   "outputs": [
    {
     "data": {
      "text/plain": [
       "array([0., 1., 2., 3., 4., 5., 6., 7., 8., 9.])"
      ]
     },
     "execution_count": 1,
     "metadata": {},
     "output_type": "execute_result"
    }
   ],
   "source": [
    "freq_axis[:10]"
   ]
  },
  {
   "cell_type": "markdown",
   "metadata": {},
   "source": [
    "As expected we get a result wit 501 points as we asked for an axis with 501 points. "
   ]
  },
  {
   "cell_type": "markdown",
   "metadata": {},
   "source": [
    "Above we have added a validator to the `freq_axis` parameter encoding the fact that this is an Array with `n_points`. Note that we do not have to supply the number of points as an integer but can supply a function that returns the valid number of points. This would normally be a QCoDeS parameter.\n",
    "\n",
    "This will be checked if we validate the output."
   ]
  },
  {
   "cell_type": "code",
   "execution_count": 12,
   "metadata": {
    "execution": {
     "iopub.execute_input": "2020-10-27T13:18:58.069500Z",
     "iopub.status.busy": "2020-10-27T13:18:58.068483Z",
     "iopub.status.idle": "2020-10-27T13:18:58.070478Z",
     "shell.execute_reply": "2020-10-27T13:18:58.071279Z"
    }
   },
   "outputs": [],
   "source": [
    "a.freq_axis.validate(a.freq_axis.get())"
   ]
  },
  {
   "cell_type": "markdown",
   "metadata": {},
   "source": [
    "Naturally, we can also get the spectrum. Getting the spectrum will automatically perform validation both for the shape of the parameter itself and the relation to the setpoint parameter(s)"
   ]
  },
  {
   "cell_type": "code",
   "execution_count": 13,
   "metadata": {
    "execution": {
     "iopub.execute_input": "2020-10-27T13:18:58.076121Z",
     "iopub.status.busy": "2020-10-27T13:18:58.075032Z",
     "iopub.status.idle": "2020-10-27T13:18:58.078215Z",
     "shell.execute_reply": "2020-10-27T13:18:58.078718Z"
    },
    "scrolled": true
   },
   "outputs": [
    {
     "data": {
      "text/plain": [
       "501"
      ]
     },
     "execution_count": 1,
     "metadata": {},
     "output_type": "execute_result"
    }
   ],
   "source": [
    "spectrum = a.spectrum.get()\n",
    "len(spectrum)"
   ]
  },
  {
   "cell_type": "markdown",
   "metadata": {},
   "source": [
    "When we validate a `ParameterWithSetpoints`, we automatically validate that the shape is consistent between the parameters and its setpoints. As well as validating the shape as above."
   ]
  },
  {
   "cell_type": "code",
   "execution_count": 14,
   "metadata": {
    "execution": {
     "iopub.execute_input": "2020-10-27T13:18:58.083111Z",
     "iopub.status.busy": "2020-10-27T13:18:58.082247Z",
     "iopub.status.idle": "2020-10-27T13:18:58.084567Z",
     "shell.execute_reply": "2020-10-27T13:18:58.085057Z"
    }
   },
   "outputs": [],
   "source": [
    "a.spectrum.validate(a.spectrum.get())"
   ]
  },
  {
   "cell_type": "markdown",
   "metadata": {},
   "source": [
    "The consistent shapes can be validated explicitly."
   ]
  },
  {
   "cell_type": "code",
   "execution_count": 15,
   "metadata": {
    "execution": {
     "iopub.execute_input": "2020-10-27T13:18:58.090248Z",
     "iopub.status.busy": "2020-10-27T13:18:58.088807Z",
     "iopub.status.idle": "2020-10-27T13:18:58.090872Z",
     "shell.execute_reply": "2020-10-27T13:18:58.091350Z"
    }
   },
   "outputs": [],
   "source": [
    "a.spectrum.validate_consistent_shape()"
   ]
  },
  {
   "cell_type": "markdown",
   "metadata": {},
   "source": [
    "We can inspect the setpoints of the spectrum."
   ]
  },
  {
   "cell_type": "code",
   "execution_count": 16,
   "metadata": {
    "execution": {
     "iopub.execute_input": "2020-10-27T13:18:58.095996Z",
     "iopub.status.busy": "2020-10-27T13:18:58.095431Z",
     "iopub.status.idle": "2020-10-27T13:18:58.098058Z",
     "shell.execute_reply": "2020-10-27T13:18:58.098518Z"
    }
   },
   "outputs": [
    {
     "data": {
      "text/plain": [
       "(<__main__.GeneratedSetPoints: freq_axis at 140111979801808>,)"
      ]
     },
     "execution_count": 1,
     "metadata": {},
     "output_type": "execute_result"
    }
   ],
   "source": [
    "a.spectrum.setpoints"
   ]
  },
  {
   "cell_type": "markdown",
   "metadata": {},
   "source": [
    "Or even change them."
   ]
  },
  {
   "cell_type": "code",
   "execution_count": 17,
   "metadata": {
    "execution": {
     "iopub.execute_input": "2020-10-27T13:18:58.103282Z",
     "iopub.status.busy": "2020-10-27T13:18:58.101871Z",
     "iopub.status.idle": "2020-10-27T13:18:58.103928Z",
     "shell.execute_reply": "2020-10-27T13:18:58.104444Z"
    }
   },
   "outputs": [],
   "source": [
    "a.spectrum.setpoints = (a.freq_axis,)"
   ]
  },
  {
   "cell_type": "markdown",
   "metadata": {},
   "source": [
    "## Measurement"
   ]
  },
  {
   "cell_type": "markdown",
   "metadata": {},
   "source": [
    "We can also directly consume the parameter in a measurement without defining the setpoints of the parameter again. The setpoints are automatically obtained from the definition of the `ParameterWithSetpoint` instance. "
   ]
  },
  {
   "cell_type": "code",
   "execution_count": 18,
   "metadata": {
    "execution": {
     "iopub.execute_input": "2020-10-27T13:18:58.108975Z",
     "iopub.status.busy": "2020-10-27T13:18:58.108393Z",
     "iopub.status.idle": "2020-10-27T13:18:58.132047Z",
     "shell.execute_reply": "2020-10-27T13:18:58.131517Z"
    }
   },
   "outputs": [
    {
     "name": "stdout",
     "output_type": "stream",
     "text": [
      "Starting experimental run with id: 4. \n"
     ]
    }
   ],
   "source": [
    "meas = Measurement()\n",
    "meas.register_parameter(a.spectrum)\n",
    "\n",
    "with meas.run() as datasaver:\n",
    "    datasaver.add_result((a.freq_axis, a.freq_axis()),\n",
    "                         (a.spectrum, a.spectrum()))\n",
    "    dataset = datasaver.dataset"
   ]
  },
  {
   "cell_type": "markdown",
   "metadata": {},
   "source": [
    "And plot it"
   ]
  },
  {
   "cell_type": "code",
   "execution_count": 19,
   "metadata": {
    "execution": {
     "iopub.execute_input": "2020-10-27T13:18:58.136988Z",
     "iopub.status.busy": "2020-10-27T13:18:58.135911Z",
     "iopub.status.idle": "2020-10-27T13:18:58.465183Z",
     "shell.execute_reply": "2020-10-27T13:18:58.464271Z"
    }
   },
   "outputs": [
    {
     "data": {
      "text/plain": [
       "([<AxesSubplot:title={'center':'Run #4, Experiment tutorial_ParameterWithSetpoints (no sample)'}, xlabel='Freq Axis (Hz)', ylabel='Spectrum ($10^{-3}$ dBm)'>],\n",
       " [None])"
      ]
     },
     "execution_count": 1,
     "metadata": {},
     "output_type": "execute_result"
    },
    {
     "data": {
      "image/png": "[encoded data removed]",
      "text/plain": [
       "<Figure size 432x288 with 1 Axes>"
      ]
     },
     "metadata": {
      "needs_background": "light"
     },
     "output_type": "display_data"
    }
   ],
   "source": [
    "plot_dataset(dataset)"
   ]
  },
  {
   "cell_type": "markdown",
   "metadata": {},
   "source": [
    "To reduce the amount of typing, if a `ParameterWithSetpoints` is given without its setpoints, the setpoints will be fetched automatically, ``get`` will be called on them, and the obtained data will be added to the results."
   ]
  },
  {
   "cell_type": "markdown",
   "metadata": {},
   "source": [
    "Note that it is an error to supply values for some but not all of the setpoints."
   ]
  },
  {
   "cell_type": "markdown",
   "metadata": {},
   "source": [
    "## Measure a ParameterWithSetpoints while sweeping another parameter"
   ]
  },
  {
   "cell_type": "markdown",
   "metadata": {},
   "source": [
    "First we add another parameter. This parameter will just serve the example of having something to sweep \n",
    "that is not directly connected to the spectrum."
   ]
  },
  {
   "cell_type": "code",
   "execution_count": 20,
   "metadata": {
    "execution": {
     "iopub.execute_input": "2020-10-27T13:18:58.469581Z",
     "iopub.status.busy": "2020-10-27T13:18:58.468973Z",
     "iopub.status.idle": "2020-10-27T13:18:58.472695Z",
     "shell.execute_reply": "2020-10-27T13:18:58.472225Z"
    }
   },
   "outputs": [],
   "source": [
    "a.add_parameter('external_param', set_cmd=None)"
   ]
  },
  {
   "cell_type": "markdown",
   "metadata": {},
   "source": [
    "Now we can sweep the external parameter and measure the parameter with setpoints at each step."
   ]
  },
  {
   "cell_type": "code",
   "execution_count": 21,
   "metadata": {
    "execution": {
     "iopub.execute_input": "2020-10-27T13:18:58.478849Z",
     "iopub.status.busy": "2020-10-27T13:18:58.478266Z",
     "iopub.status.idle": "2020-10-27T13:18:58.755644Z",
     "shell.execute_reply": "2020-10-27T13:18:58.756202Z"
    },
    "scrolled": false
   },
   "outputs": [
    {
     "name": "stdout",
     "output_type": "stream",
     "text": [
      "Starting experimental run with id: 5. \n"
     ]
    },
    {
     "data": {
      "text/plain": [
       "([<AxesSubplot:title={'center':'Run #5, Experiment tutorial_ParameterWithSetpoints (no sample)'}, xlabel='external_param', ylabel='Freq Axis (Hz)'>],\n",
       " [<matplotlib.colorbar.Colorbar at 0x7f6e5bf66790>])"
      ]
     },
     "execution_count": 1,
     "metadata": {},
     "output_type": "execute_result"
    },
    {
     "data": {
      "image/png": "[encoded data removed]",
      "text/plain": [
       "<Figure size 432x288 with 2 Axes>"
      ]
     },
     "metadata": {
      "needs_background": "light"
     },
     "output_type": "display_data"
    }
   ],
   "source": [
    "meas = Measurement()\n",
    "meas.register_parameter(a.external_param)\n",
    "meas.register_parameter(a.spectrum, setpoints=(a.external_param, ))\n",
    "\n",
    "with meas.run() as datasaver:\n",
    "    for b in np.linspace(0,10, 11):\n",
    "        a.external_param(b)\n",
    "        datasaver.add_result(\n",
    "            (a.external_param, b),\n",
    "            (a.spectrum, a.spectrum.get())\n",
    "        )\n",
    "    dataid = datasaver.run_id\n",
    "\n",
    "plot_dataset(datasaver.dataset)"
   ]
  }
 ],
 "metadata": {
  "kernelspec": {
   "display_name": "Python 3",
   "language": "python",
   "name": "python3"
  },
  "language_info": {
   "codemirror_mode": {
    "name": "ipython",
    "version": 3
   },
   "file_extension": ".py",
   "mimetype": "text/x-python",
   "name": "python",
   "nbconvert_exporter": "python",
   "pygments_lexer": "ipython3",
   "version": "3.7.7"
  },
  "toc": {
   "base_numbering": 1,
   "nav_menu": {},
   "number_sections": true,
   "sideBar": true,
   "skip_h1_title": false,
   "title_cell": "Table of Contents",
   "title_sidebar": "Contents",
   "toc_cell": false,
   "toc_position": {},
   "toc_section_display": true,
   "toc_window_display": false
  },
  "varInspector": {
   "cols": {
    "lenName": 16,
    "lenType": 16,
    "lenVar": 40
   },
   "kernels_config": {
    "python": {
     "delete_cmd_postfix": "",
     "delete_cmd_prefix": "del ",
     "library": "var_list.py",
     "varRefreshCmd": "print(var_dic_list())"
    },
    "r": {
     "delete_cmd_postfix": ") ",
     "delete_cmd_prefix": "rm(",
     "library": "var_list.r",
     "varRefreshCmd": "cat(var_dic_list()) "
    }
   },
   "types_to_exclude": [
    "module",
    "function",
    "builtin_function_or_method",
    "instance",
    "_Feature"
   ],
   "window_display": false
  }
 },
 "nbformat": 4,
 "nbformat_minor": 2
}
