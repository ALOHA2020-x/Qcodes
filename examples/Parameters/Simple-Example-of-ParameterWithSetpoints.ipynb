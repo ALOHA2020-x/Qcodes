{
 "cells": [
  {
   "cell_type": "markdown",
   "metadata": {},
   "source": [
    "# Simple Example of ParameterWithSetpoints\n",
    "This notebook provides an example for writing a simple driver with a parameter that has setpoints. Let's name this parameter that has setpoints as \"y\". Then, the setpoints, say \"x1, x2, x3 ..\", are the parameters on which the parameter \n",
    "\"y\" depends upon. Meaning \"y\" is a function of \"x1, x2, x3 ...\" where \"x1, x2, x3 ...\" are known as the setpoints of parameter \"y\".\n",
    "\n",
    "This is most likely to be useful for instruments that return arrays of results. In this notebook, we will show an example of this."
   ]
  },
  {
   "cell_type": "code",
   "execution_count": 1,
   "metadata": {},
   "outputs": [],
   "source": [
    "import numpy as np\n",
    "import os"
   ]
  },
  {
   "cell_type": "code",
   "execution_count": 2,
   "metadata": {},
   "outputs": [
    {
     "name": "stdout",
     "output_type": "stream",
     "text": [
      "Logging hadn't been started.\n",
      "Activating auto-logging. Current session state plus future input saved.\n",
      "Filename       : /home/vsts/.qcodes/logs/command_history.log\n",
      "Mode           : append\n",
      "Output logging : True\n",
      "Raw input log  : False\n",
      "Timestamping   : True\n",
      "State          : active\n"
     ]
    },
    {
     "name": "stdout",
     "output_type": "stream",
     "text": [
      "Qcodes Logfile : /home/vsts/.qcodes/logs/200504-21755-qcodes.log\n"
     ]
    }
   ],
   "source": [
    "from qcodes.dataset.plotting import plot_dataset\n",
    "from qcodes.utils.validators import Numbers, Arrays\n",
    "from qcodes.instrument.base import Instrument\n",
    "from qcodes.dataset.measurements import Measurement"
   ]
  },
  {
   "cell_type": "code",
   "execution_count": 3,
   "metadata": {},
   "outputs": [],
   "source": [
    "from qcodes.dataset.sqlite.database import initialise_or_create_database_at\n",
    "from qcodes.dataset.experiment_container import load_or_create_experiment"
   ]
  },
  {
   "cell_type": "code",
   "execution_count": 4,
   "metadata": {},
   "outputs": [],
   "source": [
    "from qcodes.instrument.parameter import ParameterWithSetpoints, Parameter\n",
    "from qcodes.instrument.parameter import expand_setpoints_helper"
   ]
  },
  {
   "cell_type": "markdown",
   "metadata": {},
   "source": [
    "First, we define a dummy instrument that returns something like a frequency spectrum starting from a frequency given by `f_start` to a frequency given by `f_stop` in `n_points` steps. \n",
    "\n",
    "The extra functionality of the `ParameterWithSetpoints` is implemented by giving it a reference to one or more parameters that acts like its setpoints. \n",
    "\n",
    "To setup a `ParameterWithSetpoints` we have to do two things in addition to what we do for a normal parameter.\n",
    "\n",
    "* Define one or more parameter for the setpoints (one for each dimension of the array and let the `ParameterWithSetpoints` know that these are the setpoints.\n",
    "* Give both the setpoints parameter(s) and the `ParameterWithSetpoints` a `validator` of type `Arrays` with a shape. The shapes should be such that the combined shape of the setpoints matches the shape of the `ParameterWithSetpoints`. Note that if the shape changes with the setting of the instrument, it can be defined by another parameter as shown below. "
   ]
  },
  {
   "cell_type": "code",
   "execution_count": 5,
   "metadata": {},
   "outputs": [],
   "source": [
    "class GeneratedSetPoints(Parameter):\n",
    "    \"\"\"\n",
    "    A parameter that generates a setpoint array from start, stop and num points\n",
    "    parameters.\n",
    "    \"\"\"\n",
    "    def __init__(self, startparam, stopparam, numpointsparam, *args, **kwargs):\n",
    "        super().__init__(*args, **kwargs)\n",
    "        self._startparam = startparam\n",
    "        self._stopparam = stopparam\n",
    "        self._numpointsparam = numpointsparam\n",
    "\n",
    "    def get_raw(self):\n",
    "        return np.linspace(self._startparam(), self._stopparam(),\n",
    "                              self._numpointsparam())\n",
    "\n",
    "class DummyArray(ParameterWithSetpoints):\n",
    "    \n",
    "    def get_raw(self):\n",
    "        npoints = self.root_instrument.n_points.get_latest()\n",
    "        return np.random.rand(npoints)\n",
    "    \n",
    "\n",
    "class DummySpectrumAnalyzer(Instrument):\n",
    "    \n",
    "    def __init__(self, name, **kwargs):\n",
    "        \n",
    "        super().__init__(name, **kwargs)\n",
    "            \n",
    "\n",
    "        self.add_parameter('f_start',\n",
    "                           initial_value=0,\n",
    "                           unit='Hz',\n",
    "                           label='f start',\n",
    "                           vals=Numbers(0,1e3),\n",
    "                           get_cmd=None,\n",
    "                           set_cmd=None)\n",
    "\n",
    "        self.add_parameter('f_stop',\n",
    "                           unit='Hz',\n",
    "                           label='f stop',\n",
    "                           vals=Numbers(1,1e3),\n",
    "                           get_cmd=None,\n",
    "                           set_cmd=None)\n",
    "\n",
    "        self.add_parameter('n_points',\n",
    "                           unit='',\n",
    "                           initial_value=10,\n",
    "                           vals=Numbers(1,1e3),\n",
    "                           get_cmd=None,\n",
    "                           set_cmd=None)\n",
    "        \n",
    "        self.add_parameter('freq_axis',\n",
    "                           unit='Hz',\n",
    "                           label='Freq Axis',\n",
    "                           parameter_class=GeneratedSetPoints,\n",
    "                           startparam=self.f_start,\n",
    "                           stopparam=self.f_stop,\n",
    "                           numpointsparam=self.n_points,\n",
    "                           vals=Arrays(shape=(self.n_points.get_latest,)))\n",
    "                           \n",
    "        self.add_parameter('spectrum',\n",
    "                   unit='dBm',\n",
    "                   setpoints=(self.freq_axis,),\n",
    "                   label='Spectrum',\n",
    "                   parameter_class=DummyArray,\n",
    "                   vals=Arrays(shape=(self.n_points.get_latest,)))\n",
    "                "
   ]
  },
  {
   "cell_type": "markdown",
   "metadata": {},
   "source": [
    "In the above example, the shape is defined by the parameter `n_points` that defines how many samples our `DummySpectrumAnalyzer` returns.\n",
    "\n",
    "This means that the validation will call the function to get `n_points` twice for each `get` of the parameter. This may be too slow, however, if you (as the driver-writer) can guarantee that the cached value for `n_points` will never be out of sync with the value stored in the instrument, `n_points` may be replaced by it's latest known value such that the `validator` reads:\n",
    "```python\n",
    "vals=Arrays(shape=(self.n_points.get_latest))\n",
    "```\n",
    "\n",
    "This avoids any additional call to the instrument. In the same way, the arguments to the `freq_axis` parameter that defines the start, stop and number of points can be replaced by their latest value if the instrument allows it.\n",
    "\n"
   ]
  },
  {
   "cell_type": "code",
   "execution_count": 6,
   "metadata": {},
   "outputs": [
    {
     "name": "stdout",
     "output_type": "stream",
     "text": [
      "\r",
      "0it [00:00, ?it/s]"
     ]
    },
    {
     "name": "stdout",
     "output_type": "stream",
     "text": [
      "\r",
      "Upgrading database; v0 -> v1: : 0it [00:00, ?it/s]"
     ]
    },
    {
     "name": "stdout",
     "output_type": "stream",
     "text": [
      "\r",
      "Upgrading database; v0 -> v1: : 0it [00:00, ?it/s]"
     ]
    },
    {
     "name": "stdout",
     "output_type": "stream",
     "text": [
      "\n",
      "\r",
      "  0%|          | 0/1 [00:00<?, ?it/s]"
     ]
    },
    {
     "name": "stdout",
     "output_type": "stream",
     "text": [
      "\r",
      "Upgrading database; v1 -> v2:   0%|          | 0/1 [00:00<?, ?it/s]"
     ]
    },
    {
     "name": "stdout",
     "output_type": "stream",
     "text": [
      "\r",
      "Upgrading database; v1 -> v2: 100%|██████████| 1/1 [00:00<00:00, 883.57it/s]"
     ]
    },
    {
     "name": "stdout",
     "output_type": "stream",
     "text": [
      "\n",
      "\r",
      "0it [00:00, ?it/s]"
     ]
    },
    {
     "name": "stdout",
     "output_type": "stream",
     "text": [
      "\r",
      "Upgrading database; v2 -> v3: : 0it [00:00, ?it/s]"
     ]
    },
    {
     "name": "stdout",
     "output_type": "stream",
     "text": [
      "\r",
      "Upgrading database; v2 -> v3: : 0it [00:00, ?it/s]"
     ]
    },
    {
     "name": "stdout",
     "output_type": "stream",
     "text": [
      "\n",
      "\r",
      "0it [00:00, ?it/s]"
     ]
    },
    {
     "name": "stdout",
     "output_type": "stream",
     "text": [
      "\r",
      "Upgrading database; v3 -> v4: : 0it [00:00, ?it/s]"
     ]
    },
    {
     "name": "stdout",
     "output_type": "stream",
     "text": [
      "\r",
      "Upgrading database; v3 -> v4: : 0it [00:00, ?it/s]"
     ]
    },
    {
     "name": "stdout",
     "output_type": "stream",
     "text": [
      "\n",
      "\r",
      "  0%|          | 0/1 [00:00<?, ?it/s]"
     ]
    },
    {
     "name": "stdout",
     "output_type": "stream",
     "text": [
      "\r",
      "Upgrading database; v4 -> v5:   0%|          | 0/1 [00:00<?, ?it/s]"
     ]
    },
    {
     "name": "stdout",
     "output_type": "stream",
     "text": [
      "\r",
      "Upgrading database; v4 -> v5: 100%|██████████| 1/1 [00:00<00:00, 897.56it/s]"
     ]
    },
    {
     "name": "stdout",
     "output_type": "stream",
     "text": [
      "\n",
      "\r",
      "0it [00:00, ?it/s]"
     ]
    },
    {
     "name": "stdout",
     "output_type": "stream",
     "text": [
      "\r",
      "Upgrading database; v5 -> v6: : 0it [00:00, ?it/s]"
     ]
    },
    {
     "name": "stdout",
     "output_type": "stream",
     "text": [
      "\r",
      "Upgrading database; v5 -> v6: : 0it [00:00, ?it/s]"
     ]
    },
    {
     "name": "stdout",
     "output_type": "stream",
     "text": [
      "\n",
      "\r",
      "  0%|          | 0/1 [00:00<?, ?it/s]"
     ]
    },
    {
     "name": "stdout",
     "output_type": "stream",
     "text": [
      "\r",
      "Upgrading database; v6 -> v7:   0%|          | 0/1 [00:00<?, ?it/s]"
     ]
    },
    {
     "name": "stdout",
     "output_type": "stream",
     "text": [
      "\r",
      "Upgrading database; v6 -> v7: 100%|██████████| 1/1 [00:00<00:00, 250.86it/s]"
     ]
    },
    {
     "name": "stdout",
     "output_type": "stream",
     "text": [
      "\n",
      "\r",
      "  0%|          | 0/1 [00:00<?, ?it/s]"
     ]
    },
    {
     "name": "stdout",
     "output_type": "stream",
     "text": [
      "\r",
      "Upgrading database; v7 -> v8:   0%|          | 0/1 [00:00<?, ?it/s]"
     ]
    },
    {
     "name": "stdout",
     "output_type": "stream",
     "text": [
      "\r",
      "Upgrading database; v7 -> v8: 100%|██████████| 1/1 [00:00<00:00, 1020.76it/s]"
     ]
    },
    {
     "name": "stdout",
     "output_type": "stream",
     "text": [
      "\n",
      "\r",
      "  0%|          | 0/1 [00:00<?, ?it/s]"
     ]
    },
    {
     "name": "stdout",
     "output_type": "stream",
     "text": [
      "\r",
      "Upgrading database; v8 -> v9:   0%|          | 0/1 [00:00<?, ?it/s]"
     ]
    },
    {
     "name": "stdout",
     "output_type": "stream",
     "text": [
      "\r",
      "Upgrading database; v8 -> v9: 100%|██████████| 1/1 [00:00<00:00, 545.92it/s]"
     ]
    },
    {
     "name": "stdout",
     "output_type": "stream",
     "text": [
      "\n"
     ]
    },
    {
     "data": {
      "text/plain": [
       "tutorial_ParameterWithSetpoints#no sample#1@/home/vsts/work/1/s/docs/examples/Parameters/tutorial_paramter_with_setpoints.db\n",
       "----------------------------------------------------------------------------------------------------------------------------"
      ]
     },
     "execution_count": 6,
     "metadata": {},
     "output_type": "execute_result"
    }
   ],
   "source": [
    "tutorial_db_path = os.path.join(os.getcwd(), 'tutorial_paramter_with_setpoints.db')\n",
    "initialise_or_create_database_at(tutorial_db_path)\n",
    "load_or_create_experiment(experiment_name='tutorial_ParameterWithSetpoints', sample_name=\"no sample\")"
   ]
  },
  {
   "cell_type": "code",
   "execution_count": 7,
   "metadata": {},
   "outputs": [],
   "source": [
    "a = DummySpectrumAnalyzer('foobar')"
   ]
  },
  {
   "cell_type": "markdown",
   "metadata": {},
   "source": [
    "First we setup the limits of the spectrum"
   ]
  },
  {
   "cell_type": "code",
   "execution_count": 8,
   "metadata": {},
   "outputs": [],
   "source": [
    "a.f_start(0)\n",
    "a.f_stop(500)\n",
    "a.n_points(501)"
   ]
  },
  {
   "cell_type": "markdown",
   "metadata": {},
   "source": [
    "And we can grab the frequency axis"
   ]
  },
  {
   "cell_type": "code",
   "execution_count": 9,
   "metadata": {},
   "outputs": [
    {
     "data": {
      "text/plain": [
       "501"
      ]
     },
     "execution_count": 9,
     "metadata": {},
     "output_type": "execute_result"
    }
   ],
   "source": [
    "a.n_points()"
   ]
  },
  {
   "cell_type": "code",
   "execution_count": 10,
   "metadata": {
    "scrolled": false
   },
   "outputs": [
    {
     "data": {
      "text/plain": [
       "501"
      ]
     },
     "execution_count": 10,
     "metadata": {},
     "output_type": "execute_result"
    }
   ],
   "source": [
    "freq_axis = a.freq_axis()\n",
    "len(freq_axis)"
   ]
  },
  {
   "cell_type": "code",
   "execution_count": 11,
   "metadata": {},
   "outputs": [
    {
     "data": {
      "text/plain": [
       "array([0., 1., 2., 3., 4., 5., 6., 7., 8., 9.])"
      ]
     },
     "execution_count": 11,
     "metadata": {},
     "output_type": "execute_result"
    }
   ],
   "source": [
    "freq_axis[:10]"
   ]
  },
  {
   "cell_type": "markdown",
   "metadata": {},
   "source": [
    "As expected we get a result wit 501 points as we asked for an axis with 501 points. "
   ]
  },
  {
   "cell_type": "markdown",
   "metadata": {},
   "source": [
    "Above we have added a validator to the `freq_axis` parameter encoding the fact that this is an Array with `n_points`. Note that we do not have to supply the number of points as an integer but can supply a function that returns the valid number of points. This would normally be a QCoDeS parameter.\n",
    "\n",
    "This will be checked if we validate the output."
   ]
  },
  {
   "cell_type": "code",
   "execution_count": 12,
   "metadata": {},
   "outputs": [],
   "source": [
    "a.freq_axis.validate(a.freq_axis.get())"
   ]
  },
  {
   "cell_type": "markdown",
   "metadata": {},
   "source": [
    "Naturally, we can also get the spectrum. Getting the spectrum will automatically perform validation both for the shape of the parameter itself and the relation to the setpoint parameter(s)"
   ]
  },
  {
   "cell_type": "code",
   "execution_count": 13,
   "metadata": {
    "scrolled": true
   },
   "outputs": [
    {
     "data": {
      "text/plain": [
       "501"
      ]
     },
     "execution_count": 13,
     "metadata": {},
     "output_type": "execute_result"
    }
   ],
   "source": [
    "spectrum = a.spectrum.get()\n",
    "len(spectrum)"
   ]
  },
  {
   "cell_type": "markdown",
   "metadata": {},
   "source": [
    "When we validate a `ParameterWithSetpoints`, we automatically validate that the shape is consistent between the parameters and its setpoints. As well as validating the shape as above."
   ]
  },
  {
   "cell_type": "code",
   "execution_count": 14,
   "metadata": {},
   "outputs": [],
   "source": [
    "a.spectrum.validate(a.spectrum.get())"
   ]
  },
  {
   "cell_type": "markdown",
   "metadata": {},
   "source": [
    "The consistent shapes can be validated explicitly."
   ]
  },
  {
   "cell_type": "code",
   "execution_count": 15,
   "metadata": {},
   "outputs": [],
   "source": [
    "a.spectrum.validate_consistent_shape()"
   ]
  },
  {
   "cell_type": "markdown",
   "metadata": {},
   "source": [
    "We can inspect the setpoints of the spectrum."
   ]
  },
  {
   "cell_type": "code",
   "execution_count": 16,
   "metadata": {},
   "outputs": [
    {
     "data": {
      "text/plain": [
       "(<__main__.GeneratedSetPoints: freq_axis at 139926171258640>,)"
      ]
     },
     "execution_count": 16,
     "metadata": {},
     "output_type": "execute_result"
    }
   ],
   "source": [
    "a.spectrum.setpoints"
   ]
  },
  {
   "cell_type": "markdown",
   "metadata": {},
   "source": [
    "Or even change them."
   ]
  },
  {
   "cell_type": "code",
   "execution_count": 17,
   "metadata": {},
   "outputs": [],
   "source": [
    "a.spectrum.setpoints = (a.freq_axis,)"
   ]
  },
  {
   "cell_type": "markdown",
   "metadata": {},
   "source": [
    "## Measurement"
   ]
  },
  {
   "cell_type": "markdown",
   "metadata": {},
   "source": [
    "We can also directly consume the parameter in a measurement without defining the setpoints of the parameter again. The setpoints are automatically obtained from the definition of the `ParameterWithSetpoint` instance. "
   ]
  },
  {
   "cell_type": "code",
   "execution_count": 18,
   "metadata": {},
   "outputs": [
    {
     "name": "stdout",
     "output_type": "stream",
     "text": [
      "Starting experimental run with id: 1. \n"
     ]
    }
   ],
   "source": [
    "meas = Measurement()\n",
    "meas.register_parameter(a.spectrum)\n",
    "\n",
    "with meas.run() as datasaver:\n",
    "    datasaver.add_result((a.freq_axis, a.freq_axis()),\n",
    "                         (a.spectrum, a.spectrum()))\n",
    "    dataset = datasaver.dataset"
   ]
  },
  {
   "cell_type": "markdown",
   "metadata": {},
   "source": [
    "And plot it"
   ]
  },
  {
   "cell_type": "code",
   "execution_count": 19,
   "metadata": {},
   "outputs": [
    {
     "data": {
      "text/plain": [
       "([<matplotlib.axes._subplots.AxesSubplot at 0x7f4319b68250>], [None])"
      ]
     },
     "execution_count": 19,
     "metadata": {},
     "output_type": "execute_result"
    },
    {
     "data": {
      "image/png": "[encoded data removed]",
      "text/plain": [
       "<Figure size 432x288 with 1 Axes>"
      ]
     },
     "metadata": {
      "needs_background": "light"
     },
     "output_type": "display_data"
    }
   ],
   "source": [
    "plot_dataset(dataset)"
   ]
  },
  {
   "cell_type": "markdown",
   "metadata": {},
   "source": [
    "To reduce the amount of typing a simple convenience function is provided that will take a `ParameterWithSetpoints` and get both its values and the setpoints values and return them as tuples for direct insertion into the Dataset."
   ]
  },
  {
   "cell_type": "code",
   "execution_count": 20,
   "metadata": {
    "scrolled": true
   },
   "outputs": [
    {
     "data": {
      "text/plain": [
       "[(<__main__.GeneratedSetPoints: freq_axis at 139926171258640>,\n",
       "  array([  0.,   1.,   2.,   3.,   4.,   5.,   6.,   7.,   8.,   9.,  10.,\n",
       "          11.,  12.,  13.,  14.,  15.,  16.,  17.,  18.,  19.,  20.,  21.,\n",
       "          22.,  23.,  24.,  25.,  26.,  27.,  28.,  29.,  30.,  31.,  32.,\n",
       "          33.,  34.,  35.,  36.,  37.,  38.,  39.,  40.,  41.,  42.,  43.,\n",
       "          44.,  45.,  46.,  47.,  48.,  49.,  50.,  51.,  52.,  53.,  54.,\n",
       "          55.,  56.,  57.,  58.,  59.,  60.,  61.,  62.,  63.,  64.,  65.,\n",
       "          66.,  67.,  68.,  69.,  70.,  71.,  72.,  73.,  74.,  75.,  76.,\n",
       "          77.,  78.,  79.,  80.,  81.,  82.,  83.,  84.,  85.,  86.,  87.,\n",
       "          88.,  89.,  90.,  91.,  92.,  93.,  94.,  95.,  96.,  97.,  98.,\n",
       "          99., 100., 101., 102., 103., 104., 105., 106., 107., 108., 109.,\n",
       "         110., 111., 112., 113., 114., 115., 116., 117., 118., 119., 120.,\n",
       "         121., 122., 123., 124., 125., 126., 127., 128., 129., 130., 131.,\n",
       "         132., 133., 134., 135., 136., 137., 138., 139., 140., 141., 142.,\n",
       "         143., 144., 145., 146., 147., 148., 149., 150., 151., 152., 153.,\n",
       "         154., 155., 156., 157., 158., 159., 160., 161., 162., 163., 164.,\n",
       "         165., 166., 167., 168., 169., 170., 171., 172., 173., 174., 175.,\n",
       "         176., 177., 178., 179., 180., 181., 182., 183., 184., 185., 186.,\n",
       "         187., 188., 189., 190., 191., 192., 193., 194., 195., 196., 197.,\n",
       "         198., 199., 200., 201., 202., 203., 204., 205., 206., 207., 208.,\n",
       "         209., 210., 211., 212., 213., 214., 215., 216., 217., 218., 219.,\n",
       "         220., 221., 222., 223., 224., 225., 226., 227., 228., 229., 230.,\n",
       "         231., 232., 233., 234., 235., 236., 237., 238., 239., 240., 241.,\n",
       "         242., 243., 244., 245., 246., 247., 248., 249., 250., 251., 252.,\n",
       "         253., 254., 255., 256., 257., 258., 259., 260., 261., 262., 263.,\n",
       "         264., 265., 266., 267., 268., 269., 270., 271., 272., 273., 274.,\n",
       "         275., 276., 277., 278., 279., 280., 281., 282., 283., 284., 285.,\n",
       "         286., 287., 288., 289., 290., 291., 292., 293., 294., 295., 296.,\n",
       "         297., 298., 299., 300., 301., 302., 303., 304., 305., 306., 307.,\n",
       "         308., 309., 310., 311., 312., 313., 314., 315., 316., 317., 318.,\n",
       "         319., 320., 321., 322., 323., 324., 325., 326., 327., 328., 329.,\n",
       "         330., 331., 332., 333., 334., 335., 336., 337., 338., 339., 340.,\n",
       "         341., 342., 343., 344., 345., 346., 347., 348., 349., 350., 351.,\n",
       "         352., 353., 354., 355., 356., 357., 358., 359., 360., 361., 362.,\n",
       "         363., 364., 365., 366., 367., 368., 369., 370., 371., 372., 373.,\n",
       "         374., 375., 376., 377., 378., 379., 380., 381., 382., 383., 384.,\n",
       "         385., 386., 387., 388., 389., 390., 391., 392., 393., 394., 395.,\n",
       "         396., 397., 398., 399., 400., 401., 402., 403., 404., 405., 406.,\n",
       "         407., 408., 409., 410., 411., 412., 413., 414., 415., 416., 417.,\n",
       "         418., 419., 420., 421., 422., 423., 424., 425., 426., 427., 428.,\n",
       "         429., 430., 431., 432., 433., 434., 435., 436., 437., 438., 439.,\n",
       "         440., 441., 442., 443., 444., 445., 446., 447., 448., 449., 450.,\n",
       "         451., 452., 453., 454., 455., 456., 457., 458., 459., 460., 461.,\n",
       "         462., 463., 464., 465., 466., 467., 468., 469., 470., 471., 472.,\n",
       "         473., 474., 475., 476., 477., 478., 479., 480., 481., 482., 483.,\n",
       "         484., 485., 486., 487., 488., 489., 490., 491., 492., 493., 494.,\n",
       "         495., 496., 497., 498., 499., 500.])),\n",
       " (<__main__.DummyArray: spectrum at 139926171258000>,\n",
       "  array([9.49947244e-01, 7.04259933e-01, 9.49451671e-02, 5.12187220e-01,\n",
       "         1.61818424e-02, 2.61204349e-02, 1.45899690e-01, 3.20223884e-01,\n",
       "         3.70247134e-01, 1.26485825e-01, 2.56348539e-03, 9.79436235e-01,\n",
       "         9.26516872e-02, 4.58401797e-01, 5.37584952e-01, 4.00532716e-01,\n",
       "         5.13611234e-01, 2.86505121e-01, 4.31733527e-01, 8.93761908e-01,\n",
       "         6.98932086e-01, 4.16822060e-01, 4.93679964e-01, 7.57153494e-01,\n",
       "         9.11700120e-01, 8.78897548e-01, 2.09300498e-01, 2.27717074e-01,\n",
       "         1.85142067e-01, 1.85476173e-01, 8.88741316e-01, 7.11436793e-01,\n",
       "         3.25991324e-01, 3.85433703e-01, 8.18169188e-01, 2.00521010e-01,\n",
       "         8.64562443e-01, 9.13263447e-01, 3.56155790e-01, 3.72396899e-01,\n",
       "         3.39467933e-01, 8.72902388e-01, 2.16323156e-01, 5.81434576e-01,\n",
       "         6.22315639e-01, 8.70793045e-01, 3.42125613e-01, 3.48852431e-01,\n",
       "         7.66298122e-01, 3.04060760e-02, 8.44177287e-01, 7.71284133e-01,\n",
       "         6.52482707e-01, 1.38388332e-01, 3.43932954e-01, 1.81149863e-01,\n",
       "         2.37452609e-01, 4.17853137e-01, 8.71863870e-01, 4.45071771e-01,\n",
       "         5.70059307e-01, 7.01249107e-01, 4.71206803e-01, 8.35751258e-02,\n",
       "         8.94145267e-01, 5.84361367e-01, 7.03077012e-01, 9.55777478e-01,\n",
       "         6.82936399e-01, 6.80028570e-01, 9.06422756e-01, 4.12261064e-01,\n",
       "         9.29321601e-01, 8.10885555e-01, 7.12477748e-01, 1.21595770e-01,\n",
       "         7.10458511e-01, 7.02062240e-01, 5.86855968e-01, 7.13848568e-01,\n",
       "         6.37997732e-01, 3.78369811e-01, 6.79047088e-01, 2.16786628e-01,\n",
       "         8.96882092e-01, 2.69451158e-01, 7.48675405e-01, 3.12881348e-01,\n",
       "         2.30222433e-01, 9.81013364e-01, 7.61220031e-01, 4.44792872e-01,\n",
       "         2.18366932e-01, 8.25621089e-01, 4.50031215e-01, 2.74866232e-02,\n",
       "         2.15199528e-01, 6.52623771e-01, 7.43351677e-01, 7.46889484e-01,\n",
       "         2.91522965e-01, 6.50388225e-01, 8.91903561e-04, 6.34542921e-01,\n",
       "         9.37508099e-01, 6.51858377e-01, 1.46439837e-01, 7.69688566e-01,\n",
       "         5.70632896e-02, 1.63385088e-01, 2.79334199e-01, 4.79299611e-02,\n",
       "         7.41627241e-01, 9.06001448e-01, 2.76035455e-01, 8.56398726e-01,\n",
       "         5.17948288e-01, 9.39212376e-01, 6.85396819e-02, 4.79615628e-01,\n",
       "         5.76283531e-01, 1.49886906e-01, 5.56838640e-01, 1.69870463e-02,\n",
       "         9.12034879e-01, 5.01795754e-01, 8.46446175e-01, 4.37655670e-01,\n",
       "         7.64928064e-01, 1.21849020e-01, 9.90981338e-01, 6.92852393e-01,\n",
       "         2.82596388e-01, 2.46615056e-01, 9.61640767e-01, 7.75476459e-01,\n",
       "         8.74548244e-01, 3.71951923e-01, 6.53987894e-01, 6.55342674e-02,\n",
       "         3.64296616e-01, 4.76583588e-02, 9.93719358e-01, 4.23843798e-01,\n",
       "         3.06572855e-02, 3.25362782e-02, 2.23301737e-01, 5.38194373e-02,\n",
       "         7.01748023e-01, 1.84122843e-01, 8.83714058e-01, 7.43848167e-01,\n",
       "         3.47026710e-01, 6.60069407e-01, 7.56358249e-01, 6.46768978e-01,\n",
       "         6.92868047e-01, 7.16642550e-01, 2.76188068e-01, 6.86348864e-02,\n",
       "         5.80886572e-01, 6.16684715e-01, 9.68178558e-01, 8.37023025e-01,\n",
       "         9.92209567e-01, 4.99470169e-01, 5.08093521e-01, 7.63360731e-01,\n",
       "         4.03706350e-01, 3.40902028e-01, 7.83828824e-02, 7.62919763e-01,\n",
       "         9.68545898e-01, 2.75973673e-01, 2.41400550e-01, 4.12227944e-01,\n",
       "         3.35635098e-01, 3.83605011e-01, 1.02520397e-01, 4.03807121e-01,\n",
       "         2.53142507e-01, 4.30335737e-01, 6.83614947e-01, 8.40571197e-01,\n",
       "         5.88606502e-01, 1.61405211e-01, 1.14131260e-01, 9.80320328e-01,\n",
       "         1.88735996e-01, 7.33231516e-01, 5.96684315e-01, 1.86754385e-01,\n",
       "         3.34946413e-02, 1.46597275e-01, 8.03204635e-01, 3.00801891e-01,\n",
       "         6.55746686e-01, 7.72087926e-01, 7.32188726e-01, 5.37330069e-01,\n",
       "         1.51596854e-01, 7.79840093e-01, 2.66065802e-01, 2.15619687e-01,\n",
       "         1.28389116e-01, 3.99852165e-01, 7.42575351e-01, 6.52144734e-01,\n",
       "         1.45196605e-01, 1.53627265e-01, 1.90270672e-01, 6.62011628e-01,\n",
       "         6.72436902e-01, 7.43278839e-01, 6.54297725e-01, 2.60947452e-01,\n",
       "         1.20379497e-01, 9.31010268e-01, 4.49513756e-01, 7.85366937e-01,\n",
       "         7.39979630e-01, 5.78130924e-01, 7.04528887e-01, 3.31083925e-01,\n",
       "         7.56167756e-01, 5.28711196e-02, 1.61150931e-01, 8.97642718e-01,\n",
       "         3.22682945e-01, 5.17806200e-01, 7.15654341e-01, 2.18049892e-01,\n",
       "         6.64476122e-01, 8.59156280e-01, 3.26424814e-01, 5.07948357e-01,\n",
       "         6.82719297e-01, 3.62332178e-02, 2.81748537e-01, 5.63280922e-01,\n",
       "         6.27368803e-01, 1.40811521e-03, 4.60802751e-01, 5.80100518e-01,\n",
       "         1.85531576e-01, 6.78719541e-01, 8.89948623e-01, 6.87290205e-01,\n",
       "         7.06108860e-01, 8.60654075e-03, 7.48440212e-01, 2.11336050e-01,\n",
       "         5.67195868e-01, 6.72223135e-01, 1.89291958e-01, 9.24386805e-01,\n",
       "         7.61269613e-01, 9.41809493e-02, 6.80141332e-01, 4.89945139e-01,\n",
       "         6.71710177e-01, 9.00500564e-01, 4.87431917e-01, 3.79515144e-01,\n",
       "         4.45081656e-01, 2.25132846e-01, 8.87290548e-01, 7.91802273e-01,\n",
       "         2.66031718e-02, 8.81049235e-01, 4.40798063e-01, 1.77826846e-01,\n",
       "         9.75479940e-02, 6.04282975e-01, 1.32787487e-01, 9.64269257e-01,\n",
       "         6.87437384e-01, 2.57052110e-01, 1.26744536e-01, 6.98579246e-02,\n",
       "         5.81774754e-01, 5.58834630e-01, 9.88367000e-01, 3.78645838e-01,\n",
       "         8.56337874e-01, 3.76218684e-02, 5.50033832e-01, 8.31829331e-01,\n",
       "         8.73484649e-01, 5.91841572e-02, 9.30541092e-01, 4.36552371e-01,\n",
       "         4.25981688e-01, 8.68079917e-01, 2.95618968e-01, 3.11479297e-01,\n",
       "         6.18644272e-01, 3.19175978e-01, 1.03103453e-01, 9.59085194e-01,\n",
       "         7.10369811e-01, 6.42606926e-01, 9.58210543e-01, 2.80142373e-01,\n",
       "         2.51191424e-01, 1.60559666e-01, 6.13069355e-01, 9.23485310e-01,\n",
       "         3.18937328e-01, 1.76546419e-01, 6.91379883e-01, 3.55668505e-01,\n",
       "         1.16327897e-01, 3.70806829e-01, 5.94419325e-01, 4.77200621e-01,\n",
       "         1.26903677e-02, 8.26591934e-01, 7.21106283e-01, 4.15999335e-02,\n",
       "         2.73752594e-01, 4.90922597e-01, 1.02277072e-01, 9.03255283e-01,\n",
       "         1.27408378e-01, 7.87168527e-01, 6.97526968e-01, 1.19632762e-01,\n",
       "         2.08863268e-02, 8.08281297e-01, 1.57963312e-01, 3.35856155e-02,\n",
       "         8.79667591e-01, 2.54724266e-03, 3.06485826e-01, 7.15416673e-01,\n",
       "         9.23309157e-01, 6.23504478e-02, 5.21613255e-01, 4.94050030e-02,\n",
       "         6.91172942e-02, 6.37600631e-01, 7.95092730e-01, 7.02820195e-01,\n",
       "         4.53871902e-01, 3.06797140e-01, 1.20980842e-01, 7.33498887e-01,\n",
       "         9.80799832e-01, 7.06352779e-01, 9.09964245e-01, 9.96964525e-01,\n",
       "         6.18511370e-01, 3.43759093e-01, 9.14547405e-02, 9.77362276e-01,\n",
       "         7.28287143e-01, 3.40789300e-01, 5.09892357e-01, 7.74611033e-01,\n",
       "         2.22652654e-01, 9.04838283e-01, 7.98511905e-01, 5.26103106e-01,\n",
       "         2.51435441e-01, 5.40434487e-01, 7.05022326e-01, 7.87155705e-01,\n",
       "         3.91678903e-01, 4.65406217e-01, 6.30900618e-01, 3.46380914e-01,\n",
       "         1.03381157e-01, 3.86388960e-01, 9.18138551e-01, 7.96787299e-01,\n",
       "         3.99524227e-02, 7.71186390e-01, 6.56081569e-01, 2.42483648e-01,\n",
       "         2.14808073e-01, 7.68448670e-01, 6.26098151e-02, 9.18521425e-01,\n",
       "         1.78301479e-01, 7.24891315e-01, 8.66704427e-01, 8.09369406e-01,\n",
       "         8.11193899e-01, 3.41323485e-02, 4.66541868e-01, 2.77354070e-01,\n",
       "         9.89079635e-01, 4.36705345e-01, 3.72938047e-01, 6.21316830e-01,\n",
       "         9.08723102e-01, 9.01679537e-01, 3.74520916e-01, 3.54878113e-01,\n",
       "         6.76694298e-01, 2.04934407e-01, 5.76113468e-01, 7.43492621e-01,\n",
       "         7.64925141e-01, 4.57012280e-04, 4.94968570e-01, 8.92607736e-01,\n",
       "         6.06651953e-01, 5.63741535e-01, 9.67438044e-01, 4.19282793e-01,\n",
       "         8.17005387e-02, 7.25112888e-01, 8.47338564e-01, 4.23840294e-01,\n",
       "         1.05357918e-01, 1.60663489e-01, 3.59284235e-01, 9.92128732e-01,\n",
       "         4.33669860e-01, 8.47433212e-01, 2.58570252e-01, 2.46227764e-01,\n",
       "         6.20538704e-01, 9.08662318e-01, 3.35510538e-01, 5.58617836e-02,\n",
       "         9.54999436e-02, 8.12695102e-01, 8.62210417e-01, 7.20746418e-01,\n",
       "         1.34191826e-01, 2.13276356e-01, 7.97781507e-01, 8.72838648e-01,\n",
       "         9.78769464e-01, 6.93666177e-01, 8.47100740e-01, 7.87236852e-01,\n",
       "         9.15636335e-01, 6.87881097e-01, 4.76682928e-01, 5.28693669e-01,\n",
       "         5.95967368e-01, 6.65486593e-01, 9.79292872e-02, 8.35559834e-01,\n",
       "         4.92927773e-01, 1.92589124e-01, 8.87134470e-01, 1.77186187e-01,\n",
       "         6.40792386e-01, 5.31302259e-01, 1.96047022e-02, 2.01063403e-01,\n",
       "         7.02433751e-02, 7.62297229e-01, 1.10764736e-01, 6.18652292e-01,\n",
       "         8.92260384e-01, 8.50672933e-01, 9.17797519e-01, 1.71974891e-01,\n",
       "         7.63293965e-01, 8.51169186e-01, 8.39764636e-01, 2.49900078e-01,\n",
       "         2.61156795e-01, 1.76701861e-01, 4.24630576e-01, 6.75953737e-01,\n",
       "         2.04403517e-01, 7.82724263e-01, 4.84296332e-01, 7.03032482e-01,\n",
       "         9.07681721e-01, 1.42496150e-01, 7.19638362e-01, 3.72313417e-01,\n",
       "         4.59460117e-01, 5.81523305e-01, 2.65320060e-01, 1.64129394e-01,\n",
       "         2.48591770e-01, 6.97208664e-01, 6.47949306e-01, 2.42021629e-01,\n",
       "         8.07171495e-01, 2.05552216e-01, 6.39285772e-01, 2.00995748e-01,\n",
       "         9.64642528e-02, 8.49330541e-01, 3.91630679e-01, 9.42116303e-01,\n",
       "         9.95898096e-01, 6.32504829e-02, 7.36726328e-02, 4.84931693e-02,\n",
       "         4.33424342e-01]))]"
      ]
     },
     "execution_count": 20,
     "metadata": {},
     "output_type": "execute_result"
    }
   ],
   "source": [
    "expand_setpoints_helper(a.spectrum)"
   ]
  },
  {
   "cell_type": "code",
   "execution_count": 21,
   "metadata": {},
   "outputs": [
    {
     "name": "stdout",
     "output_type": "stream",
     "text": [
      "Starting experimental run with id: 2. \n"
     ]
    }
   ],
   "source": [
    "meas = Measurement()\n",
    "meas.register_parameter(a.spectrum)\n",
    "\n",
    "with meas.run() as datasaver:\n",
    "    datasaver.add_result(*expand_setpoints_helper(a.spectrum))\n",
    "    \n",
    "    dataid = datasaver.run_id"
   ]
  },
  {
   "cell_type": "code",
   "execution_count": null,
   "metadata": {},
   "outputs": [],
   "source": []
  }
 ],
 "metadata": {
  "kernelspec": {
   "display_name": "Python 3",
   "language": "python",
   "name": "python3"
  },
  "language_info": {
   "codemirror_mode": {
    "name": "ipython",
    "version": 3
   },
   "file_extension": ".py",
   "mimetype": "text/x-python",
   "name": "python",
   "nbconvert_exporter": "python",
   "pygments_lexer": "ipython3",
   "version": "3.7.7"
  },
  "toc": {
   "base_numbering": 1,
   "nav_menu": {},
   "number_sections": true,
   "sideBar": true,
   "skip_h1_title": false,
   "title_cell": "Table of Contents",
   "title_sidebar": "Contents",
   "toc_cell": false,
   "toc_position": {},
   "toc_section_display": true,
   "toc_window_display": false
  },
  "varInspector": {
   "cols": {
    "lenName": 16,
    "lenType": 16,
    "lenVar": 40
   },
   "kernels_config": {
    "python": {
     "delete_cmd_postfix": "",
     "delete_cmd_prefix": "del ",
     "library": "var_list.py",
     "varRefreshCmd": "print(var_dic_list())"
    },
    "r": {
     "delete_cmd_postfix": ") ",
     "delete_cmd_prefix": "rm(",
     "library": "var_list.r",
     "varRefreshCmd": "cat(var_dic_list()) "
    }
   },
   "types_to_exclude": [
    "module",
    "function",
    "builtin_function_or_method",
    "instance",
    "_Feature"
   ],
   "window_display": false
  }
 },
 "nbformat": 4,
 "nbformat_minor": 2
}
