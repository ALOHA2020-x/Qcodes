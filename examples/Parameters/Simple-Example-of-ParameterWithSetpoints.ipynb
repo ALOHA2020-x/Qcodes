{
 "cells": [
  {
   "cell_type": "markdown",
   "metadata": {},
   "source": [
    "# Simple Example of ParameterWithSetpoints\n",
    "This notebook provides an example for writing a simple driver with a parameter that has setpoints. Let's name this parameter that has setpoints as \"y\". Then, the setpoints, say \"x1, x2, x3 ..\", are the parameters on which the parameter \n",
    "\"y\" depends upon. Meaning \"y\" is a function of \"x1, x2, x3 ...\" where \"x1, x2, x3 ...\" are known as the setpoints of parameter \"y\".\n",
    "\n",
    "This is most likely to be useful for instruments that return arrays of results. In this notebook, we will show an example of this."
   ]
  },
  {
   "cell_type": "code",
   "execution_count": 1,
   "metadata": {},
   "outputs": [],
   "source": [
    "import numpy as np\n",
    "import os"
   ]
  },
  {
   "cell_type": "code",
   "execution_count": 2,
   "metadata": {},
   "outputs": [
    {
     "name": "stdout",
     "output_type": "stream",
     "text": [
      "Logging hadn't been started.\n",
      "Activating auto-logging. Current session state plus future input saved.\n",
      "Filename       : /home/vsts/.qcodes/logs/command_history.log\n",
      "Mode           : append\n",
      "Output logging : True\n",
      "Raw input log  : False\n",
      "Timestamping   : True\n",
      "State          : active\n"
     ]
    },
    {
     "name": "stdout",
     "output_type": "stream",
     "text": [
      "Qcodes Logfile : /home/vsts/.qcodes/logs/200909-22820-qcodes.log\n"
     ]
    }
   ],
   "source": [
    "from qcodes.dataset.plotting import plot_dataset\n",
    "from qcodes.utils.validators import Numbers, Arrays\n",
    "from qcodes.instrument.base import Instrument\n",
    "from qcodes.dataset.measurements import Measurement"
   ]
  },
  {
   "cell_type": "code",
   "execution_count": 3,
   "metadata": {},
   "outputs": [],
   "source": [
    "from qcodes.dataset.sqlite.database import initialise_or_create_database_at\n",
    "from qcodes.dataset.experiment_container import load_or_create_experiment"
   ]
  },
  {
   "cell_type": "code",
   "execution_count": 4,
   "metadata": {},
   "outputs": [],
   "source": [
    "from qcodes.instrument.parameter import ParameterWithSetpoints, Parameter\n",
    "from qcodes.instrument.parameter import expand_setpoints_helper"
   ]
  },
  {
   "cell_type": "markdown",
   "metadata": {},
   "source": [
    "First, we define a dummy instrument that returns something like a frequency spectrum starting from a frequency given by `f_start` to a frequency given by `f_stop` in `n_points` steps. \n",
    "\n",
    "The extra functionality of the `ParameterWithSetpoints` is implemented by giving it a reference to one or more parameters that acts like its setpoints. \n",
    "\n",
    "To setup a `ParameterWithSetpoints` we have to do two things in addition to what we do for a normal parameter.\n",
    "\n",
    "* Define one or more parameter for the setpoints (one for each dimension of the array and let the `ParameterWithSetpoints` know that these are the setpoints.\n",
    "* Give both the setpoints parameter(s) and the `ParameterWithSetpoints` a `validator` of type `Arrays` with a shape. The shapes should be such that the combined shape of the setpoints matches the shape of the `ParameterWithSetpoints`. Note that if the shape changes with the setting of the instrument, it can be defined by another parameter as shown below. "
   ]
  },
  {
   "cell_type": "code",
   "execution_count": 5,
   "metadata": {},
   "outputs": [],
   "source": [
    "class GeneratedSetPoints(Parameter):\n",
    "    \"\"\"\n",
    "    A parameter that generates a setpoint array from start, stop and num points\n",
    "    parameters.\n",
    "    \"\"\"\n",
    "    def __init__(self, startparam, stopparam, numpointsparam, *args, **kwargs):\n",
    "        super().__init__(*args, **kwargs)\n",
    "        self._startparam = startparam\n",
    "        self._stopparam = stopparam\n",
    "        self._numpointsparam = numpointsparam\n",
    "\n",
    "    def get_raw(self):\n",
    "        return np.linspace(self._startparam(), self._stopparam(),\n",
    "                              self._numpointsparam())\n",
    "\n",
    "class DummyArray(ParameterWithSetpoints):\n",
    "    \n",
    "    def get_raw(self):\n",
    "        npoints = self.root_instrument.n_points.get_latest()\n",
    "        return np.random.rand(npoints)\n",
    "    \n",
    "\n",
    "class DummySpectrumAnalyzer(Instrument):\n",
    "    \n",
    "    def __init__(self, name, **kwargs):\n",
    "        \n",
    "        super().__init__(name, **kwargs)\n",
    "            \n",
    "\n",
    "        self.add_parameter('f_start',\n",
    "                           initial_value=0,\n",
    "                           unit='Hz',\n",
    "                           label='f start',\n",
    "                           vals=Numbers(0,1e3),\n",
    "                           get_cmd=None,\n",
    "                           set_cmd=None)\n",
    "\n",
    "        self.add_parameter('f_stop',\n",
    "                           unit='Hz',\n",
    "                           label='f stop',\n",
    "                           vals=Numbers(1,1e3),\n",
    "                           get_cmd=None,\n",
    "                           set_cmd=None)\n",
    "\n",
    "        self.add_parameter('n_points',\n",
    "                           unit='',\n",
    "                           initial_value=10,\n",
    "                           vals=Numbers(1,1e3),\n",
    "                           get_cmd=None,\n",
    "                           set_cmd=None)\n",
    "        \n",
    "        self.add_parameter('freq_axis',\n",
    "                           unit='Hz',\n",
    "                           label='Freq Axis',\n",
    "                           parameter_class=GeneratedSetPoints,\n",
    "                           startparam=self.f_start,\n",
    "                           stopparam=self.f_stop,\n",
    "                           numpointsparam=self.n_points,\n",
    "                           vals=Arrays(shape=(self.n_points.get_latest,)))\n",
    "                           \n",
    "        self.add_parameter('spectrum',\n",
    "                   unit='dBm',\n",
    "                   setpoints=(self.freq_axis,),\n",
    "                   label='Spectrum',\n",
    "                   parameter_class=DummyArray,\n",
    "                   vals=Arrays(shape=(self.n_points.get_latest,)))\n",
    "                "
   ]
  },
  {
   "cell_type": "markdown",
   "metadata": {},
   "source": [
    "In the above example, the shape is defined by the parameter `n_points` that defines how many samples our `DummySpectrumAnalyzer` returns.\n",
    "\n",
    "This means that the validation will call the function to get `n_points` twice for each `get` of the parameter. This may be too slow, however, if you (as the driver-writer) can guarantee that the cached value for `n_points` will never be out of sync with the value stored in the instrument, `n_points` may be replaced by it's latest known value such that the `validator` reads:\n",
    "```python\n",
    "vals=Arrays(shape=(self.n_points.get_latest))\n",
    "```\n",
    "\n",
    "This avoids any additional call to the instrument. In the same way, the arguments to the `freq_axis` parameter that defines the start, stop and number of points can be replaced by their latest value if the instrument allows it.\n",
    "\n"
   ]
  },
  {
   "cell_type": "code",
   "execution_count": 6,
   "metadata": {},
   "outputs": [
    {
     "name": "stdout",
     "output_type": "stream",
     "text": [
      "\r",
      "0it [00:00, ?it/s]"
     ]
    },
    {
     "name": "stdout",
     "output_type": "stream",
     "text": [
      "\r",
      "Upgrading database; v0 -> v1: : 0it [00:00, ?it/s]"
     ]
    },
    {
     "name": "stdout",
     "output_type": "stream",
     "text": [
      "\r",
      "Upgrading database; v0 -> v1: : 0it [00:00, ?it/s]"
     ]
    },
    {
     "name": "stdout",
     "output_type": "stream",
     "text": [
      "\n",
      "\r",
      "  0%|          | 0/1 [00:00<?, ?it/s]"
     ]
    },
    {
     "name": "stdout",
     "output_type": "stream",
     "text": [
      "\r",
      "Upgrading database; v1 -> v2:   0%|          | 0/1 [00:00<?, ?it/s]"
     ]
    },
    {
     "name": "stdout",
     "output_type": "stream",
     "text": [
      "\r",
      "Upgrading database; v1 -> v2: 100%|██████████| 1/1 [00:00<00:00, 710.66it/s]"
     ]
    },
    {
     "name": "stdout",
     "output_type": "stream",
     "text": [
      "\n",
      "\r",
      "0it [00:00, ?it/s]"
     ]
    },
    {
     "name": "stdout",
     "output_type": "stream",
     "text": [
      "\r",
      "Upgrading database; v2 -> v3: : 0it [00:00, ?it/s]"
     ]
    },
    {
     "name": "stdout",
     "output_type": "stream",
     "text": [
      "\r",
      "Upgrading database; v2 -> v3: : 0it [00:00, ?it/s]"
     ]
    },
    {
     "name": "stdout",
     "output_type": "stream",
     "text": [
      "\n",
      "\r",
      "0it [00:00, ?it/s]"
     ]
    },
    {
     "name": "stdout",
     "output_type": "stream",
     "text": [
      "\r",
      "Upgrading database; v3 -> v4: : 0it [00:00, ?it/s]"
     ]
    },
    {
     "name": "stdout",
     "output_type": "stream",
     "text": [
      "\r",
      "Upgrading database; v3 -> v4: : 0it [00:00, ?it/s]"
     ]
    },
    {
     "name": "stdout",
     "output_type": "stream",
     "text": [
      "\n",
      "\r",
      "  0%|          | 0/1 [00:00<?, ?it/s]"
     ]
    },
    {
     "name": "stdout",
     "output_type": "stream",
     "text": [
      "\r",
      "Upgrading database; v4 -> v5:   0%|          | 0/1 [00:00<?, ?it/s]"
     ]
    },
    {
     "name": "stdout",
     "output_type": "stream",
     "text": [
      "\r",
      "Upgrading database; v4 -> v5: 100%|██████████| 1/1 [00:00<00:00, 817.13it/s]"
     ]
    },
    {
     "name": "stdout",
     "output_type": "stream",
     "text": [
      "\n",
      "\r",
      "0it [00:00, ?it/s]"
     ]
    },
    {
     "name": "stdout",
     "output_type": "stream",
     "text": [
      "\r",
      "Upgrading database; v5 -> v6: : 0it [00:00, ?it/s]"
     ]
    },
    {
     "name": "stdout",
     "output_type": "stream",
     "text": [
      "\r",
      "Upgrading database; v5 -> v6: : 0it [00:00, ?it/s]"
     ]
    },
    {
     "name": "stdout",
     "output_type": "stream",
     "text": [
      "\n",
      "\r",
      "  0%|          | 0/1 [00:00<?, ?it/s]"
     ]
    },
    {
     "name": "stdout",
     "output_type": "stream",
     "text": [
      "\r",
      "Upgrading database; v6 -> v7:   0%|          | 0/1 [00:00<?, ?it/s]"
     ]
    },
    {
     "name": "stdout",
     "output_type": "stream",
     "text": [
      "\r",
      "Upgrading database; v6 -> v7: 100%|██████████| 1/1 [00:00<00:00, 359.66it/s]"
     ]
    },
    {
     "name": "stdout",
     "output_type": "stream",
     "text": [
      "\n",
      "\r",
      "  0%|          | 0/1 [00:00<?, ?it/s]"
     ]
    },
    {
     "name": "stdout",
     "output_type": "stream",
     "text": [
      "\r",
      "Upgrading database; v7 -> v8:   0%|          | 0/1 [00:00<?, ?it/s]"
     ]
    },
    {
     "name": "stdout",
     "output_type": "stream",
     "text": [
      "\r",
      "Upgrading database; v7 -> v8: 100%|██████████| 1/1 [00:00<00:00, 671.20it/s]"
     ]
    },
    {
     "name": "stdout",
     "output_type": "stream",
     "text": [
      "\n",
      "\r",
      "  0%|          | 0/1 [00:00<?, ?it/s]"
     ]
    },
    {
     "name": "stdout",
     "output_type": "stream",
     "text": [
      "\r",
      "Upgrading database; v8 -> v9:   0%|          | 0/1 [00:00<?, ?it/s]"
     ]
    },
    {
     "name": "stdout",
     "output_type": "stream",
     "text": [
      "\r",
      "Upgrading database; v8 -> v9: 100%|██████████| 1/1 [00:00<00:00, 716.24it/s]"
     ]
    },
    {
     "name": "stdout",
     "output_type": "stream",
     "text": [
      "\n"
     ]
    },
    {
     "data": {
      "text/plain": [
       "tutorial_ParameterWithSetpoints#no sample#1@/home/vsts/work/1/s/docs/examples/Parameters/tutorial_paramter_with_setpoints.db\n",
       "----------------------------------------------------------------------------------------------------------------------------"
      ]
     },
     "execution_count": 6,
     "metadata": {},
     "output_type": "execute_result"
    }
   ],
   "source": [
    "tutorial_db_path = os.path.join(os.getcwd(), 'tutorial_paramter_with_setpoints.db')\n",
    "initialise_or_create_database_at(tutorial_db_path)\n",
    "load_or_create_experiment(experiment_name='tutorial_ParameterWithSetpoints', sample_name=\"no sample\")"
   ]
  },
  {
   "cell_type": "code",
   "execution_count": 7,
   "metadata": {},
   "outputs": [],
   "source": [
    "a = DummySpectrumAnalyzer('foobar')"
   ]
  },
  {
   "cell_type": "markdown",
   "metadata": {},
   "source": [
    "First we setup the limits of the spectrum"
   ]
  },
  {
   "cell_type": "code",
   "execution_count": 8,
   "metadata": {},
   "outputs": [],
   "source": [
    "a.f_start(0)\n",
    "a.f_stop(500)\n",
    "a.n_points(501)"
   ]
  },
  {
   "cell_type": "markdown",
   "metadata": {},
   "source": [
    "And we can grab the frequency axis"
   ]
  },
  {
   "cell_type": "code",
   "execution_count": 9,
   "metadata": {},
   "outputs": [
    {
     "data": {
      "text/plain": [
       "501"
      ]
     },
     "execution_count": 9,
     "metadata": {},
     "output_type": "execute_result"
    }
   ],
   "source": [
    "a.n_points()"
   ]
  },
  {
   "cell_type": "code",
   "execution_count": 10,
   "metadata": {
    "scrolled": false
   },
   "outputs": [
    {
     "data": {
      "text/plain": [
       "501"
      ]
     },
     "execution_count": 10,
     "metadata": {},
     "output_type": "execute_result"
    }
   ],
   "source": [
    "freq_axis = a.freq_axis()\n",
    "len(freq_axis)"
   ]
  },
  {
   "cell_type": "code",
   "execution_count": 11,
   "metadata": {},
   "outputs": [
    {
     "data": {
      "text/plain": [
       "array([0., 1., 2., 3., 4., 5., 6., 7., 8., 9.])"
      ]
     },
     "execution_count": 11,
     "metadata": {},
     "output_type": "execute_result"
    }
   ],
   "source": [
    "freq_axis[:10]"
   ]
  },
  {
   "cell_type": "markdown",
   "metadata": {},
   "source": [
    "As expected we get a result wit 501 points as we asked for an axis with 501 points. "
   ]
  },
  {
   "cell_type": "markdown",
   "metadata": {},
   "source": [
    "Above we have added a validator to the `freq_axis` parameter encoding the fact that this is an Array with `n_points`. Note that we do not have to supply the number of points as an integer but can supply a function that returns the valid number of points. This would normally be a QCoDeS parameter.\n",
    "\n",
    "This will be checked if we validate the output."
   ]
  },
  {
   "cell_type": "code",
   "execution_count": 12,
   "metadata": {},
   "outputs": [],
   "source": [
    "a.freq_axis.validate(a.freq_axis.get())"
   ]
  },
  {
   "cell_type": "markdown",
   "metadata": {},
   "source": [
    "Naturally, we can also get the spectrum. Getting the spectrum will automatically perform validation both for the shape of the parameter itself and the relation to the setpoint parameter(s)"
   ]
  },
  {
   "cell_type": "code",
   "execution_count": 13,
   "metadata": {
    "scrolled": true
   },
   "outputs": [
    {
     "data": {
      "text/plain": [
       "501"
      ]
     },
     "execution_count": 13,
     "metadata": {},
     "output_type": "execute_result"
    }
   ],
   "source": [
    "spectrum = a.spectrum.get()\n",
    "len(spectrum)"
   ]
  },
  {
   "cell_type": "markdown",
   "metadata": {},
   "source": [
    "When we validate a `ParameterWithSetpoints`, we automatically validate that the shape is consistent between the parameters and its setpoints. As well as validating the shape as above."
   ]
  },
  {
   "cell_type": "code",
   "execution_count": 14,
   "metadata": {},
   "outputs": [],
   "source": [
    "a.spectrum.validate(a.spectrum.get())"
   ]
  },
  {
   "cell_type": "markdown",
   "metadata": {},
   "source": [
    "The consistent shapes can be validated explicitly."
   ]
  },
  {
   "cell_type": "code",
   "execution_count": 15,
   "metadata": {},
   "outputs": [],
   "source": [
    "a.spectrum.validate_consistent_shape()"
   ]
  },
  {
   "cell_type": "markdown",
   "metadata": {},
   "source": [
    "We can inspect the setpoints of the spectrum."
   ]
  },
  {
   "cell_type": "code",
   "execution_count": 16,
   "metadata": {},
   "outputs": [
    {
     "data": {
      "text/plain": [
       "(<__main__.GeneratedSetPoints: freq_axis at 140663743571664>,)"
      ]
     },
     "execution_count": 16,
     "metadata": {},
     "output_type": "execute_result"
    }
   ],
   "source": [
    "a.spectrum.setpoints"
   ]
  },
  {
   "cell_type": "markdown",
   "metadata": {},
   "source": [
    "Or even change them."
   ]
  },
  {
   "cell_type": "code",
   "execution_count": 17,
   "metadata": {},
   "outputs": [],
   "source": [
    "a.spectrum.setpoints = (a.freq_axis,)"
   ]
  },
  {
   "cell_type": "markdown",
   "metadata": {},
   "source": [
    "## Measurement"
   ]
  },
  {
   "cell_type": "markdown",
   "metadata": {},
   "source": [
    "We can also directly consume the parameter in a measurement without defining the setpoints of the parameter again. The setpoints are automatically obtained from the definition of the `ParameterWithSetpoint` instance. "
   ]
  },
  {
   "cell_type": "code",
   "execution_count": 18,
   "metadata": {},
   "outputs": [
    {
     "name": "stdout",
     "output_type": "stream",
     "text": [
      "Starting experimental run with id: 1. \n"
     ]
    }
   ],
   "source": [
    "meas = Measurement()\n",
    "meas.register_parameter(a.spectrum)\n",
    "\n",
    "with meas.run() as datasaver:\n",
    "    datasaver.add_result((a.freq_axis, a.freq_axis()),\n",
    "                         (a.spectrum, a.spectrum()))\n",
    "    dataset = datasaver.dataset"
   ]
  },
  {
   "cell_type": "markdown",
   "metadata": {},
   "source": [
    "And plot it"
   ]
  },
  {
   "cell_type": "code",
   "execution_count": 19,
   "metadata": {},
   "outputs": [
    {
     "data": {
      "text/plain": [
       "([<matplotlib.axes._subplots.AxesSubplot at 0x7feed3e2dfd0>], [None])"
      ]
     },
     "execution_count": 19,
     "metadata": {},
     "output_type": "execute_result"
    },
    {
     "data": {
      "image/png": "[encoded data removed]",
      "text/plain": [
       "<Figure size 432x288 with 1 Axes>"
      ]
     },
     "metadata": {
      "needs_background": "light"
     },
     "output_type": "display_data"
    }
   ],
   "source": [
    "plot_dataset(dataset)"
   ]
  },
  {
   "cell_type": "markdown",
   "metadata": {},
   "source": [
    "To reduce the amount of typing a simple convenience function is provided that will take a `ParameterWithSetpoints` and get both its values and the setpoints values and return them as tuples for direct insertion into the Dataset."
   ]
  },
  {
   "cell_type": "code",
   "execution_count": 20,
   "metadata": {
    "scrolled": true
   },
   "outputs": [
    {
     "data": {
      "text/plain": [
       "[(<__main__.GeneratedSetPoints: freq_axis at 140663743571664>,\n",
       "  array([  0.,   1.,   2.,   3.,   4.,   5.,   6.,   7.,   8.,   9.,  10.,\n",
       "          11.,  12.,  13.,  14.,  15.,  16.,  17.,  18.,  19.,  20.,  21.,\n",
       "          22.,  23.,  24.,  25.,  26.,  27.,  28.,  29.,  30.,  31.,  32.,\n",
       "          33.,  34.,  35.,  36.,  37.,  38.,  39.,  40.,  41.,  42.,  43.,\n",
       "          44.,  45.,  46.,  47.,  48.,  49.,  50.,  51.,  52.,  53.,  54.,\n",
       "          55.,  56.,  57.,  58.,  59.,  60.,  61.,  62.,  63.,  64.,  65.,\n",
       "          66.,  67.,  68.,  69.,  70.,  71.,  72.,  73.,  74.,  75.,  76.,\n",
       "          77.,  78.,  79.,  80.,  81.,  82.,  83.,  84.,  85.,  86.,  87.,\n",
       "          88.,  89.,  90.,  91.,  92.,  93.,  94.,  95.,  96.,  97.,  98.,\n",
       "          99., 100., 101., 102., 103., 104., 105., 106., 107., 108., 109.,\n",
       "         110., 111., 112., 113., 114., 115., 116., 117., 118., 119., 120.,\n",
       "         121., 122., 123., 124., 125., 126., 127., 128., 129., 130., 131.,\n",
       "         132., 133., 134., 135., 136., 137., 138., 139., 140., 141., 142.,\n",
       "         143., 144., 145., 146., 147., 148., 149., 150., 151., 152., 153.,\n",
       "         154., 155., 156., 157., 158., 159., 160., 161., 162., 163., 164.,\n",
       "         165., 166., 167., 168., 169., 170., 171., 172., 173., 174., 175.,\n",
       "         176., 177., 178., 179., 180., 181., 182., 183., 184., 185., 186.,\n",
       "         187., 188., 189., 190., 191., 192., 193., 194., 195., 196., 197.,\n",
       "         198., 199., 200., 201., 202., 203., 204., 205., 206., 207., 208.,\n",
       "         209., 210., 211., 212., 213., 214., 215., 216., 217., 218., 219.,\n",
       "         220., 221., 222., 223., 224., 225., 226., 227., 228., 229., 230.,\n",
       "         231., 232., 233., 234., 235., 236., 237., 238., 239., 240., 241.,\n",
       "         242., 243., 244., 245., 246., 247., 248., 249., 250., 251., 252.,\n",
       "         253., 254., 255., 256., 257., 258., 259., 260., 261., 262., 263.,\n",
       "         264., 265., 266., 267., 268., 269., 270., 271., 272., 273., 274.,\n",
       "         275., 276., 277., 278., 279., 280., 281., 282., 283., 284., 285.,\n",
       "         286., 287., 288., 289., 290., 291., 292., 293., 294., 295., 296.,\n",
       "         297., 298., 299., 300., 301., 302., 303., 304., 305., 306., 307.,\n",
       "         308., 309., 310., 311., 312., 313., 314., 315., 316., 317., 318.,\n",
       "         319., 320., 321., 322., 323., 324., 325., 326., 327., 328., 329.,\n",
       "         330., 331., 332., 333., 334., 335., 336., 337., 338., 339., 340.,\n",
       "         341., 342., 343., 344., 345., 346., 347., 348., 349., 350., 351.,\n",
       "         352., 353., 354., 355., 356., 357., 358., 359., 360., 361., 362.,\n",
       "         363., 364., 365., 366., 367., 368., 369., 370., 371., 372., 373.,\n",
       "         374., 375., 376., 377., 378., 379., 380., 381., 382., 383., 384.,\n",
       "         385., 386., 387., 388., 389., 390., 391., 392., 393., 394., 395.,\n",
       "         396., 397., 398., 399., 400., 401., 402., 403., 404., 405., 406.,\n",
       "         407., 408., 409., 410., 411., 412., 413., 414., 415., 416., 417.,\n",
       "         418., 419., 420., 421., 422., 423., 424., 425., 426., 427., 428.,\n",
       "         429., 430., 431., 432., 433., 434., 435., 436., 437., 438., 439.,\n",
       "         440., 441., 442., 443., 444., 445., 446., 447., 448., 449., 450.,\n",
       "         451., 452., 453., 454., 455., 456., 457., 458., 459., 460., 461.,\n",
       "         462., 463., 464., 465., 466., 467., 468., 469., 470., 471., 472.,\n",
       "         473., 474., 475., 476., 477., 478., 479., 480., 481., 482., 483.,\n",
       "         484., 485., 486., 487., 488., 489., 490., 491., 492., 493., 494.,\n",
       "         495., 496., 497., 498., 499., 500.])),\n",
       " (<__main__.DummyArray: spectrum at 140663742561744>,\n",
       "  array([6.53606003e-01, 1.44152367e-02, 9.91544164e-01, 1.28205619e-01,\n",
       "         8.85668674e-01, 9.00424037e-01, 2.77633691e-02, 6.52182005e-01,\n",
       "         6.46673525e-01, 6.25182744e-01, 7.95658658e-01, 6.19482577e-01,\n",
       "         2.39340448e-01, 6.71103976e-01, 1.12856702e-01, 2.90361897e-01,\n",
       "         4.38998129e-01, 1.51105363e-01, 4.58661588e-01, 8.20136772e-01,\n",
       "         4.61647319e-01, 4.54332127e-01, 1.09507773e-01, 3.23922328e-01,\n",
       "         6.47762008e-01, 3.98819622e-01, 3.32280113e-01, 2.87187398e-01,\n",
       "         3.30150632e-01, 9.25537302e-02, 3.69085982e-02, 1.91551113e-01,\n",
       "         5.11640763e-01, 8.02846680e-02, 2.21185224e-01, 2.38165594e-01,\n",
       "         7.97948314e-01, 7.18277742e-01, 9.68061616e-01, 1.35046245e-01,\n",
       "         3.13844259e-01, 6.99268578e-01, 8.42606948e-01, 9.30565327e-02,\n",
       "         4.74886110e-02, 5.36325852e-01, 8.64255280e-01, 6.89352888e-01,\n",
       "         4.19856505e-01, 5.94943777e-01, 1.32353701e-01, 1.69154969e-01,\n",
       "         4.29050433e-01, 4.68357534e-01, 4.22736658e-01, 4.31824633e-01,\n",
       "         2.72962069e-01, 2.89502847e-01, 8.48394133e-01, 3.03240653e-01,\n",
       "         5.11149938e-01, 9.91037714e-01, 8.12158201e-01, 7.87983490e-01,\n",
       "         4.13495123e-01, 9.85143706e-01, 2.80156273e-01, 2.45798422e-01,\n",
       "         1.50504669e-01, 3.96882882e-01, 6.87399394e-01, 8.76253152e-01,\n",
       "         7.85026210e-01, 3.11755565e-02, 5.64489553e-01, 2.21675405e-01,\n",
       "         3.67434737e-01, 5.42827690e-02, 6.37625712e-01, 8.53859134e-02,\n",
       "         7.86908675e-01, 6.56031520e-01, 2.43648033e-01, 5.45331333e-01,\n",
       "         6.28294290e-01, 2.55888669e-01, 7.71457132e-01, 9.42493329e-01,\n",
       "         7.64377480e-01, 6.01948205e-01, 2.96227967e-02, 4.51514866e-01,\n",
       "         2.27008023e-01, 2.72272634e-01, 9.95936258e-01, 2.68052088e-01,\n",
       "         8.32181607e-01, 7.55678216e-01, 5.92045377e-01, 4.47913066e-01,\n",
       "         3.35814624e-01, 7.79354400e-01, 2.07131672e-01, 9.12638138e-01,\n",
       "         4.01163297e-01, 9.97966493e-01, 9.08977441e-02, 2.69911280e-01,\n",
       "         4.98952671e-01, 2.37447810e-02, 8.86156369e-01, 3.03099573e-01,\n",
       "         7.77645606e-01, 3.73979439e-01, 4.49733138e-01, 2.92640371e-01,\n",
       "         1.93747283e-01, 6.09168603e-01, 9.04359479e-01, 5.69090477e-02,\n",
       "         7.22704341e-01, 2.91100141e-01, 4.96952340e-02, 3.30946667e-01,\n",
       "         6.98104915e-01, 5.37848080e-01, 2.60667797e-01, 4.67554473e-02,\n",
       "         3.48102072e-01, 4.23164985e-02, 5.78306032e-01, 3.15997647e-01,\n",
       "         5.07915552e-01, 5.48693576e-01, 5.07013858e-01, 4.28263559e-01,\n",
       "         2.53716235e-01, 4.85394654e-01, 5.33003548e-01, 6.73346373e-01,\n",
       "         6.24568378e-01, 6.70809455e-01, 4.61061886e-02, 2.65070707e-01,\n",
       "         3.86773277e-01, 3.55571943e-01, 7.21253351e-01, 5.79317196e-01,\n",
       "         7.62642745e-01, 6.16380912e-01, 8.57065059e-01, 9.48653289e-01,\n",
       "         3.11415157e-01, 2.60132178e-01, 3.35967496e-01, 3.14611051e-01,\n",
       "         3.49718570e-01, 9.38617484e-01, 3.11500135e-01, 1.90302623e-01,\n",
       "         7.73128318e-01, 1.27617122e-01, 8.49033975e-01, 8.34572410e-01,\n",
       "         9.59388812e-01, 5.30289200e-01, 5.65488844e-01, 3.27186954e-01,\n",
       "         9.08755975e-01, 1.73850202e-01, 1.91661451e-01, 6.88875661e-01,\n",
       "         7.73191328e-01, 1.07161338e-01, 8.45743684e-01, 6.97838942e-03,\n",
       "         3.75526694e-01, 8.82244292e-01, 5.83199378e-01, 3.25687758e-01,\n",
       "         3.93800655e-01, 3.95133339e-01, 6.52162496e-01, 7.10391705e-01,\n",
       "         8.19520525e-01, 7.20695059e-01, 3.41782385e-02, 6.01765161e-01,\n",
       "         7.44682660e-01, 1.78777607e-01, 7.46390291e-01, 2.05184108e-01,\n",
       "         6.99584484e-01, 4.66398606e-02, 7.27443465e-01, 1.48367766e-01,\n",
       "         3.96440016e-01, 9.54479593e-01, 7.26596152e-01, 8.07927766e-01,\n",
       "         4.65284061e-01, 4.09105089e-01, 5.40827609e-01, 6.55533386e-01,\n",
       "         6.53151413e-01, 8.04423010e-01, 2.59164114e-01, 8.78736189e-01,\n",
       "         6.15247961e-01, 9.37058563e-01, 1.71961114e-01, 6.28326995e-01,\n",
       "         6.17312357e-01, 8.75114548e-01, 5.03961195e-01, 4.29368368e-01,\n",
       "         4.08158081e-01, 7.95537085e-01, 7.14836053e-02, 8.38736455e-01,\n",
       "         3.02721896e-01, 7.75572570e-01, 9.65256875e-02, 7.77979987e-01,\n",
       "         4.26650314e-01, 5.17043848e-01, 2.33158294e-01, 4.02393027e-01,\n",
       "         1.60368716e-01, 7.76832608e-01, 8.46915229e-02, 7.83378465e-01,\n",
       "         7.38979228e-01, 3.83742759e-01, 1.07901230e-01, 8.52606312e-01,\n",
       "         6.77460815e-01, 7.79529875e-01, 2.22226765e-01, 4.64615316e-01,\n",
       "         3.37694789e-01, 1.71547368e-01, 7.17278188e-01, 3.17928401e-01,\n",
       "         7.24708246e-01, 8.45337325e-01, 8.75301875e-01, 4.45320600e-01,\n",
       "         8.33524416e-01, 5.62259937e-01, 2.44745992e-01, 2.77047659e-01,\n",
       "         6.76857110e-01, 4.63480547e-01, 3.48312857e-01, 5.80704690e-01,\n",
       "         3.93342108e-02, 1.63226789e-01, 7.84044190e-01, 7.87990567e-02,\n",
       "         5.68336086e-01, 8.89051389e-01, 7.35313072e-01, 4.54505460e-01,\n",
       "         3.05709440e-01, 2.45372184e-01, 9.06102121e-01, 5.51159544e-02,\n",
       "         3.53055256e-02, 7.36264787e-01, 2.34369376e-01, 8.93075844e-01,\n",
       "         9.02051841e-01, 2.45101279e-01, 6.44745870e-01, 6.87616615e-01,\n",
       "         1.05460214e-01, 4.59212215e-01, 6.37843376e-02, 1.83294063e-02,\n",
       "         9.90714450e-01, 3.34038984e-01, 3.91856829e-02, 7.07083403e-01,\n",
       "         3.73206619e-01, 5.03238142e-01, 3.31854942e-01, 6.20510714e-01,\n",
       "         8.30379241e-01, 8.85455941e-01, 2.03106083e-01, 8.48751226e-01,\n",
       "         1.87273688e-01, 1.52316063e-01, 5.61378524e-01, 4.03200223e-01,\n",
       "         3.02234240e-01, 4.64784913e-01, 6.11744626e-01, 5.60248948e-01,\n",
       "         3.79933524e-01, 2.25195245e-02, 9.00825616e-01, 6.64281016e-01,\n",
       "         9.90572886e-01, 4.48985807e-01, 4.86429368e-01, 5.24162182e-01,\n",
       "         5.07866381e-01, 2.71730934e-01, 6.55917173e-01, 7.39459663e-01,\n",
       "         1.33445783e-01, 6.38932889e-01, 3.34076082e-01, 8.20253799e-01,\n",
       "         5.06286561e-01, 5.70102489e-01, 1.77010409e-01, 9.57063760e-01,\n",
       "         7.19235402e-01, 4.20723188e-01, 5.08269167e-01, 9.96280563e-01,\n",
       "         3.71433974e-01, 5.20003842e-01, 1.15265867e-01, 1.14746046e-01,\n",
       "         1.93143582e-04, 7.97178714e-01, 4.48537424e-01, 1.60041226e-01,\n",
       "         9.91857524e-01, 9.63239905e-02, 9.82812487e-01, 6.51754893e-01,\n",
       "         2.23249781e-01, 2.13459071e-01, 8.91532092e-01, 2.00351502e-01,\n",
       "         1.84955101e-01, 2.11107790e-01, 1.13987721e-01, 4.66983933e-01,\n",
       "         4.20253554e-01, 7.40899502e-01, 8.48686875e-01, 4.33826114e-02,\n",
       "         1.90768093e-01, 7.73909137e-01, 3.80629589e-01, 3.77598201e-01,\n",
       "         2.79282442e-01, 4.56210405e-01, 8.51299437e-03, 4.02201718e-01,\n",
       "         4.28742868e-02, 8.84955090e-01, 7.62610896e-01, 1.14013584e-01,\n",
       "         7.34581572e-01, 7.86547142e-01, 5.28620690e-01, 8.66187962e-01,\n",
       "         9.24270403e-01, 9.38197658e-01, 8.38847590e-01, 7.39716956e-01,\n",
       "         1.18205528e-01, 9.00625475e-01, 8.69059177e-01, 1.49074911e-01,\n",
       "         8.60862928e-01, 3.87992325e-01, 2.93806956e-01, 9.74813909e-01,\n",
       "         5.39387187e-01, 4.46595736e-01, 7.83710048e-01, 5.00574411e-01,\n",
       "         3.78516929e-01, 5.20756240e-01, 3.74945937e-01, 7.80743513e-01,\n",
       "         8.66827300e-01, 2.68829524e-01, 8.28943788e-01, 6.00982858e-01,\n",
       "         3.09802485e-01, 2.50291586e-01, 9.88098294e-01, 6.04632019e-01,\n",
       "         7.46120657e-01, 2.25186105e-02, 2.91633152e-02, 7.48906190e-01,\n",
       "         8.84071625e-01, 1.83207083e-01, 9.96401199e-01, 5.27867434e-01,\n",
       "         5.28895728e-01, 8.32488855e-01, 2.23485858e-02, 8.99225977e-01,\n",
       "         2.41816342e-01, 2.24542586e-01, 5.42489537e-01, 6.66009199e-01,\n",
       "         4.92039611e-01, 9.23894856e-01, 4.04683033e-01, 8.19112317e-01,\n",
       "         5.19960816e-01, 2.13371299e-01, 8.29966688e-01, 3.41652844e-01,\n",
       "         2.35322729e-01, 2.97211374e-02, 6.55762746e-01, 2.18589150e-01,\n",
       "         1.21852586e-01, 7.33133913e-02, 8.45431412e-01, 5.16903378e-01,\n",
       "         6.80621042e-01, 6.26821484e-02, 1.56383164e-01, 5.79928777e-01,\n",
       "         9.12797688e-01, 3.23177621e-01, 4.77216802e-01, 6.19654446e-01,\n",
       "         5.10424660e-01, 8.68138621e-01, 5.36015932e-01, 6.66527360e-01,\n",
       "         4.22018096e-01, 5.69582956e-01, 7.49232871e-01, 4.77638586e-01,\n",
       "         4.13568589e-01, 1.62917822e-01, 1.21333999e-02, 8.69170320e-01,\n",
       "         2.03477906e-02, 7.81521589e-01, 3.77187917e-01, 8.94578772e-01,\n",
       "         3.72578840e-01, 1.39510011e-01, 7.46993085e-01, 6.92069470e-02,\n",
       "         6.72661656e-01, 5.13473805e-01, 1.55274538e-01, 8.00518302e-01,\n",
       "         6.49554076e-02, 9.62151758e-01, 8.05344473e-01, 6.27252866e-01,\n",
       "         9.84711678e-01, 4.58783216e-01, 6.92790798e-01, 7.69823632e-01,\n",
       "         7.79974058e-01, 9.98895666e-01, 8.40170913e-01, 1.65969035e-01,\n",
       "         1.58846088e-01, 3.33887352e-01, 6.49609992e-01, 1.46985708e-01,\n",
       "         3.26940922e-01, 9.47426494e-01, 8.31299447e-01, 2.37617217e-01,\n",
       "         4.19893570e-01, 7.67237186e-01, 9.61976954e-01, 6.59225832e-01,\n",
       "         2.65037081e-01, 5.45859767e-01, 8.96174212e-01, 2.13424144e-01,\n",
       "         1.87171458e-01, 7.00341215e-01, 2.10915373e-01, 5.38366258e-01,\n",
       "         1.48645120e-01, 1.86541999e-01, 9.52780941e-01, 3.68656295e-01,\n",
       "         7.45521999e-01, 2.45581809e-01, 1.42962662e-01, 7.76514078e-01,\n",
       "         7.95040356e-01, 8.59990373e-01, 3.65456078e-01, 2.32282073e-01,\n",
       "         5.16148608e-01]))]"
      ]
     },
     "execution_count": 20,
     "metadata": {},
     "output_type": "execute_result"
    }
   ],
   "source": [
    "expand_setpoints_helper(a.spectrum)"
   ]
  },
  {
   "cell_type": "code",
   "execution_count": 21,
   "metadata": {},
   "outputs": [
    {
     "name": "stdout",
     "output_type": "stream",
     "text": [
      "Starting experimental run with id: 2. \n"
     ]
    }
   ],
   "source": [
    "meas = Measurement()\n",
    "meas.register_parameter(a.spectrum)\n",
    "\n",
    "with meas.run() as datasaver:\n",
    "    datasaver.add_result(*expand_setpoints_helper(a.spectrum))\n",
    "    \n",
    "    dataid = datasaver.run_id"
   ]
  },
  {
   "cell_type": "code",
   "execution_count": null,
   "metadata": {},
   "outputs": [],
   "source": []
  }
 ],
 "metadata": {
  "kernelspec": {
   "display_name": "Python 3",
   "language": "python",
   "name": "python3"
  },
  "language_info": {
   "codemirror_mode": {
    "name": "ipython",
    "version": 3
   },
   "file_extension": ".py",
   "mimetype": "text/x-python",
   "name": "python",
   "nbconvert_exporter": "python",
   "pygments_lexer": "ipython3",
   "version": "3.7.7"
  },
  "toc": {
   "base_numbering": 1,
   "nav_menu": {},
   "number_sections": true,
   "sideBar": true,
   "skip_h1_title": false,
   "title_cell": "Table of Contents",
   "title_sidebar": "Contents",
   "toc_cell": false,
   "toc_position": {},
   "toc_section_display": true,
   "toc_window_display": false
  },
  "varInspector": {
   "cols": {
    "lenName": 16,
    "lenType": 16,
    "lenVar": 40
   },
   "kernels_config": {
    "python": {
     "delete_cmd_postfix": "",
     "delete_cmd_prefix": "del ",
     "library": "var_list.py",
     "varRefreshCmd": "print(var_dic_list())"
    },
    "r": {
     "delete_cmd_postfix": ") ",
     "delete_cmd_prefix": "rm(",
     "library": "var_list.r",
     "varRefreshCmd": "cat(var_dic_list()) "
    }
   },
   "types_to_exclude": [
    "module",
    "function",
    "builtin_function_or_method",
    "instance",
    "_Feature"
   ],
   "window_display": false
  }
 },
 "nbformat": 4,
 "nbformat_minor": 2
}
