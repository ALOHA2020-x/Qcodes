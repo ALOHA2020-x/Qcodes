{
 "cells": [
  {
   "cell_type": "markdown",
   "metadata": {},
   "source": [
    "# Simple Example of ParameterWithSetpoints\n",
    "This notebook provides an example for writing a simple driver with a parameter that has setpoints. Let's name this parameter that has setpoints as \"y\". Then, the setpoints, say \"x1, x2, x3 ..\", are the parameters on which the parameter \n",
    "\"y\" depends upon. Meaning \"y\" is a function of \"x1, x2, x3 ...\" where \"x1, x2, x3 ...\" are known as the setpoints of parameter \"y\".\n",
    "\n",
    "This is most likely to be useful for instruments that return arrays of results. In this notebook, we will show an example of this."
   ]
  },
  {
   "cell_type": "code",
   "execution_count": 1,
   "metadata": {
    "execution": {
     "iopub.execute_input": "2020-09-17T19:16:03.181526Z",
     "iopub.status.busy": "2020-09-17T19:16:03.180783Z",
     "iopub.status.idle": "2020-09-17T19:16:03.283503Z",
     "shell.execute_reply": "2020-09-17T19:16:03.282676Z"
    }
   },
   "outputs": [],
   "source": [
    "import numpy as np\n",
    "import os"
   ]
  },
  {
   "cell_type": "code",
   "execution_count": 2,
   "metadata": {
    "execution": {
     "iopub.execute_input": "2020-09-17T19:16:03.287672Z",
     "iopub.status.busy": "2020-09-17T19:16:03.287107Z",
     "iopub.status.idle": "2020-09-17T19:16:04.436217Z",
     "shell.execute_reply": "2020-09-17T19:16:04.436725Z"
    }
   },
   "outputs": [
    {
     "name": "stdout",
     "output_type": "stream",
     "text": [
      "Logging hadn't been started.\n",
      "Activating auto-logging. Current session state plus future input saved.\n",
      "Filename       : /home/vsts/.qcodes/logs/command_history.log\n",
      "Mode           : append\n",
      "Output logging : True\n",
      "Raw input log  : False\n",
      "Timestamping   : True\n",
      "State          : active\n"
     ]
    },
    {
     "name": "stdout",
     "output_type": "stream",
     "text": [
      "Qcodes Logfile : /home/vsts/.qcodes/logs/200917-22044-qcodes.log\n"
     ]
    }
   ],
   "source": [
    "from qcodes.dataset.plotting import plot_dataset\n",
    "from qcodes.utils.validators import Numbers, Arrays\n",
    "from qcodes.instrument.base import Instrument\n",
    "from qcodes.dataset.measurements import Measurement"
   ]
  },
  {
   "cell_type": "code",
   "execution_count": 3,
   "metadata": {
    "execution": {
     "iopub.execute_input": "2020-09-17T19:16:04.441037Z",
     "iopub.status.busy": "2020-09-17T19:16:04.440309Z",
     "iopub.status.idle": "2020-09-17T19:16:04.444187Z",
     "shell.execute_reply": "2020-09-17T19:16:04.443703Z"
    }
   },
   "outputs": [],
   "source": [
    "from qcodes.dataset.sqlite.database import initialise_or_create_database_at\n",
    "from qcodes.dataset.experiment_container import load_or_create_experiment"
   ]
  },
  {
   "cell_type": "code",
   "execution_count": 4,
   "metadata": {
    "execution": {
     "iopub.execute_input": "2020-09-17T19:16:04.449340Z",
     "iopub.status.busy": "2020-09-17T19:16:04.447981Z",
     "iopub.status.idle": "2020-09-17T19:16:04.450065Z",
     "shell.execute_reply": "2020-09-17T19:16:04.450698Z"
    }
   },
   "outputs": [],
   "source": [
    "from qcodes.instrument.parameter import ParameterWithSetpoints, Parameter\n",
    "from qcodes.instrument.parameter import expand_setpoints_helper"
   ]
  },
  {
   "cell_type": "markdown",
   "metadata": {},
   "source": [
    "First, we define a dummy instrument that returns something like a frequency spectrum starting from a frequency given by `f_start` to a frequency given by `f_stop` in `n_points` steps. \n",
    "\n",
    "The extra functionality of the `ParameterWithSetpoints` is implemented by giving it a reference to one or more parameters that acts like its setpoints. \n",
    "\n",
    "To setup a `ParameterWithSetpoints` we have to do two things in addition to what we do for a normal parameter.\n",
    "\n",
    "* Define one or more parameter for the setpoints (one for each dimension of the array and let the `ParameterWithSetpoints` know that these are the setpoints.\n",
    "* Give both the setpoints parameter(s) and the `ParameterWithSetpoints` a `validator` of type `Arrays` with a shape. The shapes should be such that the combined shape of the setpoints matches the shape of the `ParameterWithSetpoints`. Note that if the shape changes with the setting of the instrument, it can be defined by another parameter as shown below. "
   ]
  },
  {
   "cell_type": "code",
   "execution_count": 5,
   "metadata": {
    "execution": {
     "iopub.execute_input": "2020-09-17T19:16:04.461905Z",
     "iopub.status.busy": "2020-09-17T19:16:04.460543Z",
     "iopub.status.idle": "2020-09-17T19:16:04.462673Z",
     "shell.execute_reply": "2020-09-17T19:16:04.463213Z"
    }
   },
   "outputs": [],
   "source": [
    "class GeneratedSetPoints(Parameter):\n",
    "    \"\"\"\n",
    "    A parameter that generates a setpoint array from start, stop and num points\n",
    "    parameters.\n",
    "    \"\"\"\n",
    "    def __init__(self, startparam, stopparam, numpointsparam, *args, **kwargs):\n",
    "        super().__init__(*args, **kwargs)\n",
    "        self._startparam = startparam\n",
    "        self._stopparam = stopparam\n",
    "        self._numpointsparam = numpointsparam\n",
    "\n",
    "    def get_raw(self):\n",
    "        return np.linspace(self._startparam(), self._stopparam(),\n",
    "                              self._numpointsparam())\n",
    "\n",
    "class DummyArray(ParameterWithSetpoints):\n",
    "    \n",
    "    def get_raw(self):\n",
    "        npoints = self.root_instrument.n_points.get_latest()\n",
    "        return np.random.rand(npoints)\n",
    "    \n",
    "\n",
    "class DummySpectrumAnalyzer(Instrument):\n",
    "    \n",
    "    def __init__(self, name, **kwargs):\n",
    "        \n",
    "        super().__init__(name, **kwargs)\n",
    "            \n",
    "\n",
    "        self.add_parameter('f_start',\n",
    "                           initial_value=0,\n",
    "                           unit='Hz',\n",
    "                           label='f start',\n",
    "                           vals=Numbers(0,1e3),\n",
    "                           get_cmd=None,\n",
    "                           set_cmd=None)\n",
    "\n",
    "        self.add_parameter('f_stop',\n",
    "                           unit='Hz',\n",
    "                           label='f stop',\n",
    "                           vals=Numbers(1,1e3),\n",
    "                           get_cmd=None,\n",
    "                           set_cmd=None)\n",
    "\n",
    "        self.add_parameter('n_points',\n",
    "                           unit='',\n",
    "                           initial_value=10,\n",
    "                           vals=Numbers(1,1e3),\n",
    "                           get_cmd=None,\n",
    "                           set_cmd=None)\n",
    "        \n",
    "        self.add_parameter('freq_axis',\n",
    "                           unit='Hz',\n",
    "                           label='Freq Axis',\n",
    "                           parameter_class=GeneratedSetPoints,\n",
    "                           startparam=self.f_start,\n",
    "                           stopparam=self.f_stop,\n",
    "                           numpointsparam=self.n_points,\n",
    "                           vals=Arrays(shape=(self.n_points.get_latest,)))\n",
    "                           \n",
    "        self.add_parameter('spectrum',\n",
    "                   unit='dBm',\n",
    "                   setpoints=(self.freq_axis,),\n",
    "                   label='Spectrum',\n",
    "                   parameter_class=DummyArray,\n",
    "                   vals=Arrays(shape=(self.n_points.get_latest,)))\n",
    "                "
   ]
  },
  {
   "cell_type": "markdown",
   "metadata": {},
   "source": [
    "In the above example, the shape is defined by the parameter `n_points` that defines how many samples our `DummySpectrumAnalyzer` returns.\n",
    "\n",
    "This means that the validation will call the function to get `n_points` twice for each `get` of the parameter. This may be too slow, however, if you (as the driver-writer) can guarantee that the cached value for `n_points` will never be out of sync with the value stored in the instrument, `n_points` may be replaced by it's latest known value such that the `validator` reads:\n",
    "```python\n",
    "vals=Arrays(shape=(self.n_points.get_latest))\n",
    "```\n",
    "\n",
    "This avoids any additional call to the instrument. In the same way, the arguments to the `freq_axis` parameter that defines the start, stop and number of points can be replaced by their latest value if the instrument allows it.\n",
    "\n"
   ]
  },
  {
   "cell_type": "code",
   "execution_count": 6,
   "metadata": {
    "execution": {
     "iopub.execute_input": "2020-09-17T19:16:04.467194Z",
     "iopub.status.busy": "2020-09-17T19:16:04.466370Z",
     "iopub.status.idle": "2020-09-17T19:16:04.551887Z",
     "shell.execute_reply": "2020-09-17T19:16:04.551315Z"
    }
   },
   "outputs": [
    {
     "name": "stdout",
     "output_type": "stream",
     "text": [
      "\r",
      "0it [00:00, ?it/s]"
     ]
    },
    {
     "name": "stdout",
     "output_type": "stream",
     "text": [
      "\r",
      "Upgrading database; v0 -> v1: : 0it [00:00, ?it/s]"
     ]
    },
    {
     "name": "stdout",
     "output_type": "stream",
     "text": [
      "\r",
      "Upgrading database; v0 -> v1: : 0it [00:00, ?it/s]"
     ]
    },
    {
     "name": "stdout",
     "output_type": "stream",
     "text": [
      "\n",
      "\r",
      "  0%|          | 0/1 [00:00<?, ?it/s]"
     ]
    },
    {
     "name": "stdout",
     "output_type": "stream",
     "text": [
      "\r",
      "Upgrading database; v1 -> v2:   0%|          | 0/1 [00:00<?, ?it/s]"
     ]
    },
    {
     "name": "stdout",
     "output_type": "stream",
     "text": [
      "\r",
      "Upgrading database; v1 -> v2: 100%|██████████| 1/1 [00:00<00:00, 420.73it/s]"
     ]
    },
    {
     "name": "stdout",
     "output_type": "stream",
     "text": [
      "\n",
      "\r",
      "0it [00:00, ?it/s]"
     ]
    },
    {
     "name": "stdout",
     "output_type": "stream",
     "text": [
      "\r",
      "Upgrading database; v2 -> v3: : 0it [00:00, ?it/s]"
     ]
    },
    {
     "name": "stdout",
     "output_type": "stream",
     "text": [
      "\r",
      "Upgrading database; v2 -> v3: : 0it [00:00, ?it/s]"
     ]
    },
    {
     "name": "stdout",
     "output_type": "stream",
     "text": [
      "\n",
      "\r",
      "0it [00:00, ?it/s]"
     ]
    },
    {
     "name": "stdout",
     "output_type": "stream",
     "text": [
      "\r",
      "Upgrading database; v3 -> v4: : 0it [00:00, ?it/s]"
     ]
    },
    {
     "name": "stdout",
     "output_type": "stream",
     "text": [
      "\r",
      "Upgrading database; v3 -> v4: : 0it [00:00, ?it/s]"
     ]
    },
    {
     "name": "stdout",
     "output_type": "stream",
     "text": [
      "\n",
      "\r",
      "  0%|          | 0/1 [00:00<?, ?it/s]"
     ]
    },
    {
     "name": "stdout",
     "output_type": "stream",
     "text": [
      "\r",
      "Upgrading database; v4 -> v5:   0%|          | 0/1 [00:00<?, ?it/s]"
     ]
    },
    {
     "name": "stdout",
     "output_type": "stream",
     "text": [
      "\r",
      "Upgrading database; v4 -> v5: 100%|██████████| 1/1 [00:00<00:00, 312.47it/s]"
     ]
    },
    {
     "name": "stdout",
     "output_type": "stream",
     "text": [
      "\n",
      "\r",
      "0it [00:00, ?it/s]"
     ]
    },
    {
     "name": "stdout",
     "output_type": "stream",
     "text": [
      "\r",
      "Upgrading database; v5 -> v6: : 0it [00:00, ?it/s]"
     ]
    },
    {
     "name": "stdout",
     "output_type": "stream",
     "text": [
      "\r",
      "Upgrading database; v5 -> v6: : 0it [00:00, ?it/s]"
     ]
    },
    {
     "name": "stdout",
     "output_type": "stream",
     "text": [
      "\n",
      "\r",
      "  0%|          | 0/1 [00:00<?, ?it/s]"
     ]
    },
    {
     "name": "stdout",
     "output_type": "stream",
     "text": [
      "\r",
      "Upgrading database; v6 -> v7:   0%|          | 0/1 [00:00<?, ?it/s]"
     ]
    },
    {
     "name": "stdout",
     "output_type": "stream",
     "text": [
      "\r",
      "Upgrading database; v6 -> v7: 100%|██████████| 1/1 [00:00<00:00, 289.80it/s]"
     ]
    },
    {
     "name": "stdout",
     "output_type": "stream",
     "text": [
      "\n",
      "\r",
      "  0%|          | 0/1 [00:00<?, ?it/s]"
     ]
    },
    {
     "name": "stdout",
     "output_type": "stream",
     "text": [
      "\r",
      "Upgrading database; v7 -> v8:   0%|          | 0/1 [00:00<?, ?it/s]"
     ]
    },
    {
     "name": "stdout",
     "output_type": "stream",
     "text": [
      "\r",
      "Upgrading database; v7 -> v8: 100%|██████████| 1/1 [00:00<00:00, 334.77it/s]"
     ]
    },
    {
     "name": "stdout",
     "output_type": "stream",
     "text": [
      "\n",
      "\r",
      "  0%|          | 0/1 [00:00<?, ?it/s]"
     ]
    },
    {
     "name": "stdout",
     "output_type": "stream",
     "text": [
      "\r",
      "Upgrading database; v8 -> v9:   0%|          | 0/1 [00:00<?, ?it/s]"
     ]
    },
    {
     "name": "stdout",
     "output_type": "stream",
     "text": [
      "\r",
      "Upgrading database; v8 -> v9: 100%|██████████| 1/1 [00:00<00:00, 427.16it/s]"
     ]
    },
    {
     "name": "stdout",
     "output_type": "stream",
     "text": [
      "\n"
     ]
    },
    {
     "data": {
      "text/plain": [
       "tutorial_ParameterWithSetpoints#no sample#1@/home/vsts/work/1/s/docs/examples/Parameters/tutorial_paramter_with_setpoints.db\n",
       "----------------------------------------------------------------------------------------------------------------------------"
      ]
     },
     "execution_count": 1,
     "metadata": {},
     "output_type": "execute_result"
    }
   ],
   "source": [
    "tutorial_db_path = os.path.join(os.getcwd(), 'tutorial_paramter_with_setpoints.db')\n",
    "initialise_or_create_database_at(tutorial_db_path)\n",
    "load_or_create_experiment(experiment_name='tutorial_ParameterWithSetpoints', sample_name=\"no sample\")"
   ]
  },
  {
   "cell_type": "code",
   "execution_count": 7,
   "metadata": {
    "execution": {
     "iopub.execute_input": "2020-09-17T19:16:04.556983Z",
     "iopub.status.busy": "2020-09-17T19:16:04.555758Z",
     "iopub.status.idle": "2020-09-17T19:16:04.559439Z",
     "shell.execute_reply": "2020-09-17T19:16:04.558597Z"
    }
   },
   "outputs": [],
   "source": [
    "a = DummySpectrumAnalyzer('foobar')"
   ]
  },
  {
   "cell_type": "markdown",
   "metadata": {},
   "source": [
    "First we setup the limits of the spectrum"
   ]
  },
  {
   "cell_type": "code",
   "execution_count": 8,
   "metadata": {
    "execution": {
     "iopub.execute_input": "2020-09-17T19:16:04.563471Z",
     "iopub.status.busy": "2020-09-17T19:16:04.562952Z",
     "iopub.status.idle": "2020-09-17T19:16:04.566788Z",
     "shell.execute_reply": "2020-09-17T19:16:04.565940Z"
    }
   },
   "outputs": [],
   "source": [
    "a.f_start(0)\n",
    "a.f_stop(500)\n",
    "a.n_points(501)"
   ]
  },
  {
   "cell_type": "markdown",
   "metadata": {},
   "source": [
    "And we can grab the frequency axis"
   ]
  },
  {
   "cell_type": "code",
   "execution_count": 9,
   "metadata": {
    "execution": {
     "iopub.execute_input": "2020-09-17T19:16:04.573142Z",
     "iopub.status.busy": "2020-09-17T19:16:04.572539Z",
     "iopub.status.idle": "2020-09-17T19:16:04.577064Z",
     "shell.execute_reply": "2020-09-17T19:16:04.577558Z"
    }
   },
   "outputs": [
    {
     "data": {
      "text/plain": [
       "501"
      ]
     },
     "execution_count": 1,
     "metadata": {},
     "output_type": "execute_result"
    }
   ],
   "source": [
    "a.n_points()"
   ]
  },
  {
   "cell_type": "code",
   "execution_count": 10,
   "metadata": {
    "execution": {
     "iopub.execute_input": "2020-09-17T19:16:04.581427Z",
     "iopub.status.busy": "2020-09-17T19:16:04.580021Z",
     "iopub.status.idle": "2020-09-17T19:16:04.584223Z",
     "shell.execute_reply": "2020-09-17T19:16:04.583647Z"
    },
    "scrolled": false
   },
   "outputs": [
    {
     "data": {
      "text/plain": [
       "501"
      ]
     },
     "execution_count": 1,
     "metadata": {},
     "output_type": "execute_result"
    }
   ],
   "source": [
    "freq_axis = a.freq_axis()\n",
    "len(freq_axis)"
   ]
  },
  {
   "cell_type": "code",
   "execution_count": 11,
   "metadata": {
    "execution": {
     "iopub.execute_input": "2020-09-17T19:16:04.588231Z",
     "iopub.status.busy": "2020-09-17T19:16:04.586667Z",
     "iopub.status.idle": "2020-09-17T19:16:04.591732Z",
     "shell.execute_reply": "2020-09-17T19:16:04.591140Z"
    }
   },
   "outputs": [
    {
     "data": {
      "text/plain": [
       "array([0., 1., 2., 3., 4., 5., 6., 7., 8., 9.])"
      ]
     },
     "execution_count": 1,
     "metadata": {},
     "output_type": "execute_result"
    }
   ],
   "source": [
    "freq_axis[:10]"
   ]
  },
  {
   "cell_type": "markdown",
   "metadata": {},
   "source": [
    "As expected we get a result wit 501 points as we asked for an axis with 501 points. "
   ]
  },
  {
   "cell_type": "markdown",
   "metadata": {},
   "source": [
    "Above we have added a validator to the `freq_axis` parameter encoding the fact that this is an Array with `n_points`. Note that we do not have to supply the number of points as an integer but can supply a function that returns the valid number of points. This would normally be a QCoDeS parameter.\n",
    "\n",
    "This will be checked if we validate the output."
   ]
  },
  {
   "cell_type": "code",
   "execution_count": 12,
   "metadata": {
    "execution": {
     "iopub.execute_input": "2020-09-17T19:16:04.596335Z",
     "iopub.status.busy": "2020-09-17T19:16:04.595263Z",
     "iopub.status.idle": "2020-09-17T19:16:04.596907Z",
     "shell.execute_reply": "2020-09-17T19:16:04.597495Z"
    }
   },
   "outputs": [],
   "source": [
    "a.freq_axis.validate(a.freq_axis.get())"
   ]
  },
  {
   "cell_type": "markdown",
   "metadata": {},
   "source": [
    "Naturally, we can also get the spectrum. Getting the spectrum will automatically perform validation both for the shape of the parameter itself and the relation to the setpoint parameter(s)"
   ]
  },
  {
   "cell_type": "code",
   "execution_count": 13,
   "metadata": {
    "execution": {
     "iopub.execute_input": "2020-09-17T19:16:04.603022Z",
     "iopub.status.busy": "2020-09-17T19:16:04.601881Z",
     "iopub.status.idle": "2020-09-17T19:16:04.604836Z",
     "shell.execute_reply": "2020-09-17T19:16:04.605350Z"
    },
    "scrolled": true
   },
   "outputs": [
    {
     "data": {
      "text/plain": [
       "501"
      ]
     },
     "execution_count": 1,
     "metadata": {},
     "output_type": "execute_result"
    }
   ],
   "source": [
    "spectrum = a.spectrum.get()\n",
    "len(spectrum)"
   ]
  },
  {
   "cell_type": "markdown",
   "metadata": {},
   "source": [
    "When we validate a `ParameterWithSetpoints`, we automatically validate that the shape is consistent between the parameters and its setpoints. As well as validating the shape as above."
   ]
  },
  {
   "cell_type": "code",
   "execution_count": 14,
   "metadata": {
    "execution": {
     "iopub.execute_input": "2020-09-17T19:16:04.608970Z",
     "iopub.status.busy": "2020-09-17T19:16:04.607914Z",
     "iopub.status.idle": "2020-09-17T19:16:04.611402Z",
     "shell.execute_reply": "2020-09-17T19:16:04.610819Z"
    }
   },
   "outputs": [],
   "source": [
    "a.spectrum.validate(a.spectrum.get())"
   ]
  },
  {
   "cell_type": "markdown",
   "metadata": {},
   "source": [
    "The consistent shapes can be validated explicitly."
   ]
  },
  {
   "cell_type": "code",
   "execution_count": 15,
   "metadata": {
    "execution": {
     "iopub.execute_input": "2020-09-17T19:16:04.615986Z",
     "iopub.status.busy": "2020-09-17T19:16:04.614626Z",
     "iopub.status.idle": "2020-09-17T19:16:04.616582Z",
     "shell.execute_reply": "2020-09-17T19:16:04.617076Z"
    }
   },
   "outputs": [],
   "source": [
    "a.spectrum.validate_consistent_shape()"
   ]
  },
  {
   "cell_type": "markdown",
   "metadata": {},
   "source": [
    "We can inspect the setpoints of the spectrum."
   ]
  },
  {
   "cell_type": "code",
   "execution_count": 16,
   "metadata": {
    "execution": {
     "iopub.execute_input": "2020-09-17T19:16:04.621688Z",
     "iopub.status.busy": "2020-09-17T19:16:04.621168Z",
     "iopub.status.idle": "2020-09-17T19:16:04.623878Z",
     "shell.execute_reply": "2020-09-17T19:16:04.624576Z"
    }
   },
   "outputs": [
    {
     "data": {
      "text/plain": [
       "(<__main__.GeneratedSetPoints: freq_axis at 139629884642576>,)"
      ]
     },
     "execution_count": 1,
     "metadata": {},
     "output_type": "execute_result"
    }
   ],
   "source": [
    "a.spectrum.setpoints"
   ]
  },
  {
   "cell_type": "markdown",
   "metadata": {},
   "source": [
    "Or even change them."
   ]
  },
  {
   "cell_type": "code",
   "execution_count": 17,
   "metadata": {
    "execution": {
     "iopub.execute_input": "2020-09-17T19:16:04.628051Z",
     "iopub.status.busy": "2020-09-17T19:16:04.627459Z",
     "iopub.status.idle": "2020-09-17T19:16:04.630117Z",
     "shell.execute_reply": "2020-09-17T19:16:04.629574Z"
    }
   },
   "outputs": [],
   "source": [
    "a.spectrum.setpoints = (a.freq_axis,)"
   ]
  },
  {
   "cell_type": "markdown",
   "metadata": {},
   "source": [
    "## Measurement"
   ]
  },
  {
   "cell_type": "markdown",
   "metadata": {},
   "source": [
    "We can also directly consume the parameter in a measurement without defining the setpoints of the parameter again. The setpoints are automatically obtained from the definition of the `ParameterWithSetpoint` instance. "
   ]
  },
  {
   "cell_type": "code",
   "execution_count": 18,
   "metadata": {
    "execution": {
     "iopub.execute_input": "2020-09-17T19:16:04.634919Z",
     "iopub.status.busy": "2020-09-17T19:16:04.633916Z",
     "iopub.status.idle": "2020-09-17T19:16:04.651576Z",
     "shell.execute_reply": "2020-09-17T19:16:04.651037Z"
    }
   },
   "outputs": [
    {
     "name": "stdout",
     "output_type": "stream",
     "text": [
      "Starting experimental run with id: 1. \n"
     ]
    }
   ],
   "source": [
    "meas = Measurement()\n",
    "meas.register_parameter(a.spectrum)\n",
    "\n",
    "with meas.run() as datasaver:\n",
    "    datasaver.add_result((a.freq_axis, a.freq_axis()),\n",
    "                         (a.spectrum, a.spectrum()))\n",
    "    dataset = datasaver.dataset"
   ]
  },
  {
   "cell_type": "markdown",
   "metadata": {},
   "source": [
    "And plot it"
   ]
  },
  {
   "cell_type": "code",
   "execution_count": 19,
   "metadata": {
    "execution": {
     "iopub.execute_input": "2020-09-17T19:16:04.655224Z",
     "iopub.status.busy": "2020-09-17T19:16:04.654558Z",
     "iopub.status.idle": "2020-09-17T19:16:05.059906Z",
     "shell.execute_reply": "2020-09-17T19:16:05.059229Z"
    }
   },
   "outputs": [
    {
     "data": {
      "text/plain": [
       "([<matplotlib.axes._subplots.AxesSubplot at 0x7efe1e349d10>], [None])"
      ]
     },
     "execution_count": 1,
     "metadata": {},
     "output_type": "execute_result"
    },
    {
     "data": {
      "image/png": "[encoded data removed]",
      "text/plain": [
       "<Figure size 432x288 with 1 Axes>"
      ]
     },
     "metadata": {
      "needs_background": "light"
     },
     "output_type": "display_data"
    }
   ],
   "source": [
    "plot_dataset(dataset)"
   ]
  },
  {
   "cell_type": "markdown",
   "metadata": {},
   "source": [
    "To reduce the amount of typing a simple convenience function is provided that will take a `ParameterWithSetpoints` and get both its values and the setpoints values and return them as tuples for direct insertion into the Dataset."
   ]
  },
  {
   "cell_type": "code",
   "execution_count": 20,
   "metadata": {
    "execution": {
     "iopub.execute_input": "2020-09-17T19:16:05.075548Z",
     "iopub.status.busy": "2020-09-17T19:16:05.063841Z",
     "iopub.status.idle": "2020-09-17T19:16:05.080713Z",
     "shell.execute_reply": "2020-09-17T19:16:05.079967Z"
    },
    "scrolled": true
   },
   "outputs": [
    {
     "data": {
      "text/plain": [
       "[(<__main__.GeneratedSetPoints: freq_axis at 139629884642576>,\n",
       "  array([  0.,   1.,   2.,   3.,   4.,   5.,   6.,   7.,   8.,   9.,  10.,\n",
       "          11.,  12.,  13.,  14.,  15.,  16.,  17.,  18.,  19.,  20.,  21.,\n",
       "          22.,  23.,  24.,  25.,  26.,  27.,  28.,  29.,  30.,  31.,  32.,\n",
       "          33.,  34.,  35.,  36.,  37.,  38.,  39.,  40.,  41.,  42.,  43.,\n",
       "          44.,  45.,  46.,  47.,  48.,  49.,  50.,  51.,  52.,  53.,  54.,\n",
       "          55.,  56.,  57.,  58.,  59.,  60.,  61.,  62.,  63.,  64.,  65.,\n",
       "          66.,  67.,  68.,  69.,  70.,  71.,  72.,  73.,  74.,  75.,  76.,\n",
       "          77.,  78.,  79.,  80.,  81.,  82.,  83.,  84.,  85.,  86.,  87.,\n",
       "          88.,  89.,  90.,  91.,  92.,  93.,  94.,  95.,  96.,  97.,  98.,\n",
       "          99., 100., 101., 102., 103., 104., 105., 106., 107., 108., 109.,\n",
       "         110., 111., 112., 113., 114., 115., 116., 117., 118., 119., 120.,\n",
       "         121., 122., 123., 124., 125., 126., 127., 128., 129., 130., 131.,\n",
       "         132., 133., 134., 135., 136., 137., 138., 139., 140., 141., 142.,\n",
       "         143., 144., 145., 146., 147., 148., 149., 150., 151., 152., 153.,\n",
       "         154., 155., 156., 157., 158., 159., 160., 161., 162., 163., 164.,\n",
       "         165., 166., 167., 168., 169., 170., 171., 172., 173., 174., 175.,\n",
       "         176., 177., 178., 179., 180., 181., 182., 183., 184., 185., 186.,\n",
       "         187., 188., 189., 190., 191., 192., 193., 194., 195., 196., 197.,\n",
       "         198., 199., 200., 201., 202., 203., 204., 205., 206., 207., 208.,\n",
       "         209., 210., 211., 212., 213., 214., 215., 216., 217., 218., 219.,\n",
       "         220., 221., 222., 223., 224., 225., 226., 227., 228., 229., 230.,\n",
       "         231., 232., 233., 234., 235., 236., 237., 238., 239., 240., 241.,\n",
       "         242., 243., 244., 245., 246., 247., 248., 249., 250., 251., 252.,\n",
       "         253., 254., 255., 256., 257., 258., 259., 260., 261., 262., 263.,\n",
       "         264., 265., 266., 267., 268., 269., 270., 271., 272., 273., 274.,\n",
       "         275., 276., 277., 278., 279., 280., 281., 282., 283., 284., 285.,\n",
       "         286., 287., 288., 289., 290., 291., 292., 293., 294., 295., 296.,\n",
       "         297., 298., 299., 300., 301., 302., 303., 304., 305., 306., 307.,\n",
       "         308., 309., 310., 311., 312., 313., 314., 315., 316., 317., 318.,\n",
       "         319., 320., 321., 322., 323., 324., 325., 326., 327., 328., 329.,\n",
       "         330., 331., 332., 333., 334., 335., 336., 337., 338., 339., 340.,\n",
       "         341., 342., 343., 344., 345., 346., 347., 348., 349., 350., 351.,\n",
       "         352., 353., 354., 355., 356., 357., 358., 359., 360., 361., 362.,\n",
       "         363., 364., 365., 366., 367., 368., 369., 370., 371., 372., 373.,\n",
       "         374., 375., 376., 377., 378., 379., 380., 381., 382., 383., 384.,\n",
       "         385., 386., 387., 388., 389., 390., 391., 392., 393., 394., 395.,\n",
       "         396., 397., 398., 399., 400., 401., 402., 403., 404., 405., 406.,\n",
       "         407., 408., 409., 410., 411., 412., 413., 414., 415., 416., 417.,\n",
       "         418., 419., 420., 421., 422., 423., 424., 425., 426., 427., 428.,\n",
       "         429., 430., 431., 432., 433., 434., 435., 436., 437., 438., 439.,\n",
       "         440., 441., 442., 443., 444., 445., 446., 447., 448., 449., 450.,\n",
       "         451., 452., 453., 454., 455., 456., 457., 458., 459., 460., 461.,\n",
       "         462., 463., 464., 465., 466., 467., 468., 469., 470., 471., 472.,\n",
       "         473., 474., 475., 476., 477., 478., 479., 480., 481., 482., 483.,\n",
       "         484., 485., 486., 487., 488., 489., 490., 491., 492., 493., 494.,\n",
       "         495., 496., 497., 498., 499., 500.])),\n",
       " (<__main__.DummyArray: spectrum at 139629897871760>,\n",
       "  array([7.30955003e-01, 7.11498941e-01, 1.62468238e-01, 1.17314275e-01,\n",
       "         4.64913121e-02, 8.87577836e-01, 5.23087522e-01, 9.80118885e-01,\n",
       "         1.32435125e-01, 2.35308755e-01, 7.03348905e-01, 7.62120373e-01,\n",
       "         2.92786857e-01, 8.70455968e-01, 1.92223383e-01, 3.88046270e-01,\n",
       "         4.52281932e-01, 9.52278571e-01, 1.15646961e-01, 5.51203854e-01,\n",
       "         7.73596773e-01, 1.41365123e-01, 1.43728727e-01, 3.40895578e-01,\n",
       "         1.70096086e-01, 2.10031613e-01, 4.00861197e-01, 1.65100092e-01,\n",
       "         7.56060501e-01, 5.51586632e-01, 3.85920053e-01, 2.53182632e-01,\n",
       "         6.16821705e-02, 4.59100523e-01, 3.40110828e-01, 2.18706585e-01,\n",
       "         8.46352644e-01, 5.15738562e-01, 1.96120978e-01, 9.10711213e-01,\n",
       "         2.91738568e-01, 7.75324511e-01, 3.40221165e-01, 3.93830790e-03,\n",
       "         8.76258885e-01, 9.59874274e-02, 5.23551000e-01, 4.18035928e-02,\n",
       "         6.47935371e-01, 1.50892013e-01, 7.16474272e-01, 8.98763511e-01,\n",
       "         1.98610553e-01, 6.07967405e-01, 9.48104312e-02, 3.27887708e-01,\n",
       "         3.61388860e-04, 8.20321442e-02, 2.36370698e-01, 7.50187328e-01,\n",
       "         3.75770140e-01, 2.78991495e-02, 4.49551716e-01, 8.42330726e-01,\n",
       "         2.85892152e-01, 4.92650833e-01, 4.35005938e-03, 8.50711052e-02,\n",
       "         5.11850307e-01, 8.54052465e-01, 3.75244412e-01, 5.00755690e-01,\n",
       "         3.37069173e-01, 5.20098121e-01, 9.92289295e-01, 7.35940645e-01,\n",
       "         6.33021799e-01, 6.84453377e-01, 1.24746252e-01, 7.33431990e-02,\n",
       "         9.78092392e-01, 8.46574929e-01, 7.01777140e-01, 4.11087756e-01,\n",
       "         7.80763849e-01, 9.22805162e-01, 9.10818503e-01, 9.04038631e-01,\n",
       "         3.30294430e-01, 1.47767457e-01, 8.14787445e-01, 3.91528594e-01,\n",
       "         9.17842008e-01, 8.31936806e-02, 3.20681136e-01, 8.65851841e-01,\n",
       "         9.08047831e-01, 3.40956316e-01, 5.00219199e-01, 1.44831523e-01,\n",
       "         6.56316635e-01, 4.59360821e-01, 6.76502392e-01, 8.35656727e-01,\n",
       "         8.41940009e-01, 3.58896235e-01, 9.18386427e-01, 7.26548838e-01,\n",
       "         3.22790490e-02, 5.97574096e-01, 8.70896075e-01, 3.93040548e-01,\n",
       "         4.02081760e-01, 6.32716189e-01, 4.13866608e-01, 8.85766331e-01,\n",
       "         1.92734663e-01, 5.64640468e-01, 8.95132355e-01, 8.77794617e-01,\n",
       "         1.37842693e-01, 9.84718994e-01, 6.25450989e-01, 1.78994526e-01,\n",
       "         6.44344480e-02, 6.56975299e-01, 8.63567297e-01, 6.08660857e-01,\n",
       "         8.44106041e-01, 7.69908740e-01, 6.58050023e-01, 8.49040361e-01,\n",
       "         1.54410276e-01, 5.31471033e-01, 6.53101641e-01, 6.41072245e-02,\n",
       "         9.82052811e-01, 4.51764855e-01, 6.36380631e-01, 8.55789596e-01,\n",
       "         9.71060933e-01, 7.75704928e-02, 1.31655770e-01, 2.45876274e-01,\n",
       "         7.36792013e-01, 2.43006831e-01, 7.01590197e-01, 9.02997565e-01,\n",
       "         6.70242479e-01, 4.60324265e-01, 9.98212613e-01, 4.39891195e-01,\n",
       "         5.71366549e-01, 2.01211726e-02, 7.56238071e-01, 7.45723012e-01,\n",
       "         4.37212344e-01, 2.73569326e-01, 5.81383432e-01, 9.97657719e-01,\n",
       "         4.21618697e-01, 1.25061444e-01, 2.15116179e-01, 5.88363911e-01,\n",
       "         4.91177196e-01, 6.29060726e-01, 4.89924895e-01, 1.72101130e-01,\n",
       "         7.01497272e-01, 5.59239154e-01, 7.49685732e-01, 3.42956125e-01,\n",
       "         4.20664533e-01, 9.33548782e-01, 6.21580436e-01, 9.90235630e-01,\n",
       "         9.14335963e-01, 1.46055841e-01, 4.58656416e-01, 6.01471816e-01,\n",
       "         3.88870010e-03, 1.73378479e-01, 7.07311438e-01, 3.58947980e-01,\n",
       "         1.49629128e-01, 5.98028489e-02, 2.33326466e-02, 7.93860107e-01,\n",
       "         1.24624256e-01, 8.67382773e-01, 6.26011186e-01, 3.27802475e-01,\n",
       "         6.67483252e-01, 4.20594220e-01, 9.92598161e-01, 5.09066777e-01,\n",
       "         5.21617007e-01, 4.02992135e-01, 7.43744194e-01, 9.79842240e-01,\n",
       "         6.61398759e-01, 8.62872144e-01, 8.18742785e-01, 6.36385821e-01,\n",
       "         3.18380017e-01, 4.39924936e-01, 7.36624451e-01, 9.29057682e-01,\n",
       "         8.39532700e-01, 6.07309444e-01, 2.48565445e-01, 3.38101984e-01,\n",
       "         7.27590061e-01, 2.68612806e-02, 8.51961392e-01, 6.70530302e-01,\n",
       "         3.24039483e-01, 7.93241130e-01, 2.31354478e-01, 3.36995919e-01,\n",
       "         8.85331560e-02, 3.53278214e-01, 5.59682963e-01, 3.60369358e-01,\n",
       "         4.19434413e-01, 9.78340730e-01, 8.39346942e-01, 7.89879843e-01,\n",
       "         6.09649524e-01, 2.47748497e-01, 3.40867605e-01, 1.74135194e-01,\n",
       "         6.84924719e-01, 3.17608923e-01, 5.73860312e-02, 4.28438030e-01,\n",
       "         4.02613092e-01, 2.17812679e-01, 8.92836347e-01, 4.57740363e-01,\n",
       "         7.85231087e-01, 5.56921527e-01, 7.06622787e-01, 2.78934781e-01,\n",
       "         7.59719677e-01, 4.23033729e-01, 8.88122323e-01, 5.92488758e-01,\n",
       "         6.62761357e-01, 5.28969817e-01, 7.79001224e-01, 7.63974444e-01,\n",
       "         1.84869817e-01, 1.93425285e-01, 6.22354370e-01, 2.23535793e-01,\n",
       "         6.92960430e-01, 8.23752718e-01, 4.34037099e-01, 6.55853647e-01,\n",
       "         7.92651016e-01, 5.46443228e-01, 2.76469640e-01, 9.32952270e-01,\n",
       "         8.35295659e-01, 5.91194112e-01, 1.93296893e-03, 7.77791269e-01,\n",
       "         9.45576697e-01, 2.86420842e-01, 3.27649184e-01, 3.97343729e-01,\n",
       "         6.98897017e-01, 3.18020582e-01, 9.91053594e-01, 6.11137323e-01,\n",
       "         5.38873097e-01, 2.95267146e-01, 4.88981542e-01, 7.44141530e-01,\n",
       "         1.90786968e-01, 9.78717355e-02, 6.33446012e-01, 6.39222428e-01,\n",
       "         6.37194526e-01, 2.07739245e-01, 9.86330774e-01, 5.00560366e-01,\n",
       "         1.53343464e-01, 9.30883745e-01, 3.95632531e-01, 6.39056971e-01,\n",
       "         4.73881968e-01, 4.19115642e-01, 5.99707180e-01, 5.48527853e-01,\n",
       "         7.79567228e-01, 4.51982355e-02, 6.03858747e-01, 7.47895460e-01,\n",
       "         8.56050771e-01, 2.82822878e-01, 6.30879589e-02, 4.48105141e-01,\n",
       "         6.41994440e-01, 8.63645391e-02, 1.32213766e-01, 1.24330172e-01,\n",
       "         9.96793958e-01, 2.16347236e-01, 3.02374129e-01, 8.68962805e-01,\n",
       "         3.94137810e-01, 9.89379364e-01, 9.01862296e-02, 6.53076882e-01,\n",
       "         4.76372633e-01, 5.60112224e-01, 7.40874298e-01, 9.62897626e-01,\n",
       "         2.63404987e-01, 1.78399265e-01, 1.52074404e-01, 5.87038030e-02,\n",
       "         3.03480466e-01, 9.16466620e-01, 5.60888210e-01, 5.09479179e-01,\n",
       "         6.31093342e-01, 6.54826708e-02, 8.92179991e-01, 9.15779868e-01,\n",
       "         5.16105443e-01, 9.53807092e-01, 2.77627680e-01, 8.06584870e-01,\n",
       "         3.55371885e-01, 3.96720433e-01, 3.56619009e-01, 2.13890950e-01,\n",
       "         4.65342142e-01, 4.94862135e-01, 1.59185253e-01, 3.55458789e-01,\n",
       "         6.20940399e-01, 1.55142688e-01, 5.04256531e-01, 7.72613281e-01,\n",
       "         3.01038632e-01, 9.26943811e-01, 7.12983506e-01, 3.81798630e-01,\n",
       "         4.71952805e-01, 8.95464837e-02, 3.46824882e-02, 2.36283750e-01,\n",
       "         1.55070420e-01, 1.10008269e-01, 7.19603257e-01, 8.71128082e-02,\n",
       "         8.58586007e-01, 5.08639299e-01, 9.06124647e-01, 4.20843889e-01,\n",
       "         1.41980507e-01, 1.89833212e-01, 7.40914955e-01, 2.27164489e-01,\n",
       "         9.37877074e-01, 5.51803627e-01, 4.98533348e-01, 9.81475114e-01,\n",
       "         8.14605506e-01, 9.57751038e-01, 2.70806127e-01, 1.62509680e-01,\n",
       "         3.69387218e-01, 5.63121828e-01, 3.35898212e-01, 8.42217487e-01,\n",
       "         2.93753284e-01, 9.10917114e-01, 4.22736669e-01, 1.71764766e-01,\n",
       "         4.25529507e-02, 7.09482860e-01, 5.90425188e-01, 6.95551955e-01,\n",
       "         5.38771980e-01, 8.01216512e-01, 1.66727615e-02, 1.79778593e-01,\n",
       "         6.12909824e-01, 5.07859674e-02, 7.16202046e-01, 6.10122898e-01,\n",
       "         2.02961053e-01, 8.75799519e-01, 8.63417512e-01, 4.78816851e-01,\n",
       "         7.06766311e-01, 8.82238355e-01, 7.17934895e-01, 5.88167931e-01,\n",
       "         5.22418822e-01, 3.21588066e-01, 5.99170829e-01, 5.09180566e-01,\n",
       "         1.51235640e-01, 5.06104931e-01, 9.92290682e-01, 6.20484419e-01,\n",
       "         6.05022328e-01, 5.76337072e-01, 2.61471648e-01, 7.93318083e-01,\n",
       "         4.61598019e-01, 1.81575265e-01, 3.07800261e-01, 1.50449140e-01,\n",
       "         9.53650031e-01, 8.68825416e-01, 6.36992377e-01, 9.69358935e-01,\n",
       "         3.52276214e-01, 3.05982946e-02, 3.20698990e-01, 1.66175994e-01,\n",
       "         3.05825555e-01, 5.43059068e-01, 5.32702288e-01, 2.68162141e-01,\n",
       "         4.74928024e-02, 8.65778253e-01, 1.32261323e-01, 8.99609178e-01,\n",
       "         7.88877818e-01, 3.93985943e-01, 9.83707577e-01, 6.19711004e-01,\n",
       "         5.94434751e-01, 8.16217097e-01, 6.62864581e-01, 3.57100179e-02,\n",
       "         6.21317070e-01, 5.30187728e-01, 1.22654055e-01, 5.60499564e-01,\n",
       "         7.93289752e-01, 7.70203549e-01, 7.20305914e-01, 1.57929781e-01,\n",
       "         3.02970109e-01, 9.32983828e-02, 4.90909531e-01, 4.41666653e-01,\n",
       "         4.10180466e-01, 1.09674817e-01, 2.44946088e-01, 9.70326324e-01,\n",
       "         8.63297081e-01, 3.03750422e-01, 5.72088045e-01, 9.18723893e-01,\n",
       "         3.55384838e-01, 9.40780142e-01, 6.23870150e-01, 8.79762712e-01,\n",
       "         5.79378625e-01, 5.58292957e-01, 9.11579227e-01, 9.17044501e-01,\n",
       "         6.54382285e-02, 8.40728463e-01, 9.40078175e-01, 4.33448152e-01,\n",
       "         2.34919660e-01, 9.10719835e-01, 1.59894143e-01, 7.29324021e-02,\n",
       "         7.21614027e-01, 4.91447190e-01, 7.17622079e-01, 6.53720920e-01,\n",
       "         2.58317034e-01, 4.37812849e-01, 9.45915703e-01, 2.20949677e-01,\n",
       "         9.22977407e-01, 1.83235119e-01, 9.62297612e-01, 8.09891869e-01,\n",
       "         6.41769360e-01, 1.39740603e-01, 9.10538346e-01, 9.04419237e-01,\n",
       "         3.56125389e-01, 6.95499000e-01, 7.27290037e-01, 3.02179774e-01,\n",
       "         9.10665995e-01]))]"
      ]
     },
     "execution_count": 1,
     "metadata": {},
     "output_type": "execute_result"
    }
   ],
   "source": [
    "expand_setpoints_helper(a.spectrum)"
   ]
  },
  {
   "cell_type": "code",
   "execution_count": 21,
   "metadata": {
    "execution": {
     "iopub.execute_input": "2020-09-17T19:16:05.085464Z",
     "iopub.status.busy": "2020-09-17T19:16:05.084516Z",
     "iopub.status.idle": "2020-09-17T19:16:05.101042Z",
     "shell.execute_reply": "2020-09-17T19:16:05.100548Z"
    }
   },
   "outputs": [
    {
     "name": "stdout",
     "output_type": "stream",
     "text": [
      "Starting experimental run with id: 2. \n"
     ]
    }
   ],
   "source": [
    "meas = Measurement()\n",
    "meas.register_parameter(a.spectrum)\n",
    "\n",
    "with meas.run() as datasaver:\n",
    "    datasaver.add_result(*expand_setpoints_helper(a.spectrum))\n",
    "    \n",
    "    dataid = datasaver.run_id"
   ]
  },
  {
   "cell_type": "code",
   "execution_count": null,
   "metadata": {},
   "outputs": [],
   "source": []
  }
 ],
 "metadata": {
  "kernelspec": {
   "display_name": "Python 3",
   "language": "python",
   "name": "python3"
  },
  "language_info": {
   "codemirror_mode": {
    "name": "ipython",
    "version": 3
   },
   "file_extension": ".py",
   "mimetype": "text/x-python",
   "name": "python",
   "nbconvert_exporter": "python",
   "pygments_lexer": "ipython3",
   "version": "3.7.7"
  },
  "toc": {
   "base_numbering": 1,
   "nav_menu": {},
   "number_sections": true,
   "sideBar": true,
   "skip_h1_title": false,
   "title_cell": "Table of Contents",
   "title_sidebar": "Contents",
   "toc_cell": false,
   "toc_position": {},
   "toc_section_display": true,
   "toc_window_display": false
  },
  "varInspector": {
   "cols": {
    "lenName": 16,
    "lenType": 16,
    "lenVar": 40
   },
   "kernels_config": {
    "python": {
     "delete_cmd_postfix": "",
     "delete_cmd_prefix": "del ",
     "library": "var_list.py",
     "varRefreshCmd": "print(var_dic_list())"
    },
    "r": {
     "delete_cmd_postfix": ") ",
     "delete_cmd_prefix": "rm(",
     "library": "var_list.r",
     "varRefreshCmd": "cat(var_dic_list()) "
    }
   },
   "types_to_exclude": [
    "module",
    "function",
    "builtin_function_or_method",
    "instance",
    "_Feature"
   ],
   "window_display": false
  }
 },
 "nbformat": 4,
 "nbformat_minor": 2
}
