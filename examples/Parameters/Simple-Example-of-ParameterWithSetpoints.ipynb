{
 "cells": [
  {
   "cell_type": "markdown",
   "metadata": {},
   "source": [
    "# Simple Example of ParameterWithSetpoints\n",
    "This notebook provides an example for writing a simple driver with a parameter that has setpoints. Let's name this parameter that has setpoints as \"y\". Then, the setpoints, say \"x1, x2, x3 ..\", are the parameters on which the parameter \n",
    "\"y\" depends upon. Meaning \"y\" is a function of \"x1, x2, x3 ...\" where \"x1, x2, x3 ...\" are known as the setpoints of parameter \"y\".\n",
    "\n",
    "This is most likely to be useful for instruments that return arrays of results. In this notebook, we will show an example of this."
   ]
  },
  {
   "cell_type": "code",
   "execution_count": 1,
   "metadata": {},
   "outputs": [],
   "source": [
    "import numpy as np\n",
    "import os"
   ]
  },
  {
   "cell_type": "code",
   "execution_count": 2,
   "metadata": {},
   "outputs": [
    {
     "name": "stdout",
     "output_type": "stream",
     "text": [
      "Logging hadn't been started.\n",
      "Activating auto-logging. Current session state plus future input saved.\n",
      "Filename       : /home/vsts/.qcodes/logs/command_history.log\n",
      "Mode           : append\n",
      "Output logging : True\n",
      "Raw input log  : False\n",
      "Timestamping   : True\n",
      "State          : active\n"
     ]
    },
    {
     "name": "stdout",
     "output_type": "stream",
     "text": [
      "Qcodes Logfile : /home/vsts/.qcodes/logs/200827-22047-qcodes.log\n"
     ]
    }
   ],
   "source": [
    "from qcodes.dataset.plotting import plot_dataset\n",
    "from qcodes.utils.validators import Numbers, Arrays\n",
    "from qcodes.instrument.base import Instrument\n",
    "from qcodes.dataset.measurements import Measurement"
   ]
  },
  {
   "cell_type": "code",
   "execution_count": 3,
   "metadata": {},
   "outputs": [],
   "source": [
    "from qcodes.dataset.sqlite.database import initialise_or_create_database_at\n",
    "from qcodes.dataset.experiment_container import load_or_create_experiment"
   ]
  },
  {
   "cell_type": "code",
   "execution_count": 4,
   "metadata": {},
   "outputs": [],
   "source": [
    "from qcodes.instrument.parameter import ParameterWithSetpoints, Parameter\n",
    "from qcodes.instrument.parameter import expand_setpoints_helper"
   ]
  },
  {
   "cell_type": "markdown",
   "metadata": {},
   "source": [
    "First, we define a dummy instrument that returns something like a frequency spectrum starting from a frequency given by `f_start` to a frequency given by `f_stop` in `n_points` steps. \n",
    "\n",
    "The extra functionality of the `ParameterWithSetpoints` is implemented by giving it a reference to one or more parameters that acts like its setpoints. \n",
    "\n",
    "To setup a `ParameterWithSetpoints` we have to do two things in addition to what we do for a normal parameter.\n",
    "\n",
    "* Define one or more parameter for the setpoints (one for each dimension of the array and let the `ParameterWithSetpoints` know that these are the setpoints.\n",
    "* Give both the setpoints parameter(s) and the `ParameterWithSetpoints` a `validator` of type `Arrays` with a shape. The shapes should be such that the combined shape of the setpoints matches the shape of the `ParameterWithSetpoints`. Note that if the shape changes with the setting of the instrument, it can be defined by another parameter as shown below. "
   ]
  },
  {
   "cell_type": "code",
   "execution_count": 5,
   "metadata": {},
   "outputs": [],
   "source": [
    "class GeneratedSetPoints(Parameter):\n",
    "    \"\"\"\n",
    "    A parameter that generates a setpoint array from start, stop and num points\n",
    "    parameters.\n",
    "    \"\"\"\n",
    "    def __init__(self, startparam, stopparam, numpointsparam, *args, **kwargs):\n",
    "        super().__init__(*args, **kwargs)\n",
    "        self._startparam = startparam\n",
    "        self._stopparam = stopparam\n",
    "        self._numpointsparam = numpointsparam\n",
    "\n",
    "    def get_raw(self):\n",
    "        return np.linspace(self._startparam(), self._stopparam(),\n",
    "                              self._numpointsparam())\n",
    "\n",
    "class DummyArray(ParameterWithSetpoints):\n",
    "    \n",
    "    def get_raw(self):\n",
    "        npoints = self.root_instrument.n_points.get_latest()\n",
    "        return np.random.rand(npoints)\n",
    "    \n",
    "\n",
    "class DummySpectrumAnalyzer(Instrument):\n",
    "    \n",
    "    def __init__(self, name, **kwargs):\n",
    "        \n",
    "        super().__init__(name, **kwargs)\n",
    "            \n",
    "\n",
    "        self.add_parameter('f_start',\n",
    "                           initial_value=0,\n",
    "                           unit='Hz',\n",
    "                           label='f start',\n",
    "                           vals=Numbers(0,1e3),\n",
    "                           get_cmd=None,\n",
    "                           set_cmd=None)\n",
    "\n",
    "        self.add_parameter('f_stop',\n",
    "                           unit='Hz',\n",
    "                           label='f stop',\n",
    "                           vals=Numbers(1,1e3),\n",
    "                           get_cmd=None,\n",
    "                           set_cmd=None)\n",
    "\n",
    "        self.add_parameter('n_points',\n",
    "                           unit='',\n",
    "                           initial_value=10,\n",
    "                           vals=Numbers(1,1e3),\n",
    "                           get_cmd=None,\n",
    "                           set_cmd=None)\n",
    "        \n",
    "        self.add_parameter('freq_axis',\n",
    "                           unit='Hz',\n",
    "                           label='Freq Axis',\n",
    "                           parameter_class=GeneratedSetPoints,\n",
    "                           startparam=self.f_start,\n",
    "                           stopparam=self.f_stop,\n",
    "                           numpointsparam=self.n_points,\n",
    "                           vals=Arrays(shape=(self.n_points.get_latest,)))\n",
    "                           \n",
    "        self.add_parameter('spectrum',\n",
    "                   unit='dBm',\n",
    "                   setpoints=(self.freq_axis,),\n",
    "                   label='Spectrum',\n",
    "                   parameter_class=DummyArray,\n",
    "                   vals=Arrays(shape=(self.n_points.get_latest,)))\n",
    "                "
   ]
  },
  {
   "cell_type": "markdown",
   "metadata": {},
   "source": [
    "In the above example, the shape is defined by the parameter `n_points` that defines how many samples our `DummySpectrumAnalyzer` returns.\n",
    "\n",
    "This means that the validation will call the function to get `n_points` twice for each `get` of the parameter. This may be too slow, however, if you (as the driver-writer) can guarantee that the cached value for `n_points` will never be out of sync with the value stored in the instrument, `n_points` may be replaced by it's latest known value such that the `validator` reads:\n",
    "```python\n",
    "vals=Arrays(shape=(self.n_points.get_latest))\n",
    "```\n",
    "\n",
    "This avoids any additional call to the instrument. In the same way, the arguments to the `freq_axis` parameter that defines the start, stop and number of points can be replaced by their latest value if the instrument allows it.\n",
    "\n"
   ]
  },
  {
   "cell_type": "code",
   "execution_count": 6,
   "metadata": {},
   "outputs": [
    {
     "name": "stdout",
     "output_type": "stream",
     "text": [
      "\r",
      "0it [00:00, ?it/s]"
     ]
    },
    {
     "name": "stdout",
     "output_type": "stream",
     "text": [
      "\r",
      "Upgrading database; v0 -> v1: : 0it [00:00, ?it/s]"
     ]
    },
    {
     "name": "stdout",
     "output_type": "stream",
     "text": [
      "\r",
      "Upgrading database; v0 -> v1: : 0it [00:00, ?it/s]"
     ]
    },
    {
     "name": "stdout",
     "output_type": "stream",
     "text": [
      "\n",
      "\r",
      "  0%|          | 0/1 [00:00<?, ?it/s]"
     ]
    },
    {
     "name": "stdout",
     "output_type": "stream",
     "text": [
      "\r",
      "Upgrading database; v1 -> v2:   0%|          | 0/1 [00:00<?, ?it/s]"
     ]
    },
    {
     "name": "stdout",
     "output_type": "stream",
     "text": [
      "\r",
      "Upgrading database; v1 -> v2: 100%|██████████| 1/1 [00:00<00:00, 726.54it/s]"
     ]
    },
    {
     "name": "stdout",
     "output_type": "stream",
     "text": [
      "\n",
      "\r",
      "0it [00:00, ?it/s]"
     ]
    },
    {
     "name": "stdout",
     "output_type": "stream",
     "text": [
      "\r",
      "Upgrading database; v2 -> v3: : 0it [00:00, ?it/s]"
     ]
    },
    {
     "name": "stdout",
     "output_type": "stream",
     "text": [
      "\r",
      "Upgrading database; v2 -> v3: : 0it [00:00, ?it/s]"
     ]
    },
    {
     "name": "stdout",
     "output_type": "stream",
     "text": [
      "\n",
      "\r",
      "0it [00:00, ?it/s]"
     ]
    },
    {
     "name": "stdout",
     "output_type": "stream",
     "text": [
      "\r",
      "Upgrading database; v3 -> v4: : 0it [00:00, ?it/s]"
     ]
    },
    {
     "name": "stdout",
     "output_type": "stream",
     "text": [
      "\r",
      "Upgrading database; v3 -> v4: : 0it [00:00, ?it/s]"
     ]
    },
    {
     "name": "stdout",
     "output_type": "stream",
     "text": [
      "\n",
      "\r",
      "  0%|          | 0/1 [00:00<?, ?it/s]"
     ]
    },
    {
     "name": "stdout",
     "output_type": "stream",
     "text": [
      "\r",
      "Upgrading database; v4 -> v5:   0%|          | 0/1 [00:00<?, ?it/s]"
     ]
    },
    {
     "name": "stdout",
     "output_type": "stream",
     "text": [
      "\r",
      "Upgrading database; v4 -> v5: 100%|██████████| 1/1 [00:00<00:00, 689.63it/s]"
     ]
    },
    {
     "name": "stdout",
     "output_type": "stream",
     "text": [
      "\n",
      "\r",
      "0it [00:00, ?it/s]"
     ]
    },
    {
     "name": "stdout",
     "output_type": "stream",
     "text": [
      "\r",
      "Upgrading database; v5 -> v6: : 0it [00:00, ?it/s]"
     ]
    },
    {
     "name": "stdout",
     "output_type": "stream",
     "text": [
      "\r",
      "Upgrading database; v5 -> v6: : 0it [00:00, ?it/s]"
     ]
    },
    {
     "name": "stdout",
     "output_type": "stream",
     "text": [
      "\n",
      "\r",
      "  0%|          | 0/1 [00:00<?, ?it/s]"
     ]
    },
    {
     "name": "stdout",
     "output_type": "stream",
     "text": [
      "\r",
      "Upgrading database; v6 -> v7:   0%|          | 0/1 [00:00<?, ?it/s]"
     ]
    },
    {
     "name": "stdout",
     "output_type": "stream",
     "text": [
      "\r",
      "Upgrading database; v6 -> v7: 100%|██████████| 1/1 [00:00<00:00, 366.67it/s]"
     ]
    },
    {
     "name": "stdout",
     "output_type": "stream",
     "text": [
      "\n",
      "\r",
      "  0%|          | 0/1 [00:00<?, ?it/s]"
     ]
    },
    {
     "name": "stdout",
     "output_type": "stream",
     "text": [
      "\r",
      "Upgrading database; v7 -> v8:   0%|          | 0/1 [00:00<?, ?it/s]"
     ]
    },
    {
     "name": "stdout",
     "output_type": "stream",
     "text": [
      "\r",
      "Upgrading database; v7 -> v8: 100%|██████████| 1/1 [00:00<00:00, 712.11it/s]"
     ]
    },
    {
     "name": "stdout",
     "output_type": "stream",
     "text": [
      "\n",
      "\r",
      "  0%|          | 0/1 [00:00<?, ?it/s]"
     ]
    },
    {
     "name": "stdout",
     "output_type": "stream",
     "text": [
      "\r",
      "Upgrading database; v8 -> v9:   0%|          | 0/1 [00:00<?, ?it/s]"
     ]
    },
    {
     "name": "stdout",
     "output_type": "stream",
     "text": [
      "\r",
      "Upgrading database; v8 -> v9: 100%|██████████| 1/1 [00:00<00:00, 798.76it/s]"
     ]
    },
    {
     "name": "stdout",
     "output_type": "stream",
     "text": [
      "\n"
     ]
    },
    {
     "data": {
      "text/plain": [
       "tutorial_ParameterWithSetpoints#no sample#1@/home/vsts/work/1/s/docs/examples/Parameters/tutorial_paramter_with_setpoints.db\n",
       "----------------------------------------------------------------------------------------------------------------------------"
      ]
     },
     "execution_count": 6,
     "metadata": {},
     "output_type": "execute_result"
    }
   ],
   "source": [
    "tutorial_db_path = os.path.join(os.getcwd(), 'tutorial_paramter_with_setpoints.db')\n",
    "initialise_or_create_database_at(tutorial_db_path)\n",
    "load_or_create_experiment(experiment_name='tutorial_ParameterWithSetpoints', sample_name=\"no sample\")"
   ]
  },
  {
   "cell_type": "code",
   "execution_count": 7,
   "metadata": {},
   "outputs": [],
   "source": [
    "a = DummySpectrumAnalyzer('foobar')"
   ]
  },
  {
   "cell_type": "markdown",
   "metadata": {},
   "source": [
    "First we setup the limits of the spectrum"
   ]
  },
  {
   "cell_type": "code",
   "execution_count": 8,
   "metadata": {},
   "outputs": [],
   "source": [
    "a.f_start(0)\n",
    "a.f_stop(500)\n",
    "a.n_points(501)"
   ]
  },
  {
   "cell_type": "markdown",
   "metadata": {},
   "source": [
    "And we can grab the frequency axis"
   ]
  },
  {
   "cell_type": "code",
   "execution_count": 9,
   "metadata": {},
   "outputs": [
    {
     "data": {
      "text/plain": [
       "501"
      ]
     },
     "execution_count": 9,
     "metadata": {},
     "output_type": "execute_result"
    }
   ],
   "source": [
    "a.n_points()"
   ]
  },
  {
   "cell_type": "code",
   "execution_count": 10,
   "metadata": {
    "scrolled": false
   },
   "outputs": [
    {
     "data": {
      "text/plain": [
       "501"
      ]
     },
     "execution_count": 10,
     "metadata": {},
     "output_type": "execute_result"
    }
   ],
   "source": [
    "freq_axis = a.freq_axis()\n",
    "len(freq_axis)"
   ]
  },
  {
   "cell_type": "code",
   "execution_count": 11,
   "metadata": {},
   "outputs": [
    {
     "data": {
      "text/plain": [
       "array([0., 1., 2., 3., 4., 5., 6., 7., 8., 9.])"
      ]
     },
     "execution_count": 11,
     "metadata": {},
     "output_type": "execute_result"
    }
   ],
   "source": [
    "freq_axis[:10]"
   ]
  },
  {
   "cell_type": "markdown",
   "metadata": {},
   "source": [
    "As expected we get a result wit 501 points as we asked for an axis with 501 points. "
   ]
  },
  {
   "cell_type": "markdown",
   "metadata": {},
   "source": [
    "Above we have added a validator to the `freq_axis` parameter encoding the fact that this is an Array with `n_points`. Note that we do not have to supply the number of points as an integer but can supply a function that returns the valid number of points. This would normally be a QCoDeS parameter.\n",
    "\n",
    "This will be checked if we validate the output."
   ]
  },
  {
   "cell_type": "code",
   "execution_count": 12,
   "metadata": {},
   "outputs": [],
   "source": [
    "a.freq_axis.validate(a.freq_axis.get())"
   ]
  },
  {
   "cell_type": "markdown",
   "metadata": {},
   "source": [
    "Naturally, we can also get the spectrum. Getting the spectrum will automatically perform validation both for the shape of the parameter itself and the relation to the setpoint parameter(s)"
   ]
  },
  {
   "cell_type": "code",
   "execution_count": 13,
   "metadata": {
    "scrolled": true
   },
   "outputs": [
    {
     "data": {
      "text/plain": [
       "501"
      ]
     },
     "execution_count": 13,
     "metadata": {},
     "output_type": "execute_result"
    }
   ],
   "source": [
    "spectrum = a.spectrum.get()\n",
    "len(spectrum)"
   ]
  },
  {
   "cell_type": "markdown",
   "metadata": {},
   "source": [
    "When we validate a `ParameterWithSetpoints`, we automatically validate that the shape is consistent between the parameters and its setpoints. As well as validating the shape as above."
   ]
  },
  {
   "cell_type": "code",
   "execution_count": 14,
   "metadata": {},
   "outputs": [],
   "source": [
    "a.spectrum.validate(a.spectrum.get())"
   ]
  },
  {
   "cell_type": "markdown",
   "metadata": {},
   "source": [
    "The consistent shapes can be validated explicitly."
   ]
  },
  {
   "cell_type": "code",
   "execution_count": 15,
   "metadata": {},
   "outputs": [],
   "source": [
    "a.spectrum.validate_consistent_shape()"
   ]
  },
  {
   "cell_type": "markdown",
   "metadata": {},
   "source": [
    "We can inspect the setpoints of the spectrum."
   ]
  },
  {
   "cell_type": "code",
   "execution_count": 16,
   "metadata": {},
   "outputs": [
    {
     "data": {
      "text/plain": [
       "(<__main__.GeneratedSetPoints: freq_axis at 140255660110608>,)"
      ]
     },
     "execution_count": 16,
     "metadata": {},
     "output_type": "execute_result"
    }
   ],
   "source": [
    "a.spectrum.setpoints"
   ]
  },
  {
   "cell_type": "markdown",
   "metadata": {},
   "source": [
    "Or even change them."
   ]
  },
  {
   "cell_type": "code",
   "execution_count": 17,
   "metadata": {},
   "outputs": [],
   "source": [
    "a.spectrum.setpoints = (a.freq_axis,)"
   ]
  },
  {
   "cell_type": "markdown",
   "metadata": {},
   "source": [
    "## Measurement"
   ]
  },
  {
   "cell_type": "markdown",
   "metadata": {},
   "source": [
    "We can also directly consume the parameter in a measurement without defining the setpoints of the parameter again. The setpoints are automatically obtained from the definition of the `ParameterWithSetpoint` instance. "
   ]
  },
  {
   "cell_type": "code",
   "execution_count": 18,
   "metadata": {},
   "outputs": [
    {
     "name": "stdout",
     "output_type": "stream",
     "text": [
      "Starting experimental run with id: 1. \n"
     ]
    }
   ],
   "source": [
    "meas = Measurement()\n",
    "meas.register_parameter(a.spectrum)\n",
    "\n",
    "with meas.run() as datasaver:\n",
    "    datasaver.add_result((a.freq_axis, a.freq_axis()),\n",
    "                         (a.spectrum, a.spectrum()))\n",
    "    dataset = datasaver.dataset"
   ]
  },
  {
   "cell_type": "markdown",
   "metadata": {},
   "source": [
    "And plot it"
   ]
  },
  {
   "cell_type": "code",
   "execution_count": 19,
   "metadata": {},
   "outputs": [
    {
     "data": {
      "text/plain": [
       "([<matplotlib.axes._subplots.AxesSubplot at 0x7f8fd048d310>], [None])"
      ]
     },
     "execution_count": 19,
     "metadata": {},
     "output_type": "execute_result"
    },
    {
     "data": {
      "image/png": "[encoded data removed]",
      "text/plain": [
       "<Figure size 432x288 with 1 Axes>"
      ]
     },
     "metadata": {
      "needs_background": "light"
     },
     "output_type": "display_data"
    }
   ],
   "source": [
    "plot_dataset(dataset)"
   ]
  },
  {
   "cell_type": "markdown",
   "metadata": {},
   "source": [
    "To reduce the amount of typing a simple convenience function is provided that will take a `ParameterWithSetpoints` and get both its values and the setpoints values and return them as tuples for direct insertion into the Dataset."
   ]
  },
  {
   "cell_type": "code",
   "execution_count": 20,
   "metadata": {
    "scrolled": true
   },
   "outputs": [
    {
     "data": {
      "text/plain": [
       "[(<__main__.GeneratedSetPoints: freq_axis at 140255660110608>,\n",
       "  array([  0.,   1.,   2.,   3.,   4.,   5.,   6.,   7.,   8.,   9.,  10.,\n",
       "          11.,  12.,  13.,  14.,  15.,  16.,  17.,  18.,  19.,  20.,  21.,\n",
       "          22.,  23.,  24.,  25.,  26.,  27.,  28.,  29.,  30.,  31.,  32.,\n",
       "          33.,  34.,  35.,  36.,  37.,  38.,  39.,  40.,  41.,  42.,  43.,\n",
       "          44.,  45.,  46.,  47.,  48.,  49.,  50.,  51.,  52.,  53.,  54.,\n",
       "          55.,  56.,  57.,  58.,  59.,  60.,  61.,  62.,  63.,  64.,  65.,\n",
       "          66.,  67.,  68.,  69.,  70.,  71.,  72.,  73.,  74.,  75.,  76.,\n",
       "          77.,  78.,  79.,  80.,  81.,  82.,  83.,  84.,  85.,  86.,  87.,\n",
       "          88.,  89.,  90.,  91.,  92.,  93.,  94.,  95.,  96.,  97.,  98.,\n",
       "          99., 100., 101., 102., 103., 104., 105., 106., 107., 108., 109.,\n",
       "         110., 111., 112., 113., 114., 115., 116., 117., 118., 119., 120.,\n",
       "         121., 122., 123., 124., 125., 126., 127., 128., 129., 130., 131.,\n",
       "         132., 133., 134., 135., 136., 137., 138., 139., 140., 141., 142.,\n",
       "         143., 144., 145., 146., 147., 148., 149., 150., 151., 152., 153.,\n",
       "         154., 155., 156., 157., 158., 159., 160., 161., 162., 163., 164.,\n",
       "         165., 166., 167., 168., 169., 170., 171., 172., 173., 174., 175.,\n",
       "         176., 177., 178., 179., 180., 181., 182., 183., 184., 185., 186.,\n",
       "         187., 188., 189., 190., 191., 192., 193., 194., 195., 196., 197.,\n",
       "         198., 199., 200., 201., 202., 203., 204., 205., 206., 207., 208.,\n",
       "         209., 210., 211., 212., 213., 214., 215., 216., 217., 218., 219.,\n",
       "         220., 221., 222., 223., 224., 225., 226., 227., 228., 229., 230.,\n",
       "         231., 232., 233., 234., 235., 236., 237., 238., 239., 240., 241.,\n",
       "         242., 243., 244., 245., 246., 247., 248., 249., 250., 251., 252.,\n",
       "         253., 254., 255., 256., 257., 258., 259., 260., 261., 262., 263.,\n",
       "         264., 265., 266., 267., 268., 269., 270., 271., 272., 273., 274.,\n",
       "         275., 276., 277., 278., 279., 280., 281., 282., 283., 284., 285.,\n",
       "         286., 287., 288., 289., 290., 291., 292., 293., 294., 295., 296.,\n",
       "         297., 298., 299., 300., 301., 302., 303., 304., 305., 306., 307.,\n",
       "         308., 309., 310., 311., 312., 313., 314., 315., 316., 317., 318.,\n",
       "         319., 320., 321., 322., 323., 324., 325., 326., 327., 328., 329.,\n",
       "         330., 331., 332., 333., 334., 335., 336., 337., 338., 339., 340.,\n",
       "         341., 342., 343., 344., 345., 346., 347., 348., 349., 350., 351.,\n",
       "         352., 353., 354., 355., 356., 357., 358., 359., 360., 361., 362.,\n",
       "         363., 364., 365., 366., 367., 368., 369., 370., 371., 372., 373.,\n",
       "         374., 375., 376., 377., 378., 379., 380., 381., 382., 383., 384.,\n",
       "         385., 386., 387., 388., 389., 390., 391., 392., 393., 394., 395.,\n",
       "         396., 397., 398., 399., 400., 401., 402., 403., 404., 405., 406.,\n",
       "         407., 408., 409., 410., 411., 412., 413., 414., 415., 416., 417.,\n",
       "         418., 419., 420., 421., 422., 423., 424., 425., 426., 427., 428.,\n",
       "         429., 430., 431., 432., 433., 434., 435., 436., 437., 438., 439.,\n",
       "         440., 441., 442., 443., 444., 445., 446., 447., 448., 449., 450.,\n",
       "         451., 452., 453., 454., 455., 456., 457., 458., 459., 460., 461.,\n",
       "         462., 463., 464., 465., 466., 467., 468., 469., 470., 471., 472.,\n",
       "         473., 474., 475., 476., 477., 478., 479., 480., 481., 482., 483.,\n",
       "         484., 485., 486., 487., 488., 489., 490., 491., 492., 493., 494.,\n",
       "         495., 496., 497., 498., 499., 500.])),\n",
       " (<__main__.DummyArray: spectrum at 140255660110992>,\n",
       "  array([6.66985627e-01, 4.27673961e-02, 7.80971554e-01, 1.09437434e-01,\n",
       "         1.91534096e-01, 9.61394539e-01, 4.91817005e-01, 4.11607199e-01,\n",
       "         2.53677458e-01, 2.63410047e-01, 5.13521154e-01, 8.28033143e-01,\n",
       "         8.35265265e-01, 7.82136512e-01, 7.74449878e-01, 6.09876059e-01,\n",
       "         7.88496735e-01, 8.60993896e-01, 4.82548157e-01, 1.41372208e-01,\n",
       "         9.14263757e-01, 7.40478530e-01, 2.19784949e-02, 3.74693365e-01,\n",
       "         9.36354114e-01, 6.66303400e-01, 5.70902520e-01, 6.66714203e-02,\n",
       "         7.74838233e-01, 5.63586818e-01, 6.71287483e-01, 6.81780977e-01,\n",
       "         6.09464274e-02, 3.60982258e-01, 1.10251962e-01, 2.55430825e-01,\n",
       "         4.67406291e-01, 9.92365048e-01, 1.41125399e-01, 6.02336256e-01,\n",
       "         4.54098098e-01, 8.33887703e-01, 7.06129322e-01, 3.40690641e-02,\n",
       "         6.37506361e-01, 8.63731139e-01, 9.08766157e-01, 4.41386681e-01,\n",
       "         9.15860634e-01, 7.18038620e-01, 5.77967649e-01, 2.06729646e-01,\n",
       "         4.02922119e-02, 8.27895519e-01, 3.84043832e-01, 5.09149186e-01,\n",
       "         8.20299056e-01, 4.84469021e-01, 8.41960864e-01, 9.45292171e-01,\n",
       "         1.46008989e-01, 3.50004899e-02, 7.87048161e-01, 7.01133851e-01,\n",
       "         6.60904944e-01, 7.91989378e-01, 1.98620231e-01, 2.62512456e-01,\n",
       "         9.06389433e-01, 3.39161529e-02, 1.90991005e-01, 3.28622208e-01,\n",
       "         3.23158908e-01, 5.88218276e-01, 5.64002366e-01, 3.87532820e-01,\n",
       "         5.95202779e-01, 9.68447969e-01, 8.58128361e-01, 9.55026181e-01,\n",
       "         3.30250481e-02, 4.87608235e-01, 1.19297862e-01, 6.23139440e-01,\n",
       "         4.87508184e-01, 1.98274875e-01, 5.02012970e-01, 3.63594954e-01,\n",
       "         4.63571164e-01, 8.98695601e-01, 1.53578621e-01, 9.77186666e-01,\n",
       "         6.56788054e-01, 1.11486978e-01, 1.71113451e-01, 2.43163486e-01,\n",
       "         4.21838920e-02, 9.22129719e-01, 6.15883245e-01, 6.20410418e-01,\n",
       "         7.07706245e-01, 1.66221703e-01, 3.44081426e-02, 6.78178974e-01,\n",
       "         5.34057295e-01, 6.78785768e-01, 5.03812667e-01, 8.59248060e-01,\n",
       "         3.53110352e-01, 3.42178757e-01, 5.20798746e-01, 5.68474723e-02,\n",
       "         7.95773694e-01, 9.21851089e-01, 8.75553190e-01, 9.75463114e-01,\n",
       "         7.36648691e-01, 5.23685664e-01, 9.13583149e-01, 3.42157696e-01,\n",
       "         4.09395242e-01, 3.72841030e-01, 2.16112862e-02, 5.53060505e-02,\n",
       "         3.23547531e-01, 8.24461415e-02, 9.48157411e-01, 2.62249855e-01,\n",
       "         5.77592969e-01, 5.68693471e-01, 6.06872098e-02, 9.86360820e-01,\n",
       "         1.64383116e-01, 9.62453822e-01, 1.03588852e-01, 6.77784397e-01,\n",
       "         7.43850634e-01, 8.26896992e-01, 5.24471927e-01, 3.75430577e-01,\n",
       "         8.00490701e-01, 2.59503245e-01, 9.47350564e-01, 8.05534526e-01,\n",
       "         7.41689990e-01, 4.42588193e-01, 8.91732310e-01, 2.02608433e-01,\n",
       "         9.92461715e-01, 3.20512879e-02, 4.42535627e-01, 3.63054707e-01,\n",
       "         2.61994284e-01, 6.22765431e-01, 9.05235022e-01, 1.83058471e-01,\n",
       "         3.99756909e-01, 6.87122788e-02, 9.05063208e-01, 6.43302909e-01,\n",
       "         6.07570261e-01, 9.57515623e-01, 9.98283440e-01, 2.11009157e-01,\n",
       "         5.33361170e-01, 8.65154860e-01, 8.48160413e-01, 7.68067536e-01,\n",
       "         6.40517073e-03, 8.00898988e-01, 9.82615586e-01, 1.94972849e-01,\n",
       "         3.24703768e-01, 2.69492097e-01, 9.50670686e-01, 1.17496921e-04,\n",
       "         4.76786440e-01, 7.53083055e-01, 1.34998027e-01, 1.12282555e-01,\n",
       "         8.59399524e-01, 8.57837417e-01, 7.44917271e-01, 8.48055717e-01,\n",
       "         4.46385805e-01, 1.21888622e-01, 9.16114073e-01, 7.31385527e-01,\n",
       "         5.97681385e-01, 6.69645434e-01, 3.07863430e-01, 5.15996914e-01,\n",
       "         1.84511415e-01, 1.34822720e-01, 3.47885381e-02, 9.33727720e-01,\n",
       "         5.23243686e-03, 9.82146008e-01, 8.07150354e-01, 6.07671796e-01,\n",
       "         7.82489540e-01, 4.14614219e-01, 8.58282949e-01, 3.97367547e-01,\n",
       "         7.41037444e-01, 8.37653281e-01, 2.91116289e-01, 8.86730582e-01,\n",
       "         7.17210875e-01, 8.23649405e-01, 7.24256789e-02, 9.01744544e-01,\n",
       "         4.93429197e-01, 1.00152992e-01, 4.46116226e-01, 9.72301484e-01,\n",
       "         6.04845230e-01, 7.95157625e-01, 4.61989645e-01, 4.50635574e-01,\n",
       "         9.39257144e-01, 9.61741550e-01, 7.65075077e-01, 9.72374352e-01,\n",
       "         3.51078716e-01, 6.63571568e-01, 9.03071310e-01, 3.14179561e-01,\n",
       "         6.14847554e-01, 1.21080453e-02, 4.18334986e-02, 8.85224630e-01,\n",
       "         1.29660682e-01, 5.03679589e-01, 3.83226324e-01, 8.18579677e-01,\n",
       "         8.31042494e-01, 9.78088012e-01, 8.94928098e-01, 7.66970035e-01,\n",
       "         8.78793285e-01, 6.12073658e-01, 6.85733922e-01, 6.51199625e-01,\n",
       "         5.55949016e-01, 6.39297258e-01, 1.84170427e-01, 3.18324484e-01,\n",
       "         7.71594908e-01, 2.77610585e-01, 2.18794340e-01, 9.55774042e-01,\n",
       "         3.45723972e-01, 7.31657414e-02, 3.56300844e-01, 3.40584716e-01,\n",
       "         5.61266475e-01, 8.69080709e-01, 6.84710521e-01, 7.58821183e-01,\n",
       "         8.00275103e-01, 7.19431264e-01, 8.74116177e-01, 1.49948662e-01,\n",
       "         5.41000916e-01, 3.20615182e-01, 8.38210512e-01, 9.22485815e-01,\n",
       "         5.57936054e-01, 8.24404552e-01, 7.12786597e-01, 1.87860736e-01,\n",
       "         9.34625732e-01, 1.87593277e-01, 6.06866127e-01, 5.85317117e-01,\n",
       "         6.65241037e-02, 7.05689629e-01, 5.00521427e-01, 4.02195572e-01,\n",
       "         7.68037195e-01, 4.27860146e-01, 1.03926028e-01, 9.41199367e-01,\n",
       "         2.61756676e-01, 4.86158405e-01, 3.79237294e-01, 7.92137055e-01,\n",
       "         2.41337721e-01, 2.35688892e-01, 8.81491846e-02, 8.39247814e-01,\n",
       "         8.38911186e-01, 1.08601148e-01, 2.70380506e-01, 7.85580650e-01,\n",
       "         3.80528092e-01, 1.99274685e-01, 3.46691308e-01, 7.25203179e-01,\n",
       "         5.37231319e-01, 9.62623190e-01, 6.99221021e-01, 5.40090000e-01,\n",
       "         5.37362839e-02, 5.70833793e-01, 9.95998136e-01, 6.80603051e-01,\n",
       "         4.29535710e-01, 5.79202513e-01, 9.86342337e-02, 9.79953578e-01,\n",
       "         7.45406892e-01, 4.79935293e-01, 7.68285654e-01, 8.63308560e-01,\n",
       "         2.53401486e-01, 4.35362004e-01, 5.51675440e-01, 1.60065085e-02,\n",
       "         1.37264714e-01, 8.79292443e-02, 1.40576298e-01, 6.81849270e-01,\n",
       "         7.81210090e-01, 2.10986079e-03, 3.13000689e-02, 4.69103037e-01,\n",
       "         2.50393311e-01, 9.38273374e-01, 5.10650110e-01, 9.21811439e-01,\n",
       "         5.87608021e-01, 9.81403685e-03, 2.34802568e-01, 3.74869920e-01,\n",
       "         1.01863436e-01, 7.09639547e-01, 9.64315360e-01, 5.81836708e-01,\n",
       "         5.03556652e-01, 5.93396949e-01, 8.10434673e-01, 2.09210719e-01,\n",
       "         9.06234307e-01, 1.20725657e-01, 4.79190635e-01, 4.98563123e-02,\n",
       "         2.45008037e-01, 1.37024493e-01, 5.48350917e-01, 6.89420790e-01,\n",
       "         4.48809602e-01, 5.46993721e-01, 1.27659064e-01, 1.03016197e-01,\n",
       "         6.05784215e-01, 5.88507361e-01, 3.68912231e-01, 4.45055096e-01,\n",
       "         8.96515903e-01, 9.52641757e-01, 5.31037397e-01, 2.32301720e-02,\n",
       "         3.69394207e-01, 6.02131035e-01, 8.24948943e-01, 1.50668664e-02,\n",
       "         7.67571257e-01, 7.10948359e-01, 9.28357606e-01, 1.08851920e-01,\n",
       "         6.11256770e-01, 2.32268445e-01, 1.35982218e-01, 4.54162879e-01,\n",
       "         4.28252178e-01, 7.40362241e-01, 7.41150654e-01, 5.53103702e-01,\n",
       "         1.55166930e-01, 2.19001496e-01, 9.14624535e-01, 6.20028631e-01,\n",
       "         5.19125245e-01, 3.81658695e-01, 4.49386319e-01, 5.67488458e-01,\n",
       "         7.34109490e-01, 8.16519545e-01, 5.10574923e-01, 6.39478207e-01,\n",
       "         4.18858198e-01, 5.90460077e-01, 7.64885243e-02, 6.21677628e-01,\n",
       "         9.22194999e-01, 7.80786664e-01, 1.39728972e-01, 7.30887362e-01,\n",
       "         5.88084723e-01, 7.00164945e-01, 5.04831576e-01, 4.07316462e-02,\n",
       "         7.15073783e-01, 1.20412011e-01, 2.16641203e-01, 7.43176714e-01,\n",
       "         3.47942011e-01, 2.24581010e-01, 5.92380042e-01, 3.36419290e-01,\n",
       "         8.23402765e-01, 5.39074142e-01, 3.80742498e-01, 9.78667691e-01,\n",
       "         4.57441180e-01, 1.37940246e-01, 1.13094127e-01, 9.26855507e-01,\n",
       "         5.68908381e-01, 2.92232361e-01, 1.42980459e-01, 1.32962384e-01,\n",
       "         8.93597126e-01, 1.17529041e-01, 7.86008488e-01, 4.01797701e-01,\n",
       "         4.94056210e-01, 7.06305769e-01, 6.81225086e-01, 1.44612153e-01,\n",
       "         5.51499717e-01, 5.42741276e-01, 1.78275847e-01, 3.72990523e-01,\n",
       "         2.21455441e-01, 5.69078850e-01, 7.85161712e-01, 5.10863268e-02,\n",
       "         3.31996973e-02, 3.98296839e-01, 6.69513872e-01, 4.25532422e-01,\n",
       "         7.79776244e-01, 8.03583637e-01, 4.26172653e-01, 7.22232321e-01,\n",
       "         1.25342705e-01, 1.13364687e-01, 1.28288640e-01, 2.62598757e-01,\n",
       "         4.07257858e-01, 3.07517484e-01, 1.38718308e-01, 8.16778020e-01,\n",
       "         6.91417024e-01, 1.78236988e-01, 4.50625209e-01, 1.69093893e-02,\n",
       "         2.46523703e-01, 5.30471008e-01, 1.81411796e-01, 9.46784805e-01,\n",
       "         7.06198013e-01, 9.38620413e-01, 5.57225992e-01, 7.49872227e-01,\n",
       "         9.25348235e-01, 1.70146032e-01, 9.32061898e-01, 2.44442162e-01,\n",
       "         2.80659260e-01, 9.39190913e-01, 7.56260331e-01, 2.14260687e-01,\n",
       "         6.22689258e-01, 5.78531336e-01, 9.30747560e-01, 1.78432195e-01,\n",
       "         3.88931082e-01, 3.82680270e-01, 5.65240711e-01, 2.22904497e-01,\n",
       "         2.64076202e-01, 7.31010066e-01, 3.73189061e-01, 3.24923239e-01,\n",
       "         5.73274974e-01, 2.31902091e-01, 7.29859931e-01, 1.42996679e-01,\n",
       "         2.74279263e-01, 7.86878276e-01, 7.91775477e-01, 1.07246009e-01,\n",
       "         5.62948818e-01, 3.38703442e-01, 1.14357263e-01, 4.70774429e-01,\n",
       "         8.55324448e-01]))]"
      ]
     },
     "execution_count": 20,
     "metadata": {},
     "output_type": "execute_result"
    }
   ],
   "source": [
    "expand_setpoints_helper(a.spectrum)"
   ]
  },
  {
   "cell_type": "code",
   "execution_count": 21,
   "metadata": {},
   "outputs": [
    {
     "name": "stdout",
     "output_type": "stream",
     "text": [
      "Starting experimental run with id: 2. \n"
     ]
    }
   ],
   "source": [
    "meas = Measurement()\n",
    "meas.register_parameter(a.spectrum)\n",
    "\n",
    "with meas.run() as datasaver:\n",
    "    datasaver.add_result(*expand_setpoints_helper(a.spectrum))\n",
    "    \n",
    "    dataid = datasaver.run_id"
   ]
  },
  {
   "cell_type": "code",
   "execution_count": null,
   "metadata": {},
   "outputs": [],
   "source": []
  }
 ],
 "metadata": {
  "kernelspec": {
   "display_name": "Python 3",
   "language": "python",
   "name": "python3"
  },
  "language_info": {
   "codemirror_mode": {
    "name": "ipython",
    "version": 3
   },
   "file_extension": ".py",
   "mimetype": "text/x-python",
   "name": "python",
   "nbconvert_exporter": "python",
   "pygments_lexer": "ipython3",
   "version": "3.7.7"
  },
  "toc": {
   "base_numbering": 1,
   "nav_menu": {},
   "number_sections": true,
   "sideBar": true,
   "skip_h1_title": false,
   "title_cell": "Table of Contents",
   "title_sidebar": "Contents",
   "toc_cell": false,
   "toc_position": {},
   "toc_section_display": true,
   "toc_window_display": false
  },
  "varInspector": {
   "cols": {
    "lenName": 16,
    "lenType": 16,
    "lenVar": 40
   },
   "kernels_config": {
    "python": {
     "delete_cmd_postfix": "",
     "delete_cmd_prefix": "del ",
     "library": "var_list.py",
     "varRefreshCmd": "print(var_dic_list())"
    },
    "r": {
     "delete_cmd_postfix": ") ",
     "delete_cmd_prefix": "rm(",
     "library": "var_list.r",
     "varRefreshCmd": "cat(var_dic_list()) "
    }
   },
   "types_to_exclude": [
    "module",
    "function",
    "builtin_function_or_method",
    "instance",
    "_Feature"
   ],
   "window_display": false
  }
 },
 "nbformat": 4,
 "nbformat_minor": 2
}
