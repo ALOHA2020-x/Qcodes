{
 "cells": [
  {
   "cell_type": "markdown",
   "metadata": {},
   "source": [
    "# Simple Example of ParameterWithSetpoints\n",
    "This notebook provides an example for writing a simple driver with a parameter that has setpoints. Let's name this parameter that has setpoints as \"y\". Then, the setpoints, say \"x1, x2, x3 ..\", are the parameters on which the parameter \n",
    "\"y\" depends upon. Meaning \"y\" is a function of \"x1, x2, x3 ...\" where \"x1, x2, x3 ...\" are known as the setpoints of parameter \"y\".\n",
    "\n",
    "This is most likely to be useful for instruments that return arrays of results. In this notebook, we will show an example of this."
   ]
  },
  {
   "cell_type": "code",
   "execution_count": 1,
   "metadata": {},
   "outputs": [],
   "source": [
    "import numpy as np\n",
    "import os"
   ]
  },
  {
   "cell_type": "code",
   "execution_count": 2,
   "metadata": {},
   "outputs": [
    {
     "name": "stdout",
     "output_type": "stream",
     "text": [
      "Logging hadn't been started.\n",
      "Activating auto-logging. Current session state plus future input saved.\n",
      "Filename       : /home/vsts/.qcodes/logs/command_history.log\n",
      "Mode           : append\n",
      "Output logging : True\n",
      "Raw input log  : False\n",
      "Timestamping   : True\n",
      "State          : active\n"
     ]
    },
    {
     "name": "stdout",
     "output_type": "stream",
     "text": [
      "Qcodes Logfile : /home/vsts/.qcodes/logs/200526-22497-qcodes.log\n"
     ]
    }
   ],
   "source": [
    "from qcodes.dataset.plotting import plot_dataset\n",
    "from qcodes.utils.validators import Numbers, Arrays\n",
    "from qcodes.instrument.base import Instrument\n",
    "from qcodes.dataset.measurements import Measurement"
   ]
  },
  {
   "cell_type": "code",
   "execution_count": 3,
   "metadata": {},
   "outputs": [],
   "source": [
    "from qcodes.dataset.sqlite.database import initialise_or_create_database_at\n",
    "from qcodes.dataset.experiment_container import load_or_create_experiment"
   ]
  },
  {
   "cell_type": "code",
   "execution_count": 4,
   "metadata": {},
   "outputs": [],
   "source": [
    "from qcodes.instrument.parameter import ParameterWithSetpoints, Parameter\n",
    "from qcodes.instrument.parameter import expand_setpoints_helper"
   ]
  },
  {
   "cell_type": "markdown",
   "metadata": {},
   "source": [
    "First, we define a dummy instrument that returns something like a frequency spectrum starting from a frequency given by `f_start` to a frequency given by `f_stop` in `n_points` steps. \n",
    "\n",
    "The extra functionality of the `ParameterWithSetpoints` is implemented by giving it a reference to one or more parameters that acts like its setpoints. \n",
    "\n",
    "To setup a `ParameterWithSetpoints` we have to do two things in addition to what we do for a normal parameter.\n",
    "\n",
    "* Define one or more parameter for the setpoints (one for each dimension of the array and let the `ParameterWithSetpoints` know that these are the setpoints.\n",
    "* Give both the setpoints parameter(s) and the `ParameterWithSetpoints` a `validator` of type `Arrays` with a shape. The shapes should be such that the combined shape of the setpoints matches the shape of the `ParameterWithSetpoints`. Note that if the shape changes with the setting of the instrument, it can be defined by another parameter as shown below. "
   ]
  },
  {
   "cell_type": "code",
   "execution_count": 5,
   "metadata": {},
   "outputs": [],
   "source": [
    "class GeneratedSetPoints(Parameter):\n",
    "    \"\"\"\n",
    "    A parameter that generates a setpoint array from start, stop and num points\n",
    "    parameters.\n",
    "    \"\"\"\n",
    "    def __init__(self, startparam, stopparam, numpointsparam, *args, **kwargs):\n",
    "        super().__init__(*args, **kwargs)\n",
    "        self._startparam = startparam\n",
    "        self._stopparam = stopparam\n",
    "        self._numpointsparam = numpointsparam\n",
    "\n",
    "    def get_raw(self):\n",
    "        return np.linspace(self._startparam(), self._stopparam(),\n",
    "                              self._numpointsparam())\n",
    "\n",
    "class DummyArray(ParameterWithSetpoints):\n",
    "    \n",
    "    def get_raw(self):\n",
    "        npoints = self.root_instrument.n_points.get_latest()\n",
    "        return np.random.rand(npoints)\n",
    "    \n",
    "\n",
    "class DummySpectrumAnalyzer(Instrument):\n",
    "    \n",
    "    def __init__(self, name, **kwargs):\n",
    "        \n",
    "        super().__init__(name, **kwargs)\n",
    "            \n",
    "\n",
    "        self.add_parameter('f_start',\n",
    "                           initial_value=0,\n",
    "                           unit='Hz',\n",
    "                           label='f start',\n",
    "                           vals=Numbers(0,1e3),\n",
    "                           get_cmd=None,\n",
    "                           set_cmd=None)\n",
    "\n",
    "        self.add_parameter('f_stop',\n",
    "                           unit='Hz',\n",
    "                           label='f stop',\n",
    "                           vals=Numbers(1,1e3),\n",
    "                           get_cmd=None,\n",
    "                           set_cmd=None)\n",
    "\n",
    "        self.add_parameter('n_points',\n",
    "                           unit='',\n",
    "                           initial_value=10,\n",
    "                           vals=Numbers(1,1e3),\n",
    "                           get_cmd=None,\n",
    "                           set_cmd=None)\n",
    "        \n",
    "        self.add_parameter('freq_axis',\n",
    "                           unit='Hz',\n",
    "                           label='Freq Axis',\n",
    "                           parameter_class=GeneratedSetPoints,\n",
    "                           startparam=self.f_start,\n",
    "                           stopparam=self.f_stop,\n",
    "                           numpointsparam=self.n_points,\n",
    "                           vals=Arrays(shape=(self.n_points.get_latest,)))\n",
    "                           \n",
    "        self.add_parameter('spectrum',\n",
    "                   unit='dBm',\n",
    "                   setpoints=(self.freq_axis,),\n",
    "                   label='Spectrum',\n",
    "                   parameter_class=DummyArray,\n",
    "                   vals=Arrays(shape=(self.n_points.get_latest,)))\n",
    "                "
   ]
  },
  {
   "cell_type": "markdown",
   "metadata": {},
   "source": [
    "In the above example, the shape is defined by the parameter `n_points` that defines how many samples our `DummySpectrumAnalyzer` returns.\n",
    "\n",
    "This means that the validation will call the function to get `n_points` twice for each `get` of the parameter. This may be too slow, however, if you (as the driver-writer) can guarantee that the cached value for `n_points` will never be out of sync with the value stored in the instrument, `n_points` may be replaced by it's latest known value such that the `validator` reads:\n",
    "```python\n",
    "vals=Arrays(shape=(self.n_points.get_latest))\n",
    "```\n",
    "\n",
    "This avoids any additional call to the instrument. In the same way, the arguments to the `freq_axis` parameter that defines the start, stop and number of points can be replaced by their latest value if the instrument allows it.\n",
    "\n"
   ]
  },
  {
   "cell_type": "code",
   "execution_count": 6,
   "metadata": {},
   "outputs": [
    {
     "name": "stdout",
     "output_type": "stream",
     "text": [
      "\r",
      "0it [00:00, ?it/s]"
     ]
    },
    {
     "name": "stdout",
     "output_type": "stream",
     "text": [
      "\r",
      "Upgrading database; v0 -> v1: : 0it [00:00, ?it/s]"
     ]
    },
    {
     "name": "stdout",
     "output_type": "stream",
     "text": [
      "\r",
      "Upgrading database; v0 -> v1: : 0it [00:00, ?it/s]"
     ]
    },
    {
     "name": "stdout",
     "output_type": "stream",
     "text": [
      "\n",
      "\r",
      "  0%|          | 0/1 [00:00<?, ?it/s]"
     ]
    },
    {
     "name": "stdout",
     "output_type": "stream",
     "text": [
      "\r",
      "Upgrading database; v1 -> v2:   0%|          | 0/1 [00:00<?, ?it/s]"
     ]
    },
    {
     "name": "stdout",
     "output_type": "stream",
     "text": [
      "\r",
      "Upgrading database; v1 -> v2: 100%|██████████| 1/1 [00:00<00:00, 776.29it/s]"
     ]
    },
    {
     "name": "stdout",
     "output_type": "stream",
     "text": [
      "\n",
      "\r",
      "0it [00:00, ?it/s]"
     ]
    },
    {
     "name": "stdout",
     "output_type": "stream",
     "text": [
      "\r",
      "Upgrading database; v2 -> v3: : 0it [00:00, ?it/s]"
     ]
    },
    {
     "name": "stdout",
     "output_type": "stream",
     "text": [
      "\r",
      "Upgrading database; v2 -> v3: : 0it [00:00, ?it/s]"
     ]
    },
    {
     "name": "stdout",
     "output_type": "stream",
     "text": [
      "\n",
      "\r",
      "0it [00:00, ?it/s]"
     ]
    },
    {
     "name": "stdout",
     "output_type": "stream",
     "text": [
      "\r",
      "Upgrading database; v3 -> v4: : 0it [00:00, ?it/s]"
     ]
    },
    {
     "name": "stdout",
     "output_type": "stream",
     "text": [
      "\r",
      "Upgrading database; v3 -> v4: : 0it [00:00, ?it/s]"
     ]
    },
    {
     "name": "stdout",
     "output_type": "stream",
     "text": [
      "\n",
      "\r",
      "  0%|          | 0/1 [00:00<?, ?it/s]"
     ]
    },
    {
     "name": "stdout",
     "output_type": "stream",
     "text": [
      "\r",
      "Upgrading database; v4 -> v5:   0%|          | 0/1 [00:00<?, ?it/s]"
     ]
    },
    {
     "name": "stdout",
     "output_type": "stream",
     "text": [
      "\r",
      "Upgrading database; v4 -> v5: 100%|██████████| 1/1 [00:00<00:00, 739.87it/s]"
     ]
    },
    {
     "name": "stdout",
     "output_type": "stream",
     "text": [
      "\n",
      "\r",
      "0it [00:00, ?it/s]"
     ]
    },
    {
     "name": "stdout",
     "output_type": "stream",
     "text": [
      "\r",
      "Upgrading database; v5 -> v6: : 0it [00:00, ?it/s]"
     ]
    },
    {
     "name": "stdout",
     "output_type": "stream",
     "text": [
      "\r",
      "Upgrading database; v5 -> v6: : 0it [00:00, ?it/s]"
     ]
    },
    {
     "name": "stdout",
     "output_type": "stream",
     "text": [
      "\n",
      "\r",
      "  0%|          | 0/1 [00:00<?, ?it/s]"
     ]
    },
    {
     "name": "stdout",
     "output_type": "stream",
     "text": [
      "\r",
      "Upgrading database; v6 -> v7:   0%|          | 0/1 [00:00<?, ?it/s]"
     ]
    },
    {
     "name": "stdout",
     "output_type": "stream",
     "text": [
      "\r",
      "Upgrading database; v6 -> v7: 100%|██████████| 1/1 [00:00<00:00, 394.35it/s]"
     ]
    },
    {
     "name": "stdout",
     "output_type": "stream",
     "text": [
      "\n",
      "\r",
      "  0%|          | 0/1 [00:00<?, ?it/s]"
     ]
    },
    {
     "name": "stdout",
     "output_type": "stream",
     "text": [
      "\r",
      "Upgrading database; v7 -> v8:   0%|          | 0/1 [00:00<?, ?it/s]"
     ]
    },
    {
     "name": "stdout",
     "output_type": "stream",
     "text": [
      "\r",
      "Upgrading database; v7 -> v8: 100%|██████████| 1/1 [00:00<00:00, 517.05it/s]"
     ]
    },
    {
     "name": "stdout",
     "output_type": "stream",
     "text": [
      "\n",
      "\r",
      "  0%|          | 0/1 [00:00<?, ?it/s]"
     ]
    },
    {
     "name": "stdout",
     "output_type": "stream",
     "text": [
      "\r",
      "Upgrading database; v8 -> v9:   0%|          | 0/1 [00:00<?, ?it/s]"
     ]
    },
    {
     "name": "stdout",
     "output_type": "stream",
     "text": [
      "\r",
      "Upgrading database; v8 -> v9: 100%|██████████| 1/1 [00:00<00:00, 807.68it/s]"
     ]
    },
    {
     "name": "stdout",
     "output_type": "stream",
     "text": [
      "\n"
     ]
    },
    {
     "data": {
      "text/plain": [
       "tutorial_ParameterWithSetpoints#no sample#1@/home/vsts/work/1/s/docs/examples/Parameters/tutorial_paramter_with_setpoints.db\n",
       "----------------------------------------------------------------------------------------------------------------------------"
      ]
     },
     "execution_count": 6,
     "metadata": {},
     "output_type": "execute_result"
    }
   ],
   "source": [
    "tutorial_db_path = os.path.join(os.getcwd(), 'tutorial_paramter_with_setpoints.db')\n",
    "initialise_or_create_database_at(tutorial_db_path)\n",
    "load_or_create_experiment(experiment_name='tutorial_ParameterWithSetpoints', sample_name=\"no sample\")"
   ]
  },
  {
   "cell_type": "code",
   "execution_count": 7,
   "metadata": {},
   "outputs": [],
   "source": [
    "a = DummySpectrumAnalyzer('foobar')"
   ]
  },
  {
   "cell_type": "markdown",
   "metadata": {},
   "source": [
    "First we setup the limits of the spectrum"
   ]
  },
  {
   "cell_type": "code",
   "execution_count": 8,
   "metadata": {},
   "outputs": [],
   "source": [
    "a.f_start(0)\n",
    "a.f_stop(500)\n",
    "a.n_points(501)"
   ]
  },
  {
   "cell_type": "markdown",
   "metadata": {},
   "source": [
    "And we can grab the frequency axis"
   ]
  },
  {
   "cell_type": "code",
   "execution_count": 9,
   "metadata": {},
   "outputs": [
    {
     "data": {
      "text/plain": [
       "501"
      ]
     },
     "execution_count": 9,
     "metadata": {},
     "output_type": "execute_result"
    }
   ],
   "source": [
    "a.n_points()"
   ]
  },
  {
   "cell_type": "code",
   "execution_count": 10,
   "metadata": {
    "scrolled": false
   },
   "outputs": [
    {
     "data": {
      "text/plain": [
       "501"
      ]
     },
     "execution_count": 10,
     "metadata": {},
     "output_type": "execute_result"
    }
   ],
   "source": [
    "freq_axis = a.freq_axis()\n",
    "len(freq_axis)"
   ]
  },
  {
   "cell_type": "code",
   "execution_count": 11,
   "metadata": {},
   "outputs": [
    {
     "data": {
      "text/plain": [
       "array([0., 1., 2., 3., 4., 5., 6., 7., 8., 9.])"
      ]
     },
     "execution_count": 11,
     "metadata": {},
     "output_type": "execute_result"
    }
   ],
   "source": [
    "freq_axis[:10]"
   ]
  },
  {
   "cell_type": "markdown",
   "metadata": {},
   "source": [
    "As expected we get a result wit 501 points as we asked for an axis with 501 points. "
   ]
  },
  {
   "cell_type": "markdown",
   "metadata": {},
   "source": [
    "Above we have added a validator to the `freq_axis` parameter encoding the fact that this is an Array with `n_points`. Note that we do not have to supply the number of points as an integer but can supply a function that returns the valid number of points. This would normally be a QCoDeS parameter.\n",
    "\n",
    "This will be checked if we validate the output."
   ]
  },
  {
   "cell_type": "code",
   "execution_count": 12,
   "metadata": {},
   "outputs": [],
   "source": [
    "a.freq_axis.validate(a.freq_axis.get())"
   ]
  },
  {
   "cell_type": "markdown",
   "metadata": {},
   "source": [
    "Naturally, we can also get the spectrum. Getting the spectrum will automatically perform validation both for the shape of the parameter itself and the relation to the setpoint parameter(s)"
   ]
  },
  {
   "cell_type": "code",
   "execution_count": 13,
   "metadata": {
    "scrolled": true
   },
   "outputs": [
    {
     "data": {
      "text/plain": [
       "501"
      ]
     },
     "execution_count": 13,
     "metadata": {},
     "output_type": "execute_result"
    }
   ],
   "source": [
    "spectrum = a.spectrum.get()\n",
    "len(spectrum)"
   ]
  },
  {
   "cell_type": "markdown",
   "metadata": {},
   "source": [
    "When we validate a `ParameterWithSetpoints`, we automatically validate that the shape is consistent between the parameters and its setpoints. As well as validating the shape as above."
   ]
  },
  {
   "cell_type": "code",
   "execution_count": 14,
   "metadata": {},
   "outputs": [],
   "source": [
    "a.spectrum.validate(a.spectrum.get())"
   ]
  },
  {
   "cell_type": "markdown",
   "metadata": {},
   "source": [
    "The consistent shapes can be validated explicitly."
   ]
  },
  {
   "cell_type": "code",
   "execution_count": 15,
   "metadata": {},
   "outputs": [],
   "source": [
    "a.spectrum.validate_consistent_shape()"
   ]
  },
  {
   "cell_type": "markdown",
   "metadata": {},
   "source": [
    "We can inspect the setpoints of the spectrum."
   ]
  },
  {
   "cell_type": "code",
   "execution_count": 16,
   "metadata": {},
   "outputs": [
    {
     "data": {
      "text/plain": [
       "(<__main__.GeneratedSetPoints: freq_axis at 139917041808848>,)"
      ]
     },
     "execution_count": 16,
     "metadata": {},
     "output_type": "execute_result"
    }
   ],
   "source": [
    "a.spectrum.setpoints"
   ]
  },
  {
   "cell_type": "markdown",
   "metadata": {},
   "source": [
    "Or even change them."
   ]
  },
  {
   "cell_type": "code",
   "execution_count": 17,
   "metadata": {},
   "outputs": [],
   "source": [
    "a.spectrum.setpoints = (a.freq_axis,)"
   ]
  },
  {
   "cell_type": "markdown",
   "metadata": {},
   "source": [
    "## Measurement"
   ]
  },
  {
   "cell_type": "markdown",
   "metadata": {},
   "source": [
    "We can also directly consume the parameter in a measurement without defining the setpoints of the parameter again. The setpoints are automatically obtained from the definition of the `ParameterWithSetpoint` instance. "
   ]
  },
  {
   "cell_type": "code",
   "execution_count": 18,
   "metadata": {},
   "outputs": [
    {
     "name": "stdout",
     "output_type": "stream",
     "text": [
      "Starting experimental run with id: 1. \n"
     ]
    }
   ],
   "source": [
    "meas = Measurement()\n",
    "meas.register_parameter(a.spectrum)\n",
    "\n",
    "with meas.run() as datasaver:\n",
    "    datasaver.add_result((a.freq_axis, a.freq_axis()),\n",
    "                         (a.spectrum, a.spectrum()))\n",
    "    dataset = datasaver.dataset"
   ]
  },
  {
   "cell_type": "markdown",
   "metadata": {},
   "source": [
    "And plot it"
   ]
  },
  {
   "cell_type": "code",
   "execution_count": 19,
   "metadata": {},
   "outputs": [
    {
     "data": {
      "text/plain": [
       "([<matplotlib.axes._subplots.AxesSubplot at 0x7f40f90ca690>], [None])"
      ]
     },
     "execution_count": 19,
     "metadata": {},
     "output_type": "execute_result"
    },
    {
     "data": {
      "image/png": "[encoded data removed]",
      "text/plain": [
       "<Figure size 432x288 with 1 Axes>"
      ]
     },
     "metadata": {
      "needs_background": "light"
     },
     "output_type": "display_data"
    }
   ],
   "source": [
    "plot_dataset(dataset)"
   ]
  },
  {
   "cell_type": "markdown",
   "metadata": {},
   "source": [
    "To reduce the amount of typing a simple convenience function is provided that will take a `ParameterWithSetpoints` and get both its values and the setpoints values and return them as tuples for direct insertion into the Dataset."
   ]
  },
  {
   "cell_type": "code",
   "execution_count": 20,
   "metadata": {
    "scrolled": true
   },
   "outputs": [
    {
     "data": {
      "text/plain": [
       "[(<__main__.GeneratedSetPoints: freq_axis at 139917041808848>,\n",
       "  array([  0.,   1.,   2.,   3.,   4.,   5.,   6.,   7.,   8.,   9.,  10.,\n",
       "          11.,  12.,  13.,  14.,  15.,  16.,  17.,  18.,  19.,  20.,  21.,\n",
       "          22.,  23.,  24.,  25.,  26.,  27.,  28.,  29.,  30.,  31.,  32.,\n",
       "          33.,  34.,  35.,  36.,  37.,  38.,  39.,  40.,  41.,  42.,  43.,\n",
       "          44.,  45.,  46.,  47.,  48.,  49.,  50.,  51.,  52.,  53.,  54.,\n",
       "          55.,  56.,  57.,  58.,  59.,  60.,  61.,  62.,  63.,  64.,  65.,\n",
       "          66.,  67.,  68.,  69.,  70.,  71.,  72.,  73.,  74.,  75.,  76.,\n",
       "          77.,  78.,  79.,  80.,  81.,  82.,  83.,  84.,  85.,  86.,  87.,\n",
       "          88.,  89.,  90.,  91.,  92.,  93.,  94.,  95.,  96.,  97.,  98.,\n",
       "          99., 100., 101., 102., 103., 104., 105., 106., 107., 108., 109.,\n",
       "         110., 111., 112., 113., 114., 115., 116., 117., 118., 119., 120.,\n",
       "         121., 122., 123., 124., 125., 126., 127., 128., 129., 130., 131.,\n",
       "         132., 133., 134., 135., 136., 137., 138., 139., 140., 141., 142.,\n",
       "         143., 144., 145., 146., 147., 148., 149., 150., 151., 152., 153.,\n",
       "         154., 155., 156., 157., 158., 159., 160., 161., 162., 163., 164.,\n",
       "         165., 166., 167., 168., 169., 170., 171., 172., 173., 174., 175.,\n",
       "         176., 177., 178., 179., 180., 181., 182., 183., 184., 185., 186.,\n",
       "         187., 188., 189., 190., 191., 192., 193., 194., 195., 196., 197.,\n",
       "         198., 199., 200., 201., 202., 203., 204., 205., 206., 207., 208.,\n",
       "         209., 210., 211., 212., 213., 214., 215., 216., 217., 218., 219.,\n",
       "         220., 221., 222., 223., 224., 225., 226., 227., 228., 229., 230.,\n",
       "         231., 232., 233., 234., 235., 236., 237., 238., 239., 240., 241.,\n",
       "         242., 243., 244., 245., 246., 247., 248., 249., 250., 251., 252.,\n",
       "         253., 254., 255., 256., 257., 258., 259., 260., 261., 262., 263.,\n",
       "         264., 265., 266., 267., 268., 269., 270., 271., 272., 273., 274.,\n",
       "         275., 276., 277., 278., 279., 280., 281., 282., 283., 284., 285.,\n",
       "         286., 287., 288., 289., 290., 291., 292., 293., 294., 295., 296.,\n",
       "         297., 298., 299., 300., 301., 302., 303., 304., 305., 306., 307.,\n",
       "         308., 309., 310., 311., 312., 313., 314., 315., 316., 317., 318.,\n",
       "         319., 320., 321., 322., 323., 324., 325., 326., 327., 328., 329.,\n",
       "         330., 331., 332., 333., 334., 335., 336., 337., 338., 339., 340.,\n",
       "         341., 342., 343., 344., 345., 346., 347., 348., 349., 350., 351.,\n",
       "         352., 353., 354., 355., 356., 357., 358., 359., 360., 361., 362.,\n",
       "         363., 364., 365., 366., 367., 368., 369., 370., 371., 372., 373.,\n",
       "         374., 375., 376., 377., 378., 379., 380., 381., 382., 383., 384.,\n",
       "         385., 386., 387., 388., 389., 390., 391., 392., 393., 394., 395.,\n",
       "         396., 397., 398., 399., 400., 401., 402., 403., 404., 405., 406.,\n",
       "         407., 408., 409., 410., 411., 412., 413., 414., 415., 416., 417.,\n",
       "         418., 419., 420., 421., 422., 423., 424., 425., 426., 427., 428.,\n",
       "         429., 430., 431., 432., 433., 434., 435., 436., 437., 438., 439.,\n",
       "         440., 441., 442., 443., 444., 445., 446., 447., 448., 449., 450.,\n",
       "         451., 452., 453., 454., 455., 456., 457., 458., 459., 460., 461.,\n",
       "         462., 463., 464., 465., 466., 467., 468., 469., 470., 471., 472.,\n",
       "         473., 474., 475., 476., 477., 478., 479., 480., 481., 482., 483.,\n",
       "         484., 485., 486., 487., 488., 489., 490., 491., 492., 493., 494.,\n",
       "         495., 496., 497., 498., 499., 500.])),\n",
       " (<__main__.DummyArray: spectrum at 139917042133264>,\n",
       "  array([6.40006969e-01, 2.52417258e-01, 9.53348269e-01, 3.47197866e-01,\n",
       "         5.56243786e-01, 8.31867011e-01, 8.95354635e-01, 1.60666822e-01,\n",
       "         7.51638719e-01, 6.54199475e-01, 5.10909474e-02, 9.87457073e-01,\n",
       "         3.98495452e-02, 2.49567733e-01, 2.86723455e-01, 1.18577016e-01,\n",
       "         7.49901052e-01, 6.84335765e-01, 1.39061198e-01, 9.28269410e-02,\n",
       "         4.59553034e-01, 7.59510905e-01, 5.85542114e-01, 6.38718580e-02,\n",
       "         5.96044775e-01, 9.38460313e-01, 6.46245210e-01, 1.81485708e-01,\n",
       "         4.66908989e-01, 1.11492066e-01, 1.23763333e-01, 3.80379671e-01,\n",
       "         9.00614513e-01, 4.99428307e-01, 4.93180673e-01, 4.13677495e-01,\n",
       "         3.29129991e-01, 7.21532955e-01, 8.77317376e-01, 1.78234430e-01,\n",
       "         3.47185600e-01, 4.64340026e-01, 8.29323250e-02, 9.96894481e-01,\n",
       "         5.98259259e-01, 3.09549412e-01, 7.28407403e-01, 9.91028921e-01,\n",
       "         6.41374679e-01, 2.97682245e-01, 2.94584588e-01, 6.36683451e-01,\n",
       "         4.23302197e-01, 2.25694191e-01, 7.02909130e-01, 8.34047098e-02,\n",
       "         5.72214760e-01, 6.12705830e-01, 6.60431969e-01, 2.03268355e-01,\n",
       "         8.13511738e-01, 4.35534752e-01, 3.42403940e-01, 2.08438538e-01,\n",
       "         6.93236456e-01, 3.33121334e-01, 2.28448756e-01, 7.68124618e-01,\n",
       "         1.17836492e-01, 1.02212198e-01, 4.92602149e-01, 5.53268180e-01,\n",
       "         6.56289034e-04, 3.19832674e-01, 3.06008374e-01, 5.29407148e-02,\n",
       "         2.37644097e-01, 7.43788867e-01, 5.34392790e-02, 4.91931565e-02,\n",
       "         7.89784037e-01, 5.15779610e-02, 7.92216930e-01, 1.07025966e-01,\n",
       "         6.73714652e-01, 9.96512459e-02, 4.40796348e-01, 9.70742590e-01,\n",
       "         1.87664512e-01, 5.37316106e-01, 8.69083568e-02, 7.72443994e-01,\n",
       "         9.26658832e-02, 4.87466890e-01, 9.01678230e-01, 1.61184585e-01,\n",
       "         4.09657642e-01, 9.06811980e-01, 4.36021244e-01, 4.62014982e-01,\n",
       "         2.79290316e-01, 7.01142830e-01, 1.59456897e-01, 3.57603128e-01,\n",
       "         2.25057990e-01, 6.91908796e-01, 5.26575092e-01, 6.03134417e-01,\n",
       "         9.20006065e-01, 2.43109670e-01, 2.13432389e-01, 5.80584260e-01,\n",
       "         3.36799023e-01, 2.09364757e-01, 7.28980027e-01, 8.89193707e-01,\n",
       "         6.18351242e-01, 6.87811325e-01, 6.68013746e-01, 4.23677910e-01,\n",
       "         6.55329937e-01, 9.24631489e-01, 3.82806804e-01, 1.71499456e-01,\n",
       "         7.47137380e-02, 9.45801547e-01, 4.99830238e-02, 6.18950457e-01,\n",
       "         7.58314701e-01, 3.68794685e-01, 9.53868405e-01, 2.08994845e-01,\n",
       "         1.99270839e-01, 1.83961457e-01, 4.35469682e-01, 2.84131589e-01,\n",
       "         2.85992628e-01, 3.63893167e-03, 2.49966907e-01, 9.52208264e-01,\n",
       "         7.16409880e-01, 6.92866453e-01, 8.38345453e-01, 4.05591976e-01,\n",
       "         6.16821384e-01, 9.35763324e-01, 6.42320193e-02, 8.59767744e-01,\n",
       "         2.35338284e-01, 5.05459966e-01, 8.71325004e-01, 1.83331041e-01,\n",
       "         9.62796803e-01, 1.34715161e-01, 4.72032500e-01, 8.44062485e-01,\n",
       "         1.60902920e-01, 3.91882376e-01, 5.23821084e-01, 3.93020569e-03,\n",
       "         9.93176382e-03, 6.80259538e-01, 4.28231999e-01, 1.51560363e-01,\n",
       "         6.99067702e-01, 4.43650911e-01, 6.39524693e-01, 6.57726228e-01,\n",
       "         7.88806378e-01, 6.30178189e-01, 3.53172907e-01, 6.57480136e-01,\n",
       "         7.03416811e-02, 7.56823256e-01, 6.97728093e-01, 1.78807174e-02,\n",
       "         3.59577386e-01, 8.31719235e-01, 1.16338003e-01, 6.74909695e-01,\n",
       "         6.48628716e-01, 4.08243634e-01, 5.28501794e-01, 2.86457258e-01,\n",
       "         1.14705816e-01, 3.15781122e-01, 8.68498517e-01, 1.17478559e-02,\n",
       "         9.81543074e-01, 9.59753010e-01, 3.56280818e-01, 6.52054685e-01,\n",
       "         5.10409188e-01, 6.41888451e-01, 4.40711002e-01, 8.62624040e-01,\n",
       "         1.62830884e-01, 7.94659286e-01, 2.06740493e-01, 5.34239711e-01,\n",
       "         8.10548080e-01, 1.87084303e-01, 4.97418985e-01, 3.34468093e-01,\n",
       "         7.29391994e-01, 4.23443406e-01, 4.87039962e-01, 6.32855298e-01,\n",
       "         1.64688685e-01, 8.19039438e-02, 3.63273247e-01, 5.87437859e-01,\n",
       "         1.62687889e-01, 5.13552984e-01, 1.69513505e-02, 4.03520365e-01,\n",
       "         1.38603663e-01, 2.85208678e-01, 9.89759098e-01, 7.80697843e-01,\n",
       "         8.42558110e-01, 6.30197362e-01, 5.34638291e-01, 6.04385585e-01,\n",
       "         7.31308000e-01, 4.19047432e-01, 6.81885178e-01, 8.76579554e-01,\n",
       "         5.03143513e-01, 3.72533185e-01, 1.49854399e-01, 5.38540695e-01,\n",
       "         6.59968407e-01, 1.65206989e-01, 2.97239666e-02, 2.67047866e-01,\n",
       "         2.34502307e-01, 4.67082481e-01, 6.74675079e-01, 3.22996777e-01,\n",
       "         7.32943259e-01, 9.00743865e-01, 7.66373630e-02, 8.38742138e-01,\n",
       "         1.84704070e-03, 8.03854994e-01, 3.55361391e-02, 7.11947595e-01,\n",
       "         2.15063379e-01, 1.91181296e-01, 6.23029383e-01, 5.02011915e-01,\n",
       "         3.44641288e-01, 7.55759135e-01, 8.40257100e-01, 2.17799837e-01,\n",
       "         9.67857138e-01, 5.02167898e-01, 8.06263829e-01, 5.61903916e-01,\n",
       "         4.41868312e-01, 7.37331316e-01, 9.43064419e-01, 5.03633797e-01,\n",
       "         2.87193038e-01, 7.01240134e-01, 4.14709678e-01, 2.99734547e-01,\n",
       "         2.40797311e-01, 2.72520055e-01, 7.05183384e-01, 7.34080308e-01,\n",
       "         4.29573372e-02, 1.31186558e-01, 3.77184839e-01, 2.01529725e-01,\n",
       "         5.40474034e-01, 6.59378946e-01, 6.98141255e-01, 8.15322932e-01,\n",
       "         3.94056361e-01, 1.69723571e-01, 5.49314807e-01, 3.95890879e-01,\n",
       "         3.34153711e-01, 7.19365532e-01, 4.08300520e-01, 4.68099934e-02,\n",
       "         7.96997203e-01, 9.63075718e-01, 9.69541330e-01, 2.52881395e-01,\n",
       "         7.57787510e-01, 3.76296414e-01, 5.40750684e-01, 6.54910398e-01,\n",
       "         6.08457674e-01, 7.26655285e-01, 4.34195494e-01, 7.24086909e-01,\n",
       "         9.80029808e-01, 5.53683939e-01, 1.17278005e-01, 7.66192449e-01,\n",
       "         8.14218556e-01, 8.84123965e-01, 7.93207281e-01, 7.26828332e-01,\n",
       "         9.55208589e-01, 6.25841231e-01, 7.06155086e-01, 7.78541762e-01,\n",
       "         8.33890947e-01, 7.32154437e-01, 6.76893678e-01, 1.85821896e-01,\n",
       "         3.16816703e-01, 5.77541006e-01, 5.86662363e-01, 3.72716140e-01,\n",
       "         9.84007093e-01, 6.24256018e-01, 2.55827081e-01, 4.99912940e-01,\n",
       "         3.26799264e-01, 1.56202823e-01, 8.59163303e-01, 9.08373190e-01,\n",
       "         7.50120173e-01, 9.53143439e-01, 6.16755363e-02, 3.53317410e-01,\n",
       "         9.50976880e-01, 7.71027036e-01, 5.30967769e-01, 1.22151277e-01,\n",
       "         1.65918282e-01, 2.16158404e-01, 2.96386999e-01, 8.10536741e-01,\n",
       "         4.48357217e-01, 4.02891685e-01, 9.66367442e-01, 3.63513001e-01,\n",
       "         2.31901339e-01, 2.73772535e-01, 3.64849185e-01, 9.62936957e-01,\n",
       "         4.90518129e-01, 2.82903235e-01, 3.20537827e-01, 9.16981411e-01,\n",
       "         8.24233214e-01, 8.21655258e-01, 6.54813075e-01, 3.43704206e-02,\n",
       "         5.15683685e-01, 4.90264121e-01, 9.27716953e-01, 3.74959001e-01,\n",
       "         6.30706250e-02, 2.89950078e-01, 2.63634284e-01, 9.02086285e-01,\n",
       "         3.29459124e-02, 7.63501448e-01, 3.05236833e-02, 7.94487979e-01,\n",
       "         7.90610121e-01, 6.21141437e-01, 7.22806832e-01, 1.71266382e-01,\n",
       "         5.11151310e-01, 7.36407930e-02, 6.19214168e-02, 9.45435629e-01,\n",
       "         8.44131953e-01, 4.41405732e-01, 1.82184709e-02, 3.49282432e-01,\n",
       "         8.64798000e-01, 1.39016445e-01, 7.76487123e-01, 1.19721881e-01,\n",
       "         7.43861305e-01, 6.50901116e-01, 9.76592411e-01, 8.01139413e-01,\n",
       "         7.43934573e-03, 8.39465899e-01, 7.50215905e-02, 6.64118358e-01,\n",
       "         8.15269030e-01, 7.78035004e-01, 8.26091183e-02, 8.26746968e-01,\n",
       "         3.58048835e-02, 5.45955278e-01, 1.11790464e-01, 8.50858639e-01,\n",
       "         4.55583910e-01, 3.23816630e-01, 1.91193375e-01, 4.79477645e-01,\n",
       "         6.19813855e-01, 2.84637086e-01, 4.32036388e-01, 3.77165910e-01,\n",
       "         3.73806791e-01, 2.54602093e-01, 6.54036839e-01, 2.10457279e-01,\n",
       "         5.78097501e-01, 3.00549836e-01, 4.59926557e-01, 6.40114134e-01,\n",
       "         2.29264188e-01, 2.65443338e-01, 8.05259351e-01, 8.68430427e-02,\n",
       "         6.58015525e-02, 8.48332001e-01, 8.84078592e-02, 5.92448936e-01,\n",
       "         1.58746538e-01, 8.97802050e-01, 1.15124289e-01, 1.88411773e-01,\n",
       "         1.75044175e-01, 7.43001546e-01, 9.94015950e-01, 2.74294200e-01,\n",
       "         6.83749769e-01, 7.60431344e-01, 2.75975531e-01, 5.57448060e-01,\n",
       "         6.94346694e-01, 6.93769019e-01, 1.11478720e-01, 8.68717959e-01,\n",
       "         9.64515755e-01, 9.55795761e-01, 2.38629090e-01, 5.49610983e-01,\n",
       "         7.44388203e-01, 1.84064389e-02, 7.60281342e-01, 4.93768685e-01,\n",
       "         9.58444051e-02, 2.82959779e-01, 7.64712796e-02, 3.35465639e-01,\n",
       "         3.36489321e-01, 5.09349619e-01, 8.59892613e-01, 2.12356452e-01,\n",
       "         5.33917235e-01, 2.53402486e-02, 1.36180324e-01, 8.10065512e-01,\n",
       "         4.84804116e-01, 7.13330335e-01, 7.82864771e-01, 7.12995081e-01,\n",
       "         3.27881045e-01, 2.91669180e-01, 8.03929687e-01, 1.26537456e-02,\n",
       "         1.89571531e-01, 2.77954628e-01, 4.39186002e-01, 3.02291177e-01,\n",
       "         6.06084451e-01, 8.12600626e-01, 5.45548423e-01, 6.11967926e-01,\n",
       "         2.15880131e-01, 8.58569326e-01, 9.41202496e-01, 9.31926782e-01,\n",
       "         1.02259957e-01, 4.91254405e-01, 9.00819014e-01, 8.49730874e-01,\n",
       "         6.86205785e-01, 6.47086709e-02, 9.42460852e-01, 1.36894438e-01,\n",
       "         5.40073395e-01, 9.15698292e-01, 2.45111351e-01, 4.35345357e-01,\n",
       "         8.04300283e-01, 1.52299846e-01, 2.47058262e-02, 5.28736732e-01,\n",
       "         4.08025269e-01, 3.32383154e-01, 8.76707038e-02, 4.26031097e-01,\n",
       "         3.01682163e-01]))]"
      ]
     },
     "execution_count": 20,
     "metadata": {},
     "output_type": "execute_result"
    }
   ],
   "source": [
    "expand_setpoints_helper(a.spectrum)"
   ]
  },
  {
   "cell_type": "code",
   "execution_count": 21,
   "metadata": {},
   "outputs": [
    {
     "name": "stdout",
     "output_type": "stream",
     "text": [
      "Starting experimental run with id: 2. \n"
     ]
    }
   ],
   "source": [
    "meas = Measurement()\n",
    "meas.register_parameter(a.spectrum)\n",
    "\n",
    "with meas.run() as datasaver:\n",
    "    datasaver.add_result(*expand_setpoints_helper(a.spectrum))\n",
    "    \n",
    "    dataid = datasaver.run_id"
   ]
  },
  {
   "cell_type": "code",
   "execution_count": null,
   "metadata": {},
   "outputs": [],
   "source": []
  }
 ],
 "metadata": {
  "kernelspec": {
   "display_name": "Python 3",
   "language": "python",
   "name": "python3"
  },
  "language_info": {
   "codemirror_mode": {
    "name": "ipython",
    "version": 3
   },
   "file_extension": ".py",
   "mimetype": "text/x-python",
   "name": "python",
   "nbconvert_exporter": "python",
   "pygments_lexer": "ipython3",
   "version": "3.7.7"
  },
  "toc": {
   "base_numbering": 1,
   "nav_menu": {},
   "number_sections": true,
   "sideBar": true,
   "skip_h1_title": false,
   "title_cell": "Table of Contents",
   "title_sidebar": "Contents",
   "toc_cell": false,
   "toc_position": {},
   "toc_section_display": true,
   "toc_window_display": false
  },
  "varInspector": {
   "cols": {
    "lenName": 16,
    "lenType": 16,
    "lenVar": 40
   },
   "kernels_config": {
    "python": {
     "delete_cmd_postfix": "",
     "delete_cmd_prefix": "del ",
     "library": "var_list.py",
     "varRefreshCmd": "print(var_dic_list())"
    },
    "r": {
     "delete_cmd_postfix": ") ",
     "delete_cmd_prefix": "rm(",
     "library": "var_list.r",
     "varRefreshCmd": "cat(var_dic_list()) "
    }
   },
   "types_to_exclude": [
    "module",
    "function",
    "builtin_function_or_method",
    "instance",
    "_Feature"
   ],
   "window_display": false
  }
 },
 "nbformat": 4,
 "nbformat_minor": 2
}
