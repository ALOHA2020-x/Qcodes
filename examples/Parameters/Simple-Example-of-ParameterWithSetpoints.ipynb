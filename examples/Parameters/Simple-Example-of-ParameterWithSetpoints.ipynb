{
 "cells": [
  {
   "cell_type": "markdown",
   "metadata": {},
   "source": [
    "# Simple Example of ParameterWithSetpoints\n",
    "This notebook provides an example for writing a simple driver with a parameter that has setpoints. Let's name this parameter that has setpoints as \"y\". Then, the setpoints, say \"x1, x2, x3 ..\", are the parameters on which the parameter \n",
    "\"y\" depends upon. Meaning \"y\" is a function of \"x1, x2, x3 ...\" where \"x1, x2, x3 ...\" are known as the setpoints of parameter \"y\".\n",
    "\n",
    "This is most likely to be useful for instruments that return arrays of results. In this notebook, we will show an example of this."
   ]
  },
  {
   "cell_type": "code",
   "execution_count": 1,
   "metadata": {},
   "outputs": [],
   "source": [
    "import numpy as np\n",
    "import os"
   ]
  },
  {
   "cell_type": "code",
   "execution_count": 2,
   "metadata": {},
   "outputs": [
    {
     "name": "stdout",
     "output_type": "stream",
     "text": [
      "Logging hadn't been started.\n",
      "Activating auto-logging. Current session state plus future input saved.\n",
      "Filename       : /home/vsts/.qcodes/logs/command_history.log\n",
      "Mode           : append\n",
      "Output logging : True\n",
      "Raw input log  : False\n",
      "Timestamping   : True\n",
      "State          : active\n"
     ]
    },
    {
     "name": "stdout",
     "output_type": "stream",
     "text": [
      "Qcodes Logfile : /home/vsts/.qcodes/logs/200629-22747-qcodes.log\n"
     ]
    }
   ],
   "source": [
    "from qcodes.dataset.plotting import plot_dataset\n",
    "from qcodes.utils.validators import Numbers, Arrays\n",
    "from qcodes.instrument.base import Instrument\n",
    "from qcodes.dataset.measurements import Measurement"
   ]
  },
  {
   "cell_type": "code",
   "execution_count": 3,
   "metadata": {},
   "outputs": [],
   "source": [
    "from qcodes.dataset.sqlite.database import initialise_or_create_database_at\n",
    "from qcodes.dataset.experiment_container import load_or_create_experiment"
   ]
  },
  {
   "cell_type": "code",
   "execution_count": 4,
   "metadata": {},
   "outputs": [],
   "source": [
    "from qcodes.instrument.parameter import ParameterWithSetpoints, Parameter\n",
    "from qcodes.instrument.parameter import expand_setpoints_helper"
   ]
  },
  {
   "cell_type": "markdown",
   "metadata": {},
   "source": [
    "First, we define a dummy instrument that returns something like a frequency spectrum starting from a frequency given by `f_start` to a frequency given by `f_stop` in `n_points` steps. \n",
    "\n",
    "The extra functionality of the `ParameterWithSetpoints` is implemented by giving it a reference to one or more parameters that acts like its setpoints. \n",
    "\n",
    "To setup a `ParameterWithSetpoints` we have to do two things in addition to what we do for a normal parameter.\n",
    "\n",
    "* Define one or more parameter for the setpoints (one for each dimension of the array and let the `ParameterWithSetpoints` know that these are the setpoints.\n",
    "* Give both the setpoints parameter(s) and the `ParameterWithSetpoints` a `validator` of type `Arrays` with a shape. The shapes should be such that the combined shape of the setpoints matches the shape of the `ParameterWithSetpoints`. Note that if the shape changes with the setting of the instrument, it can be defined by another parameter as shown below. "
   ]
  },
  {
   "cell_type": "code",
   "execution_count": 5,
   "metadata": {},
   "outputs": [],
   "source": [
    "class GeneratedSetPoints(Parameter):\n",
    "    \"\"\"\n",
    "    A parameter that generates a setpoint array from start, stop and num points\n",
    "    parameters.\n",
    "    \"\"\"\n",
    "    def __init__(self, startparam, stopparam, numpointsparam, *args, **kwargs):\n",
    "        super().__init__(*args, **kwargs)\n",
    "        self._startparam = startparam\n",
    "        self._stopparam = stopparam\n",
    "        self._numpointsparam = numpointsparam\n",
    "\n",
    "    def get_raw(self):\n",
    "        return np.linspace(self._startparam(), self._stopparam(),\n",
    "                              self._numpointsparam())\n",
    "\n",
    "class DummyArray(ParameterWithSetpoints):\n",
    "    \n",
    "    def get_raw(self):\n",
    "        npoints = self.root_instrument.n_points.get_latest()\n",
    "        return np.random.rand(npoints)\n",
    "    \n",
    "\n",
    "class DummySpectrumAnalyzer(Instrument):\n",
    "    \n",
    "    def __init__(self, name, **kwargs):\n",
    "        \n",
    "        super().__init__(name, **kwargs)\n",
    "            \n",
    "\n",
    "        self.add_parameter('f_start',\n",
    "                           initial_value=0,\n",
    "                           unit='Hz',\n",
    "                           label='f start',\n",
    "                           vals=Numbers(0,1e3),\n",
    "                           get_cmd=None,\n",
    "                           set_cmd=None)\n",
    "\n",
    "        self.add_parameter('f_stop',\n",
    "                           unit='Hz',\n",
    "                           label='f stop',\n",
    "                           vals=Numbers(1,1e3),\n",
    "                           get_cmd=None,\n",
    "                           set_cmd=None)\n",
    "\n",
    "        self.add_parameter('n_points',\n",
    "                           unit='',\n",
    "                           initial_value=10,\n",
    "                           vals=Numbers(1,1e3),\n",
    "                           get_cmd=None,\n",
    "                           set_cmd=None)\n",
    "        \n",
    "        self.add_parameter('freq_axis',\n",
    "                           unit='Hz',\n",
    "                           label='Freq Axis',\n",
    "                           parameter_class=GeneratedSetPoints,\n",
    "                           startparam=self.f_start,\n",
    "                           stopparam=self.f_stop,\n",
    "                           numpointsparam=self.n_points,\n",
    "                           vals=Arrays(shape=(self.n_points.get_latest,)))\n",
    "                           \n",
    "        self.add_parameter('spectrum',\n",
    "                   unit='dBm',\n",
    "                   setpoints=(self.freq_axis,),\n",
    "                   label='Spectrum',\n",
    "                   parameter_class=DummyArray,\n",
    "                   vals=Arrays(shape=(self.n_points.get_latest,)))\n",
    "                "
   ]
  },
  {
   "cell_type": "markdown",
   "metadata": {},
   "source": [
    "In the above example, the shape is defined by the parameter `n_points` that defines how many samples our `DummySpectrumAnalyzer` returns.\n",
    "\n",
    "This means that the validation will call the function to get `n_points` twice for each `get` of the parameter. This may be too slow, however, if you (as the driver-writer) can guarantee that the cached value for `n_points` will never be out of sync with the value stored in the instrument, `n_points` may be replaced by it's latest known value such that the `validator` reads:\n",
    "```python\n",
    "vals=Arrays(shape=(self.n_points.get_latest))\n",
    "```\n",
    "\n",
    "This avoids any additional call to the instrument. In the same way, the arguments to the `freq_axis` parameter that defines the start, stop and number of points can be replaced by their latest value if the instrument allows it.\n",
    "\n"
   ]
  },
  {
   "cell_type": "code",
   "execution_count": 6,
   "metadata": {},
   "outputs": [
    {
     "name": "stdout",
     "output_type": "stream",
     "text": [
      "\r",
      "0it [00:00, ?it/s]"
     ]
    },
    {
     "name": "stdout",
     "output_type": "stream",
     "text": [
      "\r",
      "Upgrading database; v0 -> v1: : 0it [00:00, ?it/s]"
     ]
    },
    {
     "name": "stdout",
     "output_type": "stream",
     "text": [
      "\r",
      "Upgrading database; v0 -> v1: : 0it [00:00, ?it/s]"
     ]
    },
    {
     "name": "stdout",
     "output_type": "stream",
     "text": [
      "\n",
      "\r",
      "  0%|          | 0/1 [00:00<?, ?it/s]"
     ]
    },
    {
     "name": "stdout",
     "output_type": "stream",
     "text": [
      "\r",
      "Upgrading database; v1 -> v2:   0%|          | 0/1 [00:00<?, ?it/s]"
     ]
    },
    {
     "name": "stdout",
     "output_type": "stream",
     "text": [
      "\r",
      "Upgrading database; v1 -> v2: 100%|██████████| 1/1 [00:00<00:00, 691.44it/s]"
     ]
    },
    {
     "name": "stdout",
     "output_type": "stream",
     "text": [
      "\n",
      "\r",
      "0it [00:00, ?it/s]"
     ]
    },
    {
     "name": "stdout",
     "output_type": "stream",
     "text": [
      "\r",
      "Upgrading database; v2 -> v3: : 0it [00:00, ?it/s]"
     ]
    },
    {
     "name": "stdout",
     "output_type": "stream",
     "text": [
      "\r",
      "Upgrading database; v2 -> v3: : 0it [00:00, ?it/s]"
     ]
    },
    {
     "name": "stdout",
     "output_type": "stream",
     "text": [
      "\n",
      "\r",
      "0it [00:00, ?it/s]"
     ]
    },
    {
     "name": "stdout",
     "output_type": "stream",
     "text": [
      "\r",
      "Upgrading database; v3 -> v4: : 0it [00:00, ?it/s]"
     ]
    },
    {
     "name": "stdout",
     "output_type": "stream",
     "text": [
      "\r",
      "Upgrading database; v3 -> v4: : 0it [00:00, ?it/s]"
     ]
    },
    {
     "name": "stdout",
     "output_type": "stream",
     "text": [
      "\n",
      "\r",
      "  0%|          | 0/1 [00:00<?, ?it/s]"
     ]
    },
    {
     "name": "stdout",
     "output_type": "stream",
     "text": [
      "\r",
      "Upgrading database; v4 -> v5:   0%|          | 0/1 [00:00<?, ?it/s]"
     ]
    },
    {
     "name": "stdout",
     "output_type": "stream",
     "text": [
      "\r",
      "Upgrading database; v4 -> v5: 100%|██████████| 1/1 [00:00<00:00, 591.50it/s]"
     ]
    },
    {
     "name": "stdout",
     "output_type": "stream",
     "text": [
      "\n",
      "\r",
      "0it [00:00, ?it/s]"
     ]
    },
    {
     "name": "stdout",
     "output_type": "stream",
     "text": [
      "\r",
      "Upgrading database; v5 -> v6: : 0it [00:00, ?it/s]"
     ]
    },
    {
     "name": "stdout",
     "output_type": "stream",
     "text": [
      "\r",
      "Upgrading database; v5 -> v6: : 0it [00:00, ?it/s]"
     ]
    },
    {
     "name": "stdout",
     "output_type": "stream",
     "text": [
      "\n",
      "\r",
      "  0%|          | 0/1 [00:00<?, ?it/s]"
     ]
    },
    {
     "name": "stdout",
     "output_type": "stream",
     "text": [
      "\r",
      "Upgrading database; v6 -> v7:   0%|          | 0/1 [00:00<?, ?it/s]"
     ]
    },
    {
     "name": "stdout",
     "output_type": "stream",
     "text": [
      "\r",
      "Upgrading database; v6 -> v7: 100%|██████████| 1/1 [00:00<00:00, 322.27it/s]"
     ]
    },
    {
     "name": "stdout",
     "output_type": "stream",
     "text": [
      "\n",
      "\r",
      "  0%|          | 0/1 [00:00<?, ?it/s]"
     ]
    },
    {
     "name": "stdout",
     "output_type": "stream",
     "text": [
      "\r",
      "Upgrading database; v7 -> v8:   0%|          | 0/1 [00:00<?, ?it/s]"
     ]
    },
    {
     "name": "stdout",
     "output_type": "stream",
     "text": [
      "\r",
      "Upgrading database; v7 -> v8: 100%|██████████| 1/1 [00:00<00:00, 527.78it/s]"
     ]
    },
    {
     "name": "stdout",
     "output_type": "stream",
     "text": [
      "\n",
      "\r",
      "  0%|          | 0/1 [00:00<?, ?it/s]"
     ]
    },
    {
     "name": "stdout",
     "output_type": "stream",
     "text": [
      "\r",
      "Upgrading database; v8 -> v9:   0%|          | 0/1 [00:00<?, ?it/s]"
     ]
    },
    {
     "name": "stdout",
     "output_type": "stream",
     "text": [
      "\r",
      "Upgrading database; v8 -> v9: 100%|██████████| 1/1 [00:00<00:00, 398.32it/s]"
     ]
    },
    {
     "name": "stdout",
     "output_type": "stream",
     "text": [
      "\n"
     ]
    },
    {
     "data": {
      "text/plain": [
       "tutorial_ParameterWithSetpoints#no sample#1@/home/vsts/work/1/s/docs/examples/Parameters/tutorial_paramter_with_setpoints.db\n",
       "----------------------------------------------------------------------------------------------------------------------------"
      ]
     },
     "execution_count": 6,
     "metadata": {},
     "output_type": "execute_result"
    }
   ],
   "source": [
    "tutorial_db_path = os.path.join(os.getcwd(), 'tutorial_paramter_with_setpoints.db')\n",
    "initialise_or_create_database_at(tutorial_db_path)\n",
    "load_or_create_experiment(experiment_name='tutorial_ParameterWithSetpoints', sample_name=\"no sample\")"
   ]
  },
  {
   "cell_type": "code",
   "execution_count": 7,
   "metadata": {},
   "outputs": [],
   "source": [
    "a = DummySpectrumAnalyzer('foobar')"
   ]
  },
  {
   "cell_type": "markdown",
   "metadata": {},
   "source": [
    "First we setup the limits of the spectrum"
   ]
  },
  {
   "cell_type": "code",
   "execution_count": 8,
   "metadata": {},
   "outputs": [],
   "source": [
    "a.f_start(0)\n",
    "a.f_stop(500)\n",
    "a.n_points(501)"
   ]
  },
  {
   "cell_type": "markdown",
   "metadata": {},
   "source": [
    "And we can grab the frequency axis"
   ]
  },
  {
   "cell_type": "code",
   "execution_count": 9,
   "metadata": {},
   "outputs": [
    {
     "data": {
      "text/plain": [
       "501"
      ]
     },
     "execution_count": 9,
     "metadata": {},
     "output_type": "execute_result"
    }
   ],
   "source": [
    "a.n_points()"
   ]
  },
  {
   "cell_type": "code",
   "execution_count": 10,
   "metadata": {
    "scrolled": false
   },
   "outputs": [
    {
     "data": {
      "text/plain": [
       "501"
      ]
     },
     "execution_count": 10,
     "metadata": {},
     "output_type": "execute_result"
    }
   ],
   "source": [
    "freq_axis = a.freq_axis()\n",
    "len(freq_axis)"
   ]
  },
  {
   "cell_type": "code",
   "execution_count": 11,
   "metadata": {},
   "outputs": [
    {
     "data": {
      "text/plain": [
       "array([0., 1., 2., 3., 4., 5., 6., 7., 8., 9.])"
      ]
     },
     "execution_count": 11,
     "metadata": {},
     "output_type": "execute_result"
    }
   ],
   "source": [
    "freq_axis[:10]"
   ]
  },
  {
   "cell_type": "markdown",
   "metadata": {},
   "source": [
    "As expected we get a result wit 501 points as we asked for an axis with 501 points. "
   ]
  },
  {
   "cell_type": "markdown",
   "metadata": {},
   "source": [
    "Above we have added a validator to the `freq_axis` parameter encoding the fact that this is an Array with `n_points`. Note that we do not have to supply the number of points as an integer but can supply a function that returns the valid number of points. This would normally be a QCoDeS parameter.\n",
    "\n",
    "This will be checked if we validate the output."
   ]
  },
  {
   "cell_type": "code",
   "execution_count": 12,
   "metadata": {},
   "outputs": [],
   "source": [
    "a.freq_axis.validate(a.freq_axis.get())"
   ]
  },
  {
   "cell_type": "markdown",
   "metadata": {},
   "source": [
    "Naturally, we can also get the spectrum. Getting the spectrum will automatically perform validation both for the shape of the parameter itself and the relation to the setpoint parameter(s)"
   ]
  },
  {
   "cell_type": "code",
   "execution_count": 13,
   "metadata": {
    "scrolled": true
   },
   "outputs": [
    {
     "data": {
      "text/plain": [
       "501"
      ]
     },
     "execution_count": 13,
     "metadata": {},
     "output_type": "execute_result"
    }
   ],
   "source": [
    "spectrum = a.spectrum.get()\n",
    "len(spectrum)"
   ]
  },
  {
   "cell_type": "markdown",
   "metadata": {},
   "source": [
    "When we validate a `ParameterWithSetpoints`, we automatically validate that the shape is consistent between the parameters and its setpoints. As well as validating the shape as above."
   ]
  },
  {
   "cell_type": "code",
   "execution_count": 14,
   "metadata": {},
   "outputs": [],
   "source": [
    "a.spectrum.validate(a.spectrum.get())"
   ]
  },
  {
   "cell_type": "markdown",
   "metadata": {},
   "source": [
    "The consistent shapes can be validated explicitly."
   ]
  },
  {
   "cell_type": "code",
   "execution_count": 15,
   "metadata": {},
   "outputs": [],
   "source": [
    "a.spectrum.validate_consistent_shape()"
   ]
  },
  {
   "cell_type": "markdown",
   "metadata": {},
   "source": [
    "We can inspect the setpoints of the spectrum."
   ]
  },
  {
   "cell_type": "code",
   "execution_count": 16,
   "metadata": {},
   "outputs": [
    {
     "data": {
      "text/plain": [
       "(<__main__.GeneratedSetPoints: freq_axis at 140303237012176>,)"
      ]
     },
     "execution_count": 16,
     "metadata": {},
     "output_type": "execute_result"
    }
   ],
   "source": [
    "a.spectrum.setpoints"
   ]
  },
  {
   "cell_type": "markdown",
   "metadata": {},
   "source": [
    "Or even change them."
   ]
  },
  {
   "cell_type": "code",
   "execution_count": 17,
   "metadata": {},
   "outputs": [],
   "source": [
    "a.spectrum.setpoints = (a.freq_axis,)"
   ]
  },
  {
   "cell_type": "markdown",
   "metadata": {},
   "source": [
    "## Measurement"
   ]
  },
  {
   "cell_type": "markdown",
   "metadata": {},
   "source": [
    "We can also directly consume the parameter in a measurement without defining the setpoints of the parameter again. The setpoints are automatically obtained from the definition of the `ParameterWithSetpoint` instance. "
   ]
  },
  {
   "cell_type": "code",
   "execution_count": 18,
   "metadata": {},
   "outputs": [
    {
     "name": "stdout",
     "output_type": "stream",
     "text": [
      "Starting experimental run with id: 1. \n"
     ]
    }
   ],
   "source": [
    "meas = Measurement()\n",
    "meas.register_parameter(a.spectrum)\n",
    "\n",
    "with meas.run() as datasaver:\n",
    "    datasaver.add_result((a.freq_axis, a.freq_axis()),\n",
    "                         (a.spectrum, a.spectrum()))\n",
    "    dataset = datasaver.dataset"
   ]
  },
  {
   "cell_type": "markdown",
   "metadata": {},
   "source": [
    "And plot it"
   ]
  },
  {
   "cell_type": "code",
   "execution_count": 19,
   "metadata": {},
   "outputs": [
    {
     "data": {
      "text/plain": [
       "([<matplotlib.axes._subplots.AxesSubplot at 0x7f9ae4031e10>], [None])"
      ]
     },
     "execution_count": 19,
     "metadata": {},
     "output_type": "execute_result"
    },
    {
     "data": {
      "image/png": "[encoded data removed]",
      "text/plain": [
       "<Figure size 432x288 with 1 Axes>"
      ]
     },
     "metadata": {
      "needs_background": "light"
     },
     "output_type": "display_data"
    }
   ],
   "source": [
    "plot_dataset(dataset)"
   ]
  },
  {
   "cell_type": "markdown",
   "metadata": {},
   "source": [
    "To reduce the amount of typing a simple convenience function is provided that will take a `ParameterWithSetpoints` and get both its values and the setpoints values and return them as tuples for direct insertion into the Dataset."
   ]
  },
  {
   "cell_type": "code",
   "execution_count": 20,
   "metadata": {
    "scrolled": true
   },
   "outputs": [
    {
     "data": {
      "text/plain": [
       "[(<__main__.GeneratedSetPoints: freq_axis at 140303237012176>,\n",
       "  array([  0.,   1.,   2.,   3.,   4.,   5.,   6.,   7.,   8.,   9.,  10.,\n",
       "          11.,  12.,  13.,  14.,  15.,  16.,  17.,  18.,  19.,  20.,  21.,\n",
       "          22.,  23.,  24.,  25.,  26.,  27.,  28.,  29.,  30.,  31.,  32.,\n",
       "          33.,  34.,  35.,  36.,  37.,  38.,  39.,  40.,  41.,  42.,  43.,\n",
       "          44.,  45.,  46.,  47.,  48.,  49.,  50.,  51.,  52.,  53.,  54.,\n",
       "          55.,  56.,  57.,  58.,  59.,  60.,  61.,  62.,  63.,  64.,  65.,\n",
       "          66.,  67.,  68.,  69.,  70.,  71.,  72.,  73.,  74.,  75.,  76.,\n",
       "          77.,  78.,  79.,  80.,  81.,  82.,  83.,  84.,  85.,  86.,  87.,\n",
       "          88.,  89.,  90.,  91.,  92.,  93.,  94.,  95.,  96.,  97.,  98.,\n",
       "          99., 100., 101., 102., 103., 104., 105., 106., 107., 108., 109.,\n",
       "         110., 111., 112., 113., 114., 115., 116., 117., 118., 119., 120.,\n",
       "         121., 122., 123., 124., 125., 126., 127., 128., 129., 130., 131.,\n",
       "         132., 133., 134., 135., 136., 137., 138., 139., 140., 141., 142.,\n",
       "         143., 144., 145., 146., 147., 148., 149., 150., 151., 152., 153.,\n",
       "         154., 155., 156., 157., 158., 159., 160., 161., 162., 163., 164.,\n",
       "         165., 166., 167., 168., 169., 170., 171., 172., 173., 174., 175.,\n",
       "         176., 177., 178., 179., 180., 181., 182., 183., 184., 185., 186.,\n",
       "         187., 188., 189., 190., 191., 192., 193., 194., 195., 196., 197.,\n",
       "         198., 199., 200., 201., 202., 203., 204., 205., 206., 207., 208.,\n",
       "         209., 210., 211., 212., 213., 214., 215., 216., 217., 218., 219.,\n",
       "         220., 221., 222., 223., 224., 225., 226., 227., 228., 229., 230.,\n",
       "         231., 232., 233., 234., 235., 236., 237., 238., 239., 240., 241.,\n",
       "         242., 243., 244., 245., 246., 247., 248., 249., 250., 251., 252.,\n",
       "         253., 254., 255., 256., 257., 258., 259., 260., 261., 262., 263.,\n",
       "         264., 265., 266., 267., 268., 269., 270., 271., 272., 273., 274.,\n",
       "         275., 276., 277., 278., 279., 280., 281., 282., 283., 284., 285.,\n",
       "         286., 287., 288., 289., 290., 291., 292., 293., 294., 295., 296.,\n",
       "         297., 298., 299., 300., 301., 302., 303., 304., 305., 306., 307.,\n",
       "         308., 309., 310., 311., 312., 313., 314., 315., 316., 317., 318.,\n",
       "         319., 320., 321., 322., 323., 324., 325., 326., 327., 328., 329.,\n",
       "         330., 331., 332., 333., 334., 335., 336., 337., 338., 339., 340.,\n",
       "         341., 342., 343., 344., 345., 346., 347., 348., 349., 350., 351.,\n",
       "         352., 353., 354., 355., 356., 357., 358., 359., 360., 361., 362.,\n",
       "         363., 364., 365., 366., 367., 368., 369., 370., 371., 372., 373.,\n",
       "         374., 375., 376., 377., 378., 379., 380., 381., 382., 383., 384.,\n",
       "         385., 386., 387., 388., 389., 390., 391., 392., 393., 394., 395.,\n",
       "         396., 397., 398., 399., 400., 401., 402., 403., 404., 405., 406.,\n",
       "         407., 408., 409., 410., 411., 412., 413., 414., 415., 416., 417.,\n",
       "         418., 419., 420., 421., 422., 423., 424., 425., 426., 427., 428.,\n",
       "         429., 430., 431., 432., 433., 434., 435., 436., 437., 438., 439.,\n",
       "         440., 441., 442., 443., 444., 445., 446., 447., 448., 449., 450.,\n",
       "         451., 452., 453., 454., 455., 456., 457., 458., 459., 460., 461.,\n",
       "         462., 463., 464., 465., 466., 467., 468., 469., 470., 471., 472.,\n",
       "         473., 474., 475., 476., 477., 478., 479., 480., 481., 482., 483.,\n",
       "         484., 485., 486., 487., 488., 489., 490., 491., 492., 493., 494.,\n",
       "         495., 496., 497., 498., 499., 500.])),\n",
       " (<__main__.DummyArray: spectrum at 140303240299216>,\n",
       "  array([4.17545253e-01, 7.73226830e-01, 6.94885269e-01, 9.39762983e-01,\n",
       "         2.60038907e-01, 2.50654528e-01, 2.18544061e-01, 7.80262806e-01,\n",
       "         7.69154882e-01, 7.92590062e-01, 6.89383614e-01, 3.04820974e-03,\n",
       "         2.48315740e-01, 5.42058070e-01, 2.54465852e-01, 6.35018289e-01,\n",
       "         4.49114133e-01, 3.88189364e-01, 4.39450981e-01, 1.97230091e-01,\n",
       "         2.32702834e-01, 3.76695160e-01, 7.72718210e-01, 4.22189711e-01,\n",
       "         9.46763527e-01, 3.89383913e-01, 4.34560938e-01, 1.86500871e-01,\n",
       "         4.16088190e-01, 1.64226293e-01, 6.08488132e-01, 2.28490795e-01,\n",
       "         3.83640227e-01, 9.95498563e-01, 6.47357764e-01, 1.25194648e-01,\n",
       "         3.40485902e-01, 1.81705250e-01, 8.98396747e-01, 7.62560755e-01,\n",
       "         5.45669742e-01, 2.63265324e-01, 5.48238760e-01, 3.99429956e-01,\n",
       "         5.08263972e-02, 2.44222875e-01, 7.21009921e-01, 4.36193060e-02,\n",
       "         3.53602289e-01, 5.42443828e-01, 6.88806861e-01, 9.20640298e-02,\n",
       "         2.55153268e-01, 7.32070743e-01, 4.28300468e-01, 8.42389372e-01,\n",
       "         9.73907745e-01, 1.91085363e-01, 2.03123532e-01, 7.68734202e-01,\n",
       "         6.64100831e-01, 1.80769635e-01, 5.16904224e-01, 8.38920214e-01,\n",
       "         4.34483500e-01, 3.74013475e-01, 2.49594034e-01, 5.53173155e-01,\n",
       "         9.68949952e-01, 3.55602713e-01, 8.62484465e-02, 1.04941275e-01,\n",
       "         8.54922085e-01, 4.11096030e-01, 2.40489251e-01, 2.20254973e-01,\n",
       "         4.52525783e-01, 1.60175297e-01, 3.93886157e-02, 4.94105180e-02,\n",
       "         2.01714495e-01, 1.39989195e-01, 8.12566332e-01, 7.61171170e-01,\n",
       "         2.35268193e-01, 3.63086959e-01, 1.34964698e-01, 4.38569663e-01,\n",
       "         9.34114771e-01, 8.80190923e-01, 1.56644344e-01, 8.87708219e-01,\n",
       "         2.28288734e-01, 7.19304754e-01, 8.64223751e-01, 7.78871034e-01,\n",
       "         7.10788456e-01, 9.74090109e-01, 3.28184701e-02, 5.55431959e-01,\n",
       "         6.67290740e-01, 4.85663139e-01, 5.67918282e-01, 4.60291731e-01,\n",
       "         3.73840461e-01, 7.42352296e-01, 6.37876356e-01, 3.18537629e-01,\n",
       "         6.56236842e-01, 2.59705955e-01, 5.09824704e-01, 5.41596624e-02,\n",
       "         3.71005817e-01, 8.04663530e-01, 7.76246792e-01, 4.46531831e-01,\n",
       "         2.99202892e-01, 8.21060574e-01, 6.32978452e-01, 9.54300485e-01,\n",
       "         5.30331014e-01, 5.91953351e-01, 8.43616393e-01, 7.63099671e-01,\n",
       "         7.39926343e-01, 1.61022888e-01, 1.45365438e-01, 7.04826833e-01,\n",
       "         2.71773097e-01, 4.55170844e-01, 4.30666660e-01, 1.08427010e-01,\n",
       "         9.17990825e-01, 3.57664033e-01, 5.55361301e-01, 3.77401977e-01,\n",
       "         8.36307062e-01, 4.49752891e-01, 5.59358853e-01, 5.93393034e-01,\n",
       "         5.97672454e-01, 2.85041883e-01, 2.34263877e-01, 2.68295693e-01,\n",
       "         5.03148677e-01, 3.14017551e-01, 1.01065540e-01, 5.12757836e-01,\n",
       "         7.33886230e-01, 6.08974396e-01, 7.59264530e-01, 8.61064162e-01,\n",
       "         4.76956162e-01, 7.67387225e-01, 4.96760819e-01, 8.46936414e-01,\n",
       "         6.29073707e-01, 8.04506971e-01, 6.45138941e-01, 3.66795701e-01,\n",
       "         3.52723141e-02, 3.71732101e-01, 8.03409075e-01, 3.63309105e-02,\n",
       "         7.07399101e-01, 2.87624981e-02, 1.27620056e-01, 2.41750598e-01,\n",
       "         3.73336900e-03, 2.02080101e-01, 1.76127784e-01, 9.82990466e-01,\n",
       "         9.60876247e-01, 2.35603595e-01, 3.42454224e-01, 4.43593499e-01,\n",
       "         2.03030130e-01, 9.43733315e-01, 1.96288967e-01, 6.42603498e-01,\n",
       "         7.63999318e-01, 6.32547611e-01, 8.13891895e-01, 2.12502959e-01,\n",
       "         7.81162191e-01, 2.58376036e-01, 8.09198791e-01, 8.55323348e-01,\n",
       "         7.88035252e-01, 4.80372897e-01, 2.59001707e-01, 3.20761840e-01,\n",
       "         7.55726700e-02, 1.35673608e-01, 8.59555764e-01, 2.48374831e-01,\n",
       "         6.65016522e-01, 1.12418859e-01, 9.74031784e-01, 2.21651240e-01,\n",
       "         8.24801754e-01, 8.29883330e-02, 8.01653124e-01, 2.53711916e-01,\n",
       "         1.60321788e-01, 5.70588874e-01, 3.41127943e-02, 4.81481178e-02,\n",
       "         7.88236695e-01, 8.84537274e-02, 6.76301383e-01, 3.50971882e-02,\n",
       "         9.24789360e-01, 6.21774298e-01, 7.06307030e-02, 1.05554249e-01,\n",
       "         2.24960364e-01, 2.10146000e-01, 9.15433047e-01, 8.95895256e-01,\n",
       "         2.52263972e-01, 2.78995231e-01, 6.79852101e-01, 8.68216469e-01,\n",
       "         3.27659607e-01, 1.96755573e-01, 7.68662387e-01, 2.49571764e-01,\n",
       "         4.90598461e-01, 2.25143805e-01, 9.39009203e-01, 3.76207257e-01,\n",
       "         9.19500653e-01, 9.48216865e-02, 8.59322095e-04, 4.54733457e-01,\n",
       "         7.66070441e-01, 9.84555277e-01, 8.67026387e-01, 2.06084801e-01,\n",
       "         6.33566156e-01, 4.70619005e-01, 7.18047456e-01, 9.83686305e-01,\n",
       "         3.71894168e-01, 4.15320332e-01, 1.99099193e-01, 3.25045846e-01,\n",
       "         5.92733371e-01, 2.99212388e-01, 9.89899087e-01, 6.10680101e-01,\n",
       "         3.33050265e-01, 8.72706276e-01, 8.58387449e-02, 7.92153400e-01,\n",
       "         4.34663226e-01, 5.36978966e-01, 9.71095413e-01, 4.95689489e-02,\n",
       "         9.02838484e-01, 1.54330935e-01, 6.70639000e-02, 8.04841652e-01,\n",
       "         7.10679399e-01, 8.56074345e-01, 4.38102704e-01, 7.19692693e-01,\n",
       "         1.21162530e-02, 2.72389347e-01, 9.67122143e-02, 9.47076027e-01,\n",
       "         6.52783782e-01, 1.53619955e-01, 9.67835654e-01, 4.41552309e-01,\n",
       "         4.70383925e-01, 1.22813360e-01, 6.87154488e-01, 1.93641434e-01,\n",
       "         1.85817381e-01, 8.68712273e-01, 4.77368841e-01, 6.87526557e-02,\n",
       "         6.13875071e-01, 7.57585195e-01, 7.16337079e-01, 3.60605096e-02,\n",
       "         9.25661006e-01, 4.78365638e-01, 4.09086617e-01, 9.66696215e-01,\n",
       "         6.46591831e-01, 8.07614740e-01, 9.10854667e-01, 2.06088265e-01,\n",
       "         5.23566758e-01, 8.60805643e-01, 6.18904459e-01, 8.71596589e-01,\n",
       "         1.40779364e-01, 1.48831885e-01, 7.11612586e-01, 7.58008557e-02,\n",
       "         1.37264434e-01, 6.69668133e-01, 8.63623213e-01, 7.42831016e-01,\n",
       "         8.94386086e-01, 1.91913801e-01, 5.22253228e-01, 1.44422206e-01,\n",
       "         4.21052725e-01, 6.11025655e-01, 5.26687863e-01, 3.60763449e-01,\n",
       "         9.70230263e-01, 5.07744942e-01, 8.65186815e-01, 1.24657823e-01,\n",
       "         1.60637140e-01, 2.78590629e-01, 3.86909916e-01, 9.92581057e-01,\n",
       "         5.64303602e-02, 5.63145194e-01, 2.04794250e-01, 5.78463800e-01,\n",
       "         7.11636055e-01, 6.17186427e-01, 8.34045955e-01, 2.80000733e-02,\n",
       "         5.83871458e-01, 9.30140568e-01, 7.87717854e-01, 9.77827213e-01,\n",
       "         3.73105409e-01, 7.48336765e-01, 9.10281861e-01, 8.12207761e-01,\n",
       "         8.43236662e-01, 1.44148419e-01, 2.34670461e-01, 6.70522576e-01,\n",
       "         1.16410426e-01, 2.32725956e-01, 1.20438791e-01, 9.47676194e-01,\n",
       "         4.95317432e-01, 8.00243980e-01, 6.81365290e-01, 5.70716643e-01,\n",
       "         8.30963054e-01, 5.18374123e-01, 1.11726921e-01, 7.80915332e-01,\n",
       "         6.69571856e-01, 1.51606075e-01, 7.40412313e-02, 2.11578013e-01,\n",
       "         2.00865412e-01, 9.65209935e-01, 3.54746306e-01, 3.10741492e-01,\n",
       "         1.52888333e-02, 3.87831303e-01, 8.33092489e-01, 9.75705634e-02,\n",
       "         2.93092311e-01, 5.97817090e-01, 9.64540785e-01, 1.88320608e-01,\n",
       "         8.87159111e-01, 1.46267640e-01, 2.75857644e-01, 8.25622201e-01,\n",
       "         3.73406546e-01, 8.68014008e-01, 7.24478654e-01, 9.15255836e-01,\n",
       "         5.00370483e-01, 5.56834759e-01, 7.01659883e-01, 5.67237482e-01,\n",
       "         3.80512630e-02, 2.23814444e-02, 7.01603981e-01, 5.63973908e-02,\n",
       "         6.37483080e-01, 4.31560834e-01, 4.12780589e-01, 2.96517628e-01,\n",
       "         8.25467496e-01, 7.85478264e-01, 7.80488061e-01, 9.48811485e-01,\n",
       "         9.19838517e-01, 8.85508078e-01, 2.25459370e-01, 2.98801770e-01,\n",
       "         7.09933018e-01, 3.29872127e-01, 7.17358167e-01, 3.01002897e-01,\n",
       "         1.17916872e-01, 3.24005385e-01, 8.37774472e-01, 9.63982809e-01,\n",
       "         2.25140592e-01, 1.85038068e-02, 5.79334038e-01, 5.11528698e-01,\n",
       "         7.66162728e-01, 4.81590023e-01, 8.35626463e-01, 2.92647411e-01,\n",
       "         4.62312376e-01, 4.11250520e-01, 4.65349870e-01, 9.94400831e-01,\n",
       "         7.63896981e-01, 8.12413536e-01, 9.93418637e-01, 5.18699147e-01,\n",
       "         4.14555156e-01, 2.73910970e-01, 2.70980046e-01, 8.38567281e-01,\n",
       "         9.46117649e-01, 4.85155530e-01, 6.16078814e-01, 1.77940030e-01,\n",
       "         1.55765946e-01, 7.30626592e-02, 2.06000118e-01, 7.57863051e-01,\n",
       "         9.45723947e-01, 1.35008852e-01, 6.60106774e-01, 7.62285455e-01,\n",
       "         2.91180240e-01, 4.07063742e-01, 1.22961235e-01, 1.78833629e-01,\n",
       "         3.55577106e-01, 8.87521383e-01, 7.61627929e-01, 2.59235779e-01,\n",
       "         2.68411195e-01, 1.12558356e-01, 9.70356339e-01, 1.12711580e-01,\n",
       "         3.38165536e-01, 3.84021375e-01, 7.94502707e-01, 4.53435378e-01,\n",
       "         2.81308997e-01, 9.11670336e-01, 6.85849416e-01, 7.15051881e-01,\n",
       "         6.25705420e-01, 4.79274280e-01, 6.09127824e-03, 2.70073937e-01,\n",
       "         6.24510348e-01, 1.42722228e-01, 1.45617347e-01, 3.71141279e-01,\n",
       "         1.65161392e-01, 1.63466222e-01, 6.72128653e-01, 2.16771968e-01,\n",
       "         3.49137668e-01, 2.29575842e-01, 8.91507789e-01, 8.78365577e-01,\n",
       "         6.14019389e-01, 1.18669395e-01, 7.38677720e-01, 3.48331031e-01,\n",
       "         5.82934388e-01, 2.38424782e-01, 2.63230180e-01, 7.00311300e-02,\n",
       "         2.28570482e-02, 5.66442383e-01, 9.82911233e-01, 1.54760866e-01,\n",
       "         9.46383094e-01, 7.22501725e-01, 4.38400569e-01, 6.88407693e-02,\n",
       "         7.92287414e-01, 9.93759662e-01, 6.89755022e-01, 1.15097600e-01,\n",
       "         3.91700614e-01, 2.73713043e-01, 1.23661658e-01, 5.98476232e-01,\n",
       "         5.37097012e-01]))]"
      ]
     },
     "execution_count": 20,
     "metadata": {},
     "output_type": "execute_result"
    }
   ],
   "source": [
    "expand_setpoints_helper(a.spectrum)"
   ]
  },
  {
   "cell_type": "code",
   "execution_count": 21,
   "metadata": {},
   "outputs": [
    {
     "name": "stdout",
     "output_type": "stream",
     "text": [
      "Starting experimental run with id: 2. \n"
     ]
    }
   ],
   "source": [
    "meas = Measurement()\n",
    "meas.register_parameter(a.spectrum)\n",
    "\n",
    "with meas.run() as datasaver:\n",
    "    datasaver.add_result(*expand_setpoints_helper(a.spectrum))\n",
    "    \n",
    "    dataid = datasaver.run_id"
   ]
  },
  {
   "cell_type": "code",
   "execution_count": null,
   "metadata": {},
   "outputs": [],
   "source": []
  }
 ],
 "metadata": {
  "kernelspec": {
   "display_name": "Python 3",
   "language": "python",
   "name": "python3"
  },
  "language_info": {
   "codemirror_mode": {
    "name": "ipython",
    "version": 3
   },
   "file_extension": ".py",
   "mimetype": "text/x-python",
   "name": "python",
   "nbconvert_exporter": "python",
   "pygments_lexer": "ipython3",
   "version": "3.7.7"
  },
  "toc": {
   "base_numbering": 1,
   "nav_menu": {},
   "number_sections": true,
   "sideBar": true,
   "skip_h1_title": false,
   "title_cell": "Table of Contents",
   "title_sidebar": "Contents",
   "toc_cell": false,
   "toc_position": {},
   "toc_section_display": true,
   "toc_window_display": false
  },
  "varInspector": {
   "cols": {
    "lenName": 16,
    "lenType": 16,
    "lenVar": 40
   },
   "kernels_config": {
    "python": {
     "delete_cmd_postfix": "",
     "delete_cmd_prefix": "del ",
     "library": "var_list.py",
     "varRefreshCmd": "print(var_dic_list())"
    },
    "r": {
     "delete_cmd_postfix": ") ",
     "delete_cmd_prefix": "rm(",
     "library": "var_list.r",
     "varRefreshCmd": "cat(var_dic_list()) "
    }
   },
   "types_to_exclude": [
    "module",
    "function",
    "builtin_function_or_method",
    "instance",
    "_Feature"
   ],
   "window_display": false
  }
 },
 "nbformat": 4,
 "nbformat_minor": 2
}
