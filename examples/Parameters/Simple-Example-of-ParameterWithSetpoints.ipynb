{
 "cells": [
  {
   "cell_type": "markdown",
   "metadata": {},
   "source": [
    "# Simple Example of ParameterWithSetpoints\n",
    "This notebook provides an example for writing a simple driver with a parameter that has setpoints. Let's name this parameter that has setpoints as \"y\". Then, the setpoints, say \"x1, x2, x3 ..\", are the parameters on which the parameter \n",
    "\"y\" depends upon. Meaning \"y\" is a function of \"x1, x2, x3 ...\" where \"x1, x2, x3 ...\" are known as the setpoints of parameter \"y\".\n",
    "\n",
    "This is most likely to be useful for instruments that return arrays of results. In this notebook, we will show an example of this."
   ]
  },
  {
   "cell_type": "code",
   "execution_count": 1,
   "metadata": {},
   "outputs": [],
   "source": [
    "import numpy as np\n",
    "import os"
   ]
  },
  {
   "cell_type": "code",
   "execution_count": 2,
   "metadata": {},
   "outputs": [
    {
     "name": "stdout",
     "output_type": "stream",
     "text": [
      "Logging hadn't been started.\n",
      "Activating auto-logging. Current session state plus future input saved.\n",
      "Filename       : /home/vsts/.qcodes/logs/command_history.log\n",
      "Mode           : append\n",
      "Output logging : True\n",
      "Raw input log  : False\n",
      "Timestamping   : True\n",
      "State          : active\n"
     ]
    },
    {
     "name": "stdout",
     "output_type": "stream",
     "text": [
      "Qcodes Logfile : /home/vsts/.qcodes/logs/200318-26426-qcodes.log\n"
     ]
    }
   ],
   "source": [
    "from qcodes.dataset.plotting import plot_dataset\n",
    "from qcodes.utils.validators import Numbers, Arrays\n",
    "from qcodes.instrument.base import Instrument\n",
    "from qcodes.dataset.measurements import Measurement"
   ]
  },
  {
   "cell_type": "code",
   "execution_count": 3,
   "metadata": {},
   "outputs": [],
   "source": [
    "from qcodes.dataset.sqlite.database import initialise_or_create_database_at\n",
    "from qcodes.dataset.experiment_container import load_or_create_experiment"
   ]
  },
  {
   "cell_type": "code",
   "execution_count": 4,
   "metadata": {},
   "outputs": [],
   "source": [
    "from qcodes.instrument.parameter import ParameterWithSetpoints, Parameter\n",
    "from qcodes.instrument.parameter import expand_setpoints_helper"
   ]
  },
  {
   "cell_type": "markdown",
   "metadata": {},
   "source": [
    "First, we define a dummy instrument that returns something like a frequency spectrum starting from a frequency given by `f_start` to a frequency given by `f_stop` in `n_points` steps. \n",
    "\n",
    "The extra functionality of the `ParameterWithSetpoints` is implemented by giving it a reference to one or more parameters that acts like its setpoints. \n",
    "\n",
    "To setup a `ParameterWithSetpoints` we have to do two things in addition to what we do for a normal parameter.\n",
    "\n",
    "* Define one or more parameter for the setpoints (one for each dimension of the array and let the `ParameterWithSetpoints` know that these are the setpoints.\n",
    "* Give both the setpoints parameter(s) and the `ParameterWithSetpoints` a `validator` of type `Arrays` with a shape. The shapes should be such that the combined shape of the setpoints matches the shape of the `ParameterWithSetpoints`. Note that if the shape changes with the setting of the instrument, it can be defined by another parameter as shown below. "
   ]
  },
  {
   "cell_type": "code",
   "execution_count": 5,
   "metadata": {},
   "outputs": [],
   "source": [
    "class GeneratedSetPoints(Parameter):\n",
    "    \"\"\"\n",
    "    A parameter that generates a setpoint array from start, stop and num points\n",
    "    parameters.\n",
    "    \"\"\"\n",
    "    def __init__(self, startparam, stopparam, numpointsparam, *args, **kwargs):\n",
    "        super().__init__(*args, **kwargs)\n",
    "        self._startparam = startparam\n",
    "        self._stopparam = stopparam\n",
    "        self._numpointsparam = numpointsparam\n",
    "\n",
    "    def get_raw(self):\n",
    "        return np.linspace(self._startparam(), self._stopparam(),\n",
    "                              self._numpointsparam())\n",
    "\n",
    "class DummyArray(ParameterWithSetpoints):\n",
    "    \n",
    "    def get_raw(self):\n",
    "        npoints = self.root_instrument.n_points.get_latest()\n",
    "        return np.random.rand(npoints)\n",
    "    \n",
    "\n",
    "class DummySpectrumAnalyzer(Instrument):\n",
    "    \n",
    "    def __init__(self, name, **kwargs):\n",
    "        \n",
    "        super().__init__(name, **kwargs)\n",
    "            \n",
    "\n",
    "        self.add_parameter('f_start',\n",
    "                           initial_value=0,\n",
    "                           unit='Hz',\n",
    "                           label='f start',\n",
    "                           vals=Numbers(0,1e3),\n",
    "                           get_cmd=None,\n",
    "                           set_cmd=None)\n",
    "\n",
    "        self.add_parameter('f_stop',\n",
    "                           unit='Hz',\n",
    "                           label='f stop',\n",
    "                           vals=Numbers(1,1e3),\n",
    "                           get_cmd=None,\n",
    "                           set_cmd=None)\n",
    "\n",
    "        self.add_parameter('n_points',\n",
    "                           unit='',\n",
    "                           initial_value=10,\n",
    "                           vals=Numbers(1,1e3),\n",
    "                           get_cmd=None,\n",
    "                           set_cmd=None)\n",
    "        \n",
    "        self.add_parameter('freq_axis',\n",
    "                           unit='Hz',\n",
    "                           label='Freq Axis',\n",
    "                           parameter_class=GeneratedSetPoints,\n",
    "                           startparam=self.f_start,\n",
    "                           stopparam=self.f_stop,\n",
    "                           numpointsparam=self.n_points,\n",
    "                           vals=Arrays(shape=(self.n_points.get_latest,)))\n",
    "                           \n",
    "        self.add_parameter('spectrum',\n",
    "                   unit='dBm',\n",
    "                   setpoints=(self.freq_axis,),\n",
    "                   label='Spectrum',\n",
    "                   parameter_class=DummyArray,\n",
    "                   vals=Arrays(shape=(self.n_points.get_latest,)))\n",
    "                "
   ]
  },
  {
   "cell_type": "markdown",
   "metadata": {},
   "source": [
    "In the above example, the shape is defined by the parameter `n_points` that defines how many samples our `DummySpectrumAnalyzer` returns.\n",
    "\n",
    "This means that the validation will call the function to get `n_points` twice for each `get` of the parameter. This may be too slow, however, if you (as the driver-writer) can guarantee that the cached value for `n_points` will never be out of sync with the value stored in the instrument, `n_points` may be replaced by it's latest known value such that the `validator` reads:\n",
    "```python\n",
    "vals=Arrays(shape=(self.n_points.get_latest))\n",
    "```\n",
    "\n",
    "This avoids any additional call to the instrument. In the same way, the arguments to the `freq_axis` parameter that defines the start, stop and number of points can be replaced by their latest value if the instrument allows it.\n",
    "\n"
   ]
  },
  {
   "cell_type": "code",
   "execution_count": 6,
   "metadata": {},
   "outputs": [
    {
     "name": "stdout",
     "output_type": "stream",
     "text": [
      "\r",
      "0it [00:00, ?it/s]"
     ]
    },
    {
     "name": "stdout",
     "output_type": "stream",
     "text": [
      "\r",
      "Upgrading database; v0 -> v1: : 0it [00:00, ?it/s]"
     ]
    },
    {
     "name": "stdout",
     "output_type": "stream",
     "text": [
      "\r",
      "Upgrading database; v0 -> v1: : 0it [00:00, ?it/s]"
     ]
    },
    {
     "name": "stdout",
     "output_type": "stream",
     "text": [
      "\n",
      "\r",
      "  0%|          | 0/1 [00:00<?, ?it/s]"
     ]
    },
    {
     "name": "stdout",
     "output_type": "stream",
     "text": [
      "\r",
      "Upgrading database; v1 -> v2:   0%|          | 0/1 [00:00<?, ?it/s]"
     ]
    },
    {
     "name": "stdout",
     "output_type": "stream",
     "text": [
      "\r",
      "Upgrading database; v1 -> v2: 100%|██████████| 1/1 [00:00<00:00, 749.79it/s]"
     ]
    },
    {
     "name": "stdout",
     "output_type": "stream",
     "text": [
      "\n",
      "\r",
      "0it [00:00, ?it/s]"
     ]
    },
    {
     "name": "stdout",
     "output_type": "stream",
     "text": [
      "\r",
      "Upgrading database; v2 -> v3: : 0it [00:00, ?it/s]"
     ]
    },
    {
     "name": "stdout",
     "output_type": "stream",
     "text": [
      "\r",
      "Upgrading database; v2 -> v3: : 0it [00:00, ?it/s]"
     ]
    },
    {
     "name": "stdout",
     "output_type": "stream",
     "text": [
      "\n",
      "\r",
      "0it [00:00, ?it/s]"
     ]
    },
    {
     "name": "stdout",
     "output_type": "stream",
     "text": [
      "\r",
      "Upgrading database; v3 -> v4: : 0it [00:00, ?it/s]"
     ]
    },
    {
     "name": "stdout",
     "output_type": "stream",
     "text": [
      "\r",
      "Upgrading database; v3 -> v4: : 0it [00:00, ?it/s]"
     ]
    },
    {
     "name": "stdout",
     "output_type": "stream",
     "text": [
      "\n",
      "\r",
      "  0%|          | 0/1 [00:00<?, ?it/s]"
     ]
    },
    {
     "name": "stdout",
     "output_type": "stream",
     "text": [
      "\r",
      "Upgrading database; v4 -> v5:   0%|          | 0/1 [00:00<?, ?it/s]"
     ]
    },
    {
     "name": "stdout",
     "output_type": "stream",
     "text": [
      "\r",
      "Upgrading database; v4 -> v5: 100%|██████████| 1/1 [00:00<00:00, 999.36it/s]"
     ]
    },
    {
     "name": "stdout",
     "output_type": "stream",
     "text": [
      "\n",
      "\r",
      "0it [00:00, ?it/s]"
     ]
    },
    {
     "name": "stdout",
     "output_type": "stream",
     "text": [
      "\r",
      "Upgrading database; v5 -> v6: : 0it [00:00, ?it/s]"
     ]
    },
    {
     "name": "stdout",
     "output_type": "stream",
     "text": [
      "\r",
      "Upgrading database; v5 -> v6: : 0it [00:00, ?it/s]"
     ]
    },
    {
     "name": "stdout",
     "output_type": "stream",
     "text": [
      "\n",
      "\r",
      "  0%|          | 0/1 [00:00<?, ?it/s]"
     ]
    },
    {
     "name": "stdout",
     "output_type": "stream",
     "text": [
      "\r",
      "Upgrading database; v6 -> v7:   0%|          | 0/1 [00:00<?, ?it/s]"
     ]
    },
    {
     "name": "stdout",
     "output_type": "stream",
     "text": [
      "\r",
      "Upgrading database; v6 -> v7: 100%|██████████| 1/1 [00:00<00:00, 463.15it/s]"
     ]
    },
    {
     "name": "stdout",
     "output_type": "stream",
     "text": [
      "\n",
      "\r",
      "  0%|          | 0/1 [00:00<?, ?it/s]"
     ]
    },
    {
     "name": "stdout",
     "output_type": "stream",
     "text": [
      "\r",
      "Upgrading database; v7 -> v8:   0%|          | 0/1 [00:00<?, ?it/s]"
     ]
    },
    {
     "name": "stdout",
     "output_type": "stream",
     "text": [
      "\r",
      "Upgrading database; v7 -> v8: 100%|██████████| 1/1 [00:00<00:00, 783.40it/s]"
     ]
    },
    {
     "name": "stdout",
     "output_type": "stream",
     "text": [
      "\n",
      "\r",
      "  0%|          | 0/1 [00:00<?, ?it/s]"
     ]
    },
    {
     "name": "stdout",
     "output_type": "stream",
     "text": [
      "\r",
      "Upgrading database; v8 -> v9:   0%|          | 0/1 [00:00<?, ?it/s]"
     ]
    },
    {
     "name": "stdout",
     "output_type": "stream",
     "text": [
      "\r",
      "Upgrading database; v8 -> v9: 100%|██████████| 1/1 [00:00<00:00, 932.48it/s]"
     ]
    },
    {
     "name": "stdout",
     "output_type": "stream",
     "text": [
      "\n"
     ]
    },
    {
     "data": {
      "text/plain": [
       "tutorial_ParameterWithSetpoints#no sample#1@/home/vsts/work/1/s/docs/examples/Parameters/tutorial_paramter_with_setpoints.db\n",
       "----------------------------------------------------------------------------------------------------------------------------"
      ]
     },
     "execution_count": 6,
     "metadata": {},
     "output_type": "execute_result"
    }
   ],
   "source": [
    "tutorial_db_path = os.path.join(os.getcwd(), 'tutorial_paramter_with_setpoints.db')\n",
    "initialise_or_create_database_at(tutorial_db_path)\n",
    "load_or_create_experiment(experiment_name='tutorial_ParameterWithSetpoints', sample_name=\"no sample\")"
   ]
  },
  {
   "cell_type": "code",
   "execution_count": 7,
   "metadata": {},
   "outputs": [],
   "source": [
    "a = DummySpectrumAnalyzer('foobar')"
   ]
  },
  {
   "cell_type": "markdown",
   "metadata": {},
   "source": [
    "First we setup the limits of the spectrum"
   ]
  },
  {
   "cell_type": "code",
   "execution_count": 8,
   "metadata": {},
   "outputs": [],
   "source": [
    "a.f_start(0)\n",
    "a.f_stop(500)\n",
    "a.n_points(501)"
   ]
  },
  {
   "cell_type": "markdown",
   "metadata": {},
   "source": [
    "And we can grab the frequency axis"
   ]
  },
  {
   "cell_type": "code",
   "execution_count": 9,
   "metadata": {},
   "outputs": [
    {
     "data": {
      "text/plain": [
       "501"
      ]
     },
     "execution_count": 9,
     "metadata": {},
     "output_type": "execute_result"
    }
   ],
   "source": [
    "a.n_points()"
   ]
  },
  {
   "cell_type": "code",
   "execution_count": 10,
   "metadata": {
    "scrolled": false
   },
   "outputs": [
    {
     "data": {
      "text/plain": [
       "501"
      ]
     },
     "execution_count": 10,
     "metadata": {},
     "output_type": "execute_result"
    }
   ],
   "source": [
    "freq_axis = a.freq_axis()\n",
    "len(freq_axis)"
   ]
  },
  {
   "cell_type": "code",
   "execution_count": 11,
   "metadata": {},
   "outputs": [
    {
     "data": {
      "text/plain": [
       "array([0., 1., 2., 3., 4., 5., 6., 7., 8., 9.])"
      ]
     },
     "execution_count": 11,
     "metadata": {},
     "output_type": "execute_result"
    }
   ],
   "source": [
    "freq_axis[:10]"
   ]
  },
  {
   "cell_type": "markdown",
   "metadata": {},
   "source": [
    "As expected we get a result wit 501 points as we asked for an axis with 501 points. "
   ]
  },
  {
   "cell_type": "markdown",
   "metadata": {},
   "source": [
    "Above we have added a validator to the `freq_axis` parameter encoding the fact that this is an Array with `n_points`. Note that we do not have to supply the number of points as an integer but can supply a function that returns the valid number of points. This would normally be a QCoDeS parameter.\n",
    "\n",
    "This will be checked if we validate the output."
   ]
  },
  {
   "cell_type": "code",
   "execution_count": 12,
   "metadata": {},
   "outputs": [],
   "source": [
    "a.freq_axis.validate(a.freq_axis.get())"
   ]
  },
  {
   "cell_type": "markdown",
   "metadata": {},
   "source": [
    "Naturally, we can also get the spectrum. Getting the spectrum will automatically perform validation both for the shape of the parameter itself and the relation to the setpoint parameter(s)"
   ]
  },
  {
   "cell_type": "code",
   "execution_count": 13,
   "metadata": {
    "scrolled": true
   },
   "outputs": [
    {
     "data": {
      "text/plain": [
       "501"
      ]
     },
     "execution_count": 13,
     "metadata": {},
     "output_type": "execute_result"
    }
   ],
   "source": [
    "spectrum = a.spectrum.get()\n",
    "len(spectrum)"
   ]
  },
  {
   "cell_type": "markdown",
   "metadata": {},
   "source": [
    "When we validate a `ParameterWithSetpoints`, we automatically validate that the shape is consistent between the parameters and its setpoints. As well as validating the shape as above."
   ]
  },
  {
   "cell_type": "code",
   "execution_count": 14,
   "metadata": {},
   "outputs": [],
   "source": [
    "a.spectrum.validate(a.spectrum.get())"
   ]
  },
  {
   "cell_type": "markdown",
   "metadata": {},
   "source": [
    "The consistent shapes can be validated explicitly."
   ]
  },
  {
   "cell_type": "code",
   "execution_count": 15,
   "metadata": {},
   "outputs": [],
   "source": [
    "a.spectrum.validate_consistent_shape()"
   ]
  },
  {
   "cell_type": "markdown",
   "metadata": {},
   "source": [
    "We can inspect the setpoints of the spectrum."
   ]
  },
  {
   "cell_type": "code",
   "execution_count": 16,
   "metadata": {},
   "outputs": [
    {
     "data": {
      "text/plain": [
       "(<__main__.GeneratedSetPoints: freq_axis at 139960414279440>,)"
      ]
     },
     "execution_count": 16,
     "metadata": {},
     "output_type": "execute_result"
    }
   ],
   "source": [
    "a.spectrum.setpoints"
   ]
  },
  {
   "cell_type": "markdown",
   "metadata": {},
   "source": [
    "Or even change them."
   ]
  },
  {
   "cell_type": "code",
   "execution_count": 17,
   "metadata": {},
   "outputs": [],
   "source": [
    "a.spectrum.setpoints = (a.freq_axis,)"
   ]
  },
  {
   "cell_type": "markdown",
   "metadata": {},
   "source": [
    "## Measurement"
   ]
  },
  {
   "cell_type": "markdown",
   "metadata": {},
   "source": [
    "We can also directly consume the parameter in a measurement without defining the setpoints of the parameter again. The setpoints are automatically obtained from the definition of the `ParameterWithSetpoint` instance. "
   ]
  },
  {
   "cell_type": "code",
   "execution_count": 18,
   "metadata": {},
   "outputs": [
    {
     "name": "stdout",
     "output_type": "stream",
     "text": [
      "Starting experimental run with id: 1. \n"
     ]
    }
   ],
   "source": [
    "meas = Measurement()\n",
    "meas.register_parameter(a.spectrum)\n",
    "\n",
    "with meas.run() as datasaver:\n",
    "    datasaver.add_result((a.freq_axis, a.freq_axis()),\n",
    "                         (a.spectrum, a.spectrum()))\n",
    "    dataset = datasaver.dataset"
   ]
  },
  {
   "cell_type": "markdown",
   "metadata": {},
   "source": [
    "And plot it"
   ]
  },
  {
   "cell_type": "code",
   "execution_count": 19,
   "metadata": {},
   "outputs": [
    {
     "data": {
      "text/plain": [
       "([<matplotlib.axes._subplots.AxesSubplot at 0x7f4b12c72490>], [None])"
      ]
     },
     "execution_count": 19,
     "metadata": {},
     "output_type": "execute_result"
    },
    {
     "data": {
      "image/png": "[encoded data removed]",
      "text/plain": [
       "<Figure size 432x288 with 1 Axes>"
      ]
     },
     "metadata": {
      "needs_background": "light"
     },
     "output_type": "display_data"
    }
   ],
   "source": [
    "plot_dataset(dataset)"
   ]
  },
  {
   "cell_type": "markdown",
   "metadata": {},
   "source": [
    "To reduce the amount of typing a simple convenience function is provided that will take a `ParameterWithSetpoints` and get both its values and the setpoints values and return them as tuples for direct insertion into the Dataset."
   ]
  },
  {
   "cell_type": "code",
   "execution_count": 20,
   "metadata": {
    "scrolled": true
   },
   "outputs": [
    {
     "data": {
      "text/plain": [
       "[(<__main__.GeneratedSetPoints: freq_axis at 139960414279440>,\n",
       "  array([  0.,   1.,   2.,   3.,   4.,   5.,   6.,   7.,   8.,   9.,  10.,\n",
       "          11.,  12.,  13.,  14.,  15.,  16.,  17.,  18.,  19.,  20.,  21.,\n",
       "          22.,  23.,  24.,  25.,  26.,  27.,  28.,  29.,  30.,  31.,  32.,\n",
       "          33.,  34.,  35.,  36.,  37.,  38.,  39.,  40.,  41.,  42.,  43.,\n",
       "          44.,  45.,  46.,  47.,  48.,  49.,  50.,  51.,  52.,  53.,  54.,\n",
       "          55.,  56.,  57.,  58.,  59.,  60.,  61.,  62.,  63.,  64.,  65.,\n",
       "          66.,  67.,  68.,  69.,  70.,  71.,  72.,  73.,  74.,  75.,  76.,\n",
       "          77.,  78.,  79.,  80.,  81.,  82.,  83.,  84.,  85.,  86.,  87.,\n",
       "          88.,  89.,  90.,  91.,  92.,  93.,  94.,  95.,  96.,  97.,  98.,\n",
       "          99., 100., 101., 102., 103., 104., 105., 106., 107., 108., 109.,\n",
       "         110., 111., 112., 113., 114., 115., 116., 117., 118., 119., 120.,\n",
       "         121., 122., 123., 124., 125., 126., 127., 128., 129., 130., 131.,\n",
       "         132., 133., 134., 135., 136., 137., 138., 139., 140., 141., 142.,\n",
       "         143., 144., 145., 146., 147., 148., 149., 150., 151., 152., 153.,\n",
       "         154., 155., 156., 157., 158., 159., 160., 161., 162., 163., 164.,\n",
       "         165., 166., 167., 168., 169., 170., 171., 172., 173., 174., 175.,\n",
       "         176., 177., 178., 179., 180., 181., 182., 183., 184., 185., 186.,\n",
       "         187., 188., 189., 190., 191., 192., 193., 194., 195., 196., 197.,\n",
       "         198., 199., 200., 201., 202., 203., 204., 205., 206., 207., 208.,\n",
       "         209., 210., 211., 212., 213., 214., 215., 216., 217., 218., 219.,\n",
       "         220., 221., 222., 223., 224., 225., 226., 227., 228., 229., 230.,\n",
       "         231., 232., 233., 234., 235., 236., 237., 238., 239., 240., 241.,\n",
       "         242., 243., 244., 245., 246., 247., 248., 249., 250., 251., 252.,\n",
       "         253., 254., 255., 256., 257., 258., 259., 260., 261., 262., 263.,\n",
       "         264., 265., 266., 267., 268., 269., 270., 271., 272., 273., 274.,\n",
       "         275., 276., 277., 278., 279., 280., 281., 282., 283., 284., 285.,\n",
       "         286., 287., 288., 289., 290., 291., 292., 293., 294., 295., 296.,\n",
       "         297., 298., 299., 300., 301., 302., 303., 304., 305., 306., 307.,\n",
       "         308., 309., 310., 311., 312., 313., 314., 315., 316., 317., 318.,\n",
       "         319., 320., 321., 322., 323., 324., 325., 326., 327., 328., 329.,\n",
       "         330., 331., 332., 333., 334., 335., 336., 337., 338., 339., 340.,\n",
       "         341., 342., 343., 344., 345., 346., 347., 348., 349., 350., 351.,\n",
       "         352., 353., 354., 355., 356., 357., 358., 359., 360., 361., 362.,\n",
       "         363., 364., 365., 366., 367., 368., 369., 370., 371., 372., 373.,\n",
       "         374., 375., 376., 377., 378., 379., 380., 381., 382., 383., 384.,\n",
       "         385., 386., 387., 388., 389., 390., 391., 392., 393., 394., 395.,\n",
       "         396., 397., 398., 399., 400., 401., 402., 403., 404., 405., 406.,\n",
       "         407., 408., 409., 410., 411., 412., 413., 414., 415., 416., 417.,\n",
       "         418., 419., 420., 421., 422., 423., 424., 425., 426., 427., 428.,\n",
       "         429., 430., 431., 432., 433., 434., 435., 436., 437., 438., 439.,\n",
       "         440., 441., 442., 443., 444., 445., 446., 447., 448., 449., 450.,\n",
       "         451., 452., 453., 454., 455., 456., 457., 458., 459., 460., 461.,\n",
       "         462., 463., 464., 465., 466., 467., 468., 469., 470., 471., 472.,\n",
       "         473., 474., 475., 476., 477., 478., 479., 480., 481., 482., 483.,\n",
       "         484., 485., 486., 487., 488., 489., 490., 491., 492., 493., 494.,\n",
       "         495., 496., 497., 498., 499., 500.])),\n",
       " (<__main__.DummyArray: spectrum at 139960414279888>,\n",
       "  array([3.81701063e-01, 5.09452173e-01, 3.09061859e-02, 8.69212307e-01,\n",
       "         2.54141644e-02, 5.90036064e-02, 1.19889459e-01, 1.31590937e-01,\n",
       "         2.56032675e-01, 1.33378677e-01, 4.05784469e-01, 2.70682436e-01,\n",
       "         4.04145227e-01, 6.01261866e-01, 8.64425108e-01, 9.34806365e-01,\n",
       "         3.48917817e-02, 8.41329200e-03, 2.71652435e-01, 1.78678992e-01,\n",
       "         8.95848151e-01, 1.36334682e-01, 1.32093461e-01, 3.04564999e-01,\n",
       "         5.90433587e-01, 8.82610120e-01, 4.93711326e-01, 2.79837874e-01,\n",
       "         7.98137430e-01, 7.47036616e-01, 6.79389541e-01, 1.27722189e-01,\n",
       "         4.61092067e-01, 5.91879632e-01, 5.45654345e-01, 2.51584239e-01,\n",
       "         2.69382410e-01, 2.03017723e-01, 3.98170431e-01, 9.02953418e-02,\n",
       "         2.24061574e-01, 7.78646073e-01, 2.94946460e-01, 6.65414215e-01,\n",
       "         5.43347545e-01, 2.21825042e-01, 1.98449918e-01, 1.34944868e-01,\n",
       "         5.21146671e-01, 8.29760753e-01, 3.57737786e-01, 8.29658713e-01,\n",
       "         4.57285840e-01, 2.84245858e-01, 1.20367696e-01, 7.65572013e-01,\n",
       "         4.42008153e-01, 9.73477692e-01, 8.44986581e-01, 3.97147042e-01,\n",
       "         7.54383305e-01, 8.30111479e-01, 9.71556695e-01, 5.58063111e-01,\n",
       "         2.16855568e-02, 1.58029798e-01, 9.30560094e-01, 6.02471351e-01,\n",
       "         3.64781416e-02, 2.07873483e-01, 7.54578564e-01, 3.55193219e-01,\n",
       "         8.65603821e-01, 9.11907398e-01, 1.90237475e-01, 6.45507978e-01,\n",
       "         7.15518766e-01, 4.07588264e-01, 6.17475312e-01, 6.75923199e-01,\n",
       "         9.84969629e-01, 7.07984217e-01, 2.20640646e-01, 4.08631495e-01,\n",
       "         6.75453657e-01, 6.60919971e-01, 8.76570554e-01, 9.24232227e-01,\n",
       "         9.96747823e-01, 1.96718355e-01, 2.63186329e-01, 4.47315556e-02,\n",
       "         2.73584474e-01, 2.50336803e-04, 9.23697114e-01, 6.23118946e-01,\n",
       "         1.29868619e-01, 9.00668470e-01, 7.22744417e-01, 3.63343926e-01,\n",
       "         7.48105676e-02, 4.64289663e-01, 8.50956819e-01, 3.13217164e-01,\n",
       "         1.20533051e-01, 5.23068649e-01, 2.88773325e-01, 6.40500600e-01,\n",
       "         5.57747897e-01, 6.65230769e-01, 5.20540838e-01, 4.12257570e-01,\n",
       "         7.15793001e-01, 8.08285191e-01, 7.78170925e-01, 3.36837682e-01,\n",
       "         6.68806409e-01, 1.35040493e-01, 4.82851980e-01, 7.52228223e-02,\n",
       "         1.11324469e-01, 2.22104526e-01, 3.13158129e-01, 3.32839193e-03,\n",
       "         1.28317966e-01, 3.33910367e-01, 4.53787969e-01, 8.56830857e-01,\n",
       "         5.97386332e-01, 2.65466271e-01, 9.27123975e-01, 4.92128357e-01,\n",
       "         1.88519457e-01, 9.24041164e-01, 8.93513061e-01, 2.32403554e-01,\n",
       "         4.36787572e-01, 3.04349573e-01, 9.62504236e-01, 4.86236014e-01,\n",
       "         3.81755702e-01, 6.96345596e-01, 1.03590850e-01, 5.37374991e-01,\n",
       "         2.31911836e-01, 1.31295645e-02, 5.44279980e-01, 2.26229100e-01,\n",
       "         4.36275518e-01, 3.90511765e-01, 5.68931635e-01, 9.63259919e-01,\n",
       "         9.10473633e-01, 5.46184293e-01, 6.89137108e-02, 8.54945358e-01,\n",
       "         8.97734924e-01, 2.95761704e-01, 6.06471038e-01, 4.41473050e-01,\n",
       "         1.51518257e-01, 8.50127376e-01, 4.94511360e-01, 8.12764502e-01,\n",
       "         8.69116227e-02, 3.48388909e-01, 6.36568379e-01, 6.21266062e-01,\n",
       "         5.67167634e-01, 4.46175983e-01, 7.16302964e-01, 6.31090420e-01,\n",
       "         3.51249122e-02, 3.13854903e-01, 3.63282688e-01, 3.80974115e-01,\n",
       "         8.71209138e-01, 6.87823169e-01, 6.72923899e-01, 1.43467482e-01,\n",
       "         2.80708760e-01, 4.14156652e-01, 5.82439872e-01, 6.00244801e-01,\n",
       "         2.98235421e-01, 6.97567736e-01, 5.05020873e-01, 1.20123963e-01,\n",
       "         8.42662492e-01, 3.61053986e-01, 6.50220973e-01, 1.49780581e-02,\n",
       "         6.41179484e-01, 2.97459445e-01, 5.09866625e-01, 8.50690354e-01,\n",
       "         1.28422526e-01, 5.41865007e-01, 8.83189066e-01, 6.77667313e-01,\n",
       "         8.85277308e-01, 8.01438332e-01, 8.90448732e-01, 2.73107863e-01,\n",
       "         2.21022230e-01, 6.46349591e-02, 5.51386417e-01, 4.62031776e-01,\n",
       "         4.30742238e-01, 8.88862408e-01, 4.62685295e-01, 1.78411686e-01,\n",
       "         9.36573207e-01, 4.17846961e-01, 6.41381067e-01, 6.92309827e-01,\n",
       "         4.01232059e-02, 8.00396106e-01, 2.88728259e-01, 8.06752456e-01,\n",
       "         6.04683933e-01, 2.22611205e-01, 2.03014117e-01, 6.05412294e-01,\n",
       "         9.90603382e-01, 6.47806041e-01, 1.27384743e-01, 6.86259650e-01,\n",
       "         6.45913707e-02, 7.86542027e-01, 9.47908782e-01, 6.81474871e-01,\n",
       "         7.94129876e-02, 2.61715296e-01, 7.97889110e-03, 4.52694883e-01,\n",
       "         7.04495012e-01, 3.64513694e-01, 4.12653848e-01, 9.88090797e-01,\n",
       "         3.21256750e-01, 5.16335207e-01, 3.79617414e-01, 8.81154975e-01,\n",
       "         5.70373553e-01, 3.09246674e-01, 4.78227493e-01, 3.59132155e-01,\n",
       "         8.00925827e-01, 8.68912672e-01, 1.95231456e-01, 8.90572199e-01,\n",
       "         3.84454405e-01, 4.83078488e-01, 4.42119477e-01, 9.99680688e-01,\n",
       "         7.97396438e-01, 1.65008479e-01, 2.02592109e-01, 6.32300035e-01,\n",
       "         8.03579910e-01, 8.24287922e-01, 6.25680774e-01, 8.66293364e-01,\n",
       "         1.90166450e-01, 4.21538315e-02, 6.13902987e-01, 4.34734988e-01,\n",
       "         4.74238879e-01, 7.24446269e-01, 9.41717139e-01, 3.02599736e-02,\n",
       "         4.38847143e-02, 4.31269228e-02, 7.95728808e-02, 7.84988981e-01,\n",
       "         2.03936542e-01, 6.53984098e-01, 9.53656749e-01, 6.80877215e-01,\n",
       "         2.61134482e-01, 2.40759199e-01, 3.34130059e-01, 8.85185759e-01,\n",
       "         6.59526192e-01, 7.40604736e-01, 7.28014575e-01, 4.97356768e-01,\n",
       "         1.48962401e-01, 5.97459930e-02, 8.88352915e-01, 8.52166382e-01,\n",
       "         9.30866006e-01, 7.42411622e-01, 9.08571409e-01, 8.44200286e-01,\n",
       "         5.80781426e-01, 3.23395775e-01, 9.86668238e-01, 4.47109966e-01,\n",
       "         6.58842850e-01, 5.97870993e-02, 2.03419576e-01, 5.05240369e-01,\n",
       "         2.56929983e-01, 2.00649980e-01, 7.61346122e-01, 5.64863544e-01,\n",
       "         6.53961935e-01, 6.63566170e-01, 4.65609603e-01, 8.58082123e-01,\n",
       "         2.76570872e-03, 3.86087460e-02, 6.52332302e-01, 6.65919069e-01,\n",
       "         4.06225163e-01, 4.09343312e-01, 2.87510774e-01, 5.61950403e-02,\n",
       "         2.39349440e-01, 6.62808593e-01, 4.96390355e-01, 8.55865716e-02,\n",
       "         1.30566537e-01, 6.06746456e-01, 4.08848137e-01, 3.85613547e-01,\n",
       "         4.62134886e-01, 2.84346767e-02, 9.23694226e-01, 1.50821783e-01,\n",
       "         1.59646740e-01, 2.37917068e-03, 7.70782986e-01, 6.81259571e-01,\n",
       "         1.66082009e-01, 5.87672662e-01, 2.88125032e-01, 4.03524705e-01,\n",
       "         2.72303982e-01, 8.84335668e-01, 3.54163765e-01, 7.91740320e-01,\n",
       "         6.17746119e-01, 6.93947132e-01, 9.50541301e-01, 4.56096357e-01,\n",
       "         7.50447253e-01, 1.85838397e-01, 4.64906360e-01, 5.52523144e-01,\n",
       "         9.29314865e-01, 7.90403056e-01, 2.43407478e-01, 1.41619170e-01,\n",
       "         5.70339924e-01, 6.86639988e-01, 2.00574343e-01, 8.29537089e-01,\n",
       "         4.93397790e-01, 9.25338110e-01, 8.18464298e-02, 4.74069379e-01,\n",
       "         8.46082462e-01, 2.95268888e-01, 6.52575815e-01, 4.63829435e-01,\n",
       "         5.88948245e-01, 5.34405635e-01, 7.97058907e-01, 2.69184712e-02,\n",
       "         4.27941312e-01, 6.11497508e-01, 9.64580674e-02, 7.78357247e-03,\n",
       "         2.14044488e-01, 8.13817717e-01, 7.78753134e-01, 5.99483667e-01,\n",
       "         2.78213843e-01, 2.63141779e-01, 4.46576395e-01, 1.58487560e-01,\n",
       "         1.91221505e-02, 3.59375432e-01, 5.46301728e-01, 5.54271052e-01,\n",
       "         9.44878027e-03, 6.38881383e-01, 9.29587586e-01, 6.95654445e-01,\n",
       "         1.57879542e-01, 1.05875357e-01, 8.08877624e-01, 3.29937348e-01,\n",
       "         1.66651479e-01, 8.85532896e-01, 8.00088266e-01, 8.45694480e-01,\n",
       "         4.95554020e-01, 5.76466134e-02, 2.26161505e-01, 3.43077643e-01,\n",
       "         9.38147366e-01, 2.70601256e-01, 3.06889531e-01, 8.18298562e-01,\n",
       "         7.87345384e-01, 9.98446071e-01, 6.07662155e-01, 4.13699169e-03,\n",
       "         2.71466822e-01, 9.18938832e-01, 1.56581457e-01, 5.78150966e-03,\n",
       "         4.40383262e-01, 8.53367542e-01, 5.17138193e-01, 7.54992205e-01,\n",
       "         1.00779706e-01, 2.69235412e-01, 9.32226206e-01, 2.98298809e-01,\n",
       "         1.83796900e-01, 6.31984919e-01, 3.17667403e-01, 9.00268952e-01,\n",
       "         6.95873790e-02, 5.77140080e-01, 8.24761019e-01, 7.58931486e-01,\n",
       "         3.01342907e-01, 6.98537969e-02, 6.28572973e-01, 8.97533183e-01,\n",
       "         3.51322891e-01, 6.34454578e-01, 6.04168703e-01, 2.85324344e-03,\n",
       "         5.03426647e-02, 9.10365224e-01, 9.81436746e-01, 1.08272677e-02,\n",
       "         4.22572729e-01, 5.94905380e-01, 5.56654911e-01, 5.98279462e-01,\n",
       "         9.50971033e-01, 6.89414899e-01, 9.64620907e-02, 3.99889596e-01,\n",
       "         3.58393239e-01, 9.94581584e-01, 1.48562301e-02, 2.49391826e-01,\n",
       "         1.88059640e-01, 4.33749829e-01, 5.20126557e-01, 6.44892804e-01,\n",
       "         9.70584028e-01, 1.85114659e-01, 2.90939183e-01, 4.21667717e-02,\n",
       "         5.71240606e-01, 8.70426444e-01, 3.50444563e-01, 1.02667024e-01,\n",
       "         2.14996531e-01, 3.77579375e-01, 7.22361421e-01, 6.71808968e-01,\n",
       "         9.42025790e-01, 6.13278723e-01, 4.58232305e-01, 6.65413714e-01,\n",
       "         9.35502511e-01, 2.07060703e-01, 9.55439536e-01, 1.60932361e-01,\n",
       "         4.67715167e-01, 6.37237632e-01, 2.44554176e-01, 8.19926616e-01,\n",
       "         4.68469141e-01, 3.54532941e-01, 1.01978377e-01, 1.88474949e-01,\n",
       "         6.30272365e-01, 6.54737650e-01, 4.10662773e-02, 7.03534544e-01,\n",
       "         9.48819557e-01, 8.56369452e-01, 6.63471938e-01, 9.70486992e-01,\n",
       "         4.33616390e-01, 4.39280489e-01, 6.92073778e-01, 4.93952158e-01,\n",
       "         3.09430679e-02]))]"
      ]
     },
     "execution_count": 20,
     "metadata": {},
     "output_type": "execute_result"
    }
   ],
   "source": [
    "expand_setpoints_helper(a.spectrum)"
   ]
  },
  {
   "cell_type": "code",
   "execution_count": 21,
   "metadata": {},
   "outputs": [
    {
     "name": "stdout",
     "output_type": "stream",
     "text": [
      "Starting experimental run with id: 2. \n"
     ]
    }
   ],
   "source": [
    "meas = Measurement()\n",
    "meas.register_parameter(a.spectrum)\n",
    "\n",
    "with meas.run() as datasaver:\n",
    "    datasaver.add_result(*expand_setpoints_helper(a.spectrum))\n",
    "    \n",
    "    dataid = datasaver.run_id"
   ]
  },
  {
   "cell_type": "code",
   "execution_count": null,
   "metadata": {},
   "outputs": [],
   "source": []
  }
 ],
 "metadata": {
  "kernelspec": {
   "display_name": "Python 3",
   "language": "python",
   "name": "python3"
  },
  "language_info": {
   "codemirror_mode": {
    "name": "ipython",
    "version": 3
   },
   "file_extension": ".py",
   "mimetype": "text/x-python",
   "name": "python",
   "nbconvert_exporter": "python",
   "pygments_lexer": "ipython3",
   "version": "3.7.5"
  },
  "toc": {
   "base_numbering": 1,
   "nav_menu": {},
   "number_sections": true,
   "sideBar": true,
   "skip_h1_title": false,
   "title_cell": "Table of Contents",
   "title_sidebar": "Contents",
   "toc_cell": false,
   "toc_position": {},
   "toc_section_display": true,
   "toc_window_display": false
  },
  "varInspector": {
   "cols": {
    "lenName": 16,
    "lenType": 16,
    "lenVar": 40
   },
   "kernels_config": {
    "python": {
     "delete_cmd_postfix": "",
     "delete_cmd_prefix": "del ",
     "library": "var_list.py",
     "varRefreshCmd": "print(var_dic_list())"
    },
    "r": {
     "delete_cmd_postfix": ") ",
     "delete_cmd_prefix": "rm(",
     "library": "var_list.r",
     "varRefreshCmd": "cat(var_dic_list()) "
    }
   },
   "types_to_exclude": [
    "module",
    "function",
    "builtin_function_or_method",
    "instance",
    "_Feature"
   ],
   "window_display": false
  }
 },
 "nbformat": 4,
 "nbformat_minor": 2
}
