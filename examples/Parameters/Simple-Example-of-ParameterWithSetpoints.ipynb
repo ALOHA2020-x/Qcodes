{
 "cells": [
  {
   "cell_type": "markdown",
   "metadata": {},
   "source": [
    "# Simple Example of ParameterWithSetpoints\n",
    "This notebook provides an example for writing a simple driver with a parameter that has setpoints. Let's name this parameter that has setpoints as \"y\". Then, the setpoints, say \"x1, x2, x3 ..\", are the parameters on which the parameter \n",
    "\"y\" depends upon. Meaning \"y\" is a function of \"x1, x2, x3 ...\" where \"x1, x2, x3 ...\" are known as the setpoints of parameter \"y\".\n",
    "\n",
    "This is most likely to be useful for instruments that return arrays of results. In this notebook, we will show an example of this."
   ]
  },
  {
   "cell_type": "code",
   "execution_count": 1,
   "metadata": {
    "execution": {
     "iopub.execute_input": "2020-09-18T14:42:40.257214Z",
     "iopub.status.busy": "2020-09-18T14:42:40.256706Z",
     "iopub.status.idle": "2020-09-18T14:42:40.353774Z",
     "shell.execute_reply": "2020-09-18T14:42:40.352968Z"
    }
   },
   "outputs": [],
   "source": [
    "import numpy as np\n",
    "import os"
   ]
  },
  {
   "cell_type": "code",
   "execution_count": 2,
   "metadata": {
    "execution": {
     "iopub.execute_input": "2020-09-18T14:42:40.358025Z",
     "iopub.status.busy": "2020-09-18T14:42:40.357475Z",
     "iopub.status.idle": "2020-09-18T14:42:41.466366Z",
     "shell.execute_reply": "2020-09-18T14:42:41.466826Z"
    }
   },
   "outputs": [
    {
     "name": "stdout",
     "output_type": "stream",
     "text": [
      "Logging hadn't been started.\n",
      "Activating auto-logging. Current session state plus future input saved.\n",
      "Filename       : /home/vsts/.qcodes/logs/command_history.log\n",
      "Mode           : append\n",
      "Output logging : True\n",
      "Raw input log  : False\n",
      "Timestamping   : True\n",
      "State          : active\n"
     ]
    },
    {
     "name": "stdout",
     "output_type": "stream",
     "text": [
      "Qcodes Logfile : /home/vsts/.qcodes/logs/200918-22597-qcodes.log\n"
     ]
    }
   ],
   "source": [
    "from qcodes.dataset.plotting import plot_dataset\n",
    "from qcodes.utils.validators import Numbers, Arrays\n",
    "from qcodes.instrument.base import Instrument\n",
    "from qcodes.dataset.measurements import Measurement"
   ]
  },
  {
   "cell_type": "code",
   "execution_count": 3,
   "metadata": {
    "execution": {
     "iopub.execute_input": "2020-09-18T14:42:41.470781Z",
     "iopub.status.busy": "2020-09-18T14:42:41.470263Z",
     "iopub.status.idle": "2020-09-18T14:42:41.473618Z",
     "shell.execute_reply": "2020-09-18T14:42:41.473154Z"
    }
   },
   "outputs": [],
   "source": [
    "from qcodes.dataset.sqlite.database import initialise_or_create_database_at\n",
    "from qcodes.dataset.experiment_container import load_or_create_experiment"
   ]
  },
  {
   "cell_type": "code",
   "execution_count": 4,
   "metadata": {
    "execution": {
     "iopub.execute_input": "2020-09-18T14:42:41.478404Z",
     "iopub.status.busy": "2020-09-18T14:42:41.477823Z",
     "iopub.status.idle": "2020-09-18T14:42:41.481458Z",
     "shell.execute_reply": "2020-09-18T14:42:41.482009Z"
    }
   },
   "outputs": [],
   "source": [
    "from qcodes.instrument.parameter import ParameterWithSetpoints, Parameter\n",
    "from qcodes.instrument.parameter import expand_setpoints_helper"
   ]
  },
  {
   "cell_type": "markdown",
   "metadata": {},
   "source": [
    "First, we define a dummy instrument that returns something like a frequency spectrum starting from a frequency given by `f_start` to a frequency given by `f_stop` in `n_points` steps. \n",
    "\n",
    "The extra functionality of the `ParameterWithSetpoints` is implemented by giving it a reference to one or more parameters that acts like its setpoints. \n",
    "\n",
    "To setup a `ParameterWithSetpoints` we have to do two things in addition to what we do for a normal parameter.\n",
    "\n",
    "* Define one or more parameter for the setpoints (one for each dimension of the array and let the `ParameterWithSetpoints` know that these are the setpoints.\n",
    "* Give both the setpoints parameter(s) and the `ParameterWithSetpoints` a `validator` of type `Arrays` with a shape. The shapes should be such that the combined shape of the setpoints matches the shape of the `ParameterWithSetpoints`. Note that if the shape changes with the setting of the instrument, it can be defined by another parameter as shown below. "
   ]
  },
  {
   "cell_type": "code",
   "execution_count": 5,
   "metadata": {
    "execution": {
     "iopub.execute_input": "2020-09-18T14:42:41.492629Z",
     "iopub.status.busy": "2020-09-18T14:42:41.489402Z",
     "iopub.status.idle": "2020-09-18T14:42:41.494621Z",
     "shell.execute_reply": "2020-09-18T14:42:41.494157Z"
    }
   },
   "outputs": [],
   "source": [
    "class GeneratedSetPoints(Parameter):\n",
    "    \"\"\"\n",
    "    A parameter that generates a setpoint array from start, stop and num points\n",
    "    parameters.\n",
    "    \"\"\"\n",
    "    def __init__(self, startparam, stopparam, numpointsparam, *args, **kwargs):\n",
    "        super().__init__(*args, **kwargs)\n",
    "        self._startparam = startparam\n",
    "        self._stopparam = stopparam\n",
    "        self._numpointsparam = numpointsparam\n",
    "\n",
    "    def get_raw(self):\n",
    "        return np.linspace(self._startparam(), self._stopparam(),\n",
    "                              self._numpointsparam())\n",
    "\n",
    "class DummyArray(ParameterWithSetpoints):\n",
    "    \n",
    "    def get_raw(self):\n",
    "        npoints = self.root_instrument.n_points.get_latest()\n",
    "        return np.random.rand(npoints)\n",
    "    \n",
    "\n",
    "class DummySpectrumAnalyzer(Instrument):\n",
    "    \n",
    "    def __init__(self, name, **kwargs):\n",
    "        \n",
    "        super().__init__(name, **kwargs)\n",
    "            \n",
    "\n",
    "        self.add_parameter('f_start',\n",
    "                           initial_value=0,\n",
    "                           unit='Hz',\n",
    "                           label='f start',\n",
    "                           vals=Numbers(0,1e3),\n",
    "                           get_cmd=None,\n",
    "                           set_cmd=None)\n",
    "\n",
    "        self.add_parameter('f_stop',\n",
    "                           unit='Hz',\n",
    "                           label='f stop',\n",
    "                           vals=Numbers(1,1e3),\n",
    "                           get_cmd=None,\n",
    "                           set_cmd=None)\n",
    "\n",
    "        self.add_parameter('n_points',\n",
    "                           unit='',\n",
    "                           initial_value=10,\n",
    "                           vals=Numbers(1,1e3),\n",
    "                           get_cmd=None,\n",
    "                           set_cmd=None)\n",
    "        \n",
    "        self.add_parameter('freq_axis',\n",
    "                           unit='Hz',\n",
    "                           label='Freq Axis',\n",
    "                           parameter_class=GeneratedSetPoints,\n",
    "                           startparam=self.f_start,\n",
    "                           stopparam=self.f_stop,\n",
    "                           numpointsparam=self.n_points,\n",
    "                           vals=Arrays(shape=(self.n_points.get_latest,)))\n",
    "                           \n",
    "        self.add_parameter('spectrum',\n",
    "                   unit='dBm',\n",
    "                   setpoints=(self.freq_axis,),\n",
    "                   label='Spectrum',\n",
    "                   parameter_class=DummyArray,\n",
    "                   vals=Arrays(shape=(self.n_points.get_latest,)))\n",
    "                "
   ]
  },
  {
   "cell_type": "markdown",
   "metadata": {},
   "source": [
    "In the above example, the shape is defined by the parameter `n_points` that defines how many samples our `DummySpectrumAnalyzer` returns.\n",
    "\n",
    "This means that the validation will call the function to get `n_points` twice for each `get` of the parameter. This may be too slow, however, if you (as the driver-writer) can guarantee that the cached value for `n_points` will never be out of sync with the value stored in the instrument, `n_points` may be replaced by it's latest known value such that the `validator` reads:\n",
    "```python\n",
    "vals=Arrays(shape=(self.n_points.get_latest))\n",
    "```\n",
    "\n",
    "This avoids any additional call to the instrument. In the same way, the arguments to the `freq_axis` parameter that defines the start, stop and number of points can be replaced by their latest value if the instrument allows it.\n",
    "\n"
   ]
  },
  {
   "cell_type": "code",
   "execution_count": 6,
   "metadata": {
    "execution": {
     "iopub.execute_input": "2020-09-18T14:42:41.498334Z",
     "iopub.status.busy": "2020-09-18T14:42:41.497818Z",
     "iopub.status.idle": "2020-09-18T14:42:41.632442Z",
     "shell.execute_reply": "2020-09-18T14:42:41.631953Z"
    }
   },
   "outputs": [
    {
     "name": "stdout",
     "output_type": "stream",
     "text": [
      "\r",
      "0it [00:00, ?it/s]"
     ]
    },
    {
     "name": "stdout",
     "output_type": "stream",
     "text": [
      "\r",
      "Upgrading database; v0 -> v1: : 0it [00:00, ?it/s]"
     ]
    },
    {
     "name": "stdout",
     "output_type": "stream",
     "text": [
      "\r",
      "Upgrading database; v0 -> v1: : 0it [00:00, ?it/s]"
     ]
    },
    {
     "name": "stdout",
     "output_type": "stream",
     "text": [
      "\n",
      "\r",
      "  0%|          | 0/1 [00:00<?, ?it/s]"
     ]
    },
    {
     "name": "stdout",
     "output_type": "stream",
     "text": [
      "\r",
      "Upgrading database; v1 -> v2:   0%|          | 0/1 [00:00<?, ?it/s]"
     ]
    },
    {
     "name": "stdout",
     "output_type": "stream",
     "text": [
      "\r",
      "Upgrading database; v1 -> v2: 100%|██████████| 1/1 [00:00<00:00, 467.96it/s]"
     ]
    },
    {
     "name": "stdout",
     "output_type": "stream",
     "text": [
      "\n",
      "\r",
      "0it [00:00, ?it/s]"
     ]
    },
    {
     "name": "stdout",
     "output_type": "stream",
     "text": [
      "\r",
      "Upgrading database; v2 -> v3: : 0it [00:00, ?it/s]"
     ]
    },
    {
     "name": "stdout",
     "output_type": "stream",
     "text": [
      "\r",
      "Upgrading database; v2 -> v3: : 0it [00:00, ?it/s]"
     ]
    },
    {
     "name": "stdout",
     "output_type": "stream",
     "text": [
      "\n",
      "\r",
      "0it [00:00, ?it/s]"
     ]
    },
    {
     "name": "stdout",
     "output_type": "stream",
     "text": [
      "\r",
      "Upgrading database; v3 -> v4: : 0it [00:00, ?it/s]"
     ]
    },
    {
     "name": "stdout",
     "output_type": "stream",
     "text": [
      "\r",
      "Upgrading database; v3 -> v4: : 0it [00:00, ?it/s]"
     ]
    },
    {
     "name": "stdout",
     "output_type": "stream",
     "text": [
      "\n",
      "\r",
      "  0%|          | 0/1 [00:00<?, ?it/s]"
     ]
    },
    {
     "name": "stdout",
     "output_type": "stream",
     "text": [
      "\r",
      "Upgrading database; v4 -> v5:   0%|          | 0/1 [00:00<?, ?it/s]"
     ]
    },
    {
     "name": "stdout",
     "output_type": "stream",
     "text": [
      "\r",
      "Upgrading database; v4 -> v5: 100%|██████████| 1/1 [00:00<00:00, 613.74it/s]"
     ]
    },
    {
     "name": "stdout",
     "output_type": "stream",
     "text": [
      "\n",
      "\r",
      "0it [00:00, ?it/s]"
     ]
    },
    {
     "name": "stdout",
     "output_type": "stream",
     "text": [
      "\r",
      "Upgrading database; v5 -> v6: : 0it [00:00, ?it/s]"
     ]
    },
    {
     "name": "stdout",
     "output_type": "stream",
     "text": [
      "\r",
      "Upgrading database; v5 -> v6: : 0it [00:00, ?it/s]"
     ]
    },
    {
     "name": "stdout",
     "output_type": "stream",
     "text": [
      "\n",
      "\r",
      "  0%|          | 0/1 [00:00<?, ?it/s]"
     ]
    },
    {
     "name": "stdout",
     "output_type": "stream",
     "text": [
      "\r",
      "Upgrading database; v6 -> v7:   0%|          | 0/1 [00:00<?, ?it/s]"
     ]
    },
    {
     "name": "stdout",
     "output_type": "stream",
     "text": [
      "\r",
      "Upgrading database; v6 -> v7: 100%|██████████| 1/1 [00:00<00:00, 335.25it/s]"
     ]
    },
    {
     "name": "stdout",
     "output_type": "stream",
     "text": [
      "\n",
      "\r",
      "  0%|          | 0/1 [00:00<?, ?it/s]"
     ]
    },
    {
     "name": "stdout",
     "output_type": "stream",
     "text": [
      "\r",
      "Upgrading database; v7 -> v8:   0%|          | 0/1 [00:00<?, ?it/s]"
     ]
    },
    {
     "name": "stdout",
     "output_type": "stream",
     "text": [
      "\r",
      "Upgrading database; v7 -> v8: 100%|██████████| 1/1 [00:00<00:00, 429.44it/s]"
     ]
    },
    {
     "name": "stdout",
     "output_type": "stream",
     "text": [
      "\n",
      "\r",
      "  0%|          | 0/1 [00:00<?, ?it/s]"
     ]
    },
    {
     "name": "stdout",
     "output_type": "stream",
     "text": [
      "\r",
      "Upgrading database; v8 -> v9:   0%|          | 0/1 [00:00<?, ?it/s]"
     ]
    },
    {
     "name": "stdout",
     "output_type": "stream",
     "text": [
      "\r",
      "Upgrading database; v8 -> v9: 100%|██████████| 1/1 [00:00<00:00, 364.60it/s]"
     ]
    },
    {
     "name": "stdout",
     "output_type": "stream",
     "text": [
      "\n"
     ]
    },
    {
     "data": {
      "text/plain": [
       "tutorial_ParameterWithSetpoints#no sample#1@/home/vsts/work/1/s/docs/examples/Parameters/tutorial_paramter_with_setpoints.db\n",
       "----------------------------------------------------------------------------------------------------------------------------"
      ]
     },
     "execution_count": 1,
     "metadata": {},
     "output_type": "execute_result"
    }
   ],
   "source": [
    "tutorial_db_path = os.path.join(os.getcwd(), 'tutorial_paramter_with_setpoints.db')\n",
    "initialise_or_create_database_at(tutorial_db_path)\n",
    "load_or_create_experiment(experiment_name='tutorial_ParameterWithSetpoints', sample_name=\"no sample\")"
   ]
  },
  {
   "cell_type": "code",
   "execution_count": 7,
   "metadata": {
    "execution": {
     "iopub.execute_input": "2020-09-18T14:42:41.637042Z",
     "iopub.status.busy": "2020-09-18T14:42:41.636531Z",
     "iopub.status.idle": "2020-09-18T14:42:41.640122Z",
     "shell.execute_reply": "2020-09-18T14:42:41.639652Z"
    }
   },
   "outputs": [],
   "source": [
    "a = DummySpectrumAnalyzer('foobar')"
   ]
  },
  {
   "cell_type": "markdown",
   "metadata": {},
   "source": [
    "First we setup the limits of the spectrum"
   ]
  },
  {
   "cell_type": "code",
   "execution_count": 8,
   "metadata": {
    "execution": {
     "iopub.execute_input": "2020-09-18T14:42:41.644268Z",
     "iopub.status.busy": "2020-09-18T14:42:41.643758Z",
     "iopub.status.idle": "2020-09-18T14:42:41.646820Z",
     "shell.execute_reply": "2020-09-18T14:42:41.647233Z"
    }
   },
   "outputs": [],
   "source": [
    "a.f_start(0)\n",
    "a.f_stop(500)\n",
    "a.n_points(501)"
   ]
  },
  {
   "cell_type": "markdown",
   "metadata": {},
   "source": [
    "And we can grab the frequency axis"
   ]
  },
  {
   "cell_type": "code",
   "execution_count": 9,
   "metadata": {
    "execution": {
     "iopub.execute_input": "2020-09-18T14:42:41.651842Z",
     "iopub.status.busy": "2020-09-18T14:42:41.651269Z",
     "iopub.status.idle": "2020-09-18T14:42:41.653772Z",
     "shell.execute_reply": "2020-09-18T14:42:41.654288Z"
    }
   },
   "outputs": [
    {
     "data": {
      "text/plain": [
       "501"
      ]
     },
     "execution_count": 1,
     "metadata": {},
     "output_type": "execute_result"
    }
   ],
   "source": [
    "a.n_points()"
   ]
  },
  {
   "cell_type": "code",
   "execution_count": 10,
   "metadata": {
    "execution": {
     "iopub.execute_input": "2020-09-18T14:42:41.659508Z",
     "iopub.status.busy": "2020-09-18T14:42:41.658974Z",
     "iopub.status.idle": "2020-09-18T14:42:41.661313Z",
     "shell.execute_reply": "2020-09-18T14:42:41.661869Z"
    },
    "scrolled": false
   },
   "outputs": [
    {
     "data": {
      "text/plain": [
       "501"
      ]
     },
     "execution_count": 1,
     "metadata": {},
     "output_type": "execute_result"
    }
   ],
   "source": [
    "freq_axis = a.freq_axis()\n",
    "len(freq_axis)"
   ]
  },
  {
   "cell_type": "code",
   "execution_count": 11,
   "metadata": {
    "execution": {
     "iopub.execute_input": "2020-09-18T14:42:41.665613Z",
     "iopub.status.busy": "2020-09-18T14:42:41.664395Z",
     "iopub.status.idle": "2020-09-18T14:42:41.669081Z",
     "shell.execute_reply": "2020-09-18T14:42:41.668532Z"
    }
   },
   "outputs": [
    {
     "data": {
      "text/plain": [
       "array([0., 1., 2., 3., 4., 5., 6., 7., 8., 9.])"
      ]
     },
     "execution_count": 1,
     "metadata": {},
     "output_type": "execute_result"
    }
   ],
   "source": [
    "freq_axis[:10]"
   ]
  },
  {
   "cell_type": "markdown",
   "metadata": {},
   "source": [
    "As expected we get a result wit 501 points as we asked for an axis with 501 points. "
   ]
  },
  {
   "cell_type": "markdown",
   "metadata": {},
   "source": [
    "Above we have added a validator to the `freq_axis` parameter encoding the fact that this is an Array with `n_points`. Note that we do not have to supply the number of points as an integer but can supply a function that returns the valid number of points. This would normally be a QCoDeS parameter.\n",
    "\n",
    "This will be checked if we validate the output."
   ]
  },
  {
   "cell_type": "code",
   "execution_count": 12,
   "metadata": {
    "execution": {
     "iopub.execute_input": "2020-09-18T14:42:41.673116Z",
     "iopub.status.busy": "2020-09-18T14:42:41.672347Z",
     "iopub.status.idle": "2020-09-18T14:42:41.674697Z",
     "shell.execute_reply": "2020-09-18T14:42:41.674156Z"
    }
   },
   "outputs": [],
   "source": [
    "a.freq_axis.validate(a.freq_axis.get())"
   ]
  },
  {
   "cell_type": "markdown",
   "metadata": {},
   "source": [
    "Naturally, we can also get the spectrum. Getting the spectrum will automatically perform validation both for the shape of the parameter itself and the relation to the setpoint parameter(s)"
   ]
  },
  {
   "cell_type": "code",
   "execution_count": 13,
   "metadata": {
    "execution": {
     "iopub.execute_input": "2020-09-18T14:42:41.678240Z",
     "iopub.status.busy": "2020-09-18T14:42:41.677207Z",
     "iopub.status.idle": "2020-09-18T14:42:41.681427Z",
     "shell.execute_reply": "2020-09-18T14:42:41.680868Z"
    },
    "scrolled": true
   },
   "outputs": [
    {
     "data": {
      "text/plain": [
       "501"
      ]
     },
     "execution_count": 1,
     "metadata": {},
     "output_type": "execute_result"
    }
   ],
   "source": [
    "spectrum = a.spectrum.get()\n",
    "len(spectrum)"
   ]
  },
  {
   "cell_type": "markdown",
   "metadata": {},
   "source": [
    "When we validate a `ParameterWithSetpoints`, we automatically validate that the shape is consistent between the parameters and its setpoints. As well as validating the shape as above."
   ]
  },
  {
   "cell_type": "code",
   "execution_count": 14,
   "metadata": {
    "execution": {
     "iopub.execute_input": "2020-09-18T14:42:41.685046Z",
     "iopub.status.busy": "2020-09-18T14:42:41.684523Z",
     "iopub.status.idle": "2020-09-18T14:42:41.688143Z",
     "shell.execute_reply": "2020-09-18T14:42:41.687573Z"
    }
   },
   "outputs": [],
   "source": [
    "a.spectrum.validate(a.spectrum.get())"
   ]
  },
  {
   "cell_type": "markdown",
   "metadata": {},
   "source": [
    "The consistent shapes can be validated explicitly."
   ]
  },
  {
   "cell_type": "code",
   "execution_count": 15,
   "metadata": {
    "execution": {
     "iopub.execute_input": "2020-09-18T14:42:41.691675Z",
     "iopub.status.busy": "2020-09-18T14:42:41.691133Z",
     "iopub.status.idle": "2020-09-18T14:42:41.693507Z",
     "shell.execute_reply": "2020-09-18T14:42:41.692966Z"
    }
   },
   "outputs": [],
   "source": [
    "a.spectrum.validate_consistent_shape()"
   ]
  },
  {
   "cell_type": "markdown",
   "metadata": {},
   "source": [
    "We can inspect the setpoints of the spectrum."
   ]
  },
  {
   "cell_type": "code",
   "execution_count": 16,
   "metadata": {
    "execution": {
     "iopub.execute_input": "2020-09-18T14:42:41.697279Z",
     "iopub.status.busy": "2020-09-18T14:42:41.695861Z",
     "iopub.status.idle": "2020-09-18T14:42:41.699172Z",
     "shell.execute_reply": "2020-09-18T14:42:41.699690Z"
    }
   },
   "outputs": [
    {
     "data": {
      "text/plain": [
       "(<__main__.GeneratedSetPoints: freq_axis at 140414291121552>,)"
      ]
     },
     "execution_count": 1,
     "metadata": {},
     "output_type": "execute_result"
    }
   ],
   "source": [
    "a.spectrum.setpoints"
   ]
  },
  {
   "cell_type": "markdown",
   "metadata": {},
   "source": [
    "Or even change them."
   ]
  },
  {
   "cell_type": "code",
   "execution_count": 17,
   "metadata": {
    "execution": {
     "iopub.execute_input": "2020-09-18T14:42:41.703872Z",
     "iopub.status.busy": "2020-09-18T14:42:41.702787Z",
     "iopub.status.idle": "2020-09-18T14:42:41.704397Z",
     "shell.execute_reply": "2020-09-18T14:42:41.704898Z"
    }
   },
   "outputs": [],
   "source": [
    "a.spectrum.setpoints = (a.freq_axis,)"
   ]
  },
  {
   "cell_type": "markdown",
   "metadata": {},
   "source": [
    "## Measurement"
   ]
  },
  {
   "cell_type": "markdown",
   "metadata": {},
   "source": [
    "We can also directly consume the parameter in a measurement without defining the setpoints of the parameter again. The setpoints are automatically obtained from the definition of the `ParameterWithSetpoint` instance. "
   ]
  },
  {
   "cell_type": "code",
   "execution_count": 18,
   "metadata": {
    "execution": {
     "iopub.execute_input": "2020-09-18T14:42:41.709502Z",
     "iopub.status.busy": "2020-09-18T14:42:41.708991Z",
     "iopub.status.idle": "2020-09-18T14:42:41.723304Z",
     "shell.execute_reply": "2020-09-18T14:42:41.722758Z"
    }
   },
   "outputs": [
    {
     "name": "stdout",
     "output_type": "stream",
     "text": [
      "Starting experimental run with id: 1. \n"
     ]
    }
   ],
   "source": [
    "meas = Measurement()\n",
    "meas.register_parameter(a.spectrum)\n",
    "\n",
    "with meas.run() as datasaver:\n",
    "    datasaver.add_result((a.freq_axis, a.freq_axis()),\n",
    "                         (a.spectrum, a.spectrum()))\n",
    "    dataset = datasaver.dataset"
   ]
  },
  {
   "cell_type": "markdown",
   "metadata": {},
   "source": [
    "And plot it"
   ]
  },
  {
   "cell_type": "code",
   "execution_count": 19,
   "metadata": {
    "execution": {
     "iopub.execute_input": "2020-09-18T14:42:41.726422Z",
     "iopub.status.busy": "2020-09-18T14:42:41.725897Z",
     "iopub.status.idle": "2020-09-18T14:42:42.084989Z",
     "shell.execute_reply": "2020-09-18T14:42:42.084505Z"
    }
   },
   "outputs": [
    {
     "data": {
      "text/plain": [
       "([<matplotlib.axes._subplots.AxesSubplot at 0x7fb4c0852790>], [None])"
      ]
     },
     "execution_count": 1,
     "metadata": {},
     "output_type": "execute_result"
    },
    {
     "data": {
      "image/png": "[encoded data removed]",
      "text/plain": [
       "<Figure size 432x288 with 1 Axes>"
      ]
     },
     "metadata": {
      "needs_background": "light"
     },
     "output_type": "display_data"
    }
   ],
   "source": [
    "plot_dataset(dataset)"
   ]
  },
  {
   "cell_type": "markdown",
   "metadata": {},
   "source": [
    "To reduce the amount of typing a simple convenience function is provided that will take a `ParameterWithSetpoints` and get both its values and the setpoints values and return them as tuples for direct insertion into the Dataset."
   ]
  },
  {
   "cell_type": "code",
   "execution_count": 20,
   "metadata": {
    "execution": {
     "iopub.execute_input": "2020-09-18T14:42:42.098731Z",
     "iopub.status.busy": "2020-09-18T14:42:42.088377Z",
     "iopub.status.idle": "2020-09-18T14:42:42.103416Z",
     "shell.execute_reply": "2020-09-18T14:42:42.102938Z"
    },
    "scrolled": true
   },
   "outputs": [
    {
     "data": {
      "text/plain": [
       "[(<__main__.GeneratedSetPoints: freq_axis at 140414291121552>,\n",
       "  array([  0.,   1.,   2.,   3.,   4.,   5.,   6.,   7.,   8.,   9.,  10.,\n",
       "          11.,  12.,  13.,  14.,  15.,  16.,  17.,  18.,  19.,  20.,  21.,\n",
       "          22.,  23.,  24.,  25.,  26.,  27.,  28.,  29.,  30.,  31.,  32.,\n",
       "          33.,  34.,  35.,  36.,  37.,  38.,  39.,  40.,  41.,  42.,  43.,\n",
       "          44.,  45.,  46.,  47.,  48.,  49.,  50.,  51.,  52.,  53.,  54.,\n",
       "          55.,  56.,  57.,  58.,  59.,  60.,  61.,  62.,  63.,  64.,  65.,\n",
       "          66.,  67.,  68.,  69.,  70.,  71.,  72.,  73.,  74.,  75.,  76.,\n",
       "          77.,  78.,  79.,  80.,  81.,  82.,  83.,  84.,  85.,  86.,  87.,\n",
       "          88.,  89.,  90.,  91.,  92.,  93.,  94.,  95.,  96.,  97.,  98.,\n",
       "          99., 100., 101., 102., 103., 104., 105., 106., 107., 108., 109.,\n",
       "         110., 111., 112., 113., 114., 115., 116., 117., 118., 119., 120.,\n",
       "         121., 122., 123., 124., 125., 126., 127., 128., 129., 130., 131.,\n",
       "         132., 133., 134., 135., 136., 137., 138., 139., 140., 141., 142.,\n",
       "         143., 144., 145., 146., 147., 148., 149., 150., 151., 152., 153.,\n",
       "         154., 155., 156., 157., 158., 159., 160., 161., 162., 163., 164.,\n",
       "         165., 166., 167., 168., 169., 170., 171., 172., 173., 174., 175.,\n",
       "         176., 177., 178., 179., 180., 181., 182., 183., 184., 185., 186.,\n",
       "         187., 188., 189., 190., 191., 192., 193., 194., 195., 196., 197.,\n",
       "         198., 199., 200., 201., 202., 203., 204., 205., 206., 207., 208.,\n",
       "         209., 210., 211., 212., 213., 214., 215., 216., 217., 218., 219.,\n",
       "         220., 221., 222., 223., 224., 225., 226., 227., 228., 229., 230.,\n",
       "         231., 232., 233., 234., 235., 236., 237., 238., 239., 240., 241.,\n",
       "         242., 243., 244., 245., 246., 247., 248., 249., 250., 251., 252.,\n",
       "         253., 254., 255., 256., 257., 258., 259., 260., 261., 262., 263.,\n",
       "         264., 265., 266., 267., 268., 269., 270., 271., 272., 273., 274.,\n",
       "         275., 276., 277., 278., 279., 280., 281., 282., 283., 284., 285.,\n",
       "         286., 287., 288., 289., 290., 291., 292., 293., 294., 295., 296.,\n",
       "         297., 298., 299., 300., 301., 302., 303., 304., 305., 306., 307.,\n",
       "         308., 309., 310., 311., 312., 313., 314., 315., 316., 317., 318.,\n",
       "         319., 320., 321., 322., 323., 324., 325., 326., 327., 328., 329.,\n",
       "         330., 331., 332., 333., 334., 335., 336., 337., 338., 339., 340.,\n",
       "         341., 342., 343., 344., 345., 346., 347., 348., 349., 350., 351.,\n",
       "         352., 353., 354., 355., 356., 357., 358., 359., 360., 361., 362.,\n",
       "         363., 364., 365., 366., 367., 368., 369., 370., 371., 372., 373.,\n",
       "         374., 375., 376., 377., 378., 379., 380., 381., 382., 383., 384.,\n",
       "         385., 386., 387., 388., 389., 390., 391., 392., 393., 394., 395.,\n",
       "         396., 397., 398., 399., 400., 401., 402., 403., 404., 405., 406.,\n",
       "         407., 408., 409., 410., 411., 412., 413., 414., 415., 416., 417.,\n",
       "         418., 419., 420., 421., 422., 423., 424., 425., 426., 427., 428.,\n",
       "         429., 430., 431., 432., 433., 434., 435., 436., 437., 438., 439.,\n",
       "         440., 441., 442., 443., 444., 445., 446., 447., 448., 449., 450.,\n",
       "         451., 452., 453., 454., 455., 456., 457., 458., 459., 460., 461.,\n",
       "         462., 463., 464., 465., 466., 467., 468., 469., 470., 471., 472.,\n",
       "         473., 474., 475., 476., 477., 478., 479., 480., 481., 482., 483.,\n",
       "         484., 485., 486., 487., 488., 489., 490., 491., 492., 493., 494.,\n",
       "         495., 496., 497., 498., 499., 500.])),\n",
       " (<__main__.DummyArray: spectrum at 140414299871312>,\n",
       "  array([0.57661319, 0.71263709, 0.34865674, 0.2686099 , 0.71996956,\n",
       "         0.41994626, 0.45238491, 0.77260944, 0.09493845, 0.05997826,\n",
       "         0.98719896, 0.75513107, 0.98759724, 0.78363096, 0.50379986,\n",
       "         0.42155909, 0.9569246 , 0.55977808, 0.47222539, 0.84071388,\n",
       "         0.7508394 , 0.99173246, 0.47429443, 0.05021839, 0.07420652,\n",
       "         0.38961098, 0.7515806 , 0.85206428, 0.65025253, 0.40471733,\n",
       "         0.30444428, 0.82707413, 0.90012605, 0.27213439, 0.26030115,\n",
       "         0.20809208, 0.67543341, 0.5009962 , 0.05185771, 0.420453  ,\n",
       "         0.3657947 , 0.21056385, 0.55653331, 0.65808819, 0.1296154 ,\n",
       "         0.85166648, 0.36561089, 0.4230543 , 0.30215158, 0.93436537,\n",
       "         0.80271919, 0.76105825, 0.83352324, 0.7512658 , 0.4163225 ,\n",
       "         0.31377103, 0.05570423, 0.14800628, 0.45606764, 0.73200352,\n",
       "         0.46048805, 0.47601032, 0.32779563, 0.6410187 , 0.96913162,\n",
       "         0.25511939, 0.40147351, 0.21945414, 0.83439005, 0.77916777,\n",
       "         0.44846751, 0.94708989, 0.49957859, 0.64016681, 0.57500579,\n",
       "         0.27985238, 0.86046712, 0.73836128, 0.31358157, 0.96370016,\n",
       "         0.3597194 , 0.30107772, 0.8535191 , 0.23268561, 0.50940399,\n",
       "         0.15060783, 0.29056017, 0.51909267, 0.43965556, 0.02221174,\n",
       "         0.48029312, 0.35643551, 0.81600791, 0.70032312, 0.34296946,\n",
       "         0.83768448, 0.05289973, 0.11225619, 0.02723311, 0.09221602,\n",
       "         0.1235966 , 0.77767828, 0.92902012, 0.66735184, 0.70275775,\n",
       "         0.6638628 , 0.94059978, 0.63305304, 0.31798979, 0.13186537,\n",
       "         0.37387682, 0.10083825, 0.68207135, 0.11822435, 0.05253307,\n",
       "         0.09477211, 0.68522136, 0.43807347, 0.51660822, 0.24594241,\n",
       "         0.73811938, 0.92632443, 0.63635442, 0.2777083 , 0.337052  ,\n",
       "         0.79071235, 0.50063602, 0.47925595, 0.50413037, 0.94009833,\n",
       "         0.60884381, 0.58945219, 0.09601375, 0.70901096, 0.61330977,\n",
       "         0.76120086, 0.40367886, 0.56261655, 0.66775679, 0.17177268,\n",
       "         0.31631878, 0.4707077 , 0.65997609, 0.3025558 , 0.64066204,\n",
       "         0.28888304, 0.6274608 , 0.79990718, 0.97605535, 0.74566134,\n",
       "         0.44148857, 0.63565625, 0.61054822, 0.67556248, 0.08699834,\n",
       "         0.8604697 , 0.58701297, 0.57198923, 0.62739116, 0.85982878,\n",
       "         0.25859336, 0.11540956, 0.83972663, 0.10918607, 0.64931797,\n",
       "         0.9762219 , 0.93567036, 0.05462099, 0.30585797, 0.57636088,\n",
       "         0.52350989, 0.49799121, 0.92327454, 0.9463886 , 0.02022854,\n",
       "         0.36208323, 0.37663039, 0.62313303, 0.15133049, 0.73348825,\n",
       "         0.09657754, 0.45558457, 0.9741887 , 0.47031635, 0.76622354,\n",
       "         0.28413201, 0.14782151, 0.7607532 , 0.59065422, 0.53487466,\n",
       "         0.0701919 , 0.63558673, 0.48178072, 0.40924259, 0.667722  ,\n",
       "         0.02146044, 0.8097771 , 0.26341434, 0.26239749, 0.11110507,\n",
       "         0.16482238, 0.7585587 , 0.68526966, 0.87829531, 0.21119614,\n",
       "         0.57975585, 0.96852417, 0.8801517 , 0.36584803, 0.08013098,\n",
       "         0.38175263, 0.37262959, 0.38616904, 0.0316643 , 0.00586149,\n",
       "         0.64077777, 0.67528765, 0.89809187, 0.74516734, 0.15948983,\n",
       "         0.89410044, 0.09708225, 0.50978949, 0.57377631, 0.83775668,\n",
       "         0.77247307, 0.85062911, 0.61070897, 0.51568297, 0.19859531,\n",
       "         0.67762388, 0.6100083 , 0.91528829, 0.78539816, 0.73695026,\n",
       "         0.72902211, 0.90409926, 0.26284102, 0.38270774, 0.77241414,\n",
       "         0.63994853, 0.75866993, 0.00958954, 0.15502459, 0.11895056,\n",
       "         0.2417125 , 0.06150681, 0.13051049, 0.15659373, 0.4797206 ,\n",
       "         0.01450451, 0.73404141, 0.14582502, 0.17059473, 0.6690655 ,\n",
       "         0.2266436 , 0.82082576, 0.02225404, 0.48399399, 0.22025974,\n",
       "         0.83190641, 0.51067667, 0.07437824, 0.87460096, 0.25863691,\n",
       "         0.45477662, 0.7548951 , 0.8110729 , 0.97000831, 0.67743236,\n",
       "         0.27391954, 0.94658459, 0.80914334, 0.16654081, 0.34191219,\n",
       "         0.77666017, 0.95257784, 0.85822875, 0.39707842, 0.07997481,\n",
       "         0.48119114, 0.09964867, 0.67308352, 0.27110874, 0.57619631,\n",
       "         0.49668613, 0.77217394, 0.32473797, 0.14231654, 0.86180052,\n",
       "         0.96677903, 0.21051285, 0.49552912, 0.14588839, 0.71931377,\n",
       "         0.37878232, 0.20039982, 0.36034192, 0.0703998 , 0.81165239,\n",
       "         0.93506398, 0.49638557, 0.09433139, 0.18853827, 0.78619587,\n",
       "         0.83644229, 0.14012476, 0.33972837, 0.99900146, 0.48729031,\n",
       "         0.25754164, 0.08917703, 0.19146893, 0.13899494, 0.73038046,\n",
       "         0.88761359, 0.90955866, 0.8174396 , 0.8896842 , 0.50078775,\n",
       "         0.77738316, 0.77848174, 0.30348426, 0.06673407, 0.92622095,\n",
       "         0.84515239, 0.07782698, 0.24474822, 0.8135449 , 0.84571039,\n",
       "         0.73422293, 0.31744625, 0.67303703, 0.35367377, 0.08505191,\n",
       "         0.94410939, 0.20324741, 0.26152778, 0.73381949, 0.16590082,\n",
       "         0.02811348, 0.99550566, 0.82989162, 0.40501271, 0.54557014,\n",
       "         0.16900561, 0.36889977, 0.87603441, 0.04894629, 0.71623389,\n",
       "         0.24327388, 0.45614664, 0.24808157, 0.32262902, 0.20176681,\n",
       "         0.07653028, 0.48777147, 0.31448796, 0.89027406, 0.19874929,\n",
       "         0.87289343, 0.99077844, 0.31488978, 0.68481383, 0.41313498,\n",
       "         0.47815073, 0.80905497, 0.02263158, 0.45877378, 0.5580501 ,\n",
       "         0.06535607, 0.73422687, 0.88688714, 0.38213185, 0.95503604,\n",
       "         0.2114169 , 0.04252029, 0.23173128, 0.37127452, 0.89530809,\n",
       "         0.66948272, 0.53562268, 0.4503311 , 0.89991671, 0.19909619,\n",
       "         0.74005436, 0.44156996, 0.40694354, 0.27639585, 0.02482454,\n",
       "         0.95229932, 0.28952476, 0.79489866, 0.01367404, 0.31562355,\n",
       "         0.41474287, 0.31885206, 0.66562837, 0.05873541, 0.90463481,\n",
       "         0.19658358, 0.10083379, 0.46837056, 0.47824105, 0.74221596,\n",
       "         0.01320991, 0.81514177, 0.38549907, 0.36235467, 0.26890479,\n",
       "         0.12646631, 0.46172305, 0.20280371, 0.59126426, 0.2155427 ,\n",
       "         0.59143442, 0.8856802 , 0.2563502 , 0.30872855, 0.15854785,\n",
       "         0.68753632, 0.47603681, 0.31077727, 0.92356737, 0.7346368 ,\n",
       "         0.45887871, 0.94652341, 0.68599213, 0.95956264, 0.49024823,\n",
       "         0.90082284, 0.55128203, 0.73903464, 0.52857226, 0.32175193,\n",
       "         0.96670512, 0.08083778, 0.41309566, 0.39424811, 0.12705485,\n",
       "         0.33567687, 0.46571628, 0.54355185, 0.57336106, 0.66191744,\n",
       "         0.44827251, 0.74409124, 0.1901972 , 0.05228547, 0.49879209,\n",
       "         0.82070186, 0.79524855, 0.99651062, 0.809953  , 0.45059166,\n",
       "         0.78633312, 0.6828892 , 0.59842135, 0.23763658, 0.21749517,\n",
       "         0.32401622, 0.37566111, 0.3893682 , 0.55208012, 0.93844238,\n",
       "         0.13987424, 0.23835035, 0.27427428, 0.31166771, 0.55044204,\n",
       "         0.333098  , 0.92961736, 0.61973415, 0.50730925, 0.36362954,\n",
       "         0.02462374, 0.02054734, 0.73896011, 0.83418855, 0.82393699,\n",
       "         0.47874375, 0.164723  , 0.3191624 , 0.24368049, 0.62756706,\n",
       "         0.36629044, 0.54909321, 0.80785479, 0.68820583, 0.71652313,\n",
       "         0.45766973, 0.48285587, 0.86780561, 0.70880146, 0.0288205 ,\n",
       "         0.43650899, 0.50448629, 0.83138198, 0.33905786, 0.49644352,\n",
       "         0.75984958]))]"
      ]
     },
     "execution_count": 1,
     "metadata": {},
     "output_type": "execute_result"
    }
   ],
   "source": [
    "expand_setpoints_helper(a.spectrum)"
   ]
  },
  {
   "cell_type": "code",
   "execution_count": 21,
   "metadata": {
    "execution": {
     "iopub.execute_input": "2020-09-18T14:42:42.107919Z",
     "iopub.status.busy": "2020-09-18T14:42:42.107389Z",
     "iopub.status.idle": "2020-09-18T14:42:42.121173Z",
     "shell.execute_reply": "2020-09-18T14:42:42.120660Z"
    }
   },
   "outputs": [
    {
     "name": "stdout",
     "output_type": "stream",
     "text": [
      "Starting experimental run with id: 2. \n"
     ]
    }
   ],
   "source": [
    "meas = Measurement()\n",
    "meas.register_parameter(a.spectrum)\n",
    "\n",
    "with meas.run() as datasaver:\n",
    "    datasaver.add_result(*expand_setpoints_helper(a.spectrum))\n",
    "    \n",
    "    dataid = datasaver.run_id"
   ]
  },
  {
   "cell_type": "code",
   "execution_count": null,
   "metadata": {},
   "outputs": [],
   "source": []
  }
 ],
 "metadata": {
  "kernelspec": {
   "display_name": "Python 3",
   "language": "python",
   "name": "python3"
  },
  "language_info": {
   "codemirror_mode": {
    "name": "ipython",
    "version": 3
   },
   "file_extension": ".py",
   "mimetype": "text/x-python",
   "name": "python",
   "nbconvert_exporter": "python",
   "pygments_lexer": "ipython3",
   "version": "3.7.7"
  },
  "toc": {
   "base_numbering": 1,
   "nav_menu": {},
   "number_sections": true,
   "sideBar": true,
   "skip_h1_title": false,
   "title_cell": "Table of Contents",
   "title_sidebar": "Contents",
   "toc_cell": false,
   "toc_position": {},
   "toc_section_display": true,
   "toc_window_display": false
  },
  "varInspector": {
   "cols": {
    "lenName": 16,
    "lenType": 16,
    "lenVar": 40
   },
   "kernels_config": {
    "python": {
     "delete_cmd_postfix": "",
     "delete_cmd_prefix": "del ",
     "library": "var_list.py",
     "varRefreshCmd": "print(var_dic_list())"
    },
    "r": {
     "delete_cmd_postfix": ") ",
     "delete_cmd_prefix": "rm(",
     "library": "var_list.r",
     "varRefreshCmd": "cat(var_dic_list()) "
    }
   },
   "types_to_exclude": [
    "module",
    "function",
    "builtin_function_or_method",
    "instance",
    "_Feature"
   ],
   "window_display": false
  }
 },
 "nbformat": 4,
 "nbformat_minor": 2
}
