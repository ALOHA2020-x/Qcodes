{
 "cells": [
  {
   "cell_type": "markdown",
   "metadata": {},
   "source": [
    "# Simple Example of ParameterWithSetpoints\n",
    "This notebook provides an example for writing a simple driver with a parameter that has setpoints. Let's name this parameter that has setpoints as \"y\". Then, the setpoints, say \"x1, x2, x3 ..\", are the parameters on which the parameter \n",
    "\"y\" depends upon. Meaning \"y\" is a function of \"x1, x2, x3 ...\" where \"x1, x2, x3 ...\" are known as the setpoints of parameter \"y\".\n",
    "\n",
    "This is most likely to be useful for instruments that return arrays of results. In this notebook, we will show an example of this."
   ]
  },
  {
   "cell_type": "code",
   "execution_count": 1,
   "metadata": {},
   "outputs": [],
   "source": [
    "import numpy as np\n",
    "import os"
   ]
  },
  {
   "cell_type": "code",
   "execution_count": 2,
   "metadata": {},
   "outputs": [
    {
     "name": "stdout",
     "output_type": "stream",
     "text": [
      "Logging hadn't been started.\n",
      "Activating auto-logging. Current session state plus future input saved.\n",
      "Filename       : /home/vsts/.qcodes/logs/command_history.log\n",
      "Mode           : append\n",
      "Output logging : True\n",
      "Raw input log  : False\n",
      "Timestamping   : True\n",
      "State          : active\n"
     ]
    },
    {
     "name": "stdout",
     "output_type": "stream",
     "text": [
      "Qcodes Logfile : /home/vsts/.qcodes/logs/200818-21552-qcodes.log\n"
     ]
    }
   ],
   "source": [
    "from qcodes.dataset.plotting import plot_dataset\n",
    "from qcodes.utils.validators import Numbers, Arrays\n",
    "from qcodes.instrument.base import Instrument\n",
    "from qcodes.dataset.measurements import Measurement"
   ]
  },
  {
   "cell_type": "code",
   "execution_count": 3,
   "metadata": {},
   "outputs": [],
   "source": [
    "from qcodes.dataset.sqlite.database import initialise_or_create_database_at\n",
    "from qcodes.dataset.experiment_container import load_or_create_experiment"
   ]
  },
  {
   "cell_type": "code",
   "execution_count": 4,
   "metadata": {},
   "outputs": [],
   "source": [
    "from qcodes.instrument.parameter import ParameterWithSetpoints, Parameter\n",
    "from qcodes.instrument.parameter import expand_setpoints_helper"
   ]
  },
  {
   "cell_type": "markdown",
   "metadata": {},
   "source": [
    "First, we define a dummy instrument that returns something like a frequency spectrum starting from a frequency given by `f_start` to a frequency given by `f_stop` in `n_points` steps. \n",
    "\n",
    "The extra functionality of the `ParameterWithSetpoints` is implemented by giving it a reference to one or more parameters that acts like its setpoints. \n",
    "\n",
    "To setup a `ParameterWithSetpoints` we have to do two things in addition to what we do for a normal parameter.\n",
    "\n",
    "* Define one or more parameter for the setpoints (one for each dimension of the array and let the `ParameterWithSetpoints` know that these are the setpoints.\n",
    "* Give both the setpoints parameter(s) and the `ParameterWithSetpoints` a `validator` of type `Arrays` with a shape. The shapes should be such that the combined shape of the setpoints matches the shape of the `ParameterWithSetpoints`. Note that if the shape changes with the setting of the instrument, it can be defined by another parameter as shown below. "
   ]
  },
  {
   "cell_type": "code",
   "execution_count": 5,
   "metadata": {},
   "outputs": [],
   "source": [
    "class GeneratedSetPoints(Parameter):\n",
    "    \"\"\"\n",
    "    A parameter that generates a setpoint array from start, stop and num points\n",
    "    parameters.\n",
    "    \"\"\"\n",
    "    def __init__(self, startparam, stopparam, numpointsparam, *args, **kwargs):\n",
    "        super().__init__(*args, **kwargs)\n",
    "        self._startparam = startparam\n",
    "        self._stopparam = stopparam\n",
    "        self._numpointsparam = numpointsparam\n",
    "\n",
    "    def get_raw(self):\n",
    "        return np.linspace(self._startparam(), self._stopparam(),\n",
    "                              self._numpointsparam())\n",
    "\n",
    "class DummyArray(ParameterWithSetpoints):\n",
    "    \n",
    "    def get_raw(self):\n",
    "        npoints = self.root_instrument.n_points.get_latest()\n",
    "        return np.random.rand(npoints)\n",
    "    \n",
    "\n",
    "class DummySpectrumAnalyzer(Instrument):\n",
    "    \n",
    "    def __init__(self, name, **kwargs):\n",
    "        \n",
    "        super().__init__(name, **kwargs)\n",
    "            \n",
    "\n",
    "        self.add_parameter('f_start',\n",
    "                           initial_value=0,\n",
    "                           unit='Hz',\n",
    "                           label='f start',\n",
    "                           vals=Numbers(0,1e3),\n",
    "                           get_cmd=None,\n",
    "                           set_cmd=None)\n",
    "\n",
    "        self.add_parameter('f_stop',\n",
    "                           unit='Hz',\n",
    "                           label='f stop',\n",
    "                           vals=Numbers(1,1e3),\n",
    "                           get_cmd=None,\n",
    "                           set_cmd=None)\n",
    "\n",
    "        self.add_parameter('n_points',\n",
    "                           unit='',\n",
    "                           initial_value=10,\n",
    "                           vals=Numbers(1,1e3),\n",
    "                           get_cmd=None,\n",
    "                           set_cmd=None)\n",
    "        \n",
    "        self.add_parameter('freq_axis',\n",
    "                           unit='Hz',\n",
    "                           label='Freq Axis',\n",
    "                           parameter_class=GeneratedSetPoints,\n",
    "                           startparam=self.f_start,\n",
    "                           stopparam=self.f_stop,\n",
    "                           numpointsparam=self.n_points,\n",
    "                           vals=Arrays(shape=(self.n_points.get_latest,)))\n",
    "                           \n",
    "        self.add_parameter('spectrum',\n",
    "                   unit='dBm',\n",
    "                   setpoints=(self.freq_axis,),\n",
    "                   label='Spectrum',\n",
    "                   parameter_class=DummyArray,\n",
    "                   vals=Arrays(shape=(self.n_points.get_latest,)))\n",
    "                "
   ]
  },
  {
   "cell_type": "markdown",
   "metadata": {},
   "source": [
    "In the above example, the shape is defined by the parameter `n_points` that defines how many samples our `DummySpectrumAnalyzer` returns.\n",
    "\n",
    "This means that the validation will call the function to get `n_points` twice for each `get` of the parameter. This may be too slow, however, if you (as the driver-writer) can guarantee that the cached value for `n_points` will never be out of sync with the value stored in the instrument, `n_points` may be replaced by it's latest known value such that the `validator` reads:\n",
    "```python\n",
    "vals=Arrays(shape=(self.n_points.get_latest))\n",
    "```\n",
    "\n",
    "This avoids any additional call to the instrument. In the same way, the arguments to the `freq_axis` parameter that defines the start, stop and number of points can be replaced by their latest value if the instrument allows it.\n",
    "\n"
   ]
  },
  {
   "cell_type": "code",
   "execution_count": 6,
   "metadata": {},
   "outputs": [
    {
     "name": "stdout",
     "output_type": "stream",
     "text": [
      "\r",
      "0it [00:00, ?it/s]"
     ]
    },
    {
     "name": "stdout",
     "output_type": "stream",
     "text": [
      "\r",
      "Upgrading database; v0 -> v1: : 0it [00:00, ?it/s]"
     ]
    },
    {
     "name": "stdout",
     "output_type": "stream",
     "text": [
      "\r",
      "Upgrading database; v0 -> v1: : 0it [00:00, ?it/s]"
     ]
    },
    {
     "name": "stdout",
     "output_type": "stream",
     "text": [
      "\n",
      "\r",
      "  0%|          | 0/1 [00:00<?, ?it/s]"
     ]
    },
    {
     "name": "stdout",
     "output_type": "stream",
     "text": [
      "\r",
      "Upgrading database; v1 -> v2:   0%|          | 0/1 [00:00<?, ?it/s]"
     ]
    },
    {
     "name": "stdout",
     "output_type": "stream",
     "text": [
      "\r",
      "Upgrading database; v1 -> v2: 100%|██████████| 1/1 [00:00<00:00, 820.80it/s]"
     ]
    },
    {
     "name": "stdout",
     "output_type": "stream",
     "text": [
      "\n",
      "\r",
      "0it [00:00, ?it/s]"
     ]
    },
    {
     "name": "stdout",
     "output_type": "stream",
     "text": [
      "\r",
      "Upgrading database; v2 -> v3: : 0it [00:00, ?it/s]"
     ]
    },
    {
     "name": "stdout",
     "output_type": "stream",
     "text": [
      "\r",
      "Upgrading database; v2 -> v3: : 0it [00:00, ?it/s]"
     ]
    },
    {
     "name": "stdout",
     "output_type": "stream",
     "text": [
      "\n",
      "\r",
      "0it [00:00, ?it/s]"
     ]
    },
    {
     "name": "stdout",
     "output_type": "stream",
     "text": [
      "\r",
      "Upgrading database; v3 -> v4: : 0it [00:00, ?it/s]"
     ]
    },
    {
     "name": "stdout",
     "output_type": "stream",
     "text": [
      "\r",
      "Upgrading database; v3 -> v4: : 0it [00:00, ?it/s]"
     ]
    },
    {
     "name": "stdout",
     "output_type": "stream",
     "text": [
      "\n",
      "\r",
      "  0%|          | 0/1 [00:00<?, ?it/s]"
     ]
    },
    {
     "name": "stdout",
     "output_type": "stream",
     "text": [
      "\r",
      "Upgrading database; v4 -> v5:   0%|          | 0/1 [00:00<?, ?it/s]"
     ]
    },
    {
     "name": "stdout",
     "output_type": "stream",
     "text": [
      "\r",
      "Upgrading database; v4 -> v5: 100%|██████████| 1/1 [00:00<00:00, 808.31it/s]"
     ]
    },
    {
     "name": "stdout",
     "output_type": "stream",
     "text": [
      "\n",
      "\r",
      "0it [00:00, ?it/s]"
     ]
    },
    {
     "name": "stdout",
     "output_type": "stream",
     "text": [
      "\r",
      "Upgrading database; v5 -> v6: : 0it [00:00, ?it/s]"
     ]
    },
    {
     "name": "stdout",
     "output_type": "stream",
     "text": [
      "\r",
      "Upgrading database; v5 -> v6: : 0it [00:00, ?it/s]"
     ]
    },
    {
     "name": "stdout",
     "output_type": "stream",
     "text": [
      "\n",
      "\r",
      "  0%|          | 0/1 [00:00<?, ?it/s]"
     ]
    },
    {
     "name": "stdout",
     "output_type": "stream",
     "text": [
      "\r",
      "Upgrading database; v6 -> v7:   0%|          | 0/1 [00:00<?, ?it/s]"
     ]
    },
    {
     "name": "stdout",
     "output_type": "stream",
     "text": [
      "\r",
      "Upgrading database; v6 -> v7: 100%|██████████| 1/1 [00:00<00:00, 441.83it/s]"
     ]
    },
    {
     "name": "stdout",
     "output_type": "stream",
     "text": [
      "\n",
      "\r",
      "  0%|          | 0/1 [00:00<?, ?it/s]"
     ]
    },
    {
     "name": "stdout",
     "output_type": "stream",
     "text": [
      "\r",
      "Upgrading database; v7 -> v8:   0%|          | 0/1 [00:00<?, ?it/s]"
     ]
    },
    {
     "name": "stdout",
     "output_type": "stream",
     "text": [
      "\r",
      "Upgrading database; v7 -> v8: 100%|██████████| 1/1 [00:00<00:00, 695.23it/s]"
     ]
    },
    {
     "name": "stdout",
     "output_type": "stream",
     "text": [
      "\n",
      "\r",
      "  0%|          | 0/1 [00:00<?, ?it/s]"
     ]
    },
    {
     "name": "stdout",
     "output_type": "stream",
     "text": [
      "\r",
      "Upgrading database; v8 -> v9:   0%|          | 0/1 [00:00<?, ?it/s]"
     ]
    },
    {
     "name": "stdout",
     "output_type": "stream",
     "text": [
      "\r",
      "Upgrading database; v8 -> v9: 100%|██████████| 1/1 [00:00<00:00, 1029.28it/s]"
     ]
    },
    {
     "name": "stdout",
     "output_type": "stream",
     "text": [
      "\n"
     ]
    },
    {
     "data": {
      "text/plain": [
       "tutorial_ParameterWithSetpoints#no sample#1@/home/vsts/work/1/s/docs/examples/Parameters/tutorial_paramter_with_setpoints.db\n",
       "----------------------------------------------------------------------------------------------------------------------------"
      ]
     },
     "execution_count": 6,
     "metadata": {},
     "output_type": "execute_result"
    }
   ],
   "source": [
    "tutorial_db_path = os.path.join(os.getcwd(), 'tutorial_paramter_with_setpoints.db')\n",
    "initialise_or_create_database_at(tutorial_db_path)\n",
    "load_or_create_experiment(experiment_name='tutorial_ParameterWithSetpoints', sample_name=\"no sample\")"
   ]
  },
  {
   "cell_type": "code",
   "execution_count": 7,
   "metadata": {},
   "outputs": [],
   "source": [
    "a = DummySpectrumAnalyzer('foobar')"
   ]
  },
  {
   "cell_type": "markdown",
   "metadata": {},
   "source": [
    "First we setup the limits of the spectrum"
   ]
  },
  {
   "cell_type": "code",
   "execution_count": 8,
   "metadata": {},
   "outputs": [],
   "source": [
    "a.f_start(0)\n",
    "a.f_stop(500)\n",
    "a.n_points(501)"
   ]
  },
  {
   "cell_type": "markdown",
   "metadata": {},
   "source": [
    "And we can grab the frequency axis"
   ]
  },
  {
   "cell_type": "code",
   "execution_count": 9,
   "metadata": {},
   "outputs": [
    {
     "data": {
      "text/plain": [
       "501"
      ]
     },
     "execution_count": 9,
     "metadata": {},
     "output_type": "execute_result"
    }
   ],
   "source": [
    "a.n_points()"
   ]
  },
  {
   "cell_type": "code",
   "execution_count": 10,
   "metadata": {
    "scrolled": false
   },
   "outputs": [
    {
     "data": {
      "text/plain": [
       "501"
      ]
     },
     "execution_count": 10,
     "metadata": {},
     "output_type": "execute_result"
    }
   ],
   "source": [
    "freq_axis = a.freq_axis()\n",
    "len(freq_axis)"
   ]
  },
  {
   "cell_type": "code",
   "execution_count": 11,
   "metadata": {},
   "outputs": [
    {
     "data": {
      "text/plain": [
       "array([0., 1., 2., 3., 4., 5., 6., 7., 8., 9.])"
      ]
     },
     "execution_count": 11,
     "metadata": {},
     "output_type": "execute_result"
    }
   ],
   "source": [
    "freq_axis[:10]"
   ]
  },
  {
   "cell_type": "markdown",
   "metadata": {},
   "source": [
    "As expected we get a result wit 501 points as we asked for an axis with 501 points. "
   ]
  },
  {
   "cell_type": "markdown",
   "metadata": {},
   "source": [
    "Above we have added a validator to the `freq_axis` parameter encoding the fact that this is an Array with `n_points`. Note that we do not have to supply the number of points as an integer but can supply a function that returns the valid number of points. This would normally be a QCoDeS parameter.\n",
    "\n",
    "This will be checked if we validate the output."
   ]
  },
  {
   "cell_type": "code",
   "execution_count": 12,
   "metadata": {},
   "outputs": [],
   "source": [
    "a.freq_axis.validate(a.freq_axis.get())"
   ]
  },
  {
   "cell_type": "markdown",
   "metadata": {},
   "source": [
    "Naturally, we can also get the spectrum. Getting the spectrum will automatically perform validation both for the shape of the parameter itself and the relation to the setpoint parameter(s)"
   ]
  },
  {
   "cell_type": "code",
   "execution_count": 13,
   "metadata": {
    "scrolled": true
   },
   "outputs": [
    {
     "data": {
      "text/plain": [
       "501"
      ]
     },
     "execution_count": 13,
     "metadata": {},
     "output_type": "execute_result"
    }
   ],
   "source": [
    "spectrum = a.spectrum.get()\n",
    "len(spectrum)"
   ]
  },
  {
   "cell_type": "markdown",
   "metadata": {},
   "source": [
    "When we validate a `ParameterWithSetpoints`, we automatically validate that the shape is consistent between the parameters and its setpoints. As well as validating the shape as above."
   ]
  },
  {
   "cell_type": "code",
   "execution_count": 14,
   "metadata": {},
   "outputs": [],
   "source": [
    "a.spectrum.validate(a.spectrum.get())"
   ]
  },
  {
   "cell_type": "markdown",
   "metadata": {},
   "source": [
    "The consistent shapes can be validated explicitly."
   ]
  },
  {
   "cell_type": "code",
   "execution_count": 15,
   "metadata": {},
   "outputs": [],
   "source": [
    "a.spectrum.validate_consistent_shape()"
   ]
  },
  {
   "cell_type": "markdown",
   "metadata": {},
   "source": [
    "We can inspect the setpoints of the spectrum."
   ]
  },
  {
   "cell_type": "code",
   "execution_count": 16,
   "metadata": {},
   "outputs": [
    {
     "data": {
      "text/plain": [
       "(<__main__.GeneratedSetPoints: freq_axis at 139834291007632>,)"
      ]
     },
     "execution_count": 16,
     "metadata": {},
     "output_type": "execute_result"
    }
   ],
   "source": [
    "a.spectrum.setpoints"
   ]
  },
  {
   "cell_type": "markdown",
   "metadata": {},
   "source": [
    "Or even change them."
   ]
  },
  {
   "cell_type": "code",
   "execution_count": 17,
   "metadata": {},
   "outputs": [],
   "source": [
    "a.spectrum.setpoints = (a.freq_axis,)"
   ]
  },
  {
   "cell_type": "markdown",
   "metadata": {},
   "source": [
    "## Measurement"
   ]
  },
  {
   "cell_type": "markdown",
   "metadata": {},
   "source": [
    "We can also directly consume the parameter in a measurement without defining the setpoints of the parameter again. The setpoints are automatically obtained from the definition of the `ParameterWithSetpoint` instance. "
   ]
  },
  {
   "cell_type": "code",
   "execution_count": 18,
   "metadata": {},
   "outputs": [
    {
     "name": "stdout",
     "output_type": "stream",
     "text": [
      "Starting experimental run with id: 1. \n"
     ]
    }
   ],
   "source": [
    "meas = Measurement()\n",
    "meas.register_parameter(a.spectrum)\n",
    "\n",
    "with meas.run() as datasaver:\n",
    "    datasaver.add_result((a.freq_axis, a.freq_axis()),\n",
    "                         (a.spectrum, a.spectrum()))\n",
    "    dataset = datasaver.dataset"
   ]
  },
  {
   "cell_type": "markdown",
   "metadata": {},
   "source": [
    "And plot it"
   ]
  },
  {
   "cell_type": "code",
   "execution_count": 19,
   "metadata": {},
   "outputs": [
    {
     "data": {
      "text/plain": [
       "([<matplotlib.axes._subplots.AxesSubplot at 0x7f2db5de2810>], [None])"
      ]
     },
     "execution_count": 19,
     "metadata": {},
     "output_type": "execute_result"
    },
    {
     "data": {
      "image/png": "[encoded data removed]",
      "text/plain": [
       "<Figure size 432x288 with 1 Axes>"
      ]
     },
     "metadata": {
      "needs_background": "light"
     },
     "output_type": "display_data"
    }
   ],
   "source": [
    "plot_dataset(dataset)"
   ]
  },
  {
   "cell_type": "markdown",
   "metadata": {},
   "source": [
    "To reduce the amount of typing a simple convenience function is provided that will take a `ParameterWithSetpoints` and get both its values and the setpoints values and return them as tuples for direct insertion into the Dataset."
   ]
  },
  {
   "cell_type": "code",
   "execution_count": 20,
   "metadata": {
    "scrolled": true
   },
   "outputs": [
    {
     "data": {
      "text/plain": [
       "[(<__main__.GeneratedSetPoints: freq_axis at 139834291007632>,\n",
       "  array([  0.,   1.,   2.,   3.,   4.,   5.,   6.,   7.,   8.,   9.,  10.,\n",
       "          11.,  12.,  13.,  14.,  15.,  16.,  17.,  18.,  19.,  20.,  21.,\n",
       "          22.,  23.,  24.,  25.,  26.,  27.,  28.,  29.,  30.,  31.,  32.,\n",
       "          33.,  34.,  35.,  36.,  37.,  38.,  39.,  40.,  41.,  42.,  43.,\n",
       "          44.,  45.,  46.,  47.,  48.,  49.,  50.,  51.,  52.,  53.,  54.,\n",
       "          55.,  56.,  57.,  58.,  59.,  60.,  61.,  62.,  63.,  64.,  65.,\n",
       "          66.,  67.,  68.,  69.,  70.,  71.,  72.,  73.,  74.,  75.,  76.,\n",
       "          77.,  78.,  79.,  80.,  81.,  82.,  83.,  84.,  85.,  86.,  87.,\n",
       "          88.,  89.,  90.,  91.,  92.,  93.,  94.,  95.,  96.,  97.,  98.,\n",
       "          99., 100., 101., 102., 103., 104., 105., 106., 107., 108., 109.,\n",
       "         110., 111., 112., 113., 114., 115., 116., 117., 118., 119., 120.,\n",
       "         121., 122., 123., 124., 125., 126., 127., 128., 129., 130., 131.,\n",
       "         132., 133., 134., 135., 136., 137., 138., 139., 140., 141., 142.,\n",
       "         143., 144., 145., 146., 147., 148., 149., 150., 151., 152., 153.,\n",
       "         154., 155., 156., 157., 158., 159., 160., 161., 162., 163., 164.,\n",
       "         165., 166., 167., 168., 169., 170., 171., 172., 173., 174., 175.,\n",
       "         176., 177., 178., 179., 180., 181., 182., 183., 184., 185., 186.,\n",
       "         187., 188., 189., 190., 191., 192., 193., 194., 195., 196., 197.,\n",
       "         198., 199., 200., 201., 202., 203., 204., 205., 206., 207., 208.,\n",
       "         209., 210., 211., 212., 213., 214., 215., 216., 217., 218., 219.,\n",
       "         220., 221., 222., 223., 224., 225., 226., 227., 228., 229., 230.,\n",
       "         231., 232., 233., 234., 235., 236., 237., 238., 239., 240., 241.,\n",
       "         242., 243., 244., 245., 246., 247., 248., 249., 250., 251., 252.,\n",
       "         253., 254., 255., 256., 257., 258., 259., 260., 261., 262., 263.,\n",
       "         264., 265., 266., 267., 268., 269., 270., 271., 272., 273., 274.,\n",
       "         275., 276., 277., 278., 279., 280., 281., 282., 283., 284., 285.,\n",
       "         286., 287., 288., 289., 290., 291., 292., 293., 294., 295., 296.,\n",
       "         297., 298., 299., 300., 301., 302., 303., 304., 305., 306., 307.,\n",
       "         308., 309., 310., 311., 312., 313., 314., 315., 316., 317., 318.,\n",
       "         319., 320., 321., 322., 323., 324., 325., 326., 327., 328., 329.,\n",
       "         330., 331., 332., 333., 334., 335., 336., 337., 338., 339., 340.,\n",
       "         341., 342., 343., 344., 345., 346., 347., 348., 349., 350., 351.,\n",
       "         352., 353., 354., 355., 356., 357., 358., 359., 360., 361., 362.,\n",
       "         363., 364., 365., 366., 367., 368., 369., 370., 371., 372., 373.,\n",
       "         374., 375., 376., 377., 378., 379., 380., 381., 382., 383., 384.,\n",
       "         385., 386., 387., 388., 389., 390., 391., 392., 393., 394., 395.,\n",
       "         396., 397., 398., 399., 400., 401., 402., 403., 404., 405., 406.,\n",
       "         407., 408., 409., 410., 411., 412., 413., 414., 415., 416., 417.,\n",
       "         418., 419., 420., 421., 422., 423., 424., 425., 426., 427., 428.,\n",
       "         429., 430., 431., 432., 433., 434., 435., 436., 437., 438., 439.,\n",
       "         440., 441., 442., 443., 444., 445., 446., 447., 448., 449., 450.,\n",
       "         451., 452., 453., 454., 455., 456., 457., 458., 459., 460., 461.,\n",
       "         462., 463., 464., 465., 466., 467., 468., 469., 470., 471., 472.,\n",
       "         473., 474., 475., 476., 477., 478., 479., 480., 481., 482., 483.,\n",
       "         484., 485., 486., 487., 488., 489., 490., 491., 492., 493., 494.,\n",
       "         495., 496., 497., 498., 499., 500.])),\n",
       " (<__main__.DummyArray: spectrum at 139834306322832>,\n",
       "  array([9.17514178e-01, 7.04928353e-01, 5.91478933e-01, 3.86517667e-01,\n",
       "         2.01286689e-01, 2.29293841e-01, 9.87289481e-01, 3.74422172e-01,\n",
       "         2.33579545e-01, 5.65351710e-01, 3.99707195e-01, 6.88400813e-01,\n",
       "         5.65516290e-01, 4.84809300e-01, 4.07091188e-01, 4.75013520e-01,\n",
       "         4.35617976e-01, 3.59780321e-01, 8.47918275e-01, 2.40382384e-01,\n",
       "         3.33655048e-01, 8.19556887e-01, 8.35208361e-01, 6.46709618e-01,\n",
       "         9.59157593e-01, 5.28362111e-03, 3.44470190e-01, 6.13686746e-01,\n",
       "         3.75847344e-01, 1.20258182e-01, 2.31745116e-02, 6.61103791e-01,\n",
       "         2.32474560e-01, 5.08934448e-01, 6.08518407e-01, 1.02310578e-01,\n",
       "         2.67151099e-01, 2.69997439e-01, 3.07037279e-01, 1.34987859e-01,\n",
       "         7.27390978e-01, 6.15392830e-01, 3.63572639e-01, 2.94892683e-01,\n",
       "         5.17010939e-01, 6.49035391e-01, 5.78089383e-01, 3.73305917e-01,\n",
       "         3.24889161e-01, 9.48373317e-01, 1.89926685e-01, 8.43964892e-01,\n",
       "         6.37834881e-01, 5.80230096e-01, 7.80235238e-01, 9.92078849e-01,\n",
       "         4.87206932e-02, 3.40034483e-01, 1.63519007e-01, 1.18840195e-01,\n",
       "         2.27533941e-01, 4.04508123e-01, 7.55561132e-01, 2.67491372e-01,\n",
       "         3.82626296e-01, 7.16821483e-01, 8.20506613e-01, 4.69826125e-01,\n",
       "         6.00539992e-01, 5.63154994e-02, 1.19417073e-01, 2.76979483e-03,\n",
       "         7.21187120e-01, 9.49912180e-02, 7.04226194e-01, 5.08059563e-02,\n",
       "         9.39508105e-01, 6.23761385e-01, 5.23971324e-01, 8.07907273e-01,\n",
       "         7.83050412e-01, 2.52617275e-01, 4.96529088e-01, 8.02361180e-01,\n",
       "         5.17465603e-01, 5.69716150e-01, 2.70384096e-01, 2.54485607e-01,\n",
       "         9.60293951e-01, 2.08179998e-01, 7.12724406e-01, 5.63688597e-01,\n",
       "         8.53182503e-01, 6.31345445e-02, 2.87337484e-01, 7.27055830e-01,\n",
       "         1.80886320e-01, 7.79588335e-01, 7.16142324e-01, 1.75709376e-01,\n",
       "         5.20001685e-01, 7.16272177e-01, 5.60307455e-02, 5.95922852e-01,\n",
       "         9.01344980e-01, 3.20038868e-01, 4.54254874e-01, 6.12278142e-01,\n",
       "         6.49122590e-01, 8.57079311e-01, 9.23792020e-01, 5.04039448e-01,\n",
       "         3.16248658e-01, 3.28876791e-01, 1.23076922e-01, 2.41038402e-01,\n",
       "         4.58649539e-01, 6.07278070e-01, 4.46111737e-01, 8.65792012e-01,\n",
       "         3.75793199e-02, 5.33293610e-01, 3.58351419e-01, 5.35070238e-01,\n",
       "         5.68680632e-01, 3.25447541e-01, 2.30412227e-01, 6.81199031e-01,\n",
       "         2.44129997e-01, 1.42666580e-01, 7.19606314e-01, 8.69069244e-01,\n",
       "         2.87137055e-01, 8.43515126e-03, 3.53169866e-01, 4.99181167e-01,\n",
       "         4.09400576e-01, 3.66356587e-01, 7.90856717e-01, 4.41677920e-01,\n",
       "         5.58752021e-01, 3.33429853e-01, 8.10855048e-01, 6.47562510e-01,\n",
       "         9.68785006e-01, 7.78866250e-01, 9.46068291e-01, 6.27263020e-01,\n",
       "         2.29784329e-01, 7.54814172e-01, 8.08246083e-01, 2.77614427e-01,\n",
       "         6.75499183e-01, 5.06540072e-01, 2.32847782e-01, 3.94789346e-01,\n",
       "         5.58883230e-01, 2.19411819e-01, 3.82374976e-01, 8.83964069e-01,\n",
       "         5.13020500e-01, 5.46488542e-01, 4.41802820e-01, 1.16706880e-01,\n",
       "         9.60947844e-01, 6.14538666e-01, 3.10983539e-02, 2.09829704e-01,\n",
       "         3.71358286e-01, 9.25603969e-01, 2.93198129e-01, 4.61150983e-02,\n",
       "         1.32792422e-01, 5.16786650e-01, 2.60181266e-01, 1.18442596e-01,\n",
       "         1.10162969e-01, 9.03035433e-01, 8.21957359e-01, 1.82995848e-01,\n",
       "         7.29163411e-01, 2.94773083e-01, 3.64303167e-01, 6.86452137e-01,\n",
       "         7.07823143e-01, 1.85762094e-01, 6.60850480e-01, 2.82097119e-01,\n",
       "         1.52177786e-01, 7.74804427e-01, 1.41333688e-01, 8.18760525e-01,\n",
       "         6.02007313e-01, 1.43291259e-01, 1.50168770e-01, 1.32062691e-01,\n",
       "         5.67985282e-01, 3.48173420e-01, 4.93455397e-01, 1.26317818e-01,\n",
       "         4.75939270e-01, 2.25617806e-01, 5.81099187e-01, 5.62010620e-01,\n",
       "         5.37394526e-01, 7.40152542e-01, 8.20762065e-01, 2.62561666e-01,\n",
       "         4.78144378e-01, 1.11789950e-01, 6.83703404e-01, 3.98620155e-01,\n",
       "         8.62495948e-01, 2.60126690e-01, 3.02438059e-01, 2.45370807e-01,\n",
       "         7.13940068e-01, 1.49930600e-01, 2.45779455e-02, 8.45624886e-01,\n",
       "         6.55492818e-01, 9.18867646e-01, 5.89062190e-01, 4.75910991e-01,\n",
       "         6.13666752e-01, 6.17164817e-01, 8.51036161e-01, 5.25006149e-01,\n",
       "         4.43929580e-01, 4.50178674e-01, 3.02915451e-02, 6.39724164e-01,\n",
       "         9.06771844e-01, 8.78364117e-01, 5.11761202e-01, 8.89333203e-01,\n",
       "         8.52735592e-01, 9.58241926e-01, 1.88765418e-01, 3.29643961e-01,\n",
       "         4.33104821e-01, 2.96050248e-01, 2.10716297e-01, 7.62257918e-02,\n",
       "         3.29846333e-01, 8.88231048e-02, 3.57032207e-01, 7.16319898e-01,\n",
       "         8.82455914e-01, 5.22415089e-01, 4.27763513e-01, 8.87021941e-01,\n",
       "         4.38370937e-01, 4.87304903e-02, 5.84247130e-01, 7.97655234e-01,\n",
       "         1.99517247e-01, 9.21193458e-01, 6.17075824e-01, 6.66944811e-01,\n",
       "         2.08296120e-01, 2.81753345e-01, 6.65150520e-02, 1.31324151e-01,\n",
       "         1.33202137e-01, 3.68853711e-01, 2.94662339e-01, 5.62394391e-01,\n",
       "         1.87297586e-01, 1.27191358e-01, 8.05954327e-01, 2.90432778e-01,\n",
       "         4.63490722e-01, 8.22129324e-01, 5.29881994e-01, 8.69710959e-01,\n",
       "         1.90302920e-01, 5.29353759e-01, 7.22741825e-01, 2.94865615e-01,\n",
       "         4.25954174e-01, 4.44259162e-01, 1.35667106e-01, 3.62484625e-01,\n",
       "         4.60127663e-01, 4.51071893e-02, 9.22374776e-01, 2.39586178e-01,\n",
       "         6.00496157e-01, 1.99223719e-01, 6.81638275e-01, 7.17384728e-01,\n",
       "         1.43090191e-01, 1.02372489e-01, 7.97289248e-01, 4.63449730e-01,\n",
       "         3.88302862e-01, 3.24870360e-01, 3.52927896e-01, 9.53030076e-01,\n",
       "         2.38458227e-01, 3.44871866e-01, 1.07279228e-01, 5.42941503e-01,\n",
       "         3.88006074e-01, 2.38148313e-01, 2.96763548e-01, 8.56717514e-01,\n",
       "         8.61463533e-01, 7.57917389e-01, 1.51218846e-01, 3.69448014e-01,\n",
       "         7.45980225e-01, 1.96859391e-01, 9.61367426e-01, 4.71465823e-01,\n",
       "         8.49705117e-01, 1.30953185e-01, 4.98046918e-01, 1.75816099e-01,\n",
       "         7.63162185e-01, 3.65481586e-01, 3.94026537e-01, 6.12613677e-01,\n",
       "         9.72121295e-01, 9.09212828e-01, 6.83431917e-01, 9.14098563e-01,\n",
       "         6.94135554e-01, 2.25319795e-01, 5.71559735e-01, 8.40338682e-01,\n",
       "         5.00255984e-01, 3.45483038e-01, 5.79289734e-01, 8.04264910e-02,\n",
       "         1.54228017e-01, 2.06112865e-01, 1.13013084e-01, 9.90473059e-01,\n",
       "         9.20843273e-02, 4.61742210e-01, 6.30422007e-01, 2.13257461e-01,\n",
       "         3.45169037e-01, 4.28036417e-01, 7.52617299e-01, 1.51284228e-01,\n",
       "         8.91151803e-01, 6.87381527e-01, 8.57259188e-01, 5.46658717e-01,\n",
       "         8.07154632e-01, 3.68631177e-01, 1.47999220e-01, 6.35849356e-01,\n",
       "         4.18690522e-01, 2.46293093e-01, 7.52092791e-01, 8.83900871e-01,\n",
       "         2.11999196e-01, 3.31762153e-01, 3.01160187e-01, 5.03096599e-01,\n",
       "         6.96817280e-01, 3.42765513e-01, 8.97818815e-01, 3.45749821e-01,\n",
       "         7.74989977e-01, 1.16712853e-01, 6.47456029e-01, 2.48053125e-01,\n",
       "         7.09466012e-01, 3.49366595e-01, 9.94500411e-01, 7.93779974e-01,\n",
       "         5.64196397e-01, 8.74303315e-01, 6.30599523e-01, 1.62489664e-01,\n",
       "         6.56598101e-01, 3.67259276e-01, 3.94755217e-01, 1.23311212e-01,\n",
       "         6.74620647e-01, 2.42546896e-01, 7.49479845e-01, 6.84290320e-01,\n",
       "         3.08805238e-01, 8.35809600e-01, 1.09359583e-01, 3.27217843e-01,\n",
       "         1.53343435e-01, 8.47005217e-01, 7.81738315e-01, 1.95316198e-01,\n",
       "         7.11168494e-01, 7.16951505e-01, 6.15645008e-01, 3.42666404e-01,\n",
       "         3.31744098e-01, 9.90917327e-02, 5.65928634e-01, 2.86051846e-01,\n",
       "         9.72431071e-01, 1.35847893e-01, 5.12720597e-01, 2.78068046e-01,\n",
       "         5.81680120e-01, 5.74912531e-01, 5.09184581e-01, 4.35653202e-01,\n",
       "         7.38217936e-01, 2.93290385e-01, 6.32856191e-01, 4.77258384e-01,\n",
       "         9.15952902e-01, 1.46994138e-01, 1.87151416e-01, 6.14661727e-01,\n",
       "         3.85120446e-02, 1.70612631e-01, 5.11200550e-01, 9.91233013e-01,\n",
       "         6.29222770e-01, 8.67159002e-01, 5.11376203e-01, 9.66417070e-01,\n",
       "         5.27680473e-01, 3.18596753e-01, 8.58466498e-01, 9.64804269e-01,\n",
       "         7.56496543e-01, 5.09334430e-01, 4.94891305e-01, 6.67279214e-01,\n",
       "         3.99039536e-01, 3.67120313e-01, 5.46013426e-01, 7.30632752e-02,\n",
       "         9.15146336e-01, 6.67276338e-01, 7.67594791e-01, 7.99904564e-01,\n",
       "         6.25181609e-01, 2.98123733e-01, 5.55786698e-01, 2.72985881e-01,\n",
       "         6.39780903e-01, 1.10941289e-01, 5.73222936e-01, 1.23883277e-01,\n",
       "         9.06831552e-02, 4.76291561e-01, 7.72193829e-02, 8.71805319e-02,\n",
       "         7.49132277e-02, 6.51045913e-01, 8.00594469e-01, 9.21829650e-01,\n",
       "         5.19634683e-01, 3.38374870e-01, 3.66881539e-01, 6.12215802e-01,\n",
       "         1.71541177e-01, 2.28109882e-04, 5.15760626e-01, 3.96819719e-01,\n",
       "         5.91920713e-01, 6.67851732e-01, 4.45785192e-01, 4.80034594e-01,\n",
       "         5.71056700e-01, 1.65691318e-01, 9.90536124e-01, 3.21726773e-01,\n",
       "         7.39252460e-01, 5.25592727e-01, 1.26113288e-01, 3.71821451e-01,\n",
       "         1.36986695e-01, 8.20560006e-02, 7.11709885e-01, 9.86404531e-02,\n",
       "         3.05593619e-02, 7.84826358e-01, 3.85445135e-02, 5.55644703e-01,\n",
       "         5.46023130e-01, 6.73519435e-01, 6.82924705e-01, 3.13207701e-01,\n",
       "         8.42382113e-01, 1.99041018e-01, 8.11151252e-01, 5.08643327e-01,\n",
       "         3.92093019e-01, 6.13332434e-01, 3.94798585e-01, 2.41551854e-01,\n",
       "         9.58672341e-01]))]"
      ]
     },
     "execution_count": 20,
     "metadata": {},
     "output_type": "execute_result"
    }
   ],
   "source": [
    "expand_setpoints_helper(a.spectrum)"
   ]
  },
  {
   "cell_type": "code",
   "execution_count": 21,
   "metadata": {},
   "outputs": [
    {
     "name": "stdout",
     "output_type": "stream",
     "text": [
      "Starting experimental run with id: 2. \n"
     ]
    }
   ],
   "source": [
    "meas = Measurement()\n",
    "meas.register_parameter(a.spectrum)\n",
    "\n",
    "with meas.run() as datasaver:\n",
    "    datasaver.add_result(*expand_setpoints_helper(a.spectrum))\n",
    "    \n",
    "    dataid = datasaver.run_id"
   ]
  },
  {
   "cell_type": "code",
   "execution_count": null,
   "metadata": {},
   "outputs": [],
   "source": []
  }
 ],
 "metadata": {
  "kernelspec": {
   "display_name": "Python 3",
   "language": "python",
   "name": "python3"
  },
  "language_info": {
   "codemirror_mode": {
    "name": "ipython",
    "version": 3
   },
   "file_extension": ".py",
   "mimetype": "text/x-python",
   "name": "python",
   "nbconvert_exporter": "python",
   "pygments_lexer": "ipython3",
   "version": "3.7.7"
  },
  "toc": {
   "base_numbering": 1,
   "nav_menu": {},
   "number_sections": true,
   "sideBar": true,
   "skip_h1_title": false,
   "title_cell": "Table of Contents",
   "title_sidebar": "Contents",
   "toc_cell": false,
   "toc_position": {},
   "toc_section_display": true,
   "toc_window_display": false
  },
  "varInspector": {
   "cols": {
    "lenName": 16,
    "lenType": 16,
    "lenVar": 40
   },
   "kernels_config": {
    "python": {
     "delete_cmd_postfix": "",
     "delete_cmd_prefix": "del ",
     "library": "var_list.py",
     "varRefreshCmd": "print(var_dic_list())"
    },
    "r": {
     "delete_cmd_postfix": ") ",
     "delete_cmd_prefix": "rm(",
     "library": "var_list.r",
     "varRefreshCmd": "cat(var_dic_list()) "
    }
   },
   "types_to_exclude": [
    "module",
    "function",
    "builtin_function_or_method",
    "instance",
    "_Feature"
   ],
   "window_display": false
  }
 },
 "nbformat": 4,
 "nbformat_minor": 2
}
