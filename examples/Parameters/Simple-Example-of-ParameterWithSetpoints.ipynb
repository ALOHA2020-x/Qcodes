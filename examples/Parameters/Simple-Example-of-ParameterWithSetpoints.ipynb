{
 "cells": [
  {
   "cell_type": "markdown",
   "execution_count": 1,
   "metadata": {},
   "source": [
    "# Simple Example of ParameterWithSetpoints\n",
    "This notebook provides an example for writing a simple driver with a parameter that has setpoints. Let's name this parameter that has setpoints as \"y\". Then, the setpoints, say \"x1, x2, x3 ..\", are the parameters on which the parameter \n",
    "\"y\" depends upon. Meaning \"y\" is a function of \"x1, x2, x3 ...\" where \"x1, x2, x3 ...\" are known as the setpoints of parameter \"y\".\n",
    "\n",
    "This is most likely to be useful for instruments that return arrays of results. In this notebook, we will show an example of this."
   ]
  },
  {
   "cell_type": "code",
   "execution_count": 1,
   "metadata": {
    "execution": {
     "iopub.execute_input": "2020-09-16T08:41:30.007914Z",
     "iopub.status.busy": "2020-09-16T08:41:30.006746Z",
     "iopub.status.idle": "2020-09-16T08:41:30.104213Z",
     "shell.execute_reply": "2020-09-16T08:41:30.103597Z"
    }
   },
   "outputs": [],
   "source": [
    "import numpy as np\n",
    "import os"
   ]
  },
  {
   "cell_type": "code",
   "execution_count": 2,
   "metadata": {
    "execution": {
     "iopub.execute_input": "2020-09-16T08:41:30.108151Z",
     "iopub.status.busy": "2020-09-16T08:41:30.107619Z",
     "iopub.status.idle": "2020-09-16T08:41:31.165425Z",
     "shell.execute_reply": "2020-09-16T08:41:31.164610Z"
    }
   },
   "outputs": [
    {
     "name": "stdout",
     "output_type": "stream",
     "text": [
      "Logging hadn't been started.\n",
      "Activating auto-logging. Current session state plus future input saved.\n",
      "Filename       : /home/vsts/.qcodes/logs/command_history.log\n",
      "Mode           : append\n",
      "Output logging : True\n",
      "Raw input log  : False\n",
      "Timestamping   : True\n",
      "State          : active\n"
     ]
    },
    {
     "name": "stdout",
     "output_type": "stream",
     "text": [
      "Qcodes Logfile : /home/vsts/.qcodes/logs/200916-21686-qcodes.log\n"
     ]
    }
   ],
   "source": [
    "from qcodes.dataset.plotting import plot_dataset\n",
    "from qcodes.utils.validators import Numbers, Arrays\n",
    "from qcodes.instrument.base import Instrument\n",
    "from qcodes.dataset.measurements import Measurement"
   ]
  },
  {
   "cell_type": "code",
   "execution_count": 3,
   "metadata": {
    "execution": {
     "iopub.execute_input": "2020-09-16T08:41:31.170664Z",
     "iopub.status.busy": "2020-09-16T08:41:31.169741Z",
     "iopub.status.idle": "2020-09-16T08:41:31.174007Z",
     "shell.execute_reply": "2020-09-16T08:41:31.173642Z"
    }
   },
   "outputs": [],
   "source": [
    "from qcodes.dataset.sqlite.database import initialise_or_create_database_at\n",
    "from qcodes.dataset.experiment_container import load_or_create_experiment"
   ]
  },
  {
   "cell_type": "code",
   "execution_count": 4,
   "metadata": {
    "execution": {
     "iopub.execute_input": "2020-09-16T08:41:31.177431Z",
     "iopub.status.busy": "2020-09-16T08:41:31.176652Z",
     "iopub.status.idle": "2020-09-16T08:41:31.178705Z",
     "shell.execute_reply": "2020-09-16T08:41:31.178299Z"
    }
   },
   "outputs": [],
   "source": [
    "from qcodes.instrument.parameter import ParameterWithSetpoints, Parameter\n",
    "from qcodes.instrument.parameter import expand_setpoints_helper"
   ]
  },
  {
   "cell_type": "markdown",
   "execution_count": 5,
   "metadata": {},
   "source": [
    "First, we define a dummy instrument that returns something like a frequency spectrum starting from a frequency given by `f_start` to a frequency given by `f_stop` in `n_points` steps. \n",
    "\n",
    "The extra functionality of the `ParameterWithSetpoints` is implemented by giving it a reference to one or more parameters that acts like its setpoints. \n",
    "\n",
    "To setup a `ParameterWithSetpoints` we have to do two things in addition to what we do for a normal parameter.\n",
    "\n",
    "* Define one or more parameter for the setpoints (one for each dimension of the array and let the `ParameterWithSetpoints` know that these are the setpoints.\n",
    "* Give both the setpoints parameter(s) and the `ParameterWithSetpoints` a `validator` of type `Arrays` with a shape. The shapes should be such that the combined shape of the setpoints matches the shape of the `ParameterWithSetpoints`. Note that if the shape changes with the setting of the instrument, it can be defined by another parameter as shown below. "
   ]
  },
  {
   "cell_type": "code",
   "execution_count": 5,
   "metadata": {
    "execution": {
     "iopub.execute_input": "2020-09-16T08:41:31.188290Z",
     "iopub.status.busy": "2020-09-16T08:41:31.187290Z",
     "iopub.status.idle": "2020-09-16T08:41:31.188754Z",
     "shell.execute_reply": "2020-09-16T08:41:31.189113Z"
    }
   },
   "outputs": [],
   "source": [
    "class GeneratedSetPoints(Parameter):\n",
    "    \"\"\"\n",
    "    A parameter that generates a setpoint array from start, stop and num points\n",
    "    parameters.\n",
    "    \"\"\"\n",
    "    def __init__(self, startparam, stopparam, numpointsparam, *args, **kwargs):\n",
    "        super().__init__(*args, **kwargs)\n",
    "        self._startparam = startparam\n",
    "        self._stopparam = stopparam\n",
    "        self._numpointsparam = numpointsparam\n",
    "\n",
    "    def get_raw(self):\n",
    "        return np.linspace(self._startparam(), self._stopparam(),\n",
    "                              self._numpointsparam())\n",
    "\n",
    "class DummyArray(ParameterWithSetpoints):\n",
    "    \n",
    "    def get_raw(self):\n",
    "        npoints = self.root_instrument.n_points.get_latest()\n",
    "        return np.random.rand(npoints)\n",
    "    \n",
    "\n",
    "class DummySpectrumAnalyzer(Instrument):\n",
    "    \n",
    "    def __init__(self, name, **kwargs):\n",
    "        \n",
    "        super().__init__(name, **kwargs)\n",
    "            \n",
    "\n",
    "        self.add_parameter('f_start',\n",
    "                           initial_value=0,\n",
    "                           unit='Hz',\n",
    "                           label='f start',\n",
    "                           vals=Numbers(0,1e3),\n",
    "                           get_cmd=None,\n",
    "                           set_cmd=None)\n",
    "\n",
    "        self.add_parameter('f_stop',\n",
    "                           unit='Hz',\n",
    "                           label='f stop',\n",
    "                           vals=Numbers(1,1e3),\n",
    "                           get_cmd=None,\n",
    "                           set_cmd=None)\n",
    "\n",
    "        self.add_parameter('n_points',\n",
    "                           unit='',\n",
    "                           initial_value=10,\n",
    "                           vals=Numbers(1,1e3),\n",
    "                           get_cmd=None,\n",
    "                           set_cmd=None)\n",
    "        \n",
    "        self.add_parameter('freq_axis',\n",
    "                           unit='Hz',\n",
    "                           label='Freq Axis',\n",
    "                           parameter_class=GeneratedSetPoints,\n",
    "                           startparam=self.f_start,\n",
    "                           stopparam=self.f_stop,\n",
    "                           numpointsparam=self.n_points,\n",
    "                           vals=Arrays(shape=(self.n_points.get_latest,)))\n",
    "                           \n",
    "        self.add_parameter('spectrum',\n",
    "                   unit='dBm',\n",
    "                   setpoints=(self.freq_axis,),\n",
    "                   label='Spectrum',\n",
    "                   parameter_class=DummyArray,\n",
    "                   vals=Arrays(shape=(self.n_points.get_latest,)))\n",
    "                "
   ]
  },
  {
   "cell_type": "markdown",
   "execution_count": 6,
   "metadata": {},
   "source": [
    "In the above example, the shape is defined by the parameter `n_points` that defines how many samples our `DummySpectrumAnalyzer` returns.\n",
    "\n",
    "This means that the validation will call the function to get `n_points` twice for each `get` of the parameter. This may be too slow, however, if you (as the driver-writer) can guarantee that the cached value for `n_points` will never be out of sync with the value stored in the instrument, `n_points` may be replaced by it's latest known value such that the `validator` reads:\n",
    "```python\n",
    "vals=Arrays(shape=(self.n_points.get_latest))\n",
    "```\n",
    "\n",
    "This avoids any additional call to the instrument. In the same way, the arguments to the `freq_axis` parameter that defines the start, stop and number of points can be replaced by their latest value if the instrument allows it.\n",
    "\n"
   ]
  },
  {
   "cell_type": "code",
   "execution_count": 6,
   "metadata": {
    "execution": {
     "iopub.execute_input": "2020-09-16T08:41:31.191678Z",
     "iopub.status.busy": "2020-09-16T08:41:31.191295Z",
     "iopub.status.idle": "2020-09-16T08:41:31.260085Z",
     "shell.execute_reply": "2020-09-16T08:41:31.259326Z"
    }
   },
   "outputs": [
    {
     "name": "stdout",
     "output_type": "stream",
     "text": [
      "\r",
      "0it [00:00, ?it/s]"
     ]
    },
    {
     "name": "stdout",
     "output_type": "stream",
     "text": [
      "\r",
      "Upgrading database; v0 -> v1: : 0it [00:00, ?it/s]"
     ]
    },
    {
     "name": "stdout",
     "output_type": "stream",
     "text": [
      "\r",
      "Upgrading database; v0 -> v1: : 0it [00:00, ?it/s]"
     ]
    },
    {
     "name": "stdout",
     "output_type": "stream",
     "text": [
      "\n",
      "\r",
      "  0%|          | 0/1 [00:00<?, ?it/s]"
     ]
    },
    {
     "name": "stdout",
     "output_type": "stream",
     "text": [
      "\r",
      "Upgrading database; v1 -> v2:   0%|          | 0/1 [00:00<?, ?it/s]"
     ]
    },
    {
     "name": "stdout",
     "output_type": "stream",
     "text": [
      "\r",
      "Upgrading database; v1 -> v2: 100%|██████████| 1/1 [00:00<00:00, 675.30it/s]"
     ]
    },
    {
     "name": "stdout",
     "output_type": "stream",
     "text": [
      "\n",
      "\r",
      "0it [00:00, ?it/s]"
     ]
    },
    {
     "name": "stdout",
     "output_type": "stream",
     "text": [
      "\r",
      "Upgrading database; v2 -> v3: : 0it [00:00, ?it/s]"
     ]
    },
    {
     "name": "stdout",
     "output_type": "stream",
     "text": [
      "\r",
      "Upgrading database; v2 -> v3: : 0it [00:00, ?it/s]"
     ]
    },
    {
     "name": "stdout",
     "output_type": "stream",
     "text": [
      "\n",
      "\r",
      "0it [00:00, ?it/s]"
     ]
    },
    {
     "name": "stdout",
     "output_type": "stream",
     "text": [
      "\r",
      "Upgrading database; v3 -> v4: : 0it [00:00, ?it/s]"
     ]
    },
    {
     "name": "stdout",
     "output_type": "stream",
     "text": [
      "\r",
      "Upgrading database; v3 -> v4: : 0it [00:00, ?it/s]"
     ]
    },
    {
     "name": "stdout",
     "output_type": "stream",
     "text": [
      "\n",
      "\r",
      "  0%|          | 0/1 [00:00<?, ?it/s]"
     ]
    },
    {
     "name": "stdout",
     "output_type": "stream",
     "text": [
      "\r",
      "Upgrading database; v4 -> v5:   0%|          | 0/1 [00:00<?, ?it/s]"
     ]
    },
    {
     "name": "stdout",
     "output_type": "stream",
     "text": [
      "\r",
      "Upgrading database; v4 -> v5: 100%|██████████| 1/1 [00:00<00:00, 1084.92it/s]"
     ]
    },
    {
     "name": "stdout",
     "output_type": "stream",
     "text": [
      "\n",
      "\r",
      "0it [00:00, ?it/s]"
     ]
    },
    {
     "name": "stdout",
     "output_type": "stream",
     "text": [
      "\r",
      "Upgrading database; v5 -> v6: : 0it [00:00, ?it/s]"
     ]
    },
    {
     "name": "stdout",
     "output_type": "stream",
     "text": [
      "\r",
      "Upgrading database; v5 -> v6: : 0it [00:00, ?it/s]"
     ]
    },
    {
     "name": "stdout",
     "output_type": "stream",
     "text": [
      "\n",
      "\r",
      "  0%|          | 0/1 [00:00<?, ?it/s]"
     ]
    },
    {
     "name": "stdout",
     "output_type": "stream",
     "text": [
      "\r",
      "Upgrading database; v6 -> v7:   0%|          | 0/1 [00:00<?, ?it/s]"
     ]
    },
    {
     "name": "stdout",
     "output_type": "stream",
     "text": [
      "\r",
      "Upgrading database; v6 -> v7: 100%|██████████| 1/1 [00:00<00:00, 356.84it/s]"
     ]
    },
    {
     "name": "stdout",
     "output_type": "stream",
     "text": [
      "\n",
      "\r",
      "  0%|          | 0/1 [00:00<?, ?it/s]"
     ]
    },
    {
     "name": "stdout",
     "output_type": "stream",
     "text": [
      "\r",
      "Upgrading database; v7 -> v8:   0%|          | 0/1 [00:00<?, ?it/s]"
     ]
    },
    {
     "name": "stdout",
     "output_type": "stream",
     "text": [
      "\r",
      "Upgrading database; v7 -> v8: 100%|██████████| 1/1 [00:00<00:00, 374.59it/s]"
     ]
    },
    {
     "name": "stdout",
     "output_type": "stream",
     "text": [
      "\n",
      "\r",
      "  0%|          | 0/1 [00:00<?, ?it/s]"
     ]
    },
    {
     "name": "stdout",
     "output_type": "stream",
     "text": [
      "\r",
      "Upgrading database; v8 -> v9:   0%|          | 0/1 [00:00<?, ?it/s]"
     ]
    },
    {
     "name": "stdout",
     "output_type": "stream",
     "text": [
      "\r",
      "Upgrading database; v8 -> v9: 100%|██████████| 1/1 [00:00<00:00, 1023.75it/s]"
     ]
    },
    {
     "name": "stdout",
     "output_type": "stream",
     "text": [
      "\n"
     ]
    },
    {
     "data": {
      "text/plain": [
       "tutorial_ParameterWithSetpoints#no sample#1@/home/vsts/work/1/s/docs/examples/Parameters/tutorial_paramter_with_setpoints.db\n",
       "----------------------------------------------------------------------------------------------------------------------------"
      ]
     },
     "execution_count": 1,
     "metadata": {},
     "output_type": "execute_result"
    }
   ],
   "source": [
    "tutorial_db_path = os.path.join(os.getcwd(), 'tutorial_paramter_with_setpoints.db')\n",
    "initialise_or_create_database_at(tutorial_db_path)\n",
    "load_or_create_experiment(experiment_name='tutorial_ParameterWithSetpoints', sample_name=\"no sample\")"
   ]
  },
  {
   "cell_type": "code",
   "execution_count": 7,
   "metadata": {
    "execution": {
     "iopub.execute_input": "2020-09-16T08:41:31.263860Z",
     "iopub.status.busy": "2020-09-16T08:41:31.262567Z",
     "iopub.status.idle": "2020-09-16T08:41:31.265660Z",
     "shell.execute_reply": "2020-09-16T08:41:31.266040Z"
    }
   },
   "outputs": [],
   "source": [
    "a = DummySpectrumAnalyzer('foobar')"
   ]
  },
  {
   "cell_type": "markdown",
   "execution_count": 8,
   "metadata": {},
   "source": [
    "First we setup the limits of the spectrum"
   ]
  },
  {
   "cell_type": "code",
   "execution_count": 8,
   "metadata": {
    "execution": {
     "iopub.execute_input": "2020-09-16T08:41:31.269596Z",
     "iopub.status.busy": "2020-09-16T08:41:31.269093Z",
     "iopub.status.idle": "2020-09-16T08:41:31.272355Z",
     "shell.execute_reply": "2020-09-16T08:41:31.271817Z"
    }
   },
   "outputs": [],
   "source": [
    "a.f_start(0)\n",
    "a.f_stop(500)\n",
    "a.n_points(501)"
   ]
  },
  {
   "cell_type": "markdown",
   "execution_count": 9,
   "metadata": {},
   "source": [
    "And we can grab the frequency axis"
   ]
  },
  {
   "cell_type": "code",
   "execution_count": 9,
   "metadata": {
    "execution": {
     "iopub.execute_input": "2020-09-16T08:41:31.276620Z",
     "iopub.status.busy": "2020-09-16T08:41:31.276143Z",
     "iopub.status.idle": "2020-09-16T08:41:31.278363Z",
     "shell.execute_reply": "2020-09-16T08:41:31.278832Z"
    }
   },
   "outputs": [
    {
     "data": {
      "text/plain": [
       "501"
      ]
     },
     "execution_count": 1,
     "metadata": {},
     "output_type": "execute_result"
    }
   ],
   "source": [
    "a.n_points()"
   ]
  },
  {
   "cell_type": "code",
   "execution_count": 10,
   "metadata": {
    "execution": {
     "iopub.execute_input": "2020-09-16T08:41:31.283043Z",
     "iopub.status.busy": "2020-09-16T08:41:31.282498Z",
     "iopub.status.idle": "2020-09-16T08:41:31.284772Z",
     "shell.execute_reply": "2020-09-16T08:41:31.285271Z"
    },
    "scrolled": false
   },
   "outputs": [
    {
     "data": {
      "text/plain": [
       "501"
      ]
     },
     "execution_count": 1,
     "metadata": {},
     "output_type": "execute_result"
    }
   ],
   "source": [
    "freq_axis = a.freq_axis()\n",
    "len(freq_axis)"
   ]
  },
  {
   "cell_type": "code",
   "execution_count": 11,
   "metadata": {
    "execution": {
     "iopub.execute_input": "2020-09-16T08:41:31.290017Z",
     "iopub.status.busy": "2020-09-16T08:41:31.288893Z",
     "iopub.status.idle": "2020-09-16T08:41:31.291807Z",
     "shell.execute_reply": "2020-09-16T08:41:31.292346Z"
    }
   },
   "outputs": [
    {
     "data": {
      "text/plain": [
       "array([0., 1., 2., 3., 4., 5., 6., 7., 8., 9.])"
      ]
     },
     "execution_count": 1,
     "metadata": {},
     "output_type": "execute_result"
    }
   ],
   "source": [
    "freq_axis[:10]"
   ]
  },
  {
   "cell_type": "markdown",
   "execution_count": 12,
   "metadata": {},
   "source": [
    "As expected we get a result wit 501 points as we asked for an axis with 501 points. "
   ]
  },
  {
   "cell_type": "markdown",
   "execution_count": 12,
   "metadata": {},
   "source": [
    "Above we have added a validator to the `freq_axis` parameter encoding the fact that this is an Array with `n_points`. Note that we do not have to supply the number of points as an integer but can supply a function that returns the valid number of points. This would normally be a QCoDeS parameter.\n",
    "\n",
    "This will be checked if we validate the output."
   ]
  },
  {
   "cell_type": "code",
   "execution_count": 12,
   "metadata": {
    "execution": {
     "iopub.execute_input": "2020-09-16T08:41:31.296873Z",
     "iopub.status.busy": "2020-09-16T08:41:31.295701Z",
     "iopub.status.idle": "2020-09-16T08:41:31.297443Z",
     "shell.execute_reply": "2020-09-16T08:41:31.297852Z"
    }
   },
   "outputs": [],
   "source": [
    "a.freq_axis.validate(a.freq_axis.get())"
   ]
  },
  {
   "cell_type": "markdown",
   "execution_count": 13,
   "metadata": {},
   "source": [
    "Naturally, we can also get the spectrum. Getting the spectrum will automatically perform validation both for the shape of the parameter itself and the relation to the setpoint parameter(s)"
   ]
  },
  {
   "cell_type": "code",
   "execution_count": 13,
   "metadata": {
    "execution": {
     "iopub.execute_input": "2020-09-16T08:41:31.301717Z",
     "iopub.status.busy": "2020-09-16T08:41:31.300394Z",
     "iopub.status.idle": "2020-09-16T08:41:31.303508Z",
     "shell.execute_reply": "2020-09-16T08:41:31.303883Z"
    },
    "scrolled": true
   },
   "outputs": [
    {
     "data": {
      "text/plain": [
       "501"
      ]
     },
     "execution_count": 1,
     "metadata": {},
     "output_type": "execute_result"
    }
   ],
   "source": [
    "spectrum = a.spectrum.get()\n",
    "len(spectrum)"
   ]
  },
  {
   "cell_type": "markdown",
   "execution_count": 14,
   "metadata": {},
   "source": [
    "When we validate a `ParameterWithSetpoints`, we automatically validate that the shape is consistent between the parameters and its setpoints. As well as validating the shape as above."
   ]
  },
  {
   "cell_type": "code",
   "execution_count": 14,
   "metadata": {
    "execution": {
     "iopub.execute_input": "2020-09-16T08:41:31.307679Z",
     "iopub.status.busy": "2020-09-16T08:41:31.306475Z",
     "iopub.status.idle": "2020-09-16T08:41:31.309337Z",
     "shell.execute_reply": "2020-09-16T08:41:31.308860Z"
    }
   },
   "outputs": [],
   "source": [
    "a.spectrum.validate(a.spectrum.get())"
   ]
  },
  {
   "cell_type": "markdown",
   "execution_count": 15,
   "metadata": {},
   "source": [
    "The consistent shapes can be validated explicitly."
   ]
  },
  {
   "cell_type": "code",
   "execution_count": 15,
   "metadata": {
    "execution": {
     "iopub.execute_input": "2020-09-16T08:41:31.312481Z",
     "iopub.status.busy": "2020-09-16T08:41:31.312032Z",
     "iopub.status.idle": "2020-09-16T08:41:31.314410Z",
     "shell.execute_reply": "2020-09-16T08:41:31.313876Z"
    }
   },
   "outputs": [],
   "source": [
    "a.spectrum.validate_consistent_shape()"
   ]
  },
  {
   "cell_type": "markdown",
   "execution_count": 16,
   "metadata": {},
   "source": [
    "We can inspect the setpoints of the spectrum."
   ]
  },
  {
   "cell_type": "code",
   "execution_count": 16,
   "metadata": {
    "execution": {
     "iopub.execute_input": "2020-09-16T08:41:31.318184Z",
     "iopub.status.busy": "2020-09-16T08:41:31.317779Z",
     "iopub.status.idle": "2020-09-16T08:41:31.319590Z",
     "shell.execute_reply": "2020-09-16T08:41:31.320170Z"
    }
   },
   "outputs": [
    {
     "data": {
      "text/plain": [
       "(<__main__.GeneratedSetPoints: freq_axis at 139920613344592>,)"
      ]
     },
     "execution_count": 1,
     "metadata": {},
     "output_type": "execute_result"
    }
   ],
   "source": [
    "a.spectrum.setpoints"
   ]
  },
  {
   "cell_type": "markdown",
   "execution_count": 17,
   "metadata": {},
   "source": [
    "Or even change them."
   ]
  },
  {
   "cell_type": "code",
   "execution_count": 17,
   "metadata": {
    "execution": {
     "iopub.execute_input": "2020-09-16T08:41:31.322995Z",
     "iopub.status.busy": "2020-09-16T08:41:31.322627Z",
     "iopub.status.idle": "2020-09-16T08:41:31.324612Z",
     "shell.execute_reply": "2020-09-16T08:41:31.324093Z"
    }
   },
   "outputs": [],
   "source": [
    "a.spectrum.setpoints = (a.freq_axis,)"
   ]
  },
  {
   "cell_type": "markdown",
   "execution_count": 18,
   "metadata": {},
   "source": [
    "## Measurement"
   ]
  },
  {
   "cell_type": "markdown",
   "execution_count": 18,
   "metadata": {},
   "source": [
    "We can also directly consume the parameter in a measurement without defining the setpoints of the parameter again. The setpoints are automatically obtained from the definition of the `ParameterWithSetpoint` instance. "
   ]
  },
  {
   "cell_type": "code",
   "execution_count": 18,
   "metadata": {
    "execution": {
     "iopub.execute_input": "2020-09-16T08:41:31.328642Z",
     "iopub.status.busy": "2020-09-16T08:41:31.328290Z",
     "iopub.status.idle": "2020-09-16T08:41:31.341647Z",
     "shell.execute_reply": "2020-09-16T08:41:31.341219Z"
    }
   },
   "outputs": [
    {
     "name": "stdout",
     "output_type": "stream",
     "text": [
      "Starting experimental run with id: 1. \n"
     ]
    }
   ],
   "source": [
    "meas = Measurement()\n",
    "meas.register_parameter(a.spectrum)\n",
    "\n",
    "with meas.run() as datasaver:\n",
    "    datasaver.add_result((a.freq_axis, a.freq_axis()),\n",
    "                         (a.spectrum, a.spectrum()))\n",
    "    dataset = datasaver.dataset"
   ]
  },
  {
   "cell_type": "markdown",
   "execution_count": 19,
   "metadata": {},
   "source": [
    "And plot it"
   ]
  },
  {
   "cell_type": "code",
   "execution_count": 19,
   "metadata": {
    "execution": {
     "iopub.execute_input": "2020-09-16T08:41:31.343897Z",
     "iopub.status.busy": "2020-09-16T08:41:31.343546Z",
     "iopub.status.idle": "2020-09-16T08:41:31.663489Z",
     "shell.execute_reply": "2020-09-16T08:41:31.664088Z"
    }
   },
   "outputs": [
    {
     "data": {
      "text/plain": [
       "([<matplotlib.axes._subplots.AxesSubplot at 0x7f41cefc8410>], [None])"
      ]
     },
     "execution_count": 1,
     "metadata": {},
     "output_type": "execute_result"
    },
    {
     "data": {
      "image/png": "[encoded data removed]",
      "text/plain": [
       "<Figure size 432x288 with 1 Axes>"
      ]
     },
     "metadata": {
      "needs_background": "light"
     },
     "output_type": "display_data"
    }
   ],
   "source": [
    "plot_dataset(dataset)"
   ]
  },
  {
   "cell_type": "markdown",
   "execution_count": 20,
   "metadata": {},
   "source": [
    "To reduce the amount of typing a simple convenience function is provided that will take a `ParameterWithSetpoints` and get both its values and the setpoints values and return them as tuples for direct insertion into the Dataset."
   ]
  },
  {
   "cell_type": "code",
   "execution_count": 20,
   "metadata": {
    "execution": {
     "iopub.execute_input": "2020-09-16T08:41:31.667551Z",
     "iopub.status.busy": "2020-09-16T08:41:31.666972Z",
     "iopub.status.idle": "2020-09-16T08:41:31.679105Z",
     "shell.execute_reply": "2020-09-16T08:41:31.678573Z"
    },
    "scrolled": true
   },
   "outputs": [
    {
     "data": {
      "text/plain": [
       "[(<__main__.GeneratedSetPoints: freq_axis at 139920613344592>,\n",
       "  array([  0.,   1.,   2.,   3.,   4.,   5.,   6.,   7.,   8.,   9.,  10.,\n",
       "          11.,  12.,  13.,  14.,  15.,  16.,  17.,  18.,  19.,  20.,  21.,\n",
       "          22.,  23.,  24.,  25.,  26.,  27.,  28.,  29.,  30.,  31.,  32.,\n",
       "          33.,  34.,  35.,  36.,  37.,  38.,  39.,  40.,  41.,  42.,  43.,\n",
       "          44.,  45.,  46.,  47.,  48.,  49.,  50.,  51.,  52.,  53.,  54.,\n",
       "          55.,  56.,  57.,  58.,  59.,  60.,  61.,  62.,  63.,  64.,  65.,\n",
       "          66.,  67.,  68.,  69.,  70.,  71.,  72.,  73.,  74.,  75.,  76.,\n",
       "          77.,  78.,  79.,  80.,  81.,  82.,  83.,  84.,  85.,  86.,  87.,\n",
       "          88.,  89.,  90.,  91.,  92.,  93.,  94.,  95.,  96.,  97.,  98.,\n",
       "          99., 100., 101., 102., 103., 104., 105., 106., 107., 108., 109.,\n",
       "         110., 111., 112., 113., 114., 115., 116., 117., 118., 119., 120.,\n",
       "         121., 122., 123., 124., 125., 126., 127., 128., 129., 130., 131.,\n",
       "         132., 133., 134., 135., 136., 137., 138., 139., 140., 141., 142.,\n",
       "         143., 144., 145., 146., 147., 148., 149., 150., 151., 152., 153.,\n",
       "         154., 155., 156., 157., 158., 159., 160., 161., 162., 163., 164.,\n",
       "         165., 166., 167., 168., 169., 170., 171., 172., 173., 174., 175.,\n",
       "         176., 177., 178., 179., 180., 181., 182., 183., 184., 185., 186.,\n",
       "         187., 188., 189., 190., 191., 192., 193., 194., 195., 196., 197.,\n",
       "         198., 199., 200., 201., 202., 203., 204., 205., 206., 207., 208.,\n",
       "         209., 210., 211., 212., 213., 214., 215., 216., 217., 218., 219.,\n",
       "         220., 221., 222., 223., 224., 225., 226., 227., 228., 229., 230.,\n",
       "         231., 232., 233., 234., 235., 236., 237., 238., 239., 240., 241.,\n",
       "         242., 243., 244., 245., 246., 247., 248., 249., 250., 251., 252.,\n",
       "         253., 254., 255., 256., 257., 258., 259., 260., 261., 262., 263.,\n",
       "         264., 265., 266., 267., 268., 269., 270., 271., 272., 273., 274.,\n",
       "         275., 276., 277., 278., 279., 280., 281., 282., 283., 284., 285.,\n",
       "         286., 287., 288., 289., 290., 291., 292., 293., 294., 295., 296.,\n",
       "         297., 298., 299., 300., 301., 302., 303., 304., 305., 306., 307.,\n",
       "         308., 309., 310., 311., 312., 313., 314., 315., 316., 317., 318.,\n",
       "         319., 320., 321., 322., 323., 324., 325., 326., 327., 328., 329.,\n",
       "         330., 331., 332., 333., 334., 335., 336., 337., 338., 339., 340.,\n",
       "         341., 342., 343., 344., 345., 346., 347., 348., 349., 350., 351.,\n",
       "         352., 353., 354., 355., 356., 357., 358., 359., 360., 361., 362.,\n",
       "         363., 364., 365., 366., 367., 368., 369., 370., 371., 372., 373.,\n",
       "         374., 375., 376., 377., 378., 379., 380., 381., 382., 383., 384.,\n",
       "         385., 386., 387., 388., 389., 390., 391., 392., 393., 394., 395.,\n",
       "         396., 397., 398., 399., 400., 401., 402., 403., 404., 405., 406.,\n",
       "         407., 408., 409., 410., 411., 412., 413., 414., 415., 416., 417.,\n",
       "         418., 419., 420., 421., 422., 423., 424., 425., 426., 427., 428.,\n",
       "         429., 430., 431., 432., 433., 434., 435., 436., 437., 438., 439.,\n",
       "         440., 441., 442., 443., 444., 445., 446., 447., 448., 449., 450.,\n",
       "         451., 452., 453., 454., 455., 456., 457., 458., 459., 460., 461.,\n",
       "         462., 463., 464., 465., 466., 467., 468., 469., 470., 471., 472.,\n",
       "         473., 474., 475., 476., 477., 478., 479., 480., 481., 482., 483.,\n",
       "         484., 485., 486., 487., 488., 489., 490., 491., 492., 493., 494.,\n",
       "         495., 496., 497., 498., 499., 500.])),\n",
       " (<__main__.DummyArray: spectrum at 139920626539280>,\n",
       "  array([8.62761380e-01, 1.13609974e-01, 5.90220261e-01, 3.56572486e-01,\n",
       "         3.37820247e-01, 2.82265792e-01, 6.19713125e-01, 6.80275030e-01,\n",
       "         8.54238845e-01, 7.57587428e-01, 2.81555140e-01, 5.60726451e-01,\n",
       "         9.38465566e-01, 8.69925890e-01, 3.11620774e-01, 6.42404802e-01,\n",
       "         2.07753374e-01, 3.94651424e-01, 9.21581491e-01, 3.12954757e-02,\n",
       "         7.15665348e-01, 8.69236411e-01, 7.29892404e-01, 4.96513999e-01,\n",
       "         1.01994085e-02, 6.52398998e-01, 8.00676180e-01, 9.79272391e-01,\n",
       "         8.37499881e-01, 8.78499640e-01, 4.93542047e-01, 5.85153645e-01,\n",
       "         4.01494683e-01, 2.84466706e-01, 8.94498363e-01, 2.84059755e-01,\n",
       "         6.61249398e-01, 2.29944493e-01, 7.42848953e-01, 2.65719143e-01,\n",
       "         3.09305393e-02, 5.44114975e-02, 4.37198288e-01, 3.48642827e-01,\n",
       "         9.77371632e-01, 3.87363462e-01, 1.74630620e-01, 9.23912672e-01,\n",
       "         8.69268543e-01, 5.55787375e-02, 6.20313838e-01, 2.85409594e-01,\n",
       "         5.99354283e-01, 8.29133142e-01, 1.24800285e-01, 3.89414015e-01,\n",
       "         6.71116856e-01, 2.46133161e-01, 9.84969352e-01, 5.59091726e-01,\n",
       "         6.72790646e-01, 3.10367320e-01, 3.27545814e-01, 6.67967573e-01,\n",
       "         5.55088698e-02, 3.77162196e-01, 4.95895911e-01, 4.63610341e-01,\n",
       "         6.61177620e-01, 5.88160013e-01, 2.27304132e-01, 9.22194919e-01,\n",
       "         8.79552491e-02, 9.59867110e-01, 4.17920174e-01, 9.32027257e-01,\n",
       "         2.95444698e-01, 2.40090006e-03, 4.83207982e-01, 3.82809955e-01,\n",
       "         4.16768143e-01, 1.28241438e-01, 9.96118522e-01, 6.38126631e-01,\n",
       "         7.84350414e-01, 8.38516606e-01, 7.79050731e-01, 7.83696678e-01,\n",
       "         7.94260525e-01, 4.68036856e-01, 5.67104328e-01, 5.22562238e-01,\n",
       "         4.12396445e-01, 7.23657305e-01, 5.69925072e-01, 4.77140491e-01,\n",
       "         9.74322853e-01, 5.12724411e-01, 7.30647709e-01, 2.97728812e-01,\n",
       "         1.00608506e-01, 6.59154463e-01, 6.01621157e-01, 2.67604311e-01,\n",
       "         7.39941737e-01, 8.30082749e-01, 8.36528764e-01, 2.35545971e-01,\n",
       "         4.32669534e-01, 7.69422300e-01, 6.91904869e-01, 4.30596968e-01,\n",
       "         3.78644832e-01, 1.16858003e-01, 9.63415108e-01, 7.02823455e-01,\n",
       "         9.17998435e-01, 8.70367138e-01, 8.26449411e-02, 8.89127293e-01,\n",
       "         7.42702780e-01, 4.28032665e-01, 3.60716786e-01, 1.33331546e-01,\n",
       "         4.89827461e-01, 3.42084288e-01, 8.53690656e-01, 7.08383799e-01,\n",
       "         2.01844616e-01, 8.29462866e-01, 5.31403050e-01, 7.35380090e-01,\n",
       "         8.23714611e-01, 1.77311312e-01, 7.83342286e-01, 4.17801688e-01,\n",
       "         6.79493920e-01, 3.41502514e-01, 7.64479826e-02, 6.53962776e-01,\n",
       "         4.41372172e-01, 1.35181566e-01, 1.37839832e-01, 5.13205989e-01,\n",
       "         8.15247115e-01, 1.27696133e-01, 8.46544654e-01, 1.04365108e-01,\n",
       "         6.71001633e-01, 9.51518489e-01, 4.45508625e-01, 8.40869347e-01,\n",
       "         1.06067421e-02, 1.56671153e-01, 1.26115171e-01, 2.98401771e-01,\n",
       "         7.83832823e-01, 1.23210707e-01, 9.41116005e-03, 1.42194959e-01,\n",
       "         2.78181431e-01, 7.04163625e-01, 9.85461138e-01, 4.61876880e-02,\n",
       "         6.08391737e-02, 9.55318804e-01, 3.95133796e-01, 8.54511297e-01,\n",
       "         5.85988739e-01, 7.30272140e-01, 4.84320417e-01, 3.52478332e-01,\n",
       "         2.32941004e-01, 7.72328902e-01, 5.09652771e-01, 1.43413258e-01,\n",
       "         1.76493721e-01, 3.94747934e-01, 9.21523129e-01, 7.86531728e-01,\n",
       "         4.16620866e-01, 4.24295481e-01, 8.02601191e-01, 7.06114252e-01,\n",
       "         4.35390372e-01, 1.72108166e-01, 5.52855023e-01, 8.91859961e-02,\n",
       "         2.90479114e-01, 5.42328996e-01, 6.57256908e-02, 8.50999574e-01,\n",
       "         8.27633282e-01, 4.00768881e-01, 4.86425960e-01, 8.10655848e-01,\n",
       "         4.20593734e-01, 1.70077312e-01, 9.33049872e-01, 1.28791381e-01,\n",
       "         5.96545191e-01, 5.09355908e-01, 1.05042451e-01, 4.35701170e-01,\n",
       "         2.57310349e-01, 6.43971208e-03, 2.84698895e-01, 1.69199971e-01,\n",
       "         4.25283423e-01, 7.76787504e-01, 2.08412104e-01, 8.50185883e-01,\n",
       "         4.84411548e-02, 8.68586882e-01, 3.05948878e-01, 8.87908128e-01,\n",
       "         2.08153108e-01, 5.72278466e-01, 5.82767701e-01, 3.98126946e-01,\n",
       "         9.49143388e-02, 9.96679094e-01, 9.76034040e-01, 1.31676504e-01,\n",
       "         8.71848836e-01, 9.87076400e-01, 8.11688084e-01, 7.62787689e-01,\n",
       "         7.08375691e-02, 5.84907170e-01, 4.20516313e-01, 3.68465085e-01,\n",
       "         1.79389540e-01, 9.17452170e-01, 6.21455969e-02, 6.91380912e-01,\n",
       "         5.58193693e-01, 8.42702943e-01, 2.44664855e-01, 8.01201317e-01,\n",
       "         9.02028648e-01, 8.23305534e-01, 7.63833595e-01, 8.24637455e-01,\n",
       "         3.61240214e-02, 5.97876482e-01, 3.41809218e-01, 1.13702915e-01,\n",
       "         5.77432696e-01, 5.98564188e-01, 7.91704035e-01, 5.97860235e-01,\n",
       "         1.58292429e-01, 6.53139150e-01, 9.92938425e-01, 6.49516154e-01,\n",
       "         7.88544697e-01, 1.80466611e-01, 7.56382433e-01, 5.31994416e-01,\n",
       "         4.34733706e-01, 3.83557085e-01, 2.85703496e-01, 3.37067128e-01,\n",
       "         4.55766601e-01, 1.73743129e-02, 3.63787206e-02, 1.66370223e-01,\n",
       "         8.09597335e-01, 4.44980532e-01, 8.77676941e-01, 7.52034799e-02,\n",
       "         2.36568414e-01, 1.18883642e-01, 6.87152639e-01, 8.73597533e-02,\n",
       "         7.09016399e-01, 8.07713190e-01, 9.96346895e-01, 8.40563947e-01,\n",
       "         4.59114431e-01, 5.11708758e-01, 7.97744267e-01, 2.02045386e-01,\n",
       "         1.88406956e-01, 3.45394737e-01, 7.68652967e-01, 9.68493997e-01,\n",
       "         6.58225197e-01, 1.63616335e-01, 4.77909028e-01, 2.62630277e-01,\n",
       "         8.01682337e-01, 5.05589823e-01, 2.26593315e-01, 8.23177340e-01,\n",
       "         5.75843700e-01, 6.45691712e-01, 5.43826873e-01, 4.70698708e-01,\n",
       "         7.71008223e-01, 2.02072626e-02, 1.68923660e-01, 4.15513770e-01,\n",
       "         8.92543663e-01, 9.30662216e-01, 8.52593418e-01, 9.94215745e-01,\n",
       "         2.14785135e-01, 8.00221615e-01, 4.86189970e-02, 5.79899284e-01,\n",
       "         3.11800654e-01, 3.52386525e-01, 2.27066000e-02, 2.24059855e-01,\n",
       "         2.24964357e-01, 5.29550898e-01, 8.91132694e-01, 1.51655038e-01,\n",
       "         4.37881732e-01, 1.55982196e-01, 3.88900683e-01, 5.31798377e-01,\n",
       "         6.05648141e-01, 2.97309650e-01, 5.03971320e-01, 7.19478221e-01,\n",
       "         4.36173654e-01, 9.95687337e-01, 4.63693999e-01, 6.99580253e-01,\n",
       "         1.50195910e-01, 8.96961403e-01, 9.72427932e-01, 9.08666153e-01,\n",
       "         8.05889322e-02, 7.16192750e-02, 3.39298903e-01, 3.64067716e-01,\n",
       "         8.30489826e-01, 2.64978626e-01, 9.34617270e-01, 6.94912095e-01,\n",
       "         2.46267422e-01, 4.03507168e-01, 6.35064201e-01, 6.00348771e-01,\n",
       "         5.24798571e-01, 7.36475203e-01, 2.33616732e-01, 5.89430925e-01,\n",
       "         2.87351308e-01, 2.88132139e-01, 2.95655244e-01, 2.20799778e-01,\n",
       "         9.44338508e-02, 3.28753333e-01, 8.39477500e-01, 9.22273873e-01,\n",
       "         9.08698255e-02, 7.41272137e-01, 8.41124514e-01, 3.07401623e-01,\n",
       "         7.89572112e-01, 6.87174490e-01, 3.50267300e-02, 5.27763873e-01,\n",
       "         5.75860951e-02, 6.95454284e-01, 7.88740739e-02, 4.85740539e-01,\n",
       "         9.67408437e-01, 8.37660846e-01, 6.83446270e-01, 8.87229321e-01,\n",
       "         2.03000804e-01, 1.39003811e-01, 3.52451089e-01, 2.12213851e-01,\n",
       "         6.66300817e-01, 1.09577514e-01, 1.55313148e-01, 2.07159416e-01,\n",
       "         9.82214871e-01, 8.72974322e-02, 9.87761409e-01, 8.14105895e-01,\n",
       "         5.84831390e-01, 1.95760947e-01, 3.39706176e-01, 4.93639060e-01,\n",
       "         1.42177207e-01, 1.06503433e-01, 4.75327052e-01, 5.12312892e-01,\n",
       "         3.97795587e-01, 7.30755625e-01, 6.82195284e-01, 9.42929498e-01,\n",
       "         9.46796271e-01, 2.71949065e-01, 5.54747050e-01, 7.35624476e-02,\n",
       "         5.59133961e-01, 2.49485282e-01, 2.32794577e-02, 6.94813013e-01,\n",
       "         5.06297532e-01, 3.32541545e-01, 9.60128905e-01, 3.79291037e-01,\n",
       "         3.57789877e-01, 8.64073599e-01, 4.94107465e-01, 3.65775026e-01,\n",
       "         2.10127421e-01, 2.81111002e-01, 3.13253440e-01, 7.89674055e-01,\n",
       "         6.27859954e-01, 5.18934746e-01, 9.02014324e-01, 5.26955437e-01,\n",
       "         3.63901170e-01, 1.87286615e-01, 6.55110075e-01, 1.40979048e-01,\n",
       "         4.59411662e-01, 3.44823383e-01, 6.75206411e-01, 1.22267921e-01,\n",
       "         1.58527003e-01, 1.49130354e-01, 4.13029627e-01, 8.40800120e-02,\n",
       "         7.83514953e-01, 6.40095242e-01, 5.94996453e-01, 3.52089752e-01,\n",
       "         1.69304009e-01, 8.97280838e-01, 5.89218836e-01, 1.57176770e-01,\n",
       "         4.21794884e-01, 2.73486582e-01, 5.03447859e-01, 5.88801434e-01,\n",
       "         2.68390610e-01, 5.58191061e-01, 8.60153762e-01, 7.26461257e-01,\n",
       "         4.39557646e-01, 6.94028173e-01, 2.68513611e-01, 1.87763276e-01,\n",
       "         7.94269682e-01, 2.71439247e-01, 2.98205734e-01, 7.20979925e-01,\n",
       "         4.84317559e-01, 4.52599229e-01, 9.21356301e-01, 7.72002668e-01,\n",
       "         4.97263361e-01, 5.02835036e-01, 9.25875146e-01, 8.37373898e-01,\n",
       "         3.66728087e-01, 2.21077763e-01, 3.58854462e-01, 3.66268924e-01,\n",
       "         9.55592105e-01, 7.31293117e-01, 7.46126825e-01, 6.87962594e-01,\n",
       "         5.25302555e-01, 3.71420576e-01, 8.56299750e-02, 6.70194455e-01,\n",
       "         8.36344623e-02, 8.78076040e-01, 1.30538981e-01, 2.07875042e-01,\n",
       "         5.89477474e-01, 4.13210443e-04, 6.06278104e-01, 6.93185417e-01,\n",
       "         7.76859763e-01, 8.59575845e-01, 8.36434749e-01, 4.87854304e-01,\n",
       "         4.37870998e-01, 8.70354480e-01, 3.88784485e-01, 5.81310004e-01,\n",
       "         2.49497902e-01, 4.48903313e-02, 5.25803801e-01, 9.44783481e-01,\n",
       "         2.05495648e-01]))]"
      ]
     },
     "execution_count": 1,
     "metadata": {},
     "output_type": "execute_result"
    }
   ],
   "source": [
    "expand_setpoints_helper(a.spectrum)"
   ]
  },
  {
   "cell_type": "code",
   "execution_count": 21,
   "metadata": {
    "execution": {
     "iopub.execute_input": "2020-09-16T08:41:31.682718Z",
     "iopub.status.busy": "2020-09-16T08:41:31.682184Z",
     "iopub.status.idle": "2020-09-16T08:41:31.694344Z",
     "shell.execute_reply": "2020-09-16T08:41:31.693876Z"
    }
   },
   "outputs": [
    {
     "name": "stdout",
     "output_type": "stream",
     "text": [
      "Starting experimental run with id: 2. \n"
     ]
    }
   ],
   "source": [
    "meas = Measurement()\n",
    "meas.register_parameter(a.spectrum)\n",
    "\n",
    "with meas.run() as datasaver:\n",
    "    datasaver.add_result(*expand_setpoints_helper(a.spectrum))\n",
    "    \n",
    "    dataid = datasaver.run_id"
   ]
  },
  {
   "cell_type": "code",
   "execution_count": 22,
   "metadata": {},
   "outputs": [],
   "source": []
  }
 ],
 "metadata": {
  "kernelspec": {
   "display_name": "Python 3",
   "language": "python",
   "name": "python3"
  },
  "language_info": {
   "codemirror_mode": {
    "name": "ipython",
    "version": 3
   },
   "file_extension": ".py",
   "mimetype": "text/x-python",
   "name": "python",
   "nbconvert_exporter": "python",
   "pygments_lexer": "ipython3",
   "version": "3.7.7"
  },
  "toc": {
   "base_numbering": 1,
   "nav_menu": {},
   "number_sections": true,
   "sideBar": true,
   "skip_h1_title": false,
   "title_cell": "Table of Contents",
   "title_sidebar": "Contents",
   "toc_cell": false,
   "toc_position": {},
   "toc_section_display": true,
   "toc_window_display": false
  },
  "varInspector": {
   "cols": {
    "lenName": 16,
    "lenType": 16,
    "lenVar": 40
   },
   "kernels_config": {
    "python": {
     "delete_cmd_postfix": "",
     "delete_cmd_prefix": "del ",
     "library": "var_list.py",
     "varRefreshCmd": "print(var_dic_list())"
    },
    "r": {
     "delete_cmd_postfix": ") ",
     "delete_cmd_prefix": "rm(",
     "library": "var_list.r",
     "varRefreshCmd": "cat(var_dic_list()) "
    }
   },
   "types_to_exclude": [
    "module",
    "function",
    "builtin_function_or_method",
    "instance",
    "_Feature"
   ],
   "window_display": false
  }
 },
 "nbformat": 4,
 "nbformat_minor": 2
}
