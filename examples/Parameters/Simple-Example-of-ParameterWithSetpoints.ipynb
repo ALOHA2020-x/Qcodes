{
 "cells": [
  {
   "cell_type": "markdown",
   "metadata": {},
   "source": [
    "# Simple Example of ParameterWithSetpoints\n",
    "This notebook provides an example for writing a simple driver with a parameter that has setpoints. Let's name this parameter that has setpoints as \"y\". Then, the setpoints, say \"x1, x2, x3 ..\", are the parameters on which the parameter \n",
    "\"y\" depends upon. Meaning \"y\" is a function of \"x1, x2, x3 ...\" where \"x1, x2, x3 ...\" are known as the setpoints of parameter \"y\".\n",
    "\n",
    "This is most likely to be useful for instruments that return arrays of results. In this notebook, we will show an example of this."
   ]
  },
  {
   "cell_type": "code",
   "execution_count": 1,
   "metadata": {},
   "outputs": [],
   "source": [
    "import numpy as np\n",
    "import os"
   ]
  },
  {
   "cell_type": "code",
   "execution_count": 2,
   "metadata": {},
   "outputs": [
    {
     "name": "stdout",
     "output_type": "stream",
     "text": [
      "Logging hadn't been started.\n",
      "Activating auto-logging. Current session state plus future input saved.\n",
      "Filename       : /home/vsts/.qcodes/logs/command_history.log\n",
      "Mode           : append\n",
      "Output logging : True\n",
      "Raw input log  : False\n",
      "Timestamping   : True\n",
      "State          : active\n"
     ]
    },
    {
     "name": "stdout",
     "output_type": "stream",
     "text": [
      "Qcodes Logfile : /home/vsts/.qcodes/logs/200828-21566-qcodes.log\n"
     ]
    }
   ],
   "source": [
    "from qcodes.dataset.plotting import plot_dataset\n",
    "from qcodes.utils.validators import Numbers, Arrays\n",
    "from qcodes.instrument.base import Instrument\n",
    "from qcodes.dataset.measurements import Measurement"
   ]
  },
  {
   "cell_type": "code",
   "execution_count": 3,
   "metadata": {},
   "outputs": [],
   "source": [
    "from qcodes.dataset.sqlite.database import initialise_or_create_database_at\n",
    "from qcodes.dataset.experiment_container import load_or_create_experiment"
   ]
  },
  {
   "cell_type": "code",
   "execution_count": 4,
   "metadata": {},
   "outputs": [],
   "source": [
    "from qcodes.instrument.parameter import ParameterWithSetpoints, Parameter\n",
    "from qcodes.instrument.parameter import expand_setpoints_helper"
   ]
  },
  {
   "cell_type": "markdown",
   "metadata": {},
   "source": [
    "First, we define a dummy instrument that returns something like a frequency spectrum starting from a frequency given by `f_start` to a frequency given by `f_stop` in `n_points` steps. \n",
    "\n",
    "The extra functionality of the `ParameterWithSetpoints` is implemented by giving it a reference to one or more parameters that acts like its setpoints. \n",
    "\n",
    "To setup a `ParameterWithSetpoints` we have to do two things in addition to what we do for a normal parameter.\n",
    "\n",
    "* Define one or more parameter for the setpoints (one for each dimension of the array and let the `ParameterWithSetpoints` know that these are the setpoints.\n",
    "* Give both the setpoints parameter(s) and the `ParameterWithSetpoints` a `validator` of type `Arrays` with a shape. The shapes should be such that the combined shape of the setpoints matches the shape of the `ParameterWithSetpoints`. Note that if the shape changes with the setting of the instrument, it can be defined by another parameter as shown below. "
   ]
  },
  {
   "cell_type": "code",
   "execution_count": 5,
   "metadata": {},
   "outputs": [],
   "source": [
    "class GeneratedSetPoints(Parameter):\n",
    "    \"\"\"\n",
    "    A parameter that generates a setpoint array from start, stop and num points\n",
    "    parameters.\n",
    "    \"\"\"\n",
    "    def __init__(self, startparam, stopparam, numpointsparam, *args, **kwargs):\n",
    "        super().__init__(*args, **kwargs)\n",
    "        self._startparam = startparam\n",
    "        self._stopparam = stopparam\n",
    "        self._numpointsparam = numpointsparam\n",
    "\n",
    "    def get_raw(self):\n",
    "        return np.linspace(self._startparam(), self._stopparam(),\n",
    "                              self._numpointsparam())\n",
    "\n",
    "class DummyArray(ParameterWithSetpoints):\n",
    "    \n",
    "    def get_raw(self):\n",
    "        npoints = self.root_instrument.n_points.get_latest()\n",
    "        return np.random.rand(npoints)\n",
    "    \n",
    "\n",
    "class DummySpectrumAnalyzer(Instrument):\n",
    "    \n",
    "    def __init__(self, name, **kwargs):\n",
    "        \n",
    "        super().__init__(name, **kwargs)\n",
    "            \n",
    "\n",
    "        self.add_parameter('f_start',\n",
    "                           initial_value=0,\n",
    "                           unit='Hz',\n",
    "                           label='f start',\n",
    "                           vals=Numbers(0,1e3),\n",
    "                           get_cmd=None,\n",
    "                           set_cmd=None)\n",
    "\n",
    "        self.add_parameter('f_stop',\n",
    "                           unit='Hz',\n",
    "                           label='f stop',\n",
    "                           vals=Numbers(1,1e3),\n",
    "                           get_cmd=None,\n",
    "                           set_cmd=None)\n",
    "\n",
    "        self.add_parameter('n_points',\n",
    "                           unit='',\n",
    "                           initial_value=10,\n",
    "                           vals=Numbers(1,1e3),\n",
    "                           get_cmd=None,\n",
    "                           set_cmd=None)\n",
    "        \n",
    "        self.add_parameter('freq_axis',\n",
    "                           unit='Hz',\n",
    "                           label='Freq Axis',\n",
    "                           parameter_class=GeneratedSetPoints,\n",
    "                           startparam=self.f_start,\n",
    "                           stopparam=self.f_stop,\n",
    "                           numpointsparam=self.n_points,\n",
    "                           vals=Arrays(shape=(self.n_points.get_latest,)))\n",
    "                           \n",
    "        self.add_parameter('spectrum',\n",
    "                   unit='dBm',\n",
    "                   setpoints=(self.freq_axis,),\n",
    "                   label='Spectrum',\n",
    "                   parameter_class=DummyArray,\n",
    "                   vals=Arrays(shape=(self.n_points.get_latest,)))\n",
    "                "
   ]
  },
  {
   "cell_type": "markdown",
   "metadata": {},
   "source": [
    "In the above example, the shape is defined by the parameter `n_points` that defines how many samples our `DummySpectrumAnalyzer` returns.\n",
    "\n",
    "This means that the validation will call the function to get `n_points` twice for each `get` of the parameter. This may be too slow, however, if you (as the driver-writer) can guarantee that the cached value for `n_points` will never be out of sync with the value stored in the instrument, `n_points` may be replaced by it's latest known value such that the `validator` reads:\n",
    "```python\n",
    "vals=Arrays(shape=(self.n_points.get_latest))\n",
    "```\n",
    "\n",
    "This avoids any additional call to the instrument. In the same way, the arguments to the `freq_axis` parameter that defines the start, stop and number of points can be replaced by their latest value if the instrument allows it.\n",
    "\n"
   ]
  },
  {
   "cell_type": "code",
   "execution_count": 6,
   "metadata": {},
   "outputs": [
    {
     "name": "stdout",
     "output_type": "stream",
     "text": [
      "\r",
      "0it [00:00, ?it/s]"
     ]
    },
    {
     "name": "stdout",
     "output_type": "stream",
     "text": [
      "\r",
      "Upgrading database; v0 -> v1: : 0it [00:00, ?it/s]"
     ]
    },
    {
     "name": "stdout",
     "output_type": "stream",
     "text": [
      "\r",
      "Upgrading database; v0 -> v1: : 0it [00:00, ?it/s]"
     ]
    },
    {
     "name": "stdout",
     "output_type": "stream",
     "text": [
      "\n",
      "\r",
      "  0%|          | 0/1 [00:00<?, ?it/s]"
     ]
    },
    {
     "name": "stdout",
     "output_type": "stream",
     "text": [
      "\r",
      "Upgrading database; v1 -> v2:   0%|          | 0/1 [00:00<?, ?it/s]"
     ]
    },
    {
     "name": "stdout",
     "output_type": "stream",
     "text": [
      "\r",
      "Upgrading database; v1 -> v2: 100%|██████████| 1/1 [00:00<00:00, 524.03it/s]"
     ]
    },
    {
     "name": "stdout",
     "output_type": "stream",
     "text": [
      "\n",
      "\r",
      "0it [00:00, ?it/s]"
     ]
    },
    {
     "name": "stdout",
     "output_type": "stream",
     "text": [
      "\r",
      "Upgrading database; v2 -> v3: : 0it [00:00, ?it/s]"
     ]
    },
    {
     "name": "stdout",
     "output_type": "stream",
     "text": [
      "\r",
      "Upgrading database; v2 -> v3: : 0it [00:00, ?it/s]"
     ]
    },
    {
     "name": "stdout",
     "output_type": "stream",
     "text": [
      "\n",
      "\r",
      "0it [00:00, ?it/s]"
     ]
    },
    {
     "name": "stdout",
     "output_type": "stream",
     "text": [
      "\r",
      "Upgrading database; v3 -> v4: : 0it [00:00, ?it/s]"
     ]
    },
    {
     "name": "stdout",
     "output_type": "stream",
     "text": [
      "\r",
      "Upgrading database; v3 -> v4: : 0it [00:00, ?it/s]"
     ]
    },
    {
     "name": "stdout",
     "output_type": "stream",
     "text": [
      "\n",
      "\r",
      "  0%|          | 0/1 [00:00<?, ?it/s]"
     ]
    },
    {
     "name": "stdout",
     "output_type": "stream",
     "text": [
      "\r",
      "Upgrading database; v4 -> v5:   0%|          | 0/1 [00:00<?, ?it/s]"
     ]
    },
    {
     "name": "stdout",
     "output_type": "stream",
     "text": [
      "\r",
      "Upgrading database; v4 -> v5: 100%|██████████| 1/1 [00:00<00:00, 916.19it/s]"
     ]
    },
    {
     "name": "stdout",
     "output_type": "stream",
     "text": [
      "\n",
      "\r",
      "0it [00:00, ?it/s]"
     ]
    },
    {
     "name": "stdout",
     "output_type": "stream",
     "text": [
      "\r",
      "Upgrading database; v5 -> v6: : 0it [00:00, ?it/s]"
     ]
    },
    {
     "name": "stdout",
     "output_type": "stream",
     "text": [
      "\r",
      "Upgrading database; v5 -> v6: : 0it [00:00, ?it/s]"
     ]
    },
    {
     "name": "stdout",
     "output_type": "stream",
     "text": [
      "\n",
      "\r",
      "  0%|          | 0/1 [00:00<?, ?it/s]"
     ]
    },
    {
     "name": "stdout",
     "output_type": "stream",
     "text": [
      "\r",
      "Upgrading database; v6 -> v7:   0%|          | 0/1 [00:00<?, ?it/s]"
     ]
    },
    {
     "name": "stdout",
     "output_type": "stream",
     "text": [
      "\r",
      "Upgrading database; v6 -> v7: 100%|██████████| 1/1 [00:00<00:00, 309.95it/s]"
     ]
    },
    {
     "name": "stdout",
     "output_type": "stream",
     "text": [
      "\n",
      "\r",
      "  0%|          | 0/1 [00:00<?, ?it/s]"
     ]
    },
    {
     "name": "stdout",
     "output_type": "stream",
     "text": [
      "\r",
      "Upgrading database; v7 -> v8:   0%|          | 0/1 [00:00<?, ?it/s]"
     ]
    },
    {
     "name": "stdout",
     "output_type": "stream",
     "text": [
      "\r",
      "Upgrading database; v7 -> v8: 100%|██████████| 1/1 [00:00<00:00, 753.56it/s]"
     ]
    },
    {
     "name": "stdout",
     "output_type": "stream",
     "text": [
      "\n",
      "\r",
      "  0%|          | 0/1 [00:00<?, ?it/s]"
     ]
    },
    {
     "name": "stdout",
     "output_type": "stream",
     "text": [
      "\r",
      "Upgrading database; v8 -> v9:   0%|          | 0/1 [00:00<?, ?it/s]"
     ]
    },
    {
     "name": "stdout",
     "output_type": "stream",
     "text": [
      "\r",
      "Upgrading database; v8 -> v9: 100%|██████████| 1/1 [00:00<00:00, 900.26it/s]"
     ]
    },
    {
     "name": "stdout",
     "output_type": "stream",
     "text": [
      "\n"
     ]
    },
    {
     "data": {
      "text/plain": [
       "tutorial_ParameterWithSetpoints#no sample#1@/home/vsts/work/1/s/docs/examples/Parameters/tutorial_paramter_with_setpoints.db\n",
       "----------------------------------------------------------------------------------------------------------------------------"
      ]
     },
     "execution_count": 6,
     "metadata": {},
     "output_type": "execute_result"
    }
   ],
   "source": [
    "tutorial_db_path = os.path.join(os.getcwd(), 'tutorial_paramter_with_setpoints.db')\n",
    "initialise_or_create_database_at(tutorial_db_path)\n",
    "load_or_create_experiment(experiment_name='tutorial_ParameterWithSetpoints', sample_name=\"no sample\")"
   ]
  },
  {
   "cell_type": "code",
   "execution_count": 7,
   "metadata": {},
   "outputs": [],
   "source": [
    "a = DummySpectrumAnalyzer('foobar')"
   ]
  },
  {
   "cell_type": "markdown",
   "metadata": {},
   "source": [
    "First we setup the limits of the spectrum"
   ]
  },
  {
   "cell_type": "code",
   "execution_count": 8,
   "metadata": {},
   "outputs": [],
   "source": [
    "a.f_start(0)\n",
    "a.f_stop(500)\n",
    "a.n_points(501)"
   ]
  },
  {
   "cell_type": "markdown",
   "metadata": {},
   "source": [
    "And we can grab the frequency axis"
   ]
  },
  {
   "cell_type": "code",
   "execution_count": 9,
   "metadata": {},
   "outputs": [
    {
     "data": {
      "text/plain": [
       "501"
      ]
     },
     "execution_count": 9,
     "metadata": {},
     "output_type": "execute_result"
    }
   ],
   "source": [
    "a.n_points()"
   ]
  },
  {
   "cell_type": "code",
   "execution_count": 10,
   "metadata": {
    "scrolled": false
   },
   "outputs": [
    {
     "data": {
      "text/plain": [
       "501"
      ]
     },
     "execution_count": 10,
     "metadata": {},
     "output_type": "execute_result"
    }
   ],
   "source": [
    "freq_axis = a.freq_axis()\n",
    "len(freq_axis)"
   ]
  },
  {
   "cell_type": "code",
   "execution_count": 11,
   "metadata": {},
   "outputs": [
    {
     "data": {
      "text/plain": [
       "array([0., 1., 2., 3., 4., 5., 6., 7., 8., 9.])"
      ]
     },
     "execution_count": 11,
     "metadata": {},
     "output_type": "execute_result"
    }
   ],
   "source": [
    "freq_axis[:10]"
   ]
  },
  {
   "cell_type": "markdown",
   "metadata": {},
   "source": [
    "As expected we get a result wit 501 points as we asked for an axis with 501 points. "
   ]
  },
  {
   "cell_type": "markdown",
   "metadata": {},
   "source": [
    "Above we have added a validator to the `freq_axis` parameter encoding the fact that this is an Array with `n_points`. Note that we do not have to supply the number of points as an integer but can supply a function that returns the valid number of points. This would normally be a QCoDeS parameter.\n",
    "\n",
    "This will be checked if we validate the output."
   ]
  },
  {
   "cell_type": "code",
   "execution_count": 12,
   "metadata": {},
   "outputs": [],
   "source": [
    "a.freq_axis.validate(a.freq_axis.get())"
   ]
  },
  {
   "cell_type": "markdown",
   "metadata": {},
   "source": [
    "Naturally, we can also get the spectrum. Getting the spectrum will automatically perform validation both for the shape of the parameter itself and the relation to the setpoint parameter(s)"
   ]
  },
  {
   "cell_type": "code",
   "execution_count": 13,
   "metadata": {
    "scrolled": true
   },
   "outputs": [
    {
     "data": {
      "text/plain": [
       "501"
      ]
     },
     "execution_count": 13,
     "metadata": {},
     "output_type": "execute_result"
    }
   ],
   "source": [
    "spectrum = a.spectrum.get()\n",
    "len(spectrum)"
   ]
  },
  {
   "cell_type": "markdown",
   "metadata": {},
   "source": [
    "When we validate a `ParameterWithSetpoints`, we automatically validate that the shape is consistent between the parameters and its setpoints. As well as validating the shape as above."
   ]
  },
  {
   "cell_type": "code",
   "execution_count": 14,
   "metadata": {},
   "outputs": [],
   "source": [
    "a.spectrum.validate(a.spectrum.get())"
   ]
  },
  {
   "cell_type": "markdown",
   "metadata": {},
   "source": [
    "The consistent shapes can be validated explicitly."
   ]
  },
  {
   "cell_type": "code",
   "execution_count": 15,
   "metadata": {},
   "outputs": [],
   "source": [
    "a.spectrum.validate_consistent_shape()"
   ]
  },
  {
   "cell_type": "markdown",
   "metadata": {},
   "source": [
    "We can inspect the setpoints of the spectrum."
   ]
  },
  {
   "cell_type": "code",
   "execution_count": 16,
   "metadata": {},
   "outputs": [
    {
     "data": {
      "text/plain": [
       "(<__main__.GeneratedSetPoints: freq_axis at 140244063489296>,)"
      ]
     },
     "execution_count": 16,
     "metadata": {},
     "output_type": "execute_result"
    }
   ],
   "source": [
    "a.spectrum.setpoints"
   ]
  },
  {
   "cell_type": "markdown",
   "metadata": {},
   "source": [
    "Or even change them."
   ]
  },
  {
   "cell_type": "code",
   "execution_count": 17,
   "metadata": {},
   "outputs": [],
   "source": [
    "a.spectrum.setpoints = (a.freq_axis,)"
   ]
  },
  {
   "cell_type": "markdown",
   "metadata": {},
   "source": [
    "## Measurement"
   ]
  },
  {
   "cell_type": "markdown",
   "metadata": {},
   "source": [
    "We can also directly consume the parameter in a measurement without defining the setpoints of the parameter again. The setpoints are automatically obtained from the definition of the `ParameterWithSetpoint` instance. "
   ]
  },
  {
   "cell_type": "code",
   "execution_count": 18,
   "metadata": {},
   "outputs": [
    {
     "name": "stdout",
     "output_type": "stream",
     "text": [
      "Starting experimental run with id: 1. \n"
     ]
    }
   ],
   "source": [
    "meas = Measurement()\n",
    "meas.register_parameter(a.spectrum)\n",
    "\n",
    "with meas.run() as datasaver:\n",
    "    datasaver.add_result((a.freq_axis, a.freq_axis()),\n",
    "                         (a.spectrum, a.spectrum()))\n",
    "    dataset = datasaver.dataset"
   ]
  },
  {
   "cell_type": "markdown",
   "metadata": {},
   "source": [
    "And plot it"
   ]
  },
  {
   "cell_type": "code",
   "execution_count": 19,
   "metadata": {},
   "outputs": [
    {
     "data": {
      "text/plain": [
       "([<matplotlib.axes._subplots.AxesSubplot at 0x7f8d1d106910>], [None])"
      ]
     },
     "execution_count": 19,
     "metadata": {},
     "output_type": "execute_result"
    },
    {
     "data": {
      "image/png": "[encoded data removed]",
      "text/plain": [
       "<Figure size 432x288 with 1 Axes>"
      ]
     },
     "metadata": {
      "needs_background": "light"
     },
     "output_type": "display_data"
    }
   ],
   "source": [
    "plot_dataset(dataset)"
   ]
  },
  {
   "cell_type": "markdown",
   "metadata": {},
   "source": [
    "To reduce the amount of typing a simple convenience function is provided that will take a `ParameterWithSetpoints` and get both its values and the setpoints values and return them as tuples for direct insertion into the Dataset."
   ]
  },
  {
   "cell_type": "code",
   "execution_count": 20,
   "metadata": {
    "scrolled": true
   },
   "outputs": [
    {
     "data": {
      "text/plain": [
       "[(<__main__.GeneratedSetPoints: freq_axis at 140244063489296>,\n",
       "  array([  0.,   1.,   2.,   3.,   4.,   5.,   6.,   7.,   8.,   9.,  10.,\n",
       "          11.,  12.,  13.,  14.,  15.,  16.,  17.,  18.,  19.,  20.,  21.,\n",
       "          22.,  23.,  24.,  25.,  26.,  27.,  28.,  29.,  30.,  31.,  32.,\n",
       "          33.,  34.,  35.,  36.,  37.,  38.,  39.,  40.,  41.,  42.,  43.,\n",
       "          44.,  45.,  46.,  47.,  48.,  49.,  50.,  51.,  52.,  53.,  54.,\n",
       "          55.,  56.,  57.,  58.,  59.,  60.,  61.,  62.,  63.,  64.,  65.,\n",
       "          66.,  67.,  68.,  69.,  70.,  71.,  72.,  73.,  74.,  75.,  76.,\n",
       "          77.,  78.,  79.,  80.,  81.,  82.,  83.,  84.,  85.,  86.,  87.,\n",
       "          88.,  89.,  90.,  91.,  92.,  93.,  94.,  95.,  96.,  97.,  98.,\n",
       "          99., 100., 101., 102., 103., 104., 105., 106., 107., 108., 109.,\n",
       "         110., 111., 112., 113., 114., 115., 116., 117., 118., 119., 120.,\n",
       "         121., 122., 123., 124., 125., 126., 127., 128., 129., 130., 131.,\n",
       "         132., 133., 134., 135., 136., 137., 138., 139., 140., 141., 142.,\n",
       "         143., 144., 145., 146., 147., 148., 149., 150., 151., 152., 153.,\n",
       "         154., 155., 156., 157., 158., 159., 160., 161., 162., 163., 164.,\n",
       "         165., 166., 167., 168., 169., 170., 171., 172., 173., 174., 175.,\n",
       "         176., 177., 178., 179., 180., 181., 182., 183., 184., 185., 186.,\n",
       "         187., 188., 189., 190., 191., 192., 193., 194., 195., 196., 197.,\n",
       "         198., 199., 200., 201., 202., 203., 204., 205., 206., 207., 208.,\n",
       "         209., 210., 211., 212., 213., 214., 215., 216., 217., 218., 219.,\n",
       "         220., 221., 222., 223., 224., 225., 226., 227., 228., 229., 230.,\n",
       "         231., 232., 233., 234., 235., 236., 237., 238., 239., 240., 241.,\n",
       "         242., 243., 244., 245., 246., 247., 248., 249., 250., 251., 252.,\n",
       "         253., 254., 255., 256., 257., 258., 259., 260., 261., 262., 263.,\n",
       "         264., 265., 266., 267., 268., 269., 270., 271., 272., 273., 274.,\n",
       "         275., 276., 277., 278., 279., 280., 281., 282., 283., 284., 285.,\n",
       "         286., 287., 288., 289., 290., 291., 292., 293., 294., 295., 296.,\n",
       "         297., 298., 299., 300., 301., 302., 303., 304., 305., 306., 307.,\n",
       "         308., 309., 310., 311., 312., 313., 314., 315., 316., 317., 318.,\n",
       "         319., 320., 321., 322., 323., 324., 325., 326., 327., 328., 329.,\n",
       "         330., 331., 332., 333., 334., 335., 336., 337., 338., 339., 340.,\n",
       "         341., 342., 343., 344., 345., 346., 347., 348., 349., 350., 351.,\n",
       "         352., 353., 354., 355., 356., 357., 358., 359., 360., 361., 362.,\n",
       "         363., 364., 365., 366., 367., 368., 369., 370., 371., 372., 373.,\n",
       "         374., 375., 376., 377., 378., 379., 380., 381., 382., 383., 384.,\n",
       "         385., 386., 387., 388., 389., 390., 391., 392., 393., 394., 395.,\n",
       "         396., 397., 398., 399., 400., 401., 402., 403., 404., 405., 406.,\n",
       "         407., 408., 409., 410., 411., 412., 413., 414., 415., 416., 417.,\n",
       "         418., 419., 420., 421., 422., 423., 424., 425., 426., 427., 428.,\n",
       "         429., 430., 431., 432., 433., 434., 435., 436., 437., 438., 439.,\n",
       "         440., 441., 442., 443., 444., 445., 446., 447., 448., 449., 450.,\n",
       "         451., 452., 453., 454., 455., 456., 457., 458., 459., 460., 461.,\n",
       "         462., 463., 464., 465., 466., 467., 468., 469., 470., 471., 472.,\n",
       "         473., 474., 475., 476., 477., 478., 479., 480., 481., 482., 483.,\n",
       "         484., 485., 486., 487., 488., 489., 490., 491., 492., 493., 494.,\n",
       "         495., 496., 497., 498., 499., 500.])),\n",
       " (<__main__.DummyArray: spectrum at 140244063488080>,\n",
       "  array([6.93690005e-01, 3.21553261e-01, 3.45297045e-01, 3.94843920e-01,\n",
       "         5.90891716e-01, 8.03751439e-01, 5.35967806e-01, 3.08155630e-01,\n",
       "         3.19816075e-01, 4.98473674e-02, 5.99626738e-01, 6.82630173e-01,\n",
       "         6.72282171e-01, 7.47598797e-01, 1.53517150e-01, 2.79959556e-01,\n",
       "         8.81645555e-02, 3.16912998e-01, 2.81425266e-01, 7.67162275e-01,\n",
       "         6.00418472e-01, 6.27215366e-01, 6.61377047e-01, 8.80867636e-01,\n",
       "         7.02100371e-01, 3.25130791e-01, 3.89900714e-01, 7.79263633e-01,\n",
       "         5.84378527e-01, 8.89422806e-01, 8.09638260e-01, 2.74262273e-01,\n",
       "         2.83237954e-01, 7.75299474e-02, 1.77241198e-01, 8.71786407e-01,\n",
       "         1.93960916e-01, 2.53838893e-01, 7.45652146e-01, 4.73893055e-01,\n",
       "         8.99363355e-01, 6.47725345e-01, 3.19201037e-01, 9.15622141e-01,\n",
       "         4.30756236e-01, 6.36282475e-01, 2.80292944e-01, 4.20471694e-01,\n",
       "         8.36039817e-01, 9.57523333e-01, 6.55231188e-01, 2.54765114e-01,\n",
       "         1.83802395e-01, 7.74591427e-01, 4.89731012e-01, 3.59701890e-01,\n",
       "         6.22224763e-01, 4.27029947e-03, 4.30669662e-01, 4.89527574e-01,\n",
       "         2.82676683e-01, 3.27754692e-02, 7.83795907e-01, 5.87717176e-01,\n",
       "         8.76420434e-01, 7.21815777e-01, 5.23258212e-01, 3.48325461e-01,\n",
       "         6.30947917e-02, 2.77192426e-01, 7.14399299e-01, 6.48500358e-01,\n",
       "         1.70945203e-01, 4.62211343e-01, 7.12224766e-01, 6.31216020e-01,\n",
       "         2.67475678e-01, 8.76169136e-01, 5.99385353e-02, 1.92930713e-01,\n",
       "         7.14680507e-01, 2.09144394e-01, 3.95687138e-01, 6.27659919e-01,\n",
       "         3.79128235e-01, 1.12542918e-02, 4.48400691e-01, 4.10540934e-01,\n",
       "         2.22060067e-01, 9.33252163e-01, 7.95267365e-01, 9.09691971e-01,\n",
       "         1.87983128e-01, 5.81932753e-01, 8.74252322e-01, 7.46214982e-01,\n",
       "         7.55866495e-01, 5.37304681e-01, 9.51788640e-01, 6.16885620e-01,\n",
       "         5.29537839e-02, 8.78706495e-01, 5.10166615e-01, 7.64793433e-01,\n",
       "         5.04239756e-01, 7.05938460e-02, 9.89023179e-01, 1.56735961e-01,\n",
       "         3.11879227e-01, 8.08718260e-01, 5.59754922e-01, 9.20913334e-01,\n",
       "         8.15353225e-01, 3.09783529e-01, 7.11528321e-02, 1.76466011e-01,\n",
       "         9.80878784e-01, 2.91198735e-01, 5.91321881e-01, 5.48893286e-01,\n",
       "         4.82284166e-01, 5.42299316e-01, 9.07644407e-01, 8.22109659e-01,\n",
       "         7.68563457e-01, 3.99779769e-02, 7.38848991e-02, 7.20685513e-01,\n",
       "         4.34278138e-01, 8.74483620e-01, 6.12899347e-01, 5.02530074e-01,\n",
       "         6.33358756e-01, 4.86648385e-01, 8.76708005e-01, 7.15703568e-01,\n",
       "         4.14132984e-01, 4.60334784e-01, 5.28891368e-01, 3.85726526e-01,\n",
       "         8.52157341e-01, 3.82651565e-02, 2.65262719e-01, 5.85294877e-01,\n",
       "         7.28631313e-01, 9.09395241e-01, 3.42563329e-01, 7.45630413e-01,\n",
       "         5.63006926e-01, 3.51882256e-02, 9.01904233e-01, 7.84309612e-01,\n",
       "         7.46103724e-01, 5.13280566e-01, 2.56016867e-01, 9.14526613e-01,\n",
       "         9.55128804e-01, 5.44562824e-01, 8.50618751e-01, 1.33515442e-01,\n",
       "         5.83892610e-02, 2.66524045e-01, 3.25766672e-01, 2.92344235e-01,\n",
       "         1.91505995e-01, 1.04368968e-01, 4.09304591e-01, 1.49397063e-02,\n",
       "         3.06947799e-01, 2.13341575e-01, 9.37108350e-01, 7.64087823e-01,\n",
       "         5.50122944e-01, 8.81633483e-01, 8.97663704e-02, 3.83572151e-01,\n",
       "         2.46414391e-01, 9.06952681e-01, 3.69345535e-01, 2.05500482e-01,\n",
       "         4.00654477e-01, 9.43081120e-01, 8.72536222e-01, 9.68996951e-01,\n",
       "         5.94860039e-01, 4.62784868e-01, 8.44168258e-02, 4.68288720e-02,\n",
       "         2.41753658e-01, 6.74080776e-01, 4.34501324e-01, 3.27085735e-01,\n",
       "         4.59448442e-01, 7.05373757e-01, 8.22220847e-01, 5.22334311e-01,\n",
       "         2.99982896e-01, 1.62243002e-01, 2.44283436e-01, 3.83322776e-02,\n",
       "         5.01147524e-01, 4.42644144e-01, 5.99456951e-01, 3.67139519e-01,\n",
       "         7.22486377e-01, 5.69459245e-01, 9.10213502e-01, 3.24091203e-01,\n",
       "         3.12575151e-01, 3.53962015e-01, 7.30836799e-01, 1.43638645e-01,\n",
       "         6.73027665e-01, 1.71863252e-01, 8.19361780e-02, 9.95797761e-02,\n",
       "         7.13036109e-01, 5.98271948e-01, 1.66671391e-01, 1.30161345e-01,\n",
       "         7.80866311e-02, 1.72712048e-01, 7.83852513e-02, 2.14069966e-01,\n",
       "         9.42335563e-01, 3.77697963e-01, 1.71579729e-01, 8.27265895e-01,\n",
       "         6.95812054e-01, 1.85281062e-01, 4.48854466e-01, 9.48735308e-01,\n",
       "         1.64116938e-02, 5.34338367e-01, 9.22939423e-01, 6.07726672e-02,\n",
       "         4.88584288e-01, 4.45067705e-01, 8.98515769e-01, 9.52643693e-01,\n",
       "         7.02895016e-01, 4.11543112e-01, 5.22285454e-01, 5.10137827e-01,\n",
       "         9.06975261e-01, 4.68318081e-01, 7.29679349e-01, 1.17418278e-01,\n",
       "         2.92096354e-01, 7.20320991e-01, 8.45968715e-01, 4.21635425e-01,\n",
       "         8.98614314e-01, 4.98975187e-01, 5.72213161e-01, 4.07880415e-01,\n",
       "         5.68205007e-01, 8.59839441e-01, 4.88188452e-01, 7.12243957e-01,\n",
       "         7.83520373e-01, 9.60600247e-01, 2.91881989e-01, 4.39352797e-01,\n",
       "         7.16666730e-01, 1.58742545e-04, 4.29928466e-01, 6.64955841e-01,\n",
       "         3.42607838e-01, 6.18827472e-01, 3.87294707e-01, 6.59233989e-01,\n",
       "         7.28691632e-01, 8.46253026e-02, 4.56408823e-01, 6.27287837e-01,\n",
       "         5.44250491e-01, 3.10445640e-01, 4.66819788e-01, 1.30561225e-02,\n",
       "         6.60921091e-01, 5.61328693e-01, 4.81926071e-01, 2.75756672e-01,\n",
       "         4.52843315e-01, 6.02194166e-01, 4.84720974e-01, 5.56354652e-01,\n",
       "         4.62241035e-01, 1.71992184e-01, 6.88721337e-02, 9.14899297e-01,\n",
       "         1.37580493e-01, 9.10381505e-01, 8.34442888e-01, 1.05277263e-01,\n",
       "         3.65518977e-01, 4.26974460e-01, 4.45227837e-01, 6.76863087e-01,\n",
       "         2.24760163e-01, 5.20091639e-01, 6.46317308e-01, 5.03483974e-01,\n",
       "         8.97990293e-01, 2.59265920e-01, 2.96180174e-01, 3.02852921e-01,\n",
       "         9.68749215e-01, 1.61382545e-01, 8.68266553e-01, 6.29625115e-01,\n",
       "         5.08648365e-01, 7.89337252e-02, 5.60201978e-01, 2.06500830e-01,\n",
       "         6.51117482e-01, 6.06387189e-01, 9.66402754e-01, 7.42135138e-01,\n",
       "         9.00136652e-01, 6.95297131e-01, 5.49575863e-01, 5.75260437e-01,\n",
       "         9.29242983e-01, 9.69761113e-01, 1.86421957e-01, 6.20361436e-01,\n",
       "         2.48873686e-01, 9.97020602e-01, 2.58012789e-01, 5.66744247e-01,\n",
       "         7.80209061e-01, 3.97682385e-01, 5.31574054e-01, 4.47059056e-01,\n",
       "         3.02558948e-01, 9.59565121e-01, 9.16832177e-01, 6.34295229e-01,\n",
       "         5.86017505e-01, 3.49610134e-01, 1.37675144e-01, 1.30232092e-01,\n",
       "         6.25252197e-01, 7.46593560e-01, 5.59541950e-02, 2.54105706e-01,\n",
       "         7.24425912e-02, 1.68359700e-01, 2.90208020e-01, 6.79924038e-01,\n",
       "         1.32201465e-01, 3.96786214e-01, 7.58092824e-01, 9.61788691e-01,\n",
       "         3.79883212e-01, 3.16857547e-01, 6.69084097e-01, 1.25267919e-02,\n",
       "         5.55790677e-01, 9.96461537e-01, 6.00784071e-01, 6.09791048e-01,\n",
       "         3.20271543e-01, 9.49583016e-01, 8.73929682e-01, 1.80703465e-02,\n",
       "         4.03646095e-01, 8.03761911e-01, 5.11842760e-01, 1.15340077e-01,\n",
       "         7.20006346e-01, 3.40248715e-01, 5.38550423e-01, 6.19443868e-01,\n",
       "         4.91059417e-01, 6.88682890e-01, 9.71787060e-01, 1.75760192e-01,\n",
       "         3.74716798e-01, 8.63509794e-01, 9.69162684e-02, 2.66508133e-01,\n",
       "         4.81242468e-01, 6.43972529e-01, 5.44046723e-01, 1.46096340e-01,\n",
       "         2.01853278e-01, 5.99028991e-01, 7.23246702e-01, 5.73148704e-01,\n",
       "         9.26164010e-01, 5.81726403e-01, 6.64242873e-01, 5.35557430e-01,\n",
       "         3.41261888e-01, 8.54262952e-01, 5.65127375e-01, 5.41610959e-01,\n",
       "         1.61022483e-01, 4.62492751e-01, 3.57490623e-01, 2.88339763e-02,\n",
       "         2.43106078e-01, 5.60173013e-01, 9.69633850e-01, 6.09643897e-01,\n",
       "         5.01407924e-01, 8.45913381e-01, 6.94406503e-01, 5.42030065e-02,\n",
       "         8.23693099e-01, 5.67608750e-01, 1.35107899e-01, 4.96165664e-01,\n",
       "         6.95066082e-01, 9.42498112e-01, 3.46224068e-01, 2.65523728e-01,\n",
       "         2.86151924e-01, 8.76376263e-01, 5.71751375e-01, 4.39522158e-01,\n",
       "         3.85021582e-01, 9.59361109e-01, 8.43495037e-01, 2.06961173e-02,\n",
       "         1.20073026e-01, 6.92349067e-01, 3.36137107e-01, 4.27319601e-02,\n",
       "         4.54487267e-01, 1.56212887e-02, 3.76573465e-01, 5.68365320e-01,\n",
       "         6.82036893e-01, 1.00427797e-01, 2.19679359e-01, 1.61641245e-01,\n",
       "         1.61027812e-01, 1.52456220e-02, 8.77082751e-01, 5.89645404e-01,\n",
       "         7.51180616e-01, 3.28821251e-01, 3.60063235e-02, 6.05370639e-01,\n",
       "         3.72982821e-01, 1.85643303e-01, 9.02094811e-01, 3.55710683e-01,\n",
       "         1.02810421e-01, 2.01487684e-01, 5.37911433e-01, 2.41690217e-01,\n",
       "         5.52190431e-01, 9.21685080e-01, 2.65410609e-01, 3.67744965e-01,\n",
       "         1.81768595e-01, 4.48573977e-01, 3.91453088e-02, 2.23680047e-01,\n",
       "         1.90953420e-01, 1.39295708e-01, 4.24625341e-01, 2.26018811e-01,\n",
       "         4.42716703e-01, 7.98218455e-01, 9.78235813e-01, 6.17968234e-01,\n",
       "         1.54594352e-01, 8.27247379e-01, 5.88325474e-01, 3.31093301e-01,\n",
       "         8.18215292e-01, 9.53070353e-01, 8.16613286e-01, 7.38758479e-01,\n",
       "         3.64060541e-01, 1.68554837e-01, 4.67720988e-01, 4.24391474e-01,\n",
       "         1.37788892e-01, 3.59402402e-01, 9.69922189e-01, 2.85036305e-01,\n",
       "         4.48227227e-01, 2.87888938e-01, 5.03289850e-01, 2.75377821e-01,\n",
       "         2.40819205e-01, 1.66043246e-01, 4.22221549e-01, 9.98514708e-01,\n",
       "         1.72451393e-01, 5.68962666e-01, 3.27128684e-01, 6.08246979e-02,\n",
       "         3.99123881e-01]))]"
      ]
     },
     "execution_count": 20,
     "metadata": {},
     "output_type": "execute_result"
    }
   ],
   "source": [
    "expand_setpoints_helper(a.spectrum)"
   ]
  },
  {
   "cell_type": "code",
   "execution_count": 21,
   "metadata": {},
   "outputs": [
    {
     "name": "stdout",
     "output_type": "stream",
     "text": [
      "Starting experimental run with id: 2. \n"
     ]
    }
   ],
   "source": [
    "meas = Measurement()\n",
    "meas.register_parameter(a.spectrum)\n",
    "\n",
    "with meas.run() as datasaver:\n",
    "    datasaver.add_result(*expand_setpoints_helper(a.spectrum))\n",
    "    \n",
    "    dataid = datasaver.run_id"
   ]
  },
  {
   "cell_type": "code",
   "execution_count": null,
   "metadata": {},
   "outputs": [],
   "source": []
  }
 ],
 "metadata": {
  "kernelspec": {
   "display_name": "Python 3",
   "language": "python",
   "name": "python3"
  },
  "language_info": {
   "codemirror_mode": {
    "name": "ipython",
    "version": 3
   },
   "file_extension": ".py",
   "mimetype": "text/x-python",
   "name": "python",
   "nbconvert_exporter": "python",
   "pygments_lexer": "ipython3",
   "version": "3.7.7"
  },
  "toc": {
   "base_numbering": 1,
   "nav_menu": {},
   "number_sections": true,
   "sideBar": true,
   "skip_h1_title": false,
   "title_cell": "Table of Contents",
   "title_sidebar": "Contents",
   "toc_cell": false,
   "toc_position": {},
   "toc_section_display": true,
   "toc_window_display": false
  },
  "varInspector": {
   "cols": {
    "lenName": 16,
    "lenType": 16,
    "lenVar": 40
   },
   "kernels_config": {
    "python": {
     "delete_cmd_postfix": "",
     "delete_cmd_prefix": "del ",
     "library": "var_list.py",
     "varRefreshCmd": "print(var_dic_list())"
    },
    "r": {
     "delete_cmd_postfix": ") ",
     "delete_cmd_prefix": "rm(",
     "library": "var_list.r",
     "varRefreshCmd": "cat(var_dic_list()) "
    }
   },
   "types_to_exclude": [
    "module",
    "function",
    "builtin_function_or_method",
    "instance",
    "_Feature"
   ],
   "window_display": false
  }
 },
 "nbformat": 4,
 "nbformat_minor": 2
}
