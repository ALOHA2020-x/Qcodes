{
 "cells": [
  {
   "cell_type": "markdown",
   "metadata": {},
   "source": [
    "# Simple Example of ParameterWithSetpoints\n",
    "This notebook provides an example for writing a simple driver with a parameter that has setpoints. Let's name this parameter that has setpoints as \"y\". Then, the setpoints, say \"x1, x2, x3 ..\", are the parameters on which the parameter \n",
    "\"y\" depends upon. Meaning \"y\" is a function of \"x1, x2, x3 ...\" where \"x1, x2, x3 ...\" are known as the setpoints of parameter \"y\".\n",
    "\n",
    "This is most likely to be useful for instruments that return arrays of results. In this notebook, we will show an example of this."
   ]
  },
  {
   "cell_type": "code",
   "execution_count": 1,
   "metadata": {
    "execution": {
     "iopub.execute_input": "2020-09-21T09:46:30.246013Z",
     "iopub.status.busy": "2020-09-21T09:46:30.245398Z",
     "iopub.status.idle": "2020-09-21T09:46:30.365860Z",
     "shell.execute_reply": "2020-09-21T09:46:30.365233Z"
    }
   },
   "outputs": [],
   "source": [
    "import numpy as np\n",
    "import os"
   ]
  },
  {
   "cell_type": "code",
   "execution_count": 2,
   "metadata": {
    "execution": {
     "iopub.execute_input": "2020-09-21T09:46:30.371469Z",
     "iopub.status.busy": "2020-09-21T09:46:30.370830Z",
     "iopub.status.idle": "2020-09-21T09:46:31.763461Z",
     "shell.execute_reply": "2020-09-21T09:46:31.763958Z"
    }
   },
   "outputs": [
    {
     "name": "stdout",
     "output_type": "stream",
     "text": [
      "Logging hadn't been started.\n",
      "Activating auto-logging. Current session state plus future input saved.\n",
      "Filename       : /home/vsts/.qcodes/logs/command_history.log\n",
      "Mode           : append\n",
      "Output logging : True\n",
      "Raw input log  : False\n",
      "Timestamping   : True\n",
      "State          : active\n"
     ]
    },
    {
     "name": "stdout",
     "output_type": "stream",
     "text": [
      "Qcodes Logfile : /home/vsts/.qcodes/logs/200921-21939-qcodes.log\n"
     ]
    }
   ],
   "source": [
    "from qcodes.dataset.plotting import plot_dataset\n",
    "from qcodes.utils.validators import Numbers, Arrays\n",
    "from qcodes.instrument.base import Instrument\n",
    "from qcodes.dataset.measurements import Measurement"
   ]
  },
  {
   "cell_type": "code",
   "execution_count": 3,
   "metadata": {
    "execution": {
     "iopub.execute_input": "2020-09-21T09:46:31.769170Z",
     "iopub.status.busy": "2020-09-21T09:46:31.768559Z",
     "iopub.status.idle": "2020-09-21T09:46:31.773073Z",
     "shell.execute_reply": "2020-09-21T09:46:31.772519Z"
    }
   },
   "outputs": [],
   "source": [
    "from qcodes.dataset.sqlite.database import initialise_or_create_database_at\n",
    "from qcodes.dataset.experiment_container import load_or_create_experiment"
   ]
  },
  {
   "cell_type": "code",
   "execution_count": 4,
   "metadata": {
    "execution": {
     "iopub.execute_input": "2020-09-21T09:46:31.779060Z",
     "iopub.status.busy": "2020-09-21T09:46:31.777565Z",
     "iopub.status.idle": "2020-09-21T09:46:31.779659Z",
     "shell.execute_reply": "2020-09-21T09:46:31.780266Z"
    }
   },
   "outputs": [],
   "source": [
    "from qcodes.instrument.parameter import ParameterWithSetpoints, Parameter\n",
    "from qcodes.instrument.parameter import expand_setpoints_helper"
   ]
  },
  {
   "cell_type": "markdown",
   "metadata": {},
   "source": [
    "First, we define a dummy instrument that returns something like a frequency spectrum starting from a frequency given by `f_start` to a frequency given by `f_stop` in `n_points` steps. \n",
    "\n",
    "The extra functionality of the `ParameterWithSetpoints` is implemented by giving it a reference to one or more parameters that acts like its setpoints. \n",
    "\n",
    "To setup a `ParameterWithSetpoints` we have to do two things in addition to what we do for a normal parameter.\n",
    "\n",
    "* Define one or more parameter for the setpoints (one for each dimension of the array and let the `ParameterWithSetpoints` know that these are the setpoints.\n",
    "* Give both the setpoints parameter(s) and the `ParameterWithSetpoints` a `validator` of type `Arrays` with a shape. The shapes should be such that the combined shape of the setpoints matches the shape of the `ParameterWithSetpoints`. Note that if the shape changes with the setting of the instrument, it can be defined by another parameter as shown below. "
   ]
  },
  {
   "cell_type": "code",
   "execution_count": 5,
   "metadata": {
    "execution": {
     "iopub.execute_input": "2020-09-21T09:46:31.794271Z",
     "iopub.status.busy": "2020-09-21T09:46:31.792655Z",
     "iopub.status.idle": "2020-09-21T09:46:31.794851Z",
     "shell.execute_reply": "2020-09-21T09:46:31.795444Z"
    }
   },
   "outputs": [],
   "source": [
    "class GeneratedSetPoints(Parameter):\n",
    "    \"\"\"\n",
    "    A parameter that generates a setpoint array from start, stop and num points\n",
    "    parameters.\n",
    "    \"\"\"\n",
    "    def __init__(self, startparam, stopparam, numpointsparam, *args, **kwargs):\n",
    "        super().__init__(*args, **kwargs)\n",
    "        self._startparam = startparam\n",
    "        self._stopparam = stopparam\n",
    "        self._numpointsparam = numpointsparam\n",
    "\n",
    "    def get_raw(self):\n",
    "        return np.linspace(self._startparam(), self._stopparam(),\n",
    "                              self._numpointsparam())\n",
    "\n",
    "class DummyArray(ParameterWithSetpoints):\n",
    "    \n",
    "    def get_raw(self):\n",
    "        npoints = self.root_instrument.n_points.get_latest()\n",
    "        return np.random.rand(npoints)\n",
    "    \n",
    "\n",
    "class DummySpectrumAnalyzer(Instrument):\n",
    "    \n",
    "    def __init__(self, name, **kwargs):\n",
    "        \n",
    "        super().__init__(name, **kwargs)\n",
    "            \n",
    "\n",
    "        self.add_parameter('f_start',\n",
    "                           initial_value=0,\n",
    "                           unit='Hz',\n",
    "                           label='f start',\n",
    "                           vals=Numbers(0,1e3),\n",
    "                           get_cmd=None,\n",
    "                           set_cmd=None)\n",
    "\n",
    "        self.add_parameter('f_stop',\n",
    "                           unit='Hz',\n",
    "                           label='f stop',\n",
    "                           vals=Numbers(1,1e3),\n",
    "                           get_cmd=None,\n",
    "                           set_cmd=None)\n",
    "\n",
    "        self.add_parameter('n_points',\n",
    "                           unit='',\n",
    "                           initial_value=10,\n",
    "                           vals=Numbers(1,1e3),\n",
    "                           get_cmd=None,\n",
    "                           set_cmd=None)\n",
    "        \n",
    "        self.add_parameter('freq_axis',\n",
    "                           unit='Hz',\n",
    "                           label='Freq Axis',\n",
    "                           parameter_class=GeneratedSetPoints,\n",
    "                           startparam=self.f_start,\n",
    "                           stopparam=self.f_stop,\n",
    "                           numpointsparam=self.n_points,\n",
    "                           vals=Arrays(shape=(self.n_points.get_latest,)))\n",
    "                           \n",
    "        self.add_parameter('spectrum',\n",
    "                   unit='dBm',\n",
    "                   setpoints=(self.freq_axis,),\n",
    "                   label='Spectrum',\n",
    "                   parameter_class=DummyArray,\n",
    "                   vals=Arrays(shape=(self.n_points.get_latest,)))\n",
    "                "
   ]
  },
  {
   "cell_type": "markdown",
   "metadata": {},
   "source": [
    "In the above example, the shape is defined by the parameter `n_points` that defines how many samples our `DummySpectrumAnalyzer` returns.\n",
    "\n",
    "This means that the validation will call the function to get `n_points` twice for each `get` of the parameter. This may be too slow, however, if you (as the driver-writer) can guarantee that the cached value for `n_points` will never be out of sync with the value stored in the instrument, `n_points` may be replaced by it's latest known value such that the `validator` reads:\n",
    "```python\n",
    "vals=Arrays(shape=(self.n_points.get_latest))\n",
    "```\n",
    "\n",
    "This avoids any additional call to the instrument. In the same way, the arguments to the `freq_axis` parameter that defines the start, stop and number of points can be replaced by their latest value if the instrument allows it.\n",
    "\n"
   ]
  },
  {
   "cell_type": "code",
   "execution_count": 6,
   "metadata": {
    "execution": {
     "iopub.execute_input": "2020-09-21T09:46:31.800618Z",
     "iopub.status.busy": "2020-09-21T09:46:31.799738Z",
     "iopub.status.idle": "2020-09-21T09:46:31.898491Z",
     "shell.execute_reply": "2020-09-21T09:46:31.897921Z"
    }
   },
   "outputs": [
    {
     "name": "stdout",
     "output_type": "stream",
     "text": [
      "\r",
      "0it [00:00, ?it/s]"
     ]
    },
    {
     "name": "stdout",
     "output_type": "stream",
     "text": [
      "\r",
      "Upgrading database; v0 -> v1: : 0it [00:00, ?it/s]"
     ]
    },
    {
     "name": "stdout",
     "output_type": "stream",
     "text": [
      "\r",
      "Upgrading database; v0 -> v1: : 0it [00:00, ?it/s]"
     ]
    },
    {
     "name": "stdout",
     "output_type": "stream",
     "text": [
      "\n",
      "\r",
      "  0%|          | 0/1 [00:00<?, ?it/s]"
     ]
    },
    {
     "name": "stdout",
     "output_type": "stream",
     "text": [
      "\r",
      "Upgrading database; v1 -> v2:   0%|          | 0/1 [00:00<?, ?it/s]"
     ]
    },
    {
     "name": "stdout",
     "output_type": "stream",
     "text": [
      "\r",
      "Upgrading database; v1 -> v2: 100%|██████████| 1/1 [00:00<00:00, 469.42it/s]"
     ]
    },
    {
     "name": "stdout",
     "output_type": "stream",
     "text": [
      "\n",
      "\r",
      "0it [00:00, ?it/s]"
     ]
    },
    {
     "name": "stdout",
     "output_type": "stream",
     "text": [
      "\r",
      "Upgrading database; v2 -> v3: : 0it [00:00, ?it/s]"
     ]
    },
    {
     "name": "stdout",
     "output_type": "stream",
     "text": [
      "\r",
      "Upgrading database; v2 -> v3: : 0it [00:00, ?it/s]"
     ]
    },
    {
     "name": "stdout",
     "output_type": "stream",
     "text": [
      "\n",
      "\r",
      "0it [00:00, ?it/s]"
     ]
    },
    {
     "name": "stdout",
     "output_type": "stream",
     "text": [
      "\r",
      "Upgrading database; v3 -> v4: : 0it [00:00, ?it/s]"
     ]
    },
    {
     "name": "stdout",
     "output_type": "stream",
     "text": [
      "\r",
      "Upgrading database; v3 -> v4: : 0it [00:00, ?it/s]"
     ]
    },
    {
     "name": "stdout",
     "output_type": "stream",
     "text": [
      "\n",
      "\r",
      "  0%|          | 0/1 [00:00<?, ?it/s]"
     ]
    },
    {
     "name": "stdout",
     "output_type": "stream",
     "text": [
      "\r",
      "Upgrading database; v4 -> v5:   0%|          | 0/1 [00:00<?, ?it/s]"
     ]
    },
    {
     "name": "stdout",
     "output_type": "stream",
     "text": [
      "\r",
      "Upgrading database; v4 -> v5: 100%|██████████| 1/1 [00:00<00:00, 260.08it/s]"
     ]
    },
    {
     "name": "stdout",
     "output_type": "stream",
     "text": [
      "\n",
      "\r",
      "0it [00:00, ?it/s]"
     ]
    },
    {
     "name": "stdout",
     "output_type": "stream",
     "text": [
      "\r",
      "Upgrading database; v5 -> v6: : 0it [00:00, ?it/s]"
     ]
    },
    {
     "name": "stdout",
     "output_type": "stream",
     "text": [
      "\r",
      "Upgrading database; v5 -> v6: : 0it [00:00, ?it/s]"
     ]
    },
    {
     "name": "stdout",
     "output_type": "stream",
     "text": [
      "\n",
      "\r",
      "  0%|          | 0/1 [00:00<?, ?it/s]"
     ]
    },
    {
     "name": "stdout",
     "output_type": "stream",
     "text": [
      "\r",
      "Upgrading database; v6 -> v7:   0%|          | 0/1 [00:00<?, ?it/s]"
     ]
    },
    {
     "name": "stdout",
     "output_type": "stream",
     "text": [
      "\r",
      "Upgrading database; v6 -> v7: 100%|██████████| 1/1 [00:00<00:00, 177.21it/s]"
     ]
    },
    {
     "name": "stdout",
     "output_type": "stream",
     "text": [
      "\n",
      "\r",
      "  0%|          | 0/1 [00:00<?, ?it/s]"
     ]
    },
    {
     "name": "stdout",
     "output_type": "stream",
     "text": [
      "\r",
      "Upgrading database; v7 -> v8:   0%|          | 0/1 [00:00<?, ?it/s]"
     ]
    },
    {
     "name": "stdout",
     "output_type": "stream",
     "text": [
      "\r",
      "Upgrading database; v7 -> v8: 100%|██████████| 1/1 [00:00<00:00, 537.04it/s]"
     ]
    },
    {
     "name": "stdout",
     "output_type": "stream",
     "text": [
      "\n",
      "\r",
      "  0%|          | 0/1 [00:00<?, ?it/s]"
     ]
    },
    {
     "name": "stdout",
     "output_type": "stream",
     "text": [
      "\r",
      "Upgrading database; v8 -> v9:   0%|          | 0/1 [00:00<?, ?it/s]"
     ]
    },
    {
     "name": "stdout",
     "output_type": "stream",
     "text": [
      "\r",
      "Upgrading database; v8 -> v9: 100%|██████████| 1/1 [00:00<00:00, 296.17it/s]"
     ]
    },
    {
     "name": "stdout",
     "output_type": "stream",
     "text": [
      "\n"
     ]
    },
    {
     "data": {
      "text/plain": [
       "tutorial_ParameterWithSetpoints#no sample#1@/home/vsts/work/1/s/docs/examples/Parameters/tutorial_paramter_with_setpoints.db\n",
       "----------------------------------------------------------------------------------------------------------------------------"
      ]
     },
     "execution_count": 1,
     "metadata": {},
     "output_type": "execute_result"
    }
   ],
   "source": [
    "tutorial_db_path = os.path.join(os.getcwd(), 'tutorial_paramter_with_setpoints.db')\n",
    "initialise_or_create_database_at(tutorial_db_path)\n",
    "load_or_create_experiment(experiment_name='tutorial_ParameterWithSetpoints', sample_name=\"no sample\")"
   ]
  },
  {
   "cell_type": "code",
   "execution_count": 7,
   "metadata": {
    "execution": {
     "iopub.execute_input": "2020-09-21T09:46:31.903768Z",
     "iopub.status.busy": "2020-09-21T09:46:31.903183Z",
     "iopub.status.idle": "2020-09-21T09:46:31.907460Z",
     "shell.execute_reply": "2020-09-21T09:46:31.906826Z"
    }
   },
   "outputs": [],
   "source": [
    "a = DummySpectrumAnalyzer('foobar')"
   ]
  },
  {
   "cell_type": "markdown",
   "metadata": {},
   "source": [
    "First we setup the limits of the spectrum"
   ]
  },
  {
   "cell_type": "code",
   "execution_count": 8,
   "metadata": {
    "execution": {
     "iopub.execute_input": "2020-09-21T09:46:31.912978Z",
     "iopub.status.busy": "2020-09-21T09:46:31.912377Z",
     "iopub.status.idle": "2020-09-21T09:46:31.915799Z",
     "shell.execute_reply": "2020-09-21T09:46:31.916369Z"
    }
   },
   "outputs": [],
   "source": [
    "a.f_start(0)\n",
    "a.f_stop(500)\n",
    "a.n_points(501)"
   ]
  },
  {
   "cell_type": "markdown",
   "metadata": {},
   "source": [
    "And we can grab the frequency axis"
   ]
  },
  {
   "cell_type": "code",
   "execution_count": 9,
   "metadata": {
    "execution": {
     "iopub.execute_input": "2020-09-21T09:46:31.921005Z",
     "iopub.status.busy": "2020-09-21T09:46:31.920408Z",
     "iopub.status.idle": "2020-09-21T09:46:31.925613Z",
     "shell.execute_reply": "2020-09-21T09:46:31.924970Z"
    }
   },
   "outputs": [
    {
     "data": {
      "text/plain": [
       "501"
      ]
     },
     "execution_count": 1,
     "metadata": {},
     "output_type": "execute_result"
    }
   ],
   "source": [
    "a.n_points()"
   ]
  },
  {
   "cell_type": "code",
   "execution_count": 10,
   "metadata": {
    "execution": {
     "iopub.execute_input": "2020-09-21T09:46:31.931598Z",
     "iopub.status.busy": "2020-09-21T09:46:31.930989Z",
     "iopub.status.idle": "2020-09-21T09:46:31.933804Z",
     "shell.execute_reply": "2020-09-21T09:46:31.934419Z"
    },
    "scrolled": false
   },
   "outputs": [
    {
     "data": {
      "text/plain": [
       "501"
      ]
     },
     "execution_count": 1,
     "metadata": {},
     "output_type": "execute_result"
    }
   ],
   "source": [
    "freq_axis = a.freq_axis()\n",
    "len(freq_axis)"
   ]
  },
  {
   "cell_type": "code",
   "execution_count": 11,
   "metadata": {
    "execution": {
     "iopub.execute_input": "2020-09-21T09:46:31.940719Z",
     "iopub.status.busy": "2020-09-21T09:46:31.939065Z",
     "iopub.status.idle": "2020-09-21T09:46:31.942990Z",
     "shell.execute_reply": "2020-09-21T09:46:31.943615Z"
    }
   },
   "outputs": [
    {
     "data": {
      "text/plain": [
       "array([0., 1., 2., 3., 4., 5., 6., 7., 8., 9.])"
      ]
     },
     "execution_count": 1,
     "metadata": {},
     "output_type": "execute_result"
    }
   ],
   "source": [
    "freq_axis[:10]"
   ]
  },
  {
   "cell_type": "markdown",
   "metadata": {},
   "source": [
    "As expected we get a result wit 501 points as we asked for an axis with 501 points. "
   ]
  },
  {
   "cell_type": "markdown",
   "metadata": {},
   "source": [
    "Above we have added a validator to the `freq_axis` parameter encoding the fact that this is an Array with `n_points`. Note that we do not have to supply the number of points as an integer but can supply a function that returns the valid number of points. This would normally be a QCoDeS parameter.\n",
    "\n",
    "This will be checked if we validate the output."
   ]
  },
  {
   "cell_type": "code",
   "execution_count": 12,
   "metadata": {
    "execution": {
     "iopub.execute_input": "2020-09-21T09:46:31.950184Z",
     "iopub.status.busy": "2020-09-21T09:46:31.948830Z",
     "iopub.status.idle": "2020-09-21T09:46:31.950755Z",
     "shell.execute_reply": "2020-09-21T09:46:31.951337Z"
    }
   },
   "outputs": [],
   "source": [
    "a.freq_axis.validate(a.freq_axis.get())"
   ]
  },
  {
   "cell_type": "markdown",
   "metadata": {},
   "source": [
    "Naturally, we can also get the spectrum. Getting the spectrum will automatically perform validation both for the shape of the parameter itself and the relation to the setpoint parameter(s)"
   ]
  },
  {
   "cell_type": "code",
   "execution_count": 13,
   "metadata": {
    "execution": {
     "iopub.execute_input": "2020-09-21T09:46:31.957039Z",
     "iopub.status.busy": "2020-09-21T09:46:31.955281Z",
     "iopub.status.idle": "2020-09-21T09:46:31.959556Z",
     "shell.execute_reply": "2020-09-21T09:46:31.960167Z"
    },
    "scrolled": true
   },
   "outputs": [
    {
     "data": {
      "text/plain": [
       "501"
      ]
     },
     "execution_count": 1,
     "metadata": {},
     "output_type": "execute_result"
    }
   ],
   "source": [
    "spectrum = a.spectrum.get()\n",
    "len(spectrum)"
   ]
  },
  {
   "cell_type": "markdown",
   "metadata": {},
   "source": [
    "When we validate a `ParameterWithSetpoints`, we automatically validate that the shape is consistent between the parameters and its setpoints. As well as validating the shape as above."
   ]
  },
  {
   "cell_type": "code",
   "execution_count": 14,
   "metadata": {
    "execution": {
     "iopub.execute_input": "2020-09-21T09:46:31.965361Z",
     "iopub.status.busy": "2020-09-21T09:46:31.964764Z",
     "iopub.status.idle": "2020-09-21T09:46:31.967577Z",
     "shell.execute_reply": "2020-09-21T09:46:31.966945Z"
    }
   },
   "outputs": [],
   "source": [
    "a.spectrum.validate(a.spectrum.get())"
   ]
  },
  {
   "cell_type": "markdown",
   "metadata": {},
   "source": [
    "The consistent shapes can be validated explicitly."
   ]
  },
  {
   "cell_type": "code",
   "execution_count": 15,
   "metadata": {
    "execution": {
     "iopub.execute_input": "2020-09-21T09:46:31.973481Z",
     "iopub.status.busy": "2020-09-21T09:46:31.972094Z",
     "iopub.status.idle": "2020-09-21T09:46:31.974068Z",
     "shell.execute_reply": "2020-09-21T09:46:31.974661Z"
    }
   },
   "outputs": [],
   "source": [
    "a.spectrum.validate_consistent_shape()"
   ]
  },
  {
   "cell_type": "markdown",
   "metadata": {},
   "source": [
    "We can inspect the setpoints of the spectrum."
   ]
  },
  {
   "cell_type": "code",
   "execution_count": 16,
   "metadata": {
    "execution": {
     "iopub.execute_input": "2020-09-21T09:46:31.980983Z",
     "iopub.status.busy": "2020-09-21T09:46:31.979926Z",
     "iopub.status.idle": "2020-09-21T09:46:31.982774Z",
     "shell.execute_reply": "2020-09-21T09:46:31.983386Z"
    }
   },
   "outputs": [
    {
     "data": {
      "text/plain": [
       "(<__main__.GeneratedSetPoints: freq_axis at 139729321865808>,)"
      ]
     },
     "execution_count": 1,
     "metadata": {},
     "output_type": "execute_result"
    }
   ],
   "source": [
    "a.spectrum.setpoints"
   ]
  },
  {
   "cell_type": "markdown",
   "metadata": {},
   "source": [
    "Or even change them."
   ]
  },
  {
   "cell_type": "code",
   "execution_count": 17,
   "metadata": {
    "execution": {
     "iopub.execute_input": "2020-09-21T09:46:31.988125Z",
     "iopub.status.busy": "2020-09-21T09:46:31.987516Z",
     "iopub.status.idle": "2020-09-21T09:46:31.990333Z",
     "shell.execute_reply": "2020-09-21T09:46:31.989699Z"
    }
   },
   "outputs": [],
   "source": [
    "a.spectrum.setpoints = (a.freq_axis,)"
   ]
  },
  {
   "cell_type": "markdown",
   "metadata": {},
   "source": [
    "## Measurement"
   ]
  },
  {
   "cell_type": "markdown",
   "metadata": {},
   "source": [
    "We can also directly consume the parameter in a measurement without defining the setpoints of the parameter again. The setpoints are automatically obtained from the definition of the `ParameterWithSetpoint` instance. "
   ]
  },
  {
   "cell_type": "code",
   "execution_count": 18,
   "metadata": {
    "execution": {
     "iopub.execute_input": "2020-09-21T09:46:31.995649Z",
     "iopub.status.busy": "2020-09-21T09:46:31.994544Z",
     "iopub.status.idle": "2020-09-21T09:46:32.014231Z",
     "shell.execute_reply": "2020-09-21T09:46:32.014835Z"
    }
   },
   "outputs": [
    {
     "name": "stdout",
     "output_type": "stream",
     "text": [
      "Starting experimental run with id: 1. \n"
     ]
    }
   ],
   "source": [
    "meas = Measurement()\n",
    "meas.register_parameter(a.spectrum)\n",
    "\n",
    "with meas.run() as datasaver:\n",
    "    datasaver.add_result((a.freq_axis, a.freq_axis()),\n",
    "                         (a.spectrum, a.spectrum()))\n",
    "    dataset = datasaver.dataset"
   ]
  },
  {
   "cell_type": "markdown",
   "metadata": {},
   "source": [
    "And plot it"
   ]
  },
  {
   "cell_type": "code",
   "execution_count": 19,
   "metadata": {
    "execution": {
     "iopub.execute_input": "2020-09-21T09:46:32.019402Z",
     "iopub.status.busy": "2020-09-21T09:46:32.018672Z",
     "iopub.status.idle": "2020-09-21T09:46:32.473342Z",
     "shell.execute_reply": "2020-09-21T09:46:32.472464Z"
    }
   },
   "outputs": [
    {
     "data": {
      "text/plain": [
       "([<AxesSubplot:title={'center':'Run #1, Experiment tutorial_ParameterWithSetpoints (no sample)'}, xlabel='Freq Axis (Hz)', ylabel='Spectrum ($10^{-3}$ dBm)'>],\n",
       " [None])"
      ]
     },
     "execution_count": 1,
     "metadata": {},
     "output_type": "execute_result"
    },
    {
     "data": {
      "image/png": "[encoded data removed]",
      "text/plain": [
       "<Figure size 432x288 with 1 Axes>"
      ]
     },
     "metadata": {
      "needs_background": "light"
     },
     "output_type": "display_data"
    }
   ],
   "source": [
    "plot_dataset(dataset)"
   ]
  },
  {
   "cell_type": "markdown",
   "metadata": {},
   "source": [
    "To reduce the amount of typing a simple convenience function is provided that will take a `ParameterWithSetpoints` and get both its values and the setpoints values and return them as tuples for direct insertion into the Dataset."
   ]
  },
  {
   "cell_type": "code",
   "execution_count": 20,
   "metadata": {
    "execution": {
     "iopub.execute_input": "2020-09-21T09:46:32.490156Z",
     "iopub.status.busy": "2020-09-21T09:46:32.477816Z",
     "iopub.status.idle": "2020-09-21T09:46:32.496377Z",
     "shell.execute_reply": "2020-09-21T09:46:32.495824Z"
    },
    "scrolled": true
   },
   "outputs": [
    {
     "data": {
      "text/plain": [
       "[(<__main__.GeneratedSetPoints: freq_axis at 139729321865808>,\n",
       "  array([  0.,   1.,   2.,   3.,   4.,   5.,   6.,   7.,   8.,   9.,  10.,\n",
       "          11.,  12.,  13.,  14.,  15.,  16.,  17.,  18.,  19.,  20.,  21.,\n",
       "          22.,  23.,  24.,  25.,  26.,  27.,  28.,  29.,  30.,  31.,  32.,\n",
       "          33.,  34.,  35.,  36.,  37.,  38.,  39.,  40.,  41.,  42.,  43.,\n",
       "          44.,  45.,  46.,  47.,  48.,  49.,  50.,  51.,  52.,  53.,  54.,\n",
       "          55.,  56.,  57.,  58.,  59.,  60.,  61.,  62.,  63.,  64.,  65.,\n",
       "          66.,  67.,  68.,  69.,  70.,  71.,  72.,  73.,  74.,  75.,  76.,\n",
       "          77.,  78.,  79.,  80.,  81.,  82.,  83.,  84.,  85.,  86.,  87.,\n",
       "          88.,  89.,  90.,  91.,  92.,  93.,  94.,  95.,  96.,  97.,  98.,\n",
       "          99., 100., 101., 102., 103., 104., 105., 106., 107., 108., 109.,\n",
       "         110., 111., 112., 113., 114., 115., 116., 117., 118., 119., 120.,\n",
       "         121., 122., 123., 124., 125., 126., 127., 128., 129., 130., 131.,\n",
       "         132., 133., 134., 135., 136., 137., 138., 139., 140., 141., 142.,\n",
       "         143., 144., 145., 146., 147., 148., 149., 150., 151., 152., 153.,\n",
       "         154., 155., 156., 157., 158., 159., 160., 161., 162., 163., 164.,\n",
       "         165., 166., 167., 168., 169., 170., 171., 172., 173., 174., 175.,\n",
       "         176., 177., 178., 179., 180., 181., 182., 183., 184., 185., 186.,\n",
       "         187., 188., 189., 190., 191., 192., 193., 194., 195., 196., 197.,\n",
       "         198., 199., 200., 201., 202., 203., 204., 205., 206., 207., 208.,\n",
       "         209., 210., 211., 212., 213., 214., 215., 216., 217., 218., 219.,\n",
       "         220., 221., 222., 223., 224., 225., 226., 227., 228., 229., 230.,\n",
       "         231., 232., 233., 234., 235., 236., 237., 238., 239., 240., 241.,\n",
       "         242., 243., 244., 245., 246., 247., 248., 249., 250., 251., 252.,\n",
       "         253., 254., 255., 256., 257., 258., 259., 260., 261., 262., 263.,\n",
       "         264., 265., 266., 267., 268., 269., 270., 271., 272., 273., 274.,\n",
       "         275., 276., 277., 278., 279., 280., 281., 282., 283., 284., 285.,\n",
       "         286., 287., 288., 289., 290., 291., 292., 293., 294., 295., 296.,\n",
       "         297., 298., 299., 300., 301., 302., 303., 304., 305., 306., 307.,\n",
       "         308., 309., 310., 311., 312., 313., 314., 315., 316., 317., 318.,\n",
       "         319., 320., 321., 322., 323., 324., 325., 326., 327., 328., 329.,\n",
       "         330., 331., 332., 333., 334., 335., 336., 337., 338., 339., 340.,\n",
       "         341., 342., 343., 344., 345., 346., 347., 348., 349., 350., 351.,\n",
       "         352., 353., 354., 355., 356., 357., 358., 359., 360., 361., 362.,\n",
       "         363., 364., 365., 366., 367., 368., 369., 370., 371., 372., 373.,\n",
       "         374., 375., 376., 377., 378., 379., 380., 381., 382., 383., 384.,\n",
       "         385., 386., 387., 388., 389., 390., 391., 392., 393., 394., 395.,\n",
       "         396., 397., 398., 399., 400., 401., 402., 403., 404., 405., 406.,\n",
       "         407., 408., 409., 410., 411., 412., 413., 414., 415., 416., 417.,\n",
       "         418., 419., 420., 421., 422., 423., 424., 425., 426., 427., 428.,\n",
       "         429., 430., 431., 432., 433., 434., 435., 436., 437., 438., 439.,\n",
       "         440., 441., 442., 443., 444., 445., 446., 447., 448., 449., 450.,\n",
       "         451., 452., 453., 454., 455., 456., 457., 458., 459., 460., 461.,\n",
       "         462., 463., 464., 465., 466., 467., 468., 469., 470., 471., 472.,\n",
       "         473., 474., 475., 476., 477., 478., 479., 480., 481., 482., 483.,\n",
       "         484., 485., 486., 487., 488., 489., 490., 491., 492., 493., 494.,\n",
       "         495., 496., 497., 498., 499., 500.])),\n",
       " (<__main__.DummyArray: spectrum at 139729321868816>,\n",
       "  array([0.74641531, 0.49071242, 0.07418764, 0.31236238, 0.5254149 ,\n",
       "         0.22544024, 0.46346504, 0.52622934, 0.18134151, 0.63796974,\n",
       "         0.20961784, 0.92510592, 0.1204839 , 0.90044219, 0.32622732,\n",
       "         0.03526191, 0.49726115, 0.50854183, 0.28007442, 0.2386426 ,\n",
       "         0.21183286, 0.51098985, 0.54834443, 0.74001598, 0.77792023,\n",
       "         0.74541278, 0.90018195, 0.2955047 , 0.49147117, 0.3064008 ,\n",
       "         0.60854364, 0.46419073, 0.67112534, 0.55541093, 0.92235848,\n",
       "         0.44734786, 0.72954709, 0.10209823, 0.96341039, 0.21139251,\n",
       "         0.99970658, 0.82628344, 0.21450217, 0.32840959, 0.95100711,\n",
       "         0.35542382, 0.74175877, 0.42143361, 0.06599346, 0.22756096,\n",
       "         0.17892303, 0.04386773, 0.4889872 , 0.09921192, 0.96862832,\n",
       "         0.77795651, 0.61027764, 0.67046204, 0.11116554, 0.17511804,\n",
       "         0.15494292, 0.69088287, 0.61928834, 0.20764865, 0.47584592,\n",
       "         0.04311138, 0.45598206, 0.09774634, 0.6706875 , 0.45798069,\n",
       "         0.38125588, 0.32294373, 0.06091476, 0.81913007, 0.41888765,\n",
       "         0.10514677, 0.95982099, 0.740605  , 0.99233221, 0.92725858,\n",
       "         0.35236196, 0.62461375, 0.85348415, 0.81903484, 0.86258784,\n",
       "         0.56686272, 0.01995387, 0.3504579 , 0.65128658, 0.04439561,\n",
       "         0.33966988, 0.67931896, 0.56515257, 0.83195967, 0.11330772,\n",
       "         0.93515733, 0.20138785, 0.95755683, 0.12034628, 0.34902885,\n",
       "         0.32247946, 0.33036348, 0.24120162, 0.46075363, 0.75848916,\n",
       "         0.16750054, 0.55756596, 0.60792321, 0.5485291 , 0.4997828 ,\n",
       "         0.61503372, 0.58324197, 0.82173634, 0.62428921, 0.21264059,\n",
       "         0.63142208, 0.01179831, 0.84694169, 0.50302378, 0.12622931,\n",
       "         0.5677147 , 0.12984715, 0.11721205, 0.95491114, 0.99919039,\n",
       "         0.87100538, 0.18625307, 0.26760073, 0.77728146, 0.25044499,\n",
       "         0.11690407, 0.84230122, 0.19725103, 0.99428277, 0.79807479,\n",
       "         0.69043704, 0.83292568, 0.53283732, 0.48761694, 0.26277949,\n",
       "         0.80489487, 0.22521379, 0.71635638, 0.24773415, 0.41255632,\n",
       "         0.68398425, 0.27501587, 0.59400252, 0.60761495, 0.45871178,\n",
       "         0.79941363, 0.87883389, 0.79637156, 0.49073284, 0.16326151,\n",
       "         0.18767323, 0.85810195, 0.17857425, 0.05994035, 0.03393735,\n",
       "         0.4028538 , 0.95383439, 0.81027258, 0.23041031, 0.5413473 ,\n",
       "         0.47351378, 0.53508516, 0.67983446, 0.08339191, 0.65528677,\n",
       "         0.55737056, 0.1268405 , 0.05531789, 0.47390041, 0.70385664,\n",
       "         0.38347939, 0.74950513, 0.67830151, 0.77451422, 0.68375777,\n",
       "         0.93561388, 0.86742823, 0.17215291, 0.21158459, 0.83005175,\n",
       "         0.36771327, 0.05320531, 0.13382214, 0.2387086 , 0.59994222,\n",
       "         0.43566325, 0.7751461 , 0.14932262, 0.92385073, 0.42416564,\n",
       "         0.86933579, 0.15710399, 0.63160672, 0.68592655, 0.2696034 ,\n",
       "         0.20230592, 0.64747705, 0.6422783 , 0.18502326, 0.14289642,\n",
       "         0.33738243, 0.65539739, 0.57118106, 0.2814404 , 0.83622093,\n",
       "         0.81640007, 0.03071572, 0.45722294, 0.31274095, 0.69660246,\n",
       "         0.70788417, 0.60446216, 0.69930993, 0.11244283, 0.79400165,\n",
       "         0.39731254, 0.53255591, 0.67127508, 0.80200666, 0.53366163,\n",
       "         0.25271095, 0.01499725, 0.82426906, 0.29643308, 0.48336853,\n",
       "         0.48189759, 0.43081552, 0.99145568, 0.89338829, 0.43486402,\n",
       "         0.72070084, 0.75865087, 0.21935993, 0.18384428, 0.76540019,\n",
       "         0.30045871, 0.59127414, 0.21557897, 0.07875765, 0.23798909,\n",
       "         0.85080237, 0.90020212, 0.11616333, 0.87458577, 0.95563952,\n",
       "         0.20996932, 0.97113973, 0.15051159, 0.03865205, 0.56443474,\n",
       "         0.9353891 , 0.65138816, 0.7959275 , 0.77133206, 0.12656427,\n",
       "         0.90593283, 0.53793703, 0.49202456, 0.10965279, 0.42851552,\n",
       "         0.40444706, 0.51648496, 0.07933799, 0.90934599, 0.30351738,\n",
       "         0.63530625, 0.59374231, 0.18962814, 0.03299371, 0.01413305,\n",
       "         0.25159899, 0.08839181, 0.45531273, 0.19593856, 0.84890488,\n",
       "         0.33955178, 0.07912346, 0.01026292, 0.54606507, 0.547381  ,\n",
       "         0.86481639, 0.92959269, 0.51413394, 0.46841872, 0.68655504,\n",
       "         0.04721967, 0.78314046, 0.74613787, 0.98790018, 0.20513111,\n",
       "         0.2481551 , 0.31513242, 0.5661886 , 0.95542433, 0.30719304,\n",
       "         0.06358857, 0.7846352 , 0.55451824, 0.35419072, 0.12282295,\n",
       "         0.22331117, 0.25831545, 0.06459686, 0.42189482, 0.80428074,\n",
       "         0.80123207, 0.5763365 , 0.93090283, 0.42478794, 0.0299351 ,\n",
       "         0.32739835, 0.53488408, 0.7362466 , 0.746154  , 0.75848429,\n",
       "         0.10321891, 0.1413853 , 0.54017874, 0.49094002, 0.89269689,\n",
       "         0.37787664, 0.97885571, 0.84629263, 0.71398604, 0.58223643,\n",
       "         0.39335345, 0.24508258, 0.87368035, 0.36853111, 0.06281646,\n",
       "         0.14962094, 0.66006566, 0.62990011, 0.37613927, 0.46452121,\n",
       "         0.34446149, 0.00427815, 0.65271543, 0.20079112, 0.41057157,\n",
       "         0.5338778 , 0.08008435, 0.92478648, 0.73455737, 0.88100958,\n",
       "         0.56076953, 0.23392504, 0.62767831, 0.43125342, 0.88364512,\n",
       "         0.96132267, 0.49723444, 0.26614745, 0.8076715 , 0.53384297,\n",
       "         0.48067029, 0.41148267, 0.67924048, 0.19809654, 0.03284608,\n",
       "         0.75548016, 0.26254192, 0.08376818, 0.66380289, 0.8715338 ,\n",
       "         0.1505377 , 0.85265844, 0.70985729, 0.39117141, 0.3807266 ,\n",
       "         0.36624064, 0.68952521, 0.65761434, 0.97857913, 0.07575933,\n",
       "         0.09766003, 0.81895648, 0.06445056, 0.56909605, 0.1391966 ,\n",
       "         0.45683514, 0.81709745, 0.51938942, 0.15448873, 0.24199467,\n",
       "         0.99959164, 0.54383801, 0.51704856, 0.68464446, 0.93577019,\n",
       "         0.40176962, 0.66514414, 0.49653935, 0.98579135, 0.44563009,\n",
       "         0.57663773, 0.77590427, 0.17119823, 0.34212073, 0.63010851,\n",
       "         0.40070281, 0.22248515, 0.796296  , 0.56595856, 0.77263341,\n",
       "         0.37012294, 0.15955783, 0.24153445, 0.58078884, 0.38625371,\n",
       "         0.97942296, 0.79011845, 0.24629272, 0.78938872, 0.47723816,\n",
       "         0.27759172, 0.93630852, 0.0100207 , 0.73069968, 0.90947364,\n",
       "         0.82986754, 0.10621826, 0.66344018, 0.07271308, 0.50789621,\n",
       "         0.07535575, 0.14489803, 0.26608708, 0.72911831, 0.58454301,\n",
       "         0.76586812, 0.84095672, 0.19505367, 0.913639  , 0.51310831,\n",
       "         0.28580694, 0.87806468, 0.82462684, 0.50668165, 0.48523062,\n",
       "         0.34411736, 0.37952471, 0.57714294, 0.44540201, 0.88439117,\n",
       "         0.33171329, 0.47189955, 0.97754749, 0.32772064, 0.41849733,\n",
       "         0.90426155, 0.56411416, 0.56813394, 0.36718676, 0.42728833,\n",
       "         0.67119383, 0.04411666, 0.08132455, 0.64432394, 0.16633474,\n",
       "         0.86226317, 0.75631226, 0.93191264, 0.319608  , 0.94320741,\n",
       "         0.50757083, 0.60621177, 0.23126738, 0.20558868, 0.46019799,\n",
       "         0.02720654, 0.45894211, 0.77650538, 0.8545004 , 0.93202364,\n",
       "         0.71204073, 0.23051475, 0.80163448, 0.11080835, 0.14249599,\n",
       "         0.88562969, 0.11531347, 0.27343644, 0.48922916, 0.72019362,\n",
       "         0.46970309, 0.17021135, 0.14083503, 0.38604267, 0.13934087,\n",
       "         0.5616887 , 0.37146258, 0.38714618, 0.03957152, 0.53624439,\n",
       "         0.77702215]))]"
      ]
     },
     "execution_count": 1,
     "metadata": {},
     "output_type": "execute_result"
    }
   ],
   "source": [
    "expand_setpoints_helper(a.spectrum)"
   ]
  },
  {
   "cell_type": "code",
   "execution_count": 21,
   "metadata": {
    "execution": {
     "iopub.execute_input": "2020-09-21T09:46:32.502457Z",
     "iopub.status.busy": "2020-09-21T09:46:32.501828Z",
     "iopub.status.idle": "2020-09-21T09:46:32.518931Z",
     "shell.execute_reply": "2020-09-21T09:46:32.519475Z"
    }
   },
   "outputs": [
    {
     "name": "stdout",
     "output_type": "stream",
     "text": [
      "Starting experimental run with id: 2. \n"
     ]
    }
   ],
   "source": [
    "meas = Measurement()\n",
    "meas.register_parameter(a.spectrum)\n",
    "\n",
    "with meas.run() as datasaver:\n",
    "    datasaver.add_result(*expand_setpoints_helper(a.spectrum))\n",
    "    \n",
    "    dataid = datasaver.run_id"
   ]
  },
  {
   "cell_type": "code",
   "execution_count": null,
   "metadata": {},
   "outputs": [],
   "source": []
  }
 ],
 "metadata": {
  "kernelspec": {
   "display_name": "Python 3",
   "language": "python",
   "name": "python3"
  },
  "language_info": {
   "codemirror_mode": {
    "name": "ipython",
    "version": 3
   },
   "file_extension": ".py",
   "mimetype": "text/x-python",
   "name": "python",
   "nbconvert_exporter": "python",
   "pygments_lexer": "ipython3",
   "version": "3.7.7"
  },
  "toc": {
   "base_numbering": 1,
   "nav_menu": {},
   "number_sections": true,
   "sideBar": true,
   "skip_h1_title": false,
   "title_cell": "Table of Contents",
   "title_sidebar": "Contents",
   "toc_cell": false,
   "toc_position": {},
   "toc_section_display": true,
   "toc_window_display": false
  },
  "varInspector": {
   "cols": {
    "lenName": 16,
    "lenType": 16,
    "lenVar": 40
   },
   "kernels_config": {
    "python": {
     "delete_cmd_postfix": "",
     "delete_cmd_prefix": "del ",
     "library": "var_list.py",
     "varRefreshCmd": "print(var_dic_list())"
    },
    "r": {
     "delete_cmd_postfix": ") ",
     "delete_cmd_prefix": "rm(",
     "library": "var_list.r",
     "varRefreshCmd": "cat(var_dic_list()) "
    }
   },
   "types_to_exclude": [
    "module",
    "function",
    "builtin_function_or_method",
    "instance",
    "_Feature"
   ],
   "window_display": false
  }
 },
 "nbformat": 4,
 "nbformat_minor": 2
}
