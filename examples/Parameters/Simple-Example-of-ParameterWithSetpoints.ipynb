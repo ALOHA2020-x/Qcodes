{
 "cells": [
  {
   "cell_type": "markdown",
   "metadata": {},
   "source": [
    "# Simple Example of ParameterWithSetpoints\n",
    "This notebook provides an example for writing a simple driver with a parameter that has setpoints. Let's name this parameter that has setpoints as \"y\". Then, the setpoints, say \"x1, x2, x3 ..\", are the parameters on which the parameter \n",
    "\"y\" depends upon. Meaning \"y\" is a function of \"x1, x2, x3 ...\" where \"x1, x2, x3 ...\" are known as the setpoints of parameter \"y\".\n",
    "\n",
    "This is most likely to be useful for instruments that return arrays of results. In this notebook, we will show an example of this."
   ]
  },
  {
   "cell_type": "code",
   "execution_count": 1,
   "metadata": {},
   "outputs": [],
   "source": [
    "import numpy as np\n",
    "import os"
   ]
  },
  {
   "cell_type": "code",
   "execution_count": 2,
   "metadata": {},
   "outputs": [
    {
     "name": "stdout",
     "output_type": "stream",
     "text": [
      "Logging hadn't been started.\n",
      "Activating auto-logging. Current session state plus future input saved.\n",
      "Filename       : /home/vsts/.qcodes/logs/command_history.log\n",
      "Mode           : append\n",
      "Output logging : True\n",
      "Raw input log  : False\n",
      "Timestamping   : True\n",
      "State          : active\n"
     ]
    },
    {
     "name": "stdout",
     "output_type": "stream",
     "text": [
      "Qcodes Logfile : /home/vsts/.qcodes/logs/200828-21354-qcodes.log\n"
     ]
    }
   ],
   "source": [
    "from qcodes.dataset.plotting import plot_dataset\n",
    "from qcodes.utils.validators import Numbers, Arrays\n",
    "from qcodes.instrument.base import Instrument\n",
    "from qcodes.dataset.measurements import Measurement"
   ]
  },
  {
   "cell_type": "code",
   "execution_count": 3,
   "metadata": {},
   "outputs": [],
   "source": [
    "from qcodes.dataset.sqlite.database import initialise_or_create_database_at\n",
    "from qcodes.dataset.experiment_container import load_or_create_experiment"
   ]
  },
  {
   "cell_type": "code",
   "execution_count": 4,
   "metadata": {},
   "outputs": [],
   "source": [
    "from qcodes.instrument.parameter import ParameterWithSetpoints, Parameter\n",
    "from qcodes.instrument.parameter import expand_setpoints_helper"
   ]
  },
  {
   "cell_type": "markdown",
   "metadata": {},
   "source": [
    "First, we define a dummy instrument that returns something like a frequency spectrum starting from a frequency given by `f_start` to a frequency given by `f_stop` in `n_points` steps. \n",
    "\n",
    "The extra functionality of the `ParameterWithSetpoints` is implemented by giving it a reference to one or more parameters that acts like its setpoints. \n",
    "\n",
    "To setup a `ParameterWithSetpoints` we have to do two things in addition to what we do for a normal parameter.\n",
    "\n",
    "* Define one or more parameter for the setpoints (one for each dimension of the array and let the `ParameterWithSetpoints` know that these are the setpoints.\n",
    "* Give both the setpoints parameter(s) and the `ParameterWithSetpoints` a `validator` of type `Arrays` with a shape. The shapes should be such that the combined shape of the setpoints matches the shape of the `ParameterWithSetpoints`. Note that if the shape changes with the setting of the instrument, it can be defined by another parameter as shown below. "
   ]
  },
  {
   "cell_type": "code",
   "execution_count": 5,
   "metadata": {},
   "outputs": [],
   "source": [
    "class GeneratedSetPoints(Parameter):\n",
    "    \"\"\"\n",
    "    A parameter that generates a setpoint array from start, stop and num points\n",
    "    parameters.\n",
    "    \"\"\"\n",
    "    def __init__(self, startparam, stopparam, numpointsparam, *args, **kwargs):\n",
    "        super().__init__(*args, **kwargs)\n",
    "        self._startparam = startparam\n",
    "        self._stopparam = stopparam\n",
    "        self._numpointsparam = numpointsparam\n",
    "\n",
    "    def get_raw(self):\n",
    "        return np.linspace(self._startparam(), self._stopparam(),\n",
    "                              self._numpointsparam())\n",
    "\n",
    "class DummyArray(ParameterWithSetpoints):\n",
    "    \n",
    "    def get_raw(self):\n",
    "        npoints = self.root_instrument.n_points.get_latest()\n",
    "        return np.random.rand(npoints)\n",
    "    \n",
    "\n",
    "class DummySpectrumAnalyzer(Instrument):\n",
    "    \n",
    "    def __init__(self, name, **kwargs):\n",
    "        \n",
    "        super().__init__(name, **kwargs)\n",
    "            \n",
    "\n",
    "        self.add_parameter('f_start',\n",
    "                           initial_value=0,\n",
    "                           unit='Hz',\n",
    "                           label='f start',\n",
    "                           vals=Numbers(0,1e3),\n",
    "                           get_cmd=None,\n",
    "                           set_cmd=None)\n",
    "\n",
    "        self.add_parameter('f_stop',\n",
    "                           unit='Hz',\n",
    "                           label='f stop',\n",
    "                           vals=Numbers(1,1e3),\n",
    "                           get_cmd=None,\n",
    "                           set_cmd=None)\n",
    "\n",
    "        self.add_parameter('n_points',\n",
    "                           unit='',\n",
    "                           initial_value=10,\n",
    "                           vals=Numbers(1,1e3),\n",
    "                           get_cmd=None,\n",
    "                           set_cmd=None)\n",
    "        \n",
    "        self.add_parameter('freq_axis',\n",
    "                           unit='Hz',\n",
    "                           label='Freq Axis',\n",
    "                           parameter_class=GeneratedSetPoints,\n",
    "                           startparam=self.f_start,\n",
    "                           stopparam=self.f_stop,\n",
    "                           numpointsparam=self.n_points,\n",
    "                           vals=Arrays(shape=(self.n_points.get_latest,)))\n",
    "                           \n",
    "        self.add_parameter('spectrum',\n",
    "                   unit='dBm',\n",
    "                   setpoints=(self.freq_axis,),\n",
    "                   label='Spectrum',\n",
    "                   parameter_class=DummyArray,\n",
    "                   vals=Arrays(shape=(self.n_points.get_latest,)))\n",
    "                "
   ]
  },
  {
   "cell_type": "markdown",
   "metadata": {},
   "source": [
    "In the above example, the shape is defined by the parameter `n_points` that defines how many samples our `DummySpectrumAnalyzer` returns.\n",
    "\n",
    "This means that the validation will call the function to get `n_points` twice for each `get` of the parameter. This may be too slow, however, if you (as the driver-writer) can guarantee that the cached value for `n_points` will never be out of sync with the value stored in the instrument, `n_points` may be replaced by it's latest known value such that the `validator` reads:\n",
    "```python\n",
    "vals=Arrays(shape=(self.n_points.get_latest))\n",
    "```\n",
    "\n",
    "This avoids any additional call to the instrument. In the same way, the arguments to the `freq_axis` parameter that defines the start, stop and number of points can be replaced by their latest value if the instrument allows it.\n",
    "\n"
   ]
  },
  {
   "cell_type": "code",
   "execution_count": 6,
   "metadata": {},
   "outputs": [
    {
     "name": "stdout",
     "output_type": "stream",
     "text": [
      "\r",
      "0it [00:00, ?it/s]"
     ]
    },
    {
     "name": "stdout",
     "output_type": "stream",
     "text": [
      "\r",
      "Upgrading database; v0 -> v1: : 0it [00:00, ?it/s]"
     ]
    },
    {
     "name": "stdout",
     "output_type": "stream",
     "text": [
      "\r",
      "Upgrading database; v0 -> v1: : 0it [00:00, ?it/s]"
     ]
    },
    {
     "name": "stdout",
     "output_type": "stream",
     "text": [
      "\n",
      "\r",
      "  0%|          | 0/1 [00:00<?, ?it/s]"
     ]
    },
    {
     "name": "stdout",
     "output_type": "stream",
     "text": [
      "\r",
      "Upgrading database; v1 -> v2:   0%|          | 0/1 [00:00<?, ?it/s]"
     ]
    },
    {
     "name": "stdout",
     "output_type": "stream",
     "text": [
      "\r",
      "Upgrading database; v1 -> v2: 100%|██████████| 1/1 [00:00<00:00, 838.53it/s]"
     ]
    },
    {
     "name": "stdout",
     "output_type": "stream",
     "text": [
      "\n",
      "\r",
      "0it [00:00, ?it/s]"
     ]
    },
    {
     "name": "stdout",
     "output_type": "stream",
     "text": [
      "\r",
      "Upgrading database; v2 -> v3: : 0it [00:00, ?it/s]"
     ]
    },
    {
     "name": "stdout",
     "output_type": "stream",
     "text": [
      "\r",
      "Upgrading database; v2 -> v3: : 0it [00:00, ?it/s]"
     ]
    },
    {
     "name": "stdout",
     "output_type": "stream",
     "text": [
      "\n",
      "\r",
      "0it [00:00, ?it/s]"
     ]
    },
    {
     "name": "stdout",
     "output_type": "stream",
     "text": [
      "\r",
      "Upgrading database; v3 -> v4: : 0it [00:00, ?it/s]"
     ]
    },
    {
     "name": "stdout",
     "output_type": "stream",
     "text": [
      "\r",
      "Upgrading database; v3 -> v4: : 0it [00:00, ?it/s]"
     ]
    },
    {
     "name": "stdout",
     "output_type": "stream",
     "text": [
      "\n",
      "\r",
      "  0%|          | 0/1 [00:00<?, ?it/s]"
     ]
    },
    {
     "name": "stdout",
     "output_type": "stream",
     "text": [
      "\r",
      "Upgrading database; v4 -> v5:   0%|          | 0/1 [00:00<?, ?it/s]"
     ]
    },
    {
     "name": "stdout",
     "output_type": "stream",
     "text": [
      "\r",
      "Upgrading database; v4 -> v5: 100%|██████████| 1/1 [00:00<00:00, 721.04it/s]"
     ]
    },
    {
     "name": "stdout",
     "output_type": "stream",
     "text": [
      "\n",
      "\r",
      "0it [00:00, ?it/s]"
     ]
    },
    {
     "name": "stdout",
     "output_type": "stream",
     "text": [
      "\r",
      "Upgrading database; v5 -> v6: : 0it [00:00, ?it/s]"
     ]
    },
    {
     "name": "stdout",
     "output_type": "stream",
     "text": [
      "\r",
      "Upgrading database; v5 -> v6: : 0it [00:00, ?it/s]"
     ]
    },
    {
     "name": "stdout",
     "output_type": "stream",
     "text": [
      "\n",
      "\r",
      "  0%|          | 0/1 [00:00<?, ?it/s]"
     ]
    },
    {
     "name": "stdout",
     "output_type": "stream",
     "text": [
      "\r",
      "Upgrading database; v6 -> v7:   0%|          | 0/1 [00:00<?, ?it/s]"
     ]
    },
    {
     "name": "stdout",
     "output_type": "stream",
     "text": [
      "\r",
      "Upgrading database; v6 -> v7: 100%|██████████| 1/1 [00:00<00:00, 385.26it/s]"
     ]
    },
    {
     "name": "stdout",
     "output_type": "stream",
     "text": [
      "\n",
      "\r",
      "  0%|          | 0/1 [00:00<?, ?it/s]"
     ]
    },
    {
     "name": "stdout",
     "output_type": "stream",
     "text": [
      "\r",
      "Upgrading database; v7 -> v8:   0%|          | 0/1 [00:00<?, ?it/s]"
     ]
    },
    {
     "name": "stdout",
     "output_type": "stream",
     "text": [
      "\r",
      "Upgrading database; v7 -> v8: 100%|██████████| 1/1 [00:00<00:00, 649.98it/s]"
     ]
    },
    {
     "name": "stdout",
     "output_type": "stream",
     "text": [
      "\n",
      "\r",
      "  0%|          | 0/1 [00:00<?, ?it/s]"
     ]
    },
    {
     "name": "stdout",
     "output_type": "stream",
     "text": [
      "\r",
      "Upgrading database; v8 -> v9:   0%|          | 0/1 [00:00<?, ?it/s]"
     ]
    },
    {
     "name": "stdout",
     "output_type": "stream",
     "text": [
      "\r",
      "Upgrading database; v8 -> v9: 100%|██████████| 1/1 [00:00<00:00, 945.94it/s]"
     ]
    },
    {
     "name": "stdout",
     "output_type": "stream",
     "text": [
      "\n"
     ]
    },
    {
     "data": {
      "text/plain": [
       "tutorial_ParameterWithSetpoints#no sample#1@/home/vsts/work/1/s/docs/examples/Parameters/tutorial_paramter_with_setpoints.db\n",
       "----------------------------------------------------------------------------------------------------------------------------"
      ]
     },
     "execution_count": 6,
     "metadata": {},
     "output_type": "execute_result"
    }
   ],
   "source": [
    "tutorial_db_path = os.path.join(os.getcwd(), 'tutorial_paramter_with_setpoints.db')\n",
    "initialise_or_create_database_at(tutorial_db_path)\n",
    "load_or_create_experiment(experiment_name='tutorial_ParameterWithSetpoints', sample_name=\"no sample\")"
   ]
  },
  {
   "cell_type": "code",
   "execution_count": 7,
   "metadata": {},
   "outputs": [],
   "source": [
    "a = DummySpectrumAnalyzer('foobar')"
   ]
  },
  {
   "cell_type": "markdown",
   "metadata": {},
   "source": [
    "First we setup the limits of the spectrum"
   ]
  },
  {
   "cell_type": "code",
   "execution_count": 8,
   "metadata": {},
   "outputs": [],
   "source": [
    "a.f_start(0)\n",
    "a.f_stop(500)\n",
    "a.n_points(501)"
   ]
  },
  {
   "cell_type": "markdown",
   "metadata": {},
   "source": [
    "And we can grab the frequency axis"
   ]
  },
  {
   "cell_type": "code",
   "execution_count": 9,
   "metadata": {},
   "outputs": [
    {
     "data": {
      "text/plain": [
       "501"
      ]
     },
     "execution_count": 9,
     "metadata": {},
     "output_type": "execute_result"
    }
   ],
   "source": [
    "a.n_points()"
   ]
  },
  {
   "cell_type": "code",
   "execution_count": 10,
   "metadata": {
    "scrolled": false
   },
   "outputs": [
    {
     "data": {
      "text/plain": [
       "501"
      ]
     },
     "execution_count": 10,
     "metadata": {},
     "output_type": "execute_result"
    }
   ],
   "source": [
    "freq_axis = a.freq_axis()\n",
    "len(freq_axis)"
   ]
  },
  {
   "cell_type": "code",
   "execution_count": 11,
   "metadata": {},
   "outputs": [
    {
     "data": {
      "text/plain": [
       "array([0., 1., 2., 3., 4., 5., 6., 7., 8., 9.])"
      ]
     },
     "execution_count": 11,
     "metadata": {},
     "output_type": "execute_result"
    }
   ],
   "source": [
    "freq_axis[:10]"
   ]
  },
  {
   "cell_type": "markdown",
   "metadata": {},
   "source": [
    "As expected we get a result wit 501 points as we asked for an axis with 501 points. "
   ]
  },
  {
   "cell_type": "markdown",
   "metadata": {},
   "source": [
    "Above we have added a validator to the `freq_axis` parameter encoding the fact that this is an Array with `n_points`. Note that we do not have to supply the number of points as an integer but can supply a function that returns the valid number of points. This would normally be a QCoDeS parameter.\n",
    "\n",
    "This will be checked if we validate the output."
   ]
  },
  {
   "cell_type": "code",
   "execution_count": 12,
   "metadata": {},
   "outputs": [],
   "source": [
    "a.freq_axis.validate(a.freq_axis.get())"
   ]
  },
  {
   "cell_type": "markdown",
   "metadata": {},
   "source": [
    "Naturally, we can also get the spectrum. Getting the spectrum will automatically perform validation both for the shape of the parameter itself and the relation to the setpoint parameter(s)"
   ]
  },
  {
   "cell_type": "code",
   "execution_count": 13,
   "metadata": {
    "scrolled": true
   },
   "outputs": [
    {
     "data": {
      "text/plain": [
       "501"
      ]
     },
     "execution_count": 13,
     "metadata": {},
     "output_type": "execute_result"
    }
   ],
   "source": [
    "spectrum = a.spectrum.get()\n",
    "len(spectrum)"
   ]
  },
  {
   "cell_type": "markdown",
   "metadata": {},
   "source": [
    "When we validate a `ParameterWithSetpoints`, we automatically validate that the shape is consistent between the parameters and its setpoints. As well as validating the shape as above."
   ]
  },
  {
   "cell_type": "code",
   "execution_count": 14,
   "metadata": {},
   "outputs": [],
   "source": [
    "a.spectrum.validate(a.spectrum.get())"
   ]
  },
  {
   "cell_type": "markdown",
   "metadata": {},
   "source": [
    "The consistent shapes can be validated explicitly."
   ]
  },
  {
   "cell_type": "code",
   "execution_count": 15,
   "metadata": {},
   "outputs": [],
   "source": [
    "a.spectrum.validate_consistent_shape()"
   ]
  },
  {
   "cell_type": "markdown",
   "metadata": {},
   "source": [
    "We can inspect the setpoints of the spectrum."
   ]
  },
  {
   "cell_type": "code",
   "execution_count": 16,
   "metadata": {},
   "outputs": [
    {
     "data": {
      "text/plain": [
       "(<__main__.GeneratedSetPoints: freq_axis at 140714885311632>,)"
      ]
     },
     "execution_count": 16,
     "metadata": {},
     "output_type": "execute_result"
    }
   ],
   "source": [
    "a.spectrum.setpoints"
   ]
  },
  {
   "cell_type": "markdown",
   "metadata": {},
   "source": [
    "Or even change them."
   ]
  },
  {
   "cell_type": "code",
   "execution_count": 17,
   "metadata": {},
   "outputs": [],
   "source": [
    "a.spectrum.setpoints = (a.freq_axis,)"
   ]
  },
  {
   "cell_type": "markdown",
   "metadata": {},
   "source": [
    "## Measurement"
   ]
  },
  {
   "cell_type": "markdown",
   "metadata": {},
   "source": [
    "We can also directly consume the parameter in a measurement without defining the setpoints of the parameter again. The setpoints are automatically obtained from the definition of the `ParameterWithSetpoint` instance. "
   ]
  },
  {
   "cell_type": "code",
   "execution_count": 18,
   "metadata": {},
   "outputs": [
    {
     "name": "stdout",
     "output_type": "stream",
     "text": [
      "Starting experimental run with id: 1. \n"
     ]
    }
   ],
   "source": [
    "meas = Measurement()\n",
    "meas.register_parameter(a.spectrum)\n",
    "\n",
    "with meas.run() as datasaver:\n",
    "    datasaver.add_result((a.freq_axis, a.freq_axis()),\n",
    "                         (a.spectrum, a.spectrum()))\n",
    "    dataset = datasaver.dataset"
   ]
  },
  {
   "cell_type": "markdown",
   "metadata": {},
   "source": [
    "And plot it"
   ]
  },
  {
   "cell_type": "code",
   "execution_count": 19,
   "metadata": {},
   "outputs": [
    {
     "data": {
      "text/plain": [
       "([<matplotlib.axes._subplots.AxesSubplot at 0x7ffabd2be750>], [None])"
      ]
     },
     "execution_count": 19,
     "metadata": {},
     "output_type": "execute_result"
    },
    {
     "data": {
      "image/png": "[encoded data removed]",
      "text/plain": [
       "<Figure size 432x288 with 1 Axes>"
      ]
     },
     "metadata": {
      "needs_background": "light"
     },
     "output_type": "display_data"
    }
   ],
   "source": [
    "plot_dataset(dataset)"
   ]
  },
  {
   "cell_type": "markdown",
   "metadata": {},
   "source": [
    "To reduce the amount of typing a simple convenience function is provided that will take a `ParameterWithSetpoints` and get both its values and the setpoints values and return them as tuples for direct insertion into the Dataset."
   ]
  },
  {
   "cell_type": "code",
   "execution_count": 20,
   "metadata": {
    "scrolled": true
   },
   "outputs": [
    {
     "data": {
      "text/plain": [
       "[(<__main__.GeneratedSetPoints: freq_axis at 140714885311632>,\n",
       "  array([  0.,   1.,   2.,   3.,   4.,   5.,   6.,   7.,   8.,   9.,  10.,\n",
       "          11.,  12.,  13.,  14.,  15.,  16.,  17.,  18.,  19.,  20.,  21.,\n",
       "          22.,  23.,  24.,  25.,  26.,  27.,  28.,  29.,  30.,  31.,  32.,\n",
       "          33.,  34.,  35.,  36.,  37.,  38.,  39.,  40.,  41.,  42.,  43.,\n",
       "          44.,  45.,  46.,  47.,  48.,  49.,  50.,  51.,  52.,  53.,  54.,\n",
       "          55.,  56.,  57.,  58.,  59.,  60.,  61.,  62.,  63.,  64.,  65.,\n",
       "          66.,  67.,  68.,  69.,  70.,  71.,  72.,  73.,  74.,  75.,  76.,\n",
       "          77.,  78.,  79.,  80.,  81.,  82.,  83.,  84.,  85.,  86.,  87.,\n",
       "          88.,  89.,  90.,  91.,  92.,  93.,  94.,  95.,  96.,  97.,  98.,\n",
       "          99., 100., 101., 102., 103., 104., 105., 106., 107., 108., 109.,\n",
       "         110., 111., 112., 113., 114., 115., 116., 117., 118., 119., 120.,\n",
       "         121., 122., 123., 124., 125., 126., 127., 128., 129., 130., 131.,\n",
       "         132., 133., 134., 135., 136., 137., 138., 139., 140., 141., 142.,\n",
       "         143., 144., 145., 146., 147., 148., 149., 150., 151., 152., 153.,\n",
       "         154., 155., 156., 157., 158., 159., 160., 161., 162., 163., 164.,\n",
       "         165., 166., 167., 168., 169., 170., 171., 172., 173., 174., 175.,\n",
       "         176., 177., 178., 179., 180., 181., 182., 183., 184., 185., 186.,\n",
       "         187., 188., 189., 190., 191., 192., 193., 194., 195., 196., 197.,\n",
       "         198., 199., 200., 201., 202., 203., 204., 205., 206., 207., 208.,\n",
       "         209., 210., 211., 212., 213., 214., 215., 216., 217., 218., 219.,\n",
       "         220., 221., 222., 223., 224., 225., 226., 227., 228., 229., 230.,\n",
       "         231., 232., 233., 234., 235., 236., 237., 238., 239., 240., 241.,\n",
       "         242., 243., 244., 245., 246., 247., 248., 249., 250., 251., 252.,\n",
       "         253., 254., 255., 256., 257., 258., 259., 260., 261., 262., 263.,\n",
       "         264., 265., 266., 267., 268., 269., 270., 271., 272., 273., 274.,\n",
       "         275., 276., 277., 278., 279., 280., 281., 282., 283., 284., 285.,\n",
       "         286., 287., 288., 289., 290., 291., 292., 293., 294., 295., 296.,\n",
       "         297., 298., 299., 300., 301., 302., 303., 304., 305., 306., 307.,\n",
       "         308., 309., 310., 311., 312., 313., 314., 315., 316., 317., 318.,\n",
       "         319., 320., 321., 322., 323., 324., 325., 326., 327., 328., 329.,\n",
       "         330., 331., 332., 333., 334., 335., 336., 337., 338., 339., 340.,\n",
       "         341., 342., 343., 344., 345., 346., 347., 348., 349., 350., 351.,\n",
       "         352., 353., 354., 355., 356., 357., 358., 359., 360., 361., 362.,\n",
       "         363., 364., 365., 366., 367., 368., 369., 370., 371., 372., 373.,\n",
       "         374., 375., 376., 377., 378., 379., 380., 381., 382., 383., 384.,\n",
       "         385., 386., 387., 388., 389., 390., 391., 392., 393., 394., 395.,\n",
       "         396., 397., 398., 399., 400., 401., 402., 403., 404., 405., 406.,\n",
       "         407., 408., 409., 410., 411., 412., 413., 414., 415., 416., 417.,\n",
       "         418., 419., 420., 421., 422., 423., 424., 425., 426., 427., 428.,\n",
       "         429., 430., 431., 432., 433., 434., 435., 436., 437., 438., 439.,\n",
       "         440., 441., 442., 443., 444., 445., 446., 447., 448., 449., 450.,\n",
       "         451., 452., 453., 454., 455., 456., 457., 458., 459., 460., 461.,\n",
       "         462., 463., 464., 465., 466., 467., 468., 469., 470., 471., 472.,\n",
       "         473., 474., 475., 476., 477., 478., 479., 480., 481., 482., 483.,\n",
       "         484., 485., 486., 487., 488., 489., 490., 491., 492., 493., 494.,\n",
       "         495., 496., 497., 498., 499., 500.])),\n",
       " (<__main__.DummyArray: spectrum at 140714890211920>,\n",
       "  array([7.54753860e-01, 9.75102952e-01, 1.54791968e-02, 1.13939818e-01,\n",
       "         4.26195281e-01, 8.99803151e-01, 6.09805699e-01, 5.15438492e-01,\n",
       "         1.82097557e-01, 4.09577886e-01, 5.70375500e-01, 5.16370313e-01,\n",
       "         6.45908054e-01, 2.44484827e-01, 5.84537557e-01, 4.21074298e-01,\n",
       "         1.73976539e-01, 7.24155855e-01, 6.43892579e-01, 7.59172122e-01,\n",
       "         6.33380124e-01, 1.56690414e-01, 8.30096370e-02, 4.27167811e-01,\n",
       "         1.33767217e-01, 2.46306990e-01, 7.89265192e-01, 3.70457525e-01,\n",
       "         5.53314696e-01, 8.13884041e-01, 8.03966634e-01, 7.81321262e-01,\n",
       "         3.52594196e-01, 2.63023797e-01, 4.17895784e-02, 5.50927741e-02,\n",
       "         3.55623895e-01, 6.72197827e-01, 7.50845126e-02, 9.52623151e-01,\n",
       "         7.91889374e-01, 5.30928519e-01, 8.19803169e-01, 2.94260691e-02,\n",
       "         2.93456485e-01, 9.75548069e-01, 2.89235296e-01, 7.79848220e-01,\n",
       "         3.68769478e-01, 3.42873568e-01, 9.78602058e-02, 8.34376140e-01,\n",
       "         1.10555589e-01, 3.78024807e-01, 5.06714878e-01, 3.86931168e-01,\n",
       "         4.74278298e-01, 6.13701536e-01, 3.83555848e-01, 4.95868350e-01,\n",
       "         2.19231846e-01, 5.69046220e-01, 3.69096274e-01, 2.42812744e-01,\n",
       "         2.89351165e-01, 2.18789497e-01, 1.17500747e-01, 1.87898026e-01,\n",
       "         4.92689694e-01, 6.61674358e-01, 1.44998110e-01, 2.17958164e-01,\n",
       "         6.75988298e-01, 4.83207068e-01, 2.31412511e-01, 1.96590311e-01,\n",
       "         2.79177092e-01, 4.67068423e-01, 3.69860396e-01, 2.09072913e-01,\n",
       "         7.31832165e-01, 8.41912346e-01, 4.21509287e-01, 5.73706305e-01,\n",
       "         5.21351534e-01, 8.41697005e-01, 7.54901239e-02, 5.74531513e-02,\n",
       "         1.94288163e-02, 3.82453849e-03, 6.25630024e-01, 5.71196424e-01,\n",
       "         5.07374069e-01, 7.76106972e-01, 8.42613558e-01, 5.97480036e-01,\n",
       "         5.24358324e-01, 3.04409851e-01, 2.75082546e-02, 5.19888745e-01,\n",
       "         3.27911358e-01, 9.44479163e-01, 6.98363912e-01, 7.30448241e-01,\n",
       "         5.39791430e-01, 8.08737498e-01, 9.04616277e-01, 4.99900530e-01,\n",
       "         5.96976987e-01, 8.62658492e-01, 6.85489429e-01, 4.39518649e-01,\n",
       "         9.14214544e-01, 3.11337441e-01, 4.39881862e-01, 6.24646350e-01,\n",
       "         8.63232381e-01, 5.72399626e-01, 4.93820372e-01, 2.00170018e-01,\n",
       "         9.89210770e-01, 6.07633320e-01, 2.37050756e-01, 3.71503747e-01,\n",
       "         1.13604770e-01, 6.56196607e-01, 1.00373304e-01, 6.46709170e-01,\n",
       "         7.03348550e-01, 3.13193709e-01, 9.45044491e-02, 4.86283942e-01,\n",
       "         3.27008513e-01, 4.10072889e-01, 1.82047426e-01, 4.61073600e-01,\n",
       "         5.45764366e-01, 3.47170242e-01, 4.59975050e-02, 8.19938694e-01,\n",
       "         5.17306190e-01, 8.92890275e-01, 9.28912303e-01, 6.83582183e-01,\n",
       "         7.02374345e-01, 8.40140215e-01, 1.20388935e-01, 7.88988210e-01,\n",
       "         1.60677538e-01, 5.34255801e-01, 8.54142438e-01, 8.52210776e-01,\n",
       "         2.08832313e-01, 3.92589290e-01, 5.55885379e-01, 6.67650727e-01,\n",
       "         5.25652657e-02, 7.03631867e-01, 4.45760713e-01, 9.47678789e-01,\n",
       "         9.02528341e-01, 7.17198624e-01, 8.54527313e-01, 5.42061039e-01,\n",
       "         5.36651433e-01, 8.82975925e-01, 7.99094275e-01, 5.47968435e-01,\n",
       "         8.67145393e-02, 2.08840296e-02, 7.35181390e-01, 6.18709998e-01,\n",
       "         8.14591201e-01, 1.15099998e-01, 7.80202004e-01, 3.72488319e-01,\n",
       "         2.14296054e-01, 2.49703932e-01, 1.80477722e-01, 8.54715674e-01,\n",
       "         2.47336766e-01, 6.25016475e-02, 4.57210955e-01, 5.46974729e-02,\n",
       "         2.96539612e-01, 5.28268784e-01, 5.59274133e-02, 4.37581047e-01,\n",
       "         4.09554488e-01, 5.36331734e-01, 2.77917671e-01, 3.63557032e-01,\n",
       "         9.59146144e-01, 4.91134917e-01, 6.06757783e-01, 8.17686280e-01,\n",
       "         1.34294335e-01, 6.05645381e-01, 5.89782535e-02, 8.99314110e-01,\n",
       "         8.73849970e-01, 6.11941226e-02, 2.19360559e-01, 7.23880122e-01,\n",
       "         2.01554443e-01, 3.91771453e-01, 6.76179772e-01, 4.25554199e-01,\n",
       "         3.79388907e-01, 2.55571657e-01, 2.21594723e-02, 9.12747202e-01,\n",
       "         2.65101209e-01, 4.79038855e-01, 2.42365965e-01, 4.94737047e-01,\n",
       "         7.59240322e-01, 3.50187625e-01, 9.32508739e-02, 1.33381499e-01,\n",
       "         1.82474142e-01, 3.68492979e-02, 6.53811482e-01, 2.31498805e-01,\n",
       "         6.62868244e-01, 5.46750614e-01, 2.90371647e-01, 6.07980569e-01,\n",
       "         6.63738285e-01, 1.58844668e-01, 5.92793758e-01, 6.71755478e-01,\n",
       "         2.45128412e-01, 4.99151872e-01, 8.62482092e-01, 3.17727326e-01,\n",
       "         4.49801419e-01, 9.13399577e-01, 9.53768820e-01, 3.12021104e-01,\n",
       "         6.49331741e-01, 7.84584785e-01, 1.28526713e-01, 4.01200976e-01,\n",
       "         9.66730782e-01, 7.59261239e-01, 1.80386595e-01, 8.09635918e-01,\n",
       "         6.24934695e-01, 6.17877885e-01, 5.67771773e-01, 5.80323059e-01,\n",
       "         7.21709463e-01, 2.38991709e-01, 2.05233988e-01, 4.63935398e-01,\n",
       "         1.03323360e-01, 6.57500295e-01, 6.11364103e-02, 6.99950150e-01,\n",
       "         2.40543328e-01, 9.75471679e-01, 3.80693627e-01, 3.69652693e-01,\n",
       "         2.67560855e-01, 1.53234305e-01, 4.10008674e-01, 9.97498236e-01,\n",
       "         1.84676245e-01, 9.85003420e-01, 6.10937150e-01, 2.03436306e-01,\n",
       "         4.39164586e-01, 8.80476151e-01, 2.90588078e-01, 3.71236838e-01,\n",
       "         1.02683204e-01, 1.00813328e-01, 3.66822046e-01, 7.54324353e-01,\n",
       "         7.12655260e-01, 2.76903260e-01, 7.80401946e-01, 1.09020596e-01,\n",
       "         2.33319823e-01, 8.20067279e-02, 9.16163046e-02, 3.98426223e-01,\n",
       "         4.42075352e-01, 1.19957895e-02, 5.98704572e-02, 7.88022845e-01,\n",
       "         1.00735754e-01, 9.29199953e-01, 8.18306028e-01, 6.56038411e-01,\n",
       "         1.68953854e-02, 9.51278152e-01, 6.64156415e-01, 3.82957637e-01,\n",
       "         2.02650871e-01, 8.66163536e-01, 7.55209000e-01, 8.44028441e-01,\n",
       "         7.96620689e-01, 8.52392636e-01, 1.44256497e-02, 9.86038191e-03,\n",
       "         8.58573734e-01, 6.91841879e-01, 8.48136853e-02, 3.59941920e-01,\n",
       "         2.12479053e-02, 6.09265855e-01, 1.85415801e-02, 5.06370123e-01,\n",
       "         5.10908399e-01, 9.26011038e-01, 8.14164669e-01, 8.64833326e-01,\n",
       "         9.00940605e-02, 1.69680412e-01, 1.63144482e-01, 8.87423510e-01,\n",
       "         4.13799956e-01, 7.66021500e-01, 4.75202547e-01, 3.59194325e-01,\n",
       "         5.64072102e-01, 7.70944597e-01, 6.07009820e-01, 6.80994730e-01,\n",
       "         4.33622550e-01, 9.09109223e-01, 3.94242555e-02, 3.75689622e-01,\n",
       "         8.79642820e-01, 2.63853718e-01, 2.01244477e-01, 9.48295105e-01,\n",
       "         7.17495474e-01, 6.30064127e-01, 1.28287031e-01, 4.61428710e-01,\n",
       "         5.76380570e-01, 1.28906784e-03, 6.97015134e-01, 9.78229268e-02,\n",
       "         7.05091315e-01, 9.54626318e-02, 3.30244484e-01, 2.26430377e-01,\n",
       "         2.67995355e-01, 5.12595307e-01, 8.21046394e-01, 1.09409432e-01,\n",
       "         4.63317068e-01, 3.87266117e-01, 1.23465586e-01, 7.59075224e-02,\n",
       "         2.56814703e-01, 8.70297062e-02, 4.97176382e-02, 5.77292197e-01,\n",
       "         2.03389806e-01, 4.92130601e-01, 1.56951718e-01, 1.93001842e-01,\n",
       "         3.19686770e-01, 3.68135390e-01, 3.63820700e-01, 1.61828245e-01,\n",
       "         8.64668314e-01, 1.07486504e-01, 7.66443421e-02, 4.53810624e-01,\n",
       "         6.54287196e-01, 4.98021074e-01, 7.67790241e-01, 7.73549217e-01,\n",
       "         6.24271524e-01, 9.56421630e-01, 7.83389954e-01, 7.86875396e-01,\n",
       "         4.13076621e-01, 3.06001596e-04, 9.94213976e-01, 8.73408764e-01,\n",
       "         6.57165979e-01, 9.32416207e-01, 2.96328706e-02, 7.41146450e-01,\n",
       "         8.91540286e-01, 6.81265090e-01, 5.35321440e-01, 9.80049977e-01,\n",
       "         3.50094475e-01, 9.64708476e-01, 2.86612909e-01, 8.97900165e-01,\n",
       "         4.76230481e-01, 5.68884840e-01, 4.93550364e-01, 7.03815306e-01,\n",
       "         5.09065047e-01, 6.61607863e-03, 4.29378077e-01, 4.19422221e-01,\n",
       "         4.17337755e-01, 3.03232652e-01, 6.98016551e-02, 3.39900156e-01,\n",
       "         2.16910697e-01, 8.71629408e-01, 7.21877916e-01, 2.66414582e-01,\n",
       "         1.70718738e-01, 5.69598034e-01, 4.95246289e-01, 9.99999806e-01,\n",
       "         7.69133760e-01, 2.36645914e-01, 8.38711949e-01, 6.91343676e-01,\n",
       "         1.64698189e-01, 4.82470731e-01, 1.37467766e-01, 2.11174566e-01,\n",
       "         1.58011742e-01, 3.82930746e-01, 6.32677824e-01, 9.55175262e-01,\n",
       "         4.69532695e-01, 6.06055405e-01, 5.72473599e-01, 1.01070483e-01,\n",
       "         8.37801895e-01, 5.23047950e-01, 9.88005431e-01, 7.45952474e-01,\n",
       "         4.92535826e-01, 4.00664227e-01, 5.02364798e-01, 9.71301459e-01,\n",
       "         6.53374485e-01, 7.81015578e-01, 5.03023362e-01, 5.72266303e-01,\n",
       "         6.96686276e-01, 3.98660969e-01, 9.08078485e-01, 6.56537297e-01,\n",
       "         2.20227916e-01, 5.99533717e-01, 6.74072858e-01, 4.09978942e-03,\n",
       "         9.69279861e-01, 1.57363927e-01, 1.16836864e-01, 9.55683398e-01,\n",
       "         8.51780022e-01, 7.75332173e-01, 3.96341968e-01, 6.64748308e-01,\n",
       "         1.02847023e-01, 2.57476164e-01, 3.66432338e-01, 5.60722775e-01,\n",
       "         9.75437374e-01, 8.22904164e-01, 2.92219996e-01, 9.28588329e-01,\n",
       "         9.46357145e-01, 7.72357498e-01, 9.12205737e-01, 5.80046172e-01,\n",
       "         4.06650897e-01, 5.92664251e-01, 1.12282809e-01, 3.91587024e-01,\n",
       "         3.86470607e-01, 1.76099929e-01, 5.64244321e-01, 1.44367992e-01,\n",
       "         9.45933711e-02, 2.68571912e-02, 2.39957846e-01, 4.49501208e-01,\n",
       "         1.03856665e-01, 9.05276804e-01, 5.61993927e-01, 1.15138954e-02,\n",
       "         6.31049121e-01, 4.27204715e-01, 9.70659087e-01, 9.34579918e-01,\n",
       "         9.83374552e-02, 4.76581740e-01, 1.04787304e-01, 9.10878650e-01,\n",
       "         4.09111285e-01]))]"
      ]
     },
     "execution_count": 20,
     "metadata": {},
     "output_type": "execute_result"
    }
   ],
   "source": [
    "expand_setpoints_helper(a.spectrum)"
   ]
  },
  {
   "cell_type": "code",
   "execution_count": 21,
   "metadata": {},
   "outputs": [
    {
     "name": "stdout",
     "output_type": "stream",
     "text": [
      "Starting experimental run with id: 2. \n"
     ]
    }
   ],
   "source": [
    "meas = Measurement()\n",
    "meas.register_parameter(a.spectrum)\n",
    "\n",
    "with meas.run() as datasaver:\n",
    "    datasaver.add_result(*expand_setpoints_helper(a.spectrum))\n",
    "    \n",
    "    dataid = datasaver.run_id"
   ]
  },
  {
   "cell_type": "code",
   "execution_count": null,
   "metadata": {},
   "outputs": [],
   "source": []
  }
 ],
 "metadata": {
  "kernelspec": {
   "display_name": "Python 3",
   "language": "python",
   "name": "python3"
  },
  "language_info": {
   "codemirror_mode": {
    "name": "ipython",
    "version": 3
   },
   "file_extension": ".py",
   "mimetype": "text/x-python",
   "name": "python",
   "nbconvert_exporter": "python",
   "pygments_lexer": "ipython3",
   "version": "3.7.7"
  },
  "toc": {
   "base_numbering": 1,
   "nav_menu": {},
   "number_sections": true,
   "sideBar": true,
   "skip_h1_title": false,
   "title_cell": "Table of Contents",
   "title_sidebar": "Contents",
   "toc_cell": false,
   "toc_position": {},
   "toc_section_display": true,
   "toc_window_display": false
  },
  "varInspector": {
   "cols": {
    "lenName": 16,
    "lenType": 16,
    "lenVar": 40
   },
   "kernels_config": {
    "python": {
     "delete_cmd_postfix": "",
     "delete_cmd_prefix": "del ",
     "library": "var_list.py",
     "varRefreshCmd": "print(var_dic_list())"
    },
    "r": {
     "delete_cmd_postfix": ") ",
     "delete_cmd_prefix": "rm(",
     "library": "var_list.r",
     "varRefreshCmd": "cat(var_dic_list()) "
    }
   },
   "types_to_exclude": [
    "module",
    "function",
    "builtin_function_or_method",
    "instance",
    "_Feature"
   ],
   "window_display": false
  }
 },
 "nbformat": 4,
 "nbformat_minor": 2
}
