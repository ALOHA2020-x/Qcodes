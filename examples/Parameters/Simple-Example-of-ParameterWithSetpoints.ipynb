{
 "cells": [
  {
   "cell_type": "markdown",
   "metadata": {},
   "source": [
    "# Simple Example of ParameterWithSetpoints\n",
    "This notebook provides an example for writing a simple driver with a parameter that has setpoints. Let's name this parameter that has setpoints as \"y\". Then, the setpoints, say \"x1, x2, x3 ..\", are the parameters on which the parameter \n",
    "\"y\" depends upon. Meaning \"y\" is a function of \"x1, x2, x3 ...\" where \"x1, x2, x3 ...\" are known as the setpoints of parameter \"y\".\n",
    "\n",
    "This is most likely to be useful for instruments that return arrays of results. In this notebook, we will show an example of this."
   ]
  },
  {
   "cell_type": "code",
   "execution_count": 1,
   "metadata": {},
   "outputs": [],
   "source": [
    "import numpy as np\n",
    "import os"
   ]
  },
  {
   "cell_type": "code",
   "execution_count": 2,
   "metadata": {},
   "outputs": [
    {
     "name": "stdout",
     "output_type": "stream",
     "text": [
      "Logging hadn't been started.\n",
      "Activating auto-logging. Current session state plus future input saved.\n",
      "Filename       : /home/vsts/.qcodes/logs/command_history.log\n",
      "Mode           : append\n",
      "Output logging : True\n",
      "Raw input log  : False\n",
      "Timestamping   : True\n",
      "State          : active\n"
     ]
    },
    {
     "name": "stdout",
     "output_type": "stream",
     "text": [
      "Qcodes Logfile : /home/vsts/.qcodes/logs/200907-21760-qcodes.log\n"
     ]
    }
   ],
   "source": [
    "from qcodes.dataset.plotting import plot_dataset\n",
    "from qcodes.utils.validators import Numbers, Arrays\n",
    "from qcodes.instrument.base import Instrument\n",
    "from qcodes.dataset.measurements import Measurement"
   ]
  },
  {
   "cell_type": "code",
   "execution_count": 3,
   "metadata": {},
   "outputs": [],
   "source": [
    "from qcodes.dataset.sqlite.database import initialise_or_create_database_at\n",
    "from qcodes.dataset.experiment_container import load_or_create_experiment"
   ]
  },
  {
   "cell_type": "code",
   "execution_count": 4,
   "metadata": {},
   "outputs": [],
   "source": [
    "from qcodes.instrument.parameter import ParameterWithSetpoints, Parameter\n",
    "from qcodes.instrument.parameter import expand_setpoints_helper"
   ]
  },
  {
   "cell_type": "markdown",
   "metadata": {},
   "source": [
    "First, we define a dummy instrument that returns something like a frequency spectrum starting from a frequency given by `f_start` to a frequency given by `f_stop` in `n_points` steps. \n",
    "\n",
    "The extra functionality of the `ParameterWithSetpoints` is implemented by giving it a reference to one or more parameters that acts like its setpoints. \n",
    "\n",
    "To setup a `ParameterWithSetpoints` we have to do two things in addition to what we do for a normal parameter.\n",
    "\n",
    "* Define one or more parameter for the setpoints (one for each dimension of the array and let the `ParameterWithSetpoints` know that these are the setpoints.\n",
    "* Give both the setpoints parameter(s) and the `ParameterWithSetpoints` a `validator` of type `Arrays` with a shape. The shapes should be such that the combined shape of the setpoints matches the shape of the `ParameterWithSetpoints`. Note that if the shape changes with the setting of the instrument, it can be defined by another parameter as shown below. "
   ]
  },
  {
   "cell_type": "code",
   "execution_count": 5,
   "metadata": {},
   "outputs": [],
   "source": [
    "class GeneratedSetPoints(Parameter):\n",
    "    \"\"\"\n",
    "    A parameter that generates a setpoint array from start, stop and num points\n",
    "    parameters.\n",
    "    \"\"\"\n",
    "    def __init__(self, startparam, stopparam, numpointsparam, *args, **kwargs):\n",
    "        super().__init__(*args, **kwargs)\n",
    "        self._startparam = startparam\n",
    "        self._stopparam = stopparam\n",
    "        self._numpointsparam = numpointsparam\n",
    "\n",
    "    def get_raw(self):\n",
    "        return np.linspace(self._startparam(), self._stopparam(),\n",
    "                              self._numpointsparam())\n",
    "\n",
    "class DummyArray(ParameterWithSetpoints):\n",
    "    \n",
    "    def get_raw(self):\n",
    "        npoints = self.root_instrument.n_points.get_latest()\n",
    "        return np.random.rand(npoints)\n",
    "    \n",
    "\n",
    "class DummySpectrumAnalyzer(Instrument):\n",
    "    \n",
    "    def __init__(self, name, **kwargs):\n",
    "        \n",
    "        super().__init__(name, **kwargs)\n",
    "            \n",
    "\n",
    "        self.add_parameter('f_start',\n",
    "                           initial_value=0,\n",
    "                           unit='Hz',\n",
    "                           label='f start',\n",
    "                           vals=Numbers(0,1e3),\n",
    "                           get_cmd=None,\n",
    "                           set_cmd=None)\n",
    "\n",
    "        self.add_parameter('f_stop',\n",
    "                           unit='Hz',\n",
    "                           label='f stop',\n",
    "                           vals=Numbers(1,1e3),\n",
    "                           get_cmd=None,\n",
    "                           set_cmd=None)\n",
    "\n",
    "        self.add_parameter('n_points',\n",
    "                           unit='',\n",
    "                           initial_value=10,\n",
    "                           vals=Numbers(1,1e3),\n",
    "                           get_cmd=None,\n",
    "                           set_cmd=None)\n",
    "        \n",
    "        self.add_parameter('freq_axis',\n",
    "                           unit='Hz',\n",
    "                           label='Freq Axis',\n",
    "                           parameter_class=GeneratedSetPoints,\n",
    "                           startparam=self.f_start,\n",
    "                           stopparam=self.f_stop,\n",
    "                           numpointsparam=self.n_points,\n",
    "                           vals=Arrays(shape=(self.n_points.get_latest,)))\n",
    "                           \n",
    "        self.add_parameter('spectrum',\n",
    "                   unit='dBm',\n",
    "                   setpoints=(self.freq_axis,),\n",
    "                   label='Spectrum',\n",
    "                   parameter_class=DummyArray,\n",
    "                   vals=Arrays(shape=(self.n_points.get_latest,)))\n",
    "                "
   ]
  },
  {
   "cell_type": "markdown",
   "metadata": {},
   "source": [
    "In the above example, the shape is defined by the parameter `n_points` that defines how many samples our `DummySpectrumAnalyzer` returns.\n",
    "\n",
    "This means that the validation will call the function to get `n_points` twice for each `get` of the parameter. This may be too slow, however, if you (as the driver-writer) can guarantee that the cached value for `n_points` will never be out of sync with the value stored in the instrument, `n_points` may be replaced by it's latest known value such that the `validator` reads:\n",
    "```python\n",
    "vals=Arrays(shape=(self.n_points.get_latest))\n",
    "```\n",
    "\n",
    "This avoids any additional call to the instrument. In the same way, the arguments to the `freq_axis` parameter that defines the start, stop and number of points can be replaced by their latest value if the instrument allows it.\n",
    "\n"
   ]
  },
  {
   "cell_type": "code",
   "execution_count": 6,
   "metadata": {},
   "outputs": [
    {
     "name": "stdout",
     "output_type": "stream",
     "text": [
      "\r",
      "0it [00:00, ?it/s]"
     ]
    },
    {
     "name": "stdout",
     "output_type": "stream",
     "text": [
      "\r",
      "Upgrading database; v0 -> v1: : 0it [00:00, ?it/s]"
     ]
    },
    {
     "name": "stdout",
     "output_type": "stream",
     "text": [
      "\r",
      "Upgrading database; v0 -> v1: : 0it [00:00, ?it/s]"
     ]
    },
    {
     "name": "stdout",
     "output_type": "stream",
     "text": [
      "\n",
      "\r",
      "  0%|          | 0/1 [00:00<?, ?it/s]"
     ]
    },
    {
     "name": "stdout",
     "output_type": "stream",
     "text": [
      "\r",
      "Upgrading database; v1 -> v2:   0%|          | 0/1 [00:00<?, ?it/s]"
     ]
    },
    {
     "name": "stdout",
     "output_type": "stream",
     "text": [
      "\r",
      "Upgrading database; v1 -> v2: 100%|██████████| 1/1 [00:00<00:00, 817.92it/s]"
     ]
    },
    {
     "name": "stdout",
     "output_type": "stream",
     "text": [
      "\n",
      "\r",
      "0it [00:00, ?it/s]"
     ]
    },
    {
     "name": "stdout",
     "output_type": "stream",
     "text": [
      "\r",
      "Upgrading database; v2 -> v3: : 0it [00:00, ?it/s]"
     ]
    },
    {
     "name": "stdout",
     "output_type": "stream",
     "text": [
      "\r",
      "Upgrading database; v2 -> v3: : 0it [00:00, ?it/s]"
     ]
    },
    {
     "name": "stdout",
     "output_type": "stream",
     "text": [
      "\n",
      "\r",
      "0it [00:00, ?it/s]"
     ]
    },
    {
     "name": "stdout",
     "output_type": "stream",
     "text": [
      "\r",
      "Upgrading database; v3 -> v4: : 0it [00:00, ?it/s]"
     ]
    },
    {
     "name": "stdout",
     "output_type": "stream",
     "text": [
      "\r",
      "Upgrading database; v3 -> v4: : 0it [00:00, ?it/s]"
     ]
    },
    {
     "name": "stdout",
     "output_type": "stream",
     "text": [
      "\n",
      "\r",
      "  0%|          | 0/1 [00:00<?, ?it/s]"
     ]
    },
    {
     "name": "stdout",
     "output_type": "stream",
     "text": [
      "\r",
      "Upgrading database; v4 -> v5:   0%|          | 0/1 [00:00<?, ?it/s]"
     ]
    },
    {
     "name": "stdout",
     "output_type": "stream",
     "text": [
      "\r",
      "Upgrading database; v4 -> v5: 100%|██████████| 1/1 [00:00<00:00, 706.23it/s]"
     ]
    },
    {
     "name": "stdout",
     "output_type": "stream",
     "text": [
      "\n",
      "\r",
      "0it [00:00, ?it/s]"
     ]
    },
    {
     "name": "stdout",
     "output_type": "stream",
     "text": [
      "\r",
      "Upgrading database; v5 -> v6: : 0it [00:00, ?it/s]"
     ]
    },
    {
     "name": "stdout",
     "output_type": "stream",
     "text": [
      "\r",
      "Upgrading database; v5 -> v6: : 0it [00:00, ?it/s]"
     ]
    },
    {
     "name": "stdout",
     "output_type": "stream",
     "text": [
      "\n",
      "\r",
      "  0%|          | 0/1 [00:00<?, ?it/s]"
     ]
    },
    {
     "name": "stdout",
     "output_type": "stream",
     "text": [
      "\r",
      "Upgrading database; v6 -> v7:   0%|          | 0/1 [00:00<?, ?it/s]"
     ]
    },
    {
     "name": "stdout",
     "output_type": "stream",
     "text": [
      "\r",
      "Upgrading database; v6 -> v7: 100%|██████████| 1/1 [00:00<00:00, 324.69it/s]"
     ]
    },
    {
     "name": "stdout",
     "output_type": "stream",
     "text": [
      "\n",
      "\r",
      "  0%|          | 0/1 [00:00<?, ?it/s]"
     ]
    },
    {
     "name": "stdout",
     "output_type": "stream",
     "text": [
      "\r",
      "Upgrading database; v7 -> v8:   0%|          | 0/1 [00:00<?, ?it/s]"
     ]
    },
    {
     "name": "stdout",
     "output_type": "stream",
     "text": [
      "\r",
      "Upgrading database; v7 -> v8: 100%|██████████| 1/1 [00:00<00:00, 701.04it/s]"
     ]
    },
    {
     "name": "stdout",
     "output_type": "stream",
     "text": [
      "\n",
      "\r",
      "  0%|          | 0/1 [00:00<?, ?it/s]"
     ]
    },
    {
     "name": "stdout",
     "output_type": "stream",
     "text": [
      "\r",
      "Upgrading database; v8 -> v9:   0%|          | 0/1 [00:00<?, ?it/s]"
     ]
    },
    {
     "name": "stdout",
     "output_type": "stream",
     "text": [
      "\r",
      "Upgrading database; v8 -> v9: 100%|██████████| 1/1 [00:00<00:00, 1031.30it/s]"
     ]
    },
    {
     "name": "stdout",
     "output_type": "stream",
     "text": [
      "\n"
     ]
    },
    {
     "data": {
      "text/plain": [
       "tutorial_ParameterWithSetpoints#no sample#1@/home/vsts/work/1/s/docs/examples/Parameters/tutorial_paramter_with_setpoints.db\n",
       "----------------------------------------------------------------------------------------------------------------------------"
      ]
     },
     "execution_count": 6,
     "metadata": {},
     "output_type": "execute_result"
    }
   ],
   "source": [
    "tutorial_db_path = os.path.join(os.getcwd(), 'tutorial_paramter_with_setpoints.db')\n",
    "initialise_or_create_database_at(tutorial_db_path)\n",
    "load_or_create_experiment(experiment_name='tutorial_ParameterWithSetpoints', sample_name=\"no sample\")"
   ]
  },
  {
   "cell_type": "code",
   "execution_count": 7,
   "metadata": {},
   "outputs": [],
   "source": [
    "a = DummySpectrumAnalyzer('foobar')"
   ]
  },
  {
   "cell_type": "markdown",
   "metadata": {},
   "source": [
    "First we setup the limits of the spectrum"
   ]
  },
  {
   "cell_type": "code",
   "execution_count": 8,
   "metadata": {},
   "outputs": [],
   "source": [
    "a.f_start(0)\n",
    "a.f_stop(500)\n",
    "a.n_points(501)"
   ]
  },
  {
   "cell_type": "markdown",
   "metadata": {},
   "source": [
    "And we can grab the frequency axis"
   ]
  },
  {
   "cell_type": "code",
   "execution_count": 9,
   "metadata": {},
   "outputs": [
    {
     "data": {
      "text/plain": [
       "501"
      ]
     },
     "execution_count": 9,
     "metadata": {},
     "output_type": "execute_result"
    }
   ],
   "source": [
    "a.n_points()"
   ]
  },
  {
   "cell_type": "code",
   "execution_count": 10,
   "metadata": {
    "scrolled": false
   },
   "outputs": [
    {
     "data": {
      "text/plain": [
       "501"
      ]
     },
     "execution_count": 10,
     "metadata": {},
     "output_type": "execute_result"
    }
   ],
   "source": [
    "freq_axis = a.freq_axis()\n",
    "len(freq_axis)"
   ]
  },
  {
   "cell_type": "code",
   "execution_count": 11,
   "metadata": {},
   "outputs": [
    {
     "data": {
      "text/plain": [
       "array([0., 1., 2., 3., 4., 5., 6., 7., 8., 9.])"
      ]
     },
     "execution_count": 11,
     "metadata": {},
     "output_type": "execute_result"
    }
   ],
   "source": [
    "freq_axis[:10]"
   ]
  },
  {
   "cell_type": "markdown",
   "metadata": {},
   "source": [
    "As expected we get a result wit 501 points as we asked for an axis with 501 points. "
   ]
  },
  {
   "cell_type": "markdown",
   "metadata": {},
   "source": [
    "Above we have added a validator to the `freq_axis` parameter encoding the fact that this is an Array with `n_points`. Note that we do not have to supply the number of points as an integer but can supply a function that returns the valid number of points. This would normally be a QCoDeS parameter.\n",
    "\n",
    "This will be checked if we validate the output."
   ]
  },
  {
   "cell_type": "code",
   "execution_count": 12,
   "metadata": {},
   "outputs": [],
   "source": [
    "a.freq_axis.validate(a.freq_axis.get())"
   ]
  },
  {
   "cell_type": "markdown",
   "metadata": {},
   "source": [
    "Naturally, we can also get the spectrum. Getting the spectrum will automatically perform validation both for the shape of the parameter itself and the relation to the setpoint parameter(s)"
   ]
  },
  {
   "cell_type": "code",
   "execution_count": 13,
   "metadata": {
    "scrolled": true
   },
   "outputs": [
    {
     "data": {
      "text/plain": [
       "501"
      ]
     },
     "execution_count": 13,
     "metadata": {},
     "output_type": "execute_result"
    }
   ],
   "source": [
    "spectrum = a.spectrum.get()\n",
    "len(spectrum)"
   ]
  },
  {
   "cell_type": "markdown",
   "metadata": {},
   "source": [
    "When we validate a `ParameterWithSetpoints`, we automatically validate that the shape is consistent between the parameters and its setpoints. As well as validating the shape as above."
   ]
  },
  {
   "cell_type": "code",
   "execution_count": 14,
   "metadata": {},
   "outputs": [],
   "source": [
    "a.spectrum.validate(a.spectrum.get())"
   ]
  },
  {
   "cell_type": "markdown",
   "metadata": {},
   "source": [
    "The consistent shapes can be validated explicitly."
   ]
  },
  {
   "cell_type": "code",
   "execution_count": 15,
   "metadata": {},
   "outputs": [],
   "source": [
    "a.spectrum.validate_consistent_shape()"
   ]
  },
  {
   "cell_type": "markdown",
   "metadata": {},
   "source": [
    "We can inspect the setpoints of the spectrum."
   ]
  },
  {
   "cell_type": "code",
   "execution_count": 16,
   "metadata": {},
   "outputs": [
    {
     "data": {
      "text/plain": [
       "(<__main__.GeneratedSetPoints: freq_axis at 139623598876432>,)"
      ]
     },
     "execution_count": 16,
     "metadata": {},
     "output_type": "execute_result"
    }
   ],
   "source": [
    "a.spectrum.setpoints"
   ]
  },
  {
   "cell_type": "markdown",
   "metadata": {},
   "source": [
    "Or even change them."
   ]
  },
  {
   "cell_type": "code",
   "execution_count": 17,
   "metadata": {},
   "outputs": [],
   "source": [
    "a.spectrum.setpoints = (a.freq_axis,)"
   ]
  },
  {
   "cell_type": "markdown",
   "metadata": {},
   "source": [
    "## Measurement"
   ]
  },
  {
   "cell_type": "markdown",
   "metadata": {},
   "source": [
    "We can also directly consume the parameter in a measurement without defining the setpoints of the parameter again. The setpoints are automatically obtained from the definition of the `ParameterWithSetpoint` instance. "
   ]
  },
  {
   "cell_type": "code",
   "execution_count": 18,
   "metadata": {},
   "outputs": [
    {
     "name": "stdout",
     "output_type": "stream",
     "text": [
      "Starting experimental run with id: 1. \n"
     ]
    }
   ],
   "source": [
    "meas = Measurement()\n",
    "meas.register_parameter(a.spectrum)\n",
    "\n",
    "with meas.run() as datasaver:\n",
    "    datasaver.add_result((a.freq_axis, a.freq_axis()),\n",
    "                         (a.spectrum, a.spectrum()))\n",
    "    dataset = datasaver.dataset"
   ]
  },
  {
   "cell_type": "markdown",
   "metadata": {},
   "source": [
    "And plot it"
   ]
  },
  {
   "cell_type": "code",
   "execution_count": 19,
   "metadata": {},
   "outputs": [
    {
     "data": {
      "text/plain": [
       "([<matplotlib.axes._subplots.AxesSubplot at 0x7efca67f32d0>], [None])"
      ]
     },
     "execution_count": 19,
     "metadata": {},
     "output_type": "execute_result"
    },
    {
     "data": {
      "image/png": "[encoded data removed]",
      "text/plain": [
       "<Figure size 432x288 with 1 Axes>"
      ]
     },
     "metadata": {
      "needs_background": "light"
     },
     "output_type": "display_data"
    }
   ],
   "source": [
    "plot_dataset(dataset)"
   ]
  },
  {
   "cell_type": "markdown",
   "metadata": {},
   "source": [
    "To reduce the amount of typing a simple convenience function is provided that will take a `ParameterWithSetpoints` and get both its values and the setpoints values and return them as tuples for direct insertion into the Dataset."
   ]
  },
  {
   "cell_type": "code",
   "execution_count": 20,
   "metadata": {
    "scrolled": true
   },
   "outputs": [
    {
     "data": {
      "text/plain": [
       "[(<__main__.GeneratedSetPoints: freq_axis at 139623598876432>,\n",
       "  array([  0.,   1.,   2.,   3.,   4.,   5.,   6.,   7.,   8.,   9.,  10.,\n",
       "          11.,  12.,  13.,  14.,  15.,  16.,  17.,  18.,  19.,  20.,  21.,\n",
       "          22.,  23.,  24.,  25.,  26.,  27.,  28.,  29.,  30.,  31.,  32.,\n",
       "          33.,  34.,  35.,  36.,  37.,  38.,  39.,  40.,  41.,  42.,  43.,\n",
       "          44.,  45.,  46.,  47.,  48.,  49.,  50.,  51.,  52.,  53.,  54.,\n",
       "          55.,  56.,  57.,  58.,  59.,  60.,  61.,  62.,  63.,  64.,  65.,\n",
       "          66.,  67.,  68.,  69.,  70.,  71.,  72.,  73.,  74.,  75.,  76.,\n",
       "          77.,  78.,  79.,  80.,  81.,  82.,  83.,  84.,  85.,  86.,  87.,\n",
       "          88.,  89.,  90.,  91.,  92.,  93.,  94.,  95.,  96.,  97.,  98.,\n",
       "          99., 100., 101., 102., 103., 104., 105., 106., 107., 108., 109.,\n",
       "         110., 111., 112., 113., 114., 115., 116., 117., 118., 119., 120.,\n",
       "         121., 122., 123., 124., 125., 126., 127., 128., 129., 130., 131.,\n",
       "         132., 133., 134., 135., 136., 137., 138., 139., 140., 141., 142.,\n",
       "         143., 144., 145., 146., 147., 148., 149., 150., 151., 152., 153.,\n",
       "         154., 155., 156., 157., 158., 159., 160., 161., 162., 163., 164.,\n",
       "         165., 166., 167., 168., 169., 170., 171., 172., 173., 174., 175.,\n",
       "         176., 177., 178., 179., 180., 181., 182., 183., 184., 185., 186.,\n",
       "         187., 188., 189., 190., 191., 192., 193., 194., 195., 196., 197.,\n",
       "         198., 199., 200., 201., 202., 203., 204., 205., 206., 207., 208.,\n",
       "         209., 210., 211., 212., 213., 214., 215., 216., 217., 218., 219.,\n",
       "         220., 221., 222., 223., 224., 225., 226., 227., 228., 229., 230.,\n",
       "         231., 232., 233., 234., 235., 236., 237., 238., 239., 240., 241.,\n",
       "         242., 243., 244., 245., 246., 247., 248., 249., 250., 251., 252.,\n",
       "         253., 254., 255., 256., 257., 258., 259., 260., 261., 262., 263.,\n",
       "         264., 265., 266., 267., 268., 269., 270., 271., 272., 273., 274.,\n",
       "         275., 276., 277., 278., 279., 280., 281., 282., 283., 284., 285.,\n",
       "         286., 287., 288., 289., 290., 291., 292., 293., 294., 295., 296.,\n",
       "         297., 298., 299., 300., 301., 302., 303., 304., 305., 306., 307.,\n",
       "         308., 309., 310., 311., 312., 313., 314., 315., 316., 317., 318.,\n",
       "         319., 320., 321., 322., 323., 324., 325., 326., 327., 328., 329.,\n",
       "         330., 331., 332., 333., 334., 335., 336., 337., 338., 339., 340.,\n",
       "         341., 342., 343., 344., 345., 346., 347., 348., 349., 350., 351.,\n",
       "         352., 353., 354., 355., 356., 357., 358., 359., 360., 361., 362.,\n",
       "         363., 364., 365., 366., 367., 368., 369., 370., 371., 372., 373.,\n",
       "         374., 375., 376., 377., 378., 379., 380., 381., 382., 383., 384.,\n",
       "         385., 386., 387., 388., 389., 390., 391., 392., 393., 394., 395.,\n",
       "         396., 397., 398., 399., 400., 401., 402., 403., 404., 405., 406.,\n",
       "         407., 408., 409., 410., 411., 412., 413., 414., 415., 416., 417.,\n",
       "         418., 419., 420., 421., 422., 423., 424., 425., 426., 427., 428.,\n",
       "         429., 430., 431., 432., 433., 434., 435., 436., 437., 438., 439.,\n",
       "         440., 441., 442., 443., 444., 445., 446., 447., 448., 449., 450.,\n",
       "         451., 452., 453., 454., 455., 456., 457., 458., 459., 460., 461.,\n",
       "         462., 463., 464., 465., 466., 467., 468., 469., 470., 471., 472.,\n",
       "         473., 474., 475., 476., 477., 478., 479., 480., 481., 482., 483.,\n",
       "         484., 485., 486., 487., 488., 489., 490., 491., 492., 493., 494.,\n",
       "         495., 496., 497., 498., 499., 500.])),\n",
       " (<__main__.DummyArray: spectrum at 139623598876304>,\n",
       "  array([6.87180089e-01, 8.26697893e-01, 2.27260796e-01, 2.92431320e-01,\n",
       "         7.90239801e-01, 9.37181495e-01, 3.32546263e-01, 8.21913701e-01,\n",
       "         5.62206042e-01, 6.93307792e-01, 7.71852123e-01, 1.37150835e-01,\n",
       "         7.65425235e-01, 1.48898061e-01, 4.12584308e-01, 5.67976345e-01,\n",
       "         3.62594503e-01, 6.31561636e-01, 8.90453853e-01, 8.43664461e-01,\n",
       "         9.00591266e-01, 7.06544230e-01, 5.05767600e-01, 9.09321606e-01,\n",
       "         8.17839200e-01, 8.49988542e-01, 4.56595790e-01, 6.15412290e-01,\n",
       "         9.15346364e-01, 8.53174625e-01, 5.87894955e-02, 4.97754954e-01,\n",
       "         5.50698117e-01, 3.15829821e-01, 9.17373752e-01, 6.39916842e-01,\n",
       "         7.20557196e-01, 9.59374421e-01, 6.60285469e-01, 7.18316852e-01,\n",
       "         2.27085141e-02, 1.08317834e-01, 3.72976666e-01, 4.55025805e-01,\n",
       "         1.53565191e-01, 2.58975136e-01, 3.13393229e-01, 4.17361398e-01,\n",
       "         5.76114627e-01, 7.59907650e-01, 6.98035716e-01, 3.25704864e-01,\n",
       "         8.33556399e-02, 5.73968183e-01, 6.74002478e-01, 4.23293998e-01,\n",
       "         8.68538497e-01, 8.34216819e-01, 7.93443052e-01, 7.10053010e-01,\n",
       "         1.61461217e-02, 4.36696572e-01, 8.79962443e-01, 9.65318842e-01,\n",
       "         3.31136972e-01, 4.90452542e-02, 9.51193493e-02, 9.57984406e-01,\n",
       "         2.86925433e-01, 7.22692232e-01, 2.47908873e-01, 1.39689697e-02,\n",
       "         3.36664841e-01, 4.43332868e-01, 5.51462276e-01, 2.97286115e-02,\n",
       "         1.41100317e-01, 6.86072378e-01, 3.57718836e-01, 7.92188050e-01,\n",
       "         6.51321937e-01, 9.98858328e-01, 8.00387129e-02, 7.47769204e-01,\n",
       "         7.97163036e-01, 3.97324378e-01, 7.52126623e-02, 2.72891160e-01,\n",
       "         1.81187783e-01, 3.49327184e-01, 4.72356764e-01, 7.54834675e-01,\n",
       "         2.80241575e-01, 2.77231926e-01, 7.79435246e-01, 5.42607656e-01,\n",
       "         2.48930822e-01, 7.73680278e-01, 1.69568058e-01, 1.00267423e-01,\n",
       "         9.38979048e-01, 9.05535553e-02, 9.87320750e-01, 3.27019585e-01,\n",
       "         7.07490363e-01, 1.16742256e-01, 9.50159577e-01, 4.68762212e-01,\n",
       "         7.78016170e-01, 8.83120637e-01, 3.91661570e-01, 4.15529344e-01,\n",
       "         2.72414882e-01, 7.90337831e-01, 9.97143460e-01, 5.66431124e-01,\n",
       "         9.61855419e-01, 2.84730851e-01, 4.07552451e-01, 3.31152947e-01,\n",
       "         7.80208295e-01, 3.82842913e-01, 6.75622239e-01, 9.89882953e-01,\n",
       "         5.57494703e-01, 2.48175167e-01, 3.49736578e-01, 7.21690970e-01,\n",
       "         6.18269421e-01, 8.68552426e-01, 3.74914739e-01, 3.82008989e-01,\n",
       "         5.89100547e-01, 4.70851893e-02, 9.37238221e-01, 9.21244500e-02,\n",
       "         5.82296618e-02, 8.20394033e-02, 1.26234865e-01, 8.33522578e-02,\n",
       "         5.24291542e-01, 8.88005222e-01, 6.63541775e-01, 6.89076655e-01,\n",
       "         3.95692739e-01, 1.56458180e-01, 9.44482069e-01, 2.89695838e-01,\n",
       "         1.64643828e-01, 2.94469051e-01, 6.61341464e-01, 2.79056820e-01,\n",
       "         6.78441680e-01, 3.19963795e-01, 3.92882263e-01, 7.91679656e-01,\n",
       "         2.59201597e-01, 7.12365041e-01, 1.94711172e-01, 4.11244274e-01,\n",
       "         3.89055270e-01, 6.50773293e-01, 3.87993571e-01, 3.49157835e-02,\n",
       "         5.06271471e-01, 8.00703305e-01, 9.60855469e-01, 1.49652513e-01,\n",
       "         4.81690233e-01, 6.07686329e-01, 7.14712615e-01, 9.56511799e-01,\n",
       "         1.29837997e-01, 4.37033924e-01, 3.54587716e-01, 7.33294291e-01,\n",
       "         7.26749614e-01, 5.57404712e-01, 1.18497347e-01, 4.41827733e-01,\n",
       "         8.17495041e-02, 8.11679221e-01, 9.17637536e-01, 4.25386094e-01,\n",
       "         9.11911586e-02, 1.24521550e-01, 2.40194289e-02, 8.35257295e-01,\n",
       "         2.33651329e-01, 8.47395278e-01, 3.53637727e-01, 1.84664473e-01,\n",
       "         5.34537078e-01, 2.19147301e-01, 6.86140457e-01, 1.53514525e-01,\n",
       "         7.40383497e-01, 8.89189036e-01, 7.93911019e-01, 8.47675202e-02,\n",
       "         4.28785764e-01, 8.04162413e-01, 5.41648796e-01, 3.15839101e-01,\n",
       "         7.73798948e-02, 3.81416990e-01, 3.72635583e-01, 2.77583820e-02,\n",
       "         7.56668983e-01, 8.03578568e-01, 1.72045795e-01, 7.95147057e-01,\n",
       "         1.99040521e-01, 3.89689477e-01, 1.00786647e-01, 8.65269664e-02,\n",
       "         8.09862094e-01, 4.17386550e-01, 9.73418998e-01, 7.30530292e-01,\n",
       "         8.63250372e-01, 8.58334407e-01, 7.82312236e-01, 6.30610736e-01,\n",
       "         8.14595273e-01, 5.73474761e-01, 5.95941697e-01, 6.37274356e-01,\n",
       "         7.91991834e-01, 6.21079553e-02, 6.81803082e-01, 3.92388395e-01,\n",
       "         8.09025687e-01, 4.09053221e-01, 2.40096709e-01, 2.17307925e-01,\n",
       "         9.21052706e-03, 7.85090492e-01, 4.98086884e-01, 6.00095990e-02,\n",
       "         5.70697291e-01, 2.07526087e-01, 9.32541070e-01, 4.05284574e-01,\n",
       "         7.79001449e-01, 9.72282947e-01, 2.80529675e-01, 6.40163484e-01,\n",
       "         3.00026134e-01, 9.37728391e-01, 6.55915241e-01, 6.02209867e-01,\n",
       "         1.65488828e-01, 4.91410516e-01, 6.07945667e-01, 1.02791130e-01,\n",
       "         7.92806992e-01, 4.60964910e-01, 6.33295069e-01, 6.15191409e-01,\n",
       "         8.47466113e-01, 3.08864415e-01, 8.63865544e-01, 6.27063406e-01,\n",
       "         5.17122507e-01, 2.55622159e-01, 7.46667557e-01, 2.13553168e-01,\n",
       "         4.41815724e-01, 6.08565559e-01, 6.92744758e-01, 2.19263147e-01,\n",
       "         8.02487421e-02, 3.60584349e-01, 8.76581488e-01, 8.29560574e-01,\n",
       "         7.60838968e-01, 5.75415108e-01, 5.70269409e-01, 6.88597057e-01,\n",
       "         9.34879444e-01, 1.34132099e-01, 7.35305713e-02, 2.92279602e-01,\n",
       "         9.40964901e-01, 6.99951814e-01, 3.60083335e-01, 9.77586285e-01,\n",
       "         2.63724144e-04, 2.53503588e-01, 6.55085455e-02, 9.30720542e-01,\n",
       "         3.19709495e-01, 7.03667629e-01, 8.87383277e-01, 7.03512622e-01,\n",
       "         4.64313608e-02, 3.83853591e-02, 2.11687932e-01, 9.00547797e-01,\n",
       "         9.77030910e-01, 3.81916768e-01, 5.06539354e-01, 3.34255205e-02,\n",
       "         5.48419154e-01, 9.27464891e-01, 3.00583096e-02, 6.56668236e-01,\n",
       "         7.47866662e-01, 6.60994493e-01, 2.65709783e-01, 9.58510126e-01,\n",
       "         2.21162568e-01, 8.99933233e-01, 1.27291442e-01, 2.33806632e-01,\n",
       "         5.81998691e-01, 2.90420502e-01, 3.02706976e-01, 3.49493038e-01,\n",
       "         5.78429044e-01, 3.98975045e-01, 7.88777866e-01, 1.67273779e-01,\n",
       "         7.26006746e-01, 6.97475802e-01, 3.25929293e-01, 7.12627019e-01,\n",
       "         1.84247078e-01, 6.98047297e-01, 5.82486407e-01, 6.94626115e-01,\n",
       "         7.65832825e-01, 6.96016875e-02, 5.01395602e-01, 8.75047519e-01,\n",
       "         4.58982274e-01, 8.88217790e-01, 2.99078769e-01, 8.97052704e-01,\n",
       "         3.22780020e-01, 5.27792313e-01, 3.64901781e-01, 9.92722087e-01,\n",
       "         8.77839047e-01, 8.52663467e-01, 9.93405255e-01, 4.12177039e-01,\n",
       "         3.61531402e-01, 4.28386407e-01, 9.50201043e-01, 5.41816678e-01,\n",
       "         5.70681942e-01, 6.00272917e-01, 8.63366453e-01, 2.95867915e-01,\n",
       "         9.11988081e-01, 2.95731366e-01, 9.30948945e-01, 3.95542569e-01,\n",
       "         3.22259192e-02, 1.12973977e-01, 5.31720252e-01, 1.00338100e-01,\n",
       "         3.92837795e-01, 9.83522919e-01, 3.40227229e-01, 8.91319976e-01,\n",
       "         9.59141436e-01, 1.14182111e-01, 2.14615634e-01, 3.49124328e-02,\n",
       "         7.02800766e-01, 6.38905956e-01, 6.30859349e-02, 4.28215988e-02,\n",
       "         9.46888066e-01, 3.99406765e-01, 5.81274838e-01, 1.44736393e-01,\n",
       "         4.84995981e-01, 7.14844610e-01, 9.41522737e-01, 9.32285981e-01,\n",
       "         7.98868648e-01, 1.51693351e-01, 3.89514376e-01, 9.43517890e-01,\n",
       "         9.52111003e-01, 2.75854735e-01, 2.30938924e-01, 2.58297070e-01,\n",
       "         1.97811522e-02, 5.27357065e-01, 1.63484699e-01, 7.56054357e-01,\n",
       "         7.95247082e-01, 1.27425794e-01, 3.72276654e-01, 7.91332675e-01,\n",
       "         6.23985382e-02, 5.01225575e-01, 5.14309867e-01, 6.80320560e-02,\n",
       "         6.85973355e-01, 8.38110770e-01, 1.49825144e-01, 1.10225445e-02,\n",
       "         1.05567483e-01, 2.96321634e-01, 6.46750689e-01, 8.10336433e-02,\n",
       "         6.02942874e-02, 1.17976769e-01, 7.53743685e-01, 2.13541560e-01,\n",
       "         5.28183247e-01, 3.82038869e-02, 7.40219816e-04, 5.07086331e-01,\n",
       "         5.26230935e-01, 2.53145520e-01, 7.30633530e-01, 2.52813663e-01,\n",
       "         3.62595826e-01, 5.65615033e-01, 3.80432847e-01, 2.13324577e-01,\n",
       "         4.39629844e-01, 5.09789871e-01, 3.18046703e-01, 1.42812184e-02,\n",
       "         9.02784481e-01, 5.79010434e-01, 4.00798707e-01, 8.61955619e-01,\n",
       "         5.78668798e-01, 4.23079729e-01, 7.85445722e-01, 2.94919790e-01,\n",
       "         4.89175587e-01, 5.24732515e-01, 9.96986506e-02, 8.57633315e-01,\n",
       "         6.11439720e-01, 5.71183270e-01, 8.95080984e-01, 7.58872875e-01,\n",
       "         6.84915434e-01, 1.19442796e-01, 6.24327793e-01, 7.08182384e-01,\n",
       "         9.57410359e-01, 7.18036151e-01, 1.20938127e-01, 7.18607586e-01,\n",
       "         9.05026722e-02, 6.54767480e-01, 3.85233135e-01, 9.89747948e-01,\n",
       "         1.97813706e-01, 7.87781768e-01, 7.42954976e-01, 5.42950157e-01,\n",
       "         1.26875518e-01, 6.78028933e-01, 7.15695324e-02, 1.54456989e-01,\n",
       "         1.27457783e-01, 8.44639482e-01, 6.17256451e-01, 4.20266974e-01,\n",
       "         2.61231832e-01, 2.26597717e-01, 7.35059380e-01, 4.78034657e-01,\n",
       "         8.40641523e-01, 3.29164545e-01, 5.75423778e-01, 9.71482700e-01,\n",
       "         6.28418473e-01, 9.27232762e-01, 8.81663523e-01, 8.96687970e-01,\n",
       "         1.26458148e-01, 2.82757179e-01, 1.30052064e-01, 5.79207047e-02,\n",
       "         6.27734791e-01, 5.89034041e-01, 3.19651363e-01, 5.20889451e-01,\n",
       "         7.00609477e-01, 5.08932328e-01, 3.54221027e-01, 8.75211675e-01,\n",
       "         7.00711348e-01, 9.67541602e-01, 6.19006560e-01, 3.13718126e-01,\n",
       "         5.87628938e-01]))]"
      ]
     },
     "execution_count": 20,
     "metadata": {},
     "output_type": "execute_result"
    }
   ],
   "source": [
    "expand_setpoints_helper(a.spectrum)"
   ]
  },
  {
   "cell_type": "code",
   "execution_count": 21,
   "metadata": {},
   "outputs": [
    {
     "name": "stdout",
     "output_type": "stream",
     "text": [
      "Starting experimental run with id: 2. \n"
     ]
    }
   ],
   "source": [
    "meas = Measurement()\n",
    "meas.register_parameter(a.spectrum)\n",
    "\n",
    "with meas.run() as datasaver:\n",
    "    datasaver.add_result(*expand_setpoints_helper(a.spectrum))\n",
    "    \n",
    "    dataid = datasaver.run_id"
   ]
  },
  {
   "cell_type": "code",
   "execution_count": null,
   "metadata": {},
   "outputs": [],
   "source": []
  }
 ],
 "metadata": {
  "kernelspec": {
   "display_name": "Python 3",
   "language": "python",
   "name": "python3"
  },
  "language_info": {
   "codemirror_mode": {
    "name": "ipython",
    "version": 3
   },
   "file_extension": ".py",
   "mimetype": "text/x-python",
   "name": "python",
   "nbconvert_exporter": "python",
   "pygments_lexer": "ipython3",
   "version": "3.7.7"
  },
  "toc": {
   "base_numbering": 1,
   "nav_menu": {},
   "number_sections": true,
   "sideBar": true,
   "skip_h1_title": false,
   "title_cell": "Table of Contents",
   "title_sidebar": "Contents",
   "toc_cell": false,
   "toc_position": {},
   "toc_section_display": true,
   "toc_window_display": false
  },
  "varInspector": {
   "cols": {
    "lenName": 16,
    "lenType": 16,
    "lenVar": 40
   },
   "kernels_config": {
    "python": {
     "delete_cmd_postfix": "",
     "delete_cmd_prefix": "del ",
     "library": "var_list.py",
     "varRefreshCmd": "print(var_dic_list())"
    },
    "r": {
     "delete_cmd_postfix": ") ",
     "delete_cmd_prefix": "rm(",
     "library": "var_list.r",
     "varRefreshCmd": "cat(var_dic_list()) "
    }
   },
   "types_to_exclude": [
    "module",
    "function",
    "builtin_function_or_method",
    "instance",
    "_Feature"
   ],
   "window_display": false
  }
 },
 "nbformat": 4,
 "nbformat_minor": 2
}
