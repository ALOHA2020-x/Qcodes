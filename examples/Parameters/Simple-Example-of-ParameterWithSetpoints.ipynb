{
 "cells": [
  {
   "cell_type": "markdown",
   "metadata": {},
   "source": [
    "# Simple Example of ParameterWithSetpoints\n",
    "This notebook provides an example for writing a simple driver with a parameter that has setpoints. Let's name this parameter that has setpoints as \"y\". Then, the setpoints, say \"x1, x2, x3 ..\", are the parameters on which the parameter \n",
    "\"y\" depends upon. Meaning \"y\" is a function of \"x1, x2, x3 ...\" where \"x1, x2, x3 ...\" are known as the setpoints of parameter \"y\".\n",
    "\n",
    "This is most likely to be useful for instruments that return arrays of results. In this notebook, we will show an example of this."
   ]
  },
  {
   "cell_type": "code",
   "execution_count": 1,
   "metadata": {},
   "outputs": [],
   "source": [
    "import numpy as np\n",
    "import os"
   ]
  },
  {
   "cell_type": "code",
   "execution_count": 2,
   "metadata": {},
   "outputs": [
    {
     "name": "stdout",
     "output_type": "stream",
     "text": [
      "Logging hadn't been started.\n",
      "Activating auto-logging. Current session state plus future input saved.\n",
      "Filename       : /home/vsts/.qcodes/logs/command_history.log\n",
      "Mode           : append\n",
      "Output logging : True\n",
      "Raw input log  : False\n",
      "Timestamping   : True\n",
      "State          : active\n"
     ]
    },
    {
     "name": "stdout",
     "output_type": "stream",
     "text": [
      "Qcodes Logfile : /home/vsts/.qcodes/logs/200316-24405-qcodes.log\n"
     ]
    }
   ],
   "source": [
    "from qcodes.dataset.plotting import plot_dataset\n",
    "from qcodes.utils.validators import Numbers, Arrays\n",
    "from qcodes.instrument.base import Instrument\n",
    "from qcodes.dataset.measurements import Measurement"
   ]
  },
  {
   "cell_type": "code",
   "execution_count": 3,
   "metadata": {},
   "outputs": [],
   "source": [
    "from qcodes.dataset.sqlite.database import initialise_or_create_database_at\n",
    "from qcodes.dataset.experiment_container import load_or_create_experiment"
   ]
  },
  {
   "cell_type": "code",
   "execution_count": 4,
   "metadata": {},
   "outputs": [],
   "source": [
    "from qcodes.instrument.parameter import ParameterWithSetpoints, Parameter\n",
    "from qcodes.instrument.parameter import expand_setpoints_helper"
   ]
  },
  {
   "cell_type": "markdown",
   "metadata": {},
   "source": [
    "First, we define a dummy instrument that returns something like a frequency spectrum starting from a frequency given by `f_start` to a frequency given by `f_stop` in `n_points` steps. \n",
    "\n",
    "The extra functionality of the `ParameterWithSetpoints` is implemented by giving it a reference to one or more parameters that acts like its setpoints. \n",
    "\n",
    "To setup a `ParameterWithSetpoints` we have to do two things in addition to what we do for a normal parameter.\n",
    "\n",
    "* Define one or more parameter for the setpoints (one for each dimension of the array and let the `ParameterWithSetpoints` know that these are the setpoints.\n",
    "* Give both the setpoints parameter(s) and the `ParameterWithSetpoints` a `validator` of type `Arrays` with a shape. The shapes should be such that the combined shape of the setpoints matches the shape of the `ParameterWithSetpoints`. Note that if the shape changes with the setting of the instrument, it can be defined by another parameter as shown below. "
   ]
  },
  {
   "cell_type": "code",
   "execution_count": 5,
   "metadata": {},
   "outputs": [],
   "source": [
    "class GeneratedSetPoints(Parameter):\n",
    "    \"\"\"\n",
    "    A parameter that generates a setpoint array from start, stop and num points\n",
    "    parameters.\n",
    "    \"\"\"\n",
    "    def __init__(self, startparam, stopparam, numpointsparam, *args, **kwargs):\n",
    "        super().__init__(*args, **kwargs)\n",
    "        self._startparam = startparam\n",
    "        self._stopparam = stopparam\n",
    "        self._numpointsparam = numpointsparam\n",
    "\n",
    "    def get_raw(self):\n",
    "        return np.linspace(self._startparam(), self._stopparam(),\n",
    "                              self._numpointsparam())\n",
    "\n",
    "class DummyArray(ParameterWithSetpoints):\n",
    "    \n",
    "    def get_raw(self):\n",
    "        npoints = self.root_instrument.n_points.get_latest()\n",
    "        return np.random.rand(npoints)\n",
    "    \n",
    "\n",
    "class DummySpectrumAnalyzer(Instrument):\n",
    "    \n",
    "    def __init__(self, name, **kwargs):\n",
    "        \n",
    "        super().__init__(name, **kwargs)\n",
    "            \n",
    "\n",
    "        self.add_parameter('f_start',\n",
    "                           initial_value=0,\n",
    "                           unit='Hz',\n",
    "                           label='f start',\n",
    "                           vals=Numbers(0,1e3),\n",
    "                           get_cmd=None,\n",
    "                           set_cmd=None)\n",
    "\n",
    "        self.add_parameter('f_stop',\n",
    "                           unit='Hz',\n",
    "                           label='f stop',\n",
    "                           vals=Numbers(1,1e3),\n",
    "                           get_cmd=None,\n",
    "                           set_cmd=None)\n",
    "\n",
    "        self.add_parameter('n_points',\n",
    "                           unit='',\n",
    "                           initial_value=10,\n",
    "                           vals=Numbers(1,1e3),\n",
    "                           get_cmd=None,\n",
    "                           set_cmd=None)\n",
    "        \n",
    "        self.add_parameter('freq_axis',\n",
    "                           unit='Hz',\n",
    "                           label='Freq Axis',\n",
    "                           parameter_class=GeneratedSetPoints,\n",
    "                           startparam=self.f_start,\n",
    "                           stopparam=self.f_stop,\n",
    "                           numpointsparam=self.n_points,\n",
    "                           vals=Arrays(shape=(self.n_points.get_latest,)))\n",
    "                           \n",
    "        self.add_parameter('spectrum',\n",
    "                   unit='dBm',\n",
    "                   setpoints=(self.freq_axis,),\n",
    "                   label='Spectrum',\n",
    "                   parameter_class=DummyArray,\n",
    "                   vals=Arrays(shape=(self.n_points.get_latest,)))\n",
    "                "
   ]
  },
  {
   "cell_type": "markdown",
   "metadata": {},
   "source": [
    "In the above example, the shape is defined by the parameter `n_points` that defines how many samples our `DummySpectrumAnalyzer` returns.\n",
    "\n",
    "This means that the validation will call the function to get `n_points` twice for each `get` of the parameter. This may be too slow, however, if you (as the driver-writer) can guarantee that the cached value for `n_points` will never be out of sync with the value stored in the instrument, `n_points` may be replaced by it's latest known value such that the `validator` reads:\n",
    "```python\n",
    "vals=Arrays(shape=(self.n_points.get_latest))\n",
    "```\n",
    "\n",
    "This avoids any additional call to the instrument. In the same way, the arguments to the `freq_axis` parameter that defines the start, stop and number of points can be replaced by their latest value if the instrument allows it.\n",
    "\n"
   ]
  },
  {
   "cell_type": "code",
   "execution_count": 6,
   "metadata": {},
   "outputs": [
    {
     "name": "stdout",
     "output_type": "stream",
     "text": [
      "\r",
      "0it [00:00, ?it/s]"
     ]
    },
    {
     "name": "stdout",
     "output_type": "stream",
     "text": [
      "\r",
      "Upgrading database; v0 -> v1: : 0it [00:00, ?it/s]"
     ]
    },
    {
     "name": "stdout",
     "output_type": "stream",
     "text": [
      "\r",
      "Upgrading database; v0 -> v1: : 0it [00:00, ?it/s]"
     ]
    },
    {
     "name": "stdout",
     "output_type": "stream",
     "text": [
      "\n",
      "\r",
      "  0%|          | 0/1 [00:00<?, ?it/s]"
     ]
    },
    {
     "name": "stdout",
     "output_type": "stream",
     "text": [
      "\r",
      "Upgrading database; v1 -> v2:   0%|          | 0/1 [00:00<?, ?it/s]"
     ]
    },
    {
     "name": "stdout",
     "output_type": "stream",
     "text": [
      "\r",
      "Upgrading database; v1 -> v2: 100%|██████████| 1/1 [00:00<00:00, 1058.37it/s]"
     ]
    },
    {
     "name": "stdout",
     "output_type": "stream",
     "text": [
      "\n",
      "\r",
      "0it [00:00, ?it/s]"
     ]
    },
    {
     "name": "stdout",
     "output_type": "stream",
     "text": [
      "\r",
      "Upgrading database; v2 -> v3: : 0it [00:00, ?it/s]"
     ]
    },
    {
     "name": "stdout",
     "output_type": "stream",
     "text": [
      "\r",
      "Upgrading database; v2 -> v3: : 0it [00:00, ?it/s]"
     ]
    },
    {
     "name": "stdout",
     "output_type": "stream",
     "text": [
      "\n",
      "\r",
      "0it [00:00, ?it/s]"
     ]
    },
    {
     "name": "stdout",
     "output_type": "stream",
     "text": [
      "\r",
      "Upgrading database; v3 -> v4: : 0it [00:00, ?it/s]"
     ]
    },
    {
     "name": "stdout",
     "output_type": "stream",
     "text": [
      "\r",
      "Upgrading database; v3 -> v4: : 0it [00:00, ?it/s]"
     ]
    },
    {
     "name": "stdout",
     "output_type": "stream",
     "text": [
      "\n",
      "\r",
      "  0%|          | 0/1 [00:00<?, ?it/s]"
     ]
    },
    {
     "name": "stdout",
     "output_type": "stream",
     "text": [
      "\r",
      "Upgrading database; v4 -> v5:   0%|          | 0/1 [00:00<?, ?it/s]"
     ]
    },
    {
     "name": "stdout",
     "output_type": "stream",
     "text": [
      "\r",
      "Upgrading database; v4 -> v5: 100%|██████████| 1/1 [00:00<00:00, 881.34it/s]"
     ]
    },
    {
     "name": "stdout",
     "output_type": "stream",
     "text": [
      "\n",
      "\r",
      "0it [00:00, ?it/s]"
     ]
    },
    {
     "name": "stdout",
     "output_type": "stream",
     "text": [
      "\r",
      "Upgrading database; v5 -> v6: : 0it [00:00, ?it/s]"
     ]
    },
    {
     "name": "stdout",
     "output_type": "stream",
     "text": [
      "\r",
      "Upgrading database; v5 -> v6: : 0it [00:00, ?it/s]"
     ]
    },
    {
     "name": "stdout",
     "output_type": "stream",
     "text": [
      "\n",
      "\r",
      "  0%|          | 0/1 [00:00<?, ?it/s]"
     ]
    },
    {
     "name": "stdout",
     "output_type": "stream",
     "text": [
      "\r",
      "Upgrading database; v6 -> v7:   0%|          | 0/1 [00:00<?, ?it/s]"
     ]
    },
    {
     "name": "stdout",
     "output_type": "stream",
     "text": [
      "\r",
      "Upgrading database; v6 -> v7: 100%|██████████| 1/1 [00:00<00:00, 401.60it/s]"
     ]
    },
    {
     "name": "stdout",
     "output_type": "stream",
     "text": [
      "\n",
      "\r",
      "  0%|          | 0/1 [00:00<?, ?it/s]"
     ]
    },
    {
     "name": "stdout",
     "output_type": "stream",
     "text": [
      "\r",
      "Upgrading database; v7 -> v8:   0%|          | 0/1 [00:00<?, ?it/s]"
     ]
    },
    {
     "name": "stdout",
     "output_type": "stream",
     "text": [
      "\r",
      "Upgrading database; v7 -> v8: 100%|██████████| 1/1 [00:00<00:00, 708.98it/s]"
     ]
    },
    {
     "name": "stdout",
     "output_type": "stream",
     "text": [
      "\n",
      "\r",
      "  0%|          | 0/1 [00:00<?, ?it/s]"
     ]
    },
    {
     "name": "stdout",
     "output_type": "stream",
     "text": [
      "\r",
      "Upgrading database; v8 -> v9:   0%|          | 0/1 [00:00<?, ?it/s]"
     ]
    },
    {
     "name": "stdout",
     "output_type": "stream",
     "text": [
      "\r",
      "Upgrading database; v8 -> v9: 100%|██████████| 1/1 [00:00<00:00, 898.33it/s]"
     ]
    },
    {
     "name": "stdout",
     "output_type": "stream",
     "text": [
      "\n"
     ]
    },
    {
     "data": {
      "text/plain": [
       "tutorial_ParameterWithSetpoints#no sample#1@/home/vsts/work/1/s/docs/examples/Parameters/tutorial_paramter_with_setpoints.db\n",
       "----------------------------------------------------------------------------------------------------------------------------"
      ]
     },
     "execution_count": 6,
     "metadata": {},
     "output_type": "execute_result"
    }
   ],
   "source": [
    "tutorial_db_path = os.path.join(os.getcwd(), 'tutorial_paramter_with_setpoints.db')\n",
    "initialise_or_create_database_at(tutorial_db_path)\n",
    "load_or_create_experiment(experiment_name='tutorial_ParameterWithSetpoints', sample_name=\"no sample\")"
   ]
  },
  {
   "cell_type": "code",
   "execution_count": 7,
   "metadata": {},
   "outputs": [],
   "source": [
    "a = DummySpectrumAnalyzer('foobar')"
   ]
  },
  {
   "cell_type": "markdown",
   "metadata": {},
   "source": [
    "First we setup the limits of the spectrum"
   ]
  },
  {
   "cell_type": "code",
   "execution_count": 8,
   "metadata": {},
   "outputs": [],
   "source": [
    "a.f_start(0)\n",
    "a.f_stop(500)\n",
    "a.n_points(501)"
   ]
  },
  {
   "cell_type": "markdown",
   "metadata": {},
   "source": [
    "And we can grab the frequency axis"
   ]
  },
  {
   "cell_type": "code",
   "execution_count": 9,
   "metadata": {},
   "outputs": [
    {
     "data": {
      "text/plain": [
       "501"
      ]
     },
     "execution_count": 9,
     "metadata": {},
     "output_type": "execute_result"
    }
   ],
   "source": [
    "a.n_points()"
   ]
  },
  {
   "cell_type": "code",
   "execution_count": 10,
   "metadata": {
    "scrolled": false
   },
   "outputs": [
    {
     "data": {
      "text/plain": [
       "501"
      ]
     },
     "execution_count": 10,
     "metadata": {},
     "output_type": "execute_result"
    }
   ],
   "source": [
    "freq_axis = a.freq_axis()\n",
    "len(freq_axis)"
   ]
  },
  {
   "cell_type": "code",
   "execution_count": 11,
   "metadata": {},
   "outputs": [
    {
     "data": {
      "text/plain": [
       "array([0., 1., 2., 3., 4., 5., 6., 7., 8., 9.])"
      ]
     },
     "execution_count": 11,
     "metadata": {},
     "output_type": "execute_result"
    }
   ],
   "source": [
    "freq_axis[:10]"
   ]
  },
  {
   "cell_type": "markdown",
   "metadata": {},
   "source": [
    "As expected we get a result wit 501 points as we asked for an axis with 501 points. "
   ]
  },
  {
   "cell_type": "markdown",
   "metadata": {},
   "source": [
    "Above we have added a validator to the `freq_axis` parameter encoding the fact that this is an Array with `n_points`. Note that we do not have to supply the number of points as an integer but can supply a function that returns the valid number of points. This would normally be a QCoDeS parameter.\n",
    "\n",
    "This will be checked if we validate the output."
   ]
  },
  {
   "cell_type": "code",
   "execution_count": 12,
   "metadata": {},
   "outputs": [],
   "source": [
    "a.freq_axis.validate(a.freq_axis.get())"
   ]
  },
  {
   "cell_type": "markdown",
   "metadata": {},
   "source": [
    "Naturally, we can also get the spectrum. Getting the spectrum will automatically perform validation both for the shape of the parameter itself and the relation to the setpoint parameter(s)"
   ]
  },
  {
   "cell_type": "code",
   "execution_count": 13,
   "metadata": {
    "scrolled": true
   },
   "outputs": [
    {
     "data": {
      "text/plain": [
       "501"
      ]
     },
     "execution_count": 13,
     "metadata": {},
     "output_type": "execute_result"
    }
   ],
   "source": [
    "spectrum = a.spectrum.get()\n",
    "len(spectrum)"
   ]
  },
  {
   "cell_type": "markdown",
   "metadata": {},
   "source": [
    "When we validate a `ParameterWithSetpoints`, we automatically validate that the shape is consistent between the parameters and its setpoints. As well as validating the shape as above."
   ]
  },
  {
   "cell_type": "code",
   "execution_count": 14,
   "metadata": {},
   "outputs": [],
   "source": [
    "a.spectrum.validate(a.spectrum.get())"
   ]
  },
  {
   "cell_type": "markdown",
   "metadata": {},
   "source": [
    "The consistent shapes can be validated explicitly."
   ]
  },
  {
   "cell_type": "code",
   "execution_count": 15,
   "metadata": {},
   "outputs": [],
   "source": [
    "a.spectrum.validate_consistent_shape()"
   ]
  },
  {
   "cell_type": "markdown",
   "metadata": {},
   "source": [
    "We can inspect the setpoints of the spectrum."
   ]
  },
  {
   "cell_type": "code",
   "execution_count": 16,
   "metadata": {},
   "outputs": [
    {
     "data": {
      "text/plain": [
       "(<__main__.GeneratedSetPoints: freq_axis at 140448522358928>,)"
      ]
     },
     "execution_count": 16,
     "metadata": {},
     "output_type": "execute_result"
    }
   ],
   "source": [
    "a.spectrum.setpoints"
   ]
  },
  {
   "cell_type": "markdown",
   "metadata": {},
   "source": [
    "Or even change them."
   ]
  },
  {
   "cell_type": "code",
   "execution_count": 17,
   "metadata": {},
   "outputs": [],
   "source": [
    "a.spectrum.setpoints = (a.freq_axis,)"
   ]
  },
  {
   "cell_type": "markdown",
   "metadata": {},
   "source": [
    "## Measurement"
   ]
  },
  {
   "cell_type": "markdown",
   "metadata": {},
   "source": [
    "We can also directly consume the parameter in a measurement without defining the setpoints of the parameter again. The setpoints are automatically obtained from the definition of the `ParameterWithSetpoint` instance. "
   ]
  },
  {
   "cell_type": "code",
   "execution_count": 18,
   "metadata": {},
   "outputs": [
    {
     "name": "stdout",
     "output_type": "stream",
     "text": [
      "Starting experimental run with id: 1. \n"
     ]
    }
   ],
   "source": [
    "meas = Measurement()\n",
    "meas.register_parameter(a.spectrum)\n",
    "\n",
    "with meas.run() as datasaver:\n",
    "    datasaver.add_result((a.freq_axis, a.freq_axis()),\n",
    "                         (a.spectrum, a.spectrum()))\n",
    "    dataset = datasaver.dataset"
   ]
  },
  {
   "cell_type": "markdown",
   "metadata": {},
   "source": [
    "And plot it"
   ]
  },
  {
   "cell_type": "code",
   "execution_count": 19,
   "metadata": {},
   "outputs": [
    {
     "data": {
      "text/plain": [
       "([<matplotlib.axes._subplots.AxesSubplot at 0x7fbcb806f110>], [None])"
      ]
     },
     "execution_count": 19,
     "metadata": {},
     "output_type": "execute_result"
    },
    {
     "data": {
      "image/png": "[encoded data removed]",
      "text/plain": [
       "<Figure size 432x288 with 1 Axes>"
      ]
     },
     "metadata": {
      "needs_background": "light"
     },
     "output_type": "display_data"
    }
   ],
   "source": [
    "plot_dataset(dataset)"
   ]
  },
  {
   "cell_type": "markdown",
   "metadata": {},
   "source": [
    "To reduce the amount of typing a simple convenience function is provided that will take a `ParameterWithSetpoints` and get both its values and the setpoints values and return them as tuples for direct insertion into the Dataset."
   ]
  },
  {
   "cell_type": "code",
   "execution_count": 20,
   "metadata": {
    "scrolled": true
   },
   "outputs": [
    {
     "data": {
      "text/plain": [
       "[(<__main__.GeneratedSetPoints: freq_axis at 140448522358928>,\n",
       "  array([  0.,   1.,   2.,   3.,   4.,   5.,   6.,   7.,   8.,   9.,  10.,\n",
       "          11.,  12.,  13.,  14.,  15.,  16.,  17.,  18.,  19.,  20.,  21.,\n",
       "          22.,  23.,  24.,  25.,  26.,  27.,  28.,  29.,  30.,  31.,  32.,\n",
       "          33.,  34.,  35.,  36.,  37.,  38.,  39.,  40.,  41.,  42.,  43.,\n",
       "          44.,  45.,  46.,  47.,  48.,  49.,  50.,  51.,  52.,  53.,  54.,\n",
       "          55.,  56.,  57.,  58.,  59.,  60.,  61.,  62.,  63.,  64.,  65.,\n",
       "          66.,  67.,  68.,  69.,  70.,  71.,  72.,  73.,  74.,  75.,  76.,\n",
       "          77.,  78.,  79.,  80.,  81.,  82.,  83.,  84.,  85.,  86.,  87.,\n",
       "          88.,  89.,  90.,  91.,  92.,  93.,  94.,  95.,  96.,  97.,  98.,\n",
       "          99., 100., 101., 102., 103., 104., 105., 106., 107., 108., 109.,\n",
       "         110., 111., 112., 113., 114., 115., 116., 117., 118., 119., 120.,\n",
       "         121., 122., 123., 124., 125., 126., 127., 128., 129., 130., 131.,\n",
       "         132., 133., 134., 135., 136., 137., 138., 139., 140., 141., 142.,\n",
       "         143., 144., 145., 146., 147., 148., 149., 150., 151., 152., 153.,\n",
       "         154., 155., 156., 157., 158., 159., 160., 161., 162., 163., 164.,\n",
       "         165., 166., 167., 168., 169., 170., 171., 172., 173., 174., 175.,\n",
       "         176., 177., 178., 179., 180., 181., 182., 183., 184., 185., 186.,\n",
       "         187., 188., 189., 190., 191., 192., 193., 194., 195., 196., 197.,\n",
       "         198., 199., 200., 201., 202., 203., 204., 205., 206., 207., 208.,\n",
       "         209., 210., 211., 212., 213., 214., 215., 216., 217., 218., 219.,\n",
       "         220., 221., 222., 223., 224., 225., 226., 227., 228., 229., 230.,\n",
       "         231., 232., 233., 234., 235., 236., 237., 238., 239., 240., 241.,\n",
       "         242., 243., 244., 245., 246., 247., 248., 249., 250., 251., 252.,\n",
       "         253., 254., 255., 256., 257., 258., 259., 260., 261., 262., 263.,\n",
       "         264., 265., 266., 267., 268., 269., 270., 271., 272., 273., 274.,\n",
       "         275., 276., 277., 278., 279., 280., 281., 282., 283., 284., 285.,\n",
       "         286., 287., 288., 289., 290., 291., 292., 293., 294., 295., 296.,\n",
       "         297., 298., 299., 300., 301., 302., 303., 304., 305., 306., 307.,\n",
       "         308., 309., 310., 311., 312., 313., 314., 315., 316., 317., 318.,\n",
       "         319., 320., 321., 322., 323., 324., 325., 326., 327., 328., 329.,\n",
       "         330., 331., 332., 333., 334., 335., 336., 337., 338., 339., 340.,\n",
       "         341., 342., 343., 344., 345., 346., 347., 348., 349., 350., 351.,\n",
       "         352., 353., 354., 355., 356., 357., 358., 359., 360., 361., 362.,\n",
       "         363., 364., 365., 366., 367., 368., 369., 370., 371., 372., 373.,\n",
       "         374., 375., 376., 377., 378., 379., 380., 381., 382., 383., 384.,\n",
       "         385., 386., 387., 388., 389., 390., 391., 392., 393., 394., 395.,\n",
       "         396., 397., 398., 399., 400., 401., 402., 403., 404., 405., 406.,\n",
       "         407., 408., 409., 410., 411., 412., 413., 414., 415., 416., 417.,\n",
       "         418., 419., 420., 421., 422., 423., 424., 425., 426., 427., 428.,\n",
       "         429., 430., 431., 432., 433., 434., 435., 436., 437., 438., 439.,\n",
       "         440., 441., 442., 443., 444., 445., 446., 447., 448., 449., 450.,\n",
       "         451., 452., 453., 454., 455., 456., 457., 458., 459., 460., 461.,\n",
       "         462., 463., 464., 465., 466., 467., 468., 469., 470., 471., 472.,\n",
       "         473., 474., 475., 476., 477., 478., 479., 480., 481., 482., 483.,\n",
       "         484., 485., 486., 487., 488., 489., 490., 491., 492., 493., 494.,\n",
       "         495., 496., 497., 498., 499., 500.])),\n",
       " (<__main__.DummyArray: spectrum at 140448515845776>,\n",
       "  array([9.95520477e-01, 9.28175694e-01, 2.95208527e-01, 6.43584935e-01,\n",
       "         8.35033389e-01, 2.94971759e-01, 8.23778956e-01, 2.77395902e-01,\n",
       "         7.88184129e-01, 9.77825779e-01, 2.51827817e-01, 8.16194138e-01,\n",
       "         2.25194902e-01, 3.74250474e-01, 7.92154601e-01, 3.49744641e-01,\n",
       "         7.82556573e-01, 9.34370150e-01, 2.07706283e-01, 8.16407620e-01,\n",
       "         9.35519288e-01, 8.68807240e-01, 8.81343436e-02, 5.12923556e-01,\n",
       "         8.71984891e-01, 3.93408680e-01, 1.82171961e-02, 2.39301753e-02,\n",
       "         2.46864971e-01, 2.74672219e-01, 7.01148181e-01, 4.28639795e-02,\n",
       "         1.48977232e-01, 2.08752064e-01, 1.59972078e-01, 8.24294425e-01,\n",
       "         4.99634450e-01, 4.12870612e-01, 5.80444497e-01, 9.80473318e-02,\n",
       "         1.89354065e-01, 7.16329230e-01, 8.77615127e-01, 3.04836206e-01,\n",
       "         7.91799387e-02, 2.82170023e-01, 9.68911206e-01, 8.36096820e-01,\n",
       "         6.80347434e-02, 9.16871726e-01, 3.78095973e-01, 6.52624241e-01,\n",
       "         5.33267006e-01, 1.94270398e-02, 3.95045509e-01, 5.19274642e-01,\n",
       "         4.60049528e-01, 1.29542333e-01, 3.22913815e-01, 3.85219087e-01,\n",
       "         1.36280104e-01, 6.03737028e-02, 9.47885583e-01, 9.83480971e-01,\n",
       "         8.71816480e-01, 6.06650282e-01, 8.26516390e-01, 3.80627251e-01,\n",
       "         7.20196942e-01, 7.90513585e-01, 3.20598946e-01, 9.51199321e-01,\n",
       "         3.83125783e-01, 9.91824766e-01, 3.22130237e-01, 3.43596701e-01,\n",
       "         8.49936669e-01, 1.78039011e-01, 8.24715612e-01, 9.96081776e-01,\n",
       "         5.14611551e-01, 7.91807935e-01, 1.55474935e-01, 9.21641065e-01,\n",
       "         9.11200973e-01, 7.21576226e-01, 8.15756949e-01, 1.23154324e-01,\n",
       "         2.56257137e-01, 6.77346318e-01, 3.86593283e-01, 5.21215647e-01,\n",
       "         9.29595749e-01, 6.81002507e-01, 8.20232393e-01, 4.91945298e-03,\n",
       "         6.27403896e-01, 4.67609136e-01, 5.88519687e-01, 2.37574910e-01,\n",
       "         2.54598879e-01, 3.31953697e-01, 2.10224232e-01, 6.62061405e-01,\n",
       "         6.91056902e-01, 9.10418489e-01, 5.93441623e-01, 7.10486091e-01,\n",
       "         4.81925082e-01, 9.55968735e-01, 2.26010315e-01, 9.04326594e-01,\n",
       "         6.28764348e-01, 5.72041004e-01, 9.00642149e-01, 9.02270658e-01,\n",
       "         7.30897038e-01, 6.39612805e-01, 9.16120503e-01, 6.77597054e-01,\n",
       "         7.67409962e-02, 2.72049499e-01, 9.66738047e-01, 3.22664454e-01,\n",
       "         1.59906221e-01, 9.64795705e-01, 7.12931687e-01, 4.04690320e-01,\n",
       "         8.40573966e-01, 2.74049380e-01, 7.39224696e-01, 5.34225386e-01,\n",
       "         6.39227817e-01, 5.94168335e-01, 9.56369115e-01, 4.29860567e-01,\n",
       "         9.85149698e-03, 2.75091762e-02, 6.65398347e-01, 1.64037180e-01,\n",
       "         5.88937945e-01, 9.82893857e-02, 5.49502589e-01, 8.35963850e-01,\n",
       "         4.29296605e-01, 7.18422664e-01, 2.22357568e-01, 6.51804361e-01,\n",
       "         9.86301654e-01, 8.60142751e-01, 5.26543338e-01, 6.93011548e-01,\n",
       "         7.50666704e-01, 5.05572677e-01, 4.59058310e-01, 6.20616220e-01,\n",
       "         7.92863546e-01, 1.32758302e-01, 6.41612064e-01, 2.67947059e-01,\n",
       "         9.18030436e-01, 6.91353858e-01, 9.18599500e-01, 7.44478138e-01,\n",
       "         4.33288413e-01, 6.31183292e-01, 6.27862503e-02, 6.59589207e-01,\n",
       "         1.69276593e-01, 2.93020003e-01, 6.07800735e-01, 3.69015051e-03,\n",
       "         8.39854389e-01, 2.72500438e-01, 4.19262540e-01, 8.24487518e-01,\n",
       "         5.15103036e-01, 4.71697118e-02, 5.00279634e-01, 8.19079519e-02,\n",
       "         2.47649624e-01, 8.25511436e-01, 2.13156424e-01, 3.01929746e-01,\n",
       "         2.00439871e-01, 1.98554802e-02, 4.45095776e-01, 9.16552338e-01,\n",
       "         8.15397694e-01, 8.77512089e-01, 6.82832302e-01, 2.79433702e-02,\n",
       "         1.93091608e-01, 8.85592531e-01, 6.74626175e-01, 8.49669763e-01,\n",
       "         1.73049752e-03, 4.31560965e-01, 1.53929575e-01, 8.82682080e-01,\n",
       "         3.75417091e-01, 3.52861009e-01, 2.76264053e-01, 3.66156768e-01,\n",
       "         8.74290234e-02, 2.76538032e-01, 6.02948750e-02, 8.55310294e-01,\n",
       "         5.86825020e-01, 3.43305688e-01, 8.85156227e-01, 6.16102944e-01,\n",
       "         7.32878540e-01, 3.70813288e-01, 4.47908743e-01, 5.65779126e-01,\n",
       "         5.26964649e-01, 5.55078893e-01, 3.64058156e-02, 3.55038774e-01,\n",
       "         2.96651738e-01, 8.50907314e-01, 9.14577750e-01, 8.45700989e-01,\n",
       "         6.25678862e-01, 3.51824027e-01, 1.86444772e-01, 2.60663241e-01,\n",
       "         2.10663456e-01, 7.61325879e-01, 6.06048839e-01, 4.67489594e-01,\n",
       "         2.62688971e-01, 7.67113128e-01, 7.87049405e-01, 7.53911159e-02,\n",
       "         6.12765877e-01, 1.12074165e-01, 9.08377598e-01, 7.05964846e-01,\n",
       "         4.13331299e-01, 6.97879605e-01, 1.73344043e-01, 1.50707290e-01,\n",
       "         5.92494424e-01, 9.25184394e-02, 2.72660457e-01, 5.79211444e-02,\n",
       "         4.66588883e-01, 4.32962280e-01, 3.08883416e-01, 6.24746979e-01,\n",
       "         1.97138156e-01, 1.39957125e-01, 3.82822091e-01, 2.64400742e-01,\n",
       "         9.04755329e-01, 4.06509962e-01, 8.75432772e-01, 5.76259135e-02,\n",
       "         3.45002070e-01, 7.82741819e-01, 3.66994619e-01, 1.41152142e-01,\n",
       "         4.64300814e-01, 7.90470363e-01, 3.79875698e-01, 9.30278556e-01,\n",
       "         9.05146579e-02, 5.66110263e-01, 1.74027263e-01, 5.19469092e-01,\n",
       "         9.31554673e-01, 5.28905406e-01, 3.52454618e-01, 5.74825159e-01,\n",
       "         7.19304012e-01, 8.56311742e-01, 1.49759729e-01, 5.86626954e-01,\n",
       "         8.93827916e-02, 8.83614465e-01, 1.54427118e-01, 5.04334802e-01,\n",
       "         4.96566437e-01, 5.69538218e-01, 1.91979267e-01, 4.96974645e-01,\n",
       "         1.87428820e-01, 9.71997216e-01, 2.20635769e-01, 3.80325605e-02,\n",
       "         2.05746502e-01, 9.06771048e-01, 1.95648325e-01, 2.75604962e-01,\n",
       "         7.85704491e-01, 2.10566855e-01, 2.27282125e-02, 1.67405701e-01,\n",
       "         3.69334588e-01, 3.86899574e-01, 3.63481098e-01, 3.86485296e-01,\n",
       "         9.33494231e-01, 8.21530362e-01, 5.18945392e-01, 7.55550720e-02,\n",
       "         1.88420354e-01, 1.57337923e-01, 4.90587470e-02, 9.13905413e-02,\n",
       "         9.15578893e-01, 8.94598439e-01, 2.97086602e-01, 1.26596340e-01,\n",
       "         9.18865676e-01, 8.88953545e-01, 2.86697297e-01, 3.36358131e-01,\n",
       "         7.46941937e-01, 8.41628112e-01, 2.13881614e-01, 3.26334017e-01,\n",
       "         8.87644797e-01, 5.60439104e-01, 7.99486954e-01, 5.51594323e-02,\n",
       "         7.07351515e-01, 9.77033802e-01, 1.22597357e-01, 1.37375867e-01,\n",
       "         8.35250592e-01, 6.76893422e-01, 2.99929901e-01, 1.03465609e-01,\n",
       "         6.08029612e-01, 9.09112167e-01, 3.31524472e-01, 3.71252696e-01,\n",
       "         4.60663062e-03, 7.67863160e-01, 2.50658799e-01, 1.74761493e-02,\n",
       "         7.59924317e-01, 1.99270873e-01, 3.68881567e-01, 2.60487210e-01,\n",
       "         4.18660442e-01, 8.56577516e-01, 6.48716023e-01, 4.91491900e-01,\n",
       "         9.82922026e-01, 1.27894503e-01, 1.08296327e-01, 8.54482835e-01,\n",
       "         8.74160519e-01, 8.59224530e-01, 7.24461185e-01, 9.96789922e-01,\n",
       "         4.89333004e-01, 1.82589685e-01, 4.81135461e-01, 3.69188769e-01,\n",
       "         9.30321447e-01, 2.52400518e-01, 7.95452757e-01, 7.00387403e-01,\n",
       "         2.03427895e-01, 1.18495849e-02, 4.14182114e-01, 3.11724896e-01,\n",
       "         9.97374524e-02, 9.42981094e-01, 3.09773436e-01, 7.35018659e-01,\n",
       "         9.74301499e-01, 6.48859047e-01, 8.55235828e-01, 7.08487598e-01,\n",
       "         1.73343825e-01, 4.49841490e-01, 3.80891287e-01, 8.11831927e-01,\n",
       "         2.34801693e-01, 2.20180594e-01, 1.64895552e-01, 4.94230779e-01,\n",
       "         6.73090710e-01, 6.85933934e-01, 5.28502560e-01, 5.10194284e-01,\n",
       "         2.33187205e-02, 5.94011944e-01, 1.06534054e-01, 3.37420742e-01,\n",
       "         3.42206302e-01, 6.53774913e-01, 8.22615286e-01, 1.85468733e-01,\n",
       "         4.77799717e-01, 2.86811282e-01, 5.11811478e-01, 2.34604475e-01,\n",
       "         8.25471055e-01, 4.53202815e-01, 9.83095540e-01, 2.83518882e-04,\n",
       "         1.17595515e-01, 1.13210588e-01, 7.46341088e-01, 3.33743804e-02,\n",
       "         2.21146775e-01, 5.46001658e-01, 8.38773712e-01, 2.27475831e-01,\n",
       "         3.03856038e-01, 3.91540210e-01, 8.90627115e-02, 9.45281573e-01,\n",
       "         3.14830112e-01, 1.71678307e-01, 6.51213778e-02, 1.02272377e-01,\n",
       "         2.75832233e-01, 7.44263273e-01, 4.87231847e-01, 2.32537088e-01,\n",
       "         5.27964923e-01, 4.07779469e-01, 4.64480592e-01, 3.18969689e-01,\n",
       "         2.98084514e-01, 1.31944282e-01, 2.46224811e-01, 9.23087119e-02,\n",
       "         3.88394055e-01, 6.81100177e-01, 7.88160516e-01, 9.44998135e-01,\n",
       "         6.02265546e-01, 6.67918695e-01, 9.52931761e-02, 1.65436772e-01,\n",
       "         5.69136695e-01, 5.61108425e-02, 9.79318142e-01, 8.75168982e-02,\n",
       "         1.45822977e-02, 2.58671122e-01, 7.21666411e-01, 4.60037566e-01,\n",
       "         3.95578040e-01, 1.23926661e-01, 4.96454624e-01, 9.54676513e-01,\n",
       "         3.32135969e-02, 2.90675002e-01, 8.89150485e-01, 4.24855019e-02,\n",
       "         3.57903562e-01, 8.33723958e-01, 2.05359069e-01, 1.12622889e-01,\n",
       "         3.00471087e-01, 8.63447186e-01, 8.87191329e-01, 9.89323449e-01,\n",
       "         4.78594809e-01, 9.81435016e-01, 6.09822529e-01, 4.28886186e-01,\n",
       "         5.48861879e-01, 4.43748875e-01, 3.06007712e-01, 7.68185775e-01,\n",
       "         6.50373252e-01, 3.02721649e-01, 3.15436880e-01, 9.86827510e-01,\n",
       "         9.39990551e-01, 9.32286671e-01, 8.45320688e-01, 7.79392888e-01,\n",
       "         8.43054669e-01, 1.76191039e-01, 7.28897546e-01, 3.97861749e-01,\n",
       "         2.46775022e-01, 8.57523449e-01, 3.83449011e-01, 9.32479167e-01,\n",
       "         1.07836989e-01, 1.89149542e-01, 6.50916874e-01, 4.23754193e-01,\n",
       "         2.12272520e-01, 9.01460006e-01, 9.74951762e-01, 3.39818138e-01,\n",
       "         1.12629071e-01]))]"
      ]
     },
     "execution_count": 20,
     "metadata": {},
     "output_type": "execute_result"
    }
   ],
   "source": [
    "expand_setpoints_helper(a.spectrum)"
   ]
  },
  {
   "cell_type": "code",
   "execution_count": 21,
   "metadata": {},
   "outputs": [
    {
     "name": "stdout",
     "output_type": "stream",
     "text": [
      "Starting experimental run with id: 2. \n"
     ]
    }
   ],
   "source": [
    "meas = Measurement()\n",
    "meas.register_parameter(a.spectrum)\n",
    "\n",
    "with meas.run() as datasaver:\n",
    "    datasaver.add_result(*expand_setpoints_helper(a.spectrum))\n",
    "    \n",
    "    dataid = datasaver.run_id"
   ]
  },
  {
   "cell_type": "code",
   "execution_count": null,
   "metadata": {},
   "outputs": [],
   "source": []
  }
 ],
 "metadata": {
  "kernelspec": {
   "display_name": "Python 3",
   "language": "python",
   "name": "python3"
  },
  "language_info": {
   "codemirror_mode": {
    "name": "ipython",
    "version": 3
   },
   "file_extension": ".py",
   "mimetype": "text/x-python",
   "name": "python",
   "nbconvert_exporter": "python",
   "pygments_lexer": "ipython3",
   "version": "3.7.5"
  },
  "toc": {
   "base_numbering": 1,
   "nav_menu": {},
   "number_sections": true,
   "sideBar": true,
   "skip_h1_title": false,
   "title_cell": "Table of Contents",
   "title_sidebar": "Contents",
   "toc_cell": false,
   "toc_position": {},
   "toc_section_display": true,
   "toc_window_display": false
  },
  "varInspector": {
   "cols": {
    "lenName": 16,
    "lenType": 16,
    "lenVar": 40
   },
   "kernels_config": {
    "python": {
     "delete_cmd_postfix": "",
     "delete_cmd_prefix": "del ",
     "library": "var_list.py",
     "varRefreshCmd": "print(var_dic_list())"
    },
    "r": {
     "delete_cmd_postfix": ") ",
     "delete_cmd_prefix": "rm(",
     "library": "var_list.r",
     "varRefreshCmd": "cat(var_dic_list()) "
    }
   },
   "types_to_exclude": [
    "module",
    "function",
    "builtin_function_or_method",
    "instance",
    "_Feature"
   ],
   "window_display": false
  }
 },
 "nbformat": 4,
 "nbformat_minor": 2
}
