{
 "cells": [
  {
   "cell_type": "markdown",
   "metadata": {},
   "source": [
    "# Simple Example of ParameterWithSetpoints\n",
    "This notebook provides an example for writing a simple driver with a parameter that has setpoints. Let's name this parameter that has setpoints as \"y\". Then, the setpoints, say \"x1, x2, x3 ..\", are the parameters on which the parameter \n",
    "\"y\" depends upon. Meaning \"y\" is a function of \"x1, x2, x3 ...\" where \"x1, x2, x3 ...\" are known as the setpoints of parameter \"y\".\n",
    "\n",
    "This is most likely to be useful for instruments that return arrays of results. In this notebook, we will show an example of this."
   ]
  },
  {
   "cell_type": "code",
   "execution_count": 1,
   "metadata": {},
   "outputs": [],
   "source": [
    "import numpy as np\n",
    "import os"
   ]
  },
  {
   "cell_type": "code",
   "execution_count": 2,
   "metadata": {},
   "outputs": [
    {
     "name": "stdout",
     "output_type": "stream",
     "text": [
      "Logging hadn't been started.\n",
      "Activating auto-logging. Current session state plus future input saved.\n",
      "Filename       : /home/vsts/.qcodes/logs/command_history.log\n",
      "Mode           : append\n",
      "Output logging : True\n",
      "Raw input log  : False\n",
      "Timestamping   : True\n",
      "State          : active\n"
     ]
    },
    {
     "name": "stdout",
     "output_type": "stream",
     "text": [
      "Qcodes Logfile : /home/vsts/.qcodes/logs/200617-22923-qcodes.log\n"
     ]
    }
   ],
   "source": [
    "from qcodes.dataset.plotting import plot_dataset\n",
    "from qcodes.utils.validators import Numbers, Arrays\n",
    "from qcodes.instrument.base import Instrument\n",
    "from qcodes.dataset.measurements import Measurement"
   ]
  },
  {
   "cell_type": "code",
   "execution_count": 3,
   "metadata": {},
   "outputs": [],
   "source": [
    "from qcodes.dataset.sqlite.database import initialise_or_create_database_at\n",
    "from qcodes.dataset.experiment_container import load_or_create_experiment"
   ]
  },
  {
   "cell_type": "code",
   "execution_count": 4,
   "metadata": {},
   "outputs": [],
   "source": [
    "from qcodes.instrument.parameter import ParameterWithSetpoints, Parameter\n",
    "from qcodes.instrument.parameter import expand_setpoints_helper"
   ]
  },
  {
   "cell_type": "markdown",
   "metadata": {},
   "source": [
    "First, we define a dummy instrument that returns something like a frequency spectrum starting from a frequency given by `f_start` to a frequency given by `f_stop` in `n_points` steps. \n",
    "\n",
    "The extra functionality of the `ParameterWithSetpoints` is implemented by giving it a reference to one or more parameters that acts like its setpoints. \n",
    "\n",
    "To setup a `ParameterWithSetpoints` we have to do two things in addition to what we do for a normal parameter.\n",
    "\n",
    "* Define one or more parameter for the setpoints (one for each dimension of the array and let the `ParameterWithSetpoints` know that these are the setpoints.\n",
    "* Give both the setpoints parameter(s) and the `ParameterWithSetpoints` a `validator` of type `Arrays` with a shape. The shapes should be such that the combined shape of the setpoints matches the shape of the `ParameterWithSetpoints`. Note that if the shape changes with the setting of the instrument, it can be defined by another parameter as shown below. "
   ]
  },
  {
   "cell_type": "code",
   "execution_count": 5,
   "metadata": {},
   "outputs": [],
   "source": [
    "class GeneratedSetPoints(Parameter):\n",
    "    \"\"\"\n",
    "    A parameter that generates a setpoint array from start, stop and num points\n",
    "    parameters.\n",
    "    \"\"\"\n",
    "    def __init__(self, startparam, stopparam, numpointsparam, *args, **kwargs):\n",
    "        super().__init__(*args, **kwargs)\n",
    "        self._startparam = startparam\n",
    "        self._stopparam = stopparam\n",
    "        self._numpointsparam = numpointsparam\n",
    "\n",
    "    def get_raw(self):\n",
    "        return np.linspace(self._startparam(), self._stopparam(),\n",
    "                              self._numpointsparam())\n",
    "\n",
    "class DummyArray(ParameterWithSetpoints):\n",
    "    \n",
    "    def get_raw(self):\n",
    "        npoints = self.root_instrument.n_points.get_latest()\n",
    "        return np.random.rand(npoints)\n",
    "    \n",
    "\n",
    "class DummySpectrumAnalyzer(Instrument):\n",
    "    \n",
    "    def __init__(self, name, **kwargs):\n",
    "        \n",
    "        super().__init__(name, **kwargs)\n",
    "            \n",
    "\n",
    "        self.add_parameter('f_start',\n",
    "                           initial_value=0,\n",
    "                           unit='Hz',\n",
    "                           label='f start',\n",
    "                           vals=Numbers(0,1e3),\n",
    "                           get_cmd=None,\n",
    "                           set_cmd=None)\n",
    "\n",
    "        self.add_parameter('f_stop',\n",
    "                           unit='Hz',\n",
    "                           label='f stop',\n",
    "                           vals=Numbers(1,1e3),\n",
    "                           get_cmd=None,\n",
    "                           set_cmd=None)\n",
    "\n",
    "        self.add_parameter('n_points',\n",
    "                           unit='',\n",
    "                           initial_value=10,\n",
    "                           vals=Numbers(1,1e3),\n",
    "                           get_cmd=None,\n",
    "                           set_cmd=None)\n",
    "        \n",
    "        self.add_parameter('freq_axis',\n",
    "                           unit='Hz',\n",
    "                           label='Freq Axis',\n",
    "                           parameter_class=GeneratedSetPoints,\n",
    "                           startparam=self.f_start,\n",
    "                           stopparam=self.f_stop,\n",
    "                           numpointsparam=self.n_points,\n",
    "                           vals=Arrays(shape=(self.n_points.get_latest,)))\n",
    "                           \n",
    "        self.add_parameter('spectrum',\n",
    "                   unit='dBm',\n",
    "                   setpoints=(self.freq_axis,),\n",
    "                   label='Spectrum',\n",
    "                   parameter_class=DummyArray,\n",
    "                   vals=Arrays(shape=(self.n_points.get_latest,)))\n",
    "                "
   ]
  },
  {
   "cell_type": "markdown",
   "metadata": {},
   "source": [
    "In the above example, the shape is defined by the parameter `n_points` that defines how many samples our `DummySpectrumAnalyzer` returns.\n",
    "\n",
    "This means that the validation will call the function to get `n_points` twice for each `get` of the parameter. This may be too slow, however, if you (as the driver-writer) can guarantee that the cached value for `n_points` will never be out of sync with the value stored in the instrument, `n_points` may be replaced by it's latest known value such that the `validator` reads:\n",
    "```python\n",
    "vals=Arrays(shape=(self.n_points.get_latest))\n",
    "```\n",
    "\n",
    "This avoids any additional call to the instrument. In the same way, the arguments to the `freq_axis` parameter that defines the start, stop and number of points can be replaced by their latest value if the instrument allows it.\n",
    "\n"
   ]
  },
  {
   "cell_type": "code",
   "execution_count": 6,
   "metadata": {},
   "outputs": [
    {
     "name": "stdout",
     "output_type": "stream",
     "text": [
      "\r",
      "0it [00:00, ?it/s]"
     ]
    },
    {
     "name": "stdout",
     "output_type": "stream",
     "text": [
      "\r",
      "Upgrading database; v0 -> v1: : 0it [00:00, ?it/s]"
     ]
    },
    {
     "name": "stdout",
     "output_type": "stream",
     "text": [
      "\r",
      "Upgrading database; v0 -> v1: : 0it [00:00, ?it/s]"
     ]
    },
    {
     "name": "stdout",
     "output_type": "stream",
     "text": [
      "\n",
      "\r",
      "  0%|          | 0/1 [00:00<?, ?it/s]"
     ]
    },
    {
     "name": "stdout",
     "output_type": "stream",
     "text": [
      "\r",
      "Upgrading database; v1 -> v2:   0%|          | 0/1 [00:00<?, ?it/s]"
     ]
    },
    {
     "name": "stdout",
     "output_type": "stream",
     "text": [
      "\r",
      "Upgrading database; v1 -> v2: 100%|██████████| 1/1 [00:00<00:00, 862.49it/s]"
     ]
    },
    {
     "name": "stdout",
     "output_type": "stream",
     "text": [
      "\n",
      "\r",
      "0it [00:00, ?it/s]"
     ]
    },
    {
     "name": "stdout",
     "output_type": "stream",
     "text": [
      "\r",
      "Upgrading database; v2 -> v3: : 0it [00:00, ?it/s]"
     ]
    },
    {
     "name": "stdout",
     "output_type": "stream",
     "text": [
      "\r",
      "Upgrading database; v2 -> v3: : 0it [00:00, ?it/s]"
     ]
    },
    {
     "name": "stdout",
     "output_type": "stream",
     "text": [
      "\n",
      "\r",
      "0it [00:00, ?it/s]"
     ]
    },
    {
     "name": "stdout",
     "output_type": "stream",
     "text": [
      "\r",
      "Upgrading database; v3 -> v4: : 0it [00:00, ?it/s]"
     ]
    },
    {
     "name": "stdout",
     "output_type": "stream",
     "text": [
      "\r",
      "Upgrading database; v3 -> v4: : 0it [00:00, ?it/s]"
     ]
    },
    {
     "name": "stdout",
     "output_type": "stream",
     "text": [
      "\n",
      "\r",
      "  0%|          | 0/1 [00:00<?, ?it/s]"
     ]
    },
    {
     "name": "stdout",
     "output_type": "stream",
     "text": [
      "\r",
      "Upgrading database; v4 -> v5:   0%|          | 0/1 [00:00<?, ?it/s]"
     ]
    },
    {
     "name": "stdout",
     "output_type": "stream",
     "text": [
      "\r",
      "Upgrading database; v4 -> v5: 100%|██████████| 1/1 [00:00<00:00, 921.02it/s]"
     ]
    },
    {
     "name": "stdout",
     "output_type": "stream",
     "text": [
      "\n",
      "\r",
      "0it [00:00, ?it/s]"
     ]
    },
    {
     "name": "stdout",
     "output_type": "stream",
     "text": [
      "\r",
      "Upgrading database; v5 -> v6: : 0it [00:00, ?it/s]"
     ]
    },
    {
     "name": "stdout",
     "output_type": "stream",
     "text": [
      "\r",
      "Upgrading database; v5 -> v6: : 0it [00:00, ?it/s]"
     ]
    },
    {
     "name": "stdout",
     "output_type": "stream",
     "text": [
      "\n",
      "\r",
      "  0%|          | 0/1 [00:00<?, ?it/s]"
     ]
    },
    {
     "name": "stdout",
     "output_type": "stream",
     "text": [
      "\r",
      "Upgrading database; v6 -> v7:   0%|          | 0/1 [00:00<?, ?it/s]"
     ]
    },
    {
     "name": "stdout",
     "output_type": "stream",
     "text": [
      "\r",
      "Upgrading database; v6 -> v7: 100%|██████████| 1/1 [00:00<00:00, 423.50it/s]"
     ]
    },
    {
     "name": "stdout",
     "output_type": "stream",
     "text": [
      "\n",
      "\r",
      "  0%|          | 0/1 [00:00<?, ?it/s]"
     ]
    },
    {
     "name": "stdout",
     "output_type": "stream",
     "text": [
      "\r",
      "Upgrading database; v7 -> v8:   0%|          | 0/1 [00:00<?, ?it/s]"
     ]
    },
    {
     "name": "stdout",
     "output_type": "stream",
     "text": [
      "\r",
      "Upgrading database; v7 -> v8: 100%|██████████| 1/1 [00:00<00:00, 791.08it/s]"
     ]
    },
    {
     "name": "stdout",
     "output_type": "stream",
     "text": [
      "\n",
      "\r",
      "  0%|          | 0/1 [00:00<?, ?it/s]"
     ]
    },
    {
     "name": "stdout",
     "output_type": "stream",
     "text": [
      "\r",
      "Upgrading database; v8 -> v9:   0%|          | 0/1 [00:00<?, ?it/s]"
     ]
    },
    {
     "name": "stdout",
     "output_type": "stream",
     "text": [
      "\r",
      "Upgrading database; v8 -> v9: 100%|██████████| 1/1 [00:00<00:00, 1050.68it/s]"
     ]
    },
    {
     "name": "stdout",
     "output_type": "stream",
     "text": [
      "\n"
     ]
    },
    {
     "data": {
      "text/plain": [
       "tutorial_ParameterWithSetpoints#no sample#1@/home/vsts/work/1/s/docs/examples/Parameters/tutorial_paramter_with_setpoints.db\n",
       "----------------------------------------------------------------------------------------------------------------------------"
      ]
     },
     "execution_count": 6,
     "metadata": {},
     "output_type": "execute_result"
    }
   ],
   "source": [
    "tutorial_db_path = os.path.join(os.getcwd(), 'tutorial_paramter_with_setpoints.db')\n",
    "initialise_or_create_database_at(tutorial_db_path)\n",
    "load_or_create_experiment(experiment_name='tutorial_ParameterWithSetpoints', sample_name=\"no sample\")"
   ]
  },
  {
   "cell_type": "code",
   "execution_count": 7,
   "metadata": {},
   "outputs": [],
   "source": [
    "a = DummySpectrumAnalyzer('foobar')"
   ]
  },
  {
   "cell_type": "markdown",
   "metadata": {},
   "source": [
    "First we setup the limits of the spectrum"
   ]
  },
  {
   "cell_type": "code",
   "execution_count": 8,
   "metadata": {},
   "outputs": [],
   "source": [
    "a.f_start(0)\n",
    "a.f_stop(500)\n",
    "a.n_points(501)"
   ]
  },
  {
   "cell_type": "markdown",
   "metadata": {},
   "source": [
    "And we can grab the frequency axis"
   ]
  },
  {
   "cell_type": "code",
   "execution_count": 9,
   "metadata": {},
   "outputs": [
    {
     "data": {
      "text/plain": [
       "501"
      ]
     },
     "execution_count": 9,
     "metadata": {},
     "output_type": "execute_result"
    }
   ],
   "source": [
    "a.n_points()"
   ]
  },
  {
   "cell_type": "code",
   "execution_count": 10,
   "metadata": {
    "scrolled": false
   },
   "outputs": [
    {
     "data": {
      "text/plain": [
       "501"
      ]
     },
     "execution_count": 10,
     "metadata": {},
     "output_type": "execute_result"
    }
   ],
   "source": [
    "freq_axis = a.freq_axis()\n",
    "len(freq_axis)"
   ]
  },
  {
   "cell_type": "code",
   "execution_count": 11,
   "metadata": {},
   "outputs": [
    {
     "data": {
      "text/plain": [
       "array([0., 1., 2., 3., 4., 5., 6., 7., 8., 9.])"
      ]
     },
     "execution_count": 11,
     "metadata": {},
     "output_type": "execute_result"
    }
   ],
   "source": [
    "freq_axis[:10]"
   ]
  },
  {
   "cell_type": "markdown",
   "metadata": {},
   "source": [
    "As expected we get a result wit 501 points as we asked for an axis with 501 points. "
   ]
  },
  {
   "cell_type": "markdown",
   "metadata": {},
   "source": [
    "Above we have added a validator to the `freq_axis` parameter encoding the fact that this is an Array with `n_points`. Note that we do not have to supply the number of points as an integer but can supply a function that returns the valid number of points. This would normally be a QCoDeS parameter.\n",
    "\n",
    "This will be checked if we validate the output."
   ]
  },
  {
   "cell_type": "code",
   "execution_count": 12,
   "metadata": {},
   "outputs": [],
   "source": [
    "a.freq_axis.validate(a.freq_axis.get())"
   ]
  },
  {
   "cell_type": "markdown",
   "metadata": {},
   "source": [
    "Naturally, we can also get the spectrum. Getting the spectrum will automatically perform validation both for the shape of the parameter itself and the relation to the setpoint parameter(s)"
   ]
  },
  {
   "cell_type": "code",
   "execution_count": 13,
   "metadata": {
    "scrolled": true
   },
   "outputs": [
    {
     "data": {
      "text/plain": [
       "501"
      ]
     },
     "execution_count": 13,
     "metadata": {},
     "output_type": "execute_result"
    }
   ],
   "source": [
    "spectrum = a.spectrum.get()\n",
    "len(spectrum)"
   ]
  },
  {
   "cell_type": "markdown",
   "metadata": {},
   "source": [
    "When we validate a `ParameterWithSetpoints`, we automatically validate that the shape is consistent between the parameters and its setpoints. As well as validating the shape as above."
   ]
  },
  {
   "cell_type": "code",
   "execution_count": 14,
   "metadata": {},
   "outputs": [],
   "source": [
    "a.spectrum.validate(a.spectrum.get())"
   ]
  },
  {
   "cell_type": "markdown",
   "metadata": {},
   "source": [
    "The consistent shapes can be validated explicitly."
   ]
  },
  {
   "cell_type": "code",
   "execution_count": 15,
   "metadata": {},
   "outputs": [],
   "source": [
    "a.spectrum.validate_consistent_shape()"
   ]
  },
  {
   "cell_type": "markdown",
   "metadata": {},
   "source": [
    "We can inspect the setpoints of the spectrum."
   ]
  },
  {
   "cell_type": "code",
   "execution_count": 16,
   "metadata": {},
   "outputs": [
    {
     "data": {
      "text/plain": [
       "(<__main__.GeneratedSetPoints: freq_axis at 140674501063120>,)"
      ]
     },
     "execution_count": 16,
     "metadata": {},
     "output_type": "execute_result"
    }
   ],
   "source": [
    "a.spectrum.setpoints"
   ]
  },
  {
   "cell_type": "markdown",
   "metadata": {},
   "source": [
    "Or even change them."
   ]
  },
  {
   "cell_type": "code",
   "execution_count": 17,
   "metadata": {},
   "outputs": [],
   "source": [
    "a.spectrum.setpoints = (a.freq_axis,)"
   ]
  },
  {
   "cell_type": "markdown",
   "metadata": {},
   "source": [
    "## Measurement"
   ]
  },
  {
   "cell_type": "markdown",
   "metadata": {},
   "source": [
    "We can also directly consume the parameter in a measurement without defining the setpoints of the parameter again. The setpoints are automatically obtained from the definition of the `ParameterWithSetpoint` instance. "
   ]
  },
  {
   "cell_type": "code",
   "execution_count": 18,
   "metadata": {},
   "outputs": [
    {
     "name": "stdout",
     "output_type": "stream",
     "text": [
      "Starting experimental run with id: 1. \n"
     ]
    }
   ],
   "source": [
    "meas = Measurement()\n",
    "meas.register_parameter(a.spectrum)\n",
    "\n",
    "with meas.run() as datasaver:\n",
    "    datasaver.add_result((a.freq_axis, a.freq_axis()),\n",
    "                         (a.spectrum, a.spectrum()))\n",
    "    dataset = datasaver.dataset"
   ]
  },
  {
   "cell_type": "markdown",
   "metadata": {},
   "source": [
    "And plot it"
   ]
  },
  {
   "cell_type": "code",
   "execution_count": 19,
   "metadata": {},
   "outputs": [
    {
     "data": {
      "text/plain": [
       "([<matplotlib.axes._subplots.AxesSubplot at 0x7ff155acd990>], [None])"
      ]
     },
     "execution_count": 19,
     "metadata": {},
     "output_type": "execute_result"
    },
    {
     "data": {
      "image/png": "[encoded data removed]",
      "text/plain": [
       "<Figure size 432x288 with 1 Axes>"
      ]
     },
     "metadata": {
      "needs_background": "light"
     },
     "output_type": "display_data"
    }
   ],
   "source": [
    "plot_dataset(dataset)"
   ]
  },
  {
   "cell_type": "markdown",
   "metadata": {},
   "source": [
    "To reduce the amount of typing a simple convenience function is provided that will take a `ParameterWithSetpoints` and get both its values and the setpoints values and return them as tuples for direct insertion into the Dataset."
   ]
  },
  {
   "cell_type": "code",
   "execution_count": 20,
   "metadata": {
    "scrolled": true
   },
   "outputs": [
    {
     "data": {
      "text/plain": [
       "[(<__main__.GeneratedSetPoints: freq_axis at 140674501063120>,\n",
       "  array([  0.,   1.,   2.,   3.,   4.,   5.,   6.,   7.,   8.,   9.,  10.,\n",
       "          11.,  12.,  13.,  14.,  15.,  16.,  17.,  18.,  19.,  20.,  21.,\n",
       "          22.,  23.,  24.,  25.,  26.,  27.,  28.,  29.,  30.,  31.,  32.,\n",
       "          33.,  34.,  35.,  36.,  37.,  38.,  39.,  40.,  41.,  42.,  43.,\n",
       "          44.,  45.,  46.,  47.,  48.,  49.,  50.,  51.,  52.,  53.,  54.,\n",
       "          55.,  56.,  57.,  58.,  59.,  60.,  61.,  62.,  63.,  64.,  65.,\n",
       "          66.,  67.,  68.,  69.,  70.,  71.,  72.,  73.,  74.,  75.,  76.,\n",
       "          77.,  78.,  79.,  80.,  81.,  82.,  83.,  84.,  85.,  86.,  87.,\n",
       "          88.,  89.,  90.,  91.,  92.,  93.,  94.,  95.,  96.,  97.,  98.,\n",
       "          99., 100., 101., 102., 103., 104., 105., 106., 107., 108., 109.,\n",
       "         110., 111., 112., 113., 114., 115., 116., 117., 118., 119., 120.,\n",
       "         121., 122., 123., 124., 125., 126., 127., 128., 129., 130., 131.,\n",
       "         132., 133., 134., 135., 136., 137., 138., 139., 140., 141., 142.,\n",
       "         143., 144., 145., 146., 147., 148., 149., 150., 151., 152., 153.,\n",
       "         154., 155., 156., 157., 158., 159., 160., 161., 162., 163., 164.,\n",
       "         165., 166., 167., 168., 169., 170., 171., 172., 173., 174., 175.,\n",
       "         176., 177., 178., 179., 180., 181., 182., 183., 184., 185., 186.,\n",
       "         187., 188., 189., 190., 191., 192., 193., 194., 195., 196., 197.,\n",
       "         198., 199., 200., 201., 202., 203., 204., 205., 206., 207., 208.,\n",
       "         209., 210., 211., 212., 213., 214., 215., 216., 217., 218., 219.,\n",
       "         220., 221., 222., 223., 224., 225., 226., 227., 228., 229., 230.,\n",
       "         231., 232., 233., 234., 235., 236., 237., 238., 239., 240., 241.,\n",
       "         242., 243., 244., 245., 246., 247., 248., 249., 250., 251., 252.,\n",
       "         253., 254., 255., 256., 257., 258., 259., 260., 261., 262., 263.,\n",
       "         264., 265., 266., 267., 268., 269., 270., 271., 272., 273., 274.,\n",
       "         275., 276., 277., 278., 279., 280., 281., 282., 283., 284., 285.,\n",
       "         286., 287., 288., 289., 290., 291., 292., 293., 294., 295., 296.,\n",
       "         297., 298., 299., 300., 301., 302., 303., 304., 305., 306., 307.,\n",
       "         308., 309., 310., 311., 312., 313., 314., 315., 316., 317., 318.,\n",
       "         319., 320., 321., 322., 323., 324., 325., 326., 327., 328., 329.,\n",
       "         330., 331., 332., 333., 334., 335., 336., 337., 338., 339., 340.,\n",
       "         341., 342., 343., 344., 345., 346., 347., 348., 349., 350., 351.,\n",
       "         352., 353., 354., 355., 356., 357., 358., 359., 360., 361., 362.,\n",
       "         363., 364., 365., 366., 367., 368., 369., 370., 371., 372., 373.,\n",
       "         374., 375., 376., 377., 378., 379., 380., 381., 382., 383., 384.,\n",
       "         385., 386., 387., 388., 389., 390., 391., 392., 393., 394., 395.,\n",
       "         396., 397., 398., 399., 400., 401., 402., 403., 404., 405., 406.,\n",
       "         407., 408., 409., 410., 411., 412., 413., 414., 415., 416., 417.,\n",
       "         418., 419., 420., 421., 422., 423., 424., 425., 426., 427., 428.,\n",
       "         429., 430., 431., 432., 433., 434., 435., 436., 437., 438., 439.,\n",
       "         440., 441., 442., 443., 444., 445., 446., 447., 448., 449., 450.,\n",
       "         451., 452., 453., 454., 455., 456., 457., 458., 459., 460., 461.,\n",
       "         462., 463., 464., 465., 466., 467., 468., 469., 470., 471., 472.,\n",
       "         473., 474., 475., 476., 477., 478., 479., 480., 481., 482., 483.,\n",
       "         484., 485., 486., 487., 488., 489., 490., 491., 492., 493., 494.,\n",
       "         495., 496., 497., 498., 499., 500.])),\n",
       " (<__main__.DummyArray: spectrum at 140674533811472>,\n",
       "  array([7.09451799e-01, 5.79468433e-01, 5.73673970e-01, 3.87404769e-01,\n",
       "         5.79201548e-01, 5.35312334e-01, 6.77187261e-01, 1.40582990e-01,\n",
       "         7.39456863e-01, 6.26667253e-01, 7.72332539e-01, 8.62150309e-02,\n",
       "         5.07983282e-01, 7.29283277e-01, 7.42901920e-01, 3.01276016e-01,\n",
       "         9.48223272e-01, 6.56561846e-01, 4.70223899e-03, 1.44299064e-01,\n",
       "         9.04950171e-01, 6.73056931e-01, 9.05751412e-01, 6.16743444e-02,\n",
       "         4.66621453e-01, 4.83001503e-01, 1.18944374e-01, 6.80932292e-01,\n",
       "         4.93811809e-01, 7.78411068e-01, 5.88733766e-01, 5.36190491e-01,\n",
       "         3.11483387e-01, 1.89012822e-01, 8.22495021e-01, 4.29302008e-02,\n",
       "         3.02681395e-01, 8.15771153e-02, 9.88688192e-01, 2.45938781e-01,\n",
       "         3.30953486e-01, 3.49772646e-01, 3.28031748e-01, 1.77393587e-01,\n",
       "         2.58035535e-01, 9.01036284e-01, 3.97566858e-01, 6.24782696e-01,\n",
       "         4.86712236e-01, 1.06875531e-01, 5.14805761e-01, 7.75281273e-01,\n",
       "         9.30954250e-01, 2.79483944e-01, 5.38879054e-01, 3.50259152e-01,\n",
       "         6.49609732e-01, 7.76226810e-01, 8.47461385e-01, 9.05913442e-01,\n",
       "         4.99108684e-01, 2.70547891e-01, 1.61165419e-01, 6.84381700e-01,\n",
       "         5.62449689e-01, 2.97289079e-01, 1.30661553e-01, 7.92998400e-01,\n",
       "         7.58790039e-01, 9.85918097e-01, 4.23813331e-02, 1.86634871e-01,\n",
       "         4.55126897e-01, 2.21140225e-01, 1.48570862e-01, 7.84650855e-01,\n",
       "         7.17810161e-02, 8.58835714e-02, 5.19919056e-01, 7.25884692e-01,\n",
       "         4.75171594e-01, 2.09421604e-02, 5.58401814e-01, 9.74360406e-01,\n",
       "         3.07356467e-01, 8.74348908e-03, 3.91900527e-01, 8.70672987e-01,\n",
       "         3.12439888e-01, 5.41657400e-01, 2.05676194e-01, 1.84763116e-01,\n",
       "         8.64309900e-01, 7.37384579e-04, 9.65158137e-01, 7.23748154e-01,\n",
       "         6.04813011e-01, 9.26860220e-01, 5.78032410e-01, 9.96361535e-01,\n",
       "         7.04965095e-01, 2.80445716e-01, 9.94807150e-01, 1.37703512e-01,\n",
       "         2.93101827e-01, 7.05311660e-01, 2.51334100e-01, 5.11045182e-01,\n",
       "         1.40887091e-01, 2.69580097e-01, 5.80864428e-01, 4.77032112e-01,\n",
       "         9.38213506e-01, 5.86910310e-01, 5.96668820e-01, 2.53505037e-01,\n",
       "         8.06211317e-01, 8.30670572e-01, 6.12841004e-01, 8.44122237e-01,\n",
       "         8.60552527e-01, 7.87526312e-01, 5.34372630e-01, 1.63117655e-01,\n",
       "         3.26191760e-01, 6.11721002e-01, 6.75044281e-01, 8.19728019e-01,\n",
       "         5.70203078e-01, 5.20160174e-01, 3.35349129e-01, 2.28108553e-01,\n",
       "         8.33365634e-01, 9.16910131e-01, 2.46014928e-01, 2.87424702e-01,\n",
       "         6.87504465e-01, 9.97326405e-01, 1.33462560e-01, 6.07129301e-01,\n",
       "         7.83651763e-01, 9.94247808e-01, 8.05828797e-01, 9.41557986e-01,\n",
       "         6.95515279e-01, 3.50845320e-01, 2.00151985e-01, 7.53431306e-02,\n",
       "         2.74809584e-01, 3.75073331e-02, 3.15655458e-01, 8.49590162e-01,\n",
       "         7.20769504e-01, 5.00407037e-01, 8.99553194e-01, 9.52075160e-01,\n",
       "         7.20317321e-01, 7.68600167e-01, 7.45648642e-01, 9.56119236e-02,\n",
       "         1.70217702e-01, 6.00936809e-01, 6.34195809e-01, 7.92320614e-01,\n",
       "         1.00591501e-01, 6.23270080e-01, 6.57716773e-01, 2.57747081e-01,\n",
       "         8.13414705e-01, 7.79287460e-01, 7.41289421e-01, 8.98928591e-01,\n",
       "         4.05962848e-02, 5.82338467e-01, 6.62779836e-01, 6.91788620e-01,\n",
       "         2.73760638e-01, 2.00135565e-01, 1.25383375e-01, 4.60184681e-01,\n",
       "         4.81006956e-01, 4.64039338e-01, 8.52892489e-02, 2.04446930e-01,\n",
       "         2.44144167e-01, 7.01860843e-01, 9.78342168e-01, 7.71823737e-01,\n",
       "         2.70141507e-01, 7.84883114e-01, 2.99142776e-01, 5.15131525e-01,\n",
       "         5.81302460e-02, 6.46893601e-01, 5.89180073e-01, 6.07210114e-01,\n",
       "         4.70324833e-01, 7.74990915e-01, 8.58520782e-01, 6.78351947e-01,\n",
       "         4.35893577e-02, 9.05651255e-01, 6.74123500e-01, 4.43424999e-02,\n",
       "         2.39220066e-01, 4.52882108e-01, 2.09218635e-01, 2.10773847e-01,\n",
       "         9.27474750e-01, 7.71490944e-01, 6.87147493e-01, 9.64084718e-01,\n",
       "         2.22013427e-01, 4.16378960e-01, 6.95345002e-01, 2.85946735e-01,\n",
       "         3.03770270e-01, 5.34162942e-01, 5.51731474e-01, 7.52481188e-01,\n",
       "         3.20102050e-01, 8.82418614e-01, 1.68945744e-01, 2.84582755e-03,\n",
       "         6.08522048e-01, 5.70929660e-01, 9.35918590e-01, 4.48282485e-01,\n",
       "         2.94286622e-01, 8.53225519e-01, 6.95191259e-01, 9.23197171e-01,\n",
       "         5.81385506e-01, 3.54022731e-01, 3.37065255e-01, 2.10184734e-01,\n",
       "         7.41901773e-01, 7.91338005e-01, 4.75813047e-03, 7.04257264e-01,\n",
       "         4.95309397e-01, 4.39207170e-02, 2.55371539e-01, 7.21224524e-01,\n",
       "         7.35029631e-01, 3.31422371e-01, 1.29615118e-01, 1.61634234e-01,\n",
       "         3.65493768e-01, 2.27882583e-01, 6.64995964e-01, 1.54659411e-02,\n",
       "         6.89871555e-01, 2.83993388e-01, 1.57981307e-01, 7.11566840e-01,\n",
       "         4.31054550e-01, 8.57471425e-02, 7.43821701e-01, 1.07514729e-01,\n",
       "         7.21977204e-02, 5.80271041e-01, 8.65114475e-01, 5.93058406e-01,\n",
       "         2.66959788e-01, 4.15951410e-01, 9.90276689e-01, 8.15098508e-01,\n",
       "         7.81322667e-02, 7.73870081e-01, 8.16453044e-01, 6.24355581e-02,\n",
       "         8.91678369e-01, 7.77200550e-01, 7.32817255e-01, 9.50392433e-01,\n",
       "         5.93014849e-01, 7.62108505e-01, 4.12897541e-01, 7.37680528e-01,\n",
       "         6.48396091e-02, 9.49427624e-01, 3.74298227e-03, 3.31391048e-01,\n",
       "         7.07602329e-01, 9.84470820e-01, 8.79838794e-01, 2.00419790e-01,\n",
       "         3.21515530e-01, 3.62524356e-01, 2.29127064e-01, 4.29165729e-01,\n",
       "         3.78555019e-01, 2.91544754e-01, 8.45679858e-01, 1.18305934e-01,\n",
       "         3.84821371e-02, 6.78636683e-01, 2.83946509e-01, 2.92711939e-01,\n",
       "         2.14025344e-01, 1.69927807e-01, 9.55363753e-01, 1.17218810e-01,\n",
       "         5.50401628e-01, 9.92044728e-02, 7.59960453e-01, 6.52578112e-01,\n",
       "         3.62681389e-01, 2.46969724e-01, 6.21104900e-01, 5.62332652e-01,\n",
       "         9.38474391e-01, 3.20304292e-01, 1.23705963e-01, 3.19573827e-01,\n",
       "         6.16696549e-01, 1.41691053e-01, 5.17132359e-01, 9.90962556e-01,\n",
       "         1.46874878e-01, 9.96407530e-01, 4.28074471e-01, 8.54706987e-01,\n",
       "         1.89462504e-01, 1.84390007e-01, 4.37395275e-01, 8.15490723e-01,\n",
       "         1.67131210e-01, 6.17460714e-01, 5.66183239e-01, 6.66714689e-01,\n",
       "         8.63323096e-01, 8.97286380e-01, 3.54502168e-01, 4.35732574e-01,\n",
       "         6.82020466e-01, 2.30180891e-01, 1.31783426e-01, 3.56262002e-01,\n",
       "         6.30707381e-01, 3.70327205e-01, 3.68844613e-01, 5.27110938e-01,\n",
       "         7.95763379e-01, 6.06413909e-01, 2.24653905e-01, 4.30198158e-01,\n",
       "         4.20013468e-01, 9.52709114e-01, 6.91123757e-01, 3.50522283e-01,\n",
       "         7.94260207e-01, 5.95765455e-02, 7.33026689e-01, 5.50326345e-01,\n",
       "         5.36691410e-01, 6.65079772e-01, 1.17016062e-01, 6.99454280e-01,\n",
       "         2.71776086e-02, 3.82115797e-01, 5.77602291e-01, 8.58188474e-01,\n",
       "         3.13514677e-01, 3.71242652e-01, 7.76457757e-01, 4.51495647e-01,\n",
       "         3.99512266e-02, 2.83697562e-01, 8.94801842e-01, 8.45341150e-01,\n",
       "         6.20796621e-01, 3.87655852e-01, 9.99295346e-01, 3.51820970e-01,\n",
       "         4.38184455e-01, 8.81491053e-01, 3.10528974e-01, 8.01762081e-01,\n",
       "         5.25696034e-01, 5.22348746e-02, 5.68440038e-01, 7.76433820e-01,\n",
       "         8.24289264e-01, 9.89085429e-01, 3.53638711e-01, 7.10070751e-01,\n",
       "         6.98951809e-01, 2.24993351e-02, 8.56568687e-01, 6.86339462e-01,\n",
       "         6.67386117e-01, 5.17427121e-01, 7.63654502e-01, 2.79485892e-01,\n",
       "         7.79975385e-01, 9.17460849e-01, 9.14229619e-02, 8.95901378e-01,\n",
       "         2.12119539e-01, 7.95525075e-01, 9.66658274e-01, 9.35973974e-01,\n",
       "         9.30237676e-01, 7.73771789e-01, 5.07532721e-02, 3.94538559e-01,\n",
       "         6.26205576e-01, 3.79351247e-01, 6.31860275e-01, 5.18926241e-02,\n",
       "         4.03301370e-02, 2.87862082e-03, 8.65879550e-01, 1.96300287e-01,\n",
       "         9.44027508e-01, 7.26638724e-01, 9.63119374e-02, 1.52416221e-01,\n",
       "         1.10358698e-01, 6.58263245e-02, 5.63420267e-01, 4.40147820e-01,\n",
       "         8.35413430e-01, 4.57538834e-01, 5.18872360e-01, 5.40186161e-02,\n",
       "         9.36180016e-01, 5.09002547e-01, 3.64497921e-01, 9.54939639e-01,\n",
       "         1.23181191e-01, 8.07426348e-01, 6.21647056e-01, 4.32465008e-01,\n",
       "         4.70184130e-01, 6.42193758e-01, 5.16054343e-02, 3.16609452e-01,\n",
       "         3.71585309e-01, 4.24799288e-01, 7.52698881e-01, 1.96310133e-01,\n",
       "         8.46910292e-01, 3.29729782e-01, 4.78456052e-01, 6.18291080e-01,\n",
       "         4.33539493e-01, 5.50467228e-01, 5.08054428e-01, 3.93581027e-01,\n",
       "         5.43411457e-01, 6.75177425e-01, 8.34550338e-01, 3.78731233e-01,\n",
       "         5.98447527e-01, 1.76604716e-02, 4.07075204e-01, 9.71010503e-01,\n",
       "         3.94752248e-01, 8.54092723e-01, 6.45714283e-01, 4.94027456e-01,\n",
       "         3.38038366e-01, 5.69524554e-02, 6.18258983e-01, 3.63763615e-01,\n",
       "         7.00542513e-01, 1.82622623e-01, 9.49291488e-01, 4.61739533e-01,\n",
       "         3.66726798e-01, 5.04695379e-01, 8.72209724e-01, 8.41108292e-01,\n",
       "         6.93514002e-01, 6.05731659e-01, 2.23001090e-01, 8.49521430e-01,\n",
       "         3.54746023e-01, 4.44474991e-01, 4.44551489e-02, 5.31823073e-02,\n",
       "         8.49223360e-02, 7.01225006e-01, 6.98558458e-02, 1.28814600e-01,\n",
       "         8.12905222e-01, 8.03647595e-01, 1.78604222e-01, 1.36898640e-01,\n",
       "         9.85105839e-01, 1.95844701e-01, 9.60658349e-02, 8.58785280e-01,\n",
       "         9.95396656e-01, 8.77290025e-01, 1.73787869e-01, 7.76138207e-01,\n",
       "         9.67359755e-01]))]"
      ]
     },
     "execution_count": 20,
     "metadata": {},
     "output_type": "execute_result"
    }
   ],
   "source": [
    "expand_setpoints_helper(a.spectrum)"
   ]
  },
  {
   "cell_type": "code",
   "execution_count": 21,
   "metadata": {},
   "outputs": [
    {
     "name": "stdout",
     "output_type": "stream",
     "text": [
      "Starting experimental run with id: 2. \n"
     ]
    }
   ],
   "source": [
    "meas = Measurement()\n",
    "meas.register_parameter(a.spectrum)\n",
    "\n",
    "with meas.run() as datasaver:\n",
    "    datasaver.add_result(*expand_setpoints_helper(a.spectrum))\n",
    "    \n",
    "    dataid = datasaver.run_id"
   ]
  },
  {
   "cell_type": "code",
   "execution_count": null,
   "metadata": {},
   "outputs": [],
   "source": []
  }
 ],
 "metadata": {
  "kernelspec": {
   "display_name": "Python 3",
   "language": "python",
   "name": "python3"
  },
  "language_info": {
   "codemirror_mode": {
    "name": "ipython",
    "version": 3
   },
   "file_extension": ".py",
   "mimetype": "text/x-python",
   "name": "python",
   "nbconvert_exporter": "python",
   "pygments_lexer": "ipython3",
   "version": "3.7.7"
  },
  "toc": {
   "base_numbering": 1,
   "nav_menu": {},
   "number_sections": true,
   "sideBar": true,
   "skip_h1_title": false,
   "title_cell": "Table of Contents",
   "title_sidebar": "Contents",
   "toc_cell": false,
   "toc_position": {},
   "toc_section_display": true,
   "toc_window_display": false
  },
  "varInspector": {
   "cols": {
    "lenName": 16,
    "lenType": 16,
    "lenVar": 40
   },
   "kernels_config": {
    "python": {
     "delete_cmd_postfix": "",
     "delete_cmd_prefix": "del ",
     "library": "var_list.py",
     "varRefreshCmd": "print(var_dic_list())"
    },
    "r": {
     "delete_cmd_postfix": ") ",
     "delete_cmd_prefix": "rm(",
     "library": "var_list.r",
     "varRefreshCmd": "cat(var_dic_list()) "
    }
   },
   "types_to_exclude": [
    "module",
    "function",
    "builtin_function_or_method",
    "instance",
    "_Feature"
   ],
   "window_display": false
  }
 },
 "nbformat": 4,
 "nbformat_minor": 2
}
