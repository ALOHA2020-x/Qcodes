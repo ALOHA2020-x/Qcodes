{
 "cells": [
  {
   "cell_type": "markdown",
   "metadata": {},
   "source": [
    "# Simple Example of ParameterWithSetpoints\n",
    "This notebook provides an example for writing a simple driver with a parameter that has setpoints. Let's name this parameter that has setpoints as \"y\". Then, the setpoints, say \"x1, x2, x3 ..\", are the parameters on which the parameter \n",
    "\"y\" depends upon. Meaning \"y\" is a function of \"x1, x2, x3 ...\" where \"x1, x2, x3 ...\" are known as the setpoints of parameter \"y\".\n",
    "\n",
    "This is most likely to be useful for instruments that return arrays of results. In this notebook, we will show an example of this."
   ]
  },
  {
   "cell_type": "code",
   "execution_count": 1,
   "metadata": {},
   "outputs": [],
   "source": [
    "import numpy as np\n",
    "import os"
   ]
  },
  {
   "cell_type": "code",
   "execution_count": 2,
   "metadata": {},
   "outputs": [
    {
     "name": "stdout",
     "output_type": "stream",
     "text": [
      "Logging hadn't been started.\n",
      "Activating auto-logging. Current session state plus future input saved.\n",
      "Filename       : /home/vsts/.qcodes/logs/command_history.log\n",
      "Mode           : append\n",
      "Output logging : True\n",
      "Raw input log  : False\n",
      "Timestamping   : True\n",
      "State          : active\n"
     ]
    },
    {
     "name": "stdout",
     "output_type": "stream",
     "text": [
      "Qcodes Logfile : /home/vsts/.qcodes/logs/200804-21915-qcodes.log\n"
     ]
    }
   ],
   "source": [
    "from qcodes.dataset.plotting import plot_dataset\n",
    "from qcodes.utils.validators import Numbers, Arrays\n",
    "from qcodes.instrument.base import Instrument\n",
    "from qcodes.dataset.measurements import Measurement"
   ]
  },
  {
   "cell_type": "code",
   "execution_count": 3,
   "metadata": {},
   "outputs": [],
   "source": [
    "from qcodes.dataset.sqlite.database import initialise_or_create_database_at\n",
    "from qcodes.dataset.experiment_container import load_or_create_experiment"
   ]
  },
  {
   "cell_type": "code",
   "execution_count": 4,
   "metadata": {},
   "outputs": [],
   "source": [
    "from qcodes.instrument.parameter import ParameterWithSetpoints, Parameter\n",
    "from qcodes.instrument.parameter import expand_setpoints_helper"
   ]
  },
  {
   "cell_type": "markdown",
   "metadata": {},
   "source": [
    "First, we define a dummy instrument that returns something like a frequency spectrum starting from a frequency given by `f_start` to a frequency given by `f_stop` in `n_points` steps. \n",
    "\n",
    "The extra functionality of the `ParameterWithSetpoints` is implemented by giving it a reference to one or more parameters that acts like its setpoints. \n",
    "\n",
    "To setup a `ParameterWithSetpoints` we have to do two things in addition to what we do for a normal parameter.\n",
    "\n",
    "* Define one or more parameter for the setpoints (one for each dimension of the array and let the `ParameterWithSetpoints` know that these are the setpoints.\n",
    "* Give both the setpoints parameter(s) and the `ParameterWithSetpoints` a `validator` of type `Arrays` with a shape. The shapes should be such that the combined shape of the setpoints matches the shape of the `ParameterWithSetpoints`. Note that if the shape changes with the setting of the instrument, it can be defined by another parameter as shown below. "
   ]
  },
  {
   "cell_type": "code",
   "execution_count": 5,
   "metadata": {},
   "outputs": [],
   "source": [
    "class GeneratedSetPoints(Parameter):\n",
    "    \"\"\"\n",
    "    A parameter that generates a setpoint array from start, stop and num points\n",
    "    parameters.\n",
    "    \"\"\"\n",
    "    def __init__(self, startparam, stopparam, numpointsparam, *args, **kwargs):\n",
    "        super().__init__(*args, **kwargs)\n",
    "        self._startparam = startparam\n",
    "        self._stopparam = stopparam\n",
    "        self._numpointsparam = numpointsparam\n",
    "\n",
    "    def get_raw(self):\n",
    "        return np.linspace(self._startparam(), self._stopparam(),\n",
    "                              self._numpointsparam())\n",
    "\n",
    "class DummyArray(ParameterWithSetpoints):\n",
    "    \n",
    "    def get_raw(self):\n",
    "        npoints = self.root_instrument.n_points.get_latest()\n",
    "        return np.random.rand(npoints)\n",
    "    \n",
    "\n",
    "class DummySpectrumAnalyzer(Instrument):\n",
    "    \n",
    "    def __init__(self, name, **kwargs):\n",
    "        \n",
    "        super().__init__(name, **kwargs)\n",
    "            \n",
    "\n",
    "        self.add_parameter('f_start',\n",
    "                           initial_value=0,\n",
    "                           unit='Hz',\n",
    "                           label='f start',\n",
    "                           vals=Numbers(0,1e3),\n",
    "                           get_cmd=None,\n",
    "                           set_cmd=None)\n",
    "\n",
    "        self.add_parameter('f_stop',\n",
    "                           unit='Hz',\n",
    "                           label='f stop',\n",
    "                           vals=Numbers(1,1e3),\n",
    "                           get_cmd=None,\n",
    "                           set_cmd=None)\n",
    "\n",
    "        self.add_parameter('n_points',\n",
    "                           unit='',\n",
    "                           initial_value=10,\n",
    "                           vals=Numbers(1,1e3),\n",
    "                           get_cmd=None,\n",
    "                           set_cmd=None)\n",
    "        \n",
    "        self.add_parameter('freq_axis',\n",
    "                           unit='Hz',\n",
    "                           label='Freq Axis',\n",
    "                           parameter_class=GeneratedSetPoints,\n",
    "                           startparam=self.f_start,\n",
    "                           stopparam=self.f_stop,\n",
    "                           numpointsparam=self.n_points,\n",
    "                           vals=Arrays(shape=(self.n_points.get_latest,)))\n",
    "                           \n",
    "        self.add_parameter('spectrum',\n",
    "                   unit='dBm',\n",
    "                   setpoints=(self.freq_axis,),\n",
    "                   label='Spectrum',\n",
    "                   parameter_class=DummyArray,\n",
    "                   vals=Arrays(shape=(self.n_points.get_latest,)))\n",
    "                "
   ]
  },
  {
   "cell_type": "markdown",
   "metadata": {},
   "source": [
    "In the above example, the shape is defined by the parameter `n_points` that defines how many samples our `DummySpectrumAnalyzer` returns.\n",
    "\n",
    "This means that the validation will call the function to get `n_points` twice for each `get` of the parameter. This may be too slow, however, if you (as the driver-writer) can guarantee that the cached value for `n_points` will never be out of sync with the value stored in the instrument, `n_points` may be replaced by it's latest known value such that the `validator` reads:\n",
    "```python\n",
    "vals=Arrays(shape=(self.n_points.get_latest))\n",
    "```\n",
    "\n",
    "This avoids any additional call to the instrument. In the same way, the arguments to the `freq_axis` parameter that defines the start, stop and number of points can be replaced by their latest value if the instrument allows it.\n",
    "\n"
   ]
  },
  {
   "cell_type": "code",
   "execution_count": 6,
   "metadata": {},
   "outputs": [
    {
     "name": "stdout",
     "output_type": "stream",
     "text": [
      "\r",
      "0it [00:00, ?it/s]"
     ]
    },
    {
     "name": "stdout",
     "output_type": "stream",
     "text": [
      "\r",
      "Upgrading database; v0 -> v1: : 0it [00:00, ?it/s]"
     ]
    },
    {
     "name": "stdout",
     "output_type": "stream",
     "text": [
      "\r",
      "Upgrading database; v0 -> v1: : 0it [00:00, ?it/s]"
     ]
    },
    {
     "name": "stdout",
     "output_type": "stream",
     "text": [
      "\n",
      "\r",
      "  0%|          | 0/1 [00:00<?, ?it/s]"
     ]
    },
    {
     "name": "stdout",
     "output_type": "stream",
     "text": [
      "\r",
      "Upgrading database; v1 -> v2:   0%|          | 0/1 [00:00<?, ?it/s]"
     ]
    },
    {
     "name": "stdout",
     "output_type": "stream",
     "text": [
      "\r",
      "Upgrading database; v1 -> v2: 100%|██████████| 1/1 [00:00<00:00, 841.89it/s]"
     ]
    },
    {
     "name": "stdout",
     "output_type": "stream",
     "text": [
      "\n",
      "\r",
      "0it [00:00, ?it/s]"
     ]
    },
    {
     "name": "stdout",
     "output_type": "stream",
     "text": [
      "\r",
      "Upgrading database; v2 -> v3: : 0it [00:00, ?it/s]"
     ]
    },
    {
     "name": "stdout",
     "output_type": "stream",
     "text": [
      "\r",
      "Upgrading database; v2 -> v3: : 0it [00:00, ?it/s]"
     ]
    },
    {
     "name": "stdout",
     "output_type": "stream",
     "text": [
      "\n",
      "\r",
      "0it [00:00, ?it/s]"
     ]
    },
    {
     "name": "stdout",
     "output_type": "stream",
     "text": [
      "\r",
      "Upgrading database; v3 -> v4: : 0it [00:00, ?it/s]"
     ]
    },
    {
     "name": "stdout",
     "output_type": "stream",
     "text": [
      "\r",
      "Upgrading database; v3 -> v4: : 0it [00:00, ?it/s]"
     ]
    },
    {
     "name": "stdout",
     "output_type": "stream",
     "text": [
      "\n",
      "\r",
      "  0%|          | 0/1 [00:00<?, ?it/s]"
     ]
    },
    {
     "name": "stdout",
     "output_type": "stream",
     "text": [
      "\r",
      "Upgrading database; v4 -> v5:   0%|          | 0/1 [00:00<?, ?it/s]"
     ]
    },
    {
     "name": "stdout",
     "output_type": "stream",
     "text": [
      "\r",
      "Upgrading database; v4 -> v5: 100%|██████████| 1/1 [00:00<00:00, 748.85it/s]"
     ]
    },
    {
     "name": "stdout",
     "output_type": "stream",
     "text": [
      "\n",
      "\r",
      "0it [00:00, ?it/s]"
     ]
    },
    {
     "name": "stdout",
     "output_type": "stream",
     "text": [
      "\r",
      "Upgrading database; v5 -> v6: : 0it [00:00, ?it/s]"
     ]
    },
    {
     "name": "stdout",
     "output_type": "stream",
     "text": [
      "\r",
      "Upgrading database; v5 -> v6: : 0it [00:00, ?it/s]"
     ]
    },
    {
     "name": "stdout",
     "output_type": "stream",
     "text": [
      "\n",
      "\r",
      "  0%|          | 0/1 [00:00<?, ?it/s]"
     ]
    },
    {
     "name": "stdout",
     "output_type": "stream",
     "text": [
      "\r",
      "Upgrading database; v6 -> v7:   0%|          | 0/1 [00:00<?, ?it/s]"
     ]
    },
    {
     "name": "stdout",
     "output_type": "stream",
     "text": [
      "\r",
      "Upgrading database; v6 -> v7: 100%|██████████| 1/1 [00:00<00:00, 400.03it/s]"
     ]
    },
    {
     "name": "stdout",
     "output_type": "stream",
     "text": [
      "\n",
      "\r",
      "  0%|          | 0/1 [00:00<?, ?it/s]"
     ]
    },
    {
     "name": "stdout",
     "output_type": "stream",
     "text": [
      "\r",
      "Upgrading database; v7 -> v8:   0%|          | 0/1 [00:00<?, ?it/s]"
     ]
    },
    {
     "name": "stdout",
     "output_type": "stream",
     "text": [
      "\r",
      "Upgrading database; v7 -> v8: 100%|██████████| 1/1 [00:00<00:00, 727.04it/s]"
     ]
    },
    {
     "name": "stdout",
     "output_type": "stream",
     "text": [
      "\n",
      "\r",
      "  0%|          | 0/1 [00:00<?, ?it/s]"
     ]
    },
    {
     "name": "stdout",
     "output_type": "stream",
     "text": [
      "\r",
      "Upgrading database; v8 -> v9:   0%|          | 0/1 [00:00<?, ?it/s]"
     ]
    },
    {
     "name": "stdout",
     "output_type": "stream",
     "text": [
      "\r",
      "Upgrading database; v8 -> v9: 100%|██████████| 1/1 [00:00<00:00, 999.36it/s]"
     ]
    },
    {
     "name": "stdout",
     "output_type": "stream",
     "text": [
      "\n"
     ]
    },
    {
     "data": {
      "text/plain": [
       "tutorial_ParameterWithSetpoints#no sample#1@/home/vsts/work/1/s/docs/examples/Parameters/tutorial_paramter_with_setpoints.db\n",
       "----------------------------------------------------------------------------------------------------------------------------"
      ]
     },
     "execution_count": 6,
     "metadata": {},
     "output_type": "execute_result"
    }
   ],
   "source": [
    "tutorial_db_path = os.path.join(os.getcwd(), 'tutorial_paramter_with_setpoints.db')\n",
    "initialise_or_create_database_at(tutorial_db_path)\n",
    "load_or_create_experiment(experiment_name='tutorial_ParameterWithSetpoints', sample_name=\"no sample\")"
   ]
  },
  {
   "cell_type": "code",
   "execution_count": 7,
   "metadata": {},
   "outputs": [],
   "source": [
    "a = DummySpectrumAnalyzer('foobar')"
   ]
  },
  {
   "cell_type": "markdown",
   "metadata": {},
   "source": [
    "First we setup the limits of the spectrum"
   ]
  },
  {
   "cell_type": "code",
   "execution_count": 8,
   "metadata": {},
   "outputs": [],
   "source": [
    "a.f_start(0)\n",
    "a.f_stop(500)\n",
    "a.n_points(501)"
   ]
  },
  {
   "cell_type": "markdown",
   "metadata": {},
   "source": [
    "And we can grab the frequency axis"
   ]
  },
  {
   "cell_type": "code",
   "execution_count": 9,
   "metadata": {},
   "outputs": [
    {
     "data": {
      "text/plain": [
       "501"
      ]
     },
     "execution_count": 9,
     "metadata": {},
     "output_type": "execute_result"
    }
   ],
   "source": [
    "a.n_points()"
   ]
  },
  {
   "cell_type": "code",
   "execution_count": 10,
   "metadata": {
    "scrolled": false
   },
   "outputs": [
    {
     "data": {
      "text/plain": [
       "501"
      ]
     },
     "execution_count": 10,
     "metadata": {},
     "output_type": "execute_result"
    }
   ],
   "source": [
    "freq_axis = a.freq_axis()\n",
    "len(freq_axis)"
   ]
  },
  {
   "cell_type": "code",
   "execution_count": 11,
   "metadata": {},
   "outputs": [
    {
     "data": {
      "text/plain": [
       "array([0., 1., 2., 3., 4., 5., 6., 7., 8., 9.])"
      ]
     },
     "execution_count": 11,
     "metadata": {},
     "output_type": "execute_result"
    }
   ],
   "source": [
    "freq_axis[:10]"
   ]
  },
  {
   "cell_type": "markdown",
   "metadata": {},
   "source": [
    "As expected we get a result wit 501 points as we asked for an axis with 501 points. "
   ]
  },
  {
   "cell_type": "markdown",
   "metadata": {},
   "source": [
    "Above we have added a validator to the `freq_axis` parameter encoding the fact that this is an Array with `n_points`. Note that we do not have to supply the number of points as an integer but can supply a function that returns the valid number of points. This would normally be a QCoDeS parameter.\n",
    "\n",
    "This will be checked if we validate the output."
   ]
  },
  {
   "cell_type": "code",
   "execution_count": 12,
   "metadata": {},
   "outputs": [],
   "source": [
    "a.freq_axis.validate(a.freq_axis.get())"
   ]
  },
  {
   "cell_type": "markdown",
   "metadata": {},
   "source": [
    "Naturally, we can also get the spectrum. Getting the spectrum will automatically perform validation both for the shape of the parameter itself and the relation to the setpoint parameter(s)"
   ]
  },
  {
   "cell_type": "code",
   "execution_count": 13,
   "metadata": {
    "scrolled": true
   },
   "outputs": [
    {
     "data": {
      "text/plain": [
       "501"
      ]
     },
     "execution_count": 13,
     "metadata": {},
     "output_type": "execute_result"
    }
   ],
   "source": [
    "spectrum = a.spectrum.get()\n",
    "len(spectrum)"
   ]
  },
  {
   "cell_type": "markdown",
   "metadata": {},
   "source": [
    "When we validate a `ParameterWithSetpoints`, we automatically validate that the shape is consistent between the parameters and its setpoints. As well as validating the shape as above."
   ]
  },
  {
   "cell_type": "code",
   "execution_count": 14,
   "metadata": {},
   "outputs": [],
   "source": [
    "a.spectrum.validate(a.spectrum.get())"
   ]
  },
  {
   "cell_type": "markdown",
   "metadata": {},
   "source": [
    "The consistent shapes can be validated explicitly."
   ]
  },
  {
   "cell_type": "code",
   "execution_count": 15,
   "metadata": {},
   "outputs": [],
   "source": [
    "a.spectrum.validate_consistent_shape()"
   ]
  },
  {
   "cell_type": "markdown",
   "metadata": {},
   "source": [
    "We can inspect the setpoints of the spectrum."
   ]
  },
  {
   "cell_type": "code",
   "execution_count": 16,
   "metadata": {},
   "outputs": [
    {
     "data": {
      "text/plain": [
       "(<__main__.GeneratedSetPoints: freq_axis at 140155997891344>,)"
      ]
     },
     "execution_count": 16,
     "metadata": {},
     "output_type": "execute_result"
    }
   ],
   "source": [
    "a.spectrum.setpoints"
   ]
  },
  {
   "cell_type": "markdown",
   "metadata": {},
   "source": [
    "Or even change them."
   ]
  },
  {
   "cell_type": "code",
   "execution_count": 17,
   "metadata": {},
   "outputs": [],
   "source": [
    "a.spectrum.setpoints = (a.freq_axis,)"
   ]
  },
  {
   "cell_type": "markdown",
   "metadata": {},
   "source": [
    "## Measurement"
   ]
  },
  {
   "cell_type": "markdown",
   "metadata": {},
   "source": [
    "We can also directly consume the parameter in a measurement without defining the setpoints of the parameter again. The setpoints are automatically obtained from the definition of the `ParameterWithSetpoint` instance. "
   ]
  },
  {
   "cell_type": "code",
   "execution_count": 18,
   "metadata": {},
   "outputs": [
    {
     "name": "stdout",
     "output_type": "stream",
     "text": [
      "Starting experimental run with id: 1. \n"
     ]
    }
   ],
   "source": [
    "meas = Measurement()\n",
    "meas.register_parameter(a.spectrum)\n",
    "\n",
    "with meas.run() as datasaver:\n",
    "    datasaver.add_result((a.freq_axis, a.freq_axis()),\n",
    "                         (a.spectrum, a.spectrum()))\n",
    "    dataset = datasaver.dataset"
   ]
  },
  {
   "cell_type": "markdown",
   "metadata": {},
   "source": [
    "And plot it"
   ]
  },
  {
   "cell_type": "code",
   "execution_count": 19,
   "metadata": {},
   "outputs": [
    {
     "data": {
      "text/plain": [
       "([<matplotlib.axes._subplots.AxesSubplot at 0x7f789b8edc90>], [None])"
      ]
     },
     "execution_count": 19,
     "metadata": {},
     "output_type": "execute_result"
    },
    {
     "data": {
      "image/png": "[encoded data removed]",
      "text/plain": [
       "<Figure size 432x288 with 1 Axes>"
      ]
     },
     "metadata": {
      "needs_background": "light"
     },
     "output_type": "display_data"
    }
   ],
   "source": [
    "plot_dataset(dataset)"
   ]
  },
  {
   "cell_type": "markdown",
   "metadata": {},
   "source": [
    "To reduce the amount of typing a simple convenience function is provided that will take a `ParameterWithSetpoints` and get both its values and the setpoints values and return them as tuples for direct insertion into the Dataset."
   ]
  },
  {
   "cell_type": "code",
   "execution_count": 20,
   "metadata": {
    "scrolled": true
   },
   "outputs": [
    {
     "data": {
      "text/plain": [
       "[(<__main__.GeneratedSetPoints: freq_axis at 140155997891344>,\n",
       "  array([  0.,   1.,   2.,   3.,   4.,   5.,   6.,   7.,   8.,   9.,  10.,\n",
       "          11.,  12.,  13.,  14.,  15.,  16.,  17.,  18.,  19.,  20.,  21.,\n",
       "          22.,  23.,  24.,  25.,  26.,  27.,  28.,  29.,  30.,  31.,  32.,\n",
       "          33.,  34.,  35.,  36.,  37.,  38.,  39.,  40.,  41.,  42.,  43.,\n",
       "          44.,  45.,  46.,  47.,  48.,  49.,  50.,  51.,  52.,  53.,  54.,\n",
       "          55.,  56.,  57.,  58.,  59.,  60.,  61.,  62.,  63.,  64.,  65.,\n",
       "          66.,  67.,  68.,  69.,  70.,  71.,  72.,  73.,  74.,  75.,  76.,\n",
       "          77.,  78.,  79.,  80.,  81.,  82.,  83.,  84.,  85.,  86.,  87.,\n",
       "          88.,  89.,  90.,  91.,  92.,  93.,  94.,  95.,  96.,  97.,  98.,\n",
       "          99., 100., 101., 102., 103., 104., 105., 106., 107., 108., 109.,\n",
       "         110., 111., 112., 113., 114., 115., 116., 117., 118., 119., 120.,\n",
       "         121., 122., 123., 124., 125., 126., 127., 128., 129., 130., 131.,\n",
       "         132., 133., 134., 135., 136., 137., 138., 139., 140., 141., 142.,\n",
       "         143., 144., 145., 146., 147., 148., 149., 150., 151., 152., 153.,\n",
       "         154., 155., 156., 157., 158., 159., 160., 161., 162., 163., 164.,\n",
       "         165., 166., 167., 168., 169., 170., 171., 172., 173., 174., 175.,\n",
       "         176., 177., 178., 179., 180., 181., 182., 183., 184., 185., 186.,\n",
       "         187., 188., 189., 190., 191., 192., 193., 194., 195., 196., 197.,\n",
       "         198., 199., 200., 201., 202., 203., 204., 205., 206., 207., 208.,\n",
       "         209., 210., 211., 212., 213., 214., 215., 216., 217., 218., 219.,\n",
       "         220., 221., 222., 223., 224., 225., 226., 227., 228., 229., 230.,\n",
       "         231., 232., 233., 234., 235., 236., 237., 238., 239., 240., 241.,\n",
       "         242., 243., 244., 245., 246., 247., 248., 249., 250., 251., 252.,\n",
       "         253., 254., 255., 256., 257., 258., 259., 260., 261., 262., 263.,\n",
       "         264., 265., 266., 267., 268., 269., 270., 271., 272., 273., 274.,\n",
       "         275., 276., 277., 278., 279., 280., 281., 282., 283., 284., 285.,\n",
       "         286., 287., 288., 289., 290., 291., 292., 293., 294., 295., 296.,\n",
       "         297., 298., 299., 300., 301., 302., 303., 304., 305., 306., 307.,\n",
       "         308., 309., 310., 311., 312., 313., 314., 315., 316., 317., 318.,\n",
       "         319., 320., 321., 322., 323., 324., 325., 326., 327., 328., 329.,\n",
       "         330., 331., 332., 333., 334., 335., 336., 337., 338., 339., 340.,\n",
       "         341., 342., 343., 344., 345., 346., 347., 348., 349., 350., 351.,\n",
       "         352., 353., 354., 355., 356., 357., 358., 359., 360., 361., 362.,\n",
       "         363., 364., 365., 366., 367., 368., 369., 370., 371., 372., 373.,\n",
       "         374., 375., 376., 377., 378., 379., 380., 381., 382., 383., 384.,\n",
       "         385., 386., 387., 388., 389., 390., 391., 392., 393., 394., 395.,\n",
       "         396., 397., 398., 399., 400., 401., 402., 403., 404., 405., 406.,\n",
       "         407., 408., 409., 410., 411., 412., 413., 414., 415., 416., 417.,\n",
       "         418., 419., 420., 421., 422., 423., 424., 425., 426., 427., 428.,\n",
       "         429., 430., 431., 432., 433., 434., 435., 436., 437., 438., 439.,\n",
       "         440., 441., 442., 443., 444., 445., 446., 447., 448., 449., 450.,\n",
       "         451., 452., 453., 454., 455., 456., 457., 458., 459., 460., 461.,\n",
       "         462., 463., 464., 465., 466., 467., 468., 469., 470., 471., 472.,\n",
       "         473., 474., 475., 476., 477., 478., 479., 480., 481., 482., 483.,\n",
       "         484., 485., 486., 487., 488., 489., 490., 491., 492., 493., 494.,\n",
       "         495., 496., 497., 498., 499., 500.])),\n",
       " (<__main__.DummyArray: spectrum at 140155996651856>,\n",
       "  array([9.44170945e-02, 3.82785498e-01, 1.80060836e-01, 1.58685801e-01,\n",
       "         2.91503709e-01, 9.12322983e-02, 7.29577626e-01, 7.24165627e-01,\n",
       "         9.15496461e-01, 3.21636687e-01, 8.17621906e-01, 4.59730275e-01,\n",
       "         2.63697325e-01, 4.30304567e-01, 1.92091822e-01, 2.70814463e-01,\n",
       "         3.89987808e-03, 7.40617317e-01, 8.52844609e-01, 6.41688481e-01,\n",
       "         2.48474928e-01, 8.11019525e-02, 6.49890024e-02, 3.14811208e-01,\n",
       "         7.70548945e-01, 6.42881560e-01, 8.43732351e-01, 4.67072900e-02,\n",
       "         6.89382054e-01, 2.15167824e-01, 8.19184400e-01, 4.28083670e-02,\n",
       "         7.72066605e-01, 2.04333758e-01, 3.50086387e-01, 8.96690033e-04,\n",
       "         8.66000616e-01, 8.14820082e-01, 5.25011589e-01, 3.78865267e-02,\n",
       "         4.66033952e-01, 8.79609755e-01, 5.80468744e-01, 1.62399846e-01,\n",
       "         3.94880591e-01, 6.66491327e-01, 9.85712783e-01, 6.50375732e-01,\n",
       "         3.74810000e-01, 8.46700531e-01, 7.19818493e-01, 3.21365952e-01,\n",
       "         4.54971058e-01, 9.39447487e-01, 1.59965919e-01, 9.58628304e-01,\n",
       "         6.17850551e-01, 8.73147721e-01, 7.88302463e-01, 1.00751145e-01,\n",
       "         8.64101611e-01, 6.51088395e-01, 3.05161894e-01, 3.97650686e-01,\n",
       "         5.92894069e-01, 9.73918738e-01, 6.90206930e-01, 2.40189232e-01,\n",
       "         8.03467967e-01, 9.29595685e-01, 3.54484411e-01, 6.98135557e-01,\n",
       "         7.84851858e-02, 8.12291162e-01, 9.01777423e-01, 1.48675342e-01,\n",
       "         4.37504856e-01, 8.24441073e-02, 9.75659928e-01, 1.41119268e-01,\n",
       "         9.23690675e-01, 5.27149238e-01, 7.42649842e-01, 4.10444615e-01,\n",
       "         3.90239695e-01, 1.85903774e-01, 4.02803597e-01, 1.64336810e-01,\n",
       "         2.36023314e-01, 3.23824643e-01, 4.22882218e-01, 6.26970380e-01,\n",
       "         6.53314237e-01, 1.03049922e-01, 9.74583611e-01, 4.89460192e-01,\n",
       "         8.02482821e-01, 2.16729804e-01, 5.81953007e-01, 6.08839742e-01,\n",
       "         8.34453595e-01, 7.45636588e-02, 7.44456051e-01, 5.20042754e-01,\n",
       "         3.79956589e-01, 7.80341121e-01, 6.05539932e-02, 9.67261844e-01,\n",
       "         1.39358564e-01, 1.07072698e-01, 3.21475414e-01, 3.30591636e-01,\n",
       "         8.65573257e-02, 6.93042456e-01, 9.68920662e-01, 4.71734658e-01,\n",
       "         8.40018022e-01, 1.99008562e-01, 9.32439221e-01, 3.57411605e-01,\n",
       "         4.00885707e-02, 7.94223643e-01, 9.04592094e-01, 1.69720517e-01,\n",
       "         9.90087626e-01, 4.08555192e-01, 1.36203538e-01, 1.60303096e-01,\n",
       "         5.57635035e-01, 9.07116045e-01, 2.20798844e-01, 3.00205242e-02,\n",
       "         4.35414614e-01, 4.75545205e-01, 4.56656963e-01, 3.04386903e-01,\n",
       "         5.83164313e-01, 6.15491365e-01, 8.59196477e-01, 7.16996900e-01,\n",
       "         8.61488476e-01, 2.14587894e-01, 4.27296460e-01, 8.64382987e-01,\n",
       "         9.05971040e-01, 8.94273623e-01, 7.91257222e-01, 1.95170787e-01,\n",
       "         9.54725348e-01, 4.37568520e-01, 8.13190176e-01, 1.34074425e-01,\n",
       "         7.35122148e-02, 2.16078444e-01, 1.27665234e-01, 2.26537452e-01,\n",
       "         7.49796006e-01, 8.29712778e-01, 4.43359148e-01, 3.58631540e-01,\n",
       "         2.63695200e-01, 9.36449087e-01, 4.46667146e-02, 2.91751646e-02,\n",
       "         9.30566894e-01, 9.75075408e-01, 8.13768935e-01, 8.52697668e-01,\n",
       "         7.71969570e-01, 7.86021847e-01, 1.12000931e-01, 1.35761746e-01,\n",
       "         1.23087282e-01, 1.21534778e-01, 5.92569435e-02, 4.95618288e-01,\n",
       "         6.01994631e-01, 7.85980949e-01, 7.89030006e-01, 2.80129068e-01,\n",
       "         6.93619636e-01, 9.62204848e-01, 2.91128813e-03, 7.52254345e-01,\n",
       "         4.74234239e-01, 5.41598996e-01, 4.04726848e-01, 9.41366575e-01,\n",
       "         4.07060709e-01, 7.59548905e-01, 5.09472463e-01, 4.16687655e-01,\n",
       "         4.54608038e-01, 6.78554972e-01, 5.15095877e-01, 1.04854561e-01,\n",
       "         4.22577352e-01, 5.74141693e-01, 9.41944034e-01, 4.60270600e-01,\n",
       "         4.86389869e-01, 7.83487836e-01, 9.26938804e-01, 7.30250234e-01,\n",
       "         7.54406770e-01, 8.58064155e-02, 5.91503665e-01, 4.09003272e-01,\n",
       "         2.12679344e-01, 9.54070065e-01, 2.00203737e-01, 1.57386052e-01,\n",
       "         6.58544016e-01, 5.77167027e-01, 4.03002691e-01, 4.72326209e-01,\n",
       "         5.49620172e-03, 5.92111193e-01, 8.43225714e-01, 8.57070100e-01,\n",
       "         7.40417089e-01, 7.23445646e-01, 1.72732469e-01, 7.66528084e-01,\n",
       "         8.78538215e-01, 2.84187908e-01, 1.42886602e-01, 8.39358376e-01,\n",
       "         7.64360686e-01, 9.74255266e-01, 5.03617035e-01, 5.99481756e-01,\n",
       "         6.21288439e-02, 9.44494409e-01, 9.49416231e-01, 6.27375182e-01,\n",
       "         4.34578648e-01, 9.63644449e-01, 7.49621965e-01, 8.12935526e-01,\n",
       "         2.33086261e-01, 8.19134185e-01, 4.34698994e-01, 2.60030222e-01,\n",
       "         7.96526710e-01, 7.46811782e-01, 6.63582602e-01, 2.55912523e-01,\n",
       "         9.81947916e-02, 9.25004255e-01, 4.58711406e-01, 8.60210306e-01,\n",
       "         8.35130150e-01, 2.91543691e-01, 5.50908313e-01, 3.33365104e-01,\n",
       "         1.39122719e-01, 8.48552360e-01, 4.44050841e-01, 7.93733514e-01,\n",
       "         3.66434694e-01, 5.60895900e-01, 4.53332997e-02, 7.26776312e-01,\n",
       "         6.93523038e-01, 4.61743142e-01, 9.85281054e-02, 6.12573557e-01,\n",
       "         2.85706572e-01, 9.28705440e-01, 1.36654380e-01, 9.24296343e-01,\n",
       "         7.77611025e-01, 5.09733045e-02, 7.69063802e-01, 2.26525749e-01,\n",
       "         5.24147709e-01, 9.73713742e-01, 6.61021373e-01, 8.11474355e-01,\n",
       "         7.83941517e-01, 7.70526645e-02, 7.63925265e-01, 9.84601788e-01,\n",
       "         7.17481193e-02, 1.87231587e-01, 3.12830515e-01, 4.02919557e-01,\n",
       "         7.75462677e-01, 7.38580458e-01, 5.82211470e-01, 1.50872615e-01,\n",
       "         5.92811510e-01, 6.30137683e-01, 4.51801341e-01, 2.19110453e-01,\n",
       "         7.44055398e-01, 6.29646156e-01, 1.61287505e-01, 6.65053814e-01,\n",
       "         5.79601243e-02, 1.58368816e-01, 6.26878777e-01, 7.89045491e-01,\n",
       "         7.79566087e-01, 1.76498078e-01, 6.78742873e-01, 3.76296045e-01,\n",
       "         8.72460957e-02, 9.06789414e-01, 8.94308709e-01, 5.33510061e-01,\n",
       "         3.82886011e-01, 3.67344817e-01, 3.19237995e-01, 6.48993871e-01,\n",
       "         6.62130926e-01, 6.58860404e-01, 5.77618762e-01, 3.26405601e-01,\n",
       "         1.15930413e-02, 9.46826842e-01, 3.93425362e-01, 8.62840888e-01,\n",
       "         4.06450716e-01, 8.76368933e-01, 6.93247292e-02, 3.86549637e-01,\n",
       "         7.47692571e-01, 1.43051290e-01, 1.88684938e-01, 7.17613246e-01,\n",
       "         5.00448070e-01, 3.15116660e-01, 2.77114524e-01, 1.71328349e-01,\n",
       "         3.08888218e-01, 8.83655988e-01, 4.85648524e-01, 2.91932639e-01,\n",
       "         5.70249324e-02, 4.09923000e-01, 8.69891079e-01, 4.37460956e-01,\n",
       "         8.22039577e-01, 6.05197682e-01, 6.89500638e-01, 6.06846013e-01,\n",
       "         1.59889531e-01, 2.20227629e-01, 9.65087350e-01, 8.28753152e-01,\n",
       "         7.56253826e-01, 8.32085430e-01, 1.42022558e-01, 6.28859795e-01,\n",
       "         7.25703950e-01, 6.82450112e-01, 6.54757056e-01, 3.50379313e-01,\n",
       "         2.57324250e-01, 5.05744622e-01, 8.78011661e-01, 5.95816716e-01,\n",
       "         8.88154467e-01, 9.47954938e-01, 3.14581504e-01, 3.06360223e-01,\n",
       "         6.53911676e-01, 7.83397082e-01, 2.15473943e-01, 1.94771063e-01,\n",
       "         1.18366763e-01, 6.28691419e-01, 3.45975127e-01, 8.52466203e-01,\n",
       "         7.62229746e-01, 6.68933666e-01, 5.31565614e-01, 9.27503950e-01,\n",
       "         7.54953930e-01, 5.10885735e-01, 1.12125147e-01, 5.60612348e-01,\n",
       "         7.59872249e-02, 8.59358114e-01, 7.46743039e-01, 4.62080372e-01,\n",
       "         8.27089919e-01, 7.57150303e-01, 1.15925084e-01, 7.93422092e-01,\n",
       "         6.20219589e-01, 3.52747782e-01, 1.24975509e-01, 7.70527596e-01,\n",
       "         9.27683282e-01, 9.42644059e-01, 7.73011163e-01, 9.85755730e-01,\n",
       "         3.58432017e-01, 4.15390163e-01, 8.29417640e-01, 7.99913740e-01,\n",
       "         2.78263089e-01, 1.77166808e-01, 9.55593797e-01, 7.47104907e-02,\n",
       "         3.32455703e-01, 9.47145544e-01, 3.41571183e-01, 6.95462605e-01,\n",
       "         4.30001422e-01, 7.35257738e-01, 8.12396419e-01, 2.36945504e-01,\n",
       "         2.50370339e-01, 4.97677533e-01, 8.16041346e-01, 4.63304634e-01,\n",
       "         5.13162027e-02, 4.29760479e-01, 6.45078033e-01, 5.19664774e-01,\n",
       "         8.98034455e-01, 4.07244222e-01, 8.42030400e-01, 8.49974145e-01,\n",
       "         5.87601466e-01, 9.45654614e-01, 3.07252942e-01, 5.10348281e-01,\n",
       "         7.33251586e-02, 1.68146830e-01, 5.08287102e-01, 5.24743847e-02,\n",
       "         7.90697258e-01, 8.86144247e-01, 3.55434249e-01, 1.21359390e-01,\n",
       "         4.61807149e-01, 6.06465122e-01, 3.63517159e-01, 2.82707329e-01,\n",
       "         6.00062998e-01, 5.48700796e-01, 1.48069607e-01, 5.11359862e-01,\n",
       "         9.09665466e-01, 3.70629286e-01, 7.16187489e-01, 9.60092935e-02,\n",
       "         4.84629906e-01, 9.38769199e-01, 9.63149993e-01, 2.49683635e-01,\n",
       "         5.76906836e-01, 7.43121921e-01, 7.30621840e-01, 7.13955512e-01,\n",
       "         4.24172662e-01, 3.34028915e-01, 7.61075622e-01, 4.22427591e-01,\n",
       "         6.75370657e-01, 3.12614291e-02, 3.98311895e-01, 6.57949525e-01,\n",
       "         8.65429779e-01, 7.45600004e-01, 4.59439263e-01, 8.14056445e-01,\n",
       "         2.87391517e-01, 1.08394494e-02, 7.29152317e-01, 7.81881762e-01,\n",
       "         2.21272600e-01, 9.72382955e-01, 9.44315409e-01, 1.35097277e-01,\n",
       "         5.52042009e-01, 4.27151696e-01, 2.69877584e-01, 4.69577267e-01,\n",
       "         2.34897774e-01, 1.34836949e-01, 4.81705042e-01, 6.46225194e-01,\n",
       "         6.02044817e-02, 4.85408028e-02, 8.51862574e-01, 9.88995223e-01,\n",
       "         4.17275454e-01, 6.94639782e-01, 1.65278430e-01, 2.74603261e-01,\n",
       "         8.48226526e-01, 7.16238183e-01, 9.08477953e-01, 6.63552654e-01,\n",
       "         9.49038623e-01]))]"
      ]
     },
     "execution_count": 20,
     "metadata": {},
     "output_type": "execute_result"
    }
   ],
   "source": [
    "expand_setpoints_helper(a.spectrum)"
   ]
  },
  {
   "cell_type": "code",
   "execution_count": 21,
   "metadata": {},
   "outputs": [
    {
     "name": "stdout",
     "output_type": "stream",
     "text": [
      "Starting experimental run with id: 2. \n"
     ]
    }
   ],
   "source": [
    "meas = Measurement()\n",
    "meas.register_parameter(a.spectrum)\n",
    "\n",
    "with meas.run() as datasaver:\n",
    "    datasaver.add_result(*expand_setpoints_helper(a.spectrum))\n",
    "    \n",
    "    dataid = datasaver.run_id"
   ]
  },
  {
   "cell_type": "code",
   "execution_count": null,
   "metadata": {},
   "outputs": [],
   "source": []
  }
 ],
 "metadata": {
  "kernelspec": {
   "display_name": "Python 3",
   "language": "python",
   "name": "python3"
  },
  "language_info": {
   "codemirror_mode": {
    "name": "ipython",
    "version": 3
   },
   "file_extension": ".py",
   "mimetype": "text/x-python",
   "name": "python",
   "nbconvert_exporter": "python",
   "pygments_lexer": "ipython3",
   "version": "3.7.7"
  },
  "toc": {
   "base_numbering": 1,
   "nav_menu": {},
   "number_sections": true,
   "sideBar": true,
   "skip_h1_title": false,
   "title_cell": "Table of Contents",
   "title_sidebar": "Contents",
   "toc_cell": false,
   "toc_position": {},
   "toc_section_display": true,
   "toc_window_display": false
  },
  "varInspector": {
   "cols": {
    "lenName": 16,
    "lenType": 16,
    "lenVar": 40
   },
   "kernels_config": {
    "python": {
     "delete_cmd_postfix": "",
     "delete_cmd_prefix": "del ",
     "library": "var_list.py",
     "varRefreshCmd": "print(var_dic_list())"
    },
    "r": {
     "delete_cmd_postfix": ") ",
     "delete_cmd_prefix": "rm(",
     "library": "var_list.r",
     "varRefreshCmd": "cat(var_dic_list()) "
    }
   },
   "types_to_exclude": [
    "module",
    "function",
    "builtin_function_or_method",
    "instance",
    "_Feature"
   ],
   "window_display": false
  }
 },
 "nbformat": 4,
 "nbformat_minor": 2
}
