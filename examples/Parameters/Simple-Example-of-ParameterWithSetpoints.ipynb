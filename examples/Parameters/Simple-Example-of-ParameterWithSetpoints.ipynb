{
 "cells": [
  {
   "cell_type": "markdown",
   "metadata": {},
   "source": [
    "# Simple Example of ParameterWithSetpoints\n",
    "This notebook provides an example for writing a simple driver with a parameter that has setpoints. Let's name this parameter that has setpoints as \"y\". Then, the setpoints, say \"x1, x2, x3 ..\", are the parameters on which the parameter \n",
    "\"y\" depends upon. Meaning \"y\" is a function of \"x1, x2, x3 ...\" where \"x1, x2, x3 ...\" are known as the setpoints of parameter \"y\".\n",
    "\n",
    "This is most likely to be useful for instruments that return arrays of results. In this notebook, we will show an example of this."
   ]
  },
  {
   "cell_type": "code",
   "execution_count": 1,
   "metadata": {},
   "outputs": [],
   "source": [
    "import numpy as np\n",
    "import os"
   ]
  },
  {
   "cell_type": "code",
   "execution_count": 2,
   "metadata": {},
   "outputs": [
    {
     "name": "stdout",
     "output_type": "stream",
     "text": [
      "Logging hadn't been started.\n",
      "Activating auto-logging. Current session state plus future input saved.\n",
      "Filename       : /home/vsts/.qcodes/logs/command_history.log\n",
      "Mode           : append\n",
      "Output logging : True\n",
      "Raw input log  : False\n",
      "Timestamping   : True\n",
      "State          : active\n"
     ]
    },
    {
     "name": "stdout",
     "output_type": "stream",
     "text": [
      "Qcodes Logfile : /home/vsts/.qcodes/logs/200305-22923-qcodes.log\n"
     ]
    }
   ],
   "source": [
    "from qcodes.dataset.plotting import plot_dataset\n",
    "from qcodes.utils.validators import Numbers, Arrays\n",
    "from qcodes.instrument.base import Instrument\n",
    "from qcodes.dataset.measurements import Measurement"
   ]
  },
  {
   "cell_type": "code",
   "execution_count": 3,
   "metadata": {},
   "outputs": [],
   "source": [
    "from qcodes.dataset.sqlite.database import initialise_or_create_database_at\n",
    "from qcodes.dataset.experiment_container import load_or_create_experiment"
   ]
  },
  {
   "cell_type": "code",
   "execution_count": 4,
   "metadata": {},
   "outputs": [],
   "source": [
    "from qcodes.instrument.parameter import ParameterWithSetpoints, Parameter\n",
    "from qcodes.instrument.parameter import expand_setpoints_helper"
   ]
  },
  {
   "cell_type": "markdown",
   "metadata": {},
   "source": [
    "First, we define a dummy instrument that returns something like a frequency spectrum starting from a frequency given by `f_start` to a frequency given by `f_stop` in `n_points` steps. \n",
    "\n",
    "The extra functionality of the `ParameterWithSetpoints` is implemented by giving it a reference to one or more parameters that acts like its setpoints. \n",
    "\n",
    "To setup a `ParameterWithSetpoints` we have to do two things in addition to what we do for a normal parameter.\n",
    "\n",
    "* Define one or more parameter for the setpoints (one for each dimension of the array and let the `ParameterWithSetpoints` know that these are the setpoints.\n",
    "* Give both the setpoints parameter(s) and the `ParameterWithSetpoints` a `validator` of type `Arrays` with a shape. The shapes should be such that the combined shape of the setpoints matches the shape of the `ParameterWithSetpoints`. Note that if the shape changes with the setting of the instrument, it can be defined by another parameter as shown below. "
   ]
  },
  {
   "cell_type": "code",
   "execution_count": 5,
   "metadata": {},
   "outputs": [],
   "source": [
    "class GeneratedSetPoints(Parameter):\n",
    "    \"\"\"\n",
    "    A parameter that generates a setpoint array from start, stop and num points\n",
    "    parameters.\n",
    "    \"\"\"\n",
    "    def __init__(self, startparam, stopparam, numpointsparam, *args, **kwargs):\n",
    "        super().__init__(*args, **kwargs)\n",
    "        self._startparam = startparam\n",
    "        self._stopparam = stopparam\n",
    "        self._numpointsparam = numpointsparam\n",
    "\n",
    "    def get_raw(self):\n",
    "        return np.linspace(self._startparam(), self._stopparam(),\n",
    "                              self._numpointsparam())\n",
    "\n",
    "class DummyArray(ParameterWithSetpoints):\n",
    "    \n",
    "    def get_raw(self):\n",
    "        npoints = self.root_instrument.n_points.get_latest()\n",
    "        return np.random.rand(npoints)\n",
    "    \n",
    "\n",
    "class DummySpectrumAnalyzer(Instrument):\n",
    "    \n",
    "    def __init__(self, name, **kwargs):\n",
    "        \n",
    "        super().__init__(name, **kwargs)\n",
    "            \n",
    "\n",
    "        self.add_parameter('f_start',\n",
    "                           initial_value=0,\n",
    "                           unit='Hz',\n",
    "                           label='f start',\n",
    "                           vals=Numbers(0,1e3),\n",
    "                           get_cmd=None,\n",
    "                           set_cmd=None)\n",
    "\n",
    "        self.add_parameter('f_stop',\n",
    "                           unit='Hz',\n",
    "                           label='f stop',\n",
    "                           vals=Numbers(1,1e3),\n",
    "                           get_cmd=None,\n",
    "                           set_cmd=None)\n",
    "\n",
    "        self.add_parameter('n_points',\n",
    "                           unit='',\n",
    "                           initial_value=10,\n",
    "                           vals=Numbers(1,1e3),\n",
    "                           get_cmd=None,\n",
    "                           set_cmd=None)\n",
    "        \n",
    "        self.add_parameter('freq_axis',\n",
    "                           unit='Hz',\n",
    "                           label='Freq Axis',\n",
    "                           parameter_class=GeneratedSetPoints,\n",
    "                           startparam=self.f_start,\n",
    "                           stopparam=self.f_stop,\n",
    "                           numpointsparam=self.n_points,\n",
    "                           vals=Arrays(shape=(self.n_points.get_latest,)))\n",
    "                           \n",
    "        self.add_parameter('spectrum',\n",
    "                   unit='dBm',\n",
    "                   setpoints=(self.freq_axis,),\n",
    "                   label='Spectrum',\n",
    "                   parameter_class=DummyArray,\n",
    "                   vals=Arrays(shape=(self.n_points.get_latest,)))\n",
    "                "
   ]
  },
  {
   "cell_type": "markdown",
   "metadata": {},
   "source": [
    "In the above example, the shape is defined by the parameter `n_points` that defines how many samples our `DummySpectrumAnalyzer` returns.\n",
    "\n",
    "This means that the validation will call the function to get `n_points` twice for each `get` of the parameter. This may be too slow, however, if you (as the driver-writer) can guarantee that the cached value for `n_points` will never be out of sync with the value stored in the instrument, `n_points` may be replaced by it's latest known value such that the `validator` reads:\n",
    "```python\n",
    "vals=Arrays(shape=(self.n_points.get_latest))\n",
    "```\n",
    "\n",
    "This avoids any additional call to the instrument. In the same way, the arguments to the `freq_axis` parameter that defines the start, stop and number of points can be replaced by their latest value if the instrument allows it.\n",
    "\n"
   ]
  },
  {
   "cell_type": "code",
   "execution_count": 6,
   "metadata": {},
   "outputs": [
    {
     "name": "stdout",
     "output_type": "stream",
     "text": [
      "\r",
      "0it [00:00, ?it/s]"
     ]
    },
    {
     "name": "stdout",
     "output_type": "stream",
     "text": [
      "\r",
      "Upgrading database; v0 -> v1: : 0it [00:00, ?it/s]"
     ]
    },
    {
     "name": "stdout",
     "output_type": "stream",
     "text": [
      "\r",
      "Upgrading database; v0 -> v1: : 0it [00:00, ?it/s]"
     ]
    },
    {
     "name": "stdout",
     "output_type": "stream",
     "text": [
      "\n",
      "\r",
      "  0%|          | 0/1 [00:00<?, ?it/s]"
     ]
    },
    {
     "name": "stdout",
     "output_type": "stream",
     "text": [
      "\r",
      "Upgrading database; v1 -> v2:   0%|          | 0/1 [00:00<?, ?it/s]"
     ]
    },
    {
     "name": "stdout",
     "output_type": "stream",
     "text": [
      "\r",
      "Upgrading database; v1 -> v2: 100%|██████████| 1/1 [00:00<00:00, 891.08it/s]"
     ]
    },
    {
     "name": "stdout",
     "output_type": "stream",
     "text": [
      "\n",
      "\r",
      "0it [00:00, ?it/s]"
     ]
    },
    {
     "name": "stdout",
     "output_type": "stream",
     "text": [
      "\r",
      "Upgrading database; v2 -> v3: : 0it [00:00, ?it/s]"
     ]
    },
    {
     "name": "stdout",
     "output_type": "stream",
     "text": [
      "\r",
      "Upgrading database; v2 -> v3: : 0it [00:00, ?it/s]"
     ]
    },
    {
     "name": "stdout",
     "output_type": "stream",
     "text": [
      "\n",
      "\r",
      "0it [00:00, ?it/s]"
     ]
    },
    {
     "name": "stdout",
     "output_type": "stream",
     "text": [
      "\r",
      "Upgrading database; v3 -> v4: : 0it [00:00, ?it/s]"
     ]
    },
    {
     "name": "stdout",
     "output_type": "stream",
     "text": [
      "\r",
      "Upgrading database; v3 -> v4: : 0it [00:00, ?it/s]"
     ]
    },
    {
     "name": "stdout",
     "output_type": "stream",
     "text": [
      "\n",
      "\r",
      "  0%|          | 0/1 [00:00<?, ?it/s]"
     ]
    },
    {
     "name": "stdout",
     "output_type": "stream",
     "text": [
      "\r",
      "Upgrading database; v4 -> v5:   0%|          | 0/1 [00:00<?, ?it/s]"
     ]
    },
    {
     "name": "stdout",
     "output_type": "stream",
     "text": [
      "\r",
      "Upgrading database; v4 -> v5: 100%|██████████| 1/1 [00:00<00:00, 852.15it/s]"
     ]
    },
    {
     "name": "stdout",
     "output_type": "stream",
     "text": [
      "\n",
      "\r",
      "0it [00:00, ?it/s]"
     ]
    },
    {
     "name": "stdout",
     "output_type": "stream",
     "text": [
      "\r",
      "Upgrading database; v5 -> v6: : 0it [00:00, ?it/s]"
     ]
    },
    {
     "name": "stdout",
     "output_type": "stream",
     "text": [
      "\r",
      "Upgrading database; v5 -> v6: : 0it [00:00, ?it/s]"
     ]
    },
    {
     "name": "stdout",
     "output_type": "stream",
     "text": [
      "\n",
      "\r",
      "  0%|          | 0/1 [00:00<?, ?it/s]"
     ]
    },
    {
     "name": "stdout",
     "output_type": "stream",
     "text": [
      "\r",
      "Upgrading database; v6 -> v7:   0%|          | 0/1 [00:00<?, ?it/s]"
     ]
    },
    {
     "name": "stdout",
     "output_type": "stream",
     "text": [
      "\r",
      "Upgrading database; v6 -> v7: 100%|██████████| 1/1 [00:00<00:00, 415.11it/s]"
     ]
    },
    {
     "name": "stdout",
     "output_type": "stream",
     "text": [
      "\n",
      "\r",
      "  0%|          | 0/1 [00:00<?, ?it/s]"
     ]
    },
    {
     "name": "stdout",
     "output_type": "stream",
     "text": [
      "\r",
      "Upgrading database; v7 -> v8:   0%|          | 0/1 [00:00<?, ?it/s]"
     ]
    },
    {
     "name": "stdout",
     "output_type": "stream",
     "text": [
      "\r",
      "Upgrading database; v7 -> v8: 100%|██████████| 1/1 [00:00<00:00, 625.27it/s]"
     ]
    },
    {
     "name": "stdout",
     "output_type": "stream",
     "text": [
      "\n",
      "\r",
      "  0%|          | 0/1 [00:00<?, ?it/s]"
     ]
    },
    {
     "name": "stdout",
     "output_type": "stream",
     "text": [
      "\r",
      "Upgrading database; v8 -> v9:   0%|          | 0/1 [00:00<?, ?it/s]"
     ]
    },
    {
     "name": "stdout",
     "output_type": "stream",
     "text": [
      "\r",
      "Upgrading database; v8 -> v9: 100%|██████████| 1/1 [00:00<00:00, 1036.91it/s]"
     ]
    },
    {
     "name": "stdout",
     "output_type": "stream",
     "text": [
      "\n"
     ]
    },
    {
     "data": {
      "text/plain": [
       "tutorial_ParameterWithSetpoints#no sample#1@/home/vsts/work/1/s/docs/examples/Parameters/tutorial_paramter_with_setpoints.db\n",
       "----------------------------------------------------------------------------------------------------------------------------"
      ]
     },
     "execution_count": 6,
     "metadata": {},
     "output_type": "execute_result"
    }
   ],
   "source": [
    "tutorial_db_path = os.path.join(os.getcwd(), 'tutorial_paramter_with_setpoints.db')\n",
    "initialise_or_create_database_at(tutorial_db_path)\n",
    "load_or_create_experiment(experiment_name='tutorial_ParameterWithSetpoints', sample_name=\"no sample\")"
   ]
  },
  {
   "cell_type": "code",
   "execution_count": 7,
   "metadata": {},
   "outputs": [],
   "source": [
    "a = DummySpectrumAnalyzer('foobar')"
   ]
  },
  {
   "cell_type": "markdown",
   "metadata": {},
   "source": [
    "First we setup the limits of the spectrum"
   ]
  },
  {
   "cell_type": "code",
   "execution_count": 8,
   "metadata": {},
   "outputs": [],
   "source": [
    "a.f_start(0)\n",
    "a.f_stop(500)\n",
    "a.n_points(501)"
   ]
  },
  {
   "cell_type": "markdown",
   "metadata": {},
   "source": [
    "And we can grab the frequency axis"
   ]
  },
  {
   "cell_type": "code",
   "execution_count": 9,
   "metadata": {},
   "outputs": [
    {
     "data": {
      "text/plain": [
       "501"
      ]
     },
     "execution_count": 9,
     "metadata": {},
     "output_type": "execute_result"
    }
   ],
   "source": [
    "a.n_points()"
   ]
  },
  {
   "cell_type": "code",
   "execution_count": 10,
   "metadata": {
    "scrolled": false
   },
   "outputs": [
    {
     "data": {
      "text/plain": [
       "501"
      ]
     },
     "execution_count": 10,
     "metadata": {},
     "output_type": "execute_result"
    }
   ],
   "source": [
    "freq_axis = a.freq_axis()\n",
    "len(freq_axis)"
   ]
  },
  {
   "cell_type": "code",
   "execution_count": 11,
   "metadata": {},
   "outputs": [
    {
     "data": {
      "text/plain": [
       "array([0., 1., 2., 3., 4., 5., 6., 7., 8., 9.])"
      ]
     },
     "execution_count": 11,
     "metadata": {},
     "output_type": "execute_result"
    }
   ],
   "source": [
    "freq_axis[:10]"
   ]
  },
  {
   "cell_type": "markdown",
   "metadata": {},
   "source": [
    "As expected we get a result wit 501 points as we asked for an axis with 501 points. "
   ]
  },
  {
   "cell_type": "markdown",
   "metadata": {},
   "source": [
    "Above we have added a validator to the `freq_axis` parameter encoding the fact that this is an Array with `n_points`. Note that we do not have to supply the number of points as an integer but can supply a function that returns the valid number of points. This would normally be a QCoDeS parameter.\n",
    "\n",
    "This will be checked if we validate the output."
   ]
  },
  {
   "cell_type": "code",
   "execution_count": 12,
   "metadata": {},
   "outputs": [],
   "source": [
    "a.freq_axis.validate(a.freq_axis.get())"
   ]
  },
  {
   "cell_type": "markdown",
   "metadata": {},
   "source": [
    "Naturally, we can also get the spectrum. Getting the spectrum will automatically perform validation both for the shape of the parameter itself and the relation to the setpoint parameter(s)"
   ]
  },
  {
   "cell_type": "code",
   "execution_count": 13,
   "metadata": {
    "scrolled": true
   },
   "outputs": [
    {
     "data": {
      "text/plain": [
       "501"
      ]
     },
     "execution_count": 13,
     "metadata": {},
     "output_type": "execute_result"
    }
   ],
   "source": [
    "spectrum = a.spectrum.get()\n",
    "len(spectrum)"
   ]
  },
  {
   "cell_type": "markdown",
   "metadata": {},
   "source": [
    "When we validate a `ParameterWithSetpoints`, we automatically validate that the shape is consistent between the parameters and its setpoints. As well as validating the shape as above."
   ]
  },
  {
   "cell_type": "code",
   "execution_count": 14,
   "metadata": {},
   "outputs": [],
   "source": [
    "a.spectrum.validate(a.spectrum.get())"
   ]
  },
  {
   "cell_type": "markdown",
   "metadata": {},
   "source": [
    "The consistent shapes can be validated explicitly."
   ]
  },
  {
   "cell_type": "code",
   "execution_count": 15,
   "metadata": {},
   "outputs": [],
   "source": [
    "a.spectrum.validate_consistent_shape()"
   ]
  },
  {
   "cell_type": "markdown",
   "metadata": {},
   "source": [
    "We can inspect the setpoints of the spectrum."
   ]
  },
  {
   "cell_type": "code",
   "execution_count": 16,
   "metadata": {},
   "outputs": [
    {
     "data": {
      "text/plain": [
       "(<__main__.GeneratedSetPoints: freq_axis at 139665069405136>,)"
      ]
     },
     "execution_count": 16,
     "metadata": {},
     "output_type": "execute_result"
    }
   ],
   "source": [
    "a.spectrum.setpoints"
   ]
  },
  {
   "cell_type": "markdown",
   "metadata": {},
   "source": [
    "Or even change them."
   ]
  },
  {
   "cell_type": "code",
   "execution_count": 17,
   "metadata": {},
   "outputs": [],
   "source": [
    "a.spectrum.setpoints = (a.freq_axis,)"
   ]
  },
  {
   "cell_type": "markdown",
   "metadata": {},
   "source": [
    "## Measurement"
   ]
  },
  {
   "cell_type": "markdown",
   "metadata": {},
   "source": [
    "We can also directly consume the parameter in a measurement without defining the setpoints of the parameter again. The setpoints are automatically obtained from the definition of the `ParameterWithSetpoint` instance. "
   ]
  },
  {
   "cell_type": "code",
   "execution_count": 18,
   "metadata": {},
   "outputs": [
    {
     "name": "stdout",
     "output_type": "stream",
     "text": [
      "Starting experimental run with id: 1. \n"
     ]
    }
   ],
   "source": [
    "meas = Measurement()\n",
    "meas.register_parameter(a.spectrum)\n",
    "\n",
    "with meas.run() as datasaver:\n",
    "    datasaver.add_result((a.freq_axis, a.freq_axis()),\n",
    "                         (a.spectrum, a.spectrum()))\n",
    "    dataset = datasaver.dataset"
   ]
  },
  {
   "cell_type": "markdown",
   "metadata": {},
   "source": [
    "And plot it"
   ]
  },
  {
   "cell_type": "code",
   "execution_count": 19,
   "metadata": {},
   "outputs": [
    {
     "data": {
      "text/plain": [
       "([<matplotlib.axes._subplots.AxesSubplot at 0x7f064ed99910>], [None])"
      ]
     },
     "execution_count": 19,
     "metadata": {},
     "output_type": "execute_result"
    },
    {
     "data": {
      "image/png": "[encoded data removed]",
      "text/plain": [
       "<Figure size 432x288 with 1 Axes>"
      ]
     },
     "metadata": {
      "needs_background": "light"
     },
     "output_type": "display_data"
    }
   ],
   "source": [
    "plot_dataset(dataset)"
   ]
  },
  {
   "cell_type": "markdown",
   "metadata": {},
   "source": [
    "To reduce the amount of typing a simple convenience function is provided that will take a `ParameterWithSetpoints` and get both its values and the setpoints values and return them as tuples for direct insertion into the Dataset."
   ]
  },
  {
   "cell_type": "code",
   "execution_count": 20,
   "metadata": {
    "scrolled": true
   },
   "outputs": [
    {
     "data": {
      "text/plain": [
       "[(<__main__.GeneratedSetPoints: freq_axis at 139665069405136>,\n",
       "  array([  0.,   1.,   2.,   3.,   4.,   5.,   6.,   7.,   8.,   9.,  10.,\n",
       "          11.,  12.,  13.,  14.,  15.,  16.,  17.,  18.,  19.,  20.,  21.,\n",
       "          22.,  23.,  24.,  25.,  26.,  27.,  28.,  29.,  30.,  31.,  32.,\n",
       "          33.,  34.,  35.,  36.,  37.,  38.,  39.,  40.,  41.,  42.,  43.,\n",
       "          44.,  45.,  46.,  47.,  48.,  49.,  50.,  51.,  52.,  53.,  54.,\n",
       "          55.,  56.,  57.,  58.,  59.,  60.,  61.,  62.,  63.,  64.,  65.,\n",
       "          66.,  67.,  68.,  69.,  70.,  71.,  72.,  73.,  74.,  75.,  76.,\n",
       "          77.,  78.,  79.,  80.,  81.,  82.,  83.,  84.,  85.,  86.,  87.,\n",
       "          88.,  89.,  90.,  91.,  92.,  93.,  94.,  95.,  96.,  97.,  98.,\n",
       "          99., 100., 101., 102., 103., 104., 105., 106., 107., 108., 109.,\n",
       "         110., 111., 112., 113., 114., 115., 116., 117., 118., 119., 120.,\n",
       "         121., 122., 123., 124., 125., 126., 127., 128., 129., 130., 131.,\n",
       "         132., 133., 134., 135., 136., 137., 138., 139., 140., 141., 142.,\n",
       "         143., 144., 145., 146., 147., 148., 149., 150., 151., 152., 153.,\n",
       "         154., 155., 156., 157., 158., 159., 160., 161., 162., 163., 164.,\n",
       "         165., 166., 167., 168., 169., 170., 171., 172., 173., 174., 175.,\n",
       "         176., 177., 178., 179., 180., 181., 182., 183., 184., 185., 186.,\n",
       "         187., 188., 189., 190., 191., 192., 193., 194., 195., 196., 197.,\n",
       "         198., 199., 200., 201., 202., 203., 204., 205., 206., 207., 208.,\n",
       "         209., 210., 211., 212., 213., 214., 215., 216., 217., 218., 219.,\n",
       "         220., 221., 222., 223., 224., 225., 226., 227., 228., 229., 230.,\n",
       "         231., 232., 233., 234., 235., 236., 237., 238., 239., 240., 241.,\n",
       "         242., 243., 244., 245., 246., 247., 248., 249., 250., 251., 252.,\n",
       "         253., 254., 255., 256., 257., 258., 259., 260., 261., 262., 263.,\n",
       "         264., 265., 266., 267., 268., 269., 270., 271., 272., 273., 274.,\n",
       "         275., 276., 277., 278., 279., 280., 281., 282., 283., 284., 285.,\n",
       "         286., 287., 288., 289., 290., 291., 292., 293., 294., 295., 296.,\n",
       "         297., 298., 299., 300., 301., 302., 303., 304., 305., 306., 307.,\n",
       "         308., 309., 310., 311., 312., 313., 314., 315., 316., 317., 318.,\n",
       "         319., 320., 321., 322., 323., 324., 325., 326., 327., 328., 329.,\n",
       "         330., 331., 332., 333., 334., 335., 336., 337., 338., 339., 340.,\n",
       "         341., 342., 343., 344., 345., 346., 347., 348., 349., 350., 351.,\n",
       "         352., 353., 354., 355., 356., 357., 358., 359., 360., 361., 362.,\n",
       "         363., 364., 365., 366., 367., 368., 369., 370., 371., 372., 373.,\n",
       "         374., 375., 376., 377., 378., 379., 380., 381., 382., 383., 384.,\n",
       "         385., 386., 387., 388., 389., 390., 391., 392., 393., 394., 395.,\n",
       "         396., 397., 398., 399., 400., 401., 402., 403., 404., 405., 406.,\n",
       "         407., 408., 409., 410., 411., 412., 413., 414., 415., 416., 417.,\n",
       "         418., 419., 420., 421., 422., 423., 424., 425., 426., 427., 428.,\n",
       "         429., 430., 431., 432., 433., 434., 435., 436., 437., 438., 439.,\n",
       "         440., 441., 442., 443., 444., 445., 446., 447., 448., 449., 450.,\n",
       "         451., 452., 453., 454., 455., 456., 457., 458., 459., 460., 461.,\n",
       "         462., 463., 464., 465., 466., 467., 468., 469., 470., 471., 472.,\n",
       "         473., 474., 475., 476., 477., 478., 479., 480., 481., 482., 483.,\n",
       "         484., 485., 486., 487., 488., 489., 490., 491., 492., 493., 494.,\n",
       "         495., 496., 497., 498., 499., 500.])),\n",
       " (<__main__.DummyArray: spectrum at 139665069405456>,\n",
       "  array([3.22750546e-01, 9.64841503e-01, 1.61607792e-01, 8.88334651e-02,\n",
       "         7.25233919e-01, 7.73869843e-01, 1.56066261e-01, 1.44737046e-01,\n",
       "         4.83656993e-01, 2.15536126e-01, 6.79128422e-02, 5.29977150e-01,\n",
       "         6.96898213e-02, 7.22320681e-01, 8.64835156e-01, 4.42628578e-01,\n",
       "         5.75665895e-01, 9.57877391e-01, 9.83148465e-01, 8.99356994e-01,\n",
       "         2.87954067e-01, 7.08937914e-01, 3.09587787e-01, 2.36723447e-01,\n",
       "         3.45556662e-01, 4.57400710e-01, 5.94162186e-01, 6.58458329e-01,\n",
       "         6.08022717e-01, 2.54801764e-01, 4.37860835e-01, 9.77707636e-01,\n",
       "         7.58581414e-01, 7.49957529e-01, 3.43132059e-01, 5.86966918e-01,\n",
       "         7.11112986e-01, 2.97857977e-01, 1.51447864e-01, 2.66094334e-01,\n",
       "         3.39806449e-01, 4.07425520e-01, 8.34788822e-01, 8.82125154e-01,\n",
       "         2.68622981e-01, 5.96862707e-02, 9.01528827e-01, 9.01513827e-01,\n",
       "         1.72351794e-01, 3.31957994e-01, 6.68758188e-01, 9.23428793e-01,\n",
       "         6.87930556e-01, 4.75484484e-01, 7.00929563e-01, 4.78595472e-01,\n",
       "         1.91004702e-01, 2.89113399e-01, 7.31683754e-01, 3.91865486e-02,\n",
       "         3.70225297e-01, 3.64132331e-01, 9.47539101e-01, 3.12598378e-02,\n",
       "         9.86644825e-01, 3.86279222e-01, 9.47654885e-01, 2.27400412e-01,\n",
       "         1.27278750e-01, 4.73476384e-01, 3.87753470e-02, 1.84806050e-01,\n",
       "         2.39721591e-01, 6.14990315e-01, 9.54341648e-01, 4.02857604e-02,\n",
       "         5.85170845e-02, 7.13826387e-01, 2.02605725e-01, 2.46134117e-01,\n",
       "         1.27084596e-01, 8.87937578e-02, 5.39641941e-01, 2.36041476e-02,\n",
       "         1.15927635e-02, 5.51599773e-01, 8.21594333e-01, 8.48370068e-01,\n",
       "         8.55175234e-01, 1.61538915e-01, 5.14173690e-01, 3.47623430e-01,\n",
       "         3.86900462e-01, 7.63296365e-01, 7.83642183e-01, 9.27337211e-01,\n",
       "         4.09159417e-01, 8.18148115e-01, 4.16479236e-01, 6.32853579e-01,\n",
       "         4.48286954e-01, 3.66299530e-01, 6.61365410e-01, 8.41566650e-01,\n",
       "         2.10980348e-01, 2.54767186e-01, 5.45689596e-01, 7.68524208e-01,\n",
       "         7.87849087e-02, 4.81265531e-01, 7.12287978e-01, 5.40049727e-02,\n",
       "         6.20542558e-02, 8.14747272e-01, 3.35282700e-01, 1.37070901e-02,\n",
       "         7.23865074e-01, 3.26278066e-01, 2.66916526e-01, 8.30296645e-01,\n",
       "         5.08789740e-01, 1.43359593e-01, 3.81111554e-02, 8.37203468e-01,\n",
       "         2.53378148e-01, 6.69928183e-01, 9.28513953e-01, 3.40606578e-01,\n",
       "         2.00134845e-01, 4.25459284e-02, 9.39565939e-01, 6.53920245e-01,\n",
       "         4.79369517e-01, 9.49000671e-01, 5.07291744e-02, 6.29189337e-01,\n",
       "         8.01772135e-01, 1.85229251e-03, 5.38533786e-01, 6.82218869e-01,\n",
       "         7.45733579e-01, 8.26059813e-01, 2.05660408e-01, 5.47357139e-01,\n",
       "         3.45902436e-03, 3.40905334e-02, 3.95322617e-01, 1.76693010e-01,\n",
       "         4.96478920e-02, 4.86336770e-03, 2.36753060e-01, 7.50799164e-02,\n",
       "         6.57491987e-01, 8.82507411e-01, 4.57880541e-01, 5.71413964e-01,\n",
       "         2.58632674e-01, 9.93605911e-01, 4.01039983e-03, 6.10351470e-01,\n",
       "         5.55487652e-01, 5.74026412e-01, 5.91041381e-01, 4.35834097e-04,\n",
       "         7.24875270e-01, 9.92947720e-01, 9.25406973e-02, 8.16611130e-01,\n",
       "         4.00989381e-01, 8.11219656e-01, 3.27625763e-01, 9.67115018e-01,\n",
       "         8.88745172e-01, 5.85798619e-01, 6.42294428e-01, 9.19721648e-01,\n",
       "         9.89871208e-01, 4.65049600e-01, 5.17104235e-01, 4.72659347e-01,\n",
       "         5.01569052e-01, 2.41278989e-01, 1.92993572e-01, 2.26322456e-01,\n",
       "         5.87347463e-01, 7.16257979e-01, 3.67940390e-01, 3.32803131e-01,\n",
       "         3.55780242e-01, 2.54101484e-01, 7.43206083e-01, 6.76880191e-01,\n",
       "         4.21128252e-01, 8.94756499e-01, 4.37285728e-01, 5.59659698e-01,\n",
       "         7.06243455e-01, 5.10918977e-01, 9.72013595e-01, 1.50696090e-01,\n",
       "         5.88255567e-01, 2.38195981e-01, 2.29966269e-01, 3.85479215e-01,\n",
       "         1.24421488e-01, 1.76147687e-02, 4.52967557e-02, 5.40213567e-01,\n",
       "         5.50848038e-02, 1.25937431e-01, 4.07368070e-01, 9.14464885e-01,\n",
       "         8.36406462e-01, 2.29514966e-01, 2.22026014e-03, 8.95070610e-01,\n",
       "         8.84201567e-01, 8.56646451e-01, 6.11050107e-01, 8.34218445e-01,\n",
       "         2.23457773e-01, 2.27101162e-01, 4.52549024e-02, 5.90793969e-01,\n",
       "         2.14850513e-01, 3.86405500e-01, 5.23748695e-01, 1.61919166e-01,\n",
       "         4.15596177e-01, 8.49672281e-01, 5.44043378e-01, 1.18403042e-01,\n",
       "         8.79086771e-01, 2.66401116e-02, 3.75950032e-01, 8.38326558e-01,\n",
       "         2.64870618e-01, 9.64140227e-01, 4.01338751e-01, 3.89739659e-01,\n",
       "         9.85863067e-01, 2.83217362e-01, 9.89519401e-01, 3.51909426e-01,\n",
       "         9.84199479e-01, 1.10426893e-01, 8.14906838e-02, 4.10035644e-01,\n",
       "         3.06268652e-01, 9.03483676e-01, 5.18700226e-01, 3.74477669e-01,\n",
       "         6.84895212e-01, 9.99001943e-01, 7.61202557e-01, 7.42381428e-01,\n",
       "         7.88226322e-01, 6.48632760e-01, 4.06676014e-01, 5.49809969e-01,\n",
       "         2.68938455e-01, 1.07739465e-01, 4.80261934e-01, 9.72109641e-01,\n",
       "         4.74647591e-01, 2.13767628e-01, 4.88896343e-01, 9.66531356e-01,\n",
       "         8.19639644e-01, 1.14123412e-01, 8.44192228e-01, 5.79577181e-01,\n",
       "         6.48880837e-01, 6.11961621e-01, 5.53634821e-01, 1.95665032e-01,\n",
       "         1.96359788e-01, 1.48426550e-01, 8.37758435e-01, 9.27575755e-02,\n",
       "         7.79573857e-01, 2.73906662e-01, 2.01960643e-02, 9.20544033e-01,\n",
       "         1.35345212e-02, 3.85170908e-02, 3.40777904e-01, 6.83386353e-01,\n",
       "         2.72525918e-01, 5.76134518e-01, 3.31128825e-01, 7.80524361e-01,\n",
       "         6.23465078e-01, 3.27190605e-01, 5.73505213e-02, 7.79606374e-02,\n",
       "         8.29617093e-01, 1.24900992e-01, 3.99785371e-01, 4.10873706e-01,\n",
       "         3.29353916e-01, 8.96750823e-01, 8.40253606e-01, 2.99847803e-02,\n",
       "         5.99709231e-01, 1.40140445e-01, 4.67407073e-01, 9.19974810e-01,\n",
       "         7.21251323e-01, 2.76241482e-01, 6.75814593e-01, 8.10525109e-01,\n",
       "         8.77435792e-01, 8.47593669e-01, 7.42454210e-01, 5.85549919e-02,\n",
       "         3.37660016e-01, 3.74579155e-01, 4.88764486e-01, 9.80239739e-01,\n",
       "         5.03449902e-01, 5.52656206e-01, 1.05197905e-01, 1.54570452e-01,\n",
       "         7.46151880e-01, 7.80430147e-02, 2.90804013e-01, 3.01043467e-01,\n",
       "         3.82291901e-01, 5.11104410e-01, 7.94365480e-01, 6.04361237e-01,\n",
       "         4.21265178e-01, 7.08664251e-01, 4.27625683e-01, 9.32025352e-01,\n",
       "         2.66311570e-02, 3.80817073e-01, 3.95718657e-01, 4.74271164e-01,\n",
       "         2.14292599e-01, 8.02274120e-03, 7.17825675e-01, 1.65031801e-01,\n",
       "         7.05573458e-01, 2.50900944e-01, 2.10481529e-01, 5.03236543e-01,\n",
       "         6.13595226e-01, 4.59326822e-01, 4.34595176e-01, 1.91946724e-01,\n",
       "         4.34578711e-01, 2.24684585e-01, 4.75353567e-01, 6.07703666e-01,\n",
       "         1.60719053e-01, 3.87751788e-02, 1.28737891e-01, 2.08304120e-01,\n",
       "         2.09935160e-01, 5.15195551e-01, 2.66045093e-01, 3.75063243e-01,\n",
       "         9.05458922e-01, 7.54437595e-01, 2.15936032e-01, 7.39539745e-01,\n",
       "         4.54209541e-01, 3.50468787e-02, 7.90963470e-01, 4.50759729e-01,\n",
       "         5.59240613e-01, 1.95226837e-01, 1.71183515e-01, 1.00459561e-01,\n",
       "         8.99818661e-01, 5.66993337e-01, 3.26553910e-01, 9.01631988e-01,\n",
       "         4.81166765e-01, 7.76505930e-01, 7.49637266e-01, 9.26675929e-01,\n",
       "         8.57263690e-01, 3.49683514e-01, 1.94268360e-01, 5.84462007e-01,\n",
       "         6.65015064e-02, 6.21381475e-01, 4.69115313e-02, 8.89177881e-01,\n",
       "         9.32312065e-01, 7.44716652e-01, 6.04292302e-01, 1.66003685e-01,\n",
       "         4.53509669e-01, 4.10170399e-02, 8.69607884e-01, 6.50360251e-01,\n",
       "         4.64673651e-01, 3.74409006e-01, 4.03760149e-01, 1.51980942e-01,\n",
       "         2.29201661e-01, 3.33767704e-01, 3.97503051e-01, 3.96991019e-01,\n",
       "         9.95937868e-01, 5.72014146e-01, 9.87272524e-02, 3.19584151e-01,\n",
       "         3.11578401e-01, 9.49492146e-01, 7.93147704e-01, 5.89880209e-01,\n",
       "         7.70197733e-01, 2.12109444e-01, 1.47889931e-01, 3.52532500e-01,\n",
       "         8.16258594e-01, 9.68839851e-01, 2.25028326e-01, 6.77750488e-01,\n",
       "         1.63458730e-01, 9.92136564e-01, 9.53822591e-01, 6.96166574e-01,\n",
       "         3.33360895e-03, 3.77284073e-01, 7.02895682e-01, 2.22174362e-01,\n",
       "         6.65434347e-01, 2.02945013e-01, 6.37881244e-01, 3.40460152e-02,\n",
       "         6.79025389e-01, 3.49320691e-01, 4.15456721e-01, 2.03603981e-01,\n",
       "         2.15190192e-01, 5.83561473e-01, 9.35988525e-01, 3.76052339e-01,\n",
       "         8.13388657e-01, 7.68620458e-01, 7.63782962e-01, 2.89824517e-01,\n",
       "         8.09136794e-01, 5.50286492e-01, 2.17021001e-01, 4.13501738e-01,\n",
       "         7.24037285e-01, 6.48380767e-01, 2.50217674e-01, 4.52702945e-01,\n",
       "         7.40508656e-01, 6.33093997e-01, 8.08813163e-01, 3.64085028e-01,\n",
       "         6.72207324e-01, 7.11600070e-01, 3.86800047e-01, 9.62623797e-01,\n",
       "         9.54351351e-01, 5.57622529e-02, 1.38266920e-01, 8.14376156e-01,\n",
       "         2.14902805e-01, 8.37355035e-01, 3.44003942e-03, 7.07927754e-01,\n",
       "         6.93551940e-01, 3.60270466e-01, 8.75747762e-02, 3.83702095e-01,\n",
       "         8.65558121e-01, 1.60288150e-01, 2.34026364e-01, 5.69840825e-01,\n",
       "         9.76543873e-01, 5.27814044e-01, 7.13866140e-01, 6.37796667e-01,\n",
       "         6.62276479e-01, 3.12141454e-01, 8.35810479e-01, 6.07679307e-01,\n",
       "         3.72277538e-02, 2.47355203e-01, 4.07709319e-01, 6.54224327e-01,\n",
       "         2.39333361e-01, 1.59428471e-01, 8.10314290e-01, 7.70150431e-01,\n",
       "         5.64312507e-02, 9.91081502e-01, 6.54151860e-02, 4.07311695e-01,\n",
       "         8.34513009e-01]))]"
      ]
     },
     "execution_count": 20,
     "metadata": {},
     "output_type": "execute_result"
    }
   ],
   "source": [
    "expand_setpoints_helper(a.spectrum)"
   ]
  },
  {
   "cell_type": "code",
   "execution_count": 21,
   "metadata": {},
   "outputs": [
    {
     "name": "stdout",
     "output_type": "stream",
     "text": [
      "Starting experimental run with id: 2. \n"
     ]
    }
   ],
   "source": [
    "meas = Measurement()\n",
    "meas.register_parameter(a.spectrum)\n",
    "\n",
    "with meas.run() as datasaver:\n",
    "    datasaver.add_result(*expand_setpoints_helper(a.spectrum))\n",
    "    \n",
    "    dataid = datasaver.run_id"
   ]
  },
  {
   "cell_type": "code",
   "execution_count": null,
   "metadata": {},
   "outputs": [],
   "source": []
  }
 ],
 "metadata": {
  "kernelspec": {
   "display_name": "Python 3",
   "language": "python",
   "name": "python3"
  },
  "language_info": {
   "codemirror_mode": {
    "name": "ipython",
    "version": 3
   },
   "file_extension": ".py",
   "mimetype": "text/x-python",
   "name": "python",
   "nbconvert_exporter": "python",
   "pygments_lexer": "ipython3",
   "version": "3.7.5"
  },
  "toc": {
   "base_numbering": 1,
   "nav_menu": {},
   "number_sections": true,
   "sideBar": true,
   "skip_h1_title": false,
   "title_cell": "Table of Contents",
   "title_sidebar": "Contents",
   "toc_cell": false,
   "toc_position": {},
   "toc_section_display": true,
   "toc_window_display": false
  },
  "varInspector": {
   "cols": {
    "lenName": 16,
    "lenType": 16,
    "lenVar": 40
   },
   "kernels_config": {
    "python": {
     "delete_cmd_postfix": "",
     "delete_cmd_prefix": "del ",
     "library": "var_list.py",
     "varRefreshCmd": "print(var_dic_list())"
    },
    "r": {
     "delete_cmd_postfix": ") ",
     "delete_cmd_prefix": "rm(",
     "library": "var_list.r",
     "varRefreshCmd": "cat(var_dic_list()) "
    }
   },
   "types_to_exclude": [
    "module",
    "function",
    "builtin_function_or_method",
    "instance",
    "_Feature"
   ],
   "window_display": false
  }
 },
 "nbformat": 4,
 "nbformat_minor": 2
}
