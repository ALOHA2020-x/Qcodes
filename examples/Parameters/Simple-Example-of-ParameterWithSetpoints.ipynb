{
 "cells": [
  {
   "cell_type": "markdown",
   "metadata": {},
   "source": [
    "# Simple Example of ParameterWithSetpoints\n",
    "This notebook provides an example for writing a simple driver with a parameter that has setpoints. Let's name this parameter that has setpoints as \"y\". Then, the setpoints, say \"x1, x2, x3 ..\", are the parameters on which the parameter \n",
    "\"y\" depends upon. Meaning \"y\" is a function of \"x1, x2, x3 ...\" where \"x1, x2, x3 ...\" are known as the setpoints of parameter \"y\".\n",
    "\n",
    "This is most likely to be useful for instruments that return arrays of results. In this notebook, we will show an example of this."
   ]
  },
  {
   "cell_type": "code",
   "execution_count": 1,
   "metadata": {},
   "outputs": [],
   "source": [
    "import numpy as np\n",
    "import os"
   ]
  },
  {
   "cell_type": "code",
   "execution_count": 2,
   "metadata": {},
   "outputs": [
    {
     "name": "stdout",
     "output_type": "stream",
     "text": [
      "Logging hadn't been started.\n",
      "Activating auto-logging. Current session state plus future input saved.\n",
      "Filename       : /home/vsts/.qcodes/logs/command_history.log\n",
      "Mode           : append\n",
      "Output logging : True\n",
      "Raw input log  : False\n",
      "Timestamping   : True\n",
      "State          : active\n"
     ]
    },
    {
     "name": "stdout",
     "output_type": "stream",
     "text": [
      "Qcodes Logfile : /home/vsts/.qcodes/logs/200302-25057-qcodes.log\n"
     ]
    }
   ],
   "source": [
    "from qcodes.dataset.plotting import plot_dataset\n",
    "from qcodes.utils.validators import Numbers, Arrays\n",
    "from qcodes.instrument.base import Instrument\n",
    "from qcodes.dataset.measurements import Measurement"
   ]
  },
  {
   "cell_type": "code",
   "execution_count": 3,
   "metadata": {},
   "outputs": [],
   "source": [
    "from qcodes.dataset.sqlite.database import initialise_or_create_database_at\n",
    "from qcodes.dataset.experiment_container import load_or_create_experiment"
   ]
  },
  {
   "cell_type": "code",
   "execution_count": 4,
   "metadata": {},
   "outputs": [],
   "source": [
    "from qcodes.instrument.parameter import ParameterWithSetpoints, Parameter\n",
    "from qcodes.instrument.parameter import expand_setpoints_helper"
   ]
  },
  {
   "cell_type": "markdown",
   "metadata": {},
   "source": [
    "First, we define a dummy instrument that returns something like a frequency spectrum starting from a frequency given by `f_start` to a frequency given by `f_stop` in `n_points` steps. \n",
    "\n",
    "The extra functionality of the `ParameterWithSetpoints` is implemented by giving it a reference to one or more parameters that acts like its setpoints. \n",
    "\n",
    "To setup a `ParameterWithSetpoints` we have to do two things in addition to what we do for a normal parameter.\n",
    "\n",
    "* Define one or more parameter for the setpoints (one for each dimension of the array and let the `ParameterWithSetpoints` know that these are the setpoints.\n",
    "* Give both the setpoints parameter(s) and the `ParameterWithSetpoints` a `validator` of type `Arrays` with a shape. The shapes should be such that the combined shape of the setpoints matches the shape of the `ParameterWithSetpoints`. Note that if the shape changes with the setting of the instrument, it can be defined by another parameter as shown below. "
   ]
  },
  {
   "cell_type": "code",
   "execution_count": 5,
   "metadata": {},
   "outputs": [],
   "source": [
    "class GeneratedSetPoints(Parameter):\n",
    "    \"\"\"\n",
    "    A parameter that generates a setpoint array from start, stop and num points\n",
    "    parameters.\n",
    "    \"\"\"\n",
    "    def __init__(self, startparam, stopparam, numpointsparam, *args, **kwargs):\n",
    "        super().__init__(*args, **kwargs)\n",
    "        self._startparam = startparam\n",
    "        self._stopparam = stopparam\n",
    "        self._numpointsparam = numpointsparam\n",
    "\n",
    "    def get_raw(self):\n",
    "        return np.linspace(self._startparam(), self._stopparam(),\n",
    "                              self._numpointsparam())\n",
    "\n",
    "class DummyArray(ParameterWithSetpoints):\n",
    "    \n",
    "    def get_raw(self):\n",
    "        npoints = self.root_instrument.n_points.get_latest()\n",
    "        return np.random.rand(npoints)\n",
    "    \n",
    "\n",
    "class DummySpectrumAnalyzer(Instrument):\n",
    "    \n",
    "    def __init__(self, name, **kwargs):\n",
    "        \n",
    "        super().__init__(name, **kwargs)\n",
    "            \n",
    "\n",
    "        self.add_parameter('f_start',\n",
    "                           initial_value=0,\n",
    "                           unit='Hz',\n",
    "                           label='f start',\n",
    "                           vals=Numbers(0,1e3),\n",
    "                           get_cmd=None,\n",
    "                           set_cmd=None)\n",
    "\n",
    "        self.add_parameter('f_stop',\n",
    "                           unit='Hz',\n",
    "                           label='f stop',\n",
    "                           vals=Numbers(1,1e3),\n",
    "                           get_cmd=None,\n",
    "                           set_cmd=None)\n",
    "\n",
    "        self.add_parameter('n_points',\n",
    "                           unit='',\n",
    "                           initial_value=10,\n",
    "                           vals=Numbers(1,1e3),\n",
    "                           get_cmd=None,\n",
    "                           set_cmd=None)\n",
    "        \n",
    "        self.add_parameter('freq_axis',\n",
    "                           unit='Hz',\n",
    "                           label='Freq Axis',\n",
    "                           parameter_class=GeneratedSetPoints,\n",
    "                           startparam=self.f_start,\n",
    "                           stopparam=self.f_stop,\n",
    "                           numpointsparam=self.n_points,\n",
    "                           vals=Arrays(shape=(self.n_points.get_latest,)))\n",
    "                           \n",
    "        self.add_parameter('spectrum',\n",
    "                   unit='dBm',\n",
    "                   setpoints=(self.freq_axis,),\n",
    "                   label='Spectrum',\n",
    "                   parameter_class=DummyArray,\n",
    "                   vals=Arrays(shape=(self.n_points.get_latest,)))\n",
    "                "
   ]
  },
  {
   "cell_type": "markdown",
   "metadata": {},
   "source": [
    "In the above example, the shape is defined by the parameter `n_points` that defines how many samples our `DummySpectrumAnalyzer` returns.\n",
    "\n",
    "This means that the validation will call the function to get `n_points` twice for each `get` of the parameter. This may be too slow, however, if you (as the driver-writer) can guarantee that the cached value for `n_points` will never be out of sync with the value stored in the instrument, `n_points` may be replaced by it's latest known value such that the `validator` reads:\n",
    "```python\n",
    "vals=Arrays(shape=(self.n_points.get_latest))\n",
    "```\n",
    "\n",
    "This avoids any additional call to the instrument. In the same way, the arguments to the `freq_axis` parameter that defines the start, stop and number of points can be replaced by their latest value if the instrument allows it.\n",
    "\n"
   ]
  },
  {
   "cell_type": "code",
   "execution_count": 6,
   "metadata": {},
   "outputs": [
    {
     "name": "stdout",
     "output_type": "stream",
     "text": [
      "\r",
      "0it [00:00, ?it/s]"
     ]
    },
    {
     "name": "stdout",
     "output_type": "stream",
     "text": [
      "\r",
      "Upgrading database; v0 -> v1: : 0it [00:00, ?it/s]"
     ]
    },
    {
     "name": "stdout",
     "output_type": "stream",
     "text": [
      "\r",
      "Upgrading database; v0 -> v1: : 0it [00:00, ?it/s]"
     ]
    },
    {
     "name": "stdout",
     "output_type": "stream",
     "text": [
      "\n",
      "\r",
      "  0%|          | 0/1 [00:00<?, ?it/s]"
     ]
    },
    {
     "name": "stdout",
     "output_type": "stream",
     "text": [
      "\r",
      "Upgrading database; v1 -> v2:   0%|          | 0/1 [00:00<?, ?it/s]"
     ]
    },
    {
     "name": "stdout",
     "output_type": "stream",
     "text": [
      "\r",
      "Upgrading database; v1 -> v2: 100%|██████████| 1/1 [00:00<00:00, 768.33it/s]"
     ]
    },
    {
     "name": "stdout",
     "output_type": "stream",
     "text": [
      "\n",
      "\r",
      "0it [00:00, ?it/s]"
     ]
    },
    {
     "name": "stdout",
     "output_type": "stream",
     "text": [
      "\r",
      "Upgrading database; v2 -> v3: : 0it [00:00, ?it/s]"
     ]
    },
    {
     "name": "stdout",
     "output_type": "stream",
     "text": [
      "\r",
      "Upgrading database; v2 -> v3: : 0it [00:00, ?it/s]"
     ]
    },
    {
     "name": "stdout",
     "output_type": "stream",
     "text": [
      "\n",
      "\r",
      "0it [00:00, ?it/s]"
     ]
    },
    {
     "name": "stdout",
     "output_type": "stream",
     "text": [
      "\r",
      "Upgrading database; v3 -> v4: : 0it [00:00, ?it/s]"
     ]
    },
    {
     "name": "stdout",
     "output_type": "stream",
     "text": [
      "\r",
      "Upgrading database; v3 -> v4: : 0it [00:00, ?it/s]"
     ]
    },
    {
     "name": "stdout",
     "output_type": "stream",
     "text": [
      "\n",
      "\r",
      "  0%|          | 0/1 [00:00<?, ?it/s]"
     ]
    },
    {
     "name": "stdout",
     "output_type": "stream",
     "text": [
      "\r",
      "Upgrading database; v4 -> v5:   0%|          | 0/1 [00:00<?, ?it/s]"
     ]
    },
    {
     "name": "stdout",
     "output_type": "stream",
     "text": [
      "\r",
      "Upgrading database; v4 -> v5: 100%|██████████| 1/1 [00:00<00:00, 422.39it/s]"
     ]
    },
    {
     "name": "stdout",
     "output_type": "stream",
     "text": [
      "\n",
      "\r",
      "0it [00:00, ?it/s]"
     ]
    },
    {
     "name": "stdout",
     "output_type": "stream",
     "text": [
      "\r",
      "Upgrading database; v5 -> v6: : 0it [00:00, ?it/s]"
     ]
    },
    {
     "name": "stdout",
     "output_type": "stream",
     "text": [
      "\r",
      "Upgrading database; v5 -> v6: : 0it [00:00, ?it/s]"
     ]
    },
    {
     "name": "stdout",
     "output_type": "stream",
     "text": [
      "\n",
      "\r",
      "  0%|          | 0/1 [00:00<?, ?it/s]"
     ]
    },
    {
     "name": "stdout",
     "output_type": "stream",
     "text": [
      "\r",
      "Upgrading database; v6 -> v7:   0%|          | 0/1 [00:00<?, ?it/s]"
     ]
    },
    {
     "name": "stdout",
     "output_type": "stream",
     "text": [
      "\r",
      "Upgrading database; v6 -> v7: 100%|██████████| 1/1 [00:00<00:00, 303.56it/s]"
     ]
    },
    {
     "name": "stdout",
     "output_type": "stream",
     "text": [
      "\n",
      "\r",
      "  0%|          | 0/1 [00:00<?, ?it/s]"
     ]
    },
    {
     "name": "stdout",
     "output_type": "stream",
     "text": [
      "\r",
      "Upgrading database; v7 -> v8:   0%|          | 0/1 [00:00<?, ?it/s]"
     ]
    },
    {
     "name": "stdout",
     "output_type": "stream",
     "text": [
      "\r",
      "Upgrading database; v7 -> v8: 100%|██████████| 1/1 [00:00<00:00, 662.50it/s]"
     ]
    },
    {
     "name": "stdout",
     "output_type": "stream",
     "text": [
      "\n",
      "\r",
      "  0%|          | 0/1 [00:00<?, ?it/s]"
     ]
    },
    {
     "name": "stdout",
     "output_type": "stream",
     "text": [
      "\r",
      "Upgrading database; v8 -> v9:   0%|          | 0/1 [00:00<?, ?it/s]"
     ]
    },
    {
     "name": "stdout",
     "output_type": "stream",
     "text": [
      "\r",
      "Upgrading database; v8 -> v9: 100%|██████████| 1/1 [00:00<00:00, 876.74it/s]"
     ]
    },
    {
     "name": "stdout",
     "output_type": "stream",
     "text": [
      "\n"
     ]
    },
    {
     "data": {
      "text/plain": [
       "tutorial_ParameterWithSetpoints#no sample#1@/home/vsts/work/1/s/docs/examples/Parameters/tutorial_paramter_with_setpoints.db\n",
       "----------------------------------------------------------------------------------------------------------------------------"
      ]
     },
     "execution_count": 6,
     "metadata": {},
     "output_type": "execute_result"
    }
   ],
   "source": [
    "tutorial_db_path = os.path.join(os.getcwd(), 'tutorial_paramter_with_setpoints.db')\n",
    "initialise_or_create_database_at(tutorial_db_path)\n",
    "load_or_create_experiment(experiment_name='tutorial_ParameterWithSetpoints', sample_name=\"no sample\")"
   ]
  },
  {
   "cell_type": "code",
   "execution_count": 7,
   "metadata": {},
   "outputs": [],
   "source": [
    "a = DummySpectrumAnalyzer('foobar')"
   ]
  },
  {
   "cell_type": "markdown",
   "metadata": {},
   "source": [
    "First we setup the limits of the spectrum"
   ]
  },
  {
   "cell_type": "code",
   "execution_count": 8,
   "metadata": {},
   "outputs": [],
   "source": [
    "a.f_start(0)\n",
    "a.f_stop(500)\n",
    "a.n_points(501)"
   ]
  },
  {
   "cell_type": "markdown",
   "metadata": {},
   "source": [
    "And we can grab the frequency axis"
   ]
  },
  {
   "cell_type": "code",
   "execution_count": 9,
   "metadata": {},
   "outputs": [
    {
     "data": {
      "text/plain": [
       "501"
      ]
     },
     "execution_count": 9,
     "metadata": {},
     "output_type": "execute_result"
    }
   ],
   "source": [
    "a.n_points()"
   ]
  },
  {
   "cell_type": "code",
   "execution_count": 10,
   "metadata": {
    "scrolled": false
   },
   "outputs": [
    {
     "data": {
      "text/plain": [
       "501"
      ]
     },
     "execution_count": 10,
     "metadata": {},
     "output_type": "execute_result"
    }
   ],
   "source": [
    "freq_axis = a.freq_axis()\n",
    "len(freq_axis)"
   ]
  },
  {
   "cell_type": "code",
   "execution_count": 11,
   "metadata": {},
   "outputs": [
    {
     "data": {
      "text/plain": [
       "array([0., 1., 2., 3., 4., 5., 6., 7., 8., 9.])"
      ]
     },
     "execution_count": 11,
     "metadata": {},
     "output_type": "execute_result"
    }
   ],
   "source": [
    "freq_axis[:10]"
   ]
  },
  {
   "cell_type": "markdown",
   "metadata": {},
   "source": [
    "As expected we get a result wit 501 points as we asked for an axis with 501 points. "
   ]
  },
  {
   "cell_type": "markdown",
   "metadata": {},
   "source": [
    "Above we have added a validator to the `freq_axis` parameter encoding the fact that this is an Array with `n_points`. Note that we do not have to supply the number of points as an integer but can supply a function that returns the valid number of points. This would normally be a QCoDeS parameter.\n",
    "\n",
    "This will be checked if we validate the output."
   ]
  },
  {
   "cell_type": "code",
   "execution_count": 12,
   "metadata": {},
   "outputs": [],
   "source": [
    "a.freq_axis.validate(a.freq_axis.get())"
   ]
  },
  {
   "cell_type": "markdown",
   "metadata": {},
   "source": [
    "Naturally, we can also get the spectrum. Getting the spectrum will automatically perform validation both for the shape of the parameter itself and the relation to the setpoint parameter(s)"
   ]
  },
  {
   "cell_type": "code",
   "execution_count": 13,
   "metadata": {
    "scrolled": true
   },
   "outputs": [
    {
     "data": {
      "text/plain": [
       "501"
      ]
     },
     "execution_count": 13,
     "metadata": {},
     "output_type": "execute_result"
    }
   ],
   "source": [
    "spectrum = a.spectrum.get()\n",
    "len(spectrum)"
   ]
  },
  {
   "cell_type": "markdown",
   "metadata": {},
   "source": [
    "When we validate a `ParameterWithSetpoints`, we automatically validate that the shape is consistent between the parameters and its setpoints. As well as validating the shape as above."
   ]
  },
  {
   "cell_type": "code",
   "execution_count": 14,
   "metadata": {},
   "outputs": [],
   "source": [
    "a.spectrum.validate(a.spectrum.get())"
   ]
  },
  {
   "cell_type": "markdown",
   "metadata": {},
   "source": [
    "The consistent shapes can be validated explicitly."
   ]
  },
  {
   "cell_type": "code",
   "execution_count": 15,
   "metadata": {},
   "outputs": [],
   "source": [
    "a.spectrum.validate_consistent_shape()"
   ]
  },
  {
   "cell_type": "markdown",
   "metadata": {},
   "source": [
    "We can inspect the setpoints of the spectrum."
   ]
  },
  {
   "cell_type": "code",
   "execution_count": 16,
   "metadata": {},
   "outputs": [
    {
     "data": {
      "text/plain": [
       "(<__main__.GeneratedSetPoints: freq_axis at 140077463990032>,)"
      ]
     },
     "execution_count": 16,
     "metadata": {},
     "output_type": "execute_result"
    }
   ],
   "source": [
    "a.spectrum.setpoints"
   ]
  },
  {
   "cell_type": "markdown",
   "metadata": {},
   "source": [
    "Or even change them."
   ]
  },
  {
   "cell_type": "code",
   "execution_count": 17,
   "metadata": {},
   "outputs": [],
   "source": [
    "a.spectrum.setpoints = (a.freq_axis,)"
   ]
  },
  {
   "cell_type": "markdown",
   "metadata": {},
   "source": [
    "## Measurement"
   ]
  },
  {
   "cell_type": "markdown",
   "metadata": {},
   "source": [
    "We can also directly consume the parameter in a measurement without defining the setpoints of the parameter again. The setpoints are automatically obtained from the definition of the `ParameterWithSetpoint` instance. "
   ]
  },
  {
   "cell_type": "code",
   "execution_count": 18,
   "metadata": {},
   "outputs": [
    {
     "name": "stdout",
     "output_type": "stream",
     "text": [
      "Starting experimental run with id: 1. \n"
     ]
    }
   ],
   "source": [
    "meas = Measurement()\n",
    "meas.register_parameter(a.spectrum)\n",
    "\n",
    "with meas.run() as datasaver:\n",
    "    datasaver.add_result((a.freq_axis, a.freq_axis()),\n",
    "                         (a.spectrum, a.spectrum()))\n",
    "    dataset = datasaver.dataset"
   ]
  },
  {
   "cell_type": "markdown",
   "metadata": {},
   "source": [
    "And plot it"
   ]
  },
  {
   "cell_type": "code",
   "execution_count": 19,
   "metadata": {},
   "outputs": [
    {
     "data": {
      "text/plain": [
       "([<matplotlib.axes._subplots.AxesSubplot at 0x7f6652f6c3d0>], [None])"
      ]
     },
     "execution_count": 19,
     "metadata": {},
     "output_type": "execute_result"
    },
    {
     "data": {
      "image/png": "[encoded data removed]",
      "text/plain": [
       "<Figure size 432x288 with 1 Axes>"
      ]
     },
     "metadata": {
      "needs_background": "light"
     },
     "output_type": "display_data"
    }
   ],
   "source": [
    "plot_dataset(dataset)"
   ]
  },
  {
   "cell_type": "markdown",
   "metadata": {},
   "source": [
    "To reduce the amount of typing a simple convenience function is provided that will take a `ParameterWithSetpoints` and get both its values and the setpoints values and return them as tuples for direct insertion into the Dataset."
   ]
  },
  {
   "cell_type": "code",
   "execution_count": 20,
   "metadata": {
    "scrolled": true
   },
   "outputs": [
    {
     "data": {
      "text/plain": [
       "[(<__main__.GeneratedSetPoints: freq_axis at 140077463990032>,\n",
       "  array([  0.,   1.,   2.,   3.,   4.,   5.,   6.,   7.,   8.,   9.,  10.,\n",
       "          11.,  12.,  13.,  14.,  15.,  16.,  17.,  18.,  19.,  20.,  21.,\n",
       "          22.,  23.,  24.,  25.,  26.,  27.,  28.,  29.,  30.,  31.,  32.,\n",
       "          33.,  34.,  35.,  36.,  37.,  38.,  39.,  40.,  41.,  42.,  43.,\n",
       "          44.,  45.,  46.,  47.,  48.,  49.,  50.,  51.,  52.,  53.,  54.,\n",
       "          55.,  56.,  57.,  58.,  59.,  60.,  61.,  62.,  63.,  64.,  65.,\n",
       "          66.,  67.,  68.,  69.,  70.,  71.,  72.,  73.,  74.,  75.,  76.,\n",
       "          77.,  78.,  79.,  80.,  81.,  82.,  83.,  84.,  85.,  86.,  87.,\n",
       "          88.,  89.,  90.,  91.,  92.,  93.,  94.,  95.,  96.,  97.,  98.,\n",
       "          99., 100., 101., 102., 103., 104., 105., 106., 107., 108., 109.,\n",
       "         110., 111., 112., 113., 114., 115., 116., 117., 118., 119., 120.,\n",
       "         121., 122., 123., 124., 125., 126., 127., 128., 129., 130., 131.,\n",
       "         132., 133., 134., 135., 136., 137., 138., 139., 140., 141., 142.,\n",
       "         143., 144., 145., 146., 147., 148., 149., 150., 151., 152., 153.,\n",
       "         154., 155., 156., 157., 158., 159., 160., 161., 162., 163., 164.,\n",
       "         165., 166., 167., 168., 169., 170., 171., 172., 173., 174., 175.,\n",
       "         176., 177., 178., 179., 180., 181., 182., 183., 184., 185., 186.,\n",
       "         187., 188., 189., 190., 191., 192., 193., 194., 195., 196., 197.,\n",
       "         198., 199., 200., 201., 202., 203., 204., 205., 206., 207., 208.,\n",
       "         209., 210., 211., 212., 213., 214., 215., 216., 217., 218., 219.,\n",
       "         220., 221., 222., 223., 224., 225., 226., 227., 228., 229., 230.,\n",
       "         231., 232., 233., 234., 235., 236., 237., 238., 239., 240., 241.,\n",
       "         242., 243., 244., 245., 246., 247., 248., 249., 250., 251., 252.,\n",
       "         253., 254., 255., 256., 257., 258., 259., 260., 261., 262., 263.,\n",
       "         264., 265., 266., 267., 268., 269., 270., 271., 272., 273., 274.,\n",
       "         275., 276., 277., 278., 279., 280., 281., 282., 283., 284., 285.,\n",
       "         286., 287., 288., 289., 290., 291., 292., 293., 294., 295., 296.,\n",
       "         297., 298., 299., 300., 301., 302., 303., 304., 305., 306., 307.,\n",
       "         308., 309., 310., 311., 312., 313., 314., 315., 316., 317., 318.,\n",
       "         319., 320., 321., 322., 323., 324., 325., 326., 327., 328., 329.,\n",
       "         330., 331., 332., 333., 334., 335., 336., 337., 338., 339., 340.,\n",
       "         341., 342., 343., 344., 345., 346., 347., 348., 349., 350., 351.,\n",
       "         352., 353., 354., 355., 356., 357., 358., 359., 360., 361., 362.,\n",
       "         363., 364., 365., 366., 367., 368., 369., 370., 371., 372., 373.,\n",
       "         374., 375., 376., 377., 378., 379., 380., 381., 382., 383., 384.,\n",
       "         385., 386., 387., 388., 389., 390., 391., 392., 393., 394., 395.,\n",
       "         396., 397., 398., 399., 400., 401., 402., 403., 404., 405., 406.,\n",
       "         407., 408., 409., 410., 411., 412., 413., 414., 415., 416., 417.,\n",
       "         418., 419., 420., 421., 422., 423., 424., 425., 426., 427., 428.,\n",
       "         429., 430., 431., 432., 433., 434., 435., 436., 437., 438., 439.,\n",
       "         440., 441., 442., 443., 444., 445., 446., 447., 448., 449., 450.,\n",
       "         451., 452., 453., 454., 455., 456., 457., 458., 459., 460., 461.,\n",
       "         462., 463., 464., 465., 466., 467., 468., 469., 470., 471., 472.,\n",
       "         473., 474., 475., 476., 477., 478., 479., 480., 481., 482., 483.,\n",
       "         484., 485., 486., 487., 488., 489., 490., 491., 492., 493., 494.,\n",
       "         495., 496., 497., 498., 499., 500.])),\n",
       " (<__main__.DummyArray: spectrum at 140077463989456>,\n",
       "  array([0.20025556, 0.35891219, 0.65410306, 0.80109587, 0.77696376,\n",
       "         0.02567486, 0.29878724, 0.65594573, 0.29127007, 0.708937  ,\n",
       "         0.68575261, 0.06157633, 0.45802773, 0.84465969, 0.60238533,\n",
       "         0.11023225, 0.44761056, 0.11553795, 0.29796957, 0.60445795,\n",
       "         0.9947564 , 0.08909542, 0.69097247, 0.70614878, 0.75503262,\n",
       "         0.16452666, 0.19446592, 0.8873952 , 0.49908121, 0.99265061,\n",
       "         0.5766861 , 0.41289445, 0.61934949, 0.87234253, 0.21332527,\n",
       "         0.54378653, 0.67188345, 0.9245518 , 0.30866914, 0.50177553,\n",
       "         0.69608813, 0.14544324, 0.69444439, 0.64193499, 0.82406481,\n",
       "         0.76310486, 0.30752161, 0.4089326 , 0.08485311, 0.56356301,\n",
       "         0.63332496, 0.71528283, 0.25973898, 0.47920539, 0.84904689,\n",
       "         0.08108115, 0.02698415, 0.79755562, 0.13501391, 0.11275573,\n",
       "         0.48605353, 0.91707684, 0.2983598 , 0.54827039, 0.61038596,\n",
       "         0.02584961, 0.09573732, 0.30404738, 0.52713674, 0.71225785,\n",
       "         0.44501962, 0.30271588, 0.73122791, 0.5061101 , 0.55300756,\n",
       "         0.9191471 , 0.41083487, 0.92967663, 0.91689189, 0.54807409,\n",
       "         0.4574187 , 0.38245339, 0.21353703, 0.23190449, 0.03920531,\n",
       "         0.48653484, 0.44032316, 0.86394315, 0.53567687, 0.85737081,\n",
       "         0.59940479, 0.49768069, 0.86954808, 0.75105173, 0.97960404,\n",
       "         0.11758971, 0.50859228, 0.95261385, 0.37277369, 0.64023936,\n",
       "         0.67622904, 0.61091132, 0.39643774, 0.11914173, 0.42459405,\n",
       "         0.02371911, 0.13709337, 0.77454518, 0.5594788 , 0.62364521,\n",
       "         0.12664923, 0.12028092, 0.8023998 , 0.38690553, 0.82052538,\n",
       "         0.13828755, 0.71718475, 0.55270498, 0.64868764, 0.33688852,\n",
       "         0.03762704, 0.84800348, 0.35401724, 0.65589633, 0.77300172,\n",
       "         0.22487051, 0.92234708, 0.66024705, 0.23535442, 0.71665447,\n",
       "         0.09496934, 0.1538769 , 0.71572062, 0.44620996, 0.12472173,\n",
       "         0.58212906, 0.43825903, 0.03027548, 0.19559622, 0.14162941,\n",
       "         0.10266864, 0.02316607, 0.31709813, 0.70188111, 0.87424044,\n",
       "         0.00290935, 0.09994708, 0.80124419, 0.90113027, 0.20413435,\n",
       "         0.44591672, 0.01220734, 0.61142684, 0.31342905, 0.32062348,\n",
       "         0.52762057, 0.56803136, 0.23248359, 0.22906166, 0.07015562,\n",
       "         0.71648398, 0.71841223, 0.38634654, 0.18040742, 0.9433166 ,\n",
       "         0.37210613, 0.40102041, 0.0197131 , 0.23851827, 0.66090142,\n",
       "         0.99292409, 0.42425621, 0.79646112, 0.38047073, 0.76695447,\n",
       "         0.85804757, 0.34341341, 0.07792897, 0.52023965, 0.98920585,\n",
       "         0.6765702 , 0.30326262, 0.41460643, 0.22212537, 0.25663585,\n",
       "         0.55572317, 0.80073005, 0.91542921, 0.88470872, 0.83994669,\n",
       "         0.76901013, 0.17649953, 0.25088445, 0.60217411, 0.86050159,\n",
       "         0.72933147, 0.65153852, 0.95148289, 0.96829849, 0.52579652,\n",
       "         0.83997614, 0.69541776, 0.84457127, 0.96304888, 0.47690679,\n",
       "         0.272601  , 0.83212312, 0.96807767, 0.52651313, 0.41435512,\n",
       "         0.32450105, 0.79362787, 0.60992111, 0.72296305, 0.60634447,\n",
       "         0.86901154, 0.02363074, 0.89872253, 0.95034733, 0.52070023,\n",
       "         0.53527728, 0.02992465, 0.2634051 , 0.70492929, 0.13381558,\n",
       "         0.98065272, 0.60540987, 0.47996052, 0.59916601, 0.50384785,\n",
       "         0.0414991 , 0.14780606, 0.10527975, 0.58037173, 0.7496313 ,\n",
       "         0.98499637, 0.71222387, 0.67632043, 0.23258822, 0.05220984,\n",
       "         0.50997697, 0.00427999, 0.49964826, 0.59346916, 0.38118639,\n",
       "         0.5264861 , 0.09026843, 0.36208551, 0.77062079, 0.12502167,\n",
       "         0.69105548, 0.26182494, 0.51673056, 0.56768405, 0.27034921,\n",
       "         0.56083631, 0.08284156, 0.08477484, 0.57684759, 0.22995689,\n",
       "         0.20055247, 0.77970055, 0.74695819, 0.41220449, 0.26944341,\n",
       "         0.56683113, 0.63536657, 0.10766838, 0.533042  , 0.39016559,\n",
       "         0.85765622, 0.72471279, 0.69589971, 0.24693142, 0.39923876,\n",
       "         0.35082086, 0.05823094, 0.07583771, 0.95126762, 0.91691963,\n",
       "         0.07360237, 0.76341701, 0.15602155, 0.22431759, 0.51171219,\n",
       "         0.36281418, 0.25313198, 0.78872057, 0.35156205, 0.11378441,\n",
       "         0.63949272, 0.41024681, 0.30998917, 0.28576267, 0.15942083,\n",
       "         0.94144755, 0.47973433, 0.47069412, 0.06138585, 0.66082108,\n",
       "         0.56533619, 0.70271168, 0.69963925, 0.76215351, 0.58455885,\n",
       "         0.41637186, 0.39958581, 0.74601134, 0.92504002, 0.4463988 ,\n",
       "         0.84140846, 0.22857914, 0.26969512, 0.20566461, 0.94795109,\n",
       "         0.49348365, 0.0517851 , 0.96560614, 0.24110251, 0.33943907,\n",
       "         0.37575289, 0.64271687, 0.69810783, 0.59612042, 0.317817  ,\n",
       "         0.8751718 , 0.20135947, 0.80272743, 0.16783395, 0.21165109,\n",
       "         0.69644505, 0.18210302, 0.07787397, 0.3595854 , 0.55135875,\n",
       "         0.20801171, 0.97475663, 0.06532398, 0.40229959, 0.50134611,\n",
       "         0.34961378, 0.96921085, 0.50869948, 0.04706148, 0.37558269,\n",
       "         0.3094213 , 0.31779698, 0.88455841, 0.601402  , 0.25489216,\n",
       "         0.38940976, 0.72977599, 0.66651791, 0.18233936, 0.33031691,\n",
       "         0.72608773, 0.98728459, 0.73920777, 0.45799339, 0.46331983,\n",
       "         0.40799433, 0.90677525, 0.99778548, 0.0646082 , 0.37125338,\n",
       "         0.24797269, 0.35428606, 0.07948912, 0.9253879 , 0.79406245,\n",
       "         0.63375112, 0.41659836, 0.01839227, 0.81948326, 0.27003542,\n",
       "         0.08584331, 0.46551109, 0.04738639, 0.37829048, 0.26750271,\n",
       "         0.90515142, 0.32973115, 0.12210206, 0.59794617, 0.97919915,\n",
       "         0.04683653, 0.20815115, 0.18103213, 0.89123231, 0.33591693,\n",
       "         0.16582296, 0.248061  , 0.08863008, 0.66622501, 0.98584818,\n",
       "         0.26188778, 0.42521987, 0.97374941, 0.87470091, 0.3593495 ,\n",
       "         0.80766935, 0.66039015, 0.08015606, 0.1098974 , 0.26005039,\n",
       "         0.20100075, 0.97989022, 0.23910635, 0.35443203, 0.67570784,\n",
       "         0.01453969, 0.93944279, 0.84019192, 0.45352174, 0.48111333,\n",
       "         0.16345424, 0.80948651, 0.54394287, 0.48757018, 0.77466956,\n",
       "         0.18905651, 0.26778385, 0.76441044, 0.38828731, 0.49893664,\n",
       "         0.33393275, 0.08638685, 0.55635238, 0.67654361, 0.55170108,\n",
       "         0.13919992, 0.42283572, 0.23223093, 0.2764315 , 0.33661371,\n",
       "         0.36094152, 0.72809545, 0.46350666, 0.45625325, 0.28765204,\n",
       "         0.54814279, 0.38961791, 0.65916985, 0.62401154, 0.58697738,\n",
       "         0.60212298, 0.64252519, 0.93762505, 0.72142465, 0.79788064,\n",
       "         0.65420189, 0.48848549, 0.87313916, 0.17817672, 0.01091228,\n",
       "         0.34652993, 0.59011755, 0.33786516, 0.60457792, 0.64327087,\n",
       "         0.27277296, 0.05134578, 0.67053472, 0.29037705, 0.15764368,\n",
       "         0.26985019, 0.68524136, 0.44472085, 0.12934434, 0.07373959,\n",
       "         0.24072062, 0.60308759, 0.79997907, 0.88127421, 0.84440151,\n",
       "         0.22283269, 0.93473336, 0.82966866, 0.99385938, 0.6313961 ,\n",
       "         0.99589395, 0.11358642, 0.02483651, 0.8166357 , 0.01559229,\n",
       "         0.48107907, 0.47744552, 0.40328339, 0.32910859, 0.67246362,\n",
       "         0.32574596, 0.47249495, 0.30216817, 0.06844321, 0.71769303,\n",
       "         0.17590679, 0.70567754, 0.40997675, 0.15968421, 0.94513126,\n",
       "         0.50260609]))]"
      ]
     },
     "execution_count": 20,
     "metadata": {},
     "output_type": "execute_result"
    }
   ],
   "source": [
    "expand_setpoints_helper(a.spectrum)"
   ]
  },
  {
   "cell_type": "code",
   "execution_count": 21,
   "metadata": {},
   "outputs": [
    {
     "name": "stdout",
     "output_type": "stream",
     "text": [
      "Starting experimental run with id: 2. \n"
     ]
    }
   ],
   "source": [
    "meas = Measurement()\n",
    "meas.register_parameter(a.spectrum)\n",
    "\n",
    "with meas.run() as datasaver:\n",
    "    datasaver.add_result(*expand_setpoints_helper(a.spectrum))\n",
    "    \n",
    "    dataid = datasaver.run_id"
   ]
  },
  {
   "cell_type": "code",
   "execution_count": null,
   "metadata": {},
   "outputs": [],
   "source": []
  }
 ],
 "metadata": {
  "kernelspec": {
   "display_name": "Python 3",
   "language": "python",
   "name": "python3"
  },
  "language_info": {
   "codemirror_mode": {
    "name": "ipython",
    "version": 3
   },
   "file_extension": ".py",
   "mimetype": "text/x-python",
   "name": "python",
   "nbconvert_exporter": "python",
   "pygments_lexer": "ipython3",
   "version": "3.7.5"
  },
  "toc": {
   "base_numbering": 1,
   "nav_menu": {},
   "number_sections": true,
   "sideBar": true,
   "skip_h1_title": false,
   "title_cell": "Table of Contents",
   "title_sidebar": "Contents",
   "toc_cell": false,
   "toc_position": {},
   "toc_section_display": true,
   "toc_window_display": false
  },
  "varInspector": {
   "cols": {
    "lenName": 16,
    "lenType": 16,
    "lenVar": 40
   },
   "kernels_config": {
    "python": {
     "delete_cmd_postfix": "",
     "delete_cmd_prefix": "del ",
     "library": "var_list.py",
     "varRefreshCmd": "print(var_dic_list())"
    },
    "r": {
     "delete_cmd_postfix": ") ",
     "delete_cmd_prefix": "rm(",
     "library": "var_list.r",
     "varRefreshCmd": "cat(var_dic_list()) "
    }
   },
   "types_to_exclude": [
    "module",
    "function",
    "builtin_function_or_method",
    "instance",
    "_Feature"
   ],
   "window_display": false
  }
 },
 "nbformat": 4,
 "nbformat_minor": 2
}
