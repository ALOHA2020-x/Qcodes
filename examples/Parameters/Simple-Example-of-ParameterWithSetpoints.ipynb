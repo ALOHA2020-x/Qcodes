{
 "cells": [
  {
   "cell_type": "markdown",
   "metadata": {},
   "source": [
    "# Simple Example of ParameterWithSetpoints\n",
    "This notebook provides an example for writing a simple driver with a parameter that has setpoints. Let's name this parameter that has setpoints as \"y\". Then, the setpoints, say \"x1, x2, x3 ..\", are the parameters on which the parameter \n",
    "\"y\" depends upon. Meaning \"y\" is a function of \"x1, x2, x3 ...\" where \"x1, x2, x3 ...\" are known as the setpoints of parameter \"y\".\n",
    "\n",
    "This is most likely to be useful for instruments that return arrays of results. In this notebook, we will show an example of this."
   ]
  },
  {
   "cell_type": "code",
   "execution_count": 1,
   "metadata": {},
   "outputs": [],
   "source": [
    "import numpy as np\n",
    "import os"
   ]
  },
  {
   "cell_type": "code",
   "execution_count": 2,
   "metadata": {},
   "outputs": [
    {
     "name": "stdout",
     "output_type": "stream",
     "text": [
      "Logging hadn't been started.\n",
      "Activating auto-logging. Current session state plus future input saved.\n",
      "Filename       : /home/vsts/.qcodes/logs/command_history.log\n",
      "Mode           : append\n",
      "Output logging : True\n",
      "Raw input log  : False\n",
      "Timestamping   : True\n",
      "State          : active\n"
     ]
    },
    {
     "name": "stdout",
     "output_type": "stream",
     "text": [
      "Qcodes Logfile : /home/vsts/.qcodes/logs/200730-22018-qcodes.log\n"
     ]
    }
   ],
   "source": [
    "from qcodes.dataset.plotting import plot_dataset\n",
    "from qcodes.utils.validators import Numbers, Arrays\n",
    "from qcodes.instrument.base import Instrument\n",
    "from qcodes.dataset.measurements import Measurement"
   ]
  },
  {
   "cell_type": "code",
   "execution_count": 3,
   "metadata": {},
   "outputs": [],
   "source": [
    "from qcodes.dataset.sqlite.database import initialise_or_create_database_at\n",
    "from qcodes.dataset.experiment_container import load_or_create_experiment"
   ]
  },
  {
   "cell_type": "code",
   "execution_count": 4,
   "metadata": {},
   "outputs": [],
   "source": [
    "from qcodes.instrument.parameter import ParameterWithSetpoints, Parameter\n",
    "from qcodes.instrument.parameter import expand_setpoints_helper"
   ]
  },
  {
   "cell_type": "markdown",
   "metadata": {},
   "source": [
    "First, we define a dummy instrument that returns something like a frequency spectrum starting from a frequency given by `f_start` to a frequency given by `f_stop` in `n_points` steps. \n",
    "\n",
    "The extra functionality of the `ParameterWithSetpoints` is implemented by giving it a reference to one or more parameters that acts like its setpoints. \n",
    "\n",
    "To setup a `ParameterWithSetpoints` we have to do two things in addition to what we do for a normal parameter.\n",
    "\n",
    "* Define one or more parameter for the setpoints (one for each dimension of the array and let the `ParameterWithSetpoints` know that these are the setpoints.\n",
    "* Give both the setpoints parameter(s) and the `ParameterWithSetpoints` a `validator` of type `Arrays` with a shape. The shapes should be such that the combined shape of the setpoints matches the shape of the `ParameterWithSetpoints`. Note that if the shape changes with the setting of the instrument, it can be defined by another parameter as shown below. "
   ]
  },
  {
   "cell_type": "code",
   "execution_count": 5,
   "metadata": {},
   "outputs": [],
   "source": [
    "class GeneratedSetPoints(Parameter):\n",
    "    \"\"\"\n",
    "    A parameter that generates a setpoint array from start, stop and num points\n",
    "    parameters.\n",
    "    \"\"\"\n",
    "    def __init__(self, startparam, stopparam, numpointsparam, *args, **kwargs):\n",
    "        super().__init__(*args, **kwargs)\n",
    "        self._startparam = startparam\n",
    "        self._stopparam = stopparam\n",
    "        self._numpointsparam = numpointsparam\n",
    "\n",
    "    def get_raw(self):\n",
    "        return np.linspace(self._startparam(), self._stopparam(),\n",
    "                              self._numpointsparam())\n",
    "\n",
    "class DummyArray(ParameterWithSetpoints):\n",
    "    \n",
    "    def get_raw(self):\n",
    "        npoints = self.root_instrument.n_points.get_latest()\n",
    "        return np.random.rand(npoints)\n",
    "    \n",
    "\n",
    "class DummySpectrumAnalyzer(Instrument):\n",
    "    \n",
    "    def __init__(self, name, **kwargs):\n",
    "        \n",
    "        super().__init__(name, **kwargs)\n",
    "            \n",
    "\n",
    "        self.add_parameter('f_start',\n",
    "                           initial_value=0,\n",
    "                           unit='Hz',\n",
    "                           label='f start',\n",
    "                           vals=Numbers(0,1e3),\n",
    "                           get_cmd=None,\n",
    "                           set_cmd=None)\n",
    "\n",
    "        self.add_parameter('f_stop',\n",
    "                           unit='Hz',\n",
    "                           label='f stop',\n",
    "                           vals=Numbers(1,1e3),\n",
    "                           get_cmd=None,\n",
    "                           set_cmd=None)\n",
    "\n",
    "        self.add_parameter('n_points',\n",
    "                           unit='',\n",
    "                           initial_value=10,\n",
    "                           vals=Numbers(1,1e3),\n",
    "                           get_cmd=None,\n",
    "                           set_cmd=None)\n",
    "        \n",
    "        self.add_parameter('freq_axis',\n",
    "                           unit='Hz',\n",
    "                           label='Freq Axis',\n",
    "                           parameter_class=GeneratedSetPoints,\n",
    "                           startparam=self.f_start,\n",
    "                           stopparam=self.f_stop,\n",
    "                           numpointsparam=self.n_points,\n",
    "                           vals=Arrays(shape=(self.n_points.get_latest,)))\n",
    "                           \n",
    "        self.add_parameter('spectrum',\n",
    "                   unit='dBm',\n",
    "                   setpoints=(self.freq_axis,),\n",
    "                   label='Spectrum',\n",
    "                   parameter_class=DummyArray,\n",
    "                   vals=Arrays(shape=(self.n_points.get_latest,)))\n",
    "                "
   ]
  },
  {
   "cell_type": "markdown",
   "metadata": {},
   "source": [
    "In the above example, the shape is defined by the parameter `n_points` that defines how many samples our `DummySpectrumAnalyzer` returns.\n",
    "\n",
    "This means that the validation will call the function to get `n_points` twice for each `get` of the parameter. This may be too slow, however, if you (as the driver-writer) can guarantee that the cached value for `n_points` will never be out of sync with the value stored in the instrument, `n_points` may be replaced by it's latest known value such that the `validator` reads:\n",
    "```python\n",
    "vals=Arrays(shape=(self.n_points.get_latest))\n",
    "```\n",
    "\n",
    "This avoids any additional call to the instrument. In the same way, the arguments to the `freq_axis` parameter that defines the start, stop and number of points can be replaced by their latest value if the instrument allows it.\n",
    "\n"
   ]
  },
  {
   "cell_type": "code",
   "execution_count": 6,
   "metadata": {},
   "outputs": [
    {
     "name": "stdout",
     "output_type": "stream",
     "text": [
      "\r",
      "0it [00:00, ?it/s]"
     ]
    },
    {
     "name": "stdout",
     "output_type": "stream",
     "text": [
      "\r",
      "Upgrading database; v0 -> v1: : 0it [00:00, ?it/s]"
     ]
    },
    {
     "name": "stdout",
     "output_type": "stream",
     "text": [
      "\r",
      "Upgrading database; v0 -> v1: : 0it [00:00, ?it/s]"
     ]
    },
    {
     "name": "stdout",
     "output_type": "stream",
     "text": [
      "\n",
      "\r",
      "  0%|          | 0/1 [00:00<?, ?it/s]"
     ]
    },
    {
     "name": "stdout",
     "output_type": "stream",
     "text": [
      "\r",
      "Upgrading database; v1 -> v2:   0%|          | 0/1 [00:00<?, ?it/s]"
     ]
    },
    {
     "name": "stdout",
     "output_type": "stream",
     "text": [
      "\r",
      "Upgrading database; v1 -> v2: 100%|██████████| 1/1 [00:00<00:00, 768.61it/s]"
     ]
    },
    {
     "name": "stdout",
     "output_type": "stream",
     "text": [
      "\n",
      "\r",
      "0it [00:00, ?it/s]"
     ]
    },
    {
     "name": "stdout",
     "output_type": "stream",
     "text": [
      "\r",
      "Upgrading database; v2 -> v3: : 0it [00:00, ?it/s]"
     ]
    },
    {
     "name": "stdout",
     "output_type": "stream",
     "text": [
      "\r",
      "Upgrading database; v2 -> v3: : 0it [00:00, ?it/s]"
     ]
    },
    {
     "name": "stdout",
     "output_type": "stream",
     "text": [
      "\n",
      "\r",
      "0it [00:00, ?it/s]"
     ]
    },
    {
     "name": "stdout",
     "output_type": "stream",
     "text": [
      "\r",
      "Upgrading database; v3 -> v4: : 0it [00:00, ?it/s]"
     ]
    },
    {
     "name": "stdout",
     "output_type": "stream",
     "text": [
      "\r",
      "Upgrading database; v3 -> v4: : 0it [00:00, ?it/s]"
     ]
    },
    {
     "name": "stdout",
     "output_type": "stream",
     "text": [
      "\n",
      "\r",
      "  0%|          | 0/1 [00:00<?, ?it/s]"
     ]
    },
    {
     "name": "stdout",
     "output_type": "stream",
     "text": [
      "\r",
      "Upgrading database; v4 -> v5:   0%|          | 0/1 [00:00<?, ?it/s]"
     ]
    },
    {
     "name": "stdout",
     "output_type": "stream",
     "text": [
      "\r",
      "Upgrading database; v4 -> v5: 100%|██████████| 1/1 [00:00<00:00, 886.75it/s]"
     ]
    },
    {
     "name": "stdout",
     "output_type": "stream",
     "text": [
      "\n",
      "\r",
      "0it [00:00, ?it/s]"
     ]
    },
    {
     "name": "stdout",
     "output_type": "stream",
     "text": [
      "\r",
      "Upgrading database; v5 -> v6: : 0it [00:00, ?it/s]"
     ]
    },
    {
     "name": "stdout",
     "output_type": "stream",
     "text": [
      "\r",
      "Upgrading database; v5 -> v6: : 0it [00:00, ?it/s]"
     ]
    },
    {
     "name": "stdout",
     "output_type": "stream",
     "text": [
      "\n",
      "\r",
      "  0%|          | 0/1 [00:00<?, ?it/s]"
     ]
    },
    {
     "name": "stdout",
     "output_type": "stream",
     "text": [
      "\r",
      "Upgrading database; v6 -> v7:   0%|          | 0/1 [00:00<?, ?it/s]"
     ]
    },
    {
     "name": "stdout",
     "output_type": "stream",
     "text": [
      "\r",
      "Upgrading database; v6 -> v7: 100%|██████████| 1/1 [00:00<00:00, 386.71it/s]"
     ]
    },
    {
     "name": "stdout",
     "output_type": "stream",
     "text": [
      "\n",
      "\r",
      "  0%|          | 0/1 [00:00<?, ?it/s]"
     ]
    },
    {
     "name": "stdout",
     "output_type": "stream",
     "text": [
      "\r",
      "Upgrading database; v7 -> v8:   0%|          | 0/1 [00:00<?, ?it/s]"
     ]
    },
    {
     "name": "stdout",
     "output_type": "stream",
     "text": [
      "\r",
      "Upgrading database; v7 -> v8: 100%|██████████| 1/1 [00:00<00:00, 721.79it/s]"
     ]
    },
    {
     "name": "stdout",
     "output_type": "stream",
     "text": [
      "\n",
      "\r",
      "  0%|          | 0/1 [00:00<?, ?it/s]"
     ]
    },
    {
     "name": "stdout",
     "output_type": "stream",
     "text": [
      "\r",
      "Upgrading database; v8 -> v9:   0%|          | 0/1 [00:00<?, ?it/s]"
     ]
    },
    {
     "name": "stdout",
     "output_type": "stream",
     "text": [
      "\r",
      "Upgrading database; v8 -> v9: 100%|██████████| 1/1 [00:00<00:00, 1062.93it/s]"
     ]
    },
    {
     "name": "stdout",
     "output_type": "stream",
     "text": [
      "\n"
     ]
    },
    {
     "data": {
      "text/plain": [
       "tutorial_ParameterWithSetpoints#no sample#1@/home/vsts/work/1/s/docs/examples/Parameters/tutorial_paramter_with_setpoints.db\n",
       "----------------------------------------------------------------------------------------------------------------------------"
      ]
     },
     "execution_count": 6,
     "metadata": {},
     "output_type": "execute_result"
    }
   ],
   "source": [
    "tutorial_db_path = os.path.join(os.getcwd(), 'tutorial_paramter_with_setpoints.db')\n",
    "initialise_or_create_database_at(tutorial_db_path)\n",
    "load_or_create_experiment(experiment_name='tutorial_ParameterWithSetpoints', sample_name=\"no sample\")"
   ]
  },
  {
   "cell_type": "code",
   "execution_count": 7,
   "metadata": {},
   "outputs": [],
   "source": [
    "a = DummySpectrumAnalyzer('foobar')"
   ]
  },
  {
   "cell_type": "markdown",
   "metadata": {},
   "source": [
    "First we setup the limits of the spectrum"
   ]
  },
  {
   "cell_type": "code",
   "execution_count": 8,
   "metadata": {},
   "outputs": [],
   "source": [
    "a.f_start(0)\n",
    "a.f_stop(500)\n",
    "a.n_points(501)"
   ]
  },
  {
   "cell_type": "markdown",
   "metadata": {},
   "source": [
    "And we can grab the frequency axis"
   ]
  },
  {
   "cell_type": "code",
   "execution_count": 9,
   "metadata": {},
   "outputs": [
    {
     "data": {
      "text/plain": [
       "501"
      ]
     },
     "execution_count": 9,
     "metadata": {},
     "output_type": "execute_result"
    }
   ],
   "source": [
    "a.n_points()"
   ]
  },
  {
   "cell_type": "code",
   "execution_count": 10,
   "metadata": {
    "scrolled": false
   },
   "outputs": [
    {
     "data": {
      "text/plain": [
       "501"
      ]
     },
     "execution_count": 10,
     "metadata": {},
     "output_type": "execute_result"
    }
   ],
   "source": [
    "freq_axis = a.freq_axis()\n",
    "len(freq_axis)"
   ]
  },
  {
   "cell_type": "code",
   "execution_count": 11,
   "metadata": {},
   "outputs": [
    {
     "data": {
      "text/plain": [
       "array([0., 1., 2., 3., 4., 5., 6., 7., 8., 9.])"
      ]
     },
     "execution_count": 11,
     "metadata": {},
     "output_type": "execute_result"
    }
   ],
   "source": [
    "freq_axis[:10]"
   ]
  },
  {
   "cell_type": "markdown",
   "metadata": {},
   "source": [
    "As expected we get a result wit 501 points as we asked for an axis with 501 points. "
   ]
  },
  {
   "cell_type": "markdown",
   "metadata": {},
   "source": [
    "Above we have added a validator to the `freq_axis` parameter encoding the fact that this is an Array with `n_points`. Note that we do not have to supply the number of points as an integer but can supply a function that returns the valid number of points. This would normally be a QCoDeS parameter.\n",
    "\n",
    "This will be checked if we validate the output."
   ]
  },
  {
   "cell_type": "code",
   "execution_count": 12,
   "metadata": {},
   "outputs": [],
   "source": [
    "a.freq_axis.validate(a.freq_axis.get())"
   ]
  },
  {
   "cell_type": "markdown",
   "metadata": {},
   "source": [
    "Naturally, we can also get the spectrum. Getting the spectrum will automatically perform validation both for the shape of the parameter itself and the relation to the setpoint parameter(s)"
   ]
  },
  {
   "cell_type": "code",
   "execution_count": 13,
   "metadata": {
    "scrolled": true
   },
   "outputs": [
    {
     "data": {
      "text/plain": [
       "501"
      ]
     },
     "execution_count": 13,
     "metadata": {},
     "output_type": "execute_result"
    }
   ],
   "source": [
    "spectrum = a.spectrum.get()\n",
    "len(spectrum)"
   ]
  },
  {
   "cell_type": "markdown",
   "metadata": {},
   "source": [
    "When we validate a `ParameterWithSetpoints`, we automatically validate that the shape is consistent between the parameters and its setpoints. As well as validating the shape as above."
   ]
  },
  {
   "cell_type": "code",
   "execution_count": 14,
   "metadata": {},
   "outputs": [],
   "source": [
    "a.spectrum.validate(a.spectrum.get())"
   ]
  },
  {
   "cell_type": "markdown",
   "metadata": {},
   "source": [
    "The consistent shapes can be validated explicitly."
   ]
  },
  {
   "cell_type": "code",
   "execution_count": 15,
   "metadata": {},
   "outputs": [],
   "source": [
    "a.spectrum.validate_consistent_shape()"
   ]
  },
  {
   "cell_type": "markdown",
   "metadata": {},
   "source": [
    "We can inspect the setpoints of the spectrum."
   ]
  },
  {
   "cell_type": "code",
   "execution_count": 16,
   "metadata": {},
   "outputs": [
    {
     "data": {
      "text/plain": [
       "(<__main__.GeneratedSetPoints: freq_axis at 140541678011536>,)"
      ]
     },
     "execution_count": 16,
     "metadata": {},
     "output_type": "execute_result"
    }
   ],
   "source": [
    "a.spectrum.setpoints"
   ]
  },
  {
   "cell_type": "markdown",
   "metadata": {},
   "source": [
    "Or even change them."
   ]
  },
  {
   "cell_type": "code",
   "execution_count": 17,
   "metadata": {},
   "outputs": [],
   "source": [
    "a.spectrum.setpoints = (a.freq_axis,)"
   ]
  },
  {
   "cell_type": "markdown",
   "metadata": {},
   "source": [
    "## Measurement"
   ]
  },
  {
   "cell_type": "markdown",
   "metadata": {},
   "source": [
    "We can also directly consume the parameter in a measurement without defining the setpoints of the parameter again. The setpoints are automatically obtained from the definition of the `ParameterWithSetpoint` instance. "
   ]
  },
  {
   "cell_type": "code",
   "execution_count": 18,
   "metadata": {},
   "outputs": [
    {
     "name": "stdout",
     "output_type": "stream",
     "text": [
      "Starting experimental run with id: 1. \n"
     ]
    }
   ],
   "source": [
    "meas = Measurement()\n",
    "meas.register_parameter(a.spectrum)\n",
    "\n",
    "with meas.run() as datasaver:\n",
    "    datasaver.add_result((a.freq_axis, a.freq_axis()),\n",
    "                         (a.spectrum, a.spectrum()))\n",
    "    dataset = datasaver.dataset"
   ]
  },
  {
   "cell_type": "markdown",
   "metadata": {},
   "source": [
    "And plot it"
   ]
  },
  {
   "cell_type": "code",
   "execution_count": 19,
   "metadata": {},
   "outputs": [
    {
     "data": {
      "text/plain": [
       "([<matplotlib.axes._subplots.AxesSubplot at 0x7fd268d61790>], [None])"
      ]
     },
     "execution_count": 19,
     "metadata": {},
     "output_type": "execute_result"
    },
    {
     "data": {
      "image/png": "[encoded data removed]",
      "text/plain": [
       "<Figure size 432x288 with 1 Axes>"
      ]
     },
     "metadata": {
      "needs_background": "light"
     },
     "output_type": "display_data"
    }
   ],
   "source": [
    "plot_dataset(dataset)"
   ]
  },
  {
   "cell_type": "markdown",
   "metadata": {},
   "source": [
    "To reduce the amount of typing a simple convenience function is provided that will take a `ParameterWithSetpoints` and get both its values and the setpoints values and return them as tuples for direct insertion into the Dataset."
   ]
  },
  {
   "cell_type": "code",
   "execution_count": 20,
   "metadata": {
    "scrolled": true
   },
   "outputs": [
    {
     "data": {
      "text/plain": [
       "[(<__main__.GeneratedSetPoints: freq_axis at 140541678011536>,\n",
       "  array([  0.,   1.,   2.,   3.,   4.,   5.,   6.,   7.,   8.,   9.,  10.,\n",
       "          11.,  12.,  13.,  14.,  15.,  16.,  17.,  18.,  19.,  20.,  21.,\n",
       "          22.,  23.,  24.,  25.,  26.,  27.,  28.,  29.,  30.,  31.,  32.,\n",
       "          33.,  34.,  35.,  36.,  37.,  38.,  39.,  40.,  41.,  42.,  43.,\n",
       "          44.,  45.,  46.,  47.,  48.,  49.,  50.,  51.,  52.,  53.,  54.,\n",
       "          55.,  56.,  57.,  58.,  59.,  60.,  61.,  62.,  63.,  64.,  65.,\n",
       "          66.,  67.,  68.,  69.,  70.,  71.,  72.,  73.,  74.,  75.,  76.,\n",
       "          77.,  78.,  79.,  80.,  81.,  82.,  83.,  84.,  85.,  86.,  87.,\n",
       "          88.,  89.,  90.,  91.,  92.,  93.,  94.,  95.,  96.,  97.,  98.,\n",
       "          99., 100., 101., 102., 103., 104., 105., 106., 107., 108., 109.,\n",
       "         110., 111., 112., 113., 114., 115., 116., 117., 118., 119., 120.,\n",
       "         121., 122., 123., 124., 125., 126., 127., 128., 129., 130., 131.,\n",
       "         132., 133., 134., 135., 136., 137., 138., 139., 140., 141., 142.,\n",
       "         143., 144., 145., 146., 147., 148., 149., 150., 151., 152., 153.,\n",
       "         154., 155., 156., 157., 158., 159., 160., 161., 162., 163., 164.,\n",
       "         165., 166., 167., 168., 169., 170., 171., 172., 173., 174., 175.,\n",
       "         176., 177., 178., 179., 180., 181., 182., 183., 184., 185., 186.,\n",
       "         187., 188., 189., 190., 191., 192., 193., 194., 195., 196., 197.,\n",
       "         198., 199., 200., 201., 202., 203., 204., 205., 206., 207., 208.,\n",
       "         209., 210., 211., 212., 213., 214., 215., 216., 217., 218., 219.,\n",
       "         220., 221., 222., 223., 224., 225., 226., 227., 228., 229., 230.,\n",
       "         231., 232., 233., 234., 235., 236., 237., 238., 239., 240., 241.,\n",
       "         242., 243., 244., 245., 246., 247., 248., 249., 250., 251., 252.,\n",
       "         253., 254., 255., 256., 257., 258., 259., 260., 261., 262., 263.,\n",
       "         264., 265., 266., 267., 268., 269., 270., 271., 272., 273., 274.,\n",
       "         275., 276., 277., 278., 279., 280., 281., 282., 283., 284., 285.,\n",
       "         286., 287., 288., 289., 290., 291., 292., 293., 294., 295., 296.,\n",
       "         297., 298., 299., 300., 301., 302., 303., 304., 305., 306., 307.,\n",
       "         308., 309., 310., 311., 312., 313., 314., 315., 316., 317., 318.,\n",
       "         319., 320., 321., 322., 323., 324., 325., 326., 327., 328., 329.,\n",
       "         330., 331., 332., 333., 334., 335., 336., 337., 338., 339., 340.,\n",
       "         341., 342., 343., 344., 345., 346., 347., 348., 349., 350., 351.,\n",
       "         352., 353., 354., 355., 356., 357., 358., 359., 360., 361., 362.,\n",
       "         363., 364., 365., 366., 367., 368., 369., 370., 371., 372., 373.,\n",
       "         374., 375., 376., 377., 378., 379., 380., 381., 382., 383., 384.,\n",
       "         385., 386., 387., 388., 389., 390., 391., 392., 393., 394., 395.,\n",
       "         396., 397., 398., 399., 400., 401., 402., 403., 404., 405., 406.,\n",
       "         407., 408., 409., 410., 411., 412., 413., 414., 415., 416., 417.,\n",
       "         418., 419., 420., 421., 422., 423., 424., 425., 426., 427., 428.,\n",
       "         429., 430., 431., 432., 433., 434., 435., 436., 437., 438., 439.,\n",
       "         440., 441., 442., 443., 444., 445., 446., 447., 448., 449., 450.,\n",
       "         451., 452., 453., 454., 455., 456., 457., 458., 459., 460., 461.,\n",
       "         462., 463., 464., 465., 466., 467., 468., 469., 470., 471., 472.,\n",
       "         473., 474., 475., 476., 477., 478., 479., 480., 481., 482., 483.,\n",
       "         484., 485., 486., 487., 488., 489., 490., 491., 492., 493., 494.,\n",
       "         495., 496., 497., 498., 499., 500.])),\n",
       " (<__main__.DummyArray: spectrum at 140541684421328>,\n",
       "  array([3.05851724e-01, 1.22101418e-01, 7.95118708e-01, 2.63278440e-01,\n",
       "         7.80785528e-01, 6.36200818e-01, 8.98788525e-01, 6.57616246e-01,\n",
       "         2.57303253e-02, 4.37982039e-01, 2.74339169e-01, 6.35737138e-01,\n",
       "         6.91167913e-01, 2.26446765e-01, 3.78618244e-01, 1.42916492e-01,\n",
       "         6.78674472e-02, 2.41402632e-01, 3.01719877e-01, 6.83017274e-01,\n",
       "         4.35466780e-01, 8.94990692e-01, 5.39959874e-01, 4.16557884e-01,\n",
       "         2.02375781e-01, 6.90386846e-01, 2.66736332e-01, 9.82411376e-01,\n",
       "         5.49758406e-01, 6.39715014e-01, 7.97257109e-01, 8.31769295e-01,\n",
       "         5.54581166e-01, 3.56347708e-01, 5.56015496e-01, 4.64019900e-01,\n",
       "         8.74567134e-01, 6.33643296e-01, 2.11633360e-01, 5.55714835e-01,\n",
       "         9.89737191e-01, 1.48974138e-01, 5.30401079e-02, 5.61061335e-01,\n",
       "         7.27545853e-01, 2.73421796e-01, 2.68952220e-01, 6.74201038e-01,\n",
       "         9.04792512e-01, 5.35940626e-01, 7.07540826e-01, 7.46895015e-01,\n",
       "         1.04046878e-01, 6.29286123e-01, 3.34758494e-01, 5.28004126e-01,\n",
       "         7.14409368e-01, 2.98233837e-01, 5.38415488e-02, 4.82390853e-01,\n",
       "         6.12073325e-01, 7.23145508e-01, 9.88119367e-01, 1.71788248e-01,\n",
       "         5.42243586e-01, 7.43609911e-01, 7.21107356e-01, 9.19664385e-01,\n",
       "         7.92436507e-01, 5.37755861e-01, 5.67304208e-01, 1.25319949e-01,\n",
       "         6.37150347e-01, 2.08484380e-01, 2.27380764e-01, 9.93269946e-01,\n",
       "         4.50574764e-01, 4.41276179e-01, 3.26703414e-01, 7.89782485e-01,\n",
       "         8.01301910e-01, 2.62446260e-01, 4.02919195e-01, 9.13884612e-01,\n",
       "         9.65708064e-01, 1.54498787e-02, 5.33052022e-01, 8.80155271e-01,\n",
       "         4.19976309e-02, 5.99134307e-01, 5.45055662e-01, 1.46738949e-01,\n",
       "         2.94517539e-01, 5.18117593e-01, 8.88486017e-01, 9.27480790e-01,\n",
       "         4.88184036e-01, 8.36005036e-01, 3.76479885e-01, 2.60034134e-01,\n",
       "         6.69677820e-01, 6.73625763e-03, 5.86374210e-01, 3.14132952e-01,\n",
       "         1.44681384e-02, 1.02942176e-01, 4.22061792e-01, 4.85177821e-01,\n",
       "         6.54678921e-02, 1.62934755e-02, 5.34902991e-01, 2.07860642e-01,\n",
       "         7.24123896e-01, 6.21519800e-01, 7.16804178e-01, 7.09525286e-01,\n",
       "         8.93711767e-02, 2.86661328e-01, 9.90645052e-01, 4.83825748e-01,\n",
       "         9.53320921e-01, 8.96905391e-01, 8.11330683e-04, 2.66496703e-01,\n",
       "         8.24757312e-01, 4.92965267e-01, 1.07879885e-01, 2.81154780e-01,\n",
       "         9.86876241e-01, 8.02964059e-01, 4.98346034e-01, 7.14282056e-01,\n",
       "         7.41114505e-01, 2.58994668e-01, 9.41972028e-02, 3.13716872e-01,\n",
       "         9.04592778e-01, 4.22900519e-01, 7.19681070e-01, 1.72694417e-01,\n",
       "         7.25416281e-01, 6.53459376e-01, 2.61349185e-01, 6.76352582e-01,\n",
       "         2.36006637e-01, 8.71108490e-01, 5.98174068e-01, 2.50276392e-01,\n",
       "         2.56488326e-01, 6.43959518e-01, 9.47672923e-01, 9.99146517e-01,\n",
       "         6.29846013e-01, 4.22898290e-01, 4.32884320e-01, 9.61749811e-01,\n",
       "         3.09168783e-01, 4.89352410e-01, 4.24089605e-01, 3.77781378e-01,\n",
       "         3.97161068e-01, 9.15895400e-01, 7.00307327e-01, 6.02518049e-03,\n",
       "         3.27273006e-01, 9.69060135e-01, 7.69162630e-01, 7.62395091e-02,\n",
       "         8.10160676e-01, 8.75232356e-01, 2.19235023e-01, 1.97370222e-01,\n",
       "         4.76687920e-01, 7.71904835e-03, 1.02482723e-01, 2.70797421e-01,\n",
       "         3.02156703e-01, 8.27374386e-01, 4.39915892e-01, 6.25205216e-01,\n",
       "         3.04214679e-01, 2.68868497e-01, 6.09600989e-01, 6.25098345e-01,\n",
       "         2.55009905e-01, 1.70728097e-01, 9.35332960e-01, 5.09586780e-01,\n",
       "         1.83233869e-02, 9.47418570e-01, 2.34443254e-01, 7.00914942e-01,\n",
       "         8.95733316e-01, 8.72052177e-01, 8.47555333e-01, 5.95477632e-01,\n",
       "         3.42734464e-01, 5.61739208e-01, 1.68747968e-01, 8.58828680e-01,\n",
       "         6.55633449e-01, 9.99316953e-01, 3.76394902e-02, 4.27108369e-01,\n",
       "         1.77565383e-01, 3.67164377e-01, 5.28243027e-01, 1.19478373e-01,\n",
       "         3.39508376e-01, 1.88938584e-01, 4.73857596e-01, 5.55252229e-01,\n",
       "         6.70428887e-01, 2.24272631e-01, 1.91329658e-02, 6.25957771e-02,\n",
       "         9.95240878e-01, 8.97679516e-01, 8.66832036e-01, 6.92703031e-01,\n",
       "         5.64396905e-01, 3.57880009e-01, 6.71195097e-01, 3.39053782e-01,\n",
       "         4.75608739e-01, 5.93075310e-01, 5.49976454e-01, 2.16974783e-01,\n",
       "         4.99266924e-01, 7.69175333e-01, 4.74950841e-01, 5.54310661e-01,\n",
       "         9.31795843e-01, 6.16811930e-01, 4.85266877e-01, 6.16987751e-01,\n",
       "         9.42354413e-01, 3.57377055e-01, 5.39608992e-01, 8.01497970e-01,\n",
       "         9.27374081e-01, 2.24154570e-01, 8.28308779e-01, 5.17581066e-01,\n",
       "         7.51482924e-02, 5.00700205e-01, 7.39844690e-01, 2.45717527e-01,\n",
       "         9.24843485e-01, 4.28194624e-01, 3.57623565e-01, 1.72227286e-01,\n",
       "         3.43484065e-01, 9.42615173e-01, 6.93365326e-01, 7.91843629e-01,\n",
       "         6.71488530e-01, 4.73738853e-01, 9.58587850e-01, 5.47765145e-01,\n",
       "         6.76970164e-01, 3.68939172e-01, 6.96647084e-01, 2.59993898e-01,\n",
       "         2.76600191e-01, 4.64748682e-01, 9.43194994e-01, 2.51404193e-01,\n",
       "         1.55557057e-01, 1.61319025e-02, 5.53195013e-01, 8.28643913e-01,\n",
       "         4.38598839e-01, 4.60230140e-01, 7.23822024e-01, 8.64495463e-01,\n",
       "         6.45340972e-01, 8.59178233e-01, 3.63630080e-01, 9.37945432e-01,\n",
       "         8.11750786e-01, 2.71182044e-01, 8.49616650e-01, 8.10132078e-01,\n",
       "         7.62134779e-01, 8.58586243e-01, 8.04634341e-01, 7.66760867e-01,\n",
       "         1.27297154e-01, 1.32647414e-01, 5.68646461e-01, 1.58135485e-01,\n",
       "         2.67100422e-01, 8.83161488e-01, 6.61136896e-01, 3.95493395e-03,\n",
       "         4.88772810e-01, 7.46490482e-01, 1.13387835e-01, 5.20984241e-01,\n",
       "         1.89947583e-02, 5.67006882e-01, 7.53023438e-01, 9.93859285e-01,\n",
       "         9.36257082e-01, 1.15543824e-01, 5.38920156e-01, 1.94972763e-01,\n",
       "         3.78939429e-01, 3.60439166e-01, 9.84315047e-01, 6.18879111e-01,\n",
       "         6.44716276e-01, 9.91788376e-01, 4.45263382e-02, 7.26460774e-01,\n",
       "         7.26434634e-02, 5.44217067e-01, 7.79069188e-01, 3.06745079e-01,\n",
       "         6.97219690e-01, 9.23736871e-01, 1.13197639e-01, 6.86257082e-01,\n",
       "         1.92075144e-01, 7.33426763e-01, 5.82617971e-01, 9.21033974e-01,\n",
       "         2.55466162e-01, 8.50568019e-01, 6.05023651e-01, 2.83442472e-01,\n",
       "         7.61736901e-01, 6.54358670e-01, 5.03768703e-01, 5.68260177e-01,\n",
       "         8.10431098e-01, 2.11422182e-01, 3.14750744e-01, 3.97379985e-01,\n",
       "         5.71339426e-01, 9.57008603e-01, 9.46993162e-01, 1.79903324e-01,\n",
       "         1.16723417e-01, 7.78041834e-01, 3.04415552e-01, 6.43988503e-01,\n",
       "         3.67512442e-01, 6.40307650e-02, 1.78447996e-01, 4.19587147e-01,\n",
       "         3.49880115e-01, 9.89942071e-01, 7.02166479e-03, 5.13281246e-01,\n",
       "         1.89137061e-01, 8.13772577e-03, 7.00932976e-01, 9.98472921e-01,\n",
       "         7.05813353e-01, 8.02943219e-01, 5.38881269e-01, 3.72784544e-01,\n",
       "         9.57273707e-01, 2.11671564e-01, 4.14628291e-02, 2.84939539e-01,\n",
       "         1.93077511e-01, 3.73259555e-01, 8.51107526e-01, 2.05300052e-01,\n",
       "         4.96355723e-01, 2.28156076e-01, 4.63143885e-01, 8.28253322e-01,\n",
       "         5.48249617e-01, 6.47764489e-01, 9.40463696e-02, 5.39722672e-01,\n",
       "         1.59762816e-01, 7.30135933e-02, 5.08822820e-01, 7.77135194e-02,\n",
       "         9.66486825e-02, 5.10956830e-01, 9.75911112e-01, 1.04477699e-01,\n",
       "         6.37078505e-01, 2.04158714e-01, 6.63722493e-01, 1.12678917e-01,\n",
       "         6.17892659e-01, 6.70470874e-02, 1.03428593e-01, 8.85509646e-01,\n",
       "         7.69382642e-01, 5.97059203e-01, 6.69705759e-02, 2.24132305e-01,\n",
       "         2.52812155e-01, 4.50985644e-01, 5.32877758e-02, 3.73394870e-01,\n",
       "         4.52207233e-01, 1.09344172e-01, 9.22506675e-01, 8.11345491e-01,\n",
       "         8.09829123e-01, 4.43419235e-01, 8.21640431e-01, 6.54847502e-01,\n",
       "         6.76547096e-01, 9.05312917e-01, 2.39741416e-01, 1.18920136e-01,\n",
       "         1.65428982e-01, 1.11337328e-01, 7.44492875e-01, 4.47284155e-02,\n",
       "         2.70746409e-01, 3.45067157e-02, 7.93048230e-01, 8.45088538e-01,\n",
       "         2.25386544e-02, 1.46180687e-01, 1.96360670e-01, 4.15960523e-01,\n",
       "         8.57600487e-01, 2.37366188e-01, 7.69663583e-01, 9.06062750e-02,\n",
       "         8.28449062e-01, 6.12401279e-01, 9.64264476e-02, 4.18170244e-02,\n",
       "         5.46679515e-01, 1.12001193e-01, 6.43078911e-01, 6.10356647e-01,\n",
       "         9.21969015e-01, 5.68980879e-01, 6.84332854e-01, 5.17081239e-01,\n",
       "         8.66100670e-01, 5.32770738e-01, 4.07691130e-01, 4.07773255e-01,\n",
       "         1.41170973e-01, 5.84830064e-01, 8.55559574e-01, 3.59449136e-01,\n",
       "         7.75265863e-01, 8.57851061e-01, 9.17568678e-01, 9.44237708e-01,\n",
       "         3.44339080e-01, 7.22154008e-01, 6.81168273e-01, 2.49848278e-01,\n",
       "         7.89459575e-01, 9.81941926e-01, 2.98764990e-02, 9.58138843e-01,\n",
       "         2.89979524e-01, 1.33467123e-01, 9.13067698e-01, 5.37204390e-01,\n",
       "         2.17626665e-01, 1.08684547e-01, 6.48098304e-01, 2.73953424e-01,\n",
       "         2.07257181e-01, 2.67925252e-01, 4.05342456e-01, 4.81840075e-01,\n",
       "         1.04597463e-01, 2.41966989e-02, 3.78026522e-01, 3.51711340e-01,\n",
       "         3.89226875e-01, 8.39442309e-01, 6.14148975e-01, 3.91680404e-01,\n",
       "         6.60951834e-01, 2.74548600e-01, 1.14521398e-01, 6.89680229e-01,\n",
       "         3.39151118e-01, 6.94925181e-01, 7.80419149e-01, 2.01511701e-01,\n",
       "         8.86923213e-01, 5.06233038e-01, 6.73423164e-01, 9.29569709e-01,\n",
       "         1.05921046e-02, 9.83089016e-01, 3.81904579e-01, 5.93657112e-02,\n",
       "         3.69750209e-01]))]"
      ]
     },
     "execution_count": 20,
     "metadata": {},
     "output_type": "execute_result"
    }
   ],
   "source": [
    "expand_setpoints_helper(a.spectrum)"
   ]
  },
  {
   "cell_type": "code",
   "execution_count": 21,
   "metadata": {},
   "outputs": [
    {
     "name": "stdout",
     "output_type": "stream",
     "text": [
      "Starting experimental run with id: 2. \n"
     ]
    }
   ],
   "source": [
    "meas = Measurement()\n",
    "meas.register_parameter(a.spectrum)\n",
    "\n",
    "with meas.run() as datasaver:\n",
    "    datasaver.add_result(*expand_setpoints_helper(a.spectrum))\n",
    "    \n",
    "    dataid = datasaver.run_id"
   ]
  },
  {
   "cell_type": "code",
   "execution_count": null,
   "metadata": {},
   "outputs": [],
   "source": []
  }
 ],
 "metadata": {
  "kernelspec": {
   "display_name": "Python 3",
   "language": "python",
   "name": "python3"
  },
  "language_info": {
   "codemirror_mode": {
    "name": "ipython",
    "version": 3
   },
   "file_extension": ".py",
   "mimetype": "text/x-python",
   "name": "python",
   "nbconvert_exporter": "python",
   "pygments_lexer": "ipython3",
   "version": "3.7.7"
  },
  "toc": {
   "base_numbering": 1,
   "nav_menu": {},
   "number_sections": true,
   "sideBar": true,
   "skip_h1_title": false,
   "title_cell": "Table of Contents",
   "title_sidebar": "Contents",
   "toc_cell": false,
   "toc_position": {},
   "toc_section_display": true,
   "toc_window_display": false
  },
  "varInspector": {
   "cols": {
    "lenName": 16,
    "lenType": 16,
    "lenVar": 40
   },
   "kernels_config": {
    "python": {
     "delete_cmd_postfix": "",
     "delete_cmd_prefix": "del ",
     "library": "var_list.py",
     "varRefreshCmd": "print(var_dic_list())"
    },
    "r": {
     "delete_cmd_postfix": ") ",
     "delete_cmd_prefix": "rm(",
     "library": "var_list.r",
     "varRefreshCmd": "cat(var_dic_list()) "
    }
   },
   "types_to_exclude": [
    "module",
    "function",
    "builtin_function_or_method",
    "instance",
    "_Feature"
   ],
   "window_display": false
  }
 },
 "nbformat": 4,
 "nbformat_minor": 2
}
