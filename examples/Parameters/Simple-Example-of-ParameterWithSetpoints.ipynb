{
 "cells": [
  {
   "cell_type": "markdown",
   "metadata": {},
   "source": [
    "# Simple Example of ParameterWithSetpoints\n",
    "This notebook provides an example for writing a simple driver with a parameter that has setpoints. Let's name this parameter that has setpoints as \"y\". Then, the setpoints, say \"x1, x2, x3 ..\", are the parameters on which the parameter \n",
    "\"y\" depends upon. Meaning \"y\" is a function of \"x1, x2, x3 ...\" where \"x1, x2, x3 ...\" are known as the setpoints of parameter \"y\".\n",
    "\n",
    "This is most likely to be useful for instruments that return arrays of results. In this notebook, we will show an example of this."
   ]
  },
  {
   "cell_type": "code",
   "execution_count": 1,
   "metadata": {},
   "outputs": [],
   "source": [
    "import numpy as np\n",
    "import os"
   ]
  },
  {
   "cell_type": "code",
   "execution_count": 2,
   "metadata": {},
   "outputs": [
    {
     "name": "stdout",
     "output_type": "stream",
     "text": [
      "Logging hadn't been started.\n",
      "Activating auto-logging. Current session state plus future input saved.\n",
      "Filename       : /home/vsts/.qcodes/logs/command_history.log\n",
      "Mode           : append\n",
      "Output logging : True\n",
      "Raw input log  : False\n",
      "Timestamping   : True\n",
      "State          : active\n"
     ]
    },
    {
     "name": "stdout",
     "output_type": "stream",
     "text": [
      "Qcodes Logfile : /home/vsts/.qcodes/logs/200323-23350-qcodes.log\n"
     ]
    }
   ],
   "source": [
    "from qcodes.dataset.plotting import plot_dataset\n",
    "from qcodes.utils.validators import Numbers, Arrays\n",
    "from qcodes.instrument.base import Instrument\n",
    "from qcodes.dataset.measurements import Measurement"
   ]
  },
  {
   "cell_type": "code",
   "execution_count": 3,
   "metadata": {},
   "outputs": [],
   "source": [
    "from qcodes.dataset.sqlite.database import initialise_or_create_database_at\n",
    "from qcodes.dataset.experiment_container import load_or_create_experiment"
   ]
  },
  {
   "cell_type": "code",
   "execution_count": 4,
   "metadata": {},
   "outputs": [],
   "source": [
    "from qcodes.instrument.parameter import ParameterWithSetpoints, Parameter\n",
    "from qcodes.instrument.parameter import expand_setpoints_helper"
   ]
  },
  {
   "cell_type": "markdown",
   "metadata": {},
   "source": [
    "First, we define a dummy instrument that returns something like a frequency spectrum starting from a frequency given by `f_start` to a frequency given by `f_stop` in `n_points` steps. \n",
    "\n",
    "The extra functionality of the `ParameterWithSetpoints` is implemented by giving it a reference to one or more parameters that acts like its setpoints. \n",
    "\n",
    "To setup a `ParameterWithSetpoints` we have to do two things in addition to what we do for a normal parameter.\n",
    "\n",
    "* Define one or more parameter for the setpoints (one for each dimension of the array and let the `ParameterWithSetpoints` know that these are the setpoints.\n",
    "* Give both the setpoints parameter(s) and the `ParameterWithSetpoints` a `validator` of type `Arrays` with a shape. The shapes should be such that the combined shape of the setpoints matches the shape of the `ParameterWithSetpoints`. Note that if the shape changes with the setting of the instrument, it can be defined by another parameter as shown below. "
   ]
  },
  {
   "cell_type": "code",
   "execution_count": 5,
   "metadata": {},
   "outputs": [],
   "source": [
    "class GeneratedSetPoints(Parameter):\n",
    "    \"\"\"\n",
    "    A parameter that generates a setpoint array from start, stop and num points\n",
    "    parameters.\n",
    "    \"\"\"\n",
    "    def __init__(self, startparam, stopparam, numpointsparam, *args, **kwargs):\n",
    "        super().__init__(*args, **kwargs)\n",
    "        self._startparam = startparam\n",
    "        self._stopparam = stopparam\n",
    "        self._numpointsparam = numpointsparam\n",
    "\n",
    "    def get_raw(self):\n",
    "        return np.linspace(self._startparam(), self._stopparam(),\n",
    "                              self._numpointsparam())\n",
    "\n",
    "class DummyArray(ParameterWithSetpoints):\n",
    "    \n",
    "    def get_raw(self):\n",
    "        npoints = self.root_instrument.n_points.get_latest()\n",
    "        return np.random.rand(npoints)\n",
    "    \n",
    "\n",
    "class DummySpectrumAnalyzer(Instrument):\n",
    "    \n",
    "    def __init__(self, name, **kwargs):\n",
    "        \n",
    "        super().__init__(name, **kwargs)\n",
    "            \n",
    "\n",
    "        self.add_parameter('f_start',\n",
    "                           initial_value=0,\n",
    "                           unit='Hz',\n",
    "                           label='f start',\n",
    "                           vals=Numbers(0,1e3),\n",
    "                           get_cmd=None,\n",
    "                           set_cmd=None)\n",
    "\n",
    "        self.add_parameter('f_stop',\n",
    "                           unit='Hz',\n",
    "                           label='f stop',\n",
    "                           vals=Numbers(1,1e3),\n",
    "                           get_cmd=None,\n",
    "                           set_cmd=None)\n",
    "\n",
    "        self.add_parameter('n_points',\n",
    "                           unit='',\n",
    "                           initial_value=10,\n",
    "                           vals=Numbers(1,1e3),\n",
    "                           get_cmd=None,\n",
    "                           set_cmd=None)\n",
    "        \n",
    "        self.add_parameter('freq_axis',\n",
    "                           unit='Hz',\n",
    "                           label='Freq Axis',\n",
    "                           parameter_class=GeneratedSetPoints,\n",
    "                           startparam=self.f_start,\n",
    "                           stopparam=self.f_stop,\n",
    "                           numpointsparam=self.n_points,\n",
    "                           vals=Arrays(shape=(self.n_points.get_latest,)))\n",
    "                           \n",
    "        self.add_parameter('spectrum',\n",
    "                   unit='dBm',\n",
    "                   setpoints=(self.freq_axis,),\n",
    "                   label='Spectrum',\n",
    "                   parameter_class=DummyArray,\n",
    "                   vals=Arrays(shape=(self.n_points.get_latest,)))\n",
    "                "
   ]
  },
  {
   "cell_type": "markdown",
   "metadata": {},
   "source": [
    "In the above example, the shape is defined by the parameter `n_points` that defines how many samples our `DummySpectrumAnalyzer` returns.\n",
    "\n",
    "This means that the validation will call the function to get `n_points` twice for each `get` of the parameter. This may be too slow, however, if you (as the driver-writer) can guarantee that the cached value for `n_points` will never be out of sync with the value stored in the instrument, `n_points` may be replaced by it's latest known value such that the `validator` reads:\n",
    "```python\n",
    "vals=Arrays(shape=(self.n_points.get_latest))\n",
    "```\n",
    "\n",
    "This avoids any additional call to the instrument. In the same way, the arguments to the `freq_axis` parameter that defines the start, stop and number of points can be replaced by their latest value if the instrument allows it.\n",
    "\n"
   ]
  },
  {
   "cell_type": "code",
   "execution_count": 6,
   "metadata": {},
   "outputs": [
    {
     "name": "stdout",
     "output_type": "stream",
     "text": [
      "\r",
      "0it [00:00, ?it/s]"
     ]
    },
    {
     "name": "stdout",
     "output_type": "stream",
     "text": [
      "\r",
      "Upgrading database; v0 -> v1: : 0it [00:00, ?it/s]"
     ]
    },
    {
     "name": "stdout",
     "output_type": "stream",
     "text": [
      "\r",
      "Upgrading database; v0 -> v1: : 0it [00:00, ?it/s]"
     ]
    },
    {
     "name": "stdout",
     "output_type": "stream",
     "text": [
      "\n",
      "\r",
      "  0%|          | 0/1 [00:00<?, ?it/s]"
     ]
    },
    {
     "name": "stdout",
     "output_type": "stream",
     "text": [
      "\r",
      "Upgrading database; v1 -> v2:   0%|          | 0/1 [00:00<?, ?it/s]"
     ]
    },
    {
     "name": "stdout",
     "output_type": "stream",
     "text": [
      "\r",
      "Upgrading database; v1 -> v2: 100%|██████████| 1/1 [00:00<00:00, 1066.71it/s]"
     ]
    },
    {
     "name": "stdout",
     "output_type": "stream",
     "text": [
      "\n",
      "\r",
      "0it [00:00, ?it/s]"
     ]
    },
    {
     "name": "stdout",
     "output_type": "stream",
     "text": [
      "\r",
      "Upgrading database; v2 -> v3: : 0it [00:00, ?it/s]"
     ]
    },
    {
     "name": "stdout",
     "output_type": "stream",
     "text": [
      "\r",
      "Upgrading database; v2 -> v3: : 0it [00:00, ?it/s]"
     ]
    },
    {
     "name": "stdout",
     "output_type": "stream",
     "text": [
      "\n",
      "\r",
      "0it [00:00, ?it/s]"
     ]
    },
    {
     "name": "stdout",
     "output_type": "stream",
     "text": [
      "\r",
      "Upgrading database; v3 -> v4: : 0it [00:00, ?it/s]"
     ]
    },
    {
     "name": "stdout",
     "output_type": "stream",
     "text": [
      "\r",
      "Upgrading database; v3 -> v4: : 0it [00:00, ?it/s]"
     ]
    },
    {
     "name": "stdout",
     "output_type": "stream",
     "text": [
      "\n",
      "\r",
      "  0%|          | 0/1 [00:00<?, ?it/s]"
     ]
    },
    {
     "name": "stdout",
     "output_type": "stream",
     "text": [
      "\r",
      "Upgrading database; v4 -> v5:   0%|          | 0/1 [00:00<?, ?it/s]"
     ]
    },
    {
     "name": "stdout",
     "output_type": "stream",
     "text": [
      "\r",
      "Upgrading database; v4 -> v5: 100%|██████████| 1/1 [00:00<00:00, 816.33it/s]"
     ]
    },
    {
     "name": "stdout",
     "output_type": "stream",
     "text": [
      "\n",
      "\r",
      "0it [00:00, ?it/s]"
     ]
    },
    {
     "name": "stdout",
     "output_type": "stream",
     "text": [
      "\r",
      "Upgrading database; v5 -> v6: : 0it [00:00, ?it/s]"
     ]
    },
    {
     "name": "stdout",
     "output_type": "stream",
     "text": [
      "\r",
      "Upgrading database; v5 -> v6: : 0it [00:00, ?it/s]"
     ]
    },
    {
     "name": "stdout",
     "output_type": "stream",
     "text": [
      "\n",
      "\r",
      "  0%|          | 0/1 [00:00<?, ?it/s]"
     ]
    },
    {
     "name": "stdout",
     "output_type": "stream",
     "text": [
      "\r",
      "Upgrading database; v6 -> v7:   0%|          | 0/1 [00:00<?, ?it/s]"
     ]
    },
    {
     "name": "stdout",
     "output_type": "stream",
     "text": [
      "\r",
      "Upgrading database; v6 -> v7: 100%|██████████| 1/1 [00:00<00:00, 378.38it/s]"
     ]
    },
    {
     "name": "stdout",
     "output_type": "stream",
     "text": [
      "\n",
      "\r",
      "  0%|          | 0/1 [00:00<?, ?it/s]"
     ]
    },
    {
     "name": "stdout",
     "output_type": "stream",
     "text": [
      "\r",
      "Upgrading database; v7 -> v8:   0%|          | 0/1 [00:00<?, ?it/s]"
     ]
    },
    {
     "name": "stdout",
     "output_type": "stream",
     "text": [
      "\r",
      "Upgrading database; v7 -> v8: 100%|██████████| 1/1 [00:00<00:00, 486.18it/s]"
     ]
    },
    {
     "name": "stdout",
     "output_type": "stream",
     "text": [
      "\n",
      "\r",
      "  0%|          | 0/1 [00:00<?, ?it/s]"
     ]
    },
    {
     "name": "stdout",
     "output_type": "stream",
     "text": [
      "\r",
      "Upgrading database; v8 -> v9:   0%|          | 0/1 [00:00<?, ?it/s]"
     ]
    },
    {
     "name": "stdout",
     "output_type": "stream",
     "text": [
      "\r",
      "Upgrading database; v8 -> v9: 100%|██████████| 1/1 [00:00<00:00, 871.82it/s]"
     ]
    },
    {
     "name": "stdout",
     "output_type": "stream",
     "text": [
      "\n"
     ]
    },
    {
     "data": {
      "text/plain": [
       "tutorial_ParameterWithSetpoints#no sample#1@/home/vsts/work/1/s/docs/examples/Parameters/tutorial_paramter_with_setpoints.db\n",
       "----------------------------------------------------------------------------------------------------------------------------"
      ]
     },
     "execution_count": 6,
     "metadata": {},
     "output_type": "execute_result"
    }
   ],
   "source": [
    "tutorial_db_path = os.path.join(os.getcwd(), 'tutorial_paramter_with_setpoints.db')\n",
    "initialise_or_create_database_at(tutorial_db_path)\n",
    "load_or_create_experiment(experiment_name='tutorial_ParameterWithSetpoints', sample_name=\"no sample\")"
   ]
  },
  {
   "cell_type": "code",
   "execution_count": 7,
   "metadata": {},
   "outputs": [],
   "source": [
    "a = DummySpectrumAnalyzer('foobar')"
   ]
  },
  {
   "cell_type": "markdown",
   "metadata": {},
   "source": [
    "First we setup the limits of the spectrum"
   ]
  },
  {
   "cell_type": "code",
   "execution_count": 8,
   "metadata": {},
   "outputs": [],
   "source": [
    "a.f_start(0)\n",
    "a.f_stop(500)\n",
    "a.n_points(501)"
   ]
  },
  {
   "cell_type": "markdown",
   "metadata": {},
   "source": [
    "And we can grab the frequency axis"
   ]
  },
  {
   "cell_type": "code",
   "execution_count": 9,
   "metadata": {},
   "outputs": [
    {
     "data": {
      "text/plain": [
       "501"
      ]
     },
     "execution_count": 9,
     "metadata": {},
     "output_type": "execute_result"
    }
   ],
   "source": [
    "a.n_points()"
   ]
  },
  {
   "cell_type": "code",
   "execution_count": 10,
   "metadata": {
    "scrolled": false
   },
   "outputs": [
    {
     "data": {
      "text/plain": [
       "501"
      ]
     },
     "execution_count": 10,
     "metadata": {},
     "output_type": "execute_result"
    }
   ],
   "source": [
    "freq_axis = a.freq_axis()\n",
    "len(freq_axis)"
   ]
  },
  {
   "cell_type": "code",
   "execution_count": 11,
   "metadata": {},
   "outputs": [
    {
     "data": {
      "text/plain": [
       "array([0., 1., 2., 3., 4., 5., 6., 7., 8., 9.])"
      ]
     },
     "execution_count": 11,
     "metadata": {},
     "output_type": "execute_result"
    }
   ],
   "source": [
    "freq_axis[:10]"
   ]
  },
  {
   "cell_type": "markdown",
   "metadata": {},
   "source": [
    "As expected we get a result wit 501 points as we asked for an axis with 501 points. "
   ]
  },
  {
   "cell_type": "markdown",
   "metadata": {},
   "source": [
    "Above we have added a validator to the `freq_axis` parameter encoding the fact that this is an Array with `n_points`. Note that we do not have to supply the number of points as an integer but can supply a function that returns the valid number of points. This would normally be a QCoDeS parameter.\n",
    "\n",
    "This will be checked if we validate the output."
   ]
  },
  {
   "cell_type": "code",
   "execution_count": 12,
   "metadata": {},
   "outputs": [],
   "source": [
    "a.freq_axis.validate(a.freq_axis.get())"
   ]
  },
  {
   "cell_type": "markdown",
   "metadata": {},
   "source": [
    "Naturally, we can also get the spectrum. Getting the spectrum will automatically perform validation both for the shape of the parameter itself and the relation to the setpoint parameter(s)"
   ]
  },
  {
   "cell_type": "code",
   "execution_count": 13,
   "metadata": {
    "scrolled": true
   },
   "outputs": [
    {
     "data": {
      "text/plain": [
       "501"
      ]
     },
     "execution_count": 13,
     "metadata": {},
     "output_type": "execute_result"
    }
   ],
   "source": [
    "spectrum = a.spectrum.get()\n",
    "len(spectrum)"
   ]
  },
  {
   "cell_type": "markdown",
   "metadata": {},
   "source": [
    "When we validate a `ParameterWithSetpoints`, we automatically validate that the shape is consistent between the parameters and its setpoints. As well as validating the shape as above."
   ]
  },
  {
   "cell_type": "code",
   "execution_count": 14,
   "metadata": {},
   "outputs": [],
   "source": [
    "a.spectrum.validate(a.spectrum.get())"
   ]
  },
  {
   "cell_type": "markdown",
   "metadata": {},
   "source": [
    "The consistent shapes can be validated explicitly."
   ]
  },
  {
   "cell_type": "code",
   "execution_count": 15,
   "metadata": {},
   "outputs": [],
   "source": [
    "a.spectrum.validate_consistent_shape()"
   ]
  },
  {
   "cell_type": "markdown",
   "metadata": {},
   "source": [
    "We can inspect the setpoints of the spectrum."
   ]
  },
  {
   "cell_type": "code",
   "execution_count": 16,
   "metadata": {},
   "outputs": [
    {
     "data": {
      "text/plain": [
       "(<__main__.GeneratedSetPoints: freq_axis at 140557355536848>,)"
      ]
     },
     "execution_count": 16,
     "metadata": {},
     "output_type": "execute_result"
    }
   ],
   "source": [
    "a.spectrum.setpoints"
   ]
  },
  {
   "cell_type": "markdown",
   "metadata": {},
   "source": [
    "Or even change them."
   ]
  },
  {
   "cell_type": "code",
   "execution_count": 17,
   "metadata": {},
   "outputs": [],
   "source": [
    "a.spectrum.setpoints = (a.freq_axis,)"
   ]
  },
  {
   "cell_type": "markdown",
   "metadata": {},
   "source": [
    "## Measurement"
   ]
  },
  {
   "cell_type": "markdown",
   "metadata": {},
   "source": [
    "We can also directly consume the parameter in a measurement without defining the setpoints of the parameter again. The setpoints are automatically obtained from the definition of the `ParameterWithSetpoint` instance. "
   ]
  },
  {
   "cell_type": "code",
   "execution_count": 18,
   "metadata": {},
   "outputs": [
    {
     "name": "stdout",
     "output_type": "stream",
     "text": [
      "Starting experimental run with id: 1. \n"
     ]
    }
   ],
   "source": [
    "meas = Measurement()\n",
    "meas.register_parameter(a.spectrum)\n",
    "\n",
    "with meas.run() as datasaver:\n",
    "    datasaver.add_result((a.freq_axis, a.freq_axis()),\n",
    "                         (a.spectrum, a.spectrum()))\n",
    "    dataset = datasaver.dataset"
   ]
  },
  {
   "cell_type": "markdown",
   "metadata": {},
   "source": [
    "And plot it"
   ]
  },
  {
   "cell_type": "code",
   "execution_count": 19,
   "metadata": {},
   "outputs": [
    {
     "data": {
      "text/plain": [
       "([<matplotlib.axes._subplots.AxesSubplot at 0x7fd6364e7dd0>], [None])"
      ]
     },
     "execution_count": 19,
     "metadata": {},
     "output_type": "execute_result"
    },
    {
     "data": {
      "image/png": "[encoded data removed]",
      "text/plain": [
       "<Figure size 432x288 with 1 Axes>"
      ]
     },
     "metadata": {
      "needs_background": "light"
     },
     "output_type": "display_data"
    }
   ],
   "source": [
    "plot_dataset(dataset)"
   ]
  },
  {
   "cell_type": "markdown",
   "metadata": {},
   "source": [
    "To reduce the amount of typing a simple convenience function is provided that will take a `ParameterWithSetpoints` and get both its values and the setpoints values and return them as tuples for direct insertion into the Dataset."
   ]
  },
  {
   "cell_type": "code",
   "execution_count": 20,
   "metadata": {
    "scrolled": true
   },
   "outputs": [
    {
     "data": {
      "text/plain": [
       "[(<__main__.GeneratedSetPoints: freq_axis at 140557355536848>,\n",
       "  array([  0.,   1.,   2.,   3.,   4.,   5.,   6.,   7.,   8.,   9.,  10.,\n",
       "          11.,  12.,  13.,  14.,  15.,  16.,  17.,  18.,  19.,  20.,  21.,\n",
       "          22.,  23.,  24.,  25.,  26.,  27.,  28.,  29.,  30.,  31.,  32.,\n",
       "          33.,  34.,  35.,  36.,  37.,  38.,  39.,  40.,  41.,  42.,  43.,\n",
       "          44.,  45.,  46.,  47.,  48.,  49.,  50.,  51.,  52.,  53.,  54.,\n",
       "          55.,  56.,  57.,  58.,  59.,  60.,  61.,  62.,  63.,  64.,  65.,\n",
       "          66.,  67.,  68.,  69.,  70.,  71.,  72.,  73.,  74.,  75.,  76.,\n",
       "          77.,  78.,  79.,  80.,  81.,  82.,  83.,  84.,  85.,  86.,  87.,\n",
       "          88.,  89.,  90.,  91.,  92.,  93.,  94.,  95.,  96.,  97.,  98.,\n",
       "          99., 100., 101., 102., 103., 104., 105., 106., 107., 108., 109.,\n",
       "         110., 111., 112., 113., 114., 115., 116., 117., 118., 119., 120.,\n",
       "         121., 122., 123., 124., 125., 126., 127., 128., 129., 130., 131.,\n",
       "         132., 133., 134., 135., 136., 137., 138., 139., 140., 141., 142.,\n",
       "         143., 144., 145., 146., 147., 148., 149., 150., 151., 152., 153.,\n",
       "         154., 155., 156., 157., 158., 159., 160., 161., 162., 163., 164.,\n",
       "         165., 166., 167., 168., 169., 170., 171., 172., 173., 174., 175.,\n",
       "         176., 177., 178., 179., 180., 181., 182., 183., 184., 185., 186.,\n",
       "         187., 188., 189., 190., 191., 192., 193., 194., 195., 196., 197.,\n",
       "         198., 199., 200., 201., 202., 203., 204., 205., 206., 207., 208.,\n",
       "         209., 210., 211., 212., 213., 214., 215., 216., 217., 218., 219.,\n",
       "         220., 221., 222., 223., 224., 225., 226., 227., 228., 229., 230.,\n",
       "         231., 232., 233., 234., 235., 236., 237., 238., 239., 240., 241.,\n",
       "         242., 243., 244., 245., 246., 247., 248., 249., 250., 251., 252.,\n",
       "         253., 254., 255., 256., 257., 258., 259., 260., 261., 262., 263.,\n",
       "         264., 265., 266., 267., 268., 269., 270., 271., 272., 273., 274.,\n",
       "         275., 276., 277., 278., 279., 280., 281., 282., 283., 284., 285.,\n",
       "         286., 287., 288., 289., 290., 291., 292., 293., 294., 295., 296.,\n",
       "         297., 298., 299., 300., 301., 302., 303., 304., 305., 306., 307.,\n",
       "         308., 309., 310., 311., 312., 313., 314., 315., 316., 317., 318.,\n",
       "         319., 320., 321., 322., 323., 324., 325., 326., 327., 328., 329.,\n",
       "         330., 331., 332., 333., 334., 335., 336., 337., 338., 339., 340.,\n",
       "         341., 342., 343., 344., 345., 346., 347., 348., 349., 350., 351.,\n",
       "         352., 353., 354., 355., 356., 357., 358., 359., 360., 361., 362.,\n",
       "         363., 364., 365., 366., 367., 368., 369., 370., 371., 372., 373.,\n",
       "         374., 375., 376., 377., 378., 379., 380., 381., 382., 383., 384.,\n",
       "         385., 386., 387., 388., 389., 390., 391., 392., 393., 394., 395.,\n",
       "         396., 397., 398., 399., 400., 401., 402., 403., 404., 405., 406.,\n",
       "         407., 408., 409., 410., 411., 412., 413., 414., 415., 416., 417.,\n",
       "         418., 419., 420., 421., 422., 423., 424., 425., 426., 427., 428.,\n",
       "         429., 430., 431., 432., 433., 434., 435., 436., 437., 438., 439.,\n",
       "         440., 441., 442., 443., 444., 445., 446., 447., 448., 449., 450.,\n",
       "         451., 452., 453., 454., 455., 456., 457., 458., 459., 460., 461.,\n",
       "         462., 463., 464., 465., 466., 467., 468., 469., 470., 471., 472.,\n",
       "         473., 474., 475., 476., 477., 478., 479., 480., 481., 482., 483.,\n",
       "         484., 485., 486., 487., 488., 489., 490., 491., 492., 493., 494.,\n",
       "         495., 496., 497., 498., 499., 500.])),\n",
       " (<__main__.DummyArray: spectrum at 140557354602128>,\n",
       "  array([8.65914117e-01, 6.96877497e-01, 4.81473731e-01, 6.90763535e-01,\n",
       "         6.81545878e-02, 9.02487611e-01, 2.54750792e-02, 8.22079899e-01,\n",
       "         7.93449654e-01, 2.05877538e-01, 3.68444511e-01, 2.54749981e-01,\n",
       "         3.87734353e-01, 5.44686798e-02, 2.69771412e-01, 5.16142881e-01,\n",
       "         5.43809562e-01, 4.41145053e-02, 5.84849069e-04, 3.25799362e-01,\n",
       "         5.63943837e-01, 9.76713867e-01, 3.15419904e-01, 7.39619361e-01,\n",
       "         6.51832623e-01, 5.15534954e-01, 8.98445247e-01, 7.00425303e-01,\n",
       "         1.47421930e-01, 9.30467627e-01, 5.46325961e-01, 4.87444193e-01,\n",
       "         7.35017877e-01, 8.93972989e-01, 1.39765960e-01, 3.44811304e-01,\n",
       "         9.97935669e-01, 4.33136308e-01, 4.33063534e-01, 2.68351873e-01,\n",
       "         1.51089293e-01, 7.19397450e-02, 6.97055745e-01, 2.48095522e-01,\n",
       "         6.26538776e-01, 1.34170893e-01, 3.33457064e-01, 4.35592105e-01,\n",
       "         9.21184902e-01, 6.72368299e-01, 6.67570535e-01, 7.26292761e-01,\n",
       "         2.05893546e-01, 9.49881546e-01, 8.77535552e-01, 3.29160256e-01,\n",
       "         7.16920012e-01, 1.14146738e-01, 9.55638577e-01, 3.73122371e-01,\n",
       "         4.42702571e-01, 1.51348152e-01, 6.72446896e-01, 4.78387775e-01,\n",
       "         7.15184085e-02, 6.45845934e-01, 1.89438693e-01, 2.29873488e-01,\n",
       "         7.02813201e-01, 6.43088301e-01, 5.92915155e-02, 4.70755878e-02,\n",
       "         5.84291999e-01, 2.69966688e-01, 6.20034315e-01, 9.35550765e-01,\n",
       "         8.49420067e-02, 2.03429516e-01, 1.31126385e-01, 1.09990184e-01,\n",
       "         2.65875949e-01, 1.59264483e-01, 7.81372421e-01, 8.95611994e-01,\n",
       "         3.24954178e-01, 8.79470965e-01, 4.48113932e-01, 9.22818100e-02,\n",
       "         1.08669929e-01, 5.21775720e-01, 4.27689749e-01, 1.58597120e-01,\n",
       "         6.71887086e-01, 6.53018758e-01, 8.09866262e-01, 3.53166279e-01,\n",
       "         8.04871202e-01, 2.29707578e-01, 1.94927480e-01, 4.61162715e-01,\n",
       "         4.48331660e-01, 3.08530078e-01, 7.96644052e-01, 8.51234561e-01,\n",
       "         6.82721044e-01, 3.00266326e-01, 2.18314831e-01, 4.42960461e-01,\n",
       "         6.80062299e-01, 1.58010888e-01, 6.51338830e-02, 2.54094562e-01,\n",
       "         6.98488165e-01, 7.01587494e-01, 4.57391914e-01, 3.44412615e-01,\n",
       "         5.24869374e-01, 5.73741202e-01, 3.45369976e-01, 6.66423935e-01,\n",
       "         9.02283342e-01, 4.24978598e-01, 1.88815186e-01, 1.59040514e-01,\n",
       "         2.56929817e-01, 7.34078305e-01, 9.00627896e-01, 5.76408314e-01,\n",
       "         4.70450295e-02, 5.39036423e-01, 4.71197372e-01, 3.95053960e-01,\n",
       "         9.25918999e-01, 2.07650678e-01, 3.50106825e-01, 6.43048157e-01,\n",
       "         2.90095620e-02, 6.48818067e-01, 5.05236134e-01, 2.66525600e-01,\n",
       "         3.59804530e-01, 1.77968640e-02, 5.05293422e-01, 8.34935655e-01,\n",
       "         2.49836760e-01, 9.98303704e-01, 9.22150814e-01, 9.74663419e-01,\n",
       "         8.28953151e-02, 3.98983253e-02, 4.17467248e-01, 9.36906944e-01,\n",
       "         7.38318947e-01, 4.75787084e-01, 2.77948929e-01, 8.26256588e-01,\n",
       "         3.37071019e-01, 8.26601720e-01, 9.47520595e-01, 2.74768137e-01,\n",
       "         8.29247058e-01, 3.53008725e-01, 3.82780774e-01, 8.00391054e-01,\n",
       "         4.45128230e-01, 7.33148793e-01, 6.19210102e-01, 4.68126703e-01,\n",
       "         4.54612585e-01, 6.12657073e-01, 6.15509639e-01, 6.02646540e-01,\n",
       "         3.19252979e-01, 7.07017970e-01, 4.54144976e-01, 8.01646931e-02,\n",
       "         6.31786637e-01, 1.91823035e-01, 1.78588222e-01, 3.89577655e-01,\n",
       "         3.15980347e-01, 8.77746865e-01, 4.11537614e-03, 9.61475564e-01,\n",
       "         4.18142443e-03, 7.79054112e-01, 2.52096687e-01, 6.27268680e-01,\n",
       "         3.76094948e-01, 6.76156296e-01, 9.80687037e-01, 9.50265608e-01,\n",
       "         3.56670807e-01, 1.16928176e-01, 1.15118903e-02, 8.13835991e-01,\n",
       "         8.60992650e-01, 1.83498417e-01, 4.89352724e-01, 5.94520559e-01,\n",
       "         9.82222273e-01, 7.51582884e-01, 5.08828544e-01, 7.15329885e-02,\n",
       "         9.53479066e-01, 8.56699592e-01, 7.41511224e-01, 7.45342657e-01,\n",
       "         3.21262787e-01, 7.02463652e-01, 8.39757594e-01, 2.37835471e-01,\n",
       "         9.50374622e-01, 4.38542421e-01, 8.49871911e-01, 7.15810581e-01,\n",
       "         5.12290447e-01, 1.88501211e-01, 1.93992286e-01, 1.68825344e-01,\n",
       "         4.29072009e-01, 4.59802198e-01, 8.56511916e-01, 2.69889248e-01,\n",
       "         4.53685242e-01, 8.19220615e-01, 2.13775177e-02, 4.28952770e-01,\n",
       "         6.39082976e-01, 1.45134399e-01, 4.62238407e-01, 1.14600861e-01,\n",
       "         4.99946505e-01, 6.00963453e-01, 3.02791597e-01, 4.13207450e-01,\n",
       "         8.87890921e-01, 9.69484902e-01, 4.89188362e-01, 8.10577177e-01,\n",
       "         6.29677120e-01, 2.08571873e-01, 1.05879914e-01, 5.54944227e-01,\n",
       "         3.61368108e-01, 4.39880138e-01, 1.05303996e-01, 4.65397046e-01,\n",
       "         7.85449235e-01, 2.54268480e-01, 5.94132853e-01, 1.17564508e-01,\n",
       "         2.53798149e-01, 2.93201102e-01, 5.56675675e-01, 6.79928126e-01,\n",
       "         8.37744873e-01, 6.57768528e-01, 2.13771492e-01, 4.00335316e-01,\n",
       "         7.72979214e-01, 5.56317727e-01, 1.19327817e-01, 4.06443478e-01,\n",
       "         7.78169428e-01, 7.68235544e-01, 4.13517598e-01, 8.58745879e-01,\n",
       "         4.66412329e-01, 1.78962649e-01, 8.26779258e-01, 8.87791863e-02,\n",
       "         9.87245063e-01, 7.87567000e-01, 2.88285037e-01, 6.64813321e-01,\n",
       "         2.92317060e-01, 3.45807846e-01, 2.95035917e-01, 8.73110921e-01,\n",
       "         4.47185335e-02, 3.18188683e-01, 9.94941302e-01, 1.89998113e-01,\n",
       "         6.08637510e-01, 1.20712474e-01, 5.74328790e-01, 9.34868866e-01,\n",
       "         6.00015926e-01, 6.14869259e-01, 9.90456512e-01, 8.88994916e-01,\n",
       "         4.08436191e-01, 2.47356803e-01, 8.47178980e-01, 4.10615038e-01,\n",
       "         4.12546625e-01, 6.34596734e-01, 6.84344919e-01, 8.66632468e-01,\n",
       "         8.51471054e-01, 7.71508152e-01, 2.31281260e-01, 7.94839712e-01,\n",
       "         4.01535001e-01, 9.33079028e-01, 6.41752706e-01, 3.93783907e-01,\n",
       "         1.29588256e-01, 5.11530685e-01, 9.04139482e-01, 9.25668887e-01,\n",
       "         2.57454429e-01, 1.64782737e-01, 9.75635981e-01, 3.73348667e-01,\n",
       "         4.20998834e-01, 8.23144312e-01, 7.78181670e-01, 2.28157398e-01,\n",
       "         8.16432112e-01, 5.63845197e-01, 2.75632060e-02, 9.75897660e-01,\n",
       "         1.83538225e-01, 3.44363066e-02, 1.47382713e-01, 9.52292934e-01,\n",
       "         9.46072009e-01, 2.62658017e-01, 7.28757382e-01, 9.64300891e-01,\n",
       "         9.12574445e-01, 5.42169693e-01, 3.34185553e-01, 7.73940109e-01,\n",
       "         4.44327022e-01, 8.04910092e-01, 7.35924234e-01, 7.11920188e-01,\n",
       "         5.73681570e-01, 4.90958960e-01, 2.73313828e-01, 2.32365573e-01,\n",
       "         8.05822625e-01, 7.00490269e-01, 4.33951184e-01, 4.66976687e-01,\n",
       "         7.37200858e-02, 4.89162560e-01, 5.55237670e-02, 7.16109607e-01,\n",
       "         4.99848590e-01, 9.91960506e-01, 6.82574916e-01, 9.66838872e-01,\n",
       "         3.61237402e-01, 1.82610461e-01, 4.09482144e-01, 1.17477587e-01,\n",
       "         8.33268006e-01, 2.91833298e-01, 6.11673246e-01, 3.36716009e-01,\n",
       "         7.43168837e-01, 2.58858131e-01, 9.55090523e-01, 2.06214159e-01,\n",
       "         6.37702795e-01, 4.77049538e-01, 8.33210453e-01, 4.94663599e-01,\n",
       "         8.80395246e-02, 8.94430075e-01, 5.45870073e-01, 3.87151546e-01,\n",
       "         7.31782216e-01, 1.74601080e-01, 4.03552096e-01, 6.37269029e-01,\n",
       "         5.98498699e-01, 7.72360214e-01, 8.64342380e-01, 9.31396440e-01,\n",
       "         6.02119213e-01, 1.64939433e-01, 1.12620555e-01, 8.83399606e-02,\n",
       "         1.63039108e-01, 6.96830413e-01, 5.57499362e-01, 7.70678654e-01,\n",
       "         7.84952551e-02, 6.39099129e-01, 6.61702003e-01, 6.86730928e-01,\n",
       "         6.66226463e-01, 4.93713606e-01, 5.07303199e-01, 3.41879322e-01,\n",
       "         9.14097343e-01, 5.26286576e-01, 3.55576716e-02, 3.57281202e-01,\n",
       "         3.77775252e-01, 2.74968135e-01, 3.30971185e-01, 5.65969799e-01,\n",
       "         3.07961492e-01, 5.69009792e-01, 3.00621517e-01, 9.17000922e-01,\n",
       "         7.72174806e-02, 4.48388690e-01, 9.67293728e-01, 2.15749488e-01,\n",
       "         5.96295015e-01, 4.41554590e-01, 3.81294048e-01, 7.30890439e-01,\n",
       "         2.32649934e-01, 2.42522424e-01, 5.40138495e-01, 2.51424263e-01,\n",
       "         9.64964586e-01, 7.96525107e-01, 4.13258707e-01, 5.50049809e-01,\n",
       "         9.91412184e-02, 5.33356898e-01, 2.97437951e-01, 6.27898952e-01,\n",
       "         2.18708825e-02, 6.05582614e-01, 9.59052131e-01, 9.89229292e-01,\n",
       "         3.72359309e-01, 3.96003818e-01, 5.33882743e-01, 4.52999015e-02,\n",
       "         1.40161269e-01, 1.64731369e-01, 5.11554273e-01, 3.20233060e-01,\n",
       "         7.27925848e-01, 4.43762591e-01, 7.64683522e-01, 7.79766906e-01,\n",
       "         4.05508759e-01, 9.76629124e-01, 9.85220179e-01, 3.65429256e-01,\n",
       "         2.29428008e-01, 6.09045299e-01, 2.47945388e-01, 9.02576577e-01,\n",
       "         7.24215539e-01, 3.33364267e-01, 6.92679551e-01, 2.15309660e-01,\n",
       "         5.87303560e-01, 2.38597787e-01, 4.76805902e-01, 7.88219203e-01,\n",
       "         4.58499086e-01, 6.69939764e-01, 5.23261753e-01, 3.04283849e-01,\n",
       "         5.26539176e-01, 2.92730685e-01, 2.07071653e-01, 7.42263204e-01,\n",
       "         1.48534421e-01, 7.76468287e-01, 7.21820874e-01, 4.16348381e-01,\n",
       "         9.83418454e-01, 2.29626855e-01, 4.57062986e-01, 2.10671910e-01,\n",
       "         6.24986671e-01, 5.49755986e-01, 7.16842338e-01, 8.13984755e-02,\n",
       "         5.15347701e-01, 2.56602267e-01, 6.01077405e-01, 6.89629580e-01,\n",
       "         3.34122491e-02, 9.89168599e-01, 9.51758378e-01, 6.69261663e-01,\n",
       "         4.78992721e-01, 2.26906730e-01, 1.50706218e-01, 5.87471848e-01,\n",
       "         8.32595074e-01, 2.16163276e-01, 1.01670949e-01, 1.24650537e-01,\n",
       "         3.53757537e-01]))]"
      ]
     },
     "execution_count": 20,
     "metadata": {},
     "output_type": "execute_result"
    }
   ],
   "source": [
    "expand_setpoints_helper(a.spectrum)"
   ]
  },
  {
   "cell_type": "code",
   "execution_count": 21,
   "metadata": {},
   "outputs": [
    {
     "name": "stdout",
     "output_type": "stream",
     "text": [
      "Starting experimental run with id: 2. \n"
     ]
    }
   ],
   "source": [
    "meas = Measurement()\n",
    "meas.register_parameter(a.spectrum)\n",
    "\n",
    "with meas.run() as datasaver:\n",
    "    datasaver.add_result(*expand_setpoints_helper(a.spectrum))\n",
    "    \n",
    "    dataid = datasaver.run_id"
   ]
  },
  {
   "cell_type": "code",
   "execution_count": null,
   "metadata": {},
   "outputs": [],
   "source": []
  }
 ],
 "metadata": {
  "kernelspec": {
   "display_name": "Python 3",
   "language": "python",
   "name": "python3"
  },
  "language_info": {
   "codemirror_mode": {
    "name": "ipython",
    "version": 3
   },
   "file_extension": ".py",
   "mimetype": "text/x-python",
   "name": "python",
   "nbconvert_exporter": "python",
   "pygments_lexer": "ipython3",
   "version": "3.7.5"
  },
  "toc": {
   "base_numbering": 1,
   "nav_menu": {},
   "number_sections": true,
   "sideBar": true,
   "skip_h1_title": false,
   "title_cell": "Table of Contents",
   "title_sidebar": "Contents",
   "toc_cell": false,
   "toc_position": {},
   "toc_section_display": true,
   "toc_window_display": false
  },
  "varInspector": {
   "cols": {
    "lenName": 16,
    "lenType": 16,
    "lenVar": 40
   },
   "kernels_config": {
    "python": {
     "delete_cmd_postfix": "",
     "delete_cmd_prefix": "del ",
     "library": "var_list.py",
     "varRefreshCmd": "print(var_dic_list())"
    },
    "r": {
     "delete_cmd_postfix": ") ",
     "delete_cmd_prefix": "rm(",
     "library": "var_list.r",
     "varRefreshCmd": "cat(var_dic_list()) "
    }
   },
   "types_to_exclude": [
    "module",
    "function",
    "builtin_function_or_method",
    "instance",
    "_Feature"
   ],
   "window_display": false
  }
 },
 "nbformat": 4,
 "nbformat_minor": 2
}
