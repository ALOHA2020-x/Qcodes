{
 "cells": [
  {
   "cell_type": "markdown",
   "metadata": {},
   "source": [
    "# Simple Example of ParameterWithSetpoints\n",
    "This notebook provides an example for writing a simple driver with a parameter that has setpoints. Let's name this parameter that has setpoints as \"y\". Then, the setpoints, say \"x1, x2, x3 ..\", are the parameters on which the parameter \n",
    "\"y\" depends upon. Meaning \"y\" is a function of \"x1, x2, x3 ...\" where \"x1, x2, x3 ...\" are known as the setpoints of parameter \"y\".\n",
    "\n",
    "This is most likely to be useful for instruments that return arrays of results. In this notebook, we will show an example of this."
   ]
  },
  {
   "cell_type": "code",
   "execution_count": 1,
   "metadata": {},
   "outputs": [],
   "source": [
    "import numpy as np\n",
    "import os"
   ]
  },
  {
   "cell_type": "code",
   "execution_count": 2,
   "metadata": {},
   "outputs": [
    {
     "name": "stdout",
     "output_type": "stream",
     "text": [
      "Logging hadn't been started.\n",
      "Activating auto-logging. Current session state plus future input saved.\n",
      "Filename       : /home/vsts/.qcodes/logs/command_history.log\n",
      "Mode           : append\n",
      "Output logging : True\n",
      "Raw input log  : False\n",
      "Timestamping   : True\n",
      "State          : active\n"
     ]
    },
    {
     "name": "stdout",
     "output_type": "stream",
     "text": [
      "Qcodes Logfile : /home/vsts/.qcodes/logs/200415-22529-qcodes.log\n"
     ]
    }
   ],
   "source": [
    "from qcodes.dataset.plotting import plot_dataset\n",
    "from qcodes.utils.validators import Numbers, Arrays\n",
    "from qcodes.instrument.base import Instrument\n",
    "from qcodes.dataset.measurements import Measurement"
   ]
  },
  {
   "cell_type": "code",
   "execution_count": 3,
   "metadata": {},
   "outputs": [],
   "source": [
    "from qcodes.dataset.sqlite.database import initialise_or_create_database_at\n",
    "from qcodes.dataset.experiment_container import load_or_create_experiment"
   ]
  },
  {
   "cell_type": "code",
   "execution_count": 4,
   "metadata": {},
   "outputs": [],
   "source": [
    "from qcodes.instrument.parameter import ParameterWithSetpoints, Parameter\n",
    "from qcodes.instrument.parameter import expand_setpoints_helper"
   ]
  },
  {
   "cell_type": "markdown",
   "metadata": {},
   "source": [
    "First, we define a dummy instrument that returns something like a frequency spectrum starting from a frequency given by `f_start` to a frequency given by `f_stop` in `n_points` steps. \n",
    "\n",
    "The extra functionality of the `ParameterWithSetpoints` is implemented by giving it a reference to one or more parameters that acts like its setpoints. \n",
    "\n",
    "To setup a `ParameterWithSetpoints` we have to do two things in addition to what we do for a normal parameter.\n",
    "\n",
    "* Define one or more parameter for the setpoints (one for each dimension of the array and let the `ParameterWithSetpoints` know that these are the setpoints.\n",
    "* Give both the setpoints parameter(s) and the `ParameterWithSetpoints` a `validator` of type `Arrays` with a shape. The shapes should be such that the combined shape of the setpoints matches the shape of the `ParameterWithSetpoints`. Note that if the shape changes with the setting of the instrument, it can be defined by another parameter as shown below. "
   ]
  },
  {
   "cell_type": "code",
   "execution_count": 5,
   "metadata": {},
   "outputs": [],
   "source": [
    "class GeneratedSetPoints(Parameter):\n",
    "    \"\"\"\n",
    "    A parameter that generates a setpoint array from start, stop and num points\n",
    "    parameters.\n",
    "    \"\"\"\n",
    "    def __init__(self, startparam, stopparam, numpointsparam, *args, **kwargs):\n",
    "        super().__init__(*args, **kwargs)\n",
    "        self._startparam = startparam\n",
    "        self._stopparam = stopparam\n",
    "        self._numpointsparam = numpointsparam\n",
    "\n",
    "    def get_raw(self):\n",
    "        return np.linspace(self._startparam(), self._stopparam(),\n",
    "                              self._numpointsparam())\n",
    "\n",
    "class DummyArray(ParameterWithSetpoints):\n",
    "    \n",
    "    def get_raw(self):\n",
    "        npoints = self.root_instrument.n_points.get_latest()\n",
    "        return np.random.rand(npoints)\n",
    "    \n",
    "\n",
    "class DummySpectrumAnalyzer(Instrument):\n",
    "    \n",
    "    def __init__(self, name, **kwargs):\n",
    "        \n",
    "        super().__init__(name, **kwargs)\n",
    "            \n",
    "\n",
    "        self.add_parameter('f_start',\n",
    "                           initial_value=0,\n",
    "                           unit='Hz',\n",
    "                           label='f start',\n",
    "                           vals=Numbers(0,1e3),\n",
    "                           get_cmd=None,\n",
    "                           set_cmd=None)\n",
    "\n",
    "        self.add_parameter('f_stop',\n",
    "                           unit='Hz',\n",
    "                           label='f stop',\n",
    "                           vals=Numbers(1,1e3),\n",
    "                           get_cmd=None,\n",
    "                           set_cmd=None)\n",
    "\n",
    "        self.add_parameter('n_points',\n",
    "                           unit='',\n",
    "                           initial_value=10,\n",
    "                           vals=Numbers(1,1e3),\n",
    "                           get_cmd=None,\n",
    "                           set_cmd=None)\n",
    "        \n",
    "        self.add_parameter('freq_axis',\n",
    "                           unit='Hz',\n",
    "                           label='Freq Axis',\n",
    "                           parameter_class=GeneratedSetPoints,\n",
    "                           startparam=self.f_start,\n",
    "                           stopparam=self.f_stop,\n",
    "                           numpointsparam=self.n_points,\n",
    "                           vals=Arrays(shape=(self.n_points.get_latest,)))\n",
    "                           \n",
    "        self.add_parameter('spectrum',\n",
    "                   unit='dBm',\n",
    "                   setpoints=(self.freq_axis,),\n",
    "                   label='Spectrum',\n",
    "                   parameter_class=DummyArray,\n",
    "                   vals=Arrays(shape=(self.n_points.get_latest,)))\n",
    "                "
   ]
  },
  {
   "cell_type": "markdown",
   "metadata": {},
   "source": [
    "In the above example, the shape is defined by the parameter `n_points` that defines how many samples our `DummySpectrumAnalyzer` returns.\n",
    "\n",
    "This means that the validation will call the function to get `n_points` twice for each `get` of the parameter. This may be too slow, however, if you (as the driver-writer) can guarantee that the cached value for `n_points` will never be out of sync with the value stored in the instrument, `n_points` may be replaced by it's latest known value such that the `validator` reads:\n",
    "```python\n",
    "vals=Arrays(shape=(self.n_points.get_latest))\n",
    "```\n",
    "\n",
    "This avoids any additional call to the instrument. In the same way, the arguments to the `freq_axis` parameter that defines the start, stop and number of points can be replaced by their latest value if the instrument allows it.\n",
    "\n"
   ]
  },
  {
   "cell_type": "code",
   "execution_count": 6,
   "metadata": {},
   "outputs": [
    {
     "name": "stdout",
     "output_type": "stream",
     "text": [
      "\r",
      "0it [00:00, ?it/s]"
     ]
    },
    {
     "name": "stdout",
     "output_type": "stream",
     "text": [
      "\r",
      "Upgrading database; v0 -> v1: : 0it [00:00, ?it/s]"
     ]
    },
    {
     "name": "stdout",
     "output_type": "stream",
     "text": [
      "\r",
      "Upgrading database; v0 -> v1: : 0it [00:00, ?it/s]"
     ]
    },
    {
     "name": "stdout",
     "output_type": "stream",
     "text": [
      "\n",
      "\r",
      "  0%|          | 0/1 [00:00<?, ?it/s]"
     ]
    },
    {
     "name": "stdout",
     "output_type": "stream",
     "text": [
      "\r",
      "Upgrading database; v1 -> v2:   0%|          | 0/1 [00:00<?, ?it/s]"
     ]
    },
    {
     "name": "stdout",
     "output_type": "stream",
     "text": [
      "\r",
      "Upgrading database; v1 -> v2: 100%|██████████| 1/1 [00:00<00:00, 1058.37it/s]"
     ]
    },
    {
     "name": "stdout",
     "output_type": "stream",
     "text": [
      "\n",
      "\r",
      "0it [00:00, ?it/s]"
     ]
    },
    {
     "name": "stdout",
     "output_type": "stream",
     "text": [
      "\r",
      "Upgrading database; v2 -> v3: : 0it [00:00, ?it/s]"
     ]
    },
    {
     "name": "stdout",
     "output_type": "stream",
     "text": [
      "\r",
      "Upgrading database; v2 -> v3: : 0it [00:00, ?it/s]"
     ]
    },
    {
     "name": "stdout",
     "output_type": "stream",
     "text": [
      "\n",
      "\r",
      "0it [00:00, ?it/s]"
     ]
    },
    {
     "name": "stdout",
     "output_type": "stream",
     "text": [
      "\r",
      "Upgrading database; v3 -> v4: : 0it [00:00, ?it/s]"
     ]
    },
    {
     "name": "stdout",
     "output_type": "stream",
     "text": [
      "\r",
      "Upgrading database; v3 -> v4: : 0it [00:00, ?it/s]"
     ]
    },
    {
     "name": "stdout",
     "output_type": "stream",
     "text": [
      "\n",
      "\r",
      "  0%|          | 0/1 [00:00<?, ?it/s]"
     ]
    },
    {
     "name": "stdout",
     "output_type": "stream",
     "text": [
      "\r",
      "Upgrading database; v4 -> v5:   0%|          | 0/1 [00:00<?, ?it/s]"
     ]
    },
    {
     "name": "stdout",
     "output_type": "stream",
     "text": [
      "\r",
      "Upgrading database; v4 -> v5: 100%|██████████| 1/1 [00:00<00:00, 816.49it/s]"
     ]
    },
    {
     "name": "stdout",
     "output_type": "stream",
     "text": [
      "\n",
      "\r",
      "0it [00:00, ?it/s]"
     ]
    },
    {
     "name": "stdout",
     "output_type": "stream",
     "text": [
      "\r",
      "Upgrading database; v5 -> v6: : 0it [00:00, ?it/s]"
     ]
    },
    {
     "name": "stdout",
     "output_type": "stream",
     "text": [
      "\r",
      "Upgrading database; v5 -> v6: : 0it [00:00, ?it/s]"
     ]
    },
    {
     "name": "stdout",
     "output_type": "stream",
     "text": [
      "\n",
      "\r",
      "  0%|          | 0/1 [00:00<?, ?it/s]"
     ]
    },
    {
     "name": "stdout",
     "output_type": "stream",
     "text": [
      "\r",
      "Upgrading database; v6 -> v7:   0%|          | 0/1 [00:00<?, ?it/s]"
     ]
    },
    {
     "name": "stdout",
     "output_type": "stream",
     "text": [
      "\r",
      "Upgrading database; v6 -> v7: 100%|██████████| 1/1 [00:00<00:00, 433.47it/s]"
     ]
    },
    {
     "name": "stdout",
     "output_type": "stream",
     "text": [
      "\n",
      "\r",
      "  0%|          | 0/1 [00:00<?, ?it/s]"
     ]
    },
    {
     "name": "stdout",
     "output_type": "stream",
     "text": [
      "\r",
      "Upgrading database; v7 -> v8:   0%|          | 0/1 [00:00<?, ?it/s]"
     ]
    },
    {
     "name": "stdout",
     "output_type": "stream",
     "text": [
      "\r",
      "Upgrading database; v7 -> v8: 100%|██████████| 1/1 [00:00<00:00, 1023.75it/s]"
     ]
    },
    {
     "name": "stdout",
     "output_type": "stream",
     "text": [
      "\n",
      "\r",
      "  0%|          | 0/1 [00:00<?, ?it/s]"
     ]
    },
    {
     "name": "stdout",
     "output_type": "stream",
     "text": [
      "\r",
      "Upgrading database; v8 -> v9:   0%|          | 0/1 [00:00<?, ?it/s]"
     ]
    },
    {
     "name": "stdout",
     "output_type": "stream",
     "text": [
      "\r",
      "Upgrading database; v8 -> v9: 100%|██████████| 1/1 [00:00<00:00, 930.41it/s]"
     ]
    },
    {
     "name": "stdout",
     "output_type": "stream",
     "text": [
      "\n"
     ]
    },
    {
     "data": {
      "text/plain": [
       "tutorial_ParameterWithSetpoints#no sample#1@/home/vsts/work/1/s/docs/examples/Parameters/tutorial_paramter_with_setpoints.db\n",
       "----------------------------------------------------------------------------------------------------------------------------"
      ]
     },
     "execution_count": 6,
     "metadata": {},
     "output_type": "execute_result"
    }
   ],
   "source": [
    "tutorial_db_path = os.path.join(os.getcwd(), 'tutorial_paramter_with_setpoints.db')\n",
    "initialise_or_create_database_at(tutorial_db_path)\n",
    "load_or_create_experiment(experiment_name='tutorial_ParameterWithSetpoints', sample_name=\"no sample\")"
   ]
  },
  {
   "cell_type": "code",
   "execution_count": 7,
   "metadata": {},
   "outputs": [],
   "source": [
    "a = DummySpectrumAnalyzer('foobar')"
   ]
  },
  {
   "cell_type": "markdown",
   "metadata": {},
   "source": [
    "First we setup the limits of the spectrum"
   ]
  },
  {
   "cell_type": "code",
   "execution_count": 8,
   "metadata": {},
   "outputs": [],
   "source": [
    "a.f_start(0)\n",
    "a.f_stop(500)\n",
    "a.n_points(501)"
   ]
  },
  {
   "cell_type": "markdown",
   "metadata": {},
   "source": [
    "And we can grab the frequency axis"
   ]
  },
  {
   "cell_type": "code",
   "execution_count": 9,
   "metadata": {},
   "outputs": [
    {
     "data": {
      "text/plain": [
       "501"
      ]
     },
     "execution_count": 9,
     "metadata": {},
     "output_type": "execute_result"
    }
   ],
   "source": [
    "a.n_points()"
   ]
  },
  {
   "cell_type": "code",
   "execution_count": 10,
   "metadata": {
    "scrolled": false
   },
   "outputs": [
    {
     "data": {
      "text/plain": [
       "501"
      ]
     },
     "execution_count": 10,
     "metadata": {},
     "output_type": "execute_result"
    }
   ],
   "source": [
    "freq_axis = a.freq_axis()\n",
    "len(freq_axis)"
   ]
  },
  {
   "cell_type": "code",
   "execution_count": 11,
   "metadata": {},
   "outputs": [
    {
     "data": {
      "text/plain": [
       "array([0., 1., 2., 3., 4., 5., 6., 7., 8., 9.])"
      ]
     },
     "execution_count": 11,
     "metadata": {},
     "output_type": "execute_result"
    }
   ],
   "source": [
    "freq_axis[:10]"
   ]
  },
  {
   "cell_type": "markdown",
   "metadata": {},
   "source": [
    "As expected we get a result wit 501 points as we asked for an axis with 501 points. "
   ]
  },
  {
   "cell_type": "markdown",
   "metadata": {},
   "source": [
    "Above we have added a validator to the `freq_axis` parameter encoding the fact that this is an Array with `n_points`. Note that we do not have to supply the number of points as an integer but can supply a function that returns the valid number of points. This would normally be a QCoDeS parameter.\n",
    "\n",
    "This will be checked if we validate the output."
   ]
  },
  {
   "cell_type": "code",
   "execution_count": 12,
   "metadata": {},
   "outputs": [],
   "source": [
    "a.freq_axis.validate(a.freq_axis.get())"
   ]
  },
  {
   "cell_type": "markdown",
   "metadata": {},
   "source": [
    "Naturally, we can also get the spectrum. Getting the spectrum will automatically perform validation both for the shape of the parameter itself and the relation to the setpoint parameter(s)"
   ]
  },
  {
   "cell_type": "code",
   "execution_count": 13,
   "metadata": {
    "scrolled": true
   },
   "outputs": [
    {
     "data": {
      "text/plain": [
       "501"
      ]
     },
     "execution_count": 13,
     "metadata": {},
     "output_type": "execute_result"
    }
   ],
   "source": [
    "spectrum = a.spectrum.get()\n",
    "len(spectrum)"
   ]
  },
  {
   "cell_type": "markdown",
   "metadata": {},
   "source": [
    "When we validate a `ParameterWithSetpoints`, we automatically validate that the shape is consistent between the parameters and its setpoints. As well as validating the shape as above."
   ]
  },
  {
   "cell_type": "code",
   "execution_count": 14,
   "metadata": {},
   "outputs": [],
   "source": [
    "a.spectrum.validate(a.spectrum.get())"
   ]
  },
  {
   "cell_type": "markdown",
   "metadata": {},
   "source": [
    "The consistent shapes can be validated explicitly."
   ]
  },
  {
   "cell_type": "code",
   "execution_count": 15,
   "metadata": {},
   "outputs": [],
   "source": [
    "a.spectrum.validate_consistent_shape()"
   ]
  },
  {
   "cell_type": "markdown",
   "metadata": {},
   "source": [
    "We can inspect the setpoints of the spectrum."
   ]
  },
  {
   "cell_type": "code",
   "execution_count": 16,
   "metadata": {},
   "outputs": [
    {
     "data": {
      "text/plain": [
       "(<__main__.GeneratedSetPoints: freq_axis at 140609507441936>,)"
      ]
     },
     "execution_count": 16,
     "metadata": {},
     "output_type": "execute_result"
    }
   ],
   "source": [
    "a.spectrum.setpoints"
   ]
  },
  {
   "cell_type": "markdown",
   "metadata": {},
   "source": [
    "Or even change them."
   ]
  },
  {
   "cell_type": "code",
   "execution_count": 17,
   "metadata": {},
   "outputs": [],
   "source": [
    "a.spectrum.setpoints = (a.freq_axis,)"
   ]
  },
  {
   "cell_type": "markdown",
   "metadata": {},
   "source": [
    "## Measurement"
   ]
  },
  {
   "cell_type": "markdown",
   "metadata": {},
   "source": [
    "We can also directly consume the parameter in a measurement without defining the setpoints of the parameter again. The setpoints are automatically obtained from the definition of the `ParameterWithSetpoint` instance. "
   ]
  },
  {
   "cell_type": "code",
   "execution_count": 18,
   "metadata": {},
   "outputs": [
    {
     "name": "stdout",
     "output_type": "stream",
     "text": [
      "Starting experimental run with id: 1. \n"
     ]
    }
   ],
   "source": [
    "meas = Measurement()\n",
    "meas.register_parameter(a.spectrum)\n",
    "\n",
    "with meas.run() as datasaver:\n",
    "    datasaver.add_result((a.freq_axis, a.freq_axis()),\n",
    "                         (a.spectrum, a.spectrum()))\n",
    "    dataset = datasaver.dataset"
   ]
  },
  {
   "cell_type": "markdown",
   "metadata": {},
   "source": [
    "And plot it"
   ]
  },
  {
   "cell_type": "code",
   "execution_count": 19,
   "metadata": {},
   "outputs": [
    {
     "data": {
      "text/plain": [
       "([<matplotlib.axes._subplots.AxesSubplot at 0x7fe233395f90>], [None])"
      ]
     },
     "execution_count": 19,
     "metadata": {},
     "output_type": "execute_result"
    },
    {
     "data": {
      "image/png": "[encoded data removed]",
      "text/plain": [
       "<Figure size 432x288 with 1 Axes>"
      ]
     },
     "metadata": {
      "needs_background": "light"
     },
     "output_type": "display_data"
    }
   ],
   "source": [
    "plot_dataset(dataset)"
   ]
  },
  {
   "cell_type": "markdown",
   "metadata": {},
   "source": [
    "To reduce the amount of typing a simple convenience function is provided that will take a `ParameterWithSetpoints` and get both its values and the setpoints values and return them as tuples for direct insertion into the Dataset."
   ]
  },
  {
   "cell_type": "code",
   "execution_count": 20,
   "metadata": {
    "scrolled": true
   },
   "outputs": [
    {
     "data": {
      "text/plain": [
       "[(<__main__.GeneratedSetPoints: freq_axis at 140609507441936>,\n",
       "  array([  0.,   1.,   2.,   3.,   4.,   5.,   6.,   7.,   8.,   9.,  10.,\n",
       "          11.,  12.,  13.,  14.,  15.,  16.,  17.,  18.,  19.,  20.,  21.,\n",
       "          22.,  23.,  24.,  25.,  26.,  27.,  28.,  29.,  30.,  31.,  32.,\n",
       "          33.,  34.,  35.,  36.,  37.,  38.,  39.,  40.,  41.,  42.,  43.,\n",
       "          44.,  45.,  46.,  47.,  48.,  49.,  50.,  51.,  52.,  53.,  54.,\n",
       "          55.,  56.,  57.,  58.,  59.,  60.,  61.,  62.,  63.,  64.,  65.,\n",
       "          66.,  67.,  68.,  69.,  70.,  71.,  72.,  73.,  74.,  75.,  76.,\n",
       "          77.,  78.,  79.,  80.,  81.,  82.,  83.,  84.,  85.,  86.,  87.,\n",
       "          88.,  89.,  90.,  91.,  92.,  93.,  94.,  95.,  96.,  97.,  98.,\n",
       "          99., 100., 101., 102., 103., 104., 105., 106., 107., 108., 109.,\n",
       "         110., 111., 112., 113., 114., 115., 116., 117., 118., 119., 120.,\n",
       "         121., 122., 123., 124., 125., 126., 127., 128., 129., 130., 131.,\n",
       "         132., 133., 134., 135., 136., 137., 138., 139., 140., 141., 142.,\n",
       "         143., 144., 145., 146., 147., 148., 149., 150., 151., 152., 153.,\n",
       "         154., 155., 156., 157., 158., 159., 160., 161., 162., 163., 164.,\n",
       "         165., 166., 167., 168., 169., 170., 171., 172., 173., 174., 175.,\n",
       "         176., 177., 178., 179., 180., 181., 182., 183., 184., 185., 186.,\n",
       "         187., 188., 189., 190., 191., 192., 193., 194., 195., 196., 197.,\n",
       "         198., 199., 200., 201., 202., 203., 204., 205., 206., 207., 208.,\n",
       "         209., 210., 211., 212., 213., 214., 215., 216., 217., 218., 219.,\n",
       "         220., 221., 222., 223., 224., 225., 226., 227., 228., 229., 230.,\n",
       "         231., 232., 233., 234., 235., 236., 237., 238., 239., 240., 241.,\n",
       "         242., 243., 244., 245., 246., 247., 248., 249., 250., 251., 252.,\n",
       "         253., 254., 255., 256., 257., 258., 259., 260., 261., 262., 263.,\n",
       "         264., 265., 266., 267., 268., 269., 270., 271., 272., 273., 274.,\n",
       "         275., 276., 277., 278., 279., 280., 281., 282., 283., 284., 285.,\n",
       "         286., 287., 288., 289., 290., 291., 292., 293., 294., 295., 296.,\n",
       "         297., 298., 299., 300., 301., 302., 303., 304., 305., 306., 307.,\n",
       "         308., 309., 310., 311., 312., 313., 314., 315., 316., 317., 318.,\n",
       "         319., 320., 321., 322., 323., 324., 325., 326., 327., 328., 329.,\n",
       "         330., 331., 332., 333., 334., 335., 336., 337., 338., 339., 340.,\n",
       "         341., 342., 343., 344., 345., 346., 347., 348., 349., 350., 351.,\n",
       "         352., 353., 354., 355., 356., 357., 358., 359., 360., 361., 362.,\n",
       "         363., 364., 365., 366., 367., 368., 369., 370., 371., 372., 373.,\n",
       "         374., 375., 376., 377., 378., 379., 380., 381., 382., 383., 384.,\n",
       "         385., 386., 387., 388., 389., 390., 391., 392., 393., 394., 395.,\n",
       "         396., 397., 398., 399., 400., 401., 402., 403., 404., 405., 406.,\n",
       "         407., 408., 409., 410., 411., 412., 413., 414., 415., 416., 417.,\n",
       "         418., 419., 420., 421., 422., 423., 424., 425., 426., 427., 428.,\n",
       "         429., 430., 431., 432., 433., 434., 435., 436., 437., 438., 439.,\n",
       "         440., 441., 442., 443., 444., 445., 446., 447., 448., 449., 450.,\n",
       "         451., 452., 453., 454., 455., 456., 457., 458., 459., 460., 461.,\n",
       "         462., 463., 464., 465., 466., 467., 468., 469., 470., 471., 472.,\n",
       "         473., 474., 475., 476., 477., 478., 479., 480., 481., 482., 483.,\n",
       "         484., 485., 486., 487., 488., 489., 490., 491., 492., 493., 494.,\n",
       "         495., 496., 497., 498., 499., 500.])),\n",
       " (<__main__.DummyArray: spectrum at 140609508565840>,\n",
       "  array([6.80382798e-01, 4.47696208e-01, 9.23833511e-01, 6.14919947e-01,\n",
       "         6.27171855e-01, 1.69560648e-01, 6.99448185e-01, 1.19586484e-01,\n",
       "         7.53423868e-01, 5.31883996e-02, 5.66878362e-01, 8.33189356e-01,\n",
       "         7.83053968e-02, 4.64811221e-01, 7.31034562e-01, 2.92776813e-01,\n",
       "         6.97387627e-01, 3.29275666e-01, 4.75329957e-01, 4.80915267e-01,\n",
       "         6.76437973e-01, 8.62072703e-01, 9.97427041e-02, 2.90588917e-01,\n",
       "         4.30873684e-01, 1.53935530e-01, 4.83020898e-01, 8.85429515e-01,\n",
       "         8.23700464e-01, 4.00245998e-01, 9.53315870e-01, 9.14084501e-01,\n",
       "         2.10263085e-01, 4.14819189e-01, 5.83247697e-01, 7.21322956e-02,\n",
       "         1.49706949e-01, 9.72841179e-01, 5.53789353e-01, 5.20041581e-01,\n",
       "         4.90374202e-01, 9.99402970e-01, 8.80845870e-01, 5.01871935e-01,\n",
       "         8.00962072e-01, 1.37520372e-01, 3.95484231e-01, 6.01259594e-01,\n",
       "         2.28223218e-01, 5.68529545e-01, 8.78230212e-01, 4.07056753e-01,\n",
       "         2.55458064e-01, 9.62284658e-01, 3.16265423e-01, 1.87824975e-01,\n",
       "         4.59128544e-01, 3.69331409e-01, 3.45312281e-01, 4.33252304e-01,\n",
       "         7.56790057e-01, 2.36910229e-01, 8.58802576e-03, 1.69816762e-02,\n",
       "         3.32949529e-01, 4.69503278e-01, 3.28137018e-01, 6.49569701e-01,\n",
       "         5.69682317e-01, 3.38430166e-01, 1.90570922e-01, 9.89284598e-01,\n",
       "         1.93726209e-01, 9.65512265e-01, 2.66202177e-01, 4.78487555e-01,\n",
       "         8.24486688e-02, 2.60666018e-01, 7.32347797e-01, 1.60091870e-01,\n",
       "         1.17654553e-01, 7.30894508e-01, 9.09551928e-01, 4.36437014e-01,\n",
       "         9.11796991e-01, 4.63047268e-01, 2.10101705e-01, 2.40679821e-01,\n",
       "         1.56963034e-01, 3.05341609e-01, 4.84535813e-01, 9.87091207e-01,\n",
       "         4.80056301e-01, 5.25449819e-01, 3.74274753e-01, 4.29363293e-01,\n",
       "         4.11132799e-01, 4.31478203e-01, 2.59147830e-01, 4.58111045e-01,\n",
       "         3.69292333e-01, 9.19222830e-01, 3.74616903e-01, 3.16913489e-01,\n",
       "         2.42313957e-02, 2.73939126e-01, 9.79619039e-03, 5.51915164e-01,\n",
       "         1.53752837e-01, 8.54053392e-01, 8.38923256e-01, 9.43929258e-01,\n",
       "         3.51738664e-01, 5.89481297e-01, 2.84731546e-02, 6.89882927e-01,\n",
       "         6.30631613e-01, 1.61024680e-01, 4.28644530e-01, 8.33922431e-01,\n",
       "         4.90841075e-02, 8.99614079e-01, 9.90329680e-01, 8.20903637e-01,\n",
       "         6.85283303e-01, 5.45176873e-01, 1.20903613e-01, 4.14052682e-01,\n",
       "         8.76155948e-01, 7.75397690e-01, 7.67450805e-01, 3.76359026e-01,\n",
       "         4.18774598e-01, 4.81857128e-01, 4.50504095e-01, 9.11858539e-01,\n",
       "         8.48048079e-01, 1.15660361e-01, 9.89642359e-01, 8.22729445e-01,\n",
       "         7.67748073e-01, 1.39007833e-01, 9.37786305e-01, 3.54713746e-01,\n",
       "         6.79578717e-01, 9.57607994e-01, 9.05593881e-01, 6.42532127e-01,\n",
       "         6.97310391e-01, 5.22546959e-01, 5.10577350e-01, 4.72466392e-01,\n",
       "         4.04632183e-01, 8.24299645e-01, 7.83824003e-01, 9.92363831e-01,\n",
       "         8.39641682e-01, 2.73028212e-01, 3.61080712e-01, 7.17895159e-01,\n",
       "         5.59080828e-01, 9.10237946e-01, 1.23518480e-01, 1.80006498e-01,\n",
       "         5.95587511e-01, 2.53969994e-02, 7.43956523e-01, 4.63790342e-04,\n",
       "         1.46837107e-01, 3.38902774e-01, 7.42593576e-01, 5.77462951e-01,\n",
       "         5.37786141e-01, 7.77741231e-01, 4.88754109e-02, 9.61727313e-02,\n",
       "         7.73547120e-01, 9.78566083e-01, 9.08785785e-03, 3.50687753e-01,\n",
       "         1.33837999e-01, 9.69451193e-01, 7.30095110e-01, 1.51387741e-01,\n",
       "         9.00847185e-01, 1.20824340e-01, 4.12034506e-01, 5.68090005e-01,\n",
       "         4.03020485e-01, 1.78116444e-01, 7.99013776e-01, 6.25553739e-01,\n",
       "         7.08574618e-01, 1.42031296e-01, 4.68537943e-01, 8.17630140e-01,\n",
       "         9.79295236e-01, 7.43929085e-01, 2.85928951e-01, 9.11500849e-01,\n",
       "         2.00008504e-01, 8.86533719e-01, 2.19439373e-01, 4.57731269e-01,\n",
       "         5.44759693e-01, 9.45607347e-01, 9.31683816e-01, 1.22945389e-01,\n",
       "         9.91262770e-01, 9.72957713e-01, 6.92740338e-01, 2.25602290e-01,\n",
       "         9.15747648e-01, 3.57597183e-01, 4.19479900e-01, 8.72504916e-01,\n",
       "         3.43430489e-01, 2.57881259e-01, 3.80157095e-01, 5.19719494e-01,\n",
       "         9.72255950e-01, 9.13963223e-01, 2.95811172e-01, 9.21439622e-01,\n",
       "         3.46701634e-01, 5.21339070e-01, 1.62342594e-01, 3.62019467e-01,\n",
       "         4.18999363e-02, 5.61161916e-01, 1.65230015e-01, 7.33468139e-01,\n",
       "         3.36056738e-01, 8.93062453e-01, 4.90024772e-02, 4.04354550e-01,\n",
       "         5.06985408e-01, 9.89040856e-01, 2.65694723e-01, 9.10759087e-01,\n",
       "         8.22009161e-01, 3.85576801e-01, 3.59980667e-01, 2.66577489e-01,\n",
       "         7.16203182e-01, 1.55889265e-01, 7.05462790e-01, 1.96440277e-01,\n",
       "         3.30328743e-01, 4.81400662e-01, 1.91593377e-01, 9.57080656e-01,\n",
       "         5.18285190e-01, 2.93253525e-01, 5.29859065e-01, 3.56853688e-01,\n",
       "         5.52763370e-01, 3.03565715e-01, 4.77977563e-01, 5.83879654e-01,\n",
       "         5.14426241e-01, 3.13884301e-01, 1.29277133e-01, 4.89798372e-01,\n",
       "         7.97597403e-01, 6.12043962e-01, 6.78810438e-01, 8.30411859e-01,\n",
       "         1.03753930e-01, 4.96348792e-01, 7.06921510e-01, 1.35787176e-01,\n",
       "         9.33199401e-01, 9.29359149e-01, 9.29197498e-01, 2.26667965e-01,\n",
       "         5.21640610e-01, 4.89842060e-01, 1.82134918e-01, 1.13726241e-01,\n",
       "         9.89537305e-01, 6.08459409e-01, 3.78359104e-01, 1.36145806e-01,\n",
       "         5.73901272e-01, 8.66808588e-01, 9.09348816e-01, 7.09169877e-01,\n",
       "         1.50059022e-01, 1.54975482e-01, 6.87435309e-01, 6.06828708e-01,\n",
       "         4.05382694e-01, 6.64976372e-01, 6.64862887e-01, 1.08247226e-01,\n",
       "         3.02837789e-01, 4.11215983e-01, 7.93902203e-01, 2.05446360e-01,\n",
       "         6.38615968e-01, 5.59662195e-01, 5.16229466e-01, 7.55281722e-01,\n",
       "         2.54306824e-01, 8.96154856e-01, 5.90383616e-01, 9.99415872e-01,\n",
       "         5.79294568e-02, 6.41032049e-01, 2.86422525e-01, 1.67638998e-01,\n",
       "         5.67993557e-01, 3.76115074e-01, 1.07784350e-01, 8.72540456e-01,\n",
       "         2.56567441e-01, 8.42131018e-01, 1.27910951e-01, 8.63483676e-01,\n",
       "         1.79987384e-01, 8.03908784e-01, 8.47243788e-01, 5.96040019e-01,\n",
       "         3.69638831e-01, 1.08158109e-01, 3.53017268e-01, 8.15118514e-01,\n",
       "         5.63310871e-01, 5.44975219e-01, 2.70544168e-02, 8.69452719e-03,\n",
       "         8.70831548e-02, 6.40381002e-01, 7.95399349e-02, 3.03266732e-01,\n",
       "         4.97532258e-01, 2.74487244e-02, 9.99083333e-01, 8.69918310e-01,\n",
       "         5.04898887e-01, 8.56112901e-01, 4.20172169e-01, 7.85651076e-02,\n",
       "         4.51429108e-01, 9.99389268e-01, 8.82252398e-01, 5.92173730e-01,\n",
       "         3.91643543e-01, 5.33381384e-01, 8.30322848e-01, 3.35557279e-01,\n",
       "         6.00564183e-01, 9.79664202e-01, 1.05798521e-02, 3.86376271e-01,\n",
       "         4.24793768e-01, 6.79926593e-01, 5.67699964e-01, 8.02560467e-01,\n",
       "         7.67862206e-02, 2.73312160e-02, 2.63306556e-01, 4.49988223e-01,\n",
       "         5.19813303e-01, 6.54414393e-01, 9.42770030e-01, 8.96773304e-01,\n",
       "         7.97346114e-02, 2.26523774e-01, 1.57365725e-01, 6.71505634e-01,\n",
       "         5.56455001e-02, 9.28277566e-01, 4.83527191e-02, 4.15292710e-01,\n",
       "         5.47753466e-01, 6.81178168e-02, 8.35398942e-01, 2.24662835e-01,\n",
       "         6.53884317e-01, 2.99891751e-01, 7.78775420e-01, 3.02768222e-01,\n",
       "         3.97659099e-01, 3.30725674e-01, 4.19848552e-01, 7.73096105e-02,\n",
       "         8.44881043e-01, 2.89817276e-01, 2.04092451e-01, 7.88391328e-01,\n",
       "         1.24387709e-01, 6.01529080e-01, 8.49517582e-01, 5.38594033e-01,\n",
       "         4.14470067e-01, 2.12521719e-01, 3.16365702e-01, 8.59344089e-02,\n",
       "         6.92656813e-01, 3.64781682e-01, 6.67842444e-01, 1.88129731e-02,\n",
       "         9.96551015e-01, 4.92478494e-01, 6.71778048e-01, 7.23603135e-01,\n",
       "         3.37710030e-01, 5.35511585e-01, 3.91755071e-01, 7.09323722e-01,\n",
       "         8.21400909e-01, 7.79199721e-01, 4.37811085e-01, 1.00792193e-01,\n",
       "         5.58912471e-01, 5.08632864e-01, 4.23729835e-01, 8.43489281e-01,\n",
       "         9.54866083e-01, 3.21130102e-01, 7.92186375e-01, 8.20994347e-01,\n",
       "         9.86264241e-01, 1.57286835e-01, 7.46853643e-01, 7.03775875e-01,\n",
       "         5.46098159e-01, 2.00455735e-01, 5.22402540e-01, 7.01522728e-01,\n",
       "         3.41677487e-01, 4.93145167e-01, 1.54591220e-01, 9.56708332e-01,\n",
       "         4.32777487e-01, 2.62120586e-01, 2.08785766e-01, 3.81161186e-01,\n",
       "         2.16653772e-01, 7.96728984e-01, 8.52639573e-01, 5.42572554e-01,\n",
       "         8.49368050e-01, 8.45246587e-01, 7.45264660e-03, 4.60475115e-01,\n",
       "         3.21178761e-01, 1.52416547e-01, 9.12840539e-01, 2.62709878e-01,\n",
       "         9.99017185e-01, 4.72334098e-01, 1.76744297e-01, 9.24941910e-01,\n",
       "         1.15206103e-01, 3.59468547e-01, 5.35830948e-01, 3.03193110e-01,\n",
       "         9.19566680e-02, 6.33029187e-01, 8.02735784e-01, 4.80811828e-01,\n",
       "         3.00122714e-01, 7.82409263e-01, 6.75803505e-01, 2.34552340e-01,\n",
       "         1.00931368e-02, 9.62759744e-01, 7.00854022e-01, 1.13230336e-01,\n",
       "         7.22690113e-01, 8.24259043e-01, 5.57510685e-01, 3.09239765e-01,\n",
       "         6.71830224e-01, 2.70664340e-01, 8.26954682e-02, 3.51852834e-01,\n",
       "         1.43394926e-02, 4.38784781e-01, 8.41515119e-01, 1.86151969e-01,\n",
       "         9.39530185e-01, 5.93161004e-02, 1.16061334e-01, 4.33809854e-01,\n",
       "         4.50200960e-01, 8.88176120e-01, 7.15718555e-01, 8.56625185e-01,\n",
       "         7.53626669e-01, 5.90804430e-01, 1.27265930e-01, 5.11573159e-01,\n",
       "         1.60452889e-01, 8.21833123e-01, 3.68064994e-01, 7.22480076e-01,\n",
       "         9.98542974e-01]))]"
      ]
     },
     "execution_count": 20,
     "metadata": {},
     "output_type": "execute_result"
    }
   ],
   "source": [
    "expand_setpoints_helper(a.spectrum)"
   ]
  },
  {
   "cell_type": "code",
   "execution_count": 21,
   "metadata": {},
   "outputs": [
    {
     "name": "stdout",
     "output_type": "stream",
     "text": [
      "Starting experimental run with id: 2. \n"
     ]
    }
   ],
   "source": [
    "meas = Measurement()\n",
    "meas.register_parameter(a.spectrum)\n",
    "\n",
    "with meas.run() as datasaver:\n",
    "    datasaver.add_result(*expand_setpoints_helper(a.spectrum))\n",
    "    \n",
    "    dataid = datasaver.run_id"
   ]
  },
  {
   "cell_type": "code",
   "execution_count": null,
   "metadata": {},
   "outputs": [],
   "source": []
  }
 ],
 "metadata": {
  "kernelspec": {
   "display_name": "Python 3",
   "language": "python",
   "name": "python3"
  },
  "language_info": {
   "codemirror_mode": {
    "name": "ipython",
    "version": 3
   },
   "file_extension": ".py",
   "mimetype": "text/x-python",
   "name": "python",
   "nbconvert_exporter": "python",
   "pygments_lexer": "ipython3",
   "version": "3.7.7"
  },
  "toc": {
   "base_numbering": 1,
   "nav_menu": {},
   "number_sections": true,
   "sideBar": true,
   "skip_h1_title": false,
   "title_cell": "Table of Contents",
   "title_sidebar": "Contents",
   "toc_cell": false,
   "toc_position": {},
   "toc_section_display": true,
   "toc_window_display": false
  },
  "varInspector": {
   "cols": {
    "lenName": 16,
    "lenType": 16,
    "lenVar": 40
   },
   "kernels_config": {
    "python": {
     "delete_cmd_postfix": "",
     "delete_cmd_prefix": "del ",
     "library": "var_list.py",
     "varRefreshCmd": "print(var_dic_list())"
    },
    "r": {
     "delete_cmd_postfix": ") ",
     "delete_cmd_prefix": "rm(",
     "library": "var_list.r",
     "varRefreshCmd": "cat(var_dic_list()) "
    }
   },
   "types_to_exclude": [
    "module",
    "function",
    "builtin_function_or_method",
    "instance",
    "_Feature"
   ],
   "window_display": false
  }
 },
 "nbformat": 4,
 "nbformat_minor": 2
}
