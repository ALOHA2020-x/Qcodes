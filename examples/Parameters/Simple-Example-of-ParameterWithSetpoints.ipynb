{
 "cells": [
  {
   "cell_type": "markdown",
   "metadata": {},
   "source": [
    "# Simple Example of ParameterWithSetpoints\n",
    "This notebook provides an example for writing a simple driver with a parameter that has setpoints. Let's name this parameter that has setpoints as \"y\". Then, the setpoints, say \"x1, x2, x3 ..\", are the parameters on which the parameter \n",
    "\"y\" depends upon. Meaning \"y\" is a function of \"x1, x2, x3 ...\" where \"x1, x2, x3 ...\" are known as the setpoints of parameter \"y\".\n",
    "\n",
    "This is most likely to be useful for instruments that return arrays of results. In this notebook, we will show an example of this."
   ]
  },
  {
   "cell_type": "code",
   "execution_count": 1,
   "metadata": {},
   "outputs": [],
   "source": [
    "import numpy as np\n",
    "import os"
   ]
  },
  {
   "cell_type": "code",
   "execution_count": 2,
   "metadata": {},
   "outputs": [
    {
     "name": "stdout",
     "output_type": "stream",
     "text": [
      "Logging hadn't been started.\n",
      "Activating auto-logging. Current session state plus future input saved.\n",
      "Filename       : /home/vsts/.qcodes/logs/command_history.log\n",
      "Mode           : append\n",
      "Output logging : True\n",
      "Raw input log  : False\n",
      "Timestamping   : True\n",
      "State          : active\n"
     ]
    },
    {
     "name": "stdout",
     "output_type": "stream",
     "text": [
      "Qcodes Logfile : /home/vsts/.qcodes/logs/200429-22535-qcodes.log\n"
     ]
    }
   ],
   "source": [
    "from qcodes.dataset.plotting import plot_dataset\n",
    "from qcodes.utils.validators import Numbers, Arrays\n",
    "from qcodes.instrument.base import Instrument\n",
    "from qcodes.dataset.measurements import Measurement"
   ]
  },
  {
   "cell_type": "code",
   "execution_count": 3,
   "metadata": {},
   "outputs": [],
   "source": [
    "from qcodes.dataset.sqlite.database import initialise_or_create_database_at\n",
    "from qcodes.dataset.experiment_container import load_or_create_experiment"
   ]
  },
  {
   "cell_type": "code",
   "execution_count": 4,
   "metadata": {},
   "outputs": [],
   "source": [
    "from qcodes.instrument.parameter import ParameterWithSetpoints, Parameter\n",
    "from qcodes.instrument.parameter import expand_setpoints_helper"
   ]
  },
  {
   "cell_type": "markdown",
   "metadata": {},
   "source": [
    "First, we define a dummy instrument that returns something like a frequency spectrum starting from a frequency given by `f_start` to a frequency given by `f_stop` in `n_points` steps. \n",
    "\n",
    "The extra functionality of the `ParameterWithSetpoints` is implemented by giving it a reference to one or more parameters that acts like its setpoints. \n",
    "\n",
    "To setup a `ParameterWithSetpoints` we have to do two things in addition to what we do for a normal parameter.\n",
    "\n",
    "* Define one or more parameter for the setpoints (one for each dimension of the array and let the `ParameterWithSetpoints` know that these are the setpoints.\n",
    "* Give both the setpoints parameter(s) and the `ParameterWithSetpoints` a `validator` of type `Arrays` with a shape. The shapes should be such that the combined shape of the setpoints matches the shape of the `ParameterWithSetpoints`. Note that if the shape changes with the setting of the instrument, it can be defined by another parameter as shown below. "
   ]
  },
  {
   "cell_type": "code",
   "execution_count": 5,
   "metadata": {},
   "outputs": [],
   "source": [
    "class GeneratedSetPoints(Parameter):\n",
    "    \"\"\"\n",
    "    A parameter that generates a setpoint array from start, stop and num points\n",
    "    parameters.\n",
    "    \"\"\"\n",
    "    def __init__(self, startparam, stopparam, numpointsparam, *args, **kwargs):\n",
    "        super().__init__(*args, **kwargs)\n",
    "        self._startparam = startparam\n",
    "        self._stopparam = stopparam\n",
    "        self._numpointsparam = numpointsparam\n",
    "\n",
    "    def get_raw(self):\n",
    "        return np.linspace(self._startparam(), self._stopparam(),\n",
    "                              self._numpointsparam())\n",
    "\n",
    "class DummyArray(ParameterWithSetpoints):\n",
    "    \n",
    "    def get_raw(self):\n",
    "        npoints = self.root_instrument.n_points.get_latest()\n",
    "        return np.random.rand(npoints)\n",
    "    \n",
    "\n",
    "class DummySpectrumAnalyzer(Instrument):\n",
    "    \n",
    "    def __init__(self, name, **kwargs):\n",
    "        \n",
    "        super().__init__(name, **kwargs)\n",
    "            \n",
    "\n",
    "        self.add_parameter('f_start',\n",
    "                           initial_value=0,\n",
    "                           unit='Hz',\n",
    "                           label='f start',\n",
    "                           vals=Numbers(0,1e3),\n",
    "                           get_cmd=None,\n",
    "                           set_cmd=None)\n",
    "\n",
    "        self.add_parameter('f_stop',\n",
    "                           unit='Hz',\n",
    "                           label='f stop',\n",
    "                           vals=Numbers(1,1e3),\n",
    "                           get_cmd=None,\n",
    "                           set_cmd=None)\n",
    "\n",
    "        self.add_parameter('n_points',\n",
    "                           unit='',\n",
    "                           initial_value=10,\n",
    "                           vals=Numbers(1,1e3),\n",
    "                           get_cmd=None,\n",
    "                           set_cmd=None)\n",
    "        \n",
    "        self.add_parameter('freq_axis',\n",
    "                           unit='Hz',\n",
    "                           label='Freq Axis',\n",
    "                           parameter_class=GeneratedSetPoints,\n",
    "                           startparam=self.f_start,\n",
    "                           stopparam=self.f_stop,\n",
    "                           numpointsparam=self.n_points,\n",
    "                           vals=Arrays(shape=(self.n_points.get_latest,)))\n",
    "                           \n",
    "        self.add_parameter('spectrum',\n",
    "                   unit='dBm',\n",
    "                   setpoints=(self.freq_axis,),\n",
    "                   label='Spectrum',\n",
    "                   parameter_class=DummyArray,\n",
    "                   vals=Arrays(shape=(self.n_points.get_latest,)))\n",
    "                "
   ]
  },
  {
   "cell_type": "markdown",
   "metadata": {},
   "source": [
    "In the above example, the shape is defined by the parameter `n_points` that defines how many samples our `DummySpectrumAnalyzer` returns.\n",
    "\n",
    "This means that the validation will call the function to get `n_points` twice for each `get` of the parameter. This may be too slow, however, if you (as the driver-writer) can guarantee that the cached value for `n_points` will never be out of sync with the value stored in the instrument, `n_points` may be replaced by it's latest known value such that the `validator` reads:\n",
    "```python\n",
    "vals=Arrays(shape=(self.n_points.get_latest))\n",
    "```\n",
    "\n",
    "This avoids any additional call to the instrument. In the same way, the arguments to the `freq_axis` parameter that defines the start, stop and number of points can be replaced by their latest value if the instrument allows it.\n",
    "\n"
   ]
  },
  {
   "cell_type": "code",
   "execution_count": 6,
   "metadata": {},
   "outputs": [
    {
     "name": "stdout",
     "output_type": "stream",
     "text": [
      "\r",
      "0it [00:00, ?it/s]"
     ]
    },
    {
     "name": "stdout",
     "output_type": "stream",
     "text": [
      "\r",
      "Upgrading database; v0 -> v1: : 0it [00:00, ?it/s]"
     ]
    },
    {
     "name": "stdout",
     "output_type": "stream",
     "text": [
      "\r",
      "Upgrading database; v0 -> v1: : 0it [00:00, ?it/s]"
     ]
    },
    {
     "name": "stdout",
     "output_type": "stream",
     "text": [
      "\n",
      "\r",
      "  0%|          | 0/1 [00:00<?, ?it/s]"
     ]
    },
    {
     "name": "stdout",
     "output_type": "stream",
     "text": [
      "\r",
      "Upgrading database; v1 -> v2:   0%|          | 0/1 [00:00<?, ?it/s]"
     ]
    },
    {
     "name": "stdout",
     "output_type": "stream",
     "text": [
      "\r",
      "Upgrading database; v1 -> v2: 100%|██████████| 1/1 [00:00<00:00, 879.49it/s]"
     ]
    },
    {
     "name": "stdout",
     "output_type": "stream",
     "text": [
      "\n",
      "\r",
      "0it [00:00, ?it/s]"
     ]
    },
    {
     "name": "stdout",
     "output_type": "stream",
     "text": [
      "\r",
      "Upgrading database; v2 -> v3: : 0it [00:00, ?it/s]"
     ]
    },
    {
     "name": "stdout",
     "output_type": "stream",
     "text": [
      "\r",
      "Upgrading database; v2 -> v3: : 0it [00:00, ?it/s]"
     ]
    },
    {
     "name": "stdout",
     "output_type": "stream",
     "text": [
      "\n",
      "\r",
      "0it [00:00, ?it/s]"
     ]
    },
    {
     "name": "stdout",
     "output_type": "stream",
     "text": [
      "\r",
      "Upgrading database; v3 -> v4: : 0it [00:00, ?it/s]"
     ]
    },
    {
     "name": "stdout",
     "output_type": "stream",
     "text": [
      "\r",
      "Upgrading database; v3 -> v4: : 0it [00:00, ?it/s]"
     ]
    },
    {
     "name": "stdout",
     "output_type": "stream",
     "text": [
      "\n",
      "\r",
      "  0%|          | 0/1 [00:00<?, ?it/s]"
     ]
    },
    {
     "name": "stdout",
     "output_type": "stream",
     "text": [
      "\r",
      "Upgrading database; v4 -> v5:   0%|          | 0/1 [00:00<?, ?it/s]"
     ]
    },
    {
     "name": "stdout",
     "output_type": "stream",
     "text": [
      "\r",
      "Upgrading database; v4 -> v5: 100%|██████████| 1/1 [00:00<00:00, 490.22it/s]"
     ]
    },
    {
     "name": "stdout",
     "output_type": "stream",
     "text": [
      "\n",
      "\r",
      "0it [00:00, ?it/s]"
     ]
    },
    {
     "name": "stdout",
     "output_type": "stream",
     "text": [
      "\r",
      "Upgrading database; v5 -> v6: : 0it [00:00, ?it/s]"
     ]
    },
    {
     "name": "stdout",
     "output_type": "stream",
     "text": [
      "\r",
      "Upgrading database; v5 -> v6: : 0it [00:00, ?it/s]"
     ]
    },
    {
     "name": "stdout",
     "output_type": "stream",
     "text": [
      "\n",
      "\r",
      "  0%|          | 0/1 [00:00<?, ?it/s]"
     ]
    },
    {
     "name": "stdout",
     "output_type": "stream",
     "text": [
      "\r",
      "Upgrading database; v6 -> v7:   0%|          | 0/1 [00:00<?, ?it/s]"
     ]
    },
    {
     "name": "stdout",
     "output_type": "stream",
     "text": [
      "\r",
      "Upgrading database; v6 -> v7: 100%|██████████| 1/1 [00:00<00:00, 452.07it/s]"
     ]
    },
    {
     "name": "stdout",
     "output_type": "stream",
     "text": [
      "\n",
      "\r",
      "  0%|          | 0/1 [00:00<?, ?it/s]"
     ]
    },
    {
     "name": "stdout",
     "output_type": "stream",
     "text": [
      "\r",
      "Upgrading database; v7 -> v8:   0%|          | 0/1 [00:00<?, ?it/s]"
     ]
    },
    {
     "name": "stdout",
     "output_type": "stream",
     "text": [
      "\r",
      "Upgrading database; v7 -> v8: 100%|██████████| 1/1 [00:00<00:00, 909.24it/s]"
     ]
    },
    {
     "name": "stdout",
     "output_type": "stream",
     "text": [
      "\n",
      "\r",
      "  0%|          | 0/1 [00:00<?, ?it/s]"
     ]
    },
    {
     "name": "stdout",
     "output_type": "stream",
     "text": [
      "\r",
      "Upgrading database; v8 -> v9:   0%|          | 0/1 [00:00<?, ?it/s]"
     ]
    },
    {
     "name": "stdout",
     "output_type": "stream",
     "text": [
      "\r",
      "Upgrading database; v8 -> v9: 100%|██████████| 1/1 [00:00<00:00, 882.64it/s]"
     ]
    },
    {
     "name": "stdout",
     "output_type": "stream",
     "text": [
      "\n"
     ]
    },
    {
     "data": {
      "text/plain": [
       "tutorial_ParameterWithSetpoints#no sample#1@/home/vsts/work/1/s/docs/examples/Parameters/tutorial_paramter_with_setpoints.db\n",
       "----------------------------------------------------------------------------------------------------------------------------"
      ]
     },
     "execution_count": 6,
     "metadata": {},
     "output_type": "execute_result"
    }
   ],
   "source": [
    "tutorial_db_path = os.path.join(os.getcwd(), 'tutorial_paramter_with_setpoints.db')\n",
    "initialise_or_create_database_at(tutorial_db_path)\n",
    "load_or_create_experiment(experiment_name='tutorial_ParameterWithSetpoints', sample_name=\"no sample\")"
   ]
  },
  {
   "cell_type": "code",
   "execution_count": 7,
   "metadata": {},
   "outputs": [],
   "source": [
    "a = DummySpectrumAnalyzer('foobar')"
   ]
  },
  {
   "cell_type": "markdown",
   "metadata": {},
   "source": [
    "First we setup the limits of the spectrum"
   ]
  },
  {
   "cell_type": "code",
   "execution_count": 8,
   "metadata": {},
   "outputs": [],
   "source": [
    "a.f_start(0)\n",
    "a.f_stop(500)\n",
    "a.n_points(501)"
   ]
  },
  {
   "cell_type": "markdown",
   "metadata": {},
   "source": [
    "And we can grab the frequency axis"
   ]
  },
  {
   "cell_type": "code",
   "execution_count": 9,
   "metadata": {},
   "outputs": [
    {
     "data": {
      "text/plain": [
       "501"
      ]
     },
     "execution_count": 9,
     "metadata": {},
     "output_type": "execute_result"
    }
   ],
   "source": [
    "a.n_points()"
   ]
  },
  {
   "cell_type": "code",
   "execution_count": 10,
   "metadata": {
    "scrolled": false
   },
   "outputs": [
    {
     "data": {
      "text/plain": [
       "501"
      ]
     },
     "execution_count": 10,
     "metadata": {},
     "output_type": "execute_result"
    }
   ],
   "source": [
    "freq_axis = a.freq_axis()\n",
    "len(freq_axis)"
   ]
  },
  {
   "cell_type": "code",
   "execution_count": 11,
   "metadata": {},
   "outputs": [
    {
     "data": {
      "text/plain": [
       "array([0., 1., 2., 3., 4., 5., 6., 7., 8., 9.])"
      ]
     },
     "execution_count": 11,
     "metadata": {},
     "output_type": "execute_result"
    }
   ],
   "source": [
    "freq_axis[:10]"
   ]
  },
  {
   "cell_type": "markdown",
   "metadata": {},
   "source": [
    "As expected we get a result wit 501 points as we asked for an axis with 501 points. "
   ]
  },
  {
   "cell_type": "markdown",
   "metadata": {},
   "source": [
    "Above we have added a validator to the `freq_axis` parameter encoding the fact that this is an Array with `n_points`. Note that we do not have to supply the number of points as an integer but can supply a function that returns the valid number of points. This would normally be a QCoDeS parameter.\n",
    "\n",
    "This will be checked if we validate the output."
   ]
  },
  {
   "cell_type": "code",
   "execution_count": 12,
   "metadata": {},
   "outputs": [],
   "source": [
    "a.freq_axis.validate(a.freq_axis.get())"
   ]
  },
  {
   "cell_type": "markdown",
   "metadata": {},
   "source": [
    "Naturally, we can also get the spectrum. Getting the spectrum will automatically perform validation both for the shape of the parameter itself and the relation to the setpoint parameter(s)"
   ]
  },
  {
   "cell_type": "code",
   "execution_count": 13,
   "metadata": {
    "scrolled": true
   },
   "outputs": [
    {
     "data": {
      "text/plain": [
       "501"
      ]
     },
     "execution_count": 13,
     "metadata": {},
     "output_type": "execute_result"
    }
   ],
   "source": [
    "spectrum = a.spectrum.get()\n",
    "len(spectrum)"
   ]
  },
  {
   "cell_type": "markdown",
   "metadata": {},
   "source": [
    "When we validate a `ParameterWithSetpoints`, we automatically validate that the shape is consistent between the parameters and its setpoints. As well as validating the shape as above."
   ]
  },
  {
   "cell_type": "code",
   "execution_count": 14,
   "metadata": {},
   "outputs": [],
   "source": [
    "a.spectrum.validate(a.spectrum.get())"
   ]
  },
  {
   "cell_type": "markdown",
   "metadata": {},
   "source": [
    "The consistent shapes can be validated explicitly."
   ]
  },
  {
   "cell_type": "code",
   "execution_count": 15,
   "metadata": {},
   "outputs": [],
   "source": [
    "a.spectrum.validate_consistent_shape()"
   ]
  },
  {
   "cell_type": "markdown",
   "metadata": {},
   "source": [
    "We can inspect the setpoints of the spectrum."
   ]
  },
  {
   "cell_type": "code",
   "execution_count": 16,
   "metadata": {},
   "outputs": [
    {
     "data": {
      "text/plain": [
       "(<__main__.GeneratedSetPoints: freq_axis at 140152608395984>,)"
      ]
     },
     "execution_count": 16,
     "metadata": {},
     "output_type": "execute_result"
    }
   ],
   "source": [
    "a.spectrum.setpoints"
   ]
  },
  {
   "cell_type": "markdown",
   "metadata": {},
   "source": [
    "Or even change them."
   ]
  },
  {
   "cell_type": "code",
   "execution_count": 17,
   "metadata": {},
   "outputs": [],
   "source": [
    "a.spectrum.setpoints = (a.freq_axis,)"
   ]
  },
  {
   "cell_type": "markdown",
   "metadata": {},
   "source": [
    "## Measurement"
   ]
  },
  {
   "cell_type": "markdown",
   "metadata": {},
   "source": [
    "We can also directly consume the parameter in a measurement without defining the setpoints of the parameter again. The setpoints are automatically obtained from the definition of the `ParameterWithSetpoint` instance. "
   ]
  },
  {
   "cell_type": "code",
   "execution_count": 18,
   "metadata": {},
   "outputs": [
    {
     "name": "stdout",
     "output_type": "stream",
     "text": [
      "Starting experimental run with id: 1. \n"
     ]
    }
   ],
   "source": [
    "meas = Measurement()\n",
    "meas.register_parameter(a.spectrum)\n",
    "\n",
    "with meas.run() as datasaver:\n",
    "    datasaver.add_result((a.freq_axis, a.freq_axis()),\n",
    "                         (a.spectrum, a.spectrum()))\n",
    "    dataset = datasaver.dataset"
   ]
  },
  {
   "cell_type": "markdown",
   "metadata": {},
   "source": [
    "And plot it"
   ]
  },
  {
   "cell_type": "code",
   "execution_count": 19,
   "metadata": {},
   "outputs": [
    {
     "data": {
      "text/plain": [
       "([<matplotlib.axes._subplots.AxesSubplot at 0x7f77d2715310>], [None])"
      ]
     },
     "execution_count": 19,
     "metadata": {},
     "output_type": "execute_result"
    },
    {
     "data": {
      "image/png": "[encoded data removed]",
      "text/plain": [
       "<Figure size 432x288 with 1 Axes>"
      ]
     },
     "metadata": {
      "needs_background": "light"
     },
     "output_type": "display_data"
    }
   ],
   "source": [
    "plot_dataset(dataset)"
   ]
  },
  {
   "cell_type": "markdown",
   "metadata": {},
   "source": [
    "To reduce the amount of typing a simple convenience function is provided that will take a `ParameterWithSetpoints` and get both its values and the setpoints values and return them as tuples for direct insertion into the Dataset."
   ]
  },
  {
   "cell_type": "code",
   "execution_count": 20,
   "metadata": {
    "scrolled": true
   },
   "outputs": [
    {
     "data": {
      "text/plain": [
       "[(<__main__.GeneratedSetPoints: freq_axis at 140152608395984>,\n",
       "  array([  0.,   1.,   2.,   3.,   4.,   5.,   6.,   7.,   8.,   9.,  10.,\n",
       "          11.,  12.,  13.,  14.,  15.,  16.,  17.,  18.,  19.,  20.,  21.,\n",
       "          22.,  23.,  24.,  25.,  26.,  27.,  28.,  29.,  30.,  31.,  32.,\n",
       "          33.,  34.,  35.,  36.,  37.,  38.,  39.,  40.,  41.,  42.,  43.,\n",
       "          44.,  45.,  46.,  47.,  48.,  49.,  50.,  51.,  52.,  53.,  54.,\n",
       "          55.,  56.,  57.,  58.,  59.,  60.,  61.,  62.,  63.,  64.,  65.,\n",
       "          66.,  67.,  68.,  69.,  70.,  71.,  72.,  73.,  74.,  75.,  76.,\n",
       "          77.,  78.,  79.,  80.,  81.,  82.,  83.,  84.,  85.,  86.,  87.,\n",
       "          88.,  89.,  90.,  91.,  92.,  93.,  94.,  95.,  96.,  97.,  98.,\n",
       "          99., 100., 101., 102., 103., 104., 105., 106., 107., 108., 109.,\n",
       "         110., 111., 112., 113., 114., 115., 116., 117., 118., 119., 120.,\n",
       "         121., 122., 123., 124., 125., 126., 127., 128., 129., 130., 131.,\n",
       "         132., 133., 134., 135., 136., 137., 138., 139., 140., 141., 142.,\n",
       "         143., 144., 145., 146., 147., 148., 149., 150., 151., 152., 153.,\n",
       "         154., 155., 156., 157., 158., 159., 160., 161., 162., 163., 164.,\n",
       "         165., 166., 167., 168., 169., 170., 171., 172., 173., 174., 175.,\n",
       "         176., 177., 178., 179., 180., 181., 182., 183., 184., 185., 186.,\n",
       "         187., 188., 189., 190., 191., 192., 193., 194., 195., 196., 197.,\n",
       "         198., 199., 200., 201., 202., 203., 204., 205., 206., 207., 208.,\n",
       "         209., 210., 211., 212., 213., 214., 215., 216., 217., 218., 219.,\n",
       "         220., 221., 222., 223., 224., 225., 226., 227., 228., 229., 230.,\n",
       "         231., 232., 233., 234., 235., 236., 237., 238., 239., 240., 241.,\n",
       "         242., 243., 244., 245., 246., 247., 248., 249., 250., 251., 252.,\n",
       "         253., 254., 255., 256., 257., 258., 259., 260., 261., 262., 263.,\n",
       "         264., 265., 266., 267., 268., 269., 270., 271., 272., 273., 274.,\n",
       "         275., 276., 277., 278., 279., 280., 281., 282., 283., 284., 285.,\n",
       "         286., 287., 288., 289., 290., 291., 292., 293., 294., 295., 296.,\n",
       "         297., 298., 299., 300., 301., 302., 303., 304., 305., 306., 307.,\n",
       "         308., 309., 310., 311., 312., 313., 314., 315., 316., 317., 318.,\n",
       "         319., 320., 321., 322., 323., 324., 325., 326., 327., 328., 329.,\n",
       "         330., 331., 332., 333., 334., 335., 336., 337., 338., 339., 340.,\n",
       "         341., 342., 343., 344., 345., 346., 347., 348., 349., 350., 351.,\n",
       "         352., 353., 354., 355., 356., 357., 358., 359., 360., 361., 362.,\n",
       "         363., 364., 365., 366., 367., 368., 369., 370., 371., 372., 373.,\n",
       "         374., 375., 376., 377., 378., 379., 380., 381., 382., 383., 384.,\n",
       "         385., 386., 387., 388., 389., 390., 391., 392., 393., 394., 395.,\n",
       "         396., 397., 398., 399., 400., 401., 402., 403., 404., 405., 406.,\n",
       "         407., 408., 409., 410., 411., 412., 413., 414., 415., 416., 417.,\n",
       "         418., 419., 420., 421., 422., 423., 424., 425., 426., 427., 428.,\n",
       "         429., 430., 431., 432., 433., 434., 435., 436., 437., 438., 439.,\n",
       "         440., 441., 442., 443., 444., 445., 446., 447., 448., 449., 450.,\n",
       "         451., 452., 453., 454., 455., 456., 457., 458., 459., 460., 461.,\n",
       "         462., 463., 464., 465., 466., 467., 468., 469., 470., 471., 472.,\n",
       "         473., 474., 475., 476., 477., 478., 479., 480., 481., 482., 483.,\n",
       "         484., 485., 486., 487., 488., 489., 490., 491., 492., 493., 494.,\n",
       "         495., 496., 497., 498., 499., 500.])),\n",
       " (<__main__.DummyArray: spectrum at 140152609905168>,\n",
       "  array([2.70148588e-01, 8.90273108e-01, 6.61307438e-01, 2.92964153e-02,\n",
       "         7.51394746e-01, 5.83971176e-01, 7.22179657e-01, 2.09675941e-01,\n",
       "         2.39564668e-01, 2.69741106e-01, 1.54834377e-01, 8.04252594e-01,\n",
       "         4.57201684e-01, 8.94924382e-01, 8.81013174e-01, 7.22429304e-01,\n",
       "         9.32269754e-01, 1.95676563e-01, 7.05282184e-01, 1.41385112e-01,\n",
       "         5.97406648e-01, 3.04027338e-01, 8.79192758e-01, 4.91528745e-01,\n",
       "         5.07331736e-01, 3.41157708e-01, 9.76180554e-01, 9.48880053e-02,\n",
       "         7.03900600e-01, 5.32606394e-02, 6.78511768e-02, 7.10284154e-01,\n",
       "         3.55905967e-01, 1.79258031e-01, 7.36381315e-02, 4.27218652e-01,\n",
       "         1.01560728e-01, 5.18676291e-01, 6.80296940e-01, 2.46202670e-01,\n",
       "         2.27302933e-01, 1.49687894e-01, 8.91568633e-01, 5.17483006e-01,\n",
       "         9.78028816e-01, 9.88159287e-01, 4.60320320e-01, 2.96528836e-01,\n",
       "         3.91057149e-01, 7.77723950e-01, 5.99626600e-01, 7.37573119e-01,\n",
       "         9.39351562e-01, 6.40710566e-02, 9.81781715e-01, 6.52469659e-02,\n",
       "         6.11835371e-01, 1.61295142e-01, 5.71916462e-01, 4.04818339e-01,\n",
       "         1.86423549e-01, 8.08531795e-01, 5.42928575e-01, 2.52565361e-01,\n",
       "         6.13612076e-01, 6.33731039e-02, 1.78330948e-01, 6.24746953e-01,\n",
       "         4.26057923e-01, 3.51141837e-01, 3.09305852e-01, 7.57833086e-01,\n",
       "         7.89652930e-01, 1.20553119e-01, 5.36337446e-01, 5.74265451e-01,\n",
       "         3.71341835e-01, 3.46487273e-01, 8.44744580e-01, 7.28251639e-01,\n",
       "         8.80688729e-01, 9.46785608e-02, 1.88361070e-01, 9.62340333e-01,\n",
       "         8.62087717e-01, 7.20642259e-01, 6.33257993e-01, 2.62763844e-01,\n",
       "         4.49103861e-01, 5.41867910e-01, 8.45676042e-01, 1.13385262e-01,\n",
       "         8.11205585e-01, 9.67080266e-01, 3.59543588e-01, 7.58598527e-01,\n",
       "         6.98521633e-01, 2.12023549e-01, 5.98626125e-01, 5.72618694e-01,\n",
       "         1.30291079e-01, 1.05905122e-01, 9.55558801e-02, 2.82195048e-01,\n",
       "         5.73039648e-01, 8.28379036e-01, 9.72892875e-01, 7.52049444e-01,\n",
       "         9.19259277e-01, 3.06177141e-01, 9.03072862e-01, 9.50238405e-01,\n",
       "         3.22389337e-02, 9.36688785e-01, 9.34728387e-01, 3.91504211e-01,\n",
       "         9.86727905e-01, 9.32641201e-01, 3.79800408e-01, 3.30294740e-02,\n",
       "         1.18132058e-01, 3.46160579e-01, 9.78285977e-01, 5.48302745e-01,\n",
       "         8.98493646e-02, 2.99260243e-01, 8.99112732e-01, 5.53833116e-02,\n",
       "         1.62538375e-01, 4.53461992e-01, 1.26715337e-01, 4.96190366e-01,\n",
       "         6.19787923e-01, 7.25143890e-01, 4.10351988e-01, 5.93833374e-01,\n",
       "         8.26085684e-01, 4.99579601e-01, 2.34818027e-01, 4.71628624e-01,\n",
       "         3.31605676e-01, 5.82908207e-01, 4.37260716e-01, 1.68914230e-01,\n",
       "         3.30120085e-02, 8.09109030e-01, 3.80948426e-01, 5.06309286e-01,\n",
       "         5.25553689e-01, 5.35839805e-01, 3.34387814e-01, 9.42829190e-01,\n",
       "         2.80905909e-01, 8.33950389e-01, 8.65992465e-02, 7.51305578e-01,\n",
       "         7.30894290e-01, 7.75198752e-02, 9.92396897e-01, 4.89335633e-01,\n",
       "         6.75510027e-01, 7.78777364e-01, 4.88632855e-01, 6.77167580e-01,\n",
       "         7.18504012e-01, 9.04586056e-01, 9.35736613e-01, 5.64478286e-01,\n",
       "         9.54094347e-01, 1.00697894e-01, 3.73091705e-01, 7.50135314e-01,\n",
       "         4.69555263e-01, 9.23626990e-01, 8.52566268e-01, 2.45849748e-01,\n",
       "         9.94173421e-02, 5.08308156e-01, 3.62508193e-01, 8.36023992e-01,\n",
       "         1.91299317e-01, 8.48862989e-01, 6.30322144e-01, 3.07952803e-01,\n",
       "         7.17234148e-01, 2.84544270e-01, 6.29854252e-01, 5.65239865e-01,\n",
       "         2.19218684e-01, 4.78857064e-01, 8.42590190e-01, 1.37003740e-01,\n",
       "         5.72783295e-01, 7.16250973e-01, 9.51807557e-02, 1.85928931e-01,\n",
       "         4.80342431e-01, 7.25723942e-01, 9.81086020e-01, 4.93217619e-01,\n",
       "         3.79125141e-02, 1.16864913e-01, 4.44867108e-01, 5.16761623e-01,\n",
       "         8.46880860e-01, 6.99223373e-01, 6.08760612e-01, 3.55578622e-01,\n",
       "         5.88546108e-01, 2.46215326e-01, 6.17032643e-01, 7.10981616e-01,\n",
       "         9.20062109e-01, 1.81672540e-01, 8.62167515e-01, 5.59581109e-01,\n",
       "         9.77586481e-01, 5.10199125e-01, 8.03111342e-01, 9.45283658e-01,\n",
       "         4.32909736e-01, 3.64992523e-01, 3.99313481e-01, 8.55980097e-01,\n",
       "         1.98386569e-01, 6.14561625e-01, 7.29256856e-01, 4.40550965e-01,\n",
       "         9.07782400e-01, 1.15377878e-01, 9.98816275e-01, 3.33753035e-01,\n",
       "         7.29649156e-01, 9.77688134e-01, 3.74595406e-01, 1.52080420e-01,\n",
       "         4.87700740e-01, 2.20900237e-01, 7.72373966e-01, 4.89946578e-01,\n",
       "         8.42206731e-01, 8.40926517e-01, 7.48181665e-01, 1.26267334e-01,\n",
       "         4.50972628e-01, 1.61268540e-01, 7.66880593e-01, 6.48443148e-02,\n",
       "         2.24141270e-01, 5.06318469e-01, 2.85426892e-01, 6.93773170e-01,\n",
       "         3.07834033e-01, 3.71748636e-01, 3.06749979e-01, 2.01918004e-01,\n",
       "         9.74965093e-01, 7.32980274e-01, 6.29658697e-01, 8.66664196e-02,\n",
       "         4.10581724e-01, 8.65804754e-01, 4.07013252e-01, 2.10465451e-01,\n",
       "         9.71291548e-01, 7.55957243e-01, 1.83924418e-01, 4.91726356e-01,\n",
       "         2.13225437e-01, 7.87406419e-04, 1.00057038e-01, 3.36591249e-01,\n",
       "         9.98137098e-01, 5.62132415e-01, 4.02755733e-01, 5.42302809e-01,\n",
       "         9.86195754e-01, 8.35458181e-01, 9.91278201e-01, 6.24190081e-02,\n",
       "         8.89581773e-01, 6.26718140e-01, 4.53361463e-01, 9.50087902e-01,\n",
       "         1.58440742e-01, 1.40856855e-01, 3.02795115e-01, 3.82922278e-01,\n",
       "         7.90100332e-01, 4.15416819e-01, 8.49768122e-02, 3.56121420e-01,\n",
       "         1.68471908e-01, 8.97726719e-01, 4.39282320e-01, 3.73018868e-01,\n",
       "         8.88593894e-02, 6.31449309e-01, 7.13664883e-01, 9.51888194e-01,\n",
       "         6.91036974e-01, 2.20600665e-01, 3.18519690e-01, 7.56215421e-01,\n",
       "         9.32744050e-01, 2.96353274e-01, 1.48836345e-01, 6.04945259e-01,\n",
       "         6.99731854e-01, 7.42306050e-01, 7.26781957e-01, 2.41491530e-01,\n",
       "         7.94480852e-01, 2.09943428e-01, 8.74699506e-01, 7.76797256e-01,\n",
       "         4.26621641e-01, 5.82330615e-01, 5.60867822e-01, 2.46282646e-02,\n",
       "         5.98896894e-01, 3.40154361e-01, 9.05541058e-01, 4.71699911e-01,\n",
       "         3.70919928e-01, 9.47842601e-01, 2.01058205e-01, 8.81195244e-01,\n",
       "         9.25932168e-01, 9.73161092e-02, 6.38245449e-01, 4.33435914e-01,\n",
       "         6.12525632e-01, 5.74773799e-01, 5.25199095e-01, 8.64069733e-01,\n",
       "         2.04336074e-01, 1.23236666e-01, 5.67724237e-01, 9.87343699e-01,\n",
       "         7.45642425e-01, 3.17689252e-01, 1.45540664e-01, 2.12986891e-01,\n",
       "         4.93031174e-01, 6.48794612e-01, 9.52651653e-01, 1.72477805e-01,\n",
       "         8.54429573e-01, 6.21093326e-01, 6.40342524e-01, 4.68304504e-01,\n",
       "         7.81699066e-01, 7.65913597e-01, 2.95677051e-01, 8.84507754e-01,\n",
       "         1.79551988e-03, 4.67639777e-01, 5.81453078e-01, 5.88742142e-01,\n",
       "         3.50378150e-01, 7.10081621e-01, 7.60224072e-01, 6.39974752e-01,\n",
       "         4.78137711e-01, 9.62069183e-01, 6.03634183e-01, 8.85375505e-02,\n",
       "         7.42264959e-01, 9.29105180e-01, 8.74022997e-01, 8.68230768e-01,\n",
       "         6.26712519e-01, 7.96224043e-01, 3.10869498e-01, 4.75329593e-01,\n",
       "         2.34325293e-01, 9.03595342e-02, 3.57971385e-02, 9.42207742e-01,\n",
       "         5.50306355e-01, 5.19898433e-01, 5.27094925e-01, 5.49744039e-02,\n",
       "         3.85711132e-01, 9.38037166e-01, 4.79031957e-01, 9.67797846e-01,\n",
       "         9.26691988e-01, 3.34707545e-01, 1.41266594e-01, 8.67865272e-01,\n",
       "         9.59601906e-02, 8.53775185e-01, 7.70966846e-01, 3.03819225e-01,\n",
       "         1.84376317e-01, 1.65478441e-01, 1.31306762e-01, 9.21600883e-01,\n",
       "         8.72491066e-01, 9.17598178e-02, 1.81714514e-01, 2.91514586e-01,\n",
       "         3.94257743e-01, 8.41345069e-01, 6.39895082e-01, 9.00449026e-01,\n",
       "         2.28363550e-01, 3.37511328e-01, 5.76499862e-01, 1.91715269e-01,\n",
       "         7.50007510e-01, 9.16375548e-01, 8.29523730e-01, 1.83381354e-01,\n",
       "         1.56803253e-01, 1.74873459e-01, 6.22734934e-01, 8.88359724e-01,\n",
       "         3.35048704e-01, 7.23892574e-01, 4.55150289e-01, 5.34649830e-02,\n",
       "         6.88400099e-02, 6.84523861e-01, 3.98735474e-02, 5.02571796e-01,\n",
       "         3.85164701e-01, 1.49154756e-01, 3.73044996e-01, 3.45539147e-01,\n",
       "         9.56260239e-01, 3.27269657e-01, 4.80774664e-01, 3.63347242e-01,\n",
       "         7.30305071e-01, 1.55701126e-01, 8.47555548e-01, 1.91405307e-01,\n",
       "         4.78572376e-01, 3.49432458e-01, 2.79672413e-01, 7.32957111e-01,\n",
       "         9.57283051e-01, 1.75790433e-01, 9.93713977e-01, 6.33314013e-01,\n",
       "         8.81318104e-01, 7.19187321e-01, 2.59787414e-01, 2.75064386e-01,\n",
       "         5.76210155e-01, 6.49604318e-01, 4.42752765e-01, 6.40880884e-01,\n",
       "         6.52121240e-01, 5.18551993e-01, 8.98692023e-01, 6.33747470e-01,\n",
       "         9.10150921e-01, 3.56104887e-01, 6.60794783e-01, 3.47744703e-01,\n",
       "         1.68576056e-01, 6.43080409e-01, 9.13415192e-01, 4.73501281e-01,\n",
       "         9.21675607e-01, 8.26512193e-01, 9.88261109e-01, 2.90714472e-01,\n",
       "         6.18531754e-01, 7.44212766e-01, 3.16055163e-01, 1.44773007e-01,\n",
       "         1.79203572e-01, 9.73313989e-01, 4.12698896e-01, 2.76420885e-01,\n",
       "         8.24652712e-01, 3.92607007e-01, 6.18948455e-01, 4.66579461e-01,\n",
       "         8.75667846e-01, 5.06112187e-01, 7.91930361e-01, 2.66585028e-01,\n",
       "         5.37469803e-01, 2.06191508e-01, 7.89619820e-02, 9.04495676e-01,\n",
       "         4.88780377e-01, 2.70483892e-01, 6.97654368e-01, 2.73109493e-01,\n",
       "         8.42192321e-01, 3.98575536e-01, 8.87831270e-02, 3.34437726e-01,\n",
       "         6.05838703e-01]))]"
      ]
     },
     "execution_count": 20,
     "metadata": {},
     "output_type": "execute_result"
    }
   ],
   "source": [
    "expand_setpoints_helper(a.spectrum)"
   ]
  },
  {
   "cell_type": "code",
   "execution_count": 21,
   "metadata": {},
   "outputs": [
    {
     "name": "stdout",
     "output_type": "stream",
     "text": [
      "Starting experimental run with id: 2. \n"
     ]
    }
   ],
   "source": [
    "meas = Measurement()\n",
    "meas.register_parameter(a.spectrum)\n",
    "\n",
    "with meas.run() as datasaver:\n",
    "    datasaver.add_result(*expand_setpoints_helper(a.spectrum))\n",
    "    \n",
    "    dataid = datasaver.run_id"
   ]
  },
  {
   "cell_type": "code",
   "execution_count": null,
   "metadata": {},
   "outputs": [],
   "source": []
  }
 ],
 "metadata": {
  "kernelspec": {
   "display_name": "Python 3",
   "language": "python",
   "name": "python3"
  },
  "language_info": {
   "codemirror_mode": {
    "name": "ipython",
    "version": 3
   },
   "file_extension": ".py",
   "mimetype": "text/x-python",
   "name": "python",
   "nbconvert_exporter": "python",
   "pygments_lexer": "ipython3",
   "version": "3.7.7"
  },
  "toc": {
   "base_numbering": 1,
   "nav_menu": {},
   "number_sections": true,
   "sideBar": true,
   "skip_h1_title": false,
   "title_cell": "Table of Contents",
   "title_sidebar": "Contents",
   "toc_cell": false,
   "toc_position": {},
   "toc_section_display": true,
   "toc_window_display": false
  },
  "varInspector": {
   "cols": {
    "lenName": 16,
    "lenType": 16,
    "lenVar": 40
   },
   "kernels_config": {
    "python": {
     "delete_cmd_postfix": "",
     "delete_cmd_prefix": "del ",
     "library": "var_list.py",
     "varRefreshCmd": "print(var_dic_list())"
    },
    "r": {
     "delete_cmd_postfix": ") ",
     "delete_cmd_prefix": "rm(",
     "library": "var_list.r",
     "varRefreshCmd": "cat(var_dic_list()) "
    }
   },
   "types_to_exclude": [
    "module",
    "function",
    "builtin_function_or_method",
    "instance",
    "_Feature"
   ],
   "window_display": false
  }
 },
 "nbformat": 4,
 "nbformat_minor": 2
}
