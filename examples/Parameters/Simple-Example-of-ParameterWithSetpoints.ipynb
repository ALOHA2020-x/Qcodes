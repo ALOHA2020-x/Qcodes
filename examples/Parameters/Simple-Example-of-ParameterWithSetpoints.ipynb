{
 "cells": [
  {
   "cell_type": "markdown",
   "metadata": {},
   "source": [
    "# Simple Example of ParameterWithSetpoints\n",
    "This notebook provides an example for writing a simple driver with a parameter that has setpoints. Let's name this parameter that has setpoints as \"y\". Then, the setpoints, say \"x1, x2, x3 ..\", are the parameters on which the parameter \n",
    "\"y\" depends upon. Meaning \"y\" is a function of \"x1, x2, x3 ...\" where \"x1, x2, x3 ...\" are known as the setpoints of parameter \"y\".\n",
    "\n",
    "This is most likely to be useful for instruments that return arrays of results. In this notebook, we will show an example of this."
   ]
  },
  {
   "cell_type": "code",
   "execution_count": 1,
   "metadata": {},
   "outputs": [],
   "source": [
    "import numpy as np\n",
    "import os"
   ]
  },
  {
   "cell_type": "code",
   "execution_count": 2,
   "metadata": {},
   "outputs": [
    {
     "name": "stdout",
     "output_type": "stream",
     "text": [
      "Logging hadn't been started.\n",
      "Activating auto-logging. Current session state plus future input saved.\n",
      "Filename       : /home/vsts/.qcodes/logs/command_history.log\n",
      "Mode           : append\n",
      "Output logging : True\n",
      "Raw input log  : False\n",
      "Timestamping   : True\n",
      "State          : active\n"
     ]
    },
    {
     "name": "stdout",
     "output_type": "stream",
     "text": [
      "Qcodes Logfile : /home/vsts/.qcodes/logs/200420-21544-qcodes.log\n"
     ]
    }
   ],
   "source": [
    "from qcodes.dataset.plotting import plot_dataset\n",
    "from qcodes.utils.validators import Numbers, Arrays\n",
    "from qcodes.instrument.base import Instrument\n",
    "from qcodes.dataset.measurements import Measurement"
   ]
  },
  {
   "cell_type": "code",
   "execution_count": 3,
   "metadata": {},
   "outputs": [],
   "source": [
    "from qcodes.dataset.sqlite.database import initialise_or_create_database_at\n",
    "from qcodes.dataset.experiment_container import load_or_create_experiment"
   ]
  },
  {
   "cell_type": "code",
   "execution_count": 4,
   "metadata": {},
   "outputs": [],
   "source": [
    "from qcodes.instrument.parameter import ParameterWithSetpoints, Parameter\n",
    "from qcodes.instrument.parameter import expand_setpoints_helper"
   ]
  },
  {
   "cell_type": "markdown",
   "metadata": {},
   "source": [
    "First, we define a dummy instrument that returns something like a frequency spectrum starting from a frequency given by `f_start` to a frequency given by `f_stop` in `n_points` steps. \n",
    "\n",
    "The extra functionality of the `ParameterWithSetpoints` is implemented by giving it a reference to one or more parameters that acts like its setpoints. \n",
    "\n",
    "To setup a `ParameterWithSetpoints` we have to do two things in addition to what we do for a normal parameter.\n",
    "\n",
    "* Define one or more parameter for the setpoints (one for each dimension of the array and let the `ParameterWithSetpoints` know that these are the setpoints.\n",
    "* Give both the setpoints parameter(s) and the `ParameterWithSetpoints` a `validator` of type `Arrays` with a shape. The shapes should be such that the combined shape of the setpoints matches the shape of the `ParameterWithSetpoints`. Note that if the shape changes with the setting of the instrument, it can be defined by another parameter as shown below. "
   ]
  },
  {
   "cell_type": "code",
   "execution_count": 5,
   "metadata": {},
   "outputs": [],
   "source": [
    "class GeneratedSetPoints(Parameter):\n",
    "    \"\"\"\n",
    "    A parameter that generates a setpoint array from start, stop and num points\n",
    "    parameters.\n",
    "    \"\"\"\n",
    "    def __init__(self, startparam, stopparam, numpointsparam, *args, **kwargs):\n",
    "        super().__init__(*args, **kwargs)\n",
    "        self._startparam = startparam\n",
    "        self._stopparam = stopparam\n",
    "        self._numpointsparam = numpointsparam\n",
    "\n",
    "    def get_raw(self):\n",
    "        return np.linspace(self._startparam(), self._stopparam(),\n",
    "                              self._numpointsparam())\n",
    "\n",
    "class DummyArray(ParameterWithSetpoints):\n",
    "    \n",
    "    def get_raw(self):\n",
    "        npoints = self.root_instrument.n_points.get_latest()\n",
    "        return np.random.rand(npoints)\n",
    "    \n",
    "\n",
    "class DummySpectrumAnalyzer(Instrument):\n",
    "    \n",
    "    def __init__(self, name, **kwargs):\n",
    "        \n",
    "        super().__init__(name, **kwargs)\n",
    "            \n",
    "\n",
    "        self.add_parameter('f_start',\n",
    "                           initial_value=0,\n",
    "                           unit='Hz',\n",
    "                           label='f start',\n",
    "                           vals=Numbers(0,1e3),\n",
    "                           get_cmd=None,\n",
    "                           set_cmd=None)\n",
    "\n",
    "        self.add_parameter('f_stop',\n",
    "                           unit='Hz',\n",
    "                           label='f stop',\n",
    "                           vals=Numbers(1,1e3),\n",
    "                           get_cmd=None,\n",
    "                           set_cmd=None)\n",
    "\n",
    "        self.add_parameter('n_points',\n",
    "                           unit='',\n",
    "                           initial_value=10,\n",
    "                           vals=Numbers(1,1e3),\n",
    "                           get_cmd=None,\n",
    "                           set_cmd=None)\n",
    "        \n",
    "        self.add_parameter('freq_axis',\n",
    "                           unit='Hz',\n",
    "                           label='Freq Axis',\n",
    "                           parameter_class=GeneratedSetPoints,\n",
    "                           startparam=self.f_start,\n",
    "                           stopparam=self.f_stop,\n",
    "                           numpointsparam=self.n_points,\n",
    "                           vals=Arrays(shape=(self.n_points.get_latest,)))\n",
    "                           \n",
    "        self.add_parameter('spectrum',\n",
    "                   unit='dBm',\n",
    "                   setpoints=(self.freq_axis,),\n",
    "                   label='Spectrum',\n",
    "                   parameter_class=DummyArray,\n",
    "                   vals=Arrays(shape=(self.n_points.get_latest,)))\n",
    "                "
   ]
  },
  {
   "cell_type": "markdown",
   "metadata": {},
   "source": [
    "In the above example, the shape is defined by the parameter `n_points` that defines how many samples our `DummySpectrumAnalyzer` returns.\n",
    "\n",
    "This means that the validation will call the function to get `n_points` twice for each `get` of the parameter. This may be too slow, however, if you (as the driver-writer) can guarantee that the cached value for `n_points` will never be out of sync with the value stored in the instrument, `n_points` may be replaced by it's latest known value such that the `validator` reads:\n",
    "```python\n",
    "vals=Arrays(shape=(self.n_points.get_latest))\n",
    "```\n",
    "\n",
    "This avoids any additional call to the instrument. In the same way, the arguments to the `freq_axis` parameter that defines the start, stop and number of points can be replaced by their latest value if the instrument allows it.\n",
    "\n"
   ]
  },
  {
   "cell_type": "code",
   "execution_count": 6,
   "metadata": {},
   "outputs": [
    {
     "name": "stdout",
     "output_type": "stream",
     "text": [
      "\r",
      "0it [00:00, ?it/s]"
     ]
    },
    {
     "name": "stdout",
     "output_type": "stream",
     "text": [
      "\r",
      "Upgrading database; v0 -> v1: : 0it [00:00, ?it/s]"
     ]
    },
    {
     "name": "stdout",
     "output_type": "stream",
     "text": [
      "\r",
      "Upgrading database; v0 -> v1: : 0it [00:00, ?it/s]"
     ]
    },
    {
     "name": "stdout",
     "output_type": "stream",
     "text": [
      "\n",
      "\r",
      "  0%|          | 0/1 [00:00<?, ?it/s]"
     ]
    },
    {
     "name": "stdout",
     "output_type": "stream",
     "text": [
      "\r",
      "Upgrading database; v1 -> v2:   0%|          | 0/1 [00:00<?, ?it/s]"
     ]
    },
    {
     "name": "stdout",
     "output_type": "stream",
     "text": [
      "\r",
      "Upgrading database; v1 -> v2: 100%|██████████| 1/1 [00:00<00:00, 898.52it/s]"
     ]
    },
    {
     "name": "stdout",
     "output_type": "stream",
     "text": [
      "\n",
      "\r",
      "0it [00:00, ?it/s]"
     ]
    },
    {
     "name": "stdout",
     "output_type": "stream",
     "text": [
      "\r",
      "Upgrading database; v2 -> v3: : 0it [00:00, ?it/s]"
     ]
    },
    {
     "name": "stdout",
     "output_type": "stream",
     "text": [
      "\r",
      "Upgrading database; v2 -> v3: : 0it [00:00, ?it/s]"
     ]
    },
    {
     "name": "stdout",
     "output_type": "stream",
     "text": [
      "\n",
      "\r",
      "0it [00:00, ?it/s]"
     ]
    },
    {
     "name": "stdout",
     "output_type": "stream",
     "text": [
      "\r",
      "Upgrading database; v3 -> v4: : 0it [00:00, ?it/s]"
     ]
    },
    {
     "name": "stdout",
     "output_type": "stream",
     "text": [
      "\r",
      "Upgrading database; v3 -> v4: : 0it [00:00, ?it/s]"
     ]
    },
    {
     "name": "stdout",
     "output_type": "stream",
     "text": [
      "\n",
      "\r",
      "  0%|          | 0/1 [00:00<?, ?it/s]"
     ]
    },
    {
     "name": "stdout",
     "output_type": "stream",
     "text": [
      "\r",
      "Upgrading database; v4 -> v5:   0%|          | 0/1 [00:00<?, ?it/s]"
     ]
    },
    {
     "name": "stdout",
     "output_type": "stream",
     "text": [
      "\r",
      "Upgrading database; v4 -> v5: 100%|██████████| 1/1 [00:00<00:00, 1001.74it/s]"
     ]
    },
    {
     "name": "stdout",
     "output_type": "stream",
     "text": [
      "\n",
      "\r",
      "0it [00:00, ?it/s]"
     ]
    },
    {
     "name": "stdout",
     "output_type": "stream",
     "text": [
      "\r",
      "Upgrading database; v5 -> v6: : 0it [00:00, ?it/s]"
     ]
    },
    {
     "name": "stdout",
     "output_type": "stream",
     "text": [
      "\r",
      "Upgrading database; v5 -> v6: : 0it [00:00, ?it/s]"
     ]
    },
    {
     "name": "stdout",
     "output_type": "stream",
     "text": [
      "\n",
      "\r",
      "  0%|          | 0/1 [00:00<?, ?it/s]"
     ]
    },
    {
     "name": "stdout",
     "output_type": "stream",
     "text": [
      "\r",
      "Upgrading database; v6 -> v7:   0%|          | 0/1 [00:00<?, ?it/s]"
     ]
    },
    {
     "name": "stdout",
     "output_type": "stream",
     "text": [
      "\r",
      "Upgrading database; v6 -> v7: 100%|██████████| 1/1 [00:00<00:00, 314.13it/s]"
     ]
    },
    {
     "name": "stdout",
     "output_type": "stream",
     "text": [
      "\n",
      "\r",
      "  0%|          | 0/1 [00:00<?, ?it/s]"
     ]
    },
    {
     "name": "stdout",
     "output_type": "stream",
     "text": [
      "\r",
      "Upgrading database; v7 -> v8:   0%|          | 0/1 [00:00<?, ?it/s]"
     ]
    },
    {
     "name": "stdout",
     "output_type": "stream",
     "text": [
      "\r",
      "Upgrading database; v7 -> v8: 100%|██████████| 1/1 [00:00<00:00, 905.90it/s]"
     ]
    },
    {
     "name": "stdout",
     "output_type": "stream",
     "text": [
      "\n",
      "\r",
      "  0%|          | 0/1 [00:00<?, ?it/s]"
     ]
    },
    {
     "name": "stdout",
     "output_type": "stream",
     "text": [
      "\r",
      "Upgrading database; v8 -> v9:   0%|          | 0/1 [00:00<?, ?it/s]"
     ]
    },
    {
     "name": "stdout",
     "output_type": "stream",
     "text": [
      "\r",
      "Upgrading database; v8 -> v9: 100%|██████████| 1/1 [00:00<00:00, 1161.54it/s]"
     ]
    },
    {
     "name": "stdout",
     "output_type": "stream",
     "text": [
      "\n"
     ]
    },
    {
     "data": {
      "text/plain": [
       "tutorial_ParameterWithSetpoints#no sample#1@/home/vsts/work/1/s/docs/examples/Parameters/tutorial_paramter_with_setpoints.db\n",
       "----------------------------------------------------------------------------------------------------------------------------"
      ]
     },
     "execution_count": 6,
     "metadata": {},
     "output_type": "execute_result"
    }
   ],
   "source": [
    "tutorial_db_path = os.path.join(os.getcwd(), 'tutorial_paramter_with_setpoints.db')\n",
    "initialise_or_create_database_at(tutorial_db_path)\n",
    "load_or_create_experiment(experiment_name='tutorial_ParameterWithSetpoints', sample_name=\"no sample\")"
   ]
  },
  {
   "cell_type": "code",
   "execution_count": 7,
   "metadata": {},
   "outputs": [],
   "source": [
    "a = DummySpectrumAnalyzer('foobar')"
   ]
  },
  {
   "cell_type": "markdown",
   "metadata": {},
   "source": [
    "First we setup the limits of the spectrum"
   ]
  },
  {
   "cell_type": "code",
   "execution_count": 8,
   "metadata": {},
   "outputs": [],
   "source": [
    "a.f_start(0)\n",
    "a.f_stop(500)\n",
    "a.n_points(501)"
   ]
  },
  {
   "cell_type": "markdown",
   "metadata": {},
   "source": [
    "And we can grab the frequency axis"
   ]
  },
  {
   "cell_type": "code",
   "execution_count": 9,
   "metadata": {},
   "outputs": [
    {
     "data": {
      "text/plain": [
       "501"
      ]
     },
     "execution_count": 9,
     "metadata": {},
     "output_type": "execute_result"
    }
   ],
   "source": [
    "a.n_points()"
   ]
  },
  {
   "cell_type": "code",
   "execution_count": 10,
   "metadata": {
    "scrolled": false
   },
   "outputs": [
    {
     "data": {
      "text/plain": [
       "501"
      ]
     },
     "execution_count": 10,
     "metadata": {},
     "output_type": "execute_result"
    }
   ],
   "source": [
    "freq_axis = a.freq_axis()\n",
    "len(freq_axis)"
   ]
  },
  {
   "cell_type": "code",
   "execution_count": 11,
   "metadata": {},
   "outputs": [
    {
     "data": {
      "text/plain": [
       "array([0., 1., 2., 3., 4., 5., 6., 7., 8., 9.])"
      ]
     },
     "execution_count": 11,
     "metadata": {},
     "output_type": "execute_result"
    }
   ],
   "source": [
    "freq_axis[:10]"
   ]
  },
  {
   "cell_type": "markdown",
   "metadata": {},
   "source": [
    "As expected we get a result wit 501 points as we asked for an axis with 501 points. "
   ]
  },
  {
   "cell_type": "markdown",
   "metadata": {},
   "source": [
    "Above we have added a validator to the `freq_axis` parameter encoding the fact that this is an Array with `n_points`. Note that we do not have to supply the number of points as an integer but can supply a function that returns the valid number of points. This would normally be a QCoDeS parameter.\n",
    "\n",
    "This will be checked if we validate the output."
   ]
  },
  {
   "cell_type": "code",
   "execution_count": 12,
   "metadata": {},
   "outputs": [],
   "source": [
    "a.freq_axis.validate(a.freq_axis.get())"
   ]
  },
  {
   "cell_type": "markdown",
   "metadata": {},
   "source": [
    "Naturally, we can also get the spectrum. Getting the spectrum will automatically perform validation both for the shape of the parameter itself and the relation to the setpoint parameter(s)"
   ]
  },
  {
   "cell_type": "code",
   "execution_count": 13,
   "metadata": {
    "scrolled": true
   },
   "outputs": [
    {
     "data": {
      "text/plain": [
       "501"
      ]
     },
     "execution_count": 13,
     "metadata": {},
     "output_type": "execute_result"
    }
   ],
   "source": [
    "spectrum = a.spectrum.get()\n",
    "len(spectrum)"
   ]
  },
  {
   "cell_type": "markdown",
   "metadata": {},
   "source": [
    "When we validate a `ParameterWithSetpoints`, we automatically validate that the shape is consistent between the parameters and its setpoints. As well as validating the shape as above."
   ]
  },
  {
   "cell_type": "code",
   "execution_count": 14,
   "metadata": {},
   "outputs": [],
   "source": [
    "a.spectrum.validate(a.spectrum.get())"
   ]
  },
  {
   "cell_type": "markdown",
   "metadata": {},
   "source": [
    "The consistent shapes can be validated explicitly."
   ]
  },
  {
   "cell_type": "code",
   "execution_count": 15,
   "metadata": {},
   "outputs": [],
   "source": [
    "a.spectrum.validate_consistent_shape()"
   ]
  },
  {
   "cell_type": "markdown",
   "metadata": {},
   "source": [
    "We can inspect the setpoints of the spectrum."
   ]
  },
  {
   "cell_type": "code",
   "execution_count": 16,
   "metadata": {},
   "outputs": [
    {
     "data": {
      "text/plain": [
       "(<__main__.GeneratedSetPoints: freq_axis at 140560761541264>,)"
      ]
     },
     "execution_count": 16,
     "metadata": {},
     "output_type": "execute_result"
    }
   ],
   "source": [
    "a.spectrum.setpoints"
   ]
  },
  {
   "cell_type": "markdown",
   "metadata": {},
   "source": [
    "Or even change them."
   ]
  },
  {
   "cell_type": "code",
   "execution_count": 17,
   "metadata": {},
   "outputs": [],
   "source": [
    "a.spectrum.setpoints = (a.freq_axis,)"
   ]
  },
  {
   "cell_type": "markdown",
   "metadata": {},
   "source": [
    "## Measurement"
   ]
  },
  {
   "cell_type": "markdown",
   "metadata": {},
   "source": [
    "We can also directly consume the parameter in a measurement without defining the setpoints of the parameter again. The setpoints are automatically obtained from the definition of the `ParameterWithSetpoint` instance. "
   ]
  },
  {
   "cell_type": "code",
   "execution_count": 18,
   "metadata": {},
   "outputs": [
    {
     "name": "stdout",
     "output_type": "stream",
     "text": [
      "Starting experimental run with id: 1. \n"
     ]
    }
   ],
   "source": [
    "meas = Measurement()\n",
    "meas.register_parameter(a.spectrum)\n",
    "\n",
    "with meas.run() as datasaver:\n",
    "    datasaver.add_result((a.freq_axis, a.freq_axis()),\n",
    "                         (a.spectrum, a.spectrum()))\n",
    "    dataset = datasaver.dataset"
   ]
  },
  {
   "cell_type": "markdown",
   "metadata": {},
   "source": [
    "And plot it"
   ]
  },
  {
   "cell_type": "code",
   "execution_count": 19,
   "metadata": {},
   "outputs": [
    {
     "data": {
      "text/plain": [
       "([<matplotlib.axes._subplots.AxesSubplot at 0x7fd6da447ad0>], [None])"
      ]
     },
     "execution_count": 19,
     "metadata": {},
     "output_type": "execute_result"
    },
    {
     "data": {
      "image/png": "[encoded data removed]",
      "text/plain": [
       "<Figure size 432x288 with 1 Axes>"
      ]
     },
     "metadata": {
      "needs_background": "light"
     },
     "output_type": "display_data"
    }
   ],
   "source": [
    "plot_dataset(dataset)"
   ]
  },
  {
   "cell_type": "markdown",
   "metadata": {},
   "source": [
    "To reduce the amount of typing a simple convenience function is provided that will take a `ParameterWithSetpoints` and get both its values and the setpoints values and return them as tuples for direct insertion into the Dataset."
   ]
  },
  {
   "cell_type": "code",
   "execution_count": 20,
   "metadata": {
    "scrolled": true
   },
   "outputs": [
    {
     "data": {
      "text/plain": [
       "[(<__main__.GeneratedSetPoints: freq_axis at 140560761541264>,\n",
       "  array([  0.,   1.,   2.,   3.,   4.,   5.,   6.,   7.,   8.,   9.,  10.,\n",
       "          11.,  12.,  13.,  14.,  15.,  16.,  17.,  18.,  19.,  20.,  21.,\n",
       "          22.,  23.,  24.,  25.,  26.,  27.,  28.,  29.,  30.,  31.,  32.,\n",
       "          33.,  34.,  35.,  36.,  37.,  38.,  39.,  40.,  41.,  42.,  43.,\n",
       "          44.,  45.,  46.,  47.,  48.,  49.,  50.,  51.,  52.,  53.,  54.,\n",
       "          55.,  56.,  57.,  58.,  59.,  60.,  61.,  62.,  63.,  64.,  65.,\n",
       "          66.,  67.,  68.,  69.,  70.,  71.,  72.,  73.,  74.,  75.,  76.,\n",
       "          77.,  78.,  79.,  80.,  81.,  82.,  83.,  84.,  85.,  86.,  87.,\n",
       "          88.,  89.,  90.,  91.,  92.,  93.,  94.,  95.,  96.,  97.,  98.,\n",
       "          99., 100., 101., 102., 103., 104., 105., 106., 107., 108., 109.,\n",
       "         110., 111., 112., 113., 114., 115., 116., 117., 118., 119., 120.,\n",
       "         121., 122., 123., 124., 125., 126., 127., 128., 129., 130., 131.,\n",
       "         132., 133., 134., 135., 136., 137., 138., 139., 140., 141., 142.,\n",
       "         143., 144., 145., 146., 147., 148., 149., 150., 151., 152., 153.,\n",
       "         154., 155., 156., 157., 158., 159., 160., 161., 162., 163., 164.,\n",
       "         165., 166., 167., 168., 169., 170., 171., 172., 173., 174., 175.,\n",
       "         176., 177., 178., 179., 180., 181., 182., 183., 184., 185., 186.,\n",
       "         187., 188., 189., 190., 191., 192., 193., 194., 195., 196., 197.,\n",
       "         198., 199., 200., 201., 202., 203., 204., 205., 206., 207., 208.,\n",
       "         209., 210., 211., 212., 213., 214., 215., 216., 217., 218., 219.,\n",
       "         220., 221., 222., 223., 224., 225., 226., 227., 228., 229., 230.,\n",
       "         231., 232., 233., 234., 235., 236., 237., 238., 239., 240., 241.,\n",
       "         242., 243., 244., 245., 246., 247., 248., 249., 250., 251., 252.,\n",
       "         253., 254., 255., 256., 257., 258., 259., 260., 261., 262., 263.,\n",
       "         264., 265., 266., 267., 268., 269., 270., 271., 272., 273., 274.,\n",
       "         275., 276., 277., 278., 279., 280., 281., 282., 283., 284., 285.,\n",
       "         286., 287., 288., 289., 290., 291., 292., 293., 294., 295., 296.,\n",
       "         297., 298., 299., 300., 301., 302., 303., 304., 305., 306., 307.,\n",
       "         308., 309., 310., 311., 312., 313., 314., 315., 316., 317., 318.,\n",
       "         319., 320., 321., 322., 323., 324., 325., 326., 327., 328., 329.,\n",
       "         330., 331., 332., 333., 334., 335., 336., 337., 338., 339., 340.,\n",
       "         341., 342., 343., 344., 345., 346., 347., 348., 349., 350., 351.,\n",
       "         352., 353., 354., 355., 356., 357., 358., 359., 360., 361., 362.,\n",
       "         363., 364., 365., 366., 367., 368., 369., 370., 371., 372., 373.,\n",
       "         374., 375., 376., 377., 378., 379., 380., 381., 382., 383., 384.,\n",
       "         385., 386., 387., 388., 389., 390., 391., 392., 393., 394., 395.,\n",
       "         396., 397., 398., 399., 400., 401., 402., 403., 404., 405., 406.,\n",
       "         407., 408., 409., 410., 411., 412., 413., 414., 415., 416., 417.,\n",
       "         418., 419., 420., 421., 422., 423., 424., 425., 426., 427., 428.,\n",
       "         429., 430., 431., 432., 433., 434., 435., 436., 437., 438., 439.,\n",
       "         440., 441., 442., 443., 444., 445., 446., 447., 448., 449., 450.,\n",
       "         451., 452., 453., 454., 455., 456., 457., 458., 459., 460., 461.,\n",
       "         462., 463., 464., 465., 466., 467., 468., 469., 470., 471., 472.,\n",
       "         473., 474., 475., 476., 477., 478., 479., 480., 481., 482., 483.,\n",
       "         484., 485., 486., 487., 488., 489., 490., 491., 492., 493., 494.,\n",
       "         495., 496., 497., 498., 499., 500.])),\n",
       " (<__main__.DummyArray: spectrum at 140560770811984>,\n",
       "  array([5.15419774e-01, 7.24933205e-01, 7.80862187e-01, 4.53337646e-01,\n",
       "         7.15087657e-01, 1.01322361e-04, 5.04875237e-01, 1.49204375e-01,\n",
       "         1.49419198e-01, 2.18687883e-01, 2.49216697e-01, 1.88491814e-01,\n",
       "         7.12506012e-01, 1.71334008e-01, 5.92990770e-01, 4.68434690e-02,\n",
       "         9.85270180e-01, 4.02535506e-01, 5.91359533e-01, 9.10790557e-01,\n",
       "         2.88389088e-01, 4.46605621e-02, 4.43750175e-01, 4.11846235e-01,\n",
       "         7.31741751e-01, 6.34432091e-01, 9.74321860e-01, 7.66448084e-01,\n",
       "         1.47280979e-02, 5.09230700e-01, 4.19638839e-01, 5.08771997e-01,\n",
       "         4.76042750e-01, 4.67517259e-01, 4.30774739e-01, 9.09855683e-01,\n",
       "         2.84376979e-01, 4.70804097e-01, 6.44158342e-01, 9.15415839e-01,\n",
       "         2.33875933e-01, 4.68702745e-01, 9.11565710e-01, 6.74566475e-01,\n",
       "         1.55465890e-01, 6.07101599e-01, 8.05556943e-01, 3.89816077e-01,\n",
       "         2.78556843e-01, 5.47251492e-01, 2.88615024e-02, 3.50038526e-02,\n",
       "         2.42205078e-01, 4.43146461e-01, 6.58239546e-01, 6.33631339e-01,\n",
       "         1.92809892e-02, 7.32456507e-01, 8.01641542e-01, 6.68358810e-01,\n",
       "         7.18239617e-01, 4.56335978e-01, 5.36880477e-01, 1.88428946e-01,\n",
       "         4.55928495e-01, 4.92091919e-01, 3.91026744e-02, 7.04956680e-01,\n",
       "         9.91557694e-01, 1.05620145e-01, 9.87891610e-01, 7.10758299e-01,\n",
       "         4.22174419e-01, 3.76810322e-01, 4.85718366e-01, 9.75952374e-01,\n",
       "         1.72291432e-01, 3.21337889e-01, 4.70506493e-01, 2.01714144e-01,\n",
       "         1.89432161e-01, 9.45564017e-01, 1.93847324e-01, 1.38830580e-01,\n",
       "         3.21302214e-01, 3.21409341e-01, 9.34411160e-01, 2.42051322e-01,\n",
       "         8.77698011e-01, 6.12750817e-01, 2.18900098e-01, 9.65707846e-01,\n",
       "         4.95853087e-01, 7.42873167e-01, 8.54332331e-01, 9.23212919e-01,\n",
       "         3.86919125e-01, 8.35605803e-01, 1.10194047e-01, 1.47109559e-02,\n",
       "         1.56017356e-01, 9.98905609e-01, 7.81160334e-01, 6.75680741e-02,\n",
       "         7.77155264e-01, 7.38791434e-01, 3.93681989e-01, 7.48058533e-01,\n",
       "         1.44659071e-01, 9.39812013e-01, 9.18370450e-01, 1.73263500e-01,\n",
       "         5.22865060e-01, 1.96398854e-01, 8.01728208e-01, 7.14715855e-01,\n",
       "         6.66881341e-01, 4.16777989e-01, 4.23761672e-01, 3.59720995e-01,\n",
       "         6.25061899e-01, 8.52519573e-01, 6.12425864e-01, 6.11791059e-01,\n",
       "         7.73777605e-01, 1.43214043e-01, 3.47658932e-01, 6.58633555e-01,\n",
       "         7.85212550e-01, 1.04576983e-01, 6.66211942e-01, 7.44392822e-01,\n",
       "         4.80754190e-01, 9.39518581e-01, 3.67594109e-01, 3.15988922e-01,\n",
       "         3.71825138e-01, 4.93456512e-03, 9.90582505e-01, 2.72729950e-01,\n",
       "         4.21174999e-01, 5.35378024e-01, 1.22653930e-01, 8.79335473e-01,\n",
       "         8.73737585e-01, 9.00067898e-01, 6.37408841e-01, 5.72197848e-01,\n",
       "         8.68971849e-02, 8.76659745e-01, 8.66933227e-01, 9.89543550e-01,\n",
       "         9.36154263e-01, 4.06892463e-01, 9.19816935e-03, 1.04251803e-01,\n",
       "         5.17013157e-01, 3.23034459e-01, 1.77267434e-01, 2.12471630e-01,\n",
       "         4.72144044e-01, 2.96374451e-01, 9.69301771e-01, 9.73468648e-01,\n",
       "         8.43084714e-01, 2.07711259e-01, 4.46315587e-01, 6.83379297e-01,\n",
       "         1.25867105e-01, 2.55927264e-01, 6.84081392e-01, 3.70002358e-01,\n",
       "         8.18543744e-01, 9.31032990e-01, 3.39035604e-01, 4.50369149e-01,\n",
       "         4.68694480e-01, 1.69213600e-01, 3.13901700e-01, 4.97619245e-01,\n",
       "         6.45446749e-01, 4.85538370e-01, 6.09672661e-01, 2.31859129e-01,\n",
       "         6.28492848e-01, 1.60591022e-01, 1.09433788e-02, 2.92659322e-01,\n",
       "         7.23305726e-01, 6.85760372e-01, 3.80144679e-01, 9.56591386e-01,\n",
       "         9.76943095e-01, 6.24874343e-01, 4.87170251e-01, 9.34912273e-03,\n",
       "         5.69658238e-01, 7.17564252e-02, 4.36624678e-01, 6.93258501e-01,\n",
       "         8.38105469e-01, 6.78436643e-01, 2.24372060e-01, 4.85468400e-01,\n",
       "         1.29311575e-01, 7.74647900e-01, 4.55401434e-01, 8.61018461e-01,\n",
       "         3.57036588e-01, 6.70975344e-01, 6.06817697e-01, 2.48822752e-02,\n",
       "         8.88279744e-01, 8.86718356e-01, 7.89386689e-01, 1.08193365e-01,\n",
       "         9.43474874e-01, 2.26058880e-01, 5.91669603e-01, 9.91171565e-01,\n",
       "         2.98051722e-01, 8.67317786e-01, 4.61445681e-01, 5.05797461e-01,\n",
       "         2.86012914e-01, 3.08678569e-01, 3.72319380e-01, 9.85609107e-01,\n",
       "         9.46355331e-01, 1.84591851e-01, 6.45677659e-02, 8.38675457e-01,\n",
       "         9.33906497e-01, 7.91218665e-01, 5.14833016e-01, 8.04018320e-01,\n",
       "         2.88581373e-03, 6.63065256e-02, 3.87388259e-01, 4.77028659e-01,\n",
       "         1.49848548e-01, 2.60958928e-01, 8.04971463e-01, 6.81905907e-01,\n",
       "         1.93068541e-02, 1.62014075e-01, 2.18873718e-01, 4.67900285e-01,\n",
       "         1.69417431e-01, 3.02942126e-01, 4.39232936e-01, 9.67665706e-01,\n",
       "         4.85268230e-01, 5.66261162e-02, 2.75730409e-01, 8.66919882e-02,\n",
       "         3.30421534e-01, 5.47427229e-01, 9.73256828e-01, 3.26587544e-01,\n",
       "         7.70772081e-02, 9.71014609e-01, 8.76172788e-01, 3.61314078e-01,\n",
       "         5.43486742e-01, 9.59996190e-02, 2.03614609e-02, 5.56270374e-01,\n",
       "         9.11465889e-01, 7.18891721e-02, 2.38212274e-02, 3.64674975e-01,\n",
       "         1.99404484e-01, 6.93963415e-01, 4.76711293e-01, 8.61011155e-01,\n",
       "         4.30770646e-01, 2.96528374e-01, 2.89934376e-01, 8.44777167e-02,\n",
       "         1.26536788e-01, 8.69550641e-01, 7.69644897e-01, 9.79477844e-01,\n",
       "         5.88610539e-01, 1.93378882e-01, 7.75839395e-01, 6.31254204e-01,\n",
       "         6.12059655e-01, 5.17406675e-01, 9.64659456e-01, 1.78040209e-01,\n",
       "         9.56217314e-01, 5.75251670e-01, 4.57228429e-01, 3.34765552e-01,\n",
       "         7.12337516e-01, 3.23739226e-01, 4.72981904e-01, 7.62929336e-01,\n",
       "         6.58109269e-01, 2.87012121e-01, 8.76910745e-01, 6.02156914e-01,\n",
       "         4.78787841e-01, 8.97891254e-01, 5.82781590e-01, 3.13446035e-01,\n",
       "         5.07961397e-01, 3.59857987e-01, 5.98801456e-01, 6.67050313e-01,\n",
       "         4.17804319e-01, 2.16039934e-01, 9.38365326e-01, 4.73820934e-01,\n",
       "         1.78030941e-01, 2.01154213e-01, 2.56181710e-01, 1.17675283e-01,\n",
       "         7.24574059e-01, 3.05629742e-01, 7.36120555e-01, 4.54972025e-01,\n",
       "         5.50878567e-01, 2.44705446e-01, 1.73352790e-01, 7.17623992e-01,\n",
       "         3.74651959e-01, 2.02852382e-01, 3.33821342e-02, 9.98979201e-01,\n",
       "         8.54454069e-02, 1.55130992e-01, 7.86537956e-01, 1.03013615e-01,\n",
       "         6.20633205e-01, 4.55780053e-01, 2.06634614e-01, 5.92997656e-02,\n",
       "         6.13803489e-01, 6.40349258e-01, 2.85492151e-01, 4.53611151e-02,\n",
       "         1.85765443e-01, 2.94646175e-01, 8.66367859e-01, 9.17705650e-01,\n",
       "         4.67085443e-01, 5.41253655e-01, 5.35887379e-01, 4.11474362e-01,\n",
       "         3.68333652e-01, 3.59659293e-01, 4.47878642e-01, 8.93455333e-01,\n",
       "         7.58315630e-01, 6.78709640e-01, 6.07876473e-01, 5.51252525e-01,\n",
       "         3.40543193e-01, 5.17361365e-01, 1.48027266e-01, 8.26901871e-01,\n",
       "         4.39120361e-01, 4.94426051e-02, 8.11817092e-02, 8.86458411e-01,\n",
       "         6.11103685e-01, 3.19925737e-01, 9.45149191e-02, 3.58672896e-03,\n",
       "         6.65669639e-01, 4.76698779e-01, 1.38790064e-01, 7.66874623e-01,\n",
       "         5.50611441e-01, 6.59675520e-01, 5.79467202e-01, 2.51486905e-01,\n",
       "         3.60891059e-01, 7.39074333e-01, 9.60646593e-01, 8.15787606e-01,\n",
       "         3.74393152e-01, 9.09763945e-01, 2.63162614e-01, 4.96997550e-01,\n",
       "         4.64661052e-01, 3.77693062e-01, 6.33074242e-01, 1.78951926e-01,\n",
       "         6.68440503e-01, 7.73199973e-01, 7.70800042e-01, 2.42528702e-01,\n",
       "         6.96333973e-01, 2.52804155e-02, 7.85594020e-01, 2.67614074e-02,\n",
       "         4.26393379e-01, 2.47097920e-01, 6.87169920e-01, 8.22653751e-01,\n",
       "         9.53555555e-01, 6.96932335e-01, 5.99897301e-01, 8.67717410e-01,\n",
       "         6.61484534e-01, 1.05740852e-03, 5.92766719e-01, 4.47089327e-01,\n",
       "         1.45256814e-01, 1.05567108e-01, 8.26813453e-01, 1.57520553e-01,\n",
       "         4.71302929e-02, 4.70464916e-01, 9.66876563e-01, 1.20513652e-01,\n",
       "         8.24937858e-01, 7.03586833e-02, 9.93945520e-01, 8.49547619e-01,\n",
       "         5.50070698e-01, 5.46098957e-01, 1.20489349e-01, 7.65456835e-01,\n",
       "         3.62773519e-01, 8.89614120e-01, 8.27737496e-01, 4.45404963e-01,\n",
       "         8.95111273e-03, 8.07862386e-01, 5.62824498e-01, 9.60895134e-01,\n",
       "         5.96093189e-01, 6.63206153e-01, 2.76649058e-01, 1.25847676e-02,\n",
       "         8.82348151e-01, 2.58634051e-01, 1.76513829e-01, 5.46030887e-01,\n",
       "         9.86219960e-01, 5.60664953e-01, 5.85958383e-01, 3.14385149e-01,\n",
       "         1.00191020e-01, 1.43635752e-01, 9.58649078e-01, 1.24560766e-01,\n",
       "         8.84687626e-02, 1.98438208e-01, 7.60703938e-01, 7.40006443e-01,\n",
       "         9.77434252e-02, 6.46826183e-01, 8.17454912e-01, 3.25749963e-01,\n",
       "         7.22882843e-03, 7.94475090e-01, 2.67618170e-01, 5.44911889e-01,\n",
       "         8.72660663e-01, 2.49599252e-01, 1.03870715e-01, 5.37291521e-01,\n",
       "         5.67983291e-01, 8.06660378e-01, 8.70741370e-01, 4.09373617e-01,\n",
       "         2.35412495e-01, 9.32508859e-01, 6.37945942e-03, 8.89396103e-01,\n",
       "         1.58230456e-01, 1.86907725e-01, 3.69573251e-01, 9.74650773e-01,\n",
       "         6.40121594e-01, 3.91590242e-01, 3.80890387e-02, 5.39364026e-01,\n",
       "         5.83540875e-01, 3.40856244e-01, 6.09996896e-01, 5.75650866e-01,\n",
       "         3.96399276e-01, 2.46400863e-01, 2.80957137e-01, 1.83095021e-01,\n",
       "         7.41435215e-01, 9.02484443e-01, 5.96319021e-01, 8.39832726e-01,\n",
       "         6.54220900e-01, 7.58449288e-01, 1.34071520e-01, 7.92584873e-02,\n",
       "         4.81464548e-01]))]"
      ]
     },
     "execution_count": 20,
     "metadata": {},
     "output_type": "execute_result"
    }
   ],
   "source": [
    "expand_setpoints_helper(a.spectrum)"
   ]
  },
  {
   "cell_type": "code",
   "execution_count": 21,
   "metadata": {},
   "outputs": [
    {
     "name": "stdout",
     "output_type": "stream",
     "text": [
      "Starting experimental run with id: 2. \n"
     ]
    }
   ],
   "source": [
    "meas = Measurement()\n",
    "meas.register_parameter(a.spectrum)\n",
    "\n",
    "with meas.run() as datasaver:\n",
    "    datasaver.add_result(*expand_setpoints_helper(a.spectrum))\n",
    "    \n",
    "    dataid = datasaver.run_id"
   ]
  },
  {
   "cell_type": "code",
   "execution_count": null,
   "metadata": {},
   "outputs": [],
   "source": []
  }
 ],
 "metadata": {
  "kernelspec": {
   "display_name": "Python 3",
   "language": "python",
   "name": "python3"
  },
  "language_info": {
   "codemirror_mode": {
    "name": "ipython",
    "version": 3
   },
   "file_extension": ".py",
   "mimetype": "text/x-python",
   "name": "python",
   "nbconvert_exporter": "python",
   "pygments_lexer": "ipython3",
   "version": "3.7.7"
  },
  "toc": {
   "base_numbering": 1,
   "nav_menu": {},
   "number_sections": true,
   "sideBar": true,
   "skip_h1_title": false,
   "title_cell": "Table of Contents",
   "title_sidebar": "Contents",
   "toc_cell": false,
   "toc_position": {},
   "toc_section_display": true,
   "toc_window_display": false
  },
  "varInspector": {
   "cols": {
    "lenName": 16,
    "lenType": 16,
    "lenVar": 40
   },
   "kernels_config": {
    "python": {
     "delete_cmd_postfix": "",
     "delete_cmd_prefix": "del ",
     "library": "var_list.py",
     "varRefreshCmd": "print(var_dic_list())"
    },
    "r": {
     "delete_cmd_postfix": ") ",
     "delete_cmd_prefix": "rm(",
     "library": "var_list.r",
     "varRefreshCmd": "cat(var_dic_list()) "
    }
   },
   "types_to_exclude": [
    "module",
    "function",
    "builtin_function_or_method",
    "instance",
    "_Feature"
   ],
   "window_display": false
  }
 },
 "nbformat": 4,
 "nbformat_minor": 2
}
