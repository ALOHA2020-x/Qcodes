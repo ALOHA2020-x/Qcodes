{
 "cells": [
  {
   "cell_type": "markdown",
   "metadata": {},
   "source": [
    "# Simple Example of ParameterWithSetpoints\n",
    "This notebook provides an example for writing a simple driver with a parameter that has setpoints. Let's name this parameter that has setpoints as \"y\". Then, the setpoints, say \"x1, x2, x3 ..\", are the parameters on which the parameter \n",
    "\"y\" depends upon. Meaning \"y\" is a function of \"x1, x2, x3 ...\" where \"x1, x2, x3 ...\" are known as the setpoints of parameter \"y\".\n",
    "\n",
    "This is most likely to be useful for instruments that return arrays of results. In this notebook, we will show an example of this."
   ]
  },
  {
   "cell_type": "code",
   "execution_count": 1,
   "metadata": {},
   "outputs": [],
   "source": [
    "import numpy as np\n",
    "import os"
   ]
  },
  {
   "cell_type": "code",
   "execution_count": 2,
   "metadata": {},
   "outputs": [
    {
     "name": "stdout",
     "output_type": "stream",
     "text": [
      "Logging hadn't been started.\n",
      "Activating auto-logging. Current session state plus future input saved.\n",
      "Filename       : /home/vsts/.qcodes/logs/command_history.log\n",
      "Mode           : append\n",
      "Output logging : True\n",
      "Raw input log  : False\n",
      "Timestamping   : True\n",
      "State          : active\n"
     ]
    },
    {
     "name": "stdout",
     "output_type": "stream",
     "text": [
      "Qcodes Logfile : /home/vsts/.qcodes/logs/200316-24412-qcodes.log\n"
     ]
    }
   ],
   "source": [
    "from qcodes.dataset.plotting import plot_dataset\n",
    "from qcodes.utils.validators import Numbers, Arrays\n",
    "from qcodes.instrument.base import Instrument\n",
    "from qcodes.dataset.measurements import Measurement"
   ]
  },
  {
   "cell_type": "code",
   "execution_count": 3,
   "metadata": {},
   "outputs": [],
   "source": [
    "from qcodes.dataset.sqlite.database import initialise_or_create_database_at\n",
    "from qcodes.dataset.experiment_container import load_or_create_experiment"
   ]
  },
  {
   "cell_type": "code",
   "execution_count": 4,
   "metadata": {},
   "outputs": [],
   "source": [
    "from qcodes.instrument.parameter import ParameterWithSetpoints, Parameter\n",
    "from qcodes.instrument.parameter import expand_setpoints_helper"
   ]
  },
  {
   "cell_type": "markdown",
   "metadata": {},
   "source": [
    "First, we define a dummy instrument that returns something like a frequency spectrum starting from a frequency given by `f_start` to a frequency given by `f_stop` in `n_points` steps. \n",
    "\n",
    "The extra functionality of the `ParameterWithSetpoints` is implemented by giving it a reference to one or more parameters that acts like its setpoints. \n",
    "\n",
    "To setup a `ParameterWithSetpoints` we have to do two things in addition to what we do for a normal parameter.\n",
    "\n",
    "* Define one or more parameter for the setpoints (one for each dimension of the array and let the `ParameterWithSetpoints` know that these are the setpoints.\n",
    "* Give both the setpoints parameter(s) and the `ParameterWithSetpoints` a `validator` of type `Arrays` with a shape. The shapes should be such that the combined shape of the setpoints matches the shape of the `ParameterWithSetpoints`. Note that if the shape changes with the setting of the instrument, it can be defined by another parameter as shown below. "
   ]
  },
  {
   "cell_type": "code",
   "execution_count": 5,
   "metadata": {},
   "outputs": [],
   "source": [
    "class GeneratedSetPoints(Parameter):\n",
    "    \"\"\"\n",
    "    A parameter that generates a setpoint array from start, stop and num points\n",
    "    parameters.\n",
    "    \"\"\"\n",
    "    def __init__(self, startparam, stopparam, numpointsparam, *args, **kwargs):\n",
    "        super().__init__(*args, **kwargs)\n",
    "        self._startparam = startparam\n",
    "        self._stopparam = stopparam\n",
    "        self._numpointsparam = numpointsparam\n",
    "\n",
    "    def get_raw(self):\n",
    "        return np.linspace(self._startparam(), self._stopparam(),\n",
    "                              self._numpointsparam())\n",
    "\n",
    "class DummyArray(ParameterWithSetpoints):\n",
    "    \n",
    "    def get_raw(self):\n",
    "        npoints = self.root_instrument.n_points.get_latest()\n",
    "        return np.random.rand(npoints)\n",
    "    \n",
    "\n",
    "class DummySpectrumAnalyzer(Instrument):\n",
    "    \n",
    "    def __init__(self, name, **kwargs):\n",
    "        \n",
    "        super().__init__(name, **kwargs)\n",
    "            \n",
    "\n",
    "        self.add_parameter('f_start',\n",
    "                           initial_value=0,\n",
    "                           unit='Hz',\n",
    "                           label='f start',\n",
    "                           vals=Numbers(0,1e3),\n",
    "                           get_cmd=None,\n",
    "                           set_cmd=None)\n",
    "\n",
    "        self.add_parameter('f_stop',\n",
    "                           unit='Hz',\n",
    "                           label='f stop',\n",
    "                           vals=Numbers(1,1e3),\n",
    "                           get_cmd=None,\n",
    "                           set_cmd=None)\n",
    "\n",
    "        self.add_parameter('n_points',\n",
    "                           unit='',\n",
    "                           initial_value=10,\n",
    "                           vals=Numbers(1,1e3),\n",
    "                           get_cmd=None,\n",
    "                           set_cmd=None)\n",
    "        \n",
    "        self.add_parameter('freq_axis',\n",
    "                           unit='Hz',\n",
    "                           label='Freq Axis',\n",
    "                           parameter_class=GeneratedSetPoints,\n",
    "                           startparam=self.f_start,\n",
    "                           stopparam=self.f_stop,\n",
    "                           numpointsparam=self.n_points,\n",
    "                           vals=Arrays(shape=(self.n_points.get_latest,)))\n",
    "                           \n",
    "        self.add_parameter('spectrum',\n",
    "                   unit='dBm',\n",
    "                   setpoints=(self.freq_axis,),\n",
    "                   label='Spectrum',\n",
    "                   parameter_class=DummyArray,\n",
    "                   vals=Arrays(shape=(self.n_points.get_latest,)))\n",
    "                "
   ]
  },
  {
   "cell_type": "markdown",
   "metadata": {},
   "source": [
    "In the above example, the shape is defined by the parameter `n_points` that defines how many samples our `DummySpectrumAnalyzer` returns.\n",
    "\n",
    "This means that the validation will call the function to get `n_points` twice for each `get` of the parameter. This may be too slow, however, if you (as the driver-writer) can guarantee that the cached value for `n_points` will never be out of sync with the value stored in the instrument, `n_points` may be replaced by it's latest known value such that the `validator` reads:\n",
    "```python\n",
    "vals=Arrays(shape=(self.n_points.get_latest))\n",
    "```\n",
    "\n",
    "This avoids any additional call to the instrument. In the same way, the arguments to the `freq_axis` parameter that defines the start, stop and number of points can be replaced by their latest value if the instrument allows it.\n",
    "\n"
   ]
  },
  {
   "cell_type": "code",
   "execution_count": 6,
   "metadata": {},
   "outputs": [
    {
     "name": "stdout",
     "output_type": "stream",
     "text": [
      "\r",
      "0it [00:00, ?it/s]"
     ]
    },
    {
     "name": "stdout",
     "output_type": "stream",
     "text": [
      "\r",
      "Upgrading database; v0 -> v1: : 0it [00:00, ?it/s]"
     ]
    },
    {
     "name": "stdout",
     "output_type": "stream",
     "text": [
      "\r",
      "Upgrading database; v0 -> v1: : 0it [00:00, ?it/s]"
     ]
    },
    {
     "name": "stdout",
     "output_type": "stream",
     "text": [
      "\n",
      "\r",
      "  0%|          | 0/1 [00:00<?, ?it/s]"
     ]
    },
    {
     "name": "stdout",
     "output_type": "stream",
     "text": [
      "\r",
      "Upgrading database; v1 -> v2:   0%|          | 0/1 [00:00<?, ?it/s]"
     ]
    },
    {
     "name": "stdout",
     "output_type": "stream",
     "text": [
      "\r",
      "Upgrading database; v1 -> v2: 100%|██████████| 1/1 [00:00<00:00, 892.79it/s]"
     ]
    },
    {
     "name": "stdout",
     "output_type": "stream",
     "text": [
      "\n",
      "\r",
      "0it [00:00, ?it/s]"
     ]
    },
    {
     "name": "stdout",
     "output_type": "stream",
     "text": [
      "\r",
      "Upgrading database; v2 -> v3: : 0it [00:00, ?it/s]"
     ]
    },
    {
     "name": "stdout",
     "output_type": "stream",
     "text": [
      "\r",
      "Upgrading database; v2 -> v3: : 0it [00:00, ?it/s]"
     ]
    },
    {
     "name": "stdout",
     "output_type": "stream",
     "text": [
      "\n",
      "\r",
      "0it [00:00, ?it/s]"
     ]
    },
    {
     "name": "stdout",
     "output_type": "stream",
     "text": [
      "\r",
      "Upgrading database; v3 -> v4: : 0it [00:00, ?it/s]"
     ]
    },
    {
     "name": "stdout",
     "output_type": "stream",
     "text": [
      "\r",
      "Upgrading database; v3 -> v4: : 0it [00:00, ?it/s]"
     ]
    },
    {
     "name": "stdout",
     "output_type": "stream",
     "text": [
      "\n",
      "\r",
      "  0%|          | 0/1 [00:00<?, ?it/s]"
     ]
    },
    {
     "name": "stdout",
     "output_type": "stream",
     "text": [
      "\r",
      "Upgrading database; v4 -> v5:   0%|          | 0/1 [00:00<?, ?it/s]"
     ]
    },
    {
     "name": "stdout",
     "output_type": "stream",
     "text": [
      "\r",
      "Upgrading database; v4 -> v5: 100%|██████████| 1/1 [00:00<00:00, 848.71it/s]"
     ]
    },
    {
     "name": "stdout",
     "output_type": "stream",
     "text": [
      "\n",
      "\r",
      "0it [00:00, ?it/s]"
     ]
    },
    {
     "name": "stdout",
     "output_type": "stream",
     "text": [
      "\r",
      "Upgrading database; v5 -> v6: : 0it [00:00, ?it/s]"
     ]
    },
    {
     "name": "stdout",
     "output_type": "stream",
     "text": [
      "\r",
      "Upgrading database; v5 -> v6: : 0it [00:00, ?it/s]"
     ]
    },
    {
     "name": "stdout",
     "output_type": "stream",
     "text": [
      "\n",
      "\r",
      "  0%|          | 0/1 [00:00<?, ?it/s]"
     ]
    },
    {
     "name": "stdout",
     "output_type": "stream",
     "text": [
      "\r",
      "Upgrading database; v6 -> v7:   0%|          | 0/1 [00:00<?, ?it/s]"
     ]
    },
    {
     "name": "stdout",
     "output_type": "stream",
     "text": [
      "\r",
      "Upgrading database; v6 -> v7: 100%|██████████| 1/1 [00:00<00:00, 337.98it/s]"
     ]
    },
    {
     "name": "stdout",
     "output_type": "stream",
     "text": [
      "\n",
      "\r",
      "  0%|          | 0/1 [00:00<?, ?it/s]"
     ]
    },
    {
     "name": "stdout",
     "output_type": "stream",
     "text": [
      "\r",
      "Upgrading database; v7 -> v8:   0%|          | 0/1 [00:00<?, ?it/s]"
     ]
    },
    {
     "name": "stdout",
     "output_type": "stream",
     "text": [
      "\r",
      "Upgrading database; v7 -> v8: 100%|██████████| 1/1 [00:00<00:00, 769.17it/s]"
     ]
    },
    {
     "name": "stdout",
     "output_type": "stream",
     "text": [
      "\n",
      "\r",
      "  0%|          | 0/1 [00:00<?, ?it/s]"
     ]
    },
    {
     "name": "stdout",
     "output_type": "stream",
     "text": [
      "\r",
      "Upgrading database; v8 -> v9:   0%|          | 0/1 [00:00<?, ?it/s]"
     ]
    },
    {
     "name": "stdout",
     "output_type": "stream",
     "text": [
      "\r",
      "Upgrading database; v8 -> v9: 100%|██████████| 1/1 [00:00<00:00, 991.09it/s]"
     ]
    },
    {
     "name": "stdout",
     "output_type": "stream",
     "text": [
      "\n"
     ]
    },
    {
     "data": {
      "text/plain": [
       "tutorial_ParameterWithSetpoints#no sample#1@/home/vsts/work/1/s/docs/examples/Parameters/tutorial_paramter_with_setpoints.db\n",
       "----------------------------------------------------------------------------------------------------------------------------"
      ]
     },
     "execution_count": 6,
     "metadata": {},
     "output_type": "execute_result"
    }
   ],
   "source": [
    "tutorial_db_path = os.path.join(os.getcwd(), 'tutorial_paramter_with_setpoints.db')\n",
    "initialise_or_create_database_at(tutorial_db_path)\n",
    "load_or_create_experiment(experiment_name='tutorial_ParameterWithSetpoints', sample_name=\"no sample\")"
   ]
  },
  {
   "cell_type": "code",
   "execution_count": 7,
   "metadata": {},
   "outputs": [],
   "source": [
    "a = DummySpectrumAnalyzer('foobar')"
   ]
  },
  {
   "cell_type": "markdown",
   "metadata": {},
   "source": [
    "First we setup the limits of the spectrum"
   ]
  },
  {
   "cell_type": "code",
   "execution_count": 8,
   "metadata": {},
   "outputs": [],
   "source": [
    "a.f_start(0)\n",
    "a.f_stop(500)\n",
    "a.n_points(501)"
   ]
  },
  {
   "cell_type": "markdown",
   "metadata": {},
   "source": [
    "And we can grab the frequency axis"
   ]
  },
  {
   "cell_type": "code",
   "execution_count": 9,
   "metadata": {},
   "outputs": [
    {
     "data": {
      "text/plain": [
       "501"
      ]
     },
     "execution_count": 9,
     "metadata": {},
     "output_type": "execute_result"
    }
   ],
   "source": [
    "a.n_points()"
   ]
  },
  {
   "cell_type": "code",
   "execution_count": 10,
   "metadata": {
    "scrolled": false
   },
   "outputs": [
    {
     "data": {
      "text/plain": [
       "501"
      ]
     },
     "execution_count": 10,
     "metadata": {},
     "output_type": "execute_result"
    }
   ],
   "source": [
    "freq_axis = a.freq_axis()\n",
    "len(freq_axis)"
   ]
  },
  {
   "cell_type": "code",
   "execution_count": 11,
   "metadata": {},
   "outputs": [
    {
     "data": {
      "text/plain": [
       "array([0., 1., 2., 3., 4., 5., 6., 7., 8., 9.])"
      ]
     },
     "execution_count": 11,
     "metadata": {},
     "output_type": "execute_result"
    }
   ],
   "source": [
    "freq_axis[:10]"
   ]
  },
  {
   "cell_type": "markdown",
   "metadata": {},
   "source": [
    "As expected we get a result wit 501 points as we asked for an axis with 501 points. "
   ]
  },
  {
   "cell_type": "markdown",
   "metadata": {},
   "source": [
    "Above we have added a validator to the `freq_axis` parameter encoding the fact that this is an Array with `n_points`. Note that we do not have to supply the number of points as an integer but can supply a function that returns the valid number of points. This would normally be a QCoDeS parameter.\n",
    "\n",
    "This will be checked if we validate the output."
   ]
  },
  {
   "cell_type": "code",
   "execution_count": 12,
   "metadata": {},
   "outputs": [],
   "source": [
    "a.freq_axis.validate(a.freq_axis.get())"
   ]
  },
  {
   "cell_type": "markdown",
   "metadata": {},
   "source": [
    "Naturally, we can also get the spectrum. Getting the spectrum will automatically perform validation both for the shape of the parameter itself and the relation to the setpoint parameter(s)"
   ]
  },
  {
   "cell_type": "code",
   "execution_count": 13,
   "metadata": {
    "scrolled": true
   },
   "outputs": [
    {
     "data": {
      "text/plain": [
       "501"
      ]
     },
     "execution_count": 13,
     "metadata": {},
     "output_type": "execute_result"
    }
   ],
   "source": [
    "spectrum = a.spectrum.get()\n",
    "len(spectrum)"
   ]
  },
  {
   "cell_type": "markdown",
   "metadata": {},
   "source": [
    "When we validate a `ParameterWithSetpoints`, we automatically validate that the shape is consistent between the parameters and its setpoints. As well as validating the shape as above."
   ]
  },
  {
   "cell_type": "code",
   "execution_count": 14,
   "metadata": {},
   "outputs": [],
   "source": [
    "a.spectrum.validate(a.spectrum.get())"
   ]
  },
  {
   "cell_type": "markdown",
   "metadata": {},
   "source": [
    "The consistent shapes can be validated explicitly."
   ]
  },
  {
   "cell_type": "code",
   "execution_count": 15,
   "metadata": {},
   "outputs": [],
   "source": [
    "a.spectrum.validate_consistent_shape()"
   ]
  },
  {
   "cell_type": "markdown",
   "metadata": {},
   "source": [
    "We can inspect the setpoints of the spectrum."
   ]
  },
  {
   "cell_type": "code",
   "execution_count": 16,
   "metadata": {},
   "outputs": [
    {
     "data": {
      "text/plain": [
       "(<__main__.GeneratedSetPoints: freq_axis at 139760739554832>,)"
      ]
     },
     "execution_count": 16,
     "metadata": {},
     "output_type": "execute_result"
    }
   ],
   "source": [
    "a.spectrum.setpoints"
   ]
  },
  {
   "cell_type": "markdown",
   "metadata": {},
   "source": [
    "Or even change them."
   ]
  },
  {
   "cell_type": "code",
   "execution_count": 17,
   "metadata": {},
   "outputs": [],
   "source": [
    "a.spectrum.setpoints = (a.freq_axis,)"
   ]
  },
  {
   "cell_type": "markdown",
   "metadata": {},
   "source": [
    "## Measurement"
   ]
  },
  {
   "cell_type": "markdown",
   "metadata": {},
   "source": [
    "We can also directly consume the parameter in a measurement without defining the setpoints of the parameter again. The setpoints are automatically obtained from the definition of the `ParameterWithSetpoint` instance. "
   ]
  },
  {
   "cell_type": "code",
   "execution_count": 18,
   "metadata": {},
   "outputs": [
    {
     "name": "stdout",
     "output_type": "stream",
     "text": [
      "Starting experimental run with id: 1. \n"
     ]
    }
   ],
   "source": [
    "meas = Measurement()\n",
    "meas.register_parameter(a.spectrum)\n",
    "\n",
    "with meas.run() as datasaver:\n",
    "    datasaver.add_result((a.freq_axis, a.freq_axis()),\n",
    "                         (a.spectrum, a.spectrum()))\n",
    "    dataset = datasaver.dataset"
   ]
  },
  {
   "cell_type": "markdown",
   "metadata": {},
   "source": [
    "And plot it"
   ]
  },
  {
   "cell_type": "code",
   "execution_count": 19,
   "metadata": {},
   "outputs": [
    {
     "data": {
      "text/plain": [
       "([<matplotlib.axes._subplots.AxesSubplot at 0x7f1c946b8690>], [None])"
      ]
     },
     "execution_count": 19,
     "metadata": {},
     "output_type": "execute_result"
    },
    {
     "data": {
      "image/png": "[encoded data removed]",
      "text/plain": [
       "<Figure size 432x288 with 1 Axes>"
      ]
     },
     "metadata": {
      "needs_background": "light"
     },
     "output_type": "display_data"
    }
   ],
   "source": [
    "plot_dataset(dataset)"
   ]
  },
  {
   "cell_type": "markdown",
   "metadata": {},
   "source": [
    "To reduce the amount of typing a simple convenience function is provided that will take a `ParameterWithSetpoints` and get both its values and the setpoints values and return them as tuples for direct insertion into the Dataset."
   ]
  },
  {
   "cell_type": "code",
   "execution_count": 20,
   "metadata": {
    "scrolled": true
   },
   "outputs": [
    {
     "data": {
      "text/plain": [
       "[(<__main__.GeneratedSetPoints: freq_axis at 139760739554832>,\n",
       "  array([  0.,   1.,   2.,   3.,   4.,   5.,   6.,   7.,   8.,   9.,  10.,\n",
       "          11.,  12.,  13.,  14.,  15.,  16.,  17.,  18.,  19.,  20.,  21.,\n",
       "          22.,  23.,  24.,  25.,  26.,  27.,  28.,  29.,  30.,  31.,  32.,\n",
       "          33.,  34.,  35.,  36.,  37.,  38.,  39.,  40.,  41.,  42.,  43.,\n",
       "          44.,  45.,  46.,  47.,  48.,  49.,  50.,  51.,  52.,  53.,  54.,\n",
       "          55.,  56.,  57.,  58.,  59.,  60.,  61.,  62.,  63.,  64.,  65.,\n",
       "          66.,  67.,  68.,  69.,  70.,  71.,  72.,  73.,  74.,  75.,  76.,\n",
       "          77.,  78.,  79.,  80.,  81.,  82.,  83.,  84.,  85.,  86.,  87.,\n",
       "          88.,  89.,  90.,  91.,  92.,  93.,  94.,  95.,  96.,  97.,  98.,\n",
       "          99., 100., 101., 102., 103., 104., 105., 106., 107., 108., 109.,\n",
       "         110., 111., 112., 113., 114., 115., 116., 117., 118., 119., 120.,\n",
       "         121., 122., 123., 124., 125., 126., 127., 128., 129., 130., 131.,\n",
       "         132., 133., 134., 135., 136., 137., 138., 139., 140., 141., 142.,\n",
       "         143., 144., 145., 146., 147., 148., 149., 150., 151., 152., 153.,\n",
       "         154., 155., 156., 157., 158., 159., 160., 161., 162., 163., 164.,\n",
       "         165., 166., 167., 168., 169., 170., 171., 172., 173., 174., 175.,\n",
       "         176., 177., 178., 179., 180., 181., 182., 183., 184., 185., 186.,\n",
       "         187., 188., 189., 190., 191., 192., 193., 194., 195., 196., 197.,\n",
       "         198., 199., 200., 201., 202., 203., 204., 205., 206., 207., 208.,\n",
       "         209., 210., 211., 212., 213., 214., 215., 216., 217., 218., 219.,\n",
       "         220., 221., 222., 223., 224., 225., 226., 227., 228., 229., 230.,\n",
       "         231., 232., 233., 234., 235., 236., 237., 238., 239., 240., 241.,\n",
       "         242., 243., 244., 245., 246., 247., 248., 249., 250., 251., 252.,\n",
       "         253., 254., 255., 256., 257., 258., 259., 260., 261., 262., 263.,\n",
       "         264., 265., 266., 267., 268., 269., 270., 271., 272., 273., 274.,\n",
       "         275., 276., 277., 278., 279., 280., 281., 282., 283., 284., 285.,\n",
       "         286., 287., 288., 289., 290., 291., 292., 293., 294., 295., 296.,\n",
       "         297., 298., 299., 300., 301., 302., 303., 304., 305., 306., 307.,\n",
       "         308., 309., 310., 311., 312., 313., 314., 315., 316., 317., 318.,\n",
       "         319., 320., 321., 322., 323., 324., 325., 326., 327., 328., 329.,\n",
       "         330., 331., 332., 333., 334., 335., 336., 337., 338., 339., 340.,\n",
       "         341., 342., 343., 344., 345., 346., 347., 348., 349., 350., 351.,\n",
       "         352., 353., 354., 355., 356., 357., 358., 359., 360., 361., 362.,\n",
       "         363., 364., 365., 366., 367., 368., 369., 370., 371., 372., 373.,\n",
       "         374., 375., 376., 377., 378., 379., 380., 381., 382., 383., 384.,\n",
       "         385., 386., 387., 388., 389., 390., 391., 392., 393., 394., 395.,\n",
       "         396., 397., 398., 399., 400., 401., 402., 403., 404., 405., 406.,\n",
       "         407., 408., 409., 410., 411., 412., 413., 414., 415., 416., 417.,\n",
       "         418., 419., 420., 421., 422., 423., 424., 425., 426., 427., 428.,\n",
       "         429., 430., 431., 432., 433., 434., 435., 436., 437., 438., 439.,\n",
       "         440., 441., 442., 443., 444., 445., 446., 447., 448., 449., 450.,\n",
       "         451., 452., 453., 454., 455., 456., 457., 458., 459., 460., 461.,\n",
       "         462., 463., 464., 465., 466., 467., 468., 469., 470., 471., 472.,\n",
       "         473., 474., 475., 476., 477., 478., 479., 480., 481., 482., 483.,\n",
       "         484., 485., 486., 487., 488., 489., 490., 491., 492., 493., 494.,\n",
       "         495., 496., 497., 498., 499., 500.])),\n",
       " (<__main__.DummyArray: spectrum at 139760739556048>,\n",
       "  array([2.82015549e-01, 9.08388241e-01, 2.84632207e-01, 9.05200344e-01,\n",
       "         7.90408286e-01, 2.62802032e-02, 2.52166382e-01, 4.48627164e-01,\n",
       "         3.30787928e-01, 2.52699402e-01, 4.90251248e-01, 1.94779838e-01,\n",
       "         5.63732821e-01, 6.41403924e-01, 9.35640631e-01, 8.09145517e-01,\n",
       "         3.52139784e-01, 9.38816103e-01, 8.55160102e-01, 7.16952086e-01,\n",
       "         3.21878221e-01, 4.84458729e-01, 7.23860862e-02, 5.32559869e-01,\n",
       "         4.67275866e-01, 7.63120362e-01, 1.03226207e-01, 1.39270578e-01,\n",
       "         6.73048344e-01, 2.00957769e-01, 4.12260968e-01, 3.38402145e-01,\n",
       "         1.48454602e-01, 4.61695342e-01, 7.15530156e-02, 2.74779896e-01,\n",
       "         7.53417506e-01, 9.98492042e-01, 6.27945449e-01, 9.28024608e-01,\n",
       "         4.44846539e-01, 6.15356246e-01, 8.77733101e-01, 6.28993692e-01,\n",
       "         3.21498327e-01, 8.88915506e-01, 2.26607475e-01, 3.87105770e-01,\n",
       "         7.00955170e-01, 9.07327894e-02, 5.53462009e-01, 9.84630820e-01,\n",
       "         4.29195606e-01, 5.99115629e-01, 8.78610572e-01, 6.71035981e-01,\n",
       "         4.55985870e-01, 9.37826661e-01, 4.38817179e-01, 4.12552066e-01,\n",
       "         9.06232192e-01, 1.34859900e-01, 8.56685929e-01, 9.77822004e-01,\n",
       "         9.59352801e-01, 8.65980879e-01, 2.03018871e-01, 4.89613179e-01,\n",
       "         4.59198758e-01, 8.18236534e-01, 4.54418887e-01, 7.29717417e-01,\n",
       "         5.12752406e-01, 2.83041690e-01, 9.44287386e-02, 1.95544936e-01,\n",
       "         1.88877011e-01, 7.45555208e-01, 5.93037004e-01, 6.55189199e-01,\n",
       "         8.47945298e-01, 7.97408003e-01, 6.18328264e-02, 2.56515494e-01,\n",
       "         1.60840941e-01, 4.54070646e-01, 7.31160137e-01, 9.34954315e-01,\n",
       "         6.21401911e-01, 4.31293976e-01, 5.56443812e-01, 7.66429214e-01,\n",
       "         6.38651709e-01, 5.15239056e-01, 9.56198943e-01, 6.31920210e-01,\n",
       "         7.96723963e-01, 6.35442270e-01, 9.42116103e-01, 9.67272286e-01,\n",
       "         3.71754941e-01, 5.76283325e-01, 4.34956457e-01, 1.65533404e-02,\n",
       "         9.23633875e-01, 4.23489752e-01, 4.16402586e-01, 6.67302782e-01,\n",
       "         4.05541698e-01, 4.48030639e-01, 4.52230470e-02, 3.35025650e-01,\n",
       "         5.17922102e-01, 7.20785038e-02, 3.61556946e-01, 4.16422093e-01,\n",
       "         5.50879594e-02, 9.76145157e-02, 7.63967337e-01, 9.98862821e-01,\n",
       "         2.10005677e-01, 3.58857873e-01, 9.60504749e-01, 7.22408784e-02,\n",
       "         5.29221589e-01, 8.26874539e-01, 3.51331672e-01, 1.31282383e-01,\n",
       "         3.76961175e-01, 6.17112822e-01, 1.68123494e-01, 2.28024094e-01,\n",
       "         3.84535791e-01, 7.74951813e-01, 9.74564735e-01, 9.11510579e-01,\n",
       "         9.05548811e-01, 4.89732297e-01, 7.10924673e-01, 6.16671834e-01,\n",
       "         8.62253663e-01, 7.39479446e-01, 2.51801792e-01, 1.71285802e-02,\n",
       "         8.29796362e-01, 5.63406655e-01, 5.55230157e-01, 9.47548323e-01,\n",
       "         1.07948947e-01, 1.79725250e-01, 6.60275853e-01, 2.53453324e-01,\n",
       "         1.32322383e-01, 1.68537056e-01, 7.83412039e-01, 4.85354449e-01,\n",
       "         5.34751587e-01, 5.02655529e-01, 6.99794802e-01, 8.01953707e-01,\n",
       "         4.84087539e-01, 7.25765640e-01, 7.92883795e-01, 3.45294571e-01,\n",
       "         9.78424634e-01, 8.42244894e-01, 4.05719000e-01, 9.10248074e-01,\n",
       "         3.50303798e-01, 5.55709673e-01, 8.43383206e-01, 5.83776220e-01,\n",
       "         1.69839166e-02, 9.21986155e-01, 2.87786901e-01, 4.81292476e-01,\n",
       "         2.93414380e-01, 9.64190523e-01, 4.76589834e-01, 3.36334673e-01,\n",
       "         8.66807440e-01, 4.46209472e-01, 1.79928430e-01, 9.57254695e-01,\n",
       "         5.48510793e-01, 2.31908954e-01, 3.22131139e-01, 9.80973994e-01,\n",
       "         5.92952255e-01, 8.64923879e-01, 9.50350274e-01, 2.73537426e-01,\n",
       "         6.00622288e-02, 4.61347427e-01, 6.34922843e-02, 9.10798467e-01,\n",
       "         7.51082940e-01, 8.29932809e-01, 2.96437000e-01, 2.40799584e-01,\n",
       "         2.29601108e-01, 2.77243792e-01, 2.23030118e-01, 1.43641577e-01,\n",
       "         9.53941914e-01, 5.39026879e-01, 5.56818809e-01, 5.70916448e-02,\n",
       "         2.49973910e-01, 7.98967662e-01, 7.46021397e-01, 2.95902316e-01,\n",
       "         9.83752152e-01, 2.00762019e-01, 7.62234997e-02, 1.71946466e-01,\n",
       "         9.55105572e-01, 1.15571964e-01, 1.85940279e-01, 4.60711686e-01,\n",
       "         1.43351308e-01, 5.04100711e-01, 5.98241052e-01, 8.20982146e-01,\n",
       "         2.64713443e-02, 7.72354811e-01, 5.12283685e-02, 5.65254226e-01,\n",
       "         6.27898815e-01, 4.98338782e-01, 5.89094992e-01, 4.82444655e-01,\n",
       "         7.76607905e-01, 9.79380398e-01, 1.74202697e-01, 6.07395030e-01,\n",
       "         6.03543879e-01, 5.09587465e-01, 9.53320237e-01, 5.51297751e-01,\n",
       "         2.78809697e-01, 3.10471770e-01, 3.63563842e-01, 1.89434495e-01,\n",
       "         3.22559799e-01, 8.63650112e-01, 3.91248197e-01, 7.09067157e-01,\n",
       "         2.02313500e-01, 5.95057097e-01, 5.73290367e-01, 6.13815874e-01,\n",
       "         4.82607663e-01, 1.39500392e-01, 2.68964601e-01, 1.44995010e-02,\n",
       "         3.05867360e-01, 9.84118790e-01, 9.69302145e-01, 6.47991851e-01,\n",
       "         7.72447451e-01, 6.84799857e-01, 8.30210062e-01, 2.20655285e-01,\n",
       "         3.59344871e-01, 5.36670661e-01, 1.91094610e-01, 3.81077099e-01,\n",
       "         2.16815423e-01, 4.07130495e-01, 8.29148323e-02, 5.11380668e-01,\n",
       "         1.93971197e-01, 2.19658180e-01, 9.54860228e-01, 8.28779474e-01,\n",
       "         4.81540143e-01, 3.60861525e-01, 3.26751550e-01, 1.10426366e-01,\n",
       "         2.10919773e-01, 6.27013142e-01, 5.23644414e-01, 6.09621023e-01,\n",
       "         9.23730831e-01, 5.30949573e-01, 5.49365907e-01, 4.77197110e-01,\n",
       "         8.76008053e-01, 3.90127982e-01, 5.72467531e-02, 9.40881149e-01,\n",
       "         7.37212002e-01, 5.22768633e-01, 5.23959758e-01, 7.05591431e-01,\n",
       "         6.97406237e-01, 1.56868608e-01, 8.98474300e-01, 8.05434781e-01,\n",
       "         7.97119678e-01, 9.52560015e-02, 7.44273557e-01, 8.63147835e-01,\n",
       "         8.72156511e-01, 2.91291771e-01, 6.06200386e-01, 7.88041583e-01,\n",
       "         1.94312606e-01, 6.87549166e-01, 2.60966209e-01, 8.68908603e-02,\n",
       "         3.08096535e-04, 9.53676662e-02, 9.94616626e-01, 3.32749639e-02,\n",
       "         5.83662657e-01, 1.76907700e-01, 1.17724837e-01, 5.21339592e-01,\n",
       "         9.01345071e-02, 3.64421963e-01, 9.68024163e-01, 3.36793615e-01,\n",
       "         6.36148825e-01, 1.29136077e-01, 2.83101443e-01, 1.22717609e-01,\n",
       "         4.35805421e-01, 5.48944597e-01, 8.19489481e-01, 6.78634063e-02,\n",
       "         6.25093325e-01, 9.11281575e-02, 3.32677724e-01, 1.27804057e-01,\n",
       "         7.95080405e-01, 4.01564952e-01, 5.80441068e-01, 2.50301957e-01,\n",
       "         7.12350362e-01, 7.03626181e-01, 2.76407202e-01, 2.69470784e-01,\n",
       "         9.62197605e-01, 3.82340355e-01, 1.46963132e-01, 8.76856056e-01,\n",
       "         3.81922352e-01, 3.94872571e-01, 3.43521284e-01, 7.65787084e-01,\n",
       "         2.24202980e-01, 7.82541733e-01, 4.36113380e-01, 8.94879519e-01,\n",
       "         5.03379361e-01, 8.48408115e-01, 1.94475818e-01, 6.29887427e-01,\n",
       "         8.29548760e-01, 7.62283233e-01, 5.12273126e-01, 1.78205098e-01,\n",
       "         8.34845366e-01, 9.32404256e-01, 2.97484940e-01, 7.25759251e-01,\n",
       "         5.87018485e-01, 2.04330993e-01, 3.12515746e-01, 3.92977526e-01,\n",
       "         4.82163404e-01, 8.57874982e-02, 5.34310354e-01, 9.82116831e-01,\n",
       "         9.49178132e-01, 3.39718607e-01, 1.76170304e-01, 6.42608395e-01,\n",
       "         7.85713770e-01, 1.04621119e-01, 8.75678934e-01, 6.76900915e-01,\n",
       "         6.04018980e-01, 6.90269256e-01, 4.61541027e-01, 7.87139801e-01,\n",
       "         4.30939559e-01, 8.34634116e-01, 8.27773438e-01, 3.44564559e-01,\n",
       "         4.66561076e-02, 4.99834448e-02, 7.44039327e-01, 1.70729409e-01,\n",
       "         7.95284288e-01, 3.43765752e-01, 8.93490136e-01, 7.11705029e-01,\n",
       "         6.12496529e-01, 6.48427337e-01, 8.64760527e-02, 6.99598719e-01,\n",
       "         1.27735640e-01, 9.91729096e-02, 5.64343858e-01, 8.63766811e-01,\n",
       "         6.29296058e-01, 9.49428056e-01, 5.77917774e-01, 9.55344137e-01,\n",
       "         1.57908413e-01, 8.70864930e-01, 5.70929860e-01, 9.73148379e-01,\n",
       "         8.32576163e-01, 5.03475196e-01, 2.75749986e-01, 3.47627722e-01,\n",
       "         8.03502187e-01, 9.88610109e-01, 4.95547253e-01, 8.29519482e-01,\n",
       "         3.12823150e-01, 5.65935822e-01, 5.47484334e-01, 2.61584052e-01,\n",
       "         4.88939974e-01, 8.20727179e-01, 1.54115337e-01, 6.06279534e-01,\n",
       "         3.53857812e-01, 4.64725357e-01, 7.23946751e-01, 5.00881342e-01,\n",
       "         3.93547421e-01, 4.15624934e-01, 1.47928352e-01, 3.62740953e-01,\n",
       "         7.98511330e-01, 7.92847425e-01, 5.24302958e-02, 8.42711175e-01,\n",
       "         5.07581956e-01, 6.56370217e-01, 7.81460713e-01, 9.81390523e-01,\n",
       "         9.86175649e-01, 3.15462286e-01, 7.75524220e-01, 8.67305062e-01,\n",
       "         4.73832075e-01, 5.67169611e-01, 9.57086737e-01, 3.54628444e-01,\n",
       "         7.74024187e-01, 6.87511830e-01, 2.06861996e-01, 9.47563492e-01,\n",
       "         5.28893640e-01, 4.98467024e-01, 2.57384035e-01, 5.39866756e-01,\n",
       "         7.04081665e-01, 7.81611107e-01, 2.69343460e-02, 1.28792695e-02,\n",
       "         1.60856475e-01, 8.35455833e-01, 1.69485025e-01, 9.38195293e-01,\n",
       "         3.71166854e-01, 5.59580983e-01, 3.62138681e-01, 6.97982970e-01,\n",
       "         9.38901794e-02, 9.48503771e-01, 6.57485759e-01, 6.91991134e-01,\n",
       "         7.45628877e-01, 7.24924678e-01, 3.43704499e-01, 1.01280240e-01,\n",
       "         5.67609943e-01, 4.00516194e-01, 4.06431862e-01, 2.25082561e-01,\n",
       "         7.40724185e-01, 1.89025193e-01, 3.26351829e-02, 5.30794091e-01,\n",
       "         5.74772006e-01, 1.38091383e-01, 6.69713232e-01, 1.70911556e-02,\n",
       "         1.51806663e-01, 8.91874105e-01, 6.42714644e-01, 9.73423270e-01,\n",
       "         6.28001298e-01]))]"
      ]
     },
     "execution_count": 20,
     "metadata": {},
     "output_type": "execute_result"
    }
   ],
   "source": [
    "expand_setpoints_helper(a.spectrum)"
   ]
  },
  {
   "cell_type": "code",
   "execution_count": 21,
   "metadata": {},
   "outputs": [
    {
     "name": "stdout",
     "output_type": "stream",
     "text": [
      "Starting experimental run with id: 2. \n"
     ]
    }
   ],
   "source": [
    "meas = Measurement()\n",
    "meas.register_parameter(a.spectrum)\n",
    "\n",
    "with meas.run() as datasaver:\n",
    "    datasaver.add_result(*expand_setpoints_helper(a.spectrum))\n",
    "    \n",
    "    dataid = datasaver.run_id"
   ]
  },
  {
   "cell_type": "code",
   "execution_count": null,
   "metadata": {},
   "outputs": [],
   "source": []
  }
 ],
 "metadata": {
  "kernelspec": {
   "display_name": "Python 3",
   "language": "python",
   "name": "python3"
  },
  "language_info": {
   "codemirror_mode": {
    "name": "ipython",
    "version": 3
   },
   "file_extension": ".py",
   "mimetype": "text/x-python",
   "name": "python",
   "nbconvert_exporter": "python",
   "pygments_lexer": "ipython3",
   "version": "3.7.5"
  },
  "toc": {
   "base_numbering": 1,
   "nav_menu": {},
   "number_sections": true,
   "sideBar": true,
   "skip_h1_title": false,
   "title_cell": "Table of Contents",
   "title_sidebar": "Contents",
   "toc_cell": false,
   "toc_position": {},
   "toc_section_display": true,
   "toc_window_display": false
  },
  "varInspector": {
   "cols": {
    "lenName": 16,
    "lenType": 16,
    "lenVar": 40
   },
   "kernels_config": {
    "python": {
     "delete_cmd_postfix": "",
     "delete_cmd_prefix": "del ",
     "library": "var_list.py",
     "varRefreshCmd": "print(var_dic_list())"
    },
    "r": {
     "delete_cmd_postfix": ") ",
     "delete_cmd_prefix": "rm(",
     "library": "var_list.r",
     "varRefreshCmd": "cat(var_dic_list()) "
    }
   },
   "types_to_exclude": [
    "module",
    "function",
    "builtin_function_or_method",
    "instance",
    "_Feature"
   ],
   "window_display": false
  }
 },
 "nbformat": 4,
 "nbformat_minor": 2
}
