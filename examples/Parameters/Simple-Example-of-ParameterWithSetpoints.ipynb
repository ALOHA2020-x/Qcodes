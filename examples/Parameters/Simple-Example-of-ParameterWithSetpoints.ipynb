{
 "cells": [
  {
   "cell_type": "markdown",
   "metadata": {},
   "source": [
    "# Simple Example of ParameterWithSetpoints\n",
    "This notebook provides an example for writing a simple driver with a parameter that has setpoints. Let's name this parameter that has setpoints as \"y\". Then, the setpoints, say \"x1, x2, x3 ..\", are the parameters on which the parameter \n",
    "\"y\" depends upon. Meaning \"y\" is a function of \"x1, x2, x3 ...\" where \"x1, x2, x3 ...\" are known as the setpoints of parameter \"y\".\n",
    "\n",
    "This is most likely to be useful for instruments that return arrays of results. In this notebook, we will show an example of this."
   ]
  },
  {
   "cell_type": "code",
   "execution_count": 1,
   "metadata": {},
   "outputs": [],
   "source": [
    "import numpy as np\n",
    "import os"
   ]
  },
  {
   "cell_type": "code",
   "execution_count": 2,
   "metadata": {},
   "outputs": [
    {
     "name": "stdout",
     "output_type": "stream",
     "text": [
      "Logging hadn't been started.\n",
      "Activating auto-logging. Current session state plus future input saved.\n",
      "Filename       : /home/vsts/.qcodes/logs/command_history.log\n",
      "Mode           : append\n",
      "Output logging : True\n",
      "Raw input log  : False\n",
      "Timestamping   : True\n",
      "State          : active\n"
     ]
    },
    {
     "name": "stdout",
     "output_type": "stream",
     "text": [
      "Qcodes Logfile : /home/vsts/.qcodes/logs/200325-23032-qcodes.log\n"
     ]
    }
   ],
   "source": [
    "from qcodes.dataset.plotting import plot_dataset\n",
    "from qcodes.utils.validators import Numbers, Arrays\n",
    "from qcodes.instrument.base import Instrument\n",
    "from qcodes.dataset.measurements import Measurement"
   ]
  },
  {
   "cell_type": "code",
   "execution_count": 3,
   "metadata": {},
   "outputs": [],
   "source": [
    "from qcodes.dataset.sqlite.database import initialise_or_create_database_at\n",
    "from qcodes.dataset.experiment_container import load_or_create_experiment"
   ]
  },
  {
   "cell_type": "code",
   "execution_count": 4,
   "metadata": {},
   "outputs": [],
   "source": [
    "from qcodes.instrument.parameter import ParameterWithSetpoints, Parameter\n",
    "from qcodes.instrument.parameter import expand_setpoints_helper"
   ]
  },
  {
   "cell_type": "markdown",
   "metadata": {},
   "source": [
    "First, we define a dummy instrument that returns something like a frequency spectrum starting from a frequency given by `f_start` to a frequency given by `f_stop` in `n_points` steps. \n",
    "\n",
    "The extra functionality of the `ParameterWithSetpoints` is implemented by giving it a reference to one or more parameters that acts like its setpoints. \n",
    "\n",
    "To setup a `ParameterWithSetpoints` we have to do two things in addition to what we do for a normal parameter.\n",
    "\n",
    "* Define one or more parameter for the setpoints (one for each dimension of the array and let the `ParameterWithSetpoints` know that these are the setpoints.\n",
    "* Give both the setpoints parameter(s) and the `ParameterWithSetpoints` a `validator` of type `Arrays` with a shape. The shapes should be such that the combined shape of the setpoints matches the shape of the `ParameterWithSetpoints`. Note that if the shape changes with the setting of the instrument, it can be defined by another parameter as shown below. "
   ]
  },
  {
   "cell_type": "code",
   "execution_count": 5,
   "metadata": {},
   "outputs": [],
   "source": [
    "class GeneratedSetPoints(Parameter):\n",
    "    \"\"\"\n",
    "    A parameter that generates a setpoint array from start, stop and num points\n",
    "    parameters.\n",
    "    \"\"\"\n",
    "    def __init__(self, startparam, stopparam, numpointsparam, *args, **kwargs):\n",
    "        super().__init__(*args, **kwargs)\n",
    "        self._startparam = startparam\n",
    "        self._stopparam = stopparam\n",
    "        self._numpointsparam = numpointsparam\n",
    "\n",
    "    def get_raw(self):\n",
    "        return np.linspace(self._startparam(), self._stopparam(),\n",
    "                              self._numpointsparam())\n",
    "\n",
    "class DummyArray(ParameterWithSetpoints):\n",
    "    \n",
    "    def get_raw(self):\n",
    "        npoints = self.root_instrument.n_points.get_latest()\n",
    "        return np.random.rand(npoints)\n",
    "    \n",
    "\n",
    "class DummySpectrumAnalyzer(Instrument):\n",
    "    \n",
    "    def __init__(self, name, **kwargs):\n",
    "        \n",
    "        super().__init__(name, **kwargs)\n",
    "            \n",
    "\n",
    "        self.add_parameter('f_start',\n",
    "                           initial_value=0,\n",
    "                           unit='Hz',\n",
    "                           label='f start',\n",
    "                           vals=Numbers(0,1e3),\n",
    "                           get_cmd=None,\n",
    "                           set_cmd=None)\n",
    "\n",
    "        self.add_parameter('f_stop',\n",
    "                           unit='Hz',\n",
    "                           label='f stop',\n",
    "                           vals=Numbers(1,1e3),\n",
    "                           get_cmd=None,\n",
    "                           set_cmd=None)\n",
    "\n",
    "        self.add_parameter('n_points',\n",
    "                           unit='',\n",
    "                           initial_value=10,\n",
    "                           vals=Numbers(1,1e3),\n",
    "                           get_cmd=None,\n",
    "                           set_cmd=None)\n",
    "        \n",
    "        self.add_parameter('freq_axis',\n",
    "                           unit='Hz',\n",
    "                           label='Freq Axis',\n",
    "                           parameter_class=GeneratedSetPoints,\n",
    "                           startparam=self.f_start,\n",
    "                           stopparam=self.f_stop,\n",
    "                           numpointsparam=self.n_points,\n",
    "                           vals=Arrays(shape=(self.n_points.get_latest,)))\n",
    "                           \n",
    "        self.add_parameter('spectrum',\n",
    "                   unit='dBm',\n",
    "                   setpoints=(self.freq_axis,),\n",
    "                   label='Spectrum',\n",
    "                   parameter_class=DummyArray,\n",
    "                   vals=Arrays(shape=(self.n_points.get_latest,)))\n",
    "                "
   ]
  },
  {
   "cell_type": "markdown",
   "metadata": {},
   "source": [
    "In the above example, the shape is defined by the parameter `n_points` that defines how many samples our `DummySpectrumAnalyzer` returns.\n",
    "\n",
    "This means that the validation will call the function to get `n_points` twice for each `get` of the parameter. This may be too slow, however, if you (as the driver-writer) can guarantee that the cached value for `n_points` will never be out of sync with the value stored in the instrument, `n_points` may be replaced by it's latest known value such that the `validator` reads:\n",
    "```python\n",
    "vals=Arrays(shape=(self.n_points.get_latest))\n",
    "```\n",
    "\n",
    "This avoids any additional call to the instrument. In the same way, the arguments to the `freq_axis` parameter that defines the start, stop and number of points can be replaced by their latest value if the instrument allows it.\n",
    "\n"
   ]
  },
  {
   "cell_type": "code",
   "execution_count": 6,
   "metadata": {},
   "outputs": [
    {
     "name": "stdout",
     "output_type": "stream",
     "text": [
      "\r",
      "0it [00:00, ?it/s]"
     ]
    },
    {
     "name": "stdout",
     "output_type": "stream",
     "text": [
      "\r",
      "Upgrading database; v0 -> v1: : 0it [00:00, ?it/s]"
     ]
    },
    {
     "name": "stdout",
     "output_type": "stream",
     "text": [
      "\r",
      "Upgrading database; v0 -> v1: : 0it [00:00, ?it/s]"
     ]
    },
    {
     "name": "stdout",
     "output_type": "stream",
     "text": [
      "\n",
      "\r",
      "  0%|          | 0/1 [00:00<?, ?it/s]"
     ]
    },
    {
     "name": "stdout",
     "output_type": "stream",
     "text": [
      "\r",
      "Upgrading database; v1 -> v2:   0%|          | 0/1 [00:00<?, ?it/s]"
     ]
    },
    {
     "name": "stdout",
     "output_type": "stream",
     "text": [
      "\r",
      "Upgrading database; v1 -> v2: 100%|██████████| 1/1 [00:00<00:00, 886.56it/s]"
     ]
    },
    {
     "name": "stdout",
     "output_type": "stream",
     "text": [
      "\n",
      "\r",
      "0it [00:00, ?it/s]"
     ]
    },
    {
     "name": "stdout",
     "output_type": "stream",
     "text": [
      "\r",
      "Upgrading database; v2 -> v3: : 0it [00:00, ?it/s]"
     ]
    },
    {
     "name": "stdout",
     "output_type": "stream",
     "text": [
      "\r",
      "Upgrading database; v2 -> v3: : 0it [00:00, ?it/s]"
     ]
    },
    {
     "name": "stdout",
     "output_type": "stream",
     "text": [
      "\n",
      "\r",
      "0it [00:00, ?it/s]"
     ]
    },
    {
     "name": "stdout",
     "output_type": "stream",
     "text": [
      "\r",
      "Upgrading database; v3 -> v4: : 0it [00:00, ?it/s]"
     ]
    },
    {
     "name": "stdout",
     "output_type": "stream",
     "text": [
      "\r",
      "Upgrading database; v3 -> v4: : 0it [00:00, ?it/s]"
     ]
    },
    {
     "name": "stdout",
     "output_type": "stream",
     "text": [
      "\n",
      "\r",
      "  0%|          | 0/1 [00:00<?, ?it/s]"
     ]
    },
    {
     "name": "stdout",
     "output_type": "stream",
     "text": [
      "\r",
      "Upgrading database; v4 -> v5:   0%|          | 0/1 [00:00<?, ?it/s]"
     ]
    },
    {
     "name": "stdout",
     "output_type": "stream",
     "text": [
      "\r",
      "Upgrading database; v4 -> v5: 100%|██████████| 1/1 [00:00<00:00, 847.16it/s]"
     ]
    },
    {
     "name": "stdout",
     "output_type": "stream",
     "text": [
      "\n",
      "\r",
      "0it [00:00, ?it/s]"
     ]
    },
    {
     "name": "stdout",
     "output_type": "stream",
     "text": [
      "\r",
      "Upgrading database; v5 -> v6: : 0it [00:00, ?it/s]"
     ]
    },
    {
     "name": "stdout",
     "output_type": "stream",
     "text": [
      "\r",
      "Upgrading database; v5 -> v6: : 0it [00:00, ?it/s]"
     ]
    },
    {
     "name": "stdout",
     "output_type": "stream",
     "text": [
      "\n",
      "\r",
      "  0%|          | 0/1 [00:00<?, ?it/s]"
     ]
    },
    {
     "name": "stdout",
     "output_type": "stream",
     "text": [
      "\r",
      "Upgrading database; v6 -> v7:   0%|          | 0/1 [00:00<?, ?it/s]"
     ]
    },
    {
     "name": "stdout",
     "output_type": "stream",
     "text": [
      "\r",
      "Upgrading database; v6 -> v7: 100%|██████████| 1/1 [00:00<00:00, 286.32it/s]"
     ]
    },
    {
     "name": "stdout",
     "output_type": "stream",
     "text": [
      "\n",
      "\r",
      "  0%|          | 0/1 [00:00<?, ?it/s]"
     ]
    },
    {
     "name": "stdout",
     "output_type": "stream",
     "text": [
      "\r",
      "Upgrading database; v7 -> v8:   0%|          | 0/1 [00:00<?, ?it/s]"
     ]
    },
    {
     "name": "stdout",
     "output_type": "stream",
     "text": [
      "\r",
      "Upgrading database; v7 -> v8: 100%|██████████| 1/1 [00:00<00:00, 602.11it/s]"
     ]
    },
    {
     "name": "stdout",
     "output_type": "stream",
     "text": [
      "\n",
      "\r",
      "  0%|          | 0/1 [00:00<?, ?it/s]"
     ]
    },
    {
     "name": "stdout",
     "output_type": "stream",
     "text": [
      "\r",
      "Upgrading database; v8 -> v9:   0%|          | 0/1 [00:00<?, ?it/s]"
     ]
    },
    {
     "name": "stdout",
     "output_type": "stream",
     "text": [
      "\r",
      "Upgrading database; v8 -> v9: 100%|██████████| 1/1 [00:00<00:00, 859.66it/s]"
     ]
    },
    {
     "name": "stdout",
     "output_type": "stream",
     "text": [
      "\n"
     ]
    },
    {
     "data": {
      "text/plain": [
       "tutorial_ParameterWithSetpoints#no sample#1@/home/vsts/work/1/s/docs/examples/Parameters/tutorial_paramter_with_setpoints.db\n",
       "----------------------------------------------------------------------------------------------------------------------------"
      ]
     },
     "execution_count": 6,
     "metadata": {},
     "output_type": "execute_result"
    }
   ],
   "source": [
    "tutorial_db_path = os.path.join(os.getcwd(), 'tutorial_paramter_with_setpoints.db')\n",
    "initialise_or_create_database_at(tutorial_db_path)\n",
    "load_or_create_experiment(experiment_name='tutorial_ParameterWithSetpoints', sample_name=\"no sample\")"
   ]
  },
  {
   "cell_type": "code",
   "execution_count": 7,
   "metadata": {},
   "outputs": [],
   "source": [
    "a = DummySpectrumAnalyzer('foobar')"
   ]
  },
  {
   "cell_type": "markdown",
   "metadata": {},
   "source": [
    "First we setup the limits of the spectrum"
   ]
  },
  {
   "cell_type": "code",
   "execution_count": 8,
   "metadata": {},
   "outputs": [],
   "source": [
    "a.f_start(0)\n",
    "a.f_stop(500)\n",
    "a.n_points(501)"
   ]
  },
  {
   "cell_type": "markdown",
   "metadata": {},
   "source": [
    "And we can grab the frequency axis"
   ]
  },
  {
   "cell_type": "code",
   "execution_count": 9,
   "metadata": {},
   "outputs": [
    {
     "data": {
      "text/plain": [
       "501"
      ]
     },
     "execution_count": 9,
     "metadata": {},
     "output_type": "execute_result"
    }
   ],
   "source": [
    "a.n_points()"
   ]
  },
  {
   "cell_type": "code",
   "execution_count": 10,
   "metadata": {
    "scrolled": false
   },
   "outputs": [
    {
     "data": {
      "text/plain": [
       "501"
      ]
     },
     "execution_count": 10,
     "metadata": {},
     "output_type": "execute_result"
    }
   ],
   "source": [
    "freq_axis = a.freq_axis()\n",
    "len(freq_axis)"
   ]
  },
  {
   "cell_type": "code",
   "execution_count": 11,
   "metadata": {},
   "outputs": [
    {
     "data": {
      "text/plain": [
       "array([0., 1., 2., 3., 4., 5., 6., 7., 8., 9.])"
      ]
     },
     "execution_count": 11,
     "metadata": {},
     "output_type": "execute_result"
    }
   ],
   "source": [
    "freq_axis[:10]"
   ]
  },
  {
   "cell_type": "markdown",
   "metadata": {},
   "source": [
    "As expected we get a result wit 501 points as we asked for an axis with 501 points. "
   ]
  },
  {
   "cell_type": "markdown",
   "metadata": {},
   "source": [
    "Above we have added a validator to the `freq_axis` parameter encoding the fact that this is an Array with `n_points`. Note that we do not have to supply the number of points as an integer but can supply a function that returns the valid number of points. This would normally be a QCoDeS parameter.\n",
    "\n",
    "This will be checked if we validate the output."
   ]
  },
  {
   "cell_type": "code",
   "execution_count": 12,
   "metadata": {},
   "outputs": [],
   "source": [
    "a.freq_axis.validate(a.freq_axis.get())"
   ]
  },
  {
   "cell_type": "markdown",
   "metadata": {},
   "source": [
    "Naturally, we can also get the spectrum. Getting the spectrum will automatically perform validation both for the shape of the parameter itself and the relation to the setpoint parameter(s)"
   ]
  },
  {
   "cell_type": "code",
   "execution_count": 13,
   "metadata": {
    "scrolled": true
   },
   "outputs": [
    {
     "data": {
      "text/plain": [
       "501"
      ]
     },
     "execution_count": 13,
     "metadata": {},
     "output_type": "execute_result"
    }
   ],
   "source": [
    "spectrum = a.spectrum.get()\n",
    "len(spectrum)"
   ]
  },
  {
   "cell_type": "markdown",
   "metadata": {},
   "source": [
    "When we validate a `ParameterWithSetpoints`, we automatically validate that the shape is consistent between the parameters and its setpoints. As well as validating the shape as above."
   ]
  },
  {
   "cell_type": "code",
   "execution_count": 14,
   "metadata": {},
   "outputs": [],
   "source": [
    "a.spectrum.validate(a.spectrum.get())"
   ]
  },
  {
   "cell_type": "markdown",
   "metadata": {},
   "source": [
    "The consistent shapes can be validated explicitly."
   ]
  },
  {
   "cell_type": "code",
   "execution_count": 15,
   "metadata": {},
   "outputs": [],
   "source": [
    "a.spectrum.validate_consistent_shape()"
   ]
  },
  {
   "cell_type": "markdown",
   "metadata": {},
   "source": [
    "We can inspect the setpoints of the spectrum."
   ]
  },
  {
   "cell_type": "code",
   "execution_count": 16,
   "metadata": {},
   "outputs": [
    {
     "data": {
      "text/plain": [
       "(<__main__.GeneratedSetPoints: freq_axis at 140546834126736>,)"
      ]
     },
     "execution_count": 16,
     "metadata": {},
     "output_type": "execute_result"
    }
   ],
   "source": [
    "a.spectrum.setpoints"
   ]
  },
  {
   "cell_type": "markdown",
   "metadata": {},
   "source": [
    "Or even change them."
   ]
  },
  {
   "cell_type": "code",
   "execution_count": 17,
   "metadata": {},
   "outputs": [],
   "source": [
    "a.spectrum.setpoints = (a.freq_axis,)"
   ]
  },
  {
   "cell_type": "markdown",
   "metadata": {},
   "source": [
    "## Measurement"
   ]
  },
  {
   "cell_type": "markdown",
   "metadata": {},
   "source": [
    "We can also directly consume the parameter in a measurement without defining the setpoints of the parameter again. The setpoints are automatically obtained from the definition of the `ParameterWithSetpoint` instance. "
   ]
  },
  {
   "cell_type": "code",
   "execution_count": 18,
   "metadata": {},
   "outputs": [
    {
     "name": "stdout",
     "output_type": "stream",
     "text": [
      "Starting experimental run with id: 1. \n"
     ]
    }
   ],
   "source": [
    "meas = Measurement()\n",
    "meas.register_parameter(a.spectrum)\n",
    "\n",
    "with meas.run() as datasaver:\n",
    "    datasaver.add_result((a.freq_axis, a.freq_axis()),\n",
    "                         (a.spectrum, a.spectrum()))\n",
    "    dataset = datasaver.dataset"
   ]
  },
  {
   "cell_type": "markdown",
   "metadata": {},
   "source": [
    "And plot it"
   ]
  },
  {
   "cell_type": "code",
   "execution_count": 19,
   "metadata": {},
   "outputs": [
    {
     "data": {
      "text/plain": [
       "([<matplotlib.axes._subplots.AxesSubplot at 0x7fd39b97ca10>], [None])"
      ]
     },
     "execution_count": 19,
     "metadata": {},
     "output_type": "execute_result"
    },
    {
     "data": {
      "image/png": "[encoded data removed]",
      "text/plain": [
       "<Figure size 432x288 with 1 Axes>"
      ]
     },
     "metadata": {
      "needs_background": "light"
     },
     "output_type": "display_data"
    }
   ],
   "source": [
    "plot_dataset(dataset)"
   ]
  },
  {
   "cell_type": "markdown",
   "metadata": {},
   "source": [
    "To reduce the amount of typing a simple convenience function is provided that will take a `ParameterWithSetpoints` and get both its values and the setpoints values and return them as tuples for direct insertion into the Dataset."
   ]
  },
  {
   "cell_type": "code",
   "execution_count": 20,
   "metadata": {
    "scrolled": true
   },
   "outputs": [
    {
     "data": {
      "text/plain": [
       "[(<__main__.GeneratedSetPoints: freq_axis at 140546834126736>,\n",
       "  array([  0.,   1.,   2.,   3.,   4.,   5.,   6.,   7.,   8.,   9.,  10.,\n",
       "          11.,  12.,  13.,  14.,  15.,  16.,  17.,  18.,  19.,  20.,  21.,\n",
       "          22.,  23.,  24.,  25.,  26.,  27.,  28.,  29.,  30.,  31.,  32.,\n",
       "          33.,  34.,  35.,  36.,  37.,  38.,  39.,  40.,  41.,  42.,  43.,\n",
       "          44.,  45.,  46.,  47.,  48.,  49.,  50.,  51.,  52.,  53.,  54.,\n",
       "          55.,  56.,  57.,  58.,  59.,  60.,  61.,  62.,  63.,  64.,  65.,\n",
       "          66.,  67.,  68.,  69.,  70.,  71.,  72.,  73.,  74.,  75.,  76.,\n",
       "          77.,  78.,  79.,  80.,  81.,  82.,  83.,  84.,  85.,  86.,  87.,\n",
       "          88.,  89.,  90.,  91.,  92.,  93.,  94.,  95.,  96.,  97.,  98.,\n",
       "          99., 100., 101., 102., 103., 104., 105., 106., 107., 108., 109.,\n",
       "         110., 111., 112., 113., 114., 115., 116., 117., 118., 119., 120.,\n",
       "         121., 122., 123., 124., 125., 126., 127., 128., 129., 130., 131.,\n",
       "         132., 133., 134., 135., 136., 137., 138., 139., 140., 141., 142.,\n",
       "         143., 144., 145., 146., 147., 148., 149., 150., 151., 152., 153.,\n",
       "         154., 155., 156., 157., 158., 159., 160., 161., 162., 163., 164.,\n",
       "         165., 166., 167., 168., 169., 170., 171., 172., 173., 174., 175.,\n",
       "         176., 177., 178., 179., 180., 181., 182., 183., 184., 185., 186.,\n",
       "         187., 188., 189., 190., 191., 192., 193., 194., 195., 196., 197.,\n",
       "         198., 199., 200., 201., 202., 203., 204., 205., 206., 207., 208.,\n",
       "         209., 210., 211., 212., 213., 214., 215., 216., 217., 218., 219.,\n",
       "         220., 221., 222., 223., 224., 225., 226., 227., 228., 229., 230.,\n",
       "         231., 232., 233., 234., 235., 236., 237., 238., 239., 240., 241.,\n",
       "         242., 243., 244., 245., 246., 247., 248., 249., 250., 251., 252.,\n",
       "         253., 254., 255., 256., 257., 258., 259., 260., 261., 262., 263.,\n",
       "         264., 265., 266., 267., 268., 269., 270., 271., 272., 273., 274.,\n",
       "         275., 276., 277., 278., 279., 280., 281., 282., 283., 284., 285.,\n",
       "         286., 287., 288., 289., 290., 291., 292., 293., 294., 295., 296.,\n",
       "         297., 298., 299., 300., 301., 302., 303., 304., 305., 306., 307.,\n",
       "         308., 309., 310., 311., 312., 313., 314., 315., 316., 317., 318.,\n",
       "         319., 320., 321., 322., 323., 324., 325., 326., 327., 328., 329.,\n",
       "         330., 331., 332., 333., 334., 335., 336., 337., 338., 339., 340.,\n",
       "         341., 342., 343., 344., 345., 346., 347., 348., 349., 350., 351.,\n",
       "         352., 353., 354., 355., 356., 357., 358., 359., 360., 361., 362.,\n",
       "         363., 364., 365., 366., 367., 368., 369., 370., 371., 372., 373.,\n",
       "         374., 375., 376., 377., 378., 379., 380., 381., 382., 383., 384.,\n",
       "         385., 386., 387., 388., 389., 390., 391., 392., 393., 394., 395.,\n",
       "         396., 397., 398., 399., 400., 401., 402., 403., 404., 405., 406.,\n",
       "         407., 408., 409., 410., 411., 412., 413., 414., 415., 416., 417.,\n",
       "         418., 419., 420., 421., 422., 423., 424., 425., 426., 427., 428.,\n",
       "         429., 430., 431., 432., 433., 434., 435., 436., 437., 438., 439.,\n",
       "         440., 441., 442., 443., 444., 445., 446., 447., 448., 449., 450.,\n",
       "         451., 452., 453., 454., 455., 456., 457., 458., 459., 460., 461.,\n",
       "         462., 463., 464., 465., 466., 467., 468., 469., 470., 471., 472.,\n",
       "         473., 474., 475., 476., 477., 478., 479., 480., 481., 482., 483.,\n",
       "         484., 485., 486., 487., 488., 489., 490., 491., 492., 493., 494.,\n",
       "         495., 496., 497., 498., 499., 500.])),\n",
       " (<__main__.DummyArray: spectrum at 140546834125136>,\n",
       "  array([6.57990853e-01, 1.31471453e-01, 8.00029865e-02, 7.39322562e-02,\n",
       "         6.46162681e-01, 4.53492622e-01, 3.40747873e-01, 4.86468736e-01,\n",
       "         5.92808417e-01, 4.26583800e-01, 4.55557769e-01, 3.21132447e-01,\n",
       "         9.97591256e-01, 8.75748666e-01, 1.68406776e-01, 7.13597960e-01,\n",
       "         5.08542835e-01, 6.88188751e-01, 9.25184315e-01, 3.10390296e-01,\n",
       "         5.16643209e-01, 3.21343748e-02, 9.95562591e-01, 1.34041976e-02,\n",
       "         2.89588535e-01, 9.83332143e-01, 9.79253158e-01, 1.58441264e-01,\n",
       "         8.91849541e-01, 7.42567569e-01, 7.91699475e-01, 9.99441359e-01,\n",
       "         8.66842218e-01, 1.38552757e-01, 1.90878140e-01, 9.42135959e-01,\n",
       "         9.34323595e-01, 3.60735580e-01, 3.62454373e-01, 3.71744316e-01,\n",
       "         2.12870532e-01, 4.02310263e-01, 1.14294464e-01, 1.37597991e-01,\n",
       "         1.80582604e-01, 2.30169143e-03, 7.85161781e-01, 6.89944543e-02,\n",
       "         8.60047304e-01, 9.32351444e-01, 3.21808817e-01, 9.94856488e-01,\n",
       "         1.08695594e-01, 9.46135366e-01, 5.79576946e-01, 6.58740706e-01,\n",
       "         2.46706256e-01, 6.85925919e-01, 7.28899237e-01, 8.07997745e-01,\n",
       "         1.64230144e-01, 6.01421226e-01, 6.74513504e-02, 3.10780316e-02,\n",
       "         6.47761472e-03, 4.74935222e-01, 6.21306800e-01, 3.73147050e-01,\n",
       "         5.94206698e-01, 5.23711707e-01, 2.27088814e-01, 9.84911564e-01,\n",
       "         9.87473206e-01, 3.07755860e-01, 7.32313967e-01, 4.88912109e-01,\n",
       "         1.51238814e-01, 1.86429629e-01, 6.12484425e-01, 3.86606365e-01,\n",
       "         5.85271661e-01, 2.25522748e-01, 9.24696621e-01, 7.35636055e-01,\n",
       "         1.93402942e-01, 6.63304490e-01, 4.77713586e-01, 3.35708975e-01,\n",
       "         4.10894042e-02, 4.76172763e-01, 6.42250643e-01, 8.10632858e-01,\n",
       "         7.14778027e-01, 2.02053099e-01, 4.78065917e-02, 3.88976256e-02,\n",
       "         7.06419452e-01, 7.40130155e-01, 5.98678937e-01, 8.51345588e-01,\n",
       "         7.18906291e-01, 8.50857093e-01, 7.42495617e-01, 9.09585642e-01,\n",
       "         3.19440016e-01, 6.94615201e-01, 6.89845046e-01, 9.14532959e-01,\n",
       "         1.10070287e-01, 2.44989972e-01, 7.90080382e-01, 3.81554666e-01,\n",
       "         3.63809544e-01, 9.27525764e-01, 6.21835728e-01, 7.30360894e-01,\n",
       "         1.18644088e-03, 5.63213445e-01, 4.57755191e-01, 5.72762666e-01,\n",
       "         9.40502685e-01, 9.04899686e-01, 8.00810917e-01, 3.50851517e-01,\n",
       "         7.69101182e-01, 8.38739232e-01, 1.70277468e-01, 2.18207691e-01,\n",
       "         1.24217531e-01, 3.19641336e-01, 5.80197502e-01, 3.45178063e-01,\n",
       "         1.01858671e-01, 9.00007966e-01, 5.48394886e-01, 6.87689678e-01,\n",
       "         5.10343536e-01, 2.00383571e-01, 1.35792206e-01, 1.67036592e-01,\n",
       "         2.55261324e-01, 3.30424035e-01, 4.53794022e-01, 3.33853076e-01,\n",
       "         7.77161477e-01, 1.84894390e-01, 6.19209601e-01, 6.69863435e-01,\n",
       "         8.13591272e-01, 6.06508325e-01, 3.09008819e-01, 4.39104989e-01,\n",
       "         1.04487541e-01, 4.94937087e-01, 8.67029742e-01, 2.41856082e-02,\n",
       "         4.50561365e-01, 6.06101237e-01, 1.09024052e-01, 5.90041404e-01,\n",
       "         1.43198827e-01, 1.76523277e-02, 2.54086801e-02, 2.28711466e-01,\n",
       "         5.91509976e-01, 5.96116430e-01, 9.30215208e-01, 3.67195927e-01,\n",
       "         9.25867905e-01, 4.05049377e-01, 2.21433846e-01, 7.92459403e-01,\n",
       "         9.54017878e-02, 2.69360035e-01, 8.84911936e-01, 6.97723480e-01,\n",
       "         9.48613938e-01, 6.97663354e-01, 2.25312105e-01, 2.35991034e-01,\n",
       "         7.25329816e-01, 1.18878686e-01, 5.62498103e-01, 3.83244000e-01,\n",
       "         7.88365877e-01, 8.31615746e-01, 7.63806864e-01, 5.69585729e-01,\n",
       "         6.81106119e-01, 2.57335878e-01, 6.91391369e-01, 9.03967774e-01,\n",
       "         1.71770888e-01, 8.82839954e-01, 9.25105966e-01, 6.60783157e-01,\n",
       "         4.21794823e-01, 6.63551845e-01, 1.45310859e-01, 8.69771761e-01,\n",
       "         6.30152758e-01, 1.89851722e-02, 6.76187929e-01, 1.83149682e-02,\n",
       "         2.56095647e-01, 3.68037470e-01, 6.97613850e-01, 1.73192810e-01,\n",
       "         3.64487657e-01, 4.21673805e-01, 3.34013267e-01, 9.32563065e-01,\n",
       "         6.26699542e-01, 7.48824701e-01, 6.89232724e-01, 1.12308421e-01,\n",
       "         4.44888233e-01, 1.50292637e-01, 8.82092604e-01, 2.84408859e-01,\n",
       "         3.18987891e-01, 9.41472393e-01, 9.84685615e-01, 4.97557871e-02,\n",
       "         4.56408652e-01, 1.69548898e-01, 8.22869020e-01, 8.02708369e-01,\n",
       "         6.39154816e-01, 5.72788270e-01, 7.46797034e-01, 2.87263775e-01,\n",
       "         5.11178820e-01, 6.26667069e-01, 5.14076660e-01, 2.08020152e-01,\n",
       "         4.88999705e-01, 7.04210799e-01, 5.41228054e-02, 2.63016205e-01,\n",
       "         4.47883615e-01, 3.23497518e-01, 4.08937749e-01, 4.29506350e-01,\n",
       "         9.66994276e-01, 8.10044449e-01, 6.96452967e-01, 4.10317840e-02,\n",
       "         3.47062656e-02, 2.18259804e-01, 6.32413317e-01, 1.11229032e-01,\n",
       "         4.68842856e-01, 9.91007994e-01, 1.91539494e-01, 9.92611964e-01,\n",
       "         1.09916644e-01, 7.60357323e-01, 8.98321792e-01, 5.74234358e-02,\n",
       "         5.16539637e-01, 7.71840469e-01, 7.34682065e-01, 3.26085996e-01,\n",
       "         8.51259677e-01, 7.49968887e-01, 3.41408531e-01, 8.09903224e-01,\n",
       "         5.97878244e-01, 2.68487692e-01, 9.99153261e-01, 8.04663924e-01,\n",
       "         5.43752966e-01, 9.97721734e-01, 4.10975396e-01, 1.63868590e-01,\n",
       "         2.71166829e-01, 8.17480779e-03, 2.89560415e-01, 9.13655060e-01,\n",
       "         6.80409239e-01, 7.22824569e-01, 1.54768461e-01, 2.59849245e-01,\n",
       "         6.52813512e-02, 6.88364315e-01, 1.95121120e-01, 6.24146326e-01,\n",
       "         7.54146895e-01, 7.27031933e-03, 4.75218599e-01, 2.92620606e-01,\n",
       "         1.94667944e-01, 3.62857536e-01, 4.73088511e-01, 5.91428945e-01,\n",
       "         9.68483161e-01, 6.86143019e-01, 5.93389263e-01, 5.68648845e-01,\n",
       "         8.75107149e-02, 1.25341737e-01, 6.99085502e-02, 1.91152370e-01,\n",
       "         3.87611088e-01, 6.10206626e-01, 6.10631146e-01, 2.74190570e-02,\n",
       "         3.91459219e-01, 8.10846431e-02, 7.80336942e-02, 4.35197916e-01,\n",
       "         5.97463117e-01, 3.92901419e-01, 5.52271529e-01, 9.46075056e-01,\n",
       "         6.33456297e-01, 5.65961688e-01, 4.98567390e-01, 4.35077184e-01,\n",
       "         6.52092631e-01, 2.06729300e-01, 2.64358925e-01, 9.07916671e-01,\n",
       "         2.03714527e-01, 9.86599499e-01, 8.64713038e-01, 3.91619376e-01,\n",
       "         9.91587104e-01, 5.43481966e-01, 4.46281701e-01, 9.78884876e-01,\n",
       "         5.27281551e-01, 6.84448854e-01, 3.56550216e-01, 4.02506741e-01,\n",
       "         6.61390329e-01, 7.50460321e-01, 9.33894676e-01, 9.68393376e-01,\n",
       "         1.07380698e-01, 2.39639896e-01, 6.98781673e-02, 5.63200058e-01,\n",
       "         3.52425622e-01, 7.40831222e-01, 6.23742010e-01, 2.48953657e-01,\n",
       "         2.93727805e-01, 1.25444713e-01, 8.77125863e-01, 9.45549809e-01,\n",
       "         7.71809911e-01, 6.80401646e-01, 2.19177334e-01, 2.90344964e-01,\n",
       "         6.46908088e-01, 2.81824808e-01, 9.72189238e-01, 5.34658405e-01,\n",
       "         1.42582124e-01, 6.93159760e-01, 1.09695104e-01, 8.07410219e-01,\n",
       "         7.80960557e-01, 9.06064343e-01, 4.11285986e-01, 9.17943972e-01,\n",
       "         8.46437632e-01, 2.02518517e-01, 8.41596950e-01, 5.04426139e-01,\n",
       "         7.14519978e-01, 5.48642185e-01, 2.26965148e-01, 3.56117574e-01,\n",
       "         5.70957627e-01, 6.60531808e-01, 2.03367420e-01, 6.58495929e-01,\n",
       "         1.28284216e-02, 9.19726616e-01, 7.33743043e-01, 7.91635680e-01,\n",
       "         4.79886687e-01, 1.59917904e-01, 8.81391768e-01, 8.61193882e-01,\n",
       "         1.32577331e-01, 3.83015003e-01, 2.14426645e-02, 5.84137149e-01,\n",
       "         9.43558490e-01, 8.64913034e-01, 3.11023224e-01, 6.93403894e-01,\n",
       "         4.12142886e-01, 7.18323363e-01, 8.35637066e-01, 4.70793212e-01,\n",
       "         8.70000772e-01, 3.21852150e-01, 5.83496986e-01, 3.31390609e-01,\n",
       "         8.99363908e-01, 6.90720898e-01, 4.54368059e-01, 8.95668101e-01,\n",
       "         8.90976732e-01, 2.98543924e-01, 7.50937843e-01, 3.91245266e-01,\n",
       "         1.77539728e-02, 8.72195025e-01, 7.22331659e-01, 7.06458377e-01,\n",
       "         7.37885639e-01, 3.37525976e-01, 3.30166433e-01, 8.56350837e-01,\n",
       "         4.72693690e-01, 2.14815763e-01, 5.31376757e-01, 3.00887570e-01,\n",
       "         8.92456869e-01, 2.21492817e-01, 8.56145667e-02, 8.48858902e-01,\n",
       "         6.35919958e-01, 4.29305992e-01, 3.26241159e-04, 7.27722663e-01,\n",
       "         6.04886569e-01, 6.82256644e-01, 7.63604356e-02, 1.21997244e-01,\n",
       "         8.61132147e-01, 1.54918623e-01, 9.86146844e-01, 5.53208144e-01,\n",
       "         7.98258257e-01, 6.47319096e-01, 7.63042702e-01, 5.59508005e-01,\n",
       "         2.11917376e-01, 6.28934053e-01, 6.87172798e-02, 8.38054403e-01,\n",
       "         4.62824740e-01, 2.59868305e-01, 2.27795317e-01, 5.48490520e-01,\n",
       "         4.22543804e-01, 5.96735819e-01, 6.37968642e-01, 2.05535407e-01,\n",
       "         3.69204300e-01, 4.13696066e-01, 4.69620155e-01, 1.99830385e-01,\n",
       "         3.23988109e-01, 3.93111921e-01, 6.14578326e-01, 4.52219097e-01,\n",
       "         7.46491318e-01, 7.39673730e-02, 9.99724211e-01, 3.59759148e-01,\n",
       "         8.94089161e-01, 6.38139741e-01, 2.22883615e-01, 6.42529338e-02,\n",
       "         3.36194691e-01, 8.51075260e-01, 3.49308238e-01, 7.52593591e-02,\n",
       "         7.65452381e-01, 9.30045019e-01, 9.41446650e-01, 9.06871937e-01,\n",
       "         1.11938051e-01, 5.44216862e-01, 1.71242022e-01, 9.91321913e-01,\n",
       "         2.45974588e-01, 1.31444303e-01, 2.58916719e-01, 9.80068160e-01,\n",
       "         8.87189690e-01, 9.39545223e-02, 4.35932171e-01, 4.69366496e-01,\n",
       "         5.15874842e-01, 9.73646045e-01, 9.66636548e-01, 7.05424454e-01,\n",
       "         8.64060285e-01, 8.88096543e-01, 1.04595017e-01, 5.04054233e-01,\n",
       "         2.21429659e-01]))]"
      ]
     },
     "execution_count": 20,
     "metadata": {},
     "output_type": "execute_result"
    }
   ],
   "source": [
    "expand_setpoints_helper(a.spectrum)"
   ]
  },
  {
   "cell_type": "code",
   "execution_count": 21,
   "metadata": {},
   "outputs": [
    {
     "name": "stdout",
     "output_type": "stream",
     "text": [
      "Starting experimental run with id: 2. \n"
     ]
    }
   ],
   "source": [
    "meas = Measurement()\n",
    "meas.register_parameter(a.spectrum)\n",
    "\n",
    "with meas.run() as datasaver:\n",
    "    datasaver.add_result(*expand_setpoints_helper(a.spectrum))\n",
    "    \n",
    "    dataid = datasaver.run_id"
   ]
  },
  {
   "cell_type": "code",
   "execution_count": null,
   "metadata": {},
   "outputs": [],
   "source": []
  }
 ],
 "metadata": {
  "kernelspec": {
   "display_name": "Python 3",
   "language": "python",
   "name": "python3"
  },
  "language_info": {
   "codemirror_mode": {
    "name": "ipython",
    "version": 3
   },
   "file_extension": ".py",
   "mimetype": "text/x-python",
   "name": "python",
   "nbconvert_exporter": "python",
   "pygments_lexer": "ipython3",
   "version": "3.7.7"
  },
  "toc": {
   "base_numbering": 1,
   "nav_menu": {},
   "number_sections": true,
   "sideBar": true,
   "skip_h1_title": false,
   "title_cell": "Table of Contents",
   "title_sidebar": "Contents",
   "toc_cell": false,
   "toc_position": {},
   "toc_section_display": true,
   "toc_window_display": false
  },
  "varInspector": {
   "cols": {
    "lenName": 16,
    "lenType": 16,
    "lenVar": 40
   },
   "kernels_config": {
    "python": {
     "delete_cmd_postfix": "",
     "delete_cmd_prefix": "del ",
     "library": "var_list.py",
     "varRefreshCmd": "print(var_dic_list())"
    },
    "r": {
     "delete_cmd_postfix": ") ",
     "delete_cmd_prefix": "rm(",
     "library": "var_list.r",
     "varRefreshCmd": "cat(var_dic_list()) "
    }
   },
   "types_to_exclude": [
    "module",
    "function",
    "builtin_function_or_method",
    "instance",
    "_Feature"
   ],
   "window_display": false
  }
 },
 "nbformat": 4,
 "nbformat_minor": 2
}
