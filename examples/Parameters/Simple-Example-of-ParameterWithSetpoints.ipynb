{
 "cells": [
  {
   "cell_type": "markdown",
   "metadata": {},
   "source": [
    "# Simple Example of ParameterWithSetpoints\n",
    "This notebook provides an example for writing a simple driver with a parameter that has setpoints. Let's name this parameter that has setpoints as \"y\". Then, the setpoints, say \"x1, x2, x3 ..\", are the parameters on which the parameter \n",
    "\"y\" depends upon. Meaning \"y\" is a function of \"x1, x2, x3 ...\" where \"x1, x2, x3 ...\" are known as the setpoints of parameter \"y\".\n",
    "\n",
    "This is most likely to be useful for instruments that return arrays of results. In this notebook, we will show an example of this."
   ]
  },
  {
   "cell_type": "code",
   "execution_count": 1,
   "metadata": {
    "execution": {
     "iopub.execute_input": "2020-09-18T17:17:25.100326Z",
     "iopub.status.busy": "2020-09-18T17:17:25.099863Z",
     "iopub.status.idle": "2020-09-18T17:17:25.182425Z",
     "shell.execute_reply": "2020-09-18T17:17:25.182812Z"
    }
   },
   "outputs": [],
   "source": [
    "import numpy as np\n",
    "import os"
   ]
  },
  {
   "cell_type": "code",
   "execution_count": 2,
   "metadata": {
    "execution": {
     "iopub.execute_input": "2020-09-18T17:17:25.186166Z",
     "iopub.status.busy": "2020-09-18T17:17:25.185697Z",
     "iopub.status.idle": "2020-09-18T17:17:26.135539Z",
     "shell.execute_reply": "2020-09-18T17:17:26.134808Z"
    }
   },
   "outputs": [
    {
     "name": "stdout",
     "output_type": "stream",
     "text": [
      "Logging hadn't been started.\n",
      "Activating auto-logging. Current session state plus future input saved.\n",
      "Filename       : /home/vsts/.qcodes/logs/command_history.log\n",
      "Mode           : append\n",
      "Output logging : True\n",
      "Raw input log  : False\n",
      "Timestamping   : True\n",
      "State          : active\n"
     ]
    },
    {
     "name": "stdout",
     "output_type": "stream",
     "text": [
      "Qcodes Logfile : /home/vsts/.qcodes/logs/200918-21691-qcodes.log\n"
     ]
    }
   ],
   "source": [
    "from qcodes.dataset.plotting import plot_dataset\n",
    "from qcodes.utils.validators import Numbers, Arrays\n",
    "from qcodes.instrument.base import Instrument\n",
    "from qcodes.dataset.measurements import Measurement"
   ]
  },
  {
   "cell_type": "code",
   "execution_count": 3,
   "metadata": {
    "execution": {
     "iopub.execute_input": "2020-09-18T17:17:26.139221Z",
     "iopub.status.busy": "2020-09-18T17:17:26.138723Z",
     "iopub.status.idle": "2020-09-18T17:17:26.141834Z",
     "shell.execute_reply": "2020-09-18T17:17:26.141420Z"
    }
   },
   "outputs": [],
   "source": [
    "from qcodes.dataset.sqlite.database import initialise_or_create_database_at\n",
    "from qcodes.dataset.experiment_container import load_or_create_experiment"
   ]
  },
  {
   "cell_type": "code",
   "execution_count": 4,
   "metadata": {
    "execution": {
     "iopub.execute_input": "2020-09-18T17:17:26.145305Z",
     "iopub.status.busy": "2020-09-18T17:17:26.144834Z",
     "iopub.status.idle": "2020-09-18T17:17:26.147598Z",
     "shell.execute_reply": "2020-09-18T17:17:26.148117Z"
    }
   },
   "outputs": [],
   "source": [
    "from qcodes.instrument.parameter import ParameterWithSetpoints, Parameter\n",
    "from qcodes.instrument.parameter import expand_setpoints_helper"
   ]
  },
  {
   "cell_type": "markdown",
   "metadata": {},
   "source": [
    "First, we define a dummy instrument that returns something like a frequency spectrum starting from a frequency given by `f_start` to a frequency given by `f_stop` in `n_points` steps. \n",
    "\n",
    "The extra functionality of the `ParameterWithSetpoints` is implemented by giving it a reference to one or more parameters that acts like its setpoints. \n",
    "\n",
    "To setup a `ParameterWithSetpoints` we have to do two things in addition to what we do for a normal parameter.\n",
    "\n",
    "* Define one or more parameter for the setpoints (one for each dimension of the array and let the `ParameterWithSetpoints` know that these are the setpoints.\n",
    "* Give both the setpoints parameter(s) and the `ParameterWithSetpoints` a `validator` of type `Arrays` with a shape. The shapes should be such that the combined shape of the setpoints matches the shape of the `ParameterWithSetpoints`. Note that if the shape changes with the setting of the instrument, it can be defined by another parameter as shown below. "
   ]
  },
  {
   "cell_type": "code",
   "execution_count": 5,
   "metadata": {
    "execution": {
     "iopub.execute_input": "2020-09-18T17:17:26.158281Z",
     "iopub.status.busy": "2020-09-18T17:17:26.157277Z",
     "iopub.status.idle": "2020-09-18T17:17:26.158786Z",
     "shell.execute_reply": "2020-09-18T17:17:26.159283Z"
    }
   },
   "outputs": [],
   "source": [
    "class GeneratedSetPoints(Parameter):\n",
    "    \"\"\"\n",
    "    A parameter that generates a setpoint array from start, stop and num points\n",
    "    parameters.\n",
    "    \"\"\"\n",
    "    def __init__(self, startparam, stopparam, numpointsparam, *args, **kwargs):\n",
    "        super().__init__(*args, **kwargs)\n",
    "        self._startparam = startparam\n",
    "        self._stopparam = stopparam\n",
    "        self._numpointsparam = numpointsparam\n",
    "\n",
    "    def get_raw(self):\n",
    "        return np.linspace(self._startparam(), self._stopparam(),\n",
    "                              self._numpointsparam())\n",
    "\n",
    "class DummyArray(ParameterWithSetpoints):\n",
    "    \n",
    "    def get_raw(self):\n",
    "        npoints = self.root_instrument.n_points.get_latest()\n",
    "        return np.random.rand(npoints)\n",
    "    \n",
    "\n",
    "class DummySpectrumAnalyzer(Instrument):\n",
    "    \n",
    "    def __init__(self, name, **kwargs):\n",
    "        \n",
    "        super().__init__(name, **kwargs)\n",
    "            \n",
    "\n",
    "        self.add_parameter('f_start',\n",
    "                           initial_value=0,\n",
    "                           unit='Hz',\n",
    "                           label='f start',\n",
    "                           vals=Numbers(0,1e3),\n",
    "                           get_cmd=None,\n",
    "                           set_cmd=None)\n",
    "\n",
    "        self.add_parameter('f_stop',\n",
    "                           unit='Hz',\n",
    "                           label='f stop',\n",
    "                           vals=Numbers(1,1e3),\n",
    "                           get_cmd=None,\n",
    "                           set_cmd=None)\n",
    "\n",
    "        self.add_parameter('n_points',\n",
    "                           unit='',\n",
    "                           initial_value=10,\n",
    "                           vals=Numbers(1,1e3),\n",
    "                           get_cmd=None,\n",
    "                           set_cmd=None)\n",
    "        \n",
    "        self.add_parameter('freq_axis',\n",
    "                           unit='Hz',\n",
    "                           label='Freq Axis',\n",
    "                           parameter_class=GeneratedSetPoints,\n",
    "                           startparam=self.f_start,\n",
    "                           stopparam=self.f_stop,\n",
    "                           numpointsparam=self.n_points,\n",
    "                           vals=Arrays(shape=(self.n_points.get_latest,)))\n",
    "                           \n",
    "        self.add_parameter('spectrum',\n",
    "                   unit='dBm',\n",
    "                   setpoints=(self.freq_axis,),\n",
    "                   label='Spectrum',\n",
    "                   parameter_class=DummyArray,\n",
    "                   vals=Arrays(shape=(self.n_points.get_latest,)))\n",
    "                "
   ]
  },
  {
   "cell_type": "markdown",
   "metadata": {},
   "source": [
    "In the above example, the shape is defined by the parameter `n_points` that defines how many samples our `DummySpectrumAnalyzer` returns.\n",
    "\n",
    "This means that the validation will call the function to get `n_points` twice for each `get` of the parameter. This may be too slow, however, if you (as the driver-writer) can guarantee that the cached value for `n_points` will never be out of sync with the value stored in the instrument, `n_points` may be replaced by it's latest known value such that the `validator` reads:\n",
    "```python\n",
    "vals=Arrays(shape=(self.n_points.get_latest))\n",
    "```\n",
    "\n",
    "This avoids any additional call to the instrument. In the same way, the arguments to the `freq_axis` parameter that defines the start, stop and number of points can be replaced by their latest value if the instrument allows it.\n",
    "\n"
   ]
  },
  {
   "cell_type": "code",
   "execution_count": 6,
   "metadata": {
    "execution": {
     "iopub.execute_input": "2020-09-18T17:17:26.162485Z",
     "iopub.status.busy": "2020-09-18T17:17:26.161974Z",
     "iopub.status.idle": "2020-09-18T17:17:26.237858Z",
     "shell.execute_reply": "2020-09-18T17:17:26.237460Z"
    }
   },
   "outputs": [
    {
     "name": "stdout",
     "output_type": "stream",
     "text": [
      "\r",
      "0it [00:00, ?it/s]"
     ]
    },
    {
     "name": "stdout",
     "output_type": "stream",
     "text": [
      "\r",
      "Upgrading database; v0 -> v1: : 0it [00:00, ?it/s]"
     ]
    },
    {
     "name": "stdout",
     "output_type": "stream",
     "text": [
      "\r",
      "Upgrading database; v0 -> v1: : 0it [00:00, ?it/s]"
     ]
    },
    {
     "name": "stdout",
     "output_type": "stream",
     "text": [
      "\n",
      "\r",
      "  0%|          | 0/1 [00:00<?, ?it/s]"
     ]
    },
    {
     "name": "stdout",
     "output_type": "stream",
     "text": [
      "\r",
      "Upgrading database; v1 -> v2:   0%|          | 0/1 [00:00<?, ?it/s]"
     ]
    },
    {
     "name": "stdout",
     "output_type": "stream",
     "text": [
      "\r",
      "Upgrading database; v1 -> v2: 100%|██████████| 1/1 [00:00<00:00, 515.08it/s]"
     ]
    },
    {
     "name": "stdout",
     "output_type": "stream",
     "text": [
      "\n",
      "\r",
      "0it [00:00, ?it/s]"
     ]
    },
    {
     "name": "stdout",
     "output_type": "stream",
     "text": [
      "\r",
      "Upgrading database; v2 -> v3: : 0it [00:00, ?it/s]"
     ]
    },
    {
     "name": "stdout",
     "output_type": "stream",
     "text": [
      "\r",
      "Upgrading database; v2 -> v3: : 0it [00:00, ?it/s]"
     ]
    },
    {
     "name": "stdout",
     "output_type": "stream",
     "text": [
      "\n",
      "\r",
      "0it [00:00, ?it/s]"
     ]
    },
    {
     "name": "stdout",
     "output_type": "stream",
     "text": [
      "\r",
      "Upgrading database; v3 -> v4: : 0it [00:00, ?it/s]"
     ]
    },
    {
     "name": "stdout",
     "output_type": "stream",
     "text": [
      "\r",
      "Upgrading database; v3 -> v4: : 0it [00:00, ?it/s]"
     ]
    },
    {
     "name": "stdout",
     "output_type": "stream",
     "text": [
      "\n",
      "\r",
      "  0%|          | 0/1 [00:00<?, ?it/s]"
     ]
    },
    {
     "name": "stdout",
     "output_type": "stream",
     "text": [
      "\r",
      "Upgrading database; v4 -> v5:   0%|          | 0/1 [00:00<?, ?it/s]"
     ]
    },
    {
     "name": "stdout",
     "output_type": "stream",
     "text": [
      "\r",
      "Upgrading database; v4 -> v5: 100%|██████████| 1/1 [00:00<00:00, 463.72it/s]"
     ]
    },
    {
     "name": "stdout",
     "output_type": "stream",
     "text": [
      "\n",
      "\r",
      "0it [00:00, ?it/s]"
     ]
    },
    {
     "name": "stdout",
     "output_type": "stream",
     "text": [
      "\r",
      "Upgrading database; v5 -> v6: : 0it [00:00, ?it/s]"
     ]
    },
    {
     "name": "stdout",
     "output_type": "stream",
     "text": [
      "\r",
      "Upgrading database; v5 -> v6: : 0it [00:00, ?it/s]"
     ]
    },
    {
     "name": "stdout",
     "output_type": "stream",
     "text": [
      "\n",
      "\r",
      "  0%|          | 0/1 [00:00<?, ?it/s]"
     ]
    },
    {
     "name": "stdout",
     "output_type": "stream",
     "text": [
      "\r",
      "Upgrading database; v6 -> v7:   0%|          | 0/1 [00:00<?, ?it/s]"
     ]
    },
    {
     "name": "stdout",
     "output_type": "stream",
     "text": [
      "\r",
      "Upgrading database; v6 -> v7: 100%|██████████| 1/1 [00:00<00:00, 321.70it/s]"
     ]
    },
    {
     "name": "stdout",
     "output_type": "stream",
     "text": [
      "\n",
      "\r",
      "  0%|          | 0/1 [00:00<?, ?it/s]"
     ]
    },
    {
     "name": "stdout",
     "output_type": "stream",
     "text": [
      "\r",
      "Upgrading database; v7 -> v8:   0%|          | 0/1 [00:00<?, ?it/s]"
     ]
    },
    {
     "name": "stdout",
     "output_type": "stream",
     "text": [
      "\r",
      "Upgrading database; v7 -> v8: 100%|██████████| 1/1 [00:00<00:00, 477.82it/s]"
     ]
    },
    {
     "name": "stdout",
     "output_type": "stream",
     "text": [
      "\n",
      "\r",
      "  0%|          | 0/1 [00:00<?, ?it/s]"
     ]
    },
    {
     "name": "stdout",
     "output_type": "stream",
     "text": [
      "\r",
      "Upgrading database; v8 -> v9:   0%|          | 0/1 [00:00<?, ?it/s]"
     ]
    },
    {
     "name": "stdout",
     "output_type": "stream",
     "text": [
      "\r",
      "Upgrading database; v8 -> v9: 100%|██████████| 1/1 [00:00<00:00, 529.12it/s]"
     ]
    },
    {
     "name": "stdout",
     "output_type": "stream",
     "text": [
      "\n"
     ]
    },
    {
     "data": {
      "text/plain": [
       "tutorial_ParameterWithSetpoints#no sample#1@/home/vsts/work/1/s/docs/examples/Parameters/tutorial_paramter_with_setpoints.db\n",
       "----------------------------------------------------------------------------------------------------------------------------"
      ]
     },
     "execution_count": 1,
     "metadata": {},
     "output_type": "execute_result"
    }
   ],
   "source": [
    "tutorial_db_path = os.path.join(os.getcwd(), 'tutorial_paramter_with_setpoints.db')\n",
    "initialise_or_create_database_at(tutorial_db_path)\n",
    "load_or_create_experiment(experiment_name='tutorial_ParameterWithSetpoints', sample_name=\"no sample\")"
   ]
  },
  {
   "cell_type": "code",
   "execution_count": 7,
   "metadata": {
    "execution": {
     "iopub.execute_input": "2020-09-18T17:17:26.241299Z",
     "iopub.status.busy": "2020-09-18T17:17:26.240859Z",
     "iopub.status.idle": "2020-09-18T17:17:26.244211Z",
     "shell.execute_reply": "2020-09-18T17:17:26.243621Z"
    }
   },
   "outputs": [],
   "source": [
    "a = DummySpectrumAnalyzer('foobar')"
   ]
  },
  {
   "cell_type": "markdown",
   "metadata": {},
   "source": [
    "First we setup the limits of the spectrum"
   ]
  },
  {
   "cell_type": "code",
   "execution_count": 8,
   "metadata": {
    "execution": {
     "iopub.execute_input": "2020-09-18T17:17:26.247785Z",
     "iopub.status.busy": "2020-09-18T17:17:26.246989Z",
     "iopub.status.idle": "2020-09-18T17:17:26.248399Z",
     "shell.execute_reply": "2020-09-18T17:17:26.248859Z"
    }
   },
   "outputs": [],
   "source": [
    "a.f_start(0)\n",
    "a.f_stop(500)\n",
    "a.n_points(501)"
   ]
  },
  {
   "cell_type": "markdown",
   "metadata": {},
   "source": [
    "And we can grab the frequency axis"
   ]
  },
  {
   "cell_type": "code",
   "execution_count": 9,
   "metadata": {
    "execution": {
     "iopub.execute_input": "2020-09-18T17:17:26.252865Z",
     "iopub.status.busy": "2020-09-18T17:17:26.252410Z",
     "iopub.status.idle": "2020-09-18T17:17:26.254464Z",
     "shell.execute_reply": "2020-09-18T17:17:26.254928Z"
    }
   },
   "outputs": [
    {
     "data": {
      "text/plain": [
       "501"
      ]
     },
     "execution_count": 1,
     "metadata": {},
     "output_type": "execute_result"
    }
   ],
   "source": [
    "a.n_points()"
   ]
  },
  {
   "cell_type": "code",
   "execution_count": 10,
   "metadata": {
    "execution": {
     "iopub.execute_input": "2020-09-18T17:17:26.260155Z",
     "iopub.status.busy": "2020-09-18T17:17:26.258816Z",
     "iopub.status.idle": "2020-09-18T17:17:26.261778Z",
     "shell.execute_reply": "2020-09-18T17:17:26.262227Z"
    },
    "scrolled": false
   },
   "outputs": [
    {
     "data": {
      "text/plain": [
       "501"
      ]
     },
     "execution_count": 1,
     "metadata": {},
     "output_type": "execute_result"
    }
   ],
   "source": [
    "freq_axis = a.freq_axis()\n",
    "len(freq_axis)"
   ]
  },
  {
   "cell_type": "code",
   "execution_count": 11,
   "metadata": {
    "execution": {
     "iopub.execute_input": "2020-09-18T17:17:26.266918Z",
     "iopub.status.busy": "2020-09-18T17:17:26.265328Z",
     "iopub.status.idle": "2020-09-18T17:17:26.270665Z",
     "shell.execute_reply": "2020-09-18T17:17:26.271184Z"
    }
   },
   "outputs": [
    {
     "data": {
      "text/plain": [
       "array([0., 1., 2., 3., 4., 5., 6., 7., 8., 9.])"
      ]
     },
     "execution_count": 1,
     "metadata": {},
     "output_type": "execute_result"
    }
   ],
   "source": [
    "freq_axis[:10]"
   ]
  },
  {
   "cell_type": "markdown",
   "metadata": {},
   "source": [
    "As expected we get a result wit 501 points as we asked for an axis with 501 points. "
   ]
  },
  {
   "cell_type": "markdown",
   "metadata": {},
   "source": [
    "Above we have added a validator to the `freq_axis` parameter encoding the fact that this is an Array with `n_points`. Note that we do not have to supply the number of points as an integer but can supply a function that returns the valid number of points. This would normally be a QCoDeS parameter.\n",
    "\n",
    "This will be checked if we validate the output."
   ]
  },
  {
   "cell_type": "code",
   "execution_count": 12,
   "metadata": {
    "execution": {
     "iopub.execute_input": "2020-09-18T17:17:26.274892Z",
     "iopub.status.busy": "2020-09-18T17:17:26.274419Z",
     "iopub.status.idle": "2020-09-18T17:17:26.276588Z",
     "shell.execute_reply": "2020-09-18T17:17:26.276116Z"
    }
   },
   "outputs": [],
   "source": [
    "a.freq_axis.validate(a.freq_axis.get())"
   ]
  },
  {
   "cell_type": "markdown",
   "metadata": {},
   "source": [
    "Naturally, we can also get the spectrum. Getting the spectrum will automatically perform validation both for the shape of the parameter itself and the relation to the setpoint parameter(s)"
   ]
  },
  {
   "cell_type": "code",
   "execution_count": 13,
   "metadata": {
    "execution": {
     "iopub.execute_input": "2020-09-18T17:17:26.280129Z",
     "iopub.status.busy": "2020-09-18T17:17:26.279277Z",
     "iopub.status.idle": "2020-09-18T17:17:26.281643Z",
     "shell.execute_reply": "2020-09-18T17:17:26.282081Z"
    },
    "scrolled": true
   },
   "outputs": [
    {
     "data": {
      "text/plain": [
       "501"
      ]
     },
     "execution_count": 1,
     "metadata": {},
     "output_type": "execute_result"
    }
   ],
   "source": [
    "spectrum = a.spectrum.get()\n",
    "len(spectrum)"
   ]
  },
  {
   "cell_type": "markdown",
   "metadata": {},
   "source": [
    "When we validate a `ParameterWithSetpoints`, we automatically validate that the shape is consistent between the parameters and its setpoints. As well as validating the shape as above."
   ]
  },
  {
   "cell_type": "code",
   "execution_count": 14,
   "metadata": {
    "execution": {
     "iopub.execute_input": "2020-09-18T17:17:26.285185Z",
     "iopub.status.busy": "2020-09-18T17:17:26.284304Z",
     "iopub.status.idle": "2020-09-18T17:17:26.286638Z",
     "shell.execute_reply": "2020-09-18T17:17:26.287031Z"
    }
   },
   "outputs": [],
   "source": [
    "a.spectrum.validate(a.spectrum.get())"
   ]
  },
  {
   "cell_type": "markdown",
   "metadata": {},
   "source": [
    "The consistent shapes can be validated explicitly."
   ]
  },
  {
   "cell_type": "code",
   "execution_count": 15,
   "metadata": {
    "execution": {
     "iopub.execute_input": "2020-09-18T17:17:26.290852Z",
     "iopub.status.busy": "2020-09-18T17:17:26.289973Z",
     "iopub.status.idle": "2020-09-18T17:17:26.294593Z",
     "shell.execute_reply": "2020-09-18T17:17:26.293304Z"
    }
   },
   "outputs": [],
   "source": [
    "a.spectrum.validate_consistent_shape()"
   ]
  },
  {
   "cell_type": "markdown",
   "metadata": {},
   "source": [
    "We can inspect the setpoints of the spectrum."
   ]
  },
  {
   "cell_type": "code",
   "execution_count": 16,
   "metadata": {
    "execution": {
     "iopub.execute_input": "2020-09-18T17:17:26.297776Z",
     "iopub.status.busy": "2020-09-18T17:17:26.297308Z",
     "iopub.status.idle": "2020-09-18T17:17:26.300350Z",
     "shell.execute_reply": "2020-09-18T17:17:26.299867Z"
    }
   },
   "outputs": [
    {
     "data": {
      "text/plain": [
       "(<__main__.GeneratedSetPoints: freq_axis at 139633700554768>,)"
      ]
     },
     "execution_count": 1,
     "metadata": {},
     "output_type": "execute_result"
    }
   ],
   "source": [
    "a.spectrum.setpoints"
   ]
  },
  {
   "cell_type": "markdown",
   "metadata": {},
   "source": [
    "Or even change them."
   ]
  },
  {
   "cell_type": "code",
   "execution_count": 17,
   "metadata": {
    "execution": {
     "iopub.execute_input": "2020-09-18T17:17:26.303143Z",
     "iopub.status.busy": "2020-09-18T17:17:26.302670Z",
     "iopub.status.idle": "2020-09-18T17:17:26.305176Z",
     "shell.execute_reply": "2020-09-18T17:17:26.304458Z"
    }
   },
   "outputs": [],
   "source": [
    "a.spectrum.setpoints = (a.freq_axis,)"
   ]
  },
  {
   "cell_type": "markdown",
   "metadata": {},
   "source": [
    "## Measurement"
   ]
  },
  {
   "cell_type": "markdown",
   "metadata": {},
   "source": [
    "We can also directly consume the parameter in a measurement without defining the setpoints of the parameter again. The setpoints are automatically obtained from the definition of the `ParameterWithSetpoint` instance. "
   ]
  },
  {
   "cell_type": "code",
   "execution_count": 18,
   "metadata": {
    "execution": {
     "iopub.execute_input": "2020-09-18T17:17:26.309151Z",
     "iopub.status.busy": "2020-09-18T17:17:26.308713Z",
     "iopub.status.idle": "2020-09-18T17:17:26.323120Z",
     "shell.execute_reply": "2020-09-18T17:17:26.322628Z"
    }
   },
   "outputs": [
    {
     "name": "stdout",
     "output_type": "stream",
     "text": [
      "Starting experimental run with id: 1. \n"
     ]
    }
   ],
   "source": [
    "meas = Measurement()\n",
    "meas.register_parameter(a.spectrum)\n",
    "\n",
    "with meas.run() as datasaver:\n",
    "    datasaver.add_result((a.freq_axis, a.freq_axis()),\n",
    "                         (a.spectrum, a.spectrum()))\n",
    "    dataset = datasaver.dataset"
   ]
  },
  {
   "cell_type": "markdown",
   "metadata": {},
   "source": [
    "And plot it"
   ]
  },
  {
   "cell_type": "code",
   "execution_count": 19,
   "metadata": {
    "execution": {
     "iopub.execute_input": "2020-09-18T17:17:26.325749Z",
     "iopub.status.busy": "2020-09-18T17:17:26.325314Z",
     "iopub.status.idle": "2020-09-18T17:17:26.647274Z",
     "shell.execute_reply": "2020-09-18T17:17:26.646641Z"
    }
   },
   "outputs": [
    {
     "data": {
      "text/plain": [
       "([<matplotlib.axes._subplots.AxesSubplot at 0x7eff20c33fd0>], [None])"
      ]
     },
     "execution_count": 1,
     "metadata": {},
     "output_type": "execute_result"
    },
    {
     "data": {
      "image/png": "[encoded data removed]",
      "text/plain": [
       "<Figure size 432x288 with 1 Axes>"
      ]
     },
     "metadata": {
      "needs_background": "light"
     },
     "output_type": "display_data"
    }
   ],
   "source": [
    "plot_dataset(dataset)"
   ]
  },
  {
   "cell_type": "markdown",
   "metadata": {},
   "source": [
    "To reduce the amount of typing a simple convenience function is provided that will take a `ParameterWithSetpoints` and get both its values and the setpoints values and return them as tuples for direct insertion into the Dataset."
   ]
  },
  {
   "cell_type": "code",
   "execution_count": 20,
   "metadata": {
    "execution": {
     "iopub.execute_input": "2020-09-18T17:17:26.650640Z",
     "iopub.status.busy": "2020-09-18T17:17:26.650081Z",
     "iopub.status.idle": "2020-09-18T17:17:26.663339Z",
     "shell.execute_reply": "2020-09-18T17:17:26.664032Z"
    },
    "scrolled": true
   },
   "outputs": [
    {
     "data": {
      "text/plain": [
       "[(<__main__.GeneratedSetPoints: freq_axis at 139633700554768>,\n",
       "  array([  0.,   1.,   2.,   3.,   4.,   5.,   6.,   7.,   8.,   9.,  10.,\n",
       "          11.,  12.,  13.,  14.,  15.,  16.,  17.,  18.,  19.,  20.,  21.,\n",
       "          22.,  23.,  24.,  25.,  26.,  27.,  28.,  29.,  30.,  31.,  32.,\n",
       "          33.,  34.,  35.,  36.,  37.,  38.,  39.,  40.,  41.,  42.,  43.,\n",
       "          44.,  45.,  46.,  47.,  48.,  49.,  50.,  51.,  52.,  53.,  54.,\n",
       "          55.,  56.,  57.,  58.,  59.,  60.,  61.,  62.,  63.,  64.,  65.,\n",
       "          66.,  67.,  68.,  69.,  70.,  71.,  72.,  73.,  74.,  75.,  76.,\n",
       "          77.,  78.,  79.,  80.,  81.,  82.,  83.,  84.,  85.,  86.,  87.,\n",
       "          88.,  89.,  90.,  91.,  92.,  93.,  94.,  95.,  96.,  97.,  98.,\n",
       "          99., 100., 101., 102., 103., 104., 105., 106., 107., 108., 109.,\n",
       "         110., 111., 112., 113., 114., 115., 116., 117., 118., 119., 120.,\n",
       "         121., 122., 123., 124., 125., 126., 127., 128., 129., 130., 131.,\n",
       "         132., 133., 134., 135., 136., 137., 138., 139., 140., 141., 142.,\n",
       "         143., 144., 145., 146., 147., 148., 149., 150., 151., 152., 153.,\n",
       "         154., 155., 156., 157., 158., 159., 160., 161., 162., 163., 164.,\n",
       "         165., 166., 167., 168., 169., 170., 171., 172., 173., 174., 175.,\n",
       "         176., 177., 178., 179., 180., 181., 182., 183., 184., 185., 186.,\n",
       "         187., 188., 189., 190., 191., 192., 193., 194., 195., 196., 197.,\n",
       "         198., 199., 200., 201., 202., 203., 204., 205., 206., 207., 208.,\n",
       "         209., 210., 211., 212., 213., 214., 215., 216., 217., 218., 219.,\n",
       "         220., 221., 222., 223., 224., 225., 226., 227., 228., 229., 230.,\n",
       "         231., 232., 233., 234., 235., 236., 237., 238., 239., 240., 241.,\n",
       "         242., 243., 244., 245., 246., 247., 248., 249., 250., 251., 252.,\n",
       "         253., 254., 255., 256., 257., 258., 259., 260., 261., 262., 263.,\n",
       "         264., 265., 266., 267., 268., 269., 270., 271., 272., 273., 274.,\n",
       "         275., 276., 277., 278., 279., 280., 281., 282., 283., 284., 285.,\n",
       "         286., 287., 288., 289., 290., 291., 292., 293., 294., 295., 296.,\n",
       "         297., 298., 299., 300., 301., 302., 303., 304., 305., 306., 307.,\n",
       "         308., 309., 310., 311., 312., 313., 314., 315., 316., 317., 318.,\n",
       "         319., 320., 321., 322., 323., 324., 325., 326., 327., 328., 329.,\n",
       "         330., 331., 332., 333., 334., 335., 336., 337., 338., 339., 340.,\n",
       "         341., 342., 343., 344., 345., 346., 347., 348., 349., 350., 351.,\n",
       "         352., 353., 354., 355., 356., 357., 358., 359., 360., 361., 362.,\n",
       "         363., 364., 365., 366., 367., 368., 369., 370., 371., 372., 373.,\n",
       "         374., 375., 376., 377., 378., 379., 380., 381., 382., 383., 384.,\n",
       "         385., 386., 387., 388., 389., 390., 391., 392., 393., 394., 395.,\n",
       "         396., 397., 398., 399., 400., 401., 402., 403., 404., 405., 406.,\n",
       "         407., 408., 409., 410., 411., 412., 413., 414., 415., 416., 417.,\n",
       "         418., 419., 420., 421., 422., 423., 424., 425., 426., 427., 428.,\n",
       "         429., 430., 431., 432., 433., 434., 435., 436., 437., 438., 439.,\n",
       "         440., 441., 442., 443., 444., 445., 446., 447., 448., 449., 450.,\n",
       "         451., 452., 453., 454., 455., 456., 457., 458., 459., 460., 461.,\n",
       "         462., 463., 464., 465., 466., 467., 468., 469., 470., 471., 472.,\n",
       "         473., 474., 475., 476., 477., 478., 479., 480., 481., 482., 483.,\n",
       "         484., 485., 486., 487., 488., 489., 490., 491., 492., 493., 494.,\n",
       "         495., 496., 497., 498., 499., 500.])),\n",
       " (<__main__.DummyArray: spectrum at 139633700554512>,\n",
       "  array([1.40505719e-01, 4.79924162e-01, 4.16899142e-01, 7.94169616e-01,\n",
       "         1.78564189e-01, 8.31896960e-01, 2.25178893e-01, 9.36123810e-01,\n",
       "         3.17248807e-01, 1.91198638e-01, 6.33049904e-01, 6.43054948e-01,\n",
       "         4.80580464e-03, 7.42186330e-01, 7.32550622e-01, 4.21673642e-01,\n",
       "         9.49821591e-02, 5.16794332e-01, 4.36292612e-01, 2.48459533e-01,\n",
       "         8.33022967e-01, 5.22675614e-01, 7.08548822e-01, 5.31982953e-01,\n",
       "         3.00801674e-01, 7.18543539e-01, 3.69160167e-01, 5.47374945e-01,\n",
       "         2.92343911e-01, 1.30292645e-01, 5.66216454e-01, 7.87232460e-01,\n",
       "         2.91308407e-01, 3.70502764e-01, 8.02559484e-01, 6.19301602e-01,\n",
       "         6.04480264e-01, 6.43910546e-01, 6.60306558e-01, 6.99034665e-01,\n",
       "         3.23918806e-01, 9.67393919e-01, 8.03488581e-01, 3.33457477e-01,\n",
       "         5.23470094e-01, 1.76272328e-01, 7.51108040e-01, 5.86001371e-01,\n",
       "         8.21595315e-01, 6.99164651e-01, 5.23251335e-01, 1.26415989e-01,\n",
       "         2.63055004e-01, 7.85610778e-01, 9.88265218e-01, 1.79417865e-01,\n",
       "         2.41236703e-01, 4.42264984e-01, 9.06480564e-01, 9.52511055e-01,\n",
       "         3.09802617e-01, 7.34282146e-01, 2.41580414e-01, 8.23229546e-01,\n",
       "         4.59444049e-02, 4.64048933e-01, 5.90609303e-01, 8.88822908e-01,\n",
       "         2.74098071e-01, 1.20109084e-01, 5.47505320e-01, 1.45745195e-02,\n",
       "         8.50708465e-01, 8.87392083e-01, 1.71554742e-01, 2.98783210e-01,\n",
       "         5.95332797e-01, 4.03462161e-01, 7.86058083e-01, 6.71085672e-01,\n",
       "         1.41077120e-01, 7.69119394e-01, 2.56194806e-01, 1.17605477e-01,\n",
       "         4.54724069e-01, 3.74473080e-03, 8.95865318e-01, 3.15171796e-02,\n",
       "         9.07925626e-01, 9.40410478e-01, 9.27250609e-01, 5.04222433e-01,\n",
       "         5.95088465e-01, 7.21151369e-01, 8.11042977e-01, 2.02532581e-01,\n",
       "         5.26121334e-01, 7.50602067e-01, 1.25447319e-01, 9.63262310e-01,\n",
       "         4.63242793e-01, 1.40617202e-01, 9.67713156e-01, 1.41678009e-01,\n",
       "         7.94433695e-01, 8.54859806e-01, 7.37756975e-01, 7.50193800e-02,\n",
       "         8.13395328e-01, 1.49894859e-01, 4.80740584e-01, 8.29708543e-01,\n",
       "         2.94635046e-01, 9.41836489e-01, 7.57550936e-01, 1.98809033e-01,\n",
       "         4.83769752e-01, 1.77873568e-01, 5.08019506e-01, 8.39459489e-01,\n",
       "         5.25040351e-01, 2.90088492e-02, 6.15759170e-01, 9.14362979e-01,\n",
       "         7.29197374e-01, 3.62089241e-01, 5.82626047e-01, 2.59821306e-01,\n",
       "         4.12690134e-01, 6.67176111e-01, 8.25987813e-01, 9.00727390e-01,\n",
       "         9.08939768e-01, 5.27322925e-01, 9.94110184e-01, 6.83925333e-01,\n",
       "         7.41410877e-01, 2.95763907e-01, 2.14616813e-01, 2.41975117e-01,\n",
       "         1.91181748e-01, 4.74896286e-01, 7.12975834e-01, 3.27489426e-01,\n",
       "         3.28690258e-01, 9.70956209e-01, 8.26323971e-01, 5.48689237e-01,\n",
       "         3.37990423e-01, 3.48484188e-01, 1.00817618e-01, 3.86254600e-01,\n",
       "         4.59287024e-01, 2.25975226e-01, 3.58116097e-02, 7.32108700e-01,\n",
       "         6.08200803e-01, 3.65336725e-01, 3.58412766e-01, 7.27266598e-01,\n",
       "         5.04673571e-01, 5.98187212e-01, 1.72668339e-01, 5.54656002e-01,\n",
       "         7.32454028e-01, 6.63542794e-01, 4.18328311e-01, 1.89210340e-01,\n",
       "         8.24153480e-02, 6.72882121e-01, 3.10888453e-01, 6.61446419e-01,\n",
       "         1.49322198e-01, 2.43403731e-01, 8.70316249e-01, 3.02140318e-02,\n",
       "         3.70978575e-01, 3.33259607e-01, 8.80763377e-01, 6.86749204e-01,\n",
       "         2.04630438e-02, 9.74380281e-01, 3.79294609e-01, 5.88242026e-01,\n",
       "         6.41202758e-01, 3.07119685e-01, 7.80509893e-01, 5.52166901e-01,\n",
       "         2.38042033e-01, 6.50044681e-01, 6.83631905e-01, 8.73219128e-01,\n",
       "         5.99502795e-01, 7.34073258e-01, 6.45905740e-01, 3.09308828e-02,\n",
       "         2.36287827e-01, 1.73018810e-02, 4.86443676e-01, 1.52803112e-02,\n",
       "         7.75531101e-02, 2.82674244e-01, 9.23638801e-01, 1.01188627e-01,\n",
       "         5.01326216e-01, 8.39803921e-01, 7.64736393e-01, 6.32350820e-01,\n",
       "         8.01945769e-01, 1.75550590e-01, 2.85701718e-01, 7.59926981e-01,\n",
       "         8.90225236e-01, 4.44036227e-01, 4.24713576e-01, 1.44903357e-01,\n",
       "         7.19062166e-01, 1.17643398e-01, 3.77253209e-01, 4.21384608e-01,\n",
       "         1.82102212e-01, 8.57354123e-01, 5.56890784e-01, 1.33584864e-01,\n",
       "         6.81473807e-01, 8.35533879e-01, 6.60732451e-02, 9.69050787e-01,\n",
       "         4.57748946e-01, 2.64652277e-01, 7.02650047e-01, 4.97917311e-01,\n",
       "         1.38028726e-01, 9.06381238e-01, 1.07675144e-01, 9.73672433e-01,\n",
       "         9.00978777e-02, 8.81712642e-01, 3.37284705e-01, 3.40667668e-01,\n",
       "         6.19289744e-01, 2.44743064e-01, 2.77064900e-01, 7.54886106e-01,\n",
       "         4.22690437e-02, 7.45818109e-01, 2.30360175e-01, 2.41885831e-01,\n",
       "         5.88621748e-01, 1.72634277e-01, 7.68543629e-01, 8.97323482e-01,\n",
       "         5.58189267e-03, 6.42460372e-01, 8.40559023e-01, 3.35229968e-01,\n",
       "         6.65518313e-01, 4.61171120e-01, 3.26172160e-01, 2.62533683e-02,\n",
       "         1.01830777e-01, 1.37829272e-01, 4.95770850e-02, 5.56286262e-01,\n",
       "         1.18342570e-01, 7.24516315e-02, 5.51591186e-01, 6.12223902e-01,\n",
       "         8.06701965e-01, 1.74641652e-01, 6.29593461e-01, 5.04589078e-01,\n",
       "         7.81298767e-01, 9.65010889e-01, 2.19133304e-01, 7.23871148e-01,\n",
       "         2.16932962e-01, 7.08128464e-01, 8.35585949e-01, 9.15902664e-01,\n",
       "         8.85361423e-01, 1.40013229e-02, 2.12273846e-01, 9.45597853e-01,\n",
       "         4.39250156e-01, 6.05816104e-01, 6.89769410e-01, 5.54416520e-01,\n",
       "         7.35575291e-01, 7.12222794e-01, 1.03264527e-01, 3.56204986e-01,\n",
       "         7.44441476e-04, 7.57480152e-03, 1.24617457e-01, 8.30988184e-01,\n",
       "         1.51501487e-01, 7.67032776e-01, 3.15810410e-01, 2.44637290e-01,\n",
       "         2.15810840e-01, 9.66874503e-03, 9.50047537e-01, 1.84645145e-01,\n",
       "         5.57083558e-01, 1.17809998e-01, 7.98953955e-01, 2.53564112e-01,\n",
       "         3.12540630e-02, 9.84138275e-01, 7.45169692e-01, 2.34195834e-01,\n",
       "         5.09481502e-02, 5.45738420e-01, 2.63532651e-01, 5.24069359e-01,\n",
       "         7.02084335e-01, 1.88544567e-01, 8.35321199e-01, 1.82756161e-01,\n",
       "         9.28402367e-01, 4.02531764e-01, 9.58704360e-02, 4.71553360e-01,\n",
       "         5.49942933e-01, 6.78662117e-01, 8.11524625e-01, 4.22370452e-01,\n",
       "         8.20664252e-01, 2.52839813e-01, 2.20691956e-01, 9.87051544e-01,\n",
       "         6.22815967e-01, 5.53304386e-01, 5.51855245e-01, 7.10060272e-01,\n",
       "         2.01121770e-01, 4.75548108e-01, 3.50567016e-01, 5.08420336e-01,\n",
       "         4.77595667e-01, 6.29706445e-01, 5.25959048e-01, 7.05891043e-02,\n",
       "         6.57807633e-01, 1.29373286e-01, 1.54226977e-01, 4.17821834e-02,\n",
       "         7.89855242e-01, 3.14860887e-01, 2.84935881e-01, 3.40380841e-01,\n",
       "         2.21649680e-01, 7.77453450e-01, 1.38636137e-01, 9.48398160e-01,\n",
       "         8.89762238e-01, 4.87655762e-01, 9.87687391e-01, 1.80617892e-01,\n",
       "         6.77865017e-01, 7.08807186e-01, 3.66173710e-01, 8.33693938e-01,\n",
       "         2.39989485e-01, 6.91416942e-01, 5.55265394e-01, 9.70195349e-01,\n",
       "         6.93816769e-01, 6.71031001e-01, 7.73656806e-03, 3.60674154e-01,\n",
       "         3.83400515e-01, 7.29238720e-01, 6.23786643e-02, 3.59105150e-01,\n",
       "         7.84349981e-01, 5.36838664e-01, 2.87277791e-01, 2.03088958e-02,\n",
       "         9.49825032e-01, 3.75750144e-01, 4.38541139e-01, 8.56890706e-01,\n",
       "         2.65359044e-01, 9.01939181e-01, 4.15955086e-01, 8.96252845e-01,\n",
       "         6.08648797e-01, 3.67587171e-01, 7.45183355e-01, 2.52338894e-01,\n",
       "         5.35501770e-01, 7.41400269e-01, 2.92862251e-01, 8.59208132e-01,\n",
       "         8.61374030e-01, 5.28016330e-01, 6.88155001e-01, 2.52610373e-01,\n",
       "         8.78058162e-01, 1.57709022e-01, 4.07410152e-01, 8.01520122e-01,\n",
       "         2.08479847e-01, 6.95474988e-01, 8.70367706e-01, 7.73893216e-01,\n",
       "         9.22919511e-02, 3.30866566e-01, 8.42725712e-01, 2.81994155e-01,\n",
       "         2.03480604e-01, 7.89114400e-01, 7.25583441e-01, 8.19737782e-01,\n",
       "         7.28305450e-02, 1.55704551e-01, 1.09165593e-01, 6.31822260e-01,\n",
       "         9.86036658e-01, 3.17438838e-01, 2.76959811e-01, 2.94925944e-01,\n",
       "         1.72568569e-01, 5.62355182e-01, 3.47318959e-01, 1.48372433e-02,\n",
       "         1.51555381e-01, 9.70297001e-01, 4.59311780e-01, 7.43664422e-01,\n",
       "         4.77525986e-01, 7.95380859e-01, 3.60428558e-01, 2.74957875e-01,\n",
       "         5.85765537e-01, 3.99335663e-01, 6.20320154e-02, 1.81612834e-01,\n",
       "         7.25515505e-01, 4.40317932e-01, 1.41224757e-01, 5.62654860e-01,\n",
       "         4.60313871e-02, 9.89040286e-01, 4.52471230e-01, 3.55484848e-01,\n",
       "         8.22201009e-01, 1.88701113e-01, 8.15199130e-02, 2.14095526e-01,\n",
       "         9.28550171e-01, 3.23188906e-01, 7.19361692e-02, 4.16078637e-01,\n",
       "         2.44994244e-01, 9.81503533e-01, 7.08751751e-01, 7.85774155e-01,\n",
       "         2.61473443e-01, 3.67822241e-01, 6.06587730e-01, 3.21733860e-01,\n",
       "         8.41258655e-01, 8.36035235e-01, 9.10472810e-01, 9.06945450e-01,\n",
       "         5.33086673e-01, 9.53075701e-01, 4.02318260e-01, 5.39818873e-01,\n",
       "         4.49246144e-01, 8.01696688e-01, 9.41817683e-01, 5.16166944e-01,\n",
       "         9.21228110e-01, 3.02331043e-01, 2.86107297e-01, 7.42444389e-01,\n",
       "         5.88758472e-01, 7.75299997e-01, 5.44652309e-01, 8.39752589e-01,\n",
       "         3.35826474e-01, 1.84220648e-02, 7.98410692e-01, 9.25959379e-01,\n",
       "         2.80986346e-01, 1.84135504e-01, 3.13730380e-01, 9.89504941e-01,\n",
       "         5.05408201e-01, 9.38920890e-01, 5.77750711e-01, 5.69809187e-01,\n",
       "         3.74529335e-01, 5.63519686e-01, 4.81492671e-01, 2.02520072e-01,\n",
       "         9.35712070e-01]))]"
      ]
     },
     "execution_count": 1,
     "metadata": {},
     "output_type": "execute_result"
    }
   ],
   "source": [
    "expand_setpoints_helper(a.spectrum)"
   ]
  },
  {
   "cell_type": "code",
   "execution_count": 21,
   "metadata": {
    "execution": {
     "iopub.execute_input": "2020-09-18T17:17:26.667723Z",
     "iopub.status.busy": "2020-09-18T17:17:26.667257Z",
     "iopub.status.idle": "2020-09-18T17:17:26.681293Z",
     "shell.execute_reply": "2020-09-18T17:17:26.680797Z"
    }
   },
   "outputs": [
    {
     "name": "stdout",
     "output_type": "stream",
     "text": [
      "Starting experimental run with id: 2. \n"
     ]
    }
   ],
   "source": [
    "meas = Measurement()\n",
    "meas.register_parameter(a.spectrum)\n",
    "\n",
    "with meas.run() as datasaver:\n",
    "    datasaver.add_result(*expand_setpoints_helper(a.spectrum))\n",
    "    \n",
    "    dataid = datasaver.run_id"
   ]
  },
  {
   "cell_type": "code",
   "execution_count": null,
   "metadata": {},
   "outputs": [],
   "source": []
  }
 ],
 "metadata": {
  "kernelspec": {
   "display_name": "Python 3",
   "language": "python",
   "name": "python3"
  },
  "language_info": {
   "codemirror_mode": {
    "name": "ipython",
    "version": 3
   },
   "file_extension": ".py",
   "mimetype": "text/x-python",
   "name": "python",
   "nbconvert_exporter": "python",
   "pygments_lexer": "ipython3",
   "version": "3.7.7"
  },
  "toc": {
   "base_numbering": 1,
   "nav_menu": {},
   "number_sections": true,
   "sideBar": true,
   "skip_h1_title": false,
   "title_cell": "Table of Contents",
   "title_sidebar": "Contents",
   "toc_cell": false,
   "toc_position": {},
   "toc_section_display": true,
   "toc_window_display": false
  },
  "varInspector": {
   "cols": {
    "lenName": 16,
    "lenType": 16,
    "lenVar": 40
   },
   "kernels_config": {
    "python": {
     "delete_cmd_postfix": "",
     "delete_cmd_prefix": "del ",
     "library": "var_list.py",
     "varRefreshCmd": "print(var_dic_list())"
    },
    "r": {
     "delete_cmd_postfix": ") ",
     "delete_cmd_prefix": "rm(",
     "library": "var_list.r",
     "varRefreshCmd": "cat(var_dic_list()) "
    }
   },
   "types_to_exclude": [
    "module",
    "function",
    "builtin_function_or_method",
    "instance",
    "_Feature"
   ],
   "window_display": false
  }
 },
 "nbformat": 4,
 "nbformat_minor": 2
}
