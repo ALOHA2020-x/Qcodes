{
 "cells": [
  {
   "cell_type": "markdown",
   "execution_count": 1,
   "metadata": {},
   "source": [
    "# Simple Example of ParameterWithSetpoints\n",
    "This notebook provides an example for writing a simple driver with a parameter that has setpoints. Let's name this parameter that has setpoints as \"y\". Then, the setpoints, say \"x1, x2, x3 ..\", are the parameters on which the parameter \n",
    "\"y\" depends upon. Meaning \"y\" is a function of \"x1, x2, x3 ...\" where \"x1, x2, x3 ...\" are known as the setpoints of parameter \"y\".\n",
    "\n",
    "This is most likely to be useful for instruments that return arrays of results. In this notebook, we will show an example of this."
   ]
  },
  {
   "cell_type": "code",
   "execution_count": 1,
   "metadata": {
    "execution": {
     "iopub.execute_input": "2020-09-14T08:12:42.617597Z",
     "iopub.status.busy": "2020-09-14T08:12:42.617132Z",
     "iopub.status.idle": "2020-09-14T08:12:42.700877Z",
     "shell.execute_reply": "2020-09-14T08:12:42.700321Z"
    }
   },
   "outputs": [],
   "source": [
    "import numpy as np\n",
    "import os"
   ]
  },
  {
   "cell_type": "code",
   "execution_count": 2,
   "metadata": {
    "execution": {
     "iopub.execute_input": "2020-09-14T08:12:42.704479Z",
     "iopub.status.busy": "2020-09-14T08:12:42.704028Z",
     "iopub.status.idle": "2020-09-14T08:12:43.633088Z",
     "shell.execute_reply": "2020-09-14T08:12:43.633487Z"
    }
   },
   "outputs": [
    {
     "name": "stdout",
     "output_type": "stream",
     "text": [
      "Logging hadn't been started.\n",
      "Activating auto-logging. Current session state plus future input saved.\n",
      "Filename       : /home/vsts/.qcodes/logs/command_history.log\n",
      "Mode           : append\n",
      "Output logging : True\n",
      "Raw input log  : False\n",
      "Timestamping   : True\n",
      "State          : active\n"
     ]
    },
    {
     "name": "stdout",
     "output_type": "stream",
     "text": [
      "Qcodes Logfile : /home/vsts/.qcodes/logs/200914-21759-qcodes.log\n"
     ]
    }
   ],
   "source": [
    "from qcodes.dataset.plotting import plot_dataset\n",
    "from qcodes.utils.validators import Numbers, Arrays\n",
    "from qcodes.instrument.base import Instrument\n",
    "from qcodes.dataset.measurements import Measurement"
   ]
  },
  {
   "cell_type": "code",
   "execution_count": 3,
   "metadata": {
    "execution": {
     "iopub.execute_input": "2020-09-14T08:12:43.637017Z",
     "iopub.status.busy": "2020-09-14T08:12:43.636509Z",
     "iopub.status.idle": "2020-09-14T08:12:43.639701Z",
     "shell.execute_reply": "2020-09-14T08:12:43.639275Z"
    }
   },
   "outputs": [],
   "source": [
    "from qcodes.dataset.sqlite.database import initialise_or_create_database_at\n",
    "from qcodes.dataset.experiment_container import load_or_create_experiment"
   ]
  },
  {
   "cell_type": "code",
   "execution_count": 4,
   "metadata": {
    "execution": {
     "iopub.execute_input": "2020-09-14T08:12:43.643276Z",
     "iopub.status.busy": "2020-09-14T08:12:43.642803Z",
     "iopub.status.idle": "2020-09-14T08:12:43.645732Z",
     "shell.execute_reply": "2020-09-14T08:12:43.646123Z"
    }
   },
   "outputs": [],
   "source": [
    "from qcodes.instrument.parameter import ParameterWithSetpoints, Parameter\n",
    "from qcodes.instrument.parameter import expand_setpoints_helper"
   ]
  },
  {
   "cell_type": "markdown",
   "execution_count": 5,
   "metadata": {},
   "source": [
    "First, we define a dummy instrument that returns something like a frequency spectrum starting from a frequency given by `f_start` to a frequency given by `f_stop` in `n_points` steps. \n",
    "\n",
    "The extra functionality of the `ParameterWithSetpoints` is implemented by giving it a reference to one or more parameters that acts like its setpoints. \n",
    "\n",
    "To setup a `ParameterWithSetpoints` we have to do two things in addition to what we do for a normal parameter.\n",
    "\n",
    "* Define one or more parameter for the setpoints (one for each dimension of the array and let the `ParameterWithSetpoints` know that these are the setpoints.\n",
    "* Give both the setpoints parameter(s) and the `ParameterWithSetpoints` a `validator` of type `Arrays` with a shape. The shapes should be such that the combined shape of the setpoints matches the shape of the `ParameterWithSetpoints`. Note that if the shape changes with the setting of the instrument, it can be defined by another parameter as shown below. "
   ]
  },
  {
   "cell_type": "code",
   "execution_count": 5,
   "metadata": {
    "execution": {
     "iopub.execute_input": "2020-09-14T08:12:43.655658Z",
     "iopub.status.busy": "2020-09-14T08:12:43.654503Z",
     "iopub.status.idle": "2020-09-14T08:12:43.656393Z",
     "shell.execute_reply": "2020-09-14T08:12:43.657264Z"
    }
   },
   "outputs": [],
   "source": [
    "class GeneratedSetPoints(Parameter):\n",
    "    \"\"\"\n",
    "    A parameter that generates a setpoint array from start, stop and num points\n",
    "    parameters.\n",
    "    \"\"\"\n",
    "    def __init__(self, startparam, stopparam, numpointsparam, *args, **kwargs):\n",
    "        super().__init__(*args, **kwargs)\n",
    "        self._startparam = startparam\n",
    "        self._stopparam = stopparam\n",
    "        self._numpointsparam = numpointsparam\n",
    "\n",
    "    def get_raw(self):\n",
    "        return np.linspace(self._startparam(), self._stopparam(),\n",
    "                              self._numpointsparam())\n",
    "\n",
    "class DummyArray(ParameterWithSetpoints):\n",
    "    \n",
    "    def get_raw(self):\n",
    "        npoints = self.root_instrument.n_points.get_latest()\n",
    "        return np.random.rand(npoints)\n",
    "    \n",
    "\n",
    "class DummySpectrumAnalyzer(Instrument):\n",
    "    \n",
    "    def __init__(self, name, **kwargs):\n",
    "        \n",
    "        super().__init__(name, **kwargs)\n",
    "            \n",
    "\n",
    "        self.add_parameter('f_start',\n",
    "                           initial_value=0,\n",
    "                           unit='Hz',\n",
    "                           label='f start',\n",
    "                           vals=Numbers(0,1e3),\n",
    "                           get_cmd=None,\n",
    "                           set_cmd=None)\n",
    "\n",
    "        self.add_parameter('f_stop',\n",
    "                           unit='Hz',\n",
    "                           label='f stop',\n",
    "                           vals=Numbers(1,1e3),\n",
    "                           get_cmd=None,\n",
    "                           set_cmd=None)\n",
    "\n",
    "        self.add_parameter('n_points',\n",
    "                           unit='',\n",
    "                           initial_value=10,\n",
    "                           vals=Numbers(1,1e3),\n",
    "                           get_cmd=None,\n",
    "                           set_cmd=None)\n",
    "        \n",
    "        self.add_parameter('freq_axis',\n",
    "                           unit='Hz',\n",
    "                           label='Freq Axis',\n",
    "                           parameter_class=GeneratedSetPoints,\n",
    "                           startparam=self.f_start,\n",
    "                           stopparam=self.f_stop,\n",
    "                           numpointsparam=self.n_points,\n",
    "                           vals=Arrays(shape=(self.n_points.get_latest,)))\n",
    "                           \n",
    "        self.add_parameter('spectrum',\n",
    "                   unit='dBm',\n",
    "                   setpoints=(self.freq_axis,),\n",
    "                   label='Spectrum',\n",
    "                   parameter_class=DummyArray,\n",
    "                   vals=Arrays(shape=(self.n_points.get_latest,)))\n",
    "                "
   ]
  },
  {
   "cell_type": "markdown",
   "execution_count": 6,
   "metadata": {},
   "source": [
    "In the above example, the shape is defined by the parameter `n_points` that defines how many samples our `DummySpectrumAnalyzer` returns.\n",
    "\n",
    "This means that the validation will call the function to get `n_points` twice for each `get` of the parameter. This may be too slow, however, if you (as the driver-writer) can guarantee that the cached value for `n_points` will never be out of sync with the value stored in the instrument, `n_points` may be replaced by it's latest known value such that the `validator` reads:\n",
    "```python\n",
    "vals=Arrays(shape=(self.n_points.get_latest))\n",
    "```\n",
    "\n",
    "This avoids any additional call to the instrument. In the same way, the arguments to the `freq_axis` parameter that defines the start, stop and number of points can be replaced by their latest value if the instrument allows it.\n",
    "\n"
   ]
  },
  {
   "cell_type": "code",
   "execution_count": 6,
   "metadata": {
    "execution": {
     "iopub.execute_input": "2020-09-14T08:12:43.660627Z",
     "iopub.status.busy": "2020-09-14T08:12:43.660073Z",
     "iopub.status.idle": "2020-09-14T08:12:43.722428Z",
     "shell.execute_reply": "2020-09-14T08:12:43.722019Z"
    }
   },
   "outputs": [
    {
     "name": "stdout",
     "output_type": "stream",
     "text": [
      "\r",
      "0it [00:00, ?it/s]"
     ]
    },
    {
     "name": "stdout",
     "output_type": "stream",
     "text": [
      "\r",
      "Upgrading database; v0 -> v1: : 0it [00:00, ?it/s]"
     ]
    },
    {
     "name": "stdout",
     "output_type": "stream",
     "text": [
      "\r",
      "Upgrading database; v0 -> v1: : 0it [00:00, ?it/s]"
     ]
    },
    {
     "name": "stdout",
     "output_type": "stream",
     "text": [
      "\n",
      "\r",
      "  0%|          | 0/1 [00:00<?, ?it/s]"
     ]
    },
    {
     "name": "stdout",
     "output_type": "stream",
     "text": [
      "\r",
      "Upgrading database; v1 -> v2:   0%|          | 0/1 [00:00<?, ?it/s]"
     ]
    },
    {
     "name": "stdout",
     "output_type": "stream",
     "text": [
      "\r",
      "Upgrading database; v1 -> v2: 100%|██████████| 1/1 [00:00<00:00, 454.57it/s]"
     ]
    },
    {
     "name": "stdout",
     "output_type": "stream",
     "text": [
      "\n",
      "\r",
      "0it [00:00, ?it/s]"
     ]
    },
    {
     "name": "stdout",
     "output_type": "stream",
     "text": [
      "\r",
      "Upgrading database; v2 -> v3: : 0it [00:00, ?it/s]"
     ]
    },
    {
     "name": "stdout",
     "output_type": "stream",
     "text": [
      "\r",
      "Upgrading database; v2 -> v3: : 0it [00:00, ?it/s]"
     ]
    },
    {
     "name": "stdout",
     "output_type": "stream",
     "text": [
      "\n",
      "\r",
      "0it [00:00, ?it/s]"
     ]
    },
    {
     "name": "stdout",
     "output_type": "stream",
     "text": [
      "\r",
      "Upgrading database; v3 -> v4: : 0it [00:00, ?it/s]"
     ]
    },
    {
     "name": "stdout",
     "output_type": "stream",
     "text": [
      "\r",
      "Upgrading database; v3 -> v4: : 0it [00:00, ?it/s]"
     ]
    },
    {
     "name": "stdout",
     "output_type": "stream",
     "text": [
      "\n",
      "\r",
      "  0%|          | 0/1 [00:00<?, ?it/s]"
     ]
    },
    {
     "name": "stdout",
     "output_type": "stream",
     "text": [
      "\r",
      "Upgrading database; v4 -> v5:   0%|          | 0/1 [00:00<?, ?it/s]"
     ]
    },
    {
     "name": "stdout",
     "output_type": "stream",
     "text": [
      "\r",
      "Upgrading database; v4 -> v5: 100%|██████████| 1/1 [00:00<00:00, 460.76it/s]"
     ]
    },
    {
     "name": "stdout",
     "output_type": "stream",
     "text": [
      "\n",
      "\r",
      "0it [00:00, ?it/s]"
     ]
    },
    {
     "name": "stdout",
     "output_type": "stream",
     "text": [
      "\r",
      "Upgrading database; v5 -> v6: : 0it [00:00, ?it/s]"
     ]
    },
    {
     "name": "stdout",
     "output_type": "stream",
     "text": [
      "\r",
      "Upgrading database; v5 -> v6: : 0it [00:00, ?it/s]"
     ]
    },
    {
     "name": "stdout",
     "output_type": "stream",
     "text": [
      "\n",
      "\r",
      "  0%|          | 0/1 [00:00<?, ?it/s]"
     ]
    },
    {
     "name": "stdout",
     "output_type": "stream",
     "text": [
      "\r",
      "Upgrading database; v6 -> v7:   0%|          | 0/1 [00:00<?, ?it/s]"
     ]
    },
    {
     "name": "stdout",
     "output_type": "stream",
     "text": [
      "\r",
      "Upgrading database; v6 -> v7: 100%|██████████| 1/1 [00:00<00:00, 390.75it/s]"
     ]
    },
    {
     "name": "stdout",
     "output_type": "stream",
     "text": [
      "\n",
      "\r",
      "  0%|          | 0/1 [00:00<?, ?it/s]"
     ]
    },
    {
     "name": "stdout",
     "output_type": "stream",
     "text": [
      "\r",
      "Upgrading database; v7 -> v8:   0%|          | 0/1 [00:00<?, ?it/s]"
     ]
    },
    {
     "name": "stdout",
     "output_type": "stream",
     "text": [
      "\r",
      "Upgrading database; v7 -> v8: 100%|██████████| 1/1 [00:00<00:00, 843.08it/s]"
     ]
    },
    {
     "name": "stdout",
     "output_type": "stream",
     "text": [
      "\n",
      "\r",
      "  0%|          | 0/1 [00:00<?, ?it/s]"
     ]
    },
    {
     "name": "stdout",
     "output_type": "stream",
     "text": [
      "\r",
      "Upgrading database; v8 -> v9:   0%|          | 0/1 [00:00<?, ?it/s]"
     ]
    },
    {
     "name": "stdout",
     "output_type": "stream",
     "text": [
      "\r",
      "Upgrading database; v8 -> v9: 100%|██████████| 1/1 [00:00<00:00, 572.52it/s]"
     ]
    },
    {
     "name": "stdout",
     "output_type": "stream",
     "text": [
      "\n"
     ]
    },
    {
     "data": {
      "text/plain": [
       "tutorial_ParameterWithSetpoints#no sample#1@/home/vsts/work/1/s/docs/examples/Parameters/tutorial_paramter_with_setpoints.db\n",
       "----------------------------------------------------------------------------------------------------------------------------"
      ]
     },
     "execution_count": 1,
     "metadata": {},
     "output_type": "execute_result"
    }
   ],
   "source": [
    "tutorial_db_path = os.path.join(os.getcwd(), 'tutorial_paramter_with_setpoints.db')\n",
    "initialise_or_create_database_at(tutorial_db_path)\n",
    "load_or_create_experiment(experiment_name='tutorial_ParameterWithSetpoints', sample_name=\"no sample\")"
   ]
  },
  {
   "cell_type": "code",
   "execution_count": 7,
   "metadata": {
    "execution": {
     "iopub.execute_input": "2020-09-14T08:12:43.726182Z",
     "iopub.status.busy": "2020-09-14T08:12:43.725742Z",
     "iopub.status.idle": "2020-09-14T08:12:43.729234Z",
     "shell.execute_reply": "2020-09-14T08:12:43.728751Z"
    }
   },
   "outputs": [],
   "source": [
    "a = DummySpectrumAnalyzer('foobar')"
   ]
  },
  {
   "cell_type": "markdown",
   "execution_count": 8,
   "metadata": {},
   "source": [
    "First we setup the limits of the spectrum"
   ]
  },
  {
   "cell_type": "code",
   "execution_count": 8,
   "metadata": {
    "execution": {
     "iopub.execute_input": "2020-09-14T08:12:43.732206Z",
     "iopub.status.busy": "2020-09-14T08:12:43.731756Z",
     "iopub.status.idle": "2020-09-14T08:12:43.735380Z",
     "shell.execute_reply": "2020-09-14T08:12:43.734787Z"
    }
   },
   "outputs": [],
   "source": [
    "a.f_start(0)\n",
    "a.f_stop(500)\n",
    "a.n_points(501)"
   ]
  },
  {
   "cell_type": "markdown",
   "execution_count": 9,
   "metadata": {},
   "source": [
    "And we can grab the frequency axis"
   ]
  },
  {
   "cell_type": "code",
   "execution_count": 9,
   "metadata": {
    "execution": {
     "iopub.execute_input": "2020-09-14T08:12:43.738419Z",
     "iopub.status.busy": "2020-09-14T08:12:43.737979Z",
     "iopub.status.idle": "2020-09-14T08:12:43.742369Z",
     "shell.execute_reply": "2020-09-14T08:12:43.741782Z"
    }
   },
   "outputs": [
    {
     "data": {
      "text/plain": [
       "501"
      ]
     },
     "execution_count": 1,
     "metadata": {},
     "output_type": "execute_result"
    }
   ],
   "source": [
    "a.n_points()"
   ]
  },
  {
   "cell_type": "code",
   "execution_count": 10,
   "metadata": {
    "execution": {
     "iopub.execute_input": "2020-09-14T08:12:43.745551Z",
     "iopub.status.busy": "2020-09-14T08:12:43.745100Z",
     "iopub.status.idle": "2020-09-14T08:12:43.749641Z",
     "shell.execute_reply": "2020-09-14T08:12:43.748988Z"
    },
    "scrolled": false
   },
   "outputs": [
    {
     "data": {
      "text/plain": [
       "501"
      ]
     },
     "execution_count": 1,
     "metadata": {},
     "output_type": "execute_result"
    }
   ],
   "source": [
    "freq_axis = a.freq_axis()\n",
    "len(freq_axis)"
   ]
  },
  {
   "cell_type": "code",
   "execution_count": 11,
   "metadata": {
    "execution": {
     "iopub.execute_input": "2020-09-14T08:12:43.753068Z",
     "iopub.status.busy": "2020-09-14T08:12:43.752584Z",
     "iopub.status.idle": "2020-09-14T08:12:43.756453Z",
     "shell.execute_reply": "2020-09-14T08:12:43.755937Z"
    }
   },
   "outputs": [
    {
     "data": {
      "text/plain": [
       "array([0., 1., 2., 3., 4., 5., 6., 7., 8., 9.])"
      ]
     },
     "execution_count": 1,
     "metadata": {},
     "output_type": "execute_result"
    }
   ],
   "source": [
    "freq_axis[:10]"
   ]
  },
  {
   "cell_type": "markdown",
   "execution_count": 12,
   "metadata": {},
   "source": [
    "As expected we get a result wit 501 points as we asked for an axis with 501 points. "
   ]
  },
  {
   "cell_type": "markdown",
   "execution_count": 12,
   "metadata": {},
   "source": [
    "Above we have added a validator to the `freq_axis` parameter encoding the fact that this is an Array with `n_points`. Note that we do not have to supply the number of points as an integer but can supply a function that returns the valid number of points. This would normally be a QCoDeS parameter.\n",
    "\n",
    "This will be checked if we validate the output."
   ]
  },
  {
   "cell_type": "code",
   "execution_count": 12,
   "metadata": {
    "execution": {
     "iopub.execute_input": "2020-09-14T08:12:43.760237Z",
     "iopub.status.busy": "2020-09-14T08:12:43.759427Z",
     "iopub.status.idle": "2020-09-14T08:12:43.760955Z",
     "shell.execute_reply": "2020-09-14T08:12:43.761319Z"
    }
   },
   "outputs": [],
   "source": [
    "a.freq_axis.validate(a.freq_axis.get())"
   ]
  },
  {
   "cell_type": "markdown",
   "execution_count": 13,
   "metadata": {},
   "source": [
    "Naturally, we can also get the spectrum. Getting the spectrum will automatically perform validation both for the shape of the parameter itself and the relation to the setpoint parameter(s)"
   ]
  },
  {
   "cell_type": "code",
   "execution_count": 13,
   "metadata": {
    "execution": {
     "iopub.execute_input": "2020-09-14T08:12:43.765148Z",
     "iopub.status.busy": "2020-09-14T08:12:43.764110Z",
     "iopub.status.idle": "2020-09-14T08:12:43.766813Z",
     "shell.execute_reply": "2020-09-14T08:12:43.767258Z"
    },
    "scrolled": true
   },
   "outputs": [
    {
     "data": {
      "text/plain": [
       "501"
      ]
     },
     "execution_count": 1,
     "metadata": {},
     "output_type": "execute_result"
    }
   ],
   "source": [
    "spectrum = a.spectrum.get()\n",
    "len(spectrum)"
   ]
  },
  {
   "cell_type": "markdown",
   "execution_count": 14,
   "metadata": {},
   "source": [
    "When we validate a `ParameterWithSetpoints`, we automatically validate that the shape is consistent between the parameters and its setpoints. As well as validating the shape as above."
   ]
  },
  {
   "cell_type": "code",
   "execution_count": 14,
   "metadata": {
    "execution": {
     "iopub.execute_input": "2020-09-14T08:12:43.770521Z",
     "iopub.status.busy": "2020-09-14T08:12:43.770069Z",
     "iopub.status.idle": "2020-09-14T08:12:43.772281Z",
     "shell.execute_reply": "2020-09-14T08:12:43.771816Z"
    }
   },
   "outputs": [],
   "source": [
    "a.spectrum.validate(a.spectrum.get())"
   ]
  },
  {
   "cell_type": "markdown",
   "execution_count": 15,
   "metadata": {},
   "source": [
    "The consistent shapes can be validated explicitly."
   ]
  },
  {
   "cell_type": "code",
   "execution_count": 15,
   "metadata": {
    "execution": {
     "iopub.execute_input": "2020-09-14T08:12:43.775785Z",
     "iopub.status.busy": "2020-09-14T08:12:43.774990Z",
     "iopub.status.idle": "2020-09-14T08:12:43.776510Z",
     "shell.execute_reply": "2020-09-14T08:12:43.776994Z"
    }
   },
   "outputs": [],
   "source": [
    "a.spectrum.validate_consistent_shape()"
   ]
  },
  {
   "cell_type": "markdown",
   "execution_count": 16,
   "metadata": {},
   "source": [
    "We can inspect the setpoints of the spectrum."
   ]
  },
  {
   "cell_type": "code",
   "execution_count": 16,
   "metadata": {
    "execution": {
     "iopub.execute_input": "2020-09-14T08:12:43.780897Z",
     "iopub.status.busy": "2020-09-14T08:12:43.780218Z",
     "iopub.status.idle": "2020-09-14T08:12:43.782522Z",
     "shell.execute_reply": "2020-09-14T08:12:43.782966Z"
    }
   },
   "outputs": [
    {
     "data": {
      "text/plain": [
       "(<__main__.GeneratedSetPoints: freq_axis at 140246791812560>,)"
      ]
     },
     "execution_count": 1,
     "metadata": {},
     "output_type": "execute_result"
    }
   ],
   "source": [
    "a.spectrum.setpoints"
   ]
  },
  {
   "cell_type": "markdown",
   "execution_count": 17,
   "metadata": {},
   "source": [
    "Or even change them."
   ]
  },
  {
   "cell_type": "code",
   "execution_count": 17,
   "metadata": {
    "execution": {
     "iopub.execute_input": "2020-09-14T08:12:43.786398Z",
     "iopub.status.busy": "2020-09-14T08:12:43.785595Z",
     "iopub.status.idle": "2020-09-14T08:12:43.787645Z",
     "shell.execute_reply": "2020-09-14T08:12:43.787179Z"
    }
   },
   "outputs": [],
   "source": [
    "a.spectrum.setpoints = (a.freq_axis,)"
   ]
  },
  {
   "cell_type": "markdown",
   "execution_count": 18,
   "metadata": {},
   "source": [
    "## Measurement"
   ]
  },
  {
   "cell_type": "markdown",
   "execution_count": 18,
   "metadata": {},
   "source": [
    "We can also directly consume the parameter in a measurement without defining the setpoints of the parameter again. The setpoints are automatically obtained from the definition of the `ParameterWithSetpoint` instance. "
   ]
  },
  {
   "cell_type": "code",
   "execution_count": 18,
   "metadata": {
    "execution": {
     "iopub.execute_input": "2020-09-14T08:12:43.791322Z",
     "iopub.status.busy": "2020-09-14T08:12:43.790870Z",
     "iopub.status.idle": "2020-09-14T08:12:43.804495Z",
     "shell.execute_reply": "2020-09-14T08:12:43.805011Z"
    }
   },
   "outputs": [
    {
     "name": "stdout",
     "output_type": "stream",
     "text": [
      "Starting experimental run with id: 1. \n"
     ]
    }
   ],
   "source": [
    "meas = Measurement()\n",
    "meas.register_parameter(a.spectrum)\n",
    "\n",
    "with meas.run() as datasaver:\n",
    "    datasaver.add_result((a.freq_axis, a.freq_axis()),\n",
    "                         (a.spectrum, a.spectrum()))\n",
    "    dataset = datasaver.dataset"
   ]
  },
  {
   "cell_type": "markdown",
   "execution_count": 19,
   "metadata": {},
   "source": [
    "And plot it"
   ]
  },
  {
   "cell_type": "code",
   "execution_count": 19,
   "metadata": {
    "execution": {
     "iopub.execute_input": "2020-09-14T08:12:43.808090Z",
     "iopub.status.busy": "2020-09-14T08:12:43.807626Z",
     "iopub.status.idle": "2020-09-14T08:12:44.145752Z",
     "shell.execute_reply": "2020-09-14T08:12:44.145262Z"
    }
   },
   "outputs": [
    {
     "data": {
      "text/plain": [
       "([<matplotlib.axes._subplots.AxesSubplot at 0x7f8dbf8e4dd0>], [None])"
      ]
     },
     "execution_count": 1,
     "metadata": {},
     "output_type": "execute_result"
    },
    {
     "data": {
      "image/png": "[encoded data removed]",
      "text/plain": [
       "<Figure size 432x288 with 1 Axes>"
      ]
     },
     "metadata": {
      "needs_background": "light"
     },
     "output_type": "display_data"
    }
   ],
   "source": [
    "plot_dataset(dataset)"
   ]
  },
  {
   "cell_type": "markdown",
   "execution_count": 20,
   "metadata": {},
   "source": [
    "To reduce the amount of typing a simple convenience function is provided that will take a `ParameterWithSetpoints` and get both its values and the setpoints values and return them as tuples for direct insertion into the Dataset."
   ]
  },
  {
   "cell_type": "code",
   "execution_count": 20,
   "metadata": {
    "execution": {
     "iopub.execute_input": "2020-09-14T08:12:44.149480Z",
     "iopub.status.busy": "2020-09-14T08:12:44.148998Z",
     "iopub.status.idle": "2020-09-14T08:12:44.161380Z",
     "shell.execute_reply": "2020-09-14T08:12:44.160964Z"
    },
    "scrolled": true
   },
   "outputs": [
    {
     "data": {
      "text/plain": [
       "[(<__main__.GeneratedSetPoints: freq_axis at 140246791812560>,\n",
       "  array([  0.,   1.,   2.,   3.,   4.,   5.,   6.,   7.,   8.,   9.,  10.,\n",
       "          11.,  12.,  13.,  14.,  15.,  16.,  17.,  18.,  19.,  20.,  21.,\n",
       "          22.,  23.,  24.,  25.,  26.,  27.,  28.,  29.,  30.,  31.,  32.,\n",
       "          33.,  34.,  35.,  36.,  37.,  38.,  39.,  40.,  41.,  42.,  43.,\n",
       "          44.,  45.,  46.,  47.,  48.,  49.,  50.,  51.,  52.,  53.,  54.,\n",
       "          55.,  56.,  57.,  58.,  59.,  60.,  61.,  62.,  63.,  64.,  65.,\n",
       "          66.,  67.,  68.,  69.,  70.,  71.,  72.,  73.,  74.,  75.,  76.,\n",
       "          77.,  78.,  79.,  80.,  81.,  82.,  83.,  84.,  85.,  86.,  87.,\n",
       "          88.,  89.,  90.,  91.,  92.,  93.,  94.,  95.,  96.,  97.,  98.,\n",
       "          99., 100., 101., 102., 103., 104., 105., 106., 107., 108., 109.,\n",
       "         110., 111., 112., 113., 114., 115., 116., 117., 118., 119., 120.,\n",
       "         121., 122., 123., 124., 125., 126., 127., 128., 129., 130., 131.,\n",
       "         132., 133., 134., 135., 136., 137., 138., 139., 140., 141., 142.,\n",
       "         143., 144., 145., 146., 147., 148., 149., 150., 151., 152., 153.,\n",
       "         154., 155., 156., 157., 158., 159., 160., 161., 162., 163., 164.,\n",
       "         165., 166., 167., 168., 169., 170., 171., 172., 173., 174., 175.,\n",
       "         176., 177., 178., 179., 180., 181., 182., 183., 184., 185., 186.,\n",
       "         187., 188., 189., 190., 191., 192., 193., 194., 195., 196., 197.,\n",
       "         198., 199., 200., 201., 202., 203., 204., 205., 206., 207., 208.,\n",
       "         209., 210., 211., 212., 213., 214., 215., 216., 217., 218., 219.,\n",
       "         220., 221., 222., 223., 224., 225., 226., 227., 228., 229., 230.,\n",
       "         231., 232., 233., 234., 235., 236., 237., 238., 239., 240., 241.,\n",
       "         242., 243., 244., 245., 246., 247., 248., 249., 250., 251., 252.,\n",
       "         253., 254., 255., 256., 257., 258., 259., 260., 261., 262., 263.,\n",
       "         264., 265., 266., 267., 268., 269., 270., 271., 272., 273., 274.,\n",
       "         275., 276., 277., 278., 279., 280., 281., 282., 283., 284., 285.,\n",
       "         286., 287., 288., 289., 290., 291., 292., 293., 294., 295., 296.,\n",
       "         297., 298., 299., 300., 301., 302., 303., 304., 305., 306., 307.,\n",
       "         308., 309., 310., 311., 312., 313., 314., 315., 316., 317., 318.,\n",
       "         319., 320., 321., 322., 323., 324., 325., 326., 327., 328., 329.,\n",
       "         330., 331., 332., 333., 334., 335., 336., 337., 338., 339., 340.,\n",
       "         341., 342., 343., 344., 345., 346., 347., 348., 349., 350., 351.,\n",
       "         352., 353., 354., 355., 356., 357., 358., 359., 360., 361., 362.,\n",
       "         363., 364., 365., 366., 367., 368., 369., 370., 371., 372., 373.,\n",
       "         374., 375., 376., 377., 378., 379., 380., 381., 382., 383., 384.,\n",
       "         385., 386., 387., 388., 389., 390., 391., 392., 393., 394., 395.,\n",
       "         396., 397., 398., 399., 400., 401., 402., 403., 404., 405., 406.,\n",
       "         407., 408., 409., 410., 411., 412., 413., 414., 415., 416., 417.,\n",
       "         418., 419., 420., 421., 422., 423., 424., 425., 426., 427., 428.,\n",
       "         429., 430., 431., 432., 433., 434., 435., 436., 437., 438., 439.,\n",
       "         440., 441., 442., 443., 444., 445., 446., 447., 448., 449., 450.,\n",
       "         451., 452., 453., 454., 455., 456., 457., 458., 459., 460., 461.,\n",
       "         462., 463., 464., 465., 466., 467., 468., 469., 470., 471., 472.,\n",
       "         473., 474., 475., 476., 477., 478., 479., 480., 481., 482., 483.,\n",
       "         484., 485., 486., 487., 488., 489., 490., 491., 492., 493., 494.,\n",
       "         495., 496., 497., 498., 499., 500.])),\n",
       " (<__main__.DummyArray: spectrum at 140246789694928>,\n",
       "  array([4.10706321e-01, 8.84348850e-01, 1.28643618e-01, 6.20734897e-01,\n",
       "         5.91519548e-01, 3.56177891e-01, 7.49340716e-02, 2.76584193e-01,\n",
       "         8.19775915e-01, 8.43091683e-01, 5.30848927e-01, 3.04992608e-01,\n",
       "         3.14837090e-01, 3.77226072e-01, 4.94058628e-01, 3.99900986e-01,\n",
       "         9.22215868e-01, 6.49411510e-01, 9.97118663e-01, 7.75564013e-01,\n",
       "         9.46575266e-01, 2.81185831e-01, 2.24949392e-01, 1.11681272e-01,\n",
       "         9.09281921e-01, 8.57989028e-01, 8.07060994e-01, 3.48977594e-01,\n",
       "         3.76378258e-01, 1.64411456e-01, 7.10656909e-01, 1.65404443e-02,\n",
       "         8.11851544e-01, 8.96656787e-02, 2.56793810e-01, 7.76165936e-01,\n",
       "         2.75819035e-01, 7.39234599e-01, 1.03511055e-01, 3.26909615e-01,\n",
       "         3.67045876e-02, 7.37157329e-01, 2.03822195e-02, 1.91889128e-01,\n",
       "         6.13414036e-01, 9.77240684e-01, 7.64412224e-01, 2.95409136e-01,\n",
       "         7.25840826e-01, 1.06207655e-02, 4.64585306e-01, 3.95403325e-01,\n",
       "         6.14929238e-01, 6.41888408e-01, 6.17744192e-01, 6.06334819e-01,\n",
       "         4.02947192e-01, 8.12934777e-01, 3.45871471e-01, 1.78108409e-01,\n",
       "         1.81707095e-02, 1.04707446e-01, 4.02763001e-01, 2.37303712e-01,\n",
       "         9.08654864e-01, 4.34059081e-01, 5.26259065e-01, 4.38897346e-01,\n",
       "         8.96435546e-01, 5.88583409e-03, 9.94026462e-01, 8.66172082e-01,\n",
       "         7.83713197e-02, 2.43989766e-01, 7.82039816e-01, 1.90212637e-01,\n",
       "         1.93075599e-01, 9.52929265e-01, 7.29238060e-01, 9.85328791e-01,\n",
       "         6.20809814e-01, 6.78258618e-01, 9.00794414e-02, 4.58598956e-03,\n",
       "         2.31941463e-01, 3.53028866e-01, 5.03085211e-01, 8.50298855e-01,\n",
       "         3.91477997e-01, 7.95765923e-01, 8.36244323e-01, 5.54537797e-01,\n",
       "         3.95324988e-01, 5.29068728e-03, 3.01150757e-01, 9.73212643e-02,\n",
       "         2.38564423e-01, 6.26380662e-01, 1.69892786e-01, 5.78649799e-01,\n",
       "         5.67306479e-01, 8.55126058e-01, 3.14839561e-01, 6.10088520e-01,\n",
       "         4.86536555e-01, 5.81456800e-01, 1.58208319e-02, 5.84562241e-01,\n",
       "         4.93058417e-01, 4.89237838e-01, 7.14955545e-01, 3.98608482e-01,\n",
       "         7.35732406e-01, 6.91194610e-01, 6.02448061e-01, 9.09559464e-01,\n",
       "         4.10113746e-01, 2.26811485e-01, 9.15333114e-01, 2.64425954e-01,\n",
       "         2.23806686e-01, 5.11353426e-01, 4.00852341e-01, 4.15133328e-01,\n",
       "         6.21592901e-01, 7.91303983e-01, 4.93103369e-01, 7.41534229e-01,\n",
       "         2.65106533e-01, 1.10714236e-01, 5.23189553e-01, 5.94992684e-02,\n",
       "         4.57962920e-01, 2.16536655e-01, 6.61083799e-01, 8.94154169e-01,\n",
       "         7.57330320e-02, 5.99385024e-01, 9.08273008e-01, 7.55730230e-01,\n",
       "         2.44680649e-01, 3.02428004e-01, 2.73049732e-01, 7.01922571e-01,\n",
       "         6.41547792e-01, 8.35206536e-01, 4.59337375e-02, 5.29612494e-01,\n",
       "         8.41670509e-01, 2.26075972e-01, 3.13781855e-01, 1.76338492e-01,\n",
       "         5.16511597e-01, 5.32780995e-01, 2.36262209e-01, 1.58016566e-01,\n",
       "         4.12222805e-01, 5.30681655e-01, 4.28679059e-01, 8.96284799e-01,\n",
       "         1.99786860e-01, 7.88238634e-01, 7.58768531e-01, 5.13602897e-01,\n",
       "         8.03260450e-01, 2.40603969e-02, 1.63105665e-02, 3.32509314e-01,\n",
       "         6.08231393e-01, 9.12416293e-01, 5.91415050e-01, 9.22351917e-02,\n",
       "         5.18858421e-01, 7.11200985e-01, 2.25524972e-01, 5.06104688e-01,\n",
       "         9.10432854e-01, 1.71580580e-01, 2.56400412e-02, 2.20720950e-01,\n",
       "         9.39045878e-01, 5.36755906e-02, 3.17393239e-01, 3.96554621e-01,\n",
       "         4.50954962e-01, 2.48456771e-01, 5.29116386e-01, 5.12631539e-01,\n",
       "         5.64041420e-01, 3.76923080e-01, 3.13610693e-01, 9.96983678e-01,\n",
       "         9.60758214e-01, 6.74738586e-02, 6.47968044e-04, 9.85837655e-01,\n",
       "         6.13013853e-01, 8.60778563e-02, 9.99237322e-01, 1.56080456e-01,\n",
       "         5.78987236e-01, 4.71253182e-01, 6.47777218e-01, 3.84863346e-02,\n",
       "         4.75398796e-01, 2.86347317e-01, 1.29054861e-01, 6.12553542e-01,\n",
       "         8.86598281e-01, 8.06999460e-01, 8.07962681e-01, 5.82133044e-01,\n",
       "         5.09399061e-01, 7.27357310e-01, 2.47612259e-01, 3.97641350e-01,\n",
       "         5.03006143e-01, 9.60887089e-01, 6.74993417e-01, 6.56726412e-01,\n",
       "         7.73296842e-01, 2.17717777e-02, 5.58059687e-01, 3.85505337e-01,\n",
       "         6.32820045e-01, 6.73538339e-01, 8.29861217e-02, 7.17819265e-01,\n",
       "         7.38397479e-01, 9.89475022e-01, 7.33998147e-01, 9.83234767e-01,\n",
       "         2.09486684e-01, 6.99607419e-01, 9.87169101e-01, 1.94863266e-01,\n",
       "         6.88367627e-01, 8.48783551e-01, 9.08602020e-01, 8.41495218e-01,\n",
       "         1.25659391e-02, 8.76302592e-01, 3.32819233e-01, 8.98988054e-01,\n",
       "         4.80978068e-01, 7.72172360e-01, 3.07070029e-01, 3.91286321e-01,\n",
       "         4.98107387e-02, 3.39564670e-01, 2.23226633e-01, 8.12376318e-02,\n",
       "         2.86388453e-02, 3.64318038e-01, 8.48868252e-01, 2.37423109e-01,\n",
       "         4.12191658e-01, 2.27209507e-01, 7.30833362e-01, 9.10040448e-01,\n",
       "         3.38284820e-01, 4.52773270e-01, 1.32911561e-01, 4.96565120e-01,\n",
       "         1.96016794e-01, 2.62194159e-01, 7.88813113e-01, 8.47495466e-01,\n",
       "         4.84985715e-02, 1.20728847e-01, 4.27870050e-02, 4.25700891e-01,\n",
       "         2.82355221e-01, 6.23924741e-01, 7.51554729e-01, 2.84681941e-01,\n",
       "         9.12450405e-01, 9.73688784e-01, 1.41704648e-01, 4.52979074e-01,\n",
       "         4.24757224e-01, 8.88974358e-01, 4.55624253e-01, 7.71311055e-01,\n",
       "         5.92417312e-01, 1.00636118e-01, 9.63421493e-01, 6.91442866e-01,\n",
       "         6.18624954e-01, 5.26656286e-03, 2.88750988e-01, 6.49033639e-01,\n",
       "         4.31469437e-01, 3.22024968e-01, 5.04609329e-01, 6.50931458e-02,\n",
       "         3.62959438e-01, 1.21993127e-01, 3.98424033e-02, 3.01257035e-01,\n",
       "         7.25431043e-01, 5.62334563e-02, 8.16073207e-02, 8.21576541e-01,\n",
       "         7.70008997e-02, 8.96387794e-01, 1.51598417e-01, 2.66653113e-01,\n",
       "         9.84354650e-01, 8.10298876e-02, 1.99612755e-02, 9.18526621e-01,\n",
       "         1.01146485e-01, 2.96972537e-01, 8.99153350e-01, 3.83385295e-01,\n",
       "         5.85222840e-01, 4.61132656e-01, 1.38909138e-01, 8.01101670e-01,\n",
       "         6.50379037e-02, 9.85681389e-01, 8.65376293e-01, 4.78061630e-01,\n",
       "         9.36108154e-01, 8.14153566e-01, 9.45173490e-01, 7.98574210e-01,\n",
       "         9.63531500e-01, 4.39199325e-01, 6.70423839e-01, 9.61415945e-01,\n",
       "         3.84967717e-01, 7.90554237e-01, 1.11245604e-01, 3.70161030e-01,\n",
       "         8.58719856e-01, 8.10248137e-01, 6.05188113e-01, 2.71923857e-01,\n",
       "         5.45973359e-01, 5.26006867e-01, 1.09912603e-01, 7.87804998e-01,\n",
       "         6.93222819e-01, 3.81276382e-01, 8.64900960e-01, 2.67986118e-01,\n",
       "         2.35527147e-01, 2.20527655e-01, 4.74554698e-01, 8.23997905e-01,\n",
       "         4.40086314e-01, 7.79959152e-01, 3.48579997e-01, 1.87906492e-01,\n",
       "         1.66015525e-01, 1.64238677e-01, 6.19916413e-02, 8.93244755e-01,\n",
       "         6.11591055e-01, 4.78614582e-01, 3.24207799e-01, 6.22873416e-01,\n",
       "         7.73520025e-01, 2.97836240e-01, 3.15607560e-01, 6.34826172e-01,\n",
       "         6.08342904e-01, 8.65248067e-02, 1.85783426e-02, 6.14307178e-01,\n",
       "         8.27599099e-01, 4.78937287e-01, 8.01946492e-01, 1.70804709e-01,\n",
       "         8.49803721e-01, 5.55889261e-01, 6.80818658e-01, 7.35506270e-01,\n",
       "         8.49751725e-01, 2.74845060e-01, 6.07652586e-01, 3.74234455e-01,\n",
       "         9.86531733e-01, 6.26633792e-01, 3.76886508e-01, 3.30758350e-01,\n",
       "         2.02144828e-01, 4.07148536e-01, 9.93970908e-01, 9.87648313e-01,\n",
       "         2.20060741e-02, 8.98498181e-01, 8.86001791e-01, 3.59769622e-02,\n",
       "         2.66022264e-02, 4.99996232e-01, 1.14422321e-01, 1.69813561e-01,\n",
       "         2.54234891e-01, 4.62023234e-01, 5.18777294e-01, 6.98277898e-01,\n",
       "         9.41998216e-01, 8.58579148e-01, 9.87505348e-01, 3.45594280e-01,\n",
       "         7.81488450e-01, 7.28171045e-01, 6.68952249e-01, 8.86740774e-02,\n",
       "         2.71138396e-01, 8.24364030e-01, 2.73288672e-01, 4.23997727e-01,\n",
       "         6.57044707e-01, 1.86530912e-01, 9.01683535e-01, 6.59838242e-01,\n",
       "         7.87001682e-02, 4.87715012e-01, 7.95400301e-01, 8.55784859e-01,\n",
       "         9.61385481e-01, 2.77876681e-01, 5.45428265e-01, 1.67811896e-01,\n",
       "         4.27474179e-01, 2.71836302e-01, 7.33303683e-01, 1.20644025e-01,\n",
       "         7.62762453e-01, 2.75310571e-01, 1.93243020e-01, 1.66731727e-01,\n",
       "         4.71371201e-01, 4.23022079e-01, 8.86951324e-01, 2.83839766e-01,\n",
       "         4.12796169e-01, 5.30093542e-02, 6.01199173e-01, 1.62675568e-01,\n",
       "         5.35656281e-02, 2.65279508e-01, 7.31302315e-01, 7.43788666e-02,\n",
       "         6.81547374e-01, 7.49596400e-02, 9.58490520e-01, 1.53398754e-01,\n",
       "         6.61411874e-01, 8.40079031e-01, 3.95482171e-01, 1.25348753e-01,\n",
       "         7.25841439e-01, 5.01896151e-01, 1.21371120e-01, 3.91063034e-01,\n",
       "         7.12088367e-01, 4.53474229e-01, 5.78092952e-01, 4.16811447e-01,\n",
       "         2.22524309e-01, 8.85760406e-02, 3.40482221e-01, 4.89103964e-01,\n",
       "         8.74250648e-02, 2.43784340e-01, 3.74216471e-01, 5.89321633e-01,\n",
       "         8.07921937e-02, 5.64678864e-01, 7.78759351e-01, 2.36201438e-01,\n",
       "         4.95470933e-01, 4.14464977e-01, 2.52244736e-02, 9.20677510e-01,\n",
       "         3.88252537e-01, 3.22262105e-01, 4.28092780e-01, 1.62189099e-01,\n",
       "         9.92283339e-01, 2.17682323e-01, 6.46619569e-01, 5.94689249e-01,\n",
       "         9.24573953e-01, 6.70812483e-01, 4.88652418e-01, 8.23479475e-01,\n",
       "         4.73412259e-02, 4.76298509e-01, 3.94909316e-01, 9.26318198e-01,\n",
       "         6.46495402e-01, 1.08571025e-01, 5.49924712e-01, 6.06574633e-01,\n",
       "         9.01956452e-01]))]"
      ]
     },
     "execution_count": 1,
     "metadata": {},
     "output_type": "execute_result"
    }
   ],
   "source": [
    "expand_setpoints_helper(a.spectrum)"
   ]
  },
  {
   "cell_type": "code",
   "execution_count": 21,
   "metadata": {
    "execution": {
     "iopub.execute_input": "2020-09-14T08:12:44.164855Z",
     "iopub.status.busy": "2020-09-14T08:12:44.164409Z",
     "iopub.status.idle": "2020-09-14T08:12:44.176818Z",
     "shell.execute_reply": "2020-09-14T08:12:44.176345Z"
    }
   },
   "outputs": [
    {
     "name": "stdout",
     "output_type": "stream",
     "text": [
      "Starting experimental run with id: 2. \n"
     ]
    }
   ],
   "source": [
    "meas = Measurement()\n",
    "meas.register_parameter(a.spectrum)\n",
    "\n",
    "with meas.run() as datasaver:\n",
    "    datasaver.add_result(*expand_setpoints_helper(a.spectrum))\n",
    "    \n",
    "    dataid = datasaver.run_id"
   ]
  },
  {
   "cell_type": "code",
   "execution_count": 22,
   "metadata": {},
   "outputs": [],
   "source": []
  }
 ],
 "metadata": {
  "kernelspec": {
   "display_name": "Python 3",
   "language": "python",
   "name": "python3"
  },
  "language_info": {
   "codemirror_mode": {
    "name": "ipython",
    "version": 3
   },
   "file_extension": ".py",
   "mimetype": "text/x-python",
   "name": "python",
   "nbconvert_exporter": "python",
   "pygments_lexer": "ipython3",
   "version": "3.7.7"
  },
  "toc": {
   "base_numbering": 1,
   "nav_menu": {},
   "number_sections": true,
   "sideBar": true,
   "skip_h1_title": false,
   "title_cell": "Table of Contents",
   "title_sidebar": "Contents",
   "toc_cell": false,
   "toc_position": {},
   "toc_section_display": true,
   "toc_window_display": false
  },
  "varInspector": {
   "cols": {
    "lenName": 16,
    "lenType": 16,
    "lenVar": 40
   },
   "kernels_config": {
    "python": {
     "delete_cmd_postfix": "",
     "delete_cmd_prefix": "del ",
     "library": "var_list.py",
     "varRefreshCmd": "print(var_dic_list())"
    },
    "r": {
     "delete_cmd_postfix": ") ",
     "delete_cmd_prefix": "rm(",
     "library": "var_list.r",
     "varRefreshCmd": "cat(var_dic_list()) "
    }
   },
   "types_to_exclude": [
    "module",
    "function",
    "builtin_function_or_method",
    "instance",
    "_Feature"
   ],
   "window_display": false
  }
 },
 "nbformat": 4,
 "nbformat_minor": 2
}
