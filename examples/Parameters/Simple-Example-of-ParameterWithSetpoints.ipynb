{
 "cells": [
  {
   "cell_type": "markdown",
   "metadata": {},
   "source": [
    "# Simple Example of ParameterWithSetpoints\n",
    "This notebook provides an example for writing a simple driver with a parameter that has setpoints. Let's name this parameter that has setpoints as \"y\". Then, the setpoints, say \"x1, x2, x3 ..\", are the parameters on which the parameter \n",
    "\"y\" depends upon. Meaning \"y\" is a function of \"x1, x2, x3 ...\" where \"x1, x2, x3 ...\" are known as the setpoints of parameter \"y\".\n",
    "\n",
    "This is most likely to be useful for instruments that return arrays of results. In this notebook, we will show an example of this."
   ]
  },
  {
   "cell_type": "code",
   "execution_count": 1,
   "metadata": {},
   "outputs": [],
   "source": [
    "import numpy as np\n",
    "import os"
   ]
  },
  {
   "cell_type": "code",
   "execution_count": 2,
   "metadata": {},
   "outputs": [
    {
     "name": "stdout",
     "output_type": "stream",
     "text": [
      "Logging hadn't been started.\n",
      "Activating auto-logging. Current session state plus future input saved.\n",
      "Filename       : /home/vsts/.qcodes/logs/command_history.log\n",
      "Mode           : append\n",
      "Output logging : True\n",
      "Raw input log  : False\n",
      "Timestamping   : True\n",
      "State          : active\n"
     ]
    },
    {
     "name": "stdout",
     "output_type": "stream",
     "text": [
      "Qcodes Logfile : /home/vsts/.qcodes/logs/200706-22458-qcodes.log\n"
     ]
    }
   ],
   "source": [
    "from qcodes.dataset.plotting import plot_dataset\n",
    "from qcodes.utils.validators import Numbers, Arrays\n",
    "from qcodes.instrument.base import Instrument\n",
    "from qcodes.dataset.measurements import Measurement"
   ]
  },
  {
   "cell_type": "code",
   "execution_count": 3,
   "metadata": {},
   "outputs": [],
   "source": [
    "from qcodes.dataset.sqlite.database import initialise_or_create_database_at\n",
    "from qcodes.dataset.experiment_container import load_or_create_experiment"
   ]
  },
  {
   "cell_type": "code",
   "execution_count": 4,
   "metadata": {},
   "outputs": [],
   "source": [
    "from qcodes.instrument.parameter import ParameterWithSetpoints, Parameter\n",
    "from qcodes.instrument.parameter import expand_setpoints_helper"
   ]
  },
  {
   "cell_type": "markdown",
   "metadata": {},
   "source": [
    "First, we define a dummy instrument that returns something like a frequency spectrum starting from a frequency given by `f_start` to a frequency given by `f_stop` in `n_points` steps. \n",
    "\n",
    "The extra functionality of the `ParameterWithSetpoints` is implemented by giving it a reference to one or more parameters that acts like its setpoints. \n",
    "\n",
    "To setup a `ParameterWithSetpoints` we have to do two things in addition to what we do for a normal parameter.\n",
    "\n",
    "* Define one or more parameter for the setpoints (one for each dimension of the array and let the `ParameterWithSetpoints` know that these are the setpoints.\n",
    "* Give both the setpoints parameter(s) and the `ParameterWithSetpoints` a `validator` of type `Arrays` with a shape. The shapes should be such that the combined shape of the setpoints matches the shape of the `ParameterWithSetpoints`. Note that if the shape changes with the setting of the instrument, it can be defined by another parameter as shown below. "
   ]
  },
  {
   "cell_type": "code",
   "execution_count": 5,
   "metadata": {},
   "outputs": [],
   "source": [
    "class GeneratedSetPoints(Parameter):\n",
    "    \"\"\"\n",
    "    A parameter that generates a setpoint array from start, stop and num points\n",
    "    parameters.\n",
    "    \"\"\"\n",
    "    def __init__(self, startparam, stopparam, numpointsparam, *args, **kwargs):\n",
    "        super().__init__(*args, **kwargs)\n",
    "        self._startparam = startparam\n",
    "        self._stopparam = stopparam\n",
    "        self._numpointsparam = numpointsparam\n",
    "\n",
    "    def get_raw(self):\n",
    "        return np.linspace(self._startparam(), self._stopparam(),\n",
    "                              self._numpointsparam())\n",
    "\n",
    "class DummyArray(ParameterWithSetpoints):\n",
    "    \n",
    "    def get_raw(self):\n",
    "        npoints = self.root_instrument.n_points.get_latest()\n",
    "        return np.random.rand(npoints)\n",
    "    \n",
    "\n",
    "class DummySpectrumAnalyzer(Instrument):\n",
    "    \n",
    "    def __init__(self, name, **kwargs):\n",
    "        \n",
    "        super().__init__(name, **kwargs)\n",
    "            \n",
    "\n",
    "        self.add_parameter('f_start',\n",
    "                           initial_value=0,\n",
    "                           unit='Hz',\n",
    "                           label='f start',\n",
    "                           vals=Numbers(0,1e3),\n",
    "                           get_cmd=None,\n",
    "                           set_cmd=None)\n",
    "\n",
    "        self.add_parameter('f_stop',\n",
    "                           unit='Hz',\n",
    "                           label='f stop',\n",
    "                           vals=Numbers(1,1e3),\n",
    "                           get_cmd=None,\n",
    "                           set_cmd=None)\n",
    "\n",
    "        self.add_parameter('n_points',\n",
    "                           unit='',\n",
    "                           initial_value=10,\n",
    "                           vals=Numbers(1,1e3),\n",
    "                           get_cmd=None,\n",
    "                           set_cmd=None)\n",
    "        \n",
    "        self.add_parameter('freq_axis',\n",
    "                           unit='Hz',\n",
    "                           label='Freq Axis',\n",
    "                           parameter_class=GeneratedSetPoints,\n",
    "                           startparam=self.f_start,\n",
    "                           stopparam=self.f_stop,\n",
    "                           numpointsparam=self.n_points,\n",
    "                           vals=Arrays(shape=(self.n_points.get_latest,)))\n",
    "                           \n",
    "        self.add_parameter('spectrum',\n",
    "                   unit='dBm',\n",
    "                   setpoints=(self.freq_axis,),\n",
    "                   label='Spectrum',\n",
    "                   parameter_class=DummyArray,\n",
    "                   vals=Arrays(shape=(self.n_points.get_latest,)))\n",
    "                "
   ]
  },
  {
   "cell_type": "markdown",
   "metadata": {},
   "source": [
    "In the above example, the shape is defined by the parameter `n_points` that defines how many samples our `DummySpectrumAnalyzer` returns.\n",
    "\n",
    "This means that the validation will call the function to get `n_points` twice for each `get` of the parameter. This may be too slow, however, if you (as the driver-writer) can guarantee that the cached value for `n_points` will never be out of sync with the value stored in the instrument, `n_points` may be replaced by it's latest known value such that the `validator` reads:\n",
    "```python\n",
    "vals=Arrays(shape=(self.n_points.get_latest))\n",
    "```\n",
    "\n",
    "This avoids any additional call to the instrument. In the same way, the arguments to the `freq_axis` parameter that defines the start, stop and number of points can be replaced by their latest value if the instrument allows it.\n",
    "\n"
   ]
  },
  {
   "cell_type": "code",
   "execution_count": 6,
   "metadata": {},
   "outputs": [
    {
     "name": "stdout",
     "output_type": "stream",
     "text": [
      "\r",
      "0it [00:00, ?it/s]"
     ]
    },
    {
     "name": "stdout",
     "output_type": "stream",
     "text": [
      "\r",
      "Upgrading database; v0 -> v1: : 0it [00:00, ?it/s]"
     ]
    },
    {
     "name": "stdout",
     "output_type": "stream",
     "text": [
      "\r",
      "Upgrading database; v0 -> v1: : 0it [00:00, ?it/s]"
     ]
    },
    {
     "name": "stdout",
     "output_type": "stream",
     "text": [
      "\n",
      "\r",
      "  0%|          | 0/1 [00:00<?, ?it/s]"
     ]
    },
    {
     "name": "stdout",
     "output_type": "stream",
     "text": [
      "\r",
      "Upgrading database; v1 -> v2:   0%|          | 0/1 [00:00<?, ?it/s]"
     ]
    },
    {
     "name": "stdout",
     "output_type": "stream",
     "text": [
      "\r",
      "Upgrading database; v1 -> v2: 100%|██████████| 1/1 [00:00<00:00, 753.15it/s]"
     ]
    },
    {
     "name": "stdout",
     "output_type": "stream",
     "text": [
      "\n",
      "\r",
      "0it [00:00, ?it/s]"
     ]
    },
    {
     "name": "stdout",
     "output_type": "stream",
     "text": [
      "\r",
      "Upgrading database; v2 -> v3: : 0it [00:00, ?it/s]"
     ]
    },
    {
     "name": "stdout",
     "output_type": "stream",
     "text": [
      "\r",
      "Upgrading database; v2 -> v3: : 0it [00:00, ?it/s]"
     ]
    },
    {
     "name": "stdout",
     "output_type": "stream",
     "text": [
      "\n",
      "\r",
      "0it [00:00, ?it/s]"
     ]
    },
    {
     "name": "stdout",
     "output_type": "stream",
     "text": [
      "\r",
      "Upgrading database; v3 -> v4: : 0it [00:00, ?it/s]"
     ]
    },
    {
     "name": "stdout",
     "output_type": "stream",
     "text": [
      "\r",
      "Upgrading database; v3 -> v4: : 0it [00:00, ?it/s]"
     ]
    },
    {
     "name": "stdout",
     "output_type": "stream",
     "text": [
      "\n",
      "\r",
      "  0%|          | 0/1 [00:00<?, ?it/s]"
     ]
    },
    {
     "name": "stdout",
     "output_type": "stream",
     "text": [
      "\r",
      "Upgrading database; v4 -> v5:   0%|          | 0/1 [00:00<?, ?it/s]"
     ]
    },
    {
     "name": "stdout",
     "output_type": "stream",
     "text": [
      "\r",
      "Upgrading database; v4 -> v5: 100%|██████████| 1/1 [00:00<00:00, 674.00it/s]"
     ]
    },
    {
     "name": "stdout",
     "output_type": "stream",
     "text": [
      "\n",
      "\r",
      "0it [00:00, ?it/s]"
     ]
    },
    {
     "name": "stdout",
     "output_type": "stream",
     "text": [
      "\r",
      "Upgrading database; v5 -> v6: : 0it [00:00, ?it/s]"
     ]
    },
    {
     "name": "stdout",
     "output_type": "stream",
     "text": [
      "\r",
      "Upgrading database; v5 -> v6: : 0it [00:00, ?it/s]"
     ]
    },
    {
     "name": "stdout",
     "output_type": "stream",
     "text": [
      "\n",
      "\r",
      "  0%|          | 0/1 [00:00<?, ?it/s]"
     ]
    },
    {
     "name": "stdout",
     "output_type": "stream",
     "text": [
      "\r",
      "Upgrading database; v6 -> v7:   0%|          | 0/1 [00:00<?, ?it/s]"
     ]
    },
    {
     "name": "stdout",
     "output_type": "stream",
     "text": [
      "\r",
      "Upgrading database; v6 -> v7: 100%|██████████| 1/1 [00:00<00:00, 345.78it/s]"
     ]
    },
    {
     "name": "stdout",
     "output_type": "stream",
     "text": [
      "\n",
      "\r",
      "  0%|          | 0/1 [00:00<?, ?it/s]"
     ]
    },
    {
     "name": "stdout",
     "output_type": "stream",
     "text": [
      "\r",
      "Upgrading database; v7 -> v8:   0%|          | 0/1 [00:00<?, ?it/s]"
     ]
    },
    {
     "name": "stdout",
     "output_type": "stream",
     "text": [
      "\r",
      "Upgrading database; v7 -> v8: 100%|██████████| 1/1 [00:00<00:00, 667.67it/s]"
     ]
    },
    {
     "name": "stdout",
     "output_type": "stream",
     "text": [
      "\n",
      "\r",
      "  0%|          | 0/1 [00:00<?, ?it/s]"
     ]
    },
    {
     "name": "stdout",
     "output_type": "stream",
     "text": [
      "\r",
      "Upgrading database; v8 -> v9:   0%|          | 0/1 [00:00<?, ?it/s]"
     ]
    },
    {
     "name": "stdout",
     "output_type": "stream",
     "text": [
      "\r",
      "Upgrading database; v8 -> v9: 100%|██████████| 1/1 [00:00<00:00, 717.71it/s]"
     ]
    },
    {
     "name": "stdout",
     "output_type": "stream",
     "text": [
      "\n"
     ]
    },
    {
     "data": {
      "text/plain": [
       "tutorial_ParameterWithSetpoints#no sample#1@/home/vsts/work/1/s/docs/examples/Parameters/tutorial_paramter_with_setpoints.db\n",
       "----------------------------------------------------------------------------------------------------------------------------"
      ]
     },
     "execution_count": 6,
     "metadata": {},
     "output_type": "execute_result"
    }
   ],
   "source": [
    "tutorial_db_path = os.path.join(os.getcwd(), 'tutorial_paramter_with_setpoints.db')\n",
    "initialise_or_create_database_at(tutorial_db_path)\n",
    "load_or_create_experiment(experiment_name='tutorial_ParameterWithSetpoints', sample_name=\"no sample\")"
   ]
  },
  {
   "cell_type": "code",
   "execution_count": 7,
   "metadata": {},
   "outputs": [],
   "source": [
    "a = DummySpectrumAnalyzer('foobar')"
   ]
  },
  {
   "cell_type": "markdown",
   "metadata": {},
   "source": [
    "First we setup the limits of the spectrum"
   ]
  },
  {
   "cell_type": "code",
   "execution_count": 8,
   "metadata": {},
   "outputs": [],
   "source": [
    "a.f_start(0)\n",
    "a.f_stop(500)\n",
    "a.n_points(501)"
   ]
  },
  {
   "cell_type": "markdown",
   "metadata": {},
   "source": [
    "And we can grab the frequency axis"
   ]
  },
  {
   "cell_type": "code",
   "execution_count": 9,
   "metadata": {},
   "outputs": [
    {
     "data": {
      "text/plain": [
       "501"
      ]
     },
     "execution_count": 9,
     "metadata": {},
     "output_type": "execute_result"
    }
   ],
   "source": [
    "a.n_points()"
   ]
  },
  {
   "cell_type": "code",
   "execution_count": 10,
   "metadata": {
    "scrolled": false
   },
   "outputs": [
    {
     "data": {
      "text/plain": [
       "501"
      ]
     },
     "execution_count": 10,
     "metadata": {},
     "output_type": "execute_result"
    }
   ],
   "source": [
    "freq_axis = a.freq_axis()\n",
    "len(freq_axis)"
   ]
  },
  {
   "cell_type": "code",
   "execution_count": 11,
   "metadata": {},
   "outputs": [
    {
     "data": {
      "text/plain": [
       "array([0., 1., 2., 3., 4., 5., 6., 7., 8., 9.])"
      ]
     },
     "execution_count": 11,
     "metadata": {},
     "output_type": "execute_result"
    }
   ],
   "source": [
    "freq_axis[:10]"
   ]
  },
  {
   "cell_type": "markdown",
   "metadata": {},
   "source": [
    "As expected we get a result wit 501 points as we asked for an axis with 501 points. "
   ]
  },
  {
   "cell_type": "markdown",
   "metadata": {},
   "source": [
    "Above we have added a validator to the `freq_axis` parameter encoding the fact that this is an Array with `n_points`. Note that we do not have to supply the number of points as an integer but can supply a function that returns the valid number of points. This would normally be a QCoDeS parameter.\n",
    "\n",
    "This will be checked if we validate the output."
   ]
  },
  {
   "cell_type": "code",
   "execution_count": 12,
   "metadata": {},
   "outputs": [],
   "source": [
    "a.freq_axis.validate(a.freq_axis.get())"
   ]
  },
  {
   "cell_type": "markdown",
   "metadata": {},
   "source": [
    "Naturally, we can also get the spectrum. Getting the spectrum will automatically perform validation both for the shape of the parameter itself and the relation to the setpoint parameter(s)"
   ]
  },
  {
   "cell_type": "code",
   "execution_count": 13,
   "metadata": {
    "scrolled": true
   },
   "outputs": [
    {
     "data": {
      "text/plain": [
       "501"
      ]
     },
     "execution_count": 13,
     "metadata": {},
     "output_type": "execute_result"
    }
   ],
   "source": [
    "spectrum = a.spectrum.get()\n",
    "len(spectrum)"
   ]
  },
  {
   "cell_type": "markdown",
   "metadata": {},
   "source": [
    "When we validate a `ParameterWithSetpoints`, we automatically validate that the shape is consistent between the parameters and its setpoints. As well as validating the shape as above."
   ]
  },
  {
   "cell_type": "code",
   "execution_count": 14,
   "metadata": {},
   "outputs": [],
   "source": [
    "a.spectrum.validate(a.spectrum.get())"
   ]
  },
  {
   "cell_type": "markdown",
   "metadata": {},
   "source": [
    "The consistent shapes can be validated explicitly."
   ]
  },
  {
   "cell_type": "code",
   "execution_count": 15,
   "metadata": {},
   "outputs": [],
   "source": [
    "a.spectrum.validate_consistent_shape()"
   ]
  },
  {
   "cell_type": "markdown",
   "metadata": {},
   "source": [
    "We can inspect the setpoints of the spectrum."
   ]
  },
  {
   "cell_type": "code",
   "execution_count": 16,
   "metadata": {},
   "outputs": [
    {
     "data": {
      "text/plain": [
       "(<__main__.GeneratedSetPoints: freq_axis at 139899296550160>,)"
      ]
     },
     "execution_count": 16,
     "metadata": {},
     "output_type": "execute_result"
    }
   ],
   "source": [
    "a.spectrum.setpoints"
   ]
  },
  {
   "cell_type": "markdown",
   "metadata": {},
   "source": [
    "Or even change them."
   ]
  },
  {
   "cell_type": "code",
   "execution_count": 17,
   "metadata": {},
   "outputs": [],
   "source": [
    "a.spectrum.setpoints = (a.freq_axis,)"
   ]
  },
  {
   "cell_type": "markdown",
   "metadata": {},
   "source": [
    "## Measurement"
   ]
  },
  {
   "cell_type": "markdown",
   "metadata": {},
   "source": [
    "We can also directly consume the parameter in a measurement without defining the setpoints of the parameter again. The setpoints are automatically obtained from the definition of the `ParameterWithSetpoint` instance. "
   ]
  },
  {
   "cell_type": "code",
   "execution_count": 18,
   "metadata": {},
   "outputs": [
    {
     "name": "stdout",
     "output_type": "stream",
     "text": [
      "Starting experimental run with id: 1. \n"
     ]
    }
   ],
   "source": [
    "meas = Measurement()\n",
    "meas.register_parameter(a.spectrum)\n",
    "\n",
    "with meas.run() as datasaver:\n",
    "    datasaver.add_result((a.freq_axis, a.freq_axis()),\n",
    "                         (a.spectrum, a.spectrum()))\n",
    "    dataset = datasaver.dataset"
   ]
  },
  {
   "cell_type": "markdown",
   "metadata": {},
   "source": [
    "And plot it"
   ]
  },
  {
   "cell_type": "code",
   "execution_count": 19,
   "metadata": {},
   "outputs": [
    {
     "data": {
      "text/plain": [
       "([<matplotlib.axes._subplots.AxesSubplot at 0x7f3d00dbe190>], [None])"
      ]
     },
     "execution_count": 19,
     "metadata": {},
     "output_type": "execute_result"
    },
    {
     "data": {
      "image/png": "[encoded data removed]",
      "text/plain": [
       "<Figure size 432x288 with 1 Axes>"
      ]
     },
     "metadata": {
      "needs_background": "light"
     },
     "output_type": "display_data"
    }
   ],
   "source": [
    "plot_dataset(dataset)"
   ]
  },
  {
   "cell_type": "markdown",
   "metadata": {},
   "source": [
    "To reduce the amount of typing a simple convenience function is provided that will take a `ParameterWithSetpoints` and get both its values and the setpoints values and return them as tuples for direct insertion into the Dataset."
   ]
  },
  {
   "cell_type": "code",
   "execution_count": 20,
   "metadata": {
    "scrolled": true
   },
   "outputs": [
    {
     "data": {
      "text/plain": [
       "[(<__main__.GeneratedSetPoints: freq_axis at 139899296550160>,\n",
       "  array([  0.,   1.,   2.,   3.,   4.,   5.,   6.,   7.,   8.,   9.,  10.,\n",
       "          11.,  12.,  13.,  14.,  15.,  16.,  17.,  18.,  19.,  20.,  21.,\n",
       "          22.,  23.,  24.,  25.,  26.,  27.,  28.,  29.,  30.,  31.,  32.,\n",
       "          33.,  34.,  35.,  36.,  37.,  38.,  39.,  40.,  41.,  42.,  43.,\n",
       "          44.,  45.,  46.,  47.,  48.,  49.,  50.,  51.,  52.,  53.,  54.,\n",
       "          55.,  56.,  57.,  58.,  59.,  60.,  61.,  62.,  63.,  64.,  65.,\n",
       "          66.,  67.,  68.,  69.,  70.,  71.,  72.,  73.,  74.,  75.,  76.,\n",
       "          77.,  78.,  79.,  80.,  81.,  82.,  83.,  84.,  85.,  86.,  87.,\n",
       "          88.,  89.,  90.,  91.,  92.,  93.,  94.,  95.,  96.,  97.,  98.,\n",
       "          99., 100., 101., 102., 103., 104., 105., 106., 107., 108., 109.,\n",
       "         110., 111., 112., 113., 114., 115., 116., 117., 118., 119., 120.,\n",
       "         121., 122., 123., 124., 125., 126., 127., 128., 129., 130., 131.,\n",
       "         132., 133., 134., 135., 136., 137., 138., 139., 140., 141., 142.,\n",
       "         143., 144., 145., 146., 147., 148., 149., 150., 151., 152., 153.,\n",
       "         154., 155., 156., 157., 158., 159., 160., 161., 162., 163., 164.,\n",
       "         165., 166., 167., 168., 169., 170., 171., 172., 173., 174., 175.,\n",
       "         176., 177., 178., 179., 180., 181., 182., 183., 184., 185., 186.,\n",
       "         187., 188., 189., 190., 191., 192., 193., 194., 195., 196., 197.,\n",
       "         198., 199., 200., 201., 202., 203., 204., 205., 206., 207., 208.,\n",
       "         209., 210., 211., 212., 213., 214., 215., 216., 217., 218., 219.,\n",
       "         220., 221., 222., 223., 224., 225., 226., 227., 228., 229., 230.,\n",
       "         231., 232., 233., 234., 235., 236., 237., 238., 239., 240., 241.,\n",
       "         242., 243., 244., 245., 246., 247., 248., 249., 250., 251., 252.,\n",
       "         253., 254., 255., 256., 257., 258., 259., 260., 261., 262., 263.,\n",
       "         264., 265., 266., 267., 268., 269., 270., 271., 272., 273., 274.,\n",
       "         275., 276., 277., 278., 279., 280., 281., 282., 283., 284., 285.,\n",
       "         286., 287., 288., 289., 290., 291., 292., 293., 294., 295., 296.,\n",
       "         297., 298., 299., 300., 301., 302., 303., 304., 305., 306., 307.,\n",
       "         308., 309., 310., 311., 312., 313., 314., 315., 316., 317., 318.,\n",
       "         319., 320., 321., 322., 323., 324., 325., 326., 327., 328., 329.,\n",
       "         330., 331., 332., 333., 334., 335., 336., 337., 338., 339., 340.,\n",
       "         341., 342., 343., 344., 345., 346., 347., 348., 349., 350., 351.,\n",
       "         352., 353., 354., 355., 356., 357., 358., 359., 360., 361., 362.,\n",
       "         363., 364., 365., 366., 367., 368., 369., 370., 371., 372., 373.,\n",
       "         374., 375., 376., 377., 378., 379., 380., 381., 382., 383., 384.,\n",
       "         385., 386., 387., 388., 389., 390., 391., 392., 393., 394., 395.,\n",
       "         396., 397., 398., 399., 400., 401., 402., 403., 404., 405., 406.,\n",
       "         407., 408., 409., 410., 411., 412., 413., 414., 415., 416., 417.,\n",
       "         418., 419., 420., 421., 422., 423., 424., 425., 426., 427., 428.,\n",
       "         429., 430., 431., 432., 433., 434., 435., 436., 437., 438., 439.,\n",
       "         440., 441., 442., 443., 444., 445., 446., 447., 448., 449., 450.,\n",
       "         451., 452., 453., 454., 455., 456., 457., 458., 459., 460., 461.,\n",
       "         462., 463., 464., 465., 466., 467., 468., 469., 470., 471., 472.,\n",
       "         473., 474., 475., 476., 477., 478., 479., 480., 481., 482., 483.,\n",
       "         484., 485., 486., 487., 488., 489., 490., 491., 492., 493., 494.,\n",
       "         495., 496., 497., 498., 499., 500.])),\n",
       " (<__main__.DummyArray: spectrum at 139899311909264>,\n",
       "  array([4.97954210e-01, 1.72539771e-01, 6.62651795e-01, 1.13561862e-01,\n",
       "         1.98964820e-02, 7.56466893e-01, 2.62390389e-01, 5.22073574e-01,\n",
       "         3.06614923e-01, 7.43386117e-01, 6.85687349e-01, 3.99120229e-01,\n",
       "         7.67563324e-01, 9.48725805e-01, 5.73227514e-01, 7.59149159e-01,\n",
       "         1.25351809e-01, 3.63256847e-01, 1.75444153e-01, 1.12397609e-01,\n",
       "         6.03977562e-01, 9.86262858e-01, 2.69430831e-01, 2.65501562e-01,\n",
       "         1.75285420e-01, 6.71314871e-01, 3.16800154e-01, 9.12953496e-01,\n",
       "         4.16476712e-01, 4.51888679e-01, 6.10334354e-01, 3.97599697e-01,\n",
       "         5.98905676e-02, 3.82091396e-01, 9.31277095e-01, 9.86763096e-01,\n",
       "         5.16237428e-01, 8.31638634e-01, 2.39451835e-01, 1.43643486e-01,\n",
       "         5.22794058e-01, 2.93793788e-01, 1.33573118e-02, 8.92364128e-02,\n",
       "         3.26577071e-01, 9.75421697e-02, 8.43934334e-01, 2.36978172e-01,\n",
       "         6.26670749e-01, 7.03399955e-01, 4.20483416e-01, 2.87732903e-01,\n",
       "         2.92204898e-02, 9.22419862e-01, 7.85298841e-01, 5.58287332e-01,\n",
       "         9.91532152e-01, 3.95241545e-01, 7.32084699e-01, 5.31108961e-01,\n",
       "         2.26604055e-01, 9.09761663e-01, 7.08796047e-01, 2.80898988e-01,\n",
       "         2.73713576e-01, 9.17503661e-01, 6.37664684e-01, 6.58907216e-01,\n",
       "         1.43488603e-01, 2.90389949e-01, 2.78863181e-02, 4.26525070e-02,\n",
       "         4.71813252e-01, 1.28496201e-01, 8.04851623e-01, 8.88656900e-01,\n",
       "         6.31078932e-01, 5.39909656e-01, 5.70658369e-01, 6.73945911e-01,\n",
       "         7.81133364e-01, 3.68469658e-01, 7.11783703e-01, 1.07161324e-01,\n",
       "         1.43861839e-01, 2.21855319e-01, 3.39005627e-01, 4.73581223e-01,\n",
       "         2.43201461e-01, 1.11069141e-01, 2.72311490e-01, 5.34182070e-01,\n",
       "         3.37318658e-02, 8.86941369e-01, 1.32436061e-01, 3.83351448e-01,\n",
       "         1.67784790e-01, 5.79997866e-01, 4.34962391e-01, 2.54852210e-01,\n",
       "         3.24344191e-01, 6.84099376e-01, 7.27941198e-01, 9.10804047e-01,\n",
       "         8.30602775e-01, 3.13862412e-01, 9.80846449e-01, 4.80320125e-01,\n",
       "         3.33251542e-01, 3.44006669e-01, 2.38048516e-01, 3.00739361e-01,\n",
       "         8.04757051e-01, 3.84577664e-01, 7.85379166e-01, 5.93701756e-01,\n",
       "         3.41598188e-01, 1.30450836e-01, 8.63190207e-01, 7.73672092e-01,\n",
       "         1.86341446e-01, 8.62622994e-01, 4.57925878e-01, 2.46431352e-01,\n",
       "         5.17107210e-01, 7.64244213e-02, 6.68412231e-02, 4.36677048e-01,\n",
       "         3.30379840e-01, 4.34084293e-01, 9.31278230e-01, 6.94556219e-01,\n",
       "         3.06131000e-02, 3.90204745e-01, 1.79399222e-02, 3.01474439e-01,\n",
       "         2.06179025e-01, 5.30041603e-01, 3.66228172e-04, 7.56329218e-01,\n",
       "         2.85579868e-01, 6.18768598e-01, 8.34277176e-01, 3.79877506e-01,\n",
       "         3.01447796e-01, 6.97916678e-01, 6.71966047e-01, 2.11277245e-02,\n",
       "         3.02303723e-01, 6.57232831e-01, 8.98967423e-01, 7.05190335e-01,\n",
       "         7.07419586e-01, 7.99350735e-01, 8.01594072e-01, 8.08483136e-02,\n",
       "         6.06401424e-01, 5.57603075e-01, 4.71567743e-01, 4.80436928e-01,\n",
       "         6.22615811e-01, 7.98070082e-01, 2.35255272e-01, 1.40079131e-01,\n",
       "         3.10222576e-01, 9.15812380e-01, 9.16327224e-01, 6.31762141e-01,\n",
       "         1.38646233e-02, 2.89289376e-01, 5.84756813e-01, 3.80871599e-01,\n",
       "         7.62572265e-01, 9.98127505e-01, 8.37990506e-01, 9.55144436e-01,\n",
       "         6.60841839e-02, 5.25888749e-01, 5.98790289e-01, 6.07138526e-01,\n",
       "         7.55092956e-01, 4.86439548e-02, 2.34063270e-01, 3.35362459e-02,\n",
       "         8.11642742e-02, 5.78017442e-01, 9.57397633e-01, 9.42381080e-01,\n",
       "         3.56032838e-01, 7.05465182e-02, 1.97005471e-01, 6.36475288e-01,\n",
       "         8.52661260e-01, 9.77083547e-01, 9.16374758e-01, 3.09576545e-01,\n",
       "         9.23388766e-02, 4.10298589e-01, 9.34224532e-01, 9.23379959e-01,\n",
       "         1.38564419e-01, 8.38109419e-02, 8.16277197e-01, 1.36272486e-01,\n",
       "         7.12081357e-01, 4.96445412e-01, 4.64055666e-01, 9.67113233e-01,\n",
       "         8.90666042e-01, 5.64157178e-02, 8.10651657e-01, 5.31124928e-01,\n",
       "         6.15123917e-01, 3.62840337e-01, 8.92585794e-01, 1.83824197e-01,\n",
       "         7.11508583e-01, 5.41738677e-01, 2.23041986e-01, 5.68303482e-01,\n",
       "         2.23621457e-01, 1.42726337e-01, 9.39410679e-02, 2.38142267e-01,\n",
       "         1.71494808e-01, 5.34311032e-01, 3.48058751e-03, 1.36036491e-01,\n",
       "         9.94956800e-01, 4.66652349e-01, 1.99396484e-01, 2.28106824e-01,\n",
       "         9.80373320e-01, 6.27693387e-01, 7.01052018e-01, 7.98092273e-01,\n",
       "         7.31586750e-01, 9.45550026e-01, 2.39331582e-01, 5.38918719e-01,\n",
       "         8.65190741e-01, 9.73570722e-02, 6.45520863e-01, 6.38939927e-01,\n",
       "         7.28659973e-01, 7.91062755e-01, 8.94937876e-02, 3.00821084e-01,\n",
       "         4.08859369e-01, 6.50086327e-01, 4.20496555e-01, 4.21009372e-02,\n",
       "         1.14637605e-01, 2.45202492e-01, 2.58299644e-02, 7.86106480e-01,\n",
       "         4.34720940e-01, 9.01786894e-01, 9.91500924e-01, 3.95973320e-01,\n",
       "         7.85251094e-01, 3.70827103e-01, 3.33167862e-01, 6.99382514e-01,\n",
       "         1.35634827e-02, 5.68199096e-01, 5.12711304e-01, 2.64898600e-02,\n",
       "         4.16030197e-01, 7.38109925e-01, 9.76939505e-01, 5.11054184e-01,\n",
       "         9.17447476e-01, 9.10284857e-01, 8.40128390e-01, 7.53407548e-01,\n",
       "         3.71538030e-01, 2.22686055e-01, 9.36471521e-01, 1.99665598e-01,\n",
       "         5.20995474e-01, 5.30166571e-01, 7.35398855e-01, 3.12154996e-01,\n",
       "         5.43513503e-01, 7.10825160e-01, 2.90362214e-01, 2.23140954e-01,\n",
       "         2.00847576e-01, 1.23677420e-01, 3.53298469e-02, 4.50928286e-01,\n",
       "         2.59916217e-01, 3.67648069e-01, 9.75665484e-01, 2.70633671e-01,\n",
       "         2.82107618e-01, 2.69121797e-01, 8.41820931e-01, 9.72899139e-01,\n",
       "         5.02132564e-01, 8.08388062e-01, 6.42113378e-01, 2.34166502e-01,\n",
       "         6.44385750e-01, 4.66960282e-01, 1.42087561e-01, 4.46271248e-01,\n",
       "         9.11449663e-02, 7.42849582e-01, 1.41054282e-01, 2.11673686e-01,\n",
       "         3.50679090e-01, 6.60029456e-01, 8.86509349e-01, 4.90967066e-01,\n",
       "         2.25614346e-01, 6.40718490e-01, 2.65141418e-01, 1.08194860e-01,\n",
       "         7.23188847e-01, 6.78325775e-01, 3.61333836e-01, 9.11353272e-01,\n",
       "         6.02241733e-01, 5.79516979e-01, 5.30748718e-01, 4.84887060e-01,\n",
       "         2.67982913e-01, 9.06040479e-01, 9.90100425e-01, 5.66683270e-01,\n",
       "         2.25585940e-01, 8.66540694e-02, 3.01815301e-01, 8.68389074e-01,\n",
       "         3.65332395e-01, 1.05017025e-01, 1.09796559e-01, 7.29212158e-01,\n",
       "         1.33074246e-01, 2.41331021e-01, 6.21640263e-01, 7.10626726e-01,\n",
       "         5.37697825e-01, 7.33351663e-03, 8.66198734e-01, 8.97657964e-01,\n",
       "         4.41462093e-01, 5.51073404e-01, 1.47359218e-01, 3.19940304e-01,\n",
       "         7.35084148e-01, 2.16630394e-01, 6.44637354e-01, 7.16202016e-01,\n",
       "         1.73682284e-01, 1.12826456e-01, 6.02259459e-01, 2.96349917e-01,\n",
       "         8.03792144e-01, 4.12597224e-01, 9.12085397e-01, 5.12995373e-04,\n",
       "         7.38800731e-01, 1.05020244e-02, 8.64929765e-01, 3.93722317e-01,\n",
       "         9.20539397e-01, 4.54419647e-01, 3.58376808e-01, 1.36921008e-01,\n",
       "         2.33423320e-02, 9.05240095e-01, 7.91278460e-01, 9.75379739e-02,\n",
       "         5.35594615e-01, 8.12863101e-02, 4.51987631e-01, 2.76414654e-01,\n",
       "         3.40144788e-01, 4.92188076e-01, 9.10911405e-01, 1.39492334e-01,\n",
       "         8.36917452e-02, 5.77444119e-01, 7.00415446e-01, 9.93441640e-01,\n",
       "         6.94977392e-01, 9.22021953e-01, 3.85555374e-01, 7.05622415e-01,\n",
       "         3.92999024e-02, 7.84740104e-02, 9.14341081e-01, 1.49662622e-01,\n",
       "         3.96491999e-01, 7.48204920e-01, 8.22870074e-01, 1.49922474e-01,\n",
       "         5.44955225e-01, 1.01941184e-01, 3.74648487e-01, 6.87586480e-01,\n",
       "         2.86679512e-01, 6.49485684e-01, 1.04337854e-01, 2.89097039e-01,\n",
       "         2.62319345e-03, 1.58259656e-01, 2.44818096e-01, 2.25530959e-01,\n",
       "         7.17310754e-03, 6.12888223e-01, 7.66358380e-01, 2.12522598e-01,\n",
       "         2.38566331e-01, 2.67797403e-01, 7.21784163e-01, 8.35911531e-01,\n",
       "         7.16359414e-01, 4.60487463e-02, 1.08049351e-01, 3.63066853e-01,\n",
       "         1.41559602e-01, 9.98107098e-01, 9.33453050e-02, 7.68158990e-01,\n",
       "         1.58843233e-01, 5.28041154e-01, 2.94205255e-01, 6.87695866e-01,\n",
       "         5.48444818e-01, 6.17693659e-01, 4.55635326e-01, 4.48968208e-02,\n",
       "         1.31160013e-01, 7.72821662e-01, 8.08723642e-01, 5.44755024e-01,\n",
       "         6.82045786e-01, 1.09316140e-01, 5.01092942e-01, 1.79005406e-01,\n",
       "         3.89738386e-01, 5.51829902e-01, 4.98086778e-01, 2.69981495e-01,\n",
       "         2.70931276e-01, 3.30710347e-01, 7.16934530e-01, 2.12264696e-02,\n",
       "         1.94527126e-01, 7.57001904e-01, 7.86072022e-02, 4.65621226e-01,\n",
       "         8.46057347e-01, 5.24329888e-02, 9.54621773e-01, 4.66223640e-01,\n",
       "         2.21143092e-01, 3.65925904e-01, 1.89335888e-01, 5.68819419e-01,\n",
       "         6.57321897e-02, 7.52672175e-01, 5.65005166e-01, 9.30947642e-01,\n",
       "         9.92328246e-01, 4.86766436e-01, 5.31912824e-01, 3.77252435e-01,\n",
       "         4.35962696e-01, 9.79446835e-01, 9.40207759e-01, 2.81664102e-01,\n",
       "         2.93540206e-01, 5.49044713e-01, 3.13887793e-02, 8.87358592e-01,\n",
       "         5.82801629e-01, 4.61091662e-01, 7.52235076e-02, 1.31801035e-01,\n",
       "         5.30210883e-01, 3.56891073e-02, 1.28847912e-01, 1.55448499e-01,\n",
       "         5.72428315e-01, 7.13542260e-01, 3.60019131e-01, 8.29888252e-01,\n",
       "         9.62917329e-01, 2.97072979e-01, 7.03392831e-01, 8.19389047e-01,\n",
       "         6.22431808e-01, 6.05808732e-01, 5.02216964e-01, 6.41743281e-01,\n",
       "         9.09558780e-02]))]"
      ]
     },
     "execution_count": 20,
     "metadata": {},
     "output_type": "execute_result"
    }
   ],
   "source": [
    "expand_setpoints_helper(a.spectrum)"
   ]
  },
  {
   "cell_type": "code",
   "execution_count": 21,
   "metadata": {},
   "outputs": [
    {
     "name": "stdout",
     "output_type": "stream",
     "text": [
      "Starting experimental run with id: 2. \n"
     ]
    }
   ],
   "source": [
    "meas = Measurement()\n",
    "meas.register_parameter(a.spectrum)\n",
    "\n",
    "with meas.run() as datasaver:\n",
    "    datasaver.add_result(*expand_setpoints_helper(a.spectrum))\n",
    "    \n",
    "    dataid = datasaver.run_id"
   ]
  },
  {
   "cell_type": "code",
   "execution_count": null,
   "metadata": {},
   "outputs": [],
   "source": []
  }
 ],
 "metadata": {
  "kernelspec": {
   "display_name": "Python 3",
   "language": "python",
   "name": "python3"
  },
  "language_info": {
   "codemirror_mode": {
    "name": "ipython",
    "version": 3
   },
   "file_extension": ".py",
   "mimetype": "text/x-python",
   "name": "python",
   "nbconvert_exporter": "python",
   "pygments_lexer": "ipython3",
   "version": "3.7.7"
  },
  "toc": {
   "base_numbering": 1,
   "nav_menu": {},
   "number_sections": true,
   "sideBar": true,
   "skip_h1_title": false,
   "title_cell": "Table of Contents",
   "title_sidebar": "Contents",
   "toc_cell": false,
   "toc_position": {},
   "toc_section_display": true,
   "toc_window_display": false
  },
  "varInspector": {
   "cols": {
    "lenName": 16,
    "lenType": 16,
    "lenVar": 40
   },
   "kernels_config": {
    "python": {
     "delete_cmd_postfix": "",
     "delete_cmd_prefix": "del ",
     "library": "var_list.py",
     "varRefreshCmd": "print(var_dic_list())"
    },
    "r": {
     "delete_cmd_postfix": ") ",
     "delete_cmd_prefix": "rm(",
     "library": "var_list.r",
     "varRefreshCmd": "cat(var_dic_list()) "
    }
   },
   "types_to_exclude": [
    "module",
    "function",
    "builtin_function_or_method",
    "instance",
    "_Feature"
   ],
   "window_display": false
  }
 },
 "nbformat": 4,
 "nbformat_minor": 2
}
