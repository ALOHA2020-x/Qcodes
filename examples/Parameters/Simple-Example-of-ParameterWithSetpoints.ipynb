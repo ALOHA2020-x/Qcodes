{
 "cells": [
  {
   "cell_type": "markdown",
   "metadata": {},
   "source": [
    "# Simple Example of ParameterWithSetpoints\n",
    "This notebook provides an example for writing a simple driver with a parameter that has setpoints. Let's name this parameter that has setpoints as \"y\". Then, the setpoints, say \"x1, x2, x3 ..\", are the parameters on which the parameter \n",
    "\"y\" depends upon. Meaning \"y\" is a function of \"x1, x2, x3 ...\" where \"x1, x2, x3 ...\" are known as the setpoints of parameter \"y\".\n",
    "\n",
    "This is most likely to be useful for instruments that return arrays of results. In this notebook, we will show an example of this."
   ]
  },
  {
   "cell_type": "code",
   "execution_count": 1,
   "metadata": {
    "execution": {
     "iopub.execute_input": "2020-09-11T10:04:44.209468Z",
     "iopub.status.busy": "2020-09-11T10:04:44.208877Z",
     "iopub.status.idle": "2020-09-11T10:04:44.297313Z",
     "shell.execute_reply": "2020-09-11T10:04:44.296375Z"
    }
   },
   "outputs": [],
   "source": [
    "import numpy as np\n",
    "import os"
   ]
  },
  {
   "cell_type": "code",
   "execution_count": 2,
   "metadata": {
    "execution": {
     "iopub.execute_input": "2020-09-11T10:04:44.301454Z",
     "iopub.status.busy": "2020-09-11T10:04:44.300554Z",
     "iopub.status.idle": "2020-09-11T10:04:45.353019Z",
     "shell.execute_reply": "2020-09-11T10:04:45.353500Z"
    }
   },
   "outputs": [
    {
     "name": "stdout",
     "output_type": "stream",
     "text": [
      "Logging hadn't been started.\n",
      "Activating auto-logging. Current session state plus future input saved.\n",
      "Filename       : /home/vsts/.qcodes/logs/command_history.log\n",
      "Mode           : append\n",
      "Output logging : True\n",
      "Raw input log  : False\n",
      "Timestamping   : True\n",
      "State          : active\n"
     ]
    },
    {
     "name": "stdout",
     "output_type": "stream",
     "text": [
      "Qcodes Logfile : /home/vsts/.qcodes/logs/200911-21330-qcodes.log\n"
     ]
    }
   ],
   "source": [
    "from qcodes.dataset.plotting import plot_dataset\n",
    "from qcodes.utils.validators import Numbers, Arrays\n",
    "from qcodes.instrument.base import Instrument\n",
    "from qcodes.dataset.measurements import Measurement"
   ]
  },
  {
   "cell_type": "code",
   "execution_count": 3,
   "metadata": {
    "execution": {
     "iopub.execute_input": "2020-09-11T10:04:45.357615Z",
     "iopub.status.busy": "2020-09-11T10:04:45.356992Z",
     "iopub.status.idle": "2020-09-11T10:04:45.360530Z",
     "shell.execute_reply": "2020-09-11T10:04:45.360087Z"
    }
   },
   "outputs": [],
   "source": [
    "from qcodes.dataset.sqlite.database import initialise_or_create_database_at\n",
    "from qcodes.dataset.experiment_container import load_or_create_experiment"
   ]
  },
  {
   "cell_type": "code",
   "execution_count": 4,
   "metadata": {
    "execution": {
     "iopub.execute_input": "2020-09-11T10:04:45.364817Z",
     "iopub.status.busy": "2020-09-11T10:04:45.363782Z",
     "iopub.status.idle": "2020-09-11T10:04:45.365425Z",
     "shell.execute_reply": "2020-09-11T10:04:45.365838Z"
    }
   },
   "outputs": [],
   "source": [
    "from qcodes.instrument.parameter import ParameterWithSetpoints, Parameter\n",
    "from qcodes.instrument.parameter import expand_setpoints_helper"
   ]
  },
  {
   "cell_type": "markdown",
   "metadata": {},
   "source": [
    "First, we define a dummy instrument that returns something like a frequency spectrum starting from a frequency given by `f_start` to a frequency given by `f_stop` in `n_points` steps. \n",
    "\n",
    "The extra functionality of the `ParameterWithSetpoints` is implemented by giving it a reference to one or more parameters that acts like its setpoints. \n",
    "\n",
    "To setup a `ParameterWithSetpoints` we have to do two things in addition to what we do for a normal parameter.\n",
    "\n",
    "* Define one or more parameter for the setpoints (one for each dimension of the array and let the `ParameterWithSetpoints` know that these are the setpoints.\n",
    "* Give both the setpoints parameter(s) and the `ParameterWithSetpoints` a `validator` of type `Arrays` with a shape. The shapes should be such that the combined shape of the setpoints matches the shape of the `ParameterWithSetpoints`. Note that if the shape changes with the setting of the instrument, it can be defined by another parameter as shown below. "
   ]
  },
  {
   "cell_type": "code",
   "execution_count": 5,
   "metadata": {
    "execution": {
     "iopub.execute_input": "2020-09-11T10:04:45.375353Z",
     "iopub.status.busy": "2020-09-11T10:04:45.373488Z",
     "iopub.status.idle": "2020-09-11T10:04:45.377238Z",
     "shell.execute_reply": "2020-09-11T10:04:45.376801Z"
    }
   },
   "outputs": [],
   "source": [
    "class GeneratedSetPoints(Parameter):\n",
    "    \"\"\"\n",
    "    A parameter that generates a setpoint array from start, stop and num points\n",
    "    parameters.\n",
    "    \"\"\"\n",
    "    def __init__(self, startparam, stopparam, numpointsparam, *args, **kwargs):\n",
    "        super().__init__(*args, **kwargs)\n",
    "        self._startparam = startparam\n",
    "        self._stopparam = stopparam\n",
    "        self._numpointsparam = numpointsparam\n",
    "\n",
    "    def get_raw(self):\n",
    "        return np.linspace(self._startparam(), self._stopparam(),\n",
    "                              self._numpointsparam())\n",
    "\n",
    "class DummyArray(ParameterWithSetpoints):\n",
    "    \n",
    "    def get_raw(self):\n",
    "        npoints = self.root_instrument.n_points.get_latest()\n",
    "        return np.random.rand(npoints)\n",
    "    \n",
    "\n",
    "class DummySpectrumAnalyzer(Instrument):\n",
    "    \n",
    "    def __init__(self, name, **kwargs):\n",
    "        \n",
    "        super().__init__(name, **kwargs)\n",
    "            \n",
    "\n",
    "        self.add_parameter('f_start',\n",
    "                           initial_value=0,\n",
    "                           unit='Hz',\n",
    "                           label='f start',\n",
    "                           vals=Numbers(0,1e3),\n",
    "                           get_cmd=None,\n",
    "                           set_cmd=None)\n",
    "\n",
    "        self.add_parameter('f_stop',\n",
    "                           unit='Hz',\n",
    "                           label='f stop',\n",
    "                           vals=Numbers(1,1e3),\n",
    "                           get_cmd=None,\n",
    "                           set_cmd=None)\n",
    "\n",
    "        self.add_parameter('n_points',\n",
    "                           unit='',\n",
    "                           initial_value=10,\n",
    "                           vals=Numbers(1,1e3),\n",
    "                           get_cmd=None,\n",
    "                           set_cmd=None)\n",
    "        \n",
    "        self.add_parameter('freq_axis',\n",
    "                           unit='Hz',\n",
    "                           label='Freq Axis',\n",
    "                           parameter_class=GeneratedSetPoints,\n",
    "                           startparam=self.f_start,\n",
    "                           stopparam=self.f_stop,\n",
    "                           numpointsparam=self.n_points,\n",
    "                           vals=Arrays(shape=(self.n_points.get_latest,)))\n",
    "                           \n",
    "        self.add_parameter('spectrum',\n",
    "                   unit='dBm',\n",
    "                   setpoints=(self.freq_axis,),\n",
    "                   label='Spectrum',\n",
    "                   parameter_class=DummyArray,\n",
    "                   vals=Arrays(shape=(self.n_points.get_latest,)))\n",
    "                "
   ]
  },
  {
   "cell_type": "markdown",
   "metadata": {},
   "source": [
    "In the above example, the shape is defined by the parameter `n_points` that defines how many samples our `DummySpectrumAnalyzer` returns.\n",
    "\n",
    "This means that the validation will call the function to get `n_points` twice for each `get` of the parameter. This may be too slow, however, if you (as the driver-writer) can guarantee that the cached value for `n_points` will never be out of sync with the value stored in the instrument, `n_points` may be replaced by it's latest known value such that the `validator` reads:\n",
    "```python\n",
    "vals=Arrays(shape=(self.n_points.get_latest))\n",
    "```\n",
    "\n",
    "This avoids any additional call to the instrument. In the same way, the arguments to the `freq_axis` parameter that defines the start, stop and number of points can be replaced by their latest value if the instrument allows it.\n",
    "\n"
   ]
  },
  {
   "cell_type": "code",
   "execution_count": 6,
   "metadata": {
    "execution": {
     "iopub.execute_input": "2020-09-11T10:04:45.380798Z",
     "iopub.status.busy": "2020-09-11T10:04:45.380193Z",
     "iopub.status.idle": "2020-09-11T10:04:45.453094Z",
     "shell.execute_reply": "2020-09-11T10:04:45.452312Z"
    }
   },
   "outputs": [
    {
     "name": "stdout",
     "output_type": "stream",
     "text": [
      "\r",
      "0it [00:00, ?it/s]"
     ]
    },
    {
     "name": "stdout",
     "output_type": "stream",
     "text": [
      "\r",
      "Upgrading database; v0 -> v1: : 0it [00:00, ?it/s]"
     ]
    },
    {
     "name": "stdout",
     "output_type": "stream",
     "text": [
      "\r",
      "Upgrading database; v0 -> v1: : 0it [00:00, ?it/s]"
     ]
    },
    {
     "name": "stdout",
     "output_type": "stream",
     "text": [
      "\n",
      "\r",
      "  0%|          | 0/1 [00:00<?, ?it/s]"
     ]
    },
    {
     "name": "stdout",
     "output_type": "stream",
     "text": [
      "\r",
      "Upgrading database; v1 -> v2:   0%|          | 0/1 [00:00<?, ?it/s]"
     ]
    },
    {
     "name": "stdout",
     "output_type": "stream",
     "text": [
      "\r",
      "Upgrading database; v1 -> v2: 100%|██████████| 1/1 [00:00<00:00, 411.69it/s]"
     ]
    },
    {
     "name": "stdout",
     "output_type": "stream",
     "text": [
      "\n",
      "\r",
      "0it [00:00, ?it/s]"
     ]
    },
    {
     "name": "stdout",
     "output_type": "stream",
     "text": [
      "\r",
      "Upgrading database; v2 -> v3: : 0it [00:00, ?it/s]"
     ]
    },
    {
     "name": "stdout",
     "output_type": "stream",
     "text": [
      "\r",
      "Upgrading database; v2 -> v3: : 0it [00:00, ?it/s]"
     ]
    },
    {
     "name": "stdout",
     "output_type": "stream",
     "text": [
      "\n",
      "\r",
      "0it [00:00, ?it/s]"
     ]
    },
    {
     "name": "stdout",
     "output_type": "stream",
     "text": [
      "\r",
      "Upgrading database; v3 -> v4: : 0it [00:00, ?it/s]"
     ]
    },
    {
     "name": "stdout",
     "output_type": "stream",
     "text": [
      "\r",
      "Upgrading database; v3 -> v4: : 0it [00:00, ?it/s]"
     ]
    },
    {
     "name": "stdout",
     "output_type": "stream",
     "text": [
      "\n",
      "\r",
      "  0%|          | 0/1 [00:00<?, ?it/s]"
     ]
    },
    {
     "name": "stdout",
     "output_type": "stream",
     "text": [
      "\r",
      "Upgrading database; v4 -> v5:   0%|          | 0/1 [00:00<?, ?it/s]"
     ]
    },
    {
     "name": "stdout",
     "output_type": "stream",
     "text": [
      "\r",
      "Upgrading database; v4 -> v5: 100%|██████████| 1/1 [00:00<00:00, 417.34it/s]"
     ]
    },
    {
     "name": "stdout",
     "output_type": "stream",
     "text": [
      "\n",
      "\r",
      "0it [00:00, ?it/s]"
     ]
    },
    {
     "name": "stdout",
     "output_type": "stream",
     "text": [
      "\r",
      "Upgrading database; v5 -> v6: : 0it [00:00, ?it/s]"
     ]
    },
    {
     "name": "stdout",
     "output_type": "stream",
     "text": [
      "\r",
      "Upgrading database; v5 -> v6: : 0it [00:00, ?it/s]"
     ]
    },
    {
     "name": "stdout",
     "output_type": "stream",
     "text": [
      "\n",
      "\r",
      "  0%|          | 0/1 [00:00<?, ?it/s]"
     ]
    },
    {
     "name": "stdout",
     "output_type": "stream",
     "text": [
      "\r",
      "Upgrading database; v6 -> v7:   0%|          | 0/1 [00:00<?, ?it/s]"
     ]
    },
    {
     "name": "stdout",
     "output_type": "stream",
     "text": [
      "\r",
      "Upgrading database; v6 -> v7: 100%|██████████| 1/1 [00:00<00:00, 257.04it/s]"
     ]
    },
    {
     "name": "stdout",
     "output_type": "stream",
     "text": [
      "\n",
      "\r",
      "  0%|          | 0/1 [00:00<?, ?it/s]"
     ]
    },
    {
     "name": "stdout",
     "output_type": "stream",
     "text": [
      "\r",
      "Upgrading database; v7 -> v8:   0%|          | 0/1 [00:00<?, ?it/s]"
     ]
    },
    {
     "name": "stdout",
     "output_type": "stream",
     "text": [
      "\r",
      "Upgrading database; v7 -> v8: 100%|██████████| 1/1 [00:00<00:00, 533.97it/s]"
     ]
    },
    {
     "name": "stdout",
     "output_type": "stream",
     "text": [
      "\n",
      "\r",
      "  0%|          | 0/1 [00:00<?, ?it/s]"
     ]
    },
    {
     "name": "stdout",
     "output_type": "stream",
     "text": [
      "\r",
      "Upgrading database; v8 -> v9:   0%|          | 0/1 [00:00<?, ?it/s]"
     ]
    },
    {
     "name": "stdout",
     "output_type": "stream",
     "text": [
      "\r",
      "Upgrading database; v8 -> v9: 100%|██████████| 1/1 [00:00<00:00, 555.83it/s]"
     ]
    },
    {
     "name": "stdout",
     "output_type": "stream",
     "text": [
      "\n"
     ]
    },
    {
     "data": {
      "text/plain": [
       "tutorial_ParameterWithSetpoints#no sample#1@/home/vsts/work/1/s/docs/examples/Parameters/tutorial_paramter_with_setpoints.db\n",
       "----------------------------------------------------------------------------------------------------------------------------"
      ]
     },
     "execution_count": 6,
     "metadata": {},
     "output_type": "execute_result"
    }
   ],
   "source": [
    "tutorial_db_path = os.path.join(os.getcwd(), 'tutorial_paramter_with_setpoints.db')\n",
    "initialise_or_create_database_at(tutorial_db_path)\n",
    "load_or_create_experiment(experiment_name='tutorial_ParameterWithSetpoints', sample_name=\"no sample\")"
   ]
  },
  {
   "cell_type": "code",
   "execution_count": 7,
   "metadata": {
    "execution": {
     "iopub.execute_input": "2020-09-11T10:04:45.457514Z",
     "iopub.status.busy": "2020-09-11T10:04:45.456995Z",
     "iopub.status.idle": "2020-09-11T10:04:45.460879Z",
     "shell.execute_reply": "2020-09-11T10:04:45.460375Z"
    }
   },
   "outputs": [],
   "source": [
    "a = DummySpectrumAnalyzer('foobar')"
   ]
  },
  {
   "cell_type": "markdown",
   "metadata": {},
   "source": [
    "First we setup the limits of the spectrum"
   ]
  },
  {
   "cell_type": "code",
   "execution_count": 8,
   "metadata": {
    "execution": {
     "iopub.execute_input": "2020-09-11T10:04:45.464103Z",
     "iopub.status.busy": "2020-09-11T10:04:45.463306Z",
     "iopub.status.idle": "2020-09-11T10:04:45.465787Z",
     "shell.execute_reply": "2020-09-11T10:04:45.466190Z"
    }
   },
   "outputs": [],
   "source": [
    "a.f_start(0)\n",
    "a.f_stop(500)\n",
    "a.n_points(501)"
   ]
  },
  {
   "cell_type": "markdown",
   "metadata": {},
   "source": [
    "And we can grab the frequency axis"
   ]
  },
  {
   "cell_type": "code",
   "execution_count": 9,
   "metadata": {
    "execution": {
     "iopub.execute_input": "2020-09-11T10:04:45.470132Z",
     "iopub.status.busy": "2020-09-11T10:04:45.469285Z",
     "iopub.status.idle": "2020-09-11T10:04:45.474296Z",
     "shell.execute_reply": "2020-09-11T10:04:45.473917Z"
    }
   },
   "outputs": [
    {
     "data": {
      "text/plain": [
       "501"
      ]
     },
     "execution_count": 9,
     "metadata": {},
     "output_type": "execute_result"
    }
   ],
   "source": [
    "a.n_points()"
   ]
  },
  {
   "cell_type": "code",
   "execution_count": 10,
   "metadata": {
    "execution": {
     "iopub.execute_input": "2020-09-11T10:04:45.478208Z",
     "iopub.status.busy": "2020-09-11T10:04:45.476537Z",
     "iopub.status.idle": "2020-09-11T10:04:45.480400Z",
     "shell.execute_reply": "2020-09-11T10:04:45.479950Z"
    },
    "scrolled": false
   },
   "outputs": [
    {
     "data": {
      "text/plain": [
       "501"
      ]
     },
     "execution_count": 10,
     "metadata": {},
     "output_type": "execute_result"
    }
   ],
   "source": [
    "freq_axis = a.freq_axis()\n",
    "len(freq_axis)"
   ]
  },
  {
   "cell_type": "code",
   "execution_count": 11,
   "metadata": {
    "execution": {
     "iopub.execute_input": "2020-09-11T10:04:45.483789Z",
     "iopub.status.busy": "2020-09-11T10:04:45.482875Z",
     "iopub.status.idle": "2020-09-11T10:04:45.486184Z",
     "shell.execute_reply": "2020-09-11T10:04:45.486542Z"
    }
   },
   "outputs": [
    {
     "data": {
      "text/plain": [
       "array([0., 1., 2., 3., 4., 5., 6., 7., 8., 9.])"
      ]
     },
     "execution_count": 11,
     "metadata": {},
     "output_type": "execute_result"
    }
   ],
   "source": [
    "freq_axis[:10]"
   ]
  },
  {
   "cell_type": "markdown",
   "metadata": {},
   "source": [
    "As expected we get a result wit 501 points as we asked for an axis with 501 points. "
   ]
  },
  {
   "cell_type": "markdown",
   "metadata": {},
   "source": [
    "Above we have added a validator to the `freq_axis` parameter encoding the fact that this is an Array with `n_points`. Note that we do not have to supply the number of points as an integer but can supply a function that returns the valid number of points. This would normally be a QCoDeS parameter.\n",
    "\n",
    "This will be checked if we validate the output."
   ]
  },
  {
   "cell_type": "code",
   "execution_count": 12,
   "metadata": {
    "execution": {
     "iopub.execute_input": "2020-09-11T10:04:45.490750Z",
     "iopub.status.busy": "2020-09-11T10:04:45.489920Z",
     "iopub.status.idle": "2020-09-11T10:04:45.491957Z",
     "shell.execute_reply": "2020-09-11T10:04:45.491534Z"
    }
   },
   "outputs": [],
   "source": [
    "a.freq_axis.validate(a.freq_axis.get())"
   ]
  },
  {
   "cell_type": "markdown",
   "metadata": {},
   "source": [
    "Naturally, we can also get the spectrum. Getting the spectrum will automatically perform validation both for the shape of the parameter itself and the relation to the setpoint parameter(s)"
   ]
  },
  {
   "cell_type": "code",
   "execution_count": 13,
   "metadata": {
    "execution": {
     "iopub.execute_input": "2020-09-11T10:04:45.495471Z",
     "iopub.status.busy": "2020-09-11T10:04:45.494552Z",
     "iopub.status.idle": "2020-09-11T10:04:45.498564Z",
     "shell.execute_reply": "2020-09-11T10:04:45.498118Z"
    },
    "scrolled": true
   },
   "outputs": [
    {
     "data": {
      "text/plain": [
       "501"
      ]
     },
     "execution_count": 13,
     "metadata": {},
     "output_type": "execute_result"
    }
   ],
   "source": [
    "spectrum = a.spectrum.get()\n",
    "len(spectrum)"
   ]
  },
  {
   "cell_type": "markdown",
   "metadata": {},
   "source": [
    "When we validate a `ParameterWithSetpoints`, we automatically validate that the shape is consistent between the parameters and its setpoints. As well as validating the shape as above."
   ]
  },
  {
   "cell_type": "code",
   "execution_count": 14,
   "metadata": {
    "execution": {
     "iopub.execute_input": "2020-09-11T10:04:45.501873Z",
     "iopub.status.busy": "2020-09-11T10:04:45.501063Z",
     "iopub.status.idle": "2020-09-11T10:04:45.503998Z",
     "shell.execute_reply": "2020-09-11T10:04:45.503630Z"
    }
   },
   "outputs": [],
   "source": [
    "a.spectrum.validate(a.spectrum.get())"
   ]
  },
  {
   "cell_type": "markdown",
   "metadata": {},
   "source": [
    "The consistent shapes can be validated explicitly."
   ]
  },
  {
   "cell_type": "code",
   "execution_count": 15,
   "metadata": {
    "execution": {
     "iopub.execute_input": "2020-09-11T10:04:45.507101Z",
     "iopub.status.busy": "2020-09-11T10:04:45.506538Z",
     "iopub.status.idle": "2020-09-11T10:04:45.509025Z",
     "shell.execute_reply": "2020-09-11T10:04:45.508645Z"
    }
   },
   "outputs": [],
   "source": [
    "a.spectrum.validate_consistent_shape()"
   ]
  },
  {
   "cell_type": "markdown",
   "metadata": {},
   "source": [
    "We can inspect the setpoints of the spectrum."
   ]
  },
  {
   "cell_type": "code",
   "execution_count": 16,
   "metadata": {
    "execution": {
     "iopub.execute_input": "2020-09-11T10:04:45.513124Z",
     "iopub.status.busy": "2020-09-11T10:04:45.512594Z",
     "iopub.status.idle": "2020-09-11T10:04:45.515462Z",
     "shell.execute_reply": "2020-09-11T10:04:45.515000Z"
    }
   },
   "outputs": [
    {
     "data": {
      "text/plain": [
       "(<__main__.GeneratedSetPoints: freq_axis at 139757476772176>,)"
      ]
     },
     "execution_count": 16,
     "metadata": {},
     "output_type": "execute_result"
    }
   ],
   "source": [
    "a.spectrum.setpoints"
   ]
  },
  {
   "cell_type": "markdown",
   "metadata": {},
   "source": [
    "Or even change them."
   ]
  },
  {
   "cell_type": "code",
   "execution_count": 17,
   "metadata": {
    "execution": {
     "iopub.execute_input": "2020-09-11T10:04:45.519461Z",
     "iopub.status.busy": "2020-09-11T10:04:45.518433Z",
     "iopub.status.idle": "2020-09-11T10:04:45.520011Z",
     "shell.execute_reply": "2020-09-11T10:04:45.520394Z"
    }
   },
   "outputs": [],
   "source": [
    "a.spectrum.setpoints = (a.freq_axis,)"
   ]
  },
  {
   "cell_type": "markdown",
   "metadata": {},
   "source": [
    "## Measurement"
   ]
  },
  {
   "cell_type": "markdown",
   "metadata": {},
   "source": [
    "We can also directly consume the parameter in a measurement without defining the setpoints of the parameter again. The setpoints are automatically obtained from the definition of the `ParameterWithSetpoint` instance. "
   ]
  },
  {
   "cell_type": "code",
   "execution_count": 18,
   "metadata": {
    "execution": {
     "iopub.execute_input": "2020-09-11T10:04:45.524804Z",
     "iopub.status.busy": "2020-09-11T10:04:45.524281Z",
     "iopub.status.idle": "2020-09-11T10:04:45.538171Z",
     "shell.execute_reply": "2020-09-11T10:04:45.538563Z"
    }
   },
   "outputs": [
    {
     "name": "stdout",
     "output_type": "stream",
     "text": [
      "Starting experimental run with id: 1. \n"
     ]
    }
   ],
   "source": [
    "meas = Measurement()\n",
    "meas.register_parameter(a.spectrum)\n",
    "\n",
    "with meas.run() as datasaver:\n",
    "    datasaver.add_result((a.freq_axis, a.freq_axis()),\n",
    "                         (a.spectrum, a.spectrum()))\n",
    "    dataset = datasaver.dataset"
   ]
  },
  {
   "cell_type": "markdown",
   "metadata": {},
   "source": [
    "And plot it"
   ]
  },
  {
   "cell_type": "code",
   "execution_count": 19,
   "metadata": {
    "execution": {
     "iopub.execute_input": "2020-09-11T10:04:45.541367Z",
     "iopub.status.busy": "2020-09-11T10:04:45.540865Z",
     "iopub.status.idle": "2020-09-11T10:04:45.883400Z",
     "shell.execute_reply": "2020-09-11T10:04:45.883761Z"
    }
   },
   "outputs": [
    {
     "data": {
      "text/plain": [
       "([<matplotlib.axes._subplots.AxesSubplot at 0x7f1bd2c59490>], [None])"
      ]
     },
     "execution_count": 19,
     "metadata": {},
     "output_type": "execute_result"
    },
    {
     "data": {
      "image/png": "[encoded data removed]",
      "text/plain": [
       "<Figure size 432x288 with 1 Axes>"
      ]
     },
     "metadata": {
      "needs_background": "light"
     },
     "output_type": "display_data"
    }
   ],
   "source": [
    "plot_dataset(dataset)"
   ]
  },
  {
   "cell_type": "markdown",
   "metadata": {},
   "source": [
    "To reduce the amount of typing a simple convenience function is provided that will take a `ParameterWithSetpoints` and get both its values and the setpoints values and return them as tuples for direct insertion into the Dataset."
   ]
  },
  {
   "cell_type": "code",
   "execution_count": 20,
   "metadata": {
    "execution": {
     "iopub.execute_input": "2020-09-11T10:04:45.887398Z",
     "iopub.status.busy": "2020-09-11T10:04:45.885873Z",
     "iopub.status.idle": "2020-09-11T10:04:45.900451Z",
     "shell.execute_reply": "2020-09-11T10:04:45.900805Z"
    },
    "scrolled": true
   },
   "outputs": [
    {
     "data": {
      "text/plain": [
       "[(<__main__.GeneratedSetPoints: freq_axis at 139757476772176>,\n",
       "  array([  0.,   1.,   2.,   3.,   4.,   5.,   6.,   7.,   8.,   9.,  10.,\n",
       "          11.,  12.,  13.,  14.,  15.,  16.,  17.,  18.,  19.,  20.,  21.,\n",
       "          22.,  23.,  24.,  25.,  26.,  27.,  28.,  29.,  30.,  31.,  32.,\n",
       "          33.,  34.,  35.,  36.,  37.,  38.,  39.,  40.,  41.,  42.,  43.,\n",
       "          44.,  45.,  46.,  47.,  48.,  49.,  50.,  51.,  52.,  53.,  54.,\n",
       "          55.,  56.,  57.,  58.,  59.,  60.,  61.,  62.,  63.,  64.,  65.,\n",
       "          66.,  67.,  68.,  69.,  70.,  71.,  72.,  73.,  74.,  75.,  76.,\n",
       "          77.,  78.,  79.,  80.,  81.,  82.,  83.,  84.,  85.,  86.,  87.,\n",
       "          88.,  89.,  90.,  91.,  92.,  93.,  94.,  95.,  96.,  97.,  98.,\n",
       "          99., 100., 101., 102., 103., 104., 105., 106., 107., 108., 109.,\n",
       "         110., 111., 112., 113., 114., 115., 116., 117., 118., 119., 120.,\n",
       "         121., 122., 123., 124., 125., 126., 127., 128., 129., 130., 131.,\n",
       "         132., 133., 134., 135., 136., 137., 138., 139., 140., 141., 142.,\n",
       "         143., 144., 145., 146., 147., 148., 149., 150., 151., 152., 153.,\n",
       "         154., 155., 156., 157., 158., 159., 160., 161., 162., 163., 164.,\n",
       "         165., 166., 167., 168., 169., 170., 171., 172., 173., 174., 175.,\n",
       "         176., 177., 178., 179., 180., 181., 182., 183., 184., 185., 186.,\n",
       "         187., 188., 189., 190., 191., 192., 193., 194., 195., 196., 197.,\n",
       "         198., 199., 200., 201., 202., 203., 204., 205., 206., 207., 208.,\n",
       "         209., 210., 211., 212., 213., 214., 215., 216., 217., 218., 219.,\n",
       "         220., 221., 222., 223., 224., 225., 226., 227., 228., 229., 230.,\n",
       "         231., 232., 233., 234., 235., 236., 237., 238., 239., 240., 241.,\n",
       "         242., 243., 244., 245., 246., 247., 248., 249., 250., 251., 252.,\n",
       "         253., 254., 255., 256., 257., 258., 259., 260., 261., 262., 263.,\n",
       "         264., 265., 266., 267., 268., 269., 270., 271., 272., 273., 274.,\n",
       "         275., 276., 277., 278., 279., 280., 281., 282., 283., 284., 285.,\n",
       "         286., 287., 288., 289., 290., 291., 292., 293., 294., 295., 296.,\n",
       "         297., 298., 299., 300., 301., 302., 303., 304., 305., 306., 307.,\n",
       "         308., 309., 310., 311., 312., 313., 314., 315., 316., 317., 318.,\n",
       "         319., 320., 321., 322., 323., 324., 325., 326., 327., 328., 329.,\n",
       "         330., 331., 332., 333., 334., 335., 336., 337., 338., 339., 340.,\n",
       "         341., 342., 343., 344., 345., 346., 347., 348., 349., 350., 351.,\n",
       "         352., 353., 354., 355., 356., 357., 358., 359., 360., 361., 362.,\n",
       "         363., 364., 365., 366., 367., 368., 369., 370., 371., 372., 373.,\n",
       "         374., 375., 376., 377., 378., 379., 380., 381., 382., 383., 384.,\n",
       "         385., 386., 387., 388., 389., 390., 391., 392., 393., 394., 395.,\n",
       "         396., 397., 398., 399., 400., 401., 402., 403., 404., 405., 406.,\n",
       "         407., 408., 409., 410., 411., 412., 413., 414., 415., 416., 417.,\n",
       "         418., 419., 420., 421., 422., 423., 424., 425., 426., 427., 428.,\n",
       "         429., 430., 431., 432., 433., 434., 435., 436., 437., 438., 439.,\n",
       "         440., 441., 442., 443., 444., 445., 446., 447., 448., 449., 450.,\n",
       "         451., 452., 453., 454., 455., 456., 457., 458., 459., 460., 461.,\n",
       "         462., 463., 464., 465., 466., 467., 468., 469., 470., 471., 472.,\n",
       "         473., 474., 475., 476., 477., 478., 479., 480., 481., 482., 483.,\n",
       "         484., 485., 486., 487., 488., 489., 490., 491., 492., 493., 494.,\n",
       "         495., 496., 497., 498., 499., 500.])),\n",
       " (<__main__.DummyArray: spectrum at 139757493637648>,\n",
       "  array([6.36030736e-01, 9.63811699e-01, 4.71494001e-01, 2.86693758e-01,\n",
       "         3.14435307e-01, 6.14791523e-01, 2.74619493e-01, 8.67496713e-01,\n",
       "         8.60595463e-01, 1.70455519e-01, 4.79304573e-01, 6.23894700e-01,\n",
       "         4.83373470e-01, 5.07479626e-02, 6.12565788e-01, 9.55639056e-02,\n",
       "         5.37739734e-01, 9.66234907e-01, 9.43957834e-01, 6.36462124e-01,\n",
       "         6.80338366e-01, 4.77995602e-01, 8.61453822e-01, 1.05224603e-01,\n",
       "         1.54408950e-01, 3.54970549e-01, 2.18439923e-02, 6.31811391e-01,\n",
       "         2.58235839e-02, 4.34983452e-01, 5.06547406e-01, 2.01168326e-01,\n",
       "         8.75015919e-01, 5.89317945e-01, 9.26565304e-01, 2.92127158e-01,\n",
       "         4.39221038e-01, 4.34840557e-01, 4.09511850e-01, 7.83029362e-01,\n",
       "         3.20504475e-01, 3.33781826e-01, 1.45173954e-01, 5.88865700e-03,\n",
       "         1.61998261e-01, 8.69286380e-01, 4.31625802e-01, 3.40226463e-01,\n",
       "         1.36307997e-01, 6.33123864e-01, 2.49666227e-01, 2.67236930e-01,\n",
       "         8.27874479e-01, 8.27128550e-01, 1.83899756e-01, 3.54782765e-01,\n",
       "         5.47503302e-02, 9.72519732e-01, 6.07352209e-01, 6.94672175e-01,\n",
       "         2.90184027e-01, 2.41150882e-01, 6.69580255e-01, 2.38900089e-01,\n",
       "         6.75892044e-01, 4.25918316e-01, 7.28086307e-01, 5.71008467e-01,\n",
       "         4.59900355e-01, 6.94603401e-01, 1.13865071e-01, 8.56977636e-01,\n",
       "         5.06464341e-01, 9.03529679e-01, 8.58474641e-01, 8.14305509e-01,\n",
       "         6.31290566e-01, 1.92174868e-01, 2.42757382e-01, 7.95065426e-01,\n",
       "         5.40831002e-01, 2.22690366e-01, 5.06353370e-01, 3.75568173e-02,\n",
       "         7.63619717e-01, 9.61637852e-01, 2.38619518e-01, 6.04238657e-01,\n",
       "         4.32004189e-01, 1.59163012e-01, 8.60114917e-01, 2.17094024e-01,\n",
       "         4.64077858e-04, 5.56940435e-01, 1.62044546e-01, 4.17643935e-01,\n",
       "         4.30218627e-01, 4.47903012e-01, 4.83769283e-02, 9.26822432e-01,\n",
       "         5.14493895e-01, 1.76725790e-01, 6.45655709e-01, 1.00161405e-01,\n",
       "         4.77198399e-01, 2.44557675e-01, 2.73744943e-01, 9.55787162e-02,\n",
       "         4.14174468e-01, 7.97854733e-01, 7.20279158e-01, 5.11796888e-01,\n",
       "         5.94578229e-01, 6.21926365e-01, 3.79389381e-01, 3.33487108e-01,\n",
       "         6.04867144e-01, 2.92592472e-01, 9.92154365e-01, 1.73533083e-01,\n",
       "         8.45706365e-01, 2.15288929e-01, 3.75983186e-01, 9.63200073e-01,\n",
       "         8.64077859e-01, 3.05974110e-01, 2.19428176e-01, 4.87123589e-01,\n",
       "         4.49984434e-01, 1.30336354e-01, 5.89429042e-01, 4.10815435e-01,\n",
       "         5.05151496e-01, 6.43168458e-01, 7.76027714e-01, 1.40349656e-02,\n",
       "         7.14470418e-01, 6.14952063e-01, 2.08748502e-02, 1.76729194e-01,\n",
       "         7.05954624e-01, 2.57819567e-02, 7.38406277e-03, 6.92232959e-01,\n",
       "         1.18461935e-01, 2.56916898e-01, 8.71002949e-01, 7.86104080e-01,\n",
       "         4.67719627e-01, 2.95860918e-01, 4.77063455e-02, 9.81284917e-01,\n",
       "         1.63879247e-01, 4.77536133e-01, 9.11104081e-01, 8.69124659e-01,\n",
       "         6.31075873e-01, 6.39201511e-01, 6.32014351e-01, 5.90160926e-02,\n",
       "         9.84785702e-01, 7.78896553e-01, 7.32168546e-01, 9.20191341e-01,\n",
       "         6.67422447e-01, 8.60391221e-03, 7.29414809e-01, 2.59875681e-01,\n",
       "         3.63052725e-01, 7.71341089e-01, 3.17646671e-02, 4.52406613e-01,\n",
       "         8.19167433e-01, 8.49511797e-01, 7.09979685e-01, 6.51410047e-01,\n",
       "         1.89872642e-01, 4.62324047e-01, 9.75344994e-01, 1.13877196e-02,\n",
       "         5.21762219e-01, 7.93377161e-01, 6.33525803e-01, 4.20785731e-01,\n",
       "         6.27499667e-01, 2.63085325e-01, 9.05298147e-02, 6.62474439e-01,\n",
       "         8.51283631e-01, 3.60971522e-01, 7.45645865e-01, 9.35224371e-01,\n",
       "         2.03182744e-01, 1.36001266e-01, 6.91174181e-01, 4.13533822e-01,\n",
       "         5.13796018e-01, 9.48518240e-01, 3.60159336e-01, 5.80882912e-01,\n",
       "         3.62375432e-01, 5.06138675e-01, 7.41387584e-01, 1.71642242e-01,\n",
       "         7.63953399e-01, 5.07368393e-01, 5.40833587e-01, 8.64695582e-01,\n",
       "         5.27562374e-02, 9.83465375e-01, 7.66410956e-02, 2.02296061e-01,\n",
       "         9.58380439e-01, 4.32520829e-01, 1.73623460e-01, 8.64963468e-01,\n",
       "         8.06809227e-01, 7.69183274e-01, 2.59343288e-02, 2.44277677e-01,\n",
       "         8.27662455e-01, 7.87440192e-01, 4.56684166e-01, 5.61794821e-01,\n",
       "         1.88980443e-01, 1.07621446e-01, 5.28212952e-01, 3.29358086e-01,\n",
       "         4.66437517e-01, 1.29637824e-01, 5.48433555e-01, 6.51196843e-01,\n",
       "         5.57516733e-01, 7.91842903e-01, 1.08703245e-02, 1.81360216e-01,\n",
       "         5.42897763e-01, 1.46778892e-01, 5.85043060e-01, 4.01163538e-01,\n",
       "         3.98472589e-01, 9.76135320e-02, 8.32345684e-01, 1.05902665e-01,\n",
       "         8.97385558e-01, 6.94736396e-01, 1.45033285e-01, 9.03893150e-01,\n",
       "         2.27702750e-01, 4.88007365e-01, 7.75647277e-01, 4.01542303e-01,\n",
       "         1.97410657e-01, 6.41403988e-01, 3.47598298e-01, 9.03156164e-01,\n",
       "         5.20242863e-02, 7.08674117e-01, 9.81315837e-01, 9.14435102e-01,\n",
       "         9.84562178e-01, 1.76174142e-01, 2.86963258e-01, 2.39010403e-01,\n",
       "         4.61594173e-01, 1.36706282e-01, 2.45128695e-01, 3.49371700e-01,\n",
       "         6.11636691e-01, 2.33125631e-03, 8.76012429e-01, 9.36300951e-01,\n",
       "         1.05772170e-02, 9.10105086e-01, 6.34284171e-01, 2.64989053e-01,\n",
       "         6.87173048e-01, 6.28624858e-01, 6.41630961e-01, 3.58068554e-01,\n",
       "         7.45552017e-01, 7.90658325e-02, 9.84782371e-02, 2.04207761e-01,\n",
       "         4.98665021e-01, 2.43703780e-01, 5.90707430e-01, 8.97595798e-01,\n",
       "         2.25231195e-01, 9.29980501e-01, 3.90046399e-01, 3.19863116e-01,\n",
       "         4.99538400e-01, 7.31817436e-01, 3.06126990e-01, 9.27640698e-01,\n",
       "         6.38321835e-01, 4.92422959e-01, 9.83986622e-01, 3.09809930e-02,\n",
       "         8.36776656e-02, 3.11442076e-01, 5.00309857e-01, 7.31510365e-01,\n",
       "         5.04324343e-02, 9.64949688e-01, 4.57316133e-01, 3.10830259e-01,\n",
       "         4.71282627e-01, 8.45494642e-01, 1.66557335e-01, 8.78971312e-01,\n",
       "         7.16756641e-01, 2.34303438e-01, 8.49096986e-01, 4.30039536e-02,\n",
       "         8.11032623e-01, 2.46657904e-01, 2.45673525e-01, 5.60241310e-01,\n",
       "         6.82079298e-01, 2.40397275e-01, 2.85497339e-01, 4.05316971e-01,\n",
       "         4.08690726e-01, 9.15286298e-01, 5.99373019e-01, 7.76909319e-01,\n",
       "         2.84663864e-01, 5.72286900e-01, 9.95531945e-01, 2.48871167e-01,\n",
       "         8.30303948e-01, 8.17798806e-01, 8.89106860e-01, 6.91516973e-01,\n",
       "         7.93862916e-01, 5.78887151e-01, 2.50354384e-01, 8.56197757e-01,\n",
       "         3.11006948e-01, 3.19242050e-01, 9.41293133e-01, 5.41687874e-01,\n",
       "         2.44537117e-01, 7.65958075e-01, 6.16091771e-01, 1.42668614e-01,\n",
       "         6.15982314e-01, 8.43041395e-01, 6.17730437e-01, 4.78891958e-01,\n",
       "         8.86325830e-01, 6.42681666e-01, 8.31942041e-01, 7.50564377e-01,\n",
       "         3.43320386e-01, 7.57311532e-01, 6.73929664e-01, 1.12893264e-01,\n",
       "         9.32068003e-01, 6.59196066e-01, 2.50547816e-01, 4.53798391e-01,\n",
       "         9.62132349e-01, 2.05658803e-01, 5.06409259e-01, 3.47751352e-01,\n",
       "         2.38816250e-02, 1.31413803e-01, 9.58195074e-01, 2.31662423e-01,\n",
       "         1.33939718e-01, 7.75758172e-01, 4.51621261e-01, 2.66048294e-01,\n",
       "         5.12883639e-01, 9.53455046e-01, 7.51074038e-01, 6.10996912e-01,\n",
       "         1.48831502e-01, 8.67692131e-01, 3.74471283e-01, 1.81326251e-01,\n",
       "         5.19386834e-01, 2.02451812e-01, 9.51660528e-01, 4.25739826e-01,\n",
       "         1.46214305e-02, 9.15161766e-01, 6.90904886e-01, 9.21157528e-01,\n",
       "         4.56224168e-01, 5.94868964e-01, 4.01800277e-01, 2.47128329e-01,\n",
       "         6.26855525e-01, 5.41345853e-01, 9.71216133e-02, 3.27568354e-01,\n",
       "         4.62438608e-02, 9.75676573e-01, 5.17046640e-01, 8.85749534e-01,\n",
       "         1.56846798e-01, 5.33373946e-01, 5.72959650e-01, 2.04421675e-01,\n",
       "         9.93024222e-01, 3.19560322e-02, 3.93837205e-01, 5.90105037e-01,\n",
       "         6.71728362e-01, 6.15061349e-01, 9.95243119e-01, 6.65441586e-01,\n",
       "         9.48252580e-01, 8.44509878e-01, 2.41570461e-01, 4.13570969e-01,\n",
       "         7.64471488e-01, 3.68027509e-01, 3.55575529e-01, 3.20444265e-01,\n",
       "         7.44960069e-01, 3.44853656e-01, 6.88804514e-01, 4.98672865e-01,\n",
       "         8.85028272e-01, 3.68936892e-01, 3.96565755e-01, 8.20221598e-01,\n",
       "         6.36233726e-01, 1.00687967e-01, 3.88041803e-01, 4.22993935e-01,\n",
       "         9.72231442e-01, 4.05937905e-01, 7.87470581e-01, 4.12722793e-01,\n",
       "         4.54840504e-01, 1.37296023e-01, 6.49961927e-01, 9.71780116e-01,\n",
       "         6.10472226e-01, 6.15876551e-01, 5.49629030e-01, 5.86100603e-01,\n",
       "         4.83701129e-02, 8.79769622e-01, 2.66950737e-01, 1.27101434e-01,\n",
       "         8.12180238e-01, 3.78775168e-01, 5.88605055e-01, 4.43331072e-01,\n",
       "         5.58215103e-01, 6.04049849e-02, 3.16355216e-01, 9.82780044e-01,\n",
       "         2.37715075e-01, 8.41522428e-01, 4.08993699e-01, 3.44309969e-01,\n",
       "         5.76209581e-01, 9.36828213e-01, 2.43918538e-01, 9.33443772e-01,\n",
       "         7.28120507e-01, 1.53084556e-01, 3.38734604e-01, 8.77943001e-01,\n",
       "         8.28478778e-01, 5.89791742e-01, 9.37797661e-01, 9.42984633e-01,\n",
       "         7.45716851e-01, 1.37341561e-01, 1.64831307e-01, 1.52211071e-01,\n",
       "         3.92718865e-01, 9.80431187e-01, 6.61303599e-01, 8.24600189e-01,\n",
       "         2.92727473e-01, 4.13991946e-01, 1.43974244e-01, 3.50003293e-01,\n",
       "         8.09571035e-01, 2.17378663e-01, 8.81890196e-01, 3.80663233e-01,\n",
       "         2.80111596e-01, 4.54355849e-01, 8.56323462e-01, 3.46329233e-02,\n",
       "         5.93310557e-01, 9.97196674e-01, 8.60227688e-01, 3.21744742e-01,\n",
       "         6.16191528e-01]))]"
      ]
     },
     "execution_count": 20,
     "metadata": {},
     "output_type": "execute_result"
    }
   ],
   "source": [
    "expand_setpoints_helper(a.spectrum)"
   ]
  },
  {
   "cell_type": "code",
   "execution_count": 21,
   "metadata": {
    "execution": {
     "iopub.execute_input": "2020-09-11T10:04:45.904772Z",
     "iopub.status.busy": "2020-09-11T10:04:45.904058Z",
     "iopub.status.idle": "2020-09-11T10:04:45.917846Z",
     "shell.execute_reply": "2020-09-11T10:04:45.917094Z"
    }
   },
   "outputs": [
    {
     "name": "stdout",
     "output_type": "stream",
     "text": [
      "Starting experimental run with id: 2. \n"
     ]
    }
   ],
   "source": [
    "meas = Measurement()\n",
    "meas.register_parameter(a.spectrum)\n",
    "\n",
    "with meas.run() as datasaver:\n",
    "    datasaver.add_result(*expand_setpoints_helper(a.spectrum))\n",
    "    \n",
    "    dataid = datasaver.run_id"
   ]
  },
  {
   "cell_type": "code",
   "execution_count": null,
   "metadata": {},
   "outputs": [],
   "source": []
  }
 ],
 "metadata": {
  "kernelspec": {
   "display_name": "Python 3",
   "language": "python",
   "name": "python3"
  },
  "language_info": {
   "codemirror_mode": {
    "name": "ipython",
    "version": 3
   },
   "file_extension": ".py",
   "mimetype": "text/x-python",
   "name": "python",
   "nbconvert_exporter": "python",
   "pygments_lexer": "ipython3",
   "version": "3.7.7"
  },
  "toc": {
   "base_numbering": 1,
   "nav_menu": {},
   "number_sections": true,
   "sideBar": true,
   "skip_h1_title": false,
   "title_cell": "Table of Contents",
   "title_sidebar": "Contents",
   "toc_cell": false,
   "toc_position": {},
   "toc_section_display": true,
   "toc_window_display": false
  },
  "varInspector": {
   "cols": {
    "lenName": 16,
    "lenType": 16,
    "lenVar": 40
   },
   "kernels_config": {
    "python": {
     "delete_cmd_postfix": "",
     "delete_cmd_prefix": "del ",
     "library": "var_list.py",
     "varRefreshCmd": "print(var_dic_list())"
    },
    "r": {
     "delete_cmd_postfix": ") ",
     "delete_cmd_prefix": "rm(",
     "library": "var_list.r",
     "varRefreshCmd": "cat(var_dic_list()) "
    }
   },
   "types_to_exclude": [
    "module",
    "function",
    "builtin_function_or_method",
    "instance",
    "_Feature"
   ],
   "window_display": false
  }
 },
 "nbformat": 4,
 "nbformat_minor": 2
}
