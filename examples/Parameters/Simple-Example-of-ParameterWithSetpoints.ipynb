{
 "cells": [
  {
   "cell_type": "markdown",
   "metadata": {},
   "source": [
    "# Simple Example of ParameterWithSetpoints\n",
    "This notebook provides an example for writing a simple driver with a parameter that has setpoints. Let's name this parameter that has setpoints as \"y\". Then, the setpoints, say \"x1, x2, x3 ..\", are the parameters on which the parameter \n",
    "\"y\" depends upon. Meaning \"y\" is a function of \"x1, x2, x3 ...\" where \"x1, x2, x3 ...\" are known as the setpoints of parameter \"y\".\n",
    "\n",
    "This is most likely to be useful for instruments that return arrays of results. In this notebook, we will show an example of this."
   ]
  },
  {
   "cell_type": "code",
   "execution_count": 1,
   "metadata": {},
   "outputs": [],
   "source": [
    "import numpy as np\n",
    "import os"
   ]
  },
  {
   "cell_type": "code",
   "execution_count": 2,
   "metadata": {},
   "outputs": [
    {
     "name": "stdout",
     "output_type": "stream",
     "text": [
      "Logging hadn't been started.\n",
      "Activating auto-logging. Current session state plus future input saved.\n",
      "Filename       : /home/vsts/.qcodes/logs/command_history.log\n",
      "Mode           : append\n",
      "Output logging : True\n",
      "Raw input log  : False\n",
      "Timestamping   : True\n",
      "State          : active\n"
     ]
    },
    {
     "name": "stdout",
     "output_type": "stream",
     "text": [
      "Qcodes Logfile : /home/vsts/.qcodes/logs/200513-22241-qcodes.log\n"
     ]
    }
   ],
   "source": [
    "from qcodes.dataset.plotting import plot_dataset\n",
    "from qcodes.utils.validators import Numbers, Arrays\n",
    "from qcodes.instrument.base import Instrument\n",
    "from qcodes.dataset.measurements import Measurement"
   ]
  },
  {
   "cell_type": "code",
   "execution_count": 3,
   "metadata": {},
   "outputs": [],
   "source": [
    "from qcodes.dataset.sqlite.database import initialise_or_create_database_at\n",
    "from qcodes.dataset.experiment_container import load_or_create_experiment"
   ]
  },
  {
   "cell_type": "code",
   "execution_count": 4,
   "metadata": {},
   "outputs": [],
   "source": [
    "from qcodes.instrument.parameter import ParameterWithSetpoints, Parameter\n",
    "from qcodes.instrument.parameter import expand_setpoints_helper"
   ]
  },
  {
   "cell_type": "markdown",
   "metadata": {},
   "source": [
    "First, we define a dummy instrument that returns something like a frequency spectrum starting from a frequency given by `f_start` to a frequency given by `f_stop` in `n_points` steps. \n",
    "\n",
    "The extra functionality of the `ParameterWithSetpoints` is implemented by giving it a reference to one or more parameters that acts like its setpoints. \n",
    "\n",
    "To setup a `ParameterWithSetpoints` we have to do two things in addition to what we do for a normal parameter.\n",
    "\n",
    "* Define one or more parameter for the setpoints (one for each dimension of the array and let the `ParameterWithSetpoints` know that these are the setpoints.\n",
    "* Give both the setpoints parameter(s) and the `ParameterWithSetpoints` a `validator` of type `Arrays` with a shape. The shapes should be such that the combined shape of the setpoints matches the shape of the `ParameterWithSetpoints`. Note that if the shape changes with the setting of the instrument, it can be defined by another parameter as shown below. "
   ]
  },
  {
   "cell_type": "code",
   "execution_count": 5,
   "metadata": {},
   "outputs": [],
   "source": [
    "class GeneratedSetPoints(Parameter):\n",
    "    \"\"\"\n",
    "    A parameter that generates a setpoint array from start, stop and num points\n",
    "    parameters.\n",
    "    \"\"\"\n",
    "    def __init__(self, startparam, stopparam, numpointsparam, *args, **kwargs):\n",
    "        super().__init__(*args, **kwargs)\n",
    "        self._startparam = startparam\n",
    "        self._stopparam = stopparam\n",
    "        self._numpointsparam = numpointsparam\n",
    "\n",
    "    def get_raw(self):\n",
    "        return np.linspace(self._startparam(), self._stopparam(),\n",
    "                              self._numpointsparam())\n",
    "\n",
    "class DummyArray(ParameterWithSetpoints):\n",
    "    \n",
    "    def get_raw(self):\n",
    "        npoints = self.root_instrument.n_points.get_latest()\n",
    "        return np.random.rand(npoints)\n",
    "    \n",
    "\n",
    "class DummySpectrumAnalyzer(Instrument):\n",
    "    \n",
    "    def __init__(self, name, **kwargs):\n",
    "        \n",
    "        super().__init__(name, **kwargs)\n",
    "            \n",
    "\n",
    "        self.add_parameter('f_start',\n",
    "                           initial_value=0,\n",
    "                           unit='Hz',\n",
    "                           label='f start',\n",
    "                           vals=Numbers(0,1e3),\n",
    "                           get_cmd=None,\n",
    "                           set_cmd=None)\n",
    "\n",
    "        self.add_parameter('f_stop',\n",
    "                           unit='Hz',\n",
    "                           label='f stop',\n",
    "                           vals=Numbers(1,1e3),\n",
    "                           get_cmd=None,\n",
    "                           set_cmd=None)\n",
    "\n",
    "        self.add_parameter('n_points',\n",
    "                           unit='',\n",
    "                           initial_value=10,\n",
    "                           vals=Numbers(1,1e3),\n",
    "                           get_cmd=None,\n",
    "                           set_cmd=None)\n",
    "        \n",
    "        self.add_parameter('freq_axis',\n",
    "                           unit='Hz',\n",
    "                           label='Freq Axis',\n",
    "                           parameter_class=GeneratedSetPoints,\n",
    "                           startparam=self.f_start,\n",
    "                           stopparam=self.f_stop,\n",
    "                           numpointsparam=self.n_points,\n",
    "                           vals=Arrays(shape=(self.n_points.get_latest,)))\n",
    "                           \n",
    "        self.add_parameter('spectrum',\n",
    "                   unit='dBm',\n",
    "                   setpoints=(self.freq_axis,),\n",
    "                   label='Spectrum',\n",
    "                   parameter_class=DummyArray,\n",
    "                   vals=Arrays(shape=(self.n_points.get_latest,)))\n",
    "                "
   ]
  },
  {
   "cell_type": "markdown",
   "metadata": {},
   "source": [
    "In the above example, the shape is defined by the parameter `n_points` that defines how many samples our `DummySpectrumAnalyzer` returns.\n",
    "\n",
    "This means that the validation will call the function to get `n_points` twice for each `get` of the parameter. This may be too slow, however, if you (as the driver-writer) can guarantee that the cached value for `n_points` will never be out of sync with the value stored in the instrument, `n_points` may be replaced by it's latest known value such that the `validator` reads:\n",
    "```python\n",
    "vals=Arrays(shape=(self.n_points.get_latest))\n",
    "```\n",
    "\n",
    "This avoids any additional call to the instrument. In the same way, the arguments to the `freq_axis` parameter that defines the start, stop and number of points can be replaced by their latest value if the instrument allows it.\n",
    "\n"
   ]
  },
  {
   "cell_type": "code",
   "execution_count": 6,
   "metadata": {},
   "outputs": [
    {
     "name": "stdout",
     "output_type": "stream",
     "text": [
      "\r",
      "0it [00:00, ?it/s]"
     ]
    },
    {
     "name": "stdout",
     "output_type": "stream",
     "text": [
      "\r",
      "Upgrading database; v0 -> v1: : 0it [00:00, ?it/s]"
     ]
    },
    {
     "name": "stdout",
     "output_type": "stream",
     "text": [
      "\r",
      "Upgrading database; v0 -> v1: : 0it [00:00, ?it/s]"
     ]
    },
    {
     "name": "stdout",
     "output_type": "stream",
     "text": [
      "\n",
      "\r",
      "  0%|          | 0/1 [00:00<?, ?it/s]"
     ]
    },
    {
     "name": "stdout",
     "output_type": "stream",
     "text": [
      "\r",
      "Upgrading database; v1 -> v2:   0%|          | 0/1 [00:00<?, ?it/s]"
     ]
    },
    {
     "name": "stdout",
     "output_type": "stream",
     "text": [
      "\r",
      "Upgrading database; v1 -> v2: 100%|██████████| 1/1 [00:00<00:00, 649.37it/s]"
     ]
    },
    {
     "name": "stdout",
     "output_type": "stream",
     "text": [
      "\n",
      "\r",
      "0it [00:00, ?it/s]"
     ]
    },
    {
     "name": "stdout",
     "output_type": "stream",
     "text": [
      "\r",
      "Upgrading database; v2 -> v3: : 0it [00:00, ?it/s]"
     ]
    },
    {
     "name": "stdout",
     "output_type": "stream",
     "text": [
      "\r",
      "Upgrading database; v2 -> v3: : 0it [00:00, ?it/s]"
     ]
    },
    {
     "name": "stdout",
     "output_type": "stream",
     "text": [
      "\n",
      "\r",
      "0it [00:00, ?it/s]"
     ]
    },
    {
     "name": "stdout",
     "output_type": "stream",
     "text": [
      "\r",
      "Upgrading database; v3 -> v4: : 0it [00:00, ?it/s]"
     ]
    },
    {
     "name": "stdout",
     "output_type": "stream",
     "text": [
      "\r",
      "Upgrading database; v3 -> v4: : 0it [00:00, ?it/s]"
     ]
    },
    {
     "name": "stdout",
     "output_type": "stream",
     "text": [
      "\n",
      "\r",
      "  0%|          | 0/1 [00:00<?, ?it/s]"
     ]
    },
    {
     "name": "stdout",
     "output_type": "stream",
     "text": [
      "\r",
      "Upgrading database; v4 -> v5:   0%|          | 0/1 [00:00<?, ?it/s]"
     ]
    },
    {
     "name": "stdout",
     "output_type": "stream",
     "text": [
      "\r",
      "Upgrading database; v4 -> v5: 100%|██████████| 1/1 [00:00<00:00, 470.58it/s]"
     ]
    },
    {
     "name": "stdout",
     "output_type": "stream",
     "text": [
      "\n",
      "\r",
      "0it [00:00, ?it/s]"
     ]
    },
    {
     "name": "stdout",
     "output_type": "stream",
     "text": [
      "\r",
      "Upgrading database; v5 -> v6: : 0it [00:00, ?it/s]"
     ]
    },
    {
     "name": "stdout",
     "output_type": "stream",
     "text": [
      "\r",
      "Upgrading database; v5 -> v6: : 0it [00:00, ?it/s]"
     ]
    },
    {
     "name": "stdout",
     "output_type": "stream",
     "text": [
      "\n",
      "\r",
      "  0%|          | 0/1 [00:00<?, ?it/s]"
     ]
    },
    {
     "name": "stdout",
     "output_type": "stream",
     "text": [
      "\r",
      "Upgrading database; v6 -> v7:   0%|          | 0/1 [00:00<?, ?it/s]"
     ]
    },
    {
     "name": "stdout",
     "output_type": "stream",
     "text": [
      "\r",
      "Upgrading database; v6 -> v7: 100%|██████████| 1/1 [00:00<00:00, 395.88it/s]"
     ]
    },
    {
     "name": "stdout",
     "output_type": "stream",
     "text": [
      "\n",
      "\r",
      "  0%|          | 0/1 [00:00<?, ?it/s]"
     ]
    },
    {
     "name": "stdout",
     "output_type": "stream",
     "text": [
      "\r",
      "Upgrading database; v7 -> v8:   0%|          | 0/1 [00:00<?, ?it/s]"
     ]
    },
    {
     "name": "stdout",
     "output_type": "stream",
     "text": [
      "\r",
      "Upgrading database; v7 -> v8: 100%|██████████| 1/1 [00:00<00:00, 804.59it/s]"
     ]
    },
    {
     "name": "stdout",
     "output_type": "stream",
     "text": [
      "\n",
      "\r",
      "  0%|          | 0/1 [00:00<?, ?it/s]"
     ]
    },
    {
     "name": "stdout",
     "output_type": "stream",
     "text": [
      "\r",
      "Upgrading database; v8 -> v9:   0%|          | 0/1 [00:00<?, ?it/s]"
     ]
    },
    {
     "name": "stdout",
     "output_type": "stream",
     "text": [
      "\r",
      "Upgrading database; v8 -> v9: 100%|██████████| 1/1 [00:00<00:00, 788.55it/s]"
     ]
    },
    {
     "name": "stdout",
     "output_type": "stream",
     "text": [
      "\n"
     ]
    },
    {
     "data": {
      "text/plain": [
       "tutorial_ParameterWithSetpoints#no sample#1@/home/vsts/work/1/s/docs/examples/Parameters/tutorial_paramter_with_setpoints.db\n",
       "----------------------------------------------------------------------------------------------------------------------------"
      ]
     },
     "execution_count": 6,
     "metadata": {},
     "output_type": "execute_result"
    }
   ],
   "source": [
    "tutorial_db_path = os.path.join(os.getcwd(), 'tutorial_paramter_with_setpoints.db')\n",
    "initialise_or_create_database_at(tutorial_db_path)\n",
    "load_or_create_experiment(experiment_name='tutorial_ParameterWithSetpoints', sample_name=\"no sample\")"
   ]
  },
  {
   "cell_type": "code",
   "execution_count": 7,
   "metadata": {},
   "outputs": [],
   "source": [
    "a = DummySpectrumAnalyzer('foobar')"
   ]
  },
  {
   "cell_type": "markdown",
   "metadata": {},
   "source": [
    "First we setup the limits of the spectrum"
   ]
  },
  {
   "cell_type": "code",
   "execution_count": 8,
   "metadata": {},
   "outputs": [],
   "source": [
    "a.f_start(0)\n",
    "a.f_stop(500)\n",
    "a.n_points(501)"
   ]
  },
  {
   "cell_type": "markdown",
   "metadata": {},
   "source": [
    "And we can grab the frequency axis"
   ]
  },
  {
   "cell_type": "code",
   "execution_count": 9,
   "metadata": {},
   "outputs": [
    {
     "data": {
      "text/plain": [
       "501"
      ]
     },
     "execution_count": 9,
     "metadata": {},
     "output_type": "execute_result"
    }
   ],
   "source": [
    "a.n_points()"
   ]
  },
  {
   "cell_type": "code",
   "execution_count": 10,
   "metadata": {
    "scrolled": false
   },
   "outputs": [
    {
     "data": {
      "text/plain": [
       "501"
      ]
     },
     "execution_count": 10,
     "metadata": {},
     "output_type": "execute_result"
    }
   ],
   "source": [
    "freq_axis = a.freq_axis()\n",
    "len(freq_axis)"
   ]
  },
  {
   "cell_type": "code",
   "execution_count": 11,
   "metadata": {},
   "outputs": [
    {
     "data": {
      "text/plain": [
       "array([0., 1., 2., 3., 4., 5., 6., 7., 8., 9.])"
      ]
     },
     "execution_count": 11,
     "metadata": {},
     "output_type": "execute_result"
    }
   ],
   "source": [
    "freq_axis[:10]"
   ]
  },
  {
   "cell_type": "markdown",
   "metadata": {},
   "source": [
    "As expected we get a result wit 501 points as we asked for an axis with 501 points. "
   ]
  },
  {
   "cell_type": "markdown",
   "metadata": {},
   "source": [
    "Above we have added a validator to the `freq_axis` parameter encoding the fact that this is an Array with `n_points`. Note that we do not have to supply the number of points as an integer but can supply a function that returns the valid number of points. This would normally be a QCoDeS parameter.\n",
    "\n",
    "This will be checked if we validate the output."
   ]
  },
  {
   "cell_type": "code",
   "execution_count": 12,
   "metadata": {},
   "outputs": [],
   "source": [
    "a.freq_axis.validate(a.freq_axis.get())"
   ]
  },
  {
   "cell_type": "markdown",
   "metadata": {},
   "source": [
    "Naturally, we can also get the spectrum. Getting the spectrum will automatically perform validation both for the shape of the parameter itself and the relation to the setpoint parameter(s)"
   ]
  },
  {
   "cell_type": "code",
   "execution_count": 13,
   "metadata": {
    "scrolled": true
   },
   "outputs": [
    {
     "data": {
      "text/plain": [
       "501"
      ]
     },
     "execution_count": 13,
     "metadata": {},
     "output_type": "execute_result"
    }
   ],
   "source": [
    "spectrum = a.spectrum.get()\n",
    "len(spectrum)"
   ]
  },
  {
   "cell_type": "markdown",
   "metadata": {},
   "source": [
    "When we validate a `ParameterWithSetpoints`, we automatically validate that the shape is consistent between the parameters and its setpoints. As well as validating the shape as above."
   ]
  },
  {
   "cell_type": "code",
   "execution_count": 14,
   "metadata": {},
   "outputs": [],
   "source": [
    "a.spectrum.validate(a.spectrum.get())"
   ]
  },
  {
   "cell_type": "markdown",
   "metadata": {},
   "source": [
    "The consistent shapes can be validated explicitly."
   ]
  },
  {
   "cell_type": "code",
   "execution_count": 15,
   "metadata": {},
   "outputs": [],
   "source": [
    "a.spectrum.validate_consistent_shape()"
   ]
  },
  {
   "cell_type": "markdown",
   "metadata": {},
   "source": [
    "We can inspect the setpoints of the spectrum."
   ]
  },
  {
   "cell_type": "code",
   "execution_count": 16,
   "metadata": {},
   "outputs": [
    {
     "data": {
      "text/plain": [
       "(<__main__.GeneratedSetPoints: freq_axis at 140094328785808>,)"
      ]
     },
     "execution_count": 16,
     "metadata": {},
     "output_type": "execute_result"
    }
   ],
   "source": [
    "a.spectrum.setpoints"
   ]
  },
  {
   "cell_type": "markdown",
   "metadata": {},
   "source": [
    "Or even change them."
   ]
  },
  {
   "cell_type": "code",
   "execution_count": 17,
   "metadata": {},
   "outputs": [],
   "source": [
    "a.spectrum.setpoints = (a.freq_axis,)"
   ]
  },
  {
   "cell_type": "markdown",
   "metadata": {},
   "source": [
    "## Measurement"
   ]
  },
  {
   "cell_type": "markdown",
   "metadata": {},
   "source": [
    "We can also directly consume the parameter in a measurement without defining the setpoints of the parameter again. The setpoints are automatically obtained from the definition of the `ParameterWithSetpoint` instance. "
   ]
  },
  {
   "cell_type": "code",
   "execution_count": 18,
   "metadata": {},
   "outputs": [
    {
     "name": "stdout",
     "output_type": "stream",
     "text": [
      "Starting experimental run with id: 1. \n"
     ]
    }
   ],
   "source": [
    "meas = Measurement()\n",
    "meas.register_parameter(a.spectrum)\n",
    "\n",
    "with meas.run() as datasaver:\n",
    "    datasaver.add_result((a.freq_axis, a.freq_axis()),\n",
    "                         (a.spectrum, a.spectrum()))\n",
    "    dataset = datasaver.dataset"
   ]
  },
  {
   "cell_type": "markdown",
   "metadata": {},
   "source": [
    "And plot it"
   ]
  },
  {
   "cell_type": "code",
   "execution_count": 19,
   "metadata": {},
   "outputs": [
    {
     "data": {
      "text/plain": [
       "([<matplotlib.axes._subplots.AxesSubplot at 0x7f6a402e8050>], [None])"
      ]
     },
     "execution_count": 19,
     "metadata": {},
     "output_type": "execute_result"
    },
    {
     "data": {
      "image/png": "[encoded data removed]",
      "text/plain": [
       "<Figure size 432x288 with 1 Axes>"
      ]
     },
     "metadata": {
      "needs_background": "light"
     },
     "output_type": "display_data"
    }
   ],
   "source": [
    "plot_dataset(dataset)"
   ]
  },
  {
   "cell_type": "markdown",
   "metadata": {},
   "source": [
    "To reduce the amount of typing a simple convenience function is provided that will take a `ParameterWithSetpoints` and get both its values and the setpoints values and return them as tuples for direct insertion into the Dataset."
   ]
  },
  {
   "cell_type": "code",
   "execution_count": 20,
   "metadata": {
    "scrolled": true
   },
   "outputs": [
    {
     "data": {
      "text/plain": [
       "[(<__main__.GeneratedSetPoints: freq_axis at 140094328785808>,\n",
       "  array([  0.,   1.,   2.,   3.,   4.,   5.,   6.,   7.,   8.,   9.,  10.,\n",
       "          11.,  12.,  13.,  14.,  15.,  16.,  17.,  18.,  19.,  20.,  21.,\n",
       "          22.,  23.,  24.,  25.,  26.,  27.,  28.,  29.,  30.,  31.,  32.,\n",
       "          33.,  34.,  35.,  36.,  37.,  38.,  39.,  40.,  41.,  42.,  43.,\n",
       "          44.,  45.,  46.,  47.,  48.,  49.,  50.,  51.,  52.,  53.,  54.,\n",
       "          55.,  56.,  57.,  58.,  59.,  60.,  61.,  62.,  63.,  64.,  65.,\n",
       "          66.,  67.,  68.,  69.,  70.,  71.,  72.,  73.,  74.,  75.,  76.,\n",
       "          77.,  78.,  79.,  80.,  81.,  82.,  83.,  84.,  85.,  86.,  87.,\n",
       "          88.,  89.,  90.,  91.,  92.,  93.,  94.,  95.,  96.,  97.,  98.,\n",
       "          99., 100., 101., 102., 103., 104., 105., 106., 107., 108., 109.,\n",
       "         110., 111., 112., 113., 114., 115., 116., 117., 118., 119., 120.,\n",
       "         121., 122., 123., 124., 125., 126., 127., 128., 129., 130., 131.,\n",
       "         132., 133., 134., 135., 136., 137., 138., 139., 140., 141., 142.,\n",
       "         143., 144., 145., 146., 147., 148., 149., 150., 151., 152., 153.,\n",
       "         154., 155., 156., 157., 158., 159., 160., 161., 162., 163., 164.,\n",
       "         165., 166., 167., 168., 169., 170., 171., 172., 173., 174., 175.,\n",
       "         176., 177., 178., 179., 180., 181., 182., 183., 184., 185., 186.,\n",
       "         187., 188., 189., 190., 191., 192., 193., 194., 195., 196., 197.,\n",
       "         198., 199., 200., 201., 202., 203., 204., 205., 206., 207., 208.,\n",
       "         209., 210., 211., 212., 213., 214., 215., 216., 217., 218., 219.,\n",
       "         220., 221., 222., 223., 224., 225., 226., 227., 228., 229., 230.,\n",
       "         231., 232., 233., 234., 235., 236., 237., 238., 239., 240., 241.,\n",
       "         242., 243., 244., 245., 246., 247., 248., 249., 250., 251., 252.,\n",
       "         253., 254., 255., 256., 257., 258., 259., 260., 261., 262., 263.,\n",
       "         264., 265., 266., 267., 268., 269., 270., 271., 272., 273., 274.,\n",
       "         275., 276., 277., 278., 279., 280., 281., 282., 283., 284., 285.,\n",
       "         286., 287., 288., 289., 290., 291., 292., 293., 294., 295., 296.,\n",
       "         297., 298., 299., 300., 301., 302., 303., 304., 305., 306., 307.,\n",
       "         308., 309., 310., 311., 312., 313., 314., 315., 316., 317., 318.,\n",
       "         319., 320., 321., 322., 323., 324., 325., 326., 327., 328., 329.,\n",
       "         330., 331., 332., 333., 334., 335., 336., 337., 338., 339., 340.,\n",
       "         341., 342., 343., 344., 345., 346., 347., 348., 349., 350., 351.,\n",
       "         352., 353., 354., 355., 356., 357., 358., 359., 360., 361., 362.,\n",
       "         363., 364., 365., 366., 367., 368., 369., 370., 371., 372., 373.,\n",
       "         374., 375., 376., 377., 378., 379., 380., 381., 382., 383., 384.,\n",
       "         385., 386., 387., 388., 389., 390., 391., 392., 393., 394., 395.,\n",
       "         396., 397., 398., 399., 400., 401., 402., 403., 404., 405., 406.,\n",
       "         407., 408., 409., 410., 411., 412., 413., 414., 415., 416., 417.,\n",
       "         418., 419., 420., 421., 422., 423., 424., 425., 426., 427., 428.,\n",
       "         429., 430., 431., 432., 433., 434., 435., 436., 437., 438., 439.,\n",
       "         440., 441., 442., 443., 444., 445., 446., 447., 448., 449., 450.,\n",
       "         451., 452., 453., 454., 455., 456., 457., 458., 459., 460., 461.,\n",
       "         462., 463., 464., 465., 466., 467., 468., 469., 470., 471., 472.,\n",
       "         473., 474., 475., 476., 477., 478., 479., 480., 481., 482., 483.,\n",
       "         484., 485., 486., 487., 488., 489., 490., 491., 492., 493., 494.,\n",
       "         495., 496., 497., 498., 499., 500.])),\n",
       " (<__main__.DummyArray: spectrum at 140094328785232>,\n",
       "  array([1.87313901e-01, 8.19139109e-01, 6.95736907e-01, 7.56514755e-01,\n",
       "         3.38112415e-01, 9.87452988e-01, 9.15272998e-01, 1.78330833e-01,\n",
       "         8.42390258e-01, 3.68558445e-01, 1.18735775e-01, 3.78994044e-01,\n",
       "         1.95316379e-01, 4.90525943e-01, 3.75013753e-01, 3.58313372e-01,\n",
       "         8.51781182e-01, 6.06530861e-01, 4.92888670e-01, 8.83800922e-01,\n",
       "         6.92910674e-01, 3.15644991e-01, 5.05632404e-01, 2.05891530e-03,\n",
       "         1.95066138e-01, 8.46133099e-02, 8.67207960e-01, 3.46975847e-01,\n",
       "         4.87111921e-01, 5.48844123e-01, 4.78821473e-01, 5.11703169e-01,\n",
       "         1.48740504e-01, 2.75389383e-01, 7.76681761e-01, 3.22547569e-01,\n",
       "         2.32042302e-01, 1.65120118e-01, 6.82669765e-02, 9.09330279e-01,\n",
       "         2.46346455e-01, 2.25858415e-02, 6.90525443e-01, 7.78611982e-01,\n",
       "         7.42323746e-01, 6.55807774e-01, 1.97205972e-01, 2.81059945e-01,\n",
       "         9.15909477e-01, 5.82848733e-01, 8.54998046e-01, 9.91558129e-01,\n",
       "         8.60711241e-01, 1.33959600e-01, 1.16441014e-01, 2.71136870e-01,\n",
       "         9.19553940e-01, 3.79697540e-02, 8.76615654e-01, 7.74816671e-01,\n",
       "         3.94866356e-01, 3.80550536e-02, 6.31346759e-01, 5.88969169e-01,\n",
       "         5.51845553e-02, 1.98133151e-01, 2.69379012e-02, 1.73055172e-01,\n",
       "         6.66882410e-01, 4.02952818e-01, 7.72761705e-01, 9.53654259e-01,\n",
       "         6.85213047e-01, 6.35685362e-01, 6.75251625e-01, 3.38099442e-01,\n",
       "         8.06150779e-02, 8.31090096e-01, 1.17241691e-01, 7.43176558e-01,\n",
       "         9.03883285e-02, 7.46820915e-01, 8.65180063e-01, 1.29635688e-01,\n",
       "         3.75861686e-01, 1.87748123e-01, 9.51297431e-01, 4.43620053e-01,\n",
       "         6.50993170e-01, 1.57127655e-01, 2.28492356e-01, 5.94956838e-01,\n",
       "         2.61874214e-01, 2.33118561e-01, 9.53289741e-01, 5.15414169e-01,\n",
       "         8.32871741e-01, 6.33534758e-01, 7.03299607e-01, 4.03892439e-01,\n",
       "         3.51749784e-01, 5.04755647e-01, 3.14659457e-01, 4.17691112e-01,\n",
       "         9.08362773e-01, 2.59145413e-02, 1.61733577e-01, 4.56024583e-01,\n",
       "         2.76489350e-01, 2.94021114e-01, 4.37516576e-01, 7.93544737e-01,\n",
       "         8.22626104e-01, 6.60049620e-01, 6.93690562e-01, 4.38221430e-01,\n",
       "         6.49355810e-01, 5.74936286e-01, 6.26430281e-01, 4.64605797e-01,\n",
       "         1.03598547e-03, 3.87530025e-01, 6.15923059e-03, 3.26488221e-01,\n",
       "         8.71261292e-01, 3.69731053e-01, 8.39723178e-01, 8.14576564e-01,\n",
       "         4.31193372e-01, 2.25564513e-01, 9.71923724e-01, 3.48539794e-01,\n",
       "         8.22199378e-02, 7.41586652e-01, 2.59602025e-01, 3.79747703e-01,\n",
       "         1.48631485e-01, 8.53658389e-01, 3.26182829e-01, 9.17887197e-01,\n",
       "         1.78909105e-01, 6.78057867e-01, 7.08941335e-02, 2.42036148e-02,\n",
       "         2.28056094e-01, 9.58111440e-01, 4.33382174e-01, 2.51148975e-01,\n",
       "         3.89110417e-01, 8.10327609e-01, 3.03815478e-01, 3.13823607e-01,\n",
       "         5.98259797e-01, 7.66577920e-01, 4.74712598e-01, 2.24500561e-01,\n",
       "         1.14597102e-04, 6.42033107e-01, 3.89358871e-01, 5.44097581e-01,\n",
       "         3.62909810e-01, 1.40357796e-01, 3.30494869e-01, 5.25514431e-01,\n",
       "         8.89990059e-01, 5.58520894e-02, 9.69267476e-01, 3.19030595e-01,\n",
       "         1.93016046e-01, 9.77329076e-01, 8.77944755e-01, 2.39884166e-01,\n",
       "         8.34044219e-01, 2.17124231e-01, 7.35179519e-01, 4.06006030e-01,\n",
       "         8.93693414e-01, 3.31678457e-01, 1.32114017e-01, 4.20587922e-01,\n",
       "         8.66837667e-01, 1.81072880e-01, 8.99985818e-01, 7.96985446e-01,\n",
       "         7.37475288e-01, 7.80659378e-01, 9.84005225e-01, 8.96266097e-01,\n",
       "         6.28630150e-01, 3.90573622e-02, 7.84661800e-01, 8.94044457e-01,\n",
       "         9.76433974e-01, 8.25473312e-01, 4.20251048e-01, 1.34011516e-01,\n",
       "         9.05617955e-01, 7.28147712e-01, 7.69545244e-01, 5.73779478e-01,\n",
       "         9.13788096e-01, 8.24524474e-01, 7.43481006e-01, 5.57426681e-01,\n",
       "         7.29845273e-01, 7.36025775e-01, 9.82839690e-01, 1.22145911e-01,\n",
       "         3.04511110e-01, 8.56815454e-01, 1.91758434e-01, 8.04190754e-01,\n",
       "         6.81762451e-01, 4.24941149e-01, 4.13224637e-01, 3.43748439e-01,\n",
       "         1.72354966e-01, 6.15926903e-01, 4.75581699e-01, 8.11017750e-01,\n",
       "         5.50413139e-01, 2.22723958e-01, 8.50842937e-01, 7.42182067e-01,\n",
       "         9.44250745e-01, 5.58349251e-01, 3.99882080e-01, 3.05468223e-01,\n",
       "         3.20044763e-01, 2.33107519e-02, 5.70596711e-01, 5.32014437e-01,\n",
       "         7.46492960e-01, 9.01059910e-01, 5.42659219e-01, 9.63543102e-01,\n",
       "         7.83728158e-01, 8.52150536e-01, 4.00014849e-01, 4.75059263e-01,\n",
       "         5.02774631e-01, 3.35294485e-02, 3.50375774e-01, 9.35121535e-01,\n",
       "         5.64825004e-01, 2.04059230e-01, 3.52297754e-01, 8.12424312e-01,\n",
       "         6.14281505e-01, 5.22385982e-01, 6.73012097e-01, 1.42064567e-01,\n",
       "         5.32287144e-01, 8.41037685e-01, 5.06138652e-01, 6.35786386e-01,\n",
       "         1.33282490e-01, 8.57121428e-01, 6.41204989e-01, 4.67698614e-01,\n",
       "         9.31381834e-01, 8.49800363e-01, 3.03829483e-01, 2.29095888e-01,\n",
       "         3.51783666e-01, 4.07245085e-01, 2.69885623e-01, 4.31616505e-01,\n",
       "         8.94919061e-01, 1.07467877e-01, 2.68041132e-01, 2.11991553e-01,\n",
       "         8.34094047e-01, 7.78246730e-01, 2.65311731e-01, 1.74077168e-01,\n",
       "         6.33140162e-01, 1.99649220e-02, 3.01457950e-01, 1.78035294e-01,\n",
       "         9.32968098e-01, 9.11345534e-01, 1.46586338e-01, 2.18207735e-01,\n",
       "         4.83764700e-01, 8.38631133e-01, 2.79979447e-01, 1.50368339e-01,\n",
       "         1.51726594e-03, 1.41873089e-01, 9.65214655e-01, 1.85948398e-01,\n",
       "         4.10182341e-01, 4.60668218e-01, 7.28103502e-01, 5.43859590e-01,\n",
       "         2.96616312e-01, 3.31182106e-01, 6.28095625e-01, 7.35869540e-01,\n",
       "         3.06263693e-01, 6.00284723e-01, 4.83194391e-02, 3.75161227e-01,\n",
       "         1.46192012e-01, 3.72690948e-01, 2.11550794e-01, 6.05926310e-01,\n",
       "         1.95956935e-01, 1.45714753e-01, 4.41497766e-01, 8.88193391e-01,\n",
       "         2.89542382e-01, 5.14985448e-01, 5.78448790e-02, 8.67736925e-01,\n",
       "         5.73570859e-01, 6.46975018e-02, 3.39652925e-01, 5.80992805e-01,\n",
       "         1.98316477e-01, 2.25487075e-01, 2.67370694e-01, 3.60303724e-01,\n",
       "         3.68804588e-01, 7.09011744e-01, 1.97288825e-01, 3.35968229e-01,\n",
       "         6.93568535e-01, 9.20077420e-01, 2.37801349e-01, 7.07186137e-01,\n",
       "         5.77960666e-01, 1.09306390e-01, 6.71984121e-01, 5.79008727e-01,\n",
       "         7.09963838e-01, 4.84684232e-01, 1.39041227e-02, 7.25746383e-01,\n",
       "         7.91936380e-02, 7.12380315e-01, 8.20259290e-01, 7.98460176e-01,\n",
       "         8.07058972e-01, 4.34008129e-01, 2.78916463e-01, 7.72448496e-01,\n",
       "         7.74271066e-01, 2.81098737e-01, 6.98906775e-02, 5.27240977e-01,\n",
       "         5.75066136e-01, 2.27754273e-01, 7.64903478e-01, 1.14362753e-01,\n",
       "         7.12032961e-01, 3.12318810e-01, 1.75206448e-01, 1.00789514e-01,\n",
       "         7.95763619e-01, 4.69054005e-01, 1.35487242e-02, 3.19201162e-01,\n",
       "         9.54554929e-01, 8.66650617e-01, 1.56785384e-01, 2.47474303e-01,\n",
       "         3.01146108e-01, 3.05318215e-01, 5.82379152e-01, 9.18481029e-01,\n",
       "         9.15298202e-01, 9.45594032e-01, 3.07095344e-01, 2.70455121e-01,\n",
       "         7.14058121e-01, 6.07473514e-02, 8.95831945e-01, 6.80600649e-01,\n",
       "         3.38090668e-01, 1.83878642e-01, 7.15162807e-01, 3.43945661e-01,\n",
       "         9.73169701e-01, 7.64940710e-01, 3.34175754e-01, 6.52620351e-01,\n",
       "         3.54404507e-01, 5.47154918e-01, 4.13698427e-01, 6.82820815e-01,\n",
       "         7.15134351e-01, 4.49379284e-01, 9.19950352e-01, 2.56059089e-01,\n",
       "         7.80764996e-01, 3.59890858e-02, 3.60634180e-01, 8.18565631e-01,\n",
       "         4.98669148e-01, 5.85986796e-01, 8.64017812e-01, 6.94737874e-01,\n",
       "         4.08714284e-01, 7.30947912e-01, 1.47253389e-01, 5.24764805e-01,\n",
       "         1.69894237e-01, 9.74436302e-01, 9.38632881e-01, 7.70975910e-01,\n",
       "         5.56538754e-01, 5.78549763e-01, 2.53502464e-02, 2.84018112e-01,\n",
       "         1.44102071e-01, 4.55304868e-01, 6.80684748e-01, 4.06576464e-01,\n",
       "         7.05550633e-01, 2.49353850e-01, 3.02787926e-01, 9.61606739e-01,\n",
       "         9.18158002e-01, 3.13249646e-02, 7.00842588e-01, 4.70734177e-01,\n",
       "         3.30500100e-01, 9.42558512e-01, 1.69957680e-01, 2.97257952e-01,\n",
       "         3.97250648e-01, 6.30829462e-01, 9.46638000e-02, 4.28711141e-01,\n",
       "         9.01835179e-01, 6.08606303e-02, 7.74757259e-01, 8.94910102e-01,\n",
       "         9.27408424e-02, 4.02209816e-01, 4.75363528e-02, 8.96576270e-01,\n",
       "         9.08762325e-01, 5.77376824e-01, 1.65351164e-01, 5.85780094e-01,\n",
       "         6.63063369e-01, 6.95597398e-01, 8.93357154e-01, 3.71381364e-01,\n",
       "         4.79881439e-01, 7.04903340e-01, 4.36887888e-01, 6.82397480e-01,\n",
       "         8.86943292e-01, 2.81834797e-01, 1.35518984e-01, 2.70982071e-01,\n",
       "         7.63573647e-01, 3.12955702e-01, 8.07969527e-01, 7.85292990e-01,\n",
       "         8.88061933e-02, 8.83863043e-01, 8.61583953e-01, 5.31089405e-01,\n",
       "         3.57411125e-01, 6.38407801e-01, 2.88274474e-02, 4.22679752e-01,\n",
       "         2.51491116e-01, 4.30292799e-01, 7.94691392e-01, 2.47646257e-01,\n",
       "         5.21548413e-01, 2.72531479e-01, 7.95554543e-01, 3.57271357e-01,\n",
       "         4.17490194e-01, 1.10441906e-03, 9.69081490e-01, 1.78756058e-01,\n",
       "         1.55883284e-01, 4.24951940e-01, 8.98268306e-01, 8.07525073e-01,\n",
       "         9.78215206e-01, 1.72713629e-01, 7.20110970e-01, 3.79399366e-01,\n",
       "         2.51273326e-01, 3.75358184e-01, 7.94915198e-01, 1.80549602e-01,\n",
       "         2.06185064e-02, 9.42249046e-01, 4.47181166e-01, 3.38647122e-01,\n",
       "         5.20287263e-01]))]"
      ]
     },
     "execution_count": 20,
     "metadata": {},
     "output_type": "execute_result"
    }
   ],
   "source": [
    "expand_setpoints_helper(a.spectrum)"
   ]
  },
  {
   "cell_type": "code",
   "execution_count": 21,
   "metadata": {},
   "outputs": [
    {
     "name": "stdout",
     "output_type": "stream",
     "text": [
      "Starting experimental run with id: 2. \n"
     ]
    }
   ],
   "source": [
    "meas = Measurement()\n",
    "meas.register_parameter(a.spectrum)\n",
    "\n",
    "with meas.run() as datasaver:\n",
    "    datasaver.add_result(*expand_setpoints_helper(a.spectrum))\n",
    "    \n",
    "    dataid = datasaver.run_id"
   ]
  },
  {
   "cell_type": "code",
   "execution_count": null,
   "metadata": {},
   "outputs": [],
   "source": []
  }
 ],
 "metadata": {
  "kernelspec": {
   "display_name": "Python 3",
   "language": "python",
   "name": "python3"
  },
  "language_info": {
   "codemirror_mode": {
    "name": "ipython",
    "version": 3
   },
   "file_extension": ".py",
   "mimetype": "text/x-python",
   "name": "python",
   "nbconvert_exporter": "python",
   "pygments_lexer": "ipython3",
   "version": "3.7.7"
  },
  "toc": {
   "base_numbering": 1,
   "nav_menu": {},
   "number_sections": true,
   "sideBar": true,
   "skip_h1_title": false,
   "title_cell": "Table of Contents",
   "title_sidebar": "Contents",
   "toc_cell": false,
   "toc_position": {},
   "toc_section_display": true,
   "toc_window_display": false
  },
  "varInspector": {
   "cols": {
    "lenName": 16,
    "lenType": 16,
    "lenVar": 40
   },
   "kernels_config": {
    "python": {
     "delete_cmd_postfix": "",
     "delete_cmd_prefix": "del ",
     "library": "var_list.py",
     "varRefreshCmd": "print(var_dic_list())"
    },
    "r": {
     "delete_cmd_postfix": ") ",
     "delete_cmd_prefix": "rm(",
     "library": "var_list.r",
     "varRefreshCmd": "cat(var_dic_list()) "
    }
   },
   "types_to_exclude": [
    "module",
    "function",
    "builtin_function_or_method",
    "instance",
    "_Feature"
   ],
   "window_display": false
  }
 },
 "nbformat": 4,
 "nbformat_minor": 2
}
