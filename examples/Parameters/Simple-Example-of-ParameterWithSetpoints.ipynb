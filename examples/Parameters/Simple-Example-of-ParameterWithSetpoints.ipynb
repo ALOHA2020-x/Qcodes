{
 "cells": [
  {
   "cell_type": "markdown",
   "metadata": {},
   "source": [
    "# Simple Example of ParameterWithSetpoints\n",
    "This notebook provides an example for writing a simple driver with a parameter that has setpoints. Let's name this parameter that has setpoints as \"y\". Then, the setpoints, say \"x1, x2, x3 ..\", are the parameters on which the parameter \n",
    "\"y\" depends upon. Meaning \"y\" is a function of \"x1, x2, x3 ...\" where \"x1, x2, x3 ...\" are known as the setpoints of parameter \"y\".\n",
    "\n",
    "This is most likely to be useful for instruments that return arrays of results. In this notebook, we will show an example of this."
   ]
  },
  {
   "cell_type": "code",
   "execution_count": 1,
   "metadata": {},
   "outputs": [],
   "source": [
    "import numpy as np\n",
    "import os"
   ]
  },
  {
   "cell_type": "code",
   "execution_count": 2,
   "metadata": {},
   "outputs": [
    {
     "name": "stdout",
     "output_type": "stream",
     "text": [
      "Logging hadn't been started.\n",
      "Activating auto-logging. Current session state plus future input saved.\n",
      "Filename       : /home/vsts/.qcodes/logs/command_history.log\n",
      "Mode           : append\n",
      "Output logging : True\n",
      "Raw input log  : False\n",
      "Timestamping   : True\n",
      "State          : active\n"
     ]
    },
    {
     "name": "stdout",
     "output_type": "stream",
     "text": [
      "Qcodes Logfile : /home/vsts/.qcodes/logs/200518-22001-qcodes.log\n"
     ]
    }
   ],
   "source": [
    "from qcodes.dataset.plotting import plot_dataset\n",
    "from qcodes.utils.validators import Numbers, Arrays\n",
    "from qcodes.instrument.base import Instrument\n",
    "from qcodes.dataset.measurements import Measurement"
   ]
  },
  {
   "cell_type": "code",
   "execution_count": 3,
   "metadata": {},
   "outputs": [],
   "source": [
    "from qcodes.dataset.sqlite.database import initialise_or_create_database_at\n",
    "from qcodes.dataset.experiment_container import load_or_create_experiment"
   ]
  },
  {
   "cell_type": "code",
   "execution_count": 4,
   "metadata": {},
   "outputs": [],
   "source": [
    "from qcodes.instrument.parameter import ParameterWithSetpoints, Parameter\n",
    "from qcodes.instrument.parameter import expand_setpoints_helper"
   ]
  },
  {
   "cell_type": "markdown",
   "metadata": {},
   "source": [
    "First, we define a dummy instrument that returns something like a frequency spectrum starting from a frequency given by `f_start` to a frequency given by `f_stop` in `n_points` steps. \n",
    "\n",
    "The extra functionality of the `ParameterWithSetpoints` is implemented by giving it a reference to one or more parameters that acts like its setpoints. \n",
    "\n",
    "To setup a `ParameterWithSetpoints` we have to do two things in addition to what we do for a normal parameter.\n",
    "\n",
    "* Define one or more parameter for the setpoints (one for each dimension of the array and let the `ParameterWithSetpoints` know that these are the setpoints.\n",
    "* Give both the setpoints parameter(s) and the `ParameterWithSetpoints` a `validator` of type `Arrays` with a shape. The shapes should be such that the combined shape of the setpoints matches the shape of the `ParameterWithSetpoints`. Note that if the shape changes with the setting of the instrument, it can be defined by another parameter as shown below. "
   ]
  },
  {
   "cell_type": "code",
   "execution_count": 5,
   "metadata": {},
   "outputs": [],
   "source": [
    "class GeneratedSetPoints(Parameter):\n",
    "    \"\"\"\n",
    "    A parameter that generates a setpoint array from start, stop and num points\n",
    "    parameters.\n",
    "    \"\"\"\n",
    "    def __init__(self, startparam, stopparam, numpointsparam, *args, **kwargs):\n",
    "        super().__init__(*args, **kwargs)\n",
    "        self._startparam = startparam\n",
    "        self._stopparam = stopparam\n",
    "        self._numpointsparam = numpointsparam\n",
    "\n",
    "    def get_raw(self):\n",
    "        return np.linspace(self._startparam(), self._stopparam(),\n",
    "                              self._numpointsparam())\n",
    "\n",
    "class DummyArray(ParameterWithSetpoints):\n",
    "    \n",
    "    def get_raw(self):\n",
    "        npoints = self.root_instrument.n_points.get_latest()\n",
    "        return np.random.rand(npoints)\n",
    "    \n",
    "\n",
    "class DummySpectrumAnalyzer(Instrument):\n",
    "    \n",
    "    def __init__(self, name, **kwargs):\n",
    "        \n",
    "        super().__init__(name, **kwargs)\n",
    "            \n",
    "\n",
    "        self.add_parameter('f_start',\n",
    "                           initial_value=0,\n",
    "                           unit='Hz',\n",
    "                           label='f start',\n",
    "                           vals=Numbers(0,1e3),\n",
    "                           get_cmd=None,\n",
    "                           set_cmd=None)\n",
    "\n",
    "        self.add_parameter('f_stop',\n",
    "                           unit='Hz',\n",
    "                           label='f stop',\n",
    "                           vals=Numbers(1,1e3),\n",
    "                           get_cmd=None,\n",
    "                           set_cmd=None)\n",
    "\n",
    "        self.add_parameter('n_points',\n",
    "                           unit='',\n",
    "                           initial_value=10,\n",
    "                           vals=Numbers(1,1e3),\n",
    "                           get_cmd=None,\n",
    "                           set_cmd=None)\n",
    "        \n",
    "        self.add_parameter('freq_axis',\n",
    "                           unit='Hz',\n",
    "                           label='Freq Axis',\n",
    "                           parameter_class=GeneratedSetPoints,\n",
    "                           startparam=self.f_start,\n",
    "                           stopparam=self.f_stop,\n",
    "                           numpointsparam=self.n_points,\n",
    "                           vals=Arrays(shape=(self.n_points.get_latest,)))\n",
    "                           \n",
    "        self.add_parameter('spectrum',\n",
    "                   unit='dBm',\n",
    "                   setpoints=(self.freq_axis,),\n",
    "                   label='Spectrum',\n",
    "                   parameter_class=DummyArray,\n",
    "                   vals=Arrays(shape=(self.n_points.get_latest,)))\n",
    "                "
   ]
  },
  {
   "cell_type": "markdown",
   "metadata": {},
   "source": [
    "In the above example, the shape is defined by the parameter `n_points` that defines how many samples our `DummySpectrumAnalyzer` returns.\n",
    "\n",
    "This means that the validation will call the function to get `n_points` twice for each `get` of the parameter. This may be too slow, however, if you (as the driver-writer) can guarantee that the cached value for `n_points` will never be out of sync with the value stored in the instrument, `n_points` may be replaced by it's latest known value such that the `validator` reads:\n",
    "```python\n",
    "vals=Arrays(shape=(self.n_points.get_latest))\n",
    "```\n",
    "\n",
    "This avoids any additional call to the instrument. In the same way, the arguments to the `freq_axis` parameter that defines the start, stop and number of points can be replaced by their latest value if the instrument allows it.\n",
    "\n"
   ]
  },
  {
   "cell_type": "code",
   "execution_count": 6,
   "metadata": {},
   "outputs": [
    {
     "name": "stdout",
     "output_type": "stream",
     "text": [
      "\r",
      "0it [00:00, ?it/s]"
     ]
    },
    {
     "name": "stdout",
     "output_type": "stream",
     "text": [
      "\r",
      "Upgrading database; v0 -> v1: : 0it [00:00, ?it/s]"
     ]
    },
    {
     "name": "stdout",
     "output_type": "stream",
     "text": [
      "\r",
      "Upgrading database; v0 -> v1: : 0it [00:00, ?it/s]"
     ]
    },
    {
     "name": "stdout",
     "output_type": "stream",
     "text": [
      "\n",
      "\r",
      "  0%|          | 0/1 [00:00<?, ?it/s]"
     ]
    },
    {
     "name": "stdout",
     "output_type": "stream",
     "text": [
      "\r",
      "Upgrading database; v1 -> v2:   0%|          | 0/1 [00:00<?, ?it/s]"
     ]
    },
    {
     "name": "stdout",
     "output_type": "stream",
     "text": [
      "\r",
      "Upgrading database; v1 -> v2: 100%|██████████| 1/1 [00:00<00:00, 961.11it/s]"
     ]
    },
    {
     "name": "stdout",
     "output_type": "stream",
     "text": [
      "\n",
      "\r",
      "0it [00:00, ?it/s]"
     ]
    },
    {
     "name": "stdout",
     "output_type": "stream",
     "text": [
      "\r",
      "Upgrading database; v2 -> v3: : 0it [00:00, ?it/s]"
     ]
    },
    {
     "name": "stdout",
     "output_type": "stream",
     "text": [
      "\r",
      "Upgrading database; v2 -> v3: : 0it [00:00, ?it/s]"
     ]
    },
    {
     "name": "stdout",
     "output_type": "stream",
     "text": [
      "\n",
      "\r",
      "0it [00:00, ?it/s]"
     ]
    },
    {
     "name": "stdout",
     "output_type": "stream",
     "text": [
      "\r",
      "Upgrading database; v3 -> v4: : 0it [00:00, ?it/s]"
     ]
    },
    {
     "name": "stdout",
     "output_type": "stream",
     "text": [
      "\r",
      "Upgrading database; v3 -> v4: : 0it [00:00, ?it/s]"
     ]
    },
    {
     "name": "stdout",
     "output_type": "stream",
     "text": [
      "\n",
      "\r",
      "  0%|          | 0/1 [00:00<?, ?it/s]"
     ]
    },
    {
     "name": "stdout",
     "output_type": "stream",
     "text": [
      "\r",
      "Upgrading database; v4 -> v5:   0%|          | 0/1 [00:00<?, ?it/s]"
     ]
    },
    {
     "name": "stdout",
     "output_type": "stream",
     "text": [
      "\r",
      "Upgrading database; v4 -> v5: 100%|██████████| 1/1 [00:00<00:00, 847.16it/s]"
     ]
    },
    {
     "name": "stdout",
     "output_type": "stream",
     "text": [
      "\n",
      "\r",
      "0it [00:00, ?it/s]"
     ]
    },
    {
     "name": "stdout",
     "output_type": "stream",
     "text": [
      "\r",
      "Upgrading database; v5 -> v6: : 0it [00:00, ?it/s]"
     ]
    },
    {
     "name": "stdout",
     "output_type": "stream",
     "text": [
      "\r",
      "Upgrading database; v5 -> v6: : 0it [00:00, ?it/s]"
     ]
    },
    {
     "name": "stdout",
     "output_type": "stream",
     "text": [
      "\n",
      "\r",
      "  0%|          | 0/1 [00:00<?, ?it/s]"
     ]
    },
    {
     "name": "stdout",
     "output_type": "stream",
     "text": [
      "\r",
      "Upgrading database; v6 -> v7:   0%|          | 0/1 [00:00<?, ?it/s]"
     ]
    },
    {
     "name": "stdout",
     "output_type": "stream",
     "text": [
      "\r",
      "Upgrading database; v6 -> v7: 100%|██████████| 1/1 [00:00<00:00, 464.07it/s]"
     ]
    },
    {
     "name": "stdout",
     "output_type": "stream",
     "text": [
      "\n",
      "\r",
      "  0%|          | 0/1 [00:00<?, ?it/s]"
     ]
    },
    {
     "name": "stdout",
     "output_type": "stream",
     "text": [
      "\r",
      "Upgrading database; v7 -> v8:   0%|          | 0/1 [00:00<?, ?it/s]"
     ]
    },
    {
     "name": "stdout",
     "output_type": "stream",
     "text": [
      "\r",
      "Upgrading database; v7 -> v8: 100%|██████████| 1/1 [00:00<00:00, 886.37it/s]"
     ]
    },
    {
     "name": "stdout",
     "output_type": "stream",
     "text": [
      "\n",
      "\r",
      "  0%|          | 0/1 [00:00<?, ?it/s]"
     ]
    },
    {
     "name": "stdout",
     "output_type": "stream",
     "text": [
      "\r",
      "Upgrading database; v8 -> v9:   0%|          | 0/1 [00:00<?, ?it/s]"
     ]
    },
    {
     "name": "stdout",
     "output_type": "stream",
     "text": [
      "\r",
      "Upgrading database; v8 -> v9: 100%|██████████| 1/1 [00:00<00:00, 927.53it/s]"
     ]
    },
    {
     "name": "stdout",
     "output_type": "stream",
     "text": [
      "\n"
     ]
    },
    {
     "data": {
      "text/plain": [
       "tutorial_ParameterWithSetpoints#no sample#1@/home/vsts/work/1/s/docs/examples/Parameters/tutorial_paramter_with_setpoints.db\n",
       "----------------------------------------------------------------------------------------------------------------------------"
      ]
     },
     "execution_count": 6,
     "metadata": {},
     "output_type": "execute_result"
    }
   ],
   "source": [
    "tutorial_db_path = os.path.join(os.getcwd(), 'tutorial_paramter_with_setpoints.db')\n",
    "initialise_or_create_database_at(tutorial_db_path)\n",
    "load_or_create_experiment(experiment_name='tutorial_ParameterWithSetpoints', sample_name=\"no sample\")"
   ]
  },
  {
   "cell_type": "code",
   "execution_count": 7,
   "metadata": {},
   "outputs": [],
   "source": [
    "a = DummySpectrumAnalyzer('foobar')"
   ]
  },
  {
   "cell_type": "markdown",
   "metadata": {},
   "source": [
    "First we setup the limits of the spectrum"
   ]
  },
  {
   "cell_type": "code",
   "execution_count": 8,
   "metadata": {},
   "outputs": [],
   "source": [
    "a.f_start(0)\n",
    "a.f_stop(500)\n",
    "a.n_points(501)"
   ]
  },
  {
   "cell_type": "markdown",
   "metadata": {},
   "source": [
    "And we can grab the frequency axis"
   ]
  },
  {
   "cell_type": "code",
   "execution_count": 9,
   "metadata": {},
   "outputs": [
    {
     "data": {
      "text/plain": [
       "501"
      ]
     },
     "execution_count": 9,
     "metadata": {},
     "output_type": "execute_result"
    }
   ],
   "source": [
    "a.n_points()"
   ]
  },
  {
   "cell_type": "code",
   "execution_count": 10,
   "metadata": {
    "scrolled": false
   },
   "outputs": [
    {
     "data": {
      "text/plain": [
       "501"
      ]
     },
     "execution_count": 10,
     "metadata": {},
     "output_type": "execute_result"
    }
   ],
   "source": [
    "freq_axis = a.freq_axis()\n",
    "len(freq_axis)"
   ]
  },
  {
   "cell_type": "code",
   "execution_count": 11,
   "metadata": {},
   "outputs": [
    {
     "data": {
      "text/plain": [
       "array([0., 1., 2., 3., 4., 5., 6., 7., 8., 9.])"
      ]
     },
     "execution_count": 11,
     "metadata": {},
     "output_type": "execute_result"
    }
   ],
   "source": [
    "freq_axis[:10]"
   ]
  },
  {
   "cell_type": "markdown",
   "metadata": {},
   "source": [
    "As expected we get a result wit 501 points as we asked for an axis with 501 points. "
   ]
  },
  {
   "cell_type": "markdown",
   "metadata": {},
   "source": [
    "Above we have added a validator to the `freq_axis` parameter encoding the fact that this is an Array with `n_points`. Note that we do not have to supply the number of points as an integer but can supply a function that returns the valid number of points. This would normally be a QCoDeS parameter.\n",
    "\n",
    "This will be checked if we validate the output."
   ]
  },
  {
   "cell_type": "code",
   "execution_count": 12,
   "metadata": {},
   "outputs": [],
   "source": [
    "a.freq_axis.validate(a.freq_axis.get())"
   ]
  },
  {
   "cell_type": "markdown",
   "metadata": {},
   "source": [
    "Naturally, we can also get the spectrum. Getting the spectrum will automatically perform validation both for the shape of the parameter itself and the relation to the setpoint parameter(s)"
   ]
  },
  {
   "cell_type": "code",
   "execution_count": 13,
   "metadata": {
    "scrolled": true
   },
   "outputs": [
    {
     "data": {
      "text/plain": [
       "501"
      ]
     },
     "execution_count": 13,
     "metadata": {},
     "output_type": "execute_result"
    }
   ],
   "source": [
    "spectrum = a.spectrum.get()\n",
    "len(spectrum)"
   ]
  },
  {
   "cell_type": "markdown",
   "metadata": {},
   "source": [
    "When we validate a `ParameterWithSetpoints`, we automatically validate that the shape is consistent between the parameters and its setpoints. As well as validating the shape as above."
   ]
  },
  {
   "cell_type": "code",
   "execution_count": 14,
   "metadata": {},
   "outputs": [],
   "source": [
    "a.spectrum.validate(a.spectrum.get())"
   ]
  },
  {
   "cell_type": "markdown",
   "metadata": {},
   "source": [
    "The consistent shapes can be validated explicitly."
   ]
  },
  {
   "cell_type": "code",
   "execution_count": 15,
   "metadata": {},
   "outputs": [],
   "source": [
    "a.spectrum.validate_consistent_shape()"
   ]
  },
  {
   "cell_type": "markdown",
   "metadata": {},
   "source": [
    "We can inspect the setpoints of the spectrum."
   ]
  },
  {
   "cell_type": "code",
   "execution_count": 16,
   "metadata": {},
   "outputs": [
    {
     "data": {
      "text/plain": [
       "(<__main__.GeneratedSetPoints: freq_axis at 139796952930064>,)"
      ]
     },
     "execution_count": 16,
     "metadata": {},
     "output_type": "execute_result"
    }
   ],
   "source": [
    "a.spectrum.setpoints"
   ]
  },
  {
   "cell_type": "markdown",
   "metadata": {},
   "source": [
    "Or even change them."
   ]
  },
  {
   "cell_type": "code",
   "execution_count": 17,
   "metadata": {},
   "outputs": [],
   "source": [
    "a.spectrum.setpoints = (a.freq_axis,)"
   ]
  },
  {
   "cell_type": "markdown",
   "metadata": {},
   "source": [
    "## Measurement"
   ]
  },
  {
   "cell_type": "markdown",
   "metadata": {},
   "source": [
    "We can also directly consume the parameter in a measurement without defining the setpoints of the parameter again. The setpoints are automatically obtained from the definition of the `ParameterWithSetpoint` instance. "
   ]
  },
  {
   "cell_type": "code",
   "execution_count": 18,
   "metadata": {},
   "outputs": [
    {
     "name": "stdout",
     "output_type": "stream",
     "text": [
      "Starting experimental run with id: 1. \n"
     ]
    }
   ],
   "source": [
    "meas = Measurement()\n",
    "meas.register_parameter(a.spectrum)\n",
    "\n",
    "with meas.run() as datasaver:\n",
    "    datasaver.add_result((a.freq_axis, a.freq_axis()),\n",
    "                         (a.spectrum, a.spectrum()))\n",
    "    dataset = datasaver.dataset"
   ]
  },
  {
   "cell_type": "markdown",
   "metadata": {},
   "source": [
    "And plot it"
   ]
  },
  {
   "cell_type": "code",
   "execution_count": 19,
   "metadata": {},
   "outputs": [
    {
     "data": {
      "text/plain": [
       "([<matplotlib.axes._subplots.AxesSubplot at 0x7f2503c34250>], [None])"
      ]
     },
     "execution_count": 19,
     "metadata": {},
     "output_type": "execute_result"
    },
    {
     "data": {
      "image/png": "[encoded data removed]",
      "text/plain": [
       "<Figure size 432x288 with 1 Axes>"
      ]
     },
     "metadata": {
      "needs_background": "light"
     },
     "output_type": "display_data"
    }
   ],
   "source": [
    "plot_dataset(dataset)"
   ]
  },
  {
   "cell_type": "markdown",
   "metadata": {},
   "source": [
    "To reduce the amount of typing a simple convenience function is provided that will take a `ParameterWithSetpoints` and get both its values and the setpoints values and return them as tuples for direct insertion into the Dataset."
   ]
  },
  {
   "cell_type": "code",
   "execution_count": 20,
   "metadata": {
    "scrolled": true
   },
   "outputs": [
    {
     "data": {
      "text/plain": [
       "[(<__main__.GeneratedSetPoints: freq_axis at 139796952930064>,\n",
       "  array([  0.,   1.,   2.,   3.,   4.,   5.,   6.,   7.,   8.,   9.,  10.,\n",
       "          11.,  12.,  13.,  14.,  15.,  16.,  17.,  18.,  19.,  20.,  21.,\n",
       "          22.,  23.,  24.,  25.,  26.,  27.,  28.,  29.,  30.,  31.,  32.,\n",
       "          33.,  34.,  35.,  36.,  37.,  38.,  39.,  40.,  41.,  42.,  43.,\n",
       "          44.,  45.,  46.,  47.,  48.,  49.,  50.,  51.,  52.,  53.,  54.,\n",
       "          55.,  56.,  57.,  58.,  59.,  60.,  61.,  62.,  63.,  64.,  65.,\n",
       "          66.,  67.,  68.,  69.,  70.,  71.,  72.,  73.,  74.,  75.,  76.,\n",
       "          77.,  78.,  79.,  80.,  81.,  82.,  83.,  84.,  85.,  86.,  87.,\n",
       "          88.,  89.,  90.,  91.,  92.,  93.,  94.,  95.,  96.,  97.,  98.,\n",
       "          99., 100., 101., 102., 103., 104., 105., 106., 107., 108., 109.,\n",
       "         110., 111., 112., 113., 114., 115., 116., 117., 118., 119., 120.,\n",
       "         121., 122., 123., 124., 125., 126., 127., 128., 129., 130., 131.,\n",
       "         132., 133., 134., 135., 136., 137., 138., 139., 140., 141., 142.,\n",
       "         143., 144., 145., 146., 147., 148., 149., 150., 151., 152., 153.,\n",
       "         154., 155., 156., 157., 158., 159., 160., 161., 162., 163., 164.,\n",
       "         165., 166., 167., 168., 169., 170., 171., 172., 173., 174., 175.,\n",
       "         176., 177., 178., 179., 180., 181., 182., 183., 184., 185., 186.,\n",
       "         187., 188., 189., 190., 191., 192., 193., 194., 195., 196., 197.,\n",
       "         198., 199., 200., 201., 202., 203., 204., 205., 206., 207., 208.,\n",
       "         209., 210., 211., 212., 213., 214., 215., 216., 217., 218., 219.,\n",
       "         220., 221., 222., 223., 224., 225., 226., 227., 228., 229., 230.,\n",
       "         231., 232., 233., 234., 235., 236., 237., 238., 239., 240., 241.,\n",
       "         242., 243., 244., 245., 246., 247., 248., 249., 250., 251., 252.,\n",
       "         253., 254., 255., 256., 257., 258., 259., 260., 261., 262., 263.,\n",
       "         264., 265., 266., 267., 268., 269., 270., 271., 272., 273., 274.,\n",
       "         275., 276., 277., 278., 279., 280., 281., 282., 283., 284., 285.,\n",
       "         286., 287., 288., 289., 290., 291., 292., 293., 294., 295., 296.,\n",
       "         297., 298., 299., 300., 301., 302., 303., 304., 305., 306., 307.,\n",
       "         308., 309., 310., 311., 312., 313., 314., 315., 316., 317., 318.,\n",
       "         319., 320., 321., 322., 323., 324., 325., 326., 327., 328., 329.,\n",
       "         330., 331., 332., 333., 334., 335., 336., 337., 338., 339., 340.,\n",
       "         341., 342., 343., 344., 345., 346., 347., 348., 349., 350., 351.,\n",
       "         352., 353., 354., 355., 356., 357., 358., 359., 360., 361., 362.,\n",
       "         363., 364., 365., 366., 367., 368., 369., 370., 371., 372., 373.,\n",
       "         374., 375., 376., 377., 378., 379., 380., 381., 382., 383., 384.,\n",
       "         385., 386., 387., 388., 389., 390., 391., 392., 393., 394., 395.,\n",
       "         396., 397., 398., 399., 400., 401., 402., 403., 404., 405., 406.,\n",
       "         407., 408., 409., 410., 411., 412., 413., 414., 415., 416., 417.,\n",
       "         418., 419., 420., 421., 422., 423., 424., 425., 426., 427., 428.,\n",
       "         429., 430., 431., 432., 433., 434., 435., 436., 437., 438., 439.,\n",
       "         440., 441., 442., 443., 444., 445., 446., 447., 448., 449., 450.,\n",
       "         451., 452., 453., 454., 455., 456., 457., 458., 459., 460., 461.,\n",
       "         462., 463., 464., 465., 466., 467., 468., 469., 470., 471., 472.,\n",
       "         473., 474., 475., 476., 477., 478., 479., 480., 481., 482., 483.,\n",
       "         484., 485., 486., 487., 488., 489., 490., 491., 492., 493., 494.,\n",
       "         495., 496., 497., 498., 499., 500.])),\n",
       " (<__main__.DummyArray: spectrum at 139796952928656>,\n",
       "  array([5.54665623e-01, 5.62073319e-01, 1.77471936e-01, 4.67825971e-01,\n",
       "         9.12202759e-01, 1.62803249e-01, 2.24075786e-01, 1.01286384e-01,\n",
       "         5.29707273e-01, 1.09690864e-04, 5.41499529e-01, 2.34754778e-02,\n",
       "         1.03302113e-01, 2.50923804e-02, 8.34618026e-01, 2.89974230e-01,\n",
       "         7.10917334e-01, 2.36609292e-01, 3.72379982e-01, 5.12346769e-01,\n",
       "         8.08817880e-01, 4.89980050e-01, 7.14700056e-01, 7.87110095e-01,\n",
       "         3.66723962e-01, 3.36515886e-01, 9.13076394e-01, 6.15435803e-01,\n",
       "         9.38041643e-01, 8.54190256e-01, 4.84542026e-01, 7.19361366e-01,\n",
       "         8.49208598e-01, 3.45318980e-01, 7.55324668e-01, 1.97676256e-01,\n",
       "         6.87746282e-01, 5.87363128e-01, 9.17094440e-02, 7.89477574e-01,\n",
       "         4.04884160e-01, 8.57423875e-01, 3.08374374e-01, 8.80763449e-01,\n",
       "         9.35124380e-01, 1.36710716e-01, 9.38968966e-01, 2.62839632e-01,\n",
       "         6.94460639e-01, 8.49196861e-01, 5.98454467e-01, 1.77444908e-01,\n",
       "         1.93611470e-01, 8.09717260e-01, 5.54027789e-02, 3.54514192e-02,\n",
       "         2.89696237e-01, 1.85088459e-01, 6.87267519e-01, 2.94350261e-01,\n",
       "         6.55766720e-01, 5.66965287e-01, 2.52998193e-01, 8.68907405e-01,\n",
       "         9.89770967e-01, 5.38367675e-02, 2.74207208e-01, 6.81271485e-01,\n",
       "         8.10444665e-01, 4.84346603e-02, 8.12357868e-01, 5.21832598e-01,\n",
       "         6.76817661e-01, 8.79447168e-01, 8.26351224e-01, 8.74266394e-01,\n",
       "         9.35417192e-01, 7.89182630e-02, 5.42092900e-02, 3.55622910e-01,\n",
       "         1.81306488e-01, 2.18527196e-01, 3.52098429e-01, 6.99461526e-01,\n",
       "         6.03509678e-01, 8.38887357e-02, 6.37270787e-01, 1.96012004e-01,\n",
       "         7.47638264e-01, 6.51883711e-01, 3.14924611e-01, 5.11223913e-01,\n",
       "         6.29938942e-01, 4.22727394e-01, 9.60449637e-01, 5.86948146e-01,\n",
       "         8.39759029e-01, 7.31255415e-01, 5.12315319e-01, 6.06729735e-01,\n",
       "         2.79888287e-01, 8.64012798e-01, 2.34440793e-01, 9.97469373e-03,\n",
       "         5.92085898e-02, 2.28245252e-02, 1.80751817e-01, 8.85365009e-01,\n",
       "         3.14931697e-02, 6.88437836e-02, 3.49675572e-01, 1.22748530e-01,\n",
       "         9.46726694e-01, 3.67044832e-01, 9.90454272e-01, 1.84297443e-01,\n",
       "         5.01860268e-01, 3.66607434e-01, 2.75090923e-01, 7.76704196e-02,\n",
       "         8.11299781e-01, 5.34234996e-01, 7.41170995e-02, 4.07476094e-01,\n",
       "         3.91247379e-01, 7.49127667e-01, 8.19090443e-01, 7.13326655e-01,\n",
       "         8.00189781e-01, 5.57294423e-01, 2.21594524e-01, 2.09353966e-01,\n",
       "         8.66783492e-01, 2.14733298e-01, 9.16093448e-01, 7.46125063e-01,\n",
       "         2.80083954e-01, 7.71317874e-01, 1.73677838e-01, 7.83193886e-01,\n",
       "         5.82155749e-01, 8.75817476e-01, 8.96081518e-01, 5.98031464e-01,\n",
       "         4.85571330e-01, 3.24911523e-01, 3.38803242e-01, 6.23510654e-01,\n",
       "         2.80553819e-01, 8.02247260e-01, 2.58644607e-01, 8.94173903e-01,\n",
       "         6.00646335e-01, 3.94796915e-02, 7.86348305e-01, 1.06568555e-02,\n",
       "         6.45735238e-01, 3.55742054e-01, 6.48088836e-01, 5.59548400e-01,\n",
       "         6.95798002e-02, 8.83548754e-01, 9.06137507e-01, 3.24276300e-01,\n",
       "         9.64919307e-01, 8.54688292e-01, 4.20179337e-01, 7.86294889e-01,\n",
       "         4.19498228e-01, 9.49493414e-01, 3.20691760e-01, 3.89529281e-01,\n",
       "         5.02226562e-01, 1.05254142e-01, 5.13221397e-01, 7.12694214e-01,\n",
       "         9.18299765e-01, 4.26265267e-01, 3.26145793e-01, 5.43120318e-01,\n",
       "         4.82995680e-01, 8.48050989e-01, 3.80381612e-01, 2.77953276e-02,\n",
       "         9.06946310e-01, 1.51018703e-02, 4.22966413e-01, 5.09010706e-01,\n",
       "         8.96404233e-01, 8.45578844e-01, 6.38005701e-01, 7.89807027e-01,\n",
       "         7.56217953e-01, 2.01850042e-01, 5.60729524e-02, 6.71669014e-01,\n",
       "         8.96361783e-01, 8.59769889e-01, 5.54003742e-01, 3.68511331e-03,\n",
       "         9.37553209e-01, 2.91091045e-01, 2.02554123e-01, 5.73348406e-01,\n",
       "         1.15550928e-01, 5.94053495e-01, 9.31853039e-01, 3.25411266e-01,\n",
       "         2.30787650e-02, 7.11652795e-01, 6.79650763e-01, 7.60591784e-02,\n",
       "         4.66772539e-01, 8.94242071e-01, 7.21486056e-01, 8.21059823e-01,\n",
       "         3.18597639e-01, 4.70960196e-01, 3.84858500e-02, 9.67676405e-01,\n",
       "         9.62693301e-01, 1.21369810e-01, 9.41504296e-01, 1.03013270e-01,\n",
       "         4.37610874e-02, 8.29459582e-01, 5.09087491e-01, 3.53811059e-01,\n",
       "         3.98984336e-01, 4.69695694e-01, 4.05879292e-01, 2.86777967e-01,\n",
       "         2.53134992e-01, 1.99875257e-03, 2.82126304e-01, 5.78212491e-01,\n",
       "         8.61586878e-01, 7.24326749e-01, 9.23767265e-01, 6.52243847e-01,\n",
       "         5.71731577e-01, 3.16285212e-01, 4.13684768e-01, 9.88272296e-01,\n",
       "         5.50770475e-01, 5.19132066e-01, 6.53462665e-01, 6.54666683e-01,\n",
       "         3.28138090e-01, 5.82613665e-01, 7.23846151e-01, 5.13767253e-01,\n",
       "         4.00057991e-01, 6.51201863e-01, 4.55267902e-01, 5.84452797e-01,\n",
       "         7.05128292e-02, 4.50462579e-02, 5.81135974e-01, 3.46209360e-01,\n",
       "         8.01237831e-01, 8.50477751e-01, 2.78887876e-01, 1.82981230e-01,\n",
       "         1.86661808e-01, 1.71983746e-01, 2.26089093e-01, 2.10542843e-01,\n",
       "         8.49017103e-01, 1.49199905e-01, 2.67236459e-01, 5.41167556e-01,\n",
       "         8.70332028e-01, 7.94939041e-01, 6.99377776e-01, 8.61352883e-01,\n",
       "         9.75340645e-01, 5.65179265e-01, 3.44273200e-01, 1.17962461e-01,\n",
       "         8.68604770e-01, 8.84236290e-01, 6.16616917e-01, 6.19323795e-02,\n",
       "         5.33664351e-01, 6.81685209e-01, 1.99097194e-01, 9.75550276e-01,\n",
       "         9.99776559e-01, 1.36174431e-01, 7.77398384e-02, 9.93890994e-01,\n",
       "         6.29581755e-01, 2.44579858e-01, 4.98377894e-01, 6.52234852e-01,\n",
       "         9.76406753e-01, 3.62167035e-02, 1.84347521e-01, 6.99095749e-02,\n",
       "         3.81413970e-01, 3.78692538e-01, 3.72958666e-01, 6.44976142e-01,\n",
       "         5.59353441e-01, 7.20053385e-01, 2.24899733e-01, 1.25707788e-01,\n",
       "         1.71022176e-01, 4.03567846e-01, 8.75929232e-02, 9.75875856e-01,\n",
       "         2.75125135e-02, 4.59892675e-01, 3.04717577e-01, 1.88331130e-01,\n",
       "         8.56953565e-01, 2.31026240e-01, 8.40180722e-01, 7.93010316e-01,\n",
       "         8.64857749e-01, 8.45894318e-01, 8.18253143e-01, 8.55250998e-01,\n",
       "         4.97761215e-01, 7.02506437e-01, 8.83466665e-01, 5.51612125e-01,\n",
       "         9.63480349e-02, 7.74421631e-01, 9.82119994e-02, 7.30464061e-01,\n",
       "         5.36125181e-01, 5.45361887e-01, 1.14039237e-01, 1.51335577e-01,\n",
       "         4.30445771e-02, 4.11057058e-01, 2.34904065e-01, 8.07254404e-01,\n",
       "         2.97121908e-01, 1.14196212e-02, 9.50221550e-01, 1.51443697e-01,\n",
       "         6.78026104e-01, 1.39487820e-01, 1.68275179e-01, 8.22794809e-01,\n",
       "         3.03174120e-01, 6.12496257e-01, 9.34126397e-01, 1.60822944e-01,\n",
       "         3.67826925e-01, 6.65567804e-01, 9.57319708e-01, 6.91700592e-01,\n",
       "         5.72614957e-01, 5.92496463e-01, 2.26290847e-01, 9.11794518e-01,\n",
       "         3.30346589e-02, 7.58020559e-01, 9.32147574e-02, 9.35253542e-01,\n",
       "         2.36980573e-01, 7.62758804e-01, 9.87821944e-01, 9.50176003e-01,\n",
       "         5.38584271e-03, 3.02956887e-02, 2.76088293e-02, 8.18178996e-01,\n",
       "         4.55968311e-01, 2.03279685e-01, 8.97373855e-01, 8.27904200e-01,\n",
       "         2.37863127e-01, 4.11892528e-01, 4.32595407e-01, 9.60177031e-01,\n",
       "         2.15892717e-01, 3.18064314e-01, 2.51629354e-01, 6.76657561e-01,\n",
       "         2.92374529e-01, 6.44281086e-01, 4.40295448e-01, 6.70913841e-01,\n",
       "         3.59371102e-01, 6.77055254e-01, 1.50176141e-01, 8.00142917e-01,\n",
       "         8.10640471e-01, 4.09892077e-01, 2.29111806e-01, 2.99175632e-01,\n",
       "         1.81783800e-01, 8.91059024e-01, 9.61789975e-01, 9.90145124e-01,\n",
       "         3.60076603e-01, 4.26854249e-01, 3.68611325e-01, 3.91647741e-01,\n",
       "         9.57664945e-01, 3.36221182e-01, 4.92141125e-01, 6.69512204e-02,\n",
       "         2.76976760e-01, 4.69298340e-02, 1.54084585e-01, 6.92272043e-01,\n",
       "         3.33763541e-02, 3.48232712e-01, 6.96129455e-01, 9.73087386e-01,\n",
       "         7.57007533e-01, 5.31933944e-01, 8.35550975e-01, 4.68805385e-01,\n",
       "         4.35513355e-01, 9.43374594e-01, 6.23539307e-01, 4.59561841e-01,\n",
       "         9.71942631e-01, 3.94074981e-01, 5.86054978e-01, 2.93332439e-01,\n",
       "         7.76500724e-01, 9.08066284e-01, 5.28842215e-01, 9.68805338e-02,\n",
       "         4.02004356e-01, 5.19799530e-01, 8.02135729e-01, 2.21007067e-01,\n",
       "         7.11782572e-01, 2.91414487e-01, 7.07393717e-01, 5.68650706e-02,\n",
       "         6.32635454e-01, 6.41985651e-01, 9.93486522e-01, 3.24884759e-01,\n",
       "         1.87366344e-01, 5.00011402e-01, 2.21395647e-01, 8.74782841e-01,\n",
       "         7.27892893e-01, 1.12656045e-01, 2.97057460e-01, 6.06545197e-01,\n",
       "         1.73449009e-01, 2.33336299e-01, 3.71833116e-01, 7.05413504e-02,\n",
       "         1.90475129e-01, 7.18248639e-01, 5.73033213e-01, 9.69406495e-01,\n",
       "         4.97027685e-01, 8.38367939e-01, 9.96096879e-01, 6.23705279e-01,\n",
       "         4.41088231e-02, 2.49648074e-02, 2.32190293e-01, 8.50883605e-01,\n",
       "         1.09863419e-01, 1.22422177e-01, 6.32424844e-01, 8.88668601e-01,\n",
       "         2.29363874e-01, 1.09392569e-01, 7.31517758e-01, 8.37456441e-01,\n",
       "         5.30812408e-01, 7.87701999e-01, 8.87655072e-01, 3.65192385e-01,\n",
       "         6.36047845e-01, 2.77977153e-02, 4.07274120e-01, 6.09934489e-01,\n",
       "         4.17934828e-01, 2.81675681e-01, 3.10258587e-01, 7.03518903e-01,\n",
       "         6.16705600e-01, 9.16288989e-01, 4.57736960e-02, 9.98226446e-01,\n",
       "         7.70764212e-01, 1.73791190e-01, 2.10325421e-01, 8.58579207e-01,\n",
       "         4.62184116e-01, 5.92881204e-02, 3.20073493e-01, 1.15652244e-01,\n",
       "         3.34752984e-01]))]"
      ]
     },
     "execution_count": 20,
     "metadata": {},
     "output_type": "execute_result"
    }
   ],
   "source": [
    "expand_setpoints_helper(a.spectrum)"
   ]
  },
  {
   "cell_type": "code",
   "execution_count": 21,
   "metadata": {},
   "outputs": [
    {
     "name": "stdout",
     "output_type": "stream",
     "text": [
      "Starting experimental run with id: 2. \n"
     ]
    }
   ],
   "source": [
    "meas = Measurement()\n",
    "meas.register_parameter(a.spectrum)\n",
    "\n",
    "with meas.run() as datasaver:\n",
    "    datasaver.add_result(*expand_setpoints_helper(a.spectrum))\n",
    "    \n",
    "    dataid = datasaver.run_id"
   ]
  },
  {
   "cell_type": "code",
   "execution_count": null,
   "metadata": {},
   "outputs": [],
   "source": []
  }
 ],
 "metadata": {
  "kernelspec": {
   "display_name": "Python 3",
   "language": "python",
   "name": "python3"
  },
  "language_info": {
   "codemirror_mode": {
    "name": "ipython",
    "version": 3
   },
   "file_extension": ".py",
   "mimetype": "text/x-python",
   "name": "python",
   "nbconvert_exporter": "python",
   "pygments_lexer": "ipython3",
   "version": "3.7.7"
  },
  "toc": {
   "base_numbering": 1,
   "nav_menu": {},
   "number_sections": true,
   "sideBar": true,
   "skip_h1_title": false,
   "title_cell": "Table of Contents",
   "title_sidebar": "Contents",
   "toc_cell": false,
   "toc_position": {},
   "toc_section_display": true,
   "toc_window_display": false
  },
  "varInspector": {
   "cols": {
    "lenName": 16,
    "lenType": 16,
    "lenVar": 40
   },
   "kernels_config": {
    "python": {
     "delete_cmd_postfix": "",
     "delete_cmd_prefix": "del ",
     "library": "var_list.py",
     "varRefreshCmd": "print(var_dic_list())"
    },
    "r": {
     "delete_cmd_postfix": ") ",
     "delete_cmd_prefix": "rm(",
     "library": "var_list.r",
     "varRefreshCmd": "cat(var_dic_list()) "
    }
   },
   "types_to_exclude": [
    "module",
    "function",
    "builtin_function_or_method",
    "instance",
    "_Feature"
   ],
   "window_display": false
  }
 },
 "nbformat": 4,
 "nbformat_minor": 2
}
