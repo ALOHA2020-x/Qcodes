{
 "cells": [
  {
   "cell_type": "markdown",
   "metadata": {},
   "source": [
    "# Simple Example of ParameterWithSetpoints\n",
    "This notebook provides an example for writing a simple driver with a parameter that has setpoints. Let's name this parameter that has setpoints as \"y\". Then, the setpoints, say \"x1, x2, x3 ..\", are the parameters on which the parameter \n",
    "\"y\" depends upon. Meaning \"y\" is a function of \"x1, x2, x3 ...\" where \"x1, x2, x3 ...\" are known as the setpoints of parameter \"y\".\n",
    "\n",
    "This is most likely to be useful for instruments that return arrays of results. In this notebook, we will show an example of this."
   ]
  },
  {
   "cell_type": "code",
   "execution_count": 1,
   "metadata": {},
   "outputs": [],
   "source": [
    "import numpy as np\n",
    "import os"
   ]
  },
  {
   "cell_type": "code",
   "execution_count": 2,
   "metadata": {},
   "outputs": [
    {
     "name": "stdout",
     "output_type": "stream",
     "text": [
      "Logging hadn't been started.\n",
      "Activating auto-logging. Current session state plus future input saved.\n",
      "Filename       : /home/vsts/.qcodes/logs/command_history.log\n",
      "Mode           : append\n",
      "Output logging : True\n",
      "Raw input log  : False\n",
      "Timestamping   : True\n",
      "State          : active\n"
     ]
    },
    {
     "name": "stdout",
     "output_type": "stream",
     "text": [
      "Qcodes Logfile : /home/vsts/.qcodes/logs/200814-21803-qcodes.log\n"
     ]
    }
   ],
   "source": [
    "from qcodes.dataset.plotting import plot_dataset\n",
    "from qcodes.utils.validators import Numbers, Arrays\n",
    "from qcodes.instrument.base import Instrument\n",
    "from qcodes.dataset.measurements import Measurement"
   ]
  },
  {
   "cell_type": "code",
   "execution_count": 3,
   "metadata": {},
   "outputs": [],
   "source": [
    "from qcodes.dataset.sqlite.database import initialise_or_create_database_at\n",
    "from qcodes.dataset.experiment_container import load_or_create_experiment"
   ]
  },
  {
   "cell_type": "code",
   "execution_count": 4,
   "metadata": {},
   "outputs": [],
   "source": [
    "from qcodes.instrument.parameter import ParameterWithSetpoints, Parameter\n",
    "from qcodes.instrument.parameter import expand_setpoints_helper"
   ]
  },
  {
   "cell_type": "markdown",
   "metadata": {},
   "source": [
    "First, we define a dummy instrument that returns something like a frequency spectrum starting from a frequency given by `f_start` to a frequency given by `f_stop` in `n_points` steps. \n",
    "\n",
    "The extra functionality of the `ParameterWithSetpoints` is implemented by giving it a reference to one or more parameters that acts like its setpoints. \n",
    "\n",
    "To setup a `ParameterWithSetpoints` we have to do two things in addition to what we do for a normal parameter.\n",
    "\n",
    "* Define one or more parameter for the setpoints (one for each dimension of the array and let the `ParameterWithSetpoints` know that these are the setpoints.\n",
    "* Give both the setpoints parameter(s) and the `ParameterWithSetpoints` a `validator` of type `Arrays` with a shape. The shapes should be such that the combined shape of the setpoints matches the shape of the `ParameterWithSetpoints`. Note that if the shape changes with the setting of the instrument, it can be defined by another parameter as shown below. "
   ]
  },
  {
   "cell_type": "code",
   "execution_count": 5,
   "metadata": {},
   "outputs": [],
   "source": [
    "class GeneratedSetPoints(Parameter):\n",
    "    \"\"\"\n",
    "    A parameter that generates a setpoint array from start, stop and num points\n",
    "    parameters.\n",
    "    \"\"\"\n",
    "    def __init__(self, startparam, stopparam, numpointsparam, *args, **kwargs):\n",
    "        super().__init__(*args, **kwargs)\n",
    "        self._startparam = startparam\n",
    "        self._stopparam = stopparam\n",
    "        self._numpointsparam = numpointsparam\n",
    "\n",
    "    def get_raw(self):\n",
    "        return np.linspace(self._startparam(), self._stopparam(),\n",
    "                              self._numpointsparam())\n",
    "\n",
    "class DummyArray(ParameterWithSetpoints):\n",
    "    \n",
    "    def get_raw(self):\n",
    "        npoints = self.root_instrument.n_points.get_latest()\n",
    "        return np.random.rand(npoints)\n",
    "    \n",
    "\n",
    "class DummySpectrumAnalyzer(Instrument):\n",
    "    \n",
    "    def __init__(self, name, **kwargs):\n",
    "        \n",
    "        super().__init__(name, **kwargs)\n",
    "            \n",
    "\n",
    "        self.add_parameter('f_start',\n",
    "                           initial_value=0,\n",
    "                           unit='Hz',\n",
    "                           label='f start',\n",
    "                           vals=Numbers(0,1e3),\n",
    "                           get_cmd=None,\n",
    "                           set_cmd=None)\n",
    "\n",
    "        self.add_parameter('f_stop',\n",
    "                           unit='Hz',\n",
    "                           label='f stop',\n",
    "                           vals=Numbers(1,1e3),\n",
    "                           get_cmd=None,\n",
    "                           set_cmd=None)\n",
    "\n",
    "        self.add_parameter('n_points',\n",
    "                           unit='',\n",
    "                           initial_value=10,\n",
    "                           vals=Numbers(1,1e3),\n",
    "                           get_cmd=None,\n",
    "                           set_cmd=None)\n",
    "        \n",
    "        self.add_parameter('freq_axis',\n",
    "                           unit='Hz',\n",
    "                           label='Freq Axis',\n",
    "                           parameter_class=GeneratedSetPoints,\n",
    "                           startparam=self.f_start,\n",
    "                           stopparam=self.f_stop,\n",
    "                           numpointsparam=self.n_points,\n",
    "                           vals=Arrays(shape=(self.n_points.get_latest,)))\n",
    "                           \n",
    "        self.add_parameter('spectrum',\n",
    "                   unit='dBm',\n",
    "                   setpoints=(self.freq_axis,),\n",
    "                   label='Spectrum',\n",
    "                   parameter_class=DummyArray,\n",
    "                   vals=Arrays(shape=(self.n_points.get_latest,)))\n",
    "                "
   ]
  },
  {
   "cell_type": "markdown",
   "metadata": {},
   "source": [
    "In the above example, the shape is defined by the parameter `n_points` that defines how many samples our `DummySpectrumAnalyzer` returns.\n",
    "\n",
    "This means that the validation will call the function to get `n_points` twice for each `get` of the parameter. This may be too slow, however, if you (as the driver-writer) can guarantee that the cached value for `n_points` will never be out of sync with the value stored in the instrument, `n_points` may be replaced by it's latest known value such that the `validator` reads:\n",
    "```python\n",
    "vals=Arrays(shape=(self.n_points.get_latest))\n",
    "```\n",
    "\n",
    "This avoids any additional call to the instrument. In the same way, the arguments to the `freq_axis` parameter that defines the start, stop and number of points can be replaced by their latest value if the instrument allows it.\n",
    "\n"
   ]
  },
  {
   "cell_type": "code",
   "execution_count": 6,
   "metadata": {},
   "outputs": [
    {
     "name": "stdout",
     "output_type": "stream",
     "text": [
      "\r",
      "0it [00:00, ?it/s]"
     ]
    },
    {
     "name": "stdout",
     "output_type": "stream",
     "text": [
      "\r",
      "Upgrading database; v0 -> v1: : 0it [00:00, ?it/s]"
     ]
    },
    {
     "name": "stdout",
     "output_type": "stream",
     "text": [
      "\r",
      "Upgrading database; v0 -> v1: : 0it [00:00, ?it/s]"
     ]
    },
    {
     "name": "stdout",
     "output_type": "stream",
     "text": [
      "\n",
      "\r",
      "  0%|          | 0/1 [00:00<?, ?it/s]"
     ]
    },
    {
     "name": "stdout",
     "output_type": "stream",
     "text": [
      "\r",
      "Upgrading database; v1 -> v2:   0%|          | 0/1 [00:00<?, ?it/s]"
     ]
    },
    {
     "name": "stdout",
     "output_type": "stream",
     "text": [
      "\r",
      "Upgrading database; v1 -> v2: 100%|██████████| 1/1 [00:00<00:00, 801.66it/s]"
     ]
    },
    {
     "name": "stdout",
     "output_type": "stream",
     "text": [
      "\n",
      "\r",
      "0it [00:00, ?it/s]"
     ]
    },
    {
     "name": "stdout",
     "output_type": "stream",
     "text": [
      "\r",
      "Upgrading database; v2 -> v3: : 0it [00:00, ?it/s]"
     ]
    },
    {
     "name": "stdout",
     "output_type": "stream",
     "text": [
      "\r",
      "Upgrading database; v2 -> v3: : 0it [00:00, ?it/s]"
     ]
    },
    {
     "name": "stdout",
     "output_type": "stream",
     "text": [
      "\n",
      "\r",
      "0it [00:00, ?it/s]"
     ]
    },
    {
     "name": "stdout",
     "output_type": "stream",
     "text": [
      "\r",
      "Upgrading database; v3 -> v4: : 0it [00:00, ?it/s]"
     ]
    },
    {
     "name": "stdout",
     "output_type": "stream",
     "text": [
      "\r",
      "Upgrading database; v3 -> v4: : 0it [00:00, ?it/s]"
     ]
    },
    {
     "name": "stdout",
     "output_type": "stream",
     "text": [
      "\n",
      "\r",
      "  0%|          | 0/1 [00:00<?, ?it/s]"
     ]
    },
    {
     "name": "stdout",
     "output_type": "stream",
     "text": [
      "\r",
      "Upgrading database; v4 -> v5:   0%|          | 0/1 [00:00<?, ?it/s]"
     ]
    },
    {
     "name": "stdout",
     "output_type": "stream",
     "text": [
      "\r",
      "Upgrading database; v4 -> v5: 100%|██████████| 1/1 [00:00<00:00, 757.09it/s]"
     ]
    },
    {
     "name": "stdout",
     "output_type": "stream",
     "text": [
      "\n",
      "\r",
      "0it [00:00, ?it/s]"
     ]
    },
    {
     "name": "stdout",
     "output_type": "stream",
     "text": [
      "\r",
      "Upgrading database; v5 -> v6: : 0it [00:00, ?it/s]"
     ]
    },
    {
     "name": "stdout",
     "output_type": "stream",
     "text": [
      "\r",
      "Upgrading database; v5 -> v6: : 0it [00:00, ?it/s]"
     ]
    },
    {
     "name": "stdout",
     "output_type": "stream",
     "text": [
      "\n",
      "\r",
      "  0%|          | 0/1 [00:00<?, ?it/s]"
     ]
    },
    {
     "name": "stdout",
     "output_type": "stream",
     "text": [
      "\r",
      "Upgrading database; v6 -> v7:   0%|          | 0/1 [00:00<?, ?it/s]"
     ]
    },
    {
     "name": "stdout",
     "output_type": "stream",
     "text": [
      "\r",
      "Upgrading database; v6 -> v7: 100%|██████████| 1/1 [00:00<00:00, 272.55it/s]"
     ]
    },
    {
     "name": "stdout",
     "output_type": "stream",
     "text": [
      "\n",
      "\r",
      "  0%|          | 0/1 [00:00<?, ?it/s]"
     ]
    },
    {
     "name": "stdout",
     "output_type": "stream",
     "text": [
      "\r",
      "Upgrading database; v7 -> v8:   0%|          | 0/1 [00:00<?, ?it/s]"
     ]
    },
    {
     "name": "stdout",
     "output_type": "stream",
     "text": [
      "\r",
      "Upgrading database; v7 -> v8: 100%|██████████| 1/1 [00:00<00:00, 592.50it/s]"
     ]
    },
    {
     "name": "stdout",
     "output_type": "stream",
     "text": [
      "\n",
      "\r",
      "  0%|          | 0/1 [00:00<?, ?it/s]"
     ]
    },
    {
     "name": "stdout",
     "output_type": "stream",
     "text": [
      "\r",
      "Upgrading database; v8 -> v9:   0%|          | 0/1 [00:00<?, ?it/s]"
     ]
    },
    {
     "name": "stdout",
     "output_type": "stream",
     "text": [
      "\r",
      "Upgrading database; v8 -> v9: 100%|██████████| 1/1 [00:00<00:00, 504.61it/s]"
     ]
    },
    {
     "name": "stdout",
     "output_type": "stream",
     "text": [
      "\n"
     ]
    },
    {
     "data": {
      "text/plain": [
       "tutorial_ParameterWithSetpoints#no sample#1@/home/vsts/work/1/s/docs/examples/Parameters/tutorial_paramter_with_setpoints.db\n",
       "----------------------------------------------------------------------------------------------------------------------------"
      ]
     },
     "execution_count": 6,
     "metadata": {},
     "output_type": "execute_result"
    }
   ],
   "source": [
    "tutorial_db_path = os.path.join(os.getcwd(), 'tutorial_paramter_with_setpoints.db')\n",
    "initialise_or_create_database_at(tutorial_db_path)\n",
    "load_or_create_experiment(experiment_name='tutorial_ParameterWithSetpoints', sample_name=\"no sample\")"
   ]
  },
  {
   "cell_type": "code",
   "execution_count": 7,
   "metadata": {},
   "outputs": [],
   "source": [
    "a = DummySpectrumAnalyzer('foobar')"
   ]
  },
  {
   "cell_type": "markdown",
   "metadata": {},
   "source": [
    "First we setup the limits of the spectrum"
   ]
  },
  {
   "cell_type": "code",
   "execution_count": 8,
   "metadata": {},
   "outputs": [],
   "source": [
    "a.f_start(0)\n",
    "a.f_stop(500)\n",
    "a.n_points(501)"
   ]
  },
  {
   "cell_type": "markdown",
   "metadata": {},
   "source": [
    "And we can grab the frequency axis"
   ]
  },
  {
   "cell_type": "code",
   "execution_count": 9,
   "metadata": {},
   "outputs": [
    {
     "data": {
      "text/plain": [
       "501"
      ]
     },
     "execution_count": 9,
     "metadata": {},
     "output_type": "execute_result"
    }
   ],
   "source": [
    "a.n_points()"
   ]
  },
  {
   "cell_type": "code",
   "execution_count": 10,
   "metadata": {
    "scrolled": false
   },
   "outputs": [
    {
     "data": {
      "text/plain": [
       "501"
      ]
     },
     "execution_count": 10,
     "metadata": {},
     "output_type": "execute_result"
    }
   ],
   "source": [
    "freq_axis = a.freq_axis()\n",
    "len(freq_axis)"
   ]
  },
  {
   "cell_type": "code",
   "execution_count": 11,
   "metadata": {},
   "outputs": [
    {
     "data": {
      "text/plain": [
       "array([0., 1., 2., 3., 4., 5., 6., 7., 8., 9.])"
      ]
     },
     "execution_count": 11,
     "metadata": {},
     "output_type": "execute_result"
    }
   ],
   "source": [
    "freq_axis[:10]"
   ]
  },
  {
   "cell_type": "markdown",
   "metadata": {},
   "source": [
    "As expected we get a result wit 501 points as we asked for an axis with 501 points. "
   ]
  },
  {
   "cell_type": "markdown",
   "metadata": {},
   "source": [
    "Above we have added a validator to the `freq_axis` parameter encoding the fact that this is an Array with `n_points`. Note that we do not have to supply the number of points as an integer but can supply a function that returns the valid number of points. This would normally be a QCoDeS parameter.\n",
    "\n",
    "This will be checked if we validate the output."
   ]
  },
  {
   "cell_type": "code",
   "execution_count": 12,
   "metadata": {},
   "outputs": [],
   "source": [
    "a.freq_axis.validate(a.freq_axis.get())"
   ]
  },
  {
   "cell_type": "markdown",
   "metadata": {},
   "source": [
    "Naturally, we can also get the spectrum. Getting the spectrum will automatically perform validation both for the shape of the parameter itself and the relation to the setpoint parameter(s)"
   ]
  },
  {
   "cell_type": "code",
   "execution_count": 13,
   "metadata": {
    "scrolled": true
   },
   "outputs": [
    {
     "data": {
      "text/plain": [
       "501"
      ]
     },
     "execution_count": 13,
     "metadata": {},
     "output_type": "execute_result"
    }
   ],
   "source": [
    "spectrum = a.spectrum.get()\n",
    "len(spectrum)"
   ]
  },
  {
   "cell_type": "markdown",
   "metadata": {},
   "source": [
    "When we validate a `ParameterWithSetpoints`, we automatically validate that the shape is consistent between the parameters and its setpoints. As well as validating the shape as above."
   ]
  },
  {
   "cell_type": "code",
   "execution_count": 14,
   "metadata": {},
   "outputs": [],
   "source": [
    "a.spectrum.validate(a.spectrum.get())"
   ]
  },
  {
   "cell_type": "markdown",
   "metadata": {},
   "source": [
    "The consistent shapes can be validated explicitly."
   ]
  },
  {
   "cell_type": "code",
   "execution_count": 15,
   "metadata": {},
   "outputs": [],
   "source": [
    "a.spectrum.validate_consistent_shape()"
   ]
  },
  {
   "cell_type": "markdown",
   "metadata": {},
   "source": [
    "We can inspect the setpoints of the spectrum."
   ]
  },
  {
   "cell_type": "code",
   "execution_count": 16,
   "metadata": {},
   "outputs": [
    {
     "data": {
      "text/plain": [
       "(<__main__.GeneratedSetPoints: freq_axis at 140097680753488>,)"
      ]
     },
     "execution_count": 16,
     "metadata": {},
     "output_type": "execute_result"
    }
   ],
   "source": [
    "a.spectrum.setpoints"
   ]
  },
  {
   "cell_type": "markdown",
   "metadata": {},
   "source": [
    "Or even change them."
   ]
  },
  {
   "cell_type": "code",
   "execution_count": 17,
   "metadata": {},
   "outputs": [],
   "source": [
    "a.spectrum.setpoints = (a.freq_axis,)"
   ]
  },
  {
   "cell_type": "markdown",
   "metadata": {},
   "source": [
    "## Measurement"
   ]
  },
  {
   "cell_type": "markdown",
   "metadata": {},
   "source": [
    "We can also directly consume the parameter in a measurement without defining the setpoints of the parameter again. The setpoints are automatically obtained from the definition of the `ParameterWithSetpoint` instance. "
   ]
  },
  {
   "cell_type": "code",
   "execution_count": 18,
   "metadata": {},
   "outputs": [
    {
     "name": "stdout",
     "output_type": "stream",
     "text": [
      "Starting experimental run with id: 1. \n"
     ]
    }
   ],
   "source": [
    "meas = Measurement()\n",
    "meas.register_parameter(a.spectrum)\n",
    "\n",
    "with meas.run() as datasaver:\n",
    "    datasaver.add_result((a.freq_axis, a.freq_axis()),\n",
    "                         (a.spectrum, a.spectrum()))\n",
    "    dataset = datasaver.dataset"
   ]
  },
  {
   "cell_type": "markdown",
   "metadata": {},
   "source": [
    "And plot it"
   ]
  },
  {
   "cell_type": "code",
   "execution_count": 19,
   "metadata": {},
   "outputs": [
    {
     "data": {
      "text/plain": [
       "([<matplotlib.axes._subplots.AxesSubplot at 0x7f6b096892d0>], [None])"
      ]
     },
     "execution_count": 19,
     "metadata": {},
     "output_type": "execute_result"
    },
    {
     "data": {
      "image/png": "[encoded data removed]",
      "text/plain": [
       "<Figure size 432x288 with 1 Axes>"
      ]
     },
     "metadata": {
      "needs_background": "light"
     },
     "output_type": "display_data"
    }
   ],
   "source": [
    "plot_dataset(dataset)"
   ]
  },
  {
   "cell_type": "markdown",
   "metadata": {},
   "source": [
    "To reduce the amount of typing a simple convenience function is provided that will take a `ParameterWithSetpoints` and get both its values and the setpoints values and return them as tuples for direct insertion into the Dataset."
   ]
  },
  {
   "cell_type": "code",
   "execution_count": 20,
   "metadata": {
    "scrolled": true
   },
   "outputs": [
    {
     "data": {
      "text/plain": [
       "[(<__main__.GeneratedSetPoints: freq_axis at 140097680753488>,\n",
       "  array([  0.,   1.,   2.,   3.,   4.,   5.,   6.,   7.,   8.,   9.,  10.,\n",
       "          11.,  12.,  13.,  14.,  15.,  16.,  17.,  18.,  19.,  20.,  21.,\n",
       "          22.,  23.,  24.,  25.,  26.,  27.,  28.,  29.,  30.,  31.,  32.,\n",
       "          33.,  34.,  35.,  36.,  37.,  38.,  39.,  40.,  41.,  42.,  43.,\n",
       "          44.,  45.,  46.,  47.,  48.,  49.,  50.,  51.,  52.,  53.,  54.,\n",
       "          55.,  56.,  57.,  58.,  59.,  60.,  61.,  62.,  63.,  64.,  65.,\n",
       "          66.,  67.,  68.,  69.,  70.,  71.,  72.,  73.,  74.,  75.,  76.,\n",
       "          77.,  78.,  79.,  80.,  81.,  82.,  83.,  84.,  85.,  86.,  87.,\n",
       "          88.,  89.,  90.,  91.,  92.,  93.,  94.,  95.,  96.,  97.,  98.,\n",
       "          99., 100., 101., 102., 103., 104., 105., 106., 107., 108., 109.,\n",
       "         110., 111., 112., 113., 114., 115., 116., 117., 118., 119., 120.,\n",
       "         121., 122., 123., 124., 125., 126., 127., 128., 129., 130., 131.,\n",
       "         132., 133., 134., 135., 136., 137., 138., 139., 140., 141., 142.,\n",
       "         143., 144., 145., 146., 147., 148., 149., 150., 151., 152., 153.,\n",
       "         154., 155., 156., 157., 158., 159., 160., 161., 162., 163., 164.,\n",
       "         165., 166., 167., 168., 169., 170., 171., 172., 173., 174., 175.,\n",
       "         176., 177., 178., 179., 180., 181., 182., 183., 184., 185., 186.,\n",
       "         187., 188., 189., 190., 191., 192., 193., 194., 195., 196., 197.,\n",
       "         198., 199., 200., 201., 202., 203., 204., 205., 206., 207., 208.,\n",
       "         209., 210., 211., 212., 213., 214., 215., 216., 217., 218., 219.,\n",
       "         220., 221., 222., 223., 224., 225., 226., 227., 228., 229., 230.,\n",
       "         231., 232., 233., 234., 235., 236., 237., 238., 239., 240., 241.,\n",
       "         242., 243., 244., 245., 246., 247., 248., 249., 250., 251., 252.,\n",
       "         253., 254., 255., 256., 257., 258., 259., 260., 261., 262., 263.,\n",
       "         264., 265., 266., 267., 268., 269., 270., 271., 272., 273., 274.,\n",
       "         275., 276., 277., 278., 279., 280., 281., 282., 283., 284., 285.,\n",
       "         286., 287., 288., 289., 290., 291., 292., 293., 294., 295., 296.,\n",
       "         297., 298., 299., 300., 301., 302., 303., 304., 305., 306., 307.,\n",
       "         308., 309., 310., 311., 312., 313., 314., 315., 316., 317., 318.,\n",
       "         319., 320., 321., 322., 323., 324., 325., 326., 327., 328., 329.,\n",
       "         330., 331., 332., 333., 334., 335., 336., 337., 338., 339., 340.,\n",
       "         341., 342., 343., 344., 345., 346., 347., 348., 349., 350., 351.,\n",
       "         352., 353., 354., 355., 356., 357., 358., 359., 360., 361., 362.,\n",
       "         363., 364., 365., 366., 367., 368., 369., 370., 371., 372., 373.,\n",
       "         374., 375., 376., 377., 378., 379., 380., 381., 382., 383., 384.,\n",
       "         385., 386., 387., 388., 389., 390., 391., 392., 393., 394., 395.,\n",
       "         396., 397., 398., 399., 400., 401., 402., 403., 404., 405., 406.,\n",
       "         407., 408., 409., 410., 411., 412., 413., 414., 415., 416., 417.,\n",
       "         418., 419., 420., 421., 422., 423., 424., 425., 426., 427., 428.,\n",
       "         429., 430., 431., 432., 433., 434., 435., 436., 437., 438., 439.,\n",
       "         440., 441., 442., 443., 444., 445., 446., 447., 448., 449., 450.,\n",
       "         451., 452., 453., 454., 455., 456., 457., 458., 459., 460., 461.,\n",
       "         462., 463., 464., 465., 466., 467., 468., 469., 470., 471., 472.,\n",
       "         473., 474., 475., 476., 477., 478., 479., 480., 481., 482., 483.,\n",
       "         484., 485., 486., 487., 488., 489., 490., 491., 492., 493., 494.,\n",
       "         495., 496., 497., 498., 499., 500.])),\n",
       " (<__main__.DummyArray: spectrum at 140097680753232>,\n",
       "  array([6.48151701e-01, 5.86011835e-03, 7.35339992e-01, 4.12260311e-01,\n",
       "         5.09269745e-01, 7.69733759e-01, 1.87578316e-01, 1.28971396e-01,\n",
       "         4.41019060e-01, 3.74376755e-01, 4.74038813e-01, 2.40767579e-01,\n",
       "         4.33392034e-01, 3.06594816e-01, 1.56749958e-01, 9.09980418e-01,\n",
       "         3.22227140e-01, 6.39168404e-02, 1.92146150e-01, 4.54364183e-01,\n",
       "         5.40847271e-01, 3.69214428e-02, 8.85433873e-01, 1.57469008e-01,\n",
       "         2.88936109e-01, 3.80344259e-01, 9.41153092e-01, 8.90108646e-01,\n",
       "         7.86118917e-01, 6.38099889e-01, 1.23106938e-05, 3.78079224e-01,\n",
       "         8.44376069e-01, 1.63708609e-01, 5.07309168e-01, 7.04340431e-01,\n",
       "         3.89577986e-01, 7.11341920e-01, 3.79869086e-01, 3.41023846e-01,\n",
       "         9.92968690e-01, 2.10711183e-01, 9.61122082e-01, 8.08962474e-01,\n",
       "         5.61735900e-02, 8.27992547e-01, 6.09514174e-01, 5.67347308e-01,\n",
       "         5.33085500e-02, 8.85487033e-01, 8.35764093e-01, 4.49510934e-01,\n",
       "         1.62886456e-01, 1.33970247e-01, 2.27673659e-01, 9.32113003e-01,\n",
       "         3.16511852e-01, 9.98502595e-01, 3.78431448e-01, 4.48106654e-01,\n",
       "         4.83455867e-01, 2.40921770e-01, 6.34891806e-01, 4.97419010e-01,\n",
       "         8.57025163e-01, 5.10614362e-01, 5.34043776e-01, 9.90484209e-02,\n",
       "         7.43587151e-01, 1.55885650e-01, 6.58905127e-01, 7.41363411e-01,\n",
       "         1.92776315e-01, 7.33415230e-01, 7.10121882e-03, 7.60412179e-01,\n",
       "         9.60866831e-03, 3.90157705e-01, 1.08238964e-01, 6.04482753e-01,\n",
       "         3.23492041e-01, 9.18110454e-01, 5.52329077e-01, 3.13418186e-01,\n",
       "         9.51255733e-02, 7.77503870e-01, 8.55680280e-01, 8.77300108e-01,\n",
       "         3.85852963e-01, 1.89310854e-01, 6.34763115e-01, 1.68022062e-01,\n",
       "         3.67658374e-01, 6.97639276e-01, 3.73580921e-01, 3.99151604e-01,\n",
       "         9.92213860e-01, 4.88907400e-01, 7.15239182e-01, 7.70066274e-02,\n",
       "         6.68551145e-01, 9.81500408e-01, 6.04118293e-01, 4.43217662e-01,\n",
       "         9.27264411e-01, 7.72225999e-01, 2.58472072e-01, 1.49106843e-01,\n",
       "         6.73836018e-01, 2.95471213e-01, 6.79336997e-02, 4.54411923e-01,\n",
       "         3.77740037e-02, 3.79117834e-01, 3.33276175e-01, 3.63956139e-01,\n",
       "         2.74813668e-01, 8.27425737e-01, 5.05035702e-01, 3.08586629e-01,\n",
       "         1.00031349e-01, 2.67733745e-01, 2.71877065e-01, 1.01964692e-01,\n",
       "         4.19365990e-01, 7.44625748e-01, 7.52685126e-01, 8.63812198e-01,\n",
       "         2.67103728e-01, 6.49524825e-01, 7.21494898e-01, 2.36375018e-01,\n",
       "         8.15936953e-01, 5.22903544e-01, 3.98224970e-02, 5.44636625e-01,\n",
       "         5.30474552e-01, 9.20029049e-01, 6.44226323e-01, 3.67781146e-01,\n",
       "         5.20831939e-01, 7.54871556e-01, 2.40313644e-01, 8.28308913e-01,\n",
       "         4.07999637e-01, 3.43225151e-01, 1.64186440e-01, 8.25292632e-01,\n",
       "         8.99374140e-01, 4.76410680e-01, 4.13021719e-01, 1.92863144e-01,\n",
       "         7.63788548e-01, 7.13989065e-01, 2.41534353e-01, 4.74637897e-01,\n",
       "         6.55090609e-01, 5.66716709e-01, 2.57889464e-01, 7.71349704e-02,\n",
       "         8.73330950e-01, 1.79859107e-02, 2.41787908e-01, 4.64493879e-01,\n",
       "         5.25415879e-02, 4.20714171e-01, 6.29069601e-01, 6.04759778e-01,\n",
       "         8.57770356e-01, 9.67419241e-01, 7.37645606e-01, 5.46216377e-02,\n",
       "         7.63677280e-01, 6.25546643e-01, 9.82681143e-01, 6.91339812e-01,\n",
       "         9.34214704e-01, 8.50532458e-01, 5.18188807e-01, 3.21745955e-01,\n",
       "         3.51121730e-02, 4.83510642e-01, 4.98289097e-01, 2.40268277e-01,\n",
       "         8.93231388e-01, 2.81070265e-01, 5.94527060e-02, 8.01951012e-01,\n",
       "         4.59702796e-01, 3.51913728e-01, 5.88436487e-02, 3.07950313e-01,\n",
       "         5.48185713e-01, 3.88384021e-01, 8.81246625e-01, 8.08195768e-02,\n",
       "         2.39957055e-02, 4.30092191e-01, 2.63311757e-02, 7.43566989e-01,\n",
       "         7.93702474e-01, 7.12309030e-02, 2.18365358e-01, 2.75513794e-01,\n",
       "         4.65622315e-02, 7.95437915e-01, 1.52966551e-01, 1.79684456e-01,\n",
       "         3.84329052e-01, 2.19202266e-01, 2.12132332e-01, 1.01855042e-01,\n",
       "         4.92638840e-01, 3.53772687e-01, 9.43937986e-01, 6.45241049e-01,\n",
       "         6.45064911e-01, 2.61186458e-01, 4.55141388e-01, 1.58728255e-01,\n",
       "         6.88597158e-01, 8.71556447e-01, 7.20291797e-01, 8.47939840e-01,\n",
       "         2.58003771e-02, 5.72634904e-02, 6.59493887e-01, 9.37523472e-01,\n",
       "         5.97925233e-01, 5.61514856e-01, 3.18323861e-01, 2.81766324e-01,\n",
       "         1.26787645e-01, 9.49980800e-01, 9.34996890e-01, 4.83173766e-01,\n",
       "         3.47744598e-01, 6.14880553e-01, 4.56139058e-01, 5.74608902e-01,\n",
       "         7.77694574e-01, 1.82031721e-01, 2.77674279e-01, 1.53032070e-01,\n",
       "         3.77127408e-02, 7.73346100e-01, 4.61022192e-01, 4.36802259e-01,\n",
       "         3.45916885e-01, 4.55074753e-01, 5.21021068e-01, 2.56422327e-01,\n",
       "         6.85568793e-01, 6.66049138e-01, 3.33637978e-01, 7.32194832e-01,\n",
       "         7.19706855e-01, 7.20813951e-01, 1.40077844e-01, 1.38551023e-01,\n",
       "         3.36380201e-01, 3.92351524e-01, 3.67326764e-01, 9.49101713e-01,\n",
       "         5.95838399e-01, 4.76230721e-01, 8.91755899e-01, 1.45065595e-01,\n",
       "         9.06439190e-01, 5.16513212e-01, 6.90480210e-01, 7.81454914e-01,\n",
       "         2.07754433e-01, 1.33264703e-02, 2.62358730e-01, 4.67477418e-01,\n",
       "         7.53236461e-02, 7.79730826e-01, 1.67988985e-01, 2.83152170e-01,\n",
       "         1.35223292e-01, 3.88416072e-01, 6.61844331e-01, 8.46965267e-02,\n",
       "         7.47195564e-01, 9.29465372e-02, 5.37278005e-01, 6.39444288e-01,\n",
       "         4.58267549e-01, 8.94978738e-05, 4.35213310e-01, 2.11158311e-01,\n",
       "         1.28026209e-01, 8.17796167e-03, 4.77340379e-02, 7.95633811e-02,\n",
       "         2.24518735e-01, 2.05492281e-01, 3.16797360e-01, 3.24261002e-01,\n",
       "         5.50853053e-01, 7.31332828e-01, 1.82425337e-01, 2.87922763e-01,\n",
       "         6.68939632e-01, 9.52798617e-01, 4.58130643e-01, 8.74752354e-01,\n",
       "         8.60144494e-01, 5.98904188e-01, 7.25657214e-01, 7.19567177e-01,\n",
       "         7.26609305e-01, 9.27044071e-01, 9.06938883e-01, 2.68940515e-01,\n",
       "         2.64568347e-01, 6.61656342e-01, 9.40164275e-01, 4.00001528e-01,\n",
       "         9.80800998e-01, 3.99383302e-01, 9.79538740e-01, 2.73741948e-01,\n",
       "         4.41706047e-01, 7.23703137e-01, 2.27288240e-01, 5.05245492e-01,\n",
       "         6.35047114e-01, 8.05351494e-01, 9.20849996e-01, 5.25162629e-01,\n",
       "         5.82545872e-01, 7.03948594e-01, 7.92376644e-02, 8.28373673e-01,\n",
       "         2.51502301e-01, 7.18699454e-01, 5.93865056e-01, 1.06632826e-01,\n",
       "         9.20859567e-01, 5.37090317e-01, 5.81756051e-01, 3.41333579e-01,\n",
       "         1.19440738e-01, 7.66804664e-01, 9.66064672e-01, 4.94872212e-02,\n",
       "         3.64597192e-01, 6.30843539e-01, 5.72525813e-01, 3.60103307e-04,\n",
       "         7.70422007e-01, 2.28135628e-01, 7.57546778e-01, 9.85886383e-02,\n",
       "         1.31113645e-01, 9.18004220e-01, 2.12108275e-01, 2.51162581e-01,\n",
       "         6.29820122e-01, 6.34446009e-01, 2.64107662e-01, 2.56607629e-01,\n",
       "         9.12729610e-01, 2.61790783e-01, 5.23011209e-01, 8.00747187e-01,\n",
       "         3.68453332e-01, 7.69973785e-01, 5.03095122e-01, 3.37904928e-01,\n",
       "         4.33985360e-01, 6.19310221e-01, 2.59231557e-01, 2.11102636e-01,\n",
       "         6.74862659e-01, 7.97810581e-01, 1.66618045e-01, 5.30404172e-01,\n",
       "         8.92127248e-01, 4.59699327e-01, 7.60960211e-02, 3.53304113e-01,\n",
       "         5.31826510e-01, 8.99740684e-01, 6.54432852e-01, 6.31595692e-02,\n",
       "         3.21204414e-01, 4.03440376e-01, 6.22952031e-01, 5.55601329e-01,\n",
       "         1.89271632e-01, 2.58991511e-01, 6.48912345e-01, 7.03453856e-01,\n",
       "         5.47368005e-01, 1.25313242e-01, 4.70736228e-02, 2.93252239e-01,\n",
       "         7.84714067e-01, 2.07846867e-01, 2.03333328e-01, 5.19137043e-01,\n",
       "         1.87510482e-01, 7.89192007e-01, 2.47086607e-01, 4.85338688e-01,\n",
       "         6.95341512e-01, 7.89403211e-01, 3.83536488e-01, 8.47473794e-02,\n",
       "         5.81945633e-01, 5.90292395e-01, 7.34349973e-01, 3.54368655e-01,\n",
       "         5.43498928e-01, 6.79623185e-01, 8.86294236e-01, 6.66764278e-01,\n",
       "         3.74840184e-01, 3.08427393e-01, 5.08270544e-01, 1.86487016e-01,\n",
       "         4.82990518e-01, 9.04035429e-01, 1.41940843e-01, 4.73092630e-01,\n",
       "         7.28567504e-01, 1.02380080e-01, 1.53123949e-01, 6.82754432e-01,\n",
       "         6.71209374e-01, 8.86980446e-02, 4.57123478e-01, 4.87119347e-01,\n",
       "         6.63164887e-01, 9.59791620e-01, 3.63404206e-01, 9.69518094e-01,\n",
       "         4.34027730e-01, 2.20911502e-01, 3.52169643e-01, 7.91234602e-01,\n",
       "         3.71394063e-01, 1.62216602e-01, 4.10693116e-01, 9.05686608e-01,\n",
       "         8.09889619e-01, 6.77290142e-01, 6.54822290e-01, 8.25676362e-01,\n",
       "         9.60551440e-01, 7.82971753e-01, 8.69329490e-01, 4.87653831e-01,\n",
       "         3.85958109e-01, 1.99264716e-01, 2.49982200e-01, 6.65880940e-01,\n",
       "         7.54655691e-01, 5.49451583e-01, 1.99293264e-02, 2.54951995e-01,\n",
       "         9.84703755e-01, 4.16351626e-02, 4.64507625e-02, 8.80103013e-01,\n",
       "         5.97655249e-01, 7.53932841e-02, 6.47632424e-01, 9.55600746e-01,\n",
       "         5.98482601e-01, 5.24961917e-01, 5.74023247e-01, 8.63467638e-01,\n",
       "         8.00209523e-01, 6.11457703e-01, 8.59842687e-01, 7.91175436e-01,\n",
       "         9.47467660e-01, 2.89747731e-01, 1.47977979e-01, 2.25977011e-01,\n",
       "         7.51675222e-01, 5.61710680e-02, 2.67096831e-01, 3.95213819e-01,\n",
       "         5.60631931e-02, 4.56686765e-01, 4.47325723e-01, 6.46717180e-01,\n",
       "         4.48733802e-01, 8.53162553e-02, 8.25083081e-01, 6.32700792e-01,\n",
       "         8.03577395e-01, 9.53044487e-01, 4.37777127e-01, 3.27029650e-01,\n",
       "         6.58246824e-01]))]"
      ]
     },
     "execution_count": 20,
     "metadata": {},
     "output_type": "execute_result"
    }
   ],
   "source": [
    "expand_setpoints_helper(a.spectrum)"
   ]
  },
  {
   "cell_type": "code",
   "execution_count": 21,
   "metadata": {},
   "outputs": [
    {
     "name": "stdout",
     "output_type": "stream",
     "text": [
      "Starting experimental run with id: 2. \n"
     ]
    }
   ],
   "source": [
    "meas = Measurement()\n",
    "meas.register_parameter(a.spectrum)\n",
    "\n",
    "with meas.run() as datasaver:\n",
    "    datasaver.add_result(*expand_setpoints_helper(a.spectrum))\n",
    "    \n",
    "    dataid = datasaver.run_id"
   ]
  },
  {
   "cell_type": "code",
   "execution_count": null,
   "metadata": {},
   "outputs": [],
   "source": []
  }
 ],
 "metadata": {
  "kernelspec": {
   "display_name": "Python 3",
   "language": "python",
   "name": "python3"
  },
  "language_info": {
   "codemirror_mode": {
    "name": "ipython",
    "version": 3
   },
   "file_extension": ".py",
   "mimetype": "text/x-python",
   "name": "python",
   "nbconvert_exporter": "python",
   "pygments_lexer": "ipython3",
   "version": "3.7.7"
  },
  "toc": {
   "base_numbering": 1,
   "nav_menu": {},
   "number_sections": true,
   "sideBar": true,
   "skip_h1_title": false,
   "title_cell": "Table of Contents",
   "title_sidebar": "Contents",
   "toc_cell": false,
   "toc_position": {},
   "toc_section_display": true,
   "toc_window_display": false
  },
  "varInspector": {
   "cols": {
    "lenName": 16,
    "lenType": 16,
    "lenVar": 40
   },
   "kernels_config": {
    "python": {
     "delete_cmd_postfix": "",
     "delete_cmd_prefix": "del ",
     "library": "var_list.py",
     "varRefreshCmd": "print(var_dic_list())"
    },
    "r": {
     "delete_cmd_postfix": ") ",
     "delete_cmd_prefix": "rm(",
     "library": "var_list.r",
     "varRefreshCmd": "cat(var_dic_list()) "
    }
   },
   "types_to_exclude": [
    "module",
    "function",
    "builtin_function_or_method",
    "instance",
    "_Feature"
   ],
   "window_display": false
  }
 },
 "nbformat": 4,
 "nbformat_minor": 2
}
