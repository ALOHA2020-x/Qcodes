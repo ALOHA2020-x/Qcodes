{
 "cells": [
  {
   "cell_type": "markdown",
   "metadata": {},
   "source": [
    "# Simple Example of ParameterWithSetpoints\n",
    "This notebook provides an example for writing a simple driver with a parameter that has setpoints. Let's name this parameter that has setpoints as \"y\". Then, the setpoints, say \"x1, x2, x3 ..\", are the parameters on which the parameter \n",
    "\"y\" depends upon. Meaning \"y\" is a function of \"x1, x2, x3 ...\" where \"x1, x2, x3 ...\" are known as the setpoints of parameter \"y\".\n",
    "\n",
    "This is most likely to be useful for instruments that return arrays of results. In this notebook, we will show an example of this."
   ]
  },
  {
   "cell_type": "code",
   "execution_count": 1,
   "metadata": {},
   "outputs": [],
   "source": [
    "import numpy as np\n",
    "import os"
   ]
  },
  {
   "cell_type": "code",
   "execution_count": 2,
   "metadata": {},
   "outputs": [
    {
     "name": "stdout",
     "output_type": "stream",
     "text": [
      "Logging hadn't been started.\n",
      "Activating auto-logging. Current session state plus future input saved.\n",
      "Filename       : /home/vsts/.qcodes/logs/command_history.log\n",
      "Mode           : append\n",
      "Output logging : True\n",
      "Raw input log  : False\n",
      "Timestamping   : True\n",
      "State          : active\n"
     ]
    },
    {
     "name": "stdout",
     "output_type": "stream",
     "text": [
      "Qcodes Logfile : /home/vsts/.qcodes/logs/200706-22302-qcodes.log\n"
     ]
    }
   ],
   "source": [
    "from qcodes.dataset.plotting import plot_dataset\n",
    "from qcodes.utils.validators import Numbers, Arrays\n",
    "from qcodes.instrument.base import Instrument\n",
    "from qcodes.dataset.measurements import Measurement"
   ]
  },
  {
   "cell_type": "code",
   "execution_count": 3,
   "metadata": {},
   "outputs": [],
   "source": [
    "from qcodes.dataset.sqlite.database import initialise_or_create_database_at\n",
    "from qcodes.dataset.experiment_container import load_or_create_experiment"
   ]
  },
  {
   "cell_type": "code",
   "execution_count": 4,
   "metadata": {},
   "outputs": [],
   "source": [
    "from qcodes.instrument.parameter import ParameterWithSetpoints, Parameter\n",
    "from qcodes.instrument.parameter import expand_setpoints_helper"
   ]
  },
  {
   "cell_type": "markdown",
   "metadata": {},
   "source": [
    "First, we define a dummy instrument that returns something like a frequency spectrum starting from a frequency given by `f_start` to a frequency given by `f_stop` in `n_points` steps. \n",
    "\n",
    "The extra functionality of the `ParameterWithSetpoints` is implemented by giving it a reference to one or more parameters that acts like its setpoints. \n",
    "\n",
    "To setup a `ParameterWithSetpoints` we have to do two things in addition to what we do for a normal parameter.\n",
    "\n",
    "* Define one or more parameter for the setpoints (one for each dimension of the array and let the `ParameterWithSetpoints` know that these are the setpoints.\n",
    "* Give both the setpoints parameter(s) and the `ParameterWithSetpoints` a `validator` of type `Arrays` with a shape. The shapes should be such that the combined shape of the setpoints matches the shape of the `ParameterWithSetpoints`. Note that if the shape changes with the setting of the instrument, it can be defined by another parameter as shown below. "
   ]
  },
  {
   "cell_type": "code",
   "execution_count": 5,
   "metadata": {},
   "outputs": [],
   "source": [
    "class GeneratedSetPoints(Parameter):\n",
    "    \"\"\"\n",
    "    A parameter that generates a setpoint array from start, stop and num points\n",
    "    parameters.\n",
    "    \"\"\"\n",
    "    def __init__(self, startparam, stopparam, numpointsparam, *args, **kwargs):\n",
    "        super().__init__(*args, **kwargs)\n",
    "        self._startparam = startparam\n",
    "        self._stopparam = stopparam\n",
    "        self._numpointsparam = numpointsparam\n",
    "\n",
    "    def get_raw(self):\n",
    "        return np.linspace(self._startparam(), self._stopparam(),\n",
    "                              self._numpointsparam())\n",
    "\n",
    "class DummyArray(ParameterWithSetpoints):\n",
    "    \n",
    "    def get_raw(self):\n",
    "        npoints = self.root_instrument.n_points.get_latest()\n",
    "        return np.random.rand(npoints)\n",
    "    \n",
    "\n",
    "class DummySpectrumAnalyzer(Instrument):\n",
    "    \n",
    "    def __init__(self, name, **kwargs):\n",
    "        \n",
    "        super().__init__(name, **kwargs)\n",
    "            \n",
    "\n",
    "        self.add_parameter('f_start',\n",
    "                           initial_value=0,\n",
    "                           unit='Hz',\n",
    "                           label='f start',\n",
    "                           vals=Numbers(0,1e3),\n",
    "                           get_cmd=None,\n",
    "                           set_cmd=None)\n",
    "\n",
    "        self.add_parameter('f_stop',\n",
    "                           unit='Hz',\n",
    "                           label='f stop',\n",
    "                           vals=Numbers(1,1e3),\n",
    "                           get_cmd=None,\n",
    "                           set_cmd=None)\n",
    "\n",
    "        self.add_parameter('n_points',\n",
    "                           unit='',\n",
    "                           initial_value=10,\n",
    "                           vals=Numbers(1,1e3),\n",
    "                           get_cmd=None,\n",
    "                           set_cmd=None)\n",
    "        \n",
    "        self.add_parameter('freq_axis',\n",
    "                           unit='Hz',\n",
    "                           label='Freq Axis',\n",
    "                           parameter_class=GeneratedSetPoints,\n",
    "                           startparam=self.f_start,\n",
    "                           stopparam=self.f_stop,\n",
    "                           numpointsparam=self.n_points,\n",
    "                           vals=Arrays(shape=(self.n_points.get_latest,)))\n",
    "                           \n",
    "        self.add_parameter('spectrum',\n",
    "                   unit='dBm',\n",
    "                   setpoints=(self.freq_axis,),\n",
    "                   label='Spectrum',\n",
    "                   parameter_class=DummyArray,\n",
    "                   vals=Arrays(shape=(self.n_points.get_latest,)))\n",
    "                "
   ]
  },
  {
   "cell_type": "markdown",
   "metadata": {},
   "source": [
    "In the above example, the shape is defined by the parameter `n_points` that defines how many samples our `DummySpectrumAnalyzer` returns.\n",
    "\n",
    "This means that the validation will call the function to get `n_points` twice for each `get` of the parameter. This may be too slow, however, if you (as the driver-writer) can guarantee that the cached value for `n_points` will never be out of sync with the value stored in the instrument, `n_points` may be replaced by it's latest known value such that the `validator` reads:\n",
    "```python\n",
    "vals=Arrays(shape=(self.n_points.get_latest))\n",
    "```\n",
    "\n",
    "This avoids any additional call to the instrument. In the same way, the arguments to the `freq_axis` parameter that defines the start, stop and number of points can be replaced by their latest value if the instrument allows it.\n",
    "\n"
   ]
  },
  {
   "cell_type": "code",
   "execution_count": 6,
   "metadata": {},
   "outputs": [
    {
     "name": "stdout",
     "output_type": "stream",
     "text": [
      "\r",
      "0it [00:00, ?it/s]"
     ]
    },
    {
     "name": "stdout",
     "output_type": "stream",
     "text": [
      "\r",
      "Upgrading database; v0 -> v1: : 0it [00:00, ?it/s]"
     ]
    },
    {
     "name": "stdout",
     "output_type": "stream",
     "text": [
      "\r",
      "Upgrading database; v0 -> v1: : 0it [00:00, ?it/s]"
     ]
    },
    {
     "name": "stdout",
     "output_type": "stream",
     "text": [
      "\n",
      "\r",
      "  0%|          | 0/1 [00:00<?, ?it/s]"
     ]
    },
    {
     "name": "stdout",
     "output_type": "stream",
     "text": [
      "\r",
      "Upgrading database; v1 -> v2:   0%|          | 0/1 [00:00<?, ?it/s]"
     ]
    },
    {
     "name": "stdout",
     "output_type": "stream",
     "text": [
      "\r",
      "Upgrading database; v1 -> v2: 100%|██████████| 1/1 [00:00<00:00, 737.52it/s]"
     ]
    },
    {
     "name": "stdout",
     "output_type": "stream",
     "text": [
      "\n",
      "\r",
      "0it [00:00, ?it/s]"
     ]
    },
    {
     "name": "stdout",
     "output_type": "stream",
     "text": [
      "\r",
      "Upgrading database; v2 -> v3: : 0it [00:00, ?it/s]"
     ]
    },
    {
     "name": "stdout",
     "output_type": "stream",
     "text": [
      "\r",
      "Upgrading database; v2 -> v3: : 0it [00:00, ?it/s]"
     ]
    },
    {
     "name": "stdout",
     "output_type": "stream",
     "text": [
      "\n",
      "\r",
      "0it [00:00, ?it/s]"
     ]
    },
    {
     "name": "stdout",
     "output_type": "stream",
     "text": [
      "\r",
      "Upgrading database; v3 -> v4: : 0it [00:00, ?it/s]"
     ]
    },
    {
     "name": "stdout",
     "output_type": "stream",
     "text": [
      "\r",
      "Upgrading database; v3 -> v4: : 0it [00:00, ?it/s]"
     ]
    },
    {
     "name": "stdout",
     "output_type": "stream",
     "text": [
      "\n",
      "\r",
      "  0%|          | 0/1 [00:00<?, ?it/s]"
     ]
    },
    {
     "name": "stdout",
     "output_type": "stream",
     "text": [
      "\r",
      "Upgrading database; v4 -> v5:   0%|          | 0/1 [00:00<?, ?it/s]"
     ]
    },
    {
     "name": "stdout",
     "output_type": "stream",
     "text": [
      "\r",
      "Upgrading database; v4 -> v5: 100%|██████████| 1/1 [00:00<00:00, 850.77it/s]"
     ]
    },
    {
     "name": "stdout",
     "output_type": "stream",
     "text": [
      "\n",
      "\r",
      "0it [00:00, ?it/s]"
     ]
    },
    {
     "name": "stdout",
     "output_type": "stream",
     "text": [
      "\r",
      "Upgrading database; v5 -> v6: : 0it [00:00, ?it/s]"
     ]
    },
    {
     "name": "stdout",
     "output_type": "stream",
     "text": [
      "\r",
      "Upgrading database; v5 -> v6: : 0it [00:00, ?it/s]"
     ]
    },
    {
     "name": "stdout",
     "output_type": "stream",
     "text": [
      "\n",
      "\r",
      "  0%|          | 0/1 [00:00<?, ?it/s]"
     ]
    },
    {
     "name": "stdout",
     "output_type": "stream",
     "text": [
      "\r",
      "Upgrading database; v6 -> v7:   0%|          | 0/1 [00:00<?, ?it/s]"
     ]
    },
    {
     "name": "stdout",
     "output_type": "stream",
     "text": [
      "\r",
      "Upgrading database; v6 -> v7: 100%|██████████| 1/1 [00:00<00:00, 451.24it/s]"
     ]
    },
    {
     "name": "stdout",
     "output_type": "stream",
     "text": [
      "\n",
      "\r",
      "  0%|          | 0/1 [00:00<?, ?it/s]"
     ]
    },
    {
     "name": "stdout",
     "output_type": "stream",
     "text": [
      "\r",
      "Upgrading database; v7 -> v8:   0%|          | 0/1 [00:00<?, ?it/s]"
     ]
    },
    {
     "name": "stdout",
     "output_type": "stream",
     "text": [
      "\r",
      "Upgrading database; v7 -> v8: 100%|██████████| 1/1 [00:00<00:00, 1013.61it/s]"
     ]
    },
    {
     "name": "stdout",
     "output_type": "stream",
     "text": [
      "\n",
      "\r",
      "  0%|          | 0/1 [00:00<?, ?it/s]"
     ]
    },
    {
     "name": "stdout",
     "output_type": "stream",
     "text": [
      "\r",
      "Upgrading database; v8 -> v9:   0%|          | 0/1 [00:00<?, ?it/s]"
     ]
    },
    {
     "name": "stdout",
     "output_type": "stream",
     "text": [
      "\r",
      "Upgrading database; v8 -> v9: 100%|██████████| 1/1 [00:00<00:00, 1117.29it/s]"
     ]
    },
    {
     "name": "stdout",
     "output_type": "stream",
     "text": [
      "\n"
     ]
    },
    {
     "data": {
      "text/plain": [
       "tutorial_ParameterWithSetpoints#no sample#1@/home/vsts/work/1/s/docs/examples/Parameters/tutorial_paramter_with_setpoints.db\n",
       "----------------------------------------------------------------------------------------------------------------------------"
      ]
     },
     "execution_count": 6,
     "metadata": {},
     "output_type": "execute_result"
    }
   ],
   "source": [
    "tutorial_db_path = os.path.join(os.getcwd(), 'tutorial_paramter_with_setpoints.db')\n",
    "initialise_or_create_database_at(tutorial_db_path)\n",
    "load_or_create_experiment(experiment_name='tutorial_ParameterWithSetpoints', sample_name=\"no sample\")"
   ]
  },
  {
   "cell_type": "code",
   "execution_count": 7,
   "metadata": {},
   "outputs": [],
   "source": [
    "a = DummySpectrumAnalyzer('foobar')"
   ]
  },
  {
   "cell_type": "markdown",
   "metadata": {},
   "source": [
    "First we setup the limits of the spectrum"
   ]
  },
  {
   "cell_type": "code",
   "execution_count": 8,
   "metadata": {},
   "outputs": [],
   "source": [
    "a.f_start(0)\n",
    "a.f_stop(500)\n",
    "a.n_points(501)"
   ]
  },
  {
   "cell_type": "markdown",
   "metadata": {},
   "source": [
    "And we can grab the frequency axis"
   ]
  },
  {
   "cell_type": "code",
   "execution_count": 9,
   "metadata": {},
   "outputs": [
    {
     "data": {
      "text/plain": [
       "501"
      ]
     },
     "execution_count": 9,
     "metadata": {},
     "output_type": "execute_result"
    }
   ],
   "source": [
    "a.n_points()"
   ]
  },
  {
   "cell_type": "code",
   "execution_count": 10,
   "metadata": {
    "scrolled": false
   },
   "outputs": [
    {
     "data": {
      "text/plain": [
       "501"
      ]
     },
     "execution_count": 10,
     "metadata": {},
     "output_type": "execute_result"
    }
   ],
   "source": [
    "freq_axis = a.freq_axis()\n",
    "len(freq_axis)"
   ]
  },
  {
   "cell_type": "code",
   "execution_count": 11,
   "metadata": {},
   "outputs": [
    {
     "data": {
      "text/plain": [
       "array([0., 1., 2., 3., 4., 5., 6., 7., 8., 9.])"
      ]
     },
     "execution_count": 11,
     "metadata": {},
     "output_type": "execute_result"
    }
   ],
   "source": [
    "freq_axis[:10]"
   ]
  },
  {
   "cell_type": "markdown",
   "metadata": {},
   "source": [
    "As expected we get a result wit 501 points as we asked for an axis with 501 points. "
   ]
  },
  {
   "cell_type": "markdown",
   "metadata": {},
   "source": [
    "Above we have added a validator to the `freq_axis` parameter encoding the fact that this is an Array with `n_points`. Note that we do not have to supply the number of points as an integer but can supply a function that returns the valid number of points. This would normally be a QCoDeS parameter.\n",
    "\n",
    "This will be checked if we validate the output."
   ]
  },
  {
   "cell_type": "code",
   "execution_count": 12,
   "metadata": {},
   "outputs": [],
   "source": [
    "a.freq_axis.validate(a.freq_axis.get())"
   ]
  },
  {
   "cell_type": "markdown",
   "metadata": {},
   "source": [
    "Naturally, we can also get the spectrum. Getting the spectrum will automatically perform validation both for the shape of the parameter itself and the relation to the setpoint parameter(s)"
   ]
  },
  {
   "cell_type": "code",
   "execution_count": 13,
   "metadata": {
    "scrolled": true
   },
   "outputs": [
    {
     "data": {
      "text/plain": [
       "501"
      ]
     },
     "execution_count": 13,
     "metadata": {},
     "output_type": "execute_result"
    }
   ],
   "source": [
    "spectrum = a.spectrum.get()\n",
    "len(spectrum)"
   ]
  },
  {
   "cell_type": "markdown",
   "metadata": {},
   "source": [
    "When we validate a `ParameterWithSetpoints`, we automatically validate that the shape is consistent between the parameters and its setpoints. As well as validating the shape as above."
   ]
  },
  {
   "cell_type": "code",
   "execution_count": 14,
   "metadata": {},
   "outputs": [],
   "source": [
    "a.spectrum.validate(a.spectrum.get())"
   ]
  },
  {
   "cell_type": "markdown",
   "metadata": {},
   "source": [
    "The consistent shapes can be validated explicitly."
   ]
  },
  {
   "cell_type": "code",
   "execution_count": 15,
   "metadata": {},
   "outputs": [],
   "source": [
    "a.spectrum.validate_consistent_shape()"
   ]
  },
  {
   "cell_type": "markdown",
   "metadata": {},
   "source": [
    "We can inspect the setpoints of the spectrum."
   ]
  },
  {
   "cell_type": "code",
   "execution_count": 16,
   "metadata": {},
   "outputs": [
    {
     "data": {
      "text/plain": [
       "(<__main__.GeneratedSetPoints: freq_axis at 140283177842000>,)"
      ]
     },
     "execution_count": 16,
     "metadata": {},
     "output_type": "execute_result"
    }
   ],
   "source": [
    "a.spectrum.setpoints"
   ]
  },
  {
   "cell_type": "markdown",
   "metadata": {},
   "source": [
    "Or even change them."
   ]
  },
  {
   "cell_type": "code",
   "execution_count": 17,
   "metadata": {},
   "outputs": [],
   "source": [
    "a.spectrum.setpoints = (a.freq_axis,)"
   ]
  },
  {
   "cell_type": "markdown",
   "metadata": {},
   "source": [
    "## Measurement"
   ]
  },
  {
   "cell_type": "markdown",
   "metadata": {},
   "source": [
    "We can also directly consume the parameter in a measurement without defining the setpoints of the parameter again. The setpoints are automatically obtained from the definition of the `ParameterWithSetpoint` instance. "
   ]
  },
  {
   "cell_type": "code",
   "execution_count": 18,
   "metadata": {},
   "outputs": [
    {
     "name": "stdout",
     "output_type": "stream",
     "text": [
      "Starting experimental run with id: 1. \n"
     ]
    }
   ],
   "source": [
    "meas = Measurement()\n",
    "meas.register_parameter(a.spectrum)\n",
    "\n",
    "with meas.run() as datasaver:\n",
    "    datasaver.add_result((a.freq_axis, a.freq_axis()),\n",
    "                         (a.spectrum, a.spectrum()))\n",
    "    dataset = datasaver.dataset"
   ]
  },
  {
   "cell_type": "markdown",
   "metadata": {},
   "source": [
    "And plot it"
   ]
  },
  {
   "cell_type": "code",
   "execution_count": 19,
   "metadata": {},
   "outputs": [
    {
     "data": {
      "text/plain": [
       "([<matplotlib.axes._subplots.AxesSubplot at 0x7f9638bf4cd0>], [None])"
      ]
     },
     "execution_count": 19,
     "metadata": {},
     "output_type": "execute_result"
    },
    {
     "data": {
      "image/png": "[encoded data removed]",
      "text/plain": [
       "<Figure size 432x288 with 1 Axes>"
      ]
     },
     "metadata": {
      "needs_background": "light"
     },
     "output_type": "display_data"
    }
   ],
   "source": [
    "plot_dataset(dataset)"
   ]
  },
  {
   "cell_type": "markdown",
   "metadata": {},
   "source": [
    "To reduce the amount of typing a simple convenience function is provided that will take a `ParameterWithSetpoints` and get both its values and the setpoints values and return them as tuples for direct insertion into the Dataset."
   ]
  },
  {
   "cell_type": "code",
   "execution_count": 20,
   "metadata": {
    "scrolled": true
   },
   "outputs": [
    {
     "data": {
      "text/plain": [
       "[(<__main__.GeneratedSetPoints: freq_axis at 140283177842000>,\n",
       "  array([  0.,   1.,   2.,   3.,   4.,   5.,   6.,   7.,   8.,   9.,  10.,\n",
       "          11.,  12.,  13.,  14.,  15.,  16.,  17.,  18.,  19.,  20.,  21.,\n",
       "          22.,  23.,  24.,  25.,  26.,  27.,  28.,  29.,  30.,  31.,  32.,\n",
       "          33.,  34.,  35.,  36.,  37.,  38.,  39.,  40.,  41.,  42.,  43.,\n",
       "          44.,  45.,  46.,  47.,  48.,  49.,  50.,  51.,  52.,  53.,  54.,\n",
       "          55.,  56.,  57.,  58.,  59.,  60.,  61.,  62.,  63.,  64.,  65.,\n",
       "          66.,  67.,  68.,  69.,  70.,  71.,  72.,  73.,  74.,  75.,  76.,\n",
       "          77.,  78.,  79.,  80.,  81.,  82.,  83.,  84.,  85.,  86.,  87.,\n",
       "          88.,  89.,  90.,  91.,  92.,  93.,  94.,  95.,  96.,  97.,  98.,\n",
       "          99., 100., 101., 102., 103., 104., 105., 106., 107., 108., 109.,\n",
       "         110., 111., 112., 113., 114., 115., 116., 117., 118., 119., 120.,\n",
       "         121., 122., 123., 124., 125., 126., 127., 128., 129., 130., 131.,\n",
       "         132., 133., 134., 135., 136., 137., 138., 139., 140., 141., 142.,\n",
       "         143., 144., 145., 146., 147., 148., 149., 150., 151., 152., 153.,\n",
       "         154., 155., 156., 157., 158., 159., 160., 161., 162., 163., 164.,\n",
       "         165., 166., 167., 168., 169., 170., 171., 172., 173., 174., 175.,\n",
       "         176., 177., 178., 179., 180., 181., 182., 183., 184., 185., 186.,\n",
       "         187., 188., 189., 190., 191., 192., 193., 194., 195., 196., 197.,\n",
       "         198., 199., 200., 201., 202., 203., 204., 205., 206., 207., 208.,\n",
       "         209., 210., 211., 212., 213., 214., 215., 216., 217., 218., 219.,\n",
       "         220., 221., 222., 223., 224., 225., 226., 227., 228., 229., 230.,\n",
       "         231., 232., 233., 234., 235., 236., 237., 238., 239., 240., 241.,\n",
       "         242., 243., 244., 245., 246., 247., 248., 249., 250., 251., 252.,\n",
       "         253., 254., 255., 256., 257., 258., 259., 260., 261., 262., 263.,\n",
       "         264., 265., 266., 267., 268., 269., 270., 271., 272., 273., 274.,\n",
       "         275., 276., 277., 278., 279., 280., 281., 282., 283., 284., 285.,\n",
       "         286., 287., 288., 289., 290., 291., 292., 293., 294., 295., 296.,\n",
       "         297., 298., 299., 300., 301., 302., 303., 304., 305., 306., 307.,\n",
       "         308., 309., 310., 311., 312., 313., 314., 315., 316., 317., 318.,\n",
       "         319., 320., 321., 322., 323., 324., 325., 326., 327., 328., 329.,\n",
       "         330., 331., 332., 333., 334., 335., 336., 337., 338., 339., 340.,\n",
       "         341., 342., 343., 344., 345., 346., 347., 348., 349., 350., 351.,\n",
       "         352., 353., 354., 355., 356., 357., 358., 359., 360., 361., 362.,\n",
       "         363., 364., 365., 366., 367., 368., 369., 370., 371., 372., 373.,\n",
       "         374., 375., 376., 377., 378., 379., 380., 381., 382., 383., 384.,\n",
       "         385., 386., 387., 388., 389., 390., 391., 392., 393., 394., 395.,\n",
       "         396., 397., 398., 399., 400., 401., 402., 403., 404., 405., 406.,\n",
       "         407., 408., 409., 410., 411., 412., 413., 414., 415., 416., 417.,\n",
       "         418., 419., 420., 421., 422., 423., 424., 425., 426., 427., 428.,\n",
       "         429., 430., 431., 432., 433., 434., 435., 436., 437., 438., 439.,\n",
       "         440., 441., 442., 443., 444., 445., 446., 447., 448., 449., 450.,\n",
       "         451., 452., 453., 454., 455., 456., 457., 458., 459., 460., 461.,\n",
       "         462., 463., 464., 465., 466., 467., 468., 469., 470., 471., 472.,\n",
       "         473., 474., 475., 476., 477., 478., 479., 480., 481., 482., 483.,\n",
       "         484., 485., 486., 487., 488., 489., 490., 491., 492., 493., 494.,\n",
       "         495., 496., 497., 498., 499., 500.])),\n",
       " (<__main__.DummyArray: spectrum at 140283164142736>,\n",
       "  array([7.05154750e-01, 8.74458666e-01, 1.09485173e-03, 8.83253120e-01,\n",
       "         7.08972509e-01, 9.78297583e-01, 9.92426690e-01, 5.54996908e-01,\n",
       "         4.37187771e-01, 8.57814983e-01, 4.77105667e-01, 6.04271405e-01,\n",
       "         4.42507496e-01, 7.14870232e-01, 8.09508612e-01, 3.37560149e-01,\n",
       "         6.26656122e-01, 3.33330756e-01, 2.89313794e-01, 9.68668483e-01,\n",
       "         7.71419738e-01, 6.43239941e-01, 4.61691446e-02, 7.18922836e-01,\n",
       "         7.28352072e-01, 1.61086505e-01, 9.38272724e-01, 2.20901625e-01,\n",
       "         5.94861549e-02, 9.49055034e-01, 3.52571150e-02, 3.88111327e-01,\n",
       "         8.26358152e-01, 7.46745929e-02, 9.06172361e-02, 7.30930391e-01,\n",
       "         6.35114698e-01, 3.77461329e-01, 7.38402834e-01, 6.96770059e-01,\n",
       "         7.28085694e-01, 6.05340857e-01, 1.83568081e-01, 6.37153628e-01,\n",
       "         6.13080907e-01, 5.86714747e-01, 1.33849679e-01, 7.25161132e-01,\n",
       "         4.37982872e-02, 5.48936957e-01, 8.72988248e-01, 3.16449960e-01,\n",
       "         3.66412031e-01, 1.40223838e-01, 7.23578955e-01, 4.48850491e-01,\n",
       "         7.22505090e-01, 5.37739774e-01, 3.94558054e-01, 9.27633017e-01,\n",
       "         5.67288438e-01, 7.26307353e-01, 5.53015289e-01, 7.45018975e-02,\n",
       "         6.08714965e-01, 7.18978137e-02, 3.70383377e-01, 8.07644831e-01,\n",
       "         3.80430232e-01, 4.64284557e-01, 1.66479260e-01, 8.76116906e-01,\n",
       "         1.64449541e-02, 8.95019638e-01, 7.09887195e-01, 9.64304017e-01,\n",
       "         4.92515494e-01, 4.31658442e-02, 9.62780743e-01, 1.74891757e-02,\n",
       "         7.76140061e-01, 5.60815117e-01, 7.77585846e-01, 9.47984263e-02,\n",
       "         3.40845450e-01, 1.52349402e-01, 3.80516677e-01, 2.73314823e-02,\n",
       "         2.12362789e-01, 4.29420944e-01, 5.45702525e-01, 5.56882601e-01,\n",
       "         1.63222127e-01, 7.04786835e-01, 1.37195440e-01, 1.29431356e-01,\n",
       "         4.65499482e-01, 1.21363211e-01, 5.88289396e-01, 4.98583024e-01,\n",
       "         8.49971039e-01, 3.52740799e-01, 8.51062868e-01, 2.79374923e-01,\n",
       "         9.75048340e-02, 8.48393712e-01, 3.19950254e-01, 1.02613029e-01,\n",
       "         2.37008569e-01, 3.14373000e-01, 8.93871760e-01, 5.47271192e-01,\n",
       "         6.98264884e-01, 8.40810477e-01, 9.26239276e-01, 2.10198765e-01,\n",
       "         9.66828521e-01, 8.59279533e-01, 5.43125741e-01, 4.42286426e-01,\n",
       "         5.50348289e-01, 7.31391920e-01, 3.36357614e-01, 7.74924892e-01,\n",
       "         1.08292453e-01, 1.48719065e-01, 2.26943322e-01, 6.37032027e-01,\n",
       "         8.23670501e-01, 3.14176286e-03, 9.12262649e-01, 4.61630237e-01,\n",
       "         1.43434593e-01, 3.04077181e-01, 1.24594703e-01, 1.29697786e-02,\n",
       "         7.57334039e-01, 1.57307116e-01, 6.39171578e-01, 5.47143977e-01,\n",
       "         2.14639977e-01, 9.40652603e-02, 2.88878204e-02, 9.12884985e-02,\n",
       "         9.46784130e-01, 6.78914834e-01, 3.46982647e-01, 4.02741547e-01,\n",
       "         4.79215908e-01, 5.57824084e-01, 9.75907443e-01, 7.42426143e-02,\n",
       "         8.55200612e-01, 6.27341337e-02, 1.54537261e-01, 6.39095742e-01,\n",
       "         9.72507745e-02, 2.57486985e-01, 9.93312614e-01, 3.82860319e-01,\n",
       "         2.47133337e-01, 2.12601034e-01, 1.87698916e-01, 1.10592500e-01,\n",
       "         4.08375651e-01, 8.95503124e-01, 4.93143458e-01, 3.24726558e-01,\n",
       "         3.80611835e-02, 7.01583685e-01, 2.02272662e-01, 5.41313511e-02,\n",
       "         9.38042774e-01, 5.45302509e-01, 3.33456329e-01, 7.59025310e-01,\n",
       "         6.50933430e-01, 4.31649843e-01, 8.07571593e-01, 9.44293672e-01,\n",
       "         9.14700245e-01, 6.37685150e-01, 3.24492992e-01, 1.68211240e-01,\n",
       "         2.61260286e-01, 4.43011681e-01, 7.20821652e-01, 9.59145139e-01,\n",
       "         4.63089675e-01, 7.47905642e-01, 8.89673106e-01, 4.88558735e-01,\n",
       "         2.06678880e-01, 2.84001452e-01, 8.96075654e-01, 7.20421605e-01,\n",
       "         9.06313397e-01, 7.03522649e-01, 7.39552000e-01, 8.53642829e-01,\n",
       "         2.37377637e-02, 7.55915632e-01, 7.18623584e-01, 6.98037262e-01,\n",
       "         6.36008946e-01, 6.62631590e-01, 8.05609540e-01, 3.13665181e-01,\n",
       "         4.51875856e-01, 1.61846498e-01, 6.34522455e-01, 8.59995102e-01,\n",
       "         9.87143189e-01, 4.92776240e-01, 3.48977977e-01, 8.58042828e-01,\n",
       "         4.16395110e-01, 9.73814228e-01, 9.83090044e-02, 3.51477802e-03,\n",
       "         5.41184344e-01, 7.15201468e-01, 7.73452405e-01, 4.29955089e-01,\n",
       "         6.08100683e-01, 3.43712575e-02, 5.96208851e-01, 7.73377953e-01,\n",
       "         5.29580952e-01, 7.03828811e-02, 2.27968190e-01, 2.69202778e-01,\n",
       "         5.74618443e-01, 6.48312930e-02, 8.71974290e-01, 4.98355679e-01,\n",
       "         4.32611206e-01, 2.99804776e-01, 8.47829673e-01, 6.94632627e-01,\n",
       "         8.17556669e-01, 3.82119204e-01, 1.09215595e-02, 6.81187991e-01,\n",
       "         5.34261599e-01, 5.29637806e-01, 8.59712592e-01, 2.68036809e-02,\n",
       "         1.30848405e-01, 2.34611529e-02, 7.23715657e-01, 6.19007312e-01,\n",
       "         1.42384731e-01, 9.46368022e-01, 1.00767991e-01, 6.15383177e-02,\n",
       "         7.78859005e-01, 3.65331076e-01, 1.87956251e-01, 5.04494382e-01,\n",
       "         8.27554760e-01, 3.62410637e-01, 5.27713696e-01, 8.08402969e-01,\n",
       "         2.82135022e-01, 7.53290054e-01, 4.10782887e-01, 8.58793196e-01,\n",
       "         4.68381506e-01, 3.54016078e-01, 5.24901142e-01, 6.36381068e-01,\n",
       "         4.25247372e-01, 6.20382071e-01, 9.87602007e-01, 5.73381064e-01,\n",
       "         8.88252731e-02, 5.63587645e-01, 3.73335616e-01, 6.10323142e-01,\n",
       "         4.36386545e-01, 6.10502601e-01, 4.11707045e-01, 8.98073774e-01,\n",
       "         5.88968200e-01, 1.75831978e-01, 1.25019780e-01, 9.54309693e-01,\n",
       "         9.38562931e-02, 8.34041620e-01, 7.36978019e-01, 3.23929766e-01,\n",
       "         8.23690574e-01, 5.46523148e-01, 7.36687267e-01, 4.15385205e-02,\n",
       "         1.78618553e-01, 4.10261775e-01, 9.46799242e-01, 5.51947208e-01,\n",
       "         3.38672680e-01, 3.13250882e-01, 4.15278714e-01, 6.85773607e-01,\n",
       "         5.58395992e-01, 8.92656537e-01, 3.50827670e-01, 5.88756470e-04,\n",
       "         9.67388113e-01, 6.38126041e-01, 5.48044847e-01, 3.82783078e-02,\n",
       "         2.11581246e-01, 2.72051655e-01, 1.75619267e-01, 2.76692927e-01,\n",
       "         6.80160081e-01, 2.88156827e-03, 7.46075593e-02, 1.99255037e-01,\n",
       "         3.91340890e-01, 1.72033915e-01, 6.92782721e-01, 6.99528042e-01,\n",
       "         3.43748181e-01, 1.75158122e-01, 7.28482919e-01, 5.79947548e-01,\n",
       "         6.91383796e-02, 7.15579594e-01, 4.07197383e-01, 6.84750273e-01,\n",
       "         8.01953062e-01, 6.25026854e-01, 5.09096155e-01, 5.97376220e-01,\n",
       "         9.93107889e-01, 7.60540222e-01, 6.16297959e-01, 2.39437306e-01,\n",
       "         4.98293830e-01, 2.97056094e-01, 5.48787306e-02, 4.22901769e-01,\n",
       "         9.22355324e-01, 2.27230647e-01, 1.59885118e-01, 9.93020604e-01,\n",
       "         7.27245157e-01, 6.20393818e-01, 8.32792851e-01, 5.68108031e-01,\n",
       "         2.53918115e-02, 9.61093579e-01, 1.38747121e-01, 3.00217749e-01,\n",
       "         4.41121696e-01, 6.73376792e-01, 8.91605370e-02, 2.07983853e-01,\n",
       "         8.00588000e-01, 8.17333672e-01, 1.24709179e-01, 9.78407350e-01,\n",
       "         9.41100241e-01, 8.31892565e-01, 1.83756420e-02, 8.36735330e-01,\n",
       "         7.98445535e-01, 7.15999032e-01, 9.17711623e-01, 4.62216642e-01,\n",
       "         4.08768277e-01, 3.95009484e-01, 3.86196514e-01, 6.66947601e-01,\n",
       "         7.50390787e-01, 2.06353919e-01, 9.47187816e-01, 6.09685524e-01,\n",
       "         3.65467929e-01, 3.45866837e-01, 5.05684589e-01, 6.83667068e-01,\n",
       "         7.61991527e-01, 9.47719012e-01, 7.95132290e-01, 5.88476995e-01,\n",
       "         6.14407292e-03, 1.49622438e-02, 7.72967388e-01, 6.72005203e-01,\n",
       "         2.91074333e-01, 1.01084568e-01, 7.75184622e-01, 1.37575844e-01,\n",
       "         7.47230925e-01, 5.50502243e-01, 7.48356899e-01, 3.91555431e-01,\n",
       "         5.63943895e-01, 2.63181801e-03, 7.84942045e-02, 6.37734058e-01,\n",
       "         7.56558230e-01, 2.82152974e-02, 4.93875239e-01, 6.37472626e-01,\n",
       "         9.93139298e-01, 6.21074715e-01, 9.44030734e-01, 1.34641179e-01,\n",
       "         6.39982922e-01, 1.06274711e-01, 6.10980953e-01, 1.46338824e-01,\n",
       "         7.45096540e-01, 7.71830575e-01, 2.68421034e-01, 1.11221467e-01,\n",
       "         3.44695631e-01, 1.24334113e-01, 5.46502402e-01, 8.58255560e-02,\n",
       "         4.81275453e-01, 1.70123124e-01, 2.02669836e-01, 8.05244511e-01,\n",
       "         5.47776255e-01, 8.37684231e-01, 4.33935876e-01, 8.43356603e-01,\n",
       "         3.84244040e-01, 2.37074694e-01, 4.88966958e-01, 9.80203499e-01,\n",
       "         3.15826593e-01, 8.85144670e-01, 5.02840764e-01, 1.68733102e-01,\n",
       "         5.39564325e-01, 2.50316692e-01, 6.33193582e-01, 8.91500023e-01,\n",
       "         6.95102423e-01, 8.91080300e-01, 9.03137080e-01, 9.92010315e-01,\n",
       "         9.86716345e-02, 5.69331627e-01, 4.14956801e-01, 9.93581606e-01,\n",
       "         9.37494765e-01, 7.49220178e-02, 1.45920461e-02, 8.09084614e-01,\n",
       "         8.25895131e-01, 3.28211334e-01, 7.65773680e-01, 6.76599175e-01,\n",
       "         3.26992421e-01, 5.37805321e-01, 5.01229010e-01, 9.16689212e-01,\n",
       "         9.23482494e-02, 9.79107802e-01, 5.47686591e-01, 9.28351817e-01,\n",
       "         2.47768937e-01, 3.91498881e-01, 8.32356153e-01, 3.53466323e-01,\n",
       "         2.91747243e-01, 7.55474908e-01, 2.19632009e-01, 1.10923482e-01,\n",
       "         8.05454310e-01, 1.31454570e-01, 3.04809105e-01, 2.58927535e-01,\n",
       "         9.90510794e-01, 3.55237609e-01, 8.30742576e-01, 8.84607020e-01,\n",
       "         3.06056161e-01, 4.33606429e-01, 9.56383858e-02, 5.64805978e-01,\n",
       "         4.92134478e-01, 9.87432741e-01, 1.57772428e-01, 9.33755821e-01,\n",
       "         2.42170494e-01, 6.87315838e-01, 1.99514615e-01, 1.57880269e-01,\n",
       "         6.62711191e-01, 6.37191158e-01, 7.80027763e-01, 5.41526215e-01,\n",
       "         8.49677152e-01]))]"
      ]
     },
     "execution_count": 20,
     "metadata": {},
     "output_type": "execute_result"
    }
   ],
   "source": [
    "expand_setpoints_helper(a.spectrum)"
   ]
  },
  {
   "cell_type": "code",
   "execution_count": 21,
   "metadata": {},
   "outputs": [
    {
     "name": "stdout",
     "output_type": "stream",
     "text": [
      "Starting experimental run with id: 2. \n"
     ]
    }
   ],
   "source": [
    "meas = Measurement()\n",
    "meas.register_parameter(a.spectrum)\n",
    "\n",
    "with meas.run() as datasaver:\n",
    "    datasaver.add_result(*expand_setpoints_helper(a.spectrum))\n",
    "    \n",
    "    dataid = datasaver.run_id"
   ]
  },
  {
   "cell_type": "code",
   "execution_count": null,
   "metadata": {},
   "outputs": [],
   "source": []
  }
 ],
 "metadata": {
  "kernelspec": {
   "display_name": "Python 3",
   "language": "python",
   "name": "python3"
  },
  "language_info": {
   "codemirror_mode": {
    "name": "ipython",
    "version": 3
   },
   "file_extension": ".py",
   "mimetype": "text/x-python",
   "name": "python",
   "nbconvert_exporter": "python",
   "pygments_lexer": "ipython3",
   "version": "3.7.7"
  },
  "toc": {
   "base_numbering": 1,
   "nav_menu": {},
   "number_sections": true,
   "sideBar": true,
   "skip_h1_title": false,
   "title_cell": "Table of Contents",
   "title_sidebar": "Contents",
   "toc_cell": false,
   "toc_position": {},
   "toc_section_display": true,
   "toc_window_display": false
  },
  "varInspector": {
   "cols": {
    "lenName": 16,
    "lenType": 16,
    "lenVar": 40
   },
   "kernels_config": {
    "python": {
     "delete_cmd_postfix": "",
     "delete_cmd_prefix": "del ",
     "library": "var_list.py",
     "varRefreshCmd": "print(var_dic_list())"
    },
    "r": {
     "delete_cmd_postfix": ") ",
     "delete_cmd_prefix": "rm(",
     "library": "var_list.r",
     "varRefreshCmd": "cat(var_dic_list()) "
    }
   },
   "types_to_exclude": [
    "module",
    "function",
    "builtin_function_or_method",
    "instance",
    "_Feature"
   ],
   "window_display": false
  }
 },
 "nbformat": 4,
 "nbformat_minor": 2
}
