{
 "cells": [
  {
   "cell_type": "markdown",
   "metadata": {},
   "source": [
    "# Simple Example of ParameterWithSetpoints\n",
    "This notebook provides an example for writing a simple driver with a parameter that has setpoints. Let's name this parameter that has setpoints as \"y\". Then, the setpoints, say \"x1, x2, x3 ..\", are the parameters on which the parameter \n",
    "\"y\" depends upon. Meaning \"y\" is a function of \"x1, x2, x3 ...\" where \"x1, x2, x3 ...\" are known as the setpoints of parameter \"y\".\n",
    "\n",
    "This is most likely to be useful for instruments that return arrays of results. In this notebook, we will show an example of this."
   ]
  },
  {
   "cell_type": "code",
   "execution_count": 1,
   "metadata": {},
   "outputs": [],
   "source": [
    "import numpy as np\n",
    "import os"
   ]
  },
  {
   "cell_type": "code",
   "execution_count": 2,
   "metadata": {},
   "outputs": [
    {
     "name": "stdout",
     "output_type": "stream",
     "text": [
      "Logging hadn't been started.\n",
      "Activating auto-logging. Current session state plus future input saved.\n",
      "Filename       : /home/vsts/.qcodes/logs/command_history.log\n",
      "Mode           : append\n",
      "Output logging : True\n",
      "Raw input log  : False\n",
      "Timestamping   : True\n",
      "State          : active\n"
     ]
    },
    {
     "name": "stdout",
     "output_type": "stream",
     "text": [
      "Qcodes Logfile : /home/vsts/.qcodes/logs/200602-21722-qcodes.log\n"
     ]
    }
   ],
   "source": [
    "from qcodes.dataset.plotting import plot_dataset\n",
    "from qcodes.utils.validators import Numbers, Arrays\n",
    "from qcodes.instrument.base import Instrument\n",
    "from qcodes.dataset.measurements import Measurement"
   ]
  },
  {
   "cell_type": "code",
   "execution_count": 3,
   "metadata": {},
   "outputs": [],
   "source": [
    "from qcodes.dataset.sqlite.database import initialise_or_create_database_at\n",
    "from qcodes.dataset.experiment_container import load_or_create_experiment"
   ]
  },
  {
   "cell_type": "code",
   "execution_count": 4,
   "metadata": {},
   "outputs": [],
   "source": [
    "from qcodes.instrument.parameter import ParameterWithSetpoints, Parameter\n",
    "from qcodes.instrument.parameter import expand_setpoints_helper"
   ]
  },
  {
   "cell_type": "markdown",
   "metadata": {},
   "source": [
    "First, we define a dummy instrument that returns something like a frequency spectrum starting from a frequency given by `f_start` to a frequency given by `f_stop` in `n_points` steps. \n",
    "\n",
    "The extra functionality of the `ParameterWithSetpoints` is implemented by giving it a reference to one or more parameters that acts like its setpoints. \n",
    "\n",
    "To setup a `ParameterWithSetpoints` we have to do two things in addition to what we do for a normal parameter.\n",
    "\n",
    "* Define one or more parameter for the setpoints (one for each dimension of the array and let the `ParameterWithSetpoints` know that these are the setpoints.\n",
    "* Give both the setpoints parameter(s) and the `ParameterWithSetpoints` a `validator` of type `Arrays` with a shape. The shapes should be such that the combined shape of the setpoints matches the shape of the `ParameterWithSetpoints`. Note that if the shape changes with the setting of the instrument, it can be defined by another parameter as shown below. "
   ]
  },
  {
   "cell_type": "code",
   "execution_count": 5,
   "metadata": {},
   "outputs": [],
   "source": [
    "class GeneratedSetPoints(Parameter):\n",
    "    \"\"\"\n",
    "    A parameter that generates a setpoint array from start, stop and num points\n",
    "    parameters.\n",
    "    \"\"\"\n",
    "    def __init__(self, startparam, stopparam, numpointsparam, *args, **kwargs):\n",
    "        super().__init__(*args, **kwargs)\n",
    "        self._startparam = startparam\n",
    "        self._stopparam = stopparam\n",
    "        self._numpointsparam = numpointsparam\n",
    "\n",
    "    def get_raw(self):\n",
    "        return np.linspace(self._startparam(), self._stopparam(),\n",
    "                              self._numpointsparam())\n",
    "\n",
    "class DummyArray(ParameterWithSetpoints):\n",
    "    \n",
    "    def get_raw(self):\n",
    "        npoints = self.root_instrument.n_points.get_latest()\n",
    "        return np.random.rand(npoints)\n",
    "    \n",
    "\n",
    "class DummySpectrumAnalyzer(Instrument):\n",
    "    \n",
    "    def __init__(self, name, **kwargs):\n",
    "        \n",
    "        super().__init__(name, **kwargs)\n",
    "            \n",
    "\n",
    "        self.add_parameter('f_start',\n",
    "                           initial_value=0,\n",
    "                           unit='Hz',\n",
    "                           label='f start',\n",
    "                           vals=Numbers(0,1e3),\n",
    "                           get_cmd=None,\n",
    "                           set_cmd=None)\n",
    "\n",
    "        self.add_parameter('f_stop',\n",
    "                           unit='Hz',\n",
    "                           label='f stop',\n",
    "                           vals=Numbers(1,1e3),\n",
    "                           get_cmd=None,\n",
    "                           set_cmd=None)\n",
    "\n",
    "        self.add_parameter('n_points',\n",
    "                           unit='',\n",
    "                           initial_value=10,\n",
    "                           vals=Numbers(1,1e3),\n",
    "                           get_cmd=None,\n",
    "                           set_cmd=None)\n",
    "        \n",
    "        self.add_parameter('freq_axis',\n",
    "                           unit='Hz',\n",
    "                           label='Freq Axis',\n",
    "                           parameter_class=GeneratedSetPoints,\n",
    "                           startparam=self.f_start,\n",
    "                           stopparam=self.f_stop,\n",
    "                           numpointsparam=self.n_points,\n",
    "                           vals=Arrays(shape=(self.n_points.get_latest,)))\n",
    "                           \n",
    "        self.add_parameter('spectrum',\n",
    "                   unit='dBm',\n",
    "                   setpoints=(self.freq_axis,),\n",
    "                   label='Spectrum',\n",
    "                   parameter_class=DummyArray,\n",
    "                   vals=Arrays(shape=(self.n_points.get_latest,)))\n",
    "                "
   ]
  },
  {
   "cell_type": "markdown",
   "metadata": {},
   "source": [
    "In the above example, the shape is defined by the parameter `n_points` that defines how many samples our `DummySpectrumAnalyzer` returns.\n",
    "\n",
    "This means that the validation will call the function to get `n_points` twice for each `get` of the parameter. This may be too slow, however, if you (as the driver-writer) can guarantee that the cached value for `n_points` will never be out of sync with the value stored in the instrument, `n_points` may be replaced by it's latest known value such that the `validator` reads:\n",
    "```python\n",
    "vals=Arrays(shape=(self.n_points.get_latest))\n",
    "```\n",
    "\n",
    "This avoids any additional call to the instrument. In the same way, the arguments to the `freq_axis` parameter that defines the start, stop and number of points can be replaced by their latest value if the instrument allows it.\n",
    "\n"
   ]
  },
  {
   "cell_type": "code",
   "execution_count": 6,
   "metadata": {},
   "outputs": [
    {
     "name": "stdout",
     "output_type": "stream",
     "text": [
      "\r",
      "0it [00:00, ?it/s]"
     ]
    },
    {
     "name": "stdout",
     "output_type": "stream",
     "text": [
      "\r",
      "Upgrading database; v0 -> v1: : 0it [00:00, ?it/s]"
     ]
    },
    {
     "name": "stdout",
     "output_type": "stream",
     "text": [
      "\r",
      "Upgrading database; v0 -> v1: : 0it [00:00, ?it/s]"
     ]
    },
    {
     "name": "stdout",
     "output_type": "stream",
     "text": [
      "\n",
      "\r",
      "  0%|          | 0/1 [00:00<?, ?it/s]"
     ]
    },
    {
     "name": "stdout",
     "output_type": "stream",
     "text": [
      "\r",
      "Upgrading database; v1 -> v2:   0%|          | 0/1 [00:00<?, ?it/s]"
     ]
    },
    {
     "name": "stdout",
     "output_type": "stream",
     "text": [
      "\r",
      "Upgrading database; v1 -> v2: 100%|██████████| 1/1 [00:00<00:00, 1418.91it/s]"
     ]
    },
    {
     "name": "stdout",
     "output_type": "stream",
     "text": [
      "\n",
      "\r",
      "0it [00:00, ?it/s]"
     ]
    },
    {
     "name": "stdout",
     "output_type": "stream",
     "text": [
      "\r",
      "Upgrading database; v2 -> v3: : 0it [00:00, ?it/s]"
     ]
    },
    {
     "name": "stdout",
     "output_type": "stream",
     "text": [
      "\r",
      "Upgrading database; v2 -> v3: : 0it [00:00, ?it/s]"
     ]
    },
    {
     "name": "stdout",
     "output_type": "stream",
     "text": [
      "\n",
      "\r",
      "0it [00:00, ?it/s]"
     ]
    },
    {
     "name": "stdout",
     "output_type": "stream",
     "text": [
      "\r",
      "Upgrading database; v3 -> v4: : 0it [00:00, ?it/s]"
     ]
    },
    {
     "name": "stdout",
     "output_type": "stream",
     "text": [
      "\r",
      "Upgrading database; v3 -> v4: : 0it [00:00, ?it/s]"
     ]
    },
    {
     "name": "stdout",
     "output_type": "stream",
     "text": [
      "\n",
      "\r",
      "  0%|          | 0/1 [00:00<?, ?it/s]"
     ]
    },
    {
     "name": "stdout",
     "output_type": "stream",
     "text": [
      "\r",
      "Upgrading database; v4 -> v5:   0%|          | 0/1 [00:00<?, ?it/s]"
     ]
    },
    {
     "name": "stdout",
     "output_type": "stream",
     "text": [
      "\r",
      "Upgrading database; v4 -> v5: 100%|██████████| 1/1 [00:00<00:00, 1067.52it/s]"
     ]
    },
    {
     "name": "stdout",
     "output_type": "stream",
     "text": [
      "\n",
      "\r",
      "0it [00:00, ?it/s]"
     ]
    },
    {
     "name": "stdout",
     "output_type": "stream",
     "text": [
      "\r",
      "Upgrading database; v5 -> v6: : 0it [00:00, ?it/s]"
     ]
    },
    {
     "name": "stdout",
     "output_type": "stream",
     "text": [
      "\r",
      "Upgrading database; v5 -> v6: : 0it [00:00, ?it/s]"
     ]
    },
    {
     "name": "stdout",
     "output_type": "stream",
     "text": [
      "\n",
      "\r",
      "  0%|          | 0/1 [00:00<?, ?it/s]"
     ]
    },
    {
     "name": "stdout",
     "output_type": "stream",
     "text": [
      "\r",
      "Upgrading database; v6 -> v7:   0%|          | 0/1 [00:00<?, ?it/s]"
     ]
    },
    {
     "name": "stdout",
     "output_type": "stream",
     "text": [
      "\r",
      "Upgrading database; v6 -> v7: 100%|██████████| 1/1 [00:00<00:00, 498.55it/s]"
     ]
    },
    {
     "name": "stdout",
     "output_type": "stream",
     "text": [
      "\n",
      "\r",
      "  0%|          | 0/1 [00:00<?, ?it/s]"
     ]
    },
    {
     "name": "stdout",
     "output_type": "stream",
     "text": [
      "\r",
      "Upgrading database; v7 -> v8:   0%|          | 0/1 [00:00<?, ?it/s]"
     ]
    },
    {
     "name": "stdout",
     "output_type": "stream",
     "text": [
      "\r",
      "Upgrading database; v7 -> v8: 100%|██████████| 1/1 [00:00<00:00, 934.35it/s]"
     ]
    },
    {
     "name": "stdout",
     "output_type": "stream",
     "text": [
      "\n",
      "\r",
      "  0%|          | 0/1 [00:00<?, ?it/s]"
     ]
    },
    {
     "name": "stdout",
     "output_type": "stream",
     "text": [
      "\r",
      "Upgrading database; v8 -> v9:   0%|          | 0/1 [00:00<?, ?it/s]"
     ]
    },
    {
     "name": "stdout",
     "output_type": "stream",
     "text": [
      "\r",
      "Upgrading database; v8 -> v9: 100%|██████████| 1/1 [00:00<00:00, 1570.90it/s]"
     ]
    },
    {
     "name": "stdout",
     "output_type": "stream",
     "text": [
      "\n"
     ]
    },
    {
     "data": {
      "text/plain": [
       "tutorial_ParameterWithSetpoints#no sample#1@/home/vsts/work/1/s/docs/examples/Parameters/tutorial_paramter_with_setpoints.db\n",
       "----------------------------------------------------------------------------------------------------------------------------"
      ]
     },
     "execution_count": 6,
     "metadata": {},
     "output_type": "execute_result"
    }
   ],
   "source": [
    "tutorial_db_path = os.path.join(os.getcwd(), 'tutorial_paramter_with_setpoints.db')\n",
    "initialise_or_create_database_at(tutorial_db_path)\n",
    "load_or_create_experiment(experiment_name='tutorial_ParameterWithSetpoints', sample_name=\"no sample\")"
   ]
  },
  {
   "cell_type": "code",
   "execution_count": 7,
   "metadata": {},
   "outputs": [],
   "source": [
    "a = DummySpectrumAnalyzer('foobar')"
   ]
  },
  {
   "cell_type": "markdown",
   "metadata": {},
   "source": [
    "First we setup the limits of the spectrum"
   ]
  },
  {
   "cell_type": "code",
   "execution_count": 8,
   "metadata": {},
   "outputs": [],
   "source": [
    "a.f_start(0)\n",
    "a.f_stop(500)\n",
    "a.n_points(501)"
   ]
  },
  {
   "cell_type": "markdown",
   "metadata": {},
   "source": [
    "And we can grab the frequency axis"
   ]
  },
  {
   "cell_type": "code",
   "execution_count": 9,
   "metadata": {},
   "outputs": [
    {
     "data": {
      "text/plain": [
       "501"
      ]
     },
     "execution_count": 9,
     "metadata": {},
     "output_type": "execute_result"
    }
   ],
   "source": [
    "a.n_points()"
   ]
  },
  {
   "cell_type": "code",
   "execution_count": 10,
   "metadata": {
    "scrolled": false
   },
   "outputs": [
    {
     "data": {
      "text/plain": [
       "501"
      ]
     },
     "execution_count": 10,
     "metadata": {},
     "output_type": "execute_result"
    }
   ],
   "source": [
    "freq_axis = a.freq_axis()\n",
    "len(freq_axis)"
   ]
  },
  {
   "cell_type": "code",
   "execution_count": 11,
   "metadata": {},
   "outputs": [
    {
     "data": {
      "text/plain": [
       "array([0., 1., 2., 3., 4., 5., 6., 7., 8., 9.])"
      ]
     },
     "execution_count": 11,
     "metadata": {},
     "output_type": "execute_result"
    }
   ],
   "source": [
    "freq_axis[:10]"
   ]
  },
  {
   "cell_type": "markdown",
   "metadata": {},
   "source": [
    "As expected we get a result wit 501 points as we asked for an axis with 501 points. "
   ]
  },
  {
   "cell_type": "markdown",
   "metadata": {},
   "source": [
    "Above we have added a validator to the `freq_axis` parameter encoding the fact that this is an Array with `n_points`. Note that we do not have to supply the number of points as an integer but can supply a function that returns the valid number of points. This would normally be a QCoDeS parameter.\n",
    "\n",
    "This will be checked if we validate the output."
   ]
  },
  {
   "cell_type": "code",
   "execution_count": 12,
   "metadata": {},
   "outputs": [],
   "source": [
    "a.freq_axis.validate(a.freq_axis.get())"
   ]
  },
  {
   "cell_type": "markdown",
   "metadata": {},
   "source": [
    "Naturally, we can also get the spectrum. Getting the spectrum will automatically perform validation both for the shape of the parameter itself and the relation to the setpoint parameter(s)"
   ]
  },
  {
   "cell_type": "code",
   "execution_count": 13,
   "metadata": {
    "scrolled": true
   },
   "outputs": [
    {
     "data": {
      "text/plain": [
       "501"
      ]
     },
     "execution_count": 13,
     "metadata": {},
     "output_type": "execute_result"
    }
   ],
   "source": [
    "spectrum = a.spectrum.get()\n",
    "len(spectrum)"
   ]
  },
  {
   "cell_type": "markdown",
   "metadata": {},
   "source": [
    "When we validate a `ParameterWithSetpoints`, we automatically validate that the shape is consistent between the parameters and its setpoints. As well as validating the shape as above."
   ]
  },
  {
   "cell_type": "code",
   "execution_count": 14,
   "metadata": {},
   "outputs": [],
   "source": [
    "a.spectrum.validate(a.spectrum.get())"
   ]
  },
  {
   "cell_type": "markdown",
   "metadata": {},
   "source": [
    "The consistent shapes can be validated explicitly."
   ]
  },
  {
   "cell_type": "code",
   "execution_count": 15,
   "metadata": {},
   "outputs": [],
   "source": [
    "a.spectrum.validate_consistent_shape()"
   ]
  },
  {
   "cell_type": "markdown",
   "metadata": {},
   "source": [
    "We can inspect the setpoints of the spectrum."
   ]
  },
  {
   "cell_type": "code",
   "execution_count": 16,
   "metadata": {},
   "outputs": [
    {
     "data": {
      "text/plain": [
       "(<__main__.GeneratedSetPoints: freq_axis at 140374568978384>,)"
      ]
     },
     "execution_count": 16,
     "metadata": {},
     "output_type": "execute_result"
    }
   ],
   "source": [
    "a.spectrum.setpoints"
   ]
  },
  {
   "cell_type": "markdown",
   "metadata": {},
   "source": [
    "Or even change them."
   ]
  },
  {
   "cell_type": "code",
   "execution_count": 17,
   "metadata": {},
   "outputs": [],
   "source": [
    "a.spectrum.setpoints = (a.freq_axis,)"
   ]
  },
  {
   "cell_type": "markdown",
   "metadata": {},
   "source": [
    "## Measurement"
   ]
  },
  {
   "cell_type": "markdown",
   "metadata": {},
   "source": [
    "We can also directly consume the parameter in a measurement without defining the setpoints of the parameter again. The setpoints are automatically obtained from the definition of the `ParameterWithSetpoint` instance. "
   ]
  },
  {
   "cell_type": "code",
   "execution_count": 18,
   "metadata": {},
   "outputs": [
    {
     "name": "stdout",
     "output_type": "stream",
     "text": [
      "Starting experimental run with id: 1. \n"
     ]
    }
   ],
   "source": [
    "meas = Measurement()\n",
    "meas.register_parameter(a.spectrum)\n",
    "\n",
    "with meas.run() as datasaver:\n",
    "    datasaver.add_result((a.freq_axis, a.freq_axis()),\n",
    "                         (a.spectrum, a.spectrum()))\n",
    "    dataset = datasaver.dataset"
   ]
  },
  {
   "cell_type": "markdown",
   "metadata": {},
   "source": [
    "And plot it"
   ]
  },
  {
   "cell_type": "code",
   "execution_count": 19,
   "metadata": {},
   "outputs": [
    {
     "data": {
      "text/plain": [
       "([<matplotlib.axes._subplots.AxesSubplot at 0x7fab7fcbe610>], [None])"
      ]
     },
     "execution_count": 19,
     "metadata": {},
     "output_type": "execute_result"
    },
    {
     "data": {
      "image/png": "[encoded data removed]",
      "text/plain": [
       "<Figure size 432x288 with 1 Axes>"
      ]
     },
     "metadata": {
      "needs_background": "light"
     },
     "output_type": "display_data"
    }
   ],
   "source": [
    "plot_dataset(dataset)"
   ]
  },
  {
   "cell_type": "markdown",
   "metadata": {},
   "source": [
    "To reduce the amount of typing a simple convenience function is provided that will take a `ParameterWithSetpoints` and get both its values and the setpoints values and return them as tuples for direct insertion into the Dataset."
   ]
  },
  {
   "cell_type": "code",
   "execution_count": 20,
   "metadata": {
    "scrolled": true
   },
   "outputs": [
    {
     "data": {
      "text/plain": [
       "[(<__main__.GeneratedSetPoints: freq_axis at 140374568978384>,\n",
       "  array([  0.,   1.,   2.,   3.,   4.,   5.,   6.,   7.,   8.,   9.,  10.,\n",
       "          11.,  12.,  13.,  14.,  15.,  16.,  17.,  18.,  19.,  20.,  21.,\n",
       "          22.,  23.,  24.,  25.,  26.,  27.,  28.,  29.,  30.,  31.,  32.,\n",
       "          33.,  34.,  35.,  36.,  37.,  38.,  39.,  40.,  41.,  42.,  43.,\n",
       "          44.,  45.,  46.,  47.,  48.,  49.,  50.,  51.,  52.,  53.,  54.,\n",
       "          55.,  56.,  57.,  58.,  59.,  60.,  61.,  62.,  63.,  64.,  65.,\n",
       "          66.,  67.,  68.,  69.,  70.,  71.,  72.,  73.,  74.,  75.,  76.,\n",
       "          77.,  78.,  79.,  80.,  81.,  82.,  83.,  84.,  85.,  86.,  87.,\n",
       "          88.,  89.,  90.,  91.,  92.,  93.,  94.,  95.,  96.,  97.,  98.,\n",
       "          99., 100., 101., 102., 103., 104., 105., 106., 107., 108., 109.,\n",
       "         110., 111., 112., 113., 114., 115., 116., 117., 118., 119., 120.,\n",
       "         121., 122., 123., 124., 125., 126., 127., 128., 129., 130., 131.,\n",
       "         132., 133., 134., 135., 136., 137., 138., 139., 140., 141., 142.,\n",
       "         143., 144., 145., 146., 147., 148., 149., 150., 151., 152., 153.,\n",
       "         154., 155., 156., 157., 158., 159., 160., 161., 162., 163., 164.,\n",
       "         165., 166., 167., 168., 169., 170., 171., 172., 173., 174., 175.,\n",
       "         176., 177., 178., 179., 180., 181., 182., 183., 184., 185., 186.,\n",
       "         187., 188., 189., 190., 191., 192., 193., 194., 195., 196., 197.,\n",
       "         198., 199., 200., 201., 202., 203., 204., 205., 206., 207., 208.,\n",
       "         209., 210., 211., 212., 213., 214., 215., 216., 217., 218., 219.,\n",
       "         220., 221., 222., 223., 224., 225., 226., 227., 228., 229., 230.,\n",
       "         231., 232., 233., 234., 235., 236., 237., 238., 239., 240., 241.,\n",
       "         242., 243., 244., 245., 246., 247., 248., 249., 250., 251., 252.,\n",
       "         253., 254., 255., 256., 257., 258., 259., 260., 261., 262., 263.,\n",
       "         264., 265., 266., 267., 268., 269., 270., 271., 272., 273., 274.,\n",
       "         275., 276., 277., 278., 279., 280., 281., 282., 283., 284., 285.,\n",
       "         286., 287., 288., 289., 290., 291., 292., 293., 294., 295., 296.,\n",
       "         297., 298., 299., 300., 301., 302., 303., 304., 305., 306., 307.,\n",
       "         308., 309., 310., 311., 312., 313., 314., 315., 316., 317., 318.,\n",
       "         319., 320., 321., 322., 323., 324., 325., 326., 327., 328., 329.,\n",
       "         330., 331., 332., 333., 334., 335., 336., 337., 338., 339., 340.,\n",
       "         341., 342., 343., 344., 345., 346., 347., 348., 349., 350., 351.,\n",
       "         352., 353., 354., 355., 356., 357., 358., 359., 360., 361., 362.,\n",
       "         363., 364., 365., 366., 367., 368., 369., 370., 371., 372., 373.,\n",
       "         374., 375., 376., 377., 378., 379., 380., 381., 382., 383., 384.,\n",
       "         385., 386., 387., 388., 389., 390., 391., 392., 393., 394., 395.,\n",
       "         396., 397., 398., 399., 400., 401., 402., 403., 404., 405., 406.,\n",
       "         407., 408., 409., 410., 411., 412., 413., 414., 415., 416., 417.,\n",
       "         418., 419., 420., 421., 422., 423., 424., 425., 426., 427., 428.,\n",
       "         429., 430., 431., 432., 433., 434., 435., 436., 437., 438., 439.,\n",
       "         440., 441., 442., 443., 444., 445., 446., 447., 448., 449., 450.,\n",
       "         451., 452., 453., 454., 455., 456., 457., 458., 459., 460., 461.,\n",
       "         462., 463., 464., 465., 466., 467., 468., 469., 470., 471., 472.,\n",
       "         473., 474., 475., 476., 477., 478., 479., 480., 481., 482., 483.,\n",
       "         484., 485., 486., 487., 488., 489., 490., 491., 492., 493., 494.,\n",
       "         495., 496., 497., 498., 499., 500.])),\n",
       " (<__main__.DummyArray: spectrum at 140374569023504>,\n",
       "  array([9.24347124e-01, 5.88969362e-01, 4.08478110e-01, 9.40906187e-01,\n",
       "         9.73107719e-01, 6.86314149e-02, 1.78509731e-01, 2.32739155e-01,\n",
       "         3.67860947e-01, 4.59364515e-01, 3.32234342e-01, 1.90683022e-01,\n",
       "         3.46535617e-01, 5.56405055e-01, 5.71900568e-01, 1.18581168e-01,\n",
       "         9.48067732e-01, 6.93946777e-01, 6.54893856e-01, 3.48710854e-01,\n",
       "         2.17261278e-01, 9.39405804e-01, 8.59803266e-01, 2.44996154e-02,\n",
       "         3.61087550e-01, 1.85684722e-01, 7.79526875e-01, 5.42898366e-01,\n",
       "         2.43022132e-01, 9.29622612e-02, 2.04742674e-01, 8.95306324e-01,\n",
       "         4.78933738e-01, 3.07599036e-01, 7.69319540e-01, 6.53776453e-01,\n",
       "         6.66619434e-01, 4.35023292e-01, 9.79070248e-01, 3.35530800e-01,\n",
       "         3.17136650e-01, 1.07594279e-01, 6.59169484e-01, 8.15461406e-01,\n",
       "         2.82841231e-02, 5.15123172e-01, 5.55252962e-01, 4.56715478e-01,\n",
       "         8.93022849e-01, 1.67756078e-01, 2.95094162e-01, 2.92702553e-01,\n",
       "         6.52244690e-01, 4.04756162e-01, 3.26156676e-01, 9.31628587e-01,\n",
       "         4.47602968e-01, 4.27228720e-01, 5.69002647e-01, 9.60845180e-01,\n",
       "         3.30978735e-01, 4.74353776e-01, 4.10620658e-01, 1.57696166e-02,\n",
       "         3.55584626e-01, 6.06211330e-01, 3.22923016e-01, 7.09841651e-01,\n",
       "         4.58861551e-01, 3.00793863e-02, 5.22857516e-01, 6.21744248e-01,\n",
       "         1.82298287e-02, 5.97019319e-02, 1.84135771e-01, 4.75792341e-01,\n",
       "         3.93740170e-01, 9.50129806e-01, 1.61403455e-03, 6.15125479e-01,\n",
       "         6.21084293e-01, 1.43706896e-01, 9.97408196e-01, 6.60657469e-01,\n",
       "         3.39728310e-01, 3.38262432e-01, 1.02148156e-01, 6.64437410e-01,\n",
       "         9.18094414e-01, 6.07520105e-02, 5.28061288e-01, 6.03894973e-01,\n",
       "         5.70522581e-01, 2.48761699e-01, 6.93904731e-01, 9.99345913e-01,\n",
       "         5.55342557e-01, 4.07639061e-01, 6.51180252e-01, 9.89550663e-01,\n",
       "         6.28530736e-01, 9.10272614e-01, 4.21025403e-01, 4.84845035e-01,\n",
       "         6.25238010e-01, 9.20900172e-01, 4.83397551e-01, 9.58844210e-01,\n",
       "         8.91305658e-01, 1.20452574e-02, 3.30441881e-02, 9.66799067e-01,\n",
       "         8.87234184e-01, 7.15417113e-01, 1.95358918e-02, 2.04119566e-01,\n",
       "         1.34251654e-01, 4.35987051e-01, 2.00973735e-01, 5.44161715e-04,\n",
       "         5.73061561e-01, 2.86224485e-01, 3.41256444e-01, 3.46566613e-01,\n",
       "         8.85426553e-02, 6.81267949e-01, 2.07171257e-01, 9.57613781e-01,\n",
       "         9.95182506e-01, 1.27765592e-01, 2.34240174e-01, 8.59897107e-01,\n",
       "         7.36628601e-01, 8.95429380e-01, 1.29311588e-01, 3.61788005e-01,\n",
       "         3.04380563e-02, 5.91359441e-01, 6.94210760e-01, 4.85754803e-01,\n",
       "         9.82867063e-02, 2.87169845e-01, 6.36722625e-01, 8.22410916e-01,\n",
       "         9.38356106e-01, 7.62920019e-01, 2.35482674e-01, 8.41778629e-01,\n",
       "         7.84325940e-01, 5.72991858e-02, 8.11358412e-01, 6.31868993e-01,\n",
       "         2.28183346e-01, 8.13310779e-01, 8.08713623e-01, 7.76734189e-01,\n",
       "         4.43632165e-01, 9.56304092e-01, 5.20266438e-01, 2.79170959e-01,\n",
       "         8.99104037e-01, 4.69352606e-01, 6.33325541e-01, 5.26177929e-01,\n",
       "         7.69795463e-01, 8.50746453e-01, 6.34078789e-01, 8.11902238e-01,\n",
       "         9.96348782e-01, 1.13883206e-01, 4.58664107e-01, 1.90013623e-01,\n",
       "         2.71713368e-01, 5.97465540e-01, 1.84812016e-01, 8.19101311e-01,\n",
       "         6.19991690e-01, 5.67503053e-01, 8.10601949e-01, 5.15668942e-01,\n",
       "         9.74263053e-01, 7.50121832e-02, 8.06810433e-01, 3.24457181e-01,\n",
       "         6.65595702e-01, 9.30639812e-02, 5.11977921e-02, 8.45296969e-01,\n",
       "         9.32899262e-01, 1.52482207e-01, 9.25489152e-01, 4.83549853e-02,\n",
       "         6.02357193e-01, 5.73981156e-01, 5.74413940e-02, 6.96346354e-01,\n",
       "         8.17964712e-01, 9.92572044e-01, 1.43811841e-02, 2.20116861e-01,\n",
       "         8.27333635e-01, 8.27969393e-01, 8.51343597e-01, 8.99519910e-03,\n",
       "         6.77036425e-01, 6.98441364e-01, 8.62800977e-02, 7.34679430e-01,\n",
       "         1.30670116e-01, 9.79936587e-01, 8.60195343e-01, 3.75692570e-01,\n",
       "         3.12794882e-01, 3.53725228e-01, 4.97521597e-01, 9.21858255e-01,\n",
       "         1.16306616e-01, 2.23068876e-01, 6.28188605e-01, 5.51821499e-01,\n",
       "         7.09593597e-01, 4.38623810e-01, 9.72751331e-02, 2.16768116e-02,\n",
       "         5.00902412e-01, 2.56601317e-01, 1.74939964e-01, 4.40568413e-01,\n",
       "         2.95084971e-01, 5.68112354e-01, 2.41524718e-01, 8.64428451e-01,\n",
       "         2.40192807e-01, 5.71268600e-01, 3.21256000e-01, 3.50551551e-01,\n",
       "         5.37328696e-01, 5.32086260e-01, 2.45219093e-01, 3.93093422e-01,\n",
       "         3.14344346e-01, 1.89857912e-01, 9.04670652e-01, 7.74615316e-02,\n",
       "         3.37543343e-01, 1.67389290e-01, 9.81601452e-01, 2.20957814e-01,\n",
       "         7.99326059e-01, 6.93407422e-01, 3.38820158e-01, 1.88018418e-01,\n",
       "         9.49812152e-01, 5.05169976e-01, 3.39142441e-01, 8.43298497e-01,\n",
       "         3.63511730e-01, 6.22052206e-01, 8.36563820e-01, 8.37498887e-01,\n",
       "         7.04428591e-01, 8.51640167e-01, 6.98224231e-01, 1.33247598e-01,\n",
       "         7.00301665e-01, 6.23915621e-01, 3.88091512e-01, 1.16191107e-01,\n",
       "         7.57226554e-01, 3.62292506e-01, 7.10264970e-01, 5.49013829e-02,\n",
       "         1.79170661e-01, 1.79746742e-01, 8.82771308e-01, 1.33685386e-01,\n",
       "         5.13975665e-01, 7.79503151e-01, 7.87422946e-01, 5.16168748e-01,\n",
       "         6.27381211e-01, 9.02173786e-02, 7.51534427e-01, 8.65478401e-01,\n",
       "         1.12767883e-01, 5.51874146e-01, 5.24276588e-01, 5.68261689e-01,\n",
       "         6.76447690e-01, 4.82958393e-01, 6.57185262e-01, 7.13725481e-01,\n",
       "         3.16072078e-01, 9.31964014e-01, 7.05210849e-01, 1.50156653e-01,\n",
       "         4.11109169e-01, 5.31494322e-01, 5.55172017e-01, 8.34988563e-01,\n",
       "         4.03542277e-01, 7.97708288e-02, 6.76499456e-01, 1.87942040e-01,\n",
       "         5.42869414e-01, 4.64869651e-01, 6.94593504e-02, 8.51236438e-01,\n",
       "         8.90052868e-01, 5.79880676e-01, 4.01060893e-01, 9.03958395e-01,\n",
       "         8.01642818e-01, 6.03149353e-01, 2.43480891e-01, 6.90890685e-01,\n",
       "         9.06014803e-01, 4.09642350e-01, 9.81259643e-02, 5.68188135e-01,\n",
       "         5.24980368e-01, 5.76171492e-01, 3.17049539e-01, 7.33632999e-02,\n",
       "         1.05189661e-01, 6.00587800e-01, 4.42703816e-01, 1.67654695e-01,\n",
       "         7.36824011e-01, 7.87640356e-01, 4.35653520e-01, 3.82493712e-01,\n",
       "         3.41994111e-01, 8.50579202e-01, 9.60258717e-01, 3.36439397e-01,\n",
       "         7.13630879e-01, 7.77492545e-01, 7.42998733e-01, 1.63494227e-01,\n",
       "         4.06046184e-01, 2.65745512e-01, 4.24601045e-01, 5.96777676e-01,\n",
       "         5.39830149e-01, 5.99778083e-01, 4.76087836e-01, 6.88023019e-01,\n",
       "         3.96067018e-01, 2.17194979e-01, 4.01197185e-01, 1.32721735e-01,\n",
       "         5.93353697e-01, 2.55292641e-01, 2.56254116e-01, 8.28944515e-02,\n",
       "         4.40686111e-01, 4.27033044e-01, 1.72463181e-01, 4.09753289e-01,\n",
       "         1.59412310e-01, 3.86305711e-01, 9.05124192e-01, 4.63599800e-01,\n",
       "         6.20995406e-01, 5.37955610e-01, 8.45645939e-01, 4.10842359e-02,\n",
       "         3.31243389e-01, 5.64565669e-01, 4.12753177e-01, 7.35378633e-02,\n",
       "         9.82401665e-01, 6.53877339e-01, 4.07300407e-01, 3.45113436e-01,\n",
       "         2.24307755e-01, 6.00719291e-01, 6.84874397e-01, 9.37778128e-01,\n",
       "         7.64324041e-01, 5.84109958e-01, 1.79324386e-01, 8.91682316e-01,\n",
       "         1.42658311e-02, 2.57281127e-01, 3.08415766e-01, 6.39704545e-02,\n",
       "         8.18009809e-01, 5.46857148e-02, 3.21667098e-01, 2.40002749e-02,\n",
       "         1.63030364e-01, 2.70123160e-02, 8.21933896e-01, 5.44085563e-02,\n",
       "         4.49781938e-01, 1.48887937e-01, 7.95063689e-01, 2.01322317e-02,\n",
       "         4.50440850e-02, 8.26730629e-01, 7.64332910e-01, 8.51351544e-01,\n",
       "         2.70501725e-01, 1.01939093e-01, 1.70928315e-01, 2.40416554e-01,\n",
       "         1.42204761e-01, 2.48419780e-01, 8.15114982e-01, 9.16612881e-01,\n",
       "         6.03345248e-01, 4.20033830e-01, 6.46265605e-01, 8.12306090e-01,\n",
       "         6.24991908e-01, 7.10036799e-01, 2.13513429e-01, 6.52953224e-01,\n",
       "         2.85603140e-01, 9.20427411e-01, 9.14842639e-01, 8.26475768e-01,\n",
       "         3.82671443e-01, 9.60851750e-01, 5.80970042e-01, 2.25620052e-03,\n",
       "         5.73526334e-01, 6.41060215e-01, 7.78324741e-01, 4.69097031e-01,\n",
       "         5.71264757e-01, 2.10028059e-01, 2.18437112e-01, 3.50996009e-01,\n",
       "         5.72693753e-01, 5.28531783e-02, 4.04002809e-01, 4.94599751e-01,\n",
       "         9.46328957e-01, 1.02936586e-01, 2.28360411e-01, 9.34893407e-01,\n",
       "         3.60354868e-01, 1.29052084e-01, 9.43376496e-01, 4.06401802e-01,\n",
       "         4.92997770e-01, 7.47181371e-01, 8.27781738e-01, 3.30692304e-01,\n",
       "         6.20115224e-01, 9.34091997e-01, 4.91173672e-01, 6.08201055e-01,\n",
       "         9.41071598e-01, 2.97355066e-01, 7.95063553e-01, 8.88606027e-01,\n",
       "         6.73618559e-01, 6.66341754e-01, 5.32809044e-02, 4.54810411e-01,\n",
       "         2.47918653e-01, 9.38179116e-03, 7.63443322e-01, 2.53064453e-01,\n",
       "         5.38657050e-02, 3.07428391e-01, 6.66472206e-01, 6.86690049e-01,\n",
       "         1.37188505e-01, 2.26562404e-01, 5.09277740e-01, 9.12093904e-01,\n",
       "         7.36818841e-01, 3.52656286e-01, 3.10861202e-01, 4.75316743e-01,\n",
       "         7.25352819e-01, 6.71493303e-02, 3.91406398e-01, 4.96581809e-01,\n",
       "         2.00957651e-01, 1.63818765e-01, 6.94628006e-01, 7.78327279e-01,\n",
       "         7.60766205e-01, 6.20369781e-01, 7.29554310e-02, 3.42860644e-01,\n",
       "         3.77055645e-02, 4.22777054e-01, 3.61348220e-01, 2.69003840e-01,\n",
       "         4.92011784e-01, 3.54737290e-02, 5.67854153e-02, 2.36929618e-01,\n",
       "         1.02323230e-01]))]"
      ]
     },
     "execution_count": 20,
     "metadata": {},
     "output_type": "execute_result"
    }
   ],
   "source": [
    "expand_setpoints_helper(a.spectrum)"
   ]
  },
  {
   "cell_type": "code",
   "execution_count": 21,
   "metadata": {},
   "outputs": [
    {
     "name": "stdout",
     "output_type": "stream",
     "text": [
      "Starting experimental run with id: 2. \n"
     ]
    }
   ],
   "source": [
    "meas = Measurement()\n",
    "meas.register_parameter(a.spectrum)\n",
    "\n",
    "with meas.run() as datasaver:\n",
    "    datasaver.add_result(*expand_setpoints_helper(a.spectrum))\n",
    "    \n",
    "    dataid = datasaver.run_id"
   ]
  },
  {
   "cell_type": "code",
   "execution_count": null,
   "metadata": {},
   "outputs": [],
   "source": []
  }
 ],
 "metadata": {
  "kernelspec": {
   "display_name": "Python 3",
   "language": "python",
   "name": "python3"
  },
  "language_info": {
   "codemirror_mode": {
    "name": "ipython",
    "version": 3
   },
   "file_extension": ".py",
   "mimetype": "text/x-python",
   "name": "python",
   "nbconvert_exporter": "python",
   "pygments_lexer": "ipython3",
   "version": "3.7.7"
  },
  "toc": {
   "base_numbering": 1,
   "nav_menu": {},
   "number_sections": true,
   "sideBar": true,
   "skip_h1_title": false,
   "title_cell": "Table of Contents",
   "title_sidebar": "Contents",
   "toc_cell": false,
   "toc_position": {},
   "toc_section_display": true,
   "toc_window_display": false
  },
  "varInspector": {
   "cols": {
    "lenName": 16,
    "lenType": 16,
    "lenVar": 40
   },
   "kernels_config": {
    "python": {
     "delete_cmd_postfix": "",
     "delete_cmd_prefix": "del ",
     "library": "var_list.py",
     "varRefreshCmd": "print(var_dic_list())"
    },
    "r": {
     "delete_cmd_postfix": ") ",
     "delete_cmd_prefix": "rm(",
     "library": "var_list.r",
     "varRefreshCmd": "cat(var_dic_list()) "
    }
   },
   "types_to_exclude": [
    "module",
    "function",
    "builtin_function_or_method",
    "instance",
    "_Feature"
   ],
   "window_display": false
  }
 },
 "nbformat": 4,
 "nbformat_minor": 2
}
