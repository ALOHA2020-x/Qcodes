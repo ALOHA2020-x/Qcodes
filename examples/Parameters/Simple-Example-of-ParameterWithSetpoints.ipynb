{
 "cells": [
  {
   "cell_type": "markdown",
   "metadata": {},
   "source": [
    "# Simple Example of ParameterWithSetpoints\n",
    "This notebook provides an example for writing a simple driver with a parameter that has setpoints. Let's name this parameter that has setpoints as \"y\". Then, the setpoints, say \"x1, x2, x3 ..\", are the parameters on which the parameter \n",
    "\"y\" depends upon. Meaning \"y\" is a function of \"x1, x2, x3 ...\" where \"x1, x2, x3 ...\" are known as the setpoints of parameter \"y\".\n",
    "\n",
    "This is most likely to be useful for instruments that return arrays of results. In this notebook, we will show an example of this."
   ]
  },
  {
   "cell_type": "code",
   "execution_count": 1,
   "metadata": {},
   "outputs": [],
   "source": [
    "import numpy as np\n",
    "import os"
   ]
  },
  {
   "cell_type": "code",
   "execution_count": 2,
   "metadata": {},
   "outputs": [
    {
     "name": "stdout",
     "output_type": "stream",
     "text": [
      "Logging hadn't been started.\n",
      "Activating auto-logging. Current session state plus future input saved.\n",
      "Filename       : /home/vsts/.qcodes/logs/command_history.log\n",
      "Mode           : append\n",
      "Output logging : True\n",
      "Raw input log  : False\n",
      "Timestamping   : True\n",
      "State          : active\n"
     ]
    },
    {
     "name": "stdout",
     "output_type": "stream",
     "text": [
      "Qcodes Logfile : /home/vsts/.qcodes/logs/200602-22084-qcodes.log\n"
     ]
    }
   ],
   "source": [
    "from qcodes.dataset.plotting import plot_dataset\n",
    "from qcodes.utils.validators import Numbers, Arrays\n",
    "from qcodes.instrument.base import Instrument\n",
    "from qcodes.dataset.measurements import Measurement"
   ]
  },
  {
   "cell_type": "code",
   "execution_count": 3,
   "metadata": {},
   "outputs": [],
   "source": [
    "from qcodes.dataset.sqlite.database import initialise_or_create_database_at\n",
    "from qcodes.dataset.experiment_container import load_or_create_experiment"
   ]
  },
  {
   "cell_type": "code",
   "execution_count": 4,
   "metadata": {},
   "outputs": [],
   "source": [
    "from qcodes.instrument.parameter import ParameterWithSetpoints, Parameter\n",
    "from qcodes.instrument.parameter import expand_setpoints_helper"
   ]
  },
  {
   "cell_type": "markdown",
   "metadata": {},
   "source": [
    "First, we define a dummy instrument that returns something like a frequency spectrum starting from a frequency given by `f_start` to a frequency given by `f_stop` in `n_points` steps. \n",
    "\n",
    "The extra functionality of the `ParameterWithSetpoints` is implemented by giving it a reference to one or more parameters that acts like its setpoints. \n",
    "\n",
    "To setup a `ParameterWithSetpoints` we have to do two things in addition to what we do for a normal parameter.\n",
    "\n",
    "* Define one or more parameter for the setpoints (one for each dimension of the array and let the `ParameterWithSetpoints` know that these are the setpoints.\n",
    "* Give both the setpoints parameter(s) and the `ParameterWithSetpoints` a `validator` of type `Arrays` with a shape. The shapes should be such that the combined shape of the setpoints matches the shape of the `ParameterWithSetpoints`. Note that if the shape changes with the setting of the instrument, it can be defined by another parameter as shown below. "
   ]
  },
  {
   "cell_type": "code",
   "execution_count": 5,
   "metadata": {},
   "outputs": [],
   "source": [
    "class GeneratedSetPoints(Parameter):\n",
    "    \"\"\"\n",
    "    A parameter that generates a setpoint array from start, stop and num points\n",
    "    parameters.\n",
    "    \"\"\"\n",
    "    def __init__(self, startparam, stopparam, numpointsparam, *args, **kwargs):\n",
    "        super().__init__(*args, **kwargs)\n",
    "        self._startparam = startparam\n",
    "        self._stopparam = stopparam\n",
    "        self._numpointsparam = numpointsparam\n",
    "\n",
    "    def get_raw(self):\n",
    "        return np.linspace(self._startparam(), self._stopparam(),\n",
    "                              self._numpointsparam())\n",
    "\n",
    "class DummyArray(ParameterWithSetpoints):\n",
    "    \n",
    "    def get_raw(self):\n",
    "        npoints = self.root_instrument.n_points.get_latest()\n",
    "        return np.random.rand(npoints)\n",
    "    \n",
    "\n",
    "class DummySpectrumAnalyzer(Instrument):\n",
    "    \n",
    "    def __init__(self, name, **kwargs):\n",
    "        \n",
    "        super().__init__(name, **kwargs)\n",
    "            \n",
    "\n",
    "        self.add_parameter('f_start',\n",
    "                           initial_value=0,\n",
    "                           unit='Hz',\n",
    "                           label='f start',\n",
    "                           vals=Numbers(0,1e3),\n",
    "                           get_cmd=None,\n",
    "                           set_cmd=None)\n",
    "\n",
    "        self.add_parameter('f_stop',\n",
    "                           unit='Hz',\n",
    "                           label='f stop',\n",
    "                           vals=Numbers(1,1e3),\n",
    "                           get_cmd=None,\n",
    "                           set_cmd=None)\n",
    "\n",
    "        self.add_parameter('n_points',\n",
    "                           unit='',\n",
    "                           initial_value=10,\n",
    "                           vals=Numbers(1,1e3),\n",
    "                           get_cmd=None,\n",
    "                           set_cmd=None)\n",
    "        \n",
    "        self.add_parameter('freq_axis',\n",
    "                           unit='Hz',\n",
    "                           label='Freq Axis',\n",
    "                           parameter_class=GeneratedSetPoints,\n",
    "                           startparam=self.f_start,\n",
    "                           stopparam=self.f_stop,\n",
    "                           numpointsparam=self.n_points,\n",
    "                           vals=Arrays(shape=(self.n_points.get_latest,)))\n",
    "                           \n",
    "        self.add_parameter('spectrum',\n",
    "                   unit='dBm',\n",
    "                   setpoints=(self.freq_axis,),\n",
    "                   label='Spectrum',\n",
    "                   parameter_class=DummyArray,\n",
    "                   vals=Arrays(shape=(self.n_points.get_latest,)))\n",
    "                "
   ]
  },
  {
   "cell_type": "markdown",
   "metadata": {},
   "source": [
    "In the above example, the shape is defined by the parameter `n_points` that defines how many samples our `DummySpectrumAnalyzer` returns.\n",
    "\n",
    "This means that the validation will call the function to get `n_points` twice for each `get` of the parameter. This may be too slow, however, if you (as the driver-writer) can guarantee that the cached value for `n_points` will never be out of sync with the value stored in the instrument, `n_points` may be replaced by it's latest known value such that the `validator` reads:\n",
    "```python\n",
    "vals=Arrays(shape=(self.n_points.get_latest))\n",
    "```\n",
    "\n",
    "This avoids any additional call to the instrument. In the same way, the arguments to the `freq_axis` parameter that defines the start, stop and number of points can be replaced by their latest value if the instrument allows it.\n",
    "\n"
   ]
  },
  {
   "cell_type": "code",
   "execution_count": 6,
   "metadata": {},
   "outputs": [
    {
     "name": "stdout",
     "output_type": "stream",
     "text": [
      "\r",
      "0it [00:00, ?it/s]"
     ]
    },
    {
     "name": "stdout",
     "output_type": "stream",
     "text": [
      "\r",
      "Upgrading database; v0 -> v1: : 0it [00:00, ?it/s]"
     ]
    },
    {
     "name": "stdout",
     "output_type": "stream",
     "text": [
      "\r",
      "Upgrading database; v0 -> v1: : 0it [00:00, ?it/s]"
     ]
    },
    {
     "name": "stdout",
     "output_type": "stream",
     "text": [
      "\n",
      "\r",
      "  0%|          | 0/1 [00:00<?, ?it/s]"
     ]
    },
    {
     "name": "stdout",
     "output_type": "stream",
     "text": [
      "\r",
      "Upgrading database; v1 -> v2:   0%|          | 0/1 [00:00<?, ?it/s]"
     ]
    },
    {
     "name": "stdout",
     "output_type": "stream",
     "text": [
      "\r",
      "Upgrading database; v1 -> v2: 100%|██████████| 1/1 [00:00<00:00, 959.36it/s]"
     ]
    },
    {
     "name": "stdout",
     "output_type": "stream",
     "text": [
      "\n",
      "\r",
      "0it [00:00, ?it/s]"
     ]
    },
    {
     "name": "stdout",
     "output_type": "stream",
     "text": [
      "\r",
      "Upgrading database; v2 -> v3: : 0it [00:00, ?it/s]"
     ]
    },
    {
     "name": "stdout",
     "output_type": "stream",
     "text": [
      "\r",
      "Upgrading database; v2 -> v3: : 0it [00:00, ?it/s]"
     ]
    },
    {
     "name": "stdout",
     "output_type": "stream",
     "text": [
      "\n",
      "\r",
      "0it [00:00, ?it/s]"
     ]
    },
    {
     "name": "stdout",
     "output_type": "stream",
     "text": [
      "\r",
      "Upgrading database; v3 -> v4: : 0it [00:00, ?it/s]"
     ]
    },
    {
     "name": "stdout",
     "output_type": "stream",
     "text": [
      "\r",
      "Upgrading database; v3 -> v4: : 0it [00:00, ?it/s]"
     ]
    },
    {
     "name": "stdout",
     "output_type": "stream",
     "text": [
      "\n",
      "\r",
      "  0%|          | 0/1 [00:00<?, ?it/s]"
     ]
    },
    {
     "name": "stdout",
     "output_type": "stream",
     "text": [
      "\r",
      "Upgrading database; v4 -> v5:   0%|          | 0/1 [00:00<?, ?it/s]"
     ]
    },
    {
     "name": "stdout",
     "output_type": "stream",
     "text": [
      "\r",
      "Upgrading database; v4 -> v5: 100%|██████████| 1/1 [00:00<00:00, 933.52it/s]"
     ]
    },
    {
     "name": "stdout",
     "output_type": "stream",
     "text": [
      "\n",
      "\r",
      "0it [00:00, ?it/s]"
     ]
    },
    {
     "name": "stdout",
     "output_type": "stream",
     "text": [
      "\r",
      "Upgrading database; v5 -> v6: : 0it [00:00, ?it/s]"
     ]
    },
    {
     "name": "stdout",
     "output_type": "stream",
     "text": [
      "\r",
      "Upgrading database; v5 -> v6: : 0it [00:00, ?it/s]"
     ]
    },
    {
     "name": "stdout",
     "output_type": "stream",
     "text": [
      "\n",
      "\r",
      "  0%|          | 0/1 [00:00<?, ?it/s]"
     ]
    },
    {
     "name": "stdout",
     "output_type": "stream",
     "text": [
      "\r",
      "Upgrading database; v6 -> v7:   0%|          | 0/1 [00:00<?, ?it/s]"
     ]
    },
    {
     "name": "stdout",
     "output_type": "stream",
     "text": [
      "\r",
      "Upgrading database; v6 -> v7: 100%|██████████| 1/1 [00:00<00:00, 320.52it/s]"
     ]
    },
    {
     "name": "stdout",
     "output_type": "stream",
     "text": [
      "\n",
      "\r",
      "  0%|          | 0/1 [00:00<?, ?it/s]"
     ]
    },
    {
     "name": "stdout",
     "output_type": "stream",
     "text": [
      "\r",
      "Upgrading database; v7 -> v8:   0%|          | 0/1 [00:00<?, ?it/s]"
     ]
    },
    {
     "name": "stdout",
     "output_type": "stream",
     "text": [
      "\r",
      "Upgrading database; v7 -> v8: 100%|██████████| 1/1 [00:00<00:00, 806.29it/s]"
     ]
    },
    {
     "name": "stdout",
     "output_type": "stream",
     "text": [
      "\n",
      "\r",
      "  0%|          | 0/1 [00:00<?, ?it/s]"
     ]
    },
    {
     "name": "stdout",
     "output_type": "stream",
     "text": [
      "\r",
      "Upgrading database; v8 -> v9:   0%|          | 0/1 [00:00<?, ?it/s]"
     ]
    },
    {
     "name": "stdout",
     "output_type": "stream",
     "text": [
      "\r",
      "Upgrading database; v8 -> v9: 100%|██████████| 1/1 [00:00<00:00, 1073.26it/s]"
     ]
    },
    {
     "name": "stdout",
     "output_type": "stream",
     "text": [
      "\n"
     ]
    },
    {
     "data": {
      "text/plain": [
       "tutorial_ParameterWithSetpoints#no sample#1@/home/vsts/work/1/s/docs/examples/Parameters/tutorial_paramter_with_setpoints.db\n",
       "----------------------------------------------------------------------------------------------------------------------------"
      ]
     },
     "execution_count": 6,
     "metadata": {},
     "output_type": "execute_result"
    }
   ],
   "source": [
    "tutorial_db_path = os.path.join(os.getcwd(), 'tutorial_paramter_with_setpoints.db')\n",
    "initialise_or_create_database_at(tutorial_db_path)\n",
    "load_or_create_experiment(experiment_name='tutorial_ParameterWithSetpoints', sample_name=\"no sample\")"
   ]
  },
  {
   "cell_type": "code",
   "execution_count": 7,
   "metadata": {},
   "outputs": [],
   "source": [
    "a = DummySpectrumAnalyzer('foobar')"
   ]
  },
  {
   "cell_type": "markdown",
   "metadata": {},
   "source": [
    "First we setup the limits of the spectrum"
   ]
  },
  {
   "cell_type": "code",
   "execution_count": 8,
   "metadata": {},
   "outputs": [],
   "source": [
    "a.f_start(0)\n",
    "a.f_stop(500)\n",
    "a.n_points(501)"
   ]
  },
  {
   "cell_type": "markdown",
   "metadata": {},
   "source": [
    "And we can grab the frequency axis"
   ]
  },
  {
   "cell_type": "code",
   "execution_count": 9,
   "metadata": {},
   "outputs": [
    {
     "data": {
      "text/plain": [
       "501"
      ]
     },
     "execution_count": 9,
     "metadata": {},
     "output_type": "execute_result"
    }
   ],
   "source": [
    "a.n_points()"
   ]
  },
  {
   "cell_type": "code",
   "execution_count": 10,
   "metadata": {
    "scrolled": false
   },
   "outputs": [
    {
     "data": {
      "text/plain": [
       "501"
      ]
     },
     "execution_count": 10,
     "metadata": {},
     "output_type": "execute_result"
    }
   ],
   "source": [
    "freq_axis = a.freq_axis()\n",
    "len(freq_axis)"
   ]
  },
  {
   "cell_type": "code",
   "execution_count": 11,
   "metadata": {},
   "outputs": [
    {
     "data": {
      "text/plain": [
       "array([0., 1., 2., 3., 4., 5., 6., 7., 8., 9.])"
      ]
     },
     "execution_count": 11,
     "metadata": {},
     "output_type": "execute_result"
    }
   ],
   "source": [
    "freq_axis[:10]"
   ]
  },
  {
   "cell_type": "markdown",
   "metadata": {},
   "source": [
    "As expected we get a result wit 501 points as we asked for an axis with 501 points. "
   ]
  },
  {
   "cell_type": "markdown",
   "metadata": {},
   "source": [
    "Above we have added a validator to the `freq_axis` parameter encoding the fact that this is an Array with `n_points`. Note that we do not have to supply the number of points as an integer but can supply a function that returns the valid number of points. This would normally be a QCoDeS parameter.\n",
    "\n",
    "This will be checked if we validate the output."
   ]
  },
  {
   "cell_type": "code",
   "execution_count": 12,
   "metadata": {},
   "outputs": [],
   "source": [
    "a.freq_axis.validate(a.freq_axis.get())"
   ]
  },
  {
   "cell_type": "markdown",
   "metadata": {},
   "source": [
    "Naturally, we can also get the spectrum. Getting the spectrum will automatically perform validation both for the shape of the parameter itself and the relation to the setpoint parameter(s)"
   ]
  },
  {
   "cell_type": "code",
   "execution_count": 13,
   "metadata": {
    "scrolled": true
   },
   "outputs": [
    {
     "data": {
      "text/plain": [
       "501"
      ]
     },
     "execution_count": 13,
     "metadata": {},
     "output_type": "execute_result"
    }
   ],
   "source": [
    "spectrum = a.spectrum.get()\n",
    "len(spectrum)"
   ]
  },
  {
   "cell_type": "markdown",
   "metadata": {},
   "source": [
    "When we validate a `ParameterWithSetpoints`, we automatically validate that the shape is consistent between the parameters and its setpoints. As well as validating the shape as above."
   ]
  },
  {
   "cell_type": "code",
   "execution_count": 14,
   "metadata": {},
   "outputs": [],
   "source": [
    "a.spectrum.validate(a.spectrum.get())"
   ]
  },
  {
   "cell_type": "markdown",
   "metadata": {},
   "source": [
    "The consistent shapes can be validated explicitly."
   ]
  },
  {
   "cell_type": "code",
   "execution_count": 15,
   "metadata": {},
   "outputs": [],
   "source": [
    "a.spectrum.validate_consistent_shape()"
   ]
  },
  {
   "cell_type": "markdown",
   "metadata": {},
   "source": [
    "We can inspect the setpoints of the spectrum."
   ]
  },
  {
   "cell_type": "code",
   "execution_count": 16,
   "metadata": {},
   "outputs": [
    {
     "data": {
      "text/plain": [
       "(<__main__.GeneratedSetPoints: freq_axis at 139817767476624>,)"
      ]
     },
     "execution_count": 16,
     "metadata": {},
     "output_type": "execute_result"
    }
   ],
   "source": [
    "a.spectrum.setpoints"
   ]
  },
  {
   "cell_type": "markdown",
   "metadata": {},
   "source": [
    "Or even change them."
   ]
  },
  {
   "cell_type": "code",
   "execution_count": 17,
   "metadata": {},
   "outputs": [],
   "source": [
    "a.spectrum.setpoints = (a.freq_axis,)"
   ]
  },
  {
   "cell_type": "markdown",
   "metadata": {},
   "source": [
    "## Measurement"
   ]
  },
  {
   "cell_type": "markdown",
   "metadata": {},
   "source": [
    "We can also directly consume the parameter in a measurement without defining the setpoints of the parameter again. The setpoints are automatically obtained from the definition of the `ParameterWithSetpoint` instance. "
   ]
  },
  {
   "cell_type": "code",
   "execution_count": 18,
   "metadata": {},
   "outputs": [
    {
     "name": "stdout",
     "output_type": "stream",
     "text": [
      "Starting experimental run with id: 1. \n"
     ]
    }
   ],
   "source": [
    "meas = Measurement()\n",
    "meas.register_parameter(a.spectrum)\n",
    "\n",
    "with meas.run() as datasaver:\n",
    "    datasaver.add_result((a.freq_axis, a.freq_axis()),\n",
    "                         (a.spectrum, a.spectrum()))\n",
    "    dataset = datasaver.dataset"
   ]
  },
  {
   "cell_type": "markdown",
   "metadata": {},
   "source": [
    "And plot it"
   ]
  },
  {
   "cell_type": "code",
   "execution_count": 19,
   "metadata": {},
   "outputs": [
    {
     "data": {
      "text/plain": [
       "([<matplotlib.axes._subplots.AxesSubplot at 0x7f29dc7de550>], [None])"
      ]
     },
     "execution_count": 19,
     "metadata": {},
     "output_type": "execute_result"
    },
    {
     "data": {
      "image/png": "[encoded data removed]",
      "text/plain": [
       "<Figure size 432x288 with 1 Axes>"
      ]
     },
     "metadata": {
      "needs_background": "light"
     },
     "output_type": "display_data"
    }
   ],
   "source": [
    "plot_dataset(dataset)"
   ]
  },
  {
   "cell_type": "markdown",
   "metadata": {},
   "source": [
    "To reduce the amount of typing a simple convenience function is provided that will take a `ParameterWithSetpoints` and get both its values and the setpoints values and return them as tuples for direct insertion into the Dataset."
   ]
  },
  {
   "cell_type": "code",
   "execution_count": 20,
   "metadata": {
    "scrolled": true
   },
   "outputs": [
    {
     "data": {
      "text/plain": [
       "[(<__main__.GeneratedSetPoints: freq_axis at 139817767476624>,\n",
       "  array([  0.,   1.,   2.,   3.,   4.,   5.,   6.,   7.,   8.,   9.,  10.,\n",
       "          11.,  12.,  13.,  14.,  15.,  16.,  17.,  18.,  19.,  20.,  21.,\n",
       "          22.,  23.,  24.,  25.,  26.,  27.,  28.,  29.,  30.,  31.,  32.,\n",
       "          33.,  34.,  35.,  36.,  37.,  38.,  39.,  40.,  41.,  42.,  43.,\n",
       "          44.,  45.,  46.,  47.,  48.,  49.,  50.,  51.,  52.,  53.,  54.,\n",
       "          55.,  56.,  57.,  58.,  59.,  60.,  61.,  62.,  63.,  64.,  65.,\n",
       "          66.,  67.,  68.,  69.,  70.,  71.,  72.,  73.,  74.,  75.,  76.,\n",
       "          77.,  78.,  79.,  80.,  81.,  82.,  83.,  84.,  85.,  86.,  87.,\n",
       "          88.,  89.,  90.,  91.,  92.,  93.,  94.,  95.,  96.,  97.,  98.,\n",
       "          99., 100., 101., 102., 103., 104., 105., 106., 107., 108., 109.,\n",
       "         110., 111., 112., 113., 114., 115., 116., 117., 118., 119., 120.,\n",
       "         121., 122., 123., 124., 125., 126., 127., 128., 129., 130., 131.,\n",
       "         132., 133., 134., 135., 136., 137., 138., 139., 140., 141., 142.,\n",
       "         143., 144., 145., 146., 147., 148., 149., 150., 151., 152., 153.,\n",
       "         154., 155., 156., 157., 158., 159., 160., 161., 162., 163., 164.,\n",
       "         165., 166., 167., 168., 169., 170., 171., 172., 173., 174., 175.,\n",
       "         176., 177., 178., 179., 180., 181., 182., 183., 184., 185., 186.,\n",
       "         187., 188., 189., 190., 191., 192., 193., 194., 195., 196., 197.,\n",
       "         198., 199., 200., 201., 202., 203., 204., 205., 206., 207., 208.,\n",
       "         209., 210., 211., 212., 213., 214., 215., 216., 217., 218., 219.,\n",
       "         220., 221., 222., 223., 224., 225., 226., 227., 228., 229., 230.,\n",
       "         231., 232., 233., 234., 235., 236., 237., 238., 239., 240., 241.,\n",
       "         242., 243., 244., 245., 246., 247., 248., 249., 250., 251., 252.,\n",
       "         253., 254., 255., 256., 257., 258., 259., 260., 261., 262., 263.,\n",
       "         264., 265., 266., 267., 268., 269., 270., 271., 272., 273., 274.,\n",
       "         275., 276., 277., 278., 279., 280., 281., 282., 283., 284., 285.,\n",
       "         286., 287., 288., 289., 290., 291., 292., 293., 294., 295., 296.,\n",
       "         297., 298., 299., 300., 301., 302., 303., 304., 305., 306., 307.,\n",
       "         308., 309., 310., 311., 312., 313., 314., 315., 316., 317., 318.,\n",
       "         319., 320., 321., 322., 323., 324., 325., 326., 327., 328., 329.,\n",
       "         330., 331., 332., 333., 334., 335., 336., 337., 338., 339., 340.,\n",
       "         341., 342., 343., 344., 345., 346., 347., 348., 349., 350., 351.,\n",
       "         352., 353., 354., 355., 356., 357., 358., 359., 360., 361., 362.,\n",
       "         363., 364., 365., 366., 367., 368., 369., 370., 371., 372., 373.,\n",
       "         374., 375., 376., 377., 378., 379., 380., 381., 382., 383., 384.,\n",
       "         385., 386., 387., 388., 389., 390., 391., 392., 393., 394., 395.,\n",
       "         396., 397., 398., 399., 400., 401., 402., 403., 404., 405., 406.,\n",
       "         407., 408., 409., 410., 411., 412., 413., 414., 415., 416., 417.,\n",
       "         418., 419., 420., 421., 422., 423., 424., 425., 426., 427., 428.,\n",
       "         429., 430., 431., 432., 433., 434., 435., 436., 437., 438., 439.,\n",
       "         440., 441., 442., 443., 444., 445., 446., 447., 448., 449., 450.,\n",
       "         451., 452., 453., 454., 455., 456., 457., 458., 459., 460., 461.,\n",
       "         462., 463., 464., 465., 466., 467., 468., 469., 470., 471., 472.,\n",
       "         473., 474., 475., 476., 477., 478., 479., 480., 481., 482., 483.,\n",
       "         484., 485., 486., 487., 488., 489., 490., 491., 492., 493., 494.,\n",
       "         495., 496., 497., 498., 499., 500.])),\n",
       " (<__main__.DummyArray: spectrum at 139817762543824>,\n",
       "  array([7.54647905e-01, 4.17076539e-01, 1.03795469e-01, 2.83084049e-01,\n",
       "         2.89910678e-01, 3.99068315e-01, 5.56493718e-01, 9.47939405e-02,\n",
       "         2.03322920e-01, 9.11356809e-01, 7.55496246e-01, 3.10124852e-01,\n",
       "         9.30755758e-02, 6.77671018e-01, 9.72340180e-01, 3.46783093e-01,\n",
       "         1.25837682e-01, 4.28619283e-01, 9.00112463e-02, 1.48689805e-01,\n",
       "         3.84418429e-01, 3.36804695e-01, 8.04420995e-01, 5.53943232e-01,\n",
       "         7.73428087e-01, 4.98928197e-01, 2.75245452e-01, 9.35950080e-01,\n",
       "         8.97282135e-01, 4.64133205e-01, 7.30702810e-02, 7.88268257e-01,\n",
       "         2.88092789e-01, 4.53513086e-01, 9.47834720e-01, 7.64804622e-01,\n",
       "         2.09682133e-01, 4.66354231e-01, 2.71243451e-01, 4.64503667e-01,\n",
       "         6.25122039e-01, 8.86331366e-01, 6.69806987e-01, 7.99865096e-01,\n",
       "         6.22732579e-01, 7.69689772e-01, 1.66426633e-01, 5.42228907e-01,\n",
       "         9.11974296e-01, 8.16920496e-01, 1.71987693e-01, 1.11708560e-01,\n",
       "         3.13818492e-02, 8.41624517e-01, 8.61553010e-01, 6.10053888e-01,\n",
       "         5.45367751e-02, 1.16628545e-01, 7.43166161e-01, 4.92087827e-01,\n",
       "         8.24184443e-02, 1.26575302e-01, 6.36953953e-01, 1.17686681e-01,\n",
       "         1.92614890e-01, 3.08624700e-01, 8.91217656e-01, 6.18664112e-01,\n",
       "         2.47328975e-01, 1.78237714e-02, 9.13411856e-01, 7.06875366e-01,\n",
       "         8.50522860e-01, 7.44684747e-01, 4.04149301e-01, 8.83827311e-01,\n",
       "         9.66838488e-01, 3.65664548e-01, 8.73402975e-01, 6.58096660e-01,\n",
       "         7.42098741e-01, 1.58718045e-01, 1.66293507e-01, 5.35020773e-01,\n",
       "         5.98041659e-02, 7.23843081e-01, 3.61662476e-01, 9.69199350e-01,\n",
       "         6.46769499e-01, 5.16705445e-01, 1.76690023e-01, 8.00189521e-01,\n",
       "         4.10345972e-01, 8.45789777e-01, 3.00871313e-01, 1.24824526e-01,\n",
       "         1.10067802e-01, 4.19236777e-01, 1.53291664e-01, 2.75077689e-01,\n",
       "         6.71847658e-01, 8.69216052e-01, 5.33535939e-02, 5.95363068e-01,\n",
       "         9.55104386e-01, 7.44094104e-01, 6.45572903e-01, 2.07622628e-01,\n",
       "         8.82947617e-02, 6.14401267e-01, 6.25925970e-01, 6.25789595e-01,\n",
       "         2.44533611e-04, 6.98190350e-01, 1.91728818e-01, 4.61729930e-01,\n",
       "         2.40972622e-02, 3.88694480e-01, 1.21820969e-01, 3.75607410e-01,\n",
       "         4.82375178e-01, 8.93581273e-02, 3.31291860e-01, 9.75819020e-01,\n",
       "         2.09167857e-03, 8.14018043e-01, 9.74483749e-01, 8.36338711e-01,\n",
       "         3.56507078e-01, 3.92654005e-01, 9.33186979e-01, 5.71740215e-01,\n",
       "         5.97566422e-01, 1.20909018e-01, 3.04132889e-01, 4.29452620e-01,\n",
       "         8.84859575e-01, 6.14749992e-01, 9.19987773e-01, 8.41044295e-01,\n",
       "         4.10997528e-01, 4.75414169e-01, 7.23299650e-01, 1.79090786e-01,\n",
       "         2.43739768e-01, 6.03495034e-01, 1.92242889e-01, 2.30283893e-01,\n",
       "         6.34741157e-01, 2.52115536e-01, 8.19865798e-01, 3.18815348e-01,\n",
       "         2.50370480e-02, 8.98674020e-01, 8.52802216e-01, 6.09586899e-01,\n",
       "         8.27039230e-01, 2.35831342e-01, 8.12156285e-01, 4.73064802e-01,\n",
       "         6.88988027e-01, 4.49852134e-01, 2.18393761e-01, 1.32069684e-01,\n",
       "         8.49983747e-01, 4.40879226e-01, 2.06673724e-01, 3.48169458e-01,\n",
       "         9.40853669e-01, 5.93779677e-01, 7.59009269e-01, 9.88311303e-01,\n",
       "         2.06057756e-01, 4.51071296e-01, 3.90694220e-01, 9.57711925e-02,\n",
       "         3.95555419e-01, 7.02824738e-01, 7.05088134e-01, 4.79089836e-01,\n",
       "         4.24781991e-01, 4.45166389e-01, 7.93372142e-01, 8.20544510e-02,\n",
       "         7.64276296e-01, 2.30591469e-01, 4.91433558e-01, 7.73565148e-02,\n",
       "         5.38026962e-01, 6.76889759e-01, 8.08315988e-01, 5.71746009e-01,\n",
       "         1.61575444e-01, 3.33065947e-01, 2.72198569e-01, 5.22551157e-01,\n",
       "         2.60788079e-01, 1.49863832e-01, 7.98302386e-01, 8.12671650e-01,\n",
       "         4.91229660e-01, 3.20919275e-01, 4.10850553e-01, 9.65004359e-01,\n",
       "         3.86261378e-01, 6.84430880e-01, 1.10020617e-03, 1.92703167e-01,\n",
       "         7.17510915e-01, 3.71719118e-01, 7.98391105e-01, 1.36802547e-01,\n",
       "         3.77141870e-02, 2.02667623e-01, 6.94920005e-01, 3.26654152e-01,\n",
       "         6.79938004e-01, 5.78346586e-01, 1.05146855e-01, 1.77415676e-01,\n",
       "         5.68079269e-01, 4.90911347e-01, 4.76942093e-02, 3.19459849e-02,\n",
       "         1.83930994e-01, 6.32339668e-01, 7.08787300e-01, 6.15656077e-01,\n",
       "         8.43015531e-01, 1.29237783e-01, 9.14973892e-01, 5.54394049e-01,\n",
       "         9.38217422e-01, 3.79478329e-01, 6.01709584e-02, 4.29447134e-01,\n",
       "         9.19340341e-01, 8.21298485e-01, 9.84674682e-01, 7.94718722e-01,\n",
       "         1.24157593e-01, 5.94389449e-01, 9.79804515e-01, 3.18388013e-01,\n",
       "         3.58303555e-01, 4.25079765e-01, 3.67611182e-01, 6.79403777e-01,\n",
       "         7.28683380e-01, 8.80220894e-02, 5.24039287e-03, 9.27127758e-01,\n",
       "         1.17011838e-02, 3.86373992e-01, 6.14234265e-01, 5.55872764e-01,\n",
       "         6.05367807e-01, 3.69024072e-01, 3.26512369e-01, 7.27843506e-01,\n",
       "         7.51689626e-01, 6.10419769e-01, 9.10647065e-01, 1.94385621e-01,\n",
       "         5.71504893e-02, 8.10322240e-01, 7.42961524e-01, 5.97571699e-01,\n",
       "         5.63168325e-01, 6.85402506e-01, 8.84581410e-01, 2.50798279e-01,\n",
       "         9.56536251e-01, 7.93125217e-01, 3.57081021e-01, 5.50424613e-01,\n",
       "         9.81364493e-03, 5.83571231e-02, 8.74293172e-01, 8.66933122e-01,\n",
       "         8.41037463e-01, 7.07143982e-01, 1.07064859e-01, 4.65495516e-02,\n",
       "         1.62246688e-01, 6.28600673e-01, 9.44810054e-01, 5.14428274e-01,\n",
       "         2.41638022e-01, 1.69814567e-01, 5.08404226e-01, 7.71474645e-01,\n",
       "         1.91139078e-01, 5.13753746e-01, 2.93590552e-01, 7.55386107e-01,\n",
       "         1.28337790e-02, 4.85648582e-01, 5.15839504e-01, 3.66871418e-01,\n",
       "         9.71846199e-01, 9.05837184e-01, 5.72963153e-01, 4.70877362e-01,\n",
       "         8.75216598e-02, 8.61884580e-01, 3.63444129e-01, 6.84368310e-01,\n",
       "         5.22044390e-02, 8.95403537e-01, 8.64754624e-01, 8.60224471e-01,\n",
       "         1.53010074e-01, 9.25652213e-01, 7.16207197e-01, 6.13379856e-01,\n",
       "         6.60756721e-01, 7.12232217e-01, 4.24232322e-01, 7.33883459e-01,\n",
       "         1.59448094e-01, 1.49105471e-01, 4.88501458e-01, 2.01079165e-01,\n",
       "         2.22911928e-01, 1.37806709e-01, 5.69421252e-03, 2.58469404e-01,\n",
       "         5.06425484e-01, 8.84553235e-01, 6.80113324e-01, 9.13486086e-01,\n",
       "         4.14343089e-01, 8.85928877e-01, 1.92533763e-02, 6.36985136e-01,\n",
       "         3.82119713e-01, 7.42306109e-01, 4.75864648e-01, 2.97899448e-02,\n",
       "         5.81513230e-01, 4.89952646e-01, 5.24658638e-01, 8.48662533e-01,\n",
       "         1.12054568e-01, 5.32754766e-01, 8.45931849e-01, 4.23035655e-01,\n",
       "         8.75246953e-01, 2.40325369e-01, 8.86273492e-01, 9.91786484e-01,\n",
       "         9.91435962e-01, 3.97876985e-01, 6.80415681e-01, 5.27133716e-01,\n",
       "         8.27700989e-01, 6.90438834e-01, 5.32069727e-01, 5.73044786e-01,\n",
       "         3.32838995e-01, 9.59080096e-01, 2.52697041e-01, 1.86941156e-01,\n",
       "         9.92131961e-01, 8.84149659e-02, 7.96579539e-01, 1.97315395e-01,\n",
       "         1.81154364e-01, 8.53933420e-01, 7.79579804e-02, 2.30786193e-01,\n",
       "         6.32285419e-01, 1.98227168e-01, 6.45759318e-01, 9.52137386e-01,\n",
       "         8.12001757e-01, 9.87367277e-01, 6.31261201e-01, 9.04016641e-01,\n",
       "         7.68531771e-01, 6.33892347e-01, 8.52393402e-01, 3.69944866e-01,\n",
       "         9.31522768e-01, 6.19557431e-01, 4.46618250e-01, 3.52713586e-01,\n",
       "         4.70020068e-01, 7.41133915e-01, 3.77265384e-01, 5.95170089e-01,\n",
       "         7.49872411e-01, 4.88988292e-01, 1.05934404e-01, 9.00925871e-01,\n",
       "         6.07971038e-01, 6.05824935e-01, 7.82648749e-01, 4.25405482e-01,\n",
       "         9.38699806e-01, 8.73302701e-01, 1.74187203e-01, 4.14005145e-01,\n",
       "         3.11407101e-01, 2.32278206e-01, 3.63726516e-01, 7.34510657e-01,\n",
       "         4.95429195e-01, 7.22516615e-01, 4.42875794e-01, 3.42176723e-01,\n",
       "         6.14913154e-01, 9.78719535e-01, 7.12607346e-01, 6.43641411e-01,\n",
       "         1.04314834e-01, 1.59849725e-01, 1.60424546e-01, 3.35436138e-01,\n",
       "         7.44085712e-01, 5.79737643e-01, 9.23031515e-01, 2.74246274e-01,\n",
       "         4.19130949e-01, 8.69527096e-01, 6.95753961e-01, 9.69573929e-01,\n",
       "         5.70300659e-01, 4.30399963e-01, 1.77767733e-01, 5.86155004e-01,\n",
       "         4.94878546e-01, 7.29733038e-01, 7.59894299e-01, 8.02878709e-01,\n",
       "         6.38740863e-01, 9.98943521e-03, 2.35858137e-01, 7.59399458e-01,\n",
       "         5.73582529e-01, 4.91629045e-01, 8.29828516e-01, 7.46945082e-01,\n",
       "         7.49917751e-01, 9.16016427e-02, 8.13982585e-01, 1.21158714e-01,\n",
       "         3.85794363e-01, 1.21911013e-01, 9.64831734e-01, 3.81668996e-01,\n",
       "         6.74213769e-01, 5.39592505e-01, 4.74845554e-01, 1.65686014e-01,\n",
       "         9.08855488e-01, 6.97392119e-01, 9.78130491e-01, 9.64424842e-01,\n",
       "         1.63133469e-01, 6.93630269e-02, 1.74331041e-01, 4.33800941e-01,\n",
       "         8.24029308e-01, 9.81962882e-02, 8.45877247e-01, 4.95890917e-01,\n",
       "         4.97910026e-01, 7.06283056e-01, 5.29389099e-01, 8.82120485e-01,\n",
       "         4.77980467e-01, 3.77637534e-01, 4.56244216e-01, 6.52803056e-02,\n",
       "         2.56301808e-01, 5.95507738e-01, 6.29880717e-01, 9.73674618e-01,\n",
       "         6.73611555e-01, 1.54520442e-01, 4.73708223e-01, 1.91000073e-01,\n",
       "         4.06203197e-02, 9.23841681e-01, 4.12301424e-01, 5.63601919e-01,\n",
       "         7.15053514e-01, 4.89248736e-01, 5.62484423e-03, 8.32246505e-01,\n",
       "         3.08296761e-01, 1.85116778e-01, 9.87280759e-01, 8.98775986e-01,\n",
       "         7.61049721e-01, 5.39166476e-01, 3.80855700e-01, 3.48195396e-01,\n",
       "         7.84375785e-01]))]"
      ]
     },
     "execution_count": 20,
     "metadata": {},
     "output_type": "execute_result"
    }
   ],
   "source": [
    "expand_setpoints_helper(a.spectrum)"
   ]
  },
  {
   "cell_type": "code",
   "execution_count": 21,
   "metadata": {},
   "outputs": [
    {
     "name": "stdout",
     "output_type": "stream",
     "text": [
      "Starting experimental run with id: 2. \n"
     ]
    }
   ],
   "source": [
    "meas = Measurement()\n",
    "meas.register_parameter(a.spectrum)\n",
    "\n",
    "with meas.run() as datasaver:\n",
    "    datasaver.add_result(*expand_setpoints_helper(a.spectrum))\n",
    "    \n",
    "    dataid = datasaver.run_id"
   ]
  },
  {
   "cell_type": "code",
   "execution_count": null,
   "metadata": {},
   "outputs": [],
   "source": []
  }
 ],
 "metadata": {
  "kernelspec": {
   "display_name": "Python 3",
   "language": "python",
   "name": "python3"
  },
  "language_info": {
   "codemirror_mode": {
    "name": "ipython",
    "version": 3
   },
   "file_extension": ".py",
   "mimetype": "text/x-python",
   "name": "python",
   "nbconvert_exporter": "python",
   "pygments_lexer": "ipython3",
   "version": "3.7.7"
  },
  "toc": {
   "base_numbering": 1,
   "nav_menu": {},
   "number_sections": true,
   "sideBar": true,
   "skip_h1_title": false,
   "title_cell": "Table of Contents",
   "title_sidebar": "Contents",
   "toc_cell": false,
   "toc_position": {},
   "toc_section_display": true,
   "toc_window_display": false
  },
  "varInspector": {
   "cols": {
    "lenName": 16,
    "lenType": 16,
    "lenVar": 40
   },
   "kernels_config": {
    "python": {
     "delete_cmd_postfix": "",
     "delete_cmd_prefix": "del ",
     "library": "var_list.py",
     "varRefreshCmd": "print(var_dic_list())"
    },
    "r": {
     "delete_cmd_postfix": ") ",
     "delete_cmd_prefix": "rm(",
     "library": "var_list.r",
     "varRefreshCmd": "cat(var_dic_list()) "
    }
   },
   "types_to_exclude": [
    "module",
    "function",
    "builtin_function_or_method",
    "instance",
    "_Feature"
   ],
   "window_display": false
  }
 },
 "nbformat": 4,
 "nbformat_minor": 2
}
