{
 "cells": [
  {
   "cell_type": "markdown",
   "metadata": {},
   "source": [
    "# Simple Example of ParameterWithSetpoints\n",
    "This notebook provides an example for writing a simple driver with a parameter that has setpoints. Let's name this parameter that has setpoints as \"y\". Then, the setpoints, say \"x1, x2, x3 ..\", are the parameters on which the parameter \n",
    "\"y\" depends upon. Meaning \"y\" is a function of \"x1, x2, x3 ...\" where \"x1, x2, x3 ...\" are known as the setpoints of parameter \"y\".\n",
    "\n",
    "This is most likely to be useful for instruments that return arrays of results. In this notebook, we will show an example of this."
   ]
  },
  {
   "cell_type": "code",
   "execution_count": 1,
   "metadata": {
    "execution": {
     "iopub.execute_input": "2020-09-21T07:34:16.704419Z",
     "iopub.status.busy": "2020-09-21T07:34:16.703889Z",
     "iopub.status.idle": "2020-09-21T07:34:16.798850Z",
     "shell.execute_reply": "2020-09-21T07:34:16.798313Z"
    }
   },
   "outputs": [],
   "source": [
    "import numpy as np\n",
    "import os"
   ]
  },
  {
   "cell_type": "code",
   "execution_count": 2,
   "metadata": {
    "execution": {
     "iopub.execute_input": "2020-09-21T07:34:16.803052Z",
     "iopub.status.busy": "2020-09-21T07:34:16.802525Z",
     "iopub.status.idle": "2020-09-21T07:34:17.916895Z",
     "shell.execute_reply": "2020-09-21T07:34:17.917369Z"
    }
   },
   "outputs": [
    {
     "name": "stdout",
     "output_type": "stream",
     "text": [
      "Logging hadn't been started.\n",
      "Activating auto-logging. Current session state plus future input saved.\n",
      "Filename       : /home/vsts/.qcodes/logs/command_history.log\n",
      "Mode           : append\n",
      "Output logging : True\n",
      "Raw input log  : False\n",
      "Timestamping   : True\n",
      "State          : active\n"
     ]
    },
    {
     "name": "stdout",
     "output_type": "stream",
     "text": [
      "Qcodes Logfile : /home/vsts/.qcodes/logs/200921-21611-qcodes.log\n"
     ]
    }
   ],
   "source": [
    "from qcodes.dataset.plotting import plot_dataset\n",
    "from qcodes.utils.validators import Numbers, Arrays\n",
    "from qcodes.instrument.base import Instrument\n",
    "from qcodes.dataset.measurements import Measurement"
   ]
  },
  {
   "cell_type": "code",
   "execution_count": 3,
   "metadata": {
    "execution": {
     "iopub.execute_input": "2020-09-21T07:34:17.921093Z",
     "iopub.status.busy": "2020-09-21T07:34:17.920543Z",
     "iopub.status.idle": "2020-09-21T07:34:17.924070Z",
     "shell.execute_reply": "2020-09-21T07:34:17.923615Z"
    }
   },
   "outputs": [],
   "source": [
    "from qcodes.dataset.sqlite.database import initialise_or_create_database_at\n",
    "from qcodes.dataset.experiment_container import load_or_create_experiment"
   ]
  },
  {
   "cell_type": "code",
   "execution_count": 4,
   "metadata": {
    "execution": {
     "iopub.execute_input": "2020-09-21T07:34:17.927510Z",
     "iopub.status.busy": "2020-09-21T07:34:17.926982Z",
     "iopub.status.idle": "2020-09-21T07:34:17.929352Z",
     "shell.execute_reply": "2020-09-21T07:34:17.928790Z"
    }
   },
   "outputs": [],
   "source": [
    "from qcodes.instrument.parameter import ParameterWithSetpoints, Parameter\n",
    "from qcodes.instrument.parameter import expand_setpoints_helper"
   ]
  },
  {
   "cell_type": "markdown",
   "metadata": {},
   "source": [
    "First, we define a dummy instrument that returns something like a frequency spectrum starting from a frequency given by `f_start` to a frequency given by `f_stop` in `n_points` steps. \n",
    "\n",
    "The extra functionality of the `ParameterWithSetpoints` is implemented by giving it a reference to one or more parameters that acts like its setpoints. \n",
    "\n",
    "To setup a `ParameterWithSetpoints` we have to do two things in addition to what we do for a normal parameter.\n",
    "\n",
    "* Define one or more parameter for the setpoints (one for each dimension of the array and let the `ParameterWithSetpoints` know that these are the setpoints.\n",
    "* Give both the setpoints parameter(s) and the `ParameterWithSetpoints` a `validator` of type `Arrays` with a shape. The shapes should be such that the combined shape of the setpoints matches the shape of the `ParameterWithSetpoints`. Note that if the shape changes with the setting of the instrument, it can be defined by another parameter as shown below. "
   ]
  },
  {
   "cell_type": "code",
   "execution_count": 5,
   "metadata": {
    "execution": {
     "iopub.execute_input": "2020-09-21T07:34:17.940573Z",
     "iopub.status.busy": "2020-09-21T07:34:17.939346Z",
     "iopub.status.idle": "2020-09-21T07:34:17.941101Z",
     "shell.execute_reply": "2020-09-21T07:34:17.941577Z"
    }
   },
   "outputs": [],
   "source": [
    "class GeneratedSetPoints(Parameter):\n",
    "    \"\"\"\n",
    "    A parameter that generates a setpoint array from start, stop and num points\n",
    "    parameters.\n",
    "    \"\"\"\n",
    "    def __init__(self, startparam, stopparam, numpointsparam, *args, **kwargs):\n",
    "        super().__init__(*args, **kwargs)\n",
    "        self._startparam = startparam\n",
    "        self._stopparam = stopparam\n",
    "        self._numpointsparam = numpointsparam\n",
    "\n",
    "    def get_raw(self):\n",
    "        return np.linspace(self._startparam(), self._stopparam(),\n",
    "                              self._numpointsparam())\n",
    "\n",
    "class DummyArray(ParameterWithSetpoints):\n",
    "    \n",
    "    def get_raw(self):\n",
    "        npoints = self.root_instrument.n_points.get_latest()\n",
    "        return np.random.rand(npoints)\n",
    "    \n",
    "\n",
    "class DummySpectrumAnalyzer(Instrument):\n",
    "    \n",
    "    def __init__(self, name, **kwargs):\n",
    "        \n",
    "        super().__init__(name, **kwargs)\n",
    "            \n",
    "\n",
    "        self.add_parameter('f_start',\n",
    "                           initial_value=0,\n",
    "                           unit='Hz',\n",
    "                           label='f start',\n",
    "                           vals=Numbers(0,1e3),\n",
    "                           get_cmd=None,\n",
    "                           set_cmd=None)\n",
    "\n",
    "        self.add_parameter('f_stop',\n",
    "                           unit='Hz',\n",
    "                           label='f stop',\n",
    "                           vals=Numbers(1,1e3),\n",
    "                           get_cmd=None,\n",
    "                           set_cmd=None)\n",
    "\n",
    "        self.add_parameter('n_points',\n",
    "                           unit='',\n",
    "                           initial_value=10,\n",
    "                           vals=Numbers(1,1e3),\n",
    "                           get_cmd=None,\n",
    "                           set_cmd=None)\n",
    "        \n",
    "        self.add_parameter('freq_axis',\n",
    "                           unit='Hz',\n",
    "                           label='Freq Axis',\n",
    "                           parameter_class=GeneratedSetPoints,\n",
    "                           startparam=self.f_start,\n",
    "                           stopparam=self.f_stop,\n",
    "                           numpointsparam=self.n_points,\n",
    "                           vals=Arrays(shape=(self.n_points.get_latest,)))\n",
    "                           \n",
    "        self.add_parameter('spectrum',\n",
    "                   unit='dBm',\n",
    "                   setpoints=(self.freq_axis,),\n",
    "                   label='Spectrum',\n",
    "                   parameter_class=DummyArray,\n",
    "                   vals=Arrays(shape=(self.n_points.get_latest,)))\n",
    "                "
   ]
  },
  {
   "cell_type": "markdown",
   "metadata": {},
   "source": [
    "In the above example, the shape is defined by the parameter `n_points` that defines how many samples our `DummySpectrumAnalyzer` returns.\n",
    "\n",
    "This means that the validation will call the function to get `n_points` twice for each `get` of the parameter. This may be too slow, however, if you (as the driver-writer) can guarantee that the cached value for `n_points` will never be out of sync with the value stored in the instrument, `n_points` may be replaced by it's latest known value such that the `validator` reads:\n",
    "```python\n",
    "vals=Arrays(shape=(self.n_points.get_latest))\n",
    "```\n",
    "\n",
    "This avoids any additional call to the instrument. In the same way, the arguments to the `freq_axis` parameter that defines the start, stop and number of points can be replaced by their latest value if the instrument allows it.\n",
    "\n"
   ]
  },
  {
   "cell_type": "code",
   "execution_count": 6,
   "metadata": {
    "execution": {
     "iopub.execute_input": "2020-09-21T07:34:17.945299Z",
     "iopub.status.busy": "2020-09-21T07:34:17.944781Z",
     "iopub.status.idle": "2020-09-21T07:34:18.015990Z",
     "shell.execute_reply": "2020-09-21T07:34:18.016477Z"
    }
   },
   "outputs": [
    {
     "name": "stdout",
     "output_type": "stream",
     "text": [
      "\r",
      "0it [00:00, ?it/s]"
     ]
    },
    {
     "name": "stdout",
     "output_type": "stream",
     "text": [
      "\r",
      "Upgrading database; v0 -> v1: : 0it [00:00, ?it/s]"
     ]
    },
    {
     "name": "stdout",
     "output_type": "stream",
     "text": [
      "\r",
      "Upgrading database; v0 -> v1: : 0it [00:00, ?it/s]"
     ]
    },
    {
     "name": "stdout",
     "output_type": "stream",
     "text": [
      "\n",
      "\r",
      "  0%|          | 0/1 [00:00<?, ?it/s]"
     ]
    },
    {
     "name": "stdout",
     "output_type": "stream",
     "text": [
      "\r",
      "Upgrading database; v1 -> v2:   0%|          | 0/1 [00:00<?, ?it/s]"
     ]
    },
    {
     "name": "stdout",
     "output_type": "stream",
     "text": [
      "\r",
      "Upgrading database; v1 -> v2: 100%|██████████| 1/1 [00:00<00:00, 420.65it/s]"
     ]
    },
    {
     "name": "stdout",
     "output_type": "stream",
     "text": [
      "\n",
      "\r",
      "0it [00:00, ?it/s]"
     ]
    },
    {
     "name": "stdout",
     "output_type": "stream",
     "text": [
      "\r",
      "Upgrading database; v2 -> v3: : 0it [00:00, ?it/s]"
     ]
    },
    {
     "name": "stdout",
     "output_type": "stream",
     "text": [
      "\r",
      "Upgrading database; v2 -> v3: : 0it [00:00, ?it/s]"
     ]
    },
    {
     "name": "stdout",
     "output_type": "stream",
     "text": [
      "\n",
      "\r",
      "0it [00:00, ?it/s]"
     ]
    },
    {
     "name": "stdout",
     "output_type": "stream",
     "text": [
      "\r",
      "Upgrading database; v3 -> v4: : 0it [00:00, ?it/s]"
     ]
    },
    {
     "name": "stdout",
     "output_type": "stream",
     "text": [
      "\r",
      "Upgrading database; v3 -> v4: : 0it [00:00, ?it/s]"
     ]
    },
    {
     "name": "stdout",
     "output_type": "stream",
     "text": [
      "\n",
      "\r",
      "  0%|          | 0/1 [00:00<?, ?it/s]"
     ]
    },
    {
     "name": "stdout",
     "output_type": "stream",
     "text": [
      "\r",
      "Upgrading database; v4 -> v5:   0%|          | 0/1 [00:00<?, ?it/s]"
     ]
    },
    {
     "name": "stdout",
     "output_type": "stream",
     "text": [
      "\r",
      "Upgrading database; v4 -> v5: 100%|██████████| 1/1 [00:00<00:00, 650.28it/s]"
     ]
    },
    {
     "name": "stdout",
     "output_type": "stream",
     "text": [
      "\n",
      "\r",
      "0it [00:00, ?it/s]"
     ]
    },
    {
     "name": "stdout",
     "output_type": "stream",
     "text": [
      "\r",
      "Upgrading database; v5 -> v6: : 0it [00:00, ?it/s]"
     ]
    },
    {
     "name": "stdout",
     "output_type": "stream",
     "text": [
      "\r",
      "Upgrading database; v5 -> v6: : 0it [00:00, ?it/s]"
     ]
    },
    {
     "name": "stdout",
     "output_type": "stream",
     "text": [
      "\n",
      "\r",
      "  0%|          | 0/1 [00:00<?, ?it/s]"
     ]
    },
    {
     "name": "stdout",
     "output_type": "stream",
     "text": [
      "\r",
      "Upgrading database; v6 -> v7:   0%|          | 0/1 [00:00<?, ?it/s]"
     ]
    },
    {
     "name": "stdout",
     "output_type": "stream",
     "text": [
      "\r",
      "Upgrading database; v6 -> v7: 100%|██████████| 1/1 [00:00<00:00, 332.51it/s]"
     ]
    },
    {
     "name": "stdout",
     "output_type": "stream",
     "text": [
      "\n",
      "\r",
      "  0%|          | 0/1 [00:00<?, ?it/s]"
     ]
    },
    {
     "name": "stdout",
     "output_type": "stream",
     "text": [
      "\r",
      "Upgrading database; v7 -> v8:   0%|          | 0/1 [00:00<?, ?it/s]"
     ]
    },
    {
     "name": "stdout",
     "output_type": "stream",
     "text": [
      "\r",
      "Upgrading database; v7 -> v8: 100%|██████████| 1/1 [00:00<00:00, 355.66it/s]"
     ]
    },
    {
     "name": "stdout",
     "output_type": "stream",
     "text": [
      "\n",
      "\r",
      "  0%|          | 0/1 [00:00<?, ?it/s]"
     ]
    },
    {
     "name": "stdout",
     "output_type": "stream",
     "text": [
      "\r",
      "Upgrading database; v8 -> v9:   0%|          | 0/1 [00:00<?, ?it/s]"
     ]
    },
    {
     "name": "stdout",
     "output_type": "stream",
     "text": [
      "\r",
      "Upgrading database; v8 -> v9: 100%|██████████| 1/1 [00:00<00:00, 374.59it/s]"
     ]
    },
    {
     "name": "stdout",
     "output_type": "stream",
     "text": [
      "\n"
     ]
    },
    {
     "data": {
      "text/plain": [
       "tutorial_ParameterWithSetpoints#no sample#1@/home/vsts/work/1/s/docs/examples/Parameters/tutorial_paramter_with_setpoints.db\n",
       "----------------------------------------------------------------------------------------------------------------------------"
      ]
     },
     "execution_count": 1,
     "metadata": {},
     "output_type": "execute_result"
    }
   ],
   "source": [
    "tutorial_db_path = os.path.join(os.getcwd(), 'tutorial_paramter_with_setpoints.db')\n",
    "initialise_or_create_database_at(tutorial_db_path)\n",
    "load_or_create_experiment(experiment_name='tutorial_ParameterWithSetpoints', sample_name=\"no sample\")"
   ]
  },
  {
   "cell_type": "code",
   "execution_count": 7,
   "metadata": {
    "execution": {
     "iopub.execute_input": "2020-09-21T07:34:18.021439Z",
     "iopub.status.busy": "2020-09-21T07:34:18.020348Z",
     "iopub.status.idle": "2020-09-21T07:34:18.021967Z",
     "shell.execute_reply": "2020-09-21T07:34:18.022472Z"
    }
   },
   "outputs": [],
   "source": [
    "a = DummySpectrumAnalyzer('foobar')"
   ]
  },
  {
   "cell_type": "markdown",
   "metadata": {},
   "source": [
    "First we setup the limits of the spectrum"
   ]
  },
  {
   "cell_type": "code",
   "execution_count": 8,
   "metadata": {
    "execution": {
     "iopub.execute_input": "2020-09-21T07:34:18.026894Z",
     "iopub.status.busy": "2020-09-21T07:34:18.025790Z",
     "iopub.status.idle": "2020-09-21T07:34:18.027337Z",
     "shell.execute_reply": "2020-09-21T07:34:18.027751Z"
    }
   },
   "outputs": [],
   "source": [
    "a.f_start(0)\n",
    "a.f_stop(500)\n",
    "a.n_points(501)"
   ]
  },
  {
   "cell_type": "markdown",
   "metadata": {},
   "source": [
    "And we can grab the frequency axis"
   ]
  },
  {
   "cell_type": "code",
   "execution_count": 9,
   "metadata": {
    "execution": {
     "iopub.execute_input": "2020-09-21T07:34:18.031899Z",
     "iopub.status.busy": "2020-09-21T07:34:18.031371Z",
     "iopub.status.idle": "2020-09-21T07:34:18.033733Z",
     "shell.execute_reply": "2020-09-21T07:34:18.034237Z"
    }
   },
   "outputs": [
    {
     "data": {
      "text/plain": [
       "501"
      ]
     },
     "execution_count": 1,
     "metadata": {},
     "output_type": "execute_result"
    }
   ],
   "source": [
    "a.n_points()"
   ]
  },
  {
   "cell_type": "code",
   "execution_count": 10,
   "metadata": {
    "execution": {
     "iopub.execute_input": "2020-09-21T07:34:18.038199Z",
     "iopub.status.busy": "2020-09-21T07:34:18.036563Z",
     "iopub.status.idle": "2020-09-21T07:34:18.040037Z",
     "shell.execute_reply": "2020-09-21T07:34:18.040543Z"
    },
    "scrolled": false
   },
   "outputs": [
    {
     "data": {
      "text/plain": [
       "501"
      ]
     },
     "execution_count": 1,
     "metadata": {},
     "output_type": "execute_result"
    }
   ],
   "source": [
    "freq_axis = a.freq_axis()\n",
    "len(freq_axis)"
   ]
  },
  {
   "cell_type": "code",
   "execution_count": 11,
   "metadata": {
    "execution": {
     "iopub.execute_input": "2020-09-21T07:34:18.045003Z",
     "iopub.status.busy": "2020-09-21T07:34:18.043678Z",
     "iopub.status.idle": "2020-09-21T07:34:18.047433Z",
     "shell.execute_reply": "2020-09-21T07:34:18.046869Z"
    }
   },
   "outputs": [
    {
     "data": {
      "text/plain": [
       "array([0., 1., 2., 3., 4., 5., 6., 7., 8., 9.])"
      ]
     },
     "execution_count": 1,
     "metadata": {},
     "output_type": "execute_result"
    }
   ],
   "source": [
    "freq_axis[:10]"
   ]
  },
  {
   "cell_type": "markdown",
   "metadata": {},
   "source": [
    "As expected we get a result wit 501 points as we asked for an axis with 501 points. "
   ]
  },
  {
   "cell_type": "markdown",
   "metadata": {},
   "source": [
    "Above we have added a validator to the `freq_axis` parameter encoding the fact that this is an Array with `n_points`. Note that we do not have to supply the number of points as an integer but can supply a function that returns the valid number of points. This would normally be a QCoDeS parameter.\n",
    "\n",
    "This will be checked if we validate the output."
   ]
  },
  {
   "cell_type": "code",
   "execution_count": 12,
   "metadata": {
    "execution": {
     "iopub.execute_input": "2020-09-21T07:34:18.051857Z",
     "iopub.status.busy": "2020-09-21T07:34:18.050774Z",
     "iopub.status.idle": "2020-09-21T07:34:18.052387Z",
     "shell.execute_reply": "2020-09-21T07:34:18.052913Z"
    }
   },
   "outputs": [],
   "source": [
    "a.freq_axis.validate(a.freq_axis.get())"
   ]
  },
  {
   "cell_type": "markdown",
   "metadata": {},
   "source": [
    "Naturally, we can also get the spectrum. Getting the spectrum will automatically perform validation both for the shape of the parameter itself and the relation to the setpoint parameter(s)"
   ]
  },
  {
   "cell_type": "code",
   "execution_count": 13,
   "metadata": {
    "execution": {
     "iopub.execute_input": "2020-09-21T07:34:18.057208Z",
     "iopub.status.busy": "2020-09-21T07:34:18.056210Z",
     "iopub.status.idle": "2020-09-21T07:34:18.059009Z",
     "shell.execute_reply": "2020-09-21T07:34:18.059511Z"
    },
    "scrolled": true
   },
   "outputs": [
    {
     "data": {
      "text/plain": [
       "501"
      ]
     },
     "execution_count": 1,
     "metadata": {},
     "output_type": "execute_result"
    }
   ],
   "source": [
    "spectrum = a.spectrum.get()\n",
    "len(spectrum)"
   ]
  },
  {
   "cell_type": "markdown",
   "metadata": {},
   "source": [
    "When we validate a `ParameterWithSetpoints`, we automatically validate that the shape is consistent between the parameters and its setpoints. As well as validating the shape as above."
   ]
  },
  {
   "cell_type": "code",
   "execution_count": 14,
   "metadata": {
    "execution": {
     "iopub.execute_input": "2020-09-21T07:34:18.063133Z",
     "iopub.status.busy": "2020-09-21T07:34:18.062221Z",
     "iopub.status.idle": "2020-09-21T07:34:18.064849Z",
     "shell.execute_reply": "2020-09-21T07:34:18.065266Z"
    }
   },
   "outputs": [],
   "source": [
    "a.spectrum.validate(a.spectrum.get())"
   ]
  },
  {
   "cell_type": "markdown",
   "metadata": {},
   "source": [
    "The consistent shapes can be validated explicitly."
   ]
  },
  {
   "cell_type": "code",
   "execution_count": 15,
   "metadata": {
    "execution": {
     "iopub.execute_input": "2020-09-21T07:34:18.069230Z",
     "iopub.status.busy": "2020-09-21T07:34:18.068310Z",
     "iopub.status.idle": "2020-09-21T07:34:18.070595Z",
     "shell.execute_reply": "2020-09-21T07:34:18.070071Z"
    }
   },
   "outputs": [],
   "source": [
    "a.spectrum.validate_consistent_shape()"
   ]
  },
  {
   "cell_type": "markdown",
   "metadata": {},
   "source": [
    "We can inspect the setpoints of the spectrum."
   ]
  },
  {
   "cell_type": "code",
   "execution_count": 16,
   "metadata": {
    "execution": {
     "iopub.execute_input": "2020-09-21T07:34:18.074831Z",
     "iopub.status.busy": "2020-09-21T07:34:18.074305Z",
     "iopub.status.idle": "2020-09-21T07:34:18.076645Z",
     "shell.execute_reply": "2020-09-21T07:34:18.077194Z"
    }
   },
   "outputs": [
    {
     "data": {
      "text/plain": [
       "(<__main__.GeneratedSetPoints: freq_axis at 140438416396048>,)"
      ]
     },
     "execution_count": 1,
     "metadata": {},
     "output_type": "execute_result"
    }
   ],
   "source": [
    "a.spectrum.setpoints"
   ]
  },
  {
   "cell_type": "markdown",
   "metadata": {},
   "source": [
    "Or even change them."
   ]
  },
  {
   "cell_type": "code",
   "execution_count": 17,
   "metadata": {
    "execution": {
     "iopub.execute_input": "2020-09-21T07:34:18.081311Z",
     "iopub.status.busy": "2020-09-21T07:34:18.080237Z",
     "iopub.status.idle": "2020-09-21T07:34:18.081910Z",
     "shell.execute_reply": "2020-09-21T07:34:18.082414Z"
    }
   },
   "outputs": [],
   "source": [
    "a.spectrum.setpoints = (a.freq_axis,)"
   ]
  },
  {
   "cell_type": "markdown",
   "metadata": {},
   "source": [
    "## Measurement"
   ]
  },
  {
   "cell_type": "markdown",
   "metadata": {},
   "source": [
    "We can also directly consume the parameter in a measurement without defining the setpoints of the parameter again. The setpoints are automatically obtained from the definition of the `ParameterWithSetpoint` instance. "
   ]
  },
  {
   "cell_type": "code",
   "execution_count": 18,
   "metadata": {
    "execution": {
     "iopub.execute_input": "2020-09-21T07:34:18.086601Z",
     "iopub.status.busy": "2020-09-21T07:34:18.085502Z",
     "iopub.status.idle": "2020-09-21T07:34:18.102856Z",
     "shell.execute_reply": "2020-09-21T07:34:18.102399Z"
    }
   },
   "outputs": [
    {
     "name": "stdout",
     "output_type": "stream",
     "text": [
      "Starting experimental run with id: 1. \n"
     ]
    }
   ],
   "source": [
    "meas = Measurement()\n",
    "meas.register_parameter(a.spectrum)\n",
    "\n",
    "with meas.run() as datasaver:\n",
    "    datasaver.add_result((a.freq_axis, a.freq_axis()),\n",
    "                         (a.spectrum, a.spectrum()))\n",
    "    dataset = datasaver.dataset"
   ]
  },
  {
   "cell_type": "markdown",
   "metadata": {},
   "source": [
    "And plot it"
   ]
  },
  {
   "cell_type": "code",
   "execution_count": 19,
   "metadata": {
    "execution": {
     "iopub.execute_input": "2020-09-21T07:34:18.106195Z",
     "iopub.status.busy": "2020-09-21T07:34:18.105359Z",
     "iopub.status.idle": "2020-09-21T07:34:18.462051Z",
     "shell.execute_reply": "2020-09-21T07:34:18.462751Z"
    }
   },
   "outputs": [
    {
     "data": {
      "text/plain": [
       "([<AxesSubplot:title={'center':'Run #1, Experiment tutorial_ParameterWithSetpoints (no sample)'}, xlabel='Freq Axis (Hz)', ylabel='Spectrum ($10^{-3}$ dBm)'>],\n",
       " [None])"
      ]
     },
     "execution_count": 1,
     "metadata": {},
     "output_type": "execute_result"
    },
    {
     "data": {
      "image/png": "[encoded data removed]",
      "text/plain": [
       "<Figure size 432x288 with 1 Axes>"
      ]
     },
     "metadata": {
      "needs_background": "light"
     },
     "output_type": "display_data"
    }
   ],
   "source": [
    "plot_dataset(dataset)"
   ]
  },
  {
   "cell_type": "markdown",
   "metadata": {},
   "source": [
    "To reduce the amount of typing a simple convenience function is provided that will take a `ParameterWithSetpoints` and get both its values and the setpoints values and return them as tuples for direct insertion into the Dataset."
   ]
  },
  {
   "cell_type": "code",
   "execution_count": 20,
   "metadata": {
    "execution": {
     "iopub.execute_input": "2020-09-21T07:34:18.475827Z",
     "iopub.status.busy": "2020-09-21T07:34:18.466238Z",
     "iopub.status.idle": "2020-09-21T07:34:18.480478Z",
     "shell.execute_reply": "2020-09-21T07:34:18.480023Z"
    },
    "scrolled": true
   },
   "outputs": [
    {
     "data": {
      "text/plain": [
       "[(<__main__.GeneratedSetPoints: freq_axis at 140438416396048>,\n",
       "  array([  0.,   1.,   2.,   3.,   4.,   5.,   6.,   7.,   8.,   9.,  10.,\n",
       "          11.,  12.,  13.,  14.,  15.,  16.,  17.,  18.,  19.,  20.,  21.,\n",
       "          22.,  23.,  24.,  25.,  26.,  27.,  28.,  29.,  30.,  31.,  32.,\n",
       "          33.,  34.,  35.,  36.,  37.,  38.,  39.,  40.,  41.,  42.,  43.,\n",
       "          44.,  45.,  46.,  47.,  48.,  49.,  50.,  51.,  52.,  53.,  54.,\n",
       "          55.,  56.,  57.,  58.,  59.,  60.,  61.,  62.,  63.,  64.,  65.,\n",
       "          66.,  67.,  68.,  69.,  70.,  71.,  72.,  73.,  74.,  75.,  76.,\n",
       "          77.,  78.,  79.,  80.,  81.,  82.,  83.,  84.,  85.,  86.,  87.,\n",
       "          88.,  89.,  90.,  91.,  92.,  93.,  94.,  95.,  96.,  97.,  98.,\n",
       "          99., 100., 101., 102., 103., 104., 105., 106., 107., 108., 109.,\n",
       "         110., 111., 112., 113., 114., 115., 116., 117., 118., 119., 120.,\n",
       "         121., 122., 123., 124., 125., 126., 127., 128., 129., 130., 131.,\n",
       "         132., 133., 134., 135., 136., 137., 138., 139., 140., 141., 142.,\n",
       "         143., 144., 145., 146., 147., 148., 149., 150., 151., 152., 153.,\n",
       "         154., 155., 156., 157., 158., 159., 160., 161., 162., 163., 164.,\n",
       "         165., 166., 167., 168., 169., 170., 171., 172., 173., 174., 175.,\n",
       "         176., 177., 178., 179., 180., 181., 182., 183., 184., 185., 186.,\n",
       "         187., 188., 189., 190., 191., 192., 193., 194., 195., 196., 197.,\n",
       "         198., 199., 200., 201., 202., 203., 204., 205., 206., 207., 208.,\n",
       "         209., 210., 211., 212., 213., 214., 215., 216., 217., 218., 219.,\n",
       "         220., 221., 222., 223., 224., 225., 226., 227., 228., 229., 230.,\n",
       "         231., 232., 233., 234., 235., 236., 237., 238., 239., 240., 241.,\n",
       "         242., 243., 244., 245., 246., 247., 248., 249., 250., 251., 252.,\n",
       "         253., 254., 255., 256., 257., 258., 259., 260., 261., 262., 263.,\n",
       "         264., 265., 266., 267., 268., 269., 270., 271., 272., 273., 274.,\n",
       "         275., 276., 277., 278., 279., 280., 281., 282., 283., 284., 285.,\n",
       "         286., 287., 288., 289., 290., 291., 292., 293., 294., 295., 296.,\n",
       "         297., 298., 299., 300., 301., 302., 303., 304., 305., 306., 307.,\n",
       "         308., 309., 310., 311., 312., 313., 314., 315., 316., 317., 318.,\n",
       "         319., 320., 321., 322., 323., 324., 325., 326., 327., 328., 329.,\n",
       "         330., 331., 332., 333., 334., 335., 336., 337., 338., 339., 340.,\n",
       "         341., 342., 343., 344., 345., 346., 347., 348., 349., 350., 351.,\n",
       "         352., 353., 354., 355., 356., 357., 358., 359., 360., 361., 362.,\n",
       "         363., 364., 365., 366., 367., 368., 369., 370., 371., 372., 373.,\n",
       "         374., 375., 376., 377., 378., 379., 380., 381., 382., 383., 384.,\n",
       "         385., 386., 387., 388., 389., 390., 391., 392., 393., 394., 395.,\n",
       "         396., 397., 398., 399., 400., 401., 402., 403., 404., 405., 406.,\n",
       "         407., 408., 409., 410., 411., 412., 413., 414., 415., 416., 417.,\n",
       "         418., 419., 420., 421., 422., 423., 424., 425., 426., 427., 428.,\n",
       "         429., 430., 431., 432., 433., 434., 435., 436., 437., 438., 439.,\n",
       "         440., 441., 442., 443., 444., 445., 446., 447., 448., 449., 450.,\n",
       "         451., 452., 453., 454., 455., 456., 457., 458., 459., 460., 461.,\n",
       "         462., 463., 464., 465., 466., 467., 468., 469., 470., 471., 472.,\n",
       "         473., 474., 475., 476., 477., 478., 479., 480., 481., 482., 483.,\n",
       "         484., 485., 486., 487., 488., 489., 490., 491., 492., 493., 494.,\n",
       "         495., 496., 497., 498., 499., 500.])),\n",
       " (<__main__.DummyArray: spectrum at 140438416395984>,\n",
       "  array([0.97622803, 0.69920795, 0.5884687 , 0.85704271, 0.75310973,\n",
       "         0.14940375, 0.16894876, 0.6835775 , 0.59121452, 0.20673919,\n",
       "         0.16404489, 0.99264093, 0.69506323, 0.58250762, 0.86079803,\n",
       "         0.64299601, 0.91764293, 0.20694296, 0.76143495, 0.87069492,\n",
       "         0.95995326, 0.41130153, 0.76763189, 0.33949621, 0.0999087 ,\n",
       "         0.90739758, 0.34304879, 0.41938669, 0.49712253, 0.42436149,\n",
       "         0.40615895, 0.15679316, 0.89491586, 0.11470195, 0.68252206,\n",
       "         0.86959678, 0.81046486, 0.2714542 , 0.79455405, 0.37710653,\n",
       "         0.63016654, 0.10302742, 0.41047898, 0.26236423, 0.52534744,\n",
       "         0.98806263, 0.09280416, 0.95098398, 0.02795778, 0.49075396,\n",
       "         0.14519101, 0.68034169, 0.229494  , 0.02934958, 0.9924111 ,\n",
       "         0.18751455, 0.89649185, 0.19398282, 0.15105717, 0.03996481,\n",
       "         0.5534792 , 0.78367779, 0.00326145, 0.50064618, 0.24816715,\n",
       "         0.22195016, 0.41640776, 0.09309655, 0.16723697, 0.68722223,\n",
       "         0.62074085, 0.81389417, 0.05504073, 0.92356747, 0.95482047,\n",
       "         0.72404989, 0.68524043, 0.31743274, 0.03084408, 0.90678161,\n",
       "         0.65374006, 0.00184948, 0.27476923, 0.97363094, 0.39090314,\n",
       "         0.56386866, 0.63389126, 0.013227  , 0.52293608, 0.12907656,\n",
       "         0.11083328, 0.09481157, 0.50419147, 0.89522415, 0.31449423,\n",
       "         0.4531495 , 0.0039365 , 0.46789215, 0.37124806, 0.55099018,\n",
       "         0.40632136, 0.76538499, 0.5744849 , 0.38720842, 0.65099944,\n",
       "         0.94221586, 0.30583366, 0.4291813 , 0.78885219, 0.63352471,\n",
       "         0.75124697, 0.40444159, 0.811341  , 0.54342906, 0.10465557,\n",
       "         0.75448384, 0.81255803, 0.71318244, 0.6218071 , 0.47017956,\n",
       "         0.35478303, 0.91132375, 0.86679053, 0.48439518, 0.53946903,\n",
       "         0.14726401, 0.27037874, 0.72506346, 0.29506163, 0.80205491,\n",
       "         0.02113125, 0.36165867, 0.03347939, 0.64137825, 0.54736375,\n",
       "         0.82028128, 0.35615336, 0.69183076, 0.18250676, 0.93590769,\n",
       "         0.18214198, 0.56068432, 0.26504026, 0.76171048, 0.10770996,\n",
       "         0.02817939, 0.93984027, 0.50838021, 0.57226984, 0.35515226,\n",
       "         0.65232224, 0.6402354 , 0.53923325, 0.11287989, 0.78706991,\n",
       "         0.44216293, 0.35671453, 0.92199711, 0.67900393, 0.69661763,\n",
       "         0.65178998, 0.39833013, 0.23903939, 0.70251978, 0.29025938,\n",
       "         0.81345937, 0.03373631, 0.52262212, 0.14200428, 0.79711454,\n",
       "         0.28509934, 0.59368046, 0.8073561 , 0.65330892, 0.77385125,\n",
       "         0.06607601, 0.86217396, 0.80966239, 0.83538861, 0.3636713 ,\n",
       "         0.12913269, 0.82931264, 0.11056025, 0.44038044, 0.00769878,\n",
       "         0.1219443 , 0.50693548, 0.43737339, 0.82353086, 0.51463699,\n",
       "         0.12592521, 0.83011597, 0.72576131, 0.99816891, 0.55251072,\n",
       "         0.44355479, 0.35813516, 0.23032304, 0.61103215, 0.50937179,\n",
       "         0.6472805 , 0.37777429, 0.91941006, 0.84421381, 0.35356241,\n",
       "         0.27315453, 0.20132276, 0.40746157, 0.62565508, 0.78867912,\n",
       "         0.48384076, 0.59135853, 0.70933277, 0.27264666, 0.17372752,\n",
       "         0.77281365, 0.15406039, 0.87607806, 0.39373025, 0.05400953,\n",
       "         0.20362727, 0.37547137, 0.07894159, 0.74688962, 0.07586798,\n",
       "         0.52937058, 0.99744689, 0.88552968, 0.30126407, 0.93191918,\n",
       "         0.38811957, 0.92135675, 0.26647019, 0.15781958, 0.41256978,\n",
       "         0.03922023, 0.70665091, 0.28375512, 0.41094127, 0.3497696 ,\n",
       "         0.18995152, 0.71739431, 0.08743027, 0.69203401, 0.40531065,\n",
       "         0.14896894, 0.0396739 , 0.2444623 , 0.63674204, 0.36859689,\n",
       "         0.45647454, 0.81920698, 0.85762296, 0.15300502, 0.3067641 ,\n",
       "         0.05669606, 0.69163863, 0.97277977, 0.2920391 , 0.20794636,\n",
       "         0.23794211, 0.16112861, 0.0293345 , 0.9149852 , 0.24109297,\n",
       "         0.43301476, 0.65285406, 0.41373676, 0.35501494, 0.70616432,\n",
       "         0.35248926, 0.99933588, 0.13521407, 0.63905653, 0.72815128,\n",
       "         0.73635956, 0.76588966, 0.78982701, 0.03877001, 0.44632458,\n",
       "         0.76606233, 0.66717421, 0.22559733, 0.45223574, 0.43850691,\n",
       "         0.22696483, 0.1820533 , 0.44509702, 0.68808432, 0.04936933,\n",
       "         0.79195134, 0.41360655, 0.22937109, 0.85824535, 0.35098127,\n",
       "         0.66599916, 0.56148505, 0.07897874, 0.05630941, 0.56737765,\n",
       "         0.94734643, 0.02214884, 0.71082093, 0.47591276, 0.78110539,\n",
       "         0.71884065, 0.50193849, 0.8392971 , 0.75794744, 0.82854094,\n",
       "         0.61986663, 0.99947384, 0.9901187 , 0.57425709, 0.75771729,\n",
       "         0.48646775, 0.01454589, 0.04735494, 0.20075654, 0.55806412,\n",
       "         0.9819837 , 0.83899622, 0.29277861, 0.44796439, 0.34154005,\n",
       "         0.30977786, 0.73386323, 0.45678596, 0.56100301, 0.14481544,\n",
       "         0.58326537, 0.96527617, 0.64892521, 0.11567138, 0.36348487,\n",
       "         0.47271433, 0.7569188 , 0.48683834, 0.47294655, 0.95603398,\n",
       "         0.05259618, 0.05466212, 0.30950398, 0.80717675, 0.00352305,\n",
       "         0.46222389, 0.50194069, 0.9073572 , 0.46213507, 0.1685184 ,\n",
       "         0.06945139, 0.14136638, 0.15687026, 0.88268879, 0.85214698,\n",
       "         0.12240202, 0.22867502, 0.20163827, 0.54643382, 0.65187534,\n",
       "         0.40423177, 0.25031178, 0.29316774, 0.34338978, 0.42171934,\n",
       "         0.26316865, 0.93694643, 0.21164977, 0.93898422, 0.57656778,\n",
       "         0.25740237, 0.90614604, 0.51723211, 0.02722884, 0.49821526,\n",
       "         0.24102245, 0.55470174, 0.04922997, 0.63398668, 0.43182126,\n",
       "         0.72375406, 0.79940202, 0.68355936, 0.00854986, 0.3221862 ,\n",
       "         0.72131715, 0.45181557, 0.99331313, 0.66641389, 0.97312553,\n",
       "         0.17344265, 0.08113237, 0.52472531, 0.26051956, 0.5703378 ,\n",
       "         0.51595261, 0.9466493 , 0.83502701, 0.00429885, 0.68805557,\n",
       "         0.86520706, 0.50543628, 0.14466824, 0.4701761 , 0.63201574,\n",
       "         0.44545274, 0.81451725, 0.0171684 , 0.6253653 , 0.14623275,\n",
       "         0.66960676, 0.56299493, 0.25680014, 0.89558797, 0.08206401,\n",
       "         0.95474397, 0.54396281, 0.67508855, 0.9703011 , 0.18865982,\n",
       "         0.87697719, 0.63623581, 0.58514706, 0.52966271, 0.20651352,\n",
       "         0.19364361, 0.32121335, 0.68043044, 0.90998177, 0.14405499,\n",
       "         0.51019437, 0.98500393, 0.05626137, 0.68156376, 0.37255608,\n",
       "         0.5824228 , 0.46562027, 0.74097941, 0.74972227, 0.65063216,\n",
       "         0.78725885, 0.0869416 , 0.51051486, 0.82469023, 0.82545484,\n",
       "         0.46298833, 0.21813144, 0.7398772 , 0.417015  , 0.57351687,\n",
       "         0.05682135, 0.17526303, 0.88598441, 0.35542541, 0.70715731,\n",
       "         0.10643371, 0.85678383, 0.44879866, 0.49796103, 0.14340943,\n",
       "         0.19477702, 0.6138087 , 0.01095167, 0.59453022, 0.05314092,\n",
       "         0.58505316, 0.94274983, 0.65079453, 0.93567353, 0.45104358,\n",
       "         0.84516214, 0.5448913 , 0.45120526, 0.97181021, 0.72520443,\n",
       "         0.65789831, 0.68008675, 0.84698455, 0.89579258, 0.15486812,\n",
       "         0.38632454, 0.99520751, 0.7157261 , 0.41557336, 0.51781036,\n",
       "         0.334005  , 0.7843486 , 0.72059714, 0.9478933 , 0.58213269,\n",
       "         0.78489266, 0.48994456, 0.4743409 , 0.73719675, 0.95455997,\n",
       "         0.20654686, 0.36889102, 0.76156395, 0.51427541, 0.84129289,\n",
       "         0.69981366]))]"
      ]
     },
     "execution_count": 1,
     "metadata": {},
     "output_type": "execute_result"
    }
   ],
   "source": [
    "expand_setpoints_helper(a.spectrum)"
   ]
  },
  {
   "cell_type": "code",
   "execution_count": 21,
   "metadata": {
    "execution": {
     "iopub.execute_input": "2020-09-21T07:34:18.484883Z",
     "iopub.status.busy": "2020-09-21T07:34:18.483956Z",
     "iopub.status.idle": "2020-09-21T07:34:18.499218Z",
     "shell.execute_reply": "2020-09-21T07:34:18.498771Z"
    }
   },
   "outputs": [
    {
     "name": "stdout",
     "output_type": "stream",
     "text": [
      "Starting experimental run with id: 2. \n"
     ]
    }
   ],
   "source": [
    "meas = Measurement()\n",
    "meas.register_parameter(a.spectrum)\n",
    "\n",
    "with meas.run() as datasaver:\n",
    "    datasaver.add_result(*expand_setpoints_helper(a.spectrum))\n",
    "    \n",
    "    dataid = datasaver.run_id"
   ]
  },
  {
   "cell_type": "code",
   "execution_count": null,
   "metadata": {},
   "outputs": [],
   "source": []
  }
 ],
 "metadata": {
  "kernelspec": {
   "display_name": "Python 3",
   "language": "python",
   "name": "python3"
  },
  "language_info": {
   "codemirror_mode": {
    "name": "ipython",
    "version": 3
   },
   "file_extension": ".py",
   "mimetype": "text/x-python",
   "name": "python",
   "nbconvert_exporter": "python",
   "pygments_lexer": "ipython3",
   "version": "3.7.7"
  },
  "toc": {
   "base_numbering": 1,
   "nav_menu": {},
   "number_sections": true,
   "sideBar": true,
   "skip_h1_title": false,
   "title_cell": "Table of Contents",
   "title_sidebar": "Contents",
   "toc_cell": false,
   "toc_position": {},
   "toc_section_display": true,
   "toc_window_display": false
  },
  "varInspector": {
   "cols": {
    "lenName": 16,
    "lenType": 16,
    "lenVar": 40
   },
   "kernels_config": {
    "python": {
     "delete_cmd_postfix": "",
     "delete_cmd_prefix": "del ",
     "library": "var_list.py",
     "varRefreshCmd": "print(var_dic_list())"
    },
    "r": {
     "delete_cmd_postfix": ") ",
     "delete_cmd_prefix": "rm(",
     "library": "var_list.r",
     "varRefreshCmd": "cat(var_dic_list()) "
    }
   },
   "types_to_exclude": [
    "module",
    "function",
    "builtin_function_or_method",
    "instance",
    "_Feature"
   ],
   "window_display": false
  }
 },
 "nbformat": 4,
 "nbformat_minor": 2
}
