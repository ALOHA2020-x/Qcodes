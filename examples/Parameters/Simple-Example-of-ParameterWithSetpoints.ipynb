{
 "cells": [
  {
   "cell_type": "markdown",
   "metadata": {},
   "source": [
    "# Simple Example of ParameterWithSetpoints\n",
    "This notebook provides an example for writing a simple driver with a parameter that has setpoints. Let's name this parameter that has setpoints as \"y\". Then, the setpoints, say \"x1, x2, x3 ..\", are the parameters on which the parameter \n",
    "\"y\" depends upon. Meaning \"y\" is a function of \"x1, x2, x3 ...\" where \"x1, x2, x3 ...\" are known as the setpoints of parameter \"y\".\n",
    "\n",
    "This is most likely to be useful for instruments that return arrays of results. In this notebook, we will show an example of this."
   ]
  },
  {
   "cell_type": "code",
   "execution_count": 1,
   "metadata": {},
   "outputs": [],
   "source": [
    "import numpy as np\n",
    "import os"
   ]
  },
  {
   "cell_type": "code",
   "execution_count": 2,
   "metadata": {},
   "outputs": [
    {
     "name": "stdout",
     "output_type": "stream",
     "text": [
      "Logging hadn't been started.\n",
      "Activating auto-logging. Current session state plus future input saved.\n",
      "Filename       : /home/vsts/.qcodes/logs/command_history.log\n",
      "Mode           : append\n",
      "Output logging : True\n",
      "Raw input log  : False\n",
      "Timestamping   : True\n",
      "State          : active\n"
     ]
    },
    {
     "name": "stdout",
     "output_type": "stream",
     "text": [
      "Qcodes Logfile : /home/vsts/.qcodes/logs/200612-22665-qcodes.log\n"
     ]
    }
   ],
   "source": [
    "from qcodes.dataset.plotting import plot_dataset\n",
    "from qcodes.utils.validators import Numbers, Arrays\n",
    "from qcodes.instrument.base import Instrument\n",
    "from qcodes.dataset.measurements import Measurement"
   ]
  },
  {
   "cell_type": "code",
   "execution_count": 3,
   "metadata": {},
   "outputs": [],
   "source": [
    "from qcodes.dataset.sqlite.database import initialise_or_create_database_at\n",
    "from qcodes.dataset.experiment_container import load_or_create_experiment"
   ]
  },
  {
   "cell_type": "code",
   "execution_count": 4,
   "metadata": {},
   "outputs": [],
   "source": [
    "from qcodes.instrument.parameter import ParameterWithSetpoints, Parameter\n",
    "from qcodes.instrument.parameter import expand_setpoints_helper"
   ]
  },
  {
   "cell_type": "markdown",
   "metadata": {},
   "source": [
    "First, we define a dummy instrument that returns something like a frequency spectrum starting from a frequency given by `f_start` to a frequency given by `f_stop` in `n_points` steps. \n",
    "\n",
    "The extra functionality of the `ParameterWithSetpoints` is implemented by giving it a reference to one or more parameters that acts like its setpoints. \n",
    "\n",
    "To setup a `ParameterWithSetpoints` we have to do two things in addition to what we do for a normal parameter.\n",
    "\n",
    "* Define one or more parameter for the setpoints (one for each dimension of the array and let the `ParameterWithSetpoints` know that these are the setpoints.\n",
    "* Give both the setpoints parameter(s) and the `ParameterWithSetpoints` a `validator` of type `Arrays` with a shape. The shapes should be such that the combined shape of the setpoints matches the shape of the `ParameterWithSetpoints`. Note that if the shape changes with the setting of the instrument, it can be defined by another parameter as shown below. "
   ]
  },
  {
   "cell_type": "code",
   "execution_count": 5,
   "metadata": {},
   "outputs": [],
   "source": [
    "class GeneratedSetPoints(Parameter):\n",
    "    \"\"\"\n",
    "    A parameter that generates a setpoint array from start, stop and num points\n",
    "    parameters.\n",
    "    \"\"\"\n",
    "    def __init__(self, startparam, stopparam, numpointsparam, *args, **kwargs):\n",
    "        super().__init__(*args, **kwargs)\n",
    "        self._startparam = startparam\n",
    "        self._stopparam = stopparam\n",
    "        self._numpointsparam = numpointsparam\n",
    "\n",
    "    def get_raw(self):\n",
    "        return np.linspace(self._startparam(), self._stopparam(),\n",
    "                              self._numpointsparam())\n",
    "\n",
    "class DummyArray(ParameterWithSetpoints):\n",
    "    \n",
    "    def get_raw(self):\n",
    "        npoints = self.root_instrument.n_points.get_latest()\n",
    "        return np.random.rand(npoints)\n",
    "    \n",
    "\n",
    "class DummySpectrumAnalyzer(Instrument):\n",
    "    \n",
    "    def __init__(self, name, **kwargs):\n",
    "        \n",
    "        super().__init__(name, **kwargs)\n",
    "            \n",
    "\n",
    "        self.add_parameter('f_start',\n",
    "                           initial_value=0,\n",
    "                           unit='Hz',\n",
    "                           label='f start',\n",
    "                           vals=Numbers(0,1e3),\n",
    "                           get_cmd=None,\n",
    "                           set_cmd=None)\n",
    "\n",
    "        self.add_parameter('f_stop',\n",
    "                           unit='Hz',\n",
    "                           label='f stop',\n",
    "                           vals=Numbers(1,1e3),\n",
    "                           get_cmd=None,\n",
    "                           set_cmd=None)\n",
    "\n",
    "        self.add_parameter('n_points',\n",
    "                           unit='',\n",
    "                           initial_value=10,\n",
    "                           vals=Numbers(1,1e3),\n",
    "                           get_cmd=None,\n",
    "                           set_cmd=None)\n",
    "        \n",
    "        self.add_parameter('freq_axis',\n",
    "                           unit='Hz',\n",
    "                           label='Freq Axis',\n",
    "                           parameter_class=GeneratedSetPoints,\n",
    "                           startparam=self.f_start,\n",
    "                           stopparam=self.f_stop,\n",
    "                           numpointsparam=self.n_points,\n",
    "                           vals=Arrays(shape=(self.n_points.get_latest,)))\n",
    "                           \n",
    "        self.add_parameter('spectrum',\n",
    "                   unit='dBm',\n",
    "                   setpoints=(self.freq_axis,),\n",
    "                   label='Spectrum',\n",
    "                   parameter_class=DummyArray,\n",
    "                   vals=Arrays(shape=(self.n_points.get_latest,)))\n",
    "                "
   ]
  },
  {
   "cell_type": "markdown",
   "metadata": {},
   "source": [
    "In the above example, the shape is defined by the parameter `n_points` that defines how many samples our `DummySpectrumAnalyzer` returns.\n",
    "\n",
    "This means that the validation will call the function to get `n_points` twice for each `get` of the parameter. This may be too slow, however, if you (as the driver-writer) can guarantee that the cached value for `n_points` will never be out of sync with the value stored in the instrument, `n_points` may be replaced by it's latest known value such that the `validator` reads:\n",
    "```python\n",
    "vals=Arrays(shape=(self.n_points.get_latest))\n",
    "```\n",
    "\n",
    "This avoids any additional call to the instrument. In the same way, the arguments to the `freq_axis` parameter that defines the start, stop and number of points can be replaced by their latest value if the instrument allows it.\n",
    "\n"
   ]
  },
  {
   "cell_type": "code",
   "execution_count": 6,
   "metadata": {},
   "outputs": [
    {
     "name": "stdout",
     "output_type": "stream",
     "text": [
      "\r",
      "0it [00:00, ?it/s]"
     ]
    },
    {
     "name": "stdout",
     "output_type": "stream",
     "text": [
      "\r",
      "Upgrading database; v0 -> v1: : 0it [00:00, ?it/s]"
     ]
    },
    {
     "name": "stdout",
     "output_type": "stream",
     "text": [
      "\r",
      "Upgrading database; v0 -> v1: : 0it [00:00, ?it/s]"
     ]
    },
    {
     "name": "stdout",
     "output_type": "stream",
     "text": [
      "\n",
      "\r",
      "  0%|          | 0/1 [00:00<?, ?it/s]"
     ]
    },
    {
     "name": "stdout",
     "output_type": "stream",
     "text": [
      "\r",
      "Upgrading database; v1 -> v2:   0%|          | 0/1 [00:00<?, ?it/s]"
     ]
    },
    {
     "name": "stdout",
     "output_type": "stream",
     "text": [
      "\r",
      "Upgrading database; v1 -> v2: 100%|██████████| 1/1 [00:00<00:00, 876.37it/s]"
     ]
    },
    {
     "name": "stdout",
     "output_type": "stream",
     "text": [
      "\n",
      "\r",
      "0it [00:00, ?it/s]"
     ]
    },
    {
     "name": "stdout",
     "output_type": "stream",
     "text": [
      "\r",
      "Upgrading database; v2 -> v3: : 0it [00:00, ?it/s]"
     ]
    },
    {
     "name": "stdout",
     "output_type": "stream",
     "text": [
      "\r",
      "Upgrading database; v2 -> v3: : 0it [00:00, ?it/s]"
     ]
    },
    {
     "name": "stdout",
     "output_type": "stream",
     "text": [
      "\n",
      "\r",
      "0it [00:00, ?it/s]"
     ]
    },
    {
     "name": "stdout",
     "output_type": "stream",
     "text": [
      "\r",
      "Upgrading database; v3 -> v4: : 0it [00:00, ?it/s]"
     ]
    },
    {
     "name": "stdout",
     "output_type": "stream",
     "text": [
      "\r",
      "Upgrading database; v3 -> v4: : 0it [00:00, ?it/s]"
     ]
    },
    {
     "name": "stdout",
     "output_type": "stream",
     "text": [
      "\n",
      "\r",
      "  0%|          | 0/1 [00:00<?, ?it/s]"
     ]
    },
    {
     "name": "stdout",
     "output_type": "stream",
     "text": [
      "\r",
      "Upgrading database; v4 -> v5:   0%|          | 0/1 [00:00<?, ?it/s]"
     ]
    },
    {
     "name": "stdout",
     "output_type": "stream",
     "text": [
      "\r",
      "Upgrading database; v4 -> v5: 100%|██████████| 1/1 [00:00<00:00, 976.33it/s]"
     ]
    },
    {
     "name": "stdout",
     "output_type": "stream",
     "text": [
      "\n",
      "\r",
      "0it [00:00, ?it/s]"
     ]
    },
    {
     "name": "stdout",
     "output_type": "stream",
     "text": [
      "\r",
      "Upgrading database; v5 -> v6: : 0it [00:00, ?it/s]"
     ]
    },
    {
     "name": "stdout",
     "output_type": "stream",
     "text": [
      "\r",
      "Upgrading database; v5 -> v6: : 0it [00:00, ?it/s]"
     ]
    },
    {
     "name": "stdout",
     "output_type": "stream",
     "text": [
      "\n",
      "\r",
      "  0%|          | 0/1 [00:00<?, ?it/s]"
     ]
    },
    {
     "name": "stdout",
     "output_type": "stream",
     "text": [
      "\r",
      "Upgrading database; v6 -> v7:   0%|          | 0/1 [00:00<?, ?it/s]"
     ]
    },
    {
     "name": "stdout",
     "output_type": "stream",
     "text": [
      "\r",
      "Upgrading database; v6 -> v7: 100%|██████████| 1/1 [00:00<00:00, 322.76it/s]"
     ]
    },
    {
     "name": "stdout",
     "output_type": "stream",
     "text": [
      "\n",
      "\r",
      "  0%|          | 0/1 [00:00<?, ?it/s]"
     ]
    },
    {
     "name": "stdout",
     "output_type": "stream",
     "text": [
      "\r",
      "Upgrading database; v7 -> v8:   0%|          | 0/1 [00:00<?, ?it/s]"
     ]
    },
    {
     "name": "stdout",
     "output_type": "stream",
     "text": [
      "\r",
      "Upgrading database; v7 -> v8: 100%|██████████| 1/1 [00:00<00:00, 1194.96it/s]"
     ]
    },
    {
     "name": "stdout",
     "output_type": "stream",
     "text": [
      "\n",
      "\r",
      "  0%|          | 0/1 [00:00<?, ?it/s]"
     ]
    },
    {
     "name": "stdout",
     "output_type": "stream",
     "text": [
      "\r",
      "Upgrading database; v8 -> v9:   0%|          | 0/1 [00:00<?, ?it/s]"
     ]
    },
    {
     "name": "stdout",
     "output_type": "stream",
     "text": [
      "\r",
      "Upgrading database; v8 -> v9: 100%|██████████| 1/1 [00:00<00:00, 1095.12it/s]"
     ]
    },
    {
     "name": "stdout",
     "output_type": "stream",
     "text": [
      "\n"
     ]
    },
    {
     "data": {
      "text/plain": [
       "tutorial_ParameterWithSetpoints#no sample#1@/home/vsts/work/1/s/docs/examples/Parameters/tutorial_paramter_with_setpoints.db\n",
       "----------------------------------------------------------------------------------------------------------------------------"
      ]
     },
     "execution_count": 6,
     "metadata": {},
     "output_type": "execute_result"
    }
   ],
   "source": [
    "tutorial_db_path = os.path.join(os.getcwd(), 'tutorial_paramter_with_setpoints.db')\n",
    "initialise_or_create_database_at(tutorial_db_path)\n",
    "load_or_create_experiment(experiment_name='tutorial_ParameterWithSetpoints', sample_name=\"no sample\")"
   ]
  },
  {
   "cell_type": "code",
   "execution_count": 7,
   "metadata": {},
   "outputs": [],
   "source": [
    "a = DummySpectrumAnalyzer('foobar')"
   ]
  },
  {
   "cell_type": "markdown",
   "metadata": {},
   "source": [
    "First we setup the limits of the spectrum"
   ]
  },
  {
   "cell_type": "code",
   "execution_count": 8,
   "metadata": {},
   "outputs": [],
   "source": [
    "a.f_start(0)\n",
    "a.f_stop(500)\n",
    "a.n_points(501)"
   ]
  },
  {
   "cell_type": "markdown",
   "metadata": {},
   "source": [
    "And we can grab the frequency axis"
   ]
  },
  {
   "cell_type": "code",
   "execution_count": 9,
   "metadata": {},
   "outputs": [
    {
     "data": {
      "text/plain": [
       "501"
      ]
     },
     "execution_count": 9,
     "metadata": {},
     "output_type": "execute_result"
    }
   ],
   "source": [
    "a.n_points()"
   ]
  },
  {
   "cell_type": "code",
   "execution_count": 10,
   "metadata": {
    "scrolled": false
   },
   "outputs": [
    {
     "data": {
      "text/plain": [
       "501"
      ]
     },
     "execution_count": 10,
     "metadata": {},
     "output_type": "execute_result"
    }
   ],
   "source": [
    "freq_axis = a.freq_axis()\n",
    "len(freq_axis)"
   ]
  },
  {
   "cell_type": "code",
   "execution_count": 11,
   "metadata": {},
   "outputs": [
    {
     "data": {
      "text/plain": [
       "array([0., 1., 2., 3., 4., 5., 6., 7., 8., 9.])"
      ]
     },
     "execution_count": 11,
     "metadata": {},
     "output_type": "execute_result"
    }
   ],
   "source": [
    "freq_axis[:10]"
   ]
  },
  {
   "cell_type": "markdown",
   "metadata": {},
   "source": [
    "As expected we get a result wit 501 points as we asked for an axis with 501 points. "
   ]
  },
  {
   "cell_type": "markdown",
   "metadata": {},
   "source": [
    "Above we have added a validator to the `freq_axis` parameter encoding the fact that this is an Array with `n_points`. Note that we do not have to supply the number of points as an integer but can supply a function that returns the valid number of points. This would normally be a QCoDeS parameter.\n",
    "\n",
    "This will be checked if we validate the output."
   ]
  },
  {
   "cell_type": "code",
   "execution_count": 12,
   "metadata": {},
   "outputs": [],
   "source": [
    "a.freq_axis.validate(a.freq_axis.get())"
   ]
  },
  {
   "cell_type": "markdown",
   "metadata": {},
   "source": [
    "Naturally, we can also get the spectrum. Getting the spectrum will automatically perform validation both for the shape of the parameter itself and the relation to the setpoint parameter(s)"
   ]
  },
  {
   "cell_type": "code",
   "execution_count": 13,
   "metadata": {
    "scrolled": true
   },
   "outputs": [
    {
     "data": {
      "text/plain": [
       "501"
      ]
     },
     "execution_count": 13,
     "metadata": {},
     "output_type": "execute_result"
    }
   ],
   "source": [
    "spectrum = a.spectrum.get()\n",
    "len(spectrum)"
   ]
  },
  {
   "cell_type": "markdown",
   "metadata": {},
   "source": [
    "When we validate a `ParameterWithSetpoints`, we automatically validate that the shape is consistent between the parameters and its setpoints. As well as validating the shape as above."
   ]
  },
  {
   "cell_type": "code",
   "execution_count": 14,
   "metadata": {},
   "outputs": [],
   "source": [
    "a.spectrum.validate(a.spectrum.get())"
   ]
  },
  {
   "cell_type": "markdown",
   "metadata": {},
   "source": [
    "The consistent shapes can be validated explicitly."
   ]
  },
  {
   "cell_type": "code",
   "execution_count": 15,
   "metadata": {},
   "outputs": [],
   "source": [
    "a.spectrum.validate_consistent_shape()"
   ]
  },
  {
   "cell_type": "markdown",
   "metadata": {},
   "source": [
    "We can inspect the setpoints of the spectrum."
   ]
  },
  {
   "cell_type": "code",
   "execution_count": 16,
   "metadata": {},
   "outputs": [
    {
     "data": {
      "text/plain": [
       "(<__main__.GeneratedSetPoints: freq_axis at 139719320429520>,)"
      ]
     },
     "execution_count": 16,
     "metadata": {},
     "output_type": "execute_result"
    }
   ],
   "source": [
    "a.spectrum.setpoints"
   ]
  },
  {
   "cell_type": "markdown",
   "metadata": {},
   "source": [
    "Or even change them."
   ]
  },
  {
   "cell_type": "code",
   "execution_count": 17,
   "metadata": {},
   "outputs": [],
   "source": [
    "a.spectrum.setpoints = (a.freq_axis,)"
   ]
  },
  {
   "cell_type": "markdown",
   "metadata": {},
   "source": [
    "## Measurement"
   ]
  },
  {
   "cell_type": "markdown",
   "metadata": {},
   "source": [
    "We can also directly consume the parameter in a measurement without defining the setpoints of the parameter again. The setpoints are automatically obtained from the definition of the `ParameterWithSetpoint` instance. "
   ]
  },
  {
   "cell_type": "code",
   "execution_count": 18,
   "metadata": {},
   "outputs": [
    {
     "name": "stdout",
     "output_type": "stream",
     "text": [
      "Starting experimental run with id: 1. \n"
     ]
    }
   ],
   "source": [
    "meas = Measurement()\n",
    "meas.register_parameter(a.spectrum)\n",
    "\n",
    "with meas.run() as datasaver:\n",
    "    datasaver.add_result((a.freq_axis, a.freq_axis()),\n",
    "                         (a.spectrum, a.spectrum()))\n",
    "    dataset = datasaver.dataset"
   ]
  },
  {
   "cell_type": "markdown",
   "metadata": {},
   "source": [
    "And plot it"
   ]
  },
  {
   "cell_type": "code",
   "execution_count": 19,
   "metadata": {},
   "outputs": [
    {
     "data": {
      "text/plain": [
       "([<matplotlib.axes._subplots.AxesSubplot at 0x7f12f0573a90>], [None])"
      ]
     },
     "execution_count": 19,
     "metadata": {},
     "output_type": "execute_result"
    },
    {
     "data": {
      "image/png": "[encoded data removed]",
      "text/plain": [
       "<Figure size 432x288 with 1 Axes>"
      ]
     },
     "metadata": {
      "needs_background": "light"
     },
     "output_type": "display_data"
    }
   ],
   "source": [
    "plot_dataset(dataset)"
   ]
  },
  {
   "cell_type": "markdown",
   "metadata": {},
   "source": [
    "To reduce the amount of typing a simple convenience function is provided that will take a `ParameterWithSetpoints` and get both its values and the setpoints values and return them as tuples for direct insertion into the Dataset."
   ]
  },
  {
   "cell_type": "code",
   "execution_count": 20,
   "metadata": {
    "scrolled": true
   },
   "outputs": [
    {
     "data": {
      "text/plain": [
       "[(<__main__.GeneratedSetPoints: freq_axis at 139719320429520>,\n",
       "  array([  0.,   1.,   2.,   3.,   4.,   5.,   6.,   7.,   8.,   9.,  10.,\n",
       "          11.,  12.,  13.,  14.,  15.,  16.,  17.,  18.,  19.,  20.,  21.,\n",
       "          22.,  23.,  24.,  25.,  26.,  27.,  28.,  29.,  30.,  31.,  32.,\n",
       "          33.,  34.,  35.,  36.,  37.,  38.,  39.,  40.,  41.,  42.,  43.,\n",
       "          44.,  45.,  46.,  47.,  48.,  49.,  50.,  51.,  52.,  53.,  54.,\n",
       "          55.,  56.,  57.,  58.,  59.,  60.,  61.,  62.,  63.,  64.,  65.,\n",
       "          66.,  67.,  68.,  69.,  70.,  71.,  72.,  73.,  74.,  75.,  76.,\n",
       "          77.,  78.,  79.,  80.,  81.,  82.,  83.,  84.,  85.,  86.,  87.,\n",
       "          88.,  89.,  90.,  91.,  92.,  93.,  94.,  95.,  96.,  97.,  98.,\n",
       "          99., 100., 101., 102., 103., 104., 105., 106., 107., 108., 109.,\n",
       "         110., 111., 112., 113., 114., 115., 116., 117., 118., 119., 120.,\n",
       "         121., 122., 123., 124., 125., 126., 127., 128., 129., 130., 131.,\n",
       "         132., 133., 134., 135., 136., 137., 138., 139., 140., 141., 142.,\n",
       "         143., 144., 145., 146., 147., 148., 149., 150., 151., 152., 153.,\n",
       "         154., 155., 156., 157., 158., 159., 160., 161., 162., 163., 164.,\n",
       "         165., 166., 167., 168., 169., 170., 171., 172., 173., 174., 175.,\n",
       "         176., 177., 178., 179., 180., 181., 182., 183., 184., 185., 186.,\n",
       "         187., 188., 189., 190., 191., 192., 193., 194., 195., 196., 197.,\n",
       "         198., 199., 200., 201., 202., 203., 204., 205., 206., 207., 208.,\n",
       "         209., 210., 211., 212., 213., 214., 215., 216., 217., 218., 219.,\n",
       "         220., 221., 222., 223., 224., 225., 226., 227., 228., 229., 230.,\n",
       "         231., 232., 233., 234., 235., 236., 237., 238., 239., 240., 241.,\n",
       "         242., 243., 244., 245., 246., 247., 248., 249., 250., 251., 252.,\n",
       "         253., 254., 255., 256., 257., 258., 259., 260., 261., 262., 263.,\n",
       "         264., 265., 266., 267., 268., 269., 270., 271., 272., 273., 274.,\n",
       "         275., 276., 277., 278., 279., 280., 281., 282., 283., 284., 285.,\n",
       "         286., 287., 288., 289., 290., 291., 292., 293., 294., 295., 296.,\n",
       "         297., 298., 299., 300., 301., 302., 303., 304., 305., 306., 307.,\n",
       "         308., 309., 310., 311., 312., 313., 314., 315., 316., 317., 318.,\n",
       "         319., 320., 321., 322., 323., 324., 325., 326., 327., 328., 329.,\n",
       "         330., 331., 332., 333., 334., 335., 336., 337., 338., 339., 340.,\n",
       "         341., 342., 343., 344., 345., 346., 347., 348., 349., 350., 351.,\n",
       "         352., 353., 354., 355., 356., 357., 358., 359., 360., 361., 362.,\n",
       "         363., 364., 365., 366., 367., 368., 369., 370., 371., 372., 373.,\n",
       "         374., 375., 376., 377., 378., 379., 380., 381., 382., 383., 384.,\n",
       "         385., 386., 387., 388., 389., 390., 391., 392., 393., 394., 395.,\n",
       "         396., 397., 398., 399., 400., 401., 402., 403., 404., 405., 406.,\n",
       "         407., 408., 409., 410., 411., 412., 413., 414., 415., 416., 417.,\n",
       "         418., 419., 420., 421., 422., 423., 424., 425., 426., 427., 428.,\n",
       "         429., 430., 431., 432., 433., 434., 435., 436., 437., 438., 439.,\n",
       "         440., 441., 442., 443., 444., 445., 446., 447., 448., 449., 450.,\n",
       "         451., 452., 453., 454., 455., 456., 457., 458., 459., 460., 461.,\n",
       "         462., 463., 464., 465., 466., 467., 468., 469., 470., 471., 472.,\n",
       "         473., 474., 475., 476., 477., 478., 479., 480., 481., 482., 483.,\n",
       "         484., 485., 486., 487., 488., 489., 490., 491., 492., 493., 494.,\n",
       "         495., 496., 497., 498., 499., 500.])),\n",
       " (<__main__.DummyArray: spectrum at 139719315132240>,\n",
       "  array([6.84981422e-01, 8.42735804e-01, 8.42067209e-01, 3.78340576e-01,\n",
       "         4.63459844e-01, 1.95849917e-01, 4.40432012e-01, 2.76882908e-01,\n",
       "         6.51997284e-01, 4.90043327e-01, 6.47448568e-01, 6.10112258e-01,\n",
       "         6.75230561e-01, 6.80904591e-01, 9.93771468e-01, 2.50113920e-01,\n",
       "         1.53344682e-01, 1.10954813e-01, 1.06672668e-01, 5.22857714e-01,\n",
       "         1.64189250e-02, 2.01718647e-01, 8.83236968e-01, 4.03896841e-01,\n",
       "         8.01886800e-01, 5.57723961e-01, 6.38229761e-02, 6.41736384e-01,\n",
       "         8.44980231e-01, 5.89612941e-01, 9.19009969e-01, 3.36374579e-01,\n",
       "         4.76703024e-01, 5.90774559e-01, 8.17957103e-01, 5.73565587e-01,\n",
       "         2.71301605e-02, 4.24991223e-01, 3.17414346e-01, 1.41966683e-01,\n",
       "         1.36935206e-01, 8.98547106e-01, 2.16363393e-01, 4.86684069e-02,\n",
       "         6.74802884e-01, 7.97175776e-01, 6.08600920e-01, 2.61403688e-01,\n",
       "         4.95340590e-02, 5.98044765e-01, 7.90264875e-01, 8.29822482e-01,\n",
       "         3.53278107e-01, 5.54790259e-01, 5.74535885e-01, 2.99873429e-01,\n",
       "         6.37117489e-01, 3.94082219e-01, 5.46683024e-01, 4.00789363e-01,\n",
       "         5.33450677e-01, 4.42642321e-01, 9.59794132e-01, 8.37191384e-01,\n",
       "         5.07804247e-01, 9.09501819e-01, 3.86768126e-01, 4.78075213e-01,\n",
       "         2.50269931e-01, 8.95733498e-02, 9.97731017e-02, 5.44558683e-01,\n",
       "         8.36435279e-01, 7.20789650e-02, 1.65218171e-01, 6.00550835e-01,\n",
       "         7.19955898e-01, 2.14812213e-01, 8.99028655e-01, 5.52190774e-01,\n",
       "         4.94503882e-01, 9.78959199e-01, 5.70714784e-01, 7.26230728e-01,\n",
       "         1.24485838e-02, 2.23038829e-01, 8.79383120e-01, 5.78690892e-01,\n",
       "         9.10444254e-01, 5.92828771e-01, 3.70481439e-01, 7.55051419e-01,\n",
       "         8.78920312e-01, 5.13015378e-01, 1.64945441e-01, 9.93044987e-01,\n",
       "         8.91004069e-01, 3.73882597e-03, 1.59272569e-01, 7.66347509e-01,\n",
       "         4.76664977e-01, 5.79778731e-01, 7.83164414e-01, 5.58994336e-01,\n",
       "         2.46356609e-01, 8.13698994e-01, 6.21955587e-01, 3.83422813e-01,\n",
       "         5.44691578e-01, 6.73233190e-02, 9.71858386e-01, 4.23351477e-01,\n",
       "         5.08261599e-01, 4.78805799e-01, 2.01812812e-01, 9.61018256e-01,\n",
       "         6.68572336e-01, 8.83005202e-01, 8.92044202e-01, 5.99879317e-01,\n",
       "         7.67675392e-01, 8.86342748e-01, 2.33289443e-01, 7.18102572e-01,\n",
       "         7.27285115e-01, 1.57915724e-01, 7.06861885e-01, 2.70136792e-01,\n",
       "         1.46091453e-01, 1.68981058e-01, 1.89053480e-01, 3.13706704e-01,\n",
       "         1.27202595e-01, 3.27664794e-01, 9.73757135e-01, 1.73940573e-01,\n",
       "         9.70963734e-01, 9.17585886e-01, 9.29360007e-01, 9.68676140e-01,\n",
       "         5.38270172e-01, 7.86187368e-01, 2.91236542e-01, 6.08367049e-01,\n",
       "         8.34374214e-02, 5.71093723e-02, 1.21800503e-01, 6.00355031e-01,\n",
       "         9.97448773e-02, 8.44732609e-01, 9.39935078e-01, 5.80851208e-01,\n",
       "         4.10160439e-01, 8.72521560e-01, 2.02559347e-02, 2.55985898e-01,\n",
       "         8.29061946e-01, 3.07382765e-01, 1.37794580e-01, 3.22946992e-01,\n",
       "         3.16152926e-01, 3.61309262e-01, 1.01702683e-01, 2.48780920e-01,\n",
       "         7.21681205e-01, 7.92668863e-02, 2.90018158e-02, 5.82423468e-01,\n",
       "         1.31660356e-01, 1.91480195e-01, 7.27847887e-01, 4.89592239e-01,\n",
       "         6.43126990e-01, 1.85427769e-01, 6.47031878e-01, 7.14559506e-01,\n",
       "         3.89846849e-01, 3.02499937e-01, 5.03072105e-01, 9.58162724e-01,\n",
       "         1.49556408e-01, 8.02398140e-01, 2.10959334e-01, 9.50777103e-01,\n",
       "         4.85819467e-01, 6.78500911e-01, 6.82659268e-01, 1.24763433e-01,\n",
       "         7.75308226e-01, 9.87776024e-01, 9.49134361e-01, 5.00708157e-01,\n",
       "         8.96622193e-01, 8.47531323e-01, 4.56649099e-01, 1.27589309e-01,\n",
       "         3.99023718e-01, 1.71197219e-02, 3.57762211e-01, 8.96324607e-01,\n",
       "         6.68709179e-01, 4.09637895e-02, 1.63559055e-01, 5.34133383e-01,\n",
       "         3.39360749e-01, 6.24226928e-01, 4.38127414e-01, 8.65491349e-01,\n",
       "         8.39224443e-01, 7.90358119e-01, 4.74086967e-01, 3.11266830e-01,\n",
       "         1.57487101e-01, 2.87331205e-01, 7.08130996e-01, 5.20691640e-01,\n",
       "         5.10056631e-01, 7.71532679e-01, 9.62963374e-01, 1.70673867e-01,\n",
       "         5.09862756e-01, 3.09582914e-01, 7.74041270e-01, 1.00625293e-01,\n",
       "         8.61930173e-01, 3.81505421e-01, 5.14512856e-02, 8.69545659e-01,\n",
       "         6.02551526e-01, 6.78905456e-01, 8.01918639e-01, 4.06237897e-01,\n",
       "         7.89422978e-01, 2.93736883e-01, 9.58439837e-01, 9.04413603e-01,\n",
       "         5.14079371e-01, 7.51632089e-01, 4.34025319e-01, 5.30481478e-01,\n",
       "         2.37803309e-01, 9.67823184e-01, 1.12967170e-01, 9.09188711e-01,\n",
       "         7.05417593e-01, 9.42418157e-01, 8.80394252e-01, 6.55261045e-01,\n",
       "         1.66774068e-01, 1.22917261e-03, 3.38964127e-01, 8.22048335e-01,\n",
       "         9.51529558e-02, 9.94333387e-01, 5.94055308e-01, 1.15671035e-01,\n",
       "         4.40267564e-01, 1.65351501e-01, 3.63674278e-01, 4.70457309e-01,\n",
       "         2.00529436e-01, 7.68688825e-01, 4.87289021e-02, 8.71570906e-01,\n",
       "         7.61325753e-02, 8.85306119e-01, 8.07189318e-01, 1.15661195e-01,\n",
       "         9.56940556e-01, 8.37490236e-01, 7.96017365e-01, 8.19865436e-01,\n",
       "         9.13116270e-02, 1.32257617e-01, 9.97399268e-01, 3.11565883e-01,\n",
       "         7.45045178e-02, 7.89179277e-01, 3.68657321e-01, 9.57040895e-01,\n",
       "         5.54297660e-01, 7.95229791e-01, 8.10517220e-01, 2.05572033e-02,\n",
       "         4.84761632e-01, 1.33386136e-01, 4.95854947e-01, 2.41160038e-01,\n",
       "         1.06455812e-01, 8.16284713e-01, 2.20685629e-01, 7.82447129e-02,\n",
       "         1.14901644e-01, 9.49382818e-01, 5.50497415e-02, 1.03200861e-01,\n",
       "         6.10006241e-01, 2.42955575e-01, 3.74172626e-01, 6.69406169e-01,\n",
       "         5.02546904e-01, 3.05456211e-01, 1.65205485e-01, 4.37693415e-01,\n",
       "         5.57474222e-01, 2.48201607e-01, 2.98452611e-01, 6.55169741e-01,\n",
       "         2.17794457e-01, 8.77459281e-01, 9.81067058e-01, 2.25028663e-01,\n",
       "         5.21563390e-01, 4.36480166e-01, 6.85332054e-01, 9.19519043e-01,\n",
       "         3.81959901e-02, 2.44686758e-02, 2.85641295e-03, 9.43549037e-01,\n",
       "         4.91729974e-01, 8.06157646e-01, 1.14408561e-01, 7.75538239e-01,\n",
       "         3.59288202e-01, 4.61460203e-02, 7.56173094e-01, 9.27874918e-01,\n",
       "         5.35119032e-01, 1.93741847e-01, 5.10830933e-01, 2.07423288e-01,\n",
       "         5.49973283e-01, 2.19068818e-01, 4.83800413e-01, 6.59939814e-01,\n",
       "         9.47734589e-01, 3.51539708e-01, 3.25150330e-01, 9.99347815e-01,\n",
       "         6.97045227e-01, 8.14234903e-01, 1.92360314e-01, 2.21457916e-01,\n",
       "         6.99278187e-01, 1.16357242e-01, 6.80092491e-01, 9.36092069e-01,\n",
       "         6.18348859e-02, 8.58484680e-02, 8.93689330e-01, 4.34707395e-01,\n",
       "         3.96319598e-02, 7.05827498e-01, 5.65671887e-01, 3.44903596e-01,\n",
       "         4.30081948e-01, 3.83895949e-01, 3.73099452e-01, 8.78329293e-01,\n",
       "         3.23366419e-01, 3.03537835e-02, 3.62099800e-01, 7.12715151e-01,\n",
       "         3.33340404e-01, 9.28036861e-01, 5.95626758e-01, 2.75687111e-01,\n",
       "         7.27147985e-01, 9.24195040e-01, 6.41371439e-01, 2.53314346e-01,\n",
       "         5.85837430e-01, 3.62652305e-01, 6.01331364e-01, 8.24767359e-01,\n",
       "         3.00872294e-01, 3.05257583e-01, 6.19978322e-01, 9.93616677e-01,\n",
       "         5.23392060e-01, 5.08524354e-02, 8.24929352e-01, 2.55376478e-01,\n",
       "         8.93677579e-01, 2.44569449e-01, 9.72784242e-01, 8.76495326e-01,\n",
       "         3.56017420e-01, 4.74712751e-01, 6.14118708e-01, 7.43129944e-01,\n",
       "         5.42116477e-01, 3.38504956e-01, 9.19785069e-01, 6.05814506e-02,\n",
       "         5.98811153e-02, 5.49199034e-01, 7.60999286e-01, 5.84584924e-01,\n",
       "         4.99323253e-01, 5.20190143e-01, 2.06199368e-01, 7.96019783e-01,\n",
       "         5.12169054e-01, 8.98337311e-01, 2.00675221e-01, 9.58803503e-01,\n",
       "         3.53993262e-01, 1.21227651e-01, 4.71074877e-01, 7.80362145e-01,\n",
       "         6.36618139e-01, 4.32789626e-01, 4.56696711e-01, 5.29929714e-01,\n",
       "         7.89888810e-01, 4.35600830e-01, 4.45474207e-01, 9.59335310e-01,\n",
       "         9.28424989e-01, 4.05091934e-02, 6.76873547e-01, 3.61367476e-01,\n",
       "         4.48810528e-01, 1.45260648e-01, 4.43451586e-01, 8.71530982e-01,\n",
       "         3.68500368e-01, 5.26851931e-01, 4.61161858e-01, 1.32313945e-01,\n",
       "         8.72106847e-01, 7.37436991e-01, 2.94141013e-01, 4.46110833e-01,\n",
       "         6.73791325e-01, 7.02480676e-01, 9.73602430e-01, 7.84743724e-01,\n",
       "         9.12832976e-01, 2.46244489e-01, 9.24454282e-02, 9.75016581e-01,\n",
       "         4.48986069e-01, 4.59815018e-01, 5.89716999e-01, 7.09547214e-01,\n",
       "         8.16542919e-01, 5.64852517e-01, 7.19232910e-01, 8.02227854e-01,\n",
       "         6.88529865e-01, 6.93583767e-01, 3.56018905e-01, 7.11322158e-01,\n",
       "         7.41289383e-01, 8.75886059e-01, 3.62595989e-02, 4.08829375e-01,\n",
       "         2.82146905e-01, 1.33473525e-01, 2.88421638e-01, 2.10498087e-01,\n",
       "         5.41609316e-01, 3.54822129e-01, 1.76929859e-02, 8.87488589e-01,\n",
       "         6.66292780e-01, 9.04912407e-01, 5.39316634e-01, 3.92595004e-01,\n",
       "         3.37090431e-01, 3.11515896e-01, 7.29868883e-01, 3.34734170e-01,\n",
       "         9.78814068e-01, 8.92143099e-02, 5.43825138e-01, 2.78970585e-01,\n",
       "         9.00054326e-01, 1.11599935e-01, 5.54709782e-01, 4.89214095e-01,\n",
       "         5.33772489e-01, 4.20887971e-01, 3.02057296e-02, 9.32011641e-01,\n",
       "         2.38393796e-01, 7.74389063e-02, 2.72050226e-01, 5.20812226e-01,\n",
       "         3.13120434e-02, 9.97544479e-01, 4.47142255e-01, 6.44139184e-01,\n",
       "         9.93858436e-01, 8.97113658e-04, 5.68490817e-01, 4.00795952e-01,\n",
       "         3.76673423e-01]))]"
      ]
     },
     "execution_count": 20,
     "metadata": {},
     "output_type": "execute_result"
    }
   ],
   "source": [
    "expand_setpoints_helper(a.spectrum)"
   ]
  },
  {
   "cell_type": "code",
   "execution_count": 21,
   "metadata": {},
   "outputs": [
    {
     "name": "stdout",
     "output_type": "stream",
     "text": [
      "Starting experimental run with id: 2. \n"
     ]
    }
   ],
   "source": [
    "meas = Measurement()\n",
    "meas.register_parameter(a.spectrum)\n",
    "\n",
    "with meas.run() as datasaver:\n",
    "    datasaver.add_result(*expand_setpoints_helper(a.spectrum))\n",
    "    \n",
    "    dataid = datasaver.run_id"
   ]
  },
  {
   "cell_type": "code",
   "execution_count": null,
   "metadata": {},
   "outputs": [],
   "source": []
  }
 ],
 "metadata": {
  "kernelspec": {
   "display_name": "Python 3",
   "language": "python",
   "name": "python3"
  },
  "language_info": {
   "codemirror_mode": {
    "name": "ipython",
    "version": 3
   },
   "file_extension": ".py",
   "mimetype": "text/x-python",
   "name": "python",
   "nbconvert_exporter": "python",
   "pygments_lexer": "ipython3",
   "version": "3.7.7"
  },
  "toc": {
   "base_numbering": 1,
   "nav_menu": {},
   "number_sections": true,
   "sideBar": true,
   "skip_h1_title": false,
   "title_cell": "Table of Contents",
   "title_sidebar": "Contents",
   "toc_cell": false,
   "toc_position": {},
   "toc_section_display": true,
   "toc_window_display": false
  },
  "varInspector": {
   "cols": {
    "lenName": 16,
    "lenType": 16,
    "lenVar": 40
   },
   "kernels_config": {
    "python": {
     "delete_cmd_postfix": "",
     "delete_cmd_prefix": "del ",
     "library": "var_list.py",
     "varRefreshCmd": "print(var_dic_list())"
    },
    "r": {
     "delete_cmd_postfix": ") ",
     "delete_cmd_prefix": "rm(",
     "library": "var_list.r",
     "varRefreshCmd": "cat(var_dic_list()) "
    }
   },
   "types_to_exclude": [
    "module",
    "function",
    "builtin_function_or_method",
    "instance",
    "_Feature"
   ],
   "window_display": false
  }
 },
 "nbformat": 4,
 "nbformat_minor": 2
}
