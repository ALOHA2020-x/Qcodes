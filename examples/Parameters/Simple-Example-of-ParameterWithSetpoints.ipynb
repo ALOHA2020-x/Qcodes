{
 "cells": [
  {
   "cell_type": "markdown",
   "metadata": {},
   "source": [
    "# Simple Example of ParameterWithSetpoints\n",
    "This notebook provides an example for writing a simple driver with a parameter that has setpoints. Let's name this parameter that has setpoints as \"y\". Then, the setpoints, say \"x1, x2, x3 ..\", are the parameters on which the parameter \n",
    "\"y\" depends upon. Meaning \"y\" is a function of \"x1, x2, x3 ...\" where \"x1, x2, x3 ...\" are known as the setpoints of parameter \"y\".\n",
    "\n",
    "This is most likely to be useful for instruments that return arrays of results. In this notebook, we will show an example of this."
   ]
  },
  {
   "cell_type": "code",
   "execution_count": 1,
   "metadata": {},
   "outputs": [],
   "source": [
    "import numpy as np\n",
    "import os"
   ]
  },
  {
   "cell_type": "code",
   "execution_count": 2,
   "metadata": {},
   "outputs": [
    {
     "name": "stdout",
     "output_type": "stream",
     "text": [
      "Logging hadn't been started.\n",
      "Activating auto-logging. Current session state plus future input saved.\n",
      "Filename       : /home/vsts/.qcodes/logs/command_history.log\n",
      "Mode           : append\n",
      "Output logging : True\n",
      "Raw input log  : False\n",
      "Timestamping   : True\n",
      "State          : active\n"
     ]
    },
    {
     "name": "stdout",
     "output_type": "stream",
     "text": [
      "Qcodes Logfile : /home/vsts/.qcodes/logs/200529-22755-qcodes.log\n"
     ]
    }
   ],
   "source": [
    "from qcodes.dataset.plotting import plot_dataset\n",
    "from qcodes.utils.validators import Numbers, Arrays\n",
    "from qcodes.instrument.base import Instrument\n",
    "from qcodes.dataset.measurements import Measurement"
   ]
  },
  {
   "cell_type": "code",
   "execution_count": 3,
   "metadata": {},
   "outputs": [],
   "source": [
    "from qcodes.dataset.sqlite.database import initialise_or_create_database_at\n",
    "from qcodes.dataset.experiment_container import load_or_create_experiment"
   ]
  },
  {
   "cell_type": "code",
   "execution_count": 4,
   "metadata": {},
   "outputs": [],
   "source": [
    "from qcodes.instrument.parameter import ParameterWithSetpoints, Parameter\n",
    "from qcodes.instrument.parameter import expand_setpoints_helper"
   ]
  },
  {
   "cell_type": "markdown",
   "metadata": {},
   "source": [
    "First, we define a dummy instrument that returns something like a frequency spectrum starting from a frequency given by `f_start` to a frequency given by `f_stop` in `n_points` steps. \n",
    "\n",
    "The extra functionality of the `ParameterWithSetpoints` is implemented by giving it a reference to one or more parameters that acts like its setpoints. \n",
    "\n",
    "To setup a `ParameterWithSetpoints` we have to do two things in addition to what we do for a normal parameter.\n",
    "\n",
    "* Define one or more parameter for the setpoints (one for each dimension of the array and let the `ParameterWithSetpoints` know that these are the setpoints.\n",
    "* Give both the setpoints parameter(s) and the `ParameterWithSetpoints` a `validator` of type `Arrays` with a shape. The shapes should be such that the combined shape of the setpoints matches the shape of the `ParameterWithSetpoints`. Note that if the shape changes with the setting of the instrument, it can be defined by another parameter as shown below. "
   ]
  },
  {
   "cell_type": "code",
   "execution_count": 5,
   "metadata": {},
   "outputs": [],
   "source": [
    "class GeneratedSetPoints(Parameter):\n",
    "    \"\"\"\n",
    "    A parameter that generates a setpoint array from start, stop and num points\n",
    "    parameters.\n",
    "    \"\"\"\n",
    "    def __init__(self, startparam, stopparam, numpointsparam, *args, **kwargs):\n",
    "        super().__init__(*args, **kwargs)\n",
    "        self._startparam = startparam\n",
    "        self._stopparam = stopparam\n",
    "        self._numpointsparam = numpointsparam\n",
    "\n",
    "    def get_raw(self):\n",
    "        return np.linspace(self._startparam(), self._stopparam(),\n",
    "                              self._numpointsparam())\n",
    "\n",
    "class DummyArray(ParameterWithSetpoints):\n",
    "    \n",
    "    def get_raw(self):\n",
    "        npoints = self.root_instrument.n_points.get_latest()\n",
    "        return np.random.rand(npoints)\n",
    "    \n",
    "\n",
    "class DummySpectrumAnalyzer(Instrument):\n",
    "    \n",
    "    def __init__(self, name, **kwargs):\n",
    "        \n",
    "        super().__init__(name, **kwargs)\n",
    "            \n",
    "\n",
    "        self.add_parameter('f_start',\n",
    "                           initial_value=0,\n",
    "                           unit='Hz',\n",
    "                           label='f start',\n",
    "                           vals=Numbers(0,1e3),\n",
    "                           get_cmd=None,\n",
    "                           set_cmd=None)\n",
    "\n",
    "        self.add_parameter('f_stop',\n",
    "                           unit='Hz',\n",
    "                           label='f stop',\n",
    "                           vals=Numbers(1,1e3),\n",
    "                           get_cmd=None,\n",
    "                           set_cmd=None)\n",
    "\n",
    "        self.add_parameter('n_points',\n",
    "                           unit='',\n",
    "                           initial_value=10,\n",
    "                           vals=Numbers(1,1e3),\n",
    "                           get_cmd=None,\n",
    "                           set_cmd=None)\n",
    "        \n",
    "        self.add_parameter('freq_axis',\n",
    "                           unit='Hz',\n",
    "                           label='Freq Axis',\n",
    "                           parameter_class=GeneratedSetPoints,\n",
    "                           startparam=self.f_start,\n",
    "                           stopparam=self.f_stop,\n",
    "                           numpointsparam=self.n_points,\n",
    "                           vals=Arrays(shape=(self.n_points.get_latest,)))\n",
    "                           \n",
    "        self.add_parameter('spectrum',\n",
    "                   unit='dBm',\n",
    "                   setpoints=(self.freq_axis,),\n",
    "                   label='Spectrum',\n",
    "                   parameter_class=DummyArray,\n",
    "                   vals=Arrays(shape=(self.n_points.get_latest,)))\n",
    "                "
   ]
  },
  {
   "cell_type": "markdown",
   "metadata": {},
   "source": [
    "In the above example, the shape is defined by the parameter `n_points` that defines how many samples our `DummySpectrumAnalyzer` returns.\n",
    "\n",
    "This means that the validation will call the function to get `n_points` twice for each `get` of the parameter. This may be too slow, however, if you (as the driver-writer) can guarantee that the cached value for `n_points` will never be out of sync with the value stored in the instrument, `n_points` may be replaced by it's latest known value such that the `validator` reads:\n",
    "```python\n",
    "vals=Arrays(shape=(self.n_points.get_latest))\n",
    "```\n",
    "\n",
    "This avoids any additional call to the instrument. In the same way, the arguments to the `freq_axis` parameter that defines the start, stop and number of points can be replaced by their latest value if the instrument allows it.\n",
    "\n"
   ]
  },
  {
   "cell_type": "code",
   "execution_count": 6,
   "metadata": {},
   "outputs": [
    {
     "name": "stdout",
     "output_type": "stream",
     "text": [
      "\r",
      "0it [00:00, ?it/s]"
     ]
    },
    {
     "name": "stdout",
     "output_type": "stream",
     "text": [
      "\r",
      "Upgrading database; v0 -> v1: : 0it [00:00, ?it/s]"
     ]
    },
    {
     "name": "stdout",
     "output_type": "stream",
     "text": [
      "\r",
      "Upgrading database; v0 -> v1: : 0it [00:00, ?it/s]"
     ]
    },
    {
     "name": "stdout",
     "output_type": "stream",
     "text": [
      "\n",
      "\r",
      "  0%|          | 0/1 [00:00<?, ?it/s]"
     ]
    },
    {
     "name": "stdout",
     "output_type": "stream",
     "text": [
      "\r",
      "Upgrading database; v1 -> v2:   0%|          | 0/1 [00:00<?, ?it/s]"
     ]
    },
    {
     "name": "stdout",
     "output_type": "stream",
     "text": [
      "\r",
      "Upgrading database; v1 -> v2: 100%|██████████| 1/1 [00:00<00:00, 907.47it/s]"
     ]
    },
    {
     "name": "stdout",
     "output_type": "stream",
     "text": [
      "\n",
      "\r",
      "0it [00:00, ?it/s]"
     ]
    },
    {
     "name": "stdout",
     "output_type": "stream",
     "text": [
      "\r",
      "Upgrading database; v2 -> v3: : 0it [00:00, ?it/s]"
     ]
    },
    {
     "name": "stdout",
     "output_type": "stream",
     "text": [
      "\r",
      "Upgrading database; v2 -> v3: : 0it [00:00, ?it/s]"
     ]
    },
    {
     "name": "stdout",
     "output_type": "stream",
     "text": [
      "\n",
      "\r",
      "0it [00:00, ?it/s]"
     ]
    },
    {
     "name": "stdout",
     "output_type": "stream",
     "text": [
      "\r",
      "Upgrading database; v3 -> v4: : 0it [00:00, ?it/s]"
     ]
    },
    {
     "name": "stdout",
     "output_type": "stream",
     "text": [
      "\r",
      "Upgrading database; v3 -> v4: : 0it [00:00, ?it/s]"
     ]
    },
    {
     "name": "stdout",
     "output_type": "stream",
     "text": [
      "\n",
      "\r",
      "  0%|          | 0/1 [00:00<?, ?it/s]"
     ]
    },
    {
     "name": "stdout",
     "output_type": "stream",
     "text": [
      "\r",
      "Upgrading database; v4 -> v5:   0%|          | 0/1 [00:00<?, ?it/s]"
     ]
    },
    {
     "name": "stdout",
     "output_type": "stream",
     "text": [
      "\r",
      "Upgrading database; v4 -> v5: 100%|██████████| 1/1 [00:00<00:00, 678.47it/s]"
     ]
    },
    {
     "name": "stdout",
     "output_type": "stream",
     "text": [
      "\n",
      "\r",
      "0it [00:00, ?it/s]"
     ]
    },
    {
     "name": "stdout",
     "output_type": "stream",
     "text": [
      "\r",
      "Upgrading database; v5 -> v6: : 0it [00:00, ?it/s]"
     ]
    },
    {
     "name": "stdout",
     "output_type": "stream",
     "text": [
      "\r",
      "Upgrading database; v5 -> v6: : 0it [00:00, ?it/s]"
     ]
    },
    {
     "name": "stdout",
     "output_type": "stream",
     "text": [
      "\n",
      "\r",
      "  0%|          | 0/1 [00:00<?, ?it/s]"
     ]
    },
    {
     "name": "stdout",
     "output_type": "stream",
     "text": [
      "\r",
      "Upgrading database; v6 -> v7:   0%|          | 0/1 [00:00<?, ?it/s]"
     ]
    },
    {
     "name": "stdout",
     "output_type": "stream",
     "text": [
      "\r",
      "Upgrading database; v6 -> v7: 100%|██████████| 1/1 [00:00<00:00, 408.40it/s]"
     ]
    },
    {
     "name": "stdout",
     "output_type": "stream",
     "text": [
      "\n",
      "\r",
      "  0%|          | 0/1 [00:00<?, ?it/s]"
     ]
    },
    {
     "name": "stdout",
     "output_type": "stream",
     "text": [
      "\r",
      "Upgrading database; v7 -> v8:   0%|          | 0/1 [00:00<?, ?it/s]"
     ]
    },
    {
     "name": "stdout",
     "output_type": "stream",
     "text": [
      "\r",
      "Upgrading database; v7 -> v8: 100%|██████████| 1/1 [00:00<00:00, 718.33it/s]"
     ]
    },
    {
     "name": "stdout",
     "output_type": "stream",
     "text": [
      "\n",
      "\r",
      "  0%|          | 0/1 [00:00<?, ?it/s]"
     ]
    },
    {
     "name": "stdout",
     "output_type": "stream",
     "text": [
      "\r",
      "Upgrading database; v8 -> v9:   0%|          | 0/1 [00:00<?, ?it/s]"
     ]
    },
    {
     "name": "stdout",
     "output_type": "stream",
     "text": [
      "\r",
      "Upgrading database; v8 -> v9: 100%|██████████| 1/1 [00:00<00:00, 861.61it/s]"
     ]
    },
    {
     "name": "stdout",
     "output_type": "stream",
     "text": [
      "\n"
     ]
    },
    {
     "data": {
      "text/plain": [
       "tutorial_ParameterWithSetpoints#no sample#1@/home/vsts/work/1/s/docs/examples/Parameters/tutorial_paramter_with_setpoints.db\n",
       "----------------------------------------------------------------------------------------------------------------------------"
      ]
     },
     "execution_count": 6,
     "metadata": {},
     "output_type": "execute_result"
    }
   ],
   "source": [
    "tutorial_db_path = os.path.join(os.getcwd(), 'tutorial_paramter_with_setpoints.db')\n",
    "initialise_or_create_database_at(tutorial_db_path)\n",
    "load_or_create_experiment(experiment_name='tutorial_ParameterWithSetpoints', sample_name=\"no sample\")"
   ]
  },
  {
   "cell_type": "code",
   "execution_count": 7,
   "metadata": {},
   "outputs": [],
   "source": [
    "a = DummySpectrumAnalyzer('foobar')"
   ]
  },
  {
   "cell_type": "markdown",
   "metadata": {},
   "source": [
    "First we setup the limits of the spectrum"
   ]
  },
  {
   "cell_type": "code",
   "execution_count": 8,
   "metadata": {},
   "outputs": [],
   "source": [
    "a.f_start(0)\n",
    "a.f_stop(500)\n",
    "a.n_points(501)"
   ]
  },
  {
   "cell_type": "markdown",
   "metadata": {},
   "source": [
    "And we can grab the frequency axis"
   ]
  },
  {
   "cell_type": "code",
   "execution_count": 9,
   "metadata": {},
   "outputs": [
    {
     "data": {
      "text/plain": [
       "501"
      ]
     },
     "execution_count": 9,
     "metadata": {},
     "output_type": "execute_result"
    }
   ],
   "source": [
    "a.n_points()"
   ]
  },
  {
   "cell_type": "code",
   "execution_count": 10,
   "metadata": {
    "scrolled": false
   },
   "outputs": [
    {
     "data": {
      "text/plain": [
       "501"
      ]
     },
     "execution_count": 10,
     "metadata": {},
     "output_type": "execute_result"
    }
   ],
   "source": [
    "freq_axis = a.freq_axis()\n",
    "len(freq_axis)"
   ]
  },
  {
   "cell_type": "code",
   "execution_count": 11,
   "metadata": {},
   "outputs": [
    {
     "data": {
      "text/plain": [
       "array([0., 1., 2., 3., 4., 5., 6., 7., 8., 9.])"
      ]
     },
     "execution_count": 11,
     "metadata": {},
     "output_type": "execute_result"
    }
   ],
   "source": [
    "freq_axis[:10]"
   ]
  },
  {
   "cell_type": "markdown",
   "metadata": {},
   "source": [
    "As expected we get a result wit 501 points as we asked for an axis with 501 points. "
   ]
  },
  {
   "cell_type": "markdown",
   "metadata": {},
   "source": [
    "Above we have added a validator to the `freq_axis` parameter encoding the fact that this is an Array with `n_points`. Note that we do not have to supply the number of points as an integer but can supply a function that returns the valid number of points. This would normally be a QCoDeS parameter.\n",
    "\n",
    "This will be checked if we validate the output."
   ]
  },
  {
   "cell_type": "code",
   "execution_count": 12,
   "metadata": {},
   "outputs": [],
   "source": [
    "a.freq_axis.validate(a.freq_axis.get())"
   ]
  },
  {
   "cell_type": "markdown",
   "metadata": {},
   "source": [
    "Naturally, we can also get the spectrum. Getting the spectrum will automatically perform validation both for the shape of the parameter itself and the relation to the setpoint parameter(s)"
   ]
  },
  {
   "cell_type": "code",
   "execution_count": 13,
   "metadata": {
    "scrolled": true
   },
   "outputs": [
    {
     "data": {
      "text/plain": [
       "501"
      ]
     },
     "execution_count": 13,
     "metadata": {},
     "output_type": "execute_result"
    }
   ],
   "source": [
    "spectrum = a.spectrum.get()\n",
    "len(spectrum)"
   ]
  },
  {
   "cell_type": "markdown",
   "metadata": {},
   "source": [
    "When we validate a `ParameterWithSetpoints`, we automatically validate that the shape is consistent between the parameters and its setpoints. As well as validating the shape as above."
   ]
  },
  {
   "cell_type": "code",
   "execution_count": 14,
   "metadata": {},
   "outputs": [],
   "source": [
    "a.spectrum.validate(a.spectrum.get())"
   ]
  },
  {
   "cell_type": "markdown",
   "metadata": {},
   "source": [
    "The consistent shapes can be validated explicitly."
   ]
  },
  {
   "cell_type": "code",
   "execution_count": 15,
   "metadata": {},
   "outputs": [],
   "source": [
    "a.spectrum.validate_consistent_shape()"
   ]
  },
  {
   "cell_type": "markdown",
   "metadata": {},
   "source": [
    "We can inspect the setpoints of the spectrum."
   ]
  },
  {
   "cell_type": "code",
   "execution_count": 16,
   "metadata": {},
   "outputs": [
    {
     "data": {
      "text/plain": [
       "(<__main__.GeneratedSetPoints: freq_axis at 140406712950416>,)"
      ]
     },
     "execution_count": 16,
     "metadata": {},
     "output_type": "execute_result"
    }
   ],
   "source": [
    "a.spectrum.setpoints"
   ]
  },
  {
   "cell_type": "markdown",
   "metadata": {},
   "source": [
    "Or even change them."
   ]
  },
  {
   "cell_type": "code",
   "execution_count": 17,
   "metadata": {},
   "outputs": [],
   "source": [
    "a.spectrum.setpoints = (a.freq_axis,)"
   ]
  },
  {
   "cell_type": "markdown",
   "metadata": {},
   "source": [
    "## Measurement"
   ]
  },
  {
   "cell_type": "markdown",
   "metadata": {},
   "source": [
    "We can also directly consume the parameter in a measurement without defining the setpoints of the parameter again. The setpoints are automatically obtained from the definition of the `ParameterWithSetpoint` instance. "
   ]
  },
  {
   "cell_type": "code",
   "execution_count": 18,
   "metadata": {},
   "outputs": [
    {
     "name": "stdout",
     "output_type": "stream",
     "text": [
      "Starting experimental run with id: 1. \n"
     ]
    }
   ],
   "source": [
    "meas = Measurement()\n",
    "meas.register_parameter(a.spectrum)\n",
    "\n",
    "with meas.run() as datasaver:\n",
    "    datasaver.add_result((a.freq_axis, a.freq_axis()),\n",
    "                         (a.spectrum, a.spectrum()))\n",
    "    dataset = datasaver.dataset"
   ]
  },
  {
   "cell_type": "markdown",
   "metadata": {},
   "source": [
    "And plot it"
   ]
  },
  {
   "cell_type": "code",
   "execution_count": 19,
   "metadata": {},
   "outputs": [
    {
     "data": {
      "text/plain": [
       "([<matplotlib.axes._subplots.AxesSubplot at 0x7fb2fb6a5090>], [None])"
      ]
     },
     "execution_count": 19,
     "metadata": {},
     "output_type": "execute_result"
    },
    {
     "data": {
      "image/png": "[encoded data removed]",
      "text/plain": [
       "<Figure size 432x288 with 1 Axes>"
      ]
     },
     "metadata": {
      "needs_background": "light"
     },
     "output_type": "display_data"
    }
   ],
   "source": [
    "plot_dataset(dataset)"
   ]
  },
  {
   "cell_type": "markdown",
   "metadata": {},
   "source": [
    "To reduce the amount of typing a simple convenience function is provided that will take a `ParameterWithSetpoints` and get both its values and the setpoints values and return them as tuples for direct insertion into the Dataset."
   ]
  },
  {
   "cell_type": "code",
   "execution_count": 20,
   "metadata": {
    "scrolled": true
   },
   "outputs": [
    {
     "data": {
      "text/plain": [
       "[(<__main__.GeneratedSetPoints: freq_axis at 140406712950416>,\n",
       "  array([  0.,   1.,   2.,   3.,   4.,   5.,   6.,   7.,   8.,   9.,  10.,\n",
       "          11.,  12.,  13.,  14.,  15.,  16.,  17.,  18.,  19.,  20.,  21.,\n",
       "          22.,  23.,  24.,  25.,  26.,  27.,  28.,  29.,  30.,  31.,  32.,\n",
       "          33.,  34.,  35.,  36.,  37.,  38.,  39.,  40.,  41.,  42.,  43.,\n",
       "          44.,  45.,  46.,  47.,  48.,  49.,  50.,  51.,  52.,  53.,  54.,\n",
       "          55.,  56.,  57.,  58.,  59.,  60.,  61.,  62.,  63.,  64.,  65.,\n",
       "          66.,  67.,  68.,  69.,  70.,  71.,  72.,  73.,  74.,  75.,  76.,\n",
       "          77.,  78.,  79.,  80.,  81.,  82.,  83.,  84.,  85.,  86.,  87.,\n",
       "          88.,  89.,  90.,  91.,  92.,  93.,  94.,  95.,  96.,  97.,  98.,\n",
       "          99., 100., 101., 102., 103., 104., 105., 106., 107., 108., 109.,\n",
       "         110., 111., 112., 113., 114., 115., 116., 117., 118., 119., 120.,\n",
       "         121., 122., 123., 124., 125., 126., 127., 128., 129., 130., 131.,\n",
       "         132., 133., 134., 135., 136., 137., 138., 139., 140., 141., 142.,\n",
       "         143., 144., 145., 146., 147., 148., 149., 150., 151., 152., 153.,\n",
       "         154., 155., 156., 157., 158., 159., 160., 161., 162., 163., 164.,\n",
       "         165., 166., 167., 168., 169., 170., 171., 172., 173., 174., 175.,\n",
       "         176., 177., 178., 179., 180., 181., 182., 183., 184., 185., 186.,\n",
       "         187., 188., 189., 190., 191., 192., 193., 194., 195., 196., 197.,\n",
       "         198., 199., 200., 201., 202., 203., 204., 205., 206., 207., 208.,\n",
       "         209., 210., 211., 212., 213., 214., 215., 216., 217., 218., 219.,\n",
       "         220., 221., 222., 223., 224., 225., 226., 227., 228., 229., 230.,\n",
       "         231., 232., 233., 234., 235., 236., 237., 238., 239., 240., 241.,\n",
       "         242., 243., 244., 245., 246., 247., 248., 249., 250., 251., 252.,\n",
       "         253., 254., 255., 256., 257., 258., 259., 260., 261., 262., 263.,\n",
       "         264., 265., 266., 267., 268., 269., 270., 271., 272., 273., 274.,\n",
       "         275., 276., 277., 278., 279., 280., 281., 282., 283., 284., 285.,\n",
       "         286., 287., 288., 289., 290., 291., 292., 293., 294., 295., 296.,\n",
       "         297., 298., 299., 300., 301., 302., 303., 304., 305., 306., 307.,\n",
       "         308., 309., 310., 311., 312., 313., 314., 315., 316., 317., 318.,\n",
       "         319., 320., 321., 322., 323., 324., 325., 326., 327., 328., 329.,\n",
       "         330., 331., 332., 333., 334., 335., 336., 337., 338., 339., 340.,\n",
       "         341., 342., 343., 344., 345., 346., 347., 348., 349., 350., 351.,\n",
       "         352., 353., 354., 355., 356., 357., 358., 359., 360., 361., 362.,\n",
       "         363., 364., 365., 366., 367., 368., 369., 370., 371., 372., 373.,\n",
       "         374., 375., 376., 377., 378., 379., 380., 381., 382., 383., 384.,\n",
       "         385., 386., 387., 388., 389., 390., 391., 392., 393., 394., 395.,\n",
       "         396., 397., 398., 399., 400., 401., 402., 403., 404., 405., 406.,\n",
       "         407., 408., 409., 410., 411., 412., 413., 414., 415., 416., 417.,\n",
       "         418., 419., 420., 421., 422., 423., 424., 425., 426., 427., 428.,\n",
       "         429., 430., 431., 432., 433., 434., 435., 436., 437., 438., 439.,\n",
       "         440., 441., 442., 443., 444., 445., 446., 447., 448., 449., 450.,\n",
       "         451., 452., 453., 454., 455., 456., 457., 458., 459., 460., 461.,\n",
       "         462., 463., 464., 465., 466., 467., 468., 469., 470., 471., 472.,\n",
       "         473., 474., 475., 476., 477., 478., 479., 480., 481., 482., 483.,\n",
       "         484., 485., 486., 487., 488., 489., 490., 491., 492., 493., 494.,\n",
       "         495., 496., 497., 498., 499., 500.])),\n",
       " (<__main__.DummyArray: spectrum at 140406714745744>,\n",
       "  array([3.96203124e-01, 5.32818382e-02, 5.70274399e-01, 4.40035182e-01,\n",
       "         5.29881583e-01, 6.97928726e-01, 2.33118218e-01, 8.63548980e-01,\n",
       "         2.76799832e-01, 6.53430698e-02, 3.06564944e-01, 9.84266224e-01,\n",
       "         4.79406335e-03, 1.79482217e-02, 9.33222053e-01, 9.38507975e-01,\n",
       "         5.45306490e-01, 6.49860801e-01, 9.68053992e-02, 4.15732968e-01,\n",
       "         3.56610142e-01, 3.96631962e-01, 7.11294987e-02, 9.71025027e-01,\n",
       "         7.00782124e-01, 6.32107613e-01, 7.15087033e-01, 4.30237909e-01,\n",
       "         5.83658427e-01, 3.50968801e-01, 7.94820356e-01, 8.12112284e-01,\n",
       "         4.14900400e-01, 2.12120367e-01, 4.34437586e-01, 6.32946947e-01,\n",
       "         4.23448845e-01, 7.54690705e-01, 5.12364201e-01, 5.91264096e-01,\n",
       "         1.77752923e-01, 9.69317382e-01, 8.49045858e-01, 8.27932994e-01,\n",
       "         7.12216883e-01, 8.06145668e-01, 3.10630965e-01, 9.98426866e-01,\n",
       "         5.90390554e-01, 7.91966663e-01, 1.47979243e-01, 5.45738752e-01,\n",
       "         8.22829587e-01, 8.22850323e-01, 8.62905906e-01, 9.65363882e-01,\n",
       "         2.99631647e-01, 9.61562082e-01, 9.15878888e-01, 5.38799185e-01,\n",
       "         1.43148777e-01, 8.46907074e-01, 4.59323547e-01, 5.79439477e-01,\n",
       "         6.19563689e-01, 3.65185863e-01, 6.81624271e-01, 2.01748858e-01,\n",
       "         9.39722940e-01, 5.19231391e-01, 2.82200680e-02, 1.01765629e-01,\n",
       "         5.23771700e-01, 9.05533515e-02, 6.66063246e-01, 9.39771854e-01,\n",
       "         2.32834983e-02, 2.35324343e-01, 7.36921760e-01, 1.65814938e-01,\n",
       "         3.16828179e-01, 8.91640418e-01, 8.63904067e-01, 3.64826941e-02,\n",
       "         3.55885677e-02, 2.96825832e-01, 6.70281131e-01, 2.82464425e-01,\n",
       "         3.53139288e-01, 5.21593075e-01, 8.31978454e-01, 9.38271657e-01,\n",
       "         1.65074715e-01, 9.77437776e-02, 5.12065758e-01, 9.52880520e-01,\n",
       "         6.31942426e-01, 1.38024175e-01, 2.82008774e-01, 7.10738750e-02,\n",
       "         6.68900127e-01, 3.33142932e-01, 4.16852594e-01, 3.66227986e-01,\n",
       "         8.70816679e-01, 6.62788355e-01, 6.14870917e-01, 2.98719331e-01,\n",
       "         4.82700834e-01, 1.27695382e-01, 8.39317258e-01, 2.58072477e-01,\n",
       "         4.35254832e-02, 7.74590200e-01, 9.77762871e-01, 4.79570033e-01,\n",
       "         7.89363313e-01, 3.84933308e-01, 2.35596917e-01, 1.63234000e-01,\n",
       "         3.41540324e-01, 9.70938859e-01, 6.12103867e-02, 8.40824031e-01,\n",
       "         3.29208389e-01, 2.15873403e-01, 1.24567669e-02, 9.95362521e-03,\n",
       "         4.71822762e-01, 9.59449170e-01, 4.85090970e-01, 8.28951976e-01,\n",
       "         9.34514401e-01, 9.69750999e-01, 4.34952150e-01, 1.98299199e-01,\n",
       "         2.44179167e-01, 5.31387856e-01, 6.48560879e-01, 5.34967384e-01,\n",
       "         3.39650646e-01, 8.54955760e-01, 2.51378230e-01, 8.86061153e-01,\n",
       "         5.71236606e-01, 7.29399584e-01, 2.88134008e-01, 9.17982101e-01,\n",
       "         6.82337029e-01, 8.83499440e-01, 7.07378246e-01, 4.44591725e-01,\n",
       "         6.07816751e-01, 5.95891624e-01, 5.02628516e-01, 2.60335402e-01,\n",
       "         5.29346696e-01, 8.39381716e-01, 2.61684083e-02, 9.02576740e-01,\n",
       "         9.20977820e-01, 3.13080442e-01, 1.45971819e-01, 8.47811850e-01,\n",
       "         6.95670441e-01, 1.64310402e-01, 1.96760111e-01, 5.47159578e-05,\n",
       "         6.94817007e-01, 3.72567273e-01, 2.25548177e-02, 4.05097428e-01,\n",
       "         6.45491303e-01, 2.56852307e-01, 3.64887763e-01, 2.93661326e-01,\n",
       "         9.49239318e-01, 4.16876776e-01, 6.25178681e-01, 5.85665313e-01,\n",
       "         4.10544123e-01, 3.29386655e-01, 5.53532223e-01, 6.27427417e-01,\n",
       "         8.79561477e-01, 7.88840058e-01, 2.14528491e-01, 7.13116363e-01,\n",
       "         1.98373487e-01, 5.79021350e-01, 6.57622818e-01, 2.41129122e-01,\n",
       "         7.16470330e-01, 8.61195018e-01, 2.16032057e-01, 8.61150975e-01,\n",
       "         3.63144687e-01, 9.20617674e-01, 3.78469046e-03, 6.97468588e-01,\n",
       "         9.68888194e-01, 1.81579152e-02, 8.05267209e-01, 2.76564790e-01,\n",
       "         9.86952986e-01, 4.25698911e-01, 9.29378886e-02, 9.28429803e-01,\n",
       "         6.83142538e-01, 1.49310956e-01, 2.00103116e-01, 5.74595985e-01,\n",
       "         4.91950694e-01, 7.26766933e-01, 3.82276958e-01, 3.63623115e-01,\n",
       "         5.09229254e-01, 5.23356790e-01, 4.33816377e-01, 2.01943343e-01,\n",
       "         2.38995196e-01, 5.47130481e-01, 5.02370400e-01, 3.80768898e-01,\n",
       "         9.41091101e-01, 5.62589413e-01, 5.47427780e-01, 5.73128987e-01,\n",
       "         3.14451848e-01, 9.76439111e-01, 3.75997000e-01, 7.01773672e-01,\n",
       "         8.33243031e-01, 9.87947797e-01, 4.87864131e-01, 5.61561384e-01,\n",
       "         2.21848358e-01, 7.14772488e-01, 9.07890603e-01, 6.00849208e-01,\n",
       "         5.47023642e-01, 8.30808817e-01, 9.53492884e-01, 3.75118541e-01,\n",
       "         4.23541569e-01, 4.45935749e-01, 8.82262391e-01, 6.96337168e-01,\n",
       "         7.45459307e-01, 4.49641524e-01, 3.52763816e-01, 9.25239627e-01,\n",
       "         7.42638733e-01, 9.27962095e-01, 6.03562626e-01, 5.51925462e-01,\n",
       "         1.60595386e-02, 3.10770655e-01, 6.45863954e-01, 6.02679104e-01,\n",
       "         2.62069427e-01, 9.97328999e-02, 8.88219500e-01, 9.50724154e-01,\n",
       "         2.60255710e-02, 4.28551327e-03, 4.10698701e-01, 4.13798613e-01,\n",
       "         9.82433619e-01, 5.63723182e-01, 1.88863440e-01, 3.38962174e-01,\n",
       "         4.74290173e-01, 9.38217470e-03, 6.62749975e-01, 7.32242110e-02,\n",
       "         6.55324729e-01, 4.69080735e-02, 2.17592476e-01, 2.74321962e-01,\n",
       "         8.25637662e-01, 4.29179905e-01, 3.56816528e-01, 9.67357092e-01,\n",
       "         8.63047329e-01, 5.40460677e-01, 4.09580547e-01, 7.27923249e-01,\n",
       "         9.21946979e-01, 3.55447882e-01, 9.72238392e-01, 7.88582792e-01,\n",
       "         1.89333184e-01, 4.31123848e-01, 8.74977878e-01, 1.08970514e-01,\n",
       "         6.12821133e-01, 9.78183652e-01, 8.81493804e-01, 5.75101615e-01,\n",
       "         8.03240188e-01, 5.76226116e-02, 3.63313704e-01, 5.58522543e-01,\n",
       "         5.21606306e-02, 8.76616230e-02, 4.43746390e-01, 1.71816191e-01,\n",
       "         3.62033857e-01, 5.78514976e-01, 9.02733869e-01, 5.09106294e-01,\n",
       "         3.26691135e-01, 4.06759705e-01, 2.19744754e-01, 9.40433823e-01,\n",
       "         4.68660444e-01, 4.63547985e-01, 1.86894517e-01, 4.86366520e-02,\n",
       "         2.09422796e-01, 8.45639453e-01, 2.14425423e-02, 3.24249349e-02,\n",
       "         7.01058604e-01, 5.22041832e-01, 3.20690613e-01, 2.91726875e-01,\n",
       "         6.06216882e-01, 3.60000993e-02, 1.72687028e-01, 7.97533784e-01,\n",
       "         2.07872632e-01, 7.24782460e-01, 2.60006738e-01, 5.73184378e-01,\n",
       "         9.11496043e-02, 7.24872299e-01, 5.91882716e-01, 8.81506146e-01,\n",
       "         1.98586833e-01, 9.57416216e-01, 2.86010536e-01, 6.24511749e-01,\n",
       "         8.17836427e-01, 5.37268705e-01, 8.63109752e-01, 4.22280365e-01,\n",
       "         7.96733980e-01, 6.65878025e-01, 9.59774977e-01, 5.74769335e-01,\n",
       "         6.31611278e-01, 4.61991545e-01, 4.39551607e-02, 1.45258919e-01,\n",
       "         2.52944179e-01, 9.84007114e-01, 1.79101158e-01, 1.51067274e-01,\n",
       "         6.55139609e-01, 9.15016893e-01, 2.62180999e-01, 8.40049067e-01,\n",
       "         5.68882609e-01, 9.42268557e-01, 2.84187543e-03, 6.81039627e-01,\n",
       "         1.98814919e-01, 5.63272610e-01, 7.09512974e-01, 3.87247501e-01,\n",
       "         8.17244896e-01, 5.65642509e-01, 2.09084312e-01, 7.64943988e-01,\n",
       "         8.85406003e-01, 1.25583703e-01, 4.74791301e-01, 4.54974610e-01,\n",
       "         6.23906198e-01, 8.52638324e-02, 5.53508093e-01, 4.08491455e-01,\n",
       "         4.19229202e-01, 2.20488366e-01, 3.65850575e-01, 5.76506255e-01,\n",
       "         6.61373576e-01, 2.22966593e-01, 2.76374600e-01, 1.49338580e-02,\n",
       "         7.57762954e-01, 3.57076113e-01, 6.79261173e-01, 1.31358079e-01,\n",
       "         9.72034117e-01, 6.94166490e-01, 8.66839439e-01, 5.54501668e-01,\n",
       "         4.57511850e-01, 4.76845337e-01, 8.80204245e-02, 3.29418348e-01,\n",
       "         1.59526264e-01, 7.83233261e-01, 3.71840039e-01, 3.48248400e-02,\n",
       "         2.31077247e-01, 1.17376460e-01, 8.98324907e-01, 9.65598716e-01,\n",
       "         5.41263448e-01, 9.18543011e-01, 3.08182272e-01, 3.61763956e-01,\n",
       "         1.63918114e-02, 3.74298083e-01, 5.78219926e-02, 6.84907380e-02,\n",
       "         7.21055002e-01, 7.86452313e-01, 3.76807804e-01, 9.48149455e-01,\n",
       "         6.17295290e-01, 9.89548747e-01, 1.32050671e-01, 6.15736553e-01,\n",
       "         3.53467475e-01, 2.30119422e-01, 6.12437549e-01, 5.45392915e-01,\n",
       "         5.55056367e-01, 2.10635078e-01, 7.08860671e-01, 7.12977409e-01,\n",
       "         8.13232368e-01, 7.41380084e-01, 2.96199849e-01, 7.69454076e-01,\n",
       "         7.63638967e-01, 4.46240801e-01, 9.70017761e-01, 8.94520342e-01,\n",
       "         7.44521915e-01, 9.57513520e-01, 6.49677959e-01, 9.06362848e-01,\n",
       "         3.02335123e-01, 8.43696546e-01, 6.08431184e-01, 3.48599292e-02,\n",
       "         6.02850912e-01, 4.82906315e-01, 7.32474102e-01, 2.02174847e-01,\n",
       "         2.01990402e-01, 9.56937236e-01, 7.83619449e-01, 8.42134667e-01,\n",
       "         9.12728843e-01, 4.77637882e-01, 7.51203786e-01, 9.22243386e-01,\n",
       "         2.13527672e-01, 9.22983040e-03, 7.90524542e-01, 6.24279843e-01,\n",
       "         1.09222881e-01, 9.13362184e-01, 9.86093562e-01, 9.16866778e-02,\n",
       "         9.20993352e-01, 6.54869575e-01, 3.53538901e-01, 3.12586021e-01,\n",
       "         6.61270836e-01, 7.62494702e-01, 8.05715772e-01, 3.05201056e-01,\n",
       "         5.12446520e-01, 4.22609727e-01, 4.99021339e-01, 5.34933172e-01,\n",
       "         5.60984514e-01, 3.52501685e-01, 2.90155505e-02, 4.72354323e-01,\n",
       "         4.64190332e-01, 8.09328253e-01, 8.24440913e-01, 3.18500408e-01,\n",
       "         4.92226425e-01, 2.97190779e-01, 5.68433887e-01, 4.53573426e-01,\n",
       "         1.83574902e-01, 7.20140000e-01, 8.63427914e-01, 6.92065366e-02,\n",
       "         8.70064019e-01]))]"
      ]
     },
     "execution_count": 20,
     "metadata": {},
     "output_type": "execute_result"
    }
   ],
   "source": [
    "expand_setpoints_helper(a.spectrum)"
   ]
  },
  {
   "cell_type": "code",
   "execution_count": 21,
   "metadata": {},
   "outputs": [
    {
     "name": "stdout",
     "output_type": "stream",
     "text": [
      "Starting experimental run with id: 2. \n"
     ]
    }
   ],
   "source": [
    "meas = Measurement()\n",
    "meas.register_parameter(a.spectrum)\n",
    "\n",
    "with meas.run() as datasaver:\n",
    "    datasaver.add_result(*expand_setpoints_helper(a.spectrum))\n",
    "    \n",
    "    dataid = datasaver.run_id"
   ]
  },
  {
   "cell_type": "code",
   "execution_count": null,
   "metadata": {},
   "outputs": [],
   "source": []
  }
 ],
 "metadata": {
  "kernelspec": {
   "display_name": "Python 3",
   "language": "python",
   "name": "python3"
  },
  "language_info": {
   "codemirror_mode": {
    "name": "ipython",
    "version": 3
   },
   "file_extension": ".py",
   "mimetype": "text/x-python",
   "name": "python",
   "nbconvert_exporter": "python",
   "pygments_lexer": "ipython3",
   "version": "3.7.7"
  },
  "toc": {
   "base_numbering": 1,
   "nav_menu": {},
   "number_sections": true,
   "sideBar": true,
   "skip_h1_title": false,
   "title_cell": "Table of Contents",
   "title_sidebar": "Contents",
   "toc_cell": false,
   "toc_position": {},
   "toc_section_display": true,
   "toc_window_display": false
  },
  "varInspector": {
   "cols": {
    "lenName": 16,
    "lenType": 16,
    "lenVar": 40
   },
   "kernels_config": {
    "python": {
     "delete_cmd_postfix": "",
     "delete_cmd_prefix": "del ",
     "library": "var_list.py",
     "varRefreshCmd": "print(var_dic_list())"
    },
    "r": {
     "delete_cmd_postfix": ") ",
     "delete_cmd_prefix": "rm(",
     "library": "var_list.r",
     "varRefreshCmd": "cat(var_dic_list()) "
    }
   },
   "types_to_exclude": [
    "module",
    "function",
    "builtin_function_or_method",
    "instance",
    "_Feature"
   ],
   "window_display": false
  }
 },
 "nbformat": 4,
 "nbformat_minor": 2
}
