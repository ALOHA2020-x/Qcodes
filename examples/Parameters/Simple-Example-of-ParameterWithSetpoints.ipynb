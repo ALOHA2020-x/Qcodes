{
 "cells": [
  {
   "cell_type": "markdown",
   "metadata": {},
   "source": [
    "# Simple Example of ParameterWithSetpoints\n",
    "This notebook provides an example for writing a simple driver with a parameter that has setpoints. Let's name this parameter that has setpoints as \"y\". Then, the setpoints, say \"x1, x2, x3 ..\", are the parameters on which the parameter \n",
    "\"y\" depends upon. Meaning \"y\" is a function of \"x1, x2, x3 ...\" where \"x1, x2, x3 ...\" are known as the setpoints of parameter \"y\".\n",
    "\n",
    "This is most likely to be useful for instruments that return arrays of results. In this notebook, we will show an example of this."
   ]
  },
  {
   "cell_type": "code",
   "execution_count": 1,
   "metadata": {},
   "outputs": [],
   "source": [
    "import numpy as np\n",
    "import os"
   ]
  },
  {
   "cell_type": "code",
   "execution_count": 2,
   "metadata": {},
   "outputs": [
    {
     "name": "stdout",
     "output_type": "stream",
     "text": [
      "Logging hadn't been started.\n",
      "Activating auto-logging. Current session state plus future input saved.\n",
      "Filename       : /home/vsts/.qcodes/logs/command_history.log\n",
      "Mode           : append\n",
      "Output logging : True\n",
      "Raw input log  : False\n",
      "Timestamping   : True\n",
      "State          : active\n"
     ]
    },
    {
     "name": "stdout",
     "output_type": "stream",
     "text": [
      "Qcodes Logfile : /home/vsts/.qcodes/logs/200717-21789-qcodes.log\n"
     ]
    }
   ],
   "source": [
    "from qcodes.dataset.plotting import plot_dataset\n",
    "from qcodes.utils.validators import Numbers, Arrays\n",
    "from qcodes.instrument.base import Instrument\n",
    "from qcodes.dataset.measurements import Measurement"
   ]
  },
  {
   "cell_type": "code",
   "execution_count": 3,
   "metadata": {},
   "outputs": [],
   "source": [
    "from qcodes.dataset.sqlite.database import initialise_or_create_database_at\n",
    "from qcodes.dataset.experiment_container import load_or_create_experiment"
   ]
  },
  {
   "cell_type": "code",
   "execution_count": 4,
   "metadata": {},
   "outputs": [],
   "source": [
    "from qcodes.instrument.parameter import ParameterWithSetpoints, Parameter\n",
    "from qcodes.instrument.parameter import expand_setpoints_helper"
   ]
  },
  {
   "cell_type": "markdown",
   "metadata": {},
   "source": [
    "First, we define a dummy instrument that returns something like a frequency spectrum starting from a frequency given by `f_start` to a frequency given by `f_stop` in `n_points` steps. \n",
    "\n",
    "The extra functionality of the `ParameterWithSetpoints` is implemented by giving it a reference to one or more parameters that acts like its setpoints. \n",
    "\n",
    "To setup a `ParameterWithSetpoints` we have to do two things in addition to what we do for a normal parameter.\n",
    "\n",
    "* Define one or more parameter for the setpoints (one for each dimension of the array and let the `ParameterWithSetpoints` know that these are the setpoints.\n",
    "* Give both the setpoints parameter(s) and the `ParameterWithSetpoints` a `validator` of type `Arrays` with a shape. The shapes should be such that the combined shape of the setpoints matches the shape of the `ParameterWithSetpoints`. Note that if the shape changes with the setting of the instrument, it can be defined by another parameter as shown below. "
   ]
  },
  {
   "cell_type": "code",
   "execution_count": 5,
   "metadata": {},
   "outputs": [],
   "source": [
    "class GeneratedSetPoints(Parameter):\n",
    "    \"\"\"\n",
    "    A parameter that generates a setpoint array from start, stop and num points\n",
    "    parameters.\n",
    "    \"\"\"\n",
    "    def __init__(self, startparam, stopparam, numpointsparam, *args, **kwargs):\n",
    "        super().__init__(*args, **kwargs)\n",
    "        self._startparam = startparam\n",
    "        self._stopparam = stopparam\n",
    "        self._numpointsparam = numpointsparam\n",
    "\n",
    "    def get_raw(self):\n",
    "        return np.linspace(self._startparam(), self._stopparam(),\n",
    "                              self._numpointsparam())\n",
    "\n",
    "class DummyArray(ParameterWithSetpoints):\n",
    "    \n",
    "    def get_raw(self):\n",
    "        npoints = self.root_instrument.n_points.get_latest()\n",
    "        return np.random.rand(npoints)\n",
    "    \n",
    "\n",
    "class DummySpectrumAnalyzer(Instrument):\n",
    "    \n",
    "    def __init__(self, name, **kwargs):\n",
    "        \n",
    "        super().__init__(name, **kwargs)\n",
    "            \n",
    "\n",
    "        self.add_parameter('f_start',\n",
    "                           initial_value=0,\n",
    "                           unit='Hz',\n",
    "                           label='f start',\n",
    "                           vals=Numbers(0,1e3),\n",
    "                           get_cmd=None,\n",
    "                           set_cmd=None)\n",
    "\n",
    "        self.add_parameter('f_stop',\n",
    "                           unit='Hz',\n",
    "                           label='f stop',\n",
    "                           vals=Numbers(1,1e3),\n",
    "                           get_cmd=None,\n",
    "                           set_cmd=None)\n",
    "\n",
    "        self.add_parameter('n_points',\n",
    "                           unit='',\n",
    "                           initial_value=10,\n",
    "                           vals=Numbers(1,1e3),\n",
    "                           get_cmd=None,\n",
    "                           set_cmd=None)\n",
    "        \n",
    "        self.add_parameter('freq_axis',\n",
    "                           unit='Hz',\n",
    "                           label='Freq Axis',\n",
    "                           parameter_class=GeneratedSetPoints,\n",
    "                           startparam=self.f_start,\n",
    "                           stopparam=self.f_stop,\n",
    "                           numpointsparam=self.n_points,\n",
    "                           vals=Arrays(shape=(self.n_points.get_latest,)))\n",
    "                           \n",
    "        self.add_parameter('spectrum',\n",
    "                   unit='dBm',\n",
    "                   setpoints=(self.freq_axis,),\n",
    "                   label='Spectrum',\n",
    "                   parameter_class=DummyArray,\n",
    "                   vals=Arrays(shape=(self.n_points.get_latest,)))\n",
    "                "
   ]
  },
  {
   "cell_type": "markdown",
   "metadata": {},
   "source": [
    "In the above example, the shape is defined by the parameter `n_points` that defines how many samples our `DummySpectrumAnalyzer` returns.\n",
    "\n",
    "This means that the validation will call the function to get `n_points` twice for each `get` of the parameter. This may be too slow, however, if you (as the driver-writer) can guarantee that the cached value for `n_points` will never be out of sync with the value stored in the instrument, `n_points` may be replaced by it's latest known value such that the `validator` reads:\n",
    "```python\n",
    "vals=Arrays(shape=(self.n_points.get_latest))\n",
    "```\n",
    "\n",
    "This avoids any additional call to the instrument. In the same way, the arguments to the `freq_axis` parameter that defines the start, stop and number of points can be replaced by their latest value if the instrument allows it.\n",
    "\n"
   ]
  },
  {
   "cell_type": "code",
   "execution_count": 6,
   "metadata": {},
   "outputs": [
    {
     "name": "stdout",
     "output_type": "stream",
     "text": [
      "\r",
      "0it [00:00, ?it/s]"
     ]
    },
    {
     "name": "stdout",
     "output_type": "stream",
     "text": [
      "\r",
      "Upgrading database; v0 -> v1: : 0it [00:00, ?it/s]"
     ]
    },
    {
     "name": "stdout",
     "output_type": "stream",
     "text": [
      "\r",
      "Upgrading database; v0 -> v1: : 0it [00:00, ?it/s]"
     ]
    },
    {
     "name": "stdout",
     "output_type": "stream",
     "text": [
      "\n",
      "\r",
      "  0%|          | 0/1 [00:00<?, ?it/s]"
     ]
    },
    {
     "name": "stdout",
     "output_type": "stream",
     "text": [
      "\r",
      "Upgrading database; v1 -> v2:   0%|          | 0/1 [00:00<?, ?it/s]"
     ]
    },
    {
     "name": "stdout",
     "output_type": "stream",
     "text": [
      "\r",
      "Upgrading database; v1 -> v2: 100%|██████████| 1/1 [00:00<00:00, 1062.12it/s]"
     ]
    },
    {
     "name": "stdout",
     "output_type": "stream",
     "text": [
      "\n",
      "\r",
      "0it [00:00, ?it/s]"
     ]
    },
    {
     "name": "stdout",
     "output_type": "stream",
     "text": [
      "\r",
      "Upgrading database; v2 -> v3: : 0it [00:00, ?it/s]"
     ]
    },
    {
     "name": "stdout",
     "output_type": "stream",
     "text": [
      "\r",
      "Upgrading database; v2 -> v3: : 0it [00:00, ?it/s]"
     ]
    },
    {
     "name": "stdout",
     "output_type": "stream",
     "text": [
      "\n",
      "\r",
      "0it [00:00, ?it/s]"
     ]
    },
    {
     "name": "stdout",
     "output_type": "stream",
     "text": [
      "\r",
      "Upgrading database; v3 -> v4: : 0it [00:00, ?it/s]"
     ]
    },
    {
     "name": "stdout",
     "output_type": "stream",
     "text": [
      "\r",
      "Upgrading database; v3 -> v4: : 0it [00:00, ?it/s]"
     ]
    },
    {
     "name": "stdout",
     "output_type": "stream",
     "text": [
      "\n",
      "\r",
      "  0%|          | 0/1 [00:00<?, ?it/s]"
     ]
    },
    {
     "name": "stdout",
     "output_type": "stream",
     "text": [
      "\r",
      "Upgrading database; v4 -> v5:   0%|          | 0/1 [00:00<?, ?it/s]"
     ]
    },
    {
     "name": "stdout",
     "output_type": "stream",
     "text": [
      "\r",
      "Upgrading database; v4 -> v5: 100%|██████████| 1/1 [00:00<00:00, 846.48it/s]"
     ]
    },
    {
     "name": "stdout",
     "output_type": "stream",
     "text": [
      "\n",
      "\r",
      "0it [00:00, ?it/s]"
     ]
    },
    {
     "name": "stdout",
     "output_type": "stream",
     "text": [
      "\r",
      "Upgrading database; v5 -> v6: : 0it [00:00, ?it/s]"
     ]
    },
    {
     "name": "stdout",
     "output_type": "stream",
     "text": [
      "\r",
      "Upgrading database; v5 -> v6: : 0it [00:00, ?it/s]"
     ]
    },
    {
     "name": "stdout",
     "output_type": "stream",
     "text": [
      "\n",
      "\r",
      "  0%|          | 0/1 [00:00<?, ?it/s]"
     ]
    },
    {
     "name": "stdout",
     "output_type": "stream",
     "text": [
      "\r",
      "Upgrading database; v6 -> v7:   0%|          | 0/1 [00:00<?, ?it/s]"
     ]
    },
    {
     "name": "stdout",
     "output_type": "stream",
     "text": [
      "\r",
      "Upgrading database; v6 -> v7: 100%|██████████| 1/1 [00:00<00:00, 397.79it/s]"
     ]
    },
    {
     "name": "stdout",
     "output_type": "stream",
     "text": [
      "\n",
      "\r",
      "  0%|          | 0/1 [00:00<?, ?it/s]"
     ]
    },
    {
     "name": "stdout",
     "output_type": "stream",
     "text": [
      "\r",
      "Upgrading database; v7 -> v8:   0%|          | 0/1 [00:00<?, ?it/s]"
     ]
    },
    {
     "name": "stdout",
     "output_type": "stream",
     "text": [
      "\r",
      "Upgrading database; v7 -> v8: 100%|██████████| 1/1 [00:00<00:00, 843.08it/s]"
     ]
    },
    {
     "name": "stdout",
     "output_type": "stream",
     "text": [
      "\n",
      "\r",
      "  0%|          | 0/1 [00:00<?, ?it/s]"
     ]
    },
    {
     "name": "stdout",
     "output_type": "stream",
     "text": [
      "\r",
      "Upgrading database; v8 -> v9:   0%|          | 0/1 [00:00<?, ?it/s]"
     ]
    },
    {
     "name": "stdout",
     "output_type": "stream",
     "text": [
      "\r",
      "Upgrading database; v8 -> v9: 100%|██████████| 1/1 [00:00<00:00, 907.47it/s]"
     ]
    },
    {
     "name": "stdout",
     "output_type": "stream",
     "text": [
      "\n"
     ]
    },
    {
     "data": {
      "text/plain": [
       "tutorial_ParameterWithSetpoints#no sample#1@/home/vsts/work/1/s/docs/examples/Parameters/tutorial_paramter_with_setpoints.db\n",
       "----------------------------------------------------------------------------------------------------------------------------"
      ]
     },
     "execution_count": 6,
     "metadata": {},
     "output_type": "execute_result"
    }
   ],
   "source": [
    "tutorial_db_path = os.path.join(os.getcwd(), 'tutorial_paramter_with_setpoints.db')\n",
    "initialise_or_create_database_at(tutorial_db_path)\n",
    "load_or_create_experiment(experiment_name='tutorial_ParameterWithSetpoints', sample_name=\"no sample\")"
   ]
  },
  {
   "cell_type": "code",
   "execution_count": 7,
   "metadata": {},
   "outputs": [],
   "source": [
    "a = DummySpectrumAnalyzer('foobar')"
   ]
  },
  {
   "cell_type": "markdown",
   "metadata": {},
   "source": [
    "First we setup the limits of the spectrum"
   ]
  },
  {
   "cell_type": "code",
   "execution_count": 8,
   "metadata": {},
   "outputs": [],
   "source": [
    "a.f_start(0)\n",
    "a.f_stop(500)\n",
    "a.n_points(501)"
   ]
  },
  {
   "cell_type": "markdown",
   "metadata": {},
   "source": [
    "And we can grab the frequency axis"
   ]
  },
  {
   "cell_type": "code",
   "execution_count": 9,
   "metadata": {},
   "outputs": [
    {
     "data": {
      "text/plain": [
       "501"
      ]
     },
     "execution_count": 9,
     "metadata": {},
     "output_type": "execute_result"
    }
   ],
   "source": [
    "a.n_points()"
   ]
  },
  {
   "cell_type": "code",
   "execution_count": 10,
   "metadata": {
    "scrolled": false
   },
   "outputs": [
    {
     "data": {
      "text/plain": [
       "501"
      ]
     },
     "execution_count": 10,
     "metadata": {},
     "output_type": "execute_result"
    }
   ],
   "source": [
    "freq_axis = a.freq_axis()\n",
    "len(freq_axis)"
   ]
  },
  {
   "cell_type": "code",
   "execution_count": 11,
   "metadata": {},
   "outputs": [
    {
     "data": {
      "text/plain": [
       "array([0., 1., 2., 3., 4., 5., 6., 7., 8., 9.])"
      ]
     },
     "execution_count": 11,
     "metadata": {},
     "output_type": "execute_result"
    }
   ],
   "source": [
    "freq_axis[:10]"
   ]
  },
  {
   "cell_type": "markdown",
   "metadata": {},
   "source": [
    "As expected we get a result wit 501 points as we asked for an axis with 501 points. "
   ]
  },
  {
   "cell_type": "markdown",
   "metadata": {},
   "source": [
    "Above we have added a validator to the `freq_axis` parameter encoding the fact that this is an Array with `n_points`. Note that we do not have to supply the number of points as an integer but can supply a function that returns the valid number of points. This would normally be a QCoDeS parameter.\n",
    "\n",
    "This will be checked if we validate the output."
   ]
  },
  {
   "cell_type": "code",
   "execution_count": 12,
   "metadata": {},
   "outputs": [],
   "source": [
    "a.freq_axis.validate(a.freq_axis.get())"
   ]
  },
  {
   "cell_type": "markdown",
   "metadata": {},
   "source": [
    "Naturally, we can also get the spectrum. Getting the spectrum will automatically perform validation both for the shape of the parameter itself and the relation to the setpoint parameter(s)"
   ]
  },
  {
   "cell_type": "code",
   "execution_count": 13,
   "metadata": {
    "scrolled": true
   },
   "outputs": [
    {
     "data": {
      "text/plain": [
       "501"
      ]
     },
     "execution_count": 13,
     "metadata": {},
     "output_type": "execute_result"
    }
   ],
   "source": [
    "spectrum = a.spectrum.get()\n",
    "len(spectrum)"
   ]
  },
  {
   "cell_type": "markdown",
   "metadata": {},
   "source": [
    "When we validate a `ParameterWithSetpoints`, we automatically validate that the shape is consistent between the parameters and its setpoints. As well as validating the shape as above."
   ]
  },
  {
   "cell_type": "code",
   "execution_count": 14,
   "metadata": {},
   "outputs": [],
   "source": [
    "a.spectrum.validate(a.spectrum.get())"
   ]
  },
  {
   "cell_type": "markdown",
   "metadata": {},
   "source": [
    "The consistent shapes can be validated explicitly."
   ]
  },
  {
   "cell_type": "code",
   "execution_count": 15,
   "metadata": {},
   "outputs": [],
   "source": [
    "a.spectrum.validate_consistent_shape()"
   ]
  },
  {
   "cell_type": "markdown",
   "metadata": {},
   "source": [
    "We can inspect the setpoints of the spectrum."
   ]
  },
  {
   "cell_type": "code",
   "execution_count": 16,
   "metadata": {},
   "outputs": [
    {
     "data": {
      "text/plain": [
       "(<__main__.GeneratedSetPoints: freq_axis at 139631887572112>,)"
      ]
     },
     "execution_count": 16,
     "metadata": {},
     "output_type": "execute_result"
    }
   ],
   "source": [
    "a.spectrum.setpoints"
   ]
  },
  {
   "cell_type": "markdown",
   "metadata": {},
   "source": [
    "Or even change them."
   ]
  },
  {
   "cell_type": "code",
   "execution_count": 17,
   "metadata": {},
   "outputs": [],
   "source": [
    "a.spectrum.setpoints = (a.freq_axis,)"
   ]
  },
  {
   "cell_type": "markdown",
   "metadata": {},
   "source": [
    "## Measurement"
   ]
  },
  {
   "cell_type": "markdown",
   "metadata": {},
   "source": [
    "We can also directly consume the parameter in a measurement without defining the setpoints of the parameter again. The setpoints are automatically obtained from the definition of the `ParameterWithSetpoint` instance. "
   ]
  },
  {
   "cell_type": "code",
   "execution_count": 18,
   "metadata": {},
   "outputs": [
    {
     "name": "stdout",
     "output_type": "stream",
     "text": [
      "Starting experimental run with id: 1. \n"
     ]
    }
   ],
   "source": [
    "meas = Measurement()\n",
    "meas.register_parameter(a.spectrum)\n",
    "\n",
    "with meas.run() as datasaver:\n",
    "    datasaver.add_result((a.freq_axis, a.freq_axis()),\n",
    "                         (a.spectrum, a.spectrum()))\n",
    "    dataset = datasaver.dataset"
   ]
  },
  {
   "cell_type": "markdown",
   "metadata": {},
   "source": [
    "And plot it"
   ]
  },
  {
   "cell_type": "code",
   "execution_count": 19,
   "metadata": {},
   "outputs": [
    {
     "data": {
      "text/plain": [
       "([<matplotlib.axes._subplots.AxesSubplot at 0x7efeb976a090>], [None])"
      ]
     },
     "execution_count": 19,
     "metadata": {},
     "output_type": "execute_result"
    },
    {
     "data": {
      "image/png": "[encoded data removed]",
      "text/plain": [
       "<Figure size 432x288 with 1 Axes>"
      ]
     },
     "metadata": {
      "needs_background": "light"
     },
     "output_type": "display_data"
    }
   ],
   "source": [
    "plot_dataset(dataset)"
   ]
  },
  {
   "cell_type": "markdown",
   "metadata": {},
   "source": [
    "To reduce the amount of typing a simple convenience function is provided that will take a `ParameterWithSetpoints` and get both its values and the setpoints values and return them as tuples for direct insertion into the Dataset."
   ]
  },
  {
   "cell_type": "code",
   "execution_count": 20,
   "metadata": {
    "scrolled": true
   },
   "outputs": [
    {
     "data": {
      "text/plain": [
       "[(<__main__.GeneratedSetPoints: freq_axis at 139631887572112>,\n",
       "  array([  0.,   1.,   2.,   3.,   4.,   5.,   6.,   7.,   8.,   9.,  10.,\n",
       "          11.,  12.,  13.,  14.,  15.,  16.,  17.,  18.,  19.,  20.,  21.,\n",
       "          22.,  23.,  24.,  25.,  26.,  27.,  28.,  29.,  30.,  31.,  32.,\n",
       "          33.,  34.,  35.,  36.,  37.,  38.,  39.,  40.,  41.,  42.,  43.,\n",
       "          44.,  45.,  46.,  47.,  48.,  49.,  50.,  51.,  52.,  53.,  54.,\n",
       "          55.,  56.,  57.,  58.,  59.,  60.,  61.,  62.,  63.,  64.,  65.,\n",
       "          66.,  67.,  68.,  69.,  70.,  71.,  72.,  73.,  74.,  75.,  76.,\n",
       "          77.,  78.,  79.,  80.,  81.,  82.,  83.,  84.,  85.,  86.,  87.,\n",
       "          88.,  89.,  90.,  91.,  92.,  93.,  94.,  95.,  96.,  97.,  98.,\n",
       "          99., 100., 101., 102., 103., 104., 105., 106., 107., 108., 109.,\n",
       "         110., 111., 112., 113., 114., 115., 116., 117., 118., 119., 120.,\n",
       "         121., 122., 123., 124., 125., 126., 127., 128., 129., 130., 131.,\n",
       "         132., 133., 134., 135., 136., 137., 138., 139., 140., 141., 142.,\n",
       "         143., 144., 145., 146., 147., 148., 149., 150., 151., 152., 153.,\n",
       "         154., 155., 156., 157., 158., 159., 160., 161., 162., 163., 164.,\n",
       "         165., 166., 167., 168., 169., 170., 171., 172., 173., 174., 175.,\n",
       "         176., 177., 178., 179., 180., 181., 182., 183., 184., 185., 186.,\n",
       "         187., 188., 189., 190., 191., 192., 193., 194., 195., 196., 197.,\n",
       "         198., 199., 200., 201., 202., 203., 204., 205., 206., 207., 208.,\n",
       "         209., 210., 211., 212., 213., 214., 215., 216., 217., 218., 219.,\n",
       "         220., 221., 222., 223., 224., 225., 226., 227., 228., 229., 230.,\n",
       "         231., 232., 233., 234., 235., 236., 237., 238., 239., 240., 241.,\n",
       "         242., 243., 244., 245., 246., 247., 248., 249., 250., 251., 252.,\n",
       "         253., 254., 255., 256., 257., 258., 259., 260., 261., 262., 263.,\n",
       "         264., 265., 266., 267., 268., 269., 270., 271., 272., 273., 274.,\n",
       "         275., 276., 277., 278., 279., 280., 281., 282., 283., 284., 285.,\n",
       "         286., 287., 288., 289., 290., 291., 292., 293., 294., 295., 296.,\n",
       "         297., 298., 299., 300., 301., 302., 303., 304., 305., 306., 307.,\n",
       "         308., 309., 310., 311., 312., 313., 314., 315., 316., 317., 318.,\n",
       "         319., 320., 321., 322., 323., 324., 325., 326., 327., 328., 329.,\n",
       "         330., 331., 332., 333., 334., 335., 336., 337., 338., 339., 340.,\n",
       "         341., 342., 343., 344., 345., 346., 347., 348., 349., 350., 351.,\n",
       "         352., 353., 354., 355., 356., 357., 358., 359., 360., 361., 362.,\n",
       "         363., 364., 365., 366., 367., 368., 369., 370., 371., 372., 373.,\n",
       "         374., 375., 376., 377., 378., 379., 380., 381., 382., 383., 384.,\n",
       "         385., 386., 387., 388., 389., 390., 391., 392., 393., 394., 395.,\n",
       "         396., 397., 398., 399., 400., 401., 402., 403., 404., 405., 406.,\n",
       "         407., 408., 409., 410., 411., 412., 413., 414., 415., 416., 417.,\n",
       "         418., 419., 420., 421., 422., 423., 424., 425., 426., 427., 428.,\n",
       "         429., 430., 431., 432., 433., 434., 435., 436., 437., 438., 439.,\n",
       "         440., 441., 442., 443., 444., 445., 446., 447., 448., 449., 450.,\n",
       "         451., 452., 453., 454., 455., 456., 457., 458., 459., 460., 461.,\n",
       "         462., 463., 464., 465., 466., 467., 468., 469., 470., 471., 472.,\n",
       "         473., 474., 475., 476., 477., 478., 479., 480., 481., 482., 483.,\n",
       "         484., 485., 486., 487., 488., 489., 490., 491., 492., 493., 494.,\n",
       "         495., 496., 497., 498., 499., 500.])),\n",
       " (<__main__.DummyArray: spectrum at 139631887571792>,\n",
       "  array([7.70373941e-01, 3.91002395e-01, 8.64033062e-01, 7.06804295e-01,\n",
       "         5.69379727e-01, 3.84906324e-01, 9.73712865e-01, 5.46749737e-01,\n",
       "         6.36971090e-01, 3.29106113e-01, 8.29650248e-02, 3.98956263e-01,\n",
       "         5.08064983e-01, 3.86063014e-01, 6.62997603e-01, 1.83272514e-01,\n",
       "         8.74732375e-01, 3.77020573e-02, 7.67051640e-01, 8.77557936e-01,\n",
       "         3.76239727e-01, 6.07379545e-01, 2.74446295e-01, 2.06903331e-02,\n",
       "         9.72428848e-01, 7.52646426e-01, 6.18506346e-01, 7.32877492e-01,\n",
       "         7.27140077e-01, 2.45209566e-01, 3.42484405e-01, 9.22853397e-01,\n",
       "         4.51324892e-01, 2.27790741e-01, 7.77792016e-01, 2.23023707e-01,\n",
       "         6.81606499e-01, 3.92890135e-01, 6.78823084e-01, 2.05997718e-01,\n",
       "         7.13003279e-01, 5.44159369e-01, 5.04616036e-01, 3.08889274e-01,\n",
       "         6.36600933e-01, 2.55397375e-01, 8.82488889e-01, 9.57887073e-01,\n",
       "         1.15434236e-01, 9.08519782e-01, 5.00206284e-01, 6.95834602e-01,\n",
       "         9.76343520e-01, 5.41902436e-02, 1.28713613e-01, 8.76599578e-01,\n",
       "         7.57924417e-01, 4.56690652e-01, 9.05643383e-01, 7.80667238e-02,\n",
       "         5.17969657e-01, 3.78564414e-01, 7.34844243e-01, 2.92085941e-01,\n",
       "         6.30739759e-01, 6.79976869e-01, 4.95538384e-01, 1.76304257e-01,\n",
       "         1.77495756e-01, 8.57552288e-01, 8.65040844e-01, 9.09502269e-01,\n",
       "         5.01401019e-01, 9.76974350e-01, 1.45481830e-01, 2.22680152e-01,\n",
       "         4.15974039e-01, 4.57095752e-02, 5.22701694e-01, 1.53961491e-01,\n",
       "         4.23569568e-01, 5.48407406e-01, 6.90664374e-01, 1.50505341e-01,\n",
       "         6.58994504e-01, 9.41006858e-01, 4.61955907e-01, 4.27910532e-02,\n",
       "         1.95295856e-01, 3.44634714e-01, 5.53587660e-01, 6.35902423e-02,\n",
       "         2.89506001e-01, 6.16320984e-01, 4.08645644e-01, 6.09780386e-02,\n",
       "         8.06413116e-01, 9.90084353e-01, 9.99828261e-02, 9.71839120e-01,\n",
       "         4.04607112e-01, 3.36424901e-01, 4.48190918e-01, 7.95463372e-01,\n",
       "         1.41130199e-01, 9.50826757e-01, 4.01781807e-01, 4.13678791e-01,\n",
       "         4.43302269e-01, 3.91717766e-01, 6.93932677e-01, 6.17788621e-02,\n",
       "         8.26373807e-01, 8.17815164e-01, 9.59145519e-01, 4.33322123e-01,\n",
       "         1.38959173e-01, 7.32444498e-01, 2.85125368e-01, 5.22771160e-01,\n",
       "         9.60319592e-01, 6.84147579e-01, 4.88960940e-01, 3.48456986e-01,\n",
       "         9.39069687e-01, 1.78021296e-01, 1.88703345e-01, 6.26847364e-02,\n",
       "         5.58756456e-01, 1.06585509e-01, 3.04992236e-01, 8.90607525e-01,\n",
       "         7.11089822e-01, 2.72276998e-01, 8.72387442e-02, 7.08374654e-01,\n",
       "         5.13255673e-01, 4.07742337e-01, 2.83318486e-02, 6.31115615e-01,\n",
       "         3.75743756e-01, 4.91762968e-04, 1.33995160e-01, 1.66298515e-01,\n",
       "         8.46532327e-01, 9.91233309e-01, 2.34103032e-01, 4.93355843e-01,\n",
       "         7.33540721e-01, 6.70547550e-01, 2.74631491e-01, 8.32785194e-01,\n",
       "         1.80866451e-03, 7.70691620e-01, 7.98619867e-01, 1.41212496e-01,\n",
       "         2.54418114e-01, 7.93668443e-02, 3.06517077e-01, 2.45232728e-01,\n",
       "         8.38264394e-01, 6.35393447e-02, 1.30434835e-01, 6.77594287e-01,\n",
       "         7.31226836e-01, 1.07364919e-01, 1.79314666e-01, 2.05735150e-01,\n",
       "         5.39498140e-01, 1.97303057e-02, 2.69359770e-01, 1.60879897e-01,\n",
       "         5.12225255e-01, 7.06622049e-01, 9.52339955e-01, 3.20191794e-02,\n",
       "         1.15579954e-01, 2.11965925e-01, 1.18913805e-01, 3.85154468e-01,\n",
       "         1.11607604e-01, 5.53405882e-01, 2.68006803e-01, 6.55020348e-02,\n",
       "         6.41961822e-01, 9.98282309e-01, 9.74301181e-01, 8.51416428e-01,\n",
       "         8.81084656e-01, 8.47439119e-01, 3.40459071e-01, 1.31103614e-02,\n",
       "         2.58847322e-01, 3.79126770e-01, 2.01561238e-01, 3.84036450e-01,\n",
       "         4.47410315e-01, 4.30713803e-02, 8.38545075e-02, 4.09710172e-02,\n",
       "         3.70205341e-01, 3.59844224e-01, 3.24988438e-01, 3.74272818e-01,\n",
       "         1.10447768e-01, 2.91680773e-01, 7.51998425e-01, 5.73940094e-01,\n",
       "         6.91432147e-01, 3.23199277e-02, 4.18809126e-01, 1.06017899e-01,\n",
       "         1.36937183e-01, 2.27854273e-01, 9.15852222e-01, 2.90069656e-01,\n",
       "         4.79259879e-01, 5.84999049e-01, 5.76430000e-01, 6.23536989e-01,\n",
       "         6.81147071e-01, 2.87396030e-01, 2.61226212e-01, 2.18592435e-01,\n",
       "         4.00779355e-01, 2.43912585e-03, 4.93327674e-01, 7.40644593e-01,\n",
       "         7.31765885e-01, 6.40969667e-01, 6.24191938e-03, 3.61774282e-01,\n",
       "         5.65269690e-01, 1.48186653e-01, 4.06052551e-01, 8.15934227e-01,\n",
       "         9.47213495e-01, 5.35463445e-01, 4.78299853e-01, 7.15441378e-01,\n",
       "         3.60954834e-01, 2.35952026e-01, 5.35219635e-02, 7.67480643e-02,\n",
       "         2.82800293e-01, 5.75923898e-01, 3.35532569e-01, 4.17009755e-01,\n",
       "         9.54618683e-01, 7.24674577e-01, 2.22968595e-01, 8.88818951e-01,\n",
       "         4.22521690e-01, 9.79999506e-01, 8.19902543e-01, 1.79282075e-01,\n",
       "         3.65427278e-01, 6.26084953e-01, 5.12458275e-01, 2.12708436e-01,\n",
       "         3.26399079e-01, 6.69478025e-01, 8.13730818e-01, 1.52996827e-01,\n",
       "         7.96241437e-01, 5.31680937e-01, 4.71939651e-01, 9.01465634e-01,\n",
       "         3.21734239e-01, 2.92070806e-01, 6.12275373e-01, 7.75577094e-01,\n",
       "         3.08173097e-01, 6.18459664e-01, 1.21406204e-01, 7.68056566e-01,\n",
       "         7.39236807e-02, 7.16969811e-01, 5.21475135e-01, 5.71744006e-01,\n",
       "         1.31038331e-01, 7.93671633e-01, 1.87917838e-01, 3.37785391e-01,\n",
       "         6.55515712e-01, 4.49789018e-01, 8.29023155e-01, 9.51080804e-01,\n",
       "         9.38421793e-01, 3.18546759e-02, 3.86482106e-01, 8.10251062e-01,\n",
       "         8.35067696e-01, 8.48939374e-01, 6.95816951e-02, 7.73053988e-01,\n",
       "         9.48807569e-01, 8.70464854e-01, 6.24475598e-01, 5.62376412e-02,\n",
       "         6.78656506e-01, 7.90066200e-01, 2.92815972e-02, 7.89629427e-01,\n",
       "         1.19577346e-01, 9.61667330e-01, 1.60678604e-01, 9.48972477e-01,\n",
       "         3.53803777e-01, 5.27510580e-01, 9.89037023e-01, 4.33334620e-01,\n",
       "         5.36276660e-01, 9.10328998e-01, 9.65094626e-01, 3.79588313e-01,\n",
       "         2.13946314e-01, 2.40715596e-01, 1.76764646e-01, 6.41232738e-01,\n",
       "         1.19353423e-01, 9.94902010e-01, 1.10703720e-01, 9.95077584e-01,\n",
       "         5.37965726e-01, 4.73714542e-01, 8.13988404e-01, 8.55047276e-01,\n",
       "         5.78089646e-02, 4.85082920e-01, 6.12282079e-01, 9.32019605e-01,\n",
       "         2.48688313e-01, 5.83555343e-01, 3.51517086e-01, 9.35645815e-01,\n",
       "         3.68732212e-01, 1.46364511e-01, 6.72453408e-01, 6.83519490e-01,\n",
       "         4.25965970e-01, 9.30622499e-01, 2.26452381e-01, 2.41696695e-01,\n",
       "         1.58833621e-01, 3.27776771e-01, 4.69583519e-01, 9.74820937e-01,\n",
       "         2.74421910e-01, 8.77663689e-01, 9.97261160e-01, 4.27134823e-01,\n",
       "         2.58112935e-01, 6.68862057e-01, 6.51579624e-01, 3.31633602e-01,\n",
       "         1.75912716e-01, 4.43153987e-01, 9.11299622e-01, 1.82829394e-01,\n",
       "         4.85563738e-01, 5.40379451e-01, 7.10665663e-01, 2.72843108e-01,\n",
       "         5.27129437e-01, 2.23298576e-01, 3.37881470e-01, 2.58327063e-01,\n",
       "         1.20913665e-01, 4.33337916e-01, 3.46268562e-01, 6.36102523e-01,\n",
       "         6.10237955e-01, 2.16630618e-01, 2.47579020e-01, 2.04373897e-02,\n",
       "         9.17358599e-01, 1.61520837e-01, 8.29085053e-01, 6.23009522e-01,\n",
       "         2.08754656e-01, 9.95816847e-01, 5.60094648e-01, 3.10346382e-01,\n",
       "         2.14037772e-01, 2.98767286e-01, 3.51855862e-01, 6.82024842e-01,\n",
       "         7.28799669e-01, 4.98063608e-02, 7.78133803e-01, 4.62572551e-01,\n",
       "         8.11434381e-01, 3.35348830e-01, 9.61855089e-02, 8.71448965e-01,\n",
       "         9.44510638e-01, 6.86451645e-01, 9.60393976e-01, 1.92835116e-01,\n",
       "         8.74130015e-01, 7.90565794e-01, 9.02720527e-02, 9.48806311e-02,\n",
       "         8.09587480e-01, 9.58944409e-01, 8.59425534e-01, 4.01478592e-01,\n",
       "         2.01194194e-01, 9.61392527e-01, 3.69320661e-02, 2.29363839e-01,\n",
       "         5.29242943e-01, 7.19274337e-01, 9.60202331e-01, 6.02040947e-01,\n",
       "         4.23857444e-01, 4.73430235e-01, 3.39532087e-01, 1.32456862e-01,\n",
       "         4.92012285e-01, 1.19433559e-01, 8.22146580e-01, 4.46510485e-01,\n",
       "         8.10003278e-02, 9.57038094e-01, 5.69939813e-01, 9.16091387e-01,\n",
       "         8.69623706e-01, 3.35007130e-01, 2.01735540e-01, 9.62844931e-01,\n",
       "         7.35534581e-01, 9.73595897e-01, 2.87879687e-01, 9.12053077e-01,\n",
       "         6.90761479e-02, 8.04938220e-01, 1.87457773e-01, 6.48080389e-01,\n",
       "         9.37008105e-01, 4.97135441e-01, 5.40152619e-01, 4.39638863e-01,\n",
       "         6.69982742e-01, 8.35319646e-01, 1.97078078e-01, 5.35853874e-01,\n",
       "         4.18393278e-01, 1.45229898e-01, 3.20396499e-01, 8.61651296e-01,\n",
       "         7.53469514e-01, 6.09702597e-01, 8.40002765e-01, 1.50757181e-01,\n",
       "         4.32263887e-01, 1.63849090e-01, 8.27503061e-01, 9.60555210e-01,\n",
       "         5.24601040e-01, 6.81600316e-01, 3.23373300e-01, 5.79768199e-01,\n",
       "         9.88770686e-01, 3.41754336e-01, 1.61565564e-02, 4.54440528e-01,\n",
       "         5.85894368e-02, 1.96582951e-01, 7.91442683e-01, 7.28870766e-01,\n",
       "         8.77803561e-01, 8.76729055e-01, 8.61137638e-01, 4.69640765e-02,\n",
       "         1.63146964e-01, 8.44592553e-01, 1.05084023e-01, 6.11175103e-01,\n",
       "         7.99805247e-01, 7.83123981e-01, 7.05960156e-01, 1.31315315e-01,\n",
       "         4.91665359e-01, 5.44097295e-01, 1.10647846e-01, 4.47608211e-01,\n",
       "         4.94802016e-01, 1.11407454e-01, 8.60716163e-01, 3.32465962e-01,\n",
       "         7.96610480e-01, 5.98773786e-02, 7.28699402e-01, 9.70110833e-01,\n",
       "         9.18756454e-01, 2.93134509e-01, 7.83552825e-01, 9.69987649e-01,\n",
       "         7.77347053e-01]))]"
      ]
     },
     "execution_count": 20,
     "metadata": {},
     "output_type": "execute_result"
    }
   ],
   "source": [
    "expand_setpoints_helper(a.spectrum)"
   ]
  },
  {
   "cell_type": "code",
   "execution_count": 21,
   "metadata": {},
   "outputs": [
    {
     "name": "stdout",
     "output_type": "stream",
     "text": [
      "Starting experimental run with id: 2. \n"
     ]
    }
   ],
   "source": [
    "meas = Measurement()\n",
    "meas.register_parameter(a.spectrum)\n",
    "\n",
    "with meas.run() as datasaver:\n",
    "    datasaver.add_result(*expand_setpoints_helper(a.spectrum))\n",
    "    \n",
    "    dataid = datasaver.run_id"
   ]
  },
  {
   "cell_type": "code",
   "execution_count": null,
   "metadata": {},
   "outputs": [],
   "source": []
  }
 ],
 "metadata": {
  "kernelspec": {
   "display_name": "Python 3",
   "language": "python",
   "name": "python3"
  },
  "language_info": {
   "codemirror_mode": {
    "name": "ipython",
    "version": 3
   },
   "file_extension": ".py",
   "mimetype": "text/x-python",
   "name": "python",
   "nbconvert_exporter": "python",
   "pygments_lexer": "ipython3",
   "version": "3.7.7"
  },
  "toc": {
   "base_numbering": 1,
   "nav_menu": {},
   "number_sections": true,
   "sideBar": true,
   "skip_h1_title": false,
   "title_cell": "Table of Contents",
   "title_sidebar": "Contents",
   "toc_cell": false,
   "toc_position": {},
   "toc_section_display": true,
   "toc_window_display": false
  },
  "varInspector": {
   "cols": {
    "lenName": 16,
    "lenType": 16,
    "lenVar": 40
   },
   "kernels_config": {
    "python": {
     "delete_cmd_postfix": "",
     "delete_cmd_prefix": "del ",
     "library": "var_list.py",
     "varRefreshCmd": "print(var_dic_list())"
    },
    "r": {
     "delete_cmd_postfix": ") ",
     "delete_cmd_prefix": "rm(",
     "library": "var_list.r",
     "varRefreshCmd": "cat(var_dic_list()) "
    }
   },
   "types_to_exclude": [
    "module",
    "function",
    "builtin_function_or_method",
    "instance",
    "_Feature"
   ],
   "window_display": false
  }
 },
 "nbformat": 4,
 "nbformat_minor": 2
}
