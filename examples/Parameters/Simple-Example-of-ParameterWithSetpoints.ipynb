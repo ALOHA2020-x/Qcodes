{
 "cells": [
  {
   "cell_type": "markdown",
   "execution_count": 1,
   "metadata": {},
   "source": [
    "# Simple Example of ParameterWithSetpoints\n",
    "This notebook provides an example for writing a simple driver with a parameter that has setpoints. Let's name this parameter that has setpoints as \"y\". Then, the setpoints, say \"x1, x2, x3 ..\", are the parameters on which the parameter \n",
    "\"y\" depends upon. Meaning \"y\" is a function of \"x1, x2, x3 ...\" where \"x1, x2, x3 ...\" are known as the setpoints of parameter \"y\".\n",
    "\n",
    "This is most likely to be useful for instruments that return arrays of results. In this notebook, we will show an example of this."
   ]
  },
  {
   "cell_type": "code",
   "execution_count": 1,
   "metadata": {
    "execution": {
     "iopub.execute_input": "2020-09-15T17:19:03.517019Z",
     "iopub.status.busy": "2020-09-15T17:19:03.516172Z",
     "iopub.status.idle": "2020-09-15T17:19:03.613457Z",
     "shell.execute_reply": "2020-09-15T17:19:03.612469Z"
    }
   },
   "outputs": [],
   "source": [
    "import numpy as np\n",
    "import os"
   ]
  },
  {
   "cell_type": "code",
   "execution_count": 2,
   "metadata": {
    "execution": {
     "iopub.execute_input": "2020-09-15T17:19:03.618729Z",
     "iopub.status.busy": "2020-09-15T17:19:03.617834Z",
     "iopub.status.idle": "2020-09-15T17:19:04.692429Z",
     "shell.execute_reply": "2020-09-15T17:19:04.691521Z"
    }
   },
   "outputs": [
    {
     "name": "stdout",
     "output_type": "stream",
     "text": [
      "Logging hadn't been started.\n",
      "Activating auto-logging. Current session state plus future input saved.\n",
      "Filename       : /home/vsts/.qcodes/logs/command_history.log\n",
      "Mode           : append\n",
      "Output logging : True\n",
      "Raw input log  : False\n",
      "Timestamping   : True\n",
      "State          : active\n"
     ]
    },
    {
     "name": "stdout",
     "output_type": "stream",
     "text": [
      "Qcodes Logfile : /home/vsts/.qcodes/logs/200915-21593-qcodes.log\n"
     ]
    }
   ],
   "source": [
    "from qcodes.dataset.plotting import plot_dataset\n",
    "from qcodes.utils.validators import Numbers, Arrays\n",
    "from qcodes.instrument.base import Instrument\n",
    "from qcodes.dataset.measurements import Measurement"
   ]
  },
  {
   "cell_type": "code",
   "execution_count": 3,
   "metadata": {
    "execution": {
     "iopub.execute_input": "2020-09-15T17:19:04.696536Z",
     "iopub.status.busy": "2020-09-15T17:19:04.696008Z",
     "iopub.status.idle": "2020-09-15T17:19:04.699223Z",
     "shell.execute_reply": "2020-09-15T17:19:04.699636Z"
    }
   },
   "outputs": [],
   "source": [
    "from qcodes.dataset.sqlite.database import initialise_or_create_database_at\n",
    "from qcodes.dataset.experiment_container import load_or_create_experiment"
   ]
  },
  {
   "cell_type": "code",
   "execution_count": 4,
   "metadata": {
    "execution": {
     "iopub.execute_input": "2020-09-15T17:19:04.703389Z",
     "iopub.status.busy": "2020-09-15T17:19:04.702887Z",
     "iopub.status.idle": "2020-09-15T17:19:04.706203Z",
     "shell.execute_reply": "2020-09-15T17:19:04.705720Z"
    }
   },
   "outputs": [],
   "source": [
    "from qcodes.instrument.parameter import ParameterWithSetpoints, Parameter\n",
    "from qcodes.instrument.parameter import expand_setpoints_helper"
   ]
  },
  {
   "cell_type": "markdown",
   "execution_count": 5,
   "metadata": {},
   "source": [
    "First, we define a dummy instrument that returns something like a frequency spectrum starting from a frequency given by `f_start` to a frequency given by `f_stop` in `n_points` steps. \n",
    "\n",
    "The extra functionality of the `ParameterWithSetpoints` is implemented by giving it a reference to one or more parameters that acts like its setpoints. \n",
    "\n",
    "To setup a `ParameterWithSetpoints` we have to do two things in addition to what we do for a normal parameter.\n",
    "\n",
    "* Define one or more parameter for the setpoints (one for each dimension of the array and let the `ParameterWithSetpoints` know that these are the setpoints.\n",
    "* Give both the setpoints parameter(s) and the `ParameterWithSetpoints` a `validator` of type `Arrays` with a shape. The shapes should be such that the combined shape of the setpoints matches the shape of the `ParameterWithSetpoints`. Note that if the shape changes with the setting of the instrument, it can be defined by another parameter as shown below. "
   ]
  },
  {
   "cell_type": "code",
   "execution_count": 5,
   "metadata": {
    "execution": {
     "iopub.execute_input": "2020-09-15T17:19:04.716808Z",
     "iopub.status.busy": "2020-09-15T17:19:04.716299Z",
     "iopub.status.idle": "2020-09-15T17:19:04.719707Z",
     "shell.execute_reply": "2020-09-15T17:19:04.719255Z"
    }
   },
   "outputs": [],
   "source": [
    "class GeneratedSetPoints(Parameter):\n",
    "    \"\"\"\n",
    "    A parameter that generates a setpoint array from start, stop and num points\n",
    "    parameters.\n",
    "    \"\"\"\n",
    "    def __init__(self, startparam, stopparam, numpointsparam, *args, **kwargs):\n",
    "        super().__init__(*args, **kwargs)\n",
    "        self._startparam = startparam\n",
    "        self._stopparam = stopparam\n",
    "        self._numpointsparam = numpointsparam\n",
    "\n",
    "    def get_raw(self):\n",
    "        return np.linspace(self._startparam(), self._stopparam(),\n",
    "                              self._numpointsparam())\n",
    "\n",
    "class DummyArray(ParameterWithSetpoints):\n",
    "    \n",
    "    def get_raw(self):\n",
    "        npoints = self.root_instrument.n_points.get_latest()\n",
    "        return np.random.rand(npoints)\n",
    "    \n",
    "\n",
    "class DummySpectrumAnalyzer(Instrument):\n",
    "    \n",
    "    def __init__(self, name, **kwargs):\n",
    "        \n",
    "        super().__init__(name, **kwargs)\n",
    "            \n",
    "\n",
    "        self.add_parameter('f_start',\n",
    "                           initial_value=0,\n",
    "                           unit='Hz',\n",
    "                           label='f start',\n",
    "                           vals=Numbers(0,1e3),\n",
    "                           get_cmd=None,\n",
    "                           set_cmd=None)\n",
    "\n",
    "        self.add_parameter('f_stop',\n",
    "                           unit='Hz',\n",
    "                           label='f stop',\n",
    "                           vals=Numbers(1,1e3),\n",
    "                           get_cmd=None,\n",
    "                           set_cmd=None)\n",
    "\n",
    "        self.add_parameter('n_points',\n",
    "                           unit='',\n",
    "                           initial_value=10,\n",
    "                           vals=Numbers(1,1e3),\n",
    "                           get_cmd=None,\n",
    "                           set_cmd=None)\n",
    "        \n",
    "        self.add_parameter('freq_axis',\n",
    "                           unit='Hz',\n",
    "                           label='Freq Axis',\n",
    "                           parameter_class=GeneratedSetPoints,\n",
    "                           startparam=self.f_start,\n",
    "                           stopparam=self.f_stop,\n",
    "                           numpointsparam=self.n_points,\n",
    "                           vals=Arrays(shape=(self.n_points.get_latest,)))\n",
    "                           \n",
    "        self.add_parameter('spectrum',\n",
    "                   unit='dBm',\n",
    "                   setpoints=(self.freq_axis,),\n",
    "                   label='Spectrum',\n",
    "                   parameter_class=DummyArray,\n",
    "                   vals=Arrays(shape=(self.n_points.get_latest,)))\n",
    "                "
   ]
  },
  {
   "cell_type": "markdown",
   "execution_count": 6,
   "metadata": {},
   "source": [
    "In the above example, the shape is defined by the parameter `n_points` that defines how many samples our `DummySpectrumAnalyzer` returns.\n",
    "\n",
    "This means that the validation will call the function to get `n_points` twice for each `get` of the parameter. This may be too slow, however, if you (as the driver-writer) can guarantee that the cached value for `n_points` will never be out of sync with the value stored in the instrument, `n_points` may be replaced by it's latest known value such that the `validator` reads:\n",
    "```python\n",
    "vals=Arrays(shape=(self.n_points.get_latest))\n",
    "```\n",
    "\n",
    "This avoids any additional call to the instrument. In the same way, the arguments to the `freq_axis` parameter that defines the start, stop and number of points can be replaced by their latest value if the instrument allows it.\n",
    "\n"
   ]
  },
  {
   "cell_type": "code",
   "execution_count": 6,
   "metadata": {
    "execution": {
     "iopub.execute_input": "2020-09-15T17:19:04.723579Z",
     "iopub.status.busy": "2020-09-15T17:19:04.722872Z",
     "iopub.status.idle": "2020-09-15T17:19:04.845924Z",
     "shell.execute_reply": "2020-09-15T17:19:04.845443Z"
    }
   },
   "outputs": [
    {
     "name": "stdout",
     "output_type": "stream",
     "text": [
      "\r",
      "0it [00:00, ?it/s]"
     ]
    },
    {
     "name": "stdout",
     "output_type": "stream",
     "text": [
      "\r",
      "Upgrading database; v0 -> v1: : 0it [00:00, ?it/s]"
     ]
    },
    {
     "name": "stdout",
     "output_type": "stream",
     "text": [
      "\r",
      "Upgrading database; v0 -> v1: : 0it [00:00, ?it/s]"
     ]
    },
    {
     "name": "stdout",
     "output_type": "stream",
     "text": [
      "\n",
      "\r",
      "  0%|          | 0/1 [00:00<?, ?it/s]"
     ]
    },
    {
     "name": "stdout",
     "output_type": "stream",
     "text": [
      "\r",
      "Upgrading database; v1 -> v2:   0%|          | 0/1 [00:00<?, ?it/s]"
     ]
    },
    {
     "name": "stdout",
     "output_type": "stream",
     "text": [
      "\r",
      "Upgrading database; v1 -> v2: 100%|██████████| 1/1 [00:00<00:00, 194.30it/s]"
     ]
    },
    {
     "name": "stdout",
     "output_type": "stream",
     "text": [
      "\n",
      "\r",
      "0it [00:00, ?it/s]"
     ]
    },
    {
     "name": "stdout",
     "output_type": "stream",
     "text": [
      "\r",
      "Upgrading database; v2 -> v3: : 0it [00:00, ?it/s]"
     ]
    },
    {
     "name": "stdout",
     "output_type": "stream",
     "text": [
      "\r",
      "Upgrading database; v2 -> v3: : 0it [00:00, ?it/s]"
     ]
    },
    {
     "name": "stdout",
     "output_type": "stream",
     "text": [
      "\n",
      "\r",
      "0it [00:00, ?it/s]"
     ]
    },
    {
     "name": "stdout",
     "output_type": "stream",
     "text": [
      "\r",
      "Upgrading database; v3 -> v4: : 0it [00:00, ?it/s]"
     ]
    },
    {
     "name": "stdout",
     "output_type": "stream",
     "text": [
      "\r",
      "Upgrading database; v3 -> v4: : 0it [00:00, ?it/s]"
     ]
    },
    {
     "name": "stdout",
     "output_type": "stream",
     "text": [
      "\n",
      "\r",
      "  0%|          | 0/1 [00:00<?, ?it/s]"
     ]
    },
    {
     "name": "stdout",
     "output_type": "stream",
     "text": [
      "\r",
      "Upgrading database; v4 -> v5:   0%|          | 0/1 [00:00<?, ?it/s]"
     ]
    },
    {
     "name": "stdout",
     "output_type": "stream",
     "text": [
      "\r",
      "Upgrading database; v4 -> v5: 100%|██████████| 1/1 [00:00<00:00, 771.01it/s]"
     ]
    },
    {
     "name": "stdout",
     "output_type": "stream",
     "text": [
      "\n",
      "\r",
      "0it [00:00, ?it/s]"
     ]
    },
    {
     "name": "stdout",
     "output_type": "stream",
     "text": [
      "\r",
      "Upgrading database; v5 -> v6: : 0it [00:00, ?it/s]"
     ]
    },
    {
     "name": "stdout",
     "output_type": "stream",
     "text": [
      "\r",
      "Upgrading database; v5 -> v6: : 0it [00:00, ?it/s]"
     ]
    },
    {
     "name": "stdout",
     "output_type": "stream",
     "text": [
      "\n",
      "\r",
      "  0%|          | 0/1 [00:00<?, ?it/s]"
     ]
    },
    {
     "name": "stdout",
     "output_type": "stream",
     "text": [
      "\r",
      "Upgrading database; v6 -> v7:   0%|          | 0/1 [00:00<?, ?it/s]"
     ]
    },
    {
     "name": "stdout",
     "output_type": "stream",
     "text": [
      "\r",
      "Upgrading database; v6 -> v7: 100%|██████████| 1/1 [00:00<00:00, 226.54it/s]"
     ]
    },
    {
     "name": "stdout",
     "output_type": "stream",
     "text": [
      "\n",
      "\r",
      "  0%|          | 0/1 [00:00<?, ?it/s]"
     ]
    },
    {
     "name": "stdout",
     "output_type": "stream",
     "text": [
      "\r",
      "Upgrading database; v7 -> v8:   0%|          | 0/1 [00:00<?, ?it/s]"
     ]
    },
    {
     "name": "stdout",
     "output_type": "stream",
     "text": [
      "\r",
      "Upgrading database; v7 -> v8: 100%|██████████| 1/1 [00:00<00:00, 748.58it/s]"
     ]
    },
    {
     "name": "stdout",
     "output_type": "stream",
     "text": [
      "\n",
      "\r",
      "  0%|          | 0/1 [00:00<?, ?it/s]"
     ]
    },
    {
     "name": "stdout",
     "output_type": "stream",
     "text": [
      "\r",
      "Upgrading database; v8 -> v9:   0%|          | 0/1 [00:00<?, ?it/s]"
     ]
    },
    {
     "name": "stdout",
     "output_type": "stream",
     "text": [
      "\r",
      "Upgrading database; v8 -> v9: 100%|██████████| 1/1 [00:00<00:00, 651.80it/s]"
     ]
    },
    {
     "name": "stdout",
     "output_type": "stream",
     "text": [
      "\n"
     ]
    },
    {
     "data": {
      "text/plain": [
       "tutorial_ParameterWithSetpoints#no sample#1@/home/vsts/work/1/s/docs/examples/Parameters/tutorial_paramter_with_setpoints.db\n",
       "----------------------------------------------------------------------------------------------------------------------------"
      ]
     },
     "execution_count": 1,
     "metadata": {},
     "output_type": "execute_result"
    }
   ],
   "source": [
    "tutorial_db_path = os.path.join(os.getcwd(), 'tutorial_paramter_with_setpoints.db')\n",
    "initialise_or_create_database_at(tutorial_db_path)\n",
    "load_or_create_experiment(experiment_name='tutorial_ParameterWithSetpoints', sample_name=\"no sample\")"
   ]
  },
  {
   "cell_type": "code",
   "execution_count": 7,
   "metadata": {
    "execution": {
     "iopub.execute_input": "2020-09-15T17:19:04.850633Z",
     "iopub.status.busy": "2020-09-15T17:19:04.850121Z",
     "iopub.status.idle": "2020-09-15T17:19:04.853787Z",
     "shell.execute_reply": "2020-09-15T17:19:04.853091Z"
    }
   },
   "outputs": [],
   "source": [
    "a = DummySpectrumAnalyzer('foobar')"
   ]
  },
  {
   "cell_type": "markdown",
   "execution_count": 8,
   "metadata": {},
   "source": [
    "First we setup the limits of the spectrum"
   ]
  },
  {
   "cell_type": "code",
   "execution_count": 8,
   "metadata": {
    "execution": {
     "iopub.execute_input": "2020-09-15T17:19:04.857773Z",
     "iopub.status.busy": "2020-09-15T17:19:04.857277Z",
     "iopub.status.idle": "2020-09-15T17:19:04.862418Z",
     "shell.execute_reply": "2020-09-15T17:19:04.861998Z"
    }
   },
   "outputs": [],
   "source": [
    "a.f_start(0)\n",
    "a.f_stop(500)\n",
    "a.n_points(501)"
   ]
  },
  {
   "cell_type": "markdown",
   "execution_count": 9,
   "metadata": {},
   "source": [
    "And we can grab the frequency axis"
   ]
  },
  {
   "cell_type": "code",
   "execution_count": 9,
   "metadata": {
    "execution": {
     "iopub.execute_input": "2020-09-15T17:19:04.865528Z",
     "iopub.status.busy": "2020-09-15T17:19:04.864777Z",
     "iopub.status.idle": "2020-09-15T17:19:04.868385Z",
     "shell.execute_reply": "2020-09-15T17:19:04.867945Z"
    }
   },
   "outputs": [
    {
     "data": {
      "text/plain": [
       "501"
      ]
     },
     "execution_count": 1,
     "metadata": {},
     "output_type": "execute_result"
    }
   ],
   "source": [
    "a.n_points()"
   ]
  },
  {
   "cell_type": "code",
   "execution_count": 10,
   "metadata": {
    "execution": {
     "iopub.execute_input": "2020-09-15T17:19:04.873636Z",
     "iopub.status.busy": "2020-09-15T17:19:04.871775Z",
     "iopub.status.idle": "2020-09-15T17:19:04.875969Z",
     "shell.execute_reply": "2020-09-15T17:19:04.876841Z"
    },
    "scrolled": false
   },
   "outputs": [
    {
     "data": {
      "text/plain": [
       "501"
      ]
     },
     "execution_count": 1,
     "metadata": {},
     "output_type": "execute_result"
    }
   ],
   "source": [
    "freq_axis = a.freq_axis()\n",
    "len(freq_axis)"
   ]
  },
  {
   "cell_type": "code",
   "execution_count": 11,
   "metadata": {
    "execution": {
     "iopub.execute_input": "2020-09-15T17:19:04.881113Z",
     "iopub.status.busy": "2020-09-15T17:19:04.880541Z",
     "iopub.status.idle": "2020-09-15T17:19:04.883918Z",
     "shell.execute_reply": "2020-09-15T17:19:04.883393Z"
    }
   },
   "outputs": [
    {
     "data": {
      "text/plain": [
       "array([0., 1., 2., 3., 4., 5., 6., 7., 8., 9.])"
      ]
     },
     "execution_count": 1,
     "metadata": {},
     "output_type": "execute_result"
    }
   ],
   "source": [
    "freq_axis[:10]"
   ]
  },
  {
   "cell_type": "markdown",
   "execution_count": 12,
   "metadata": {},
   "source": [
    "As expected we get a result wit 501 points as we asked for an axis with 501 points. "
   ]
  },
  {
   "cell_type": "markdown",
   "execution_count": 12,
   "metadata": {},
   "source": [
    "Above we have added a validator to the `freq_axis` parameter encoding the fact that this is an Array with `n_points`. Note that we do not have to supply the number of points as an integer but can supply a function that returns the valid number of points. This would normally be a QCoDeS parameter.\n",
    "\n",
    "This will be checked if we validate the output."
   ]
  },
  {
   "cell_type": "code",
   "execution_count": 12,
   "metadata": {
    "execution": {
     "iopub.execute_input": "2020-09-15T17:19:04.887782Z",
     "iopub.status.busy": "2020-09-15T17:19:04.887282Z",
     "iopub.status.idle": "2020-09-15T17:19:04.890524Z",
     "shell.execute_reply": "2020-09-15T17:19:04.889962Z"
    }
   },
   "outputs": [],
   "source": [
    "a.freq_axis.validate(a.freq_axis.get())"
   ]
  },
  {
   "cell_type": "markdown",
   "execution_count": 13,
   "metadata": {},
   "source": [
    "Naturally, we can also get the spectrum. Getting the spectrum will automatically perform validation both for the shape of the parameter itself and the relation to the setpoint parameter(s)"
   ]
  },
  {
   "cell_type": "code",
   "execution_count": 13,
   "metadata": {
    "execution": {
     "iopub.execute_input": "2020-09-15T17:19:04.894847Z",
     "iopub.status.busy": "2020-09-15T17:19:04.893855Z",
     "iopub.status.idle": "2020-09-15T17:19:04.896485Z",
     "shell.execute_reply": "2020-09-15T17:19:04.896979Z"
    },
    "scrolled": true
   },
   "outputs": [
    {
     "data": {
      "text/plain": [
       "501"
      ]
     },
     "execution_count": 1,
     "metadata": {},
     "output_type": "execute_result"
    }
   ],
   "source": [
    "spectrum = a.spectrum.get()\n",
    "len(spectrum)"
   ]
  },
  {
   "cell_type": "markdown",
   "execution_count": 14,
   "metadata": {},
   "source": [
    "When we validate a `ParameterWithSetpoints`, we automatically validate that the shape is consistent between the parameters and its setpoints. As well as validating the shape as above."
   ]
  },
  {
   "cell_type": "code",
   "execution_count": 14,
   "metadata": {
    "execution": {
     "iopub.execute_input": "2020-09-15T17:19:04.901454Z",
     "iopub.status.busy": "2020-09-15T17:19:04.900338Z",
     "iopub.status.idle": "2020-09-15T17:19:04.902256Z",
     "shell.execute_reply": "2020-09-15T17:19:04.902758Z"
    }
   },
   "outputs": [],
   "source": [
    "a.spectrum.validate(a.spectrum.get())"
   ]
  },
  {
   "cell_type": "markdown",
   "execution_count": 15,
   "metadata": {},
   "source": [
    "The consistent shapes can be validated explicitly."
   ]
  },
  {
   "cell_type": "code",
   "execution_count": 15,
   "metadata": {
    "execution": {
     "iopub.execute_input": "2020-09-15T17:19:04.906258Z",
     "iopub.status.busy": "2020-09-15T17:19:04.905698Z",
     "iopub.status.idle": "2020-09-15T17:19:04.908541Z",
     "shell.execute_reply": "2020-09-15T17:19:04.907932Z"
    }
   },
   "outputs": [],
   "source": [
    "a.spectrum.validate_consistent_shape()"
   ]
  },
  {
   "cell_type": "markdown",
   "execution_count": 16,
   "metadata": {},
   "source": [
    "We can inspect the setpoints of the spectrum."
   ]
  },
  {
   "cell_type": "code",
   "execution_count": 16,
   "metadata": {
    "execution": {
     "iopub.execute_input": "2020-09-15T17:19:04.912630Z",
     "iopub.status.busy": "2020-09-15T17:19:04.912148Z",
     "iopub.status.idle": "2020-09-15T17:19:04.914404Z",
     "shell.execute_reply": "2020-09-15T17:19:04.914899Z"
    }
   },
   "outputs": [
    {
     "data": {
      "text/plain": [
       "(<__main__.GeneratedSetPoints: freq_axis at 140642112694032>,)"
      ]
     },
     "execution_count": 1,
     "metadata": {},
     "output_type": "execute_result"
    }
   ],
   "source": [
    "a.spectrum.setpoints"
   ]
  },
  {
   "cell_type": "markdown",
   "execution_count": 17,
   "metadata": {},
   "source": [
    "Or even change them."
   ]
  },
  {
   "cell_type": "code",
   "execution_count": 17,
   "metadata": {
    "execution": {
     "iopub.execute_input": "2020-09-15T17:19:04.918985Z",
     "iopub.status.busy": "2020-09-15T17:19:04.917925Z",
     "iopub.status.idle": "2020-09-15T17:19:04.919480Z",
     "shell.execute_reply": "2020-09-15T17:19:04.919944Z"
    }
   },
   "outputs": [],
   "source": [
    "a.spectrum.setpoints = (a.freq_axis,)"
   ]
  },
  {
   "cell_type": "markdown",
   "execution_count": 18,
   "metadata": {},
   "source": [
    "## Measurement"
   ]
  },
  {
   "cell_type": "markdown",
   "execution_count": 18,
   "metadata": {},
   "source": [
    "We can also directly consume the parameter in a measurement without defining the setpoints of the parameter again. The setpoints are automatically obtained from the definition of the `ParameterWithSetpoint` instance. "
   ]
  },
  {
   "cell_type": "code",
   "execution_count": 18,
   "metadata": {
    "execution": {
     "iopub.execute_input": "2020-09-15T17:19:04.924587Z",
     "iopub.status.busy": "2020-09-15T17:19:04.924083Z",
     "iopub.status.idle": "2020-09-15T17:19:04.938780Z",
     "shell.execute_reply": "2020-09-15T17:19:04.938263Z"
    }
   },
   "outputs": [
    {
     "name": "stdout",
     "output_type": "stream",
     "text": [
      "Starting experimental run with id: 1. \n"
     ]
    }
   ],
   "source": [
    "meas = Measurement()\n",
    "meas.register_parameter(a.spectrum)\n",
    "\n",
    "with meas.run() as datasaver:\n",
    "    datasaver.add_result((a.freq_axis, a.freq_axis()),\n",
    "                         (a.spectrum, a.spectrum()))\n",
    "    dataset = datasaver.dataset"
   ]
  },
  {
   "cell_type": "markdown",
   "execution_count": 19,
   "metadata": {},
   "source": [
    "And plot it"
   ]
  },
  {
   "cell_type": "code",
   "execution_count": 19,
   "metadata": {
    "execution": {
     "iopub.execute_input": "2020-09-15T17:19:04.941862Z",
     "iopub.status.busy": "2020-09-15T17:19:04.941380Z",
     "iopub.status.idle": "2020-09-15T17:19:05.297403Z",
     "shell.execute_reply": "2020-09-15T17:19:05.296930Z"
    }
   },
   "outputs": [
    {
     "data": {
      "text/plain": [
       "([<matplotlib.axes._subplots.AxesSubplot at 0x7fe9cb39ead0>], [None])"
      ]
     },
     "execution_count": 1,
     "metadata": {},
     "output_type": "execute_result"
    },
    {
     "data": {
      "image/png": "[encoded data removed]",
      "text/plain": [
       "<Figure size 432x288 with 1 Axes>"
      ]
     },
     "metadata": {
      "needs_background": "light"
     },
     "output_type": "display_data"
    }
   ],
   "source": [
    "plot_dataset(dataset)"
   ]
  },
  {
   "cell_type": "markdown",
   "execution_count": 20,
   "metadata": {},
   "source": [
    "To reduce the amount of typing a simple convenience function is provided that will take a `ParameterWithSetpoints` and get both its values and the setpoints values and return them as tuples for direct insertion into the Dataset."
   ]
  },
  {
   "cell_type": "code",
   "execution_count": 20,
   "metadata": {
    "execution": {
     "iopub.execute_input": "2020-09-15T17:19:05.301582Z",
     "iopub.status.busy": "2020-09-15T17:19:05.300768Z",
     "iopub.status.idle": "2020-09-15T17:19:05.316418Z",
     "shell.execute_reply": "2020-09-15T17:19:05.316835Z"
    },
    "scrolled": true
   },
   "outputs": [
    {
     "data": {
      "text/plain": [
       "[(<__main__.GeneratedSetPoints: freq_axis at 140642112694032>,\n",
       "  array([  0.,   1.,   2.,   3.,   4.,   5.,   6.,   7.,   8.,   9.,  10.,\n",
       "          11.,  12.,  13.,  14.,  15.,  16.,  17.,  18.,  19.,  20.,  21.,\n",
       "          22.,  23.,  24.,  25.,  26.,  27.,  28.,  29.,  30.,  31.,  32.,\n",
       "          33.,  34.,  35.,  36.,  37.,  38.,  39.,  40.,  41.,  42.,  43.,\n",
       "          44.,  45.,  46.,  47.,  48.,  49.,  50.,  51.,  52.,  53.,  54.,\n",
       "          55.,  56.,  57.,  58.,  59.,  60.,  61.,  62.,  63.,  64.,  65.,\n",
       "          66.,  67.,  68.,  69.,  70.,  71.,  72.,  73.,  74.,  75.,  76.,\n",
       "          77.,  78.,  79.,  80.,  81.,  82.,  83.,  84.,  85.,  86.,  87.,\n",
       "          88.,  89.,  90.,  91.,  92.,  93.,  94.,  95.,  96.,  97.,  98.,\n",
       "          99., 100., 101., 102., 103., 104., 105., 106., 107., 108., 109.,\n",
       "         110., 111., 112., 113., 114., 115., 116., 117., 118., 119., 120.,\n",
       "         121., 122., 123., 124., 125., 126., 127., 128., 129., 130., 131.,\n",
       "         132., 133., 134., 135., 136., 137., 138., 139., 140., 141., 142.,\n",
       "         143., 144., 145., 146., 147., 148., 149., 150., 151., 152., 153.,\n",
       "         154., 155., 156., 157., 158., 159., 160., 161., 162., 163., 164.,\n",
       "         165., 166., 167., 168., 169., 170., 171., 172., 173., 174., 175.,\n",
       "         176., 177., 178., 179., 180., 181., 182., 183., 184., 185., 186.,\n",
       "         187., 188., 189., 190., 191., 192., 193., 194., 195., 196., 197.,\n",
       "         198., 199., 200., 201., 202., 203., 204., 205., 206., 207., 208.,\n",
       "         209., 210., 211., 212., 213., 214., 215., 216., 217., 218., 219.,\n",
       "         220., 221., 222., 223., 224., 225., 226., 227., 228., 229., 230.,\n",
       "         231., 232., 233., 234., 235., 236., 237., 238., 239., 240., 241.,\n",
       "         242., 243., 244., 245., 246., 247., 248., 249., 250., 251., 252.,\n",
       "         253., 254., 255., 256., 257., 258., 259., 260., 261., 262., 263.,\n",
       "         264., 265., 266., 267., 268., 269., 270., 271., 272., 273., 274.,\n",
       "         275., 276., 277., 278., 279., 280., 281., 282., 283., 284., 285.,\n",
       "         286., 287., 288., 289., 290., 291., 292., 293., 294., 295., 296.,\n",
       "         297., 298., 299., 300., 301., 302., 303., 304., 305., 306., 307.,\n",
       "         308., 309., 310., 311., 312., 313., 314., 315., 316., 317., 318.,\n",
       "         319., 320., 321., 322., 323., 324., 325., 326., 327., 328., 329.,\n",
       "         330., 331., 332., 333., 334., 335., 336., 337., 338., 339., 340.,\n",
       "         341., 342., 343., 344., 345., 346., 347., 348., 349., 350., 351.,\n",
       "         352., 353., 354., 355., 356., 357., 358., 359., 360., 361., 362.,\n",
       "         363., 364., 365., 366., 367., 368., 369., 370., 371., 372., 373.,\n",
       "         374., 375., 376., 377., 378., 379., 380., 381., 382., 383., 384.,\n",
       "         385., 386., 387., 388., 389., 390., 391., 392., 393., 394., 395.,\n",
       "         396., 397., 398., 399., 400., 401., 402., 403., 404., 405., 406.,\n",
       "         407., 408., 409., 410., 411., 412., 413., 414., 415., 416., 417.,\n",
       "         418., 419., 420., 421., 422., 423., 424., 425., 426., 427., 428.,\n",
       "         429., 430., 431., 432., 433., 434., 435., 436., 437., 438., 439.,\n",
       "         440., 441., 442., 443., 444., 445., 446., 447., 448., 449., 450.,\n",
       "         451., 452., 453., 454., 455., 456., 457., 458., 459., 460., 461.,\n",
       "         462., 463., 464., 465., 466., 467., 468., 469., 470., 471., 472.,\n",
       "         473., 474., 475., 476., 477., 478., 479., 480., 481., 482., 483.,\n",
       "         484., 485., 486., 487., 488., 489., 490., 491., 492., 493., 494.,\n",
       "         495., 496., 497., 498., 499., 500.])),\n",
       " (<__main__.DummyArray: spectrum at 140642112694352>,\n",
       "  array([0.84549842, 0.10268337, 0.94668256, 0.26270874, 0.23305073,\n",
       "         0.92734893, 0.46376143, 0.17525619, 0.24440181, 0.81883495,\n",
       "         0.18247861, 0.87664941, 0.52228972, 0.54175662, 0.64098552,\n",
       "         0.2816324 , 0.35859784, 0.89816419, 0.07943181, 0.0165456 ,\n",
       "         0.32095142, 0.66503235, 0.6145232 , 0.20143616, 0.78538155,\n",
       "         0.15047272, 0.03697933, 0.25443573, 0.50618325, 0.09547491,\n",
       "         0.07702953, 0.99673321, 0.7805178 , 0.99762105, 0.5747233 ,\n",
       "         0.48539849, 0.02292105, 0.96424879, 0.82979311, 0.36736121,\n",
       "         0.675445  , 0.47551583, 0.55038856, 0.17905927, 0.58380529,\n",
       "         0.74122993, 0.70277109, 0.56893995, 0.0731192 , 0.27149447,\n",
       "         0.22264651, 0.78857623, 0.62398166, 0.61199027, 0.45260165,\n",
       "         0.28692062, 0.95022751, 0.10797836, 0.44776389, 0.24771149,\n",
       "         0.26473106, 0.96289241, 0.35430812, 0.03601634, 0.83098058,\n",
       "         0.16399243, 0.43891728, 0.36978674, 0.16636384, 0.15261501,\n",
       "         0.51969236, 0.28339445, 0.52376319, 0.35474973, 0.52229432,\n",
       "         0.37299302, 0.99822162, 0.33577061, 0.60043482, 0.62231782,\n",
       "         0.38806317, 0.27569141, 0.11879477, 0.71427427, 0.99459392,\n",
       "         0.26392063, 0.49140862, 0.89088706, 0.52686953, 0.42964798,\n",
       "         0.84118436, 0.83206827, 0.13478538, 0.96553862, 0.81874292,\n",
       "         0.07176551, 0.53218293, 0.61839814, 0.41894711, 0.9874281 ,\n",
       "         0.46579628, 0.27339195, 0.83252024, 0.67135543, 0.97592154,\n",
       "         0.99527144, 0.82581504, 0.67491635, 0.5472417 , 0.592303  ,\n",
       "         0.49145541, 0.4563985 , 0.85853418, 0.38257449, 0.669592  ,\n",
       "         0.49658168, 0.9375062 , 0.25148805, 0.03866279, 0.71328517,\n",
       "         0.26678094, 0.66741912, 0.8124567 , 0.66973264, 0.47371947,\n",
       "         0.22944322, 0.24459506, 0.5874117 , 0.2454365 , 0.64798868,\n",
       "         0.46642797, 0.53059578, 0.90538944, 0.46238895, 0.55692192,\n",
       "         0.1733581 , 0.80078115, 0.80779064, 0.77130167, 0.35784585,\n",
       "         0.40799489, 0.45905506, 0.25910341, 0.68036386, 0.93369885,\n",
       "         0.01499598, 0.00736708, 0.4209992 , 0.28913396, 0.20208093,\n",
       "         0.58570215, 0.72582496, 0.98334365, 0.46736148, 0.39558499,\n",
       "         0.16653412, 0.5180898 , 0.9849767 , 0.62705551, 0.8470001 ,\n",
       "         0.94286499, 0.90504512, 0.53916303, 0.00813576, 0.43652116,\n",
       "         0.62232088, 0.53047962, 0.12589565, 0.18264944, 0.51579357,\n",
       "         0.54397236, 0.58625372, 0.55187023, 0.21451906, 0.92735212,\n",
       "         0.70098749, 0.85666768, 0.68018161, 0.86262281, 0.63146358,\n",
       "         0.16855219, 0.53777951, 0.54561812, 0.47374243, 0.30762578,\n",
       "         0.60380757, 0.6774415 , 0.11343066, 0.01175195, 0.85950112,\n",
       "         0.73972719, 0.45742234, 0.26039549, 0.54501833, 0.0528148 ,\n",
       "         0.60316373, 0.74347745, 0.59034829, 0.60261705, 0.37863396,\n",
       "         0.74984077, 0.43028441, 0.13780711, 0.98123869, 0.35589908,\n",
       "         0.92886576, 0.32898423, 0.665346  , 0.61721482, 0.02711257,\n",
       "         0.10576186, 0.10437913, 0.82828215, 0.84223279, 0.01195485,\n",
       "         0.39894507, 0.19718603, 0.25129203, 0.56227337, 0.8689154 ,\n",
       "         0.75007587, 0.36626552, 0.3404389 , 0.58089266, 0.56640293,\n",
       "         0.1522821 , 0.24592901, 0.58877858, 0.93556544, 0.38539316,\n",
       "         0.18100868, 0.10154605, 0.88612061, 0.41893754, 0.4899396 ,\n",
       "         0.51083525, 0.01676454, 0.07829093, 0.67214892, 0.60917659,\n",
       "         0.77054409, 0.80855839, 0.87561275, 0.48107876, 0.18399551,\n",
       "         0.56472339, 0.48090947, 0.51568857, 0.38494161, 0.43135267,\n",
       "         0.71000739, 0.33202258, 0.26257619, 0.31834945, 0.84202421,\n",
       "         0.27850924, 0.09691625, 0.48988562, 0.54584546, 0.38120663,\n",
       "         0.51482276, 0.50828646, 0.0705095 , 0.99755313, 0.56947291,\n",
       "         0.70388363, 0.28402856, 0.01607293, 0.59400855, 0.74529403,\n",
       "         0.7656826 , 0.32882812, 0.53208019, 0.486668  , 0.08339029,\n",
       "         0.74496301, 0.31284778, 0.5288678 , 0.53193182, 0.15215651,\n",
       "         0.42662113, 0.11744474, 0.3590471 , 0.97796987, 0.3618861 ,\n",
       "         0.25684433, 0.9830077 , 0.76981637, 0.26384669, 0.01894382,\n",
       "         0.83561547, 0.15903799, 0.18866458, 0.36937868, 0.23836836,\n",
       "         0.82750765, 0.44852914, 0.44556274, 0.59457289, 0.43488778,\n",
       "         0.73668804, 0.32447171, 0.10037773, 0.14160845, 0.68563685,\n",
       "         0.63042356, 0.4386873 , 0.6338792 , 0.31919816, 0.86111551,\n",
       "         0.77346225, 0.5522032 , 0.75535295, 0.55230972, 0.44833152,\n",
       "         0.38734936, 0.79871269, 0.18316623, 0.94264628, 0.92662784,\n",
       "         0.65217825, 0.30825936, 0.08770034, 0.70198721, 0.74980172,\n",
       "         0.79361531, 0.61193096, 0.59941586, 0.0447246 , 0.49142846,\n",
       "         0.67322863, 0.46302111, 0.78897514, 0.41791088, 0.53932938,\n",
       "         0.98157401, 0.95167556, 0.11984211, 0.73195194, 0.41021893,\n",
       "         0.21313198, 0.33097027, 0.54358642, 0.637781  , 0.55499289,\n",
       "         0.18839883, 0.149287  , 0.01343824, 0.80141016, 0.45838854,\n",
       "         0.74051896, 0.08999402, 0.57822948, 0.04864477, 0.77342803,\n",
       "         0.50852551, 0.51544554, 0.81060341, 0.76167014, 0.12614184,\n",
       "         0.22550651, 0.78562074, 0.77102408, 0.11545869, 0.85499368,\n",
       "         0.60956515, 0.27636823, 0.82387788, 0.28918175, 0.41116609,\n",
       "         0.59682908, 0.4157269 , 0.51508248, 0.96079195, 0.01242267,\n",
       "         0.7931524 , 0.64631788, 0.55089317, 0.31984694, 0.7382629 ,\n",
       "         0.96213968, 0.04977274, 0.78560217, 0.16879811, 0.15615138,\n",
       "         0.03824474, 0.16638932, 0.7473214 , 0.4954958 , 0.63966621,\n",
       "         0.90959947, 0.80980615, 0.72463513, 0.72714115, 0.41441316,\n",
       "         0.37343657, 0.50622209, 0.98194756, 0.45818746, 0.38746488,\n",
       "         0.8245495 , 0.06240369, 0.99974074, 0.78850695, 0.73655507,\n",
       "         0.61876147, 0.53511237, 0.65222603, 0.6354181 , 0.23625232,\n",
       "         0.26093663, 0.38668337, 0.52777899, 0.82724914, 0.0974415 ,\n",
       "         0.82093959, 0.88066615, 0.86484226, 0.3415005 , 0.92450805,\n",
       "         0.9051567 , 0.56790154, 0.30809349, 0.4564982 , 0.38045681,\n",
       "         0.65211552, 0.11056553, 0.23257237, 0.45334273, 0.65990976,\n",
       "         0.8949173 , 0.25303559, 0.1599206 , 0.5610233 , 0.5866305 ,\n",
       "         0.86621765, 0.20886095, 0.74072958, 0.85103314, 0.62813707,\n",
       "         0.73737763, 0.40974302, 0.02733221, 0.06984295, 0.96673482,\n",
       "         0.72679102, 0.71430483, 0.67633895, 0.94934097, 0.90423232,\n",
       "         0.22499897, 0.03986751, 0.24183541, 0.76580546, 0.47361449,\n",
       "         0.45780972, 0.93189069, 0.56276547, 0.7929192 , 0.17063062,\n",
       "         0.49805616, 0.60779429, 0.77965086, 0.30949457, 0.04303229,\n",
       "         0.05464905, 0.65912298, 0.62946236, 0.40646916, 0.25119086,\n",
       "         0.0948858 , 0.75741753, 0.02365079, 0.80212215, 0.28172763,\n",
       "         0.73702061, 0.573183  , 0.4845033 , 0.45466881, 0.99635322,\n",
       "         0.13043176, 0.16904007, 0.06227802, 0.53144793, 0.34985031,\n",
       "         0.20573764, 0.36200257, 0.0551656 , 0.5937337 , 0.09746245,\n",
       "         0.52917504, 0.57224343, 0.30428225, 0.09263016, 0.37987105,\n",
       "         0.1988725 , 0.71487504, 0.06294503, 0.12131345, 0.92309789,\n",
       "         0.51976898]))]"
      ]
     },
     "execution_count": 1,
     "metadata": {},
     "output_type": "execute_result"
    }
   ],
   "source": [
    "expand_setpoints_helper(a.spectrum)"
   ]
  },
  {
   "cell_type": "code",
   "execution_count": 21,
   "metadata": {
    "execution": {
     "iopub.execute_input": "2020-09-15T17:19:05.321342Z",
     "iopub.status.busy": "2020-09-15T17:19:05.320839Z",
     "iopub.status.idle": "2020-09-15T17:19:05.337524Z",
     "shell.execute_reply": "2020-09-15T17:19:05.337939Z"
    }
   },
   "outputs": [
    {
     "name": "stdout",
     "output_type": "stream",
     "text": [
      "Starting experimental run with id: 2. \n"
     ]
    }
   ],
   "source": [
    "meas = Measurement()\n",
    "meas.register_parameter(a.spectrum)\n",
    "\n",
    "with meas.run() as datasaver:\n",
    "    datasaver.add_result(*expand_setpoints_helper(a.spectrum))\n",
    "    \n",
    "    dataid = datasaver.run_id"
   ]
  },
  {
   "cell_type": "code",
   "execution_count": 22,
   "metadata": {},
   "outputs": [],
   "source": []
  }
 ],
 "metadata": {
  "kernelspec": {
   "display_name": "Python 3",
   "language": "python",
   "name": "python3"
  },
  "language_info": {
   "codemirror_mode": {
    "name": "ipython",
    "version": 3
   },
   "file_extension": ".py",
   "mimetype": "text/x-python",
   "name": "python",
   "nbconvert_exporter": "python",
   "pygments_lexer": "ipython3",
   "version": "3.7.7"
  },
  "toc": {
   "base_numbering": 1,
   "nav_menu": {},
   "number_sections": true,
   "sideBar": true,
   "skip_h1_title": false,
   "title_cell": "Table of Contents",
   "title_sidebar": "Contents",
   "toc_cell": false,
   "toc_position": {},
   "toc_section_display": true,
   "toc_window_display": false
  },
  "varInspector": {
   "cols": {
    "lenName": 16,
    "lenType": 16,
    "lenVar": 40
   },
   "kernels_config": {
    "python": {
     "delete_cmd_postfix": "",
     "delete_cmd_prefix": "del ",
     "library": "var_list.py",
     "varRefreshCmd": "print(var_dic_list())"
    },
    "r": {
     "delete_cmd_postfix": ") ",
     "delete_cmd_prefix": "rm(",
     "library": "var_list.r",
     "varRefreshCmd": "cat(var_dic_list()) "
    }
   },
   "types_to_exclude": [
    "module",
    "function",
    "builtin_function_or_method",
    "instance",
    "_Feature"
   ],
   "window_display": false
  }
 },
 "nbformat": 4,
 "nbformat_minor": 2
}
