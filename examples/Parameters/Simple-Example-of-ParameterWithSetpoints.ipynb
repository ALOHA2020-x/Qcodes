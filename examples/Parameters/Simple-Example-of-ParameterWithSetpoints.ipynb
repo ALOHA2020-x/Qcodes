{
 "cells": [
  {
   "cell_type": "markdown",
   "metadata": {},
   "source": [
    "# Simple Example of ParameterWithSetpoints\n",
    "This notebook provides an example for writing a simple driver with a parameter that has setpoints. Let's name this parameter that has setpoints as \"y\". Then, the setpoints, say \"x1, x2, x3 ..\", are the parameters on which the parameter \n",
    "\"y\" depends upon. Meaning \"y\" is a function of \"x1, x2, x3 ...\" where \"x1, x2, x3 ...\" are known as the setpoints of parameter \"y\".\n",
    "\n",
    "This is most likely to be useful for instruments that return arrays of results. In this notebook, we will show an example of this."
   ]
  },
  {
   "cell_type": "code",
   "execution_count": 1,
   "metadata": {
    "execution": {
     "iopub.execute_input": "2020-09-18T09:19:04.432574Z",
     "iopub.status.busy": "2020-09-18T09:19:04.431997Z",
     "iopub.status.idle": "2020-09-18T09:19:04.538717Z",
     "shell.execute_reply": "2020-09-18T09:19:04.538151Z"
    }
   },
   "outputs": [],
   "source": [
    "import numpy as np\n",
    "import os"
   ]
  },
  {
   "cell_type": "code",
   "execution_count": 2,
   "metadata": {
    "execution": {
     "iopub.execute_input": "2020-09-18T09:19:04.543678Z",
     "iopub.status.busy": "2020-09-18T09:19:04.543095Z",
     "iopub.status.idle": "2020-09-18T09:19:05.781232Z",
     "shell.execute_reply": "2020-09-18T09:19:05.781711Z"
    }
   },
   "outputs": [
    {
     "name": "stdout",
     "output_type": "stream",
     "text": [
      "Logging hadn't been started.\n",
      "Activating auto-logging. Current session state plus future input saved.\n",
      "Filename       : /home/vsts/.qcodes/logs/command_history.log\n",
      "Mode           : append\n",
      "Output logging : True\n",
      "Raw input log  : False\n",
      "Timestamping   : True\n",
      "State          : active\n"
     ]
    },
    {
     "name": "stdout",
     "output_type": "stream",
     "text": [
      "Qcodes Logfile : /home/vsts/.qcodes/logs/200918-21988-qcodes.log\n"
     ]
    }
   ],
   "source": [
    "from qcodes.dataset.plotting import plot_dataset\n",
    "from qcodes.utils.validators import Numbers, Arrays\n",
    "from qcodes.instrument.base import Instrument\n",
    "from qcodes.dataset.measurements import Measurement"
   ]
  },
  {
   "cell_type": "code",
   "execution_count": 3,
   "metadata": {
    "execution": {
     "iopub.execute_input": "2020-09-18T09:19:05.786043Z",
     "iopub.status.busy": "2020-09-18T09:19:05.785464Z",
     "iopub.status.idle": "2020-09-18T09:19:05.789112Z",
     "shell.execute_reply": "2020-09-18T09:19:05.788601Z"
    }
   },
   "outputs": [],
   "source": [
    "from qcodes.dataset.sqlite.database import initialise_or_create_database_at\n",
    "from qcodes.dataset.experiment_container import load_or_create_experiment"
   ]
  },
  {
   "cell_type": "code",
   "execution_count": 4,
   "metadata": {
    "execution": {
     "iopub.execute_input": "2020-09-18T09:19:05.794170Z",
     "iopub.status.busy": "2020-09-18T09:19:05.792782Z",
     "iopub.status.idle": "2020-09-18T09:19:05.794958Z",
     "shell.execute_reply": "2020-09-18T09:19:05.795521Z"
    }
   },
   "outputs": [],
   "source": [
    "from qcodes.instrument.parameter import ParameterWithSetpoints, Parameter\n",
    "from qcodes.instrument.parameter import expand_setpoints_helper"
   ]
  },
  {
   "cell_type": "markdown",
   "metadata": {},
   "source": [
    "First, we define a dummy instrument that returns something like a frequency spectrum starting from a frequency given by `f_start` to a frequency given by `f_stop` in `n_points` steps. \n",
    "\n",
    "The extra functionality of the `ParameterWithSetpoints` is implemented by giving it a reference to one or more parameters that acts like its setpoints. \n",
    "\n",
    "To setup a `ParameterWithSetpoints` we have to do two things in addition to what we do for a normal parameter.\n",
    "\n",
    "* Define one or more parameter for the setpoints (one for each dimension of the array and let the `ParameterWithSetpoints` know that these are the setpoints.\n",
    "* Give both the setpoints parameter(s) and the `ParameterWithSetpoints` a `validator` of type `Arrays` with a shape. The shapes should be such that the combined shape of the setpoints matches the shape of the `ParameterWithSetpoints`. Note that if the shape changes with the setting of the instrument, it can be defined by another parameter as shown below. "
   ]
  },
  {
   "cell_type": "code",
   "execution_count": 5,
   "metadata": {
    "execution": {
     "iopub.execute_input": "2020-09-18T09:19:05.807436Z",
     "iopub.status.busy": "2020-09-18T09:19:05.806791Z",
     "iopub.status.idle": "2020-09-18T09:19:05.808539Z",
     "shell.execute_reply": "2020-09-18T09:19:05.809120Z"
    }
   },
   "outputs": [],
   "source": [
    "class GeneratedSetPoints(Parameter):\n",
    "    \"\"\"\n",
    "    A parameter that generates a setpoint array from start, stop and num points\n",
    "    parameters.\n",
    "    \"\"\"\n",
    "    def __init__(self, startparam, stopparam, numpointsparam, *args, **kwargs):\n",
    "        super().__init__(*args, **kwargs)\n",
    "        self._startparam = startparam\n",
    "        self._stopparam = stopparam\n",
    "        self._numpointsparam = numpointsparam\n",
    "\n",
    "    def get_raw(self):\n",
    "        return np.linspace(self._startparam(), self._stopparam(),\n",
    "                              self._numpointsparam())\n",
    "\n",
    "class DummyArray(ParameterWithSetpoints):\n",
    "    \n",
    "    def get_raw(self):\n",
    "        npoints = self.root_instrument.n_points.get_latest()\n",
    "        return np.random.rand(npoints)\n",
    "    \n",
    "\n",
    "class DummySpectrumAnalyzer(Instrument):\n",
    "    \n",
    "    def __init__(self, name, **kwargs):\n",
    "        \n",
    "        super().__init__(name, **kwargs)\n",
    "            \n",
    "\n",
    "        self.add_parameter('f_start',\n",
    "                           initial_value=0,\n",
    "                           unit='Hz',\n",
    "                           label='f start',\n",
    "                           vals=Numbers(0,1e3),\n",
    "                           get_cmd=None,\n",
    "                           set_cmd=None)\n",
    "\n",
    "        self.add_parameter('f_stop',\n",
    "                           unit='Hz',\n",
    "                           label='f stop',\n",
    "                           vals=Numbers(1,1e3),\n",
    "                           get_cmd=None,\n",
    "                           set_cmd=None)\n",
    "\n",
    "        self.add_parameter('n_points',\n",
    "                           unit='',\n",
    "                           initial_value=10,\n",
    "                           vals=Numbers(1,1e3),\n",
    "                           get_cmd=None,\n",
    "                           set_cmd=None)\n",
    "        \n",
    "        self.add_parameter('freq_axis',\n",
    "                           unit='Hz',\n",
    "                           label='Freq Axis',\n",
    "                           parameter_class=GeneratedSetPoints,\n",
    "                           startparam=self.f_start,\n",
    "                           stopparam=self.f_stop,\n",
    "                           numpointsparam=self.n_points,\n",
    "                           vals=Arrays(shape=(self.n_points.get_latest,)))\n",
    "                           \n",
    "        self.add_parameter('spectrum',\n",
    "                   unit='dBm',\n",
    "                   setpoints=(self.freq_axis,),\n",
    "                   label='Spectrum',\n",
    "                   parameter_class=DummyArray,\n",
    "                   vals=Arrays(shape=(self.n_points.get_latest,)))\n",
    "                "
   ]
  },
  {
   "cell_type": "markdown",
   "metadata": {},
   "source": [
    "In the above example, the shape is defined by the parameter `n_points` that defines how many samples our `DummySpectrumAnalyzer` returns.\n",
    "\n",
    "This means that the validation will call the function to get `n_points` twice for each `get` of the parameter. This may be too slow, however, if you (as the driver-writer) can guarantee that the cached value for `n_points` will never be out of sync with the value stored in the instrument, `n_points` may be replaced by it's latest known value such that the `validator` reads:\n",
    "```python\n",
    "vals=Arrays(shape=(self.n_points.get_latest))\n",
    "```\n",
    "\n",
    "This avoids any additional call to the instrument. In the same way, the arguments to the `freq_axis` parameter that defines the start, stop and number of points can be replaced by their latest value if the instrument allows it.\n",
    "\n"
   ]
  },
  {
   "cell_type": "code",
   "execution_count": 6,
   "metadata": {
    "execution": {
     "iopub.execute_input": "2020-09-18T09:19:05.812069Z",
     "iopub.status.busy": "2020-09-18T09:19:05.811481Z",
     "iopub.status.idle": "2020-09-18T09:19:05.896715Z",
     "shell.execute_reply": "2020-09-18T09:19:05.897197Z"
    }
   },
   "outputs": [
    {
     "name": "stdout",
     "output_type": "stream",
     "text": [
      "\r",
      "0it [00:00, ?it/s]"
     ]
    },
    {
     "name": "stdout",
     "output_type": "stream",
     "text": [
      "\r",
      "Upgrading database; v0 -> v1: : 0it [00:00, ?it/s]"
     ]
    },
    {
     "name": "stdout",
     "output_type": "stream",
     "text": [
      "\r",
      "Upgrading database; v0 -> v1: : 0it [00:00, ?it/s]"
     ]
    },
    {
     "name": "stdout",
     "output_type": "stream",
     "text": [
      "\n",
      "\r",
      "  0%|          | 0/1 [00:00<?, ?it/s]"
     ]
    },
    {
     "name": "stdout",
     "output_type": "stream",
     "text": [
      "\r",
      "Upgrading database; v1 -> v2:   0%|          | 0/1 [00:00<?, ?it/s]"
     ]
    },
    {
     "name": "stdout",
     "output_type": "stream",
     "text": [
      "\r",
      "Upgrading database; v1 -> v2: 100%|██████████| 1/1 [00:00<00:00, 496.07it/s]"
     ]
    },
    {
     "name": "stdout",
     "output_type": "stream",
     "text": [
      "\n",
      "\r",
      "0it [00:00, ?it/s]"
     ]
    },
    {
     "name": "stdout",
     "output_type": "stream",
     "text": [
      "\r",
      "Upgrading database; v2 -> v3: : 0it [00:00, ?it/s]"
     ]
    },
    {
     "name": "stdout",
     "output_type": "stream",
     "text": [
      "\r",
      "Upgrading database; v2 -> v3: : 0it [00:00, ?it/s]"
     ]
    },
    {
     "name": "stdout",
     "output_type": "stream",
     "text": [
      "\n",
      "\r",
      "0it [00:00, ?it/s]"
     ]
    },
    {
     "name": "stdout",
     "output_type": "stream",
     "text": [
      "\r",
      "Upgrading database; v3 -> v4: : 0it [00:00, ?it/s]"
     ]
    },
    {
     "name": "stdout",
     "output_type": "stream",
     "text": [
      "\r",
      "Upgrading database; v3 -> v4: : 0it [00:00, ?it/s]"
     ]
    },
    {
     "name": "stdout",
     "output_type": "stream",
     "text": [
      "\n",
      "\r",
      "  0%|          | 0/1 [00:00<?, ?it/s]"
     ]
    },
    {
     "name": "stdout",
     "output_type": "stream",
     "text": [
      "\r",
      "Upgrading database; v4 -> v5:   0%|          | 0/1 [00:00<?, ?it/s]"
     ]
    },
    {
     "name": "stdout",
     "output_type": "stream",
     "text": [
      "\r",
      "Upgrading database; v4 -> v5: 100%|██████████| 1/1 [00:00<00:00, 391.11it/s]"
     ]
    },
    {
     "name": "stdout",
     "output_type": "stream",
     "text": [
      "\n",
      "\r",
      "0it [00:00, ?it/s]"
     ]
    },
    {
     "name": "stdout",
     "output_type": "stream",
     "text": [
      "\r",
      "Upgrading database; v5 -> v6: : 0it [00:00, ?it/s]"
     ]
    },
    {
     "name": "stdout",
     "output_type": "stream",
     "text": [
      "\r",
      "Upgrading database; v5 -> v6: : 0it [00:00, ?it/s]"
     ]
    },
    {
     "name": "stdout",
     "output_type": "stream",
     "text": [
      "\n",
      "\r",
      "  0%|          | 0/1 [00:00<?, ?it/s]"
     ]
    },
    {
     "name": "stdout",
     "output_type": "stream",
     "text": [
      "\r",
      "Upgrading database; v6 -> v7:   0%|          | 0/1 [00:00<?, ?it/s]"
     ]
    },
    {
     "name": "stdout",
     "output_type": "stream",
     "text": [
      "\r",
      "Upgrading database; v6 -> v7: 100%|██████████| 1/1 [00:00<00:00, 332.59it/s]"
     ]
    },
    {
     "name": "stdout",
     "output_type": "stream",
     "text": [
      "\n",
      "\r",
      "  0%|          | 0/1 [00:00<?, ?it/s]"
     ]
    },
    {
     "name": "stdout",
     "output_type": "stream",
     "text": [
      "\r",
      "Upgrading database; v7 -> v8:   0%|          | 0/1 [00:00<?, ?it/s]"
     ]
    },
    {
     "name": "stdout",
     "output_type": "stream",
     "text": [
      "\r",
      "Upgrading database; v7 -> v8: 100%|██████████| 1/1 [00:00<00:00, 367.44it/s]"
     ]
    },
    {
     "name": "stdout",
     "output_type": "stream",
     "text": [
      "\n",
      "\r",
      "  0%|          | 0/1 [00:00<?, ?it/s]"
     ]
    },
    {
     "name": "stdout",
     "output_type": "stream",
     "text": [
      "\r",
      "Upgrading database; v8 -> v9:   0%|          | 0/1 [00:00<?, ?it/s]"
     ]
    },
    {
     "name": "stdout",
     "output_type": "stream",
     "text": [
      "\r",
      "Upgrading database; v8 -> v9: 100%|██████████| 1/1 [00:00<00:00, 354.67it/s]"
     ]
    },
    {
     "name": "stdout",
     "output_type": "stream",
     "text": [
      "\n"
     ]
    },
    {
     "data": {
      "text/plain": [
       "tutorial_ParameterWithSetpoints#no sample#1@/home/vsts/work/1/s/docs/examples/Parameters/tutorial_paramter_with_setpoints.db\n",
       "----------------------------------------------------------------------------------------------------------------------------"
      ]
     },
     "execution_count": 1,
     "metadata": {},
     "output_type": "execute_result"
    }
   ],
   "source": [
    "tutorial_db_path = os.path.join(os.getcwd(), 'tutorial_paramter_with_setpoints.db')\n",
    "initialise_or_create_database_at(tutorial_db_path)\n",
    "load_or_create_experiment(experiment_name='tutorial_ParameterWithSetpoints', sample_name=\"no sample\")"
   ]
  },
  {
   "cell_type": "code",
   "execution_count": 7,
   "metadata": {
    "execution": {
     "iopub.execute_input": "2020-09-18T09:19:05.902314Z",
     "iopub.status.busy": "2020-09-18T09:19:05.901737Z",
     "iopub.status.idle": "2020-09-18T09:19:05.905224Z",
     "shell.execute_reply": "2020-09-18T09:19:05.905694Z"
    }
   },
   "outputs": [],
   "source": [
    "a = DummySpectrumAnalyzer('foobar')"
   ]
  },
  {
   "cell_type": "markdown",
   "metadata": {},
   "source": [
    "First we setup the limits of the spectrum"
   ]
  },
  {
   "cell_type": "code",
   "execution_count": 8,
   "metadata": {
    "execution": {
     "iopub.execute_input": "2020-09-18T09:19:05.911099Z",
     "iopub.status.busy": "2020-09-18T09:19:05.909662Z",
     "iopub.status.idle": "2020-09-18T09:19:05.911686Z",
     "shell.execute_reply": "2020-09-18T09:19:05.912294Z"
    }
   },
   "outputs": [],
   "source": [
    "a.f_start(0)\n",
    "a.f_stop(500)\n",
    "a.n_points(501)"
   ]
  },
  {
   "cell_type": "markdown",
   "metadata": {},
   "source": [
    "And we can grab the frequency axis"
   ]
  },
  {
   "cell_type": "code",
   "execution_count": 9,
   "metadata": {
    "execution": {
     "iopub.execute_input": "2020-09-18T09:19:05.916909Z",
     "iopub.status.busy": "2020-09-18T09:19:05.915693Z",
     "iopub.status.idle": "2020-09-18T09:19:05.919062Z",
     "shell.execute_reply": "2020-09-18T09:19:05.919807Z"
    }
   },
   "outputs": [
    {
     "data": {
      "text/plain": [
       "501"
      ]
     },
     "execution_count": 1,
     "metadata": {},
     "output_type": "execute_result"
    }
   ],
   "source": [
    "a.n_points()"
   ]
  },
  {
   "cell_type": "code",
   "execution_count": 10,
   "metadata": {
    "execution": {
     "iopub.execute_input": "2020-09-18T09:19:05.924685Z",
     "iopub.status.busy": "2020-09-18T09:19:05.923547Z",
     "iopub.status.idle": "2020-09-18T09:19:05.926739Z",
     "shell.execute_reply": "2020-09-18T09:19:05.927318Z"
    },
    "scrolled": false
   },
   "outputs": [
    {
     "data": {
      "text/plain": [
       "501"
      ]
     },
     "execution_count": 1,
     "metadata": {},
     "output_type": "execute_result"
    }
   ],
   "source": [
    "freq_axis = a.freq_axis()\n",
    "len(freq_axis)"
   ]
  },
  {
   "cell_type": "code",
   "execution_count": 11,
   "metadata": {
    "execution": {
     "iopub.execute_input": "2020-09-18T09:19:05.932936Z",
     "iopub.status.busy": "2020-09-18T09:19:05.931290Z",
     "iopub.status.idle": "2020-09-18T09:19:05.935001Z",
     "shell.execute_reply": "2020-09-18T09:19:05.935673Z"
    }
   },
   "outputs": [
    {
     "data": {
      "text/plain": [
       "array([0., 1., 2., 3., 4., 5., 6., 7., 8., 9.])"
      ]
     },
     "execution_count": 1,
     "metadata": {},
     "output_type": "execute_result"
    }
   ],
   "source": [
    "freq_axis[:10]"
   ]
  },
  {
   "cell_type": "markdown",
   "metadata": {},
   "source": [
    "As expected we get a result wit 501 points as we asked for an axis with 501 points. "
   ]
  },
  {
   "cell_type": "markdown",
   "metadata": {},
   "source": [
    "Above we have added a validator to the `freq_axis` parameter encoding the fact that this is an Array with `n_points`. Note that we do not have to supply the number of points as an integer but can supply a function that returns the valid number of points. This would normally be a QCoDeS parameter.\n",
    "\n",
    "This will be checked if we validate the output."
   ]
  },
  {
   "cell_type": "code",
   "execution_count": 12,
   "metadata": {
    "execution": {
     "iopub.execute_input": "2020-09-18T09:19:05.941205Z",
     "iopub.status.busy": "2020-09-18T09:19:05.939848Z",
     "iopub.status.idle": "2020-09-18T09:19:05.941799Z",
     "shell.execute_reply": "2020-09-18T09:19:05.942372Z"
    }
   },
   "outputs": [],
   "source": [
    "a.freq_axis.validate(a.freq_axis.get())"
   ]
  },
  {
   "cell_type": "markdown",
   "metadata": {},
   "source": [
    "Naturally, we can also get the spectrum. Getting the spectrum will automatically perform validation both for the shape of the parameter itself and the relation to the setpoint parameter(s)"
   ]
  },
  {
   "cell_type": "code",
   "execution_count": 13,
   "metadata": {
    "execution": {
     "iopub.execute_input": "2020-09-18T09:19:05.947313Z",
     "iopub.status.busy": "2020-09-18T09:19:05.945521Z",
     "iopub.status.idle": "2020-09-18T09:19:05.949425Z",
     "shell.execute_reply": "2020-09-18T09:19:05.950009Z"
    },
    "scrolled": true
   },
   "outputs": [
    {
     "data": {
      "text/plain": [
       "501"
      ]
     },
     "execution_count": 1,
     "metadata": {},
     "output_type": "execute_result"
    }
   ],
   "source": [
    "spectrum = a.spectrum.get()\n",
    "len(spectrum)"
   ]
  },
  {
   "cell_type": "markdown",
   "metadata": {},
   "source": [
    "When we validate a `ParameterWithSetpoints`, we automatically validate that the shape is consistent between the parameters and its setpoints. As well as validating the shape as above."
   ]
  },
  {
   "cell_type": "code",
   "execution_count": 14,
   "metadata": {
    "execution": {
     "iopub.execute_input": "2020-09-18T09:19:05.954660Z",
     "iopub.status.busy": "2020-09-18T09:19:05.954066Z",
     "iopub.status.idle": "2020-09-18T09:19:05.956758Z",
     "shell.execute_reply": "2020-09-18T09:19:05.956124Z"
    }
   },
   "outputs": [],
   "source": [
    "a.spectrum.validate(a.spectrum.get())"
   ]
  },
  {
   "cell_type": "markdown",
   "metadata": {},
   "source": [
    "The consistent shapes can be validated explicitly."
   ]
  },
  {
   "cell_type": "code",
   "execution_count": 15,
   "metadata": {
    "execution": {
     "iopub.execute_input": "2020-09-18T09:19:05.961362Z",
     "iopub.status.busy": "2020-09-18T09:19:05.960324Z",
     "iopub.status.idle": "2020-09-18T09:19:05.962262Z",
     "shell.execute_reply": "2020-09-18T09:19:05.962834Z"
    }
   },
   "outputs": [],
   "source": [
    "a.spectrum.validate_consistent_shape()"
   ]
  },
  {
   "cell_type": "markdown",
   "metadata": {},
   "source": [
    "We can inspect the setpoints of the spectrum."
   ]
  },
  {
   "cell_type": "code",
   "execution_count": 16,
   "metadata": {
    "execution": {
     "iopub.execute_input": "2020-09-18T09:19:05.967914Z",
     "iopub.status.busy": "2020-09-18T09:19:05.967325Z",
     "iopub.status.idle": "2020-09-18T09:19:05.970052Z",
     "shell.execute_reply": "2020-09-18T09:19:05.970623Z"
    }
   },
   "outputs": [
    {
     "data": {
      "text/plain": [
       "(<__main__.GeneratedSetPoints: freq_axis at 140074855859856>,)"
      ]
     },
     "execution_count": 1,
     "metadata": {},
     "output_type": "execute_result"
    }
   ],
   "source": [
    "a.spectrum.setpoints"
   ]
  },
  {
   "cell_type": "markdown",
   "metadata": {},
   "source": [
    "Or even change them."
   ]
  },
  {
   "cell_type": "code",
   "execution_count": 17,
   "metadata": {
    "execution": {
     "iopub.execute_input": "2020-09-18T09:19:05.975437Z",
     "iopub.status.busy": "2020-09-18T09:19:05.974177Z",
     "iopub.status.idle": "2020-09-18T09:19:05.976026Z",
     "shell.execute_reply": "2020-09-18T09:19:05.976632Z"
    }
   },
   "outputs": [],
   "source": [
    "a.spectrum.setpoints = (a.freq_axis,)"
   ]
  },
  {
   "cell_type": "markdown",
   "metadata": {},
   "source": [
    "## Measurement"
   ]
  },
  {
   "cell_type": "markdown",
   "metadata": {},
   "source": [
    "We can also directly consume the parameter in a measurement without defining the setpoints of the parameter again. The setpoints are automatically obtained from the definition of the `ParameterWithSetpoint` instance. "
   ]
  },
  {
   "cell_type": "code",
   "execution_count": 18,
   "metadata": {
    "execution": {
     "iopub.execute_input": "2020-09-18T09:19:05.981625Z",
     "iopub.status.busy": "2020-09-18T09:19:05.981034Z",
     "iopub.status.idle": "2020-09-18T09:19:05.997911Z",
     "shell.execute_reply": "2020-09-18T09:19:05.997048Z"
    }
   },
   "outputs": [
    {
     "name": "stdout",
     "output_type": "stream",
     "text": [
      "Starting experimental run with id: 1. \n"
     ]
    }
   ],
   "source": [
    "meas = Measurement()\n",
    "meas.register_parameter(a.spectrum)\n",
    "\n",
    "with meas.run() as datasaver:\n",
    "    datasaver.add_result((a.freq_axis, a.freq_axis()),\n",
    "                         (a.spectrum, a.spectrum()))\n",
    "    dataset = datasaver.dataset"
   ]
  },
  {
   "cell_type": "markdown",
   "metadata": {},
   "source": [
    "And plot it"
   ]
  },
  {
   "cell_type": "code",
   "execution_count": 19,
   "metadata": {
    "execution": {
     "iopub.execute_input": "2020-09-18T09:19:06.001647Z",
     "iopub.status.busy": "2020-09-18T09:19:06.001062Z",
     "iopub.status.idle": "2020-09-18T09:19:06.431172Z",
     "shell.execute_reply": "2020-09-18T09:19:06.431766Z"
    }
   },
   "outputs": [
    {
     "data": {
      "text/plain": [
       "([<matplotlib.axes._subplots.AxesSubplot at 0x7f65a953a490>], [None])"
      ]
     },
     "execution_count": 1,
     "metadata": {},
     "output_type": "execute_result"
    },
    {
     "data": {
      "image/png": "[encoded data removed]",
      "text/plain": [
       "<Figure size 432x288 with 1 Axes>"
      ]
     },
     "metadata": {
      "needs_background": "light"
     },
     "output_type": "display_data"
    }
   ],
   "source": [
    "plot_dataset(dataset)"
   ]
  },
  {
   "cell_type": "markdown",
   "metadata": {},
   "source": [
    "To reduce the amount of typing a simple convenience function is provided that will take a `ParameterWithSetpoints` and get both its values and the setpoints values and return them as tuples for direct insertion into the Dataset."
   ]
  },
  {
   "cell_type": "code",
   "execution_count": 20,
   "metadata": {
    "execution": {
     "iopub.execute_input": "2020-09-18T09:19:06.447053Z",
     "iopub.status.busy": "2020-09-18T09:19:06.436130Z",
     "iopub.status.idle": "2020-09-18T09:19:06.450983Z",
     "shell.execute_reply": "2020-09-18T09:19:06.450116Z"
    },
    "scrolled": true
   },
   "outputs": [
    {
     "data": {
      "text/plain": [
       "[(<__main__.GeneratedSetPoints: freq_axis at 140074855859856>,\n",
       "  array([  0.,   1.,   2.,   3.,   4.,   5.,   6.,   7.,   8.,   9.,  10.,\n",
       "          11.,  12.,  13.,  14.,  15.,  16.,  17.,  18.,  19.,  20.,  21.,\n",
       "          22.,  23.,  24.,  25.,  26.,  27.,  28.,  29.,  30.,  31.,  32.,\n",
       "          33.,  34.,  35.,  36.,  37.,  38.,  39.,  40.,  41.,  42.,  43.,\n",
       "          44.,  45.,  46.,  47.,  48.,  49.,  50.,  51.,  52.,  53.,  54.,\n",
       "          55.,  56.,  57.,  58.,  59.,  60.,  61.,  62.,  63.,  64.,  65.,\n",
       "          66.,  67.,  68.,  69.,  70.,  71.,  72.,  73.,  74.,  75.,  76.,\n",
       "          77.,  78.,  79.,  80.,  81.,  82.,  83.,  84.,  85.,  86.,  87.,\n",
       "          88.,  89.,  90.,  91.,  92.,  93.,  94.,  95.,  96.,  97.,  98.,\n",
       "          99., 100., 101., 102., 103., 104., 105., 106., 107., 108., 109.,\n",
       "         110., 111., 112., 113., 114., 115., 116., 117., 118., 119., 120.,\n",
       "         121., 122., 123., 124., 125., 126., 127., 128., 129., 130., 131.,\n",
       "         132., 133., 134., 135., 136., 137., 138., 139., 140., 141., 142.,\n",
       "         143., 144., 145., 146., 147., 148., 149., 150., 151., 152., 153.,\n",
       "         154., 155., 156., 157., 158., 159., 160., 161., 162., 163., 164.,\n",
       "         165., 166., 167., 168., 169., 170., 171., 172., 173., 174., 175.,\n",
       "         176., 177., 178., 179., 180., 181., 182., 183., 184., 185., 186.,\n",
       "         187., 188., 189., 190., 191., 192., 193., 194., 195., 196., 197.,\n",
       "         198., 199., 200., 201., 202., 203., 204., 205., 206., 207., 208.,\n",
       "         209., 210., 211., 212., 213., 214., 215., 216., 217., 218., 219.,\n",
       "         220., 221., 222., 223., 224., 225., 226., 227., 228., 229., 230.,\n",
       "         231., 232., 233., 234., 235., 236., 237., 238., 239., 240., 241.,\n",
       "         242., 243., 244., 245., 246., 247., 248., 249., 250., 251., 252.,\n",
       "         253., 254., 255., 256., 257., 258., 259., 260., 261., 262., 263.,\n",
       "         264., 265., 266., 267., 268., 269., 270., 271., 272., 273., 274.,\n",
       "         275., 276., 277., 278., 279., 280., 281., 282., 283., 284., 285.,\n",
       "         286., 287., 288., 289., 290., 291., 292., 293., 294., 295., 296.,\n",
       "         297., 298., 299., 300., 301., 302., 303., 304., 305., 306., 307.,\n",
       "         308., 309., 310., 311., 312., 313., 314., 315., 316., 317., 318.,\n",
       "         319., 320., 321., 322., 323., 324., 325., 326., 327., 328., 329.,\n",
       "         330., 331., 332., 333., 334., 335., 336., 337., 338., 339., 340.,\n",
       "         341., 342., 343., 344., 345., 346., 347., 348., 349., 350., 351.,\n",
       "         352., 353., 354., 355., 356., 357., 358., 359., 360., 361., 362.,\n",
       "         363., 364., 365., 366., 367., 368., 369., 370., 371., 372., 373.,\n",
       "         374., 375., 376., 377., 378., 379., 380., 381., 382., 383., 384.,\n",
       "         385., 386., 387., 388., 389., 390., 391., 392., 393., 394., 395.,\n",
       "         396., 397., 398., 399., 400., 401., 402., 403., 404., 405., 406.,\n",
       "         407., 408., 409., 410., 411., 412., 413., 414., 415., 416., 417.,\n",
       "         418., 419., 420., 421., 422., 423., 424., 425., 426., 427., 428.,\n",
       "         429., 430., 431., 432., 433., 434., 435., 436., 437., 438., 439.,\n",
       "         440., 441., 442., 443., 444., 445., 446., 447., 448., 449., 450.,\n",
       "         451., 452., 453., 454., 455., 456., 457., 458., 459., 460., 461.,\n",
       "         462., 463., 464., 465., 466., 467., 468., 469., 470., 471., 472.,\n",
       "         473., 474., 475., 476., 477., 478., 479., 480., 481., 482., 483.,\n",
       "         484., 485., 486., 487., 488., 489., 490., 491., 492., 493., 494.,\n",
       "         495., 496., 497., 498., 499., 500.])),\n",
       " (<__main__.DummyArray: spectrum at 140074599630608>,\n",
       "  array([3.73989264e-02, 4.11071678e-01, 9.06082783e-01, 2.32256161e-01,\n",
       "         4.35305911e-01, 3.99310357e-01, 6.13901231e-01, 7.94060056e-01,\n",
       "         5.72934890e-02, 3.35860737e-01, 6.48273702e-01, 4.63260168e-01,\n",
       "         1.90328446e-01, 1.14551419e-01, 7.04583186e-01, 9.91278459e-01,\n",
       "         8.86374136e-01, 1.14320099e-01, 1.12604372e-01, 4.12835787e-01,\n",
       "         5.75359897e-01, 3.18492176e-01, 2.63155828e-01, 8.33288071e-01,\n",
       "         5.62642059e-01, 4.85476481e-01, 6.73813354e-01, 5.79878935e-02,\n",
       "         5.65235857e-01, 3.93275923e-01, 2.69813299e-01, 5.55591019e-01,\n",
       "         4.09534364e-01, 2.41808291e-02, 9.37587831e-01, 5.36886627e-01,\n",
       "         8.16405861e-01, 5.99795930e-01, 7.15880582e-01, 8.61904594e-01,\n",
       "         8.71485446e-01, 4.42334336e-01, 6.29273478e-01, 8.88457046e-02,\n",
       "         5.18018898e-01, 9.18308673e-01, 1.91013738e-01, 4.96629021e-01,\n",
       "         9.39071531e-01, 4.51911875e-01, 5.18395702e-01, 7.91490472e-01,\n",
       "         2.34340709e-01, 6.08175641e-01, 4.36101246e-04, 7.58352878e-01,\n",
       "         1.54182011e-02, 1.77819786e-01, 5.65626138e-01, 4.38227959e-01,\n",
       "         3.78231554e-01, 3.84688553e-03, 4.49495956e-03, 8.64040147e-01,\n",
       "         8.84502530e-01, 2.64836966e-01, 8.44701323e-01, 1.26343428e-01,\n",
       "         4.36514793e-01, 4.85660141e-01, 5.80124514e-01, 9.71554331e-01,\n",
       "         1.24137662e-02, 9.71184787e-01, 5.34438462e-01, 8.15855137e-01,\n",
       "         1.54207309e-01, 1.99244978e-02, 7.45240270e-01, 8.09125418e-01,\n",
       "         9.95924520e-01, 7.34223241e-02, 1.87432885e-02, 1.70717659e-03,\n",
       "         4.22046914e-01, 3.62707705e-01, 9.94813694e-01, 4.04173409e-01,\n",
       "         1.91635178e-01, 1.23344640e-01, 6.66315512e-01, 4.78535185e-01,\n",
       "         5.59687927e-01, 9.01246479e-01, 1.38161084e-01, 4.26278930e-01,\n",
       "         6.12304446e-01, 6.66521037e-01, 3.88838019e-01, 7.62185236e-01,\n",
       "         3.57838381e-02, 6.15798011e-01, 2.38197586e-01, 1.23781950e-01,\n",
       "         5.93298878e-01, 3.44559994e-01, 2.22534084e-01, 9.74650939e-01,\n",
       "         2.24402361e-01, 2.93076335e-02, 2.69605307e-01, 6.99076670e-01,\n",
       "         9.65824976e-02, 5.72579126e-01, 8.51919919e-01, 3.91582758e-01,\n",
       "         5.66573506e-01, 5.48851720e-01, 4.69407200e-01, 7.00369554e-01,\n",
       "         2.84759733e-01, 9.03205980e-01, 3.96888603e-01, 2.56190989e-01,\n",
       "         4.97048574e-01, 3.62612510e-01, 1.40013285e-01, 8.17664531e-01,\n",
       "         4.20418983e-01, 4.11022283e-01, 3.68018210e-01, 1.86595996e-01,\n",
       "         6.00679106e-01, 1.54800077e-01, 9.97321546e-01, 3.61965221e-02,\n",
       "         6.67643088e-01, 8.62677381e-01, 6.98239433e-01, 8.19379904e-02,\n",
       "         7.38986316e-01, 2.64810826e-01, 8.96683314e-01, 3.69217286e-01,\n",
       "         6.64220382e-01, 9.54477481e-02, 2.47977800e-01, 9.78976936e-01,\n",
       "         5.25084950e-01, 1.65181309e-01, 1.51747483e-01, 8.35047644e-01,\n",
       "         3.45894891e-01, 6.75753372e-01, 3.78945449e-01, 4.32428632e-01,\n",
       "         4.27508884e-01, 5.32981789e-01, 2.77043509e-01, 2.62163009e-01,\n",
       "         1.62483050e-01, 7.96516441e-01, 3.53723943e-01, 8.92265769e-01,\n",
       "         4.90727174e-01, 2.25197282e-01, 1.99808851e-01, 7.60565184e-01,\n",
       "         1.76090420e-01, 6.06282205e-02, 4.14565485e-01, 7.43799129e-01,\n",
       "         7.24536632e-01, 5.98121705e-01, 5.40205855e-01, 7.98328132e-01,\n",
       "         6.29327401e-01, 5.78133431e-01, 1.14667924e-01, 7.17830815e-01,\n",
       "         1.27073658e-01, 9.09571539e-01, 8.46221107e-01, 2.77798037e-01,\n",
       "         9.02367139e-01, 2.72993943e-01, 6.97706494e-01, 7.24051789e-01,\n",
       "         9.87340198e-01, 3.91567973e-01, 6.10753457e-01, 7.75117832e-01,\n",
       "         6.38561493e-01, 3.27628677e-01, 3.44035222e-01, 5.60516085e-02,\n",
       "         5.13446186e-01, 8.86521615e-01, 4.09713126e-01, 6.93377550e-01,\n",
       "         5.56627645e-01, 3.89064331e-01, 2.60381674e-01, 6.95635907e-01,\n",
       "         6.05569401e-01, 5.57770608e-01, 1.44498205e-01, 7.10909186e-01,\n",
       "         3.38740965e-01, 8.60099485e-01, 5.24021836e-01, 1.31985972e-01,\n",
       "         7.54062234e-02, 7.32116749e-02, 9.68576953e-01, 2.24759200e-01,\n",
       "         9.19638261e-02, 7.09740840e-01, 9.86952711e-01, 6.04115261e-01,\n",
       "         1.78252442e-01, 8.44627807e-01, 5.99188130e-01, 1.13270753e-01,\n",
       "         2.92606358e-01, 3.90610608e-01, 5.06407035e-01, 5.13219147e-01,\n",
       "         9.86034761e-01, 3.33834329e-03, 6.49383592e-01, 3.62915317e-01,\n",
       "         7.54264716e-01, 8.81976140e-01, 1.13274453e-01, 9.08170302e-01,\n",
       "         3.94204694e-01, 8.86755348e-01, 7.38156633e-01, 6.22434603e-01,\n",
       "         9.38445827e-01, 8.14698637e-01, 1.01351714e-01, 2.88889862e-01,\n",
       "         8.36054859e-01, 9.31125562e-01, 2.42599384e-01, 7.00672788e-01,\n",
       "         3.86232397e-01, 5.75873830e-01, 6.05465744e-01, 4.71112396e-01,\n",
       "         5.17777194e-01, 6.26058867e-01, 1.34580835e-01, 7.73102898e-01,\n",
       "         2.53933239e-01, 9.96287388e-01, 1.51664189e-01, 8.92084111e-01,\n",
       "         4.56939676e-01, 1.32829417e-01, 5.23733576e-01, 2.70687085e-02,\n",
       "         3.63956534e-01, 9.63640447e-01, 6.77240128e-01, 3.97563495e-01,\n",
       "         7.32844596e-01, 9.92844215e-01, 8.20186927e-01, 4.62615734e-01,\n",
       "         4.14112264e-01, 6.89640662e-01, 7.48116314e-02, 6.55345435e-01,\n",
       "         1.46489543e-01, 3.72862870e-01, 4.22831511e-01, 4.68860327e-01,\n",
       "         9.11502712e-02, 5.12066688e-01, 5.87343666e-01, 9.89918374e-01,\n",
       "         7.68780351e-01, 9.60525688e-01, 4.99730637e-01, 4.98809035e-01,\n",
       "         3.17075702e-01, 7.89769372e-01, 4.61773263e-01, 7.79561978e-01,\n",
       "         2.43926939e-02, 8.12336474e-01, 2.26401737e-01, 3.40613857e-01,\n",
       "         8.36485573e-01, 6.97386770e-01, 3.00007735e-01, 7.55852594e-01,\n",
       "         5.48994596e-01, 9.21402264e-01, 4.93661159e-01, 7.58659190e-01,\n",
       "         2.66509889e-01, 2.92687395e-01, 4.92283336e-01, 7.29597322e-02,\n",
       "         9.87699888e-01, 8.95765598e-01, 8.50037338e-01, 3.88167169e-01,\n",
       "         8.84610531e-01, 1.57304673e-01, 3.71483419e-01, 3.39716916e-02,\n",
       "         4.28334266e-01, 9.84685065e-01, 7.72138208e-01, 8.05904385e-01,\n",
       "         5.81582013e-01, 3.62086288e-01, 3.21616092e-01, 2.37948646e-01,\n",
       "         2.02468964e-01, 2.89652465e-01, 1.29247588e-01, 3.83392553e-01,\n",
       "         3.89363207e-01, 1.97434627e-01, 4.82518424e-01, 4.27554402e-01,\n",
       "         7.45616272e-01, 5.45454574e-01, 3.42190898e-01, 4.43262274e-01,\n",
       "         9.92871168e-01, 3.04331181e-01, 7.61447583e-01, 8.92551012e-01,\n",
       "         4.61792771e-01, 5.25669964e-01, 9.54905723e-01, 6.06313642e-01,\n",
       "         6.17130045e-01, 4.14133685e-01, 1.21660112e-01, 2.74403161e-01,\n",
       "         7.95614227e-01, 3.93319375e-01, 4.63381629e-01, 4.48538416e-01,\n",
       "         9.82461127e-01, 9.00492430e-01, 6.55385605e-01, 2.88446549e-02,\n",
       "         5.43876176e-01, 1.04151283e-01, 4.27166761e-01, 9.60040007e-01,\n",
       "         8.93293332e-01, 6.29561023e-01, 9.26207448e-01, 3.94216133e-01,\n",
       "         2.33353343e-01, 8.51975567e-01, 5.13219824e-01, 7.94839677e-01,\n",
       "         7.17575299e-01, 1.40963169e-01, 5.29373152e-02, 1.66918184e-01,\n",
       "         6.57025124e-01, 1.54373395e-02, 5.32530042e-01, 2.47632456e-01,\n",
       "         5.46786740e-01, 1.66118208e-01, 5.20212570e-01, 8.40716095e-01,\n",
       "         4.03551402e-02, 3.83636731e-01, 3.89743511e-01, 1.00705629e-01,\n",
       "         1.16685412e-01, 8.36495283e-01, 8.64996280e-01, 3.53521680e-01,\n",
       "         4.77946080e-01, 7.10685577e-01, 5.35424630e-01, 1.58768138e-01,\n",
       "         2.90595104e-01, 2.05561759e-01, 5.82533108e-01, 3.30583103e-01,\n",
       "         4.69817615e-01, 5.48658574e-01, 6.60783916e-01, 8.80173655e-01,\n",
       "         5.36432348e-01, 8.79793467e-01, 3.48126800e-01, 1.88273563e-02,\n",
       "         1.70001413e-01, 7.57081592e-01, 3.79680808e-01, 7.95347335e-01,\n",
       "         5.60266974e-01, 9.21713976e-01, 6.98159946e-01, 5.01064821e-01,\n",
       "         2.58423038e-02, 5.04200366e-01, 3.36867692e-01, 9.76565315e-01,\n",
       "         6.44037651e-01, 4.03886671e-02, 4.22101094e-01, 9.98739691e-01,\n",
       "         8.81679830e-01, 9.13893333e-01, 8.82575115e-01, 5.60226655e-01,\n",
       "         6.87931107e-01, 5.08730231e-01, 7.24163819e-02, 1.95998488e-01,\n",
       "         3.70222296e-01, 9.11518254e-01, 9.42088603e-02, 6.76485887e-01,\n",
       "         8.38743760e-01, 8.43242460e-01, 8.37510401e-01, 5.54230403e-01,\n",
       "         8.21034835e-01, 5.58812243e-01, 8.58208922e-01, 3.22648137e-01,\n",
       "         4.71650697e-01, 4.86052765e-02, 1.89142901e-02, 9.32605639e-01,\n",
       "         8.90037881e-01, 4.03629686e-01, 9.03046459e-01, 3.81695033e-01,\n",
       "         2.94898697e-01, 4.10990606e-01, 9.10729997e-01, 9.63954736e-01,\n",
       "         2.93038073e-02, 9.05319792e-01, 4.05222089e-01, 8.53180869e-01,\n",
       "         7.24602722e-01, 9.29723951e-01, 2.22587919e-01, 2.21358732e-01,\n",
       "         8.70323250e-01, 8.03009941e-01, 6.15083777e-01, 7.06777874e-01,\n",
       "         3.02098130e-01, 8.58345482e-01, 9.11978306e-01, 2.88823213e-01,\n",
       "         1.79378862e-01, 8.89763474e-01, 6.75970766e-02, 8.94074269e-01,\n",
       "         3.26078066e-01, 1.37488727e-01, 5.26782214e-01, 5.64137564e-01,\n",
       "         7.91713881e-01, 7.07212506e-01, 7.79999215e-01, 8.50054247e-01,\n",
       "         7.37509968e-01, 4.59208860e-01, 7.42412472e-01, 7.89333293e-01,\n",
       "         9.41749282e-01, 3.44779941e-02, 8.09027574e-01, 9.84181308e-02,\n",
       "         2.55830897e-01, 1.33834861e-01, 3.55489585e-01, 2.72750435e-01,\n",
       "         1.20397364e-01, 4.02062556e-03, 4.33886631e-01, 9.91056799e-01,\n",
       "         6.46381403e-02, 3.99178429e-01, 9.56058879e-01, 1.93538336e-01,\n",
       "         1.40505961e-02]))]"
      ]
     },
     "execution_count": 1,
     "metadata": {},
     "output_type": "execute_result"
    }
   ],
   "source": [
    "expand_setpoints_helper(a.spectrum)"
   ]
  },
  {
   "cell_type": "code",
   "execution_count": 21,
   "metadata": {
    "execution": {
     "iopub.execute_input": "2020-09-18T09:19:06.455757Z",
     "iopub.status.busy": "2020-09-18T09:19:06.454754Z",
     "iopub.status.idle": "2020-09-18T09:19:06.469899Z",
     "shell.execute_reply": "2020-09-18T09:19:06.470374Z"
    }
   },
   "outputs": [
    {
     "name": "stdout",
     "output_type": "stream",
     "text": [
      "Starting experimental run with id: 2. \n"
     ]
    }
   ],
   "source": [
    "meas = Measurement()\n",
    "meas.register_parameter(a.spectrum)\n",
    "\n",
    "with meas.run() as datasaver:\n",
    "    datasaver.add_result(*expand_setpoints_helper(a.spectrum))\n",
    "    \n",
    "    dataid = datasaver.run_id"
   ]
  },
  {
   "cell_type": "code",
   "execution_count": null,
   "metadata": {},
   "outputs": [],
   "source": []
  }
 ],
 "metadata": {
  "kernelspec": {
   "display_name": "Python 3",
   "language": "python",
   "name": "python3"
  },
  "language_info": {
   "codemirror_mode": {
    "name": "ipython",
    "version": 3
   },
   "file_extension": ".py",
   "mimetype": "text/x-python",
   "name": "python",
   "nbconvert_exporter": "python",
   "pygments_lexer": "ipython3",
   "version": "3.7.7"
  },
  "toc": {
   "base_numbering": 1,
   "nav_menu": {},
   "number_sections": true,
   "sideBar": true,
   "skip_h1_title": false,
   "title_cell": "Table of Contents",
   "title_sidebar": "Contents",
   "toc_cell": false,
   "toc_position": {},
   "toc_section_display": true,
   "toc_window_display": false
  },
  "varInspector": {
   "cols": {
    "lenName": 16,
    "lenType": 16,
    "lenVar": 40
   },
   "kernels_config": {
    "python": {
     "delete_cmd_postfix": "",
     "delete_cmd_prefix": "del ",
     "library": "var_list.py",
     "varRefreshCmd": "print(var_dic_list())"
    },
    "r": {
     "delete_cmd_postfix": ") ",
     "delete_cmd_prefix": "rm(",
     "library": "var_list.r",
     "varRefreshCmd": "cat(var_dic_list()) "
    }
   },
   "types_to_exclude": [
    "module",
    "function",
    "builtin_function_or_method",
    "instance",
    "_Feature"
   ],
   "window_display": false
  }
 },
 "nbformat": 4,
 "nbformat_minor": 2
}
