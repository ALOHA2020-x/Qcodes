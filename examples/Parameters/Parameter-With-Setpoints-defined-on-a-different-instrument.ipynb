{
 "cells": [
  {
   "cell_type": "markdown",
   "metadata": {},
   "source": [
    "# ParameterWithSetpoints with setpoints defined on another instrument.\n",
    "\n",
    "This notebook provides an example for writing a ParameterWithSetpoints that \n",
    "gets it setpoints from a different instrument. \n",
    "This is meant as an extension [Simple Example of ParameterWithSetpoints](Simple-Example-of-ParameterWithSetpoints.ipynb) which you should read before reading this notebook. \n",
    "\n",
    "This is meant for the situation where an instrument has the capability to capture data into a buffer. This could be either by measuring a time series or by capturing each datapoint in the buffer via an external trigger. Such an instrument could capture the data into a ParameterWithSetpoints that user the time or the index of the buffer as setpoints. However, this is typically not very useful as the setpoints that are relevant for your experiment are often set by another instrument that is being swept as you read data into the buffer of the first instrument. This notebook shows an example of how you can generate the setpoints from the sweep settings of another instrument.\n",
    "\n"
   ]
  },
  {
   "cell_type": "code",
   "execution_count": 1,
   "metadata": {
    "execution": {
     "iopub.execute_input": "2020-12-21T09:45:49.934555Z",
     "iopub.status.busy": "2020-12-21T09:45:49.933668Z",
     "iopub.status.idle": "2020-12-21T09:45:50.006248Z",
     "shell.execute_reply": "2020-12-21T09:45:50.007134Z"
    }
   },
   "outputs": [],
   "source": [
    "import numpy as np\n",
    "import os"
   ]
  },
  {
   "cell_type": "code",
   "execution_count": 2,
   "metadata": {
    "execution": {
     "iopub.execute_input": "2020-12-21T09:45:50.010746Z",
     "iopub.status.busy": "2020-12-21T09:45:50.009671Z",
     "iopub.status.idle": "2020-12-21T09:45:51.209567Z",
     "shell.execute_reply": "2020-12-21T09:45:51.207971Z"
    }
   },
   "outputs": [
    {
     "name": "stdout",
     "output_type": "stream",
     "text": [
      "Logging hadn't been started.\n",
      "Activating auto-logging. Current session state plus future input saved.\n",
      "Filename       : /home/vsts/.qcodes/logs/command_history.log\n",
      "Mode           : append\n",
      "Output logging : True\n",
      "Raw input log  : False\n",
      "Timestamping   : True\n",
      "State          : active\n"
     ]
    },
    {
     "name": "stdout",
     "output_type": "stream",
     "text": [
      "Qcodes Logfile : /home/vsts/.qcodes/logs/201221-16296-qcodes.log\n"
     ]
    }
   ],
   "source": [
    "from qcodes.dataset.plotting import plot_dataset\n",
    "from qcodes.utils.validators import Numbers, Arrays\n",
    "from qcodes.instrument.base import Instrument\n",
    "from qcodes.dataset.measurements import Measurement"
   ]
  },
  {
   "cell_type": "code",
   "execution_count": 3,
   "metadata": {
    "execution": {
     "iopub.execute_input": "2020-12-21T09:45:51.252906Z",
     "iopub.status.busy": "2020-12-21T09:45:51.251812Z",
     "iopub.status.idle": "2020-12-21T09:45:51.255435Z",
     "shell.execute_reply": "2020-12-21T09:45:51.255867Z"
    }
   },
   "outputs": [],
   "source": [
    "from qcodes.dataset.sqlite.database import initialise_or_create_database_at\n",
    "from qcodes.dataset.experiment_container import load_or_create_experiment"
   ]
  },
  {
   "cell_type": "code",
   "execution_count": 4,
   "metadata": {
    "execution": {
     "iopub.execute_input": "2020-12-21T09:45:51.260001Z",
     "iopub.status.busy": "2020-12-21T09:45:51.259415Z",
     "iopub.status.idle": "2020-12-21T09:45:51.261847Z",
     "shell.execute_reply": "2020-12-21T09:45:51.261268Z"
    }
   },
   "outputs": [],
   "source": [
    "from qcodes.instrument.parameter import ParameterWithSetpoints, Parameter, DelegateParameter"
   ]
  },
  {
   "cell_type": "markdown",
   "metadata": {},
   "source": [
    "First, we define a dummy instrument that returns something like a current measurement buffer starting from a DelegateParameter given by `sweep_start` to one given by `sweep_stop` in `n_points` steps. \n",
    "\n",
    "A function is added that allows you to set the parameters that `sweep_start` and `sweep_stop` delegates to."
   ]
  },
  {
   "cell_type": "code",
   "execution_count": 5,
   "metadata": {
    "execution": {
     "iopub.execute_input": "2020-12-21T09:45:51.273203Z",
     "iopub.status.busy": "2020-12-21T09:45:51.269534Z",
     "iopub.status.idle": "2020-12-21T09:45:51.277707Z",
     "shell.execute_reply": "2020-12-21T09:45:51.277237Z"
    }
   },
   "outputs": [],
   "source": [
    "class GeneratedSetPoints(Parameter):\n",
    "    \"\"\"\n",
    "    A parameter that generates a setpoint array from start, stop and num points\n",
    "    parameters.\n",
    "    \"\"\"\n",
    "    def __init__(self, startparam, stopparam, numpointsparam, *args, **kwargs):\n",
    "        super().__init__(*args, **kwargs)\n",
    "        self._startparam = startparam\n",
    "        self._stopparam = stopparam\n",
    "        self._numpointsparam = numpointsparam\n",
    "\n",
    "    def get_raw(self):\n",
    "        return np.linspace(self._startparam(), self._stopparam(),\n",
    "                              self._numpointsparam())\n",
    "\n",
    "\n",
    "    \n",
    "class DummyArray(ParameterWithSetpoints):\n",
    "    \n",
    "    def get_raw(self):\n",
    "        npoints = self.root_instrument.sweep_n_points.get_latest()\n",
    "        return np.random.rand(npoints)\n",
    "    \n",
    "\n",
    "class DummyBufferedDMM(Instrument):\n",
    "    \n",
    "    def __init__(self, name, **kwargs):\n",
    "        \n",
    "        super().__init__(name, **kwargs)\n",
    "            \n",
    "\n",
    "        self.add_parameter('sweep_start',\n",
    "                           source=None,\n",
    "                           parameter_class=DelegateParameter)\n",
    "\n",
    "        self.add_parameter('sweep_stop',\n",
    "                           source=None,\n",
    "                           parameter_class=DelegateParameter)\n",
    "\n",
    "        self.add_parameter('sweep_n_points',\n",
    "                           unit='',\n",
    "                           initial_value=10,\n",
    "                           vals=Numbers(1,1e3),\n",
    "                           get_cmd=None,\n",
    "                           set_cmd=None)\n",
    "        \n",
    "        self.add_parameter('setpoints',\n",
    "                           parameter_class=GeneratedSetPoints,\n",
    "                           startparam=self.sweep_start,\n",
    "                           stopparam=self.sweep_stop,\n",
    "                           numpointsparam=self.sweep_n_points,\n",
    "                           vals=Arrays(shape=(self.sweep_n_points.get_latest,)))\n",
    "                           \n",
    "        self.add_parameter('current',\n",
    "                           get_cmd=self._get_current_data,\n",
    "                           unit='A',\n",
    "                           setpoints=(self.setpoints,),\n",
    "                           label='Current',\n",
    "                           parameter_class=ParameterWithSetpoints,\n",
    "                           vals=Arrays(shape=(self.sweep_n_points.get_latest,)))\n",
    "\n",
    "    def _get_current_data(self):\n",
    "        npoints = self.sweep_n_points.get_latest()\n",
    "        return np.random.rand(npoints)\n",
    "\n",
    "    def set_sweep_parameters(self, start_parameter, stop_parameter, label=None):\n",
    "        if start_parameter.unit != stop_parameter.unit:\n",
    "            raise TypeError(\"You must sweep from and to \"\n",
    "                            \"parameters with the same unit\")\n",
    "        self.sweep_start.source = start_parameter\n",
    "        self.sweep_stop.source = stop_parameter\n",
    "        self.setpoints.unit = start_parameter.unit\n",
    "        if label != None:\n",
    "            self.setpoints.label = label\n",
    "\n",
    "\n",
    "class DummyWaveformGenerator(Instrument):\n",
    "    \n",
    "    def __init__(self, name, **kwargs):\n",
    "\n",
    "        super().__init__(name, **kwargs)\n",
    "\n",
    "        self.add_parameter('v_start',\n",
    "                           initial_value=0,\n",
    "                           unit='V',\n",
    "                           label='v start',\n",
    "                           vals=Numbers(0,1e3),\n",
    "                           get_cmd=None,\n",
    "                           set_cmd=None)\n",
    "\n",
    "        self.add_parameter('v_stop',\n",
    "                           initial_value=1,\n",
    "                           unit='V',\n",
    "                           label='v stop',\n",
    "                           vals=Numbers(1,1e3),\n",
    "                           get_cmd=None,\n",
    "                           set_cmd=None)\n",
    "\n"
   ]
  },
  {
   "cell_type": "code",
   "execution_count": 6,
   "metadata": {
    "execution": {
     "iopub.execute_input": "2020-12-21T09:45:51.281631Z",
     "iopub.status.busy": "2020-12-21T09:45:51.281113Z",
     "iopub.status.idle": "2020-12-21T09:45:51.385844Z",
     "shell.execute_reply": "2020-12-21T09:45:51.385176Z"
    }
   },
   "outputs": [
    {
     "name": "stdout",
     "output_type": "stream",
     "text": [
      "\r",
      "0it [00:00, ?it/s]"
     ]
    },
    {
     "name": "stdout",
     "output_type": "stream",
     "text": [
      "\r",
      "Upgrading database; v0 -> v1: : 0it [00:00, ?it/s]"
     ]
    },
    {
     "name": "stdout",
     "output_type": "stream",
     "text": [
      "\r",
      "Upgrading database; v0 -> v1: : 0it [00:00, ?it/s]"
     ]
    },
    {
     "name": "stdout",
     "output_type": "stream",
     "text": [
      "\n",
      "\r",
      "  0%|          | 0/1 [00:00<?, ?it/s]"
     ]
    },
    {
     "name": "stdout",
     "output_type": "stream",
     "text": [
      "\r",
      "Upgrading database; v1 -> v2:   0%|          | 0/1 [00:00<?, ?it/s]"
     ]
    },
    {
     "name": "stdout",
     "output_type": "stream",
     "text": [
      "\r",
      "Upgrading database; v1 -> v2: 100%|██████████| 1/1 [00:00<00:00, 473.40it/s]"
     ]
    },
    {
     "name": "stdout",
     "output_type": "stream",
     "text": [
      "\n",
      "\r",
      "0it [00:00, ?it/s]"
     ]
    },
    {
     "name": "stdout",
     "output_type": "stream",
     "text": [
      "\r",
      "Upgrading database; v2 -> v3: : 0it [00:00, ?it/s]"
     ]
    },
    {
     "name": "stdout",
     "output_type": "stream",
     "text": [
      "\r",
      "Upgrading database; v2 -> v3: : 0it [00:00, ?it/s]"
     ]
    },
    {
     "name": "stdout",
     "output_type": "stream",
     "text": [
      "\n",
      "\r",
      "0it [00:00, ?it/s]"
     ]
    },
    {
     "name": "stdout",
     "output_type": "stream",
     "text": [
      "\r",
      "Upgrading database; v3 -> v4: : 0it [00:00, ?it/s]"
     ]
    },
    {
     "name": "stdout",
     "output_type": "stream",
     "text": [
      "\r",
      "Upgrading database; v3 -> v4: : 0it [00:00, ?it/s]"
     ]
    },
    {
     "name": "stdout",
     "output_type": "stream",
     "text": [
      "\n",
      "\r",
      "  0%|          | 0/1 [00:00<?, ?it/s]"
     ]
    },
    {
     "name": "stdout",
     "output_type": "stream",
     "text": [
      "\r",
      "Upgrading database; v4 -> v5:   0%|          | 0/1 [00:00<?, ?it/s]"
     ]
    },
    {
     "name": "stdout",
     "output_type": "stream",
     "text": [
      "\r",
      "Upgrading database; v4 -> v5: 100%|██████████| 1/1 [00:00<00:00, 532.41it/s]"
     ]
    },
    {
     "name": "stdout",
     "output_type": "stream",
     "text": [
      "\n",
      "\r",
      "0it [00:00, ?it/s]"
     ]
    },
    {
     "name": "stdout",
     "output_type": "stream",
     "text": [
      "\r",
      "Upgrading database; v5 -> v6: : 0it [00:00, ?it/s]"
     ]
    },
    {
     "name": "stdout",
     "output_type": "stream",
     "text": [
      "\r",
      "Upgrading database; v5 -> v6: : 0it [00:00, ?it/s]"
     ]
    },
    {
     "name": "stdout",
     "output_type": "stream",
     "text": [
      "\n",
      "\r",
      "  0%|          | 0/1 [00:00<?, ?it/s]"
     ]
    },
    {
     "name": "stdout",
     "output_type": "stream",
     "text": [
      "\r",
      "Upgrading database; v6 -> v7:   0%|          | 0/1 [00:00<?, ?it/s]"
     ]
    },
    {
     "name": "stdout",
     "output_type": "stream",
     "text": [
      "\r",
      "Upgrading database; v6 -> v7: 100%|██████████| 1/1 [00:00<00:00, 284.22it/s]"
     ]
    },
    {
     "name": "stdout",
     "output_type": "stream",
     "text": [
      "\n",
      "\r",
      "  0%|          | 0/1 [00:00<?, ?it/s]"
     ]
    },
    {
     "name": "stdout",
     "output_type": "stream",
     "text": [
      "\r",
      "Upgrading database; v7 -> v8:   0%|          | 0/1 [00:00<?, ?it/s]"
     ]
    },
    {
     "name": "stdout",
     "output_type": "stream",
     "text": [
      "\r",
      "Upgrading database; v7 -> v8: 100%|██████████| 1/1 [00:00<00:00, 511.63it/s]"
     ]
    },
    {
     "name": "stdout",
     "output_type": "stream",
     "text": [
      "\n",
      "\r",
      "  0%|          | 0/1 [00:00<?, ?it/s]"
     ]
    },
    {
     "name": "stdout",
     "output_type": "stream",
     "text": [
      "\r",
      "Upgrading database; v8 -> v9:   0%|          | 0/1 [00:00<?, ?it/s]"
     ]
    },
    {
     "name": "stdout",
     "output_type": "stream",
     "text": [
      "\r",
      "Upgrading database; v8 -> v9: 100%|██████████| 1/1 [00:00<00:00, 567.18it/s]"
     ]
    },
    {
     "name": "stdout",
     "output_type": "stream",
     "text": [
      "\n"
     ]
    },
    {
     "data": {
      "text/plain": [
       "tutorial_ParameterWithSetpoints#no sample#1@/home/vsts/work/1/s/docs/examples/Parameters/tutorial_paramter_with_setpoints.db\n",
       "----------------------------------------------------------------------------------------------------------------------------"
      ]
     },
     "execution_count": 1,
     "metadata": {},
     "output_type": "execute_result"
    }
   ],
   "source": [
    "tutorial_db_path = os.path.join(os.getcwd(), 'tutorial_paramter_with_setpoints.db')\n",
    "initialise_or_create_database_at(tutorial_db_path)\n",
    "load_or_create_experiment(experiment_name='tutorial_ParameterWithSetpoints', sample_name=\"no sample\")"
   ]
  },
  {
   "cell_type": "code",
   "execution_count": 7,
   "metadata": {
    "execution": {
     "iopub.execute_input": "2020-12-21T09:45:51.391055Z",
     "iopub.status.busy": "2020-12-21T09:45:51.390498Z",
     "iopub.status.idle": "2020-12-21T09:45:51.393747Z",
     "shell.execute_reply": "2020-12-21T09:45:51.393260Z"
    }
   },
   "outputs": [],
   "source": [
    "dmm = DummyBufferedDMM('dmm')\n",
    "wg = DummyWaveformGenerator('wg')"
   ]
  },
  {
   "cell_type": "markdown",
   "metadata": {},
   "source": [
    "First, we assume that we have wired up our instruments such that the current buffer will \n",
    "correspond to a voltage sweep from `v_start` to `v_stop`\n",
    "\n",
    "For a real world experiment this would probably be wired such that the DMM is triggered at the start of the voltage sweep and then automatically measures `sweep_n_points` in the time that it takes the waveform generator to sweep to `v_stop`\n"
   ]
  },
  {
   "cell_type": "code",
   "execution_count": 8,
   "metadata": {
    "execution": {
     "iopub.execute_input": "2020-12-21T09:45:51.398132Z",
     "iopub.status.busy": "2020-12-21T09:45:51.397150Z",
     "iopub.status.idle": "2020-12-21T09:45:51.398776Z",
     "shell.execute_reply": "2020-12-21T09:45:51.399308Z"
    }
   },
   "outputs": [],
   "source": [
    "dmm.set_sweep_parameters(wg.v_start, wg.v_stop, label=\"Voltage\")"
   ]
  },
  {
   "cell_type": "code",
   "execution_count": 9,
   "metadata": {
    "execution": {
     "iopub.execute_input": "2020-12-21T09:45:51.403574Z",
     "iopub.status.busy": "2020-12-21T09:45:51.402511Z",
     "iopub.status.idle": "2020-12-21T09:45:51.404021Z",
     "shell.execute_reply": "2020-12-21T09:45:51.404516Z"
    }
   },
   "outputs": [],
   "source": [
    "wg.v_start(0)\n",
    "wg.v_stop(1)\n",
    "dmm.sweep_n_points(501)"
   ]
  },
  {
   "cell_type": "markdown",
   "metadata": {},
   "source": [
    "And we can grab the setpoints axis"
   ]
  },
  {
   "cell_type": "code",
   "execution_count": 10,
   "metadata": {
    "execution": {
     "iopub.execute_input": "2020-12-21T09:45:51.408456Z",
     "iopub.status.busy": "2020-12-21T09:45:51.407071Z",
     "iopub.status.idle": "2020-12-21T09:45:51.410356Z",
     "shell.execute_reply": "2020-12-21T09:45:51.410892Z"
    }
   },
   "outputs": [
    {
     "data": {
      "text/plain": [
       "501"
      ]
     },
     "execution_count": 1,
     "metadata": {},
     "output_type": "execute_result"
    }
   ],
   "source": [
    "dmm.sweep_n_points()"
   ]
  },
  {
   "cell_type": "code",
   "execution_count": 11,
   "metadata": {
    "execution": {
     "iopub.execute_input": "2020-12-21T09:45:51.415480Z",
     "iopub.status.busy": "2020-12-21T09:45:51.414940Z",
     "iopub.status.idle": "2020-12-21T09:45:51.417200Z",
     "shell.execute_reply": "2020-12-21T09:45:51.417670Z"
    },
    "scrolled": false
   },
   "outputs": [
    {
     "data": {
      "text/plain": [
       "501"
      ]
     },
     "execution_count": 1,
     "metadata": {},
     "output_type": "execute_result"
    }
   ],
   "source": [
    "sp_axis = dmm.setpoints()\n",
    "len(sp_axis)"
   ]
  },
  {
   "cell_type": "code",
   "execution_count": 12,
   "metadata": {
    "execution": {
     "iopub.execute_input": "2020-12-21T09:45:51.422254Z",
     "iopub.status.busy": "2020-12-21T09:45:51.421056Z",
     "iopub.status.idle": "2020-12-21T09:45:51.425133Z",
     "shell.execute_reply": "2020-12-21T09:45:51.424568Z"
    }
   },
   "outputs": [
    {
     "data": {
      "text/plain": [
       "array([0.   , 0.002, 0.004, 0.006, 0.008, 0.01 , 0.012, 0.014, 0.016,\n",
       "       0.018])"
      ]
     },
     "execution_count": 1,
     "metadata": {},
     "output_type": "execute_result"
    }
   ],
   "source": [
    "sp_axis[:10]"
   ]
  },
  {
   "cell_type": "markdown",
   "metadata": {},
   "source": [
    "As expected we get a result wit 501 points as we asked for an axis with 501 points. "
   ]
  },
  {
   "cell_type": "code",
   "execution_count": 13,
   "metadata": {
    "execution": {
     "iopub.execute_input": "2020-12-21T09:45:51.429986Z",
     "iopub.status.busy": "2020-12-21T09:45:51.428594Z",
     "iopub.status.idle": "2020-12-21T09:45:51.430497Z",
     "shell.execute_reply": "2020-12-21T09:45:51.431023Z"
    }
   },
   "outputs": [],
   "source": [
    "dmm.setpoints.validate(dmm.setpoints.get())"
   ]
  },
  {
   "cell_type": "markdown",
   "metadata": {},
   "source": [
    "Naturally, we can also get the current buffer."
   ]
  },
  {
   "cell_type": "code",
   "execution_count": 14,
   "metadata": {
    "execution": {
     "iopub.execute_input": "2020-12-21T09:45:51.435323Z",
     "iopub.status.busy": "2020-12-21T09:45:51.433780Z",
     "iopub.status.idle": "2020-12-21T09:45:51.437217Z",
     "shell.execute_reply": "2020-12-21T09:45:51.437731Z"
    },
    "scrolled": false
   },
   "outputs": [
    {
     "data": {
      "text/plain": [
       "501"
      ]
     },
     "execution_count": 1,
     "metadata": {},
     "output_type": "execute_result"
    }
   ],
   "source": [
    "current = dmm.current.get()\n",
    "len(current)"
   ]
  },
  {
   "cell_type": "markdown",
   "metadata": {},
   "source": [
    "When we validate a `ParameterWithSetpoints`, we automatically validate that the shape is consistent between the parameters and its setpoints. As well as validating the shape as above."
   ]
  },
  {
   "cell_type": "code",
   "execution_count": 15,
   "metadata": {
    "execution": {
     "iopub.execute_input": "2020-12-21T09:45:51.441445Z",
     "iopub.status.busy": "2020-12-21T09:45:51.440531Z",
     "iopub.status.idle": "2020-12-21T09:45:51.443657Z",
     "shell.execute_reply": "2020-12-21T09:45:51.443105Z"
    }
   },
   "outputs": [],
   "source": [
    "dmm.current.validate(dmm.current.get())"
   ]
  },
  {
   "cell_type": "markdown",
   "metadata": {},
   "source": [
    "The consistent shapes can be validated explicitly."
   ]
  },
  {
   "cell_type": "code",
   "execution_count": 16,
   "metadata": {
    "execution": {
     "iopub.execute_input": "2020-12-21T09:45:51.447673Z",
     "iopub.status.busy": "2020-12-21T09:45:51.446769Z",
     "iopub.status.idle": "2020-12-21T09:45:51.449024Z",
     "shell.execute_reply": "2020-12-21T09:45:51.448505Z"
    }
   },
   "outputs": [],
   "source": [
    "dmm.current.validate_consistent_shape()"
   ]
  },
  {
   "cell_type": "markdown",
   "metadata": {},
   "source": [
    "We can inspect the setpoints of the spectrum."
   ]
  },
  {
   "cell_type": "code",
   "execution_count": 17,
   "metadata": {
    "execution": {
     "iopub.execute_input": "2020-12-21T09:45:51.452925Z",
     "iopub.status.busy": "2020-12-21T09:45:51.451474Z",
     "iopub.status.idle": "2020-12-21T09:45:51.454845Z",
     "shell.execute_reply": "2020-12-21T09:45:51.455370Z"
    }
   },
   "outputs": [
    {
     "data": {
      "text/plain": [
       "(<__main__.GeneratedSetPoints: setpoints at 139964051445072>,)"
      ]
     },
     "execution_count": 1,
     "metadata": {},
     "output_type": "execute_result"
    }
   ],
   "source": [
    "dmm.current.setpoints"
   ]
  },
  {
   "cell_type": "markdown",
   "metadata": {},
   "source": [
    "## Measurement"
   ]
  },
  {
   "cell_type": "code",
   "execution_count": 18,
   "metadata": {
    "execution": {
     "iopub.execute_input": "2020-12-21T09:45:51.459487Z",
     "iopub.status.busy": "2020-12-21T09:45:51.458397Z",
     "iopub.status.idle": "2020-12-21T09:45:51.641578Z",
     "shell.execute_reply": "2020-12-21T09:45:51.641074Z"
    },
    "scrolled": false
   },
   "outputs": [
    {
     "name": "stdout",
     "output_type": "stream",
     "text": [
      "Starting experimental run with id: 1. \n"
     ]
    },
    {
     "data": {
      "text/plain": [
       "([<AxesSubplot:title={'center':'Run #1, Experiment tutorial_ParameterWithSetpoints (no sample)'}, xlabel='Voltage (V)', ylabel='Current (mA)'>],\n",
       " [None])"
      ]
     },
     "execution_count": 1,
     "metadata": {},
     "output_type": "execute_result"
    },
    {
     "data": {
      "image/png": "[encoded data removed]",
      "text/plain": [
       "<Figure size 432x288 with 1 Axes>"
      ]
     },
     "metadata": {
      "needs_background": "light"
     },
     "output_type": "display_data"
    }
   ],
   "source": [
    "meas = Measurement()\n",
    "meas.register_parameter(dmm.current)\n",
    "\n",
    "with meas.run() as datasaver:\n",
    "    datasaver.add_result((dmm.current, dmm.current()))\n",
    "    \n",
    "    dataid = datasaver.run_id\n",
    "plot_dataset(datasaver.dataset)"
   ]
  },
  {
   "cell_type": "code",
   "execution_count": 19,
   "metadata": {
    "execution": {
     "iopub.execute_input": "2020-12-21T09:45:51.645298Z",
     "iopub.status.busy": "2020-12-21T09:45:51.644435Z",
     "iopub.status.idle": "2020-12-21T09:45:51.648583Z",
     "shell.execute_reply": "2020-12-21T09:45:51.648120Z"
    }
   },
   "outputs": [],
   "source": [
    "wg.v_stop(10)"
   ]
  },
  {
   "cell_type": "code",
   "execution_count": 20,
   "metadata": {
    "execution": {
     "iopub.execute_input": "2020-12-21T09:45:51.653764Z",
     "iopub.status.busy": "2020-12-21T09:45:51.652841Z",
     "iopub.status.idle": "2020-12-21T09:45:51.812952Z",
     "shell.execute_reply": "2020-12-21T09:45:51.812366Z"
    }
   },
   "outputs": [
    {
     "name": "stdout",
     "output_type": "stream",
     "text": [
      "Starting experimental run with id: 2. \n"
     ]
    },
    {
     "data": {
      "text/plain": [
       "([<AxesSubplot:title={'center':'Run #2, Experiment tutorial_ParameterWithSetpoints (no sample)'}, xlabel='Voltage (V)', ylabel='Current (mA)'>],\n",
       " [None])"
      ]
     },
     "execution_count": 1,
     "metadata": {},
     "output_type": "execute_result"
    },
    {
     "data": {
      "image/png": "[encoded data removed]",
      "text/plain": [
       "<Figure size 432x288 with 1 Axes>"
      ]
     },
     "metadata": {
      "needs_background": "light"
     },
     "output_type": "display_data"
    }
   ],
   "source": [
    "meas = Measurement()\n",
    "meas.register_parameter(dmm.current)\n",
    "\n",
    "with meas.run() as datasaver:\n",
    "    datasaver.add_result((dmm.current, dmm.current()))\n",
    "    \n",
    "    dataid = datasaver.run_id\n",
    "plot_dataset(datasaver.dataset)"
   ]
  },
  {
   "cell_type": "markdown",
   "metadata": {},
   "source": [
    "Now imagine that we change our wiring such that we are sweeping a magnetic field while samling the current."
   ]
  },
  {
   "cell_type": "code",
   "execution_count": 21,
   "metadata": {
    "execution": {
     "iopub.execute_input": "2020-12-21T09:45:51.819235Z",
     "iopub.status.busy": "2020-12-21T09:45:51.818646Z",
     "iopub.status.idle": "2020-12-21T09:45:51.821134Z",
     "shell.execute_reply": "2020-12-21T09:45:51.821663Z"
    }
   },
   "outputs": [],
   "source": [
    "class DummyMagnetPS(Instrument):\n",
    "    \"\"\"\n",
    "    We assume this is a powersupply for an magnet that allows\n",
    "    you to set the magnetic field.\n",
    "    \"\"\"\n",
    "    \n",
    "    def __init__(self, name, **kwargs):\n",
    "\n",
    "        super().__init__(name, **kwargs)\n",
    "\n",
    "        self.add_parameter('b_start',\n",
    "                           initial_value=0,\n",
    "                           unit='T',\n",
    "                           label='B start',\n",
    "                           vals=Numbers(0,7),\n",
    "                           get_cmd=None,\n",
    "                           set_cmd=None)\n",
    "\n",
    "        self.add_parameter('b_stop',\n",
    "                           initial_value=1,\n",
    "                           unit='T',\n",
    "                           label='b stop',\n",
    "                           vals=Numbers(0,7),\n",
    "                           get_cmd=None,\n",
    "                           set_cmd=None)"
   ]
  },
  {
   "cell_type": "code",
   "execution_count": 22,
   "metadata": {
    "execution": {
     "iopub.execute_input": "2020-12-21T09:45:51.825815Z",
     "iopub.status.busy": "2020-12-21T09:45:51.825237Z",
     "iopub.status.idle": "2020-12-21T09:45:51.829020Z",
     "shell.execute_reply": "2020-12-21T09:45:51.828307Z"
    }
   },
   "outputs": [],
   "source": [
    "mpsu = DummyMagnetPS(name='psu1')"
   ]
  },
  {
   "cell_type": "code",
   "execution_count": 23,
   "metadata": {
    "execution": {
     "iopub.execute_input": "2020-12-21T09:45:51.832521Z",
     "iopub.status.busy": "2020-12-21T09:45:51.831697Z",
     "iopub.status.idle": "2020-12-21T09:45:51.835102Z",
     "shell.execute_reply": "2020-12-21T09:45:51.835519Z"
    }
   },
   "outputs": [],
   "source": [
    "dmm.set_sweep_parameters(mpsu.b_start, mpsu.b_stop, label=\"Magnetic field\")"
   ]
  },
  {
   "cell_type": "code",
   "execution_count": 24,
   "metadata": {
    "execution": {
     "iopub.execute_input": "2020-12-21T09:45:51.840215Z",
     "iopub.status.busy": "2020-12-21T09:45:51.839699Z",
     "iopub.status.idle": "2020-12-21T09:45:51.996535Z",
     "shell.execute_reply": "2020-12-21T09:45:51.995902Z"
    }
   },
   "outputs": [
    {
     "name": "stdout",
     "output_type": "stream",
     "text": [
      "Starting experimental run with id: 3. \n"
     ]
    },
    {
     "data": {
      "text/plain": [
       "([<AxesSubplot:title={'center':'Run #3, Experiment tutorial_ParameterWithSetpoints (no sample)'}, xlabel='Magnetic field (T)', ylabel='Current (mA)'>],\n",
       " [None])"
      ]
     },
     "execution_count": 1,
     "metadata": {},
     "output_type": "execute_result"
    },
    {
     "data": {
      "image/png": "[encoded data removed]",
      "text/plain": [
       "<Figure size 432x288 with 1 Axes>"
      ]
     },
     "metadata": {
      "needs_background": "light"
     },
     "output_type": "display_data"
    }
   ],
   "source": [
    "meas = Measurement()\n",
    "meas.register_parameter(dmm.current)\n",
    "\n",
    "with meas.run() as datasaver:\n",
    "    datasaver.add_result((dmm.current, dmm.current()))\n",
    "    \n",
    "    dataid = datasaver.run_id\n",
    "plot_dataset(datasaver.dataset)"
   ]
  }
 ],
 "metadata": {
  "kernelspec": {
   "display_name": "Python 3",
   "language": "python",
   "name": "python3"
  },
  "language_info": {
   "codemirror_mode": {
    "name": "ipython",
    "version": 3
   },
   "file_extension": ".py",
   "mimetype": "text/x-python",
   "name": "python",
   "nbconvert_exporter": "python",
   "pygments_lexer": "ipython3",
   "version": "3.7.9"
  },
  "toc": {
   "base_numbering": 1,
   "nav_menu": {},
   "number_sections": true,
   "sideBar": true,
   "skip_h1_title": false,
   "title_cell": "Table of Contents",
   "title_sidebar": "Contents",
   "toc_cell": false,
   "toc_position": {},
   "toc_section_display": true,
   "toc_window_display": false
  },
  "varInspector": {
   "cols": {
    "lenName": 16,
    "lenType": 16,
    "lenVar": 40
   },
   "kernels_config": {
    "python": {
     "delete_cmd_postfix": "",
     "delete_cmd_prefix": "del ",
     "library": "var_list.py",
     "varRefreshCmd": "print(var_dic_list())"
    },
    "r": {
     "delete_cmd_postfix": ") ",
     "delete_cmd_prefix": "rm(",
     "library": "var_list.r",
     "varRefreshCmd": "cat(var_dic_list()) "
    }
   },
   "types_to_exclude": [
    "module",
    "function",
    "builtin_function_or_method",
    "instance",
    "_Feature"
   ],
   "window_display": false
  }
 },
 "nbformat": 4,
 "nbformat_minor": 2
}
