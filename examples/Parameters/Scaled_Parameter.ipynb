{
 "cells": [
  {
   "cell_type": "markdown",
   "metadata": {},
   "source": [
    "# ScaledParameter\n",
    "Sometimes the values that we set/get on the computer are not the physical value that reach/originate from the sample. The ScaledParameter can be used to convert quantities with a simple linear relationship without offset."
   ]
  },
  {
   "cell_type": "code",
   "execution_count": 1,
   "metadata": {
    "execution": {
     "iopub.execute_input": "2020-09-26T05:52:27.054748Z",
     "iopub.status.busy": "2020-09-26T05:52:27.054002Z",
     "iopub.status.idle": "2020-09-26T05:52:28.054649Z",
     "shell.execute_reply": "2020-09-26T05:52:28.055086Z"
    }
   },
   "outputs": [
    {
     "name": "stdout",
     "output_type": "stream",
     "text": [
      "Logging hadn't been started.\n",
      "Activating auto-logging. Current session state plus future input saved.\n",
      "Filename       : /home/vsts/.qcodes/logs/command_history.log\n",
      "Mode           : append\n",
      "Output logging : True\n",
      "Raw input log  : False\n",
      "Timestamping   : True\n",
      "State          : active\n"
     ]
    },
    {
     "name": "stdout",
     "output_type": "stream",
     "text": [
      "Qcodes Logfile : /home/vsts/.qcodes/logs/200926-21921-qcodes.log\n"
     ]
    }
   ],
   "source": [
    "from qcodes import ManualParameter, ScaledParameter"
   ]
  },
  {
   "cell_type": "code",
   "execution_count": 2,
   "metadata": {
    "execution": {
     "iopub.execute_input": "2020-09-26T05:52:28.059969Z",
     "iopub.status.busy": "2020-09-26T05:52:28.059382Z",
     "iopub.status.idle": "2020-09-26T05:52:28.062852Z",
     "shell.execute_reply": "2020-09-26T05:52:28.062397Z"
    }
   },
   "outputs": [],
   "source": [
    "dac0 = ManualParameter('dac0', unit = 'V')\n",
    "dac1 = ManualParameter('dac1', unit = 'V')\n",
    "amplitude = ManualParameter('amplitude', initial_value=3.14, unit = 'V')"
   ]
  },
  {
   "cell_type": "markdown",
   "metadata": {},
   "source": [
    "## Resistive voltage divider\n",
    "The simplest case is a resistive divider, where the set voltage is divided by a fixed amount."
   ]
  },
  {
   "cell_type": "code",
   "execution_count": 3,
   "metadata": {
    "execution": {
     "iopub.execute_input": "2020-09-26T05:52:28.067494Z",
     "iopub.status.busy": "2020-09-26T05:52:28.066344Z",
     "iopub.status.idle": "2020-09-26T05:52:28.068133Z",
     "shell.execute_reply": "2020-09-26T05:52:28.068564Z"
    }
   },
   "outputs": [],
   "source": [
    "vd = ScaledParameter(dac0, division = 10)"
   ]
  },
  {
   "cell_type": "code",
   "execution_count": 4,
   "metadata": {
    "execution": {
     "iopub.execute_input": "2020-09-26T05:52:28.072859Z",
     "iopub.status.busy": "2020-09-26T05:52:28.071891Z",
     "iopub.status.idle": "2020-09-26T05:52:28.073776Z",
     "shell.execute_reply": "2020-09-26T05:52:28.074220Z"
    }
   },
   "outputs": [],
   "source": [
    "vd(10)"
   ]
  },
  {
   "cell_type": "code",
   "execution_count": 5,
   "metadata": {
    "execution": {
     "iopub.execute_input": "2020-09-26T05:52:28.079360Z",
     "iopub.status.busy": "2020-09-26T05:52:28.077636Z",
     "iopub.status.idle": "2020-09-26T05:52:28.081434Z",
     "shell.execute_reply": "2020-09-26T05:52:28.081887Z"
    }
   },
   "outputs": [
    {
     "name": "stdout",
     "output_type": "stream",
     "text": [
      "Vd = 10.0 V , real setted value = 100 V\n"
     ]
    }
   ],
   "source": [
    "print('Vd =',vd(), vd.unit,', real setted value =', dac0(), dac0.unit)"
   ]
  },
  {
   "cell_type": "markdown",
   "metadata": {},
   "source": [
    "## Voltage multiplier\n",
    "If the voltage is amplified, we can specify a `gain` value instead of `division`."
   ]
  },
  {
   "cell_type": "code",
   "execution_count": 6,
   "metadata": {
    "execution": {
     "iopub.execute_input": "2020-09-26T05:52:28.086215Z",
     "iopub.status.busy": "2020-09-26T05:52:28.085656Z",
     "iopub.status.idle": "2020-09-26T05:52:28.087772Z",
     "shell.execute_reply": "2020-09-26T05:52:28.088187Z"
    }
   },
   "outputs": [],
   "source": [
    "vb = ScaledParameter(dac1, gain = 30, name = 'Vb')"
   ]
  },
  {
   "cell_type": "code",
   "execution_count": 7,
   "metadata": {
    "execution": {
     "iopub.execute_input": "2020-09-26T05:52:28.092608Z",
     "iopub.status.busy": "2020-09-26T05:52:28.091419Z",
     "iopub.status.idle": "2020-09-26T05:52:28.093217Z",
     "shell.execute_reply": "2020-09-26T05:52:28.093649Z"
    }
   },
   "outputs": [],
   "source": [
    "vb(5)"
   ]
  },
  {
   "cell_type": "code",
   "execution_count": 8,
   "metadata": {
    "execution": {
     "iopub.execute_input": "2020-09-26T05:52:28.098941Z",
     "iopub.status.busy": "2020-09-26T05:52:28.097814Z",
     "iopub.status.idle": "2020-09-26T05:52:28.101830Z",
     "shell.execute_reply": "2020-09-26T05:52:28.100415Z"
    }
   },
   "outputs": [
    {
     "name": "stdout",
     "output_type": "stream",
     "text": [
      "Vb = 10.0 V , Original_value = 0.16666666666666666 V\n"
     ]
    }
   ],
   "source": [
    "print('Vb =',vd(), vb.unit,', Original_value =', dac1(), dac1.unit)"
   ]
  },
  {
   "cell_type": "markdown",
   "metadata": {},
   "source": [
    "## Transimpedance amplifier\n",
    "The ScaledParameter can be used also for quantities that are read, like a current read by a transimpedance amplifier, digitized by a multimeter.\n",
    "We can also specify a different unit from the wrapped parameter. The semantic of gain/division is inverted compared to the previous cases, since it is a value that we read."
   ]
  },
  {
   "cell_type": "code",
   "execution_count": 9,
   "metadata": {
    "execution": {
     "iopub.execute_input": "2020-09-26T05:52:28.106919Z",
     "iopub.status.busy": "2020-09-26T05:52:28.105980Z",
     "iopub.status.idle": "2020-09-26T05:52:28.108444Z",
     "shell.execute_reply": "2020-09-26T05:52:28.108007Z"
    }
   },
   "outputs": [],
   "source": [
    "Id = ScaledParameter(amplitude, division = 1e6, name = 'Id', unit = 'A')"
   ]
  },
  {
   "cell_type": "code",
   "execution_count": 10,
   "metadata": {
    "execution": {
     "iopub.execute_input": "2020-09-26T05:52:28.114570Z",
     "iopub.status.busy": "2020-09-26T05:52:28.113536Z",
     "iopub.status.idle": "2020-09-26T05:52:28.120747Z",
     "shell.execute_reply": "2020-09-26T05:52:28.120267Z"
    }
   },
   "outputs": [
    {
     "name": "stdout",
     "output_type": "stream",
     "text": [
      "Id = 3.14e-06 A , Read_value = 3.14 V\n"
     ]
    }
   ],
   "source": [
    "print('Id =',Id(), Id.unit,', Read_value =', amplitude(), amplitude.unit)"
   ]
  },
  {
   "cell_type": "markdown",
   "metadata": {},
   "source": [
    "The gain can be manually changed at any time"
   ]
  },
  {
   "cell_type": "code",
   "execution_count": 11,
   "metadata": {
    "execution": {
     "iopub.execute_input": "2020-09-26T05:52:28.125993Z",
     "iopub.status.busy": "2020-09-26T05:52:28.124849Z",
     "iopub.status.idle": "2020-09-26T05:52:28.128391Z",
     "shell.execute_reply": "2020-09-26T05:52:28.127913Z"
    }
   },
   "outputs": [
    {
     "name": "stdout",
     "output_type": "stream",
     "text": [
      "Id = 3.14e-08 A , Read_value = 3.14 V\n"
     ]
    }
   ],
   "source": [
    "Id.division = 1e8\n",
    "print('Id =',Id(), Id.unit,', Read_value =', amplitude(), amplitude.unit)"
   ]
  },
  {
   "cell_type": "markdown",
   "metadata": {},
   "source": [
    "The gain/division can be itself a Qcodes paramter, for example if is a gain set by a remote instrument"
   ]
  },
  {
   "cell_type": "code",
   "execution_count": 12,
   "metadata": {
    "execution": {
     "iopub.execute_input": "2020-09-26T05:52:28.133468Z",
     "iopub.status.busy": "2020-09-26T05:52:28.131894Z",
     "iopub.status.idle": "2020-09-26T05:52:28.134078Z",
     "shell.execute_reply": "2020-09-26T05:52:28.134514Z"
    }
   },
   "outputs": [],
   "source": [
    "remote_gain = ManualParameter('remote_gain', initial_value=1e6, unit = 'V/A')"
   ]
  },
  {
   "cell_type": "code",
   "execution_count": 13,
   "metadata": {
    "execution": {
     "iopub.execute_input": "2020-09-26T05:52:28.139735Z",
     "iopub.status.busy": "2020-09-26T05:52:28.138617Z",
     "iopub.status.idle": "2020-09-26T05:52:28.141447Z",
     "shell.execute_reply": "2020-09-26T05:52:28.140983Z"
    }
   },
   "outputs": [
    {
     "name": "stdout",
     "output_type": "stream",
     "text": [
      "Id = 3.14e-06 A , Read_value = 3.14 V\n"
     ]
    }
   ],
   "source": [
    "Id.division = remote_gain\n",
    "print('Id =',Id(), Id.unit,', Read_value =', amplitude(), amplitude.unit)"
   ]
  },
  {
   "cell_type": "code",
   "execution_count": 14,
   "metadata": {
    "execution": {
     "iopub.execute_input": "2020-09-26T05:52:28.146750Z",
     "iopub.status.busy": "2020-09-26T05:52:28.145589Z",
     "iopub.status.idle": "2020-09-26T05:52:28.148641Z",
     "shell.execute_reply": "2020-09-26T05:52:28.148172Z"
    }
   },
   "outputs": [
    {
     "name": "stdout",
     "output_type": "stream",
     "text": [
      "Id = 3.14e-08 A , Read_value = 3.14 V\n"
     ]
    }
   ],
   "source": [
    "remote_gain(1e8)\n",
    "print('Id =',Id(), Id.unit,', Read_value =', amplitude(), amplitude.unit)"
   ]
  }
 ],
 "metadata": {
  "kernelspec": {
   "display_name": "Python 3",
   "language": "python",
   "name": "python3"
  },
  "language_info": {
   "codemirror_mode": {
    "name": "ipython",
    "version": 3
   },
   "file_extension": ".py",
   "mimetype": "text/x-python",
   "name": "python",
   "nbconvert_exporter": "python",
   "pygments_lexer": "ipython3",
   "version": "3.7.7"
  },
  "toc": {
   "base_numbering": 1,
   "nav_menu": {},
   "number_sections": true,
   "sideBar": true,
   "skip_h1_title": false,
   "title_cell": "Table of Contents",
   "title_sidebar": "Contents",
   "toc_cell": false,
   "toc_position": {},
   "toc_section_display": true,
   "toc_window_display": false
  },
  "varInspector": {
   "cols": {
    "lenName": 16,
    "lenType": 16,
    "lenVar": 40
   },
   "kernels_config": {
    "python": {
     "delete_cmd_postfix": "",
     "delete_cmd_prefix": "del ",
     "library": "var_list.py",
     "varRefreshCmd": "print(var_dic_list())"
    },
    "r": {
     "delete_cmd_postfix": ") ",
     "delete_cmd_prefix": "rm(",
     "library": "var_list.r",
     "varRefreshCmd": "cat(var_dic_list()) "
    }
   },
   "types_to_exclude": [
    "module",
    "function",
    "builtin_function_or_method",
    "instance",
    "_Feature"
   ],
   "window_display": false
  }
 },
 "nbformat": 4,
 "nbformat_minor": 2
}
