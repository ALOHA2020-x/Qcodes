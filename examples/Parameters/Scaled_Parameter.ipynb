{
 "cells": [
  {
   "cell_type": "markdown",
   "metadata": {},
   "source": [
    "# ScaledParameter\n",
    "Sometimes the values that we set/get on the computer are not the physical value that reach/originate from the sample. The ScaledParameter can be used to convert quantities with a simple linear relationship without offset."
   ]
  },
  {
   "cell_type": "code",
   "execution_count": 1,
   "metadata": {
    "execution": {
     "iopub.execute_input": "2021-05-28T07:54:59.429421Z",
     "iopub.status.busy": "2021-05-28T07:54:59.428710Z",
     "iopub.status.idle": "2021-05-28T07:55:00.640319Z",
     "shell.execute_reply": "2021-05-28T07:55:00.639629Z"
    }
   },
   "outputs": [
    {
     "name": "stdout",
     "output_type": "stream",
     "text": [
      "Logging hadn't been started.\n",
      "Activating auto-logging. Current session state plus future input saved.\n",
      "Filename       : /home/runner/.qcodes/logs/command_history.log\n",
      "Mode           : append\n",
      "Output logging : True\n",
      "Raw input log  : False\n",
      "Timestamping   : True\n",
      "State          : active\n"
     ]
    },
    {
     "name": "stdout",
     "output_type": "stream",
     "text": [
      "Qcodes Logfile : /home/runner/.qcodes/logs/210528-7660-qcodes.log\n"
     ]
    }
   ],
   "source": [
    "from qcodes import ManualParameter, ScaledParameter"
   ]
  },
  {
   "cell_type": "code",
   "execution_count": 2,
   "metadata": {
    "execution": {
     "iopub.execute_input": "2021-05-28T07:55:00.645592Z",
     "iopub.status.busy": "2021-05-28T07:55:00.645016Z",
     "iopub.status.idle": "2021-05-28T07:55:00.648855Z",
     "shell.execute_reply": "2021-05-28T07:55:00.648311Z"
    }
   },
   "outputs": [],
   "source": [
    "dac0 = ManualParameter('dac0', unit = 'V')\n",
    "dac1 = ManualParameter('dac1', unit = 'V')\n",
    "amplitude = ManualParameter('amplitude', initial_value=3.14, unit = 'V')"
   ]
  },
  {
   "cell_type": "markdown",
   "metadata": {},
   "source": [
    "## Resistive voltage divider\n",
    "The simplest case is a resistive divider, where the set voltage is divided by a fixed amount."
   ]
  },
  {
   "cell_type": "code",
   "execution_count": 3,
   "metadata": {
    "execution": {
     "iopub.execute_input": "2021-05-28T07:55:00.652974Z",
     "iopub.status.busy": "2021-05-28T07:55:00.652217Z",
     "iopub.status.idle": "2021-05-28T07:55:00.656799Z",
     "shell.execute_reply": "2021-05-28T07:55:00.656174Z"
    }
   },
   "outputs": [],
   "source": [
    "vd = ScaledParameter(dac0, division = 10)"
   ]
  },
  {
   "cell_type": "code",
   "execution_count": 4,
   "metadata": {
    "execution": {
     "iopub.execute_input": "2021-05-28T07:55:00.661519Z",
     "iopub.status.busy": "2021-05-28T07:55:00.660124Z",
     "iopub.status.idle": "2021-05-28T07:55:00.662227Z",
     "shell.execute_reply": "2021-05-28T07:55:00.662713Z"
    }
   },
   "outputs": [],
   "source": [
    "vd(10)"
   ]
  },
  {
   "cell_type": "code",
   "execution_count": 5,
   "metadata": {
    "execution": {
     "iopub.execute_input": "2021-05-28T07:55:00.668883Z",
     "iopub.status.busy": "2021-05-28T07:55:00.667399Z",
     "iopub.status.idle": "2021-05-28T07:55:00.671142Z",
     "shell.execute_reply": "2021-05-28T07:55:00.670620Z"
    }
   },
   "outputs": [
    {
     "name": "stdout",
     "output_type": "stream",
     "text": [
      "Vd = 10.0 V , real setted value = 100 V\n"
     ]
    }
   ],
   "source": [
    "print('Vd =',vd(), vd.unit,', real setted value =', dac0(), dac0.unit)"
   ]
  },
  {
   "cell_type": "markdown",
   "metadata": {},
   "source": [
    "## Voltage multiplier\n",
    "If the voltage is amplified, we can specify a `gain` value instead of `division`."
   ]
  },
  {
   "cell_type": "code",
   "execution_count": 6,
   "metadata": {
    "execution": {
     "iopub.execute_input": "2021-05-28T07:55:00.676434Z",
     "iopub.status.busy": "2021-05-28T07:55:00.675006Z",
     "iopub.status.idle": "2021-05-28T07:55:00.677074Z",
     "shell.execute_reply": "2021-05-28T07:55:00.677559Z"
    }
   },
   "outputs": [],
   "source": [
    "vb = ScaledParameter(dac1, gain = 30, name = 'Vb')"
   ]
  },
  {
   "cell_type": "code",
   "execution_count": 7,
   "metadata": {
    "execution": {
     "iopub.execute_input": "2021-05-28T07:55:00.682789Z",
     "iopub.status.busy": "2021-05-28T07:55:00.681184Z",
     "iopub.status.idle": "2021-05-28T07:55:00.683424Z",
     "shell.execute_reply": "2021-05-28T07:55:00.683898Z"
    }
   },
   "outputs": [],
   "source": [
    "vb(5)"
   ]
  },
  {
   "cell_type": "code",
   "execution_count": 8,
   "metadata": {
    "execution": {
     "iopub.execute_input": "2021-05-28T07:55:00.690264Z",
     "iopub.status.busy": "2021-05-28T07:55:00.688601Z",
     "iopub.status.idle": "2021-05-28T07:55:00.692991Z",
     "shell.execute_reply": "2021-05-28T07:55:00.692149Z"
    }
   },
   "outputs": [
    {
     "name": "stdout",
     "output_type": "stream",
     "text": [
      "Vb = 10.0 V , Original_value = 0.16666666666666666 V\n"
     ]
    }
   ],
   "source": [
    "print('Vb =',vd(), vb.unit,', Original_value =', dac1(), dac1.unit)"
   ]
  },
  {
   "cell_type": "markdown",
   "metadata": {},
   "source": [
    "## Transimpedance amplifier\n",
    "The ScaledParameter can be used also for quantities that are read, like a current read by a transimpedance amplifier, digitized by a multimeter.\n",
    "We can also specify a different unit from the wrapped parameter. The semantic of gain/division is inverted compared to the previous cases, since it is a value that we read."
   ]
  },
  {
   "cell_type": "code",
   "execution_count": 9,
   "metadata": {
    "execution": {
     "iopub.execute_input": "2021-05-28T07:55:00.698276Z",
     "iopub.status.busy": "2021-05-28T07:55:00.696820Z",
     "iopub.status.idle": "2021-05-28T07:55:00.698909Z",
     "shell.execute_reply": "2021-05-28T07:55:00.699389Z"
    }
   },
   "outputs": [],
   "source": [
    "Id = ScaledParameter(amplitude, division = 1e6, name = 'Id', unit = 'A')"
   ]
  },
  {
   "cell_type": "code",
   "execution_count": 10,
   "metadata": {
    "execution": {
     "iopub.execute_input": "2021-05-28T07:55:00.705758Z",
     "iopub.status.busy": "2021-05-28T07:55:00.704257Z",
     "iopub.status.idle": "2021-05-28T07:55:00.707704Z",
     "shell.execute_reply": "2021-05-28T07:55:00.707207Z"
    }
   },
   "outputs": [
    {
     "name": "stdout",
     "output_type": "stream",
     "text": [
      "Id = 3.14e-06 A , Read_value = 3.14 V\n"
     ]
    }
   ],
   "source": [
    "print('Id =',Id(), Id.unit,', Read_value =', amplitude(), amplitude.unit)"
   ]
  },
  {
   "cell_type": "markdown",
   "metadata": {},
   "source": [
    "The gain can be manually changed at any time"
   ]
  },
  {
   "cell_type": "code",
   "execution_count": 11,
   "metadata": {
    "execution": {
     "iopub.execute_input": "2021-05-28T07:55:00.714634Z",
     "iopub.status.busy": "2021-05-28T07:55:00.713276Z",
     "iopub.status.idle": "2021-05-28T07:55:00.716492Z",
     "shell.execute_reply": "2021-05-28T07:55:00.715956Z"
    }
   },
   "outputs": [
    {
     "name": "stdout",
     "output_type": "stream",
     "text": [
      "Id = 3.14e-08 A , Read_value = 3.14 V\n"
     ]
    }
   ],
   "source": [
    "Id.division = 1e8\n",
    "print('Id =',Id(), Id.unit,', Read_value =', amplitude(), amplitude.unit)"
   ]
  },
  {
   "cell_type": "markdown",
   "metadata": {},
   "source": [
    "The gain/division can be itself a Qcodes paramter, for example if is a gain set by a remote instrument"
   ]
  },
  {
   "cell_type": "code",
   "execution_count": 12,
   "metadata": {
    "execution": {
     "iopub.execute_input": "2021-05-28T07:55:00.721513Z",
     "iopub.status.busy": "2021-05-28T07:55:00.719920Z",
     "iopub.status.idle": "2021-05-28T07:55:00.722148Z",
     "shell.execute_reply": "2021-05-28T07:55:00.722621Z"
    }
   },
   "outputs": [],
   "source": [
    "remote_gain = ManualParameter('remote_gain', initial_value=1e6, unit = 'V/A')"
   ]
  },
  {
   "cell_type": "code",
   "execution_count": 13,
   "metadata": {
    "execution": {
     "iopub.execute_input": "2021-05-28T07:55:00.728441Z",
     "iopub.status.busy": "2021-05-28T07:55:00.727248Z",
     "iopub.status.idle": "2021-05-28T07:55:00.730803Z",
     "shell.execute_reply": "2021-05-28T07:55:00.729952Z"
    }
   },
   "outputs": [
    {
     "name": "stdout",
     "output_type": "stream",
     "text": [
      "Id = 3.14e-06 A , Read_value = 3.14 V\n"
     ]
    }
   ],
   "source": [
    "Id.division = remote_gain\n",
    "print('Id =',Id(), Id.unit,', Read_value =', amplitude(), amplitude.unit)"
   ]
  },
  {
   "cell_type": "code",
   "execution_count": 14,
   "metadata": {
    "execution": {
     "iopub.execute_input": "2021-05-28T07:55:00.737754Z",
     "iopub.status.busy": "2021-05-28T07:55:00.736203Z",
     "iopub.status.idle": "2021-05-28T07:55:00.739590Z",
     "shell.execute_reply": "2021-05-28T07:55:00.739085Z"
    }
   },
   "outputs": [
    {
     "name": "stdout",
     "output_type": "stream",
     "text": [
      "Id = 3.14e-08 A , Read_value = 3.14 V\n"
     ]
    }
   ],
   "source": [
    "remote_gain(1e8)\n",
    "print('Id =',Id(), Id.unit,', Read_value =', amplitude(), amplitude.unit)"
   ]
  }
 ],
 "metadata": {
  "kernelspec": {
   "display_name": "Python 3",
   "language": "python",
   "name": "python3"
  },
  "language_info": {
   "codemirror_mode": {
    "name": "ipython",
    "version": 3
   },
   "file_extension": ".py",
   "mimetype": "text/x-python",
   "name": "python",
   "nbconvert_exporter": "python",
   "pygments_lexer": "ipython3",
   "version": "3.7.10"
  },
  "toc": {
   "base_numbering": 1,
   "nav_menu": {},
   "number_sections": true,
   "sideBar": true,
   "skip_h1_title": false,
   "title_cell": "Table of Contents",
   "title_sidebar": "Contents",
   "toc_cell": false,
   "toc_position": {},
   "toc_section_display": true,
   "toc_window_display": false
  },
  "varInspector": {
   "cols": {
    "lenName": 16,
    "lenType": 16,
    "lenVar": 40
   },
   "kernels_config": {
    "python": {
     "delete_cmd_postfix": "",
     "delete_cmd_prefix": "del ",
     "library": "var_list.py",
     "varRefreshCmd": "print(var_dic_list())"
    },
    "r": {
     "delete_cmd_postfix": ") ",
     "delete_cmd_prefix": "rm(",
     "library": "var_list.r",
     "varRefreshCmd": "cat(var_dic_list()) "
    }
   },
   "types_to_exclude": [
    "module",
    "function",
    "builtin_function_or_method",
    "instance",
    "_Feature"
   ],
   "window_display": false
  }
 },
 "nbformat": 4,
 "nbformat_minor": 2
}
