{
 "cells": [
  {
   "cell_type": "markdown",
   "metadata": {},
   "source": [
    "# ScaledParameter\n",
    "Sometimes the values that we set/get on the computer are not the physical value that reach/originate from the sample. The ScaledParameter can be used to convert quantities with a simple linear relationship without offset."
   ]
  },
  {
   "cell_type": "code",
   "execution_count": 1,
   "metadata": {
    "execution": {
     "iopub.execute_input": "2020-10-28T13:29:02.615015Z",
     "iopub.status.busy": "2020-10-28T13:29:02.614388Z",
     "iopub.status.idle": "2020-10-28T13:29:03.786753Z",
     "shell.execute_reply": "2020-10-28T13:29:03.787262Z"
    }
   },
   "outputs": [
    {
     "name": "stdout",
     "output_type": "stream",
     "text": [
      "Logging hadn't been started.\n",
      "Activating auto-logging. Current session state plus future input saved.\n",
      "Filename       : /home/vsts/.qcodes/logs/command_history.log\n",
      "Mode           : append\n",
      "Output logging : True\n",
      "Raw input log  : False\n",
      "Timestamping   : True\n",
      "State          : active\n"
     ]
    },
    {
     "name": "stdout",
     "output_type": "stream",
     "text": [
      "Qcodes Logfile : /home/vsts/.qcodes/logs/201028-18098-qcodes.log\n"
     ]
    }
   ],
   "source": [
    "from qcodes import ManualParameter, ScaledParameter"
   ]
  },
  {
   "cell_type": "code",
   "execution_count": 2,
   "metadata": {
    "execution": {
     "iopub.execute_input": "2020-10-28T13:29:03.792653Z",
     "iopub.status.busy": "2020-10-28T13:29:03.792109Z",
     "iopub.status.idle": "2020-10-28T13:29:03.795723Z",
     "shell.execute_reply": "2020-10-28T13:29:03.796214Z"
    }
   },
   "outputs": [],
   "source": [
    "dac0 = ManualParameter('dac0', unit = 'V')\n",
    "dac1 = ManualParameter('dac1', unit = 'V')\n",
    "amplitude = ManualParameter('amplitude', initial_value=3.14, unit = 'V')"
   ]
  },
  {
   "cell_type": "markdown",
   "metadata": {},
   "source": [
    "## Resistive voltage divider\n",
    "The simplest case is a resistive divider, where the set voltage is divided by a fixed amount."
   ]
  },
  {
   "cell_type": "code",
   "execution_count": 3,
   "metadata": {
    "execution": {
     "iopub.execute_input": "2020-10-28T13:29:03.801501Z",
     "iopub.status.busy": "2020-10-28T13:29:03.800124Z",
     "iopub.status.idle": "2020-10-28T13:29:03.802142Z",
     "shell.execute_reply": "2020-10-28T13:29:03.802576Z"
    }
   },
   "outputs": [],
   "source": [
    "vd = ScaledParameter(dac0, division = 10)"
   ]
  },
  {
   "cell_type": "code",
   "execution_count": 4,
   "metadata": {
    "execution": {
     "iopub.execute_input": "2020-10-28T13:29:03.807437Z",
     "iopub.status.busy": "2020-10-28T13:29:03.805831Z",
     "iopub.status.idle": "2020-10-28T13:29:03.808174Z",
     "shell.execute_reply": "2020-10-28T13:29:03.808645Z"
    }
   },
   "outputs": [],
   "source": [
    "vd(10)"
   ]
  },
  {
   "cell_type": "code",
   "execution_count": 5,
   "metadata": {
    "execution": {
     "iopub.execute_input": "2020-10-28T13:29:03.814826Z",
     "iopub.status.busy": "2020-10-28T13:29:03.813163Z",
     "iopub.status.idle": "2020-10-28T13:29:03.816949Z",
     "shell.execute_reply": "2020-10-28T13:29:03.816344Z"
    }
   },
   "outputs": [
    {
     "name": "stdout",
     "output_type": "stream",
     "text": [
      "Vd = 10.0 V , real setted value = 100 V\n"
     ]
    }
   ],
   "source": [
    "print('Vd =',vd(), vd.unit,', real setted value =', dac0(), dac0.unit)"
   ]
  },
  {
   "cell_type": "markdown",
   "metadata": {},
   "source": [
    "## Voltage multiplier\n",
    "If the voltage is amplified, we can specify a `gain` value instead of `division`."
   ]
  },
  {
   "cell_type": "code",
   "execution_count": 6,
   "metadata": {
    "execution": {
     "iopub.execute_input": "2020-10-28T13:29:03.822151Z",
     "iopub.status.busy": "2020-10-28T13:29:03.820691Z",
     "iopub.status.idle": "2020-10-28T13:29:03.823064Z",
     "shell.execute_reply": "2020-10-28T13:29:03.823585Z"
    }
   },
   "outputs": [],
   "source": [
    "vb = ScaledParameter(dac1, gain = 30, name = 'Vb')"
   ]
  },
  {
   "cell_type": "code",
   "execution_count": 7,
   "metadata": {
    "execution": {
     "iopub.execute_input": "2020-10-28T13:29:03.828228Z",
     "iopub.status.busy": "2020-10-28T13:29:03.826858Z",
     "iopub.status.idle": "2020-10-28T13:29:03.829050Z",
     "shell.execute_reply": "2020-10-28T13:29:03.829559Z"
    }
   },
   "outputs": [],
   "source": [
    "vb(5)"
   ]
  },
  {
   "cell_type": "code",
   "execution_count": 8,
   "metadata": {
    "execution": {
     "iopub.execute_input": "2020-10-28T13:29:03.834792Z",
     "iopub.status.busy": "2020-10-28T13:29:03.834171Z",
     "iopub.status.idle": "2020-10-28T13:29:03.837834Z",
     "shell.execute_reply": "2020-10-28T13:29:03.837304Z"
    }
   },
   "outputs": [
    {
     "name": "stdout",
     "output_type": "stream",
     "text": [
      "Vb = 10.0 V , Original_value = 0.16666666666666666 V\n"
     ]
    }
   ],
   "source": [
    "print('Vb =',vd(), vb.unit,', Original_value =', dac1(), dac1.unit)"
   ]
  },
  {
   "cell_type": "markdown",
   "metadata": {},
   "source": [
    "## Transimpedance amplifier\n",
    "The ScaledParameter can be used also for quantities that are read, like a current read by a transimpedance amplifier, digitized by a multimeter.\n",
    "We can also specify a different unit from the wrapped parameter. The semantic of gain/division is inverted compared to the previous cases, since it is a value that we read."
   ]
  },
  {
   "cell_type": "code",
   "execution_count": 9,
   "metadata": {
    "execution": {
     "iopub.execute_input": "2020-10-28T13:29:03.842532Z",
     "iopub.status.busy": "2020-10-28T13:29:03.841367Z",
     "iopub.status.idle": "2020-10-28T13:29:03.843116Z",
     "shell.execute_reply": "2020-10-28T13:29:03.843539Z"
    }
   },
   "outputs": [],
   "source": [
    "Id = ScaledParameter(amplitude, division = 1e6, name = 'Id', unit = 'A')"
   ]
  },
  {
   "cell_type": "code",
   "execution_count": 10,
   "metadata": {
    "execution": {
     "iopub.execute_input": "2020-10-28T13:29:03.847904Z",
     "iopub.status.busy": "2020-10-28T13:29:03.847358Z",
     "iopub.status.idle": "2020-10-28T13:29:03.849644Z",
     "shell.execute_reply": "2020-10-28T13:29:03.850060Z"
    }
   },
   "outputs": [
    {
     "name": "stdout",
     "output_type": "stream",
     "text": [
      "Id = 3.14e-06 A , Read_value = 3.14 V\n"
     ]
    }
   ],
   "source": [
    "print('Id =',Id(), Id.unit,', Read_value =', amplitude(), amplitude.unit)"
   ]
  },
  {
   "cell_type": "markdown",
   "metadata": {},
   "source": [
    "The gain can be manually changed at any time"
   ]
  },
  {
   "cell_type": "code",
   "execution_count": 11,
   "metadata": {
    "execution": {
     "iopub.execute_input": "2020-10-28T13:29:03.855915Z",
     "iopub.status.busy": "2020-10-28T13:29:03.854693Z",
     "iopub.status.idle": "2020-10-28T13:29:03.857714Z",
     "shell.execute_reply": "2020-10-28T13:29:03.857196Z"
    }
   },
   "outputs": [
    {
     "name": "stdout",
     "output_type": "stream",
     "text": [
      "Id = 3.14e-08 A , Read_value = 3.14 V\n"
     ]
    }
   ],
   "source": [
    "Id.division = 1e8\n",
    "print('Id =',Id(), Id.unit,', Read_value =', amplitude(), amplitude.unit)"
   ]
  },
  {
   "cell_type": "markdown",
   "metadata": {},
   "source": [
    "The gain/division can be itself a Qcodes paramter, for example if is a gain set by a remote instrument"
   ]
  },
  {
   "cell_type": "code",
   "execution_count": 12,
   "metadata": {
    "execution": {
     "iopub.execute_input": "2020-10-28T13:29:03.862922Z",
     "iopub.status.busy": "2020-10-28T13:29:03.861553Z",
     "iopub.status.idle": "2020-10-28T13:29:03.863477Z",
     "shell.execute_reply": "2020-10-28T13:29:03.863892Z"
    }
   },
   "outputs": [],
   "source": [
    "remote_gain = ManualParameter('remote_gain', initial_value=1e6, unit = 'V/A')"
   ]
  },
  {
   "cell_type": "code",
   "execution_count": 13,
   "metadata": {
    "execution": {
     "iopub.execute_input": "2020-10-28T13:29:03.868402Z",
     "iopub.status.busy": "2020-10-28T13:29:03.867836Z",
     "iopub.status.idle": "2020-10-28T13:29:03.870480Z",
     "shell.execute_reply": "2020-10-28T13:29:03.870881Z"
    }
   },
   "outputs": [
    {
     "name": "stdout",
     "output_type": "stream",
     "text": [
      "Id = 3.14e-06 A , Read_value = 3.14 V\n"
     ]
    }
   ],
   "source": [
    "Id.division = remote_gain\n",
    "print('Id =',Id(), Id.unit,', Read_value =', amplitude(), amplitude.unit)"
   ]
  },
  {
   "cell_type": "code",
   "execution_count": 14,
   "metadata": {
    "execution": {
     "iopub.execute_input": "2020-10-28T13:29:03.876060Z",
     "iopub.status.busy": "2020-10-28T13:29:03.874886Z",
     "iopub.status.idle": "2020-10-28T13:29:03.878258Z",
     "shell.execute_reply": "2020-10-28T13:29:03.877840Z"
    }
   },
   "outputs": [
    {
     "name": "stdout",
     "output_type": "stream",
     "text": [
      "Id = 3.14e-08 A , Read_value = 3.14 V\n"
     ]
    }
   ],
   "source": [
    "remote_gain(1e8)\n",
    "print('Id =',Id(), Id.unit,', Read_value =', amplitude(), amplitude.unit)"
   ]
  }
 ],
 "metadata": {
  "kernelspec": {
   "display_name": "Python 3",
   "language": "python",
   "name": "python3"
  },
  "language_info": {
   "codemirror_mode": {
    "name": "ipython",
    "version": 3
   },
   "file_extension": ".py",
   "mimetype": "text/x-python",
   "name": "python",
   "nbconvert_exporter": "python",
   "pygments_lexer": "ipython3",
   "version": "3.7.9"
  },
  "toc": {
   "base_numbering": 1,
   "nav_menu": {},
   "number_sections": true,
   "sideBar": true,
   "skip_h1_title": false,
   "title_cell": "Table of Contents",
   "title_sidebar": "Contents",
   "toc_cell": false,
   "toc_position": {},
   "toc_section_display": true,
   "toc_window_display": false
  },
  "varInspector": {
   "cols": {
    "lenName": 16,
    "lenType": 16,
    "lenVar": 40
   },
   "kernels_config": {
    "python": {
     "delete_cmd_postfix": "",
     "delete_cmd_prefix": "del ",
     "library": "var_list.py",
     "varRefreshCmd": "print(var_dic_list())"
    },
    "r": {
     "delete_cmd_postfix": ") ",
     "delete_cmd_prefix": "rm(",
     "library": "var_list.r",
     "varRefreshCmd": "cat(var_dic_list()) "
    }
   },
   "types_to_exclude": [
    "module",
    "function",
    "builtin_function_or_method",
    "instance",
    "_Feature"
   ],
   "window_display": false
  }
 },
 "nbformat": 4,
 "nbformat_minor": 2
}
