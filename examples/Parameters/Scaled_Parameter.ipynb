{
 "cells": [
  {
   "cell_type": "markdown",
   "metadata": {},
   "source": [
    "# ScaledParameter\n",
    "Sometimes the values that we set/get on the computer are not the physical value that reach/originate from the sample. The ScaledParameter can be used to convert quantities with a simple linear relationship without offset."
   ]
  },
  {
   "cell_type": "code",
   "execution_count": 1,
   "metadata": {
    "execution": {
     "iopub.execute_input": "2021-01-08T07:23:58.573949Z",
     "iopub.status.busy": "2021-01-08T07:23:58.573430Z",
     "iopub.status.idle": "2021-01-08T07:23:59.447501Z",
     "shell.execute_reply": "2021-01-08T07:23:59.446910Z"
    }
   },
   "outputs": [
    {
     "name": "stdout",
     "output_type": "stream",
     "text": [
      "Logging hadn't been started.\n",
      "Activating auto-logging. Current session state plus future input saved.\n",
      "Filename       : /home/vsts/.qcodes/logs/command_history.log\n",
      "Mode           : append\n",
      "Output logging : True\n",
      "Raw input log  : False\n",
      "Timestamping   : True\n",
      "State          : active\n"
     ]
    },
    {
     "name": "stdout",
     "output_type": "stream",
     "text": [
      "Qcodes Logfile : /home/vsts/.qcodes/logs/210108-16620-qcodes.log\n"
     ]
    }
   ],
   "source": [
    "from qcodes import ManualParameter, ScaledParameter"
   ]
  },
  {
   "cell_type": "code",
   "execution_count": 2,
   "metadata": {
    "execution": {
     "iopub.execute_input": "2021-01-08T07:23:59.451285Z",
     "iopub.status.busy": "2021-01-08T07:23:59.450879Z",
     "iopub.status.idle": "2021-01-08T07:23:59.453742Z",
     "shell.execute_reply": "2021-01-08T07:23:59.454107Z"
    }
   },
   "outputs": [],
   "source": [
    "dac0 = ManualParameter('dac0', unit = 'V')\n",
    "dac1 = ManualParameter('dac1', unit = 'V')\n",
    "amplitude = ManualParameter('amplitude', initial_value=3.14, unit = 'V')"
   ]
  },
  {
   "cell_type": "markdown",
   "metadata": {},
   "source": [
    "## Resistive voltage divider\n",
    "The simplest case is a resistive divider, where the set voltage is divided by a fixed amount."
   ]
  },
  {
   "cell_type": "code",
   "execution_count": 3,
   "metadata": {
    "execution": {
     "iopub.execute_input": "2021-01-08T07:23:59.457768Z",
     "iopub.status.busy": "2021-01-08T07:23:59.457296Z",
     "iopub.status.idle": "2021-01-08T07:23:59.461068Z",
     "shell.execute_reply": "2021-01-08T07:23:59.460649Z"
    }
   },
   "outputs": [],
   "source": [
    "vd = ScaledParameter(dac0, division = 10)"
   ]
  },
  {
   "cell_type": "code",
   "execution_count": 4,
   "metadata": {
    "execution": {
     "iopub.execute_input": "2021-01-08T07:23:59.464328Z",
     "iopub.status.busy": "2021-01-08T07:23:59.463853Z",
     "iopub.status.idle": "2021-01-08T07:23:59.466722Z",
     "shell.execute_reply": "2021-01-08T07:23:59.467016Z"
    }
   },
   "outputs": [],
   "source": [
    "vd(10)"
   ]
  },
  {
   "cell_type": "code",
   "execution_count": 5,
   "metadata": {
    "execution": {
     "iopub.execute_input": "2021-01-08T07:23:59.469579Z",
     "iopub.status.busy": "2021-01-08T07:23:59.468952Z",
     "iopub.status.idle": "2021-01-08T07:23:59.472826Z",
     "shell.execute_reply": "2021-01-08T07:23:59.472498Z"
    }
   },
   "outputs": [
    {
     "name": "stdout",
     "output_type": "stream",
     "text": [
      "Vd = 10.0 V , real setted value = 100 V\n"
     ]
    }
   ],
   "source": [
    "print('Vd =',vd(), vd.unit,', real setted value =', dac0(), dac0.unit)"
   ]
  },
  {
   "cell_type": "markdown",
   "metadata": {},
   "source": [
    "## Voltage multiplier\n",
    "If the voltage is amplified, we can specify a `gain` value instead of `division`."
   ]
  },
  {
   "cell_type": "code",
   "execution_count": 6,
   "metadata": {
    "execution": {
     "iopub.execute_input": "2021-01-08T07:23:59.475481Z",
     "iopub.status.busy": "2021-01-08T07:23:59.475108Z",
     "iopub.status.idle": "2021-01-08T07:23:59.478725Z",
     "shell.execute_reply": "2021-01-08T07:23:59.478146Z"
    }
   },
   "outputs": [],
   "source": [
    "vb = ScaledParameter(dac1, gain = 30, name = 'Vb')"
   ]
  },
  {
   "cell_type": "code",
   "execution_count": 7,
   "metadata": {
    "execution": {
     "iopub.execute_input": "2021-01-08T07:23:59.481307Z",
     "iopub.status.busy": "2021-01-08T07:23:59.480934Z",
     "iopub.status.idle": "2021-01-08T07:23:59.482712Z",
     "shell.execute_reply": "2021-01-08T07:23:59.482308Z"
    }
   },
   "outputs": [],
   "source": [
    "vb(5)"
   ]
  },
  {
   "cell_type": "code",
   "execution_count": 8,
   "metadata": {
    "execution": {
     "iopub.execute_input": "2021-01-08T07:23:59.486152Z",
     "iopub.status.busy": "2021-01-08T07:23:59.485750Z",
     "iopub.status.idle": "2021-01-08T07:23:59.488341Z",
     "shell.execute_reply": "2021-01-08T07:23:59.488718Z"
    }
   },
   "outputs": [
    {
     "name": "stdout",
     "output_type": "stream",
     "text": [
      "Vb = 10.0 V , Original_value = 0.16666666666666666 V\n"
     ]
    }
   ],
   "source": [
    "print('Vb =',vd(), vb.unit,', Original_value =', dac1(), dac1.unit)"
   ]
  },
  {
   "cell_type": "markdown",
   "metadata": {},
   "source": [
    "## Transimpedance amplifier\n",
    "The ScaledParameter can be used also for quantities that are read, like a current read by a transimpedance amplifier, digitized by a multimeter.\n",
    "We can also specify a different unit from the wrapped parameter. The semantic of gain/division is inverted compared to the previous cases, since it is a value that we read."
   ]
  },
  {
   "cell_type": "code",
   "execution_count": 9,
   "metadata": {
    "execution": {
     "iopub.execute_input": "2021-01-08T07:23:59.491503Z",
     "iopub.status.busy": "2021-01-08T07:23:59.491108Z",
     "iopub.status.idle": "2021-01-08T07:23:59.493263Z",
     "shell.execute_reply": "2021-01-08T07:23:59.492892Z"
    }
   },
   "outputs": [],
   "source": [
    "Id = ScaledParameter(amplitude, division = 1e6, name = 'Id', unit = 'A')"
   ]
  },
  {
   "cell_type": "code",
   "execution_count": 10,
   "metadata": {
    "execution": {
     "iopub.execute_input": "2021-01-08T07:23:59.497620Z",
     "iopub.status.busy": "2021-01-08T07:23:59.496703Z",
     "iopub.status.idle": "2021-01-08T07:23:59.498523Z",
     "shell.execute_reply": "2021-01-08T07:23:59.498895Z"
    }
   },
   "outputs": [
    {
     "name": "stdout",
     "output_type": "stream",
     "text": [
      "Id = 3.14e-06 A , Read_value = 3.14 V\n"
     ]
    }
   ],
   "source": [
    "print('Id =',Id(), Id.unit,', Read_value =', amplitude(), amplitude.unit)"
   ]
  },
  {
   "cell_type": "markdown",
   "metadata": {},
   "source": [
    "The gain can be manually changed at any time"
   ]
  },
  {
   "cell_type": "code",
   "execution_count": 11,
   "metadata": {
    "execution": {
     "iopub.execute_input": "2021-01-08T07:23:59.503312Z",
     "iopub.status.busy": "2021-01-08T07:23:59.502046Z",
     "iopub.status.idle": "2021-01-08T07:23:59.504328Z",
     "shell.execute_reply": "2021-01-08T07:23:59.504754Z"
    }
   },
   "outputs": [
    {
     "name": "stdout",
     "output_type": "stream",
     "text": [
      "Id = 3.14e-08 A , Read_value = 3.14 V\n"
     ]
    }
   ],
   "source": [
    "Id.division = 1e8\n",
    "print('Id =',Id(), Id.unit,', Read_value =', amplitude(), amplitude.unit)"
   ]
  },
  {
   "cell_type": "markdown",
   "metadata": {},
   "source": [
    "The gain/division can be itself a Qcodes paramter, for example if is a gain set by a remote instrument"
   ]
  },
  {
   "cell_type": "code",
   "execution_count": 12,
   "metadata": {
    "execution": {
     "iopub.execute_input": "2021-01-08T07:23:59.507592Z",
     "iopub.status.busy": "2021-01-08T07:23:59.507224Z",
     "iopub.status.idle": "2021-01-08T07:23:59.509132Z",
     "shell.execute_reply": "2021-01-08T07:23:59.508677Z"
    }
   },
   "outputs": [],
   "source": [
    "remote_gain = ManualParameter('remote_gain', initial_value=1e6, unit = 'V/A')"
   ]
  },
  {
   "cell_type": "code",
   "execution_count": 13,
   "metadata": {
    "execution": {
     "iopub.execute_input": "2021-01-08T07:23:59.512886Z",
     "iopub.status.busy": "2021-01-08T07:23:59.512492Z",
     "iopub.status.idle": "2021-01-08T07:23:59.514219Z",
     "shell.execute_reply": "2021-01-08T07:23:59.514591Z"
    }
   },
   "outputs": [
    {
     "name": "stdout",
     "output_type": "stream",
     "text": [
      "Id = 3.14e-06 A , Read_value = 3.14 V\n"
     ]
    }
   ],
   "source": [
    "Id.division = remote_gain\n",
    "print('Id =',Id(), Id.unit,', Read_value =', amplitude(), amplitude.unit)"
   ]
  },
  {
   "cell_type": "code",
   "execution_count": 14,
   "metadata": {
    "execution": {
     "iopub.execute_input": "2021-01-08T07:23:59.518814Z",
     "iopub.status.busy": "2021-01-08T07:23:59.517481Z",
     "iopub.status.idle": "2021-01-08T07:23:59.519726Z",
     "shell.execute_reply": "2021-01-08T07:23:59.520095Z"
    }
   },
   "outputs": [
    {
     "name": "stdout",
     "output_type": "stream",
     "text": [
      "Id = 3.14e-08 A , Read_value = 3.14 V\n"
     ]
    }
   ],
   "source": [
    "remote_gain(1e8)\n",
    "print('Id =',Id(), Id.unit,', Read_value =', amplitude(), amplitude.unit)"
   ]
  }
 ],
 "metadata": {
  "kernelspec": {
   "display_name": "Python 3",
   "language": "python",
   "name": "python3"
  },
  "language_info": {
   "codemirror_mode": {
    "name": "ipython",
    "version": 3
   },
   "file_extension": ".py",
   "mimetype": "text/x-python",
   "name": "python",
   "nbconvert_exporter": "python",
   "pygments_lexer": "ipython3",
   "version": "3.7.9"
  },
  "toc": {
   "base_numbering": 1,
   "nav_menu": {},
   "number_sections": true,
   "sideBar": true,
   "skip_h1_title": false,
   "title_cell": "Table of Contents",
   "title_sidebar": "Contents",
   "toc_cell": false,
   "toc_position": {},
   "toc_section_display": true,
   "toc_window_display": false
  },
  "varInspector": {
   "cols": {
    "lenName": 16,
    "lenType": 16,
    "lenVar": 40
   },
   "kernels_config": {
    "python": {
     "delete_cmd_postfix": "",
     "delete_cmd_prefix": "del ",
     "library": "var_list.py",
     "varRefreshCmd": "print(var_dic_list())"
    },
    "r": {
     "delete_cmd_postfix": ") ",
     "delete_cmd_prefix": "rm(",
     "library": "var_list.r",
     "varRefreshCmd": "cat(var_dic_list()) "
    }
   },
   "types_to_exclude": [
    "module",
    "function",
    "builtin_function_or_method",
    "instance",
    "_Feature"
   ],
   "window_display": false
  }
 },
 "nbformat": 4,
 "nbformat_minor": 2
}
