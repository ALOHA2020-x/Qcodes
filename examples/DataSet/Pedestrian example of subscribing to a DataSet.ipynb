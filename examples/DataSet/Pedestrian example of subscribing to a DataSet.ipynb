{
 "cells": [
  {
   "cell_type": "markdown",
   "metadata": {},
   "source": [
    "# Pedestrian example of subscribing to a DataSet\n",
    "\n",
    "It is possible to *subscribe* to a dataset. Subscribing means adding a function to the dataset and having the dataset call that function every time a result is added to the dataset (or more rarely, see below).\n",
    "\n",
    "### Call signature\n",
    "\n",
    "The subscribing function must have the following call signature:\n",
    "```\n",
    "fun(results: List[Tuple[Value]], length: int,\n",
    "    state: Union[MutableSequence, MutableMapping]) -> None:\n",
    "    \"\"\"\n",
    "    Args:\n",
    "        results: A list of tuples where each tuple holds the results inserted into the dataset.\n",
    "            For two scalar parameters, X and Y, results might look like [(x1, y1), (x2, y2), ...]\n",
    "        length: The current length of the dataset.\n",
    "        state: Any mutable sequence/mapping that can be used to hold information from call to call.\n",
    "            In practice a list or a dict.\n",
    "    \"\"\"\n",
    "```\n",
    "Below we provide an example function that counts the number of times a voltage has exceeded a certain limit.\n",
    "\n",
    "### Frequency\n",
    "\n",
    "Since calling the function **every** time an insertion is made may be too frequent, a `min_wait` and a `min_count` argument may be provided when subscribing. The dataset will then only call the function upon inserting a result\n",
    "if `min_wait` seconds have elapsed since the last call (or the start of the subscription, in the time before the first call) and `min_count` results have been added to the dataset since the last call (or the start of the subscription). All the results added in the meantime are queued and passed to the function in one go.\n",
    "\n",
    "### Order\n",
    "\n",
    "The subscription must be set up **after** all parameters have been added to the dataset."
   ]
  },
  {
   "cell_type": "code",
   "execution_count": 1,
   "metadata": {
    "execution": {
     "iopub.execute_input": "2020-10-29T08:52:28.313050Z",
     "iopub.status.busy": "2020-10-29T08:52:28.312376Z",
     "iopub.status.idle": "2020-10-29T08:52:29.512780Z",
     "shell.execute_reply": "2020-10-29T08:52:29.512119Z"
    }
   },
   "outputs": [
    {
     "name": "stdout",
     "output_type": "stream",
     "text": [
      "Logging hadn't been started.\n",
      "Activating auto-logging. Current session state plus future input saved.\n",
      "Filename       : /home/vsts/.qcodes/logs/command_history.log\n",
      "Mode           : append\n",
      "Output logging : True\n",
      "Raw input log  : False\n",
      "Timestamping   : True\n",
      "State          : active\n"
     ]
    },
    {
     "name": "stdout",
     "output_type": "stream",
     "text": [
      "Qcodes Logfile : /home/vsts/.qcodes/logs/201029-16193-qcodes.log\n"
     ]
    }
   ],
   "source": [
    "from qcodes import initialise_database, load_or_create_experiment, \\\n",
    "    new_data_set, ParamSpec\n",
    "import numpy as np\n",
    "from time import sleep"
   ]
  },
  {
   "cell_type": "markdown",
   "metadata": {},
   "source": [
    "## Example 1: A notification\n",
    "\n",
    "We imagine scanning a frequency and reading out a noisy voltage. When the voltage has exceeded a threshold 5 times, we want to receive a warning. Let us initialise our database and create an experiment."
   ]
  },
  {
   "cell_type": "code",
   "execution_count": 2,
   "metadata": {
    "execution": {
     "iopub.execute_input": "2020-10-29T08:52:29.517284Z",
     "iopub.status.busy": "2020-10-29T08:52:29.516625Z",
     "iopub.status.idle": "2020-10-29T08:52:29.524578Z",
     "shell.execute_reply": "2020-10-29T08:52:29.523663Z"
    }
   },
   "outputs": [],
   "source": [
    "initialise_database()\n",
    "exp = load_or_create_experiment(experiment_name=\"subscription_tutorial\", sample_name=\"no_sample\")"
   ]
  },
  {
   "cell_type": "code",
   "execution_count": 3,
   "metadata": {
    "execution": {
     "iopub.execute_input": "2020-10-29T08:52:29.530097Z",
     "iopub.status.busy": "2020-10-29T08:52:29.529415Z",
     "iopub.status.idle": "2020-10-29T08:52:29.542260Z",
     "shell.execute_reply": "2020-10-29T08:52:29.541253Z"
    }
   },
   "outputs": [],
   "source": [
    "dataSet = new_data_set(\"test\",\n",
    "                       exp_id=exp.exp_id,\n",
    "                       specs=[ParamSpec(\"x\", \"numeric\", unit='Hz'),\n",
    "                              ParamSpec(\"y\", \"numeric\", unit='V')])\n",
    "dataSet.mark_started()"
   ]
  },
  {
   "cell_type": "code",
   "execution_count": 4,
   "metadata": {
    "execution": {
     "iopub.execute_input": "2020-10-29T08:52:29.547621Z",
     "iopub.status.busy": "2020-10-29T08:52:29.546952Z",
     "iopub.status.idle": "2020-10-29T08:52:29.549703Z",
     "shell.execute_reply": "2020-10-29T08:52:29.550213Z"
    }
   },
   "outputs": [],
   "source": [
    "def threshold_notifier(results, length, state):\n",
    "    if len(state) > 4:\n",
    "        print(f'At step {length}: The voltage exceeded the limit 5 times! ')\n",
    "        state.clear()\n",
    "    for result in results:\n",
    "        if result[1] > 0.8:\n",
    "            state.append(result[1])"
   ]
  },
  {
   "cell_type": "code",
   "execution_count": 5,
   "metadata": {
    "execution": {
     "iopub.execute_input": "2020-10-29T08:52:29.554658Z",
     "iopub.status.busy": "2020-10-29T08:52:29.553668Z",
     "iopub.status.idle": "2020-10-29T08:52:29.560870Z",
     "shell.execute_reply": "2020-10-29T08:52:29.560302Z"
    }
   },
   "outputs": [],
   "source": [
    "# now perform the subscription\n",
    "# since this is important safety info, we want our callback function called\n",
    "# on EVERY insertion\n",
    "sub_id = dataSet.subscribe(threshold_notifier, min_wait=0, min_count=1, state=[])"
   ]
  },
  {
   "cell_type": "code",
   "execution_count": 6,
   "metadata": {
    "execution": {
     "iopub.execute_input": "2020-10-29T08:52:29.567232Z",
     "iopub.status.busy": "2020-10-29T08:52:29.566454Z",
     "iopub.status.idle": "2020-10-29T08:52:29.785003Z",
     "shell.execute_reply": "2020-10-29T08:52:29.785986Z"
    },
    "scrolled": false
   },
   "outputs": [
    {
     "name": "stderr",
     "output_type": "stream",
     "text": [
      "2020-10-29 08:52:29,564 ¦ py.warnings ¦ WARNING ¦ warnings ¦ _showwarnmsg ¦ 110 ¦ /home/vsts/work/1/s/qcodes/utils/deprecate.py:58: QCoDeSDeprecationWarning: The function <add_result> is deprecated. Use \"add_results\" as an alternative.\n",
      "  issue_deprecation_warning(f'{t} <{n}>', reason, alternative)\n",
      "\n"
     ]
    },
    {
     "name": "stdout",
     "output_type": "stream",
     "text": [
      "At step 7: The voltage exceeded the limit 5 times! \n"
     ]
    },
    {
     "name": "stdout",
     "output_type": "stream",
     "text": [
      "At step 30: The voltage exceeded the limit 5 times! \n",
      "At step 46: The voltage exceeded the limit 5 times! \n",
      "At step 59: The voltage exceeded the limit 5 times! \n",
      "At step 79: The voltage exceeded the limit 5 times! \n",
      "At step 113: The voltage exceeded the limit 5 times! \n",
      "At step 127: The voltage exceeded the limit 5 times! \n",
      "At step 144: The voltage exceeded the limit 5 times! \n"
     ]
    }
   ],
   "source": [
    "for x in np.linspace(100, 200, 150):\n",
    "    y = np.random.randn()\n",
    "    dataSet.add_result({\"x\": x, \"y\": y})"
   ]
  },
  {
   "cell_type": "code",
   "execution_count": 7,
   "metadata": {
    "execution": {
     "iopub.execute_input": "2020-10-29T08:52:29.791610Z",
     "iopub.status.busy": "2020-10-29T08:52:29.789123Z",
     "iopub.status.idle": "2020-10-29T08:52:29.797780Z",
     "shell.execute_reply": "2020-10-29T08:52:29.797197Z"
    }
   },
   "outputs": [],
   "source": [
    "dataSet.unsubscribe_all()"
   ]
  },
  {
   "cell_type": "markdown",
   "metadata": {
    "collapsed": true
   },
   "source": [
    "## Example 2: ASCII Plotter\n",
    "\n",
    "While this example does not represent a data acqusition that one may deal with in a real experiment, it is a fun practice of subscribing to a dataset."
   ]
  },
  {
   "cell_type": "code",
   "execution_count": 8,
   "metadata": {
    "execution": {
     "iopub.execute_input": "2020-10-29T08:52:29.802461Z",
     "iopub.status.busy": "2020-10-29T08:52:29.801816Z",
     "iopub.status.idle": "2020-10-29T08:52:29.815102Z",
     "shell.execute_reply": "2020-10-29T08:52:29.814295Z"
    }
   },
   "outputs": [],
   "source": [
    "dataSet = new_data_set(\"test\", exp_id=exp.exp_id,\n",
    "                       specs=[ParamSpec(\"blip\", \"numeric\", unit='bit'),\n",
    "                              ParamSpec(\"blop\", \"numeric\", unit='bit')])\n",
    "dataSet.mark_started()"
   ]
  },
  {
   "cell_type": "code",
   "execution_count": 9,
   "metadata": {
    "execution": {
     "iopub.execute_input": "2020-10-29T08:52:29.821902Z",
     "iopub.status.busy": "2020-10-29T08:52:29.820485Z",
     "iopub.status.idle": "2020-10-29T08:52:29.823039Z",
     "shell.execute_reply": "2020-10-29T08:52:29.823569Z"
    }
   },
   "outputs": [],
   "source": [
    "def ASCII_plotter_5bit(results, length, state):\n",
    "    \"\"\"\n",
    "    Glorious 5-bit signal plotter\n",
    "    \n",
    "    Digitises the range (-1, 1) with 4 bits and plots it\n",
    "    in stdout. Crashes and burns if given data outside that\n",
    "    interval.\n",
    "    \"\"\"\n",
    "    for result in results:\n",
    "        plotline = ['.'] * 32\n",
    "        yvalue = result[1]\n",
    "        yvalue += 1\n",
    "        yvalue /= 2\n",
    "        yvalue = int(yvalue*31)\n",
    "        plotline[yvalue] = 'O'\n",
    "        print(''.join(plotline))\n",
    "        "
   ]
  },
  {
   "cell_type": "code",
   "execution_count": 10,
   "metadata": {
    "execution": {
     "iopub.execute_input": "2020-10-29T08:52:29.828059Z",
     "iopub.status.busy": "2020-10-29T08:52:29.827411Z",
     "iopub.status.idle": "2020-10-29T08:52:29.832358Z",
     "shell.execute_reply": "2020-10-29T08:52:29.833177Z"
    }
   },
   "outputs": [],
   "source": [
    "sub_id = dataSet.subscribe(ASCII_plotter_5bit, min_wait=0, min_count=3, state=[])"
   ]
  },
  {
   "cell_type": "code",
   "execution_count": 11,
   "metadata": {
    "execution": {
     "iopub.execute_input": "2020-10-29T08:52:29.837171Z",
     "iopub.status.busy": "2020-10-29T08:52:29.835969Z",
     "iopub.status.idle": "2020-10-29T08:52:40.077745Z",
     "shell.execute_reply": "2020-10-29T08:52:40.076664Z"
    }
   },
   "outputs": [
    {
     "name": "stdout",
     "output_type": "stream",
     "text": [
      "..............O.................\n",
      ".................O..............\n",
      "..................O.............\n"
     ]
    },
    {
     "name": "stdout",
     "output_type": "stream",
     "text": [
      "...................O............\n",
      ".....................O..........\n",
      "....................O...........\n"
     ]
    },
    {
     "name": "stdout",
     "output_type": "stream",
     "text": [
      "......................O.........\n",
      ".........................O......\n",
      ".........................O......\n"
     ]
    },
    {
     "name": "stdout",
     "output_type": "stream",
     "text": [
      "...........................O....\n",
      "..........................O.....\n",
      "...........................O....\n"
     ]
    },
    {
     "name": "stdout",
     "output_type": "stream",
     "text": [
      "............................O...\n",
      ".............................O..\n",
      "............................O...\n"
     ]
    },
    {
     "name": "stdout",
     "output_type": "stream",
     "text": [
      "..............................O.\n",
      "............................O...\n",
      "............................O...\n"
     ]
    },
    {
     "name": "stdout",
     "output_type": "stream",
     "text": [
      ".............................O..\n",
      "............................O...\n",
      "............................O...\n"
     ]
    },
    {
     "name": "stdout",
     "output_type": "stream",
     "text": [
      "...........................O....\n",
      "...........................O....\n",
      "..........................O.....\n"
     ]
    },
    {
     "name": "stdout",
     "output_type": "stream",
     "text": [
      ".........................O......\n",
      ".........................O......\n",
      ".......................O........\n"
     ]
    },
    {
     "name": "stdout",
     "output_type": "stream",
     "text": [
      ".......................O........\n",
      "....................O...........\n",
      ".....................O..........\n"
     ]
    },
    {
     "name": "stdout",
     "output_type": "stream",
     "text": [
      "..................O.............\n",
      "..................O.............\n",
      "...............O................\n"
     ]
    },
    {
     "name": "stdout",
     "output_type": "stream",
     "text": [
      "..............O.................\n",
      "..............O.................\n",
      "............O...................\n"
     ]
    },
    {
     "name": "stdout",
     "output_type": "stream",
     "text": [
      "...........O....................\n",
      ".........O......................\n",
      ".......O........................\n"
     ]
    },
    {
     "name": "stdout",
     "output_type": "stream",
     "text": [
      ".........O......................\n",
      ".......O........................\n",
      ".....O..........................\n"
     ]
    },
    {
     "name": "stdout",
     "output_type": "stream",
     "text": [
      "......O.........................\n",
      ".....O..........................\n",
      "..O.............................\n"
     ]
    },
    {
     "name": "stdout",
     "output_type": "stream",
     "text": [
      "..O.............................\n",
      "..O.............................\n",
      "..O.............................\n"
     ]
    },
    {
     "name": "stdout",
     "output_type": "stream",
     "text": [
      "...O............................\n",
      "O...............................\n",
      "..O.............................\n"
     ]
    },
    {
     "name": "stdout",
     "output_type": "stream",
     "text": [
      ".O..............................\n",
      "..O.............................\n",
      ".O..............................\n"
     ]
    },
    {
     "name": "stdout",
     "output_type": "stream",
     "text": [
      "..O.............................\n",
      "...O............................\n",
      "...O............................\n"
     ]
    },
    {
     "name": "stdout",
     "output_type": "stream",
     "text": [
      ".....O..........................\n",
      ".....O..........................\n",
      ".......O........................\n"
     ]
    },
    {
     "name": "stdout",
     "output_type": "stream",
     "text": [
      ".......O........................\n",
      ".........O......................\n",
      ".........O......................\n"
     ]
    },
    {
     "name": "stdout",
     "output_type": "stream",
     "text": [
      "...........O....................\n",
      "..............O.................\n",
      "...............O................\n"
     ]
    },
    {
     "name": "stdout",
     "output_type": "stream",
     "text": [
      "...............O................\n",
      ".................O..............\n",
      ".................O..............\n"
     ]
    },
    {
     "name": "stdout",
     "output_type": "stream",
     "text": [
      "..................O.............\n",
      "......................O.........\n",
      ".....................O..........\n"
     ]
    },
    {
     "name": "stdout",
     "output_type": "stream",
     "text": [
      "......................O.........\n",
      ".......................O........\n",
      "..........................O.....\n"
     ]
    },
    {
     "name": "stdout",
     "output_type": "stream",
     "text": [
      "..........................O.....\n",
      "..........................O.....\n",
      "..........................O.....\n"
     ]
    },
    {
     "name": "stdout",
     "output_type": "stream",
     "text": [
      "............................O...\n",
      "............................O...\n",
      "..............................O.\n"
     ]
    },
    {
     "name": "stdout",
     "output_type": "stream",
     "text": [
      "...........................O....\n",
      ".............................O..\n",
      "..............................O.\n"
     ]
    },
    {
     "name": "stdout",
     "output_type": "stream",
     "text": [
      ".............................O..\n",
      "............................O...\n",
      "...........................O....\n"
     ]
    },
    {
     "name": "stdout",
     "output_type": "stream",
     "text": [
      "...........................O....\n",
      "...........................O....\n",
      "............................O...\n"
     ]
    },
    {
     "name": "stdout",
     "output_type": "stream",
     "text": [
      ".........................O......\n",
      "..........................O.....\n",
      ".......................O........\n"
     ]
    },
    {
     "name": "stdout",
     "output_type": "stream",
     "text": [
      "......................O.........\n",
      "......................O.........\n",
      "...................O............\n"
     ]
    },
    {
     "name": "stdout",
     "output_type": "stream",
     "text": [
      "..................O.............\n",
      "..................O.............\n",
      ".................O..............\n"
     ]
    }
   ],
   "source": [
    "for x in np.linspace(0, 3*np.pi, 100):\n",
    "    yvalue = 0.9*np.sin(x) + np.random.randn()*0.05\n",
    "    dataSet.add_result({\"blip\": x, \"blop\": yvalue})\n",
    "    sleep(0.1)"
   ]
  },
  {
   "cell_type": "code",
   "execution_count": null,
   "metadata": {},
   "outputs": [],
   "source": []
  }
 ],
 "metadata": {
  "kernelspec": {
   "display_name": "Python 3",
   "language": "python",
   "name": "python3"
  },
  "language_info": {
   "codemirror_mode": {
    "name": "ipython",
    "version": 3
   },
   "file_extension": ".py",
   "mimetype": "text/x-python",
   "name": "python",
   "nbconvert_exporter": "python",
   "pygments_lexer": "ipython3",
   "version": "3.7.9"
  }
 },
 "nbformat": 4,
 "nbformat_minor": 2
}
