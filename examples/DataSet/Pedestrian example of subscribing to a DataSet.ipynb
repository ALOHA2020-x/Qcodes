{
 "cells": [
  {
   "cell_type": "markdown",
   "metadata": {},
   "source": [
    "# Pedestrian example of subscribing to a DataSet\n",
    "\n",
    "It is possible to *subscribe* to a dataset. Subscribing means adding a function to the dataset and having the dataset call that function every time a result is added to the dataset (or more rarely, see below).\n",
    "\n",
    "### Call signature\n",
    "\n",
    "The subscribing function must have the following call signature:\n",
    "```\n",
    "fun(results: List[Tuple[Value]], length: int,\n",
    "    state: Union[MutableSequence, MutableMapping]) -> None:\n",
    "    \"\"\"\n",
    "    Args:\n",
    "        results: A list of tuples where each tuple holds the results inserted into the dataset.\n",
    "            For two scalar parameters, X and Y, results might look like [(x1, y1), (x2, y2), ...]\n",
    "        length: The current length of the dataset.\n",
    "        state: Any mutable sequence/mapping that can be used to hold information from call to call.\n",
    "            In practice a list or a dict.\n",
    "    \"\"\"\n",
    "```\n",
    "Below we provide an example function that counts the number of times a voltage has exceeded a certain limit.\n",
    "\n",
    "### Frequency\n",
    "\n",
    "Since calling the function **every** time an insertion is made may be too frequent, a `min_wait` and a `min_count` argument may be provided when subscribing. The dataset will then only call the function upon inserting a result\n",
    "if `min_wait` seconds have elapsed since the last call (or the start of the subscription, in the time before the first call) and `min_count` results have been added to the dataset since the last call (or the start of the subscription). All the results added in the meantime are queued and passed to the function in one go.\n",
    "\n",
    "### Order\n",
    "\n",
    "The subscription must be set up **after** all parameters have been added to the dataset."
   ]
  },
  {
   "cell_type": "code",
   "execution_count": 1,
   "metadata": {
    "execution": {
     "iopub.execute_input": "2021-05-10T07:43:43.120898Z",
     "iopub.status.busy": "2021-05-10T07:43:43.120277Z",
     "iopub.status.idle": "2021-05-10T07:43:44.556452Z",
     "shell.execute_reply": "2021-05-10T07:43:44.556966Z"
    }
   },
   "outputs": [
    {
     "name": "stdout",
     "output_type": "stream",
     "text": [
      "Logging hadn't been started.\n",
      "Activating auto-logging. Current session state plus future input saved.\n",
      "Filename       : /home/runner/.qcodes/logs/command_history.log\n",
      "Mode           : append\n",
      "Output logging : True\n",
      "Raw input log  : False\n",
      "Timestamping   : True\n",
      "State          : active\n"
     ]
    },
    {
     "name": "stdout",
     "output_type": "stream",
     "text": [
      "Qcodes Logfile : /home/runner/.qcodes/logs/210510-6372-qcodes.log\n"
     ]
    }
   ],
   "source": [
    "from qcodes import initialise_database, load_or_create_experiment, \\\n",
    "    new_data_set, ParamSpec\n",
    "import numpy as np\n",
    "from time import sleep"
   ]
  },
  {
   "cell_type": "markdown",
   "metadata": {},
   "source": [
    "## Example 1: A notification\n",
    "\n",
    "We imagine scanning a frequency and reading out a noisy voltage. When the voltage has exceeded a threshold 5 times, we want to receive a warning. Let us initialise our database and create an experiment."
   ]
  },
  {
   "cell_type": "code",
   "execution_count": 2,
   "metadata": {
    "execution": {
     "iopub.execute_input": "2021-05-10T07:43:44.562374Z",
     "iopub.status.busy": "2021-05-10T07:43:44.561663Z",
     "iopub.status.idle": "2021-05-10T07:43:44.569554Z",
     "shell.execute_reply": "2021-05-10T07:43:44.568957Z"
    }
   },
   "outputs": [],
   "source": [
    "initialise_database()\n",
    "exp = load_or_create_experiment(experiment_name=\"subscription_tutorial\", sample_name=\"no_sample\")"
   ]
  },
  {
   "cell_type": "code",
   "execution_count": 3,
   "metadata": {
    "execution": {
     "iopub.execute_input": "2021-05-10T07:43:44.574590Z",
     "iopub.status.busy": "2021-05-10T07:43:44.573909Z",
     "iopub.status.idle": "2021-05-10T07:43:44.585947Z",
     "shell.execute_reply": "2021-05-10T07:43:44.586448Z"
    }
   },
   "outputs": [],
   "source": [
    "dataSet = new_data_set(\"test\",\n",
    "                       exp_id=exp.exp_id,\n",
    "                       specs=[ParamSpec(\"x\", \"numeric\", unit='Hz'),\n",
    "                              ParamSpec(\"y\", \"numeric\", unit='V')])\n",
    "dataSet.mark_started()"
   ]
  },
  {
   "cell_type": "code",
   "execution_count": 4,
   "metadata": {
    "execution": {
     "iopub.execute_input": "2021-05-10T07:43:44.593135Z",
     "iopub.status.busy": "2021-05-10T07:43:44.591416Z",
     "iopub.status.idle": "2021-05-10T07:43:44.593939Z",
     "shell.execute_reply": "2021-05-10T07:43:44.594479Z"
    }
   },
   "outputs": [],
   "source": [
    "def threshold_notifier(results, length, state):\n",
    "    if len(state) > 4:\n",
    "        print(f'At step {length}: The voltage exceeded the limit 5 times! ')\n",
    "        state.clear()\n",
    "    for result in results:\n",
    "        if result[1] > 0.8:\n",
    "            state.append(result[1])"
   ]
  },
  {
   "cell_type": "code",
   "execution_count": 5,
   "metadata": {
    "execution": {
     "iopub.execute_input": "2021-05-10T07:43:44.599158Z",
     "iopub.status.busy": "2021-05-10T07:43:44.598351Z",
     "iopub.status.idle": "2021-05-10T07:43:44.603222Z",
     "shell.execute_reply": "2021-05-10T07:43:44.604094Z"
    }
   },
   "outputs": [],
   "source": [
    "# now perform the subscription\n",
    "# since this is important safety info, we want our callback function called\n",
    "# on EVERY insertion\n",
    "sub_id = dataSet.subscribe(threshold_notifier, min_wait=0, min_count=1, state=[])"
   ]
  },
  {
   "cell_type": "code",
   "execution_count": 6,
   "metadata": {
    "execution": {
     "iopub.execute_input": "2021-05-10T07:43:44.609562Z",
     "iopub.status.busy": "2021-05-10T07:43:44.608420Z",
     "iopub.status.idle": "2021-05-10T07:43:44.839736Z",
     "shell.execute_reply": "2021-05-10T07:43:44.840798Z"
    },
    "scrolled": false
   },
   "outputs": [
    {
     "name": "stdout",
     "output_type": "stream",
     "text": [
      "At step 6: The voltage exceeded the limit 5 times! \n",
      "At step 11: The voltage exceeded the limit 5 times! \n",
      "At step 16: The voltage exceeded the limit 5 times! \n",
      "At step 21: The voltage exceeded the limit 5 times! \n",
      "At step 26: The voltage exceeded the limit 5 times! \n",
      "At step 32: The voltage exceeded the limit 5 times! \n",
      "At step 37: The voltage exceeded the limit 5 times! \n",
      "At step 42: The voltage exceeded the limit 5 times! \n",
      "At step 47: The voltage exceeded the limit 5 times! \n",
      "At step 52: The voltage exceeded the limit 5 times! \n",
      "At step 57: The voltage exceeded the limit 5 times! \n",
      "At step 62: The voltage exceeded the limit 5 times! \n",
      "At step 67: The voltage exceeded the limit 5 times! \n",
      "At step 72: The voltage exceeded the limit 5 times! \n",
      "At step 77: The voltage exceeded the limit 5 times! \n",
      "At step 82: The voltage exceeded the limit 5 times! \n",
      "At step 87: The voltage exceeded the limit 5 times! \n",
      "At step 92: The voltage exceeded the limit 5 times! \n",
      "At step 97: The voltage exceeded the limit 5 times! \n",
      "At step 102: The voltage exceeded the limit 5 times! \n",
      "At step 107: The voltage exceeded the limit 5 times! \n",
      "At step 112: The voltage exceeded the limit 5 times! \n",
      "At step 117: The voltage exceeded the limit 5 times! \n",
      "At step 122: The voltage exceeded the limit 5 times! \n",
      "At step 127: The voltage exceeded the limit 5 times! \n",
      "At step 132: The voltage exceeded the limit 5 times! \n",
      "At step 137: The voltage exceeded the limit 5 times! \n",
      "At step 142: The voltage exceeded the limit 5 times! \n"
     ]
    },
    {
     "name": "stdout",
     "output_type": "stream",
     "text": [
      "At step 147: The voltage exceeded the limit 5 times! \n"
     ]
    }
   ],
   "source": [
    "for x in np.linspace(100, 200, 150):\n",
    "    y = np.random.randn()\n",
    "    dataSet.add_results([{\"x\": x, \"y\": y}])"
   ]
  },
  {
   "cell_type": "code",
   "execution_count": 7,
   "metadata": {
    "execution": {
     "iopub.execute_input": "2021-05-10T07:43:44.846380Z",
     "iopub.status.busy": "2021-05-10T07:43:44.844026Z",
     "iopub.status.idle": "2021-05-10T07:43:44.853375Z",
     "shell.execute_reply": "2021-05-10T07:43:44.852278Z"
    }
   },
   "outputs": [],
   "source": [
    "dataSet.unsubscribe_all()"
   ]
  },
  {
   "cell_type": "markdown",
   "metadata": {
    "collapsed": true
   },
   "source": [
    "## Example 2: ASCII Plotter\n",
    "\n",
    "While this example does not represent a data acqusition that one may deal with in a real experiment, it is a fun practice of subscribing to a dataset."
   ]
  },
  {
   "cell_type": "code",
   "execution_count": 8,
   "metadata": {
    "execution": {
     "iopub.execute_input": "2021-05-10T07:43:44.858750Z",
     "iopub.status.busy": "2021-05-10T07:43:44.858020Z",
     "iopub.status.idle": "2021-05-10T07:43:44.873424Z",
     "shell.execute_reply": "2021-05-10T07:43:44.872790Z"
    }
   },
   "outputs": [],
   "source": [
    "dataSet = new_data_set(\"test\", exp_id=exp.exp_id,\n",
    "                       specs=[ParamSpec(\"blip\", \"numeric\", unit='bit'),\n",
    "                              ParamSpec(\"blop\", \"numeric\", unit='bit')])\n",
    "dataSet.mark_started()"
   ]
  },
  {
   "cell_type": "code",
   "execution_count": 9,
   "metadata": {
    "execution": {
     "iopub.execute_input": "2021-05-10T07:43:44.879783Z",
     "iopub.status.busy": "2021-05-10T07:43:44.878706Z",
     "iopub.status.idle": "2021-05-10T07:43:44.883037Z",
     "shell.execute_reply": "2021-05-10T07:43:44.882103Z"
    }
   },
   "outputs": [],
   "source": [
    "def ASCII_plotter_5bit(results, length, state):\n",
    "    \"\"\"\n",
    "    Glorious 5-bit signal plotter\n",
    "    \n",
    "    Digitises the range (-1, 1) with 4 bits and plots it\n",
    "    in stdout. Crashes and burns if given data outside that\n",
    "    interval.\n",
    "    \"\"\"\n",
    "    for result in results:\n",
    "        plotline = ['.'] * 32\n",
    "        yvalue = result[1]\n",
    "        yvalue += 1\n",
    "        yvalue /= 2\n",
    "        yvalue = int(yvalue*31)\n",
    "        plotline[yvalue] = 'O'\n",
    "        print(''.join(plotline))\n",
    "        "
   ]
  },
  {
   "cell_type": "code",
   "execution_count": 10,
   "metadata": {
    "execution": {
     "iopub.execute_input": "2021-05-10T07:43:44.888289Z",
     "iopub.status.busy": "2021-05-10T07:43:44.886954Z",
     "iopub.status.idle": "2021-05-10T07:43:44.893960Z",
     "shell.execute_reply": "2021-05-10T07:43:44.892858Z"
    }
   },
   "outputs": [],
   "source": [
    "sub_id = dataSet.subscribe(ASCII_plotter_5bit, min_wait=0, min_count=3, state=[])"
   ]
  },
  {
   "cell_type": "code",
   "execution_count": 11,
   "metadata": {
    "execution": {
     "iopub.execute_input": "2021-05-10T07:43:44.899186Z",
     "iopub.status.busy": "2021-05-10T07:43:44.898558Z",
     "iopub.status.idle": "2021-05-10T07:43:55.143307Z",
     "shell.execute_reply": "2021-05-10T07:43:55.144238Z"
    }
   },
   "outputs": [
    {
     "name": "stdout",
     "output_type": "stream",
     "text": [
      "...............O................\n",
      ".................O..............\n",
      ".................O..............\n"
     ]
    },
    {
     "name": "stdout",
     "output_type": "stream",
     "text": [
      "..................O.............\n",
      ".....................O..........\n",
      "......................O.........\n"
     ]
    },
    {
     "name": "stdout",
     "output_type": "stream",
     "text": [
      ".......................O........\n",
      "........................O.......\n",
      "..........................O.....\n"
     ]
    },
    {
     "name": "stdout",
     "output_type": "stream",
     "text": [
      "........................O.......\n",
      "............................O...\n",
      "...........................O....\n"
     ]
    },
    {
     "name": "stdout",
     "output_type": "stream",
     "text": [
      "...........................O....\n",
      "...........................O....\n",
      ".............................O..\n"
     ]
    },
    {
     "name": "stdout",
     "output_type": "stream",
     "text": [
      "...............................O\n",
      "...............................O\n",
      ".............................O..\n"
     ]
    },
    {
     "name": "stdout",
     "output_type": "stream",
     "text": [
      ".............................O..\n",
      "...........................O....\n",
      ".............................O..\n"
     ]
    },
    {
     "name": "stdout",
     "output_type": "stream",
     "text": [
      "...........................O....\n",
      "...........................O....\n",
      "...........................O....\n"
     ]
    },
    {
     "name": "stdout",
     "output_type": "stream",
     "text": [
      "..........................O.....\n",
      "........................O.......\n",
      "........................O.......\n"
     ]
    },
    {
     "name": "stdout",
     "output_type": "stream",
     "text": [
      ".......................O........\n",
      "...................O............\n",
      "....................O...........\n"
     ]
    },
    {
     "name": "stdout",
     "output_type": "stream",
     "text": [
      "..................O.............\n",
      "..................O.............\n",
      "................O...............\n"
     ]
    },
    {
     "name": "stdout",
     "output_type": "stream",
     "text": [
      "..............O.................\n",
      "..............O.................\n",
      ".............O..................\n"
     ]
    },
    {
     "name": "stdout",
     "output_type": "stream",
     "text": [
      "............O...................\n",
      "..........O.....................\n",
      "........O.......................\n"
     ]
    },
    {
     "name": "stdout",
     "output_type": "stream",
     "text": [
      "........O.......................\n",
      ".......O........................\n",
      ".....O..........................\n"
     ]
    },
    {
     "name": "stdout",
     "output_type": "stream",
     "text": [
      "...O............................\n",
      "...O............................\n",
      "...O............................\n"
     ]
    },
    {
     "name": "stdout",
     "output_type": "stream",
     "text": [
      ".O..............................\n",
      "...O............................\n",
      ".O..............................\n"
     ]
    },
    {
     "name": "stdout",
     "output_type": "stream",
     "text": [
      ".O..............................\n",
      "O...............................\n",
      ".O..............................\n"
     ]
    },
    {
     "name": "stdout",
     "output_type": "stream",
     "text": [
      "O...............................\n",
      ".O..............................\n",
      "..O.............................\n"
     ]
    },
    {
     "name": "stdout",
     "output_type": "stream",
     "text": [
      "...O............................\n",
      "..O.............................\n",
      "....O...........................\n"
     ]
    },
    {
     "name": "stdout",
     "output_type": "stream",
     "text": [
      "..O.............................\n",
      ".......O........................\n",
      "......O.........................\n"
     ]
    },
    {
     "name": "stdout",
     "output_type": "stream",
     "text": [
      ".........O......................\n",
      ".........O......................\n",
      "..........O.....................\n"
     ]
    },
    {
     "name": "stdout",
     "output_type": "stream",
     "text": [
      "...........O....................\n",
      ".............O..................\n",
      "..............O.................\n"
     ]
    },
    {
     "name": "stdout",
     "output_type": "stream",
     "text": [
      "..............O.................\n",
      "................O...............\n",
      "................O...............\n"
     ]
    },
    {
     "name": "stdout",
     "output_type": "stream",
     "text": [
      "....................O...........\n",
      "....................O...........\n",
      "......................O.........\n"
     ]
    },
    {
     "name": "stdout",
     "output_type": "stream",
     "text": [
      ".....................O..........\n",
      ".........................O......\n",
      ".........................O......\n"
     ]
    },
    {
     "name": "stdout",
     "output_type": "stream",
     "text": [
      "..........................O.....\n",
      "............................O...\n",
      "...........................O....\n"
     ]
    },
    {
     "name": "stdout",
     "output_type": "stream",
     "text": [
      "............................O...\n",
      ".............................O..\n",
      ".............................O..\n"
     ]
    },
    {
     "name": "stdout",
     "output_type": "stream",
     "text": [
      "............................O...\n",
      ".............................O..\n",
      "............................O...\n"
     ]
    },
    {
     "name": "stdout",
     "output_type": "stream",
     "text": [
      "...............................O\n",
      "............................O...\n",
      "............................O...\n"
     ]
    },
    {
     "name": "stdout",
     "output_type": "stream",
     "text": [
      "..........................O.....\n",
      "...........................O....\n",
      "...........................O....\n"
     ]
    },
    {
     "name": "stdout",
     "output_type": "stream",
     "text": [
      "..........................O.....\n",
      "........................O.......\n",
      "........................O.......\n"
     ]
    },
    {
     "name": "stdout",
     "output_type": "stream",
     "text": [
      "......................O.........\n",
      "......................O.........\n",
      "....................O...........\n"
     ]
    },
    {
     "name": "stdout",
     "output_type": "stream",
     "text": [
      "..................O.............\n",
      "..................O.............\n",
      "...............O................\n"
     ]
    }
   ],
   "source": [
    "for x in np.linspace(0, 3*np.pi, 100):\n",
    "    yvalue = 0.9*np.sin(x) + np.random.randn()*0.05\n",
    "    dataSet.add_results([{\"blip\": x, \"blop\": yvalue}])\n",
    "    sleep(0.1)"
   ]
  },
  {
   "cell_type": "code",
   "execution_count": null,
   "metadata": {},
   "outputs": [],
   "source": []
  }
 ],
 "metadata": {
  "kernelspec": {
   "display_name": "Python 3",
   "language": "python",
   "name": "python3"
  },
  "language_info": {
   "codemirror_mode": {
    "name": "ipython",
    "version": 3
   },
   "file_extension": ".py",
   "mimetype": "text/x-python",
   "name": "python",
   "nbconvert_exporter": "python",
   "pygments_lexer": "ipython3",
   "version": "3.7.10"
  }
 },
 "nbformat": 4,
 "nbformat_minor": 2
}
