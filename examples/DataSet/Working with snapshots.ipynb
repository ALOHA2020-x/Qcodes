{
 "cells": [
  {
   "cell_type": "markdown",
   "metadata": {},
   "source": [
    "# Working with snapshots\n",
    "\n",
    "Here, the following topics are going to be covered:\n",
    "\n",
    "- What is a snapshot\n",
    "- How to create it\n",
    "- How it is saved next to the measurement data\n",
    "- How to extract snapshot from the dataset"
   ]
  },
  {
   "cell_type": "markdown",
   "metadata": {},
   "source": [
    "### Useful imports"
   ]
  },
  {
   "cell_type": "code",
   "execution_count": 1,
   "metadata": {
    "execution": {
     "iopub.execute_input": "2021-03-17T10:20:26.743437Z",
     "iopub.status.busy": "2021-03-17T10:20:26.742475Z",
     "iopub.status.idle": "2021-03-17T10:20:27.676064Z",
     "shell.execute_reply": "2021-03-17T10:20:27.675056Z"
    }
   },
   "outputs": [
    {
     "name": "stdout",
     "output_type": "stream",
     "text": [
      "Logging hadn't been started.\n",
      "Activating auto-logging. Current session state plus future input saved.\n",
      "Filename       : /home/runner/.qcodes/logs/command_history.log\n",
      "Mode           : append\n",
      "Output logging : True\n",
      "Raw input log  : False\n",
      "Timestamping   : True\n",
      "State          : active\n"
     ]
    },
    {
     "name": "stdout",
     "output_type": "stream",
     "text": [
      "Qcodes Logfile : /home/runner/.qcodes/logs/210317-7549-qcodes.log\n"
     ]
    }
   ],
   "source": [
    "from pprint import pprint  # for pretty-printing python variables like 'dict'\n",
    "import json  # for converting JSON data into python 'dict'\n",
    "\n",
    "import qcodes\n",
    "from qcodes import Parameter, Station, \\\n",
    "                   initialise_database, \\\n",
    "                   load_or_create_experiment, Measurement\n",
    "from qcodes.tests.instrument_mocks import DummyInstrument"
   ]
  },
  {
   "cell_type": "markdown",
   "metadata": {},
   "source": [
    "## What is a snapshot?\n",
    "\n",
    "Often times experiments comprise a complex network of interconnected instruments. Their numerous settings define the overall behavior of the experimental setup. Obviously, the experimental setup has a direct impact on the measured data which is of prime interest for researchers. In order to capture this link, the measured data should have metadata associated with it. An important part of that metadata is a captured state of the experimental setup. In QCoDeS terms, this is called snapshot."
   ]
  },
  {
   "cell_type": "markdown",
   "metadata": {},
   "source": [
    "## How to create a snapshot?\n",
    "\n",
    "All QCoDeS instruments and parameters (and some other objects too, like `InstrumentChannel`s) support snapshotting, which means that they provide a method to retrieve their state.\n",
    "\n",
    "Let's look at snapshots of various objects."
   ]
  },
  {
   "cell_type": "markdown",
   "metadata": {},
   "source": [
    "### Snapshot example for Parameter object"
   ]
  },
  {
   "cell_type": "markdown",
   "metadata": {},
   "source": [
    "Let's create a `Parameter`, call its `snapshot` method, and then inspect the output of that method.\n",
    "\n",
    "The returned snapshot is a python dictionary that reflects all the important properties of that parameter (check the name, label, unit, and even value)."
   ]
  },
  {
   "cell_type": "code",
   "execution_count": 2,
   "metadata": {
    "execution": {
     "iopub.execute_input": "2021-03-17T10:20:27.682221Z",
     "iopub.status.busy": "2021-03-17T10:20:27.681319Z",
     "iopub.status.idle": "2021-03-17T10:20:27.686422Z",
     "shell.execute_reply": "2021-03-17T10:20:27.685912Z"
    }
   },
   "outputs": [
    {
     "name": "stdout",
     "output_type": "stream",
     "text": [
      "{'__class__': 'qcodes.instrument.parameter.Parameter',\n",
      " 'full_name': 'p',\n",
      " 'inter_delay': 0,\n",
      " 'label': 'Parameter P',\n",
      " 'name': 'p',\n",
      " 'post_delay': 0,\n",
      " 'raw_value': 123,\n",
      " 'ts': '2021-03-17 10:20:27',\n",
      " 'unit': 'kg',\n",
      " 'value': 123}\n"
     ]
    }
   ],
   "source": [
    "p = Parameter('p', label='Parameter P', unit='kg', set_cmd=None, get_cmd=None)\n",
    "p.set(123)\n",
    "\n",
    "snapshot_of_p = p.snapshot()\n",
    "\n",
    "pprint(snapshot_of_p)"
   ]
  },
  {
   "cell_type": "markdown",
   "metadata": {},
   "source": [
    "In case you want to use the snapshot object in your code, you can refer to its contents in the same way as you work with python dictionaries, for example:"
   ]
  },
  {
   "cell_type": "code",
   "execution_count": 3,
   "metadata": {
    "execution": {
     "iopub.execute_input": "2021-03-17T10:20:27.690852Z",
     "iopub.status.busy": "2021-03-17T10:20:27.690304Z",
     "iopub.status.idle": "2021-03-17T10:20:27.694767Z",
     "shell.execute_reply": "2021-03-17T10:20:27.694271Z"
    }
   },
   "outputs": [
    {
     "name": "stdout",
     "output_type": "stream",
     "text": [
      "Value of Parameter P was 123 (when it was snapshotted).\n"
     ]
    }
   ],
   "source": [
    "print(f\"Value of {snapshot_of_p['label']} was {snapshot_of_p['value']} (when it was snapshotted).\")"
   ]
  },
  {
   "cell_type": "markdown",
   "metadata": {},
   "source": [
    "Note that the implementation of a particular QCoDeS object defines which attributes are snapshotted and how. For example, `Parameter` implements a keyword argument `snapshot_value` which allows to choose if the value of the parameter is snapshotted (the reasons for this are out of scope of this article). (Another interesting keyword argument of `Parameter` that is realated to snapshotting is `snapshot_get` - refer to `Parameters`'s docstring for more information.)"
   ]
  },
  {
   "cell_type": "markdown",
   "metadata": {},
   "source": [
    "Below is a demonstration of the `snapshot_value` keyword argument, notice that the value of the parameter is not part of the snapshot."
   ]
  },
  {
   "cell_type": "code",
   "execution_count": 4,
   "metadata": {
    "execution": {
     "iopub.execute_input": "2021-03-17T10:20:27.700334Z",
     "iopub.status.busy": "2021-03-17T10:20:27.699450Z",
     "iopub.status.idle": "2021-03-17T10:20:27.703737Z",
     "shell.execute_reply": "2021-03-17T10:20:27.704167Z"
    }
   },
   "outputs": [
    {
     "name": "stdout",
     "output_type": "stream",
     "text": [
      "{'__class__': 'qcodes.instrument.parameter.Parameter',\n",
      " 'full_name': 'q',\n",
      " 'inter_delay': 0,\n",
      " 'label': 'Parameter Q',\n",
      " 'name': 'q',\n",
      " 'post_delay': 0,\n",
      " 'ts': None,\n",
      " 'unit': 'A'}\n"
     ]
    }
   ],
   "source": [
    "q = Parameter('q', label='Parameter Q', unit='A', snapshot_value=False, set_cmd=None, get_cmd=None)\n",
    "p.set(456)\n",
    "\n",
    "snapshot_of_q = q.snapshot()\n",
    "\n",
    "pprint(snapshot_of_q)"
   ]
  },
  {
   "cell_type": "markdown",
   "metadata": {},
   "source": [
    "### Snapshot of an Instrument\n",
    "\n",
    "Now let's have a brief look at snapshots of instruments. For the sake of exercise, we are going to use a \"dummy\" instrument."
   ]
  },
  {
   "cell_type": "code",
   "execution_count": 5,
   "metadata": {
    "execution": {
     "iopub.execute_input": "2021-03-17T10:20:27.708913Z",
     "iopub.status.busy": "2021-03-17T10:20:27.708351Z",
     "iopub.status.idle": "2021-03-17T10:20:27.711972Z",
     "shell.execute_reply": "2021-03-17T10:20:27.711462Z"
    }
   },
   "outputs": [],
   "source": [
    "# A dummy instrument with two parameters, \"input\" and \"output\", plus a third one we'll use later.\n",
    "instr = DummyInstrument('instr', gates=['input', 'output', 'gain'])\n",
    "instr.gain(11)"
   ]
  },
  {
   "cell_type": "code",
   "execution_count": 6,
   "metadata": {
    "execution": {
     "iopub.execute_input": "2021-03-17T10:20:27.718800Z",
     "iopub.status.busy": "2021-03-17T10:20:27.715918Z",
     "iopub.status.idle": "2021-03-17T10:20:27.730441Z",
     "shell.execute_reply": "2021-03-17T10:20:27.730900Z"
    }
   },
   "outputs": [
    {
     "name": "stdout",
     "output_type": "stream",
     "text": [
      "{   '__class__': 'qcodes.tests.instrument_mocks.DummyInstrument',\n",
      "    'functions': {},\n",
      "    'name': 'instr',\n",
      "    'parameters': {   'IDN': {   '__class__': 'qcodes.instrument.parameter.Parameter',\n",
      "                                 'full_name': 'instr_IDN',\n",
      "                                 'instrument': 'qcodes.tests.instrument_mocks.DummyInstrument',\n",
      "                                 'instrument_name': 'instr',\n",
      "                                 'inter_delay': 0,\n",
      "                                 'label': 'IDN',\n",
      "                                 'name': 'IDN',\n",
      "                                 'post_delay': 0,\n",
      "                                 'raw_value': None,\n",
      "                                 'ts': None,\n",
      "                                 'unit': '',\n",
      "                                 'vals': '<Anything>',\n",
      "                                 'value': None},\n",
      "                      'gain': {   '__class__': 'qcodes.instrument.parameter.Parameter',\n",
      "                                  'full_name': 'instr_gain',\n",
      "                                  'instrument': 'qcodes.tests.instrument_mocks.DummyInstrument',\n",
      "                                  'instrument_name': 'instr',\n",
      "                                  'inter_delay': 0,\n",
      "                                  'label': 'Gate gain',\n",
      "                                  'name': 'gain',\n",
      "                                  'post_delay': 0,\n",
      "                                  'raw_value': 11,\n",
      "                                  'ts': '2021-03-17 10:20:27',\n",
      "                                  'unit': 'V',\n",
      "                                  'vals': '<Numbers -800<=v<=400>',\n",
      "                                  'value': 11},\n",
      "                      'input': {   '__class__': 'qcodes.instrument.parameter.Parameter',\n",
      "                                   'full_name': 'instr_input',\n",
      "                                   'instrument': 'qcodes.tests.instrument_mocks.DummyInstrument',\n",
      "                                   'instrument_name': 'instr',\n",
      "                                   'inter_delay': 0,\n",
      "                                   'label': 'Gate input',\n",
      "                                   'name': 'input',\n",
      "                                   'post_delay': 0,\n",
      "                                   'raw_value': 0,\n",
      "                                   'ts': '2021-03-17 10:20:27',\n",
      "                                   'unit': 'V'"
     ]
    },
    {
     "name": "stdout",
     "output_type": "stream",
     "text": [
      ",\n",
      "                                   'vals': '<Numbers -800<=v<=400>',\n",
      "                                   'value': 0},\n",
      "                      'output': {   '__class__': 'qcodes.instrument.parameter.Parameter',\n",
      "                                    'full_name': 'instr_output',\n",
      "                                    'instrument': 'qcodes.tests.instrument_mocks.DummyInstrument',\n",
      "                                    'instrument_name': 'instr',\n",
      "                                    'inter_delay': 0,\n",
      "                                    'label': 'Gate output',\n",
      "                                    'name': 'output',\n",
      "                                    'post_delay': 0,\n",
      "                                    'raw_value': 0,\n",
      "                                    'ts': '2021-03-17 10:20:27',\n",
      "                                    'unit': 'V',\n",
      "                                    'vals': '<Numbers -800<=v<=400>',\n",
      "                                    'value': 0}},\n",
      "    'submodules': {}}\n"
     ]
    }
   ],
   "source": [
    "snapshot_of_instr = instr.snapshot()\n",
    "\n",
    "pprint(snapshot_of_instr, indent=4)"
   ]
  },
  {
   "cell_type": "markdown",
   "metadata": {},
   "source": [
    "### Station and its snapshot\n",
    "\n",
    "Experimental setups are large, and instruments tend to be quite complex in that they comprise many parameters and other stateful parts. It would be very time-consuming for the user to manually go through every instrument and parameter, and collect the snapshot data.\n",
    "\n",
    "Here is where the concept of station comes into play. Instruments, parameters, and other submodules can be added to a [Station object](../Station.ipynb) ([nbviewer.jupyter.org link](https://nbviewer.jupyter.org/github/QCoDeS/Qcodes/tree/master/docs/examples/Station.ipynb)). In turn, the station has its `snapshot` method that allows to create a collective, single snapshot of all the instruments, parameters, and submodules.\n",
    "\n",
    "Note that in this article the focus is on the snapshot feature of the QCoDeS `Station`, while it has some other features (also some legacy once)."
   ]
  },
  {
   "cell_type": "markdown",
   "metadata": {},
   "source": [
    "Let's create a station, and add a parameter, instrument, and submodule to it. Then we will print the snapshot. Notice that the station is aware of insturments and stand-alone parameters, and classifies them into dedicated lists within the snapshot."
   ]
  },
  {
   "cell_type": "code",
   "execution_count": 7,
   "metadata": {
    "execution": {
     "iopub.execute_input": "2021-03-17T10:20:27.742768Z",
     "iopub.status.busy": "2021-03-17T10:20:27.739726Z",
     "iopub.status.idle": "2021-03-17T10:20:27.747571Z",
     "shell.execute_reply": "2021-03-17T10:20:27.747071Z"
    }
   },
   "outputs": [
    {
     "data": {
      "text/plain": [
       "'instr'"
      ]
     },
     "execution_count": 1,
     "metadata": {},
     "output_type": "execute_result"
    }
   ],
   "source": [
    "station = Station()\n",
    "\n",
    "station.add_component(p)\n",
    "station.add_component(instr)\n",
    "# Note that it is also possible to add components \n",
    "# to a station via arguments of its constructor, like this:\n",
    "#     station = Station(p, instr)"
   ]
  },
  {
   "cell_type": "code",
   "execution_count": 8,
   "metadata": {
    "execution": {
     "iopub.execute_input": "2021-03-17T10:20:27.753835Z",
     "iopub.status.busy": "2021-03-17T10:20:27.752624Z",
     "iopub.status.idle": "2021-03-17T10:20:27.778273Z",
     "shell.execute_reply": "2021-03-17T10:20:27.777756Z"
    }
   },
   "outputs": [
    {
     "name": "stdout",
     "output_type": "stream",
     "text": [
      "{'components': {},\n",
      " 'config': None,\n",
      " 'instruments': {'instr': {'__class__': 'qcodes.tests.instrument_mocks.DummyInstrument',\n",
      "                           'functions': {},\n",
      "                           'name': 'instr',\n",
      "                           'parameters': {'IDN': {'__class__': 'qcodes.instrument.parameter.Parameter',\n",
      "                                                  'full_name': 'instr_IDN',\n",
      "                                                  'instrument': 'qcodes.tests.instrument_mocks.DummyInstrument',\n",
      "                                                  'instrument_name': 'instr',\n",
      "                                                  'inter_delay': 0,\n",
      "                                                  'label': 'IDN',\n",
      "                                                  'name': 'IDN',\n",
      "                                                  'post_delay': 0,\n",
      "                                                  'raw_value': {'firmware': None,\n",
      "                                                                'model': 'instr',\n",
      "                                                                'serial': None,\n",
      "                                                                'vendor': None},\n",
      "                                                  'ts': '2021-03-17 10:20:27',\n",
      "                                                  'unit': '',\n",
      "                                                  'vals': '<Anything>',\n",
      "                                                  'value': {'firmware': None,\n",
      "                                                            'model': 'instr',\n",
      "                                                            'serial': None,\n",
      "                                                            'vendor': None}},\n",
      "                                          'gain': {'__class__': 'qcodes.instrument.parameter.Parameter',\n",
      "                                                   'full_name': 'instr_gain',\n",
      "                                                   'instrument': 'qcodes.tests.instrument_mocks.DummyInstrument',\n",
      "                                                   'instrument_name': 'instr',\n",
      "                                                   'inter_delay': 0,\n",
      "                                                   'label': 'Gate gain',\n",
      "                                                   'name': 'gain',\n",
      "                                                   'post_delay': 0,\n",
      "                                                   'raw_value': 11,\n",
      "                                                   'ts': '2021-03-17 10:20:27',\n",
      "                                                   'unit': 'V',\n",
      "                                                   'vals': '<Numbers '\n",
      "                                                           '-800<=v<=400>',\n",
      "                                                   'value': 11},\n",
      "                                          'input': {'__class__': 'qcodes.instrument.parameter.Parameter',\n",
      "                                                    'full_name': 'instr_input',\n",
      "                                                    'instrument': 'qcodes.tests.instrument_mocks.DummyInstrument',\n",
      "                                                    'instrument_name': 'instr',\n",
      "                                                    'inter_delay': 0,\n",
      "                                                    'label': 'Gate input',\n",
      "                                                    'name': 'input',\n",
      "                                                    'post_delay': 0,\n",
      "                                                    'raw_value': 0,\n",
      "                                                    'ts': '2021-03-17 10:20:27',\n",
      "                                                    'unit': 'V',\n",
      "                                                    'vals': '<Numbers '\n",
      "                                                            '-800<=v<=400>',\n",
      "                                                    'value': 0},\n",
      "                                          'output': {'__class__': 'qcodes.instrument.parameter.Parameter',\n",
      "                                                     'full_name': 'instr_output',\n",
      "                                                     'instrument': 'qcodes.tests.instrument_mocks.DummyInstrument',\n",
      "                                                     'instrument_name': 'instr',\n",
      "                                                     'inter_delay': 0,\n",
      "                                                     'label': 'Gate output',\n",
      "                                                     'name': 'output',\n",
      "                                                     'post_delay': 0,\n",
      "                                                     'raw_value': 0,\n",
      "                                                     'ts': '2021-03-17 '\n",
      "                                                           '10:20:27',\n",
      "                                                     'unit': 'V',\n",
      "                                                     'vals': '<Numbers '\n",
      "                                                             '-800<=v<=400>',\n",
      "                                                     'value': 0}},\n",
      "                           'submodules': {}}},\n",
      " 'parameters': {'p': {'__class__': 'qcodes.instrument.parameter.Parameter',\n",
      "                      'full_name': 'p',\n",
      "                      'inter_delay': 0,\n",
      "                      'label': 'Parameter P',\n",
      "                      'name': 'p',\n",
      "                      'post_delay': 0,\n",
      "                      'raw_value': 456,\n",
      "                      'ts': '2021-03-17 10:20:27',\n",
      "                      'unit': 'kg',\n",
      "                      'value': 456}}}\n"
     ]
    }
   ],
   "source": [
    "snapshot_of_station = station.snapshot()\n",
    "\n",
    "pprint(snapshot_of_station)"
   ]
  },
  {
   "cell_type": "markdown",
   "metadata": {},
   "source": [
    "## Saving snapshot next to the measurement data\n",
    "\n",
    "With the power of the station object, it is now possible to conveniently associate the snapshot information with the measured data.\n",
    "\n",
    "In order to do so, a station needs to be created, and then that station needs to be provided to the `Measurement` object. If no station is explicitly provided, the `Measurement` object will use the default station, `Station.default` (refer to `Measurement` and `Station` objects docstrings for more information). At the moment the new measurement run is started, a snapshot of the whole station will be taken, and added next to the measured data.\n",
    "\n",
    "Note that the snapshot gets stored in a JSON format (an automatic convertion from python dictionary to JSON takes place). This is done in order to ensure that the snapshot can be read in environments other than python. JSON is an extemely popular data format, and all platforms/environments/languages/frameworks have means to read JSON-formatted data."
   ]
  },
  {
   "cell_type": "markdown",
   "metadata": {},
   "source": [
    "Here is how it looks in the code. We will create a new experiment. Then we are going to reuse the station object created above, and create a new measurement object. Then we will perform a dummy measurement. After that we are going to extract the snapshot from the resulting dataset, and print it."
   ]
  },
  {
   "cell_type": "code",
   "execution_count": 9,
   "metadata": {
    "execution": {
     "iopub.execute_input": "2021-03-17T10:20:27.782830Z",
     "iopub.status.busy": "2021-03-17T10:20:27.782016Z",
     "iopub.status.idle": "2021-03-17T10:20:27.795278Z",
     "shell.execute_reply": "2021-03-17T10:20:27.795750Z"
    }
   },
   "outputs": [],
   "source": [
    "# Let's initialize a database to ensure that it exists\n",
    "initialise_database()\n",
    "\n",
    "# Let's create a new experiment\n",
    "experiment = load_or_create_experiment('snapshot_experiment', 'no_sample_yet')"
   ]
  },
  {
   "cell_type": "code",
   "execution_count": 10,
   "metadata": {
    "execution": {
     "iopub.execute_input": "2021-03-17T10:20:27.801625Z",
     "iopub.status.busy": "2021-03-17T10:20:27.799914Z",
     "iopub.status.idle": "2021-03-17T10:20:27.806305Z",
     "shell.execute_reply": "2021-03-17T10:20:27.805807Z"
    }
   },
   "outputs": [
    {
     "data": {
      "text/plain": [
       "<qcodes.dataset.measurements.Measurement at 0x7f10d901fe90>"
      ]
     },
     "execution_count": 1,
     "metadata": {},
     "output_type": "execute_result"
    }
   ],
   "source": [
    "measurement = Measurement(experiment, station)\n",
    "\n",
    "measurement.register_parameter(instr.input)\n",
    "measurement.register_parameter(instr.output, setpoints=[instr.input])"
   ]
  },
  {
   "cell_type": "code",
   "execution_count": 11,
   "metadata": {
    "execution": {
     "iopub.execute_input": "2021-03-17T10:20:27.811407Z",
     "iopub.status.busy": "2021-03-17T10:20:27.810840Z",
     "iopub.status.idle": "2021-03-17T10:20:27.830072Z",
     "shell.execute_reply": "2021-03-17T10:20:27.830501Z"
    }
   },
   "outputs": [
    {
     "name": "stdout",
     "output_type": "stream",
     "text": [
      "Starting experimental run with id: 47. \n"
     ]
    }
   ],
   "source": [
    "with measurement.run() as data_saver:\n",
    "    input_value = 111\n",
    "    instr.input.set(input_value)\n",
    "    \n",
    "    instr.output.set(222)  # assuming that the instrument measured this value on the output\n",
    "    \n",
    "    data_saver.add_result((instr.input, input_value),\n",
    "                          (instr.output, instr.output()))\n",
    "\n",
    "# For convenience, let's work with the dataset object directly\n",
    "dataset = data_saver.dataset"
   ]
  },
  {
   "cell_type": "markdown",
   "metadata": {},
   "source": [
    "## Extracting snapshot from dataset"
   ]
  },
  {
   "cell_type": "markdown",
   "metadata": {},
   "source": [
    "Now we have a dataset that contains data from the measurement run. It also contains the snapshot.\n",
    "\n",
    "In order to access the snapshot, use the `DataSet`'s properties called `snapshot` and `snapshot_raw`. As their docstrings declare, the former returns the snapshot of the run as a python dictionary, while the latter returns it as JSON string (in other words, in exactly the same format as it is stored in the experiments database)."
   ]
  },
  {
   "cell_type": "code",
   "execution_count": 12,
   "metadata": {
    "execution": {
     "iopub.execute_input": "2021-03-17T10:20:27.834508Z",
     "iopub.status.busy": "2021-03-17T10:20:27.833958Z",
     "iopub.status.idle": "2021-03-17T10:20:27.838208Z",
     "shell.execute_reply": "2021-03-17T10:20:27.837714Z"
    }
   },
   "outputs": [],
   "source": [
    "snapshot_of_run = dataset.snapshot"
   ]
  },
  {
   "cell_type": "code",
   "execution_count": 13,
   "metadata": {
    "execution": {
     "iopub.execute_input": "2021-03-17T10:20:27.841892Z",
     "iopub.status.busy": "2021-03-17T10:20:27.841343Z",
     "iopub.status.idle": "2021-03-17T10:20:27.845345Z",
     "shell.execute_reply": "2021-03-17T10:20:27.844853Z"
    }
   },
   "outputs": [],
   "source": [
    "snapshot_of_run_in_json_format = dataset.snapshot_raw"
   ]
  },
  {
   "cell_type": "markdown",
   "metadata": {},
   "source": [
    "To prove that these snapshots are the same, use `json.loads` or `json.dumps` to assert the values of the variables:"
   ]
  },
  {
   "cell_type": "code",
   "execution_count": 14,
   "metadata": {
    "execution": {
     "iopub.execute_input": "2021-03-17T10:20:27.849424Z",
     "iopub.status.busy": "2021-03-17T10:20:27.848849Z",
     "iopub.status.idle": "2021-03-17T10:20:27.852467Z",
     "shell.execute_reply": "2021-03-17T10:20:27.851970Z"
    }
   },
   "outputs": [],
   "source": [
    "assert json.loads(snapshot_of_run_in_json_format) == snapshot_of_run"
   ]
  },
  {
   "cell_type": "code",
   "execution_count": 15,
   "metadata": {
    "execution": {
     "iopub.execute_input": "2021-03-17T10:20:27.856436Z",
     "iopub.status.busy": "2021-03-17T10:20:27.855895Z",
     "iopub.status.idle": "2021-03-17T10:20:27.859485Z",
     "shell.execute_reply": "2021-03-17T10:20:27.858995Z"
    }
   },
   "outputs": [],
   "source": [
    "assert json.dumps(snapshot_of_run) == snapshot_of_run_in_json_format"
   ]
  },
  {
   "cell_type": "markdown",
   "metadata": {},
   "source": [
    "Finally, let's pretty-print the snapshot. Notice that the values of the `input` and `output` parameters of the `instr` instrument have `0`s as values, and not `111` and `222` that were set during the measurement run."
   ]
  },
  {
   "cell_type": "code",
   "execution_count": 16,
   "metadata": {
    "execution": {
     "iopub.execute_input": "2021-03-17T10:20:27.865505Z",
     "iopub.status.busy": "2021-03-17T10:20:27.863192Z",
     "iopub.status.idle": "2021-03-17T10:20:27.889733Z",
     "shell.execute_reply": "2021-03-17T10:20:27.889217Z"
    }
   },
   "outputs": [
    {
     "name": "stdout",
     "output_type": "stream",
     "text": [
      "{'station': {'components': {},\n",
      "             'config': None,\n",
      "             'instruments': {'instr': {'__class__': 'qcodes.tests.instrument_mocks.DummyInstrument',\n",
      "                                       'functions': {},\n",
      "                                       'name': 'instr',\n",
      "                                       'parameters': {'IDN': {'__class__': 'qcodes.instrument.parameter.Parameter',\n",
      "                                                              'full_name': 'instr_IDN',\n",
      "                                                              'instrument': 'qcodes.tests.instrument_mocks.DummyInstrument',\n",
      "                                                              'instrument_name': 'instr',\n",
      "                                                              'inter_delay': 0,\n",
      "                                                              'label': 'IDN',\n",
      "                                                              'name': 'IDN',\n",
      "                                                              'post_delay': 0,\n",
      "                                                              'raw_value': {'firmware': None,\n",
      "                                                                            'model': 'instr',\n",
      "                                                                            'serial': None,\n",
      "                                                                            'vendor': None},\n",
      "                                                              'ts': '2021-03-17 '\n",
      "                                                                    '10:20:27',\n",
      "                                                              'unit': '',\n",
      "                                                              'vals': '<Anything>',\n",
      "                                                              'value': {'firmware': None,\n",
      "                                                                        'model': 'instr',\n",
      "                                                                        'serial': None,\n",
      "                                                                        'vendor': None}},\n",
      "                                                      'gain': {'__class__': 'qcodes.instrument.parameter.Parameter',\n",
      "                                                               'full_name': 'instr_gain',\n",
      "                                                               'instrument': 'qcodes.tests.instrument_mocks.DummyInstrument',\n",
      "                                                               'instrument_name': 'instr',\n",
      "                                                               'inter_delay': 0,\n",
      "                                                               'label': 'Gate '\n",
      "                                                                        'gain',\n",
      "                                                               'name': 'gain',\n",
      "                                                               'post_delay': 0,\n",
      "                                                               'raw_value': 11,\n",
      "                                                               'ts': '2021-03-17 '\n",
      "                                                                     '10:20:27',\n",
      "                                                               'unit': 'V',\n",
      "                                                               'vals': '<Numbers '\n",
      "                                                                       '-800<=v<=400>',\n",
      "                                                               'value': 11},\n",
      "                                                      'input': {'__class__': 'qcodes.instrument.parameter.Parameter',\n",
      "                                                                'full_name': 'instr_input',\n",
      "                                                                'instrument': 'qcodes.tests.instrument_mocks.DummyInstrument',\n",
      "                                                                'instrument_name': 'instr',\n",
      "                                                                'inter_delay': 0,\n",
      "                                                                'label': 'Gate '\n",
      "                                                                         'input',\n",
      "                                                                'name': 'input',\n",
      "                                                                'post_delay': 0,\n",
      "                                                                'raw_value': 0,\n",
      "                                                                'ts': '2021-03-17 '\n",
      "                                                                      '10:20:27',\n",
      "                                                                'unit': 'V',\n",
      "                                                                'vals': '<Numbers '\n",
      "                                                                        '-800<=v<=400>',\n",
      "                                                                'value': 0},\n",
      "                                                      'output': {'__class__': 'qcodes.instrument.parameter.Parameter',\n",
      "                                                                 'full_name': 'instr_output',\n",
      "                                                                 'instrument': 'qcodes.tests.instrument_mocks.DummyInstrument',\n",
      "                                                                 'instrument_name': 'instr',\n",
      "                                                                 'inter_delay': 0,\n",
      "                                                                 'label': 'Gate '\n",
      "                                                                          'output',\n",
      "                                                                 'name': 'output',\n",
      "                                                                 'post_delay': 0,\n",
      "                                                                 'raw_value': 0,\n",
      "                                                                 'ts': '2021-03-17 '\n",
      "                                                                       '10:20:27',\n",
      "                                                                 'unit': 'V',\n",
      "                                                                 'vals': '<Numbers '\n",
      "                                                                         '-800<=v<=400>',\n",
      "                                                                 'value': 0}},\n",
      "                                       'submodules': {}}},\n",
      "             'parameters': {'p': {'__class__': 'qcodes.instrument.parameter.Parameter',\n",
      "                                  'full_name': 'p',\n",
      "                                  'inter_delay': 0,\n",
      "                                  'label'"
     ]
    },
    {
     "name": "stdout",
     "output_type": "stream",
     "text": [
      ": 'Parameter P',\n",
      "                                  'name': 'p',\n",
      "                                  'post_delay': 0,\n",
      "                                  'raw_value': 456,\n",
      "                                  'ts': '2021-03-17 10:20:27',\n",
      "                                  'unit': 'kg',\n",
      "                                  'value': 456}}}}\n"
     ]
    }
   ],
   "source": [
    "pprint(snapshot_of_run)"
   ]
  },
  {
   "cell_type": "markdown",
   "metadata": {},
   "source": [
    "Note that the snapshot that we have just loaded from the dataset is almost the same as the snapshot that we directly obtained from the station above. The only difference is that the snapshot loaded from the dataset has a top-level `station` field. If you do not trust me, have a look at the following `assert` statement for the proof."
   ]
  },
  {
   "cell_type": "code",
   "execution_count": 17,
   "metadata": {
    "execution": {
     "iopub.execute_input": "2021-03-17T10:20:27.893656Z",
     "iopub.status.busy": "2021-03-17T10:20:27.892833Z",
     "iopub.status.idle": "2021-03-17T10:20:27.896771Z",
     "shell.execute_reply": "2021-03-17T10:20:27.896283Z"
    }
   },
   "outputs": [],
   "source": [
    "assert {'station': snapshot_of_station} == snapshot_of_run"
   ]
  },
  {
   "cell_type": "markdown",
   "metadata": {},
   "source": [
    "## Comparing how two DataSets were taken"
   ]
  },
  {
   "cell_type": "markdown",
   "metadata": {},
   "source": [
    "Suppose something went wrong in an experiment, and you'd like to compare what changed since a known-good run.\n",
    "QCoDeS lets you do this by taking a *diff* between the snapshots for two `DataSet` instances."
   ]
  },
  {
   "cell_type": "code",
   "execution_count": 18,
   "metadata": {
    "execution": {
     "iopub.execute_input": "2021-03-17T10:20:27.901696Z",
     "iopub.status.busy": "2021-03-17T10:20:27.900591Z",
     "iopub.status.idle": "2021-03-17T10:20:27.906182Z",
     "shell.execute_reply": "2021-03-17T10:20:27.906612Z"
    }
   },
   "outputs": [
    {
     "data": {
      "text/plain": [
       "<qcodes.dataset.measurements.Measurement at 0x7f10d8fb5c50>"
      ]
     },
     "execution_count": 1,
     "metadata": {},
     "output_type": "execute_result"
    }
   ],
   "source": [
    "measurement = Measurement(experiment, station)\n",
    "\n",
    "measurement.register_parameter(instr.input)\n",
    "measurement.register_parameter(instr.output, setpoints=[instr.input])"
   ]
  },
  {
   "cell_type": "code",
   "execution_count": 19,
   "metadata": {
    "execution": {
     "iopub.execute_input": "2021-03-17T10:20:27.911418Z",
     "iopub.status.busy": "2021-03-17T10:20:27.910443Z",
     "iopub.status.idle": "2021-03-17T10:20:27.928289Z",
     "shell.execute_reply": "2021-03-17T10:20:27.927279Z"
    }
   },
   "outputs": [
    {
     "name": "stdout",
     "output_type": "stream",
     "text": [
      "Starting experimental run with id: 48. \n"
     ]
    }
   ],
   "source": [
    "instr.gain(400) # Oops!\n",
    "with measurement.run() as data_saver:\n",
    "    input_value = 111\n",
    "    instr.input.set(input_value)\n",
    "    \n",
    "    instr.output.set(222)  # assuming that the instrument measured this value on the output\n",
    "    \n",
    "    data_saver.add_result((instr.input, input_value),\n",
    "                          (instr.output, instr.output()))\n",
    "\n",
    "# For convenience, let's work with the dataset object directly\n",
    "bad_dataset = data_saver.dataset"
   ]
  },
  {
   "cell_type": "markdown",
   "metadata": {},
   "source": [
    "The `diff_param_values` function tells us about the parameters that changed betw"
   ]
  },
  {
   "cell_type": "code",
   "execution_count": 20,
   "metadata": {
    "execution": {
     "iopub.execute_input": "2021-03-17T10:20:27.932296Z",
     "iopub.status.busy": "2021-03-17T10:20:27.931750Z",
     "iopub.status.idle": "2021-03-17T10:20:27.935454Z",
     "shell.execute_reply": "2021-03-17T10:20:27.934969Z"
    }
   },
   "outputs": [],
   "source": [
    "from qcodes.utils.metadata import diff_param_values"
   ]
  },
  {
   "cell_type": "code",
   "execution_count": 21,
   "metadata": {
    "execution": {
     "iopub.execute_input": "2021-03-17T10:20:27.939780Z",
     "iopub.status.busy": "2021-03-17T10:20:27.938831Z",
     "iopub.status.idle": "2021-03-17T10:20:27.945695Z",
     "shell.execute_reply": "2021-03-17T10:20:27.945197Z"
    }
   },
   "outputs": [
    {
     "data": {
      "text/plain": [
       "{('instr', 'output'): (0, 222),\n",
       " ('instr', 'input'): (0, 111),\n",
       " ('instr', 'gain'): (11, 400)}"
      ]
     },
     "execution_count": 1,
     "metadata": {},
     "output_type": "execute_result"
    }
   ],
   "source": [
    "diff_param_values(dataset.snapshot, bad_dataset.snapshot).changed"
   ]
  },
  {
   "cell_type": "code",
   "execution_count": null,
   "metadata": {},
   "outputs": [],
   "source": []
  }
 ],
 "metadata": {
  "kernelspec": {
   "display_name": "Python 3",
   "language": "python",
   "name": "python3"
  },
  "language_info": {
   "codemirror_mode": {
    "name": "ipython",
    "version": 3
   },
   "file_extension": ".py",
   "mimetype": "text/x-python",
   "name": "python",
   "nbconvert_exporter": "python",
   "pygments_lexer": "ipython3",
   "version": "3.7.10"
  },
  "toc": {
   "base_numbering": 1,
   "nav_menu": {},
   "number_sections": true,
   "sideBar": true,
   "skip_h1_title": false,
   "title_cell": "Table of Contents",
   "title_sidebar": "Contents",
   "toc_cell": false,
   "toc_position": {},
   "toc_section_display": true,
   "toc_window_display": false
  },
  "varInspector": {
   "cols": {
    "lenName": 16,
    "lenType": 16,
    "lenVar": 40
   },
   "kernels_config": {
    "python": {
     "delete_cmd_postfix": "",
     "delete_cmd_prefix": "del ",
     "library": "var_list.py",
     "varRefreshCmd": "print(var_dic_list())"
    },
    "r": {
     "delete_cmd_postfix": ") ",
     "delete_cmd_prefix": "rm(",
     "library": "var_list.r",
     "varRefreshCmd": "cat(var_dic_list()) "
    }
   },
   "types_to_exclude": [
    "module",
    "function",
    "builtin_function_or_method",
    "instance",
    "_Feature"
   ],
   "window_display": false
  }
 },
 "nbformat": 4,
 "nbformat_minor": 4
}
