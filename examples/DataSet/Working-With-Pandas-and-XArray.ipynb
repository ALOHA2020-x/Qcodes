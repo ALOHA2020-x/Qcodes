{
 "cells": [
  {
   "cell_type": "markdown",
   "metadata": {},
   "source": [
    "# Working with Pandas and XArray"
   ]
  },
  {
   "cell_type": "markdown",
   "metadata": {},
   "source": [
    "This notebook demonstrates how Pandas and XArray can be used to work with the [QCoDeS DataSet](DataSet-class-walkthrough.ipynb). It is not meant as a general introduction to Pandas and XArray. We refer to the official documentation for [Pandas](https://pandas.pydata.org/) and [XArray](http://xarray.pydata.org/en/stable/) for this. This notebook requires that both Pandas and XArray are installed."
   ]
  },
  {
   "cell_type": "markdown",
   "metadata": {},
   "source": [
    "## Setup"
   ]
  },
  {
   "cell_type": "markdown",
   "metadata": {},
   "source": [
    "First we borrow an example from the measurement notebook to have some data to work with. We split the measurement in two so we can try merging it with Pandas."
   ]
  },
  {
   "cell_type": "code",
   "execution_count": 1,
   "metadata": {},
   "outputs": [
    {
     "name": "stdout",
     "output_type": "stream",
     "text": [
      "Logging hadn't been started.\n",
      "Activating auto-logging. Current session state plus future input saved.\n",
      "Filename       : /home/vsts/.qcodes/logs/command_history.log\n",
      "Mode           : append\n",
      "Output logging : True\n",
      "Raw input log  : False\n",
      "Timestamping   : True\n",
      "State          : active\n"
     ]
    },
    {
     "name": "stdout",
     "output_type": "stream",
     "text": [
      "Qcodes Logfile : /home/vsts/.qcodes/logs/200316-23758-qcodes.log\n",
      "Activating auto-logging. Current session state plus future input saved.\n",
      "Filename       : /home/vsts/.qcodes/logs/command_history.log\n",
      "Mode           : append\n",
      "Output logging : True\n",
      "Raw input log  : False\n",
      "Timestamping   : True\n",
      "State          : active\n"
     ]
    },
    {
     "name": "stdout",
     "output_type": "stream",
     "text": [
      "Qcodes Logfile : /home/vsts/.qcodes/logs/200316-23758-qcodes.log\n"
     ]
    }
   ],
   "source": [
    "%matplotlib inline\n",
    "import pandas as pd\n",
    "from functools import partial\n",
    "import numpy as np\n",
    "import matplotlib.pyplot as plt\n",
    "\n",
    "import qcodes as qc\n",
    "from qcodes import load_or_create_experiment, initialise_database, Measurement\n",
    "from qcodes.tests.instrument_mocks import DummyInstrument\n",
    "\n",
    "qc.logger.start_all_logging()"
   ]
  },
  {
   "cell_type": "code",
   "execution_count": 2,
   "metadata": {},
   "outputs": [],
   "source": [
    "# preparatory mocking of physical setup\n",
    "dac = DummyInstrument('dac', gates=['ch1', 'ch2'])\n",
    "dmm = DummyInstrument('dmm', gates=['v1', 'v2'])\n",
    "station = qc.Station(dmm, dac)"
   ]
  },
  {
   "cell_type": "code",
   "execution_count": 3,
   "metadata": {},
   "outputs": [],
   "source": [
    "initialise_database()\n",
    "exp = load_or_create_experiment(experiment_name='working_with_pandas',\n",
    "                          sample_name=\"no sample\")"
   ]
  },
  {
   "cell_type": "code",
   "execution_count": 4,
   "metadata": {},
   "outputs": [
    {
     "data": {
      "text/plain": [
       "<qcodes.dataset.measurements.Measurement at 0x7ff5d61b3e90>"
      ]
     },
     "execution_count": 4,
     "metadata": {},
     "output_type": "execute_result"
    }
   ],
   "source": [
    "meas = Measurement(exp)\n",
    "meas.register_parameter(dac.ch1)  # register the first independent parameter\n",
    "meas.register_parameter(dac.ch2)  # register the second independent parameter\n",
    "meas.register_parameter(dmm.v1, setpoints=(dac.ch1, dac.ch2))  # register the dependent one"
   ]
  },
  {
   "cell_type": "code",
   "execution_count": 5,
   "metadata": {},
   "outputs": [],
   "source": [
    "# and we'll make a 2D gaussian to sample from/measure\n",
    "def gauss_model(x0: float, y0: float, sigma: float, noise: float=0.0005):\n",
    "    \"\"\"\n",
    "    Returns a generator sampling a gaussian. The gaussian is\n",
    "    normalised such that its maximal value is simply 1\n",
    "    \"\"\"\n",
    "    while True:\n",
    "        (x, y) = yield\n",
    "        model = np.exp(-((x0-x)**2+(y0-y)**2)/2/sigma**2)*np.exp(2*sigma**2)\n",
    "        noise = np.random.randn()*noise\n",
    "        yield model + noise"
   ]
  },
  {
   "cell_type": "code",
   "execution_count": 6,
   "metadata": {},
   "outputs": [],
   "source": [
    "# and finally wire up the dmm v1 to \"measure\" the gaussian\n",
    "\n",
    "gauss = gauss_model(0.1, 0.2, 0.25)\n",
    "next(gauss)\n",
    "\n",
    "def measure_gauss(dac):\n",
    "    val = gauss.send((dac.ch1.get(), dac.ch2.get()))\n",
    "    next(gauss)\n",
    "    return val\n",
    "\n",
    "dmm.v1.get = partial(measure_gauss, dac)"
   ]
  },
  {
   "cell_type": "markdown",
   "metadata": {},
   "source": [
    "We then perform a very basic experiment. To be able to demonstrate merging of datasets in Pandas we will perform the measurement in two parts."
   ]
  },
  {
   "cell_type": "code",
   "execution_count": 7,
   "metadata": {},
   "outputs": [
    {
     "name": "stdout",
     "output_type": "stream",
     "text": [
      "Starting experimental run with id: 47. \n"
     ]
    }
   ],
   "source": [
    "# run a 2D sweep\n",
    "\n",
    "with meas.run() as datasaver:\n",
    "\n",
    "    for v1 in np.linspace(-1, 0, 200, endpoint=False):\n",
    "        for v2 in np.linspace(-1, 1, 201):\n",
    "            dac.ch1(v1)\n",
    "            dac.ch2(v2)\n",
    "            val = dmm.v1.get()\n",
    "            datasaver.add_result((dac.ch1, v1),\n",
    "                                 (dac.ch2, v2),\n",
    "                                 (dmm.v1, val))\n",
    "            \n",
    "df1 = datasaver.dataset.get_data_as_pandas_dataframe()['dmm_v1']"
   ]
  },
  {
   "cell_type": "code",
   "execution_count": 8,
   "metadata": {},
   "outputs": [
    {
     "name": "stdout",
     "output_type": "stream",
     "text": [
      "Starting experimental run with id: 48. \n"
     ]
    }
   ],
   "source": [
    "# run a 2D sweep\n",
    "\n",
    "with meas.run() as datasaver:\n",
    "\n",
    "    for v1 in np.linspace(0, 1, 201):\n",
    "        for v2 in np.linspace(-1, 1, 201):\n",
    "            dac.ch1(v1)\n",
    "            dac.ch2(v2)\n",
    "            val = dmm.v1.get()\n",
    "            datasaver.add_result((dac.ch1, v1),\n",
    "                                 (dac.ch2, v2),\n",
    "                                 (dmm.v1, val))\n",
    "            \n",
    "df2 = datasaver.dataset.get_data_as_pandas_dataframe()['dmm_v1']"
   ]
  },
  {
   "cell_type": "markdown",
   "metadata": {},
   "source": [
    "`get_data_as_pandas_dataframe` returns the data as a dict from measured (dependent) parameters to DataFrames. Here we are only interested in the dataframe of a single parameter, so we select that from the dict."
   ]
  },
  {
   "cell_type": "markdown",
   "metadata": {},
   "source": [
    "## Working with Pandas"
   ]
  },
  {
   "cell_type": "markdown",
   "metadata": {},
   "source": [
    "Lets first inspect the Pandas DataFrame. Note how both dependent variables are used for the index. Pandas refers to this as a [MultiIndex](https://pandas.pydata.org/pandas-docs/stable/user_guide/advanced.html). For visual clarity, we just look at the first N points of the dataset."
   ]
  },
  {
   "cell_type": "code",
   "execution_count": 9,
   "metadata": {},
   "outputs": [],
   "source": [
    "N = 10"
   ]
  },
  {
   "cell_type": "code",
   "execution_count": 10,
   "metadata": {},
   "outputs": [
    {
     "data": {
      "text/html": [
       "<div>\n",
       "<style scoped>\n",
       "    .dataframe tbody tr th:only-of-type {\n",
       "        vertical-align: middle;\n",
       "    }\n",
       "\n",
       "    .dataframe tbody tr th {\n",
       "        vertical-align: top;\n",
       "    }\n",
       "\n",
       "    .dataframe thead th {\n",
       "        text-align: right;\n",
       "    }\n",
       "</style>\n",
       "<table border=\"1\" class=\"dataframe\">\n",
       "  <thead>\n",
       "    <tr style=\"text-align: right;\">\n",
       "      <th></th>\n",
       "      <th></th>\n",
       "      <th>dmm_v1</th>\n",
       "    </tr>\n",
       "    <tr>\n",
       "      <th>dac_ch1</th>\n",
       "      <th>dac_ch2</th>\n",
       "      <th></th>\n",
       "    </tr>\n",
       "  </thead>\n",
       "  <tbody>\n",
       "    <tr>\n",
       "      <th rowspan=\"10\" valign=\"top\">-1.0</th>\n",
       "      <th>-1.00</th>\n",
       "      <td>0.000383</td>\n",
       "    </tr>\n",
       "    <tr>\n",
       "      <th>-0.99</th>\n",
       "      <td>-0.000431</td>\n",
       "    </tr>\n",
       "    <tr>\n",
       "      <th>-0.98</th>\n",
       "      <td>-0.000274</td>\n",
       "    </tr>\n",
       "    <tr>\n",
       "      <th>-0.97</th>\n",
       "      <td>-0.000401</td>\n",
       "    </tr>\n",
       "    <tr>\n",
       "      <th>-0.96</th>\n",
       "      <td>-0.000311</td>\n",
       "    </tr>\n",
       "    <tr>\n",
       "      <th>-0.95</th>\n",
       "      <td>0.000477</td>\n",
       "    </tr>\n",
       "    <tr>\n",
       "      <th>-0.94</th>\n",
       "      <td>0.000766</td>\n",
       "    </tr>\n",
       "    <tr>\n",
       "      <th>-0.93</th>\n",
       "      <td>0.000948</td>\n",
       "    </tr>\n",
       "    <tr>\n",
       "      <th>-0.92</th>\n",
       "      <td>-0.000959</td>\n",
       "    </tr>\n",
       "    <tr>\n",
       "      <th>-0.91</th>\n",
       "      <td>0.000255</td>\n",
       "    </tr>\n",
       "  </tbody>\n",
       "</table>\n",
       "</div>"
      ],
      "text/plain": [
       "                   dmm_v1\n",
       "dac_ch1 dac_ch2          \n",
       "-1.0    -1.00    0.000383\n",
       "        -0.99   -0.000431\n",
       "        -0.98   -0.000274\n",
       "        -0.97   -0.000401\n",
       "        -0.96   -0.000311\n",
       "        -0.95    0.000477\n",
       "        -0.94    0.000766\n",
       "        -0.93    0.000948\n",
       "        -0.92   -0.000959\n",
       "        -0.91    0.000255"
      ]
     },
     "execution_count": 10,
     "metadata": {},
     "output_type": "execute_result"
    }
   ],
   "source": [
    "df1[:N]"
   ]
  },
  {
   "cell_type": "markdown",
   "metadata": {},
   "source": [
    "We can also reset the index to return a simpler view where all data points are simply indexed by a running counter. As we shall see below this can be needed in some situations. Note that calling `reset_index` leaves the original dataframe untouched."
   ]
  },
  {
   "cell_type": "code",
   "execution_count": 11,
   "metadata": {},
   "outputs": [
    {
     "data": {
      "text/html": [
       "<div>\n",
       "<style scoped>\n",
       "    .dataframe tbody tr th:only-of-type {\n",
       "        vertical-align: middle;\n",
       "    }\n",
       "\n",
       "    .dataframe tbody tr th {\n",
       "        vertical-align: top;\n",
       "    }\n",
       "\n",
       "    .dataframe thead th {\n",
       "        text-align: right;\n",
       "    }\n",
       "</style>\n",
       "<table border=\"1\" class=\"dataframe\">\n",
       "  <thead>\n",
       "    <tr style=\"text-align: right;\">\n",
       "      <th></th>\n",
       "      <th>dac_ch1</th>\n",
       "      <th>dac_ch2</th>\n",
       "      <th>dmm_v1</th>\n",
       "    </tr>\n",
       "  </thead>\n",
       "  <tbody>\n",
       "    <tr>\n",
       "      <th>0</th>\n",
       "      <td>-1.0</td>\n",
       "      <td>-1.00</td>\n",
       "      <td>0.000383</td>\n",
       "    </tr>\n",
       "    <tr>\n",
       "      <th>1</th>\n",
       "      <td>-1.0</td>\n",
       "      <td>-0.99</td>\n",
       "      <td>-0.000431</td>\n",
       "    </tr>\n",
       "    <tr>\n",
       "      <th>2</th>\n",
       "      <td>-1.0</td>\n",
       "      <td>-0.98</td>\n",
       "      <td>-0.000274</td>\n",
       "    </tr>\n",
       "    <tr>\n",
       "      <th>3</th>\n",
       "      <td>-1.0</td>\n",
       "      <td>-0.97</td>\n",
       "      <td>-0.000401</td>\n",
       "    </tr>\n",
       "    <tr>\n",
       "      <th>4</th>\n",
       "      <td>-1.0</td>\n",
       "      <td>-0.96</td>\n",
       "      <td>-0.000311</td>\n",
       "    </tr>\n",
       "    <tr>\n",
       "      <th>5</th>\n",
       "      <td>-1.0</td>\n",
       "      <td>-0.95</td>\n",
       "      <td>0.000477</td>\n",
       "    </tr>\n",
       "    <tr>\n",
       "      <th>6</th>\n",
       "      <td>-1.0</td>\n",
       "      <td>-0.94</td>\n",
       "      <td>0.000766</td>\n",
       "    </tr>\n",
       "    <tr>\n",
       "      <th>7</th>\n",
       "      <td>-1.0</td>\n",
       "      <td>-0.93</td>\n",
       "      <td>0.000948</td>\n",
       "    </tr>\n",
       "    <tr>\n",
       "      <th>8</th>\n",
       "      <td>-1.0</td>\n",
       "      <td>-0.92</td>\n",
       "      <td>-0.000959</td>\n",
       "    </tr>\n",
       "    <tr>\n",
       "      <th>9</th>\n",
       "      <td>-1.0</td>\n",
       "      <td>-0.91</td>\n",
       "      <td>0.000255</td>\n",
       "    </tr>\n",
       "  </tbody>\n",
       "</table>\n",
       "</div>"
      ],
      "text/plain": [
       "   dac_ch1  dac_ch2    dmm_v1\n",
       "0     -1.0    -1.00  0.000383\n",
       "1     -1.0    -0.99 -0.000431\n",
       "2     -1.0    -0.98 -0.000274\n",
       "3     -1.0    -0.97 -0.000401\n",
       "4     -1.0    -0.96 -0.000311\n",
       "5     -1.0    -0.95  0.000477\n",
       "6     -1.0    -0.94  0.000766\n",
       "7     -1.0    -0.93  0.000948\n",
       "8     -1.0    -0.92 -0.000959\n",
       "9     -1.0    -0.91  0.000255"
      ]
     },
     "execution_count": 11,
     "metadata": {},
     "output_type": "execute_result"
    }
   ],
   "source": [
    "df1.reset_index()[0:N]"
   ]
  },
  {
   "cell_type": "markdown",
   "metadata": {},
   "source": [
    "Pandas has built-in support for various forms of plotting. This does not, however, support MultiIndex at the moment so we use `reset_index` to make the data available for plotting."
   ]
  },
  {
   "cell_type": "code",
   "execution_count": 12,
   "metadata": {},
   "outputs": [
    {
     "data": {
      "text/plain": [
       "<matplotlib.axes._subplots.AxesSubplot at 0x7ff5d5388650>"
      ]
     },
     "execution_count": 12,
     "metadata": {},
     "output_type": "execute_result"
    },
    {
     "data": {
      "image/png": "[encoded data removed]",
      "text/plain": [
       "<Figure size 432x288 with 2 Axes>"
      ]
     },
     "metadata": {
      "needs_background": "light"
     },
     "output_type": "display_data"
    }
   ],
   "source": [
    "df1.reset_index().plot.scatter('dac_ch1', 'dac_ch2', c='dmm_v1')"
   ]
  },
  {
   "cell_type": "markdown",
   "metadata": {},
   "source": [
    "Similarly, for the other dataframe:"
   ]
  },
  {
   "cell_type": "code",
   "execution_count": 13,
   "metadata": {},
   "outputs": [
    {
     "data": {
      "text/plain": [
       "<matplotlib.axes._subplots.AxesSubplot at 0x7ff5d59def90>"
      ]
     },
     "execution_count": 13,
     "metadata": {},
     "output_type": "execute_result"
    },
    {
     "data": {
      "image/png": "[encoded data removed]",
      "text/plain": [
       "<Figure size 432x288 with 2 Axes>"
      ]
     },
     "metadata": {
      "needs_background": "light"
     },
     "output_type": "display_data"
    }
   ],
   "source": [
    "df2.reset_index().plot.scatter('dac_ch1', 'dac_ch2', c='dmm_v1')"
   ]
  },
  {
   "cell_type": "markdown",
   "metadata": {},
   "source": [
    "Merging two dataframes with the same labels is fairly simple."
   ]
  },
  {
   "cell_type": "code",
   "execution_count": 14,
   "metadata": {},
   "outputs": [],
   "source": [
    "df = pd.concat([df1, df2], sort=True)"
   ]
  },
  {
   "cell_type": "code",
   "execution_count": 15,
   "metadata": {},
   "outputs": [
    {
     "data": {
      "text/plain": [
       "<matplotlib.axes._subplots.AxesSubplot at 0x7ff5d4fb43d0>"
      ]
     },
     "execution_count": 15,
     "metadata": {},
     "output_type": "execute_result"
    },
    {
     "data": {
      "image/png": "[encoded data removed]",
      "text/plain": [
       "<Figure size 432x288 with 2 Axes>"
      ]
     },
     "metadata": {
      "needs_background": "light"
     },
     "output_type": "display_data"
    }
   ],
   "source": [
    "df.reset_index().plot.scatter('dac_ch1', 'dac_ch2', c='dmm_v1')"
   ]
  },
  {
   "cell_type": "markdown",
   "metadata": {},
   "source": [
    "It is also possible to select a subset of data from the datframe based on the x and y values."
   ]
  },
  {
   "cell_type": "code",
   "execution_count": 16,
   "metadata": {},
   "outputs": [
    {
     "data": {
      "text/html": [
       "<div>\n",
       "<style scoped>\n",
       "    .dataframe tbody tr th:only-of-type {\n",
       "        vertical-align: middle;\n",
       "    }\n",
       "\n",
       "    .dataframe tbody tr th {\n",
       "        vertical-align: top;\n",
       "    }\n",
       "\n",
       "    .dataframe thead th {\n",
       "        text-align: right;\n",
       "    }\n",
       "</style>\n",
       "<table border=\"1\" class=\"dataframe\">\n",
       "  <thead>\n",
       "    <tr style=\"text-align: right;\">\n",
       "      <th></th>\n",
       "      <th></th>\n",
       "      <th>dmm_v1</th>\n",
       "    </tr>\n",
       "    <tr>\n",
       "      <th>dac_ch1</th>\n",
       "      <th>dac_ch2</th>\n",
       "      <th></th>\n",
       "    </tr>\n",
       "  </thead>\n",
       "  <tbody>\n",
       "    <tr>\n",
       "      <th rowspan=\"4\" valign=\"top\">-1.000</th>\n",
       "      <th>-1.00</th>\n",
       "      <td>3.825410e-04</td>\n",
       "    </tr>\n",
       "    <tr>\n",
       "      <th>-0.99</th>\n",
       "      <td>-4.311301e-04</td>\n",
       "    </tr>\n",
       "    <tr>\n",
       "      <th>-0.98</th>\n",
       "      <td>-2.744121e-04</td>\n",
       "    </tr>\n",
       "    <tr>\n",
       "      <th>-0.97</th>\n",
       "      <td>-4.006250e-04</td>\n",
       "    </tr>\n",
       "    <tr>\n",
       "      <th rowspan=\"4\" valign=\"top\">-0.995</th>\n",
       "      <th>-1.00</th>\n",
       "      <td>7.680241e-10</td>\n",
       "    </tr>\n",
       "    <tr>\n",
       "      <th>-0.99</th>\n",
       "      <td>9.298480e-10</td>\n",
       "    </tr>\n",
       "    <tr>\n",
       "      <th>-0.98</th>\n",
       "      <td>1.123969e-09</td>\n",
       "    </tr>\n",
       "    <tr>\n",
       "      <th>-0.97</th>\n",
       "      <td>1.356443e-09</td>\n",
       "    </tr>\n",
       "    <tr>\n",
       "      <th rowspan=\"4\" valign=\"top\">-0.990</th>\n",
       "      <th>-1.00</th>\n",
       "      <td>8.381701e-10</td>\n",
       "    </tr>\n",
       "    <tr>\n",
       "      <th>-0.99</th>\n",
       "      <td>1.014774e-09</td>\n",
       "    </tr>\n",
       "    <tr>\n",
       "      <th>-0.98</th>\n",
       "      <td>1.226624e-09</td>\n",
       "    </tr>\n",
       "    <tr>\n",
       "      <th>-0.97</th>\n",
       "      <td>1.480331e-09</td>\n",
       "    </tr>\n",
       "    <tr>\n",
       "      <th rowspan=\"4\" valign=\"top\">-0.985</th>\n",
       "      <th>-1.00</th>\n",
       "      <td>9.143570e-10</td>\n",
       "    </tr>\n",
       "    <tr>\n",
       "      <th>-0.99</th>\n",
       "      <td>1.107013e-09</td>\n",
       "    </tr>\n",
       "    <tr>\n",
       "      <th>-0.98</th>\n",
       "      <td>1.338120e-09</td>\n",
       "    </tr>\n",
       "    <tr>\n",
       "      <th>-0.97</th>\n",
       "      <td>1.614888e-09</td>\n",
       "    </tr>\n",
       "    <tr>\n",
       "      <th rowspan=\"4\" valign=\"top\">-0.980</th>\n",
       "      <th>-1.00</th>\n",
       "      <td>9.970701e-10</td>\n",
       "    </tr>\n",
       "    <tr>\n",
       "      <th>-0.99</th>\n",
       "      <td>1.207154e-09</td>\n",
       "    </tr>\n",
       "    <tr>\n",
       "      <th>-0.98</th>\n",
       "      <td>1.459167e-09</td>\n",
       "    </tr>\n",
       "    <tr>\n",
       "      <th>-0.97</th>\n",
       "      <td>1.760972e-09</td>\n",
       "    </tr>\n",
       "    <tr>\n",
       "      <th rowspan=\"4\" valign=\"top\">-0.975</th>\n",
       "      <th>-1.00</th>\n",
       "      <td>1.086831e-09</td>\n",
       "    </tr>\n",
       "    <tr>\n",
       "      <th>-0.99</th>\n",
       "      <td>1.315828e-09</td>\n",
       "    </tr>\n",
       "    <tr>\n",
       "      <th>-0.98</th>\n",
       "      <td>1.590528e-09</td>\n",
       "    </tr>\n",
       "    <tr>\n",
       "      <th>-0.97</th>\n",
       "      <td>1.919502e-09</td>\n",
       "    </tr>\n",
       "    <tr>\n",
       "      <th rowspan=\"4\" valign=\"top\">-0.970</th>\n",
       "      <th>-1.00</th>\n",
       "      <td>1.184198e-09</td>\n",
       "    </tr>\n",
       "    <tr>\n",
       "      <th>-0.99</th>\n",
       "      <td>1.433710e-09</td>\n",
       "    </tr>\n",
       "    <tr>\n",
       "      <th>-0.98</th>\n",
       "      <td>1.733020e-09</td>\n",
       "    </tr>\n",
       "    <tr>\n",
       "      <th>-0.97</th>\n",
       "      <td>2.091467e-09</td>\n",
       "    </tr>\n",
       "    <tr>\n",
       "      <th rowspan=\"4\" valign=\"top\">-0.965</th>\n",
       "      <th>-1.00</th>\n",
       "      <td>1.289772e-09</td>\n",
       "    </tr>\n",
       "    <tr>\n",
       "      <th>-0.99</th>\n",
       "      <td>1.561530e-09</td>\n",
       "    </tr>\n",
       "    <tr>\n",
       "      <th>-0.98</th>\n",
       "      <td>1.887524e-09</td>\n",
       "    </tr>\n",
       "    <tr>\n",
       "      <th>-0.97</th>\n",
       "      <td>2.277927e-09</td>\n",
       "    </tr>\n",
       "    <tr>\n",
       "      <th rowspan=\"4\" valign=\"top\">-0.960</th>\n",
       "      <th>-1.00</th>\n",
       "      <td>1.404197e-09</td>\n",
       "    </tr>\n",
       "    <tr>\n",
       "      <th>-0.99</th>\n",
       "      <td>1.700064e-09</td>\n",
       "    </tr>\n",
       "    <tr>\n",
       "      <th>-0.98</th>\n",
       "      <td>2.054979e-09</td>\n",
       "    </tr>\n",
       "    <tr>\n",
       "      <th>-0.97</th>\n",
       "      <td>2.480018e-09</td>\n",
       "    </tr>\n",
       "    <tr>\n",
       "      <th rowspan=\"4\" valign=\"top\">-0.955</th>\n",
       "      <th>-1.00</th>\n",
       "      <td>1.528162e-09</td>\n",
       "    </tr>\n",
       "    <tr>\n",
       "      <th>-0.99</th>\n",
       "      <td>1.850148e-09</td>\n",
       "    </tr>\n",
       "    <tr>\n",
       "      <th>-0.98</th>\n",
       "      <td>2.236396e-09</td>\n",
       "    </tr>\n",
       "    <tr>\n",
       "      <th>-0.97</th>\n",
       "      <td>2.698958e-09</td>\n",
       "    </tr>\n",
       "    <tr>\n",
       "      <th rowspan=\"4\" valign=\"top\">-0.950</th>\n",
       "      <th>-1.00</th>\n",
       "      <td>1.662406e-09</td>\n",
       "    </tr>\n",
       "    <tr>\n",
       "      <th>-0.99</th>\n",
       "      <td>2.012677e-09</td>\n",
       "    </tr>\n",
       "    <tr>\n",
       "      <th>-0.98</th>\n",
       "      <td>2.432856e-09</td>\n",
       "    </tr>\n",
       "    <tr>\n",
       "      <th>-0.97</th>\n",
       "      <td>2.936052e-09</td>\n",
       "    </tr>\n",
       "  </tbody>\n",
       "</table>\n",
       "</div>"
      ],
      "text/plain": [
       "                       dmm_v1\n",
       "dac_ch1 dac_ch2              \n",
       "-1.000  -1.00    3.825410e-04\n",
       "        -0.99   -4.311301e-04\n",
       "        -0.98   -2.744121e-04\n",
       "        -0.97   -4.006250e-04\n",
       "-0.995  -1.00    7.680241e-10\n",
       "        -0.99    9.298480e-10\n",
       "        -0.98    1.123969e-09\n",
       "        -0.97    1.356443e-09\n",
       "-0.990  -1.00    8.381701e-10\n",
       "        -0.99    1.014774e-09\n",
       "        -0.98    1.226624e-09\n",
       "        -0.97    1.480331e-09\n",
       "-0.985  -1.00    9.143570e-10\n",
       "        -0.99    1.107013e-09\n",
       "        -0.98    1.338120e-09\n",
       "        -0.97    1.614888e-09\n",
       "-0.980  -1.00    9.970701e-10\n",
       "        -0.99    1.207154e-09\n",
       "        -0.98    1.459167e-09\n",
       "        -0.97    1.760972e-09\n",
       "-0.975  -1.00    1.086831e-09\n",
       "        -0.99    1.315828e-09\n",
       "        -0.98    1.590528e-09\n",
       "        -0.97    1.919502e-09\n",
       "-0.970  -1.00    1.184198e-09\n",
       "        -0.99    1.433710e-09\n",
       "        -0.98    1.733020e-09\n",
       "        -0.97    2.091467e-09\n",
       "-0.965  -1.00    1.289772e-09\n",
       "        -0.99    1.561530e-09\n",
       "        -0.98    1.887524e-09\n",
       "        -0.97    2.277927e-09\n",
       "-0.960  -1.00    1.404197e-09\n",
       "        -0.99    1.700064e-09\n",
       "        -0.98    2.054979e-09\n",
       "        -0.97    2.480018e-09\n",
       "-0.955  -1.00    1.528162e-09\n",
       "        -0.99    1.850148e-09\n",
       "        -0.98    2.236396e-09\n",
       "        -0.97    2.698958e-09\n",
       "-0.950  -1.00    1.662406e-09\n",
       "        -0.99    2.012677e-09\n",
       "        -0.98    2.432856e-09\n",
       "        -0.97    2.936052e-09"
      ]
     },
     "execution_count": 16,
     "metadata": {},
     "output_type": "execute_result"
    }
   ],
   "source": [
    "df.loc[(slice(-1, -0.95), slice(-1, -0.97)), :]"
   ]
  },
  {
   "cell_type": "markdown",
   "metadata": {},
   "source": [
    "## Working with XArray"
   ]
  },
  {
   "cell_type": "markdown",
   "metadata": {},
   "source": [
    "In many cases when working with data on a rectangular grids it may be more convenient to export the data to a [XArray](http://xarray.pydata.org) Dataset or DataArray"
   ]
  },
  {
   "cell_type": "markdown",
   "metadata": {},
   "source": [
    "The Pandas DataSet can be directly converted to a XArray [Dataset](http://xarray.pydata.org/en/stable/data-structures.html?#dataset):"
   ]
  },
  {
   "cell_type": "code",
   "execution_count": 17,
   "metadata": {},
   "outputs": [],
   "source": [
    "xaDataSet = df.to_xarray()"
   ]
  },
  {
   "cell_type": "code",
   "execution_count": 18,
   "metadata": {},
   "outputs": [
    {
     "data": {
      "text/html": [
       "<pre>&lt;xarray.Dataset&gt;\n",
       "Dimensions:  (dac_ch1: 401, dac_ch2: 201)\n",
       "Coordinates:\n",
       "  * dac_ch1  (dac_ch1) float64 -1.0 -0.995 -0.99 -0.985 ... 0.985 0.99 0.995 1.0\n",
       "  * dac_ch2  (dac_ch2) float64 -1.0 -0.99 -0.98 -0.97 ... 0.97 0.98 0.99 1.0\n",
       "Data variables:\n",
       "    dmm_v1   (dac_ch1, dac_ch2) float64 0.0003825 -0.0004311 ... 1.039e-05</pre>"
      ],
      "text/plain": [
       "<xarray.Dataset>\n",
       "Dimensions:  (dac_ch1: 401, dac_ch2: 201)\n",
       "Coordinates:\n",
       "  * dac_ch1  (dac_ch1) float64 -1.0 -0.995 -0.99 -0.985 ... 0.985 0.99 0.995 1.0\n",
       "  * dac_ch2  (dac_ch2) float64 -1.0 -0.99 -0.98 -0.97 ... 0.97 0.98 0.99 1.0\n",
       "Data variables:\n",
       "    dmm_v1   (dac_ch1, dac_ch2) float64 0.0003825 -0.0004311 ... 1.039e-05"
      ]
     },
     "execution_count": 18,
     "metadata": {},
     "output_type": "execute_result"
    }
   ],
   "source": [
    "xaDataSet"
   ]
  },
  {
   "cell_type": "markdown",
   "metadata": {},
   "source": [
    "However, in many cases it is more convenient to work with a XArray [DataArray](http://xarray.pydata.org/en/stable/data-structures.html?#dataarray). The DataArray can only contain a single dependent variable and can be obtained from the Dataset by indexing using the parameter name."
   ]
  },
  {
   "cell_type": "code",
   "execution_count": 19,
   "metadata": {},
   "outputs": [],
   "source": [
    "xaDataArray = xaDataSet['dmm_v1']"
   ]
  },
  {
   "cell_type": "code",
   "execution_count": 20,
   "metadata": {},
   "outputs": [
    {
     "data": {
      "text/html": [
       "<pre>&lt;xarray.DataArray &#x27;dmm_v1&#x27; (dac_ch1: 401, dac_ch2: 201)&gt;\n",
       "array([[ 3.82540994e-04, -4.31130121e-04, -2.74412103e-04, ...,\n",
       "         5.45152644e-07,  4.80806949e-07,  4.23378186e-07],\n",
       "       [ 7.68024102e-10,  9.29847985e-10,  1.12396862e-09, ...,\n",
       "         5.95181164e-07,  5.24930481e-07,  4.62231495e-07],\n",
       "       [ 8.38170144e-10,  1.01477391e-09,  1.22662419e-09, ...,\n",
       "         6.49540920e-07,  5.72874023e-07,  5.04448542e-07],\n",
       "       ...,\n",
       "       [ 1.99148530e-08,  2.41109438e-08,  2.91444890e-08, ...,\n",
       "         1.54330383e-05,  1.36114392e-05,  1.19856555e-05],\n",
       "       [ 1.85425082e-08,  2.24494438e-08,  2.71361242e-08, ...,\n",
       "         1.43695381e-05,  1.26734665e-05,  1.11597166e-05],\n",
       "       [ 1.72578280e-08,  2.08940794e-08,  2.52560527e-08, ...,\n",
       "         1.33739737e-05,  1.17954110e-05,  1.03865381e-05]])\n",
       "Coordinates:\n",
       "  * dac_ch1  (dac_ch1) float64 -1.0 -0.995 -0.99 -0.985 ... 0.985 0.99 0.995 1.0\n",
       "  * dac_ch2  (dac_ch2) float64 -1.0 -0.99 -0.98 -0.97 ... 0.97 0.98 0.99 1.0</pre>"
      ],
      "text/plain": [
       "<xarray.DataArray 'dmm_v1' (dac_ch1: 401, dac_ch2: 201)>\n",
       "array([[ 3.82540994e-04, -4.31130121e-04, -2.74412103e-04, ...,\n",
       "         5.45152644e-07,  4.80806949e-07,  4.23378186e-07],\n",
       "       [ 7.68024102e-10,  9.29847985e-10,  1.12396862e-09, ...,\n",
       "         5.95181164e-07,  5.24930481e-07,  4.62231495e-07],\n",
       "       [ 8.38170144e-10,  1.01477391e-09,  1.22662419e-09, ...,\n",
       "         6.49540920e-07,  5.72874023e-07,  5.04448542e-07],\n",
       "       ...,\n",
       "       [ 1.99148530e-08,  2.41109438e-08,  2.91444890e-08, ...,\n",
       "         1.54330383e-05,  1.36114392e-05,  1.19856555e-05],\n",
       "       [ 1.85425082e-08,  2.24494438e-08,  2.71361242e-08, ...,\n",
       "         1.43695381e-05,  1.26734665e-05,  1.11597166e-05],\n",
       "       [ 1.72578280e-08,  2.08940794e-08,  2.52560527e-08, ...,\n",
       "         1.33739737e-05,  1.17954110e-05,  1.03865381e-05]])\n",
       "Coordinates:\n",
       "  * dac_ch1  (dac_ch1) float64 -1.0 -0.995 -0.99 -0.985 ... 0.985 0.99 0.995 1.0\n",
       "  * dac_ch2  (dac_ch2) float64 -1.0 -0.99 -0.98 -0.97 ... 0.97 0.98 0.99 1.0"
      ]
     },
     "execution_count": 20,
     "metadata": {},
     "output_type": "execute_result"
    }
   ],
   "source": [
    "xaDataArray"
   ]
  },
  {
   "cell_type": "code",
   "execution_count": 21,
   "metadata": {},
   "outputs": [
    {
     "data": {
      "image/png": "[encoded data removed]",
      "text/plain": [
       "<Figure size 432x288 with 5 Axes>"
      ]
     },
     "metadata": {
      "needs_background": "light"
     },
     "output_type": "display_data"
    }
   ],
   "source": [
    "fig, ax = plt.subplots(2,2)\n",
    "xaDataArray.plot(ax=ax[0,0])\n",
    "xaDataArray.mean(dim='dac_ch1').plot(ax=ax[1,0])\n",
    "xaDataArray.mean(dim='dac_ch2').plot(ax=ax[0,1])\n",
    "xaDataArray[200,:].plot(ax=ax[1,1])\n",
    "fig.tight_layout()"
   ]
  },
  {
   "cell_type": "markdown",
   "metadata": {},
   "source": [
    "Above we demonstrated a few ways to index the data from a DataArray. For instance the DataArray can be directly plotted, the extracted mean or a specific row/column can also be plotted."
   ]
  }
 ],
 "metadata": {
  "kernelspec": {
   "display_name": "Python 3",
   "language": "python",
   "name": "python3"
  },
  "language_info": {
   "codemirror_mode": {
    "name": "ipython",
    "version": 3
   },
   "file_extension": ".py",
   "mimetype": "text/x-python",
   "name": "python",
   "nbconvert_exporter": "python",
   "pygments_lexer": "ipython3",
   "version": "3.7.5"
  }
 },
 "nbformat": 4,
 "nbformat_minor": 4
}
