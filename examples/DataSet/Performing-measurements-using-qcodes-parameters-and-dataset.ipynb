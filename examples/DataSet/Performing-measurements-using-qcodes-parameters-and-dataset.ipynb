{
 "cells": [
  {
   "cell_type": "markdown",
   "metadata": {},
   "source": [
    "# Performing measurements using QCoDeS parameters and DataSet"
   ]
  },
  {
   "cell_type": "markdown",
   "metadata": {},
   "source": [
    "This notebook shows some ways of performing different measurements using \n",
    "QCoDeS parameters and the [DataSet](DataSet-class-walkthrough.ipynb) via a powerful ``Measurement`` context manager. Here, it is assumed that the reader has some degree of familiarity with fundamental objects and methods of QCoDeS.\n",
    "\n",
    "Users should note that, here, within the context of experiments, one cannot nest multiple managers to perform related or independent measurements. This is a particular consequence of how data is stored and managed.\n",
    "\n",
    "Now, let us start with necessary imports:"
   ]
  },
  {
   "cell_type": "code",
   "execution_count": 1,
   "metadata": {
    "execution": {
     "iopub.execute_input": "2020-11-13T17:08:20.398446Z",
     "iopub.status.busy": "2020-11-13T17:08:20.397734Z",
     "iopub.status.idle": "2020-11-13T17:08:22.394209Z",
     "shell.execute_reply": "2020-11-13T17:08:22.393598Z"
    }
   },
   "outputs": [
    {
     "name": "stdout",
     "output_type": "stream",
     "text": [
      "Logging hadn't been started.\n",
      "Activating auto-logging. Current session state plus future input saved.\n",
      "Filename       : /home/vsts/.qcodes/logs/command_history.log\n",
      "Mode           : append\n",
      "Output logging : True\n",
      "Raw input log  : False\n",
      "Timestamping   : True\n",
      "State          : active\n"
     ]
    },
    {
     "name": "stdout",
     "output_type": "stream",
     "text": [
      "Qcodes Logfile : /home/vsts/.qcodes/logs/201113-15417-qcodes.log\n",
      "Activating auto-logging. Current session state plus future input saved.\n",
      "Filename       : /home/vsts/.qcodes/logs/command_history.log\n",
      "Mode           : append\n",
      "Output logging : True\n",
      "Raw input log  : False\n",
      "Timestamping   : True\n",
      "State          : active\n"
     ]
    },
    {
     "name": "stdout",
     "output_type": "stream",
     "text": [
      "Qcodes Logfile : /home/vsts/.qcodes/logs/201113-15417-qcodes.log\n"
     ]
    }
   ],
   "source": [
    "%matplotlib inline\n",
    "import numpy.random as rd\n",
    "import matplotlib.pyplot as plt\n",
    "import numpy as np\n",
    "\n",
    "from time import sleep, monotonic\n",
    "\n",
    "import qcodes as qc\n",
    "from qcodes import Station, load_or_create_experiment, \\\n",
    "    initialise_database, Measurement, load_by_run_spec, load_by_guid\n",
    "from qcodes.tests.instrument_mocks import DummyInstrument, DummyInstrumentWithMeasurement\n",
    "from qcodes.dataset.plotting import plot_dataset\n",
    "from qcodes.dataset.descriptions.detect_shapes import detect_shape_of_measurement\n",
    "\n",
    "qc.logger.start_all_logging()"
   ]
  },
  {
   "cell_type": "markdown",
   "metadata": {},
   "source": [
    "In what follows, we shall define some utility functions as well as declare our dummy instruments. We, then, add these instruments to a ``Station`` object. \n",
    "\n",
    "The dummy dmm is setup to generate an output depending on the values set on the dummy dac simulating a real experiment."
   ]
  },
  {
   "cell_type": "code",
   "execution_count": 2,
   "metadata": {
    "execution": {
     "iopub.execute_input": "2020-11-13T17:08:22.402247Z",
     "iopub.status.busy": "2020-11-13T17:08:22.401561Z",
     "iopub.status.idle": "2020-11-13T17:08:22.405821Z",
     "shell.execute_reply": "2020-11-13T17:08:22.405250Z"
    }
   },
   "outputs": [],
   "source": [
    "# preparatory mocking of physical setup\n",
    "\n",
    "dac = DummyInstrument('dac', gates=['ch1', 'ch2'])\n",
    "dmm = DummyInstrumentWithMeasurement(name='dmm', setter_instr=dac)\n",
    "\n",
    "station = qc.Station(dmm, dac)"
   ]
  },
  {
   "cell_type": "code",
   "execution_count": 3,
   "metadata": {
    "execution": {
     "iopub.execute_input": "2020-11-13T17:08:22.411922Z",
     "iopub.status.busy": "2020-11-13T17:08:22.410355Z",
     "iopub.status.idle": "2020-11-13T17:08:22.412669Z",
     "shell.execute_reply": "2020-11-13T17:08:22.413208Z"
    }
   },
   "outputs": [],
   "source": [
    "# now make some silly set-up and tear-down actions\n",
    "\n",
    "def veryfirst():\n",
    "    print('Starting the measurement')\n",
    "\n",
    "def numbertwo(inst1, inst2):\n",
    "    print('Doing stuff with the following two instruments: {}, {}'.format(inst1, inst2))\n",
    "    \n",
    "def thelast():\n",
    "    print('End of experiment')"
   ]
  },
  {
   "cell_type": "markdown",
   "metadata": {},
   "source": [
    "**Database and experiments may be missing**\n",
    "\n",
    "If this is the first time you create a dataset, the underlying database file has\n",
    "most likely not been created. The following cell creates the database file. Please\n",
    "refer to documentation on [`The Experiment Container`](The-Experiment-Container.ipynb) for details.\n",
    "\n",
    "Furthermore, datasets are associated to an experiment. By default the run\n",
    "is appended to the latest existing experiments. If no experiment has been created,\n",
    "we must create one. We do that by calling the `load_or_create_experiment` function.\n",
    "\n",
    "Here we explicitly pass the loaded or created experiment to the `Measurement` object to ensure that we are always\n",
    "using the `performing_meas_using_parameters_and_dataset` `Experiment` created within this tutorial."
   ]
  },
  {
   "cell_type": "code",
   "execution_count": 4,
   "metadata": {
    "execution": {
     "iopub.execute_input": "2020-11-13T17:08:22.417358Z",
     "iopub.status.busy": "2020-11-13T17:08:22.416693Z",
     "iopub.status.idle": "2020-11-13T17:08:22.427533Z",
     "shell.execute_reply": "2020-11-13T17:08:22.426931Z"
    }
   },
   "outputs": [],
   "source": [
    "initialise_database()\n",
    "exp = load_or_create_experiment(experiment_name='performing_meas_using_parameters_and_dataset',\n",
    "                          sample_name=\"no sample\")"
   ]
  },
  {
   "cell_type": "code",
   "execution_count": 5,
   "metadata": {
    "execution": {
     "iopub.execute_input": "2020-11-13T17:08:22.435532Z",
     "iopub.status.busy": "2020-11-13T17:08:22.434659Z",
     "iopub.status.idle": "2020-11-13T17:08:22.457140Z",
     "shell.execute_reply": "2020-11-13T17:08:22.457652Z"
    }
   },
   "outputs": [
    {
     "name": "stdout",
     "output_type": "stream",
     "text": [
      "Starting the measurement\n",
      "Doing stuff with the following two instruments: <DummyInstrumentWithMeasurement: dmm>, <DummyInstrument: dac>\n",
      "Starting experimental run with id: 33. \n",
      "End of experiment\n"
     ]
    }
   ],
   "source": [
    "# And then run an experiment\n",
    "\n",
    "meas = Measurement(exp=exp)\n",
    "meas.register_parameter(dac.ch1)  # register the first independent parameter\n",
    "meas.register_parameter(dmm.v1, setpoints=(dac.ch1,))  # now register the dependent oone\n",
    "meas.add_before_run(veryfirst, ())  # add a set-up action\n",
    "meas.add_before_run(numbertwo, (dmm, dac))  # add another set-up action\n",
    "meas.add_after_run(thelast, ())  # add a tear-down action\n",
    "\n",
    "meas.write_period = 2\n",
    "\n",
    "\n",
    "with meas.run() as datasaver:\n",
    "             \n",
    "    for set_v in np.linspace(0, 25, 10):\n",
    "        dac.ch1.set(set_v)\n",
    "        get_v = dmm.v1.get()\n",
    "        datasaver.add_result((dac.ch1, set_v),\n",
    "                             (dmm.v1, get_v))\n",
    "    \n",
    "    dataset = datasaver.dataset  # convenient to have for plotting\n"
   ]
  },
  {
   "cell_type": "code",
   "execution_count": 6,
   "metadata": {
    "execution": {
     "iopub.execute_input": "2020-11-13T17:08:22.463450Z",
     "iopub.status.busy": "2020-11-13T17:08:22.461600Z",
     "iopub.status.idle": "2020-11-13T17:08:22.638313Z",
     "shell.execute_reply": "2020-11-13T17:08:22.638848Z"
    }
   },
   "outputs": [
    {
     "data": {
      "image/png": "[encoded data removed]",
      "text/plain": [
       "<Figure size 432x288 with 1 Axes>"
      ]
     },
     "metadata": {
      "needs_background": "light"
     },
     "output_type": "display_data"
    }
   ],
   "source": [
    "ax, cbax = plot_dataset(dataset)"
   ]
  },
  {
   "cell_type": "markdown",
   "metadata": {},
   "source": [
    "### Exporting data"
   ]
  },
  {
   "cell_type": "markdown",
   "metadata": {},
   "source": [
    "QCoDeS ``DataSet`` implements a number of methods for accessing the data of a given dataset. Here we will concentrate on the two most user friendly methods. For a more detailed walkthrough of the `DataSet` class, refer to [DataSet class walkthrough](DataSet-class-walkthrough.ipynb) notebook."
   ]
  },
  {
   "cell_type": "markdown",
   "metadata": {},
   "source": [
    "The method `get_parameter_data` returns the data as a dictionary of ``numpy`` arrays. The dictionary is indexed by the measured (dependent) parameter in the outermost level and the names of the dependent and independent parameters in the innermost level. The first parameter in the innermost level is always the dependent parameter."
   ]
  },
  {
   "cell_type": "code",
   "execution_count": 7,
   "metadata": {
    "execution": {
     "iopub.execute_input": "2020-11-13T17:08:22.643570Z",
     "iopub.status.busy": "2020-11-13T17:08:22.642532Z",
     "iopub.status.idle": "2020-11-13T17:08:22.650251Z",
     "shell.execute_reply": "2020-11-13T17:08:22.649650Z"
    }
   },
   "outputs": [
    {
     "data": {
      "text/plain": [
       "{'dmm_v1': {'dmm_v1': array([5.15213663, 3.0433031 , 1.72231257, 0.79501637, 0.61736617,\n",
       "         0.34351617, 0.14399153, 0.23521823, 0.10193426, 0.05197626]),\n",
       "  'dac_ch1': array([ 0.        ,  2.77777778,  5.55555556,  8.33333333, 11.11111111,\n",
       "         13.88888889, 16.66666667, 19.44444444, 22.22222222, 25.        ])}}"
      ]
     },
     "execution_count": 1,
     "metadata": {},
     "output_type": "execute_result"
    }
   ],
   "source": [
    "datasaver.dataset.get_parameter_data()"
   ]
  },
  {
   "cell_type": "markdown",
   "metadata": {},
   "source": [
    "By default `get_parameter_data` returns all data stored in the dataset. The data that is specific to one or more measured parameters can be returned by passing the parameter name(s) or by using `ParamSpec` object:"
   ]
  },
  {
   "cell_type": "code",
   "execution_count": 8,
   "metadata": {
    "execution": {
     "iopub.execute_input": "2020-11-13T17:08:22.654698Z",
     "iopub.status.busy": "2020-11-13T17:08:22.654058Z",
     "iopub.status.idle": "2020-11-13T17:08:22.661703Z",
     "shell.execute_reply": "2020-11-13T17:08:22.661140Z"
    }
   },
   "outputs": [
    {
     "data": {
      "text/plain": [
       "{'dmm_v1': {'dmm_v1': array([5.15213663, 3.0433031 , 1.72231257, 0.79501637, 0.61736617,\n",
       "         0.34351617, 0.14399153, 0.23521823, 0.10193426, 0.05197626]),\n",
       "  'dac_ch1': array([ 0.        ,  2.77777778,  5.55555556,  8.33333333, 11.11111111,\n",
       "         13.88888889, 16.66666667, 19.44444444, 22.22222222, 25.        ])}}"
      ]
     },
     "execution_count": 1,
     "metadata": {},
     "output_type": "execute_result"
    }
   ],
   "source": [
    "datasaver.dataset.get_parameter_data('dmm_v1')"
   ]
  },
  {
   "cell_type": "markdown",
   "metadata": {},
   "source": [
    "You can also simply fetch the data for one or more dependent parameter"
   ]
  },
  {
   "cell_type": "code",
   "execution_count": 9,
   "metadata": {
    "execution": {
     "iopub.execute_input": "2020-11-13T17:08:22.666807Z",
     "iopub.status.busy": "2020-11-13T17:08:22.665452Z",
     "iopub.status.idle": "2020-11-13T17:08:22.672748Z",
     "shell.execute_reply": "2020-11-13T17:08:22.673373Z"
    }
   },
   "outputs": [
    {
     "data": {
      "text/plain": [
       "{'dac_ch1': {'dac_ch1': array([ 0.        ,  2.77777778,  5.55555556,  8.33333333, 11.11111111,\n",
       "         13.88888889, 16.66666667, 19.44444444, 22.22222222, 25.        ])}}"
      ]
     },
     "execution_count": 1,
     "metadata": {},
     "output_type": "execute_result"
    }
   ],
   "source": [
    "datasaver.dataset.get_parameter_data('dac_ch1')"
   ]
  },
  {
   "cell_type": "markdown",
   "metadata": {},
   "source": [
    "For more details about accessing data of a given `DataSet`, see [Accessing data in DataSet notebook](Accessing-data-in-DataSet.ipynb)."
   ]
  },
  {
   "cell_type": "markdown",
   "metadata": {},
   "source": [
    "The data can also be exported as one or more [Pandas](https://pandas.pydata.org/) DataFrames. The DataFrames are returned as a dictionary from measured parameters to DataFrames."
   ]
  },
  {
   "cell_type": "code",
   "execution_count": 10,
   "metadata": {
    "execution": {
     "iopub.execute_input": "2020-11-13T17:08:22.678404Z",
     "iopub.status.busy": "2020-11-13T17:08:22.676949Z",
     "iopub.status.idle": "2020-11-13T17:08:22.867496Z",
     "shell.execute_reply": "2020-11-13T17:08:22.866924Z"
    }
   },
   "outputs": [
    {
     "data": {
      "text/html": [
       "<div>\n",
       "<style scoped>\n",
       "    .dataframe tbody tr th:only-of-type {\n",
       "        vertical-align: middle;\n",
       "    }\n",
       "\n",
       "    .dataframe tbody tr th {\n",
       "        vertical-align: top;\n",
       "    }\n",
       "\n",
       "    .dataframe thead th {\n",
       "        text-align: right;\n",
       "    }\n",
       "</style>\n",
       "<table border=\"1\" class=\"dataframe\">\n",
       "  <thead>\n",
       "    <tr style=\"text-align: right;\">\n",
       "      <th></th>\n",
       "      <th>dmm_v1</th>\n",
       "    </tr>\n",
       "    <tr>\n",
       "      <th>dac_ch1</th>\n",
       "      <th></th>\n",
       "    </tr>\n",
       "  </thead>\n",
       "  <tbody>\n",
       "    <tr>\n",
       "      <th>0.000000</th>\n",
       "      <td>5.152137</td>\n",
       "    </tr>\n",
       "    <tr>\n",
       "      <th>2.777778</th>\n",
       "      <td>3.043303</td>\n",
       "    </tr>\n",
       "    <tr>\n",
       "      <th>5.555556</th>\n",
       "      <td>1.722313</td>\n",
       "    </tr>\n",
       "    <tr>\n",
       "      <th>8.333333</th>\n",
       "      <td>0.795016</td>\n",
       "    </tr>\n",
       "    <tr>\n",
       "      <th>11.111111</th>\n",
       "      <td>0.617366</td>\n",
       "    </tr>\n",
       "    <tr>\n",
       "      <th>13.888889</th>\n",
       "      <td>0.343516</td>\n",
       "    </tr>\n",
       "    <tr>\n",
       "      <th>16.666667</th>\n",
       "      <td>0.143992</td>\n",
       "    </tr>\n",
       "    <tr>\n",
       "      <th>19.444444</th>\n",
       "      <td>0.235218</td>\n",
       "    </tr>\n",
       "    <tr>\n",
       "      <th>22.222222</th>\n",
       "      <td>0.101934</td>\n",
       "    </tr>\n",
       "    <tr>\n",
       "      <th>25.000000</th>\n",
       "      <td>0.051976</td>\n",
       "    </tr>\n",
       "  </tbody>\n",
       "</table>\n",
       "</div>"
      ],
      "text/plain": [
       "             dmm_v1\n",
       "dac_ch1            \n",
       "0.000000   5.152137\n",
       "2.777778   3.043303\n",
       "5.555556   1.722313\n",
       "8.333333   0.795016\n",
       "11.111111  0.617366\n",
       "13.888889  0.343516\n",
       "16.666667  0.143992\n",
       "19.444444  0.235218\n",
       "22.222222  0.101934\n",
       "25.000000  0.051976"
      ]
     },
     "execution_count": 1,
     "metadata": {},
     "output_type": "execute_result"
    }
   ],
   "source": [
    "datasaver.dataset.get_data_as_pandas_dataframe()['dmm_v1']"
   ]
  },
  {
   "cell_type": "markdown",
   "metadata": {},
   "source": [
    "For more details about using Pandas and XArray see [Working With Pandas and XArray](./Working-With-Pandas-and-XArray.ipynb)"
   ]
  },
  {
   "cell_type": "markdown",
   "metadata": {},
   "source": [
    "## Reloading datasets"
   ]
  },
  {
   "cell_type": "markdown",
   "metadata": {},
   "source": [
    "To load existing datasets QCoDeS provides several functions. The most useful and generic function is called `load_by_run_spec`. \n",
    "This function takes one or more pieces of information about a dataset and will either, if the dataset is uniquely identifiable by the information, load the dataset or print information about all the datasets that match the supplied information allowing you to provide more information to uniquely identify the dataset."
   ]
  },
  {
   "cell_type": "markdown",
   "metadata": {},
   "source": [
    "Here, we will load a dataset based on the `captured_run_id` printed on the plot above."
   ]
  },
  {
   "cell_type": "code",
   "execution_count": 11,
   "metadata": {
    "execution": {
     "iopub.execute_input": "2020-11-13T17:08:22.872483Z",
     "iopub.status.busy": "2020-11-13T17:08:22.871771Z",
     "iopub.status.idle": "2020-11-13T17:08:22.878648Z",
     "shell.execute_reply": "2020-11-13T17:08:22.877738Z"
    }
   },
   "outputs": [
    {
     "data": {
      "text/plain": [
       "33"
      ]
     },
     "execution_count": 1,
     "metadata": {},
     "output_type": "execute_result"
    }
   ],
   "source": [
    "datasaver.dataset.captured_run_id"
   ]
  },
  {
   "cell_type": "code",
   "execution_count": 12,
   "metadata": {
    "execution": {
     "iopub.execute_input": "2020-11-13T17:08:22.882518Z",
     "iopub.status.busy": "2020-11-13T17:08:22.881896Z",
     "iopub.status.idle": "2020-11-13T17:08:22.889190Z",
     "shell.execute_reply": "2020-11-13T17:08:22.888252Z"
    }
   },
   "outputs": [],
   "source": [
    "loaded_ds = load_by_run_spec(captured_run_id=datasaver.dataset.captured_run_id)"
   ]
  },
  {
   "cell_type": "code",
   "execution_count": 13,
   "metadata": {
    "execution": {
     "iopub.execute_input": "2020-11-13T17:08:22.893115Z",
     "iopub.status.busy": "2020-11-13T17:08:22.892468Z",
     "iopub.status.idle": "2020-11-13T17:08:22.901492Z",
     "shell.execute_reply": "2020-11-13T17:08:22.900849Z"
    }
   },
   "outputs": [
    {
     "data": {
      "text/plain": [
       "True"
      ]
     },
     "execution_count": 1,
     "metadata": {},
     "output_type": "execute_result"
    }
   ],
   "source": [
    "loaded_ds.the_same_dataset_as(datasaver.dataset)"
   ]
  },
  {
   "cell_type": "markdown",
   "metadata": {},
   "source": [
    "As long as you are working within one database file the dataset should be uniquely identified by `captured_run_id`. However, once you mix several datasets from different database files this is likely not unique. See the following section and [Extracting runs from one DB file to another](Extracting-runs-from-one-DB-file-to-another.ipynb) for more information on how to handle this."
   ]
  },
  {
   "cell_type": "markdown",
   "metadata": {},
   "source": [
    "### GUID"
   ]
  },
  {
   "cell_type": "markdown",
   "metadata": {},
   "source": [
    "Internally each dataset is refereed too by a Globally Unique Identifier (GUID) that ensures that the dataset uniquely identified even if datasets from several databases with potentially identical captured_run_id, experiment and sample names.\n",
    "A dataset can always be reloaded from the GUID if known. "
   ]
  },
  {
   "cell_type": "code",
   "execution_count": 14,
   "metadata": {
    "execution": {
     "iopub.execute_input": "2020-11-13T17:08:22.907477Z",
     "iopub.status.busy": "2020-11-13T17:08:22.906359Z",
     "iopub.status.idle": "2020-11-13T17:08:22.910090Z",
     "shell.execute_reply": "2020-11-13T17:08:22.909557Z"
    }
   },
   "outputs": [
    {
     "name": "stdout",
     "output_type": "stream",
     "text": [
      "Dataset GUID is: aaaaaaaa-0000-0000-0000-0175c2945521\n"
     ]
    }
   ],
   "source": [
    "print(f\"Dataset GUID is: {datasaver.dataset.guid}\")"
   ]
  },
  {
   "cell_type": "code",
   "execution_count": 15,
   "metadata": {
    "execution": {
     "iopub.execute_input": "2020-11-13T17:08:22.913876Z",
     "iopub.status.busy": "2020-11-13T17:08:22.913252Z",
     "iopub.status.idle": "2020-11-13T17:08:22.918926Z",
     "shell.execute_reply": "2020-11-13T17:08:22.918338Z"
    }
   },
   "outputs": [],
   "source": [
    "loaded_ds = load_by_guid(datasaver.dataset.guid)"
   ]
  },
  {
   "cell_type": "code",
   "execution_count": 16,
   "metadata": {
    "execution": {
     "iopub.execute_input": "2020-11-13T17:08:22.922920Z",
     "iopub.status.busy": "2020-11-13T17:08:22.922252Z",
     "iopub.status.idle": "2020-11-13T17:08:22.929340Z",
     "shell.execute_reply": "2020-11-13T17:08:22.929836Z"
    }
   },
   "outputs": [
    {
     "data": {
      "text/plain": [
       "True"
      ]
     },
     "execution_count": 1,
     "metadata": {},
     "output_type": "execute_result"
    }
   ],
   "source": [
    "loaded_ds.the_same_dataset_as(datasaver.dataset)"
   ]
  },
  {
   "cell_type": "markdown",
   "metadata": {},
   "source": [
    "## The power of the new construct\n",
    "\n",
    "This new form is so free that we may easily do thing impossible with the old Loop construct"
   ]
  },
  {
   "cell_type": "code",
   "execution_count": 17,
   "metadata": {
    "execution": {
     "iopub.execute_input": "2020-11-13T17:08:22.935991Z",
     "iopub.status.busy": "2020-11-13T17:08:22.935327Z",
     "iopub.status.idle": "2020-11-13T17:08:22.955462Z",
     "shell.execute_reply": "2020-11-13T17:08:22.956249Z"
    }
   },
   "outputs": [
    {
     "name": "stdout",
     "output_type": "stream",
     "text": [
      "Starting the measurement\n",
      "Doing stuff with the following two instruments: <DummyInstrumentWithMeasurement: dmm>, <DummyInstrument: dac>\n",
      "Starting experimental run with id: 34. \n",
      "End of experiment\n"
     ]
    }
   ],
   "source": [
    "# from the above plot, we decide that a voltage below \n",
    "# 1 V is uninteresting, so we stop the sweep at that point\n",
    "# thus, we do not know in advance how many points we'll measure\n",
    "\n",
    "with meas.run() as datasaver:\n",
    "        \n",
    "    for set_v in np.linspace(0, 25, 100):\n",
    "        dac.ch1.set(set_v)\n",
    "        get_v = dmm.v1.get()        \n",
    "        datasaver.add_result((dac.ch1, set_v),\n",
    "                             (dmm.v1, get_v))\n",
    "\n",
    "        if get_v < 1:\n",
    "            break\n",
    "        \n",
    "    \n",
    "    dataset = datasaver.dataset  # convenient to have for plotting"
   ]
  },
  {
   "cell_type": "code",
   "execution_count": 18,
   "metadata": {
    "execution": {
     "iopub.execute_input": "2020-11-13T17:08:22.960516Z",
     "iopub.status.busy": "2020-11-13T17:08:22.959867Z",
     "iopub.status.idle": "2020-11-13T17:08:23.105382Z",
     "shell.execute_reply": "2020-11-13T17:08:23.104635Z"
    }
   },
   "outputs": [
    {
     "data": {
      "image/png": "[encoded data removed]",
      "text/plain": [
       "<Figure size 432x288 with 1 Axes>"
      ]
     },
     "metadata": {
      "needs_background": "light"
     },
     "output_type": "display_data"
    }
   ],
   "source": [
    "ax, cbax = plot_dataset(dataset)"
   ]
  },
  {
   "cell_type": "code",
   "execution_count": 19,
   "metadata": {
    "execution": {
     "iopub.execute_input": "2020-11-13T17:08:23.112643Z",
     "iopub.status.busy": "2020-11-13T17:08:23.111702Z",
     "iopub.status.idle": "2020-11-13T17:08:33.255072Z",
     "shell.execute_reply": "2020-11-13T17:08:33.255811Z"
    }
   },
   "outputs": [
    {
     "name": "stdout",
     "output_type": "stream",
     "text": [
      "Starting the measurement\n",
      "Doing stuff with the following two instruments: <DummyInstrumentWithMeasurement: dmm>, <DummyInstrument: dac>\n"
     ]
    },
    {
     "name": "stdout",
     "output_type": "stream",
     "text": [
      "Starting experimental run with id: 35. \n"
     ]
    },
    {
     "name": "stdout",
     "output_type": "stream",
     "text": [
      "End of experiment\n"
     ]
    }
   ],
   "source": [
    "# Or we might want to simply get as many points as possible in 10 s\n",
    "# randomly sampling the region between 0 V and 10 V (for the setpoint axis)\n",
    "\n",
    "from time import monotonic, sleep\n",
    "\n",
    "with meas.run() as datasaver:\n",
    "    \n",
    "    t_start = monotonic()\n",
    "    \n",
    "    while monotonic() - t_start < 10:\n",
    "        set_v = 10/2*(np.random.rand() + 1)\n",
    "        dac.ch1.set(set_v)\n",
    "        \n",
    "        # some sleep to not get too many points (or to let the system settle)\n",
    "        sleep(0.1)\n",
    "        \n",
    "        get_v = dmm.v1.get()        \n",
    "        datasaver.add_result((dac.ch1, set_v),\n",
    "                             (dmm.v1, get_v))\n",
    "    \n",
    "    dataset = datasaver.dataset  # convenient to have for plotting"
   ]
  },
  {
   "cell_type": "code",
   "execution_count": 20,
   "metadata": {
    "execution": {
     "iopub.execute_input": "2020-11-13T17:08:33.261622Z",
     "iopub.status.busy": "2020-11-13T17:08:33.260955Z",
     "iopub.status.idle": "2020-11-13T17:08:33.428990Z",
     "shell.execute_reply": "2020-11-13T17:08:33.428389Z"
    }
   },
   "outputs": [
    {
     "data": {
      "image/png": "[encoded data removed]",
      "text/plain": [
       "<Figure size 432x288 with 1 Axes>"
      ]
     },
     "metadata": {
      "needs_background": "light"
     },
     "output_type": "display_data"
    }
   ],
   "source": [
    "axes, cbax = plot_dataset(dataset)\n",
    "# we slightly tweak the plot to better visualise the highly non-standard axis spacing\n",
    "axes[0].lines[0].set_marker('o')\n",
    "axes[0].lines[0].set_markerfacecolor((0.6, 0.6, 0.9))\n",
    "axes[0].lines[0].set_markeredgecolor((0.4, 0.6, 0.9))\n",
    "axes[0].lines[0].set_color((0.8, 0.8, 0.8))"
   ]
  },
  {
   "cell_type": "markdown",
   "metadata": {},
   "source": [
    "## Some 2D examples"
   ]
  },
  {
   "cell_type": "code",
   "execution_count": 21,
   "metadata": {
    "execution": {
     "iopub.execute_input": "2020-11-13T17:08:33.437181Z",
     "iopub.status.busy": "2020-11-13T17:08:33.435571Z",
     "iopub.status.idle": "2020-11-13T17:08:33.439225Z",
     "shell.execute_reply": "2020-11-13T17:08:33.438623Z"
    }
   },
   "outputs": [
    {
     "data": {
      "text/plain": [
       "<qcodes.dataset.measurements.Measurement at 0x7f65a4adf7d0>"
      ]
     },
     "execution_count": 1,
     "metadata": {},
     "output_type": "execute_result"
    }
   ],
   "source": [
    "# For the 2D, we'll need a new batch of parameters, notably one with two \n",
    "# other parameters as setpoints. We therefore define a new Measurement\n",
    "# with new parameters\n",
    "\n",
    "meas = Measurement(exp=exp)\n",
    "meas.register_parameter(dac.ch1)  # register the first independent parameter\n",
    "meas.register_parameter(dac.ch2)  # register the second independent parameter\n",
    "meas.register_parameter(dmm.v2, setpoints=(dac.ch1, dac.ch2))  # now register the dependent oone"
   ]
  },
  {
   "cell_type": "code",
   "execution_count": 22,
   "metadata": {
    "execution": {
     "iopub.execute_input": "2020-11-13T17:08:33.444707Z",
     "iopub.status.busy": "2020-11-13T17:08:33.443914Z",
     "iopub.status.idle": "2020-11-13T17:08:39.404304Z",
     "shell.execute_reply": "2020-11-13T17:08:39.404856Z"
    }
   },
   "outputs": [
    {
     "name": "stdout",
     "output_type": "stream",
     "text": [
      "Starting experimental run with id: 36. \n"
     ]
    }
   ],
   "source": [
    "# run a 2D sweep\n",
    "\n",
    "with meas.run() as datasaver:\n",
    "\n",
    "    for v1 in np.linspace(-1, 1, 200):\n",
    "        for v2 in np.linspace(-1, 1, 200):\n",
    "            dac.ch1(v1)\n",
    "            dac.ch2(v2)\n",
    "            val = dmm.v2.get()\n",
    "            datasaver.add_result((dac.ch1, v1),\n",
    "                                 (dac.ch2, v2),\n",
    "                                 (dmm.v2, val))\n",
    "            \n",
    "    dataset = datasaver.dataset  # convenient to have for plotting"
   ]
  },
  {
   "cell_type": "markdown",
   "metadata": {},
   "source": [
    "When exporting a two or higher dimensional datasets as a Pandas DataFrame a [MultiIndex](https://pandas.pydata.org/pandas-docs/stable/user_guide/advanced.html) is used to index the measured parameter based on all the dependencies"
   ]
  },
  {
   "cell_type": "code",
   "execution_count": 23,
   "metadata": {
    "execution": {
     "iopub.execute_input": "2020-11-13T17:08:39.413305Z",
     "iopub.status.busy": "2020-11-13T17:08:39.411311Z",
     "iopub.status.idle": "2020-11-13T17:08:40.038490Z",
     "shell.execute_reply": "2020-11-13T17:08:40.037425Z"
    },
    "scrolled": true
   },
   "outputs": [
    {
     "data": {
      "text/html": [
       "<div>\n",
       "<style scoped>\n",
       "    .dataframe tbody tr th:only-of-type {\n",
       "        vertical-align: middle;\n",
       "    }\n",
       "\n",
       "    .dataframe tbody tr th {\n",
       "        vertical-align: top;\n",
       "    }\n",
       "\n",
       "    .dataframe thead th {\n",
       "        text-align: right;\n",
       "    }\n",
       "</style>\n",
       "<table border=\"1\" class=\"dataframe\">\n",
       "  <thead>\n",
       "    <tr style=\"text-align: right;\">\n",
       "      <th></th>\n",
       "      <th></th>\n",
       "      <th>dmm_v2</th>\n",
       "    </tr>\n",
       "    <tr>\n",
       "      <th>dac_ch1</th>\n",
       "      <th>dac_ch2</th>\n",
       "      <th></th>\n",
       "    </tr>\n",
       "  </thead>\n",
       "  <tbody>\n",
       "    <tr>\n",
       "      <th rowspan=\"10\" valign=\"top\">-1.0</th>\n",
       "      <th>-1.000000</th>\n",
       "      <td>0.000087</td>\n",
       "    </tr>\n",
       "    <tr>\n",
       "      <th>-0.989950</th>\n",
       "      <td>-0.000372</td>\n",
       "    </tr>\n",
       "    <tr>\n",
       "      <th>-0.979899</th>\n",
       "      <td>0.000050</td>\n",
       "    </tr>\n",
       "    <tr>\n",
       "      <th>-0.969849</th>\n",
       "      <td>0.000285</td>\n",
       "    </tr>\n",
       "    <tr>\n",
       "      <th>-0.959799</th>\n",
       "      <td>0.000513</td>\n",
       "    </tr>\n",
       "    <tr>\n",
       "      <th>-0.949749</th>\n",
       "      <td>0.000419</td>\n",
       "    </tr>\n",
       "    <tr>\n",
       "      <th>-0.939698</th>\n",
       "      <td>0.000594</td>\n",
       "    </tr>\n",
       "    <tr>\n",
       "      <th>-0.929648</th>\n",
       "      <td>0.001148</td>\n",
       "    </tr>\n",
       "    <tr>\n",
       "      <th>-0.919598</th>\n",
       "      <td>0.000568</td>\n",
       "    </tr>\n",
       "    <tr>\n",
       "      <th>-0.909548</th>\n",
       "      <td>-0.000327</td>\n",
       "    </tr>\n",
       "  </tbody>\n",
       "</table>\n",
       "</div>"
      ],
      "text/plain": [
       "                     dmm_v2\n",
       "dac_ch1 dac_ch2            \n",
       "-1.0    -1.000000  0.000087\n",
       "        -0.989950 -0.000372\n",
       "        -0.979899  0.000050\n",
       "        -0.969849  0.000285\n",
       "        -0.959799  0.000513\n",
       "        -0.949749  0.000419\n",
       "        -0.939698  0.000594\n",
       "        -0.929648  0.001148\n",
       "        -0.919598  0.000568\n",
       "        -0.909548 -0.000327"
      ]
     },
     "execution_count": 1,
     "metadata": {},
     "output_type": "execute_result"
    }
   ],
   "source": [
    "datasaver.dataset.get_data_as_pandas_dataframe()['dmm_v2'][0:10]"
   ]
  },
  {
   "cell_type": "markdown",
   "metadata": {},
   "source": [
    "If your data is on a regular grid it may make sense to view the data as an [XArray](https://pandas.pydata.org/pandas-docs/stable/user_guide/advanced.html) Dataset. The Pandas DataFrame can be directly exported to a XArray Dataset."
   ]
  },
  {
   "cell_type": "code",
   "execution_count": 24,
   "metadata": {
    "execution": {
     "iopub.execute_input": "2020-11-13T17:08:40.043634Z",
     "iopub.status.busy": "2020-11-13T17:08:40.042608Z",
     "iopub.status.idle": "2020-11-13T17:08:40.769106Z",
     "shell.execute_reply": "2020-11-13T17:08:40.769614Z"
    }
   },
   "outputs": [
    {
     "data": {
      "text/html": [
       "<div><svg style=\"position: absolute; width: 0; height: 0; overflow: hidden\">\n",
       "<defs>\n",
       "<symbol id=\"icon-database\" viewBox=\"0 0 32 32\">\n",
       "<path d=\"M16 0c-8.837 0-16 2.239-16 5v4c0 2.761 7.163 5 16 5s16-2.239 16-5v-4c0-2.761-7.163-5-16-5z\"></path>\n",
       "<path d=\"M16 17c-8.837 0-16-2.239-16-5v6c0 2.761 7.163 5 16 5s16-2.239 16-5v-6c0 2.761-7.163 5-16 5z\"></path>\n",
       "<path d=\"M16 26c-8.837 0-16-2.239-16-5v6c0 2.761 7.163 5 16 5s16-2.239 16-5v-6c0 2.761-7.163 5-16 5z\"></path>\n",
       "</symbol>\n",
       "<symbol id=\"icon-file-text2\" viewBox=\"0 0 32 32\">\n",
       "<path d=\"M28.681 7.159c-0.694-0.947-1.662-2.053-2.724-3.116s-2.169-2.030-3.116-2.724c-1.612-1.182-2.393-1.319-2.841-1.319h-15.5c-1.378 0-2.5 1.121-2.5 2.5v27c0 1.378 1.122 2.5 2.5 2.5h23c1.378 0 2.5-1.122 2.5-2.5v-19.5c0-0.448-0.137-1.23-1.319-2.841zM24.543 5.457c0.959 0.959 1.712 1.825 2.268 2.543h-4.811v-4.811c0.718 0.556 1.584 1.309 2.543 2.268zM28 29.5c0 0.271-0.229 0.5-0.5 0.5h-23c-0.271 0-0.5-0.229-0.5-0.5v-27c0-0.271 0.229-0.5 0.5-0.5 0 0 15.499-0 15.5 0v7c0 0.552 0.448 1 1 1h7v19.5z\"></path>\n",
       "<path d=\"M23 26h-14c-0.552 0-1-0.448-1-1s0.448-1 1-1h14c0.552 0 1 0.448 1 1s-0.448 1-1 1z\"></path>\n",
       "<path d=\"M23 22h-14c-0.552 0-1-0.448-1-1s0.448-1 1-1h14c0.552 0 1 0.448 1 1s-0.448 1-1 1z\"></path>\n",
       "<path d=\"M23 18h-14c-0.552 0-1-0.448-1-1s0.448-1 1-1h14c0.552 0 1 0.448 1 1s-0.448 1-1 1z\"></path>\n",
       "</symbol>\n",
       "</defs>\n",
       "</svg>\n",
       "<style>/* CSS stylesheet for displaying xarray objects in jupyterlab.\n",
       " *\n",
       " */\n",
       "\n",
       ":root {\n",
       "  --xr-font-color0: var(--jp-content-font-color0, rgba(0, 0, 0, 1));\n",
       "  --xr-font-color2: var(--jp-content-font-color2, rgba(0, 0, 0, 0.54));\n",
       "  --xr-font-color3: var(--jp-content-font-color3, rgba(0, 0, 0, 0.38));\n",
       "  --xr-border-color: var(--jp-border-color2, #e0e0e0);\n",
       "  --xr-disabled-color: var(--jp-layout-color3, #bdbdbd);\n",
       "  --xr-background-color: var(--jp-layout-color0, white);\n",
       "  --xr-background-color-row-even: var(--jp-layout-color1, white);\n",
       "  --xr-background-color-row-odd: var(--jp-layout-color2, #eeeeee);\n",
       "}\n",
       "\n",
       "html[theme=dark],\n",
       "body.vscode-dark {\n",
       "  --xr-font-color0: rgba(255, 255, 255, 1);\n",
       "  --xr-font-color2: rgba(255, 255, 255, 0.54);\n",
       "  --xr-font-color3: rgba(255, 255, 255, 0.38);\n",
       "  --xr-border-color: #1F1F1F;\n",
       "  --xr-disabled-color: #515151;\n",
       "  --xr-background-color: #111111;\n",
       "  --xr-background-color-row-even: #111111;\n",
       "  --xr-background-color-row-odd: #313131;\n",
       "}\n",
       "\n",
       ".xr-wrap {\n",
       "  display: block;\n",
       "  min-width: 300px;\n",
       "  max-width: 700px;\n",
       "}\n",
       "\n",
       ".xr-text-repr-fallback {\n",
       "  /* fallback to plain text repr when CSS is not injected (untrusted notebook) */\n",
       "  display: none;\n",
       "}\n",
       "\n",
       ".xr-header {\n",
       "  padding-top: 6px;\n",
       "  padding-bottom: 6px;\n",
       "  margin-bottom: 4px;\n",
       "  border-bottom: solid 1px var(--xr-border-color);\n",
       "}\n",
       "\n",
       ".xr-header > div,\n",
       ".xr-header > ul {\n",
       "  display: inline;\n",
       "  margin-top: 0;\n",
       "  margin-bottom: 0;\n",
       "}\n",
       "\n",
       ".xr-obj-type,\n",
       ".xr-array-name {\n",
       "  margin-left: 2px;\n",
       "  margin-right: 10px;\n",
       "}\n",
       "\n",
       ".xr-obj-type {\n",
       "  color: var(--xr-font-color2);\n",
       "}\n",
       "\n",
       ".xr-sections {\n",
       "  padding-left: 0 !important;\n",
       "  display: grid;\n",
       "  grid-template-columns: 150px auto auto 1fr 20px 20px;\n",
       "}\n",
       "\n",
       ".xr-section-item {\n",
       "  display: contents;\n",
       "}\n",
       "\n",
       ".xr-section-item input {\n",
       "  display: none;\n",
       "}\n",
       "\n",
       ".xr-section-item input + label {\n",
       "  color: var(--xr-disabled-color);\n",
       "}\n",
       "\n",
       ".xr-section-item input:enabled + label {\n",
       "  cursor: pointer;\n",
       "  color: var(--xr-font-color2);\n",
       "}\n",
       "\n",
       ".xr-section-item input:enabled + label:hover {\n",
       "  color: var(--xr-font-color0);\n",
       "}\n",
       "\n",
       ".xr-section-summary {\n",
       "  grid-column: 1;\n",
       "  color: var(--xr-font-color2);\n",
       "  font-weight: 500;\n",
       "}\n",
       "\n",
       ".xr-section-summary > span {\n",
       "  display: inline-block;\n",
       "  padding-left: 0.5em;\n",
       "}\n",
       "\n",
       ".xr-section-summary-in:disabled + label {\n",
       "  color: var(--xr-font-color2);\n",
       "}\n",
       "\n",
       ".xr-section-summary-in + label:before {\n",
       "  display: inline-block;\n",
       "  content: '►';\n",
       "  font-size: 11px;\n",
       "  width: 15px;\n",
       "  text-align: center;\n",
       "}\n",
       "\n",
       ".xr-section-summary-in:disabled + label:before {\n",
       "  color: var(--xr-disabled-color);\n",
       "}\n",
       "\n",
       ".xr-section-summary-in:checked + label:before {\n",
       "  content: '▼';\n",
       "}\n",
       "\n",
       ".xr-section-summary-in:checked + label > span {\n",
       "  display: none;\n",
       "}\n",
       "\n",
       ".xr-section-summary,\n",
       ".xr-section-inline-details {\n",
       "  padding-top: 4px;\n",
       "  padding-bottom: 4px;\n",
       "}\n",
       "\n",
       ".xr-section-inline-details {\n",
       "  grid-column: 2 / -1;\n",
       "}\n",
       "\n",
       ".xr-section-details {\n",
       "  display: none;\n",
       "  grid-column: 1 / -1;\n",
       "  margin-bottom: 5px;\n",
       "}\n",
       "\n",
       ".xr-section-summary-in:checked ~ .xr-section-details {\n",
       "  display: contents;\n",
       "}\n",
       "\n",
       ".xr-array-wrap {\n",
       "  grid-column: 1 / -1;\n",
       "  display: grid;\n",
       "  grid-template-columns: 20px auto;\n",
       "}\n",
       "\n",
       ".xr-array-wrap > label {\n",
       "  grid-column: 1;\n",
       "  vertical-align: top;\n",
       "}\n",
       "\n",
       ".xr-preview {\n",
       "  color: var(--xr-font-color3);\n",
       "}\n",
       "\n",
       ".xr-array-preview,\n",
       ".xr-array-data {\n",
       "  padding: 0 5px !important;\n",
       "  grid-column: 2;\n",
       "}\n",
       "\n",
       ".xr-array-data,\n",
       ".xr-array-in:checked ~ .xr-array-preview {\n",
       "  display: none;\n",
       "}\n",
       "\n",
       ".xr-array-in:checked ~ .xr-array-data,\n",
       ".xr-array-preview {\n",
       "  display: inline-block;\n",
       "}\n",
       "\n",
       ".xr-dim-list {\n",
       "  display: inline-block !important;\n",
       "  list-style: none;\n",
       "  padding: 0 !important;\n",
       "  margin: 0;\n",
       "}\n",
       "\n",
       ".xr-dim-list li {\n",
       "  display: inline-block;\n",
       "  padding: 0;\n",
       "  margin: 0;\n",
       "}\n",
       "\n",
       ".xr-dim-list:before {\n",
       "  content: '(';\n",
       "}\n",
       "\n",
       ".xr-dim-list:after {\n",
       "  content: ')';\n",
       "}\n",
       "\n",
       ".xr-dim-list li:not(:last-child):after {\n",
       "  content: ',';\n",
       "  padding-right: 5px;\n",
       "}\n",
       "\n",
       ".xr-has-index {\n",
       "  font-weight: bold;\n",
       "}\n",
       "\n",
       ".xr-var-list,\n",
       ".xr-var-item {\n",
       "  display: contents;\n",
       "}\n",
       "\n",
       ".xr-var-item > div,\n",
       ".xr-var-item label,\n",
       ".xr-var-item > .xr-var-name span {\n",
       "  background-color: var(--xr-background-color-row-even);\n",
       "  margin-bottom: 0;\n",
       "}\n",
       "\n",
       ".xr-var-item > .xr-var-name:hover span {\n",
       "  padding-right: 5px;\n",
       "}\n",
       "\n",
       ".xr-var-list > li:nth-child(odd) > div,\n",
       ".xr-var-list > li:nth-child(odd) > label,\n",
       ".xr-var-list > li:nth-child(odd) > .xr-var-name span {\n",
       "  background-color: var(--xr-background-color-row-odd);\n",
       "}\n",
       "\n",
       ".xr-var-name {\n",
       "  grid-column: 1;\n",
       "}\n",
       "\n",
       ".xr-var-dims {\n",
       "  grid-column: 2;\n",
       "}\n",
       "\n",
       ".xr-var-dtype {\n",
       "  grid-column: 3;\n",
       "  text-align: right;\n",
       "  color: var(--xr-font-color2);\n",
       "}\n",
       "\n",
       ".xr-var-preview {\n",
       "  grid-column: 4;\n",
       "}\n",
       "\n",
       ".xr-var-name,\n",
       ".xr-var-dims,\n",
       ".xr-var-dtype,\n",
       ".xr-preview,\n",
       ".xr-attrs dt {\n",
       "  white-space: nowrap;\n",
       "  overflow: hidden;\n",
       "  text-overflow: ellipsis;\n",
       "  padding-right: 10px;\n",
       "}\n",
       "\n",
       ".xr-var-name:hover,\n",
       ".xr-var-dims:hover,\n",
       ".xr-var-dtype:hover,\n",
       ".xr-attrs dt:hover {\n",
       "  overflow: visible;\n",
       "  width: auto;\n",
       "  z-index: 1;\n",
       "}\n",
       "\n",
       ".xr-var-attrs,\n",
       ".xr-var-data {\n",
       "  display: none;\n",
       "  background-color: var(--xr-background-color) !important;\n",
       "  padding-bottom: 5px !important;\n",
       "}\n",
       "\n",
       ".xr-var-attrs-in:checked ~ .xr-var-attrs,\n",
       ".xr-var-data-in:checked ~ .xr-var-data {\n",
       "  display: block;\n",
       "}\n",
       "\n",
       ".xr-var-data > table {\n",
       "  float: right;\n",
       "}\n",
       "\n",
       ".xr-var-name span,\n",
       ".xr-var-data,\n",
       ".xr-attrs {\n",
       "  padding-left: 25px !important;\n",
       "}\n",
       "\n",
       ".xr-attrs,\n",
       ".xr-var-attrs,\n",
       ".xr-var-data {\n",
       "  grid-column: 1 / -1;\n",
       "}\n",
       "\n",
       "dl.xr-attrs {\n",
       "  padding: 0;\n",
       "  margin: 0;\n",
       "  display: grid;\n",
       "  grid-template-columns: 125px auto;\n",
       "}\n",
       "\n",
       ".xr-attrs dt, dd {\n",
       "  padding: 0;\n",
       "  margin: 0;\n",
       "  float: left;\n",
       "  padding-right: 10px;\n",
       "  width: auto;\n",
       "}\n",
       "\n",
       ".xr-attrs dt {\n",
       "  font-weight: normal;\n",
       "  grid-column: 1;\n",
       "}\n",
       "\n",
       ".xr-attrs dt:hover span {\n",
       "  display: inline-block;\n",
       "  background: var(--xr-background-color);\n",
       "  padding-right: 10px;\n",
       "}\n",
       "\n",
       ".xr-attrs dd {\n",
       "  grid-column: 2;\n",
       "  white-space: pre-wrap;\n",
       "  word-break: break-all;\n",
       "}\n",
       "\n",
       ".xr-icon-database,\n",
       ".xr-icon-file-text2 {\n",
       "  display: inline-block;\n",
       "  vertical-align: middle;\n",
       "  width: 1em;\n",
       "  height: 1.5em !important;\n",
       "  stroke-width: 0;\n",
       "  stroke: currentColor;\n",
       "  fill: currentColor;\n",
       "}\n",
       "</style><pre class='xr-text-repr-fallback'>&lt;xarray.Dataset&gt;\n",
       "Dimensions:  (dac_ch1: 200, dac_ch2: 200)\n",
       "Coordinates:\n",
       "  * dac_ch1  (dac_ch1) float64 -1.0 -0.9899 -0.9799 ... 0.9799 0.9899 1.0\n",
       "  * dac_ch2  (dac_ch2) float64 -1.0 -0.9899 -0.9799 ... 0.9799 0.9899 1.0\n",
       "Data variables:\n",
       "    dmm_v2   (dac_ch1, dac_ch2) float64 8.719e-05 -0.000372 ... -7.956e-05</pre><div class='xr-wrap' hidden><div class='xr-header'><div class='xr-obj-type'>xarray.Dataset</div></div><ul class='xr-sections'><li class='xr-section-item'><input id='section-ac925b69-8de7-48d1-a48b-cf3215d2c69b' class='xr-section-summary-in' type='checkbox' disabled ><label for='section-ac925b69-8de7-48d1-a48b-cf3215d2c69b' class='xr-section-summary'  title='Expand/collapse section'>Dimensions:</label><div class='xr-section-inline-details'><ul class='xr-dim-list'><li><span class='xr-has-index'>dac_ch1</span>: 200</li><li><span class='xr-has-index'>dac_ch2</span>: 200</li></ul></div><div class='xr-section-details'></div></li><li class='xr-section-item'><input id='section-151ce99e-e34c-4af1-9bbe-fde7277ee4d6' class='xr-section-summary-in' type='checkbox'  checked><label for='section-151ce99e-e34c-4af1-9bbe-fde7277ee4d6' class='xr-section-summary' >Coordinates: <span>(2)</span></label><div class='xr-section-inline-details'></div><div class='xr-section-details'><ul class='xr-var-list'><li class='xr-var-item'><div class='xr-var-name'><span class='xr-has-index'>dac_ch1</span></div><div class='xr-var-dims'>(dac_ch1)</div><div class='xr-var-dtype'>float64</div><div class='xr-var-preview xr-preview'>-1.0 -0.9899 -0.9799 ... 0.9899 1.0</div><input id='attrs-2e64c470-033e-4c70-9dde-8bdd2d7f9bef' class='xr-var-attrs-in' type='checkbox' disabled><label for='attrs-2e64c470-033e-4c70-9dde-8bdd2d7f9bef' title='Show/Hide attributes'><svg class='icon xr-icon-file-text2'><use xlink:href='#icon-file-text2'></use></svg></label><input id='data-c55b95ec-7807-45e5-8db9-bd078f1e7fed' class='xr-var-data-in' type='checkbox'><label for='data-c55b95ec-7807-45e5-8db9-bd078f1e7fed' title='Show/Hide data repr'><svg class='icon xr-icon-database'><use xlink:href='#icon-database'></use></svg></label><div class='xr-var-attrs'><dl class='xr-attrs'></dl></div><div class='xr-var-data'><pre>array([-1.      , -0.98995 , -0.979899, -0.969849, -0.959799, -0.949749,\n",
       "       -0.939698, -0.929648, -0.919598, -0.909548, -0.899497, -0.889447,\n",
       "       -0.879397, -0.869347, -0.859296, -0.849246, -0.839196, -0.829146,\n",
       "       -0.819095, -0.809045, -0.798995, -0.788945, -0.778894, -0.768844,\n",
       "       -0.758794, -0.748744, -0.738693, -0.728643, -0.718593, -0.708543,\n",
       "       -0.698492, -0.688442, -0.678392, -0.668342, -0.658291, -0.648241,\n",
       "       -0.638191, -0.628141, -0.61809 , -0.60804 , -0.59799 , -0.58794 ,\n",
       "       -0.577889, -0.567839, -0.557789, -0.547739, -0.537688, -0.527638,\n",
       "       -0.517588, -0.507538, -0.497487, -0.487437, -0.477387, -0.467337,\n",
       "       -0.457286, -0.447236, -0.437186, -0.427136, -0.417085, -0.407035,\n",
       "       -0.396985, -0.386935, -0.376884, -0.366834, -0.356784, -0.346734,\n",
       "       -0.336683, -0.326633, -0.316583, -0.306533, -0.296482, -0.286432,\n",
       "       -0.276382, -0.266332, -0.256281, -0.246231, -0.236181, -0.226131,\n",
       "       -0.21608 , -0.20603 , -0.19598 , -0.18593 , -0.175879, -0.165829,\n",
       "       -0.155779, -0.145729, -0.135678, -0.125628, -0.115578, -0.105528,\n",
       "       -0.095477, -0.085427, -0.075377, -0.065327, -0.055276, -0.045226,\n",
       "       -0.035176, -0.025126, -0.015075, -0.005025,  0.005025,  0.015075,\n",
       "        0.025126,  0.035176,  0.045226,  0.055276,  0.065327,  0.075377,\n",
       "        0.085427,  0.095477,  0.105528,  0.115578,  0.125628,  0.135678,\n",
       "        0.145729,  0.155779,  0.165829,  0.175879,  0.18593 ,  0.19598 ,\n",
       "        0.20603 ,  0.21608 ,  0.226131,  0.236181,  0.246231,  0.256281,\n",
       "        0.266332,  0.276382,  0.286432,  0.296482,  0.306533,  0.316583,\n",
       "        0.326633,  0.336683,  0.346734,  0.356784,  0.366834,  0.376884,\n",
       "        0.386935,  0.396985,  0.407035,  0.417085,  0.427136,  0.437186,\n",
       "        0.447236,  0.457286,  0.467337,  0.477387,  0.487437,  0.497487,\n",
       "        0.507538,  0.517588,  0.527638,  0.537688,  0.547739,  0.557789,\n",
       "        0.567839,  0.577889,  0.58794 ,  0.59799 ,  0.60804 ,  0.61809 ,\n",
       "        0.628141,  0.638191,  0.648241,  0.658291,  0.668342,  0.678392,\n",
       "        0.688442,  0.698492,  0.708543,  0.718593,  0.728643,  0.738693,\n",
       "        0.748744,  0.758794,  0.768844,  0.778894,  0.788945,  0.798995,\n",
       "        0.809045,  0.819095,  0.829146,  0.839196,  0.849246,  0.859296,\n",
       "        0.869347,  0.879397,  0.889447,  0.899497,  0.909548,  0.919598,\n",
       "        0.929648,  0.939698,  0.949749,  0.959799,  0.969849,  0.979899,\n",
       "        0.98995 ,  1.      ])</pre></div></li><li class='xr-var-item'><div class='xr-var-name'><span class='xr-has-index'>dac_ch2</span></div><div class='xr-var-dims'>(dac_ch2)</div><div class='xr-var-dtype'>float64</div><div class='xr-var-preview xr-preview'>-1.0 -0.9899 -0.9799 ... 0.9899 1.0</div><input id='attrs-eb3f626f-a5ff-4099-b58a-4c1578edc46e' class='xr-var-attrs-in' type='checkbox' disabled><label for='attrs-eb3f626f-a5ff-4099-b58a-4c1578edc46e' title='Show/Hide attributes'><svg class='icon xr-icon-file-text2'><use xlink:href='#icon-file-text2'></use></svg></label><input id='data-1fc9385b-a594-4931-ac30-c8a4430dede3' class='xr-var-data-in' type='checkbox'><label for='data-1fc9385b-a594-4931-ac30-c8a4430dede3' title='Show/Hide data repr'><svg class='icon xr-icon-database'><use xlink:href='#icon-database'></use></svg></label><div class='xr-var-attrs'><dl class='xr-attrs'></dl></div><div class='xr-var-data'><pre>array([-1.      , -0.98995 , -0.979899, -0.969849, -0.959799, -0.949749,\n",
       "       -0.939698, -0.929648, -0.919598, -0.909548, -0.899497, -0.889447,\n",
       "       -0.879397, -0.869347, -0.859296, -0.849246, -0.839196, -0.829146,\n",
       "       -0.819095, -0.809045, -0.798995, -0.788945, -0.778894, -0.768844,\n",
       "       -0.758794, -0.748744, -0.738693, -0.728643, -0.718593, -0.708543,\n",
       "       -0.698492, -0.688442, -0.678392, -0.668342, -0.658291, -0.648241,\n",
       "       -0.638191, -0.628141, -0.61809 , -0.60804 , -0.59799 , -0.58794 ,\n",
       "       -0.577889, -0.567839, -0.557789, -0.547739, -0.537688, -0.527638,\n",
       "       -0.517588, -0.507538, -0.497487, -0.487437, -0.477387, -0.467337,\n",
       "       -0.457286, -0.447236, -0.437186, -0.427136, -0.417085, -0.407035,\n",
       "       -0.396985, -0.386935, -0.376884, -0.366834, -0.356784, -0.346734,\n",
       "       -0.336683, -0.326633, -0.316583, -0.306533, -0.296482, -0.286432,\n",
       "       -0.276382, -0.266332, -0.256281, -0.246231, -0.236181, -0.226131,\n",
       "       -0.21608 , -0.20603 , -0.19598 , -0.18593 , -0.175879, -0.165829,\n",
       "       -0.155779, -0.145729, -0.135678, -0.125628, -0.115578, -0.105528,\n",
       "       -0.095477, -0.085427, -0.075377, -0.065327, -0.055276, -0.045226,\n",
       "       -0.035176, -0.025126, -0.015075, -0.005025,  0.005025,  0.015075,\n",
       "        0.025126,  0.035176,  0.045226,  0.055276,  0.065327,  0.075377,\n",
       "        0.085427,  0.095477,  0.105528,  0.115578,  0.125628,  0.135678,\n",
       "        0.145729,  0.155779,  0.165829,  0.175879,  0.18593 ,  0.19598 ,\n",
       "        0.20603 ,  0.21608 ,  0.226131,  0.236181,  0.246231,  0.256281,\n",
       "        0.266332,  0.276382,  0.286432,  0.296482,  0.306533,  0.316583,\n",
       "        0.326633,  0.336683,  0.346734,  0.356784,  0.366834,  0.376884,\n",
       "        0.386935,  0.396985,  0.407035,  0.417085,  0.427136,  0.437186,\n",
       "        0.447236,  0.457286,  0.467337,  0.477387,  0.487437,  0.497487,\n",
       "        0.507538,  0.517588,  0.527638,  0.537688,  0.547739,  0.557789,\n",
       "        0.567839,  0.577889,  0.58794 ,  0.59799 ,  0.60804 ,  0.61809 ,\n",
       "        0.628141,  0.638191,  0.648241,  0.658291,  0.668342,  0.678392,\n",
       "        0.688442,  0.698492,  0.708543,  0.718593,  0.728643,  0.738693,\n",
       "        0.748744,  0.758794,  0.768844,  0.778894,  0.788945,  0.798995,\n",
       "        0.809045,  0.819095,  0.829146,  0.839196,  0.849246,  0.859296,\n",
       "        0.869347,  0.879397,  0.889447,  0.899497,  0.909548,  0.919598,\n",
       "        0.929648,  0.939698,  0.949749,  0.959799,  0.969849,  0.979899,\n",
       "        0.98995 ,  1.      ])</pre></div></li></ul></div></li><li class='xr-section-item'><input id='section-9bd613c5-ddec-46f7-8c39-bb8586f9de56' class='xr-section-summary-in' type='checkbox'  checked><label for='section-9bd613c5-ddec-46f7-8c39-bb8586f9de56' class='xr-section-summary' >Data variables: <span>(1)</span></label><div class='xr-section-inline-details'></div><div class='xr-section-details'><ul class='xr-var-list'><li class='xr-var-item'><div class='xr-var-name'><span>dmm_v2</span></div><div class='xr-var-dims'>(dac_ch1, dac_ch2)</div><div class='xr-var-dtype'>float64</div><div class='xr-var-preview xr-preview'>8.719e-05 -0.000372 ... -7.956e-05</div><input id='attrs-02704138-a1a6-48c8-b52b-fa75fedda770' class='xr-var-attrs-in' type='checkbox' disabled><label for='attrs-02704138-a1a6-48c8-b52b-fa75fedda770' title='Show/Hide attributes'><svg class='icon xr-icon-file-text2'><use xlink:href='#icon-file-text2'></use></svg></label><input id='data-682c2f4e-64bf-43db-811b-7e3bfd69c6b3' class='xr-var-data-in' type='checkbox'><label for='data-682c2f4e-64bf-43db-811b-7e3bfd69c6b3' title='Show/Hide data repr'><svg class='icon xr-icon-database'><use xlink:href='#icon-database'></use></svg></label><div class='xr-var-attrs'><dl class='xr-attrs'></dl></div><div class='xr-var-data'><pre>array([[ 8.71863775e-05, -3.71964419e-04,  5.02895049e-05, ...,\n",
       "         1.19099683e-04, -7.32271240e-04,  1.70030325e-04],\n",
       "       [ 3.94068973e-04, -1.75968450e-04, -5.36496593e-04, ...,\n",
       "        -1.18427327e-03, -3.34597666e-04, -3.40386323e-05],\n",
       "       [ 6.41670433e-04,  2.04386589e-04,  4.80823232e-04, ...,\n",
       "        -9.07613749e-05, -3.64766070e-04, -1.13560731e-03],\n",
       "       ...,\n",
       "       [ 3.04815733e-04, -5.49122974e-05,  5.90069322e-04, ...,\n",
       "        -1.10106607e-04,  6.15863556e-04,  8.62513972e-04],\n",
       "       [ 1.03217267e-05,  4.78257680e-04, -2.76780357e-04, ...,\n",
       "         5.11705069e-05,  1.14263285e-04, -3.14511296e-04],\n",
       "       [ 1.70070555e-04, -1.02074747e-03,  1.71799396e-04, ...,\n",
       "         5.66704819e-04, -3.19048247e-04, -7.95624029e-05]])</pre></div></li></ul></div></li><li class='xr-section-item'><input id='section-3c0f5ea5-8c88-419f-b6cf-97c659732ae0' class='xr-section-summary-in' type='checkbox' disabled ><label for='section-3c0f5ea5-8c88-419f-b6cf-97c659732ae0' class='xr-section-summary'  title='Expand/collapse section'>Attributes: <span>(0)</span></label><div class='xr-section-inline-details'></div><div class='xr-section-details'><dl class='xr-attrs'></dl></div></li></ul></div></div>"
      ],
      "text/plain": [
       "<xarray.Dataset>\n",
       "Dimensions:  (dac_ch1: 200, dac_ch2: 200)\n",
       "Coordinates:\n",
       "  * dac_ch1  (dac_ch1) float64 -1.0 -0.9899 -0.9799 ... 0.9799 0.9899 1.0\n",
       "  * dac_ch2  (dac_ch2) float64 -1.0 -0.9899 -0.9799 ... 0.9799 0.9899 1.0\n",
       "Data variables:\n",
       "    dmm_v2   (dac_ch1, dac_ch2) float64 8.719e-05 -0.000372 ... -7.956e-05"
      ]
     },
     "execution_count": 1,
     "metadata": {},
     "output_type": "execute_result"
    }
   ],
   "source": [
    "datasaver.dataset.get_data_as_pandas_dataframe()['dmm_v2'].to_xarray()"
   ]
  },
  {
   "cell_type": "markdown",
   "metadata": {},
   "source": [
    "Note, however, that XArray is only suited for data that is on a rectangular grid with few or no missing values. "
   ]
  },
  {
   "cell_type": "code",
   "execution_count": 25,
   "metadata": {
    "execution": {
     "iopub.execute_input": "2020-11-13T17:08:40.773845Z",
     "iopub.status.busy": "2020-11-13T17:08:40.772835Z",
     "iopub.status.idle": "2020-11-13T17:08:41.670137Z",
     "shell.execute_reply": "2020-11-13T17:08:41.669618Z"
    }
   },
   "outputs": [
    {
     "data": {
      "image/png": "[encoded data removed]",
      "text/plain": [
       "<Figure size 432x288 with 2 Axes>"
      ]
     },
     "metadata": {
      "needs_background": "light"
     },
     "output_type": "display_data"
    }
   ],
   "source": [
    "ax, cbax = plot_dataset(dataset)"
   ]
  },
  {
   "cell_type": "code",
   "execution_count": 26,
   "metadata": {
    "execution": {
     "iopub.execute_input": "2020-11-13T17:08:41.677166Z",
     "iopub.status.busy": "2020-11-13T17:08:41.676327Z",
     "iopub.status.idle": "2020-11-13T17:08:48.108568Z",
     "shell.execute_reply": "2020-11-13T17:08:48.109305Z"
    }
   },
   "outputs": [
    {
     "name": "stdout",
     "output_type": "stream",
     "text": [
      "Starting experimental run with id: 37. \n"
     ]
    }
   ],
   "source": [
    "# Looking at the above picture, we may decide to sample more finely in the central\n",
    "# region\n",
    "\n",
    "with meas.run() as datasaver:\n",
    "\n",
    "    v1points = np.concatenate((np.linspace(-1, -0.5, 5),\n",
    "                               np.linspace(-0.51, 0.5, 200),\n",
    "                               np.linspace(0.51, 1, 5)))\n",
    "    v2points = np.concatenate((np.linspace(-1, -0.25, 5),\n",
    "                               np.linspace(-0.26, 0.5, 200),\n",
    "                               np.linspace(0.51, 1, 5)))\n",
    "    \n",
    "    for v1 in v1points:\n",
    "        for v2 in v2points:\n",
    "            dac.ch1(v1)\n",
    "            dac.ch2(v2)\n",
    "            val = dmm.v2.get()\n",
    "            datasaver.add_result((dac.ch1, v1),\n",
    "                                 (dac.ch2, v2),\n",
    "                                 (dmm.v2, val))\n",
    "\n",
    "    dataset = datasaver.dataset  # convenient to have for plotting"
   ]
  },
  {
   "cell_type": "code",
   "execution_count": 27,
   "metadata": {
    "execution": {
     "iopub.execute_input": "2020-11-13T17:08:48.114261Z",
     "iopub.status.busy": "2020-11-13T17:08:48.113591Z",
     "iopub.status.idle": "2020-11-13T17:08:49.129203Z",
     "shell.execute_reply": "2020-11-13T17:08:49.130009Z"
    }
   },
   "outputs": [
    {
     "data": {
      "image/png": "[encoded data removed]",
      "text/plain": [
       "<Figure size 432x288 with 2 Axes>"
      ]
     },
     "metadata": {
      "needs_background": "light"
     },
     "output_type": "display_data"
    }
   ],
   "source": [
    "ax, cbax = plot_dataset(dataset)"
   ]
  },
  {
   "cell_type": "code",
   "execution_count": 28,
   "metadata": {
    "execution": {
     "iopub.execute_input": "2020-11-13T17:08:49.140101Z",
     "iopub.status.busy": "2020-11-13T17:08:49.139420Z",
     "iopub.status.idle": "2020-11-13T17:08:52.254713Z",
     "shell.execute_reply": "2020-11-13T17:08:52.255213Z"
    }
   },
   "outputs": [
    {
     "name": "stdout",
     "output_type": "stream",
     "text": [
      "Starting experimental run with id: 38. \n"
     ]
    },
    {
     "name": "stdout",
     "output_type": "stream",
     "text": [
      "130 46 0.2506034108733064\n",
      "----------\n"
     ]
    }
   ],
   "source": [
    "# or even perform an adaptive sweep... ooohh...\n",
    "#\n",
    "# This example is a not-very-clever toy model example,\n",
    "# but it nicely shows a semi-realistic measurement that the old qc.Loop\n",
    "# could not handle\n",
    "\n",
    "v1_points = np.linspace(-1, 1, 250)\n",
    "v2_points = np.linspace(1, -1, 250)\n",
    "\n",
    "threshold = 0.25\n",
    "\n",
    "with meas.run() as datasaver:\n",
    "    # Do normal sweeping until the peak is detected\n",
    "    \n",
    "    for v2ind, v2 in enumerate(v2_points):\n",
    "        for v1ind, v1 in enumerate(v1_points):\n",
    "            dac.ch1(v1)\n",
    "            dac.ch2(v2)\n",
    "            val = dmm.v2.get()\n",
    "            datasaver.add_result((dac.ch1, v1),\n",
    "                                 (dac.ch2, v2),\n",
    "                                 (dmm.v2, val))\n",
    "            if val > threshold:\n",
    "                break\n",
    "        else:\n",
    "            continue\n",
    "        break\n",
    "        \n",
    "    print(v1ind, v2ind, val)\n",
    "    print('-'*10)\n",
    "        \n",
    "    # now be more clever, meandering back and forth over the peak\n",
    "    doneyet = False\n",
    "    rowdone = False\n",
    "    v1_step = 1\n",
    "    while not doneyet:\n",
    "            v2 = v2_points[v2ind]\n",
    "            v1 = v1_points[v1ind+v1_step-1]\n",
    "            dac.ch1(v1)\n",
    "            dac.ch2(v2)\n",
    "            val = dmm.v2.get()\n",
    "            datasaver.add_result((dac.ch1, v1),\n",
    "                                 (dac.ch2, v2),\n",
    "                                 (dmm.v2, val))\n",
    "            if val < threshold:\n",
    "                if rowdone:\n",
    "                    doneyet = True\n",
    "                v2ind += 1\n",
    "                v1_step *= -1\n",
    "                rowdone = True\n",
    "            else:\n",
    "                v1ind += v1_step\n",
    "                rowdone = False\n",
    "                \n",
    "dataset = datasaver.dataset  # convenient to have for plotting"
   ]
  },
  {
   "cell_type": "code",
   "execution_count": 29,
   "metadata": {
    "execution": {
     "iopub.execute_input": "2020-11-13T17:08:52.260101Z",
     "iopub.status.busy": "2020-11-13T17:08:52.259052Z",
     "iopub.status.idle": "2020-11-13T17:08:52.970807Z",
     "shell.execute_reply": "2020-11-13T17:08:52.970146Z"
    }
   },
   "outputs": [
    {
     "name": "stderr",
     "output_type": "stream",
     "text": [
      "2020-11-13 17:08:52,585 ¦ py.warnings ¦ WARNING ¦ warnings ¦ _showwarnmsg ¦ 110 ¦ /home/vsts/work/1/s/qcodes/dataset/data_export.py:172: VisibleDeprecationWarning: Creating an ndarray from ragged nested sequences (which is a list-or-tuple of lists-or-tuples-or ndarrays with different lengths or shapes) is deprecated. If you meant to do this, you must specify 'dtype=object' when creating the ndarray\n",
      "  return np.array(rows)\n",
      "\n"
     ]
    },
    {
     "data": {
      "image/png": "[encoded data removed]",
      "text/plain": [
       "<Figure size 432x288 with 2 Axes>"
      ]
     },
     "metadata": {
      "needs_background": "light"
     },
     "output_type": "display_data"
    }
   ],
   "source": [
    "ax, cbax = plot_dataset(dataset)"
   ]
  },
  {
   "cell_type": "markdown",
   "metadata": {},
   "source": [
    "### Specifying shape of measurement\n",
    "As the context manager allows you to store data of any shape (with the only restriction being that you supply values for both dependent and independent parameters together), it cannot know if the data is being measured on a grid. As a consequence, the Numpy array of data loaded from the dataset may not be of the shape that you expect. `plot_dataset` and `DataSet.get_data_as_pandas_dataframe` contain logic that can detect the shape of the data measured at load time. However, if you know the shape of the measurement that you are going to perform up front, you can choose to specify it before initializing the measurement using ``Measurement.set_shapes`` method.\n",
    "\n",
    "`dataset.get_parameter_data` and `dataset.cache.data` automatically makes use of this information to return shaped data when loaded from the database. Note that these two methods behave slightly different when loading data on a partially completed dataset. `dataset.get_parameter_data` will only reshape the data if the number of points measured matches the number of points expected according to the metadata. `dataset.cache.data` will however return a dataset with empty placeholders (either NaN, zeros or empty strings depending on the datatypes) for missing values in a partially filled dataset. \n",
    "\n",
    "Note that if you use the doNd functions demonstrated in [Using doNd functions for performing measurements](Using_the_doNd_functions_for_running_experiments.ipynb) the shape information will be detected and stored automatically.\n",
    "\n",
    "In the example below we show how the shape can be specified manually.\n"
   ]
  },
  {
   "cell_type": "code",
   "execution_count": 30,
   "metadata": {
    "execution": {
     "iopub.execute_input": "2020-11-13T17:08:52.978564Z",
     "iopub.status.busy": "2020-11-13T17:08:52.976962Z",
     "iopub.status.idle": "2020-11-13T17:08:55.991029Z",
     "shell.execute_reply": "2020-11-13T17:08:55.991494Z"
    }
   },
   "outputs": [
    {
     "name": "stdout",
     "output_type": "stream",
     "text": [
      "Starting experimental run with id: 39. \n"
     ]
    }
   ],
   "source": [
    "n_points_1 = 100\n",
    "n_points_2 = 200\n",
    "\n",
    "meas_with_shape = Measurement(exp=exp)\n",
    "meas_with_shape.register_parameter(dac.ch1)  # register the first independent parameter\n",
    "meas_with_shape.register_parameter(dac.ch2)  # register the second independent parameter\n",
    "meas_with_shape.register_parameter(dmm.v2, setpoints=(dac.ch1, dac.ch2))  # now register the dependent oone\n",
    "\n",
    "meas_with_shape.set_shapes(detect_shape_of_measurement((dmm.v2,), (n_points_1, n_points_2)))\n",
    "\n",
    "with meas_with_shape.run() as datasaver:\n",
    "\n",
    "    for v1 in np.linspace(-1, 1, n_points_1):\n",
    "        for v2 in np.linspace(-1, 1, n_points_2):\n",
    "            dac.ch1(v1)\n",
    "            dac.ch2(v2)\n",
    "            val = dmm.v2.get()\n",
    "            datasaver.add_result((dac.ch1, v1),\n",
    "                                 (dac.ch2, v2),\n",
    "                                 (dmm.v2, val))\n",
    "            \n",
    "    dataset = datasaver.dataset  # convenient to have for plotting"
   ]
  },
  {
   "cell_type": "code",
   "execution_count": 31,
   "metadata": {
    "execution": {
     "iopub.execute_input": "2020-11-13T17:08:55.997721Z",
     "iopub.status.busy": "2020-11-13T17:08:55.996132Z",
     "iopub.status.idle": "2020-11-13T17:08:56.345761Z",
     "shell.execute_reply": "2020-11-13T17:08:56.346264Z"
    }
   },
   "outputs": [
    {
     "name": "stdout",
     "output_type": "stream",
     "text": [
      "dmm_v2: data.shape=(100, 200), expected_shape=(100,200)\n",
      "dac_ch1: data.shape=(100, 200), expected_shape=(100,200)\n",
      "dac_ch2: data.shape=(100, 200), expected_shape=(100,200)\n"
     ]
    }
   ],
   "source": [
    "for name, data in dataset.get_parameter_data()['dmm_v2'].items():\n",
    "    print(f\"{name}: data.shape={data.shape}, expected_shape=({n_points_1},{n_points_2})\")\n",
    "    assert data.shape == (n_points_1, n_points_2)"
   ]
  },
  {
   "cell_type": "markdown",
   "metadata": {},
   "source": [
    "## Performing several measuments concurrently"
   ]
  },
  {
   "cell_type": "markdown",
   "metadata": {},
   "source": [
    "It is possible to perform two or more measurements at the same time. This may be convenient if you need to measure several parameters as a function of the same independent parameters."
   ]
  },
  {
   "cell_type": "code",
   "execution_count": 32,
   "metadata": {
    "execution": {
     "iopub.execute_input": "2020-11-13T17:08:56.355481Z",
     "iopub.status.busy": "2020-11-13T17:08:56.354332Z",
     "iopub.status.idle": "2020-11-13T17:09:08.733161Z",
     "shell.execute_reply": "2020-11-13T17:09:08.732634Z"
    }
   },
   "outputs": [
    {
     "name": "stdout",
     "output_type": "stream",
     "text": [
      "Starting experimental run with id: 40. \n",
      "Starting experimental run with id: 41. \n"
     ]
    }
   ],
   "source": [
    "# setup two measurements\n",
    "meas1 = Measurement(exp=exp)\n",
    "meas1.register_parameter(dac.ch1)  \n",
    "meas1.register_parameter(dac.ch2)  \n",
    "meas1.register_parameter(dmm.v1, setpoints=(dac.ch1, dac.ch2))\n",
    "\n",
    "meas2 = Measurement(exp=exp)\n",
    "meas2.register_parameter(dac.ch1)  \n",
    "meas2.register_parameter(dac.ch2)\n",
    "meas2.register_parameter(dmm.v2, setpoints=(dac.ch1, dac.ch2))\n",
    "\n",
    "with meas1.run() as datasaver1, meas2.run() as datasaver2:\n",
    "\n",
    "    v1points = np.concatenate((np.linspace(-2, -0.5, 10),\n",
    "                               np.linspace(-0.51, 0.5, 200),\n",
    "                               np.linspace(0.51, 2, 10)))\n",
    "    v2points = np.concatenate((np.linspace(-2, -0.25, 10),\n",
    "                               np.linspace(-0.26, 0.5, 200),\n",
    "                               np.linspace(0.51, 2, 10)))\n",
    "    \n",
    "    for v1 in v1points:\n",
    "        for v2 in v2points:\n",
    "            dac.ch1(v1)\n",
    "            dac.ch2(v2)\n",
    "            val1 = dmm.v1.get()\n",
    "            datasaver1.add_result((dac.ch1, v1),\n",
    "                                 (dac.ch2, v2),\n",
    "                                 (dmm.v1, val1))\n",
    "            val2 = dmm.v2.get()\n",
    "            datasaver2.add_result((dac.ch1, v1),\n",
    "                                 (dac.ch2, v2),\n",
    "                                 (dmm.v2, val2))\n"
   ]
  },
  {
   "cell_type": "code",
   "execution_count": 33,
   "metadata": {
    "execution": {
     "iopub.execute_input": "2020-11-13T17:09:08.737614Z",
     "iopub.status.busy": "2020-11-13T17:09:08.736633Z",
     "iopub.status.idle": "2020-11-13T17:09:09.737318Z",
     "shell.execute_reply": "2020-11-13T17:09:09.736758Z"
    }
   },
   "outputs": [
    {
     "data": {
      "image/png": "[encoded data removed]",
      "text/plain": [
       "<Figure size 432x288 with 2 Axes>"
      ]
     },
     "metadata": {
      "needs_background": "light"
     },
     "output_type": "display_data"
    }
   ],
   "source": [
    "ax, cbax = plot_dataset(datasaver1.dataset)"
   ]
  },
  {
   "cell_type": "code",
   "execution_count": 34,
   "metadata": {
    "execution": {
     "iopub.execute_input": "2020-11-13T17:09:09.742792Z",
     "iopub.status.busy": "2020-11-13T17:09:09.742060Z",
     "iopub.status.idle": "2020-11-13T17:09:10.810377Z",
     "shell.execute_reply": "2020-11-13T17:09:10.810916Z"
    }
   },
   "outputs": [
    {
     "data": {
      "image/png": "[encoded data removed]",
      "text/plain": [
       "<Figure size 432x288 with 2 Axes>"
      ]
     },
     "metadata": {
      "needs_background": "light"
     },
     "output_type": "display_data"
    }
   ],
   "source": [
    "ax, cbax = plot_dataset(datasaver2.dataset)"
   ]
  },
  {
   "cell_type": "markdown",
   "metadata": {},
   "source": [
    "## Interrupting measurements early\n",
    "\n",
    "There may be cases where you do not want to complete a measurement. Currently QCoDeS is designed to allow the user\n",
    "to interrupt the measurements with a standard KeyBoardInterrupt. KeyBoardInterrupts can be raised with either a Ctrl-C keyboard shortcut or using the interrupt button in Juypter / Spyder which is typically in the form of a Square stop button. QCoDeS is designed such that KeyboardInterrupts are delayed around critical parts of the code and the measurement is stopped when its safe to do so. "
   ]
  },
  {
   "cell_type": "markdown",
   "metadata": {},
   "source": [
    "## Random sampling "
   ]
  },
  {
   "cell_type": "markdown",
   "metadata": {},
   "source": [
    "We may also chose to sample completely randomly across the phase space"
   ]
  },
  {
   "cell_type": "code",
   "execution_count": 35,
   "metadata": {
    "execution": {
     "iopub.execute_input": "2020-11-13T17:09:10.818679Z",
     "iopub.status.busy": "2020-11-13T17:09:10.817712Z",
     "iopub.status.idle": "2020-11-13T17:09:11.509546Z",
     "shell.execute_reply": "2020-11-13T17:09:11.508324Z"
    }
   },
   "outputs": [
    {
     "name": "stdout",
     "output_type": "stream",
     "text": [
      "Starting experimental run with id: 42. \n"
     ]
    }
   ],
   "source": [
    "meas2 = Measurement(exp=exp)\n",
    "meas2.register_parameter(dac.ch1)  \n",
    "meas2.register_parameter(dac.ch2)\n",
    "meas2.register_parameter(dmm.v2, setpoints=(dac.ch1, dac.ch2))\n",
    "\n",
    "threshold = 0.25\n",
    "\n",
    "npoints = 5000\n",
    "\n",
    "with meas.run() as datasaver:\n",
    "    for i in range(npoints):\n",
    "        x = 2*(np.random.rand()-.5)\n",
    "        y = 2*(np.random.rand()-.5)\n",
    "        dac.ch1(x)\n",
    "        dac.ch2(y)\n",
    "        z = dmm.v2()\n",
    "        datasaver.add_result((dac.ch1, x),\n",
    "                             (dac.ch2, y),\n",
    "                             (dmm.v2, z))\n",
    "dataset = datasaver.dataset  # convenient to have for plotting"
   ]
  },
  {
   "cell_type": "code",
   "execution_count": 36,
   "metadata": {
    "execution": {
     "iopub.execute_input": "2020-11-13T17:09:11.513872Z",
     "iopub.status.busy": "2020-11-13T17:09:11.513281Z",
     "iopub.status.idle": "2020-11-13T17:09:11.947397Z",
     "shell.execute_reply": "2020-11-13T17:09:11.946693Z"
    }
   },
   "outputs": [
    {
     "data": {
      "image/png": "[encoded data removed]",
      "text/plain": [
       "<Figure size 432x288 with 2 Axes>"
      ]
     },
     "metadata": {
      "needs_background": "light"
     },
     "output_type": "display_data"
    }
   ],
   "source": [
    "ax, cbax = plot_dataset(dataset)"
   ]
  },
  {
   "cell_type": "code",
   "execution_count": 37,
   "metadata": {
    "execution": {
     "iopub.execute_input": "2020-11-13T17:09:11.953114Z",
     "iopub.status.busy": "2020-11-13T17:09:11.951318Z",
     "iopub.status.idle": "2020-11-13T17:09:12.034891Z",
     "shell.execute_reply": "2020-11-13T17:09:12.034328Z"
    }
   },
   "outputs": [
    {
     "data": {
      "text/html": [
       "<div>\n",
       "<style scoped>\n",
       "    .dataframe tbody tr th:only-of-type {\n",
       "        vertical-align: middle;\n",
       "    }\n",
       "\n",
       "    .dataframe tbody tr th {\n",
       "        vertical-align: top;\n",
       "    }\n",
       "\n",
       "    .dataframe thead th {\n",
       "        text-align: right;\n",
       "    }\n",
       "</style>\n",
       "<table border=\"1\" class=\"dataframe\">\n",
       "  <thead>\n",
       "    <tr style=\"text-align: right;\">\n",
       "      <th></th>\n",
       "      <th></th>\n",
       "      <th>dmm_v2</th>\n",
       "    </tr>\n",
       "    <tr>\n",
       "      <th>dac_ch1</th>\n",
       "      <th>dac_ch2</th>\n",
       "      <th></th>\n",
       "    </tr>\n",
       "  </thead>\n",
       "  <tbody>\n",
       "    <tr>\n",
       "      <th>-0.081983</th>\n",
       "      <th>-0.945532</th>\n",
       "      <td>0.000129</td>\n",
       "    </tr>\n",
       "    <tr>\n",
       "      <th>0.985901</th>\n",
       "      <th>0.647416</th>\n",
       "      <td>0.001246</td>\n",
       "    </tr>\n",
       "    <tr>\n",
       "      <th>0.734815</th>\n",
       "      <th>-0.293622</th>\n",
       "      <td>0.005930</td>\n",
       "    </tr>\n",
       "    <tr>\n",
       "      <th>-0.235614</th>\n",
       "      <th>0.686149</th>\n",
       "      <td>0.069957</td>\n",
       "    </tr>\n",
       "    <tr>\n",
       "      <th>0.655255</th>\n",
       "      <th>0.158764</th>\n",
       "      <td>0.095051</td>\n",
       "    </tr>\n",
       "    <tr>\n",
       "      <th>0.394838</th>\n",
       "      <th>0.392186</th>\n",
       "      <td>0.420209</td>\n",
       "    </tr>\n",
       "    <tr>\n",
       "      <th>-0.706191</th>\n",
       "      <th>-0.741686</th>\n",
       "      <td>-0.000006</td>\n",
       "    </tr>\n",
       "    <tr>\n",
       "      <th>0.682993</th>\n",
       "      <th>0.013916</th>\n",
       "      <td>0.056362</td>\n",
       "    </tr>\n",
       "    <tr>\n",
       "      <th>-0.371492</th>\n",
       "      <th>-0.724072</th>\n",
       "      <td>-0.000106</td>\n",
       "    </tr>\n",
       "    <tr>\n",
       "      <th>0.293914</th>\n",
       "      <th>-0.296200</th>\n",
       "      <td>0.116727</td>\n",
       "    </tr>\n",
       "  </tbody>\n",
       "</table>\n",
       "</div>"
      ],
      "text/plain": [
       "                       dmm_v2\n",
       "dac_ch1   dac_ch2            \n",
       "-0.081983 -0.945532  0.000129\n",
       " 0.985901  0.647416  0.001246\n",
       " 0.734815 -0.293622  0.005930\n",
       "-0.235614  0.686149  0.069957\n",
       " 0.655255  0.158764  0.095051\n",
       " 0.394838  0.392186  0.420209\n",
       "-0.706191 -0.741686 -0.000006\n",
       " 0.682993  0.013916  0.056362\n",
       "-0.371492 -0.724072 -0.000106\n",
       " 0.293914 -0.296200  0.116727"
      ]
     },
     "execution_count": 1,
     "metadata": {},
     "output_type": "execute_result"
    }
   ],
   "source": [
    "datasaver.dataset.get_data_as_pandas_dataframe()['dmm_v2'][0:10]"
   ]
  },
  {
   "cell_type": "markdown",
   "metadata": {},
   "source": [
    "Unlike the data measured above, which lies on a grid, here, all the measured data points have an unique combination of the two dependent parameters. When exporting to XArray NaN's will therefore replace all the missing combinations of `dac_ch1` and `dac_ch2` and the data is unlikely to be useful in this format. "
   ]
  },
  {
   "cell_type": "code",
   "execution_count": 38,
   "metadata": {
    "execution": {
     "iopub.execute_input": "2020-11-13T17:09:12.038776Z",
     "iopub.status.busy": "2020-11-13T17:09:12.038159Z",
     "iopub.status.idle": "2020-11-13T17:09:12.041823Z",
     "shell.execute_reply": "2020-11-13T17:09:12.042334Z"
    }
   },
   "outputs": [],
   "source": [
    "#df_sliced = datasaver.dataset.get_data_as_pandas_dataframe()['dmm_v1'].sort_index()[0:10]\n",
    "#df_sliced.index = df_sliced.index.remove_unused_levels()\n",
    "#df_sliced.to_xarray()"
   ]
  },
  {
   "cell_type": "markdown",
   "metadata": {},
   "source": [
    "## Optimiser"
   ]
  },
  {
   "cell_type": "markdown",
   "metadata": {},
   "source": [
    "An example to show that the algorithm is flexible enough to be used with completely unstructured data such as the output of an downhill simplex optimization. The downhill simplex is somewhat more sensitive to noise and it is important that 'fatol' is set to match the expected noise."
   ]
  },
  {
   "cell_type": "code",
   "execution_count": 39,
   "metadata": {
    "execution": {
     "iopub.execute_input": "2020-11-13T17:09:12.046804Z",
     "iopub.status.busy": "2020-11-13T17:09:12.046178Z",
     "iopub.status.idle": "2020-11-13T17:09:12.135482Z",
     "shell.execute_reply": "2020-11-13T17:09:12.136450Z"
    }
   },
   "outputs": [],
   "source": [
    "from scipy.optimize import minimize"
   ]
  },
  {
   "cell_type": "code",
   "execution_count": 40,
   "metadata": {
    "execution": {
     "iopub.execute_input": "2020-11-13T17:09:12.140007Z",
     "iopub.status.busy": "2020-11-13T17:09:12.138939Z",
     "iopub.status.idle": "2020-11-13T17:09:12.196805Z",
     "shell.execute_reply": "2020-11-13T17:09:12.196245Z"
    }
   },
   "outputs": [
    {
     "name": "stdout",
     "output_type": "stream",
     "text": [
      "Starting experimental run with id: 43. \n"
     ]
    }
   ],
   "source": [
    "def set_and_measure(*xk):\n",
    "    dac.ch1(xk[0])\n",
    "    dac.ch2(xk[1])\n",
    "    return dmm.v2.get()\n",
    "noise = 0.0005\n",
    "x0 = [np.random.rand(), np.random.rand()]\n",
    "with meas.run() as datasaver:\n",
    "    def mycallback(xk):\n",
    "        dac.ch1(xk[0])\n",
    "        dac.ch2(xk[1])\n",
    "        datasaver.add_result((dac.ch1, xk[0]),\n",
    "                             (dac.ch2, xk[1]),\n",
    "                             (dmm.v2, dmm.v2.cache.get()))\n",
    "    \n",
    "    res = minimize(lambda x: -set_and_measure(*x), x0, method='Nelder-Mead', tol=1e-10, \n",
    "                   callback=mycallback, options={'fatol': noise})\n",
    "    \n",
    "    dataset = datasaver.dataset  # convenient to have for plotting"
   ]
  },
  {
   "cell_type": "code",
   "execution_count": 41,
   "metadata": {
    "execution": {
     "iopub.execute_input": "2020-11-13T17:09:12.201693Z",
     "iopub.status.busy": "2020-11-13T17:09:12.201099Z",
     "iopub.status.idle": "2020-11-13T17:09:12.206141Z",
     "shell.execute_reply": "2020-11-13T17:09:12.205661Z"
    }
   },
   "outputs": [
    {
     "data": {
      "text/plain": [
       " final_simplex: (array([[0.09584815, 0.20066397],\n",
       "       [0.09584815, 0.20066397],\n",
       "       [0.09584815, 0.20066397]]), array([-1.13390241, -1.13345462, -1.13343414]))\n",
       "           fun: -1.1339024056387876\n",
       "       message: 'Optimization terminated successfully.'\n",
       "          nfev: 202\n",
       "           nit: 87\n",
       "        status: 0\n",
       "       success: True\n",
       "             x: array([0.09584815, 0.20066397])"
      ]
     },
     "execution_count": 1,
     "metadata": {},
     "output_type": "execute_result"
    }
   ],
   "source": [
    "res"
   ]
  },
  {
   "cell_type": "code",
   "execution_count": 42,
   "metadata": {
    "execution": {
     "iopub.execute_input": "2020-11-13T17:09:12.209877Z",
     "iopub.status.busy": "2020-11-13T17:09:12.209315Z",
     "iopub.status.idle": "2020-11-13T17:09:12.462178Z",
     "shell.execute_reply": "2020-11-13T17:09:12.462941Z"
    }
   },
   "outputs": [
    {
     "name": "stderr",
     "output_type": "stream",
     "text": [
      "2020-11-13 17:09:12,233 ¦ py.warnings ¦ WARNING ¦ warnings ¦ _showwarnmsg ¦ 110 ¦ /home/vsts/work/1/s/qcodes/dataset/data_export.py:172: VisibleDeprecationWarning: Creating an ndarray from ragged nested sequences (which is a list-or-tuple of lists-or-tuples-or ndarrays with different lengths or shapes) is deprecated. If you meant to do this, you must specify 'dtype=object' when creating the ndarray\n",
      "  return np.array(rows)\n",
      "\n"
     ]
    },
    {
     "data": {
      "image/png": "[encoded data removed]",
      "text/plain": [
       "<Figure size 432x288 with 2 Axes>"
      ]
     },
     "metadata": {
      "needs_background": "light"
     },
     "output_type": "display_data"
    }
   ],
   "source": [
    "ax, cbax = plot_dataset(dataset)"
   ]
  },
  {
   "cell_type": "markdown",
   "metadata": {},
   "source": [
    "## Subscriptions\n",
    "\n",
    "The ``Measurement`` object can also handle subscriptions to the dataset. Subscriptions are, under the hood, triggers in the underlying SQLite database. Therefore, the subscribers are only called when data is written to the database (which happens every `write_period`).\n",
    "\n",
    "When making a subscription, two things must be supplied: a function and a mutable state object. The function **MUST** have a call signature of `f(result_list, length, state, **kwargs)`, where ``result_list`` is a list of tuples of parameter values inserted in the dataset, ``length`` is an integer (the step number of the run), and ``state`` is the mutable state object. The function does not need to actually use these arguments, but the call signature must match this.\n",
    "\n",
    "Let us consider two generic examples:"
   ]
  },
  {
   "cell_type": "markdown",
   "metadata": {},
   "source": [
    "### Subscription example 1: simple printing"
   ]
  },
  {
   "cell_type": "code",
   "execution_count": 43,
   "metadata": {
    "execution": {
     "iopub.execute_input": "2020-11-13T17:09:12.470707Z",
     "iopub.status.busy": "2020-11-13T17:09:12.469949Z",
     "iopub.status.idle": "2020-11-13T17:09:17.503319Z",
     "shell.execute_reply": "2020-11-13T17:09:17.502595Z"
    }
   },
   "outputs": [
    {
     "name": "stdout",
     "output_type": "stream",
     "text": [
      "Starting experimental run with id: 44. \n",
      "Added points to measurement, step 0.\n"
     ]
    },
    {
     "name": "stdout",
     "output_type": "stream",
     "text": [
      "Added points to measurement, step 1.\n"
     ]
    },
    {
     "name": "stdout",
     "output_type": "stream",
     "text": [
      "The run now holds 3 rows\n",
      "Added points to measurement, step 2.\n"
     ]
    },
    {
     "name": "stdout",
     "output_type": "stream",
     "text": [
      "Added points to measurement, step 3.\n"
     ]
    },
    {
     "name": "stdout",
     "output_type": "stream",
     "text": [
      "The run now holds 5 rows\n",
      "Added points to measurement, step 4.\n"
     ]
    },
    {
     "name": "stdout",
     "output_type": "stream",
     "text": [
      "Added points to measurement, step 5.\n"
     ]
    },
    {
     "name": "stdout",
     "output_type": "stream",
     "text": [
      "The run now holds 7 rows\n",
      "Added points to measurement, step 6.\n"
     ]
    },
    {
     "name": "stdout",
     "output_type": "stream",
     "text": [
      "Added points to measurement, step 7.\n"
     ]
    },
    {
     "name": "stdout",
     "output_type": "stream",
     "text": [
      "The run now holds 9 rows\n",
      "Added points to measurement, step 8.\n"
     ]
    },
    {
     "name": "stdout",
     "output_type": "stream",
     "text": [
      "Added points to measurement, step 9.\n"
     ]
    },
    {
     "name": "stdout",
     "output_type": "stream",
     "text": [
      "The run now holds 10 rows\n",
      "The run now holds 10 rows\n",
      "The run now holds 10 rows\n"
     ]
    }
   ],
   "source": [
    "\n",
    "\n",
    "def print_which_step(results_list, length, state):\n",
    "    \"\"\"\n",
    "    This subscriber does not use results_list nor state; it simply\n",
    "    prints how many results we have added to the database\n",
    "    \"\"\"\n",
    "    print(f'The run now holds {length} rows')\n",
    "    \n",
    "    \n",
    "meas = Measurement(exp=exp)\n",
    "meas.register_parameter(dac.ch1)\n",
    "meas.register_parameter(dmm.v1, setpoints=(dac.ch1,))\n",
    "\n",
    "meas.write_period = 1  # We write to the database every 1 second\n",
    "\n",
    "meas.add_subscriber(print_which_step, state=[])\n",
    "\n",
    "with meas.run() as datasaver:\n",
    "    for n in range(10):\n",
    "        datasaver.add_result((dac.ch1, n), (dmm.v1, n**2))\n",
    "        print(f'Added points to measurement, step {n}.')\n",
    "        sleep(0.5)"
   ]
  },
  {
   "cell_type": "markdown",
   "metadata": {},
   "source": [
    "### Subscription example 2: using the state\n",
    "\n",
    "We add two subscribers now."
   ]
  },
  {
   "cell_type": "code",
   "execution_count": 44,
   "metadata": {
    "execution": {
     "iopub.execute_input": "2020-11-13T17:09:17.509980Z",
     "iopub.status.busy": "2020-11-13T17:09:17.509143Z",
     "iopub.status.idle": "2020-11-13T17:09:22.548655Z",
     "shell.execute_reply": "2020-11-13T17:09:22.548004Z"
    }
   },
   "outputs": [
    {
     "name": "stdout",
     "output_type": "stream",
     "text": [
      "Starting experimental run with id: 45. \n",
      "Added points to measurement, step 0.\n",
      "First parameter value list: []\n"
     ]
    },
    {
     "name": "stdout",
     "output_type": "stream",
     "text": [
      "Added points to measurement, step 1.\n",
      "First parameter value list: []\n"
     ]
    },
    {
     "name": "stdout",
     "output_type": "stream",
     "text": [
      "The run now holds 1 rows\n",
      "Added points to measurement, step 2.\n",
      "First parameter value list: [0, 1, 2]\n"
     ]
    },
    {
     "name": "stdout",
     "output_type": "stream",
     "text": [
      "Added points to measurement, step 3.\n",
      "First parameter value list: [0, 1, 2]\n"
     ]
    },
    {
     "name": "stdout",
     "output_type": "stream",
     "text": [
      "The run now holds 5 rows\n",
      "Added points to measurement, step 4.\n",
      "First parameter value list: [0, 1, 2, 3, 4]\n"
     ]
    },
    {
     "name": "stdout",
     "output_type": "stream",
     "text": [
      "Added points to measurement, step 5.\n",
      "First parameter value list: [0, 1, 2, 3, 4]\n"
     ]
    },
    {
     "name": "stdout",
     "output_type": "stream",
     "text": [
      "The run now holds 7 rowsAdded points to measurement, step 6.\n",
      "\n",
      "First parameter value list: [0, 1, 2, 3, 4, 5, 6]\n"
     ]
    },
    {
     "name": "stdout",
     "output_type": "stream",
     "text": [
      "Added points to measurement, step 7.\n",
      "First parameter value list: [0, 1, 2, 3, 4, 5, 6]\n"
     ]
    },
    {
     "name": "stdout",
     "output_type": "stream",
     "text": [
      "The run now holds 9 rows\n",
      "Added points to measurement, step 8.\n",
      "First parameter value list: [0, 1, 2, 3, 4, 5, 6, 7, 8]\n"
     ]
    },
    {
     "name": "stdout",
     "output_type": "stream",
     "text": [
      "Added points to measurement, step 9.\n",
      "First parameter value list: [0, 1, 2, 3, 4, 5, 6, 7, 8]\n"
     ]
    },
    {
     "name": "stdout",
     "output_type": "stream",
     "text": [
      "The run now holds 10 rows\n",
      "The run now holds 10 rows\n",
      "The run now holds 10 rows\n"
     ]
    }
   ],
   "source": [
    "\n",
    "\n",
    "def get_list_of_first_param(results_list, lenght, state):\n",
    "    \"\"\"\n",
    "    Modify the state (a list) to hold all the values for\n",
    "    the first parameter\n",
    "    \"\"\"\n",
    "    param_vals = [parvals[0] for parvals in results_list]\n",
    "    state += param_vals\n",
    "    \n",
    "meas = Measurement(exp=exp)\n",
    "meas.register_parameter(dac.ch1)\n",
    "meas.register_parameter(dmm.v1, setpoints=(dac.ch1,))\n",
    "\n",
    "meas.write_period = 1  # We write to the database every 1 second\n",
    "\n",
    "first_param_list = []\n",
    "\n",
    "meas.add_subscriber(print_which_step, state=[])\n",
    "meas.add_subscriber(get_list_of_first_param, state=first_param_list)\n",
    "\n",
    "with meas.run() as datasaver:\n",
    "    for n in range(10):\n",
    "        datasaver.add_result((dac.ch1, n), (dmm.v1, n**2))\n",
    "        print(f'Added points to measurement, step {n}.')\n",
    "        print(f'First parameter value list: {first_param_list}')\n",
    "        sleep(0.5)"
   ]
  },
  {
   "cell_type": "markdown",
   "metadata": {},
   "source": [
    "## QCoDeS Array and MultiParameter"
   ]
  },
  {
   "cell_type": "markdown",
   "metadata": {},
   "source": [
    "The ``Measurement`` object supports automatic handling of ``Array`` and ``MultiParameters``. When registering these parameters \n",
    "the individual components are unpacked and added to the dataset as if they were separate parameters. Lets consider a ``MultiParamter`` with array components as the most general case.\n",
    "\n",
    "First lets use a dummy instrument that produces data as ``Array`` and ``MultiParameters``."
   ]
  },
  {
   "cell_type": "code",
   "execution_count": 45,
   "metadata": {
    "execution": {
     "iopub.execute_input": "2020-11-13T17:09:22.553276Z",
     "iopub.status.busy": "2020-11-13T17:09:22.552657Z",
     "iopub.status.idle": "2020-11-13T17:09:22.555405Z",
     "shell.execute_reply": "2020-11-13T17:09:22.554899Z"
    }
   },
   "outputs": [],
   "source": [
    "from qcodes.tests.instrument_mocks import DummyChannelInstrument"
   ]
  },
  {
   "cell_type": "code",
   "execution_count": 46,
   "metadata": {
    "execution": {
     "iopub.execute_input": "2020-11-13T17:09:22.575090Z",
     "iopub.status.busy": "2020-11-13T17:09:22.574414Z",
     "iopub.status.idle": "2020-11-13T17:09:22.578514Z",
     "shell.execute_reply": "2020-11-13T17:09:22.577917Z"
    }
   },
   "outputs": [],
   "source": [
    "mydummy = DummyChannelInstrument('MyDummy')"
   ]
  },
  {
   "cell_type": "markdown",
   "metadata": {},
   "source": [
    "This instrument produces two ``Array``s with the names, shapes and setpoints given below."
   ]
  },
  {
   "cell_type": "code",
   "execution_count": 47,
   "metadata": {
    "execution": {
     "iopub.execute_input": "2020-11-13T17:09:22.584119Z",
     "iopub.status.busy": "2020-11-13T17:09:22.583105Z",
     "iopub.status.idle": "2020-11-13T17:09:22.585971Z",
     "shell.execute_reply": "2020-11-13T17:09:22.586471Z"
    }
   },
   "outputs": [
    {
     "data": {
      "text/plain": [
       "('this', 'that')"
      ]
     },
     "execution_count": 1,
     "metadata": {},
     "output_type": "execute_result"
    }
   ],
   "source": [
    "mydummy.A.dummy_2d_multi_parameter.names"
   ]
  },
  {
   "cell_type": "code",
   "execution_count": 48,
   "metadata": {
    "execution": {
     "iopub.execute_input": "2020-11-13T17:09:22.592630Z",
     "iopub.status.busy": "2020-11-13T17:09:22.591542Z",
     "iopub.status.idle": "2020-11-13T17:09:22.594953Z",
     "shell.execute_reply": "2020-11-13T17:09:22.594417Z"
    }
   },
   "outputs": [
    {
     "data": {
      "text/plain": [
       "((5, 3), (5, 3))"
      ]
     },
     "execution_count": 1,
     "metadata": {},
     "output_type": "execute_result"
    }
   ],
   "source": [
    "mydummy.A.dummy_2d_multi_parameter.shapes"
   ]
  },
  {
   "cell_type": "code",
   "execution_count": 49,
   "metadata": {
    "execution": {
     "iopub.execute_input": "2020-11-13T17:09:22.600387Z",
     "iopub.status.busy": "2020-11-13T17:09:22.599358Z",
     "iopub.status.idle": "2020-11-13T17:09:22.602781Z",
     "shell.execute_reply": "2020-11-13T17:09:22.602275Z"
    }
   },
   "outputs": [
    {
     "data": {
      "text/plain": [
       "(('multi_2d_setpoint_param_this_setpoint',\n",
       "  'multi_2d_setpoint_param_that_setpoint'),\n",
       " ('multi_2d_setpoint_param_this_setpoint',\n",
       "  'multi_2d_setpoint_param_that_setpoint'))"
      ]
     },
     "execution_count": 1,
     "metadata": {},
     "output_type": "execute_result"
    }
   ],
   "source": [
    "mydummy.A.dummy_2d_multi_parameter.setpoint_names"
   ]
  },
  {
   "cell_type": "code",
   "execution_count": 50,
   "metadata": {
    "execution": {
     "iopub.execute_input": "2020-11-13T17:09:22.609170Z",
     "iopub.status.busy": "2020-11-13T17:09:22.606449Z",
     "iopub.status.idle": "2020-11-13T17:09:22.611341Z",
     "shell.execute_reply": "2020-11-13T17:09:22.611873Z"
    }
   },
   "outputs": [
    {
     "data": {
      "text/plain": [
       "{'MyDummy_ChanA_this': ParamSpecBase('MyDummy_ChanA_this', 'numeric', 'this label', 'this unit'),\n",
       " 'MyDummy_ChanA_multi_2d_setpoint_param_this_setpoint': ParamSpecBase('MyDummy_ChanA_multi_2d_setpoint_param_this_setpoint', 'numeric', 'this setpoint', 'this setpointunit'),\n",
       " 'MyDummy_ChanA_multi_2d_setpoint_param_that_setpoint': ParamSpecBase('MyDummy_ChanA_multi_2d_setpoint_param_that_setpoint', 'numeric', 'that setpoint', 'that setpointunit'),\n",
       " 'MyDummy_ChanA_that': ParamSpecBase('MyDummy_ChanA_that', 'numeric', 'that label', 'that unit')}"
      ]
     },
     "execution_count": 1,
     "metadata": {},
     "output_type": "execute_result"
    }
   ],
   "source": [
    "meas = Measurement(exp=exp)\n",
    "\n",
    "meas.register_parameter(mydummy.A.dummy_2d_multi_parameter)\n",
    "meas.parameters"
   ]
  },
  {
   "cell_type": "markdown",
   "metadata": {},
   "source": [
    "When adding the MultiParameter to the measurement we can see that we add each of the individual components as a \n",
    "separate parameter."
   ]
  },
  {
   "cell_type": "code",
   "execution_count": 51,
   "metadata": {
    "execution": {
     "iopub.execute_input": "2020-11-13T17:09:22.615981Z",
     "iopub.status.busy": "2020-11-13T17:09:22.615242Z",
     "iopub.status.idle": "2020-11-13T17:09:22.631830Z",
     "shell.execute_reply": "2020-11-13T17:09:22.632287Z"
    }
   },
   "outputs": [
    {
     "name": "stdout",
     "output_type": "stream",
     "text": [
      "Starting experimental run with id: 46. \n"
     ]
    }
   ],
   "source": [
    "with meas.run() as datasaver:\n",
    "    datasaver.add_result((mydummy.A.dummy_2d_multi_parameter, mydummy.A.dummy_2d_multi_parameter()))"
   ]
  },
  {
   "cell_type": "markdown",
   "metadata": {},
   "source": [
    "And when adding the result of a ``MultiParameter`` it is automatically unpacked into its components."
   ]
  },
  {
   "cell_type": "code",
   "execution_count": 52,
   "metadata": {
    "execution": {
     "iopub.execute_input": "2020-11-13T17:09:22.636253Z",
     "iopub.status.busy": "2020-11-13T17:09:22.635646Z",
     "iopub.status.idle": "2020-11-13T17:09:23.271629Z",
     "shell.execute_reply": "2020-11-13T17:09:23.271104Z"
    }
   },
   "outputs": [
    {
     "data": {
      "text/plain": [
       "([<AxesSubplot:title={'center':'Run #46, Experiment performing_meas_using_parameters_and_dataset (no sample)'}, xlabel='this setpoint (this setpointunit)', ylabel='that setpoint (that setpointunit)'>,\n",
       "  <AxesSubplot:title={'center':'Run #46, Experiment performing_meas_using_parameters_and_dataset (no sample)'}, xlabel='this setpoint (this setpointunit)', ylabel='that setpoint (that setpointunit)'>],\n",
       " [<matplotlib.colorbar.Colorbar at 0x7f659d5a7910>,\n",
       "  <matplotlib.colorbar.Colorbar at 0x7f659dc88b50>])"
      ]
     },
     "execution_count": 1,
     "metadata": {},
     "output_type": "execute_result"
    },
    {
     "data": {
      "image/png": "[encoded data removed]",
      "text/plain": [
       "<Figure size 432x288 with 2 Axes>"
      ]
     },
     "metadata": {
      "needs_background": "light"
     },
     "output_type": "display_data"
    },
    {
     "data": {
      "image/png": "[encoded data removed]",
      "text/plain": [
       "<Figure size 432x288 with 2 Axes>"
      ]
     },
     "metadata": {
      "needs_background": "light"
     },
     "output_type": "display_data"
    }
   ],
   "source": [
    "plot_dataset(datasaver.dataset)"
   ]
  },
  {
   "cell_type": "code",
   "execution_count": 53,
   "metadata": {
    "execution": {
     "iopub.execute_input": "2020-11-13T17:09:23.278712Z",
     "iopub.status.busy": "2020-11-13T17:09:23.275558Z",
     "iopub.status.idle": "2020-11-13T17:09:23.284175Z",
     "shell.execute_reply": "2020-11-13T17:09:23.283306Z"
    }
   },
   "outputs": [
    {
     "data": {
      "text/plain": [
       "{'MyDummy_ChanA_that': {'MyDummy_ChanA_that': array([1., 1., 1., 1., 1., 1., 1., 1., 1., 1., 1., 1., 1., 1., 1.]),\n",
       "  'MyDummy_ChanA_multi_2d_setpoint_param_this_setpoint': array([5., 5., 5., 6., 6., 6., 7., 7., 7., 8., 8., 8., 9., 9., 9.]),\n",
       "  'MyDummy_ChanA_multi_2d_setpoint_param_that_setpoint': array([ 9., 10., 11.,  9., 10., 11.,  9., 10., 11.,  9., 10., 11.,  9.,\n",
       "         10., 11.])}}"
      ]
     },
     "execution_count": 1,
     "metadata": {},
     "output_type": "execute_result"
    }
   ],
   "source": [
    "datasaver.dataset.get_parameter_data('MyDummy_ChanA_that')"
   ]
  },
  {
   "cell_type": "code",
   "execution_count": 54,
   "metadata": {
    "execution": {
     "iopub.execute_input": "2020-11-13T17:09:23.288722Z",
     "iopub.status.busy": "2020-11-13T17:09:23.287691Z",
     "iopub.status.idle": "2020-11-13T17:09:23.304199Z",
     "shell.execute_reply": "2020-11-13T17:09:23.304681Z"
    }
   },
   "outputs": [
    {
     "data": {
      "text/html": [
       "<div>\n",
       "<style scoped>\n",
       "    .dataframe tbody tr th:only-of-type {\n",
       "        vertical-align: middle;\n",
       "    }\n",
       "\n",
       "    .dataframe tbody tr th {\n",
       "        vertical-align: top;\n",
       "    }\n",
       "\n",
       "    .dataframe thead th {\n",
       "        text-align: right;\n",
       "    }\n",
       "</style>\n",
       "<table border=\"1\" class=\"dataframe\">\n",
       "  <thead>\n",
       "    <tr style=\"text-align: right;\">\n",
       "      <th></th>\n",
       "      <th></th>\n",
       "      <th>MyDummy_ChanA_that</th>\n",
       "    </tr>\n",
       "    <tr>\n",
       "      <th>MyDummy_ChanA_multi_2d_setpoint_param_this_setpoint</th>\n",
       "      <th>MyDummy_ChanA_multi_2d_setpoint_param_that_setpoint</th>\n",
       "      <th></th>\n",
       "    </tr>\n",
       "  </thead>\n",
       "  <tbody>\n",
       "    <tr>\n",
       "      <th rowspan=\"3\" valign=\"top\">5.0</th>\n",
       "      <th>9.0</th>\n",
       "      <td>1.0</td>\n",
       "    </tr>\n",
       "    <tr>\n",
       "      <th>10.0</th>\n",
       "      <td>1.0</td>\n",
       "    </tr>\n",
       "    <tr>\n",
       "      <th>11.0</th>\n",
       "      <td>1.0</td>\n",
       "    </tr>\n",
       "    <tr>\n",
       "      <th rowspan=\"3\" valign=\"top\">6.0</th>\n",
       "      <th>9.0</th>\n",
       "      <td>1.0</td>\n",
       "    </tr>\n",
       "    <tr>\n",
       "      <th>10.0</th>\n",
       "      <td>1.0</td>\n",
       "    </tr>\n",
       "    <tr>\n",
       "      <th>11.0</th>\n",
       "      <td>1.0</td>\n",
       "    </tr>\n",
       "    <tr>\n",
       "      <th rowspan=\"3\" valign=\"top\">7.0</th>\n",
       "      <th>9.0</th>\n",
       "      <td>1.0</td>\n",
       "    </tr>\n",
       "    <tr>\n",
       "      <th>10.0</th>\n",
       "      <td>1.0</td>\n",
       "    </tr>\n",
       "    <tr>\n",
       "      <th>11.0</th>\n",
       "      <td>1.0</td>\n",
       "    </tr>\n",
       "    <tr>\n",
       "      <th rowspan=\"3\" valign=\"top\">8.0</th>\n",
       "      <th>9.0</th>\n",
       "      <td>1.0</td>\n",
       "    </tr>\n",
       "    <tr>\n",
       "      <th>10.0</th>\n",
       "      <td>1.0</td>\n",
       "    </tr>\n",
       "    <tr>\n",
       "      <th>11.0</th>\n",
       "      <td>1.0</td>\n",
       "    </tr>\n",
       "    <tr>\n",
       "      <th rowspan=\"3\" valign=\"top\">9.0</th>\n",
       "      <th>9.0</th>\n",
       "      <td>1.0</td>\n",
       "    </tr>\n",
       "    <tr>\n",
       "      <th>10.0</th>\n",
       "      <td>1.0</td>\n",
       "    </tr>\n",
       "    <tr>\n",
       "      <th>11.0</th>\n",
       "      <td>1.0</td>\n",
       "    </tr>\n",
       "  </tbody>\n",
       "</table>\n",
       "</div>"
      ],
      "text/plain": [
       "                                                                                                       MyDummy_ChanA_that\n",
       "MyDummy_ChanA_multi_2d_setpoint_param_this_setp... MyDummy_ChanA_multi_2d_setpoint_param_that_setp...                    \n",
       "5.0                                                9.0                                                                1.0\n",
       "                                                   10.0                                                               1.0\n",
       "                                                   11.0                                                               1.0\n",
       "6.0                                                9.0                                                                1.0\n",
       "                                                   10.0                                                               1.0\n",
       "                                                   11.0                                                               1.0\n",
       "7.0                                                9.0                                                                1.0\n",
       "                                                   10.0                                                               1.0\n",
       "                                                   11.0                                                               1.0\n",
       "8.0                                                9.0                                                                1.0\n",
       "                                                   10.0                                                               1.0\n",
       "                                                   11.0                                                               1.0\n",
       "9.0                                                9.0                                                                1.0\n",
       "                                                   10.0                                                               1.0\n",
       "                                                   11.0                                                               1.0"
      ]
     },
     "execution_count": 1,
     "metadata": {},
     "output_type": "execute_result"
    }
   ],
   "source": [
    "datasaver.dataset.get_data_as_pandas_dataframe()['MyDummy_ChanA_that']"
   ]
  },
  {
   "cell_type": "code",
   "execution_count": 55,
   "metadata": {
    "execution": {
     "iopub.execute_input": "2020-11-13T17:09:23.308905Z",
     "iopub.status.busy": "2020-11-13T17:09:23.308259Z",
     "iopub.status.idle": "2020-11-13T17:09:23.330139Z",
     "shell.execute_reply": "2020-11-13T17:09:23.330629Z"
    }
   },
   "outputs": [
    {
     "data": {
      "text/html": [
       "<div><svg style=\"position: absolute; width: 0; height: 0; overflow: hidden\">\n",
       "<defs>\n",
       "<symbol id=\"icon-database\" viewBox=\"0 0 32 32\">\n",
       "<path d=\"M16 0c-8.837 0-16 2.239-16 5v4c0 2.761 7.163 5 16 5s16-2.239 16-5v-4c0-2.761-7.163-5-16-5z\"></path>\n",
       "<path d=\"M16 17c-8.837 0-16-2.239-16-5v6c0 2.761 7.163 5 16 5s16-2.239 16-5v-6c0 2.761-7.163 5-16 5z\"></path>\n",
       "<path d=\"M16 26c-8.837 0-16-2.239-16-5v6c0 2.761 7.163 5 16 5s16-2.239 16-5v-6c0 2.761-7.163 5-16 5z\"></path>\n",
       "</symbol>\n",
       "<symbol id=\"icon-file-text2\" viewBox=\"0 0 32 32\">\n",
       "<path d=\"M28.681 7.159c-0.694-0.947-1.662-2.053-2.724-3.116s-2.169-2.030-3.116-2.724c-1.612-1.182-2.393-1.319-2.841-1.319h-15.5c-1.378 0-2.5 1.121-2.5 2.5v27c0 1.378 1.122 2.5 2.5 2.5h23c1.378 0 2.5-1.122 2.5-2.5v-19.5c0-0.448-0.137-1.23-1.319-2.841zM24.543 5.457c0.959 0.959 1.712 1.825 2.268 2.543h-4.811v-4.811c0.718 0.556 1.584 1.309 2.543 2.268zM28 29.5c0 0.271-0.229 0.5-0.5 0.5h-23c-0.271 0-0.5-0.229-0.5-0.5v-27c0-0.271 0.229-0.5 0.5-0.5 0 0 15.499-0 15.5 0v7c0 0.552 0.448 1 1 1h7v19.5z\"></path>\n",
       "<path d=\"M23 26h-14c-0.552 0-1-0.448-1-1s0.448-1 1-1h14c0.552 0 1 0.448 1 1s-0.448 1-1 1z\"></path>\n",
       "<path d=\"M23 22h-14c-0.552 0-1-0.448-1-1s0.448-1 1-1h14c0.552 0 1 0.448 1 1s-0.448 1-1 1z\"></path>\n",
       "<path d=\"M23 18h-14c-0.552 0-1-0.448-1-1s0.448-1 1-1h14c0.552 0 1 0.448 1 1s-0.448 1-1 1z\"></path>\n",
       "</symbol>\n",
       "</defs>\n",
       "</svg>\n",
       "<style>/* CSS stylesheet for displaying xarray objects in jupyterlab.\n",
       " *\n",
       " */\n",
       "\n",
       ":root {\n",
       "  --xr-font-color0: var(--jp-content-font-color0, rgba(0, 0, 0, 1));\n",
       "  --xr-font-color2: var(--jp-content-font-color2, rgba(0, 0, 0, 0.54));\n",
       "  --xr-font-color3: var(--jp-content-font-color3, rgba(0, 0, 0, 0.38));\n",
       "  --xr-border-color: var(--jp-border-color2, #e0e0e0);\n",
       "  --xr-disabled-color: var(--jp-layout-color3, #bdbdbd);\n",
       "  --xr-background-color: var(--jp-layout-color0, white);\n",
       "  --xr-background-color-row-even: var(--jp-layout-color1, white);\n",
       "  --xr-background-color-row-odd: var(--jp-layout-color2, #eeeeee);\n",
       "}\n",
       "\n",
       "html[theme=dark],\n",
       "body.vscode-dark {\n",
       "  --xr-font-color0: rgba(255, 255, 255, 1);\n",
       "  --xr-font-color2: rgba(255, 255, 255, 0.54);\n",
       "  --xr-font-color3: rgba(255, 255, 255, 0.38);\n",
       "  --xr-border-color: #1F1F1F;\n",
       "  --xr-disabled-color: #515151;\n",
       "  --xr-background-color: #111111;\n",
       "  --xr-background-color-row-even: #111111;\n",
       "  --xr-background-color-row-odd: #313131;\n",
       "}\n",
       "\n",
       ".xr-wrap {\n",
       "  display: block;\n",
       "  min-width: 300px;\n",
       "  max-width: 700px;\n",
       "}\n",
       "\n",
       ".xr-text-repr-fallback {\n",
       "  /* fallback to plain text repr when CSS is not injected (untrusted notebook) */\n",
       "  display: none;\n",
       "}\n",
       "\n",
       ".xr-header {\n",
       "  padding-top: 6px;\n",
       "  padding-bottom: 6px;\n",
       "  margin-bottom: 4px;\n",
       "  border-bottom: solid 1px var(--xr-border-color);\n",
       "}\n",
       "\n",
       ".xr-header > div,\n",
       ".xr-header > ul {\n",
       "  display: inline;\n",
       "  margin-top: 0;\n",
       "  margin-bottom: 0;\n",
       "}\n",
       "\n",
       ".xr-obj-type,\n",
       ".xr-array-name {\n",
       "  margin-left: 2px;\n",
       "  margin-right: 10px;\n",
       "}\n",
       "\n",
       ".xr-obj-type {\n",
       "  color: var(--xr-font-color2);\n",
       "}\n",
       "\n",
       ".xr-sections {\n",
       "  padding-left: 0 !important;\n",
       "  display: grid;\n",
       "  grid-template-columns: 150px auto auto 1fr 20px 20px;\n",
       "}\n",
       "\n",
       ".xr-section-item {\n",
       "  display: contents;\n",
       "}\n",
       "\n",
       ".xr-section-item input {\n",
       "  display: none;\n",
       "}\n",
       "\n",
       ".xr-section-item input + label {\n",
       "  color: var(--xr-disabled-color);\n",
       "}\n",
       "\n",
       ".xr-section-item input:enabled + label {\n",
       "  cursor: pointer;\n",
       "  color: var(--xr-font-color2);\n",
       "}\n",
       "\n",
       ".xr-section-item input:enabled + label:hover {\n",
       "  color: var(--xr-font-color0);\n",
       "}\n",
       "\n",
       ".xr-section-summary {\n",
       "  grid-column: 1;\n",
       "  color: var(--xr-font-color2);\n",
       "  font-weight: 500;\n",
       "}\n",
       "\n",
       ".xr-section-summary > span {\n",
       "  display: inline-block;\n",
       "  padding-left: 0.5em;\n",
       "}\n",
       "\n",
       ".xr-section-summary-in:disabled + label {\n",
       "  color: var(--xr-font-color2);\n",
       "}\n",
       "\n",
       ".xr-section-summary-in + label:before {\n",
       "  display: inline-block;\n",
       "  content: '►';\n",
       "  font-size: 11px;\n",
       "  width: 15px;\n",
       "  text-align: center;\n",
       "}\n",
       "\n",
       ".xr-section-summary-in:disabled + label:before {\n",
       "  color: var(--xr-disabled-color);\n",
       "}\n",
       "\n",
       ".xr-section-summary-in:checked + label:before {\n",
       "  content: '▼';\n",
       "}\n",
       "\n",
       ".xr-section-summary-in:checked + label > span {\n",
       "  display: none;\n",
       "}\n",
       "\n",
       ".xr-section-summary,\n",
       ".xr-section-inline-details {\n",
       "  padding-top: 4px;\n",
       "  padding-bottom: 4px;\n",
       "}\n",
       "\n",
       ".xr-section-inline-details {\n",
       "  grid-column: 2 / -1;\n",
       "}\n",
       "\n",
       ".xr-section-details {\n",
       "  display: none;\n",
       "  grid-column: 1 / -1;\n",
       "  margin-bottom: 5px;\n",
       "}\n",
       "\n",
       ".xr-section-summary-in:checked ~ .xr-section-details {\n",
       "  display: contents;\n",
       "}\n",
       "\n",
       ".xr-array-wrap {\n",
       "  grid-column: 1 / -1;\n",
       "  display: grid;\n",
       "  grid-template-columns: 20px auto;\n",
       "}\n",
       "\n",
       ".xr-array-wrap > label {\n",
       "  grid-column: 1;\n",
       "  vertical-align: top;\n",
       "}\n",
       "\n",
       ".xr-preview {\n",
       "  color: var(--xr-font-color3);\n",
       "}\n",
       "\n",
       ".xr-array-preview,\n",
       ".xr-array-data {\n",
       "  padding: 0 5px !important;\n",
       "  grid-column: 2;\n",
       "}\n",
       "\n",
       ".xr-array-data,\n",
       ".xr-array-in:checked ~ .xr-array-preview {\n",
       "  display: none;\n",
       "}\n",
       "\n",
       ".xr-array-in:checked ~ .xr-array-data,\n",
       ".xr-array-preview {\n",
       "  display: inline-block;\n",
       "}\n",
       "\n",
       ".xr-dim-list {\n",
       "  display: inline-block !important;\n",
       "  list-style: none;\n",
       "  padding: 0 !important;\n",
       "  margin: 0;\n",
       "}\n",
       "\n",
       ".xr-dim-list li {\n",
       "  display: inline-block;\n",
       "  padding: 0;\n",
       "  margin: 0;\n",
       "}\n",
       "\n",
       ".xr-dim-list:before {\n",
       "  content: '(';\n",
       "}\n",
       "\n",
       ".xr-dim-list:after {\n",
       "  content: ')';\n",
       "}\n",
       "\n",
       ".xr-dim-list li:not(:last-child):after {\n",
       "  content: ',';\n",
       "  padding-right: 5px;\n",
       "}\n",
       "\n",
       ".xr-has-index {\n",
       "  font-weight: bold;\n",
       "}\n",
       "\n",
       ".xr-var-list,\n",
       ".xr-var-item {\n",
       "  display: contents;\n",
       "}\n",
       "\n",
       ".xr-var-item > div,\n",
       ".xr-var-item label,\n",
       ".xr-var-item > .xr-var-name span {\n",
       "  background-color: var(--xr-background-color-row-even);\n",
       "  margin-bottom: 0;\n",
       "}\n",
       "\n",
       ".xr-var-item > .xr-var-name:hover span {\n",
       "  padding-right: 5px;\n",
       "}\n",
       "\n",
       ".xr-var-list > li:nth-child(odd) > div,\n",
       ".xr-var-list > li:nth-child(odd) > label,\n",
       ".xr-var-list > li:nth-child(odd) > .xr-var-name span {\n",
       "  background-color: var(--xr-background-color-row-odd);\n",
       "}\n",
       "\n",
       ".xr-var-name {\n",
       "  grid-column: 1;\n",
       "}\n",
       "\n",
       ".xr-var-dims {\n",
       "  grid-column: 2;\n",
       "}\n",
       "\n",
       ".xr-var-dtype {\n",
       "  grid-column: 3;\n",
       "  text-align: right;\n",
       "  color: var(--xr-font-color2);\n",
       "}\n",
       "\n",
       ".xr-var-preview {\n",
       "  grid-column: 4;\n",
       "}\n",
       "\n",
       ".xr-var-name,\n",
       ".xr-var-dims,\n",
       ".xr-var-dtype,\n",
       ".xr-preview,\n",
       ".xr-attrs dt {\n",
       "  white-space: nowrap;\n",
       "  overflow: hidden;\n",
       "  text-overflow: ellipsis;\n",
       "  padding-right: 10px;\n",
       "}\n",
       "\n",
       ".xr-var-name:hover,\n",
       ".xr-var-dims:hover,\n",
       ".xr-var-dtype:hover,\n",
       ".xr-attrs dt:hover {\n",
       "  overflow: visible;\n",
       "  width: auto;\n",
       "  z-index: 1;\n",
       "}\n",
       "\n",
       ".xr-var-attrs,\n",
       ".xr-var-data {\n",
       "  display: none;\n",
       "  background-color: var(--xr-background-color) !important;\n",
       "  padding-bottom: 5px !important;\n",
       "}\n",
       "\n",
       ".xr-var-attrs-in:checked ~ .xr-var-attrs,\n",
       ".xr-var-data-in:checked ~ .xr-var-data {\n",
       "  display: block;\n",
       "}\n",
       "\n",
       ".xr-var-data > table {\n",
       "  float: right;\n",
       "}\n",
       "\n",
       ".xr-var-name span,\n",
       ".xr-var-data,\n",
       ".xr-attrs {\n",
       "  padding-left: 25px !important;\n",
       "}\n",
       "\n",
       ".xr-attrs,\n",
       ".xr-var-attrs,\n",
       ".xr-var-data {\n",
       "  grid-column: 1 / -1;\n",
       "}\n",
       "\n",
       "dl.xr-attrs {\n",
       "  padding: 0;\n",
       "  margin: 0;\n",
       "  display: grid;\n",
       "  grid-template-columns: 125px auto;\n",
       "}\n",
       "\n",
       ".xr-attrs dt, dd {\n",
       "  padding: 0;\n",
       "  margin: 0;\n",
       "  float: left;\n",
       "  padding-right: 10px;\n",
       "  width: auto;\n",
       "}\n",
       "\n",
       ".xr-attrs dt {\n",
       "  font-weight: normal;\n",
       "  grid-column: 1;\n",
       "}\n",
       "\n",
       ".xr-attrs dt:hover span {\n",
       "  display: inline-block;\n",
       "  background: var(--xr-background-color);\n",
       "  padding-right: 10px;\n",
       "}\n",
       "\n",
       ".xr-attrs dd {\n",
       "  grid-column: 2;\n",
       "  white-space: pre-wrap;\n",
       "  word-break: break-all;\n",
       "}\n",
       "\n",
       ".xr-icon-database,\n",
       ".xr-icon-file-text2 {\n",
       "  display: inline-block;\n",
       "  vertical-align: middle;\n",
       "  width: 1em;\n",
       "  height: 1.5em !important;\n",
       "  stroke-width: 0;\n",
       "  stroke: currentColor;\n",
       "  fill: currentColor;\n",
       "}\n",
       "</style><pre class='xr-text-repr-fallback'>&lt;xarray.Dataset&gt;\n",
       "Dimensions:                                              (MyDummy_ChanA_multi_2d_setpoint_param_that_setpoint: 3, MyDummy_ChanA_multi_2d_setpoint_param_this_setpoint: 5)\n",
       "Coordinates:\n",
       "  * MyDummy_ChanA_multi_2d_setpoint_param_this_setpoint  (MyDummy_ChanA_multi_2d_setpoint_param_this_setpoint) float64 ...\n",
       "  * MyDummy_ChanA_multi_2d_setpoint_param_that_setpoint  (MyDummy_ChanA_multi_2d_setpoint_param_that_setpoint) float64 ...\n",
       "Data variables:\n",
       "    MyDummy_ChanA_that                                   (MyDummy_ChanA_multi_2d_setpoint_param_this_setpoint, MyDummy_ChanA_multi_2d_setpoint_param_that_setpoint) float64 ...</pre><div class='xr-wrap' hidden><div class='xr-header'><div class='xr-obj-type'>xarray.Dataset</div></div><ul class='xr-sections'><li class='xr-section-item'><input id='section-69070519-4bf9-48e5-819b-bf429a9f2a4a' class='xr-section-summary-in' type='checkbox' disabled ><label for='section-69070519-4bf9-48e5-819b-bf429a9f2a4a' class='xr-section-summary'  title='Expand/collapse section'>Dimensions:</label><div class='xr-section-inline-details'><ul class='xr-dim-list'><li><span class='xr-has-index'>MyDummy_ChanA_multi_2d_setpoint_param_that_setpoint</span>: 3</li><li><span class='xr-has-index'>MyDummy_ChanA_multi_2d_setpoint_param_this_setpoint</span>: 5</li></ul></div><div class='xr-section-details'></div></li><li class='xr-section-item'><input id='section-d02afa96-a83f-45e6-ba94-179d11b4c7d1' class='xr-section-summary-in' type='checkbox'  checked><label for='section-d02afa96-a83f-45e6-ba94-179d11b4c7d1' class='xr-section-summary' >Coordinates: <span>(2)</span></label><div class='xr-section-inline-details'></div><div class='xr-section-details'><ul class='xr-var-list'><li class='xr-var-item'><div class='xr-var-name'><span class='xr-has-index'>MyDummy_ChanA_multi_2d_setpoint_param_this_setpoint</span></div><div class='xr-var-dims'>(MyDummy_ChanA_multi_2d_setpoint_param_this_setpoint)</div><div class='xr-var-dtype'>float64</div><div class='xr-var-preview xr-preview'>5.0 6.0 7.0 8.0 9.0</div><input id='attrs-a6b6a9f9-35c8-4f08-a60c-4efeaa349b26' class='xr-var-attrs-in' type='checkbox' disabled><label for='attrs-a6b6a9f9-35c8-4f08-a60c-4efeaa349b26' title='Show/Hide attributes'><svg class='icon xr-icon-file-text2'><use xlink:href='#icon-file-text2'></use></svg></label><input id='data-83201cb6-cfe2-41d8-bd38-d52878eb039f' class='xr-var-data-in' type='checkbox'><label for='data-83201cb6-cfe2-41d8-bd38-d52878eb039f' title='Show/Hide data repr'><svg class='icon xr-icon-database'><use xlink:href='#icon-database'></use></svg></label><div class='xr-var-attrs'><dl class='xr-attrs'></dl></div><div class='xr-var-data'><pre>array([5., 6., 7., 8., 9.])</pre></div></li><li class='xr-var-item'><div class='xr-var-name'><span class='xr-has-index'>MyDummy_ChanA_multi_2d_setpoint_param_that_setpoint</span></div><div class='xr-var-dims'>(MyDummy_ChanA_multi_2d_setpoint_param_that_setpoint)</div><div class='xr-var-dtype'>float64</div><div class='xr-var-preview xr-preview'>9.0 10.0 11.0</div><input id='attrs-8e47016b-2f81-44d9-bbe8-1110c47e9190' class='xr-var-attrs-in' type='checkbox' disabled><label for='attrs-8e47016b-2f81-44d9-bbe8-1110c47e9190' title='Show/Hide attributes'><svg class='icon xr-icon-file-text2'><use xlink:href='#icon-file-text2'></use></svg></label><input id='data-5576fcf9-d265-4f4b-ac93-d9a54520d81d' class='xr-var-data-in' type='checkbox'><label for='data-5576fcf9-d265-4f4b-ac93-d9a54520d81d' title='Show/Hide data repr'><svg class='icon xr-icon-database'><use xlink:href='#icon-database'></use></svg></label><div class='xr-var-attrs'><dl class='xr-attrs'></dl></div><div class='xr-var-data'><pre>array([ 9., 10., 11.])</pre></div></li></ul></div></li><li class='xr-section-item'><input id='section-13708aa2-a75a-4c37-b69a-abd9e98edbcf' class='xr-section-summary-in' type='checkbox'  checked><label for='section-13708aa2-a75a-4c37-b69a-abd9e98edbcf' class='xr-section-summary' >Data variables: <span>(1)</span></label><div class='xr-section-inline-details'></div><div class='xr-section-details'><ul class='xr-var-list'><li class='xr-var-item'><div class='xr-var-name'><span>MyDummy_ChanA_that</span></div><div class='xr-var-dims'>(MyDummy_ChanA_multi_2d_setpoint_param_this_setpoint, MyDummy_ChanA_multi_2d_setpoint_param_that_setpoint)</div><div class='xr-var-dtype'>float64</div><div class='xr-var-preview xr-preview'>1.0 1.0 1.0 1.0 ... 1.0 1.0 1.0 1.0</div><input id='attrs-c757106f-7924-4285-9cc7-f76782235d5c' class='xr-var-attrs-in' type='checkbox' disabled><label for='attrs-c757106f-7924-4285-9cc7-f76782235d5c' title='Show/Hide attributes'><svg class='icon xr-icon-file-text2'><use xlink:href='#icon-file-text2'></use></svg></label><input id='data-f3b5aaf9-16ea-41af-961e-8e47851da35b' class='xr-var-data-in' type='checkbox'><label for='data-f3b5aaf9-16ea-41af-961e-8e47851da35b' title='Show/Hide data repr'><svg class='icon xr-icon-database'><use xlink:href='#icon-database'></use></svg></label><div class='xr-var-attrs'><dl class='xr-attrs'></dl></div><div class='xr-var-data'><pre>array([[1., 1., 1.],\n",
       "       [1., 1., 1.],\n",
       "       [1., 1., 1.],\n",
       "       [1., 1., 1.],\n",
       "       [1., 1., 1.]])</pre></div></li></ul></div></li><li class='xr-section-item'><input id='section-f74ecee6-3533-42c3-94ba-60e153a77d70' class='xr-section-summary-in' type='checkbox' disabled ><label for='section-f74ecee6-3533-42c3-94ba-60e153a77d70' class='xr-section-summary'  title='Expand/collapse section'>Attributes: <span>(0)</span></label><div class='xr-section-inline-details'></div><div class='xr-section-details'><dl class='xr-attrs'></dl></div></li></ul></div></div>"
      ],
      "text/plain": [
       "<xarray.Dataset>\n",
       "Dimensions:                                              (MyDummy_ChanA_multi_2d_setpoint_param_that_setpoint: 3, MyDummy_ChanA_multi_2d_setpoint_param_this_setpoint: 5)\n",
       "Coordinates:\n",
       "  * MyDummy_ChanA_multi_2d_setpoint_param_this_setpoint  (MyDummy_ChanA_multi_2d_setpoint_param_this_setpoint) float64 ...\n",
       "  * MyDummy_ChanA_multi_2d_setpoint_param_that_setpoint  (MyDummy_ChanA_multi_2d_setpoint_param_that_setpoint) float64 ...\n",
       "Data variables:\n",
       "    MyDummy_ChanA_that                                   (MyDummy_ChanA_multi_2d_setpoint_param_this_setpoint, MyDummy_ChanA_multi_2d_setpoint_param_that_setpoint) float64 ..."
      ]
     },
     "execution_count": 1,
     "metadata": {},
     "output_type": "execute_result"
    }
   ],
   "source": [
    "datasaver.dataset.get_data_as_pandas_dataframe()['MyDummy_ChanA_that'].to_xarray()"
   ]
  },
  {
   "cell_type": "code",
   "execution_count": null,
   "metadata": {},
   "outputs": [],
   "source": []
  }
 ],
 "metadata": {
  "kernelspec": {
   "display_name": "Python 3",
   "language": "python",
   "name": "python3"
  },
  "language_info": {
   "codemirror_mode": {
    "name": "ipython",
    "version": 3
   },
   "file_extension": ".py",
   "mimetype": "text/x-python",
   "name": "python",
   "nbconvert_exporter": "python",
   "pygments_lexer": "ipython3",
   "version": "3.7.9"
  },
  "nbsphinx": {
   "timeout": 60
  },
  "toc": {
   "base_numbering": 1,
   "nav_menu": {},
   "number_sections": true,
   "sideBar": true,
   "skip_h1_title": false,
   "title_cell": "Table of Contents",
   "title_sidebar": "Contents",
   "toc_cell": false,
   "toc_position": {},
   "toc_section_display": true,
   "toc_window_display": false
  },
  "varInspector": {
   "cols": {
    "lenName": 16,
    "lenType": 16,
    "lenVar": 40
   },
   "kernels_config": {
    "python": {
     "delete_cmd_postfix": "",
     "delete_cmd_prefix": "del ",
     "library": "var_list.py",
     "varRefreshCmd": "print(var_dic_list())"
    },
    "r": {
     "delete_cmd_postfix": ") ",
     "delete_cmd_prefix": "rm(",
     "library": "var_list.r",
     "varRefreshCmd": "cat(var_dic_list()) "
    }
   },
   "types_to_exclude": [
    "module",
    "function",
    "builtin_function_or_method",
    "instance",
    "_Feature"
   ],
   "window_display": false
  }
 },
 "nbformat": 4,
 "nbformat_minor": 4
}
