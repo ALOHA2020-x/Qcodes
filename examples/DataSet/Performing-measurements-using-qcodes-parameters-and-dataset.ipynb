{
 "cells": [
  {
   "cell_type": "markdown",
   "metadata": {},
   "source": [
    "# Performing measurements using QCoDeS parameters and DataSet"
   ]
  },
  {
   "cell_type": "markdown",
   "metadata": {},
   "source": [
    "This notebook shows some ways of performing different measurements using \n",
    "QCoDeS parameters and the [DataSet](DataSet-class-walkthrough.ipynb) via a powerful ``Measurement`` context manager. Here, it is assumed that the reader has some degree of familiarity with fundamental objects and methods of QCoDeS.\n",
    "\n",
    "Users should note that, here, within the context of experiments, one cannot nest multiple managers to perform related or independent measurements. This is a particular consequence of how data is stored and managed.\n",
    "\n",
    "Now, let us start with necessary imports:"
   ]
  },
  {
   "cell_type": "code",
   "execution_count": 1,
   "metadata": {
    "execution": {
     "iopub.execute_input": "2020-09-21T16:11:29.128784Z",
     "iopub.status.busy": "2020-09-21T16:11:29.128175Z",
     "iopub.status.idle": "2020-09-21T16:11:31.134826Z",
     "shell.execute_reply": "2020-09-21T16:11:31.134296Z"
    }
   },
   "outputs": [
    {
     "name": "stdout",
     "output_type": "stream",
     "text": [
      "Logging hadn't been started.\n",
      "Activating auto-logging. Current session state plus future input saved.\n",
      "Filename       : /home/vsts/.qcodes/logs/command_history.log\n",
      "Mode           : append\n",
      "Output logging : True\n",
      "Raw input log  : False\n",
      "Timestamping   : True\n",
      "State          : active\n"
     ]
    },
    {
     "name": "stdout",
     "output_type": "stream",
     "text": [
      "Qcodes Logfile : /home/vsts/.qcodes/logs/200921-20912-qcodes.log\n",
      "Activating auto-logging. Current session state plus future input saved.\n",
      "Filename       : /home/vsts/.qcodes/logs/command_history.log\n",
      "Mode           : append\n",
      "Output logging : True\n",
      "Raw input log  : False\n",
      "Timestamping   : True\n",
      "State          : active\n"
     ]
    },
    {
     "name": "stdout",
     "output_type": "stream",
     "text": [
      "Qcodes Logfile : /home/vsts/.qcodes/logs/200921-20912-qcodes.log\n"
     ]
    }
   ],
   "source": [
    "%matplotlib inline\n",
    "import numpy.random as rd\n",
    "import matplotlib.pyplot as plt\n",
    "import numpy as np\n",
    "\n",
    "from time import sleep, monotonic\n",
    "\n",
    "import qcodes as qc\n",
    "from qcodes import Station, load_or_create_experiment, \\\n",
    "    initialise_database, Measurement, load_by_run_spec, load_by_guid\n",
    "from qcodes.tests.instrument_mocks import DummyInstrument\n",
    "from qcodes.dataset.plotting import plot_dataset\n",
    "\n",
    "qc.logger.start_all_logging()"
   ]
  },
  {
   "cell_type": "markdown",
   "metadata": {},
   "source": [
    "In what follows, we shall define some utility functions as well as declare our dummy instruments. We, then, add these instruments to a ``Station`` object. "
   ]
  },
  {
   "cell_type": "code",
   "execution_count": 2,
   "metadata": {
    "execution": {
     "iopub.execute_input": "2020-09-21T16:11:31.142291Z",
     "iopub.status.busy": "2020-09-21T16:11:31.141697Z",
     "iopub.status.idle": "2020-09-21T16:11:31.145392Z",
     "shell.execute_reply": "2020-09-21T16:11:31.145852Z"
    }
   },
   "outputs": [],
   "source": [
    "# preparatory mocking of physical setup\n",
    "\n",
    "dac = DummyInstrument('dac', gates=['ch1', 'ch2'])\n",
    "dmm = DummyInstrument('dmm', gates=['v1', 'v2'])\n",
    "\n",
    "station = qc.Station(dmm, dac)"
   ]
  },
  {
   "cell_type": "code",
   "execution_count": 3,
   "metadata": {
    "execution": {
     "iopub.execute_input": "2020-09-21T16:11:31.156115Z",
     "iopub.status.busy": "2020-09-21T16:11:31.154147Z",
     "iopub.status.idle": "2020-09-21T16:11:31.156682Z",
     "shell.execute_reply": "2020-09-21T16:11:31.158634Z"
    }
   },
   "outputs": [],
   "source": [
    "# dmm_parameter simulate a physical signal, in this case an exponentially\n",
    "# decaying signal \n",
    "\n",
    "class dmm_parameter(qc.Parameter):\n",
    "    def __init__(self, name):\n",
    "        super().__init__(name)\n",
    "        self.ed = self.exponential_decay(5, 0.2)\n",
    "        next(self.ed)\n",
    "\n",
    "    def get_raw(self):\n",
    "        \"\"\"\n",
    "        This method is automatically wrapped to\n",
    "        provide a ``get`` method on the parameter instance.\n",
    "        \"\"\"\n",
    "        val = self.ed.send(dac.ch1())\n",
    "        next(self.ed)\n",
    "        return val\n",
    "    \n",
    "    @staticmethod\n",
    "    def exponential_decay(a: float, b: float):\n",
    "        \"\"\"\n",
    "        Yields a*exp(-b*x) where x is put in\n",
    "        \"\"\"\n",
    "        x = 0\n",
    "        while True:\n",
    "            x = yield\n",
    "            yield a*np.exp(-b*x) + 0.02*a*np.random.randn()\n",
    "            \n",
    "    \n",
    "dmm.v1 = dmm_parameter('dmm_v1')"
   ]
  },
  {
   "cell_type": "code",
   "execution_count": 4,
   "metadata": {
    "execution": {
     "iopub.execute_input": "2020-09-21T16:11:31.164555Z",
     "iopub.status.busy": "2020-09-21T16:11:31.163506Z",
     "iopub.status.idle": "2020-09-21T16:11:31.168141Z",
     "shell.execute_reply": "2020-09-21T16:11:31.167223Z"
    }
   },
   "outputs": [],
   "source": [
    "# now make some silly set-up and tear-down actions\n",
    "\n",
    "def veryfirst():\n",
    "    print('Starting the measurement')\n",
    "\n",
    "def numbertwo(inst1, inst2):\n",
    "    print('Doing stuff with the following two instruments: {}, {}'.format(inst1, inst2))\n",
    "    \n",
    "def thelast():\n",
    "    print('End of experiment')"
   ]
  },
  {
   "cell_type": "markdown",
   "metadata": {},
   "source": [
    "**Database and experiments may be missing**\n",
    "\n",
    "If this is the first time you create a dataset, the underlying database file has\n",
    "most likely not been created. The following cell creates the database file. Please\n",
    "refer to documentation on [`The Experiment Container`](The-Experiment-Container.ipynb) for details.\n",
    "\n",
    "Furthermore, datasets are associated to an experiment. By default the run\n",
    "is appended to the latest existing experiments. If no experiment has been created,\n",
    "we must create one. We do that by calling the `load_or_create_experiment` function.\n",
    "\n",
    "Here we explicitly pass the loaded or created experiment to the `Measurement` object to ensure that we are always\n",
    "using the `performing_meas_using_parameters_and_dataset` `Experiment` created within this tutorial."
   ]
  },
  {
   "cell_type": "code",
   "execution_count": 5,
   "metadata": {
    "execution": {
     "iopub.execute_input": "2020-09-21T16:11:31.171893Z",
     "iopub.status.busy": "2020-09-21T16:11:31.171191Z",
     "iopub.status.idle": "2020-09-21T16:11:31.182649Z",
     "shell.execute_reply": "2020-09-21T16:11:31.183106Z"
    }
   },
   "outputs": [],
   "source": [
    "initialise_database()\n",
    "exp = load_or_create_experiment(experiment_name='performing_meas_using_parameters_and_dataset',\n",
    "                          sample_name=\"no sample\")"
   ]
  },
  {
   "cell_type": "code",
   "execution_count": 6,
   "metadata": {
    "execution": {
     "iopub.execute_input": "2020-09-21T16:11:31.192171Z",
     "iopub.status.busy": "2020-09-21T16:11:31.190736Z",
     "iopub.status.idle": "2020-09-21T16:11:31.219947Z",
     "shell.execute_reply": "2020-09-21T16:11:31.219457Z"
    }
   },
   "outputs": [
    {
     "name": "stdout",
     "output_type": "stream",
     "text": [
      "Starting the measurement\n",
      "Doing stuff with the following two instruments: <DummyInstrument: dmm>, <DummyInstrument: dac>\n",
      "Starting experimental run with id: 35. \n",
      "End of experiment\n"
     ]
    }
   ],
   "source": [
    "# And then run an experiment\n",
    "\n",
    "meas = Measurement(exp=exp)\n",
    "meas.register_parameter(dac.ch1)  # register the first independent parameter\n",
    "meas.register_parameter(dmm.v1, setpoints=(dac.ch1,))  # now register the dependent oone\n",
    "meas.add_before_run(veryfirst, ())  # add a set-up action\n",
    "meas.add_before_run(numbertwo, (dmm, dac))  # add another set-up action\n",
    "meas.add_after_run(thelast, ())  # add a tear-down action\n",
    "\n",
    "meas.write_period = 2\n",
    "\n",
    "\n",
    "with meas.run() as datasaver:\n",
    "             \n",
    "    for set_v in np.linspace(0, 25, 10):\n",
    "        dac.ch1.set(set_v)\n",
    "        get_v = dmm.v1.get()\n",
    "        datasaver.add_result((dac.ch1, set_v),\n",
    "                             (dmm.v1, get_v))\n",
    "    \n",
    "    dataset = datasaver.dataset  # convenient to have for plotting\n"
   ]
  },
  {
   "cell_type": "code",
   "execution_count": 7,
   "metadata": {
    "execution": {
     "iopub.execute_input": "2020-09-21T16:11:31.224220Z",
     "iopub.status.busy": "2020-09-21T16:11:31.223526Z",
     "iopub.status.idle": "2020-09-21T16:11:31.395575Z",
     "shell.execute_reply": "2020-09-21T16:11:31.395018Z"
    }
   },
   "outputs": [
    {
     "data": {
      "image/png": "[encoded data removed]",
      "text/plain": [
       "<Figure size 432x288 with 1 Axes>"
      ]
     },
     "metadata": {
      "needs_background": "light"
     },
     "output_type": "display_data"
    }
   ],
   "source": [
    "ax, cbax = plot_dataset(dataset)"
   ]
  },
  {
   "cell_type": "markdown",
   "metadata": {},
   "source": [
    "### Exporting data"
   ]
  },
  {
   "cell_type": "markdown",
   "metadata": {},
   "source": [
    "QCoDeS ``DataSet`` implements a number of methods for accessing the data of a given dataset. Here we will concentrate on the two most user friendly methods. For a more detailed walkthrough of the `DataSet` class, refer to [DataSet class walkthrough](DataSet-class-walkthrough.ipynb) notebook."
   ]
  },
  {
   "cell_type": "markdown",
   "metadata": {},
   "source": [
    "The method `get_parameter_data` returns the data as a dictionary of ``numpy`` arrays. The dictionary is indexed by the measured (dependent) parameter in the outermost level and the names of the dependent and independent parameters in the innermost level. The first parameter in the innermost level is always the dependent parameter."
   ]
  },
  {
   "cell_type": "code",
   "execution_count": 8,
   "metadata": {
    "execution": {
     "iopub.execute_input": "2020-09-21T16:11:31.400970Z",
     "iopub.status.busy": "2020-09-21T16:11:31.398702Z",
     "iopub.status.idle": "2020-09-21T16:11:31.405732Z",
     "shell.execute_reply": "2020-09-21T16:11:31.405225Z"
    }
   },
   "outputs": [
    {
     "data": {
      "text/plain": [
       "{'dmm_v1': {'dmm_v1': array([ 4.85706006,  2.95492298,  1.63431203,  0.87966583,  0.59954811,\n",
       "          0.28914134,  0.26486276, -0.01810564, -0.06248884, -0.11635353]),\n",
       "  'dac_ch1': array([ 0.        ,  2.77777778,  5.55555556,  8.33333333, 11.11111111,\n",
       "         13.88888889, 16.66666667, 19.44444444, 22.22222222, 25.        ])}}"
      ]
     },
     "execution_count": 1,
     "metadata": {},
     "output_type": "execute_result"
    }
   ],
   "source": [
    "datasaver.dataset.get_parameter_data()"
   ]
  },
  {
   "cell_type": "markdown",
   "metadata": {},
   "source": [
    "By default `get_parameter_data` returns all data stored in the dataset. The data that is specific to one or more measured parameters can be returned by passing the parameter name(s) or by using `ParamSpec` object:"
   ]
  },
  {
   "cell_type": "code",
   "execution_count": 9,
   "metadata": {
    "execution": {
     "iopub.execute_input": "2020-09-21T16:11:31.409539Z",
     "iopub.status.busy": "2020-09-21T16:11:31.408724Z",
     "iopub.status.idle": "2020-09-21T16:11:31.413847Z",
     "shell.execute_reply": "2020-09-21T16:11:31.414650Z"
    }
   },
   "outputs": [
    {
     "data": {
      "text/plain": [
       "{'dmm_v1': {'dmm_v1': array([ 4.85706006,  2.95492298,  1.63431203,  0.87966583,  0.59954811,\n",
       "          0.28914134,  0.26486276, -0.01810564, -0.06248884, -0.11635353]),\n",
       "  'dac_ch1': array([ 0.        ,  2.77777778,  5.55555556,  8.33333333, 11.11111111,\n",
       "         13.88888889, 16.66666667, 19.44444444, 22.22222222, 25.        ])}}"
      ]
     },
     "execution_count": 1,
     "metadata": {},
     "output_type": "execute_result"
    }
   ],
   "source": [
    "datasaver.dataset.get_parameter_data('dmm_v1')"
   ]
  },
  {
   "cell_type": "markdown",
   "metadata": {},
   "source": [
    "You can also simply fetch the data for one or more dependent parameter"
   ]
  },
  {
   "cell_type": "code",
   "execution_count": 10,
   "metadata": {
    "execution": {
     "iopub.execute_input": "2020-09-21T16:11:31.418689Z",
     "iopub.status.busy": "2020-09-21T16:11:31.417752Z",
     "iopub.status.idle": "2020-09-21T16:11:31.422444Z",
     "shell.execute_reply": "2020-09-21T16:11:31.422015Z"
    }
   },
   "outputs": [
    {
     "data": {
      "text/plain": [
       "{'dac_ch1': {'dac_ch1': array([ 0.        ,  2.77777778,  5.55555556,  8.33333333, 11.11111111,\n",
       "         13.88888889, 16.66666667, 19.44444444, 22.22222222, 25.        ])}}"
      ]
     },
     "execution_count": 1,
     "metadata": {},
     "output_type": "execute_result"
    }
   ],
   "source": [
    "datasaver.dataset.get_parameter_data('dac_ch1')"
   ]
  },
  {
   "cell_type": "markdown",
   "metadata": {},
   "source": [
    "For more details about accessing data of a given `DataSet`, see [Accessing data in DataSet notebook](Accessing-data-in-DataSet.ipynb)."
   ]
  },
  {
   "cell_type": "markdown",
   "metadata": {},
   "source": [
    "The data can also be exported as one or more [Pandas](https://pandas.pydata.org/) DataFrames. The DataFrames are returned as a dictionary from measured parameters to DataFrames."
   ]
  },
  {
   "cell_type": "code",
   "execution_count": 11,
   "metadata": {
    "execution": {
     "iopub.execute_input": "2020-09-21T16:11:31.425677Z",
     "iopub.status.busy": "2020-09-21T16:11:31.425121Z",
     "iopub.status.idle": "2020-09-21T16:11:31.609337Z",
     "shell.execute_reply": "2020-09-21T16:11:31.609998Z"
    }
   },
   "outputs": [
    {
     "data": {
      "text/html": [
       "<div>\n",
       "<style scoped>\n",
       "    .dataframe tbody tr th:only-of-type {\n",
       "        vertical-align: middle;\n",
       "    }\n",
       "\n",
       "    .dataframe tbody tr th {\n",
       "        vertical-align: top;\n",
       "    }\n",
       "\n",
       "    .dataframe thead th {\n",
       "        text-align: right;\n",
       "    }\n",
       "</style>\n",
       "<table border=\"1\" class=\"dataframe\">\n",
       "  <thead>\n",
       "    <tr style=\"text-align: right;\">\n",
       "      <th></th>\n",
       "      <th>dmm_v1</th>\n",
       "    </tr>\n",
       "    <tr>\n",
       "      <th>dac_ch1</th>\n",
       "      <th></th>\n",
       "    </tr>\n",
       "  </thead>\n",
       "  <tbody>\n",
       "    <tr>\n",
       "      <th>0.000000</th>\n",
       "      <td>4.857060</td>\n",
       "    </tr>\n",
       "    <tr>\n",
       "      <th>2.777778</th>\n",
       "      <td>2.954923</td>\n",
       "    </tr>\n",
       "    <tr>\n",
       "      <th>5.555556</th>\n",
       "      <td>1.634312</td>\n",
       "    </tr>\n",
       "    <tr>\n",
       "      <th>8.333333</th>\n",
       "      <td>0.879666</td>\n",
       "    </tr>\n",
       "    <tr>\n",
       "      <th>11.111111</th>\n",
       "      <td>0.599548</td>\n",
       "    </tr>\n",
       "    <tr>\n",
       "      <th>13.888889</th>\n",
       "      <td>0.289141</td>\n",
       "    </tr>\n",
       "    <tr>\n",
       "      <th>16.666667</th>\n",
       "      <td>0.264863</td>\n",
       "    </tr>\n",
       "    <tr>\n",
       "      <th>19.444444</th>\n",
       "      <td>-0.018106</td>\n",
       "    </tr>\n",
       "    <tr>\n",
       "      <th>22.222222</th>\n",
       "      <td>-0.062489</td>\n",
       "    </tr>\n",
       "    <tr>\n",
       "      <th>25.000000</th>\n",
       "      <td>-0.116354</td>\n",
       "    </tr>\n",
       "  </tbody>\n",
       "</table>\n",
       "</div>"
      ],
      "text/plain": [
       "             dmm_v1\n",
       "dac_ch1            \n",
       "0.000000   4.857060\n",
       "2.777778   2.954923\n",
       "5.555556   1.634312\n",
       "8.333333   0.879666\n",
       "11.111111  0.599548\n",
       "13.888889  0.289141\n",
       "16.666667  0.264863\n",
       "19.444444 -0.018106\n",
       "22.222222 -0.062489\n",
       "25.000000 -0.116354"
      ]
     },
     "execution_count": 1,
     "metadata": {},
     "output_type": "execute_result"
    }
   ],
   "source": [
    "datasaver.dataset.get_data_as_pandas_dataframe()['dmm_v1']"
   ]
  },
  {
   "cell_type": "markdown",
   "metadata": {},
   "source": [
    "For more details about using Pandas and XArray see [Working With Pandas and XArray](./Working-With-Pandas-and-XArray.ipynb)"
   ]
  },
  {
   "cell_type": "markdown",
   "metadata": {},
   "source": [
    "## Reloading datasets"
   ]
  },
  {
   "cell_type": "markdown",
   "metadata": {},
   "source": [
    "To load existing datasets QCoDeS provides several functions. The most useful and generic function is called `load_by_run_spec`. \n",
    "This function takes one or more pieces of information about a dataset and will either, if the dataset is uniquely identifiable by the information, load the dataset or print information about all the datasets that match the supplied information allowing you to provide more information to uniquely identify the dataset."
   ]
  },
  {
   "cell_type": "markdown",
   "metadata": {},
   "source": [
    "Here, we will load a dataset based on the `captured_run_id` printed on the plot above."
   ]
  },
  {
   "cell_type": "code",
   "execution_count": 12,
   "metadata": {
    "execution": {
     "iopub.execute_input": "2020-09-21T16:11:31.614135Z",
     "iopub.status.busy": "2020-09-21T16:11:31.613607Z",
     "iopub.status.idle": "2020-09-21T16:11:31.618088Z",
     "shell.execute_reply": "2020-09-21T16:11:31.617362Z"
    }
   },
   "outputs": [
    {
     "data": {
      "text/plain": [
       "35"
      ]
     },
     "execution_count": 1,
     "metadata": {},
     "output_type": "execute_result"
    }
   ],
   "source": [
    "datasaver.dataset.captured_run_id"
   ]
  },
  {
   "cell_type": "code",
   "execution_count": 13,
   "metadata": {
    "execution": {
     "iopub.execute_input": "2020-09-21T16:11:31.622114Z",
     "iopub.status.busy": "2020-09-21T16:11:31.621463Z",
     "iopub.status.idle": "2020-09-21T16:11:31.628252Z",
     "shell.execute_reply": "2020-09-21T16:11:31.627477Z"
    }
   },
   "outputs": [],
   "source": [
    "loaded_ds = load_by_run_spec(captured_run_id=datasaver.dataset.captured_run_id)"
   ]
  },
  {
   "cell_type": "code",
   "execution_count": 14,
   "metadata": {
    "execution": {
     "iopub.execute_input": "2020-09-21T16:11:31.631880Z",
     "iopub.status.busy": "2020-09-21T16:11:31.631333Z",
     "iopub.status.idle": "2020-09-21T16:11:31.641495Z",
     "shell.execute_reply": "2020-09-21T16:11:31.640062Z"
    }
   },
   "outputs": [
    {
     "data": {
      "text/plain": [
       "True"
      ]
     },
     "execution_count": 1,
     "metadata": {},
     "output_type": "execute_result"
    }
   ],
   "source": [
    "loaded_ds.the_same_dataset_as(datasaver.dataset)"
   ]
  },
  {
   "cell_type": "markdown",
   "metadata": {},
   "source": [
    "As long as you are working within one database file the dataset should be uniquely identified by `captured_run_id`. However, once you mix several datasets from different database files this is likely not unique. See the following section and [Extracting runs from one DB file to another](Extracting-runs-from-one-DB-file-to-another.ipynb) for more information on how to handle this."
   ]
  },
  {
   "cell_type": "markdown",
   "metadata": {},
   "source": [
    "### GUID"
   ]
  },
  {
   "cell_type": "markdown",
   "metadata": {},
   "source": [
    "Internally each dataset is refereed too by a Globally Unique Identifier (GUID) that ensures that the dataset uniquely identified even if datasets from several databases with potentially identical captured_run_id, experiment and sample names.\n",
    "A dataset can always be reloaded from the GUID if known. "
   ]
  },
  {
   "cell_type": "code",
   "execution_count": 15,
   "metadata": {
    "execution": {
     "iopub.execute_input": "2020-09-21T16:11:31.646119Z",
     "iopub.status.busy": "2020-09-21T16:11:31.645206Z",
     "iopub.status.idle": "2020-09-21T16:11:31.650597Z",
     "shell.execute_reply": "2020-09-21T16:11:31.650011Z"
    }
   },
   "outputs": [
    {
     "name": "stdout",
     "output_type": "stream",
     "text": [
      "Dataset GUID is: aaaaaaaa-0000-0000-0000-0174b16f3bf5\n"
     ]
    }
   ],
   "source": [
    "print(f\"Dataset GUID is: {datasaver.dataset.guid}\")"
   ]
  },
  {
   "cell_type": "code",
   "execution_count": 16,
   "metadata": {
    "execution": {
     "iopub.execute_input": "2020-09-21T16:11:31.654536Z",
     "iopub.status.busy": "2020-09-21T16:11:31.653826Z",
     "iopub.status.idle": "2020-09-21T16:11:31.661463Z",
     "shell.execute_reply": "2020-09-21T16:11:31.660430Z"
    }
   },
   "outputs": [],
   "source": [
    "loaded_ds = load_by_guid(datasaver.dataset.guid)"
   ]
  },
  {
   "cell_type": "code",
   "execution_count": 17,
   "metadata": {
    "execution": {
     "iopub.execute_input": "2020-09-21T16:11:31.667308Z",
     "iopub.status.busy": "2020-09-21T16:11:31.664645Z",
     "iopub.status.idle": "2020-09-21T16:11:31.675082Z",
     "shell.execute_reply": "2020-09-21T16:11:31.675795Z"
    }
   },
   "outputs": [
    {
     "data": {
      "text/plain": [
       "True"
      ]
     },
     "execution_count": 1,
     "metadata": {},
     "output_type": "execute_result"
    }
   ],
   "source": [
    "loaded_ds.the_same_dataset_as(datasaver.dataset)"
   ]
  },
  {
   "cell_type": "markdown",
   "metadata": {},
   "source": [
    "## The power of the new construct\n",
    "\n",
    "This new form is so free that we may easily do thing impossible with the old Loop construct"
   ]
  },
  {
   "cell_type": "code",
   "execution_count": 18,
   "metadata": {
    "execution": {
     "iopub.execute_input": "2020-09-21T16:11:31.683146Z",
     "iopub.status.busy": "2020-09-21T16:11:31.682486Z",
     "iopub.status.idle": "2020-09-21T16:11:31.706801Z",
     "shell.execute_reply": "2020-09-21T16:11:31.707377Z"
    }
   },
   "outputs": [
    {
     "name": "stdout",
     "output_type": "stream",
     "text": [
      "Starting the measurement\n",
      "Doing stuff with the following two instruments: <DummyInstrument: dmm>, <DummyInstrument: dac>\n",
      "Starting experimental run with id: 36. \n",
      "End of experiment\n"
     ]
    }
   ],
   "source": [
    "# from the above plot, we decide that a voltage below \n",
    "# 1 V is uninteresting, so we stop the sweep at that point\n",
    "# thus, we do not know in advance how many points we'll measure\n",
    "\n",
    "with meas.run() as datasaver:\n",
    "        \n",
    "    for set_v in np.linspace(0, 25, 100):\n",
    "        dac.ch1.set(set_v)\n",
    "        get_v = dmm.v1.get()        \n",
    "        datasaver.add_result((dac.ch1, set_v),\n",
    "                             (dmm.v1, get_v))\n",
    "\n",
    "        if get_v < 1:\n",
    "            break\n",
    "        \n",
    "    \n",
    "    dataset = datasaver.dataset  # convenient to have for plotting"
   ]
  },
  {
   "cell_type": "code",
   "execution_count": 19,
   "metadata": {
    "execution": {
     "iopub.execute_input": "2020-09-21T16:11:31.711811Z",
     "iopub.status.busy": "2020-09-21T16:11:31.711200Z",
     "iopub.status.idle": "2020-09-21T16:11:31.885963Z",
     "shell.execute_reply": "2020-09-21T16:11:31.885171Z"
    }
   },
   "outputs": [
    {
     "data": {
      "image/png": "[encoded data removed]",
      "text/plain": [
       "<Figure size 432x288 with 1 Axes>"
      ]
     },
     "metadata": {
      "needs_background": "light"
     },
     "output_type": "display_data"
    }
   ],
   "source": [
    "ax, cbax = plot_dataset(dataset)"
   ]
  },
  {
   "cell_type": "code",
   "execution_count": 20,
   "metadata": {
    "execution": {
     "iopub.execute_input": "2020-09-21T16:11:31.892547Z",
     "iopub.status.busy": "2020-09-21T16:11:31.891575Z",
     "iopub.status.idle": "2020-09-21T16:11:41.976126Z",
     "shell.execute_reply": "2020-09-21T16:11:41.977113Z"
    }
   },
   "outputs": [
    {
     "name": "stdout",
     "output_type": "stream",
     "text": [
      "Starting the measurement\n",
      "Doing stuff with the following two instruments: <DummyInstrument: dmm>, <DummyInstrument: dac>\n",
      "Starting experimental run with id: 37. \n"
     ]
    },
    {
     "name": "stdout",
     "output_type": "stream",
     "text": [
      "End of experiment\n"
     ]
    }
   ],
   "source": [
    "# Or we might want to simply get as many points as possible in 10 s\n",
    "# randomly sampling the region between 0 V and 10 V (for the setpoint axis)\n",
    "\n",
    "from time import monotonic, sleep\n",
    "\n",
    "with meas.run() as datasaver:\n",
    "    \n",
    "    t_start = monotonic()\n",
    "    \n",
    "    while monotonic() - t_start < 10:\n",
    "        set_v = 10/2*(np.random.rand() + 1)\n",
    "        dac.ch1.set(set_v)\n",
    "        \n",
    "        # some sleep to not get too many points (or to let the system settle)\n",
    "        sleep(0.1)\n",
    "        \n",
    "        get_v = dmm.v1.get()        \n",
    "        datasaver.add_result((dac.ch1, set_v),\n",
    "                             (dmm.v1, get_v))\n",
    "    \n",
    "    dataset = datasaver.dataset  # convenient to have for plotting"
   ]
  },
  {
   "cell_type": "code",
   "execution_count": 21,
   "metadata": {
    "execution": {
     "iopub.execute_input": "2020-09-21T16:11:41.983433Z",
     "iopub.status.busy": "2020-09-21T16:11:41.982560Z",
     "iopub.status.idle": "2020-09-21T16:11:42.164863Z",
     "shell.execute_reply": "2020-09-21T16:11:42.165564Z"
    }
   },
   "outputs": [
    {
     "data": {
      "image/png": "[encoded data removed]",
      "text/plain": [
       "<Figure size 432x288 with 1 Axes>"
      ]
     },
     "metadata": {
      "needs_background": "light"
     },
     "output_type": "display_data"
    }
   ],
   "source": [
    "axes, cbax = plot_dataset(dataset)\n",
    "# we slightly tweak the plot to better visualise the highly non-standard axis spacing\n",
    "axes[0].lines[0].set_marker('o')\n",
    "axes[0].lines[0].set_markerfacecolor((0.6, 0.6, 0.9))\n",
    "axes[0].lines[0].set_markeredgecolor((0.4, 0.6, 0.9))\n",
    "axes[0].lines[0].set_color((0.8, 0.8, 0.8))"
   ]
  },
  {
   "cell_type": "markdown",
   "metadata": {},
   "source": [
    "## Some 2D examples"
   ]
  },
  {
   "cell_type": "code",
   "execution_count": 22,
   "metadata": {
    "execution": {
     "iopub.execute_input": "2020-09-21T16:11:42.173208Z",
     "iopub.status.busy": "2020-09-21T16:11:42.170848Z",
     "iopub.status.idle": "2020-09-21T16:11:42.182303Z",
     "shell.execute_reply": "2020-09-21T16:11:42.181613Z"
    }
   },
   "outputs": [
    {
     "data": {
      "text/plain": [
       "<qcodes.dataset.measurements.Measurement at 0x7f0181170e90>"
      ]
     },
     "execution_count": 1,
     "metadata": {},
     "output_type": "execute_result"
    }
   ],
   "source": [
    "# For the 2D, we'll need a new batch of parameters, notably one with two \n",
    "# other parameters as setpoints. We therefore define a new Measurement\n",
    "# with new parameters\n",
    "\n",
    "meas = Measurement(exp=exp)\n",
    "meas.register_parameter(dac.ch1)  # register the first independent parameter\n",
    "meas.register_parameter(dac.ch2)  # register the second independent parameter\n",
    "meas.register_parameter(dmm.v1, setpoints=(dac.ch1, dac.ch2))  # now register the dependent oone"
   ]
  },
  {
   "cell_type": "code",
   "execution_count": 23,
   "metadata": {
    "execution": {
     "iopub.execute_input": "2020-09-21T16:11:42.193266Z",
     "iopub.status.busy": "2020-09-21T16:11:42.192496Z",
     "iopub.status.idle": "2020-09-21T16:11:42.195528Z",
     "shell.execute_reply": "2020-09-21T16:11:42.196386Z"
    }
   },
   "outputs": [],
   "source": [
    "# dmm_parameter simulate a physical signal, in this case an exponentially\n",
    "# decaying signal \n",
    "\n",
    "class dmm_gauss_parameter(qc.Parameter):\n",
    "    def __init__(self, name):\n",
    "        super().__init__(name)\n",
    "        self.gauss = self.gauss_model(0.1, 0.2, 0.25)\n",
    "        next(self.gauss)\n",
    "\n",
    "\n",
    "    def get_raw(self):\n",
    "        \"\"\"\n",
    "        This method is automatically wrapped to\n",
    "        provide a ``get`` method on the parameter instance.\n",
    "        \"\"\"\n",
    "        val = self.gauss.send((dac.ch1.get(), dac.ch2.get()))\n",
    "        next(self.gauss)\n",
    "        return val\n",
    "\n",
    "    @staticmethod\n",
    "    def gauss_model(x0: float, y0: float, sigma: float, noise: float=0.0005):\n",
    "        \"\"\"\n",
    "        Returns a generator sampling a gaussian. The gaussian is\n",
    "        normalised such that its maximal value is simply 1\n",
    "        \"\"\"\n",
    "        while True:\n",
    "            (x, y) = yield\n",
    "            model = np.exp(-((x0-x)**2+(y0-y)**2)/2/sigma**2)*np.exp(2*sigma**2)\n",
    "            noise = np.random.randn()*noise\n",
    "            yield model + noise\n",
    "\n",
    "    \n",
    "dmm.v1 = dmm_gauss_parameter('dmm_v1')"
   ]
  },
  {
   "cell_type": "code",
   "execution_count": 24,
   "metadata": {
    "execution": {
     "iopub.execute_input": "2020-09-21T16:11:42.202304Z",
     "iopub.status.busy": "2020-09-21T16:11:42.201378Z",
     "iopub.status.idle": "2020-09-21T16:11:47.922423Z",
     "shell.execute_reply": "2020-09-21T16:11:47.922855Z"
    }
   },
   "outputs": [
    {
     "name": "stdout",
     "output_type": "stream",
     "text": [
      "Starting experimental run with id: 38. \n"
     ]
    }
   ],
   "source": [
    "# run a 2D sweep\n",
    "\n",
    "with meas.run() as datasaver:\n",
    "\n",
    "    for v1 in np.linspace(-1, 1, 200):\n",
    "        for v2 in np.linspace(-1, 1, 200):\n",
    "            dac.ch1(v1)\n",
    "            dac.ch2(v2)\n",
    "            val = dmm.v1.get()\n",
    "            datasaver.add_result((dac.ch1, v1),\n",
    "                                 (dac.ch2, v2),\n",
    "                                 (dmm.v1, val))\n",
    "            \n",
    "    dataset = datasaver.dataset  # convenient to have for plotting"
   ]
  },
  {
   "cell_type": "markdown",
   "metadata": {},
   "source": [
    "When exporting a two or higher dimensional datasets as a Pandas DataFrame a [MultiIndex](https://pandas.pydata.org/pandas-docs/stable/user_guide/advanced.html) is used to index the measured parameter based on all the dependencies"
   ]
  },
  {
   "cell_type": "code",
   "execution_count": 25,
   "metadata": {
    "execution": {
     "iopub.execute_input": "2020-09-21T16:11:47.927506Z",
     "iopub.status.busy": "2020-09-21T16:11:47.926969Z",
     "iopub.status.idle": "2020-09-21T16:11:48.568585Z",
     "shell.execute_reply": "2020-09-21T16:11:48.568129Z"
    },
    "scrolled": true
   },
   "outputs": [
    {
     "data": {
      "text/html": [
       "<div>\n",
       "<style scoped>\n",
       "    .dataframe tbody tr th:only-of-type {\n",
       "        vertical-align: middle;\n",
       "    }\n",
       "\n",
       "    .dataframe tbody tr th {\n",
       "        vertical-align: top;\n",
       "    }\n",
       "\n",
       "    .dataframe thead th {\n",
       "        text-align: right;\n",
       "    }\n",
       "</style>\n",
       "<table border=\"1\" class=\"dataframe\">\n",
       "  <thead>\n",
       "    <tr style=\"text-align: right;\">\n",
       "      <th></th>\n",
       "      <th></th>\n",
       "      <th>dmm_v1</th>\n",
       "    </tr>\n",
       "    <tr>\n",
       "      <th>dac_ch1</th>\n",
       "      <th>dac_ch2</th>\n",
       "      <th></th>\n",
       "    </tr>\n",
       "  </thead>\n",
       "  <tbody>\n",
       "    <tr>\n",
       "      <th rowspan=\"10\" valign=\"top\">-1.0</th>\n",
       "      <th>-1.000000</th>\n",
       "      <td>-1.106888e-04</td>\n",
       "    </tr>\n",
       "    <tr>\n",
       "      <th>-0.989950</th>\n",
       "      <td>6.586116e-05</td>\n",
       "    </tr>\n",
       "    <tr>\n",
       "      <th>-0.979899</th>\n",
       "      <td>3.055047e-05</td>\n",
       "    </tr>\n",
       "    <tr>\n",
       "      <th>-0.969849</th>\n",
       "      <td>2.510554e-05</td>\n",
       "    </tr>\n",
       "    <tr>\n",
       "      <th>-0.959799</th>\n",
       "      <td>-1.561791e-05</td>\n",
       "    </tr>\n",
       "    <tr>\n",
       "      <th>-0.949749</th>\n",
       "      <td>-1.675685e-05</td>\n",
       "    </tr>\n",
       "    <tr>\n",
       "      <th>-0.939698</th>\n",
       "      <td>2.074980e-05</td>\n",
       "    </tr>\n",
       "    <tr>\n",
       "      <th>-0.929648</th>\n",
       "      <td>-1.419800e-05</td>\n",
       "    </tr>\n",
       "    <tr>\n",
       "      <th>-0.919598</th>\n",
       "      <td>8.864534e-07</td>\n",
       "    </tr>\n",
       "    <tr>\n",
       "      <th>-0.909548</th>\n",
       "      <td>-9.040339e-07</td>\n",
       "    </tr>\n",
       "  </tbody>\n",
       "</table>\n",
       "</div>"
      ],
      "text/plain": [
       "                         dmm_v1\n",
       "dac_ch1 dac_ch2                \n",
       "-1.0    -1.000000 -1.106888e-04\n",
       "        -0.989950  6.586116e-05\n",
       "        -0.979899  3.055047e-05\n",
       "        -0.969849  2.510554e-05\n",
       "        -0.959799 -1.561791e-05\n",
       "        -0.949749 -1.675685e-05\n",
       "        -0.939698  2.074980e-05\n",
       "        -0.929648 -1.419800e-05\n",
       "        -0.919598  8.864534e-07\n",
       "        -0.909548 -9.040339e-07"
      ]
     },
     "execution_count": 1,
     "metadata": {},
     "output_type": "execute_result"
    }
   ],
   "source": [
    "datasaver.dataset.get_data_as_pandas_dataframe()['dmm_v1'][0:10]"
   ]
  },
  {
   "cell_type": "markdown",
   "metadata": {},
   "source": [
    "If your data is on a regular grid it may make sense to view the data as an [XArray](https://pandas.pydata.org/pandas-docs/stable/user_guide/advanced.html) Dataset. The Pandas DataFrame can be directly exported to a XArray Dataset."
   ]
  },
  {
   "cell_type": "code",
   "execution_count": 26,
   "metadata": {
    "execution": {
     "iopub.execute_input": "2020-09-21T16:11:48.572933Z",
     "iopub.status.busy": "2020-09-21T16:11:48.572336Z",
     "iopub.status.idle": "2020-09-21T16:11:49.332400Z",
     "shell.execute_reply": "2020-09-21T16:11:49.333089Z"
    }
   },
   "outputs": [
    {
     "data": {
      "text/html": [
       "<div><svg style=\"position: absolute; width: 0; height: 0; overflow: hidden\">\n",
       "<defs>\n",
       "<symbol id=\"icon-database\" viewBox=\"0 0 32 32\">\n",
       "<path d=\"M16 0c-8.837 0-16 2.239-16 5v4c0 2.761 7.163 5 16 5s16-2.239 16-5v-4c0-2.761-7.163-5-16-5z\"></path>\n",
       "<path d=\"M16 17c-8.837 0-16-2.239-16-5v6c0 2.761 7.163 5 16 5s16-2.239 16-5v-6c0 2.761-7.163 5-16 5z\"></path>\n",
       "<path d=\"M16 26c-8.837 0-16-2.239-16-5v6c0 2.761 7.163 5 16 5s16-2.239 16-5v-6c0 2.761-7.163 5-16 5z\"></path>\n",
       "</symbol>\n",
       "<symbol id=\"icon-file-text2\" viewBox=\"0 0 32 32\">\n",
       "<path d=\"M28.681 7.159c-0.694-0.947-1.662-2.053-2.724-3.116s-2.169-2.030-3.116-2.724c-1.612-1.182-2.393-1.319-2.841-1.319h-15.5c-1.378 0-2.5 1.121-2.5 2.5v27c0 1.378 1.122 2.5 2.5 2.5h23c1.378 0 2.5-1.122 2.5-2.5v-19.5c0-0.448-0.137-1.23-1.319-2.841zM24.543 5.457c0.959 0.959 1.712 1.825 2.268 2.543h-4.811v-4.811c0.718 0.556 1.584 1.309 2.543 2.268zM28 29.5c0 0.271-0.229 0.5-0.5 0.5h-23c-0.271 0-0.5-0.229-0.5-0.5v-27c0-0.271 0.229-0.5 0.5-0.5 0 0 15.499-0 15.5 0v7c0 0.552 0.448 1 1 1h7v19.5z\"></path>\n",
       "<path d=\"M23 26h-14c-0.552 0-1-0.448-1-1s0.448-1 1-1h14c0.552 0 1 0.448 1 1s-0.448 1-1 1z\"></path>\n",
       "<path d=\"M23 22h-14c-0.552 0-1-0.448-1-1s0.448-1 1-1h14c0.552 0 1 0.448 1 1s-0.448 1-1 1z\"></path>\n",
       "<path d=\"M23 18h-14c-0.552 0-1-0.448-1-1s0.448-1 1-1h14c0.552 0 1 0.448 1 1s-0.448 1-1 1z\"></path>\n",
       "</symbol>\n",
       "</defs>\n",
       "</svg>\n",
       "<style>/* CSS stylesheet for displaying xarray objects in jupyterlab.\n",
       " *\n",
       " */\n",
       "\n",
       ":root {\n",
       "  --xr-font-color0: var(--jp-content-font-color0, rgba(0, 0, 0, 1));\n",
       "  --xr-font-color2: var(--jp-content-font-color2, rgba(0, 0, 0, 0.54));\n",
       "  --xr-font-color3: var(--jp-content-font-color3, rgba(0, 0, 0, 0.38));\n",
       "  --xr-border-color: var(--jp-border-color2, #e0e0e0);\n",
       "  --xr-disabled-color: var(--jp-layout-color3, #bdbdbd);\n",
       "  --xr-background-color: var(--jp-layout-color0, white);\n",
       "  --xr-background-color-row-even: var(--jp-layout-color1, white);\n",
       "  --xr-background-color-row-odd: var(--jp-layout-color2, #eeeeee);\n",
       "}\n",
       "\n",
       "html[theme=dark],\n",
       "body.vscode-dark {\n",
       "  --xr-font-color0: rgba(255, 255, 255, 1);\n",
       "  --xr-font-color2: rgba(255, 255, 255, 0.54);\n",
       "  --xr-font-color3: rgba(255, 255, 255, 0.38);\n",
       "  --xr-border-color: #1F1F1F;\n",
       "  --xr-disabled-color: #515151;\n",
       "  --xr-background-color: #111111;\n",
       "  --xr-background-color-row-even: #111111;\n",
       "  --xr-background-color-row-odd: #313131;\n",
       "}\n",
       "\n",
       ".xr-wrap {\n",
       "  display: block;\n",
       "  min-width: 300px;\n",
       "  max-width: 700px;\n",
       "}\n",
       "\n",
       ".xr-text-repr-fallback {\n",
       "  /* fallback to plain text repr when CSS is not injected (untrusted notebook) */\n",
       "  display: none;\n",
       "}\n",
       "\n",
       ".xr-header {\n",
       "  padding-top: 6px;\n",
       "  padding-bottom: 6px;\n",
       "  margin-bottom: 4px;\n",
       "  border-bottom: solid 1px var(--xr-border-color);\n",
       "}\n",
       "\n",
       ".xr-header > div,\n",
       ".xr-header > ul {\n",
       "  display: inline;\n",
       "  margin-top: 0;\n",
       "  margin-bottom: 0;\n",
       "}\n",
       "\n",
       ".xr-obj-type,\n",
       ".xr-array-name {\n",
       "  margin-left: 2px;\n",
       "  margin-right: 10px;\n",
       "}\n",
       "\n",
       ".xr-obj-type {\n",
       "  color: var(--xr-font-color2);\n",
       "}\n",
       "\n",
       ".xr-sections {\n",
       "  padding-left: 0 !important;\n",
       "  display: grid;\n",
       "  grid-template-columns: 150px auto auto 1fr 20px 20px;\n",
       "}\n",
       "\n",
       ".xr-section-item {\n",
       "  display: contents;\n",
       "}\n",
       "\n",
       ".xr-section-item input {\n",
       "  display: none;\n",
       "}\n",
       "\n",
       ".xr-section-item input + label {\n",
       "  color: var(--xr-disabled-color);\n",
       "}\n",
       "\n",
       ".xr-section-item input:enabled + label {\n",
       "  cursor: pointer;\n",
       "  color: var(--xr-font-color2);\n",
       "}\n",
       "\n",
       ".xr-section-item input:enabled + label:hover {\n",
       "  color: var(--xr-font-color0);\n",
       "}\n",
       "\n",
       ".xr-section-summary {\n",
       "  grid-column: 1;\n",
       "  color: var(--xr-font-color2);\n",
       "  font-weight: 500;\n",
       "}\n",
       "\n",
       ".xr-section-summary > span {\n",
       "  display: inline-block;\n",
       "  padding-left: 0.5em;\n",
       "}\n",
       "\n",
       ".xr-section-summary-in:disabled + label {\n",
       "  color: var(--xr-font-color2);\n",
       "}\n",
       "\n",
       ".xr-section-summary-in + label:before {\n",
       "  display: inline-block;\n",
       "  content: '►';\n",
       "  font-size: 11px;\n",
       "  width: 15px;\n",
       "  text-align: center;\n",
       "}\n",
       "\n",
       ".xr-section-summary-in:disabled + label:before {\n",
       "  color: var(--xr-disabled-color);\n",
       "}\n",
       "\n",
       ".xr-section-summary-in:checked + label:before {\n",
       "  content: '▼';\n",
       "}\n",
       "\n",
       ".xr-section-summary-in:checked + label > span {\n",
       "  display: none;\n",
       "}\n",
       "\n",
       ".xr-section-summary,\n",
       ".xr-section-inline-details {\n",
       "  padding-top: 4px;\n",
       "  padding-bottom: 4px;\n",
       "}\n",
       "\n",
       ".xr-section-inline-details {\n",
       "  grid-column: 2 / -1;\n",
       "}\n",
       "\n",
       ".xr-section-details {\n",
       "  display: none;\n",
       "  grid-column: 1 / -1;\n",
       "  margin-bottom: 5px;\n",
       "}\n",
       "\n",
       ".xr-section-summary-in:checked ~ .xr-section-details {\n",
       "  display: contents;\n",
       "}\n",
       "\n",
       ".xr-array-wrap {\n",
       "  grid-column: 1 / -1;\n",
       "  display: grid;\n",
       "  grid-template-columns: 20px auto;\n",
       "}\n",
       "\n",
       ".xr-array-wrap > label {\n",
       "  grid-column: 1;\n",
       "  vertical-align: top;\n",
       "}\n",
       "\n",
       ".xr-preview {\n",
       "  color: var(--xr-font-color3);\n",
       "}\n",
       "\n",
       ".xr-array-preview,\n",
       ".xr-array-data {\n",
       "  padding: 0 5px !important;\n",
       "  grid-column: 2;\n",
       "}\n",
       "\n",
       ".xr-array-data,\n",
       ".xr-array-in:checked ~ .xr-array-preview {\n",
       "  display: none;\n",
       "}\n",
       "\n",
       ".xr-array-in:checked ~ .xr-array-data,\n",
       ".xr-array-preview {\n",
       "  display: inline-block;\n",
       "}\n",
       "\n",
       ".xr-dim-list {\n",
       "  display: inline-block !important;\n",
       "  list-style: none;\n",
       "  padding: 0 !important;\n",
       "  margin: 0;\n",
       "}\n",
       "\n",
       ".xr-dim-list li {\n",
       "  display: inline-block;\n",
       "  padding: 0;\n",
       "  margin: 0;\n",
       "}\n",
       "\n",
       ".xr-dim-list:before {\n",
       "  content: '(';\n",
       "}\n",
       "\n",
       ".xr-dim-list:after {\n",
       "  content: ')';\n",
       "}\n",
       "\n",
       ".xr-dim-list li:not(:last-child):after {\n",
       "  content: ',';\n",
       "  padding-right: 5px;\n",
       "}\n",
       "\n",
       ".xr-has-index {\n",
       "  font-weight: bold;\n",
       "}\n",
       "\n",
       ".xr-var-list,\n",
       ".xr-var-item {\n",
       "  display: contents;\n",
       "}\n",
       "\n",
       ".xr-var-item > div,\n",
       ".xr-var-item label,\n",
       ".xr-var-item > .xr-var-name span {\n",
       "  background-color: var(--xr-background-color-row-even);\n",
       "  margin-bottom: 0;\n",
       "}\n",
       "\n",
       ".xr-var-item > .xr-var-name:hover span {\n",
       "  padding-right: 5px;\n",
       "}\n",
       "\n",
       ".xr-var-list > li:nth-child(odd) > div,\n",
       ".xr-var-list > li:nth-child(odd) > label,\n",
       ".xr-var-list > li:nth-child(odd) > .xr-var-name span {\n",
       "  background-color: var(--xr-background-color-row-odd);\n",
       "}\n",
       "\n",
       ".xr-var-name {\n",
       "  grid-column: 1;\n",
       "}\n",
       "\n",
       ".xr-var-dims {\n",
       "  grid-column: 2;\n",
       "}\n",
       "\n",
       ".xr-var-dtype {\n",
       "  grid-column: 3;\n",
       "  text-align: right;\n",
       "  color: var(--xr-font-color2);\n",
       "}\n",
       "\n",
       ".xr-var-preview {\n",
       "  grid-column: 4;\n",
       "}\n",
       "\n",
       ".xr-var-name,\n",
       ".xr-var-dims,\n",
       ".xr-var-dtype,\n",
       ".xr-preview,\n",
       ".xr-attrs dt {\n",
       "  white-space: nowrap;\n",
       "  overflow: hidden;\n",
       "  text-overflow: ellipsis;\n",
       "  padding-right: 10px;\n",
       "}\n",
       "\n",
       ".xr-var-name:hover,\n",
       ".xr-var-dims:hover,\n",
       ".xr-var-dtype:hover,\n",
       ".xr-attrs dt:hover {\n",
       "  overflow: visible;\n",
       "  width: auto;\n",
       "  z-index: 1;\n",
       "}\n",
       "\n",
       ".xr-var-attrs,\n",
       ".xr-var-data {\n",
       "  display: none;\n",
       "  background-color: var(--xr-background-color) !important;\n",
       "  padding-bottom: 5px !important;\n",
       "}\n",
       "\n",
       ".xr-var-attrs-in:checked ~ .xr-var-attrs,\n",
       ".xr-var-data-in:checked ~ .xr-var-data {\n",
       "  display: block;\n",
       "}\n",
       "\n",
       ".xr-var-data > table {\n",
       "  float: right;\n",
       "}\n",
       "\n",
       ".xr-var-name span,\n",
       ".xr-var-data,\n",
       ".xr-attrs {\n",
       "  padding-left: 25px !important;\n",
       "}\n",
       "\n",
       ".xr-attrs,\n",
       ".xr-var-attrs,\n",
       ".xr-var-data {\n",
       "  grid-column: 1 / -1;\n",
       "}\n",
       "\n",
       "dl.xr-attrs {\n",
       "  padding: 0;\n",
       "  margin: 0;\n",
       "  display: grid;\n",
       "  grid-template-columns: 125px auto;\n",
       "}\n",
       "\n",
       ".xr-attrs dt, dd {\n",
       "  padding: 0;\n",
       "  margin: 0;\n",
       "  float: left;\n",
       "  padding-right: 10px;\n",
       "  width: auto;\n",
       "}\n",
       "\n",
       ".xr-attrs dt {\n",
       "  font-weight: normal;\n",
       "  grid-column: 1;\n",
       "}\n",
       "\n",
       ".xr-attrs dt:hover span {\n",
       "  display: inline-block;\n",
       "  background: var(--xr-background-color);\n",
       "  padding-right: 10px;\n",
       "}\n",
       "\n",
       ".xr-attrs dd {\n",
       "  grid-column: 2;\n",
       "  white-space: pre-wrap;\n",
       "  word-break: break-all;\n",
       "}\n",
       "\n",
       ".xr-icon-database,\n",
       ".xr-icon-file-text2 {\n",
       "  display: inline-block;\n",
       "  vertical-align: middle;\n",
       "  width: 1em;\n",
       "  height: 1.5em !important;\n",
       "  stroke-width: 0;\n",
       "  stroke: currentColor;\n",
       "  fill: currentColor;\n",
       "}\n",
       "</style><pre class='xr-text-repr-fallback'>&lt;xarray.Dataset&gt;\n",
       "Dimensions:  (dac_ch1: 200, dac_ch2: 200)\n",
       "Coordinates:\n",
       "  * dac_ch1  (dac_ch1) float64 -1.0 -0.9899 -0.9799 ... 0.9799 0.9899 1.0\n",
       "  * dac_ch2  (dac_ch2) float64 -1.0 -0.9899 -0.9799 ... 0.9799 0.9899 1.0\n",
       "Data variables:\n",
       "    dmm_v1   (dac_ch1, dac_ch2) float64 -0.0001107 6.586e-05 ... 1.039e-05</pre><div class='xr-wrap' hidden><div class='xr-header'><div class='xr-obj-type'>xarray.Dataset</div></div><ul class='xr-sections'><li class='xr-section-item'><input id='section-e5e4b327-65f0-4ae7-bce0-7ec92c57da59' class='xr-section-summary-in' type='checkbox' disabled ><label for='section-e5e4b327-65f0-4ae7-bce0-7ec92c57da59' class='xr-section-summary'  title='Expand/collapse section'>Dimensions:</label><div class='xr-section-inline-details'><ul class='xr-dim-list'><li><span class='xr-has-index'>dac_ch1</span>: 200</li><li><span class='xr-has-index'>dac_ch2</span>: 200</li></ul></div><div class='xr-section-details'></div></li><li class='xr-section-item'><input id='section-eee556a1-4561-4eab-b1bf-6965bfa60851' class='xr-section-summary-in' type='checkbox'  checked><label for='section-eee556a1-4561-4eab-b1bf-6965bfa60851' class='xr-section-summary' >Coordinates: <span>(2)</span></label><div class='xr-section-inline-details'></div><div class='xr-section-details'><ul class='xr-var-list'><li class='xr-var-item'><div class='xr-var-name'><span class='xr-has-index'>dac_ch1</span></div><div class='xr-var-dims'>(dac_ch1)</div><div class='xr-var-dtype'>float64</div><div class='xr-var-preview xr-preview'>-1.0 -0.9899 -0.9799 ... 0.9899 1.0</div><input id='attrs-b9a7c7c8-4a59-4c1e-ac5a-0efbd10d77b0' class='xr-var-attrs-in' type='checkbox' disabled><label for='attrs-b9a7c7c8-4a59-4c1e-ac5a-0efbd10d77b0' title='Show/Hide attributes'><svg class='icon xr-icon-file-text2'><use xlink:href='#icon-file-text2'></use></svg></label><input id='data-d39cfef8-9ac9-4b5d-8883-e39d7645fa5d' class='xr-var-data-in' type='checkbox'><label for='data-d39cfef8-9ac9-4b5d-8883-e39d7645fa5d' title='Show/Hide data repr'><svg class='icon xr-icon-database'><use xlink:href='#icon-database'></use></svg></label><div class='xr-var-attrs'><dl class='xr-attrs'></dl></div><div class='xr-var-data'><pre>array([-1.      , -0.98995 , -0.979899, -0.969849, -0.959799, -0.949749,\n",
       "       -0.939698, -0.929648, -0.919598, -0.909548, -0.899497, -0.889447,\n",
       "       -0.879397, -0.869347, -0.859296, -0.849246, -0.839196, -0.829146,\n",
       "       -0.819095, -0.809045, -0.798995, -0.788945, -0.778894, -0.768844,\n",
       "       -0.758794, -0.748744, -0.738693, -0.728643, -0.718593, -0.708543,\n",
       "       -0.698492, -0.688442, -0.678392, -0.668342, -0.658291, -0.648241,\n",
       "       -0.638191, -0.628141, -0.61809 , -0.60804 , -0.59799 , -0.58794 ,\n",
       "       -0.577889, -0.567839, -0.557789, -0.547739, -0.537688, -0.527638,\n",
       "       -0.517588, -0.507538, -0.497487, -0.487437, -0.477387, -0.467337,\n",
       "       -0.457286, -0.447236, -0.437186, -0.427136, -0.417085, -0.407035,\n",
       "       -0.396985, -0.386935, -0.376884, -0.366834, -0.356784, -0.346734,\n",
       "       -0.336683, -0.326633, -0.316583, -0.306533, -0.296482, -0.286432,\n",
       "       -0.276382, -0.266332, -0.256281, -0.246231, -0.236181, -0.226131,\n",
       "       -0.21608 , -0.20603 , -0.19598 , -0.18593 , -0.175879, -0.165829,\n",
       "       -0.155779, -0.145729, -0.135678, -0.125628, -0.115578, -0.105528,\n",
       "       -0.095477, -0.085427, -0.075377, -0.065327, -0.055276, -0.045226,\n",
       "       -0.035176, -0.025126, -0.015075, -0.005025,  0.005025,  0.015075,\n",
       "        0.025126,  0.035176,  0.045226,  0.055276,  0.065327,  0.075377,\n",
       "        0.085427,  0.095477,  0.105528,  0.115578,  0.125628,  0.135678,\n",
       "        0.145729,  0.155779,  0.165829,  0.175879,  0.18593 ,  0.19598 ,\n",
       "        0.20603 ,  0.21608 ,  0.226131,  0.236181,  0.246231,  0.256281,\n",
       "        0.266332,  0.276382,  0.286432,  0.296482,  0.306533,  0.316583,\n",
       "        0.326633,  0.336683,  0.346734,  0.356784,  0.366834,  0.376884,\n",
       "        0.386935,  0.396985,  0.407035,  0.417085,  0.427136,  0.437186,\n",
       "        0.447236,  0.457286,  0.467337,  0.477387,  0.487437,  0.497487,\n",
       "        0.507538,  0.517588,  0.527638,  0.537688,  0.547739,  0.557789,\n",
       "        0.567839,  0.577889,  0.58794 ,  0.59799 ,  0.60804 ,  0.61809 ,\n",
       "        0.628141,  0.638191,  0.648241,  0.658291,  0.668342,  0.678392,\n",
       "        0.688442,  0.698492,  0.708543,  0.718593,  0.728643,  0.738693,\n",
       "        0.748744,  0.758794,  0.768844,  0.778894,  0.788945,  0.798995,\n",
       "        0.809045,  0.819095,  0.829146,  0.839196,  0.849246,  0.859296,\n",
       "        0.869347,  0.879397,  0.889447,  0.899497,  0.909548,  0.919598,\n",
       "        0.929648,  0.939698,  0.949749,  0.959799,  0.969849,  0.979899,\n",
       "        0.98995 ,  1.      ])</pre></div></li><li class='xr-var-item'><div class='xr-var-name'><span class='xr-has-index'>dac_ch2</span></div><div class='xr-var-dims'>(dac_ch2)</div><div class='xr-var-dtype'>float64</div><div class='xr-var-preview xr-preview'>-1.0 -0.9899 -0.9799 ... 0.9899 1.0</div><input id='attrs-a2d80fd6-4166-4a3e-b431-2039fef88fcc' class='xr-var-attrs-in' type='checkbox' disabled><label for='attrs-a2d80fd6-4166-4a3e-b431-2039fef88fcc' title='Show/Hide attributes'><svg class='icon xr-icon-file-text2'><use xlink:href='#icon-file-text2'></use></svg></label><input id='data-6472bab4-8b69-404f-bd54-77065736a823' class='xr-var-data-in' type='checkbox'><label for='data-6472bab4-8b69-404f-bd54-77065736a823' title='Show/Hide data repr'><svg class='icon xr-icon-database'><use xlink:href='#icon-database'></use></svg></label><div class='xr-var-attrs'><dl class='xr-attrs'></dl></div><div class='xr-var-data'><pre>array([-1.      , -0.98995 , -0.979899, -0.969849, -0.959799, -0.949749,\n",
       "       -0.939698, -0.929648, -0.919598, -0.909548, -0.899497, -0.889447,\n",
       "       -0.879397, -0.869347, -0.859296, -0.849246, -0.839196, -0.829146,\n",
       "       -0.819095, -0.809045, -0.798995, -0.788945, -0.778894, -0.768844,\n",
       "       -0.758794, -0.748744, -0.738693, -0.728643, -0.718593, -0.708543,\n",
       "       -0.698492, -0.688442, -0.678392, -0.668342, -0.658291, -0.648241,\n",
       "       -0.638191, -0.628141, -0.61809 , -0.60804 , -0.59799 , -0.58794 ,\n",
       "       -0.577889, -0.567839, -0.557789, -0.547739, -0.537688, -0.527638,\n",
       "       -0.517588, -0.507538, -0.497487, -0.487437, -0.477387, -0.467337,\n",
       "       -0.457286, -0.447236, -0.437186, -0.427136, -0.417085, -0.407035,\n",
       "       -0.396985, -0.386935, -0.376884, -0.366834, -0.356784, -0.346734,\n",
       "       -0.336683, -0.326633, -0.316583, -0.306533, -0.296482, -0.286432,\n",
       "       -0.276382, -0.266332, -0.256281, -0.246231, -0.236181, -0.226131,\n",
       "       -0.21608 , -0.20603 , -0.19598 , -0.18593 , -0.175879, -0.165829,\n",
       "       -0.155779, -0.145729, -0.135678, -0.125628, -0.115578, -0.105528,\n",
       "       -0.095477, -0.085427, -0.075377, -0.065327, -0.055276, -0.045226,\n",
       "       -0.035176, -0.025126, -0.015075, -0.005025,  0.005025,  0.015075,\n",
       "        0.025126,  0.035176,  0.045226,  0.055276,  0.065327,  0.075377,\n",
       "        0.085427,  0.095477,  0.105528,  0.115578,  0.125628,  0.135678,\n",
       "        0.145729,  0.155779,  0.165829,  0.175879,  0.18593 ,  0.19598 ,\n",
       "        0.20603 ,  0.21608 ,  0.226131,  0.236181,  0.246231,  0.256281,\n",
       "        0.266332,  0.276382,  0.286432,  0.296482,  0.306533,  0.316583,\n",
       "        0.326633,  0.336683,  0.346734,  0.356784,  0.366834,  0.376884,\n",
       "        0.386935,  0.396985,  0.407035,  0.417085,  0.427136,  0.437186,\n",
       "        0.447236,  0.457286,  0.467337,  0.477387,  0.487437,  0.497487,\n",
       "        0.507538,  0.517588,  0.527638,  0.537688,  0.547739,  0.557789,\n",
       "        0.567839,  0.577889,  0.58794 ,  0.59799 ,  0.60804 ,  0.61809 ,\n",
       "        0.628141,  0.638191,  0.648241,  0.658291,  0.668342,  0.678392,\n",
       "        0.688442,  0.698492,  0.708543,  0.718593,  0.728643,  0.738693,\n",
       "        0.748744,  0.758794,  0.768844,  0.778894,  0.788945,  0.798995,\n",
       "        0.809045,  0.819095,  0.829146,  0.839196,  0.849246,  0.859296,\n",
       "        0.869347,  0.879397,  0.889447,  0.899497,  0.909548,  0.919598,\n",
       "        0.929648,  0.939698,  0.949749,  0.959799,  0.969849,  0.979899,\n",
       "        0.98995 ,  1.      ])</pre></div></li></ul></div></li><li class='xr-section-item'><input id='section-f995293b-dcc7-4804-a4e2-516e9332a1af' class='xr-section-summary-in' type='checkbox'  checked><label for='section-f995293b-dcc7-4804-a4e2-516e9332a1af' class='xr-section-summary' >Data variables: <span>(1)</span></label><div class='xr-section-inline-details'></div><div class='xr-section-details'><ul class='xr-var-list'><li class='xr-var-item'><div class='xr-var-name'><span>dmm_v1</span></div><div class='xr-var-dims'>(dac_ch1, dac_ch2)</div><div class='xr-var-dtype'>float64</div><div class='xr-var-preview xr-preview'>-0.0001107 6.586e-05 ... 1.039e-05</div><input id='attrs-ae8f034e-3b81-4a23-94eb-c89a820d837e' class='xr-var-attrs-in' type='checkbox' disabled><label for='attrs-ae8f034e-3b81-4a23-94eb-c89a820d837e' title='Show/Hide attributes'><svg class='icon xr-icon-file-text2'><use xlink:href='#icon-file-text2'></use></svg></label><input id='data-5b73a2ca-8161-4e81-a403-990908944c5a' class='xr-var-data-in' type='checkbox'><label for='data-5b73a2ca-8161-4e81-a403-990908944c5a' title='Show/Hide data repr'><svg class='icon xr-icon-database'><use xlink:href='#icon-database'></use></svg></label><div class='xr-var-attrs'><dl class='xr-attrs'></dl></div><div class='xr-var-data'><pre>array([[-1.10688849e-04,  6.58611615e-05,  3.05504702e-05, ...,\n",
       "         5.45836799e-07,  4.81112434e-07,  4.23378186e-07],\n",
       "       [ 8.38905006e-10,  1.01663582e-09,  1.23003129e-09, ...,\n",
       "         6.50926276e-07,  5.73740587e-07,  5.04890815e-07],\n",
       "       [ 9.98803156e-10,  1.21041007e-09,  1.46447944e-09, ...,\n",
       "         7.74995041e-07,  6.83097495e-07,  6.01124723e-07],\n",
       "       ...,\n",
       "       [ 2.29767040e-08,  2.78445594e-08,  3.36892312e-08, ...,\n",
       "         1.78281692e-05,  1.57141363e-05,  1.38284153e-05],\n",
       "       [ 1.99291084e-08,  2.41512988e-08,  2.92207420e-08, ...,\n",
       "         1.54634675e-05,  1.36298368e-05,  1.19942350e-05],\n",
       "       [ 1.72578280e-08,  2.09140797e-08,  2.53040192e-08, ...,\n",
       "         1.33907577e-05,  1.18029053e-05,  1.03865381e-05]])</pre></div></li></ul></div></li><li class='xr-section-item'><input id='section-d08269d5-6520-4c6e-a668-677f43063c15' class='xr-section-summary-in' type='checkbox' disabled ><label for='section-d08269d5-6520-4c6e-a668-677f43063c15' class='xr-section-summary'  title='Expand/collapse section'>Attributes: <span>(0)</span></label><div class='xr-section-inline-details'></div><div class='xr-section-details'><dl class='xr-attrs'></dl></div></li></ul></div></div>"
      ],
      "text/plain": [
       "<xarray.Dataset>\n",
       "Dimensions:  (dac_ch1: 200, dac_ch2: 200)\n",
       "Coordinates:\n",
       "  * dac_ch1  (dac_ch1) float64 -1.0 -0.9899 -0.9799 ... 0.9799 0.9899 1.0\n",
       "  * dac_ch2  (dac_ch2) float64 -1.0 -0.9899 -0.9799 ... 0.9799 0.9899 1.0\n",
       "Data variables:\n",
       "    dmm_v1   (dac_ch1, dac_ch2) float64 -0.0001107 6.586e-05 ... 1.039e-05"
      ]
     },
     "execution_count": 1,
     "metadata": {},
     "output_type": "execute_result"
    }
   ],
   "source": [
    "datasaver.dataset.get_data_as_pandas_dataframe()['dmm_v1'].to_xarray()"
   ]
  },
  {
   "cell_type": "markdown",
   "metadata": {},
   "source": [
    "Note, however, that XArray is only suited for data that is on a rectangular grid with few or no missing values. "
   ]
  },
  {
   "cell_type": "code",
   "execution_count": 27,
   "metadata": {
    "execution": {
     "iopub.execute_input": "2020-09-21T16:11:49.337354Z",
     "iopub.status.busy": "2020-09-21T16:11:49.336483Z",
     "iopub.status.idle": "2020-09-21T16:11:50.263418Z",
     "shell.execute_reply": "2020-09-21T16:11:50.262912Z"
    }
   },
   "outputs": [
    {
     "data": {
      "image/png": "[encoded data removed]",
      "text/plain": [
       "<Figure size 432x288 with 2 Axes>"
      ]
     },
     "metadata": {
      "needs_background": "light"
     },
     "output_type": "display_data"
    }
   ],
   "source": [
    "ax, cbax = plot_dataset(dataset)"
   ]
  },
  {
   "cell_type": "code",
   "execution_count": 28,
   "metadata": {
    "execution": {
     "iopub.execute_input": "2020-09-21T16:11:50.271808Z",
     "iopub.status.busy": "2020-09-21T16:11:50.270828Z",
     "iopub.status.idle": "2020-09-21T16:11:56.333897Z",
     "shell.execute_reply": "2020-09-21T16:11:56.333054Z"
    }
   },
   "outputs": [
    {
     "name": "stdout",
     "output_type": "stream",
     "text": [
      "Starting experimental run with id: 39. \n"
     ]
    }
   ],
   "source": [
    "# Looking at the above picture, we may decide to sample more finely in the central\n",
    "# region\n",
    "\n",
    "with meas.run() as datasaver:\n",
    "\n",
    "    v1points = np.concatenate((np.linspace(-1, -0.5, 5),\n",
    "                               np.linspace(-0.51, 0.5, 200),\n",
    "                               np.linspace(0.51, 1, 5)))\n",
    "    v2points = np.concatenate((np.linspace(-1, -0.25, 5),\n",
    "                               np.linspace(-0.26, 0.5, 200),\n",
    "                               np.linspace(0.51, 1, 5)))\n",
    "    \n",
    "    for v1 in v1points:\n",
    "        for v2 in v2points:\n",
    "            dac.ch1(v1)\n",
    "            dac.ch2(v2)\n",
    "            val = dmm.v1.get()\n",
    "            datasaver.add_result((dac.ch1, v1),\n",
    "                                 (dac.ch2, v2),\n",
    "                                 (dmm.v1, val))\n",
    "\n",
    "    dataset = datasaver.dataset  # convenient to have for plotting"
   ]
  },
  {
   "cell_type": "code",
   "execution_count": 29,
   "metadata": {
    "execution": {
     "iopub.execute_input": "2020-09-21T16:11:56.338214Z",
     "iopub.status.busy": "2020-09-21T16:11:56.337627Z",
     "iopub.status.idle": "2020-09-21T16:11:57.428878Z",
     "shell.execute_reply": "2020-09-21T16:11:57.429439Z"
    }
   },
   "outputs": [
    {
     "data": {
      "image/png": "[encoded data removed]",
      "text/plain": [
       "<Figure size 432x288 with 2 Axes>"
      ]
     },
     "metadata": {
      "needs_background": "light"
     },
     "output_type": "display_data"
    }
   ],
   "source": [
    "ax, cbax = plot_dataset(dataset)"
   ]
  },
  {
   "cell_type": "code",
   "execution_count": 30,
   "metadata": {
    "execution": {
     "iopub.execute_input": "2020-09-21T16:11:57.438740Z",
     "iopub.status.busy": "2020-09-21T16:11:57.438196Z",
     "iopub.status.idle": "2020-09-21T16:12:00.407689Z",
     "shell.execute_reply": "2020-09-21T16:12:00.408190Z"
    }
   },
   "outputs": [
    {
     "name": "stdout",
     "output_type": "stream",
     "text": [
      "Starting experimental run with id: 40. \n"
     ]
    },
    {
     "name": "stdout",
     "output_type": "stream",
     "text": [
      "130 46 0.2508941683095357\n",
      "----------\n"
     ]
    }
   ],
   "source": [
    "# or even perform an adaptive sweep... ooohh...\n",
    "#\n",
    "# This example is a not-very-clever toy model example,\n",
    "# but it nicely shows a semi-realistic measurement that the old qc.Loop\n",
    "# could not handle\n",
    "\n",
    "v1_points = np.linspace(-1, 1, 250)\n",
    "v2_points = np.linspace(1, -1, 250)\n",
    "\n",
    "threshold = 0.25\n",
    "\n",
    "with meas.run() as datasaver:\n",
    "    # Do normal sweeping until the peak is detected\n",
    "    \n",
    "    for v2ind, v2 in enumerate(v2_points):\n",
    "        for v1ind, v1 in enumerate(v1_points):\n",
    "            dac.ch1(v1)\n",
    "            dac.ch2(v2)\n",
    "            val = dmm.v1.get()\n",
    "            datasaver.add_result((dac.ch1, v1),\n",
    "                                 (dac.ch2, v2),\n",
    "                                 (dmm.v1, val))\n",
    "            if val > threshold:\n",
    "                break\n",
    "        else:\n",
    "            continue\n",
    "        break\n",
    "        \n",
    "    print(v1ind, v2ind, val)\n",
    "    print('-'*10)\n",
    "        \n",
    "    # now be more clever, meandering back and forth over the peak\n",
    "    doneyet = False\n",
    "    rowdone = False\n",
    "    v1_step = 1\n",
    "    while not doneyet:\n",
    "            v2 = v2_points[v2ind]\n",
    "            v1 = v1_points[v1ind+v1_step-1]\n",
    "            dac.ch1(v1)\n",
    "            dac.ch2(v2)\n",
    "            val = dmm.v1.get()\n",
    "            datasaver.add_result((dac.ch1, v1),\n",
    "                                 (dac.ch2, v2),\n",
    "                                 (dmm.v1, val))\n",
    "            if val < threshold:\n",
    "                if rowdone:\n",
    "                    doneyet = True\n",
    "                v2ind += 1\n",
    "                v1_step *= -1\n",
    "                rowdone = True\n",
    "            else:\n",
    "                v1ind += v1_step\n",
    "                rowdone = False\n",
    "                \n",
    "dataset = datasaver.dataset  # convenient to have for plotting"
   ]
  },
  {
   "cell_type": "code",
   "execution_count": 31,
   "metadata": {
    "execution": {
     "iopub.execute_input": "2020-09-21T16:12:00.413902Z",
     "iopub.status.busy": "2020-09-21T16:12:00.413316Z",
     "iopub.status.idle": "2020-09-21T16:12:01.207555Z",
     "shell.execute_reply": "2020-09-21T16:12:01.208151Z"
    }
   },
   "outputs": [
    {
     "data": {
      "image/png": "[encoded data removed]",
      "text/plain": [
       "<Figure size 432x288 with 2 Axes>"
      ]
     },
     "metadata": {
      "needs_background": "light"
     },
     "output_type": "display_data"
    }
   ],
   "source": [
    "ax, cbax = plot_dataset(dataset)"
   ]
  },
  {
   "cell_type": "markdown",
   "metadata": {},
   "source": [
    "## Performing several measuments concurrently"
   ]
  },
  {
   "cell_type": "markdown",
   "metadata": {},
   "source": [
    "It is possible to perform two or more measurements at the same time. This may be convenient if you need to measure several parameters as a function of the same independent parameters."
   ]
  },
  {
   "cell_type": "code",
   "execution_count": 32,
   "metadata": {
    "execution": {
     "iopub.execute_input": "2020-09-21T16:12:01.217763Z",
     "iopub.status.busy": "2020-09-21T16:12:01.216240Z",
     "iopub.status.idle": "2020-09-21T16:12:11.001786Z",
     "shell.execute_reply": "2020-09-21T16:12:11.001293Z"
    }
   },
   "outputs": [
    {
     "name": "stdout",
     "output_type": "stream",
     "text": [
      "Starting experimental run with id: 41. \n",
      "Starting experimental run with id: 42. \n"
     ]
    }
   ],
   "source": [
    "# setup two measurements\n",
    "meas1 = Measurement(exp=exp)\n",
    "meas1.register_parameter(dac.ch1)  \n",
    "meas1.register_parameter(dac.ch2)  \n",
    "meas1.register_parameter(dmm.v1, setpoints=(dac.ch1, dac.ch2))\n",
    "\n",
    "meas2 = Measurement(exp=exp)\n",
    "meas2.register_parameter(dac.ch1)  \n",
    "meas2.register_parameter(dac.ch2)\n",
    "meas2.register_parameter(dmm.v2, setpoints=(dac.ch1, dac.ch2))\n",
    "\n",
    "with meas1.run() as datasaver1, meas2.run() as datasaver2:\n",
    "\n",
    "    v1points = np.concatenate((np.linspace(-1, -0.5, 5),\n",
    "                               np.linspace(-0.51, 0.5, 200),\n",
    "                               np.linspace(0.51, 1, 5)))\n",
    "    v2points = np.concatenate((np.linspace(-1, -0.25, 5),\n",
    "                               np.linspace(-0.26, 0.5, 200),\n",
    "                               np.linspace(0.51, 1, 5)))\n",
    "    \n",
    "    for v1 in v1points:\n",
    "        for v2 in v2points:\n",
    "            dac.ch1(v1)\n",
    "            dac.ch2(v2)\n",
    "            val1 = dmm.v1.get()\n",
    "            datasaver1.add_result((dac.ch1, v1),\n",
    "                                 (dac.ch2, v2),\n",
    "                                 (dmm.v1, val1))\n",
    "            val2 = dmm.v2.get()\n",
    "            datasaver2.add_result((dac.ch1, v1),\n",
    "                                 (dac.ch2, v2),\n",
    "                                 (dmm.v2, val2))\n"
   ]
  },
  {
   "cell_type": "code",
   "execution_count": 33,
   "metadata": {
    "execution": {
     "iopub.execute_input": "2020-09-21T16:12:11.007522Z",
     "iopub.status.busy": "2020-09-21T16:12:11.006882Z",
     "iopub.status.idle": "2020-09-21T16:12:12.011411Z",
     "shell.execute_reply": "2020-09-21T16:12:12.010775Z"
    }
   },
   "outputs": [
    {
     "data": {
      "image/png": "[encoded data removed]",
      "text/plain": [
       "<Figure size 432x288 with 2 Axes>"
      ]
     },
     "metadata": {
      "needs_background": "light"
     },
     "output_type": "display_data"
    }
   ],
   "source": [
    "ax, cbax = plot_dataset(datasaver1.dataset)"
   ]
  },
  {
   "cell_type": "code",
   "execution_count": 34,
   "metadata": {
    "execution": {
     "iopub.execute_input": "2020-09-21T16:12:12.015991Z",
     "iopub.status.busy": "2020-09-21T16:12:12.015317Z",
     "iopub.status.idle": "2020-09-21T16:12:13.062957Z",
     "shell.execute_reply": "2020-09-21T16:12:13.063390Z"
    }
   },
   "outputs": [
    {
     "data": {
      "image/png": "[encoded data removed]",
      "text/plain": [
       "<Figure size 432x288 with 2 Axes>"
      ]
     },
     "metadata": {
      "needs_background": "light"
     },
     "output_type": "display_data"
    }
   ],
   "source": [
    "ax, cbax = plot_dataset(datasaver2.dataset)"
   ]
  },
  {
   "cell_type": "markdown",
   "metadata": {},
   "source": [
    "## Interrupting measurements early\n",
    "\n",
    "There may be cases where you do not want to complete a measurement. Currently QCoDeS is designed to allow the user\n",
    "to interrupt the measurements with a standard KeyBoardInterrupt. KeyBoardInterrupts can be raised with either a Ctrl-C keyboard shortcut or using the interrupt button in Juypter / Spyder which is typically in the form of a Square stop button. QCoDeS is designed such that KeyboardInterrupts are delayed around critical parts of the code and the measurement is stopped when its safe to do so. "
   ]
  },
  {
   "cell_type": "markdown",
   "metadata": {},
   "source": [
    "## Random sampling "
   ]
  },
  {
   "cell_type": "markdown",
   "metadata": {},
   "source": [
    "We may also chose to sample completely randomly across the phase space"
   ]
  },
  {
   "cell_type": "code",
   "execution_count": 35,
   "metadata": {
    "execution": {
     "iopub.execute_input": "2020-09-21T16:12:13.069669Z",
     "iopub.status.busy": "2020-09-21T16:12:13.068162Z",
     "iopub.status.idle": "2020-09-21T16:12:13.070224Z",
     "shell.execute_reply": "2020-09-21T16:12:13.070791Z"
    }
   },
   "outputs": [],
   "source": [
    "gauss = dmm_gauss_parameter.gauss_model(0.1, 0.2, 0.25)\n",
    "next(gauss)\n",
    "\n",
    "def measure_gauss(x, y):\n",
    "    val = gauss.send((x, y))\n",
    "    next(gauss)\n",
    "    return val\n",
    "\n"
   ]
  },
  {
   "cell_type": "code",
   "execution_count": 36,
   "metadata": {
    "execution": {
     "iopub.execute_input": "2020-09-21T16:12:13.076967Z",
     "iopub.status.busy": "2020-09-21T16:12:13.076345Z",
     "iopub.status.idle": "2020-09-21T16:12:13.484392Z",
     "shell.execute_reply": "2020-09-21T16:12:13.483909Z"
    }
   },
   "outputs": [
    {
     "name": "stdout",
     "output_type": "stream",
     "text": [
      "Starting experimental run with id: 43. \n"
     ]
    }
   ],
   "source": [
    "v1_points = np.linspace(-1, 1, 250)\n",
    "v2_points = np.linspace(1, -1, 250)\n",
    "\n",
    "threshold = 0.25\n",
    "\n",
    "npoints = 5000\n",
    "\n",
    "with meas.run() as datasaver:\n",
    "    for i in range(npoints):\n",
    "        x = 2*(np.random.rand()-.5)\n",
    "        y = 2*(np.random.rand()-.5)\n",
    "        z = measure_gauss(x,y)\n",
    "        datasaver.add_result((dac.ch1, x),\n",
    "                     (dac.ch2, y),\n",
    "                     (dmm.v1, z))\n",
    "dataset = datasaver.dataset  # convenient to have for plotting"
   ]
  },
  {
   "cell_type": "code",
   "execution_count": 37,
   "metadata": {
    "execution": {
     "iopub.execute_input": "2020-09-21T16:12:13.488775Z",
     "iopub.status.busy": "2020-09-21T16:12:13.488183Z",
     "iopub.status.idle": "2020-09-21T16:12:13.905418Z",
     "shell.execute_reply": "2020-09-21T16:12:13.906065Z"
    }
   },
   "outputs": [
    {
     "data": {
      "image/png": "[encoded data removed]",
      "text/plain": [
       "<Figure size 432x288 with 2 Axes>"
      ]
     },
     "metadata": {
      "needs_background": "light"
     },
     "output_type": "display_data"
    }
   ],
   "source": [
    "ax, cbax = plot_dataset(dataset)"
   ]
  },
  {
   "cell_type": "code",
   "execution_count": 38,
   "metadata": {
    "execution": {
     "iopub.execute_input": "2020-09-21T16:12:13.910909Z",
     "iopub.status.busy": "2020-09-21T16:12:13.910389Z",
     "iopub.status.idle": "2020-09-21T16:12:13.988654Z",
     "shell.execute_reply": "2020-09-21T16:12:13.988076Z"
    }
   },
   "outputs": [
    {
     "data": {
      "text/html": [
       "<div>\n",
       "<style scoped>\n",
       "    .dataframe tbody tr th:only-of-type {\n",
       "        vertical-align: middle;\n",
       "    }\n",
       "\n",
       "    .dataframe tbody tr th {\n",
       "        vertical-align: top;\n",
       "    }\n",
       "\n",
       "    .dataframe thead th {\n",
       "        text-align: right;\n",
       "    }\n",
       "</style>\n",
       "<table border=\"1\" class=\"dataframe\">\n",
       "  <thead>\n",
       "    <tr style=\"text-align: right;\">\n",
       "      <th></th>\n",
       "      <th></th>\n",
       "      <th>dmm_v1</th>\n",
       "    </tr>\n",
       "    <tr>\n",
       "      <th>dac_ch1</th>\n",
       "      <th>dac_ch2</th>\n",
       "      <th></th>\n",
       "    </tr>\n",
       "  </thead>\n",
       "  <tbody>\n",
       "    <tr>\n",
       "      <th>0.991898</th>\n",
       "      <th>0.093623</th>\n",
       "      <td>0.002436</td>\n",
       "    </tr>\n",
       "    <tr>\n",
       "      <th>-0.484875</th>\n",
       "      <th>0.426207</th>\n",
       "      <td>0.048343</td>\n",
       "    </tr>\n",
       "    <tr>\n",
       "      <th>-0.719696</th>\n",
       "      <th>-0.226341</th>\n",
       "      <td>0.001273</td>\n",
       "    </tr>\n",
       "    <tr>\n",
       "      <th>0.054140</th>\n",
       "      <th>0.909603</th>\n",
       "      <td>0.019906</td>\n",
       "    </tr>\n",
       "    <tr>\n",
       "      <th>0.802579</th>\n",
       "      <th>0.628669</th>\n",
       "      <td>0.004962</td>\n",
       "    </tr>\n",
       "    <tr>\n",
       "      <th>0.542869</th>\n",
       "      <th>0.901624</th>\n",
       "      <td>0.004525</td>\n",
       "    </tr>\n",
       "    <tr>\n",
       "      <th>-0.413745</th>\n",
       "      <th>0.124945</th>\n",
       "      <td>0.131074</td>\n",
       "    </tr>\n",
       "    <tr>\n",
       "      <th>0.433363</th>\n",
       "      <th>-0.462565</th>\n",
       "      <td>0.013907</td>\n",
       "    </tr>\n",
       "    <tr>\n",
       "      <th>-0.438683</th>\n",
       "      <th>-0.681992</th>\n",
       "      <td>0.000215</td>\n",
       "    </tr>\n",
       "    <tr>\n",
       "      <th>-0.066359</th>\n",
       "      <th>-0.259424</th>\n",
       "      <td>0.167809</td>\n",
       "    </tr>\n",
       "  </tbody>\n",
       "</table>\n",
       "</div>"
      ],
      "text/plain": [
       "                       dmm_v1\n",
       "dac_ch1   dac_ch2            \n",
       " 0.991898  0.093623  0.002436\n",
       "-0.484875  0.426207  0.048343\n",
       "-0.719696 -0.226341  0.001273\n",
       " 0.054140  0.909603  0.019906\n",
       " 0.802579  0.628669  0.004962\n",
       " 0.542869  0.901624  0.004525\n",
       "-0.413745  0.124945  0.131074\n",
       " 0.433363 -0.462565  0.013907\n",
       "-0.438683 -0.681992  0.000215\n",
       "-0.066359 -0.259424  0.167809"
      ]
     },
     "execution_count": 1,
     "metadata": {},
     "output_type": "execute_result"
    }
   ],
   "source": [
    "datasaver.dataset.get_data_as_pandas_dataframe()['dmm_v1'][0:10]"
   ]
  },
  {
   "cell_type": "markdown",
   "metadata": {},
   "source": [
    "Unlike the data measured above, which lies on a grid, here, all the measured data points have an unique combination of the two dependent parameters. When exporting to XArray NaN's will therefore replace all the missing combinations of `dac_ch1` and `dac_ch2` and the data is unlikely to be useful in this format. "
   ]
  },
  {
   "cell_type": "code",
   "execution_count": 39,
   "metadata": {
    "execution": {
     "iopub.execute_input": "2020-09-21T16:12:13.993251Z",
     "iopub.status.busy": "2020-09-21T16:12:13.991850Z",
     "iopub.status.idle": "2020-09-21T16:12:13.994006Z",
     "shell.execute_reply": "2020-09-21T16:12:13.994426Z"
    }
   },
   "outputs": [],
   "source": [
    "#df_sliced = datasaver.dataset.get_data_as_pandas_dataframe()['dmm_v1'].sort_index()[0:10]\n",
    "#df_sliced.index = df_sliced.index.remove_unused_levels()\n",
    "#df_sliced.to_xarray()"
   ]
  },
  {
   "cell_type": "markdown",
   "metadata": {},
   "source": [
    "## Optimiser"
   ]
  },
  {
   "cell_type": "markdown",
   "metadata": {},
   "source": [
    "An example to show that the algorithm is flexible enough to be used with completely unstructured data such as the output of an downhill simplex optimization. The downhill simplex is somewhat more sensitive to noise and it is important that 'fatol' is set to match the expected noise."
   ]
  },
  {
   "cell_type": "code",
   "execution_count": 40,
   "metadata": {
    "execution": {
     "iopub.execute_input": "2020-09-21T16:12:13.998216Z",
     "iopub.status.busy": "2020-09-21T16:12:13.997260Z",
     "iopub.status.idle": "2020-09-21T16:12:14.091593Z",
     "shell.execute_reply": "2020-09-21T16:12:14.092341Z"
    }
   },
   "outputs": [],
   "source": [
    "from scipy.optimize import minimize"
   ]
  },
  {
   "cell_type": "code",
   "execution_count": 41,
   "metadata": {
    "execution": {
     "iopub.execute_input": "2020-09-21T16:12:14.098164Z",
     "iopub.status.busy": "2020-09-21T16:12:14.097088Z",
     "iopub.status.idle": "2020-09-21T16:12:14.101121Z",
     "shell.execute_reply": "2020-09-21T16:12:14.100485Z"
    }
   },
   "outputs": [],
   "source": [
    "noise = 0.0005\n",
    "\n",
    "gauss = dmm_gauss_parameter.gauss_model(0.1, 0.2, 0.25, noise=noise)\n",
    "next(gauss)\n",
    "\n",
    "def measure_gauss(x, y):\n",
    "    val = gauss.send((x, y))\n",
    "    next(gauss)\n",
    "    return val\n"
   ]
  },
  {
   "cell_type": "code",
   "execution_count": 42,
   "metadata": {
    "execution": {
     "iopub.execute_input": "2020-09-21T16:12:14.107098Z",
     "iopub.status.busy": "2020-09-21T16:12:14.106360Z",
     "iopub.status.idle": "2020-09-21T16:12:14.137224Z",
     "shell.execute_reply": "2020-09-21T16:12:14.138507Z"
    }
   },
   "outputs": [
    {
     "name": "stdout",
     "output_type": "stream",
     "text": [
      "Starting experimental run with id: 44. \n"
     ]
    }
   ],
   "source": [
    "x0 = [np.random.rand(), np.random.rand()]\n",
    "with meas.run() as datasaver:\n",
    "    def mycallback(xk):\n",
    "        datasaver.add_result((dac.ch1, xk[0]),\n",
    "                     (dac.ch2, xk[1]),\n",
    "                     (dmm.v1, measure_gauss(xk[0], xk[1])))\n",
    "    \n",
    "    res = minimize(lambda x: -measure_gauss(*x), x0, method='Nelder-Mead', tol=1e-10, \n",
    "                   callback=mycallback, options={'fatol': noise})\n",
    "    \n",
    "    dataset = datasaver.dataset  # convenient to have for plotting"
   ]
  },
  {
   "cell_type": "code",
   "execution_count": 43,
   "metadata": {
    "execution": {
     "iopub.execute_input": "2020-09-21T16:12:14.144565Z",
     "iopub.status.busy": "2020-09-21T16:12:14.143944Z",
     "iopub.status.idle": "2020-09-21T16:12:14.146811Z",
     "shell.execute_reply": "2020-09-21T16:12:14.147465Z"
    }
   },
   "outputs": [
    {
     "data": {
      "text/plain": [
       " final_simplex: (array([[0.1, 0.2],\n",
       "       [0.1, 0.2],\n",
       "       [0.1, 0.2]]), array([-1.13314845, -1.13314845, -1.13314845]))\n",
       "           fun: -1.1331484530668263\n",
       "       message: 'Optimization terminated successfully.'\n",
       "          nfev: 163\n",
       "           nit: 79\n",
       "        status: 0\n",
       "       success: True\n",
       "             x: array([0.1, 0.2])"
      ]
     },
     "execution_count": 1,
     "metadata": {},
     "output_type": "execute_result"
    }
   ],
   "source": [
    "res"
   ]
  },
  {
   "cell_type": "code",
   "execution_count": 44,
   "metadata": {
    "execution": {
     "iopub.execute_input": "2020-09-21T16:12:14.151484Z",
     "iopub.status.busy": "2020-09-21T16:12:14.150913Z",
     "iopub.status.idle": "2020-09-21T16:12:14.401237Z",
     "shell.execute_reply": "2020-09-21T16:12:14.401691Z"
    }
   },
   "outputs": [
    {
     "data": {
      "image/png": "[encoded data removed]",
      "text/plain": [
       "<Figure size 432x288 with 2 Axes>"
      ]
     },
     "metadata": {
      "needs_background": "light"
     },
     "output_type": "display_data"
    }
   ],
   "source": [
    "ax, cbax = plot_dataset(dataset)"
   ]
  },
  {
   "cell_type": "markdown",
   "metadata": {},
   "source": [
    "## Subscriptions\n",
    "\n",
    "The ``Measurement`` object can also handle subscriptions to the dataset. Subscriptions are, under the hood, triggers in the underlying SQLite database. Therefore, the subscribers are only called when data is written to the database (which happens every `write_period`).\n",
    "\n",
    "When making a subscription, two things must be supplied: a function and a mutable state object. The function **MUST** have a call signature of `f(result_list, length, state, **kwargs)`, where ``result_list`` is a list of tuples of parameter values inserted in the dataset, ``length`` is an integer (the step number of the run), and ``state`` is the mutable state object. The function does not need to actually use these arguments, but the call signature must match this.\n",
    "\n",
    "Let us consider two generic examples:"
   ]
  },
  {
   "cell_type": "markdown",
   "metadata": {},
   "source": [
    "### Subscription example 1: simple printing"
   ]
  },
  {
   "cell_type": "code",
   "execution_count": 45,
   "metadata": {
    "execution": {
     "iopub.execute_input": "2020-09-21T16:12:14.408390Z",
     "iopub.status.busy": "2020-09-21T16:12:14.407855Z",
     "iopub.status.idle": "2020-09-21T16:12:19.443677Z",
     "shell.execute_reply": "2020-09-21T16:12:19.442933Z"
    }
   },
   "outputs": [
    {
     "name": "stdout",
     "output_type": "stream",
     "text": [
      "Starting experimental run with id: 45. \n",
      "Added points to measurement, step 0.\n"
     ]
    },
    {
     "name": "stdout",
     "output_type": "stream",
     "text": [
      "Added points to measurement, step 1.\n"
     ]
    },
    {
     "name": "stdout",
     "output_type": "stream",
     "text": [
      "The run now holds 3 rows\n",
      "Added points to measurement, step 2.\n"
     ]
    },
    {
     "name": "stdout",
     "output_type": "stream",
     "text": [
      "Added points to measurement, step 3.\n"
     ]
    },
    {
     "name": "stdout",
     "output_type": "stream",
     "text": [
      "The run now holds 5 rows\n",
      "Added points to measurement, step 4.\n"
     ]
    },
    {
     "name": "stdout",
     "output_type": "stream",
     "text": [
      "Added points to measurement, step 5.\n"
     ]
    },
    {
     "name": "stdout",
     "output_type": "stream",
     "text": [
      "The run now holds 7 rows\n",
      "Added points to measurement, step 6.\n"
     ]
    },
    {
     "name": "stdout",
     "output_type": "stream",
     "text": [
      "Added points to measurement, step 7.\n"
     ]
    },
    {
     "name": "stdout",
     "output_type": "stream",
     "text": [
      "The run now holds 9 rows\n",
      "Added points to measurement, step 8.\n"
     ]
    },
    {
     "name": "stdout",
     "output_type": "stream",
     "text": [
      "Added points to measurement, step 9.\n"
     ]
    },
    {
     "name": "stdout",
     "output_type": "stream",
     "text": [
      "The run now holds 10 rows\n",
      "The run now holds 10 rows\n",
      "The run now holds 10 rows\n"
     ]
    }
   ],
   "source": [
    "\n",
    "\n",
    "def print_which_step(results_list, length, state):\n",
    "    \"\"\"\n",
    "    This subscriber does not use results_list nor state; it simply\n",
    "    prints how many results we have added to the database\n",
    "    \"\"\"\n",
    "    print(f'The run now holds {length} rows')\n",
    "    \n",
    "    \n",
    "meas = Measurement(exp=exp)\n",
    "meas.register_parameter(dac.ch1)\n",
    "meas.register_parameter(dmm.v1, setpoints=(dac.ch1,))\n",
    "\n",
    "meas.write_period = 1  # We write to the database every 1 second\n",
    "\n",
    "meas.add_subscriber(print_which_step, state=[])\n",
    "\n",
    "with meas.run() as datasaver:\n",
    "    for n in range(10):\n",
    "        datasaver.add_result((dac.ch1, n), (dmm.v1, n**2))\n",
    "        print(f'Added points to measurement, step {n}.')\n",
    "        sleep(0.5)"
   ]
  },
  {
   "cell_type": "markdown",
   "metadata": {},
   "source": [
    "### Subscription example 2: using the state\n",
    "\n",
    "We add two subscribers now."
   ]
  },
  {
   "cell_type": "code",
   "execution_count": 46,
   "metadata": {
    "execution": {
     "iopub.execute_input": "2020-09-21T16:12:19.453522Z",
     "iopub.status.busy": "2020-09-21T16:12:19.452952Z",
     "iopub.status.idle": "2020-09-21T16:12:24.486533Z",
     "shell.execute_reply": "2020-09-21T16:12:24.486059Z"
    }
   },
   "outputs": [
    {
     "name": "stdout",
     "output_type": "stream",
     "text": [
      "Starting experimental run with id: 46. \n",
      "Added points to measurement, step 0.\n",
      "First parameter value list: []\n"
     ]
    },
    {
     "name": "stdout",
     "output_type": "stream",
     "text": [
      "Added points to measurement, step 1.\n",
      "First parameter value list: []\n"
     ]
    },
    {
     "name": "stdout",
     "output_type": "stream",
     "text": [
      "The run now holds 1 rows\n",
      "The run now holds 3 rows\n",
      "Added points to measurement, step 2.\n",
      "First parameter value list: [0, 1, 2]\n"
     ]
    },
    {
     "name": "stdout",
     "output_type": "stream",
     "text": [
      "Added points to measurement, step 3.\n",
      "First parameter value list: [0, 1, 2]\n"
     ]
    },
    {
     "name": "stdout",
     "output_type": "stream",
     "text": [
      "The run now holds 5 rows\n",
      "Added points to measurement, step 4.\n",
      "First parameter value list: [0, 1, 2, 3, 4]\n"
     ]
    },
    {
     "name": "stdout",
     "output_type": "stream",
     "text": [
      "Added points to measurement, step 5.\n",
      "First parameter value list: [0, 1, 2, 3, 4]\n"
     ]
    },
    {
     "name": "stdout",
     "output_type": "stream",
     "text": [
      "The run now holds 7 rows\n",
      "Added points to measurement, step 6.\n",
      "First parameter value list: [0, 1, 2, 3, 4, 5, 6]\n"
     ]
    },
    {
     "name": "stdout",
     "output_type": "stream",
     "text": [
      "Added points to measurement, step 7.\n",
      "First parameter value list: [0, 1, 2, 3, 4, 5, 6]\n"
     ]
    },
    {
     "name": "stdout",
     "output_type": "stream",
     "text": [
      "The run now holds 9 rows\n",
      "Added points to measurement, step 8.\n",
      "First parameter value list: [0, 1, 2, 3, 4, 5, 6, 7, 8]\n"
     ]
    },
    {
     "name": "stdout",
     "output_type": "stream",
     "text": [
      "Added points to measurement, step 9.\n",
      "First parameter value list: [0, 1, 2, 3, 4, 5, 6, 7, 8]\n"
     ]
    },
    {
     "name": "stdout",
     "output_type": "stream",
     "text": [
      "The run now holds 10 rows\n",
      "The run now holds 10 rows\n",
      "The run now holds 10 rows\n"
     ]
    }
   ],
   "source": [
    "\n",
    "\n",
    "def get_list_of_first_param(results_list, lenght, state):\n",
    "    \"\"\"\n",
    "    Modify the state (a list) to hold all the values for\n",
    "    the first parameter\n",
    "    \"\"\"\n",
    "    param_vals = [parvals[0] for parvals in results_list]\n",
    "    state += param_vals\n",
    "    \n",
    "meas = Measurement(exp=exp)\n",
    "meas.register_parameter(dac.ch1)\n",
    "meas.register_parameter(dmm.v1, setpoints=(dac.ch1,))\n",
    "\n",
    "meas.write_period = 1  # We write to the database every 1 second\n",
    "\n",
    "first_param_list = []\n",
    "\n",
    "meas.add_subscriber(print_which_step, state=[])\n",
    "meas.add_subscriber(get_list_of_first_param, state=first_param_list)\n",
    "\n",
    "with meas.run() as datasaver:\n",
    "    for n in range(10):\n",
    "        datasaver.add_result((dac.ch1, n), (dmm.v1, n**2))\n",
    "        print(f'Added points to measurement, step {n}.')\n",
    "        print(f'First parameter value list: {first_param_list}')\n",
    "        sleep(0.5)"
   ]
  },
  {
   "cell_type": "markdown",
   "metadata": {},
   "source": [
    "## QCoDeS Array and MultiParameter"
   ]
  },
  {
   "cell_type": "markdown",
   "metadata": {},
   "source": [
    "The ``Measurement`` object supports automatic handling of ``Array`` and ``MultiParameters``. When registering these parameters \n",
    "the individual components are unpacked and added to the dataset as if they were separate parameters. Lets consider a ``MultiParamter`` with array components as the most general case.\n",
    "\n",
    "First lets use a dummy instrument that produces data as ``Array`` and ``MultiParameters``."
   ]
  },
  {
   "cell_type": "code",
   "execution_count": 47,
   "metadata": {
    "execution": {
     "iopub.execute_input": "2020-09-21T16:12:24.490857Z",
     "iopub.status.busy": "2020-09-21T16:12:24.490351Z",
     "iopub.status.idle": "2020-09-21T16:12:24.493917Z",
     "shell.execute_reply": "2020-09-21T16:12:24.493383Z"
    }
   },
   "outputs": [],
   "source": [
    "from qcodes.tests.instrument_mocks import DummyChannelInstrument"
   ]
  },
  {
   "cell_type": "code",
   "execution_count": 48,
   "metadata": {
    "execution": {
     "iopub.execute_input": "2020-09-21T16:12:24.513475Z",
     "iopub.status.busy": "2020-09-21T16:12:24.496386Z",
     "iopub.status.idle": "2020-09-21T16:12:24.516637Z",
     "shell.execute_reply": "2020-09-21T16:12:24.516022Z"
    }
   },
   "outputs": [],
   "source": [
    "mydummy = DummyChannelInstrument('MyDummy')"
   ]
  },
  {
   "cell_type": "markdown",
   "metadata": {},
   "source": [
    "This instrument produces two ``Array``s with the names, shapes and setpoints given below."
   ]
  },
  {
   "cell_type": "code",
   "execution_count": 49,
   "metadata": {
    "execution": {
     "iopub.execute_input": "2020-09-21T16:12:24.521248Z",
     "iopub.status.busy": "2020-09-21T16:12:24.520715Z",
     "iopub.status.idle": "2020-09-21T16:12:24.526286Z",
     "shell.execute_reply": "2020-09-21T16:12:24.525705Z"
    }
   },
   "outputs": [
    {
     "data": {
      "text/plain": [
       "('this', 'that')"
      ]
     },
     "execution_count": 1,
     "metadata": {},
     "output_type": "execute_result"
    }
   ],
   "source": [
    "mydummy.A.dummy_2d_multi_parameter.names"
   ]
  },
  {
   "cell_type": "code",
   "execution_count": 50,
   "metadata": {
    "execution": {
     "iopub.execute_input": "2020-09-21T16:12:24.530821Z",
     "iopub.status.busy": "2020-09-21T16:12:24.530322Z",
     "iopub.status.idle": "2020-09-21T16:12:24.535433Z",
     "shell.execute_reply": "2020-09-21T16:12:24.534972Z"
    }
   },
   "outputs": [
    {
     "data": {
      "text/plain": [
       "((5, 3), (5, 3))"
      ]
     },
     "execution_count": 1,
     "metadata": {},
     "output_type": "execute_result"
    }
   ],
   "source": [
    "mydummy.A.dummy_2d_multi_parameter.shapes"
   ]
  },
  {
   "cell_type": "code",
   "execution_count": 51,
   "metadata": {
    "execution": {
     "iopub.execute_input": "2020-09-21T16:12:24.539899Z",
     "iopub.status.busy": "2020-09-21T16:12:24.538089Z",
     "iopub.status.idle": "2020-09-21T16:12:24.542320Z",
     "shell.execute_reply": "2020-09-21T16:12:24.541882Z"
    }
   },
   "outputs": [
    {
     "data": {
      "text/plain": [
       "(('multi_2d_setpoint_param_this_setpoint',\n",
       "  'multi_2d_setpoint_param_that_setpoint'),\n",
       " ('multi_2d_setpoint_param_this_setpoint',\n",
       "  'multi_2d_setpoint_param_that_setpoint'))"
      ]
     },
     "execution_count": 1,
     "metadata": {},
     "output_type": "execute_result"
    }
   ],
   "source": [
    "mydummy.A.dummy_2d_multi_parameter.setpoint_names"
   ]
  },
  {
   "cell_type": "code",
   "execution_count": 52,
   "metadata": {
    "execution": {
     "iopub.execute_input": "2020-09-21T16:12:24.547389Z",
     "iopub.status.busy": "2020-09-21T16:12:24.546855Z",
     "iopub.status.idle": "2020-09-21T16:12:24.551953Z",
     "shell.execute_reply": "2020-09-21T16:12:24.551311Z"
    }
   },
   "outputs": [
    {
     "data": {
      "text/plain": [
       "{'this': ParamSpecBase('this', 'numeric', 'this label', 'this unit'),\n",
       " 'MyDummy_ChanA_multi_2d_setpoint_param_this_setpoint': ParamSpecBase('MyDummy_ChanA_multi_2d_setpoint_param_this_setpoint', 'numeric', 'this setpoint', 'this setpointunit'),\n",
       " 'MyDummy_ChanA_multi_2d_setpoint_param_that_setpoint': ParamSpecBase('MyDummy_ChanA_multi_2d_setpoint_param_that_setpoint', 'numeric', 'that setpoint', 'that setpointunit'),\n",
       " 'that': ParamSpecBase('that', 'numeric', 'that label', 'that unit')}"
      ]
     },
     "execution_count": 1,
     "metadata": {},
     "output_type": "execute_result"
    }
   ],
   "source": [
    "meas = Measurement(exp=exp)\n",
    "\n",
    "meas.register_parameter(mydummy.A.dummy_2d_multi_parameter)\n",
    "meas.parameters"
   ]
  },
  {
   "cell_type": "markdown",
   "metadata": {},
   "source": [
    "When adding the MultiParameter to the measurement we can see that we add each of the individual components as a \n",
    "separate parameter."
   ]
  },
  {
   "cell_type": "code",
   "execution_count": 53,
   "metadata": {
    "execution": {
     "iopub.execute_input": "2020-09-21T16:12:24.556251Z",
     "iopub.status.busy": "2020-09-21T16:12:24.555416Z",
     "iopub.status.idle": "2020-09-21T16:12:24.574080Z",
     "shell.execute_reply": "2020-09-21T16:12:24.573540Z"
    }
   },
   "outputs": [
    {
     "name": "stdout",
     "output_type": "stream",
     "text": [
      "Starting experimental run with id: 47. \n"
     ]
    }
   ],
   "source": [
    "with meas.run() as datasaver:\n",
    "    datasaver.add_result((mydummy.A.dummy_2d_multi_parameter, mydummy.A.dummy_2d_multi_parameter()))"
   ]
  },
  {
   "cell_type": "markdown",
   "metadata": {},
   "source": [
    "And when adding the result of a ``MultiParameter`` it is automatically unpacked into its components."
   ]
  },
  {
   "cell_type": "code",
   "execution_count": 54,
   "metadata": {
    "execution": {
     "iopub.execute_input": "2020-09-21T16:12:24.578901Z",
     "iopub.status.busy": "2020-09-21T16:12:24.578265Z",
     "iopub.status.idle": "2020-09-21T16:12:25.099769Z",
     "shell.execute_reply": "2020-09-21T16:12:25.099261Z"
    }
   },
   "outputs": [
    {
     "data": {
      "text/plain": [
       "([<AxesSubplot:title={'center':'Run #47, Experiment performing_meas_using_parameters_and_dataset (no sample)'}, xlabel='this setpoint (this setpointunit)', ylabel='that setpoint (that setpointunit)'>,\n",
       "  <AxesSubplot:title={'center':'Run #47, Experiment performing_meas_using_parameters_and_dataset (no sample)'}, xlabel='this setpoint (this setpointunit)', ylabel='that setpoint (that setpointunit)'>],\n",
       " [<matplotlib.colorbar.Colorbar at 0x7f017c178e10>,\n",
       "  <matplotlib.colorbar.Colorbar at 0x7f017c158650>])"
      ]
     },
     "execution_count": 1,
     "metadata": {},
     "output_type": "execute_result"
    },
    {
     "data": {
      "image/png": "[encoded data removed]",
      "text/plain": [
       "<Figure size 432x288 with 2 Axes>"
      ]
     },
     "metadata": {
      "needs_background": "light"
     },
     "output_type": "display_data"
    },
    {
     "data": {
      "image/png": "[encoded data removed]",
      "text/plain": [
       "<Figure size 432x288 with 2 Axes>"
      ]
     },
     "metadata": {
      "needs_background": "light"
     },
     "output_type": "display_data"
    }
   ],
   "source": [
    "plot_dataset(datasaver.dataset)"
   ]
  },
  {
   "cell_type": "code",
   "execution_count": 55,
   "metadata": {
    "execution": {
     "iopub.execute_input": "2020-09-21T16:12:25.103926Z",
     "iopub.status.busy": "2020-09-21T16:12:25.103305Z",
     "iopub.status.idle": "2020-09-21T16:12:25.109235Z",
     "shell.execute_reply": "2020-09-21T16:12:25.109775Z"
    }
   },
   "outputs": [
    {
     "data": {
      "text/plain": [
       "{'that': {'that': array([1, 1, 1, 1, 1, 1, 1, 1, 1, 1, 1, 1, 1, 1, 1]),\n",
       "  'MyDummy_ChanA_multi_2d_setpoint_param_this_setpoint': array([5, 5, 5, 6, 6, 6, 7, 7, 7, 8, 8, 8, 9, 9, 9]),\n",
       "  'MyDummy_ChanA_multi_2d_setpoint_param_that_setpoint': array([ 9, 10, 11,  9, 10, 11,  9, 10, 11,  9, 10, 11,  9, 10, 11])}}"
      ]
     },
     "execution_count": 1,
     "metadata": {},
     "output_type": "execute_result"
    }
   ],
   "source": [
    "datasaver.dataset.get_parameter_data('that')"
   ]
  },
  {
   "cell_type": "code",
   "execution_count": 56,
   "metadata": {
    "execution": {
     "iopub.execute_input": "2020-09-21T16:12:25.114148Z",
     "iopub.status.busy": "2020-09-21T16:12:25.113471Z",
     "iopub.status.idle": "2020-09-21T16:12:25.125887Z",
     "shell.execute_reply": "2020-09-21T16:12:25.126345Z"
    }
   },
   "outputs": [
    {
     "data": {
      "text/html": [
       "<div>\n",
       "<style scoped>\n",
       "    .dataframe tbody tr th:only-of-type {\n",
       "        vertical-align: middle;\n",
       "    }\n",
       "\n",
       "    .dataframe tbody tr th {\n",
       "        vertical-align: top;\n",
       "    }\n",
       "\n",
       "    .dataframe thead th {\n",
       "        text-align: right;\n",
       "    }\n",
       "</style>\n",
       "<table border=\"1\" class=\"dataframe\">\n",
       "  <thead>\n",
       "    <tr style=\"text-align: right;\">\n",
       "      <th></th>\n",
       "      <th></th>\n",
       "      <th>that</th>\n",
       "    </tr>\n",
       "    <tr>\n",
       "      <th>MyDummy_ChanA_multi_2d_setpoint_param_this_setpoint</th>\n",
       "      <th>MyDummy_ChanA_multi_2d_setpoint_param_that_setpoint</th>\n",
       "      <th></th>\n",
       "    </tr>\n",
       "  </thead>\n",
       "  <tbody>\n",
       "    <tr>\n",
       "      <th rowspan=\"3\" valign=\"top\">5</th>\n",
       "      <th>9</th>\n",
       "      <td>1</td>\n",
       "    </tr>\n",
       "    <tr>\n",
       "      <th>10</th>\n",
       "      <td>1</td>\n",
       "    </tr>\n",
       "    <tr>\n",
       "      <th>11</th>\n",
       "      <td>1</td>\n",
       "    </tr>\n",
       "    <tr>\n",
       "      <th rowspan=\"3\" valign=\"top\">6</th>\n",
       "      <th>9</th>\n",
       "      <td>1</td>\n",
       "    </tr>\n",
       "    <tr>\n",
       "      <th>10</th>\n",
       "      <td>1</td>\n",
       "    </tr>\n",
       "    <tr>\n",
       "      <th>11</th>\n",
       "      <td>1</td>\n",
       "    </tr>\n",
       "    <tr>\n",
       "      <th rowspan=\"3\" valign=\"top\">7</th>\n",
       "      <th>9</th>\n",
       "      <td>1</td>\n",
       "    </tr>\n",
       "    <tr>\n",
       "      <th>10</th>\n",
       "      <td>1</td>\n",
       "    </tr>\n",
       "    <tr>\n",
       "      <th>11</th>\n",
       "      <td>1</td>\n",
       "    </tr>\n",
       "    <tr>\n",
       "      <th rowspan=\"3\" valign=\"top\">8</th>\n",
       "      <th>9</th>\n",
       "      <td>1</td>\n",
       "    </tr>\n",
       "    <tr>\n",
       "      <th>10</th>\n",
       "      <td>1</td>\n",
       "    </tr>\n",
       "    <tr>\n",
       "      <th>11</th>\n",
       "      <td>1</td>\n",
       "    </tr>\n",
       "    <tr>\n",
       "      <th rowspan=\"3\" valign=\"top\">9</th>\n",
       "      <th>9</th>\n",
       "      <td>1</td>\n",
       "    </tr>\n",
       "    <tr>\n",
       "      <th>10</th>\n",
       "      <td>1</td>\n",
       "    </tr>\n",
       "    <tr>\n",
       "      <th>11</th>\n",
       "      <td>1</td>\n",
       "    </tr>\n",
       "  </tbody>\n",
       "</table>\n",
       "</div>"
      ],
      "text/plain": [
       "                                                                                                       that\n",
       "MyDummy_ChanA_multi_2d_setpoint_param_this_setp... MyDummy_ChanA_multi_2d_setpoint_param_that_setp...      \n",
       "5                                                  9                                                      1\n",
       "                                                   10                                                     1\n",
       "                                                   11                                                     1\n",
       "6                                                  9                                                      1\n",
       "                                                   10                                                     1\n",
       "                                                   11                                                     1\n",
       "7                                                  9                                                      1\n",
       "                                                   10                                                     1\n",
       "                                                   11                                                     1\n",
       "8                                                  9                                                      1\n",
       "                                                   10                                                     1\n",
       "                                                   11                                                     1\n",
       "9                                                  9                                                      1\n",
       "                                                   10                                                     1\n",
       "                                                   11                                                     1"
      ]
     },
     "execution_count": 1,
     "metadata": {},
     "output_type": "execute_result"
    }
   ],
   "source": [
    "datasaver.dataset.get_data_as_pandas_dataframe()['that']"
   ]
  },
  {
   "cell_type": "code",
   "execution_count": 57,
   "metadata": {
    "execution": {
     "iopub.execute_input": "2020-09-21T16:12:25.131320Z",
     "iopub.status.busy": "2020-09-21T16:12:25.130077Z",
     "iopub.status.idle": "2020-09-21T16:12:25.148968Z",
     "shell.execute_reply": "2020-09-21T16:12:25.149411Z"
    }
   },
   "outputs": [
    {
     "data": {
      "text/html": [
       "<div><svg style=\"position: absolute; width: 0; height: 0; overflow: hidden\">\n",
       "<defs>\n",
       "<symbol id=\"icon-database\" viewBox=\"0 0 32 32\">\n",
       "<path d=\"M16 0c-8.837 0-16 2.239-16 5v4c0 2.761 7.163 5 16 5s16-2.239 16-5v-4c0-2.761-7.163-5-16-5z\"></path>\n",
       "<path d=\"M16 17c-8.837 0-16-2.239-16-5v6c0 2.761 7.163 5 16 5s16-2.239 16-5v-6c0 2.761-7.163 5-16 5z\"></path>\n",
       "<path d=\"M16 26c-8.837 0-16-2.239-16-5v6c0 2.761 7.163 5 16 5s16-2.239 16-5v-6c0 2.761-7.163 5-16 5z\"></path>\n",
       "</symbol>\n",
       "<symbol id=\"icon-file-text2\" viewBox=\"0 0 32 32\">\n",
       "<path d=\"M28.681 7.159c-0.694-0.947-1.662-2.053-2.724-3.116s-2.169-2.030-3.116-2.724c-1.612-1.182-2.393-1.319-2.841-1.319h-15.5c-1.378 0-2.5 1.121-2.5 2.5v27c0 1.378 1.122 2.5 2.5 2.5h23c1.378 0 2.5-1.122 2.5-2.5v-19.5c0-0.448-0.137-1.23-1.319-2.841zM24.543 5.457c0.959 0.959 1.712 1.825 2.268 2.543h-4.811v-4.811c0.718 0.556 1.584 1.309 2.543 2.268zM28 29.5c0 0.271-0.229 0.5-0.5 0.5h-23c-0.271 0-0.5-0.229-0.5-0.5v-27c0-0.271 0.229-0.5 0.5-0.5 0 0 15.499-0 15.5 0v7c0 0.552 0.448 1 1 1h7v19.5z\"></path>\n",
       "<path d=\"M23 26h-14c-0.552 0-1-0.448-1-1s0.448-1 1-1h14c0.552 0 1 0.448 1 1s-0.448 1-1 1z\"></path>\n",
       "<path d=\"M23 22h-14c-0.552 0-1-0.448-1-1s0.448-1 1-1h14c0.552 0 1 0.448 1 1s-0.448 1-1 1z\"></path>\n",
       "<path d=\"M23 18h-14c-0.552 0-1-0.448-1-1s0.448-1 1-1h14c0.552 0 1 0.448 1 1s-0.448 1-1 1z\"></path>\n",
       "</symbol>\n",
       "</defs>\n",
       "</svg>\n",
       "<style>/* CSS stylesheet for displaying xarray objects in jupyterlab.\n",
       " *\n",
       " */\n",
       "\n",
       ":root {\n",
       "  --xr-font-color0: var(--jp-content-font-color0, rgba(0, 0, 0, 1));\n",
       "  --xr-font-color2: var(--jp-content-font-color2, rgba(0, 0, 0, 0.54));\n",
       "  --xr-font-color3: var(--jp-content-font-color3, rgba(0, 0, 0, 0.38));\n",
       "  --xr-border-color: var(--jp-border-color2, #e0e0e0);\n",
       "  --xr-disabled-color: var(--jp-layout-color3, #bdbdbd);\n",
       "  --xr-background-color: var(--jp-layout-color0, white);\n",
       "  --xr-background-color-row-even: var(--jp-layout-color1, white);\n",
       "  --xr-background-color-row-odd: var(--jp-layout-color2, #eeeeee);\n",
       "}\n",
       "\n",
       "html[theme=dark],\n",
       "body.vscode-dark {\n",
       "  --xr-font-color0: rgba(255, 255, 255, 1);\n",
       "  --xr-font-color2: rgba(255, 255, 255, 0.54);\n",
       "  --xr-font-color3: rgba(255, 255, 255, 0.38);\n",
       "  --xr-border-color: #1F1F1F;\n",
       "  --xr-disabled-color: #515151;\n",
       "  --xr-background-color: #111111;\n",
       "  --xr-background-color-row-even: #111111;\n",
       "  --xr-background-color-row-odd: #313131;\n",
       "}\n",
       "\n",
       ".xr-wrap {\n",
       "  display: block;\n",
       "  min-width: 300px;\n",
       "  max-width: 700px;\n",
       "}\n",
       "\n",
       ".xr-text-repr-fallback {\n",
       "  /* fallback to plain text repr when CSS is not injected (untrusted notebook) */\n",
       "  display: none;\n",
       "}\n",
       "\n",
       ".xr-header {\n",
       "  padding-top: 6px;\n",
       "  padding-bottom: 6px;\n",
       "  margin-bottom: 4px;\n",
       "  border-bottom: solid 1px var(--xr-border-color);\n",
       "}\n",
       "\n",
       ".xr-header > div,\n",
       ".xr-header > ul {\n",
       "  display: inline;\n",
       "  margin-top: 0;\n",
       "  margin-bottom: 0;\n",
       "}\n",
       "\n",
       ".xr-obj-type,\n",
       ".xr-array-name {\n",
       "  margin-left: 2px;\n",
       "  margin-right: 10px;\n",
       "}\n",
       "\n",
       ".xr-obj-type {\n",
       "  color: var(--xr-font-color2);\n",
       "}\n",
       "\n",
       ".xr-sections {\n",
       "  padding-left: 0 !important;\n",
       "  display: grid;\n",
       "  grid-template-columns: 150px auto auto 1fr 20px 20px;\n",
       "}\n",
       "\n",
       ".xr-section-item {\n",
       "  display: contents;\n",
       "}\n",
       "\n",
       ".xr-section-item input {\n",
       "  display: none;\n",
       "}\n",
       "\n",
       ".xr-section-item input + label {\n",
       "  color: var(--xr-disabled-color);\n",
       "}\n",
       "\n",
       ".xr-section-item input:enabled + label {\n",
       "  cursor: pointer;\n",
       "  color: var(--xr-font-color2);\n",
       "}\n",
       "\n",
       ".xr-section-item input:enabled + label:hover {\n",
       "  color: var(--xr-font-color0);\n",
       "}\n",
       "\n",
       ".xr-section-summary {\n",
       "  grid-column: 1;\n",
       "  color: var(--xr-font-color2);\n",
       "  font-weight: 500;\n",
       "}\n",
       "\n",
       ".xr-section-summary > span {\n",
       "  display: inline-block;\n",
       "  padding-left: 0.5em;\n",
       "}\n",
       "\n",
       ".xr-section-summary-in:disabled + label {\n",
       "  color: var(--xr-font-color2);\n",
       "}\n",
       "\n",
       ".xr-section-summary-in + label:before {\n",
       "  display: inline-block;\n",
       "  content: '►';\n",
       "  font-size: 11px;\n",
       "  width: 15px;\n",
       "  text-align: center;\n",
       "}\n",
       "\n",
       ".xr-section-summary-in:disabled + label:before {\n",
       "  color: var(--xr-disabled-color);\n",
       "}\n",
       "\n",
       ".xr-section-summary-in:checked + label:before {\n",
       "  content: '▼';\n",
       "}\n",
       "\n",
       ".xr-section-summary-in:checked + label > span {\n",
       "  display: none;\n",
       "}\n",
       "\n",
       ".xr-section-summary,\n",
       ".xr-section-inline-details {\n",
       "  padding-top: 4px;\n",
       "  padding-bottom: 4px;\n",
       "}\n",
       "\n",
       ".xr-section-inline-details {\n",
       "  grid-column: 2 / -1;\n",
       "}\n",
       "\n",
       ".xr-section-details {\n",
       "  display: none;\n",
       "  grid-column: 1 / -1;\n",
       "  margin-bottom: 5px;\n",
       "}\n",
       "\n",
       ".xr-section-summary-in:checked ~ .xr-section-details {\n",
       "  display: contents;\n",
       "}\n",
       "\n",
       ".xr-array-wrap {\n",
       "  grid-column: 1 / -1;\n",
       "  display: grid;\n",
       "  grid-template-columns: 20px auto;\n",
       "}\n",
       "\n",
       ".xr-array-wrap > label {\n",
       "  grid-column: 1;\n",
       "  vertical-align: top;\n",
       "}\n",
       "\n",
       ".xr-preview {\n",
       "  color: var(--xr-font-color3);\n",
       "}\n",
       "\n",
       ".xr-array-preview,\n",
       ".xr-array-data {\n",
       "  padding: 0 5px !important;\n",
       "  grid-column: 2;\n",
       "}\n",
       "\n",
       ".xr-array-data,\n",
       ".xr-array-in:checked ~ .xr-array-preview {\n",
       "  display: none;\n",
       "}\n",
       "\n",
       ".xr-array-in:checked ~ .xr-array-data,\n",
       ".xr-array-preview {\n",
       "  display: inline-block;\n",
       "}\n",
       "\n",
       ".xr-dim-list {\n",
       "  display: inline-block !important;\n",
       "  list-style: none;\n",
       "  padding: 0 !important;\n",
       "  margin: 0;\n",
       "}\n",
       "\n",
       ".xr-dim-list li {\n",
       "  display: inline-block;\n",
       "  padding: 0;\n",
       "  margin: 0;\n",
       "}\n",
       "\n",
       ".xr-dim-list:before {\n",
       "  content: '(';\n",
       "}\n",
       "\n",
       ".xr-dim-list:after {\n",
       "  content: ')';\n",
       "}\n",
       "\n",
       ".xr-dim-list li:not(:last-child):after {\n",
       "  content: ',';\n",
       "  padding-right: 5px;\n",
       "}\n",
       "\n",
       ".xr-has-index {\n",
       "  font-weight: bold;\n",
       "}\n",
       "\n",
       ".xr-var-list,\n",
       ".xr-var-item {\n",
       "  display: contents;\n",
       "}\n",
       "\n",
       ".xr-var-item > div,\n",
       ".xr-var-item label,\n",
       ".xr-var-item > .xr-var-name span {\n",
       "  background-color: var(--xr-background-color-row-even);\n",
       "  margin-bottom: 0;\n",
       "}\n",
       "\n",
       ".xr-var-item > .xr-var-name:hover span {\n",
       "  padding-right: 5px;\n",
       "}\n",
       "\n",
       ".xr-var-list > li:nth-child(odd) > div,\n",
       ".xr-var-list > li:nth-child(odd) > label,\n",
       ".xr-var-list > li:nth-child(odd) > .xr-var-name span {\n",
       "  background-color: var(--xr-background-color-row-odd);\n",
       "}\n",
       "\n",
       ".xr-var-name {\n",
       "  grid-column: 1;\n",
       "}\n",
       "\n",
       ".xr-var-dims {\n",
       "  grid-column: 2;\n",
       "}\n",
       "\n",
       ".xr-var-dtype {\n",
       "  grid-column: 3;\n",
       "  text-align: right;\n",
       "  color: var(--xr-font-color2);\n",
       "}\n",
       "\n",
       ".xr-var-preview {\n",
       "  grid-column: 4;\n",
       "}\n",
       "\n",
       ".xr-var-name,\n",
       ".xr-var-dims,\n",
       ".xr-var-dtype,\n",
       ".xr-preview,\n",
       ".xr-attrs dt {\n",
       "  white-space: nowrap;\n",
       "  overflow: hidden;\n",
       "  text-overflow: ellipsis;\n",
       "  padding-right: 10px;\n",
       "}\n",
       "\n",
       ".xr-var-name:hover,\n",
       ".xr-var-dims:hover,\n",
       ".xr-var-dtype:hover,\n",
       ".xr-attrs dt:hover {\n",
       "  overflow: visible;\n",
       "  width: auto;\n",
       "  z-index: 1;\n",
       "}\n",
       "\n",
       ".xr-var-attrs,\n",
       ".xr-var-data {\n",
       "  display: none;\n",
       "  background-color: var(--xr-background-color) !important;\n",
       "  padding-bottom: 5px !important;\n",
       "}\n",
       "\n",
       ".xr-var-attrs-in:checked ~ .xr-var-attrs,\n",
       ".xr-var-data-in:checked ~ .xr-var-data {\n",
       "  display: block;\n",
       "}\n",
       "\n",
       ".xr-var-data > table {\n",
       "  float: right;\n",
       "}\n",
       "\n",
       ".xr-var-name span,\n",
       ".xr-var-data,\n",
       ".xr-attrs {\n",
       "  padding-left: 25px !important;\n",
       "}\n",
       "\n",
       ".xr-attrs,\n",
       ".xr-var-attrs,\n",
       ".xr-var-data {\n",
       "  grid-column: 1 / -1;\n",
       "}\n",
       "\n",
       "dl.xr-attrs {\n",
       "  padding: 0;\n",
       "  margin: 0;\n",
       "  display: grid;\n",
       "  grid-template-columns: 125px auto;\n",
       "}\n",
       "\n",
       ".xr-attrs dt, dd {\n",
       "  padding: 0;\n",
       "  margin: 0;\n",
       "  float: left;\n",
       "  padding-right: 10px;\n",
       "  width: auto;\n",
       "}\n",
       "\n",
       ".xr-attrs dt {\n",
       "  font-weight: normal;\n",
       "  grid-column: 1;\n",
       "}\n",
       "\n",
       ".xr-attrs dt:hover span {\n",
       "  display: inline-block;\n",
       "  background: var(--xr-background-color);\n",
       "  padding-right: 10px;\n",
       "}\n",
       "\n",
       ".xr-attrs dd {\n",
       "  grid-column: 2;\n",
       "  white-space: pre-wrap;\n",
       "  word-break: break-all;\n",
       "}\n",
       "\n",
       ".xr-icon-database,\n",
       ".xr-icon-file-text2 {\n",
       "  display: inline-block;\n",
       "  vertical-align: middle;\n",
       "  width: 1em;\n",
       "  height: 1.5em !important;\n",
       "  stroke-width: 0;\n",
       "  stroke: currentColor;\n",
       "  fill: currentColor;\n",
       "}\n",
       "</style><pre class='xr-text-repr-fallback'>&lt;xarray.Dataset&gt;\n",
       "Dimensions:                                              (MyDummy_ChanA_multi_2d_setpoint_param_that_setpoint: 3, MyDummy_ChanA_multi_2d_setpoint_param_this_setpoint: 5)\n",
       "Coordinates:\n",
       "  * MyDummy_ChanA_multi_2d_setpoint_param_this_setpoint  (MyDummy_ChanA_multi_2d_setpoint_param_this_setpoint) int64 ...\n",
       "  * MyDummy_ChanA_multi_2d_setpoint_param_that_setpoint  (MyDummy_ChanA_multi_2d_setpoint_param_that_setpoint) int64 ...\n",
       "Data variables:\n",
       "    that                                                 (MyDummy_ChanA_multi_2d_setpoint_param_this_setpoint, MyDummy_ChanA_multi_2d_setpoint_param_that_setpoint) int64 ...</pre><div class='xr-wrap' hidden><div class='xr-header'><div class='xr-obj-type'>xarray.Dataset</div></div><ul class='xr-sections'><li class='xr-section-item'><input id='section-2f4f8cea-ab76-40ae-abfe-d6c9a5bb8ac4' class='xr-section-summary-in' type='checkbox' disabled ><label for='section-2f4f8cea-ab76-40ae-abfe-d6c9a5bb8ac4' class='xr-section-summary'  title='Expand/collapse section'>Dimensions:</label><div class='xr-section-inline-details'><ul class='xr-dim-list'><li><span class='xr-has-index'>MyDummy_ChanA_multi_2d_setpoint_param_that_setpoint</span>: 3</li><li><span class='xr-has-index'>MyDummy_ChanA_multi_2d_setpoint_param_this_setpoint</span>: 5</li></ul></div><div class='xr-section-details'></div></li><li class='xr-section-item'><input id='section-b2b55342-dc52-4a6a-8cbc-9d252fe17fef' class='xr-section-summary-in' type='checkbox'  checked><label for='section-b2b55342-dc52-4a6a-8cbc-9d252fe17fef' class='xr-section-summary' >Coordinates: <span>(2)</span></label><div class='xr-section-inline-details'></div><div class='xr-section-details'><ul class='xr-var-list'><li class='xr-var-item'><div class='xr-var-name'><span class='xr-has-index'>MyDummy_ChanA_multi_2d_setpoint_param_this_setpoint</span></div><div class='xr-var-dims'>(MyDummy_ChanA_multi_2d_setpoint_param_this_setpoint)</div><div class='xr-var-dtype'>int64</div><div class='xr-var-preview xr-preview'>5 6 7 8 9</div><input id='attrs-b993cc73-295c-4900-892a-739fa2aaa4f8' class='xr-var-attrs-in' type='checkbox' disabled><label for='attrs-b993cc73-295c-4900-892a-739fa2aaa4f8' title='Show/Hide attributes'><svg class='icon xr-icon-file-text2'><use xlink:href='#icon-file-text2'></use></svg></label><input id='data-6c633051-7f50-4366-ad95-86f33aa38a8e' class='xr-var-data-in' type='checkbox'><label for='data-6c633051-7f50-4366-ad95-86f33aa38a8e' title='Show/Hide data repr'><svg class='icon xr-icon-database'><use xlink:href='#icon-database'></use></svg></label><div class='xr-var-attrs'><dl class='xr-attrs'></dl></div><div class='xr-var-data'><pre>array([5, 6, 7, 8, 9])</pre></div></li><li class='xr-var-item'><div class='xr-var-name'><span class='xr-has-index'>MyDummy_ChanA_multi_2d_setpoint_param_that_setpoint</span></div><div class='xr-var-dims'>(MyDummy_ChanA_multi_2d_setpoint_param_that_setpoint)</div><div class='xr-var-dtype'>int64</div><div class='xr-var-preview xr-preview'>9 10 11</div><input id='attrs-0e027da1-959d-4cb5-8b0e-fc8387d5f2b8' class='xr-var-attrs-in' type='checkbox' disabled><label for='attrs-0e027da1-959d-4cb5-8b0e-fc8387d5f2b8' title='Show/Hide attributes'><svg class='icon xr-icon-file-text2'><use xlink:href='#icon-file-text2'></use></svg></label><input id='data-4c9d0986-7e30-4e6a-bdf6-2111e5d5a7d1' class='xr-var-data-in' type='checkbox'><label for='data-4c9d0986-7e30-4e6a-bdf6-2111e5d5a7d1' title='Show/Hide data repr'><svg class='icon xr-icon-database'><use xlink:href='#icon-database'></use></svg></label><div class='xr-var-attrs'><dl class='xr-attrs'></dl></div><div class='xr-var-data'><pre>array([ 9, 10, 11])</pre></div></li></ul></div></li><li class='xr-section-item'><input id='section-6842e061-db4f-4fe2-8490-944f21172c13' class='xr-section-summary-in' type='checkbox'  checked><label for='section-6842e061-db4f-4fe2-8490-944f21172c13' class='xr-section-summary' >Data variables: <span>(1)</span></label><div class='xr-section-inline-details'></div><div class='xr-section-details'><ul class='xr-var-list'><li class='xr-var-item'><div class='xr-var-name'><span>that</span></div><div class='xr-var-dims'>(MyDummy_ChanA_multi_2d_setpoint_param_this_setpoint, MyDummy_ChanA_multi_2d_setpoint_param_that_setpoint)</div><div class='xr-var-dtype'>int64</div><div class='xr-var-preview xr-preview'>1 1 1 1 1 1 1 1 1 1 1 1 1 1 1</div><input id='attrs-f6bc8f8f-f784-424b-ac23-6a4a652ed84f' class='xr-var-attrs-in' type='checkbox' disabled><label for='attrs-f6bc8f8f-f784-424b-ac23-6a4a652ed84f' title='Show/Hide attributes'><svg class='icon xr-icon-file-text2'><use xlink:href='#icon-file-text2'></use></svg></label><input id='data-daf1f74a-fe61-4b05-b195-5a01e59c7546' class='xr-var-data-in' type='checkbox'><label for='data-daf1f74a-fe61-4b05-b195-5a01e59c7546' title='Show/Hide data repr'><svg class='icon xr-icon-database'><use xlink:href='#icon-database'></use></svg></label><div class='xr-var-attrs'><dl class='xr-attrs'></dl></div><div class='xr-var-data'><pre>array([[1, 1, 1],\n",
       "       [1, 1, 1],\n",
       "       [1, 1, 1],\n",
       "       [1, 1, 1],\n",
       "       [1, 1, 1]])</pre></div></li></ul></div></li><li class='xr-section-item'><input id='section-0c3c3196-bfeb-450a-8980-6906abb54071' class='xr-section-summary-in' type='checkbox' disabled ><label for='section-0c3c3196-bfeb-450a-8980-6906abb54071' class='xr-section-summary'  title='Expand/collapse section'>Attributes: <span>(0)</span></label><div class='xr-section-inline-details'></div><div class='xr-section-details'><dl class='xr-attrs'></dl></div></li></ul></div></div>"
      ],
      "text/plain": [
       "<xarray.Dataset>\n",
       "Dimensions:                                              (MyDummy_ChanA_multi_2d_setpoint_param_that_setpoint: 3, MyDummy_ChanA_multi_2d_setpoint_param_this_setpoint: 5)\n",
       "Coordinates:\n",
       "  * MyDummy_ChanA_multi_2d_setpoint_param_this_setpoint  (MyDummy_ChanA_multi_2d_setpoint_param_this_setpoint) int64 ...\n",
       "  * MyDummy_ChanA_multi_2d_setpoint_param_that_setpoint  (MyDummy_ChanA_multi_2d_setpoint_param_that_setpoint) int64 ...\n",
       "Data variables:\n",
       "    that                                                 (MyDummy_ChanA_multi_2d_setpoint_param_this_setpoint, MyDummy_ChanA_multi_2d_setpoint_param_that_setpoint) int64 ..."
      ]
     },
     "execution_count": 1,
     "metadata": {},
     "output_type": "execute_result"
    }
   ],
   "source": [
    "datasaver.dataset.get_data_as_pandas_dataframe()['that'].to_xarray()"
   ]
  },
  {
   "cell_type": "code",
   "execution_count": null,
   "metadata": {},
   "outputs": [],
   "source": []
  }
 ],
 "metadata": {
  "kernelspec": {
   "display_name": "Python 3",
   "language": "python",
   "name": "python3"
  },
  "language_info": {
   "codemirror_mode": {
    "name": "ipython",
    "version": 3
   },
   "file_extension": ".py",
   "mimetype": "text/x-python",
   "name": "python",
   "nbconvert_exporter": "python",
   "pygments_lexer": "ipython3",
   "version": "3.7.7"
  },
  "nbsphinx": {
   "timeout": 60
  },
  "toc": {
   "base_numbering": 1,
   "nav_menu": {},
   "number_sections": true,
   "sideBar": true,
   "skip_h1_title": false,
   "title_cell": "Table of Contents",
   "title_sidebar": "Contents",
   "toc_cell": false,
   "toc_position": {},
   "toc_section_display": true,
   "toc_window_display": false
  },
  "varInspector": {
   "cols": {
    "lenName": 16,
    "lenType": 16,
    "lenVar": 40
   },
   "kernels_config": {
    "python": {
     "delete_cmd_postfix": "",
     "delete_cmd_prefix": "del ",
     "library": "var_list.py",
     "varRefreshCmd": "print(var_dic_list())"
    },
    "r": {
     "delete_cmd_postfix": ") ",
     "delete_cmd_prefix": "rm(",
     "library": "var_list.r",
     "varRefreshCmd": "cat(var_dic_list()) "
    }
   },
   "types_to_exclude": [
    "module",
    "function",
    "builtin_function_or_method",
    "instance",
    "_Feature"
   ],
   "window_display": false
  }
 },
 "nbformat": 4,
 "nbformat_minor": 4
}
