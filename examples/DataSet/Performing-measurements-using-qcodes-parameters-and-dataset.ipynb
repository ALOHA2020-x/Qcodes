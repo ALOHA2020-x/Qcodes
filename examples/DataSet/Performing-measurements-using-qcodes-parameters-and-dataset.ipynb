{
 "cells": [
  {
   "cell_type": "markdown",
   "metadata": {},
   "source": [
    "# Performing measurements using QCoDeS parameters and DataSet"
   ]
  },
  {
   "cell_type": "markdown",
   "metadata": {},
   "source": [
    "This notebook shows some ways of performing different measurements using \n",
    "QCoDeS parameters and the [DataSet](DataSet-class-walkthrough.ipynb) via a powerful ``Measurement`` context manager. Here, it is assumed that the reader has some degree of familiarity with fundamental objects and methods of QCoDeS."
   ]
  },
  {
   "cell_type": "markdown",
   "metadata": {},
   "source": [
    "## Implementing a measurement"
   ]
  },
  {
   "cell_type": "markdown",
   "metadata": {},
   "source": [
    "Now, let us start with necessary imports:"
   ]
  },
  {
   "cell_type": "code",
   "execution_count": 1,
   "metadata": {
    "execution": {
     "iopub.execute_input": "2021-02-16T08:55:24.658185Z",
     "iopub.status.busy": "2021-02-16T08:55:24.657646Z",
     "iopub.status.idle": "2021-02-16T08:55:26.355007Z",
     "shell.execute_reply": "2021-02-16T08:55:26.355476Z"
    }
   },
   "outputs": [
    {
     "name": "stdout",
     "output_type": "stream",
     "text": [
      "Logging hadn't been started.\n",
      "Activating auto-logging. Current session state plus future input saved.\n",
      "Filename       : /home/runner/.qcodes/logs/command_history.log\n",
      "Mode           : append\n",
      "Output logging : True\n",
      "Raw input log  : False\n",
      "Timestamping   : True\n",
      "State          : active\n"
     ]
    },
    {
     "name": "stdout",
     "output_type": "stream",
     "text": [
      "Qcodes Logfile : /home/runner/.qcodes/logs/210216-4783-qcodes.log\n",
      "Activating auto-logging. Current session state plus future input saved.\n",
      "Filename       : /home/runner/.qcodes/logs/command_history.log\n",
      "Mode           : append\n",
      "Output logging : True\n",
      "Raw input log  : False\n",
      "Timestamping   : True\n",
      "State          : active\n"
     ]
    },
    {
     "name": "stdout",
     "output_type": "stream",
     "text": [
      "Qcodes Logfile : /home/runner/.qcodes/logs/210216-4783-qcodes.log\n"
     ]
    }
   ],
   "source": [
    "%matplotlib inline\n",
    "import numpy.random as rd\n",
    "import matplotlib.pyplot as plt\n",
    "import numpy as np\n",
    "\n",
    "from time import sleep, monotonic\n",
    "\n",
    "import qcodes as qc\n",
    "from qcodes import Station, load_or_create_experiment, \\\n",
    "    initialise_database, Measurement, load_by_run_spec, load_by_guid\n",
    "from qcodes.tests.instrument_mocks import DummyInstrument, DummyInstrumentWithMeasurement\n",
    "from qcodes.dataset.plotting import plot_dataset\n",
    "from qcodes.dataset.descriptions.detect_shapes import detect_shape_of_measurement\n",
    "\n",
    "qc.logger.start_all_logging()"
   ]
  },
  {
   "cell_type": "markdown",
   "metadata": {},
   "source": [
    "In what follows, we shall define some utility functions as well as declare our dummy instruments. We, then, add these instruments to a ``Station`` object. \n",
    "\n",
    "The dummy dmm is setup to generate an output depending on the values set on the dummy dac simulating a real experiment."
   ]
  },
  {
   "cell_type": "code",
   "execution_count": 2,
   "metadata": {
    "execution": {
     "iopub.execute_input": "2021-02-16T08:55:26.365159Z",
     "iopub.status.busy": "2021-02-16T08:55:26.364604Z",
     "iopub.status.idle": "2021-02-16T08:55:26.368806Z",
     "shell.execute_reply": "2021-02-16T08:55:26.368343Z"
    }
   },
   "outputs": [],
   "source": [
    "# preparatory mocking of physical setup\n",
    "\n",
    "dac = DummyInstrument('dac', gates=['ch1', 'ch2'])\n",
    "dmm = DummyInstrumentWithMeasurement(name='dmm', setter_instr=dac)\n",
    "\n",
    "station = qc.Station(dmm, dac)"
   ]
  },
  {
   "cell_type": "code",
   "execution_count": 3,
   "metadata": {
    "execution": {
     "iopub.execute_input": "2021-02-16T08:55:26.374285Z",
     "iopub.status.busy": "2021-02-16T08:55:26.372836Z",
     "iopub.status.idle": "2021-02-16T08:55:26.375006Z",
     "shell.execute_reply": "2021-02-16T08:55:26.375426Z"
    }
   },
   "outputs": [],
   "source": [
    "# now make some silly set-up and tear-down actions\n",
    "\n",
    "def veryfirst():\n",
    "    print('Starting the measurement')\n",
    "\n",
    "def numbertwo(inst1, inst2):\n",
    "    print('Doing stuff with the following two instruments: {}, {}'.format(inst1, inst2))\n",
    "    \n",
    "def thelast():\n",
    "    print('End of experiment')"
   ]
  },
  {
   "cell_type": "markdown",
   "metadata": {},
   "source": [
    "**Note** that database and experiments may be missing.\n",
    "\n",
    "If this is the first time you create a dataset, the underlying database file has\n",
    "most likely not been created. The following cell creates the database file. Please\n",
    "refer to documentation on [`The Experiment Container`](The-Experiment-Container.ipynb) for details.\n",
    "\n",
    "Furthermore, datasets are associated to an experiment. By default, a dataset (or \"run\")\n",
    "is appended to the latest existing experiments. If no experiment has been created,\n",
    "we must create one. We do that by calling the `load_or_create_experiment` function.\n",
    "\n",
    "Here we explicitly pass the loaded or created experiment to the `Measurement` object to ensure that we are always\n",
    "using the `performing_meas_using_parameters_and_dataset` `Experiment` created within this tutorial."
   ]
  },
  {
   "cell_type": "code",
   "execution_count": 4,
   "metadata": {
    "execution": {
     "iopub.execute_input": "2021-02-16T08:55:26.379206Z",
     "iopub.status.busy": "2021-02-16T08:55:26.378631Z",
     "iopub.status.idle": "2021-02-16T08:55:26.397244Z",
     "shell.execute_reply": "2021-02-16T08:55:26.397859Z"
    }
   },
   "outputs": [],
   "source": [
    "initialise_database()\n",
    "exp = load_or_create_experiment(\n",
    "    experiment_name='performing_meas_using_parameters_and_dataset',\n",
    "    sample_name=\"no sample\"\n",
    ")"
   ]
  },
  {
   "cell_type": "markdown",
   "metadata": {},
   "source": [
    "And then run an experiment:"
   ]
  },
  {
   "cell_type": "code",
   "execution_count": 5,
   "metadata": {
    "execution": {
     "iopub.execute_input": "2021-02-16T08:55:26.406588Z",
     "iopub.status.busy": "2021-02-16T08:55:26.405681Z",
     "iopub.status.idle": "2021-02-16T08:55:26.433649Z",
     "shell.execute_reply": "2021-02-16T08:55:26.434090Z"
    }
   },
   "outputs": [
    {
     "name": "stdout",
     "output_type": "stream",
     "text": [
      "Starting the measurement\n",
      "Doing stuff with the following two instruments: <DummyInstrumentWithMeasurement: dmm>, <DummyInstrument: dac>\n",
      "Starting experimental run with id: 33. \n",
      "End of experiment\n"
     ]
    }
   ],
   "source": [
    "meas = Measurement(exp=exp)\n",
    "meas.register_parameter(dac.ch1)  # register the first independent parameter\n",
    "meas.register_parameter(dmm.v1, setpoints=(dac.ch1,))  # now register the dependent oone\n",
    "\n",
    "meas.add_before_run(veryfirst, ())  # add a set-up action\n",
    "meas.add_before_run(numbertwo, (dmm, dac))  # add another set-up action\n",
    "meas.add_after_run(thelast, ())  # add a tear-down action\n",
    "\n",
    "meas.write_period = 0.5\n",
    "\n",
    "with meas.run() as datasaver:             \n",
    "    for set_v in np.linspace(0, 25, 10):\n",
    "        dac.ch1.set(set_v)\n",
    "        get_v = dmm.v1.get()\n",
    "        datasaver.add_result((dac.ch1, set_v),\n",
    "                             (dmm.v1, get_v))\n",
    "    \n",
    "    dataset = datasaver.dataset  # convenient to have for data access and plotting"
   ]
  },
  {
   "cell_type": "code",
   "execution_count": 6,
   "metadata": {
    "execution": {
     "iopub.execute_input": "2021-02-16T08:55:26.439309Z",
     "iopub.status.busy": "2021-02-16T08:55:26.437832Z",
     "iopub.status.idle": "2021-02-16T08:55:26.439926Z",
     "shell.execute_reply": "2021-02-16T08:55:26.440345Z"
    }
   },
   "outputs": [],
   "source": [
    "dataset1D = dataset  # we'll need this dataset in further sections"
   ]
  },
  {
   "cell_type": "code",
   "execution_count": 7,
   "metadata": {
    "execution": {
     "iopub.execute_input": "2021-02-16T08:55:26.444167Z",
     "iopub.status.busy": "2021-02-16T08:55:26.443565Z",
     "iopub.status.idle": "2021-02-16T08:55:26.616582Z",
     "shell.execute_reply": "2021-02-16T08:55:26.615897Z"
    }
   },
   "outputs": [
    {
     "data": {
      "image/png": "[encoded data removed]",
      "text/plain": [
       "<Figure size 432x288 with 1 Axes>"
      ]
     },
     "metadata": {
      "needs_background": "light"
     },
     "output_type": "display_data"
    }
   ],
   "source": [
    "ax, cbax = plot_dataset(dataset1D)"
   ]
  },
  {
   "cell_type": "markdown",
   "metadata": {},
   "source": [
    "And let's add an example of a 2D measurement. For the 2D, we'll need a new batch of parameters, notably one with two \n",
    "other parameters as setpoints. We therefore define a new Measurement with new parameters."
   ]
  },
  {
   "cell_type": "code",
   "execution_count": 8,
   "metadata": {
    "execution": {
     "iopub.execute_input": "2021-02-16T08:55:26.622993Z",
     "iopub.status.busy": "2021-02-16T08:55:26.620919Z",
     "iopub.status.idle": "2021-02-16T08:55:26.626018Z",
     "shell.execute_reply": "2021-02-16T08:55:26.626449Z"
    }
   },
   "outputs": [
    {
     "data": {
      "text/plain": [
       "<qcodes.dataset.measurements.Measurement at 0x7f1e8e235ad0>"
      ]
     },
     "execution_count": 1,
     "metadata": {},
     "output_type": "execute_result"
    }
   ],
   "source": [
    "meas = Measurement(exp=exp)\n",
    "meas.register_parameter(dac.ch1)  # register the first independent parameter\n",
    "meas.register_parameter(dac.ch2)  # register the second independent parameter\n",
    "meas.register_parameter(dmm.v2, setpoints=(dac.ch1, dac.ch2))  # now register the dependent oone"
   ]
  },
  {
   "cell_type": "code",
   "execution_count": 9,
   "metadata": {
    "execution": {
     "iopub.execute_input": "2021-02-16T08:55:26.631213Z",
     "iopub.status.busy": "2021-02-16T08:55:26.630224Z",
     "iopub.status.idle": "2021-02-16T08:55:37.342138Z",
     "shell.execute_reply": "2021-02-16T08:55:37.341644Z"
    }
   },
   "outputs": [
    {
     "name": "stdout",
     "output_type": "stream",
     "text": [
      "Starting experimental run with id: 34. \n"
     ]
    }
   ],
   "source": [
    "# run a 2D sweep\n",
    "\n",
    "with meas.run() as datasaver:\n",
    "\n",
    "    for v1 in np.linspace(-1, 1, 200):\n",
    "        for v2 in np.linspace(-1, 1, 200):\n",
    "            dac.ch1(v1)\n",
    "            dac.ch2(v2)\n",
    "            val = dmm.v2.get()\n",
    "            datasaver.add_result((dac.ch1, v1),\n",
    "                                 (dac.ch2, v2),\n",
    "                                 (dmm.v2, val))\n",
    "            \n",
    "    dataset2D = datasaver.dataset"
   ]
  },
  {
   "cell_type": "code",
   "execution_count": 10,
   "metadata": {
    "execution": {
     "iopub.execute_input": "2021-02-16T08:55:37.346009Z",
     "iopub.status.busy": "2021-02-16T08:55:37.345369Z",
     "iopub.status.idle": "2021-02-16T08:55:38.170550Z",
     "shell.execute_reply": "2021-02-16T08:55:38.173369Z"
    }
   },
   "outputs": [
    {
     "data": {
      "image/png": "[encoded data removed]",
      "text/plain": [
       "<Figure size 432x288 with 2 Axes>"
      ]
     },
     "metadata": {
      "needs_background": "light"
     },
     "output_type": "display_data"
    }
   ],
   "source": [
    "ax, cbax = plot_dataset(dataset2D)"
   ]
  },
  {
   "cell_type": "markdown",
   "metadata": {},
   "source": [
    "## Accessing and exporting the measured data"
   ]
  },
  {
   "cell_type": "markdown",
   "metadata": {},
   "source": [
    "QCoDeS ``DataSet`` implements a number of methods for accessing the data of a given dataset. Here we will concentrate on the two most user friendly methods. For a more detailed walkthrough of the `DataSet` class, refer to [DataSet class walkthrough](DataSet-class-walkthrough.ipynb) notebook."
   ]
  },
  {
   "cell_type": "markdown",
   "metadata": {},
   "source": [
    "The method `get_parameter_data` returns the data as a dictionary of ``numpy`` arrays. The dictionary is indexed by the measured (dependent) parameter in the outermost level and the names of the dependent and independent parameters in the innermost level. The first parameter in the innermost level is always the dependent parameter."
   ]
  },
  {
   "cell_type": "code",
   "execution_count": 11,
   "metadata": {
    "execution": {
     "iopub.execute_input": "2021-02-16T08:55:38.178400Z",
     "iopub.status.busy": "2021-02-16T08:55:38.177701Z",
     "iopub.status.idle": "2021-02-16T08:55:38.185678Z",
     "shell.execute_reply": "2021-02-16T08:55:38.185162Z"
    }
   },
   "outputs": [
    {
     "data": {
      "text/plain": [
       "{'dmm_v1': {'dmm_v1': array([ 4.94572968,  2.84530975,  1.65736276,  0.87660027,  0.5702857 ,\n",
       "          0.34845436,  0.39719231,  0.04748693, -0.14802221,  0.14968459]),\n",
       "  'dac_ch1': array([ 0.        ,  2.77777778,  5.55555556,  8.33333333, 11.11111111,\n",
       "         13.88888889, 16.66666667, 19.44444444, 22.22222222, 25.        ])}}"
      ]
     },
     "execution_count": 1,
     "metadata": {},
     "output_type": "execute_result"
    }
   ],
   "source": [
    "dataset1D.get_parameter_data()"
   ]
  },
  {
   "cell_type": "markdown",
   "metadata": {},
   "source": [
    "By default `get_parameter_data` returns all data stored in the dataset. The data that is specific to one or more measured parameters can be returned by passing the parameter name(s) or by using `ParamSpec` object:"
   ]
  },
  {
   "cell_type": "code",
   "execution_count": 12,
   "metadata": {
    "execution": {
     "iopub.execute_input": "2021-02-16T08:55:38.190758Z",
     "iopub.status.busy": "2021-02-16T08:55:38.190183Z",
     "iopub.status.idle": "2021-02-16T08:55:38.196082Z",
     "shell.execute_reply": "2021-02-16T08:55:38.196561Z"
    }
   },
   "outputs": [
    {
     "data": {
      "text/plain": [
       "{'dmm_v1': {'dmm_v1': array([ 4.94572968,  2.84530975,  1.65736276,  0.87660027,  0.5702857 ,\n",
       "          0.34845436,  0.39719231,  0.04748693, -0.14802221,  0.14968459]),\n",
       "  'dac_ch1': array([ 0.        ,  2.77777778,  5.55555556,  8.33333333, 11.11111111,\n",
       "         13.88888889, 16.66666667, 19.44444444, 22.22222222, 25.        ])}}"
      ]
     },
     "execution_count": 1,
     "metadata": {},
     "output_type": "execute_result"
    }
   ],
   "source": [
    "dataset1D.get_parameter_data('dmm_v1')"
   ]
  },
  {
   "cell_type": "markdown",
   "metadata": {},
   "source": [
    "You can also simply fetch the data for one or more dependent parameter"
   ]
  },
  {
   "cell_type": "code",
   "execution_count": 13,
   "metadata": {
    "execution": {
     "iopub.execute_input": "2021-02-16T08:55:38.201011Z",
     "iopub.status.busy": "2021-02-16T08:55:38.199955Z",
     "iopub.status.idle": "2021-02-16T08:55:38.204483Z",
     "shell.execute_reply": "2021-02-16T08:55:38.204939Z"
    }
   },
   "outputs": [
    {
     "data": {
      "text/plain": [
       "{'dac_ch1': {'dac_ch1': array([ 0.        ,  2.77777778,  5.55555556,  8.33333333, 11.11111111,\n",
       "         13.88888889, 16.66666667, 19.44444444, 22.22222222, 25.        ])}}"
      ]
     },
     "execution_count": 1,
     "metadata": {},
     "output_type": "execute_result"
    }
   ],
   "source": [
    "dataset1D.get_parameter_data('dac_ch1')"
   ]
  },
  {
   "cell_type": "markdown",
   "metadata": {},
   "source": [
    "For more details about accessing data of a given `DataSet`, see [Accessing data in DataSet notebook](Accessing-data-in-DataSet.ipynb)."
   ]
  },
  {
   "cell_type": "markdown",
   "metadata": {},
   "source": [
    "The data can also be exported as one or more [Pandas](https://pandas.pydata.org/) DataFrames. \n",
    "The DataFrames cane be returned either as a single dataframe or as a dictionary from measured parameters to DataFrames.\n",
    "If you measure all parameters as a function of the same set of parameters you probably want to export to a single dataframe."
   ]
  },
  {
   "cell_type": "code",
   "execution_count": 14,
   "metadata": {
    "execution": {
     "iopub.execute_input": "2021-02-16T08:55:38.208897Z",
     "iopub.status.busy": "2021-02-16T08:55:38.208160Z",
     "iopub.status.idle": "2021-02-16T08:55:38.426841Z",
     "shell.execute_reply": "2021-02-16T08:55:38.427514Z"
    }
   },
   "outputs": [
    {
     "data": {
      "text/html": [
       "<div>\n",
       "<style scoped>\n",
       "    .dataframe tbody tr th:only-of-type {\n",
       "        vertical-align: middle;\n",
       "    }\n",
       "\n",
       "    .dataframe tbody tr th {\n",
       "        vertical-align: top;\n",
       "    }\n",
       "\n",
       "    .dataframe thead th {\n",
       "        text-align: right;\n",
       "    }\n",
       "</style>\n",
       "<table border=\"1\" class=\"dataframe\">\n",
       "  <thead>\n",
       "    <tr style=\"text-align: right;\">\n",
       "      <th></th>\n",
       "      <th>dmm_v1</th>\n",
       "    </tr>\n",
       "    <tr>\n",
       "      <th>dac_ch1</th>\n",
       "      <th></th>\n",
       "    </tr>\n",
       "  </thead>\n",
       "  <tbody>\n",
       "    <tr>\n",
       "      <th>0.000000</th>\n",
       "      <td>4.945730</td>\n",
       "    </tr>\n",
       "    <tr>\n",
       "      <th>2.777778</th>\n",
       "      <td>2.845310</td>\n",
       "    </tr>\n",
       "    <tr>\n",
       "      <th>5.555556</th>\n",
       "      <td>1.657363</td>\n",
       "    </tr>\n",
       "    <tr>\n",
       "      <th>8.333333</th>\n",
       "      <td>0.876600</td>\n",
       "    </tr>\n",
       "    <tr>\n",
       "      <th>11.111111</th>\n",
       "      <td>0.570286</td>\n",
       "    </tr>\n",
       "    <tr>\n",
       "      <th>13.888889</th>\n",
       "      <td>0.348454</td>\n",
       "    </tr>\n",
       "    <tr>\n",
       "      <th>16.666667</th>\n",
       "      <td>0.397192</td>\n",
       "    </tr>\n",
       "    <tr>\n",
       "      <th>19.444444</th>\n",
       "      <td>0.047487</td>\n",
       "    </tr>\n",
       "    <tr>\n",
       "      <th>22.222222</th>\n",
       "      <td>-0.148022</td>\n",
       "    </tr>\n",
       "    <tr>\n",
       "      <th>25.000000</th>\n",
       "      <td>0.149685</td>\n",
       "    </tr>\n",
       "  </tbody>\n",
       "</table>\n",
       "</div>"
      ],
      "text/plain": [
       "             dmm_v1\n",
       "dac_ch1            \n",
       "0.000000   4.945730\n",
       "2.777778   2.845310\n",
       "5.555556   1.657363\n",
       "8.333333   0.876600\n",
       "11.111111  0.570286\n",
       "13.888889  0.348454\n",
       "16.666667  0.397192\n",
       "19.444444  0.047487\n",
       "22.222222 -0.148022\n",
       "25.000000  0.149685"
      ]
     },
     "execution_count": 1,
     "metadata": {},
     "output_type": "execute_result"
    }
   ],
   "source": [
    "dataset1D.to_pandas_dataframe()"
   ]
  },
  {
   "cell_type": "markdown",
   "metadata": {},
   "source": [
    "However, there may be cases where the data within a dataset cannot be put into a single dataframe. \n",
    "In those cases you can use the other method to export the dataset to a dictionary from name of the measured parameter to Pandas dataframes."
   ]
  },
  {
   "cell_type": "code",
   "execution_count": 15,
   "metadata": {
    "execution": {
     "iopub.execute_input": "2021-02-16T08:55:38.432407Z",
     "iopub.status.busy": "2021-02-16T08:55:38.431681Z",
     "iopub.status.idle": "2021-02-16T08:55:38.438239Z",
     "shell.execute_reply": "2021-02-16T08:55:38.438652Z"
    }
   },
   "outputs": [
    {
     "data": {
      "text/plain": [
       "{'dmm_v1':              dmm_v1\n",
       " dac_ch1            \n",
       " 0.000000   4.945730\n",
       " 2.777778   2.845310\n",
       " 5.555556   1.657363\n",
       " 8.333333   0.876600\n",
       " 11.111111  0.570286\n",
       " 13.888889  0.348454\n",
       " 16.666667  0.397192\n",
       " 19.444444  0.047487\n",
       " 22.222222 -0.148022\n",
       " 25.000000  0.149685}"
      ]
     },
     "execution_count": 1,
     "metadata": {},
     "output_type": "execute_result"
    }
   ],
   "source": [
    "dataset1D.to_pandas_dataframe_dict()"
   ]
  },
  {
   "cell_type": "markdown",
   "metadata": {},
   "source": [
    "When exporting a two or higher dimensional datasets as a Pandas DataFrame a [MultiIndex](https://pandas.pydata.org/pandas-docs/stable/user_guide/advanced.html) is used to index the measured parameter based on all the dependencies"
   ]
  },
  {
   "cell_type": "code",
   "execution_count": 16,
   "metadata": {
    "execution": {
     "iopub.execute_input": "2021-02-16T08:55:38.442989Z",
     "iopub.status.busy": "2021-02-16T08:55:38.442238Z",
     "iopub.status.idle": "2021-02-16T08:55:38.993363Z",
     "shell.execute_reply": "2021-02-16T08:55:38.994156Z"
    },
    "scrolled": true
   },
   "outputs": [
    {
     "data": {
      "text/html": [
       "<div>\n",
       "<style scoped>\n",
       "    .dataframe tbody tr th:only-of-type {\n",
       "        vertical-align: middle;\n",
       "    }\n",
       "\n",
       "    .dataframe tbody tr th {\n",
       "        vertical-align: top;\n",
       "    }\n",
       "\n",
       "    .dataframe thead th {\n",
       "        text-align: right;\n",
       "    }\n",
       "</style>\n",
       "<table border=\"1\" class=\"dataframe\">\n",
       "  <thead>\n",
       "    <tr style=\"text-align: right;\">\n",
       "      <th></th>\n",
       "      <th></th>\n",
       "      <th>dmm_v2</th>\n",
       "    </tr>\n",
       "    <tr>\n",
       "      <th>dac_ch1</th>\n",
       "      <th>dac_ch2</th>\n",
       "      <th></th>\n",
       "    </tr>\n",
       "  </thead>\n",
       "  <tbody>\n",
       "    <tr>\n",
       "      <th rowspan=\"10\" valign=\"top\">-1.0</th>\n",
       "      <th>-1.000000</th>\n",
       "      <td>0.000558</td>\n",
       "    </tr>\n",
       "    <tr>\n",
       "      <th>-0.989950</th>\n",
       "      <td>0.000076</td>\n",
       "    </tr>\n",
       "    <tr>\n",
       "      <th>-0.979899</th>\n",
       "      <td>-0.000857</td>\n",
       "    </tr>\n",
       "    <tr>\n",
       "      <th>-0.969849</th>\n",
       "      <td>-0.000414</td>\n",
       "    </tr>\n",
       "    <tr>\n",
       "      <th>-0.959799</th>\n",
       "      <td>-0.000668</td>\n",
       "    </tr>\n",
       "    <tr>\n",
       "      <th>-0.949749</th>\n",
       "      <td>0.000467</td>\n",
       "    </tr>\n",
       "    <tr>\n",
       "      <th>-0.939698</th>\n",
       "      <td>-0.000031</td>\n",
       "    </tr>\n",
       "    <tr>\n",
       "      <th>-0.929648</th>\n",
       "      <td>-0.000086</td>\n",
       "    </tr>\n",
       "    <tr>\n",
       "      <th>-0.919598</th>\n",
       "      <td>-0.000679</td>\n",
       "    </tr>\n",
       "    <tr>\n",
       "      <th>-0.909548</th>\n",
       "      <td>-0.000556</td>\n",
       "    </tr>\n",
       "  </tbody>\n",
       "</table>\n",
       "</div>"
      ],
      "text/plain": [
       "                     dmm_v2\n",
       "dac_ch1 dac_ch2            \n",
       "-1.0    -1.000000  0.000558\n",
       "        -0.989950  0.000076\n",
       "        -0.979899 -0.000857\n",
       "        -0.969849 -0.000414\n",
       "        -0.959799 -0.000668\n",
       "        -0.949749  0.000467\n",
       "        -0.939698 -0.000031\n",
       "        -0.929648 -0.000086\n",
       "        -0.919598 -0.000679\n",
       "        -0.909548 -0.000556"
      ]
     },
     "execution_count": 1,
     "metadata": {},
     "output_type": "execute_result"
    }
   ],
   "source": [
    "dataset2D.to_pandas_dataframe()[0:10]"
   ]
  },
  {
   "cell_type": "markdown",
   "metadata": {},
   "source": [
    "If your data is on a regular grid it may make sense to view the data as an [XArray](https://pandas.pydata.org/pandas-docs/stable/user_guide/advanced.html) Dataset. The dataset can be directly exported to a XArray Dataset."
   ]
  },
  {
   "cell_type": "code",
   "execution_count": 17,
   "metadata": {
    "execution": {
     "iopub.execute_input": "2021-02-16T08:55:38.998764Z",
     "iopub.status.busy": "2021-02-16T08:55:38.998110Z",
     "iopub.status.idle": "2021-02-16T08:55:40.227897Z",
     "shell.execute_reply": "2021-02-16T08:55:40.227365Z"
    }
   },
   "outputs": [
    {
     "data": {
      "text/html": [
       "<div><svg style=\"position: absolute; width: 0; height: 0; overflow: hidden\">\n",
       "<defs>\n",
       "<symbol id=\"icon-database\" viewBox=\"0 0 32 32\">\n",
       "<path d=\"M16 0c-8.837 0-16 2.239-16 5v4c0 2.761 7.163 5 16 5s16-2.239 16-5v-4c0-2.761-7.163-5-16-5z\"></path>\n",
       "<path d=\"M16 17c-8.837 0-16-2.239-16-5v6c0 2.761 7.163 5 16 5s16-2.239 16-5v-6c0 2.761-7.163 5-16 5z\"></path>\n",
       "<path d=\"M16 26c-8.837 0-16-2.239-16-5v6c0 2.761 7.163 5 16 5s16-2.239 16-5v-6c0 2.761-7.163 5-16 5z\"></path>\n",
       "</symbol>\n",
       "<symbol id=\"icon-file-text2\" viewBox=\"0 0 32 32\">\n",
       "<path d=\"M28.681 7.159c-0.694-0.947-1.662-2.053-2.724-3.116s-2.169-2.030-3.116-2.724c-1.612-1.182-2.393-1.319-2.841-1.319h-15.5c-1.378 0-2.5 1.121-2.5 2.5v27c0 1.378 1.122 2.5 2.5 2.5h23c1.378 0 2.5-1.122 2.5-2.5v-19.5c0-0.448-0.137-1.23-1.319-2.841zM24.543 5.457c0.959 0.959 1.712 1.825 2.268 2.543h-4.811v-4.811c0.718 0.556 1.584 1.309 2.543 2.268zM28 29.5c0 0.271-0.229 0.5-0.5 0.5h-23c-0.271 0-0.5-0.229-0.5-0.5v-27c0-0.271 0.229-0.5 0.5-0.5 0 0 15.499-0 15.5 0v7c0 0.552 0.448 1 1 1h7v19.5z\"></path>\n",
       "<path d=\"M23 26h-14c-0.552 0-1-0.448-1-1s0.448-1 1-1h14c0.552 0 1 0.448 1 1s-0.448 1-1 1z\"></path>\n",
       "<path d=\"M23 22h-14c-0.552 0-1-0.448-1-1s0.448-1 1-1h14c0.552 0 1 0.448 1 1s-0.448 1-1 1z\"></path>\n",
       "<path d=\"M23 18h-14c-0.552 0-1-0.448-1-1s0.448-1 1-1h14c0.552 0 1 0.448 1 1s-0.448 1-1 1z\"></path>\n",
       "</symbol>\n",
       "</defs>\n",
       "</svg>\n",
       "<style>/* CSS stylesheet for displaying xarray objects in jupyterlab.\n",
       " *\n",
       " */\n",
       "\n",
       ":root {\n",
       "  --xr-font-color0: var(--jp-content-font-color0, rgba(0, 0, 0, 1));\n",
       "  --xr-font-color2: var(--jp-content-font-color2, rgba(0, 0, 0, 0.54));\n",
       "  --xr-font-color3: var(--jp-content-font-color3, rgba(0, 0, 0, 0.38));\n",
       "  --xr-border-color: var(--jp-border-color2, #e0e0e0);\n",
       "  --xr-disabled-color: var(--jp-layout-color3, #bdbdbd);\n",
       "  --xr-background-color: var(--jp-layout-color0, white);\n",
       "  --xr-background-color-row-even: var(--jp-layout-color1, white);\n",
       "  --xr-background-color-row-odd: var(--jp-layout-color2, #eeeeee);\n",
       "}\n",
       "\n",
       "html[theme=dark],\n",
       "body.vscode-dark {\n",
       "  --xr-font-color0: rgba(255, 255, 255, 1);\n",
       "  --xr-font-color2: rgba(255, 255, 255, 0.54);\n",
       "  --xr-font-color3: rgba(255, 255, 255, 0.38);\n",
       "  --xr-border-color: #1F1F1F;\n",
       "  --xr-disabled-color: #515151;\n",
       "  --xr-background-color: #111111;\n",
       "  --xr-background-color-row-even: #111111;\n",
       "  --xr-background-color-row-odd: #313131;\n",
       "}\n",
       "\n",
       ".xr-wrap {\n",
       "  display: block;\n",
       "  min-width: 300px;\n",
       "  max-width: 700px;\n",
       "}\n",
       "\n",
       ".xr-text-repr-fallback {\n",
       "  /* fallback to plain text repr when CSS is not injected (untrusted notebook) */\n",
       "  display: none;\n",
       "}\n",
       "\n",
       ".xr-header {\n",
       "  padding-top: 6px;\n",
       "  padding-bottom: 6px;\n",
       "  margin-bottom: 4px;\n",
       "  border-bottom: solid 1px var(--xr-border-color);\n",
       "}\n",
       "\n",
       ".xr-header > div,\n",
       ".xr-header > ul {\n",
       "  display: inline;\n",
       "  margin-top: 0;\n",
       "  margin-bottom: 0;\n",
       "}\n",
       "\n",
       ".xr-obj-type,\n",
       ".xr-array-name {\n",
       "  margin-left: 2px;\n",
       "  margin-right: 10px;\n",
       "}\n",
       "\n",
       ".xr-obj-type {\n",
       "  color: var(--xr-font-color2);\n",
       "}\n",
       "\n",
       ".xr-sections {\n",
       "  padding-left: 0 !important;\n",
       "  display: grid;\n",
       "  grid-template-columns: 150px auto auto 1fr 20px 20px;\n",
       "}\n",
       "\n",
       ".xr-section-item {\n",
       "  display: contents;\n",
       "}\n",
       "\n",
       ".xr-section-item input {\n",
       "  display: none;\n",
       "}\n",
       "\n",
       ".xr-section-item input + label {\n",
       "  color: var(--xr-disabled-color);\n",
       "}\n",
       "\n",
       ".xr-section-item input:enabled + label {\n",
       "  cursor: pointer;\n",
       "  color: var(--xr-font-color2);\n",
       "}\n",
       "\n",
       ".xr-section-item input:enabled + label:hover {\n",
       "  color: var(--xr-font-color0);\n",
       "}\n",
       "\n",
       ".xr-section-summary {\n",
       "  grid-column: 1;\n",
       "  color: var(--xr-font-color2);\n",
       "  font-weight: 500;\n",
       "}\n",
       "\n",
       ".xr-section-summary > span {\n",
       "  display: inline-block;\n",
       "  padding-left: 0.5em;\n",
       "}\n",
       "\n",
       ".xr-section-summary-in:disabled + label {\n",
       "  color: var(--xr-font-color2);\n",
       "}\n",
       "\n",
       ".xr-section-summary-in + label:before {\n",
       "  display: inline-block;\n",
       "  content: '►';\n",
       "  font-size: 11px;\n",
       "  width: 15px;\n",
       "  text-align: center;\n",
       "}\n",
       "\n",
       ".xr-section-summary-in:disabled + label:before {\n",
       "  color: var(--xr-disabled-color);\n",
       "}\n",
       "\n",
       ".xr-section-summary-in:checked + label:before {\n",
       "  content: '▼';\n",
       "}\n",
       "\n",
       ".xr-section-summary-in:checked + label > span {\n",
       "  display: none;\n",
       "}\n",
       "\n",
       ".xr-section-summary,\n",
       ".xr-section-inline-details {\n",
       "  padding-top: 4px;\n",
       "  padding-bottom: 4px;\n",
       "}\n",
       "\n",
       ".xr-section-inline-details {\n",
       "  grid-column: 2 / -1;\n",
       "}\n",
       "\n",
       ".xr-section-details {\n",
       "  display: none;\n",
       "  grid-column: 1 / -1;\n",
       "  margin-bottom: 5px;\n",
       "}\n",
       "\n",
       ".xr-section-summary-in:checked ~ .xr-section-details {\n",
       "  display: contents;\n",
       "}\n",
       "\n",
       ".xr-array-wrap {\n",
       "  grid-column: 1 / -1;\n",
       "  display: grid;\n",
       "  grid-template-columns: 20px auto;\n",
       "}\n",
       "\n",
       ".xr-array-wrap > label {\n",
       "  grid-column: 1;\n",
       "  vertical-align: top;\n",
       "}\n",
       "\n",
       ".xr-preview {\n",
       "  color: var(--xr-font-color3);\n",
       "}\n",
       "\n",
       ".xr-array-preview,\n",
       ".xr-array-data {\n",
       "  padding: 0 5px !important;\n",
       "  grid-column: 2;\n",
       "}\n",
       "\n",
       ".xr-array-data,\n",
       ".xr-array-in:checked ~ .xr-array-preview {\n",
       "  display: none;\n",
       "}\n",
       "\n",
       ".xr-array-in:checked ~ .xr-array-data,\n",
       ".xr-array-preview {\n",
       "  display: inline-block;\n",
       "}\n",
       "\n",
       ".xr-dim-list {\n",
       "  display: inline-block !important;\n",
       "  list-style: none;\n",
       "  padding: 0 !important;\n",
       "  margin: 0;\n",
       "}\n",
       "\n",
       ".xr-dim-list li {\n",
       "  display: inline-block;\n",
       "  padding: 0;\n",
       "  margin: 0;\n",
       "}\n",
       "\n",
       ".xr-dim-list:before {\n",
       "  content: '(';\n",
       "}\n",
       "\n",
       ".xr-dim-list:after {\n",
       "  content: ')';\n",
       "}\n",
       "\n",
       ".xr-dim-list li:not(:last-child):after {\n",
       "  content: ',';\n",
       "  padding-right: 5px;\n",
       "}\n",
       "\n",
       ".xr-has-index {\n",
       "  font-weight: bold;\n",
       "}\n",
       "\n",
       ".xr-var-list,\n",
       ".xr-var-item {\n",
       "  display: contents;\n",
       "}\n",
       "\n",
       ".xr-var-item > div,\n",
       ".xr-var-item label,\n",
       ".xr-var-item > .xr-var-name span {\n",
       "  background-color: var(--xr-background-color-row-even);\n",
       "  margin-bottom: 0;\n",
       "}\n",
       "\n",
       ".xr-var-item > .xr-var-name:hover span {\n",
       "  padding-right: 5px;\n",
       "}\n",
       "\n",
       ".xr-var-list > li:nth-child(odd) > div,\n",
       ".xr-var-list > li:nth-child(odd) > label,\n",
       ".xr-var-list > li:nth-child(odd) > .xr-var-name span {\n",
       "  background-color: var(--xr-background-color-row-odd);\n",
       "}\n",
       "\n",
       ".xr-var-name {\n",
       "  grid-column: 1;\n",
       "}\n",
       "\n",
       ".xr-var-dims {\n",
       "  grid-column: 2;\n",
       "}\n",
       "\n",
       ".xr-var-dtype {\n",
       "  grid-column: 3;\n",
       "  text-align: right;\n",
       "  color: var(--xr-font-color2);\n",
       "}\n",
       "\n",
       ".xr-var-preview {\n",
       "  grid-column: 4;\n",
       "}\n",
       "\n",
       ".xr-var-name,\n",
       ".xr-var-dims,\n",
       ".xr-var-dtype,\n",
       ".xr-preview,\n",
       ".xr-attrs dt {\n",
       "  white-space: nowrap;\n",
       "  overflow: hidden;\n",
       "  text-overflow: ellipsis;\n",
       "  padding-right: 10px;\n",
       "}\n",
       "\n",
       ".xr-var-name:hover,\n",
       ".xr-var-dims:hover,\n",
       ".xr-var-dtype:hover,\n",
       ".xr-attrs dt:hover {\n",
       "  overflow: visible;\n",
       "  width: auto;\n",
       "  z-index: 1;\n",
       "}\n",
       "\n",
       ".xr-var-attrs,\n",
       ".xr-var-data {\n",
       "  display: none;\n",
       "  background-color: var(--xr-background-color) !important;\n",
       "  padding-bottom: 5px !important;\n",
       "}\n",
       "\n",
       ".xr-var-attrs-in:checked ~ .xr-var-attrs,\n",
       ".xr-var-data-in:checked ~ .xr-var-data {\n",
       "  display: block;\n",
       "}\n",
       "\n",
       ".xr-var-data > table {\n",
       "  float: right;\n",
       "}\n",
       "\n",
       ".xr-var-name span,\n",
       ".xr-var-data,\n",
       ".xr-attrs {\n",
       "  padding-left: 25px !important;\n",
       "}\n",
       "\n",
       ".xr-attrs,\n",
       ".xr-var-attrs,\n",
       ".xr-var-data {\n",
       "  grid-column: 1 / -1;\n",
       "}\n",
       "\n",
       "dl.xr-attrs {\n",
       "  padding: 0;\n",
       "  margin: 0;\n",
       "  display: grid;\n",
       "  grid-template-columns: 125px auto;\n",
       "}\n",
       "\n",
       ".xr-attrs dt,\n",
       ".xr-attrs dd {\n",
       "  padding: 0;\n",
       "  margin: 0;\n",
       "  float: left;\n",
       "  padding-right: 10px;\n",
       "  width: auto;\n",
       "}\n",
       "\n",
       ".xr-attrs dt {\n",
       "  font-weight: normal;\n",
       "  grid-column: 1;\n",
       "}\n",
       "\n",
       ".xr-attrs dt:hover span {\n",
       "  display: inline-block;\n",
       "  background: var(--xr-background-color);\n",
       "  padding-right: 10px;\n",
       "}\n",
       "\n",
       ".xr-attrs dd {\n",
       "  grid-column: 2;\n",
       "  white-space: pre-wrap;\n",
       "  word-break: break-all;\n",
       "}\n",
       "\n",
       ".xr-icon-database,\n",
       ".xr-icon-file-text2 {\n",
       "  display: inline-block;\n",
       "  vertical-align: middle;\n",
       "  width: 1em;\n",
       "  height: 1.5em !important;\n",
       "  stroke-width: 0;\n",
       "  stroke: currentColor;\n",
       "  fill: currentColor;\n",
       "}\n",
       "</style><pre class='xr-text-repr-fallback'>&lt;xarray.Dataset&gt;\n",
       "Dimensions:  (dac_ch1: 200, dac_ch2: 200)\n",
       "Coordinates:\n",
       "  * dac_ch1  (dac_ch1) float64 -1.0 -0.9899 -0.9799 ... 0.9799 0.9899 1.0\n",
       "  * dac_ch2  (dac_ch2) float64 -1.0 -0.9899 -0.9799 ... 0.9799 0.9899 1.0\n",
       "Data variables:\n",
       "    dmm_v2   (dac_ch1, dac_ch2) float64 0.0005577 7.594e-05 ... -0.0003956\n",
       "Attributes:\n",
       "    sample_name:  no sample\n",
       "    exp_name:     performing_meas_using_parameters_and_dataset</pre><div class='xr-wrap' hidden><div class='xr-header'><div class='xr-obj-type'>xarray.Dataset</div></div><ul class='xr-sections'><li class='xr-section-item'><input id='section-c8fbe376-1403-4a41-aa75-26ddc22e2f02' class='xr-section-summary-in' type='checkbox' disabled ><label for='section-c8fbe376-1403-4a41-aa75-26ddc22e2f02' class='xr-section-summary'  title='Expand/collapse section'>Dimensions:</label><div class='xr-section-inline-details'><ul class='xr-dim-list'><li><span class='xr-has-index'>dac_ch1</span>: 200</li><li><span class='xr-has-index'>dac_ch2</span>: 200</li></ul></div><div class='xr-section-details'></div></li><li class='xr-section-item'><input id='section-87f2bac5-f988-4841-84d0-e8c4fc84f653' class='xr-section-summary-in' type='checkbox'  checked><label for='section-87f2bac5-f988-4841-84d0-e8c4fc84f653' class='xr-section-summary' >Coordinates: <span>(2)</span></label><div class='xr-section-inline-details'></div><div class='xr-section-details'><ul class='xr-var-list'><li class='xr-var-item'><div class='xr-var-name'><span class='xr-has-index'>dac_ch1</span></div><div class='xr-var-dims'>(dac_ch1)</div><div class='xr-var-dtype'>float64</div><div class='xr-var-preview xr-preview'>-1.0 -0.9899 -0.9799 ... 0.9899 1.0</div><input id='attrs-cce8708f-1b61-4353-92c8-20e1d5aed14f' class='xr-var-attrs-in' type='checkbox' ><label for='attrs-cce8708f-1b61-4353-92c8-20e1d5aed14f' title='Show/Hide attributes'><svg class='icon xr-icon-file-text2'><use xlink:href='#icon-file-text2'></use></svg></label><input id='data-d2d534ac-1edc-4038-9c6e-d231d78692f1' class='xr-var-data-in' type='checkbox'><label for='data-d2d534ac-1edc-4038-9c6e-d231d78692f1' title='Show/Hide data repr'><svg class='icon xr-icon-database'><use xlink:href='#icon-database'></use></svg></label><div class='xr-var-attrs'><dl class='xr-attrs'><dt><span>name :</span></dt><dd>dac_ch1</dd><dt><span>paramtype :</span></dt><dd>numeric</dd><dt><span>label :</span></dt><dd>Gate ch1</dd><dt><span>unit :</span></dt><dd>V</dd><dt><span>inferred_from :</span></dt><dd>[]</dd><dt><span>depends_on :</span></dt><dd>[]</dd></dl></div><div class='xr-var-data'><pre>array([-1.      , -0.98995 , -0.979899, -0.969849, -0.959799, -0.949749,\n",
       "       -0.939698, -0.929648, -0.919598, -0.909548, -0.899497, -0.889447,\n",
       "       -0.879397, -0.869347, -0.859296, -0.849246, -0.839196, -0.829146,\n",
       "       -0.819095, -0.809045, -0.798995, -0.788945, -0.778894, -0.768844,\n",
       "       -0.758794, -0.748744, -0.738693, -0.728643, -0.718593, -0.708543,\n",
       "       -0.698492, -0.688442, -0.678392, -0.668342, -0.658291, -0.648241,\n",
       "       -0.638191, -0.628141, -0.61809 , -0.60804 , -0.59799 , -0.58794 ,\n",
       "       -0.577889, -0.567839, -0.557789, -0.547739, -0.537688, -0.527638,\n",
       "       -0.517588, -0.507538, -0.497487, -0.487437, -0.477387, -0.467337,\n",
       "       -0.457286, -0.447236, -0.437186, -0.427136, -0.417085, -0.407035,\n",
       "       -0.396985, -0.386935, -0.376884, -0.366834, -0.356784, -0.346734,\n",
       "       -0.336683, -0.326633, -0.316583, -0.306533, -0.296482, -0.286432,\n",
       "       -0.276382, -0.266332, -0.256281, -0.246231, -0.236181, -0.226131,\n",
       "       -0.21608 , -0.20603 , -0.19598 , -0.18593 , -0.175879, -0.165829,\n",
       "       -0.155779, -0.145729, -0.135678, -0.125628, -0.115578, -0.105528,\n",
       "       -0.095477, -0.085427, -0.075377, -0.065327, -0.055276, -0.045226,\n",
       "       -0.035176, -0.025126, -0.015075, -0.005025,  0.005025,  0.015075,\n",
       "        0.025126,  0.035176,  0.045226,  0.055276,  0.065327,  0.075377,\n",
       "        0.085427,  0.095477,  0.105528,  0.115578,  0.125628,  0.135678,\n",
       "        0.145729,  0.155779,  0.165829,  0.175879,  0.18593 ,  0.19598 ,\n",
       "        0.20603 ,  0.21608 ,  0.226131,  0.236181,  0.246231,  0.256281,\n",
       "        0.266332,  0.276382,  0.286432,  0.296482,  0.306533,  0.316583,\n",
       "        0.326633,  0.336683,  0.346734,  0.356784,  0.366834,  0.376884,\n",
       "        0.386935,  0.396985,  0.407035,  0.417085,  0.427136,  0.437186,\n",
       "        0.447236,  0.457286,  0.467337,  0.477387,  0.487437,  0.497487,\n",
       "        0.507538,  0.517588,  0.527638,  0.537688,  0.547739,  0.557789,\n",
       "        0.567839,  0.577889,  0.58794 ,  0.59799 ,  0.60804 ,  0.61809 ,\n",
       "        0.628141,  0.638191,  0.648241,  0.658291,  0.668342,  0.678392,\n",
       "        0.688442,  0.698492,  0.708543,  0.718593,  0.728643,  0.738693,\n",
       "        0.748744,  0.758794,  0.768844,  0.778894,  0.788945,  0.798995,\n",
       "        0.809045,  0.819095,  0.829146,  0.839196,  0.849246,  0.859296,\n",
       "        0.869347,  0.879397,  0.889447,  0.899497,  0.909548,  0.919598,\n",
       "        0.929648,  0.939698,  0.949749,  0.959799,  0.969849,  0.979899,\n",
       "        0.98995 ,  1.      ])</pre></div></li><li class='xr-var-item'><div class='xr-var-name'><span class='xr-has-index'>dac_ch2</span></div><div class='xr-var-dims'>(dac_ch2)</div><div class='xr-var-dtype'>float64</div><div class='xr-var-preview xr-preview'>-1.0 -0.9899 -0.9799 ... 0.9899 1.0</div><input id='attrs-9ea7c1f9-977b-4917-b9d5-dfa87114b8ab' class='xr-var-attrs-in' type='checkbox' ><label for='attrs-9ea7c1f9-977b-4917-b9d5-dfa87114b8ab' title='Show/Hide attributes'><svg class='icon xr-icon-file-text2'><use xlink:href='#icon-file-text2'></use></svg></label><input id='data-86825c47-0b0c-46d3-9648-da6f5a39ea09' class='xr-var-data-in' type='checkbox'><label for='data-86825c47-0b0c-46d3-9648-da6f5a39ea09' title='Show/Hide data repr'><svg class='icon xr-icon-database'><use xlink:href='#icon-database'></use></svg></label><div class='xr-var-attrs'><dl class='xr-attrs'><dt><span>name :</span></dt><dd>dac_ch2</dd><dt><span>paramtype :</span></dt><dd>numeric</dd><dt><span>label :</span></dt><dd>Gate ch2</dd><dt><span>unit :</span></dt><dd>V</dd><dt><span>inferred_from :</span></dt><dd>[]</dd><dt><span>depends_on :</span></dt><dd>[]</dd></dl></div><div class='xr-var-data'><pre>array([-1.      , -0.98995 , -0.979899, -0.969849, -0.959799, -0.949749,\n",
       "       -0.939698, -0.929648, -0.919598, -0.909548, -0.899497, -0.889447,\n",
       "       -0.879397, -0.869347, -0.859296, -0.849246, -0.839196, -0.829146,\n",
       "       -0.819095, -0.809045, -0.798995, -0.788945, -0.778894, -0.768844,\n",
       "       -0.758794, -0.748744, -0.738693, -0.728643, -0.718593, -0.708543,\n",
       "       -0.698492, -0.688442, -0.678392, -0.668342, -0.658291, -0.648241,\n",
       "       -0.638191, -0.628141, -0.61809 , -0.60804 , -0.59799 , -0.58794 ,\n",
       "       -0.577889, -0.567839, -0.557789, -0.547739, -0.537688, -0.527638,\n",
       "       -0.517588, -0.507538, -0.497487, -0.487437, -0.477387, -0.467337,\n",
       "       -0.457286, -0.447236, -0.437186, -0.427136, -0.417085, -0.407035,\n",
       "       -0.396985, -0.386935, -0.376884, -0.366834, -0.356784, -0.346734,\n",
       "       -0.336683, -0.326633, -0.316583, -0.306533, -0.296482, -0.286432,\n",
       "       -0.276382, -0.266332, -0.256281, -0.246231, -0.236181, -0.226131,\n",
       "       -0.21608 , -0.20603 , -0.19598 , -0.18593 , -0.175879, -0.165829,\n",
       "       -0.155779, -0.145729, -0.135678, -0.125628, -0.115578, -0.105528,\n",
       "       -0.095477, -0.085427, -0.075377, -0.065327, -0.055276, -0.045226,\n",
       "       -0.035176, -0.025126, -0.015075, -0.005025,  0.005025,  0.015075,\n",
       "        0.025126,  0.035176,  0.045226,  0.055276,  0.065327,  0.075377,\n",
       "        0.085427,  0.095477,  0.105528,  0.115578,  0.125628,  0.135678,\n",
       "        0.145729,  0.155779,  0.165829,  0.175879,  0.18593 ,  0.19598 ,\n",
       "        0.20603 ,  0.21608 ,  0.226131,  0.236181,  0.246231,  0.256281,\n",
       "        0.266332,  0.276382,  0.286432,  0.296482,  0.306533,  0.316583,\n",
       "        0.326633,  0.336683,  0.346734,  0.356784,  0.366834,  0.376884,\n",
       "        0.386935,  0.396985,  0.407035,  0.417085,  0.427136,  0.437186,\n",
       "        0.447236,  0.457286,  0.467337,  0.477387,  0.487437,  0.497487,\n",
       "        0.507538,  0.517588,  0.527638,  0.537688,  0.547739,  0.557789,\n",
       "        0.567839,  0.577889,  0.58794 ,  0.59799 ,  0.60804 ,  0.61809 ,\n",
       "        0.628141,  0.638191,  0.648241,  0.658291,  0.668342,  0.678392,\n",
       "        0.688442,  0.698492,  0.708543,  0.718593,  0.728643,  0.738693,\n",
       "        0.748744,  0.758794,  0.768844,  0.778894,  0.788945,  0.798995,\n",
       "        0.809045,  0.819095,  0.829146,  0.839196,  0.849246,  0.859296,\n",
       "        0.869347,  0.879397,  0.889447,  0.899497,  0.909548,  0.919598,\n",
       "        0.929648,  0.939698,  0.949749,  0.959799,  0.969849,  0.979899,\n",
       "        0.98995 ,  1.      ])</pre></div></li></ul></div></li><li class='xr-section-item'><input id='section-6afc8d1e-07b3-43a0-9424-63543654f61a' class='xr-section-summary-in' type='checkbox'  checked><label for='section-6afc8d1e-07b3-43a0-9424-63543654f61a' class='xr-section-summary' >Data variables: <span>(1)</span></label><div class='xr-section-inline-details'></div><div class='xr-section-details'><ul class='xr-var-list'><li class='xr-var-item'><div class='xr-var-name'><span>dmm_v2</span></div><div class='xr-var-dims'>(dac_ch1, dac_ch2)</div><div class='xr-var-dtype'>float64</div><div class='xr-var-preview xr-preview'>0.0005577 7.594e-05 ... -0.0003956</div><input id='attrs-0a6aa2f3-dc81-4109-a191-9572259dd636' class='xr-var-attrs-in' type='checkbox' ><label for='attrs-0a6aa2f3-dc81-4109-a191-9572259dd636' title='Show/Hide attributes'><svg class='icon xr-icon-file-text2'><use xlink:href='#icon-file-text2'></use></svg></label><input id='data-cc91109c-e0d6-465c-b053-bcae296d7c3a' class='xr-var-data-in' type='checkbox'><label for='data-cc91109c-e0d6-465c-b053-bcae296d7c3a' title='Show/Hide data repr'><svg class='icon xr-icon-database'><use xlink:href='#icon-database'></use></svg></label><div class='xr-var-attrs'><dl class='xr-attrs'><dt><span>name :</span></dt><dd>dmm_v2</dd><dt><span>paramtype :</span></dt><dd>numeric</dd><dt><span>label :</span></dt><dd>Gate v2</dd><dt><span>unit :</span></dt><dd>V</dd><dt><span>inferred_from :</span></dt><dd>[]</dd><dt><span>depends_on :</span></dt><dd>[&#x27;dac_ch1&#x27;, &#x27;dac_ch2&#x27;]</dd></dl></div><div class='xr-var-data'><pre>array([[ 5.57685046e-04,  7.59394975e-05, -8.57043289e-04, ...,\n",
       "         1.68003192e-04, -1.17727827e-04, -8.94971431e-04],\n",
       "       [-5.24195806e-04,  4.35537983e-04,  3.17718795e-04, ...,\n",
       "         3.09520840e-04,  3.25164121e-04, -5.72198014e-04],\n",
       "       [-4.35373977e-04, -1.86808341e-04,  1.52016224e-04, ...,\n",
       "         7.33883273e-04, -2.59883048e-05,  2.09933197e-04],\n",
       "       ...,\n",
       "       [ 7.47896569e-04, -6.68272239e-04,  5.23435249e-05, ...,\n",
       "        -7.38777877e-04, -3.06008859e-04, -4.46570869e-04],\n",
       "       [-7.83919744e-04, -3.14451716e-04, -2.22048252e-04, ...,\n",
       "        -4.74078248e-04,  9.51448953e-05,  3.52676051e-04],\n",
       "       [-2.41436187e-04,  2.21986777e-04,  1.40237050e-04, ...,\n",
       "        -3.72610945e-04,  3.06403120e-04, -3.95624445e-04]])</pre></div></li></ul></div></li><li class='xr-section-item'><input id='section-4755f88c-2130-415f-b4aa-3f00bd913c9e' class='xr-section-summary-in' type='checkbox'  checked><label for='section-4755f88c-2130-415f-b4aa-3f00bd913c9e' class='xr-section-summary' >Attributes: <span>(2)</span></label><div class='xr-section-inline-details'></div><div class='xr-section-details'><dl class='xr-attrs'><dt><span>sample_name :</span></dt><dd>no sample</dd><dt><span>exp_name :</span></dt><dd>performing_meas_using_parameters_and_dataset</dd></dl></div></li></ul></div></div>"
      ],
      "text/plain": [
       "<xarray.Dataset>\n",
       "Dimensions:  (dac_ch1: 200, dac_ch2: 200)\n",
       "Coordinates:\n",
       "  * dac_ch1  (dac_ch1) float64 -1.0 -0.9899 -0.9799 ... 0.9799 0.9899 1.0\n",
       "  * dac_ch2  (dac_ch2) float64 -1.0 -0.9899 -0.9799 ... 0.9799 0.9899 1.0\n",
       "Data variables:\n",
       "    dmm_v2   (dac_ch1, dac_ch2) float64 0.0005577 7.594e-05 ... -0.0003956\n",
       "Attributes:\n",
       "    sample_name:  no sample\n",
       "    exp_name:     performing_meas_using_parameters_and_dataset"
      ]
     },
     "execution_count": 1,
     "metadata": {},
     "output_type": "execute_result"
    }
   ],
   "source": [
    "dataset2D.to_xarray_dataset()"
   ]
  },
  {
   "cell_type": "markdown",
   "metadata": {},
   "source": [
    "Note, however, that XArray is only suited for data that is on a rectangular grid with few or no missing values. If the data does not lie on a grid, all the measured data points will have an unique combination of the two dependent parameters. When exporting to XArray, NaN's will therefore replace all the missing combinations of `dac_ch1` and `dac_ch2` and the data is unlikely to be useful in this format."
   ]
  },
  {
   "cell_type": "markdown",
   "metadata": {},
   "source": [
    "For more details about using Pandas and XArray see [Working With Pandas and XArray](./Working-With-Pandas-and-XArray.ipynb)"
   ]
  },
  {
   "cell_type": "markdown",
   "metadata": {},
   "source": [
    "## Reloading datasets"
   ]
  },
  {
   "cell_type": "markdown",
   "metadata": {},
   "source": [
    "To load existing datasets QCoDeS provides several functions. The most useful and generic function is called `load_by_run_spec`. \n",
    "This function takes one or more pieces of information about a dataset and will either, if the dataset is uniquely identifiable by the information, load the dataset or print information about all the datasets that match the supplied information allowing you to provide more information to uniquely identify the dataset."
   ]
  },
  {
   "cell_type": "markdown",
   "metadata": {},
   "source": [
    "Here, we will load a dataset based on the `captured_run_id` printed on the plot above."
   ]
  },
  {
   "cell_type": "code",
   "execution_count": 18,
   "metadata": {
    "execution": {
     "iopub.execute_input": "2021-02-16T08:55:40.233845Z",
     "iopub.status.busy": "2021-02-16T08:55:40.232999Z",
     "iopub.status.idle": "2021-02-16T08:55:40.237131Z",
     "shell.execute_reply": "2021-02-16T08:55:40.236521Z"
    }
   },
   "outputs": [
    {
     "data": {
      "text/plain": [
       "33"
      ]
     },
     "execution_count": 1,
     "metadata": {},
     "output_type": "execute_result"
    }
   ],
   "source": [
    "dataset1D.captured_run_id"
   ]
  },
  {
   "cell_type": "code",
   "execution_count": 19,
   "metadata": {
    "execution": {
     "iopub.execute_input": "2021-02-16T08:55:40.241400Z",
     "iopub.status.busy": "2021-02-16T08:55:40.240720Z",
     "iopub.status.idle": "2021-02-16T08:55:40.245219Z",
     "shell.execute_reply": "2021-02-16T08:55:40.245709Z"
    }
   },
   "outputs": [],
   "source": [
    "loaded_ds = load_by_run_spec(captured_run_id=dataset1D.captured_run_id)"
   ]
  },
  {
   "cell_type": "code",
   "execution_count": 20,
   "metadata": {
    "execution": {
     "iopub.execute_input": "2021-02-16T08:55:40.251714Z",
     "iopub.status.busy": "2021-02-16T08:55:40.248946Z",
     "iopub.status.idle": "2021-02-16T08:55:40.260919Z",
     "shell.execute_reply": "2021-02-16T08:55:40.259779Z"
    }
   },
   "outputs": [
    {
     "data": {
      "text/plain": [
       "True"
      ]
     },
     "execution_count": 1,
     "metadata": {},
     "output_type": "execute_result"
    }
   ],
   "source": [
    "loaded_ds.the_same_dataset_as(dataset1D)"
   ]
  },
  {
   "cell_type": "markdown",
   "metadata": {},
   "source": [
    "As long as you are working within one database file the dataset should be uniquely identified by `captured_run_id`. However, once you mix several datasets from different database files this is likely not unique. See the following section and [Extracting runs from one DB file to another](Extracting-runs-from-one-DB-file-to-another.ipynb) for more information on how to handle this."
   ]
  },
  {
   "cell_type": "markdown",
   "metadata": {},
   "source": [
    "### DataSet GUID"
   ]
  },
  {
   "cell_type": "markdown",
   "metadata": {},
   "source": [
    "Internally each dataset is refereed too by a Globally Unique Identifier (GUID) that ensures that the dataset uniquely identified even if datasets from several databases with potentially identical captured_run_id, experiment and sample names.\n",
    "A dataset can always be reloaded from the GUID if known. "
   ]
  },
  {
   "cell_type": "code",
   "execution_count": 21,
   "metadata": {
    "execution": {
     "iopub.execute_input": "2021-02-16T08:55:40.266268Z",
     "iopub.status.busy": "2021-02-16T08:55:40.265623Z",
     "iopub.status.idle": "2021-02-16T08:55:40.270157Z",
     "shell.execute_reply": "2021-02-16T08:55:40.269683Z"
    }
   },
   "outputs": [
    {
     "name": "stdout",
     "output_type": "stream",
     "text": [
      "Dataset GUID is: aaaaaaaa-0000-0000-0000-0177aa0d2dc4\n"
     ]
    }
   ],
   "source": [
    "print(f\"Dataset GUID is: {dataset1D.guid}\")"
   ]
  },
  {
   "cell_type": "code",
   "execution_count": 22,
   "metadata": {
    "execution": {
     "iopub.execute_input": "2021-02-16T08:55:40.274532Z",
     "iopub.status.busy": "2021-02-16T08:55:40.273646Z",
     "iopub.status.idle": "2021-02-16T08:55:40.278376Z",
     "shell.execute_reply": "2021-02-16T08:55:40.278940Z"
    }
   },
   "outputs": [],
   "source": [
    "loaded_ds = load_by_guid(dataset1D.guid)"
   ]
  },
  {
   "cell_type": "code",
   "execution_count": 23,
   "metadata": {
    "execution": {
     "iopub.execute_input": "2021-02-16T08:55:40.283923Z",
     "iopub.status.busy": "2021-02-16T08:55:40.283233Z",
     "iopub.status.idle": "2021-02-16T08:55:40.290610Z",
     "shell.execute_reply": "2021-02-16T08:55:40.291047Z"
    }
   },
   "outputs": [
    {
     "data": {
      "text/plain": [
       "True"
      ]
     },
     "execution_count": 1,
     "metadata": {},
     "output_type": "execute_result"
    }
   ],
   "source": [
    "loaded_ds.the_same_dataset_as(dataset1D)"
   ]
  },
  {
   "cell_type": "markdown",
   "metadata": {},
   "source": [
    "## Specifying shape of measurement\n",
    "As the context manager allows you to store data of any shape (with the only restriction being that you supply values for both dependent and independent parameters together), it cannot know if the data is being measured on a grid. As a consequence, the Numpy array of data loaded from the dataset may not be of the shape that you expect. `plot_dataset`, `DataSet.to_pandas...` and `DataSet.to_xarray...` contain logic that can detect the shape of the data measured at load time. However, if you know the shape of the measurement that you are going to perform up front, you can choose to specify it before initializing the measurement using ``Measurement.set_shapes`` method.\n",
    "\n",
    "`dataset.get_parameter_data` and `dataset.cache.data` automatically makes use of this information to return shaped data when loaded from the database. Note that these two methods behave slightly different when loading data on a partially completed dataset. `dataset.get_parameter_data` will only reshape the data if the number of points measured matches the number of points expected according to the metadata. `dataset.cache.data` will however return a dataset with empty placeholders (either NaN, zeros or empty strings depending on the datatypes) for missing values in a partially filled dataset. \n",
    "\n",
    "Note that if you use the doNd functions demonstrated in [Using doNd functions in comparison to Measurement context manager for performing measurements](Using_doNd_functions_in_comparison_to_Measurement_context_manager_for_performing_measurements.ipynb) the shape information will be detected and stored automatically.\n",
    "\n",
    "In the example below we show how the shape can be specified manually.\n"
   ]
  },
  {
   "cell_type": "code",
   "execution_count": 24,
   "metadata": {
    "execution": {
     "iopub.execute_input": "2021-02-16T08:55:40.298890Z",
     "iopub.status.busy": "2021-02-16T08:55:40.297761Z",
     "iopub.status.idle": "2021-02-16T08:55:44.464290Z",
     "shell.execute_reply": "2021-02-16T08:55:44.463389Z"
    }
   },
   "outputs": [
    {
     "name": "stdout",
     "output_type": "stream",
     "text": [
      "Starting experimental run with id: 35. \n"
     ]
    }
   ],
   "source": [
    "n_points_1 = 100\n",
    "n_points_2 = 200\n",
    "\n",
    "meas_with_shape = Measurement(exp=exp)\n",
    "meas_with_shape.register_parameter(dac.ch1)  # register the first independent parameter\n",
    "meas_with_shape.register_parameter(dac.ch2)  # register the second independent parameter\n",
    "meas_with_shape.register_parameter(dmm.v2, setpoints=(dac.ch1, dac.ch2))  # now register the dependent oone\n",
    "\n",
    "meas_with_shape.set_shapes(detect_shape_of_measurement((dmm.v2,), (n_points_1, n_points_2)))\n",
    "\n",
    "with meas_with_shape.run() as datasaver:\n",
    "\n",
    "    for v1 in np.linspace(-1, 1, n_points_1):\n",
    "        for v2 in np.linspace(-1, 1, n_points_2):\n",
    "            dac.ch1(v1)\n",
    "            dac.ch2(v2)\n",
    "            val = dmm.v2.get()\n",
    "            datasaver.add_result((dac.ch1, v1),\n",
    "                                 (dac.ch2, v2),\n",
    "                                 (dmm.v2, val))\n",
    "            \n",
    "    dataset = datasaver.dataset  # convenient to have for plotting"
   ]
  },
  {
   "cell_type": "code",
   "execution_count": 25,
   "metadata": {
    "execution": {
     "iopub.execute_input": "2021-02-16T08:55:44.471502Z",
     "iopub.status.busy": "2021-02-16T08:55:44.470876Z",
     "iopub.status.idle": "2021-02-16T08:55:44.707936Z",
     "shell.execute_reply": "2021-02-16T08:55:44.707075Z"
    }
   },
   "outputs": [
    {
     "name": "stdout",
     "output_type": "stream",
     "text": [
      "dmm_v2: data.shape=(100, 200), expected_shape=(100,200)\n",
      "dac_ch1: data.shape=(100, 200), expected_shape=(100,200)\n",
      "dac_ch2: data.shape=(100, 200), expected_shape=(100,200)\n"
     ]
    }
   ],
   "source": [
    "for name, data in dataset.get_parameter_data()['dmm_v2'].items():\n",
    "    print(f\"{name}: data.shape={data.shape}, expected_shape=({n_points_1},{n_points_2})\")\n",
    "    assert data.shape == (n_points_1, n_points_2)"
   ]
  },
  {
   "cell_type": "markdown",
   "metadata": {},
   "source": [
    "## Performing several measuments concurrently"
   ]
  },
  {
   "cell_type": "markdown",
   "metadata": {},
   "source": [
    "It is possible to perform two or more measurements at the same time. This may be convenient if you need to measure several parameters as a function of the same independent parameters."
   ]
  },
  {
   "cell_type": "code",
   "execution_count": 26,
   "metadata": {
    "execution": {
     "iopub.execute_input": "2021-02-16T08:55:44.718124Z",
     "iopub.status.busy": "2021-02-16T08:55:44.716309Z",
     "iopub.status.idle": "2021-02-16T08:56:10.250281Z",
     "shell.execute_reply": "2021-02-16T08:56:10.248788Z"
    }
   },
   "outputs": [
    {
     "name": "stdout",
     "output_type": "stream",
     "text": [
      "Starting experimental run with id: 36. \n",
      "Starting experimental run with id: 37. \n"
     ]
    }
   ],
   "source": [
    "# setup two measurements\n",
    "meas1 = Measurement(exp=exp)\n",
    "meas1.register_parameter(dac.ch1)  \n",
    "meas1.register_parameter(dac.ch2)  \n",
    "meas1.register_parameter(dmm.v1, setpoints=(dac.ch1, dac.ch2))\n",
    "\n",
    "meas2 = Measurement(exp=exp)\n",
    "meas2.register_parameter(dac.ch1)  \n",
    "meas2.register_parameter(dac.ch2)\n",
    "meas2.register_parameter(dmm.v2, setpoints=(dac.ch1, dac.ch2))\n",
    "\n",
    "with meas1.run() as datasaver1, meas2.run() as datasaver2:\n",
    "\n",
    "    v1points = np.concatenate((np.linspace(-2, -0.5, 10),\n",
    "                               np.linspace(-0.51, 0.5, 200),\n",
    "                               np.linspace(0.51, 2, 10)))\n",
    "    v2points = np.concatenate((np.linspace(-2, -0.25, 10),\n",
    "                               np.linspace(-0.26, 0.5, 200),\n",
    "                               np.linspace(0.51, 2, 10)))\n",
    "    \n",
    "    for v1 in v1points:\n",
    "        for v2 in v2points:\n",
    "            dac.ch1(v1)\n",
    "            dac.ch2(v2)\n",
    "            val1 = dmm.v1.get()\n",
    "            datasaver1.add_result((dac.ch1, v1),\n",
    "                                 (dac.ch2, v2),\n",
    "                                 (dmm.v1, val1))\n",
    "            val2 = dmm.v2.get()\n",
    "            datasaver2.add_result((dac.ch1, v1),\n",
    "                                 (dac.ch2, v2),\n",
    "                                 (dmm.v2, val2))\n"
   ]
  },
  {
   "cell_type": "code",
   "execution_count": 27,
   "metadata": {
    "execution": {
     "iopub.execute_input": "2021-02-16T08:56:10.254648Z",
     "iopub.status.busy": "2021-02-16T08:56:10.254027Z",
     "iopub.status.idle": "2021-02-16T08:56:11.188194Z",
     "shell.execute_reply": "2021-02-16T08:56:11.187431Z"
    }
   },
   "outputs": [
    {
     "data": {
      "image/png": "[encoded data removed]",
      "text/plain": [
       "<Figure size 432x288 with 2 Axes>"
      ]
     },
     "metadata": {
      "needs_background": "light"
     },
     "output_type": "display_data"
    }
   ],
   "source": [
    "ax, cbax = plot_dataset(datasaver1.dataset)"
   ]
  },
  {
   "cell_type": "code",
   "execution_count": 28,
   "metadata": {
    "execution": {
     "iopub.execute_input": "2021-02-16T08:56:11.193749Z",
     "iopub.status.busy": "2021-02-16T08:56:11.192277Z",
     "iopub.status.idle": "2021-02-16T08:56:12.203288Z",
     "shell.execute_reply": "2021-02-16T08:56:12.202330Z"
    }
   },
   "outputs": [
    {
     "data": {
      "image/png": "[encoded data removed]",
      "text/plain": [
       "<Figure size 432x288 with 2 Axes>"
      ]
     },
     "metadata": {
      "needs_background": "light"
     },
     "output_type": "display_data"
    }
   ],
   "source": [
    "ax, cbax = plot_dataset(datasaver2.dataset)"
   ]
  },
  {
   "cell_type": "markdown",
   "metadata": {},
   "source": [
    "## Interrupting measurements early\n",
    "\n",
    "There may be cases where you do not want to complete a measurement. Currently QCoDeS is designed to allow the user\n",
    "to interrupt the measurements with a standard KeyBoardInterrupt. KeyBoardInterrupts can be raised with either a Ctrl-C keyboard shortcut or using the interrupt button in Juypter / Spyder which is typically in the form of a Square stop button. QCoDeS is designed such that KeyboardInterrupts are delayed around critical parts of the code and the measurement is stopped when its safe to do so. "
   ]
  },
  {
   "cell_type": "markdown",
   "metadata": {},
   "source": [
    "## QCoDeS Array and MultiParameter"
   ]
  },
  {
   "cell_type": "markdown",
   "metadata": {},
   "source": [
    "The ``Measurement`` object supports automatic handling of ``Array`` and ``MultiParameters``. When registering these parameters \n",
    "the individual components are unpacked and added to the dataset as if they were separate parameters. Lets consider a ``MultiParamter`` with array components as the most general case.\n",
    "\n",
    "First lets use a dummy instrument that produces data as ``Array`` and ``MultiParameters``."
   ]
  },
  {
   "cell_type": "code",
   "execution_count": 29,
   "metadata": {
    "execution": {
     "iopub.execute_input": "2021-02-16T08:56:12.207820Z",
     "iopub.status.busy": "2021-02-16T08:56:12.207247Z",
     "iopub.status.idle": "2021-02-16T08:56:12.211550Z",
     "shell.execute_reply": "2021-02-16T08:56:12.210912Z"
    }
   },
   "outputs": [],
   "source": [
    "from qcodes.tests.instrument_mocks import DummyChannelInstrument"
   ]
  },
  {
   "cell_type": "code",
   "execution_count": 30,
   "metadata": {
    "execution": {
     "iopub.execute_input": "2021-02-16T08:56:12.231731Z",
     "iopub.status.busy": "2021-02-16T08:56:12.231166Z",
     "iopub.status.idle": "2021-02-16T08:56:12.235339Z",
     "shell.execute_reply": "2021-02-16T08:56:12.235864Z"
    }
   },
   "outputs": [],
   "source": [
    "mydummy = DummyChannelInstrument('MyDummy')"
   ]
  },
  {
   "cell_type": "markdown",
   "metadata": {},
   "source": [
    "This instrument produces two ``Array``s with the names, shapes and setpoints given below."
   ]
  },
  {
   "cell_type": "code",
   "execution_count": 31,
   "metadata": {
    "execution": {
     "iopub.execute_input": "2021-02-16T08:56:12.240316Z",
     "iopub.status.busy": "2021-02-16T08:56:12.239737Z",
     "iopub.status.idle": "2021-02-16T08:56:12.245245Z",
     "shell.execute_reply": "2021-02-16T08:56:12.244729Z"
    }
   },
   "outputs": [
    {
     "data": {
      "text/plain": [
       "('this', 'that')"
      ]
     },
     "execution_count": 1,
     "metadata": {},
     "output_type": "execute_result"
    }
   ],
   "source": [
    "mydummy.A.dummy_2d_multi_parameter.names"
   ]
  },
  {
   "cell_type": "code",
   "execution_count": 32,
   "metadata": {
    "execution": {
     "iopub.execute_input": "2021-02-16T08:56:12.251056Z",
     "iopub.status.busy": "2021-02-16T08:56:12.249723Z",
     "iopub.status.idle": "2021-02-16T08:56:12.253435Z",
     "shell.execute_reply": "2021-02-16T08:56:12.252763Z"
    }
   },
   "outputs": [
    {
     "data": {
      "text/plain": [
       "((5, 3), (5, 3))"
      ]
     },
     "execution_count": 1,
     "metadata": {},
     "output_type": "execute_result"
    }
   ],
   "source": [
    "mydummy.A.dummy_2d_multi_parameter.shapes"
   ]
  },
  {
   "cell_type": "code",
   "execution_count": 33,
   "metadata": {
    "execution": {
     "iopub.execute_input": "2021-02-16T08:56:12.258125Z",
     "iopub.status.busy": "2021-02-16T08:56:12.257528Z",
     "iopub.status.idle": "2021-02-16T08:56:12.260527Z",
     "shell.execute_reply": "2021-02-16T08:56:12.261205Z"
    }
   },
   "outputs": [
    {
     "data": {
      "text/plain": [
       "(('multi_2d_setpoint_param_this_setpoint',\n",
       "  'multi_2d_setpoint_param_that_setpoint'),\n",
       " ('multi_2d_setpoint_param_this_setpoint',\n",
       "  'multi_2d_setpoint_param_that_setpoint'))"
      ]
     },
     "execution_count": 1,
     "metadata": {},
     "output_type": "execute_result"
    }
   ],
   "source": [
    "mydummy.A.dummy_2d_multi_parameter.setpoint_names"
   ]
  },
  {
   "cell_type": "code",
   "execution_count": 34,
   "metadata": {
    "execution": {
     "iopub.execute_input": "2021-02-16T08:56:12.267929Z",
     "iopub.status.busy": "2021-02-16T08:56:12.264683Z",
     "iopub.status.idle": "2021-02-16T08:56:12.271266Z",
     "shell.execute_reply": "2021-02-16T08:56:12.272013Z"
    }
   },
   "outputs": [
    {
     "data": {
      "text/plain": [
       "{'MyDummy_ChanA_this': ParamSpecBase('MyDummy_ChanA_this', 'numeric', 'this label', 'this unit'),\n",
       " 'MyDummy_ChanA_multi_2d_setpoint_param_this_setpoint': ParamSpecBase('MyDummy_ChanA_multi_2d_setpoint_param_this_setpoint', 'numeric', 'this setpoint', 'this setpointunit'),\n",
       " 'MyDummy_ChanA_multi_2d_setpoint_param_that_setpoint': ParamSpecBase('MyDummy_ChanA_multi_2d_setpoint_param_that_setpoint', 'numeric', 'that setpoint', 'that setpointunit'),\n",
       " 'MyDummy_ChanA_that': ParamSpecBase('MyDummy_ChanA_that', 'numeric', 'that label', 'that unit')}"
      ]
     },
     "execution_count": 1,
     "metadata": {},
     "output_type": "execute_result"
    }
   ],
   "source": [
    "meas = Measurement(exp=exp)\n",
    "\n",
    "meas.register_parameter(mydummy.A.dummy_2d_multi_parameter)\n",
    "meas.parameters"
   ]
  },
  {
   "cell_type": "markdown",
   "metadata": {},
   "source": [
    "When adding the MultiParameter to the measurement we can see that we add each of the individual components as a \n",
    "separate parameter."
   ]
  },
  {
   "cell_type": "code",
   "execution_count": 35,
   "metadata": {
    "execution": {
     "iopub.execute_input": "2021-02-16T08:56:12.276664Z",
     "iopub.status.busy": "2021-02-16T08:56:12.275969Z",
     "iopub.status.idle": "2021-02-16T08:56:12.293877Z",
     "shell.execute_reply": "2021-02-16T08:56:12.295508Z"
    }
   },
   "outputs": [
    {
     "name": "stdout",
     "output_type": "stream",
     "text": [
      "Starting experimental run with id: 38. \n"
     ]
    }
   ],
   "source": [
    "with meas.run() as datasaver:\n",
    "    datasaver.add_result((mydummy.A.dummy_2d_multi_parameter, mydummy.A.dummy_2d_multi_parameter()))"
   ]
  },
  {
   "cell_type": "markdown",
   "metadata": {},
   "source": [
    "And when adding the result of a ``MultiParameter`` it is automatically unpacked into its components."
   ]
  },
  {
   "cell_type": "code",
   "execution_count": 36,
   "metadata": {
    "execution": {
     "iopub.execute_input": "2021-02-16T08:56:12.303413Z",
     "iopub.status.busy": "2021-02-16T08:56:12.302766Z",
     "iopub.status.idle": "2021-02-16T08:56:12.835857Z",
     "shell.execute_reply": "2021-02-16T08:56:12.836252Z"
    }
   },
   "outputs": [
    {
     "data": {
      "text/plain": [
       "([<AxesSubplot:title={'center':'Run #38, Experiment performing_meas_using_parameters_and_dataset (no sample)'}, xlabel='this setpoint (this setpointunit)', ylabel='that setpoint (that setpointunit)'>,\n",
       "  <AxesSubplot:title={'center':'Run #38, Experiment performing_meas_using_parameters_and_dataset (no sample)'}, xlabel='this setpoint (this setpointunit)', ylabel='that setpoint (that setpointunit)'>],\n",
       " [<matplotlib.colorbar.Colorbar at 0x7f1e86301210>,\n",
       "  <matplotlib.colorbar.Colorbar at 0x7f1e862349d0>])"
      ]
     },
     "execution_count": 1,
     "metadata": {},
     "output_type": "execute_result"
    },
    {
     "data": {
      "image/png": "[encoded data removed]",
      "text/plain": [
       "<Figure size 432x288 with 2 Axes>"
      ]
     },
     "metadata": {
      "needs_background": "light"
     },
     "output_type": "display_data"
    },
    {
     "data": {
      "image/png": "[encoded data removed]",
      "text/plain": [
       "<Figure size 432x288 with 2 Axes>"
      ]
     },
     "metadata": {
      "needs_background": "light"
     },
     "output_type": "display_data"
    }
   ],
   "source": [
    "plot_dataset(datasaver.dataset)"
   ]
  },
  {
   "cell_type": "code",
   "execution_count": 37,
   "metadata": {
    "execution": {
     "iopub.execute_input": "2021-02-16T08:56:12.842018Z",
     "iopub.status.busy": "2021-02-16T08:56:12.839710Z",
     "iopub.status.idle": "2021-02-16T08:56:12.848727Z",
     "shell.execute_reply": "2021-02-16T08:56:12.848241Z"
    }
   },
   "outputs": [
    {
     "data": {
      "text/plain": [
       "{'MyDummy_ChanA_that': {'MyDummy_ChanA_that': array([1., 1., 1., 1., 1., 1., 1., 1., 1., 1., 1., 1., 1., 1., 1.]),\n",
       "  'MyDummy_ChanA_multi_2d_setpoint_param_this_setpoint': array([5., 5., 5., 6., 6., 6., 7., 7., 7., 8., 8., 8., 9., 9., 9.]),\n",
       "  'MyDummy_ChanA_multi_2d_setpoint_param_that_setpoint': array([ 9., 10., 11.,  9., 10., 11.,  9., 10., 11.,  9., 10., 11.,  9.,\n",
       "         10., 11.])}}"
      ]
     },
     "execution_count": 1,
     "metadata": {},
     "output_type": "execute_result"
    }
   ],
   "source": [
    "datasaver.dataset.get_parameter_data('MyDummy_ChanA_that')"
   ]
  },
  {
   "cell_type": "code",
   "execution_count": 38,
   "metadata": {
    "execution": {
     "iopub.execute_input": "2021-02-16T08:56:12.852502Z",
     "iopub.status.busy": "2021-02-16T08:56:12.851736Z",
     "iopub.status.idle": "2021-02-16T08:56:12.873601Z",
     "shell.execute_reply": "2021-02-16T08:56:12.874027Z"
    }
   },
   "outputs": [
    {
     "data": {
      "text/html": [
       "<div>\n",
       "<style scoped>\n",
       "    .dataframe tbody tr th:only-of-type {\n",
       "        vertical-align: middle;\n",
       "    }\n",
       "\n",
       "    .dataframe tbody tr th {\n",
       "        vertical-align: top;\n",
       "    }\n",
       "\n",
       "    .dataframe thead th {\n",
       "        text-align: right;\n",
       "    }\n",
       "</style>\n",
       "<table border=\"1\" class=\"dataframe\">\n",
       "  <thead>\n",
       "    <tr style=\"text-align: right;\">\n",
       "      <th></th>\n",
       "      <th></th>\n",
       "      <th>MyDummy_ChanA_that</th>\n",
       "      <th>MyDummy_ChanA_this</th>\n",
       "    </tr>\n",
       "    <tr>\n",
       "      <th>MyDummy_ChanA_multi_2d_setpoint_param_this_setpoint</th>\n",
       "      <th>MyDummy_ChanA_multi_2d_setpoint_param_that_setpoint</th>\n",
       "      <th></th>\n",
       "      <th></th>\n",
       "    </tr>\n",
       "  </thead>\n",
       "  <tbody>\n",
       "    <tr>\n",
       "      <th rowspan=\"3\" valign=\"top\">5.0</th>\n",
       "      <th>9.0</th>\n",
       "      <td>1.0</td>\n",
       "      <td>0.0</td>\n",
       "    </tr>\n",
       "    <tr>\n",
       "      <th>10.0</th>\n",
       "      <td>1.0</td>\n",
       "      <td>0.0</td>\n",
       "    </tr>\n",
       "    <tr>\n",
       "      <th>11.0</th>\n",
       "      <td>1.0</td>\n",
       "      <td>0.0</td>\n",
       "    </tr>\n",
       "    <tr>\n",
       "      <th rowspan=\"3\" valign=\"top\">6.0</th>\n",
       "      <th>9.0</th>\n",
       "      <td>1.0</td>\n",
       "      <td>0.0</td>\n",
       "    </tr>\n",
       "    <tr>\n",
       "      <th>10.0</th>\n",
       "      <td>1.0</td>\n",
       "      <td>0.0</td>\n",
       "    </tr>\n",
       "    <tr>\n",
       "      <th>11.0</th>\n",
       "      <td>1.0</td>\n",
       "      <td>0.0</td>\n",
       "    </tr>\n",
       "    <tr>\n",
       "      <th rowspan=\"3\" valign=\"top\">7.0</th>\n",
       "      <th>9.0</th>\n",
       "      <td>1.0</td>\n",
       "      <td>0.0</td>\n",
       "    </tr>\n",
       "    <tr>\n",
       "      <th>10.0</th>\n",
       "      <td>1.0</td>\n",
       "      <td>0.0</td>\n",
       "    </tr>\n",
       "    <tr>\n",
       "      <th>11.0</th>\n",
       "      <td>1.0</td>\n",
       "      <td>0.0</td>\n",
       "    </tr>\n",
       "    <tr>\n",
       "      <th rowspan=\"3\" valign=\"top\">8.0</th>\n",
       "      <th>9.0</th>\n",
       "      <td>1.0</td>\n",
       "      <td>0.0</td>\n",
       "    </tr>\n",
       "    <tr>\n",
       "      <th>10.0</th>\n",
       "      <td>1.0</td>\n",
       "      <td>0.0</td>\n",
       "    </tr>\n",
       "    <tr>\n",
       "      <th>11.0</th>\n",
       "      <td>1.0</td>\n",
       "      <td>0.0</td>\n",
       "    </tr>\n",
       "    <tr>\n",
       "      <th rowspan=\"3\" valign=\"top\">9.0</th>\n",
       "      <th>9.0</th>\n",
       "      <td>1.0</td>\n",
       "      <td>0.0</td>\n",
       "    </tr>\n",
       "    <tr>\n",
       "      <th>10.0</th>\n",
       "      <td>1.0</td>\n",
       "      <td>0.0</td>\n",
       "    </tr>\n",
       "    <tr>\n",
       "      <th>11.0</th>\n",
       "      <td>1.0</td>\n",
       "      <td>0.0</td>\n",
       "    </tr>\n",
       "  </tbody>\n",
       "</table>\n",
       "</div>"
      ],
      "text/plain": [
       "                                                                                                       MyDummy_ChanA_that  \\\n",
       "MyDummy_ChanA_multi_2d_setpoint_param_this_setp... MyDummy_ChanA_multi_2d_setpoint_param_that_setp...                       \n",
       "5.0                                                9.0                                                                1.0   \n",
       "                                                   10.0                                                               1.0   \n",
       "                                                   11.0                                                               1.0   \n",
       "6.0                                                9.0                                                                1.0   \n",
       "                                                   10.0                                                               1.0   \n",
       "                                                   11.0                                                               1.0   \n",
       "7.0                                                9.0                                                                1.0   \n",
       "                                                   10.0                                                               1.0   \n",
       "                                                   11.0                                                               1.0   \n",
       "8.0                                                9.0                                                                1.0   \n",
       "                                                   10.0                                                               1.0   \n",
       "                                                   11.0                                                               1.0   \n",
       "9.0                                                9.0                                                                1.0   \n",
       "                                                   10.0                                                               1.0   \n",
       "                                                   11.0                                                               1.0   \n",
       "\n",
       "                                                                                                       MyDummy_ChanA_this  \n",
       "MyDummy_ChanA_multi_2d_setpoint_param_this_setp... MyDummy_ChanA_multi_2d_setpoint_param_that_setp...                      \n",
       "5.0                                                9.0                                                                0.0  \n",
       "                                                   10.0                                                               0.0  \n",
       "                                                   11.0                                                               0.0  \n",
       "6.0                                                9.0                                                                0.0  \n",
       "                                                   10.0                                                               0.0  \n",
       "                                                   11.0                                                               0.0  \n",
       "7.0                                                9.0                                                                0.0  \n",
       "                                                   10.0                                                               0.0  \n",
       "                                                   11.0                                                               0.0  \n",
       "8.0                                                9.0                                                                0.0  \n",
       "                                                   10.0                                                               0.0  \n",
       "                                                   11.0                                                               0.0  \n",
       "9.0                                                9.0                                                                0.0  \n",
       "                                                   10.0                                                               0.0  \n",
       "                                                   11.0                                                               0.0  "
      ]
     },
     "execution_count": 1,
     "metadata": {},
     "output_type": "execute_result"
    }
   ],
   "source": [
    "datasaver.dataset.to_pandas_dataframe()"
   ]
  },
  {
   "cell_type": "code",
   "execution_count": 39,
   "metadata": {
    "execution": {
     "iopub.execute_input": "2021-02-16T08:56:12.878617Z",
     "iopub.status.busy": "2021-02-16T08:56:12.877988Z",
     "iopub.status.idle": "2021-02-16T08:56:12.907107Z",
     "shell.execute_reply": "2021-02-16T08:56:12.906390Z"
    }
   },
   "outputs": [
    {
     "data": {
      "text/html": [
       "<div><svg style=\"position: absolute; width: 0; height: 0; overflow: hidden\">\n",
       "<defs>\n",
       "<symbol id=\"icon-database\" viewBox=\"0 0 32 32\">\n",
       "<path d=\"M16 0c-8.837 0-16 2.239-16 5v4c0 2.761 7.163 5 16 5s16-2.239 16-5v-4c0-2.761-7.163-5-16-5z\"></path>\n",
       "<path d=\"M16 17c-8.837 0-16-2.239-16-5v6c0 2.761 7.163 5 16 5s16-2.239 16-5v-6c0 2.761-7.163 5-16 5z\"></path>\n",
       "<path d=\"M16 26c-8.837 0-16-2.239-16-5v6c0 2.761 7.163 5 16 5s16-2.239 16-5v-6c0 2.761-7.163 5-16 5z\"></path>\n",
       "</symbol>\n",
       "<symbol id=\"icon-file-text2\" viewBox=\"0 0 32 32\">\n",
       "<path d=\"M28.681 7.159c-0.694-0.947-1.662-2.053-2.724-3.116s-2.169-2.030-3.116-2.724c-1.612-1.182-2.393-1.319-2.841-1.319h-15.5c-1.378 0-2.5 1.121-2.5 2.5v27c0 1.378 1.122 2.5 2.5 2.5h23c1.378 0 2.5-1.122 2.5-2.5v-19.5c0-0.448-0.137-1.23-1.319-2.841zM24.543 5.457c0.959 0.959 1.712 1.825 2.268 2.543h-4.811v-4.811c0.718 0.556 1.584 1.309 2.543 2.268zM28 29.5c0 0.271-0.229 0.5-0.5 0.5h-23c-0.271 0-0.5-0.229-0.5-0.5v-27c0-0.271 0.229-0.5 0.5-0.5 0 0 15.499-0 15.5 0v7c0 0.552 0.448 1 1 1h7v19.5z\"></path>\n",
       "<path d=\"M23 26h-14c-0.552 0-1-0.448-1-1s0.448-1 1-1h14c0.552 0 1 0.448 1 1s-0.448 1-1 1z\"></path>\n",
       "<path d=\"M23 22h-14c-0.552 0-1-0.448-1-1s0.448-1 1-1h14c0.552 0 1 0.448 1 1s-0.448 1-1 1z\"></path>\n",
       "<path d=\"M23 18h-14c-0.552 0-1-0.448-1-1s0.448-1 1-1h14c0.552 0 1 0.448 1 1s-0.448 1-1 1z\"></path>\n",
       "</symbol>\n",
       "</defs>\n",
       "</svg>\n",
       "<style>/* CSS stylesheet for displaying xarray objects in jupyterlab.\n",
       " *\n",
       " */\n",
       "\n",
       ":root {\n",
       "  --xr-font-color0: var(--jp-content-font-color0, rgba(0, 0, 0, 1));\n",
       "  --xr-font-color2: var(--jp-content-font-color2, rgba(0, 0, 0, 0.54));\n",
       "  --xr-font-color3: var(--jp-content-font-color3, rgba(0, 0, 0, 0.38));\n",
       "  --xr-border-color: var(--jp-border-color2, #e0e0e0);\n",
       "  --xr-disabled-color: var(--jp-layout-color3, #bdbdbd);\n",
       "  --xr-background-color: var(--jp-layout-color0, white);\n",
       "  --xr-background-color-row-even: var(--jp-layout-color1, white);\n",
       "  --xr-background-color-row-odd: var(--jp-layout-color2, #eeeeee);\n",
       "}\n",
       "\n",
       "html[theme=dark],\n",
       "body.vscode-dark {\n",
       "  --xr-font-color0: rgba(255, 255, 255, 1);\n",
       "  --xr-font-color2: rgba(255, 255, 255, 0.54);\n",
       "  --xr-font-color3: rgba(255, 255, 255, 0.38);\n",
       "  --xr-border-color: #1F1F1F;\n",
       "  --xr-disabled-color: #515151;\n",
       "  --xr-background-color: #111111;\n",
       "  --xr-background-color-row-even: #111111;\n",
       "  --xr-background-color-row-odd: #313131;\n",
       "}\n",
       "\n",
       ".xr-wrap {\n",
       "  display: block;\n",
       "  min-width: 300px;\n",
       "  max-width: 700px;\n",
       "}\n",
       "\n",
       ".xr-text-repr-fallback {\n",
       "  /* fallback to plain text repr when CSS is not injected (untrusted notebook) */\n",
       "  display: none;\n",
       "}\n",
       "\n",
       ".xr-header {\n",
       "  padding-top: 6px;\n",
       "  padding-bottom: 6px;\n",
       "  margin-bottom: 4px;\n",
       "  border-bottom: solid 1px var(--xr-border-color);\n",
       "}\n",
       "\n",
       ".xr-header > div,\n",
       ".xr-header > ul {\n",
       "  display: inline;\n",
       "  margin-top: 0;\n",
       "  margin-bottom: 0;\n",
       "}\n",
       "\n",
       ".xr-obj-type,\n",
       ".xr-array-name {\n",
       "  margin-left: 2px;\n",
       "  margin-right: 10px;\n",
       "}\n",
       "\n",
       ".xr-obj-type {\n",
       "  color: var(--xr-font-color2);\n",
       "}\n",
       "\n",
       ".xr-sections {\n",
       "  padding-left: 0 !important;\n",
       "  display: grid;\n",
       "  grid-template-columns: 150px auto auto 1fr 20px 20px;\n",
       "}\n",
       "\n",
       ".xr-section-item {\n",
       "  display: contents;\n",
       "}\n",
       "\n",
       ".xr-section-item input {\n",
       "  display: none;\n",
       "}\n",
       "\n",
       ".xr-section-item input + label {\n",
       "  color: var(--xr-disabled-color);\n",
       "}\n",
       "\n",
       ".xr-section-item input:enabled + label {\n",
       "  cursor: pointer;\n",
       "  color: var(--xr-font-color2);\n",
       "}\n",
       "\n",
       ".xr-section-item input:enabled + label:hover {\n",
       "  color: var(--xr-font-color0);\n",
       "}\n",
       "\n",
       ".xr-section-summary {\n",
       "  grid-column: 1;\n",
       "  color: var(--xr-font-color2);\n",
       "  font-weight: 500;\n",
       "}\n",
       "\n",
       ".xr-section-summary > span {\n",
       "  display: inline-block;\n",
       "  padding-left: 0.5em;\n",
       "}\n",
       "\n",
       ".xr-section-summary-in:disabled + label {\n",
       "  color: var(--xr-font-color2);\n",
       "}\n",
       "\n",
       ".xr-section-summary-in + label:before {\n",
       "  display: inline-block;\n",
       "  content: '►';\n",
       "  font-size: 11px;\n",
       "  width: 15px;\n",
       "  text-align: center;\n",
       "}\n",
       "\n",
       ".xr-section-summary-in:disabled + label:before {\n",
       "  color: var(--xr-disabled-color);\n",
       "}\n",
       "\n",
       ".xr-section-summary-in:checked + label:before {\n",
       "  content: '▼';\n",
       "}\n",
       "\n",
       ".xr-section-summary-in:checked + label > span {\n",
       "  display: none;\n",
       "}\n",
       "\n",
       ".xr-section-summary,\n",
       ".xr-section-inline-details {\n",
       "  padding-top: 4px;\n",
       "  padding-bottom: 4px;\n",
       "}\n",
       "\n",
       ".xr-section-inline-details {\n",
       "  grid-column: 2 / -1;\n",
       "}\n",
       "\n",
       ".xr-section-details {\n",
       "  display: none;\n",
       "  grid-column: 1 / -1;\n",
       "  margin-bottom: 5px;\n",
       "}\n",
       "\n",
       ".xr-section-summary-in:checked ~ .xr-section-details {\n",
       "  display: contents;\n",
       "}\n",
       "\n",
       ".xr-array-wrap {\n",
       "  grid-column: 1 / -1;\n",
       "  display: grid;\n",
       "  grid-template-columns: 20px auto;\n",
       "}\n",
       "\n",
       ".xr-array-wrap > label {\n",
       "  grid-column: 1;\n",
       "  vertical-align: top;\n",
       "}\n",
       "\n",
       ".xr-preview {\n",
       "  color: var(--xr-font-color3);\n",
       "}\n",
       "\n",
       ".xr-array-preview,\n",
       ".xr-array-data {\n",
       "  padding: 0 5px !important;\n",
       "  grid-column: 2;\n",
       "}\n",
       "\n",
       ".xr-array-data,\n",
       ".xr-array-in:checked ~ .xr-array-preview {\n",
       "  display: none;\n",
       "}\n",
       "\n",
       ".xr-array-in:checked ~ .xr-array-data,\n",
       ".xr-array-preview {\n",
       "  display: inline-block;\n",
       "}\n",
       "\n",
       ".xr-dim-list {\n",
       "  display: inline-block !important;\n",
       "  list-style: none;\n",
       "  padding: 0 !important;\n",
       "  margin: 0;\n",
       "}\n",
       "\n",
       ".xr-dim-list li {\n",
       "  display: inline-block;\n",
       "  padding: 0;\n",
       "  margin: 0;\n",
       "}\n",
       "\n",
       ".xr-dim-list:before {\n",
       "  content: '(';\n",
       "}\n",
       "\n",
       ".xr-dim-list:after {\n",
       "  content: ')';\n",
       "}\n",
       "\n",
       ".xr-dim-list li:not(:last-child):after {\n",
       "  content: ',';\n",
       "  padding-right: 5px;\n",
       "}\n",
       "\n",
       ".xr-has-index {\n",
       "  font-weight: bold;\n",
       "}\n",
       "\n",
       ".xr-var-list,\n",
       ".xr-var-item {\n",
       "  display: contents;\n",
       "}\n",
       "\n",
       ".xr-var-item > div,\n",
       ".xr-var-item label,\n",
       ".xr-var-item > .xr-var-name span {\n",
       "  background-color: var(--xr-background-color-row-even);\n",
       "  margin-bottom: 0;\n",
       "}\n",
       "\n",
       ".xr-var-item > .xr-var-name:hover span {\n",
       "  padding-right: 5px;\n",
       "}\n",
       "\n",
       ".xr-var-list > li:nth-child(odd) > div,\n",
       ".xr-var-list > li:nth-child(odd) > label,\n",
       ".xr-var-list > li:nth-child(odd) > .xr-var-name span {\n",
       "  background-color: var(--xr-background-color-row-odd);\n",
       "}\n",
       "\n",
       ".xr-var-name {\n",
       "  grid-column: 1;\n",
       "}\n",
       "\n",
       ".xr-var-dims {\n",
       "  grid-column: 2;\n",
       "}\n",
       "\n",
       ".xr-var-dtype {\n",
       "  grid-column: 3;\n",
       "  text-align: right;\n",
       "  color: var(--xr-font-color2);\n",
       "}\n",
       "\n",
       ".xr-var-preview {\n",
       "  grid-column: 4;\n",
       "}\n",
       "\n",
       ".xr-var-name,\n",
       ".xr-var-dims,\n",
       ".xr-var-dtype,\n",
       ".xr-preview,\n",
       ".xr-attrs dt {\n",
       "  white-space: nowrap;\n",
       "  overflow: hidden;\n",
       "  text-overflow: ellipsis;\n",
       "  padding-right: 10px;\n",
       "}\n",
       "\n",
       ".xr-var-name:hover,\n",
       ".xr-var-dims:hover,\n",
       ".xr-var-dtype:hover,\n",
       ".xr-attrs dt:hover {\n",
       "  overflow: visible;\n",
       "  width: auto;\n",
       "  z-index: 1;\n",
       "}\n",
       "\n",
       ".xr-var-attrs,\n",
       ".xr-var-data {\n",
       "  display: none;\n",
       "  background-color: var(--xr-background-color) !important;\n",
       "  padding-bottom: 5px !important;\n",
       "}\n",
       "\n",
       ".xr-var-attrs-in:checked ~ .xr-var-attrs,\n",
       ".xr-var-data-in:checked ~ .xr-var-data {\n",
       "  display: block;\n",
       "}\n",
       "\n",
       ".xr-var-data > table {\n",
       "  float: right;\n",
       "}\n",
       "\n",
       ".xr-var-name span,\n",
       ".xr-var-data,\n",
       ".xr-attrs {\n",
       "  padding-left: 25px !important;\n",
       "}\n",
       "\n",
       ".xr-attrs,\n",
       ".xr-var-attrs,\n",
       ".xr-var-data {\n",
       "  grid-column: 1 / -1;\n",
       "}\n",
       "\n",
       "dl.xr-attrs {\n",
       "  padding: 0;\n",
       "  margin: 0;\n",
       "  display: grid;\n",
       "  grid-template-columns: 125px auto;\n",
       "}\n",
       "\n",
       ".xr-attrs dt,\n",
       ".xr-attrs dd {\n",
       "  padding: 0;\n",
       "  margin: 0;\n",
       "  float: left;\n",
       "  padding-right: 10px;\n",
       "  width: auto;\n",
       "}\n",
       "\n",
       ".xr-attrs dt {\n",
       "  font-weight: normal;\n",
       "  grid-column: 1;\n",
       "}\n",
       "\n",
       ".xr-attrs dt:hover span {\n",
       "  display: inline-block;\n",
       "  background: var(--xr-background-color);\n",
       "  padding-right: 10px;\n",
       "}\n",
       "\n",
       ".xr-attrs dd {\n",
       "  grid-column: 2;\n",
       "  white-space: pre-wrap;\n",
       "  word-break: break-all;\n",
       "}\n",
       "\n",
       ".xr-icon-database,\n",
       ".xr-icon-file-text2 {\n",
       "  display: inline-block;\n",
       "  vertical-align: middle;\n",
       "  width: 1em;\n",
       "  height: 1.5em !important;\n",
       "  stroke-width: 0;\n",
       "  stroke: currentColor;\n",
       "  fill: currentColor;\n",
       "}\n",
       "</style><pre class='xr-text-repr-fallback'>&lt;xarray.Dataset&gt;\n",
       "Dimensions:                                              (MyDummy_ChanA_multi_2d_setpoint_param_that_setpoint: 3, MyDummy_ChanA_multi_2d_setpoint_param_this_setpoint: 5)\n",
       "Coordinates:\n",
       "  * MyDummy_ChanA_multi_2d_setpoint_param_this_setpoint  (MyDummy_ChanA_multi_2d_setpoint_param_this_setpoint) float64 ...\n",
       "  * MyDummy_ChanA_multi_2d_setpoint_param_that_setpoint  (MyDummy_ChanA_multi_2d_setpoint_param_that_setpoint) float64 ...\n",
       "Data variables:\n",
       "    MyDummy_ChanA_that                                   (MyDummy_ChanA_multi_2d_setpoint_param_this_setpoint, MyDummy_ChanA_multi_2d_setpoint_param_that_setpoint) float64 ...\n",
       "    MyDummy_ChanA_this                                   (MyDummy_ChanA_multi_2d_setpoint_param_this_setpoint, MyDummy_ChanA_multi_2d_setpoint_param_that_setpoint) float64 ...\n",
       "Attributes:\n",
       "    sample_name:  no sample\n",
       "    exp_name:     performing_meas_using_parameters_and_dataset</pre><div class='xr-wrap' hidden><div class='xr-header'><div class='xr-obj-type'>xarray.Dataset</div></div><ul class='xr-sections'><li class='xr-section-item'><input id='section-57ee6860-c8a9-4dc5-a8ce-b396d0e9729d' class='xr-section-summary-in' type='checkbox' disabled ><label for='section-57ee6860-c8a9-4dc5-a8ce-b396d0e9729d' class='xr-section-summary'  title='Expand/collapse section'>Dimensions:</label><div class='xr-section-inline-details'><ul class='xr-dim-list'><li><span class='xr-has-index'>MyDummy_ChanA_multi_2d_setpoint_param_that_setpoint</span>: 3</li><li><span class='xr-has-index'>MyDummy_ChanA_multi_2d_setpoint_param_this_setpoint</span>: 5</li></ul></div><div class='xr-section-details'></div></li><li class='xr-section-item'><input id='section-b45cd2ef-efb6-42e7-8eec-a7c88218cea2' class='xr-section-summary-in' type='checkbox'  checked><label for='section-b45cd2ef-efb6-42e7-8eec-a7c88218cea2' class='xr-section-summary' >Coordinates: <span>(2)</span></label><div class='xr-section-inline-details'></div><div class='xr-section-details'><ul class='xr-var-list'><li class='xr-var-item'><div class='xr-var-name'><span class='xr-has-index'>MyDummy_ChanA_multi_2d_setpoint_param_this_setpoint</span></div><div class='xr-var-dims'>(MyDummy_ChanA_multi_2d_setpoint_param_this_setpoint)</div><div class='xr-var-dtype'>float64</div><div class='xr-var-preview xr-preview'>5.0 6.0 7.0 8.0 9.0</div><input id='attrs-9b74f46c-3664-47b2-a788-8f9a88d02036' class='xr-var-attrs-in' type='checkbox' ><label for='attrs-9b74f46c-3664-47b2-a788-8f9a88d02036' title='Show/Hide attributes'><svg class='icon xr-icon-file-text2'><use xlink:href='#icon-file-text2'></use></svg></label><input id='data-b5ef69dd-fad2-4ba7-adfe-6024a4dcb116' class='xr-var-data-in' type='checkbox'><label for='data-b5ef69dd-fad2-4ba7-adfe-6024a4dcb116' title='Show/Hide data repr'><svg class='icon xr-icon-database'><use xlink:href='#icon-database'></use></svg></label><div class='xr-var-attrs'><dl class='xr-attrs'><dt><span>name :</span></dt><dd>MyDummy_ChanA_multi_2d_setpoint_param_this_setpoint</dd><dt><span>paramtype :</span></dt><dd>numeric</dd><dt><span>label :</span></dt><dd>this setpoint</dd><dt><span>unit :</span></dt><dd>this setpointunit</dd><dt><span>inferred_from :</span></dt><dd>[]</dd><dt><span>depends_on :</span></dt><dd>[]</dd></dl></div><div class='xr-var-data'><pre>array([5., 6., 7., 8., 9.])</pre></div></li><li class='xr-var-item'><div class='xr-var-name'><span class='xr-has-index'>MyDummy_ChanA_multi_2d_setpoint_param_that_setpoint</span></div><div class='xr-var-dims'>(MyDummy_ChanA_multi_2d_setpoint_param_that_setpoint)</div><div class='xr-var-dtype'>float64</div><div class='xr-var-preview xr-preview'>9.0 10.0 11.0</div><input id='attrs-1fdce569-2778-4b87-9216-c15f9fd7ba6a' class='xr-var-attrs-in' type='checkbox' ><label for='attrs-1fdce569-2778-4b87-9216-c15f9fd7ba6a' title='Show/Hide attributes'><svg class='icon xr-icon-file-text2'><use xlink:href='#icon-file-text2'></use></svg></label><input id='data-dfe2c3b4-6d89-4f5d-ab54-a2e8775ffc06' class='xr-var-data-in' type='checkbox'><label for='data-dfe2c3b4-6d89-4f5d-ab54-a2e8775ffc06' title='Show/Hide data repr'><svg class='icon xr-icon-database'><use xlink:href='#icon-database'></use></svg></label><div class='xr-var-attrs'><dl class='xr-attrs'><dt><span>name :</span></dt><dd>MyDummy_ChanA_multi_2d_setpoint_param_that_setpoint</dd><dt><span>paramtype :</span></dt><dd>numeric</dd><dt><span>label :</span></dt><dd>that setpoint</dd><dt><span>unit :</span></dt><dd>that setpointunit</dd><dt><span>inferred_from :</span></dt><dd>[]</dd><dt><span>depends_on :</span></dt><dd>[]</dd></dl></div><div class='xr-var-data'><pre>array([ 9., 10., 11.])</pre></div></li></ul></div></li><li class='xr-section-item'><input id='section-3eba70c6-f3d2-4648-bbbe-e891a247cf37' class='xr-section-summary-in' type='checkbox'  checked><label for='section-3eba70c6-f3d2-4648-bbbe-e891a247cf37' class='xr-section-summary' >Data variables: <span>(2)</span></label><div class='xr-section-inline-details'></div><div class='xr-section-details'><ul class='xr-var-list'><li class='xr-var-item'><div class='xr-var-name'><span>MyDummy_ChanA_that</span></div><div class='xr-var-dims'>(MyDummy_ChanA_multi_2d_setpoint_param_this_setpoint, MyDummy_ChanA_multi_2d_setpoint_param_that_setpoint)</div><div class='xr-var-dtype'>float64</div><div class='xr-var-preview xr-preview'>1.0 1.0 1.0 1.0 ... 1.0 1.0 1.0 1.0</div><input id='attrs-a8af4062-48f7-4828-8473-95bf237c8131' class='xr-var-attrs-in' type='checkbox' ><label for='attrs-a8af4062-48f7-4828-8473-95bf237c8131' title='Show/Hide attributes'><svg class='icon xr-icon-file-text2'><use xlink:href='#icon-file-text2'></use></svg></label><input id='data-b8a9cefc-ebf7-41f2-9f5b-1c2aa8532916' class='xr-var-data-in' type='checkbox'><label for='data-b8a9cefc-ebf7-41f2-9f5b-1c2aa8532916' title='Show/Hide data repr'><svg class='icon xr-icon-database'><use xlink:href='#icon-database'></use></svg></label><div class='xr-var-attrs'><dl class='xr-attrs'><dt><span>name :</span></dt><dd>MyDummy_ChanA_that</dd><dt><span>paramtype :</span></dt><dd>numeric</dd><dt><span>label :</span></dt><dd>that label</dd><dt><span>unit :</span></dt><dd>that unit</dd><dt><span>inferred_from :</span></dt><dd>[]</dd><dt><span>depends_on :</span></dt><dd>[&#x27;MyDummy_ChanA_multi_2d_setpoint_param_this_setpoint&#x27;, &#x27;MyDummy_ChanA_multi_2d_setpoint_param_that_setpoint&#x27;]</dd></dl></div><div class='xr-var-data'><pre>array([[1., 1., 1.],\n",
       "       [1., 1., 1.],\n",
       "       [1., 1., 1.],\n",
       "       [1., 1., 1.],\n",
       "       [1., 1., 1.]])</pre></div></li><li class='xr-var-item'><div class='xr-var-name'><span>MyDummy_ChanA_this</span></div><div class='xr-var-dims'>(MyDummy_ChanA_multi_2d_setpoint_param_this_setpoint, MyDummy_ChanA_multi_2d_setpoint_param_that_setpoint)</div><div class='xr-var-dtype'>float64</div><div class='xr-var-preview xr-preview'>0.0 0.0 0.0 0.0 ... 0.0 0.0 0.0 0.0</div><input id='attrs-8f441d84-3806-4673-8c7f-811be97bb911' class='xr-var-attrs-in' type='checkbox' ><label for='attrs-8f441d84-3806-4673-8c7f-811be97bb911' title='Show/Hide attributes'><svg class='icon xr-icon-file-text2'><use xlink:href='#icon-file-text2'></use></svg></label><input id='data-9e7113be-400c-4509-b6a1-436ad6fe48d7' class='xr-var-data-in' type='checkbox'><label for='data-9e7113be-400c-4509-b6a1-436ad6fe48d7' title='Show/Hide data repr'><svg class='icon xr-icon-database'><use xlink:href='#icon-database'></use></svg></label><div class='xr-var-attrs'><dl class='xr-attrs'><dt><span>name :</span></dt><dd>MyDummy_ChanA_this</dd><dt><span>paramtype :</span></dt><dd>numeric</dd><dt><span>label :</span></dt><dd>this label</dd><dt><span>unit :</span></dt><dd>this unit</dd><dt><span>inferred_from :</span></dt><dd>[]</dd><dt><span>depends_on :</span></dt><dd>[&#x27;MyDummy_ChanA_multi_2d_setpoint_param_this_setpoint&#x27;, &#x27;MyDummy_ChanA_multi_2d_setpoint_param_that_setpoint&#x27;]</dd></dl></div><div class='xr-var-data'><pre>array([[0., 0., 0.],\n",
       "       [0., 0., 0.],\n",
       "       [0., 0., 0.],\n",
       "       [0., 0., 0.],\n",
       "       [0., 0., 0.]])</pre></div></li></ul></div></li><li class='xr-section-item'><input id='section-7567fbab-83ab-47a4-960b-7a595c9e4fca' class='xr-section-summary-in' type='checkbox'  checked><label for='section-7567fbab-83ab-47a4-960b-7a595c9e4fca' class='xr-section-summary' >Attributes: <span>(2)</span></label><div class='xr-section-inline-details'></div><div class='xr-section-details'><dl class='xr-attrs'><dt><span>sample_name :</span></dt><dd>no sample</dd><dt><span>exp_name :</span></dt><dd>performing_meas_using_parameters_and_dataset</dd></dl></div></li></ul></div></div>"
      ],
      "text/plain": [
       "<xarray.Dataset>\n",
       "Dimensions:                                              (MyDummy_ChanA_multi_2d_setpoint_param_that_setpoint: 3, MyDummy_ChanA_multi_2d_setpoint_param_this_setpoint: 5)\n",
       "Coordinates:\n",
       "  * MyDummy_ChanA_multi_2d_setpoint_param_this_setpoint  (MyDummy_ChanA_multi_2d_setpoint_param_this_setpoint) float64 ...\n",
       "  * MyDummy_ChanA_multi_2d_setpoint_param_that_setpoint  (MyDummy_ChanA_multi_2d_setpoint_param_that_setpoint) float64 ...\n",
       "Data variables:\n",
       "    MyDummy_ChanA_that                                   (MyDummy_ChanA_multi_2d_setpoint_param_this_setpoint, MyDummy_ChanA_multi_2d_setpoint_param_that_setpoint) float64 ...\n",
       "    MyDummy_ChanA_this                                   (MyDummy_ChanA_multi_2d_setpoint_param_this_setpoint, MyDummy_ChanA_multi_2d_setpoint_param_that_setpoint) float64 ...\n",
       "Attributes:\n",
       "    sample_name:  no sample\n",
       "    exp_name:     performing_meas_using_parameters_and_dataset"
      ]
     },
     "execution_count": 1,
     "metadata": {},
     "output_type": "execute_result"
    }
   ],
   "source": [
    "datasaver.dataset.to_xarray_dataset()"
   ]
  },
  {
   "cell_type": "markdown",
   "metadata": {},
   "source": [
    "## Avoiding verbosity of the Measurement context manager for simple measurements\n",
    "\n",
    "For simple 1D/2D grid-type of measurements, it may feel like an overkill to use the verbose and flexible Measurement context manager construct. For this case, so-called ``doNd`` functions come ti rescue - convenient one- or two-line calls, read more about them in [Using doNd functions](./Using_doNd_functions_in_comparison_to_Measurement_context_manager_for_performing_measurements.ipynb)."
   ]
  },
  {
   "cell_type": "markdown",
   "metadata": {},
   "source": [
    "## Optimizing measurement time\n",
    "\n",
    "There are measurements that are data-heavy or time consuming, or both. QCoDeS provides some features and tools that should help in optimizing the measurement time. Some of those are:\n",
    "\n",
    "* [Saving data in the background](./Saving_data_in_the_background.ipynb)\n",
    "* Setting more appropriate ``paramtype`` when registering parameters, see [Paramtypes explained](./Paramtypes%20explained.ipynb)\n"
   ]
  },
  {
   "cell_type": "markdown",
   "metadata": {},
   "source": [
    "## The power of the Measurement context manager construct\n",
    "\n",
    "This new form is so free that we may easily do thing impossible with the old Loop construct."
   ]
  },
  {
   "cell_type": "markdown",
   "metadata": {},
   "source": [
    "Say, that from the plot of the above 1D measurement, \n",
    "we decide that a voltage below 1 V is uninteresting,\n",
    "so we stop the sweep at that point, thus,\n",
    "we do not know in advance how many points we'll measure."
   ]
  },
  {
   "cell_type": "code",
   "execution_count": 40,
   "metadata": {
    "execution": {
     "iopub.execute_input": "2021-02-16T08:56:12.914950Z",
     "iopub.status.busy": "2021-02-16T08:56:12.913126Z",
     "iopub.status.idle": "2021-02-16T08:56:12.934843Z",
     "shell.execute_reply": "2021-02-16T08:56:12.934390Z"
    }
   },
   "outputs": [
    {
     "name": "stdout",
     "output_type": "stream",
     "text": [
      "Starting experimental run with id: 39. \n"
     ]
    }
   ],
   "source": [
    "meas = Measurement(exp=exp)\n",
    "meas.register_parameter(dac.ch1)  # register the first independent parameter\n",
    "meas.register_parameter(dmm.v1, setpoints=(dac.ch1,))  # now register the dependent oone\n",
    "\n",
    "with meas.run() as datasaver:\n",
    "        \n",
    "    for set_v in np.linspace(0, 25, 100):\n",
    "        dac.ch1.set(set_v)\n",
    "        get_v = dmm.v1.get()        \n",
    "        datasaver.add_result((dac.ch1, set_v),\n",
    "                             (dmm.v1, get_v))\n",
    "\n",
    "        if get_v < 1:\n",
    "            break\n",
    "    \n",
    "    dataset = datasaver.dataset"
   ]
  },
  {
   "cell_type": "code",
   "execution_count": 41,
   "metadata": {
    "execution": {
     "iopub.execute_input": "2021-02-16T08:56:12.938942Z",
     "iopub.status.busy": "2021-02-16T08:56:12.938352Z",
     "iopub.status.idle": "2021-02-16T08:56:13.140422Z",
     "shell.execute_reply": "2021-02-16T08:56:13.139740Z"
    }
   },
   "outputs": [
    {
     "data": {
      "image/png": "[encoded data removed]",
      "text/plain": [
       "<Figure size 432x288 with 1 Axes>"
      ]
     },
     "metadata": {
      "needs_background": "light"
     },
     "output_type": "display_data"
    }
   ],
   "source": [
    "ax, cbax = plot_dataset(dataset)"
   ]
  },
  {
   "cell_type": "markdown",
   "metadata": {},
   "source": [
    "Or we might want to simply get as many points as possible in 10 s\n",
    "randomly sampling the region between 0 V and 10 V (for the setpoint axis)."
   ]
  },
  {
   "cell_type": "code",
   "execution_count": 42,
   "metadata": {
    "execution": {
     "iopub.execute_input": "2021-02-16T08:56:13.147106Z",
     "iopub.status.busy": "2021-02-16T08:56:13.146000Z",
     "iopub.status.idle": "2021-02-16T08:56:16.203678Z",
     "shell.execute_reply": "2021-02-16T08:56:16.203140Z"
    }
   },
   "outputs": [
    {
     "name": "stdout",
     "output_type": "stream",
     "text": [
      "Starting experimental run with id: 40. \n"
     ]
    }
   ],
   "source": [
    "from time import monotonic, sleep\n",
    "\n",
    "with meas.run() as datasaver:\n",
    "    \n",
    "    t_start = monotonic()\n",
    "    \n",
    "    while monotonic() - t_start < 3:\n",
    "        set_v = 10/2*(np.random.rand() + 1)\n",
    "        dac.ch1.set(set_v)\n",
    "        \n",
    "        # some sleep to not get too many points (or to let the system settle)\n",
    "        sleep(0.04)\n",
    "        \n",
    "        get_v = dmm.v1.get()        \n",
    "        datasaver.add_result((dac.ch1, set_v),\n",
    "                             (dmm.v1, get_v))\n",
    "    \n",
    "    dataset = datasaver.dataset  # convenient to have for plotting"
   ]
  },
  {
   "cell_type": "code",
   "execution_count": 43,
   "metadata": {
    "execution": {
     "iopub.execute_input": "2021-02-16T08:56:16.209645Z",
     "iopub.status.busy": "2021-02-16T08:56:16.208763Z",
     "iopub.status.idle": "2021-02-16T08:56:16.380785Z",
     "shell.execute_reply": "2021-02-16T08:56:16.381323Z"
    }
   },
   "outputs": [
    {
     "data": {
      "image/png": "[encoded data removed]",
      "text/plain": [
       "<Figure size 432x288 with 1 Axes>"
      ]
     },
     "metadata": {
      "needs_background": "light"
     },
     "output_type": "display_data"
    }
   ],
   "source": [
    "axes, cbax = plot_dataset(dataset)\n",
    "# we slightly tweak the plot to better visualise the highly non-standard axis spacing\n",
    "axes[0].lines[0].set_marker('o')\n",
    "axes[0].lines[0].set_markerfacecolor((0.6, 0.6, 0.9))\n",
    "axes[0].lines[0].set_markeredgecolor((0.4, 0.6, 0.9))\n",
    "axes[0].lines[0].set_color((0.8, 0.8, 0.8))"
   ]
  },
  {
   "cell_type": "markdown",
   "metadata": {},
   "source": [
    "### Finer sampling in 2D"
   ]
  },
  {
   "cell_type": "markdown",
   "metadata": {},
   "source": [
    "Looking at the plot of the 2D measurement above, we may decide to sample more finely in the central region:"
   ]
  },
  {
   "cell_type": "code",
   "execution_count": 44,
   "metadata": {
    "execution": {
     "iopub.execute_input": "2021-02-16T08:56:16.389830Z",
     "iopub.status.busy": "2021-02-16T08:56:16.388554Z",
     "iopub.status.idle": "2021-02-16T08:56:16.393154Z",
     "shell.execute_reply": "2021-02-16T08:56:16.392537Z"
    }
   },
   "outputs": [
    {
     "data": {
      "text/plain": [
       "<qcodes.dataset.measurements.Measurement at 0x7f1e84b84c50>"
      ]
     },
     "execution_count": 1,
     "metadata": {},
     "output_type": "execute_result"
    }
   ],
   "source": [
    "meas = Measurement(exp=exp)\n",
    "meas.register_parameter(dac.ch1)  # register the first independent parameter\n",
    "meas.register_parameter(dac.ch2)  # register the second independent parameter\n",
    "meas.register_parameter(dmm.v2, setpoints=(dac.ch1, dac.ch2))  # now register the dependent oone"
   ]
  },
  {
   "cell_type": "code",
   "execution_count": 45,
   "metadata": {
    "execution": {
     "iopub.execute_input": "2021-02-16T08:56:16.399182Z",
     "iopub.status.busy": "2021-02-16T08:56:16.397923Z",
     "iopub.status.idle": "2021-02-16T08:56:28.646874Z",
     "shell.execute_reply": "2021-02-16T08:56:28.645979Z"
    }
   },
   "outputs": [
    {
     "name": "stdout",
     "output_type": "stream",
     "text": [
      "Starting experimental run with id: 41. \n"
     ]
    }
   ],
   "source": [
    "with meas.run() as datasaver:\n",
    "\n",
    "    v1points = np.concatenate((np.linspace(-1, -0.5, 5),\n",
    "                               np.linspace(-0.51, 0.5, 200),\n",
    "                               np.linspace(0.51, 1, 5)))\n",
    "    v2points = np.concatenate((np.linspace(-1, -0.25, 5),\n",
    "                               np.linspace(-0.26, 0.5, 200),\n",
    "                               np.linspace(0.51, 1, 5)))\n",
    "    \n",
    "    for v1 in v1points:\n",
    "        for v2 in v2points:\n",
    "            dac.ch1(v1)\n",
    "            dac.ch2(v2)\n",
    "            val = dmm.v2.get()\n",
    "            datasaver.add_result((dac.ch1, v1),\n",
    "                                 (dac.ch2, v2),\n",
    "                                 (dmm.v2, val))\n",
    "\n",
    "    dataset = datasaver.dataset  # convenient to have for plotting"
   ]
  },
  {
   "cell_type": "code",
   "execution_count": 46,
   "metadata": {
    "execution": {
     "iopub.execute_input": "2021-02-16T08:56:28.651479Z",
     "iopub.status.busy": "2021-02-16T08:56:28.650359Z",
     "iopub.status.idle": "2021-02-16T08:56:29.542386Z",
     "shell.execute_reply": "2021-02-16T08:56:29.541928Z"
    }
   },
   "outputs": [
    {
     "data": {
      "image/png": "[encoded data removed]",
      "text/plain": [
       "<Figure size 432x288 with 2 Axes>"
      ]
     },
     "metadata": {
      "needs_background": "light"
     },
     "output_type": "display_data"
    }
   ],
   "source": [
    "ax, cbax = plot_dataset(dataset)"
   ]
  },
  {
   "cell_type": "markdown",
   "metadata": {},
   "source": [
    "### Simple adaptive 2D sweep"
   ]
  },
  {
   "cell_type": "markdown",
   "metadata": {},
   "source": [
    ".. or even perform an adaptive sweep... ooohh...\n",
    "(the example below is a not-very-clever toy model example,\n",
    "but it nicely shows a semi-realistic measurement that the old Loop\n",
    "could not handle)"
   ]
  },
  {
   "cell_type": "code",
   "execution_count": 47,
   "metadata": {
    "execution": {
     "iopub.execute_input": "2021-02-16T08:56:29.553302Z",
     "iopub.status.busy": "2021-02-16T08:56:29.552044Z",
     "iopub.status.idle": "2021-02-16T08:56:34.704317Z",
     "shell.execute_reply": "2021-02-16T08:56:34.703723Z"
    }
   },
   "outputs": [
    {
     "name": "stdout",
     "output_type": "stream",
     "text": [
      "Starting experimental run with id: 42. \n"
     ]
    },
    {
     "name": "stdout",
     "output_type": "stream",
     "text": [
      "130 46 0.2500608935070951\n",
      "----------\n"
     ]
    }
   ],
   "source": [
    "v1_points = np.linspace(-1, 1, 250)\n",
    "v2_points = np.linspace(1, -1, 250)\n",
    "\n",
    "threshold = 0.25\n",
    "\n",
    "with meas.run() as datasaver:\n",
    "    # Do normal sweeping until the peak is detected\n",
    "    \n",
    "    for v2ind, v2 in enumerate(v2_points):\n",
    "        for v1ind, v1 in enumerate(v1_points):\n",
    "            dac.ch1(v1)\n",
    "            dac.ch2(v2)\n",
    "            val = dmm.v2.get()\n",
    "            datasaver.add_result((dac.ch1, v1),\n",
    "                                 (dac.ch2, v2),\n",
    "                                 (dmm.v2, val))\n",
    "            if val > threshold:\n",
    "                break\n",
    "        else:\n",
    "            continue\n",
    "        break\n",
    "        \n",
    "    print(v1ind, v2ind, val)\n",
    "    print('-'*10)\n",
    "        \n",
    "    # now be more clever, meandering back and forth over the peak\n",
    "    doneyet = False\n",
    "    rowdone = False\n",
    "    v1_step = 1\n",
    "    while not doneyet:\n",
    "            v2 = v2_points[v2ind]\n",
    "            v1 = v1_points[v1ind+v1_step-1]\n",
    "            dac.ch1(v1)\n",
    "            dac.ch2(v2)\n",
    "            val = dmm.v2.get()\n",
    "            datasaver.add_result((dac.ch1, v1),\n",
    "                                 (dac.ch2, v2),\n",
    "                                 (dmm.v2, val))\n",
    "            if val < threshold:\n",
    "                if rowdone:\n",
    "                    doneyet = True\n",
    "                v2ind += 1\n",
    "                v1_step *= -1\n",
    "                rowdone = True\n",
    "            else:\n",
    "                v1ind += v1_step\n",
    "                rowdone = False\n",
    "                \n",
    "dataset = datasaver.dataset  # convenient to have for plotting"
   ]
  },
  {
   "cell_type": "code",
   "execution_count": 48,
   "metadata": {
    "execution": {
     "iopub.execute_input": "2021-02-16T08:56:34.709090Z",
     "iopub.status.busy": "2021-02-16T08:56:34.707933Z",
     "iopub.status.idle": "2021-02-16T08:56:35.542865Z",
     "shell.execute_reply": "2021-02-16T08:56:35.542236Z"
    }
   },
   "outputs": [
    {
     "name": "stderr",
     "output_type": "stream",
     "text": [
      "2021-02-16 08:56:35,113 ¦ py.warnings ¦ WARNING ¦ warnings ¦ _showwarnmsg ¦ 110 ¦ /opt/hostedtoolcache/Python/3.7.9/x64/lib/python3.7/site-packages/qcodes/dataset/data_export.py:172: VisibleDeprecationWarning: Creating an ndarray from ragged nested sequences (which is a list-or-tuple of lists-or-tuples-or ndarrays with different lengths or shapes) is deprecated. If you meant to do this, you must specify 'dtype=object' when creating the ndarray.\n",
      "  return np.array(rows)\n",
      "\n"
     ]
    },
    {
     "data": {
      "image/png": "[encoded data removed]",
      "text/plain": [
       "<Figure size 432x288 with 2 Axes>"
      ]
     },
     "metadata": {
      "needs_background": "light"
     },
     "output_type": "display_data"
    }
   ],
   "source": [
    "ax, cbax = plot_dataset(dataset)"
   ]
  },
  {
   "cell_type": "markdown",
   "metadata": {},
   "source": [
    "### Random sampling "
   ]
  },
  {
   "cell_type": "markdown",
   "metadata": {},
   "source": [
    "We may also chose to sample completely randomly across the phase space"
   ]
  },
  {
   "cell_type": "code",
   "execution_count": 49,
   "metadata": {
    "execution": {
     "iopub.execute_input": "2021-02-16T08:56:35.552492Z",
     "iopub.status.busy": "2021-02-16T08:56:35.551639Z",
     "iopub.status.idle": "2021-02-16T08:56:36.761780Z",
     "shell.execute_reply": "2021-02-16T08:56:36.760583Z"
    }
   },
   "outputs": [
    {
     "name": "stdout",
     "output_type": "stream",
     "text": [
      "Starting experimental run with id: 43. \n"
     ]
    }
   ],
   "source": [
    "meas2 = Measurement(exp=exp)\n",
    "meas2.register_parameter(dac.ch1)  \n",
    "meas2.register_parameter(dac.ch2)\n",
    "meas2.register_parameter(dmm.v2, setpoints=(dac.ch1, dac.ch2))\n",
    "\n",
    "threshold = 0.25\n",
    "\n",
    "npoints = 5000\n",
    "\n",
    "with meas2.run() as datasaver:\n",
    "    for i in range(npoints):\n",
    "        x = 2*(np.random.rand()-.5)\n",
    "        y = 2*(np.random.rand()-.5)\n",
    "        dac.ch1(x)\n",
    "        dac.ch2(y)\n",
    "        z = dmm.v2()\n",
    "        datasaver.add_result((dac.ch1, x),\n",
    "                             (dac.ch2, y),\n",
    "                             (dmm.v2, z))\n",
    "dataset = datasaver.dataset  # convenient to have for plotting"
   ]
  },
  {
   "cell_type": "code",
   "execution_count": 50,
   "metadata": {
    "execution": {
     "iopub.execute_input": "2021-02-16T08:56:36.766489Z",
     "iopub.status.busy": "2021-02-16T08:56:36.765356Z",
     "iopub.status.idle": "2021-02-16T08:56:37.196490Z",
     "shell.execute_reply": "2021-02-16T08:56:37.195906Z"
    }
   },
   "outputs": [
    {
     "data": {
      "image/png": "[encoded data removed]",
      "text/plain": [
       "<Figure size 432x288 with 2 Axes>"
      ]
     },
     "metadata": {
      "needs_background": "light"
     },
     "output_type": "display_data"
    }
   ],
   "source": [
    "ax, cbax = plot_dataset(dataset)"
   ]
  },
  {
   "cell_type": "code",
   "execution_count": 51,
   "metadata": {
    "execution": {
     "iopub.execute_input": "2021-02-16T08:56:37.202085Z",
     "iopub.status.busy": "2021-02-16T08:56:37.201351Z",
     "iopub.status.idle": "2021-02-16T08:56:37.285114Z",
     "shell.execute_reply": "2021-02-16T08:56:37.285645Z"
    }
   },
   "outputs": [
    {
     "data": {
      "text/html": [
       "<div>\n",
       "<style scoped>\n",
       "    .dataframe tbody tr th:only-of-type {\n",
       "        vertical-align: middle;\n",
       "    }\n",
       "\n",
       "    .dataframe tbody tr th {\n",
       "        vertical-align: top;\n",
       "    }\n",
       "\n",
       "    .dataframe thead th {\n",
       "        text-align: right;\n",
       "    }\n",
       "</style>\n",
       "<table border=\"1\" class=\"dataframe\">\n",
       "  <thead>\n",
       "    <tr style=\"text-align: right;\">\n",
       "      <th></th>\n",
       "      <th></th>\n",
       "      <th>dmm_v2</th>\n",
       "    </tr>\n",
       "    <tr>\n",
       "      <th>dac_ch1</th>\n",
       "      <th>dac_ch2</th>\n",
       "      <th></th>\n",
       "    </tr>\n",
       "  </thead>\n",
       "  <tbody>\n",
       "    <tr>\n",
       "      <th>0.305901</th>\n",
       "      <th>-0.758536</th>\n",
       "      <td>-0.000242</td>\n",
       "    </tr>\n",
       "    <tr>\n",
       "      <th>-0.054421</th>\n",
       "      <th>0.747433</th>\n",
       "      <td>0.084955</td>\n",
       "    </tr>\n",
       "    <tr>\n",
       "      <th>0.579673</th>\n",
       "      <th>-0.073010</th>\n",
       "      <td>0.098443</td>\n",
       "    </tr>\n",
       "    <tr>\n",
       "      <th>-0.483254</th>\n",
       "      <th>0.003633</th>\n",
       "      <td>0.054952</td>\n",
       "    </tr>\n",
       "    <tr>\n",
       "      <th>0.862849</th>\n",
       "      <th>0.229596</th>\n",
       "      <td>0.010235</td>\n",
       "    </tr>\n",
       "    <tr>\n",
       "      <th>0.980654</th>\n",
       "      <th>0.674579</th>\n",
       "      <td>0.000790</td>\n",
       "    </tr>\n",
       "    <tr>\n",
       "      <th>0.859609</th>\n",
       "      <th>0.454574</th>\n",
       "      <td>0.006064</td>\n",
       "    </tr>\n",
       "    <tr>\n",
       "      <th>0.184982</th>\n",
       "      <th>0.406880</th>\n",
       "      <td>0.759972</td>\n",
       "    </tr>\n",
       "    <tr>\n",
       "      <th>-0.355283</th>\n",
       "      <th>-0.654321</th>\n",
       "      <td>0.001693</td>\n",
       "    </tr>\n",
       "    <tr>\n",
       "      <th>0.546095</th>\n",
       "      <th>-0.337120</th>\n",
       "      <td>0.023079</td>\n",
       "    </tr>\n",
       "  </tbody>\n",
       "</table>\n",
       "</div>"
      ],
      "text/plain": [
       "                       dmm_v2\n",
       "dac_ch1   dac_ch2            \n",
       " 0.305901 -0.758536 -0.000242\n",
       "-0.054421  0.747433  0.084955\n",
       " 0.579673 -0.073010  0.098443\n",
       "-0.483254  0.003633  0.054952\n",
       " 0.862849  0.229596  0.010235\n",
       " 0.980654  0.674579  0.000790\n",
       " 0.859609  0.454574  0.006064\n",
       " 0.184982  0.406880  0.759972\n",
       "-0.355283 -0.654321  0.001693\n",
       " 0.546095 -0.337120  0.023079"
      ]
     },
     "execution_count": 1,
     "metadata": {},
     "output_type": "execute_result"
    }
   ],
   "source": [
    "datasaver.dataset.to_pandas_dataframe()[0:10]"
   ]
  },
  {
   "cell_type": "markdown",
   "metadata": {},
   "source": [
    "Unlike the data measured above, which lies on a grid, here, all the measured data points have an unique combination of the two dependent parameters. When exporting to XArray NaN's will therefore replace all the missing combinations of `dac_ch1` and `dac_ch2` and the data is unlikely to be useful in this format. "
   ]
  },
  {
   "cell_type": "code",
   "execution_count": 52,
   "metadata": {
    "execution": {
     "iopub.execute_input": "2021-02-16T08:56:37.290249Z",
     "iopub.status.busy": "2021-02-16T08:56:37.289594Z",
     "iopub.status.idle": "2021-02-16T08:56:37.586633Z",
     "shell.execute_reply": "2021-02-16T08:56:37.587160Z"
    }
   },
   "outputs": [
    {
     "data": {
      "text/html": [
       "<div><svg style=\"position: absolute; width: 0; height: 0; overflow: hidden\">\n",
       "<defs>\n",
       "<symbol id=\"icon-database\" viewBox=\"0 0 32 32\">\n",
       "<path d=\"M16 0c-8.837 0-16 2.239-16 5v4c0 2.761 7.163 5 16 5s16-2.239 16-5v-4c0-2.761-7.163-5-16-5z\"></path>\n",
       "<path d=\"M16 17c-8.837 0-16-2.239-16-5v6c0 2.761 7.163 5 16 5s16-2.239 16-5v-6c0 2.761-7.163 5-16 5z\"></path>\n",
       "<path d=\"M16 26c-8.837 0-16-2.239-16-5v6c0 2.761 7.163 5 16 5s16-2.239 16-5v-6c0 2.761-7.163 5-16 5z\"></path>\n",
       "</symbol>\n",
       "<symbol id=\"icon-file-text2\" viewBox=\"0 0 32 32\">\n",
       "<path d=\"M28.681 7.159c-0.694-0.947-1.662-2.053-2.724-3.116s-2.169-2.030-3.116-2.724c-1.612-1.182-2.393-1.319-2.841-1.319h-15.5c-1.378 0-2.5 1.121-2.5 2.5v27c0 1.378 1.122 2.5 2.5 2.5h23c1.378 0 2.5-1.122 2.5-2.5v-19.5c0-0.448-0.137-1.23-1.319-2.841zM24.543 5.457c0.959 0.959 1.712 1.825 2.268 2.543h-4.811v-4.811c0.718 0.556 1.584 1.309 2.543 2.268zM28 29.5c0 0.271-0.229 0.5-0.5 0.5h-23c-0.271 0-0.5-0.229-0.5-0.5v-27c0-0.271 0.229-0.5 0.5-0.5 0 0 15.499-0 15.5 0v7c0 0.552 0.448 1 1 1h7v19.5z\"></path>\n",
       "<path d=\"M23 26h-14c-0.552 0-1-0.448-1-1s0.448-1 1-1h14c0.552 0 1 0.448 1 1s-0.448 1-1 1z\"></path>\n",
       "<path d=\"M23 22h-14c-0.552 0-1-0.448-1-1s0.448-1 1-1h14c0.552 0 1 0.448 1 1s-0.448 1-1 1z\"></path>\n",
       "<path d=\"M23 18h-14c-0.552 0-1-0.448-1-1s0.448-1 1-1h14c0.552 0 1 0.448 1 1s-0.448 1-1 1z\"></path>\n",
       "</symbol>\n",
       "</defs>\n",
       "</svg>\n",
       "<style>/* CSS stylesheet for displaying xarray objects in jupyterlab.\n",
       " *\n",
       " */\n",
       "\n",
       ":root {\n",
       "  --xr-font-color0: var(--jp-content-font-color0, rgba(0, 0, 0, 1));\n",
       "  --xr-font-color2: var(--jp-content-font-color2, rgba(0, 0, 0, 0.54));\n",
       "  --xr-font-color3: var(--jp-content-font-color3, rgba(0, 0, 0, 0.38));\n",
       "  --xr-border-color: var(--jp-border-color2, #e0e0e0);\n",
       "  --xr-disabled-color: var(--jp-layout-color3, #bdbdbd);\n",
       "  --xr-background-color: var(--jp-layout-color0, white);\n",
       "  --xr-background-color-row-even: var(--jp-layout-color1, white);\n",
       "  --xr-background-color-row-odd: var(--jp-layout-color2, #eeeeee);\n",
       "}\n",
       "\n",
       "html[theme=dark],\n",
       "body.vscode-dark {\n",
       "  --xr-font-color0: rgba(255, 255, 255, 1);\n",
       "  --xr-font-color2: rgba(255, 255, 255, 0.54);\n",
       "  --xr-font-color3: rgba(255, 255, 255, 0.38);\n",
       "  --xr-border-color: #1F1F1F;\n",
       "  --xr-disabled-color: #515151;\n",
       "  --xr-background-color: #111111;\n",
       "  --xr-background-color-row-even: #111111;\n",
       "  --xr-background-color-row-odd: #313131;\n",
       "}\n",
       "\n",
       ".xr-wrap {\n",
       "  display: block;\n",
       "  min-width: 300px;\n",
       "  max-width: 700px;\n",
       "}\n",
       "\n",
       ".xr-text-repr-fallback {\n",
       "  /* fallback to plain text repr when CSS is not injected (untrusted notebook) */\n",
       "  display: none;\n",
       "}\n",
       "\n",
       ".xr-header {\n",
       "  padding-top: 6px;\n",
       "  padding-bottom: 6px;\n",
       "  margin-bottom: 4px;\n",
       "  border-bottom: solid 1px var(--xr-border-color);\n",
       "}\n",
       "\n",
       ".xr-header > div,\n",
       ".xr-header > ul {\n",
       "  display: inline;\n",
       "  margin-top: 0;\n",
       "  margin-bottom: 0;\n",
       "}\n",
       "\n",
       ".xr-obj-type,\n",
       ".xr-array-name {\n",
       "  margin-left: 2px;\n",
       "  margin-right: 10px;\n",
       "}\n",
       "\n",
       ".xr-obj-type {\n",
       "  color: var(--xr-font-color2);\n",
       "}\n",
       "\n",
       ".xr-sections {\n",
       "  padding-left: 0 !important;\n",
       "  display: grid;\n",
       "  grid-template-columns: 150px auto auto 1fr 20px 20px;\n",
       "}\n",
       "\n",
       ".xr-section-item {\n",
       "  display: contents;\n",
       "}\n",
       "\n",
       ".xr-section-item input {\n",
       "  display: none;\n",
       "}\n",
       "\n",
       ".xr-section-item input + label {\n",
       "  color: var(--xr-disabled-color);\n",
       "}\n",
       "\n",
       ".xr-section-item input:enabled + label {\n",
       "  cursor: pointer;\n",
       "  color: var(--xr-font-color2);\n",
       "}\n",
       "\n",
       ".xr-section-item input:enabled + label:hover {\n",
       "  color: var(--xr-font-color0);\n",
       "}\n",
       "\n",
       ".xr-section-summary {\n",
       "  grid-column: 1;\n",
       "  color: var(--xr-font-color2);\n",
       "  font-weight: 500;\n",
       "}\n",
       "\n",
       ".xr-section-summary > span {\n",
       "  display: inline-block;\n",
       "  padding-left: 0.5em;\n",
       "}\n",
       "\n",
       ".xr-section-summary-in:disabled + label {\n",
       "  color: var(--xr-font-color2);\n",
       "}\n",
       "\n",
       ".xr-section-summary-in + label:before {\n",
       "  display: inline-block;\n",
       "  content: '►';\n",
       "  font-size: 11px;\n",
       "  width: 15px;\n",
       "  text-align: center;\n",
       "}\n",
       "\n",
       ".xr-section-summary-in:disabled + label:before {\n",
       "  color: var(--xr-disabled-color);\n",
       "}\n",
       "\n",
       ".xr-section-summary-in:checked + label:before {\n",
       "  content: '▼';\n",
       "}\n",
       "\n",
       ".xr-section-summary-in:checked + label > span {\n",
       "  display: none;\n",
       "}\n",
       "\n",
       ".xr-section-summary,\n",
       ".xr-section-inline-details {\n",
       "  padding-top: 4px;\n",
       "  padding-bottom: 4px;\n",
       "}\n",
       "\n",
       ".xr-section-inline-details {\n",
       "  grid-column: 2 / -1;\n",
       "}\n",
       "\n",
       ".xr-section-details {\n",
       "  display: none;\n",
       "  grid-column: 1 / -1;\n",
       "  margin-bottom: 5px;\n",
       "}\n",
       "\n",
       ".xr-section-summary-in:checked ~ .xr-section-details {\n",
       "  display: contents;\n",
       "}\n",
       "\n",
       ".xr-array-wrap {\n",
       "  grid-column: 1 / -1;\n",
       "  display: grid;\n",
       "  grid-template-columns: 20px auto;\n",
       "}\n",
       "\n",
       ".xr-array-wrap > label {\n",
       "  grid-column: 1;\n",
       "  vertical-align: top;\n",
       "}\n",
       "\n",
       ".xr-preview {\n",
       "  color: var(--xr-font-color3);\n",
       "}\n",
       "\n",
       ".xr-array-preview,\n",
       ".xr-array-data {\n",
       "  padding: 0 5px !important;\n",
       "  grid-column: 2;\n",
       "}\n",
       "\n",
       ".xr-array-data,\n",
       ".xr-array-in:checked ~ .xr-array-preview {\n",
       "  display: none;\n",
       "}\n",
       "\n",
       ".xr-array-in:checked ~ .xr-array-data,\n",
       ".xr-array-preview {\n",
       "  display: inline-block;\n",
       "}\n",
       "\n",
       ".xr-dim-list {\n",
       "  display: inline-block !important;\n",
       "  list-style: none;\n",
       "  padding: 0 !important;\n",
       "  margin: 0;\n",
       "}\n",
       "\n",
       ".xr-dim-list li {\n",
       "  display: inline-block;\n",
       "  padding: 0;\n",
       "  margin: 0;\n",
       "}\n",
       "\n",
       ".xr-dim-list:before {\n",
       "  content: '(';\n",
       "}\n",
       "\n",
       ".xr-dim-list:after {\n",
       "  content: ')';\n",
       "}\n",
       "\n",
       ".xr-dim-list li:not(:last-child):after {\n",
       "  content: ',';\n",
       "  padding-right: 5px;\n",
       "}\n",
       "\n",
       ".xr-has-index {\n",
       "  font-weight: bold;\n",
       "}\n",
       "\n",
       ".xr-var-list,\n",
       ".xr-var-item {\n",
       "  display: contents;\n",
       "}\n",
       "\n",
       ".xr-var-item > div,\n",
       ".xr-var-item label,\n",
       ".xr-var-item > .xr-var-name span {\n",
       "  background-color: var(--xr-background-color-row-even);\n",
       "  margin-bottom: 0;\n",
       "}\n",
       "\n",
       ".xr-var-item > .xr-var-name:hover span {\n",
       "  padding-right: 5px;\n",
       "}\n",
       "\n",
       ".xr-var-list > li:nth-child(odd) > div,\n",
       ".xr-var-list > li:nth-child(odd) > label,\n",
       ".xr-var-list > li:nth-child(odd) > .xr-var-name span {\n",
       "  background-color: var(--xr-background-color-row-odd);\n",
       "}\n",
       "\n",
       ".xr-var-name {\n",
       "  grid-column: 1;\n",
       "}\n",
       "\n",
       ".xr-var-dims {\n",
       "  grid-column: 2;\n",
       "}\n",
       "\n",
       ".xr-var-dtype {\n",
       "  grid-column: 3;\n",
       "  text-align: right;\n",
       "  color: var(--xr-font-color2);\n",
       "}\n",
       "\n",
       ".xr-var-preview {\n",
       "  grid-column: 4;\n",
       "}\n",
       "\n",
       ".xr-var-name,\n",
       ".xr-var-dims,\n",
       ".xr-var-dtype,\n",
       ".xr-preview,\n",
       ".xr-attrs dt {\n",
       "  white-space: nowrap;\n",
       "  overflow: hidden;\n",
       "  text-overflow: ellipsis;\n",
       "  padding-right: 10px;\n",
       "}\n",
       "\n",
       ".xr-var-name:hover,\n",
       ".xr-var-dims:hover,\n",
       ".xr-var-dtype:hover,\n",
       ".xr-attrs dt:hover {\n",
       "  overflow: visible;\n",
       "  width: auto;\n",
       "  z-index: 1;\n",
       "}\n",
       "\n",
       ".xr-var-attrs,\n",
       ".xr-var-data {\n",
       "  display: none;\n",
       "  background-color: var(--xr-background-color) !important;\n",
       "  padding-bottom: 5px !important;\n",
       "}\n",
       "\n",
       ".xr-var-attrs-in:checked ~ .xr-var-attrs,\n",
       ".xr-var-data-in:checked ~ .xr-var-data {\n",
       "  display: block;\n",
       "}\n",
       "\n",
       ".xr-var-data > table {\n",
       "  float: right;\n",
       "}\n",
       "\n",
       ".xr-var-name span,\n",
       ".xr-var-data,\n",
       ".xr-attrs {\n",
       "  padding-left: 25px !important;\n",
       "}\n",
       "\n",
       ".xr-attrs,\n",
       ".xr-var-attrs,\n",
       ".xr-var-data {\n",
       "  grid-column: 1 / -1;\n",
       "}\n",
       "\n",
       "dl.xr-attrs {\n",
       "  padding: 0;\n",
       "  margin: 0;\n",
       "  display: grid;\n",
       "  grid-template-columns: 125px auto;\n",
       "}\n",
       "\n",
       ".xr-attrs dt,\n",
       ".xr-attrs dd {\n",
       "  padding: 0;\n",
       "  margin: 0;\n",
       "  float: left;\n",
       "  padding-right: 10px;\n",
       "  width: auto;\n",
       "}\n",
       "\n",
       ".xr-attrs dt {\n",
       "  font-weight: normal;\n",
       "  grid-column: 1;\n",
       "}\n",
       "\n",
       ".xr-attrs dt:hover span {\n",
       "  display: inline-block;\n",
       "  background: var(--xr-background-color);\n",
       "  padding-right: 10px;\n",
       "}\n",
       "\n",
       ".xr-attrs dd {\n",
       "  grid-column: 2;\n",
       "  white-space: pre-wrap;\n",
       "  word-break: break-all;\n",
       "}\n",
       "\n",
       ".xr-icon-database,\n",
       ".xr-icon-file-text2 {\n",
       "  display: inline-block;\n",
       "  vertical-align: middle;\n",
       "  width: 1em;\n",
       "  height: 1.5em !important;\n",
       "  stroke-width: 0;\n",
       "  stroke: currentColor;\n",
       "  fill: currentColor;\n",
       "}\n",
       "</style><pre class='xr-text-repr-fallback'>&lt;xarray.Dataset&gt;\n",
       "Dimensions:  (dac_ch1: 5000, dac_ch2: 5000)\n",
       "Coordinates:\n",
       "  * dac_ch1  (dac_ch1) float64 -0.9999 -0.9999 -0.9996 ... 0.9988 0.9988 0.9991\n",
       "  * dac_ch2  (dac_ch2) float64 -0.9997 -0.9987 -0.9982 ... 0.9993 0.9998 0.9999\n",
       "Data variables:\n",
       "    dmm_v2   (dac_ch1, dac_ch2) float64 nan nan nan nan nan ... nan nan nan nan\n",
       "Attributes:\n",
       "    sample_name:  no sample\n",
       "    exp_name:     performing_meas_using_parameters_and_dataset</pre><div class='xr-wrap' hidden><div class='xr-header'><div class='xr-obj-type'>xarray.Dataset</div></div><ul class='xr-sections'><li class='xr-section-item'><input id='section-a7456634-649e-431d-ae5c-fd58d1b9f4b0' class='xr-section-summary-in' type='checkbox' disabled ><label for='section-a7456634-649e-431d-ae5c-fd58d1b9f4b0' class='xr-section-summary'  title='Expand/collapse section'>Dimensions:</label><div class='xr-section-inline-details'><ul class='xr-dim-list'><li><span class='xr-has-index'>dac_ch1</span>: 5000</li><li><span class='xr-has-index'>dac_ch2</span>: 5000</li></ul></div><div class='xr-section-details'></div></li><li class='xr-section-item'><input id='section-08b4a296-4a99-47c1-a492-ebf141d7306e' class='xr-section-summary-in' type='checkbox'  checked><label for='section-08b4a296-4a99-47c1-a492-ebf141d7306e' class='xr-section-summary' >Coordinates: <span>(2)</span></label><div class='xr-section-inline-details'></div><div class='xr-section-details'><ul class='xr-var-list'><li class='xr-var-item'><div class='xr-var-name'><span class='xr-has-index'>dac_ch1</span></div><div class='xr-var-dims'>(dac_ch1)</div><div class='xr-var-dtype'>float64</div><div class='xr-var-preview xr-preview'>-0.9999 -0.9999 ... 0.9988 0.9991</div><input id='attrs-a37180b6-4e41-4340-9bb2-c4505a759839' class='xr-var-attrs-in' type='checkbox' ><label for='attrs-a37180b6-4e41-4340-9bb2-c4505a759839' title='Show/Hide attributes'><svg class='icon xr-icon-file-text2'><use xlink:href='#icon-file-text2'></use></svg></label><input id='data-dc1d47df-43fb-448a-a9de-f3125361beb8' class='xr-var-data-in' type='checkbox'><label for='data-dc1d47df-43fb-448a-a9de-f3125361beb8' title='Show/Hide data repr'><svg class='icon xr-icon-database'><use xlink:href='#icon-database'></use></svg></label><div class='xr-var-attrs'><dl class='xr-attrs'><dt><span>name :</span></dt><dd>dac_ch1</dd><dt><span>paramtype :</span></dt><dd>numeric</dd><dt><span>label :</span></dt><dd>Gate ch1</dd><dt><span>unit :</span></dt><dd>V</dd><dt><span>inferred_from :</span></dt><dd>[]</dd><dt><span>depends_on :</span></dt><dd>[]</dd></dl></div><div class='xr-var-data'><pre>array([-0.999886, -0.999857, -0.999627, ...,  0.998821,  0.998829,  0.999103])</pre></div></li><li class='xr-var-item'><div class='xr-var-name'><span class='xr-has-index'>dac_ch2</span></div><div class='xr-var-dims'>(dac_ch2)</div><div class='xr-var-dtype'>float64</div><div class='xr-var-preview xr-preview'>-0.9997 -0.9987 ... 0.9998 0.9999</div><input id='attrs-8439d7a0-0d92-4b04-ab3c-3f2a312183d7' class='xr-var-attrs-in' type='checkbox' ><label for='attrs-8439d7a0-0d92-4b04-ab3c-3f2a312183d7' title='Show/Hide attributes'><svg class='icon xr-icon-file-text2'><use xlink:href='#icon-file-text2'></use></svg></label><input id='data-38010639-3708-4b70-956d-ad88124e8e6d' class='xr-var-data-in' type='checkbox'><label for='data-38010639-3708-4b70-956d-ad88124e8e6d' title='Show/Hide data repr'><svg class='icon xr-icon-database'><use xlink:href='#icon-database'></use></svg></label><div class='xr-var-attrs'><dl class='xr-attrs'><dt><span>name :</span></dt><dd>dac_ch2</dd><dt><span>paramtype :</span></dt><dd>numeric</dd><dt><span>label :</span></dt><dd>Gate ch2</dd><dt><span>unit :</span></dt><dd>V</dd><dt><span>inferred_from :</span></dt><dd>[]</dd><dt><span>depends_on :</span></dt><dd>[]</dd></dl></div><div class='xr-var-data'><pre>array([-0.999672, -0.998732, -0.998246, ...,  0.999264,  0.999788,  0.999926])</pre></div></li></ul></div></li><li class='xr-section-item'><input id='section-64fa83f8-dc25-44ec-9703-fca8093b35e7' class='xr-section-summary-in' type='checkbox'  checked><label for='section-64fa83f8-dc25-44ec-9703-fca8093b35e7' class='xr-section-summary' >Data variables: <span>(1)</span></label><div class='xr-section-inline-details'></div><div class='xr-section-details'><ul class='xr-var-list'><li class='xr-var-item'><div class='xr-var-name'><span>dmm_v2</span></div><div class='xr-var-dims'>(dac_ch1, dac_ch2)</div><div class='xr-var-dtype'>float64</div><div class='xr-var-preview xr-preview'>nan nan nan nan ... nan nan nan nan</div><input id='attrs-1ee85bae-4163-488b-9e74-cd257349f349' class='xr-var-attrs-in' type='checkbox' ><label for='attrs-1ee85bae-4163-488b-9e74-cd257349f349' title='Show/Hide attributes'><svg class='icon xr-icon-file-text2'><use xlink:href='#icon-file-text2'></use></svg></label><input id='data-2f5e813e-b642-4ce8-b693-86ddedfc6e93' class='xr-var-data-in' type='checkbox'><label for='data-2f5e813e-b642-4ce8-b693-86ddedfc6e93' title='Show/Hide data repr'><svg class='icon xr-icon-database'><use xlink:href='#icon-database'></use></svg></label><div class='xr-var-attrs'><dl class='xr-attrs'><dt><span>name :</span></dt><dd>dmm_v2</dd><dt><span>paramtype :</span></dt><dd>numeric</dd><dt><span>label :</span></dt><dd>Gate v2</dd><dt><span>unit :</span></dt><dd>V</dd><dt><span>inferred_from :</span></dt><dd>[]</dd><dt><span>depends_on :</span></dt><dd>[&#x27;dac_ch1&#x27;, &#x27;dac_ch2&#x27;]</dd></dl></div><div class='xr-var-data'><pre>array([[nan, nan, nan, ..., nan, nan, nan],\n",
       "       [nan, nan, nan, ..., nan, nan, nan],\n",
       "       [nan, nan, nan, ..., nan, nan, nan],\n",
       "       ...,\n",
       "       [nan, nan, nan, ..., nan, nan, nan],\n",
       "       [nan, nan, nan, ..., nan, nan, nan],\n",
       "       [nan, nan, nan, ..., nan, nan, nan]])</pre></div></li></ul></div></li><li class='xr-section-item'><input id='section-c3cc55b8-ee63-46bb-ade8-2a0297b6b923' class='xr-section-summary-in' type='checkbox'  checked><label for='section-c3cc55b8-ee63-46bb-ade8-2a0297b6b923' class='xr-section-summary' >Attributes: <span>(2)</span></label><div class='xr-section-inline-details'></div><div class='xr-section-details'><dl class='xr-attrs'><dt><span>sample_name :</span></dt><dd>no sample</dd><dt><span>exp_name :</span></dt><dd>performing_meas_using_parameters_and_dataset</dd></dl></div></li></ul></div></div>"
      ],
      "text/plain": [
       "<xarray.Dataset>\n",
       "Dimensions:  (dac_ch1: 5000, dac_ch2: 5000)\n",
       "Coordinates:\n",
       "  * dac_ch1  (dac_ch1) float64 -0.9999 -0.9999 -0.9996 ... 0.9988 0.9988 0.9991\n",
       "  * dac_ch2  (dac_ch2) float64 -0.9997 -0.9987 -0.9982 ... 0.9993 0.9998 0.9999\n",
       "Data variables:\n",
       "    dmm_v2   (dac_ch1, dac_ch2) float64 nan nan nan nan nan ... nan nan nan nan\n",
       "Attributes:\n",
       "    sample_name:  no sample\n",
       "    exp_name:     performing_meas_using_parameters_and_dataset"
      ]
     },
     "execution_count": 1,
     "metadata": {},
     "output_type": "execute_result"
    }
   ],
   "source": [
    "datasaver.dataset.to_xarray_dataset()"
   ]
  },
  {
   "cell_type": "markdown",
   "metadata": {},
   "source": [
    "### Optimiser"
   ]
  },
  {
   "cell_type": "markdown",
   "metadata": {},
   "source": [
    "An example to show that the algorithm is flexible enough to be used with completely unstructured data such as the output of an downhill simplex optimization. The downhill simplex is somewhat more sensitive to noise and it is important that 'fatol' is set to match the expected noise."
   ]
  },
  {
   "cell_type": "code",
   "execution_count": 53,
   "metadata": {
    "execution": {
     "iopub.execute_input": "2021-02-16T08:56:37.593360Z",
     "iopub.status.busy": "2021-02-16T08:56:37.592415Z",
     "iopub.status.idle": "2021-02-16T08:56:37.706973Z",
     "shell.execute_reply": "2021-02-16T08:56:37.707538Z"
    }
   },
   "outputs": [],
   "source": [
    "from scipy.optimize import minimize"
   ]
  },
  {
   "cell_type": "code",
   "execution_count": 54,
   "metadata": {
    "execution": {
     "iopub.execute_input": "2021-02-16T08:56:37.712094Z",
     "iopub.status.busy": "2021-02-16T08:56:37.710283Z",
     "iopub.status.idle": "2021-02-16T08:56:37.826018Z",
     "shell.execute_reply": "2021-02-16T08:56:37.825500Z"
    }
   },
   "outputs": [
    {
     "name": "stdout",
     "output_type": "stream",
     "text": [
      "Starting experimental run with id: 44. \n"
     ]
    }
   ],
   "source": [
    "def set_and_measure(*xk):\n",
    "    dac.ch1(xk[0])\n",
    "    dac.ch2(xk[1])\n",
    "    return dmm.v2.get()\n",
    "\n",
    "noise = 0.0005\n",
    "x0 = [np.random.rand(), np.random.rand()]\n",
    "\n",
    "with meas.run() as datasaver:\n",
    "    def mycallback(xk):\n",
    "        dac.ch1(xk[0])\n",
    "        dac.ch2(xk[1])\n",
    "        datasaver.add_result((dac.ch1, xk[0]),\n",
    "                             (dac.ch2, xk[1]),\n",
    "                             (dmm.v2, dmm.v2.cache.get()))\n",
    "    \n",
    "    res = minimize(lambda x: -set_and_measure(*x),\n",
    "                   x0,\n",
    "                   method='Nelder-Mead',\n",
    "                   tol=1e-10, \n",
    "                   callback=mycallback,\n",
    "                   options={'fatol': noise})\n",
    "    \n",
    "    dataset = datasaver.dataset  # convenient to have for plotting"
   ]
  },
  {
   "cell_type": "code",
   "execution_count": 55,
   "metadata": {
    "execution": {
     "iopub.execute_input": "2021-02-16T08:56:37.831809Z",
     "iopub.status.busy": "2021-02-16T08:56:37.830650Z",
     "iopub.status.idle": "2021-02-16T08:56:37.837508Z",
     "shell.execute_reply": "2021-02-16T08:56:37.837002Z"
    }
   },
   "outputs": [
    {
     "data": {
      "text/plain": [
       " final_simplex: (array([[0.95808261, 0.93294646],\n",
       "       [0.95808261, 0.93294646],\n",
       "       [0.95808261, 0.93294646]]), array([-0.0016635 , -0.00049136, -0.00042726]))\n",
       "           fun: -0.001663495392770504\n",
       "       message: 'Maximum number of function evaluations has been exceeded.'\n",
       "          nfev: 403\n",
       "           nit: 151\n",
       "        status: 1\n",
       "       success: False\n",
       "             x: array([0.95808261, 0.93294646])"
      ]
     },
     "execution_count": 1,
     "metadata": {},
     "output_type": "execute_result"
    }
   ],
   "source": [
    "res"
   ]
  },
  {
   "cell_type": "code",
   "execution_count": 56,
   "metadata": {
    "execution": {
     "iopub.execute_input": "2021-02-16T08:56:37.841705Z",
     "iopub.status.busy": "2021-02-16T08:56:37.840647Z",
     "iopub.status.idle": "2021-02-16T08:56:38.127375Z",
     "shell.execute_reply": "2021-02-16T08:56:38.126805Z"
    }
   },
   "outputs": [
    {
     "name": "stderr",
     "output_type": "stream",
     "text": [
      "2021-02-16 08:56:37,877 ¦ py.warnings ¦ WARNING ¦ warnings ¦ _showwarnmsg ¦ 110 ¦ /opt/hostedtoolcache/Python/3.7.9/x64/lib/python3.7/site-packages/qcodes/dataset/data_export.py:172: VisibleDeprecationWarning: Creating an ndarray from ragged nested sequences (which is a list-or-tuple of lists-or-tuples-or ndarrays with different lengths or shapes) is deprecated. If you meant to do this, you must specify 'dtype=object' when creating the ndarray.\n",
      "  return np.array(rows)\n",
      "\n"
     ]
    },
    {
     "data": {
      "image/png": "[encoded data removed]",
      "text/plain": [
       "<Figure size 432x288 with 2 Axes>"
      ]
     },
     "metadata": {
      "needs_background": "light"
     },
     "output_type": "display_data"
    }
   ],
   "source": [
    "ax, cbax = plot_dataset(dataset)"
   ]
  },
  {
   "cell_type": "markdown",
   "metadata": {},
   "source": [
    "## Subscriptions\n",
    "\n",
    "The ``Measurement`` object can also handle subscriptions to the dataset. Subscriptions are, under the hood, triggers in the underlying SQLite database. Therefore, the subscribers are only called when data is written to the database (which happens every `write_period`).\n",
    "\n",
    "When making a subscription, two things must be supplied: a function and a mutable state object. The function **MUST** have a call signature of `f(result_list, length, state, **kwargs)`, where ``result_list`` is a list of tuples of parameter values inserted in the dataset, ``length`` is an integer (the step number of the run), and ``state`` is the mutable state object. The function does not need to actually use these arguments, but the call signature must match this.\n",
    "\n",
    "Let us consider two generic examples:"
   ]
  },
  {
   "cell_type": "markdown",
   "metadata": {},
   "source": [
    "### Subscription example 1: simple printing"
   ]
  },
  {
   "cell_type": "code",
   "execution_count": 57,
   "metadata": {
    "execution": {
     "iopub.execute_input": "2021-02-16T08:56:38.136205Z",
     "iopub.status.busy": "2021-02-16T08:56:38.135287Z",
     "iopub.status.idle": "2021-02-16T08:56:39.583098Z",
     "shell.execute_reply": "2021-02-16T08:56:39.583841Z"
    }
   },
   "outputs": [
    {
     "name": "stdout",
     "output_type": "stream",
     "text": [
      "Starting experimental run with id: 45. \n",
      "Added points to measurement, step 0.\n"
     ]
    },
    {
     "name": "stdout",
     "output_type": "stream",
     "text": [
      "The run now holds 2 rowsAdded points to measurement, step 1.\n",
      "\n"
     ]
    },
    {
     "name": "stdout",
     "output_type": "stream",
     "text": [
      "The run now holds 3 rows\n",
      "Added points to measurement, step 2.\n"
     ]
    },
    {
     "name": "stdout",
     "output_type": "stream",
     "text": [
      "The run now holds 4 rows\n",
      "Added points to measurement, step 3.\n"
     ]
    },
    {
     "name": "stdout",
     "output_type": "stream",
     "text": [
      "Added points to measurement, step 4.\n",
      "The run now holds 5 rows\n"
     ]
    },
    {
     "name": "stdout",
     "output_type": "stream",
     "text": [
      "The run now holds 6 rows\n",
      "Added points to measurement, step 5.\n"
     ]
    },
    {
     "name": "stdout",
     "output_type": "stream",
     "text": [
      "The run now holds 7 rows\n",
      "Added points to measurement, step 6.\n"
     ]
    },
    {
     "name": "stdout",
     "output_type": "stream",
     "text": [
      "The run now holds 7 rows\n",
      "The run now holds 7 rows\n"
     ]
    }
   ],
   "source": [
    "def print_which_step(results_list, length, state):\n",
    "    \"\"\"\n",
    "    This subscriber does not use results_list nor state; it simply\n",
    "    prints how many results we have added to the database\n",
    "    \"\"\"\n",
    "    print(f'The run now holds {length} rows')\n",
    "    \n",
    "    \n",
    "meas = Measurement(exp=exp)\n",
    "meas.register_parameter(dac.ch1)\n",
    "meas.register_parameter(dmm.v1, setpoints=(dac.ch1,))\n",
    "\n",
    "meas.write_period = 0.2  # We write to the database every 0.2s\n",
    "\n",
    "meas.add_subscriber(print_which_step, state=[])\n",
    "\n",
    "with meas.run() as datasaver:\n",
    "    for n in range(7):\n",
    "        datasaver.add_result((dac.ch1, n), (dmm.v1, n**2))\n",
    "        print(f'Added points to measurement, step {n}.')\n",
    "        sleep(0.2)"
   ]
  },
  {
   "cell_type": "markdown",
   "metadata": {},
   "source": [
    "### Subscription example 2: using the state\n",
    "\n",
    "We add two subscribers now."
   ]
  },
  {
   "cell_type": "code",
   "execution_count": 58,
   "metadata": {
    "execution": {
     "iopub.execute_input": "2021-02-16T08:56:39.592155Z",
     "iopub.status.busy": "2021-02-16T08:56:39.591184Z",
     "iopub.status.idle": "2021-02-16T08:56:40.630493Z",
     "shell.execute_reply": "2021-02-16T08:56:40.629963Z"
    }
   },
   "outputs": [
    {
     "name": "stdout",
     "output_type": "stream",
     "text": [
      "Starting experimental run with id: 46. \n",
      "Added points to measurement, step 0.\n",
      "First parameter value list: []\n",
      "Added points to measurement, step 1.\n",
      "First parameter value list: []\n"
     ]
    },
    {
     "name": "stdout",
     "output_type": "stream",
     "text": [
      "The run now holds 3 rows\n",
      "Added points to measurement, step 2.\n",
      "First parameter value list: [0, 1, 2]\n",
      "Added points to measurement, step 3.\n",
      "First parameter value list: [0, 1, 2]\n"
     ]
    },
    {
     "name": "stdout",
     "output_type": "stream",
     "text": [
      "The run now holds 5 rowsAdded points to measurement, step 4.\n",
      "\n",
      "First parameter value list: [0, 1, 2, 3, 4]\n",
      "Added points to measurement, step 5.\n",
      "First parameter value list: [0, 1, 2, 3, 4]\n"
     ]
    },
    {
     "name": "stdout",
     "output_type": "stream",
     "text": [
      "The run now holds 7 rowsAdded points to measurement, step 6.\n",
      "First parameter value list: [0, 1, 2, 3, 4]\n",
      "\n",
      "Added points to measurement, step 7.\n",
      "First parameter value list: [0, 1, 2, 3, 4, 5, 6]\n"
     ]
    },
    {
     "name": "stdout",
     "output_type": "stream",
     "text": [
      "The run now holds 9 rows\n",
      "Added points to measurement, step 8.\n",
      "First parameter value list: [0, 1, 2, 3, 4, 5, 6, 7, 8]\n",
      "Added points to measurement, step 9.\n",
      "First parameter value list: [0, 1, 2, 3, 4, 5, 6, 7, 8]\n"
     ]
    },
    {
     "name": "stdout",
     "output_type": "stream",
     "text": [
      "The run now holds 10 rows\n",
      "The run now holds 10 rows\n",
      "The run now holds 10 rows\n"
     ]
    }
   ],
   "source": [
    "def get_list_of_first_param(results_list, length, state):\n",
    "    \"\"\"\n",
    "    Modify the state (a list) to hold all the values for\n",
    "    the first parameter\n",
    "    \"\"\"\n",
    "    param_vals = [parvals[0] for parvals in results_list]\n",
    "    state += param_vals\n",
    "\n",
    "\n",
    "meas = Measurement(exp=exp)\n",
    "meas.register_parameter(dac.ch1)\n",
    "meas.register_parameter(dmm.v1, setpoints=(dac.ch1,))\n",
    "\n",
    "meas.write_period = 0.2  # We write to the database every 0.2s\n",
    "\n",
    "first_param_list = []\n",
    "\n",
    "meas.add_subscriber(print_which_step, state=[])\n",
    "meas.add_subscriber(get_list_of_first_param, state=first_param_list)\n",
    "\n",
    "with meas.run() as datasaver:\n",
    "    for n in range(10):\n",
    "        datasaver.add_result((dac.ch1, n), (dmm.v1, n**2))\n",
    "        print(f'Added points to measurement, step {n}.')\n",
    "        print(f'First parameter value list: {first_param_list}')\n",
    "        sleep(0.1)"
   ]
  },
  {
   "cell_type": "code",
   "execution_count": null,
   "metadata": {},
   "outputs": [],
   "source": []
  }
 ],
 "metadata": {
  "kernelspec": {
   "display_name": "Python 3",
   "language": "python",
   "name": "python3"
  },
  "language_info": {
   "codemirror_mode": {
    "name": "ipython",
    "version": 3
   },
   "file_extension": ".py",
   "mimetype": "text/x-python",
   "name": "python",
   "nbconvert_exporter": "python",
   "pygments_lexer": "ipython3",
   "version": "3.7.9"
  },
  "nbsphinx": {
   "timeout": 60
  },
  "toc": {
   "base_numbering": 1,
   "nav_menu": {},
   "number_sections": true,
   "sideBar": true,
   "skip_h1_title": false,
   "title_cell": "Table of Contents",
   "title_sidebar": "Contents",
   "toc_cell": false,
   "toc_position": {},
   "toc_section_display": true,
   "toc_window_display": false
  },
  "varInspector": {
   "cols": {
    "lenName": 16,
    "lenType": 16,
    "lenVar": 40
   },
   "kernels_config": {
    "python": {
     "delete_cmd_postfix": "",
     "delete_cmd_prefix": "del ",
     "library": "var_list.py",
     "varRefreshCmd": "print(var_dic_list())"
    },
    "r": {
     "delete_cmd_postfix": ") ",
     "delete_cmd_prefix": "rm(",
     "library": "var_list.r",
     "varRefreshCmd": "cat(var_dic_list()) "
    }
   },
   "types_to_exclude": [
    "module",
    "function",
    "builtin_function_or_method",
    "instance",
    "_Feature"
   ],
   "window_display": false
  }
 },
 "nbformat": 4,
 "nbformat_minor": 4
}
