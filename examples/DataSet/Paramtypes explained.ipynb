{
 "cells": [
  {
   "cell_type": "markdown",
   "metadata": {},
   "source": [
    "# Paramtypes explained\n",
    "\n",
    "Internally in the SQLite database on disk, data are registered as being of one of (currently) four allowed types:\n",
    "\n",
    "- `numeric`\n",
    "- `array`\n",
    "- `text`\n",
    "- `complex`\n",
    "\n",
    "This notebook seeks to exemplify when each type should be used, and how differently the `Measurement` object treats data of each type.\n",
    "\n",
    "We start with necessary imports, and then initialising our database and creating an experiment."
   ]
  },
  {
   "cell_type": "code",
   "execution_count": 1,
   "metadata": {
    "execution": {
     "iopub.execute_input": "2021-04-20T14:47:25.062795Z",
     "iopub.status.busy": "2021-04-20T14:47:25.061908Z",
     "iopub.status.idle": "2021-04-20T14:47:25.982060Z",
     "shell.execute_reply": "2021-04-20T14:47:25.981050Z"
    }
   },
   "outputs": [
    {
     "name": "stdout",
     "output_type": "stream",
     "text": [
      "Logging hadn't been started.\n",
      "Activating auto-logging. Current session state plus future input saved.\n",
      "Filename       : /home/runner/.qcodes/logs/command_history.log\n",
      "Mode           : append\n",
      "Output logging : True\n",
      "Raw input log  : False\n",
      "Timestamping   : True\n",
      "State          : active\n"
     ]
    },
    {
     "name": "stdout",
     "output_type": "stream",
     "text": [
      "Qcodes Logfile : /home/runner/.qcodes/logs/210420-5609-qcodes.log\n"
     ]
    }
   ],
   "source": [
    "import os\n",
    "import time\n",
    "\n",
    "import numpy as np\n",
    "\n",
    "from qcodes import initialise_or_create_database_at, \\\n",
    "    load_or_create_experiment, Measurement, load_by_id\n",
    "from qcodes.instrument.parameter import ArrayParameter, Parameter\n",
    "from qcodes.tests.instrument_mocks import DummyInstrument"
   ]
  },
  {
   "cell_type": "code",
   "execution_count": 2,
   "metadata": {
    "execution": {
     "iopub.execute_input": "2021-04-20T14:47:25.986506Z",
     "iopub.status.busy": "2021-04-20T14:47:25.985535Z",
     "iopub.status.idle": "2021-04-20T14:47:26.046741Z",
     "shell.execute_reply": "2021-04-20T14:47:26.046304Z"
    }
   },
   "outputs": [
    {
     "name": "stdout",
     "output_type": "stream",
     "text": [
      "\r",
      "0it [00:00, ?it/s]"
     ]
    },
    {
     "name": "stdout",
     "output_type": "stream",
     "text": [
      "\r",
      "Upgrading database; v0 -> v1: : 0it [00:00, ?it/s]"
     ]
    },
    {
     "name": "stdout",
     "output_type": "stream",
     "text": [
      "\r",
      "Upgrading database; v0 -> v1: : 0it [00:00, ?it/s]"
     ]
    },
    {
     "name": "stdout",
     "output_type": "stream",
     "text": [
      "\n",
      "\r",
      "  0%|          | 0/1 [00:00<?, ?it/s]"
     ]
    },
    {
     "name": "stdout",
     "output_type": "stream",
     "text": [
      "\r",
      "Upgrading database; v1 -> v2:   0%|          | 0/1 [00:00<?, ?it/s]"
     ]
    },
    {
     "name": "stdout",
     "output_type": "stream",
     "text": [
      "\r",
      "Upgrading database; v1 -> v2: 100%|██████████| 1/1 [00:00<00:00, 691.10it/s]"
     ]
    },
    {
     "name": "stdout",
     "output_type": "stream",
     "text": [
      "\n",
      "\r",
      "0it [00:00, ?it/s]"
     ]
    },
    {
     "name": "stdout",
     "output_type": "stream",
     "text": [
      "\r",
      "Upgrading database; v2 -> v3: : 0it [00:00, ?it/s]"
     ]
    },
    {
     "name": "stdout",
     "output_type": "stream",
     "text": [
      "\r",
      "Upgrading database; v2 -> v3: : 0it [00:00, ?it/s]"
     ]
    },
    {
     "name": "stdout",
     "output_type": "stream",
     "text": [
      "\n",
      "\r",
      "0it [00:00, ?it/s]"
     ]
    },
    {
     "name": "stdout",
     "output_type": "stream",
     "text": [
      "\r",
      "Upgrading database; v3 -> v4: : 0it [00:00, ?it/s]"
     ]
    },
    {
     "name": "stdout",
     "output_type": "stream",
     "text": [
      "\r",
      "Upgrading database; v3 -> v4: : 0it [00:00, ?it/s]"
     ]
    },
    {
     "name": "stdout",
     "output_type": "stream",
     "text": [
      "\n",
      "\r",
      "  0%|          | 0/1 [00:00<?, ?it/s]"
     ]
    },
    {
     "name": "stdout",
     "output_type": "stream",
     "text": [
      "\r",
      "Upgrading database; v4 -> v5:   0%|          | 0/1 [00:00<?, ?it/s]"
     ]
    },
    {
     "name": "stdout",
     "output_type": "stream",
     "text": [
      "\r",
      "Upgrading database; v4 -> v5: 100%|██████████| 1/1 [00:00<00:00, 607.69it/s]"
     ]
    },
    {
     "name": "stdout",
     "output_type": "stream",
     "text": [
      "\n",
      "\r",
      "0it [00:00, ?it/s]"
     ]
    },
    {
     "name": "stdout",
     "output_type": "stream",
     "text": [
      "\r",
      "Upgrading database; v5 -> v6: : 0it [00:00, ?it/s]"
     ]
    },
    {
     "name": "stdout",
     "output_type": "stream",
     "text": [
      "\r",
      "Upgrading database; v5 -> v6: : 0it [00:00, ?it/s]"
     ]
    },
    {
     "name": "stdout",
     "output_type": "stream",
     "text": [
      "\n",
      "\r",
      "  0%|          | 0/1 [00:00<?, ?it/s]"
     ]
    },
    {
     "name": "stdout",
     "output_type": "stream",
     "text": [
      "\r",
      "Upgrading database; v6 -> v7:   0%|          | 0/1 [00:00<?, ?it/s]"
     ]
    },
    {
     "name": "stdout",
     "output_type": "stream",
     "text": [
      "\r",
      "Upgrading database; v6 -> v7: 100%|██████████| 1/1 [00:00<00:00, 328.40it/s]"
     ]
    },
    {
     "name": "stdout",
     "output_type": "stream",
     "text": [
      "\n",
      "\r",
      "  0%|          | 0/1 [00:00<?, ?it/s]"
     ]
    },
    {
     "name": "stdout",
     "output_type": "stream",
     "text": [
      "\r",
      "Upgrading database; v7 -> v8:   0%|          | 0/1 [00:00<?, ?it/s]"
     ]
    },
    {
     "name": "stdout",
     "output_type": "stream",
     "text": [
      "\r",
      "Upgrading database; v7 -> v8: 100%|██████████| 1/1 [00:00<00:00, 1019.77it/s]"
     ]
    },
    {
     "name": "stdout",
     "output_type": "stream",
     "text": [
      "\n",
      "\r",
      "  0%|          | 0/1 [00:00<?, ?it/s]"
     ]
    },
    {
     "name": "stdout",
     "output_type": "stream",
     "text": [
      "\r",
      "Upgrading database; v8 -> v9:   0%|          | 0/1 [00:00<?, ?it/s]"
     ]
    },
    {
     "name": "stdout",
     "output_type": "stream",
     "text": [
      "\r",
      "Upgrading database; v8 -> v9: 100%|██████████| 1/1 [00:00<00:00, 537.32it/s]"
     ]
    },
    {
     "name": "stdout",
     "output_type": "stream",
     "text": [
      "\n"
     ]
    }
   ],
   "source": [
    "initialise_or_create_database_at(os.path.join(os.getcwd(), 'paramtypes_explained.db'))\n",
    "exp = load_or_create_experiment('paramtypes', sample_name='not_available')"
   ]
  },
  {
   "cell_type": "markdown",
   "metadata": {},
   "source": [
    "Let us, now, create two dummy instruments to be used in our experiment."
   ]
  },
  {
   "cell_type": "code",
   "execution_count": 3,
   "metadata": {
    "execution": {
     "iopub.execute_input": "2021-04-20T14:47:26.050373Z",
     "iopub.status.busy": "2021-04-20T14:47:26.049192Z",
     "iopub.status.idle": "2021-04-20T14:47:26.053322Z",
     "shell.execute_reply": "2021-04-20T14:47:26.052576Z"
    }
   },
   "outputs": [],
   "source": [
    "dac = DummyInstrument('dac', gates=['ch1', 'ch2'])\n",
    "SA = DummyInstrument('SA')"
   ]
  },
  {
   "cell_type": "code",
   "execution_count": 4,
   "metadata": {
    "execution": {
     "iopub.execute_input": "2021-04-20T14:47:26.065114Z",
     "iopub.status.busy": "2021-04-20T14:47:26.063909Z",
     "iopub.status.idle": "2021-04-20T14:47:26.065642Z",
     "shell.execute_reply": "2021-04-20T14:47:26.066009Z"
    }
   },
   "outputs": [],
   "source": [
    "# some array-like data types\n",
    "\n",
    "class Spectrum(ArrayParameter):\n",
    "    \n",
    "    def __init__(self, name, instrument):\n",
    "        \n",
    "        self.N = 7\n",
    "        setpoints = (np.linspace(0, 1, self.N),)\n",
    "    \n",
    "        super().__init__(name=name,\n",
    "                         instrument=instrument,\n",
    "                         setpoints=setpoints,\n",
    "                         shape=(20,),\n",
    "                         label='Noisy spectrum',\n",
    "                         unit='V/sqrt(Hz)',\n",
    "                         setpoint_names=('Frequency',),\n",
    "                         setpoint_units=('Hz',))\n",
    "        \n",
    "    def get_raw(self):\n",
    "        return np.random.randn(self.N)\n",
    "    \n",
    "\n",
    "class MultiDimSpectrum(ArrayParameter):\n",
    "    \n",
    "    def __init__(self, name, instrument):\n",
    "        self.start = 0\n",
    "        self.stop = 1\n",
    "        self.npts = (2, 5, 3)\n",
    "        sp1 = np.linspace(self.start, self.stop,\n",
    "                          self.npts[0])\n",
    "        sp2 = np.linspace(self.start, self.stop,\n",
    "                          self.npts[1])\n",
    "        sp3 = np.linspace(self.start, self.stop,\n",
    "                          self.npts[2])\n",
    "        setpoints = (sp1,\n",
    "                     np.tile(sp2, (len(sp1), 1)),\n",
    "                     np.tile(sp3, (len(sp1), len(sp2), 1)))\n",
    "        super().__init__(name=name,\n",
    "                         instrument=instrument,\n",
    "                         setpoints=setpoints,\n",
    "                         shape=(100, 50, 20),\n",
    "                         label='Flower Power Spectrum in 3D',\n",
    "                         unit='V/sqrt(Hz)',\n",
    "                         setpoint_names=('Frequency0', 'Frequency1',\n",
    "                                         'Frequency2'),\n",
    "                             setpoint_units=('Hz', 'Other Hz', \"Third Hz\"))\n",
    "    def get_raw(self):\n",
    "        a = self.npts[0]\n",
    "        b = self.npts[1]\n",
    "        c = self.npts[2]\n",
    "        return np.reshape(np.arange(a*b*c), (a, b, c))\n",
    "    \n",
    "# a string-valued parameter\n",
    "def dac1_too_high():\n",
    "    return 'Too high' if dac.ch1() > 5 else 'OK'"
   ]
  },
  {
   "cell_type": "markdown",
   "metadata": {},
   "source": [
    "Finally, we add our parameters to the dummy instruments:"
   ]
  },
  {
   "cell_type": "code",
   "execution_count": 5,
   "metadata": {
    "execution": {
     "iopub.execute_input": "2021-04-20T14:47:26.071036Z",
     "iopub.status.busy": "2021-04-20T14:47:26.070185Z",
     "iopub.status.idle": "2021-04-20T14:47:26.071822Z",
     "shell.execute_reply": "2021-04-20T14:47:26.072167Z"
    }
   },
   "outputs": [],
   "source": [
    "dac.add_parameter('control', get_cmd=dac1_too_high)\n",
    "SA.add_parameter('spectrum', parameter_class=Spectrum)\n",
    "SA.add_parameter('spectrum3D', parameter_class=MultiDimSpectrum)"
   ]
  },
  {
   "cell_type": "markdown",
   "metadata": {},
   "source": [
    "## Numeric"
   ]
  },
  {
   "cell_type": "markdown",
   "metadata": {},
   "source": [
    "The `numeric` datatype is simply a number. Data registered with this type are saved as individual numbers. This is the **default** datatype when registering parameters.\n",
    "\n",
    "### Numeric example 1\n",
    "\n",
    "In this example, all parameters get registered as `numeric` type. This entails that the array in unraveled and inserted point-by-point."
   ]
  },
  {
   "cell_type": "code",
   "execution_count": 6,
   "metadata": {
    "execution": {
     "iopub.execute_input": "2021-04-20T14:47:26.079929Z",
     "iopub.status.busy": "2021-04-20T14:47:26.079393Z",
     "iopub.status.idle": "2021-04-20T14:47:26.094094Z",
     "shell.execute_reply": "2021-04-20T14:47:26.093577Z"
    }
   },
   "outputs": [
    {
     "name": "stdout",
     "output_type": "stream",
     "text": [
      "Starting experimental run with id: 1. \n",
      "Finished run in 0.012 s\n"
     ]
    }
   ],
   "source": [
    "meas = Measurement(exp=exp)\n",
    "meas.register_parameter(dac.ch1)\n",
    "meas.register_parameter(SA.spectrum, setpoints=(dac.ch1,))\n",
    "\n",
    "t0 = time.perf_counter()\n",
    "\n",
    "with meas.run() as datasaver:\n",
    "    for dac_v in np.linspace(0, 2, 5):\n",
    "        dac.ch1(dac_v)\n",
    "        datasaver.add_result((dac.ch1, dac_v), (SA.spectrum, SA.spectrum()))\n",
    "\n",
    "t1 = time.perf_counter()\n",
    "\n",
    "print(f'Finished run in {(t1-t0):.3f} s')\n",
    "        \n",
    "dataset1 = datasaver.dataset"
   ]
  },
  {
   "cell_type": "markdown",
   "metadata": {},
   "source": [
    "The data may be retrieved using the `get_parameter_data` method. This function will bring back the data in a way that reflects the datastructure as it is stored."
   ]
  },
  {
   "cell_type": "code",
   "execution_count": 7,
   "metadata": {
    "execution": {
     "iopub.execute_input": "2021-04-20T14:47:26.097897Z",
     "iopub.status.busy": "2021-04-20T14:47:26.097386Z",
     "iopub.status.idle": "2021-04-20T14:47:26.109404Z",
     "shell.execute_reply": "2021-04-20T14:47:26.109002Z"
    }
   },
   "outputs": [
    {
     "data": {
      "text/plain": [
       "{'SA_spectrum': {'SA_spectrum': array([[-0.22866863, -1.34879605,  0.2489581 ,  1.72431982, -1.08662179,\n",
       "           0.63588654,  0.25852666],\n",
       "         [ 1.29221249,  0.69023959,  0.46335412,  1.05326435, -0.77285283,\n",
       "          -1.71455106,  0.46359192],\n",
       "         [ 0.31308603, -0.49929117,  0.45113925, -0.90737061, -0.84698432,\n",
       "           0.17966399, -0.48478729],\n",
       "         [-0.46780154, -0.20532775, -0.21329889,  0.89875706, -0.59446203,\n",
       "           0.06471448, -2.47681211],\n",
       "         [-0.14196841, -1.00358023,  0.37801712, -0.11271867, -0.51686294,\n",
       "           0.31079807, -0.09986102]]),\n",
       "  'dac_ch1': array([[0. , 0. , 0. , 0. , 0. , 0. , 0. ],\n",
       "         [0.5, 0.5, 0.5, 0.5, 0.5, 0.5, 0.5],\n",
       "         [1. , 1. , 1. , 1. , 1. , 1. , 1. ],\n",
       "         [1.5, 1.5, 1.5, 1.5, 1.5, 1.5, 1.5],\n",
       "         [2. , 2. , 2. , 2. , 2. , 2. , 2. ]]),\n",
       "  'SA_Frequency': array([[0.        , 0.16666667, 0.33333333, 0.5       , 0.66666667,\n",
       "          0.83333333, 1.        ],\n",
       "         [0.        , 0.16666667, 0.33333333, 0.5       , 0.66666667,\n",
       "          0.83333333, 1.        ],\n",
       "         [0.        , 0.16666667, 0.33333333, 0.5       , 0.66666667,\n",
       "          0.83333333, 1.        ],\n",
       "         [0.        , 0.16666667, 0.33333333, 0.5       , 0.66666667,\n",
       "          0.83333333, 1.        ],\n",
       "         [0.        , 0.16666667, 0.33333333, 0.5       , 0.66666667,\n",
       "          0.83333333, 1.        ]])}}"
      ]
     },
     "execution_count": 1,
     "metadata": {},
     "output_type": "execute_result"
    }
   ],
   "source": [
    "dataset1.get_parameter_data()"
   ]
  },
  {
   "cell_type": "markdown",
   "metadata": {},
   "source": [
    "## Array\n",
    "\n",
    "The `array` paramtype stores data as binary blobs in the database. Insertion is faster (asymptotically **much** faster) this way, but the data are \"dead\" to SQL queries inside the database. Be informed that a BLOB in sqlite has a default max length limit set at 1 billion (1,000,000,000) bytes (for more information, refer to [Sqlite](https://sqlite.org/limits.html) docs)."
   ]
  },
  {
   "cell_type": "markdown",
   "metadata": {},
   "source": [
    "### Array example 1\n",
    "\n",
    "Let us repeat the above measurement, but this time using `array` paramtypes."
   ]
  },
  {
   "cell_type": "code",
   "execution_count": 8,
   "metadata": {
    "execution": {
     "iopub.execute_input": "2021-04-20T14:47:26.115643Z",
     "iopub.status.busy": "2021-04-20T14:47:26.115016Z",
     "iopub.status.idle": "2021-04-20T14:47:26.128289Z",
     "shell.execute_reply": "2021-04-20T14:47:26.128645Z"
    }
   },
   "outputs": [
    {
     "name": "stdout",
     "output_type": "stream",
     "text": [
      "Starting experimental run with id: 2. \n",
      "Finished run in 0.011 s\n"
     ]
    }
   ],
   "source": [
    "meas = Measurement(exp=exp)\n",
    "meas.register_parameter(dac.ch1)\n",
    "meas.register_parameter(SA.spectrum, setpoints=(dac.ch1,), paramtype='array')\n",
    "\n",
    "t0 = time.perf_counter()\n",
    "\n",
    "with meas.run() as datasaver:\n",
    "    for dac_v in np.linspace(0, 2, 5):\n",
    "        dac.ch1(dac_v)\n",
    "        datasaver.add_result((dac.ch1, dac_v), (SA.spectrum, SA.spectrum()))\n",
    "\n",
    "t1 = time.perf_counter()\n",
    "\n",
    "print(f'Finished run in {(t1-t0):.3f} s')\n",
    "        \n",
    "dataset2 = datasaver.dataset"
   ]
  },
  {
   "cell_type": "code",
   "execution_count": 9,
   "metadata": {
    "execution": {
     "iopub.execute_input": "2021-04-20T14:47:26.131530Z",
     "iopub.status.busy": "2021-04-20T14:47:26.131112Z",
     "iopub.status.idle": "2021-04-20T14:47:26.138413Z",
     "shell.execute_reply": "2021-04-20T14:47:26.138006Z"
    }
   },
   "outputs": [
    {
     "data": {
      "text/plain": [
       "{'SA_spectrum': {'SA_spectrum': array([[ 0.95137322,  0.12359898, -0.97499217, -0.65650467,  0.89545781,\n",
       "           0.46801889, -1.50745469],\n",
       "         [-0.82827902, -0.04170439,  0.51529433,  1.4557215 , -0.81339119,\n",
       "          -0.92460565,  1.59514443],\n",
       "         [-1.47227868,  1.41914647,  0.19103185,  2.38490683,  0.27777675,\n",
       "          -0.16926608,  1.19512467],\n",
       "         [ 0.42114935, -0.3930054 , -2.39743523,  2.07678343, -0.12827275,\n",
       "           1.1149799 ,  0.45971442],\n",
       "         [-1.55697925,  0.56273674, -0.18277034,  1.03217293, -1.46532351,\n",
       "          -0.03403542,  0.480721  ]]),\n",
       "  'dac_ch1': array([[0. , 0. , 0. , 0. , 0. , 0. , 0. ],\n",
       "         [0.5, 0.5, 0.5, 0.5, 0.5, 0.5, 0.5],\n",
       "         [1. , 1. , 1. , 1. , 1. , 1. , 1. ],\n",
       "         [1.5, 1.5, 1.5, 1.5, 1.5, 1.5, 1.5],\n",
       "         [2. , 2. , 2. , 2. , 2. , 2. , 2. ]]),\n",
       "  'SA_Frequency': array([[0.        , 0.16666667, 0.33333333, 0.5       , 0.66666667,\n",
       "          0.83333333, 1.        ],\n",
       "         [0.        , 0.16666667, 0.33333333, 0.5       , 0.66666667,\n",
       "          0.83333333, 1.        ],\n",
       "         [0.        , 0.16666667, 0.33333333, 0.5       , 0.66666667,\n",
       "          0.83333333, 1.        ],\n",
       "         [0.        , 0.16666667, 0.33333333, 0.5       , 0.66666667,\n",
       "          0.83333333, 1.        ],\n",
       "         [0.        , 0.16666667, 0.33333333, 0.5       , 0.66666667,\n",
       "          0.83333333, 1.        ]])}}"
      ]
     },
     "execution_count": 1,
     "metadata": {},
     "output_type": "execute_result"
    }
   ],
   "source": [
    "dataset2.get_parameter_data()"
   ]
  },
  {
   "cell_type": "markdown",
   "metadata": {},
   "source": [
    "### Array example 2\n",
    "\n",
    "When storing multidimensional `array` data (think: Alazar cards), both `numeric` and `array` types can be used."
   ]
  },
  {
   "cell_type": "code",
   "execution_count": 10,
   "metadata": {
    "execution": {
     "iopub.execute_input": "2021-04-20T14:47:26.142953Z",
     "iopub.status.busy": "2021-04-20T14:47:26.142304Z",
     "iopub.status.idle": "2021-04-20T14:47:26.155353Z",
     "shell.execute_reply": "2021-04-20T14:47:26.154876Z"
    }
   },
   "outputs": [
    {
     "name": "stdout",
     "output_type": "stream",
     "text": [
      "Starting experimental run with id: 3. \n"
     ]
    }
   ],
   "source": [
    "meas = Measurement(exp=exp)\n",
    "meas.register_parameter(SA.spectrum3D, paramtype='array')\n",
    "\n",
    "with meas.run() as datasaver:\n",
    "    datasaver.add_result((SA.spectrum3D, SA.spectrum3D()))\n",
    "dataset3 = datasaver.dataset"
   ]
  },
  {
   "cell_type": "markdown",
   "metadata": {},
   "source": [
    "The data come out the way we expect them to."
   ]
  },
  {
   "cell_type": "code",
   "execution_count": 11,
   "metadata": {
    "execution": {
     "iopub.execute_input": "2021-04-20T14:47:26.158409Z",
     "iopub.status.busy": "2021-04-20T14:47:26.157919Z",
     "iopub.status.idle": "2021-04-20T14:47:26.164636Z",
     "shell.execute_reply": "2021-04-20T14:47:26.164128Z"
    }
   },
   "outputs": [
    {
     "data": {
      "text/plain": [
       "{'SA_spectrum3D': {'SA_spectrum3D': array([[[[ 0,  1,  2],\n",
       "           [ 3,  4,  5],\n",
       "           [ 6,  7,  8],\n",
       "           [ 9, 10, 11],\n",
       "           [12, 13, 14]],\n",
       "  \n",
       "          [[15, 16, 17],\n",
       "           [18, 19, 20],\n",
       "           [21, 22, 23],\n",
       "           [24, 25, 26],\n",
       "           [27, 28, 29]]]]),\n",
       "  'SA_Frequency0': array([[[[0., 0., 0.],\n",
       "           [0., 0., 0.],\n",
       "           [0., 0., 0.],\n",
       "           [0., 0., 0.],\n",
       "           [0., 0., 0.]],\n",
       "  \n",
       "          [[1., 1., 1.],\n",
       "           [1., 1., 1.],\n",
       "           [1., 1., 1.],\n",
       "           [1., 1., 1.],\n",
       "           [1., 1., 1.]]]]),\n",
       "  'SA_Frequency1': array([[[[0.  , 0.  , 0.  ],\n",
       "           [0.25, 0.25, 0.25],\n",
       "           [0.5 , 0.5 , 0.5 ],\n",
       "           [0.75, 0.75, 0.75],\n",
       "           [1.  , 1.  , 1.  ]],\n",
       "  \n",
       "          [[0.  , 0.  , 0.  ],\n",
       "           [0.25, 0.25, 0.25],\n",
       "           [0.5 , 0.5 , 0.5 ],\n",
       "           [0.75, 0.75, 0.75],\n",
       "           [1.  , 1.  , 1.  ]]]]),\n",
       "  'SA_Frequency2': array([[[[0. , 0.5, 1. ],\n",
       "           [0. , 0.5, 1. ],\n",
       "           [0. , 0.5, 1. ],\n",
       "           [0. , 0.5, 1. ],\n",
       "           [0. , 0.5, 1. ]],\n",
       "  \n",
       "          [[0. , 0.5, 1. ],\n",
       "           [0. , 0.5, 1. ],\n",
       "           [0. , 0.5, 1. ],\n",
       "           [0. , 0.5, 1. ],\n",
       "           [0. , 0.5, 1. ]]]])}}"
      ]
     },
     "execution_count": 1,
     "metadata": {},
     "output_type": "execute_result"
    }
   ],
   "source": [
    "dataset3.get_parameter_data()"
   ]
  },
  {
   "cell_type": "markdown",
   "metadata": {},
   "source": [
    "### Array example 3\n",
    "\n",
    "For completeness, here, we provide an example where the multidimensional array has an auxiliary setpoint."
   ]
  },
  {
   "cell_type": "code",
   "execution_count": 12,
   "metadata": {
    "execution": {
     "iopub.execute_input": "2021-04-20T14:47:26.170504Z",
     "iopub.status.busy": "2021-04-20T14:47:26.169983Z",
     "iopub.status.idle": "2021-04-20T14:47:26.187313Z",
     "shell.execute_reply": "2021-04-20T14:47:26.186835Z"
    }
   },
   "outputs": [
    {
     "name": "stdout",
     "output_type": "stream",
     "text": [
      "Starting experimental run with id: 4. \n"
     ]
    }
   ],
   "source": [
    "meas = Measurement(exp=exp)\n",
    "meas.register_parameter(dac.ch1)\n",
    "meas.register_parameter(SA.spectrum3D, paramtype='array', setpoints=(dac.ch1,))\n",
    "\n",
    "with meas.run() as datasaver:\n",
    "    for dac_v in [3, 4, 5]:\n",
    "        dac.ch1(dac_v)\n",
    "        datasaver.add_result((dac.ch1, dac_v),\n",
    "                             (SA.spectrum3D, SA.spectrum3D()))\n",
    "dataset4 = datasaver.dataset"
   ]
  },
  {
   "cell_type": "code",
   "execution_count": 13,
   "metadata": {
    "execution": {
     "iopub.execute_input": "2021-04-20T14:47:26.190359Z",
     "iopub.status.busy": "2021-04-20T14:47:26.189851Z",
     "iopub.status.idle": "2021-04-20T14:47:26.202319Z",
     "shell.execute_reply": "2021-04-20T14:47:26.201919Z"
    }
   },
   "outputs": [
    {
     "data": {
      "text/plain": [
       "{'SA_spectrum3D': {'SA_spectrum3D': array([[[[ 0,  1,  2],\n",
       "           [ 3,  4,  5],\n",
       "           [ 6,  7,  8],\n",
       "           [ 9, 10, 11],\n",
       "           [12, 13, 14]],\n",
       "  \n",
       "          [[15, 16, 17],\n",
       "           [18, 19, 20],\n",
       "           [21, 22, 23],\n",
       "           [24, 25, 26],\n",
       "           [27, 28, 29]]],\n",
       "  \n",
       "  \n",
       "         [[[ 0,  1,  2],\n",
       "           [ 3,  4,  5],\n",
       "           [ 6,  7,  8],\n",
       "           [ 9, 10, 11],\n",
       "           [12, 13, 14]],\n",
       "  \n",
       "          [[15, 16, 17],\n",
       "           [18, 19, 20],\n",
       "           [21, 22, 23],\n",
       "           [24, 25, 26],\n",
       "           [27, 28, 29]]],\n",
       "  \n",
       "  \n",
       "         [[[ 0,  1,  2],\n",
       "           [ 3,  4,  5],\n",
       "           [ 6,  7,  8],\n",
       "           [ 9, 10, 11],\n",
       "           [12, 13, 14]],\n",
       "  \n",
       "          [[15, 16, 17],\n",
       "           [18, 19, 20],\n",
       "           [21, 22, 23],\n",
       "           [24, 25, 26],\n",
       "           [27, 28, 29]]]]),\n",
       "  'dac_ch1': array([[[[3., 3., 3.],\n",
       "           [3., 3., 3.],\n",
       "           [3., 3., 3.],\n",
       "           [3., 3., 3.],\n",
       "           [3., 3., 3.]],\n",
       "  \n",
       "          [[3., 3., 3.],\n",
       "           [3., 3., 3.],\n",
       "           [3., 3., 3.],\n",
       "           [3., 3., 3.],\n",
       "           [3., 3., 3.]]],\n",
       "  \n",
       "  \n",
       "         [[[4., 4., 4.],\n",
       "           [4., 4., 4.],\n",
       "           [4., 4., 4.],\n",
       "           [4., 4., 4.],\n",
       "           [4., 4., 4.]],\n",
       "  \n",
       "          [[4., 4., 4.],\n",
       "           [4., 4., 4.],\n",
       "           [4., 4., 4.],\n",
       "           [4., 4., 4.],\n",
       "           [4., 4., 4.]]],\n",
       "  \n",
       "  \n",
       "         [[[5., 5., 5.],\n",
       "           [5., 5., 5.],\n",
       "           [5., 5., 5.],\n",
       "           [5., 5., 5.],\n",
       "           [5., 5., 5.]],\n",
       "  \n",
       "          [[5., 5., 5.],\n",
       "           [5., 5., 5.],\n",
       "           [5., 5., 5.],\n",
       "           [5., 5., 5.],\n",
       "           [5., 5., 5.]]]]),\n",
       "  'SA_Frequency0': array([[[[0., 0., 0.],\n",
       "           [0., 0., 0.],\n",
       "           [0., 0., 0.],\n",
       "           [0., 0., 0.],\n",
       "           [0., 0., 0.]],\n",
       "  \n",
       "          [[1., 1., 1.],\n",
       "           [1., 1., 1.],\n",
       "           [1., 1., 1.],\n",
       "           [1., 1., 1.],\n",
       "           [1., 1., 1.]]],\n",
       "  \n",
       "  \n",
       "         [[[0., 0., 0.],\n",
       "           [0., 0., 0.],\n",
       "           [0., 0., 0.],\n",
       "           [0., 0., 0.],\n",
       "           [0., 0., 0.]],\n",
       "  \n",
       "          [[1., 1., 1.],\n",
       "           [1., 1., 1.],\n",
       "           [1., 1., 1.],\n",
       "           [1., 1., 1.],\n",
       "           [1., 1., 1.]]],\n",
       "  \n",
       "  \n",
       "         [[[0., 0., 0.],\n",
       "           [0., 0., 0.],\n",
       "           [0., 0., 0.],\n",
       "           [0., 0., 0.],\n",
       "           [0., 0., 0.]],\n",
       "  \n",
       "          [[1., 1., 1.],\n",
       "           [1., 1., 1.],\n",
       "           [1., 1., 1.],\n",
       "           [1., 1., 1.],\n",
       "           [1., 1., 1.]]]]),\n",
       "  'SA_Frequency1': array([[[[0.  , 0.  , 0.  ],\n",
       "           [0.25, 0.25, 0.25],\n",
       "           [0.5 , 0.5 , 0.5 ],\n",
       "           [0.75, 0.75, 0.75],\n",
       "           [1.  , 1.  , 1.  ]],\n",
       "  \n",
       "          [[0.  , 0.  , 0.  ],\n",
       "           [0.25, 0.25, 0.25],\n",
       "           [0.5 , 0.5 , 0.5 ],\n",
       "           [0.75, 0.75, 0.75],\n",
       "           [1.  , 1.  , 1.  ]]],\n",
       "  \n",
       "  \n",
       "         [[[0.  , 0.  , 0.  ],\n",
       "           [0.25, 0.25, 0.25],\n",
       "           [0.5 , 0.5 , 0.5 ],\n",
       "           [0.75, 0.75, 0.75],\n",
       "           [1.  , 1.  , 1.  ]],\n",
       "  \n",
       "          [[0.  , 0.  , 0.  ],\n",
       "           [0.25, 0.25, 0.25],\n",
       "           [0.5 , 0.5 , 0.5 ],\n",
       "           [0.75, 0.75, 0.75],\n",
       "           [1.  , 1.  , 1.  ]]],\n",
       "  \n",
       "  \n",
       "         [[[0.  , 0.  , 0.  ],\n",
       "           [0.25, 0.25, 0.25],\n",
       "           [0.5 , 0.5 , 0.5 ],\n",
       "           [0.75, 0.75, 0.75],\n",
       "           [1.  , 1.  , 1.  ]],\n",
       "  \n",
       "          [[0.  , 0.  , 0.  ],\n",
       "           [0.25, 0.25, 0.25],\n",
       "           [0.5 , 0.5 , 0.5 ],\n",
       "           [0.75, 0.75, 0.75],\n",
       "           [1.  , 1.  , 1.  ]]]]),\n",
       "  'SA_Frequency2': array([[[[0. , 0.5, 1. ],\n",
       "           [0. , 0.5, 1. ],\n",
       "           [0. , 0.5, 1. ],\n",
       "           [0. , 0.5, 1. ],\n",
       "           [0. , 0.5, 1. ]],\n",
       "  \n",
       "          [[0. , 0.5, 1. ],\n",
       "           [0. , 0.5, 1. ],\n",
       "           [0. , 0.5, 1. ],\n",
       "           [0. , 0.5, 1. ],\n",
       "           [0. , 0.5, 1. ]]],\n",
       "  \n",
       "  \n",
       "         [[[0. , 0.5, 1. ],\n",
       "           [0. , 0.5, 1. ],\n",
       "           [0. , 0.5, 1. ],\n",
       "           [0. , 0.5, 1. ],\n",
       "           [0. , 0.5, 1. ]],\n",
       "  \n",
       "          [[0. , 0.5, 1. ],\n",
       "           [0. , 0.5, 1. ],\n",
       "           [0. , 0.5, 1. ],\n",
       "           [0. , 0.5, 1. ],\n",
       "           [0. , 0.5, 1. ]]],\n",
       "  \n",
       "  \n",
       "         [[[0. , 0.5, 1. ],\n",
       "           [0. , 0.5, 1. ],\n",
       "           [0. , 0.5, 1. ],\n",
       "           [0. , 0.5, 1. ],\n",
       "           [0. , 0.5, 1. ]],\n",
       "  \n",
       "          [[0. , 0.5, 1. ],\n",
       "           [0. , 0.5, 1. ],\n",
       "           [0. , 0.5, 1. ],\n",
       "           [0. , 0.5, 1. ],\n",
       "           [0. , 0.5, 1. ]]]])}}"
      ]
     },
     "execution_count": 1,
     "metadata": {},
     "output_type": "execute_result"
    }
   ],
   "source": [
    "dataset4.get_parameter_data()"
   ]
  },
  {
   "cell_type": "markdown",
   "metadata": {},
   "source": [
    "## Text\n",
    "\n",
    "Text is strings. Sometimes it may be useful to capture categorial data that is represented as string values, or a log message, or else.\n",
    "\n",
    "Note that the `paramtype` setting is important. The datasaver will not allow to save `numeric` data for a parameter that was registered as `text`. The opposite it also true: the datasaver will not allow to save strings for a parameter what was registered as non-`text` (`numeric` or `array`)."
   ]
  },
  {
   "cell_type": "code",
   "execution_count": 14,
   "metadata": {
    "execution": {
     "iopub.execute_input": "2021-04-20T14:47:26.207059Z",
     "iopub.status.busy": "2021-04-20T14:47:26.206034Z",
     "iopub.status.idle": "2021-04-20T14:47:26.220251Z",
     "shell.execute_reply": "2021-04-20T14:47:26.220604Z"
    }
   },
   "outputs": [
    {
     "name": "stdout",
     "output_type": "stream",
     "text": [
      "Starting experimental run with id: 5. "
     ]
    },
    {
     "name": "stdout",
     "output_type": "stream",
     "text": [
      "\n"
     ]
    }
   ],
   "source": [
    "meas = Measurement(exp=exp)\n",
    "meas.register_parameter(dac.ch1)\n",
    "meas.register_parameter(dac.control, setpoints=(dac.ch1,), paramtype='text')\n",
    "\n",
    "with meas.run() as datasaver:\n",
    "    for dac_v in np.linspace(4, 6, 10):\n",
    "        dac.ch1(dac_v)\n",
    "        datasaver.add_result((dac.ch1, dac_v),\n",
    "                             (dac.control, dac.control()))\n",
    "dataset5 = datasaver.dataset"
   ]
  },
  {
   "cell_type": "code",
   "execution_count": 15,
   "metadata": {
    "execution": {
     "iopub.execute_input": "2021-04-20T14:47:26.224458Z",
     "iopub.status.busy": "2021-04-20T14:47:26.222968Z",
     "iopub.status.idle": "2021-04-20T14:47:26.229607Z",
     "shell.execute_reply": "2021-04-20T14:47:26.229229Z"
    }
   },
   "outputs": [
    {
     "data": {
      "text/plain": [
       "{'dac_control': {'dac_control': array(['OK', 'OK', 'OK', 'OK', 'OK', 'Too high', 'Too high', 'Too high',\n",
       "         'Too high', 'Too high'], dtype='<U8'),\n",
       "  'dac_ch1': array([4.        , 4.22222222, 4.44444444, 4.66666667, 4.88888889,\n",
       "         5.11111111, 5.33333333, 5.55555556, 5.77777778, 6.        ])}}"
      ]
     },
     "execution_count": 1,
     "metadata": {},
     "output_type": "execute_result"
    }
   ],
   "source": [
    "dataset5.get_parameter_data()"
   ]
  },
  {
   "cell_type": "code",
   "execution_count": null,
   "metadata": {},
   "outputs": [],
   "source": []
  }
 ],
 "metadata": {
  "kernelspec": {
   "display_name": "Python 3",
   "language": "python",
   "name": "python3"
  },
  "language_info": {
   "codemirror_mode": {
    "name": "ipython",
    "version": 3
   },
   "file_extension": ".py",
   "mimetype": "text/x-python",
   "name": "python",
   "nbconvert_exporter": "python",
   "pygments_lexer": "ipython3",
   "version": "3.7.10"
  }
 },
 "nbformat": 4,
 "nbformat_minor": 4
}
