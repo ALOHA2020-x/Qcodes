{
 "cells": [
  {
   "cell_type": "markdown",
   "metadata": {},
   "source": [
    "# Paramtypes explained\n",
    "\n",
    "Internally in the SQLite database on disk, data are registered as being of one of (currently) four allowed types:\n",
    "\n",
    "- `numeric`\n",
    "- `array`\n",
    "- `text`\n",
    "- `complex`\n",
    "\n",
    "This notebook seeks to exemplify when each type should be used, and how differently the `Measurement` object treats data of each type.\n",
    "\n",
    "We start with necessary imports, and then initialising our database and creating an experiment."
   ]
  },
  {
   "cell_type": "code",
   "execution_count": 1,
   "metadata": {
    "execution": {
     "iopub.execute_input": "2020-11-19T09:37:40.732705Z",
     "iopub.status.busy": "2020-11-19T09:37:40.732002Z",
     "iopub.status.idle": "2020-11-19T09:37:41.851618Z",
     "shell.execute_reply": "2020-11-19T09:37:41.850993Z"
    }
   },
   "outputs": [
    {
     "name": "stdout",
     "output_type": "stream",
     "text": [
      "Logging hadn't been started.\n",
      "Activating auto-logging. Current session state plus future input saved.\n",
      "Filename       : /home/vsts/.qcodes/logs/command_history.log\n",
      "Mode           : append\n",
      "Output logging : True\n",
      "Raw input log  : False\n",
      "Timestamping   : True\n",
      "State          : active\n"
     ]
    },
    {
     "name": "stdout",
     "output_type": "stream",
     "text": [
      "Qcodes Logfile : /home/vsts/.qcodes/logs/201119-15096-qcodes.log\n"
     ]
    }
   ],
   "source": [
    "import os\n",
    "import time\n",
    "\n",
    "import numpy as np\n",
    "\n",
    "from qcodes import initialise_or_create_database_at, \\\n",
    "    load_or_create_experiment, Measurement, load_by_id\n",
    "from qcodes.instrument.parameter import ArrayParameter, Parameter\n",
    "from qcodes.dataset.data_export import get_data_by_id\n",
    "from qcodes.tests.instrument_mocks import DummyInstrument"
   ]
  },
  {
   "cell_type": "code",
   "execution_count": 2,
   "metadata": {
    "execution": {
     "iopub.execute_input": "2020-11-19T09:37:41.857482Z",
     "iopub.status.busy": "2020-11-19T09:37:41.856896Z",
     "iopub.status.idle": "2020-11-19T09:37:41.940325Z",
     "shell.execute_reply": "2020-11-19T09:37:41.940781Z"
    }
   },
   "outputs": [
    {
     "name": "stdout",
     "output_type": "stream",
     "text": [
      "\r",
      "0it [00:00, ?it/s]"
     ]
    },
    {
     "name": "stdout",
     "output_type": "stream",
     "text": [
      "\r",
      "Upgrading database; v0 -> v1: : 0it [00:00, ?it/s]"
     ]
    },
    {
     "name": "stdout",
     "output_type": "stream",
     "text": [
      "\r",
      "Upgrading database; v0 -> v1: : 0it [00:00, ?it/s]"
     ]
    },
    {
     "name": "stdout",
     "output_type": "stream",
     "text": [
      "\n",
      "\r",
      "  0%|          | 0/1 [00:00<?, ?it/s]"
     ]
    },
    {
     "name": "stdout",
     "output_type": "stream",
     "text": [
      "\r",
      "Upgrading database; v1 -> v2:   0%|          | 0/1 [00:00<?, ?it/s]"
     ]
    },
    {
     "name": "stdout",
     "output_type": "stream",
     "text": [
      "\r",
      "Upgrading database; v1 -> v2: 100%|██████████| 1/1 [00:00<00:00, 519.23it/s]"
     ]
    },
    {
     "name": "stdout",
     "output_type": "stream",
     "text": [
      "\n",
      "\r",
      "0it [00:00, ?it/s]"
     ]
    },
    {
     "name": "stdout",
     "output_type": "stream",
     "text": [
      "\r",
      "Upgrading database; v2 -> v3: : 0it [00:00, ?it/s]"
     ]
    },
    {
     "name": "stdout",
     "output_type": "stream",
     "text": [
      "\r",
      "Upgrading database; v2 -> v3: : 0it [00:00, ?it/s]"
     ]
    },
    {
     "name": "stdout",
     "output_type": "stream",
     "text": [
      "\n",
      "\r",
      "0it [00:00, ?it/s]"
     ]
    },
    {
     "name": "stdout",
     "output_type": "stream",
     "text": [
      "\r",
      "Upgrading database; v3 -> v4: : 0it [00:00, ?it/s]"
     ]
    },
    {
     "name": "stdout",
     "output_type": "stream",
     "text": [
      "\r",
      "Upgrading database; v3 -> v4: : 0it [00:00, ?it/s]"
     ]
    },
    {
     "name": "stdout",
     "output_type": "stream",
     "text": [
      "\n",
      "\r",
      "  0%|          | 0/1 [00:00<?, ?it/s]"
     ]
    },
    {
     "name": "stdout",
     "output_type": "stream",
     "text": [
      "\r",
      "Upgrading database; v4 -> v5:   0%|          | 0/1 [00:00<?, ?it/s]"
     ]
    },
    {
     "name": "stdout",
     "output_type": "stream",
     "text": [
      "\r",
      "Upgrading database; v4 -> v5: 100%|██████████| 1/1 [00:00<00:00, 931.45it/s]"
     ]
    },
    {
     "name": "stdout",
     "output_type": "stream",
     "text": [
      "\n",
      "\r",
      "0it [00:00, ?it/s]"
     ]
    },
    {
     "name": "stdout",
     "output_type": "stream",
     "text": [
      "\r",
      "Upgrading database; v5 -> v6: : 0it [00:00, ?it/s]"
     ]
    },
    {
     "name": "stdout",
     "output_type": "stream",
     "text": [
      "\r",
      "Upgrading database; v5 -> v6: : 0it [00:00, ?it/s]"
     ]
    },
    {
     "name": "stdout",
     "output_type": "stream",
     "text": [
      "\n",
      "\r",
      "  0%|          | 0/1 [00:00<?, ?it/s]"
     ]
    },
    {
     "name": "stdout",
     "output_type": "stream",
     "text": [
      "\r",
      "Upgrading database; v6 -> v7:   0%|          | 0/1 [00:00<?, ?it/s]"
     ]
    },
    {
     "name": "stdout",
     "output_type": "stream",
     "text": [
      "\r",
      "Upgrading database; v6 -> v7: 100%|██████████| 1/1 [00:00<00:00, 321.99it/s]"
     ]
    },
    {
     "name": "stdout",
     "output_type": "stream",
     "text": [
      "\n",
      "\r",
      "  0%|          | 0/1 [00:00<?, ?it/s]"
     ]
    },
    {
     "name": "stdout",
     "output_type": "stream",
     "text": [
      "\r",
      "Upgrading database; v7 -> v8:   0%|          | 0/1 [00:00<?, ?it/s]"
     ]
    },
    {
     "name": "stdout",
     "output_type": "stream",
     "text": [
      "\r",
      "Upgrading database; v7 -> v8: 100%|██████████| 1/1 [00:00<00:00, 439.98it/s]"
     ]
    },
    {
     "name": "stdout",
     "output_type": "stream",
     "text": [
      "\n",
      "\r",
      "  0%|          | 0/1 [00:00<?, ?it/s]"
     ]
    },
    {
     "name": "stdout",
     "output_type": "stream",
     "text": [
      "\r",
      "Upgrading database; v8 -> v9:   0%|          | 0/1 [00:00<?, ?it/s]"
     ]
    },
    {
     "name": "stdout",
     "output_type": "stream",
     "text": [
      "\r",
      "Upgrading database; v8 -> v9: 100%|██████████| 1/1 [00:00<00:00, 424.70it/s]"
     ]
    },
    {
     "name": "stdout",
     "output_type": "stream",
     "text": [
      "\n"
     ]
    }
   ],
   "source": [
    "initialise_or_create_database_at(os.path.join(os.getcwd(), 'paramtypes_explained.db'))\n",
    "exp = load_or_create_experiment('paramtypes', sample_name='not_available')"
   ]
  },
  {
   "cell_type": "markdown",
   "metadata": {},
   "source": [
    "Let us, now, create two dummy instruments to be used in our experiment."
   ]
  },
  {
   "cell_type": "code",
   "execution_count": 3,
   "metadata": {
    "execution": {
     "iopub.execute_input": "2020-11-19T09:37:41.946265Z",
     "iopub.status.busy": "2020-11-19T09:37:41.945667Z",
     "iopub.status.idle": "2020-11-19T09:37:41.948952Z",
     "shell.execute_reply": "2020-11-19T09:37:41.949364Z"
    }
   },
   "outputs": [],
   "source": [
    "dac = DummyInstrument('dac', gates=['ch1', 'ch2'])\n",
    "SA = DummyInstrument('SA')"
   ]
  },
  {
   "cell_type": "code",
   "execution_count": 4,
   "metadata": {
    "execution": {
     "iopub.execute_input": "2020-11-19T09:37:41.961267Z",
     "iopub.status.busy": "2020-11-19T09:37:41.957071Z",
     "iopub.status.idle": "2020-11-19T09:37:41.964381Z",
     "shell.execute_reply": "2020-11-19T09:37:41.963875Z"
    }
   },
   "outputs": [],
   "source": [
    "# some array-like data types\n",
    "\n",
    "class Spectrum(ArrayParameter):\n",
    "    \n",
    "    def __init__(self, name, instrument):\n",
    "        \n",
    "        self.N = 7\n",
    "        setpoints = (np.linspace(0, 1, self.N),)\n",
    "    \n",
    "        super().__init__(name=name,\n",
    "                         instrument=instrument,\n",
    "                         setpoints=setpoints,\n",
    "                         shape=(20,),\n",
    "                         label='Noisy spectrum',\n",
    "                         unit='V/sqrt(Hz)',\n",
    "                         setpoint_names=('Frequency',),\n",
    "                         setpoint_units=('Hz',))\n",
    "        \n",
    "    def get_raw(self):\n",
    "        return np.random.randn(self.N)\n",
    "    \n",
    "\n",
    "class MultiDimSpectrum(ArrayParameter):\n",
    "    \n",
    "    def __init__(self, name, instrument):\n",
    "        self.start = 0\n",
    "        self.stop = 1\n",
    "        self.npts = (2, 5, 3)\n",
    "        sp1 = np.linspace(self.start, self.stop,\n",
    "                          self.npts[0])\n",
    "        sp2 = np.linspace(self.start, self.stop,\n",
    "                          self.npts[1])\n",
    "        sp3 = np.linspace(self.start, self.stop,\n",
    "                          self.npts[2])\n",
    "        setpoints = (sp1,\n",
    "                     np.tile(sp2, (len(sp1), 1)),\n",
    "                     np.tile(sp3, (len(sp1), len(sp2), 1)))\n",
    "        super().__init__(name=name,\n",
    "                         instrument=instrument,\n",
    "                         setpoints=setpoints,\n",
    "                         shape=(100, 50, 20),\n",
    "                         label='Flower Power Spectrum in 3D',\n",
    "                         unit='V/sqrt(Hz)',\n",
    "                         setpoint_names=('Frequency0', 'Frequency1',\n",
    "                                         'Frequency2'),\n",
    "                             setpoint_units=('Hz', 'Other Hz', \"Third Hz\"))\n",
    "    def get_raw(self):\n",
    "        a = self.npts[0]\n",
    "        b = self.npts[1]\n",
    "        c = self.npts[2]\n",
    "        return np.reshape(np.arange(a*b*c), (a, b, c))\n",
    "    \n",
    "# a string-valued parameter\n",
    "def dac1_too_high():\n",
    "    return 'Too high' if dac.ch1() > 5 else 'OK'"
   ]
  },
  {
   "cell_type": "markdown",
   "metadata": {},
   "source": [
    "Finally, we add our parameters to the dummy instruments:"
   ]
  },
  {
   "cell_type": "code",
   "execution_count": 5,
   "metadata": {
    "execution": {
     "iopub.execute_input": "2020-11-19T09:37:41.970411Z",
     "iopub.status.busy": "2020-11-19T09:37:41.969192Z",
     "iopub.status.idle": "2020-11-19T09:37:41.973961Z",
     "shell.execute_reply": "2020-11-19T09:37:41.974619Z"
    }
   },
   "outputs": [],
   "source": [
    "dac.add_parameter('control', get_cmd=dac1_too_high)\n",
    "SA.add_parameter('spectrum', parameter_class=Spectrum)\n",
    "SA.add_parameter('spectrum3D', parameter_class=MultiDimSpectrum)"
   ]
  },
  {
   "cell_type": "markdown",
   "metadata": {},
   "source": [
    "## Numeric"
   ]
  },
  {
   "cell_type": "markdown",
   "metadata": {},
   "source": [
    "The `numeric` datatype is simply a number. Data registered with this type are saved as individual numbers. This is the **default** datatype when registering parameters.\n",
    "\n",
    "### Numeric example 1\n",
    "\n",
    "In this example, all parameters get registered as `numeric` type. This entails that the array in unraveled and inserted point-by-point."
   ]
  },
  {
   "cell_type": "code",
   "execution_count": 6,
   "metadata": {
    "execution": {
     "iopub.execute_input": "2020-11-19T09:37:41.981267Z",
     "iopub.status.busy": "2020-11-19T09:37:41.980278Z",
     "iopub.status.idle": "2020-11-19T09:37:42.001322Z",
     "shell.execute_reply": "2020-11-19T09:37:42.000837Z"
    }
   },
   "outputs": [
    {
     "name": "stdout",
     "output_type": "stream",
     "text": [
      "Starting experimental run with id: 1. \n",
      "Finished run in 0.017 s\n"
     ]
    }
   ],
   "source": [
    "meas = Measurement(exp=exp)\n",
    "meas.register_parameter(dac.ch1)\n",
    "meas.register_parameter(SA.spectrum, setpoints=(dac.ch1,))\n",
    "\n",
    "t0 = time.perf_counter()\n",
    "\n",
    "with meas.run() as datasaver:\n",
    "    for dac_v in np.linspace(0, 2, 5):\n",
    "        dac.ch1(dac_v)\n",
    "        datasaver.add_result((dac.ch1, dac_v), (SA.spectrum, SA.spectrum()))\n",
    "\n",
    "t1 = time.perf_counter()\n",
    "\n",
    "print(f'Finished run in {(t1-t0):.3f} s')\n",
    "        \n",
    "run_id1 = datasaver.run_id"
   ]
  },
  {
   "cell_type": "markdown",
   "metadata": {},
   "source": [
    "The data may be retrieved using the `get_data_by_id` function. This function will always bring back the data **as if** it had been stored in a point-by-point format. That is to say, all parameters come out as array of the same length, with setpoints values appropriately repeated."
   ]
  },
  {
   "cell_type": "code",
   "execution_count": 7,
   "metadata": {
    "execution": {
     "iopub.execute_input": "2020-11-19T09:37:42.005443Z",
     "iopub.status.busy": "2020-11-19T09:37:42.004445Z",
     "iopub.status.idle": "2020-11-19T09:37:42.022188Z",
     "shell.execute_reply": "2020-11-19T09:37:42.021739Z"
    }
   },
   "outputs": [
    {
     "data": {
      "text/plain": [
       "[[{'name': 'dac_ch1',\n",
       "   'data': array([0. , 0. , 0. , 0. , 0. , 0. , 0. , 0.5, 0.5, 0.5, 0.5, 0.5, 0.5,\n",
       "          0.5, 1. , 1. , 1. , 1. , 1. , 1. , 1. , 1.5, 1.5, 1.5, 1.5, 1.5,\n",
       "          1.5, 1.5, 2. , 2. , 2. , 2. , 2. , 2. , 2. ]),\n",
       "   'unit': 'V',\n",
       "   'label': 'Gate ch1'},\n",
       "  {'name': 'SA_Frequency',\n",
       "   'data': array([0.        , 0.16666667, 0.33333333, 0.5       , 0.66666667,\n",
       "          0.83333333, 1.        , 0.        , 0.16666667, 0.33333333,\n",
       "          0.5       , 0.66666667, 0.83333333, 1.        , 0.        ,\n",
       "          0.16666667, 0.33333333, 0.5       , 0.66666667, 0.83333333,\n",
       "          1.        , 0.        , 0.16666667, 0.33333333, 0.5       ,\n",
       "          0.66666667, 0.83333333, 1.        , 0.        , 0.16666667,\n",
       "          0.33333333, 0.5       , 0.66666667, 0.83333333, 1.        ]),\n",
       "   'unit': 'Hz',\n",
       "   'label': ''},\n",
       "  {'name': 'SA_spectrum',\n",
       "   'data': array([ 0.58733428,  0.94471321,  1.6313553 ,  0.7596717 ,  0.16337941,\n",
       "          -0.86776316,  0.04806964, -1.085229  ,  2.06526734, -2.32616805,\n",
       "          -1.86793039, -2.17584685,  2.51588961, -0.43486785,  0.18435375,\n",
       "           0.06255731,  0.74484944,  0.90405945, -0.68423905,  0.61508642,\n",
       "          -0.84495376, -1.67759665,  1.13850643, -0.53485175, -0.35650926,\n",
       "           0.56664148, -1.62306403, -1.61107366, -0.85699784,  2.10760876,\n",
       "           1.10179109,  1.09155356, -0.99992245, -1.58787064, -0.27268176]),\n",
       "   'unit': 'V/sqrt(Hz)',\n",
       "   'label': 'Noisy spectrum'}]]"
      ]
     },
     "execution_count": 1,
     "metadata": {},
     "output_type": "execute_result"
    }
   ],
   "source": [
    "get_data_by_id(run_id1)"
   ]
  },
  {
   "cell_type": "markdown",
   "metadata": {},
   "source": [
    "## Array\n",
    "\n",
    "The `array` paramtype stores data as binary blobs in the database. Insertion is faster (asymptotically **much** faster) this way, but the data are \"dead\" to SQL queries inside the database. Be informed that a BLOB in sqlite has a default max length limit set at 1 billion (1,000,000,000) bytes (for more information, refer to [Sqlite](https://sqlite.org/limits.html) docs)."
   ]
  },
  {
   "cell_type": "markdown",
   "metadata": {},
   "source": [
    "### Array example 1\n",
    "\n",
    "Let us repeat the above measurement, but this time using `array` paramtypes."
   ]
  },
  {
   "cell_type": "code",
   "execution_count": 8,
   "metadata": {
    "execution": {
     "iopub.execute_input": "2020-11-19T09:37:42.029439Z",
     "iopub.status.busy": "2020-11-19T09:37:42.028481Z",
     "iopub.status.idle": "2020-11-19T09:37:42.049018Z",
     "shell.execute_reply": "2020-11-19T09:37:42.048160Z"
    }
   },
   "outputs": [
    {
     "name": "stdout",
     "output_type": "stream",
     "text": [
      "Starting experimental run with id: 2. \n",
      "Finished run in 0.017 s\n"
     ]
    }
   ],
   "source": [
    "meas = Measurement(exp=exp)\n",
    "meas.register_parameter(dac.ch1)\n",
    "meas.register_parameter(SA.spectrum, setpoints=(dac.ch1,), paramtype='array')\n",
    "\n",
    "t0 = time.perf_counter()\n",
    "\n",
    "with meas.run() as datasaver:\n",
    "    for dac_v in np.linspace(0, 2, 5):\n",
    "        dac.ch1(dac_v)\n",
    "        datasaver.add_result((dac.ch1, dac_v), (SA.spectrum, SA.spectrum()))\n",
    "\n",
    "t1 = time.perf_counter()\n",
    "\n",
    "print(f'Finished run in {(t1-t0):.3f} s')\n",
    "        \n",
    "run_id2 = datasaver.run_id"
   ]
  },
  {
   "cell_type": "markdown",
   "metadata": {},
   "source": [
    "Reading back out the data, we can **not** see whether they were stored as `numeric` or `array` type."
   ]
  },
  {
   "cell_type": "code",
   "execution_count": 9,
   "metadata": {
    "execution": {
     "iopub.execute_input": "2020-11-19T09:37:42.052504Z",
     "iopub.status.busy": "2020-11-19T09:37:42.051936Z",
     "iopub.status.idle": "2020-11-19T09:37:42.065991Z",
     "shell.execute_reply": "2020-11-19T09:37:42.065487Z"
    }
   },
   "outputs": [
    {
     "data": {
      "text/plain": [
       "[[{'name': 'dac_ch1',\n",
       "   'data': array([0. , 0. , 0. , 0. , 0. , 0. , 0. , 0.5, 0.5, 0.5, 0.5, 0.5, 0.5,\n",
       "          0.5, 1. , 1. , 1. , 1. , 1. , 1. , 1. , 1.5, 1.5, 1.5, 1.5, 1.5,\n",
       "          1.5, 1.5, 2. , 2. , 2. , 2. , 2. , 2. , 2. ]),\n",
       "   'unit': 'V',\n",
       "   'label': 'Gate ch1'},\n",
       "  {'name': 'SA_Frequency',\n",
       "   'data': array([0.        , 0.16666667, 0.33333333, 0.5       , 0.66666667,\n",
       "          0.83333333, 1.        , 0.        , 0.16666667, 0.33333333,\n",
       "          0.5       , 0.66666667, 0.83333333, 1.        , 0.        ,\n",
       "          0.16666667, 0.33333333, 0.5       , 0.66666667, 0.83333333,\n",
       "          1.        , 0.        , 0.16666667, 0.33333333, 0.5       ,\n",
       "          0.66666667, 0.83333333, 1.        , 0.        , 0.16666667,\n",
       "          0.33333333, 0.5       , 0.66666667, 0.83333333, 1.        ]),\n",
       "   'unit': 'Hz',\n",
       "   'label': ''},\n",
       "  {'name': 'SA_spectrum',\n",
       "   'data': array([ 1.52067768, -1.10287376,  1.6336357 ,  0.00729424,  0.63154016,\n",
       "          -1.37620637, -0.51323098, -0.63891865,  0.02935241,  0.52113826,\n",
       "           0.08702496,  0.2535873 ,  0.81731955, -0.1055044 ,  0.37576711,\n",
       "          -0.19049118, -0.16999282,  0.15441266, -0.72892292, -0.21941045,\n",
       "           0.51785472, -1.30890005,  1.13335528,  0.02253962, -0.08511665,\n",
       "           0.90993468, -0.61258949,  0.43009699,  0.16543097, -0.07674124,\n",
       "          -0.41785871, -0.59062002,  1.6504558 , -0.73531549, -1.19387546]),\n",
       "   'unit': 'V/sqrt(Hz)',\n",
       "   'label': 'Noisy spectrum'}]]"
      ]
     },
     "execution_count": 1,
     "metadata": {},
     "output_type": "execute_result"
    }
   ],
   "source": [
    "get_data_by_id(run_id2)"
   ]
  },
  {
   "cell_type": "markdown",
   "metadata": {},
   "source": [
    "### Array example 2\n",
    "\n",
    "When storing multidimensional `array` data (think: Alazar cards), both `numeric` and `array` types can be used."
   ]
  },
  {
   "cell_type": "code",
   "execution_count": 10,
   "metadata": {
    "execution": {
     "iopub.execute_input": "2020-11-19T09:37:42.070919Z",
     "iopub.status.busy": "2020-11-19T09:37:42.069273Z",
     "iopub.status.idle": "2020-11-19T09:37:42.092895Z",
     "shell.execute_reply": "2020-11-19T09:37:42.093422Z"
    }
   },
   "outputs": [
    {
     "name": "stdout",
     "output_type": "stream",
     "text": [
      "Starting experimental run with id: 3. \n"
     ]
    }
   ],
   "source": [
    "meas = Measurement(exp=exp)\n",
    "meas.register_parameter(SA.spectrum3D, paramtype='array')\n",
    "\n",
    "with meas.run() as datasaver:\n",
    "    datasaver.add_result((SA.spectrum3D, SA.spectrum3D()))\n",
    "run_id3 = datasaver.run_id"
   ]
  },
  {
   "cell_type": "markdown",
   "metadata": {},
   "source": [
    "The data come out the way we expect them to."
   ]
  },
  {
   "cell_type": "code",
   "execution_count": 11,
   "metadata": {
    "execution": {
     "iopub.execute_input": "2020-11-19T09:37:42.097232Z",
     "iopub.status.busy": "2020-11-19T09:37:42.096217Z",
     "iopub.status.idle": "2020-11-19T09:37:42.107102Z",
     "shell.execute_reply": "2020-11-19T09:37:42.107856Z"
    }
   },
   "outputs": [
    {
     "data": {
      "text/plain": [
       "[[{'name': 'SA_Frequency0',\n",
       "   'data': array([0., 0., 0., 0., 0., 0., 0., 0., 0., 0., 0., 0., 0., 0., 0., 1., 1.,\n",
       "          1., 1., 1., 1., 1., 1., 1., 1., 1., 1., 1., 1., 1.]),\n",
       "   'unit': 'Hz',\n",
       "   'label': ''},\n",
       "  {'name': 'SA_Frequency1',\n",
       "   'data': array([0.  , 0.  , 0.  , 0.25, 0.25, 0.25, 0.5 , 0.5 , 0.5 , 0.75, 0.75,\n",
       "          0.75, 1.  , 1.  , 1.  , 0.  , 0.  , 0.  , 0.25, 0.25, 0.25, 0.5 ,\n",
       "          0.5 , 0.5 , 0.75, 0.75, 0.75, 1.  , 1.  , 1.  ]),\n",
       "   'unit': 'Other Hz',\n",
       "   'label': ''},\n",
       "  {'name': 'SA_Frequency2',\n",
       "   'data': array([0. , 0.5, 1. , 0. , 0.5, 1. , 0. , 0.5, 1. , 0. , 0.5, 1. , 0. ,\n",
       "          0.5, 1. , 0. , 0.5, 1. , 0. , 0.5, 1. , 0. , 0.5, 1. , 0. , 0.5,\n",
       "          1. , 0. , 0.5, 1. ]),\n",
       "   'unit': 'Third Hz',\n",
       "   'label': ''},\n",
       "  {'name': 'SA_spectrum3D',\n",
       "   'data': array([ 0,  1,  2,  3,  4,  5,  6,  7,  8,  9, 10, 11, 12, 13, 14, 15, 16,\n",
       "          17, 18, 19, 20, 21, 22, 23, 24, 25, 26, 27, 28, 29]),\n",
       "   'unit': 'V/sqrt(Hz)',\n",
       "   'label': 'Flower Power Spectrum in 3D'}]]"
      ]
     },
     "execution_count": 1,
     "metadata": {},
     "output_type": "execute_result"
    }
   ],
   "source": [
    "get_data_by_id(run_id3)"
   ]
  },
  {
   "cell_type": "markdown",
   "metadata": {},
   "source": [
    "### Array example 3\n",
    "\n",
    "For completeness, here, we provide an example where the multidimensional array has an auxiliary setpoint."
   ]
  },
  {
   "cell_type": "code",
   "execution_count": 12,
   "metadata": {
    "execution": {
     "iopub.execute_input": "2020-11-19T09:37:42.114768Z",
     "iopub.status.busy": "2020-11-19T09:37:42.113840Z",
     "iopub.status.idle": "2020-11-19T09:37:42.136433Z",
     "shell.execute_reply": "2020-11-19T09:37:42.135957Z"
    }
   },
   "outputs": [
    {
     "name": "stdout",
     "output_type": "stream",
     "text": [
      "Starting experimental run with id: 4. \n"
     ]
    }
   ],
   "source": [
    "meas = Measurement(exp=exp)\n",
    "meas.register_parameter(dac.ch1)\n",
    "meas.register_parameter(SA.spectrum3D, paramtype='array', setpoints=(dac.ch1,))\n",
    "\n",
    "with meas.run() as datasaver:\n",
    "    for dac_v in [3, 4, 5]:\n",
    "        dac.ch1(dac_v)\n",
    "        datasaver.add_result((dac.ch1, dac_v),\n",
    "                             (SA.spectrum3D, SA.spectrum3D()))\n",
    "run_id4 = datasaver.run_id"
   ]
  },
  {
   "cell_type": "code",
   "execution_count": 13,
   "metadata": {
    "execution": {
     "iopub.execute_input": "2020-11-19T09:37:42.140427Z",
     "iopub.status.busy": "2020-11-19T09:37:42.139737Z",
     "iopub.status.idle": "2020-11-19T09:37:42.153930Z",
     "shell.execute_reply": "2020-11-19T09:37:42.153504Z"
    }
   },
   "outputs": [
    {
     "data": {
      "text/plain": [
       "[[{'name': 'dac_ch1',\n",
       "   'data': array([3., 3., 3., 3., 3., 3., 3., 3., 3., 3., 3., 3., 3., 3., 3., 3., 3.,\n",
       "          3., 3., 3., 3., 3., 3., 3., 3., 3., 3., 3., 3., 3., 4., 4., 4., 4.,\n",
       "          4., 4., 4., 4., 4., 4., 4., 4., 4., 4., 4., 4., 4., 4., 4., 4., 4.,\n",
       "          4., 4., 4., 4., 4., 4., 4., 4., 4., 5., 5., 5., 5., 5., 5., 5., 5.,\n",
       "          5., 5., 5., 5., 5., 5., 5., 5., 5., 5., 5., 5., 5., 5., 5., 5., 5.,\n",
       "          5., 5., 5., 5., 5.]),\n",
       "   'unit': 'V',\n",
       "   'label': 'Gate ch1'},\n",
       "  {'name': 'SA_Frequency0',\n",
       "   'data': array([0., 0., 0., 0., 0., 0., 0., 0., 0., 0., 0., 0., 0., 0., 0., 1., 1.,\n",
       "          1., 1., 1., 1., 1., 1., 1., 1., 1., 1., 1., 1., 1., 0., 0., 0., 0.,\n",
       "          0., 0., 0., 0., 0., 0., 0., 0., 0., 0., 0., 1., 1., 1., 1., 1., 1.,\n",
       "          1., 1., 1., 1., 1., 1., 1., 1., 1., 0., 0., 0., 0., 0., 0., 0., 0.,\n",
       "          0., 0., 0., 0., 0., 0., 0., 1., 1., 1., 1., 1., 1., 1., 1., 1., 1.,\n",
       "          1., 1., 1., 1., 1.]),\n",
       "   'unit': 'Hz',\n",
       "   'label': ''},\n",
       "  {'name': 'SA_Frequency1',\n",
       "   'data': array([0.  , 0.  , 0.  , 0.25, 0.25, 0.25, 0.5 , 0.5 , 0.5 , 0.75, 0.75,\n",
       "          0.75, 1.  , 1.  , 1.  , 0.  , 0.  , 0.  , 0.25, 0.25, 0.25, 0.5 ,\n",
       "          0.5 , 0.5 , 0.75, 0.75, 0.75, 1.  , 1.  , 1.  , 0.  , 0.  , 0.  ,\n",
       "          0.25, 0.25, 0.25, 0.5 , 0.5 , 0.5 , 0.75, 0.75, 0.75, 1.  , 1.  ,\n",
       "          1.  , 0.  , 0.  , 0.  , 0.25, 0.25, 0.25, 0.5 , 0.5 , 0.5 , 0.75,\n",
       "          0.75, 0.75, 1.  , 1.  , 1.  , 0.  , 0.  , 0.  , 0.25, 0.25, 0.25,\n",
       "          0.5 , 0.5 , 0.5 , 0.75, 0.75, 0.75, 1.  , 1.  , 1.  , 0.  , 0.  ,\n",
       "          0.  , 0.25, 0.25, 0.25, 0.5 , 0.5 , 0.5 , 0.75, 0.75, 0.75, 1.  ,\n",
       "          1.  , 1.  ]),\n",
       "   'unit': 'Other Hz',\n",
       "   'label': ''},\n",
       "  {'name': 'SA_Frequency2',\n",
       "   'data': array([0. , 0.5, 1. , 0. , 0.5, 1. , 0. , 0.5, 1. , 0. , 0.5, 1. , 0. ,\n",
       "          0.5, 1. , 0. , 0.5, 1. , 0. , 0.5, 1. , 0. , 0.5, 1. , 0. , 0.5,\n",
       "          1. , 0. , 0.5, 1. , 0. , 0.5, 1. , 0. , 0.5, 1. , 0. , 0.5, 1. ,\n",
       "          0. , 0.5, 1. , 0. , 0.5, 1. , 0. , 0.5, 1. , 0. , 0.5, 1. , 0. ,\n",
       "          0.5, 1. , 0. , 0.5, 1. , 0. , 0.5, 1. , 0. , 0.5, 1. , 0. , 0.5,\n",
       "          1. , 0. , 0.5, 1. , 0. , 0.5, 1. , 0. , 0.5, 1. , 0. , 0.5, 1. ,\n",
       "          0. , 0.5, 1. , 0. , 0.5, 1. , 0. , 0.5, 1. , 0. , 0.5, 1. ]),\n",
       "   'unit': 'Third Hz',\n",
       "   'label': ''},\n",
       "  {'name': 'SA_spectrum3D',\n",
       "   'data': array([ 0,  1,  2,  3,  4,  5,  6,  7,  8,  9, 10, 11, 12, 13, 14, 15, 16,\n",
       "          17, 18, 19, 20, 21, 22, 23, 24, 25, 26, 27, 28, 29,  0,  1,  2,  3,\n",
       "           4,  5,  6,  7,  8,  9, 10, 11, 12, 13, 14, 15, 16, 17, 18, 19, 20,\n",
       "          21, 22, 23, 24, 25, 26, 27, 28, 29,  0,  1,  2,  3,  4,  5,  6,  7,\n",
       "           8,  9, 10, 11, 12, 13, 14, 15, 16, 17, 18, 19, 20, 21, 22, 23, 24,\n",
       "          25, 26, 27, 28, 29]),\n",
       "   'unit': 'V/sqrt(Hz)',\n",
       "   'label': 'Flower Power Spectrum in 3D'}]]"
      ]
     },
     "execution_count": 1,
     "metadata": {},
     "output_type": "execute_result"
    }
   ],
   "source": [
    "get_data_by_id(run_id4)"
   ]
  },
  {
   "cell_type": "markdown",
   "metadata": {},
   "source": [
    "## Text\n",
    "\n",
    "Text is strings. Sometimes it may be useful to capture categorial data that is represented as string values, or a log message, or else.\n",
    "\n",
    "Note that the `paramtype` setting is important. The datasaver will not allow to save `numeric` data for a parameter that was registered as `text`. The opposite it also true: the datasaver will not allow to save strings for a parameter what was registered as non-`text` (`numeric` or `array`)."
   ]
  },
  {
   "cell_type": "code",
   "execution_count": 14,
   "metadata": {
    "execution": {
     "iopub.execute_input": "2020-11-19T09:37:42.160176Z",
     "iopub.status.busy": "2020-11-19T09:37:42.159549Z",
     "iopub.status.idle": "2020-11-19T09:37:42.175503Z",
     "shell.execute_reply": "2020-11-19T09:37:42.175940Z"
    }
   },
   "outputs": [
    {
     "name": "stdout",
     "output_type": "stream",
     "text": [
      "Starting experimental run with id: 5. \n"
     ]
    }
   ],
   "source": [
    "meas = Measurement(exp=exp)\n",
    "meas.register_parameter(dac.ch1)\n",
    "meas.register_parameter(dac.control, setpoints=(dac.ch1,), paramtype='text')\n",
    "\n",
    "with meas.run() as datasaver:\n",
    "    for dac_v in np.linspace(4, 6, 10):\n",
    "        dac.ch1(dac_v)\n",
    "        datasaver.add_result((dac.ch1, dac_v),\n",
    "                             (dac.control, dac.control()))\n",
    "run_id5 = datasaver.run_id"
   ]
  },
  {
   "cell_type": "code",
   "execution_count": 15,
   "metadata": {
    "execution": {
     "iopub.execute_input": "2020-11-19T09:37:42.179635Z",
     "iopub.status.busy": "2020-11-19T09:37:42.179038Z",
     "iopub.status.idle": "2020-11-19T09:37:42.186373Z",
     "shell.execute_reply": "2020-11-19T09:37:42.185903Z"
    }
   },
   "outputs": [
    {
     "data": {
      "text/plain": [
       "[[{'name': 'dac_ch1',\n",
       "   'data': array([4.        , 4.22222222, 4.44444444, 4.66666667, 4.88888889,\n",
       "          5.11111111, 5.33333333, 5.55555556, 5.77777778, 6.        ]),\n",
       "   'unit': 'V',\n",
       "   'label': 'Gate ch1'},\n",
       "  {'name': 'dac_control',\n",
       "   'data': array(['OK', 'OK', 'OK', 'OK', 'OK', 'Too high', 'Too high', 'Too high',\n",
       "          'Too high', 'Too high'], dtype='<U8'),\n",
       "   'unit': '',\n",
       "   'label': 'control'}]]"
      ]
     },
     "execution_count": 1,
     "metadata": {},
     "output_type": "execute_result"
    }
   ],
   "source": [
    "get_data_by_id(run_id5)"
   ]
  },
  {
   "cell_type": "code",
   "execution_count": null,
   "metadata": {},
   "outputs": [],
   "source": []
  }
 ],
 "metadata": {
  "kernelspec": {
   "display_name": "Python 3",
   "language": "python",
   "name": "python3"
  },
  "language_info": {
   "codemirror_mode": {
    "name": "ipython",
    "version": 3
   },
   "file_extension": ".py",
   "mimetype": "text/x-python",
   "name": "python",
   "nbconvert_exporter": "python",
   "pygments_lexer": "ipython3",
   "version": "3.7.9"
  }
 },
 "nbformat": 4,
 "nbformat_minor": 2
}
