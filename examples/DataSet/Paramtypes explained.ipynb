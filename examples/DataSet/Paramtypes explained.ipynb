{
 "cells": [
  {
   "cell_type": "markdown",
   "metadata": {},
   "source": [
    "# Paramtypes explained\n",
    "\n",
    "Internally in the SQLite database on disk, data are registered as being of one of (currently) four allowed types:\n",
    "\n",
    "- `numeric`\n",
    "- `array`\n",
    "- `text`\n",
    "- `complex`\n",
    "\n",
    "This notebook seeks to exemplify when each type should be used, and how differently the `Measurement` object treats data of each type.\n",
    "\n",
    "We start with necessary imports, and then initialising our database and creating an experiment."
   ]
  },
  {
   "cell_type": "code",
   "execution_count": 1,
   "metadata": {
    "execution": {
     "iopub.execute_input": "2021-02-10T09:09:19.229074Z",
     "iopub.status.busy": "2021-02-10T09:09:19.228529Z",
     "iopub.status.idle": "2021-02-10T09:09:20.258110Z",
     "shell.execute_reply": "2021-02-10T09:09:20.258546Z"
    }
   },
   "outputs": [
    {
     "name": "stdout",
     "output_type": "stream",
     "text": [
      "Logging hadn't been started.\n",
      "Activating auto-logging. Current session state plus future input saved.\n",
      "Filename       : /home/vsts/.qcodes/logs/command_history.log\n",
      "Mode           : append\n",
      "Output logging : True\n",
      "Raw input log  : False\n",
      "Timestamping   : True\n",
      "State          : active\n"
     ]
    },
    {
     "name": "stdout",
     "output_type": "stream",
     "text": [
      "Qcodes Logfile : /home/vsts/.qcodes/logs/210210-15636-qcodes.log\n"
     ]
    }
   ],
   "source": [
    "import os\n",
    "import time\n",
    "\n",
    "import numpy as np\n",
    "\n",
    "from qcodes import initialise_or_create_database_at, \\\n",
    "    load_or_create_experiment, Measurement, load_by_id\n",
    "from qcodes.instrument.parameter import ArrayParameter, Parameter\n",
    "from qcodes.dataset.data_export import get_data_by_id\n",
    "from qcodes.tests.instrument_mocks import DummyInstrument"
   ]
  },
  {
   "cell_type": "code",
   "execution_count": 2,
   "metadata": {
    "execution": {
     "iopub.execute_input": "2021-02-10T09:09:20.262951Z",
     "iopub.status.busy": "2021-02-10T09:09:20.262100Z",
     "iopub.status.idle": "2021-02-10T09:09:20.332127Z",
     "shell.execute_reply": "2021-02-10T09:09:20.331545Z"
    }
   },
   "outputs": [
    {
     "name": "stdout",
     "output_type": "stream",
     "text": [
      "\r",
      "0it [00:00, ?it/s]"
     ]
    },
    {
     "name": "stdout",
     "output_type": "stream",
     "text": [
      "\r",
      "Upgrading database; v0 -> v1: : 0it [00:00, ?it/s]"
     ]
    },
    {
     "name": "stdout",
     "output_type": "stream",
     "text": [
      "\r",
      "Upgrading database; v0 -> v1: : 0it [00:00, ?it/s]"
     ]
    },
    {
     "name": "stdout",
     "output_type": "stream",
     "text": [
      "\n",
      "\r",
      "  0%|          | 0/1 [00:00<?, ?it/s]"
     ]
    },
    {
     "name": "stdout",
     "output_type": "stream",
     "text": [
      "\r",
      "Upgrading database; v1 -> v2:   0%|          | 0/1 [00:00<?, ?it/s]"
     ]
    },
    {
     "name": "stdout",
     "output_type": "stream",
     "text": [
      "\r",
      "Upgrading database; v1 -> v2: 100%|██████████| 1/1 [00:00<00:00, 692.36it/s]"
     ]
    },
    {
     "name": "stdout",
     "output_type": "stream",
     "text": [
      "\n",
      "\r",
      "0it [00:00, ?it/s]"
     ]
    },
    {
     "name": "stdout",
     "output_type": "stream",
     "text": [
      "\r",
      "Upgrading database; v2 -> v3: : 0it [00:00, ?it/s]"
     ]
    },
    {
     "name": "stdout",
     "output_type": "stream",
     "text": [
      "\r",
      "Upgrading database; v2 -> v3: : 0it [00:00, ?it/s]"
     ]
    },
    {
     "name": "stdout",
     "output_type": "stream",
     "text": [
      "\n",
      "\r",
      "0it [00:00, ?it/s]"
     ]
    },
    {
     "name": "stdout",
     "output_type": "stream",
     "text": [
      "\r",
      "Upgrading database; v3 -> v4: : 0it [00:00, ?it/s]"
     ]
    },
    {
     "name": "stdout",
     "output_type": "stream",
     "text": [
      "\r",
      "Upgrading database; v3 -> v4: : 0it [00:00, ?it/s]"
     ]
    },
    {
     "name": "stdout",
     "output_type": "stream",
     "text": [
      "\n",
      "\r",
      "  0%|          | 0/1 [00:00<?, ?it/s]"
     ]
    },
    {
     "name": "stdout",
     "output_type": "stream",
     "text": [
      "\r",
      "Upgrading database; v4 -> v5:   0%|          | 0/1 [00:00<?, ?it/s]"
     ]
    },
    {
     "name": "stdout",
     "output_type": "stream",
     "text": [
      "\r",
      "Upgrading database; v4 -> v5: 100%|██████████| 1/1 [00:00<00:00, 1008.25it/s]"
     ]
    },
    {
     "name": "stdout",
     "output_type": "stream",
     "text": [
      "\n",
      "\r",
      "0it [00:00, ?it/s]"
     ]
    },
    {
     "name": "stdout",
     "output_type": "stream",
     "text": [
      "\r",
      "Upgrading database; v5 -> v6: : 0it [00:00, ?it/s]"
     ]
    },
    {
     "name": "stdout",
     "output_type": "stream",
     "text": [
      "\r",
      "Upgrading database; v5 -> v6: : 0it [00:00, ?it/s]"
     ]
    },
    {
     "name": "stdout",
     "output_type": "stream",
     "text": [
      "\n",
      "\r",
      "  0%|          | 0/1 [00:00<?, ?it/s]"
     ]
    },
    {
     "name": "stdout",
     "output_type": "stream",
     "text": [
      "\r",
      "Upgrading database; v6 -> v7:   0%|          | 0/1 [00:00<?, ?it/s]"
     ]
    },
    {
     "name": "stdout",
     "output_type": "stream",
     "text": [
      "\r",
      "Upgrading database; v6 -> v7: 100%|██████████| 1/1 [00:00<00:00, 374.69it/s]"
     ]
    },
    {
     "name": "stdout",
     "output_type": "stream",
     "text": [
      "\n",
      "\r",
      "  0%|          | 0/1 [00:00<?, ?it/s]"
     ]
    },
    {
     "name": "stdout",
     "output_type": "stream",
     "text": [
      "\r",
      "Upgrading database; v7 -> v8:   0%|          | 0/1 [00:00<?, ?it/s]"
     ]
    },
    {
     "name": "stdout",
     "output_type": "stream",
     "text": [
      "\r",
      "Upgrading database; v7 -> v8: 100%|██████████| 1/1 [00:00<00:00, 428.34it/s]"
     ]
    },
    {
     "name": "stdout",
     "output_type": "stream",
     "text": [
      "\n",
      "\r",
      "  0%|          | 0/1 [00:00<?, ?it/s]"
     ]
    },
    {
     "name": "stdout",
     "output_type": "stream",
     "text": [
      "\r",
      "Upgrading database; v8 -> v9:   0%|          | 0/1 [00:00<?, ?it/s]"
     ]
    },
    {
     "name": "stdout",
     "output_type": "stream",
     "text": [
      "\r",
      "Upgrading database; v8 -> v9: 100%|██████████| 1/1 [00:00<00:00, 883.57it/s]"
     ]
    },
    {
     "name": "stdout",
     "output_type": "stream",
     "text": [
      "\n"
     ]
    }
   ],
   "source": [
    "initialise_or_create_database_at(os.path.join(os.getcwd(), 'paramtypes_explained.db'))\n",
    "exp = load_or_create_experiment('paramtypes', sample_name='not_available')"
   ]
  },
  {
   "cell_type": "markdown",
   "metadata": {},
   "source": [
    "Let us, now, create two dummy instruments to be used in our experiment."
   ]
  },
  {
   "cell_type": "code",
   "execution_count": 3,
   "metadata": {
    "execution": {
     "iopub.execute_input": "2021-02-10T09:09:20.338098Z",
     "iopub.status.busy": "2021-02-10T09:09:20.336879Z",
     "iopub.status.idle": "2021-02-10T09:09:20.338725Z",
     "shell.execute_reply": "2021-02-10T09:09:20.339165Z"
    }
   },
   "outputs": [],
   "source": [
    "dac = DummyInstrument('dac', gates=['ch1', 'ch2'])\n",
    "SA = DummyInstrument('SA')"
   ]
  },
  {
   "cell_type": "code",
   "execution_count": 4,
   "metadata": {
    "execution": {
     "iopub.execute_input": "2021-02-10T09:09:20.349877Z",
     "iopub.status.busy": "2021-02-10T09:09:20.346497Z",
     "iopub.status.idle": "2021-02-10T09:09:20.352094Z",
     "shell.execute_reply": "2021-02-10T09:09:20.351636Z"
    }
   },
   "outputs": [],
   "source": [
    "# some array-like data types\n",
    "\n",
    "class Spectrum(ArrayParameter):\n",
    "    \n",
    "    def __init__(self, name, instrument):\n",
    "        \n",
    "        self.N = 7\n",
    "        setpoints = (np.linspace(0, 1, self.N),)\n",
    "    \n",
    "        super().__init__(name=name,\n",
    "                         instrument=instrument,\n",
    "                         setpoints=setpoints,\n",
    "                         shape=(20,),\n",
    "                         label='Noisy spectrum',\n",
    "                         unit='V/sqrt(Hz)',\n",
    "                         setpoint_names=('Frequency',),\n",
    "                         setpoint_units=('Hz',))\n",
    "        \n",
    "    def get_raw(self):\n",
    "        return np.random.randn(self.N)\n",
    "    \n",
    "\n",
    "class MultiDimSpectrum(ArrayParameter):\n",
    "    \n",
    "    def __init__(self, name, instrument):\n",
    "        self.start = 0\n",
    "        self.stop = 1\n",
    "        self.npts = (2, 5, 3)\n",
    "        sp1 = np.linspace(self.start, self.stop,\n",
    "                          self.npts[0])\n",
    "        sp2 = np.linspace(self.start, self.stop,\n",
    "                          self.npts[1])\n",
    "        sp3 = np.linspace(self.start, self.stop,\n",
    "                          self.npts[2])\n",
    "        setpoints = (sp1,\n",
    "                     np.tile(sp2, (len(sp1), 1)),\n",
    "                     np.tile(sp3, (len(sp1), len(sp2), 1)))\n",
    "        super().__init__(name=name,\n",
    "                         instrument=instrument,\n",
    "                         setpoints=setpoints,\n",
    "                         shape=(100, 50, 20),\n",
    "                         label='Flower Power Spectrum in 3D',\n",
    "                         unit='V/sqrt(Hz)',\n",
    "                         setpoint_names=('Frequency0', 'Frequency1',\n",
    "                                         'Frequency2'),\n",
    "                             setpoint_units=('Hz', 'Other Hz', \"Third Hz\"))\n",
    "    def get_raw(self):\n",
    "        a = self.npts[0]\n",
    "        b = self.npts[1]\n",
    "        c = self.npts[2]\n",
    "        return np.reshape(np.arange(a*b*c), (a, b, c))\n",
    "    \n",
    "# a string-valued parameter\n",
    "def dac1_too_high():\n",
    "    return 'Too high' if dac.ch1() > 5 else 'OK'"
   ]
  },
  {
   "cell_type": "markdown",
   "metadata": {},
   "source": [
    "Finally, we add our parameters to the dummy instruments:"
   ]
  },
  {
   "cell_type": "code",
   "execution_count": 5,
   "metadata": {
    "execution": {
     "iopub.execute_input": "2021-02-10T09:09:20.357911Z",
     "iopub.status.busy": "2021-02-10T09:09:20.356728Z",
     "iopub.status.idle": "2021-02-10T09:09:20.358528Z",
     "shell.execute_reply": "2021-02-10T09:09:20.358965Z"
    }
   },
   "outputs": [],
   "source": [
    "dac.add_parameter('control', get_cmd=dac1_too_high)\n",
    "SA.add_parameter('spectrum', parameter_class=Spectrum)\n",
    "SA.add_parameter('spectrum3D', parameter_class=MultiDimSpectrum)"
   ]
  },
  {
   "cell_type": "markdown",
   "metadata": {},
   "source": [
    "## Numeric"
   ]
  },
  {
   "cell_type": "markdown",
   "metadata": {},
   "source": [
    "The `numeric` datatype is simply a number. Data registered with this type are saved as individual numbers. This is the **default** datatype when registering parameters.\n",
    "\n",
    "### Numeric example 1\n",
    "\n",
    "In this example, all parameters get registered as `numeric` type. This entails that the array in unraveled and inserted point-by-point."
   ]
  },
  {
   "cell_type": "code",
   "execution_count": 6,
   "metadata": {
    "execution": {
     "iopub.execute_input": "2021-02-10T09:09:20.365360Z",
     "iopub.status.busy": "2021-02-10T09:09:20.364250Z",
     "iopub.status.idle": "2021-02-10T09:09:20.386451Z",
     "shell.execute_reply": "2021-02-10T09:09:20.385887Z"
    }
   },
   "outputs": [
    {
     "name": "stdout",
     "output_type": "stream",
     "text": [
      "Starting experimental run with id: 1. \n",
      "Finished run in 0.018 s\n"
     ]
    }
   ],
   "source": [
    "meas = Measurement(exp=exp)\n",
    "meas.register_parameter(dac.ch1)\n",
    "meas.register_parameter(SA.spectrum, setpoints=(dac.ch1,))\n",
    "\n",
    "t0 = time.perf_counter()\n",
    "\n",
    "with meas.run() as datasaver:\n",
    "    for dac_v in np.linspace(0, 2, 5):\n",
    "        dac.ch1(dac_v)\n",
    "        datasaver.add_result((dac.ch1, dac_v), (SA.spectrum, SA.spectrum()))\n",
    "\n",
    "t1 = time.perf_counter()\n",
    "\n",
    "print(f'Finished run in {(t1-t0):.3f} s')\n",
    "        \n",
    "run_id1 = datasaver.run_id"
   ]
  },
  {
   "cell_type": "markdown",
   "metadata": {},
   "source": [
    "The data may be retrieved using the `get_data_by_id` function. This function will always bring back the data **as if** it had been stored in a point-by-point format. That is to say, all parameters come out as array of the same length, with setpoints values appropriately repeated."
   ]
  },
  {
   "cell_type": "code",
   "execution_count": 7,
   "metadata": {
    "execution": {
     "iopub.execute_input": "2021-02-10T09:09:20.390124Z",
     "iopub.status.busy": "2021-02-10T09:09:20.389591Z",
     "iopub.status.idle": "2021-02-10T09:09:20.405936Z",
     "shell.execute_reply": "2021-02-10T09:09:20.406385Z"
    }
   },
   "outputs": [
    {
     "data": {
      "text/plain": [
       "[[{'name': 'dac_ch1',\n",
       "   'data': array([0. , 0. , 0. , 0. , 0. , 0. , 0. , 0.5, 0.5, 0.5, 0.5, 0.5, 0.5,\n",
       "          0.5, 1. , 1. , 1. , 1. , 1. , 1. , 1. , 1.5, 1.5, 1.5, 1.5, 1.5,\n",
       "          1.5, 1.5, 2. , 2. , 2. , 2. , 2. , 2. , 2. ]),\n",
       "   'unit': 'V',\n",
       "   'label': 'Gate ch1'},\n",
       "  {'name': 'SA_Frequency',\n",
       "   'data': array([0.        , 0.16666667, 0.33333333, 0.5       , 0.66666667,\n",
       "          0.83333333, 1.        , 0.        , 0.16666667, 0.33333333,\n",
       "          0.5       , 0.66666667, 0.83333333, 1.        , 0.        ,\n",
       "          0.16666667, 0.33333333, 0.5       , 0.66666667, 0.83333333,\n",
       "          1.        , 0.        , 0.16666667, 0.33333333, 0.5       ,\n",
       "          0.66666667, 0.83333333, 1.        , 0.        , 0.16666667,\n",
       "          0.33333333, 0.5       , 0.66666667, 0.83333333, 1.        ]),\n",
       "   'unit': 'Hz',\n",
       "   'label': ''},\n",
       "  {'name': 'SA_spectrum',\n",
       "   'data': array([-1.36217184,  0.45170789,  1.8462057 ,  1.4757777 ,  0.09433929,\n",
       "           0.47069666, -0.9639193 ,  0.28529587,  2.32008495, -0.34397688,\n",
       "           0.18607246, -0.5543248 , -1.3344613 ,  1.45287545,  0.76533123,\n",
       "          -1.72513886,  2.28931381,  0.59306756, -1.02015985,  0.60368047,\n",
       "           1.408575  ,  1.80162123,  0.91639937, -0.31012776,  0.36420256,\n",
       "           0.01760238, -2.26221601, -0.06056719,  0.09721246, -0.73874253,\n",
       "           1.10774036,  1.04103684, -0.81867224, -0.81853709,  0.74430693]),\n",
       "   'unit': 'V/sqrt(Hz)',\n",
       "   'label': 'Noisy spectrum'}]]"
      ]
     },
     "execution_count": 1,
     "metadata": {},
     "output_type": "execute_result"
    }
   ],
   "source": [
    "get_data_by_id(run_id1)"
   ]
  },
  {
   "cell_type": "markdown",
   "metadata": {},
   "source": [
    "## Array\n",
    "\n",
    "The `array` paramtype stores data as binary blobs in the database. Insertion is faster (asymptotically **much** faster) this way, but the data are \"dead\" to SQL queries inside the database. Be informed that a BLOB in sqlite has a default max length limit set at 1 billion (1,000,000,000) bytes (for more information, refer to [Sqlite](https://sqlite.org/limits.html) docs)."
   ]
  },
  {
   "cell_type": "markdown",
   "metadata": {},
   "source": [
    "### Array example 1\n",
    "\n",
    "Let us repeat the above measurement, but this time using `array` paramtypes."
   ]
  },
  {
   "cell_type": "code",
   "execution_count": 8,
   "metadata": {
    "execution": {
     "iopub.execute_input": "2021-02-10T09:09:20.412906Z",
     "iopub.status.busy": "2021-02-10T09:09:20.412339Z",
     "iopub.status.idle": "2021-02-10T09:09:20.434172Z",
     "shell.execute_reply": "2021-02-10T09:09:20.433701Z"
    }
   },
   "outputs": [
    {
     "name": "stdout",
     "output_type": "stream",
     "text": [
      "Starting experimental run with id: 2. \n",
      "Finished run in 0.019 s\n"
     ]
    }
   ],
   "source": [
    "meas = Measurement(exp=exp)\n",
    "meas.register_parameter(dac.ch1)\n",
    "meas.register_parameter(SA.spectrum, setpoints=(dac.ch1,), paramtype='array')\n",
    "\n",
    "t0 = time.perf_counter()\n",
    "\n",
    "with meas.run() as datasaver:\n",
    "    for dac_v in np.linspace(0, 2, 5):\n",
    "        dac.ch1(dac_v)\n",
    "        datasaver.add_result((dac.ch1, dac_v), (SA.spectrum, SA.spectrum()))\n",
    "\n",
    "t1 = time.perf_counter()\n",
    "\n",
    "print(f'Finished run in {(t1-t0):.3f} s')\n",
    "        \n",
    "run_id2 = datasaver.run_id"
   ]
  },
  {
   "cell_type": "markdown",
   "metadata": {},
   "source": [
    "Reading back out the data, we can **not** see whether they were stored as `numeric` or `array` type."
   ]
  },
  {
   "cell_type": "code",
   "execution_count": 9,
   "metadata": {
    "execution": {
     "iopub.execute_input": "2021-02-10T09:09:20.437666Z",
     "iopub.status.busy": "2021-02-10T09:09:20.437138Z",
     "iopub.status.idle": "2021-02-10T09:09:20.447437Z",
     "shell.execute_reply": "2021-02-10T09:09:20.446947Z"
    }
   },
   "outputs": [
    {
     "data": {
      "text/plain": [
       "[[{'name': 'dac_ch1',\n",
       "   'data': array([0. , 0. , 0. , 0. , 0. , 0. , 0. , 0.5, 0.5, 0.5, 0.5, 0.5, 0.5,\n",
       "          0.5, 1. , 1. , 1. , 1. , 1. , 1. , 1. , 1.5, 1.5, 1.5, 1.5, 1.5,\n",
       "          1.5, 1.5, 2. , 2. , 2. , 2. , 2. , 2. , 2. ]),\n",
       "   'unit': 'V',\n",
       "   'label': 'Gate ch1'},\n",
       "  {'name': 'SA_Frequency',\n",
       "   'data': array([0.        , 0.16666667, 0.33333333, 0.5       , 0.66666667,\n",
       "          0.83333333, 1.        , 0.        , 0.16666667, 0.33333333,\n",
       "          0.5       , 0.66666667, 0.83333333, 1.        , 0.        ,\n",
       "          0.16666667, 0.33333333, 0.5       , 0.66666667, 0.83333333,\n",
       "          1.        , 0.        , 0.16666667, 0.33333333, 0.5       ,\n",
       "          0.66666667, 0.83333333, 1.        , 0.        , 0.16666667,\n",
       "          0.33333333, 0.5       , 0.66666667, 0.83333333, 1.        ]),\n",
       "   'unit': 'Hz',\n",
       "   'label': ''},\n",
       "  {'name': 'SA_spectrum',\n",
       "   'data': array([ 0.18003038, -0.64078736,  1.20382714, -0.59196639,  1.55539113,\n",
       "           0.72984746,  0.88291956,  1.47827089, -0.01061557, -1.51912065,\n",
       "          -2.23304843, -1.89600043,  0.36032444, -0.0426068 ,  0.66671154,\n",
       "           0.44025307,  0.62511803,  1.16921637, -0.89167683,  0.03673609,\n",
       "           0.09788719, -0.33664566, -0.32417028,  0.7908422 , -1.05463212,\n",
       "          -1.06947774,  0.17125055, -0.8898083 ,  0.39120783,  0.18900403,\n",
       "           0.61080507, -0.74650037,  1.13977236, -0.64985732, -0.02981766]),\n",
       "   'unit': 'V/sqrt(Hz)',\n",
       "   'label': 'Noisy spectrum'}]]"
      ]
     },
     "execution_count": 1,
     "metadata": {},
     "output_type": "execute_result"
    }
   ],
   "source": [
    "get_data_by_id(run_id2)"
   ]
  },
  {
   "cell_type": "markdown",
   "metadata": {},
   "source": [
    "### Array example 2\n",
    "\n",
    "When storing multidimensional `array` data (think: Alazar cards), both `numeric` and `array` types can be used."
   ]
  },
  {
   "cell_type": "code",
   "execution_count": 10,
   "metadata": {
    "execution": {
     "iopub.execute_input": "2021-02-10T09:09:20.452627Z",
     "iopub.status.busy": "2021-02-10T09:09:20.452016Z",
     "iopub.status.idle": "2021-02-10T09:09:20.468795Z",
     "shell.execute_reply": "2021-02-10T09:09:20.468256Z"
    }
   },
   "outputs": [
    {
     "name": "stdout",
     "output_type": "stream",
     "text": [
      "Starting experimental run with id: 3. \n"
     ]
    }
   ],
   "source": [
    "meas = Measurement(exp=exp)\n",
    "meas.register_parameter(SA.spectrum3D, paramtype='array')\n",
    "\n",
    "with meas.run() as datasaver:\n",
    "    datasaver.add_result((SA.spectrum3D, SA.spectrum3D()))\n",
    "run_id3 = datasaver.run_id"
   ]
  },
  {
   "cell_type": "markdown",
   "metadata": {},
   "source": [
    "The data come out the way we expect them to."
   ]
  },
  {
   "cell_type": "code",
   "execution_count": 11,
   "metadata": {
    "execution": {
     "iopub.execute_input": "2021-02-10T09:09:20.472511Z",
     "iopub.status.busy": "2021-02-10T09:09:20.471929Z",
     "iopub.status.idle": "2021-02-10T09:09:20.481127Z",
     "shell.execute_reply": "2021-02-10T09:09:20.480661Z"
    }
   },
   "outputs": [
    {
     "data": {
      "text/plain": [
       "[[{'name': 'SA_Frequency0',\n",
       "   'data': array([0., 0., 0., 0., 0., 0., 0., 0., 0., 0., 0., 0., 0., 0., 0., 1., 1.,\n",
       "          1., 1., 1., 1., 1., 1., 1., 1., 1., 1., 1., 1., 1.]),\n",
       "   'unit': 'Hz',\n",
       "   'label': ''},\n",
       "  {'name': 'SA_Frequency1',\n",
       "   'data': array([0.  , 0.  , 0.  , 0.25, 0.25, 0.25, 0.5 , 0.5 , 0.5 , 0.75, 0.75,\n",
       "          0.75, 1.  , 1.  , 1.  , 0.  , 0.  , 0.  , 0.25, 0.25, 0.25, 0.5 ,\n",
       "          0.5 , 0.5 , 0.75, 0.75, 0.75, 1.  , 1.  , 1.  ]),\n",
       "   'unit': 'Other Hz',\n",
       "   'label': ''},\n",
       "  {'name': 'SA_Frequency2',\n",
       "   'data': array([0. , 0.5, 1. , 0. , 0.5, 1. , 0. , 0.5, 1. , 0. , 0.5, 1. , 0. ,\n",
       "          0.5, 1. , 0. , 0.5, 1. , 0. , 0.5, 1. , 0. , 0.5, 1. , 0. , 0.5,\n",
       "          1. , 0. , 0.5, 1. ]),\n",
       "   'unit': 'Third Hz',\n",
       "   'label': ''},\n",
       "  {'name': 'SA_spectrum3D',\n",
       "   'data': array([ 0,  1,  2,  3,  4,  5,  6,  7,  8,  9, 10, 11, 12, 13, 14, 15, 16,\n",
       "          17, 18, 19, 20, 21, 22, 23, 24, 25, 26, 27, 28, 29]),\n",
       "   'unit': 'V/sqrt(Hz)',\n",
       "   'label': 'Flower Power Spectrum in 3D'}]]"
      ]
     },
     "execution_count": 1,
     "metadata": {},
     "output_type": "execute_result"
    }
   ],
   "source": [
    "get_data_by_id(run_id3)"
   ]
  },
  {
   "cell_type": "markdown",
   "metadata": {},
   "source": [
    "### Array example 3\n",
    "\n",
    "For completeness, here, we provide an example where the multidimensional array has an auxiliary setpoint."
   ]
  },
  {
   "cell_type": "code",
   "execution_count": 12,
   "metadata": {
    "execution": {
     "iopub.execute_input": "2021-02-10T09:09:20.487298Z",
     "iopub.status.busy": "2021-02-10T09:09:20.486415Z",
     "iopub.status.idle": "2021-02-10T09:09:20.509311Z",
     "shell.execute_reply": "2021-02-10T09:09:20.508854Z"
    }
   },
   "outputs": [
    {
     "name": "stdout",
     "output_type": "stream",
     "text": [
      "Starting experimental run with id: 4. "
     ]
    },
    {
     "name": "stdout",
     "output_type": "stream",
     "text": [
      "\n"
     ]
    }
   ],
   "source": [
    "meas = Measurement(exp=exp)\n",
    "meas.register_parameter(dac.ch1)\n",
    "meas.register_parameter(SA.spectrum3D, paramtype='array', setpoints=(dac.ch1,))\n",
    "\n",
    "with meas.run() as datasaver:\n",
    "    for dac_v in [3, 4, 5]:\n",
    "        dac.ch1(dac_v)\n",
    "        datasaver.add_result((dac.ch1, dac_v),\n",
    "                             (SA.spectrum3D, SA.spectrum3D()))\n",
    "run_id4 = datasaver.run_id"
   ]
  },
  {
   "cell_type": "code",
   "execution_count": 13,
   "metadata": {
    "execution": {
     "iopub.execute_input": "2021-02-10T09:09:20.513040Z",
     "iopub.status.busy": "2021-02-10T09:09:20.512351Z",
     "iopub.status.idle": "2021-02-10T09:09:20.527633Z",
     "shell.execute_reply": "2021-02-10T09:09:20.528079Z"
    }
   },
   "outputs": [
    {
     "data": {
      "text/plain": [
       "[[{'name': 'dac_ch1',\n",
       "   'data': array([3., 3., 3., 3., 3., 3., 3., 3., 3., 3., 3., 3., 3., 3., 3., 3., 3.,\n",
       "          3., 3., 3., 3., 3., 3., 3., 3., 3., 3., 3., 3., 3., 4., 4., 4., 4.,\n",
       "          4., 4., 4., 4., 4., 4., 4., 4., 4., 4., 4., 4., 4., 4., 4., 4., 4.,\n",
       "          4., 4., 4., 4., 4., 4., 4., 4., 4., 5., 5., 5., 5., 5., 5., 5., 5.,\n",
       "          5., 5., 5., 5., 5., 5., 5., 5., 5., 5., 5., 5., 5., 5., 5., 5., 5.,\n",
       "          5., 5., 5., 5., 5.]),\n",
       "   'unit': 'V',\n",
       "   'label': 'Gate ch1'},\n",
       "  {'name': 'SA_Frequency0',\n",
       "   'data': array([0., 0., 0., 0., 0., 0., 0., 0., 0., 0., 0., 0., 0., 0., 0., 1., 1.,\n",
       "          1., 1., 1., 1., 1., 1., 1., 1., 1., 1., 1., 1., 1., 0., 0., 0., 0.,\n",
       "          0., 0., 0., 0., 0., 0., 0., 0., 0., 0., 0., 1., 1., 1., 1., 1., 1.,\n",
       "          1., 1., 1., 1., 1., 1., 1., 1., 1., 0., 0., 0., 0., 0., 0., 0., 0.,\n",
       "          0., 0., 0., 0., 0., 0., 0., 1., 1., 1., 1., 1., 1., 1., 1., 1., 1.,\n",
       "          1., 1., 1., 1., 1.]),\n",
       "   'unit': 'Hz',\n",
       "   'label': ''},\n",
       "  {'name': 'SA_Frequency1',\n",
       "   'data': array([0.  , 0.  , 0.  , 0.25, 0.25, 0.25, 0.5 , 0.5 , 0.5 , 0.75, 0.75,\n",
       "          0.75, 1.  , 1.  , 1.  , 0.  , 0.  , 0.  , 0.25, 0.25, 0.25, 0.5 ,\n",
       "          0.5 , 0.5 , 0.75, 0.75, 0.75, 1.  , 1.  , 1.  , 0.  , 0.  , 0.  ,\n",
       "          0.25, 0.25, 0.25, 0.5 , 0.5 , 0.5 , 0.75, 0.75, 0.75, 1.  , 1.  ,\n",
       "          1.  , 0.  , 0.  , 0.  , 0.25, 0.25, 0.25, 0.5 , 0.5 , 0.5 , 0.75,\n",
       "          0.75, 0.75, 1.  , 1.  , 1.  , 0.  , 0.  , 0.  , 0.25, 0.25, 0.25,\n",
       "          0.5 , 0.5 , 0.5 , 0.75, 0.75, 0.75, 1.  , 1.  , 1.  , 0.  , 0.  ,\n",
       "          0.  , 0.25, 0.25, 0.25, 0.5 , 0.5 , 0.5 , 0.75, 0.75, 0.75, 1.  ,\n",
       "          1.  , 1.  ]),\n",
       "   'unit': 'Other Hz',\n",
       "   'label': ''},\n",
       "  {'name': 'SA_Frequency2',\n",
       "   'data': array([0. , 0.5, 1. , 0. , 0.5, 1. , 0. , 0.5, 1. , 0. , 0.5, 1. , 0. ,\n",
       "          0.5, 1. , 0. , 0.5, 1. , 0. , 0.5, 1. , 0. , 0.5, 1. , 0. , 0.5,\n",
       "          1. , 0. , 0.5, 1. , 0. , 0.5, 1. , 0. , 0.5, 1. , 0. , 0.5, 1. ,\n",
       "          0. , 0.5, 1. , 0. , 0.5, 1. , 0. , 0.5, 1. , 0. , 0.5, 1. , 0. ,\n",
       "          0.5, 1. , 0. , 0.5, 1. , 0. , 0.5, 1. , 0. , 0.5, 1. , 0. , 0.5,\n",
       "          1. , 0. , 0.5, 1. , 0. , 0.5, 1. , 0. , 0.5, 1. , 0. , 0.5, 1. ,\n",
       "          0. , 0.5, 1. , 0. , 0.5, 1. , 0. , 0.5, 1. , 0. , 0.5, 1. ]),\n",
       "   'unit': 'Third Hz',\n",
       "   'label': ''},\n",
       "  {'name': 'SA_spectrum3D',\n",
       "   'data': array([ 0,  1,  2,  3,  4,  5,  6,  7,  8,  9, 10, 11, 12, 13, 14, 15, 16,\n",
       "          17, 18, 19, 20, 21, 22, 23, 24, 25, 26, 27, 28, 29,  0,  1,  2,  3,\n",
       "           4,  5,  6,  7,  8,  9, 10, 11, 12, 13, 14, 15, 16, 17, 18, 19, 20,\n",
       "          21, 22, 23, 24, 25, 26, 27, 28, 29,  0,  1,  2,  3,  4,  5,  6,  7,\n",
       "           8,  9, 10, 11, 12, 13, 14, 15, 16, 17, 18, 19, 20, 21, 22, 23, 24,\n",
       "          25, 26, 27, 28, 29]),\n",
       "   'unit': 'V/sqrt(Hz)',\n",
       "   'label': 'Flower Power Spectrum in 3D'}]]"
      ]
     },
     "execution_count": 1,
     "metadata": {},
     "output_type": "execute_result"
    }
   ],
   "source": [
    "get_data_by_id(run_id4)"
   ]
  },
  {
   "cell_type": "markdown",
   "metadata": {},
   "source": [
    "## Text\n",
    "\n",
    "Text is strings. Sometimes it may be useful to capture categorial data that is represented as string values, or a log message, or else.\n",
    "\n",
    "Note that the `paramtype` setting is important. The datasaver will not allow to save `numeric` data for a parameter that was registered as `text`. The opposite it also true: the datasaver will not allow to save strings for a parameter what was registered as non-`text` (`numeric` or `array`)."
   ]
  },
  {
   "cell_type": "code",
   "execution_count": 14,
   "metadata": {
    "execution": {
     "iopub.execute_input": "2021-02-10T09:09:20.533828Z",
     "iopub.status.busy": "2021-02-10T09:09:20.533259Z",
     "iopub.status.idle": "2021-02-10T09:09:20.553749Z",
     "shell.execute_reply": "2021-02-10T09:09:20.553287Z"
    }
   },
   "outputs": [
    {
     "name": "stdout",
     "output_type": "stream",
     "text": [
      "Starting experimental run with id: 5. \n"
     ]
    }
   ],
   "source": [
    "meas = Measurement(exp=exp)\n",
    "meas.register_parameter(dac.ch1)\n",
    "meas.register_parameter(dac.control, setpoints=(dac.ch1,), paramtype='text')\n",
    "\n",
    "with meas.run() as datasaver:\n",
    "    for dac_v in np.linspace(4, 6, 10):\n",
    "        dac.ch1(dac_v)\n",
    "        datasaver.add_result((dac.ch1, dac_v),\n",
    "                             (dac.control, dac.control()))\n",
    "run_id5 = datasaver.run_id"
   ]
  },
  {
   "cell_type": "code",
   "execution_count": 15,
   "metadata": {
    "execution": {
     "iopub.execute_input": "2021-02-10T09:09:20.556926Z",
     "iopub.status.busy": "2021-02-10T09:09:20.556341Z",
     "iopub.status.idle": "2021-02-10T09:09:20.562687Z",
     "shell.execute_reply": "2021-02-10T09:09:20.563126Z"
    }
   },
   "outputs": [
    {
     "data": {
      "text/plain": [
       "[[{'name': 'dac_ch1',\n",
       "   'data': array([4.        , 4.22222222, 4.44444444, 4.66666667, 4.88888889,\n",
       "          5.11111111, 5.33333333, 5.55555556, 5.77777778, 6.        ]),\n",
       "   'unit': 'V',\n",
       "   'label': 'Gate ch1'},\n",
       "  {'name': 'dac_control',\n",
       "   'data': array(['OK', 'OK', 'OK', 'OK', 'OK', 'Too high', 'Too high', 'Too high',\n",
       "          'Too high', 'Too high'], dtype='<U8'),\n",
       "   'unit': '',\n",
       "   'label': 'control'}]]"
      ]
     },
     "execution_count": 1,
     "metadata": {},
     "output_type": "execute_result"
    }
   ],
   "source": [
    "get_data_by_id(run_id5)"
   ]
  },
  {
   "cell_type": "code",
   "execution_count": null,
   "metadata": {},
   "outputs": [],
   "source": []
  }
 ],
 "metadata": {
  "kernelspec": {
   "display_name": "Python 3",
   "language": "python",
   "name": "python3"
  },
  "language_info": {
   "codemirror_mode": {
    "name": "ipython",
    "version": 3
   },
   "file_extension": ".py",
   "mimetype": "text/x-python",
   "name": "python",
   "nbconvert_exporter": "python",
   "pygments_lexer": "ipython3",
   "version": "3.7.9"
  }
 },
 "nbformat": 4,
 "nbformat_minor": 2
}
