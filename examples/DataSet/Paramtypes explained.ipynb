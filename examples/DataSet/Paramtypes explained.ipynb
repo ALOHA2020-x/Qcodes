{
 "cells": [
  {
   "cell_type": "markdown",
   "metadata": {},
   "source": [
    "# Paramtypes explained\n",
    "\n",
    "Internally in the SQLite database on disk, data are registered as being of one of (currently) four allowed types:\n",
    "\n",
    "- `numeric`\n",
    "- `array`\n",
    "- `text`\n",
    "- `complex`\n",
    "\n",
    "This notebook seeks to exemplify when each type should be used, and how differently the `Measurement` object treats data of each type.\n",
    "\n",
    "We start with necessary imports, and then initialising our database and creating an experiment."
   ]
  },
  {
   "cell_type": "code",
   "execution_count": 1,
   "metadata": {
    "execution": {
     "iopub.execute_input": "2021-01-11T11:51:31.670837Z",
     "iopub.status.busy": "2021-01-11T11:51:31.670321Z",
     "iopub.status.idle": "2021-01-11T11:51:32.813519Z",
     "shell.execute_reply": "2021-01-11T11:51:32.813978Z"
    }
   },
   "outputs": [
    {
     "name": "stdout",
     "output_type": "stream",
     "text": [
      "Logging hadn't been started.\n",
      "Activating auto-logging. Current session state plus future input saved.\n",
      "Filename       : /home/vsts/.qcodes/logs/command_history.log\n",
      "Mode           : append\n",
      "Output logging : True\n",
      "Raw input log  : False\n",
      "Timestamping   : True\n",
      "State          : active\n"
     ]
    },
    {
     "name": "stdout",
     "output_type": "stream",
     "text": [
      "Qcodes Logfile : /home/vsts/.qcodes/logs/210111-14932-qcodes.log\n"
     ]
    }
   ],
   "source": [
    "import os\n",
    "import time\n",
    "\n",
    "import numpy as np\n",
    "\n",
    "from qcodes import initialise_or_create_database_at, \\\n",
    "    load_or_create_experiment, Measurement, load_by_id\n",
    "from qcodes.instrument.parameter import ArrayParameter, Parameter\n",
    "from qcodes.dataset.data_export import get_data_by_id\n",
    "from qcodes.tests.instrument_mocks import DummyInstrument"
   ]
  },
  {
   "cell_type": "code",
   "execution_count": 2,
   "metadata": {
    "execution": {
     "iopub.execute_input": "2021-01-11T11:51:32.818686Z",
     "iopub.status.busy": "2021-01-11T11:51:32.817826Z",
     "iopub.status.idle": "2021-01-11T11:51:32.946863Z",
     "shell.execute_reply": "2021-01-11T11:51:32.947295Z"
    }
   },
   "outputs": [
    {
     "name": "stdout",
     "output_type": "stream",
     "text": [
      "\r",
      "0it [00:00, ?it/s]"
     ]
    },
    {
     "name": "stdout",
     "output_type": "stream",
     "text": [
      "\r",
      "Upgrading database; v0 -> v1: : 0it [00:00, ?it/s]"
     ]
    },
    {
     "name": "stdout",
     "output_type": "stream",
     "text": [
      "\r",
      "Upgrading database; v0 -> v1: : 0it [00:00, ?it/s]"
     ]
    },
    {
     "name": "stdout",
     "output_type": "stream",
     "text": [
      "\n",
      "\r",
      "  0%|          | 0/1 [00:00<?, ?it/s]"
     ]
    },
    {
     "name": "stdout",
     "output_type": "stream",
     "text": [
      "\r",
      "Upgrading database; v1 -> v2:   0%|          | 0/1 [00:00<?, ?it/s]"
     ]
    },
    {
     "name": "stdout",
     "output_type": "stream",
     "text": [
      "\r",
      "Upgrading database; v1 -> v2: 100%|██████████| 1/1 [00:00<00:00, 1177.51it/s]"
     ]
    },
    {
     "name": "stdout",
     "output_type": "stream",
     "text": [
      "\n",
      "\r",
      "0it [00:00, ?it/s]"
     ]
    },
    {
     "name": "stdout",
     "output_type": "stream",
     "text": [
      "\r",
      "Upgrading database; v2 -> v3: : 0it [00:00, ?it/s]"
     ]
    },
    {
     "name": "stdout",
     "output_type": "stream",
     "text": [
      "\r",
      "Upgrading database; v2 -> v3: : 0it [00:00, ?it/s]"
     ]
    },
    {
     "name": "stdout",
     "output_type": "stream",
     "text": [
      "\n",
      "\r",
      "0it [00:00, ?it/s]"
     ]
    },
    {
     "name": "stdout",
     "output_type": "stream",
     "text": [
      "\r",
      "Upgrading database; v3 -> v4: : 0it [00:00, ?it/s]"
     ]
    },
    {
     "name": "stdout",
     "output_type": "stream",
     "text": [
      "\r",
      "Upgrading database; v3 -> v4: : 0it [00:00, ?it/s]"
     ]
    },
    {
     "name": "stdout",
     "output_type": "stream",
     "text": [
      "\n",
      "\r",
      "  0%|          | 0/1 [00:00<?, ?it/s]"
     ]
    },
    {
     "name": "stdout",
     "output_type": "stream",
     "text": [
      "\r",
      "Upgrading database; v4 -> v5:   0%|          | 0/1 [00:00<?, ?it/s]"
     ]
    },
    {
     "name": "stdout",
     "output_type": "stream",
     "text": [
      "\r",
      "Upgrading database; v4 -> v5: 100%|██████████| 1/1 [00:00<00:00, 417.22it/s]"
     ]
    },
    {
     "name": "stdout",
     "output_type": "stream",
     "text": [
      "\n"
     ]
    },
    {
     "name": "stdout",
     "output_type": "stream",
     "text": [
      "\r",
      "0it [00:00, ?it/s]"
     ]
    },
    {
     "name": "stdout",
     "output_type": "stream",
     "text": [
      "\r",
      "Upgrading database; v5 -> v6: : 0it [00:00, ?it/s]"
     ]
    },
    {
     "name": "stdout",
     "output_type": "stream",
     "text": [
      "\r",
      "Upgrading database; v5 -> v6: : 0it [00:00, ?it/s]"
     ]
    },
    {
     "name": "stdout",
     "output_type": "stream",
     "text": [
      "\n",
      "\r",
      "  0%|          | 0/1 [00:00<?, ?it/s]"
     ]
    },
    {
     "name": "stdout",
     "output_type": "stream",
     "text": [
      "\r",
      "Upgrading database; v6 -> v7:   0%|          | 0/1 [00:00<?, ?it/s]"
     ]
    },
    {
     "name": "stdout",
     "output_type": "stream",
     "text": [
      "\r",
      "Upgrading database; v6 -> v7: 100%|██████████| 1/1 [00:00<00:00, 106.31it/s]"
     ]
    },
    {
     "name": "stdout",
     "output_type": "stream",
     "text": [
      "\n",
      "\r",
      "  0%|          | 0/1 [00:00<?, ?it/s]"
     ]
    },
    {
     "name": "stdout",
     "output_type": "stream",
     "text": [
      "\r",
      "Upgrading database; v7 -> v8:   0%|          | 0/1 [00:00<?, ?it/s]"
     ]
    },
    {
     "name": "stdout",
     "output_type": "stream",
     "text": [
      "\r",
      "Upgrading database; v7 -> v8: 100%|██████████| 1/1 [00:00<00:00, 397.49it/s]"
     ]
    },
    {
     "name": "stdout",
     "output_type": "stream",
     "text": [
      "\n",
      "\r",
      "  0%|          | 0/1 [00:00<?, ?it/s]"
     ]
    },
    {
     "name": "stdout",
     "output_type": "stream",
     "text": [
      "\r",
      "Upgrading database; v8 -> v9:   0%|          | 0/1 [00:00<?, ?it/s]"
     ]
    },
    {
     "name": "stdout",
     "output_type": "stream",
     "text": [
      "\r",
      "Upgrading database; v8 -> v9: 100%|██████████| 1/1 [00:00<00:00, 440.39it/s]"
     ]
    },
    {
     "name": "stdout",
     "output_type": "stream",
     "text": [
      "\n"
     ]
    }
   ],
   "source": [
    "initialise_or_create_database_at(os.path.join(os.getcwd(), 'paramtypes_explained.db'))\n",
    "exp = load_or_create_experiment('paramtypes', sample_name='not_available')"
   ]
  },
  {
   "cell_type": "markdown",
   "metadata": {},
   "source": [
    "Let us, now, create two dummy instruments to be used in our experiment."
   ]
  },
  {
   "cell_type": "code",
   "execution_count": 3,
   "metadata": {
    "execution": {
     "iopub.execute_input": "2021-01-11T11:51:32.951068Z",
     "iopub.status.busy": "2021-01-11T11:51:32.950552Z",
     "iopub.status.idle": "2021-01-11T11:51:32.954225Z",
     "shell.execute_reply": "2021-01-11T11:51:32.953664Z"
    }
   },
   "outputs": [],
   "source": [
    "dac = DummyInstrument('dac', gates=['ch1', 'ch2'])\n",
    "SA = DummyInstrument('SA')"
   ]
  },
  {
   "cell_type": "code",
   "execution_count": 4,
   "metadata": {
    "execution": {
     "iopub.execute_input": "2021-01-11T11:51:32.966099Z",
     "iopub.status.busy": "2021-01-11T11:51:32.965439Z",
     "iopub.status.idle": "2021-01-11T11:51:32.968980Z",
     "shell.execute_reply": "2021-01-11T11:51:32.969499Z"
    }
   },
   "outputs": [],
   "source": [
    "# some array-like data types\n",
    "\n",
    "class Spectrum(ArrayParameter):\n",
    "    \n",
    "    def __init__(self, name, instrument):\n",
    "        \n",
    "        self.N = 7\n",
    "        setpoints = (np.linspace(0, 1, self.N),)\n",
    "    \n",
    "        super().__init__(name=name,\n",
    "                         instrument=instrument,\n",
    "                         setpoints=setpoints,\n",
    "                         shape=(20,),\n",
    "                         label='Noisy spectrum',\n",
    "                         unit='V/sqrt(Hz)',\n",
    "                         setpoint_names=('Frequency',),\n",
    "                         setpoint_units=('Hz',))\n",
    "        \n",
    "    def get_raw(self):\n",
    "        return np.random.randn(self.N)\n",
    "    \n",
    "\n",
    "class MultiDimSpectrum(ArrayParameter):\n",
    "    \n",
    "    def __init__(self, name, instrument):\n",
    "        self.start = 0\n",
    "        self.stop = 1\n",
    "        self.npts = (2, 5, 3)\n",
    "        sp1 = np.linspace(self.start, self.stop,\n",
    "                          self.npts[0])\n",
    "        sp2 = np.linspace(self.start, self.stop,\n",
    "                          self.npts[1])\n",
    "        sp3 = np.linspace(self.start, self.stop,\n",
    "                          self.npts[2])\n",
    "        setpoints = (sp1,\n",
    "                     np.tile(sp2, (len(sp1), 1)),\n",
    "                     np.tile(sp3, (len(sp1), len(sp2), 1)))\n",
    "        super().__init__(name=name,\n",
    "                         instrument=instrument,\n",
    "                         setpoints=setpoints,\n",
    "                         shape=(100, 50, 20),\n",
    "                         label='Flower Power Spectrum in 3D',\n",
    "                         unit='V/sqrt(Hz)',\n",
    "                         setpoint_names=('Frequency0', 'Frequency1',\n",
    "                                         'Frequency2'),\n",
    "                             setpoint_units=('Hz', 'Other Hz', \"Third Hz\"))\n",
    "    def get_raw(self):\n",
    "        a = self.npts[0]\n",
    "        b = self.npts[1]\n",
    "        c = self.npts[2]\n",
    "        return np.reshape(np.arange(a*b*c), (a, b, c))\n",
    "    \n",
    "# a string-valued parameter\n",
    "def dac1_too_high():\n",
    "    return 'Too high' if dac.ch1() > 5 else 'OK'"
   ]
  },
  {
   "cell_type": "markdown",
   "metadata": {},
   "source": [
    "Finally, we add our parameters to the dummy instruments:"
   ]
  },
  {
   "cell_type": "code",
   "execution_count": 5,
   "metadata": {
    "execution": {
     "iopub.execute_input": "2021-01-11T11:51:32.975474Z",
     "iopub.status.busy": "2021-01-11T11:51:32.974421Z",
     "iopub.status.idle": "2021-01-11T11:51:32.976080Z",
     "shell.execute_reply": "2021-01-11T11:51:32.976596Z"
    }
   },
   "outputs": [],
   "source": [
    "dac.add_parameter('control', get_cmd=dac1_too_high)\n",
    "SA.add_parameter('spectrum', parameter_class=Spectrum)\n",
    "SA.add_parameter('spectrum3D', parameter_class=MultiDimSpectrum)"
   ]
  },
  {
   "cell_type": "markdown",
   "metadata": {},
   "source": [
    "## Numeric"
   ]
  },
  {
   "cell_type": "markdown",
   "metadata": {},
   "source": [
    "The `numeric` datatype is simply a number. Data registered with this type are saved as individual numbers. This is the **default** datatype when registering parameters.\n",
    "\n",
    "### Numeric example 1\n",
    "\n",
    "In this example, all parameters get registered as `numeric` type. This entails that the array in unraveled and inserted point-by-point."
   ]
  },
  {
   "cell_type": "code",
   "execution_count": 6,
   "metadata": {
    "execution": {
     "iopub.execute_input": "2021-01-11T11:51:32.983482Z",
     "iopub.status.busy": "2021-01-11T11:51:32.982869Z",
     "iopub.status.idle": "2021-01-11T11:51:33.007746Z",
     "shell.execute_reply": "2021-01-11T11:51:33.007168Z"
    }
   },
   "outputs": [
    {
     "name": "stdout",
     "output_type": "stream",
     "text": [
      "Starting experimental run with id: 1. \n",
      "Finished run in 0.022 s\n"
     ]
    }
   ],
   "source": [
    "meas = Measurement(exp=exp)\n",
    "meas.register_parameter(dac.ch1)\n",
    "meas.register_parameter(SA.spectrum, setpoints=(dac.ch1,))\n",
    "\n",
    "t0 = time.perf_counter()\n",
    "\n",
    "with meas.run() as datasaver:\n",
    "    for dac_v in np.linspace(0, 2, 5):\n",
    "        dac.ch1(dac_v)\n",
    "        datasaver.add_result((dac.ch1, dac_v), (SA.spectrum, SA.spectrum()))\n",
    "\n",
    "t1 = time.perf_counter()\n",
    "\n",
    "print(f'Finished run in {(t1-t0):.3f} s')\n",
    "        \n",
    "run_id1 = datasaver.run_id"
   ]
  },
  {
   "cell_type": "markdown",
   "metadata": {},
   "source": [
    "The data may be retrieved using the `get_data_by_id` function. This function will always bring back the data **as if** it had been stored in a point-by-point format. That is to say, all parameters come out as array of the same length, with setpoints values appropriately repeated."
   ]
  },
  {
   "cell_type": "code",
   "execution_count": 7,
   "metadata": {
    "execution": {
     "iopub.execute_input": "2021-01-11T11:51:33.011539Z",
     "iopub.status.busy": "2021-01-11T11:51:33.011018Z",
     "iopub.status.idle": "2021-01-11T11:51:33.027818Z",
     "shell.execute_reply": "2021-01-11T11:51:33.028386Z"
    }
   },
   "outputs": [
    {
     "data": {
      "text/plain": [
       "[[{'name': 'dac_ch1',\n",
       "   'data': array([0. , 0. , 0. , 0. , 0. , 0. , 0. , 0.5, 0.5, 0.5, 0.5, 0.5, 0.5,\n",
       "          0.5, 1. , 1. , 1. , 1. , 1. , 1. , 1. , 1.5, 1.5, 1.5, 1.5, 1.5,\n",
       "          1.5, 1.5, 2. , 2. , 2. , 2. , 2. , 2. , 2. ]),\n",
       "   'unit': 'V',\n",
       "   'label': 'Gate ch1'},\n",
       "  {'name': 'SA_Frequency',\n",
       "   'data': array([0.        , 0.16666667, 0.33333333, 0.5       , 0.66666667,\n",
       "          0.83333333, 1.        , 0.        , 0.16666667, 0.33333333,\n",
       "          0.5       , 0.66666667, 0.83333333, 1.        , 0.        ,\n",
       "          0.16666667, 0.33333333, 0.5       , 0.66666667, 0.83333333,\n",
       "          1.        , 0.        , 0.16666667, 0.33333333, 0.5       ,\n",
       "          0.66666667, 0.83333333, 1.        , 0.        , 0.16666667,\n",
       "          0.33333333, 0.5       , 0.66666667, 0.83333333, 1.        ]),\n",
       "   'unit': 'Hz',\n",
       "   'label': ''},\n",
       "  {'name': 'SA_spectrum',\n",
       "   'data': array([-0.68710157, -0.72954798, -0.35394573,  0.11654983,  1.82182703,\n",
       "           0.80602278,  0.99436009,  0.97817595,  0.84285484, -2.32428076,\n",
       "           0.36385152, -1.89656778,  0.55150795,  0.81510779, -1.33652683,\n",
       "           0.98698306,  0.46059173, -1.4446472 ,  0.62022147, -0.35353637,\n",
       "           1.40555531,  0.75781196, -0.90306044,  1.56322325, -0.89163972,\n",
       "           0.94003471,  0.80485736,  2.10591115, -0.11338756,  0.03183112,\n",
       "           0.37538724,  0.98257447, -0.52279613, -0.12602554,  1.17315858]),\n",
       "   'unit': 'V/sqrt(Hz)',\n",
       "   'label': 'Noisy spectrum'}]]"
      ]
     },
     "execution_count": 1,
     "metadata": {},
     "output_type": "execute_result"
    }
   ],
   "source": [
    "get_data_by_id(run_id1)"
   ]
  },
  {
   "cell_type": "markdown",
   "metadata": {},
   "source": [
    "## Array\n",
    "\n",
    "The `array` paramtype stores data as binary blobs in the database. Insertion is faster (asymptotically **much** faster) this way, but the data are \"dead\" to SQL queries inside the database. Be informed that a BLOB in sqlite has a default max length limit set at 1 billion (1,000,000,000) bytes (for more information, refer to [Sqlite](https://sqlite.org/limits.html) docs)."
   ]
  },
  {
   "cell_type": "markdown",
   "metadata": {},
   "source": [
    "### Array example 1\n",
    "\n",
    "Let us repeat the above measurement, but this time using `array` paramtypes."
   ]
  },
  {
   "cell_type": "code",
   "execution_count": 8,
   "metadata": {
    "execution": {
     "iopub.execute_input": "2021-01-11T11:51:33.035471Z",
     "iopub.status.busy": "2021-01-11T11:51:33.034743Z",
     "iopub.status.idle": "2021-01-11T11:51:33.065155Z",
     "shell.execute_reply": "2021-01-11T11:51:33.065610Z"
    }
   },
   "outputs": [
    {
     "name": "stdout",
     "output_type": "stream",
     "text": [
      "Starting experimental run with id: 2. \n"
     ]
    },
    {
     "name": "stdout",
     "output_type": "stream",
     "text": [
      "Finished run in 0.020 s\n"
     ]
    }
   ],
   "source": [
    "meas = Measurement(exp=exp)\n",
    "meas.register_parameter(dac.ch1)\n",
    "meas.register_parameter(SA.spectrum, setpoints=(dac.ch1,), paramtype='array')\n",
    "\n",
    "t0 = time.perf_counter()\n",
    "\n",
    "with meas.run() as datasaver:\n",
    "    for dac_v in np.linspace(0, 2, 5):\n",
    "        dac.ch1(dac_v)\n",
    "        datasaver.add_result((dac.ch1, dac_v), (SA.spectrum, SA.spectrum()))\n",
    "\n",
    "t1 = time.perf_counter()\n",
    "\n",
    "print(f'Finished run in {(t1-t0):.3f} s')\n",
    "        \n",
    "run_id2 = datasaver.run_id"
   ]
  },
  {
   "cell_type": "markdown",
   "metadata": {},
   "source": [
    "Reading back out the data, we can **not** see whether they were stored as `numeric` or `array` type."
   ]
  },
  {
   "cell_type": "code",
   "execution_count": 9,
   "metadata": {
    "execution": {
     "iopub.execute_input": "2021-01-11T11:51:33.069820Z",
     "iopub.status.busy": "2021-01-11T11:51:33.069170Z",
     "iopub.status.idle": "2021-01-11T11:51:33.080874Z",
     "shell.execute_reply": "2021-01-11T11:51:33.080392Z"
    }
   },
   "outputs": [
    {
     "data": {
      "text/plain": [
       "[[{'name': 'dac_ch1',\n",
       "   'data': array([0. , 0. , 0. , 0. , 0. , 0. , 0. , 0.5, 0.5, 0.5, 0.5, 0.5, 0.5,\n",
       "          0.5, 1. , 1. , 1. , 1. , 1. , 1. , 1. , 1.5, 1.5, 1.5, 1.5, 1.5,\n",
       "          1.5, 1.5, 2. , 2. , 2. , 2. , 2. , 2. , 2. ]),\n",
       "   'unit': 'V',\n",
       "   'label': 'Gate ch1'},\n",
       "  {'name': 'SA_Frequency',\n",
       "   'data': array([0.        , 0.16666667, 0.33333333, 0.5       , 0.66666667,\n",
       "          0.83333333, 1.        , 0.        , 0.16666667, 0.33333333,\n",
       "          0.5       , 0.66666667, 0.83333333, 1.        , 0.        ,\n",
       "          0.16666667, 0.33333333, 0.5       , 0.66666667, 0.83333333,\n",
       "          1.        , 0.        , 0.16666667, 0.33333333, 0.5       ,\n",
       "          0.66666667, 0.83333333, 1.        , 0.        , 0.16666667,\n",
       "          0.33333333, 0.5       , 0.66666667, 0.83333333, 1.        ]),\n",
       "   'unit': 'Hz',\n",
       "   'label': ''},\n",
       "  {'name': 'SA_spectrum',\n",
       "   'data': array([ 0.31627369, -1.42832279,  0.27836755, -0.27539319, -0.21394545,\n",
       "           0.07439809, -1.05198192,  0.03812162, -1.60143777, -1.85795144,\n",
       "           0.01409728, -0.29143834, -0.28343655, -1.51057441, -1.81543746,\n",
       "           0.94411479,  0.41386071,  1.30197566,  1.41583408,  0.16564953,\n",
       "          -0.177871  ,  1.15118575,  0.20477218,  0.57963963,  0.69806638,\n",
       "          -0.09715042,  0.0322708 ,  0.30258556,  0.32096956, -0.83343245,\n",
       "           0.29388736,  0.63690486, -0.16093897,  0.04126249,  0.66064265]),\n",
       "   'unit': 'V/sqrt(Hz)',\n",
       "   'label': 'Noisy spectrum'}]]"
      ]
     },
     "execution_count": 1,
     "metadata": {},
     "output_type": "execute_result"
    }
   ],
   "source": [
    "get_data_by_id(run_id2)"
   ]
  },
  {
   "cell_type": "markdown",
   "metadata": {},
   "source": [
    "### Array example 2\n",
    "\n",
    "When storing multidimensional `array` data (think: Alazar cards), both `numeric` and `array` types can be used."
   ]
  },
  {
   "cell_type": "code",
   "execution_count": 10,
   "metadata": {
    "execution": {
     "iopub.execute_input": "2021-01-11T11:51:33.086602Z",
     "iopub.status.busy": "2021-01-11T11:51:33.085977Z",
     "iopub.status.idle": "2021-01-11T11:51:33.113016Z",
     "shell.execute_reply": "2021-01-11T11:51:33.113665Z"
    }
   },
   "outputs": [
    {
     "name": "stdout",
     "output_type": "stream",
     "text": [
      "Starting experimental run with id: 3. \n"
     ]
    }
   ],
   "source": [
    "meas = Measurement(exp=exp)\n",
    "meas.register_parameter(SA.spectrum3D, paramtype='array')\n",
    "\n",
    "with meas.run() as datasaver:\n",
    "    datasaver.add_result((SA.spectrum3D, SA.spectrum3D()))\n",
    "run_id3 = datasaver.run_id"
   ]
  },
  {
   "cell_type": "markdown",
   "metadata": {},
   "source": [
    "The data come out the way we expect them to."
   ]
  },
  {
   "cell_type": "code",
   "execution_count": 11,
   "metadata": {
    "execution": {
     "iopub.execute_input": "2021-01-11T11:51:33.117424Z",
     "iopub.status.busy": "2021-01-11T11:51:33.116867Z",
     "iopub.status.idle": "2021-01-11T11:51:33.126162Z",
     "shell.execute_reply": "2021-01-11T11:51:33.125693Z"
    }
   },
   "outputs": [
    {
     "data": {
      "text/plain": [
       "[[{'name': 'SA_Frequency0',\n",
       "   'data': array([0., 0., 0., 0., 0., 0., 0., 0., 0., 0., 0., 0., 0., 0., 0., 1., 1.,\n",
       "          1., 1., 1., 1., 1., 1., 1., 1., 1., 1., 1., 1., 1.]),\n",
       "   'unit': 'Hz',\n",
       "   'label': ''},\n",
       "  {'name': 'SA_Frequency1',\n",
       "   'data': array([0.  , 0.  , 0.  , 0.25, 0.25, 0.25, 0.5 , 0.5 , 0.5 , 0.75, 0.75,\n",
       "          0.75, 1.  , 1.  , 1.  , 0.  , 0.  , 0.  , 0.25, 0.25, 0.25, 0.5 ,\n",
       "          0.5 , 0.5 , 0.75, 0.75, 0.75, 1.  , 1.  , 1.  ]),\n",
       "   'unit': 'Other Hz',\n",
       "   'label': ''},\n",
       "  {'name': 'SA_Frequency2',\n",
       "   'data': array([0. , 0.5, 1. , 0. , 0.5, 1. , 0. , 0.5, 1. , 0. , 0.5, 1. , 0. ,\n",
       "          0.5, 1. , 0. , 0.5, 1. , 0. , 0.5, 1. , 0. , 0.5, 1. , 0. , 0.5,\n",
       "          1. , 0. , 0.5, 1. ]),\n",
       "   'unit': 'Third Hz',\n",
       "   'label': ''},\n",
       "  {'name': 'SA_spectrum3D',\n",
       "   'data': array([ 0,  1,  2,  3,  4,  5,  6,  7,  8,  9, 10, 11, 12, 13, 14, 15, 16,\n",
       "          17, 18, 19, 20, 21, 22, 23, 24, 25, 26, 27, 28, 29]),\n",
       "   'unit': 'V/sqrt(Hz)',\n",
       "   'label': 'Flower Power Spectrum in 3D'}]]"
      ]
     },
     "execution_count": 1,
     "metadata": {},
     "output_type": "execute_result"
    }
   ],
   "source": [
    "get_data_by_id(run_id3)"
   ]
  },
  {
   "cell_type": "markdown",
   "metadata": {},
   "source": [
    "### Array example 3\n",
    "\n",
    "For completeness, here, we provide an example where the multidimensional array has an auxiliary setpoint."
   ]
  },
  {
   "cell_type": "code",
   "execution_count": 12,
   "metadata": {
    "execution": {
     "iopub.execute_input": "2021-01-11T11:51:33.132027Z",
     "iopub.status.busy": "2021-01-11T11:51:33.131257Z",
     "iopub.status.idle": "2021-01-11T11:51:33.173614Z",
     "shell.execute_reply": "2021-01-11T11:51:33.173131Z"
    }
   },
   "outputs": [
    {
     "name": "stdout",
     "output_type": "stream",
     "text": [
      "Starting experimental run with id: 4. \n"
     ]
    }
   ],
   "source": [
    "meas = Measurement(exp=exp)\n",
    "meas.register_parameter(dac.ch1)\n",
    "meas.register_parameter(SA.spectrum3D, paramtype='array', setpoints=(dac.ch1,))\n",
    "\n",
    "with meas.run() as datasaver:\n",
    "    for dac_v in [3, 4, 5]:\n",
    "        dac.ch1(dac_v)\n",
    "        datasaver.add_result((dac.ch1, dac_v),\n",
    "                             (SA.spectrum3D, SA.spectrum3D()))\n",
    "run_id4 = datasaver.run_id"
   ]
  },
  {
   "cell_type": "code",
   "execution_count": 13,
   "metadata": {
    "execution": {
     "iopub.execute_input": "2021-01-11T11:51:33.177361Z",
     "iopub.status.busy": "2021-01-11T11:51:33.176820Z",
     "iopub.status.idle": "2021-01-11T11:51:33.192255Z",
     "shell.execute_reply": "2021-01-11T11:51:33.191762Z"
    }
   },
   "outputs": [
    {
     "data": {
      "text/plain": [
       "[[{'name': 'dac_ch1',\n",
       "   'data': array([3., 3., 3., 3., 3., 3., 3., 3., 3., 3., 3., 3., 3., 3., 3., 3., 3.,\n",
       "          3., 3., 3., 3., 3., 3., 3., 3., 3., 3., 3., 3., 3., 4., 4., 4., 4.,\n",
       "          4., 4., 4., 4., 4., 4., 4., 4., 4., 4., 4., 4., 4., 4., 4., 4., 4.,\n",
       "          4., 4., 4., 4., 4., 4., 4., 4., 4., 5., 5., 5., 5., 5., 5., 5., 5.,\n",
       "          5., 5., 5., 5., 5., 5., 5., 5., 5., 5., 5., 5., 5., 5., 5., 5., 5.,\n",
       "          5., 5., 5., 5., 5.]),\n",
       "   'unit': 'V',\n",
       "   'label': 'Gate ch1'},\n",
       "  {'name': 'SA_Frequency0',\n",
       "   'data': array([0., 0., 0., 0., 0., 0., 0., 0., 0., 0., 0., 0., 0., 0., 0., 1., 1.,\n",
       "          1., 1., 1., 1., 1., 1., 1., 1., 1., 1., 1., 1., 1., 0., 0., 0., 0.,\n",
       "          0., 0., 0., 0., 0., 0., 0., 0., 0., 0., 0., 1., 1., 1., 1., 1., 1.,\n",
       "          1., 1., 1., 1., 1., 1., 1., 1., 1., 0., 0., 0., 0., 0., 0., 0., 0.,\n",
       "          0., 0., 0., 0., 0., 0., 0., 1., 1., 1., 1., 1., 1., 1., 1., 1., 1.,\n",
       "          1., 1., 1., 1., 1.]),\n",
       "   'unit': 'Hz',\n",
       "   'label': ''},\n",
       "  {'name': 'SA_Frequency1',\n",
       "   'data': array([0.  , 0.  , 0.  , 0.25, 0.25, 0.25, 0.5 , 0.5 , 0.5 , 0.75, 0.75,\n",
       "          0.75, 1.  , 1.  , 1.  , 0.  , 0.  , 0.  , 0.25, 0.25, 0.25, 0.5 ,\n",
       "          0.5 , 0.5 , 0.75, 0.75, 0.75, 1.  , 1.  , 1.  , 0.  , 0.  , 0.  ,\n",
       "          0.25, 0.25, 0.25, 0.5 , 0.5 , 0.5 , 0.75, 0.75, 0.75, 1.  , 1.  ,\n",
       "          1.  , 0.  , 0.  , 0.  , 0.25, 0.25, 0.25, 0.5 , 0.5 , 0.5 , 0.75,\n",
       "          0.75, 0.75, 1.  , 1.  , 1.  , 0.  , 0.  , 0.  , 0.25, 0.25, 0.25,\n",
       "          0.5 , 0.5 , 0.5 , 0.75, 0.75, 0.75, 1.  , 1.  , 1.  , 0.  , 0.  ,\n",
       "          0.  , 0.25, 0.25, 0.25, 0.5 , 0.5 , 0.5 , 0.75, 0.75, 0.75, 1.  ,\n",
       "          1.  , 1.  ]),\n",
       "   'unit': 'Other Hz',\n",
       "   'label': ''},\n",
       "  {'name': 'SA_Frequency2',\n",
       "   'data': array([0. , 0.5, 1. , 0. , 0.5, 1. , 0. , 0.5, 1. , 0. , 0.5, 1. , 0. ,\n",
       "          0.5, 1. , 0. , 0.5, 1. , 0. , 0.5, 1. , 0. , 0.5, 1. , 0. , 0.5,\n",
       "          1. , 0. , 0.5, 1. , 0. , 0.5, 1. , 0. , 0.5, 1. , 0. , 0.5, 1. ,\n",
       "          0. , 0.5, 1. , 0. , 0.5, 1. , 0. , 0.5, 1. , 0. , 0.5, 1. , 0. ,\n",
       "          0.5, 1. , 0. , 0.5, 1. , 0. , 0.5, 1. , 0. , 0.5, 1. , 0. , 0.5,\n",
       "          1. , 0. , 0.5, 1. , 0. , 0.5, 1. , 0. , 0.5, 1. , 0. , 0.5, 1. ,\n",
       "          0. , 0.5, 1. , 0. , 0.5, 1. , 0. , 0.5, 1. , 0. , 0.5, 1. ]),\n",
       "   'unit': 'Third Hz',\n",
       "   'label': ''},\n",
       "  {'name': 'SA_spectrum3D',\n",
       "   'data': array([ 0,  1,  2,  3,  4,  5,  6,  7,  8,  9, 10, 11, 12, 13, 14, 15, 16,\n",
       "          17, 18, 19, 20, 21, 22, 23, 24, 25, 26, 27, 28, 29,  0,  1,  2,  3,\n",
       "           4,  5,  6,  7,  8,  9, 10, 11, 12, 13, 14, 15, 16, 17, 18, 19, 20,\n",
       "          21, 22, 23, 24, 25, 26, 27, 28, 29,  0,  1,  2,  3,  4,  5,  6,  7,\n",
       "           8,  9, 10, 11, 12, 13, 14, 15, 16, 17, 18, 19, 20, 21, 22, 23, 24,\n",
       "          25, 26, 27, 28, 29]),\n",
       "   'unit': 'V/sqrt(Hz)',\n",
       "   'label': 'Flower Power Spectrum in 3D'}]]"
      ]
     },
     "execution_count": 1,
     "metadata": {},
     "output_type": "execute_result"
    }
   ],
   "source": [
    "get_data_by_id(run_id4)"
   ]
  },
  {
   "cell_type": "markdown",
   "metadata": {},
   "source": [
    "## Text\n",
    "\n",
    "Text is strings. Sometimes it may be useful to capture categorial data that is represented as string values, or a log message, or else.\n",
    "\n",
    "Note that the `paramtype` setting is important. The datasaver will not allow to save `numeric` data for a parameter that was registered as `text`. The opposite it also true: the datasaver will not allow to save strings for a parameter what was registered as non-`text` (`numeric` or `array`)."
   ]
  },
  {
   "cell_type": "code",
   "execution_count": 14,
   "metadata": {
    "execution": {
     "iopub.execute_input": "2021-01-11T11:51:33.198502Z",
     "iopub.status.busy": "2021-01-11T11:51:33.197969Z",
     "iopub.status.idle": "2021-01-11T11:51:33.229303Z",
     "shell.execute_reply": "2021-01-11T11:51:33.228382Z"
    }
   },
   "outputs": [
    {
     "name": "stdout",
     "output_type": "stream",
     "text": [
      "Starting experimental run with id: 5. \n"
     ]
    }
   ],
   "source": [
    "meas = Measurement(exp=exp)\n",
    "meas.register_parameter(dac.ch1)\n",
    "meas.register_parameter(dac.control, setpoints=(dac.ch1,), paramtype='text')\n",
    "\n",
    "with meas.run() as datasaver:\n",
    "    for dac_v in np.linspace(4, 6, 10):\n",
    "        dac.ch1(dac_v)\n",
    "        datasaver.add_result((dac.ch1, dac_v),\n",
    "                             (dac.control, dac.control()))\n",
    "run_id5 = datasaver.run_id"
   ]
  },
  {
   "cell_type": "code",
   "execution_count": 15,
   "metadata": {
    "execution": {
     "iopub.execute_input": "2021-01-11T11:51:33.233258Z",
     "iopub.status.busy": "2021-01-11T11:51:33.232606Z",
     "iopub.status.idle": "2021-01-11T11:51:33.240083Z",
     "shell.execute_reply": "2021-01-11T11:51:33.240521Z"
    }
   },
   "outputs": [
    {
     "data": {
      "text/plain": [
       "[[{'name': 'dac_ch1',\n",
       "   'data': array([4.        , 4.22222222, 4.44444444, 4.66666667, 4.88888889,\n",
       "          5.11111111, 5.33333333, 5.55555556, 5.77777778, 6.        ]),\n",
       "   'unit': 'V',\n",
       "   'label': 'Gate ch1'},\n",
       "  {'name': 'dac_control',\n",
       "   'data': array(['OK', 'OK', 'OK', 'OK', 'OK', 'Too high', 'Too high', 'Too high',\n",
       "          'Too high', 'Too high'], dtype='<U8'),\n",
       "   'unit': '',\n",
       "   'label': 'control'}]]"
      ]
     },
     "execution_count": 1,
     "metadata": {},
     "output_type": "execute_result"
    }
   ],
   "source": [
    "get_data_by_id(run_id5)"
   ]
  },
  {
   "cell_type": "code",
   "execution_count": null,
   "metadata": {},
   "outputs": [],
   "source": []
  }
 ],
 "metadata": {
  "kernelspec": {
   "display_name": "Python 3",
   "language": "python",
   "name": "python3"
  },
  "language_info": {
   "codemirror_mode": {
    "name": "ipython",
    "version": 3
   },
   "file_extension": ".py",
   "mimetype": "text/x-python",
   "name": "python",
   "nbconvert_exporter": "python",
   "pygments_lexer": "ipython3",
   "version": "3.7.9"
  }
 },
 "nbformat": 4,
 "nbformat_minor": 2
}
