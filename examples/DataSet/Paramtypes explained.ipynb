{
 "cells": [
  {
   "cell_type": "markdown",
   "metadata": {},
   "source": [
    "# Paramtypes explained\n",
    "\n",
    "Internally in the SQLite database on disk, data are registered as being of one of (currently) four allowed types:\n",
    "\n",
    "- `numeric`\n",
    "- `array`\n",
    "- `text`\n",
    "- `complex`\n",
    "\n",
    "This notebook seeks to exemplify when each type should be used, and how differently the `Measurement` object treats data of each type.\n",
    "\n",
    "We start with necessary imports, and then initialising our database and creating an experiment."
   ]
  },
  {
   "cell_type": "code",
   "execution_count": 1,
   "metadata": {
    "execution": {
     "iopub.execute_input": "2021-04-19T07:20:17.129673Z",
     "iopub.status.busy": "2021-04-19T07:20:17.129199Z",
     "iopub.status.idle": "2021-04-19T07:20:18.014940Z",
     "shell.execute_reply": "2021-04-19T07:20:18.013415Z"
    }
   },
   "outputs": [
    {
     "name": "stdout",
     "output_type": "stream",
     "text": [
      "Logging hadn't been started.\n",
      "Activating auto-logging. Current session state plus future input saved.\n",
      "Filename       : /home/runner/.qcodes/logs/command_history.log\n",
      "Mode           : append\n",
      "Output logging : True\n",
      "Raw input log  : False\n",
      "Timestamping   : True\n",
      "State          : active\n"
     ]
    },
    {
     "name": "stdout",
     "output_type": "stream",
     "text": [
      "Qcodes Logfile : /home/runner/.qcodes/logs/210419-5421-qcodes.log\n"
     ]
    }
   ],
   "source": [
    "import os\n",
    "import time\n",
    "\n",
    "import numpy as np\n",
    "\n",
    "from qcodes import initialise_or_create_database_at, \\\n",
    "    load_or_create_experiment, Measurement, load_by_id\n",
    "from qcodes.instrument.parameter import ArrayParameter, Parameter\n",
    "from qcodes.tests.instrument_mocks import DummyInstrument"
   ]
  },
  {
   "cell_type": "code",
   "execution_count": 2,
   "metadata": {
    "execution": {
     "iopub.execute_input": "2021-04-19T07:20:18.020435Z",
     "iopub.status.busy": "2021-04-19T07:20:18.019630Z",
     "iopub.status.idle": "2021-04-19T07:20:18.082910Z",
     "shell.execute_reply": "2021-04-19T07:20:18.083307Z"
    }
   },
   "outputs": [
    {
     "name": "stdout",
     "output_type": "stream",
     "text": [
      "\r",
      "0it [00:00, ?it/s]"
     ]
    },
    {
     "name": "stdout",
     "output_type": "stream",
     "text": [
      "\r",
      "Upgrading database; v0 -> v1: : 0it [00:00, ?it/s]"
     ]
    },
    {
     "name": "stdout",
     "output_type": "stream",
     "text": [
      "\r",
      "Upgrading database; v0 -> v1: : 0it [00:00, ?it/s]"
     ]
    },
    {
     "name": "stdout",
     "output_type": "stream",
     "text": [
      "\n",
      "\r",
      "  0%|          | 0/1 [00:00<?, ?it/s]"
     ]
    },
    {
     "name": "stdout",
     "output_type": "stream",
     "text": [
      "\r",
      "Upgrading database; v1 -> v2:   0%|          | 0/1 [00:00<?, ?it/s]"
     ]
    },
    {
     "name": "stdout",
     "output_type": "stream",
     "text": [
      "\r",
      "Upgrading database; v1 -> v2: 100%|██████████| 1/1 [00:00<00:00, 591.66it/s]"
     ]
    },
    {
     "name": "stdout",
     "output_type": "stream",
     "text": [
      "\n",
      "\r",
      "0it [00:00, ?it/s]"
     ]
    },
    {
     "name": "stdout",
     "output_type": "stream",
     "text": [
      "\r",
      "Upgrading database; v2 -> v3: : 0it [00:00, ?it/s]"
     ]
    },
    {
     "name": "stdout",
     "output_type": "stream",
     "text": [
      "\r",
      "Upgrading database; v2 -> v3: : 0it [00:00, ?it/s]"
     ]
    },
    {
     "name": "stdout",
     "output_type": "stream",
     "text": [
      "\n",
      "\r",
      "0it [00:00, ?it/s]"
     ]
    },
    {
     "name": "stdout",
     "output_type": "stream",
     "text": [
      "\r",
      "Upgrading database; v3 -> v4: : 0it [00:00, ?it/s]"
     ]
    },
    {
     "name": "stdout",
     "output_type": "stream",
     "text": [
      "\r",
      "Upgrading database; v3 -> v4: : 0it [00:00, ?it/s]"
     ]
    },
    {
     "name": "stdout",
     "output_type": "stream",
     "text": [
      "\n",
      "\r",
      "  0%|          | 0/1 [00:00<?, ?it/s]"
     ]
    },
    {
     "name": "stdout",
     "output_type": "stream",
     "text": [
      "\r",
      "Upgrading database; v4 -> v5:   0%|          | 0/1 [00:00<?, ?it/s]"
     ]
    },
    {
     "name": "stdout",
     "output_type": "stream",
     "text": [
      "\r",
      "Upgrading database; v4 -> v5: 100%|██████████| 1/1 [00:00<00:00, 967.77it/s]"
     ]
    },
    {
     "name": "stdout",
     "output_type": "stream",
     "text": [
      "\n",
      "\r",
      "0it [00:00, ?it/s]"
     ]
    },
    {
     "name": "stdout",
     "output_type": "stream",
     "text": [
      "\r",
      "Upgrading database; v5 -> v6: : 0it [00:00, ?it/s]"
     ]
    },
    {
     "name": "stdout",
     "output_type": "stream",
     "text": [
      "\r",
      "Upgrading database; v5 -> v6: : 0it [00:00, ?it/s]"
     ]
    },
    {
     "name": "stdout",
     "output_type": "stream",
     "text": [
      "\n",
      "\r",
      "  0%|          | 0/1 [00:00<?, ?it/s]"
     ]
    },
    {
     "name": "stdout",
     "output_type": "stream",
     "text": [
      "\r",
      "Upgrading database; v6 -> v7:   0%|          | 0/1 [00:00<?, ?it/s]"
     ]
    },
    {
     "name": "stdout",
     "output_type": "stream",
     "text": [
      "\r",
      "Upgrading database; v6 -> v7: 100%|██████████| 1/1 [00:00<00:00, 550.07it/s]"
     ]
    },
    {
     "name": "stdout",
     "output_type": "stream",
     "text": [
      "\n",
      "\r",
      "  0%|          | 0/1 [00:00<?, ?it/s]"
     ]
    },
    {
     "name": "stdout",
     "output_type": "stream",
     "text": [
      "\r",
      "Upgrading database; v7 -> v8:   0%|          | 0/1 [00:00<?, ?it/s]"
     ]
    },
    {
     "name": "stdout",
     "output_type": "stream",
     "text": [
      "\r",
      "Upgrading database; v7 -> v8: 100%|██████████| 1/1 [00:00<00:00, 769.46it/s]"
     ]
    },
    {
     "name": "stdout",
     "output_type": "stream",
     "text": [
      "\n",
      "\r",
      "  0%|          | 0/1 [00:00<?, ?it/s]"
     ]
    },
    {
     "name": "stdout",
     "output_type": "stream",
     "text": [
      "\r",
      "Upgrading database; v8 -> v9:   0%|          | 0/1 [00:00<?, ?it/s]"
     ]
    },
    {
     "name": "stdout",
     "output_type": "stream",
     "text": [
      "\r",
      "Upgrading database; v8 -> v9: 100%|██████████| 1/1 [00:00<00:00, 803.66it/s]"
     ]
    },
    {
     "name": "stdout",
     "output_type": "stream",
     "text": [
      "\n"
     ]
    }
   ],
   "source": [
    "initialise_or_create_database_at(os.path.join(os.getcwd(), 'paramtypes_explained.db'))\n",
    "exp = load_or_create_experiment('paramtypes', sample_name='not_available')"
   ]
  },
  {
   "cell_type": "markdown",
   "metadata": {},
   "source": [
    "Let us, now, create two dummy instruments to be used in our experiment."
   ]
  },
  {
   "cell_type": "code",
   "execution_count": 3,
   "metadata": {
    "execution": {
     "iopub.execute_input": "2021-04-19T07:20:18.088063Z",
     "iopub.status.busy": "2021-04-19T07:20:18.087528Z",
     "iopub.status.idle": "2021-04-19T07:20:18.089490Z",
     "shell.execute_reply": "2021-04-19T07:20:18.089073Z"
    }
   },
   "outputs": [],
   "source": [
    "dac = DummyInstrument('dac', gates=['ch1', 'ch2'])\n",
    "SA = DummyInstrument('SA')"
   ]
  },
  {
   "cell_type": "code",
   "execution_count": 4,
   "metadata": {
    "execution": {
     "iopub.execute_input": "2021-04-19T07:20:18.100814Z",
     "iopub.status.busy": "2021-04-19T07:20:18.099517Z",
     "iopub.status.idle": "2021-04-19T07:20:18.101443Z",
     "shell.execute_reply": "2021-04-19T07:20:18.101826Z"
    }
   },
   "outputs": [],
   "source": [
    "# some array-like data types\n",
    "\n",
    "class Spectrum(ArrayParameter):\n",
    "    \n",
    "    def __init__(self, name, instrument):\n",
    "        \n",
    "        self.N = 7\n",
    "        setpoints = (np.linspace(0, 1, self.N),)\n",
    "    \n",
    "        super().__init__(name=name,\n",
    "                         instrument=instrument,\n",
    "                         setpoints=setpoints,\n",
    "                         shape=(20,),\n",
    "                         label='Noisy spectrum',\n",
    "                         unit='V/sqrt(Hz)',\n",
    "                         setpoint_names=('Frequency',),\n",
    "                         setpoint_units=('Hz',))\n",
    "        \n",
    "    def get_raw(self):\n",
    "        return np.random.randn(self.N)\n",
    "    \n",
    "\n",
    "class MultiDimSpectrum(ArrayParameter):\n",
    "    \n",
    "    def __init__(self, name, instrument):\n",
    "        self.start = 0\n",
    "        self.stop = 1\n",
    "        self.npts = (2, 5, 3)\n",
    "        sp1 = np.linspace(self.start, self.stop,\n",
    "                          self.npts[0])\n",
    "        sp2 = np.linspace(self.start, self.stop,\n",
    "                          self.npts[1])\n",
    "        sp3 = np.linspace(self.start, self.stop,\n",
    "                          self.npts[2])\n",
    "        setpoints = (sp1,\n",
    "                     np.tile(sp2, (len(sp1), 1)),\n",
    "                     np.tile(sp3, (len(sp1), len(sp2), 1)))\n",
    "        super().__init__(name=name,\n",
    "                         instrument=instrument,\n",
    "                         setpoints=setpoints,\n",
    "                         shape=(100, 50, 20),\n",
    "                         label='Flower Power Spectrum in 3D',\n",
    "                         unit='V/sqrt(Hz)',\n",
    "                         setpoint_names=('Frequency0', 'Frequency1',\n",
    "                                         'Frequency2'),\n",
    "                             setpoint_units=('Hz', 'Other Hz', \"Third Hz\"))\n",
    "    def get_raw(self):\n",
    "        a = self.npts[0]\n",
    "        b = self.npts[1]\n",
    "        c = self.npts[2]\n",
    "        return np.reshape(np.arange(a*b*c), (a, b, c))\n",
    "    \n",
    "# a string-valued parameter\n",
    "def dac1_too_high():\n",
    "    return 'Too high' if dac.ch1() > 5 else 'OK'"
   ]
  },
  {
   "cell_type": "markdown",
   "metadata": {},
   "source": [
    "Finally, we add our parameters to the dummy instruments:"
   ]
  },
  {
   "cell_type": "code",
   "execution_count": 5,
   "metadata": {
    "execution": {
     "iopub.execute_input": "2021-04-19T07:20:18.107479Z",
     "iopub.status.busy": "2021-04-19T07:20:18.106261Z",
     "iopub.status.idle": "2021-04-19T07:20:18.108106Z",
     "shell.execute_reply": "2021-04-19T07:20:18.108549Z"
    }
   },
   "outputs": [],
   "source": [
    "dac.add_parameter('control', get_cmd=dac1_too_high)\n",
    "SA.add_parameter('spectrum', parameter_class=Spectrum)\n",
    "SA.add_parameter('spectrum3D', parameter_class=MultiDimSpectrum)"
   ]
  },
  {
   "cell_type": "markdown",
   "metadata": {},
   "source": [
    "## Numeric"
   ]
  },
  {
   "cell_type": "markdown",
   "metadata": {},
   "source": [
    "The `numeric` datatype is simply a number. Data registered with this type are saved as individual numbers. This is the **default** datatype when registering parameters.\n",
    "\n",
    "### Numeric example 1\n",
    "\n",
    "In this example, all parameters get registered as `numeric` type. This entails that the array in unraveled and inserted point-by-point."
   ]
  },
  {
   "cell_type": "code",
   "execution_count": 6,
   "metadata": {
    "execution": {
     "iopub.execute_input": "2021-04-19T07:20:18.114368Z",
     "iopub.status.busy": "2021-04-19T07:20:18.113225Z",
     "iopub.status.idle": "2021-04-19T07:20:18.130216Z",
     "shell.execute_reply": "2021-04-19T07:20:18.129822Z"
    }
   },
   "outputs": [
    {
     "name": "stdout",
     "output_type": "stream",
     "text": [
      "Starting experimental run with id: 1. \n",
      "Finished run in 0.014 s\n"
     ]
    }
   ],
   "source": [
    "meas = Measurement(exp=exp)\n",
    "meas.register_parameter(dac.ch1)\n",
    "meas.register_parameter(SA.spectrum, setpoints=(dac.ch1,))\n",
    "\n",
    "t0 = time.perf_counter()\n",
    "\n",
    "with meas.run() as datasaver:\n",
    "    for dac_v in np.linspace(0, 2, 5):\n",
    "        dac.ch1(dac_v)\n",
    "        datasaver.add_result((dac.ch1, dac_v), (SA.spectrum, SA.spectrum()))\n",
    "\n",
    "t1 = time.perf_counter()\n",
    "\n",
    "print(f'Finished run in {(t1-t0):.3f} s')\n",
    "        \n",
    "dataset1 = datasaver.dataset"
   ]
  },
  {
   "cell_type": "markdown",
   "metadata": {},
   "source": [
    "The data may be retrieved using the `get_parameter_data` method. This function will bring back the data in a way that reflects the datastructure as it is stored."
   ]
  },
  {
   "cell_type": "code",
   "execution_count": 7,
   "metadata": {
    "execution": {
     "iopub.execute_input": "2021-04-19T07:20:18.133750Z",
     "iopub.status.busy": "2021-04-19T07:20:18.133278Z",
     "iopub.status.idle": "2021-04-19T07:20:18.146380Z",
     "shell.execute_reply": "2021-04-19T07:20:18.145924Z"
    }
   },
   "outputs": [
    {
     "data": {
      "text/plain": [
       "{'SA_spectrum': {'SA_spectrum': array([[ 0.32664804, -1.21797599, -0.07092135,  0.26114275,  0.9370702 ,\n",
       "          -0.72529662,  0.85530953],\n",
       "         [-0.10543861, -0.82649574,  0.0413503 ,  3.11006229, -0.34900203,\n",
       "          -1.71974763, -0.92626913],\n",
       "         [ 0.10402335, -0.07147111, -0.40385875, -0.24782238, -0.01647881,\n",
       "           0.45140917, -1.16024031],\n",
       "         [ 0.52663166, -1.68157732,  0.25197802,  0.02917861, -0.24788315,\n",
       "          -0.71570082,  0.07150092],\n",
       "         [-0.18544583, -0.56324796,  1.2169987 ,  2.512141  ,  1.62600534,\n",
       "          -0.81095498, -0.64495262]]),\n",
       "  'dac_ch1': array([[0. , 0. , 0. , 0. , 0. , 0. , 0. ],\n",
       "         [0.5, 0.5, 0.5, 0.5, 0.5, 0.5, 0.5],\n",
       "         [1. , 1. , 1. , 1. , 1. , 1. , 1. ],\n",
       "         [1.5, 1.5, 1.5, 1.5, 1.5, 1.5, 1.5],\n",
       "         [2. , 2. , 2. , 2. , 2. , 2. , 2. ]]),\n",
       "  'SA_Frequency': array([[0.        , 0.16666667, 0.33333333, 0.5       , 0.66666667,\n",
       "          0.83333333, 1.        ],\n",
       "         [0.        , 0.16666667, 0.33333333, 0.5       , 0.66666667,\n",
       "          0.83333333, 1.        ],\n",
       "         [0.        , 0.16666667, 0.33333333, 0.5       , 0.66666667,\n",
       "          0.83333333, 1.        ],\n",
       "         [0.        , 0.16666667, 0.33333333, 0.5       , 0.66666667,\n",
       "          0.83333333, 1.        ],\n",
       "         [0.        , 0.16666667, 0.33333333, 0.5       , 0.66666667,\n",
       "          0.83333333, 1.        ]])}}"
      ]
     },
     "execution_count": 1,
     "metadata": {},
     "output_type": "execute_result"
    }
   ],
   "source": [
    "dataset1.get_parameter_data()"
   ]
  },
  {
   "cell_type": "markdown",
   "metadata": {},
   "source": [
    "## Array\n",
    "\n",
    "The `array` paramtype stores data as binary blobs in the database. Insertion is faster (asymptotically **much** faster) this way, but the data are \"dead\" to SQL queries inside the database. Be informed that a BLOB in sqlite has a default max length limit set at 1 billion (1,000,000,000) bytes (for more information, refer to [Sqlite](https://sqlite.org/limits.html) docs)."
   ]
  },
  {
   "cell_type": "markdown",
   "metadata": {},
   "source": [
    "### Array example 1\n",
    "\n",
    "Let us repeat the above measurement, but this time using `array` paramtypes."
   ]
  },
  {
   "cell_type": "code",
   "execution_count": 8,
   "metadata": {
    "execution": {
     "iopub.execute_input": "2021-04-19T07:20:18.152301Z",
     "iopub.status.busy": "2021-04-19T07:20:18.151687Z",
     "iopub.status.idle": "2021-04-19T07:20:18.167361Z",
     "shell.execute_reply": "2021-04-19T07:20:18.166863Z"
    }
   },
   "outputs": [
    {
     "name": "stdout",
     "output_type": "stream",
     "text": [
      "Starting experimental run with id: 2. \n",
      "Finished run in 0.012 s\n"
     ]
    }
   ],
   "source": [
    "meas = Measurement(exp=exp)\n",
    "meas.register_parameter(dac.ch1)\n",
    "meas.register_parameter(SA.spectrum, setpoints=(dac.ch1,), paramtype='array')\n",
    "\n",
    "t0 = time.perf_counter()\n",
    "\n",
    "with meas.run() as datasaver:\n",
    "    for dac_v in np.linspace(0, 2, 5):\n",
    "        dac.ch1(dac_v)\n",
    "        datasaver.add_result((dac.ch1, dac_v), (SA.spectrum, SA.spectrum()))\n",
    "\n",
    "t1 = time.perf_counter()\n",
    "\n",
    "print(f'Finished run in {(t1-t0):.3f} s')\n",
    "        \n",
    "dataset2 = datasaver.dataset"
   ]
  },
  {
   "cell_type": "code",
   "execution_count": 9,
   "metadata": {
    "execution": {
     "iopub.execute_input": "2021-04-19T07:20:18.170626Z",
     "iopub.status.busy": "2021-04-19T07:20:18.170088Z",
     "iopub.status.idle": "2021-04-19T07:20:18.178025Z",
     "shell.execute_reply": "2021-04-19T07:20:18.177547Z"
    }
   },
   "outputs": [
    {
     "data": {
      "text/plain": [
       "{'SA_spectrum': {'SA_spectrum': array([[ 4.17973869e-01, -1.23154783e+00, -1.95238676e+00,\n",
       "           8.63213526e-02, -9.81291833e-01,  1.70601926e+00,\n",
       "          -6.82488394e-01],\n",
       "         [-7.30986965e-02, -1.58814474e+00,  7.01306049e-01,\n",
       "           1.07701258e+00,  7.09396486e-01, -1.22804623e+00,\n",
       "           4.31513495e-01],\n",
       "         [-4.39318047e-01, -1.16359194e+00, -1.41810078e-01,\n",
       "           2.90291703e+00, -2.87555655e-02, -3.26830392e-01,\n",
       "           6.80932572e-01],\n",
       "         [-5.33550116e-01,  5.04567676e-01, -1.19581710e+00,\n",
       "          -9.50055157e-01, -1.60988995e-01, -4.56096830e-01,\n",
       "          -6.79678847e-01],\n",
       "         [-1.96598897e+00, -3.24611455e-01,  1.54189810e-01,\n",
       "          -1.59470093e-03, -8.53091761e-01, -1.72991648e+00,\n",
       "           7.18811657e-01]]),\n",
       "  'dac_ch1': array([[0. , 0. , 0. , 0. , 0. , 0. , 0. ],\n",
       "         [0.5, 0.5, 0.5, 0.5, 0.5, 0.5, 0.5],\n",
       "         [1. , 1. , 1. , 1. , 1. , 1. , 1. ],\n",
       "         [1.5, 1.5, 1.5, 1.5, 1.5, 1.5, 1.5],\n",
       "         [2. , 2. , 2. , 2. , 2. , 2. , 2. ]]),\n",
       "  'SA_Frequency': array([[0.        , 0.16666667, 0.33333333, 0.5       , 0.66666667,\n",
       "          0.83333333, 1.        ],\n",
       "         [0.        , 0.16666667, 0.33333333, 0.5       , 0.66666667,\n",
       "          0.83333333, 1.        ],\n",
       "         [0.        , 0.16666667, 0.33333333, 0.5       , 0.66666667,\n",
       "          0.83333333, 1.        ],\n",
       "         [0.        , 0.16666667, 0.33333333, 0.5       , 0.66666667,\n",
       "          0.83333333, 1.        ],\n",
       "         [0.        , 0.16666667, 0.33333333, 0.5       , 0.66666667,\n",
       "          0.83333333, 1.        ]])}}"
      ]
     },
     "execution_count": 1,
     "metadata": {},
     "output_type": "execute_result"
    }
   ],
   "source": [
    "dataset2.get_parameter_data()"
   ]
  },
  {
   "cell_type": "markdown",
   "metadata": {},
   "source": [
    "### Array example 2\n",
    "\n",
    "When storing multidimensional `array` data (think: Alazar cards), both `numeric` and `array` types can be used."
   ]
  },
  {
   "cell_type": "code",
   "execution_count": 10,
   "metadata": {
    "execution": {
     "iopub.execute_input": "2021-04-19T07:20:18.182846Z",
     "iopub.status.busy": "2021-04-19T07:20:18.181742Z",
     "iopub.status.idle": "2021-04-19T07:20:18.196449Z",
     "shell.execute_reply": "2021-04-19T07:20:18.196868Z"
    }
   },
   "outputs": [
    {
     "name": "stdout",
     "output_type": "stream",
     "text": [
      "Starting experimental run with id: 3. \n"
     ]
    }
   ],
   "source": [
    "meas = Measurement(exp=exp)\n",
    "meas.register_parameter(SA.spectrum3D, paramtype='array')\n",
    "\n",
    "with meas.run() as datasaver:\n",
    "    datasaver.add_result((SA.spectrum3D, SA.spectrum3D()))\n",
    "dataset3 = datasaver.dataset"
   ]
  },
  {
   "cell_type": "markdown",
   "metadata": {},
   "source": [
    "The data come out the way we expect them to."
   ]
  },
  {
   "cell_type": "code",
   "execution_count": 11,
   "metadata": {
    "execution": {
     "iopub.execute_input": "2021-04-19T07:20:18.200433Z",
     "iopub.status.busy": "2021-04-19T07:20:18.199908Z",
     "iopub.status.idle": "2021-04-19T07:20:18.207046Z",
     "shell.execute_reply": "2021-04-19T07:20:18.206519Z"
    }
   },
   "outputs": [
    {
     "data": {
      "text/plain": [
       "{'SA_spectrum3D': {'SA_spectrum3D': array([[[[ 0,  1,  2],\n",
       "           [ 3,  4,  5],\n",
       "           [ 6,  7,  8],\n",
       "           [ 9, 10, 11],\n",
       "           [12, 13, 14]],\n",
       "  \n",
       "          [[15, 16, 17],\n",
       "           [18, 19, 20],\n",
       "           [21, 22, 23],\n",
       "           [24, 25, 26],\n",
       "           [27, 28, 29]]]]),\n",
       "  'SA_Frequency0': array([[[[0., 0., 0.],\n",
       "           [0., 0., 0.],\n",
       "           [0., 0., 0.],\n",
       "           [0., 0., 0.],\n",
       "           [0., 0., 0.]],\n",
       "  \n",
       "          [[1., 1., 1.],\n",
       "           [1., 1., 1.],\n",
       "           [1., 1., 1.],\n",
       "           [1., 1., 1.],\n",
       "           [1., 1., 1.]]]]),\n",
       "  'SA_Frequency1': array([[[[0.  , 0.  , 0.  ],\n",
       "           [0.25, 0.25, 0.25],\n",
       "           [0.5 , 0.5 , 0.5 ],\n",
       "           [0.75, 0.75, 0.75],\n",
       "           [1.  , 1.  , 1.  ]],\n",
       "  \n",
       "          [[0.  , 0.  , 0.  ],\n",
       "           [0.25, 0.25, 0.25],\n",
       "           [0.5 , 0.5 , 0.5 ],\n",
       "           [0.75, 0.75, 0.75],\n",
       "           [1.  , 1.  , 1.  ]]]]),\n",
       "  'SA_Frequency2': array([[[[0. , 0.5, 1. ],\n",
       "           [0. , 0.5, 1. ],\n",
       "           [0. , 0.5, 1. ],\n",
       "           [0. , 0.5, 1. ],\n",
       "           [0. , 0.5, 1. ]],\n",
       "  \n",
       "          [[0. , 0.5, 1. ],\n",
       "           [0. , 0.5, 1. ],\n",
       "           [0. , 0.5, 1. ],\n",
       "           [0. , 0.5, 1. ],\n",
       "           [0. , 0.5, 1. ]]]])}}"
      ]
     },
     "execution_count": 1,
     "metadata": {},
     "output_type": "execute_result"
    }
   ],
   "source": [
    "dataset3.get_parameter_data()"
   ]
  },
  {
   "cell_type": "markdown",
   "metadata": {},
   "source": [
    "### Array example 3\n",
    "\n",
    "For completeness, here, we provide an example where the multidimensional array has an auxiliary setpoint."
   ]
  },
  {
   "cell_type": "code",
   "execution_count": 12,
   "metadata": {
    "execution": {
     "iopub.execute_input": "2021-04-19T07:20:18.213160Z",
     "iopub.status.busy": "2021-04-19T07:20:18.212519Z",
     "iopub.status.idle": "2021-04-19T07:20:18.231654Z",
     "shell.execute_reply": "2021-04-19T07:20:18.230806Z"
    }
   },
   "outputs": [
    {
     "name": "stdout",
     "output_type": "stream",
     "text": [
      "Starting experimental run with id: 4. \n"
     ]
    }
   ],
   "source": [
    "meas = Measurement(exp=exp)\n",
    "meas.register_parameter(dac.ch1)\n",
    "meas.register_parameter(SA.spectrum3D, paramtype='array', setpoints=(dac.ch1,))\n",
    "\n",
    "with meas.run() as datasaver:\n",
    "    for dac_v in [3, 4, 5]:\n",
    "        dac.ch1(dac_v)\n",
    "        datasaver.add_result((dac.ch1, dac_v),\n",
    "                             (SA.spectrum3D, SA.spectrum3D()))\n",
    "dataset4 = datasaver.dataset"
   ]
  },
  {
   "cell_type": "code",
   "execution_count": 13,
   "metadata": {
    "execution": {
     "iopub.execute_input": "2021-04-19T07:20:18.237445Z",
     "iopub.status.busy": "2021-04-19T07:20:18.234704Z",
     "iopub.status.idle": "2021-04-19T07:20:18.248849Z",
     "shell.execute_reply": "2021-04-19T07:20:18.248386Z"
    }
   },
   "outputs": [
    {
     "data": {
      "text/plain": [
       "{'SA_spectrum3D': {'SA_spectrum3D': array([[[[ 0,  1,  2],\n",
       "           [ 3,  4,  5],\n",
       "           [ 6,  7,  8],\n",
       "           [ 9, 10, 11],\n",
       "           [12, 13, 14]],\n",
       "  \n",
       "          [[15, 16, 17],\n",
       "           [18, 19, 20],\n",
       "           [21, 22, 23],\n",
       "           [24, 25, 26],\n",
       "           [27, 28, 29]]],\n",
       "  \n",
       "  \n",
       "         [[[ 0,  1,  2],\n",
       "           [ 3,  4,  5],\n",
       "           [ 6,  7,  8],\n",
       "           [ 9, 10, 11],\n",
       "           [12, 13, 14]],\n",
       "  \n",
       "          [[15, 16, 17],\n",
       "           [18, 19, 20],\n",
       "           [21, 22, 23],\n",
       "           [24, 25, 26],\n",
       "           [27, 28, 29]]],\n",
       "  \n",
       "  \n",
       "         [[[ 0,  1,  2],\n",
       "           [ 3,  4,  5],\n",
       "           [ 6,  7,  8],\n",
       "           [ 9, 10, 11],\n",
       "           [12, 13, 14]],\n",
       "  \n",
       "          [[15, 16, 17],\n",
       "           [18, 19, 20],\n",
       "           [21, 22, 23],\n",
       "           [24, 25, 26],\n",
       "           [27, 28, 29]]]]),\n",
       "  'dac_ch1': array([[[[3., 3., 3.],\n",
       "           [3., 3., 3.],\n",
       "           [3., 3., 3.],\n",
       "           [3., 3., 3.],\n",
       "           [3., 3., 3.]],\n",
       "  \n",
       "          [[3., 3., 3.],\n",
       "           [3., 3., 3.],\n",
       "           [3., 3., 3.],\n",
       "           [3., 3., 3.],\n",
       "           [3., 3., 3.]]],\n",
       "  \n",
       "  \n",
       "         [[[4., 4., 4.],\n",
       "           [4., 4., 4.],\n",
       "           [4., 4., 4.],\n",
       "           [4., 4., 4.],\n",
       "           [4., 4., 4.]],\n",
       "  \n",
       "          [[4., 4., 4.],\n",
       "           [4., 4., 4.],\n",
       "           [4., 4., 4.],\n",
       "           [4., 4., 4.],\n",
       "           [4., 4., 4.]]],\n",
       "  \n",
       "  \n",
       "         [[[5., 5., 5.],\n",
       "           [5., 5., 5.],\n",
       "           [5., 5., 5.],\n",
       "           [5., 5., 5.],\n",
       "           [5., 5., 5.]],\n",
       "  \n",
       "          [[5., 5., 5.],\n",
       "           [5., 5., 5.],\n",
       "           [5., 5., 5.],\n",
       "           [5., 5., 5.],\n",
       "           [5., 5., 5.]]]]),\n",
       "  'SA_Frequency0': array([[[[0., 0., 0.],\n",
       "           [0., 0., 0.],\n",
       "           [0., 0., 0.],\n",
       "           [0., 0., 0.],\n",
       "           [0., 0., 0.]],\n",
       "  \n",
       "          [[1., 1., 1.],\n",
       "           [1., 1., 1.],\n",
       "           [1., 1., 1.],\n",
       "           [1., 1., 1.],\n",
       "           [1., 1., 1.]]],\n",
       "  \n",
       "  \n",
       "         [[[0., 0., 0.],\n",
       "           [0., 0., 0.],\n",
       "           [0., 0., 0.],\n",
       "           [0., 0., 0.],\n",
       "           [0., 0., 0.]],\n",
       "  \n",
       "          [[1., 1., 1.],\n",
       "           [1., 1., 1.],\n",
       "           [1., 1., 1.],\n",
       "           [1., 1., 1.],\n",
       "           [1., 1., 1.]]],\n",
       "  \n",
       "  \n",
       "         [[[0., 0., 0.],\n",
       "           [0., 0., 0.],\n",
       "           [0., 0., 0.],\n",
       "           [0., 0., 0.],\n",
       "           [0., 0., 0.]],\n",
       "  \n",
       "          [[1., 1., 1.],\n",
       "           [1., 1., 1.],\n",
       "           [1., 1., 1.],\n",
       "           [1., 1., 1.],\n",
       "           [1., 1., 1.]]]]),\n",
       "  'SA_Frequency1': array([[[[0.  , 0.  , 0.  ],\n",
       "           [0.25, 0.25, 0.25],\n",
       "           [0.5 , 0.5 , 0.5 ],\n",
       "           [0.75, 0.75, 0.75],\n",
       "           [1.  , 1.  , 1.  ]],\n",
       "  \n",
       "          [[0.  , 0.  , 0.  ],\n",
       "           [0.25, 0.25, 0.25],\n",
       "           [0.5 , 0.5 , 0.5 ],\n",
       "           [0.75, 0.75, 0.75],\n",
       "           [1.  , 1.  , 1.  ]]],\n",
       "  \n",
       "  \n",
       "         [[[0.  , 0.  , 0.  ],\n",
       "           [0.25, 0.25, 0.25],\n",
       "           [0.5 , 0.5 , 0.5 ],\n",
       "           [0.75, 0.75, 0.75],\n",
       "           [1.  , 1.  , 1.  ]],\n",
       "  \n",
       "          [[0.  , 0.  , 0.  ],\n",
       "           [0.25, 0.25, 0.25],\n",
       "           [0.5 , 0.5 , 0.5 ],\n",
       "           [0.75, 0.75, 0.75],\n",
       "           [1.  , 1.  , 1.  ]]],\n",
       "  \n",
       "  \n",
       "         [[[0.  , 0.  , 0.  ],\n",
       "           [0.25, 0.25, 0.25],\n",
       "           [0.5 , 0.5 , 0.5 ],\n",
       "           [0.75, 0.75, 0.75],\n",
       "           [1.  , 1.  , 1.  ]],\n",
       "  \n",
       "          [[0.  , 0.  , 0.  ],\n",
       "           [0.25, 0.25, 0.25],\n",
       "           [0.5 , 0.5 , 0.5 ],\n",
       "           [0.75, 0.75, 0.75],\n",
       "           [1.  , 1.  , 1.  ]]]]),\n",
       "  'SA_Frequency2': array([[[[0. , 0.5, 1. ],\n",
       "           [0. , 0.5, 1. ],\n",
       "           [0. , 0.5, 1. ],\n",
       "           [0. , 0.5, 1. ],\n",
       "           [0. , 0.5, 1. ]],\n",
       "  \n",
       "          [[0. , 0.5, 1. ],\n",
       "           [0. , 0.5, 1. ],\n",
       "           [0. , 0.5, 1. ],\n",
       "           [0. , 0.5, 1. ],\n",
       "           [0. , 0.5, 1. ]]],\n",
       "  \n",
       "  \n",
       "         [[[0. , 0.5, 1. ],\n",
       "           [0. , 0.5, 1. ],\n",
       "           [0. , 0.5, 1. ],\n",
       "           [0. , 0.5, 1. ],\n",
       "           [0. , 0.5, 1. ]],\n",
       "  \n",
       "          [[0. , 0.5, 1. ],\n",
       "           [0. , 0.5, 1. ],\n",
       "           [0. , 0.5, 1. ],\n",
       "           [0. , 0.5, 1. ],\n",
       "           [0. , 0.5, 1. ]]],\n",
       "  \n",
       "  \n",
       "         [[[0. , 0.5, 1. ],\n",
       "           [0. , 0.5, 1. ],\n",
       "           [0. , 0.5, 1. ],\n",
       "           [0. , 0.5, 1. ],\n",
       "           [0. , 0.5, 1. ]],\n",
       "  \n",
       "          [[0. , 0.5, 1. ],\n",
       "           [0. , 0.5, 1. ],\n",
       "           [0. , 0.5, 1. ],\n",
       "           [0. , 0.5, 1. ],\n",
       "           [0. , 0.5, 1. ]]]])}}"
      ]
     },
     "execution_count": 1,
     "metadata": {},
     "output_type": "execute_result"
    }
   ],
   "source": [
    "dataset4.get_parameter_data()"
   ]
  },
  {
   "cell_type": "markdown",
   "metadata": {},
   "source": [
    "## Text\n",
    "\n",
    "Text is strings. Sometimes it may be useful to capture categorial data that is represented as string values, or a log message, or else.\n",
    "\n",
    "Note that the `paramtype` setting is important. The datasaver will not allow to save `numeric` data for a parameter that was registered as `text`. The opposite it also true: the datasaver will not allow to save strings for a parameter what was registered as non-`text` (`numeric` or `array`)."
   ]
  },
  {
   "cell_type": "code",
   "execution_count": 14,
   "metadata": {
    "execution": {
     "iopub.execute_input": "2021-04-19T07:20:18.253339Z",
     "iopub.status.busy": "2021-04-19T07:20:18.250620Z",
     "iopub.status.idle": "2021-04-19T07:20:18.266283Z",
     "shell.execute_reply": "2021-04-19T07:20:18.265831Z"
    }
   },
   "outputs": [
    {
     "name": "stdout",
     "output_type": "stream",
     "text": [
      "Starting experimental run with id: 5. \n"
     ]
    }
   ],
   "source": [
    "meas = Measurement(exp=exp)\n",
    "meas.register_parameter(dac.ch1)\n",
    "meas.register_parameter(dac.control, setpoints=(dac.ch1,), paramtype='text')\n",
    "\n",
    "with meas.run() as datasaver:\n",
    "    for dac_v in np.linspace(4, 6, 10):\n",
    "        dac.ch1(dac_v)\n",
    "        datasaver.add_result((dac.ch1, dac_v),\n",
    "                             (dac.control, dac.control()))\n",
    "dataset5 = datasaver.dataset"
   ]
  },
  {
   "cell_type": "code",
   "execution_count": 15,
   "metadata": {
    "execution": {
     "iopub.execute_input": "2021-04-19T07:20:18.270483Z",
     "iopub.status.busy": "2021-04-19T07:20:18.269242Z",
     "iopub.status.idle": "2021-04-19T07:20:18.274861Z",
     "shell.execute_reply": "2021-04-19T07:20:18.274412Z"
    }
   },
   "outputs": [
    {
     "data": {
      "text/plain": [
       "{'dac_control': {'dac_control': array(['OK', 'OK', 'OK', 'OK', 'OK', 'Too high', 'Too high', 'Too high',\n",
       "         'Too high', 'Too high'], dtype='<U8'),\n",
       "  'dac_ch1': array([4.        , 4.22222222, 4.44444444, 4.66666667, 4.88888889,\n",
       "         5.11111111, 5.33333333, 5.55555556, 5.77777778, 6.        ])}}"
      ]
     },
     "execution_count": 1,
     "metadata": {},
     "output_type": "execute_result"
    }
   ],
   "source": [
    "dataset5.get_parameter_data()"
   ]
  },
  {
   "cell_type": "code",
   "execution_count": null,
   "metadata": {},
   "outputs": [],
   "source": []
  }
 ],
 "metadata": {
  "kernelspec": {
   "display_name": "Python 3",
   "language": "python",
   "name": "python3"
  },
  "language_info": {
   "codemirror_mode": {
    "name": "ipython",
    "version": 3
   },
   "file_extension": ".py",
   "mimetype": "text/x-python",
   "name": "python",
   "nbconvert_exporter": "python",
   "pygments_lexer": "ipython3",
   "version": "3.7.10"
  }
 },
 "nbformat": 4,
 "nbformat_minor": 4
}
