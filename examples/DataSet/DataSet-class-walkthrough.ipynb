{
 "cells": [
  {
   "cell_type": "markdown",
   "metadata": {},
   "source": [
    "# DataSet class walkthrough\n",
    "\n",
    "In this notebook we are going to go through the mighty `DataSet` class, and get an overview of the most of it's methods and properties. In this case, the more you know, the more you can achieve."
   ]
  },
  {
   "cell_type": "markdown",
   "metadata": {},
   "source": [
    "## Note on DataSet object creation\n",
    "\n",
    "Users are expected to obtain `DataSet` objects in the following ways:\n",
    "\n",
    "* run a `Measurement` and get a `DataSet` via a `DataSaver` after exiting the measurement context, as shown here:\n",
    "\n",
    "```python\n",
    "...\n",
    "meas = Measurement(...)\n",
    "...\n",
    "with meas.run() as datasaver:\n",
    "    ...\n",
    "dataset = datasaver.dataset  # <- this one\n",
    "...\n",
    "```\n",
    "\n",
    "* load a `DataSet` using one of the `load_*` functions from `qcodes.dataset.data_set` module, for example, `load_by_run_spec`:\n",
    "\n",
    "```python\n",
    "dataset = load_by_run_spec(\n",
    "    experiment_name='pinchoff',\n",
    "    sample_name='SDH-X-13c',\n",
    "    captured_run_id=12\n",
    ")\n",
    "```\n",
    "\n",
    "Users should **NOT** instantiate a `DataSet` object via its constructor, or via the `new_data_set` function."
   ]
  },
  {
   "cell_type": "markdown",
   "metadata": {},
   "source": [
    "## Preparation: a DataSet from a dummy Measurement\n",
    "\n",
    "In order to obtain a `DataSet` object, we are going to run a `Measurement` storing some dummy data (see notebook on [Performing measurements using qcodes parameters and dataset](Performing-measurements-using-qcodes-parameters-and-dataset.ipynb) for more details)."
   ]
  },
  {
   "cell_type": "code",
   "execution_count": 1,
   "metadata": {
    "execution": {
     "iopub.execute_input": "2020-10-05T13:08:02.547683Z",
     "iopub.status.busy": "2020-10-05T13:08:02.547036Z",
     "iopub.status.idle": "2020-10-05T13:08:03.646460Z",
     "shell.execute_reply": "2020-10-05T13:08:03.645685Z"
    }
   },
   "outputs": [
    {
     "name": "stdout",
     "output_type": "stream",
     "text": [
      "Logging hadn't been started.\n",
      "Activating auto-logging. Current session state plus future input saved.\n",
      "Filename       : /home/vsts/.qcodes/logs/command_history.log\n",
      "Mode           : append\n",
      "Output logging : True\n",
      "Raw input log  : False\n",
      "Timestamping   : True\n",
      "State          : active\n"
     ]
    },
    {
     "name": "stdout",
     "output_type": "stream",
     "text": [
      "Qcodes Logfile : /home/vsts/.qcodes/logs/201005-18514-qcodes.log\n"
     ]
    }
   ],
   "source": [
    "import tempfile\n",
    "import os\n",
    "import time\n",
    "\n",
    "import numpy as np\n",
    "\n",
    "import qcodes\n",
    "from qcodes import initialise_or_create_database_at, \\\n",
    "    load_or_create_experiment, Measurement, Parameter, \\\n",
    "    Station\n",
    "from qcodes.dataset.plotting import plot_dataset"
   ]
  },
  {
   "cell_type": "code",
   "execution_count": 2,
   "metadata": {
    "execution": {
     "iopub.execute_input": "2020-10-05T13:08:03.650677Z",
     "iopub.status.busy": "2020-10-05T13:08:03.650203Z",
     "iopub.status.idle": "2020-10-05T13:08:03.655123Z",
     "shell.execute_reply": "2020-10-05T13:08:03.655516Z"
    }
   },
   "outputs": [],
   "source": [
    "db_path = os.path.join(tempfile.gettempdir(),\n",
    "                       'data_access_example.db')\n",
    "initialise_or_create_database_at(db_path)\n",
    "\n",
    "experiment = load_or_create_experiment(\n",
    "    experiment_name='greco',\n",
    "    sample_name='draco')"
   ]
  },
  {
   "cell_type": "code",
   "execution_count": 3,
   "metadata": {
    "execution": {
     "iopub.execute_input": "2020-10-05T13:08:03.659083Z",
     "iopub.status.busy": "2020-10-05T13:08:03.658609Z",
     "iopub.status.idle": "2020-10-05T13:08:03.662429Z",
     "shell.execute_reply": "2020-10-05T13:08:03.661754Z"
    }
   },
   "outputs": [],
   "source": [
    "# This parameter is created in order to\n",
    "# justify creation of a `Station` object,\n",
    "# which, in turn, is needed to remind the\n",
    "# reader about the importance of adding \n",
    "# all instruments to the station.\n",
    "fs = Parameter(name='force_side', label='Side of the Force',\n",
    "               initial_value='dark',\n",
    "               set_cmd=None, get_cmd=None)"
   ]
  },
  {
   "cell_type": "code",
   "execution_count": 4,
   "metadata": {
    "execution": {
     "iopub.execute_input": "2020-10-05T13:08:03.667790Z",
     "iopub.status.busy": "2020-10-05T13:08:03.667324Z",
     "iopub.status.idle": "2020-10-05T13:08:03.672228Z",
     "shell.execute_reply": "2020-10-05T13:08:03.671730Z"
    }
   },
   "outputs": [
    {
     "data": {
      "text/plain": [
       "'force_side'"
      ]
     },
     "execution_count": 1,
     "metadata": {},
     "output_type": "execute_result"
    }
   ],
   "source": [
    "station = Station()\n",
    "station.add_component(fs)"
   ]
  },
  {
   "cell_type": "code",
   "execution_count": 5,
   "metadata": {
    "execution": {
     "iopub.execute_input": "2020-10-05T13:08:03.676714Z",
     "iopub.status.busy": "2020-10-05T13:08:03.676265Z",
     "iopub.status.idle": "2020-10-05T13:08:03.680402Z",
     "shell.execute_reply": "2020-10-05T13:08:03.679618Z"
    }
   },
   "outputs": [],
   "source": [
    "x = Parameter(name='x', label='Voltage', unit='V',\n",
    "              set_cmd=None, get_cmd=None)\n",
    "t = Parameter(name='t', label='Time', unit='s',\n",
    "              set_cmd=None, get_cmd=None)\n",
    "y = Parameter(name='y', label='Voltage', unit='V',\n",
    "              set_cmd=None, get_cmd=None)\n",
    "y2 = Parameter(name='y2', label='Current', unit='A',\n",
    "               set_cmd=None, get_cmd=None)"
   ]
  },
  {
   "cell_type": "code",
   "execution_count": 6,
   "metadata": {
    "execution": {
     "iopub.execute_input": "2020-10-05T13:08:03.687319Z",
     "iopub.status.busy": "2020-10-05T13:08:03.686115Z",
     "iopub.status.idle": "2020-10-05T13:08:04.831954Z",
     "shell.execute_reply": "2020-10-05T13:08:04.832474Z"
    }
   },
   "outputs": [
    {
     "name": "stdout",
     "output_type": "stream",
     "text": [
      "Starting experimental run with id: 2. \n"
     ]
    }
   ],
   "source": [
    "meas = Measurement(exp=experiment,\n",
    "                   name='first_run',\n",
    "                   station=station)\n",
    "\n",
    "meas.register_parameter(x)\n",
    "meas.register_parameter(t)\n",
    "meas.register_parameter(y, setpoints=(x, t))\n",
    "meas.register_parameter(y2, setpoints=(x, t))\n",
    "\n",
    "x_vals = np.linspace(-4, 5, 50)\n",
    "t_vals = np.linspace(-500, 1500, 25)\n",
    "\n",
    "with meas.run() as datasaver:\n",
    "    for xv in x_vals:\n",
    "        for tv in t_vals:\n",
    "            yv = np.sin(2*np.pi*xv)*np.cos(2*np.pi*0.001*tv) + 0.001*tv\n",
    "            y2v = np.sin(2*np.pi*xv)*np.cos(2*np.pi*0.001*tv + 0.5*np.pi) - 0.001*tv\n",
    "            datasaver.add_result((x, xv), (t, tv), (y, yv), (y2, y2v))\n",
    "    time.sleep(1.0)\n",
    "\n",
    "dataset = datasaver.dataset"
   ]
  },
  {
   "cell_type": "markdown",
   "metadata": {},
   "source": [
    "For the sake of demonstrating what kind of data we've produced, let's use `plot_dataset` to make some default plots of the data."
   ]
  },
  {
   "cell_type": "code",
   "execution_count": 7,
   "metadata": {
    "execution": {
     "iopub.execute_input": "2020-10-05T13:08:04.841645Z",
     "iopub.status.busy": "2020-10-05T13:08:04.841099Z",
     "iopub.status.idle": "2020-10-05T13:08:05.314747Z",
     "shell.execute_reply": "2020-10-05T13:08:05.314245Z"
    }
   },
   "outputs": [
    {
     "data": {
      "text/plain": [
       "([<AxesSubplot:title={'center':'Run #2, Experiment greco (draco)'}, xlabel='Voltage (V)', ylabel='Time (ks)'>,\n",
       "  <AxesSubplot:title={'center':'Run #2, Experiment greco (draco)'}, xlabel='Voltage (V)', ylabel='Time (ks)'>],\n",
       " [<matplotlib.colorbar.Colorbar at 0x7f5c982dc910>,\n",
       "  <matplotlib.colorbar.Colorbar at 0x7f5c98305810>])"
      ]
     },
     "execution_count": 1,
     "metadata": {},
     "output_type": "execute_result"
    },
    {
     "data": {
      "image/png": "[encoded data removed]",
      "text/plain": [
       "<Figure size 432x288 with 2 Axes>"
      ]
     },
     "metadata": {
      "needs_background": "light"
     },
     "output_type": "display_data"
    },
    {
     "data": {
      "image/png": "[encoded data removed]",
      "text/plain": [
       "<Figure size 432x288 with 2 Axes>"
      ]
     },
     "metadata": {
      "needs_background": "light"
     },
     "output_type": "display_data"
    }
   ],
   "source": [
    "plot_dataset(dataset)"
   ]
  },
  {
   "cell_type": "markdown",
   "metadata": {},
   "source": [
    "## Note on immutability of DataSet\n",
    "\n",
    "Users are NOT expected to use `DataSet`s methods that modify its content, for example, `add_result`. Only `Measurement` and `DataSaver` objects use those methods. This is due to the philosophy of the `DataSet` - once created within a `Measurement` context, it should not change so that the user don't accidentally modify/remove the important measured data. In the future versions of QCoDeS the design of the `DataSet` object will be improved to make the described philosophy clear."
   ]
  },
  {
   "cell_type": "markdown",
   "metadata": {},
   "source": [
    "## DataSet indentity\n",
    "\n",
    "Before we dive into what's in the `DataSet`, let's briefly note how a `DataSet` is identified.\n",
    "\n",
    "TL;DR:\n",
    "> * Both `experiment name` and `sample name` are great means for identifying a dataset, especially when coupled with the `captured_run_id`.\n",
    "> * `guid` is the only globally unique identifier for datasets."
   ]
  },
  {
   "cell_type": "markdown",
   "metadata": {},
   "source": [
    "### GUID\n",
    "\n",
    "Globally, \"in this universe\", a dataset is identified by a globally unique identifier:"
   ]
  },
  {
   "cell_type": "code",
   "execution_count": 8,
   "metadata": {
    "execution": {
     "iopub.execute_input": "2020-10-05T13:08:05.318947Z",
     "iopub.status.busy": "2020-10-05T13:08:05.318284Z",
     "iopub.status.idle": "2020-10-05T13:08:05.322569Z",
     "shell.execute_reply": "2020-10-05T13:08:05.322973Z"
    }
   },
   "outputs": [
    {
     "data": {
      "text/plain": [
       "'aaaaaaaa-0000-0000-0000-0174f8e04de8'"
      ]
     },
     "execution_count": 1,
     "metadata": {},
     "output_type": "execute_result"
    }
   ],
   "source": [
    "dataset.guid"
   ]
  },
  {
   "cell_type": "markdown",
   "metadata": {},
   "source": [
    "`guid` is generated when a dataset is created, and is globally unique.\n",
    "\n",
    "Due to the nature of the `guid` and its size, it is very user-friendly. For example, it is convenient to use it as a reference in a conversation between users. However, the `guid` is crucial for use in automated/computer systems, for example, when moving a dataset from one database file to a different one."
   ]
  },
  {
   "cell_type": "markdown",
   "metadata": {},
   "source": [
    "### Captured run ID\n",
    "\n",
    "Within a given single database file (!) a dataset can be identified by its `captured_run_id`, an integer index:"
   ]
  },
  {
   "cell_type": "code",
   "execution_count": 9,
   "metadata": {
    "execution": {
     "iopub.execute_input": "2020-10-05T13:08:05.326744Z",
     "iopub.status.busy": "2020-10-05T13:08:05.326241Z",
     "iopub.status.idle": "2020-10-05T13:08:05.330949Z",
     "shell.execute_reply": "2020-10-05T13:08:05.330551Z"
    }
   },
   "outputs": [
    {
     "data": {
      "text/plain": [
       "2"
      ]
     },
     "execution_count": 1,
     "metadata": {},
     "output_type": "execute_result"
    }
   ],
   "source": [
    "dataset.captured_run_id"
   ]
  },
  {
   "cell_type": "markdown",
   "metadata": {},
   "source": [
    "`captured_run_id` gets assigned to a `DataSet` at its creation time such that the new `captured_run_id` is always one larger than the current number of `DataSet`s in the database file:\n",
    "\n",
    "```\n",
    "captured_run_id_for_new_dataset = 1 + current_total_number_of_datasets_in_the_database\n",
    "```\n",
    "\n",
    "Note that `captured_run_id` is preserved when exporting the `DataSet` to another database file but may not be unique if combined with datasets from other database files. For example, it is possible to export 2 datasets with the same `captured_run_id` to the same database file.\n",
    "\n",
    "We will see below how to disambiguate multiple datasets that share the same `captured_run_id`."
   ]
  },
  {
   "cell_type": "markdown",
   "metadata": {},
   "source": [
    "#### Note on run ID\n",
    "\n",
    "`DataSet` object also has a `run_id`, also an integer index:"
   ]
  },
  {
   "cell_type": "code",
   "execution_count": 10,
   "metadata": {
    "execution": {
     "iopub.execute_input": "2020-10-05T13:08:05.334414Z",
     "iopub.status.busy": "2020-10-05T13:08:05.333768Z",
     "iopub.status.idle": "2020-10-05T13:08:05.338637Z",
     "shell.execute_reply": "2020-10-05T13:08:05.338165Z"
    }
   },
   "outputs": [
    {
     "data": {
      "text/plain": [
       "2"
      ]
     },
     "execution_count": 1,
     "metadata": {},
     "output_type": "execute_result"
    }
   ],
   "source": [
    "dataset.run_id"
   ]
  },
  {
   "cell_type": "markdown",
   "metadata": {},
   "source": [
    "`run_id` also gets assigned to a dataset upon its creation, and due to its implementation is unique only within that database file. Unlike `captured_run_id`, `run_id` is **NOT** preserved when exporting a dataset from one database file to another, hence it is **NOT** recommended for any use."
   ]
  },
  {
   "cell_type": "markdown",
   "metadata": {},
   "source": [
    "### Experiment and sample names\n",
    "\n",
    "Every dataset contains the name of the experiment, and the name of the sample - those come from the `Experiment` object that was passed to the `Measurement` object with which the dataset has been created.\n",
    "\n",
    "So here is the experiment name that has been used above:"
   ]
  },
  {
   "cell_type": "code",
   "execution_count": 11,
   "metadata": {
    "execution": {
     "iopub.execute_input": "2020-10-05T13:08:05.342909Z",
     "iopub.status.busy": "2020-10-05T13:08:05.342385Z",
     "iopub.status.idle": "2020-10-05T13:08:05.344678Z",
     "shell.execute_reply": "2020-10-05T13:08:05.345162Z"
    }
   },
   "outputs": [
    {
     "data": {
      "text/plain": [
       "'greco'"
      ]
     },
     "execution_count": 1,
     "metadata": {},
     "output_type": "execute_result"
    }
   ],
   "source": [
    "dataset.exp_name"
   ]
  },
  {
   "cell_type": "markdown",
   "metadata": {},
   "source": [
    "And here is the sample name that has been used above:"
   ]
  },
  {
   "cell_type": "code",
   "execution_count": 12,
   "metadata": {
    "execution": {
     "iopub.execute_input": "2020-10-05T13:08:05.349174Z",
     "iopub.status.busy": "2020-10-05T13:08:05.348248Z",
     "iopub.status.idle": "2020-10-05T13:08:05.351166Z",
     "shell.execute_reply": "2020-10-05T13:08:05.351642Z"
    }
   },
   "outputs": [
    {
     "data": {
      "text/plain": [
       "'draco'"
      ]
     },
     "execution_count": 1,
     "metadata": {},
     "output_type": "execute_result"
    }
   ],
   "source": [
    "dataset.sample_name"
   ]
  },
  {
   "cell_type": "markdown",
   "metadata": {},
   "source": [
    "Both experiment name and sample name are great means for identifying a dataset, especially when coupled with the `captured_run_id`."
   ]
  },
  {
   "cell_type": "markdown",
   "metadata": {},
   "source": [
    "### DataSet name\n",
    "\n",
    "Last but not least, a dataset may have a `name`. This name gets assigned to the dataset upon its creation, and is taken from the `name` attribute of the `Measurement` object that was used to create the dataset. For example, above the `name` of the `Measurement` was set by passing it as an argument to its constructor, hence the produced `DataSet` also has this name:"
   ]
  },
  {
   "cell_type": "code",
   "execution_count": 13,
   "metadata": {
    "execution": {
     "iopub.execute_input": "2020-10-05T13:08:05.355743Z",
     "iopub.status.busy": "2020-10-05T13:08:05.354777Z",
     "iopub.status.idle": "2020-10-05T13:08:05.357479Z",
     "shell.execute_reply": "2020-10-05T13:08:05.357971Z"
    }
   },
   "outputs": [
    {
     "data": {
      "text/plain": [
       "'first_run'"
      ]
     },
     "execution_count": 1,
     "metadata": {},
     "output_type": "execute_result"
    }
   ],
   "source": [
    "dataset.name"
   ]
  },
  {
   "cell_type": "markdown",
   "metadata": {},
   "source": [
    "If the `name` of the `Measurement` is not explicitly defined, the created dataset gets a default name."
   ]
  },
  {
   "cell_type": "markdown",
   "metadata": {},
   "source": [
    "### Note on experiments\n",
    "\n",
    "Conceptually experiments are meant to group datasets under the same experiment name and sample name. This is why every dataset also contains the following `Experiment`-related identifications."
   ]
  },
  {
   "cell_type": "markdown",
   "metadata": {},
   "source": [
    "Experiments have integer ids within a database file. A dataset knows about the id of the experiment it belongs to via `exp_id` property:"
   ]
  },
  {
   "cell_type": "code",
   "execution_count": 14,
   "metadata": {
    "execution": {
     "iopub.execute_input": "2020-10-05T13:08:05.361939Z",
     "iopub.status.busy": "2020-10-05T13:08:05.361478Z",
     "iopub.status.idle": "2020-10-05T13:08:05.363599Z",
     "shell.execute_reply": "2020-10-05T13:08:05.364100Z"
    }
   },
   "outputs": [
    {
     "data": {
      "text/plain": [
       "1"
      ]
     },
     "execution_count": 1,
     "metadata": {},
     "output_type": "execute_result"
    }
   ],
   "source": [
    "dataset.exp_id"
   ]
  },
  {
   "cell_type": "markdown",
   "metadata": {},
   "source": [
    "Because an `Experiment` is a group of datasets, every dataset also has a `captured_counter` within an `Experiment`:"
   ]
  },
  {
   "cell_type": "code",
   "execution_count": 15,
   "metadata": {
    "execution": {
     "iopub.execute_input": "2020-10-05T13:08:05.368091Z",
     "iopub.status.busy": "2020-10-05T13:08:05.366734Z",
     "iopub.status.idle": "2020-10-05T13:08:05.370040Z",
     "shell.execute_reply": "2020-10-05T13:08:05.370528Z"
    }
   },
   "outputs": [
    {
     "data": {
      "text/plain": [
       "2"
      ]
     },
     "execution_count": 1,
     "metadata": {},
     "output_type": "execute_result"
    }
   ],
   "source": [
    "dataset.captured_counter"
   ]
  },
  {
   "cell_type": "markdown",
   "metadata": {},
   "source": [
    "Similar to `captured_run_id`, `captured_counter` gets assigned to a `DataSet` upon its creation, and is preserved when exporting a dataset to another database file. The formula for `captured_counter` is:\n",
    "\n",
    "```\n",
    "captured_counter_for_new_dataset = 1 + current_total_number_of_datasets_within_the_given_experiment_in_the_database\n",
    "```"
   ]
  },
  {
   "cell_type": "markdown",
   "metadata": {},
   "source": [
    "#### Note on counter\n",
    "\n",
    "Upon creation, a `DataSet` also gets a `counter` index within an `Experiment`:"
   ]
  },
  {
   "cell_type": "code",
   "execution_count": 16,
   "metadata": {
    "execution": {
     "iopub.execute_input": "2020-10-05T13:08:05.374485Z",
     "iopub.status.busy": "2020-10-05T13:08:05.373154Z",
     "iopub.status.idle": "2020-10-05T13:08:05.376899Z",
     "shell.execute_reply": "2020-10-05T13:08:05.376430Z"
    }
   },
   "outputs": [
    {
     "data": {
      "text/plain": [
       "2"
      ]
     },
     "execution_count": 1,
     "metadata": {},
     "output_type": "execute_result"
    }
   ],
   "source": [
    "dataset.counter"
   ]
  },
  {
   "cell_type": "markdown",
   "metadata": {},
   "source": [
    "However, similar to `run_id`, `counter` is **NOT** preserved when exporting a dataset to a different database file, hence it is **NOT** recommended for any use."
   ]
  },
  {
   "cell_type": "markdown",
   "metadata": {},
   "source": [
    "## DataSet info\n",
    "\n",
    "In this section we are going to look at different minor pieces of information about the dataset."
   ]
  },
  {
   "cell_type": "markdown",
   "metadata": {},
   "source": [
    "### Database file\n",
    "\n",
    "Dataset is obviously aware of which database file it is contained in:"
   ]
  },
  {
   "cell_type": "code",
   "execution_count": 17,
   "metadata": {
    "execution": {
     "iopub.execute_input": "2020-10-05T13:08:05.381085Z",
     "iopub.status.busy": "2020-10-05T13:08:05.380500Z",
     "iopub.status.idle": "2020-10-05T13:08:05.382797Z",
     "shell.execute_reply": "2020-10-05T13:08:05.383295Z"
    }
   },
   "outputs": [
    {
     "data": {
      "text/plain": [
       "'/tmp/data_access_example.db'"
      ]
     },
     "execution_count": 1,
     "metadata": {},
     "output_type": "execute_result"
    }
   ],
   "source": [
    "dataset.path_to_db"
   ]
  },
  {
   "cell_type": "markdown",
   "metadata": {},
   "source": [
    "### Timestamps\n",
    "\n",
    "A dataset has two associated timestamps: `run_timestamp` of the moment when it has been started (say, when the measurement was started), and `completed_timestamp` of the moment when it has been completed (say, when the measurement was finished). Both of the timestamps are available as `*_raw` properties of the `DataSet`, and as convenience methods of `DataSet` which allow formatting of the raw timestamps."
   ]
  },
  {
   "cell_type": "code",
   "execution_count": 18,
   "metadata": {
    "execution": {
     "iopub.execute_input": "2020-10-05T13:08:05.387245Z",
     "iopub.status.busy": "2020-10-05T13:08:05.386266Z",
     "iopub.status.idle": "2020-10-05T13:08:05.389125Z",
     "shell.execute_reply": "2020-10-05T13:08:05.389620Z"
    }
   },
   "outputs": [
    {
     "data": {
      "text/plain": [
       "1601903283.6995084"
      ]
     },
     "execution_count": 1,
     "metadata": {},
     "output_type": "execute_result"
    }
   ],
   "source": [
    "dataset.run_timestamp_raw"
   ]
  },
  {
   "cell_type": "code",
   "execution_count": 19,
   "metadata": {
    "execution": {
     "iopub.execute_input": "2020-10-05T13:08:05.393458Z",
     "iopub.status.busy": "2020-10-05T13:08:05.392478Z",
     "iopub.status.idle": "2020-10-05T13:08:05.395366Z",
     "shell.execute_reply": "2020-10-05T13:08:05.395829Z"
    }
   },
   "outputs": [
    {
     "data": {
      "text/plain": [
       "'2020-10-05 13:08:03'"
      ]
     },
     "execution_count": 1,
     "metadata": {},
     "output_type": "execute_result"
    }
   ],
   "source": [
    "dataset.run_timestamp()"
   ]
  },
  {
   "cell_type": "code",
   "execution_count": 20,
   "metadata": {
    "execution": {
     "iopub.execute_input": "2020-10-05T13:08:05.400110Z",
     "iopub.status.busy": "2020-10-05T13:08:05.399061Z",
     "iopub.status.idle": "2020-10-05T13:08:05.401965Z",
     "shell.execute_reply": "2020-10-05T13:08:05.402439Z"
    }
   },
   "outputs": [
    {
     "data": {
      "text/plain": [
       "1601903284.827229"
      ]
     },
     "execution_count": 1,
     "metadata": {},
     "output_type": "execute_result"
    }
   ],
   "source": [
    "dataset.completed_timestamp_raw"
   ]
  },
  {
   "cell_type": "code",
   "execution_count": 21,
   "metadata": {
    "execution": {
     "iopub.execute_input": "2020-10-05T13:08:05.406729Z",
     "iopub.status.busy": "2020-10-05T13:08:05.405614Z",
     "iopub.status.idle": "2020-10-05T13:08:05.408522Z",
     "shell.execute_reply": "2020-10-05T13:08:05.409047Z"
    }
   },
   "outputs": [
    {
     "data": {
      "text/plain": [
       "'2020-10-05 13:08:04'"
      ]
     },
     "execution_count": 1,
     "metadata": {},
     "output_type": "execute_result"
    }
   ],
   "source": [
    "dataset.completed_timestamp()"
   ]
  },
  {
   "cell_type": "markdown",
   "metadata": {},
   "source": [
    "### Snapshot\n",
    "\n",
    "The snapshot of the `Station` at the moment the measurement started is stored in the `DataSet`, and is available via `snapshot` property that returns the snapshot as a Python dictionary:"
   ]
  },
  {
   "cell_type": "code",
   "execution_count": 22,
   "metadata": {
    "execution": {
     "iopub.execute_input": "2020-10-05T13:08:05.412629Z",
     "iopub.status.busy": "2020-10-05T13:08:05.411545Z",
     "iopub.status.idle": "2020-10-05T13:08:05.415790Z",
     "shell.execute_reply": "2020-10-05T13:08:05.415253Z"
    }
   },
   "outputs": [
    {
     "data": {
      "text/plain": [
       "{'station': {'instruments': {},\n",
       "  'parameters': {'force_side': {'__class__': 'qcodes.instrument.parameter.Parameter',\n",
       "    'full_name': 'force_side',\n",
       "    'value': 'dark',\n",
       "    'raw_value': 'dark',\n",
       "    'ts': '2020-10-05 13:08:03',\n",
       "    'inter_delay': 0,\n",
       "    'name': 'force_side',\n",
       "    'unit': '',\n",
       "    'label': 'Side of the Force',\n",
       "    'post_delay': 0}},\n",
       "  'components': {},\n",
       "  'config': None}}"
      ]
     },
     "execution_count": 1,
     "metadata": {},
     "output_type": "execute_result"
    }
   ],
   "source": [
    "dataset.snapshot"
   ]
  },
  {
   "cell_type": "markdown",
   "metadata": {},
   "source": [
    "If needed, `snapshot_raw` property of the `DataSet` can be used to retrieve the snapshot in the way it is persisted - it's a JSON-formatted string:"
   ]
  },
  {
   "cell_type": "code",
   "execution_count": 23,
   "metadata": {
    "execution": {
     "iopub.execute_input": "2020-10-05T13:08:05.419431Z",
     "iopub.status.busy": "2020-10-05T13:08:05.418068Z",
     "iopub.status.idle": "2020-10-05T13:08:05.421694Z",
     "shell.execute_reply": "2020-10-05T13:08:05.421227Z"
    }
   },
   "outputs": [
    {
     "data": {
      "text/plain": [
       "'{\"station\": {\"instruments\": {}, \"parameters\": {\"force_side\": {\"__class__\": \"qcodes.instrument.parameter.Parameter\", \"full_name\": \"force_side\", \"value\": \"dark\", \"raw_value\": \"dark\", \"ts\": \"2020-10-05 13:08:03\", \"inter_delay\": 0, \"name\": \"force_side\", \"unit\": \"\", \"label\": \"Side of the Force\", \"post_delay\": 0}}, \"components\": {}, \"config\": null}}'"
      ]
     },
     "execution_count": 1,
     "metadata": {},
     "output_type": "execute_result"
    }
   ],
   "source": [
    "dataset.snapshot_raw"
   ]
  },
  {
   "cell_type": "markdown",
   "metadata": {},
   "source": [
    "### Parent dataset links\n",
    "\n",
    "The feature of linking `DataSet`s is described in detail in a separate [Linking to parent datasets](Linking to parent datasets.ipynb) notebook, hence here we will just mention the `parent_dataset_links` property:"
   ]
  },
  {
   "cell_type": "code",
   "execution_count": 24,
   "metadata": {
    "execution": {
     "iopub.execute_input": "2020-10-05T13:08:05.425659Z",
     "iopub.status.busy": "2020-10-05T13:08:05.425156Z",
     "iopub.status.idle": "2020-10-05T13:08:05.427473Z",
     "shell.execute_reply": "2020-10-05T13:08:05.428038Z"
    }
   },
   "outputs": [
    {
     "data": {
      "text/plain": [
       "[]"
      ]
     },
     "execution_count": 1,
     "metadata": {},
     "output_type": "execute_result"
    }
   ],
   "source": [
    "dataset.parent_dataset_links"
   ]
  },
  {
   "cell_type": "markdown",
   "metadata": {},
   "source": [
    "### Note on DataSet states\n",
    "\n",
    "The `DataSet` object publicly exposes properties which give information about its state. However, users are expected to always get `DataSet` objects in their \"final\", last, unmodifiable state. This means that the \"state\" properties of the dataset will have the following values:"
   ]
  },
  {
   "cell_type": "code",
   "execution_count": 25,
   "metadata": {
    "execution": {
     "iopub.execute_input": "2020-10-05T13:08:05.431976Z",
     "iopub.status.busy": "2020-10-05T13:08:05.431492Z",
     "iopub.status.idle": "2020-10-05T13:08:05.433306Z",
     "shell.execute_reply": "2020-10-05T13:08:05.433794Z"
    }
   },
   "outputs": [
    {
     "data": {
      "text/plain": [
       "True"
      ]
     },
     "execution_count": 1,
     "metadata": {},
     "output_type": "execute_result"
    }
   ],
   "source": [
    "dataset.completed"
   ]
  },
  {
   "cell_type": "code",
   "execution_count": 26,
   "metadata": {
    "execution": {
     "iopub.execute_input": "2020-10-05T13:08:05.436573Z",
     "iopub.status.busy": "2020-10-05T13:08:05.435981Z",
     "iopub.status.idle": "2020-10-05T13:08:05.439842Z",
     "shell.execute_reply": "2020-10-05T13:08:05.439325Z"
    }
   },
   "outputs": [
    {
     "data": {
      "text/plain": [
       "True"
      ]
     },
     "execution_count": 1,
     "metadata": {},
     "output_type": "execute_result"
    }
   ],
   "source": [
    "dataset.started"
   ]
  },
  {
   "cell_type": "code",
   "execution_count": 27,
   "metadata": {
    "execution": {
     "iopub.execute_input": "2020-10-05T13:08:05.443566Z",
     "iopub.status.busy": "2020-10-05T13:08:05.442478Z",
     "iopub.status.idle": "2020-10-05T13:08:05.446333Z",
     "shell.execute_reply": "2020-10-05T13:08:05.446724Z"
    }
   },
   "outputs": [
    {
     "data": {
      "text/plain": [
       "False"
      ]
     },
     "execution_count": 1,
     "metadata": {},
     "output_type": "execute_result"
    }
   ],
   "source": [
    "dataset.running"
   ]
  },
  {
   "cell_type": "code",
   "execution_count": 28,
   "metadata": {
    "execution": {
     "iopub.execute_input": "2020-10-05T13:08:05.450126Z",
     "iopub.status.busy": "2020-10-05T13:08:05.449615Z",
     "iopub.status.idle": "2020-10-05T13:08:05.452316Z",
     "shell.execute_reply": "2020-10-05T13:08:05.451753Z"
    }
   },
   "outputs": [
    {
     "data": {
      "text/plain": [
       "False"
      ]
     },
     "execution_count": 1,
     "metadata": {},
     "output_type": "execute_result"
    }
   ],
   "source": [
    "dataset.pristine"
   ]
  },
  {
   "cell_type": "markdown",
   "metadata": {},
   "source": [
    "### Note on metadata\n",
    "\n",
    "`DataSet` object also supports storing arbitrary \"metadata\" inside it, however, this feature is not complete and may be flaky and buggy at the moment. Yet, for completeness of this article we still mention the `metadata` property of the `DataSet`:"
   ]
  },
  {
   "cell_type": "code",
   "execution_count": 29,
   "metadata": {
    "execution": {
     "iopub.execute_input": "2020-10-05T13:08:05.456552Z",
     "iopub.status.busy": "2020-10-05T13:08:05.455986Z",
     "iopub.status.idle": "2020-10-05T13:08:05.458436Z",
     "shell.execute_reply": "2020-10-05T13:08:05.458960Z"
    }
   },
   "outputs": [
    {
     "data": {
      "text/plain": [
       "{}"
      ]
     },
     "execution_count": 1,
     "metadata": {},
     "output_type": "execute_result"
    }
   ],
   "source": [
    "dataset.metadata"
   ]
  },
  {
   "cell_type": "markdown",
   "metadata": {},
   "source": [
    "## Parameters in DataSet\n",
    "\n",
    "In this section we are getting information about the parameters stored in the given `DataSet`."
   ]
  },
  {
   "cell_type": "markdown",
   "metadata": {},
   "source": [
    "### Interdependencies\n",
    "\n",
    "`DataSet` object has a `description` property that returns a `RunDescriber` object. The `RunDescriber` object in turn contains information about the parameters under its `interdeps` attribute:"
   ]
  },
  {
   "cell_type": "code",
   "execution_count": 30,
   "metadata": {
    "execution": {
     "iopub.execute_input": "2020-10-05T13:08:05.463738Z",
     "iopub.status.busy": "2020-10-05T13:08:05.463179Z",
     "iopub.status.idle": "2020-10-05T13:08:05.465595Z",
     "shell.execute_reply": "2020-10-05T13:08:05.466077Z"
    }
   },
   "outputs": [
    {
     "data": {
      "text/plain": [
       "InterDependencies_(dependencies={ParamSpecBase('y', 'numeric', 'Voltage', 'V'): (ParamSpecBase('x', 'numeric', 'Voltage', 'V'), ParamSpecBase('t', 'numeric', 'Time', 's')), ParamSpecBase('y2', 'numeric', 'Current', 'A'): (ParamSpecBase('x', 'numeric', 'Voltage', 'V'), ParamSpecBase('t', 'numeric', 'Time', 's'))}, inferences={}, standalones=frozenset())"
      ]
     },
     "execution_count": 1,
     "metadata": {},
     "output_type": "execute_result"
    }
   ],
   "source": [
    "interdeps = dataset.description.interdeps\n",
    "interdeps"
   ]
  },
  {
   "cell_type": "markdown",
   "metadata": {},
   "source": [
    "This is `InterDependencies_` object, it stores information about every parameter in the form of `ParamSpecBase` objects, and the releationship between parameters via `dependencies`, `inferences`, and `standalones` attributes."
   ]
  },
  {
   "cell_type": "markdown",
   "metadata": {},
   "source": [
    "For example, the dataset that we are inspecting contains no inferences, and no standalone parameters, but it contains two dependent parameters `y` and `y2`, which both depend on independent `x` and `t` parameters:"
   ]
  },
  {
   "cell_type": "code",
   "execution_count": 31,
   "metadata": {
    "execution": {
     "iopub.execute_input": "2020-10-05T13:08:05.469418Z",
     "iopub.status.busy": "2020-10-05T13:08:05.468949Z",
     "iopub.status.idle": "2020-10-05T13:08:05.471732Z",
     "shell.execute_reply": "2020-10-05T13:08:05.471209Z"
    }
   },
   "outputs": [
    {
     "data": {
      "text/plain": [
       "{}"
      ]
     },
     "execution_count": 1,
     "metadata": {},
     "output_type": "execute_result"
    }
   ],
   "source": [
    "interdeps.inferences"
   ]
  },
  {
   "cell_type": "code",
   "execution_count": 32,
   "metadata": {
    "execution": {
     "iopub.execute_input": "2020-10-05T13:08:05.475035Z",
     "iopub.status.busy": "2020-10-05T13:08:05.474288Z",
     "iopub.status.idle": "2020-10-05T13:08:05.477762Z",
     "shell.execute_reply": "2020-10-05T13:08:05.477227Z"
    }
   },
   "outputs": [
    {
     "data": {
      "text/plain": [
       "frozenset()"
      ]
     },
     "execution_count": 1,
     "metadata": {},
     "output_type": "execute_result"
    }
   ],
   "source": [
    "interdeps.standalones"
   ]
  },
  {
   "cell_type": "code",
   "execution_count": 33,
   "metadata": {
    "execution": {
     "iopub.execute_input": "2020-10-05T13:08:05.480743Z",
     "iopub.status.busy": "2020-10-05T13:08:05.479849Z",
     "iopub.status.idle": "2020-10-05T13:08:05.483597Z",
     "shell.execute_reply": "2020-10-05T13:08:05.483056Z"
    }
   },
   "outputs": [
    {
     "data": {
      "text/plain": [
       "{ParamSpecBase('y', 'numeric', 'Voltage', 'V'): (ParamSpecBase('x', 'numeric', 'Voltage', 'V'),\n",
       "  ParamSpecBase('t', 'numeric', 'Time', 's')),\n",
       " ParamSpecBase('y2', 'numeric', 'Current', 'A'): (ParamSpecBase('x', 'numeric', 'Voltage', 'V'),\n",
       "  ParamSpecBase('t', 'numeric', 'Time', 's'))}"
      ]
     },
     "execution_count": 1,
     "metadata": {},
     "output_type": "execute_result"
    }
   ],
   "source": [
    "interdeps.dependencies"
   ]
  },
  {
   "cell_type": "code",
   "execution_count": 34,
   "metadata": {
    "execution": {
     "iopub.execute_input": "2020-10-05T13:08:05.488202Z",
     "iopub.status.busy": "2020-10-05T13:08:05.487697Z",
     "iopub.status.idle": "2020-10-05T13:08:05.489671Z",
     "shell.execute_reply": "2020-10-05T13:08:05.490157Z"
    }
   },
   "outputs": [
    {
     "name": "stdout",
     "output_type": "stream",
     "text": [
      "Parameter ParamSpecBase('y', 'numeric', 'Voltage', 'V') depends on:\n",
      "- ParamSpecBase('x', 'numeric', 'Voltage', 'V')\n",
      "- ParamSpecBase('t', 'numeric', 'Time', 's')\n"
     ]
    }
   ],
   "source": [
    "ps = list(interdeps.dependencies.keys())[0]\n",
    "\n",
    "print(f'Parameter {ps} depends on:')\n",
    "\n",
    "for p in interdeps.dependencies[ps]:\n",
    "    print(f'- {p}')"
   ]
  },
  {
   "cell_type": "markdown",
   "metadata": {},
   "source": [
    "Note that `ParamSpecBase` objects contain all the necessary information about a parameter, including its `name` and `unit`:"
   ]
  },
  {
   "cell_type": "code",
   "execution_count": 35,
   "metadata": {
    "execution": {
     "iopub.execute_input": "2020-10-05T13:08:05.494171Z",
     "iopub.status.busy": "2020-10-05T13:08:05.493605Z",
     "iopub.status.idle": "2020-10-05T13:08:05.495513Z",
     "shell.execute_reply": "2020-10-05T13:08:05.496039Z"
    }
   },
   "outputs": [
    {
     "name": "stdout",
     "output_type": "stream",
     "text": [
      "Parameter 'y' is in 'V'\n"
     ]
    }
   ],
   "source": [
    "ps = list(interdeps.dependencies.keys())[0]\n",
    "print(f'Parameter {ps.name!r} is in {ps.unit!r}')"
   ]
  },
  {
   "cell_type": "markdown",
   "metadata": {},
   "source": [
    "More information on how to work with this object is provided in a separate example notebook, [Accessing data in DataSet](Accessing-data-in-DataSet.ipynb)."
   ]
  },
  {
   "cell_type": "markdown",
   "metadata": {},
   "source": [
    "### Shortcuts to important parameters\n",
    "\n",
    "For the frequently needed groups of parameters, `DataSet` object itself provides convenient methods.\n",
    "\n",
    "For example, use `dependent_parameters` property to get a only dependent parameters of a given `DataSet`:"
   ]
  },
  {
   "cell_type": "code",
   "execution_count": 36,
   "metadata": {
    "execution": {
     "iopub.execute_input": "2020-10-05T13:08:05.498925Z",
     "iopub.status.busy": "2020-10-05T13:08:05.498373Z",
     "iopub.status.idle": "2020-10-05T13:08:05.501491Z",
     "shell.execute_reply": "2020-10-05T13:08:05.501957Z"
    }
   },
   "outputs": [
    {
     "data": {
      "text/plain": [
       "(ParamSpecBase('y', 'numeric', 'Voltage', 'V'),\n",
       " ParamSpecBase('y2', 'numeric', 'Current', 'A'))"
      ]
     },
     "execution_count": 1,
     "metadata": {},
     "output_type": "execute_result"
    }
   ],
   "source": [
    "dataset.dependent_parameters"
   ]
  },
  {
   "cell_type": "markdown",
   "metadata": {},
   "source": [
    "### Note on ParamSpec's\n",
    "\n",
    "> `ParamSpec`s originate from QCoDeS versions prior to `0.2.0` and for now are kept for backwards compatibility. `ParamSpec`s are completely superseded by `InterDependencies_`/`ParamSpecBase` bundle and will likely be deprecated in future versions of QCoDeS together with the `DataSet` methods/properties that return `ParamSpec`s objects.\n",
    "\n",
    "In addition to the `Interdependencies_` object, `DataSet` also holds `ParamSpec` objects (not to be confused with `ParamSpecBase` objects from above). Similar to `Interdependencies_` object, the `ParamSpec` objects hold information about parameters and their interdependencies but in a different way: for a given parameter, `ParamSpec` object itself contains information on names of parameters that it depends on, while for the `InterDependencies_`/`ParamSpecBase`s this information is stored only in the `InterDependencies_` object.\n",
    "\n",
    "`DataSet` exposes `paramspecs` property and `get_parameters()` method, both of which return `ParamSpec` objects of all the parameters of the dataset, and are not recommended for use:"
   ]
  },
  {
   "cell_type": "code",
   "execution_count": 37,
   "metadata": {
    "execution": {
     "iopub.execute_input": "2020-10-05T13:08:05.504830Z",
     "iopub.status.busy": "2020-10-05T13:08:05.504046Z",
     "iopub.status.idle": "2020-10-05T13:08:05.508249Z",
     "shell.execute_reply": "2020-10-05T13:08:05.507696Z"
    }
   },
   "outputs": [
    {
     "data": {
      "text/plain": [
       "{'x': ParamSpec('x', 'numeric', 'Voltage', 'V', inferred_from=[], depends_on=[]),\n",
       " 't': ParamSpec('t', 'numeric', 'Time', 's', inferred_from=[], depends_on=[]),\n",
       " 'y': ParamSpec('y', 'numeric', 'Voltage', 'V', inferred_from=[], depends_on=['x', 't']),\n",
       " 'y2': ParamSpec('y2', 'numeric', 'Current', 'A', inferred_from=[], depends_on=['x', 't'])}"
      ]
     },
     "execution_count": 1,
     "metadata": {},
     "output_type": "execute_result"
    }
   ],
   "source": [
    "dataset.paramspecs"
   ]
  },
  {
   "cell_type": "code",
   "execution_count": 38,
   "metadata": {
    "execution": {
     "iopub.execute_input": "2020-10-05T13:08:05.510722Z",
     "iopub.status.busy": "2020-10-05T13:08:05.510201Z",
     "iopub.status.idle": "2020-10-05T13:08:05.514652Z",
     "shell.execute_reply": "2020-10-05T13:08:05.514112Z"
    }
   },
   "outputs": [
    {
     "data": {
      "text/plain": [
       "[ParamSpec('x', 'numeric', 'Voltage', 'V', inferred_from=[], depends_on=[]),\n",
       " ParamSpec('t', 'numeric', 'Time', 's', inferred_from=[], depends_on=[]),\n",
       " ParamSpec('y', 'numeric', 'Voltage', 'V', inferred_from=[], depends_on=['x', 't']),\n",
       " ParamSpec('y2', 'numeric', 'Current', 'A', inferred_from=[], depends_on=['x', 't'])]"
      ]
     },
     "execution_count": 1,
     "metadata": {},
     "output_type": "execute_result"
    }
   ],
   "source": [
    "dataset.get_parameters()"
   ]
  },
  {
   "cell_type": "markdown",
   "metadata": {},
   "source": [
    "Lastly, `DataSet` has `parameters` that returns a string with comma-separated names of all the dataset parameters (will likely be deprecated soon):"
   ]
  },
  {
   "cell_type": "code",
   "execution_count": 39,
   "metadata": {
    "execution": {
     "iopub.execute_input": "2020-10-05T13:08:05.517378Z",
     "iopub.status.busy": "2020-10-05T13:08:05.516892Z",
     "iopub.status.idle": "2020-10-05T13:08:05.520127Z",
     "shell.execute_reply": "2020-10-05T13:08:05.520576Z"
    }
   },
   "outputs": [
    {
     "data": {
      "text/plain": [
       "'x,t,y,y2'"
      ]
     },
     "execution_count": 1,
     "metadata": {},
     "output_type": "execute_result"
    }
   ],
   "source": [
    "dataset.parameters"
   ]
  },
  {
   "cell_type": "markdown",
   "metadata": {},
   "source": [
    "## Data access in DataSet\n",
    "\n",
    "`DataSet` provides one main method of accessing data - `get_parameter_data`. It returns data for groups of dependent-parameter-and-its-independent-parameters in a form of a nested dictionary of `numpy` arrays:"
   ]
  },
  {
   "cell_type": "code",
   "execution_count": 40,
   "metadata": {
    "execution": {
     "iopub.execute_input": "2020-10-05T13:08:05.523966Z",
     "iopub.status.busy": "2020-10-05T13:08:05.523415Z",
     "iopub.status.idle": "2020-10-05T13:08:05.557188Z",
     "shell.execute_reply": "2020-10-05T13:08:05.556701Z"
    }
   },
   "outputs": [
    {
     "data": {
      "text/plain": [
       "{'y': {'y': array([-0.5       , -0.41666667, -0.33333333, ...,  1.33333333,\n",
       "          1.41666667,  1.5       ]),\n",
       "  'x': array([-4., -4., -4., ...,  5.,  5.,  5.]),\n",
       "  't': array([-500.        , -416.66666667, -333.33333333, ..., 1333.33333333,\n",
       "         1416.66666667, 1500.        ])},\n",
       " 'y2': {'y2': array([ 0.5       ,  0.41666667,  0.33333333, ..., -1.33333333,\n",
       "         -1.41666667, -1.5       ]),\n",
       "  'x': array([-4., -4., -4., ...,  5.,  5.,  5.]),\n",
       "  't': array([-500.        , -416.66666667, -333.33333333, ..., 1333.33333333,\n",
       "         1416.66666667, 1500.        ])}}"
      ]
     },
     "execution_count": 1,
     "metadata": {},
     "output_type": "execute_result"
    }
   ],
   "source": [
    "dataset.get_parameter_data()"
   ]
  },
  {
   "cell_type": "markdown",
   "metadata": {},
   "source": [
    "Additionally, `DataSet` provides the following convenient methods:\n",
    "\n",
    "* `DataSet.get_data_as_pandas_dataframe` ([more info in Working with pandas and xarray article](Working-With-Pandas-and-XArray.ipynb))\n",
    "* `DataSet.write_data_to_text_file`"
   ]
  },
  {
   "cell_type": "markdown",
   "metadata": {},
   "source": [
    "More information on how to access data in a dataset is provided in a separate example notebook, [Accessing data in DataSet](Accessing-data-in-DataSet.ipynb)."
   ]
  },
  {
   "cell_type": "markdown",
   "metadata": {},
   "source": [
    "Note that `get_parameter_data` reads the data from the database at each call. If you need to re read data from the database either from a separate process while writing the data or after the data acquisition consider using the [dataset cache](Cache/read_data_from_cache.ipynb)"
   ]
  },
  {
   "cell_type": "markdown",
   "metadata": {},
   "source": [
    "### Not recommended data access methods"
   ]
  },
  {
   "cell_type": "markdown",
   "metadata": {},
   "source": [
    "`DataSet` provides a property `number_of_results` which reflects the size of the data the dataset holds. For our example dataset, this number is equal to the number of `x` values multiplied by the number of `t` values multiplied by the number of dependent parameters (`y` and `y2`) -- `50 * 25 * 2`:"
   ]
  },
  {
   "cell_type": "code",
   "execution_count": 41,
   "metadata": {
    "execution": {
     "iopub.execute_input": "2020-10-05T13:08:05.561619Z",
     "iopub.status.busy": "2020-10-05T13:08:05.560554Z",
     "iopub.status.idle": "2020-10-05T13:08:05.563500Z",
     "shell.execute_reply": "2020-10-05T13:08:05.563968Z"
    },
    "scrolled": true
   },
   "outputs": [
    {
     "data": {
      "text/plain": [
       "2500"
      ]
     },
     "execution_count": 1,
     "metadata": {},
     "output_type": "execute_result"
    }
   ],
   "source": [
    "dataset.number_of_results"
   ]
  },
  {
   "cell_type": "markdown",
   "metadata": {},
   "source": [
    "## What about the rest?\n",
    "\n",
    "An interested user might discover other methods and properties of the `DataSet` class that are not mentioned here. Those methods and properties are likely to be made private or deprecated in future QCoDeS releases... or be documented and presented for use :)"
   ]
  }
 ],
 "metadata": {
  "kernelspec": {
   "display_name": "Python 3",
   "language": "python",
   "name": "python3"
  },
  "language_info": {
   "codemirror_mode": {
    "name": "ipython",
    "version": 3
   },
   "file_extension": ".py",
   "mimetype": "text/x-python",
   "name": "python",
   "nbconvert_exporter": "python",
   "pygments_lexer": "ipython3",
   "version": "3.7.7"
  },
  "toc": {
   "base_numbering": 1,
   "nav_menu": {},
   "number_sections": true,
   "sideBar": true,
   "skip_h1_title": false,
   "title_cell": "Table of Contents",
   "title_sidebar": "Contents",
   "toc_cell": false,
   "toc_position": {},
   "toc_section_display": true,
   "toc_window_display": false
  },
  "varInspector": {
   "cols": {
    "lenName": 16,
    "lenType": 16,
    "lenVar": 40
   },
   "kernels_config": {
    "python": {
     "delete_cmd_postfix": "",
     "delete_cmd_prefix": "del ",
     "library": "var_list.py",
     "varRefreshCmd": "print(var_dic_list())"
    },
    "r": {
     "delete_cmd_postfix": ") ",
     "delete_cmd_prefix": "rm(",
     "library": "var_list.r",
     "varRefreshCmd": "cat(var_dic_list()) "
    }
   },
   "types_to_exclude": [
    "module",
    "function",
    "builtin_function_or_method",
    "instance",
    "_Feature"
   ],
   "window_display": false
  }
 },
 "nbformat": 4,
 "nbformat_minor": 2
}
