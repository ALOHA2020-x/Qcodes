{
 "cells": [
  {
   "cell_type": "markdown",
   "metadata": {},
   "source": [
    "# Subscriber with JSON export\n",
    "\n",
    "__NOTE__: this is an __outdated__ notebook, some of the functions that are used here are considered __private__ to QCoDeS and are not intended for use by users (for example, `DataSet.subscribe`). This notebook will be re-written in the future."
   ]
  },
  {
   "cell_type": "code",
   "execution_count": 1,
   "metadata": {
    "execution": {
     "iopub.execute_input": "2021-01-03T11:53:25.894501Z",
     "iopub.status.busy": "2021-01-03T11:53:25.893914Z",
     "iopub.status.idle": "2021-01-03T11:53:25.979206Z",
     "shell.execute_reply": "2021-01-03T11:53:25.979875Z"
    }
   },
   "outputs": [],
   "source": [
    "import logging\n",
    "import copy\n",
    "import numpy as np\n",
    "import json"
   ]
  },
  {
   "cell_type": "code",
   "execution_count": 2,
   "metadata": {
    "execution": {
     "iopub.execute_input": "2021-01-03T11:53:25.984365Z",
     "iopub.status.busy": "2021-01-03T11:53:25.983730Z",
     "iopub.status.idle": "2021-01-03T11:53:27.175689Z",
     "shell.execute_reply": "2021-01-03T11:53:27.175077Z"
    }
   },
   "outputs": [
    {
     "name": "stdout",
     "output_type": "stream",
     "text": [
      "Logging hadn't been started.\n",
      "Activating auto-logging. Current session state plus future input saved.\n",
      "Filename       : /home/vsts/.qcodes/logs/command_history.log\n",
      "Mode           : append\n",
      "Output logging : True\n",
      "Raw input log  : False\n",
      "Timestamping   : True\n",
      "State          : active\n"
     ]
    },
    {
     "name": "stdout",
     "output_type": "stream",
     "text": [
      "Qcodes Logfile : /home/vsts/.qcodes/logs/210103-16295-qcodes.log\n"
     ]
    }
   ],
   "source": [
    "from qcodes import load_or_create_experiment, new_data_set, ParamSpec\n",
    "from qcodes.dataset.json_exporter import \\\n",
    "    json_template_heatmap, json_template_linear, \\\n",
    "    export_data_as_json_heatmap, export_data_as_json_linear"
   ]
  },
  {
   "cell_type": "code",
   "execution_count": 3,
   "metadata": {
    "execution": {
     "iopub.execute_input": "2021-01-03T11:53:27.180355Z",
     "iopub.status.busy": "2021-01-03T11:53:27.179665Z",
     "iopub.status.idle": "2021-01-03T11:53:27.184016Z",
     "shell.execute_reply": "2021-01-03T11:53:27.183414Z"
    }
   },
   "outputs": [],
   "source": [
    "logging.basicConfig(level=\"INFO\")"
   ]
  },
  {
   "cell_type": "code",
   "execution_count": 4,
   "metadata": {
    "execution": {
     "iopub.execute_input": "2021-01-03T11:53:27.187989Z",
     "iopub.status.busy": "2021-01-03T11:53:27.187309Z",
     "iopub.status.idle": "2021-01-03T11:53:27.197854Z",
     "shell.execute_reply": "2021-01-03T11:53:27.197161Z"
    }
   },
   "outputs": [],
   "source": [
    "exp = load_or_create_experiment('json-export-subscriber-test', 'no-sample')"
   ]
  },
  {
   "cell_type": "code",
   "execution_count": 5,
   "metadata": {
    "execution": {
     "iopub.execute_input": "2021-01-03T11:53:27.202590Z",
     "iopub.status.busy": "2021-01-03T11:53:27.201958Z",
     "iopub.status.idle": "2021-01-03T11:53:27.215319Z",
     "shell.execute_reply": "2021-01-03T11:53:27.215826Z"
    }
   },
   "outputs": [],
   "source": [
    "dataSet = new_data_set(\"test\",\n",
    "                       exp_id=exp.exp_id,\n",
    "                       specs=[ParamSpec(\"x\", \"numeric\"), ParamSpec(\"y\", \"numeric\")])\n",
    "dataSet.mark_started()"
   ]
  },
  {
   "cell_type": "code",
   "execution_count": 6,
   "metadata": {
    "execution": {
     "iopub.execute_input": "2021-01-03T11:53:27.222505Z",
     "iopub.status.busy": "2021-01-03T11:53:27.221181Z",
     "iopub.status.idle": "2021-01-03T11:53:27.223128Z",
     "shell.execute_reply": "2021-01-03T11:53:27.223824Z"
    }
   },
   "outputs": [],
   "source": [
    "mystate = {}\n",
    "mystate['json'] = copy.deepcopy(json_template_linear)\n",
    "mystate['json']['x']['name'] = 'xname'\n",
    "mystate['json']['x']['unit'] = 'xunit'\n",
    "mystate['json']['x']['full_name'] = 'xfullname'\n",
    "mystate['json']['y']['name'] = 'yname'\n",
    "mystate['json']['y']['unit'] = 'yunit'\n",
    "mystate['json']['y']['full_name'] = 'yfullname'"
   ]
  },
  {
   "cell_type": "code",
   "execution_count": 7,
   "metadata": {
    "execution": {
     "iopub.execute_input": "2021-01-03T11:53:27.228723Z",
     "iopub.status.busy": "2021-01-03T11:53:27.227903Z",
     "iopub.status.idle": "2021-01-03T11:53:27.233112Z",
     "shell.execute_reply": "2021-01-03T11:53:27.232225Z"
    },
    "scrolled": true
   },
   "outputs": [],
   "source": [
    "sub_id = dataSet.subscribe(export_data_as_json_linear, min_wait=0, min_count=20,\n",
    "                           state=mystate, callback_kwargs={'location': 'foo'})"
   ]
  },
  {
   "cell_type": "code",
   "execution_count": 8,
   "metadata": {
    "execution": {
     "iopub.execute_input": "2021-01-03T11:53:27.237433Z",
     "iopub.status.busy": "2021-01-03T11:53:27.236515Z",
     "iopub.status.idle": "2021-01-03T11:53:27.243266Z",
     "shell.execute_reply": "2021-01-03T11:53:27.244109Z"
    }
   },
   "outputs": [],
   "source": [
    "s = dataSet.subscribers[sub_id]"
   ]
  },
  {
   "cell_type": "code",
   "execution_count": 9,
   "metadata": {
    "execution": {
     "iopub.execute_input": "2021-01-03T11:53:27.256630Z",
     "iopub.status.busy": "2021-01-03T11:53:27.255634Z",
     "iopub.status.idle": "2021-01-03T11:53:27.261131Z",
     "shell.execute_reply": "2021-01-03T11:53:27.261732Z"
    },
    "scrolled": true
   },
   "outputs": [
    {
     "data": {
      "text/plain": [
       "{'json': {'type': 'linear',\n",
       "  'x': {'data': [],\n",
       "   'name': 'xname',\n",
       "   'full_name': 'xfullname',\n",
       "   'is_setpoint': True,\n",
       "   'unit': 'xunit'},\n",
       "  'y': {'data': [],\n",
       "   'name': 'yname',\n",
       "   'full_name': 'yfullname',\n",
       "   'is_setpoint': False,\n",
       "   'unit': 'yunit'}}}"
      ]
     },
     "execution_count": 1,
     "metadata": {},
     "output_type": "execute_result"
    }
   ],
   "source": [
    "mystate"
   ]
  },
  {
   "cell_type": "code",
   "execution_count": 10,
   "metadata": {
    "execution": {
     "iopub.execute_input": "2021-01-03T11:53:27.267658Z",
     "iopub.status.busy": "2021-01-03T11:53:27.264401Z",
     "iopub.status.idle": "2021-01-03T11:53:27.412821Z",
     "shell.execute_reply": "2021-01-03T11:53:27.412183Z"
    },
    "scrolled": false
   },
   "outputs": [],
   "source": [
    "for x in range(100):\n",
    "    y = x\n",
    "    dataSet.add_results([{\"x\":x, \"y\":y}])\n",
    "dataSet.mark_completed()"
   ]
  },
  {
   "cell_type": "code",
   "execution_count": 11,
   "metadata": {
    "execution": {
     "iopub.execute_input": "2021-01-03T11:53:27.421136Z",
     "iopub.status.busy": "2021-01-03T11:53:27.415875Z",
     "iopub.status.idle": "2021-01-03T11:53:27.426920Z",
     "shell.execute_reply": "2021-01-03T11:53:27.426113Z"
    },
    "scrolled": true
   },
   "outputs": [
    {
     "data": {
      "text/plain": [
       "{'json': {'type': 'linear',\n",
       "  'x': {'data': [0,\n",
       "    1,\n",
       "    2,\n",
       "    3,\n",
       "    4,\n",
       "    5,\n",
       "    6,\n",
       "    7,\n",
       "    8,\n",
       "    9,\n",
       "    10,\n",
       "    11,\n",
       "    12,\n",
       "    13,\n",
       "    14,\n",
       "    15,\n",
       "    16,\n",
       "    17,\n",
       "    18,\n",
       "    19,\n",
       "    20,\n",
       "    21,\n",
       "    22,\n",
       "    23,\n",
       "    24,\n",
       "    25,\n",
       "    26,\n",
       "    27,\n",
       "    28,\n",
       "    29,\n",
       "    30,\n",
       "    31,\n",
       "    32,\n",
       "    33,\n",
       "    34,\n",
       "    35,\n",
       "    36,\n",
       "    37,\n",
       "    38,\n",
       "    39,\n",
       "    40,\n",
       "    41,\n",
       "    42,\n",
       "    43,\n",
       "    44,\n",
       "    45,\n",
       "    46,\n",
       "    47,\n",
       "    48,\n",
       "    49,\n",
       "    50,\n",
       "    51,\n",
       "    52,\n",
       "    53,\n",
       "    54,\n",
       "    55,\n",
       "    56,\n",
       "    57,\n",
       "    58,\n",
       "    59,\n",
       "    60,\n",
       "    61,\n",
       "    62,\n",
       "    63,\n",
       "    64,\n",
       "    65,\n",
       "    66,\n",
       "    67,\n",
       "    68,\n",
       "    69,\n",
       "    70,\n",
       "    71,\n",
       "    72,\n",
       "    73,\n",
       "    74,\n",
       "    75,\n",
       "    76,\n",
       "    77,\n",
       "    78,\n",
       "    79,\n",
       "    80,\n",
       "    81,\n",
       "    82,\n",
       "    83,\n",
       "    84,\n",
       "    85,\n",
       "    86,\n",
       "    87,\n",
       "    88,\n",
       "    89,\n",
       "    90,\n",
       "    91,\n",
       "    92,\n",
       "    93,\n",
       "    94,\n",
       "    95,\n",
       "    96,\n",
       "    97,\n",
       "    98,\n",
       "    99],\n",
       "   'name': 'xname',\n",
       "   'full_name': 'xfullname',\n",
       "   'is_setpoint': True,\n",
       "   'unit': 'xunit'},\n",
       "  'y': {'data': [0,\n",
       "    1,\n",
       "    2,\n",
       "    3,\n",
       "    4,\n",
       "    5,\n",
       "    6,\n",
       "    7,\n",
       "    8,\n",
       "    9,\n",
       "    10,\n",
       "    11,\n",
       "    12,\n",
       "    13,\n",
       "    14,\n",
       "    15,\n",
       "    16,\n",
       "    17,\n",
       "    18,\n",
       "    19,\n",
       "    20,\n",
       "    21,\n",
       "    22,\n",
       "    23,\n",
       "    24,\n",
       "    25,\n",
       "    26,\n",
       "    27,\n",
       "    28,\n",
       "    29,\n",
       "    30,\n",
       "    31,\n",
       "    32,\n",
       "    33,\n",
       "    34,\n",
       "    35,\n",
       "    36,\n",
       "    37,\n",
       "    38,\n",
       "    39,\n",
       "    40,\n",
       "    41,\n",
       "    42,\n",
       "    43,\n",
       "    44,\n",
       "    45,\n",
       "    46,\n",
       "    47,\n",
       "    48,\n",
       "    49,\n",
       "    50,\n",
       "    51,\n",
       "    52,\n",
       "    53,\n",
       "    54,\n",
       "    55,\n",
       "    56,\n",
       "    57,\n",
       "    58,\n",
       "    59,\n",
       "    60,\n",
       "    61,\n",
       "    62,\n",
       "    63,\n",
       "    64,\n",
       "    65,\n",
       "    66,\n",
       "    67,\n",
       "    68,\n",
       "    69,\n",
       "    70,\n",
       "    71,\n",
       "    72,\n",
       "    73,\n",
       "    74,\n",
       "    75,\n",
       "    76,\n",
       "    77,\n",
       "    78,\n",
       "    79,\n",
       "    80,\n",
       "    81,\n",
       "    82,\n",
       "    83,\n",
       "    84,\n",
       "    85,\n",
       "    86,\n",
       "    87,\n",
       "    88,\n",
       "    89,\n",
       "    90,\n",
       "    91,\n",
       "    92,\n",
       "    93,\n",
       "    94,\n",
       "    95,\n",
       "    96,\n",
       "    97,\n",
       "    98,\n",
       "    99],\n",
       "   'name': 'yname',\n",
       "   'full_name': 'yfullname',\n",
       "   'is_setpoint': False,\n",
       "   'unit': 'yunit'}}}"
      ]
     },
     "execution_count": 1,
     "metadata": {},
     "output_type": "execute_result"
    }
   ],
   "source": [
    "mystate"
   ]
  },
  {
   "cell_type": "code",
   "execution_count": 12,
   "metadata": {
    "execution": {
     "iopub.execute_input": "2021-01-03T11:53:27.435965Z",
     "iopub.status.busy": "2021-01-03T11:53:27.435148Z",
     "iopub.status.idle": "2021-01-03T11:53:27.439277Z",
     "shell.execute_reply": "2021-01-03T11:53:27.440048Z"
    }
   },
   "outputs": [],
   "source": [
    "mystate = {}\n",
    "xlen = 5\n",
    "ylen = 10\n",
    "mystate['json'] = json_template_heatmap.copy()\n",
    "mystate['data'] = {}\n",
    "mystate['data']['xlen'] = xlen\n",
    "mystate['data']['ylen'] = ylen\n",
    "mystate['data']['x'] = np.zeros((xlen*ylen), dtype=np.object)\n",
    "mystate['data']['x'][:] = None\n",
    "mystate['data']['y'] = np.zeros((xlen*ylen), dtype=np.object)\n",
    "mystate['data']['y'][:] = None\n",
    "mystate['data']['z'] = np.zeros((xlen*ylen), dtype=np.object)\n",
    "mystate['data']['z'][:] = None\n",
    "mystate['data']['location'] = 0"
   ]
  },
  {
   "cell_type": "code",
   "execution_count": 13,
   "metadata": {
    "execution": {
     "iopub.execute_input": "2021-01-03T11:53:27.445047Z",
     "iopub.status.busy": "2021-01-03T11:53:27.444369Z",
     "iopub.status.idle": "2021-01-03T11:53:27.461214Z",
     "shell.execute_reply": "2021-01-03T11:53:27.461805Z"
    }
   },
   "outputs": [],
   "source": [
    "dataSet_hm = new_data_set(\"test\", exp_id=exp.exp_id,\n",
    "                          specs=[ParamSpec(\"x\", \"numeric\"),\n",
    "                                 ParamSpec(\"y\", \"numeric\"),\n",
    "                                 ParamSpec(\"z\", \"numeric\")])\n",
    "dataSet_hm.mark_started()"
   ]
  },
  {
   "cell_type": "code",
   "execution_count": 14,
   "metadata": {
    "execution": {
     "iopub.execute_input": "2021-01-03T11:53:27.467695Z",
     "iopub.status.busy": "2021-01-03T11:53:27.467019Z",
     "iopub.status.idle": "2021-01-03T11:53:27.474728Z",
     "shell.execute_reply": "2021-01-03T11:53:27.475621Z"
    }
   },
   "outputs": [],
   "source": [
    "sub_id = dataSet_hm.subscribe(export_data_as_json_heatmap, min_wait=0, min_count=20,\n",
    "                              state=mystate, callback_kwargs={'location': './foo'})"
   ]
  },
  {
   "cell_type": "code",
   "execution_count": 15,
   "metadata": {
    "execution": {
     "iopub.execute_input": "2021-01-03T11:53:27.479217Z",
     "iopub.status.busy": "2021-01-03T11:53:27.478065Z",
     "iopub.status.idle": "2021-01-03T11:53:27.551331Z",
     "shell.execute_reply": "2021-01-03T11:53:27.550576Z"
    },
    "scrolled": false
   },
   "outputs": [],
   "source": [
    "for x in range(xlen):\n",
    "    for y in range(ylen):\n",
    "        z = x+y\n",
    "        dataSet_hm.add_results([{\"x\":x, \"y\":y, 'z':z}])\n",
    "dataSet_hm.mark_completed()"
   ]
  },
  {
   "cell_type": "code",
   "execution_count": 16,
   "metadata": {
    "execution": {
     "iopub.execute_input": "2021-01-03T11:53:27.561814Z",
     "iopub.status.busy": "2021-01-03T11:53:27.561121Z",
     "iopub.status.idle": "2021-01-03T11:53:27.574665Z",
     "shell.execute_reply": "2021-01-03T11:53:27.573924Z"
    },
    "scrolled": true
   },
   "outputs": [
    {
     "data": {
      "text/plain": [
       "{'type': 'heatmap',\n",
       " 'x': {'data': [0, 0, 0, 0, 0],\n",
       "  'name': '',\n",
       "  'full_name': '',\n",
       "  'is_setpoint': True,\n",
       "  'unit': ''},\n",
       " 'y': {'data': [0, 1, 2, 3, 4, 5, 6, 7, 8, 9],\n",
       "  'name': '',\n",
       "  'full_name': '',\n",
       "  'is_setpoint': True,\n",
       "  'unit': ''},\n",
       " 'z': {'data': [[0, 0, 0, 0, 0, 0, 0, 0, 0, 0],\n",
       "   [1, 1, 1, 1, 1, 1, 1, 1, 1, 1],\n",
       "   [2, 2, 2, 2, 2, 2, 2, 2, 2, 2],\n",
       "   [3, 3, 3, 3, 3, 3, 3, 3, 3, 3],\n",
       "   [4, 4, 4, 4, 4, 4, 4, 4, 4, 4]],\n",
       "  'name': '',\n",
       "  'full_name': '',\n",
       "  'is_setpoint': False,\n",
       "  'unit': ''}}"
      ]
     },
     "execution_count": 1,
     "metadata": {},
     "output_type": "execute_result"
    }
   ],
   "source": [
    "mystate['json']"
   ]
  },
  {
   "cell_type": "code",
   "execution_count": null,
   "metadata": {},
   "outputs": [],
   "source": []
  }
 ],
 "metadata": {
  "kernelspec": {
   "display_name": "Python 3",
   "language": "python",
   "name": "python3"
  },
  "language_info": {
   "codemirror_mode": {
    "name": "ipython",
    "version": 3
   },
   "file_extension": ".py",
   "mimetype": "text/x-python",
   "name": "python",
   "nbconvert_exporter": "python",
   "pygments_lexer": "ipython3",
   "version": "3.7.9"
  }
 },
 "nbformat": 4,
 "nbformat_minor": 2
}
