{
 "cells": [
  {
   "cell_type": "markdown",
   "metadata": {},
   "source": [
    "# Subscriber with JSON export\n",
    "\n",
    "__NOTE__: this is an __outdated__ notebook, some of the functions that are used here are considered __private__ to QCoDeS and are not intended for use by users (for example, `DataSet.subscribe`). This notebook will be re-written in the future."
   ]
  },
  {
   "cell_type": "code",
   "execution_count": 1,
   "metadata": {
    "execution": {
     "iopub.execute_input": "2021-01-31T15:34:42.704885Z",
     "iopub.status.busy": "2021-01-31T15:34:42.704328Z",
     "iopub.status.idle": "2021-01-31T15:34:42.776517Z",
     "shell.execute_reply": "2021-01-31T15:34:42.776940Z"
    }
   },
   "outputs": [],
   "source": [
    "import logging\n",
    "import copy\n",
    "import numpy as np\n",
    "import json"
   ]
  },
  {
   "cell_type": "code",
   "execution_count": 2,
   "metadata": {
    "execution": {
     "iopub.execute_input": "2021-01-31T15:34:42.780467Z",
     "iopub.status.busy": "2021-01-31T15:34:42.779215Z",
     "iopub.status.idle": "2021-01-31T15:34:43.755920Z",
     "shell.execute_reply": "2021-01-31T15:34:43.756337Z"
    }
   },
   "outputs": [
    {
     "name": "stdout",
     "output_type": "stream",
     "text": [
      "Logging hadn't been started.\n",
      "Activating auto-logging. Current session state plus future input saved.\n",
      "Filename       : /home/vsts/.qcodes/logs/command_history.log\n",
      "Mode           : append\n",
      "Output logging : True\n",
      "Raw input log  : False\n",
      "Timestamping   : True\n",
      "State          : active\n"
     ]
    },
    {
     "name": "stdout",
     "output_type": "stream",
     "text": [
      "Qcodes Logfile : /home/vsts/.qcodes/logs/210131-16958-qcodes.log\n"
     ]
    }
   ],
   "source": [
    "from qcodes import load_or_create_experiment, new_data_set, ParamSpec\n",
    "from qcodes.dataset.json_exporter import \\\n",
    "    json_template_heatmap, json_template_linear, \\\n",
    "    export_data_as_json_heatmap, export_data_as_json_linear"
   ]
  },
  {
   "cell_type": "code",
   "execution_count": 3,
   "metadata": {
    "execution": {
     "iopub.execute_input": "2021-01-31T15:34:43.761866Z",
     "iopub.status.busy": "2021-01-31T15:34:43.760932Z",
     "iopub.status.idle": "2021-01-31T15:34:43.764940Z",
     "shell.execute_reply": "2021-01-31T15:34:43.765341Z"
    }
   },
   "outputs": [],
   "source": [
    "logging.basicConfig(level=\"INFO\")"
   ]
  },
  {
   "cell_type": "code",
   "execution_count": 4,
   "metadata": {
    "execution": {
     "iopub.execute_input": "2021-01-31T15:34:43.769003Z",
     "iopub.status.busy": "2021-01-31T15:34:43.768486Z",
     "iopub.status.idle": "2021-01-31T15:34:43.774635Z",
     "shell.execute_reply": "2021-01-31T15:34:43.775037Z"
    }
   },
   "outputs": [],
   "source": [
    "exp = load_or_create_experiment('json-export-subscriber-test', 'no-sample')"
   ]
  },
  {
   "cell_type": "code",
   "execution_count": 5,
   "metadata": {
    "execution": {
     "iopub.execute_input": "2021-01-31T15:34:43.778801Z",
     "iopub.status.busy": "2021-01-31T15:34:43.778256Z",
     "iopub.status.idle": "2021-01-31T15:34:43.789246Z",
     "shell.execute_reply": "2021-01-31T15:34:43.789653Z"
    }
   },
   "outputs": [],
   "source": [
    "dataSet = new_data_set(\"test\",\n",
    "                       exp_id=exp.exp_id,\n",
    "                       specs=[ParamSpec(\"x\", \"numeric\"), ParamSpec(\"y\", \"numeric\")])\n",
    "dataSet.mark_started()"
   ]
  },
  {
   "cell_type": "code",
   "execution_count": 6,
   "metadata": {
    "execution": {
     "iopub.execute_input": "2021-01-31T15:34:43.794781Z",
     "iopub.status.busy": "2021-01-31T15:34:43.794246Z",
     "iopub.status.idle": "2021-01-31T15:34:43.797421Z",
     "shell.execute_reply": "2021-01-31T15:34:43.797827Z"
    }
   },
   "outputs": [],
   "source": [
    "mystate = {}\n",
    "mystate['json'] = copy.deepcopy(json_template_linear)\n",
    "mystate['json']['x']['name'] = 'xname'\n",
    "mystate['json']['x']['unit'] = 'xunit'\n",
    "mystate['json']['x']['full_name'] = 'xfullname'\n",
    "mystate['json']['y']['name'] = 'yname'\n",
    "mystate['json']['y']['unit'] = 'yunit'\n",
    "mystate['json']['y']['full_name'] = 'yfullname'"
   ]
  },
  {
   "cell_type": "code",
   "execution_count": 7,
   "metadata": {
    "execution": {
     "iopub.execute_input": "2021-01-31T15:34:43.801651Z",
     "iopub.status.busy": "2021-01-31T15:34:43.801034Z",
     "iopub.status.idle": "2021-01-31T15:34:43.806048Z",
     "shell.execute_reply": "2021-01-31T15:34:43.806509Z"
    },
    "scrolled": true
   },
   "outputs": [],
   "source": [
    "sub_id = dataSet.subscribe(export_data_as_json_linear, min_wait=0, min_count=20,\n",
    "                           state=mystate, callback_kwargs={'location': 'foo'})"
   ]
  },
  {
   "cell_type": "code",
   "execution_count": 8,
   "metadata": {
    "execution": {
     "iopub.execute_input": "2021-01-31T15:34:43.810356Z",
     "iopub.status.busy": "2021-01-31T15:34:43.809836Z",
     "iopub.status.idle": "2021-01-31T15:34:43.811939Z",
     "shell.execute_reply": "2021-01-31T15:34:43.812397Z"
    }
   },
   "outputs": [],
   "source": [
    "s = dataSet.subscribers[sub_id]"
   ]
  },
  {
   "cell_type": "code",
   "execution_count": 9,
   "metadata": {
    "execution": {
     "iopub.execute_input": "2021-01-31T15:34:43.815814Z",
     "iopub.status.busy": "2021-01-31T15:34:43.814928Z",
     "iopub.status.idle": "2021-01-31T15:34:43.826153Z",
     "shell.execute_reply": "2021-01-31T15:34:43.826662Z"
    },
    "scrolled": true
   },
   "outputs": [
    {
     "data": {
      "text/plain": [
       "{'json': {'type': 'linear',\n",
       "  'x': {'data': [],\n",
       "   'name': 'xname',\n",
       "   'full_name': 'xfullname',\n",
       "   'is_setpoint': True,\n",
       "   'unit': 'xunit'},\n",
       "  'y': {'data': [],\n",
       "   'name': 'yname',\n",
       "   'full_name': 'yfullname',\n",
       "   'is_setpoint': False,\n",
       "   'unit': 'yunit'}}}"
      ]
     },
     "execution_count": 1,
     "metadata": {},
     "output_type": "execute_result"
    }
   ],
   "source": [
    "mystate"
   ]
  },
  {
   "cell_type": "code",
   "execution_count": 10,
   "metadata": {
    "execution": {
     "iopub.execute_input": "2021-01-31T15:34:43.830621Z",
     "iopub.status.busy": "2021-01-31T15:34:43.830073Z",
     "iopub.status.idle": "2021-01-31T15:34:43.937978Z",
     "shell.execute_reply": "2021-01-31T15:34:43.936848Z"
    },
    "scrolled": false
   },
   "outputs": [],
   "source": [
    "for x in range(100):\n",
    "    y = x\n",
    "    dataSet.add_results([{\"x\":x, \"y\":y}])\n",
    "dataSet.mark_completed()"
   ]
  },
  {
   "cell_type": "code",
   "execution_count": 11,
   "metadata": {
    "execution": {
     "iopub.execute_input": "2021-01-31T15:34:43.946426Z",
     "iopub.status.busy": "2021-01-31T15:34:43.945213Z",
     "iopub.status.idle": "2021-01-31T15:34:43.951906Z",
     "shell.execute_reply": "2021-01-31T15:34:43.950880Z"
    },
    "scrolled": true
   },
   "outputs": [
    {
     "data": {
      "text/plain": [
       "{'json': {'type': 'linear',\n",
       "  'x': {'data': [0,\n",
       "    1,\n",
       "    2,\n",
       "    3,\n",
       "    4,\n",
       "    5,\n",
       "    6,\n",
       "    7,\n",
       "    8,\n",
       "    9,\n",
       "    10,\n",
       "    11,\n",
       "    12,\n",
       "    13,\n",
       "    14,\n",
       "    15,\n",
       "    16,\n",
       "    17,\n",
       "    18,\n",
       "    19,\n",
       "    20,\n",
       "    21,\n",
       "    22,\n",
       "    23,\n",
       "    24,\n",
       "    25,\n",
       "    26,\n",
       "    27,\n",
       "    28,\n",
       "    29,\n",
       "    30,\n",
       "    31,\n",
       "    32,\n",
       "    33,\n",
       "    34,\n",
       "    35,\n",
       "    36,\n",
       "    37,\n",
       "    38,\n",
       "    39,\n",
       "    40,\n",
       "    41,\n",
       "    42,\n",
       "    43,\n",
       "    44,\n",
       "    45,\n",
       "    46,\n",
       "    47,\n",
       "    48,\n",
       "    49,\n",
       "    50,\n",
       "    51,\n",
       "    52,\n",
       "    53,\n",
       "    54,\n",
       "    55,\n",
       "    56,\n",
       "    57,\n",
       "    58,\n",
       "    59,\n",
       "    60,\n",
       "    61,\n",
       "    62,\n",
       "    63,\n",
       "    64,\n",
       "    65,\n",
       "    66,\n",
       "    67,\n",
       "    68,\n",
       "    69,\n",
       "    70,\n",
       "    71,\n",
       "    72,\n",
       "    73,\n",
       "    74,\n",
       "    75,\n",
       "    76,\n",
       "    77,\n",
       "    78,\n",
       "    79,\n",
       "    80,\n",
       "    81,\n",
       "    82,\n",
       "    83,\n",
       "    84,\n",
       "    85,\n",
       "    86,\n",
       "    87,\n",
       "    88,\n",
       "    89,\n",
       "    90,\n",
       "    91,\n",
       "    92,\n",
       "    93,\n",
       "    94,\n",
       "    95,\n",
       "    96,\n",
       "    97,\n",
       "    98,\n",
       "    99],\n",
       "   'name': 'xname',\n",
       "   'full_name': 'xfullname',\n",
       "   'is_setpoint': True,\n",
       "   'unit': 'xunit'},\n",
       "  'y': {'data': [0,\n",
       "    1,\n",
       "    2,\n",
       "    3,\n",
       "    4,\n",
       "    5,\n",
       "    6,\n",
       "    7,\n",
       "    8,\n",
       "    9,\n",
       "    10,\n",
       "    11,\n",
       "    12,\n",
       "    13,\n",
       "    14,\n",
       "    15,\n",
       "    16,\n",
       "    17,\n",
       "    18,\n",
       "    19,\n",
       "    20,\n",
       "    21,\n",
       "    22,\n",
       "    23,\n",
       "    24,\n",
       "    25,\n",
       "    26,\n",
       "    27,\n",
       "    28,\n",
       "    29,\n",
       "    30,\n",
       "    31,\n",
       "    32,\n",
       "    33,\n",
       "    34,\n",
       "    35,\n",
       "    36,\n",
       "    37,\n",
       "    38,\n",
       "    39,\n",
       "    40,\n",
       "    41,\n",
       "    42,\n",
       "    43,\n",
       "    44,\n",
       "    45,\n",
       "    46,\n",
       "    47,\n",
       "    48,\n",
       "    49,\n",
       "    50,\n",
       "    51,\n",
       "    52,\n",
       "    53,\n",
       "    54,\n",
       "    55,\n",
       "    56,\n",
       "    57,\n",
       "    58,\n",
       "    59,\n",
       "    60,\n",
       "    61,\n",
       "    62,\n",
       "    63,\n",
       "    64,\n",
       "    65,\n",
       "    66,\n",
       "    67,\n",
       "    68,\n",
       "    69,\n",
       "    70,\n",
       "    71,\n",
       "    72,\n",
       "    73,\n",
       "    74,\n",
       "    75,\n",
       "    76,\n",
       "    77,\n",
       "    78,\n",
       "    79,\n",
       "    80,\n",
       "    81,\n",
       "    82,\n",
       "    83,\n",
       "    84,\n",
       "    85,\n",
       "    86,\n",
       "    87,\n",
       "    88,\n",
       "    89,\n",
       "    90,\n",
       "    91,\n",
       "    92,\n",
       "    93,\n",
       "    94,\n",
       "    95,\n",
       "    96,\n",
       "    97,\n",
       "    98,\n",
       "    99],\n",
       "   'name': 'yname',\n",
       "   'full_name': 'yfullname',\n",
       "   'is_setpoint': False,\n",
       "   'unit': 'yunit'}}}"
      ]
     },
     "execution_count": 1,
     "metadata": {},
     "output_type": "execute_result"
    }
   ],
   "source": [
    "mystate"
   ]
  },
  {
   "cell_type": "code",
   "execution_count": 12,
   "metadata": {
    "execution": {
     "iopub.execute_input": "2021-01-31T15:34:43.958728Z",
     "iopub.status.busy": "2021-01-31T15:34:43.958183Z",
     "iopub.status.idle": "2021-01-31T15:34:43.961663Z",
     "shell.execute_reply": "2021-01-31T15:34:43.961191Z"
    }
   },
   "outputs": [],
   "source": [
    "mystate = {}\n",
    "xlen = 5\n",
    "ylen = 10\n",
    "mystate['json'] = json_template_heatmap.copy()\n",
    "mystate['data'] = {}\n",
    "mystate['data']['xlen'] = xlen\n",
    "mystate['data']['ylen'] = ylen\n",
    "mystate['data']['x'] = np.zeros((xlen*ylen), dtype=np.object)\n",
    "mystate['data']['x'][:] = None\n",
    "mystate['data']['y'] = np.zeros((xlen*ylen), dtype=np.object)\n",
    "mystate['data']['y'][:] = None\n",
    "mystate['data']['z'] = np.zeros((xlen*ylen), dtype=np.object)\n",
    "mystate['data']['z'][:] = None\n",
    "mystate['data']['location'] = 0"
   ]
  },
  {
   "cell_type": "code",
   "execution_count": 13,
   "metadata": {
    "execution": {
     "iopub.execute_input": "2021-01-31T15:34:43.966181Z",
     "iopub.status.busy": "2021-01-31T15:34:43.965396Z",
     "iopub.status.idle": "2021-01-31T15:34:43.977456Z",
     "shell.execute_reply": "2021-01-31T15:34:43.976996Z"
    }
   },
   "outputs": [],
   "source": [
    "dataSet_hm = new_data_set(\"test\", exp_id=exp.exp_id,\n",
    "                          specs=[ParamSpec(\"x\", \"numeric\"),\n",
    "                                 ParamSpec(\"y\", \"numeric\"),\n",
    "                                 ParamSpec(\"z\", \"numeric\")])\n",
    "dataSet_hm.mark_started()"
   ]
  },
  {
   "cell_type": "code",
   "execution_count": 14,
   "metadata": {
    "execution": {
     "iopub.execute_input": "2021-01-31T15:34:43.981734Z",
     "iopub.status.busy": "2021-01-31T15:34:43.980840Z",
     "iopub.status.idle": "2021-01-31T15:34:43.984969Z",
     "shell.execute_reply": "2021-01-31T15:34:43.985398Z"
    }
   },
   "outputs": [],
   "source": [
    "sub_id = dataSet_hm.subscribe(export_data_as_json_heatmap, min_wait=0, min_count=20,\n",
    "                              state=mystate, callback_kwargs={'location': './foo'})"
   ]
  },
  {
   "cell_type": "code",
   "execution_count": 15,
   "metadata": {
    "execution": {
     "iopub.execute_input": "2021-01-31T15:34:43.987796Z",
     "iopub.status.busy": "2021-01-31T15:34:43.987251Z",
     "iopub.status.idle": "2021-01-31T15:34:44.040877Z",
     "shell.execute_reply": "2021-01-31T15:34:44.041699Z"
    },
    "scrolled": false
   },
   "outputs": [],
   "source": [
    "for x in range(xlen):\n",
    "    for y in range(ylen):\n",
    "        z = x+y\n",
    "        dataSet_hm.add_results([{\"x\":x, \"y\":y, 'z':z}])\n",
    "dataSet_hm.mark_completed()"
   ]
  },
  {
   "cell_type": "code",
   "execution_count": 16,
   "metadata": {
    "execution": {
     "iopub.execute_input": "2021-01-31T15:34:44.048149Z",
     "iopub.status.busy": "2021-01-31T15:34:44.047161Z",
     "iopub.status.idle": "2021-01-31T15:34:44.053130Z",
     "shell.execute_reply": "2021-01-31T15:34:44.052564Z"
    },
    "scrolled": true
   },
   "outputs": [
    {
     "data": {
      "text/plain": [
       "{'type': 'heatmap',\n",
       " 'x': {'data': [0, 1, 2, 3, 4],\n",
       "  'name': '',\n",
       "  'full_name': '',\n",
       "  'is_setpoint': True,\n",
       "  'unit': ''},\n",
       " 'y': {'data': [0, 1, 2, 3, 4, 5, 6, 7, 8, 9],\n",
       "  'name': '',\n",
       "  'full_name': '',\n",
       "  'is_setpoint': True,\n",
       "  'unit': ''},\n",
       " 'z': {'data': [[0, 1, 2, 3, 4, 5, 6, 7, 8, 9],\n",
       "   [0, 1, 2, 3, 4, 5, 6, 7, 8, 9],\n",
       "   [0, 1, 2, 3, 4, 5, 6, 7, 8, 9],\n",
       "   [0, 1, 2, 3, 4, 5, 6, 7, 8, 9],\n",
       "   [0, 1, 2, 3, 4, 5, 6, 7, 8, 9]],\n",
       "  'name': '',\n",
       "  'full_name': '',\n",
       "  'is_setpoint': False,\n",
       "  'unit': ''}}"
      ]
     },
     "execution_count": 1,
     "metadata": {},
     "output_type": "execute_result"
    }
   ],
   "source": [
    "mystate['json']"
   ]
  },
  {
   "cell_type": "code",
   "execution_count": null,
   "metadata": {},
   "outputs": [],
   "source": []
  }
 ],
 "metadata": {
  "kernelspec": {
   "display_name": "Python 3",
   "language": "python",
   "name": "python3"
  },
  "language_info": {
   "codemirror_mode": {
    "name": "ipython",
    "version": 3
   },
   "file_extension": ".py",
   "mimetype": "text/x-python",
   "name": "python",
   "nbconvert_exporter": "python",
   "pygments_lexer": "ipython3",
   "version": "3.7.9"
  }
 },
 "nbformat": 4,
 "nbformat_minor": 2
}
