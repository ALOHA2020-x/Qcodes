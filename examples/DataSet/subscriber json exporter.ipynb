{
 "cells": [
  {
   "cell_type": "markdown",
   "metadata": {},
   "source": [
    "# Subscriber with JSON export\n",
    "\n",
    "__NOTE__: this is an __outdated__ notebook, some of the functions that are used here are considered __private__ to QCoDeS and are not intended for use by users (for example, `DataSet.subscribe`). This notebook will be re-written in the future."
   ]
  },
  {
   "cell_type": "code",
   "execution_count": 1,
   "metadata": {
    "execution": {
     "iopub.execute_input": "2021-03-24T09:11:19.926894Z",
     "iopub.status.busy": "2021-03-24T09:11:19.926096Z",
     "iopub.status.idle": "2021-03-24T09:11:20.014751Z",
     "shell.execute_reply": "2021-03-24T09:11:20.015714Z"
    }
   },
   "outputs": [],
   "source": [
    "import logging\n",
    "import copy\n",
    "import numpy as np\n",
    "import json"
   ]
  },
  {
   "cell_type": "code",
   "execution_count": 2,
   "metadata": {
    "execution": {
     "iopub.execute_input": "2021-03-24T09:11:20.019973Z",
     "iopub.status.busy": "2021-03-24T09:11:20.018674Z",
     "iopub.status.idle": "2021-03-24T09:11:21.142252Z",
     "shell.execute_reply": "2021-03-24T09:11:21.141614Z"
    }
   },
   "outputs": [
    {
     "name": "stdout",
     "output_type": "stream",
     "text": [
      "Logging hadn't been started.\n",
      "Activating auto-logging. Current session state plus future input saved.\n",
      "Filename       : /home/runner/.qcodes/logs/command_history.log\n",
      "Mode           : append\n",
      "Output logging : True\n",
      "Raw input log  : False\n",
      "Timestamping   : True\n",
      "State          : active\n"
     ]
    },
    {
     "name": "stdout",
     "output_type": "stream",
     "text": [
      "Qcodes Logfile : /home/runner/.qcodes/logs/210324-7358-qcodes.log\n"
     ]
    }
   ],
   "source": [
    "from qcodes import load_or_create_experiment, new_data_set, ParamSpec\n",
    "from qcodes.dataset.json_exporter import \\\n",
    "    json_template_heatmap, json_template_linear, \\\n",
    "    export_data_as_json_heatmap, export_data_as_json_linear"
   ]
  },
  {
   "cell_type": "code",
   "execution_count": 3,
   "metadata": {
    "execution": {
     "iopub.execute_input": "2021-03-24T09:11:21.147861Z",
     "iopub.status.busy": "2021-03-24T09:11:21.147159Z",
     "iopub.status.idle": "2021-03-24T09:11:21.150874Z",
     "shell.execute_reply": "2021-03-24T09:11:21.151387Z"
    }
   },
   "outputs": [],
   "source": [
    "logging.basicConfig(level=\"INFO\")"
   ]
  },
  {
   "cell_type": "code",
   "execution_count": 4,
   "metadata": {
    "execution": {
     "iopub.execute_input": "2021-03-24T09:11:21.155845Z",
     "iopub.status.busy": "2021-03-24T09:11:21.155088Z",
     "iopub.status.idle": "2021-03-24T09:11:21.161062Z",
     "shell.execute_reply": "2021-03-24T09:11:21.161579Z"
    }
   },
   "outputs": [],
   "source": [
    "exp = load_or_create_experiment('json-export-subscriber-test', 'no-sample')"
   ]
  },
  {
   "cell_type": "code",
   "execution_count": 5,
   "metadata": {
    "execution": {
     "iopub.execute_input": "2021-03-24T09:11:21.165989Z",
     "iopub.status.busy": "2021-03-24T09:11:21.165336Z",
     "iopub.status.idle": "2021-03-24T09:11:21.178341Z",
     "shell.execute_reply": "2021-03-24T09:11:21.177660Z"
    }
   },
   "outputs": [],
   "source": [
    "dataSet = new_data_set(\"test\",\n",
    "                       exp_id=exp.exp_id,\n",
    "                       specs=[ParamSpec(\"x\", \"numeric\"), ParamSpec(\"y\", \"numeric\")])\n",
    "dataSet.mark_started()"
   ]
  },
  {
   "cell_type": "code",
   "execution_count": 6,
   "metadata": {
    "execution": {
     "iopub.execute_input": "2021-03-24T09:11:21.186681Z",
     "iopub.status.busy": "2021-03-24T09:11:21.185033Z",
     "iopub.status.idle": "2021-03-24T09:11:21.187449Z",
     "shell.execute_reply": "2021-03-24T09:11:21.187985Z"
    }
   },
   "outputs": [],
   "source": [
    "mystate = {}\n",
    "mystate['json'] = copy.deepcopy(json_template_linear)\n",
    "mystate['json']['x']['name'] = 'xname'\n",
    "mystate['json']['x']['unit'] = 'xunit'\n",
    "mystate['json']['x']['full_name'] = 'xfullname'\n",
    "mystate['json']['y']['name'] = 'yname'\n",
    "mystate['json']['y']['unit'] = 'yunit'\n",
    "mystate['json']['y']['full_name'] = 'yfullname'"
   ]
  },
  {
   "cell_type": "code",
   "execution_count": 7,
   "metadata": {
    "execution": {
     "iopub.execute_input": "2021-03-24T09:11:21.192917Z",
     "iopub.status.busy": "2021-03-24T09:11:21.192011Z",
     "iopub.status.idle": "2021-03-24T09:11:21.196730Z",
     "shell.execute_reply": "2021-03-24T09:11:21.197501Z"
    },
    "scrolled": true
   },
   "outputs": [],
   "source": [
    "sub_id = dataSet.subscribe(export_data_as_json_linear, min_wait=0, min_count=20,\n",
    "                           state=mystate, callback_kwargs={'location': 'foo'})"
   ]
  },
  {
   "cell_type": "code",
   "execution_count": 8,
   "metadata": {
    "execution": {
     "iopub.execute_input": "2021-03-24T09:11:21.200466Z",
     "iopub.status.busy": "2021-03-24T09:11:21.199637Z",
     "iopub.status.idle": "2021-03-24T09:11:21.204079Z",
     "shell.execute_reply": "2021-03-24T09:11:21.204637Z"
    }
   },
   "outputs": [],
   "source": [
    "s = dataSet.subscribers[sub_id]"
   ]
  },
  {
   "cell_type": "code",
   "execution_count": 9,
   "metadata": {
    "execution": {
     "iopub.execute_input": "2021-03-24T09:11:21.209103Z",
     "iopub.status.busy": "2021-03-24T09:11:21.206888Z",
     "iopub.status.idle": "2021-03-24T09:11:21.222199Z",
     "shell.execute_reply": "2021-03-24T09:11:21.222785Z"
    },
    "scrolled": true
   },
   "outputs": [
    {
     "data": {
      "text/plain": [
       "{'json': {'type': 'linear',\n",
       "  'x': {'data': [],\n",
       "   'name': 'xname',\n",
       "   'full_name': 'xfullname',\n",
       "   'is_setpoint': True,\n",
       "   'unit': 'xunit'},\n",
       "  'y': {'data': [],\n",
       "   'name': 'yname',\n",
       "   'full_name': 'yfullname',\n",
       "   'is_setpoint': False,\n",
       "   'unit': 'yunit'}}}"
      ]
     },
     "execution_count": 1,
     "metadata": {},
     "output_type": "execute_result"
    }
   ],
   "source": [
    "mystate"
   ]
  },
  {
   "cell_type": "code",
   "execution_count": 10,
   "metadata": {
    "execution": {
     "iopub.execute_input": "2021-03-24T09:11:21.225921Z",
     "iopub.status.busy": "2021-03-24T09:11:21.225177Z",
     "iopub.status.idle": "2021-03-24T09:11:21.334369Z",
     "shell.execute_reply": "2021-03-24T09:11:21.333770Z"
    },
    "scrolled": false
   },
   "outputs": [],
   "source": [
    "for x in range(100):\n",
    "    y = x\n",
    "    dataSet.add_results([{\"x\":x, \"y\":y}])\n",
    "dataSet.mark_completed()"
   ]
  },
  {
   "cell_type": "code",
   "execution_count": 11,
   "metadata": {
    "execution": {
     "iopub.execute_input": "2021-03-24T09:11:21.344110Z",
     "iopub.status.busy": "2021-03-24T09:11:21.342964Z",
     "iopub.status.idle": "2021-03-24T09:11:21.350512Z",
     "shell.execute_reply": "2021-03-24T09:11:21.349950Z"
    },
    "scrolled": true
   },
   "outputs": [
    {
     "data": {
      "text/plain": [
       "{'json': {'type': 'linear',\n",
       "  'x': {'data': [0,\n",
       "    1,\n",
       "    2,\n",
       "    3,\n",
       "    4,\n",
       "    5,\n",
       "    6,\n",
       "    7,\n",
       "    8,\n",
       "    9,\n",
       "    10,\n",
       "    11,\n",
       "    12,\n",
       "    13,\n",
       "    14,\n",
       "    15,\n",
       "    16,\n",
       "    17,\n",
       "    18,\n",
       "    19,\n",
       "    20,\n",
       "    21,\n",
       "    22,\n",
       "    23,\n",
       "    24,\n",
       "    25,\n",
       "    26,\n",
       "    27,\n",
       "    28,\n",
       "    29,\n",
       "    30,\n",
       "    31,\n",
       "    32,\n",
       "    33,\n",
       "    34,\n",
       "    35,\n",
       "    36,\n",
       "    37,\n",
       "    38,\n",
       "    39,\n",
       "    40,\n",
       "    41,\n",
       "    42,\n",
       "    43,\n",
       "    44,\n",
       "    45,\n",
       "    46,\n",
       "    47,\n",
       "    48,\n",
       "    49,\n",
       "    50,\n",
       "    51,\n",
       "    52,\n",
       "    53,\n",
       "    54,\n",
       "    55,\n",
       "    56,\n",
       "    57,\n",
       "    58,\n",
       "    59,\n",
       "    60,\n",
       "    61,\n",
       "    62,\n",
       "    63,\n",
       "    64,\n",
       "    65,\n",
       "    66,\n",
       "    67,\n",
       "    68,\n",
       "    69,\n",
       "    70,\n",
       "    71,\n",
       "    72,\n",
       "    73,\n",
       "    74,\n",
       "    75,\n",
       "    76,\n",
       "    77,\n",
       "    78,\n",
       "    79,\n",
       "    80,\n",
       "    81,\n",
       "    82,\n",
       "    83,\n",
       "    84,\n",
       "    85,\n",
       "    86,\n",
       "    87,\n",
       "    88,\n",
       "    89,\n",
       "    90,\n",
       "    91,\n",
       "    92,\n",
       "    93,\n",
       "    94,\n",
       "    95,\n",
       "    96,\n",
       "    97,\n",
       "    98,\n",
       "    99],\n",
       "   'name': 'xname',\n",
       "   'full_name': 'xfullname',\n",
       "   'is_setpoint': True,\n",
       "   'unit': 'xunit'},\n",
       "  'y': {'data': [0,\n",
       "    1,\n",
       "    2,\n",
       "    3,\n",
       "    4,\n",
       "    5,\n",
       "    6,\n",
       "    7,\n",
       "    8,\n",
       "    9,\n",
       "    10,\n",
       "    11,\n",
       "    12,\n",
       "    13,\n",
       "    14,\n",
       "    15,\n",
       "    16,\n",
       "    17,\n",
       "    18,\n",
       "    19,\n",
       "    20,\n",
       "    21,\n",
       "    22,\n",
       "    23,\n",
       "    24,\n",
       "    25,\n",
       "    26,\n",
       "    27,\n",
       "    28,\n",
       "    29,\n",
       "    30,\n",
       "    31,\n",
       "    32,\n",
       "    33,\n",
       "    34,\n",
       "    35,\n",
       "    36,\n",
       "    37,\n",
       "    38,\n",
       "    39,\n",
       "    40,\n",
       "    41,\n",
       "    42,\n",
       "    43,\n",
       "    44,\n",
       "    45,\n",
       "    46,\n",
       "    47,\n",
       "    48,\n",
       "    49,\n",
       "    50,\n",
       "    51,\n",
       "    52,\n",
       "    53,\n",
       "    54,\n",
       "    55,\n",
       "    56,\n",
       "    57,\n",
       "    58,\n",
       "    59,\n",
       "    60,\n",
       "    61,\n",
       "    62,\n",
       "    63,\n",
       "    64,\n",
       "    65,\n",
       "    66,\n",
       "    67,\n",
       "    68,\n",
       "    69,\n",
       "    70,\n",
       "    71,\n",
       "    72,\n",
       "    73,\n",
       "    74,\n",
       "    75,\n",
       "    76,\n",
       "    77,\n",
       "    78,\n",
       "    79,\n",
       "    80,\n",
       "    81,\n",
       "    82,\n",
       "    83,\n",
       "    84,\n",
       "    85,\n",
       "    86,\n",
       "    87,\n",
       "    88,\n",
       "    89,\n",
       "    90,\n",
       "    91,\n",
       "    92,\n",
       "    93,\n",
       "    94,\n",
       "    95,\n",
       "    96,\n",
       "    97,\n",
       "    98,\n",
       "    99],\n",
       "   'name': 'yname',\n",
       "   'full_name': 'yfullname',\n",
       "   'is_setpoint': False,\n",
       "   'unit': 'yunit'}}}"
      ]
     },
     "execution_count": 1,
     "metadata": {},
     "output_type": "execute_result"
    }
   ],
   "source": [
    "mystate"
   ]
  },
  {
   "cell_type": "code",
   "execution_count": 12,
   "metadata": {
    "execution": {
     "iopub.execute_input": "2021-03-24T09:11:21.360332Z",
     "iopub.status.busy": "2021-03-24T09:11:21.357954Z",
     "iopub.status.idle": "2021-03-24T09:11:21.366372Z",
     "shell.execute_reply": "2021-03-24T09:11:21.365823Z"
    }
   },
   "outputs": [
    {
     "name": "stderr",
     "output_type": "stream",
     "text": [
      "2021-03-24 09:11:21,355 ¦ py.warnings ¦ WARNING ¦ warnings ¦ _showwarnmsg ¦ 110 ¦ /opt/hostedtoolcache/Python/3.7.10/x64/lib/python3.7/site-packages/ipykernel_launcher.py:8: DeprecationWarning: `np.object` is a deprecated alias for the builtin `object`. To silence this warning, use `object` by itself. Doing this will not modify any behavior and is safe. \n",
      "Deprecated in NumPy 1.20; for more details and guidance: https://numpy.org/devdocs/release/1.20.0-notes.html#deprecations\n",
      "  \n",
      "\n"
     ]
    },
    {
     "name": "stderr",
     "output_type": "stream",
     "text": [
      "2021-03-24 09:11:21,357 ¦ py.warnings ¦ WARNING ¦ warnings ¦ _showwarnmsg ¦ 110 ¦ /opt/hostedtoolcache/Python/3.7.10/x64/lib/python3.7/site-packages/ipykernel_launcher.py:10: DeprecationWarning: `np.object` is a deprecated alias for the builtin `object`. To silence this warning, use `object` by itself. Doing this will not modify any behavior and is safe. \n",
      "Deprecated in NumPy 1.20; for more details and guidance: https://numpy.org/devdocs/release/1.20.0-notes.html#deprecations\n",
      "  # Remove the CWD from sys.path while we load stuff.\n",
      "\n"
     ]
    },
    {
     "name": "stderr",
     "output_type": "stream",
     "text": [
      "2021-03-24 09:11:21,358 ¦ py.warnings ¦ WARNING ¦ warnings ¦ _showwarnmsg ¦ 110 ¦ /opt/hostedtoolcache/Python/3.7.10/x64/lib/python3.7/site-packages/ipykernel_launcher.py:12: DeprecationWarning: `np.object` is a deprecated alias for the builtin `object`. To silence this warning, use `object` by itself. Doing this will not modify any behavior and is safe. \n",
      "Deprecated in NumPy 1.20; for more details and guidance: https://numpy.org/devdocs/release/1.20.0-notes.html#deprecations\n",
      "  if sys.path[0] == '':\n",
      "\n"
     ]
    }
   ],
   "source": [
    "mystate = {}\n",
    "xlen = 5\n",
    "ylen = 10\n",
    "mystate['json'] = json_template_heatmap.copy()\n",
    "mystate['data'] = {}\n",
    "mystate['data']['xlen'] = xlen\n",
    "mystate['data']['ylen'] = ylen\n",
    "mystate['data']['x'] = np.zeros((xlen*ylen), dtype=np.object)\n",
    "mystate['data']['x'][:] = None\n",
    "mystate['data']['y'] = np.zeros((xlen*ylen), dtype=np.object)\n",
    "mystate['data']['y'][:] = None\n",
    "mystate['data']['z'] = np.zeros((xlen*ylen), dtype=np.object)\n",
    "mystate['data']['z'][:] = None\n",
    "mystate['data']['location'] = 0"
   ]
  },
  {
   "cell_type": "code",
   "execution_count": 13,
   "metadata": {
    "execution": {
     "iopub.execute_input": "2021-03-24T09:11:21.370726Z",
     "iopub.status.busy": "2021-03-24T09:11:21.370068Z",
     "iopub.status.idle": "2021-03-24T09:11:21.386046Z",
     "shell.execute_reply": "2021-03-24T09:11:21.385446Z"
    }
   },
   "outputs": [],
   "source": [
    "dataSet_hm = new_data_set(\"test\", exp_id=exp.exp_id,\n",
    "                          specs=[ParamSpec(\"x\", \"numeric\"),\n",
    "                                 ParamSpec(\"y\", \"numeric\"),\n",
    "                                 ParamSpec(\"z\", \"numeric\")])\n",
    "dataSet_hm.mark_started()"
   ]
  },
  {
   "cell_type": "code",
   "execution_count": 14,
   "metadata": {
    "execution": {
     "iopub.execute_input": "2021-03-24T09:11:21.390928Z",
     "iopub.status.busy": "2021-03-24T09:11:21.390170Z",
     "iopub.status.idle": "2021-03-24T09:11:21.394600Z",
     "shell.execute_reply": "2021-03-24T09:11:21.395551Z"
    }
   },
   "outputs": [],
   "source": [
    "sub_id = dataSet_hm.subscribe(export_data_as_json_heatmap, min_wait=0, min_count=20,\n",
    "                              state=mystate, callback_kwargs={'location': './foo'})"
   ]
  },
  {
   "cell_type": "code",
   "execution_count": 15,
   "metadata": {
    "execution": {
     "iopub.execute_input": "2021-03-24T09:11:21.401119Z",
     "iopub.status.busy": "2021-03-24T09:11:21.398114Z",
     "iopub.status.idle": "2021-03-24T09:11:21.462300Z",
     "shell.execute_reply": "2021-03-24T09:11:21.462916Z"
    },
    "scrolled": false
   },
   "outputs": [],
   "source": [
    "for x in range(xlen):\n",
    "    for y in range(ylen):\n",
    "        z = x+y\n",
    "        dataSet_hm.add_results([{\"x\":x, \"y\":y, 'z':z}])\n",
    "dataSet_hm.mark_completed()"
   ]
  },
  {
   "cell_type": "code",
   "execution_count": 16,
   "metadata": {
    "execution": {
     "iopub.execute_input": "2021-03-24T09:11:21.470377Z",
     "iopub.status.busy": "2021-03-24T09:11:21.469696Z",
     "iopub.status.idle": "2021-03-24T09:11:21.475450Z",
     "shell.execute_reply": "2021-03-24T09:11:21.476012Z"
    },
    "scrolled": true
   },
   "outputs": [
    {
     "data": {
      "text/plain": [
       "{'type': 'heatmap',\n",
       " 'x': {'data': [0, 1, 2, 3, 4],\n",
       "  'name': '',\n",
       "  'full_name': '',\n",
       "  'is_setpoint': True,\n",
       "  'unit': ''},\n",
       " 'y': {'data': [0, 1, 2, 3, 4, 5, 6, 7, 8, 9],\n",
       "  'name': '',\n",
       "  'full_name': '',\n",
       "  'is_setpoint': True,\n",
       "  'unit': ''},\n",
       " 'z': {'data': [[0, 0, 0, 0, 0, 0, 0, 0, 0, 0],\n",
       "   [1, 1, 1, 1, 1, 1, 1, 1, 1, 1],\n",
       "   [2, 2, 2, 2, 2, 2, 2, 2, 2, 2],\n",
       "   [3, 3, 3, 3, 3, 3, 3, 3, 3, 3],\n",
       "   [4, 4, 4, 4, 4, 4, 4, 4, 4, 4]],\n",
       "  'name': '',\n",
       "  'full_name': '',\n",
       "  'is_setpoint': False,\n",
       "  'unit': ''}}"
      ]
     },
     "execution_count": 1,
     "metadata": {},
     "output_type": "execute_result"
    }
   ],
   "source": [
    "mystate['json']"
   ]
  },
  {
   "cell_type": "code",
   "execution_count": null,
   "metadata": {},
   "outputs": [],
   "source": []
  }
 ],
 "metadata": {
  "kernelspec": {
   "display_name": "Python 3",
   "language": "python",
   "name": "python3"
  },
  "language_info": {
   "codemirror_mode": {
    "name": "ipython",
    "version": 3
   },
   "file_extension": ".py",
   "mimetype": "text/x-python",
   "name": "python",
   "nbconvert_exporter": "python",
   "pygments_lexer": "ipython3",
   "version": "3.7.10"
  }
 },
 "nbformat": 4,
 "nbformat_minor": 2
}
