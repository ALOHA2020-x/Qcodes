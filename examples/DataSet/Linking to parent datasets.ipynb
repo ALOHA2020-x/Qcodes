{
 "cells": [
  {
   "cell_type": "markdown",
   "metadata": {},
   "source": [
    "# Linking to parent datasets\n",
    "\n",
    "When performing a measurement in QCoDeS, it is possible to annotate the outcome (the dataset) of that measurement as having one or more parent datasets. This is done by adding a link to each parent dataset. This notebook covers the mechanisms to do that by going through a few practical examples."
   ]
  },
  {
   "cell_type": "code",
   "execution_count": 1,
   "metadata": {
    "execution": {
     "iopub.execute_input": "2020-10-13T07:11:00.505215Z",
     "iopub.status.busy": "2020-10-13T07:11:00.504474Z",
     "iopub.status.idle": "2020-10-13T07:11:02.082818Z",
     "shell.execute_reply": "2020-10-13T07:11:02.083297Z"
    }
   },
   "outputs": [
    {
     "name": "stdout",
     "output_type": "stream",
     "text": [
      "Logging hadn't been started.\n",
      "Activating auto-logging. Current session state plus future input saved.\n",
      "Filename       : /home/vsts/.qcodes/logs/command_history.log\n",
      "Mode           : append\n",
      "Output logging : True\n",
      "Raw input log  : False\n",
      "Timestamping   : True\n",
      "State          : active\n"
     ]
    },
    {
     "name": "stdout",
     "output_type": "stream",
     "text": [
      "Qcodes Logfile : /home/vsts/.qcodes/logs/201013-15277-qcodes.log\n"
     ]
    }
   ],
   "source": [
    "import os\n",
    "import datetime\n",
    "\n",
    "import numpy as np\n",
    "import scipy.optimize as opt\n",
    "import matplotlib.pyplot as plt\n",
    "\n",
    "from qcodes.dataset.measurements import Measurement\n",
    "from qcodes.dataset.plotting import plot_dataset\n",
    "from qcodes.dataset.data_set import load_by_run_spec\n",
    "from qcodes.dataset.sqlite.database import initialise_or_create_database_at\n",
    "from qcodes.dataset.experiment_container import load_or_create_experiment"
   ]
  },
  {
   "cell_type": "code",
   "execution_count": 2,
   "metadata": {
    "execution": {
     "iopub.execute_input": "2020-10-13T07:11:02.088314Z",
     "iopub.status.busy": "2020-10-13T07:11:02.087688Z",
     "iopub.status.idle": "2020-10-13T07:11:02.184566Z",
     "shell.execute_reply": "2020-10-13T07:11:02.183983Z"
    }
   },
   "outputs": [
    {
     "name": "stdout",
     "output_type": "stream",
     "text": [
      "\r",
      "0it [00:00, ?it/s]"
     ]
    },
    {
     "name": "stdout",
     "output_type": "stream",
     "text": [
      "\r",
      "Upgrading database; v0 -> v1: : 0it [00:00, ?it/s]"
     ]
    },
    {
     "name": "stdout",
     "output_type": "stream",
     "text": [
      "\r",
      "Upgrading database; v0 -> v1: : 0it [00:00, ?it/s]"
     ]
    },
    {
     "name": "stdout",
     "output_type": "stream",
     "text": [
      "\n",
      "\r",
      "  0%|          | 0/1 [00:00<?, ?it/s]"
     ]
    },
    {
     "name": "stdout",
     "output_type": "stream",
     "text": [
      "\r",
      "Upgrading database; v1 -> v2:   0%|          | 0/1 [00:00<?, ?it/s]"
     ]
    },
    {
     "name": "stdout",
     "output_type": "stream",
     "text": [
      "\r",
      "Upgrading database; v1 -> v2: 100%|██████████| 1/1 [00:00<00:00, 648.77it/s]"
     ]
    },
    {
     "name": "stdout",
     "output_type": "stream",
     "text": [
      "\n",
      "\r",
      "0it [00:00, ?it/s]"
     ]
    },
    {
     "name": "stdout",
     "output_type": "stream",
     "text": [
      "\r",
      "Upgrading database; v2 -> v3: : 0it [00:00, ?it/s]"
     ]
    },
    {
     "name": "stdout",
     "output_type": "stream",
     "text": [
      "\r",
      "Upgrading database; v2 -> v3: : 0it [00:00, ?it/s]"
     ]
    },
    {
     "name": "stdout",
     "output_type": "stream",
     "text": [
      "\n",
      "\r",
      "0it [00:00, ?it/s]"
     ]
    },
    {
     "name": "stdout",
     "output_type": "stream",
     "text": [
      "\r",
      "Upgrading database; v3 -> v4: : 0it [00:00, ?it/s]"
     ]
    },
    {
     "name": "stdout",
     "output_type": "stream",
     "text": [
      "\r",
      "Upgrading database; v3 -> v4: : 0it [00:00, ?it/s]"
     ]
    },
    {
     "name": "stdout",
     "output_type": "stream",
     "text": [
      "\n",
      "\r",
      "  0%|          | 0/1 [00:00<?, ?it/s]"
     ]
    },
    {
     "name": "stdout",
     "output_type": "stream",
     "text": [
      "\r",
      "Upgrading database; v4 -> v5:   0%|          | 0/1 [00:00<?, ?it/s]"
     ]
    },
    {
     "name": "stdout",
     "output_type": "stream",
     "text": [
      "\r",
      "Upgrading database; v4 -> v5: 100%|██████████| 1/1 [00:00<00:00, 401.02it/s]"
     ]
    },
    {
     "name": "stdout",
     "output_type": "stream",
     "text": [
      "\n",
      "\r",
      "0it [00:00, ?it/s]"
     ]
    },
    {
     "name": "stdout",
     "output_type": "stream",
     "text": [
      "\r",
      "Upgrading database; v5 -> v6: : 0it [00:00, ?it/s]"
     ]
    },
    {
     "name": "stdout",
     "output_type": "stream",
     "text": [
      "\r",
      "Upgrading database; v5 -> v6: : 0it [00:00, ?it/s]"
     ]
    },
    {
     "name": "stdout",
     "output_type": "stream",
     "text": [
      "\n",
      "\r",
      "  0%|          | 0/1 [00:00<?, ?it/s]"
     ]
    },
    {
     "name": "stdout",
     "output_type": "stream",
     "text": [
      "\r",
      "Upgrading database; v6 -> v7:   0%|          | 0/1 [00:00<?, ?it/s]"
     ]
    },
    {
     "name": "stdout",
     "output_type": "stream",
     "text": [
      "\r",
      "Upgrading database; v6 -> v7: 100%|██████████| 1/1 [00:00<00:00, 282.44it/s]"
     ]
    },
    {
     "name": "stdout",
     "output_type": "stream",
     "text": [
      "\n",
      "\r",
      "  0%|          | 0/1 [00:00<?, ?it/s]"
     ]
    },
    {
     "name": "stdout",
     "output_type": "stream",
     "text": [
      "\r",
      "Upgrading database; v7 -> v8:   0%|          | 0/1 [00:00<?, ?it/s]"
     ]
    },
    {
     "name": "stdout",
     "output_type": "stream",
     "text": [
      "\r",
      "Upgrading database; v7 -> v8: 100%|██████████| 1/1 [00:00<00:00, 421.16it/s]"
     ]
    },
    {
     "name": "stdout",
     "output_type": "stream",
     "text": [
      "\n",
      "\r",
      "  0%|          | 0/1 [00:00<?, ?it/s]"
     ]
    },
    {
     "name": "stdout",
     "output_type": "stream",
     "text": [
      "\r",
      "Upgrading database; v8 -> v9:   0%|          | 0/1 [00:00<?, ?it/s]"
     ]
    },
    {
     "name": "stdout",
     "output_type": "stream",
     "text": [
      "\r",
      "Upgrading database; v8 -> v9: 100%|██████████| 1/1 [00:00<00:00, 465.83it/s]"
     ]
    },
    {
     "name": "stdout",
     "output_type": "stream",
     "text": [
      "\n"
     ]
    },
    {
     "data": {
      "text/plain": [
       "tutorial 2020-10-13 07:11:02.086409#no sample#1@/home/vsts/work/1/s/docs/examples/DataSet/linking_datasets_tutorial.db\n",
       "----------------------------------------------------------------------------------------------------------------------"
      ]
     },
     "execution_count": 1,
     "metadata": {},
     "output_type": "execute_result"
    }
   ],
   "source": [
    "now = str(datetime.datetime.now())\n",
    "tutorial_db_path = os.path.join(os.getcwd(), 'linking_datasets_tutorial.db')\n",
    "initialise_or_create_database_at(tutorial_db_path)\n",
    "load_or_create_experiment('tutorial ' + now, 'no sample')"
   ]
  },
  {
   "cell_type": "markdown",
   "metadata": {},
   "source": [
    "## Example 1: Measuring and then fitting\n",
    "\n",
    "Say we measure some raw data and subsequently do a curve fit to those data. We'd like to save the fit as a separate dataset that has a link to the dataset of the original data. This is achieved in two steps."
   ]
  },
  {
   "cell_type": "markdown",
   "metadata": {},
   "source": [
    "### Step 1: measure raw data"
   ]
  },
  {
   "cell_type": "code",
   "execution_count": 3,
   "metadata": {
    "execution": {
     "iopub.execute_input": "2020-10-13T07:11:02.192489Z",
     "iopub.status.busy": "2020-10-13T07:11:02.191783Z",
     "iopub.status.idle": "2020-10-13T07:11:02.211354Z",
     "shell.execute_reply": "2020-10-13T07:11:02.210670Z"
    }
   },
   "outputs": [
    {
     "name": "stdout",
     "output_type": "stream",
     "text": [
      "Starting experimental run with id: 1. \n"
     ]
    }
   ],
   "source": [
    "meas = Measurement()\n",
    "meas.register_custom_parameter(name='time',\n",
    "                               label='Time', unit='s',\n",
    "                               paramtype='array')\n",
    "meas.register_custom_parameter(name='signal',\n",
    "                               label='Signal', unit='V',\n",
    "                               paramtype='array',\n",
    "                               setpoints=['time'])\n",
    "\n",
    "N = 500\n",
    "\n",
    "with meas.run() as datasaver:\n",
    "    time_data = np.linspace(0, 1, N)\n",
    "    signal_data = np.sin(2*np.pi*time_data) + 0.25*np.random.randn(N)\n",
    "    \n",
    "    datasaver.add_result(('time', time_data), ('signal', signal_data))\n",
    "dataset = datasaver.dataset"
   ]
  },
  {
   "cell_type": "code",
   "execution_count": 4,
   "metadata": {
    "execution": {
     "iopub.execute_input": "2020-10-13T07:11:02.216263Z",
     "iopub.status.busy": "2020-10-13T07:11:02.215473Z",
     "iopub.status.idle": "2020-10-13T07:11:02.405651Z",
     "shell.execute_reply": "2020-10-13T07:11:02.405077Z"
    }
   },
   "outputs": [
    {
     "data": {
      "image/png": "[encoded data removed]",
      "text/plain": [
       "<Figure size 432x288 with 1 Axes>"
      ]
     },
     "metadata": {
      "needs_background": "light"
     },
     "output_type": "display_data"
    }
   ],
   "source": [
    "cbs, axs = plot_dataset(dataset)"
   ]
  },
  {
   "cell_type": "markdown",
   "metadata": {},
   "source": [
    "### Step 2: Set up a fit \"measurement\"\n",
    "\n",
    "We now load the raw data dataset, set up a new measurement for the fit, register the raw data as a parent and save a fit."
   ]
  },
  {
   "cell_type": "markdown",
   "metadata": {},
   "source": [
    "As the very first step, we supply a model to fit to."
   ]
  },
  {
   "cell_type": "code",
   "execution_count": 5,
   "metadata": {
    "execution": {
     "iopub.execute_input": "2020-10-13T07:11:02.410489Z",
     "iopub.status.busy": "2020-10-13T07:11:02.409925Z",
     "iopub.status.idle": "2020-10-13T07:11:02.414526Z",
     "shell.execute_reply": "2020-10-13T07:11:02.413907Z"
    }
   },
   "outputs": [],
   "source": [
    "def fit_func(x, a, b):\n",
    "    return a*np.sin(2*np.pi*x)+b"
   ]
  },
  {
   "cell_type": "markdown",
   "metadata": {},
   "source": [
    "Next, we set up the fitting measurement."
   ]
  },
  {
   "cell_type": "code",
   "execution_count": 6,
   "metadata": {
    "execution": {
     "iopub.execute_input": "2020-10-13T07:11:02.420694Z",
     "iopub.status.busy": "2020-10-13T07:11:02.419723Z",
     "iopub.status.idle": "2020-10-13T07:11:02.427662Z",
     "shell.execute_reply": "2020-10-13T07:11:02.427149Z"
    }
   },
   "outputs": [
    {
     "data": {
      "text/plain": [
       "<qcodes.dataset.measurements.Measurement at 0x7fc34e2acd50>"
      ]
     },
     "execution_count": 1,
     "metadata": {},
     "output_type": "execute_result"
    }
   ],
   "source": [
    "raw_data = load_by_run_spec(captured_run_id=dataset.captured_run_id)\n",
    "\n",
    "meas = Measurement()\n",
    "meas.register_custom_parameter('fit_axis',\n",
    "                               label='Fit axis', unit='t',\n",
    "                               paramtype='array')\n",
    "meas.register_custom_parameter('fit_curve',\n",
    "                               label='Fitted curve', unit='V',\n",
    "                               paramtype='array',\n",
    "                               setpoints=['fit_axis'])\n",
    "meas.register_custom_parameter('fit_param_a',\n",
    "                               label='Fitted parameter amplitude',\n",
    "                               unit='V')\n",
    "meas.register_custom_parameter('fit_param_b',\n",
    "                               label='Fitted parameter offset',\n",
    "                               unit='V')\n",
    "meas.register_parent(parent=raw_data, link_type=\"curve fit\")"
   ]
  },
  {
   "cell_type": "markdown",
   "metadata": {},
   "source": [
    "As we now run the measurement, the parent datasets become available via the datasaver. The datasets appear in the order they were registered."
   ]
  },
  {
   "cell_type": "code",
   "execution_count": 7,
   "metadata": {
    "execution": {
     "iopub.execute_input": "2020-10-13T07:11:02.435192Z",
     "iopub.status.busy": "2020-10-13T07:11:02.434607Z",
     "iopub.status.idle": "2020-10-13T07:11:02.465567Z",
     "shell.execute_reply": "2020-10-13T07:11:02.464756Z"
    }
   },
   "outputs": [
    {
     "name": "stdout",
     "output_type": "stream",
     "text": [
      "Starting experimental run with id: 2. \n"
     ]
    }
   ],
   "source": [
    "with meas.run() as datasaver:\n",
    "    raw = datasaver.parent_datasets[0]\n",
    "    xdata = np.ravel(raw.get_parameter_data()['signal']['time'])\n",
    "    ydata = np.ravel(raw.get_parameter_data()['signal']['signal'])\n",
    "    \n",
    "    popt, pcov = opt.curve_fit(fit_func, xdata, ydata, p0=[1, 1])\n",
    "    \n",
    "    fit_axis = xdata\n",
    "    fit_curve = fit_func(fit_axis, *popt)\n",
    "    \n",
    "    datasaver.add_result(('fit_axis', fit_axis),\n",
    "                         ('fit_curve', fit_curve),\n",
    "                         ('fit_param_a', popt[0]),\n",
    "                         ('fit_param_b', popt[1]))\n",
    "    \n",
    "fit_data = datasaver.dataset"
   ]
  },
  {
   "cell_type": "code",
   "execution_count": 8,
   "metadata": {
    "execution": {
     "iopub.execute_input": "2020-10-13T07:11:02.469684Z",
     "iopub.status.busy": "2020-10-13T07:11:02.468987Z",
     "iopub.status.idle": "2020-10-13T07:11:02.642431Z",
     "shell.execute_reply": "2020-10-13T07:11:02.643100Z"
    }
   },
   "outputs": [
    {
     "data": {
      "image/png": "[encoded data removed]",
      "text/plain": [
       "<Figure size 432x288 with 1 Axes>"
      ]
     },
     "metadata": {
      "needs_background": "light"
     },
     "output_type": "display_data"
    }
   ],
   "source": [
    "cbs, axs = plot_dataset(fit_data)"
   ]
  },
  {
   "cell_type": "markdown",
   "metadata": {},
   "source": [
    "And just for completeness, let us plot both datasets on top of each other."
   ]
  },
  {
   "cell_type": "code",
   "execution_count": 9,
   "metadata": {
    "execution": {
     "iopub.execute_input": "2020-10-13T07:11:02.665460Z",
     "iopub.status.busy": "2020-10-13T07:11:02.661339Z",
     "iopub.status.idle": "2020-10-13T07:11:02.854977Z",
     "shell.execute_reply": "2020-10-13T07:11:02.855495Z"
    }
   },
   "outputs": [
    {
     "data": {
      "text/plain": [
       "<matplotlib.legend.Legend at 0x7fc34e250dd0>"
      ]
     },
     "execution_count": 1,
     "metadata": {},
     "output_type": "execute_result"
    },
    {
     "data": {
      "image/png": "[encoded data removed]",
      "text/plain": [
       "<Figure size 432x288 with 1 Axes>"
      ]
     },
     "metadata": {
      "needs_background": "light"
     },
     "output_type": "display_data"
    }
   ],
   "source": [
    "fig, ax = plt.subplots(1)\n",
    "cbs, axs = plot_dataset(raw_data, axes=ax, label='data')\n",
    "cbs, axs = plot_dataset(fit_data, axes=ax, label='fit', linewidth=4)\n",
    "ax.set_xlabel('Time (s)')\n",
    "ax.set_ylabel('Signal (V)')\n",
    "plt.legend()"
   ]
  },
  {
   "cell_type": "code",
   "execution_count": null,
   "metadata": {},
   "outputs": [],
   "source": []
  }
 ],
 "metadata": {
  "kernelspec": {
   "display_name": "Python 3",
   "language": "python",
   "name": "python3"
  },
  "language_info": {
   "codemirror_mode": {
    "name": "ipython",
    "version": 3
   },
   "file_extension": ".py",
   "mimetype": "text/x-python",
   "name": "python",
   "nbconvert_exporter": "python",
   "pygments_lexer": "ipython3",
   "version": "3.7.7"
  }
 },
 "nbformat": 4,
 "nbformat_minor": 4
}
