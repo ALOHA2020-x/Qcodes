{
 "cells": [
  {
   "cell_type": "markdown",
   "metadata": {},
   "source": [
    "# Dataset Benchmarking\n",
    "\n",
    "This notebook is a behind-the-scenes benchmarking notebook, mainly for use by developers. The recommended way for users to interact with the dataset is via the `Measurement` object and its associated context manager. See the corresponding notebook for a comprehensive toturial on how to use those."
   ]
  },
  {
   "cell_type": "code",
   "execution_count": 1,
   "metadata": {
    "execution": {
     "iopub.execute_input": "2021-05-17T15:19:22.682526Z",
     "iopub.status.busy": "2021-05-17T15:19:22.681819Z",
     "iopub.status.idle": "2021-05-17T15:19:24.316926Z",
     "shell.execute_reply": "2021-05-17T15:19:24.316180Z"
    }
   },
   "outputs": [
    {
     "name": "stdout",
     "output_type": "stream",
     "text": [
      "Logging hadn't been started.\n",
      "Activating auto-logging. Current session state plus future input saved.\n",
      "Filename       : /home/runner/.qcodes/logs/command_history.log\n",
      "Mode           : append\n",
      "Output logging : True\n",
      "Raw input log  : False\n",
      "Timestamping   : True\n",
      "State          : active\n"
     ]
    },
    {
     "name": "stdout",
     "output_type": "stream",
     "text": [
      "Qcodes Logfile : /home/runner/.qcodes/logs/210517-3709-qcodes.log\n"
     ]
    }
   ],
   "source": [
    "%matplotlib inline\n",
    "import matplotlib.pyplot as plt\n",
    "import qcodes as qc\n",
    "from qcodes import ParamSpec, new_data_set, new_experiment, initialise_database, load_or_create_experiment\n",
    "import numpy as np"
   ]
  },
  {
   "cell_type": "code",
   "execution_count": 2,
   "metadata": {
    "execution": {
     "iopub.execute_input": "2021-05-17T15:19:24.325502Z",
     "iopub.status.busy": "2021-05-17T15:19:24.324763Z",
     "iopub.status.idle": "2021-05-17T15:19:24.331478Z",
     "shell.execute_reply": "2021-05-17T15:19:24.330854Z"
    }
   },
   "outputs": [
    {
     "data": {
      "text/plain": [
       "'~/experiments.db'"
      ]
     },
     "execution_count": 1,
     "metadata": {},
     "output_type": "execute_result"
    }
   ],
   "source": [
    "qc.config.core.db_location"
   ]
  },
  {
   "cell_type": "code",
   "execution_count": 3,
   "metadata": {
    "execution": {
     "iopub.execute_input": "2021-05-17T15:19:24.336087Z",
     "iopub.status.busy": "2021-05-17T15:19:24.334776Z",
     "iopub.status.idle": "2021-05-17T15:19:24.339146Z",
     "shell.execute_reply": "2021-05-17T15:19:24.338388Z"
    }
   },
   "outputs": [],
   "source": [
    "initialise_database()"
   ]
  },
  {
   "cell_type": "markdown",
   "metadata": {},
   "source": [
    "## Setup"
   ]
  },
  {
   "cell_type": "code",
   "execution_count": 4,
   "metadata": {
    "execution": {
     "iopub.execute_input": "2021-05-17T15:19:24.343693Z",
     "iopub.status.busy": "2021-05-17T15:19:24.342945Z",
     "iopub.status.idle": "2021-05-17T15:19:24.351344Z",
     "shell.execute_reply": "2021-05-17T15:19:24.351881Z"
    }
   },
   "outputs": [
    {
     "data": {
      "text/plain": [
       "benchmarking#the sample is a lie#1@/home/runner/experiments.db\n",
       "--------------------------------------------------------------"
      ]
     },
     "execution_count": 1,
     "metadata": {},
     "output_type": "execute_result"
    }
   ],
   "source": [
    "exp = load_or_create_experiment(\"benchmarking\", sample_name=\"the sample is a lie\")\n",
    "exp"
   ]
  },
  {
   "cell_type": "markdown",
   "metadata": {},
   "source": [
    "Now we can create a dataset. Note two things:\n",
    "\n",
    "    - if we don't specfiy a exp_id, but we have an experiment in the experiment container the dataset will go into that one.\n",
    "    - dataset can be created from the experiment object\n",
    "    "
   ]
  },
  {
   "cell_type": "code",
   "execution_count": 5,
   "metadata": {
    "execution": {
     "iopub.execute_input": "2021-05-17T15:19:24.356218Z",
     "iopub.status.busy": "2021-05-17T15:19:24.355513Z",
     "iopub.status.idle": "2021-05-17T15:19:24.365392Z",
     "shell.execute_reply": "2021-05-17T15:19:24.364676Z"
    }
   },
   "outputs": [
    {
     "data": {
      "text/plain": [
       "benchmarking#the sample is a lie#1@/home/runner/experiments.db\n",
       "--------------------------------------------------------------\n",
       "1-benchmark_data-1--0"
      ]
     },
     "execution_count": 1,
     "metadata": {},
     "output_type": "execute_result"
    }
   ],
   "source": [
    "dataSet = new_data_set(\"benchmark_data\", exp_id=exp.exp_id)\n",
    "exp"
   ]
  },
  {
   "cell_type": "markdown",
   "metadata": {},
   "source": [
    "In this benchmark we will assueme that we are doing a 2D loop and investigate the performance implications of writing to the dataset"
   ]
  },
  {
   "cell_type": "code",
   "execution_count": 6,
   "metadata": {
    "execution": {
     "iopub.execute_input": "2021-05-17T15:19:24.370985Z",
     "iopub.status.busy": "2021-05-17T15:19:24.369186Z",
     "iopub.status.idle": "2021-05-17T15:19:24.371750Z",
     "shell.execute_reply": "2021-05-17T15:19:24.372289Z"
    }
   },
   "outputs": [],
   "source": [
    "x_shape = 100\n",
    "y_shape = 100"
   ]
  },
  {
   "cell_type": "markdown",
   "metadata": {},
   "source": [
    "## Baseline: Generate data"
   ]
  },
  {
   "cell_type": "code",
   "execution_count": 7,
   "metadata": {
    "execution": {
     "iopub.execute_input": "2021-05-17T15:19:24.377638Z",
     "iopub.status.busy": "2021-05-17T15:19:24.376903Z",
     "iopub.status.idle": "2021-05-17T15:19:24.396548Z",
     "shell.execute_reply": "2021-05-17T15:19:24.395837Z"
    }
   },
   "outputs": [
    {
     "name": "stdout",
     "output_type": "stream",
     "text": [
      "CPU times: user 16.4 ms, sys: 65 µs, total: 16.5 ms\n",
      "Wall time: 16.1 ms\n"
     ]
    }
   ],
   "source": [
    "%%time\n",
    "for x in range(x_shape):\n",
    "    for y in range(y_shape):\n",
    "        z = np.random.random_sample(1)"
   ]
  },
  {
   "cell_type": "markdown",
   "metadata": {},
   "source": [
    "and store in memory"
   ]
  },
  {
   "cell_type": "code",
   "execution_count": 8,
   "metadata": {
    "execution": {
     "iopub.execute_input": "2021-05-17T15:19:24.402669Z",
     "iopub.status.busy": "2021-05-17T15:19:24.400996Z",
     "iopub.status.idle": "2021-05-17T15:19:24.403618Z",
     "shell.execute_reply": "2021-05-17T15:19:24.404220Z"
    }
   },
   "outputs": [],
   "source": [
    "x_data = np.zeros((x_shape, y_shape))\n",
    "y_data = np.zeros((x_shape, y_shape))\n",
    "z_data = np.zeros((x_shape, y_shape))"
   ]
  },
  {
   "cell_type": "code",
   "execution_count": 9,
   "metadata": {
    "execution": {
     "iopub.execute_input": "2021-05-17T15:19:24.421347Z",
     "iopub.status.busy": "2021-05-17T15:19:24.412399Z",
     "iopub.status.idle": "2021-05-17T15:19:24.424121Z",
     "shell.execute_reply": "2021-05-17T15:19:24.424662Z"
    }
   },
   "outputs": [
    {
     "name": "stdout",
     "output_type": "stream",
     "text": [
      "CPU times: user 11.6 ms, sys: 0 ns, total: 11.6 ms\n",
      "Wall time: 11.5 ms\n"
     ]
    }
   ],
   "source": [
    "%%time\n",
    "for x in range(x_shape):\n",
    "    for y in range(y_shape):\n",
    "        x_data[x,y] = x\n",
    "        y_data[x,y] = y\n",
    "        z_data[x,y] = np.random.random_sample()"
   ]
  },
  {
   "cell_type": "markdown",
   "metadata": {},
   "source": [
    "## Add to dataset inside double loop"
   ]
  },
  {
   "cell_type": "code",
   "execution_count": 10,
   "metadata": {
    "execution": {
     "iopub.execute_input": "2021-05-17T15:19:24.435279Z",
     "iopub.status.busy": "2021-05-17T15:19:24.434602Z",
     "iopub.status.idle": "2021-05-17T15:19:24.441574Z",
     "shell.execute_reply": "2021-05-17T15:19:24.440911Z"
    }
   },
   "outputs": [],
   "source": [
    "double_dataset = new_data_set(\"doubledata\", exp_id=exp.exp_id,\n",
    "                              specs=[ParamSpec(\"x\", \"numeric\"),\n",
    "                                     ParamSpec(\"y\", \"numeric\"),\n",
    "                                     ParamSpec('z', \"numeric\")])\n",
    "double_dataset.mark_started()"
   ]
  },
  {
   "cell_type": "markdown",
   "metadata": {},
   "source": [
    "Note that this is so slow that we are only doing a 10th of the computation"
   ]
  },
  {
   "cell_type": "code",
   "execution_count": 11,
   "metadata": {
    "execution": {
     "iopub.execute_input": "2021-05-17T15:19:24.446301Z",
     "iopub.status.busy": "2021-05-17T15:19:24.444843Z",
     "iopub.status.idle": "2021-05-17T15:19:25.710716Z",
     "shell.execute_reply": "2021-05-17T15:19:25.711218Z"
    }
   },
   "outputs": [
    {
     "name": "stdout",
     "output_type": "stream",
     "text": [
      "CPU times: user 467 ms, sys: 55.8 ms, total: 523 ms\n",
      "Wall time: 1.26 s\n"
     ]
    }
   ],
   "source": [
    "%%time\n",
    "for x in range(x_shape//10):\n",
    "    for y in range(y_shape):\n",
    "        double_dataset.add_results([{\"x\": x, 'y': y, 'z': np.random.random_sample()}])"
   ]
  },
  {
   "cell_type": "markdown",
   "metadata": {},
   "source": [
    "## Add the data in outer loop and store as np array"
   ]
  },
  {
   "cell_type": "code",
   "execution_count": 12,
   "metadata": {
    "execution": {
     "iopub.execute_input": "2021-05-17T15:19:25.717121Z",
     "iopub.status.busy": "2021-05-17T15:19:25.716447Z",
     "iopub.status.idle": "2021-05-17T15:19:25.727040Z",
     "shell.execute_reply": "2021-05-17T15:19:25.727536Z"
    }
   },
   "outputs": [],
   "source": [
    "single_dataset = new_data_set(\"singledata\", exp_id=exp.exp_id,\n",
    "                              specs=[ParamSpec(\"x\", \"array\"),\n",
    "                                     ParamSpec(\"y\", \"array\"),\n",
    "                                     ParamSpec('z', \"array\")])\n",
    "single_dataset.mark_started()\n",
    "x_data = np.zeros((y_shape))\n",
    "y_data = np.zeros((y_shape))\n",
    "z_data = np.zeros((y_shape))"
   ]
  },
  {
   "cell_type": "code",
   "execution_count": 13,
   "metadata": {
    "execution": {
     "iopub.execute_input": "2021-05-17T15:19:25.733230Z",
     "iopub.status.busy": "2021-05-17T15:19:25.732469Z",
     "iopub.status.idle": "2021-05-17T15:19:25.886322Z",
     "shell.execute_reply": "2021-05-17T15:19:25.885680Z"
    }
   },
   "outputs": [
    {
     "name": "stdout",
     "output_type": "stream",
     "text": [
      "CPU times: user 124 ms, sys: 6.06 ms, total: 130 ms\n",
      "Wall time: 150 ms\n"
     ]
    }
   ],
   "source": [
    "%%time\n",
    "for x in range(x_shape):\n",
    "    for y in range(y_shape):\n",
    "        x_data[y] = x\n",
    "        y_data[y] = y\n",
    "        z_data[y] = np.random.random_sample(1)\n",
    "    single_dataset.add_results([{\"x\": x_data, 'y': y_data, 'z': z_data}])"
   ]
  },
  {
   "cell_type": "markdown",
   "metadata": {},
   "source": [
    "## Save once after loop"
   ]
  },
  {
   "cell_type": "code",
   "execution_count": 14,
   "metadata": {
    "execution": {
     "iopub.execute_input": "2021-05-17T15:19:25.892215Z",
     "iopub.status.busy": "2021-05-17T15:19:25.891498Z",
     "iopub.status.idle": "2021-05-17T15:19:25.902712Z",
     "shell.execute_reply": "2021-05-17T15:19:25.903207Z"
    }
   },
   "outputs": [],
   "source": [
    "zero_dataset = new_data_set(\"zerodata\", exp_id=exp.exp_id,\n",
    "                            specs=[ParamSpec(\"x\", \"array\"),\n",
    "                                   ParamSpec(\"y\", \"array\"),\n",
    "                                   ParamSpec('z', \"array\")])\n",
    "zero_dataset.mark_started()\n",
    "x_data = np.zeros((x_shape, y_shape))\n",
    "y_data = np.zeros((x_shape, y_shape))\n",
    "z_data = np.zeros((x_shape, y_shape))"
   ]
  },
  {
   "cell_type": "code",
   "execution_count": 15,
   "metadata": {
    "execution": {
     "iopub.execute_input": "2021-05-17T15:19:25.908032Z",
     "iopub.status.busy": "2021-05-17T15:19:25.906469Z",
     "iopub.status.idle": "2021-05-17T15:19:25.938874Z",
     "shell.execute_reply": "2021-05-17T15:19:25.937979Z"
    }
   },
   "outputs": [
    {
     "name": "stdout",
     "output_type": "stream",
     "text": [
      "CPU times: user 27 ms, sys: 0 ns, total: 27 ms\n",
      "Wall time: 27.1 ms\n"
     ]
    }
   ],
   "source": [
    "%%time\n",
    "for x in range(x_shape):\n",
    "    for y in range(y_shape):\n",
    "        x_data[x,y] = x\n",
    "        y_data[x,y] = y\n",
    "        z_data[x,y] = np.random.random_sample(1)\n",
    "zero_dataset.add_results([{'x':x_data, 'y':y_data, 'z':z_data}])"
   ]
  },
  {
   "cell_type": "markdown",
   "metadata": {},
   "source": [
    "## Array parameter"
   ]
  },
  {
   "cell_type": "code",
   "execution_count": 16,
   "metadata": {
    "execution": {
     "iopub.execute_input": "2021-05-17T15:19:25.944041Z",
     "iopub.status.busy": "2021-05-17T15:19:25.943311Z",
     "iopub.status.idle": "2021-05-17T15:19:25.953734Z",
     "shell.execute_reply": "2021-05-17T15:19:25.952947Z"
    }
   },
   "outputs": [],
   "source": [
    "array1D_dataset = new_data_set(\"array1Ddata\", exp_id=exp.exp_id,\n",
    "                               specs=[ParamSpec(\"x\", \"array\"),\n",
    "                                      ParamSpec(\"y\", \"array\"),\n",
    "                                      ParamSpec('z', \"array\")])\n",
    "array1D_dataset.mark_started()\n",
    "y_setpoints = np.arange(y_shape)"
   ]
  },
  {
   "cell_type": "code",
   "execution_count": 17,
   "metadata": {
    "execution": {
     "iopub.execute_input": "2021-05-17T15:19:25.960210Z",
     "iopub.status.busy": "2021-05-17T15:19:25.958836Z",
     "iopub.status.idle": "2021-05-17T15:19:37.209229Z",
     "shell.execute_reply": "2021-05-17T15:19:37.209918Z"
    }
   },
   "outputs": [
    {
     "name": "stdout",
     "output_type": "stream",
     "text": [
      "136 ms ± 2.8 ms per loop (mean ± std. dev. of 7 runs, 10 loops each)\n"
     ]
    }
   ],
   "source": [
    "%%timeit\n",
    "for x in range(x_shape):\n",
    "    x_data[x,:] = x\n",
    "    array1D_dataset.add_results([{'x':x_data[x,:], 'y':y_setpoints, 'z':np.random.random_sample(y_shape)}])"
   ]
  },
  {
   "cell_type": "code",
   "execution_count": 18,
   "metadata": {
    "execution": {
     "iopub.execute_input": "2021-05-17T15:19:37.215201Z",
     "iopub.status.busy": "2021-05-17T15:19:37.214540Z",
     "iopub.status.idle": "2021-05-17T15:19:37.219042Z",
     "shell.execute_reply": "2021-05-17T15:19:37.218441Z"
    }
   },
   "outputs": [],
   "source": [
    "x_data = np.zeros((x_shape, y_shape))\n",
    "y_data = np.zeros((x_shape, y_shape))\n",
    "z_data = np.zeros((x_shape, y_shape))\n",
    "y_setpoints = np.arange(y_shape)"
   ]
  },
  {
   "cell_type": "code",
   "execution_count": 19,
   "metadata": {
    "execution": {
     "iopub.execute_input": "2021-05-17T15:19:37.223739Z",
     "iopub.status.busy": "2021-05-17T15:19:37.223069Z",
     "iopub.status.idle": "2021-05-17T15:19:37.233704Z",
     "shell.execute_reply": "2021-05-17T15:19:37.234405Z"
    }
   },
   "outputs": [],
   "source": [
    "array0D_dataset = new_data_set(\"array0Ddata\", exp_id=exp.exp_id,\n",
    "                               specs=[ParamSpec(\"x\", \"array\"),\n",
    "                                      ParamSpec(\"y\", \"array\"),\n",
    "                                      ParamSpec('z', \"array\")])\n",
    "array0D_dataset.mark_started()"
   ]
  },
  {
   "cell_type": "code",
   "execution_count": 20,
   "metadata": {
    "execution": {
     "iopub.execute_input": "2021-05-17T15:19:37.239582Z",
     "iopub.status.busy": "2021-05-17T15:19:37.237328Z",
     "iopub.status.idle": "2021-05-17T15:19:39.626229Z",
     "shell.execute_reply": "2021-05-17T15:19:39.625637Z"
    }
   },
   "outputs": [
    {
     "name": "stdout",
     "output_type": "stream",
     "text": [
      "2.93 ms ± 101 µs per loop (mean ± std. dev. of 7 runs, 100 loops each)\n"
     ]
    }
   ],
   "source": [
    "%%timeit\n",
    "for x in range(x_shape):\n",
    "    x_data[x,:] = x\n",
    "    y_data[x,:] = y_setpoints\n",
    "    z_data[x,:] = np.random.random_sample(y_shape)\n",
    "array0D_dataset.add_results([{'x':x_data, 'y':y_data, 'z':z_data}])"
   ]
  },
  {
   "cell_type": "markdown",
   "metadata": {},
   "source": [
    "## Insert many"
   ]
  },
  {
   "cell_type": "code",
   "execution_count": 21,
   "metadata": {
    "execution": {
     "iopub.execute_input": "2021-05-17T15:19:39.638200Z",
     "iopub.status.busy": "2021-05-17T15:19:39.635443Z",
     "iopub.status.idle": "2021-05-17T15:19:39.640167Z",
     "shell.execute_reply": "2021-05-17T15:19:39.640658Z"
    }
   },
   "outputs": [],
   "source": [
    "data = []\n",
    "for i in range(100):\n",
    "    for j in range(100):\n",
    "        data.append({'x': i, 'y':j, 'z':np.random.random_sample()})"
   ]
  },
  {
   "cell_type": "code",
   "execution_count": 22,
   "metadata": {
    "execution": {
     "iopub.execute_input": "2021-05-17T15:19:39.644876Z",
     "iopub.status.busy": "2021-05-17T15:19:39.644153Z",
     "iopub.status.idle": "2021-05-17T15:19:39.655789Z",
     "shell.execute_reply": "2021-05-17T15:19:39.656319Z"
    }
   },
   "outputs": [],
   "source": [
    "many_Data = new_data_set(\"many_data\", exp_id=exp.exp_id,\n",
    "                         specs=[ParamSpec(\"x\", \"numeric\"),\n",
    "                                ParamSpec(\"y\", \"numeric\"),\n",
    "                                ParamSpec(\"z\", \"numeric\")])\n",
    "many_Data.mark_started()"
   ]
  },
  {
   "cell_type": "code",
   "execution_count": 23,
   "metadata": {
    "execution": {
     "iopub.execute_input": "2021-05-17T15:19:39.672852Z",
     "iopub.status.busy": "2021-05-17T15:19:39.664510Z",
     "iopub.status.idle": "2021-05-17T15:19:44.476449Z",
     "shell.execute_reply": "2021-05-17T15:19:44.476975Z"
    }
   },
   "outputs": [
    {
     "name": "stdout",
     "output_type": "stream",
     "text": [
      "59.1 ms ± 891 µs per loop (mean ± std. dev. of 7 runs, 10 loops each)\n"
     ]
    }
   ],
   "source": [
    "%%timeit\n",
    "many_Data.add_results(data)"
   ]
  }
 ],
 "metadata": {
  "kernelspec": {
   "display_name": "Python 3",
   "language": "python",
   "name": "python3"
  },
  "language_info": {
   "codemirror_mode": {
    "name": "ipython",
    "version": 3
   },
   "file_extension": ".py",
   "mimetype": "text/x-python",
   "name": "python",
   "nbconvert_exporter": "python",
   "pygments_lexer": "ipython3",
   "version": "3.7.10"
  },
  "nbsphinx": {
   "timeout": 600
  }
 },
 "nbformat": 4,
 "nbformat_minor": 2
}
