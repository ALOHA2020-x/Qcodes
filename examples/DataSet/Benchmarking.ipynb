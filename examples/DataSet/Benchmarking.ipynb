{
 "cells": [
  {
   "cell_type": "markdown",
   "metadata": {},
   "source": [
    "# Dataset Benchmarking\n",
    "\n",
    "This notebook is a behind-the-scenes benchmarking notebook, mainly for use by developers. The recommended way for users to interact with the dataset is via the `Measurement` object and its associated context manager. See the corresponding notebook for a comprehensive toturial on how to use those."
   ]
  },
  {
   "cell_type": "code",
   "execution_count": 1,
   "metadata": {
    "execution": {
     "iopub.execute_input": "2021-01-03T12:47:15.685421Z",
     "iopub.status.busy": "2021-01-03T12:47:15.684788Z",
     "iopub.status.idle": "2021-01-03T12:47:16.986378Z",
     "shell.execute_reply": "2021-01-03T12:47:16.986839Z"
    }
   },
   "outputs": [
    {
     "name": "stdout",
     "output_type": "stream",
     "text": [
      "Logging hadn't been started.\n",
      "Activating auto-logging. Current session state plus future input saved.\n",
      "Filename       : /home/vsts/.qcodes/logs/command_history.log\n",
      "Mode           : append\n",
      "Output logging : True\n",
      "Raw input log  : False\n",
      "Timestamping   : True\n",
      "State          : active\n"
     ]
    },
    {
     "name": "stdout",
     "output_type": "stream",
     "text": [
      "Qcodes Logfile : /home/vsts/.qcodes/logs/210103-12736-qcodes.log\n"
     ]
    }
   ],
   "source": [
    "%matplotlib inline\n",
    "import matplotlib.pyplot as plt\n",
    "import qcodes as qc\n",
    "from qcodes import ParamSpec, new_data_set, new_experiment, initialise_database, load_or_create_experiment\n",
    "import numpy as np"
   ]
  },
  {
   "cell_type": "code",
   "execution_count": 2,
   "metadata": {
    "execution": {
     "iopub.execute_input": "2021-01-03T12:47:16.992885Z",
     "iopub.status.busy": "2021-01-03T12:47:16.992376Z",
     "iopub.status.idle": "2021-01-03T12:47:16.998165Z",
     "shell.execute_reply": "2021-01-03T12:47:16.997708Z"
    }
   },
   "outputs": [
    {
     "data": {
      "text/plain": [
       "'~/experiments.db'"
      ]
     },
     "execution_count": 1,
     "metadata": {},
     "output_type": "execute_result"
    }
   ],
   "source": [
    "qc.config.core.db_location"
   ]
  },
  {
   "cell_type": "code",
   "execution_count": 3,
   "metadata": {
    "execution": {
     "iopub.execute_input": "2021-01-03T12:47:17.001948Z",
     "iopub.status.busy": "2021-01-03T12:47:17.000984Z",
     "iopub.status.idle": "2021-01-03T12:47:17.004466Z",
     "shell.execute_reply": "2021-01-03T12:47:17.003914Z"
    }
   },
   "outputs": [],
   "source": [
    "initialise_database()"
   ]
  },
  {
   "cell_type": "markdown",
   "metadata": {},
   "source": [
    "## Setup"
   ]
  },
  {
   "cell_type": "code",
   "execution_count": 4,
   "metadata": {
    "execution": {
     "iopub.execute_input": "2021-01-03T12:47:17.007746Z",
     "iopub.status.busy": "2021-01-03T12:47:17.007233Z",
     "iopub.status.idle": "2021-01-03T12:47:17.015845Z",
     "shell.execute_reply": "2021-01-03T12:47:17.015295Z"
    }
   },
   "outputs": [
    {
     "data": {
      "text/plain": [
       "benchmarking#the sample is a lie#1@/home/vsts/experiments.db\n",
       "------------------------------------------------------------"
      ]
     },
     "execution_count": 1,
     "metadata": {},
     "output_type": "execute_result"
    }
   ],
   "source": [
    "exp = load_or_create_experiment(\"benchmarking\", sample_name=\"the sample is a lie\")\n",
    "exp"
   ]
  },
  {
   "cell_type": "markdown",
   "metadata": {},
   "source": [
    "Now we can create a dataset. Note two things:\n",
    "\n",
    "    - if we don't specfiy a exp_id, but we have an experiment in the experiment container the dataset will go into that one.\n",
    "    - dataset can be created from the experiment object\n",
    "    "
   ]
  },
  {
   "cell_type": "code",
   "execution_count": 5,
   "metadata": {
    "execution": {
     "iopub.execute_input": "2021-01-03T12:47:17.019597Z",
     "iopub.status.busy": "2021-01-03T12:47:17.019084Z",
     "iopub.status.idle": "2021-01-03T12:47:17.026574Z",
     "shell.execute_reply": "2021-01-03T12:47:17.026098Z"
    }
   },
   "outputs": [
    {
     "data": {
      "text/plain": [
       "benchmarking#the sample is a lie#1@/home/vsts/experiments.db\n",
       "------------------------------------------------------------\n",
       "1-benchmark_data-1--0"
      ]
     },
     "execution_count": 1,
     "metadata": {},
     "output_type": "execute_result"
    }
   ],
   "source": [
    "dataSet = new_data_set(\"benchmark_data\", exp_id=exp.exp_id)\n",
    "exp"
   ]
  },
  {
   "cell_type": "markdown",
   "metadata": {},
   "source": [
    "In this benchmark we will assueme that we are doing a 2D loop and investigate the performance implications of writing to the dataset"
   ]
  },
  {
   "cell_type": "code",
   "execution_count": 6,
   "metadata": {
    "execution": {
     "iopub.execute_input": "2021-01-03T12:47:17.032515Z",
     "iopub.status.busy": "2021-01-03T12:47:17.031676Z",
     "iopub.status.idle": "2021-01-03T12:47:17.033013Z",
     "shell.execute_reply": "2021-01-03T12:47:17.033579Z"
    }
   },
   "outputs": [],
   "source": [
    "x_shape = 100\n",
    "y_shape = 100"
   ]
  },
  {
   "cell_type": "markdown",
   "metadata": {},
   "source": [
    "## Baseline: Generate data"
   ]
  },
  {
   "cell_type": "code",
   "execution_count": 7,
   "metadata": {
    "execution": {
     "iopub.execute_input": "2021-01-03T12:47:17.037761Z",
     "iopub.status.busy": "2021-01-03T12:47:17.037273Z",
     "iopub.status.idle": "2021-01-03T12:47:17.059888Z",
     "shell.execute_reply": "2021-01-03T12:47:17.060542Z"
    }
   },
   "outputs": [
    {
     "name": "stdout",
     "output_type": "stream",
     "text": [
      "CPU times: user 19.5 ms, sys: 0 ns, total: 19.5 ms\n",
      "Wall time: 19.4 ms\n"
     ]
    }
   ],
   "source": [
    "%%time\n",
    "for x in range(x_shape):\n",
    "    for y in range(y_shape):\n",
    "        z = np.random.random_sample(1)"
   ]
  },
  {
   "cell_type": "markdown",
   "metadata": {},
   "source": [
    "and store in memory"
   ]
  },
  {
   "cell_type": "code",
   "execution_count": 8,
   "metadata": {
    "execution": {
     "iopub.execute_input": "2021-01-03T12:47:17.065446Z",
     "iopub.status.busy": "2021-01-03T12:47:17.064445Z",
     "iopub.status.idle": "2021-01-03T12:47:17.066261Z",
     "shell.execute_reply": "2021-01-03T12:47:17.066749Z"
    }
   },
   "outputs": [],
   "source": [
    "x_data = np.zeros((x_shape, y_shape))\n",
    "y_data = np.zeros((x_shape, y_shape))\n",
    "z_data = np.zeros((x_shape, y_shape))"
   ]
  },
  {
   "cell_type": "code",
   "execution_count": 9,
   "metadata": {
    "execution": {
     "iopub.execute_input": "2021-01-03T12:47:17.080873Z",
     "iopub.status.busy": "2021-01-03T12:47:17.074443Z",
     "iopub.status.idle": "2021-01-03T12:47:17.082748Z",
     "shell.execute_reply": "2021-01-03T12:47:17.083265Z"
    }
   },
   "outputs": [
    {
     "name": "stdout",
     "output_type": "stream",
     "text": [
      "CPU times: user 9.68 ms, sys: 247 µs, total: 9.93 ms\n",
      "Wall time: 9.77 ms\n"
     ]
    }
   ],
   "source": [
    "%%time\n",
    "for x in range(x_shape):\n",
    "    for y in range(y_shape):\n",
    "        x_data[x,y] = x\n",
    "        y_data[x,y] = y\n",
    "        z_data[x,y] = np.random.random_sample()"
   ]
  },
  {
   "cell_type": "markdown",
   "metadata": {},
   "source": [
    "## Add to dataset inside double loop"
   ]
  },
  {
   "cell_type": "code",
   "execution_count": 10,
   "metadata": {
    "execution": {
     "iopub.execute_input": "2021-01-03T12:47:17.087159Z",
     "iopub.status.busy": "2021-01-03T12:47:17.086640Z",
     "iopub.status.idle": "2021-01-03T12:47:17.101207Z",
     "shell.execute_reply": "2021-01-03T12:47:17.100633Z"
    }
   },
   "outputs": [],
   "source": [
    "double_dataset = new_data_set(\"doubledata\", exp_id=exp.exp_id,\n",
    "                              specs=[ParamSpec(\"x\", \"numeric\"),\n",
    "                                     ParamSpec(\"y\", \"numeric\"),\n",
    "                                     ParamSpec('z', \"numeric\")])\n",
    "double_dataset.mark_started()"
   ]
  },
  {
   "cell_type": "markdown",
   "metadata": {},
   "source": [
    "Note that this is so slow that we are only doing a 10th of the computation"
   ]
  },
  {
   "cell_type": "code",
   "execution_count": 11,
   "metadata": {
    "execution": {
     "iopub.execute_input": "2021-01-03T12:47:17.105380Z",
     "iopub.status.busy": "2021-01-03T12:47:17.104802Z",
     "iopub.status.idle": "2021-01-03T12:47:18.215342Z",
     "shell.execute_reply": "2021-01-03T12:47:18.214848Z"
    }
   },
   "outputs": [
    {
     "name": "stdout",
     "output_type": "stream",
     "text": [
      "CPU times: user 314 ms, sys: 50.7 ms, total: 364 ms\n",
      "Wall time: 1.11 s\n"
     ]
    }
   ],
   "source": [
    "%%time\n",
    "for x in range(x_shape//10):\n",
    "    for y in range(y_shape):\n",
    "        double_dataset.add_results([{\"x\": x, 'y': y, 'z': np.random.random_sample()}])"
   ]
  },
  {
   "cell_type": "markdown",
   "metadata": {},
   "source": [
    "## Add the data in outer loop and store as np array"
   ]
  },
  {
   "cell_type": "code",
   "execution_count": 12,
   "metadata": {
    "execution": {
     "iopub.execute_input": "2021-01-03T12:47:18.220521Z",
     "iopub.status.busy": "2021-01-03T12:47:18.220002Z",
     "iopub.status.idle": "2021-01-03T12:47:18.229737Z",
     "shell.execute_reply": "2021-01-03T12:47:18.230159Z"
    }
   },
   "outputs": [],
   "source": [
    "single_dataset = new_data_set(\"singledata\", exp_id=exp.exp_id,\n",
    "                              specs=[ParamSpec(\"x\", \"array\"),\n",
    "                                     ParamSpec(\"y\", \"array\"),\n",
    "                                     ParamSpec('z', \"array\")])\n",
    "single_dataset.mark_started()\n",
    "x_data = np.zeros((y_shape))\n",
    "y_data = np.zeros((y_shape))\n",
    "z_data = np.zeros((y_shape))"
   ]
  },
  {
   "cell_type": "code",
   "execution_count": 13,
   "metadata": {
    "execution": {
     "iopub.execute_input": "2021-01-03T12:47:18.234230Z",
     "iopub.status.busy": "2021-01-03T12:47:18.232903Z",
     "iopub.status.idle": "2021-01-03T12:47:18.387749Z",
     "shell.execute_reply": "2021-01-03T12:47:18.387271Z"
    }
   },
   "outputs": [
    {
     "name": "stdout",
     "output_type": "stream",
     "text": [
      "CPU times: user 111 ms, sys: 9.39 ms, total: 120 ms\n",
      "Wall time: 150 ms\n"
     ]
    }
   ],
   "source": [
    "%%time\n",
    "for x in range(x_shape):\n",
    "    for y in range(y_shape):\n",
    "        x_data[y] = x\n",
    "        y_data[y] = y\n",
    "        z_data[y] = np.random.random_sample(1)\n",
    "    single_dataset.add_results([{\"x\": x_data, 'y': y_data, 'z': z_data}])"
   ]
  },
  {
   "cell_type": "markdown",
   "metadata": {},
   "source": [
    "## Save once after loop"
   ]
  },
  {
   "cell_type": "code",
   "execution_count": 14,
   "metadata": {
    "execution": {
     "iopub.execute_input": "2021-01-03T12:47:18.392585Z",
     "iopub.status.busy": "2021-01-03T12:47:18.392063Z",
     "iopub.status.idle": "2021-01-03T12:47:18.401448Z",
     "shell.execute_reply": "2021-01-03T12:47:18.400772Z"
    }
   },
   "outputs": [],
   "source": [
    "zero_dataset = new_data_set(\"zerodata\", exp_id=exp.exp_id,\n",
    "                            specs=[ParamSpec(\"x\", \"array\"),\n",
    "                                   ParamSpec(\"y\", \"array\"),\n",
    "                                   ParamSpec('z', \"array\")])\n",
    "zero_dataset.mark_started()\n",
    "x_data = np.zeros((x_shape, y_shape))\n",
    "y_data = np.zeros((x_shape, y_shape))\n",
    "z_data = np.zeros((x_shape, y_shape))"
   ]
  },
  {
   "cell_type": "code",
   "execution_count": 15,
   "metadata": {
    "execution": {
     "iopub.execute_input": "2021-01-03T12:47:18.405802Z",
     "iopub.status.busy": "2021-01-03T12:47:18.405288Z",
     "iopub.status.idle": "2021-01-03T12:47:18.433069Z",
     "shell.execute_reply": "2021-01-03T12:47:18.432501Z"
    }
   },
   "outputs": [
    {
     "name": "stdout",
     "output_type": "stream",
     "text": [
      "CPU times: user 24 ms, sys: 0 ns, total: 24 ms\n",
      "Wall time: 24.1 ms\n"
     ]
    }
   ],
   "source": [
    "%%time\n",
    "for x in range(x_shape):\n",
    "    for y in range(y_shape):\n",
    "        x_data[x,y] = x\n",
    "        y_data[x,y] = y\n",
    "        z_data[x,y] = np.random.random_sample(1)\n",
    "zero_dataset.add_results([{'x':x_data, 'y':y_data, 'z':z_data}])"
   ]
  },
  {
   "cell_type": "markdown",
   "metadata": {},
   "source": [
    "## Array parameter"
   ]
  },
  {
   "cell_type": "code",
   "execution_count": 16,
   "metadata": {
    "execution": {
     "iopub.execute_input": "2021-01-03T12:47:18.437773Z",
     "iopub.status.busy": "2021-01-03T12:47:18.437221Z",
     "iopub.status.idle": "2021-01-03T12:47:18.446216Z",
     "shell.execute_reply": "2021-01-03T12:47:18.445679Z"
    }
   },
   "outputs": [],
   "source": [
    "array1D_dataset = new_data_set(\"array1Ddata\", exp_id=exp.exp_id,\n",
    "                               specs=[ParamSpec(\"x\", \"array\"),\n",
    "                                      ParamSpec(\"y\", \"array\"),\n",
    "                                      ParamSpec('z', \"array\")])\n",
    "array1D_dataset.mark_started()\n",
    "y_setpoints = np.arange(y_shape)"
   ]
  },
  {
   "cell_type": "code",
   "execution_count": 17,
   "metadata": {
    "execution": {
     "iopub.execute_input": "2021-01-03T12:47:18.452057Z",
     "iopub.status.busy": "2021-01-03T12:47:18.450908Z",
     "iopub.status.idle": "2021-01-03T12:47:28.577564Z",
     "shell.execute_reply": "2021-01-03T12:47:28.576953Z"
    }
   },
   "outputs": [
    {
     "name": "stdout",
     "output_type": "stream",
     "text": [
      "122 ms ± 2.48 ms per loop (mean ± std. dev. of 7 runs, 10 loops each)\n"
     ]
    }
   ],
   "source": [
    "%%timeit\n",
    "for x in range(x_shape):\n",
    "    x_data[x,:] = x\n",
    "    array1D_dataset.add_results([{'x':x_data[x,:], 'y':y_setpoints, 'z':np.random.random_sample(y_shape)}])"
   ]
  },
  {
   "cell_type": "code",
   "execution_count": 18,
   "metadata": {
    "execution": {
     "iopub.execute_input": "2021-01-03T12:47:28.584884Z",
     "iopub.status.busy": "2021-01-03T12:47:28.584048Z",
     "iopub.status.idle": "2021-01-03T12:47:28.588382Z",
     "shell.execute_reply": "2021-01-03T12:47:28.587647Z"
    }
   },
   "outputs": [],
   "source": [
    "x_data = np.zeros((x_shape, y_shape))\n",
    "y_data = np.zeros((x_shape, y_shape))\n",
    "z_data = np.zeros((x_shape, y_shape))\n",
    "y_setpoints = np.arange(y_shape)"
   ]
  },
  {
   "cell_type": "code",
   "execution_count": 19,
   "metadata": {
    "execution": {
     "iopub.execute_input": "2021-01-03T12:47:28.592275Z",
     "iopub.status.busy": "2021-01-03T12:47:28.591768Z",
     "iopub.status.idle": "2021-01-03T12:47:28.602256Z",
     "shell.execute_reply": "2021-01-03T12:47:28.601807Z"
    }
   },
   "outputs": [],
   "source": [
    "array0D_dataset = new_data_set(\"array0Ddata\", exp_id=exp.exp_id,\n",
    "                               specs=[ParamSpec(\"x\", \"array\"),\n",
    "                                      ParamSpec(\"y\", \"array\"),\n",
    "                                      ParamSpec('z', \"array\")])\n",
    "array0D_dataset.mark_started()"
   ]
  },
  {
   "cell_type": "code",
   "execution_count": 20,
   "metadata": {
    "execution": {
     "iopub.execute_input": "2021-01-03T12:47:28.607730Z",
     "iopub.status.busy": "2021-01-03T12:47:28.607208Z",
     "iopub.status.idle": "2021-01-03T12:47:34.205091Z",
     "shell.execute_reply": "2021-01-03T12:47:34.205747Z"
    }
   },
   "outputs": [
    {
     "name": "stdout",
     "output_type": "stream",
     "text": [
      "6.91 ms ± 333 µs per loop (mean ± std. dev. of 7 runs, 100 loops each)\n"
     ]
    }
   ],
   "source": [
    "%%timeit\n",
    "for x in range(x_shape):\n",
    "    x_data[x,:] = x\n",
    "    y_data[x,:] = y_setpoints\n",
    "    z_data[x,:] = np.random.random_sample(y_shape)\n",
    "array0D_dataset.add_results([{'x':x_data, 'y':y_data, 'z':z_data}])"
   ]
  },
  {
   "cell_type": "markdown",
   "metadata": {},
   "source": [
    "## Insert many"
   ]
  },
  {
   "cell_type": "code",
   "execution_count": 21,
   "metadata": {
    "execution": {
     "iopub.execute_input": "2021-01-03T12:47:34.216582Z",
     "iopub.status.busy": "2021-01-03T12:47:34.216053Z",
     "iopub.status.idle": "2021-01-03T12:47:34.219772Z",
     "shell.execute_reply": "2021-01-03T12:47:34.220183Z"
    }
   },
   "outputs": [],
   "source": [
    "data = []\n",
    "for i in range(100):\n",
    "    for j in range(100):\n",
    "        data.append({'x': i, 'y':j, 'z':np.random.random_sample()})"
   ]
  },
  {
   "cell_type": "code",
   "execution_count": 22,
   "metadata": {
    "execution": {
     "iopub.execute_input": "2021-01-03T12:47:34.224246Z",
     "iopub.status.busy": "2021-01-03T12:47:34.223727Z",
     "iopub.status.idle": "2021-01-03T12:47:34.233046Z",
     "shell.execute_reply": "2021-01-03T12:47:34.232493Z"
    }
   },
   "outputs": [],
   "source": [
    "many_Data = new_data_set(\"many_data\", exp_id=exp.exp_id,\n",
    "                         specs=[ParamSpec(\"x\", \"numeric\"),\n",
    "                                ParamSpec(\"y\", \"numeric\"),\n",
    "                                ParamSpec(\"z\", \"numeric\")])\n",
    "many_Data.mark_started()"
   ]
  },
  {
   "cell_type": "code",
   "execution_count": 23,
   "metadata": {
    "execution": {
     "iopub.execute_input": "2021-01-03T12:47:34.247060Z",
     "iopub.status.busy": "2021-01-03T12:47:34.240755Z",
     "iopub.status.idle": "2021-01-03T12:47:37.465733Z",
     "shell.execute_reply": "2021-01-03T12:47:37.465239Z"
    }
   },
   "outputs": [
    {
     "name": "stdout",
     "output_type": "stream",
     "text": [
      "39.1 ms ± 851 µs per loop (mean ± std. dev. of 7 runs, 10 loops each)\n"
     ]
    }
   ],
   "source": [
    "%%timeit\n",
    "many_Data.add_results(data)"
   ]
  }
 ],
 "metadata": {
  "kernelspec": {
   "display_name": "Python 3",
   "language": "python",
   "name": "python3"
  },
  "language_info": {
   "codemirror_mode": {
    "name": "ipython",
    "version": 3
   },
   "file_extension": ".py",
   "mimetype": "text/x-python",
   "name": "python",
   "nbconvert_exporter": "python",
   "pygments_lexer": "ipython3",
   "version": "3.7.9"
  },
  "nbsphinx": {
   "timeout": 600
  }
 },
 "nbformat": 4,
 "nbformat_minor": 2
}
