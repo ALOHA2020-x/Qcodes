{
 "cells": [
  {
   "cell_type": "markdown",
   "metadata": {},
   "source": [
    "# Dataset Benchmarking\n",
    "\n",
    "This notebook is a behind-the-scenes benchmarking notebook, mainly for use by developers. The recommended way for users to interact with the dataset is via the `Measurement` object and its associated context manager. See the corresponding notebook for a comprehensive toturial on how to use those."
   ]
  },
  {
   "cell_type": "code",
   "execution_count": 1,
   "metadata": {
    "execution": {
     "iopub.execute_input": "2020-10-13T12:17:46.788371Z",
     "iopub.status.busy": "2020-10-13T12:17:46.787755Z",
     "iopub.status.idle": "2020-10-13T12:17:47.853510Z",
     "shell.execute_reply": "2020-10-13T12:17:47.853001Z"
    }
   },
   "outputs": [
    {
     "name": "stdout",
     "output_type": "stream",
     "text": [
      "Logging hadn't been started.\n",
      "Activating auto-logging. Current session state plus future input saved.\n",
      "Filename       : /home/vsts/.qcodes/logs/command_history.log\n",
      "Mode           : append\n",
      "Output logging : True\n",
      "Raw input log  : False\n",
      "Timestamping   : True\n",
      "State          : active\n"
     ]
    },
    {
     "name": "stdout",
     "output_type": "stream",
     "text": [
      "Qcodes Logfile : /home/vsts/.qcodes/logs/201013-14400-qcodes.log\n"
     ]
    }
   ],
   "source": [
    "%matplotlib inline\n",
    "import matplotlib.pyplot as plt\n",
    "import qcodes as qc\n",
    "from qcodes import ParamSpec, new_data_set, new_experiment, initialise_database, load_or_create_experiment\n",
    "import numpy as np"
   ]
  },
  {
   "cell_type": "code",
   "execution_count": 2,
   "metadata": {
    "execution": {
     "iopub.execute_input": "2020-10-13T12:17:47.859147Z",
     "iopub.status.busy": "2020-10-13T12:17:47.858504Z",
     "iopub.status.idle": "2020-10-13T12:17:47.863376Z",
     "shell.execute_reply": "2020-10-13T12:17:47.862957Z"
    }
   },
   "outputs": [
    {
     "data": {
      "text/plain": [
       "'~/experiments.db'"
      ]
     },
     "execution_count": 1,
     "metadata": {},
     "output_type": "execute_result"
    }
   ],
   "source": [
    "qc.config.core.db_location"
   ]
  },
  {
   "cell_type": "code",
   "execution_count": 3,
   "metadata": {
    "execution": {
     "iopub.execute_input": "2020-10-13T12:17:47.866530Z",
     "iopub.status.busy": "2020-10-13T12:17:47.865656Z",
     "iopub.status.idle": "2020-10-13T12:17:47.868673Z",
     "shell.execute_reply": "2020-10-13T12:17:47.868253Z"
    }
   },
   "outputs": [],
   "source": [
    "initialise_database()"
   ]
  },
  {
   "cell_type": "markdown",
   "metadata": {},
   "source": [
    "## Setup"
   ]
  },
  {
   "cell_type": "code",
   "execution_count": 4,
   "metadata": {
    "execution": {
     "iopub.execute_input": "2020-10-13T12:17:47.871550Z",
     "iopub.status.busy": "2020-10-13T12:17:47.871003Z",
     "iopub.status.idle": "2020-10-13T12:17:47.877372Z",
     "shell.execute_reply": "2020-10-13T12:17:47.876955Z"
    }
   },
   "outputs": [
    {
     "data": {
      "text/plain": [
       "benchmarking#the sample is a lie#1@/home/vsts/experiments.db\n",
       "------------------------------------------------------------"
      ]
     },
     "execution_count": 1,
     "metadata": {},
     "output_type": "execute_result"
    }
   ],
   "source": [
    "exp = load_or_create_experiment(\"benchmarking\", sample_name=\"the sample is a lie\")\n",
    "exp"
   ]
  },
  {
   "cell_type": "markdown",
   "metadata": {},
   "source": [
    "Now we can create a dataset. Note two things:\n",
    "\n",
    "    - if we don't specfiy a exp_id, but we have an experiment in the experiment container the dataset will go into that one.\n",
    "    - dataset can be created from the experiment object\n",
    "    "
   ]
  },
  {
   "cell_type": "code",
   "execution_count": 5,
   "metadata": {
    "execution": {
     "iopub.execute_input": "2020-10-13T12:17:47.880563Z",
     "iopub.status.busy": "2020-10-13T12:17:47.879835Z",
     "iopub.status.idle": "2020-10-13T12:17:47.887965Z",
     "shell.execute_reply": "2020-10-13T12:17:47.887392Z"
    }
   },
   "outputs": [
    {
     "data": {
      "text/plain": [
       "benchmarking#the sample is a lie#1@/home/vsts/experiments.db\n",
       "------------------------------------------------------------\n",
       "1-benchmark_data-1--0"
      ]
     },
     "execution_count": 1,
     "metadata": {},
     "output_type": "execute_result"
    }
   ],
   "source": [
    "dataSet = new_data_set(\"benchmark_data\", exp_id=exp.exp_id)\n",
    "exp"
   ]
  },
  {
   "cell_type": "markdown",
   "metadata": {},
   "source": [
    "In this benchmark we will assueme that we are doing a 2D loop and investigate the performance implications of writing to the dataset"
   ]
  },
  {
   "cell_type": "code",
   "execution_count": 6,
   "metadata": {
    "execution": {
     "iopub.execute_input": "2020-10-13T12:17:47.892886Z",
     "iopub.status.busy": "2020-10-13T12:17:47.891506Z",
     "iopub.status.idle": "2020-10-13T12:17:47.893481Z",
     "shell.execute_reply": "2020-10-13T12:17:47.894123Z"
    }
   },
   "outputs": [],
   "source": [
    "x_shape = 100\n",
    "y_shape = 100"
   ]
  },
  {
   "cell_type": "markdown",
   "metadata": {},
   "source": [
    "## Baseline: Generate data"
   ]
  },
  {
   "cell_type": "code",
   "execution_count": 7,
   "metadata": {
    "execution": {
     "iopub.execute_input": "2020-10-13T12:17:47.898824Z",
     "iopub.status.busy": "2020-10-13T12:17:47.898217Z",
     "iopub.status.idle": "2020-10-13T12:17:47.915736Z",
     "shell.execute_reply": "2020-10-13T12:17:47.915291Z"
    }
   },
   "outputs": [
    {
     "name": "stdout",
     "output_type": "stream",
     "text": [
      "CPU times: user 13.8 ms, sys: 249 µs, total: 14.1 ms\n",
      "Wall time: 13.9 ms\n"
     ]
    }
   ],
   "source": [
    "%%time\n",
    "for x in range(x_shape):\n",
    "    for y in range(y_shape):\n",
    "        z = np.random.random_sample(1)"
   ]
  },
  {
   "cell_type": "markdown",
   "metadata": {},
   "source": [
    "and store in memory"
   ]
  },
  {
   "cell_type": "code",
   "execution_count": 8,
   "metadata": {
    "execution": {
     "iopub.execute_input": "2020-10-13T12:17:47.920997Z",
     "iopub.status.busy": "2020-10-13T12:17:47.919634Z",
     "iopub.status.idle": "2020-10-13T12:17:47.921717Z",
     "shell.execute_reply": "2020-10-13T12:17:47.922220Z"
    }
   },
   "outputs": [],
   "source": [
    "x_data = np.zeros((x_shape, y_shape))\n",
    "y_data = np.zeros((x_shape, y_shape))\n",
    "z_data = np.zeros((x_shape, y_shape))"
   ]
  },
  {
   "cell_type": "code",
   "execution_count": 9,
   "metadata": {
    "execution": {
     "iopub.execute_input": "2020-10-13T12:17:47.933269Z",
     "iopub.status.busy": "2020-10-13T12:17:47.929704Z",
     "iopub.status.idle": "2020-10-13T12:17:47.935306Z",
     "shell.execute_reply": "2020-10-13T12:17:47.935799Z"
    }
   },
   "outputs": [
    {
     "name": "stdout",
     "output_type": "stream",
     "text": [
      "CPU times: user 6.76 ms, sys: 436 µs, total: 7.2 ms\n",
      "Wall time: 7.11 ms\n"
     ]
    }
   ],
   "source": [
    "%%time\n",
    "for x in range(x_shape):\n",
    "    for y in range(y_shape):\n",
    "        x_data[x,y] = x\n",
    "        y_data[x,y] = y\n",
    "        z_data[x,y] = np.random.random_sample()"
   ]
  },
  {
   "cell_type": "markdown",
   "metadata": {},
   "source": [
    "## Add to dataset inside double loop"
   ]
  },
  {
   "cell_type": "code",
   "execution_count": 10,
   "metadata": {
    "execution": {
     "iopub.execute_input": "2020-10-13T12:17:47.939486Z",
     "iopub.status.busy": "2020-10-13T12:17:47.938993Z",
     "iopub.status.idle": "2020-10-13T12:17:47.948727Z",
     "shell.execute_reply": "2020-10-13T12:17:47.949243Z"
    }
   },
   "outputs": [],
   "source": [
    "double_dataset = new_data_set(\"doubledata\", exp_id=exp.exp_id,\n",
    "                              specs=[ParamSpec(\"x\", \"numeric\"),\n",
    "                                     ParamSpec(\"y\", \"numeric\"),\n",
    "                                     ParamSpec('z', \"numeric\")])\n",
    "double_dataset.mark_started()"
   ]
  },
  {
   "cell_type": "markdown",
   "metadata": {},
   "source": [
    "Note that this is so slow that we are only doing a 10th of the computation"
   ]
  },
  {
   "cell_type": "code",
   "execution_count": 11,
   "metadata": {
    "execution": {
     "iopub.execute_input": "2020-10-13T12:17:47.954249Z",
     "iopub.status.busy": "2020-10-13T12:17:47.953654Z",
     "iopub.status.idle": "2020-10-13T12:17:48.986008Z",
     "shell.execute_reply": "2020-10-13T12:17:48.985592Z"
    }
   },
   "outputs": [
    {
     "name": "stderr",
     "output_type": "stream",
     "text": [
      "2020-10-13 12:17:47,952 ¦ py.warnings ¦ WARNING ¦ warnings ¦ _showwarnmsg ¦ 110 ¦ /home/vsts/work/1/s/qcodes/utils/deprecate.py:58: QCoDeSDeprecationWarning: The function <add_result> is deprecated. Use \"add_results\" as an alternative.\n",
      "  issue_deprecation_warning(f'{t} <{n}>', reason, alternative)\n",
      "\n"
     ]
    },
    {
     "name": "stdout",
     "output_type": "stream",
     "text": [
      "CPU times: user 318 ms, sys: 60.8 ms, total: 378 ms\n",
      "Wall time: 1.03 s\n"
     ]
    }
   ],
   "source": [
    "%%time\n",
    "for x in range(x_shape//10):\n",
    "    for y in range(y_shape):\n",
    "        double_dataset.add_result({\"x\": x, 'y': y, 'z': np.random.random_sample()})"
   ]
  },
  {
   "cell_type": "markdown",
   "metadata": {},
   "source": [
    "## Add the data in outer loop and store as np array"
   ]
  },
  {
   "cell_type": "code",
   "execution_count": 12,
   "metadata": {
    "execution": {
     "iopub.execute_input": "2020-10-13T12:17:48.990233Z",
     "iopub.status.busy": "2020-10-13T12:17:48.989760Z",
     "iopub.status.idle": "2020-10-13T12:17:48.997746Z",
     "shell.execute_reply": "2020-10-13T12:17:48.997128Z"
    }
   },
   "outputs": [],
   "source": [
    "single_dataset = new_data_set(\"singledata\", exp_id=exp.exp_id,\n",
    "                              specs=[ParamSpec(\"x\", \"array\"),\n",
    "                                     ParamSpec(\"y\", \"array\"),\n",
    "                                     ParamSpec('z', \"array\")])\n",
    "single_dataset.mark_started()\n",
    "x_data = np.zeros((y_shape))\n",
    "y_data = np.zeros((y_shape))\n",
    "z_data = np.zeros((y_shape))"
   ]
  },
  {
   "cell_type": "code",
   "execution_count": 13,
   "metadata": {
    "execution": {
     "iopub.execute_input": "2020-10-13T12:17:49.001619Z",
     "iopub.status.busy": "2020-10-13T12:17:49.001108Z",
     "iopub.status.idle": "2020-10-13T12:17:49.120777Z",
     "shell.execute_reply": "2020-10-13T12:17:49.121182Z"
    }
   },
   "outputs": [
    {
     "name": "stdout",
     "output_type": "stream",
     "text": [
      "CPU times: user 96.3 ms, sys: 4.94 ms, total: 101 ms\n",
      "Wall time: 116 ms\n"
     ]
    }
   ],
   "source": [
    "%%time\n",
    "for x in range(x_shape):\n",
    "    for y in range(y_shape):\n",
    "        x_data[y] = x\n",
    "        y_data[y] = y\n",
    "        z_data[y] = np.random.random_sample(1)\n",
    "    single_dataset.add_result({\"x\": x_data, 'y': y_data, 'z': z_data})"
   ]
  },
  {
   "cell_type": "markdown",
   "metadata": {},
   "source": [
    "## Save once after loop"
   ]
  },
  {
   "cell_type": "code",
   "execution_count": 14,
   "metadata": {
    "execution": {
     "iopub.execute_input": "2020-10-13T12:17:49.126041Z",
     "iopub.status.busy": "2020-10-13T12:17:49.125514Z",
     "iopub.status.idle": "2020-10-13T12:17:49.135080Z",
     "shell.execute_reply": "2020-10-13T12:17:49.134662Z"
    }
   },
   "outputs": [],
   "source": [
    "zero_dataset = new_data_set(\"zerodata\", exp_id=exp.exp_id,\n",
    "                            specs=[ParamSpec(\"x\", \"array\"),\n",
    "                                   ParamSpec(\"y\", \"array\"),\n",
    "                                   ParamSpec('z', \"array\")])\n",
    "zero_dataset.mark_started()\n",
    "x_data = np.zeros((x_shape, y_shape))\n",
    "y_data = np.zeros((x_shape, y_shape))\n",
    "z_data = np.zeros((x_shape, y_shape))"
   ]
  },
  {
   "cell_type": "code",
   "execution_count": 15,
   "metadata": {
    "execution": {
     "iopub.execute_input": "2020-10-13T12:17:49.139685Z",
     "iopub.status.busy": "2020-10-13T12:17:49.139100Z",
     "iopub.status.idle": "2020-10-13T12:17:49.164009Z",
     "shell.execute_reply": "2020-10-13T12:17:49.164538Z"
    }
   },
   "outputs": [
    {
     "name": "stdout",
     "output_type": "stream",
     "text": [
      "CPU times: user 21.5 ms, sys: 157 µs, total: 21.6 ms\n",
      "Wall time: 21.4 ms\n"
     ]
    },
    {
     "data": {
      "text/plain": [
       "1"
      ]
     },
     "execution_count": 1,
     "metadata": {},
     "output_type": "execute_result"
    }
   ],
   "source": [
    "%%time\n",
    "for x in range(x_shape):\n",
    "    for y in range(y_shape):\n",
    "        x_data[x,y] = x\n",
    "        y_data[x,y] = y\n",
    "        z_data[x,y] = np.random.random_sample(1)\n",
    "zero_dataset.add_result({'x':x_data, 'y':y_data, 'z':z_data})"
   ]
  },
  {
   "cell_type": "markdown",
   "metadata": {},
   "source": [
    "## Array parameter"
   ]
  },
  {
   "cell_type": "code",
   "execution_count": 16,
   "metadata": {
    "execution": {
     "iopub.execute_input": "2020-10-13T12:17:49.168633Z",
     "iopub.status.busy": "2020-10-13T12:17:49.168087Z",
     "iopub.status.idle": "2020-10-13T12:17:49.177405Z",
     "shell.execute_reply": "2020-10-13T12:17:49.176768Z"
    }
   },
   "outputs": [],
   "source": [
    "array1D_dataset = new_data_set(\"array1Ddata\", exp_id=exp.exp_id,\n",
    "                               specs=[ParamSpec(\"x\", \"array\"),\n",
    "                                      ParamSpec(\"y\", \"array\"),\n",
    "                                      ParamSpec('z', \"array\")])\n",
    "array1D_dataset.mark_started()\n",
    "y_setpoints = np.arange(y_shape)"
   ]
  },
  {
   "cell_type": "code",
   "execution_count": 17,
   "metadata": {
    "execution": {
     "iopub.execute_input": "2020-10-13T12:17:49.182605Z",
     "iopub.status.busy": "2020-10-13T12:17:49.181540Z",
     "iopub.status.idle": "2020-10-13T12:17:58.381428Z",
     "shell.execute_reply": "2020-10-13T12:17:58.380870Z"
    }
   },
   "outputs": [
    {
     "name": "stdout",
     "output_type": "stream",
     "text": [
      "110 ms ± 3.41 ms per loop (mean ± std. dev. of 7 runs, 10 loops each)\n"
     ]
    }
   ],
   "source": [
    "%%timeit\n",
    "for x in range(x_shape):\n",
    "    x_data[x,:] = x\n",
    "    array1D_dataset.add_result({'x':x_data[x,:], 'y':y_setpoints, 'z':np.random.random_sample(y_shape)})"
   ]
  },
  {
   "cell_type": "code",
   "execution_count": 18,
   "metadata": {
    "execution": {
     "iopub.execute_input": "2020-10-13T12:17:58.385815Z",
     "iopub.status.busy": "2020-10-13T12:17:58.385201Z",
     "iopub.status.idle": "2020-10-13T12:17:58.387495Z",
     "shell.execute_reply": "2020-10-13T12:17:58.388029Z"
    }
   },
   "outputs": [],
   "source": [
    "x_data = np.zeros((x_shape, y_shape))\n",
    "y_data = np.zeros((x_shape, y_shape))\n",
    "z_data = np.zeros((x_shape, y_shape))\n",
    "y_setpoints = np.arange(y_shape)"
   ]
  },
  {
   "cell_type": "code",
   "execution_count": 19,
   "metadata": {
    "execution": {
     "iopub.execute_input": "2020-10-13T12:17:58.391869Z",
     "iopub.status.busy": "2020-10-13T12:17:58.391172Z",
     "iopub.status.idle": "2020-10-13T12:17:58.401176Z",
     "shell.execute_reply": "2020-10-13T12:17:58.400662Z"
    }
   },
   "outputs": [],
   "source": [
    "array0D_dataset = new_data_set(\"array0Ddata\", exp_id=exp.exp_id,\n",
    "                               specs=[ParamSpec(\"x\", \"array\"),\n",
    "                                      ParamSpec(\"y\", \"array\"),\n",
    "                                      ParamSpec('z', \"array\")])\n",
    "array0D_dataset.mark_started()"
   ]
  },
  {
   "cell_type": "code",
   "execution_count": 20,
   "metadata": {
    "execution": {
     "iopub.execute_input": "2020-10-13T12:17:58.406376Z",
     "iopub.status.busy": "2020-10-13T12:17:58.405861Z",
     "iopub.status.idle": "2020-10-13T12:18:04.043287Z",
     "shell.execute_reply": "2020-10-13T12:18:04.042484Z"
    }
   },
   "outputs": [
    {
     "name": "stdout",
     "output_type": "stream",
     "text": [
      "6.98 ms ± 192 µs per loop (mean ± std. dev. of 7 runs, 100 loops each)\n"
     ]
    }
   ],
   "source": [
    "%%timeit\n",
    "for x in range(x_shape):\n",
    "    x_data[x,:] = x\n",
    "    y_data[x,:] = y_setpoints\n",
    "    z_data[x,:] = np.random.random_sample(y_shape)\n",
    "array0D_dataset.add_result({'x':x_data, 'y':y_data, 'z':z_data})"
   ]
  },
  {
   "cell_type": "markdown",
   "metadata": {},
   "source": [
    "## Insert many"
   ]
  },
  {
   "cell_type": "code",
   "execution_count": 21,
   "metadata": {
    "execution": {
     "iopub.execute_input": "2020-10-13T12:18:04.054233Z",
     "iopub.status.busy": "2020-10-13T12:18:04.053744Z",
     "iopub.status.idle": "2020-10-13T12:18:04.057578Z",
     "shell.execute_reply": "2020-10-13T12:18:04.057077Z"
    }
   },
   "outputs": [],
   "source": [
    "data = []\n",
    "for i in range(100):\n",
    "    for j in range(100):\n",
    "        data.append({'x': i, 'y':j, 'z':np.random.random_sample()})"
   ]
  },
  {
   "cell_type": "code",
   "execution_count": 22,
   "metadata": {
    "execution": {
     "iopub.execute_input": "2020-10-13T12:18:04.061860Z",
     "iopub.status.busy": "2020-10-13T12:18:04.061338Z",
     "iopub.status.idle": "2020-10-13T12:18:04.070665Z",
     "shell.execute_reply": "2020-10-13T12:18:04.070243Z"
    }
   },
   "outputs": [],
   "source": [
    "many_Data = new_data_set(\"many_data\", exp_id=exp.exp_id,\n",
    "                         specs=[ParamSpec(\"x\", \"numeric\"),\n",
    "                                ParamSpec(\"y\", \"numeric\"),\n",
    "                                ParamSpec(\"z\", \"numeric\")])\n",
    "many_Data.mark_started()"
   ]
  },
  {
   "cell_type": "code",
   "execution_count": 23,
   "metadata": {
    "execution": {
     "iopub.execute_input": "2020-10-13T12:18:04.083056Z",
     "iopub.status.busy": "2020-10-13T12:18:04.078275Z",
     "iopub.status.idle": "2020-10-13T12:18:06.760536Z",
     "shell.execute_reply": "2020-10-13T12:18:06.759624Z"
    }
   },
   "outputs": [
    {
     "name": "stdout",
     "output_type": "stream",
     "text": [
      "32.6 ms ± 2.94 ms per loop (mean ± std. dev. of 7 runs, 10 loops each)\n"
     ]
    }
   ],
   "source": [
    "%%timeit\n",
    "many_Data.add_results(data)"
   ]
  }
 ],
 "metadata": {
  "kernelspec": {
   "display_name": "Python 3",
   "language": "python",
   "name": "python3"
  },
  "language_info": {
   "codemirror_mode": {
    "name": "ipython",
    "version": 3
   },
   "file_extension": ".py",
   "mimetype": "text/x-python",
   "name": "python",
   "nbconvert_exporter": "python",
   "pygments_lexer": "ipython3",
   "version": "3.7.7"
  },
  "nbsphinx": {
   "timeout": 600
  }
 },
 "nbformat": 4,
 "nbformat_minor": 2
}
