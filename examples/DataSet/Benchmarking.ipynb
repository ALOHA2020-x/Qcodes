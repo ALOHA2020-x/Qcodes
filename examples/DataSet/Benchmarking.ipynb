{
 "cells": [
  {
   "cell_type": "markdown",
   "metadata": {},
   "source": [
    "# Dataset Benchmarking\n",
    "\n",
    "This notebook is a behind-the-scenes benchmarking notebook, mainly for use by developers. The recommended way for users to interact with the dataset is via the `Measurement` object and its associated context manager. See the corresponding notebook for a comprehensive toturial on how to use those."
   ]
  },
  {
   "cell_type": "code",
   "execution_count": 1,
   "metadata": {
    "execution": {
     "iopub.execute_input": "2020-11-05T13:14:16.343941Z",
     "iopub.status.busy": "2020-11-05T13:14:16.343465Z",
     "iopub.status.idle": "2020-11-05T13:14:17.432888Z",
     "shell.execute_reply": "2020-11-05T13:14:17.433319Z"
    }
   },
   "outputs": [
    {
     "name": "stdout",
     "output_type": "stream",
     "text": [
      "Logging hadn't been started.\n",
      "Activating auto-logging. Current session state plus future input saved.\n",
      "Filename       : /home/vsts/.qcodes/logs/command_history.log\n",
      "Mode           : append\n",
      "Output logging : True\n",
      "Raw input log  : False\n",
      "Timestamping   : True\n",
      "State          : active\n"
     ]
    },
    {
     "name": "stdout",
     "output_type": "stream",
     "text": [
      "Qcodes Logfile : /home/vsts/.qcodes/logs/201105-13805-qcodes.log\n"
     ]
    }
   ],
   "source": [
    "%matplotlib inline\n",
    "import matplotlib.pyplot as plt\n",
    "import qcodes as qc\n",
    "from qcodes import ParamSpec, new_data_set, new_experiment, initialise_database, load_or_create_experiment\n",
    "import numpy as np"
   ]
  },
  {
   "cell_type": "code",
   "execution_count": 2,
   "metadata": {
    "execution": {
     "iopub.execute_input": "2020-11-05T13:14:17.438807Z",
     "iopub.status.busy": "2020-11-05T13:14:17.438321Z",
     "iopub.status.idle": "2020-11-05T13:14:17.442055Z",
     "shell.execute_reply": "2020-11-05T13:14:17.441661Z"
    }
   },
   "outputs": [
    {
     "data": {
      "text/plain": [
       "'~/experiments.db'"
      ]
     },
     "execution_count": 1,
     "metadata": {},
     "output_type": "execute_result"
    }
   ],
   "source": [
    "qc.config.core.db_location"
   ]
  },
  {
   "cell_type": "code",
   "execution_count": 3,
   "metadata": {
    "execution": {
     "iopub.execute_input": "2020-11-05T13:14:17.445313Z",
     "iopub.status.busy": "2020-11-05T13:14:17.444433Z",
     "iopub.status.idle": "2020-11-05T13:14:17.447512Z",
     "shell.execute_reply": "2020-11-05T13:14:17.447121Z"
    }
   },
   "outputs": [],
   "source": [
    "initialise_database()"
   ]
  },
  {
   "cell_type": "markdown",
   "metadata": {},
   "source": [
    "## Setup"
   ]
  },
  {
   "cell_type": "code",
   "execution_count": 4,
   "metadata": {
    "execution": {
     "iopub.execute_input": "2020-11-05T13:14:17.450619Z",
     "iopub.status.busy": "2020-11-05T13:14:17.450146Z",
     "iopub.status.idle": "2020-11-05T13:14:17.456469Z",
     "shell.execute_reply": "2020-11-05T13:14:17.456076Z"
    }
   },
   "outputs": [
    {
     "data": {
      "text/plain": [
       "benchmarking#the sample is a lie#1@/home/vsts/experiments.db\n",
       "------------------------------------------------------------"
      ]
     },
     "execution_count": 1,
     "metadata": {},
     "output_type": "execute_result"
    }
   ],
   "source": [
    "exp = load_or_create_experiment(\"benchmarking\", sample_name=\"the sample is a lie\")\n",
    "exp"
   ]
  },
  {
   "cell_type": "markdown",
   "metadata": {},
   "source": [
    "Now we can create a dataset. Note two things:\n",
    "\n",
    "    - if we don't specfiy a exp_id, but we have an experiment in the experiment container the dataset will go into that one.\n",
    "    - dataset can be created from the experiment object\n",
    "    "
   ]
  },
  {
   "cell_type": "code",
   "execution_count": 5,
   "metadata": {
    "execution": {
     "iopub.execute_input": "2020-11-05T13:14:17.459380Z",
     "iopub.status.busy": "2020-11-05T13:14:17.458912Z",
     "iopub.status.idle": "2020-11-05T13:14:17.465236Z",
     "shell.execute_reply": "2020-11-05T13:14:17.464703Z"
    }
   },
   "outputs": [
    {
     "data": {
      "text/plain": [
       "benchmarking#the sample is a lie#1@/home/vsts/experiments.db\n",
       "------------------------------------------------------------\n",
       "1-benchmark_data-1--0"
      ]
     },
     "execution_count": 1,
     "metadata": {},
     "output_type": "execute_result"
    }
   ],
   "source": [
    "dataSet = new_data_set(\"benchmark_data\", exp_id=exp.exp_id)\n",
    "exp"
   ]
  },
  {
   "cell_type": "markdown",
   "metadata": {},
   "source": [
    "In this benchmark we will assueme that we are doing a 2D loop and investigate the performance implications of writing to the dataset"
   ]
  },
  {
   "cell_type": "code",
   "execution_count": 6,
   "metadata": {
    "execution": {
     "iopub.execute_input": "2020-11-05T13:14:17.468218Z",
     "iopub.status.busy": "2020-11-05T13:14:17.467724Z",
     "iopub.status.idle": "2020-11-05T13:14:17.469941Z",
     "shell.execute_reply": "2020-11-05T13:14:17.469445Z"
    }
   },
   "outputs": [],
   "source": [
    "x_shape = 100\n",
    "y_shape = 100"
   ]
  },
  {
   "cell_type": "markdown",
   "metadata": {},
   "source": [
    "## Baseline: Generate data"
   ]
  },
  {
   "cell_type": "code",
   "execution_count": 7,
   "metadata": {
    "execution": {
     "iopub.execute_input": "2020-11-05T13:14:17.473444Z",
     "iopub.status.busy": "2020-11-05T13:14:17.472969Z",
     "iopub.status.idle": "2020-11-05T13:14:17.487906Z",
     "shell.execute_reply": "2020-11-05T13:14:17.487456Z"
    }
   },
   "outputs": [
    {
     "name": "stdout",
     "output_type": "stream",
     "text": [
      "CPU times: user 12.3 ms, sys: 52 µs, total: 12.4 ms\n",
      "Wall time: 12.2 ms\n"
     ]
    }
   ],
   "source": [
    "%%time\n",
    "for x in range(x_shape):\n",
    "    for y in range(y_shape):\n",
    "        z = np.random.random_sample(1)"
   ]
  },
  {
   "cell_type": "markdown",
   "metadata": {},
   "source": [
    "and store in memory"
   ]
  },
  {
   "cell_type": "code",
   "execution_count": 8,
   "metadata": {
    "execution": {
     "iopub.execute_input": "2020-11-05T13:14:17.491352Z",
     "iopub.status.busy": "2020-11-05T13:14:17.490866Z",
     "iopub.status.idle": "2020-11-05T13:14:17.493202Z",
     "shell.execute_reply": "2020-11-05T13:14:17.492733Z"
    }
   },
   "outputs": [],
   "source": [
    "x_data = np.zeros((x_shape, y_shape))\n",
    "y_data = np.zeros((x_shape, y_shape))\n",
    "z_data = np.zeros((x_shape, y_shape))"
   ]
  },
  {
   "cell_type": "code",
   "execution_count": 9,
   "metadata": {
    "execution": {
     "iopub.execute_input": "2020-11-05T13:14:17.505255Z",
     "iopub.status.busy": "2020-11-05T13:14:17.500553Z",
     "iopub.status.idle": "2020-11-05T13:14:17.507076Z",
     "shell.execute_reply": "2020-11-05T13:14:17.507468Z"
    }
   },
   "outputs": [
    {
     "name": "stdout",
     "output_type": "stream",
     "text": [
      "CPU times: user 8.17 ms, sys: 27 µs, total: 8.2 ms\n",
      "Wall time: 8.1 ms\n"
     ]
    }
   ],
   "source": [
    "%%time\n",
    "for x in range(x_shape):\n",
    "    for y in range(y_shape):\n",
    "        x_data[x,y] = x\n",
    "        y_data[x,y] = y\n",
    "        z_data[x,y] = np.random.random_sample()"
   ]
  },
  {
   "cell_type": "markdown",
   "metadata": {},
   "source": [
    "## Add to dataset inside double loop"
   ]
  },
  {
   "cell_type": "code",
   "execution_count": 10,
   "metadata": {
    "execution": {
     "iopub.execute_input": "2020-11-05T13:14:17.510817Z",
     "iopub.status.busy": "2020-11-05T13:14:17.510343Z",
     "iopub.status.idle": "2020-11-05T13:14:17.518774Z",
     "shell.execute_reply": "2020-11-05T13:14:17.518336Z"
    }
   },
   "outputs": [],
   "source": [
    "double_dataset = new_data_set(\"doubledata\", exp_id=exp.exp_id,\n",
    "                              specs=[ParamSpec(\"x\", \"numeric\"),\n",
    "                                     ParamSpec(\"y\", \"numeric\"),\n",
    "                                     ParamSpec('z', \"numeric\")])\n",
    "double_dataset.mark_started()"
   ]
  },
  {
   "cell_type": "markdown",
   "metadata": {},
   "source": [
    "Note that this is so slow that we are only doing a 10th of the computation"
   ]
  },
  {
   "cell_type": "code",
   "execution_count": 11,
   "metadata": {
    "execution": {
     "iopub.execute_input": "2020-11-05T13:14:17.522967Z",
     "iopub.status.busy": "2020-11-05T13:14:17.522402Z",
     "iopub.status.idle": "2020-11-05T13:14:18.060955Z",
     "shell.execute_reply": "2020-11-05T13:14:18.060228Z"
    }
   },
   "outputs": [
    {
     "name": "stderr",
     "output_type": "stream",
     "text": [
      "2020-11-05 13:14:17,521 ¦ py.warnings ¦ WARNING ¦ warnings ¦ _showwarnmsg ¦ 110 ¦ /home/vsts/work/1/s/qcodes/utils/deprecate.py:58: QCoDeSDeprecationWarning: The function <add_result> is deprecated. Use \"add_results\" as an alternative.\n",
      "  issue_deprecation_warning(f'{t} <{n}>', reason, alternative)\n",
      "\n"
     ]
    },
    {
     "name": "stdout",
     "output_type": "stream",
     "text": [
      "CPU times: user 148 ms, sys: 90.9 ms, total: 239 ms\n",
      "Wall time: 534 ms\n"
     ]
    }
   ],
   "source": [
    "%%time\n",
    "for x in range(x_shape//10):\n",
    "    for y in range(y_shape):\n",
    "        double_dataset.add_result({\"x\": x, 'y': y, 'z': np.random.random_sample()})"
   ]
  },
  {
   "cell_type": "markdown",
   "metadata": {},
   "source": [
    "## Add the data in outer loop and store as np array"
   ]
  },
  {
   "cell_type": "code",
   "execution_count": 12,
   "metadata": {
    "execution": {
     "iopub.execute_input": "2020-11-05T13:14:18.065432Z",
     "iopub.status.busy": "2020-11-05T13:14:18.064932Z",
     "iopub.status.idle": "2020-11-05T13:14:18.072428Z",
     "shell.execute_reply": "2020-11-05T13:14:18.072032Z"
    }
   },
   "outputs": [],
   "source": [
    "single_dataset = new_data_set(\"singledata\", exp_id=exp.exp_id,\n",
    "                              specs=[ParamSpec(\"x\", \"array\"),\n",
    "                                     ParamSpec(\"y\", \"array\"),\n",
    "                                     ParamSpec('z', \"array\")])\n",
    "single_dataset.mark_started()\n",
    "x_data = np.zeros((y_shape))\n",
    "y_data = np.zeros((y_shape))\n",
    "z_data = np.zeros((y_shape))"
   ]
  },
  {
   "cell_type": "code",
   "execution_count": 13,
   "metadata": {
    "execution": {
     "iopub.execute_input": "2020-11-05T13:14:18.076524Z",
     "iopub.status.busy": "2020-11-05T13:14:18.076052Z",
     "iopub.status.idle": "2020-11-05T13:14:18.182715Z",
     "shell.execute_reply": "2020-11-05T13:14:18.182275Z"
    }
   },
   "outputs": [
    {
     "name": "stdout",
     "output_type": "stream",
     "text": [
      "CPU times: user 90.8 ms, sys: 225 µs, total: 91 ms\n",
      "Wall time: 102 ms\n"
     ]
    }
   ],
   "source": [
    "%%time\n",
    "for x in range(x_shape):\n",
    "    for y in range(y_shape):\n",
    "        x_data[y] = x\n",
    "        y_data[y] = y\n",
    "        z_data[y] = np.random.random_sample(1)\n",
    "    single_dataset.add_result({\"x\": x_data, 'y': y_data, 'z': z_data})"
   ]
  },
  {
   "cell_type": "markdown",
   "metadata": {},
   "source": [
    "## Save once after loop"
   ]
  },
  {
   "cell_type": "code",
   "execution_count": 14,
   "metadata": {
    "execution": {
     "iopub.execute_input": "2020-11-05T13:14:18.187201Z",
     "iopub.status.busy": "2020-11-05T13:14:18.186717Z",
     "iopub.status.idle": "2020-11-05T13:14:18.196778Z",
     "shell.execute_reply": "2020-11-05T13:14:18.195925Z"
    }
   },
   "outputs": [],
   "source": [
    "zero_dataset = new_data_set(\"zerodata\", exp_id=exp.exp_id,\n",
    "                            specs=[ParamSpec(\"x\", \"array\"),\n",
    "                                   ParamSpec(\"y\", \"array\"),\n",
    "                                   ParamSpec('z', \"array\")])\n",
    "zero_dataset.mark_started()\n",
    "x_data = np.zeros((x_shape, y_shape))\n",
    "y_data = np.zeros((x_shape, y_shape))\n",
    "z_data = np.zeros((x_shape, y_shape))"
   ]
  },
  {
   "cell_type": "code",
   "execution_count": 15,
   "metadata": {
    "execution": {
     "iopub.execute_input": "2020-11-05T13:14:18.200898Z",
     "iopub.status.busy": "2020-11-05T13:14:18.200142Z",
     "iopub.status.idle": "2020-11-05T13:14:18.227349Z",
     "shell.execute_reply": "2020-11-05T13:14:18.226924Z"
    }
   },
   "outputs": [
    {
     "name": "stdout",
     "output_type": "stream",
     "text": [
      "CPU times: user 19.6 ms, sys: 812 µs, total: 20.4 ms\n",
      "Wall time: 21.6 ms\n"
     ]
    },
    {
     "data": {
      "text/plain": [
       "1"
      ]
     },
     "execution_count": 1,
     "metadata": {},
     "output_type": "execute_result"
    }
   ],
   "source": [
    "%%time\n",
    "for x in range(x_shape):\n",
    "    for y in range(y_shape):\n",
    "        x_data[x,y] = x\n",
    "        y_data[x,y] = y\n",
    "        z_data[x,y] = np.random.random_sample(1)\n",
    "zero_dataset.add_result({'x':x_data, 'y':y_data, 'z':z_data})"
   ]
  },
  {
   "cell_type": "markdown",
   "metadata": {},
   "source": [
    "## Array parameter"
   ]
  },
  {
   "cell_type": "code",
   "execution_count": 16,
   "metadata": {
    "execution": {
     "iopub.execute_input": "2020-11-05T13:14:18.231201Z",
     "iopub.status.busy": "2020-11-05T13:14:18.230720Z",
     "iopub.status.idle": "2020-11-05T13:14:18.239926Z",
     "shell.execute_reply": "2020-11-05T13:14:18.239499Z"
    }
   },
   "outputs": [],
   "source": [
    "array1D_dataset = new_data_set(\"array1Ddata\", exp_id=exp.exp_id,\n",
    "                               specs=[ParamSpec(\"x\", \"array\"),\n",
    "                                      ParamSpec(\"y\", \"array\"),\n",
    "                                      ParamSpec('z', \"array\")])\n",
    "array1D_dataset.mark_started()\n",
    "y_setpoints = np.arange(y_shape)"
   ]
  },
  {
   "cell_type": "code",
   "execution_count": 17,
   "metadata": {
    "execution": {
     "iopub.execute_input": "2020-11-05T13:14:18.244622Z",
     "iopub.status.busy": "2020-11-05T13:14:18.243868Z",
     "iopub.status.idle": "2020-11-05T13:14:25.188105Z",
     "shell.execute_reply": "2020-11-05T13:14:25.187388Z"
    }
   },
   "outputs": [
    {
     "name": "stdout",
     "output_type": "stream",
     "text": [
      "83.2 ms ± 684 µs per loop (mean ± std. dev. of 7 runs, 10 loops each)\n"
     ]
    }
   ],
   "source": [
    "%%timeit\n",
    "for x in range(x_shape):\n",
    "    x_data[x,:] = x\n",
    "    array1D_dataset.add_result({'x':x_data[x,:], 'y':y_setpoints, 'z':np.random.random_sample(y_shape)})"
   ]
  },
  {
   "cell_type": "code",
   "execution_count": 18,
   "metadata": {
    "execution": {
     "iopub.execute_input": "2020-11-05T13:14:25.192326Z",
     "iopub.status.busy": "2020-11-05T13:14:25.191458Z",
     "iopub.status.idle": "2020-11-05T13:14:25.194389Z",
     "shell.execute_reply": "2020-11-05T13:14:25.193979Z"
    }
   },
   "outputs": [],
   "source": [
    "x_data = np.zeros((x_shape, y_shape))\n",
    "y_data = np.zeros((x_shape, y_shape))\n",
    "z_data = np.zeros((x_shape, y_shape))\n",
    "y_setpoints = np.arange(y_shape)"
   ]
  },
  {
   "cell_type": "code",
   "execution_count": 19,
   "metadata": {
    "execution": {
     "iopub.execute_input": "2020-11-05T13:14:25.197843Z",
     "iopub.status.busy": "2020-11-05T13:14:25.197370Z",
     "iopub.status.idle": "2020-11-05T13:14:25.204968Z",
     "shell.execute_reply": "2020-11-05T13:14:25.204533Z"
    }
   },
   "outputs": [],
   "source": [
    "array0D_dataset = new_data_set(\"array0Ddata\", exp_id=exp.exp_id,\n",
    "                               specs=[ParamSpec(\"x\", \"array\"),\n",
    "                                      ParamSpec(\"y\", \"array\"),\n",
    "                                      ParamSpec('z', \"array\")])\n",
    "array0D_dataset.mark_started()"
   ]
  },
  {
   "cell_type": "code",
   "execution_count": 20,
   "metadata": {
    "execution": {
     "iopub.execute_input": "2020-11-05T13:14:25.209143Z",
     "iopub.status.busy": "2020-11-05T13:14:25.208627Z",
     "iopub.status.idle": "2020-11-05T13:14:30.806109Z",
     "shell.execute_reply": "2020-11-05T13:14:30.806504Z"
    }
   },
   "outputs": [
    {
     "name": "stdout",
     "output_type": "stream",
     "text": [
      "6.98 ms ± 184 µs per loop (mean ± std. dev. of 7 runs, 100 loops each)\n"
     ]
    }
   ],
   "source": [
    "%%timeit\n",
    "for x in range(x_shape):\n",
    "    x_data[x,:] = x\n",
    "    y_data[x,:] = y_setpoints\n",
    "    z_data[x,:] = np.random.random_sample(y_shape)\n",
    "array0D_dataset.add_result({'x':x_data, 'y':y_data, 'z':z_data})"
   ]
  },
  {
   "cell_type": "markdown",
   "metadata": {},
   "source": [
    "## Insert many"
   ]
  },
  {
   "cell_type": "code",
   "execution_count": 21,
   "metadata": {
    "execution": {
     "iopub.execute_input": "2020-11-05T13:14:30.815857Z",
     "iopub.status.busy": "2020-11-05T13:14:30.814996Z",
     "iopub.status.idle": "2020-11-05T13:14:30.819292Z",
     "shell.execute_reply": "2020-11-05T13:14:30.818896Z"
    }
   },
   "outputs": [],
   "source": [
    "data = []\n",
    "for i in range(100):\n",
    "    for j in range(100):\n",
    "        data.append({'x': i, 'y':j, 'z':np.random.random_sample()})"
   ]
  },
  {
   "cell_type": "code",
   "execution_count": 22,
   "metadata": {
    "execution": {
     "iopub.execute_input": "2020-11-05T13:14:30.822804Z",
     "iopub.status.busy": "2020-11-05T13:14:30.822325Z",
     "iopub.status.idle": "2020-11-05T13:14:30.829418Z",
     "shell.execute_reply": "2020-11-05T13:14:30.829021Z"
    }
   },
   "outputs": [],
   "source": [
    "many_Data = new_data_set(\"many_data\", exp_id=exp.exp_id,\n",
    "                         specs=[ParamSpec(\"x\", \"numeric\"),\n",
    "                                ParamSpec(\"y\", \"numeric\"),\n",
    "                                ParamSpec(\"z\", \"numeric\")])\n",
    "many_Data.mark_started()"
   ]
  },
  {
   "cell_type": "code",
   "execution_count": 23,
   "metadata": {
    "execution": {
     "iopub.execute_input": "2020-11-05T13:14:30.841600Z",
     "iopub.status.busy": "2020-11-05T13:14:30.831632Z",
     "iopub.status.idle": "2020-11-05T13:14:33.618220Z",
     "shell.execute_reply": "2020-11-05T13:14:33.617765Z"
    }
   },
   "outputs": [
    {
     "name": "stdout",
     "output_type": "stream",
     "text": [
      "33.4 ms ± 1.23 ms per loop (mean ± std. dev. of 7 runs, 10 loops each)\n"
     ]
    }
   ],
   "source": [
    "%%timeit\n",
    "many_Data.add_results(data)"
   ]
  }
 ],
 "metadata": {
  "kernelspec": {
   "display_name": "Python 3",
   "language": "python",
   "name": "python3"
  },
  "language_info": {
   "codemirror_mode": {
    "name": "ipython",
    "version": 3
   },
   "file_extension": ".py",
   "mimetype": "text/x-python",
   "name": "python",
   "nbconvert_exporter": "python",
   "pygments_lexer": "ipython3",
   "version": "3.7.9"
  },
  "nbsphinx": {
   "timeout": 600
  }
 },
 "nbformat": 4,
 "nbformat_minor": 2
}
