{
 "cells": [
  {
   "cell_type": "markdown",
   "metadata": {},
   "source": [
    "# Dataset Benchmarking\n",
    "\n",
    "This notebook is a behind-the-scenes benchmarking notebook, mainly for use by developers. The recommended way for users to interact with the dataset is via the `Measurement` object and its associated context manager. See the corresponding notebook for a comprehensive toturial on how to use those."
   ]
  },
  {
   "cell_type": "code",
   "execution_count": 1,
   "metadata": {
    "execution": {
     "iopub.execute_input": "2021-02-11T11:58:52.946719Z",
     "iopub.status.busy": "2021-02-11T11:58:52.945989Z",
     "iopub.status.idle": "2021-02-11T11:58:54.228630Z",
     "shell.execute_reply": "2021-02-11T11:58:54.229106Z"
    }
   },
   "outputs": [
    {
     "name": "stdout",
     "output_type": "stream",
     "text": [
      "Logging hadn't been started.\n",
      "Activating auto-logging. Current session state plus future input saved.\n",
      "Filename       : /home/vsts/.qcodes/logs/command_history.log\n",
      "Mode           : append\n",
      "Output logging : True\n",
      "Raw input log  : False\n",
      "Timestamping   : True\n",
      "State          : active\n"
     ]
    },
    {
     "name": "stdout",
     "output_type": "stream",
     "text": [
      "Qcodes Logfile : /home/vsts/.qcodes/logs/210211-6273-qcodes.log\n"
     ]
    }
   ],
   "source": [
    "%matplotlib inline\n",
    "import matplotlib.pyplot as plt\n",
    "import qcodes as qc\n",
    "from qcodes import ParamSpec, new_data_set, new_experiment, initialise_database, load_or_create_experiment\n",
    "import numpy as np"
   ]
  },
  {
   "cell_type": "code",
   "execution_count": 2,
   "metadata": {
    "execution": {
     "iopub.execute_input": "2021-02-11T11:58:54.237016Z",
     "iopub.status.busy": "2021-02-11T11:58:54.236428Z",
     "iopub.status.idle": "2021-02-11T11:58:54.242122Z",
     "shell.execute_reply": "2021-02-11T11:58:54.241602Z"
    }
   },
   "outputs": [
    {
     "data": {
      "text/plain": [
       "'~/experiments.db'"
      ]
     },
     "execution_count": 1,
     "metadata": {},
     "output_type": "execute_result"
    }
   ],
   "source": [
    "qc.config.core.db_location"
   ]
  },
  {
   "cell_type": "code",
   "execution_count": 3,
   "metadata": {
    "execution": {
     "iopub.execute_input": "2021-02-11T11:58:54.246409Z",
     "iopub.status.busy": "2021-02-11T11:58:54.245280Z",
     "iopub.status.idle": "2021-02-11T11:58:54.249141Z",
     "shell.execute_reply": "2021-02-11T11:58:54.248509Z"
    }
   },
   "outputs": [],
   "source": [
    "initialise_database()"
   ]
  },
  {
   "cell_type": "markdown",
   "metadata": {},
   "source": [
    "## Setup"
   ]
  },
  {
   "cell_type": "code",
   "execution_count": 4,
   "metadata": {
    "execution": {
     "iopub.execute_input": "2021-02-11T11:58:54.252823Z",
     "iopub.status.busy": "2021-02-11T11:58:54.252228Z",
     "iopub.status.idle": "2021-02-11T11:58:54.262547Z",
     "shell.execute_reply": "2021-02-11T11:58:54.263024Z"
    }
   },
   "outputs": [
    {
     "data": {
      "text/plain": [
       "benchmarking#the sample is a lie#1@/home/vsts/experiments.db\n",
       "------------------------------------------------------------"
      ]
     },
     "execution_count": 1,
     "metadata": {},
     "output_type": "execute_result"
    }
   ],
   "source": [
    "exp = load_or_create_experiment(\"benchmarking\", sample_name=\"the sample is a lie\")\n",
    "exp"
   ]
  },
  {
   "cell_type": "markdown",
   "metadata": {},
   "source": [
    "Now we can create a dataset. Note two things:\n",
    "\n",
    "    - if we don't specfiy a exp_id, but we have an experiment in the experiment container the dataset will go into that one.\n",
    "    - dataset can be created from the experiment object\n",
    "    "
   ]
  },
  {
   "cell_type": "code",
   "execution_count": 5,
   "metadata": {
    "execution": {
     "iopub.execute_input": "2021-02-11T11:58:54.266756Z",
     "iopub.status.busy": "2021-02-11T11:58:54.266143Z",
     "iopub.status.idle": "2021-02-11T11:58:54.275214Z",
     "shell.execute_reply": "2021-02-11T11:58:54.276049Z"
    }
   },
   "outputs": [
    {
     "data": {
      "text/plain": [
       "benchmarking#the sample is a lie#1@/home/vsts/experiments.db\n",
       "------------------------------------------------------------\n",
       "1-benchmark_data-1--0"
      ]
     },
     "execution_count": 1,
     "metadata": {},
     "output_type": "execute_result"
    }
   ],
   "source": [
    "dataSet = new_data_set(\"benchmark_data\", exp_id=exp.exp_id)\n",
    "exp"
   ]
  },
  {
   "cell_type": "markdown",
   "metadata": {},
   "source": [
    "In this benchmark we will assueme that we are doing a 2D loop and investigate the performance implications of writing to the dataset"
   ]
  },
  {
   "cell_type": "code",
   "execution_count": 6,
   "metadata": {
    "execution": {
     "iopub.execute_input": "2021-02-11T11:58:54.279981Z",
     "iopub.status.busy": "2021-02-11T11:58:54.279364Z",
     "iopub.status.idle": "2021-02-11T11:58:54.282037Z",
     "shell.execute_reply": "2021-02-11T11:58:54.281508Z"
    }
   },
   "outputs": [],
   "source": [
    "x_shape = 100\n",
    "y_shape = 100"
   ]
  },
  {
   "cell_type": "markdown",
   "metadata": {},
   "source": [
    "## Baseline: Generate data"
   ]
  },
  {
   "cell_type": "code",
   "execution_count": 7,
   "metadata": {
    "execution": {
     "iopub.execute_input": "2021-02-11T11:58:54.286433Z",
     "iopub.status.busy": "2021-02-11T11:58:54.285834Z",
     "iopub.status.idle": "2021-02-11T11:58:54.303206Z",
     "shell.execute_reply": "2021-02-11T11:58:54.302583Z"
    }
   },
   "outputs": [
    {
     "name": "stdout",
     "output_type": "stream",
     "text": [
      "CPU times: user 14.2 ms, sys: 0 ns, total: 14.2 ms\n",
      "Wall time: 13.9 ms\n"
     ]
    }
   ],
   "source": [
    "%%time\n",
    "for x in range(x_shape):\n",
    "    for y in range(y_shape):\n",
    "        z = np.random.random_sample(1)"
   ]
  },
  {
   "cell_type": "markdown",
   "metadata": {},
   "source": [
    "and store in memory"
   ]
  },
  {
   "cell_type": "code",
   "execution_count": 8,
   "metadata": {
    "execution": {
     "iopub.execute_input": "2021-02-11T11:58:54.308404Z",
     "iopub.status.busy": "2021-02-11T11:58:54.307336Z",
     "iopub.status.idle": "2021-02-11T11:58:54.309476Z",
     "shell.execute_reply": "2021-02-11T11:58:54.310005Z"
    }
   },
   "outputs": [],
   "source": [
    "x_data = np.zeros((x_shape, y_shape))\n",
    "y_data = np.zeros((x_shape, y_shape))\n",
    "z_data = np.zeros((x_shape, y_shape))"
   ]
  },
  {
   "cell_type": "code",
   "execution_count": 9,
   "metadata": {
    "execution": {
     "iopub.execute_input": "2021-02-11T11:58:54.325430Z",
     "iopub.status.busy": "2021-02-11T11:58:54.317890Z",
     "iopub.status.idle": "2021-02-11T11:58:54.327746Z",
     "shell.execute_reply": "2021-02-11T11:58:54.328402Z"
    }
   },
   "outputs": [
    {
     "name": "stdout",
     "output_type": "stream",
     "text": [
      "CPU times: user 10.7 ms, sys: 0 ns, total: 10.7 ms\n",
      "Wall time: 10.6 ms\n"
     ]
    }
   ],
   "source": [
    "%%time\n",
    "for x in range(x_shape):\n",
    "    for y in range(y_shape):\n",
    "        x_data[x,y] = x\n",
    "        y_data[x,y] = y\n",
    "        z_data[x,y] = np.random.random_sample()"
   ]
  },
  {
   "cell_type": "markdown",
   "metadata": {},
   "source": [
    "## Add to dataset inside double loop"
   ]
  },
  {
   "cell_type": "code",
   "execution_count": 10,
   "metadata": {
    "execution": {
     "iopub.execute_input": "2021-02-11T11:58:54.332594Z",
     "iopub.status.busy": "2021-02-11T11:58:54.331985Z",
     "iopub.status.idle": "2021-02-11T11:58:54.345590Z",
     "shell.execute_reply": "2021-02-11T11:58:54.344604Z"
    }
   },
   "outputs": [],
   "source": [
    "double_dataset = new_data_set(\"doubledata\", exp_id=exp.exp_id,\n",
    "                              specs=[ParamSpec(\"x\", \"numeric\"),\n",
    "                                     ParamSpec(\"y\", \"numeric\"),\n",
    "                                     ParamSpec('z', \"numeric\")])\n",
    "double_dataset.mark_started()"
   ]
  },
  {
   "cell_type": "markdown",
   "metadata": {},
   "source": [
    "Note that this is so slow that we are only doing a 10th of the computation"
   ]
  },
  {
   "cell_type": "code",
   "execution_count": 11,
   "metadata": {
    "execution": {
     "iopub.execute_input": "2021-02-11T11:58:54.350775Z",
     "iopub.status.busy": "2021-02-11T11:58:54.349557Z",
     "iopub.status.idle": "2021-02-11T11:58:55.399270Z",
     "shell.execute_reply": "2021-02-11T11:58:55.398737Z"
    }
   },
   "outputs": [
    {
     "name": "stdout",
     "output_type": "stream",
     "text": [
      "CPU times: user 339 ms, sys: 72.6 ms, total: 412 ms\n",
      "Wall time: 1.05 s\n"
     ]
    }
   ],
   "source": [
    "%%time\n",
    "for x in range(x_shape//10):\n",
    "    for y in range(y_shape):\n",
    "        double_dataset.add_results([{\"x\": x, 'y': y, 'z': np.random.random_sample()}])"
   ]
  },
  {
   "cell_type": "markdown",
   "metadata": {},
   "source": [
    "## Add the data in outer loop and store as np array"
   ]
  },
  {
   "cell_type": "code",
   "execution_count": 12,
   "metadata": {
    "execution": {
     "iopub.execute_input": "2021-02-11T11:58:55.404363Z",
     "iopub.status.busy": "2021-02-11T11:58:55.403739Z",
     "iopub.status.idle": "2021-02-11T11:58:55.414147Z",
     "shell.execute_reply": "2021-02-11T11:58:55.413590Z"
    }
   },
   "outputs": [],
   "source": [
    "single_dataset = new_data_set(\"singledata\", exp_id=exp.exp_id,\n",
    "                              specs=[ParamSpec(\"x\", \"array\"),\n",
    "                                     ParamSpec(\"y\", \"array\"),\n",
    "                                     ParamSpec('z', \"array\")])\n",
    "single_dataset.mark_started()\n",
    "x_data = np.zeros((y_shape))\n",
    "y_data = np.zeros((y_shape))\n",
    "z_data = np.zeros((y_shape))"
   ]
  },
  {
   "cell_type": "code",
   "execution_count": 13,
   "metadata": {
    "execution": {
     "iopub.execute_input": "2021-02-11T11:58:55.419929Z",
     "iopub.status.busy": "2021-02-11T11:58:55.418907Z",
     "iopub.status.idle": "2021-02-11T11:58:55.561528Z",
     "shell.execute_reply": "2021-02-11T11:58:55.562023Z"
    }
   },
   "outputs": [
    {
     "name": "stdout",
     "output_type": "stream",
     "text": [
      "CPU times: user 119 ms, sys: 2.86 ms, total: 122 ms\n",
      "Wall time: 140 ms\n"
     ]
    }
   ],
   "source": [
    "%%time\n",
    "for x in range(x_shape):\n",
    "    for y in range(y_shape):\n",
    "        x_data[y] = x\n",
    "        y_data[y] = y\n",
    "        z_data[y] = np.random.random_sample(1)\n",
    "    single_dataset.add_results([{\"x\": x_data, 'y': y_data, 'z': z_data}])"
   ]
  },
  {
   "cell_type": "markdown",
   "metadata": {},
   "source": [
    "## Save once after loop"
   ]
  },
  {
   "cell_type": "code",
   "execution_count": 14,
   "metadata": {
    "execution": {
     "iopub.execute_input": "2021-02-11T11:58:55.567170Z",
     "iopub.status.busy": "2021-02-11T11:58:55.566574Z",
     "iopub.status.idle": "2021-02-11T11:58:55.576678Z",
     "shell.execute_reply": "2021-02-11T11:58:55.577141Z"
    }
   },
   "outputs": [],
   "source": [
    "zero_dataset = new_data_set(\"zerodata\", exp_id=exp.exp_id,\n",
    "                            specs=[ParamSpec(\"x\", \"array\"),\n",
    "                                   ParamSpec(\"y\", \"array\"),\n",
    "                                   ParamSpec('z', \"array\")])\n",
    "zero_dataset.mark_started()\n",
    "x_data = np.zeros((x_shape, y_shape))\n",
    "y_data = np.zeros((x_shape, y_shape))\n",
    "z_data = np.zeros((x_shape, y_shape))"
   ]
  },
  {
   "cell_type": "code",
   "execution_count": 15,
   "metadata": {
    "execution": {
     "iopub.execute_input": "2021-02-11T11:58:55.583233Z",
     "iopub.status.busy": "2021-02-11T11:58:55.582602Z",
     "iopub.status.idle": "2021-02-11T11:58:55.612896Z",
     "shell.execute_reply": "2021-02-11T11:58:55.612374Z"
    }
   },
   "outputs": [
    {
     "name": "stdout",
     "output_type": "stream",
     "text": [
      "CPU times: user 28.2 ms, sys: 0 ns, total: 28.2 ms\n",
      "Wall time: 27.4 ms\n"
     ]
    }
   ],
   "source": [
    "%%time\n",
    "for x in range(x_shape):\n",
    "    for y in range(y_shape):\n",
    "        x_data[x,y] = x\n",
    "        y_data[x,y] = y\n",
    "        z_data[x,y] = np.random.random_sample(1)\n",
    "zero_dataset.add_results([{'x':x_data, 'y':y_data, 'z':z_data}])"
   ]
  },
  {
   "cell_type": "markdown",
   "metadata": {},
   "source": [
    "## Array parameter"
   ]
  },
  {
   "cell_type": "code",
   "execution_count": 16,
   "metadata": {
    "execution": {
     "iopub.execute_input": "2021-02-11T11:58:55.617631Z",
     "iopub.status.busy": "2021-02-11T11:58:55.616951Z",
     "iopub.status.idle": "2021-02-11T11:58:55.625875Z",
     "shell.execute_reply": "2021-02-11T11:58:55.626394Z"
    }
   },
   "outputs": [],
   "source": [
    "array1D_dataset = new_data_set(\"array1Ddata\", exp_id=exp.exp_id,\n",
    "                               specs=[ParamSpec(\"x\", \"array\"),\n",
    "                                      ParamSpec(\"y\", \"array\"),\n",
    "                                      ParamSpec('z', \"array\")])\n",
    "array1D_dataset.mark_started()\n",
    "y_setpoints = np.arange(y_shape)"
   ]
  },
  {
   "cell_type": "code",
   "execution_count": 17,
   "metadata": {
    "execution": {
     "iopub.execute_input": "2021-02-11T11:58:55.631761Z",
     "iopub.status.busy": "2021-02-11T11:58:55.631130Z",
     "iopub.status.idle": "2021-02-11T11:59:05.886749Z",
     "shell.execute_reply": "2021-02-11T11:59:05.886181Z"
    }
   },
   "outputs": [
    {
     "name": "stdout",
     "output_type": "stream",
     "text": [
      "125 ms ± 2.14 ms per loop (mean ± std. dev. of 7 runs, 10 loops each)\n"
     ]
    }
   ],
   "source": [
    "%%timeit\n",
    "for x in range(x_shape):\n",
    "    x_data[x,:] = x\n",
    "    array1D_dataset.add_results([{'x':x_data[x,:], 'y':y_setpoints, 'z':np.random.random_sample(y_shape)}])"
   ]
  },
  {
   "cell_type": "code",
   "execution_count": 18,
   "metadata": {
    "execution": {
     "iopub.execute_input": "2021-02-11T11:59:05.891346Z",
     "iopub.status.busy": "2021-02-11T11:59:05.890406Z",
     "iopub.status.idle": "2021-02-11T11:59:05.894874Z",
     "shell.execute_reply": "2021-02-11T11:59:05.894336Z"
    }
   },
   "outputs": [],
   "source": [
    "x_data = np.zeros((x_shape, y_shape))\n",
    "y_data = np.zeros((x_shape, y_shape))\n",
    "z_data = np.zeros((x_shape, y_shape))\n",
    "y_setpoints = np.arange(y_shape)"
   ]
  },
  {
   "cell_type": "code",
   "execution_count": 19,
   "metadata": {
    "execution": {
     "iopub.execute_input": "2021-02-11T11:59:05.898941Z",
     "iopub.status.busy": "2021-02-11T11:59:05.898328Z",
     "iopub.status.idle": "2021-02-11T11:59:05.908632Z",
     "shell.execute_reply": "2021-02-11T11:59:05.908079Z"
    }
   },
   "outputs": [],
   "source": [
    "array0D_dataset = new_data_set(\"array0Ddata\", exp_id=exp.exp_id,\n",
    "                               specs=[ParamSpec(\"x\", \"array\"),\n",
    "                                      ParamSpec(\"y\", \"array\"),\n",
    "                                      ParamSpec('z', \"array\")])\n",
    "array0D_dataset.mark_started()"
   ]
  },
  {
   "cell_type": "code",
   "execution_count": 20,
   "metadata": {
    "execution": {
     "iopub.execute_input": "2021-02-11T11:59:05.913758Z",
     "iopub.status.busy": "2021-02-11T11:59:05.913107Z",
     "iopub.status.idle": "2021-02-11T11:59:11.506680Z",
     "shell.execute_reply": "2021-02-11T11:59:11.506153Z"
    }
   },
   "outputs": [
    {
     "name": "stdout",
     "output_type": "stream",
     "text": [
      "6.92 ms ± 156 µs per loop (mean ± std. dev. of 7 runs, 100 loops each)\n"
     ]
    }
   ],
   "source": [
    "%%timeit\n",
    "for x in range(x_shape):\n",
    "    x_data[x,:] = x\n",
    "    y_data[x,:] = y_setpoints\n",
    "    z_data[x,:] = np.random.random_sample(y_shape)\n",
    "array0D_dataset.add_results([{'x':x_data, 'y':y_data, 'z':z_data}])"
   ]
  },
  {
   "cell_type": "markdown",
   "metadata": {},
   "source": [
    "## Insert many"
   ]
  },
  {
   "cell_type": "code",
   "execution_count": 21,
   "metadata": {
    "execution": {
     "iopub.execute_input": "2021-02-11T11:59:11.517429Z",
     "iopub.status.busy": "2021-02-11T11:59:11.515548Z",
     "iopub.status.idle": "2021-02-11T11:59:11.521738Z",
     "shell.execute_reply": "2021-02-11T11:59:11.521152Z"
    }
   },
   "outputs": [],
   "source": [
    "data = []\n",
    "for i in range(100):\n",
    "    for j in range(100):\n",
    "        data.append({'x': i, 'y':j, 'z':np.random.random_sample()})"
   ]
  },
  {
   "cell_type": "code",
   "execution_count": 22,
   "metadata": {
    "execution": {
     "iopub.execute_input": "2021-02-11T11:59:11.526596Z",
     "iopub.status.busy": "2021-02-11T11:59:11.525915Z",
     "iopub.status.idle": "2021-02-11T11:59:11.536857Z",
     "shell.execute_reply": "2021-02-11T11:59:11.537373Z"
    }
   },
   "outputs": [],
   "source": [
    "many_Data = new_data_set(\"many_data\", exp_id=exp.exp_id,\n",
    "                         specs=[ParamSpec(\"x\", \"numeric\"),\n",
    "                                ParamSpec(\"y\", \"numeric\"),\n",
    "                                ParamSpec(\"z\", \"numeric\")])\n",
    "many_Data.mark_started()"
   ]
  },
  {
   "cell_type": "code",
   "execution_count": 23,
   "metadata": {
    "execution": {
     "iopub.execute_input": "2021-02-11T11:59:11.552686Z",
     "iopub.status.busy": "2021-02-11T11:59:11.550655Z",
     "iopub.status.idle": "2021-02-11T11:59:16.000436Z",
     "shell.execute_reply": "2021-02-11T11:59:16.000919Z"
    }
   },
   "outputs": [
    {
     "name": "stdout",
     "output_type": "stream",
     "text": [
      "54.9 ms ± 1.98 ms per loop (mean ± std. dev. of 7 runs, 10 loops each)\n"
     ]
    }
   ],
   "source": [
    "%%timeit\n",
    "many_Data.add_results(data)"
   ]
  }
 ],
 "metadata": {
  "kernelspec": {
   "display_name": "Python 3",
   "language": "python",
   "name": "python3"
  },
  "language_info": {
   "codemirror_mode": {
    "name": "ipython",
    "version": 3
   },
   "file_extension": ".py",
   "mimetype": "text/x-python",
   "name": "python",
   "nbconvert_exporter": "python",
   "pygments_lexer": "ipython3",
   "version": "3.7.9"
  },
  "nbsphinx": {
   "timeout": 600
  }
 },
 "nbformat": 4,
 "nbformat_minor": 2
}
