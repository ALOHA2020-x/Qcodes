{
 "cells": [
  {
   "cell_type": "markdown",
   "metadata": {},
   "source": [
    "# Saving data in the background\n",
    "\n",
    "The QCoDeS Measurement allows for the actual data saving to take place in a background thread. This notebook provides an example of using that feature to reduce the overall time spent running the measurement.\n",
    "\n",
    "## Can I haz speedup?\n",
    "\n",
    "If the time you spend actually writing the data to disk is comparable to the time it takes you to acquire the data (e.g. by waiting for a lock-in amplifier to integrate or an algorithm to return a result), then you can indeed expect a speedup of up to a factor of 2. If your measurement time is clearly dominated by either the acquisition or the writing to the DB file, then writing the data in the background won't offer you much of a speedup. "
   ]
  },
  {
   "cell_type": "markdown",
   "metadata": {},
   "source": [
    "## Example Measurement\n",
    "\n",
    "We'll acquire a 2D heatmap and pretend that the acquisition is fairly slow. We'll also print how long the acquisition and the saving takes. We have chosen a *fair* example showing *some* speed-up. It is indeed possible to tailor situations where the speed-up is larger, e.g. by saving big (smth like 3 x 100_000_000 points per save) numpy arrays, but such datasets are not easily visaulised. In this notebook we get a decent speed-up and two nice heatmaps."
   ]
  },
  {
   "cell_type": "code",
   "execution_count": 1,
   "metadata": {
    "execution": {
     "iopub.execute_input": "2020-10-23T06:16:48.573690Z",
     "iopub.status.busy": "2020-10-23T06:16:48.573061Z",
     "iopub.status.idle": "2020-10-23T06:16:49.910957Z",
     "shell.execute_reply": "2020-10-23T06:16:49.911495Z"
    }
   },
   "outputs": [
    {
     "name": "stdout",
     "output_type": "stream",
     "text": [
      "Logging hadn't been started.\n",
      "Activating auto-logging. Current session state plus future input saved.\n",
      "Filename       : /home/vsts/.qcodes/logs/command_history.log\n",
      "Mode           : append\n",
      "Output logging : True\n",
      "Raw input log  : False\n",
      "Timestamping   : True\n",
      "State          : active\n"
     ]
    },
    {
     "name": "stdout",
     "output_type": "stream",
     "text": [
      "Qcodes Logfile : /home/vsts/.qcodes/logs/201023-16804-qcodes.log\n"
     ]
    }
   ],
   "source": [
    "import os\n",
    "import time\n",
    "import tempfile\n",
    "\n",
    "import numpy as np\n",
    "\n",
    "from qcodes.instrument.parameter import Parameter\n",
    "from qcodes.dataset.measurements import Measurement\n",
    "from qcodes.dataset.plotting import plot_dataset\n",
    "from qcodes.dataset.experiment_container import new_experiment\n",
    "from qcodes.dataset.sqlite.database import initialise_or_create_database_at"
   ]
  },
  {
   "cell_type": "code",
   "execution_count": 2,
   "metadata": {
    "execution": {
     "iopub.execute_input": "2020-10-23T06:16:49.952800Z",
     "iopub.status.busy": "2020-10-23T06:16:49.951703Z",
     "iopub.status.idle": "2020-10-23T06:16:50.063674Z",
     "shell.execute_reply": "2020-10-23T06:16:50.066526Z"
    }
   },
   "outputs": [
    {
     "name": "stdout",
     "output_type": "stream",
     "text": [
      "\r",
      "0it [00:00, ?it/s]"
     ]
    },
    {
     "name": "stdout",
     "output_type": "stream",
     "text": [
      "\r",
      "Upgrading database; v0 -> v1: : 0it [00:00, ?it/s]"
     ]
    },
    {
     "name": "stdout",
     "output_type": "stream",
     "text": [
      "\r",
      "Upgrading database; v0 -> v1: : 0it [00:00, ?it/s]"
     ]
    },
    {
     "name": "stdout",
     "output_type": "stream",
     "text": [
      "\n",
      "\r",
      "  0%|          | 0/1 [00:00<?, ?it/s]"
     ]
    },
    {
     "name": "stdout",
     "output_type": "stream",
     "text": [
      "\r",
      "Upgrading database; v1 -> v2:   0%|          | 0/1 [00:00<?, ?it/s]"
     ]
    },
    {
     "name": "stdout",
     "output_type": "stream",
     "text": [
      "\r",
      "Upgrading database; v1 -> v2: 100%|██████████| 1/1 [00:00<00:00, 532.68it/s]"
     ]
    },
    {
     "name": "stdout",
     "output_type": "stream",
     "text": [
      "\n",
      "\r",
      "0it [00:00, ?it/s]"
     ]
    },
    {
     "name": "stdout",
     "output_type": "stream",
     "text": [
      "\r",
      "Upgrading database; v2 -> v3: : 0it [00:00, ?it/s]"
     ]
    },
    {
     "name": "stdout",
     "output_type": "stream",
     "text": [
      "\r",
      "Upgrading database; v2 -> v3: : 0it [00:00, ?it/s]"
     ]
    },
    {
     "name": "stdout",
     "output_type": "stream",
     "text": [
      "\n",
      "\r",
      "0it [00:00, ?it/s]"
     ]
    },
    {
     "name": "stdout",
     "output_type": "stream",
     "text": [
      "\r",
      "Upgrading database; v3 -> v4: : 0it [00:00, ?it/s]"
     ]
    },
    {
     "name": "stdout",
     "output_type": "stream",
     "text": [
      "\r",
      "Upgrading database; v3 -> v4: : 0it [00:00, ?it/s]"
     ]
    },
    {
     "name": "stdout",
     "output_type": "stream",
     "text": [
      "\n",
      "\r",
      "  0%|          | 0/1 [00:00<?, ?it/s]"
     ]
    },
    {
     "name": "stdout",
     "output_type": "stream",
     "text": [
      "\r",
      "Upgrading database; v4 -> v5:   0%|          | 0/1 [00:00<?, ?it/s]"
     ]
    },
    {
     "name": "stdout",
     "output_type": "stream",
     "text": [
      "\r",
      "Upgrading database; v4 -> v5: 100%|██████████| 1/1 [00:00<00:00, 318.50it/s]"
     ]
    },
    {
     "name": "stdout",
     "output_type": "stream",
     "text": [
      "\n",
      "\r",
      "0it [00:00, ?it/s]"
     ]
    },
    {
     "name": "stdout",
     "output_type": "stream",
     "text": [
      "\r",
      "Upgrading database; v5 -> v6: : 0it [00:00, ?it/s]"
     ]
    },
    {
     "name": "stdout",
     "output_type": "stream",
     "text": [
      "\r",
      "Upgrading database; v5 -> v6: : 0it [00:00, ?it/s]"
     ]
    },
    {
     "name": "stdout",
     "output_type": "stream",
     "text": [
      "\n",
      "\r",
      "  0%|          | 0/1 [00:00<?, ?it/s]"
     ]
    },
    {
     "name": "stdout",
     "output_type": "stream",
     "text": [
      "\r",
      "Upgrading database; v6 -> v7:   0%|          | 0/1 [00:00<?, ?it/s]"
     ]
    },
    {
     "name": "stdout",
     "output_type": "stream",
     "text": [
      "\r",
      "Upgrading database; v6 -> v7: 100%|██████████| 1/1 [00:00<00:00, 199.64it/s]"
     ]
    },
    {
     "name": "stdout",
     "output_type": "stream",
     "text": [
      "\n",
      "\r",
      "  0%|          | 0/1 [00:00<?, ?it/s]"
     ]
    },
    {
     "name": "stdout",
     "output_type": "stream",
     "text": [
      "\r",
      "Upgrading database; v7 -> v8:   0%|          | 0/1 [00:00<?, ?it/s]"
     ]
    },
    {
     "name": "stdout",
     "output_type": "stream",
     "text": [
      "\r",
      "Upgrading database; v7 -> v8: 100%|██████████| 1/1 [00:00<00:00, 378.79it/s]"
     ]
    },
    {
     "name": "stdout",
     "output_type": "stream",
     "text": [
      "\n",
      "\r",
      "  0%|          | 0/1 [00:00<?, ?it/s]"
     ]
    },
    {
     "name": "stdout",
     "output_type": "stream",
     "text": [
      "\r",
      "Upgrading database; v8 -> v9:   0%|          | 0/1 [00:00<?, ?it/s]"
     ]
    },
    {
     "name": "stdout",
     "output_type": "stream",
     "text": [
      "\r",
      "Upgrading database; v8 -> v9: 100%|██████████| 1/1 [00:00<00:00, 835.52it/s]"
     ]
    },
    {
     "name": "stdout",
     "output_type": "stream",
     "text": [
      "\n"
     ]
    },
    {
     "data": {
      "text/plain": [
       "saving_data_in_bg#no_sample#1@/tmp/b9a93ad38cd160c245cfae2efa9189a020596f88d1dc05cd.db\n",
       "--------------------------------------------------------------------------------------"
      ]
     },
     "execution_count": 1,
     "metadata": {},
     "output_type": "execute_result"
    }
   ],
   "source": [
    "dbname = os.path.join(tempfile.gettempdir(), os.urandom(24).hex()) + \".db\"\n",
    "initialise_or_create_database_at(dbname)\n",
    "new_experiment('saving_data_in_bg', 'no_sample')"
   ]
  },
  {
   "cell_type": "code",
   "execution_count": 3,
   "metadata": {
    "execution": {
     "iopub.execute_input": "2020-10-23T06:16:50.072964Z",
     "iopub.status.busy": "2020-10-23T06:16:50.072349Z",
     "iopub.status.idle": "2020-10-23T06:16:50.075968Z",
     "shell.execute_reply": "2020-10-23T06:16:50.076561Z"
    }
   },
   "outputs": [],
   "source": [
    "def gaussian(x, mu, sig):\n",
    "    return np.exp(-np.power(x - mu, 2.) / (2 * np.power(sig, 2.)))\n",
    "\n",
    "def get_response():\n",
    "    \"\"\"\n",
    "    Simulated slow instrument response\n",
    "    \"\"\"\n",
    "    freqs = frequency.get()\n",
    "    volt = voltage.get()\n",
    "    time.sleep(0.1)\n",
    "    volt += 0.2*np.random.rand()\n",
    "    noise = 0.01*np.random.randn(len(freqs))\n",
    "    return gaussian(freqs, volt, 2) + 0.01* noise"
   ]
  },
  {
   "cell_type": "code",
   "execution_count": 4,
   "metadata": {
    "execution": {
     "iopub.execute_input": "2020-10-23T06:16:50.082329Z",
     "iopub.status.busy": "2020-10-23T06:16:50.081711Z",
     "iopub.status.idle": "2020-10-23T06:16:50.088120Z",
     "shell.execute_reply": "2020-10-23T06:16:50.087310Z"
    }
   },
   "outputs": [
    {
     "data": {
      "text/plain": [
       "<qcodes.dataset.measurements.Measurement at 0x7f878bc1e090>"
      ]
     },
     "execution_count": 1,
     "metadata": {},
     "output_type": "execute_result"
    }
   ],
   "source": [
    "voltage = Parameter('voltage', unit='V', set_cmd=None, get_cmd=None)\n",
    "frequency = Parameter('frequency', unit='Hz', set_cmd=None, get_cmd=None)\n",
    "response = Parameter('response', unit='V^2/Hz', get_cmd=get_response)\n",
    "\n",
    "meas = Measurement()\n",
    "meas.register_parameter(voltage)\n",
    "meas.register_parameter(frequency)\n",
    "meas.register_parameter(response, setpoints=[voltage, frequency])"
   ]
  },
  {
   "cell_type": "code",
   "execution_count": 5,
   "metadata": {
    "execution": {
     "iopub.execute_input": "2020-10-23T06:16:50.091889Z",
     "iopub.status.busy": "2020-10-23T06:16:50.091265Z",
     "iopub.status.idle": "2020-10-23T06:16:50.095304Z",
     "shell.execute_reply": "2020-10-23T06:16:50.094665Z"
    }
   },
   "outputs": [],
   "source": [
    "N = 10_000\n",
    "M = 10"
   ]
  },
  {
   "cell_type": "markdown",
   "metadata": {},
   "source": [
    "## Data saving in the main thread\n",
    "\n",
    "This is the default QCoDeS behaviour."
   ]
  },
  {
   "cell_type": "code",
   "execution_count": 6,
   "metadata": {
    "execution": {
     "iopub.execute_input": "2020-10-23T06:16:50.102881Z",
     "iopub.status.busy": "2020-10-23T06:16:50.102023Z",
     "iopub.status.idle": "2020-10-23T06:16:52.548398Z",
     "shell.execute_reply": "2020-10-23T06:16:52.548951Z"
    }
   },
   "outputs": [
    {
     "name": "stdout",
     "output_type": "stream",
     "text": [
      "Starting experimental run with id: 1. \n"
     ]
    },
    {
     "name": "stdout",
     "output_type": "stream",
     "text": [
      "Report:\n",
      "Number of data points saved: 10 x 10000 points\n",
      "Init time:            0.017840771000010136 s\n",
      "Data generation time: 1.0132863129992984 s\n",
      "Data saving time:     1.4107481870005358 s\n",
      "Total time:           2.4420908719998806 s\n"
     ]
    }
   ],
   "source": [
    "t0 = time.perf_counter()\n",
    "\n",
    "saving_time = 0\n",
    "generation_time = 0\n",
    "\n",
    "with meas.run() as datasaver:\n",
    "    init_time = time.perf_counter() - t0\n",
    "\n",
    "    for volt in np.sin(np.linspace(-np.pi, np.pi, M)):\n",
    "        t1 = time.perf_counter()\n",
    "\n",
    "        freqs = np.linspace(-10, 10, N)\n",
    "        frequency(freqs)\n",
    "        voltage(volt)\n",
    "\n",
    "        resp = response()\n",
    "\n",
    "        t2 = time.perf_counter()\n",
    "\n",
    "        generation_time += t2 - t1\n",
    "\n",
    "        datasaver.add_result((frequency, freqs),\n",
    "                             (voltage, volt),\n",
    "                             (response, resp))\n",
    "        t3 = time.perf_counter()\n",
    "\n",
    "        saving_time += t3 - t2\n",
    "t4 = time.perf_counter()\n",
    "saving_time += t4 - t3\n",
    "\n",
    "print('Report:')\n",
    "print(f'Number of data points saved: {M} x {N} points')\n",
    "print(f'Init time:            {init_time} s')\n",
    "print(f'Data generation time: {generation_time} s')\n",
    "print(f'Data saving time:     {saving_time} s')\n",
    "print(f'Total time:           {t4-t0} s')"
   ]
  },
  {
   "cell_type": "code",
   "execution_count": 7,
   "metadata": {
    "execution": {
     "iopub.execute_input": "2020-10-23T06:16:52.553255Z",
     "iopub.status.busy": "2020-10-23T06:16:52.552413Z",
     "iopub.status.idle": "2020-10-23T06:16:55.012282Z",
     "shell.execute_reply": "2020-10-23T06:16:55.011435Z"
    }
   },
   "outputs": [
    {
     "data": {
      "image/png": "[encoded data removed]",
      "text/plain": [
       "<Figure size 432x288 with 2 Axes>"
      ]
     },
     "metadata": {
      "needs_background": "light"
     },
     "output_type": "display_data"
    }
   ],
   "source": [
    "_ = plot_dataset(datasaver.dataset)"
   ]
  },
  {
   "cell_type": "markdown",
   "metadata": {},
   "source": [
    "## Saving in a background thread\n",
    "\n",
    "To save in a background thread, simply pass the `write_in_background` kwarg as you `run` the measurement."
   ]
  },
  {
   "cell_type": "code",
   "execution_count": 8,
   "metadata": {
    "execution": {
     "iopub.execute_input": "2020-10-23T06:16:55.020274Z",
     "iopub.status.busy": "2020-10-23T06:16:55.019655Z",
     "iopub.status.idle": "2020-10-23T06:16:56.554287Z",
     "shell.execute_reply": "2020-10-23T06:16:56.554800Z"
    }
   },
   "outputs": [
    {
     "name": "stdout",
     "output_type": "stream",
     "text": [
      "Starting experimental run with id: 2. \n"
     ]
    },
    {
     "name": "stdout",
     "output_type": "stream",
     "text": [
      "Report:\n",
      "Number of data points saved: 10 x 10000 points\n",
      "Init time:            0.015979862999756733 s\n",
      "Data generation time: 1.038393002999328 s\n",
      "Data saving time:     0.4765200810006718 s\n",
      "Total time:           1.5310580469999877 s\n"
     ]
    }
   ],
   "source": [
    "t0 = time.perf_counter()\n",
    "\n",
    "saving_time = 0\n",
    "generation_time = 0\n",
    "\n",
    "# ONLY DIFFERENCE IN THE NEXT LINE\n",
    "with meas.run(write_in_background=True) as datasaver:  # <---- THIS LINE DIFFERENT\n",
    "    # THE PREVIOUS LINE CHANGED\n",
    "    \n",
    "    init_time = time.perf_counter() - t0\n",
    "\n",
    "    for volt in np.sin(np.linspace(-np.pi, np.pi, M)):\n",
    "        t1 = time.perf_counter()\n",
    "\n",
    "        freqs = np.linspace(-10, 10, N)\n",
    "        frequency(freqs)\n",
    "        voltage(volt)\n",
    "\n",
    "        resp = response()\n",
    "\n",
    "        t2 = time.perf_counter()\n",
    "\n",
    "        generation_time += t2 - t1\n",
    "\n",
    "        datasaver.add_result((frequency, freqs),\n",
    "                             (voltage, volt),\n",
    "                             (response, resp))\n",
    "        t3 = time.perf_counter()\n",
    "\n",
    "        saving_time += t3 - t2\n",
    "t4 = time.perf_counter()\n",
    "saving_time += t4 - t3\n",
    "\n",
    "print('Report:')\n",
    "print(f'Number of data points saved: {M} x {N} points')\n",
    "print(f'Init time:            {init_time} s')\n",
    "print(f'Data generation time: {generation_time} s')\n",
    "print(f'Data saving time:     {saving_time} s')\n",
    "print(f'Total time:           {t4-t0} s')"
   ]
  },
  {
   "cell_type": "code",
   "execution_count": 9,
   "metadata": {
    "execution": {
     "iopub.execute_input": "2020-10-23T06:16:56.559929Z",
     "iopub.status.busy": "2020-10-23T06:16:56.559325Z",
     "iopub.status.idle": "2020-10-23T06:16:58.930014Z",
     "shell.execute_reply": "2020-10-23T06:16:58.930802Z"
    }
   },
   "outputs": [
    {
     "data": {
      "image/png": "[encoded data removed]",
      "text/plain": [
       "<Figure size 432x288 with 2 Axes>"
      ]
     },
     "metadata": {
      "needs_background": "light"
     },
     "output_type": "display_data"
    }
   ],
   "source": [
    "_ = plot_dataset(datasaver.dataset)"
   ]
  },
  {
   "cell_type": "markdown",
   "metadata": {},
   "source": [
    "Note that if you perform more than one measurement concurrently, they must all either perform the saving in the main thread on in the background. Mixing between foreground and background is not allowed."
   ]
  },
  {
   "cell_type": "markdown",
   "metadata": {},
   "source": [
    "## Conclusion\n",
    "\n",
    "For an example experiment saving 10 rows of 10,000 data points, out-of-thread data writing reduced the time spent in the main thread saving data by almost 70% and thus the overall measurement time by more than 35%."
   ]
  }
 ],
 "metadata": {
  "kernelspec": {
   "display_name": "Python 3",
   "language": "python",
   "name": "python3"
  },
  "language_info": {
   "codemirror_mode": {
    "name": "ipython",
    "version": 3
   },
   "file_extension": ".py",
   "mimetype": "text/x-python",
   "name": "python",
   "nbconvert_exporter": "python",
   "pygments_lexer": "ipython3",
   "version": "3.7.7"
  }
 },
 "nbformat": 4,
 "nbformat_minor": 2
}
