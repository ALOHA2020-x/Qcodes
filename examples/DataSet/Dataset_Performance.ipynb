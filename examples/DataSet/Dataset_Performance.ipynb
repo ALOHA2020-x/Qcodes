{
 "cells": [
  {
   "cell_type": "markdown",
   "metadata": {},
   "source": [
    "# DataSet Performance\n",
    "\n",
    "This notebook shows the trade-off between inserting data into a database row-by-row and as binary blobs. Inserting the data row-by-row means that we have direct access to all the data and may perform queries directly on the values of the data. On the other hand, as we shall see, this is much slower than inserting the data directly as binary blobs."
   ]
  },
  {
   "cell_type": "markdown",
   "metadata": {},
   "source": [
    "First, we choose a new location for the database to ensure that we don't add a bunch of benchmarking data to the default one."
   ]
  },
  {
   "cell_type": "code",
   "execution_count": 1,
   "metadata": {
    "execution": {
     "iopub.execute_input": "2021-04-19T07:34:02.821739Z",
     "iopub.status.busy": "2021-04-19T07:34:02.821159Z",
     "iopub.status.idle": "2021-04-19T07:34:03.854515Z",
     "shell.execute_reply": "2021-04-19T07:34:03.853309Z"
    }
   },
   "outputs": [
    {
     "name": "stdout",
     "output_type": "stream",
     "text": [
      "Logging hadn't been started.\n",
      "Activating auto-logging. Current session state plus future input saved.\n",
      "Filename       : /home/runner/.qcodes/logs/command_history.log\n",
      "Mode           : append\n",
      "Output logging : True\n",
      "Raw input log  : False\n",
      "Timestamping   : True\n",
      "State          : active\n"
     ]
    },
    {
     "name": "stdout",
     "output_type": "stream",
     "text": [
      "Qcodes Logfile : /home/runner/.qcodes/logs/210419-4445-qcodes.log\n"
     ]
    }
   ],
   "source": [
    "import os\n",
    "cwd = os.getcwd()\n",
    "import qcodes as qc\n",
    "qc.config[\"core\"][\"db_location\"] = os.path.join(cwd, 'testing.db')\n"
   ]
  },
  {
   "cell_type": "code",
   "execution_count": 2,
   "metadata": {
    "execution": {
     "iopub.execute_input": "2021-04-19T07:34:03.860848Z",
     "iopub.status.busy": "2021-04-19T07:34:03.859858Z",
     "iopub.status.idle": "2021-04-19T07:34:04.116298Z",
     "shell.execute_reply": "2021-04-19T07:34:04.115717Z"
    }
   },
   "outputs": [],
   "source": [
    "%matplotlib inline\n",
    "import time\n",
    "import matplotlib.pyplot as plt\n",
    "import numpy as np\n",
    "\n",
    "import qcodes as qc\n",
    "from qcodes.instrument.parameter import ManualParameter\n",
    "from qcodes.dataset.experiment_container import (Experiment,\n",
    "                                                 load_last_experiment,\n",
    "                                                 new_experiment)\n",
    "from qcodes.dataset.sqlite.database import initialise_database\n",
    "from qcodes import load_or_create_experiment\n",
    "from qcodes.dataset.measurements import Measurement"
   ]
  },
  {
   "cell_type": "code",
   "execution_count": 3,
   "metadata": {
    "execution": {
     "iopub.execute_input": "2021-04-19T07:34:04.120747Z",
     "iopub.status.busy": "2021-04-19T07:34:04.119875Z",
     "iopub.status.idle": "2021-04-19T07:34:04.200952Z",
     "shell.execute_reply": "2021-04-19T07:34:04.200128Z"
    }
   },
   "outputs": [
    {
     "name": "stdout",
     "output_type": "stream",
     "text": [
      "\r",
      "0it [00:00, ?it/s]"
     ]
    },
    {
     "name": "stdout",
     "output_type": "stream",
     "text": [
      "\r",
      "Upgrading database; v0 -> v1: : 0it [00:00, ?it/s]"
     ]
    },
    {
     "name": "stdout",
     "output_type": "stream",
     "text": [
      "\r",
      "Upgrading database; v0 -> v1: : 0it [00:00, ?it/s]"
     ]
    },
    {
     "name": "stdout",
     "output_type": "stream",
     "text": [
      "\n",
      "\r",
      "  0%|          | 0/1 [00:00<?, ?it/s]"
     ]
    },
    {
     "name": "stdout",
     "output_type": "stream",
     "text": [
      "\r",
      "Upgrading database; v1 -> v2:   0%|          | 0/1 [00:00<?, ?it/s]"
     ]
    },
    {
     "name": "stdout",
     "output_type": "stream",
     "text": [
      "\r",
      "Upgrading database; v1 -> v2: 100%|██████████| 1/1 [00:00<00:00, 542.88it/s]"
     ]
    },
    {
     "name": "stdout",
     "output_type": "stream",
     "text": [
      "\n",
      "\r",
      "0it [00:00, ?it/s]"
     ]
    },
    {
     "name": "stdout",
     "output_type": "stream",
     "text": [
      "\r",
      "Upgrading database; v2 -> v3: : 0it [00:00, ?it/s]"
     ]
    },
    {
     "name": "stdout",
     "output_type": "stream",
     "text": [
      "\r",
      "Upgrading database; v2 -> v3: : 0it [00:00, ?it/s]"
     ]
    },
    {
     "name": "stdout",
     "output_type": "stream",
     "text": [
      "\n",
      "\r",
      "0it [00:00, ?it/s]"
     ]
    },
    {
     "name": "stdout",
     "output_type": "stream",
     "text": [
      "\r",
      "Upgrading database; v3 -> v4: : 0it [00:00, ?it/s]"
     ]
    },
    {
     "name": "stdout",
     "output_type": "stream",
     "text": [
      "\r",
      "Upgrading database; v3 -> v4: : 0it [00:00, ?it/s]"
     ]
    },
    {
     "name": "stdout",
     "output_type": "stream",
     "text": [
      "\n",
      "\r",
      "  0%|          | 0/1 [00:00<?, ?it/s]"
     ]
    },
    {
     "name": "stdout",
     "output_type": "stream",
     "text": [
      "\r",
      "Upgrading database; v4 -> v5:   0%|          | 0/1 [00:00<?, ?it/s]"
     ]
    },
    {
     "name": "stdout",
     "output_type": "stream",
     "text": [
      "\r",
      "Upgrading database; v4 -> v5: 100%|██████████| 1/1 [00:00<00:00, 406.94it/s]"
     ]
    },
    {
     "name": "stdout",
     "output_type": "stream",
     "text": [
      "\n",
      "\r",
      "0it [00:00, ?it/s]"
     ]
    },
    {
     "name": "stdout",
     "output_type": "stream",
     "text": [
      "\r",
      "Upgrading database; v5 -> v6: : 0it [00:00, ?it/s]"
     ]
    },
    {
     "name": "stdout",
     "output_type": "stream",
     "text": [
      "\r",
      "Upgrading database; v5 -> v6: : 0it [00:00, ?it/s]"
     ]
    },
    {
     "name": "stdout",
     "output_type": "stream",
     "text": [
      "\n",
      "\r",
      "  0%|          | 0/1 [00:00<?, ?it/s]"
     ]
    },
    {
     "name": "stdout",
     "output_type": "stream",
     "text": [
      "\r",
      "Upgrading database; v6 -> v7:   0%|          | 0/1 [00:00<?, ?it/s]"
     ]
    },
    {
     "name": "stdout",
     "output_type": "stream",
     "text": [
      "\r",
      "Upgrading database; v6 -> v7: 100%|██████████| 1/1 [00:00<00:00, 277.20it/s]"
     ]
    },
    {
     "name": "stdout",
     "output_type": "stream",
     "text": [
      "\n",
      "\r",
      "  0%|          | 0/1 [00:00<?, ?it/s]"
     ]
    },
    {
     "name": "stdout",
     "output_type": "stream",
     "text": [
      "\r",
      "Upgrading database; v7 -> v8:   0%|          | 0/1 [00:00<?, ?it/s]"
     ]
    },
    {
     "name": "stdout",
     "output_type": "stream",
     "text": [
      "\r",
      "Upgrading database; v7 -> v8: 100%|██████████| 1/1 [00:00<00:00, 717.10it/s]"
     ]
    },
    {
     "name": "stdout",
     "output_type": "stream",
     "text": [
      "\n",
      "\r",
      "  0%|          | 0/1 [00:00<?, ?it/s]"
     ]
    },
    {
     "name": "stdout",
     "output_type": "stream",
     "text": [
      "\r",
      "Upgrading database; v8 -> v9:   0%|          | 0/1 [00:00<?, ?it/s]"
     ]
    },
    {
     "name": "stdout",
     "output_type": "stream",
     "text": [
      "\r",
      "Upgrading database; v8 -> v9: 100%|██████████| 1/1 [00:00<00:00, 1073.54it/s]"
     ]
    },
    {
     "name": "stdout",
     "output_type": "stream",
     "text": [
      "\n"
     ]
    }
   ],
   "source": [
    "initialise_database()\n",
    "exp = load_or_create_experiment(experiment_name='tutorial_exp', sample_name=\"no sample\")"
   ]
  },
  {
   "cell_type": "markdown",
   "metadata": {},
   "source": [
    "Here, we define a simple function to benchmark the time it takes to insert n points with either numeric or array data type.\n",
    "We will compare both the time used to call ``add_result`` and the time used for the full measurement."
   ]
  },
  {
   "cell_type": "code",
   "execution_count": 4,
   "metadata": {
    "execution": {
     "iopub.execute_input": "2021-04-19T07:34:04.208877Z",
     "iopub.status.busy": "2021-04-19T07:34:04.208277Z",
     "iopub.status.idle": "2021-04-19T07:34:04.212248Z",
     "shell.execute_reply": "2021-04-19T07:34:04.211732Z"
    }
   },
   "outputs": [],
   "source": [
    "def insert_data(paramtype, npoints, nreps=1):\n",
    "\n",
    "    meas = Measurement(exp=exp)\n",
    "\n",
    "    x1 = ManualParameter('x1')\n",
    "    x2 = ManualParameter('x2')\n",
    "    x3 = ManualParameter('x3')\n",
    "    y1 = ManualParameter('y1')\n",
    "    y2 = ManualParameter('y2')\n",
    "\n",
    "    meas.register_parameter(x1, paramtype=paramtype)\n",
    "    meas.register_parameter(x2, paramtype=paramtype)\n",
    "    meas.register_parameter(x3, paramtype=paramtype)\n",
    "    meas.register_parameter(y1, setpoints=[x1, x2, x3],\n",
    "                            paramtype=paramtype)\n",
    "    meas.register_parameter(y2, setpoints=[x1, x2, x3],\n",
    "                            paramtype=paramtype)\n",
    "    start = time.perf_counter()\n",
    "    with meas.run() as datasaver:\n",
    "        start_adding = time.perf_counter()\n",
    "        for i in range(nreps):\n",
    "            datasaver.add_result((x1, np.random.rand(npoints)),\n",
    "                                 (x2, np.random.rand(npoints)),\n",
    "                                 (x3, np.random.rand(npoints)),\n",
    "                                 (y1, np.random.rand(npoints)),\n",
    "                                 (y2, np.random.rand(npoints)))\n",
    "        stop_adding = time.perf_counter()\n",
    "        run_id = datasaver.run_id\n",
    "    stop = time.perf_counter()\n",
    "    tot_time = stop - start\n",
    "    add_time = stop_adding - start_adding\n",
    "    return tot_time, add_time, run_id"
   ]
  },
  {
   "cell_type": "markdown",
   "metadata": {},
   "source": [
    "## Comparison between numeric/array data and binary blob"
   ]
  },
  {
   "cell_type": "markdown",
   "metadata": {},
   "source": [
    "### Case1: Short experiment time"
   ]
  },
  {
   "cell_type": "code",
   "execution_count": 5,
   "metadata": {
    "execution": {
     "iopub.execute_input": "2021-04-19T07:34:04.218639Z",
     "iopub.status.busy": "2021-04-19T07:34:04.218087Z",
     "iopub.status.idle": "2021-04-19T07:34:05.089566Z",
     "shell.execute_reply": "2021-04-19T07:34:05.089055Z"
    }
   },
   "outputs": [
    {
     "name": "stdout",
     "output_type": "stream",
     "text": [
      "Starting experimental run with id: 1. \n",
      "Starting experimental run with id: 2. \n",
      "Starting experimental run with id: 3. \n",
      "Starting experimental run with id: 4. \n",
      "Starting experimental run with id: 5. \n"
     ]
    },
    {
     "name": "stdout",
     "output_type": "stream",
     "text": [
      "Starting experimental run with id: 6. \n"
     ]
    },
    {
     "name": "stdout",
     "output_type": "stream",
     "text": [
      "Starting experimental run with id: 7. \n"
     ]
    },
    {
     "name": "stdout",
     "output_type": "stream",
     "text": [
      "Starting experimental run with id: 8. \n",
      "Starting experimental run with id: 9. \n"
     ]
    },
    {
     "name": "stdout",
     "output_type": "stream",
     "text": [
      "Starting experimental run with id: 10. \n",
      "Starting experimental run with id: 11. \n"
     ]
    },
    {
     "name": "stdout",
     "output_type": "stream",
     "text": [
      "Starting experimental run with id: 12. \n",
      "Starting experimental run with id: 13. \n"
     ]
    },
    {
     "name": "stdout",
     "output_type": "stream",
     "text": [
      "Starting experimental run with id: 14. \n"
     ]
    }
   ],
   "source": [
    "sizes = [1,500,1000,2000,3000,4000,5000]\n",
    "t_numeric = []\n",
    "t_numeric_add = []\n",
    "t_array = []\n",
    "t_array_add = []\n",
    "for size in sizes:\n",
    "    tn, tna, run_id_n =  insert_data('numeric', size)\n",
    "    t_numeric.append(tn)\n",
    "    t_numeric_add.append(tna)\n",
    "\n",
    "    ta, taa, run_id_a =  insert_data('array', size)\n",
    "    t_array.append(ta)\n",
    "    t_array_add.append(taa)"
   ]
  },
  {
   "cell_type": "code",
   "execution_count": 6,
   "metadata": {
    "execution": {
     "iopub.execute_input": "2021-04-19T07:34:05.108411Z",
     "iopub.status.busy": "2021-04-19T07:34:05.095725Z",
     "iopub.status.idle": "2021-04-19T07:34:05.309740Z",
     "shell.execute_reply": "2021-04-19T07:34:05.309113Z"
    }
   },
   "outputs": [
    {
     "data": {
      "image/png": "[encoded data removed]",
      "text/plain": [
       "<Figure size 432x288 with 1 Axes>"
      ]
     },
     "metadata": {
      "needs_background": "light"
     },
     "output_type": "display_data"
    }
   ],
   "source": [
    "fig, ax = plt.subplots(1,1)\n",
    "ax.plot(sizes, t_numeric, 'o-', label='Inserting row-by-row')\n",
    "ax.plot(sizes, t_numeric_add, 'o-', label='Inserting row-by-row: add_result only')\n",
    "ax.plot(sizes, t_array, 'd-', label='Inserting as binary blob')\n",
    "ax.plot(sizes, t_array_add, 'd-', label='Inserting as binary blob: add_result only')\n",
    "ax.legend()\n",
    "ax.set_xlabel('Array length')\n",
    "ax.set_ylabel('Time (s)')\n",
    "fig.tight_layout()"
   ]
  },
  {
   "cell_type": "markdown",
   "metadata": {},
   "source": [
    "As shown in the latter figure, the time to setup and and close the experiment is approximately 0.4 sec. In case of small array sizes, the difference between inserting values of data as arrays and inserting them row-by-row is relatively unimportant. At larger array sizes, i.e. above 10000 points, the cost of writing data as individual datapoints starts to become important.\n"
   ]
  },
  {
   "cell_type": "markdown",
   "metadata": {},
   "source": [
    "### Case2: Long experiment time "
   ]
  },
  {
   "cell_type": "code",
   "execution_count": 7,
   "metadata": {
    "execution": {
     "iopub.execute_input": "2021-04-19T07:34:05.318116Z",
     "iopub.status.busy": "2021-04-19T07:34:05.317054Z",
     "iopub.status.idle": "2021-04-19T07:35:02.198540Z",
     "shell.execute_reply": "2021-04-19T07:35:02.199031Z"
    }
   },
   "outputs": [
    {
     "name": "stdout",
     "output_type": "stream",
     "text": [
      "Starting experimental run with id: 15. \n",
      "Starting experimental run with id: 16. \n",
      "Starting experimental run with id: 17. \n"
     ]
    },
    {
     "name": "stdout",
     "output_type": "stream",
     "text": [
      "Starting experimental run with id: 18. \n",
      "Starting experimental run with id: 19. \n"
     ]
    },
    {
     "name": "stdout",
     "output_type": "stream",
     "text": [
      "Starting experimental run with id: 20. \n"
     ]
    },
    {
     "name": "stdout",
     "output_type": "stream",
     "text": [
      "Starting experimental run with id: 21. \n"
     ]
    },
    {
     "name": "stdout",
     "output_type": "stream",
     "text": [
      "Starting experimental run with id: 22. \n"
     ]
    },
    {
     "name": "stdout",
     "output_type": "stream",
     "text": [
      "Starting experimental run with id: 23. \n"
     ]
    },
    {
     "name": "stdout",
     "output_type": "stream",
     "text": [
      "Starting experimental run with id: 24. \n"
     ]
    },
    {
     "name": "stdout",
     "output_type": "stream",
     "text": [
      "Starting experimental run with id: 25. \n"
     ]
    },
    {
     "name": "stdout",
     "output_type": "stream",
     "text": [
      "Starting experimental run with id: 26. \n"
     ]
    },
    {
     "name": "stdout",
     "output_type": "stream",
     "text": [
      "Starting experimental run with id: 27. \n"
     ]
    },
    {
     "name": "stdout",
     "output_type": "stream",
     "text": [
      "Starting experimental run with id: 28. \n"
     ]
    }
   ],
   "source": [
    "sizes = [1,500,1000,2000,3000,4000,5000]\n",
    "nreps = 100\n",
    "t_numeric = []\n",
    "t_numeric_add = []\n",
    "t_numeric_run_ids = []\n",
    "t_array = []\n",
    "t_array_add = []\n",
    "t_array_run_ids = []\n",
    "for size in sizes:\n",
    "    tn, tna, run_id_n =  insert_data('numeric', size, nreps=nreps)\n",
    "    t_numeric.append(tn)\n",
    "    t_numeric_add.append(tna)\n",
    "    t_numeric_run_ids.append(run_id_n)\n",
    "\n",
    "    ta, taa, run_id_a =  insert_data('array', size, nreps=nreps)\n",
    "    t_array.append(ta)\n",
    "    t_array_add.append(taa)\n",
    "    t_array_run_ids.append(run_id_a)"
   ]
  },
  {
   "cell_type": "code",
   "execution_count": 8,
   "metadata": {
    "execution": {
     "iopub.execute_input": "2021-04-19T07:35:02.232263Z",
     "iopub.status.busy": "2021-04-19T07:35:02.219680Z",
     "iopub.status.idle": "2021-04-19T07:35:02.391269Z",
     "shell.execute_reply": "2021-04-19T07:35:02.392560Z"
    },
    "scrolled": true
   },
   "outputs": [
    {
     "data": {
      "image/png": "[encoded data removed]",
      "text/plain": [
       "<Figure size 432x288 with 1 Axes>"
      ]
     },
     "metadata": {
      "needs_background": "light"
     },
     "output_type": "display_data"
    }
   ],
   "source": [
    "fig, ax = plt.subplots(1,1)\n",
    "ax.plot(sizes, t_numeric, 'o-', label='Inserting row-by-row')\n",
    "ax.plot(sizes, t_numeric_add, 'o-', label='Inserting row-by-row: add_result only')\n",
    "ax.plot(sizes, t_array, 'd-', label='Inserting as binary blob')\n",
    "ax.plot(sizes, t_array_add, 'd-', label='Inserting as binary blob: add_result only')\n",
    "ax.legend()\n",
    "ax.set_xlabel('Array length')\n",
    "ax.set_ylabel('Time (s)')\n",
    "fig.tight_layout()"
   ]
  },
  {
   "cell_type": "markdown",
   "metadata": {},
   "source": [
    "However, as we increase the length of the experiment, as seen here by repeating the insertion 100 times, we see a big difference between inserting values of the data row-by-row and inserting it as a binary blob."
   ]
  },
  {
   "cell_type": "markdown",
   "metadata": {},
   "source": [
    "## Loading the data "
   ]
  },
  {
   "cell_type": "code",
   "execution_count": 9,
   "metadata": {
    "execution": {
     "iopub.execute_input": "2021-04-19T07:35:02.395944Z",
     "iopub.status.busy": "2021-04-19T07:35:02.395352Z",
     "iopub.status.idle": "2021-04-19T07:35:02.399978Z",
     "shell.execute_reply": "2021-04-19T07:35:02.400424Z"
    }
   },
   "outputs": [],
   "source": [
    "from qcodes.dataset.data_set import load_by_id"
   ]
  },
  {
   "cell_type": "markdown",
   "metadata": {},
   "source": [
    "As usual you can load the data by using the ``load_by_id`` function but you will notice that the different storage methods\n",
    "are reflected in shape of the data as it is retrieved. "
   ]
  },
  {
   "cell_type": "code",
   "execution_count": 10,
   "metadata": {
    "execution": {
     "iopub.execute_input": "2021-04-19T07:35:02.403668Z",
     "iopub.status.busy": "2021-04-19T07:35:02.402998Z",
     "iopub.status.idle": "2021-04-19T07:35:02.407697Z",
     "shell.execute_reply": "2021-04-19T07:35:02.407188Z"
    }
   },
   "outputs": [],
   "source": [
    "run_id_n = t_numeric_run_ids[0]\n",
    "run_id_a = t_array_run_ids[0]"
   ]
  },
  {
   "cell_type": "code",
   "execution_count": 11,
   "metadata": {
    "execution": {
     "iopub.execute_input": "2021-04-19T07:35:02.411283Z",
     "iopub.status.busy": "2021-04-19T07:35:02.410698Z",
     "iopub.status.idle": "2021-04-19T07:35:02.420355Z",
     "shell.execute_reply": "2021-04-19T07:35:02.420803Z"
    },
    "scrolled": true
   },
   "outputs": [
    {
     "data": {
      "text/plain": [
       "{'x1': {'x1': array([5.89124751e-01, 5.89124751e-01, 5.40455263e-01, 5.40455263e-01,\n",
       "         5.76306703e-01, 5.76306703e-01, 7.17081164e-01, 7.17081164e-01,\n",
       "         8.42401796e-01, 8.42401796e-01, 4.27204088e-01, 4.27204088e-01,\n",
       "         1.26760115e-01, 1.26760115e-01, 1.24461123e-02, 1.24461123e-02,\n",
       "         9.09312153e-01, 9.09312153e-01, 1.01713491e-01, 1.01713491e-01,\n",
       "         4.95273696e-01, 4.95273696e-01, 5.28263684e-01, 5.28263684e-01,\n",
       "         1.91867694e-01, 1.91867694e-01, 9.39424020e-01, 9.39424020e-01,\n",
       "         6.28391292e-01, 6.28391292e-01, 2.29094273e-01, 2.29094273e-01,\n",
       "         5.07270714e-01, 5.07270714e-01, 4.29020981e-01, 4.29020981e-01,\n",
       "         3.51283899e-01, 3.51283899e-01, 8.51564900e-01, 8.51564900e-01,\n",
       "         6.70502310e-01, 6.70502310e-01, 6.42834674e-01, 6.42834674e-01,\n",
       "         4.53374563e-01, 4.53374563e-01, 4.67407570e-01, 4.67407570e-01,\n",
       "         6.54552924e-01, 6.54552924e-01, 2.80433078e-01, 2.80433078e-01,\n",
       "         6.24300831e-01, 6.24300831e-01, 5.50787073e-01, 5.50787073e-01,\n",
       "         1.93649660e-01, 1.93649660e-01, 3.22046553e-01, 3.22046553e-01,\n",
       "         5.81539570e-01, 5.81539570e-01, 1.42515353e-01, 1.42515353e-01,\n",
       "         1.56080658e-01, 1.56080658e-01, 6.95354173e-01, 6.95354173e-01,\n",
       "         6.08087078e-02, 6.08087078e-02, 7.64606886e-01, 7.64606886e-01,\n",
       "         1.83503964e-01, 1.83503964e-01, 3.49865809e-01, 3.49865809e-01,\n",
       "         8.04560584e-01, 8.04560584e-01, 7.64554276e-01, 7.64554276e-01,\n",
       "         8.25213949e-01, 8.25213949e-01, 4.28936241e-01, 4.28936241e-01,\n",
       "         4.12329600e-02, 4.12329600e-02, 4.40861076e-01, 4.40861076e-01,\n",
       "         8.20204942e-01, 8.20204942e-01, 8.63355521e-01, 8.63355521e-01,\n",
       "         6.13951663e-01, 6.13951663e-01, 2.19676371e-01, 2.19676371e-01,\n",
       "         8.13809318e-01, 8.13809318e-01, 8.50904993e-01, 8.50904993e-01,\n",
       "         7.46630229e-01, 7.46630229e-01, 7.74039107e-01, 7.74039107e-01,\n",
       "         9.48121829e-01, 9.48121829e-01, 9.27750427e-01, 9.27750427e-01,\n",
       "         9.63030176e-01, 9.63030176e-01, 9.89043670e-01, 9.89043670e-01,\n",
       "         8.17737183e-01, 8.17737183e-01, 4.52019205e-01, 4.52019205e-01,\n",
       "         6.98494254e-01, 6.98494254e-01, 8.68239247e-01, 8.68239247e-01,\n",
       "         2.40495037e-01, 2.40495037e-01, 7.51574666e-01, 7.51574666e-01,\n",
       "         7.25362227e-02, 7.25362227e-02, 3.97460723e-02, 3.97460723e-02,\n",
       "         6.29941352e-01, 6.29941352e-01, 7.19485610e-01, 7.19485610e-01,\n",
       "         6.40300300e-01, 6.40300300e-01, 8.01656856e-02, 8.01656856e-02,\n",
       "         6.07989475e-01, 6.07989475e-01, 2.88306377e-01, 2.88306377e-01,\n",
       "         2.12318518e-01, 2.12318518e-01, 3.60782364e-01, 3.60782364e-01,\n",
       "         2.69517761e-01, 2.69517761e-01, 1.36949829e-02, 1.36949829e-02,\n",
       "         2.76592075e-01, 2.76592075e-01, 3.08223324e-02, 3.08223324e-02,\n",
       "         5.92602631e-01, 5.92602631e-01, 7.22610647e-01, 7.22610647e-01,\n",
       "         3.40387744e-01, 3.40387744e-01, 8.22232838e-01, 8.22232838e-01,\n",
       "         6.92288431e-01, 6.92288431e-01, 8.61321884e-01, 8.61321884e-01,\n",
       "         1.54916906e-01, 1.54916906e-01, 9.88295522e-01, 9.88295522e-01,\n",
       "         7.91138270e-01, 7.91138270e-01, 6.95476520e-01, 6.95476520e-01,\n",
       "         1.30530980e-01, 1.30530980e-01, 2.93174174e-02, 2.93174174e-02,\n",
       "         1.28691388e-01, 1.28691388e-01, 3.43074051e-01, 3.43074051e-01,\n",
       "         7.14125239e-01, 7.14125239e-01, 7.18674768e-01, 7.18674768e-01,\n",
       "         8.03749055e-01, 8.03749055e-01, 3.44640328e-04, 3.44640328e-04,\n",
       "         8.54545828e-01, 8.54545828e-01, 8.54540976e-01, 8.54540976e-01,\n",
       "         3.17732445e-01, 3.17732445e-01, 8.19039744e-01, 8.19039744e-01,\n",
       "         4.13634331e-01, 4.13634331e-01, 9.50104170e-01, 9.50104170e-01])}}"
      ]
     },
     "execution_count": 1,
     "metadata": {},
     "output_type": "execute_result"
    }
   ],
   "source": [
    "ds = load_by_id(run_id_n)\n",
    "ds.get_parameter_data('x1')"
   ]
  },
  {
   "cell_type": "markdown",
   "metadata": {},
   "source": [
    "And a dataset stored as binary arrays"
   ]
  },
  {
   "cell_type": "code",
   "execution_count": 12,
   "metadata": {
    "execution": {
     "iopub.execute_input": "2021-04-19T07:35:02.424531Z",
     "iopub.status.busy": "2021-04-19T07:35:02.423895Z",
     "iopub.status.idle": "2021-04-19T07:35:02.481470Z",
     "shell.execute_reply": "2021-04-19T07:35:02.482206Z"
    },
    "scrolled": true
   },
   "outputs": [
    {
     "data": {
      "text/plain": [
       "{'x1': {'x1': array([[0.18157146],\n",
       "         [0.18157146],\n",
       "         [0.14962771],\n",
       "         [0.14962771],\n",
       "         [0.14173018],\n",
       "         [0.14173018],\n",
       "         [0.59423318],\n",
       "         [0.59423318],\n",
       "         [0.44470016],\n",
       "         [0.44470016],\n",
       "         [0.43111398],\n",
       "         [0.43111398],\n",
       "         [0.11534769],\n",
       "         [0.11534769],\n",
       "         [0.13496948],\n",
       "         [0.13496948],\n",
       "         [0.72132959],\n",
       "         [0.72132959],\n",
       "         [0.20516237],\n",
       "         [0.20516237],\n",
       "         [0.36905453],\n",
       "         [0.36905453],\n",
       "         [0.81614721],\n",
       "         [0.81614721],\n",
       "         [0.47097977],\n",
       "         [0.47097977],\n",
       "         [0.00283845],\n",
       "         [0.00283845],\n",
       "         [0.20222106],\n",
       "         [0.20222106],\n",
       "         [0.3871995 ],\n",
       "         [0.3871995 ],\n",
       "         [0.86467447],\n",
       "         [0.86467447],\n",
       "         [0.76622553],\n",
       "         [0.76622553],\n",
       "         [0.65655224],\n",
       "         [0.65655224],\n",
       "         [0.97716754],\n",
       "         [0.97716754],\n",
       "         [0.12565304],\n",
       "         [0.12565304],\n",
       "         [0.09396352],\n",
       "         [0.09396352],\n",
       "         [0.38936551],\n",
       "         [0.38936551],\n",
       "         [0.96092634],\n",
       "         [0.96092634],\n",
       "         [0.66781489],\n",
       "         [0.66781489],\n",
       "         [0.91186933],\n",
       "         [0.91186933],\n",
       "         [0.11572512],\n",
       "         [0.11572512],\n",
       "         [0.53708787],\n",
       "         [0.53708787],\n",
       "         [0.92735218],\n",
       "         [0.92735218],\n",
       "         [0.59855132],\n",
       "         [0.59855132],\n",
       "         [0.55158869],\n",
       "         [0.55158869],\n",
       "         [0.29298408],\n",
       "         [0.29298408],\n",
       "         [0.25936106],\n",
       "         [0.25936106],\n",
       "         [0.0685914 ],\n",
       "         [0.0685914 ],\n",
       "         [0.42096589],\n",
       "         [0.42096589],\n",
       "         [0.32372953],\n",
       "         [0.32372953],\n",
       "         [0.23653741],\n",
       "         [0.23653741],\n",
       "         [0.02162315],\n",
       "         [0.02162315],\n",
       "         [0.32767215],\n",
       "         [0.32767215],\n",
       "         [0.24470114],\n",
       "         [0.24470114],\n",
       "         [0.66368533],\n",
       "         [0.66368533],\n",
       "         [0.58154717],\n",
       "         [0.58154717],\n",
       "         [0.26843006],\n",
       "         [0.26843006],\n",
       "         [0.76508392],\n",
       "         [0.76508392],\n",
       "         [0.34458186],\n",
       "         [0.34458186],\n",
       "         [0.63919042],\n",
       "         [0.63919042],\n",
       "         [0.44461655],\n",
       "         [0.44461655],\n",
       "         [0.30829652],\n",
       "         [0.30829652],\n",
       "         [0.3340969 ],\n",
       "         [0.3340969 ],\n",
       "         [0.80473312],\n",
       "         [0.80473312],\n",
       "         [0.85209494],\n",
       "         [0.85209494],\n",
       "         [0.5732846 ],\n",
       "         [0.5732846 ],\n",
       "         [0.83685277],\n",
       "         [0.83685277],\n",
       "         [0.56677477],\n",
       "         [0.56677477],\n",
       "         [0.08010206],\n",
       "         [0.08010206],\n",
       "         [0.4036991 ],\n",
       "         [0.4036991 ],\n",
       "         [0.98891941],\n",
       "         [0.98891941],\n",
       "         [0.63539963],\n",
       "         [0.63539963],\n",
       "         [0.80751463],\n",
       "         [0.80751463],\n",
       "         [0.64007008],\n",
       "         [0.64007008],\n",
       "         [0.50020998],\n",
       "         [0.50020998],\n",
       "         [0.5318744 ],\n",
       "         [0.5318744 ],\n",
       "         [0.09417133],\n",
       "         [0.09417133],\n",
       "         [0.25109539],\n",
       "         [0.25109539],\n",
       "         [0.18157296],\n",
       "         [0.18157296],\n",
       "         [0.41757243],\n",
       "         [0.41757243],\n",
       "         [0.69116121],\n",
       "         [0.69116121],\n",
       "         [0.50621689],\n",
       "         [0.50621689],\n",
       "         [0.82756621],\n",
       "         [0.82756621],\n",
       "         [0.803147  ],\n",
       "         [0.803147  ],\n",
       "         [0.43099144],\n",
       "         [0.43099144],\n",
       "         [0.13454186],\n",
       "         [0.13454186],\n",
       "         [0.74427782],\n",
       "         [0.74427782],\n",
       "         [0.94962861],\n",
       "         [0.94962861],\n",
       "         [0.71981282],\n",
       "         [0.71981282],\n",
       "         [0.31837885],\n",
       "         [0.31837885],\n",
       "         [0.84341144],\n",
       "         [0.84341144],\n",
       "         [0.5814594 ],\n",
       "         [0.5814594 ],\n",
       "         [0.86353887],\n",
       "         [0.86353887],\n",
       "         [0.74771847],\n",
       "         [0.74771847],\n",
       "         [0.34403786],\n",
       "         [0.34403786],\n",
       "         [0.03296454],\n",
       "         [0.03296454],\n",
       "         [0.63163587],\n",
       "         [0.63163587],\n",
       "         [0.50361572],\n",
       "         [0.50361572],\n",
       "         [0.44140915],\n",
       "         [0.44140915],\n",
       "         [0.90802475],\n",
       "         [0.90802475],\n",
       "         [0.6136792 ],\n",
       "         [0.6136792 ],\n",
       "         [0.42181702],\n",
       "         [0.42181702],\n",
       "         [0.69659634],\n",
       "         [0.69659634],\n",
       "         [0.26424226],\n",
       "         [0.26424226],\n",
       "         [0.12551585],\n",
       "         [0.12551585],\n",
       "         [0.09285081],\n",
       "         [0.09285081],\n",
       "         [0.23996689],\n",
       "         [0.23996689],\n",
       "         [0.5652994 ],\n",
       "         [0.5652994 ],\n",
       "         [0.64877502],\n",
       "         [0.64877502],\n",
       "         [0.80402005],\n",
       "         [0.80402005],\n",
       "         [0.67871576],\n",
       "         [0.67871576],\n",
       "         [0.43531695],\n",
       "         [0.43531695],\n",
       "         [0.75519948],\n",
       "         [0.75519948],\n",
       "         [0.66310413],\n",
       "         [0.66310413]])}}"
      ]
     },
     "execution_count": 1,
     "metadata": {},
     "output_type": "execute_result"
    }
   ],
   "source": [
    "ds = load_by_id(run_id_a)\n",
    "ds.get_parameter_data('x1')"
   ]
  },
  {
   "cell_type": "code",
   "execution_count": null,
   "metadata": {},
   "outputs": [],
   "source": []
  }
 ],
 "metadata": {
  "kernelspec": {
   "display_name": "Python 3",
   "language": "python",
   "name": "python3"
  },
  "language_info": {
   "codemirror_mode": {
    "name": "ipython",
    "version": 3
   },
   "file_extension": ".py",
   "mimetype": "text/x-python",
   "name": "python",
   "nbconvert_exporter": "python",
   "pygments_lexer": "ipython3",
   "version": "3.7.10"
  },
  "nbsphinx": {
   "timeout": 600
  },
  "toc": {
   "base_numbering": 1,
   "nav_menu": {},
   "number_sections": true,
   "sideBar": true,
   "skip_h1_title": false,
   "title_cell": "Table of Contents",
   "title_sidebar": "Contents",
   "toc_cell": false,
   "toc_position": {},
   "toc_section_display": true,
   "toc_window_display": false
  },
  "varInspector": {
   "cols": {
    "lenName": 16,
    "lenType": 16,
    "lenVar": 40
   },
   "kernels_config": {
    "python": {
     "delete_cmd_postfix": "",
     "delete_cmd_prefix": "del ",
     "library": "var_list.py",
     "varRefreshCmd": "print(var_dic_list())"
    },
    "r": {
     "delete_cmd_postfix": ") ",
     "delete_cmd_prefix": "rm(",
     "library": "var_list.r",
     "varRefreshCmd": "cat(var_dic_list()) "
    }
   },
   "types_to_exclude": [
    "module",
    "function",
    "builtin_function_or_method",
    "instance",
    "_Feature"
   ],
   "window_display": false
  }
 },
 "nbformat": 4,
 "nbformat_minor": 4
}
