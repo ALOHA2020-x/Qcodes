{
 "cells": [
  {
   "cell_type": "markdown",
   "metadata": {},
   "source": [
    "# DataSet Performance\n",
    "\n",
    "This notebook shows the trade-off between inserting data into a database row-by-row and as binary blobs. Inserting the data row-by-row means that we have direct access to all the data and may perform queries directly on the values of the data. On the other hand, as we shall see, this is much slower than inserting the data directly as binary blobs."
   ]
  },
  {
   "cell_type": "markdown",
   "metadata": {},
   "source": [
    "First, we choose a new location for the database to ensure that we don't add a bunch of benchmarking data to the default one."
   ]
  },
  {
   "cell_type": "code",
   "execution_count": 1,
   "metadata": {
    "execution": {
     "iopub.execute_input": "2021-05-03T07:00:27.804418Z",
     "iopub.status.busy": "2021-05-03T07:00:27.803502Z",
     "iopub.status.idle": "2021-05-03T07:00:28.936861Z",
     "shell.execute_reply": "2021-05-03T07:00:28.936256Z"
    }
   },
   "outputs": [
    {
     "name": "stdout",
     "output_type": "stream",
     "text": [
      "Logging hadn't been started.\n",
      "Activating auto-logging. Current session state plus future input saved.\n",
      "Filename       : /home/runner/.qcodes/logs/command_history.log\n",
      "Mode           : append\n",
      "Output logging : True\n",
      "Raw input log  : False\n",
      "Timestamping   : True\n",
      "State          : active\n"
     ]
    },
    {
     "name": "stdout",
     "output_type": "stream",
     "text": [
      "Qcodes Logfile : /home/runner/.qcodes/logs/210503-4405-qcodes.log\n"
     ]
    }
   ],
   "source": [
    "import os\n",
    "cwd = os.getcwd()\n",
    "import qcodes as qc\n",
    "qc.config[\"core\"][\"db_location\"] = os.path.join(cwd, 'testing.db')\n"
   ]
  },
  {
   "cell_type": "code",
   "execution_count": 2,
   "metadata": {
    "execution": {
     "iopub.execute_input": "2021-05-03T07:00:28.943147Z",
     "iopub.status.busy": "2021-05-03T07:00:28.942578Z",
     "iopub.status.idle": "2021-05-03T07:00:29.134745Z",
     "shell.execute_reply": "2021-05-03T07:00:29.134232Z"
    }
   },
   "outputs": [],
   "source": [
    "%matplotlib inline\n",
    "import time\n",
    "import matplotlib.pyplot as plt\n",
    "import numpy as np\n",
    "\n",
    "import qcodes as qc\n",
    "from qcodes.instrument.parameter import ManualParameter\n",
    "from qcodes.dataset.experiment_container import (Experiment,\n",
    "                                                 load_last_experiment,\n",
    "                                                 new_experiment)\n",
    "from qcodes.dataset.sqlite.database import initialise_database\n",
    "from qcodes import load_or_create_experiment\n",
    "from qcodes.dataset.measurements import Measurement"
   ]
  },
  {
   "cell_type": "code",
   "execution_count": 3,
   "metadata": {
    "execution": {
     "iopub.execute_input": "2021-05-03T07:00:29.139612Z",
     "iopub.status.busy": "2021-05-03T07:00:29.138821Z",
     "iopub.status.idle": "2021-05-03T07:00:29.262127Z",
     "shell.execute_reply": "2021-05-03T07:00:29.262591Z"
    }
   },
   "outputs": [
    {
     "name": "stdout",
     "output_type": "stream",
     "text": [
      "\r",
      "0it [00:00, ?it/s]"
     ]
    },
    {
     "name": "stdout",
     "output_type": "stream",
     "text": [
      "\r",
      "Upgrading database; v0 -> v1: : 0it [00:00, ?it/s]"
     ]
    },
    {
     "name": "stdout",
     "output_type": "stream",
     "text": [
      "\r",
      "Upgrading database; v0 -> v1: : 0it [00:00, ?it/s]"
     ]
    },
    {
     "name": "stdout",
     "output_type": "stream",
     "text": [
      "\n",
      "\r",
      "  0%|          | 0/1 [00:00<?, ?it/s]"
     ]
    },
    {
     "name": "stdout",
     "output_type": "stream",
     "text": [
      "\r",
      "Upgrading database; v1 -> v2:   0%|          | 0/1 [00:00<?, ?it/s]"
     ]
    },
    {
     "name": "stdout",
     "output_type": "stream",
     "text": [
      "\r",
      "Upgrading database; v1 -> v2: 100%|██████████| 1/1 [00:00<00:00, 682.67it/s]"
     ]
    },
    {
     "name": "stdout",
     "output_type": "stream",
     "text": [
      "\n",
      "\r",
      "0it [00:00, ?it/s]"
     ]
    },
    {
     "name": "stdout",
     "output_type": "stream",
     "text": [
      "\r",
      "Upgrading database; v2 -> v3: : 0it [00:00, ?it/s]"
     ]
    },
    {
     "name": "stdout",
     "output_type": "stream",
     "text": [
      "\r",
      "Upgrading database; v2 -> v3: : 0it [00:00, ?it/s]"
     ]
    },
    {
     "name": "stdout",
     "output_type": "stream",
     "text": [
      "\n",
      "\r",
      "0it [00:00, ?it/s]"
     ]
    },
    {
     "name": "stdout",
     "output_type": "stream",
     "text": [
      "\r",
      "Upgrading database; v3 -> v4: : 0it [00:00, ?it/s]"
     ]
    },
    {
     "name": "stdout",
     "output_type": "stream",
     "text": [
      "\r",
      "Upgrading database; v3 -> v4: : 0it [00:00, ?it/s]"
     ]
    },
    {
     "name": "stdout",
     "output_type": "stream",
     "text": [
      "\n",
      "\r",
      "  0%|          | 0/1 [00:00<?, ?it/s]"
     ]
    },
    {
     "name": "stdout",
     "output_type": "stream",
     "text": [
      "\r",
      "Upgrading database; v4 -> v5:   0%|          | 0/1 [00:00<?, ?it/s]"
     ]
    },
    {
     "name": "stdout",
     "output_type": "stream",
     "text": [
      "\r",
      "Upgrading database; v4 -> v5: 100%|██████████| 1/1 [00:00<00:00, 326.89it/s]"
     ]
    },
    {
     "name": "stdout",
     "output_type": "stream",
     "text": [
      "\n",
      "\r",
      "0it [00:00, ?it/s]"
     ]
    },
    {
     "name": "stdout",
     "output_type": "stream",
     "text": [
      "\r",
      "Upgrading database; v5 -> v6: : 0it [00:00, ?it/s]"
     ]
    },
    {
     "name": "stdout",
     "output_type": "stream",
     "text": [
      "\r",
      "Upgrading database; v5 -> v6: : 0it [00:00, ?it/s]"
     ]
    },
    {
     "name": "stdout",
     "output_type": "stream",
     "text": [
      "\n",
      "\r",
      "  0%|          | 0/1 [00:00<?, ?it/s]"
     ]
    },
    {
     "name": "stdout",
     "output_type": "stream",
     "text": [
      "\r",
      "Upgrading database; v6 -> v7:   0%|          | 0/1 [00:00<?, ?it/s]"
     ]
    },
    {
     "name": "stdout",
     "output_type": "stream",
     "text": [
      "\r",
      "Upgrading database; v6 -> v7: 100%|██████████| 1/1 [00:00<00:00, 327.07it/s]"
     ]
    },
    {
     "name": "stdout",
     "output_type": "stream",
     "text": [
      "\n",
      "\r",
      "  0%|          | 0/1 [00:00<?, ?it/s]"
     ]
    },
    {
     "name": "stdout",
     "output_type": "stream",
     "text": [
      "\r",
      "Upgrading database; v7 -> v8:   0%|          | 0/1 [00:00<?, ?it/s]"
     ]
    },
    {
     "name": "stdout",
     "output_type": "stream",
     "text": [
      "\r",
      "Upgrading database; v7 -> v8: 100%|██████████| 1/1 [00:00<00:00, 379.92it/s]"
     ]
    },
    {
     "name": "stdout",
     "output_type": "stream",
     "text": [
      "\n",
      "\r",
      "  0%|          | 0/1 [00:00<?, ?it/s]"
     ]
    },
    {
     "name": "stdout",
     "output_type": "stream",
     "text": [
      "\r",
      "Upgrading database; v8 -> v9:   0%|          | 0/1 [00:00<?, ?it/s]"
     ]
    },
    {
     "name": "stdout",
     "output_type": "stream",
     "text": [
      "\r",
      "Upgrading database; v8 -> v9: 100%|██████████| 1/1 [00:00<00:00, 633.58it/s]"
     ]
    },
    {
     "name": "stdout",
     "output_type": "stream",
     "text": [
      "\n"
     ]
    }
   ],
   "source": [
    "initialise_database()\n",
    "exp = load_or_create_experiment(experiment_name='tutorial_exp', sample_name=\"no sample\")"
   ]
  },
  {
   "cell_type": "markdown",
   "metadata": {},
   "source": [
    "Here, we define a simple function to benchmark the time it takes to insert n points with either numeric or array data type.\n",
    "We will compare both the time used to call ``add_result`` and the time used for the full measurement."
   ]
  },
  {
   "cell_type": "code",
   "execution_count": 4,
   "metadata": {
    "execution": {
     "iopub.execute_input": "2021-05-03T07:00:29.272435Z",
     "iopub.status.busy": "2021-05-03T07:00:29.271152Z",
     "iopub.status.idle": "2021-05-03T07:00:29.273057Z",
     "shell.execute_reply": "2021-05-03T07:00:29.273532Z"
    }
   },
   "outputs": [],
   "source": [
    "def insert_data(paramtype, npoints, nreps=1):\n",
    "\n",
    "    meas = Measurement(exp=exp)\n",
    "\n",
    "    x1 = ManualParameter('x1')\n",
    "    x2 = ManualParameter('x2')\n",
    "    x3 = ManualParameter('x3')\n",
    "    y1 = ManualParameter('y1')\n",
    "    y2 = ManualParameter('y2')\n",
    "\n",
    "    meas.register_parameter(x1, paramtype=paramtype)\n",
    "    meas.register_parameter(x2, paramtype=paramtype)\n",
    "    meas.register_parameter(x3, paramtype=paramtype)\n",
    "    meas.register_parameter(y1, setpoints=[x1, x2, x3],\n",
    "                            paramtype=paramtype)\n",
    "    meas.register_parameter(y2, setpoints=[x1, x2, x3],\n",
    "                            paramtype=paramtype)\n",
    "    start = time.perf_counter()\n",
    "    with meas.run() as datasaver:\n",
    "        start_adding = time.perf_counter()\n",
    "        for i in range(nreps):\n",
    "            datasaver.add_result((x1, np.random.rand(npoints)),\n",
    "                                 (x2, np.random.rand(npoints)),\n",
    "                                 (x3, np.random.rand(npoints)),\n",
    "                                 (y1, np.random.rand(npoints)),\n",
    "                                 (y2, np.random.rand(npoints)))\n",
    "        stop_adding = time.perf_counter()\n",
    "        run_id = datasaver.run_id\n",
    "    stop = time.perf_counter()\n",
    "    tot_time = stop - start\n",
    "    add_time = stop_adding - start_adding\n",
    "    return tot_time, add_time, run_id"
   ]
  },
  {
   "cell_type": "markdown",
   "metadata": {},
   "source": [
    "## Comparison between numeric/array data and binary blob"
   ]
  },
  {
   "cell_type": "markdown",
   "metadata": {},
   "source": [
    "### Case1: Short experiment time"
   ]
  },
  {
   "cell_type": "code",
   "execution_count": 5,
   "metadata": {
    "execution": {
     "iopub.execute_input": "2021-05-03T07:00:29.279429Z",
     "iopub.status.busy": "2021-05-03T07:00:29.278596Z",
     "iopub.status.idle": "2021-05-03T07:00:29.990379Z",
     "shell.execute_reply": "2021-05-03T07:00:29.990925Z"
    }
   },
   "outputs": [
    {
     "name": "stdout",
     "output_type": "stream",
     "text": [
      "Starting experimental run with id: 1. \n",
      "Starting experimental run with id: 2. \n",
      "Starting experimental run with id: 3. \n",
      "Starting experimental run with id: 4. \n",
      "Starting experimental run with id: 5. \n"
     ]
    },
    {
     "name": "stdout",
     "output_type": "stream",
     "text": [
      "Starting experimental run with id: 6. \n"
     ]
    },
    {
     "name": "stdout",
     "output_type": "stream",
     "text": [
      "Starting experimental run with id: 7. \n"
     ]
    },
    {
     "name": "stdout",
     "output_type": "stream",
     "text": [
      "Starting experimental run with id: 8. \n",
      "Starting experimental run with id: 9. \n"
     ]
    },
    {
     "name": "stdout",
     "output_type": "stream",
     "text": [
      "Starting experimental run with id: 10. \n"
     ]
    },
    {
     "name": "stdout",
     "output_type": "stream",
     "text": [
      "Starting experimental run with id: 11. \n"
     ]
    },
    {
     "name": "stdout",
     "output_type": "stream",
     "text": [
      "Starting experimental run with id: 12. \n",
      "Starting experimental run with id: 13. \n"
     ]
    },
    {
     "name": "stdout",
     "output_type": "stream",
     "text": [
      "Starting experimental run with id: 14. \n"
     ]
    }
   ],
   "source": [
    "sizes = [1,500,1000,2000,3000,4000,5000]\n",
    "t_numeric = []\n",
    "t_numeric_add = []\n",
    "t_array = []\n",
    "t_array_add = []\n",
    "for size in sizes:\n",
    "    tn, tna, run_id_n =  insert_data('numeric', size)\n",
    "    t_numeric.append(tn)\n",
    "    t_numeric_add.append(tna)\n",
    "\n",
    "    ta, taa, run_id_a =  insert_data('array', size)\n",
    "    t_array.append(ta)\n",
    "    t_array_add.append(taa)"
   ]
  },
  {
   "cell_type": "code",
   "execution_count": 6,
   "metadata": {
    "execution": {
     "iopub.execute_input": "2021-05-03T07:00:30.045726Z",
     "iopub.status.busy": "2021-05-03T07:00:30.013735Z",
     "iopub.status.idle": "2021-05-03T07:00:30.224550Z",
     "shell.execute_reply": "2021-05-03T07:00:30.224988Z"
    }
   },
   "outputs": [
    {
     "data": {
      "image/png": "[encoded data removed]",
      "text/plain": [
       "<Figure size 432x288 with 1 Axes>"
      ]
     },
     "metadata": {
      "needs_background": "light"
     },
     "output_type": "display_data"
    }
   ],
   "source": [
    "fig, ax = plt.subplots(1,1)\n",
    "ax.plot(sizes, t_numeric, 'o-', label='Inserting row-by-row')\n",
    "ax.plot(sizes, t_numeric_add, 'o-', label='Inserting row-by-row: add_result only')\n",
    "ax.plot(sizes, t_array, 'd-', label='Inserting as binary blob')\n",
    "ax.plot(sizes, t_array_add, 'd-', label='Inserting as binary blob: add_result only')\n",
    "ax.legend()\n",
    "ax.set_xlabel('Array length')\n",
    "ax.set_ylabel('Time (s)')\n",
    "fig.tight_layout()"
   ]
  },
  {
   "cell_type": "markdown",
   "metadata": {},
   "source": [
    "As shown in the latter figure, the time to setup and and close the experiment is approximately 0.4 sec. In case of small array sizes, the difference between inserting values of data as arrays and inserting them row-by-row is relatively unimportant. At larger array sizes, i.e. above 10000 points, the cost of writing data as individual datapoints starts to become important.\n"
   ]
  },
  {
   "cell_type": "markdown",
   "metadata": {},
   "source": [
    "### Case2: Long experiment time "
   ]
  },
  {
   "cell_type": "code",
   "execution_count": 7,
   "metadata": {
    "execution": {
     "iopub.execute_input": "2021-05-03T07:00:30.231975Z",
     "iopub.status.busy": "2021-05-03T07:00:30.230957Z",
     "iopub.status.idle": "2021-05-03T07:01:23.171179Z",
     "shell.execute_reply": "2021-05-03T07:01:23.170653Z"
    }
   },
   "outputs": [
    {
     "name": "stdout",
     "output_type": "stream",
     "text": [
      "Starting experimental run with id: 15. \n",
      "Starting experimental run with id: 16. \n",
      "Starting experimental run with id: 17. \n"
     ]
    },
    {
     "name": "stdout",
     "output_type": "stream",
     "text": [
      "Starting experimental run with id: 18. \n",
      "Starting experimental run with id: 19. \n"
     ]
    },
    {
     "name": "stdout",
     "output_type": "stream",
     "text": [
      "Starting experimental run with id: 20. \n"
     ]
    },
    {
     "name": "stdout",
     "output_type": "stream",
     "text": [
      "Starting experimental run with id: 21. \n"
     ]
    },
    {
     "name": "stdout",
     "output_type": "stream",
     "text": [
      "Starting experimental run with id: 22. \n"
     ]
    },
    {
     "name": "stdout",
     "output_type": "stream",
     "text": [
      "Starting experimental run with id: 23. \n"
     ]
    },
    {
     "name": "stdout",
     "output_type": "stream",
     "text": [
      "Starting experimental run with id: 24. \n"
     ]
    },
    {
     "name": "stdout",
     "output_type": "stream",
     "text": [
      "Starting experimental run with id: 25. \n"
     ]
    },
    {
     "name": "stdout",
     "output_type": "stream",
     "text": [
      "Starting experimental run with id: 26. \n"
     ]
    },
    {
     "name": "stdout",
     "output_type": "stream",
     "text": [
      "Starting experimental run with id: 27. \n"
     ]
    },
    {
     "name": "stdout",
     "output_type": "stream",
     "text": [
      "Starting experimental run with id: 28. \n"
     ]
    }
   ],
   "source": [
    "sizes = [1,500,1000,2000,3000,4000,5000]\n",
    "nreps = 100\n",
    "t_numeric = []\n",
    "t_numeric_add = []\n",
    "t_numeric_run_ids = []\n",
    "t_array = []\n",
    "t_array_add = []\n",
    "t_array_run_ids = []\n",
    "for size in sizes:\n",
    "    tn, tna, run_id_n =  insert_data('numeric', size, nreps=nreps)\n",
    "    t_numeric.append(tn)\n",
    "    t_numeric_add.append(tna)\n",
    "    t_numeric_run_ids.append(run_id_n)\n",
    "\n",
    "    ta, taa, run_id_a =  insert_data('array', size, nreps=nreps)\n",
    "    t_array.append(ta)\n",
    "    t_array_add.append(taa)\n",
    "    t_array_run_ids.append(run_id_a)"
   ]
  },
  {
   "cell_type": "code",
   "execution_count": 8,
   "metadata": {
    "execution": {
     "iopub.execute_input": "2021-05-03T07:01:23.218305Z",
     "iopub.status.busy": "2021-05-03T07:01:23.217289Z",
     "iopub.status.idle": "2021-05-03T07:01:23.380037Z",
     "shell.execute_reply": "2021-05-03T07:01:23.379482Z"
    },
    "scrolled": true
   },
   "outputs": [
    {
     "data": {
      "image/png": "[encoded data removed]",
      "text/plain": [
       "<Figure size 432x288 with 1 Axes>"
      ]
     },
     "metadata": {
      "needs_background": "light"
     },
     "output_type": "display_data"
    }
   ],
   "source": [
    "fig, ax = plt.subplots(1,1)\n",
    "ax.plot(sizes, t_numeric, 'o-', label='Inserting row-by-row')\n",
    "ax.plot(sizes, t_numeric_add, 'o-', label='Inserting row-by-row: add_result only')\n",
    "ax.plot(sizes, t_array, 'd-', label='Inserting as binary blob')\n",
    "ax.plot(sizes, t_array_add, 'd-', label='Inserting as binary blob: add_result only')\n",
    "ax.legend()\n",
    "ax.set_xlabel('Array length')\n",
    "ax.set_ylabel('Time (s)')\n",
    "fig.tight_layout()"
   ]
  },
  {
   "cell_type": "markdown",
   "metadata": {},
   "source": [
    "However, as we increase the length of the experiment, as seen here by repeating the insertion 100 times, we see a big difference between inserting values of the data row-by-row and inserting it as a binary blob."
   ]
  },
  {
   "cell_type": "markdown",
   "metadata": {},
   "source": [
    "## Loading the data "
   ]
  },
  {
   "cell_type": "code",
   "execution_count": 9,
   "metadata": {
    "execution": {
     "iopub.execute_input": "2021-05-03T07:01:23.386003Z",
     "iopub.status.busy": "2021-05-03T07:01:23.385338Z",
     "iopub.status.idle": "2021-05-03T07:01:23.390020Z",
     "shell.execute_reply": "2021-05-03T07:01:23.389365Z"
    }
   },
   "outputs": [],
   "source": [
    "from qcodes.dataset.data_set import load_by_id"
   ]
  },
  {
   "cell_type": "markdown",
   "metadata": {},
   "source": [
    "As usual you can load the data by using the ``load_by_id`` function but you will notice that the different storage methods\n",
    "are reflected in shape of the data as it is retrieved. "
   ]
  },
  {
   "cell_type": "code",
   "execution_count": 10,
   "metadata": {
    "execution": {
     "iopub.execute_input": "2021-05-03T07:01:23.394987Z",
     "iopub.status.busy": "2021-05-03T07:01:23.393742Z",
     "iopub.status.idle": "2021-05-03T07:01:23.395690Z",
     "shell.execute_reply": "2021-05-03T07:01:23.396232Z"
    }
   },
   "outputs": [],
   "source": [
    "run_id_n = t_numeric_run_ids[0]\n",
    "run_id_a = t_array_run_ids[0]"
   ]
  },
  {
   "cell_type": "code",
   "execution_count": 11,
   "metadata": {
    "execution": {
     "iopub.execute_input": "2021-05-03T07:01:23.401411Z",
     "iopub.status.busy": "2021-05-03T07:01:23.400846Z",
     "iopub.status.idle": "2021-05-03T07:01:23.410307Z",
     "shell.execute_reply": "2021-05-03T07:01:23.410840Z"
    },
    "scrolled": true
   },
   "outputs": [
    {
     "data": {
      "text/plain": [
       "{'x1': {'x1': array([0.74546378, 0.74546378, 0.31877183, 0.31877183, 0.55557775,\n",
       "         0.55557775, 0.62976054, 0.62976054, 0.0949576 , 0.0949576 ,\n",
       "         0.36427137, 0.36427137, 0.18998263, 0.18998263, 0.99253704,\n",
       "         0.99253704, 0.37114908, 0.37114908, 0.60720794, 0.60720794,\n",
       "         0.03303716, 0.03303716, 0.98589902, 0.98589902, 0.14620051,\n",
       "         0.14620051, 0.62013033, 0.62013033, 0.86560731, 0.86560731,\n",
       "         0.77676792, 0.77676792, 0.19430216, 0.19430216, 0.24485106,\n",
       "         0.24485106, 0.3170458 , 0.3170458 , 0.61215668, 0.61215668,\n",
       "         0.33681736, 0.33681736, 0.50229741, 0.50229741, 0.38621457,\n",
       "         0.38621457, 0.6517662 , 0.6517662 , 0.14866037, 0.14866037,\n",
       "         0.11857748, 0.11857748, 0.30632372, 0.30632372, 0.53098812,\n",
       "         0.53098812, 0.80086793, 0.80086793, 0.25752981, 0.25752981,\n",
       "         0.69881557, 0.69881557, 0.01722447, 0.01722447, 0.5571762 ,\n",
       "         0.5571762 , 0.92939728, 0.92939728, 0.48419316, 0.48419316,\n",
       "         0.12764383, 0.12764383, 0.14794439, 0.14794439, 0.46050713,\n",
       "         0.46050713, 0.14517073, 0.14517073, 0.83216064, 0.83216064,\n",
       "         0.75948993, 0.75948993, 0.69564441, 0.69564441, 0.00538578,\n",
       "         0.00538578, 0.57345927, 0.57345927, 0.75980082, 0.75980082,\n",
       "         0.29169137, 0.29169137, 0.6663309 , 0.6663309 , 0.71301003,\n",
       "         0.71301003, 0.01614189, 0.01614189, 0.63185971, 0.63185971,\n",
       "         0.43061401, 0.43061401, 0.0838194 , 0.0838194 , 0.25967799,\n",
       "         0.25967799, 0.03008562, 0.03008562, 0.54854984, 0.54854984,\n",
       "         0.57836423, 0.57836423, 0.91538152, 0.91538152, 0.5905758 ,\n",
       "         0.5905758 , 0.26255241, 0.26255241, 0.57773635, 0.57773635,\n",
       "         0.28661655, 0.28661655, 0.77579406, 0.77579406, 0.41280933,\n",
       "         0.41280933, 0.14385055, 0.14385055, 0.3086432 , 0.3086432 ,\n",
       "         0.46632612, 0.46632612, 0.06704576, 0.06704576, 0.15001819,\n",
       "         0.15001819, 0.97924124, 0.97924124, 0.79666127, 0.79666127,\n",
       "         0.30116305, 0.30116305, 0.99988256, 0.99988256, 0.73989723,\n",
       "         0.73989723, 0.86888684, 0.86888684, 0.7984262 , 0.7984262 ,\n",
       "         0.13206272, 0.13206272, 0.97710951, 0.97710951, 0.8694785 ,\n",
       "         0.8694785 , 0.54781567, 0.54781567, 0.2227225 , 0.2227225 ,\n",
       "         0.27427751, 0.27427751, 0.34925927, 0.34925927, 0.36295555,\n",
       "         0.36295555, 0.32318413, 0.32318413, 0.09953902, 0.09953902,\n",
       "         0.76407353, 0.76407353, 0.29861887, 0.29861887, 0.38748284,\n",
       "         0.38748284, 0.16488277, 0.16488277, 0.82287109, 0.82287109,\n",
       "         0.06337417, 0.06337417, 0.15936766, 0.15936766, 0.34220738,\n",
       "         0.34220738, 0.29635164, 0.29635164, 0.9376177 , 0.9376177 ,\n",
       "         0.77671801, 0.77671801, 0.21132508, 0.21132508, 0.87837103,\n",
       "         0.87837103, 0.0908769 , 0.0908769 , 0.94317893, 0.94317893])}}"
      ]
     },
     "execution_count": 1,
     "metadata": {},
     "output_type": "execute_result"
    }
   ],
   "source": [
    "ds = load_by_id(run_id_n)\n",
    "ds.get_parameter_data('x1')"
   ]
  },
  {
   "cell_type": "markdown",
   "metadata": {},
   "source": [
    "And a dataset stored as binary arrays"
   ]
  },
  {
   "cell_type": "code",
   "execution_count": 12,
   "metadata": {
    "execution": {
     "iopub.execute_input": "2021-05-03T07:01:23.415169Z",
     "iopub.status.busy": "2021-05-03T07:01:23.414508Z",
     "iopub.status.idle": "2021-05-03T07:01:23.477257Z",
     "shell.execute_reply": "2021-05-03T07:01:23.476772Z"
    },
    "scrolled": true
   },
   "outputs": [
    {
     "data": {
      "text/plain": [
       "{'x1': {'x1': array([[0.7649085 ],\n",
       "         [0.7649085 ],\n",
       "         [0.07152966],\n",
       "         [0.07152966],\n",
       "         [0.04437112],\n",
       "         [0.04437112],\n",
       "         [0.06891114],\n",
       "         [0.06891114],\n",
       "         [0.85098392],\n",
       "         [0.85098392],\n",
       "         [0.16991716],\n",
       "         [0.16991716],\n",
       "         [0.9579369 ],\n",
       "         [0.9579369 ],\n",
       "         [0.41194103],\n",
       "         [0.41194103],\n",
       "         [0.85750279],\n",
       "         [0.85750279],\n",
       "         [0.42669602],\n",
       "         [0.42669602],\n",
       "         [0.33594775],\n",
       "         [0.33594775],\n",
       "         [0.80121541],\n",
       "         [0.80121541],\n",
       "         [0.61038131],\n",
       "         [0.61038131],\n",
       "         [0.70451307],\n",
       "         [0.70451307],\n",
       "         [0.30031883],\n",
       "         [0.30031883],\n",
       "         [0.05842806],\n",
       "         [0.05842806],\n",
       "         [0.10861747],\n",
       "         [0.10861747],\n",
       "         [0.9545052 ],\n",
       "         [0.9545052 ],\n",
       "         [0.09123329],\n",
       "         [0.09123329],\n",
       "         [0.69896624],\n",
       "         [0.69896624],\n",
       "         [0.40531538],\n",
       "         [0.40531538],\n",
       "         [0.87497807],\n",
       "         [0.87497807],\n",
       "         [0.3103058 ],\n",
       "         [0.3103058 ],\n",
       "         [0.6901108 ],\n",
       "         [0.6901108 ],\n",
       "         [0.35493324],\n",
       "         [0.35493324],\n",
       "         [0.68085494],\n",
       "         [0.68085494],\n",
       "         [0.46304055],\n",
       "         [0.46304055],\n",
       "         [0.84471116],\n",
       "         [0.84471116],\n",
       "         [0.61752106],\n",
       "         [0.61752106],\n",
       "         [0.08237057],\n",
       "         [0.08237057],\n",
       "         [0.23033679],\n",
       "         [0.23033679],\n",
       "         [0.13927875],\n",
       "         [0.13927875],\n",
       "         [0.67743599],\n",
       "         [0.67743599],\n",
       "         [0.22986721],\n",
       "         [0.22986721],\n",
       "         [0.12327414],\n",
       "         [0.12327414],\n",
       "         [0.17682484],\n",
       "         [0.17682484],\n",
       "         [0.96564932],\n",
       "         [0.96564932],\n",
       "         [0.66979161],\n",
       "         [0.66979161],\n",
       "         [0.07472921],\n",
       "         [0.07472921],\n",
       "         [0.91778902],\n",
       "         [0.91778902],\n",
       "         [0.30342969],\n",
       "         [0.30342969],\n",
       "         [0.97574644],\n",
       "         [0.97574644],\n",
       "         [0.62244826],\n",
       "         [0.62244826],\n",
       "         [0.38154384],\n",
       "         [0.38154384],\n",
       "         [0.97965988],\n",
       "         [0.97965988],\n",
       "         [0.05769991],\n",
       "         [0.05769991],\n",
       "         [0.9264117 ],\n",
       "         [0.9264117 ],\n",
       "         [0.20975359],\n",
       "         [0.20975359],\n",
       "         [0.84439789],\n",
       "         [0.84439789],\n",
       "         [0.84443416],\n",
       "         [0.84443416],\n",
       "         [0.59251554],\n",
       "         [0.59251554],\n",
       "         [0.049542  ],\n",
       "         [0.049542  ],\n",
       "         [0.56606895],\n",
       "         [0.56606895],\n",
       "         [0.97254466],\n",
       "         [0.97254466],\n",
       "         [0.90893859],\n",
       "         [0.90893859],\n",
       "         [0.61866646],\n",
       "         [0.61866646],\n",
       "         [0.71364382],\n",
       "         [0.71364382],\n",
       "         [0.88625301],\n",
       "         [0.88625301],\n",
       "         [0.68897013],\n",
       "         [0.68897013],\n",
       "         [0.93716174],\n",
       "         [0.93716174],\n",
       "         [0.93810844],\n",
       "         [0.93810844],\n",
       "         [0.23137653],\n",
       "         [0.23137653],\n",
       "         [0.42320437],\n",
       "         [0.42320437],\n",
       "         [0.9945939 ],\n",
       "         [0.9945939 ],\n",
       "         [0.14615063],\n",
       "         [0.14615063],\n",
       "         [0.37644249],\n",
       "         [0.37644249],\n",
       "         [0.79697855],\n",
       "         [0.79697855],\n",
       "         [0.36437307],\n",
       "         [0.36437307],\n",
       "         [0.15137655],\n",
       "         [0.15137655],\n",
       "         [0.99388739],\n",
       "         [0.99388739],\n",
       "         [0.81926697],\n",
       "         [0.81926697],\n",
       "         [0.18715666],\n",
       "         [0.18715666],\n",
       "         [0.93947516],\n",
       "         [0.93947516],\n",
       "         [0.87238334],\n",
       "         [0.87238334],\n",
       "         [0.87858154],\n",
       "         [0.87858154],\n",
       "         [0.00536014],\n",
       "         [0.00536014],\n",
       "         [0.10898389],\n",
       "         [0.10898389],\n",
       "         [0.70379312],\n",
       "         [0.70379312],\n",
       "         [0.90247165],\n",
       "         [0.90247165],\n",
       "         [0.23158133],\n",
       "         [0.23158133],\n",
       "         [0.9108058 ],\n",
       "         [0.9108058 ],\n",
       "         [0.40152261],\n",
       "         [0.40152261],\n",
       "         [0.0993188 ],\n",
       "         [0.0993188 ],\n",
       "         [0.2061358 ],\n",
       "         [0.2061358 ],\n",
       "         [0.34395496],\n",
       "         [0.34395496],\n",
       "         [0.80343545],\n",
       "         [0.80343545],\n",
       "         [0.80258857],\n",
       "         [0.80258857],\n",
       "         [0.47795055],\n",
       "         [0.47795055],\n",
       "         [0.89505952],\n",
       "         [0.89505952],\n",
       "         [0.46418215],\n",
       "         [0.46418215],\n",
       "         [0.27043133],\n",
       "         [0.27043133],\n",
       "         [0.18987728],\n",
       "         [0.18987728],\n",
       "         [0.54172797],\n",
       "         [0.54172797],\n",
       "         [0.66448827],\n",
       "         [0.66448827],\n",
       "         [0.18565213],\n",
       "         [0.18565213],\n",
       "         [0.83306756],\n",
       "         [0.83306756],\n",
       "         [0.85232069],\n",
       "         [0.85232069],\n",
       "         [0.20687796],\n",
       "         [0.20687796],\n",
       "         [0.87974443],\n",
       "         [0.87974443],\n",
       "         [0.26038201],\n",
       "         [0.26038201]])}}"
      ]
     },
     "execution_count": 1,
     "metadata": {},
     "output_type": "execute_result"
    }
   ],
   "source": [
    "ds = load_by_id(run_id_a)\n",
    "ds.get_parameter_data('x1')"
   ]
  },
  {
   "cell_type": "code",
   "execution_count": null,
   "metadata": {},
   "outputs": [],
   "source": []
  }
 ],
 "metadata": {
  "kernelspec": {
   "display_name": "Python 3",
   "language": "python",
   "name": "python3"
  },
  "language_info": {
   "codemirror_mode": {
    "name": "ipython",
    "version": 3
   },
   "file_extension": ".py",
   "mimetype": "text/x-python",
   "name": "python",
   "nbconvert_exporter": "python",
   "pygments_lexer": "ipython3",
   "version": "3.7.10"
  },
  "nbsphinx": {
   "timeout": 600
  },
  "toc": {
   "base_numbering": 1,
   "nav_menu": {},
   "number_sections": true,
   "sideBar": true,
   "skip_h1_title": false,
   "title_cell": "Table of Contents",
   "title_sidebar": "Contents",
   "toc_cell": false,
   "toc_position": {},
   "toc_section_display": true,
   "toc_window_display": false
  },
  "varInspector": {
   "cols": {
    "lenName": 16,
    "lenType": 16,
    "lenVar": 40
   },
   "kernels_config": {
    "python": {
     "delete_cmd_postfix": "",
     "delete_cmd_prefix": "del ",
     "library": "var_list.py",
     "varRefreshCmd": "print(var_dic_list())"
    },
    "r": {
     "delete_cmd_postfix": ") ",
     "delete_cmd_prefix": "rm(",
     "library": "var_list.r",
     "varRefreshCmd": "cat(var_dic_list()) "
    }
   },
   "types_to_exclude": [
    "module",
    "function",
    "builtin_function_or_method",
    "instance",
    "_Feature"
   ],
   "window_display": false
  }
 },
 "nbformat": 4,
 "nbformat_minor": 4
}
