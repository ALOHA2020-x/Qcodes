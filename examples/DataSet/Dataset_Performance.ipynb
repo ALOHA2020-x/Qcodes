{
 "cells": [
  {
   "cell_type": "markdown",
   "metadata": {},
   "source": [
    "# DataSet Performance\n",
    "\n",
    "This notebook shows the trade-off between inserting data into a database row-by-row and as binary blobs. Inserting the data row-by-row means that we have direct access to all the data and may perform queries directly on the values of the data. On the other hand, as we shall see, this is much slower than inserting the data directly as binary blobs."
   ]
  },
  {
   "cell_type": "markdown",
   "metadata": {},
   "source": [
    "First, we choose a new location for the database to ensure that we don't add a bunch of benchmarking data to the default one."
   ]
  },
  {
   "cell_type": "code",
   "execution_count": 1,
   "metadata": {
    "execution": {
     "iopub.execute_input": "2020-11-02T05:01:33.925717Z",
     "iopub.status.busy": "2020-11-02T05:01:33.924852Z",
     "iopub.status.idle": "2020-11-02T05:01:34.913803Z",
     "shell.execute_reply": "2020-11-02T05:01:34.914236Z"
    }
   },
   "outputs": [
    {
     "name": "stdout",
     "output_type": "stream",
     "text": [
      "Logging hadn't been started.\n",
      "Activating auto-logging. Current session state plus future input saved.\n",
      "Filename       : /home/vsts/.qcodes/logs/command_history.log\n",
      "Mode           : append\n",
      "Output logging : True\n",
      "Raw input log  : False\n",
      "Timestamping   : True\n",
      "State          : active\n"
     ]
    },
    {
     "name": "stdout",
     "output_type": "stream",
     "text": [
      "Qcodes Logfile : /home/vsts/.qcodes/logs/201102-14765-qcodes.log\n"
     ]
    }
   ],
   "source": [
    "import os\n",
    "cwd = os.getcwd()\n",
    "import qcodes as qc\n",
    "qc.config[\"core\"][\"db_location\"] = os.path.join(cwd, 'testing.db')\n"
   ]
  },
  {
   "cell_type": "code",
   "execution_count": 2,
   "metadata": {
    "execution": {
     "iopub.execute_input": "2020-11-02T05:01:34.921031Z",
     "iopub.status.busy": "2020-11-02T05:01:34.919408Z",
     "iopub.status.idle": "2020-11-02T05:01:35.091040Z",
     "shell.execute_reply": "2020-11-02T05:01:35.090180Z"
    }
   },
   "outputs": [],
   "source": [
    "%matplotlib inline\n",
    "import time\n",
    "import matplotlib.pyplot as plt\n",
    "import numpy as np\n",
    "\n",
    "import qcodes as qc\n",
    "from qcodes.instrument.parameter import ManualParameter\n",
    "from qcodes.dataset.experiment_container import (Experiment,\n",
    "                                                 load_last_experiment,\n",
    "                                                 new_experiment)\n",
    "from qcodes.dataset.sqlite.database import initialise_database\n",
    "from qcodes import load_or_create_experiment\n",
    "from qcodes.dataset.measurements import Measurement"
   ]
  },
  {
   "cell_type": "code",
   "execution_count": 3,
   "metadata": {
    "execution": {
     "iopub.execute_input": "2020-11-02T05:01:35.095182Z",
     "iopub.status.busy": "2020-11-02T05:01:35.094599Z",
     "iopub.status.idle": "2020-11-02T05:01:35.197829Z",
     "shell.execute_reply": "2020-11-02T05:01:35.197297Z"
    }
   },
   "outputs": [
    {
     "name": "stdout",
     "output_type": "stream",
     "text": [
      "\r",
      "0it [00:00, ?it/s]"
     ]
    },
    {
     "name": "stdout",
     "output_type": "stream",
     "text": [
      "\r",
      "Upgrading database; v0 -> v1: : 0it [00:00, ?it/s]"
     ]
    },
    {
     "name": "stdout",
     "output_type": "stream",
     "text": [
      "\r",
      "Upgrading database; v0 -> v1: : 0it [00:00, ?it/s]"
     ]
    },
    {
     "name": "stdout",
     "output_type": "stream",
     "text": [
      "\n",
      "\r",
      "  0%|          | 0/1 [00:00<?, ?it/s]"
     ]
    },
    {
     "name": "stdout",
     "output_type": "stream",
     "text": [
      "\r",
      "Upgrading database; v1 -> v2:   0%|          | 0/1 [00:00<?, ?it/s]"
     ]
    },
    {
     "name": "stdout",
     "output_type": "stream",
     "text": [
      "\r",
      "Upgrading database; v1 -> v2: 100%|██████████| 1/1 [00:00<00:00, 1232.89it/s]"
     ]
    },
    {
     "name": "stdout",
     "output_type": "stream",
     "text": [
      "\n",
      "\r",
      "0it [00:00, ?it/s]"
     ]
    },
    {
     "name": "stdout",
     "output_type": "stream",
     "text": [
      "\r",
      "Upgrading database; v2 -> v3: : 0it [00:00, ?it/s]"
     ]
    },
    {
     "name": "stdout",
     "output_type": "stream",
     "text": [
      "\r",
      "Upgrading database; v2 -> v3: : 0it [00:00, ?it/s]"
     ]
    },
    {
     "name": "stdout",
     "output_type": "stream",
     "text": [
      "\n",
      "\r",
      "0it [00:00, ?it/s]"
     ]
    },
    {
     "name": "stdout",
     "output_type": "stream",
     "text": [
      "\r",
      "Upgrading database; v3 -> v4: : 0it [00:00, ?it/s]"
     ]
    },
    {
     "name": "stdout",
     "output_type": "stream",
     "text": [
      "\r",
      "Upgrading database; v3 -> v4: : 0it [00:00, ?it/s]"
     ]
    },
    {
     "name": "stdout",
     "output_type": "stream",
     "text": [
      "\n",
      "\r",
      "  0%|          | 0/1 [00:00<?, ?it/s]"
     ]
    },
    {
     "name": "stdout",
     "output_type": "stream",
     "text": [
      "\r",
      "Upgrading database; v4 -> v5:   0%|          | 0/1 [00:00<?, ?it/s]"
     ]
    },
    {
     "name": "stdout",
     "output_type": "stream",
     "text": [
      "\r",
      "Upgrading database; v4 -> v5: 100%|██████████| 1/1 [00:00<00:00, 532.00it/s]"
     ]
    },
    {
     "name": "stdout",
     "output_type": "stream",
     "text": [
      "\n",
      "\r",
      "0it [00:00, ?it/s]"
     ]
    },
    {
     "name": "stdout",
     "output_type": "stream",
     "text": [
      "\r",
      "Upgrading database; v5 -> v6: : 0it [00:00, ?it/s]"
     ]
    },
    {
     "name": "stdout",
     "output_type": "stream",
     "text": [
      "\r",
      "Upgrading database; v5 -> v6: : 0it [00:00, ?it/s]"
     ]
    },
    {
     "name": "stdout",
     "output_type": "stream",
     "text": [
      "\n",
      "\r",
      "  0%|          | 0/1 [00:00<?, ?it/s]"
     ]
    },
    {
     "name": "stdout",
     "output_type": "stream",
     "text": [
      "\r",
      "Upgrading database; v6 -> v7:   0%|          | 0/1 [00:00<?, ?it/s]"
     ]
    },
    {
     "name": "stdout",
     "output_type": "stream",
     "text": [
      "\r",
      "Upgrading database; v6 -> v7: 100%|██████████| 1/1 [00:00<00:00, 244.41it/s]"
     ]
    },
    {
     "name": "stdout",
     "output_type": "stream",
     "text": [
      "\n",
      "\r",
      "  0%|          | 0/1 [00:00<?, ?it/s]"
     ]
    },
    {
     "name": "stdout",
     "output_type": "stream",
     "text": [
      "\r",
      "Upgrading database; v7 -> v8:   0%|          | 0/1 [00:00<?, ?it/s]"
     ]
    },
    {
     "name": "stdout",
     "output_type": "stream",
     "text": [
      "\r",
      "Upgrading database; v7 -> v8: 100%|██████████| 1/1 [00:00<00:00, 383.74it/s]"
     ]
    },
    {
     "name": "stdout",
     "output_type": "stream",
     "text": [
      "\n",
      "\r",
      "  0%|          | 0/1 [00:00<?, ?it/s]"
     ]
    },
    {
     "name": "stdout",
     "output_type": "stream",
     "text": [
      "\r",
      "Upgrading database; v8 -> v9:   0%|          | 0/1 [00:00<?, ?it/s]"
     ]
    },
    {
     "name": "stdout",
     "output_type": "stream",
     "text": [
      "\r",
      "Upgrading database; v8 -> v9: 100%|██████████| 1/1 [00:00<00:00, 770.73it/s]"
     ]
    },
    {
     "name": "stdout",
     "output_type": "stream",
     "text": [
      "\n"
     ]
    }
   ],
   "source": [
    "initialise_database()\n",
    "exp = load_or_create_experiment(experiment_name='tutorial_exp', sample_name=\"no sample\")"
   ]
  },
  {
   "cell_type": "markdown",
   "metadata": {},
   "source": [
    "Here, we define a simple function to benchmark the time it takes to insert n points with either numeric or array data type.\n",
    "We will compare both the time used to call ``add_result`` and the time used for the full measurement."
   ]
  },
  {
   "cell_type": "code",
   "execution_count": 4,
   "metadata": {
    "execution": {
     "iopub.execute_input": "2020-11-02T05:01:35.207720Z",
     "iopub.status.busy": "2020-11-02T05:01:35.206125Z",
     "iopub.status.idle": "2020-11-02T05:01:35.208490Z",
     "shell.execute_reply": "2020-11-02T05:01:35.209113Z"
    }
   },
   "outputs": [],
   "source": [
    "def insert_data(paramtype, npoints, nreps=1):\n",
    "\n",
    "    meas = Measurement(exp=exp)\n",
    "\n",
    "    x1 = ManualParameter('x1')\n",
    "    x2 = ManualParameter('x2')\n",
    "    x3 = ManualParameter('x3')\n",
    "    y1 = ManualParameter('y1')\n",
    "    y2 = ManualParameter('y2')\n",
    "\n",
    "    meas.register_parameter(x1, paramtype=paramtype)\n",
    "    meas.register_parameter(x2, paramtype=paramtype)\n",
    "    meas.register_parameter(x3, paramtype=paramtype)\n",
    "    meas.register_parameter(y1, setpoints=[x1, x2, x3],\n",
    "                            paramtype=paramtype)\n",
    "    meas.register_parameter(y2, setpoints=[x1, x2, x3],\n",
    "                            paramtype=paramtype)\n",
    "    start = time.perf_counter()\n",
    "    with meas.run() as datasaver:\n",
    "        start_adding = time.perf_counter()\n",
    "        for i in range(nreps):\n",
    "            datasaver.add_result((x1, np.random.rand(npoints)),\n",
    "                                 (x2, np.random.rand(npoints)),\n",
    "                                 (x3, np.random.rand(npoints)),\n",
    "                                 (y1, np.random.rand(npoints)),\n",
    "                                 (y2, np.random.rand(npoints)))\n",
    "        stop_adding = time.perf_counter()\n",
    "        run_id = datasaver.run_id\n",
    "    stop = time.perf_counter()\n",
    "    tot_time = stop - start\n",
    "    add_time = stop_adding - start_adding\n",
    "    return tot_time, add_time, run_id"
   ]
  },
  {
   "cell_type": "markdown",
   "metadata": {},
   "source": [
    "## Comparison between numeric/array data and binary blob"
   ]
  },
  {
   "cell_type": "markdown",
   "metadata": {},
   "source": [
    "### Case1: Short experiment time"
   ]
  },
  {
   "cell_type": "code",
   "execution_count": 5,
   "metadata": {
    "execution": {
     "iopub.execute_input": "2020-11-02T05:01:35.218731Z",
     "iopub.status.busy": "2020-11-02T05:01:35.218055Z",
     "iopub.status.idle": "2020-11-02T05:01:35.956306Z",
     "shell.execute_reply": "2020-11-02T05:01:35.956790Z"
    }
   },
   "outputs": [
    {
     "name": "stdout",
     "output_type": "stream",
     "text": [
      "Starting experimental run with id: 1. \n",
      "Starting experimental run with id: 2. \n",
      "Starting experimental run with id: 3. \n",
      "Starting experimental run with id: 4. \n",
      "Starting experimental run with id: 5. \n"
     ]
    },
    {
     "name": "stdout",
     "output_type": "stream",
     "text": [
      "Starting experimental run with id: 6. \n"
     ]
    },
    {
     "name": "stdout",
     "output_type": "stream",
     "text": [
      "Starting experimental run with id: 7. \n"
     ]
    },
    {
     "name": "stdout",
     "output_type": "stream",
     "text": [
      "Starting experimental run with id: 8. \n",
      "Starting experimental run with id: 9. \n"
     ]
    },
    {
     "name": "stdout",
     "output_type": "stream",
     "text": [
      "Starting experimental run with id: 10. \n",
      "Starting experimental run with id: 11. \n"
     ]
    },
    {
     "name": "stdout",
     "output_type": "stream",
     "text": [
      "Starting experimental run with id: 12. \n",
      "Starting experimental run with id: 13. \n"
     ]
    },
    {
     "name": "stdout",
     "output_type": "stream",
     "text": [
      "Starting experimental run with id: 14. \n"
     ]
    }
   ],
   "source": [
    "sizes = [1,500,1000,2000,3000,4000,5000]\n",
    "t_numeric = []\n",
    "t_numeric_add = []\n",
    "t_array = []\n",
    "t_array_add = []\n",
    "for size in sizes:\n",
    "    tn, tna, run_id_n =  insert_data('numeric', size)\n",
    "    t_numeric.append(tn)\n",
    "    t_numeric_add.append(tna)\n",
    "\n",
    "    ta, taa, run_id_a =  insert_data('array', size)\n",
    "    t_array.append(ta)\n",
    "    t_array_add.append(taa)"
   ]
  },
  {
   "cell_type": "code",
   "execution_count": 6,
   "metadata": {
    "execution": {
     "iopub.execute_input": "2020-11-02T05:01:35.973964Z",
     "iopub.status.busy": "2020-11-02T05:01:35.973418Z",
     "iopub.status.idle": "2020-11-02T05:01:36.198574Z",
     "shell.execute_reply": "2020-11-02T05:01:36.199217Z"
    }
   },
   "outputs": [
    {
     "data": {
      "image/png": "[encoded data removed]",
      "text/plain": [
       "<Figure size 432x288 with 1 Axes>"
      ]
     },
     "metadata": {
      "needs_background": "light"
     },
     "output_type": "display_data"
    }
   ],
   "source": [
    "fig, ax = plt.subplots(1,1)\n",
    "ax.plot(sizes, t_numeric, 'o-', label='Inserting row-by-row')\n",
    "ax.plot(sizes, t_numeric_add, 'o-', label='Inserting row-by-row: add_result only')\n",
    "ax.plot(sizes, t_array, 'd-', label='Inserting as binary blob')\n",
    "ax.plot(sizes, t_array_add, 'd-', label='Inserting as binary blob: add_result only')\n",
    "ax.legend()\n",
    "ax.set_xlabel('Array length')\n",
    "ax.set_ylabel('Time (s)')\n",
    "fig.tight_layout()"
   ]
  },
  {
   "cell_type": "markdown",
   "metadata": {},
   "source": [
    "As shown in the latter figure, the time to setup and and close the experiment is approximately 0.4 sec. In case of small array sizes, the difference between inserting values of data as arrays and inserting them row-by-row is relatively unimportant. At larger array sizes, i.e. above 10000 points, the cost of writing data as individual datapoints starts to become important.\n"
   ]
  },
  {
   "cell_type": "markdown",
   "metadata": {},
   "source": [
    "### Case2: Long experiment time "
   ]
  },
  {
   "cell_type": "code",
   "execution_count": 7,
   "metadata": {
    "execution": {
     "iopub.execute_input": "2020-11-02T05:01:36.206445Z",
     "iopub.status.busy": "2020-11-02T05:01:36.205425Z",
     "iopub.status.idle": "2020-11-02T05:02:30.911909Z",
     "shell.execute_reply": "2020-11-02T05:02:30.911420Z"
    }
   },
   "outputs": [
    {
     "name": "stdout",
     "output_type": "stream",
     "text": [
      "Starting experimental run with id: 15. \n",
      "Starting experimental run with id: 16. \n",
      "Starting experimental run with id: 17. \n"
     ]
    },
    {
     "name": "stdout",
     "output_type": "stream",
     "text": [
      "Starting experimental run with id: 18. \n",
      "Starting experimental run with id: 19. \n"
     ]
    },
    {
     "name": "stdout",
     "output_type": "stream",
     "text": [
      "Starting experimental run with id: 20. \n"
     ]
    },
    {
     "name": "stdout",
     "output_type": "stream",
     "text": [
      "Starting experimental run with id: 21. \n"
     ]
    },
    {
     "name": "stdout",
     "output_type": "stream",
     "text": [
      "Starting experimental run with id: 22. \n"
     ]
    },
    {
     "name": "stdout",
     "output_type": "stream",
     "text": [
      "Starting experimental run with id: 23. \n"
     ]
    },
    {
     "name": "stdout",
     "output_type": "stream",
     "text": [
      "Starting experimental run with id: 24. \n"
     ]
    },
    {
     "name": "stdout",
     "output_type": "stream",
     "text": [
      "Starting experimental run with id: 25. \n"
     ]
    },
    {
     "name": "stdout",
     "output_type": "stream",
     "text": [
      "Starting experimental run with id: 26. \n"
     ]
    },
    {
     "name": "stdout",
     "output_type": "stream",
     "text": [
      "Starting experimental run with id: 27. \n"
     ]
    },
    {
     "name": "stdout",
     "output_type": "stream",
     "text": [
      "Starting experimental run with id: 28. \n"
     ]
    }
   ],
   "source": [
    "sizes = [1,500,1000,2000,3000,4000,5000]\n",
    "nreps = 100\n",
    "t_numeric = []\n",
    "t_numeric_add = []\n",
    "t_numeric_run_ids = []\n",
    "t_array = []\n",
    "t_array_add = []\n",
    "t_array_run_ids = []\n",
    "for size in sizes:\n",
    "    tn, tna, run_id_n =  insert_data('numeric', size, nreps=nreps)\n",
    "    t_numeric.append(tn)\n",
    "    t_numeric_add.append(tna)\n",
    "    t_numeric_run_ids.append(run_id_n)\n",
    "\n",
    "    ta, taa, run_id_a =  insert_data('array', size, nreps=nreps)\n",
    "    t_array.append(ta)\n",
    "    t_array_add.append(taa)\n",
    "    t_array_run_ids.append(run_id_a)"
   ]
  },
  {
   "cell_type": "code",
   "execution_count": 8,
   "metadata": {
    "execution": {
     "iopub.execute_input": "2020-11-02T05:02:30.933771Z",
     "iopub.status.busy": "2020-11-02T05:02:30.929273Z",
     "iopub.status.idle": "2020-11-02T05:02:31.156524Z",
     "shell.execute_reply": "2020-11-02T05:02:31.157042Z"
    },
    "scrolled": true
   },
   "outputs": [
    {
     "data": {
      "image/png": "[encoded data removed]",
      "text/plain": [
       "<Figure size 432x288 with 1 Axes>"
      ]
     },
     "metadata": {
      "needs_background": "light"
     },
     "output_type": "display_data"
    }
   ],
   "source": [
    "fig, ax = plt.subplots(1,1)\n",
    "ax.plot(sizes, t_numeric, 'o-', label='Inserting row-by-row')\n",
    "ax.plot(sizes, t_numeric_add, 'o-', label='Inserting row-by-row: add_result only')\n",
    "ax.plot(sizes, t_array, 'd-', label='Inserting as binary blob')\n",
    "ax.plot(sizes, t_array_add, 'd-', label='Inserting as binary blob: add_result only')\n",
    "ax.legend()\n",
    "ax.set_xlabel('Array length')\n",
    "ax.set_ylabel('Time (s)')\n",
    "fig.tight_layout()"
   ]
  },
  {
   "cell_type": "markdown",
   "metadata": {},
   "source": [
    "However, as we increase the length of the experiment, as seen here by repeating the insertion 100 times, we see a big difference between inserting values of the data row-by-row and inserting it as a binary blob."
   ]
  },
  {
   "cell_type": "markdown",
   "metadata": {},
   "source": [
    "## Loading the data "
   ]
  },
  {
   "cell_type": "code",
   "execution_count": 9,
   "metadata": {
    "execution": {
     "iopub.execute_input": "2020-11-02T05:02:31.161535Z",
     "iopub.status.busy": "2020-11-02T05:02:31.160888Z",
     "iopub.status.idle": "2020-11-02T05:02:31.163799Z",
     "shell.execute_reply": "2020-11-02T05:02:31.163296Z"
    }
   },
   "outputs": [],
   "source": [
    "from qcodes.dataset.data_set import load_by_id\n",
    "from qcodes.dataset.data_export import get_data_by_id"
   ]
  },
  {
   "cell_type": "markdown",
   "metadata": {},
   "source": [
    "As usual you can load the data by using the ``load_by_id`` function but you will notice that the different storage methods\n",
    "are reflected in shape of the data as it is retrieved. "
   ]
  },
  {
   "cell_type": "code",
   "execution_count": 10,
   "metadata": {
    "execution": {
     "iopub.execute_input": "2020-11-02T05:02:31.168662Z",
     "iopub.status.busy": "2020-11-02T05:02:31.167411Z",
     "iopub.status.idle": "2020-11-02T05:02:31.169448Z",
     "shell.execute_reply": "2020-11-02T05:02:31.170050Z"
    }
   },
   "outputs": [],
   "source": [
    "run_id_n = t_numeric_run_ids[0]\n",
    "run_id_a = t_array_run_ids[0]"
   ]
  },
  {
   "cell_type": "code",
   "execution_count": 11,
   "metadata": {
    "execution": {
     "iopub.execute_input": "2020-11-02T05:02:31.173817Z",
     "iopub.status.busy": "2020-11-02T05:02:31.173256Z",
     "iopub.status.idle": "2020-11-02T05:02:31.182368Z",
     "shell.execute_reply": "2020-11-02T05:02:31.182966Z"
    },
    "scrolled": true
   },
   "outputs": [
    {
     "data": {
      "text/plain": [
       "{'x1': {'x1': array([0.19677311, 0.19677311, 0.36677628, 0.36677628, 0.82360502,\n",
       "         0.82360502, 0.32039751, 0.32039751, 0.87614862, 0.87614862,\n",
       "         0.70945452, 0.70945452, 0.40360081, 0.40360081, 0.21651013,\n",
       "         0.21651013, 0.54085844, 0.54085844, 0.00130486, 0.00130486,\n",
       "         0.61923387, 0.61923387, 0.46917173, 0.46917173, 0.61059881,\n",
       "         0.61059881, 0.94344639, 0.94344639, 0.34914122, 0.34914122,\n",
       "         0.93505106, 0.93505106, 0.29836617, 0.29836617, 0.51830693,\n",
       "         0.51830693, 0.87317313, 0.87317313, 0.88725083, 0.88725083,\n",
       "         0.22777962, 0.22777962, 0.0432399 , 0.0432399 , 0.90056053,\n",
       "         0.90056053, 0.23921541, 0.23921541, 0.06744451, 0.06744451,\n",
       "         0.73171086, 0.73171086, 0.50511579, 0.50511579, 0.53955153,\n",
       "         0.53955153, 0.04934017, 0.04934017, 0.36431245, 0.36431245,\n",
       "         0.61635502, 0.61635502, 0.03502043, 0.03502043, 0.67997251,\n",
       "         0.67997251, 0.69592859, 0.69592859, 0.08992774, 0.08992774,\n",
       "         0.18140458, 0.18140458, 0.53194027, 0.53194027, 0.41092511,\n",
       "         0.41092511, 0.3706274 , 0.3706274 , 0.65552869, 0.65552869,\n",
       "         0.27139104, 0.27139104, 0.20240934, 0.20240934, 0.21558069,\n",
       "         0.21558069, 0.54045758, 0.54045758, 0.19462854, 0.19462854,\n",
       "         0.59058162, 0.59058162, 0.66772706, 0.66772706, 0.09202482,\n",
       "         0.09202482, 0.97950024, 0.97950024, 0.14935928, 0.14935928,\n",
       "         0.29391088, 0.29391088, 0.866142  , 0.866142  , 0.63205417,\n",
       "         0.63205417, 0.41272337, 0.41272337, 0.9745761 , 0.9745761 ,\n",
       "         0.6114815 , 0.6114815 , 0.40106728, 0.40106728, 0.17836038,\n",
       "         0.17836038, 0.17555812, 0.17555812, 0.32291613, 0.32291613,\n",
       "         0.56845315, 0.56845315, 0.11110804, 0.11110804, 0.405602  ,\n",
       "         0.405602  , 0.12740567, 0.12740567, 0.56409474, 0.56409474,\n",
       "         0.18371103, 0.18371103, 0.48824991, 0.48824991, 0.22301067,\n",
       "         0.22301067, 0.40974052, 0.40974052, 0.45659869, 0.45659869,\n",
       "         0.45189883, 0.45189883, 0.98126494, 0.98126494, 0.60878244,\n",
       "         0.60878244, 0.01358538, 0.01358538, 0.17147773, 0.17147773,\n",
       "         0.18583527, 0.18583527, 0.13760028, 0.13760028, 0.97556464,\n",
       "         0.97556464, 0.54491334, 0.54491334, 0.13940904, 0.13940904,\n",
       "         0.32657717, 0.32657717, 0.49902454, 0.49902454, 0.99172529,\n",
       "         0.99172529, 0.51873314, 0.51873314, 0.95307607, 0.95307607,\n",
       "         0.06403515, 0.06403515, 0.82181344, 0.82181344, 0.75923015,\n",
       "         0.75923015, 0.35685437, 0.35685437, 0.15318346, 0.15318346,\n",
       "         0.91172557, 0.91172557, 0.02722585, 0.02722585, 0.12984312,\n",
       "         0.12984312, 0.26886921, 0.26886921, 0.31843206, 0.31843206,\n",
       "         0.33668299, 0.33668299, 0.85587104, 0.85587104, 0.63575726,\n",
       "         0.63575726, 0.72897962, 0.72897962, 0.96650423, 0.96650423])}}"
      ]
     },
     "execution_count": 1,
     "metadata": {},
     "output_type": "execute_result"
    }
   ],
   "source": [
    "ds = load_by_id(run_id_n)\n",
    "ds.get_parameter_data('x1')"
   ]
  },
  {
   "cell_type": "markdown",
   "metadata": {},
   "source": [
    "And a dataset stored as binary arrays"
   ]
  },
  {
   "cell_type": "code",
   "execution_count": 12,
   "metadata": {
    "execution": {
     "iopub.execute_input": "2020-11-02T05:02:31.186648Z",
     "iopub.status.busy": "2020-11-02T05:02:31.186109Z",
     "iopub.status.idle": "2020-11-02T05:02:31.248701Z",
     "shell.execute_reply": "2020-11-02T05:02:31.248094Z"
    },
    "scrolled": true
   },
   "outputs": [
    {
     "data": {
      "text/plain": [
       "{'x1': {'x1': array([[4.33781962e-01],\n",
       "         [4.33781962e-01],\n",
       "         [6.90694564e-01],\n",
       "         [6.90694564e-01],\n",
       "         [4.75340254e-01],\n",
       "         [4.75340254e-01],\n",
       "         [7.80450444e-01],\n",
       "         [7.80450444e-01],\n",
       "         [9.22487263e-01],\n",
       "         [9.22487263e-01],\n",
       "         [1.34572913e-01],\n",
       "         [1.34572913e-01],\n",
       "         [2.15524268e-01],\n",
       "         [2.15524268e-01],\n",
       "         [8.47180228e-01],\n",
       "         [8.47180228e-01],\n",
       "         [9.42112872e-01],\n",
       "         [9.42112872e-01],\n",
       "         [7.20560890e-01],\n",
       "         [7.20560890e-01],\n",
       "         [4.09705162e-01],\n",
       "         [4.09705162e-01],\n",
       "         [8.85963666e-02],\n",
       "         [8.85963666e-02],\n",
       "         [1.87415050e-01],\n",
       "         [1.87415050e-01],\n",
       "         [6.55567429e-01],\n",
       "         [6.55567429e-01],\n",
       "         [4.06649079e-01],\n",
       "         [4.06649079e-01],\n",
       "         [2.36138550e-01],\n",
       "         [2.36138550e-01],\n",
       "         [5.36380789e-01],\n",
       "         [5.36380789e-01],\n",
       "         [5.52303051e-01],\n",
       "         [5.52303051e-01],\n",
       "         [6.47171591e-01],\n",
       "         [6.47171591e-01],\n",
       "         [2.69748940e-01],\n",
       "         [2.69748940e-01],\n",
       "         [2.81901577e-01],\n",
       "         [2.81901577e-01],\n",
       "         [9.58923409e-01],\n",
       "         [9.58923409e-01],\n",
       "         [2.61995914e-01],\n",
       "         [2.61995914e-01],\n",
       "         [9.79473884e-01],\n",
       "         [9.79473884e-01],\n",
       "         [8.37033859e-02],\n",
       "         [8.37033859e-02],\n",
       "         [9.54359645e-01],\n",
       "         [9.54359645e-01],\n",
       "         [3.59598220e-01],\n",
       "         [3.59598220e-01],\n",
       "         [2.36448341e-01],\n",
       "         [2.36448341e-01],\n",
       "         [4.44881704e-01],\n",
       "         [4.44881704e-01],\n",
       "         [2.37421413e-01],\n",
       "         [2.37421413e-01],\n",
       "         [6.21484538e-01],\n",
       "         [6.21484538e-01],\n",
       "         [7.75140994e-01],\n",
       "         [7.75140994e-01],\n",
       "         [5.18214267e-01],\n",
       "         [5.18214267e-01],\n",
       "         [4.24806373e-01],\n",
       "         [4.24806373e-01],\n",
       "         [8.15914920e-01],\n",
       "         [8.15914920e-01],\n",
       "         [2.18134885e-01],\n",
       "         [2.18134885e-01],\n",
       "         [5.75397484e-01],\n",
       "         [5.75397484e-01],\n",
       "         [9.73616375e-01],\n",
       "         [9.73616375e-01],\n",
       "         [2.23747302e-01],\n",
       "         [2.23747302e-01],\n",
       "         [9.37738672e-01],\n",
       "         [9.37738672e-01],\n",
       "         [1.18992115e-01],\n",
       "         [1.18992115e-01],\n",
       "         [7.82714281e-01],\n",
       "         [7.82714281e-01],\n",
       "         [9.58687258e-01],\n",
       "         [9.58687258e-01],\n",
       "         [1.42874085e-01],\n",
       "         [1.42874085e-01],\n",
       "         [4.50220238e-01],\n",
       "         [4.50220238e-01],\n",
       "         [2.70963474e-01],\n",
       "         [2.70963474e-01],\n",
       "         [5.04427106e-01],\n",
       "         [5.04427106e-01],\n",
       "         [9.12460374e-01],\n",
       "         [9.12460374e-01],\n",
       "         [5.82827333e-01],\n",
       "         [5.82827333e-01],\n",
       "         [5.41170553e-04],\n",
       "         [5.41170553e-04],\n",
       "         [6.43793793e-01],\n",
       "         [6.43793793e-01],\n",
       "         [8.92436675e-01],\n",
       "         [8.92436675e-01],\n",
       "         [7.14623367e-01],\n",
       "         [7.14623367e-01],\n",
       "         [5.27599642e-02],\n",
       "         [5.27599642e-02],\n",
       "         [9.23275860e-01],\n",
       "         [9.23275860e-01],\n",
       "         [8.31663932e-01],\n",
       "         [8.31663932e-01],\n",
       "         [4.18974386e-02],\n",
       "         [4.18974386e-02],\n",
       "         [6.03821393e-01],\n",
       "         [6.03821393e-01],\n",
       "         [9.84786406e-01],\n",
       "         [9.84786406e-01],\n",
       "         [3.18359828e-02],\n",
       "         [3.18359828e-02],\n",
       "         [7.68352991e-01],\n",
       "         [7.68352991e-01],\n",
       "         [3.70883010e-01],\n",
       "         [3.70883010e-01],\n",
       "         [5.59448742e-01],\n",
       "         [5.59448742e-01],\n",
       "         [2.48129891e-01],\n",
       "         [2.48129891e-01],\n",
       "         [1.57211266e-01],\n",
       "         [1.57211266e-01],\n",
       "         [3.77910527e-01],\n",
       "         [3.77910527e-01],\n",
       "         [9.86092329e-01],\n",
       "         [9.86092329e-01],\n",
       "         [5.38621791e-01],\n",
       "         [5.38621791e-01],\n",
       "         [7.52339939e-01],\n",
       "         [7.52339939e-01],\n",
       "         [6.43835005e-01],\n",
       "         [6.43835005e-01],\n",
       "         [9.81576467e-01],\n",
       "         [9.81576467e-01],\n",
       "         [1.67371793e-01],\n",
       "         [1.67371793e-01],\n",
       "         [8.07983997e-01],\n",
       "         [8.07983997e-01],\n",
       "         [5.21366489e-01],\n",
       "         [5.21366489e-01],\n",
       "         [5.23741507e-01],\n",
       "         [5.23741507e-01],\n",
       "         [9.21904960e-01],\n",
       "         [9.21904960e-01],\n",
       "         [6.73309519e-01],\n",
       "         [6.73309519e-01],\n",
       "         [8.63647422e-01],\n",
       "         [8.63647422e-01],\n",
       "         [5.36701896e-01],\n",
       "         [5.36701896e-01],\n",
       "         [4.48611623e-01],\n",
       "         [4.48611623e-01],\n",
       "         [5.46561345e-01],\n",
       "         [5.46561345e-01],\n",
       "         [6.70778650e-01],\n",
       "         [6.70778650e-01],\n",
       "         [3.65522712e-01],\n",
       "         [3.65522712e-01],\n",
       "         [1.74207404e-01],\n",
       "         [1.74207404e-01],\n",
       "         [4.60516310e-01],\n",
       "         [4.60516310e-01],\n",
       "         [7.17138333e-02],\n",
       "         [7.17138333e-02],\n",
       "         [5.05288526e-01],\n",
       "         [5.05288526e-01],\n",
       "         [4.69986442e-02],\n",
       "         [4.69986442e-02],\n",
       "         [7.02496326e-01],\n",
       "         [7.02496326e-01],\n",
       "         [4.03068277e-01],\n",
       "         [4.03068277e-01],\n",
       "         [6.36794984e-01],\n",
       "         [6.36794984e-01],\n",
       "         [4.71996382e-01],\n",
       "         [4.71996382e-01],\n",
       "         [9.47838424e-01],\n",
       "         [9.47838424e-01],\n",
       "         [5.48755823e-01],\n",
       "         [5.48755823e-01],\n",
       "         [3.02851431e-01],\n",
       "         [3.02851431e-01],\n",
       "         [3.33820029e-01],\n",
       "         [3.33820029e-01],\n",
       "         [6.95666722e-01],\n",
       "         [6.95666722e-01],\n",
       "         [1.50142834e-01],\n",
       "         [1.50142834e-01],\n",
       "         [2.12505501e-01],\n",
       "         [2.12505501e-01],\n",
       "         [2.68505733e-02],\n",
       "         [2.68505733e-02]])}}"
      ]
     },
     "execution_count": 1,
     "metadata": {},
     "output_type": "execute_result"
    }
   ],
   "source": [
    "ds = load_by_id(run_id_a)\n",
    "ds.get_parameter_data('x1')"
   ]
  },
  {
   "cell_type": "code",
   "execution_count": null,
   "metadata": {},
   "outputs": [],
   "source": []
  }
 ],
 "metadata": {
  "kernelspec": {
   "display_name": "Python 3",
   "language": "python",
   "name": "python3"
  },
  "language_info": {
   "codemirror_mode": {
    "name": "ipython",
    "version": 3
   },
   "file_extension": ".py",
   "mimetype": "text/x-python",
   "name": "python",
   "nbconvert_exporter": "python",
   "pygments_lexer": "ipython3",
   "version": "3.7.9"
  },
  "nbsphinx": {
   "timeout": 600
  },
  "toc": {
   "base_numbering": 1,
   "nav_menu": {},
   "number_sections": true,
   "sideBar": true,
   "skip_h1_title": false,
   "title_cell": "Table of Contents",
   "title_sidebar": "Contents",
   "toc_cell": false,
   "toc_position": {},
   "toc_section_display": true,
   "toc_window_display": false
  },
  "varInspector": {
   "cols": {
    "lenName": 16,
    "lenType": 16,
    "lenVar": 40
   },
   "kernels_config": {
    "python": {
     "delete_cmd_postfix": "",
     "delete_cmd_prefix": "del ",
     "library": "var_list.py",
     "varRefreshCmd": "print(var_dic_list())"
    },
    "r": {
     "delete_cmd_postfix": ") ",
     "delete_cmd_prefix": "rm(",
     "library": "var_list.r",
     "varRefreshCmd": "cat(var_dic_list()) "
    }
   },
   "types_to_exclude": [
    "module",
    "function",
    "builtin_function_or_method",
    "instance",
    "_Feature"
   ],
   "window_display": false
  }
 },
 "nbformat": 4,
 "nbformat_minor": 2
}
