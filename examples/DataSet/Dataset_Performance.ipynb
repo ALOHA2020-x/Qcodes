{
 "cells": [
  {
   "cell_type": "markdown",
   "metadata": {},
   "source": [
    "# DataSet Performance\n",
    "\n",
    "This notebook shows the trade-off between inserting data into a database row-by-row and as binary blobs. Inserting the data row-by-row means that we have direct access to all the data and may perform queries directly on the values of the data. On the other hand, as we shall see, this is much slower than inserting the data directly as binary blobs."
   ]
  },
  {
   "cell_type": "markdown",
   "metadata": {},
   "source": [
    "First, we choose a new location for the database to ensure that we don't add a bunch of benchmarking data to the default one."
   ]
  },
  {
   "cell_type": "code",
   "execution_count": 1,
   "metadata": {},
   "outputs": [
    {
     "name": "stdout",
     "output_type": "stream",
     "text": [
      "Logging hadn't been started.\n",
      "Activating auto-logging. Current session state plus future input saved.\n",
      "Filename       : /home/vsts/.qcodes/logs/command_history.log\n",
      "Mode           : append\n",
      "Output logging : True\n",
      "Raw input log  : False\n",
      "Timestamping   : True\n",
      "State          : active\n"
     ]
    },
    {
     "name": "stdout",
     "output_type": "stream",
     "text": [
      "Qcodes Logfile : /home/vsts/.qcodes/logs/200602-18543-qcodes.log\n"
     ]
    }
   ],
   "source": [
    "import os\n",
    "cwd = os.getcwd()\n",
    "import qcodes as qc\n",
    "qc.config[\"core\"][\"db_location\"] = os.path.join(cwd, 'testing.db')\n"
   ]
  },
  {
   "cell_type": "code",
   "execution_count": 2,
   "metadata": {},
   "outputs": [],
   "source": [
    "%matplotlib inline\n",
    "import time\n",
    "import matplotlib.pyplot as plt\n",
    "import numpy as np\n",
    "\n",
    "import qcodes as qc\n",
    "from qcodes.instrument.parameter import ManualParameter\n",
    "from qcodes.dataset.experiment_container import (Experiment,\n",
    "                                                 load_last_experiment,\n",
    "                                                 new_experiment)\n",
    "from qcodes.dataset.sqlite.database import initialise_database\n",
    "from qcodes import load_or_create_experiment\n",
    "from qcodes.dataset.measurements import Measurement"
   ]
  },
  {
   "cell_type": "code",
   "execution_count": 3,
   "metadata": {},
   "outputs": [
    {
     "name": "stdout",
     "output_type": "stream",
     "text": [
      "\r",
      "0it [00:00, ?it/s]"
     ]
    },
    {
     "name": "stdout",
     "output_type": "stream",
     "text": [
      "\r",
      "Upgrading database; v0 -> v1: : 0it [00:00, ?it/s]"
     ]
    },
    {
     "name": "stdout",
     "output_type": "stream",
     "text": [
      "\r",
      "Upgrading database; v0 -> v1: : 0it [00:00, ?it/s]"
     ]
    },
    {
     "name": "stdout",
     "output_type": "stream",
     "text": [
      "\n",
      "\r",
      "  0%|          | 0/1 [00:00<?, ?it/s]"
     ]
    },
    {
     "name": "stdout",
     "output_type": "stream",
     "text": [
      "\r",
      "Upgrading database; v1 -> v2:   0%|          | 0/1 [00:00<?, ?it/s]"
     ]
    },
    {
     "name": "stdout",
     "output_type": "stream",
     "text": [
      "\r",
      "Upgrading database; v1 -> v2: 100%|██████████| 1/1 [00:00<00:00, 1280.31it/s]"
     ]
    },
    {
     "name": "stdout",
     "output_type": "stream",
     "text": [
      "\n",
      "\r",
      "0it [00:00, ?it/s]"
     ]
    },
    {
     "name": "stdout",
     "output_type": "stream",
     "text": [
      "\r",
      "Upgrading database; v2 -> v3: : 0it [00:00, ?it/s]"
     ]
    },
    {
     "name": "stdout",
     "output_type": "stream",
     "text": [
      "\r",
      "Upgrading database; v2 -> v3: : 0it [00:00, ?it/s]"
     ]
    },
    {
     "name": "stdout",
     "output_type": "stream",
     "text": [
      "\n",
      "\r",
      "0it [00:00, ?it/s]"
     ]
    },
    {
     "name": "stdout",
     "output_type": "stream",
     "text": [
      "\r",
      "Upgrading database; v3 -> v4: : 0it [00:00, ?it/s]"
     ]
    },
    {
     "name": "stdout",
     "output_type": "stream",
     "text": [
      "\r",
      "Upgrading database; v3 -> v4: : 0it [00:00, ?it/s]"
     ]
    },
    {
     "name": "stdout",
     "output_type": "stream",
     "text": [
      "\n",
      "\r",
      "  0%|          | 0/1 [00:00<?, ?it/s]"
     ]
    },
    {
     "name": "stdout",
     "output_type": "stream",
     "text": [
      "\r",
      "Upgrading database; v4 -> v5:   0%|          | 0/1 [00:00<?, ?it/s]"
     ]
    },
    {
     "name": "stdout",
     "output_type": "stream",
     "text": [
      "\r",
      "Upgrading database; v4 -> v5: 100%|██████████| 1/1 [00:00<00:00, 1000.55it/s]"
     ]
    },
    {
     "name": "stdout",
     "output_type": "stream",
     "text": [
      "\n",
      "\r",
      "0it [00:00, ?it/s]"
     ]
    },
    {
     "name": "stdout",
     "output_type": "stream",
     "text": [
      "\r",
      "Upgrading database; v5 -> v6: : 0it [00:00, ?it/s]"
     ]
    },
    {
     "name": "stdout",
     "output_type": "stream",
     "text": [
      "\r",
      "Upgrading database; v5 -> v6: : 0it [00:00, ?it/s]"
     ]
    },
    {
     "name": "stdout",
     "output_type": "stream",
     "text": [
      "\n",
      "\r",
      "  0%|          | 0/1 [00:00<?, ?it/s]"
     ]
    },
    {
     "name": "stdout",
     "output_type": "stream",
     "text": [
      "\r",
      "Upgrading database; v6 -> v7:   0%|          | 0/1 [00:00<?, ?it/s]"
     ]
    },
    {
     "name": "stdout",
     "output_type": "stream",
     "text": [
      "\r",
      "Upgrading database; v6 -> v7: 100%|██████████| 1/1 [00:00<00:00, 532.00it/s]"
     ]
    },
    {
     "name": "stdout",
     "output_type": "stream",
     "text": [
      "\n",
      "\r",
      "  0%|          | 0/1 [00:00<?, ?it/s]"
     ]
    },
    {
     "name": "stdout",
     "output_type": "stream",
     "text": [
      "\r",
      "Upgrading database; v7 -> v8:   0%|          | 0/1 [00:00<?, ?it/s]"
     ]
    },
    {
     "name": "stdout",
     "output_type": "stream",
     "text": [
      "\r",
      "Upgrading database; v7 -> v8: 100%|██████████| 1/1 [00:00<00:00, 734.30it/s]"
     ]
    },
    {
     "name": "stdout",
     "output_type": "stream",
     "text": [
      "\n",
      "\r",
      "  0%|          | 0/1 [00:00<?, ?it/s]"
     ]
    },
    {
     "name": "stdout",
     "output_type": "stream",
     "text": [
      "\r",
      "Upgrading database; v8 -> v9:   0%|          | 0/1 [00:00<?, ?it/s]"
     ]
    },
    {
     "name": "stdout",
     "output_type": "stream",
     "text": [
      "\r",
      "Upgrading database; v8 -> v9: 100%|██████████| 1/1 [00:00<00:00, 1323.96it/s]"
     ]
    },
    {
     "name": "stdout",
     "output_type": "stream",
     "text": [
      "\n"
     ]
    }
   ],
   "source": [
    "initialise_database()\n",
    "exp = load_or_create_experiment(experiment_name='tutorial_exp', sample_name=\"no sample\")"
   ]
  },
  {
   "cell_type": "markdown",
   "metadata": {},
   "source": [
    "Here, we define a simple function to benchmark the time it takes to insert n points with either numeric or array data type.\n",
    "We will compare both the time used to call ``add_result`` and the time used for the full measurement."
   ]
  },
  {
   "cell_type": "code",
   "execution_count": 4,
   "metadata": {},
   "outputs": [],
   "source": [
    "def insert_data(paramtype, npoints, nreps=1):\n",
    "\n",
    "    meas = Measurement(exp=exp)\n",
    "\n",
    "    x1 = ManualParameter('x1')\n",
    "    x2 = ManualParameter('x2')\n",
    "    x3 = ManualParameter('x3')\n",
    "    y1 = ManualParameter('y1')\n",
    "    y2 = ManualParameter('y2')\n",
    "\n",
    "    meas.register_parameter(x1, paramtype=paramtype)\n",
    "    meas.register_parameter(x2, paramtype=paramtype)\n",
    "    meas.register_parameter(x3, paramtype=paramtype)\n",
    "    meas.register_parameter(y1, setpoints=[x1, x2, x3],\n",
    "                            paramtype=paramtype)\n",
    "    meas.register_parameter(y2, setpoints=[x1, x2, x3],\n",
    "                            paramtype=paramtype)\n",
    "    start = time.perf_counter()\n",
    "    with meas.run() as datasaver:\n",
    "        start_adding = time.perf_counter()\n",
    "        for i in range(nreps):\n",
    "            datasaver.add_result((x1, np.random.rand(npoints)),\n",
    "                                 (x2, np.random.rand(npoints)),\n",
    "                                 (x3, np.random.rand(npoints)),\n",
    "                                 (y1, np.random.rand(npoints)),\n",
    "                                 (y2, np.random.rand(npoints)))\n",
    "        stop_adding = time.perf_counter()\n",
    "        run_id = datasaver.run_id\n",
    "    stop = time.perf_counter()\n",
    "    tot_time = stop - start\n",
    "    add_time = stop_adding - start_adding\n",
    "    return tot_time, add_time, run_id"
   ]
  },
  {
   "cell_type": "markdown",
   "metadata": {},
   "source": [
    "## Comparison between numeric/array data and binary blob"
   ]
  },
  {
   "cell_type": "markdown",
   "metadata": {},
   "source": [
    "### Case1: Short experiment time"
   ]
  },
  {
   "cell_type": "code",
   "execution_count": 5,
   "metadata": {},
   "outputs": [
    {
     "name": "stdout",
     "output_type": "stream",
     "text": [
      "Starting experimental run with id: 1. \n",
      "Starting experimental run with id: 2. \n",
      "Starting experimental run with id: 3. \n",
      "Starting experimental run with id: 4. \n",
      "Starting experimental run with id: 5. \n"
     ]
    },
    {
     "name": "stdout",
     "output_type": "stream",
     "text": [
      "Starting experimental run with id: 6. \n",
      "Starting experimental run with id: 7. \n"
     ]
    },
    {
     "name": "stdout",
     "output_type": "stream",
     "text": [
      "Starting experimental run with id: 8. \n",
      "Starting experimental run with id: 9. \n"
     ]
    },
    {
     "name": "stdout",
     "output_type": "stream",
     "text": [
      "Starting experimental run with id: 10. \n",
      "Starting experimental run with id: 11. \n"
     ]
    },
    {
     "name": "stdout",
     "output_type": "stream",
     "text": [
      "Starting experimental run with id: 12. \n",
      "Starting experimental run with id: 13. \n"
     ]
    },
    {
     "name": "stdout",
     "output_type": "stream",
     "text": [
      "Starting experimental run with id: 14. \n"
     ]
    }
   ],
   "source": [
    "sizes = [1,500,1000,2000,3000,4000,5000]\n",
    "t_numeric = []\n",
    "t_numeric_add = []\n",
    "t_array = []\n",
    "t_array_add = []\n",
    "for size in sizes:\n",
    "    tn, tna, run_id_n =  insert_data('numeric', size)\n",
    "    t_numeric.append(tn)\n",
    "    t_numeric_add.append(tna)\n",
    "\n",
    "    ta, taa, run_id_a =  insert_data('array', size)\n",
    "    t_array.append(ta)\n",
    "    t_array_add.append(taa)"
   ]
  },
  {
   "cell_type": "code",
   "execution_count": 6,
   "metadata": {},
   "outputs": [
    {
     "data": {
      "image/png": "[encoded data removed]",
      "text/plain": [
       "<Figure size 432x288 with 1 Axes>"
      ]
     },
     "metadata": {
      "needs_background": "light"
     },
     "output_type": "display_data"
    }
   ],
   "source": [
    "fig, ax = plt.subplots(1,1)\n",
    "ax.plot(sizes, t_numeric, 'o-', label='Inserting row-by-row')\n",
    "ax.plot(sizes, t_numeric_add, 'o-', label='Inserting row-by-row: add_result only')\n",
    "ax.plot(sizes, t_array, 'd-', label='Inserting as binary blob')\n",
    "ax.plot(sizes, t_array_add, 'd-', label='Inserting as binary blob: add_result only')\n",
    "ax.legend()\n",
    "ax.set_xlabel('Array length')\n",
    "ax.set_ylabel('Time (s)')\n",
    "fig.tight_layout()"
   ]
  },
  {
   "cell_type": "markdown",
   "metadata": {},
   "source": [
    "As shown in the latter figure, the time to setup and and close the experiment is approximately 0.4 sec. In case of small array sizes, the difference between inserting values of data as arrays and inserting them row-by-row is relatively unimportant. At larger array sizes, i.e. above 10000 points, the cost of writing data as individual datapoints starts to become important.\n"
   ]
  },
  {
   "cell_type": "markdown",
   "metadata": {},
   "source": [
    "### Case2: Long experiment time "
   ]
  },
  {
   "cell_type": "code",
   "execution_count": 7,
   "metadata": {},
   "outputs": [
    {
     "name": "stdout",
     "output_type": "stream",
     "text": [
      "Starting experimental run with id: 15. \n"
     ]
    },
    {
     "name": "stdout",
     "output_type": "stream",
     "text": [
      "Starting experimental run with id: 16. \n",
      "Starting experimental run with id: 17. \n"
     ]
    },
    {
     "name": "stdout",
     "output_type": "stream",
     "text": [
      "Starting experimental run with id: 18. \n",
      "Starting experimental run with id: 19. \n"
     ]
    },
    {
     "name": "stdout",
     "output_type": "stream",
     "text": [
      "Starting experimental run with id: 20. \n"
     ]
    },
    {
     "name": "stdout",
     "output_type": "stream",
     "text": [
      "Starting experimental run with id: 21. \n"
     ]
    },
    {
     "name": "stdout",
     "output_type": "stream",
     "text": [
      "Starting experimental run with id: 22. \n"
     ]
    },
    {
     "name": "stdout",
     "output_type": "stream",
     "text": [
      "Starting experimental run with id: 23. \n"
     ]
    },
    {
     "name": "stdout",
     "output_type": "stream",
     "text": [
      "Starting experimental run with id: 24. \n"
     ]
    },
    {
     "name": "stdout",
     "output_type": "stream",
     "text": [
      "Starting experimental run with id: 25. \n"
     ]
    },
    {
     "name": "stdout",
     "output_type": "stream",
     "text": [
      "Starting experimental run with id: 26. \n"
     ]
    },
    {
     "name": "stdout",
     "output_type": "stream",
     "text": [
      "Starting experimental run with id: 27. \n"
     ]
    },
    {
     "name": "stdout",
     "output_type": "stream",
     "text": [
      "Starting experimental run with id: 28. \n"
     ]
    }
   ],
   "source": [
    "sizes = [1,500,1000,2000,3000,4000,5000]\n",
    "nreps = 100\n",
    "t_numeric = []\n",
    "t_numeric_add = []\n",
    "t_numeric_run_ids = []\n",
    "t_array = []\n",
    "t_array_add = []\n",
    "t_array_run_ids = []\n",
    "for size in sizes:\n",
    "    tn, tna, run_id_n =  insert_data('numeric', size, nreps=nreps)\n",
    "    t_numeric.append(tn)\n",
    "    t_numeric_add.append(tna)\n",
    "    t_numeric_run_ids.append(run_id_n)\n",
    "\n",
    "    ta, taa, run_id_a =  insert_data('array', size, nreps=nreps)\n",
    "    t_array.append(ta)\n",
    "    t_array_add.append(taa)\n",
    "    t_array_run_ids.append(run_id_a)"
   ]
  },
  {
   "cell_type": "code",
   "execution_count": 8,
   "metadata": {
    "scrolled": true
   },
   "outputs": [
    {
     "data": {
      "image/png": "[encoded data removed]",
      "text/plain": [
       "<Figure size 432x288 with 1 Axes>"
      ]
     },
     "metadata": {
      "needs_background": "light"
     },
     "output_type": "display_data"
    }
   ],
   "source": [
    "fig, ax = plt.subplots(1,1)\n",
    "ax.plot(sizes, t_numeric, 'o-', label='Inserting row-by-row')\n",
    "ax.plot(sizes, t_numeric_add, 'o-', label='Inserting row-by-row: add_result only')\n",
    "ax.plot(sizes, t_array, 'd-', label='Inserting as binary blob')\n",
    "ax.plot(sizes, t_array_add, 'd-', label='Inserting as binary blob: add_result only')\n",
    "ax.legend()\n",
    "ax.set_xlabel('Array length')\n",
    "ax.set_ylabel('Time (s)')\n",
    "fig.tight_layout()"
   ]
  },
  {
   "cell_type": "markdown",
   "metadata": {},
   "source": [
    "However, as we increase the length of the experiment, as seen here by repeating the insertion 100 times, we see a big difference between inserting values of the data row-by-row and inserting it as a binary blob."
   ]
  },
  {
   "cell_type": "markdown",
   "metadata": {},
   "source": [
    "## Loading the data "
   ]
  },
  {
   "cell_type": "code",
   "execution_count": 9,
   "metadata": {},
   "outputs": [],
   "source": [
    "from qcodes.dataset.data_set import load_by_id\n",
    "from qcodes.dataset.data_export import get_data_by_id"
   ]
  },
  {
   "cell_type": "markdown",
   "metadata": {},
   "source": [
    "As usual you can load the data by using the ``load_by_id`` function but you will notice that the different storage methods\n",
    "are reflected in shape of the data as it is retrieved. "
   ]
  },
  {
   "cell_type": "code",
   "execution_count": 10,
   "metadata": {},
   "outputs": [],
   "source": [
    "run_id_n = t_numeric_run_ids[0]\n",
    "run_id_a = t_array_run_ids[0]"
   ]
  },
  {
   "cell_type": "code",
   "execution_count": 11,
   "metadata": {
    "scrolled": true
   },
   "outputs": [
    {
     "data": {
      "text/plain": [
       "{'x1': {'x1': array([0.01341813, 0.01341813, 0.72584448, 0.72584448, 0.87075671,\n",
       "         0.87075671, 0.89604629, 0.89604629, 0.79964652, 0.79964652,\n",
       "         0.64710524, 0.64710524, 0.5027095 , 0.5027095 , 0.75936366,\n",
       "         0.75936366, 0.66970573, 0.66970573, 0.5596208 , 0.5596208 ,\n",
       "         0.04471863, 0.04471863, 0.82986152, 0.82986152, 0.85473853,\n",
       "         0.85473853, 0.36021139, 0.36021139, 0.15785471, 0.15785471,\n",
       "         0.28333237, 0.28333237, 0.02236465, 0.02236465, 0.16554282,\n",
       "         0.16554282, 0.33842048, 0.33842048, 0.68089135, 0.68089135,\n",
       "         0.99689839, 0.99689839, 0.55529577, 0.55529577, 0.20896606,\n",
       "         0.20896606, 0.57543653, 0.57543653, 0.82292173, 0.82292173,\n",
       "         0.85590317, 0.85590317, 0.41134376, 0.41134376, 0.42840258,\n",
       "         0.42840258, 0.87844446, 0.87844446, 0.66818077, 0.66818077,\n",
       "         0.61740393, 0.61740393, 0.35591596, 0.35591596, 0.12990356,\n",
       "         0.12990356, 0.02154282, 0.02154282, 0.67050172, 0.67050172,\n",
       "         0.10043204, 0.10043204, 0.28610246, 0.28610246, 0.59081346,\n",
       "         0.59081346, 0.03404997, 0.03404997, 0.72212886, 0.72212886,\n",
       "         0.64481236, 0.64481236, 0.7844646 , 0.7844646 , 0.97265808,\n",
       "         0.97265808, 0.46556454, 0.46556454, 0.17812571, 0.17812571,\n",
       "         0.27655717, 0.27655717, 0.00712839, 0.00712839, 0.78504289,\n",
       "         0.78504289, 0.89022701, 0.89022701, 0.81987729, 0.81987729,\n",
       "         0.5915022 , 0.5915022 , 0.48028468, 0.48028468, 0.75291272,\n",
       "         0.75291272, 0.38925826, 0.38925826, 0.48579414, 0.48579414,\n",
       "         0.0896185 , 0.0896185 , 0.77120783, 0.77120783, 0.67506598,\n",
       "         0.67506598, 0.91451428, 0.91451428, 0.72485602, 0.72485602,\n",
       "         0.42630882, 0.42630882, 0.42125971, 0.42125971, 0.97041178,\n",
       "         0.97041178, 0.24914389, 0.24914389, 0.33205787, 0.33205787,\n",
       "         0.26557066, 0.26557066, 0.52501533, 0.52501533, 0.51144365,\n",
       "         0.51144365, 0.22304388, 0.22304388, 0.53244265, 0.53244265,\n",
       "         0.05578101, 0.05578101, 0.12310712, 0.12310712, 0.69731206,\n",
       "         0.69731206, 0.05271359, 0.05271359, 0.42071544, 0.42071544,\n",
       "         0.87613454, 0.87613454, 0.1131149 , 0.1131149 , 0.77594861,\n",
       "         0.77594861, 0.80386762, 0.80386762, 0.7353287 , 0.7353287 ,\n",
       "         0.56351253, 0.56351253, 0.43162739, 0.43162739, 0.69530022,\n",
       "         0.69530022, 0.69119147, 0.69119147, 0.13604843, 0.13604843,\n",
       "         0.32536549, 0.32536549, 0.58642201, 0.58642201, 0.94747173,\n",
       "         0.94747173, 0.79052848, 0.79052848, 0.41200547, 0.41200547,\n",
       "         0.17778438, 0.17778438, 0.105543  , 0.105543  , 0.86041542,\n",
       "         0.86041542, 0.44276677, 0.44276677, 0.72609586, 0.72609586,\n",
       "         0.09980048, 0.09980048, 0.85945287, 0.85945287, 0.71107389,\n",
       "         0.71107389, 0.66124808, 0.66124808, 0.08908194, 0.08908194])}}"
      ]
     },
     "execution_count": 11,
     "metadata": {},
     "output_type": "execute_result"
    }
   ],
   "source": [
    "ds = load_by_id(run_id_n)\n",
    "ds.get_parameter_data('x1')"
   ]
  },
  {
   "cell_type": "markdown",
   "metadata": {},
   "source": [
    "And a dataset stored as binary arrays"
   ]
  },
  {
   "cell_type": "code",
   "execution_count": 12,
   "metadata": {
    "scrolled": true
   },
   "outputs": [
    {
     "data": {
      "text/plain": [
       "{'x1': {'x1': array([[0.25556388],\n",
       "         [0.25556388],\n",
       "         [0.25997799],\n",
       "         [0.25997799],\n",
       "         [0.67374151],\n",
       "         [0.67374151],\n",
       "         [0.47766183],\n",
       "         [0.47766183],\n",
       "         [0.74410241],\n",
       "         [0.74410241],\n",
       "         [0.46331843],\n",
       "         [0.46331843],\n",
       "         [0.80965291],\n",
       "         [0.80965291],\n",
       "         [0.05263189],\n",
       "         [0.05263189],\n",
       "         [0.65839824],\n",
       "         [0.65839824],\n",
       "         [0.90056737],\n",
       "         [0.90056737],\n",
       "         [0.14022215],\n",
       "         [0.14022215],\n",
       "         [0.28641895],\n",
       "         [0.28641895],\n",
       "         [0.04031128],\n",
       "         [0.04031128],\n",
       "         [0.77092958],\n",
       "         [0.77092958],\n",
       "         [0.72208419],\n",
       "         [0.72208419],\n",
       "         [0.48982328],\n",
       "         [0.48982328],\n",
       "         [0.7290338 ],\n",
       "         [0.7290338 ],\n",
       "         [0.12384673],\n",
       "         [0.12384673],\n",
       "         [0.10032118],\n",
       "         [0.10032118],\n",
       "         [0.33665282],\n",
       "         [0.33665282],\n",
       "         [0.15209454],\n",
       "         [0.15209454],\n",
       "         [0.61742658],\n",
       "         [0.61742658],\n",
       "         [0.23857238],\n",
       "         [0.23857238],\n",
       "         [0.38731154],\n",
       "         [0.38731154],\n",
       "         [0.92078649],\n",
       "         [0.92078649],\n",
       "         [0.67780312],\n",
       "         [0.67780312],\n",
       "         [0.43216572],\n",
       "         [0.43216572],\n",
       "         [0.23702418],\n",
       "         [0.23702418],\n",
       "         [0.72653943],\n",
       "         [0.72653943],\n",
       "         [0.2650712 ],\n",
       "         [0.2650712 ],\n",
       "         [0.70048727],\n",
       "         [0.70048727],\n",
       "         [0.03834982],\n",
       "         [0.03834982],\n",
       "         [0.45418189],\n",
       "         [0.45418189],\n",
       "         [0.99907386],\n",
       "         [0.99907386],\n",
       "         [0.69970555],\n",
       "         [0.69970555],\n",
       "         [0.30393993],\n",
       "         [0.30393993],\n",
       "         [0.64388183],\n",
       "         [0.64388183],\n",
       "         [0.45896647],\n",
       "         [0.45896647],\n",
       "         [0.37211459],\n",
       "         [0.37211459],\n",
       "         [0.36968171],\n",
       "         [0.36968171],\n",
       "         [0.42971383],\n",
       "         [0.42971383],\n",
       "         [0.74823793],\n",
       "         [0.74823793],\n",
       "         [0.43014033],\n",
       "         [0.43014033],\n",
       "         [0.04795648],\n",
       "         [0.04795648],\n",
       "         [0.21743368],\n",
       "         [0.21743368],\n",
       "         [0.76111063],\n",
       "         [0.76111063],\n",
       "         [0.18901578],\n",
       "         [0.18901578],\n",
       "         [0.69914504],\n",
       "         [0.69914504],\n",
       "         [0.63419848],\n",
       "         [0.63419848],\n",
       "         [0.09364277],\n",
       "         [0.09364277],\n",
       "         [0.17387614],\n",
       "         [0.17387614],\n",
       "         [0.57067736],\n",
       "         [0.57067736],\n",
       "         [0.93144652],\n",
       "         [0.93144652],\n",
       "         [0.43473818],\n",
       "         [0.43473818],\n",
       "         [0.23512254],\n",
       "         [0.23512254],\n",
       "         [0.63288296],\n",
       "         [0.63288296],\n",
       "         [0.56062903],\n",
       "         [0.56062903],\n",
       "         [0.11444034],\n",
       "         [0.11444034],\n",
       "         [0.25034435],\n",
       "         [0.25034435],\n",
       "         [0.2604844 ],\n",
       "         [0.2604844 ],\n",
       "         [0.14403677],\n",
       "         [0.14403677],\n",
       "         [0.81810946],\n",
       "         [0.81810946],\n",
       "         [0.71087722],\n",
       "         [0.71087722],\n",
       "         [0.91069689],\n",
       "         [0.91069689],\n",
       "         [0.02521016],\n",
       "         [0.02521016],\n",
       "         [0.45797291],\n",
       "         [0.45797291],\n",
       "         [0.23572248],\n",
       "         [0.23572248],\n",
       "         [0.51699082],\n",
       "         [0.51699082],\n",
       "         [0.30546432],\n",
       "         [0.30546432],\n",
       "         [0.37483043],\n",
       "         [0.37483043],\n",
       "         [0.1604153 ],\n",
       "         [0.1604153 ],\n",
       "         [0.06550361],\n",
       "         [0.06550361],\n",
       "         [0.95010874],\n",
       "         [0.95010874],\n",
       "         [0.70194226],\n",
       "         [0.70194226],\n",
       "         [0.8855982 ],\n",
       "         [0.8855982 ],\n",
       "         [0.77616742],\n",
       "         [0.77616742],\n",
       "         [0.35812375],\n",
       "         [0.35812375],\n",
       "         [0.25222765],\n",
       "         [0.25222765],\n",
       "         [0.25755556],\n",
       "         [0.25755556],\n",
       "         [0.4309995 ],\n",
       "         [0.4309995 ],\n",
       "         [0.03154904],\n",
       "         [0.03154904],\n",
       "         [0.42949122],\n",
       "         [0.42949122],\n",
       "         [0.76836966],\n",
       "         [0.76836966],\n",
       "         [0.42842175],\n",
       "         [0.42842175],\n",
       "         [0.82001788],\n",
       "         [0.82001788],\n",
       "         [0.86896214],\n",
       "         [0.86896214],\n",
       "         [0.57682297],\n",
       "         [0.57682297],\n",
       "         [0.5902084 ],\n",
       "         [0.5902084 ],\n",
       "         [0.29127336],\n",
       "         [0.29127336],\n",
       "         [0.47342321],\n",
       "         [0.47342321],\n",
       "         [0.32682924],\n",
       "         [0.32682924],\n",
       "         [0.04039577],\n",
       "         [0.04039577],\n",
       "         [0.26999565],\n",
       "         [0.26999565],\n",
       "         [0.04731488],\n",
       "         [0.04731488],\n",
       "         [0.52901168],\n",
       "         [0.52901168],\n",
       "         [0.52482593],\n",
       "         [0.52482593],\n",
       "         [0.7138176 ],\n",
       "         [0.7138176 ],\n",
       "         [0.98127719],\n",
       "         [0.98127719],\n",
       "         [0.78324847],\n",
       "         [0.78324847],\n",
       "         [0.04651355],\n",
       "         [0.04651355]])}}"
      ]
     },
     "execution_count": 12,
     "metadata": {},
     "output_type": "execute_result"
    }
   ],
   "source": [
    "ds = load_by_id(run_id_a)\n",
    "ds.get_parameter_data('x1')"
   ]
  },
  {
   "cell_type": "code",
   "execution_count": null,
   "metadata": {},
   "outputs": [],
   "source": []
  }
 ],
 "metadata": {
  "kernelspec": {
   "display_name": "Python 3",
   "language": "python",
   "name": "python3"
  },
  "language_info": {
   "codemirror_mode": {
    "name": "ipython",
    "version": 3
   },
   "file_extension": ".py",
   "mimetype": "text/x-python",
   "name": "python",
   "nbconvert_exporter": "python",
   "pygments_lexer": "ipython3",
   "version": "3.7.7"
  },
  "nbsphinx": {
   "timeout": 600
  },
  "toc": {
   "base_numbering": 1,
   "nav_menu": {},
   "number_sections": true,
   "sideBar": true,
   "skip_h1_title": false,
   "title_cell": "Table of Contents",
   "title_sidebar": "Contents",
   "toc_cell": false,
   "toc_position": {},
   "toc_section_display": true,
   "toc_window_display": false
  },
  "varInspector": {
   "cols": {
    "lenName": 16,
    "lenType": 16,
    "lenVar": 40
   },
   "kernels_config": {
    "python": {
     "delete_cmd_postfix": "",
     "delete_cmd_prefix": "del ",
     "library": "var_list.py",
     "varRefreshCmd": "print(var_dic_list())"
    },
    "r": {
     "delete_cmd_postfix": ") ",
     "delete_cmd_prefix": "rm(",
     "library": "var_list.r",
     "varRefreshCmd": "cat(var_dic_list()) "
    }
   },
   "types_to_exclude": [
    "module",
    "function",
    "builtin_function_or_method",
    "instance",
    "_Feature"
   ],
   "window_display": false
  }
 },
 "nbformat": 4,
 "nbformat_minor": 2
}
