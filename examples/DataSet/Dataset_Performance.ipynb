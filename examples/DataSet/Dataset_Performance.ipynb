{
 "cells": [
  {
   "cell_type": "markdown",
   "metadata": {},
   "source": [
    "# DataSet Performance\n",
    "\n",
    "This notebook shows the trade-off between inserting data into a database row-by-row and as binary blobs. Inserting the data row-by-row means that we have direct access to all the data and may perform queries directly on the values of the data. On the other hand, as we shall see, this is much slower than inserting the data directly as binary blobs."
   ]
  },
  {
   "cell_type": "markdown",
   "metadata": {},
   "source": [
    "First, we choose a new location for the database to ensure that we don't add a bunch of benchmarking data to the default one."
   ]
  },
  {
   "cell_type": "code",
   "execution_count": 1,
   "metadata": {
    "execution": {
     "iopub.execute_input": "2021-01-28T13:54:08.096366Z",
     "iopub.status.busy": "2021-01-28T13:54:08.095825Z",
     "iopub.status.idle": "2021-01-28T13:54:09.050899Z",
     "shell.execute_reply": "2021-01-28T13:54:09.051293Z"
    }
   },
   "outputs": [
    {
     "name": "stdout",
     "output_type": "stream",
     "text": [
      "Logging hadn't been started.\n",
      "Activating auto-logging. Current session state plus future input saved.\n",
      "Filename       : /home/vsts/.qcodes/logs/command_history.log\n",
      "Mode           : append\n",
      "Output logging : True\n",
      "Raw input log  : False\n",
      "Timestamping   : True\n",
      "State          : active\n"
     ]
    },
    {
     "name": "stdout",
     "output_type": "stream",
     "text": [
      "Qcodes Logfile : /home/vsts/.qcodes/logs/210128-13577-qcodes.log\n"
     ]
    }
   ],
   "source": [
    "import os\n",
    "cwd = os.getcwd()\n",
    "import qcodes as qc\n",
    "qc.config[\"core\"][\"db_location\"] = os.path.join(cwd, 'testing.db')\n"
   ]
  },
  {
   "cell_type": "code",
   "execution_count": 2,
   "metadata": {
    "execution": {
     "iopub.execute_input": "2021-01-28T13:54:09.058414Z",
     "iopub.status.busy": "2021-01-28T13:54:09.056882Z",
     "iopub.status.idle": "2021-01-28T13:54:09.239876Z",
     "shell.execute_reply": "2021-01-28T13:54:09.238849Z"
    }
   },
   "outputs": [],
   "source": [
    "%matplotlib inline\n",
    "import time\n",
    "import matplotlib.pyplot as plt\n",
    "import numpy as np\n",
    "\n",
    "import qcodes as qc\n",
    "from qcodes.instrument.parameter import ManualParameter\n",
    "from qcodes.dataset.experiment_container import (Experiment,\n",
    "                                                 load_last_experiment,\n",
    "                                                 new_experiment)\n",
    "from qcodes.dataset.sqlite.database import initialise_database\n",
    "from qcodes import load_or_create_experiment\n",
    "from qcodes.dataset.measurements import Measurement"
   ]
  },
  {
   "cell_type": "code",
   "execution_count": 3,
   "metadata": {
    "execution": {
     "iopub.execute_input": "2021-01-28T13:54:09.243900Z",
     "iopub.status.busy": "2021-01-28T13:54:09.243268Z",
     "iopub.status.idle": "2021-01-28T13:54:09.363942Z",
     "shell.execute_reply": "2021-01-28T13:54:09.363504Z"
    }
   },
   "outputs": [
    {
     "name": "stdout",
     "output_type": "stream",
     "text": [
      "\r",
      "0it [00:00, ?it/s]"
     ]
    },
    {
     "name": "stdout",
     "output_type": "stream",
     "text": [
      "\r",
      "Upgrading database; v0 -> v1: : 0it [00:00, ?it/s]"
     ]
    },
    {
     "name": "stdout",
     "output_type": "stream",
     "text": [
      "\r",
      "Upgrading database; v0 -> v1: : 0it [00:00, ?it/s]"
     ]
    },
    {
     "name": "stdout",
     "output_type": "stream",
     "text": [
      "\n",
      "\r",
      "  0%|          | 0/1 [00:00<?, ?it/s]"
     ]
    },
    {
     "name": "stdout",
     "output_type": "stream",
     "text": [
      "\r",
      "Upgrading database; v1 -> v2:   0%|          | 0/1 [00:00<?, ?it/s]"
     ]
    },
    {
     "name": "stdout",
     "output_type": "stream",
     "text": [
      "\r",
      "Upgrading database; v1 -> v2: 100%|██████████| 1/1 [00:00<00:00, 475.33it/s]"
     ]
    },
    {
     "name": "stdout",
     "output_type": "stream",
     "text": [
      "\n",
      "\r",
      "0it [00:00, ?it/s]"
     ]
    },
    {
     "name": "stdout",
     "output_type": "stream",
     "text": [
      "\r",
      "Upgrading database; v2 -> v3: : 0it [00:00, ?it/s]"
     ]
    },
    {
     "name": "stdout",
     "output_type": "stream",
     "text": [
      "\r",
      "Upgrading database; v2 -> v3: : 0it [00:00, ?it/s]"
     ]
    },
    {
     "name": "stdout",
     "output_type": "stream",
     "text": [
      "\n",
      "\r",
      "0it [00:00, ?it/s]"
     ]
    },
    {
     "name": "stdout",
     "output_type": "stream",
     "text": [
      "\r",
      "Upgrading database; v3 -> v4: : 0it [00:00, ?it/s]"
     ]
    },
    {
     "name": "stdout",
     "output_type": "stream",
     "text": [
      "\r",
      "Upgrading database; v3 -> v4: : 0it [00:00, ?it/s]"
     ]
    },
    {
     "name": "stdout",
     "output_type": "stream",
     "text": [
      "\n",
      "\r",
      "  0%|          | 0/1 [00:00<?, ?it/s]"
     ]
    },
    {
     "name": "stdout",
     "output_type": "stream",
     "text": [
      "\r",
      "Upgrading database; v4 -> v5:   0%|          | 0/1 [00:00<?, ?it/s]"
     ]
    },
    {
     "name": "stdout",
     "output_type": "stream",
     "text": [
      "\r",
      "Upgrading database; v4 -> v5: 100%|██████████| 1/1 [00:00<00:00, 372.63it/s]"
     ]
    },
    {
     "name": "stdout",
     "output_type": "stream",
     "text": [
      "\n",
      "\r",
      "0it [00:00, ?it/s]"
     ]
    },
    {
     "name": "stdout",
     "output_type": "stream",
     "text": [
      "\r",
      "Upgrading database; v5 -> v6: : 0it [00:00, ?it/s]"
     ]
    },
    {
     "name": "stdout",
     "output_type": "stream",
     "text": [
      "\r",
      "Upgrading database; v5 -> v6: : 0it [00:00, ?it/s]"
     ]
    },
    {
     "name": "stdout",
     "output_type": "stream",
     "text": [
      "\n",
      "\r",
      "  0%|          | 0/1 [00:00<?, ?it/s]"
     ]
    },
    {
     "name": "stdout",
     "output_type": "stream",
     "text": [
      "\r",
      "Upgrading database; v6 -> v7:   0%|          | 0/1 [00:00<?, ?it/s]"
     ]
    },
    {
     "name": "stdout",
     "output_type": "stream",
     "text": [
      "\r",
      "Upgrading database; v6 -> v7: 100%|██████████| 1/1 [00:00<00:00, 264.81it/s]"
     ]
    },
    {
     "name": "stdout",
     "output_type": "stream",
     "text": [
      "\n",
      "\r",
      "  0%|          | 0/1 [00:00<?, ?it/s]"
     ]
    },
    {
     "name": "stdout",
     "output_type": "stream",
     "text": [
      "\r",
      "Upgrading database; v7 -> v8:   0%|          | 0/1 [00:00<?, ?it/s]"
     ]
    },
    {
     "name": "stdout",
     "output_type": "stream",
     "text": [
      "\r",
      "Upgrading database; v7 -> v8: 100%|██████████| 1/1 [00:00<00:00, 969.78it/s]"
     ]
    },
    {
     "name": "stdout",
     "output_type": "stream",
     "text": [
      "\n",
      "\r",
      "  0%|          | 0/1 [00:00<?, ?it/s]"
     ]
    },
    {
     "name": "stdout",
     "output_type": "stream",
     "text": [
      "\r",
      "Upgrading database; v8 -> v9:   0%|          | 0/1 [00:00<?, ?it/s]"
     ]
    },
    {
     "name": "stdout",
     "output_type": "stream",
     "text": [
      "\r",
      "Upgrading database; v8 -> v9: 100%|██████████| 1/1 [00:00<00:00, 1195.30it/s]"
     ]
    },
    {
     "name": "stdout",
     "output_type": "stream",
     "text": [
      "\n"
     ]
    }
   ],
   "source": [
    "initialise_database()\n",
    "exp = load_or_create_experiment(experiment_name='tutorial_exp', sample_name=\"no sample\")"
   ]
  },
  {
   "cell_type": "markdown",
   "metadata": {},
   "source": [
    "Here, we define a simple function to benchmark the time it takes to insert n points with either numeric or array data type.\n",
    "We will compare both the time used to call ``add_result`` and the time used for the full measurement."
   ]
  },
  {
   "cell_type": "code",
   "execution_count": 4,
   "metadata": {
    "execution": {
     "iopub.execute_input": "2021-01-28T13:54:09.373065Z",
     "iopub.status.busy": "2021-01-28T13:54:09.371861Z",
     "iopub.status.idle": "2021-01-28T13:54:09.373684Z",
     "shell.execute_reply": "2021-01-28T13:54:09.374167Z"
    }
   },
   "outputs": [],
   "source": [
    "def insert_data(paramtype, npoints, nreps=1):\n",
    "\n",
    "    meas = Measurement(exp=exp)\n",
    "\n",
    "    x1 = ManualParameter('x1')\n",
    "    x2 = ManualParameter('x2')\n",
    "    x3 = ManualParameter('x3')\n",
    "    y1 = ManualParameter('y1')\n",
    "    y2 = ManualParameter('y2')\n",
    "\n",
    "    meas.register_parameter(x1, paramtype=paramtype)\n",
    "    meas.register_parameter(x2, paramtype=paramtype)\n",
    "    meas.register_parameter(x3, paramtype=paramtype)\n",
    "    meas.register_parameter(y1, setpoints=[x1, x2, x3],\n",
    "                            paramtype=paramtype)\n",
    "    meas.register_parameter(y2, setpoints=[x1, x2, x3],\n",
    "                            paramtype=paramtype)\n",
    "    start = time.perf_counter()\n",
    "    with meas.run() as datasaver:\n",
    "        start_adding = time.perf_counter()\n",
    "        for i in range(nreps):\n",
    "            datasaver.add_result((x1, np.random.rand(npoints)),\n",
    "                                 (x2, np.random.rand(npoints)),\n",
    "                                 (x3, np.random.rand(npoints)),\n",
    "                                 (y1, np.random.rand(npoints)),\n",
    "                                 (y2, np.random.rand(npoints)))\n",
    "        stop_adding = time.perf_counter()\n",
    "        run_id = datasaver.run_id\n",
    "    stop = time.perf_counter()\n",
    "    tot_time = stop - start\n",
    "    add_time = stop_adding - start_adding\n",
    "    return tot_time, add_time, run_id"
   ]
  },
  {
   "cell_type": "markdown",
   "metadata": {},
   "source": [
    "## Comparison between numeric/array data and binary blob"
   ]
  },
  {
   "cell_type": "markdown",
   "metadata": {},
   "source": [
    "### Case1: Short experiment time"
   ]
  },
  {
   "cell_type": "code",
   "execution_count": 5,
   "metadata": {
    "execution": {
     "iopub.execute_input": "2021-01-28T13:54:09.379881Z",
     "iopub.status.busy": "2021-01-28T13:54:09.378713Z",
     "iopub.status.idle": "2021-01-28T13:54:10.200425Z",
     "shell.execute_reply": "2021-01-28T13:54:10.200819Z"
    }
   },
   "outputs": [
    {
     "name": "stdout",
     "output_type": "stream",
     "text": [
      "Starting experimental run with id: 1. \n",
      "Starting experimental run with id: 2. \n",
      "Starting experimental run with id: 3. \n",
      "Starting experimental run with id: 4. \n",
      "Starting experimental run with id: 5. \n"
     ]
    },
    {
     "name": "stdout",
     "output_type": "stream",
     "text": [
      "Starting experimental run with id: 6. "
     ]
    },
    {
     "name": "stdout",
     "output_type": "stream",
     "text": [
      "\n"
     ]
    },
    {
     "name": "stdout",
     "output_type": "stream",
     "text": [
      "Starting experimental run with id: 7. \n"
     ]
    },
    {
     "name": "stdout",
     "output_type": "stream",
     "text": [
      "Starting experimental run with id: 8. \n",
      "Starting experimental run with id: 9. \n"
     ]
    },
    {
     "name": "stdout",
     "output_type": "stream",
     "text": [
      "Starting experimental run with id: 10. \n",
      "Starting experimental run with id: 11. \n"
     ]
    },
    {
     "name": "stdout",
     "output_type": "stream",
     "text": [
      "Starting experimental run with id: 12. \n",
      "Starting experimental run with id: 13. \n"
     ]
    },
    {
     "name": "stdout",
     "output_type": "stream",
     "text": [
      "Starting experimental run with id: 14. \n"
     ]
    }
   ],
   "source": [
    "sizes = [1,500,1000,2000,3000,4000,5000]\n",
    "t_numeric = []\n",
    "t_numeric_add = []\n",
    "t_array = []\n",
    "t_array_add = []\n",
    "for size in sizes:\n",
    "    tn, tna, run_id_n =  insert_data('numeric', size)\n",
    "    t_numeric.append(tn)\n",
    "    t_numeric_add.append(tna)\n",
    "\n",
    "    ta, taa, run_id_a =  insert_data('array', size)\n",
    "    t_array.append(ta)\n",
    "    t_array_add.append(taa)"
   ]
  },
  {
   "cell_type": "code",
   "execution_count": 6,
   "metadata": {
    "execution": {
     "iopub.execute_input": "2021-01-28T13:54:10.230854Z",
     "iopub.status.busy": "2021-01-28T13:54:10.206375Z",
     "iopub.status.idle": "2021-01-28T13:54:10.382963Z",
     "shell.execute_reply": "2021-01-28T13:54:10.383706Z"
    }
   },
   "outputs": [
    {
     "data": {
      "image/png": "[encoded data removed]",
      "text/plain": [
       "<Figure size 432x288 with 1 Axes>"
      ]
     },
     "metadata": {
      "needs_background": "light"
     },
     "output_type": "display_data"
    }
   ],
   "source": [
    "fig, ax = plt.subplots(1,1)\n",
    "ax.plot(sizes, t_numeric, 'o-', label='Inserting row-by-row')\n",
    "ax.plot(sizes, t_numeric_add, 'o-', label='Inserting row-by-row: add_result only')\n",
    "ax.plot(sizes, t_array, 'd-', label='Inserting as binary blob')\n",
    "ax.plot(sizes, t_array_add, 'd-', label='Inserting as binary blob: add_result only')\n",
    "ax.legend()\n",
    "ax.set_xlabel('Array length')\n",
    "ax.set_ylabel('Time (s)')\n",
    "fig.tight_layout()"
   ]
  },
  {
   "cell_type": "markdown",
   "metadata": {},
   "source": [
    "As shown in the latter figure, the time to setup and and close the experiment is approximately 0.4 sec. In case of small array sizes, the difference between inserting values of data as arrays and inserting them row-by-row is relatively unimportant. At larger array sizes, i.e. above 10000 points, the cost of writing data as individual datapoints starts to become important.\n"
   ]
  },
  {
   "cell_type": "markdown",
   "metadata": {},
   "source": [
    "### Case2: Long experiment time "
   ]
  },
  {
   "cell_type": "code",
   "execution_count": 7,
   "metadata": {
    "execution": {
     "iopub.execute_input": "2021-01-28T13:54:10.386506Z",
     "iopub.status.busy": "2021-01-28T13:54:10.385990Z",
     "iopub.status.idle": "2021-01-28T13:55:07.109577Z",
     "shell.execute_reply": "2021-01-28T13:55:07.110035Z"
    }
   },
   "outputs": [
    {
     "name": "stdout",
     "output_type": "stream",
     "text": [
      "Starting experimental run with id: 15. \n",
      "Starting experimental run with id: 16. \n",
      "Starting experimental run with id: 17. \n"
     ]
    },
    {
     "name": "stdout",
     "output_type": "stream",
     "text": [
      "Starting experimental run with id: 18. \n",
      "Starting experimental run with id: 19. \n"
     ]
    },
    {
     "name": "stdout",
     "output_type": "stream",
     "text": [
      "Starting experimental run with id: 20. \n"
     ]
    },
    {
     "name": "stdout",
     "output_type": "stream",
     "text": [
      "Starting experimental run with id: 21. \n"
     ]
    },
    {
     "name": "stdout",
     "output_type": "stream",
     "text": [
      "Starting experimental run with id: 22. \n"
     ]
    },
    {
     "name": "stdout",
     "output_type": "stream",
     "text": [
      "Starting experimental run with id: 23. \n"
     ]
    },
    {
     "name": "stdout",
     "output_type": "stream",
     "text": [
      "Starting experimental run with id: 24. \n"
     ]
    },
    {
     "name": "stdout",
     "output_type": "stream",
     "text": [
      "Starting experimental run with id: 25. \n"
     ]
    },
    {
     "name": "stdout",
     "output_type": "stream",
     "text": [
      "Starting experimental run with id: 26. \n"
     ]
    },
    {
     "name": "stdout",
     "output_type": "stream",
     "text": [
      "Starting experimental run with id: 27. \n"
     ]
    },
    {
     "name": "stdout",
     "output_type": "stream",
     "text": [
      "Starting experimental run with id: 28. \n"
     ]
    }
   ],
   "source": [
    "sizes = [1,500,1000,2000,3000,4000,5000]\n",
    "nreps = 100\n",
    "t_numeric = []\n",
    "t_numeric_add = []\n",
    "t_numeric_run_ids = []\n",
    "t_array = []\n",
    "t_array_add = []\n",
    "t_array_run_ids = []\n",
    "for size in sizes:\n",
    "    tn, tna, run_id_n =  insert_data('numeric', size, nreps=nreps)\n",
    "    t_numeric.append(tn)\n",
    "    t_numeric_add.append(tna)\n",
    "    t_numeric_run_ids.append(run_id_n)\n",
    "\n",
    "    ta, taa, run_id_a =  insert_data('array', size, nreps=nreps)\n",
    "    t_array.append(ta)\n",
    "    t_array_add.append(taa)\n",
    "    t_array_run_ids.append(run_id_a)"
   ]
  },
  {
   "cell_type": "code",
   "execution_count": 8,
   "metadata": {
    "execution": {
     "iopub.execute_input": "2021-01-28T13:55:07.133642Z",
     "iopub.status.busy": "2021-01-28T13:55:07.115180Z",
     "iopub.status.idle": "2021-01-28T13:55:07.299222Z",
     "shell.execute_reply": "2021-01-28T13:55:07.299661Z"
    },
    "scrolled": true
   },
   "outputs": [
    {
     "data": {
      "image/png": "[encoded data removed]",
      "text/plain": [
       "<Figure size 432x288 with 1 Axes>"
      ]
     },
     "metadata": {
      "needs_background": "light"
     },
     "output_type": "display_data"
    }
   ],
   "source": [
    "fig, ax = plt.subplots(1,1)\n",
    "ax.plot(sizes, t_numeric, 'o-', label='Inserting row-by-row')\n",
    "ax.plot(sizes, t_numeric_add, 'o-', label='Inserting row-by-row: add_result only')\n",
    "ax.plot(sizes, t_array, 'd-', label='Inserting as binary blob')\n",
    "ax.plot(sizes, t_array_add, 'd-', label='Inserting as binary blob: add_result only')\n",
    "ax.legend()\n",
    "ax.set_xlabel('Array length')\n",
    "ax.set_ylabel('Time (s)')\n",
    "fig.tight_layout()"
   ]
  },
  {
   "cell_type": "markdown",
   "metadata": {},
   "source": [
    "However, as we increase the length of the experiment, as seen here by repeating the insertion 100 times, we see a big difference between inserting values of the data row-by-row and inserting it as a binary blob."
   ]
  },
  {
   "cell_type": "markdown",
   "metadata": {},
   "source": [
    "## Loading the data "
   ]
  },
  {
   "cell_type": "code",
   "execution_count": 9,
   "metadata": {
    "execution": {
     "iopub.execute_input": "2021-01-28T13:55:07.302271Z",
     "iopub.status.busy": "2021-01-28T13:55:07.301727Z",
     "iopub.status.idle": "2021-01-28T13:55:07.305043Z",
     "shell.execute_reply": "2021-01-28T13:55:07.305557Z"
    }
   },
   "outputs": [],
   "source": [
    "from qcodes.dataset.data_set import load_by_id\n",
    "from qcodes.dataset.data_export import get_data_by_id"
   ]
  },
  {
   "cell_type": "markdown",
   "metadata": {},
   "source": [
    "As usual you can load the data by using the ``load_by_id`` function but you will notice that the different storage methods\n",
    "are reflected in shape of the data as it is retrieved. "
   ]
  },
  {
   "cell_type": "code",
   "execution_count": 10,
   "metadata": {
    "execution": {
     "iopub.execute_input": "2021-01-28T13:55:07.307983Z",
     "iopub.status.busy": "2021-01-28T13:55:07.307465Z",
     "iopub.status.idle": "2021-01-28T13:55:07.310970Z",
     "shell.execute_reply": "2021-01-28T13:55:07.310527Z"
    }
   },
   "outputs": [],
   "source": [
    "run_id_n = t_numeric_run_ids[0]\n",
    "run_id_a = t_array_run_ids[0]"
   ]
  },
  {
   "cell_type": "code",
   "execution_count": 11,
   "metadata": {
    "execution": {
     "iopub.execute_input": "2021-01-28T13:55:07.314173Z",
     "iopub.status.busy": "2021-01-28T13:55:07.313607Z",
     "iopub.status.idle": "2021-01-28T13:55:07.322933Z",
     "shell.execute_reply": "2021-01-28T13:55:07.322494Z"
    },
    "scrolled": true
   },
   "outputs": [
    {
     "data": {
      "text/plain": [
       "{'x1': {'x1': array([6.48429519e-01, 6.48429519e-01, 1.37337142e-01, 1.37337142e-01,\n",
       "         6.33556680e-01, 6.33556680e-01, 1.66868240e-01, 1.66868240e-01,\n",
       "         4.38212631e-01, 4.38212631e-01, 2.54681057e-01, 2.54681057e-01,\n",
       "         6.25511073e-01, 6.25511073e-01, 4.95390391e-01, 4.95390391e-01,\n",
       "         8.35027531e-01, 8.35027531e-01, 9.01126921e-01, 9.01126921e-01,\n",
       "         9.39471569e-01, 9.39471569e-01, 5.93362287e-02, 5.93362287e-02,\n",
       "         3.34603998e-01, 3.34603998e-01, 9.23601526e-01, 9.23601526e-01,\n",
       "         3.26280195e-01, 3.26280195e-01, 5.42588225e-01, 5.42588225e-01,\n",
       "         3.70287182e-01, 3.70287182e-01, 4.40288701e-01, 4.40288701e-01,\n",
       "         2.17051122e-01, 2.17051122e-01, 4.43760427e-01, 4.43760427e-01,\n",
       "         9.00423533e-01, 9.00423533e-01, 6.11928564e-01, 6.11928564e-01,\n",
       "         1.66183390e-01, 1.66183390e-01, 2.56604740e-01, 2.56604740e-01,\n",
       "         3.41754033e-01, 3.41754033e-01, 4.31132729e-01, 4.31132729e-01,\n",
       "         5.77352411e-01, 5.77352411e-01, 3.44457233e-02, 3.44457233e-02,\n",
       "         1.37683826e-01, 1.37683826e-01, 4.85610588e-01, 4.85610588e-01,\n",
       "         3.04035759e-01, 3.04035759e-01, 9.52694777e-02, 9.52694777e-02,\n",
       "         8.51097527e-01, 8.51097527e-01, 6.39989276e-01, 6.39989276e-01,\n",
       "         9.99843245e-01, 9.99843245e-01, 9.44629139e-01, 9.44629139e-01,\n",
       "         1.48111040e-01, 1.48111040e-01, 8.90703140e-01, 8.90703140e-01,\n",
       "         9.89485520e-02, 9.89485520e-02, 8.16802232e-01, 8.16802232e-01,\n",
       "         8.37699136e-01, 8.37699136e-01, 3.20338917e-01, 3.20338917e-01,\n",
       "         7.38568058e-01, 7.38568058e-01, 8.31687454e-01, 8.31687454e-01,\n",
       "         6.66455176e-01, 6.66455176e-01, 7.04958013e-05, 7.04958013e-05,\n",
       "         8.17841833e-01, 8.17841833e-01, 1.42721709e-02, 1.42721709e-02,\n",
       "         4.81150299e-01, 4.81150299e-01, 9.20946838e-01, 9.20946838e-01,\n",
       "         4.79899537e-01, 4.79899537e-01, 8.33189693e-01, 8.33189693e-01,\n",
       "         1.65360423e-01, 1.65360423e-01, 9.93681749e-01, 9.93681749e-01,\n",
       "         5.26699642e-01, 5.26699642e-01, 9.09714073e-01, 9.09714073e-01,\n",
       "         9.26088515e-01, 9.26088515e-01, 3.94158887e-01, 3.94158887e-01,\n",
       "         9.24340107e-01, 9.24340107e-01, 6.00286715e-01, 6.00286715e-01,\n",
       "         9.14950975e-03, 9.14950975e-03, 3.41825581e-01, 3.41825581e-01,\n",
       "         5.89605532e-01, 5.89605532e-01, 9.55404396e-01, 9.55404396e-01,\n",
       "         6.54279585e-01, 6.54279585e-01, 5.12611598e-01, 5.12611598e-01,\n",
       "         1.05376786e-01, 1.05376786e-01, 7.47550086e-01, 7.47550086e-01,\n",
       "         9.09723316e-01, 9.09723316e-01, 1.44713483e-01, 1.44713483e-01,\n",
       "         9.02646203e-01, 9.02646203e-01, 9.40091954e-01, 9.40091954e-01,\n",
       "         3.24939433e-01, 3.24939433e-01, 8.15411007e-01, 8.15411007e-01,\n",
       "         7.06378556e-01, 7.06378556e-01, 5.92615885e-01, 5.92615885e-01,\n",
       "         4.56055469e-02, 4.56055469e-02, 2.77429735e-01, 2.77429735e-01,\n",
       "         2.37765540e-01, 2.37765540e-01, 3.87161899e-01, 3.87161899e-01,\n",
       "         5.00026324e-01, 5.00026324e-01, 2.69167436e-01, 2.69167436e-01,\n",
       "         5.99577880e-02, 5.99577880e-02, 6.22726408e-01, 6.22726408e-01,\n",
       "         8.78740723e-01, 8.78740723e-01, 1.26373875e-01, 1.26373875e-01,\n",
       "         9.12499277e-01, 9.12499277e-01, 3.16707913e-01, 3.16707913e-01,\n",
       "         1.40541623e-02, 1.40541623e-02, 8.72544197e-01, 8.72544197e-01,\n",
       "         8.31342832e-01, 8.31342832e-01, 8.74965822e-01, 8.74965822e-01,\n",
       "         4.57863847e-01, 4.57863847e-01, 8.38571628e-02, 8.38571628e-02,\n",
       "         5.96921412e-01, 5.96921412e-01, 5.32768057e-01, 5.32768057e-01,\n",
       "         5.97820463e-01, 5.97820463e-01, 5.68038599e-01, 5.68038599e-01,\n",
       "         9.35735008e-01, 9.35735008e-01, 3.98527408e-01, 3.98527408e-01])}}"
      ]
     },
     "execution_count": 1,
     "metadata": {},
     "output_type": "execute_result"
    }
   ],
   "source": [
    "ds = load_by_id(run_id_n)\n",
    "ds.get_parameter_data('x1')"
   ]
  },
  {
   "cell_type": "markdown",
   "metadata": {},
   "source": [
    "And a dataset stored as binary arrays"
   ]
  },
  {
   "cell_type": "code",
   "execution_count": 12,
   "metadata": {
    "execution": {
     "iopub.execute_input": "2021-01-28T13:55:07.326125Z",
     "iopub.status.busy": "2021-01-28T13:55:07.325577Z",
     "iopub.status.idle": "2021-01-28T13:55:07.379763Z",
     "shell.execute_reply": "2021-01-28T13:55:07.380553Z"
    },
    "scrolled": true
   },
   "outputs": [
    {
     "data": {
      "text/plain": [
       "{'x1': {'x1': array([[0.27862379],\n",
       "         [0.27862379],\n",
       "         [0.04772958],\n",
       "         [0.04772958],\n",
       "         [0.90367687],\n",
       "         [0.90367687],\n",
       "         [0.69593148],\n",
       "         [0.69593148],\n",
       "         [0.61969246],\n",
       "         [0.61969246],\n",
       "         [0.57182222],\n",
       "         [0.57182222],\n",
       "         [0.01016697],\n",
       "         [0.01016697],\n",
       "         [0.32749024],\n",
       "         [0.32749024],\n",
       "         [0.74336375],\n",
       "         [0.74336375],\n",
       "         [0.45422635],\n",
       "         [0.45422635],\n",
       "         [0.13889086],\n",
       "         [0.13889086],\n",
       "         [0.34318657],\n",
       "         [0.34318657],\n",
       "         [0.86722927],\n",
       "         [0.86722927],\n",
       "         [0.48279669],\n",
       "         [0.48279669],\n",
       "         [0.34497819],\n",
       "         [0.34497819],\n",
       "         [0.89590017],\n",
       "         [0.89590017],\n",
       "         [0.42631308],\n",
       "         [0.42631308],\n",
       "         [0.17471172],\n",
       "         [0.17471172],\n",
       "         [0.7670185 ],\n",
       "         [0.7670185 ],\n",
       "         [0.09536553],\n",
       "         [0.09536553],\n",
       "         [0.46100573],\n",
       "         [0.46100573],\n",
       "         [0.13863365],\n",
       "         [0.13863365],\n",
       "         [0.66440616],\n",
       "         [0.66440616],\n",
       "         [0.4909697 ],\n",
       "         [0.4909697 ],\n",
       "         [0.86435634],\n",
       "         [0.86435634],\n",
       "         [0.86623011],\n",
       "         [0.86623011],\n",
       "         [0.85138652],\n",
       "         [0.85138652],\n",
       "         [0.08545361],\n",
       "         [0.08545361],\n",
       "         [0.07693502],\n",
       "         [0.07693502],\n",
       "         [0.27267583],\n",
       "         [0.27267583],\n",
       "         [0.46219248],\n",
       "         [0.46219248],\n",
       "         [0.74891362],\n",
       "         [0.74891362],\n",
       "         [0.56305104],\n",
       "         [0.56305104],\n",
       "         [0.64279199],\n",
       "         [0.64279199],\n",
       "         [0.64131825],\n",
       "         [0.64131825],\n",
       "         [0.4387678 ],\n",
       "         [0.4387678 ],\n",
       "         [0.92179351],\n",
       "         [0.92179351],\n",
       "         [0.84094984],\n",
       "         [0.84094984],\n",
       "         [0.1094494 ],\n",
       "         [0.1094494 ],\n",
       "         [0.08712449],\n",
       "         [0.08712449],\n",
       "         [0.30990864],\n",
       "         [0.30990864],\n",
       "         [0.40265589],\n",
       "         [0.40265589],\n",
       "         [0.71901479],\n",
       "         [0.71901479],\n",
       "         [0.5922797 ],\n",
       "         [0.5922797 ],\n",
       "         [0.8484587 ],\n",
       "         [0.8484587 ],\n",
       "         [0.93488972],\n",
       "         [0.93488972],\n",
       "         [0.2708646 ],\n",
       "         [0.2708646 ],\n",
       "         [0.81587194],\n",
       "         [0.81587194],\n",
       "         [0.20656932],\n",
       "         [0.20656932],\n",
       "         [0.17053659],\n",
       "         [0.17053659],\n",
       "         [0.98672321],\n",
       "         [0.98672321],\n",
       "         [0.03732903],\n",
       "         [0.03732903],\n",
       "         [0.92131795],\n",
       "         [0.92131795],\n",
       "         [0.03681109],\n",
       "         [0.03681109],\n",
       "         [0.65877232],\n",
       "         [0.65877232],\n",
       "         [0.33032483],\n",
       "         [0.33032483],\n",
       "         [0.68275057],\n",
       "         [0.68275057],\n",
       "         [0.30873424],\n",
       "         [0.30873424],\n",
       "         [0.79826011],\n",
       "         [0.79826011],\n",
       "         [0.88880287],\n",
       "         [0.88880287],\n",
       "         [0.39619515],\n",
       "         [0.39619515],\n",
       "         [0.78657155],\n",
       "         [0.78657155],\n",
       "         [0.90120844],\n",
       "         [0.90120844],\n",
       "         [0.28980178],\n",
       "         [0.28980178],\n",
       "         [0.12731997],\n",
       "         [0.12731997],\n",
       "         [0.62874232],\n",
       "         [0.62874232],\n",
       "         [0.54391244],\n",
       "         [0.54391244],\n",
       "         [0.1599731 ],\n",
       "         [0.1599731 ],\n",
       "         [0.55060464],\n",
       "         [0.55060464],\n",
       "         [0.9676194 ],\n",
       "         [0.9676194 ],\n",
       "         [0.7148292 ],\n",
       "         [0.7148292 ],\n",
       "         [0.34180883],\n",
       "         [0.34180883],\n",
       "         [0.95730625],\n",
       "         [0.95730625],\n",
       "         [0.91243097],\n",
       "         [0.91243097],\n",
       "         [0.07464369],\n",
       "         [0.07464369],\n",
       "         [0.20147418],\n",
       "         [0.20147418],\n",
       "         [0.78520526],\n",
       "         [0.78520526],\n",
       "         [0.62254322],\n",
       "         [0.62254322],\n",
       "         [0.64739846],\n",
       "         [0.64739846],\n",
       "         [0.67936045],\n",
       "         [0.67936045],\n",
       "         [0.52383926],\n",
       "         [0.52383926],\n",
       "         [0.12582132],\n",
       "         [0.12582132],\n",
       "         [0.37571833],\n",
       "         [0.37571833],\n",
       "         [0.40215187],\n",
       "         [0.40215187],\n",
       "         [0.342133  ],\n",
       "         [0.342133  ],\n",
       "         [0.879644  ],\n",
       "         [0.879644  ],\n",
       "         [0.68108616],\n",
       "         [0.68108616],\n",
       "         [0.77560672],\n",
       "         [0.77560672],\n",
       "         [0.81088721],\n",
       "         [0.81088721],\n",
       "         [0.54778358],\n",
       "         [0.54778358],\n",
       "         [0.70853293],\n",
       "         [0.70853293],\n",
       "         [0.92943839],\n",
       "         [0.92943839],\n",
       "         [0.63843962],\n",
       "         [0.63843962],\n",
       "         [0.71881261],\n",
       "         [0.71881261],\n",
       "         [0.3779696 ],\n",
       "         [0.3779696 ],\n",
       "         [0.65160437],\n",
       "         [0.65160437],\n",
       "         [0.10579441],\n",
       "         [0.10579441],\n",
       "         [0.63491648],\n",
       "         [0.63491648],\n",
       "         [0.01448368],\n",
       "         [0.01448368],\n",
       "         [0.1270141 ],\n",
       "         [0.1270141 ]])}}"
      ]
     },
     "execution_count": 1,
     "metadata": {},
     "output_type": "execute_result"
    }
   ],
   "source": [
    "ds = load_by_id(run_id_a)\n",
    "ds.get_parameter_data('x1')"
   ]
  },
  {
   "cell_type": "code",
   "execution_count": null,
   "metadata": {},
   "outputs": [],
   "source": []
  }
 ],
 "metadata": {
  "kernelspec": {
   "display_name": "Python 3",
   "language": "python",
   "name": "python3"
  },
  "language_info": {
   "codemirror_mode": {
    "name": "ipython",
    "version": 3
   },
   "file_extension": ".py",
   "mimetype": "text/x-python",
   "name": "python",
   "nbconvert_exporter": "python",
   "pygments_lexer": "ipython3",
   "version": "3.7.9"
  },
  "nbsphinx": {
   "timeout": 600
  },
  "toc": {
   "base_numbering": 1,
   "nav_menu": {},
   "number_sections": true,
   "sideBar": true,
   "skip_h1_title": false,
   "title_cell": "Table of Contents",
   "title_sidebar": "Contents",
   "toc_cell": false,
   "toc_position": {},
   "toc_section_display": true,
   "toc_window_display": false
  },
  "varInspector": {
   "cols": {
    "lenName": 16,
    "lenType": 16,
    "lenVar": 40
   },
   "kernels_config": {
    "python": {
     "delete_cmd_postfix": "",
     "delete_cmd_prefix": "del ",
     "library": "var_list.py",
     "varRefreshCmd": "print(var_dic_list())"
    },
    "r": {
     "delete_cmd_postfix": ") ",
     "delete_cmd_prefix": "rm(",
     "library": "var_list.r",
     "varRefreshCmd": "cat(var_dic_list()) "
    }
   },
   "types_to_exclude": [
    "module",
    "function",
    "builtin_function_or_method",
    "instance",
    "_Feature"
   ],
   "window_display": false
  }
 },
 "nbformat": 4,
 "nbformat_minor": 2
}
