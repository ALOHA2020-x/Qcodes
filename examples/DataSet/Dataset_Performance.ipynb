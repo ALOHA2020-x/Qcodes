{
 "cells": [
  {
   "cell_type": "markdown",
   "metadata": {},
   "source": [
    "# DataSet Performance\n",
    "\n",
    "This notebook shows the trade-off between inserting data into a database row-by-row and as binary blobs. Inserting the data row-by-row means that we have direct access to all the data and may perform queries directly on the values of the data. On the other hand, as we shall see, this is much slower than inserting the data directly as binary blobs."
   ]
  },
  {
   "cell_type": "markdown",
   "metadata": {},
   "source": [
    "First, we choose a new location for the database to ensure that we don't add a bunch of benchmarking data to the default one."
   ]
  },
  {
   "cell_type": "code",
   "execution_count": 1,
   "metadata": {},
   "outputs": [
    {
     "name": "stdout",
     "output_type": "stream",
     "text": [
      "Logging hadn't been started.\n",
      "Activating auto-logging. Current session state plus future input saved.\n",
      "Filename       : /home/vsts/.qcodes/logs/command_history.log\n",
      "Mode           : append\n",
      "Output logging : True\n",
      "Raw input log  : False\n",
      "Timestamping   : True\n",
      "State          : active\n"
     ]
    },
    {
     "name": "stdout",
     "output_type": "stream",
     "text": [
      "Qcodes Logfile : /home/vsts/.qcodes/logs/200609-20359-qcodes.log\n"
     ]
    }
   ],
   "source": [
    "import os\n",
    "cwd = os.getcwd()\n",
    "import qcodes as qc\n",
    "qc.config[\"core\"][\"db_location\"] = os.path.join(cwd, 'testing.db')\n"
   ]
  },
  {
   "cell_type": "code",
   "execution_count": 2,
   "metadata": {},
   "outputs": [],
   "source": [
    "%matplotlib inline\n",
    "import time\n",
    "import matplotlib.pyplot as plt\n",
    "import numpy as np\n",
    "\n",
    "import qcodes as qc\n",
    "from qcodes.instrument.parameter import ManualParameter\n",
    "from qcodes.dataset.experiment_container import (Experiment,\n",
    "                                                 load_last_experiment,\n",
    "                                                 new_experiment)\n",
    "from qcodes.dataset.sqlite.database import initialise_database\n",
    "from qcodes import load_or_create_experiment\n",
    "from qcodes.dataset.measurements import Measurement"
   ]
  },
  {
   "cell_type": "code",
   "execution_count": 3,
   "metadata": {},
   "outputs": [
    {
     "name": "stdout",
     "output_type": "stream",
     "text": [
      "\r",
      "0it [00:00, ?it/s]"
     ]
    },
    {
     "name": "stdout",
     "output_type": "stream",
     "text": [
      "\r",
      "Upgrading database; v0 -> v1: : 0it [00:00, ?it/s]"
     ]
    },
    {
     "name": "stdout",
     "output_type": "stream",
     "text": [
      "\r",
      "Upgrading database; v0 -> v1: : 0it [00:00, ?it/s]"
     ]
    },
    {
     "name": "stdout",
     "output_type": "stream",
     "text": [
      "\n",
      "\r",
      "  0%|          | 0/1 [00:00<?, ?it/s]"
     ]
    },
    {
     "name": "stdout",
     "output_type": "stream",
     "text": [
      "\r",
      "Upgrading database; v1 -> v2:   0%|          | 0/1 [00:00<?, ?it/s]"
     ]
    },
    {
     "name": "stdout",
     "output_type": "stream",
     "text": [
      "\r",
      "Upgrading database; v1 -> v2: 100%|██████████| 1/1 [00:00<00:00, 789.14it/s]"
     ]
    },
    {
     "name": "stdout",
     "output_type": "stream",
     "text": [
      "\n",
      "\r",
      "0it [00:00, ?it/s]"
     ]
    },
    {
     "name": "stdout",
     "output_type": "stream",
     "text": [
      "\r",
      "Upgrading database; v2 -> v3: : 0it [00:00, ?it/s]"
     ]
    },
    {
     "name": "stdout",
     "output_type": "stream",
     "text": [
      "\r",
      "Upgrading database; v2 -> v3: : 0it [00:00, ?it/s]"
     ]
    },
    {
     "name": "stdout",
     "output_type": "stream",
     "text": [
      "\n",
      "\r",
      "0it [00:00, ?it/s]"
     ]
    },
    {
     "name": "stdout",
     "output_type": "stream",
     "text": [
      "\r",
      "Upgrading database; v3 -> v4: : 0it [00:00, ?it/s]"
     ]
    },
    {
     "name": "stdout",
     "output_type": "stream",
     "text": [
      "\r",
      "Upgrading database; v3 -> v4: : 0it [00:00, ?it/s]"
     ]
    },
    {
     "name": "stdout",
     "output_type": "stream",
     "text": [
      "\n",
      "\r",
      "  0%|          | 0/1 [00:00<?, ?it/s]"
     ]
    },
    {
     "name": "stdout",
     "output_type": "stream",
     "text": [
      "\r",
      "Upgrading database; v4 -> v5:   0%|          | 0/1 [00:00<?, ?it/s]"
     ]
    },
    {
     "name": "stdout",
     "output_type": "stream",
     "text": [
      "\r",
      "Upgrading database; v4 -> v5: 100%|██████████| 1/1 [00:00<00:00, 749.92it/s]"
     ]
    },
    {
     "name": "stdout",
     "output_type": "stream",
     "text": [
      "\n",
      "\r",
      "0it [00:00, ?it/s]"
     ]
    },
    {
     "name": "stdout",
     "output_type": "stream",
     "text": [
      "\r",
      "Upgrading database; v5 -> v6: : 0it [00:00, ?it/s]"
     ]
    },
    {
     "name": "stdout",
     "output_type": "stream",
     "text": [
      "\r",
      "Upgrading database; v5 -> v6: : 0it [00:00, ?it/s]"
     ]
    },
    {
     "name": "stdout",
     "output_type": "stream",
     "text": [
      "\n",
      "\r",
      "  0%|          | 0/1 [00:00<?, ?it/s]"
     ]
    },
    {
     "name": "stdout",
     "output_type": "stream",
     "text": [
      "\r",
      "Upgrading database; v6 -> v7:   0%|          | 0/1 [00:00<?, ?it/s]"
     ]
    },
    {
     "name": "stdout",
     "output_type": "stream",
     "text": [
      "\r",
      "Upgrading database; v6 -> v7: 100%|██████████| 1/1 [00:00<00:00, 56.38it/s]"
     ]
    },
    {
     "name": "stdout",
     "output_type": "stream",
     "text": [
      "\n",
      "\r",
      "  0%|          | 0/1 [00:00<?, ?it/s]"
     ]
    },
    {
     "name": "stdout",
     "output_type": "stream",
     "text": [
      "\r",
      "Upgrading database; v7 -> v8:   0%|          | 0/1 [00:00<?, ?it/s]"
     ]
    },
    {
     "name": "stdout",
     "output_type": "stream",
     "text": [
      "\r",
      "Upgrading database; v7 -> v8: 100%|██████████| 1/1 [00:00<00:00, 772.86it/s]"
     ]
    },
    {
     "name": "stdout",
     "output_type": "stream",
     "text": [
      "\n"
     ]
    },
    {
     "name": "stdout",
     "output_type": "stream",
     "text": [
      "\r",
      "  0%|          | 0/1 [00:00<?, ?it/s]"
     ]
    },
    {
     "name": "stdout",
     "output_type": "stream",
     "text": [
      "\r",
      "Upgrading database; v8 -> v9:   0%|          | 0/1 [00:00<?, ?it/s]"
     ]
    },
    {
     "name": "stdout",
     "output_type": "stream",
     "text": [
      "\r",
      "Upgrading database; v8 -> v9: 100%|██████████| 1/1 [00:00<00:00, 980.44it/s]"
     ]
    },
    {
     "name": "stdout",
     "output_type": "stream",
     "text": [
      "\n"
     ]
    }
   ],
   "source": [
    "initialise_database()\n",
    "exp = load_or_create_experiment(experiment_name='tutorial_exp', sample_name=\"no sample\")"
   ]
  },
  {
   "cell_type": "markdown",
   "metadata": {},
   "source": [
    "Here, we define a simple function to benchmark the time it takes to insert n points with either numeric or array data type.\n",
    "We will compare both the time used to call ``add_result`` and the time used for the full measurement."
   ]
  },
  {
   "cell_type": "code",
   "execution_count": 4,
   "metadata": {},
   "outputs": [],
   "source": [
    "def insert_data(paramtype, npoints, nreps=1):\n",
    "\n",
    "    meas = Measurement(exp=exp)\n",
    "\n",
    "    x1 = ManualParameter('x1')\n",
    "    x2 = ManualParameter('x2')\n",
    "    x3 = ManualParameter('x3')\n",
    "    y1 = ManualParameter('y1')\n",
    "    y2 = ManualParameter('y2')\n",
    "\n",
    "    meas.register_parameter(x1, paramtype=paramtype)\n",
    "    meas.register_parameter(x2, paramtype=paramtype)\n",
    "    meas.register_parameter(x3, paramtype=paramtype)\n",
    "    meas.register_parameter(y1, setpoints=[x1, x2, x3],\n",
    "                            paramtype=paramtype)\n",
    "    meas.register_parameter(y2, setpoints=[x1, x2, x3],\n",
    "                            paramtype=paramtype)\n",
    "    start = time.perf_counter()\n",
    "    with meas.run() as datasaver:\n",
    "        start_adding = time.perf_counter()\n",
    "        for i in range(nreps):\n",
    "            datasaver.add_result((x1, np.random.rand(npoints)),\n",
    "                                 (x2, np.random.rand(npoints)),\n",
    "                                 (x3, np.random.rand(npoints)),\n",
    "                                 (y1, np.random.rand(npoints)),\n",
    "                                 (y2, np.random.rand(npoints)))\n",
    "        stop_adding = time.perf_counter()\n",
    "        run_id = datasaver.run_id\n",
    "    stop = time.perf_counter()\n",
    "    tot_time = stop - start\n",
    "    add_time = stop_adding - start_adding\n",
    "    return tot_time, add_time, run_id"
   ]
  },
  {
   "cell_type": "markdown",
   "metadata": {},
   "source": [
    "## Comparison between numeric/array data and binary blob"
   ]
  },
  {
   "cell_type": "markdown",
   "metadata": {},
   "source": [
    "### Case1: Short experiment time"
   ]
  },
  {
   "cell_type": "code",
   "execution_count": 5,
   "metadata": {},
   "outputs": [
    {
     "name": "stdout",
     "output_type": "stream",
     "text": [
      "Starting experimental run with id: 1. \n"
     ]
    },
    {
     "name": "stdout",
     "output_type": "stream",
     "text": [
      "Starting experimental run with id: 2. \n",
      "Starting experimental run with id: 3. \n"
     ]
    },
    {
     "name": "stdout",
     "output_type": "stream",
     "text": [
      "Starting experimental run with id: 4. \n"
     ]
    },
    {
     "name": "stdout",
     "output_type": "stream",
     "text": [
      "Starting experimental run with id: 5. \n",
      "Starting experimental run with id: 6. \n"
     ]
    },
    {
     "name": "stdout",
     "output_type": "stream",
     "text": [
      "Starting experimental run with id: 7. \n",
      "Starting experimental run with id: 8. \n"
     ]
    },
    {
     "name": "stdout",
     "output_type": "stream",
     "text": [
      "Starting experimental run with id: 9. \n",
      "Starting experimental run with id: 10. \n"
     ]
    },
    {
     "name": "stdout",
     "output_type": "stream",
     "text": [
      "Starting experimental run with id: 11. \n"
     ]
    },
    {
     "name": "stdout",
     "output_type": "stream",
     "text": [
      "Starting experimental run with id: 12. \n",
      "Starting experimental run with id: 13. \n"
     ]
    },
    {
     "name": "stdout",
     "output_type": "stream",
     "text": [
      "Starting experimental run with id: 14. \n"
     ]
    }
   ],
   "source": [
    "sizes = [1,500,1000,2000,3000,4000,5000]\n",
    "t_numeric = []\n",
    "t_numeric_add = []\n",
    "t_array = []\n",
    "t_array_add = []\n",
    "for size in sizes:\n",
    "    tn, tna, run_id_n =  insert_data('numeric', size)\n",
    "    t_numeric.append(tn)\n",
    "    t_numeric_add.append(tna)\n",
    "\n",
    "    ta, taa, run_id_a =  insert_data('array', size)\n",
    "    t_array.append(ta)\n",
    "    t_array_add.append(taa)"
   ]
  },
  {
   "cell_type": "code",
   "execution_count": 6,
   "metadata": {},
   "outputs": [
    {
     "data": {
      "image/png": "[encoded data removed]",
      "text/plain": [
       "<Figure size 432x288 with 1 Axes>"
      ]
     },
     "metadata": {
      "needs_background": "light"
     },
     "output_type": "display_data"
    }
   ],
   "source": [
    "fig, ax = plt.subplots(1,1)\n",
    "ax.plot(sizes, t_numeric, 'o-', label='Inserting row-by-row')\n",
    "ax.plot(sizes, t_numeric_add, 'o-', label='Inserting row-by-row: add_result only')\n",
    "ax.plot(sizes, t_array, 'd-', label='Inserting as binary blob')\n",
    "ax.plot(sizes, t_array_add, 'd-', label='Inserting as binary blob: add_result only')\n",
    "ax.legend()\n",
    "ax.set_xlabel('Array length')\n",
    "ax.set_ylabel('Time (s)')\n",
    "fig.tight_layout()"
   ]
  },
  {
   "cell_type": "markdown",
   "metadata": {},
   "source": [
    "As shown in the latter figure, the time to setup and and close the experiment is approximately 0.4 sec. In case of small array sizes, the difference between inserting values of data as arrays and inserting them row-by-row is relatively unimportant. At larger array sizes, i.e. above 10000 points, the cost of writing data as individual datapoints starts to become important.\n"
   ]
  },
  {
   "cell_type": "markdown",
   "metadata": {},
   "source": [
    "### Case2: Long experiment time "
   ]
  },
  {
   "cell_type": "code",
   "execution_count": 7,
   "metadata": {},
   "outputs": [
    {
     "name": "stdout",
     "output_type": "stream",
     "text": [
      "Starting experimental run with id: 15. \n",
      "Starting experimental run with id: 16. \n"
     ]
    },
    {
     "name": "stdout",
     "output_type": "stream",
     "text": [
      "Starting experimental run with id: 17. \n"
     ]
    },
    {
     "name": "stdout",
     "output_type": "stream",
     "text": [
      "Starting experimental run with id: 18. \n"
     ]
    },
    {
     "name": "stdout",
     "output_type": "stream",
     "text": [
      "Starting experimental run with id: 19. \n"
     ]
    },
    {
     "name": "stdout",
     "output_type": "stream",
     "text": [
      "Starting experimental run with id: 20. \n"
     ]
    },
    {
     "name": "stdout",
     "output_type": "stream",
     "text": [
      "Starting experimental run with id: 21. \n"
     ]
    },
    {
     "name": "stdout",
     "output_type": "stream",
     "text": [
      "Starting experimental run with id: 22. \n"
     ]
    },
    {
     "name": "stdout",
     "output_type": "stream",
     "text": [
      "Starting experimental run with id: 23. \n"
     ]
    },
    {
     "name": "stdout",
     "output_type": "stream",
     "text": [
      "Starting experimental run with id: 24. \n"
     ]
    },
    {
     "name": "stdout",
     "output_type": "stream",
     "text": [
      "Starting experimental run with id: 25. \n"
     ]
    },
    {
     "name": "stdout",
     "output_type": "stream",
     "text": [
      "Starting experimental run with id: 26. \n"
     ]
    },
    {
     "name": "stdout",
     "output_type": "stream",
     "text": [
      "Starting experimental run with id: 27. \n"
     ]
    },
    {
     "name": "stdout",
     "output_type": "stream",
     "text": [
      "Starting experimental run with id: 28. \n"
     ]
    }
   ],
   "source": [
    "sizes = [1,500,1000,2000,3000,4000,5000]\n",
    "nreps = 100\n",
    "t_numeric = []\n",
    "t_numeric_add = []\n",
    "t_numeric_run_ids = []\n",
    "t_array = []\n",
    "t_array_add = []\n",
    "t_array_run_ids = []\n",
    "for size in sizes:\n",
    "    tn, tna, run_id_n =  insert_data('numeric', size, nreps=nreps)\n",
    "    t_numeric.append(tn)\n",
    "    t_numeric_add.append(tna)\n",
    "    t_numeric_run_ids.append(run_id_n)\n",
    "\n",
    "    ta, taa, run_id_a =  insert_data('array', size, nreps=nreps)\n",
    "    t_array.append(ta)\n",
    "    t_array_add.append(taa)\n",
    "    t_array_run_ids.append(run_id_a)"
   ]
  },
  {
   "cell_type": "code",
   "execution_count": 8,
   "metadata": {
    "scrolled": true
   },
   "outputs": [
    {
     "data": {
      "image/png": "[encoded data removed]",
      "text/plain": [
       "<Figure size 432x288 with 1 Axes>"
      ]
     },
     "metadata": {
      "needs_background": "light"
     },
     "output_type": "display_data"
    }
   ],
   "source": [
    "fig, ax = plt.subplots(1,1)\n",
    "ax.plot(sizes, t_numeric, 'o-', label='Inserting row-by-row')\n",
    "ax.plot(sizes, t_numeric_add, 'o-', label='Inserting row-by-row: add_result only')\n",
    "ax.plot(sizes, t_array, 'd-', label='Inserting as binary blob')\n",
    "ax.plot(sizes, t_array_add, 'd-', label='Inserting as binary blob: add_result only')\n",
    "ax.legend()\n",
    "ax.set_xlabel('Array length')\n",
    "ax.set_ylabel('Time (s)')\n",
    "fig.tight_layout()"
   ]
  },
  {
   "cell_type": "markdown",
   "metadata": {},
   "source": [
    "However, as we increase the length of the experiment, as seen here by repeating the insertion 100 times, we see a big difference between inserting values of the data row-by-row and inserting it as a binary blob."
   ]
  },
  {
   "cell_type": "markdown",
   "metadata": {},
   "source": [
    "## Loading the data "
   ]
  },
  {
   "cell_type": "code",
   "execution_count": 9,
   "metadata": {},
   "outputs": [],
   "source": [
    "from qcodes.dataset.data_set import load_by_id\n",
    "from qcodes.dataset.data_export import get_data_by_id"
   ]
  },
  {
   "cell_type": "markdown",
   "metadata": {},
   "source": [
    "As usual you can load the data by using the ``load_by_id`` function but you will notice that the different storage methods\n",
    "are reflected in shape of the data as it is retrieved. "
   ]
  },
  {
   "cell_type": "code",
   "execution_count": 10,
   "metadata": {},
   "outputs": [],
   "source": [
    "run_id_n = t_numeric_run_ids[0]\n",
    "run_id_a = t_array_run_ids[0]"
   ]
  },
  {
   "cell_type": "code",
   "execution_count": 11,
   "metadata": {
    "scrolled": true
   },
   "outputs": [
    {
     "data": {
      "text/plain": [
       "{'x1': {'x1': array([0.20494918, 0.20494918, 0.07316073, 0.07316073, 0.14149553,\n",
       "         0.14149553, 0.85618861, 0.85618861, 0.0293227 , 0.0293227 ,\n",
       "         0.01070326, 0.01070326, 0.18197512, 0.18197512, 0.94329004,\n",
       "         0.94329004, 0.82752377, 0.82752377, 0.35012508, 0.35012508,\n",
       "         0.41323376, 0.41323376, 0.27831032, 0.27831032, 0.25951835,\n",
       "         0.25951835, 0.50847001, 0.50847001, 0.87404335, 0.87404335,\n",
       "         0.3434182 , 0.3434182 , 0.58982483, 0.58982483, 0.32806253,\n",
       "         0.32806253, 0.45139843, 0.45139843, 0.14819433, 0.14819433,\n",
       "         0.0851275 , 0.0851275 , 0.0350918 , 0.0350918 , 0.60266405,\n",
       "         0.60266405, 0.8592179 , 0.8592179 , 0.8589115 , 0.8589115 ,\n",
       "         0.81140312, 0.81140312, 0.65318356, 0.65318356, 0.00338   ,\n",
       "         0.00338   , 0.44806332, 0.44806332, 0.22674147, 0.22674147,\n",
       "         0.75931706, 0.75931706, 0.61627606, 0.61627606, 0.57239497,\n",
       "         0.57239497, 0.11950597, 0.11950597, 0.28576291, 0.28576291,\n",
       "         0.275013  , 0.275013  , 0.03796949, 0.03796949, 0.95227198,\n",
       "         0.95227198, 0.60468608, 0.60468608, 0.08703386, 0.08703386,\n",
       "         0.85810723, 0.85810723, 0.26255854, 0.26255854, 0.62851221,\n",
       "         0.62851221, 0.85615559, 0.85615559, 0.77694695, 0.77694695,\n",
       "         0.29863479, 0.29863479, 0.12044599, 0.12044599, 0.11459628,\n",
       "         0.11459628, 0.96748071, 0.96748071, 0.51747496, 0.51747496,\n",
       "         0.80783697, 0.80783697, 0.58141797, 0.58141797, 0.30140518,\n",
       "         0.30140518, 0.65070432, 0.65070432, 0.98994583, 0.98994583,\n",
       "         0.10267595, 0.10267595, 0.04681775, 0.04681775, 0.49910845,\n",
       "         0.49910845, 0.02778135, 0.02778135, 0.84346954, 0.84346954,\n",
       "         0.92201233, 0.92201233, 0.67626259, 0.67626259, 0.78927611,\n",
       "         0.78927611, 0.87083846, 0.87083846, 0.92992347, 0.92992347,\n",
       "         0.20332944, 0.20332944, 0.03948503, 0.03948503, 0.73865617,\n",
       "         0.73865617, 0.35571248, 0.35571248, 0.84353639, 0.84353639,\n",
       "         0.17273417, 0.17273417, 0.41395206, 0.41395206, 0.59149156,\n",
       "         0.59149156, 0.58792016, 0.58792016, 0.0985359 , 0.0985359 ,\n",
       "         0.47207177, 0.47207177, 0.24758666, 0.24758666, 0.68861644,\n",
       "         0.68861644, 0.25684664, 0.25684664, 0.38388504, 0.38388504,\n",
       "         0.9098167 , 0.9098167 , 0.53379287, 0.53379287, 0.79889247,\n",
       "         0.79889247, 0.77676656, 0.77676656, 0.57777401, 0.57777401,\n",
       "         0.08309609, 0.08309609, 0.82141348, 0.82141348, 0.81659254,\n",
       "         0.81659254, 0.37883731, 0.37883731, 0.11094454, 0.11094454,\n",
       "         0.92948208, 0.92948208, 0.83232971, 0.83232971, 0.95728371,\n",
       "         0.95728371, 0.55976028, 0.55976028, 0.27164212, 0.27164212,\n",
       "         0.15720122, 0.15720122, 0.0703044 , 0.0703044 , 0.88366573,\n",
       "         0.88366573, 0.92862497, 0.92862497, 0.64973888, 0.64973888])}}"
      ]
     },
     "execution_count": 11,
     "metadata": {},
     "output_type": "execute_result"
    }
   ],
   "source": [
    "ds = load_by_id(run_id_n)\n",
    "ds.get_parameter_data('x1')"
   ]
  },
  {
   "cell_type": "markdown",
   "metadata": {},
   "source": [
    "And a dataset stored as binary arrays"
   ]
  },
  {
   "cell_type": "code",
   "execution_count": 12,
   "metadata": {
    "scrolled": true
   },
   "outputs": [
    {
     "data": {
      "text/plain": [
       "{'x1': {'x1': array([[6.72129884e-01],\n",
       "         [6.72129884e-01],\n",
       "         [2.24964150e-01],\n",
       "         [2.24964150e-01],\n",
       "         [5.55331794e-01],\n",
       "         [5.55331794e-01],\n",
       "         [9.38971695e-01],\n",
       "         [9.38971695e-01],\n",
       "         [8.04419114e-01],\n",
       "         [8.04419114e-01],\n",
       "         [1.13173827e-01],\n",
       "         [1.13173827e-01],\n",
       "         [8.91687473e-01],\n",
       "         [8.91687473e-01],\n",
       "         [9.12966068e-01],\n",
       "         [9.12966068e-01],\n",
       "         [8.19415807e-02],\n",
       "         [8.19415807e-02],\n",
       "         [2.37904598e-01],\n",
       "         [2.37904598e-01],\n",
       "         [7.48577955e-01],\n",
       "         [7.48577955e-01],\n",
       "         [1.62826172e-01],\n",
       "         [1.62826172e-01],\n",
       "         [3.12220914e-01],\n",
       "         [3.12220914e-01],\n",
       "         [6.20512633e-01],\n",
       "         [6.20512633e-01],\n",
       "         [2.59397219e-01],\n",
       "         [2.59397219e-01],\n",
       "         [1.94290301e-01],\n",
       "         [1.94290301e-01],\n",
       "         [5.54750489e-02],\n",
       "         [5.54750489e-02],\n",
       "         [3.87662584e-01],\n",
       "         [3.87662584e-01],\n",
       "         [4.30751517e-01],\n",
       "         [4.30751517e-01],\n",
       "         [3.75063383e-01],\n",
       "         [3.75063383e-01],\n",
       "         [4.10401584e-01],\n",
       "         [4.10401584e-01],\n",
       "         [8.90373086e-01],\n",
       "         [8.90373086e-01],\n",
       "         [4.06193949e-01],\n",
       "         [4.06193949e-01],\n",
       "         [9.91096485e-01],\n",
       "         [9.91096485e-01],\n",
       "         [8.12167005e-01],\n",
       "         [8.12167005e-01],\n",
       "         [7.85978732e-01],\n",
       "         [7.85978732e-01],\n",
       "         [9.86534139e-01],\n",
       "         [9.86534139e-01],\n",
       "         [1.13605985e-01],\n",
       "         [1.13605985e-01],\n",
       "         [6.02329686e-01],\n",
       "         [6.02329686e-01],\n",
       "         [5.38637487e-01],\n",
       "         [5.38637487e-01],\n",
       "         [2.09943738e-02],\n",
       "         [2.09943738e-02],\n",
       "         [1.33405776e-01],\n",
       "         [1.33405776e-01],\n",
       "         [9.76212066e-01],\n",
       "         [9.76212066e-01],\n",
       "         [7.12382988e-01],\n",
       "         [7.12382988e-01],\n",
       "         [7.66786887e-01],\n",
       "         [7.66786887e-01],\n",
       "         [3.60504547e-02],\n",
       "         [3.60504547e-02],\n",
       "         [8.06657416e-01],\n",
       "         [8.06657416e-01],\n",
       "         [8.48835509e-01],\n",
       "         [8.48835509e-01],\n",
       "         [9.60955856e-01],\n",
       "         [9.60955856e-01],\n",
       "         [5.44551908e-01],\n",
       "         [5.44551908e-01],\n",
       "         [1.57834772e-01],\n",
       "         [1.57834772e-01],\n",
       "         [7.41768948e-01],\n",
       "         [7.41768948e-01],\n",
       "         [1.11049613e-01],\n",
       "         [1.11049613e-01],\n",
       "         [2.30211664e-01],\n",
       "         [2.30211664e-01],\n",
       "         [3.41726617e-01],\n",
       "         [3.41726617e-01],\n",
       "         [4.26471122e-01],\n",
       "         [4.26471122e-01],\n",
       "         [2.21694184e-01],\n",
       "         [2.21694184e-01],\n",
       "         [4.32353130e-01],\n",
       "         [4.32353130e-01],\n",
       "         [1.54938098e-01],\n",
       "         [1.54938098e-01],\n",
       "         [2.82711439e-02],\n",
       "         [2.82711439e-02],\n",
       "         [3.79561257e-01],\n",
       "         [3.79561257e-01],\n",
       "         [5.36638670e-01],\n",
       "         [5.36638670e-01],\n",
       "         [6.37891355e-01],\n",
       "         [6.37891355e-01],\n",
       "         [4.62006439e-01],\n",
       "         [4.62006439e-01],\n",
       "         [7.10475239e-01],\n",
       "         [7.10475239e-01],\n",
       "         [3.72428424e-01],\n",
       "         [3.72428424e-01],\n",
       "         [7.82924843e-01],\n",
       "         [7.82924843e-01],\n",
       "         [3.18049211e-01],\n",
       "         [3.18049211e-01],\n",
       "         [3.43815410e-01],\n",
       "         [3.43815410e-01],\n",
       "         [5.96422066e-01],\n",
       "         [5.96422066e-01],\n",
       "         [4.35285313e-01],\n",
       "         [4.35285313e-01],\n",
       "         [1.12252823e-02],\n",
       "         [1.12252823e-02],\n",
       "         [5.42524180e-01],\n",
       "         [5.42524180e-01],\n",
       "         [8.51357478e-01],\n",
       "         [8.51357478e-01],\n",
       "         [3.29678447e-01],\n",
       "         [3.29678447e-01],\n",
       "         [5.98245643e-02],\n",
       "         [5.98245643e-02],\n",
       "         [7.52127198e-01],\n",
       "         [7.52127198e-01],\n",
       "         [7.79629851e-01],\n",
       "         [7.79629851e-01],\n",
       "         [6.35470369e-01],\n",
       "         [6.35470369e-01],\n",
       "         [5.45101220e-01],\n",
       "         [5.45101220e-01],\n",
       "         [3.58729261e-01],\n",
       "         [3.58729261e-01],\n",
       "         [8.21609398e-01],\n",
       "         [8.21609398e-01],\n",
       "         [8.78892920e-01],\n",
       "         [8.78892920e-01],\n",
       "         [5.73863226e-01],\n",
       "         [5.73863226e-01],\n",
       "         [9.25439158e-01],\n",
       "         [9.25439158e-01],\n",
       "         [5.56334500e-01],\n",
       "         [5.56334500e-01],\n",
       "         [3.60428124e-01],\n",
       "         [3.60428124e-01],\n",
       "         [4.44335966e-01],\n",
       "         [4.44335966e-01],\n",
       "         [8.60644098e-01],\n",
       "         [8.60644098e-01],\n",
       "         [4.89185012e-04],\n",
       "         [4.89185012e-04],\n",
       "         [9.50267517e-01],\n",
       "         [9.50267517e-01],\n",
       "         [6.16689305e-01],\n",
       "         [6.16689305e-01],\n",
       "         [4.84390920e-02],\n",
       "         [4.84390920e-02],\n",
       "         [3.60847425e-01],\n",
       "         [3.60847425e-01],\n",
       "         [5.88518294e-01],\n",
       "         [5.88518294e-01],\n",
       "         [6.66900650e-01],\n",
       "         [6.66900650e-01],\n",
       "         [2.17532624e-01],\n",
       "         [2.17532624e-01],\n",
       "         [5.64608057e-01],\n",
       "         [5.64608057e-01],\n",
       "         [2.70810034e-01],\n",
       "         [2.70810034e-01],\n",
       "         [4.61442927e-01],\n",
       "         [4.61442927e-01],\n",
       "         [3.48665933e-01],\n",
       "         [3.48665933e-01],\n",
       "         [7.97738944e-01],\n",
       "         [7.97738944e-01],\n",
       "         [4.50172652e-01],\n",
       "         [4.50172652e-01],\n",
       "         [8.49146451e-01],\n",
       "         [8.49146451e-01],\n",
       "         [4.90709284e-01],\n",
       "         [4.90709284e-01],\n",
       "         [3.17583221e-01],\n",
       "         [3.17583221e-01],\n",
       "         [2.30291277e-01],\n",
       "         [2.30291277e-01],\n",
       "         [2.78717655e-01],\n",
       "         [2.78717655e-01],\n",
       "         [1.44089699e-01],\n",
       "         [1.44089699e-01],\n",
       "         [3.79787734e-01],\n",
       "         [3.79787734e-01]])}}"
      ]
     },
     "execution_count": 12,
     "metadata": {},
     "output_type": "execute_result"
    }
   ],
   "source": [
    "ds = load_by_id(run_id_a)\n",
    "ds.get_parameter_data('x1')"
   ]
  },
  {
   "cell_type": "code",
   "execution_count": null,
   "metadata": {},
   "outputs": [],
   "source": []
  }
 ],
 "metadata": {
  "kernelspec": {
   "display_name": "Python 3",
   "language": "python",
   "name": "python3"
  },
  "language_info": {
   "codemirror_mode": {
    "name": "ipython",
    "version": 3
   },
   "file_extension": ".py",
   "mimetype": "text/x-python",
   "name": "python",
   "nbconvert_exporter": "python",
   "pygments_lexer": "ipython3",
   "version": "3.7.7"
  },
  "nbsphinx": {
   "timeout": 600
  },
  "toc": {
   "base_numbering": 1,
   "nav_menu": {},
   "number_sections": true,
   "sideBar": true,
   "skip_h1_title": false,
   "title_cell": "Table of Contents",
   "title_sidebar": "Contents",
   "toc_cell": false,
   "toc_position": {},
   "toc_section_display": true,
   "toc_window_display": false
  },
  "varInspector": {
   "cols": {
    "lenName": 16,
    "lenType": 16,
    "lenVar": 40
   },
   "kernels_config": {
    "python": {
     "delete_cmd_postfix": "",
     "delete_cmd_prefix": "del ",
     "library": "var_list.py",
     "varRefreshCmd": "print(var_dic_list())"
    },
    "r": {
     "delete_cmd_postfix": ") ",
     "delete_cmd_prefix": "rm(",
     "library": "var_list.r",
     "varRefreshCmd": "cat(var_dic_list()) "
    }
   },
   "types_to_exclude": [
    "module",
    "function",
    "builtin_function_or_method",
    "instance",
    "_Feature"
   ],
   "window_display": false
  }
 },
 "nbformat": 4,
 "nbformat_minor": 2
}
