{
 "cells": [
  {
   "cell_type": "markdown",
   "metadata": {},
   "source": [
    "# DataSet Performance\n",
    "\n",
    "This notebook shows the trade-off between inserting data into a database row-by-row and as binary blobs. Inserting the data row-by-row means that we have direct access to all the data and may perform queries directly on the values of the data. On the other hand, as we shall see, this is much slower than inserting the data directly as binary blobs."
   ]
  },
  {
   "cell_type": "markdown",
   "metadata": {},
   "source": [
    "First, we choose a new location for the database to ensure that we don't add a bunch of benchmarking data to the default one."
   ]
  },
  {
   "cell_type": "code",
   "execution_count": 1,
   "metadata": {
    "execution": {
     "iopub.execute_input": "2021-05-28T07:49:24.680287Z",
     "iopub.status.busy": "2021-05-28T07:49:24.679684Z",
     "iopub.status.idle": "2021-05-28T07:49:25.977914Z",
     "shell.execute_reply": "2021-05-28T07:49:25.976981Z"
    }
   },
   "outputs": [
    {
     "name": "stdout",
     "output_type": "stream",
     "text": [
      "Logging hadn't been started.\n",
      "Activating auto-logging. Current session state plus future input saved.\n",
      "Filename       : /home/runner/.qcodes/logs/command_history.log\n",
      "Mode           : append\n",
      "Output logging : True\n",
      "Raw input log  : False\n",
      "Timestamping   : True\n",
      "State          : active\n"
     ]
    },
    {
     "name": "stdout",
     "output_type": "stream",
     "text": [
      "Qcodes Logfile : /home/runner/.qcodes/logs/210528-4464-qcodes.log\n"
     ]
    }
   ],
   "source": [
    "import os\n",
    "cwd = os.getcwd()\n",
    "import qcodes as qc\n",
    "qc.config[\"core\"][\"db_location\"] = os.path.join(cwd, 'testing.db')\n"
   ]
  },
  {
   "cell_type": "code",
   "execution_count": 2,
   "metadata": {
    "execution": {
     "iopub.execute_input": "2021-05-28T07:49:25.985260Z",
     "iopub.status.busy": "2021-05-28T07:49:25.983748Z",
     "iopub.status.idle": "2021-05-28T07:49:26.196822Z",
     "shell.execute_reply": "2021-05-28T07:49:26.195921Z"
    }
   },
   "outputs": [],
   "source": [
    "%matplotlib inline\n",
    "import time\n",
    "import matplotlib.pyplot as plt\n",
    "import numpy as np\n",
    "\n",
    "import qcodes as qc\n",
    "from qcodes.instrument.parameter import ManualParameter\n",
    "from qcodes.dataset.experiment_container import (Experiment,\n",
    "                                                 load_last_experiment,\n",
    "                                                 new_experiment)\n",
    "from qcodes.dataset.sqlite.database import initialise_database\n",
    "from qcodes import load_or_create_experiment\n",
    "from qcodes.dataset.measurements import Measurement"
   ]
  },
  {
   "cell_type": "code",
   "execution_count": 3,
   "metadata": {
    "execution": {
     "iopub.execute_input": "2021-05-28T07:49:26.200785Z",
     "iopub.status.busy": "2021-05-28T07:49:26.200084Z",
     "iopub.status.idle": "2021-05-28T07:49:26.286386Z",
     "shell.execute_reply": "2021-05-28T07:49:26.285779Z"
    }
   },
   "outputs": [
    {
     "name": "stdout",
     "output_type": "stream",
     "text": [
      "\r",
      "0it [00:00, ?it/s]"
     ]
    },
    {
     "name": "stdout",
     "output_type": "stream",
     "text": [
      "\r",
      "Upgrading database; v0 -> v1: : 0it [00:00, ?it/s]"
     ]
    },
    {
     "name": "stdout",
     "output_type": "stream",
     "text": [
      "\r",
      "Upgrading database; v0 -> v1: : 0it [00:00, ?it/s]"
     ]
    },
    {
     "name": "stdout",
     "output_type": "stream",
     "text": [
      "\n",
      "\r",
      "  0%|          | 0/1 [00:00<?, ?it/s]"
     ]
    },
    {
     "name": "stdout",
     "output_type": "stream",
     "text": [
      "\r",
      "Upgrading database; v1 -> v2:   0%|          | 0/1 [00:00<?, ?it/s]"
     ]
    },
    {
     "name": "stdout",
     "output_type": "stream",
     "text": [
      "\r",
      "Upgrading database; v1 -> v2: 100%|██████████| 1/1 [00:00<00:00, 677.59it/s]"
     ]
    },
    {
     "name": "stdout",
     "output_type": "stream",
     "text": [
      "\n",
      "\r",
      "0it [00:00, ?it/s]"
     ]
    },
    {
     "name": "stdout",
     "output_type": "stream",
     "text": [
      "\r",
      "Upgrading database; v2 -> v3: : 0it [00:00, ?it/s]"
     ]
    },
    {
     "name": "stdout",
     "output_type": "stream",
     "text": [
      "\r",
      "Upgrading database; v2 -> v3: : 0it [00:00, ?it/s]"
     ]
    },
    {
     "name": "stdout",
     "output_type": "stream",
     "text": [
      "\n",
      "\r",
      "0it [00:00, ?it/s]"
     ]
    },
    {
     "name": "stdout",
     "output_type": "stream",
     "text": [
      "\r",
      "Upgrading database; v3 -> v4: : 0it [00:00, ?it/s]"
     ]
    },
    {
     "name": "stdout",
     "output_type": "stream",
     "text": [
      "\r",
      "Upgrading database; v3 -> v4: : 0it [00:00, ?it/s]"
     ]
    },
    {
     "name": "stdout",
     "output_type": "stream",
     "text": [
      "\n",
      "\r",
      "  0%|          | 0/1 [00:00<?, ?it/s]"
     ]
    },
    {
     "name": "stdout",
     "output_type": "stream",
     "text": [
      "\r",
      "Upgrading database; v4 -> v5:   0%|          | 0/1 [00:00<?, ?it/s]"
     ]
    },
    {
     "name": "stdout",
     "output_type": "stream",
     "text": [
      "\r",
      "Upgrading database; v4 -> v5: 100%|██████████| 1/1 [00:00<00:00, 562.99it/s]"
     ]
    },
    {
     "name": "stdout",
     "output_type": "stream",
     "text": [
      "\n",
      "\r",
      "0it [00:00, ?it/s]"
     ]
    },
    {
     "name": "stdout",
     "output_type": "stream",
     "text": [
      "\r",
      "Upgrading database; v5 -> v6: : 0it [00:00, ?it/s]"
     ]
    },
    {
     "name": "stdout",
     "output_type": "stream",
     "text": [
      "\r",
      "Upgrading database; v5 -> v6: : 0it [00:00, ?it/s]"
     ]
    },
    {
     "name": "stdout",
     "output_type": "stream",
     "text": [
      "\n",
      "\r",
      "  0%|          | 0/1 [00:00<?, ?it/s]"
     ]
    },
    {
     "name": "stdout",
     "output_type": "stream",
     "text": [
      "\r",
      "Upgrading database; v6 -> v7:   0%|          | 0/1 [00:00<?, ?it/s]"
     ]
    },
    {
     "name": "stdout",
     "output_type": "stream",
     "text": [
      "\r",
      "Upgrading database; v6 -> v7: 100%|██████████| 1/1 [00:00<00:00, 186.47it/s]"
     ]
    },
    {
     "name": "stdout",
     "output_type": "stream",
     "text": [
      "\n",
      "\r",
      "  0%|          | 0/1 [00:00<?, ?it/s]"
     ]
    },
    {
     "name": "stdout",
     "output_type": "stream",
     "text": [
      "\r",
      "Upgrading database; v7 -> v8:   0%|          | 0/1 [00:00<?, ?it/s]"
     ]
    },
    {
     "name": "stdout",
     "output_type": "stream",
     "text": [
      "\r",
      "Upgrading database; v7 -> v8: 100%|██████████| 1/1 [00:00<00:00, 495.08it/s]"
     ]
    },
    {
     "name": "stdout",
     "output_type": "stream",
     "text": [
      "\n",
      "\r",
      "  0%|          | 0/1 [00:00<?, ?it/s]"
     ]
    },
    {
     "name": "stdout",
     "output_type": "stream",
     "text": [
      "\r",
      "Upgrading database; v8 -> v9:   0%|          | 0/1 [00:00<?, ?it/s]"
     ]
    },
    {
     "name": "stdout",
     "output_type": "stream",
     "text": [
      "\r",
      "Upgrading database; v8 -> v9: 100%|██████████| 1/1 [00:00<00:00, 884.13it/s]"
     ]
    },
    {
     "name": "stdout",
     "output_type": "stream",
     "text": [
      "\n"
     ]
    }
   ],
   "source": [
    "initialise_database()\n",
    "exp = load_or_create_experiment(experiment_name='tutorial_exp', sample_name=\"no sample\")"
   ]
  },
  {
   "cell_type": "markdown",
   "metadata": {},
   "source": [
    "Here, we define a simple function to benchmark the time it takes to insert n points with either numeric or array data type.\n",
    "We will compare both the time used to call ``add_result`` and the time used for the full measurement."
   ]
  },
  {
   "cell_type": "code",
   "execution_count": 4,
   "metadata": {
    "execution": {
     "iopub.execute_input": "2021-05-28T07:49:26.294936Z",
     "iopub.status.busy": "2021-05-28T07:49:26.293313Z",
     "iopub.status.idle": "2021-05-28T07:49:26.296691Z",
     "shell.execute_reply": "2021-05-28T07:49:26.297383Z"
    }
   },
   "outputs": [],
   "source": [
    "def insert_data(paramtype, npoints, nreps=1):\n",
    "\n",
    "    meas = Measurement(exp=exp)\n",
    "\n",
    "    x1 = ManualParameter('x1')\n",
    "    x2 = ManualParameter('x2')\n",
    "    x3 = ManualParameter('x3')\n",
    "    y1 = ManualParameter('y1')\n",
    "    y2 = ManualParameter('y2')\n",
    "\n",
    "    meas.register_parameter(x1, paramtype=paramtype)\n",
    "    meas.register_parameter(x2, paramtype=paramtype)\n",
    "    meas.register_parameter(x3, paramtype=paramtype)\n",
    "    meas.register_parameter(y1, setpoints=[x1, x2, x3],\n",
    "                            paramtype=paramtype)\n",
    "    meas.register_parameter(y2, setpoints=[x1, x2, x3],\n",
    "                            paramtype=paramtype)\n",
    "    start = time.perf_counter()\n",
    "    with meas.run() as datasaver:\n",
    "        start_adding = time.perf_counter()\n",
    "        for i in range(nreps):\n",
    "            datasaver.add_result((x1, np.random.rand(npoints)),\n",
    "                                 (x2, np.random.rand(npoints)),\n",
    "                                 (x3, np.random.rand(npoints)),\n",
    "                                 (y1, np.random.rand(npoints)),\n",
    "                                 (y2, np.random.rand(npoints)))\n",
    "        stop_adding = time.perf_counter()\n",
    "        run_id = datasaver.run_id\n",
    "    stop = time.perf_counter()\n",
    "    tot_time = stop - start\n",
    "    add_time = stop_adding - start_adding\n",
    "    return tot_time, add_time, run_id"
   ]
  },
  {
   "cell_type": "markdown",
   "metadata": {},
   "source": [
    "## Comparison between numeric/array data and binary blob"
   ]
  },
  {
   "cell_type": "markdown",
   "metadata": {},
   "source": [
    "### Case1: Short experiment time"
   ]
  },
  {
   "cell_type": "code",
   "execution_count": 5,
   "metadata": {
    "execution": {
     "iopub.execute_input": "2021-05-28T07:49:26.303847Z",
     "iopub.status.busy": "2021-05-28T07:49:26.302647Z",
     "iopub.status.idle": "2021-05-28T07:49:27.149908Z",
     "shell.execute_reply": "2021-05-28T07:49:27.149375Z"
    }
   },
   "outputs": [
    {
     "name": "stdout",
     "output_type": "stream",
     "text": [
      "Starting experimental run with id: 1. \n",
      "Starting experimental run with id: 2. \n",
      "Starting experimental run with id: 3. \n"
     ]
    },
    {
     "name": "stdout",
     "output_type": "stream",
     "text": [
      "Starting experimental run with id: 4. \n"
     ]
    },
    {
     "name": "stdout",
     "output_type": "stream",
     "text": [
      "Starting experimental run with id: 5. \n"
     ]
    },
    {
     "name": "stdout",
     "output_type": "stream",
     "text": [
      "Starting experimental run with id: 6. \n"
     ]
    },
    {
     "name": "stdout",
     "output_type": "stream",
     "text": [
      "Starting experimental run with id: 7. \n",
      "Starting experimental run with id: 8. \n",
      "Starting experimental run with id: 9. \n"
     ]
    },
    {
     "name": "stdout",
     "output_type": "stream",
     "text": [
      "Starting experimental run with id: 10. \n",
      "Starting experimental run with id: 11. \n",
      "Starting experimental run with id: 12. \n"
     ]
    },
    {
     "name": "stdout",
     "output_type": "stream",
     "text": [
      "Starting experimental run with id: 13. \n",
      "Starting experimental run with id: 14. \n"
     ]
    }
   ],
   "source": [
    "sizes = [1,500,1000,2000,3000,4000,5000]\n",
    "t_numeric = []\n",
    "t_numeric_add = []\n",
    "t_array = []\n",
    "t_array_add = []\n",
    "for size in sizes:\n",
    "    tn, tna, run_id_n =  insert_data('numeric', size)\n",
    "    t_numeric.append(tn)\n",
    "    t_numeric_add.append(tna)\n",
    "\n",
    "    ta, taa, run_id_a =  insert_data('array', size)\n",
    "    t_array.append(ta)\n",
    "    t_array_add.append(taa)"
   ]
  },
  {
   "cell_type": "code",
   "execution_count": 6,
   "metadata": {
    "execution": {
     "iopub.execute_input": "2021-05-28T07:49:27.169899Z",
     "iopub.status.busy": "2021-05-28T07:49:27.169285Z",
     "iopub.status.idle": "2021-05-28T07:49:27.426525Z",
     "shell.execute_reply": "2021-05-28T07:49:27.425959Z"
    }
   },
   "outputs": [
    {
     "data": {
      "image/png": "[encoded data removed]",
      "text/plain": [
       "<Figure size 432x288 with 1 Axes>"
      ]
     },
     "metadata": {
      "needs_background": "light"
     },
     "output_type": "display_data"
    }
   ],
   "source": [
    "fig, ax = plt.subplots(1,1)\n",
    "ax.plot(sizes, t_numeric, 'o-', label='Inserting row-by-row')\n",
    "ax.plot(sizes, t_numeric_add, 'o-', label='Inserting row-by-row: add_result only')\n",
    "ax.plot(sizes, t_array, 'd-', label='Inserting as binary blob')\n",
    "ax.plot(sizes, t_array_add, 'd-', label='Inserting as binary blob: add_result only')\n",
    "ax.legend()\n",
    "ax.set_xlabel('Array length')\n",
    "ax.set_ylabel('Time (s)')\n",
    "fig.tight_layout()"
   ]
  },
  {
   "cell_type": "markdown",
   "metadata": {},
   "source": [
    "As shown in the latter figure, the time to setup and and close the experiment is approximately 0.4 sec. In case of small array sizes, the difference between inserting values of data as arrays and inserting them row-by-row is relatively unimportant. At larger array sizes, i.e. above 10000 points, the cost of writing data as individual datapoints starts to become important.\n"
   ]
  },
  {
   "cell_type": "markdown",
   "metadata": {},
   "source": [
    "### Case2: Long experiment time "
   ]
  },
  {
   "cell_type": "code",
   "execution_count": 7,
   "metadata": {
    "execution": {
     "iopub.execute_input": "2021-05-28T07:49:27.487069Z",
     "iopub.status.busy": "2021-05-28T07:49:27.434306Z",
     "iopub.status.idle": "2021-05-28T07:50:24.496730Z",
     "shell.execute_reply": "2021-05-28T07:50:24.496097Z"
    }
   },
   "outputs": [
    {
     "name": "stdout",
     "output_type": "stream",
     "text": [
      "Starting experimental run with id: 15. \n",
      "Starting experimental run with id: 16. \n"
     ]
    },
    {
     "name": "stdout",
     "output_type": "stream",
     "text": [
      "Starting experimental run with id: 17. \n"
     ]
    },
    {
     "name": "stdout",
     "output_type": "stream",
     "text": [
      "Starting experimental run with id: 18. \n"
     ]
    },
    {
     "name": "stdout",
     "output_type": "stream",
     "text": [
      "Starting experimental run with id: 19. \n"
     ]
    },
    {
     "name": "stdout",
     "output_type": "stream",
     "text": [
      "Starting experimental run with id: 20. \n"
     ]
    },
    {
     "name": "stdout",
     "output_type": "stream",
     "text": [
      "Starting experimental run with id: 21. \n"
     ]
    },
    {
     "name": "stdout",
     "output_type": "stream",
     "text": [
      "Starting experimental run with id: 22. \n"
     ]
    },
    {
     "name": "stdout",
     "output_type": "stream",
     "text": [
      "Starting experimental run with id: 23. \n"
     ]
    },
    {
     "name": "stdout",
     "output_type": "stream",
     "text": [
      "Starting experimental run with id: 24. \n"
     ]
    },
    {
     "name": "stdout",
     "output_type": "stream",
     "text": [
      "Starting experimental run with id: 25. \n"
     ]
    },
    {
     "name": "stdout",
     "output_type": "stream",
     "text": [
      "Starting experimental run with id: 26. \n"
     ]
    },
    {
     "name": "stdout",
     "output_type": "stream",
     "text": [
      "Starting experimental run with id: 27. \n"
     ]
    },
    {
     "name": "stdout",
     "output_type": "stream",
     "text": [
      "Starting experimental run with id: 28. \n"
     ]
    }
   ],
   "source": [
    "sizes = [1,500,1000,2000,3000,4000,5000]\n",
    "nreps = 100\n",
    "t_numeric = []\n",
    "t_numeric_add = []\n",
    "t_numeric_run_ids = []\n",
    "t_array = []\n",
    "t_array_add = []\n",
    "t_array_run_ids = []\n",
    "for size in sizes:\n",
    "    tn, tna, run_id_n =  insert_data('numeric', size, nreps=nreps)\n",
    "    t_numeric.append(tn)\n",
    "    t_numeric_add.append(tna)\n",
    "    t_numeric_run_ids.append(run_id_n)\n",
    "\n",
    "    ta, taa, run_id_a =  insert_data('array', size, nreps=nreps)\n",
    "    t_array.append(ta)\n",
    "    t_array_add.append(taa)\n",
    "    t_array_run_ids.append(run_id_a)"
   ]
  },
  {
   "cell_type": "code",
   "execution_count": 8,
   "metadata": {
    "execution": {
     "iopub.execute_input": "2021-05-28T07:50:24.528598Z",
     "iopub.status.busy": "2021-05-28T07:50:24.518092Z",
     "iopub.status.idle": "2021-05-28T07:50:24.754440Z",
     "shell.execute_reply": "2021-05-28T07:50:24.753871Z"
    },
    "scrolled": true
   },
   "outputs": [
    {
     "data": {
      "image/png": "[encoded data removed]",
      "text/plain": [
       "<Figure size 432x288 with 1 Axes>"
      ]
     },
     "metadata": {
      "needs_background": "light"
     },
     "output_type": "display_data"
    }
   ],
   "source": [
    "fig, ax = plt.subplots(1,1)\n",
    "ax.plot(sizes, t_numeric, 'o-', label='Inserting row-by-row')\n",
    "ax.plot(sizes, t_numeric_add, 'o-', label='Inserting row-by-row: add_result only')\n",
    "ax.plot(sizes, t_array, 'd-', label='Inserting as binary blob')\n",
    "ax.plot(sizes, t_array_add, 'd-', label='Inserting as binary blob: add_result only')\n",
    "ax.legend()\n",
    "ax.set_xlabel('Array length')\n",
    "ax.set_ylabel('Time (s)')\n",
    "fig.tight_layout()"
   ]
  },
  {
   "cell_type": "markdown",
   "metadata": {},
   "source": [
    "However, as we increase the length of the experiment, as seen here by repeating the insertion 100 times, we see a big difference between inserting values of the data row-by-row and inserting it as a binary blob."
   ]
  },
  {
   "cell_type": "markdown",
   "metadata": {},
   "source": [
    "## Loading the data "
   ]
  },
  {
   "cell_type": "code",
   "execution_count": 9,
   "metadata": {
    "execution": {
     "iopub.execute_input": "2021-05-28T07:50:24.759223Z",
     "iopub.status.busy": "2021-05-28T07:50:24.758623Z",
     "iopub.status.idle": "2021-05-28T07:50:24.762829Z",
     "shell.execute_reply": "2021-05-28T07:50:24.762134Z"
    }
   },
   "outputs": [],
   "source": [
    "from qcodes.dataset.data_set import load_by_id"
   ]
  },
  {
   "cell_type": "markdown",
   "metadata": {},
   "source": [
    "As usual you can load the data by using the ``load_by_id`` function but you will notice that the different storage methods\n",
    "are reflected in shape of the data as it is retrieved. "
   ]
  },
  {
   "cell_type": "code",
   "execution_count": 10,
   "metadata": {
    "execution": {
     "iopub.execute_input": "2021-05-28T07:50:24.767621Z",
     "iopub.status.busy": "2021-05-28T07:50:24.766318Z",
     "iopub.status.idle": "2021-05-28T07:50:24.768300Z",
     "shell.execute_reply": "2021-05-28T07:50:24.768917Z"
    }
   },
   "outputs": [],
   "source": [
    "run_id_n = t_numeric_run_ids[0]\n",
    "run_id_a = t_array_run_ids[0]"
   ]
  },
  {
   "cell_type": "code",
   "execution_count": 11,
   "metadata": {
    "execution": {
     "iopub.execute_input": "2021-05-28T07:50:24.772929Z",
     "iopub.status.busy": "2021-05-28T07:50:24.772223Z",
     "iopub.status.idle": "2021-05-28T07:50:24.782952Z",
     "shell.execute_reply": "2021-05-28T07:50:24.782434Z"
    },
    "scrolled": true
   },
   "outputs": [
    {
     "data": {
      "text/plain": [
       "{'x1': {'x1': array([0.63265611, 0.63265611, 0.45416368, 0.45416368, 0.3618035 ,\n",
       "         0.3618035 , 0.9070862 , 0.9070862 , 0.29262948, 0.29262948,\n",
       "         0.07878671, 0.07878671, 0.82116026, 0.82116026, 0.00653552,\n",
       "         0.00653552, 0.03781328, 0.03781328, 0.18562421, 0.18562421,\n",
       "         0.64124552, 0.64124552, 0.22835451, 0.22835451, 0.39523309,\n",
       "         0.39523309, 0.73360824, 0.73360824, 0.56308487, 0.56308487,\n",
       "         0.86780343, 0.86780343, 0.57409022, 0.57409022, 0.74070694,\n",
       "         0.74070694, 0.15397385, 0.15397385, 0.21315589, 0.21315589,\n",
       "         0.81984848, 0.81984848, 0.97037667, 0.97037667, 0.45639859,\n",
       "         0.45639859, 0.12474237, 0.12474237, 0.85287273, 0.85287273,\n",
       "         0.20313006, 0.20313006, 0.61778366, 0.61778366, 0.15351017,\n",
       "         0.15351017, 0.78068122, 0.78068122, 0.69328208, 0.69328208,\n",
       "         0.91337133, 0.91337133, 0.58471086, 0.58471086, 0.49541615,\n",
       "         0.49541615, 0.00249506, 0.00249506, 0.8948768 , 0.8948768 ,\n",
       "         0.9387521 , 0.9387521 , 0.7152151 , 0.7152151 , 0.80952215,\n",
       "         0.80952215, 0.00449036, 0.00449036, 0.47345994, 0.47345994,\n",
       "         0.8898942 , 0.8898942 , 0.36703335, 0.36703335, 0.56425547,\n",
       "         0.56425547, 0.45977799, 0.45977799, 0.79216146, 0.79216146,\n",
       "         0.68800362, 0.68800362, 0.25462192, 0.25462192, 0.52372505,\n",
       "         0.52372505, 0.69032258, 0.69032258, 0.34857897, 0.34857897,\n",
       "         0.50835415, 0.50835415, 0.42249157, 0.42249157, 0.99573953,\n",
       "         0.99573953, 0.48827536, 0.48827536, 0.7816715 , 0.7816715 ,\n",
       "         0.90219278, 0.90219278, 0.7236325 , 0.7236325 , 0.55197765,\n",
       "         0.55197765, 0.79858741, 0.79858741, 0.27671537, 0.27671537,\n",
       "         0.41671854, 0.41671854, 0.75851798, 0.75851798, 0.11701825,\n",
       "         0.11701825, 0.72021752, 0.72021752, 0.7970183 , 0.7970183 ,\n",
       "         0.06429822, 0.06429822, 0.97249974, 0.97249974, 0.18119882,\n",
       "         0.18119882, 0.41030312, 0.41030312, 0.57289244, 0.57289244,\n",
       "         0.59278403, 0.59278403, 0.62231942, 0.62231942, 0.7363828 ,\n",
       "         0.7363828 , 0.77738665, 0.77738665, 0.71508733, 0.71508733,\n",
       "         0.36685959, 0.36685959, 0.15765494, 0.15765494, 0.7085725 ,\n",
       "         0.7085725 , 0.58501722, 0.58501722, 0.37696296, 0.37696296,\n",
       "         0.91306511, 0.91306511, 0.46599389, 0.46599389, 0.42501204,\n",
       "         0.42501204, 0.27592672, 0.27592672, 0.61352311, 0.61352311,\n",
       "         0.8078551 , 0.8078551 , 0.52866356, 0.52866356, 0.5051139 ,\n",
       "         0.5051139 , 0.60955071, 0.60955071, 0.38638617, 0.38638617,\n",
       "         0.12324967, 0.12324967, 0.03765394, 0.03765394, 0.82181861,\n",
       "         0.82181861, 0.36572823, 0.36572823, 0.25901739, 0.25901739,\n",
       "         0.6137819 , 0.6137819 , 0.40687245, 0.40687245, 0.20143872,\n",
       "         0.20143872, 0.21224742, 0.21224742, 0.84450317, 0.84450317])}}"
      ]
     },
     "execution_count": 1,
     "metadata": {},
     "output_type": "execute_result"
    }
   ],
   "source": [
    "ds = load_by_id(run_id_n)\n",
    "ds.get_parameter_data('x1')"
   ]
  },
  {
   "cell_type": "markdown",
   "metadata": {},
   "source": [
    "And a dataset stored as binary arrays"
   ]
  },
  {
   "cell_type": "code",
   "execution_count": 12,
   "metadata": {
    "execution": {
     "iopub.execute_input": "2021-05-28T07:50:24.786610Z",
     "iopub.status.busy": "2021-05-28T07:50:24.786002Z",
     "iopub.status.idle": "2021-05-28T07:50:24.851406Z",
     "shell.execute_reply": "2021-05-28T07:50:24.851991Z"
    },
    "scrolled": true
   },
   "outputs": [
    {
     "data": {
      "text/plain": [
       "{'x1': {'x1': array([[0.4261966 ],\n",
       "         [0.4261966 ],\n",
       "         [0.13455332],\n",
       "         [0.13455332],\n",
       "         [0.47447266],\n",
       "         [0.47447266],\n",
       "         [0.14801876],\n",
       "         [0.14801876],\n",
       "         [0.74682454],\n",
       "         [0.74682454],\n",
       "         [0.19295336],\n",
       "         [0.19295336],\n",
       "         [0.2760466 ],\n",
       "         [0.2760466 ],\n",
       "         [0.55367801],\n",
       "         [0.55367801],\n",
       "         [0.63617735],\n",
       "         [0.63617735],\n",
       "         [0.87854748],\n",
       "         [0.87854748],\n",
       "         [0.84416203],\n",
       "         [0.84416203],\n",
       "         [0.6128284 ],\n",
       "         [0.6128284 ],\n",
       "         [0.55667871],\n",
       "         [0.55667871],\n",
       "         [0.66242065],\n",
       "         [0.66242065],\n",
       "         [0.81003396],\n",
       "         [0.81003396],\n",
       "         [0.25078861],\n",
       "         [0.25078861],\n",
       "         [0.66107924],\n",
       "         [0.66107924],\n",
       "         [0.24528004],\n",
       "         [0.24528004],\n",
       "         [0.60887068],\n",
       "         [0.60887068],\n",
       "         [0.51466847],\n",
       "         [0.51466847],\n",
       "         [0.29447049],\n",
       "         [0.29447049],\n",
       "         [0.52599902],\n",
       "         [0.52599902],\n",
       "         [0.74680863],\n",
       "         [0.74680863],\n",
       "         [0.89640956],\n",
       "         [0.89640956],\n",
       "         [0.44886548],\n",
       "         [0.44886548],\n",
       "         [0.47796487],\n",
       "         [0.47796487],\n",
       "         [0.65393626],\n",
       "         [0.65393626],\n",
       "         [0.30964047],\n",
       "         [0.30964047],\n",
       "         [0.06920692],\n",
       "         [0.06920692],\n",
       "         [0.64323623],\n",
       "         [0.64323623],\n",
       "         [0.67604739],\n",
       "         [0.67604739],\n",
       "         [0.11173806],\n",
       "         [0.11173806],\n",
       "         [0.17286428],\n",
       "         [0.17286428],\n",
       "         [0.25394105],\n",
       "         [0.25394105],\n",
       "         [0.03467146],\n",
       "         [0.03467146],\n",
       "         [0.5763996 ],\n",
       "         [0.5763996 ],\n",
       "         [0.17425073],\n",
       "         [0.17425073],\n",
       "         [0.4310478 ],\n",
       "         [0.4310478 ],\n",
       "         [0.18448244],\n",
       "         [0.18448244],\n",
       "         [0.50393228],\n",
       "         [0.50393228],\n",
       "         [0.39193171],\n",
       "         [0.39193171],\n",
       "         [0.87978294],\n",
       "         [0.87978294],\n",
       "         [0.58740105],\n",
       "         [0.58740105],\n",
       "         [0.7972492 ],\n",
       "         [0.7972492 ],\n",
       "         [0.31300016],\n",
       "         [0.31300016],\n",
       "         [0.05639827],\n",
       "         [0.05639827],\n",
       "         [0.54978742],\n",
       "         [0.54978742],\n",
       "         [0.46876432],\n",
       "         [0.46876432],\n",
       "         [0.34480939],\n",
       "         [0.34480939],\n",
       "         [0.70273415],\n",
       "         [0.70273415],\n",
       "         [0.24071101],\n",
       "         [0.24071101],\n",
       "         [0.62833066],\n",
       "         [0.62833066],\n",
       "         [0.84164213],\n",
       "         [0.84164213],\n",
       "         [0.85711673],\n",
       "         [0.85711673],\n",
       "         [0.01809801],\n",
       "         [0.01809801],\n",
       "         [0.38607017],\n",
       "         [0.38607017],\n",
       "         [0.68146627],\n",
       "         [0.68146627],\n",
       "         [0.97113957],\n",
       "         [0.97113957],\n",
       "         [0.36937654],\n",
       "         [0.36937654],\n",
       "         [0.0609082 ],\n",
       "         [0.0609082 ],\n",
       "         [0.59904974],\n",
       "         [0.59904974],\n",
       "         [0.86574755],\n",
       "         [0.86574755],\n",
       "         [0.28969862],\n",
       "         [0.28969862],\n",
       "         [0.19924095],\n",
       "         [0.19924095],\n",
       "         [0.16812918],\n",
       "         [0.16812918],\n",
       "         [0.93548906],\n",
       "         [0.93548906],\n",
       "         [0.92197195],\n",
       "         [0.92197195],\n",
       "         [0.21147774],\n",
       "         [0.21147774],\n",
       "         [0.59151783],\n",
       "         [0.59151783],\n",
       "         [0.07826332],\n",
       "         [0.07826332],\n",
       "         [0.93611933],\n",
       "         [0.93611933],\n",
       "         [0.11431143],\n",
       "         [0.11431143],\n",
       "         [0.54072516],\n",
       "         [0.54072516],\n",
       "         [0.71339915],\n",
       "         [0.71339915],\n",
       "         [0.32956594],\n",
       "         [0.32956594],\n",
       "         [0.15769468],\n",
       "         [0.15769468],\n",
       "         [0.12808706],\n",
       "         [0.12808706],\n",
       "         [0.91866332],\n",
       "         [0.91866332],\n",
       "         [0.62022127],\n",
       "         [0.62022127],\n",
       "         [0.99511222],\n",
       "         [0.99511222],\n",
       "         [0.56467118],\n",
       "         [0.56467118],\n",
       "         [0.03855824],\n",
       "         [0.03855824],\n",
       "         [0.85795826],\n",
       "         [0.85795826],\n",
       "         [0.62055224],\n",
       "         [0.62055224],\n",
       "         [0.84474296],\n",
       "         [0.84474296],\n",
       "         [0.37018371],\n",
       "         [0.37018371],\n",
       "         [0.16151245],\n",
       "         [0.16151245],\n",
       "         [0.87413999],\n",
       "         [0.87413999],\n",
       "         [0.30939707],\n",
       "         [0.30939707],\n",
       "         [0.07500507],\n",
       "         [0.07500507],\n",
       "         [0.13244509],\n",
       "         [0.13244509],\n",
       "         [0.95433408],\n",
       "         [0.95433408],\n",
       "         [0.66040537],\n",
       "         [0.66040537],\n",
       "         [0.89909638],\n",
       "         [0.89909638],\n",
       "         [0.81287226],\n",
       "         [0.81287226],\n",
       "         [0.39796038],\n",
       "         [0.39796038],\n",
       "         [0.99548088],\n",
       "         [0.99548088],\n",
       "         [0.61604802],\n",
       "         [0.61604802],\n",
       "         [0.59558551],\n",
       "         [0.59558551],\n",
       "         [0.73911775],\n",
       "         [0.73911775]])}}"
      ]
     },
     "execution_count": 1,
     "metadata": {},
     "output_type": "execute_result"
    }
   ],
   "source": [
    "ds = load_by_id(run_id_a)\n",
    "ds.get_parameter_data('x1')"
   ]
  },
  {
   "cell_type": "code",
   "execution_count": null,
   "metadata": {},
   "outputs": [],
   "source": []
  }
 ],
 "metadata": {
  "kernelspec": {
   "display_name": "Python 3",
   "language": "python",
   "name": "python3"
  },
  "language_info": {
   "codemirror_mode": {
    "name": "ipython",
    "version": 3
   },
   "file_extension": ".py",
   "mimetype": "text/x-python",
   "name": "python",
   "nbconvert_exporter": "python",
   "pygments_lexer": "ipython3",
   "version": "3.7.10"
  },
  "nbsphinx": {
   "timeout": 600
  },
  "toc": {
   "base_numbering": 1,
   "nav_menu": {},
   "number_sections": true,
   "sideBar": true,
   "skip_h1_title": false,
   "title_cell": "Table of Contents",
   "title_sidebar": "Contents",
   "toc_cell": false,
   "toc_position": {},
   "toc_section_display": true,
   "toc_window_display": false
  },
  "varInspector": {
   "cols": {
    "lenName": 16,
    "lenType": 16,
    "lenVar": 40
   },
   "kernels_config": {
    "python": {
     "delete_cmd_postfix": "",
     "delete_cmd_prefix": "del ",
     "library": "var_list.py",
     "varRefreshCmd": "print(var_dic_list())"
    },
    "r": {
     "delete_cmd_postfix": ") ",
     "delete_cmd_prefix": "rm(",
     "library": "var_list.r",
     "varRefreshCmd": "cat(var_dic_list()) "
    }
   },
   "types_to_exclude": [
    "module",
    "function",
    "builtin_function_or_method",
    "instance",
    "_Feature"
   ],
   "window_display": false
  }
 },
 "nbformat": 4,
 "nbformat_minor": 4
}
