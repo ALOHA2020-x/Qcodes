{
 "cells": [
  {
   "cell_type": "markdown",
   "metadata": {},
   "source": [
    "# DataSet Performance\n",
    "\n",
    "This notebook shows the trade-off between inserting data into a database row-by-row and as binary blobs. Inserting the data row-by-row means that we have direct access to all the data and may perform queries directly on the values of the data. On the other hand, as we shall see, this is much slower than inserting the data directly as binary blobs."
   ]
  },
  {
   "cell_type": "markdown",
   "metadata": {},
   "source": [
    "First, we choose a new location for the database to ensure that we don't add a bunch of benchmarking data to the default one."
   ]
  },
  {
   "cell_type": "code",
   "execution_count": 1,
   "metadata": {
    "execution": {
     "iopub.execute_input": "2021-01-07T12:00:48.379546Z",
     "iopub.status.busy": "2021-01-07T12:00:48.378697Z",
     "iopub.status.idle": "2021-01-07T12:00:49.335180Z",
     "shell.execute_reply": "2021-01-07T12:00:49.335610Z"
    }
   },
   "outputs": [
    {
     "name": "stdout",
     "output_type": "stream",
     "text": [
      "Logging hadn't been started.\n",
      "Activating auto-logging. Current session state plus future input saved.\n",
      "Filename       : /home/vsts/.qcodes/logs/command_history.log\n",
      "Mode           : append\n",
      "Output logging : True\n",
      "Raw input log  : False\n",
      "Timestamping   : True\n",
      "State          : active\n"
     ]
    },
    {
     "name": "stdout",
     "output_type": "stream",
     "text": [
      "Qcodes Logfile : /home/vsts/.qcodes/logs/210107-13370-qcodes.log\n"
     ]
    }
   ],
   "source": [
    "import os\n",
    "cwd = os.getcwd()\n",
    "import qcodes as qc\n",
    "qc.config[\"core\"][\"db_location\"] = os.path.join(cwd, 'testing.db')\n"
   ]
  },
  {
   "cell_type": "code",
   "execution_count": 2,
   "metadata": {
    "execution": {
     "iopub.execute_input": "2021-01-07T12:00:49.341795Z",
     "iopub.status.busy": "2021-01-07T12:00:49.340970Z",
     "iopub.status.idle": "2021-01-07T12:00:49.508113Z",
     "shell.execute_reply": "2021-01-07T12:00:49.507583Z"
    }
   },
   "outputs": [],
   "source": [
    "%matplotlib inline\n",
    "import time\n",
    "import matplotlib.pyplot as plt\n",
    "import numpy as np\n",
    "\n",
    "import qcodes as qc\n",
    "from qcodes.instrument.parameter import ManualParameter\n",
    "from qcodes.dataset.experiment_container import (Experiment,\n",
    "                                                 load_last_experiment,\n",
    "                                                 new_experiment)\n",
    "from qcodes.dataset.sqlite.database import initialise_database\n",
    "from qcodes import load_or_create_experiment\n",
    "from qcodes.dataset.measurements import Measurement"
   ]
  },
  {
   "cell_type": "code",
   "execution_count": 3,
   "metadata": {
    "execution": {
     "iopub.execute_input": "2021-01-07T12:00:49.511809Z",
     "iopub.status.busy": "2021-01-07T12:00:49.510947Z",
     "iopub.status.idle": "2021-01-07T12:00:49.609455Z",
     "shell.execute_reply": "2021-01-07T12:00:49.608967Z"
    }
   },
   "outputs": [
    {
     "name": "stdout",
     "output_type": "stream",
     "text": [
      "\r",
      "0it [00:00, ?it/s]"
     ]
    },
    {
     "name": "stdout",
     "output_type": "stream",
     "text": [
      "\r",
      "Upgrading database; v0 -> v1: : 0it [00:00, ?it/s]"
     ]
    },
    {
     "name": "stdout",
     "output_type": "stream",
     "text": [
      "\r",
      "Upgrading database; v0 -> v1: : 0it [00:00, ?it/s]"
     ]
    },
    {
     "name": "stdout",
     "output_type": "stream",
     "text": [
      "\n",
      "\r",
      "  0%|          | 0/1 [00:00<?, ?it/s]"
     ]
    },
    {
     "name": "stdout",
     "output_type": "stream",
     "text": [
      "\r",
      "Upgrading database; v1 -> v2:   0%|          | 0/1 [00:00<?, ?it/s]"
     ]
    },
    {
     "name": "stdout",
     "output_type": "stream",
     "text": [
      "\r",
      "Upgrading database; v1 -> v2: 100%|██████████| 1/1 [00:00<00:00, 1410.32it/s]"
     ]
    },
    {
     "name": "stdout",
     "output_type": "stream",
     "text": [
      "\n",
      "\r",
      "0it [00:00, ?it/s]"
     ]
    },
    {
     "name": "stdout",
     "output_type": "stream",
     "text": [
      "\r",
      "Upgrading database; v2 -> v3: : 0it [00:00, ?it/s]"
     ]
    },
    {
     "name": "stdout",
     "output_type": "stream",
     "text": [
      "\r",
      "Upgrading database; v2 -> v3: : 0it [00:00, ?it/s]"
     ]
    },
    {
     "name": "stdout",
     "output_type": "stream",
     "text": [
      "\n",
      "\r",
      "0it [00:00, ?it/s]"
     ]
    },
    {
     "name": "stdout",
     "output_type": "stream",
     "text": [
      "\r",
      "Upgrading database; v3 -> v4: : 0it [00:00, ?it/s]"
     ]
    },
    {
     "name": "stdout",
     "output_type": "stream",
     "text": [
      "\r",
      "Upgrading database; v3 -> v4: : 0it [00:00, ?it/s]"
     ]
    },
    {
     "name": "stdout",
     "output_type": "stream",
     "text": [
      "\n",
      "\r",
      "  0%|          | 0/1 [00:00<?, ?it/s]"
     ]
    },
    {
     "name": "stdout",
     "output_type": "stream",
     "text": [
      "\r",
      "Upgrading database; v4 -> v5:   0%|          | 0/1 [00:00<?, ?it/s]"
     ]
    },
    {
     "name": "stdout",
     "output_type": "stream",
     "text": [
      "\r",
      "Upgrading database; v4 -> v5: 100%|██████████| 1/1 [00:00<00:00, 669.27it/s]"
     ]
    },
    {
     "name": "stdout",
     "output_type": "stream",
     "text": [
      "\n",
      "\r",
      "0it [00:00, ?it/s]"
     ]
    },
    {
     "name": "stdout",
     "output_type": "stream",
     "text": [
      "\r",
      "Upgrading database; v5 -> v6: : 0it [00:00, ?it/s]"
     ]
    },
    {
     "name": "stdout",
     "output_type": "stream",
     "text": [
      "\r",
      "Upgrading database; v5 -> v6: : 0it [00:00, ?it/s]"
     ]
    },
    {
     "name": "stdout",
     "output_type": "stream",
     "text": [
      "\n",
      "\r",
      "  0%|          | 0/1 [00:00<?, ?it/s]"
     ]
    },
    {
     "name": "stdout",
     "output_type": "stream",
     "text": [
      "\r",
      "Upgrading database; v6 -> v7:   0%|          | 0/1 [00:00<?, ?it/s]"
     ]
    },
    {
     "name": "stdout",
     "output_type": "stream",
     "text": [
      "\r",
      "Upgrading database; v6 -> v7: 100%|██████████| 1/1 [00:00<00:00, 618.45it/s]"
     ]
    },
    {
     "name": "stdout",
     "output_type": "stream",
     "text": [
      "\n",
      "\r",
      "  0%|          | 0/1 [00:00<?, ?it/s]"
     ]
    },
    {
     "name": "stdout",
     "output_type": "stream",
     "text": [
      "\r",
      "Upgrading database; v7 -> v8:   0%|          | 0/1 [00:00<?, ?it/s]"
     ]
    },
    {
     "name": "stdout",
     "output_type": "stream",
     "text": [
      "\r",
      "Upgrading database; v7 -> v8: 100%|██████████| 1/1 [00:00<00:00, 1362.67it/s]"
     ]
    },
    {
     "name": "stdout",
     "output_type": "stream",
     "text": [
      "\n",
      "\r",
      "  0%|          | 0/1 [00:00<?, ?it/s]"
     ]
    },
    {
     "name": "stdout",
     "output_type": "stream",
     "text": [
      "\r",
      "Upgrading database; v8 -> v9:   0%|          | 0/1 [00:00<?, ?it/s]"
     ]
    },
    {
     "name": "stdout",
     "output_type": "stream",
     "text": [
      "\r",
      "Upgrading database; v8 -> v9: 100%|██████████| 1/1 [00:00<00:00, 1485.24it/s]"
     ]
    },
    {
     "name": "stdout",
     "output_type": "stream",
     "text": [
      "\n"
     ]
    }
   ],
   "source": [
    "initialise_database()\n",
    "exp = load_or_create_experiment(experiment_name='tutorial_exp', sample_name=\"no sample\")"
   ]
  },
  {
   "cell_type": "markdown",
   "metadata": {},
   "source": [
    "Here, we define a simple function to benchmark the time it takes to insert n points with either numeric or array data type.\n",
    "We will compare both the time used to call ``add_result`` and the time used for the full measurement."
   ]
  },
  {
   "cell_type": "code",
   "execution_count": 4,
   "metadata": {
    "execution": {
     "iopub.execute_input": "2021-01-07T12:00:49.617361Z",
     "iopub.status.busy": "2021-01-07T12:00:49.616549Z",
     "iopub.status.idle": "2021-01-07T12:00:49.618090Z",
     "shell.execute_reply": "2021-01-07T12:00:49.618447Z"
    }
   },
   "outputs": [],
   "source": [
    "def insert_data(paramtype, npoints, nreps=1):\n",
    "\n",
    "    meas = Measurement(exp=exp)\n",
    "\n",
    "    x1 = ManualParameter('x1')\n",
    "    x2 = ManualParameter('x2')\n",
    "    x3 = ManualParameter('x3')\n",
    "    y1 = ManualParameter('y1')\n",
    "    y2 = ManualParameter('y2')\n",
    "\n",
    "    meas.register_parameter(x1, paramtype=paramtype)\n",
    "    meas.register_parameter(x2, paramtype=paramtype)\n",
    "    meas.register_parameter(x3, paramtype=paramtype)\n",
    "    meas.register_parameter(y1, setpoints=[x1, x2, x3],\n",
    "                            paramtype=paramtype)\n",
    "    meas.register_parameter(y2, setpoints=[x1, x2, x3],\n",
    "                            paramtype=paramtype)\n",
    "    start = time.perf_counter()\n",
    "    with meas.run() as datasaver:\n",
    "        start_adding = time.perf_counter()\n",
    "        for i in range(nreps):\n",
    "            datasaver.add_result((x1, np.random.rand(npoints)),\n",
    "                                 (x2, np.random.rand(npoints)),\n",
    "                                 (x3, np.random.rand(npoints)),\n",
    "                                 (y1, np.random.rand(npoints)),\n",
    "                                 (y2, np.random.rand(npoints)))\n",
    "        stop_adding = time.perf_counter()\n",
    "        run_id = datasaver.run_id\n",
    "    stop = time.perf_counter()\n",
    "    tot_time = stop - start\n",
    "    add_time = stop_adding - start_adding\n",
    "    return tot_time, add_time, run_id"
   ]
  },
  {
   "cell_type": "markdown",
   "metadata": {},
   "source": [
    "## Comparison between numeric/array data and binary blob"
   ]
  },
  {
   "cell_type": "markdown",
   "metadata": {},
   "source": [
    "### Case1: Short experiment time"
   ]
  },
  {
   "cell_type": "code",
   "execution_count": 5,
   "metadata": {
    "execution": {
     "iopub.execute_input": "2021-01-07T12:00:49.623983Z",
     "iopub.status.busy": "2021-01-07T12:00:49.623510Z",
     "iopub.status.idle": "2021-01-07T12:00:50.330143Z",
     "shell.execute_reply": "2021-01-07T12:00:50.330517Z"
    }
   },
   "outputs": [
    {
     "name": "stdout",
     "output_type": "stream",
     "text": [
      "Starting experimental run with id: 1. \n",
      "Starting experimental run with id: 2. \n",
      "Starting experimental run with id: 3. \n",
      "Starting experimental run with id: 4. \n",
      "Starting experimental run with id: 5. \n",
      "Starting experimental run with id: 6. \n",
      "Starting experimental run with id: 7. \n"
     ]
    },
    {
     "name": "stdout",
     "output_type": "stream",
     "text": [
      "Starting experimental run with id: 8. \n"
     ]
    },
    {
     "name": "stdout",
     "output_type": "stream",
     "text": [
      "Starting experimental run with id: 9. \n",
      "Starting experimental run with id: 10. \n",
      "Starting experimental run with id: 11. \n"
     ]
    },
    {
     "name": "stdout",
     "output_type": "stream",
     "text": [
      "Starting experimental run with id: 12. \n",
      "Starting experimental run with id: 13. \n"
     ]
    },
    {
     "name": "stdout",
     "output_type": "stream",
     "text": [
      "Starting experimental run with id: 14. \n"
     ]
    }
   ],
   "source": [
    "sizes = [1,500,1000,2000,3000,4000,5000]\n",
    "t_numeric = []\n",
    "t_numeric_add = []\n",
    "t_array = []\n",
    "t_array_add = []\n",
    "for size in sizes:\n",
    "    tn, tna, run_id_n =  insert_data('numeric', size)\n",
    "    t_numeric.append(tn)\n",
    "    t_numeric_add.append(tna)\n",
    "\n",
    "    ta, taa, run_id_a =  insert_data('array', size)\n",
    "    t_array.append(ta)\n",
    "    t_array_add.append(taa)"
   ]
  },
  {
   "cell_type": "code",
   "execution_count": 6,
   "metadata": {
    "execution": {
     "iopub.execute_input": "2021-01-07T12:00:50.345632Z",
     "iopub.status.busy": "2021-01-07T12:00:50.335990Z",
     "iopub.status.idle": "2021-01-07T12:00:50.519325Z",
     "shell.execute_reply": "2021-01-07T12:00:50.518821Z"
    }
   },
   "outputs": [
    {
     "data": {
      "image/png": "[encoded data removed]",
      "text/plain": [
       "<Figure size 432x288 with 1 Axes>"
      ]
     },
     "metadata": {
      "needs_background": "light"
     },
     "output_type": "display_data"
    }
   ],
   "source": [
    "fig, ax = plt.subplots(1,1)\n",
    "ax.plot(sizes, t_numeric, 'o-', label='Inserting row-by-row')\n",
    "ax.plot(sizes, t_numeric_add, 'o-', label='Inserting row-by-row: add_result only')\n",
    "ax.plot(sizes, t_array, 'd-', label='Inserting as binary blob')\n",
    "ax.plot(sizes, t_array_add, 'd-', label='Inserting as binary blob: add_result only')\n",
    "ax.legend()\n",
    "ax.set_xlabel('Array length')\n",
    "ax.set_ylabel('Time (s)')\n",
    "fig.tight_layout()"
   ]
  },
  {
   "cell_type": "markdown",
   "metadata": {},
   "source": [
    "As shown in the latter figure, the time to setup and and close the experiment is approximately 0.4 sec. In case of small array sizes, the difference between inserting values of data as arrays and inserting them row-by-row is relatively unimportant. At larger array sizes, i.e. above 10000 points, the cost of writing data as individual datapoints starts to become important.\n"
   ]
  },
  {
   "cell_type": "markdown",
   "metadata": {},
   "source": [
    "### Case2: Long experiment time "
   ]
  },
  {
   "cell_type": "code",
   "execution_count": 7,
   "metadata": {
    "execution": {
     "iopub.execute_input": "2021-01-07T12:00:50.525602Z",
     "iopub.status.busy": "2021-01-07T12:00:50.524617Z",
     "iopub.status.idle": "2021-01-07T12:01:42.442491Z",
     "shell.execute_reply": "2021-01-07T12:01:42.442905Z"
    }
   },
   "outputs": [
    {
     "name": "stdout",
     "output_type": "stream",
     "text": [
      "Starting experimental run with id: 15. \n",
      "Starting experimental run with id: 16. \n",
      "Starting experimental run with id: 17. \n"
     ]
    },
    {
     "name": "stdout",
     "output_type": "stream",
     "text": [
      "Starting experimental run with id: 18. \n",
      "Starting experimental run with id: 19. \n"
     ]
    },
    {
     "name": "stdout",
     "output_type": "stream",
     "text": [
      "Starting experimental run with id: 20. \n"
     ]
    },
    {
     "name": "stdout",
     "output_type": "stream",
     "text": [
      "Starting experimental run with id: 21. \n"
     ]
    },
    {
     "name": "stdout",
     "output_type": "stream",
     "text": [
      "Starting experimental run with id: 22. \n"
     ]
    },
    {
     "name": "stdout",
     "output_type": "stream",
     "text": [
      "Starting experimental run with id: 23. \n"
     ]
    },
    {
     "name": "stdout",
     "output_type": "stream",
     "text": [
      "Starting experimental run with id: 24. \n"
     ]
    },
    {
     "name": "stdout",
     "output_type": "stream",
     "text": [
      "Starting experimental run with id: 25. \n"
     ]
    },
    {
     "name": "stdout",
     "output_type": "stream",
     "text": [
      "Starting experimental run with id: 26. \n"
     ]
    },
    {
     "name": "stdout",
     "output_type": "stream",
     "text": [
      "Starting experimental run with id: 27. \n"
     ]
    },
    {
     "name": "stdout",
     "output_type": "stream",
     "text": [
      "Starting experimental run with id: 28. \n"
     ]
    }
   ],
   "source": [
    "sizes = [1,500,1000,2000,3000,4000,5000]\n",
    "nreps = 100\n",
    "t_numeric = []\n",
    "t_numeric_add = []\n",
    "t_numeric_run_ids = []\n",
    "t_array = []\n",
    "t_array_add = []\n",
    "t_array_run_ids = []\n",
    "for size in sizes:\n",
    "    tn, tna, run_id_n =  insert_data('numeric', size, nreps=nreps)\n",
    "    t_numeric.append(tn)\n",
    "    t_numeric_add.append(tna)\n",
    "    t_numeric_run_ids.append(run_id_n)\n",
    "\n",
    "    ta, taa, run_id_a =  insert_data('array', size, nreps=nreps)\n",
    "    t_array.append(ta)\n",
    "    t_array_add.append(taa)\n",
    "    t_array_run_ids.append(run_id_a)"
   ]
  },
  {
   "cell_type": "code",
   "execution_count": 8,
   "metadata": {
    "execution": {
     "iopub.execute_input": "2021-01-07T12:01:42.469032Z",
     "iopub.status.busy": "2021-01-07T12:01:42.451891Z",
     "iopub.status.idle": "2021-01-07T12:01:42.617285Z",
     "shell.execute_reply": "2021-01-07T12:01:42.616858Z"
    },
    "scrolled": true
   },
   "outputs": [
    {
     "data": {
      "image/png": "[encoded data removed]",
      "text/plain": [
       "<Figure size 432x288 with 1 Axes>"
      ]
     },
     "metadata": {
      "needs_background": "light"
     },
     "output_type": "display_data"
    }
   ],
   "source": [
    "fig, ax = plt.subplots(1,1)\n",
    "ax.plot(sizes, t_numeric, 'o-', label='Inserting row-by-row')\n",
    "ax.plot(sizes, t_numeric_add, 'o-', label='Inserting row-by-row: add_result only')\n",
    "ax.plot(sizes, t_array, 'd-', label='Inserting as binary blob')\n",
    "ax.plot(sizes, t_array_add, 'd-', label='Inserting as binary blob: add_result only')\n",
    "ax.legend()\n",
    "ax.set_xlabel('Array length')\n",
    "ax.set_ylabel('Time (s)')\n",
    "fig.tight_layout()"
   ]
  },
  {
   "cell_type": "markdown",
   "metadata": {},
   "source": [
    "However, as we increase the length of the experiment, as seen here by repeating the insertion 100 times, we see a big difference between inserting values of the data row-by-row and inserting it as a binary blob."
   ]
  },
  {
   "cell_type": "markdown",
   "metadata": {},
   "source": [
    "## Loading the data "
   ]
  },
  {
   "cell_type": "code",
   "execution_count": 9,
   "metadata": {
    "execution": {
     "iopub.execute_input": "2021-01-07T12:01:42.620818Z",
     "iopub.status.busy": "2021-01-07T12:01:42.620150Z",
     "iopub.status.idle": "2021-01-07T12:01:42.623338Z",
     "shell.execute_reply": "2021-01-07T12:01:42.622959Z"
    }
   },
   "outputs": [],
   "source": [
    "from qcodes.dataset.data_set import load_by_id\n",
    "from qcodes.dataset.data_export import get_data_by_id"
   ]
  },
  {
   "cell_type": "markdown",
   "metadata": {},
   "source": [
    "As usual you can load the data by using the ``load_by_id`` function but you will notice that the different storage methods\n",
    "are reflected in shape of the data as it is retrieved. "
   ]
  },
  {
   "cell_type": "code",
   "execution_count": 10,
   "metadata": {
    "execution": {
     "iopub.execute_input": "2021-01-07T12:01:42.627357Z",
     "iopub.status.busy": "2021-01-07T12:01:42.626169Z",
     "iopub.status.idle": "2021-01-07T12:01:42.627807Z",
     "shell.execute_reply": "2021-01-07T12:01:42.628255Z"
    }
   },
   "outputs": [],
   "source": [
    "run_id_n = t_numeric_run_ids[0]\n",
    "run_id_a = t_array_run_ids[0]"
   ]
  },
  {
   "cell_type": "code",
   "execution_count": 11,
   "metadata": {
    "execution": {
     "iopub.execute_input": "2021-01-07T12:01:42.631000Z",
     "iopub.status.busy": "2021-01-07T12:01:42.630554Z",
     "iopub.status.idle": "2021-01-07T12:01:42.638825Z",
     "shell.execute_reply": "2021-01-07T12:01:42.638434Z"
    },
    "scrolled": true
   },
   "outputs": [
    {
     "data": {
      "text/plain": [
       "{'x1': {'x1': array([0.99019681, 0.99019681, 0.26553308, 0.26553308, 0.71647111,\n",
       "         0.71647111, 0.46969346, 0.46969346, 0.03830278, 0.03830278,\n",
       "         0.05598676, 0.05598676, 0.96467525, 0.96467525, 0.89480198,\n",
       "         0.89480198, 0.64058434, 0.64058434, 0.38832417, 0.38832417,\n",
       "         0.75159855, 0.75159855, 0.16539988, 0.16539988, 0.12731779,\n",
       "         0.12731779, 0.40046251, 0.40046251, 0.04046171, 0.04046171,\n",
       "         0.09024397, 0.09024397, 0.62616957, 0.62616957, 0.51862298,\n",
       "         0.51862298, 0.03382695, 0.03382695, 0.92176993, 0.92176993,\n",
       "         0.83816195, 0.83816195, 0.37373565, 0.37373565, 0.71538158,\n",
       "         0.71538158, 0.25373569, 0.25373569, 0.72880095, 0.72880095,\n",
       "         0.34791629, 0.34791629, 0.41033531, 0.41033531, 0.70077914,\n",
       "         0.70077914, 0.60681066, 0.60681066, 0.22140575, 0.22140575,\n",
       "         0.77797421, 0.77797421, 0.61466934, 0.61466934, 0.02946458,\n",
       "         0.02946458, 0.09098546, 0.09098546, 0.93862824, 0.93862824,\n",
       "         0.61474162, 0.61474162, 0.73774924, 0.73774924, 0.39799992,\n",
       "         0.39799992, 0.58905126, 0.58905126, 0.9848411 , 0.9848411 ,\n",
       "         0.76249411, 0.76249411, 0.47525589, 0.47525589, 0.10695941,\n",
       "         0.10695941, 0.98368162, 0.98368162, 0.47661739, 0.47661739,\n",
       "         0.10432521, 0.10432521, 0.23319789, 0.23319789, 0.94475512,\n",
       "         0.94475512, 0.244361  , 0.244361  , 0.81891308, 0.81891308,\n",
       "         0.77374744, 0.77374744, 0.78212218, 0.78212218, 0.96632832,\n",
       "         0.96632832, 0.98014241, 0.98014241, 0.54326949, 0.54326949,\n",
       "         0.48654744, 0.48654744, 0.7558006 , 0.7558006 , 0.04113578,\n",
       "         0.04113578, 0.11612878, 0.11612878, 0.51329847, 0.51329847,\n",
       "         0.90995215, 0.90995215, 0.31811461, 0.31811461, 0.67286657,\n",
       "         0.67286657, 0.13595159, 0.13595159, 0.37409047, 0.37409047,\n",
       "         0.05642881, 0.05642881, 0.1574096 , 0.1574096 , 0.42744377,\n",
       "         0.42744377, 0.36133427, 0.36133427, 0.10022174, 0.10022174,\n",
       "         0.46600464, 0.46600464, 0.49295434, 0.49295434, 0.10908766,\n",
       "         0.10908766, 0.40266814, 0.40266814, 0.26776277, 0.26776277,\n",
       "         0.34918828, 0.34918828, 0.81868805, 0.81868805, 0.58235768,\n",
       "         0.58235768, 0.35651701, 0.35651701, 0.41786024, 0.41786024,\n",
       "         0.06941224, 0.06941224, 0.62458901, 0.62458901, 0.87192047,\n",
       "         0.87192047, 0.70917037, 0.70917037, 0.22983542, 0.22983542,\n",
       "         0.07853046, 0.07853046, 0.88347916, 0.88347916, 0.67615835,\n",
       "         0.67615835, 0.43796476, 0.43796476, 0.45975691, 0.45975691,\n",
       "         0.23310352, 0.23310352, 0.71369961, 0.71369961, 0.44824948,\n",
       "         0.44824948, 0.30734119, 0.30734119, 0.1181888 , 0.1181888 ,\n",
       "         0.87784221, 0.87784221, 0.81771371, 0.81771371, 0.08221068,\n",
       "         0.08221068, 0.11369528, 0.11369528, 0.53243705, 0.53243705])}}"
      ]
     },
     "execution_count": 1,
     "metadata": {},
     "output_type": "execute_result"
    }
   ],
   "source": [
    "ds = load_by_id(run_id_n)\n",
    "ds.get_parameter_data('x1')"
   ]
  },
  {
   "cell_type": "markdown",
   "metadata": {},
   "source": [
    "And a dataset stored as binary arrays"
   ]
  },
  {
   "cell_type": "code",
   "execution_count": 12,
   "metadata": {
    "execution": {
     "iopub.execute_input": "2021-01-07T12:01:42.641644Z",
     "iopub.status.busy": "2021-01-07T12:01:42.641204Z",
     "iopub.status.idle": "2021-01-07T12:01:42.687387Z",
     "shell.execute_reply": "2021-01-07T12:01:42.687800Z"
    },
    "scrolled": true
   },
   "outputs": [
    {
     "data": {
      "text/plain": [
       "{'x1': {'x1': array([[0.98524619],\n",
       "         [0.98524619],\n",
       "         [0.14653871],\n",
       "         [0.14653871],\n",
       "         [0.73207399],\n",
       "         [0.73207399],\n",
       "         [0.62445804],\n",
       "         [0.62445804],\n",
       "         [0.01155985],\n",
       "         [0.01155985],\n",
       "         [0.70537801],\n",
       "         [0.70537801],\n",
       "         [0.92658829],\n",
       "         [0.92658829],\n",
       "         [0.46342837],\n",
       "         [0.46342837],\n",
       "         [0.34179372],\n",
       "         [0.34179372],\n",
       "         [0.03477401],\n",
       "         [0.03477401],\n",
       "         [0.39391374],\n",
       "         [0.39391374],\n",
       "         [0.48104353],\n",
       "         [0.48104353],\n",
       "         [0.50786871],\n",
       "         [0.50786871],\n",
       "         [0.47064644],\n",
       "         [0.47064644],\n",
       "         [0.12328494],\n",
       "         [0.12328494],\n",
       "         [0.53095487],\n",
       "         [0.53095487],\n",
       "         [0.48803735],\n",
       "         [0.48803735],\n",
       "         [0.22657354],\n",
       "         [0.22657354],\n",
       "         [0.53402401],\n",
       "         [0.53402401],\n",
       "         [0.50569198],\n",
       "         [0.50569198],\n",
       "         [0.81377   ],\n",
       "         [0.81377   ],\n",
       "         [0.88699476],\n",
       "         [0.88699476],\n",
       "         [0.02548938],\n",
       "         [0.02548938],\n",
       "         [0.31438691],\n",
       "         [0.31438691],\n",
       "         [0.49822797],\n",
       "         [0.49822797],\n",
       "         [0.20845492],\n",
       "         [0.20845492],\n",
       "         [0.27826167],\n",
       "         [0.27826167],\n",
       "         [0.79585814],\n",
       "         [0.79585814],\n",
       "         [0.59201553],\n",
       "         [0.59201553],\n",
       "         [0.40776464],\n",
       "         [0.40776464],\n",
       "         [0.6950201 ],\n",
       "         [0.6950201 ],\n",
       "         [0.27659867],\n",
       "         [0.27659867],\n",
       "         [0.30700172],\n",
       "         [0.30700172],\n",
       "         [0.65326737],\n",
       "         [0.65326737],\n",
       "         [0.91482128],\n",
       "         [0.91482128],\n",
       "         [0.84929741],\n",
       "         [0.84929741],\n",
       "         [0.11386846],\n",
       "         [0.11386846],\n",
       "         [0.64394431],\n",
       "         [0.64394431],\n",
       "         [0.15559152],\n",
       "         [0.15559152],\n",
       "         [0.24266979],\n",
       "         [0.24266979],\n",
       "         [0.53761317],\n",
       "         [0.53761317],\n",
       "         [0.22821927],\n",
       "         [0.22821927],\n",
       "         [0.57603615],\n",
       "         [0.57603615],\n",
       "         [0.13822375],\n",
       "         [0.13822375],\n",
       "         [0.99839371],\n",
       "         [0.99839371],\n",
       "         [0.90234852],\n",
       "         [0.90234852],\n",
       "         [0.61393005],\n",
       "         [0.61393005],\n",
       "         [0.56333103],\n",
       "         [0.56333103],\n",
       "         [0.08505829],\n",
       "         [0.08505829],\n",
       "         [0.16314277],\n",
       "         [0.16314277],\n",
       "         [0.51376316],\n",
       "         [0.51376316],\n",
       "         [0.71553466],\n",
       "         [0.71553466],\n",
       "         [0.88595775],\n",
       "         [0.88595775],\n",
       "         [0.85592243],\n",
       "         [0.85592243],\n",
       "         [0.74453633],\n",
       "         [0.74453633],\n",
       "         [0.57728379],\n",
       "         [0.57728379],\n",
       "         [0.72310729],\n",
       "         [0.72310729],\n",
       "         [0.14721999],\n",
       "         [0.14721999],\n",
       "         [0.66999974],\n",
       "         [0.66999974],\n",
       "         [0.76427722],\n",
       "         [0.76427722],\n",
       "         [0.2242145 ],\n",
       "         [0.2242145 ],\n",
       "         [0.81897608],\n",
       "         [0.81897608],\n",
       "         [0.81998851],\n",
       "         [0.81998851],\n",
       "         [0.87324294],\n",
       "         [0.87324294],\n",
       "         [0.3565457 ],\n",
       "         [0.3565457 ],\n",
       "         [0.28942139],\n",
       "         [0.28942139],\n",
       "         [0.8720204 ],\n",
       "         [0.8720204 ],\n",
       "         [0.88010891],\n",
       "         [0.88010891],\n",
       "         [0.46283377],\n",
       "         [0.46283377],\n",
       "         [0.80523732],\n",
       "         [0.80523732],\n",
       "         [0.54128644],\n",
       "         [0.54128644],\n",
       "         [0.64989887],\n",
       "         [0.64989887],\n",
       "         [0.42689184],\n",
       "         [0.42689184],\n",
       "         [0.15620808],\n",
       "         [0.15620808],\n",
       "         [0.6811369 ],\n",
       "         [0.6811369 ],\n",
       "         [0.45591681],\n",
       "         [0.45591681],\n",
       "         [0.75619306],\n",
       "         [0.75619306],\n",
       "         [0.21051586],\n",
       "         [0.21051586],\n",
       "         [0.47028349],\n",
       "         [0.47028349],\n",
       "         [0.50228454],\n",
       "         [0.50228454],\n",
       "         [0.52891632],\n",
       "         [0.52891632],\n",
       "         [0.72386127],\n",
       "         [0.72386127],\n",
       "         [0.57122055],\n",
       "         [0.57122055],\n",
       "         [0.09802242],\n",
       "         [0.09802242],\n",
       "         [0.97092941],\n",
       "         [0.97092941],\n",
       "         [0.12571402],\n",
       "         [0.12571402],\n",
       "         [0.0731447 ],\n",
       "         [0.0731447 ],\n",
       "         [0.27908634],\n",
       "         [0.27908634],\n",
       "         [0.46856316],\n",
       "         [0.46856316],\n",
       "         [0.7498683 ],\n",
       "         [0.7498683 ],\n",
       "         [0.78023836],\n",
       "         [0.78023836],\n",
       "         [0.0506268 ],\n",
       "         [0.0506268 ],\n",
       "         [0.21957126],\n",
       "         [0.21957126],\n",
       "         [0.78319937],\n",
       "         [0.78319937],\n",
       "         [0.92620087],\n",
       "         [0.92620087],\n",
       "         [0.14349797],\n",
       "         [0.14349797],\n",
       "         [0.66754028],\n",
       "         [0.66754028],\n",
       "         [0.34878269],\n",
       "         [0.34878269],\n",
       "         [0.35674708],\n",
       "         [0.35674708],\n",
       "         [0.42794277],\n",
       "         [0.42794277]])}}"
      ]
     },
     "execution_count": 1,
     "metadata": {},
     "output_type": "execute_result"
    }
   ],
   "source": [
    "ds = load_by_id(run_id_a)\n",
    "ds.get_parameter_data('x1')"
   ]
  },
  {
   "cell_type": "code",
   "execution_count": null,
   "metadata": {},
   "outputs": [],
   "source": []
  }
 ],
 "metadata": {
  "kernelspec": {
   "display_name": "Python 3",
   "language": "python",
   "name": "python3"
  },
  "language_info": {
   "codemirror_mode": {
    "name": "ipython",
    "version": 3
   },
   "file_extension": ".py",
   "mimetype": "text/x-python",
   "name": "python",
   "nbconvert_exporter": "python",
   "pygments_lexer": "ipython3",
   "version": "3.7.9"
  },
  "nbsphinx": {
   "timeout": 600
  },
  "toc": {
   "base_numbering": 1,
   "nav_menu": {},
   "number_sections": true,
   "sideBar": true,
   "skip_h1_title": false,
   "title_cell": "Table of Contents",
   "title_sidebar": "Contents",
   "toc_cell": false,
   "toc_position": {},
   "toc_section_display": true,
   "toc_window_display": false
  },
  "varInspector": {
   "cols": {
    "lenName": 16,
    "lenType": 16,
    "lenVar": 40
   },
   "kernels_config": {
    "python": {
     "delete_cmd_postfix": "",
     "delete_cmd_prefix": "del ",
     "library": "var_list.py",
     "varRefreshCmd": "print(var_dic_list())"
    },
    "r": {
     "delete_cmd_postfix": ") ",
     "delete_cmd_prefix": "rm(",
     "library": "var_list.r",
     "varRefreshCmd": "cat(var_dic_list()) "
    }
   },
   "types_to_exclude": [
    "module",
    "function",
    "builtin_function_or_method",
    "instance",
    "_Feature"
   ],
   "window_display": false
  }
 },
 "nbformat": 4,
 "nbformat_minor": 2
}
