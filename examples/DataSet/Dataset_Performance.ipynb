{
 "cells": [
  {
   "cell_type": "markdown",
   "metadata": {},
   "source": [
    "# DataSet Performance\n",
    "\n",
    "This notebook shows the trade-off between inserting data into a database row-by-row and as binary blobs. Inserting the data row-by-row means that we have direct access to all the data and may perform queries directly on the values of the data. On the other hand, as we shall see, this is much slower than inserting the data directly as binary blobs."
   ]
  },
  {
   "cell_type": "markdown",
   "metadata": {},
   "source": [
    "First, we choose a new location for the database to ensure that we don't add a bunch of benchmarking data to the default one."
   ]
  },
  {
   "cell_type": "code",
   "execution_count": 1,
   "metadata": {
    "execution": {
     "iopub.execute_input": "2020-10-26T17:36:25.041553Z",
     "iopub.status.busy": "2020-10-26T17:36:25.040533Z",
     "iopub.status.idle": "2020-10-26T17:36:26.236185Z",
     "shell.execute_reply": "2020-10-26T17:36:26.234717Z"
    }
   },
   "outputs": [
    {
     "name": "stdout",
     "output_type": "stream",
     "text": [
      "Logging hadn't been started.\n",
      "Activating auto-logging. Current session state plus future input saved.\n",
      "Filename       : /home/vsts/.qcodes/logs/command_history.log\n",
      "Mode           : append\n",
      "Output logging : True\n",
      "Raw input log  : False\n",
      "Timestamping   : True\n",
      "State          : active\n"
     ]
    },
    {
     "name": "stdout",
     "output_type": "stream",
     "text": [
      "Qcodes Logfile : /home/vsts/.qcodes/logs/201026-14419-qcodes.log\n"
     ]
    }
   ],
   "source": [
    "import os\n",
    "cwd = os.getcwd()\n",
    "import qcodes as qc\n",
    "qc.config[\"core\"][\"db_location\"] = os.path.join(cwd, 'testing.db')\n"
   ]
  },
  {
   "cell_type": "code",
   "execution_count": 2,
   "metadata": {
    "execution": {
     "iopub.execute_input": "2020-10-26T17:36:26.242835Z",
     "iopub.status.busy": "2020-10-26T17:36:26.242200Z",
     "iopub.status.idle": "2020-10-26T17:36:26.453527Z",
     "shell.execute_reply": "2020-10-26T17:36:26.454090Z"
    }
   },
   "outputs": [],
   "source": [
    "%matplotlib inline\n",
    "import time\n",
    "import matplotlib.pyplot as plt\n",
    "import numpy as np\n",
    "\n",
    "import qcodes as qc\n",
    "from qcodes.instrument.parameter import ManualParameter\n",
    "from qcodes.dataset.experiment_container import (Experiment,\n",
    "                                                 load_last_experiment,\n",
    "                                                 new_experiment)\n",
    "from qcodes.dataset.sqlite.database import initialise_database\n",
    "from qcodes import load_or_create_experiment\n",
    "from qcodes.dataset.measurements import Measurement"
   ]
  },
  {
   "cell_type": "code",
   "execution_count": 3,
   "metadata": {
    "execution": {
     "iopub.execute_input": "2020-10-26T17:36:26.458722Z",
     "iopub.status.busy": "2020-10-26T17:36:26.457936Z",
     "iopub.status.idle": "2020-10-26T17:36:26.596962Z",
     "shell.execute_reply": "2020-10-26T17:36:26.596329Z"
    }
   },
   "outputs": [
    {
     "name": "stdout",
     "output_type": "stream",
     "text": [
      "\r",
      "0it [00:00, ?it/s]"
     ]
    },
    {
     "name": "stdout",
     "output_type": "stream",
     "text": [
      "\r",
      "Upgrading database; v0 -> v1: : 0it [00:00, ?it/s]"
     ]
    },
    {
     "name": "stdout",
     "output_type": "stream",
     "text": [
      "\r",
      "Upgrading database; v0 -> v1: : 0it [00:00, ?it/s]"
     ]
    },
    {
     "name": "stdout",
     "output_type": "stream",
     "text": [
      "\n",
      "\r",
      "  0%|          | 0/1 [00:00<?, ?it/s]"
     ]
    },
    {
     "name": "stdout",
     "output_type": "stream",
     "text": [
      "\r",
      "Upgrading database; v1 -> v2:   0%|          | 0/1 [00:00<?, ?it/s]"
     ]
    },
    {
     "name": "stdout",
     "output_type": "stream",
     "text": [
      "\r",
      "Upgrading database; v1 -> v2: 100%|██████████| 1/1 [00:00<00:00, 327.09it/s]"
     ]
    },
    {
     "name": "stdout",
     "output_type": "stream",
     "text": [
      "\n",
      "\r",
      "0it [00:00, ?it/s]"
     ]
    },
    {
     "name": "stdout",
     "output_type": "stream",
     "text": [
      "\r",
      "Upgrading database; v2 -> v3: : 0it [00:00, ?it/s]"
     ]
    },
    {
     "name": "stdout",
     "output_type": "stream",
     "text": [
      "\r",
      "Upgrading database; v2 -> v3: : 0it [00:00, ?it/s]"
     ]
    },
    {
     "name": "stdout",
     "output_type": "stream",
     "text": [
      "\n",
      "\r",
      "0it [00:00, ?it/s]"
     ]
    },
    {
     "name": "stdout",
     "output_type": "stream",
     "text": [
      "\r",
      "Upgrading database; v3 -> v4: : 0it [00:00, ?it/s]"
     ]
    },
    {
     "name": "stdout",
     "output_type": "stream",
     "text": [
      "\r",
      "Upgrading database; v3 -> v4: : 0it [00:00, ?it/s]"
     ]
    },
    {
     "name": "stdout",
     "output_type": "stream",
     "text": [
      "\n",
      "\r",
      "  0%|          | 0/1 [00:00<?, ?it/s]"
     ]
    },
    {
     "name": "stdout",
     "output_type": "stream",
     "text": [
      "\r",
      "Upgrading database; v4 -> v5:   0%|          | 0/1 [00:00<?, ?it/s]"
     ]
    },
    {
     "name": "stdout",
     "output_type": "stream",
     "text": [
      "\r",
      "Upgrading database; v4 -> v5: 100%|██████████| 1/1 [00:00<00:00, 386.29it/s]"
     ]
    },
    {
     "name": "stdout",
     "output_type": "stream",
     "text": [
      "\n",
      "\r",
      "0it [00:00, ?it/s]"
     ]
    },
    {
     "name": "stdout",
     "output_type": "stream",
     "text": [
      "\r",
      "Upgrading database; v5 -> v6: : 0it [00:00, ?it/s]"
     ]
    },
    {
     "name": "stdout",
     "output_type": "stream",
     "text": [
      "\r",
      "Upgrading database; v5 -> v6: : 0it [00:00, ?it/s]"
     ]
    },
    {
     "name": "stdout",
     "output_type": "stream",
     "text": [
      "\n",
      "\r",
      "  0%|          | 0/1 [00:00<?, ?it/s]"
     ]
    },
    {
     "name": "stdout",
     "output_type": "stream",
     "text": [
      "\r",
      "Upgrading database; v6 -> v7:   0%|          | 0/1 [00:00<?, ?it/s]"
     ]
    },
    {
     "name": "stdout",
     "output_type": "stream",
     "text": [
      "\r",
      "Upgrading database; v6 -> v7: 100%|██████████| 1/1 [00:00<00:00, 219.05it/s]"
     ]
    },
    {
     "name": "stdout",
     "output_type": "stream",
     "text": [
      "\n",
      "\r",
      "  0%|          | 0/1 [00:00<?, ?it/s]"
     ]
    },
    {
     "name": "stdout",
     "output_type": "stream",
     "text": [
      "\r",
      "Upgrading database; v7 -> v8:   0%|          | 0/1 [00:00<?, ?it/s]"
     ]
    },
    {
     "name": "stdout",
     "output_type": "stream",
     "text": [
      "\r",
      "Upgrading database; v7 -> v8: 100%|██████████| 1/1 [00:00<00:00, 527.52it/s]"
     ]
    },
    {
     "name": "stdout",
     "output_type": "stream",
     "text": [
      "\n",
      "\r",
      "  0%|          | 0/1 [00:00<?, ?it/s]"
     ]
    },
    {
     "name": "stdout",
     "output_type": "stream",
     "text": [
      "\r",
      "Upgrading database; v8 -> v9:   0%|          | 0/1 [00:00<?, ?it/s]"
     ]
    },
    {
     "name": "stdout",
     "output_type": "stream",
     "text": [
      "\r",
      "Upgrading database; v8 -> v9: 100%|██████████| 1/1 [00:00<00:00, 681.89it/s]"
     ]
    },
    {
     "name": "stdout",
     "output_type": "stream",
     "text": [
      "\n"
     ]
    }
   ],
   "source": [
    "initialise_database()\n",
    "exp = load_or_create_experiment(experiment_name='tutorial_exp', sample_name=\"no sample\")"
   ]
  },
  {
   "cell_type": "markdown",
   "metadata": {},
   "source": [
    "Here, we define a simple function to benchmark the time it takes to insert n points with either numeric or array data type.\n",
    "We will compare both the time used to call ``add_result`` and the time used for the full measurement."
   ]
  },
  {
   "cell_type": "code",
   "execution_count": 4,
   "metadata": {
    "execution": {
     "iopub.execute_input": "2020-10-26T17:36:26.607760Z",
     "iopub.status.busy": "2020-10-26T17:36:26.604940Z",
     "iopub.status.idle": "2020-10-26T17:36:26.609714Z",
     "shell.execute_reply": "2020-10-26T17:36:26.610191Z"
    }
   },
   "outputs": [],
   "source": [
    "def insert_data(paramtype, npoints, nreps=1):\n",
    "\n",
    "    meas = Measurement(exp=exp)\n",
    "\n",
    "    x1 = ManualParameter('x1')\n",
    "    x2 = ManualParameter('x2')\n",
    "    x3 = ManualParameter('x3')\n",
    "    y1 = ManualParameter('y1')\n",
    "    y2 = ManualParameter('y2')\n",
    "\n",
    "    meas.register_parameter(x1, paramtype=paramtype)\n",
    "    meas.register_parameter(x2, paramtype=paramtype)\n",
    "    meas.register_parameter(x3, paramtype=paramtype)\n",
    "    meas.register_parameter(y1, setpoints=[x1, x2, x3],\n",
    "                            paramtype=paramtype)\n",
    "    meas.register_parameter(y2, setpoints=[x1, x2, x3],\n",
    "                            paramtype=paramtype)\n",
    "    start = time.perf_counter()\n",
    "    with meas.run() as datasaver:\n",
    "        start_adding = time.perf_counter()\n",
    "        for i in range(nreps):\n",
    "            datasaver.add_result((x1, np.random.rand(npoints)),\n",
    "                                 (x2, np.random.rand(npoints)),\n",
    "                                 (x3, np.random.rand(npoints)),\n",
    "                                 (y1, np.random.rand(npoints)),\n",
    "                                 (y2, np.random.rand(npoints)))\n",
    "        stop_adding = time.perf_counter()\n",
    "        run_id = datasaver.run_id\n",
    "    stop = time.perf_counter()\n",
    "    tot_time = stop - start\n",
    "    add_time = stop_adding - start_adding\n",
    "    return tot_time, add_time, run_id"
   ]
  },
  {
   "cell_type": "markdown",
   "metadata": {},
   "source": [
    "## Comparison between numeric/array data and binary blob"
   ]
  },
  {
   "cell_type": "markdown",
   "metadata": {},
   "source": [
    "### Case1: Short experiment time"
   ]
  },
  {
   "cell_type": "code",
   "execution_count": 5,
   "metadata": {
    "execution": {
     "iopub.execute_input": "2020-10-26T17:36:26.618635Z",
     "iopub.status.busy": "2020-10-26T17:36:26.617939Z",
     "iopub.status.idle": "2020-10-26T17:36:27.543210Z",
     "shell.execute_reply": "2020-10-26T17:36:27.543960Z"
    }
   },
   "outputs": [
    {
     "name": "stdout",
     "output_type": "stream",
     "text": [
      "Starting experimental run with id: 1. \n",
      "Starting experimental run with id: 2. \n",
      "Starting experimental run with id: 3. \n",
      "Starting experimental run with id: 4. \n"
     ]
    },
    {
     "name": "stdout",
     "output_type": "stream",
     "text": [
      "Starting experimental run with id: 5. \n"
     ]
    },
    {
     "name": "stdout",
     "output_type": "stream",
     "text": [
      "Starting experimental run with id: 6. \n",
      "Starting experimental run with id: 7. \n"
     ]
    },
    {
     "name": "stdout",
     "output_type": "stream",
     "text": [
      "Starting experimental run with id: 8. \n",
      "Starting experimental run with id: 9. \n"
     ]
    },
    {
     "name": "stdout",
     "output_type": "stream",
     "text": [
      "Starting experimental run with id: 10. \n",
      "Starting experimental run with id: 11. \n"
     ]
    },
    {
     "name": "stdout",
     "output_type": "stream",
     "text": [
      "Starting experimental run with id: 12. \n"
     ]
    },
    {
     "name": "stdout",
     "output_type": "stream",
     "text": [
      "Starting experimental run with id: 13. \n"
     ]
    },
    {
     "name": "stdout",
     "output_type": "stream",
     "text": [
      "Starting experimental run with id: 14. \n"
     ]
    }
   ],
   "source": [
    "sizes = [1,500,1000,2000,3000,4000,5000]\n",
    "t_numeric = []\n",
    "t_numeric_add = []\n",
    "t_array = []\n",
    "t_array_add = []\n",
    "for size in sizes:\n",
    "    tn, tna, run_id_n =  insert_data('numeric', size)\n",
    "    t_numeric.append(tn)\n",
    "    t_numeric_add.append(tna)\n",
    "\n",
    "    ta, taa, run_id_a =  insert_data('array', size)\n",
    "    t_array.append(ta)\n",
    "    t_array_add.append(taa)"
   ]
  },
  {
   "cell_type": "code",
   "execution_count": 6,
   "metadata": {
    "execution": {
     "iopub.execute_input": "2020-10-26T17:36:27.567859Z",
     "iopub.status.busy": "2020-10-26T17:36:27.563615Z",
     "iopub.status.idle": "2020-10-26T17:36:27.787373Z",
     "shell.execute_reply": "2020-10-26T17:36:27.788147Z"
    }
   },
   "outputs": [
    {
     "data": {
      "image/png": "[encoded data removed]",
      "text/plain": [
       "<Figure size 432x288 with 1 Axes>"
      ]
     },
     "metadata": {
      "needs_background": "light"
     },
     "output_type": "display_data"
    }
   ],
   "source": [
    "fig, ax = plt.subplots(1,1)\n",
    "ax.plot(sizes, t_numeric, 'o-', label='Inserting row-by-row')\n",
    "ax.plot(sizes, t_numeric_add, 'o-', label='Inserting row-by-row: add_result only')\n",
    "ax.plot(sizes, t_array, 'd-', label='Inserting as binary blob')\n",
    "ax.plot(sizes, t_array_add, 'd-', label='Inserting as binary blob: add_result only')\n",
    "ax.legend()\n",
    "ax.set_xlabel('Array length')\n",
    "ax.set_ylabel('Time (s)')\n",
    "fig.tight_layout()"
   ]
  },
  {
   "cell_type": "markdown",
   "metadata": {},
   "source": [
    "As shown in the latter figure, the time to setup and and close the experiment is approximately 0.4 sec. In case of small array sizes, the difference between inserting values of data as arrays and inserting them row-by-row is relatively unimportant. At larger array sizes, i.e. above 10000 points, the cost of writing data as individual datapoints starts to become important.\n"
   ]
  },
  {
   "cell_type": "markdown",
   "metadata": {},
   "source": [
    "### Case2: Long experiment time "
   ]
  },
  {
   "cell_type": "code",
   "execution_count": 7,
   "metadata": {
    "execution": {
     "iopub.execute_input": "2020-10-26T17:36:27.796676Z",
     "iopub.status.busy": "2020-10-26T17:36:27.795924Z",
     "iopub.status.idle": "2020-10-26T17:37:31.021520Z",
     "shell.execute_reply": "2020-10-26T17:37:31.022016Z"
    }
   },
   "outputs": [
    {
     "name": "stdout",
     "output_type": "stream",
     "text": [
      "Starting experimental run with id: 15. \n",
      "Starting experimental run with id: 16. \n",
      "Starting experimental run with id: 17. \n"
     ]
    },
    {
     "name": "stdout",
     "output_type": "stream",
     "text": [
      "Starting experimental run with id: 18. \n",
      "Starting experimental run with id: 19. \n"
     ]
    },
    {
     "name": "stdout",
     "output_type": "stream",
     "text": [
      "Starting experimental run with id: 20. \n"
     ]
    },
    {
     "name": "stdout",
     "output_type": "stream",
     "text": [
      "Starting experimental run with id: 21. \n"
     ]
    },
    {
     "name": "stdout",
     "output_type": "stream",
     "text": [
      "Starting experimental run with id: 22. \n"
     ]
    },
    {
     "name": "stdout",
     "output_type": "stream",
     "text": [
      "Starting experimental run with id: 23. \n"
     ]
    },
    {
     "name": "stdout",
     "output_type": "stream",
     "text": [
      "Starting experimental run with id: 24. \n"
     ]
    },
    {
     "name": "stdout",
     "output_type": "stream",
     "text": [
      "Starting experimental run with id: 25. \n"
     ]
    },
    {
     "name": "stdout",
     "output_type": "stream",
     "text": [
      "Starting experimental run with id: 26. \n"
     ]
    },
    {
     "name": "stdout",
     "output_type": "stream",
     "text": [
      "Starting experimental run with id: 27. \n"
     ]
    },
    {
     "name": "stdout",
     "output_type": "stream",
     "text": [
      "Starting experimental run with id: 28. \n"
     ]
    }
   ],
   "source": [
    "sizes = [1,500,1000,2000,3000,4000,5000]\n",
    "nreps = 100\n",
    "t_numeric = []\n",
    "t_numeric_add = []\n",
    "t_numeric_run_ids = []\n",
    "t_array = []\n",
    "t_array_add = []\n",
    "t_array_run_ids = []\n",
    "for size in sizes:\n",
    "    tn, tna, run_id_n =  insert_data('numeric', size, nreps=nreps)\n",
    "    t_numeric.append(tn)\n",
    "    t_numeric_add.append(tna)\n",
    "    t_numeric_run_ids.append(run_id_n)\n",
    "\n",
    "    ta, taa, run_id_a =  insert_data('array', size, nreps=nreps)\n",
    "    t_array.append(ta)\n",
    "    t_array_add.append(taa)\n",
    "    t_array_run_ids.append(run_id_a)"
   ]
  },
  {
   "cell_type": "code",
   "execution_count": 8,
   "metadata": {
    "execution": {
     "iopub.execute_input": "2020-10-26T17:37:31.057570Z",
     "iopub.status.busy": "2020-10-26T17:37:31.050138Z",
     "iopub.status.idle": "2020-10-26T17:37:31.270476Z",
     "shell.execute_reply": "2020-10-26T17:37:31.269008Z"
    },
    "scrolled": true
   },
   "outputs": [
    {
     "data": {
      "image/png": "[encoded data removed]",
      "text/plain": [
       "<Figure size 432x288 with 1 Axes>"
      ]
     },
     "metadata": {
      "needs_background": "light"
     },
     "output_type": "display_data"
    }
   ],
   "source": [
    "fig, ax = plt.subplots(1,1)\n",
    "ax.plot(sizes, t_numeric, 'o-', label='Inserting row-by-row')\n",
    "ax.plot(sizes, t_numeric_add, 'o-', label='Inserting row-by-row: add_result only')\n",
    "ax.plot(sizes, t_array, 'd-', label='Inserting as binary blob')\n",
    "ax.plot(sizes, t_array_add, 'd-', label='Inserting as binary blob: add_result only')\n",
    "ax.legend()\n",
    "ax.set_xlabel('Array length')\n",
    "ax.set_ylabel('Time (s)')\n",
    "fig.tight_layout()"
   ]
  },
  {
   "cell_type": "markdown",
   "metadata": {},
   "source": [
    "However, as we increase the length of the experiment, as seen here by repeating the insertion 100 times, we see a big difference between inserting values of the data row-by-row and inserting it as a binary blob."
   ]
  },
  {
   "cell_type": "markdown",
   "metadata": {},
   "source": [
    "## Loading the data "
   ]
  },
  {
   "cell_type": "code",
   "execution_count": 9,
   "metadata": {
    "execution": {
     "iopub.execute_input": "2020-10-26T17:37:31.275174Z",
     "iopub.status.busy": "2020-10-26T17:37:31.273917Z",
     "iopub.status.idle": "2020-10-26T17:37:31.279969Z",
     "shell.execute_reply": "2020-10-26T17:37:31.278874Z"
    }
   },
   "outputs": [],
   "source": [
    "from qcodes.dataset.data_set import load_by_id\n",
    "from qcodes.dataset.data_export import get_data_by_id"
   ]
  },
  {
   "cell_type": "markdown",
   "metadata": {},
   "source": [
    "As usual you can load the data by using the ``load_by_id`` function but you will notice that the different storage methods\n",
    "are reflected in shape of the data as it is retrieved. "
   ]
  },
  {
   "cell_type": "code",
   "execution_count": 10,
   "metadata": {
    "execution": {
     "iopub.execute_input": "2020-10-26T17:37:31.284228Z",
     "iopub.status.busy": "2020-10-26T17:37:31.283127Z",
     "iopub.status.idle": "2020-10-26T17:37:31.287450Z",
     "shell.execute_reply": "2020-10-26T17:37:31.286914Z"
    }
   },
   "outputs": [],
   "source": [
    "run_id_n = t_numeric_run_ids[0]\n",
    "run_id_a = t_array_run_ids[0]"
   ]
  },
  {
   "cell_type": "code",
   "execution_count": 11,
   "metadata": {
    "execution": {
     "iopub.execute_input": "2020-10-26T17:37:31.291337Z",
     "iopub.status.busy": "2020-10-26T17:37:31.290211Z",
     "iopub.status.idle": "2020-10-26T17:37:31.303301Z",
     "shell.execute_reply": "2020-10-26T17:37:31.303832Z"
    },
    "scrolled": true
   },
   "outputs": [
    {
     "data": {
      "text/plain": [
       "{'x1': {'x1': array([0.50214232, 0.50214232, 0.52597994, 0.52597994, 0.84518663,\n",
       "         0.84518663, 0.44286907, 0.44286907, 0.90370208, 0.90370208,\n",
       "         0.36894962, 0.36894962, 0.33434566, 0.33434566, 0.4544668 ,\n",
       "         0.4544668 , 0.20707592, 0.20707592, 0.25690468, 0.25690468,\n",
       "         0.0514276 , 0.0514276 , 0.26946131, 0.26946131, 0.26396897,\n",
       "         0.26396897, 0.01614295, 0.01614295, 0.10177697, 0.10177697,\n",
       "         0.92183658, 0.92183658, 0.08550125, 0.08550125, 0.80475262,\n",
       "         0.80475262, 0.76612876, 0.76612876, 0.19413746, 0.19413746,\n",
       "         0.93482109, 0.93482109, 0.84527326, 0.84527326, 0.77630915,\n",
       "         0.77630915, 0.77533881, 0.77533881, 0.66573218, 0.66573218,\n",
       "         0.29972074, 0.29972074, 0.18722567, 0.18722567, 0.43618343,\n",
       "         0.43618343, 0.78751812, 0.78751812, 0.74233558, 0.74233558,\n",
       "         0.89040471, 0.89040471, 0.5682757 , 0.5682757 , 0.17453492,\n",
       "         0.17453492, 0.55237924, 0.55237924, 0.91084571, 0.91084571,\n",
       "         0.17457278, 0.17457278, 0.5061609 , 0.5061609 , 0.49420214,\n",
       "         0.49420214, 0.52448399, 0.52448399, 0.09700434, 0.09700434,\n",
       "         0.96467845, 0.96467845, 0.345538  , 0.345538  , 0.27110933,\n",
       "         0.27110933, 0.2217125 , 0.2217125 , 0.77503362, 0.77503362,\n",
       "         0.55272616, 0.55272616, 0.0600541 , 0.0600541 , 0.84678672,\n",
       "         0.84678672, 0.65956285, 0.65956285, 0.15168567, 0.15168567,\n",
       "         0.54365554, 0.54365554, 0.78199686, 0.78199686, 0.09803861,\n",
       "         0.09803861, 0.49125722, 0.49125722, 0.77197348, 0.77197348,\n",
       "         0.72825676, 0.72825676, 0.12200292, 0.12200292, 0.09329485,\n",
       "         0.09329485, 0.85083774, 0.85083774, 0.64308394, 0.64308394,\n",
       "         0.67079898, 0.67079898, 0.82573536, 0.82573536, 0.65206786,\n",
       "         0.65206786, 0.04200078, 0.04200078, 0.95122581, 0.95122581,\n",
       "         0.69377627, 0.69377627, 0.93837022, 0.93837022, 0.36512608,\n",
       "         0.36512608, 0.47945423, 0.47945423, 0.03356951, 0.03356951,\n",
       "         0.88360175, 0.88360175, 0.74167449, 0.74167449, 0.70715252,\n",
       "         0.70715252, 0.38392873, 0.38392873, 0.27838766, 0.27838766,\n",
       "         0.32785453, 0.32785453, 0.59775964, 0.59775964, 0.05355969,\n",
       "         0.05355969, 0.96801496, 0.96801496, 0.86356075, 0.86356075,\n",
       "         0.66904011, 0.66904011, 0.58333468, 0.58333468, 0.96416661,\n",
       "         0.96416661, 0.47798495, 0.47798495, 0.63807413, 0.63807413,\n",
       "         0.24242541, 0.24242541, 0.82258189, 0.82258189, 0.21833796,\n",
       "         0.21833796, 0.65658043, 0.65658043, 0.89936967, 0.89936967,\n",
       "         0.60758972, 0.60758972, 0.00411909, 0.00411909, 0.68171029,\n",
       "         0.68171029, 0.08474535, 0.08474535, 0.7655299 , 0.7655299 ,\n",
       "         0.86500084, 0.86500084, 0.45319657, 0.45319657, 0.0290829 ,\n",
       "         0.0290829 , 0.1452573 , 0.1452573 , 0.06835415, 0.06835415])}}"
      ]
     },
     "execution_count": 1,
     "metadata": {},
     "output_type": "execute_result"
    }
   ],
   "source": [
    "ds = load_by_id(run_id_n)\n",
    "ds.get_parameter_data('x1')"
   ]
  },
  {
   "cell_type": "markdown",
   "metadata": {},
   "source": [
    "And a dataset stored as binary arrays"
   ]
  },
  {
   "cell_type": "code",
   "execution_count": 12,
   "metadata": {
    "execution": {
     "iopub.execute_input": "2020-10-26T17:37:31.308132Z",
     "iopub.status.busy": "2020-10-26T17:37:31.307218Z",
     "iopub.status.idle": "2020-10-26T17:37:31.375358Z",
     "shell.execute_reply": "2020-10-26T17:37:31.374680Z"
    },
    "scrolled": true
   },
   "outputs": [
    {
     "data": {
      "text/plain": [
       "{'x1': {'x1': array([[0.16960933],\n",
       "         [0.16960933],\n",
       "         [0.66352202],\n",
       "         [0.66352202],\n",
       "         [0.71387435],\n",
       "         [0.71387435],\n",
       "         [0.67183107],\n",
       "         [0.67183107],\n",
       "         [0.98593877],\n",
       "         [0.98593877],\n",
       "         [0.36282763],\n",
       "         [0.36282763],\n",
       "         [0.09102467],\n",
       "         [0.09102467],\n",
       "         [0.36338603],\n",
       "         [0.36338603],\n",
       "         [0.5657977 ],\n",
       "         [0.5657977 ],\n",
       "         [0.01245189],\n",
       "         [0.01245189],\n",
       "         [0.03368929],\n",
       "         [0.03368929],\n",
       "         [0.15842706],\n",
       "         [0.15842706],\n",
       "         [0.35756278],\n",
       "         [0.35756278],\n",
       "         [0.72704606],\n",
       "         [0.72704606],\n",
       "         [0.9645435 ],\n",
       "         [0.9645435 ],\n",
       "         [0.30130496],\n",
       "         [0.30130496],\n",
       "         [0.13521114],\n",
       "         [0.13521114],\n",
       "         [0.58242998],\n",
       "         [0.58242998],\n",
       "         [0.32944844],\n",
       "         [0.32944844],\n",
       "         [0.52735819],\n",
       "         [0.52735819],\n",
       "         [0.09796238],\n",
       "         [0.09796238],\n",
       "         [0.41364763],\n",
       "         [0.41364763],\n",
       "         [0.07644305],\n",
       "         [0.07644305],\n",
       "         [0.18837169],\n",
       "         [0.18837169],\n",
       "         [0.3314059 ],\n",
       "         [0.3314059 ],\n",
       "         [0.37549922],\n",
       "         [0.37549922],\n",
       "         [0.38110632],\n",
       "         [0.38110632],\n",
       "         [0.95282505],\n",
       "         [0.95282505],\n",
       "         [0.79939249],\n",
       "         [0.79939249],\n",
       "         [0.62017152],\n",
       "         [0.62017152],\n",
       "         [0.98830751],\n",
       "         [0.98830751],\n",
       "         [0.02628162],\n",
       "         [0.02628162],\n",
       "         [0.32339153],\n",
       "         [0.32339153],\n",
       "         [0.2757929 ],\n",
       "         [0.2757929 ],\n",
       "         [0.84119045],\n",
       "         [0.84119045],\n",
       "         [0.92190455],\n",
       "         [0.92190455],\n",
       "         [0.0180157 ],\n",
       "         [0.0180157 ],\n",
       "         [0.21695485],\n",
       "         [0.21695485],\n",
       "         [0.00864804],\n",
       "         [0.00864804],\n",
       "         [0.89751102],\n",
       "         [0.89751102],\n",
       "         [0.23211361],\n",
       "         [0.23211361],\n",
       "         [0.23315197],\n",
       "         [0.23315197],\n",
       "         [0.25031456],\n",
       "         [0.25031456],\n",
       "         [0.97956288],\n",
       "         [0.97956288],\n",
       "         [0.75255523],\n",
       "         [0.75255523],\n",
       "         [0.45717284],\n",
       "         [0.45717284],\n",
       "         [0.99996636],\n",
       "         [0.99996636],\n",
       "         [0.39563779],\n",
       "         [0.39563779],\n",
       "         [0.27318874],\n",
       "         [0.27318874],\n",
       "         [0.21619213],\n",
       "         [0.21619213],\n",
       "         [0.34126691],\n",
       "         [0.34126691],\n",
       "         [0.55912484],\n",
       "         [0.55912484],\n",
       "         [0.0494022 ],\n",
       "         [0.0494022 ],\n",
       "         [0.13499511],\n",
       "         [0.13499511],\n",
       "         [0.81885585],\n",
       "         [0.81885585],\n",
       "         [0.72171022],\n",
       "         [0.72171022],\n",
       "         [0.64140061],\n",
       "         [0.64140061],\n",
       "         [0.6771433 ],\n",
       "         [0.6771433 ],\n",
       "         [0.21315172],\n",
       "         [0.21315172],\n",
       "         [0.53581603],\n",
       "         [0.53581603],\n",
       "         [0.40308004],\n",
       "         [0.40308004],\n",
       "         [0.19978155],\n",
       "         [0.19978155],\n",
       "         [0.13069406],\n",
       "         [0.13069406],\n",
       "         [0.51307267],\n",
       "         [0.51307267],\n",
       "         [0.91156398],\n",
       "         [0.91156398],\n",
       "         [0.42838629],\n",
       "         [0.42838629],\n",
       "         [0.23191733],\n",
       "         [0.23191733],\n",
       "         [0.98441716],\n",
       "         [0.98441716],\n",
       "         [0.90582724],\n",
       "         [0.90582724],\n",
       "         [0.34762638],\n",
       "         [0.34762638],\n",
       "         [0.18452286],\n",
       "         [0.18452286],\n",
       "         [0.28239906],\n",
       "         [0.28239906],\n",
       "         [0.70457431],\n",
       "         [0.70457431],\n",
       "         [0.56381907],\n",
       "         [0.56381907],\n",
       "         [0.10572466],\n",
       "         [0.10572466],\n",
       "         [0.36772477],\n",
       "         [0.36772477],\n",
       "         [0.05186696],\n",
       "         [0.05186696],\n",
       "         [0.44631316],\n",
       "         [0.44631316],\n",
       "         [0.16958958],\n",
       "         [0.16958958],\n",
       "         [0.30328691],\n",
       "         [0.30328691],\n",
       "         [0.30159727],\n",
       "         [0.30159727],\n",
       "         [0.04760099],\n",
       "         [0.04760099],\n",
       "         [0.11118753],\n",
       "         [0.11118753],\n",
       "         [0.28870684],\n",
       "         [0.28870684],\n",
       "         [0.4001323 ],\n",
       "         [0.4001323 ],\n",
       "         [0.19018878],\n",
       "         [0.19018878],\n",
       "         [0.91930148],\n",
       "         [0.91930148],\n",
       "         [0.57708721],\n",
       "         [0.57708721],\n",
       "         [0.87186987],\n",
       "         [0.87186987],\n",
       "         [0.23723662],\n",
       "         [0.23723662],\n",
       "         [0.53860836],\n",
       "         [0.53860836],\n",
       "         [0.4064268 ],\n",
       "         [0.4064268 ],\n",
       "         [0.23026582],\n",
       "         [0.23026582],\n",
       "         [0.90271363],\n",
       "         [0.90271363],\n",
       "         [0.21981907],\n",
       "         [0.21981907],\n",
       "         [0.90154903],\n",
       "         [0.90154903],\n",
       "         [0.42545889],\n",
       "         [0.42545889],\n",
       "         [0.3226641 ],\n",
       "         [0.3226641 ],\n",
       "         [0.1032638 ],\n",
       "         [0.1032638 ],\n",
       "         [0.03841274],\n",
       "         [0.03841274]])}}"
      ]
     },
     "execution_count": 1,
     "metadata": {},
     "output_type": "execute_result"
    }
   ],
   "source": [
    "ds = load_by_id(run_id_a)\n",
    "ds.get_parameter_data('x1')"
   ]
  },
  {
   "cell_type": "code",
   "execution_count": null,
   "metadata": {},
   "outputs": [],
   "source": []
  }
 ],
 "metadata": {
  "kernelspec": {
   "display_name": "Python 3",
   "language": "python",
   "name": "python3"
  },
  "language_info": {
   "codemirror_mode": {
    "name": "ipython",
    "version": 3
   },
   "file_extension": ".py",
   "mimetype": "text/x-python",
   "name": "python",
   "nbconvert_exporter": "python",
   "pygments_lexer": "ipython3",
   "version": "3.7.7"
  },
  "nbsphinx": {
   "timeout": 600
  },
  "toc": {
   "base_numbering": 1,
   "nav_menu": {},
   "number_sections": true,
   "sideBar": true,
   "skip_h1_title": false,
   "title_cell": "Table of Contents",
   "title_sidebar": "Contents",
   "toc_cell": false,
   "toc_position": {},
   "toc_section_display": true,
   "toc_window_display": false
  },
  "varInspector": {
   "cols": {
    "lenName": 16,
    "lenType": 16,
    "lenVar": 40
   },
   "kernels_config": {
    "python": {
     "delete_cmd_postfix": "",
     "delete_cmd_prefix": "del ",
     "library": "var_list.py",
     "varRefreshCmd": "print(var_dic_list())"
    },
    "r": {
     "delete_cmd_postfix": ") ",
     "delete_cmd_prefix": "rm(",
     "library": "var_list.r",
     "varRefreshCmd": "cat(var_dic_list()) "
    }
   },
   "types_to_exclude": [
    "module",
    "function",
    "builtin_function_or_method",
    "instance",
    "_Feature"
   ],
   "window_display": false
  }
 },
 "nbformat": 4,
 "nbformat_minor": 2
}
