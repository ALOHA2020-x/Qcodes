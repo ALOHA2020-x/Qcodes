{
 "cells": [
  {
   "cell_type": "markdown",
   "metadata": {},
   "source": [
    "# DataSet Performance\n",
    "\n",
    "This notebook shows the trade-off between inserting data into a database row-by-row and as binary blobs. Inserting the data row-by-row means that we have direct access to all the data and may perform queries directly on the values of the data. On the other hand, as we shall see, this is much slower than inserting the data directly as binary blobs."
   ]
  },
  {
   "cell_type": "markdown",
   "metadata": {},
   "source": [
    "First, we choose a new location for the database to ensure that we don't add a bunch of benchmarking data to the default one."
   ]
  },
  {
   "cell_type": "code",
   "execution_count": 1,
   "metadata": {
    "execution": {
     "iopub.execute_input": "2020-10-13T12:16:24.909713Z",
     "iopub.status.busy": "2020-10-13T12:16:24.909220Z",
     "iopub.status.idle": "2020-10-13T12:16:25.871756Z",
     "shell.execute_reply": "2020-10-13T12:16:25.871208Z"
    }
   },
   "outputs": [
    {
     "name": "stdout",
     "output_type": "stream",
     "text": [
      "Logging hadn't been started.\n",
      "Activating auto-logging. Current session state plus future input saved.\n",
      "Filename       : /home/vsts/.qcodes/logs/command_history.log\n",
      "Mode           : append\n",
      "Output logging : True\n",
      "Raw input log  : False\n",
      "Timestamping   : True\n",
      "State          : active\n"
     ]
    },
    {
     "name": "stdout",
     "output_type": "stream",
     "text": [
      "Qcodes Logfile : /home/vsts/.qcodes/logs/201013-14947-qcodes.log\n"
     ]
    }
   ],
   "source": [
    "import os\n",
    "cwd = os.getcwd()\n",
    "import qcodes as qc\n",
    "qc.config[\"core\"][\"db_location\"] = os.path.join(cwd, 'testing.db')\n"
   ]
  },
  {
   "cell_type": "code",
   "execution_count": 2,
   "metadata": {
    "execution": {
     "iopub.execute_input": "2020-10-13T12:16:25.876557Z",
     "iopub.status.busy": "2020-10-13T12:16:25.875785Z",
     "iopub.status.idle": "2020-10-13T12:16:26.054995Z",
     "shell.execute_reply": "2020-10-13T12:16:26.055545Z"
    }
   },
   "outputs": [],
   "source": [
    "%matplotlib inline\n",
    "import time\n",
    "import matplotlib.pyplot as plt\n",
    "import numpy as np\n",
    "\n",
    "import qcodes as qc\n",
    "from qcodes.instrument.parameter import ManualParameter\n",
    "from qcodes.dataset.experiment_container import (Experiment,\n",
    "                                                 load_last_experiment,\n",
    "                                                 new_experiment)\n",
    "from qcodes.dataset.sqlite.database import initialise_database\n",
    "from qcodes import load_or_create_experiment\n",
    "from qcodes.dataset.measurements import Measurement"
   ]
  },
  {
   "cell_type": "code",
   "execution_count": 3,
   "metadata": {
    "execution": {
     "iopub.execute_input": "2020-10-13T12:16:26.059937Z",
     "iopub.status.busy": "2020-10-13T12:16:26.059182Z",
     "iopub.status.idle": "2020-10-13T12:16:26.170935Z",
     "shell.execute_reply": "2020-10-13T12:16:26.170111Z"
    }
   },
   "outputs": [
    {
     "name": "stdout",
     "output_type": "stream",
     "text": [
      "\r",
      "0it [00:00, ?it/s]"
     ]
    },
    {
     "name": "stdout",
     "output_type": "stream",
     "text": [
      "\r",
      "Upgrading database; v0 -> v1: : 0it [00:00, ?it/s]"
     ]
    },
    {
     "name": "stdout",
     "output_type": "stream",
     "text": [
      "\r",
      "Upgrading database; v0 -> v1: : 0it [00:00, ?it/s]"
     ]
    },
    {
     "name": "stdout",
     "output_type": "stream",
     "text": [
      "\n",
      "\r",
      "  0%|          | 0/1 [00:00<?, ?it/s]"
     ]
    },
    {
     "name": "stdout",
     "output_type": "stream",
     "text": [
      "\r",
      "Upgrading database; v1 -> v2:   0%|          | 0/1 [00:00<?, ?it/s]"
     ]
    },
    {
     "name": "stdout",
     "output_type": "stream",
     "text": [
      "\r",
      "Upgrading database; v1 -> v2: 100%|██████████| 1/1 [00:00<00:00, 946.58it/s]"
     ]
    },
    {
     "name": "stdout",
     "output_type": "stream",
     "text": [
      "\n",
      "\r",
      "0it [00:00, ?it/s]"
     ]
    },
    {
     "name": "stdout",
     "output_type": "stream",
     "text": [
      "\r",
      "Upgrading database; v2 -> v3: : 0it [00:00, ?it/s]"
     ]
    },
    {
     "name": "stdout",
     "output_type": "stream",
     "text": [
      "\r",
      "Upgrading database; v2 -> v3: : 0it [00:00, ?it/s]"
     ]
    },
    {
     "name": "stdout",
     "output_type": "stream",
     "text": [
      "\n",
      "\r",
      "0it [00:00, ?it/s]"
     ]
    },
    {
     "name": "stdout",
     "output_type": "stream",
     "text": [
      "\r",
      "Upgrading database; v3 -> v4: : 0it [00:00, ?it/s]"
     ]
    },
    {
     "name": "stdout",
     "output_type": "stream",
     "text": [
      "\r",
      "Upgrading database; v3 -> v4: : 0it [00:00, ?it/s]"
     ]
    },
    {
     "name": "stdout",
     "output_type": "stream",
     "text": [
      "\n",
      "\r",
      "  0%|          | 0/1 [00:00<?, ?it/s]"
     ]
    },
    {
     "name": "stdout",
     "output_type": "stream",
     "text": [
      "\r",
      "Upgrading database; v4 -> v5:   0%|          | 0/1 [00:00<?, ?it/s]"
     ]
    },
    {
     "name": "stdout",
     "output_type": "stream",
     "text": [
      "\r",
      "Upgrading database; v4 -> v5: 100%|██████████| 1/1 [00:00<00:00, 412.05it/s]"
     ]
    },
    {
     "name": "stdout",
     "output_type": "stream",
     "text": [
      "\n",
      "\r",
      "0it [00:00, ?it/s]"
     ]
    },
    {
     "name": "stdout",
     "output_type": "stream",
     "text": [
      "\r",
      "Upgrading database; v5 -> v6: : 0it [00:00, ?it/s]"
     ]
    },
    {
     "name": "stdout",
     "output_type": "stream",
     "text": [
      "\r",
      "Upgrading database; v5 -> v6: : 0it [00:00, ?it/s]"
     ]
    },
    {
     "name": "stdout",
     "output_type": "stream",
     "text": [
      "\n",
      "\r",
      "  0%|          | 0/1 [00:00<?, ?it/s]"
     ]
    },
    {
     "name": "stdout",
     "output_type": "stream",
     "text": [
      "\r",
      "Upgrading database; v6 -> v7:   0%|          | 0/1 [00:00<?, ?it/s]"
     ]
    },
    {
     "name": "stdout",
     "output_type": "stream",
     "text": [
      "\r",
      "Upgrading database; v6 -> v7: 100%|██████████| 1/1 [00:00<00:00, 261.07it/s]"
     ]
    },
    {
     "name": "stdout",
     "output_type": "stream",
     "text": [
      "\n",
      "\r",
      "  0%|          | 0/1 [00:00<?, ?it/s]"
     ]
    },
    {
     "name": "stdout",
     "output_type": "stream",
     "text": [
      "\r",
      "Upgrading database; v7 -> v8:   0%|          | 0/1 [00:00<?, ?it/s]"
     ]
    },
    {
     "name": "stdout",
     "output_type": "stream",
     "text": [
      "\r",
      "Upgrading database; v7 -> v8: 100%|██████████| 1/1 [00:00<00:00, 471.22it/s]"
     ]
    },
    {
     "name": "stdout",
     "output_type": "stream",
     "text": [
      "\n",
      "\r",
      "  0%|          | 0/1 [00:00<?, ?it/s]"
     ]
    },
    {
     "name": "stdout",
     "output_type": "stream",
     "text": [
      "\r",
      "Upgrading database; v8 -> v9:   0%|          | 0/1 [00:00<?, ?it/s]"
     ]
    },
    {
     "name": "stdout",
     "output_type": "stream",
     "text": [
      "\r",
      "Upgrading database; v8 -> v9: 100%|██████████| 1/1 [00:00<00:00, 849.74it/s]"
     ]
    },
    {
     "name": "stdout",
     "output_type": "stream",
     "text": [
      "\n"
     ]
    }
   ],
   "source": [
    "initialise_database()\n",
    "exp = load_or_create_experiment(experiment_name='tutorial_exp', sample_name=\"no sample\")"
   ]
  },
  {
   "cell_type": "markdown",
   "metadata": {},
   "source": [
    "Here, we define a simple function to benchmark the time it takes to insert n points with either numeric or array data type.\n",
    "We will compare both the time used to call ``add_result`` and the time used for the full measurement."
   ]
  },
  {
   "cell_type": "code",
   "execution_count": 4,
   "metadata": {
    "execution": {
     "iopub.execute_input": "2020-10-13T12:16:26.179379Z",
     "iopub.status.busy": "2020-10-13T12:16:26.178644Z",
     "iopub.status.idle": "2020-10-13T12:16:26.182357Z",
     "shell.execute_reply": "2020-10-13T12:16:26.182876Z"
    }
   },
   "outputs": [],
   "source": [
    "def insert_data(paramtype, npoints, nreps=1):\n",
    "\n",
    "    meas = Measurement(exp=exp)\n",
    "\n",
    "    x1 = ManualParameter('x1')\n",
    "    x2 = ManualParameter('x2')\n",
    "    x3 = ManualParameter('x3')\n",
    "    y1 = ManualParameter('y1')\n",
    "    y2 = ManualParameter('y2')\n",
    "\n",
    "    meas.register_parameter(x1, paramtype=paramtype)\n",
    "    meas.register_parameter(x2, paramtype=paramtype)\n",
    "    meas.register_parameter(x3, paramtype=paramtype)\n",
    "    meas.register_parameter(y1, setpoints=[x1, x2, x3],\n",
    "                            paramtype=paramtype)\n",
    "    meas.register_parameter(y2, setpoints=[x1, x2, x3],\n",
    "                            paramtype=paramtype)\n",
    "    start = time.perf_counter()\n",
    "    with meas.run() as datasaver:\n",
    "        start_adding = time.perf_counter()\n",
    "        for i in range(nreps):\n",
    "            datasaver.add_result((x1, np.random.rand(npoints)),\n",
    "                                 (x2, np.random.rand(npoints)),\n",
    "                                 (x3, np.random.rand(npoints)),\n",
    "                                 (y1, np.random.rand(npoints)),\n",
    "                                 (y2, np.random.rand(npoints)))\n",
    "        stop_adding = time.perf_counter()\n",
    "        run_id = datasaver.run_id\n",
    "    stop = time.perf_counter()\n",
    "    tot_time = stop - start\n",
    "    add_time = stop_adding - start_adding\n",
    "    return tot_time, add_time, run_id"
   ]
  },
  {
   "cell_type": "markdown",
   "metadata": {},
   "source": [
    "## Comparison between numeric/array data and binary blob"
   ]
  },
  {
   "cell_type": "markdown",
   "metadata": {},
   "source": [
    "### Case1: Short experiment time"
   ]
  },
  {
   "cell_type": "code",
   "execution_count": 5,
   "metadata": {
    "execution": {
     "iopub.execute_input": "2020-10-13T12:16:26.188613Z",
     "iopub.status.busy": "2020-10-13T12:16:26.188105Z",
     "iopub.status.idle": "2020-10-13T12:16:26.980456Z",
     "shell.execute_reply": "2020-10-13T12:16:26.979979Z"
    }
   },
   "outputs": [
    {
     "name": "stdout",
     "output_type": "stream",
     "text": [
      "Starting experimental run with id: 1. \n",
      "Starting experimental run with id: 2. \n",
      "Starting experimental run with id: 3. \n",
      "Starting experimental run with id: 4. \n",
      "Starting experimental run with id: 5. \n"
     ]
    },
    {
     "name": "stdout",
     "output_type": "stream",
     "text": [
      "Starting experimental run with id: 6. \n"
     ]
    },
    {
     "name": "stdout",
     "output_type": "stream",
     "text": [
      "Starting experimental run with id: 7. \n"
     ]
    },
    {
     "name": "stdout",
     "output_type": "stream",
     "text": [
      "Starting experimental run with id: 8. \n",
      "Starting experimental run with id: 9. \n"
     ]
    },
    {
     "name": "stdout",
     "output_type": "stream",
     "text": [
      "Starting experimental run with id: 10. \n",
      "Starting experimental run with id: 11. \n"
     ]
    },
    {
     "name": "stdout",
     "output_type": "stream",
     "text": [
      "Starting experimental run with id: 12. \n",
      "Starting experimental run with id: 13. \n"
     ]
    },
    {
     "name": "stdout",
     "output_type": "stream",
     "text": [
      "Starting experimental run with id: 14. \n"
     ]
    }
   ],
   "source": [
    "sizes = [1,500,1000,2000,3000,4000,5000]\n",
    "t_numeric = []\n",
    "t_numeric_add = []\n",
    "t_array = []\n",
    "t_array_add = []\n",
    "for size in sizes:\n",
    "    tn, tna, run_id_n =  insert_data('numeric', size)\n",
    "    t_numeric.append(tn)\n",
    "    t_numeric_add.append(tna)\n",
    "\n",
    "    ta, taa, run_id_a =  insert_data('array', size)\n",
    "    t_array.append(ta)\n",
    "    t_array_add.append(taa)"
   ]
  },
  {
   "cell_type": "code",
   "execution_count": 6,
   "metadata": {
    "execution": {
     "iopub.execute_input": "2020-10-13T12:16:26.997920Z",
     "iopub.status.busy": "2020-10-13T12:16:26.997170Z",
     "iopub.status.idle": "2020-10-13T12:16:27.234797Z",
     "shell.execute_reply": "2020-10-13T12:16:27.235617Z"
    }
   },
   "outputs": [
    {
     "data": {
      "image/png": "[encoded data removed]",
      "text/plain": [
       "<Figure size 432x288 with 1 Axes>"
      ]
     },
     "metadata": {
      "needs_background": "light"
     },
     "output_type": "display_data"
    }
   ],
   "source": [
    "fig, ax = plt.subplots(1,1)\n",
    "ax.plot(sizes, t_numeric, 'o-', label='Inserting row-by-row')\n",
    "ax.plot(sizes, t_numeric_add, 'o-', label='Inserting row-by-row: add_result only')\n",
    "ax.plot(sizes, t_array, 'd-', label='Inserting as binary blob')\n",
    "ax.plot(sizes, t_array_add, 'd-', label='Inserting as binary blob: add_result only')\n",
    "ax.legend()\n",
    "ax.set_xlabel('Array length')\n",
    "ax.set_ylabel('Time (s)')\n",
    "fig.tight_layout()"
   ]
  },
  {
   "cell_type": "markdown",
   "metadata": {},
   "source": [
    "As shown in the latter figure, the time to setup and and close the experiment is approximately 0.4 sec. In case of small array sizes, the difference between inserting values of data as arrays and inserting them row-by-row is relatively unimportant. At larger array sizes, i.e. above 10000 points, the cost of writing data as individual datapoints starts to become important.\n"
   ]
  },
  {
   "cell_type": "markdown",
   "metadata": {},
   "source": [
    "### Case2: Long experiment time "
   ]
  },
  {
   "cell_type": "code",
   "execution_count": 7,
   "metadata": {
    "execution": {
     "iopub.execute_input": "2020-10-13T12:16:27.243293Z",
     "iopub.status.busy": "2020-10-13T12:16:27.242408Z",
     "iopub.status.idle": "2020-10-13T12:17:23.357607Z",
     "shell.execute_reply": "2020-10-13T12:17:23.356898Z"
    }
   },
   "outputs": [
    {
     "name": "stdout",
     "output_type": "stream",
     "text": [
      "Starting experimental run with id: 15. \n",
      "Starting experimental run with id: 16. \n",
      "Starting experimental run with id: 17. \n"
     ]
    },
    {
     "name": "stdout",
     "output_type": "stream",
     "text": [
      "Starting experimental run with id: 18. \n",
      "Starting experimental run with id: 19. \n"
     ]
    },
    {
     "name": "stdout",
     "output_type": "stream",
     "text": [
      "Starting experimental run with id: 20. \n"
     ]
    },
    {
     "name": "stdout",
     "output_type": "stream",
     "text": [
      "Starting experimental run with id: 21. \n"
     ]
    },
    {
     "name": "stdout",
     "output_type": "stream",
     "text": [
      "Starting experimental run with id: 22. \n"
     ]
    },
    {
     "name": "stdout",
     "output_type": "stream",
     "text": [
      "Starting experimental run with id: 23. \n"
     ]
    },
    {
     "name": "stdout",
     "output_type": "stream",
     "text": [
      "Starting experimental run with id: 24. \n"
     ]
    },
    {
     "name": "stdout",
     "output_type": "stream",
     "text": [
      "Starting experimental run with id: 25. \n"
     ]
    },
    {
     "name": "stdout",
     "output_type": "stream",
     "text": [
      "Starting experimental run with id: 26. \n"
     ]
    },
    {
     "name": "stdout",
     "output_type": "stream",
     "text": [
      "Starting experimental run with id: 27. \n"
     ]
    },
    {
     "name": "stdout",
     "output_type": "stream",
     "text": [
      "Starting experimental run with id: 28. \n"
     ]
    }
   ],
   "source": [
    "sizes = [1,500,1000,2000,3000,4000,5000]\n",
    "nreps = 100\n",
    "t_numeric = []\n",
    "t_numeric_add = []\n",
    "t_numeric_run_ids = []\n",
    "t_array = []\n",
    "t_array_add = []\n",
    "t_array_run_ids = []\n",
    "for size in sizes:\n",
    "    tn, tna, run_id_n =  insert_data('numeric', size, nreps=nreps)\n",
    "    t_numeric.append(tn)\n",
    "    t_numeric_add.append(tna)\n",
    "    t_numeric_run_ids.append(run_id_n)\n",
    "\n",
    "    ta, taa, run_id_a =  insert_data('array', size, nreps=nreps)\n",
    "    t_array.append(ta)\n",
    "    t_array_add.append(taa)\n",
    "    t_array_run_ids.append(run_id_a)"
   ]
  },
  {
   "cell_type": "code",
   "execution_count": 8,
   "metadata": {
    "execution": {
     "iopub.execute_input": "2020-10-13T12:17:23.382854Z",
     "iopub.status.busy": "2020-10-13T12:17:23.376538Z",
     "iopub.status.idle": "2020-10-13T12:17:23.597695Z",
     "shell.execute_reply": "2020-10-13T12:17:23.598138Z"
    },
    "scrolled": true
   },
   "outputs": [
    {
     "data": {
      "image/png": "[encoded data removed]",
      "text/plain": [
       "<Figure size 432x288 with 1 Axes>"
      ]
     },
     "metadata": {
      "needs_background": "light"
     },
     "output_type": "display_data"
    }
   ],
   "source": [
    "fig, ax = plt.subplots(1,1)\n",
    "ax.plot(sizes, t_numeric, 'o-', label='Inserting row-by-row')\n",
    "ax.plot(sizes, t_numeric_add, 'o-', label='Inserting row-by-row: add_result only')\n",
    "ax.plot(sizes, t_array, 'd-', label='Inserting as binary blob')\n",
    "ax.plot(sizes, t_array_add, 'd-', label='Inserting as binary blob: add_result only')\n",
    "ax.legend()\n",
    "ax.set_xlabel('Array length')\n",
    "ax.set_ylabel('Time (s)')\n",
    "fig.tight_layout()"
   ]
  },
  {
   "cell_type": "markdown",
   "metadata": {},
   "source": [
    "However, as we increase the length of the experiment, as seen here by repeating the insertion 100 times, we see a big difference between inserting values of the data row-by-row and inserting it as a binary blob."
   ]
  },
  {
   "cell_type": "markdown",
   "metadata": {},
   "source": [
    "## Loading the data "
   ]
  },
  {
   "cell_type": "code",
   "execution_count": 9,
   "metadata": {
    "execution": {
     "iopub.execute_input": "2020-10-13T12:17:23.602476Z",
     "iopub.status.busy": "2020-10-13T12:17:23.601636Z",
     "iopub.status.idle": "2020-10-13T12:17:23.605251Z",
     "shell.execute_reply": "2020-10-13T12:17:23.604809Z"
    }
   },
   "outputs": [],
   "source": [
    "from qcodes.dataset.data_set import load_by_id\n",
    "from qcodes.dataset.data_export import get_data_by_id"
   ]
  },
  {
   "cell_type": "markdown",
   "metadata": {},
   "source": [
    "As usual you can load the data by using the ``load_by_id`` function but you will notice that the different storage methods\n",
    "are reflected in shape of the data as it is retrieved. "
   ]
  },
  {
   "cell_type": "code",
   "execution_count": 10,
   "metadata": {
    "execution": {
     "iopub.execute_input": "2020-10-13T12:17:23.609296Z",
     "iopub.status.busy": "2020-10-13T12:17:23.608218Z",
     "iopub.status.idle": "2020-10-13T12:17:23.609873Z",
     "shell.execute_reply": "2020-10-13T12:17:23.610402Z"
    }
   },
   "outputs": [],
   "source": [
    "run_id_n = t_numeric_run_ids[0]\n",
    "run_id_a = t_array_run_ids[0]"
   ]
  },
  {
   "cell_type": "code",
   "execution_count": 11,
   "metadata": {
    "execution": {
     "iopub.execute_input": "2020-10-13T12:17:23.613468Z",
     "iopub.status.busy": "2020-10-13T12:17:23.612975Z",
     "iopub.status.idle": "2020-10-13T12:17:23.623211Z",
     "shell.execute_reply": "2020-10-13T12:17:23.622679Z"
    },
    "scrolled": true
   },
   "outputs": [
    {
     "data": {
      "text/plain": [
       "{'x1': {'x1': array([0.3098197 , 0.3098197 , 0.44195811, 0.44195811, 0.82931346,\n",
       "         0.82931346, 0.84060052, 0.84060052, 0.09681044, 0.09681044,\n",
       "         0.7035111 , 0.7035111 , 0.7857135 , 0.7857135 , 0.95955158,\n",
       "         0.95955158, 0.4160084 , 0.4160084 , 0.1105074 , 0.1105074 ,\n",
       "         0.69393298, 0.69393298, 0.60555894, 0.60555894, 0.68961389,\n",
       "         0.68961389, 0.79576763, 0.79576763, 0.17714047, 0.17714047,\n",
       "         0.87962099, 0.87962099, 0.18624023, 0.18624023, 0.26964098,\n",
       "         0.26964098, 0.10597863, 0.10597863, 0.5552994 , 0.5552994 ,\n",
       "         0.5883293 , 0.5883293 , 0.60050392, 0.60050392, 0.24333503,\n",
       "         0.24333503, 0.66681059, 0.66681059, 0.76813858, 0.76813858,\n",
       "         0.11936788, 0.11936788, 0.79636544, 0.79636544, 0.74808687,\n",
       "         0.74808687, 0.61809483, 0.61809483, 0.81778486, 0.81778486,\n",
       "         0.69372325, 0.69372325, 0.12013959, 0.12013959, 0.79182201,\n",
       "         0.79182201, 0.58168351, 0.58168351, 0.78718676, 0.78718676,\n",
       "         0.20559579, 0.20559579, 0.04805433, 0.04805433, 0.42599063,\n",
       "         0.42599063, 0.2955867 , 0.2955867 , 0.55155172, 0.55155172,\n",
       "         0.6480176 , 0.6480176 , 0.00353962, 0.00353962, 0.28905505,\n",
       "         0.28905505, 0.08508408, 0.08508408, 0.1299369 , 0.1299369 ,\n",
       "         0.97664348, 0.97664348, 0.20193668, 0.20193668, 0.00627791,\n",
       "         0.00627791, 0.77226283, 0.77226283, 0.04770192, 0.04770192,\n",
       "         0.39722867, 0.39722867, 0.24370882, 0.24370882, 0.67910965,\n",
       "         0.67910965, 0.40120865, 0.40120865, 0.08203119, 0.08203119,\n",
       "         0.31804388, 0.31804388, 0.94043171, 0.94043171, 0.40811788,\n",
       "         0.40811788, 0.28680908, 0.28680908, 0.86188606, 0.86188606,\n",
       "         0.58365652, 0.58365652, 0.31254369, 0.31254369, 0.62758716,\n",
       "         0.62758716, 0.05606914, 0.05606914, 0.34699372, 0.34699372,\n",
       "         0.917067  , 0.917067  , 0.80003149, 0.80003149, 0.50720456,\n",
       "         0.50720456, 0.01553233, 0.01553233, 0.06196258, 0.06196258,\n",
       "         0.82251873, 0.82251873, 0.61596025, 0.61596025, 0.83284745,\n",
       "         0.83284745, 0.13662025, 0.13662025, 0.686147  , 0.686147  ,\n",
       "         0.0010102 , 0.0010102 , 0.65598162, 0.65598162, 0.14194885,\n",
       "         0.14194885, 0.05288072, 0.05288072, 0.68165888, 0.68165888,\n",
       "         0.28358139, 0.28358139, 0.06318598, 0.06318598, 0.90805839,\n",
       "         0.90805839, 0.46230878, 0.46230878, 0.96928242, 0.96928242,\n",
       "         0.66177961, 0.66177961, 0.75649737, 0.75649737, 0.9328657 ,\n",
       "         0.9328657 , 0.9646956 , 0.9646956 , 0.64010927, 0.64010927,\n",
       "         0.15835149, 0.15835149, 0.32492955, 0.32492955, 0.24483208,\n",
       "         0.24483208, 0.11885654, 0.11885654, 0.91594296, 0.91594296,\n",
       "         0.420672  , 0.420672  , 0.18029686, 0.18029686, 0.17955128,\n",
       "         0.17955128, 0.77940934, 0.77940934, 0.52943518, 0.52943518])}}"
      ]
     },
     "execution_count": 1,
     "metadata": {},
     "output_type": "execute_result"
    }
   ],
   "source": [
    "ds = load_by_id(run_id_n)\n",
    "ds.get_parameter_data('x1')"
   ]
  },
  {
   "cell_type": "markdown",
   "metadata": {},
   "source": [
    "And a dataset stored as binary arrays"
   ]
  },
  {
   "cell_type": "code",
   "execution_count": 12,
   "metadata": {
    "execution": {
     "iopub.execute_input": "2020-10-13T12:17:23.626444Z",
     "iopub.status.busy": "2020-10-13T12:17:23.625818Z",
     "iopub.status.idle": "2020-10-13T12:17:23.683592Z",
     "shell.execute_reply": "2020-10-13T12:17:23.684047Z"
    },
    "scrolled": true
   },
   "outputs": [
    {
     "data": {
      "text/plain": [
       "{'x1': {'x1': array([[0.88855519],\n",
       "         [0.88855519],\n",
       "         [0.3349659 ],\n",
       "         [0.3349659 ],\n",
       "         [0.10065983],\n",
       "         [0.10065983],\n",
       "         [0.91688401],\n",
       "         [0.91688401],\n",
       "         [0.56530623],\n",
       "         [0.56530623],\n",
       "         [0.79010214],\n",
       "         [0.79010214],\n",
       "         [0.70324421],\n",
       "         [0.70324421],\n",
       "         [0.39797809],\n",
       "         [0.39797809],\n",
       "         [0.92119412],\n",
       "         [0.92119412],\n",
       "         [0.66541114],\n",
       "         [0.66541114],\n",
       "         [0.81375343],\n",
       "         [0.81375343],\n",
       "         [0.67743524],\n",
       "         [0.67743524],\n",
       "         [0.50873904],\n",
       "         [0.50873904],\n",
       "         [0.80463704],\n",
       "         [0.80463704],\n",
       "         [0.61690532],\n",
       "         [0.61690532],\n",
       "         [0.45197733],\n",
       "         [0.45197733],\n",
       "         [0.45245767],\n",
       "         [0.45245767],\n",
       "         [0.44325138],\n",
       "         [0.44325138],\n",
       "         [0.41045982],\n",
       "         [0.41045982],\n",
       "         [0.3508207 ],\n",
       "         [0.3508207 ],\n",
       "         [0.7510678 ],\n",
       "         [0.7510678 ],\n",
       "         [0.78380585],\n",
       "         [0.78380585],\n",
       "         [0.82213605],\n",
       "         [0.82213605],\n",
       "         [0.34617196],\n",
       "         [0.34617196],\n",
       "         [0.99388109],\n",
       "         [0.99388109],\n",
       "         [0.0956133 ],\n",
       "         [0.0956133 ],\n",
       "         [0.78290049],\n",
       "         [0.78290049],\n",
       "         [0.80471582],\n",
       "         [0.80471582],\n",
       "         [0.2652599 ],\n",
       "         [0.2652599 ],\n",
       "         [0.31389139],\n",
       "         [0.31389139],\n",
       "         [0.00248333],\n",
       "         [0.00248333],\n",
       "         [0.16085132],\n",
       "         [0.16085132],\n",
       "         [0.69887158],\n",
       "         [0.69887158],\n",
       "         [0.56537884],\n",
       "         [0.56537884],\n",
       "         [0.86729194],\n",
       "         [0.86729194],\n",
       "         [0.74432617],\n",
       "         [0.74432617],\n",
       "         [0.54337406],\n",
       "         [0.54337406],\n",
       "         [0.26885446],\n",
       "         [0.26885446],\n",
       "         [0.52391448],\n",
       "         [0.52391448],\n",
       "         [0.137876  ],\n",
       "         [0.137876  ],\n",
       "         [0.9532003 ],\n",
       "         [0.9532003 ],\n",
       "         [0.73415486],\n",
       "         [0.73415486],\n",
       "         [0.3524482 ],\n",
       "         [0.3524482 ],\n",
       "         [0.58074992],\n",
       "         [0.58074992],\n",
       "         [0.67857947],\n",
       "         [0.67857947],\n",
       "         [0.55765875],\n",
       "         [0.55765875],\n",
       "         [0.89004651],\n",
       "         [0.89004651],\n",
       "         [0.89975592],\n",
       "         [0.89975592],\n",
       "         [0.90707957],\n",
       "         [0.90707957],\n",
       "         [0.51728215],\n",
       "         [0.51728215],\n",
       "         [0.8375857 ],\n",
       "         [0.8375857 ],\n",
       "         [0.97633736],\n",
       "         [0.97633736],\n",
       "         [0.29305936],\n",
       "         [0.29305936],\n",
       "         [0.82274384],\n",
       "         [0.82274384],\n",
       "         [0.71868855],\n",
       "         [0.71868855],\n",
       "         [0.28635205],\n",
       "         [0.28635205],\n",
       "         [0.5186661 ],\n",
       "         [0.5186661 ],\n",
       "         [0.17265254],\n",
       "         [0.17265254],\n",
       "         [0.68782023],\n",
       "         [0.68782023],\n",
       "         [0.00151154],\n",
       "         [0.00151154],\n",
       "         [0.8631472 ],\n",
       "         [0.8631472 ],\n",
       "         [0.49792055],\n",
       "         [0.49792055],\n",
       "         [0.92804521],\n",
       "         [0.92804521],\n",
       "         [0.0738491 ],\n",
       "         [0.0738491 ],\n",
       "         [0.18469616],\n",
       "         [0.18469616],\n",
       "         [0.76405222],\n",
       "         [0.76405222],\n",
       "         [0.13100909],\n",
       "         [0.13100909],\n",
       "         [0.62315707],\n",
       "         [0.62315707],\n",
       "         [0.17586554],\n",
       "         [0.17586554],\n",
       "         [0.09336956],\n",
       "         [0.09336956],\n",
       "         [0.73325888],\n",
       "         [0.73325888],\n",
       "         [0.84691027],\n",
       "         [0.84691027],\n",
       "         [0.80712405],\n",
       "         [0.80712405],\n",
       "         [0.04447627],\n",
       "         [0.04447627],\n",
       "         [0.40107416],\n",
       "         [0.40107416],\n",
       "         [0.66487956],\n",
       "         [0.66487956],\n",
       "         [0.30219406],\n",
       "         [0.30219406],\n",
       "         [0.63595327],\n",
       "         [0.63595327],\n",
       "         [0.63946208],\n",
       "         [0.63946208],\n",
       "         [0.98208841],\n",
       "         [0.98208841],\n",
       "         [0.19733489],\n",
       "         [0.19733489],\n",
       "         [0.21038398],\n",
       "         [0.21038398],\n",
       "         [0.20145979],\n",
       "         [0.20145979],\n",
       "         [0.64454805],\n",
       "         [0.64454805],\n",
       "         [0.76573364],\n",
       "         [0.76573364],\n",
       "         [0.2786155 ],\n",
       "         [0.2786155 ],\n",
       "         [0.45238255],\n",
       "         [0.45238255],\n",
       "         [0.66435728],\n",
       "         [0.66435728],\n",
       "         [0.36324164],\n",
       "         [0.36324164],\n",
       "         [0.70282218],\n",
       "         [0.70282218],\n",
       "         [0.61025093],\n",
       "         [0.61025093],\n",
       "         [0.23533173],\n",
       "         [0.23533173],\n",
       "         [0.67569845],\n",
       "         [0.67569845],\n",
       "         [0.79080447],\n",
       "         [0.79080447],\n",
       "         [0.29473198],\n",
       "         [0.29473198],\n",
       "         [0.57080595],\n",
       "         [0.57080595],\n",
       "         [0.5401092 ],\n",
       "         [0.5401092 ],\n",
       "         [0.71088357],\n",
       "         [0.71088357],\n",
       "         [0.62772933],\n",
       "         [0.62772933],\n",
       "         [0.37563662],\n",
       "         [0.37563662]])}}"
      ]
     },
     "execution_count": 1,
     "metadata": {},
     "output_type": "execute_result"
    }
   ],
   "source": [
    "ds = load_by_id(run_id_a)\n",
    "ds.get_parameter_data('x1')"
   ]
  },
  {
   "cell_type": "code",
   "execution_count": null,
   "metadata": {},
   "outputs": [],
   "source": []
  }
 ],
 "metadata": {
  "kernelspec": {
   "display_name": "Python 3",
   "language": "python",
   "name": "python3"
  },
  "language_info": {
   "codemirror_mode": {
    "name": "ipython",
    "version": 3
   },
   "file_extension": ".py",
   "mimetype": "text/x-python",
   "name": "python",
   "nbconvert_exporter": "python",
   "pygments_lexer": "ipython3",
   "version": "3.7.7"
  },
  "nbsphinx": {
   "timeout": 600
  },
  "toc": {
   "base_numbering": 1,
   "nav_menu": {},
   "number_sections": true,
   "sideBar": true,
   "skip_h1_title": false,
   "title_cell": "Table of Contents",
   "title_sidebar": "Contents",
   "toc_cell": false,
   "toc_position": {},
   "toc_section_display": true,
   "toc_window_display": false
  },
  "varInspector": {
   "cols": {
    "lenName": 16,
    "lenType": 16,
    "lenVar": 40
   },
   "kernels_config": {
    "python": {
     "delete_cmd_postfix": "",
     "delete_cmd_prefix": "del ",
     "library": "var_list.py",
     "varRefreshCmd": "print(var_dic_list())"
    },
    "r": {
     "delete_cmd_postfix": ") ",
     "delete_cmd_prefix": "rm(",
     "library": "var_list.r",
     "varRefreshCmd": "cat(var_dic_list()) "
    }
   },
   "types_to_exclude": [
    "module",
    "function",
    "builtin_function_or_method",
    "instance",
    "_Feature"
   ],
   "window_display": false
  }
 },
 "nbformat": 4,
 "nbformat_minor": 2
}
