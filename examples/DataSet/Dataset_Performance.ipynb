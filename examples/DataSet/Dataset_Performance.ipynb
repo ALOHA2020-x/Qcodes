{
 "cells": [
  {
   "cell_type": "markdown",
   "metadata": {},
   "source": [
    "# DataSet Performance\n",
    "\n",
    "This notebook shows the trade-off between inserting data into a database row-by-row and as binary blobs. Inserting the data row-by-row means that we have direct access to all the data and may perform queries directly on the values of the data. On the other hand, as we shall see, this is much slower than inserting the data directly as binary blobs."
   ]
  },
  {
   "cell_type": "markdown",
   "metadata": {},
   "source": [
    "First, we choose a new location for the database to ensure that we don't add a bunch of benchmarking data to the default one."
   ]
  },
  {
   "cell_type": "code",
   "execution_count": 1,
   "metadata": {
    "execution": {
     "iopub.execute_input": "2020-12-03T09:30:38.997731Z",
     "iopub.status.busy": "2020-12-03T09:30:38.996547Z",
     "iopub.status.idle": "2020-12-03T09:30:40.188970Z",
     "shell.execute_reply": "2020-12-03T09:30:40.188311Z"
    }
   },
   "outputs": [
    {
     "name": "stdout",
     "output_type": "stream",
     "text": [
      "Logging hadn't been started.\n",
      "Activating auto-logging. Current session state plus future input saved.\n",
      "Filename       : /home/vsts/.qcodes/logs/command_history.log\n",
      "Mode           : append\n",
      "Output logging : True\n",
      "Raw input log  : False\n",
      "Timestamping   : True\n",
      "State          : active\n"
     ]
    },
    {
     "name": "stdout",
     "output_type": "stream",
     "text": [
      "Qcodes Logfile : /home/vsts/.qcodes/logs/201203-14225-qcodes.log\n"
     ]
    }
   ],
   "source": [
    "import os\n",
    "cwd = os.getcwd()\n",
    "import qcodes as qc\n",
    "qc.config[\"core\"][\"db_location\"] = os.path.join(cwd, 'testing.db')\n"
   ]
  },
  {
   "cell_type": "code",
   "execution_count": 2,
   "metadata": {
    "execution": {
     "iopub.execute_input": "2020-12-03T09:30:40.196736Z",
     "iopub.status.busy": "2020-12-03T09:30:40.195694Z",
     "iopub.status.idle": "2020-12-03T09:30:40.404102Z",
     "shell.execute_reply": "2020-12-03T09:30:40.402974Z"
    }
   },
   "outputs": [],
   "source": [
    "%matplotlib inline\n",
    "import time\n",
    "import matplotlib.pyplot as plt\n",
    "import numpy as np\n",
    "\n",
    "import qcodes as qc\n",
    "from qcodes.instrument.parameter import ManualParameter\n",
    "from qcodes.dataset.experiment_container import (Experiment,\n",
    "                                                 load_last_experiment,\n",
    "                                                 new_experiment)\n",
    "from qcodes.dataset.sqlite.database import initialise_database\n",
    "from qcodes import load_or_create_experiment\n",
    "from qcodes.dataset.measurements import Measurement"
   ]
  },
  {
   "cell_type": "code",
   "execution_count": 3,
   "metadata": {
    "execution": {
     "iopub.execute_input": "2020-12-03T09:30:40.408305Z",
     "iopub.status.busy": "2020-12-03T09:30:40.407550Z",
     "iopub.status.idle": "2020-12-03T09:30:40.535328Z",
     "shell.execute_reply": "2020-12-03T09:30:40.534444Z"
    }
   },
   "outputs": [
    {
     "name": "stdout",
     "output_type": "stream",
     "text": [
      "\r",
      "0it [00:00, ?it/s]"
     ]
    },
    {
     "name": "stdout",
     "output_type": "stream",
     "text": [
      "\r",
      "Upgrading database; v0 -> v1: : 0it [00:00, ?it/s]"
     ]
    },
    {
     "name": "stdout",
     "output_type": "stream",
     "text": [
      "\r",
      "Upgrading database; v0 -> v1: : 0it [00:00, ?it/s]"
     ]
    },
    {
     "name": "stdout",
     "output_type": "stream",
     "text": [
      "\n",
      "\r",
      "  0%|          | 0/1 [00:00<?, ?it/s]"
     ]
    },
    {
     "name": "stdout",
     "output_type": "stream",
     "text": [
      "\r",
      "Upgrading database; v1 -> v2:   0%|          | 0/1 [00:00<?, ?it/s]"
     ]
    },
    {
     "name": "stdout",
     "output_type": "stream",
     "text": [
      "\r",
      "Upgrading database; v1 -> v2: 100%|██████████| 1/1 [00:00<00:00, 436.41it/s]"
     ]
    },
    {
     "name": "stdout",
     "output_type": "stream",
     "text": [
      "\n",
      "\r",
      "0it [00:00, ?it/s]"
     ]
    },
    {
     "name": "stdout",
     "output_type": "stream",
     "text": [
      "\r",
      "Upgrading database; v2 -> v3: : 0it [00:00, ?it/s]"
     ]
    },
    {
     "name": "stdout",
     "output_type": "stream",
     "text": [
      "\r",
      "Upgrading database; v2 -> v3: : 0it [00:00, ?it/s]"
     ]
    },
    {
     "name": "stdout",
     "output_type": "stream",
     "text": [
      "\n",
      "\r",
      "0it [00:00, ?it/s]"
     ]
    },
    {
     "name": "stdout",
     "output_type": "stream",
     "text": [
      "\r",
      "Upgrading database; v3 -> v4: : 0it [00:00, ?it/s]"
     ]
    },
    {
     "name": "stdout",
     "output_type": "stream",
     "text": [
      "\r",
      "Upgrading database; v3 -> v4: : 0it [00:00, ?it/s]"
     ]
    },
    {
     "name": "stdout",
     "output_type": "stream",
     "text": [
      "\n",
      "\r",
      "  0%|          | 0/1 [00:00<?, ?it/s]"
     ]
    },
    {
     "name": "stdout",
     "output_type": "stream",
     "text": [
      "\r",
      "Upgrading database; v4 -> v5:   0%|          | 0/1 [00:00<?, ?it/s]"
     ]
    },
    {
     "name": "stdout",
     "output_type": "stream",
     "text": [
      "\r",
      "Upgrading database; v4 -> v5: 100%|██████████| 1/1 [00:00<00:00, 532.41it/s]"
     ]
    },
    {
     "name": "stdout",
     "output_type": "stream",
     "text": [
      "\n",
      "\r",
      "0it [00:00, ?it/s]"
     ]
    },
    {
     "name": "stdout",
     "output_type": "stream",
     "text": [
      "\r",
      "Upgrading database; v5 -> v6: : 0it [00:00, ?it/s]"
     ]
    },
    {
     "name": "stdout",
     "output_type": "stream",
     "text": [
      "\r",
      "Upgrading database; v5 -> v6: : 0it [00:00, ?it/s]"
     ]
    },
    {
     "name": "stdout",
     "output_type": "stream",
     "text": [
      "\n",
      "\r",
      "  0%|          | 0/1 [00:00<?, ?it/s]"
     ]
    },
    {
     "name": "stdout",
     "output_type": "stream",
     "text": [
      "\r",
      "Upgrading database; v6 -> v7:   0%|          | 0/1 [00:00<?, ?it/s]"
     ]
    },
    {
     "name": "stdout",
     "output_type": "stream",
     "text": [
      "\r",
      "Upgrading database; v6 -> v7: 100%|██████████| 1/1 [00:00<00:00, 118.78it/s]"
     ]
    },
    {
     "name": "stdout",
     "output_type": "stream",
     "text": [
      "\n",
      "\r",
      "  0%|          | 0/1 [00:00<?, ?it/s]"
     ]
    },
    {
     "name": "stdout",
     "output_type": "stream",
     "text": [
      "\r",
      "Upgrading database; v7 -> v8:   0%|          | 0/1 [00:00<?, ?it/s]"
     ]
    },
    {
     "name": "stdout",
     "output_type": "stream",
     "text": [
      "\r",
      "Upgrading database; v7 -> v8: 100%|██████████| 1/1 [00:00<00:00, 476.25it/s]"
     ]
    },
    {
     "name": "stdout",
     "output_type": "stream",
     "text": [
      "\n",
      "\r",
      "  0%|          | 0/1 [00:00<?, ?it/s]"
     ]
    },
    {
     "name": "stdout",
     "output_type": "stream",
     "text": [
      "\r",
      "Upgrading database; v8 -> v9:   0%|          | 0/1 [00:00<?, ?it/s]"
     ]
    },
    {
     "name": "stdout",
     "output_type": "stream",
     "text": [
      "\r",
      "Upgrading database; v8 -> v9: 100%|██████████| 1/1 [00:00<00:00, 382.97it/s]"
     ]
    },
    {
     "name": "stdout",
     "output_type": "stream",
     "text": [
      "\n"
     ]
    }
   ],
   "source": [
    "initialise_database()\n",
    "exp = load_or_create_experiment(experiment_name='tutorial_exp', sample_name=\"no sample\")"
   ]
  },
  {
   "cell_type": "markdown",
   "metadata": {},
   "source": [
    "Here, we define a simple function to benchmark the time it takes to insert n points with either numeric or array data type.\n",
    "We will compare both the time used to call ``add_result`` and the time used for the full measurement."
   ]
  },
  {
   "cell_type": "code",
   "execution_count": 4,
   "metadata": {
    "execution": {
     "iopub.execute_input": "2020-12-03T09:30:40.544404Z",
     "iopub.status.busy": "2020-12-03T09:30:40.543559Z",
     "iopub.status.idle": "2020-12-03T09:30:40.548084Z",
     "shell.execute_reply": "2020-12-03T09:30:40.547550Z"
    }
   },
   "outputs": [],
   "source": [
    "def insert_data(paramtype, npoints, nreps=1):\n",
    "\n",
    "    meas = Measurement(exp=exp)\n",
    "\n",
    "    x1 = ManualParameter('x1')\n",
    "    x2 = ManualParameter('x2')\n",
    "    x3 = ManualParameter('x3')\n",
    "    y1 = ManualParameter('y1')\n",
    "    y2 = ManualParameter('y2')\n",
    "\n",
    "    meas.register_parameter(x1, paramtype=paramtype)\n",
    "    meas.register_parameter(x2, paramtype=paramtype)\n",
    "    meas.register_parameter(x3, paramtype=paramtype)\n",
    "    meas.register_parameter(y1, setpoints=[x1, x2, x3],\n",
    "                            paramtype=paramtype)\n",
    "    meas.register_parameter(y2, setpoints=[x1, x2, x3],\n",
    "                            paramtype=paramtype)\n",
    "    start = time.perf_counter()\n",
    "    with meas.run() as datasaver:\n",
    "        start_adding = time.perf_counter()\n",
    "        for i in range(nreps):\n",
    "            datasaver.add_result((x1, np.random.rand(npoints)),\n",
    "                                 (x2, np.random.rand(npoints)),\n",
    "                                 (x3, np.random.rand(npoints)),\n",
    "                                 (y1, np.random.rand(npoints)),\n",
    "                                 (y2, np.random.rand(npoints)))\n",
    "        stop_adding = time.perf_counter()\n",
    "        run_id = datasaver.run_id\n",
    "    stop = time.perf_counter()\n",
    "    tot_time = stop - start\n",
    "    add_time = stop_adding - start_adding\n",
    "    return tot_time, add_time, run_id"
   ]
  },
  {
   "cell_type": "markdown",
   "metadata": {},
   "source": [
    "## Comparison between numeric/array data and binary blob"
   ]
  },
  {
   "cell_type": "markdown",
   "metadata": {},
   "source": [
    "### Case1: Short experiment time"
   ]
  },
  {
   "cell_type": "code",
   "execution_count": 5,
   "metadata": {
    "execution": {
     "iopub.execute_input": "2020-12-03T09:30:40.555498Z",
     "iopub.status.busy": "2020-12-03T09:30:40.554493Z",
     "iopub.status.idle": "2020-12-03T09:30:41.516756Z",
     "shell.execute_reply": "2020-12-03T09:30:41.516175Z"
    }
   },
   "outputs": [
    {
     "name": "stdout",
     "output_type": "stream",
     "text": [
      "Starting experimental run with id: 1. \n",
      "Starting experimental run with id: 2. \n",
      "Starting experimental run with id: 3. \n"
     ]
    },
    {
     "name": "stdout",
     "output_type": "stream",
     "text": [
      "Starting experimental run with id: 4. \n"
     ]
    },
    {
     "name": "stdout",
     "output_type": "stream",
     "text": [
      "Starting experimental run with id: 5. \n"
     ]
    },
    {
     "name": "stdout",
     "output_type": "stream",
     "text": [
      "Starting experimental run with id: 6. \n"
     ]
    },
    {
     "name": "stdout",
     "output_type": "stream",
     "text": [
      "Starting experimental run with id: 7. \n"
     ]
    },
    {
     "name": "stdout",
     "output_type": "stream",
     "text": [
      "Starting experimental run with id: 8. \n"
     ]
    },
    {
     "name": "stdout",
     "output_type": "stream",
     "text": [
      "Starting experimental run with id: 9. \n"
     ]
    },
    {
     "name": "stdout",
     "output_type": "stream",
     "text": [
      "Starting experimental run with id: 10. \n",
      "Starting experimental run with id: 11. \n"
     ]
    },
    {
     "name": "stdout",
     "output_type": "stream",
     "text": [
      "Starting experimental run with id: 12. \n"
     ]
    },
    {
     "name": "stdout",
     "output_type": "stream",
     "text": [
      "Starting experimental run with id: 13. \n"
     ]
    },
    {
     "name": "stdout",
     "output_type": "stream",
     "text": [
      "Starting experimental run with id: 14. \n"
     ]
    }
   ],
   "source": [
    "sizes = [1,500,1000,2000,3000,4000,5000]\n",
    "t_numeric = []\n",
    "t_numeric_add = []\n",
    "t_array = []\n",
    "t_array_add = []\n",
    "for size in sizes:\n",
    "    tn, tna, run_id_n =  insert_data('numeric', size)\n",
    "    t_numeric.append(tn)\n",
    "    t_numeric_add.append(tna)\n",
    "\n",
    "    ta, taa, run_id_a =  insert_data('array', size)\n",
    "    t_array.append(ta)\n",
    "    t_array_add.append(taa)"
   ]
  },
  {
   "cell_type": "code",
   "execution_count": 6,
   "metadata": {
    "execution": {
     "iopub.execute_input": "2020-12-03T09:30:41.538793Z",
     "iopub.status.busy": "2020-12-03T09:30:41.538264Z",
     "iopub.status.idle": "2020-12-03T09:30:41.765332Z",
     "shell.execute_reply": "2020-12-03T09:30:41.764850Z"
    }
   },
   "outputs": [
    {
     "data": {
      "image/png": "[encoded data removed]",
      "text/plain": [
       "<Figure size 432x288 with 1 Axes>"
      ]
     },
     "metadata": {
      "needs_background": "light"
     },
     "output_type": "display_data"
    }
   ],
   "source": [
    "fig, ax = plt.subplots(1,1)\n",
    "ax.plot(sizes, t_numeric, 'o-', label='Inserting row-by-row')\n",
    "ax.plot(sizes, t_numeric_add, 'o-', label='Inserting row-by-row: add_result only')\n",
    "ax.plot(sizes, t_array, 'd-', label='Inserting as binary blob')\n",
    "ax.plot(sizes, t_array_add, 'd-', label='Inserting as binary blob: add_result only')\n",
    "ax.legend()\n",
    "ax.set_xlabel('Array length')\n",
    "ax.set_ylabel('Time (s)')\n",
    "fig.tight_layout()"
   ]
  },
  {
   "cell_type": "markdown",
   "metadata": {},
   "source": [
    "As shown in the latter figure, the time to setup and and close the experiment is approximately 0.4 sec. In case of small array sizes, the difference between inserting values of data as arrays and inserting them row-by-row is relatively unimportant. At larger array sizes, i.e. above 10000 points, the cost of writing data as individual datapoints starts to become important.\n"
   ]
  },
  {
   "cell_type": "markdown",
   "metadata": {},
   "source": [
    "### Case2: Long experiment time "
   ]
  },
  {
   "cell_type": "code",
   "execution_count": 7,
   "metadata": {
    "execution": {
     "iopub.execute_input": "2020-12-03T09:30:41.772433Z",
     "iopub.status.busy": "2020-12-03T09:30:41.771660Z",
     "iopub.status.idle": "2020-12-03T09:31:43.926275Z",
     "shell.execute_reply": "2020-12-03T09:31:43.925657Z"
    }
   },
   "outputs": [
    {
     "name": "stdout",
     "output_type": "stream",
     "text": [
      "Starting experimental run with id: 15. \n",
      "Starting experimental run with id: 16. \n",
      "Starting experimental run with id: 17. \n"
     ]
    },
    {
     "name": "stdout",
     "output_type": "stream",
     "text": [
      "Starting experimental run with id: 18. \n",
      "Starting experimental run with id: 19. \n"
     ]
    },
    {
     "name": "stdout",
     "output_type": "stream",
     "text": [
      "Starting experimental run with id: 20. \n"
     ]
    },
    {
     "name": "stdout",
     "output_type": "stream",
     "text": [
      "Starting experimental run with id: 21. \n"
     ]
    },
    {
     "name": "stdout",
     "output_type": "stream",
     "text": [
      "Starting experimental run with id: 22. \n"
     ]
    },
    {
     "name": "stdout",
     "output_type": "stream",
     "text": [
      "Starting experimental run with id: 23. \n"
     ]
    },
    {
     "name": "stdout",
     "output_type": "stream",
     "text": [
      "Starting experimental run with id: 24. \n"
     ]
    },
    {
     "name": "stdout",
     "output_type": "stream",
     "text": [
      "Starting experimental run with id: 25. \n"
     ]
    },
    {
     "name": "stdout",
     "output_type": "stream",
     "text": [
      "Starting experimental run with id: 26. \n"
     ]
    },
    {
     "name": "stdout",
     "output_type": "stream",
     "text": [
      "Starting experimental run with id: 27. \n"
     ]
    },
    {
     "name": "stdout",
     "output_type": "stream",
     "text": [
      "Starting experimental run with id: 28. \n"
     ]
    }
   ],
   "source": [
    "sizes = [1,500,1000,2000,3000,4000,5000]\n",
    "nreps = 100\n",
    "t_numeric = []\n",
    "t_numeric_add = []\n",
    "t_numeric_run_ids = []\n",
    "t_array = []\n",
    "t_array_add = []\n",
    "t_array_run_ids = []\n",
    "for size in sizes:\n",
    "    tn, tna, run_id_n =  insert_data('numeric', size, nreps=nreps)\n",
    "    t_numeric.append(tn)\n",
    "    t_numeric_add.append(tna)\n",
    "    t_numeric_run_ids.append(run_id_n)\n",
    "\n",
    "    ta, taa, run_id_a =  insert_data('array', size, nreps=nreps)\n",
    "    t_array.append(ta)\n",
    "    t_array_add.append(taa)\n",
    "    t_array_run_ids.append(run_id_a)"
   ]
  },
  {
   "cell_type": "code",
   "execution_count": 8,
   "metadata": {
    "execution": {
     "iopub.execute_input": "2020-12-03T09:31:43.952621Z",
     "iopub.status.busy": "2020-12-03T09:31:43.944740Z",
     "iopub.status.idle": "2020-12-03T09:31:44.175799Z",
     "shell.execute_reply": "2020-12-03T09:31:44.175355Z"
    },
    "scrolled": true
   },
   "outputs": [
    {
     "data": {
      "image/png": "[encoded data removed]",
      "text/plain": [
       "<Figure size 432x288 with 1 Axes>"
      ]
     },
     "metadata": {
      "needs_background": "light"
     },
     "output_type": "display_data"
    }
   ],
   "source": [
    "fig, ax = plt.subplots(1,1)\n",
    "ax.plot(sizes, t_numeric, 'o-', label='Inserting row-by-row')\n",
    "ax.plot(sizes, t_numeric_add, 'o-', label='Inserting row-by-row: add_result only')\n",
    "ax.plot(sizes, t_array, 'd-', label='Inserting as binary blob')\n",
    "ax.plot(sizes, t_array_add, 'd-', label='Inserting as binary blob: add_result only')\n",
    "ax.legend()\n",
    "ax.set_xlabel('Array length')\n",
    "ax.set_ylabel('Time (s)')\n",
    "fig.tight_layout()"
   ]
  },
  {
   "cell_type": "markdown",
   "metadata": {},
   "source": [
    "However, as we increase the length of the experiment, as seen here by repeating the insertion 100 times, we see a big difference between inserting values of the data row-by-row and inserting it as a binary blob."
   ]
  },
  {
   "cell_type": "markdown",
   "metadata": {},
   "source": [
    "## Loading the data "
   ]
  },
  {
   "cell_type": "code",
   "execution_count": 9,
   "metadata": {
    "execution": {
     "iopub.execute_input": "2020-12-03T09:31:44.179652Z",
     "iopub.status.busy": "2020-12-03T09:31:44.179067Z",
     "iopub.status.idle": "2020-12-03T09:31:44.182277Z",
     "shell.execute_reply": "2020-12-03T09:31:44.182741Z"
    }
   },
   "outputs": [],
   "source": [
    "from qcodes.dataset.data_set import load_by_id\n",
    "from qcodes.dataset.data_export import get_data_by_id"
   ]
  },
  {
   "cell_type": "markdown",
   "metadata": {},
   "source": [
    "As usual you can load the data by using the ``load_by_id`` function but you will notice that the different storage methods\n",
    "are reflected in shape of the data as it is retrieved. "
   ]
  },
  {
   "cell_type": "code",
   "execution_count": 10,
   "metadata": {
    "execution": {
     "iopub.execute_input": "2020-12-03T09:31:44.189591Z",
     "iopub.status.busy": "2020-12-03T09:31:44.187936Z",
     "iopub.status.idle": "2020-12-03T09:31:44.190235Z",
     "shell.execute_reply": "2020-12-03T09:31:44.190970Z"
    }
   },
   "outputs": [],
   "source": [
    "run_id_n = t_numeric_run_ids[0]\n",
    "run_id_a = t_array_run_ids[0]"
   ]
  },
  {
   "cell_type": "code",
   "execution_count": 11,
   "metadata": {
    "execution": {
     "iopub.execute_input": "2020-12-03T09:31:44.194649Z",
     "iopub.status.busy": "2020-12-03T09:31:44.194132Z",
     "iopub.status.idle": "2020-12-03T09:31:44.204220Z",
     "shell.execute_reply": "2020-12-03T09:31:44.203696Z"
    },
    "scrolled": true
   },
   "outputs": [
    {
     "data": {
      "text/plain": [
       "{'x1': {'x1': array([0.95523725, 0.95523725, 0.52679162, 0.52679162, 0.51993674,\n",
       "         0.51993674, 0.61936349, 0.61936349, 0.60078149, 0.60078149,\n",
       "         0.82795289, 0.82795289, 0.33400066, 0.33400066, 0.53251537,\n",
       "         0.53251537, 0.50231691, 0.50231691, 0.72511531, 0.72511531,\n",
       "         0.04211224, 0.04211224, 0.27347992, 0.27347992, 0.21958528,\n",
       "         0.21958528, 0.90896938, 0.90896938, 0.68239676, 0.68239676,\n",
       "         0.99498202, 0.99498202, 0.28790911, 0.28790911, 0.76693915,\n",
       "         0.76693915, 0.61235089, 0.61235089, 0.18823184, 0.18823184,\n",
       "         0.19306597, 0.19306597, 0.91250388, 0.91250388, 0.64122605,\n",
       "         0.64122605, 0.26692067, 0.26692067, 0.3617547 , 0.3617547 ,\n",
       "         0.24241967, 0.24241967, 0.32735615, 0.32735615, 0.15546805,\n",
       "         0.15546805, 0.43813685, 0.43813685, 0.75863381, 0.75863381,\n",
       "         0.31666036, 0.31666036, 0.16198966, 0.16198966, 0.09569949,\n",
       "         0.09569949, 0.32227551, 0.32227551, 0.07253312, 0.07253312,\n",
       "         0.78745257, 0.78745257, 0.35641431, 0.35641431, 0.95797603,\n",
       "         0.95797603, 0.62114214, 0.62114214, 0.93664114, 0.93664114,\n",
       "         0.48446572, 0.48446572, 0.84437055, 0.84437055, 0.84773905,\n",
       "         0.84773905, 0.29287717, 0.29287717, 0.39773635, 0.39773635,\n",
       "         0.51823212, 0.51823212, 0.9763566 , 0.9763566 , 0.78163655,\n",
       "         0.78163655, 0.70406304, 0.70406304, 0.72937026, 0.72937026,\n",
       "         0.64198339, 0.64198339, 0.66389381, 0.66389381, 0.97414836,\n",
       "         0.97414836, 0.23208381, 0.23208381, 0.87142928, 0.87142928,\n",
       "         0.41959601, 0.41959601, 0.56854722, 0.56854722, 0.52491644,\n",
       "         0.52491644, 0.55144613, 0.55144613, 0.17293022, 0.17293022,\n",
       "         0.59162132, 0.59162132, 0.14620757, 0.14620757, 0.99272673,\n",
       "         0.99272673, 0.97096937, 0.97096937, 0.20640098, 0.20640098,\n",
       "         0.04640267, 0.04640267, 0.27205871, 0.27205871, 0.01710578,\n",
       "         0.01710578, 0.66846722, 0.66846722, 0.30757653, 0.30757653,\n",
       "         0.46639578, 0.46639578, 0.51007444, 0.51007444, 0.37183401,\n",
       "         0.37183401, 0.09400142, 0.09400142, 0.967563  , 0.967563  ,\n",
       "         0.4111703 , 0.4111703 , 0.76238854, 0.76238854, 0.64666713,\n",
       "         0.64666713, 0.8788531 , 0.8788531 , 0.45153005, 0.45153005,\n",
       "         0.02990932, 0.02990932, 0.70047265, 0.70047265, 0.11387629,\n",
       "         0.11387629, 0.93157091, 0.93157091, 0.73230441, 0.73230441,\n",
       "         0.44074861, 0.44074861, 0.92528551, 0.92528551, 0.02849191,\n",
       "         0.02849191, 0.66229787, 0.66229787, 0.01305035, 0.01305035,\n",
       "         0.37249506, 0.37249506, 0.89009513, 0.89009513, 0.70044354,\n",
       "         0.70044354, 0.22986669, 0.22986669, 0.30086024, 0.30086024,\n",
       "         0.46080953, 0.46080953, 0.19001532, 0.19001532, 0.07694096,\n",
       "         0.07694096, 0.27997561, 0.27997561, 0.4217675 , 0.4217675 ])}}"
      ]
     },
     "execution_count": 1,
     "metadata": {},
     "output_type": "execute_result"
    }
   ],
   "source": [
    "ds = load_by_id(run_id_n)\n",
    "ds.get_parameter_data('x1')"
   ]
  },
  {
   "cell_type": "markdown",
   "metadata": {},
   "source": [
    "And a dataset stored as binary arrays"
   ]
  },
  {
   "cell_type": "code",
   "execution_count": 12,
   "metadata": {
    "execution": {
     "iopub.execute_input": "2020-12-03T09:31:44.207664Z",
     "iopub.status.busy": "2020-12-03T09:31:44.207130Z",
     "iopub.status.idle": "2020-12-03T09:31:44.270185Z",
     "shell.execute_reply": "2020-12-03T09:31:44.270754Z"
    },
    "scrolled": true
   },
   "outputs": [
    {
     "data": {
      "text/plain": [
       "{'x1': {'x1': array([[0.55252357],\n",
       "         [0.55252357],\n",
       "         [0.66107805],\n",
       "         [0.66107805],\n",
       "         [0.91997251],\n",
       "         [0.91997251],\n",
       "         [0.76950636],\n",
       "         [0.76950636],\n",
       "         [0.3423113 ],\n",
       "         [0.3423113 ],\n",
       "         [0.28044246],\n",
       "         [0.28044246],\n",
       "         [0.58818343],\n",
       "         [0.58818343],\n",
       "         [0.84590911],\n",
       "         [0.84590911],\n",
       "         [0.10833291],\n",
       "         [0.10833291],\n",
       "         [0.94013089],\n",
       "         [0.94013089],\n",
       "         [0.72687234],\n",
       "         [0.72687234],\n",
       "         [0.84535243],\n",
       "         [0.84535243],\n",
       "         [0.57632003],\n",
       "         [0.57632003],\n",
       "         [0.63899698],\n",
       "         [0.63899698],\n",
       "         [0.56466177],\n",
       "         [0.56466177],\n",
       "         [0.22831572],\n",
       "         [0.22831572],\n",
       "         [0.29645287],\n",
       "         [0.29645287],\n",
       "         [0.69346971],\n",
       "         [0.69346971],\n",
       "         [0.53685714],\n",
       "         [0.53685714],\n",
       "         [0.55576321],\n",
       "         [0.55576321],\n",
       "         [0.71622651],\n",
       "         [0.71622651],\n",
       "         [0.50864541],\n",
       "         [0.50864541],\n",
       "         [0.10320009],\n",
       "         [0.10320009],\n",
       "         [0.00459171],\n",
       "         [0.00459171],\n",
       "         [0.81440028],\n",
       "         [0.81440028],\n",
       "         [0.20160454],\n",
       "         [0.20160454],\n",
       "         [0.93542411],\n",
       "         [0.93542411],\n",
       "         [0.98322074],\n",
       "         [0.98322074],\n",
       "         [0.57407295],\n",
       "         [0.57407295],\n",
       "         [0.08552103],\n",
       "         [0.08552103],\n",
       "         [0.38786596],\n",
       "         [0.38786596],\n",
       "         [0.06838292],\n",
       "         [0.06838292],\n",
       "         [0.30863104],\n",
       "         [0.30863104],\n",
       "         [0.48445086],\n",
       "         [0.48445086],\n",
       "         [0.43722629],\n",
       "         [0.43722629],\n",
       "         [0.28250323],\n",
       "         [0.28250323],\n",
       "         [0.30715265],\n",
       "         [0.30715265],\n",
       "         [0.43061096],\n",
       "         [0.43061096],\n",
       "         [0.0261049 ],\n",
       "         [0.0261049 ],\n",
       "         [0.73421408],\n",
       "         [0.73421408],\n",
       "         [0.10771067],\n",
       "         [0.10771067],\n",
       "         [0.51156684],\n",
       "         [0.51156684],\n",
       "         [0.44603037],\n",
       "         [0.44603037],\n",
       "         [0.03825562],\n",
       "         [0.03825562],\n",
       "         [0.78709836],\n",
       "         [0.78709836],\n",
       "         [0.68179165],\n",
       "         [0.68179165],\n",
       "         [0.74661506],\n",
       "         [0.74661506],\n",
       "         [0.64976612],\n",
       "         [0.64976612],\n",
       "         [0.91236895],\n",
       "         [0.91236895],\n",
       "         [0.09242759],\n",
       "         [0.09242759],\n",
       "         [0.61803722],\n",
       "         [0.61803722],\n",
       "         [0.22280073],\n",
       "         [0.22280073],\n",
       "         [0.05604534],\n",
       "         [0.05604534],\n",
       "         [0.0463744 ],\n",
       "         [0.0463744 ],\n",
       "         [0.82372648],\n",
       "         [0.82372648],\n",
       "         [0.28179137],\n",
       "         [0.28179137],\n",
       "         [0.8335748 ],\n",
       "         [0.8335748 ],\n",
       "         [0.75510251],\n",
       "         [0.75510251],\n",
       "         [0.11034288],\n",
       "         [0.11034288],\n",
       "         [0.50208438],\n",
       "         [0.50208438],\n",
       "         [0.4429337 ],\n",
       "         [0.4429337 ],\n",
       "         [0.30949354],\n",
       "         [0.30949354],\n",
       "         [0.90891634],\n",
       "         [0.90891634],\n",
       "         [0.95640476],\n",
       "         [0.95640476],\n",
       "         [0.32437962],\n",
       "         [0.32437962],\n",
       "         [0.80966531],\n",
       "         [0.80966531],\n",
       "         [0.98776008],\n",
       "         [0.98776008],\n",
       "         [0.1990044 ],\n",
       "         [0.1990044 ],\n",
       "         [0.70163583],\n",
       "         [0.70163583],\n",
       "         [0.04893513],\n",
       "         [0.04893513],\n",
       "         [0.44022932],\n",
       "         [0.44022932],\n",
       "         [0.88509116],\n",
       "         [0.88509116],\n",
       "         [0.19333204],\n",
       "         [0.19333204],\n",
       "         [0.43860295],\n",
       "         [0.43860295],\n",
       "         [0.79956651],\n",
       "         [0.79956651],\n",
       "         [0.60161156],\n",
       "         [0.60161156],\n",
       "         [0.17640517],\n",
       "         [0.17640517],\n",
       "         [0.03667795],\n",
       "         [0.03667795],\n",
       "         [0.86817077],\n",
       "         [0.86817077],\n",
       "         [0.51658546],\n",
       "         [0.51658546],\n",
       "         [0.69678283],\n",
       "         [0.69678283],\n",
       "         [0.86558112],\n",
       "         [0.86558112],\n",
       "         [0.86770714],\n",
       "         [0.86770714],\n",
       "         [0.95332162],\n",
       "         [0.95332162],\n",
       "         [0.03712884],\n",
       "         [0.03712884],\n",
       "         [0.00109668],\n",
       "         [0.00109668],\n",
       "         [0.66174311],\n",
       "         [0.66174311],\n",
       "         [0.05133954],\n",
       "         [0.05133954],\n",
       "         [0.08436969],\n",
       "         [0.08436969],\n",
       "         [0.80273309],\n",
       "         [0.80273309],\n",
       "         [0.82542464],\n",
       "         [0.82542464],\n",
       "         [0.54135039],\n",
       "         [0.54135039],\n",
       "         [0.57470153],\n",
       "         [0.57470153],\n",
       "         [0.07047924],\n",
       "         [0.07047924],\n",
       "         [0.46104234],\n",
       "         [0.46104234],\n",
       "         [0.50493017],\n",
       "         [0.50493017],\n",
       "         [0.70837614],\n",
       "         [0.70837614],\n",
       "         [0.43697483],\n",
       "         [0.43697483],\n",
       "         [0.35982741],\n",
       "         [0.35982741],\n",
       "         [0.67263117],\n",
       "         [0.67263117]])}}"
      ]
     },
     "execution_count": 1,
     "metadata": {},
     "output_type": "execute_result"
    }
   ],
   "source": [
    "ds = load_by_id(run_id_a)\n",
    "ds.get_parameter_data('x1')"
   ]
  },
  {
   "cell_type": "code",
   "execution_count": null,
   "metadata": {},
   "outputs": [],
   "source": []
  }
 ],
 "metadata": {
  "kernelspec": {
   "display_name": "Python 3",
   "language": "python",
   "name": "python3"
  },
  "language_info": {
   "codemirror_mode": {
    "name": "ipython",
    "version": 3
   },
   "file_extension": ".py",
   "mimetype": "text/x-python",
   "name": "python",
   "nbconvert_exporter": "python",
   "pygments_lexer": "ipython3",
   "version": "3.7.9"
  },
  "nbsphinx": {
   "timeout": 600
  },
  "toc": {
   "base_numbering": 1,
   "nav_menu": {},
   "number_sections": true,
   "sideBar": true,
   "skip_h1_title": false,
   "title_cell": "Table of Contents",
   "title_sidebar": "Contents",
   "toc_cell": false,
   "toc_position": {},
   "toc_section_display": true,
   "toc_window_display": false
  },
  "varInspector": {
   "cols": {
    "lenName": 16,
    "lenType": 16,
    "lenVar": 40
   },
   "kernels_config": {
    "python": {
     "delete_cmd_postfix": "",
     "delete_cmd_prefix": "del ",
     "library": "var_list.py",
     "varRefreshCmd": "print(var_dic_list())"
    },
    "r": {
     "delete_cmd_postfix": ") ",
     "delete_cmd_prefix": "rm(",
     "library": "var_list.r",
     "varRefreshCmd": "cat(var_dic_list()) "
    }
   },
   "types_to_exclude": [
    "module",
    "function",
    "builtin_function_or_method",
    "instance",
    "_Feature"
   ],
   "window_display": false
  }
 },
 "nbformat": 4,
 "nbformat_minor": 2
}
