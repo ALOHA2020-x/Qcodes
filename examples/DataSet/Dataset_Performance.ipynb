{
 "cells": [
  {
   "cell_type": "markdown",
   "metadata": {},
   "source": [
    "# DataSet Performance\n",
    "\n",
    "This notebook shows the trade-off between inserting data into a database row-by-row and as binary blobs. Inserting the data row-by-row means that we have direct access to all the data and may perform queries directly on the values of the data. On the other hand, as we shall see, this is much slower than inserting the data directly as binary blobs."
   ]
  },
  {
   "cell_type": "markdown",
   "metadata": {},
   "source": [
    "First, we choose a new location for the database to ensure that we don't add a bunch of benchmarking data to the default one."
   ]
  },
  {
   "cell_type": "code",
   "execution_count": 1,
   "metadata": {
    "execution": {
     "iopub.execute_input": "2020-10-15T11:20:05.834207Z",
     "iopub.status.busy": "2020-10-15T11:20:05.833533Z",
     "iopub.status.idle": "2020-10-15T11:20:06.910916Z",
     "shell.execute_reply": "2020-10-15T11:20:06.910267Z"
    }
   },
   "outputs": [
    {
     "name": "stdout",
     "output_type": "stream",
     "text": [
      "Logging hadn't been started.\n",
      "Activating auto-logging. Current session state plus future input saved.\n",
      "Filename       : /home/vsts/.qcodes/logs/command_history.log\n",
      "Mode           : append\n",
      "Output logging : True\n",
      "Raw input log  : False\n",
      "Timestamping   : True\n",
      "State          : active\n"
     ]
    },
    {
     "name": "stdout",
     "output_type": "stream",
     "text": [
      "Qcodes Logfile : /home/vsts/.qcodes/logs/201015-14739-qcodes.log\n"
     ]
    }
   ],
   "source": [
    "import os\n",
    "cwd = os.getcwd()\n",
    "import qcodes as qc\n",
    "qc.config[\"core\"][\"db_location\"] = os.path.join(cwd, 'testing.db')\n"
   ]
  },
  {
   "cell_type": "code",
   "execution_count": 2,
   "metadata": {
    "execution": {
     "iopub.execute_input": "2020-10-15T11:20:06.917700Z",
     "iopub.status.busy": "2020-10-15T11:20:06.916859Z",
     "iopub.status.idle": "2020-10-15T11:20:07.125280Z",
     "shell.execute_reply": "2020-10-15T11:20:07.124159Z"
    }
   },
   "outputs": [],
   "source": [
    "%matplotlib inline\n",
    "import time\n",
    "import matplotlib.pyplot as plt\n",
    "import numpy as np\n",
    "\n",
    "import qcodes as qc\n",
    "from qcodes.instrument.parameter import ManualParameter\n",
    "from qcodes.dataset.experiment_container import (Experiment,\n",
    "                                                 load_last_experiment,\n",
    "                                                 new_experiment)\n",
    "from qcodes.dataset.sqlite.database import initialise_database\n",
    "from qcodes import load_or_create_experiment\n",
    "from qcodes.dataset.measurements import Measurement"
   ]
  },
  {
   "cell_type": "code",
   "execution_count": 3,
   "metadata": {
    "execution": {
     "iopub.execute_input": "2020-10-15T11:20:07.129844Z",
     "iopub.status.busy": "2020-10-15T11:20:07.129130Z",
     "iopub.status.idle": "2020-10-15T11:20:07.235163Z",
     "shell.execute_reply": "2020-10-15T11:20:07.235620Z"
    }
   },
   "outputs": [
    {
     "name": "stdout",
     "output_type": "stream",
     "text": [
      "\r",
      "0it [00:00, ?it/s]"
     ]
    },
    {
     "name": "stdout",
     "output_type": "stream",
     "text": [
      "\r",
      "Upgrading database; v0 -> v1: : 0it [00:00, ?it/s]"
     ]
    },
    {
     "name": "stdout",
     "output_type": "stream",
     "text": [
      "\r",
      "Upgrading database; v0 -> v1: : 0it [00:00, ?it/s]"
     ]
    },
    {
     "name": "stdout",
     "output_type": "stream",
     "text": [
      "\n",
      "\r",
      "  0%|          | 0/1 [00:00<?, ?it/s]"
     ]
    },
    {
     "name": "stdout",
     "output_type": "stream",
     "text": [
      "\r",
      "Upgrading database; v1 -> v2:   0%|          | 0/1 [00:00<?, ?it/s]"
     ]
    },
    {
     "name": "stdout",
     "output_type": "stream",
     "text": [
      "\r",
      "Upgrading database; v1 -> v2: 100%|██████████| 1/1 [00:00<00:00, 1189.20it/s]"
     ]
    },
    {
     "name": "stdout",
     "output_type": "stream",
     "text": [
      "\n",
      "\r",
      "0it [00:00, ?it/s]"
     ]
    },
    {
     "name": "stdout",
     "output_type": "stream",
     "text": [
      "\r",
      "Upgrading database; v2 -> v3: : 0it [00:00, ?it/s]"
     ]
    },
    {
     "name": "stdout",
     "output_type": "stream",
     "text": [
      "\r",
      "Upgrading database; v2 -> v3: : 0it [00:00, ?it/s]"
     ]
    },
    {
     "name": "stdout",
     "output_type": "stream",
     "text": [
      "\n",
      "\r",
      "0it [00:00, ?it/s]"
     ]
    },
    {
     "name": "stdout",
     "output_type": "stream",
     "text": [
      "\r",
      "Upgrading database; v3 -> v4: : 0it [00:00, ?it/s]"
     ]
    },
    {
     "name": "stdout",
     "output_type": "stream",
     "text": [
      "\r",
      "Upgrading database; v3 -> v4: : 0it [00:00, ?it/s]"
     ]
    },
    {
     "name": "stdout",
     "output_type": "stream",
     "text": [
      "\n",
      "\r",
      "  0%|          | 0/1 [00:00<?, ?it/s]"
     ]
    },
    {
     "name": "stdout",
     "output_type": "stream",
     "text": [
      "\r",
      "Upgrading database; v4 -> v5:   0%|          | 0/1 [00:00<?, ?it/s]"
     ]
    },
    {
     "name": "stdout",
     "output_type": "stream",
     "text": [
      "\r",
      "Upgrading database; v4 -> v5: 100%|██████████| 1/1 [00:00<00:00, 852.50it/s]"
     ]
    },
    {
     "name": "stdout",
     "output_type": "stream",
     "text": [
      "\n",
      "\r",
      "0it [00:00, ?it/s]"
     ]
    },
    {
     "name": "stdout",
     "output_type": "stream",
     "text": [
      "\r",
      "Upgrading database; v5 -> v6: : 0it [00:00, ?it/s]"
     ]
    },
    {
     "name": "stdout",
     "output_type": "stream",
     "text": [
      "\r",
      "Upgrading database; v5 -> v6: : 0it [00:00, ?it/s]"
     ]
    },
    {
     "name": "stdout",
     "output_type": "stream",
     "text": [
      "\n",
      "\r",
      "  0%|          | 0/1 [00:00<?, ?it/s]"
     ]
    },
    {
     "name": "stdout",
     "output_type": "stream",
     "text": [
      "\r",
      "Upgrading database; v6 -> v7:   0%|          | 0/1 [00:00<?, ?it/s]"
     ]
    },
    {
     "name": "stdout",
     "output_type": "stream",
     "text": [
      "\r",
      "Upgrading database; v6 -> v7: 100%|██████████| 1/1 [00:00<00:00, 412.58it/s]"
     ]
    },
    {
     "name": "stdout",
     "output_type": "stream",
     "text": [
      "\n",
      "\r",
      "  0%|          | 0/1 [00:00<?, ?it/s]"
     ]
    },
    {
     "name": "stdout",
     "output_type": "stream",
     "text": [
      "\r",
      "Upgrading database; v7 -> v8:   0%|          | 0/1 [00:00<?, ?it/s]"
     ]
    },
    {
     "name": "stdout",
     "output_type": "stream",
     "text": [
      "\r",
      "Upgrading database; v7 -> v8: 100%|██████████| 1/1 [00:00<00:00, 859.84it/s]"
     ]
    },
    {
     "name": "stdout",
     "output_type": "stream",
     "text": [
      "\n",
      "\r",
      "  0%|          | 0/1 [00:00<?, ?it/s]"
     ]
    },
    {
     "name": "stdout",
     "output_type": "stream",
     "text": [
      "\r",
      "Upgrading database; v8 -> v9:   0%|          | 0/1 [00:00<?, ?it/s]"
     ]
    },
    {
     "name": "stdout",
     "output_type": "stream",
     "text": [
      "\r",
      "Upgrading database; v8 -> v9: 100%|██████████| 1/1 [00:00<00:00, 1043.10it/s]"
     ]
    },
    {
     "name": "stdout",
     "output_type": "stream",
     "text": [
      "\n"
     ]
    }
   ],
   "source": [
    "initialise_database()\n",
    "exp = load_or_create_experiment(experiment_name='tutorial_exp', sample_name=\"no sample\")"
   ]
  },
  {
   "cell_type": "markdown",
   "metadata": {},
   "source": [
    "Here, we define a simple function to benchmark the time it takes to insert n points with either numeric or array data type.\n",
    "We will compare both the time used to call ``add_result`` and the time used for the full measurement."
   ]
  },
  {
   "cell_type": "code",
   "execution_count": 4,
   "metadata": {
    "execution": {
     "iopub.execute_input": "2020-10-15T11:20:07.245132Z",
     "iopub.status.busy": "2020-10-15T11:20:07.243892Z",
     "iopub.status.idle": "2020-10-15T11:20:07.245694Z",
     "shell.execute_reply": "2020-10-15T11:20:07.246276Z"
    }
   },
   "outputs": [],
   "source": [
    "def insert_data(paramtype, npoints, nreps=1):\n",
    "\n",
    "    meas = Measurement(exp=exp)\n",
    "\n",
    "    x1 = ManualParameter('x1')\n",
    "    x2 = ManualParameter('x2')\n",
    "    x3 = ManualParameter('x3')\n",
    "    y1 = ManualParameter('y1')\n",
    "    y2 = ManualParameter('y2')\n",
    "\n",
    "    meas.register_parameter(x1, paramtype=paramtype)\n",
    "    meas.register_parameter(x2, paramtype=paramtype)\n",
    "    meas.register_parameter(x3, paramtype=paramtype)\n",
    "    meas.register_parameter(y1, setpoints=[x1, x2, x3],\n",
    "                            paramtype=paramtype)\n",
    "    meas.register_parameter(y2, setpoints=[x1, x2, x3],\n",
    "                            paramtype=paramtype)\n",
    "    start = time.perf_counter()\n",
    "    with meas.run() as datasaver:\n",
    "        start_adding = time.perf_counter()\n",
    "        for i in range(nreps):\n",
    "            datasaver.add_result((x1, np.random.rand(npoints)),\n",
    "                                 (x2, np.random.rand(npoints)),\n",
    "                                 (x3, np.random.rand(npoints)),\n",
    "                                 (y1, np.random.rand(npoints)),\n",
    "                                 (y2, np.random.rand(npoints)))\n",
    "        stop_adding = time.perf_counter()\n",
    "        run_id = datasaver.run_id\n",
    "    stop = time.perf_counter()\n",
    "    tot_time = stop - start\n",
    "    add_time = stop_adding - start_adding\n",
    "    return tot_time, add_time, run_id"
   ]
  },
  {
   "cell_type": "markdown",
   "metadata": {},
   "source": [
    "## Comparison between numeric/array data and binary blob"
   ]
  },
  {
   "cell_type": "markdown",
   "metadata": {},
   "source": [
    "### Case1: Short experiment time"
   ]
  },
  {
   "cell_type": "code",
   "execution_count": 5,
   "metadata": {
    "execution": {
     "iopub.execute_input": "2020-10-15T11:20:07.252139Z",
     "iopub.status.busy": "2020-10-15T11:20:07.251013Z",
     "iopub.status.idle": "2020-10-15T11:20:08.142212Z",
     "shell.execute_reply": "2020-10-15T11:20:08.141582Z"
    }
   },
   "outputs": [
    {
     "name": "stdout",
     "output_type": "stream",
     "text": [
      "Starting experimental run with id: 1. \n",
      "Starting experimental run with id: 2. \n",
      "Starting experimental run with id: 3. \n",
      "Starting experimental run with id: 4. \n",
      "Starting experimental run with id: 5. \n"
     ]
    },
    {
     "name": "stdout",
     "output_type": "stream",
     "text": [
      "Starting experimental run with id: 6. \n"
     ]
    },
    {
     "name": "stdout",
     "output_type": "stream",
     "text": [
      "Starting experimental run with id: 7. \n"
     ]
    },
    {
     "name": "stdout",
     "output_type": "stream",
     "text": [
      "Starting experimental run with id: 8. \n",
      "Starting experimental run with id: 9. \n"
     ]
    },
    {
     "name": "stdout",
     "output_type": "stream",
     "text": [
      "Starting experimental run with id: 10. \n",
      "Starting experimental run with id: 11. \n"
     ]
    },
    {
     "name": "stdout",
     "output_type": "stream",
     "text": [
      "Starting experimental run with id: 12. \n"
     ]
    },
    {
     "name": "stdout",
     "output_type": "stream",
     "text": [
      "Starting experimental run with id: 13. \n"
     ]
    },
    {
     "name": "stdout",
     "output_type": "stream",
     "text": [
      "Starting experimental run with id: 14. \n"
     ]
    }
   ],
   "source": [
    "sizes = [1,500,1000,2000,3000,4000,5000]\n",
    "t_numeric = []\n",
    "t_numeric_add = []\n",
    "t_array = []\n",
    "t_array_add = []\n",
    "for size in sizes:\n",
    "    tn, tna, run_id_n =  insert_data('numeric', size)\n",
    "    t_numeric.append(tn)\n",
    "    t_numeric_add.append(tna)\n",
    "\n",
    "    ta, taa, run_id_a =  insert_data('array', size)\n",
    "    t_array.append(ta)\n",
    "    t_array_add.append(taa)"
   ]
  },
  {
   "cell_type": "code",
   "execution_count": 6,
   "metadata": {
    "execution": {
     "iopub.execute_input": "2020-10-15T11:20:08.160979Z",
     "iopub.status.busy": "2020-10-15T11:20:08.160211Z",
     "iopub.status.idle": "2020-10-15T11:20:08.347207Z",
     "shell.execute_reply": "2020-10-15T11:20:08.346681Z"
    }
   },
   "outputs": [
    {
     "data": {
      "image/png": "[encoded data removed]",
      "text/plain": [
       "<Figure size 432x288 with 1 Axes>"
      ]
     },
     "metadata": {
      "needs_background": "light"
     },
     "output_type": "display_data"
    }
   ],
   "source": [
    "fig, ax = plt.subplots(1,1)\n",
    "ax.plot(sizes, t_numeric, 'o-', label='Inserting row-by-row')\n",
    "ax.plot(sizes, t_numeric_add, 'o-', label='Inserting row-by-row: add_result only')\n",
    "ax.plot(sizes, t_array, 'd-', label='Inserting as binary blob')\n",
    "ax.plot(sizes, t_array_add, 'd-', label='Inserting as binary blob: add_result only')\n",
    "ax.legend()\n",
    "ax.set_xlabel('Array length')\n",
    "ax.set_ylabel('Time (s)')\n",
    "fig.tight_layout()"
   ]
  },
  {
   "cell_type": "markdown",
   "metadata": {},
   "source": [
    "As shown in the latter figure, the time to setup and and close the experiment is approximately 0.4 sec. In case of small array sizes, the difference between inserting values of data as arrays and inserting them row-by-row is relatively unimportant. At larger array sizes, i.e. above 10000 points, the cost of writing data as individual datapoints starts to become important.\n"
   ]
  },
  {
   "cell_type": "markdown",
   "metadata": {},
   "source": [
    "### Case2: Long experiment time "
   ]
  },
  {
   "cell_type": "code",
   "execution_count": 7,
   "metadata": {
    "execution": {
     "iopub.execute_input": "2020-10-15T11:20:08.353637Z",
     "iopub.status.busy": "2020-10-15T11:20:08.352016Z",
     "iopub.status.idle": "2020-10-15T11:21:08.758450Z",
     "shell.execute_reply": "2020-10-15T11:21:08.757117Z"
    }
   },
   "outputs": [
    {
     "name": "stdout",
     "output_type": "stream",
     "text": [
      "Starting experimental run with id: 15. \n",
      "Starting experimental run with id: 16. \n",
      "Starting experimental run with id: 17. \n"
     ]
    },
    {
     "name": "stdout",
     "output_type": "stream",
     "text": [
      "Starting experimental run with id: 18. \n",
      "Starting experimental run with id: 19. \n"
     ]
    },
    {
     "name": "stdout",
     "output_type": "stream",
     "text": [
      "Starting experimental run with id: 20. \n"
     ]
    },
    {
     "name": "stdout",
     "output_type": "stream",
     "text": [
      "Starting experimental run with id: 21. \n"
     ]
    },
    {
     "name": "stdout",
     "output_type": "stream",
     "text": [
      "Starting experimental run with id: 22. \n"
     ]
    },
    {
     "name": "stdout",
     "output_type": "stream",
     "text": [
      "Starting experimental run with id: 23. \n"
     ]
    },
    {
     "name": "stdout",
     "output_type": "stream",
     "text": [
      "Starting experimental run with id: 24. \n"
     ]
    },
    {
     "name": "stdout",
     "output_type": "stream",
     "text": [
      "Starting experimental run with id: 25. \n"
     ]
    },
    {
     "name": "stdout",
     "output_type": "stream",
     "text": [
      "Starting experimental run with id: 26. \n"
     ]
    },
    {
     "name": "stdout",
     "output_type": "stream",
     "text": [
      "Starting experimental run with id: 27. \n"
     ]
    },
    {
     "name": "stdout",
     "output_type": "stream",
     "text": [
      "Starting experimental run with id: 28. \n"
     ]
    }
   ],
   "source": [
    "sizes = [1,500,1000,2000,3000,4000,5000]\n",
    "nreps = 100\n",
    "t_numeric = []\n",
    "t_numeric_add = []\n",
    "t_numeric_run_ids = []\n",
    "t_array = []\n",
    "t_array_add = []\n",
    "t_array_run_ids = []\n",
    "for size in sizes:\n",
    "    tn, tna, run_id_n =  insert_data('numeric', size, nreps=nreps)\n",
    "    t_numeric.append(tn)\n",
    "    t_numeric_add.append(tna)\n",
    "    t_numeric_run_ids.append(run_id_n)\n",
    "\n",
    "    ta, taa, run_id_a =  insert_data('array', size, nreps=nreps)\n",
    "    t_array.append(ta)\n",
    "    t_array_add.append(taa)\n",
    "    t_array_run_ids.append(run_id_a)"
   ]
  },
  {
   "cell_type": "code",
   "execution_count": 8,
   "metadata": {
    "execution": {
     "iopub.execute_input": "2020-10-15T11:21:08.799181Z",
     "iopub.status.busy": "2020-10-15T11:21:08.798217Z",
     "iopub.status.idle": "2020-10-15T11:21:08.964517Z",
     "shell.execute_reply": "2020-10-15T11:21:08.965147Z"
    },
    "scrolled": true
   },
   "outputs": [
    {
     "data": {
      "image/png": "[encoded data removed]",
      "text/plain": [
       "<Figure size 432x288 with 1 Axes>"
      ]
     },
     "metadata": {
      "needs_background": "light"
     },
     "output_type": "display_data"
    }
   ],
   "source": [
    "fig, ax = plt.subplots(1,1)\n",
    "ax.plot(sizes, t_numeric, 'o-', label='Inserting row-by-row')\n",
    "ax.plot(sizes, t_numeric_add, 'o-', label='Inserting row-by-row: add_result only')\n",
    "ax.plot(sizes, t_array, 'd-', label='Inserting as binary blob')\n",
    "ax.plot(sizes, t_array_add, 'd-', label='Inserting as binary blob: add_result only')\n",
    "ax.legend()\n",
    "ax.set_xlabel('Array length')\n",
    "ax.set_ylabel('Time (s)')\n",
    "fig.tight_layout()"
   ]
  },
  {
   "cell_type": "markdown",
   "metadata": {},
   "source": [
    "However, as we increase the length of the experiment, as seen here by repeating the insertion 100 times, we see a big difference between inserting values of the data row-by-row and inserting it as a binary blob."
   ]
  },
  {
   "cell_type": "markdown",
   "metadata": {},
   "source": [
    "## Loading the data "
   ]
  },
  {
   "cell_type": "code",
   "execution_count": 9,
   "metadata": {
    "execution": {
     "iopub.execute_input": "2020-10-15T11:21:08.969133Z",
     "iopub.status.busy": "2020-10-15T11:21:08.968585Z",
     "iopub.status.idle": "2020-10-15T11:21:08.971910Z",
     "shell.execute_reply": "2020-10-15T11:21:08.971447Z"
    }
   },
   "outputs": [],
   "source": [
    "from qcodes.dataset.data_set import load_by_id\n",
    "from qcodes.dataset.data_export import get_data_by_id"
   ]
  },
  {
   "cell_type": "markdown",
   "metadata": {},
   "source": [
    "As usual you can load the data by using the ``load_by_id`` function but you will notice that the different storage methods\n",
    "are reflected in shape of the data as it is retrieved. "
   ]
  },
  {
   "cell_type": "code",
   "execution_count": 10,
   "metadata": {
    "execution": {
     "iopub.execute_input": "2020-10-15T11:21:08.975752Z",
     "iopub.status.busy": "2020-10-15T11:21:08.975228Z",
     "iopub.status.idle": "2020-10-15T11:21:08.977469Z",
     "shell.execute_reply": "2020-10-15T11:21:08.977009Z"
    }
   },
   "outputs": [],
   "source": [
    "run_id_n = t_numeric_run_ids[0]\n",
    "run_id_a = t_array_run_ids[0]"
   ]
  },
  {
   "cell_type": "code",
   "execution_count": 11,
   "metadata": {
    "execution": {
     "iopub.execute_input": "2020-10-15T11:21:08.980735Z",
     "iopub.status.busy": "2020-10-15T11:21:08.980218Z",
     "iopub.status.idle": "2020-10-15T11:21:08.989676Z",
     "shell.execute_reply": "2020-10-15T11:21:08.989202Z"
    },
    "scrolled": true
   },
   "outputs": [
    {
     "data": {
      "text/plain": [
       "{'x1': {'x1': array([0.79343871, 0.79343871, 0.18186564, 0.18186564, 0.11275992,\n",
       "         0.11275992, 0.68004919, 0.68004919, 0.00602927, 0.00602927,\n",
       "         0.71055449, 0.71055449, 0.608005  , 0.608005  , 0.02288457,\n",
       "         0.02288457, 0.31529795, 0.31529795, 0.39908745, 0.39908745,\n",
       "         0.03795315, 0.03795315, 0.84298347, 0.84298347, 0.51249212,\n",
       "         0.51249212, 0.60928403, 0.60928403, 0.66581553, 0.66581553,\n",
       "         0.12849887, 0.12849887, 0.4975052 , 0.4975052 , 0.34136291,\n",
       "         0.34136291, 0.13909697, 0.13909697, 0.16214559, 0.16214559,\n",
       "         0.25407044, 0.25407044, 0.8522503 , 0.8522503 , 0.92755764,\n",
       "         0.92755764, 0.08343953, 0.08343953, 0.72395732, 0.72395732,\n",
       "         0.18552995, 0.18552995, 0.97048396, 0.97048396, 0.33674686,\n",
       "         0.33674686, 0.36541423, 0.36541423, 0.83743014, 0.83743014,\n",
       "         0.41993707, 0.41993707, 0.54298629, 0.54298629, 0.68590958,\n",
       "         0.68590958, 0.63893304, 0.63893304, 0.58011391, 0.58011391,\n",
       "         0.53803733, 0.53803733, 0.58698517, 0.58698517, 0.89223215,\n",
       "         0.89223215, 0.19400716, 0.19400716, 0.10439105, 0.10439105,\n",
       "         0.94825985, 0.94825985, 0.96294367, 0.96294367, 0.85744005,\n",
       "         0.85744005, 0.58713645, 0.58713645, 0.5751528 , 0.5751528 ,\n",
       "         0.673418  , 0.673418  , 0.02043305, 0.02043305, 0.7514277 ,\n",
       "         0.7514277 , 0.81547049, 0.81547049, 0.12116216, 0.12116216,\n",
       "         0.03655213, 0.03655213, 0.09512135, 0.09512135, 0.29408584,\n",
       "         0.29408584, 0.58584069, 0.58584069, 0.16875463, 0.16875463,\n",
       "         0.32889702, 0.32889702, 0.60349406, 0.60349406, 0.67374156,\n",
       "         0.67374156, 0.30093769, 0.30093769, 0.53513561, 0.53513561,\n",
       "         0.54586117, 0.54586117, 0.15718324, 0.15718324, 0.8636335 ,\n",
       "         0.8636335 , 0.71229842, 0.71229842, 0.63442342, 0.63442342,\n",
       "         0.16761371, 0.16761371, 0.15349688, 0.15349688, 0.33145663,\n",
       "         0.33145663, 0.68797805, 0.68797805, 0.56554899, 0.56554899,\n",
       "         0.27557287, 0.27557287, 0.96834695, 0.96834695, 0.2826674 ,\n",
       "         0.2826674 , 0.28988337, 0.28988337, 0.15816019, 0.15816019,\n",
       "         0.62577959, 0.62577959, 0.68557525, 0.68557525, 0.70358443,\n",
       "         0.70358443, 0.22353795, 0.22353795, 0.97798297, 0.97798297,\n",
       "         0.02333864, 0.02333864, 0.43622321, 0.43622321, 0.02119797,\n",
       "         0.02119797, 0.16397339, 0.16397339, 0.38449209, 0.38449209,\n",
       "         0.86842763, 0.86842763, 0.21335386, 0.21335386, 0.51041699,\n",
       "         0.51041699, 0.1726906 , 0.1726906 , 0.13841429, 0.13841429,\n",
       "         0.65142147, 0.65142147, 0.75101174, 0.75101174, 0.54967129,\n",
       "         0.54967129, 0.29766985, 0.29766985, 0.21537261, 0.21537261,\n",
       "         0.98877872, 0.98877872, 0.58185486, 0.58185486, 0.72735529,\n",
       "         0.72735529, 0.24998668, 0.24998668, 0.95346315, 0.95346315])}}"
      ]
     },
     "execution_count": 1,
     "metadata": {},
     "output_type": "execute_result"
    }
   ],
   "source": [
    "ds = load_by_id(run_id_n)\n",
    "ds.get_parameter_data('x1')"
   ]
  },
  {
   "cell_type": "markdown",
   "metadata": {},
   "source": [
    "And a dataset stored as binary arrays"
   ]
  },
  {
   "cell_type": "code",
   "execution_count": 12,
   "metadata": {
    "execution": {
     "iopub.execute_input": "2020-10-15T11:21:08.993154Z",
     "iopub.status.busy": "2020-10-15T11:21:08.992633Z",
     "iopub.status.idle": "2020-10-15T11:21:09.048187Z",
     "shell.execute_reply": "2020-10-15T11:21:09.049037Z"
    },
    "scrolled": true
   },
   "outputs": [
    {
     "data": {
      "text/plain": [
       "{'x1': {'x1': array([[0.69796396],\n",
       "         [0.69796396],\n",
       "         [0.61343808],\n",
       "         [0.61343808],\n",
       "         [0.44359407],\n",
       "         [0.44359407],\n",
       "         [0.48866872],\n",
       "         [0.48866872],\n",
       "         [0.99361608],\n",
       "         [0.99361608],\n",
       "         [0.31232819],\n",
       "         [0.31232819],\n",
       "         [0.15503611],\n",
       "         [0.15503611],\n",
       "         [0.88410322],\n",
       "         [0.88410322],\n",
       "         [0.60356273],\n",
       "         [0.60356273],\n",
       "         [0.75468401],\n",
       "         [0.75468401],\n",
       "         [0.29152918],\n",
       "         [0.29152918],\n",
       "         [0.55585766],\n",
       "         [0.55585766],\n",
       "         [0.06843004],\n",
       "         [0.06843004],\n",
       "         [0.91988504],\n",
       "         [0.91988504],\n",
       "         [0.73684997],\n",
       "         [0.73684997],\n",
       "         [0.48795935],\n",
       "         [0.48795935],\n",
       "         [0.18572113],\n",
       "         [0.18572113],\n",
       "         [0.36525609],\n",
       "         [0.36525609],\n",
       "         [0.99524659],\n",
       "         [0.99524659],\n",
       "         [0.89318967],\n",
       "         [0.89318967],\n",
       "         [0.09054151],\n",
       "         [0.09054151],\n",
       "         [0.6180914 ],\n",
       "         [0.6180914 ],\n",
       "         [0.19455294],\n",
       "         [0.19455294],\n",
       "         [0.19972972],\n",
       "         [0.19972972],\n",
       "         [0.9362923 ],\n",
       "         [0.9362923 ],\n",
       "         [0.51547175],\n",
       "         [0.51547175],\n",
       "         [0.61379144],\n",
       "         [0.61379144],\n",
       "         [0.08526286],\n",
       "         [0.08526286],\n",
       "         [0.48639987],\n",
       "         [0.48639987],\n",
       "         [0.08408629],\n",
       "         [0.08408629],\n",
       "         [0.35666465],\n",
       "         [0.35666465],\n",
       "         [0.62888512],\n",
       "         [0.62888512],\n",
       "         [0.34677278],\n",
       "         [0.34677278],\n",
       "         [0.07770928],\n",
       "         [0.07770928],\n",
       "         [0.42590065],\n",
       "         [0.42590065],\n",
       "         [0.65953632],\n",
       "         [0.65953632],\n",
       "         [0.854946  ],\n",
       "         [0.854946  ],\n",
       "         [0.80329024],\n",
       "         [0.80329024],\n",
       "         [0.08720914],\n",
       "         [0.08720914],\n",
       "         [0.79003374],\n",
       "         [0.79003374],\n",
       "         [0.41465805],\n",
       "         [0.41465805],\n",
       "         [0.47779194],\n",
       "         [0.47779194],\n",
       "         [0.56287942],\n",
       "         [0.56287942],\n",
       "         [0.65465454],\n",
       "         [0.65465454],\n",
       "         [0.48298236],\n",
       "         [0.48298236],\n",
       "         [0.41786695],\n",
       "         [0.41786695],\n",
       "         [0.27976849],\n",
       "         [0.27976849],\n",
       "         [0.34375018],\n",
       "         [0.34375018],\n",
       "         [0.99957771],\n",
       "         [0.99957771],\n",
       "         [0.33108234],\n",
       "         [0.33108234],\n",
       "         [0.4062029 ],\n",
       "         [0.4062029 ],\n",
       "         [0.9053459 ],\n",
       "         [0.9053459 ],\n",
       "         [0.22083535],\n",
       "         [0.22083535],\n",
       "         [0.1277891 ],\n",
       "         [0.1277891 ],\n",
       "         [0.36266067],\n",
       "         [0.36266067],\n",
       "         [0.88093536],\n",
       "         [0.88093536],\n",
       "         [0.97945882],\n",
       "         [0.97945882],\n",
       "         [0.14408758],\n",
       "         [0.14408758],\n",
       "         [0.21564653],\n",
       "         [0.21564653],\n",
       "         [0.22624711],\n",
       "         [0.22624711],\n",
       "         [0.09192017],\n",
       "         [0.09192017],\n",
       "         [0.03874066],\n",
       "         [0.03874066],\n",
       "         [0.76251972],\n",
       "         [0.76251972],\n",
       "         [0.50370652],\n",
       "         [0.50370652],\n",
       "         [0.75344099],\n",
       "         [0.75344099],\n",
       "         [0.65892613],\n",
       "         [0.65892613],\n",
       "         [0.20021859],\n",
       "         [0.20021859],\n",
       "         [0.45240561],\n",
       "         [0.45240561],\n",
       "         [0.68564645],\n",
       "         [0.68564645],\n",
       "         [0.85935895],\n",
       "         [0.85935895],\n",
       "         [0.51325741],\n",
       "         [0.51325741],\n",
       "         [0.24393604],\n",
       "         [0.24393604],\n",
       "         [0.48658702],\n",
       "         [0.48658702],\n",
       "         [0.99000073],\n",
       "         [0.99000073],\n",
       "         [0.83869773],\n",
       "         [0.83869773],\n",
       "         [0.88169857],\n",
       "         [0.88169857],\n",
       "         [0.58821957],\n",
       "         [0.58821957],\n",
       "         [0.29872268],\n",
       "         [0.29872268],\n",
       "         [0.00134248],\n",
       "         [0.00134248],\n",
       "         [0.862797  ],\n",
       "         [0.862797  ],\n",
       "         [0.59408661],\n",
       "         [0.59408661],\n",
       "         [0.29977041],\n",
       "         [0.29977041],\n",
       "         [0.80414534],\n",
       "         [0.80414534],\n",
       "         [0.38873178],\n",
       "         [0.38873178],\n",
       "         [0.34253958],\n",
       "         [0.34253958],\n",
       "         [0.3529765 ],\n",
       "         [0.3529765 ],\n",
       "         [0.86595668],\n",
       "         [0.86595668],\n",
       "         [0.39797413],\n",
       "         [0.39797413],\n",
       "         [0.66173856],\n",
       "         [0.66173856],\n",
       "         [0.6698954 ],\n",
       "         [0.6698954 ],\n",
       "         [0.34872765],\n",
       "         [0.34872765],\n",
       "         [0.65368552],\n",
       "         [0.65368552],\n",
       "         [0.85390426],\n",
       "         [0.85390426],\n",
       "         [0.65509823],\n",
       "         [0.65509823],\n",
       "         [0.45059726],\n",
       "         [0.45059726],\n",
       "         [0.93642114],\n",
       "         [0.93642114],\n",
       "         [0.26878949],\n",
       "         [0.26878949],\n",
       "         [0.59340106],\n",
       "         [0.59340106],\n",
       "         [0.68999899],\n",
       "         [0.68999899],\n",
       "         [0.12670451],\n",
       "         [0.12670451]])}}"
      ]
     },
     "execution_count": 1,
     "metadata": {},
     "output_type": "execute_result"
    }
   ],
   "source": [
    "ds = load_by_id(run_id_a)\n",
    "ds.get_parameter_data('x1')"
   ]
  },
  {
   "cell_type": "code",
   "execution_count": null,
   "metadata": {},
   "outputs": [],
   "source": []
  }
 ],
 "metadata": {
  "kernelspec": {
   "display_name": "Python 3",
   "language": "python",
   "name": "python3"
  },
  "language_info": {
   "codemirror_mode": {
    "name": "ipython",
    "version": 3
   },
   "file_extension": ".py",
   "mimetype": "text/x-python",
   "name": "python",
   "nbconvert_exporter": "python",
   "pygments_lexer": "ipython3",
   "version": "3.7.7"
  },
  "nbsphinx": {
   "timeout": 600
  },
  "toc": {
   "base_numbering": 1,
   "nav_menu": {},
   "number_sections": true,
   "sideBar": true,
   "skip_h1_title": false,
   "title_cell": "Table of Contents",
   "title_sidebar": "Contents",
   "toc_cell": false,
   "toc_position": {},
   "toc_section_display": true,
   "toc_window_display": false
  },
  "varInspector": {
   "cols": {
    "lenName": 16,
    "lenType": 16,
    "lenVar": 40
   },
   "kernels_config": {
    "python": {
     "delete_cmd_postfix": "",
     "delete_cmd_prefix": "del ",
     "library": "var_list.py",
     "varRefreshCmd": "print(var_dic_list())"
    },
    "r": {
     "delete_cmd_postfix": ") ",
     "delete_cmd_prefix": "rm(",
     "library": "var_list.r",
     "varRefreshCmd": "cat(var_dic_list()) "
    }
   },
   "types_to_exclude": [
    "module",
    "function",
    "builtin_function_or_method",
    "instance",
    "_Feature"
   ],
   "window_display": false
  }
 },
 "nbformat": 4,
 "nbformat_minor": 2
}
