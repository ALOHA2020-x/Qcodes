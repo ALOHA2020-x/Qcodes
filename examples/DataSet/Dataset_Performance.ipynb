{
 "cells": [
  {
   "cell_type": "markdown",
   "metadata": {},
   "source": [
    "# DataSet Performance\n",
    "\n",
    "This notebook shows the trade-off between inserting data into a database row-by-row and as binary blobs. Inserting the data row-by-row means that we have direct access to all the data and may perform queries directly on the values of the data. On the other hand, as we shall see, this is much slower than inserting the data directly as binary blobs."
   ]
  },
  {
   "cell_type": "markdown",
   "metadata": {},
   "source": [
    "First, we choose a new location for the database to ensure that we don't add a bunch of benchmarking data to the default one."
   ]
  },
  {
   "cell_type": "code",
   "execution_count": 1,
   "metadata": {
    "execution": {
     "iopub.execute_input": "2020-09-17T09:29:55.693050Z",
     "iopub.status.busy": "2020-09-17T09:29:55.692491Z",
     "iopub.status.idle": "2020-09-17T09:29:56.757873Z",
     "shell.execute_reply": "2020-09-17T09:29:56.757420Z"
    }
   },
   "outputs": [
    {
     "name": "stdout",
     "output_type": "stream",
     "text": [
      "Logging hadn't been started.\n",
      "Activating auto-logging. Current session state plus future input saved.\n",
      "Filename       : /home/vsts/.qcodes/logs/command_history.log\n",
      "Mode           : append\n",
      "Output logging : True\n",
      "Raw input log  : False\n",
      "Timestamping   : True\n",
      "State          : active\n"
     ]
    },
    {
     "name": "stdout",
     "output_type": "stream",
     "text": [
      "Qcodes Logfile : /home/vsts/.qcodes/logs/200917-18057-qcodes.log\n"
     ]
    }
   ],
   "source": [
    "import os\n",
    "cwd = os.getcwd()\n",
    "import qcodes as qc\n",
    "qc.config[\"core\"][\"db_location\"] = os.path.join(cwd, 'testing.db')\n"
   ]
  },
  {
   "cell_type": "code",
   "execution_count": 2,
   "metadata": {
    "execution": {
     "iopub.execute_input": "2020-09-17T09:29:56.765312Z",
     "iopub.status.busy": "2020-09-17T09:29:56.763936Z",
     "iopub.status.idle": "2020-09-17T09:29:56.929994Z",
     "shell.execute_reply": "2020-09-17T09:29:56.930411Z"
    }
   },
   "outputs": [],
   "source": [
    "%matplotlib inline\n",
    "import time\n",
    "import matplotlib.pyplot as plt\n",
    "import numpy as np\n",
    "\n",
    "import qcodes as qc\n",
    "from qcodes.instrument.parameter import ManualParameter\n",
    "from qcodes.dataset.experiment_container import (Experiment,\n",
    "                                                 load_last_experiment,\n",
    "                                                 new_experiment)\n",
    "from qcodes.dataset.sqlite.database import initialise_database\n",
    "from qcodes import load_or_create_experiment\n",
    "from qcodes.dataset.measurements import Measurement"
   ]
  },
  {
   "cell_type": "code",
   "execution_count": 3,
   "metadata": {
    "execution": {
     "iopub.execute_input": "2020-09-17T09:29:56.934461Z",
     "iopub.status.busy": "2020-09-17T09:29:56.933769Z",
     "iopub.status.idle": "2020-09-17T09:29:57.025417Z",
     "shell.execute_reply": "2020-09-17T09:29:57.026086Z"
    }
   },
   "outputs": [
    {
     "name": "stdout",
     "output_type": "stream",
     "text": [
      "\r",
      "0it [00:00, ?it/s]"
     ]
    },
    {
     "name": "stdout",
     "output_type": "stream",
     "text": [
      "\r",
      "Upgrading database; v0 -> v1: : 0it [00:00, ?it/s]"
     ]
    },
    {
     "name": "stdout",
     "output_type": "stream",
     "text": [
      "\r",
      "Upgrading database; v0 -> v1: : 0it [00:00, ?it/s]"
     ]
    },
    {
     "name": "stdout",
     "output_type": "stream",
     "text": [
      "\n",
      "\r",
      "  0%|          | 0/1 [00:00<?, ?it/s]"
     ]
    },
    {
     "name": "stdout",
     "output_type": "stream",
     "text": [
      "\r",
      "Upgrading database; v1 -> v2:   0%|          | 0/1 [00:00<?, ?it/s]"
     ]
    },
    {
     "name": "stdout",
     "output_type": "stream",
     "text": [
      "\r",
      "Upgrading database; v1 -> v2: 100%|██████████| 1/1 [00:00<00:00, 411.65it/s]"
     ]
    },
    {
     "name": "stdout",
     "output_type": "stream",
     "text": [
      "\n",
      "\r",
      "0it [00:00, ?it/s]"
     ]
    },
    {
     "name": "stdout",
     "output_type": "stream",
     "text": [
      "\r",
      "Upgrading database; v2 -> v3: : 0it [00:00, ?it/s]"
     ]
    },
    {
     "name": "stdout",
     "output_type": "stream",
     "text": [
      "\r",
      "Upgrading database; v2 -> v3: : 0it [00:00, ?it/s]"
     ]
    },
    {
     "name": "stdout",
     "output_type": "stream",
     "text": [
      "\n",
      "\r",
      "0it [00:00, ?it/s]"
     ]
    },
    {
     "name": "stdout",
     "output_type": "stream",
     "text": [
      "\r",
      "Upgrading database; v3 -> v4: : 0it [00:00, ?it/s]"
     ]
    },
    {
     "name": "stdout",
     "output_type": "stream",
     "text": [
      "\r",
      "Upgrading database; v3 -> v4: : 0it [00:00, ?it/s]"
     ]
    },
    {
     "name": "stdout",
     "output_type": "stream",
     "text": [
      "\n",
      "\r",
      "  0%|          | 0/1 [00:00<?, ?it/s]"
     ]
    },
    {
     "name": "stdout",
     "output_type": "stream",
     "text": [
      "\r",
      "Upgrading database; v4 -> v5:   0%|          | 0/1 [00:00<?, ?it/s]"
     ]
    },
    {
     "name": "stdout",
     "output_type": "stream",
     "text": [
      "\r",
      "Upgrading database; v4 -> v5: 100%|██████████| 1/1 [00:00<00:00, 386.96it/s]"
     ]
    },
    {
     "name": "stdout",
     "output_type": "stream",
     "text": [
      "\n",
      "\r",
      "0it [00:00, ?it/s]"
     ]
    },
    {
     "name": "stdout",
     "output_type": "stream",
     "text": [
      "\r",
      "Upgrading database; v5 -> v6: : 0it [00:00, ?it/s]"
     ]
    },
    {
     "name": "stdout",
     "output_type": "stream",
     "text": [
      "\r",
      "Upgrading database; v5 -> v6: : 0it [00:00, ?it/s]"
     ]
    },
    {
     "name": "stdout",
     "output_type": "stream",
     "text": [
      "\n",
      "\r",
      "  0%|          | 0/1 [00:00<?, ?it/s]"
     ]
    },
    {
     "name": "stdout",
     "output_type": "stream",
     "text": [
      "\r",
      "Upgrading database; v6 -> v7:   0%|          | 0/1 [00:00<?, ?it/s]"
     ]
    },
    {
     "name": "stdout",
     "output_type": "stream",
     "text": [
      "\r",
      "Upgrading database; v6 -> v7: 100%|██████████| 1/1 [00:00<00:00, 226.89it/s]"
     ]
    },
    {
     "name": "stdout",
     "output_type": "stream",
     "text": [
      "\n",
      "\r",
      "  0%|          | 0/1 [00:00<?, ?it/s]"
     ]
    },
    {
     "name": "stdout",
     "output_type": "stream",
     "text": [
      "\r",
      "Upgrading database; v7 -> v8:   0%|          | 0/1 [00:00<?, ?it/s]"
     ]
    },
    {
     "name": "stdout",
     "output_type": "stream",
     "text": [
      "\r",
      "Upgrading database; v7 -> v8: 100%|██████████| 1/1 [00:00<00:00, 426.81it/s]"
     ]
    },
    {
     "name": "stdout",
     "output_type": "stream",
     "text": [
      "\n",
      "\r",
      "  0%|          | 0/1 [00:00<?, ?it/s]"
     ]
    },
    {
     "name": "stdout",
     "output_type": "stream",
     "text": [
      "\r",
      "Upgrading database; v8 -> v9:   0%|          | 0/1 [00:00<?, ?it/s]"
     ]
    },
    {
     "name": "stdout",
     "output_type": "stream",
     "text": [
      "\r",
      "Upgrading database; v8 -> v9: 100%|██████████| 1/1 [00:00<00:00, 397.26it/s]"
     ]
    },
    {
     "name": "stdout",
     "output_type": "stream",
     "text": [
      "\n"
     ]
    }
   ],
   "source": [
    "initialise_database()\n",
    "exp = load_or_create_experiment(experiment_name='tutorial_exp', sample_name=\"no sample\")"
   ]
  },
  {
   "cell_type": "markdown",
   "metadata": {},
   "source": [
    "Here, we define a simple function to benchmark the time it takes to insert n points with either numeric or array data type.\n",
    "We will compare both the time used to call ``add_result`` and the time used for the full measurement."
   ]
  },
  {
   "cell_type": "code",
   "execution_count": 4,
   "metadata": {
    "execution": {
     "iopub.execute_input": "2020-09-17T09:29:57.039510Z",
     "iopub.status.busy": "2020-09-17T09:29:57.037944Z",
     "iopub.status.idle": "2020-09-17T09:29:57.042834Z",
     "shell.execute_reply": "2020-09-17T09:29:57.042157Z"
    }
   },
   "outputs": [],
   "source": [
    "def insert_data(paramtype, npoints, nreps=1):\n",
    "\n",
    "    meas = Measurement(exp=exp)\n",
    "\n",
    "    x1 = ManualParameter('x1')\n",
    "    x2 = ManualParameter('x2')\n",
    "    x3 = ManualParameter('x3')\n",
    "    y1 = ManualParameter('y1')\n",
    "    y2 = ManualParameter('y2')\n",
    "\n",
    "    meas.register_parameter(x1, paramtype=paramtype)\n",
    "    meas.register_parameter(x2, paramtype=paramtype)\n",
    "    meas.register_parameter(x3, paramtype=paramtype)\n",
    "    meas.register_parameter(y1, setpoints=[x1, x2, x3],\n",
    "                            paramtype=paramtype)\n",
    "    meas.register_parameter(y2, setpoints=[x1, x2, x3],\n",
    "                            paramtype=paramtype)\n",
    "    start = time.perf_counter()\n",
    "    with meas.run() as datasaver:\n",
    "        start_adding = time.perf_counter()\n",
    "        for i in range(nreps):\n",
    "            datasaver.add_result((x1, np.random.rand(npoints)),\n",
    "                                 (x2, np.random.rand(npoints)),\n",
    "                                 (x3, np.random.rand(npoints)),\n",
    "                                 (y1, np.random.rand(npoints)),\n",
    "                                 (y2, np.random.rand(npoints)))\n",
    "        stop_adding = time.perf_counter()\n",
    "        run_id = datasaver.run_id\n",
    "    stop = time.perf_counter()\n",
    "    tot_time = stop - start\n",
    "    add_time = stop_adding - start_adding\n",
    "    return tot_time, add_time, run_id"
   ]
  },
  {
   "cell_type": "markdown",
   "metadata": {},
   "source": [
    "## Comparison between numeric/array data and binary blob"
   ]
  },
  {
   "cell_type": "markdown",
   "metadata": {},
   "source": [
    "### Case1: Short experiment time"
   ]
  },
  {
   "cell_type": "code",
   "execution_count": 5,
   "metadata": {
    "execution": {
     "iopub.execute_input": "2020-09-17T09:29:57.047929Z",
     "iopub.status.busy": "2020-09-17T09:29:57.047379Z",
     "iopub.status.idle": "2020-09-17T09:29:57.888996Z",
     "shell.execute_reply": "2020-09-17T09:29:57.888492Z"
    }
   },
   "outputs": [
    {
     "name": "stdout",
     "output_type": "stream",
     "text": [
      "Starting experimental run with id: 1. \n",
      "Starting experimental run with id: 2. \n",
      "Starting experimental run with id: 3. \n"
     ]
    },
    {
     "name": "stdout",
     "output_type": "stream",
     "text": [
      "Starting experimental run with id: 4. \n"
     ]
    },
    {
     "name": "stdout",
     "output_type": "stream",
     "text": [
      "Starting experimental run with id: 5. \n"
     ]
    },
    {
     "name": "stdout",
     "output_type": "stream",
     "text": [
      "Starting experimental run with id: 6. \n"
     ]
    },
    {
     "name": "stdout",
     "output_type": "stream",
     "text": [
      "Starting experimental run with id: 7. \n",
      "Starting experimental run with id: 8. \n",
      "Starting experimental run with id: 9. \n"
     ]
    },
    {
     "name": "stdout",
     "output_type": "stream",
     "text": [
      "Starting experimental run with id: 10. \n",
      "Starting experimental run with id: 11. \n",
      "Starting experimental run with id: 12. \n",
      "Starting experimental run with id: 13. \n"
     ]
    },
    {
     "name": "stdout",
     "output_type": "stream",
     "text": [
      "Starting experimental run with id: 14. \n"
     ]
    }
   ],
   "source": [
    "sizes = [1,500,1000,2000,3000,4000,5000]\n",
    "t_numeric = []\n",
    "t_numeric_add = []\n",
    "t_array = []\n",
    "t_array_add = []\n",
    "for size in sizes:\n",
    "    tn, tna, run_id_n =  insert_data('numeric', size)\n",
    "    t_numeric.append(tn)\n",
    "    t_numeric_add.append(tna)\n",
    "\n",
    "    ta, taa, run_id_a =  insert_data('array', size)\n",
    "    t_array.append(ta)\n",
    "    t_array_add.append(taa)"
   ]
  },
  {
   "cell_type": "code",
   "execution_count": 6,
   "metadata": {
    "execution": {
     "iopub.execute_input": "2020-09-17T09:29:57.894397Z",
     "iopub.status.busy": "2020-09-17T09:29:57.893890Z",
     "iopub.status.idle": "2020-09-17T09:29:58.144172Z",
     "shell.execute_reply": "2020-09-17T09:29:58.143652Z"
    }
   },
   "outputs": [
    {
     "data": {
      "image/png": "[encoded data removed]",
      "text/plain": [
       "<Figure size 432x288 with 1 Axes>"
      ]
     },
     "metadata": {
      "needs_background": "light"
     },
     "output_type": "display_data"
    }
   ],
   "source": [
    "fig, ax = plt.subplots(1,1)\n",
    "ax.plot(sizes, t_numeric, 'o-', label='Inserting row-by-row')\n",
    "ax.plot(sizes, t_numeric_add, 'o-', label='Inserting row-by-row: add_result only')\n",
    "ax.plot(sizes, t_array, 'd-', label='Inserting as binary blob')\n",
    "ax.plot(sizes, t_array_add, 'd-', label='Inserting as binary blob: add_result only')\n",
    "ax.legend()\n",
    "ax.set_xlabel('Array length')\n",
    "ax.set_ylabel('Time (s)')\n",
    "fig.tight_layout()"
   ]
  },
  {
   "cell_type": "markdown",
   "metadata": {},
   "source": [
    "As shown in the latter figure, the time to setup and and close the experiment is approximately 0.4 sec. In case of small array sizes, the difference between inserting values of data as arrays and inserting them row-by-row is relatively unimportant. At larger array sizes, i.e. above 10000 points, the cost of writing data as individual datapoints starts to become important.\n"
   ]
  },
  {
   "cell_type": "markdown",
   "metadata": {},
   "source": [
    "### Case2: Long experiment time "
   ]
  },
  {
   "cell_type": "code",
   "execution_count": 7,
   "metadata": {
    "execution": {
     "iopub.execute_input": "2020-09-17T09:29:58.151325Z",
     "iopub.status.busy": "2020-09-17T09:29:58.150314Z",
     "iopub.status.idle": "2020-09-17T09:30:57.611726Z",
     "shell.execute_reply": "2020-09-17T09:30:57.612278Z"
    }
   },
   "outputs": [
    {
     "name": "stdout",
     "output_type": "stream",
     "text": [
      "Starting experimental run with id: 15. \n",
      "Starting experimental run with id: 16. \n",
      "Starting experimental run with id: 17. \n"
     ]
    },
    {
     "name": "stdout",
     "output_type": "stream",
     "text": [
      "Starting experimental run with id: 18. \n",
      "Starting experimental run with id: 19. \n"
     ]
    },
    {
     "name": "stdout",
     "output_type": "stream",
     "text": [
      "Starting experimental run with id: 20. \n"
     ]
    },
    {
     "name": "stdout",
     "output_type": "stream",
     "text": [
      "Starting experimental run with id: 21. \n"
     ]
    },
    {
     "name": "stdout",
     "output_type": "stream",
     "text": [
      "Starting experimental run with id: 22. \n"
     ]
    },
    {
     "name": "stdout",
     "output_type": "stream",
     "text": [
      "Starting experimental run with id: 23. \n"
     ]
    },
    {
     "name": "stdout",
     "output_type": "stream",
     "text": [
      "Starting experimental run with id: 24. \n"
     ]
    },
    {
     "name": "stdout",
     "output_type": "stream",
     "text": [
      "Starting experimental run with id: 25. \n"
     ]
    },
    {
     "name": "stdout",
     "output_type": "stream",
     "text": [
      "Starting experimental run with id: 26. \n"
     ]
    },
    {
     "name": "stdout",
     "output_type": "stream",
     "text": [
      "Starting experimental run with id: 27. \n"
     ]
    },
    {
     "name": "stdout",
     "output_type": "stream",
     "text": [
      "Starting experimental run with id: 28. \n"
     ]
    }
   ],
   "source": [
    "sizes = [1,500,1000,2000,3000,4000,5000]\n",
    "nreps = 100\n",
    "t_numeric = []\n",
    "t_numeric_add = []\n",
    "t_numeric_run_ids = []\n",
    "t_array = []\n",
    "t_array_add = []\n",
    "t_array_run_ids = []\n",
    "for size in sizes:\n",
    "    tn, tna, run_id_n =  insert_data('numeric', size, nreps=nreps)\n",
    "    t_numeric.append(tn)\n",
    "    t_numeric_add.append(tna)\n",
    "    t_numeric_run_ids.append(run_id_n)\n",
    "\n",
    "    ta, taa, run_id_a =  insert_data('array', size, nreps=nreps)\n",
    "    t_array.append(ta)\n",
    "    t_array_add.append(taa)\n",
    "    t_array_run_ids.append(run_id_a)"
   ]
  },
  {
   "cell_type": "code",
   "execution_count": 8,
   "metadata": {
    "execution": {
     "iopub.execute_input": "2020-09-17T09:30:57.626157Z",
     "iopub.status.busy": "2020-09-17T09:30:57.624891Z",
     "iopub.status.idle": "2020-09-17T09:30:57.860848Z",
     "shell.execute_reply": "2020-09-17T09:30:57.860344Z"
    },
    "scrolled": true
   },
   "outputs": [
    {
     "data": {
      "image/png": "[encoded data removed]",
      "text/plain": [
       "<Figure size 432x288 with 1 Axes>"
      ]
     },
     "metadata": {
      "needs_background": "light"
     },
     "output_type": "display_data"
    }
   ],
   "source": [
    "fig, ax = plt.subplots(1,1)\n",
    "ax.plot(sizes, t_numeric, 'o-', label='Inserting row-by-row')\n",
    "ax.plot(sizes, t_numeric_add, 'o-', label='Inserting row-by-row: add_result only')\n",
    "ax.plot(sizes, t_array, 'd-', label='Inserting as binary blob')\n",
    "ax.plot(sizes, t_array_add, 'd-', label='Inserting as binary blob: add_result only')\n",
    "ax.legend()\n",
    "ax.set_xlabel('Array length')\n",
    "ax.set_ylabel('Time (s)')\n",
    "fig.tight_layout()"
   ]
  },
  {
   "cell_type": "markdown",
   "metadata": {},
   "source": [
    "However, as we increase the length of the experiment, as seen here by repeating the insertion 100 times, we see a big difference between inserting values of the data row-by-row and inserting it as a binary blob."
   ]
  },
  {
   "cell_type": "markdown",
   "metadata": {},
   "source": [
    "## Loading the data "
   ]
  },
  {
   "cell_type": "code",
   "execution_count": 9,
   "metadata": {
    "execution": {
     "iopub.execute_input": "2020-09-17T09:30:57.865663Z",
     "iopub.status.busy": "2020-09-17T09:30:57.864893Z",
     "iopub.status.idle": "2020-09-17T09:30:57.867964Z",
     "shell.execute_reply": "2020-09-17T09:30:57.867392Z"
    }
   },
   "outputs": [],
   "source": [
    "from qcodes.dataset.data_set import load_by_id\n",
    "from qcodes.dataset.data_export import get_data_by_id"
   ]
  },
  {
   "cell_type": "markdown",
   "metadata": {},
   "source": [
    "As usual you can load the data by using the ``load_by_id`` function but you will notice that the different storage methods\n",
    "are reflected in shape of the data as it is retrieved. "
   ]
  },
  {
   "cell_type": "code",
   "execution_count": 10,
   "metadata": {
    "execution": {
     "iopub.execute_input": "2020-09-17T09:30:57.872757Z",
     "iopub.status.busy": "2020-09-17T09:30:57.871507Z",
     "iopub.status.idle": "2020-09-17T09:30:57.873357Z",
     "shell.execute_reply": "2020-09-17T09:30:57.873915Z"
    }
   },
   "outputs": [],
   "source": [
    "run_id_n = t_numeric_run_ids[0]\n",
    "run_id_a = t_array_run_ids[0]"
   ]
  },
  {
   "cell_type": "code",
   "execution_count": 11,
   "metadata": {
    "execution": {
     "iopub.execute_input": "2020-09-17T09:30:57.877517Z",
     "iopub.status.busy": "2020-09-17T09:30:57.876904Z",
     "iopub.status.idle": "2020-09-17T09:30:57.886781Z",
     "shell.execute_reply": "2020-09-17T09:30:57.886080Z"
    },
    "scrolled": true
   },
   "outputs": [
    {
     "data": {
      "text/plain": [
       "{'x1': {'x1': array([0.78628064, 0.78628064, 0.52376782, 0.52376782, 0.26574418,\n",
       "         0.26574418, 0.57573687, 0.57573687, 0.35141472, 0.35141472,\n",
       "         0.85089035, 0.85089035, 0.43466453, 0.43466453, 0.53109449,\n",
       "         0.53109449, 0.76045486, 0.76045486, 0.7297813 , 0.7297813 ,\n",
       "         0.23566894, 0.23566894, 0.52727842, 0.52727842, 0.83758781,\n",
       "         0.83758781, 0.70690925, 0.70690925, 0.188431  , 0.188431  ,\n",
       "         0.52068573, 0.52068573, 0.03128536, 0.03128536, 0.46641415,\n",
       "         0.46641415, 0.79051026, 0.79051026, 0.98973981, 0.98973981,\n",
       "         0.1382862 , 0.1382862 , 0.74235505, 0.74235505, 0.49506119,\n",
       "         0.49506119, 0.91062268, 0.91062268, 0.62907207, 0.62907207,\n",
       "         0.38385331, 0.38385331, 0.20266545, 0.20266545, 0.01209796,\n",
       "         0.01209796, 0.64865657, 0.64865657, 0.73185389, 0.73185389,\n",
       "         0.91992168, 0.91992168, 0.68770818, 0.68770818, 0.58659878,\n",
       "         0.58659878, 0.46099514, 0.46099514, 0.90264734, 0.90264734,\n",
       "         0.42289874, 0.42289874, 0.63557787, 0.63557787, 0.99074856,\n",
       "         0.99074856, 0.18163554, 0.18163554, 0.15140373, 0.15140373,\n",
       "         0.34573148, 0.34573148, 0.46284416, 0.46284416, 0.2650615 ,\n",
       "         0.2650615 , 0.80301554, 0.80301554, 0.62049494, 0.62049494,\n",
       "         0.00578759, 0.00578759, 0.19064994, 0.19064994, 0.13026598,\n",
       "         0.13026598, 0.70260556, 0.70260556, 0.53686971, 0.53686971,\n",
       "         0.94326192, 0.94326192, 0.54782859, 0.54782859, 0.55052799,\n",
       "         0.55052799, 0.9808274 , 0.9808274 , 0.87544603, 0.87544603,\n",
       "         0.36920325, 0.36920325, 0.42343369, 0.42343369, 0.09225567,\n",
       "         0.09225567, 0.43550642, 0.43550642, 0.6323821 , 0.6323821 ,\n",
       "         0.49581098, 0.49581098, 0.65644823, 0.65644823, 0.75626255,\n",
       "         0.75626255, 0.46912294, 0.46912294, 0.09407707, 0.09407707,\n",
       "         0.63748973, 0.63748973, 0.66114724, 0.66114724, 0.39880239,\n",
       "         0.39880239, 0.99262473, 0.99262473, 0.33786986, 0.33786986,\n",
       "         0.80694253, 0.80694253, 0.25461905, 0.25461905, 0.29678152,\n",
       "         0.29678152, 0.59400714, 0.59400714, 0.5453489 , 0.5453489 ,\n",
       "         0.83022748, 0.83022748, 0.17075111, 0.17075111, 0.15512281,\n",
       "         0.15512281, 0.67326013, 0.67326013, 0.42373962, 0.42373962,\n",
       "         0.9762147 , 0.9762147 , 0.9184387 , 0.9184387 , 0.91686008,\n",
       "         0.91686008, 0.18526949, 0.18526949, 0.17282379, 0.17282379,\n",
       "         0.33581647, 0.33581647, 0.066811  , 0.066811  , 0.73570554,\n",
       "         0.73570554, 0.93452895, 0.93452895, 0.46897879, 0.46897879,\n",
       "         0.8319431 , 0.8319431 , 0.82736068, 0.82736068, 0.37162438,\n",
       "         0.37162438, 0.38669842, 0.38669842, 0.79213728, 0.79213728,\n",
       "         0.29327996, 0.29327996, 0.97124009, 0.97124009, 0.33064594,\n",
       "         0.33064594, 0.66797232, 0.66797232, 0.00601876, 0.00601876])}}"
      ]
     },
     "execution_count": 1,
     "metadata": {},
     "output_type": "execute_result"
    }
   ],
   "source": [
    "ds = load_by_id(run_id_n)\n",
    "ds.get_parameter_data('x1')"
   ]
  },
  {
   "cell_type": "markdown",
   "metadata": {},
   "source": [
    "And a dataset stored as binary arrays"
   ]
  },
  {
   "cell_type": "code",
   "execution_count": 12,
   "metadata": {
    "execution": {
     "iopub.execute_input": "2020-09-17T09:30:57.890344Z",
     "iopub.status.busy": "2020-09-17T09:30:57.889721Z",
     "iopub.status.idle": "2020-09-17T09:30:57.950489Z",
     "shell.execute_reply": "2020-09-17T09:30:57.949890Z"
    },
    "scrolled": true
   },
   "outputs": [
    {
     "data": {
      "text/plain": [
       "{'x1': {'x1': array([[0.25509106],\n",
       "         [0.25509106],\n",
       "         [0.14462443],\n",
       "         [0.14462443],\n",
       "         [0.3699686 ],\n",
       "         [0.3699686 ],\n",
       "         [0.47249117],\n",
       "         [0.47249117],\n",
       "         [0.84589319],\n",
       "         [0.84589319],\n",
       "         [0.84075738],\n",
       "         [0.84075738],\n",
       "         [0.82919044],\n",
       "         [0.82919044],\n",
       "         [0.13817561],\n",
       "         [0.13817561],\n",
       "         [0.5201968 ],\n",
       "         [0.5201968 ],\n",
       "         [0.15673233],\n",
       "         [0.15673233],\n",
       "         [0.83758223],\n",
       "         [0.83758223],\n",
       "         [0.38948305],\n",
       "         [0.38948305],\n",
       "         [0.41248611],\n",
       "         [0.41248611],\n",
       "         [0.51248114],\n",
       "         [0.51248114],\n",
       "         [0.98648526],\n",
       "         [0.98648526],\n",
       "         [0.6909006 ],\n",
       "         [0.6909006 ],\n",
       "         [0.54793836],\n",
       "         [0.54793836],\n",
       "         [0.81818825],\n",
       "         [0.81818825],\n",
       "         [0.96820577],\n",
       "         [0.96820577],\n",
       "         [0.07192347],\n",
       "         [0.07192347],\n",
       "         [0.67237241],\n",
       "         [0.67237241],\n",
       "         [0.56181325],\n",
       "         [0.56181325],\n",
       "         [0.59022329],\n",
       "         [0.59022329],\n",
       "         [0.49300835],\n",
       "         [0.49300835],\n",
       "         [0.10882877],\n",
       "         [0.10882877],\n",
       "         [0.27985607],\n",
       "         [0.27985607],\n",
       "         [0.71065444],\n",
       "         [0.71065444],\n",
       "         [0.89607042],\n",
       "         [0.89607042],\n",
       "         [0.50289424],\n",
       "         [0.50289424],\n",
       "         [0.00811962],\n",
       "         [0.00811962],\n",
       "         [0.2653072 ],\n",
       "         [0.2653072 ],\n",
       "         [0.56520266],\n",
       "         [0.56520266],\n",
       "         [0.59630461],\n",
       "         [0.59630461],\n",
       "         [0.07454339],\n",
       "         [0.07454339],\n",
       "         [0.1348159 ],\n",
       "         [0.1348159 ],\n",
       "         [0.28678364],\n",
       "         [0.28678364],\n",
       "         [0.65103114],\n",
       "         [0.65103114],\n",
       "         [0.39047366],\n",
       "         [0.39047366],\n",
       "         [0.04453018],\n",
       "         [0.04453018],\n",
       "         [0.73403718],\n",
       "         [0.73403718],\n",
       "         [0.75255699],\n",
       "         [0.75255699],\n",
       "         [0.76751825],\n",
       "         [0.76751825],\n",
       "         [0.02305312],\n",
       "         [0.02305312],\n",
       "         [0.71231656],\n",
       "         [0.71231656],\n",
       "         [0.98216932],\n",
       "         [0.98216932],\n",
       "         [0.06137449],\n",
       "         [0.06137449],\n",
       "         [0.62718476],\n",
       "         [0.62718476],\n",
       "         [0.2815886 ],\n",
       "         [0.2815886 ],\n",
       "         [0.10232257],\n",
       "         [0.10232257],\n",
       "         [0.84244649],\n",
       "         [0.84244649],\n",
       "         [0.33906169],\n",
       "         [0.33906169],\n",
       "         [0.46491147],\n",
       "         [0.46491147],\n",
       "         [0.64561354],\n",
       "         [0.64561354],\n",
       "         [0.32529801],\n",
       "         [0.32529801],\n",
       "         [0.63981732],\n",
       "         [0.63981732],\n",
       "         [0.40260482],\n",
       "         [0.40260482],\n",
       "         [0.93410815],\n",
       "         [0.93410815],\n",
       "         [0.46055032],\n",
       "         [0.46055032],\n",
       "         [0.46657632],\n",
       "         [0.46657632],\n",
       "         [0.204914  ],\n",
       "         [0.204914  ],\n",
       "         [0.70938819],\n",
       "         [0.70938819],\n",
       "         [0.9776683 ],\n",
       "         [0.9776683 ],\n",
       "         [0.07471908],\n",
       "         [0.07471908],\n",
       "         [0.47202843],\n",
       "         [0.47202843],\n",
       "         [0.39135933],\n",
       "         [0.39135933],\n",
       "         [0.5581061 ],\n",
       "         [0.5581061 ],\n",
       "         [0.54863894],\n",
       "         [0.54863894],\n",
       "         [0.58548235],\n",
       "         [0.58548235],\n",
       "         [0.09929509],\n",
       "         [0.09929509],\n",
       "         [0.1460487 ],\n",
       "         [0.1460487 ],\n",
       "         [0.16117414],\n",
       "         [0.16117414],\n",
       "         [0.69678248],\n",
       "         [0.69678248],\n",
       "         [0.01944184],\n",
       "         [0.01944184],\n",
       "         [0.68511903],\n",
       "         [0.68511903],\n",
       "         [0.93262553],\n",
       "         [0.93262553],\n",
       "         [0.78693529],\n",
       "         [0.78693529],\n",
       "         [0.61193419],\n",
       "         [0.61193419],\n",
       "         [0.55785315],\n",
       "         [0.55785315],\n",
       "         [0.63517874],\n",
       "         [0.63517874],\n",
       "         [0.49013965],\n",
       "         [0.49013965],\n",
       "         [0.31727835],\n",
       "         [0.31727835],\n",
       "         [0.42565718],\n",
       "         [0.42565718],\n",
       "         [0.42303509],\n",
       "         [0.42303509],\n",
       "         [0.9246485 ],\n",
       "         [0.9246485 ],\n",
       "         [0.24117459],\n",
       "         [0.24117459],\n",
       "         [0.07256757],\n",
       "         [0.07256757],\n",
       "         [0.73452908],\n",
       "         [0.73452908],\n",
       "         [0.03647789],\n",
       "         [0.03647789],\n",
       "         [0.4987443 ],\n",
       "         [0.4987443 ],\n",
       "         [0.2590429 ],\n",
       "         [0.2590429 ],\n",
       "         [0.11490744],\n",
       "         [0.11490744],\n",
       "         [0.54853647],\n",
       "         [0.54853647],\n",
       "         [0.40286656],\n",
       "         [0.40286656],\n",
       "         [0.63687841],\n",
       "         [0.63687841],\n",
       "         [0.11742933],\n",
       "         [0.11742933],\n",
       "         [0.38278847],\n",
       "         [0.38278847],\n",
       "         [0.06990298],\n",
       "         [0.06990298],\n",
       "         [0.13031568],\n",
       "         [0.13031568],\n",
       "         [0.88924105],\n",
       "         [0.88924105],\n",
       "         [0.41526822],\n",
       "         [0.41526822]])}}"
      ]
     },
     "execution_count": 1,
     "metadata": {},
     "output_type": "execute_result"
    }
   ],
   "source": [
    "ds = load_by_id(run_id_a)\n",
    "ds.get_parameter_data('x1')"
   ]
  },
  {
   "cell_type": "code",
   "execution_count": null,
   "metadata": {},
   "outputs": [],
   "source": []
  }
 ],
 "metadata": {
  "kernelspec": {
   "display_name": "Python 3",
   "language": "python",
   "name": "python3"
  },
  "language_info": {
   "codemirror_mode": {
    "name": "ipython",
    "version": 3
   },
   "file_extension": ".py",
   "mimetype": "text/x-python",
   "name": "python",
   "nbconvert_exporter": "python",
   "pygments_lexer": "ipython3",
   "version": "3.7.7"
  },
  "nbsphinx": {
   "timeout": 600
  },
  "toc": {
   "base_numbering": 1,
   "nav_menu": {},
   "number_sections": true,
   "sideBar": true,
   "skip_h1_title": false,
   "title_cell": "Table of Contents",
   "title_sidebar": "Contents",
   "toc_cell": false,
   "toc_position": {},
   "toc_section_display": true,
   "toc_window_display": false
  },
  "varInspector": {
   "cols": {
    "lenName": 16,
    "lenType": 16,
    "lenVar": 40
   },
   "kernels_config": {
    "python": {
     "delete_cmd_postfix": "",
     "delete_cmd_prefix": "del ",
     "library": "var_list.py",
     "varRefreshCmd": "print(var_dic_list())"
    },
    "r": {
     "delete_cmd_postfix": ") ",
     "delete_cmd_prefix": "rm(",
     "library": "var_list.r",
     "varRefreshCmd": "cat(var_dic_list()) "
    }
   },
   "types_to_exclude": [
    "module",
    "function",
    "builtin_function_or_method",
    "instance",
    "_Feature"
   ],
   "window_display": false
  }
 },
 "nbformat": 4,
 "nbformat_minor": 2
}
