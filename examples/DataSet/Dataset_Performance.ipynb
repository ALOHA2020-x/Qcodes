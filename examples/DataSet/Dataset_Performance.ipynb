{
 "cells": [
  {
   "cell_type": "markdown",
   "metadata": {},
   "source": [
    "# DataSet Performance\n",
    "\n",
    "This notebook shows the trade-off between inserting data into a database row-by-row and as binary blobs. Inserting the data row-by-row means that we have direct access to all the data and may perform queries directly on the values of the data. On the other hand, as we shall see, this is much slower than inserting the data directly as binary blobs."
   ]
  },
  {
   "cell_type": "markdown",
   "metadata": {},
   "source": [
    "First, we choose a new location for the database to ensure that we don't add a bunch of benchmarking data to the default one."
   ]
  },
  {
   "cell_type": "code",
   "execution_count": 1,
   "metadata": {},
   "outputs": [
    {
     "name": "stdout",
     "output_type": "stream",
     "text": [
      "Logging hadn't been started.\n",
      "Activating auto-logging. Current session state plus future input saved.\n",
      "Filename       : /home/vsts/.qcodes/logs/command_history.log\n",
      "Mode           : append\n",
      "Output logging : True\n",
      "Raw input log  : False\n",
      "Timestamping   : True\n",
      "State          : active\n"
     ]
    },
    {
     "name": "stdout",
     "output_type": "stream",
     "text": [
      "Qcodes Logfile : /home/vsts/.qcodes/logs/200302-21753-qcodes.log\n"
     ]
    }
   ],
   "source": [
    "import os\n",
    "cwd = os.getcwd()\n",
    "import qcodes as qc\n",
    "qc.config[\"core\"][\"db_location\"] = os.path.join(cwd, 'testing.db')\n"
   ]
  },
  {
   "cell_type": "code",
   "execution_count": 2,
   "metadata": {},
   "outputs": [],
   "source": [
    "%matplotlib inline\n",
    "import time\n",
    "import matplotlib.pyplot as plt\n",
    "import numpy as np\n",
    "\n",
    "import qcodes as qc\n",
    "from qcodes.instrument.parameter import ManualParameter\n",
    "from qcodes.dataset.experiment_container import (Experiment,\n",
    "                                                 load_last_experiment,\n",
    "                                                 new_experiment)\n",
    "from qcodes.dataset.sqlite.database import initialise_database\n",
    "from qcodes import load_or_create_experiment\n",
    "from qcodes.dataset.measurements import Measurement"
   ]
  },
  {
   "cell_type": "code",
   "execution_count": 3,
   "metadata": {},
   "outputs": [
    {
     "name": "stdout",
     "output_type": "stream",
     "text": [
      "\r",
      "0it [00:00, ?it/s]"
     ]
    },
    {
     "name": "stdout",
     "output_type": "stream",
     "text": [
      "\r",
      "Upgrading database; v0 -> v1: : 0it [00:00, ?it/s]"
     ]
    },
    {
     "name": "stdout",
     "output_type": "stream",
     "text": [
      "\r",
      "Upgrading database; v0 -> v1: : 0it [00:00, ?it/s]"
     ]
    },
    {
     "name": "stdout",
     "output_type": "stream",
     "text": [
      "\n",
      "\r",
      "  0%|          | 0/1 [00:00<?, ?it/s]"
     ]
    },
    {
     "name": "stdout",
     "output_type": "stream",
     "text": [
      "\r",
      "Upgrading database; v1 -> v2:   0%|          | 0/1 [00:00<?, ?it/s]"
     ]
    },
    {
     "name": "stdout",
     "output_type": "stream",
     "text": [
      "\r",
      "Upgrading database; v1 -> v2: 100%|██████████| 1/1 [00:00<00:00, 688.72it/s]"
     ]
    },
    {
     "name": "stdout",
     "output_type": "stream",
     "text": [
      "\n",
      "\r",
      "0it [00:00, ?it/s]"
     ]
    },
    {
     "name": "stdout",
     "output_type": "stream",
     "text": [
      "\r",
      "Upgrading database; v2 -> v3: : 0it [00:00, ?it/s]"
     ]
    },
    {
     "name": "stdout",
     "output_type": "stream",
     "text": [
      "\r",
      "Upgrading database; v2 -> v3: : 0it [00:00, ?it/s]"
     ]
    },
    {
     "name": "stdout",
     "output_type": "stream",
     "text": [
      "\n",
      "\r",
      "0it [00:00, ?it/s]"
     ]
    },
    {
     "name": "stdout",
     "output_type": "stream",
     "text": [
      "\r",
      "Upgrading database; v3 -> v4: : 0it [00:00, ?it/s]"
     ]
    },
    {
     "name": "stdout",
     "output_type": "stream",
     "text": [
      "\r",
      "Upgrading database; v3 -> v4: : 0it [00:00, ?it/s]"
     ]
    },
    {
     "name": "stdout",
     "output_type": "stream",
     "text": [
      "\n",
      "\r",
      "  0%|          | 0/1 [00:00<?, ?it/s]"
     ]
    },
    {
     "name": "stdout",
     "output_type": "stream",
     "text": [
      "\r",
      "Upgrading database; v4 -> v5:   0%|          | 0/1 [00:00<?, ?it/s]"
     ]
    },
    {
     "name": "stdout",
     "output_type": "stream",
     "text": [
      "\r",
      "Upgrading database; v4 -> v5: 100%|██████████| 1/1 [00:00<00:00, 462.44it/s]"
     ]
    },
    {
     "name": "stdout",
     "output_type": "stream",
     "text": [
      "\n",
      "\r",
      "0it [00:00, ?it/s]"
     ]
    },
    {
     "name": "stdout",
     "output_type": "stream",
     "text": [
      "\r",
      "Upgrading database; v5 -> v6: : 0it [00:00, ?it/s]"
     ]
    },
    {
     "name": "stdout",
     "output_type": "stream",
     "text": [
      "\r",
      "Upgrading database; v5 -> v6: : 0it [00:00, ?it/s]"
     ]
    },
    {
     "name": "stdout",
     "output_type": "stream",
     "text": [
      "\n",
      "\r",
      "  0%|          | 0/1 [00:00<?, ?it/s]"
     ]
    },
    {
     "name": "stdout",
     "output_type": "stream",
     "text": [
      "\r",
      "Upgrading database; v6 -> v7:   0%|          | 0/1 [00:00<?, ?it/s]"
     ]
    },
    {
     "name": "stdout",
     "output_type": "stream",
     "text": [
      "\r",
      "Upgrading database; v6 -> v7: 100%|██████████| 1/1 [00:00<00:00, 374.19it/s]"
     ]
    },
    {
     "name": "stdout",
     "output_type": "stream",
     "text": [
      "\n",
      "\r",
      "  0%|          | 0/1 [00:00<?, ?it/s]"
     ]
    },
    {
     "name": "stdout",
     "output_type": "stream",
     "text": [
      "\r",
      "Upgrading database; v7 -> v8:   0%|          | 0/1 [00:00<?, ?it/s]"
     ]
    },
    {
     "name": "stdout",
     "output_type": "stream",
     "text": [
      "\r",
      "Upgrading database; v7 -> v8: 100%|██████████| 1/1 [00:00<00:00, 466.71it/s]"
     ]
    },
    {
     "name": "stdout",
     "output_type": "stream",
     "text": [
      "\n",
      "\r",
      "  0%|          | 0/1 [00:00<?, ?it/s]"
     ]
    },
    {
     "name": "stdout",
     "output_type": "stream",
     "text": [
      "\r",
      "Upgrading database; v8 -> v9:   0%|          | 0/1 [00:00<?, ?it/s]"
     ]
    },
    {
     "name": "stdout",
     "output_type": "stream",
     "text": [
      "\r",
      "Upgrading database; v8 -> v9: 100%|██████████| 1/1 [00:00<00:00, 807.22it/s]"
     ]
    },
    {
     "name": "stdout",
     "output_type": "stream",
     "text": [
      "\n"
     ]
    }
   ],
   "source": [
    "initialise_database()\n",
    "exp = load_or_create_experiment(experiment_name='tutorial_exp', sample_name=\"no sample\")"
   ]
  },
  {
   "cell_type": "markdown",
   "metadata": {},
   "source": [
    "Here, we define a simple function to benchmark the time it takes to insert n points with either numeric or array data type.\n",
    "We will compare both the time used to call ``add_result`` and the time used for the full measurement."
   ]
  },
  {
   "cell_type": "code",
   "execution_count": 4,
   "metadata": {},
   "outputs": [],
   "source": [
    "def insert_data(paramtype, npoints, nreps=1):\n",
    "\n",
    "    meas = Measurement(exp=exp)\n",
    "\n",
    "    x1 = ManualParameter('x1')\n",
    "    x2 = ManualParameter('x2')\n",
    "    x3 = ManualParameter('x3')\n",
    "    y1 = ManualParameter('y1')\n",
    "    y2 = ManualParameter('y2')\n",
    "\n",
    "    meas.register_parameter(x1, paramtype=paramtype)\n",
    "    meas.register_parameter(x2, paramtype=paramtype)\n",
    "    meas.register_parameter(x3, paramtype=paramtype)\n",
    "    meas.register_parameter(y1, setpoints=[x1, x2, x3],\n",
    "                            paramtype=paramtype)\n",
    "    meas.register_parameter(y2, setpoints=[x1, x2, x3],\n",
    "                            paramtype=paramtype)\n",
    "    start = time.perf_counter()\n",
    "    with meas.run() as datasaver:\n",
    "        start_adding = time.perf_counter()\n",
    "        for i in range(nreps):\n",
    "            datasaver.add_result((x1, np.random.rand(npoints)),\n",
    "                                 (x2, np.random.rand(npoints)),\n",
    "                                 (x3, np.random.rand(npoints)),\n",
    "                                 (y1, np.random.rand(npoints)),\n",
    "                                 (y2, np.random.rand(npoints)))\n",
    "        stop_adding = time.perf_counter()\n",
    "        run_id = datasaver.run_id\n",
    "    stop = time.perf_counter()\n",
    "    tot_time = stop - start\n",
    "    add_time = stop_adding - start_adding\n",
    "    return tot_time, add_time, run_id"
   ]
  },
  {
   "cell_type": "markdown",
   "metadata": {},
   "source": [
    "## Comparison between numeric/array data and binary blob"
   ]
  },
  {
   "cell_type": "markdown",
   "metadata": {},
   "source": [
    "### Case1: Short experiment time"
   ]
  },
  {
   "cell_type": "code",
   "execution_count": 5,
   "metadata": {},
   "outputs": [
    {
     "name": "stdout",
     "output_type": "stream",
     "text": [
      "Starting experimental run with id: 1. \n",
      "Starting experimental run with id: 2. \n",
      "Starting experimental run with id: 3. \n"
     ]
    },
    {
     "name": "stdout",
     "output_type": "stream",
     "text": [
      "Starting experimental run with id: 4. \n"
     ]
    },
    {
     "name": "stdout",
     "output_type": "stream",
     "text": [
      "Starting experimental run with id: 5. \n",
      "Starting experimental run with id: 6. \n"
     ]
    },
    {
     "name": "stdout",
     "output_type": "stream",
     "text": [
      "Starting experimental run with id: 7. \n"
     ]
    },
    {
     "name": "stdout",
     "output_type": "stream",
     "text": [
      "Starting experimental run with id: 8. \n",
      "Starting experimental run with id: 9. \n"
     ]
    },
    {
     "name": "stdout",
     "output_type": "stream",
     "text": [
      "Starting experimental run with id: 10. \n",
      "Starting experimental run with id: 11. \n"
     ]
    },
    {
     "name": "stdout",
     "output_type": "stream",
     "text": [
      "Starting experimental run with id: 12. \n"
     ]
    },
    {
     "name": "stdout",
     "output_type": "stream",
     "text": [
      "Starting experimental run with id: 13. \n"
     ]
    },
    {
     "name": "stdout",
     "output_type": "stream",
     "text": [
      "Starting experimental run with id: 14. \n"
     ]
    }
   ],
   "source": [
    "sizes = [1,500,1000,2000,3000,4000,5000]\n",
    "t_numeric = []\n",
    "t_numeric_add = []\n",
    "t_array = []\n",
    "t_array_add = []\n",
    "for size in sizes:\n",
    "    tn, tna, run_id_n =  insert_data('numeric', size)\n",
    "    t_numeric.append(tn)\n",
    "    t_numeric_add.append(tna)\n",
    "\n",
    "    ta, taa, run_id_a =  insert_data('array', size)\n",
    "    t_array.append(ta)\n",
    "    t_array_add.append(taa)"
   ]
  },
  {
   "cell_type": "code",
   "execution_count": 6,
   "metadata": {},
   "outputs": [
    {
     "data": {
      "image/png": "[encoded data removed]",
      "text/plain": [
       "<Figure size 432x288 with 1 Axes>"
      ]
     },
     "metadata": {
      "needs_background": "light"
     },
     "output_type": "display_data"
    }
   ],
   "source": [
    "fig, ax = plt.subplots(1,1)\n",
    "ax.plot(sizes, t_numeric, 'o-', label='Inserting row-by-row')\n",
    "ax.plot(sizes, t_numeric_add, 'o-', label='Inserting row-by-row: add_result only')\n",
    "ax.plot(sizes, t_array, 'd-', label='Inserting as binary blob')\n",
    "ax.plot(sizes, t_array_add, 'd-', label='Inserting as binary blob: add_result only')\n",
    "ax.legend()\n",
    "ax.set_xlabel('Array length')\n",
    "ax.set_ylabel('Time (s)')\n",
    "fig.tight_layout()"
   ]
  },
  {
   "cell_type": "markdown",
   "metadata": {},
   "source": [
    "As shown in the latter figure, the time to setup and and close the experiment is approximately 0.4 sec. In case of small array sizes, the difference between inserting values of data as arrays and inserting them row-by-row is relatively unimportant. At larger array sizes, i.e. above 10000 points, the cost of writing data as individual datapoints starts to become important.\n"
   ]
  },
  {
   "cell_type": "markdown",
   "metadata": {},
   "source": [
    "### Case2: Long experiment time "
   ]
  },
  {
   "cell_type": "code",
   "execution_count": 7,
   "metadata": {},
   "outputs": [
    {
     "name": "stdout",
     "output_type": "stream",
     "text": [
      "Starting experimental run with id: 15. \n",
      "Starting experimental run with id: 16. \n"
     ]
    },
    {
     "name": "stdout",
     "output_type": "stream",
     "text": [
      "Starting experimental run with id: 17. \n"
     ]
    },
    {
     "name": "stdout",
     "output_type": "stream",
     "text": [
      "Starting experimental run with id: 18. \n",
      "Starting experimental run with id: 19. \n"
     ]
    },
    {
     "name": "stdout",
     "output_type": "stream",
     "text": [
      "Starting experimental run with id: 20. \n"
     ]
    },
    {
     "name": "stdout",
     "output_type": "stream",
     "text": [
      "Starting experimental run with id: 21. \n"
     ]
    },
    {
     "name": "stdout",
     "output_type": "stream",
     "text": [
      "Starting experimental run with id: 22. \n"
     ]
    },
    {
     "name": "stdout",
     "output_type": "stream",
     "text": [
      "Starting experimental run with id: 23. \n"
     ]
    },
    {
     "name": "stdout",
     "output_type": "stream",
     "text": [
      "Starting experimental run with id: 24. \n"
     ]
    },
    {
     "name": "stdout",
     "output_type": "stream",
     "text": [
      "Starting experimental run with id: 25. \n"
     ]
    },
    {
     "name": "stdout",
     "output_type": "stream",
     "text": [
      "Starting experimental run with id: 26. \n"
     ]
    },
    {
     "name": "stdout",
     "output_type": "stream",
     "text": [
      "Starting experimental run with id: 27. \n"
     ]
    },
    {
     "name": "stdout",
     "output_type": "stream",
     "text": [
      "Starting experimental run with id: 28. \n"
     ]
    }
   ],
   "source": [
    "sizes = [1,500,1000,2000,3000,4000,5000]\n",
    "nreps = 100\n",
    "t_numeric = []\n",
    "t_numeric_add = []\n",
    "t_numeric_run_ids = []\n",
    "t_array = []\n",
    "t_array_add = []\n",
    "t_array_run_ids = []\n",
    "for size in sizes:\n",
    "    tn, tna, run_id_n =  insert_data('numeric', size, nreps=nreps)\n",
    "    t_numeric.append(tn)\n",
    "    t_numeric_add.append(tna)\n",
    "    t_numeric_run_ids.append(run_id_n)\n",
    "\n",
    "    ta, taa, run_id_a =  insert_data('array', size, nreps=nreps)\n",
    "    t_array.append(ta)\n",
    "    t_array_add.append(taa)\n",
    "    t_array_run_ids.append(run_id_a)"
   ]
  },
  {
   "cell_type": "code",
   "execution_count": 8,
   "metadata": {
    "scrolled": true
   },
   "outputs": [
    {
     "data": {
      "image/png": "[encoded data removed]",
      "text/plain": [
       "<Figure size 432x288 with 1 Axes>"
      ]
     },
     "metadata": {
      "needs_background": "light"
     },
     "output_type": "display_data"
    }
   ],
   "source": [
    "fig, ax = plt.subplots(1,1)\n",
    "ax.plot(sizes, t_numeric, 'o-', label='Inserting row-by-row')\n",
    "ax.plot(sizes, t_numeric_add, 'o-', label='Inserting row-by-row: add_result only')\n",
    "ax.plot(sizes, t_array, 'd-', label='Inserting as binary blob')\n",
    "ax.plot(sizes, t_array_add, 'd-', label='Inserting as binary blob: add_result only')\n",
    "ax.legend()\n",
    "ax.set_xlabel('Array length')\n",
    "ax.set_ylabel('Time (s)')\n",
    "fig.tight_layout()"
   ]
  },
  {
   "cell_type": "markdown",
   "metadata": {},
   "source": [
    "However, as we increase the length of the experiment, as seen here by repeating the insertion 100 times, we see a big difference between inserting values of the data row-by-row and inserting it as a binary blob."
   ]
  },
  {
   "cell_type": "markdown",
   "metadata": {},
   "source": [
    "## Loading the data "
   ]
  },
  {
   "cell_type": "code",
   "execution_count": 9,
   "metadata": {},
   "outputs": [],
   "source": [
    "from qcodes.dataset.data_set import load_by_id\n",
    "from qcodes.dataset.data_export import get_data_by_id"
   ]
  },
  {
   "cell_type": "markdown",
   "metadata": {},
   "source": [
    "As usual you can load the data by using the ``load_by_id`` function but you will notice that the different storage methods\n",
    "are reflected in shape of the data as it is retrieved. "
   ]
  },
  {
   "cell_type": "code",
   "execution_count": 10,
   "metadata": {},
   "outputs": [],
   "source": [
    "run_id_n = t_numeric_run_ids[0]\n",
    "run_id_a = t_array_run_ids[0]"
   ]
  },
  {
   "cell_type": "code",
   "execution_count": 11,
   "metadata": {
    "scrolled": true
   },
   "outputs": [
    {
     "data": {
      "text/plain": [
       "{'x1': {'x1': array([0.27770283, 0.27770283, 0.11544103, 0.11544103, 0.20570183,\n",
       "         0.20570183, 0.75910585, 0.75910585, 0.13106566, 0.13106566,\n",
       "         0.79206273, 0.79206273, 0.18481866, 0.18481866, 0.26167507,\n",
       "         0.26167507, 0.6911249 , 0.6911249 , 0.55300844, 0.55300844,\n",
       "         0.13099614, 0.13099614, 0.38322322, 0.38322322, 0.23347161,\n",
       "         0.23347161, 0.36737643, 0.36737643, 0.58908548, 0.58908548,\n",
       "         0.71863026, 0.71863026, 0.52844852, 0.52844852, 0.56712616,\n",
       "         0.56712616, 0.13766782, 0.13766782, 0.38719133, 0.38719133,\n",
       "         0.26415474, 0.26415474, 0.26079623, 0.26079623, 0.83608858,\n",
       "         0.83608858, 0.33766307, 0.33766307, 0.63831886, 0.63831886,\n",
       "         0.58565651, 0.58565651, 0.89894186, 0.89894186, 0.14161552,\n",
       "         0.14161552, 0.4458351 , 0.4458351 , 0.59352057, 0.59352057,\n",
       "         0.83345145, 0.83345145, 0.9476423 , 0.9476423 , 0.05412157,\n",
       "         0.05412157, 0.26758927, 0.26758927, 0.08933416, 0.08933416,\n",
       "         0.49880316, 0.49880316, 0.37146162, 0.37146162, 0.67788667,\n",
       "         0.67788667, 0.71528291, 0.71528291, 0.95439808, 0.95439808,\n",
       "         0.78819396, 0.78819396, 0.29126898, 0.29126898, 0.68382064,\n",
       "         0.68382064, 0.73647156, 0.73647156, 0.15641798, 0.15641798,\n",
       "         0.36259927, 0.36259927, 0.7432614 , 0.7432614 , 0.89327046,\n",
       "         0.89327046, 0.70614792, 0.70614792, 0.86214042, 0.86214042,\n",
       "         0.0826745 , 0.0826745 , 0.829362  , 0.829362  , 0.74715861,\n",
       "         0.74715861, 0.15584214, 0.15584214, 0.58836367, 0.58836367,\n",
       "         0.32495163, 0.32495163, 0.38899843, 0.38899843, 0.12329068,\n",
       "         0.12329068, 0.87901227, 0.87901227, 0.54528831, 0.54528831,\n",
       "         0.48082207, 0.48082207, 0.64854147, 0.64854147, 0.94956161,\n",
       "         0.94956161, 0.79115521, 0.79115521, 0.02778595, 0.02778595,\n",
       "         0.54057856, 0.54057856, 0.17118259, 0.17118259, 0.48295125,\n",
       "         0.48295125, 0.06143577, 0.06143577, 0.03193533, 0.03193533,\n",
       "         0.20672305, 0.20672305, 0.12831763, 0.12831763, 0.01883932,\n",
       "         0.01883932, 0.65045737, 0.65045737, 0.46916421, 0.46916421,\n",
       "         0.65274705, 0.65274705, 0.8094902 , 0.8094902 , 0.60955722,\n",
       "         0.60955722, 0.77093693, 0.77093693, 0.79955436, 0.79955436,\n",
       "         0.99524657, 0.99524657, 0.88142107, 0.88142107, 0.4480487 ,\n",
       "         0.4480487 , 0.55458926, 0.55458926, 0.20277636, 0.20277636,\n",
       "         0.8694924 , 0.8694924 , 0.25979463, 0.25979463, 0.84885106,\n",
       "         0.84885106, 0.45383504, 0.45383504, 0.4493062 , 0.4493062 ,\n",
       "         0.95609079, 0.95609079, 0.19074953, 0.19074953, 0.7371463 ,\n",
       "         0.7371463 , 0.79521095, 0.79521095, 0.94277139, 0.94277139,\n",
       "         0.61059259, 0.61059259, 0.62806514, 0.62806514, 0.25184204,\n",
       "         0.25184204, 0.93993532, 0.93993532, 0.44330219, 0.44330219])}}"
      ]
     },
     "execution_count": 11,
     "metadata": {},
     "output_type": "execute_result"
    }
   ],
   "source": [
    "ds = load_by_id(run_id_n)\n",
    "ds.get_parameter_data('x1')"
   ]
  },
  {
   "cell_type": "markdown",
   "metadata": {},
   "source": [
    "And a dataset stored as binary arrays"
   ]
  },
  {
   "cell_type": "code",
   "execution_count": 12,
   "metadata": {
    "scrolled": true
   },
   "outputs": [
    {
     "data": {
      "text/plain": [
       "{'x1': {'x1': array([[0.12827117],\n",
       "         [0.12827117],\n",
       "         [0.67765667],\n",
       "         [0.67765667],\n",
       "         [0.24962371],\n",
       "         [0.24962371],\n",
       "         [0.18897484],\n",
       "         [0.18897484],\n",
       "         [0.26415274],\n",
       "         [0.26415274],\n",
       "         [0.44595035],\n",
       "         [0.44595035],\n",
       "         [0.42527712],\n",
       "         [0.42527712],\n",
       "         [0.00289264],\n",
       "         [0.00289264],\n",
       "         [0.36995107],\n",
       "         [0.36995107],\n",
       "         [0.98514656],\n",
       "         [0.98514656],\n",
       "         [0.06291221],\n",
       "         [0.06291221],\n",
       "         [0.28189327],\n",
       "         [0.28189327],\n",
       "         [0.52107731],\n",
       "         [0.52107731],\n",
       "         [0.29481996],\n",
       "         [0.29481996],\n",
       "         [0.95337962],\n",
       "         [0.95337962],\n",
       "         [0.98941128],\n",
       "         [0.98941128],\n",
       "         [0.40044549],\n",
       "         [0.40044549],\n",
       "         [0.96486011],\n",
       "         [0.96486011],\n",
       "         [0.29193616],\n",
       "         [0.29193616],\n",
       "         [0.72862986],\n",
       "         [0.72862986],\n",
       "         [0.37489107],\n",
       "         [0.37489107],\n",
       "         [0.87888533],\n",
       "         [0.87888533],\n",
       "         [0.74702266],\n",
       "         [0.74702266],\n",
       "         [0.109219  ],\n",
       "         [0.109219  ],\n",
       "         [0.38091516],\n",
       "         [0.38091516],\n",
       "         [0.10718333],\n",
       "         [0.10718333],\n",
       "         [0.6757188 ],\n",
       "         [0.6757188 ],\n",
       "         [0.18005514],\n",
       "         [0.18005514],\n",
       "         [0.46449977],\n",
       "         [0.46449977],\n",
       "         [0.00396911],\n",
       "         [0.00396911],\n",
       "         [0.90536421],\n",
       "         [0.90536421],\n",
       "         [0.4309278 ],\n",
       "         [0.4309278 ],\n",
       "         [0.19028786],\n",
       "         [0.19028786],\n",
       "         [0.48490515],\n",
       "         [0.48490515],\n",
       "         [0.77683153],\n",
       "         [0.77683153],\n",
       "         [0.51526295],\n",
       "         [0.51526295],\n",
       "         [0.78229177],\n",
       "         [0.78229177],\n",
       "         [0.85897137],\n",
       "         [0.85897137],\n",
       "         [0.90964332],\n",
       "         [0.90964332],\n",
       "         [0.42037735],\n",
       "         [0.42037735],\n",
       "         [0.87489876],\n",
       "         [0.87489876],\n",
       "         [0.01727956],\n",
       "         [0.01727956],\n",
       "         [0.33476666],\n",
       "         [0.33476666],\n",
       "         [0.76261215],\n",
       "         [0.76261215],\n",
       "         [0.96355723],\n",
       "         [0.96355723],\n",
       "         [0.20957179],\n",
       "         [0.20957179],\n",
       "         [0.60374118],\n",
       "         [0.60374118],\n",
       "         [0.62157437],\n",
       "         [0.62157437],\n",
       "         [0.68958013],\n",
       "         [0.68958013],\n",
       "         [0.72606627],\n",
       "         [0.72606627],\n",
       "         [0.25043535],\n",
       "         [0.25043535],\n",
       "         [0.22215959],\n",
       "         [0.22215959],\n",
       "         [0.66692404],\n",
       "         [0.66692404],\n",
       "         [0.66535514],\n",
       "         [0.66535514],\n",
       "         [0.36703946],\n",
       "         [0.36703946],\n",
       "         [0.40605895],\n",
       "         [0.40605895],\n",
       "         [0.83408688],\n",
       "         [0.83408688],\n",
       "         [0.49431064],\n",
       "         [0.49431064],\n",
       "         [0.7428742 ],\n",
       "         [0.7428742 ],\n",
       "         [0.13763691],\n",
       "         [0.13763691],\n",
       "         [0.71121596],\n",
       "         [0.71121596],\n",
       "         [0.3114095 ],\n",
       "         [0.3114095 ],\n",
       "         [0.87234158],\n",
       "         [0.87234158],\n",
       "         [0.10333354],\n",
       "         [0.10333354],\n",
       "         [0.73363225],\n",
       "         [0.73363225],\n",
       "         [0.67475202],\n",
       "         [0.67475202],\n",
       "         [0.39509781],\n",
       "         [0.39509781],\n",
       "         [0.12324756],\n",
       "         [0.12324756],\n",
       "         [0.45293382],\n",
       "         [0.45293382],\n",
       "         [0.44627953],\n",
       "         [0.44627953],\n",
       "         [0.15921122],\n",
       "         [0.15921122],\n",
       "         [0.61810948],\n",
       "         [0.61810948],\n",
       "         [0.44665623],\n",
       "         [0.44665623],\n",
       "         [0.98033965],\n",
       "         [0.98033965],\n",
       "         [0.89583154],\n",
       "         [0.89583154],\n",
       "         [0.38946093],\n",
       "         [0.38946093],\n",
       "         [0.42630672],\n",
       "         [0.42630672],\n",
       "         [0.63433614],\n",
       "         [0.63433614],\n",
       "         [0.8559908 ],\n",
       "         [0.8559908 ],\n",
       "         [0.32202206],\n",
       "         [0.32202206],\n",
       "         [0.24535376],\n",
       "         [0.24535376],\n",
       "         [0.31711022],\n",
       "         [0.31711022],\n",
       "         [0.5128027 ],\n",
       "         [0.5128027 ],\n",
       "         [0.86206123],\n",
       "         [0.86206123],\n",
       "         [0.50249367],\n",
       "         [0.50249367],\n",
       "         [0.78544577],\n",
       "         [0.78544577],\n",
       "         [0.92518187],\n",
       "         [0.92518187],\n",
       "         [0.61212078],\n",
       "         [0.61212078],\n",
       "         [0.03029428],\n",
       "         [0.03029428],\n",
       "         [0.79929296],\n",
       "         [0.79929296],\n",
       "         [0.75809803],\n",
       "         [0.75809803],\n",
       "         [0.60882639],\n",
       "         [0.60882639],\n",
       "         [0.57177458],\n",
       "         [0.57177458],\n",
       "         [0.94889986],\n",
       "         [0.94889986],\n",
       "         [0.08866997],\n",
       "         [0.08866997],\n",
       "         [0.79489807],\n",
       "         [0.79489807],\n",
       "         [0.0405268 ],\n",
       "         [0.0405268 ],\n",
       "         [0.13651476],\n",
       "         [0.13651476],\n",
       "         [0.14467332],\n",
       "         [0.14467332],\n",
       "         [0.22621495],\n",
       "         [0.22621495]])}}"
      ]
     },
     "execution_count": 12,
     "metadata": {},
     "output_type": "execute_result"
    }
   ],
   "source": [
    "ds = load_by_id(run_id_a)\n",
    "ds.get_parameter_data('x1')"
   ]
  },
  {
   "cell_type": "code",
   "execution_count": null,
   "metadata": {},
   "outputs": [],
   "source": []
  }
 ],
 "metadata": {
  "kernelspec": {
   "display_name": "Python 3",
   "language": "python",
   "name": "python3"
  },
  "language_info": {
   "codemirror_mode": {
    "name": "ipython",
    "version": 3
   },
   "file_extension": ".py",
   "mimetype": "text/x-python",
   "name": "python",
   "nbconvert_exporter": "python",
   "pygments_lexer": "ipython3",
   "version": "3.7.5"
  },
  "nbsphinx": {
   "timeout": 600
  },
  "toc": {
   "base_numbering": 1,
   "nav_menu": {},
   "number_sections": true,
   "sideBar": true,
   "skip_h1_title": false,
   "title_cell": "Table of Contents",
   "title_sidebar": "Contents",
   "toc_cell": false,
   "toc_position": {},
   "toc_section_display": true,
   "toc_window_display": false
  },
  "varInspector": {
   "cols": {
    "lenName": 16,
    "lenType": 16,
    "lenVar": 40
   },
   "kernels_config": {
    "python": {
     "delete_cmd_postfix": "",
     "delete_cmd_prefix": "del ",
     "library": "var_list.py",
     "varRefreshCmd": "print(var_dic_list())"
    },
    "r": {
     "delete_cmd_postfix": ") ",
     "delete_cmd_prefix": "rm(",
     "library": "var_list.r",
     "varRefreshCmd": "cat(var_dic_list()) "
    }
   },
   "types_to_exclude": [
    "module",
    "function",
    "builtin_function_or_method",
    "instance",
    "_Feature"
   ],
   "window_display": false
  }
 },
 "nbformat": 4,
 "nbformat_minor": 2
}
