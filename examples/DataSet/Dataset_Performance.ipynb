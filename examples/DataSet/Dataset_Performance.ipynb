{
 "cells": [
  {
   "cell_type": "markdown",
   "metadata": {},
   "source": [
    "# DataSet Performance\n",
    "\n",
    "This notebook shows the trade-off between inserting data into a database row-by-row and as binary blobs. Inserting the data row-by-row means that we have direct access to all the data and may perform queries directly on the values of the data. On the other hand, as we shall see, this is much slower than inserting the data directly as binary blobs."
   ]
  },
  {
   "cell_type": "markdown",
   "metadata": {},
   "source": [
    "First, we choose a new location for the database to ensure that we don't add a bunch of benchmarking data to the default one."
   ]
  },
  {
   "cell_type": "code",
   "execution_count": 1,
   "metadata": {},
   "outputs": [
    {
     "name": "stdout",
     "output_type": "stream",
     "text": [
      "Logging hadn't been started.\n",
      "Activating auto-logging. Current session state plus future input saved.\n",
      "Filename       : /home/vsts/.qcodes/logs/command_history.log\n",
      "Mode           : append\n",
      "Output logging : True\n",
      "Raw input log  : False\n",
      "Timestamping   : True\n",
      "State          : active\n"
     ]
    },
    {
     "name": "stdout",
     "output_type": "stream",
     "text": [
      "Qcodes Logfile : /home/vsts/.qcodes/logs/200615-19456-qcodes.log\n"
     ]
    }
   ],
   "source": [
    "import os\n",
    "cwd = os.getcwd()\n",
    "import qcodes as qc\n",
    "qc.config[\"core\"][\"db_location\"] = os.path.join(cwd, 'testing.db')\n"
   ]
  },
  {
   "cell_type": "code",
   "execution_count": 2,
   "metadata": {},
   "outputs": [],
   "source": [
    "%matplotlib inline\n",
    "import time\n",
    "import matplotlib.pyplot as plt\n",
    "import numpy as np\n",
    "\n",
    "import qcodes as qc\n",
    "from qcodes.instrument.parameter import ManualParameter\n",
    "from qcodes.dataset.experiment_container import (Experiment,\n",
    "                                                 load_last_experiment,\n",
    "                                                 new_experiment)\n",
    "from qcodes.dataset.sqlite.database import initialise_database\n",
    "from qcodes import load_or_create_experiment\n",
    "from qcodes.dataset.measurements import Measurement"
   ]
  },
  {
   "cell_type": "code",
   "execution_count": 3,
   "metadata": {},
   "outputs": [
    {
     "name": "stdout",
     "output_type": "stream",
     "text": [
      "\r",
      "0it [00:00, ?it/s]"
     ]
    },
    {
     "name": "stdout",
     "output_type": "stream",
     "text": [
      "\r",
      "Upgrading database; v0 -> v1: : 0it [00:00, ?it/s]"
     ]
    },
    {
     "name": "stdout",
     "output_type": "stream",
     "text": [
      "\r",
      "Upgrading database; v0 -> v1: : 0it [00:00, ?it/s]"
     ]
    },
    {
     "name": "stdout",
     "output_type": "stream",
     "text": [
      "\n",
      "\r",
      "  0%|          | 0/1 [00:00<?, ?it/s]"
     ]
    },
    {
     "name": "stdout",
     "output_type": "stream",
     "text": [
      "\r",
      "Upgrading database; v1 -> v2:   0%|          | 0/1 [00:00<?, ?it/s]"
     ]
    },
    {
     "name": "stdout",
     "output_type": "stream",
     "text": [
      "\r",
      "Upgrading database; v1 -> v2: 100%|██████████| 1/1 [00:00<00:00, 848.36it/s]"
     ]
    },
    {
     "name": "stdout",
     "output_type": "stream",
     "text": [
      "\n",
      "\r",
      "0it [00:00, ?it/s]"
     ]
    },
    {
     "name": "stdout",
     "output_type": "stream",
     "text": [
      "\r",
      "Upgrading database; v2 -> v3: : 0it [00:00, ?it/s]"
     ]
    },
    {
     "name": "stdout",
     "output_type": "stream",
     "text": [
      "\r",
      "Upgrading database; v2 -> v3: : 0it [00:00, ?it/s]"
     ]
    },
    {
     "name": "stdout",
     "output_type": "stream",
     "text": [
      "\n",
      "\r",
      "0it [00:00, ?it/s]"
     ]
    },
    {
     "name": "stdout",
     "output_type": "stream",
     "text": [
      "\r",
      "Upgrading database; v3 -> v4: : 0it [00:00, ?it/s]"
     ]
    },
    {
     "name": "stdout",
     "output_type": "stream",
     "text": [
      "\r",
      "Upgrading database; v3 -> v4: : 0it [00:00, ?it/s]"
     ]
    },
    {
     "name": "stdout",
     "output_type": "stream",
     "text": [
      "\n",
      "\r",
      "  0%|          | 0/1 [00:00<?, ?it/s]"
     ]
    },
    {
     "name": "stdout",
     "output_type": "stream",
     "text": [
      "\r",
      "Upgrading database; v4 -> v5:   0%|          | 0/1 [00:00<?, ?it/s]"
     ]
    },
    {
     "name": "stdout",
     "output_type": "stream",
     "text": [
      "\r",
      "Upgrading database; v4 -> v5: 100%|██████████| 1/1 [00:00<00:00, 793.62it/s]"
     ]
    },
    {
     "name": "stdout",
     "output_type": "stream",
     "text": [
      "\n",
      "\r",
      "0it [00:00, ?it/s]"
     ]
    },
    {
     "name": "stdout",
     "output_type": "stream",
     "text": [
      "\r",
      "Upgrading database; v5 -> v6: : 0it [00:00, ?it/s]"
     ]
    },
    {
     "name": "stdout",
     "output_type": "stream",
     "text": [
      "\r",
      "Upgrading database; v5 -> v6: : 0it [00:00, ?it/s]"
     ]
    },
    {
     "name": "stdout",
     "output_type": "stream",
     "text": [
      "\n",
      "\r",
      "  0%|          | 0/1 [00:00<?, ?it/s]"
     ]
    },
    {
     "name": "stdout",
     "output_type": "stream",
     "text": [
      "\r",
      "Upgrading database; v6 -> v7:   0%|          | 0/1 [00:00<?, ?it/s]"
     ]
    },
    {
     "name": "stdout",
     "output_type": "stream",
     "text": [
      "\r",
      "Upgrading database; v6 -> v7: 100%|██████████| 1/1 [00:00<00:00, 278.51it/s]"
     ]
    },
    {
     "name": "stdout",
     "output_type": "stream",
     "text": [
      "\n",
      "\r",
      "  0%|          | 0/1 [00:00<?, ?it/s]"
     ]
    },
    {
     "name": "stdout",
     "output_type": "stream",
     "text": [
      "\r",
      "Upgrading database; v7 -> v8:   0%|          | 0/1 [00:00<?, ?it/s]"
     ]
    },
    {
     "name": "stdout",
     "output_type": "stream",
     "text": [
      "\r",
      "Upgrading database; v7 -> v8: 100%|██████████| 1/1 [00:00<00:00, 707.90it/s]"
     ]
    },
    {
     "name": "stdout",
     "output_type": "stream",
     "text": [
      "\n",
      "\r",
      "  0%|          | 0/1 [00:00<?, ?it/s]"
     ]
    },
    {
     "name": "stdout",
     "output_type": "stream",
     "text": [
      "\r",
      "Upgrading database; v8 -> v9:   0%|          | 0/1 [00:00<?, ?it/s]"
     ]
    },
    {
     "name": "stdout",
     "output_type": "stream",
     "text": [
      "\r",
      "Upgrading database; v8 -> v9: 100%|██████████| 1/1 [00:00<00:00, 892.22it/s]"
     ]
    },
    {
     "name": "stdout",
     "output_type": "stream",
     "text": [
      "\n"
     ]
    }
   ],
   "source": [
    "initialise_database()\n",
    "exp = load_or_create_experiment(experiment_name='tutorial_exp', sample_name=\"no sample\")"
   ]
  },
  {
   "cell_type": "markdown",
   "metadata": {},
   "source": [
    "Here, we define a simple function to benchmark the time it takes to insert n points with either numeric or array data type.\n",
    "We will compare both the time used to call ``add_result`` and the time used for the full measurement."
   ]
  },
  {
   "cell_type": "code",
   "execution_count": 4,
   "metadata": {},
   "outputs": [],
   "source": [
    "def insert_data(paramtype, npoints, nreps=1):\n",
    "\n",
    "    meas = Measurement(exp=exp)\n",
    "\n",
    "    x1 = ManualParameter('x1')\n",
    "    x2 = ManualParameter('x2')\n",
    "    x3 = ManualParameter('x3')\n",
    "    y1 = ManualParameter('y1')\n",
    "    y2 = ManualParameter('y2')\n",
    "\n",
    "    meas.register_parameter(x1, paramtype=paramtype)\n",
    "    meas.register_parameter(x2, paramtype=paramtype)\n",
    "    meas.register_parameter(x3, paramtype=paramtype)\n",
    "    meas.register_parameter(y1, setpoints=[x1, x2, x3],\n",
    "                            paramtype=paramtype)\n",
    "    meas.register_parameter(y2, setpoints=[x1, x2, x3],\n",
    "                            paramtype=paramtype)\n",
    "    start = time.perf_counter()\n",
    "    with meas.run() as datasaver:\n",
    "        start_adding = time.perf_counter()\n",
    "        for i in range(nreps):\n",
    "            datasaver.add_result((x1, np.random.rand(npoints)),\n",
    "                                 (x2, np.random.rand(npoints)),\n",
    "                                 (x3, np.random.rand(npoints)),\n",
    "                                 (y1, np.random.rand(npoints)),\n",
    "                                 (y2, np.random.rand(npoints)))\n",
    "        stop_adding = time.perf_counter()\n",
    "        run_id = datasaver.run_id\n",
    "    stop = time.perf_counter()\n",
    "    tot_time = stop - start\n",
    "    add_time = stop_adding - start_adding\n",
    "    return tot_time, add_time, run_id"
   ]
  },
  {
   "cell_type": "markdown",
   "metadata": {},
   "source": [
    "## Comparison between numeric/array data and binary blob"
   ]
  },
  {
   "cell_type": "markdown",
   "metadata": {},
   "source": [
    "### Case1: Short experiment time"
   ]
  },
  {
   "cell_type": "code",
   "execution_count": 5,
   "metadata": {},
   "outputs": [
    {
     "name": "stdout",
     "output_type": "stream",
     "text": [
      "Starting experimental run with id: 1. \n",
      "Starting experimental run with id: 2. \n",
      "Starting experimental run with id: 3. \n",
      "Starting experimental run with id: 4. \n",
      "Starting experimental run with id: 5. \n"
     ]
    },
    {
     "name": "stdout",
     "output_type": "stream",
     "text": [
      "Starting experimental run with id: 6. \n"
     ]
    },
    {
     "name": "stdout",
     "output_type": "stream",
     "text": [
      "Starting experimental run with id: 7. \n"
     ]
    },
    {
     "name": "stdout",
     "output_type": "stream",
     "text": [
      "Starting experimental run with id: 8. \n",
      "Starting experimental run with id: 9. \n"
     ]
    },
    {
     "name": "stdout",
     "output_type": "stream",
     "text": [
      "Starting experimental run with id: 10. \n",
      "Starting experimental run with id: 11. \n"
     ]
    },
    {
     "name": "stdout",
     "output_type": "stream",
     "text": [
      "Starting experimental run with id: 12. \n",
      "Starting experimental run with id: 13. \n"
     ]
    },
    {
     "name": "stdout",
     "output_type": "stream",
     "text": [
      "Starting experimental run with id: 14. \n"
     ]
    }
   ],
   "source": [
    "sizes = [1,500,1000,2000,3000,4000,5000]\n",
    "t_numeric = []\n",
    "t_numeric_add = []\n",
    "t_array = []\n",
    "t_array_add = []\n",
    "for size in sizes:\n",
    "    tn, tna, run_id_n =  insert_data('numeric', size)\n",
    "    t_numeric.append(tn)\n",
    "    t_numeric_add.append(tna)\n",
    "\n",
    "    ta, taa, run_id_a =  insert_data('array', size)\n",
    "    t_array.append(ta)\n",
    "    t_array_add.append(taa)"
   ]
  },
  {
   "cell_type": "code",
   "execution_count": 6,
   "metadata": {},
   "outputs": [
    {
     "data": {
      "image/png": "[encoded data removed]",
      "text/plain": [
       "<Figure size 432x288 with 1 Axes>"
      ]
     },
     "metadata": {
      "needs_background": "light"
     },
     "output_type": "display_data"
    }
   ],
   "source": [
    "fig, ax = plt.subplots(1,1)\n",
    "ax.plot(sizes, t_numeric, 'o-', label='Inserting row-by-row')\n",
    "ax.plot(sizes, t_numeric_add, 'o-', label='Inserting row-by-row: add_result only')\n",
    "ax.plot(sizes, t_array, 'd-', label='Inserting as binary blob')\n",
    "ax.plot(sizes, t_array_add, 'd-', label='Inserting as binary blob: add_result only')\n",
    "ax.legend()\n",
    "ax.set_xlabel('Array length')\n",
    "ax.set_ylabel('Time (s)')\n",
    "fig.tight_layout()"
   ]
  },
  {
   "cell_type": "markdown",
   "metadata": {},
   "source": [
    "As shown in the latter figure, the time to setup and and close the experiment is approximately 0.4 sec. In case of small array sizes, the difference between inserting values of data as arrays and inserting them row-by-row is relatively unimportant. At larger array sizes, i.e. above 10000 points, the cost of writing data as individual datapoints starts to become important.\n"
   ]
  },
  {
   "cell_type": "markdown",
   "metadata": {},
   "source": [
    "### Case2: Long experiment time "
   ]
  },
  {
   "cell_type": "code",
   "execution_count": 7,
   "metadata": {},
   "outputs": [
    {
     "name": "stdout",
     "output_type": "stream",
     "text": [
      "Starting experimental run with id: 15. \n",
      "Starting experimental run with id: 16. \n",
      "Starting experimental run with id: 17. \n"
     ]
    },
    {
     "name": "stdout",
     "output_type": "stream",
     "text": [
      "Starting experimental run with id: 18. \n",
      "Starting experimental run with id: 19. \n"
     ]
    },
    {
     "name": "stdout",
     "output_type": "stream",
     "text": [
      "Starting experimental run with id: 20. \n"
     ]
    },
    {
     "name": "stdout",
     "output_type": "stream",
     "text": [
      "Starting experimental run with id: 21. \n"
     ]
    },
    {
     "name": "stdout",
     "output_type": "stream",
     "text": [
      "Starting experimental run with id: 22. \n"
     ]
    },
    {
     "name": "stdout",
     "output_type": "stream",
     "text": [
      "Starting experimental run with id: 23. \n"
     ]
    },
    {
     "name": "stdout",
     "output_type": "stream",
     "text": [
      "Starting experimental run with id: 24. \n"
     ]
    },
    {
     "name": "stdout",
     "output_type": "stream",
     "text": [
      "Starting experimental run with id: 25. \n"
     ]
    },
    {
     "name": "stdout",
     "output_type": "stream",
     "text": [
      "Starting experimental run with id: 26. \n"
     ]
    },
    {
     "name": "stdout",
     "output_type": "stream",
     "text": [
      "Starting experimental run with id: 27. \n"
     ]
    },
    {
     "name": "stdout",
     "output_type": "stream",
     "text": [
      "Starting experimental run with id: 28. \n"
     ]
    }
   ],
   "source": [
    "sizes = [1,500,1000,2000,3000,4000,5000]\n",
    "nreps = 100\n",
    "t_numeric = []\n",
    "t_numeric_add = []\n",
    "t_numeric_run_ids = []\n",
    "t_array = []\n",
    "t_array_add = []\n",
    "t_array_run_ids = []\n",
    "for size in sizes:\n",
    "    tn, tna, run_id_n =  insert_data('numeric', size, nreps=nreps)\n",
    "    t_numeric.append(tn)\n",
    "    t_numeric_add.append(tna)\n",
    "    t_numeric_run_ids.append(run_id_n)\n",
    "\n",
    "    ta, taa, run_id_a =  insert_data('array', size, nreps=nreps)\n",
    "    t_array.append(ta)\n",
    "    t_array_add.append(taa)\n",
    "    t_array_run_ids.append(run_id_a)"
   ]
  },
  {
   "cell_type": "code",
   "execution_count": 8,
   "metadata": {
    "scrolled": true
   },
   "outputs": [
    {
     "data": {
      "image/png": "[encoded data removed]",
      "text/plain": [
       "<Figure size 432x288 with 1 Axes>"
      ]
     },
     "metadata": {
      "needs_background": "light"
     },
     "output_type": "display_data"
    }
   ],
   "source": [
    "fig, ax = plt.subplots(1,1)\n",
    "ax.plot(sizes, t_numeric, 'o-', label='Inserting row-by-row')\n",
    "ax.plot(sizes, t_numeric_add, 'o-', label='Inserting row-by-row: add_result only')\n",
    "ax.plot(sizes, t_array, 'd-', label='Inserting as binary blob')\n",
    "ax.plot(sizes, t_array_add, 'd-', label='Inserting as binary blob: add_result only')\n",
    "ax.legend()\n",
    "ax.set_xlabel('Array length')\n",
    "ax.set_ylabel('Time (s)')\n",
    "fig.tight_layout()"
   ]
  },
  {
   "cell_type": "markdown",
   "metadata": {},
   "source": [
    "However, as we increase the length of the experiment, as seen here by repeating the insertion 100 times, we see a big difference between inserting values of the data row-by-row and inserting it as a binary blob."
   ]
  },
  {
   "cell_type": "markdown",
   "metadata": {},
   "source": [
    "## Loading the data "
   ]
  },
  {
   "cell_type": "code",
   "execution_count": 9,
   "metadata": {},
   "outputs": [],
   "source": [
    "from qcodes.dataset.data_set import load_by_id\n",
    "from qcodes.dataset.data_export import get_data_by_id"
   ]
  },
  {
   "cell_type": "markdown",
   "metadata": {},
   "source": [
    "As usual you can load the data by using the ``load_by_id`` function but you will notice that the different storage methods\n",
    "are reflected in shape of the data as it is retrieved. "
   ]
  },
  {
   "cell_type": "code",
   "execution_count": 10,
   "metadata": {},
   "outputs": [],
   "source": [
    "run_id_n = t_numeric_run_ids[0]\n",
    "run_id_a = t_array_run_ids[0]"
   ]
  },
  {
   "cell_type": "code",
   "execution_count": 11,
   "metadata": {
    "scrolled": true
   },
   "outputs": [
    {
     "data": {
      "text/plain": [
       "{'x1': {'x1': array([0.14627311, 0.14627311, 0.90957528, 0.90957528, 0.18227453,\n",
       "         0.18227453, 0.85522547, 0.85522547, 0.14397615, 0.14397615,\n",
       "         0.16830211, 0.16830211, 0.16228663, 0.16228663, 0.97620541,\n",
       "         0.97620541, 0.79316132, 0.79316132, 0.56223687, 0.56223687,\n",
       "         0.66528597, 0.66528597, 0.69376075, 0.69376075, 0.45932531,\n",
       "         0.45932531, 0.476732  , 0.476732  , 0.74758114, 0.74758114,\n",
       "         0.97022668, 0.97022668, 0.06334973, 0.06334973, 0.83385335,\n",
       "         0.83385335, 0.09224474, 0.09224474, 0.98270714, 0.98270714,\n",
       "         0.52957521, 0.52957521, 0.16826945, 0.16826945, 0.5983431 ,\n",
       "         0.5983431 , 0.78626226, 0.78626226, 0.57240616, 0.57240616,\n",
       "         0.17015739, 0.17015739, 0.45989857, 0.45989857, 0.0086336 ,\n",
       "         0.0086336 , 0.13628336, 0.13628336, 0.6674057 , 0.6674057 ,\n",
       "         0.06984697, 0.06984697, 0.90377264, 0.90377264, 0.72066501,\n",
       "         0.72066501, 0.72039925, 0.72039925, 0.88666278, 0.88666278,\n",
       "         0.47524239, 0.47524239, 0.73363211, 0.73363211, 0.23931935,\n",
       "         0.23931935, 0.86976341, 0.86976341, 0.58665789, 0.58665789,\n",
       "         0.40623991, 0.40623991, 0.55390187, 0.55390187, 0.31167954,\n",
       "         0.31167954, 0.37460105, 0.37460105, 0.54399942, 0.54399942,\n",
       "         0.42094545, 0.42094545, 0.69648996, 0.69648996, 0.56514267,\n",
       "         0.56514267, 0.57886275, 0.57886275, 0.94714497, 0.94714497,\n",
       "         0.90110433, 0.90110433, 0.86841796, 0.86841796, 0.26392411,\n",
       "         0.26392411, 0.31933689, 0.31933689, 0.00403947, 0.00403947,\n",
       "         0.19459782, 0.19459782, 0.66725369, 0.66725369, 0.7189866 ,\n",
       "         0.7189866 , 0.92969174, 0.92969174, 0.6607065 , 0.6607065 ,\n",
       "         0.85036675, 0.85036675, 0.46047012, 0.46047012, 0.64589179,\n",
       "         0.64589179, 0.65615285, 0.65615285, 0.47055515, 0.47055515,\n",
       "         0.99125822, 0.99125822, 0.16464515, 0.16464515, 0.20578945,\n",
       "         0.20578945, 0.22091267, 0.22091267, 0.41724983, 0.41724983,\n",
       "         0.78345754, 0.78345754, 0.03676588, 0.03676588, 0.01961378,\n",
       "         0.01961378, 0.86559085, 0.86559085, 0.96947967, 0.96947967,\n",
       "         0.05569507, 0.05569507, 0.04877097, 0.04877097, 0.57240653,\n",
       "         0.57240653, 0.29644413, 0.29644413, 0.03026053, 0.03026053,\n",
       "         0.94236908, 0.94236908, 0.15808198, 0.15808198, 0.99528753,\n",
       "         0.99528753, 0.71372907, 0.71372907, 0.23709   , 0.23709   ,\n",
       "         0.97702622, 0.97702622, 0.5895978 , 0.5895978 , 0.41302242,\n",
       "         0.41302242, 0.21190448, 0.21190448, 0.97713153, 0.97713153,\n",
       "         0.6433573 , 0.6433573 , 0.10456226, 0.10456226, 0.31413311,\n",
       "         0.31413311, 0.21649212, 0.21649212, 0.26422135, 0.26422135,\n",
       "         0.00452555, 0.00452555, 0.55292219, 0.55292219, 0.90323167,\n",
       "         0.90323167, 0.01568984, 0.01568984, 0.44478972, 0.44478972])}}"
      ]
     },
     "execution_count": 11,
     "metadata": {},
     "output_type": "execute_result"
    }
   ],
   "source": [
    "ds = load_by_id(run_id_n)\n",
    "ds.get_parameter_data('x1')"
   ]
  },
  {
   "cell_type": "markdown",
   "metadata": {},
   "source": [
    "And a dataset stored as binary arrays"
   ]
  },
  {
   "cell_type": "code",
   "execution_count": 12,
   "metadata": {
    "scrolled": true
   },
   "outputs": [
    {
     "data": {
      "text/plain": [
       "{'x1': {'x1': array([[0.36325929],\n",
       "         [0.36325929],\n",
       "         [0.65035384],\n",
       "         [0.65035384],\n",
       "         [0.33751932],\n",
       "         [0.33751932],\n",
       "         [0.06197986],\n",
       "         [0.06197986],\n",
       "         [0.73916033],\n",
       "         [0.73916033],\n",
       "         [0.24494035],\n",
       "         [0.24494035],\n",
       "         [0.59165723],\n",
       "         [0.59165723],\n",
       "         [0.05019876],\n",
       "         [0.05019876],\n",
       "         [0.97303132],\n",
       "         [0.97303132],\n",
       "         [0.23755561],\n",
       "         [0.23755561],\n",
       "         [0.32000297],\n",
       "         [0.32000297],\n",
       "         [0.07396685],\n",
       "         [0.07396685],\n",
       "         [0.86911497],\n",
       "         [0.86911497],\n",
       "         [0.7158401 ],\n",
       "         [0.7158401 ],\n",
       "         [0.70447089],\n",
       "         [0.70447089],\n",
       "         [0.4684623 ],\n",
       "         [0.4684623 ],\n",
       "         [0.30582449],\n",
       "         [0.30582449],\n",
       "         [0.54749667],\n",
       "         [0.54749667],\n",
       "         [0.90256859],\n",
       "         [0.90256859],\n",
       "         [0.60223229],\n",
       "         [0.60223229],\n",
       "         [0.76923441],\n",
       "         [0.76923441],\n",
       "         [0.68905375],\n",
       "         [0.68905375],\n",
       "         [0.81163342],\n",
       "         [0.81163342],\n",
       "         [0.90991068],\n",
       "         [0.90991068],\n",
       "         [0.6626546 ],\n",
       "         [0.6626546 ],\n",
       "         [0.48726799],\n",
       "         [0.48726799],\n",
       "         [0.68745289],\n",
       "         [0.68745289],\n",
       "         [0.79601495],\n",
       "         [0.79601495],\n",
       "         [0.74356836],\n",
       "         [0.74356836],\n",
       "         [0.58683843],\n",
       "         [0.58683843],\n",
       "         [0.75016782],\n",
       "         [0.75016782],\n",
       "         [0.49933133],\n",
       "         [0.49933133],\n",
       "         [0.76153055],\n",
       "         [0.76153055],\n",
       "         [0.65250829],\n",
       "         [0.65250829],\n",
       "         [0.39303624],\n",
       "         [0.39303624],\n",
       "         [0.15231507],\n",
       "         [0.15231507],\n",
       "         [0.62234284],\n",
       "         [0.62234284],\n",
       "         [0.50897401],\n",
       "         [0.50897401],\n",
       "         [0.56074192],\n",
       "         [0.56074192],\n",
       "         [0.35952546],\n",
       "         [0.35952546],\n",
       "         [0.06336682],\n",
       "         [0.06336682],\n",
       "         [0.27138764],\n",
       "         [0.27138764],\n",
       "         [0.3761033 ],\n",
       "         [0.3761033 ],\n",
       "         [0.95194861],\n",
       "         [0.95194861],\n",
       "         [0.06623994],\n",
       "         [0.06623994],\n",
       "         [0.68230812],\n",
       "         [0.68230812],\n",
       "         [0.31487261],\n",
       "         [0.31487261],\n",
       "         [0.43733931],\n",
       "         [0.43733931],\n",
       "         [0.99758552],\n",
       "         [0.99758552],\n",
       "         [0.42274165],\n",
       "         [0.42274165],\n",
       "         [0.09538908],\n",
       "         [0.09538908],\n",
       "         [0.66375835],\n",
       "         [0.66375835],\n",
       "         [0.8649448 ],\n",
       "         [0.8649448 ],\n",
       "         [0.72766954],\n",
       "         [0.72766954],\n",
       "         [0.25204166],\n",
       "         [0.25204166],\n",
       "         [0.80890543],\n",
       "         [0.80890543],\n",
       "         [0.82714957],\n",
       "         [0.82714957],\n",
       "         [0.51278268],\n",
       "         [0.51278268],\n",
       "         [0.36390437],\n",
       "         [0.36390437],\n",
       "         [0.28828026],\n",
       "         [0.28828026],\n",
       "         [0.09103531],\n",
       "         [0.09103531],\n",
       "         [0.09156049],\n",
       "         [0.09156049],\n",
       "         [0.99389404],\n",
       "         [0.99389404],\n",
       "         [0.8038124 ],\n",
       "         [0.8038124 ],\n",
       "         [0.52685418],\n",
       "         [0.52685418],\n",
       "         [0.97887069],\n",
       "         [0.97887069],\n",
       "         [0.02751749],\n",
       "         [0.02751749],\n",
       "         [0.90680376],\n",
       "         [0.90680376],\n",
       "         [0.61169051],\n",
       "         [0.61169051],\n",
       "         [0.92641178],\n",
       "         [0.92641178],\n",
       "         [0.21483206],\n",
       "         [0.21483206],\n",
       "         [0.05019745],\n",
       "         [0.05019745],\n",
       "         [0.38377806],\n",
       "         [0.38377806],\n",
       "         [0.92942171],\n",
       "         [0.92942171],\n",
       "         [0.1116088 ],\n",
       "         [0.1116088 ],\n",
       "         [0.23247528],\n",
       "         [0.23247528],\n",
       "         [0.63482207],\n",
       "         [0.63482207],\n",
       "         [0.47315253],\n",
       "         [0.47315253],\n",
       "         [0.00568917],\n",
       "         [0.00568917],\n",
       "         [0.09613818],\n",
       "         [0.09613818],\n",
       "         [0.12340139],\n",
       "         [0.12340139],\n",
       "         [0.87223282],\n",
       "         [0.87223282],\n",
       "         [0.81578871],\n",
       "         [0.81578871],\n",
       "         [0.71575984],\n",
       "         [0.71575984],\n",
       "         [0.36223682],\n",
       "         [0.36223682],\n",
       "         [0.12910694],\n",
       "         [0.12910694],\n",
       "         [0.64777918],\n",
       "         [0.64777918],\n",
       "         [0.8361546 ],\n",
       "         [0.8361546 ],\n",
       "         [0.85692173],\n",
       "         [0.85692173],\n",
       "         [0.09435715],\n",
       "         [0.09435715],\n",
       "         [0.67716103],\n",
       "         [0.67716103],\n",
       "         [0.24421974],\n",
       "         [0.24421974],\n",
       "         [0.0514639 ],\n",
       "         [0.0514639 ],\n",
       "         [0.62237623],\n",
       "         [0.62237623],\n",
       "         [0.3221772 ],\n",
       "         [0.3221772 ],\n",
       "         [0.98466355],\n",
       "         [0.98466355],\n",
       "         [0.33709957],\n",
       "         [0.33709957],\n",
       "         [0.71575027],\n",
       "         [0.71575027],\n",
       "         [0.48710044],\n",
       "         [0.48710044],\n",
       "         [0.24363119],\n",
       "         [0.24363119]])}}"
      ]
     },
     "execution_count": 12,
     "metadata": {},
     "output_type": "execute_result"
    }
   ],
   "source": [
    "ds = load_by_id(run_id_a)\n",
    "ds.get_parameter_data('x1')"
   ]
  },
  {
   "cell_type": "code",
   "execution_count": null,
   "metadata": {},
   "outputs": [],
   "source": []
  }
 ],
 "metadata": {
  "kernelspec": {
   "display_name": "Python 3",
   "language": "python",
   "name": "python3"
  },
  "language_info": {
   "codemirror_mode": {
    "name": "ipython",
    "version": 3
   },
   "file_extension": ".py",
   "mimetype": "text/x-python",
   "name": "python",
   "nbconvert_exporter": "python",
   "pygments_lexer": "ipython3",
   "version": "3.7.7"
  },
  "nbsphinx": {
   "timeout": 600
  },
  "toc": {
   "base_numbering": 1,
   "nav_menu": {},
   "number_sections": true,
   "sideBar": true,
   "skip_h1_title": false,
   "title_cell": "Table of Contents",
   "title_sidebar": "Contents",
   "toc_cell": false,
   "toc_position": {},
   "toc_section_display": true,
   "toc_window_display": false
  },
  "varInspector": {
   "cols": {
    "lenName": 16,
    "lenType": 16,
    "lenVar": 40
   },
   "kernels_config": {
    "python": {
     "delete_cmd_postfix": "",
     "delete_cmd_prefix": "del ",
     "library": "var_list.py",
     "varRefreshCmd": "print(var_dic_list())"
    },
    "r": {
     "delete_cmd_postfix": ") ",
     "delete_cmd_prefix": "rm(",
     "library": "var_list.r",
     "varRefreshCmd": "cat(var_dic_list()) "
    }
   },
   "types_to_exclude": [
    "module",
    "function",
    "builtin_function_or_method",
    "instance",
    "_Feature"
   ],
   "window_display": false
  }
 },
 "nbformat": 4,
 "nbformat_minor": 2
}
