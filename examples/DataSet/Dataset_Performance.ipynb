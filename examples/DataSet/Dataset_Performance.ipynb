{
 "cells": [
  {
   "cell_type": "markdown",
   "metadata": {},
   "source": [
    "# DataSet Performance\n",
    "\n",
    "This notebook shows the trade-off between inserting data into a database row-by-row and as binary blobs. Inserting the data row-by-row means that we have direct access to all the data and may perform queries directly on the values of the data. On the other hand, as we shall see, this is much slower than inserting the data directly as binary blobs."
   ]
  },
  {
   "cell_type": "markdown",
   "metadata": {},
   "source": [
    "First, we choose a new location for the database to ensure that we don't add a bunch of benchmarking data to the default one."
   ]
  },
  {
   "cell_type": "code",
   "execution_count": 1,
   "metadata": {},
   "outputs": [
    {
     "name": "stdout",
     "output_type": "stream",
     "text": [
      "Logging hadn't been started.\n",
      "Activating auto-logging. Current session state plus future input saved.\n",
      "Filename       : /home/vsts/.qcodes/logs/command_history.log\n",
      "Mode           : append\n",
      "Output logging : True\n",
      "Raw input log  : False\n",
      "Timestamping   : True\n",
      "State          : active\n"
     ]
    },
    {
     "name": "stdout",
     "output_type": "stream",
     "text": [
      "Qcodes Logfile : /home/vsts/.qcodes/logs/200218-17449-qcodes.log\n"
     ]
    }
   ],
   "source": [
    "import os\n",
    "cwd = os.getcwd()\n",
    "import qcodes as qc\n",
    "qc.config[\"core\"][\"db_location\"] = os.path.join(cwd, 'testing.db')\n"
   ]
  },
  {
   "cell_type": "code",
   "execution_count": 2,
   "metadata": {},
   "outputs": [],
   "source": [
    "%matplotlib inline\n",
    "import time\n",
    "import matplotlib.pyplot as plt\n",
    "import numpy as np\n",
    "\n",
    "import qcodes as qc\n",
    "from qcodes.instrument.parameter import ManualParameter\n",
    "from qcodes.dataset.experiment_container import (Experiment,\n",
    "                                                 load_last_experiment,\n",
    "                                                 new_experiment)\n",
    "from qcodes.dataset.sqlite.database import initialise_database\n",
    "from qcodes import load_or_create_experiment\n",
    "from qcodes.dataset.measurements import Measurement"
   ]
  },
  {
   "cell_type": "code",
   "execution_count": 3,
   "metadata": {},
   "outputs": [
    {
     "name": "stdout",
     "output_type": "stream",
     "text": [
      "\r",
      "0it [00:00, ?it/s]"
     ]
    },
    {
     "name": "stdout",
     "output_type": "stream",
     "text": [
      "\r",
      "Upgrading database; v0 -> v1: : 0it [00:00, ?it/s]"
     ]
    },
    {
     "name": "stdout",
     "output_type": "stream",
     "text": [
      "\r",
      "Upgrading database; v0 -> v1: : 0it [00:00, ?it/s]"
     ]
    },
    {
     "name": "stdout",
     "output_type": "stream",
     "text": [
      "\n",
      "\r",
      "  0%|          | 0/1 [00:00<?, ?it/s]"
     ]
    },
    {
     "name": "stdout",
     "output_type": "stream",
     "text": [
      "\r",
      "Upgrading database; v1 -> v2:   0%|          | 0/1 [00:00<?, ?it/s]"
     ]
    },
    {
     "name": "stdout",
     "output_type": "stream",
     "text": [
      "\r",
      "Upgrading database; v1 -> v2: 100%|██████████| 1/1 [00:00<00:00, 825.65it/s]"
     ]
    },
    {
     "name": "stdout",
     "output_type": "stream",
     "text": [
      "\n",
      "\r",
      "0it [00:00, ?it/s]"
     ]
    },
    {
     "name": "stdout",
     "output_type": "stream",
     "text": [
      "\r",
      "Upgrading database; v2 -> v3: : 0it [00:00, ?it/s]"
     ]
    },
    {
     "name": "stdout",
     "output_type": "stream",
     "text": [
      "\r",
      "Upgrading database; v2 -> v3: : 0it [00:00, ?it/s]"
     ]
    },
    {
     "name": "stdout",
     "output_type": "stream",
     "text": [
      "\n",
      "\r",
      "0it [00:00, ?it/s]"
     ]
    },
    {
     "name": "stdout",
     "output_type": "stream",
     "text": [
      "\r",
      "Upgrading database; v3 -> v4: : 0it [00:00, ?it/s]"
     ]
    },
    {
     "name": "stdout",
     "output_type": "stream",
     "text": [
      "\r",
      "Upgrading database; v3 -> v4: : 0it [00:00, ?it/s]"
     ]
    },
    {
     "name": "stdout",
     "output_type": "stream",
     "text": [
      "\n",
      "\r",
      "  0%|          | 0/1 [00:00<?, ?it/s]"
     ]
    },
    {
     "name": "stdout",
     "output_type": "stream",
     "text": [
      "\r",
      "Upgrading database; v4 -> v5:   0%|          | 0/1 [00:00<?, ?it/s]"
     ]
    },
    {
     "name": "stdout",
     "output_type": "stream",
     "text": [
      "\r",
      "Upgrading database; v4 -> v5: 100%|██████████| 1/1 [00:00<00:00, 798.46it/s]"
     ]
    },
    {
     "name": "stdout",
     "output_type": "stream",
     "text": [
      "\n",
      "\r",
      "0it [00:00, ?it/s]"
     ]
    },
    {
     "name": "stdout",
     "output_type": "stream",
     "text": [
      "\r",
      "Upgrading database; v5 -> v6: : 0it [00:00, ?it/s]"
     ]
    },
    {
     "name": "stdout",
     "output_type": "stream",
     "text": [
      "\r",
      "Upgrading database; v5 -> v6: : 0it [00:00, ?it/s]"
     ]
    },
    {
     "name": "stdout",
     "output_type": "stream",
     "text": [
      "\n",
      "\r",
      "  0%|          | 0/1 [00:00<?, ?it/s]"
     ]
    },
    {
     "name": "stdout",
     "output_type": "stream",
     "text": [
      "\r",
      "Upgrading database; v6 -> v7:   0%|          | 0/1 [00:00<?, ?it/s]"
     ]
    },
    {
     "name": "stdout",
     "output_type": "stream",
     "text": [
      "\r",
      "Upgrading database; v6 -> v7: 100%|██████████| 1/1 [00:00<00:00, 293.12it/s]"
     ]
    },
    {
     "name": "stdout",
     "output_type": "stream",
     "text": [
      "\n",
      "\r",
      "  0%|          | 0/1 [00:00<?, ?it/s]"
     ]
    },
    {
     "name": "stdout",
     "output_type": "stream",
     "text": [
      "\r",
      "Upgrading database; v7 -> v8:   0%|          | 0/1 [00:00<?, ?it/s]"
     ]
    },
    {
     "name": "stdout",
     "output_type": "stream",
     "text": [
      "\r",
      "Upgrading database; v7 -> v8: 100%|██████████| 1/1 [00:00<00:00, 816.81it/s]"
     ]
    },
    {
     "name": "stdout",
     "output_type": "stream",
     "text": [
      "\n"
     ]
    }
   ],
   "source": [
    "initialise_database()\n",
    "exp = load_or_create_experiment(experiment_name='tutorial_exp', sample_name=\"no sample\")"
   ]
  },
  {
   "cell_type": "markdown",
   "metadata": {},
   "source": [
    "Here, we define a simple function to benchmark the time it takes to insert n points with either numeric or array data type.\n",
    "We will compare both the time used to call ``add_result`` and the time used for the full measurement."
   ]
  },
  {
   "cell_type": "code",
   "execution_count": 4,
   "metadata": {},
   "outputs": [],
   "source": [
    "def insert_data(paramtype, npoints, nreps=1):\n",
    "\n",
    "    meas = Measurement(exp=exp)\n",
    "\n",
    "    x1 = ManualParameter('x1')\n",
    "    x2 = ManualParameter('x2')\n",
    "    x3 = ManualParameter('x3')\n",
    "    y1 = ManualParameter('y1')\n",
    "    y2 = ManualParameter('y2')\n",
    "\n",
    "    meas.register_parameter(x1, paramtype=paramtype)\n",
    "    meas.register_parameter(x2, paramtype=paramtype)\n",
    "    meas.register_parameter(x3, paramtype=paramtype)\n",
    "    meas.register_parameter(y1, setpoints=[x1, x2, x3],\n",
    "                            paramtype=paramtype)\n",
    "    meas.register_parameter(y2, setpoints=[x1, x2, x3],\n",
    "                            paramtype=paramtype)\n",
    "    start = time.perf_counter()\n",
    "    with meas.run() as datasaver:\n",
    "        start_adding = time.perf_counter()\n",
    "        for i in range(nreps):\n",
    "            datasaver.add_result((x1, np.random.rand(npoints)),\n",
    "                                 (x2, np.random.rand(npoints)),\n",
    "                                 (x3, np.random.rand(npoints)),\n",
    "                                 (y1, np.random.rand(npoints)),\n",
    "                                 (y2, np.random.rand(npoints)))\n",
    "        stop_adding = time.perf_counter()\n",
    "        run_id = datasaver.run_id\n",
    "    stop = time.perf_counter()\n",
    "    tot_time = stop - start\n",
    "    add_time = stop_adding - start_adding\n",
    "    return tot_time, add_time, run_id"
   ]
  },
  {
   "cell_type": "markdown",
   "metadata": {},
   "source": [
    "## Comparison between numeric/array data and binary blob"
   ]
  },
  {
   "cell_type": "markdown",
   "metadata": {},
   "source": [
    "### Case1: Short experiment time"
   ]
  },
  {
   "cell_type": "code",
   "execution_count": 5,
   "metadata": {},
   "outputs": [
    {
     "name": "stdout",
     "output_type": "stream",
     "text": [
      "Starting experimental run with id: 1. \n",
      "Starting experimental run with id: 2. \n",
      "Starting experimental run with id: 3. \n"
     ]
    },
    {
     "name": "stdout",
     "output_type": "stream",
     "text": [
      "Starting experimental run with id: 4. \n"
     ]
    },
    {
     "name": "stdout",
     "output_type": "stream",
     "text": [
      "Starting experimental run with id: 5. \n"
     ]
    },
    {
     "name": "stdout",
     "output_type": "stream",
     "text": [
      "Starting experimental run with id: 6. \n"
     ]
    },
    {
     "name": "stdout",
     "output_type": "stream",
     "text": [
      "Starting experimental run with id: 7. \n"
     ]
    },
    {
     "name": "stdout",
     "output_type": "stream",
     "text": [
      "Starting experimental run with id: 8. \n",
      "Starting experimental run with id: 9. \n"
     ]
    },
    {
     "name": "stdout",
     "output_type": "stream",
     "text": [
      "Starting experimental run with id: 10. \n",
      "Starting experimental run with id: 11. \n"
     ]
    },
    {
     "name": "stdout",
     "output_type": "stream",
     "text": [
      "Starting experimental run with id: 12. \n"
     ]
    },
    {
     "name": "stdout",
     "output_type": "stream",
     "text": [
      "Starting experimental run with id: 13. \n"
     ]
    },
    {
     "name": "stdout",
     "output_type": "stream",
     "text": [
      "Starting experimental run with id: 14. \n"
     ]
    }
   ],
   "source": [
    "sizes = [1,500,1000,2000,3000,4000,5000]\n",
    "t_numeric = []\n",
    "t_numeric_add = []\n",
    "t_array = []\n",
    "t_array_add = []\n",
    "for size in sizes:\n",
    "    tn, tna, run_id_n =  insert_data('numeric', size)\n",
    "    t_numeric.append(tn)\n",
    "    t_numeric_add.append(tna)\n",
    "\n",
    "    ta, taa, run_id_a =  insert_data('array', size)\n",
    "    t_array.append(ta)\n",
    "    t_array_add.append(taa)"
   ]
  },
  {
   "cell_type": "code",
   "execution_count": 6,
   "metadata": {},
   "outputs": [
    {
     "data": {
      "image/png": "[encoded data removed]",
      "text/plain": [
       "<Figure size 432x288 with 1 Axes>"
      ]
     },
     "metadata": {
      "needs_background": "light"
     },
     "output_type": "display_data"
    }
   ],
   "source": [
    "fig, ax = plt.subplots(1,1)\n",
    "ax.plot(sizes, t_numeric, 'o-', label='Inserting row-by-row')\n",
    "ax.plot(sizes, t_numeric_add, 'o-', label='Inserting row-by-row: add_result only')\n",
    "ax.plot(sizes, t_array, 'd-', label='Inserting as binary blob')\n",
    "ax.plot(sizes, t_array_add, 'd-', label='Inserting as binary blob: add_result only')\n",
    "ax.legend()\n",
    "ax.set_xlabel('Array length')\n",
    "ax.set_ylabel('Time (s)')\n",
    "fig.tight_layout()"
   ]
  },
  {
   "cell_type": "markdown",
   "metadata": {},
   "source": [
    "As shown in the latter figure, the time to setup and and close the experiment is approximately 0.4 sec. In case of small array sizes, the difference between inserting values of data as arrays and inserting them row-by-row is relatively unimportant. At larger array sizes, i.e. above 10000 points, the cost of writing data as individual datapoints starts to become important.\n"
   ]
  },
  {
   "cell_type": "markdown",
   "metadata": {},
   "source": [
    "### Case2: Long experiment time "
   ]
  },
  {
   "cell_type": "code",
   "execution_count": 7,
   "metadata": {},
   "outputs": [
    {
     "name": "stdout",
     "output_type": "stream",
     "text": [
      "Starting experimental run with id: 15. \n",
      "Starting experimental run with id: 16. \n",
      "Starting experimental run with id: 17. \n"
     ]
    },
    {
     "name": "stdout",
     "output_type": "stream",
     "text": [
      "Starting experimental run with id: 18. \n",
      "Starting experimental run with id: 19. \n"
     ]
    },
    {
     "name": "stdout",
     "output_type": "stream",
     "text": [
      "Starting experimental run with id: 20. \n"
     ]
    },
    {
     "name": "stdout",
     "output_type": "stream",
     "text": [
      "Starting experimental run with id: 21. \n"
     ]
    },
    {
     "name": "stdout",
     "output_type": "stream",
     "text": [
      "Starting experimental run with id: 22. \n"
     ]
    },
    {
     "name": "stdout",
     "output_type": "stream",
     "text": [
      "Starting experimental run with id: 23. \n"
     ]
    },
    {
     "name": "stdout",
     "output_type": "stream",
     "text": [
      "Starting experimental run with id: 24. \n"
     ]
    },
    {
     "name": "stdout",
     "output_type": "stream",
     "text": [
      "Starting experimental run with id: 25. \n"
     ]
    },
    {
     "name": "stdout",
     "output_type": "stream",
     "text": [
      "Starting experimental run with id: 26. \n"
     ]
    },
    {
     "name": "stdout",
     "output_type": "stream",
     "text": [
      "Starting experimental run with id: 27. \n"
     ]
    },
    {
     "name": "stdout",
     "output_type": "stream",
     "text": [
      "Starting experimental run with id: 28. \n"
     ]
    }
   ],
   "source": [
    "sizes = [1,500,1000,2000,3000,4000,5000]\n",
    "nreps = 100\n",
    "t_numeric = []\n",
    "t_numeric_add = []\n",
    "t_numeric_run_ids = []\n",
    "t_array = []\n",
    "t_array_add = []\n",
    "t_array_run_ids = []\n",
    "for size in sizes:\n",
    "    tn, tna, run_id_n =  insert_data('numeric', size, nreps=nreps)\n",
    "    t_numeric.append(tn)\n",
    "    t_numeric_add.append(tna)\n",
    "    t_numeric_run_ids.append(run_id_n)\n",
    "\n",
    "    ta, taa, run_id_a =  insert_data('array', size, nreps=nreps)\n",
    "    t_array.append(ta)\n",
    "    t_array_add.append(taa)\n",
    "    t_array_run_ids.append(run_id_a)"
   ]
  },
  {
   "cell_type": "code",
   "execution_count": 8,
   "metadata": {
    "scrolled": true
   },
   "outputs": [
    {
     "data": {
      "image/png": "[encoded data removed]",
      "text/plain": [
       "<Figure size 432x288 with 1 Axes>"
      ]
     },
     "metadata": {
      "needs_background": "light"
     },
     "output_type": "display_data"
    }
   ],
   "source": [
    "fig, ax = plt.subplots(1,1)\n",
    "ax.plot(sizes, t_numeric, 'o-', label='Inserting row-by-row')\n",
    "ax.plot(sizes, t_numeric_add, 'o-', label='Inserting row-by-row: add_result only')\n",
    "ax.plot(sizes, t_array, 'd-', label='Inserting as binary blob')\n",
    "ax.plot(sizes, t_array_add, 'd-', label='Inserting as binary blob: add_result only')\n",
    "ax.legend()\n",
    "ax.set_xlabel('Array length')\n",
    "ax.set_ylabel('Time (s)')\n",
    "fig.tight_layout()"
   ]
  },
  {
   "cell_type": "markdown",
   "metadata": {},
   "source": [
    "However, as we increase the length of the experiment, as seen here by repeating the insertion 100 times, we see a big difference between inserting values of the data row-by-row and inserting it as a binary blob."
   ]
  },
  {
   "cell_type": "markdown",
   "metadata": {},
   "source": [
    "## Loading the data "
   ]
  },
  {
   "cell_type": "code",
   "execution_count": 9,
   "metadata": {},
   "outputs": [],
   "source": [
    "from qcodes.dataset.data_set import load_by_id\n",
    "from qcodes.dataset.data_export import get_data_by_id"
   ]
  },
  {
   "cell_type": "markdown",
   "metadata": {},
   "source": [
    "As usual you can load the data by using the ``load_by_id`` function but you will notice that the different storage methods\n",
    "are reflected in shape of the data as it is retrieved. "
   ]
  },
  {
   "cell_type": "code",
   "execution_count": 10,
   "metadata": {},
   "outputs": [],
   "source": [
    "run_id_n = t_numeric_run_ids[0]\n",
    "run_id_a = t_array_run_ids[0]"
   ]
  },
  {
   "cell_type": "code",
   "execution_count": 11,
   "metadata": {
    "scrolled": true
   },
   "outputs": [
    {
     "data": {
      "text/plain": [
       "{'x1': {'x1': array([0.67983659, 0.67983659, 0.19208606, 0.19208606, 0.52095453,\n",
       "         0.52095453, 0.18774526, 0.18774526, 0.90038661, 0.90038661,\n",
       "         0.20174696, 0.20174696, 0.79351678, 0.79351678, 0.45906132,\n",
       "         0.45906132, 0.36702357, 0.36702357, 0.45697053, 0.45697053,\n",
       "         0.39904194, 0.39904194, 0.74240164, 0.74240164, 0.66004314,\n",
       "         0.66004314, 0.35993103, 0.35993103, 0.77683592, 0.77683592,\n",
       "         0.37952983, 0.37952983, 0.39525602, 0.39525602, 0.97637312,\n",
       "         0.97637312, 0.09391635, 0.09391635, 0.31876596, 0.31876596,\n",
       "         0.60559241, 0.60559241, 0.2426104 , 0.2426104 , 0.21044895,\n",
       "         0.21044895, 0.97123668, 0.97123668, 0.08095857, 0.08095857,\n",
       "         0.94865362, 0.94865362, 0.0914732 , 0.0914732 , 0.72858565,\n",
       "         0.72858565, 0.24835256, 0.24835256, 0.94815149, 0.94815149,\n",
       "         0.13505366, 0.13505366, 0.58249601, 0.58249601, 0.15802718,\n",
       "         0.15802718, 0.68985106, 0.68985106, 0.02905598, 0.02905598,\n",
       "         0.63151754, 0.63151754, 0.39515148, 0.39515148, 0.17874896,\n",
       "         0.17874896, 0.59572452, 0.59572452, 0.38751596, 0.38751596,\n",
       "         0.95100046, 0.95100046, 0.68136404, 0.68136404, 0.60777961,\n",
       "         0.60777961, 0.03532025, 0.03532025, 0.02678753, 0.02678753,\n",
       "         0.03968735, 0.03968735, 0.82436765, 0.82436765, 0.0788849 ,\n",
       "         0.0788849 , 0.01335451, 0.01335451, 0.46523705, 0.46523705,\n",
       "         0.4988497 , 0.4988497 , 0.30327028, 0.30327028, 0.42873068,\n",
       "         0.42873068, 0.65535519, 0.65535519, 0.70103266, 0.70103266,\n",
       "         0.74937622, 0.74937622, 0.25943676, 0.25943676, 0.74432762,\n",
       "         0.74432762, 0.69253572, 0.69253572, 0.06047272, 0.06047272,\n",
       "         0.62118572, 0.62118572, 0.67987956, 0.67987956, 0.0074676 ,\n",
       "         0.0074676 , 0.19502079, 0.19502079, 0.98685506, 0.98685506,\n",
       "         0.13620021, 0.13620021, 0.57162526, 0.57162526, 0.42645555,\n",
       "         0.42645555, 0.86571484, 0.86571484, 0.31457355, 0.31457355,\n",
       "         0.5497658 , 0.5497658 , 0.24710211, 0.24710211, 0.21698863,\n",
       "         0.21698863, 0.38685571, 0.38685571, 0.10870641, 0.10870641,\n",
       "         0.5124551 , 0.5124551 , 0.03574917, 0.03574917, 0.09721273,\n",
       "         0.09721273, 0.34277367, 0.34277367, 0.34170045, 0.34170045,\n",
       "         0.45307068, 0.45307068, 0.59323901, 0.59323901, 0.767478  ,\n",
       "         0.767478  , 0.29718427, 0.29718427, 0.61918466, 0.61918466,\n",
       "         0.46068446, 0.46068446, 0.15586925, 0.15586925, 0.13961153,\n",
       "         0.13961153, 0.94661052, 0.94661052, 0.24541808, 0.24541808,\n",
       "         0.27853681, 0.27853681, 0.02319685, 0.02319685, 0.48043815,\n",
       "         0.48043815, 0.99222395, 0.99222395, 0.46049298, 0.46049298,\n",
       "         0.70796222, 0.70796222, 0.29689432, 0.29689432, 0.17036871,\n",
       "         0.17036871, 0.52665664, 0.52665664, 0.10296927, 0.10296927])}}"
      ]
     },
     "execution_count": 11,
     "metadata": {},
     "output_type": "execute_result"
    }
   ],
   "source": [
    "ds = load_by_id(run_id_n)\n",
    "ds.get_parameter_data('x1')"
   ]
  },
  {
   "cell_type": "markdown",
   "metadata": {},
   "source": [
    "And a dataset stored as binary arrays"
   ]
  },
  {
   "cell_type": "code",
   "execution_count": 12,
   "metadata": {
    "scrolled": true
   },
   "outputs": [
    {
     "data": {
      "text/plain": [
       "{'x1': {'x1': array([[0.73603827],\n",
       "         [0.73603827],\n",
       "         [0.96909429],\n",
       "         [0.96909429],\n",
       "         [0.3205626 ],\n",
       "         [0.3205626 ],\n",
       "         [0.07267362],\n",
       "         [0.07267362],\n",
       "         [0.94647361],\n",
       "         [0.94647361],\n",
       "         [0.08091219],\n",
       "         [0.08091219],\n",
       "         [0.21010833],\n",
       "         [0.21010833],\n",
       "         [0.16714487],\n",
       "         [0.16714487],\n",
       "         [0.64167679],\n",
       "         [0.64167679],\n",
       "         [0.36886197],\n",
       "         [0.36886197],\n",
       "         [0.07612498],\n",
       "         [0.07612498],\n",
       "         [0.67110871],\n",
       "         [0.67110871],\n",
       "         [0.47444481],\n",
       "         [0.47444481],\n",
       "         [0.84116956],\n",
       "         [0.84116956],\n",
       "         [0.66655975],\n",
       "         [0.66655975],\n",
       "         [0.60434206],\n",
       "         [0.60434206],\n",
       "         [0.18370792],\n",
       "         [0.18370792],\n",
       "         [0.9382214 ],\n",
       "         [0.9382214 ],\n",
       "         [0.80283541],\n",
       "         [0.80283541],\n",
       "         [0.31887587],\n",
       "         [0.31887587],\n",
       "         [0.73250317],\n",
       "         [0.73250317],\n",
       "         [0.48820982],\n",
       "         [0.48820982],\n",
       "         [0.23545883],\n",
       "         [0.23545883],\n",
       "         [0.88925868],\n",
       "         [0.88925868],\n",
       "         [0.4812543 ],\n",
       "         [0.4812543 ],\n",
       "         [0.84354917],\n",
       "         [0.84354917],\n",
       "         [0.90345161],\n",
       "         [0.90345161],\n",
       "         [0.80729681],\n",
       "         [0.80729681],\n",
       "         [0.3294822 ],\n",
       "         [0.3294822 ],\n",
       "         [0.95187628],\n",
       "         [0.95187628],\n",
       "         [0.47530543],\n",
       "         [0.47530543],\n",
       "         [0.89159809],\n",
       "         [0.89159809],\n",
       "         [0.20028592],\n",
       "         [0.20028592],\n",
       "         [0.40393644],\n",
       "         [0.40393644],\n",
       "         [0.3638106 ],\n",
       "         [0.3638106 ],\n",
       "         [0.25937351],\n",
       "         [0.25937351],\n",
       "         [0.62199094],\n",
       "         [0.62199094],\n",
       "         [0.57155593],\n",
       "         [0.57155593],\n",
       "         [0.01823626],\n",
       "         [0.01823626],\n",
       "         [0.18354638],\n",
       "         [0.18354638],\n",
       "         [0.43098601],\n",
       "         [0.43098601],\n",
       "         [0.0184103 ],\n",
       "         [0.0184103 ],\n",
       "         [0.74348565],\n",
       "         [0.74348565],\n",
       "         [0.91300292],\n",
       "         [0.91300292],\n",
       "         [0.63155428],\n",
       "         [0.63155428],\n",
       "         [0.53930198],\n",
       "         [0.53930198],\n",
       "         [0.63881472],\n",
       "         [0.63881472],\n",
       "         [0.09294064],\n",
       "         [0.09294064],\n",
       "         [0.16161955],\n",
       "         [0.16161955],\n",
       "         [0.84608552],\n",
       "         [0.84608552],\n",
       "         [0.33515811],\n",
       "         [0.33515811],\n",
       "         [0.86010229],\n",
       "         [0.86010229],\n",
       "         [0.41422503],\n",
       "         [0.41422503],\n",
       "         [0.82390702],\n",
       "         [0.82390702],\n",
       "         [0.97855196],\n",
       "         [0.97855196],\n",
       "         [0.99806712],\n",
       "         [0.99806712],\n",
       "         [0.25532818],\n",
       "         [0.25532818],\n",
       "         [0.38380621],\n",
       "         [0.38380621],\n",
       "         [0.05578559],\n",
       "         [0.05578559],\n",
       "         [0.26408066],\n",
       "         [0.26408066],\n",
       "         [0.75747899],\n",
       "         [0.75747899],\n",
       "         [0.86258909],\n",
       "         [0.86258909],\n",
       "         [0.31762977],\n",
       "         [0.31762977],\n",
       "         [0.01063055],\n",
       "         [0.01063055],\n",
       "         [0.61126172],\n",
       "         [0.61126172],\n",
       "         [0.66276816],\n",
       "         [0.66276816],\n",
       "         [0.2517114 ],\n",
       "         [0.2517114 ],\n",
       "         [0.93334813],\n",
       "         [0.93334813],\n",
       "         [0.64110394],\n",
       "         [0.64110394],\n",
       "         [0.18449575],\n",
       "         [0.18449575],\n",
       "         [0.97703818],\n",
       "         [0.97703818],\n",
       "         [0.47661275],\n",
       "         [0.47661275],\n",
       "         [0.71348585],\n",
       "         [0.71348585],\n",
       "         [0.0443109 ],\n",
       "         [0.0443109 ],\n",
       "         [0.27952203],\n",
       "         [0.27952203],\n",
       "         [0.15071509],\n",
       "         [0.15071509],\n",
       "         [0.75339405],\n",
       "         [0.75339405],\n",
       "         [0.45137845],\n",
       "         [0.45137845],\n",
       "         [0.92744181],\n",
       "         [0.92744181],\n",
       "         [0.95245393],\n",
       "         [0.95245393],\n",
       "         [0.19159607],\n",
       "         [0.19159607],\n",
       "         [0.18092529],\n",
       "         [0.18092529],\n",
       "         [0.60976642],\n",
       "         [0.60976642],\n",
       "         [0.17241058],\n",
       "         [0.17241058],\n",
       "         [0.27541878],\n",
       "         [0.27541878],\n",
       "         [0.84912966],\n",
       "         [0.84912966],\n",
       "         [0.36515408],\n",
       "         [0.36515408],\n",
       "         [0.14116184],\n",
       "         [0.14116184],\n",
       "         [0.26317413],\n",
       "         [0.26317413],\n",
       "         [0.69650196],\n",
       "         [0.69650196],\n",
       "         [0.97682418],\n",
       "         [0.97682418],\n",
       "         [0.24696766],\n",
       "         [0.24696766],\n",
       "         [0.93218569],\n",
       "         [0.93218569],\n",
       "         [0.86113824],\n",
       "         [0.86113824],\n",
       "         [0.56741648],\n",
       "         [0.56741648],\n",
       "         [0.89278416],\n",
       "         [0.89278416],\n",
       "         [0.7205214 ],\n",
       "         [0.7205214 ],\n",
       "         [0.15347547],\n",
       "         [0.15347547],\n",
       "         [0.49341862],\n",
       "         [0.49341862],\n",
       "         [0.2515212 ],\n",
       "         [0.2515212 ]])}}"
      ]
     },
     "execution_count": 12,
     "metadata": {},
     "output_type": "execute_result"
    }
   ],
   "source": [
    "ds = load_by_id(run_id_a)\n",
    "ds.get_parameter_data('x1')"
   ]
  },
  {
   "cell_type": "code",
   "execution_count": null,
   "metadata": {},
   "outputs": [],
   "source": []
  }
 ],
 "metadata": {
  "kernelspec": {
   "display_name": "Python 3",
   "language": "python",
   "name": "python3"
  },
  "language_info": {
   "codemirror_mode": {
    "name": "ipython",
    "version": 3
   },
   "file_extension": ".py",
   "mimetype": "text/x-python",
   "name": "python",
   "nbconvert_exporter": "python",
   "pygments_lexer": "ipython3",
   "version": "3.7.5"
  },
  "nbsphinx": {
   "timeout": 600
  },
  "toc": {
   "base_numbering": 1,
   "nav_menu": {},
   "number_sections": true,
   "sideBar": true,
   "skip_h1_title": false,
   "title_cell": "Table of Contents",
   "title_sidebar": "Contents",
   "toc_cell": false,
   "toc_position": {},
   "toc_section_display": true,
   "toc_window_display": false
  },
  "varInspector": {
   "cols": {
    "lenName": 16,
    "lenType": 16,
    "lenVar": 40
   },
   "kernels_config": {
    "python": {
     "delete_cmd_postfix": "",
     "delete_cmd_prefix": "del ",
     "library": "var_list.py",
     "varRefreshCmd": "print(var_dic_list())"
    },
    "r": {
     "delete_cmd_postfix": ") ",
     "delete_cmd_prefix": "rm(",
     "library": "var_list.r",
     "varRefreshCmd": "cat(var_dic_list()) "
    }
   },
   "types_to_exclude": [
    "module",
    "function",
    "builtin_function_or_method",
    "instance",
    "_Feature"
   ],
   "window_display": false
  }
 },
 "nbformat": 4,
 "nbformat_minor": 2
}
