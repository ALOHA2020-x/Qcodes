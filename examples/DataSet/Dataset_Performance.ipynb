{
 "cells": [
  {
   "cell_type": "markdown",
   "metadata": {},
   "source": [
    "# DataSet Performance\n",
    "\n",
    "This notebook shows the trade-off between inserting data into a database row-by-row and as binary blobs. Inserting the data row-by-row means that we have direct access to all the data and may perform queries directly on the values of the data. On the other hand, as we shall see, this is much slower than inserting the data directly as binary blobs."
   ]
  },
  {
   "cell_type": "markdown",
   "metadata": {},
   "source": [
    "First, we choose a new location for the database to ensure that we don't add a bunch of benchmarking data to the default one."
   ]
  },
  {
   "cell_type": "code",
   "execution_count": 1,
   "metadata": {
    "execution": {
     "iopub.execute_input": "2020-09-28T09:53:22.460844Z",
     "iopub.status.busy": "2020-09-28T09:53:22.460216Z",
     "iopub.status.idle": "2020-09-28T09:53:23.487715Z",
     "shell.execute_reply": "2020-09-28T09:53:23.486851Z"
    }
   },
   "outputs": [
    {
     "name": "stdout",
     "output_type": "stream",
     "text": [
      "Logging hadn't been started.\n",
      "Activating auto-logging. Current session state plus future input saved.\n",
      "Filename       : /home/vsts/.qcodes/logs/command_history.log\n",
      "Mode           : append\n",
      "Output logging : True\n",
      "Raw input log  : False\n",
      "Timestamping   : True\n",
      "State          : active\n"
     ]
    },
    {
     "name": "stdout",
     "output_type": "stream",
     "text": [
      "Qcodes Logfile : /home/vsts/.qcodes/logs/200928-18969-qcodes.log\n"
     ]
    }
   ],
   "source": [
    "import os\n",
    "cwd = os.getcwd()\n",
    "import qcodes as qc\n",
    "qc.config[\"core\"][\"db_location\"] = os.path.join(cwd, 'testing.db')\n"
   ]
  },
  {
   "cell_type": "code",
   "execution_count": 2,
   "metadata": {
    "execution": {
     "iopub.execute_input": "2020-09-28T09:53:23.493565Z",
     "iopub.status.busy": "2020-09-28T09:53:23.492502Z",
     "iopub.status.idle": "2020-09-28T09:53:23.676101Z",
     "shell.execute_reply": "2020-09-28T09:53:23.675127Z"
    }
   },
   "outputs": [],
   "source": [
    "%matplotlib inline\n",
    "import time\n",
    "import matplotlib.pyplot as plt\n",
    "import numpy as np\n",
    "\n",
    "import qcodes as qc\n",
    "from qcodes.instrument.parameter import ManualParameter\n",
    "from qcodes.dataset.experiment_container import (Experiment,\n",
    "                                                 load_last_experiment,\n",
    "                                                 new_experiment)\n",
    "from qcodes.dataset.sqlite.database import initialise_database\n",
    "from qcodes import load_or_create_experiment\n",
    "from qcodes.dataset.measurements import Measurement"
   ]
  },
  {
   "cell_type": "code",
   "execution_count": 3,
   "metadata": {
    "execution": {
     "iopub.execute_input": "2020-09-28T09:53:23.680510Z",
     "iopub.status.busy": "2020-09-28T09:53:23.679375Z",
     "iopub.status.idle": "2020-09-28T09:53:23.789799Z",
     "shell.execute_reply": "2020-09-28T09:53:23.789328Z"
    }
   },
   "outputs": [
    {
     "name": "stdout",
     "output_type": "stream",
     "text": [
      "\r",
      "0it [00:00, ?it/s]"
     ]
    },
    {
     "name": "stdout",
     "output_type": "stream",
     "text": [
      "\r",
      "Upgrading database; v0 -> v1: : 0it [00:00, ?it/s]"
     ]
    },
    {
     "name": "stdout",
     "output_type": "stream",
     "text": [
      "\r",
      "Upgrading database; v0 -> v1: : 0it [00:00, ?it/s]"
     ]
    },
    {
     "name": "stdout",
     "output_type": "stream",
     "text": [
      "\n",
      "\r",
      "  0%|          | 0/1 [00:00<?, ?it/s]"
     ]
    },
    {
     "name": "stdout",
     "output_type": "stream",
     "text": [
      "\r",
      "Upgrading database; v1 -> v2:   0%|          | 0/1 [00:00<?, ?it/s]"
     ]
    },
    {
     "name": "stdout",
     "output_type": "stream",
     "text": [
      "\r",
      "Upgrading database; v1 -> v2: 100%|██████████| 1/1 [00:00<00:00, 415.57it/s]"
     ]
    },
    {
     "name": "stdout",
     "output_type": "stream",
     "text": [
      "\n",
      "\r",
      "0it [00:00, ?it/s]"
     ]
    },
    {
     "name": "stdout",
     "output_type": "stream",
     "text": [
      "\r",
      "Upgrading database; v2 -> v3: : 0it [00:00, ?it/s]"
     ]
    },
    {
     "name": "stdout",
     "output_type": "stream",
     "text": [
      "\r",
      "Upgrading database; v2 -> v3: : 0it [00:00, ?it/s]"
     ]
    },
    {
     "name": "stdout",
     "output_type": "stream",
     "text": [
      "\n",
      "\r",
      "0it [00:00, ?it/s]"
     ]
    },
    {
     "name": "stdout",
     "output_type": "stream",
     "text": [
      "\r",
      "Upgrading database; v3 -> v4: : 0it [00:00, ?it/s]"
     ]
    },
    {
     "name": "stdout",
     "output_type": "stream",
     "text": [
      "\r",
      "Upgrading database; v3 -> v4: : 0it [00:00, ?it/s]"
     ]
    },
    {
     "name": "stdout",
     "output_type": "stream",
     "text": [
      "\n",
      "\r",
      "  0%|          | 0/1 [00:00<?, ?it/s]"
     ]
    },
    {
     "name": "stdout",
     "output_type": "stream",
     "text": [
      "\r",
      "Upgrading database; v4 -> v5:   0%|          | 0/1 [00:00<?, ?it/s]"
     ]
    },
    {
     "name": "stdout",
     "output_type": "stream",
     "text": [
      "\r",
      "Upgrading database; v4 -> v5: 100%|██████████| 1/1 [00:00<00:00, 356.08it/s]"
     ]
    },
    {
     "name": "stdout",
     "output_type": "stream",
     "text": [
      "\n",
      "\r",
      "0it [00:00, ?it/s]"
     ]
    },
    {
     "name": "stdout",
     "output_type": "stream",
     "text": [
      "\r",
      "Upgrading database; v5 -> v6: : 0it [00:00, ?it/s]"
     ]
    },
    {
     "name": "stdout",
     "output_type": "stream",
     "text": [
      "\r",
      "Upgrading database; v5 -> v6: : 0it [00:00, ?it/s]"
     ]
    },
    {
     "name": "stdout",
     "output_type": "stream",
     "text": [
      "\n",
      "\r",
      "  0%|          | 0/1 [00:00<?, ?it/s]"
     ]
    },
    {
     "name": "stdout",
     "output_type": "stream",
     "text": [
      "\r",
      "Upgrading database; v6 -> v7:   0%|          | 0/1 [00:00<?, ?it/s]"
     ]
    },
    {
     "name": "stdout",
     "output_type": "stream",
     "text": [
      "\r",
      "Upgrading database; v6 -> v7: 100%|██████████| 1/1 [00:00<00:00, 285.39it/s]"
     ]
    },
    {
     "name": "stdout",
     "output_type": "stream",
     "text": [
      "\n",
      "\r",
      "  0%|          | 0/1 [00:00<?, ?it/s]"
     ]
    },
    {
     "name": "stdout",
     "output_type": "stream",
     "text": [
      "\r",
      "Upgrading database; v7 -> v8:   0%|          | 0/1 [00:00<?, ?it/s]"
     ]
    },
    {
     "name": "stdout",
     "output_type": "stream",
     "text": [
      "\r",
      "Upgrading database; v7 -> v8: 100%|██████████| 1/1 [00:00<00:00, 332.12it/s]"
     ]
    },
    {
     "name": "stdout",
     "output_type": "stream",
     "text": [
      "\n",
      "\r",
      "  0%|          | 0/1 [00:00<?, ?it/s]"
     ]
    },
    {
     "name": "stdout",
     "output_type": "stream",
     "text": [
      "\r",
      "Upgrading database; v8 -> v9:   0%|          | 0/1 [00:00<?, ?it/s]"
     ]
    },
    {
     "name": "stdout",
     "output_type": "stream",
     "text": [
      "\r",
      "Upgrading database; v8 -> v9: 100%|██████████| 1/1 [00:00<00:00, 370.06it/s]"
     ]
    },
    {
     "name": "stdout",
     "output_type": "stream",
     "text": [
      "\n"
     ]
    }
   ],
   "source": [
    "initialise_database()\n",
    "exp = load_or_create_experiment(experiment_name='tutorial_exp', sample_name=\"no sample\")"
   ]
  },
  {
   "cell_type": "markdown",
   "metadata": {},
   "source": [
    "Here, we define a simple function to benchmark the time it takes to insert n points with either numeric or array data type.\n",
    "We will compare both the time used to call ``add_result`` and the time used for the full measurement."
   ]
  },
  {
   "cell_type": "code",
   "execution_count": 4,
   "metadata": {
    "execution": {
     "iopub.execute_input": "2020-09-28T09:53:23.797834Z",
     "iopub.status.busy": "2020-09-28T09:53:23.796343Z",
     "iopub.status.idle": "2020-09-28T09:53:23.801792Z",
     "shell.execute_reply": "2020-09-28T09:53:23.800448Z"
    }
   },
   "outputs": [],
   "source": [
    "def insert_data(paramtype, npoints, nreps=1):\n",
    "\n",
    "    meas = Measurement(exp=exp)\n",
    "\n",
    "    x1 = ManualParameter('x1')\n",
    "    x2 = ManualParameter('x2')\n",
    "    x3 = ManualParameter('x3')\n",
    "    y1 = ManualParameter('y1')\n",
    "    y2 = ManualParameter('y2')\n",
    "\n",
    "    meas.register_parameter(x1, paramtype=paramtype)\n",
    "    meas.register_parameter(x2, paramtype=paramtype)\n",
    "    meas.register_parameter(x3, paramtype=paramtype)\n",
    "    meas.register_parameter(y1, setpoints=[x1, x2, x3],\n",
    "                            paramtype=paramtype)\n",
    "    meas.register_parameter(y2, setpoints=[x1, x2, x3],\n",
    "                            paramtype=paramtype)\n",
    "    start = time.perf_counter()\n",
    "    with meas.run() as datasaver:\n",
    "        start_adding = time.perf_counter()\n",
    "        for i in range(nreps):\n",
    "            datasaver.add_result((x1, np.random.rand(npoints)),\n",
    "                                 (x2, np.random.rand(npoints)),\n",
    "                                 (x3, np.random.rand(npoints)),\n",
    "                                 (y1, np.random.rand(npoints)),\n",
    "                                 (y2, np.random.rand(npoints)))\n",
    "        stop_adding = time.perf_counter()\n",
    "        run_id = datasaver.run_id\n",
    "    stop = time.perf_counter()\n",
    "    tot_time = stop - start\n",
    "    add_time = stop_adding - start_adding\n",
    "    return tot_time, add_time, run_id"
   ]
  },
  {
   "cell_type": "markdown",
   "metadata": {},
   "source": [
    "## Comparison between numeric/array data and binary blob"
   ]
  },
  {
   "cell_type": "markdown",
   "metadata": {},
   "source": [
    "### Case1: Short experiment time"
   ]
  },
  {
   "cell_type": "code",
   "execution_count": 5,
   "metadata": {
    "execution": {
     "iopub.execute_input": "2020-09-28T09:53:23.810010Z",
     "iopub.status.busy": "2020-09-28T09:53:23.809311Z",
     "iopub.status.idle": "2020-09-28T09:53:24.601718Z",
     "shell.execute_reply": "2020-09-28T09:53:24.600760Z"
    }
   },
   "outputs": [
    {
     "name": "stdout",
     "output_type": "stream",
     "text": [
      "Starting experimental run with id: 1. \n",
      "Starting experimental run with id: 2. \n",
      "Starting experimental run with id: 3. \n",
      "Starting experimental run with id: 4. \n",
      "Starting experimental run with id: 5. \n"
     ]
    },
    {
     "name": "stdout",
     "output_type": "stream",
     "text": [
      "Starting experimental run with id: 6. \n"
     ]
    },
    {
     "name": "stdout",
     "output_type": "stream",
     "text": [
      "Starting experimental run with id: 7. \n"
     ]
    },
    {
     "name": "stdout",
     "output_type": "stream",
     "text": [
      "Starting experimental run with id: 8. \n",
      "Starting experimental run with id: 9. \n"
     ]
    },
    {
     "name": "stdout",
     "output_type": "stream",
     "text": [
      "Starting experimental run with id: 10. \n",
      "Starting experimental run with id: 11. \n"
     ]
    },
    {
     "name": "stdout",
     "output_type": "stream",
     "text": [
      "Starting experimental run with id: 12. \n",
      "Starting experimental run with id: 13. \n"
     ]
    },
    {
     "name": "stdout",
     "output_type": "stream",
     "text": [
      "Starting experimental run with id: 14. \n"
     ]
    }
   ],
   "source": [
    "sizes = [1,500,1000,2000,3000,4000,5000]\n",
    "t_numeric = []\n",
    "t_numeric_add = []\n",
    "t_array = []\n",
    "t_array_add = []\n",
    "for size in sizes:\n",
    "    tn, tna, run_id_n =  insert_data('numeric', size)\n",
    "    t_numeric.append(tn)\n",
    "    t_numeric_add.append(tna)\n",
    "\n",
    "    ta, taa, run_id_a =  insert_data('array', size)\n",
    "    t_array.append(ta)\n",
    "    t_array_add.append(taa)"
   ]
  },
  {
   "cell_type": "code",
   "execution_count": 6,
   "metadata": {
    "execution": {
     "iopub.execute_input": "2020-09-28T09:53:24.621285Z",
     "iopub.status.busy": "2020-09-28T09:53:24.620181Z",
     "iopub.status.idle": "2020-09-28T09:53:24.860827Z",
     "shell.execute_reply": "2020-09-28T09:53:24.861309Z"
    }
   },
   "outputs": [
    {
     "data": {
      "image/png": "[encoded data removed]",
      "text/plain": [
       "<Figure size 432x288 with 1 Axes>"
      ]
     },
     "metadata": {
      "needs_background": "light"
     },
     "output_type": "display_data"
    }
   ],
   "source": [
    "fig, ax = plt.subplots(1,1)\n",
    "ax.plot(sizes, t_numeric, 'o-', label='Inserting row-by-row')\n",
    "ax.plot(sizes, t_numeric_add, 'o-', label='Inserting row-by-row: add_result only')\n",
    "ax.plot(sizes, t_array, 'd-', label='Inserting as binary blob')\n",
    "ax.plot(sizes, t_array_add, 'd-', label='Inserting as binary blob: add_result only')\n",
    "ax.legend()\n",
    "ax.set_xlabel('Array length')\n",
    "ax.set_ylabel('Time (s)')\n",
    "fig.tight_layout()"
   ]
  },
  {
   "cell_type": "markdown",
   "metadata": {},
   "source": [
    "As shown in the latter figure, the time to setup and and close the experiment is approximately 0.4 sec. In case of small array sizes, the difference between inserting values of data as arrays and inserting them row-by-row is relatively unimportant. At larger array sizes, i.e. above 10000 points, the cost of writing data as individual datapoints starts to become important.\n"
   ]
  },
  {
   "cell_type": "markdown",
   "metadata": {},
   "source": [
    "### Case2: Long experiment time "
   ]
  },
  {
   "cell_type": "code",
   "execution_count": 7,
   "metadata": {
    "execution": {
     "iopub.execute_input": "2020-09-28T09:53:24.867866Z",
     "iopub.status.busy": "2020-09-28T09:53:24.867170Z",
     "iopub.status.idle": "2020-09-28T09:54:18.101051Z",
     "shell.execute_reply": "2020-09-28T09:54:18.100212Z"
    }
   },
   "outputs": [
    {
     "name": "stdout",
     "output_type": "stream",
     "text": [
      "Starting experimental run with id: 15. \n",
      "Starting experimental run with id: 16. \n",
      "Starting experimental run with id: 17. \n"
     ]
    },
    {
     "name": "stdout",
     "output_type": "stream",
     "text": [
      "Starting experimental run with id: 18. \n",
      "Starting experimental run with id: 19. \n"
     ]
    },
    {
     "name": "stdout",
     "output_type": "stream",
     "text": [
      "Starting experimental run with id: 20. \n"
     ]
    },
    {
     "name": "stdout",
     "output_type": "stream",
     "text": [
      "Starting experimental run with id: 21. \n"
     ]
    },
    {
     "name": "stdout",
     "output_type": "stream",
     "text": [
      "Starting experimental run with id: 22. \n"
     ]
    },
    {
     "name": "stdout",
     "output_type": "stream",
     "text": [
      "Starting experimental run with id: 23. \n"
     ]
    },
    {
     "name": "stdout",
     "output_type": "stream",
     "text": [
      "Starting experimental run with id: 24. \n"
     ]
    },
    {
     "name": "stdout",
     "output_type": "stream",
     "text": [
      "Starting experimental run with id: 25. \n"
     ]
    },
    {
     "name": "stdout",
     "output_type": "stream",
     "text": [
      "Starting experimental run with id: 26. \n"
     ]
    },
    {
     "name": "stdout",
     "output_type": "stream",
     "text": [
      "Starting experimental run with id: 27. \n"
     ]
    },
    {
     "name": "stdout",
     "output_type": "stream",
     "text": [
      "Starting experimental run with id: 28. \n"
     ]
    }
   ],
   "source": [
    "sizes = [1,500,1000,2000,3000,4000,5000]\n",
    "nreps = 100\n",
    "t_numeric = []\n",
    "t_numeric_add = []\n",
    "t_numeric_run_ids = []\n",
    "t_array = []\n",
    "t_array_add = []\n",
    "t_array_run_ids = []\n",
    "for size in sizes:\n",
    "    tn, tna, run_id_n =  insert_data('numeric', size, nreps=nreps)\n",
    "    t_numeric.append(tn)\n",
    "    t_numeric_add.append(tna)\n",
    "    t_numeric_run_ids.append(run_id_n)\n",
    "\n",
    "    ta, taa, run_id_a =  insert_data('array', size, nreps=nreps)\n",
    "    t_array.append(ta)\n",
    "    t_array_add.append(taa)\n",
    "    t_array_run_ids.append(run_id_a)"
   ]
  },
  {
   "cell_type": "code",
   "execution_count": 8,
   "metadata": {
    "execution": {
     "iopub.execute_input": "2020-09-28T09:54:18.121109Z",
     "iopub.status.busy": "2020-09-28T09:54:18.118914Z",
     "iopub.status.idle": "2020-09-28T09:54:18.333632Z",
     "shell.execute_reply": "2020-09-28T09:54:18.334012Z"
    },
    "scrolled": true
   },
   "outputs": [
    {
     "data": {
      "image/png": "[encoded data removed]",
      "text/plain": [
       "<Figure size 432x288 with 1 Axes>"
      ]
     },
     "metadata": {
      "needs_background": "light"
     },
     "output_type": "display_data"
    }
   ],
   "source": [
    "fig, ax = plt.subplots(1,1)\n",
    "ax.plot(sizes, t_numeric, 'o-', label='Inserting row-by-row')\n",
    "ax.plot(sizes, t_numeric_add, 'o-', label='Inserting row-by-row: add_result only')\n",
    "ax.plot(sizes, t_array, 'd-', label='Inserting as binary blob')\n",
    "ax.plot(sizes, t_array_add, 'd-', label='Inserting as binary blob: add_result only')\n",
    "ax.legend()\n",
    "ax.set_xlabel('Array length')\n",
    "ax.set_ylabel('Time (s)')\n",
    "fig.tight_layout()"
   ]
  },
  {
   "cell_type": "markdown",
   "metadata": {},
   "source": [
    "However, as we increase the length of the experiment, as seen here by repeating the insertion 100 times, we see a big difference between inserting values of the data row-by-row and inserting it as a binary blob."
   ]
  },
  {
   "cell_type": "markdown",
   "metadata": {},
   "source": [
    "## Loading the data "
   ]
  },
  {
   "cell_type": "code",
   "execution_count": 9,
   "metadata": {
    "execution": {
     "iopub.execute_input": "2020-09-28T09:54:18.337689Z",
     "iopub.status.busy": "2020-09-28T09:54:18.336958Z",
     "iopub.status.idle": "2020-09-28T09:54:18.340525Z",
     "shell.execute_reply": "2020-09-28T09:54:18.340101Z"
    }
   },
   "outputs": [],
   "source": [
    "from qcodes.dataset.data_set import load_by_id\n",
    "from qcodes.dataset.data_export import get_data_by_id"
   ]
  },
  {
   "cell_type": "markdown",
   "metadata": {},
   "source": [
    "As usual you can load the data by using the ``load_by_id`` function but you will notice that the different storage methods\n",
    "are reflected in shape of the data as it is retrieved. "
   ]
  },
  {
   "cell_type": "code",
   "execution_count": 10,
   "metadata": {
    "execution": {
     "iopub.execute_input": "2020-09-28T09:54:18.344614Z",
     "iopub.status.busy": "2020-09-28T09:54:18.343975Z",
     "iopub.status.idle": "2020-09-28T09:54:18.347480Z",
     "shell.execute_reply": "2020-09-28T09:54:18.347022Z"
    }
   },
   "outputs": [],
   "source": [
    "run_id_n = t_numeric_run_ids[0]\n",
    "run_id_a = t_array_run_ids[0]"
   ]
  },
  {
   "cell_type": "code",
   "execution_count": 11,
   "metadata": {
    "execution": {
     "iopub.execute_input": "2020-09-28T09:54:18.351328Z",
     "iopub.status.busy": "2020-09-28T09:54:18.350782Z",
     "iopub.status.idle": "2020-09-28T09:54:18.360041Z",
     "shell.execute_reply": "2020-09-28T09:54:18.359291Z"
    },
    "scrolled": true
   },
   "outputs": [
    {
     "data": {
      "text/plain": [
       "{'x1': {'x1': array([0.91238822, 0.91238822, 0.94823196, 0.94823196, 0.10330346,\n",
       "         0.10330346, 0.61217816, 0.61217816, 0.9290635 , 0.9290635 ,\n",
       "         0.11864055, 0.11864055, 0.97286222, 0.97286222, 0.07047743,\n",
       "         0.07047743, 0.71062233, 0.71062233, 0.58362413, 0.58362413,\n",
       "         0.07411149, 0.07411149, 0.59608449, 0.59608449, 0.04095584,\n",
       "         0.04095584, 0.271425  , 0.271425  , 0.79484557, 0.79484557,\n",
       "         0.59979218, 0.59979218, 0.11439954, 0.11439954, 0.64495698,\n",
       "         0.64495698, 0.35756812, 0.35756812, 0.74608762, 0.74608762,\n",
       "         0.75456734, 0.75456734, 0.30355196, 0.30355196, 0.4676973 ,\n",
       "         0.4676973 , 0.69103069, 0.69103069, 0.81993912, 0.81993912,\n",
       "         0.87135434, 0.87135434, 0.18618459, 0.18618459, 0.96373405,\n",
       "         0.96373405, 0.1096796 , 0.1096796 , 0.82612684, 0.82612684,\n",
       "         0.14625018, 0.14625018, 0.29068565, 0.29068565, 0.64408538,\n",
       "         0.64408538, 0.54953658, 0.54953658, 0.77454582, 0.77454582,\n",
       "         0.76885254, 0.76885254, 0.09043588, 0.09043588, 0.50044616,\n",
       "         0.50044616, 0.1317335 , 0.1317335 , 0.45551241, 0.45551241,\n",
       "         0.83505337, 0.83505337, 0.83843066, 0.83843066, 0.81198494,\n",
       "         0.81198494, 0.83118225, 0.83118225, 0.17781199, 0.17781199,\n",
       "         0.11852142, 0.11852142, 0.54891988, 0.54891988, 0.25673626,\n",
       "         0.25673626, 0.85552028, 0.85552028, 0.28653143, 0.28653143,\n",
       "         0.36909758, 0.36909758, 0.35785292, 0.35785292, 0.87196104,\n",
       "         0.87196104, 0.26614618, 0.26614618, 0.82448497, 0.82448497,\n",
       "         0.9288835 , 0.9288835 , 0.32813218, 0.32813218, 0.98386206,\n",
       "         0.98386206, 0.89394003, 0.89394003, 0.84756244, 0.84756244,\n",
       "         0.83344098, 0.83344098, 0.91807923, 0.91807923, 0.05623721,\n",
       "         0.05623721, 0.79271957, 0.79271957, 0.47787221, 0.47787221,\n",
       "         0.52230786, 0.52230786, 0.78808879, 0.78808879, 0.34775776,\n",
       "         0.34775776, 0.62053437, 0.62053437, 0.65847739, 0.65847739,\n",
       "         0.48392412, 0.48392412, 0.72775258, 0.72775258, 0.81983641,\n",
       "         0.81983641, 0.20293304, 0.20293304, 0.04972972, 0.04972972,\n",
       "         0.77007232, 0.77007232, 0.81503318, 0.81503318, 0.21018053,\n",
       "         0.21018053, 0.60442869, 0.60442869, 0.22759852, 0.22759852,\n",
       "         0.40344601, 0.40344601, 0.23420126, 0.23420126, 0.81973574,\n",
       "         0.81973574, 0.62497219, 0.62497219, 0.00432472, 0.00432472,\n",
       "         0.65805469, 0.65805469, 0.78737445, 0.78737445, 0.3937236 ,\n",
       "         0.3937236 , 0.35917448, 0.35917448, 0.34462736, 0.34462736,\n",
       "         0.25901249, 0.25901249, 0.59988219, 0.59988219, 0.30104363,\n",
       "         0.30104363, 0.39558493, 0.39558493, 0.74731787, 0.74731787,\n",
       "         0.96239767, 0.96239767, 0.09970542, 0.09970542, 0.24807905,\n",
       "         0.24807905, 0.67566003, 0.67566003, 0.79592756, 0.79592756])}}"
      ]
     },
     "execution_count": 1,
     "metadata": {},
     "output_type": "execute_result"
    }
   ],
   "source": [
    "ds = load_by_id(run_id_n)\n",
    "ds.get_parameter_data('x1')"
   ]
  },
  {
   "cell_type": "markdown",
   "metadata": {},
   "source": [
    "And a dataset stored as binary arrays"
   ]
  },
  {
   "cell_type": "code",
   "execution_count": 12,
   "metadata": {
    "execution": {
     "iopub.execute_input": "2020-09-28T09:54:18.363861Z",
     "iopub.status.busy": "2020-09-28T09:54:18.363242Z",
     "iopub.status.idle": "2020-09-28T09:54:18.423954Z",
     "shell.execute_reply": "2020-09-28T09:54:18.423490Z"
    },
    "scrolled": true
   },
   "outputs": [
    {
     "data": {
      "text/plain": [
       "{'x1': {'x1': array([[0.70585375],\n",
       "         [0.70585375],\n",
       "         [0.39295986],\n",
       "         [0.39295986],\n",
       "         [0.65227872],\n",
       "         [0.65227872],\n",
       "         [0.4453429 ],\n",
       "         [0.4453429 ],\n",
       "         [0.75144941],\n",
       "         [0.75144941],\n",
       "         [0.00396639],\n",
       "         [0.00396639],\n",
       "         [0.65383201],\n",
       "         [0.65383201],\n",
       "         [0.13910348],\n",
       "         [0.13910348],\n",
       "         [0.433174  ],\n",
       "         [0.433174  ],\n",
       "         [0.59624111],\n",
       "         [0.59624111],\n",
       "         [0.23602729],\n",
       "         [0.23602729],\n",
       "         [0.50893662],\n",
       "         [0.50893662],\n",
       "         [0.68674489],\n",
       "         [0.68674489],\n",
       "         [0.8929687 ],\n",
       "         [0.8929687 ],\n",
       "         [0.03063931],\n",
       "         [0.03063931],\n",
       "         [0.21276919],\n",
       "         [0.21276919],\n",
       "         [0.32437237],\n",
       "         [0.32437237],\n",
       "         [0.64979474],\n",
       "         [0.64979474],\n",
       "         [0.18141522],\n",
       "         [0.18141522],\n",
       "         [0.45733406],\n",
       "         [0.45733406],\n",
       "         [0.73735244],\n",
       "         [0.73735244],\n",
       "         [0.75119918],\n",
       "         [0.75119918],\n",
       "         [0.26049831],\n",
       "         [0.26049831],\n",
       "         [0.49241383],\n",
       "         [0.49241383],\n",
       "         [0.85562856],\n",
       "         [0.85562856],\n",
       "         [0.25704462],\n",
       "         [0.25704462],\n",
       "         [0.71092712],\n",
       "         [0.71092712],\n",
       "         [0.21015568],\n",
       "         [0.21015568],\n",
       "         [0.64274127],\n",
       "         [0.64274127],\n",
       "         [0.38708528],\n",
       "         [0.38708528],\n",
       "         [0.95134497],\n",
       "         [0.95134497],\n",
       "         [0.36283036],\n",
       "         [0.36283036],\n",
       "         [0.23535833],\n",
       "         [0.23535833],\n",
       "         [0.86646011],\n",
       "         [0.86646011],\n",
       "         [0.32008249],\n",
       "         [0.32008249],\n",
       "         [0.26060599],\n",
       "         [0.26060599],\n",
       "         [0.35023938],\n",
       "         [0.35023938],\n",
       "         [0.55310636],\n",
       "         [0.55310636],\n",
       "         [0.99469058],\n",
       "         [0.99469058],\n",
       "         [0.78432436],\n",
       "         [0.78432436],\n",
       "         [0.36067132],\n",
       "         [0.36067132],\n",
       "         [0.51902215],\n",
       "         [0.51902215],\n",
       "         [0.61306952],\n",
       "         [0.61306952],\n",
       "         [0.83774285],\n",
       "         [0.83774285],\n",
       "         [0.898613  ],\n",
       "         [0.898613  ],\n",
       "         [0.80683128],\n",
       "         [0.80683128],\n",
       "         [0.18203884],\n",
       "         [0.18203884],\n",
       "         [0.8349964 ],\n",
       "         [0.8349964 ],\n",
       "         [0.9815809 ],\n",
       "         [0.9815809 ],\n",
       "         [0.34601043],\n",
       "         [0.34601043],\n",
       "         [0.21316956],\n",
       "         [0.21316956],\n",
       "         [0.66027611],\n",
       "         [0.66027611],\n",
       "         [0.82366547],\n",
       "         [0.82366547],\n",
       "         [0.10770008],\n",
       "         [0.10770008],\n",
       "         [0.68645595],\n",
       "         [0.68645595],\n",
       "         [0.14165904],\n",
       "         [0.14165904],\n",
       "         [0.16122371],\n",
       "         [0.16122371],\n",
       "         [0.26115334],\n",
       "         [0.26115334],\n",
       "         [0.34893953],\n",
       "         [0.34893953],\n",
       "         [0.44512804],\n",
       "         [0.44512804],\n",
       "         [0.87581619],\n",
       "         [0.87581619],\n",
       "         [0.28725909],\n",
       "         [0.28725909],\n",
       "         [0.02238501],\n",
       "         [0.02238501],\n",
       "         [0.34938665],\n",
       "         [0.34938665],\n",
       "         [0.48506169],\n",
       "         [0.48506169],\n",
       "         [0.79955447],\n",
       "         [0.79955447],\n",
       "         [0.02116707],\n",
       "         [0.02116707],\n",
       "         [0.15101755],\n",
       "         [0.15101755],\n",
       "         [0.25003117],\n",
       "         [0.25003117],\n",
       "         [0.48142119],\n",
       "         [0.48142119],\n",
       "         [0.76031253],\n",
       "         [0.76031253],\n",
       "         [0.91166686],\n",
       "         [0.91166686],\n",
       "         [0.12329464],\n",
       "         [0.12329464],\n",
       "         [0.37756193],\n",
       "         [0.37756193],\n",
       "         [0.05603518],\n",
       "         [0.05603518],\n",
       "         [0.23014152],\n",
       "         [0.23014152],\n",
       "         [0.87099941],\n",
       "         [0.87099941],\n",
       "         [0.2963676 ],\n",
       "         [0.2963676 ],\n",
       "         [0.20077645],\n",
       "         [0.20077645],\n",
       "         [0.25055679],\n",
       "         [0.25055679],\n",
       "         [0.04001356],\n",
       "         [0.04001356],\n",
       "         [0.57049642],\n",
       "         [0.57049642],\n",
       "         [0.85416182],\n",
       "         [0.85416182],\n",
       "         [0.22027807],\n",
       "         [0.22027807],\n",
       "         [0.4230853 ],\n",
       "         [0.4230853 ],\n",
       "         [0.13183654],\n",
       "         [0.13183654],\n",
       "         [0.98353693],\n",
       "         [0.98353693],\n",
       "         [0.93675369],\n",
       "         [0.93675369],\n",
       "         [0.43140314],\n",
       "         [0.43140314],\n",
       "         [0.06307651],\n",
       "         [0.06307651],\n",
       "         [0.09440778],\n",
       "         [0.09440778],\n",
       "         [0.60325944],\n",
       "         [0.60325944],\n",
       "         [0.02856844],\n",
       "         [0.02856844],\n",
       "         [0.53826805],\n",
       "         [0.53826805],\n",
       "         [0.03225565],\n",
       "         [0.03225565],\n",
       "         [0.37442542],\n",
       "         [0.37442542],\n",
       "         [0.25226078],\n",
       "         [0.25226078],\n",
       "         [0.9293951 ],\n",
       "         [0.9293951 ],\n",
       "         [0.7337482 ],\n",
       "         [0.7337482 ],\n",
       "         [0.56344399],\n",
       "         [0.56344399]])}}"
      ]
     },
     "execution_count": 1,
     "metadata": {},
     "output_type": "execute_result"
    }
   ],
   "source": [
    "ds = load_by_id(run_id_a)\n",
    "ds.get_parameter_data('x1')"
   ]
  },
  {
   "cell_type": "code",
   "execution_count": null,
   "metadata": {},
   "outputs": [],
   "source": []
  }
 ],
 "metadata": {
  "kernelspec": {
   "display_name": "Python 3",
   "language": "python",
   "name": "python3"
  },
  "language_info": {
   "codemirror_mode": {
    "name": "ipython",
    "version": 3
   },
   "file_extension": ".py",
   "mimetype": "text/x-python",
   "name": "python",
   "nbconvert_exporter": "python",
   "pygments_lexer": "ipython3",
   "version": "3.7.7"
  },
  "nbsphinx": {
   "timeout": 600
  },
  "toc": {
   "base_numbering": 1,
   "nav_menu": {},
   "number_sections": true,
   "sideBar": true,
   "skip_h1_title": false,
   "title_cell": "Table of Contents",
   "title_sidebar": "Contents",
   "toc_cell": false,
   "toc_position": {},
   "toc_section_display": true,
   "toc_window_display": false
  },
  "varInspector": {
   "cols": {
    "lenName": 16,
    "lenType": 16,
    "lenVar": 40
   },
   "kernels_config": {
    "python": {
     "delete_cmd_postfix": "",
     "delete_cmd_prefix": "del ",
     "library": "var_list.py",
     "varRefreshCmd": "print(var_dic_list())"
    },
    "r": {
     "delete_cmd_postfix": ") ",
     "delete_cmd_prefix": "rm(",
     "library": "var_list.r",
     "varRefreshCmd": "cat(var_dic_list()) "
    }
   },
   "types_to_exclude": [
    "module",
    "function",
    "builtin_function_or_method",
    "instance",
    "_Feature"
   ],
   "window_display": false
  }
 },
 "nbformat": 4,
 "nbformat_minor": 2
}
