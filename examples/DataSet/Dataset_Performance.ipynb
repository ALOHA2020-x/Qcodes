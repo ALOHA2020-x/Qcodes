{
 "cells": [
  {
   "cell_type": "markdown",
   "metadata": {},
   "source": [
    "# DataSet Performance\n",
    "\n",
    "This notebook shows the trade-off between inserting data into a database row-by-row and as binary blobs. Inserting the data row-by-row means that we have direct access to all the data and may perform queries directly on the values of the data. On the other hand, as we shall see, this is much slower than inserting the data directly as binary blobs."
   ]
  },
  {
   "cell_type": "markdown",
   "metadata": {},
   "source": [
    "First, we choose a new location for the database to ensure that we don't add a bunch of benchmarking data to the default one."
   ]
  },
  {
   "cell_type": "code",
   "execution_count": 1,
   "metadata": {
    "execution": {
     "iopub.execute_input": "2021-01-04T07:38:23.669096Z",
     "iopub.status.busy": "2021-01-04T07:38:23.668167Z",
     "iopub.status.idle": "2021-01-04T07:38:24.770547Z",
     "shell.execute_reply": "2021-01-04T07:38:24.769700Z"
    }
   },
   "outputs": [
    {
     "name": "stdout",
     "output_type": "stream",
     "text": [
      "Logging hadn't been started.\n",
      "Activating auto-logging. Current session state plus future input saved.\n",
      "Filename       : /home/vsts/.qcodes/logs/command_history.log\n",
      "Mode           : append\n",
      "Output logging : True\n",
      "Raw input log  : False\n",
      "Timestamping   : True\n",
      "State          : active\n"
     ]
    },
    {
     "name": "stdout",
     "output_type": "stream",
     "text": [
      "Qcodes Logfile : /home/vsts/.qcodes/logs/210104-13337-qcodes.log\n"
     ]
    }
   ],
   "source": [
    "import os\n",
    "cwd = os.getcwd()\n",
    "import qcodes as qc\n",
    "qc.config[\"core\"][\"db_location\"] = os.path.join(cwd, 'testing.db')\n"
   ]
  },
  {
   "cell_type": "code",
   "execution_count": 2,
   "metadata": {
    "execution": {
     "iopub.execute_input": "2021-01-04T07:38:24.776783Z",
     "iopub.status.busy": "2021-01-04T07:38:24.776085Z",
     "iopub.status.idle": "2021-01-04T07:38:24.972882Z",
     "shell.execute_reply": "2021-01-04T07:38:24.972226Z"
    }
   },
   "outputs": [],
   "source": [
    "%matplotlib inline\n",
    "import time\n",
    "import matplotlib.pyplot as plt\n",
    "import numpy as np\n",
    "\n",
    "import qcodes as qc\n",
    "from qcodes.instrument.parameter import ManualParameter\n",
    "from qcodes.dataset.experiment_container import (Experiment,\n",
    "                                                 load_last_experiment,\n",
    "                                                 new_experiment)\n",
    "from qcodes.dataset.sqlite.database import initialise_database\n",
    "from qcodes import load_or_create_experiment\n",
    "from qcodes.dataset.measurements import Measurement"
   ]
  },
  {
   "cell_type": "code",
   "execution_count": 3,
   "metadata": {
    "execution": {
     "iopub.execute_input": "2021-01-04T07:38:24.977082Z",
     "iopub.status.busy": "2021-01-04T07:38:24.976538Z",
     "iopub.status.idle": "2021-01-04T07:38:25.082539Z",
     "shell.execute_reply": "2021-01-04T07:38:25.081949Z"
    }
   },
   "outputs": [
    {
     "name": "stdout",
     "output_type": "stream",
     "text": [
      "\r",
      "0it [00:00, ?it/s]"
     ]
    },
    {
     "name": "stdout",
     "output_type": "stream",
     "text": [
      "\r",
      "Upgrading database; v0 -> v1: : 0it [00:00, ?it/s]"
     ]
    },
    {
     "name": "stdout",
     "output_type": "stream",
     "text": [
      "\r",
      "Upgrading database; v0 -> v1: : 0it [00:00, ?it/s]"
     ]
    },
    {
     "name": "stdout",
     "output_type": "stream",
     "text": [
      "\n",
      "\r",
      "  0%|          | 0/1 [00:00<?, ?it/s]"
     ]
    },
    {
     "name": "stdout",
     "output_type": "stream",
     "text": [
      "\r",
      "Upgrading database; v1 -> v2:   0%|          | 0/1 [00:00<?, ?it/s]"
     ]
    },
    {
     "name": "stdout",
     "output_type": "stream",
     "text": [
      "\r",
      "Upgrading database; v1 -> v2: 100%|██████████| 1/1 [00:00<00:00, 746.18it/s]"
     ]
    },
    {
     "name": "stdout",
     "output_type": "stream",
     "text": [
      "\n",
      "\r",
      "0it [00:00, ?it/s]"
     ]
    },
    {
     "name": "stdout",
     "output_type": "stream",
     "text": [
      "\r",
      "Upgrading database; v2 -> v3: : 0it [00:00, ?it/s]"
     ]
    },
    {
     "name": "stdout",
     "output_type": "stream",
     "text": [
      "\r",
      "Upgrading database; v2 -> v3: : 0it [00:00, ?it/s]"
     ]
    },
    {
     "name": "stdout",
     "output_type": "stream",
     "text": [
      "\n",
      "\r",
      "0it [00:00, ?it/s]"
     ]
    },
    {
     "name": "stdout",
     "output_type": "stream",
     "text": [
      "\r",
      "Upgrading database; v3 -> v4: : 0it [00:00, ?it/s]"
     ]
    },
    {
     "name": "stdout",
     "output_type": "stream",
     "text": [
      "\r",
      "Upgrading database; v3 -> v4: : 0it [00:00, ?it/s]"
     ]
    },
    {
     "name": "stdout",
     "output_type": "stream",
     "text": [
      "\n",
      "\r",
      "  0%|          | 0/1 [00:00<?, ?it/s]"
     ]
    },
    {
     "name": "stdout",
     "output_type": "stream",
     "text": [
      "\r",
      "Upgrading database; v4 -> v5:   0%|          | 0/1 [00:00<?, ?it/s]"
     ]
    },
    {
     "name": "stdout",
     "output_type": "stream",
     "text": [
      "\r",
      "Upgrading database; v4 -> v5: 100%|██████████| 1/1 [00:00<00:00, 636.46it/s]"
     ]
    },
    {
     "name": "stdout",
     "output_type": "stream",
     "text": [
      "\n",
      "\r",
      "0it [00:00, ?it/s]"
     ]
    },
    {
     "name": "stdout",
     "output_type": "stream",
     "text": [
      "\r",
      "Upgrading database; v5 -> v6: : 0it [00:00, ?it/s]"
     ]
    },
    {
     "name": "stdout",
     "output_type": "stream",
     "text": [
      "\r",
      "Upgrading database; v5 -> v6: : 0it [00:00, ?it/s]"
     ]
    },
    {
     "name": "stdout",
     "output_type": "stream",
     "text": [
      "\n",
      "\r",
      "  0%|          | 0/1 [00:00<?, ?it/s]"
     ]
    },
    {
     "name": "stdout",
     "output_type": "stream",
     "text": [
      "\r",
      "Upgrading database; v6 -> v7:   0%|          | 0/1 [00:00<?, ?it/s]"
     ]
    },
    {
     "name": "stdout",
     "output_type": "stream",
     "text": [
      "\r",
      "Upgrading database; v6 -> v7: 100%|██████████| 1/1 [00:00<00:00, 325.82it/s]"
     ]
    },
    {
     "name": "stdout",
     "output_type": "stream",
     "text": [
      "\n",
      "\r",
      "  0%|          | 0/1 [00:00<?, ?it/s]"
     ]
    },
    {
     "name": "stdout",
     "output_type": "stream",
     "text": [
      "\r",
      "Upgrading database; v7 -> v8:   0%|          | 0/1 [00:00<?, ?it/s]"
     ]
    },
    {
     "name": "stdout",
     "output_type": "stream",
     "text": [
      "\r",
      "Upgrading database; v7 -> v8: 100%|██████████| 1/1 [00:00<00:00, 704.81it/s]"
     ]
    },
    {
     "name": "stdout",
     "output_type": "stream",
     "text": [
      "\n",
      "\r",
      "  0%|          | 0/1 [00:00<?, ?it/s]"
     ]
    },
    {
     "name": "stdout",
     "output_type": "stream",
     "text": [
      "\r",
      "Upgrading database; v8 -> v9:   0%|          | 0/1 [00:00<?, ?it/s]"
     ]
    },
    {
     "name": "stdout",
     "output_type": "stream",
     "text": [
      "\r",
      "Upgrading database; v8 -> v9: 100%|██████████| 1/1 [00:00<00:00, 816.65it/s]"
     ]
    },
    {
     "name": "stdout",
     "output_type": "stream",
     "text": [
      "\n"
     ]
    }
   ],
   "source": [
    "initialise_database()\n",
    "exp = load_or_create_experiment(experiment_name='tutorial_exp', sample_name=\"no sample\")"
   ]
  },
  {
   "cell_type": "markdown",
   "metadata": {},
   "source": [
    "Here, we define a simple function to benchmark the time it takes to insert n points with either numeric or array data type.\n",
    "We will compare both the time used to call ``add_result`` and the time used for the full measurement."
   ]
  },
  {
   "cell_type": "code",
   "execution_count": 4,
   "metadata": {
    "execution": {
     "iopub.execute_input": "2021-01-04T07:38:25.091065Z",
     "iopub.status.busy": "2021-01-04T07:38:25.090461Z",
     "iopub.status.idle": "2021-01-04T07:38:25.092748Z",
     "shell.execute_reply": "2021-01-04T07:38:25.092181Z"
    }
   },
   "outputs": [],
   "source": [
    "def insert_data(paramtype, npoints, nreps=1):\n",
    "\n",
    "    meas = Measurement(exp=exp)\n",
    "\n",
    "    x1 = ManualParameter('x1')\n",
    "    x2 = ManualParameter('x2')\n",
    "    x3 = ManualParameter('x3')\n",
    "    y1 = ManualParameter('y1')\n",
    "    y2 = ManualParameter('y2')\n",
    "\n",
    "    meas.register_parameter(x1, paramtype=paramtype)\n",
    "    meas.register_parameter(x2, paramtype=paramtype)\n",
    "    meas.register_parameter(x3, paramtype=paramtype)\n",
    "    meas.register_parameter(y1, setpoints=[x1, x2, x3],\n",
    "                            paramtype=paramtype)\n",
    "    meas.register_parameter(y2, setpoints=[x1, x2, x3],\n",
    "                            paramtype=paramtype)\n",
    "    start = time.perf_counter()\n",
    "    with meas.run() as datasaver:\n",
    "        start_adding = time.perf_counter()\n",
    "        for i in range(nreps):\n",
    "            datasaver.add_result((x1, np.random.rand(npoints)),\n",
    "                                 (x2, np.random.rand(npoints)),\n",
    "                                 (x3, np.random.rand(npoints)),\n",
    "                                 (y1, np.random.rand(npoints)),\n",
    "                                 (y2, np.random.rand(npoints)))\n",
    "        stop_adding = time.perf_counter()\n",
    "        run_id = datasaver.run_id\n",
    "    stop = time.perf_counter()\n",
    "    tot_time = stop - start\n",
    "    add_time = stop_adding - start_adding\n",
    "    return tot_time, add_time, run_id"
   ]
  },
  {
   "cell_type": "markdown",
   "metadata": {},
   "source": [
    "## Comparison between numeric/array data and binary blob"
   ]
  },
  {
   "cell_type": "markdown",
   "metadata": {},
   "source": [
    "### Case1: Short experiment time"
   ]
  },
  {
   "cell_type": "code",
   "execution_count": 5,
   "metadata": {
    "execution": {
     "iopub.execute_input": "2021-01-04T07:38:25.099043Z",
     "iopub.status.busy": "2021-01-04T07:38:25.098359Z",
     "iopub.status.idle": "2021-01-04T07:38:25.945978Z",
     "shell.execute_reply": "2021-01-04T07:38:25.945339Z"
    }
   },
   "outputs": [
    {
     "name": "stdout",
     "output_type": "stream",
     "text": [
      "Starting experimental run with id: 1. \n",
      "Starting experimental run with id: 2. \n",
      "Starting experimental run with id: 3. \n",
      "Starting experimental run with id: 4. \n",
      "Starting experimental run with id: 5. \n"
     ]
    },
    {
     "name": "stdout",
     "output_type": "stream",
     "text": [
      "Starting experimental run with id: 6. \n"
     ]
    },
    {
     "name": "stdout",
     "output_type": "stream",
     "text": [
      "Starting experimental run with id: 7. \n"
     ]
    },
    {
     "name": "stdout",
     "output_type": "stream",
     "text": [
      "Starting experimental run with id: 8. \n",
      "Starting experimental run with id: 9. \n"
     ]
    },
    {
     "name": "stdout",
     "output_type": "stream",
     "text": [
      "Starting experimental run with id: 10. \n",
      "Starting experimental run with id: 11. \n"
     ]
    },
    {
     "name": "stdout",
     "output_type": "stream",
     "text": [
      "Starting experimental run with id: 12. \n",
      "Starting experimental run with id: 13. \n"
     ]
    },
    {
     "name": "stdout",
     "output_type": "stream",
     "text": [
      "Starting experimental run with id: 14. \n"
     ]
    }
   ],
   "source": [
    "sizes = [1,500,1000,2000,3000,4000,5000]\n",
    "t_numeric = []\n",
    "t_numeric_add = []\n",
    "t_array = []\n",
    "t_array_add = []\n",
    "for size in sizes:\n",
    "    tn, tna, run_id_n =  insert_data('numeric', size)\n",
    "    t_numeric.append(tn)\n",
    "    t_numeric_add.append(tna)\n",
    "\n",
    "    ta, taa, run_id_a =  insert_data('array', size)\n",
    "    t_array.append(ta)\n",
    "    t_array_add.append(taa)"
   ]
  },
  {
   "cell_type": "code",
   "execution_count": 6,
   "metadata": {
    "execution": {
     "iopub.execute_input": "2021-01-04T07:38:25.966584Z",
     "iopub.status.busy": "2021-01-04T07:38:25.964479Z",
     "iopub.status.idle": "2021-01-04T07:38:26.187043Z",
     "shell.execute_reply": "2021-01-04T07:38:26.186500Z"
    }
   },
   "outputs": [
    {
     "data": {
      "image/png": "[encoded data removed]",
      "text/plain": [
       "<Figure size 432x288 with 1 Axes>"
      ]
     },
     "metadata": {
      "needs_background": "light"
     },
     "output_type": "display_data"
    }
   ],
   "source": [
    "fig, ax = plt.subplots(1,1)\n",
    "ax.plot(sizes, t_numeric, 'o-', label='Inserting row-by-row')\n",
    "ax.plot(sizes, t_numeric_add, 'o-', label='Inserting row-by-row: add_result only')\n",
    "ax.plot(sizes, t_array, 'd-', label='Inserting as binary blob')\n",
    "ax.plot(sizes, t_array_add, 'd-', label='Inserting as binary blob: add_result only')\n",
    "ax.legend()\n",
    "ax.set_xlabel('Array length')\n",
    "ax.set_ylabel('Time (s)')\n",
    "fig.tight_layout()"
   ]
  },
  {
   "cell_type": "markdown",
   "metadata": {},
   "source": [
    "As shown in the latter figure, the time to setup and and close the experiment is approximately 0.4 sec. In case of small array sizes, the difference between inserting values of data as arrays and inserting them row-by-row is relatively unimportant. At larger array sizes, i.e. above 10000 points, the cost of writing data as individual datapoints starts to become important.\n"
   ]
  },
  {
   "cell_type": "markdown",
   "metadata": {},
   "source": [
    "### Case2: Long experiment time "
   ]
  },
  {
   "cell_type": "code",
   "execution_count": 7,
   "metadata": {
    "execution": {
     "iopub.execute_input": "2021-01-04T07:38:26.192775Z",
     "iopub.status.busy": "2021-01-04T07:38:26.191295Z",
     "iopub.status.idle": "2021-01-04T07:39:25.484502Z",
     "shell.execute_reply": "2021-01-04T07:39:25.483951Z"
    }
   },
   "outputs": [
    {
     "name": "stdout",
     "output_type": "stream",
     "text": [
      "Starting experimental run with id: 15. \n",
      "Starting experimental run with id: 16. \n",
      "Starting experimental run with id: 17. \n"
     ]
    },
    {
     "name": "stdout",
     "output_type": "stream",
     "text": [
      "Starting experimental run with id: 18. \n",
      "Starting experimental run with id: 19. \n"
     ]
    },
    {
     "name": "stdout",
     "output_type": "stream",
     "text": [
      "Starting experimental run with id: 20. \n"
     ]
    },
    {
     "name": "stdout",
     "output_type": "stream",
     "text": [
      "Starting experimental run with id: 21. \n"
     ]
    },
    {
     "name": "stdout",
     "output_type": "stream",
     "text": [
      "Starting experimental run with id: 22. \n"
     ]
    },
    {
     "name": "stdout",
     "output_type": "stream",
     "text": [
      "Starting experimental run with id: 23. \n"
     ]
    },
    {
     "name": "stdout",
     "output_type": "stream",
     "text": [
      "Starting experimental run with id: 24. \n"
     ]
    },
    {
     "name": "stdout",
     "output_type": "stream",
     "text": [
      "Starting experimental run with id: 25. \n"
     ]
    },
    {
     "name": "stdout",
     "output_type": "stream",
     "text": [
      "Starting experimental run with id: 26. \n"
     ]
    },
    {
     "name": "stdout",
     "output_type": "stream",
     "text": [
      "Starting experimental run with id: 27. \n"
     ]
    },
    {
     "name": "stdout",
     "output_type": "stream",
     "text": [
      "Starting experimental run with id: 28. \n"
     ]
    }
   ],
   "source": [
    "sizes = [1,500,1000,2000,3000,4000,5000]\n",
    "nreps = 100\n",
    "t_numeric = []\n",
    "t_numeric_add = []\n",
    "t_numeric_run_ids = []\n",
    "t_array = []\n",
    "t_array_add = []\n",
    "t_array_run_ids = []\n",
    "for size in sizes:\n",
    "    tn, tna, run_id_n =  insert_data('numeric', size, nreps=nreps)\n",
    "    t_numeric.append(tn)\n",
    "    t_numeric_add.append(tna)\n",
    "    t_numeric_run_ids.append(run_id_n)\n",
    "\n",
    "    ta, taa, run_id_a =  insert_data('array', size, nreps=nreps)\n",
    "    t_array.append(ta)\n",
    "    t_array_add.append(taa)\n",
    "    t_array_run_ids.append(run_id_a)"
   ]
  },
  {
   "cell_type": "code",
   "execution_count": 8,
   "metadata": {
    "execution": {
     "iopub.execute_input": "2021-01-04T07:39:25.503888Z",
     "iopub.status.busy": "2021-01-04T07:39:25.501841Z",
     "iopub.status.idle": "2021-01-04T07:39:25.731283Z",
     "shell.execute_reply": "2021-01-04T07:39:25.730808Z"
    },
    "scrolled": true
   },
   "outputs": [
    {
     "data": {
      "image/png": "[encoded data removed]",
      "text/plain": [
       "<Figure size 432x288 with 1 Axes>"
      ]
     },
     "metadata": {
      "needs_background": "light"
     },
     "output_type": "display_data"
    }
   ],
   "source": [
    "fig, ax = plt.subplots(1,1)\n",
    "ax.plot(sizes, t_numeric, 'o-', label='Inserting row-by-row')\n",
    "ax.plot(sizes, t_numeric_add, 'o-', label='Inserting row-by-row: add_result only')\n",
    "ax.plot(sizes, t_array, 'd-', label='Inserting as binary blob')\n",
    "ax.plot(sizes, t_array_add, 'd-', label='Inserting as binary blob: add_result only')\n",
    "ax.legend()\n",
    "ax.set_xlabel('Array length')\n",
    "ax.set_ylabel('Time (s)')\n",
    "fig.tight_layout()"
   ]
  },
  {
   "cell_type": "markdown",
   "metadata": {},
   "source": [
    "However, as we increase the length of the experiment, as seen here by repeating the insertion 100 times, we see a big difference between inserting values of the data row-by-row and inserting it as a binary blob."
   ]
  },
  {
   "cell_type": "markdown",
   "metadata": {},
   "source": [
    "## Loading the data "
   ]
  },
  {
   "cell_type": "code",
   "execution_count": 9,
   "metadata": {
    "execution": {
     "iopub.execute_input": "2021-01-04T07:39:25.735586Z",
     "iopub.status.busy": "2021-01-04T07:39:25.734624Z",
     "iopub.status.idle": "2021-01-04T07:39:25.738331Z",
     "shell.execute_reply": "2021-01-04T07:39:25.737752Z"
    }
   },
   "outputs": [],
   "source": [
    "from qcodes.dataset.data_set import load_by_id\n",
    "from qcodes.dataset.data_export import get_data_by_id"
   ]
  },
  {
   "cell_type": "markdown",
   "metadata": {},
   "source": [
    "As usual you can load the data by using the ``load_by_id`` function but you will notice that the different storage methods\n",
    "are reflected in shape of the data as it is retrieved. "
   ]
  },
  {
   "cell_type": "code",
   "execution_count": 10,
   "metadata": {
    "execution": {
     "iopub.execute_input": "2021-01-04T07:39:25.743217Z",
     "iopub.status.busy": "2021-01-04T07:39:25.742265Z",
     "iopub.status.idle": "2021-01-04T07:39:25.744337Z",
     "shell.execute_reply": "2021-01-04T07:39:25.744882Z"
    }
   },
   "outputs": [],
   "source": [
    "run_id_n = t_numeric_run_ids[0]\n",
    "run_id_a = t_array_run_ids[0]"
   ]
  },
  {
   "cell_type": "code",
   "execution_count": 11,
   "metadata": {
    "execution": {
     "iopub.execute_input": "2021-01-04T07:39:25.747988Z",
     "iopub.status.busy": "2021-01-04T07:39:25.747439Z",
     "iopub.status.idle": "2021-01-04T07:39:25.757753Z",
     "shell.execute_reply": "2021-01-04T07:39:25.757235Z"
    },
    "scrolled": true
   },
   "outputs": [
    {
     "data": {
      "text/plain": [
       "{'x1': {'x1': array([0.10732839, 0.10732839, 0.89126545, 0.89126545, 0.37953204,\n",
       "         0.37953204, 0.1650849 , 0.1650849 , 0.70879329, 0.70879329,\n",
       "         0.93038596, 0.93038596, 0.56630658, 0.56630658, 0.26008841,\n",
       "         0.26008841, 0.39801032, 0.39801032, 0.44954711, 0.44954711,\n",
       "         0.28497063, 0.28497063, 0.37499386, 0.37499386, 0.5869382 ,\n",
       "         0.5869382 , 0.26363381, 0.26363381, 0.29919952, 0.29919952,\n",
       "         0.05287255, 0.05287255, 0.72510473, 0.72510473, 0.06519433,\n",
       "         0.06519433, 0.61926334, 0.61926334, 0.0840344 , 0.0840344 ,\n",
       "         0.91440961, 0.91440961, 0.09735831, 0.09735831, 0.87203918,\n",
       "         0.87203918, 0.20179935, 0.20179935, 0.59247483, 0.59247483,\n",
       "         0.44548867, 0.44548867, 0.64802839, 0.64802839, 0.76977763,\n",
       "         0.76977763, 0.95337748, 0.95337748, 0.24104236, 0.24104236,\n",
       "         0.17063254, 0.17063254, 0.81222965, 0.81222965, 0.94631711,\n",
       "         0.94631711, 0.50133806, 0.50133806, 0.32756986, 0.32756986,\n",
       "         0.51520867, 0.51520867, 0.50223986, 0.50223986, 0.01492272,\n",
       "         0.01492272, 0.83947361, 0.83947361, 0.65137658, 0.65137658,\n",
       "         0.40263115, 0.40263115, 0.975203  , 0.975203  , 0.78719607,\n",
       "         0.78719607, 0.88448893, 0.88448893, 0.63721437, 0.63721437,\n",
       "         0.2354897 , 0.2354897 , 0.10524773, 0.10524773, 0.72433417,\n",
       "         0.72433417, 0.80178027, 0.80178027, 0.43425859, 0.43425859,\n",
       "         0.71044851, 0.71044851, 0.54252616, 0.54252616, 0.15669333,\n",
       "         0.15669333, 0.93696225, 0.93696225, 0.49486862, 0.49486862,\n",
       "         0.72871892, 0.72871892, 0.7071296 , 0.7071296 , 0.35126238,\n",
       "         0.35126238, 0.88346029, 0.88346029, 0.64812986, 0.64812986,\n",
       "         0.86234869, 0.86234869, 0.44767749, 0.44767749, 0.25318322,\n",
       "         0.25318322, 0.02164887, 0.02164887, 0.29334449, 0.29334449,\n",
       "         0.84820521, 0.84820521, 0.5738402 , 0.5738402 , 0.49859619,\n",
       "         0.49859619, 0.45549988, 0.45549988, 0.4019094 , 0.4019094 ,\n",
       "         0.7056963 , 0.7056963 , 0.588928  , 0.588928  , 0.70784146,\n",
       "         0.70784146, 0.79697432, 0.79697432, 0.93867767, 0.93867767,\n",
       "         0.17650255, 0.17650255, 0.45762323, 0.45762323, 0.77079556,\n",
       "         0.77079556, 0.08842004, 0.08842004, 0.3123771 , 0.3123771 ,\n",
       "         0.13077803, 0.13077803, 0.65689421, 0.65689421, 0.78567912,\n",
       "         0.78567912, 0.66864402, 0.66864402, 0.65682589, 0.65682589,\n",
       "         0.90418072, 0.90418072, 0.56216594, 0.56216594, 0.22913891,\n",
       "         0.22913891, 0.19091556, 0.19091556, 0.80829295, 0.80829295,\n",
       "         0.46114942, 0.46114942, 0.21287881, 0.21287881, 0.98309348,\n",
       "         0.98309348, 0.98569452, 0.98569452, 0.84748274, 0.84748274,\n",
       "         0.39942832, 0.39942832, 0.74408583, 0.74408583, 0.33351663,\n",
       "         0.33351663, 0.69011051, 0.69011051, 0.3077468 , 0.3077468 ])}}"
      ]
     },
     "execution_count": 1,
     "metadata": {},
     "output_type": "execute_result"
    }
   ],
   "source": [
    "ds = load_by_id(run_id_n)\n",
    "ds.get_parameter_data('x1')"
   ]
  },
  {
   "cell_type": "markdown",
   "metadata": {},
   "source": [
    "And a dataset stored as binary arrays"
   ]
  },
  {
   "cell_type": "code",
   "execution_count": 12,
   "metadata": {
    "execution": {
     "iopub.execute_input": "2021-01-04T07:39:25.760998Z",
     "iopub.status.busy": "2021-01-04T07:39:25.760414Z",
     "iopub.status.idle": "2021-01-04T07:39:25.826438Z",
     "shell.execute_reply": "2021-01-04T07:39:25.825970Z"
    },
    "scrolled": true
   },
   "outputs": [
    {
     "data": {
      "text/plain": [
       "{'x1': {'x1': array([[0.68874693],\n",
       "         [0.68874693],\n",
       "         [0.7640529 ],\n",
       "         [0.7640529 ],\n",
       "         [0.39862872],\n",
       "         [0.39862872],\n",
       "         [0.73689937],\n",
       "         [0.73689937],\n",
       "         [0.59480927],\n",
       "         [0.59480927],\n",
       "         [0.35373827],\n",
       "         [0.35373827],\n",
       "         [0.9334936 ],\n",
       "         [0.9334936 ],\n",
       "         [0.53950733],\n",
       "         [0.53950733],\n",
       "         [0.20166179],\n",
       "         [0.20166179],\n",
       "         [0.33256037],\n",
       "         [0.33256037],\n",
       "         [0.23801049],\n",
       "         [0.23801049],\n",
       "         [0.06067061],\n",
       "         [0.06067061],\n",
       "         [0.54019427],\n",
       "         [0.54019427],\n",
       "         [0.31277166],\n",
       "         [0.31277166],\n",
       "         [0.40267099],\n",
       "         [0.40267099],\n",
       "         [0.26418427],\n",
       "         [0.26418427],\n",
       "         [0.2082655 ],\n",
       "         [0.2082655 ],\n",
       "         [0.521675  ],\n",
       "         [0.521675  ],\n",
       "         [0.21771882],\n",
       "         [0.21771882],\n",
       "         [0.48870692],\n",
       "         [0.48870692],\n",
       "         [0.41738459],\n",
       "         [0.41738459],\n",
       "         [0.44084872],\n",
       "         [0.44084872],\n",
       "         [0.96170504],\n",
       "         [0.96170504],\n",
       "         [0.61140257],\n",
       "         [0.61140257],\n",
       "         [0.24825978],\n",
       "         [0.24825978],\n",
       "         [0.28088884],\n",
       "         [0.28088884],\n",
       "         [0.07553174],\n",
       "         [0.07553174],\n",
       "         [0.97463083],\n",
       "         [0.97463083],\n",
       "         [0.42169804],\n",
       "         [0.42169804],\n",
       "         [0.13030534],\n",
       "         [0.13030534],\n",
       "         [0.52949089],\n",
       "         [0.52949089],\n",
       "         [0.99228592],\n",
       "         [0.99228592],\n",
       "         [0.75548205],\n",
       "         [0.75548205],\n",
       "         [0.04137639],\n",
       "         [0.04137639],\n",
       "         [0.78939089],\n",
       "         [0.78939089],\n",
       "         [0.99784992],\n",
       "         [0.99784992],\n",
       "         [0.77358832],\n",
       "         [0.77358832],\n",
       "         [0.65515289],\n",
       "         [0.65515289],\n",
       "         [0.39563862],\n",
       "         [0.39563862],\n",
       "         [0.33212361],\n",
       "         [0.33212361],\n",
       "         [0.05719421],\n",
       "         [0.05719421],\n",
       "         [0.02217311],\n",
       "         [0.02217311],\n",
       "         [0.94394333],\n",
       "         [0.94394333],\n",
       "         [0.31035285],\n",
       "         [0.31035285],\n",
       "         [0.46778361],\n",
       "         [0.46778361],\n",
       "         [0.99907982],\n",
       "         [0.99907982],\n",
       "         [0.04079684],\n",
       "         [0.04079684],\n",
       "         [0.6855244 ],\n",
       "         [0.6855244 ],\n",
       "         [0.85413627],\n",
       "         [0.85413627],\n",
       "         [0.08971704],\n",
       "         [0.08971704],\n",
       "         [0.48895968],\n",
       "         [0.48895968],\n",
       "         [0.24249055],\n",
       "         [0.24249055],\n",
       "         [0.41212105],\n",
       "         [0.41212105],\n",
       "         [0.06857117],\n",
       "         [0.06857117],\n",
       "         [0.32892612],\n",
       "         [0.32892612],\n",
       "         [0.76674036],\n",
       "         [0.76674036],\n",
       "         [0.39826773],\n",
       "         [0.39826773],\n",
       "         [0.18590537],\n",
       "         [0.18590537],\n",
       "         [0.8646    ],\n",
       "         [0.8646    ],\n",
       "         [0.68690013],\n",
       "         [0.68690013],\n",
       "         [0.47469094],\n",
       "         [0.47469094],\n",
       "         [0.19210085],\n",
       "         [0.19210085],\n",
       "         [0.52477369],\n",
       "         [0.52477369],\n",
       "         [0.56884602],\n",
       "         [0.56884602],\n",
       "         [0.55257942],\n",
       "         [0.55257942],\n",
       "         [0.49804157],\n",
       "         [0.49804157],\n",
       "         [0.29934884],\n",
       "         [0.29934884],\n",
       "         [0.56073226],\n",
       "         [0.56073226],\n",
       "         [0.07809402],\n",
       "         [0.07809402],\n",
       "         [0.03270399],\n",
       "         [0.03270399],\n",
       "         [0.82594234],\n",
       "         [0.82594234],\n",
       "         [0.64791678],\n",
       "         [0.64791678],\n",
       "         [0.84448954],\n",
       "         [0.84448954],\n",
       "         [0.31639556],\n",
       "         [0.31639556],\n",
       "         [0.23210885],\n",
       "         [0.23210885],\n",
       "         [0.22827794],\n",
       "         [0.22827794],\n",
       "         [0.80303781],\n",
       "         [0.80303781],\n",
       "         [0.04326289],\n",
       "         [0.04326289],\n",
       "         [0.39471607],\n",
       "         [0.39471607],\n",
       "         [0.07863929],\n",
       "         [0.07863929],\n",
       "         [0.68989334],\n",
       "         [0.68989334],\n",
       "         [0.40078725],\n",
       "         [0.40078725],\n",
       "         [0.22551144],\n",
       "         [0.22551144],\n",
       "         [0.91252657],\n",
       "         [0.91252657],\n",
       "         [0.90370812],\n",
       "         [0.90370812],\n",
       "         [0.45475992],\n",
       "         [0.45475992],\n",
       "         [0.7358601 ],\n",
       "         [0.7358601 ],\n",
       "         [0.49505122],\n",
       "         [0.49505122],\n",
       "         [0.8162267 ],\n",
       "         [0.8162267 ],\n",
       "         [0.21033626],\n",
       "         [0.21033626],\n",
       "         [0.63456468],\n",
       "         [0.63456468],\n",
       "         [0.14538014],\n",
       "         [0.14538014],\n",
       "         [0.91488731],\n",
       "         [0.91488731],\n",
       "         [0.14963621],\n",
       "         [0.14963621],\n",
       "         [0.70667667],\n",
       "         [0.70667667],\n",
       "         [0.71700073],\n",
       "         [0.71700073],\n",
       "         [0.10681096],\n",
       "         [0.10681096],\n",
       "         [0.98372517],\n",
       "         [0.98372517],\n",
       "         [0.90372256],\n",
       "         [0.90372256],\n",
       "         [0.83693881],\n",
       "         [0.83693881]])}}"
      ]
     },
     "execution_count": 1,
     "metadata": {},
     "output_type": "execute_result"
    }
   ],
   "source": [
    "ds = load_by_id(run_id_a)\n",
    "ds.get_parameter_data('x1')"
   ]
  },
  {
   "cell_type": "code",
   "execution_count": null,
   "metadata": {},
   "outputs": [],
   "source": []
  }
 ],
 "metadata": {
  "kernelspec": {
   "display_name": "Python 3",
   "language": "python",
   "name": "python3"
  },
  "language_info": {
   "codemirror_mode": {
    "name": "ipython",
    "version": 3
   },
   "file_extension": ".py",
   "mimetype": "text/x-python",
   "name": "python",
   "nbconvert_exporter": "python",
   "pygments_lexer": "ipython3",
   "version": "3.7.9"
  },
  "nbsphinx": {
   "timeout": 600
  },
  "toc": {
   "base_numbering": 1,
   "nav_menu": {},
   "number_sections": true,
   "sideBar": true,
   "skip_h1_title": false,
   "title_cell": "Table of Contents",
   "title_sidebar": "Contents",
   "toc_cell": false,
   "toc_position": {},
   "toc_section_display": true,
   "toc_window_display": false
  },
  "varInspector": {
   "cols": {
    "lenName": 16,
    "lenType": 16,
    "lenVar": 40
   },
   "kernels_config": {
    "python": {
     "delete_cmd_postfix": "",
     "delete_cmd_prefix": "del ",
     "library": "var_list.py",
     "varRefreshCmd": "print(var_dic_list())"
    },
    "r": {
     "delete_cmd_postfix": ") ",
     "delete_cmd_prefix": "rm(",
     "library": "var_list.r",
     "varRefreshCmd": "cat(var_dic_list()) "
    }
   },
   "types_to_exclude": [
    "module",
    "function",
    "builtin_function_or_method",
    "instance",
    "_Feature"
   ],
   "window_display": false
  }
 },
 "nbformat": 4,
 "nbformat_minor": 2
}
