{
 "cells": [
  {
   "cell_type": "markdown",
   "metadata": {},
   "source": [
    "# DataSet Performance\n",
    "\n",
    "This notebook shows the trade-off between inserting data into a database row-by-row and as binary blobs. Inserting the data row-by-row means that we have direct access to all the data and may perform queries directly on the values of the data. On the other hand, as we shall see, this is much slower than inserting the data directly as binary blobs."
   ]
  },
  {
   "cell_type": "markdown",
   "metadata": {},
   "source": [
    "First, we choose a new location for the database to ensure that we don't add a bunch of benchmarking data to the default one."
   ]
  },
  {
   "cell_type": "code",
   "execution_count": 1,
   "metadata": {},
   "outputs": [
    {
     "name": "stdout",
     "output_type": "stream",
     "text": [
      "Logging hadn't been started.\n",
      "Activating auto-logging. Current session state plus future input saved.\n",
      "Filename       : /home/vsts/.qcodes/logs/command_history.log\n",
      "Mode           : append\n",
      "Output logging : True\n",
      "Raw input log  : False\n",
      "Timestamping   : True\n",
      "State          : active\n"
     ]
    },
    {
     "name": "stdout",
     "output_type": "stream",
     "text": [
      "Qcodes Logfile : /home/vsts/.qcodes/logs/200819-18666-qcodes.log\n"
     ]
    }
   ],
   "source": [
    "import os\n",
    "cwd = os.getcwd()\n",
    "import qcodes as qc\n",
    "qc.config[\"core\"][\"db_location\"] = os.path.join(cwd, 'testing.db')\n"
   ]
  },
  {
   "cell_type": "code",
   "execution_count": 2,
   "metadata": {},
   "outputs": [],
   "source": [
    "%matplotlib inline\n",
    "import time\n",
    "import matplotlib.pyplot as plt\n",
    "import numpy as np\n",
    "\n",
    "import qcodes as qc\n",
    "from qcodes.instrument.parameter import ManualParameter\n",
    "from qcodes.dataset.experiment_container import (Experiment,\n",
    "                                                 load_last_experiment,\n",
    "                                                 new_experiment)\n",
    "from qcodes.dataset.sqlite.database import initialise_database\n",
    "from qcodes import load_or_create_experiment\n",
    "from qcodes.dataset.measurements import Measurement"
   ]
  },
  {
   "cell_type": "code",
   "execution_count": 3,
   "metadata": {},
   "outputs": [
    {
     "name": "stdout",
     "output_type": "stream",
     "text": [
      "\r",
      "0it [00:00, ?it/s]"
     ]
    },
    {
     "name": "stdout",
     "output_type": "stream",
     "text": [
      "\r",
      "Upgrading database; v0 -> v1: : 0it [00:00, ?it/s]"
     ]
    },
    {
     "name": "stdout",
     "output_type": "stream",
     "text": [
      "\r",
      "Upgrading database; v0 -> v1: : 0it [00:00, ?it/s]"
     ]
    },
    {
     "name": "stdout",
     "output_type": "stream",
     "text": [
      "\n",
      "\r",
      "  0%|          | 0/1 [00:00<?, ?it/s]"
     ]
    },
    {
     "name": "stdout",
     "output_type": "stream",
     "text": [
      "\r",
      "Upgrading database; v1 -> v2:   0%|          | 0/1 [00:00<?, ?it/s]"
     ]
    },
    {
     "name": "stdout",
     "output_type": "stream",
     "text": [
      "\r",
      "Upgrading database; v1 -> v2: 100%|██████████| 1/1 [00:00<00:00, 782.23it/s]"
     ]
    },
    {
     "name": "stdout",
     "output_type": "stream",
     "text": [
      "\n",
      "\r",
      "0it [00:00, ?it/s]"
     ]
    },
    {
     "name": "stdout",
     "output_type": "stream",
     "text": [
      "\r",
      "Upgrading database; v2 -> v3: : 0it [00:00, ?it/s]"
     ]
    },
    {
     "name": "stdout",
     "output_type": "stream",
     "text": [
      "\r",
      "Upgrading database; v2 -> v3: : 0it [00:00, ?it/s]"
     ]
    },
    {
     "name": "stdout",
     "output_type": "stream",
     "text": [
      "\n",
      "\r",
      "0it [00:00, ?it/s]"
     ]
    },
    {
     "name": "stdout",
     "output_type": "stream",
     "text": [
      "\r",
      "Upgrading database; v3 -> v4: : 0it [00:00, ?it/s]"
     ]
    },
    {
     "name": "stdout",
     "output_type": "stream",
     "text": [
      "\r",
      "Upgrading database; v3 -> v4: : 0it [00:00, ?it/s]"
     ]
    },
    {
     "name": "stdout",
     "output_type": "stream",
     "text": [
      "\n",
      "\r",
      "  0%|          | 0/1 [00:00<?, ?it/s]"
     ]
    },
    {
     "name": "stdout",
     "output_type": "stream",
     "text": [
      "\r",
      "Upgrading database; v4 -> v5:   0%|          | 0/1 [00:00<?, ?it/s]"
     ]
    },
    {
     "name": "stdout",
     "output_type": "stream",
     "text": [
      "\r",
      "Upgrading database; v4 -> v5: 100%|██████████| 1/1 [00:00<00:00, 598.08it/s]"
     ]
    },
    {
     "name": "stdout",
     "output_type": "stream",
     "text": [
      "\n",
      "\r",
      "0it [00:00, ?it/s]"
     ]
    },
    {
     "name": "stdout",
     "output_type": "stream",
     "text": [
      "\r",
      "Upgrading database; v5 -> v6: : 0it [00:00, ?it/s]"
     ]
    },
    {
     "name": "stdout",
     "output_type": "stream",
     "text": [
      "\r",
      "Upgrading database; v5 -> v6: : 0it [00:00, ?it/s]"
     ]
    },
    {
     "name": "stdout",
     "output_type": "stream",
     "text": [
      "\n",
      "\r",
      "  0%|          | 0/1 [00:00<?, ?it/s]"
     ]
    },
    {
     "name": "stdout",
     "output_type": "stream",
     "text": [
      "\r",
      "Upgrading database; v6 -> v7:   0%|          | 0/1 [00:00<?, ?it/s]"
     ]
    },
    {
     "name": "stdout",
     "output_type": "stream",
     "text": [
      "\r",
      "Upgrading database; v6 -> v7: 100%|██████████| 1/1 [00:00<00:00, 339.56it/s]"
     ]
    },
    {
     "name": "stdout",
     "output_type": "stream",
     "text": [
      "\n",
      "\r",
      "  0%|          | 0/1 [00:00<?, ?it/s]"
     ]
    },
    {
     "name": "stdout",
     "output_type": "stream",
     "text": [
      "\r",
      "Upgrading database; v7 -> v8:   0%|          | 0/1 [00:00<?, ?it/s]"
     ]
    },
    {
     "name": "stdout",
     "output_type": "stream",
     "text": [
      "\r",
      "Upgrading database; v7 -> v8: 100%|██████████| 1/1 [00:00<00:00, 529.99it/s]"
     ]
    },
    {
     "name": "stdout",
     "output_type": "stream",
     "text": [
      "\n",
      "\r",
      "  0%|          | 0/1 [00:00<?, ?it/s]"
     ]
    },
    {
     "name": "stdout",
     "output_type": "stream",
     "text": [
      "\r",
      "Upgrading database; v8 -> v9:   0%|          | 0/1 [00:00<?, ?it/s]"
     ]
    },
    {
     "name": "stdout",
     "output_type": "stream",
     "text": [
      "\r",
      "Upgrading database; v8 -> v9: 100%|██████████| 1/1 [00:00<00:00, 934.35it/s]"
     ]
    },
    {
     "name": "stdout",
     "output_type": "stream",
     "text": [
      "\n"
     ]
    }
   ],
   "source": [
    "initialise_database()\n",
    "exp = load_or_create_experiment(experiment_name='tutorial_exp', sample_name=\"no sample\")"
   ]
  },
  {
   "cell_type": "markdown",
   "metadata": {},
   "source": [
    "Here, we define a simple function to benchmark the time it takes to insert n points with either numeric or array data type.\n",
    "We will compare both the time used to call ``add_result`` and the time used for the full measurement."
   ]
  },
  {
   "cell_type": "code",
   "execution_count": 4,
   "metadata": {},
   "outputs": [],
   "source": [
    "def insert_data(paramtype, npoints, nreps=1):\n",
    "\n",
    "    meas = Measurement(exp=exp)\n",
    "\n",
    "    x1 = ManualParameter('x1')\n",
    "    x2 = ManualParameter('x2')\n",
    "    x3 = ManualParameter('x3')\n",
    "    y1 = ManualParameter('y1')\n",
    "    y2 = ManualParameter('y2')\n",
    "\n",
    "    meas.register_parameter(x1, paramtype=paramtype)\n",
    "    meas.register_parameter(x2, paramtype=paramtype)\n",
    "    meas.register_parameter(x3, paramtype=paramtype)\n",
    "    meas.register_parameter(y1, setpoints=[x1, x2, x3],\n",
    "                            paramtype=paramtype)\n",
    "    meas.register_parameter(y2, setpoints=[x1, x2, x3],\n",
    "                            paramtype=paramtype)\n",
    "    start = time.perf_counter()\n",
    "    with meas.run() as datasaver:\n",
    "        start_adding = time.perf_counter()\n",
    "        for i in range(nreps):\n",
    "            datasaver.add_result((x1, np.random.rand(npoints)),\n",
    "                                 (x2, np.random.rand(npoints)),\n",
    "                                 (x3, np.random.rand(npoints)),\n",
    "                                 (y1, np.random.rand(npoints)),\n",
    "                                 (y2, np.random.rand(npoints)))\n",
    "        stop_adding = time.perf_counter()\n",
    "        run_id = datasaver.run_id\n",
    "    stop = time.perf_counter()\n",
    "    tot_time = stop - start\n",
    "    add_time = stop_adding - start_adding\n",
    "    return tot_time, add_time, run_id"
   ]
  },
  {
   "cell_type": "markdown",
   "metadata": {},
   "source": [
    "## Comparison between numeric/array data and binary blob"
   ]
  },
  {
   "cell_type": "markdown",
   "metadata": {},
   "source": [
    "### Case1: Short experiment time"
   ]
  },
  {
   "cell_type": "code",
   "execution_count": 5,
   "metadata": {},
   "outputs": [
    {
     "name": "stdout",
     "output_type": "stream",
     "text": [
      "Starting experimental run with id: 1. \n",
      "Starting experimental run with id: 2. \n",
      "Starting experimental run with id: 3. \n"
     ]
    },
    {
     "name": "stdout",
     "output_type": "stream",
     "text": [
      "Starting experimental run with id: 4. \n"
     ]
    },
    {
     "name": "stdout",
     "output_type": "stream",
     "text": [
      "Starting experimental run with id: 5. \n"
     ]
    },
    {
     "name": "stdout",
     "output_type": "stream",
     "text": [
      "Starting experimental run with id: 6. \n"
     ]
    },
    {
     "name": "stdout",
     "output_type": "stream",
     "text": [
      "Starting experimental run with id: 7. \n",
      "Starting experimental run with id: 8. \n"
     ]
    },
    {
     "name": "stdout",
     "output_type": "stream",
     "text": [
      "Starting experimental run with id: 9. \n"
     ]
    },
    {
     "name": "stdout",
     "output_type": "stream",
     "text": [
      "Starting experimental run with id: 10. \n",
      "Starting experimental run with id: 11. \n"
     ]
    },
    {
     "name": "stdout",
     "output_type": "stream",
     "text": [
      "Starting experimental run with id: 12. \n"
     ]
    },
    {
     "name": "stdout",
     "output_type": "stream",
     "text": [
      "Starting experimental run with id: 13. \n"
     ]
    },
    {
     "name": "stdout",
     "output_type": "stream",
     "text": [
      "Starting experimental run with id: 14. \n"
     ]
    }
   ],
   "source": [
    "sizes = [1,500,1000,2000,3000,4000,5000]\n",
    "t_numeric = []\n",
    "t_numeric_add = []\n",
    "t_array = []\n",
    "t_array_add = []\n",
    "for size in sizes:\n",
    "    tn, tna, run_id_n =  insert_data('numeric', size)\n",
    "    t_numeric.append(tn)\n",
    "    t_numeric_add.append(tna)\n",
    "\n",
    "    ta, taa, run_id_a =  insert_data('array', size)\n",
    "    t_array.append(ta)\n",
    "    t_array_add.append(taa)"
   ]
  },
  {
   "cell_type": "code",
   "execution_count": 6,
   "metadata": {},
   "outputs": [
    {
     "data": {
      "image/png": "[encoded data removed]",
      "text/plain": [
       "<Figure size 432x288 with 1 Axes>"
      ]
     },
     "metadata": {
      "needs_background": "light"
     },
     "output_type": "display_data"
    }
   ],
   "source": [
    "fig, ax = plt.subplots(1,1)\n",
    "ax.plot(sizes, t_numeric, 'o-', label='Inserting row-by-row')\n",
    "ax.plot(sizes, t_numeric_add, 'o-', label='Inserting row-by-row: add_result only')\n",
    "ax.plot(sizes, t_array, 'd-', label='Inserting as binary blob')\n",
    "ax.plot(sizes, t_array_add, 'd-', label='Inserting as binary blob: add_result only')\n",
    "ax.legend()\n",
    "ax.set_xlabel('Array length')\n",
    "ax.set_ylabel('Time (s)')\n",
    "fig.tight_layout()"
   ]
  },
  {
   "cell_type": "markdown",
   "metadata": {},
   "source": [
    "As shown in the latter figure, the time to setup and and close the experiment is approximately 0.4 sec. In case of small array sizes, the difference between inserting values of data as arrays and inserting them row-by-row is relatively unimportant. At larger array sizes, i.e. above 10000 points, the cost of writing data as individual datapoints starts to become important.\n"
   ]
  },
  {
   "cell_type": "markdown",
   "metadata": {},
   "source": [
    "### Case2: Long experiment time "
   ]
  },
  {
   "cell_type": "code",
   "execution_count": 7,
   "metadata": {},
   "outputs": [
    {
     "name": "stdout",
     "output_type": "stream",
     "text": [
      "Starting experimental run with id: 15. \n",
      "Starting experimental run with id: 16. \n",
      "Starting experimental run with id: 17. \n"
     ]
    },
    {
     "name": "stdout",
     "output_type": "stream",
     "text": [
      "Starting experimental run with id: 18. \n",
      "Starting experimental run with id: 19. \n"
     ]
    },
    {
     "name": "stdout",
     "output_type": "stream",
     "text": [
      "Starting experimental run with id: 20. \n"
     ]
    },
    {
     "name": "stdout",
     "output_type": "stream",
     "text": [
      "Starting experimental run with id: 21. \n"
     ]
    },
    {
     "name": "stdout",
     "output_type": "stream",
     "text": [
      "Starting experimental run with id: 22. \n"
     ]
    },
    {
     "name": "stdout",
     "output_type": "stream",
     "text": [
      "Starting experimental run with id: 23. \n"
     ]
    },
    {
     "name": "stdout",
     "output_type": "stream",
     "text": [
      "Starting experimental run with id: 24. \n"
     ]
    },
    {
     "name": "stdout",
     "output_type": "stream",
     "text": [
      "Starting experimental run with id: 25. \n"
     ]
    },
    {
     "name": "stdout",
     "output_type": "stream",
     "text": [
      "Starting experimental run with id: 26. \n"
     ]
    },
    {
     "name": "stdout",
     "output_type": "stream",
     "text": [
      "Starting experimental run with id: 27. \n"
     ]
    },
    {
     "name": "stdout",
     "output_type": "stream",
     "text": [
      "Starting experimental run with id: 28. \n"
     ]
    }
   ],
   "source": [
    "sizes = [1,500,1000,2000,3000,4000,5000]\n",
    "nreps = 100\n",
    "t_numeric = []\n",
    "t_numeric_add = []\n",
    "t_numeric_run_ids = []\n",
    "t_array = []\n",
    "t_array_add = []\n",
    "t_array_run_ids = []\n",
    "for size in sizes:\n",
    "    tn, tna, run_id_n =  insert_data('numeric', size, nreps=nreps)\n",
    "    t_numeric.append(tn)\n",
    "    t_numeric_add.append(tna)\n",
    "    t_numeric_run_ids.append(run_id_n)\n",
    "\n",
    "    ta, taa, run_id_a =  insert_data('array', size, nreps=nreps)\n",
    "    t_array.append(ta)\n",
    "    t_array_add.append(taa)\n",
    "    t_array_run_ids.append(run_id_a)"
   ]
  },
  {
   "cell_type": "code",
   "execution_count": 8,
   "metadata": {
    "scrolled": true
   },
   "outputs": [
    {
     "data": {
      "image/png": "[encoded data removed]",
      "text/plain": [
       "<Figure size 432x288 with 1 Axes>"
      ]
     },
     "metadata": {
      "needs_background": "light"
     },
     "output_type": "display_data"
    }
   ],
   "source": [
    "fig, ax = plt.subplots(1,1)\n",
    "ax.plot(sizes, t_numeric, 'o-', label='Inserting row-by-row')\n",
    "ax.plot(sizes, t_numeric_add, 'o-', label='Inserting row-by-row: add_result only')\n",
    "ax.plot(sizes, t_array, 'd-', label='Inserting as binary blob')\n",
    "ax.plot(sizes, t_array_add, 'd-', label='Inserting as binary blob: add_result only')\n",
    "ax.legend()\n",
    "ax.set_xlabel('Array length')\n",
    "ax.set_ylabel('Time (s)')\n",
    "fig.tight_layout()"
   ]
  },
  {
   "cell_type": "markdown",
   "metadata": {},
   "source": [
    "However, as we increase the length of the experiment, as seen here by repeating the insertion 100 times, we see a big difference between inserting values of the data row-by-row and inserting it as a binary blob."
   ]
  },
  {
   "cell_type": "markdown",
   "metadata": {},
   "source": [
    "## Loading the data "
   ]
  },
  {
   "cell_type": "code",
   "execution_count": 9,
   "metadata": {},
   "outputs": [],
   "source": [
    "from qcodes.dataset.data_set import load_by_id\n",
    "from qcodes.dataset.data_export import get_data_by_id"
   ]
  },
  {
   "cell_type": "markdown",
   "metadata": {},
   "source": [
    "As usual you can load the data by using the ``load_by_id`` function but you will notice that the different storage methods\n",
    "are reflected in shape of the data as it is retrieved. "
   ]
  },
  {
   "cell_type": "code",
   "execution_count": 10,
   "metadata": {},
   "outputs": [],
   "source": [
    "run_id_n = t_numeric_run_ids[0]\n",
    "run_id_a = t_array_run_ids[0]"
   ]
  },
  {
   "cell_type": "code",
   "execution_count": 11,
   "metadata": {
    "scrolled": true
   },
   "outputs": [
    {
     "data": {
      "text/plain": [
       "{'x1': {'x1': array([0.45334082, 0.45334082, 0.73059144, 0.73059144, 0.23202925,\n",
       "         0.23202925, 0.62886304, 0.62886304, 0.19561129, 0.19561129,\n",
       "         0.96408084, 0.96408084, 0.07509091, 0.07509091, 0.98586947,\n",
       "         0.98586947, 0.2466532 , 0.2466532 , 0.55920017, 0.55920017,\n",
       "         0.88801987, 0.88801987, 0.32749528, 0.32749528, 0.62843769,\n",
       "         0.62843769, 0.74957148, 0.74957148, 0.02656281, 0.02656281,\n",
       "         0.56271562, 0.56271562, 0.38832378, 0.38832378, 0.25254602,\n",
       "         0.25254602, 0.13803355, 0.13803355, 0.86489686, 0.86489686,\n",
       "         0.15015033, 0.15015033, 0.09540261, 0.09540261, 0.54387135,\n",
       "         0.54387135, 0.09895888, 0.09895888, 0.63639846, 0.63639846,\n",
       "         0.50878711, 0.50878711, 0.3268132 , 0.3268132 , 0.7369525 ,\n",
       "         0.7369525 , 0.23450072, 0.23450072, 0.87859756, 0.87859756,\n",
       "         0.84273099, 0.84273099, 0.45486742, 0.45486742, 0.71651657,\n",
       "         0.71651657, 0.56846361, 0.56846361, 0.23031392, 0.23031392,\n",
       "         0.34001635, 0.34001635, 0.41372095, 0.41372095, 0.43577543,\n",
       "         0.43577543, 0.42182757, 0.42182757, 0.24032791, 0.24032791,\n",
       "         0.34392362, 0.34392362, 0.5726042 , 0.5726042 , 0.1104952 ,\n",
       "         0.1104952 , 0.63862382, 0.63862382, 0.40997227, 0.40997227,\n",
       "         0.61984198, 0.61984198, 0.73688779, 0.73688779, 0.52512893,\n",
       "         0.52512893, 0.66980916, 0.66980916, 0.23457258, 0.23457258,\n",
       "         0.17752716, 0.17752716, 0.85178917, 0.85178917, 0.44027306,\n",
       "         0.44027306, 0.89261029, 0.89261029, 0.23711495, 0.23711495,\n",
       "         0.24818427, 0.24818427, 0.9559067 , 0.9559067 , 0.55035582,\n",
       "         0.55035582, 0.42955705, 0.42955705, 0.88770822, 0.88770822,\n",
       "         0.15582115, 0.15582115, 0.34419541, 0.34419541, 0.65827498,\n",
       "         0.65827498, 0.44934084, 0.44934084, 0.16065397, 0.16065397,\n",
       "         0.00147326, 0.00147326, 0.8351421 , 0.8351421 , 0.04280609,\n",
       "         0.04280609, 0.06457648, 0.06457648, 0.69254073, 0.69254073,\n",
       "         0.1404512 , 0.1404512 , 0.38751078, 0.38751078, 0.07491186,\n",
       "         0.07491186, 0.45048813, 0.45048813, 0.69968071, 0.69968071,\n",
       "         0.93205331, 0.93205331, 0.17931863, 0.17931863, 0.41484801,\n",
       "         0.41484801, 0.15775084, 0.15775084, 0.79739953, 0.79739953,\n",
       "         0.31736502, 0.31736502, 0.41709864, 0.41709864, 0.02400609,\n",
       "         0.02400609, 0.93594474, 0.93594474, 0.04690558, 0.04690558,\n",
       "         0.26199117, 0.26199117, 0.17426163, 0.17426163, 0.99417529,\n",
       "         0.99417529, 0.55341933, 0.55341933, 0.95948379, 0.95948379,\n",
       "         0.50765021, 0.50765021, 0.41098562, 0.41098562, 0.52909457,\n",
       "         0.52909457, 0.08976547, 0.08976547, 0.5512537 , 0.5512537 ,\n",
       "         0.51789159, 0.51789159, 0.49354072, 0.49354072, 0.66691486,\n",
       "         0.66691486, 0.54891718, 0.54891718, 0.76814226, 0.76814226])}}"
      ]
     },
     "execution_count": 11,
     "metadata": {},
     "output_type": "execute_result"
    }
   ],
   "source": [
    "ds = load_by_id(run_id_n)\n",
    "ds.get_parameter_data('x1')"
   ]
  },
  {
   "cell_type": "markdown",
   "metadata": {},
   "source": [
    "And a dataset stored as binary arrays"
   ]
  },
  {
   "cell_type": "code",
   "execution_count": 12,
   "metadata": {
    "scrolled": true
   },
   "outputs": [
    {
     "data": {
      "text/plain": [
       "{'x1': {'x1': array([[0.04147328],\n",
       "         [0.04147328],\n",
       "         [0.94777627],\n",
       "         [0.94777627],\n",
       "         [0.9632333 ],\n",
       "         [0.9632333 ],\n",
       "         [0.00322119],\n",
       "         [0.00322119],\n",
       "         [0.59122086],\n",
       "         [0.59122086],\n",
       "         [0.10073041],\n",
       "         [0.10073041],\n",
       "         [0.63045013],\n",
       "         [0.63045013],\n",
       "         [0.1366701 ],\n",
       "         [0.1366701 ],\n",
       "         [0.62576717],\n",
       "         [0.62576717],\n",
       "         [0.37425174],\n",
       "         [0.37425174],\n",
       "         [0.59007883],\n",
       "         [0.59007883],\n",
       "         [0.70190274],\n",
       "         [0.70190274],\n",
       "         [0.09548961],\n",
       "         [0.09548961],\n",
       "         [0.32256733],\n",
       "         [0.32256733],\n",
       "         [0.11578252],\n",
       "         [0.11578252],\n",
       "         [0.75291367],\n",
       "         [0.75291367],\n",
       "         [0.88448285],\n",
       "         [0.88448285],\n",
       "         [0.11309163],\n",
       "         [0.11309163],\n",
       "         [0.1441678 ],\n",
       "         [0.1441678 ],\n",
       "         [0.56319118],\n",
       "         [0.56319118],\n",
       "         [0.06077353],\n",
       "         [0.06077353],\n",
       "         [0.97722493],\n",
       "         [0.97722493],\n",
       "         [0.11023981],\n",
       "         [0.11023981],\n",
       "         [0.31841232],\n",
       "         [0.31841232],\n",
       "         [0.71574868],\n",
       "         [0.71574868],\n",
       "         [0.46544438],\n",
       "         [0.46544438],\n",
       "         [0.21700575],\n",
       "         [0.21700575],\n",
       "         [0.73014098],\n",
       "         [0.73014098],\n",
       "         [0.19844505],\n",
       "         [0.19844505],\n",
       "         [0.07215096],\n",
       "         [0.07215096],\n",
       "         [0.76610765],\n",
       "         [0.76610765],\n",
       "         [0.97826119],\n",
       "         [0.97826119],\n",
       "         [0.22598042],\n",
       "         [0.22598042],\n",
       "         [0.25024743],\n",
       "         [0.25024743],\n",
       "         [0.33601463],\n",
       "         [0.33601463],\n",
       "         [0.29009684],\n",
       "         [0.29009684],\n",
       "         [0.70422022],\n",
       "         [0.70422022],\n",
       "         [0.07941259],\n",
       "         [0.07941259],\n",
       "         [0.63514944],\n",
       "         [0.63514944],\n",
       "         [0.47957384],\n",
       "         [0.47957384],\n",
       "         [0.12905415],\n",
       "         [0.12905415],\n",
       "         [0.87070431],\n",
       "         [0.87070431],\n",
       "         [0.87965701],\n",
       "         [0.87965701],\n",
       "         [0.95015059],\n",
       "         [0.95015059],\n",
       "         [0.4611409 ],\n",
       "         [0.4611409 ],\n",
       "         [0.8799372 ],\n",
       "         [0.8799372 ],\n",
       "         [0.72540692],\n",
       "         [0.72540692],\n",
       "         [0.79260584],\n",
       "         [0.79260584],\n",
       "         [0.92774003],\n",
       "         [0.92774003],\n",
       "         [0.65350407],\n",
       "         [0.65350407],\n",
       "         [0.79935092],\n",
       "         [0.79935092],\n",
       "         [0.62150808],\n",
       "         [0.62150808],\n",
       "         [0.67487725],\n",
       "         [0.67487725],\n",
       "         [0.58403115],\n",
       "         [0.58403115],\n",
       "         [0.90926966],\n",
       "         [0.90926966],\n",
       "         [0.01932001],\n",
       "         [0.01932001],\n",
       "         [0.18239279],\n",
       "         [0.18239279],\n",
       "         [0.14409186],\n",
       "         [0.14409186],\n",
       "         [0.42215483],\n",
       "         [0.42215483],\n",
       "         [0.2644181 ],\n",
       "         [0.2644181 ],\n",
       "         [0.23659982],\n",
       "         [0.23659982],\n",
       "         [0.0957999 ],\n",
       "         [0.0957999 ],\n",
       "         [0.53241109],\n",
       "         [0.53241109],\n",
       "         [0.10360646],\n",
       "         [0.10360646],\n",
       "         [0.59884462],\n",
       "         [0.59884462],\n",
       "         [0.63916609],\n",
       "         [0.63916609],\n",
       "         [0.56782525],\n",
       "         [0.56782525],\n",
       "         [0.9334753 ],\n",
       "         [0.9334753 ],\n",
       "         [0.68217145],\n",
       "         [0.68217145],\n",
       "         [0.88608709],\n",
       "         [0.88608709],\n",
       "         [0.24883126],\n",
       "         [0.24883126],\n",
       "         [0.42307835],\n",
       "         [0.42307835],\n",
       "         [0.25998335],\n",
       "         [0.25998335],\n",
       "         [0.64958781],\n",
       "         [0.64958781],\n",
       "         [0.55311952],\n",
       "         [0.55311952],\n",
       "         [0.58376131],\n",
       "         [0.58376131],\n",
       "         [0.64132083],\n",
       "         [0.64132083],\n",
       "         [0.72410107],\n",
       "         [0.72410107],\n",
       "         [0.24881052],\n",
       "         [0.24881052],\n",
       "         [0.65262083],\n",
       "         [0.65262083],\n",
       "         [0.70927375],\n",
       "         [0.70927375],\n",
       "         [0.8527428 ],\n",
       "         [0.8527428 ],\n",
       "         [0.10822959],\n",
       "         [0.10822959],\n",
       "         [0.33959154],\n",
       "         [0.33959154],\n",
       "         [0.27158605],\n",
       "         [0.27158605],\n",
       "         [0.6429115 ],\n",
       "         [0.6429115 ],\n",
       "         [0.37934719],\n",
       "         [0.37934719],\n",
       "         [0.73642499],\n",
       "         [0.73642499],\n",
       "         [0.60294791],\n",
       "         [0.60294791],\n",
       "         [0.80170311],\n",
       "         [0.80170311],\n",
       "         [0.75710191],\n",
       "         [0.75710191],\n",
       "         [0.87911227],\n",
       "         [0.87911227],\n",
       "         [0.21257929],\n",
       "         [0.21257929],\n",
       "         [0.68752576],\n",
       "         [0.68752576],\n",
       "         [0.20736797],\n",
       "         [0.20736797],\n",
       "         [0.39104998],\n",
       "         [0.39104998],\n",
       "         [0.70162594],\n",
       "         [0.70162594],\n",
       "         [0.47295281],\n",
       "         [0.47295281],\n",
       "         [0.61701142],\n",
       "         [0.61701142],\n",
       "         [0.554767  ],\n",
       "         [0.554767  ]])}}"
      ]
     },
     "execution_count": 12,
     "metadata": {},
     "output_type": "execute_result"
    }
   ],
   "source": [
    "ds = load_by_id(run_id_a)\n",
    "ds.get_parameter_data('x1')"
   ]
  },
  {
   "cell_type": "code",
   "execution_count": null,
   "metadata": {},
   "outputs": [],
   "source": []
  }
 ],
 "metadata": {
  "kernelspec": {
   "display_name": "Python 3",
   "language": "python",
   "name": "python3"
  },
  "language_info": {
   "codemirror_mode": {
    "name": "ipython",
    "version": 3
   },
   "file_extension": ".py",
   "mimetype": "text/x-python",
   "name": "python",
   "nbconvert_exporter": "python",
   "pygments_lexer": "ipython3",
   "version": "3.7.7"
  },
  "nbsphinx": {
   "timeout": 600
  },
  "toc": {
   "base_numbering": 1,
   "nav_menu": {},
   "number_sections": true,
   "sideBar": true,
   "skip_h1_title": false,
   "title_cell": "Table of Contents",
   "title_sidebar": "Contents",
   "toc_cell": false,
   "toc_position": {},
   "toc_section_display": true,
   "toc_window_display": false
  },
  "varInspector": {
   "cols": {
    "lenName": 16,
    "lenType": 16,
    "lenVar": 40
   },
   "kernels_config": {
    "python": {
     "delete_cmd_postfix": "",
     "delete_cmd_prefix": "del ",
     "library": "var_list.py",
     "varRefreshCmd": "print(var_dic_list())"
    },
    "r": {
     "delete_cmd_postfix": ") ",
     "delete_cmd_prefix": "rm(",
     "library": "var_list.r",
     "varRefreshCmd": "cat(var_dic_list()) "
    }
   },
   "types_to_exclude": [
    "module",
    "function",
    "builtin_function_or_method",
    "instance",
    "_Feature"
   ],
   "window_display": false
  }
 },
 "nbformat": 4,
 "nbformat_minor": 2
}
