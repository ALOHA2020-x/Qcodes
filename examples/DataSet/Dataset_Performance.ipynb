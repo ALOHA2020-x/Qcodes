{
 "cells": [
  {
   "cell_type": "markdown",
   "metadata": {},
   "source": [
    "# DataSet Performance\n",
    "\n",
    "This notebook shows the trade-off between inserting data into a database row-by-row and as binary blobs. Inserting the data row-by-row means that we have direct access to all the data and may perform queries directly on the values of the data. On the other hand, as we shall see, this is much slower than inserting the data directly as binary blobs."
   ]
  },
  {
   "cell_type": "markdown",
   "metadata": {},
   "source": [
    "First, we choose a new location for the database to ensure that we don't add a bunch of benchmarking data to the default one."
   ]
  },
  {
   "cell_type": "code",
   "execution_count": 1,
   "metadata": {
    "execution": {
     "iopub.execute_input": "2020-10-13T10:02:21.220137Z",
     "iopub.status.busy": "2020-10-13T10:02:21.219209Z",
     "iopub.status.idle": "2020-10-13T10:02:22.022260Z",
     "shell.execute_reply": "2020-10-13T10:02:22.022877Z"
    }
   },
   "outputs": [
    {
     "name": "stdout",
     "output_type": "stream",
     "text": [
      "Logging hadn't been started.\n",
      "Activating auto-logging. Current session state plus future input saved.\n",
      "Filename       : /home/vsts/.qcodes/logs/command_history.log\n",
      "Mode           : append\n",
      "Output logging : True\n",
      "Raw input log  : False\n",
      "Timestamping   : True\n",
      "State          : active\n"
     ]
    },
    {
     "name": "stdout",
     "output_type": "stream",
     "text": [
      "Qcodes Logfile : /home/vsts/.qcodes/logs/201013-15461-qcodes.log\n"
     ]
    }
   ],
   "source": [
    "import os\n",
    "cwd = os.getcwd()\n",
    "import qcodes as qc\n",
    "qc.config[\"core\"][\"db_location\"] = os.path.join(cwd, 'testing.db')\n"
   ]
  },
  {
   "cell_type": "code",
   "execution_count": 2,
   "metadata": {
    "execution": {
     "iopub.execute_input": "2020-10-13T10:02:22.030556Z",
     "iopub.status.busy": "2020-10-13T10:02:22.029730Z",
     "iopub.status.idle": "2020-10-13T10:02:22.192556Z",
     "shell.execute_reply": "2020-10-13T10:02:22.191745Z"
    }
   },
   "outputs": [],
   "source": [
    "%matplotlib inline\n",
    "import time\n",
    "import matplotlib.pyplot as plt\n",
    "import numpy as np\n",
    "\n",
    "import qcodes as qc\n",
    "from qcodes.instrument.parameter import ManualParameter\n",
    "from qcodes.dataset.experiment_container import (Experiment,\n",
    "                                                 load_last_experiment,\n",
    "                                                 new_experiment)\n",
    "from qcodes.dataset.sqlite.database import initialise_database\n",
    "from qcodes import load_or_create_experiment\n",
    "from qcodes.dataset.measurements import Measurement"
   ]
  },
  {
   "cell_type": "code",
   "execution_count": 3,
   "metadata": {
    "execution": {
     "iopub.execute_input": "2020-10-13T10:02:22.195935Z",
     "iopub.status.busy": "2020-10-13T10:02:22.195414Z",
     "iopub.status.idle": "2020-10-13T10:02:22.290590Z",
     "shell.execute_reply": "2020-10-13T10:02:22.290033Z"
    }
   },
   "outputs": [
    {
     "name": "stdout",
     "output_type": "stream",
     "text": [
      "\r",
      "0it [00:00, ?it/s]"
     ]
    },
    {
     "name": "stdout",
     "output_type": "stream",
     "text": [
      "\r",
      "Upgrading database; v0 -> v1: : 0it [00:00, ?it/s]"
     ]
    },
    {
     "name": "stdout",
     "output_type": "stream",
     "text": [
      "\r",
      "Upgrading database; v0 -> v1: : 0it [00:00, ?it/s]"
     ]
    },
    {
     "name": "stdout",
     "output_type": "stream",
     "text": [
      "\n",
      "\r",
      "  0%|          | 0/1 [00:00<?, ?it/s]"
     ]
    },
    {
     "name": "stdout",
     "output_type": "stream",
     "text": [
      "\r",
      "Upgrading database; v1 -> v2:   0%|          | 0/1 [00:00<?, ?it/s]"
     ]
    },
    {
     "name": "stdout",
     "output_type": "stream",
     "text": [
      "\r",
      "Upgrading database; v1 -> v2: 100%|██████████| 1/1 [00:00<00:00, 979.98it/s]"
     ]
    },
    {
     "name": "stdout",
     "output_type": "stream",
     "text": [
      "\n",
      "\r",
      "0it [00:00, ?it/s]"
     ]
    },
    {
     "name": "stdout",
     "output_type": "stream",
     "text": [
      "\r",
      "Upgrading database; v2 -> v3: : 0it [00:00, ?it/s]"
     ]
    },
    {
     "name": "stdout",
     "output_type": "stream",
     "text": [
      "\r",
      "Upgrading database; v2 -> v3: : 0it [00:00, ?it/s]"
     ]
    },
    {
     "name": "stdout",
     "output_type": "stream",
     "text": [
      "\n",
      "\r",
      "0it [00:00, ?it/s]"
     ]
    },
    {
     "name": "stdout",
     "output_type": "stream",
     "text": [
      "\r",
      "Upgrading database; v3 -> v4: : 0it [00:00, ?it/s]"
     ]
    },
    {
     "name": "stdout",
     "output_type": "stream",
     "text": [
      "\r",
      "Upgrading database; v3 -> v4: : 0it [00:00, ?it/s]"
     ]
    },
    {
     "name": "stdout",
     "output_type": "stream",
     "text": [
      "\n",
      "\r",
      "  0%|          | 0/1 [00:00<?, ?it/s]"
     ]
    },
    {
     "name": "stdout",
     "output_type": "stream",
     "text": [
      "\r",
      "Upgrading database; v4 -> v5:   0%|          | 0/1 [00:00<?, ?it/s]"
     ]
    },
    {
     "name": "stdout",
     "output_type": "stream",
     "text": [
      "\r",
      "Upgrading database; v4 -> v5: 100%|██████████| 1/1 [00:00<00:00, 788.70it/s]"
     ]
    },
    {
     "name": "stdout",
     "output_type": "stream",
     "text": [
      "\n",
      "\r",
      "0it [00:00, ?it/s]"
     ]
    },
    {
     "name": "stdout",
     "output_type": "stream",
     "text": [
      "\r",
      "Upgrading database; v5 -> v6: : 0it [00:00, ?it/s]"
     ]
    },
    {
     "name": "stdout",
     "output_type": "stream",
     "text": [
      "\r",
      "Upgrading database; v5 -> v6: : 0it [00:00, ?it/s]"
     ]
    },
    {
     "name": "stdout",
     "output_type": "stream",
     "text": [
      "\n",
      "\r",
      "  0%|          | 0/1 [00:00<?, ?it/s]"
     ]
    },
    {
     "name": "stdout",
     "output_type": "stream",
     "text": [
      "\r",
      "Upgrading database; v6 -> v7:   0%|          | 0/1 [00:00<?, ?it/s]"
     ]
    },
    {
     "name": "stdout",
     "output_type": "stream",
     "text": [
      "\r",
      "Upgrading database; v6 -> v7: 100%|██████████| 1/1 [00:00<00:00, 320.98it/s]"
     ]
    },
    {
     "name": "stdout",
     "output_type": "stream",
     "text": [
      "\n",
      "\r",
      "  0%|          | 0/1 [00:00<?, ?it/s]"
     ]
    },
    {
     "name": "stdout",
     "output_type": "stream",
     "text": [
      "\r",
      "Upgrading database; v7 -> v8:   0%|          | 0/1 [00:00<?, ?it/s]"
     ]
    },
    {
     "name": "stdout",
     "output_type": "stream",
     "text": [
      "\r",
      "Upgrading database; v7 -> v8: 100%|██████████| 1/1 [00:00<00:00, 1102.89it/s]"
     ]
    },
    {
     "name": "stdout",
     "output_type": "stream",
     "text": [
      "\n",
      "\r",
      "  0%|          | 0/1 [00:00<?, ?it/s]"
     ]
    },
    {
     "name": "stdout",
     "output_type": "stream",
     "text": [
      "\r",
      "Upgrading database; v8 -> v9:   0%|          | 0/1 [00:00<?, ?it/s]"
     ]
    },
    {
     "name": "stdout",
     "output_type": "stream",
     "text": [
      "\r",
      "Upgrading database; v8 -> v9: 100%|██████████| 1/1 [00:00<00:00, 615.63it/s]"
     ]
    },
    {
     "name": "stdout",
     "output_type": "stream",
     "text": [
      "\n"
     ]
    }
   ],
   "source": [
    "initialise_database()\n",
    "exp = load_or_create_experiment(experiment_name='tutorial_exp', sample_name=\"no sample\")"
   ]
  },
  {
   "cell_type": "markdown",
   "metadata": {},
   "source": [
    "Here, we define a simple function to benchmark the time it takes to insert n points with either numeric or array data type.\n",
    "We will compare both the time used to call ``add_result`` and the time used for the full measurement."
   ]
  },
  {
   "cell_type": "code",
   "execution_count": 4,
   "metadata": {
    "execution": {
     "iopub.execute_input": "2020-10-13T10:02:22.297242Z",
     "iopub.status.busy": "2020-10-13T10:02:22.296711Z",
     "iopub.status.idle": "2020-10-13T10:02:22.300058Z",
     "shell.execute_reply": "2020-10-13T10:02:22.299575Z"
    }
   },
   "outputs": [],
   "source": [
    "def insert_data(paramtype, npoints, nreps=1):\n",
    "\n",
    "    meas = Measurement(exp=exp)\n",
    "\n",
    "    x1 = ManualParameter('x1')\n",
    "    x2 = ManualParameter('x2')\n",
    "    x3 = ManualParameter('x3')\n",
    "    y1 = ManualParameter('y1')\n",
    "    y2 = ManualParameter('y2')\n",
    "\n",
    "    meas.register_parameter(x1, paramtype=paramtype)\n",
    "    meas.register_parameter(x2, paramtype=paramtype)\n",
    "    meas.register_parameter(x3, paramtype=paramtype)\n",
    "    meas.register_parameter(y1, setpoints=[x1, x2, x3],\n",
    "                            paramtype=paramtype)\n",
    "    meas.register_parameter(y2, setpoints=[x1, x2, x3],\n",
    "                            paramtype=paramtype)\n",
    "    start = time.perf_counter()\n",
    "    with meas.run() as datasaver:\n",
    "        start_adding = time.perf_counter()\n",
    "        for i in range(nreps):\n",
    "            datasaver.add_result((x1, np.random.rand(npoints)),\n",
    "                                 (x2, np.random.rand(npoints)),\n",
    "                                 (x3, np.random.rand(npoints)),\n",
    "                                 (y1, np.random.rand(npoints)),\n",
    "                                 (y2, np.random.rand(npoints)))\n",
    "        stop_adding = time.perf_counter()\n",
    "        run_id = datasaver.run_id\n",
    "    stop = time.perf_counter()\n",
    "    tot_time = stop - start\n",
    "    add_time = stop_adding - start_adding\n",
    "    return tot_time, add_time, run_id"
   ]
  },
  {
   "cell_type": "markdown",
   "metadata": {},
   "source": [
    "## Comparison between numeric/array data and binary blob"
   ]
  },
  {
   "cell_type": "markdown",
   "metadata": {},
   "source": [
    "### Case1: Short experiment time"
   ]
  },
  {
   "cell_type": "code",
   "execution_count": 5,
   "metadata": {
    "execution": {
     "iopub.execute_input": "2020-10-13T10:02:22.305080Z",
     "iopub.status.busy": "2020-10-13T10:02:22.304182Z",
     "iopub.status.idle": "2020-10-13T10:02:22.988841Z",
     "shell.execute_reply": "2020-10-13T10:02:22.988432Z"
    }
   },
   "outputs": [
    {
     "name": "stdout",
     "output_type": "stream",
     "text": [
      "Starting experimental run with id: 1. \n",
      "Starting experimental run with id: 2. \n",
      "Starting experimental run with id: 3. \n",
      "Starting experimental run with id: 4. \n",
      "Starting experimental run with id: 5. \n"
     ]
    },
    {
     "name": "stdout",
     "output_type": "stream",
     "text": [
      "Starting experimental run with id: 6. \n"
     ]
    },
    {
     "name": "stdout",
     "output_type": "stream",
     "text": [
      "Starting experimental run with id: 7. \n"
     ]
    },
    {
     "name": "stdout",
     "output_type": "stream",
     "text": [
      "Starting experimental run with id: 8. \n",
      "Starting experimental run with id: 9. \n",
      "Starting experimental run with id: 10. \n"
     ]
    },
    {
     "name": "stdout",
     "output_type": "stream",
     "text": [
      "Starting experimental run with id: 11. \n"
     ]
    },
    {
     "name": "stdout",
     "output_type": "stream",
     "text": [
      "Starting experimental run with id: 12. \n",
      "Starting experimental run with id: 13. \n"
     ]
    },
    {
     "name": "stdout",
     "output_type": "stream",
     "text": [
      "Starting experimental run with id: 14. \n"
     ]
    }
   ],
   "source": [
    "sizes = [1,500,1000,2000,3000,4000,5000]\n",
    "t_numeric = []\n",
    "t_numeric_add = []\n",
    "t_array = []\n",
    "t_array_add = []\n",
    "for size in sizes:\n",
    "    tn, tna, run_id_n =  insert_data('numeric', size)\n",
    "    t_numeric.append(tn)\n",
    "    t_numeric_add.append(tna)\n",
    "\n",
    "    ta, taa, run_id_a =  insert_data('array', size)\n",
    "    t_array.append(ta)\n",
    "    t_array_add.append(taa)"
   ]
  },
  {
   "cell_type": "code",
   "execution_count": 6,
   "metadata": {
    "execution": {
     "iopub.execute_input": "2020-10-13T10:02:23.003425Z",
     "iopub.status.busy": "2020-10-13T10:02:23.002963Z",
     "iopub.status.idle": "2020-10-13T10:02:23.152307Z",
     "shell.execute_reply": "2020-10-13T10:02:23.151886Z"
    }
   },
   "outputs": [
    {
     "data": {
      "image/png": "[encoded data removed]",
      "text/plain": [
       "<Figure size 432x288 with 1 Axes>"
      ]
     },
     "metadata": {
      "needs_background": "light"
     },
     "output_type": "display_data"
    }
   ],
   "source": [
    "fig, ax = plt.subplots(1,1)\n",
    "ax.plot(sizes, t_numeric, 'o-', label='Inserting row-by-row')\n",
    "ax.plot(sizes, t_numeric_add, 'o-', label='Inserting row-by-row: add_result only')\n",
    "ax.plot(sizes, t_array, 'd-', label='Inserting as binary blob')\n",
    "ax.plot(sizes, t_array_add, 'd-', label='Inserting as binary blob: add_result only')\n",
    "ax.legend()\n",
    "ax.set_xlabel('Array length')\n",
    "ax.set_ylabel('Time (s)')\n",
    "fig.tight_layout()"
   ]
  },
  {
   "cell_type": "markdown",
   "metadata": {},
   "source": [
    "As shown in the latter figure, the time to setup and and close the experiment is approximately 0.4 sec. In case of small array sizes, the difference between inserting values of data as arrays and inserting them row-by-row is relatively unimportant. At larger array sizes, i.e. above 10000 points, the cost of writing data as individual datapoints starts to become important.\n"
   ]
  },
  {
   "cell_type": "markdown",
   "metadata": {},
   "source": [
    "### Case2: Long experiment time "
   ]
  },
  {
   "cell_type": "code",
   "execution_count": 7,
   "metadata": {
    "execution": {
     "iopub.execute_input": "2020-10-13T10:02:23.158609Z",
     "iopub.status.busy": "2020-10-13T10:02:23.157899Z",
     "iopub.status.idle": "2020-10-13T10:03:13.996673Z",
     "shell.execute_reply": "2020-10-13T10:03:13.995576Z"
    }
   },
   "outputs": [
    {
     "name": "stdout",
     "output_type": "stream",
     "text": [
      "Starting experimental run with id: 15. \n"
     ]
    },
    {
     "name": "stdout",
     "output_type": "stream",
     "text": [
      "Starting experimental run with id: 16. \n",
      "Starting experimental run with id: 17. \n"
     ]
    },
    {
     "name": "stdout",
     "output_type": "stream",
     "text": [
      "Starting experimental run with id: 18. \n",
      "Starting experimental run with id: 19. \n"
     ]
    },
    {
     "name": "stdout",
     "output_type": "stream",
     "text": [
      "Starting experimental run with id: 20. \n"
     ]
    },
    {
     "name": "stdout",
     "output_type": "stream",
     "text": [
      "Starting experimental run with id: 21. \n"
     ]
    },
    {
     "name": "stdout",
     "output_type": "stream",
     "text": [
      "Starting experimental run with id: 22. \n"
     ]
    },
    {
     "name": "stdout",
     "output_type": "stream",
     "text": [
      "Starting experimental run with id: 23. \n"
     ]
    },
    {
     "name": "stdout",
     "output_type": "stream",
     "text": [
      "Starting experimental run with id: 24. \n"
     ]
    },
    {
     "name": "stdout",
     "output_type": "stream",
     "text": [
      "Starting experimental run with id: 25. \n"
     ]
    },
    {
     "name": "stdout",
     "output_type": "stream",
     "text": [
      "Starting experimental run with id: 26. \n"
     ]
    },
    {
     "name": "stdout",
     "output_type": "stream",
     "text": [
      "Starting experimental run with id: 27. \n"
     ]
    },
    {
     "name": "stdout",
     "output_type": "stream",
     "text": [
      "Starting experimental run with id: 28. \n"
     ]
    }
   ],
   "source": [
    "sizes = [1,500,1000,2000,3000,4000,5000]\n",
    "nreps = 100\n",
    "t_numeric = []\n",
    "t_numeric_add = []\n",
    "t_numeric_run_ids = []\n",
    "t_array = []\n",
    "t_array_add = []\n",
    "t_array_run_ids = []\n",
    "for size in sizes:\n",
    "    tn, tna, run_id_n =  insert_data('numeric', size, nreps=nreps)\n",
    "    t_numeric.append(tn)\n",
    "    t_numeric_add.append(tna)\n",
    "    t_numeric_run_ids.append(run_id_n)\n",
    "\n",
    "    ta, taa, run_id_a =  insert_data('array', size, nreps=nreps)\n",
    "    t_array.append(ta)\n",
    "    t_array_add.append(taa)\n",
    "    t_array_run_ids.append(run_id_a)"
   ]
  },
  {
   "cell_type": "code",
   "execution_count": 8,
   "metadata": {
    "execution": {
     "iopub.execute_input": "2020-10-13T10:03:14.012219Z",
     "iopub.status.busy": "2020-10-13T10:03:14.011190Z",
     "iopub.status.idle": "2020-10-13T10:03:14.147733Z",
     "shell.execute_reply": "2020-10-13T10:03:14.147237Z"
    },
    "scrolled": true
   },
   "outputs": [
    {
     "data": {
      "image/png": "[encoded data removed]",
      "text/plain": [
       "<Figure size 432x288 with 1 Axes>"
      ]
     },
     "metadata": {
      "needs_background": "light"
     },
     "output_type": "display_data"
    }
   ],
   "source": [
    "fig, ax = plt.subplots(1,1)\n",
    "ax.plot(sizes, t_numeric, 'o-', label='Inserting row-by-row')\n",
    "ax.plot(sizes, t_numeric_add, 'o-', label='Inserting row-by-row: add_result only')\n",
    "ax.plot(sizes, t_array, 'd-', label='Inserting as binary blob')\n",
    "ax.plot(sizes, t_array_add, 'd-', label='Inserting as binary blob: add_result only')\n",
    "ax.legend()\n",
    "ax.set_xlabel('Array length')\n",
    "ax.set_ylabel('Time (s)')\n",
    "fig.tight_layout()"
   ]
  },
  {
   "cell_type": "markdown",
   "metadata": {},
   "source": [
    "However, as we increase the length of the experiment, as seen here by repeating the insertion 100 times, we see a big difference between inserting values of the data row-by-row and inserting it as a binary blob."
   ]
  },
  {
   "cell_type": "markdown",
   "metadata": {},
   "source": [
    "## Loading the data "
   ]
  },
  {
   "cell_type": "code",
   "execution_count": 9,
   "metadata": {
    "execution": {
     "iopub.execute_input": "2020-10-13T10:03:14.152200Z",
     "iopub.status.busy": "2020-10-13T10:03:14.151129Z",
     "iopub.status.idle": "2020-10-13T10:03:14.155078Z",
     "shell.execute_reply": "2020-10-13T10:03:14.154508Z"
    }
   },
   "outputs": [],
   "source": [
    "from qcodes.dataset.data_set import load_by_id\n",
    "from qcodes.dataset.data_export import get_data_by_id"
   ]
  },
  {
   "cell_type": "markdown",
   "metadata": {},
   "source": [
    "As usual you can load the data by using the ``load_by_id`` function but you will notice that the different storage methods\n",
    "are reflected in shape of the data as it is retrieved. "
   ]
  },
  {
   "cell_type": "code",
   "execution_count": 10,
   "metadata": {
    "execution": {
     "iopub.execute_input": "2020-10-13T10:03:14.158973Z",
     "iopub.status.busy": "2020-10-13T10:03:14.158194Z",
     "iopub.status.idle": "2020-10-13T10:03:14.159825Z",
     "shell.execute_reply": "2020-10-13T10:03:14.160353Z"
    }
   },
   "outputs": [],
   "source": [
    "run_id_n = t_numeric_run_ids[0]\n",
    "run_id_a = t_array_run_ids[0]"
   ]
  },
  {
   "cell_type": "code",
   "execution_count": 11,
   "metadata": {
    "execution": {
     "iopub.execute_input": "2020-10-13T10:03:14.162791Z",
     "iopub.status.busy": "2020-10-13T10:03:14.162376Z",
     "iopub.status.idle": "2020-10-13T10:03:14.169795Z",
     "shell.execute_reply": "2020-10-13T10:03:14.169475Z"
    },
    "scrolled": true
   },
   "outputs": [
    {
     "data": {
      "text/plain": [
       "{'x1': {'x1': array([0.41707009, 0.41707009, 0.96085118, 0.96085118, 0.52084704,\n",
       "         0.52084704, 0.61938347, 0.61938347, 0.164514  , 0.164514  ,\n",
       "         0.66218226, 0.66218226, 0.53593706, 0.53593706, 0.65490417,\n",
       "         0.65490417, 0.48828952, 0.48828952, 0.94510321, 0.94510321,\n",
       "         0.04413524, 0.04413524, 0.12047982, 0.12047982, 0.80747194,\n",
       "         0.80747194, 0.13880927, 0.13880927, 0.49751052, 0.49751052,\n",
       "         0.19322211, 0.19322211, 0.1192988 , 0.1192988 , 0.84936117,\n",
       "         0.84936117, 0.44604953, 0.44604953, 0.74978415, 0.74978415,\n",
       "         0.57424814, 0.57424814, 0.66005113, 0.66005113, 0.06649433,\n",
       "         0.06649433, 0.17980353, 0.17980353, 0.71013767, 0.71013767,\n",
       "         0.80426127, 0.80426127, 0.67566412, 0.67566412, 0.82363588,\n",
       "         0.82363588, 0.75554145, 0.75554145, 0.2528109 , 0.2528109 ,\n",
       "         0.35518513, 0.35518513, 0.54637035, 0.54637035, 0.26748421,\n",
       "         0.26748421, 0.92730903, 0.92730903, 0.05411983, 0.05411983,\n",
       "         0.37276728, 0.37276728, 0.29470303, 0.29470303, 0.43429533,\n",
       "         0.43429533, 0.21506713, 0.21506713, 0.56454218, 0.56454218,\n",
       "         0.03158303, 0.03158303, 0.89320569, 0.89320569, 0.88499564,\n",
       "         0.88499564, 0.90265447, 0.90265447, 0.48647217, 0.48647217,\n",
       "         0.05933034, 0.05933034, 0.22684453, 0.22684453, 0.5114496 ,\n",
       "         0.5114496 , 0.50123404, 0.50123404, 0.6776485 , 0.6776485 ,\n",
       "         0.56941043, 0.56941043, 0.57863376, 0.57863376, 0.97387606,\n",
       "         0.97387606, 0.62545852, 0.62545852, 0.8527467 , 0.8527467 ,\n",
       "         0.36664619, 0.36664619, 0.63332484, 0.63332484, 0.0137598 ,\n",
       "         0.0137598 , 0.77921014, 0.77921014, 0.64168456, 0.64168456,\n",
       "         0.98199187, 0.98199187, 0.80400223, 0.80400223, 0.73855228,\n",
       "         0.73855228, 0.50600807, 0.50600807, 0.65958843, 0.65958843,\n",
       "         0.95019729, 0.95019729, 0.09348134, 0.09348134, 0.52490445,\n",
       "         0.52490445, 0.21950937, 0.21950937, 0.31557726, 0.31557726,\n",
       "         0.36910737, 0.36910737, 0.45752684, 0.45752684, 0.66279659,\n",
       "         0.66279659, 0.02724864, 0.02724864, 0.31729442, 0.31729442,\n",
       "         0.65425338, 0.65425338, 0.67905793, 0.67905793, 0.10796524,\n",
       "         0.10796524, 0.14136335, 0.14136335, 0.42493728, 0.42493728,\n",
       "         0.02925679, 0.02925679, 0.18007949, 0.18007949, 0.19156772,\n",
       "         0.19156772, 0.7451525 , 0.7451525 , 0.51437131, 0.51437131,\n",
       "         0.52688587, 0.52688587, 0.53326622, 0.53326622, 0.04309546,\n",
       "         0.04309546, 0.94609306, 0.94609306, 0.56242734, 0.56242734,\n",
       "         0.32354269, 0.32354269, 0.89178559, 0.89178559, 0.65470446,\n",
       "         0.65470446, 0.93090803, 0.93090803, 0.40555665, 0.40555665,\n",
       "         0.3440436 , 0.3440436 , 0.83647384, 0.83647384, 0.05467564,\n",
       "         0.05467564, 0.34000633, 0.34000633, 0.66953838, 0.66953838])}}"
      ]
     },
     "execution_count": 1,
     "metadata": {},
     "output_type": "execute_result"
    }
   ],
   "source": [
    "ds = load_by_id(run_id_n)\n",
    "ds.get_parameter_data('x1')"
   ]
  },
  {
   "cell_type": "markdown",
   "metadata": {},
   "source": [
    "And a dataset stored as binary arrays"
   ]
  },
  {
   "cell_type": "code",
   "execution_count": 12,
   "metadata": {
    "execution": {
     "iopub.execute_input": "2020-10-13T10:03:14.172408Z",
     "iopub.status.busy": "2020-10-13T10:03:14.171932Z",
     "iopub.status.idle": "2020-10-13T10:03:14.217439Z",
     "shell.execute_reply": "2020-10-13T10:03:14.218347Z"
    },
    "scrolled": true
   },
   "outputs": [
    {
     "data": {
      "text/plain": [
       "{'x1': {'x1': array([[0.41326387],\n",
       "         [0.41326387],\n",
       "         [0.23990909],\n",
       "         [0.23990909],\n",
       "         [0.7350374 ],\n",
       "         [0.7350374 ],\n",
       "         [0.77041896],\n",
       "         [0.77041896],\n",
       "         [0.29137547],\n",
       "         [0.29137547],\n",
       "         [0.78527118],\n",
       "         [0.78527118],\n",
       "         [0.55428154],\n",
       "         [0.55428154],\n",
       "         [0.29170444],\n",
       "         [0.29170444],\n",
       "         [0.70305165],\n",
       "         [0.70305165],\n",
       "         [0.98589111],\n",
       "         [0.98589111],\n",
       "         [0.61222436],\n",
       "         [0.61222436],\n",
       "         [0.60323932],\n",
       "         [0.60323932],\n",
       "         [0.54842552],\n",
       "         [0.54842552],\n",
       "         [0.17567749],\n",
       "         [0.17567749],\n",
       "         [0.06940658],\n",
       "         [0.06940658],\n",
       "         [0.17412873],\n",
       "         [0.17412873],\n",
       "         [0.25126633],\n",
       "         [0.25126633],\n",
       "         [0.15236323],\n",
       "         [0.15236323],\n",
       "         [0.30589979],\n",
       "         [0.30589979],\n",
       "         [0.26294874],\n",
       "         [0.26294874],\n",
       "         [0.60335445],\n",
       "         [0.60335445],\n",
       "         [0.15753532],\n",
       "         [0.15753532],\n",
       "         [0.59170676],\n",
       "         [0.59170676],\n",
       "         [0.25827208],\n",
       "         [0.25827208],\n",
       "         [0.18401752],\n",
       "         [0.18401752],\n",
       "         [0.82712061],\n",
       "         [0.82712061],\n",
       "         [0.34716738],\n",
       "         [0.34716738],\n",
       "         [0.69046284],\n",
       "         [0.69046284],\n",
       "         [0.18548874],\n",
       "         [0.18548874],\n",
       "         [0.84225496],\n",
       "         [0.84225496],\n",
       "         [0.50762299],\n",
       "         [0.50762299],\n",
       "         [0.51734191],\n",
       "         [0.51734191],\n",
       "         [0.85147707],\n",
       "         [0.85147707],\n",
       "         [0.40342608],\n",
       "         [0.40342608],\n",
       "         [0.31384192],\n",
       "         [0.31384192],\n",
       "         [0.82565413],\n",
       "         [0.82565413],\n",
       "         [0.76662325],\n",
       "         [0.76662325],\n",
       "         [0.83173071],\n",
       "         [0.83173071],\n",
       "         [0.30954997],\n",
       "         [0.30954997],\n",
       "         [0.78762634],\n",
       "         [0.78762634],\n",
       "         [0.35630008],\n",
       "         [0.35630008],\n",
       "         [0.57715003],\n",
       "         [0.57715003],\n",
       "         [0.26437858],\n",
       "         [0.26437858],\n",
       "         [0.14936744],\n",
       "         [0.14936744],\n",
       "         [0.49027569],\n",
       "         [0.49027569],\n",
       "         [0.49027006],\n",
       "         [0.49027006],\n",
       "         [0.46892357],\n",
       "         [0.46892357],\n",
       "         [0.9740453 ],\n",
       "         [0.9740453 ],\n",
       "         [0.60910433],\n",
       "         [0.60910433],\n",
       "         [0.13889867],\n",
       "         [0.13889867],\n",
       "         [0.23091765],\n",
       "         [0.23091765],\n",
       "         [0.42001761],\n",
       "         [0.42001761],\n",
       "         [0.84135562],\n",
       "         [0.84135562],\n",
       "         [0.14430938],\n",
       "         [0.14430938],\n",
       "         [0.28088872],\n",
       "         [0.28088872],\n",
       "         [0.57597385],\n",
       "         [0.57597385],\n",
       "         [0.15676269],\n",
       "         [0.15676269],\n",
       "         [0.0931785 ],\n",
       "         [0.0931785 ],\n",
       "         [0.35753241],\n",
       "         [0.35753241],\n",
       "         [0.75252035],\n",
       "         [0.75252035],\n",
       "         [0.34393081],\n",
       "         [0.34393081],\n",
       "         [0.0052064 ],\n",
       "         [0.0052064 ],\n",
       "         [0.68798931],\n",
       "         [0.68798931],\n",
       "         [0.801374  ],\n",
       "         [0.801374  ],\n",
       "         [0.96265123],\n",
       "         [0.96265123],\n",
       "         [0.92183699],\n",
       "         [0.92183699],\n",
       "         [0.36968439],\n",
       "         [0.36968439],\n",
       "         [0.43772457],\n",
       "         [0.43772457],\n",
       "         [0.41685685],\n",
       "         [0.41685685],\n",
       "         [0.63219471],\n",
       "         [0.63219471],\n",
       "         [0.99926239],\n",
       "         [0.99926239],\n",
       "         [0.25253819],\n",
       "         [0.25253819],\n",
       "         [0.29473459],\n",
       "         [0.29473459],\n",
       "         [0.1381632 ],\n",
       "         [0.1381632 ],\n",
       "         [0.17413478],\n",
       "         [0.17413478],\n",
       "         [0.65930455],\n",
       "         [0.65930455],\n",
       "         [0.55704031],\n",
       "         [0.55704031],\n",
       "         [0.61700842],\n",
       "         [0.61700842],\n",
       "         [0.98264254],\n",
       "         [0.98264254],\n",
       "         [0.99011272],\n",
       "         [0.99011272],\n",
       "         [0.61617789],\n",
       "         [0.61617789],\n",
       "         [0.72926387],\n",
       "         [0.72926387],\n",
       "         [0.24471151],\n",
       "         [0.24471151],\n",
       "         [0.18626996],\n",
       "         [0.18626996],\n",
       "         [0.51450376],\n",
       "         [0.51450376],\n",
       "         [0.2363928 ],\n",
       "         [0.2363928 ],\n",
       "         [0.14638031],\n",
       "         [0.14638031],\n",
       "         [0.32729241],\n",
       "         [0.32729241],\n",
       "         [0.89847697],\n",
       "         [0.89847697],\n",
       "         [0.26723876],\n",
       "         [0.26723876],\n",
       "         [0.32599903],\n",
       "         [0.32599903],\n",
       "         [0.83154118],\n",
       "         [0.83154118],\n",
       "         [0.16325173],\n",
       "         [0.16325173],\n",
       "         [0.99610684],\n",
       "         [0.99610684],\n",
       "         [0.39976411],\n",
       "         [0.39976411],\n",
       "         [0.96224467],\n",
       "         [0.96224467],\n",
       "         [0.1976557 ],\n",
       "         [0.1976557 ],\n",
       "         [0.54140869],\n",
       "         [0.54140869],\n",
       "         [0.23144252],\n",
       "         [0.23144252],\n",
       "         [0.72330682],\n",
       "         [0.72330682]])}}"
      ]
     },
     "execution_count": 1,
     "metadata": {},
     "output_type": "execute_result"
    }
   ],
   "source": [
    "ds = load_by_id(run_id_a)\n",
    "ds.get_parameter_data('x1')"
   ]
  },
  {
   "cell_type": "code",
   "execution_count": null,
   "metadata": {},
   "outputs": [],
   "source": []
  }
 ],
 "metadata": {
  "kernelspec": {
   "display_name": "Python 3",
   "language": "python",
   "name": "python3"
  },
  "language_info": {
   "codemirror_mode": {
    "name": "ipython",
    "version": 3
   },
   "file_extension": ".py",
   "mimetype": "text/x-python",
   "name": "python",
   "nbconvert_exporter": "python",
   "pygments_lexer": "ipython3",
   "version": "3.7.7"
  },
  "nbsphinx": {
   "timeout": 600
  },
  "toc": {
   "base_numbering": 1,
   "nav_menu": {},
   "number_sections": true,
   "sideBar": true,
   "skip_h1_title": false,
   "title_cell": "Table of Contents",
   "title_sidebar": "Contents",
   "toc_cell": false,
   "toc_position": {},
   "toc_section_display": true,
   "toc_window_display": false
  },
  "varInspector": {
   "cols": {
    "lenName": 16,
    "lenType": 16,
    "lenVar": 40
   },
   "kernels_config": {
    "python": {
     "delete_cmd_postfix": "",
     "delete_cmd_prefix": "del ",
     "library": "var_list.py",
     "varRefreshCmd": "print(var_dic_list())"
    },
    "r": {
     "delete_cmd_postfix": ") ",
     "delete_cmd_prefix": "rm(",
     "library": "var_list.r",
     "varRefreshCmd": "cat(var_dic_list()) "
    }
   },
   "types_to_exclude": [
    "module",
    "function",
    "builtin_function_or_method",
    "instance",
    "_Feature"
   ],
   "window_display": false
  }
 },
 "nbformat": 4,
 "nbformat_minor": 2
}
