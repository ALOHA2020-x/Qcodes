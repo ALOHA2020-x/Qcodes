{
 "cells": [
  {
   "cell_type": "markdown",
   "metadata": {},
   "source": [
    "# DataSet Performance\n",
    "\n",
    "This notebook shows the trade-off between inserting data into a database row-by-row and as binary blobs. Inserting the data row-by-row means that we have direct access to all the data and may perform queries directly on the values of the data. On the other hand, as we shall see, this is much slower than inserting the data directly as binary blobs."
   ]
  },
  {
   "cell_type": "markdown",
   "metadata": {},
   "source": [
    "First, we choose a new location for the database to ensure that we don't add a bunch of benchmarking data to the default one."
   ]
  },
  {
   "cell_type": "code",
   "execution_count": 1,
   "metadata": {
    "execution": {
     "iopub.execute_input": "2021-05-25T06:44:28.133132Z",
     "iopub.status.busy": "2021-05-25T06:44:28.132367Z",
     "iopub.status.idle": "2021-05-25T06:44:29.529096Z",
     "shell.execute_reply": "2021-05-25T06:44:29.529585Z"
    }
   },
   "outputs": [
    {
     "name": "stdout",
     "output_type": "stream",
     "text": [
      "Logging hadn't been started.\n",
      "Activating auto-logging. Current session state plus future input saved.\n",
      "Filename       : /home/runner/.qcodes/logs/command_history.log\n",
      "Mode           : append\n",
      "Output logging : True\n",
      "Raw input log  : False\n",
      "Timestamping   : True\n",
      "State          : active\n"
     ]
    },
    {
     "name": "stdout",
     "output_type": "stream",
     "text": [
      "Qcodes Logfile : /home/runner/.qcodes/logs/210525-4566-qcodes.log\n"
     ]
    }
   ],
   "source": [
    "import os\n",
    "cwd = os.getcwd()\n",
    "import qcodes as qc\n",
    "qc.config[\"core\"][\"db_location\"] = os.path.join(cwd, 'testing.db')\n"
   ]
  },
  {
   "cell_type": "code",
   "execution_count": 2,
   "metadata": {
    "execution": {
     "iopub.execute_input": "2021-05-25T06:44:29.537656Z",
     "iopub.status.busy": "2021-05-25T06:44:29.536667Z",
     "iopub.status.idle": "2021-05-25T06:44:29.766241Z",
     "shell.execute_reply": "2021-05-25T06:44:29.765606Z"
    }
   },
   "outputs": [],
   "source": [
    "%matplotlib inline\n",
    "import time\n",
    "import matplotlib.pyplot as plt\n",
    "import numpy as np\n",
    "\n",
    "import qcodes as qc\n",
    "from qcodes.instrument.parameter import ManualParameter\n",
    "from qcodes.dataset.experiment_container import (Experiment,\n",
    "                                                 load_last_experiment,\n",
    "                                                 new_experiment)\n",
    "from qcodes.dataset.sqlite.database import initialise_database\n",
    "from qcodes import load_or_create_experiment\n",
    "from qcodes.dataset.measurements import Measurement"
   ]
  },
  {
   "cell_type": "code",
   "execution_count": 3,
   "metadata": {
    "execution": {
     "iopub.execute_input": "2021-05-25T06:44:29.770929Z",
     "iopub.status.busy": "2021-05-25T06:44:29.769957Z",
     "iopub.status.idle": "2021-05-25T06:44:29.858524Z",
     "shell.execute_reply": "2021-05-25T06:44:29.859093Z"
    }
   },
   "outputs": [
    {
     "name": "stdout",
     "output_type": "stream",
     "text": [
      "\r",
      "0it [00:00, ?it/s]"
     ]
    },
    {
     "name": "stdout",
     "output_type": "stream",
     "text": [
      "\r",
      "Upgrading database; v0 -> v1: : 0it [00:00, ?it/s]"
     ]
    },
    {
     "name": "stdout",
     "output_type": "stream",
     "text": [
      "\r",
      "Upgrading database; v0 -> v1: : 0it [00:00, ?it/s]"
     ]
    },
    {
     "name": "stdout",
     "output_type": "stream",
     "text": [
      "\n",
      "\r",
      "  0%|          | 0/1 [00:00<?, ?it/s]"
     ]
    },
    {
     "name": "stdout",
     "output_type": "stream",
     "text": [
      "\r",
      "Upgrading database; v1 -> v2:   0%|          | 0/1 [00:00<?, ?it/s]"
     ]
    },
    {
     "name": "stdout",
     "output_type": "stream",
     "text": [
      "\r",
      "Upgrading database; v1 -> v2: 100%|██████████| 1/1 [00:00<00:00, 443.04it/s]"
     ]
    },
    {
     "name": "stdout",
     "output_type": "stream",
     "text": [
      "\n",
      "\r",
      "0it [00:00, ?it/s]"
     ]
    },
    {
     "name": "stdout",
     "output_type": "stream",
     "text": [
      "\r",
      "Upgrading database; v2 -> v3: : 0it [00:00, ?it/s]"
     ]
    },
    {
     "name": "stdout",
     "output_type": "stream",
     "text": [
      "\r",
      "Upgrading database; v2 -> v3: : 0it [00:00, ?it/s]"
     ]
    },
    {
     "name": "stdout",
     "output_type": "stream",
     "text": [
      "\n",
      "\r",
      "0it [00:00, ?it/s]"
     ]
    },
    {
     "name": "stdout",
     "output_type": "stream",
     "text": [
      "\r",
      "Upgrading database; v3 -> v4: : 0it [00:00, ?it/s]"
     ]
    },
    {
     "name": "stdout",
     "output_type": "stream",
     "text": [
      "\r",
      "Upgrading database; v3 -> v4: : 0it [00:00, ?it/s]"
     ]
    },
    {
     "name": "stdout",
     "output_type": "stream",
     "text": [
      "\n",
      "\r",
      "  0%|          | 0/1 [00:00<?, ?it/s]"
     ]
    },
    {
     "name": "stdout",
     "output_type": "stream",
     "text": [
      "\r",
      "Upgrading database; v4 -> v5:   0%|          | 0/1 [00:00<?, ?it/s]"
     ]
    },
    {
     "name": "stdout",
     "output_type": "stream",
     "text": [
      "\r",
      "Upgrading database; v4 -> v5: 100%|██████████| 1/1 [00:00<00:00, 960.89it/s]"
     ]
    },
    {
     "name": "stdout",
     "output_type": "stream",
     "text": [
      "\n",
      "\r",
      "0it [00:00, ?it/s]"
     ]
    },
    {
     "name": "stdout",
     "output_type": "stream",
     "text": [
      "\r",
      "Upgrading database; v5 -> v6: : 0it [00:00, ?it/s]"
     ]
    },
    {
     "name": "stdout",
     "output_type": "stream",
     "text": [
      "\r",
      "Upgrading database; v5 -> v6: : 0it [00:00, ?it/s]"
     ]
    },
    {
     "name": "stdout",
     "output_type": "stream",
     "text": [
      "\n",
      "\r",
      "  0%|          | 0/1 [00:00<?, ?it/s]"
     ]
    },
    {
     "name": "stdout",
     "output_type": "stream",
     "text": [
      "\r",
      "Upgrading database; v6 -> v7:   0%|          | 0/1 [00:00<?, ?it/s]"
     ]
    },
    {
     "name": "stdout",
     "output_type": "stream",
     "text": [
      "\r",
      "Upgrading database; v6 -> v7: 100%|██████████| 1/1 [00:00<00:00, 186.10it/s]"
     ]
    },
    {
     "name": "stdout",
     "output_type": "stream",
     "text": [
      "\n",
      "\r",
      "  0%|          | 0/1 [00:00<?, ?it/s]"
     ]
    },
    {
     "name": "stdout",
     "output_type": "stream",
     "text": [
      "\r",
      "Upgrading database; v7 -> v8:   0%|          | 0/1 [00:00<?, ?it/s]"
     ]
    },
    {
     "name": "stdout",
     "output_type": "stream",
     "text": [
      "\r",
      "Upgrading database; v7 -> v8: 100%|██████████| 1/1 [00:00<00:00, 279.68it/s]"
     ]
    },
    {
     "name": "stdout",
     "output_type": "stream",
     "text": [
      "\n",
      "\r",
      "  0%|          | 0/1 [00:00<?, ?it/s]"
     ]
    },
    {
     "name": "stdout",
     "output_type": "stream",
     "text": [
      "\r",
      "Upgrading database; v8 -> v9:   0%|          | 0/1 [00:00<?, ?it/s]"
     ]
    },
    {
     "name": "stdout",
     "output_type": "stream",
     "text": [
      "\r",
      "Upgrading database; v8 -> v9: 100%|██████████| 1/1 [00:00<00:00, 1015.08it/s]"
     ]
    },
    {
     "name": "stdout",
     "output_type": "stream",
     "text": [
      "\n"
     ]
    }
   ],
   "source": [
    "initialise_database()\n",
    "exp = load_or_create_experiment(experiment_name='tutorial_exp', sample_name=\"no sample\")"
   ]
  },
  {
   "cell_type": "markdown",
   "metadata": {},
   "source": [
    "Here, we define a simple function to benchmark the time it takes to insert n points with either numeric or array data type.\n",
    "We will compare both the time used to call ``add_result`` and the time used for the full measurement."
   ]
  },
  {
   "cell_type": "code",
   "execution_count": 4,
   "metadata": {
    "execution": {
     "iopub.execute_input": "2021-05-25T06:44:29.869306Z",
     "iopub.status.busy": "2021-05-25T06:44:29.868592Z",
     "iopub.status.idle": "2021-05-25T06:44:29.872951Z",
     "shell.execute_reply": "2021-05-25T06:44:29.872308Z"
    }
   },
   "outputs": [],
   "source": [
    "def insert_data(paramtype, npoints, nreps=1):\n",
    "\n",
    "    meas = Measurement(exp=exp)\n",
    "\n",
    "    x1 = ManualParameter('x1')\n",
    "    x2 = ManualParameter('x2')\n",
    "    x3 = ManualParameter('x3')\n",
    "    y1 = ManualParameter('y1')\n",
    "    y2 = ManualParameter('y2')\n",
    "\n",
    "    meas.register_parameter(x1, paramtype=paramtype)\n",
    "    meas.register_parameter(x2, paramtype=paramtype)\n",
    "    meas.register_parameter(x3, paramtype=paramtype)\n",
    "    meas.register_parameter(y1, setpoints=[x1, x2, x3],\n",
    "                            paramtype=paramtype)\n",
    "    meas.register_parameter(y2, setpoints=[x1, x2, x3],\n",
    "                            paramtype=paramtype)\n",
    "    start = time.perf_counter()\n",
    "    with meas.run() as datasaver:\n",
    "        start_adding = time.perf_counter()\n",
    "        for i in range(nreps):\n",
    "            datasaver.add_result((x1, np.random.rand(npoints)),\n",
    "                                 (x2, np.random.rand(npoints)),\n",
    "                                 (x3, np.random.rand(npoints)),\n",
    "                                 (y1, np.random.rand(npoints)),\n",
    "                                 (y2, np.random.rand(npoints)))\n",
    "        stop_adding = time.perf_counter()\n",
    "        run_id = datasaver.run_id\n",
    "    stop = time.perf_counter()\n",
    "    tot_time = stop - start\n",
    "    add_time = stop_adding - start_adding\n",
    "    return tot_time, add_time, run_id"
   ]
  },
  {
   "cell_type": "markdown",
   "metadata": {},
   "source": [
    "## Comparison between numeric/array data and binary blob"
   ]
  },
  {
   "cell_type": "markdown",
   "metadata": {},
   "source": [
    "### Case1: Short experiment time"
   ]
  },
  {
   "cell_type": "code",
   "execution_count": 5,
   "metadata": {
    "execution": {
     "iopub.execute_input": "2021-05-25T06:44:29.880626Z",
     "iopub.status.busy": "2021-05-25T06:44:29.879916Z",
     "iopub.status.idle": "2021-05-25T06:44:30.801809Z",
     "shell.execute_reply": "2021-05-25T06:44:30.801230Z"
    }
   },
   "outputs": [
    {
     "name": "stdout",
     "output_type": "stream",
     "text": [
      "Starting experimental run with id: 1. \n",
      "Starting experimental run with id: 2. \n",
      "Starting experimental run with id: 3. \n"
     ]
    },
    {
     "name": "stdout",
     "output_type": "stream",
     "text": [
      "Starting experimental run with id: 4. \n"
     ]
    },
    {
     "name": "stdout",
     "output_type": "stream",
     "text": [
      "Starting experimental run with id: 5. "
     ]
    },
    {
     "name": "stdout",
     "output_type": "stream",
     "text": [
      "\n"
     ]
    },
    {
     "name": "stdout",
     "output_type": "stream",
     "text": [
      "Starting experimental run with id: 6. \n",
      "Starting experimental run with id: 7. \n"
     ]
    },
    {
     "name": "stdout",
     "output_type": "stream",
     "text": [
      "Starting experimental run with id: 8. \n"
     ]
    },
    {
     "name": "stdout",
     "output_type": "stream",
     "text": [
      "Starting experimental run with id: 9. \n"
     ]
    },
    {
     "name": "stdout",
     "output_type": "stream",
     "text": [
      "Starting experimental run with id: 10. \n",
      "Starting experimental run with id: 11. \n"
     ]
    },
    {
     "name": "stdout",
     "output_type": "stream",
     "text": [
      "Starting experimental run with id: 12. \n"
     ]
    },
    {
     "name": "stdout",
     "output_type": "stream",
     "text": [
      "Starting experimental run with id: 13. \n"
     ]
    },
    {
     "name": "stdout",
     "output_type": "stream",
     "text": [
      "Starting experimental run with id: 14. \n"
     ]
    }
   ],
   "source": [
    "sizes = [1,500,1000,2000,3000,4000,5000]\n",
    "t_numeric = []\n",
    "t_numeric_add = []\n",
    "t_array = []\n",
    "t_array_add = []\n",
    "for size in sizes:\n",
    "    tn, tna, run_id_n =  insert_data('numeric', size)\n",
    "    t_numeric.append(tn)\n",
    "    t_numeric_add.append(tna)\n",
    "\n",
    "    ta, taa, run_id_a =  insert_data('array', size)\n",
    "    t_array.append(ta)\n",
    "    t_array_add.append(taa)"
   ]
  },
  {
   "cell_type": "code",
   "execution_count": 6,
   "metadata": {
    "execution": {
     "iopub.execute_input": "2021-05-25T06:44:30.823594Z",
     "iopub.status.busy": "2021-05-25T06:44:30.808122Z",
     "iopub.status.idle": "2021-05-25T06:44:31.112643Z",
     "shell.execute_reply": "2021-05-25T06:44:31.113570Z"
    }
   },
   "outputs": [
    {
     "data": {
      "image/png": "[encoded data removed]",
      "text/plain": [
       "<Figure size 432x288 with 1 Axes>"
      ]
     },
     "metadata": {
      "needs_background": "light"
     },
     "output_type": "display_data"
    }
   ],
   "source": [
    "fig, ax = plt.subplots(1,1)\n",
    "ax.plot(sizes, t_numeric, 'o-', label='Inserting row-by-row')\n",
    "ax.plot(sizes, t_numeric_add, 'o-', label='Inserting row-by-row: add_result only')\n",
    "ax.plot(sizes, t_array, 'd-', label='Inserting as binary blob')\n",
    "ax.plot(sizes, t_array_add, 'd-', label='Inserting as binary blob: add_result only')\n",
    "ax.legend()\n",
    "ax.set_xlabel('Array length')\n",
    "ax.set_ylabel('Time (s)')\n",
    "fig.tight_layout()"
   ]
  },
  {
   "cell_type": "markdown",
   "metadata": {},
   "source": [
    "As shown in the latter figure, the time to setup and and close the experiment is approximately 0.4 sec. In case of small array sizes, the difference between inserting values of data as arrays and inserting them row-by-row is relatively unimportant. At larger array sizes, i.e. above 10000 points, the cost of writing data as individual datapoints starts to become important.\n"
   ]
  },
  {
   "cell_type": "markdown",
   "metadata": {},
   "source": [
    "### Case2: Long experiment time "
   ]
  },
  {
   "cell_type": "code",
   "execution_count": 7,
   "metadata": {
    "execution": {
     "iopub.execute_input": "2021-05-25T06:44:31.173564Z",
     "iopub.status.busy": "2021-05-25T06:44:31.122644Z",
     "iopub.status.idle": "2021-05-25T06:45:31.845229Z",
     "shell.execute_reply": "2021-05-25T06:45:31.844555Z"
    }
   },
   "outputs": [
    {
     "name": "stdout",
     "output_type": "stream",
     "text": [
      "Starting experimental run with id: 15. \n",
      "Starting experimental run with id: 16. \n"
     ]
    },
    {
     "name": "stdout",
     "output_type": "stream",
     "text": [
      "Starting experimental run with id: 17. \n"
     ]
    },
    {
     "name": "stdout",
     "output_type": "stream",
     "text": [
      "Starting experimental run with id: 18. \n"
     ]
    },
    {
     "name": "stdout",
     "output_type": "stream",
     "text": [
      "Starting experimental run with id: 19. \n"
     ]
    },
    {
     "name": "stdout",
     "output_type": "stream",
     "text": [
      "Starting experimental run with id: 20. \n"
     ]
    },
    {
     "name": "stdout",
     "output_type": "stream",
     "text": [
      "Starting experimental run with id: 21. \n"
     ]
    },
    {
     "name": "stdout",
     "output_type": "stream",
     "text": [
      "Starting experimental run with id: 22. \n"
     ]
    },
    {
     "name": "stdout",
     "output_type": "stream",
     "text": [
      "Starting experimental run with id: 23. \n"
     ]
    },
    {
     "name": "stdout",
     "output_type": "stream",
     "text": [
      "Starting experimental run with id: 24. \n"
     ]
    },
    {
     "name": "stdout",
     "output_type": "stream",
     "text": [
      "Starting experimental run with id: 25. \n"
     ]
    },
    {
     "name": "stdout",
     "output_type": "stream",
     "text": [
      "Starting experimental run with id: 26. \n"
     ]
    },
    {
     "name": "stdout",
     "output_type": "stream",
     "text": [
      "Starting experimental run with id: 27. \n"
     ]
    },
    {
     "name": "stdout",
     "output_type": "stream",
     "text": [
      "Starting experimental run with id: 28. \n"
     ]
    }
   ],
   "source": [
    "sizes = [1,500,1000,2000,3000,4000,5000]\n",
    "nreps = 100\n",
    "t_numeric = []\n",
    "t_numeric_add = []\n",
    "t_numeric_run_ids = []\n",
    "t_array = []\n",
    "t_array_add = []\n",
    "t_array_run_ids = []\n",
    "for size in sizes:\n",
    "    tn, tna, run_id_n =  insert_data('numeric', size, nreps=nreps)\n",
    "    t_numeric.append(tn)\n",
    "    t_numeric_add.append(tna)\n",
    "    t_numeric_run_ids.append(run_id_n)\n",
    "\n",
    "    ta, taa, run_id_a =  insert_data('array', size, nreps=nreps)\n",
    "    t_array.append(ta)\n",
    "    t_array_add.append(taa)\n",
    "    t_array_run_ids.append(run_id_a)"
   ]
  },
  {
   "cell_type": "code",
   "execution_count": 8,
   "metadata": {
    "execution": {
     "iopub.execute_input": "2021-05-25T06:45:31.877172Z",
     "iopub.status.busy": "2021-05-25T06:45:31.866175Z",
     "iopub.status.idle": "2021-05-25T06:45:32.141002Z",
     "shell.execute_reply": "2021-05-25T06:45:32.141551Z"
    },
    "scrolled": true
   },
   "outputs": [
    {
     "data": {
      "image/png": "[encoded data removed]",
      "text/plain": [
       "<Figure size 432x288 with 1 Axes>"
      ]
     },
     "metadata": {
      "needs_background": "light"
     },
     "output_type": "display_data"
    }
   ],
   "source": [
    "fig, ax = plt.subplots(1,1)\n",
    "ax.plot(sizes, t_numeric, 'o-', label='Inserting row-by-row')\n",
    "ax.plot(sizes, t_numeric_add, 'o-', label='Inserting row-by-row: add_result only')\n",
    "ax.plot(sizes, t_array, 'd-', label='Inserting as binary blob')\n",
    "ax.plot(sizes, t_array_add, 'd-', label='Inserting as binary blob: add_result only')\n",
    "ax.legend()\n",
    "ax.set_xlabel('Array length')\n",
    "ax.set_ylabel('Time (s)')\n",
    "fig.tight_layout()"
   ]
  },
  {
   "cell_type": "markdown",
   "metadata": {},
   "source": [
    "However, as we increase the length of the experiment, as seen here by repeating the insertion 100 times, we see a big difference between inserting values of the data row-by-row and inserting it as a binary blob."
   ]
  },
  {
   "cell_type": "markdown",
   "metadata": {},
   "source": [
    "## Loading the data "
   ]
  },
  {
   "cell_type": "code",
   "execution_count": 9,
   "metadata": {
    "execution": {
     "iopub.execute_input": "2021-05-25T06:45:32.146464Z",
     "iopub.status.busy": "2021-05-25T06:45:32.145716Z",
     "iopub.status.idle": "2021-05-25T06:45:32.149448Z",
     "shell.execute_reply": "2021-05-25T06:45:32.149948Z"
    }
   },
   "outputs": [],
   "source": [
    "from qcodes.dataset.data_set import load_by_id"
   ]
  },
  {
   "cell_type": "markdown",
   "metadata": {},
   "source": [
    "As usual you can load the data by using the ``load_by_id`` function but you will notice that the different storage methods\n",
    "are reflected in shape of the data as it is retrieved. "
   ]
  },
  {
   "cell_type": "code",
   "execution_count": 10,
   "metadata": {
    "execution": {
     "iopub.execute_input": "2021-05-25T06:45:32.155012Z",
     "iopub.status.busy": "2021-05-25T06:45:32.153558Z",
     "iopub.status.idle": "2021-05-25T06:45:32.155660Z",
     "shell.execute_reply": "2021-05-25T06:45:32.156136Z"
    }
   },
   "outputs": [],
   "source": [
    "run_id_n = t_numeric_run_ids[0]\n",
    "run_id_a = t_array_run_ids[0]"
   ]
  },
  {
   "cell_type": "code",
   "execution_count": 11,
   "metadata": {
    "execution": {
     "iopub.execute_input": "2021-05-25T06:45:32.160353Z",
     "iopub.status.busy": "2021-05-25T06:45:32.159748Z",
     "iopub.status.idle": "2021-05-25T06:45:32.170924Z",
     "shell.execute_reply": "2021-05-25T06:45:32.170261Z"
    },
    "scrolled": true
   },
   "outputs": [
    {
     "data": {
      "text/plain": [
       "{'x1': {'x1': array([0.18748236, 0.18748236, 0.85043387, 0.85043387, 0.72407079,\n",
       "         0.72407079, 0.76497011, 0.76497011, 0.48605552, 0.48605552,\n",
       "         0.89128684, 0.89128684, 0.75762838, 0.75762838, 0.23665662,\n",
       "         0.23665662, 0.12519451, 0.12519451, 0.74008631, 0.74008631,\n",
       "         0.52974362, 0.52974362, 0.91400023, 0.91400023, 0.12619577,\n",
       "         0.12619577, 0.76421139, 0.76421139, 0.04461726, 0.04461726,\n",
       "         0.01613152, 0.01613152, 0.39907622, 0.39907622, 0.16930277,\n",
       "         0.16930277, 0.88205333, 0.88205333, 0.86555516, 0.86555516,\n",
       "         0.31063914, 0.31063914, 0.01580278, 0.01580278, 0.33294321,\n",
       "         0.33294321, 0.53394108, 0.53394108, 0.34526626, 0.34526626,\n",
       "         0.24223119, 0.24223119, 0.30827358, 0.30827358, 0.36828868,\n",
       "         0.36828868, 0.84675832, 0.84675832, 0.86711835, 0.86711835,\n",
       "         0.87145002, 0.87145002, 0.22936896, 0.22936896, 0.02524539,\n",
       "         0.02524539, 0.51523618, 0.51523618, 0.32881644, 0.32881644,\n",
       "         0.40508636, 0.40508636, 0.53995748, 0.53995748, 0.48318728,\n",
       "         0.48318728, 0.18795507, 0.18795507, 0.0316925 , 0.0316925 ,\n",
       "         0.72754677, 0.72754677, 0.59061751, 0.59061751, 0.30269766,\n",
       "         0.30269766, 0.47101593, 0.47101593, 0.84939583, 0.84939583,\n",
       "         0.82039738, 0.82039738, 0.95627204, 0.95627204, 0.17082123,\n",
       "         0.17082123, 0.35680405, 0.35680405, 0.66097357, 0.66097357,\n",
       "         0.12759568, 0.12759568, 0.81411848, 0.81411848, 0.73977976,\n",
       "         0.73977976, 0.82416853, 0.82416853, 0.09350982, 0.09350982,\n",
       "         0.21216882, 0.21216882, 0.88327173, 0.88327173, 0.60713755,\n",
       "         0.60713755, 0.50946909, 0.50946909, 0.57742489, 0.57742489,\n",
       "         0.406362  , 0.406362  , 0.84552841, 0.84552841, 0.59360549,\n",
       "         0.59360549, 0.41104902, 0.41104902, 0.40753433, 0.40753433,\n",
       "         0.38205348, 0.38205348, 0.79204299, 0.79204299, 0.53075718,\n",
       "         0.53075718, 0.93424687, 0.93424687, 0.62383835, 0.62383835,\n",
       "         0.67564875, 0.67564875, 0.43139601, 0.43139601, 0.2720356 ,\n",
       "         0.2720356 , 0.99124528, 0.99124528, 0.88330503, 0.88330503,\n",
       "         0.26469555, 0.26469555, 0.80304153, 0.80304153, 0.90867466,\n",
       "         0.90867466, 0.58802511, 0.58802511, 0.09492015, 0.09492015,\n",
       "         0.60322265, 0.60322265, 0.35842047, 0.35842047, 0.37258252,\n",
       "         0.37258252, 0.04541249, 0.04541249, 0.67224856, 0.67224856,\n",
       "         0.14076341, 0.14076341, 0.36290939, 0.36290939, 0.37564417,\n",
       "         0.37564417, 0.39950371, 0.39950371, 0.98601419, 0.98601419,\n",
       "         0.37829957, 0.37829957, 0.7400976 , 0.7400976 , 0.89618885,\n",
       "         0.89618885, 0.74905173, 0.74905173, 0.38234932, 0.38234932,\n",
       "         0.57918395, 0.57918395, 0.74048581, 0.74048581, 0.28584816,\n",
       "         0.28584816, 0.50642484, 0.50642484, 0.58010944, 0.58010944])}}"
      ]
     },
     "execution_count": 1,
     "metadata": {},
     "output_type": "execute_result"
    }
   ],
   "source": [
    "ds = load_by_id(run_id_n)\n",
    "ds.get_parameter_data('x1')"
   ]
  },
  {
   "cell_type": "markdown",
   "metadata": {},
   "source": [
    "And a dataset stored as binary arrays"
   ]
  },
  {
   "cell_type": "code",
   "execution_count": 12,
   "metadata": {
    "execution": {
     "iopub.execute_input": "2021-05-25T06:45:32.174770Z",
     "iopub.status.busy": "2021-05-25T06:45:32.174150Z",
     "iopub.status.idle": "2021-05-25T06:45:32.244509Z",
     "shell.execute_reply": "2021-05-25T06:45:32.245020Z"
    },
    "scrolled": true
   },
   "outputs": [
    {
     "data": {
      "text/plain": [
       "{'x1': {'x1': array([[0.75133741],\n",
       "         [0.75133741],\n",
       "         [0.86040255],\n",
       "         [0.86040255],\n",
       "         [0.01920143],\n",
       "         [0.01920143],\n",
       "         [0.61631158],\n",
       "         [0.61631158],\n",
       "         [0.69084977],\n",
       "         [0.69084977],\n",
       "         [0.79820301],\n",
       "         [0.79820301],\n",
       "         [0.45453413],\n",
       "         [0.45453413],\n",
       "         [0.44111009],\n",
       "         [0.44111009],\n",
       "         [0.65847954],\n",
       "         [0.65847954],\n",
       "         [0.22394845],\n",
       "         [0.22394845],\n",
       "         [0.33982415],\n",
       "         [0.33982415],\n",
       "         [0.01428705],\n",
       "         [0.01428705],\n",
       "         [0.16871413],\n",
       "         [0.16871413],\n",
       "         [0.42060389],\n",
       "         [0.42060389],\n",
       "         [0.13633923],\n",
       "         [0.13633923],\n",
       "         [0.54590484],\n",
       "         [0.54590484],\n",
       "         [0.96455886],\n",
       "         [0.96455886],\n",
       "         [0.12717558],\n",
       "         [0.12717558],\n",
       "         [0.79047249],\n",
       "         [0.79047249],\n",
       "         [0.5446923 ],\n",
       "         [0.5446923 ],\n",
       "         [0.61643035],\n",
       "         [0.61643035],\n",
       "         [0.16651949],\n",
       "         [0.16651949],\n",
       "         [0.85204648],\n",
       "         [0.85204648],\n",
       "         [0.64348599],\n",
       "         [0.64348599],\n",
       "         [0.95114904],\n",
       "         [0.95114904],\n",
       "         [0.81669338],\n",
       "         [0.81669338],\n",
       "         [0.4246906 ],\n",
       "         [0.4246906 ],\n",
       "         [0.14374163],\n",
       "         [0.14374163],\n",
       "         [0.74685189],\n",
       "         [0.74685189],\n",
       "         [0.89607808],\n",
       "         [0.89607808],\n",
       "         [0.83487715],\n",
       "         [0.83487715],\n",
       "         [0.97710772],\n",
       "         [0.97710772],\n",
       "         [0.91814046],\n",
       "         [0.91814046],\n",
       "         [0.01997954],\n",
       "         [0.01997954],\n",
       "         [0.79367743],\n",
       "         [0.79367743],\n",
       "         [0.17021605],\n",
       "         [0.17021605],\n",
       "         [0.45946491],\n",
       "         [0.45946491],\n",
       "         [0.9529043 ],\n",
       "         [0.9529043 ],\n",
       "         [0.80563539],\n",
       "         [0.80563539],\n",
       "         [0.12157227],\n",
       "         [0.12157227],\n",
       "         [0.55666188],\n",
       "         [0.55666188],\n",
       "         [0.60775231],\n",
       "         [0.60775231],\n",
       "         [0.49355644],\n",
       "         [0.49355644],\n",
       "         [0.5539332 ],\n",
       "         [0.5539332 ],\n",
       "         [0.62322062],\n",
       "         [0.62322062],\n",
       "         [0.49167141],\n",
       "         [0.49167141],\n",
       "         [0.99396112],\n",
       "         [0.99396112],\n",
       "         [0.90513216],\n",
       "         [0.90513216],\n",
       "         [0.8680759 ],\n",
       "         [0.8680759 ],\n",
       "         [0.63690853],\n",
       "         [0.63690853],\n",
       "         [0.83015337],\n",
       "         [0.83015337],\n",
       "         [0.69220648],\n",
       "         [0.69220648],\n",
       "         [0.75658855],\n",
       "         [0.75658855],\n",
       "         [0.53119622],\n",
       "         [0.53119622],\n",
       "         [0.82169561],\n",
       "         [0.82169561],\n",
       "         [0.24212799],\n",
       "         [0.24212799],\n",
       "         [0.74858983],\n",
       "         [0.74858983],\n",
       "         [0.41043135],\n",
       "         [0.41043135],\n",
       "         [0.13738615],\n",
       "         [0.13738615],\n",
       "         [0.0479466 ],\n",
       "         [0.0479466 ],\n",
       "         [0.90800705],\n",
       "         [0.90800705],\n",
       "         [0.97175144],\n",
       "         [0.97175144],\n",
       "         [0.92113146],\n",
       "         [0.92113146],\n",
       "         [0.5737493 ],\n",
       "         [0.5737493 ],\n",
       "         [0.40815199],\n",
       "         [0.40815199],\n",
       "         [0.49913983],\n",
       "         [0.49913983],\n",
       "         [0.47911913],\n",
       "         [0.47911913],\n",
       "         [0.09095356],\n",
       "         [0.09095356],\n",
       "         [0.83838563],\n",
       "         [0.83838563],\n",
       "         [0.71468557],\n",
       "         [0.71468557],\n",
       "         [0.17902676],\n",
       "         [0.17902676],\n",
       "         [0.21024528],\n",
       "         [0.21024528],\n",
       "         [0.04878525],\n",
       "         [0.04878525],\n",
       "         [0.66632924],\n",
       "         [0.66632924],\n",
       "         [0.12607862],\n",
       "         [0.12607862],\n",
       "         [0.28211659],\n",
       "         [0.28211659],\n",
       "         [0.64217061],\n",
       "         [0.64217061],\n",
       "         [0.1325286 ],\n",
       "         [0.1325286 ],\n",
       "         [0.82175824],\n",
       "         [0.82175824],\n",
       "         [0.60089642],\n",
       "         [0.60089642],\n",
       "         [0.84946844],\n",
       "         [0.84946844],\n",
       "         [0.54515904],\n",
       "         [0.54515904],\n",
       "         [0.92872013],\n",
       "         [0.92872013],\n",
       "         [0.01802227],\n",
       "         [0.01802227],\n",
       "         [0.33892936],\n",
       "         [0.33892936],\n",
       "         [0.21026707],\n",
       "         [0.21026707],\n",
       "         [0.94848073],\n",
       "         [0.94848073],\n",
       "         [0.39700316],\n",
       "         [0.39700316],\n",
       "         [0.68856777],\n",
       "         [0.68856777],\n",
       "         [0.06444396],\n",
       "         [0.06444396],\n",
       "         [0.72448945],\n",
       "         [0.72448945],\n",
       "         [0.59372466],\n",
       "         [0.59372466],\n",
       "         [0.63709078],\n",
       "         [0.63709078],\n",
       "         [0.87269911],\n",
       "         [0.87269911],\n",
       "         [0.23402149],\n",
       "         [0.23402149],\n",
       "         [0.20805841],\n",
       "         [0.20805841],\n",
       "         [0.00753915],\n",
       "         [0.00753915],\n",
       "         [0.05142313],\n",
       "         [0.05142313],\n",
       "         [0.69762336],\n",
       "         [0.69762336],\n",
       "         [0.20297748],\n",
       "         [0.20297748]])}}"
      ]
     },
     "execution_count": 1,
     "metadata": {},
     "output_type": "execute_result"
    }
   ],
   "source": [
    "ds = load_by_id(run_id_a)\n",
    "ds.get_parameter_data('x1')"
   ]
  },
  {
   "cell_type": "code",
   "execution_count": null,
   "metadata": {},
   "outputs": [],
   "source": []
  }
 ],
 "metadata": {
  "kernelspec": {
   "display_name": "Python 3",
   "language": "python",
   "name": "python3"
  },
  "language_info": {
   "codemirror_mode": {
    "name": "ipython",
    "version": 3
   },
   "file_extension": ".py",
   "mimetype": "text/x-python",
   "name": "python",
   "nbconvert_exporter": "python",
   "pygments_lexer": "ipython3",
   "version": "3.7.10"
  },
  "nbsphinx": {
   "timeout": 600
  },
  "toc": {
   "base_numbering": 1,
   "nav_menu": {},
   "number_sections": true,
   "sideBar": true,
   "skip_h1_title": false,
   "title_cell": "Table of Contents",
   "title_sidebar": "Contents",
   "toc_cell": false,
   "toc_position": {},
   "toc_section_display": true,
   "toc_window_display": false
  },
  "varInspector": {
   "cols": {
    "lenName": 16,
    "lenType": 16,
    "lenVar": 40
   },
   "kernels_config": {
    "python": {
     "delete_cmd_postfix": "",
     "delete_cmd_prefix": "del ",
     "library": "var_list.py",
     "varRefreshCmd": "print(var_dic_list())"
    },
    "r": {
     "delete_cmd_postfix": ") ",
     "delete_cmd_prefix": "rm(",
     "library": "var_list.r",
     "varRefreshCmd": "cat(var_dic_list()) "
    }
   },
   "types_to_exclude": [
    "module",
    "function",
    "builtin_function_or_method",
    "instance",
    "_Feature"
   ],
   "window_display": false
  }
 },
 "nbformat": 4,
 "nbformat_minor": 4
}
