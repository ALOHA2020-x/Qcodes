{
 "cells": [
  {
   "cell_type": "markdown",
   "metadata": {},
   "source": [
    "# DataSet Performance\n",
    "\n",
    "This notebook shows the trade-off between inserting data into a database row-by-row and as binary blobs. Inserting the data row-by-row means that we have direct access to all the data and may perform queries directly on the values of the data. On the other hand, as we shall see, this is much slower than inserting the data directly as binary blobs."
   ]
  },
  {
   "cell_type": "markdown",
   "metadata": {},
   "source": [
    "First, we choose a new location for the database to ensure that we don't add a bunch of benchmarking data to the default one."
   ]
  },
  {
   "cell_type": "code",
   "execution_count": 1,
   "metadata": {},
   "outputs": [
    {
     "name": "stdout",
     "output_type": "stream",
     "text": [
      "Logging hadn't been started.\n",
      "Activating auto-logging. Current session state plus future input saved.\n",
      "Filename       : /home/vsts/.qcodes/logs/command_history.log\n",
      "Mode           : append\n",
      "Output logging : True\n",
      "Raw input log  : False\n",
      "Timestamping   : True\n",
      "State          : active\n"
     ]
    },
    {
     "name": "stdout",
     "output_type": "stream",
     "text": [
      "Qcodes Logfile : /home/vsts/.qcodes/logs/200910-18213-qcodes.log\n"
     ]
    }
   ],
   "source": [
    "import os\n",
    "cwd = os.getcwd()\n",
    "import qcodes as qc\n",
    "qc.config[\"core\"][\"db_location\"] = os.path.join(cwd, 'testing.db')\n"
   ]
  },
  {
   "cell_type": "code",
   "execution_count": 2,
   "metadata": {},
   "outputs": [],
   "source": [
    "%matplotlib inline\n",
    "import time\n",
    "import matplotlib.pyplot as plt\n",
    "import numpy as np\n",
    "\n",
    "import qcodes as qc\n",
    "from qcodes.instrument.parameter import ManualParameter\n",
    "from qcodes.dataset.experiment_container import (Experiment,\n",
    "                                                 load_last_experiment,\n",
    "                                                 new_experiment)\n",
    "from qcodes.dataset.sqlite.database import initialise_database\n",
    "from qcodes import load_or_create_experiment\n",
    "from qcodes.dataset.measurements import Measurement"
   ]
  },
  {
   "cell_type": "code",
   "execution_count": 3,
   "metadata": {},
   "outputs": [
    {
     "name": "stdout",
     "output_type": "stream",
     "text": [
      "\r",
      "0it [00:00, ?it/s]"
     ]
    },
    {
     "name": "stdout",
     "output_type": "stream",
     "text": [
      "\r",
      "Upgrading database; v0 -> v1: : 0it [00:00, ?it/s]"
     ]
    },
    {
     "name": "stdout",
     "output_type": "stream",
     "text": [
      "\r",
      "Upgrading database; v0 -> v1: : 0it [00:00, ?it/s]"
     ]
    },
    {
     "name": "stdout",
     "output_type": "stream",
     "text": [
      "\n",
      "\r",
      "  0%|          | 0/1 [00:00<?, ?it/s]"
     ]
    },
    {
     "name": "stdout",
     "output_type": "stream",
     "text": [
      "\r",
      "Upgrading database; v1 -> v2:   0%|          | 0/1 [00:00<?, ?it/s]"
     ]
    },
    {
     "name": "stdout",
     "output_type": "stream",
     "text": [
      "\r",
      "Upgrading database; v1 -> v2: 100%|██████████| 1/1 [00:00<00:00, 782.52it/s]"
     ]
    },
    {
     "name": "stdout",
     "output_type": "stream",
     "text": [
      "\n",
      "\r",
      "0it [00:00, ?it/s]"
     ]
    },
    {
     "name": "stdout",
     "output_type": "stream",
     "text": [
      "\r",
      "Upgrading database; v2 -> v3: : 0it [00:00, ?it/s]"
     ]
    },
    {
     "name": "stdout",
     "output_type": "stream",
     "text": [
      "\r",
      "Upgrading database; v2 -> v3: : 0it [00:00, ?it/s]"
     ]
    },
    {
     "name": "stdout",
     "output_type": "stream",
     "text": [
      "\n",
      "\r",
      "0it [00:00, ?it/s]"
     ]
    },
    {
     "name": "stdout",
     "output_type": "stream",
     "text": [
      "\r",
      "Upgrading database; v3 -> v4: : 0it [00:00, ?it/s]"
     ]
    },
    {
     "name": "stdout",
     "output_type": "stream",
     "text": [
      "\r",
      "Upgrading database; v3 -> v4: : 0it [00:00, ?it/s]"
     ]
    },
    {
     "name": "stdout",
     "output_type": "stream",
     "text": [
      "\n",
      "\r",
      "  0%|          | 0/1 [00:00<?, ?it/s]"
     ]
    },
    {
     "name": "stdout",
     "output_type": "stream",
     "text": [
      "\r",
      "Upgrading database; v4 -> v5:   0%|          | 0/1 [00:00<?, ?it/s]"
     ]
    },
    {
     "name": "stdout",
     "output_type": "stream",
     "text": [
      "\r",
      "Upgrading database; v4 -> v5: 100%|██████████| 1/1 [00:00<00:00, 685.01it/s]"
     ]
    },
    {
     "name": "stdout",
     "output_type": "stream",
     "text": [
      "\n",
      "\r",
      "0it [00:00, ?it/s]"
     ]
    },
    {
     "name": "stdout",
     "output_type": "stream",
     "text": [
      "\r",
      "Upgrading database; v5 -> v6: : 0it [00:00, ?it/s]"
     ]
    },
    {
     "name": "stdout",
     "output_type": "stream",
     "text": [
      "\r",
      "Upgrading database; v5 -> v6: : 0it [00:00, ?it/s]"
     ]
    },
    {
     "name": "stdout",
     "output_type": "stream",
     "text": [
      "\n",
      "\r",
      "  0%|          | 0/1 [00:00<?, ?it/s]"
     ]
    },
    {
     "name": "stdout",
     "output_type": "stream",
     "text": [
      "\r",
      "Upgrading database; v6 -> v7:   0%|          | 0/1 [00:00<?, ?it/s]"
     ]
    },
    {
     "name": "stdout",
     "output_type": "stream",
     "text": [
      "\r",
      "Upgrading database; v6 -> v7: 100%|██████████| 1/1 [00:00<00:00, 379.78it/s]"
     ]
    },
    {
     "name": "stdout",
     "output_type": "stream",
     "text": [
      "\n",
      "\r",
      "  0%|          | 0/1 [00:00<?, ?it/s]"
     ]
    },
    {
     "name": "stdout",
     "output_type": "stream",
     "text": [
      "\r",
      "Upgrading database; v7 -> v8:   0%|          | 0/1 [00:00<?, ?it/s]"
     ]
    },
    {
     "name": "stdout",
     "output_type": "stream",
     "text": [
      "\r",
      "Upgrading database; v7 -> v8: 100%|██████████| 1/1 [00:00<00:00, 628.17it/s]"
     ]
    },
    {
     "name": "stdout",
     "output_type": "stream",
     "text": [
      "\n",
      "\r",
      "  0%|          | 0/1 [00:00<?, ?it/s]"
     ]
    },
    {
     "name": "stdout",
     "output_type": "stream",
     "text": [
      "\r",
      "Upgrading database; v8 -> v9:   0%|          | 0/1 [00:00<?, ?it/s]"
     ]
    },
    {
     "name": "stdout",
     "output_type": "stream",
     "text": [
      "\r",
      "Upgrading database; v8 -> v9: 100%|██████████| 1/1 [00:00<00:00, 564.43it/s]"
     ]
    },
    {
     "name": "stdout",
     "output_type": "stream",
     "text": [
      "\n"
     ]
    }
   ],
   "source": [
    "initialise_database()\n",
    "exp = load_or_create_experiment(experiment_name='tutorial_exp', sample_name=\"no sample\")"
   ]
  },
  {
   "cell_type": "markdown",
   "metadata": {},
   "source": [
    "Here, we define a simple function to benchmark the time it takes to insert n points with either numeric or array data type.\n",
    "We will compare both the time used to call ``add_result`` and the time used for the full measurement."
   ]
  },
  {
   "cell_type": "code",
   "execution_count": 4,
   "metadata": {},
   "outputs": [],
   "source": [
    "def insert_data(paramtype, npoints, nreps=1):\n",
    "\n",
    "    meas = Measurement(exp=exp)\n",
    "\n",
    "    x1 = ManualParameter('x1')\n",
    "    x2 = ManualParameter('x2')\n",
    "    x3 = ManualParameter('x3')\n",
    "    y1 = ManualParameter('y1')\n",
    "    y2 = ManualParameter('y2')\n",
    "\n",
    "    meas.register_parameter(x1, paramtype=paramtype)\n",
    "    meas.register_parameter(x2, paramtype=paramtype)\n",
    "    meas.register_parameter(x3, paramtype=paramtype)\n",
    "    meas.register_parameter(y1, setpoints=[x1, x2, x3],\n",
    "                            paramtype=paramtype)\n",
    "    meas.register_parameter(y2, setpoints=[x1, x2, x3],\n",
    "                            paramtype=paramtype)\n",
    "    start = time.perf_counter()\n",
    "    with meas.run() as datasaver:\n",
    "        start_adding = time.perf_counter()\n",
    "        for i in range(nreps):\n",
    "            datasaver.add_result((x1, np.random.rand(npoints)),\n",
    "                                 (x2, np.random.rand(npoints)),\n",
    "                                 (x3, np.random.rand(npoints)),\n",
    "                                 (y1, np.random.rand(npoints)),\n",
    "                                 (y2, np.random.rand(npoints)))\n",
    "        stop_adding = time.perf_counter()\n",
    "        run_id = datasaver.run_id\n",
    "    stop = time.perf_counter()\n",
    "    tot_time = stop - start\n",
    "    add_time = stop_adding - start_adding\n",
    "    return tot_time, add_time, run_id"
   ]
  },
  {
   "cell_type": "markdown",
   "metadata": {},
   "source": [
    "## Comparison between numeric/array data and binary blob"
   ]
  },
  {
   "cell_type": "markdown",
   "metadata": {},
   "source": [
    "### Case1: Short experiment time"
   ]
  },
  {
   "cell_type": "code",
   "execution_count": 5,
   "metadata": {},
   "outputs": [
    {
     "name": "stdout",
     "output_type": "stream",
     "text": [
      "Starting experimental run with id: 1. \n",
      "Starting experimental run with id: 2. \n",
      "Starting experimental run with id: 3. \n"
     ]
    },
    {
     "name": "stdout",
     "output_type": "stream",
     "text": [
      "Starting experimental run with id: 4. \n"
     ]
    },
    {
     "name": "stdout",
     "output_type": "stream",
     "text": [
      "Starting experimental run with id: 5. \n"
     ]
    },
    {
     "name": "stdout",
     "output_type": "stream",
     "text": [
      "Starting experimental run with id: 6. \n",
      "Starting experimental run with id: 7. \n"
     ]
    },
    {
     "name": "stdout",
     "output_type": "stream",
     "text": [
      "Starting experimental run with id: 8. \n",
      "Starting experimental run with id: 9. \n"
     ]
    },
    {
     "name": "stdout",
     "output_type": "stream",
     "text": [
      "Starting experimental run with id: 10. \n",
      "Starting experimental run with id: 11. \n"
     ]
    },
    {
     "name": "stdout",
     "output_type": "stream",
     "text": [
      "Starting experimental run with id: 12. \n",
      "Starting experimental run with id: 13. \n"
     ]
    },
    {
     "name": "stdout",
     "output_type": "stream",
     "text": [
      "Starting experimental run with id: 14. \n"
     ]
    }
   ],
   "source": [
    "sizes = [1,500,1000,2000,3000,4000,5000]\n",
    "t_numeric = []\n",
    "t_numeric_add = []\n",
    "t_array = []\n",
    "t_array_add = []\n",
    "for size in sizes:\n",
    "    tn, tna, run_id_n =  insert_data('numeric', size)\n",
    "    t_numeric.append(tn)\n",
    "    t_numeric_add.append(tna)\n",
    "\n",
    "    ta, taa, run_id_a =  insert_data('array', size)\n",
    "    t_array.append(ta)\n",
    "    t_array_add.append(taa)"
   ]
  },
  {
   "cell_type": "code",
   "execution_count": 6,
   "metadata": {},
   "outputs": [
    {
     "data": {
      "image/png": "[encoded data removed]",
      "text/plain": [
       "<Figure size 432x288 with 1 Axes>"
      ]
     },
     "metadata": {
      "needs_background": "light"
     },
     "output_type": "display_data"
    }
   ],
   "source": [
    "fig, ax = plt.subplots(1,1)\n",
    "ax.plot(sizes, t_numeric, 'o-', label='Inserting row-by-row')\n",
    "ax.plot(sizes, t_numeric_add, 'o-', label='Inserting row-by-row: add_result only')\n",
    "ax.plot(sizes, t_array, 'd-', label='Inserting as binary blob')\n",
    "ax.plot(sizes, t_array_add, 'd-', label='Inserting as binary blob: add_result only')\n",
    "ax.legend()\n",
    "ax.set_xlabel('Array length')\n",
    "ax.set_ylabel('Time (s)')\n",
    "fig.tight_layout()"
   ]
  },
  {
   "cell_type": "markdown",
   "metadata": {},
   "source": [
    "As shown in the latter figure, the time to setup and and close the experiment is approximately 0.4 sec. In case of small array sizes, the difference between inserting values of data as arrays and inserting them row-by-row is relatively unimportant. At larger array sizes, i.e. above 10000 points, the cost of writing data as individual datapoints starts to become important.\n"
   ]
  },
  {
   "cell_type": "markdown",
   "metadata": {},
   "source": [
    "### Case2: Long experiment time "
   ]
  },
  {
   "cell_type": "code",
   "execution_count": 7,
   "metadata": {},
   "outputs": [
    {
     "name": "stdout",
     "output_type": "stream",
     "text": [
      "Starting experimental run with id: 15. \n",
      "Starting experimental run with id: 16. \n",
      "Starting experimental run with id: 17. \n"
     ]
    },
    {
     "name": "stdout",
     "output_type": "stream",
     "text": [
      "Starting experimental run with id: 18. \n",
      "Starting experimental run with id: 19. \n"
     ]
    },
    {
     "name": "stdout",
     "output_type": "stream",
     "text": [
      "Starting experimental run with id: 20. \n"
     ]
    },
    {
     "name": "stdout",
     "output_type": "stream",
     "text": [
      "Starting experimental run with id: 21. \n"
     ]
    },
    {
     "name": "stdout",
     "output_type": "stream",
     "text": [
      "Starting experimental run with id: 22. \n"
     ]
    },
    {
     "name": "stdout",
     "output_type": "stream",
     "text": [
      "Starting experimental run with id: 23. \n"
     ]
    },
    {
     "name": "stdout",
     "output_type": "stream",
     "text": [
      "Starting experimental run with id: 24. \n"
     ]
    },
    {
     "name": "stdout",
     "output_type": "stream",
     "text": [
      "Starting experimental run with id: 25. \n"
     ]
    },
    {
     "name": "stdout",
     "output_type": "stream",
     "text": [
      "Starting experimental run with id: 26. \n"
     ]
    },
    {
     "name": "stdout",
     "output_type": "stream",
     "text": [
      "Starting experimental run with id: 27. \n"
     ]
    },
    {
     "name": "stdout",
     "output_type": "stream",
     "text": [
      "Starting experimental run with id: 28. \n"
     ]
    }
   ],
   "source": [
    "sizes = [1,500,1000,2000,3000,4000,5000]\n",
    "nreps = 100\n",
    "t_numeric = []\n",
    "t_numeric_add = []\n",
    "t_numeric_run_ids = []\n",
    "t_array = []\n",
    "t_array_add = []\n",
    "t_array_run_ids = []\n",
    "for size in sizes:\n",
    "    tn, tna, run_id_n =  insert_data('numeric', size, nreps=nreps)\n",
    "    t_numeric.append(tn)\n",
    "    t_numeric_add.append(tna)\n",
    "    t_numeric_run_ids.append(run_id_n)\n",
    "\n",
    "    ta, taa, run_id_a =  insert_data('array', size, nreps=nreps)\n",
    "    t_array.append(ta)\n",
    "    t_array_add.append(taa)\n",
    "    t_array_run_ids.append(run_id_a)"
   ]
  },
  {
   "cell_type": "code",
   "execution_count": 8,
   "metadata": {
    "scrolled": true
   },
   "outputs": [
    {
     "data": {
      "image/png": "[encoded data removed]",
      "text/plain": [
       "<Figure size 432x288 with 1 Axes>"
      ]
     },
     "metadata": {
      "needs_background": "light"
     },
     "output_type": "display_data"
    }
   ],
   "source": [
    "fig, ax = plt.subplots(1,1)\n",
    "ax.plot(sizes, t_numeric, 'o-', label='Inserting row-by-row')\n",
    "ax.plot(sizes, t_numeric_add, 'o-', label='Inserting row-by-row: add_result only')\n",
    "ax.plot(sizes, t_array, 'd-', label='Inserting as binary blob')\n",
    "ax.plot(sizes, t_array_add, 'd-', label='Inserting as binary blob: add_result only')\n",
    "ax.legend()\n",
    "ax.set_xlabel('Array length')\n",
    "ax.set_ylabel('Time (s)')\n",
    "fig.tight_layout()"
   ]
  },
  {
   "cell_type": "markdown",
   "metadata": {},
   "source": [
    "However, as we increase the length of the experiment, as seen here by repeating the insertion 100 times, we see a big difference between inserting values of the data row-by-row and inserting it as a binary blob."
   ]
  },
  {
   "cell_type": "markdown",
   "metadata": {},
   "source": [
    "## Loading the data "
   ]
  },
  {
   "cell_type": "code",
   "execution_count": 9,
   "metadata": {},
   "outputs": [],
   "source": [
    "from qcodes.dataset.data_set import load_by_id\n",
    "from qcodes.dataset.data_export import get_data_by_id"
   ]
  },
  {
   "cell_type": "markdown",
   "metadata": {},
   "source": [
    "As usual you can load the data by using the ``load_by_id`` function but you will notice that the different storage methods\n",
    "are reflected in shape of the data as it is retrieved. "
   ]
  },
  {
   "cell_type": "code",
   "execution_count": 10,
   "metadata": {},
   "outputs": [],
   "source": [
    "run_id_n = t_numeric_run_ids[0]\n",
    "run_id_a = t_array_run_ids[0]"
   ]
  },
  {
   "cell_type": "code",
   "execution_count": 11,
   "metadata": {
    "scrolled": true
   },
   "outputs": [
    {
     "data": {
      "text/plain": [
       "{'x1': {'x1': array([0.47414524, 0.47414524, 0.56273395, 0.56273395, 0.48437908,\n",
       "         0.48437908, 0.61242534, 0.61242534, 0.23976253, 0.23976253,\n",
       "         0.08046081, 0.08046081, 0.64159643, 0.64159643, 0.160128  ,\n",
       "         0.160128  , 0.00583549, 0.00583549, 0.67101117, 0.67101117,\n",
       "         0.98767292, 0.98767292, 0.21257088, 0.21257088, 0.8962392 ,\n",
       "         0.8962392 , 0.55541067, 0.55541067, 0.4801591 , 0.4801591 ,\n",
       "         0.4348844 , 0.4348844 , 0.14621061, 0.14621061, 0.16768761,\n",
       "         0.16768761, 0.13804887, 0.13804887, 0.77663464, 0.77663464,\n",
       "         0.56053832, 0.56053832, 0.06522932, 0.06522932, 0.45243326,\n",
       "         0.45243326, 0.01577586, 0.01577586, 0.14342814, 0.14342814,\n",
       "         0.07889335, 0.07889335, 0.03227837, 0.03227837, 0.68894563,\n",
       "         0.68894563, 0.55084583, 0.55084583, 0.37547051, 0.37547051,\n",
       "         0.96376757, 0.96376757, 0.42697401, 0.42697401, 0.52205326,\n",
       "         0.52205326, 0.76895746, 0.76895746, 0.79660018, 0.79660018,\n",
       "         0.96384002, 0.96384002, 0.83810718, 0.83810718, 0.50212978,\n",
       "         0.50212978, 0.63384291, 0.63384291, 0.6549967 , 0.6549967 ,\n",
       "         0.82114294, 0.82114294, 0.1128485 , 0.1128485 , 0.96901657,\n",
       "         0.96901657, 0.91726331, 0.91726331, 0.56747446, 0.56747446,\n",
       "         0.54641302, 0.54641302, 0.75658424, 0.75658424, 0.94246785,\n",
       "         0.94246785, 0.04766079, 0.04766079, 0.5384842 , 0.5384842 ,\n",
       "         0.56621216, 0.56621216, 0.78590098, 0.78590098, 0.1288522 ,\n",
       "         0.1288522 , 0.70441231, 0.70441231, 0.40324278, 0.40324278,\n",
       "         0.78761065, 0.78761065, 0.18778371, 0.18778371, 0.90720832,\n",
       "         0.90720832, 0.6134644 , 0.6134644 , 0.386685  , 0.386685  ,\n",
       "         0.86427411, 0.86427411, 0.37966816, 0.37966816, 0.12761061,\n",
       "         0.12761061, 0.03377004, 0.03377004, 0.23899432, 0.23899432,\n",
       "         0.47022717, 0.47022717, 0.81563886, 0.81563886, 0.28068507,\n",
       "         0.28068507, 0.23875913, 0.23875913, 0.61467414, 0.61467414,\n",
       "         0.07580318, 0.07580318, 0.77295957, 0.77295957, 0.21222303,\n",
       "         0.21222303, 0.61059494, 0.61059494, 0.68914748, 0.68914748,\n",
       "         0.58902726, 0.58902726, 0.22381002, 0.22381002, 0.44692811,\n",
       "         0.44692811, 0.45570619, 0.45570619, 0.69379316, 0.69379316,\n",
       "         0.31130837, 0.31130837, 0.2841994 , 0.2841994 , 0.08457397,\n",
       "         0.08457397, 0.25912344, 0.25912344, 0.51112843, 0.51112843,\n",
       "         0.68782125, 0.68782125, 0.34497269, 0.34497269, 0.74134045,\n",
       "         0.74134045, 0.18383973, 0.18383973, 0.80507262, 0.80507262,\n",
       "         0.69062967, 0.69062967, 0.85318287, 0.85318287, 0.07494992,\n",
       "         0.07494992, 0.76674431, 0.76674431, 0.2608031 , 0.2608031 ,\n",
       "         0.7401484 , 0.7401484 , 0.82752329, 0.82752329, 0.80746578,\n",
       "         0.80746578, 0.16266023, 0.16266023, 0.1539721 , 0.1539721 ])}}"
      ]
     },
     "execution_count": 11,
     "metadata": {},
     "output_type": "execute_result"
    }
   ],
   "source": [
    "ds = load_by_id(run_id_n)\n",
    "ds.get_parameter_data('x1')"
   ]
  },
  {
   "cell_type": "markdown",
   "metadata": {},
   "source": [
    "And a dataset stored as binary arrays"
   ]
  },
  {
   "cell_type": "code",
   "execution_count": 12,
   "metadata": {
    "scrolled": true
   },
   "outputs": [
    {
     "data": {
      "text/plain": [
       "{'x1': {'x1': array([[0.05625024],\n",
       "         [0.05625024],\n",
       "         [0.25151277],\n",
       "         [0.25151277],\n",
       "         [0.01459326],\n",
       "         [0.01459326],\n",
       "         [0.55451295],\n",
       "         [0.55451295],\n",
       "         [0.77839312],\n",
       "         [0.77839312],\n",
       "         [0.69769859],\n",
       "         [0.69769859],\n",
       "         [0.06711227],\n",
       "         [0.06711227],\n",
       "         [0.58099048],\n",
       "         [0.58099048],\n",
       "         [0.36953588],\n",
       "         [0.36953588],\n",
       "         [0.10547541],\n",
       "         [0.10547541],\n",
       "         [0.949167  ],\n",
       "         [0.949167  ],\n",
       "         [0.52269874],\n",
       "         [0.52269874],\n",
       "         [0.02797314],\n",
       "         [0.02797314],\n",
       "         [0.28202244],\n",
       "         [0.28202244],\n",
       "         [0.48635115],\n",
       "         [0.48635115],\n",
       "         [0.96653838],\n",
       "         [0.96653838],\n",
       "         [0.26259873],\n",
       "         [0.26259873],\n",
       "         [0.09850846],\n",
       "         [0.09850846],\n",
       "         [0.26629235],\n",
       "         [0.26629235],\n",
       "         [0.14890653],\n",
       "         [0.14890653],\n",
       "         [0.92283946],\n",
       "         [0.92283946],\n",
       "         [0.9050308 ],\n",
       "         [0.9050308 ],\n",
       "         [0.21964181],\n",
       "         [0.21964181],\n",
       "         [0.22785327],\n",
       "         [0.22785327],\n",
       "         [0.16626503],\n",
       "         [0.16626503],\n",
       "         [0.24190415],\n",
       "         [0.24190415],\n",
       "         [0.21771161],\n",
       "         [0.21771161],\n",
       "         [0.9329008 ],\n",
       "         [0.9329008 ],\n",
       "         [0.32159266],\n",
       "         [0.32159266],\n",
       "         [0.94089246],\n",
       "         [0.94089246],\n",
       "         [0.15899247],\n",
       "         [0.15899247],\n",
       "         [0.38648881],\n",
       "         [0.38648881],\n",
       "         [0.98145549],\n",
       "         [0.98145549],\n",
       "         [0.38095163],\n",
       "         [0.38095163],\n",
       "         [0.77820399],\n",
       "         [0.77820399],\n",
       "         [0.71530488],\n",
       "         [0.71530488],\n",
       "         [0.85262462],\n",
       "         [0.85262462],\n",
       "         [0.59043591],\n",
       "         [0.59043591],\n",
       "         [0.63087539],\n",
       "         [0.63087539],\n",
       "         [0.63568583],\n",
       "         [0.63568583],\n",
       "         [0.03745873],\n",
       "         [0.03745873],\n",
       "         [0.8380155 ],\n",
       "         [0.8380155 ],\n",
       "         [0.72820295],\n",
       "         [0.72820295],\n",
       "         [0.39200115],\n",
       "         [0.39200115],\n",
       "         [0.65334564],\n",
       "         [0.65334564],\n",
       "         [0.26291788],\n",
       "         [0.26291788],\n",
       "         [0.26894922],\n",
       "         [0.26894922],\n",
       "         [0.1436118 ],\n",
       "         [0.1436118 ],\n",
       "         [0.12857145],\n",
       "         [0.12857145],\n",
       "         [0.84085275],\n",
       "         [0.84085275],\n",
       "         [0.9824309 ],\n",
       "         [0.9824309 ],\n",
       "         [0.34447262],\n",
       "         [0.34447262],\n",
       "         [0.03885597],\n",
       "         [0.03885597],\n",
       "         [0.69915702],\n",
       "         [0.69915702],\n",
       "         [0.23740766],\n",
       "         [0.23740766],\n",
       "         [0.20782059],\n",
       "         [0.20782059],\n",
       "         [0.74855916],\n",
       "         [0.74855916],\n",
       "         [0.38735968],\n",
       "         [0.38735968],\n",
       "         [0.42837587],\n",
       "         [0.42837587],\n",
       "         [0.48364176],\n",
       "         [0.48364176],\n",
       "         [0.75426433],\n",
       "         [0.75426433],\n",
       "         [0.2765058 ],\n",
       "         [0.2765058 ],\n",
       "         [0.26371844],\n",
       "         [0.26371844],\n",
       "         [0.11257129],\n",
       "         [0.11257129],\n",
       "         [0.15099004],\n",
       "         [0.15099004],\n",
       "         [0.56590416],\n",
       "         [0.56590416],\n",
       "         [0.47472194],\n",
       "         [0.47472194],\n",
       "         [0.21929231],\n",
       "         [0.21929231],\n",
       "         [0.48780525],\n",
       "         [0.48780525],\n",
       "         [0.47101307],\n",
       "         [0.47101307],\n",
       "         [0.63401452],\n",
       "         [0.63401452],\n",
       "         [0.64631787],\n",
       "         [0.64631787],\n",
       "         [0.78638732],\n",
       "         [0.78638732],\n",
       "         [0.4812395 ],\n",
       "         [0.4812395 ],\n",
       "         [0.13886642],\n",
       "         [0.13886642],\n",
       "         [0.28596948],\n",
       "         [0.28596948],\n",
       "         [0.5225324 ],\n",
       "         [0.5225324 ],\n",
       "         [0.57450032],\n",
       "         [0.57450032],\n",
       "         [0.57314813],\n",
       "         [0.57314813],\n",
       "         [0.64520422],\n",
       "         [0.64520422],\n",
       "         [0.30551142],\n",
       "         [0.30551142],\n",
       "         [0.79703861],\n",
       "         [0.79703861],\n",
       "         [0.21762629],\n",
       "         [0.21762629],\n",
       "         [0.33681487],\n",
       "         [0.33681487],\n",
       "         [0.16995907],\n",
       "         [0.16995907],\n",
       "         [0.10583734],\n",
       "         [0.10583734],\n",
       "         [0.47372585],\n",
       "         [0.47372585],\n",
       "         [0.04829783],\n",
       "         [0.04829783],\n",
       "         [0.53387092],\n",
       "         [0.53387092],\n",
       "         [0.67829383],\n",
       "         [0.67829383],\n",
       "         [0.56209484],\n",
       "         [0.56209484],\n",
       "         [0.00181946],\n",
       "         [0.00181946],\n",
       "         [0.38432631],\n",
       "         [0.38432631],\n",
       "         [0.55111065],\n",
       "         [0.55111065],\n",
       "         [0.73867545],\n",
       "         [0.73867545],\n",
       "         [0.42865005],\n",
       "         [0.42865005],\n",
       "         [0.15415563],\n",
       "         [0.15415563],\n",
       "         [0.02165035],\n",
       "         [0.02165035],\n",
       "         [0.81736276],\n",
       "         [0.81736276],\n",
       "         [0.56131495],\n",
       "         [0.56131495]])}}"
      ]
     },
     "execution_count": 12,
     "metadata": {},
     "output_type": "execute_result"
    }
   ],
   "source": [
    "ds = load_by_id(run_id_a)\n",
    "ds.get_parameter_data('x1')"
   ]
  },
  {
   "cell_type": "code",
   "execution_count": null,
   "metadata": {},
   "outputs": [],
   "source": []
  }
 ],
 "metadata": {
  "kernelspec": {
   "display_name": "Python 3",
   "language": "python",
   "name": "python3"
  },
  "language_info": {
   "codemirror_mode": {
    "name": "ipython",
    "version": 3
   },
   "file_extension": ".py",
   "mimetype": "text/x-python",
   "name": "python",
   "nbconvert_exporter": "python",
   "pygments_lexer": "ipython3",
   "version": "3.7.7"
  },
  "nbsphinx": {
   "timeout": 600
  },
  "toc": {
   "base_numbering": 1,
   "nav_menu": {},
   "number_sections": true,
   "sideBar": true,
   "skip_h1_title": false,
   "title_cell": "Table of Contents",
   "title_sidebar": "Contents",
   "toc_cell": false,
   "toc_position": {},
   "toc_section_display": true,
   "toc_window_display": false
  },
  "varInspector": {
   "cols": {
    "lenName": 16,
    "lenType": 16,
    "lenVar": 40
   },
   "kernels_config": {
    "python": {
     "delete_cmd_postfix": "",
     "delete_cmd_prefix": "del ",
     "library": "var_list.py",
     "varRefreshCmd": "print(var_dic_list())"
    },
    "r": {
     "delete_cmd_postfix": ") ",
     "delete_cmd_prefix": "rm(",
     "library": "var_list.r",
     "varRefreshCmd": "cat(var_dic_list()) "
    }
   },
   "types_to_exclude": [
    "module",
    "function",
    "builtin_function_or_method",
    "instance",
    "_Feature"
   ],
   "window_display": false
  }
 },
 "nbformat": 4,
 "nbformat_minor": 2
}
