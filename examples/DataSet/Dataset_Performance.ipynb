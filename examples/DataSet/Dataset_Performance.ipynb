{
 "cells": [
  {
   "cell_type": "markdown",
   "metadata": {},
   "source": [
    "# DataSet Performance\n",
    "\n",
    "This notebook shows the trade-off between inserting data into a database row-by-row and as binary blobs. Inserting the data row-by-row means that we have direct access to all the data and may perform queries directly on the values of the data. On the other hand, as we shall see, this is much slower than inserting the data directly as binary blobs."
   ]
  },
  {
   "cell_type": "markdown",
   "metadata": {},
   "source": [
    "First, we choose a new location for the database to ensure that we don't add a bunch of benchmarking data to the default one."
   ]
  },
  {
   "cell_type": "code",
   "execution_count": 1,
   "metadata": {
    "execution": {
     "iopub.execute_input": "2021-02-04T12:52:00.681600Z",
     "iopub.status.busy": "2021-02-04T12:52:00.681038Z",
     "iopub.status.idle": "2021-02-04T12:52:01.763486Z",
     "shell.execute_reply": "2021-02-04T12:52:01.762839Z"
    }
   },
   "outputs": [
    {
     "name": "stdout",
     "output_type": "stream",
     "text": [
      "Logging hadn't been started.\n",
      "Activating auto-logging. Current session state plus future input saved.\n",
      "Filename       : /home/vsts/.qcodes/logs/command_history.log\n",
      "Mode           : append\n",
      "Output logging : True\n",
      "Raw input log  : False\n",
      "Timestamping   : True\n",
      "State          : active\n"
     ]
    },
    {
     "name": "stdout",
     "output_type": "stream",
     "text": [
      "Qcodes Logfile : /home/vsts/.qcodes/logs/210204-13591-qcodes.log\n"
     ]
    }
   ],
   "source": [
    "import os\n",
    "cwd = os.getcwd()\n",
    "import qcodes as qc\n",
    "qc.config[\"core\"][\"db_location\"] = os.path.join(cwd, 'testing.db')\n"
   ]
  },
  {
   "cell_type": "code",
   "execution_count": 2,
   "metadata": {
    "execution": {
     "iopub.execute_input": "2021-02-04T12:52:01.769666Z",
     "iopub.status.busy": "2021-02-04T12:52:01.769110Z",
     "iopub.status.idle": "2021-02-04T12:52:01.964057Z",
     "shell.execute_reply": "2021-02-04T12:52:01.964565Z"
    }
   },
   "outputs": [],
   "source": [
    "%matplotlib inline\n",
    "import time\n",
    "import matplotlib.pyplot as plt\n",
    "import numpy as np\n",
    "\n",
    "import qcodes as qc\n",
    "from qcodes.instrument.parameter import ManualParameter\n",
    "from qcodes.dataset.experiment_container import (Experiment,\n",
    "                                                 load_last_experiment,\n",
    "                                                 new_experiment)\n",
    "from qcodes.dataset.sqlite.database import initialise_database\n",
    "from qcodes import load_or_create_experiment\n",
    "from qcodes.dataset.measurements import Measurement"
   ]
  },
  {
   "cell_type": "code",
   "execution_count": 3,
   "metadata": {
    "execution": {
     "iopub.execute_input": "2021-02-04T12:52:01.968802Z",
     "iopub.status.busy": "2021-02-04T12:52:01.967987Z",
     "iopub.status.idle": "2021-02-04T12:52:02.079898Z",
     "shell.execute_reply": "2021-02-04T12:52:02.079430Z"
    }
   },
   "outputs": [
    {
     "name": "stdout",
     "output_type": "stream",
     "text": [
      "\r",
      "0it [00:00, ?it/s]"
     ]
    },
    {
     "name": "stdout",
     "output_type": "stream",
     "text": [
      "\r",
      "Upgrading database; v0 -> v1: : 0it [00:00, ?it/s]"
     ]
    },
    {
     "name": "stdout",
     "output_type": "stream",
     "text": [
      "\r",
      "Upgrading database; v0 -> v1: : 0it [00:00, ?it/s]"
     ]
    },
    {
     "name": "stdout",
     "output_type": "stream",
     "text": [
      "\n",
      "\r",
      "  0%|          | 0/1 [00:00<?, ?it/s]"
     ]
    },
    {
     "name": "stdout",
     "output_type": "stream",
     "text": [
      "\r",
      "Upgrading database; v1 -> v2:   0%|          | 0/1 [00:00<?, ?it/s]"
     ]
    },
    {
     "name": "stdout",
     "output_type": "stream",
     "text": [
      "\r",
      "Upgrading database; v1 -> v2: 100%|██████████| 1/1 [00:00<00:00, 1044.66it/s]"
     ]
    },
    {
     "name": "stdout",
     "output_type": "stream",
     "text": [
      "\n",
      "\r",
      "0it [00:00, ?it/s]"
     ]
    },
    {
     "name": "stdout",
     "output_type": "stream",
     "text": [
      "\r",
      "Upgrading database; v2 -> v3: : 0it [00:00, ?it/s]"
     ]
    },
    {
     "name": "stdout",
     "output_type": "stream",
     "text": [
      "\r",
      "Upgrading database; v2 -> v3: : 0it [00:00, ?it/s]"
     ]
    },
    {
     "name": "stdout",
     "output_type": "stream",
     "text": [
      "\n",
      "\r",
      "0it [00:00, ?it/s]"
     ]
    },
    {
     "name": "stdout",
     "output_type": "stream",
     "text": [
      "\r",
      "Upgrading database; v3 -> v4: : 0it [00:00, ?it/s]"
     ]
    },
    {
     "name": "stdout",
     "output_type": "stream",
     "text": [
      "\r",
      "Upgrading database; v3 -> v4: : 0it [00:00, ?it/s]"
     ]
    },
    {
     "name": "stdout",
     "output_type": "stream",
     "text": [
      "\n",
      "\r",
      "  0%|          | 0/1 [00:00<?, ?it/s]"
     ]
    },
    {
     "name": "stdout",
     "output_type": "stream",
     "text": [
      "\r",
      "Upgrading database; v4 -> v5:   0%|          | 0/1 [00:00<?, ?it/s]"
     ]
    },
    {
     "name": "stdout",
     "output_type": "stream",
     "text": [
      "\r",
      "Upgrading database; v4 -> v5: 100%|██████████| 1/1 [00:00<00:00, 1183.49it/s]"
     ]
    },
    {
     "name": "stdout",
     "output_type": "stream",
     "text": [
      "\n",
      "\r",
      "0it [00:00, ?it/s]"
     ]
    },
    {
     "name": "stdout",
     "output_type": "stream",
     "text": [
      "\r",
      "Upgrading database; v5 -> v6: : 0it [00:00, ?it/s]"
     ]
    },
    {
     "name": "stdout",
     "output_type": "stream",
     "text": [
      "\r",
      "Upgrading database; v5 -> v6: : 0it [00:00, ?it/s]"
     ]
    },
    {
     "name": "stdout",
     "output_type": "stream",
     "text": [
      "\n",
      "\r",
      "  0%|          | 0/1 [00:00<?, ?it/s]"
     ]
    },
    {
     "name": "stdout",
     "output_type": "stream",
     "text": [
      "\r",
      "Upgrading database; v6 -> v7:   0%|          | 0/1 [00:00<?, ?it/s]"
     ]
    },
    {
     "name": "stdout",
     "output_type": "stream",
     "text": [
      "\r",
      "Upgrading database; v6 -> v7: 100%|██████████| 1/1 [00:00<00:00, 328.97it/s]"
     ]
    },
    {
     "name": "stdout",
     "output_type": "stream",
     "text": [
      "\n",
      "\r",
      "  0%|          | 0/1 [00:00<?, ?it/s]"
     ]
    },
    {
     "name": "stdout",
     "output_type": "stream",
     "text": [
      "\r",
      "Upgrading database; v7 -> v8:   0%|          | 0/1 [00:00<?, ?it/s]"
     ]
    },
    {
     "name": "stdout",
     "output_type": "stream",
     "text": [
      "\r",
      "Upgrading database; v7 -> v8: 100%|██████████| 1/1 [00:00<00:00, 1027.26it/s]"
     ]
    },
    {
     "name": "stdout",
     "output_type": "stream",
     "text": [
      "\n",
      "\r",
      "  0%|          | 0/1 [00:00<?, ?it/s]"
     ]
    },
    {
     "name": "stdout",
     "output_type": "stream",
     "text": [
      "\r",
      "Upgrading database; v8 -> v9:   0%|          | 0/1 [00:00<?, ?it/s]"
     ]
    },
    {
     "name": "stdout",
     "output_type": "stream",
     "text": [
      "\r",
      "Upgrading database; v8 -> v9: 100%|██████████| 1/1 [00:00<00:00, 430.49it/s]"
     ]
    },
    {
     "name": "stdout",
     "output_type": "stream",
     "text": [
      "\n"
     ]
    }
   ],
   "source": [
    "initialise_database()\n",
    "exp = load_or_create_experiment(experiment_name='tutorial_exp', sample_name=\"no sample\")"
   ]
  },
  {
   "cell_type": "markdown",
   "metadata": {},
   "source": [
    "Here, we define a simple function to benchmark the time it takes to insert n points with either numeric or array data type.\n",
    "We will compare both the time used to call ``add_result`` and the time used for the full measurement."
   ]
  },
  {
   "cell_type": "code",
   "execution_count": 4,
   "metadata": {
    "execution": {
     "iopub.execute_input": "2021-02-04T12:52:02.089211Z",
     "iopub.status.busy": "2021-02-04T12:52:02.088296Z",
     "iopub.status.idle": "2021-02-04T12:52:02.091716Z",
     "shell.execute_reply": "2021-02-04T12:52:02.091256Z"
    }
   },
   "outputs": [],
   "source": [
    "def insert_data(paramtype, npoints, nreps=1):\n",
    "\n",
    "    meas = Measurement(exp=exp)\n",
    "\n",
    "    x1 = ManualParameter('x1')\n",
    "    x2 = ManualParameter('x2')\n",
    "    x3 = ManualParameter('x3')\n",
    "    y1 = ManualParameter('y1')\n",
    "    y2 = ManualParameter('y2')\n",
    "\n",
    "    meas.register_parameter(x1, paramtype=paramtype)\n",
    "    meas.register_parameter(x2, paramtype=paramtype)\n",
    "    meas.register_parameter(x3, paramtype=paramtype)\n",
    "    meas.register_parameter(y1, setpoints=[x1, x2, x3],\n",
    "                            paramtype=paramtype)\n",
    "    meas.register_parameter(y2, setpoints=[x1, x2, x3],\n",
    "                            paramtype=paramtype)\n",
    "    start = time.perf_counter()\n",
    "    with meas.run() as datasaver:\n",
    "        start_adding = time.perf_counter()\n",
    "        for i in range(nreps):\n",
    "            datasaver.add_result((x1, np.random.rand(npoints)),\n",
    "                                 (x2, np.random.rand(npoints)),\n",
    "                                 (x3, np.random.rand(npoints)),\n",
    "                                 (y1, np.random.rand(npoints)),\n",
    "                                 (y2, np.random.rand(npoints)))\n",
    "        stop_adding = time.perf_counter()\n",
    "        run_id = datasaver.run_id\n",
    "    stop = time.perf_counter()\n",
    "    tot_time = stop - start\n",
    "    add_time = stop_adding - start_adding\n",
    "    return tot_time, add_time, run_id"
   ]
  },
  {
   "cell_type": "markdown",
   "metadata": {},
   "source": [
    "## Comparison between numeric/array data and binary blob"
   ]
  },
  {
   "cell_type": "markdown",
   "metadata": {},
   "source": [
    "### Case1: Short experiment time"
   ]
  },
  {
   "cell_type": "code",
   "execution_count": 5,
   "metadata": {
    "execution": {
     "iopub.execute_input": "2021-02-04T12:52:02.098826Z",
     "iopub.status.busy": "2021-02-04T12:52:02.097911Z",
     "iopub.status.idle": "2021-02-04T12:52:02.949838Z",
     "shell.execute_reply": "2021-02-04T12:52:02.949059Z"
    }
   },
   "outputs": [
    {
     "name": "stdout",
     "output_type": "stream",
     "text": [
      "Starting experimental run with id: 1. \n",
      "Starting experimental run with id: 2. \n",
      "Starting experimental run with id: 3. \n",
      "Starting experimental run with id: 4. \n",
      "Starting experimental run with id: 5. \n"
     ]
    },
    {
     "name": "stdout",
     "output_type": "stream",
     "text": [
      "Starting experimental run with id: 6. \n"
     ]
    },
    {
     "name": "stdout",
     "output_type": "stream",
     "text": [
      "Starting experimental run with id: 7. \n"
     ]
    },
    {
     "name": "stdout",
     "output_type": "stream",
     "text": [
      "Starting experimental run with id: 8. \n",
      "Starting experimental run with id: 9. \n"
     ]
    },
    {
     "name": "stdout",
     "output_type": "stream",
     "text": [
      "Starting experimental run with id: 10. \n",
      "Starting experimental run with id: 11. \n"
     ]
    },
    {
     "name": "stdout",
     "output_type": "stream",
     "text": [
      "Starting experimental run with id: 12. \n",
      "Starting experimental run with id: 13. \n"
     ]
    },
    {
     "name": "stdout",
     "output_type": "stream",
     "text": [
      "Starting experimental run with id: 14. \n"
     ]
    }
   ],
   "source": [
    "sizes = [1,500,1000,2000,3000,4000,5000]\n",
    "t_numeric = []\n",
    "t_numeric_add = []\n",
    "t_array = []\n",
    "t_array_add = []\n",
    "for size in sizes:\n",
    "    tn, tna, run_id_n =  insert_data('numeric', size)\n",
    "    t_numeric.append(tn)\n",
    "    t_numeric_add.append(tna)\n",
    "\n",
    "    ta, taa, run_id_a =  insert_data('array', size)\n",
    "    t_array.append(ta)\n",
    "    t_array_add.append(taa)"
   ]
  },
  {
   "cell_type": "code",
   "execution_count": 6,
   "metadata": {
    "execution": {
     "iopub.execute_input": "2021-02-04T12:52:02.980336Z",
     "iopub.status.busy": "2021-02-04T12:52:02.966855Z",
     "iopub.status.idle": "2021-02-04T12:52:03.162701Z",
     "shell.execute_reply": "2021-02-04T12:52:03.163145Z"
    }
   },
   "outputs": [
    {
     "data": {
      "image/png": "[encoded data removed]",
      "text/plain": [
       "<Figure size 432x288 with 1 Axes>"
      ]
     },
     "metadata": {
      "needs_background": "light"
     },
     "output_type": "display_data"
    }
   ],
   "source": [
    "fig, ax = plt.subplots(1,1)\n",
    "ax.plot(sizes, t_numeric, 'o-', label='Inserting row-by-row')\n",
    "ax.plot(sizes, t_numeric_add, 'o-', label='Inserting row-by-row: add_result only')\n",
    "ax.plot(sizes, t_array, 'd-', label='Inserting as binary blob')\n",
    "ax.plot(sizes, t_array_add, 'd-', label='Inserting as binary blob: add_result only')\n",
    "ax.legend()\n",
    "ax.set_xlabel('Array length')\n",
    "ax.set_ylabel('Time (s)')\n",
    "fig.tight_layout()"
   ]
  },
  {
   "cell_type": "markdown",
   "metadata": {},
   "source": [
    "As shown in the latter figure, the time to setup and and close the experiment is approximately 0.4 sec. In case of small array sizes, the difference between inserting values of data as arrays and inserting them row-by-row is relatively unimportant. At larger array sizes, i.e. above 10000 points, the cost of writing data as individual datapoints starts to become important.\n"
   ]
  },
  {
   "cell_type": "markdown",
   "metadata": {},
   "source": [
    "### Case2: Long experiment time "
   ]
  },
  {
   "cell_type": "code",
   "execution_count": 7,
   "metadata": {
    "execution": {
     "iopub.execute_input": "2021-02-04T12:52:03.171027Z",
     "iopub.status.busy": "2021-02-04T12:52:03.169957Z",
     "iopub.status.idle": "2021-02-04T12:53:01.652975Z",
     "shell.execute_reply": "2021-02-04T12:53:01.652356Z"
    }
   },
   "outputs": [
    {
     "name": "stdout",
     "output_type": "stream",
     "text": [
      "Starting experimental run with id: 15. \n",
      "Starting experimental run with id: 16. \n",
      "Starting experimental run with id: 17. \n"
     ]
    },
    {
     "name": "stdout",
     "output_type": "stream",
     "text": [
      "Starting experimental run with id: 18. \n",
      "Starting experimental run with id: 19. \n"
     ]
    },
    {
     "name": "stdout",
     "output_type": "stream",
     "text": [
      "Starting experimental run with id: 20. \n"
     ]
    },
    {
     "name": "stdout",
     "output_type": "stream",
     "text": [
      "Starting experimental run with id: 21. \n"
     ]
    },
    {
     "name": "stdout",
     "output_type": "stream",
     "text": [
      "Starting experimental run with id: 22. \n"
     ]
    },
    {
     "name": "stdout",
     "output_type": "stream",
     "text": [
      "Starting experimental run with id: 23. \n"
     ]
    },
    {
     "name": "stdout",
     "output_type": "stream",
     "text": [
      "Starting experimental run with id: 24. \n"
     ]
    },
    {
     "name": "stdout",
     "output_type": "stream",
     "text": [
      "Starting experimental run with id: 25. \n"
     ]
    },
    {
     "name": "stdout",
     "output_type": "stream",
     "text": [
      "Starting experimental run with id: 26. \n"
     ]
    },
    {
     "name": "stdout",
     "output_type": "stream",
     "text": [
      "Starting experimental run with id: 27. \n"
     ]
    },
    {
     "name": "stdout",
     "output_type": "stream",
     "text": [
      "Starting experimental run with id: 28. \n"
     ]
    }
   ],
   "source": [
    "sizes = [1,500,1000,2000,3000,4000,5000]\n",
    "nreps = 100\n",
    "t_numeric = []\n",
    "t_numeric_add = []\n",
    "t_numeric_run_ids = []\n",
    "t_array = []\n",
    "t_array_add = []\n",
    "t_array_run_ids = []\n",
    "for size in sizes:\n",
    "    tn, tna, run_id_n =  insert_data('numeric', size, nreps=nreps)\n",
    "    t_numeric.append(tn)\n",
    "    t_numeric_add.append(tna)\n",
    "    t_numeric_run_ids.append(run_id_n)\n",
    "\n",
    "    ta, taa, run_id_a =  insert_data('array', size, nreps=nreps)\n",
    "    t_array.append(ta)\n",
    "    t_array_add.append(taa)\n",
    "    t_array_run_ids.append(run_id_a)"
   ]
  },
  {
   "cell_type": "code",
   "execution_count": 8,
   "metadata": {
    "execution": {
     "iopub.execute_input": "2021-02-04T12:53:01.691789Z",
     "iopub.status.busy": "2021-02-04T12:53:01.662181Z",
     "iopub.status.idle": "2021-02-04T12:53:01.862233Z",
     "shell.execute_reply": "2021-02-04T12:53:01.861750Z"
    },
    "scrolled": true
   },
   "outputs": [
    {
     "data": {
      "image/png": "[encoded data removed]",
      "text/plain": [
       "<Figure size 432x288 with 1 Axes>"
      ]
     },
     "metadata": {
      "needs_background": "light"
     },
     "output_type": "display_data"
    }
   ],
   "source": [
    "fig, ax = plt.subplots(1,1)\n",
    "ax.plot(sizes, t_numeric, 'o-', label='Inserting row-by-row')\n",
    "ax.plot(sizes, t_numeric_add, 'o-', label='Inserting row-by-row: add_result only')\n",
    "ax.plot(sizes, t_array, 'd-', label='Inserting as binary blob')\n",
    "ax.plot(sizes, t_array_add, 'd-', label='Inserting as binary blob: add_result only')\n",
    "ax.legend()\n",
    "ax.set_xlabel('Array length')\n",
    "ax.set_ylabel('Time (s)')\n",
    "fig.tight_layout()"
   ]
  },
  {
   "cell_type": "markdown",
   "metadata": {},
   "source": [
    "However, as we increase the length of the experiment, as seen here by repeating the insertion 100 times, we see a big difference between inserting values of the data row-by-row and inserting it as a binary blob."
   ]
  },
  {
   "cell_type": "markdown",
   "metadata": {},
   "source": [
    "## Loading the data "
   ]
  },
  {
   "cell_type": "code",
   "execution_count": 9,
   "metadata": {
    "execution": {
     "iopub.execute_input": "2021-02-04T12:53:01.867784Z",
     "iopub.status.busy": "2021-02-04T12:53:01.866587Z",
     "iopub.status.idle": "2021-02-04T12:53:01.868403Z",
     "shell.execute_reply": "2021-02-04T12:53:01.868855Z"
    }
   },
   "outputs": [],
   "source": [
    "from qcodes.dataset.data_set import load_by_id\n",
    "from qcodes.dataset.data_export import get_data_by_id"
   ]
  },
  {
   "cell_type": "markdown",
   "metadata": {},
   "source": [
    "As usual you can load the data by using the ``load_by_id`` function but you will notice that the different storage methods\n",
    "are reflected in shape of the data as it is retrieved. "
   ]
  },
  {
   "cell_type": "code",
   "execution_count": 10,
   "metadata": {
    "execution": {
     "iopub.execute_input": "2021-02-04T12:53:01.873276Z",
     "iopub.status.busy": "2021-02-04T12:53:01.872183Z",
     "iopub.status.idle": "2021-02-04T12:53:01.873895Z",
     "shell.execute_reply": "2021-02-04T12:53:01.874340Z"
    }
   },
   "outputs": [],
   "source": [
    "run_id_n = t_numeric_run_ids[0]\n",
    "run_id_a = t_array_run_ids[0]"
   ]
  },
  {
   "cell_type": "code",
   "execution_count": 11,
   "metadata": {
    "execution": {
     "iopub.execute_input": "2021-02-04T12:53:01.877654Z",
     "iopub.status.busy": "2021-02-04T12:53:01.877116Z",
     "iopub.status.idle": "2021-02-04T12:53:01.886455Z",
     "shell.execute_reply": "2021-02-04T12:53:01.886918Z"
    },
    "scrolled": true
   },
   "outputs": [
    {
     "data": {
      "text/plain": [
       "{'x1': {'x1': array([0.66944765, 0.66944765, 0.01988825, 0.01988825, 0.12834625,\n",
       "         0.12834625, 0.28743308, 0.28743308, 0.93510876, 0.93510876,\n",
       "         0.76401187, 0.76401187, 0.92455518, 0.92455518, 0.5677977 ,\n",
       "         0.5677977 , 0.93352854, 0.93352854, 0.91037445, 0.91037445,\n",
       "         0.02722709, 0.02722709, 0.5477903 , 0.5477903 , 0.88306638,\n",
       "         0.88306638, 0.20419555, 0.20419555, 0.39333826, 0.39333826,\n",
       "         0.59795543, 0.59795543, 0.27043222, 0.27043222, 0.70089519,\n",
       "         0.70089519, 0.33618957, 0.33618957, 0.96550591, 0.96550591,\n",
       "         0.02174937, 0.02174937, 0.97760074, 0.97760074, 0.93026747,\n",
       "         0.93026747, 0.50041817, 0.50041817, 0.0897078 , 0.0897078 ,\n",
       "         0.01416112, 0.01416112, 0.87548399, 0.87548399, 0.35753516,\n",
       "         0.35753516, 0.66156239, 0.66156239, 0.19683462, 0.19683462,\n",
       "         0.57136357, 0.57136357, 0.16042182, 0.16042182, 0.73616046,\n",
       "         0.73616046, 0.33185362, 0.33185362, 0.1346639 , 0.1346639 ,\n",
       "         0.20074714, 0.20074714, 0.43011117, 0.43011117, 0.89882532,\n",
       "         0.89882532, 0.41495257, 0.41495257, 0.8674337 , 0.8674337 ,\n",
       "         0.76890104, 0.76890104, 0.3293372 , 0.3293372 , 0.51513117,\n",
       "         0.51513117, 0.02480904, 0.02480904, 0.02202655, 0.02202655,\n",
       "         0.16630538, 0.16630538, 0.03430575, 0.03430575, 0.36620129,\n",
       "         0.36620129, 0.96350861, 0.96350861, 0.60794588, 0.60794588,\n",
       "         0.03687628, 0.03687628, 0.63148935, 0.63148935, 0.40976958,\n",
       "         0.40976958, 0.5433782 , 0.5433782 , 0.39528798, 0.39528798,\n",
       "         0.99525333, 0.99525333, 0.61013839, 0.61013839, 0.34392803,\n",
       "         0.34392803, 0.15999931, 0.15999931, 0.81776436, 0.81776436,\n",
       "         0.81621687, 0.81621687, 0.57570619, 0.57570619, 0.18091127,\n",
       "         0.18091127, 0.31502145, 0.31502145, 0.15049464, 0.15049464,\n",
       "         0.3779388 , 0.3779388 , 0.45401708, 0.45401708, 0.9091301 ,\n",
       "         0.9091301 , 0.81615496, 0.81615496, 0.03271169, 0.03271169,\n",
       "         0.34439221, 0.34439221, 0.66652029, 0.66652029, 0.58153352,\n",
       "         0.58153352, 0.77256696, 0.77256696, 0.67972734, 0.67972734,\n",
       "         0.90609881, 0.90609881, 0.25816328, 0.25816328, 0.76846859,\n",
       "         0.76846859, 0.05857815, 0.05857815, 0.34435534, 0.34435534,\n",
       "         0.09299278, 0.09299278, 0.32602222, 0.32602222, 0.00382635,\n",
       "         0.00382635, 0.30088352, 0.30088352, 0.41532288, 0.41532288,\n",
       "         0.59952493, 0.59952493, 0.14029371, 0.14029371, 0.23798844,\n",
       "         0.23798844, 0.62033056, 0.62033056, 0.37840087, 0.37840087,\n",
       "         0.5528118 , 0.5528118 , 0.48657657, 0.48657657, 0.02118112,\n",
       "         0.02118112, 0.80951192, 0.80951192, 0.91890246, 0.91890246,\n",
       "         0.46163456, 0.46163456, 0.88484397, 0.88484397, 0.00848692,\n",
       "         0.00848692, 0.00501485, 0.00501485, 0.95989102, 0.95989102])}}"
      ]
     },
     "execution_count": 1,
     "metadata": {},
     "output_type": "execute_result"
    }
   ],
   "source": [
    "ds = load_by_id(run_id_n)\n",
    "ds.get_parameter_data('x1')"
   ]
  },
  {
   "cell_type": "markdown",
   "metadata": {},
   "source": [
    "And a dataset stored as binary arrays"
   ]
  },
  {
   "cell_type": "code",
   "execution_count": 12,
   "metadata": {
    "execution": {
     "iopub.execute_input": "2021-02-04T12:53:01.890433Z",
     "iopub.status.busy": "2021-02-04T12:53:01.889886Z",
     "iopub.status.idle": "2021-02-04T12:53:01.949391Z",
     "shell.execute_reply": "2021-02-04T12:53:01.950042Z"
    },
    "scrolled": true
   },
   "outputs": [
    {
     "data": {
      "text/plain": [
       "{'x1': {'x1': array([[0.05758462],\n",
       "         [0.05758462],\n",
       "         [0.48589587],\n",
       "         [0.48589587],\n",
       "         [0.73252261],\n",
       "         [0.73252261],\n",
       "         [0.13436674],\n",
       "         [0.13436674],\n",
       "         [0.12828556],\n",
       "         [0.12828556],\n",
       "         [0.97575266],\n",
       "         [0.97575266],\n",
       "         [0.44896458],\n",
       "         [0.44896458],\n",
       "         [0.13537417],\n",
       "         [0.13537417],\n",
       "         [0.80071039],\n",
       "         [0.80071039],\n",
       "         [0.17976647],\n",
       "         [0.17976647],\n",
       "         [0.98874741],\n",
       "         [0.98874741],\n",
       "         [0.68048551],\n",
       "         [0.68048551],\n",
       "         [0.55705247],\n",
       "         [0.55705247],\n",
       "         [0.87731005],\n",
       "         [0.87731005],\n",
       "         [0.89352773],\n",
       "         [0.89352773],\n",
       "         [0.93176404],\n",
       "         [0.93176404],\n",
       "         [0.58609167],\n",
       "         [0.58609167],\n",
       "         [0.16555945],\n",
       "         [0.16555945],\n",
       "         [0.81801612],\n",
       "         [0.81801612],\n",
       "         [0.11958505],\n",
       "         [0.11958505],\n",
       "         [0.7216681 ],\n",
       "         [0.7216681 ],\n",
       "         [0.12305425],\n",
       "         [0.12305425],\n",
       "         [0.14456923],\n",
       "         [0.14456923],\n",
       "         [0.94604464],\n",
       "         [0.94604464],\n",
       "         [0.31518315],\n",
       "         [0.31518315],\n",
       "         [0.14129618],\n",
       "         [0.14129618],\n",
       "         [0.22678789],\n",
       "         [0.22678789],\n",
       "         [0.70295572],\n",
       "         [0.70295572],\n",
       "         [0.78091763],\n",
       "         [0.78091763],\n",
       "         [0.68843348],\n",
       "         [0.68843348],\n",
       "         [0.23332165],\n",
       "         [0.23332165],\n",
       "         [0.50566621],\n",
       "         [0.50566621],\n",
       "         [0.10643315],\n",
       "         [0.10643315],\n",
       "         [0.60098094],\n",
       "         [0.60098094],\n",
       "         [0.60221   ],\n",
       "         [0.60221   ],\n",
       "         [0.18307487],\n",
       "         [0.18307487],\n",
       "         [0.59606898],\n",
       "         [0.59606898],\n",
       "         [0.86744684],\n",
       "         [0.86744684],\n",
       "         [0.14005695],\n",
       "         [0.14005695],\n",
       "         [0.13183544],\n",
       "         [0.13183544],\n",
       "         [0.62915798],\n",
       "         [0.62915798],\n",
       "         [0.42395965],\n",
       "         [0.42395965],\n",
       "         [0.20302373],\n",
       "         [0.20302373],\n",
       "         [0.13219821],\n",
       "         [0.13219821],\n",
       "         [0.99046408],\n",
       "         [0.99046408],\n",
       "         [0.27016595],\n",
       "         [0.27016595],\n",
       "         [0.16702187],\n",
       "         [0.16702187],\n",
       "         [0.31184495],\n",
       "         [0.31184495],\n",
       "         [0.70462709],\n",
       "         [0.70462709],\n",
       "         [0.26816447],\n",
       "         [0.26816447],\n",
       "         [0.04862464],\n",
       "         [0.04862464],\n",
       "         [0.28427694],\n",
       "         [0.28427694],\n",
       "         [0.3780119 ],\n",
       "         [0.3780119 ],\n",
       "         [0.25086283],\n",
       "         [0.25086283],\n",
       "         [0.37502157],\n",
       "         [0.37502157],\n",
       "         [0.04418996],\n",
       "         [0.04418996],\n",
       "         [0.97406041],\n",
       "         [0.97406041],\n",
       "         [0.34888808],\n",
       "         [0.34888808],\n",
       "         [0.23769821],\n",
       "         [0.23769821],\n",
       "         [0.9260406 ],\n",
       "         [0.9260406 ],\n",
       "         [0.25847623],\n",
       "         [0.25847623],\n",
       "         [0.71787769],\n",
       "         [0.71787769],\n",
       "         [0.65816949],\n",
       "         [0.65816949],\n",
       "         [0.77894108],\n",
       "         [0.77894108],\n",
       "         [0.29263038],\n",
       "         [0.29263038],\n",
       "         [0.81795949],\n",
       "         [0.81795949],\n",
       "         [0.11136392],\n",
       "         [0.11136392],\n",
       "         [0.81842383],\n",
       "         [0.81842383],\n",
       "         [0.26503043],\n",
       "         [0.26503043],\n",
       "         [0.47759771],\n",
       "         [0.47759771],\n",
       "         [0.50651836],\n",
       "         [0.50651836],\n",
       "         [0.12703057],\n",
       "         [0.12703057],\n",
       "         [0.22552653],\n",
       "         [0.22552653],\n",
       "         [0.54672222],\n",
       "         [0.54672222],\n",
       "         [0.8896492 ],\n",
       "         [0.8896492 ],\n",
       "         [0.74787749],\n",
       "         [0.74787749],\n",
       "         [0.95168614],\n",
       "         [0.95168614],\n",
       "         [0.88779959],\n",
       "         [0.88779959],\n",
       "         [0.29379363],\n",
       "         [0.29379363],\n",
       "         [0.51325361],\n",
       "         [0.51325361],\n",
       "         [0.86590513],\n",
       "         [0.86590513],\n",
       "         [0.92298545],\n",
       "         [0.92298545],\n",
       "         [0.92131183],\n",
       "         [0.92131183],\n",
       "         [0.71395539],\n",
       "         [0.71395539],\n",
       "         [0.99926773],\n",
       "         [0.99926773],\n",
       "         [0.77802161],\n",
       "         [0.77802161],\n",
       "         [0.21857928],\n",
       "         [0.21857928],\n",
       "         [0.33870356],\n",
       "         [0.33870356],\n",
       "         [0.11482441],\n",
       "         [0.11482441],\n",
       "         [0.40754108],\n",
       "         [0.40754108],\n",
       "         [0.9292294 ],\n",
       "         [0.9292294 ],\n",
       "         [0.66621334],\n",
       "         [0.66621334],\n",
       "         [0.71919438],\n",
       "         [0.71919438],\n",
       "         [0.53759057],\n",
       "         [0.53759057],\n",
       "         [0.4346396 ],\n",
       "         [0.4346396 ],\n",
       "         [0.74920087],\n",
       "         [0.74920087],\n",
       "         [0.36929518],\n",
       "         [0.36929518],\n",
       "         [0.80673543],\n",
       "         [0.80673543],\n",
       "         [0.83210448],\n",
       "         [0.83210448],\n",
       "         [0.30193135],\n",
       "         [0.30193135]])}}"
      ]
     },
     "execution_count": 1,
     "metadata": {},
     "output_type": "execute_result"
    }
   ],
   "source": [
    "ds = load_by_id(run_id_a)\n",
    "ds.get_parameter_data('x1')"
   ]
  },
  {
   "cell_type": "code",
   "execution_count": null,
   "metadata": {},
   "outputs": [],
   "source": []
  }
 ],
 "metadata": {
  "kernelspec": {
   "display_name": "Python 3",
   "language": "python",
   "name": "python3"
  },
  "language_info": {
   "codemirror_mode": {
    "name": "ipython",
    "version": 3
   },
   "file_extension": ".py",
   "mimetype": "text/x-python",
   "name": "python",
   "nbconvert_exporter": "python",
   "pygments_lexer": "ipython3",
   "version": "3.7.9"
  },
  "nbsphinx": {
   "timeout": 600
  },
  "toc": {
   "base_numbering": 1,
   "nav_menu": {},
   "number_sections": true,
   "sideBar": true,
   "skip_h1_title": false,
   "title_cell": "Table of Contents",
   "title_sidebar": "Contents",
   "toc_cell": false,
   "toc_position": {},
   "toc_section_display": true,
   "toc_window_display": false
  },
  "varInspector": {
   "cols": {
    "lenName": 16,
    "lenType": 16,
    "lenVar": 40
   },
   "kernels_config": {
    "python": {
     "delete_cmd_postfix": "",
     "delete_cmd_prefix": "del ",
     "library": "var_list.py",
     "varRefreshCmd": "print(var_dic_list())"
    },
    "r": {
     "delete_cmd_postfix": ") ",
     "delete_cmd_prefix": "rm(",
     "library": "var_list.r",
     "varRefreshCmd": "cat(var_dic_list()) "
    }
   },
   "types_to_exclude": [
    "module",
    "function",
    "builtin_function_or_method",
    "instance",
    "_Feature"
   ],
   "window_display": false
  }
 },
 "nbformat": 4,
 "nbformat_minor": 2
}
