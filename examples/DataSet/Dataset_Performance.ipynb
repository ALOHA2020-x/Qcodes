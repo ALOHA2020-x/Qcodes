{
 "cells": [
  {
   "cell_type": "markdown",
   "metadata": {},
   "source": [
    "# DataSet Performance\n",
    "\n",
    "This notebook shows the trade-off between inserting data into a database row-by-row and as binary blobs. Inserting the data row-by-row means that we have direct access to all the data and may perform queries directly on the values of the data. On the other hand, as we shall see, this is much slower than inserting the data directly as binary blobs."
   ]
  },
  {
   "cell_type": "markdown",
   "metadata": {},
   "source": [
    "First, we choose a new location for the database to ensure that we don't add a bunch of benchmarking data to the default one."
   ]
  },
  {
   "cell_type": "code",
   "execution_count": 1,
   "metadata": {
    "execution": {
     "iopub.execute_input": "2020-09-24T09:41:19.994488Z",
     "iopub.status.busy": "2020-09-24T09:41:19.993790Z",
     "iopub.status.idle": "2020-09-24T09:41:21.022525Z",
     "shell.execute_reply": "2020-09-24T09:41:21.022992Z"
    }
   },
   "outputs": [
    {
     "name": "stdout",
     "output_type": "stream",
     "text": [
      "Logging hadn't been started.\n",
      "Activating auto-logging. Current session state plus future input saved.\n",
      "Filename       : /home/vsts/.qcodes/logs/command_history.log\n",
      "Mode           : append\n",
      "Output logging : True\n",
      "Raw input log  : False\n",
      "Timestamping   : True\n",
      "State          : active\n"
     ]
    },
    {
     "name": "stdout",
     "output_type": "stream",
     "text": [
      "Qcodes Logfile : /home/vsts/.qcodes/logs/200924-18820-qcodes.log\n"
     ]
    }
   ],
   "source": [
    "import os\n",
    "cwd = os.getcwd()\n",
    "import qcodes as qc\n",
    "qc.config[\"core\"][\"db_location\"] = os.path.join(cwd, 'testing.db')\n"
   ]
  },
  {
   "cell_type": "code",
   "execution_count": 2,
   "metadata": {
    "execution": {
     "iopub.execute_input": "2020-09-24T09:41:21.030223Z",
     "iopub.status.busy": "2020-09-24T09:41:21.028765Z",
     "iopub.status.idle": "2020-09-24T09:41:21.225903Z",
     "shell.execute_reply": "2020-09-24T09:41:21.225149Z"
    }
   },
   "outputs": [],
   "source": [
    "%matplotlib inline\n",
    "import time\n",
    "import matplotlib.pyplot as plt\n",
    "import numpy as np\n",
    "\n",
    "import qcodes as qc\n",
    "from qcodes.instrument.parameter import ManualParameter\n",
    "from qcodes.dataset.experiment_container import (Experiment,\n",
    "                                                 load_last_experiment,\n",
    "                                                 new_experiment)\n",
    "from qcodes.dataset.sqlite.database import initialise_database\n",
    "from qcodes import load_or_create_experiment\n",
    "from qcodes.dataset.measurements import Measurement"
   ]
  },
  {
   "cell_type": "code",
   "execution_count": 3,
   "metadata": {
    "execution": {
     "iopub.execute_input": "2020-09-24T09:41:21.230228Z",
     "iopub.status.busy": "2020-09-24T09:41:21.229503Z",
     "iopub.status.idle": "2020-09-24T09:41:21.351910Z",
     "shell.execute_reply": "2020-09-24T09:41:21.352332Z"
    }
   },
   "outputs": [
    {
     "name": "stdout",
     "output_type": "stream",
     "text": [
      "\r",
      "0it [00:00, ?it/s]"
     ]
    },
    {
     "name": "stdout",
     "output_type": "stream",
     "text": [
      "\r",
      "Upgrading database; v0 -> v1: : 0it [00:00, ?it/s]"
     ]
    },
    {
     "name": "stdout",
     "output_type": "stream",
     "text": [
      "\r",
      "Upgrading database; v0 -> v1: : 0it [00:00, ?it/s]"
     ]
    },
    {
     "name": "stdout",
     "output_type": "stream",
     "text": [
      "\n",
      "\r",
      "  0%|          | 0/1 [00:00<?, ?it/s]"
     ]
    },
    {
     "name": "stdout",
     "output_type": "stream",
     "text": [
      "\r",
      "Upgrading database; v1 -> v2:   0%|          | 0/1 [00:00<?, ?it/s]"
     ]
    },
    {
     "name": "stdout",
     "output_type": "stream",
     "text": [
      "\r",
      "Upgrading database; v1 -> v2: 100%|██████████| 1/1 [00:00<00:00, 416.97it/s]"
     ]
    },
    {
     "name": "stdout",
     "output_type": "stream",
     "text": [
      "\n",
      "\r",
      "0it [00:00, ?it/s]"
     ]
    },
    {
     "name": "stdout",
     "output_type": "stream",
     "text": [
      "\r",
      "Upgrading database; v2 -> v3: : 0it [00:00, ?it/s]"
     ]
    },
    {
     "name": "stdout",
     "output_type": "stream",
     "text": [
      "\r",
      "Upgrading database; v2 -> v3: : 0it [00:00, ?it/s]"
     ]
    },
    {
     "name": "stdout",
     "output_type": "stream",
     "text": [
      "\n",
      "\r",
      "0it [00:00, ?it/s]"
     ]
    },
    {
     "name": "stdout",
     "output_type": "stream",
     "text": [
      "\r",
      "Upgrading database; v3 -> v4: : 0it [00:00, ?it/s]"
     ]
    },
    {
     "name": "stdout",
     "output_type": "stream",
     "text": [
      "\r",
      "Upgrading database; v3 -> v4: : 0it [00:00, ?it/s]"
     ]
    },
    {
     "name": "stdout",
     "output_type": "stream",
     "text": [
      "\n",
      "\r",
      "  0%|          | 0/1 [00:00<?, ?it/s]"
     ]
    },
    {
     "name": "stdout",
     "output_type": "stream",
     "text": [
      "\r",
      "Upgrading database; v4 -> v5:   0%|          | 0/1 [00:00<?, ?it/s]"
     ]
    },
    {
     "name": "stdout",
     "output_type": "stream",
     "text": [
      "\r",
      "Upgrading database; v4 -> v5: 100%|██████████| 1/1 [00:00<00:00, 456.10it/s]"
     ]
    },
    {
     "name": "stdout",
     "output_type": "stream",
     "text": [
      "\n",
      "\r",
      "0it [00:00, ?it/s]"
     ]
    },
    {
     "name": "stdout",
     "output_type": "stream",
     "text": [
      "\r",
      "Upgrading database; v5 -> v6: : 0it [00:00, ?it/s]"
     ]
    },
    {
     "name": "stdout",
     "output_type": "stream",
     "text": [
      "\r",
      "Upgrading database; v5 -> v6: : 0it [00:00, ?it/s]"
     ]
    },
    {
     "name": "stdout",
     "output_type": "stream",
     "text": [
      "\n",
      "\r",
      "  0%|          | 0/1 [00:00<?, ?it/s]"
     ]
    },
    {
     "name": "stdout",
     "output_type": "stream",
     "text": [
      "\r",
      "Upgrading database; v6 -> v7:   0%|          | 0/1 [00:00<?, ?it/s]"
     ]
    },
    {
     "name": "stdout",
     "output_type": "stream",
     "text": [
      "\r",
      "Upgrading database; v6 -> v7: 100%|██████████| 1/1 [00:00<00:00, 203.90it/s]"
     ]
    },
    {
     "name": "stdout",
     "output_type": "stream",
     "text": [
      "\n",
      "\r",
      "  0%|          | 0/1 [00:00<?, ?it/s]"
     ]
    },
    {
     "name": "stdout",
     "output_type": "stream",
     "text": [
      "\r",
      "Upgrading database; v7 -> v8:   0%|          | 0/1 [00:00<?, ?it/s]"
     ]
    },
    {
     "name": "stdout",
     "output_type": "stream",
     "text": [
      "\r",
      "Upgrading database; v7 -> v8: 100%|██████████| 1/1 [00:00<00:00, 804.59it/s]"
     ]
    },
    {
     "name": "stdout",
     "output_type": "stream",
     "text": [
      "\n",
      "\r",
      "  0%|          | 0/1 [00:00<?, ?it/s]"
     ]
    },
    {
     "name": "stdout",
     "output_type": "stream",
     "text": [
      "\r",
      "Upgrading database; v8 -> v9:   0%|          | 0/1 [00:00<?, ?it/s]"
     ]
    },
    {
     "name": "stdout",
     "output_type": "stream",
     "text": [
      "\r",
      "Upgrading database; v8 -> v9: 100%|██████████| 1/1 [00:00<00:00, 355.18it/s]"
     ]
    },
    {
     "name": "stdout",
     "output_type": "stream",
     "text": [
      "\n"
     ]
    }
   ],
   "source": [
    "initialise_database()\n",
    "exp = load_or_create_experiment(experiment_name='tutorial_exp', sample_name=\"no sample\")"
   ]
  },
  {
   "cell_type": "markdown",
   "metadata": {},
   "source": [
    "Here, we define a simple function to benchmark the time it takes to insert n points with either numeric or array data type.\n",
    "We will compare both the time used to call ``add_result`` and the time used for the full measurement."
   ]
  },
  {
   "cell_type": "code",
   "execution_count": 4,
   "metadata": {
    "execution": {
     "iopub.execute_input": "2020-09-24T09:41:21.359942Z",
     "iopub.status.busy": "2020-09-24T09:41:21.359415Z",
     "iopub.status.idle": "2020-09-24T09:41:21.362506Z",
     "shell.execute_reply": "2020-09-24T09:41:21.363021Z"
    }
   },
   "outputs": [],
   "source": [
    "def insert_data(paramtype, npoints, nreps=1):\n",
    "\n",
    "    meas = Measurement(exp=exp)\n",
    "\n",
    "    x1 = ManualParameter('x1')\n",
    "    x2 = ManualParameter('x2')\n",
    "    x3 = ManualParameter('x3')\n",
    "    y1 = ManualParameter('y1')\n",
    "    y2 = ManualParameter('y2')\n",
    "\n",
    "    meas.register_parameter(x1, paramtype=paramtype)\n",
    "    meas.register_parameter(x2, paramtype=paramtype)\n",
    "    meas.register_parameter(x3, paramtype=paramtype)\n",
    "    meas.register_parameter(y1, setpoints=[x1, x2, x3],\n",
    "                            paramtype=paramtype)\n",
    "    meas.register_parameter(y2, setpoints=[x1, x2, x3],\n",
    "                            paramtype=paramtype)\n",
    "    start = time.perf_counter()\n",
    "    with meas.run() as datasaver:\n",
    "        start_adding = time.perf_counter()\n",
    "        for i in range(nreps):\n",
    "            datasaver.add_result((x1, np.random.rand(npoints)),\n",
    "                                 (x2, np.random.rand(npoints)),\n",
    "                                 (x3, np.random.rand(npoints)),\n",
    "                                 (y1, np.random.rand(npoints)),\n",
    "                                 (y2, np.random.rand(npoints)))\n",
    "        stop_adding = time.perf_counter()\n",
    "        run_id = datasaver.run_id\n",
    "    stop = time.perf_counter()\n",
    "    tot_time = stop - start\n",
    "    add_time = stop_adding - start_adding\n",
    "    return tot_time, add_time, run_id"
   ]
  },
  {
   "cell_type": "markdown",
   "metadata": {},
   "source": [
    "## Comparison between numeric/array data and binary blob"
   ]
  },
  {
   "cell_type": "markdown",
   "metadata": {},
   "source": [
    "### Case1: Short experiment time"
   ]
  },
  {
   "cell_type": "code",
   "execution_count": 5,
   "metadata": {
    "execution": {
     "iopub.execute_input": "2020-09-24T09:41:21.367629Z",
     "iopub.status.busy": "2020-09-24T09:41:21.366941Z",
     "iopub.status.idle": "2020-09-24T09:41:22.177710Z",
     "shell.execute_reply": "2020-09-24T09:41:22.178230Z"
    }
   },
   "outputs": [
    {
     "name": "stdout",
     "output_type": "stream",
     "text": [
      "Starting experimental run with id: 1. \n",
      "Starting experimental run with id: 2. \n",
      "Starting experimental run with id: 3. \n",
      "Starting experimental run with id: 4. \n"
     ]
    },
    {
     "name": "stdout",
     "output_type": "stream",
     "text": [
      "Starting experimental run with id: 5. \n"
     ]
    },
    {
     "name": "stdout",
     "output_type": "stream",
     "text": [
      "Starting experimental run with id: 6. \n"
     ]
    },
    {
     "name": "stdout",
     "output_type": "stream",
     "text": [
      "Starting experimental run with id: 7. \n"
     ]
    },
    {
     "name": "stdout",
     "output_type": "stream",
     "text": [
      "Starting experimental run with id: 8. \n",
      "Starting experimental run with id: 9. \n"
     ]
    },
    {
     "name": "stdout",
     "output_type": "stream",
     "text": [
      "Starting experimental run with id: 10. \n",
      "Starting experimental run with id: 11. \n"
     ]
    },
    {
     "name": "stdout",
     "output_type": "stream",
     "text": [
      "Starting experimental run with id: 12. \n",
      "Starting experimental run with id: 13. \n"
     ]
    },
    {
     "name": "stdout",
     "output_type": "stream",
     "text": [
      "Starting experimental run with id: 14. \n"
     ]
    }
   ],
   "source": [
    "sizes = [1,500,1000,2000,3000,4000,5000]\n",
    "t_numeric = []\n",
    "t_numeric_add = []\n",
    "t_array = []\n",
    "t_array_add = []\n",
    "for size in sizes:\n",
    "    tn, tna, run_id_n =  insert_data('numeric', size)\n",
    "    t_numeric.append(tn)\n",
    "    t_numeric_add.append(tna)\n",
    "\n",
    "    ta, taa, run_id_a =  insert_data('array', size)\n",
    "    t_array.append(ta)\n",
    "    t_array_add.append(taa)"
   ]
  },
  {
   "cell_type": "code",
   "execution_count": 6,
   "metadata": {
    "execution": {
     "iopub.execute_input": "2020-09-24T09:41:22.196022Z",
     "iopub.status.busy": "2020-09-24T09:41:22.195313Z",
     "iopub.status.idle": "2020-09-24T09:41:22.425966Z",
     "shell.execute_reply": "2020-09-24T09:41:22.425478Z"
    }
   },
   "outputs": [
    {
     "data": {
      "image/png": "[encoded data removed]",
      "text/plain": [
       "<Figure size 432x288 with 1 Axes>"
      ]
     },
     "metadata": {
      "needs_background": "light"
     },
     "output_type": "display_data"
    }
   ],
   "source": [
    "fig, ax = plt.subplots(1,1)\n",
    "ax.plot(sizes, t_numeric, 'o-', label='Inserting row-by-row')\n",
    "ax.plot(sizes, t_numeric_add, 'o-', label='Inserting row-by-row: add_result only')\n",
    "ax.plot(sizes, t_array, 'd-', label='Inserting as binary blob')\n",
    "ax.plot(sizes, t_array_add, 'd-', label='Inserting as binary blob: add_result only')\n",
    "ax.legend()\n",
    "ax.set_xlabel('Array length')\n",
    "ax.set_ylabel('Time (s)')\n",
    "fig.tight_layout()"
   ]
  },
  {
   "cell_type": "markdown",
   "metadata": {},
   "source": [
    "As shown in the latter figure, the time to setup and and close the experiment is approximately 0.4 sec. In case of small array sizes, the difference between inserting values of data as arrays and inserting them row-by-row is relatively unimportant. At larger array sizes, i.e. above 10000 points, the cost of writing data as individual datapoints starts to become important.\n"
   ]
  },
  {
   "cell_type": "markdown",
   "metadata": {},
   "source": [
    "### Case2: Long experiment time "
   ]
  },
  {
   "cell_type": "code",
   "execution_count": 7,
   "metadata": {
    "execution": {
     "iopub.execute_input": "2020-09-24T09:41:22.434144Z",
     "iopub.status.busy": "2020-09-24T09:41:22.432448Z",
     "iopub.status.idle": "2020-09-24T09:42:16.422361Z",
     "shell.execute_reply": "2020-09-24T09:42:16.422774Z"
    }
   },
   "outputs": [
    {
     "name": "stdout",
     "output_type": "stream",
     "text": [
      "Starting experimental run with id: 15. \n",
      "Starting experimental run with id: 16. \n",
      "Starting experimental run with id: 17. \n"
     ]
    },
    {
     "name": "stdout",
     "output_type": "stream",
     "text": [
      "Starting experimental run with id: 18. \n",
      "Starting experimental run with id: 19. \n"
     ]
    },
    {
     "name": "stdout",
     "output_type": "stream",
     "text": [
      "Starting experimental run with id: 20. \n"
     ]
    },
    {
     "name": "stdout",
     "output_type": "stream",
     "text": [
      "Starting experimental run with id: 21. \n"
     ]
    },
    {
     "name": "stdout",
     "output_type": "stream",
     "text": [
      "Starting experimental run with id: 22. \n"
     ]
    },
    {
     "name": "stdout",
     "output_type": "stream",
     "text": [
      "Starting experimental run with id: 23. \n"
     ]
    },
    {
     "name": "stdout",
     "output_type": "stream",
     "text": [
      "Starting experimental run with id: 24. \n"
     ]
    },
    {
     "name": "stdout",
     "output_type": "stream",
     "text": [
      "Starting experimental run with id: 25. \n"
     ]
    },
    {
     "name": "stdout",
     "output_type": "stream",
     "text": [
      "Starting experimental run with id: 26. \n"
     ]
    },
    {
     "name": "stdout",
     "output_type": "stream",
     "text": [
      "Starting experimental run with id: 27. \n"
     ]
    },
    {
     "name": "stdout",
     "output_type": "stream",
     "text": [
      "Starting experimental run with id: 28. \n"
     ]
    }
   ],
   "source": [
    "sizes = [1,500,1000,2000,3000,4000,5000]\n",
    "nreps = 100\n",
    "t_numeric = []\n",
    "t_numeric_add = []\n",
    "t_numeric_run_ids = []\n",
    "t_array = []\n",
    "t_array_add = []\n",
    "t_array_run_ids = []\n",
    "for size in sizes:\n",
    "    tn, tna, run_id_n =  insert_data('numeric', size, nreps=nreps)\n",
    "    t_numeric.append(tn)\n",
    "    t_numeric_add.append(tna)\n",
    "    t_numeric_run_ids.append(run_id_n)\n",
    "\n",
    "    ta, taa, run_id_a =  insert_data('array', size, nreps=nreps)\n",
    "    t_array.append(ta)\n",
    "    t_array_add.append(taa)\n",
    "    t_array_run_ids.append(run_id_a)"
   ]
  },
  {
   "cell_type": "code",
   "execution_count": 8,
   "metadata": {
    "execution": {
     "iopub.execute_input": "2020-09-24T09:42:16.440448Z",
     "iopub.status.busy": "2020-09-24T09:42:16.438852Z",
     "iopub.status.idle": "2020-09-24T09:42:16.656189Z",
     "shell.execute_reply": "2020-09-24T09:42:16.655478Z"
    },
    "scrolled": true
   },
   "outputs": [
    {
     "data": {
      "image/png": "[encoded data removed]",
      "text/plain": [
       "<Figure size 432x288 with 1 Axes>"
      ]
     },
     "metadata": {
      "needs_background": "light"
     },
     "output_type": "display_data"
    }
   ],
   "source": [
    "fig, ax = plt.subplots(1,1)\n",
    "ax.plot(sizes, t_numeric, 'o-', label='Inserting row-by-row')\n",
    "ax.plot(sizes, t_numeric_add, 'o-', label='Inserting row-by-row: add_result only')\n",
    "ax.plot(sizes, t_array, 'd-', label='Inserting as binary blob')\n",
    "ax.plot(sizes, t_array_add, 'd-', label='Inserting as binary blob: add_result only')\n",
    "ax.legend()\n",
    "ax.set_xlabel('Array length')\n",
    "ax.set_ylabel('Time (s)')\n",
    "fig.tight_layout()"
   ]
  },
  {
   "cell_type": "markdown",
   "metadata": {},
   "source": [
    "However, as we increase the length of the experiment, as seen here by repeating the insertion 100 times, we see a big difference between inserting values of the data row-by-row and inserting it as a binary blob."
   ]
  },
  {
   "cell_type": "markdown",
   "metadata": {},
   "source": [
    "## Loading the data "
   ]
  },
  {
   "cell_type": "code",
   "execution_count": 9,
   "metadata": {
    "execution": {
     "iopub.execute_input": "2020-09-24T09:42:16.660306Z",
     "iopub.status.busy": "2020-09-24T09:42:16.659793Z",
     "iopub.status.idle": "2020-09-24T09:42:16.661920Z",
     "shell.execute_reply": "2020-09-24T09:42:16.662433Z"
    }
   },
   "outputs": [],
   "source": [
    "from qcodes.dataset.data_set import load_by_id\n",
    "from qcodes.dataset.data_export import get_data_by_id"
   ]
  },
  {
   "cell_type": "markdown",
   "metadata": {},
   "source": [
    "As usual you can load the data by using the ``load_by_id`` function but you will notice that the different storage methods\n",
    "are reflected in shape of the data as it is retrieved. "
   ]
  },
  {
   "cell_type": "code",
   "execution_count": 10,
   "metadata": {
    "execution": {
     "iopub.execute_input": "2020-09-24T09:42:16.667298Z",
     "iopub.status.busy": "2020-09-24T09:42:16.666043Z",
     "iopub.status.idle": "2020-09-24T09:42:16.668051Z",
     "shell.execute_reply": "2020-09-24T09:42:16.668568Z"
    }
   },
   "outputs": [],
   "source": [
    "run_id_n = t_numeric_run_ids[0]\n",
    "run_id_a = t_array_run_ids[0]"
   ]
  },
  {
   "cell_type": "code",
   "execution_count": 11,
   "metadata": {
    "execution": {
     "iopub.execute_input": "2020-09-24T09:42:16.671561Z",
     "iopub.status.busy": "2020-09-24T09:42:16.671067Z",
     "iopub.status.idle": "2020-09-24T09:42:16.679173Z",
     "shell.execute_reply": "2020-09-24T09:42:16.678743Z"
    },
    "scrolled": true
   },
   "outputs": [
    {
     "data": {
      "text/plain": [
       "{'x1': {'x1': array([0.00449118, 0.00449118, 0.63830091, 0.63830091, 0.01443926,\n",
       "         0.01443926, 0.71272428, 0.71272428, 0.43862338, 0.43862338,\n",
       "         0.93870995, 0.93870995, 0.09224815, 0.09224815, 0.49137904,\n",
       "         0.49137904, 0.8501403 , 0.8501403 , 0.72244883, 0.72244883,\n",
       "         0.90186967, 0.90186967, 0.64283631, 0.64283631, 0.73013754,\n",
       "         0.73013754, 0.33488891, 0.33488891, 0.8642481 , 0.8642481 ,\n",
       "         0.98135247, 0.98135247, 0.45083555, 0.45083555, 0.33846231,\n",
       "         0.33846231, 0.85971683, 0.85971683, 0.66744804, 0.66744804,\n",
       "         0.6318888 , 0.6318888 , 0.38202345, 0.38202345, 0.82784363,\n",
       "         0.82784363, 0.98213541, 0.98213541, 0.77211907, 0.77211907,\n",
       "         0.75496071, 0.75496071, 0.36234905, 0.36234905, 0.05782715,\n",
       "         0.05782715, 0.48980414, 0.48980414, 0.66813056, 0.66813056,\n",
       "         0.13245219, 0.13245219, 0.98719761, 0.98719761, 0.07222868,\n",
       "         0.07222868, 0.53633828, 0.53633828, 0.19678595, 0.19678595,\n",
       "         0.47549629, 0.47549629, 0.28402015, 0.28402015, 0.73111475,\n",
       "         0.73111475, 0.23324835, 0.23324835, 0.29161932, 0.29161932,\n",
       "         0.10083935, 0.10083935, 0.37667386, 0.37667386, 0.13602874,\n",
       "         0.13602874, 0.94752581, 0.94752581, 0.2312583 , 0.2312583 ,\n",
       "         0.07013465, 0.07013465, 0.78825077, 0.78825077, 0.09186904,\n",
       "         0.09186904, 0.18634003, 0.18634003, 0.97997955, 0.97997955,\n",
       "         0.88035161, 0.88035161, 0.83576103, 0.83576103, 0.73112942,\n",
       "         0.73112942, 0.18193314, 0.18193314, 0.8122843 , 0.8122843 ,\n",
       "         0.47466215, 0.47466215, 0.54595038, 0.54595038, 0.89154073,\n",
       "         0.89154073, 0.78402273, 0.78402273, 0.46599275, 0.46599275,\n",
       "         0.05313603, 0.05313603, 0.82484359, 0.82484359, 0.83427577,\n",
       "         0.83427577, 0.92617058, 0.92617058, 0.11394136, 0.11394136,\n",
       "         0.57944229, 0.57944229, 0.29602271, 0.29602271, 0.04535847,\n",
       "         0.04535847, 0.50990706, 0.50990706, 0.20532033, 0.20532033,\n",
       "         0.46225737, 0.46225737, 0.12682594, 0.12682594, 0.93077675,\n",
       "         0.93077675, 0.71196382, 0.71196382, 0.99552369, 0.99552369,\n",
       "         0.09730326, 0.09730326, 0.93221461, 0.93221461, 0.86212919,\n",
       "         0.86212919, 0.32287978, 0.32287978, 0.30432917, 0.30432917,\n",
       "         0.52906709, 0.52906709, 0.27157524, 0.27157524, 0.79802126,\n",
       "         0.79802126, 0.97540628, 0.97540628, 0.62704371, 0.62704371,\n",
       "         0.92767712, 0.92767712, 0.83433871, 0.83433871, 0.3795638 ,\n",
       "         0.3795638 , 0.28217288, 0.28217288, 0.01143424, 0.01143424,\n",
       "         0.98640321, 0.98640321, 0.17232292, 0.17232292, 0.59966105,\n",
       "         0.59966105, 0.34477256, 0.34477256, 0.08127144, 0.08127144,\n",
       "         0.89131318, 0.89131318, 0.72793764, 0.72793764, 0.21361188,\n",
       "         0.21361188, 0.77387593, 0.77387593, 0.73083098, 0.73083098])}}"
      ]
     },
     "execution_count": 1,
     "metadata": {},
     "output_type": "execute_result"
    }
   ],
   "source": [
    "ds = load_by_id(run_id_n)\n",
    "ds.get_parameter_data('x1')"
   ]
  },
  {
   "cell_type": "markdown",
   "metadata": {},
   "source": [
    "And a dataset stored as binary arrays"
   ]
  },
  {
   "cell_type": "code",
   "execution_count": 12,
   "metadata": {
    "execution": {
     "iopub.execute_input": "2020-09-24T09:42:16.682531Z",
     "iopub.status.busy": "2020-09-24T09:42:16.682043Z",
     "iopub.status.idle": "2020-09-24T09:42:16.737583Z",
     "shell.execute_reply": "2020-09-24T09:42:16.737056Z"
    },
    "scrolled": true
   },
   "outputs": [
    {
     "data": {
      "text/plain": [
       "{'x1': {'x1': array([[0.76435845],\n",
       "         [0.76435845],\n",
       "         [0.54727998],\n",
       "         [0.54727998],\n",
       "         [0.49373067],\n",
       "         [0.49373067],\n",
       "         [0.29808951],\n",
       "         [0.29808951],\n",
       "         [0.6437937 ],\n",
       "         [0.6437937 ],\n",
       "         [0.3622276 ],\n",
       "         [0.3622276 ],\n",
       "         [0.53718163],\n",
       "         [0.53718163],\n",
       "         [0.49607065],\n",
       "         [0.49607065],\n",
       "         [0.53880232],\n",
       "         [0.53880232],\n",
       "         [0.59809227],\n",
       "         [0.59809227],\n",
       "         [0.37371347],\n",
       "         [0.37371347],\n",
       "         [0.37527213],\n",
       "         [0.37527213],\n",
       "         [0.83930791],\n",
       "         [0.83930791],\n",
       "         [0.58212339],\n",
       "         [0.58212339],\n",
       "         [0.59744097],\n",
       "         [0.59744097],\n",
       "         [0.76540771],\n",
       "         [0.76540771],\n",
       "         [0.71413714],\n",
       "         [0.71413714],\n",
       "         [0.44646616],\n",
       "         [0.44646616],\n",
       "         [0.91874125],\n",
       "         [0.91874125],\n",
       "         [0.89094677],\n",
       "         [0.89094677],\n",
       "         [0.47691434],\n",
       "         [0.47691434],\n",
       "         [0.30399278],\n",
       "         [0.30399278],\n",
       "         [0.85352161],\n",
       "         [0.85352161],\n",
       "         [0.21787245],\n",
       "         [0.21787245],\n",
       "         [0.16659685],\n",
       "         [0.16659685],\n",
       "         [0.64684882],\n",
       "         [0.64684882],\n",
       "         [0.35781417],\n",
       "         [0.35781417],\n",
       "         [0.02452591],\n",
       "         [0.02452591],\n",
       "         [0.39930373],\n",
       "         [0.39930373],\n",
       "         [0.4842388 ],\n",
       "         [0.4842388 ],\n",
       "         [0.25912553],\n",
       "         [0.25912553],\n",
       "         [0.19513515],\n",
       "         [0.19513515],\n",
       "         [0.87124307],\n",
       "         [0.87124307],\n",
       "         [0.222417  ],\n",
       "         [0.222417  ],\n",
       "         [0.40443314],\n",
       "         [0.40443314],\n",
       "         [0.72336414],\n",
       "         [0.72336414],\n",
       "         [0.52069426],\n",
       "         [0.52069426],\n",
       "         [0.66256531],\n",
       "         [0.66256531],\n",
       "         [0.22594576],\n",
       "         [0.22594576],\n",
       "         [0.55985507],\n",
       "         [0.55985507],\n",
       "         [0.66168597],\n",
       "         [0.66168597],\n",
       "         [0.93544535],\n",
       "         [0.93544535],\n",
       "         [0.75960538],\n",
       "         [0.75960538],\n",
       "         [0.38613351],\n",
       "         [0.38613351],\n",
       "         [0.41955777],\n",
       "         [0.41955777],\n",
       "         [0.4971016 ],\n",
       "         [0.4971016 ],\n",
       "         [0.13350189],\n",
       "         [0.13350189],\n",
       "         [0.92850699],\n",
       "         [0.92850699],\n",
       "         [0.11800381],\n",
       "         [0.11800381],\n",
       "         [0.48714101],\n",
       "         [0.48714101],\n",
       "         [0.93526762],\n",
       "         [0.93526762],\n",
       "         [0.33462608],\n",
       "         [0.33462608],\n",
       "         [0.01366494],\n",
       "         [0.01366494],\n",
       "         [0.37086842],\n",
       "         [0.37086842],\n",
       "         [0.31611763],\n",
       "         [0.31611763],\n",
       "         [0.42606356],\n",
       "         [0.42606356],\n",
       "         [0.31491813],\n",
       "         [0.31491813],\n",
       "         [0.36728353],\n",
       "         [0.36728353],\n",
       "         [0.3787353 ],\n",
       "         [0.3787353 ],\n",
       "         [0.75403856],\n",
       "         [0.75403856],\n",
       "         [0.09888493],\n",
       "         [0.09888493],\n",
       "         [0.01572743],\n",
       "         [0.01572743],\n",
       "         [0.21749928],\n",
       "         [0.21749928],\n",
       "         [0.7251932 ],\n",
       "         [0.7251932 ],\n",
       "         [0.97528267],\n",
       "         [0.97528267],\n",
       "         [0.43870539],\n",
       "         [0.43870539],\n",
       "         [0.66659068],\n",
       "         [0.66659068],\n",
       "         [0.16200467],\n",
       "         [0.16200467],\n",
       "         [0.59056578],\n",
       "         [0.59056578],\n",
       "         [0.0974193 ],\n",
       "         [0.0974193 ],\n",
       "         [0.24281352],\n",
       "         [0.24281352],\n",
       "         [0.16400699],\n",
       "         [0.16400699],\n",
       "         [0.64908212],\n",
       "         [0.64908212],\n",
       "         [0.78302621],\n",
       "         [0.78302621],\n",
       "         [0.33575999],\n",
       "         [0.33575999],\n",
       "         [0.14090212],\n",
       "         [0.14090212],\n",
       "         [0.75539744],\n",
       "         [0.75539744],\n",
       "         [0.9013836 ],\n",
       "         [0.9013836 ],\n",
       "         [0.60379096],\n",
       "         [0.60379096],\n",
       "         [0.17403596],\n",
       "         [0.17403596],\n",
       "         [0.0393271 ],\n",
       "         [0.0393271 ],\n",
       "         [0.31681707],\n",
       "         [0.31681707],\n",
       "         [0.12242518],\n",
       "         [0.12242518],\n",
       "         [0.92444707],\n",
       "         [0.92444707],\n",
       "         [0.28956475],\n",
       "         [0.28956475],\n",
       "         [0.67532685],\n",
       "         [0.67532685],\n",
       "         [0.22819584],\n",
       "         [0.22819584],\n",
       "         [0.65713504],\n",
       "         [0.65713504],\n",
       "         [0.862094  ],\n",
       "         [0.862094  ],\n",
       "         [0.77152923],\n",
       "         [0.77152923],\n",
       "         [0.30466263],\n",
       "         [0.30466263],\n",
       "         [0.59801835],\n",
       "         [0.59801835],\n",
       "         [0.38777407],\n",
       "         [0.38777407],\n",
       "         [0.55959278],\n",
       "         [0.55959278],\n",
       "         [0.93959656],\n",
       "         [0.93959656],\n",
       "         [0.39917532],\n",
       "         [0.39917532],\n",
       "         [0.67034891],\n",
       "         [0.67034891],\n",
       "         [0.3935564 ],\n",
       "         [0.3935564 ],\n",
       "         [0.77543365],\n",
       "         [0.77543365],\n",
       "         [0.34696384],\n",
       "         [0.34696384]])}}"
      ]
     },
     "execution_count": 1,
     "metadata": {},
     "output_type": "execute_result"
    }
   ],
   "source": [
    "ds = load_by_id(run_id_a)\n",
    "ds.get_parameter_data('x1')"
   ]
  },
  {
   "cell_type": "code",
   "execution_count": null,
   "metadata": {},
   "outputs": [],
   "source": []
  }
 ],
 "metadata": {
  "kernelspec": {
   "display_name": "Python 3",
   "language": "python",
   "name": "python3"
  },
  "language_info": {
   "codemirror_mode": {
    "name": "ipython",
    "version": 3
   },
   "file_extension": ".py",
   "mimetype": "text/x-python",
   "name": "python",
   "nbconvert_exporter": "python",
   "pygments_lexer": "ipython3",
   "version": "3.7.7"
  },
  "nbsphinx": {
   "timeout": 600
  },
  "toc": {
   "base_numbering": 1,
   "nav_menu": {},
   "number_sections": true,
   "sideBar": true,
   "skip_h1_title": false,
   "title_cell": "Table of Contents",
   "title_sidebar": "Contents",
   "toc_cell": false,
   "toc_position": {},
   "toc_section_display": true,
   "toc_window_display": false
  },
  "varInspector": {
   "cols": {
    "lenName": 16,
    "lenType": 16,
    "lenVar": 40
   },
   "kernels_config": {
    "python": {
     "delete_cmd_postfix": "",
     "delete_cmd_prefix": "del ",
     "library": "var_list.py",
     "varRefreshCmd": "print(var_dic_list())"
    },
    "r": {
     "delete_cmd_postfix": ") ",
     "delete_cmd_prefix": "rm(",
     "library": "var_list.r",
     "varRefreshCmd": "cat(var_dic_list()) "
    }
   },
   "types_to_exclude": [
    "module",
    "function",
    "builtin_function_or_method",
    "instance",
    "_Feature"
   ],
   "window_display": false
  }
 },
 "nbformat": 4,
 "nbformat_minor": 2
}
