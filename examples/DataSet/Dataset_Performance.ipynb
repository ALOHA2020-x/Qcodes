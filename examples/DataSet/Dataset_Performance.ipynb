{
 "cells": [
  {
   "cell_type": "markdown",
   "metadata": {},
   "source": [
    "# DataSet Performance\n",
    "\n",
    "This notebook shows the trade-off between inserting data into a database row-by-row and as binary blobs. Inserting the data row-by-row means that we have direct access to all the data and may perform queries directly on the values of the data. On the other hand, as we shall see, this is much slower than inserting the data directly as binary blobs."
   ]
  },
  {
   "cell_type": "markdown",
   "metadata": {},
   "source": [
    "First, we choose a new location for the database to ensure that we don't add a bunch of benchmarking data to the default one."
   ]
  },
  {
   "cell_type": "code",
   "execution_count": 1,
   "metadata": {
    "execution": {
     "iopub.execute_input": "2021-02-05T07:05:27.775651Z",
     "iopub.status.busy": "2021-02-05T07:05:27.775129Z",
     "iopub.status.idle": "2021-02-05T07:05:28.702936Z",
     "shell.execute_reply": "2021-02-05T07:05:28.702384Z"
    }
   },
   "outputs": [
    {
     "name": "stdout",
     "output_type": "stream",
     "text": [
      "Logging hadn't been started.\n",
      "Activating auto-logging. Current session state plus future input saved.\n",
      "Filename       : /home/vsts/.qcodes/logs/command_history.log\n",
      "Mode           : append\n",
      "Output logging : True\n",
      "Raw input log  : False\n",
      "Timestamping   : True\n",
      "State          : active\n"
     ]
    },
    {
     "name": "stdout",
     "output_type": "stream",
     "text": [
      "Qcodes Logfile : /home/vsts/.qcodes/logs/210205-13544-qcodes.log\n"
     ]
    }
   ],
   "source": [
    "import os\n",
    "cwd = os.getcwd()\n",
    "import qcodes as qc\n",
    "qc.config[\"core\"][\"db_location\"] = os.path.join(cwd, 'testing.db')\n"
   ]
  },
  {
   "cell_type": "code",
   "execution_count": 2,
   "metadata": {
    "execution": {
     "iopub.execute_input": "2021-02-05T07:05:28.709759Z",
     "iopub.status.busy": "2021-02-05T07:05:28.708286Z",
     "iopub.status.idle": "2021-02-05T07:05:28.874764Z",
     "shell.execute_reply": "2021-02-05T07:05:28.875350Z"
    }
   },
   "outputs": [],
   "source": [
    "%matplotlib inline\n",
    "import time\n",
    "import matplotlib.pyplot as plt\n",
    "import numpy as np\n",
    "\n",
    "import qcodes as qc\n",
    "from qcodes.instrument.parameter import ManualParameter\n",
    "from qcodes.dataset.experiment_container import (Experiment,\n",
    "                                                 load_last_experiment,\n",
    "                                                 new_experiment)\n",
    "from qcodes.dataset.sqlite.database import initialise_database\n",
    "from qcodes import load_or_create_experiment\n",
    "from qcodes.dataset.measurements import Measurement"
   ]
  },
  {
   "cell_type": "code",
   "execution_count": 3,
   "metadata": {
    "execution": {
     "iopub.execute_input": "2021-02-05T07:05:28.878979Z",
     "iopub.status.busy": "2021-02-05T07:05:28.878493Z",
     "iopub.status.idle": "2021-02-05T07:05:28.979556Z",
     "shell.execute_reply": "2021-02-05T07:05:28.979150Z"
    }
   },
   "outputs": [
    {
     "name": "stdout",
     "output_type": "stream",
     "text": [
      "\r",
      "0it [00:00, ?it/s]"
     ]
    },
    {
     "name": "stdout",
     "output_type": "stream",
     "text": [
      "\r",
      "Upgrading database; v0 -> v1: : 0it [00:00, ?it/s]"
     ]
    },
    {
     "name": "stdout",
     "output_type": "stream",
     "text": [
      "\r",
      "Upgrading database; v0 -> v1: : 0it [00:00, ?it/s]"
     ]
    },
    {
     "name": "stdout",
     "output_type": "stream",
     "text": [
      "\n",
      "\r",
      "  0%|          | 0/1 [00:00<?, ?it/s]"
     ]
    },
    {
     "name": "stdout",
     "output_type": "stream",
     "text": [
      "\r",
      "Upgrading database; v1 -> v2:   0%|          | 0/1 [00:00<?, ?it/s]"
     ]
    },
    {
     "name": "stdout",
     "output_type": "stream",
     "text": [
      "\r",
      "Upgrading database; v1 -> v2: 100%|██████████| 1/1 [00:00<00:00, 1292.15it/s]"
     ]
    },
    {
     "name": "stdout",
     "output_type": "stream",
     "text": [
      "\n",
      "\r",
      "0it [00:00, ?it/s]"
     ]
    },
    {
     "name": "stdout",
     "output_type": "stream",
     "text": [
      "\r",
      "Upgrading database; v2 -> v3: : 0it [00:00, ?it/s]"
     ]
    },
    {
     "name": "stdout",
     "output_type": "stream",
     "text": [
      "\r",
      "Upgrading database; v2 -> v3: : 0it [00:00, ?it/s]"
     ]
    },
    {
     "name": "stdout",
     "output_type": "stream",
     "text": [
      "\n",
      "\r",
      "0it [00:00, ?it/s]"
     ]
    },
    {
     "name": "stdout",
     "output_type": "stream",
     "text": [
      "\r",
      "Upgrading database; v3 -> v4: : 0it [00:00, ?it/s]"
     ]
    },
    {
     "name": "stdout",
     "output_type": "stream",
     "text": [
      "\r",
      "Upgrading database; v3 -> v4: : 0it [00:00, ?it/s]"
     ]
    },
    {
     "name": "stdout",
     "output_type": "stream",
     "text": [
      "\n",
      "\r",
      "  0%|          | 0/1 [00:00<?, ?it/s]"
     ]
    },
    {
     "name": "stdout",
     "output_type": "stream",
     "text": [
      "\r",
      "Upgrading database; v4 -> v5:   0%|          | 0/1 [00:00<?, ?it/s]"
     ]
    },
    {
     "name": "stdout",
     "output_type": "stream",
     "text": [
      "\r",
      "Upgrading database; v4 -> v5: 100%|██████████| 1/1 [00:00<00:00, 678.58it/s]"
     ]
    },
    {
     "name": "stdout",
     "output_type": "stream",
     "text": [
      "\n",
      "\r",
      "0it [00:00, ?it/s]"
     ]
    },
    {
     "name": "stdout",
     "output_type": "stream",
     "text": [
      "\r",
      "Upgrading database; v5 -> v6: : 0it [00:00, ?it/s]"
     ]
    },
    {
     "name": "stdout",
     "output_type": "stream",
     "text": [
      "\r",
      "Upgrading database; v5 -> v6: : 0it [00:00, ?it/s]"
     ]
    },
    {
     "name": "stdout",
     "output_type": "stream",
     "text": [
      "\n",
      "\r",
      "  0%|          | 0/1 [00:00<?, ?it/s]"
     ]
    },
    {
     "name": "stdout",
     "output_type": "stream",
     "text": [
      "\r",
      "Upgrading database; v6 -> v7:   0%|          | 0/1 [00:00<?, ?it/s]"
     ]
    },
    {
     "name": "stdout",
     "output_type": "stream",
     "text": [
      "\r",
      "Upgrading database; v6 -> v7: 100%|██████████| 1/1 [00:00<00:00, 613.11it/s]"
     ]
    },
    {
     "name": "stdout",
     "output_type": "stream",
     "text": [
      "\n",
      "\r",
      "  0%|          | 0/1 [00:00<?, ?it/s]"
     ]
    },
    {
     "name": "stdout",
     "output_type": "stream",
     "text": [
      "\r",
      "Upgrading database; v7 -> v8:   0%|          | 0/1 [00:00<?, ?it/s]"
     ]
    },
    {
     "name": "stdout",
     "output_type": "stream",
     "text": [
      "\r",
      "Upgrading database; v7 -> v8: 100%|██████████| 1/1 [00:00<00:00, 662.92it/s]"
     ]
    },
    {
     "name": "stdout",
     "output_type": "stream",
     "text": [
      "\n",
      "\r",
      "  0%|          | 0/1 [00:00<?, ?it/s]"
     ]
    },
    {
     "name": "stdout",
     "output_type": "stream",
     "text": [
      "\r",
      "Upgrading database; v8 -> v9:   0%|          | 0/1 [00:00<?, ?it/s]"
     ]
    },
    {
     "name": "stdout",
     "output_type": "stream",
     "text": [
      "\r",
      "Upgrading database; v8 -> v9: 100%|██████████| 1/1 [00:00<00:00, 634.16it/s]"
     ]
    },
    {
     "name": "stdout",
     "output_type": "stream",
     "text": [
      "\n"
     ]
    }
   ],
   "source": [
    "initialise_database()\n",
    "exp = load_or_create_experiment(experiment_name='tutorial_exp', sample_name=\"no sample\")"
   ]
  },
  {
   "cell_type": "markdown",
   "metadata": {},
   "source": [
    "Here, we define a simple function to benchmark the time it takes to insert n points with either numeric or array data type.\n",
    "We will compare both the time used to call ``add_result`` and the time used for the full measurement."
   ]
  },
  {
   "cell_type": "code",
   "execution_count": 4,
   "metadata": {
    "execution": {
     "iopub.execute_input": "2021-02-05T07:05:28.987777Z",
     "iopub.status.busy": "2021-02-05T07:05:28.986762Z",
     "iopub.status.idle": "2021-02-05T07:05:28.988322Z",
     "shell.execute_reply": "2021-02-05T07:05:28.988736Z"
    }
   },
   "outputs": [],
   "source": [
    "def insert_data(paramtype, npoints, nreps=1):\n",
    "\n",
    "    meas = Measurement(exp=exp)\n",
    "\n",
    "    x1 = ManualParameter('x1')\n",
    "    x2 = ManualParameter('x2')\n",
    "    x3 = ManualParameter('x3')\n",
    "    y1 = ManualParameter('y1')\n",
    "    y2 = ManualParameter('y2')\n",
    "\n",
    "    meas.register_parameter(x1, paramtype=paramtype)\n",
    "    meas.register_parameter(x2, paramtype=paramtype)\n",
    "    meas.register_parameter(x3, paramtype=paramtype)\n",
    "    meas.register_parameter(y1, setpoints=[x1, x2, x3],\n",
    "                            paramtype=paramtype)\n",
    "    meas.register_parameter(y2, setpoints=[x1, x2, x3],\n",
    "                            paramtype=paramtype)\n",
    "    start = time.perf_counter()\n",
    "    with meas.run() as datasaver:\n",
    "        start_adding = time.perf_counter()\n",
    "        for i in range(nreps):\n",
    "            datasaver.add_result((x1, np.random.rand(npoints)),\n",
    "                                 (x2, np.random.rand(npoints)),\n",
    "                                 (x3, np.random.rand(npoints)),\n",
    "                                 (y1, np.random.rand(npoints)),\n",
    "                                 (y2, np.random.rand(npoints)))\n",
    "        stop_adding = time.perf_counter()\n",
    "        run_id = datasaver.run_id\n",
    "    stop = time.perf_counter()\n",
    "    tot_time = stop - start\n",
    "    add_time = stop_adding - start_adding\n",
    "    return tot_time, add_time, run_id"
   ]
  },
  {
   "cell_type": "markdown",
   "metadata": {},
   "source": [
    "## Comparison between numeric/array data and binary blob"
   ]
  },
  {
   "cell_type": "markdown",
   "metadata": {},
   "source": [
    "### Case1: Short experiment time"
   ]
  },
  {
   "cell_type": "code",
   "execution_count": 5,
   "metadata": {
    "execution": {
     "iopub.execute_input": "2021-02-05T07:05:28.993425Z",
     "iopub.status.busy": "2021-02-05T07:05:28.992187Z",
     "iopub.status.idle": "2021-02-05T07:05:29.689496Z",
     "shell.execute_reply": "2021-02-05T07:05:29.688991Z"
    }
   },
   "outputs": [
    {
     "name": "stdout",
     "output_type": "stream",
     "text": [
      "Starting experimental run with id: 1. \n",
      "Starting experimental run with id: 2. \n",
      "Starting experimental run with id: 3. \n",
      "Starting experimental run with id: 4. \n",
      "Starting experimental run with id: 5. \n",
      "Starting experimental run with id: 6. \n",
      "Starting experimental run with id: 7. \n"
     ]
    },
    {
     "name": "stdout",
     "output_type": "stream",
     "text": [
      "Starting experimental run with id: 8. \n"
     ]
    },
    {
     "name": "stdout",
     "output_type": "stream",
     "text": [
      "Starting experimental run with id: 9. \n",
      "Starting experimental run with id: 10. \n",
      "Starting experimental run with id: 11. \n"
     ]
    },
    {
     "name": "stdout",
     "output_type": "stream",
     "text": [
      "Starting experimental run with id: 12. \n",
      "Starting experimental run with id: 13. \n"
     ]
    },
    {
     "name": "stdout",
     "output_type": "stream",
     "text": [
      "Starting experimental run with id: 14. \n"
     ]
    }
   ],
   "source": [
    "sizes = [1,500,1000,2000,3000,4000,5000]\n",
    "t_numeric = []\n",
    "t_numeric_add = []\n",
    "t_array = []\n",
    "t_array_add = []\n",
    "for size in sizes:\n",
    "    tn, tna, run_id_n =  insert_data('numeric', size)\n",
    "    t_numeric.append(tn)\n",
    "    t_numeric_add.append(tna)\n",
    "\n",
    "    ta, taa, run_id_a =  insert_data('array', size)\n",
    "    t_array.append(ta)\n",
    "    t_array_add.append(taa)"
   ]
  },
  {
   "cell_type": "code",
   "execution_count": 6,
   "metadata": {
    "execution": {
     "iopub.execute_input": "2021-02-05T07:05:29.705492Z",
     "iopub.status.busy": "2021-02-05T07:05:29.704970Z",
     "iopub.status.idle": "2021-02-05T07:05:29.876452Z",
     "shell.execute_reply": "2021-02-05T07:05:29.875964Z"
    }
   },
   "outputs": [
    {
     "data": {
      "image/png": "[encoded data removed]",
      "text/plain": [
       "<Figure size 432x288 with 1 Axes>"
      ]
     },
     "metadata": {
      "needs_background": "light"
     },
     "output_type": "display_data"
    }
   ],
   "source": [
    "fig, ax = plt.subplots(1,1)\n",
    "ax.plot(sizes, t_numeric, 'o-', label='Inserting row-by-row')\n",
    "ax.plot(sizes, t_numeric_add, 'o-', label='Inserting row-by-row: add_result only')\n",
    "ax.plot(sizes, t_array, 'd-', label='Inserting as binary blob')\n",
    "ax.plot(sizes, t_array_add, 'd-', label='Inserting as binary blob: add_result only')\n",
    "ax.legend()\n",
    "ax.set_xlabel('Array length')\n",
    "ax.set_ylabel('Time (s)')\n",
    "fig.tight_layout()"
   ]
  },
  {
   "cell_type": "markdown",
   "metadata": {},
   "source": [
    "As shown in the latter figure, the time to setup and and close the experiment is approximately 0.4 sec. In case of small array sizes, the difference between inserting values of data as arrays and inserting them row-by-row is relatively unimportant. At larger array sizes, i.e. above 10000 points, the cost of writing data as individual datapoints starts to become important.\n"
   ]
  },
  {
   "cell_type": "markdown",
   "metadata": {},
   "source": [
    "### Case2: Long experiment time "
   ]
  },
  {
   "cell_type": "code",
   "execution_count": 7,
   "metadata": {
    "execution": {
     "iopub.execute_input": "2021-02-05T07:05:29.883240Z",
     "iopub.status.busy": "2021-02-05T07:05:29.882734Z",
     "iopub.status.idle": "2021-02-05T07:06:20.440044Z",
     "shell.execute_reply": "2021-02-05T07:06:20.439594Z"
    }
   },
   "outputs": [
    {
     "name": "stdout",
     "output_type": "stream",
     "text": [
      "Starting experimental run with id: 15. \n",
      "Starting experimental run with id: 16. \n",
      "Starting experimental run with id: 17. \n"
     ]
    },
    {
     "name": "stdout",
     "output_type": "stream",
     "text": [
      "Starting experimental run with id: 18. \n",
      "Starting experimental run with id: 19. \n"
     ]
    },
    {
     "name": "stdout",
     "output_type": "stream",
     "text": [
      "Starting experimental run with id: 20. \n"
     ]
    },
    {
     "name": "stdout",
     "output_type": "stream",
     "text": [
      "Starting experimental run with id: 21. \n"
     ]
    },
    {
     "name": "stdout",
     "output_type": "stream",
     "text": [
      "Starting experimental run with id: 22. \n"
     ]
    },
    {
     "name": "stdout",
     "output_type": "stream",
     "text": [
      "Starting experimental run with id: 23. \n"
     ]
    },
    {
     "name": "stdout",
     "output_type": "stream",
     "text": [
      "Starting experimental run with id: 24. \n"
     ]
    },
    {
     "name": "stdout",
     "output_type": "stream",
     "text": [
      "Starting experimental run with id: 25. \n"
     ]
    },
    {
     "name": "stdout",
     "output_type": "stream",
     "text": [
      "Starting experimental run with id: 26. \n"
     ]
    },
    {
     "name": "stdout",
     "output_type": "stream",
     "text": [
      "Starting experimental run with id: 27. \n"
     ]
    },
    {
     "name": "stdout",
     "output_type": "stream",
     "text": [
      "Starting experimental run with id: 28. \n"
     ]
    }
   ],
   "source": [
    "sizes = [1,500,1000,2000,3000,4000,5000]\n",
    "nreps = 100\n",
    "t_numeric = []\n",
    "t_numeric_add = []\n",
    "t_numeric_run_ids = []\n",
    "t_array = []\n",
    "t_array_add = []\n",
    "t_array_run_ids = []\n",
    "for size in sizes:\n",
    "    tn, tna, run_id_n =  insert_data('numeric', size, nreps=nreps)\n",
    "    t_numeric.append(tn)\n",
    "    t_numeric_add.append(tna)\n",
    "    t_numeric_run_ids.append(run_id_n)\n",
    "\n",
    "    ta, taa, run_id_a =  insert_data('array', size, nreps=nreps)\n",
    "    t_array.append(ta)\n",
    "    t_array_add.append(taa)\n",
    "    t_array_run_ids.append(run_id_a)"
   ]
  },
  {
   "cell_type": "code",
   "execution_count": 8,
   "metadata": {
    "execution": {
     "iopub.execute_input": "2021-02-05T07:06:20.474262Z",
     "iopub.status.busy": "2021-02-05T07:06:20.454451Z",
     "iopub.status.idle": "2021-02-05T07:06:20.612167Z",
     "shell.execute_reply": "2021-02-05T07:06:20.612561Z"
    },
    "scrolled": true
   },
   "outputs": [
    {
     "data": {
      "image/png": "[encoded data removed]",
      "text/plain": [
       "<Figure size 432x288 with 1 Axes>"
      ]
     },
     "metadata": {
      "needs_background": "light"
     },
     "output_type": "display_data"
    }
   ],
   "source": [
    "fig, ax = plt.subplots(1,1)\n",
    "ax.plot(sizes, t_numeric, 'o-', label='Inserting row-by-row')\n",
    "ax.plot(sizes, t_numeric_add, 'o-', label='Inserting row-by-row: add_result only')\n",
    "ax.plot(sizes, t_array, 'd-', label='Inserting as binary blob')\n",
    "ax.plot(sizes, t_array_add, 'd-', label='Inserting as binary blob: add_result only')\n",
    "ax.legend()\n",
    "ax.set_xlabel('Array length')\n",
    "ax.set_ylabel('Time (s)')\n",
    "fig.tight_layout()"
   ]
  },
  {
   "cell_type": "markdown",
   "metadata": {},
   "source": [
    "However, as we increase the length of the experiment, as seen here by repeating the insertion 100 times, we see a big difference between inserting values of the data row-by-row and inserting it as a binary blob."
   ]
  },
  {
   "cell_type": "markdown",
   "metadata": {},
   "source": [
    "## Loading the data "
   ]
  },
  {
   "cell_type": "code",
   "execution_count": 9,
   "metadata": {
    "execution": {
     "iopub.execute_input": "2021-02-05T07:06:20.616543Z",
     "iopub.status.busy": "2021-02-05T07:06:20.615597Z",
     "iopub.status.idle": "2021-02-05T07:06:20.618162Z",
     "shell.execute_reply": "2021-02-05T07:06:20.618519Z"
    }
   },
   "outputs": [],
   "source": [
    "from qcodes.dataset.data_set import load_by_id\n",
    "from qcodes.dataset.data_export import get_data_by_id"
   ]
  },
  {
   "cell_type": "markdown",
   "metadata": {},
   "source": [
    "As usual you can load the data by using the ``load_by_id`` function but you will notice that the different storage methods\n",
    "are reflected in shape of the data as it is retrieved. "
   ]
  },
  {
   "cell_type": "code",
   "execution_count": 10,
   "metadata": {
    "execution": {
     "iopub.execute_input": "2021-02-05T07:06:20.622709Z",
     "iopub.status.busy": "2021-02-05T07:06:20.621521Z",
     "iopub.status.idle": "2021-02-05T07:06:20.623230Z",
     "shell.execute_reply": "2021-02-05T07:06:20.623606Z"
    }
   },
   "outputs": [],
   "source": [
    "run_id_n = t_numeric_run_ids[0]\n",
    "run_id_a = t_array_run_ids[0]"
   ]
  },
  {
   "cell_type": "code",
   "execution_count": 11,
   "metadata": {
    "execution": {
     "iopub.execute_input": "2021-02-05T07:06:20.626437Z",
     "iopub.status.busy": "2021-02-05T07:06:20.625963Z",
     "iopub.status.idle": "2021-02-05T07:06:20.634213Z",
     "shell.execute_reply": "2021-02-05T07:06:20.634576Z"
    },
    "scrolled": true
   },
   "outputs": [
    {
     "data": {
      "text/plain": [
       "{'x1': {'x1': array([0.31725347, 0.31725347, 0.39733458, 0.39733458, 0.4242386 ,\n",
       "         0.4242386 , 0.75062324, 0.75062324, 0.32293205, 0.32293205,\n",
       "         0.54697773, 0.54697773, 0.44481985, 0.44481985, 0.78200869,\n",
       "         0.78200869, 0.08113365, 0.08113365, 0.92344189, 0.92344189,\n",
       "         0.0704738 , 0.0704738 , 0.57506741, 0.57506741, 0.69299229,\n",
       "         0.69299229, 0.15256323, 0.15256323, 0.59430709, 0.59430709,\n",
       "         0.83893362, 0.83893362, 0.55580845, 0.55580845, 0.61495731,\n",
       "         0.61495731, 0.2212436 , 0.2212436 , 0.52498428, 0.52498428,\n",
       "         0.48534837, 0.48534837, 0.32315499, 0.32315499, 0.05279841,\n",
       "         0.05279841, 0.57894557, 0.57894557, 0.8946922 , 0.8946922 ,\n",
       "         0.53014185, 0.53014185, 0.03592243, 0.03592243, 0.46110974,\n",
       "         0.46110974, 0.26387692, 0.26387692, 0.99470229, 0.99470229,\n",
       "         0.58325674, 0.58325674, 0.11793015, 0.11793015, 0.95144695,\n",
       "         0.95144695, 0.41180261, 0.41180261, 0.96012944, 0.96012944,\n",
       "         0.40104736, 0.40104736, 0.9253254 , 0.9253254 , 0.62907075,\n",
       "         0.62907075, 0.15608503, 0.15608503, 0.38452961, 0.38452961,\n",
       "         0.6809348 , 0.6809348 , 0.31327247, 0.31327247, 0.01897197,\n",
       "         0.01897197, 0.88471372, 0.88471372, 0.48630153, 0.48630153,\n",
       "         0.47319681, 0.47319681, 0.72031785, 0.72031785, 0.21697242,\n",
       "         0.21697242, 0.3340585 , 0.3340585 , 0.37362009, 0.37362009,\n",
       "         0.31760416, 0.31760416, 0.60887587, 0.60887587, 0.95742625,\n",
       "         0.95742625, 0.36259566, 0.36259566, 0.20247888, 0.20247888,\n",
       "         0.74012307, 0.74012307, 0.29765765, 0.29765765, 0.68111533,\n",
       "         0.68111533, 0.92332393, 0.92332393, 0.817064  , 0.817064  ,\n",
       "         0.89388176, 0.89388176, 0.49238455, 0.49238455, 0.66028783,\n",
       "         0.66028783, 0.84104473, 0.84104473, 0.42253055, 0.42253055,\n",
       "         0.95083593, 0.95083593, 0.14926264, 0.14926264, 0.1056324 ,\n",
       "         0.1056324 , 0.89751845, 0.89751845, 0.89566604, 0.89566604,\n",
       "         0.96043168, 0.96043168, 0.39520536, 0.39520536, 0.47186148,\n",
       "         0.47186148, 0.72586756, 0.72586756, 0.55357877, 0.55357877,\n",
       "         0.33332104, 0.33332104, 0.59989707, 0.59989707, 0.25944969,\n",
       "         0.25944969, 0.30748573, 0.30748573, 0.47228269, 0.47228269,\n",
       "         0.00242627, 0.00242627, 0.49967941, 0.49967941, 0.97363307,\n",
       "         0.97363307, 0.9257475 , 0.9257475 , 0.78374171, 0.78374171,\n",
       "         0.14886303, 0.14886303, 0.8138512 , 0.8138512 , 0.00803754,\n",
       "         0.00803754, 0.03489437, 0.03489437, 0.46921127, 0.46921127,\n",
       "         0.95639404, 0.95639404, 0.15813231, 0.15813231, 0.42400341,\n",
       "         0.42400341, 0.92616507, 0.92616507, 0.5635415 , 0.5635415 ,\n",
       "         0.61624393, 0.61624393, 0.6857184 , 0.6857184 , 0.27745001,\n",
       "         0.27745001, 0.89560788, 0.89560788, 0.39189502, 0.39189502])}}"
      ]
     },
     "execution_count": 1,
     "metadata": {},
     "output_type": "execute_result"
    }
   ],
   "source": [
    "ds = load_by_id(run_id_n)\n",
    "ds.get_parameter_data('x1')"
   ]
  },
  {
   "cell_type": "markdown",
   "metadata": {},
   "source": [
    "And a dataset stored as binary arrays"
   ]
  },
  {
   "cell_type": "code",
   "execution_count": 12,
   "metadata": {
    "execution": {
     "iopub.execute_input": "2021-02-05T07:06:20.637568Z",
     "iopub.status.busy": "2021-02-05T07:06:20.637109Z",
     "iopub.status.idle": "2021-02-05T07:06:20.684355Z",
     "shell.execute_reply": "2021-02-05T07:06:20.684861Z"
    },
    "scrolled": true
   },
   "outputs": [
    {
     "data": {
      "text/plain": [
       "{'x1': {'x1': array([[8.39180247e-01],\n",
       "         [8.39180247e-01],\n",
       "         [4.26426209e-01],\n",
       "         [4.26426209e-01],\n",
       "         [5.61783233e-02],\n",
       "         [5.61783233e-02],\n",
       "         [5.73788518e-01],\n",
       "         [5.73788518e-01],\n",
       "         [3.22290479e-01],\n",
       "         [3.22290479e-01],\n",
       "         [5.87007997e-01],\n",
       "         [5.87007997e-01],\n",
       "         [7.85045244e-02],\n",
       "         [7.85045244e-02],\n",
       "         [4.95311602e-01],\n",
       "         [4.95311602e-01],\n",
       "         [9.64838467e-01],\n",
       "         [9.64838467e-01],\n",
       "         [6.67744245e-01],\n",
       "         [6.67744245e-01],\n",
       "         [2.00150077e-01],\n",
       "         [2.00150077e-01],\n",
       "         [9.88174869e-01],\n",
       "         [9.88174869e-01],\n",
       "         [4.90004885e-02],\n",
       "         [4.90004885e-02],\n",
       "         [4.39376644e-01],\n",
       "         [4.39376644e-01],\n",
       "         [5.64673081e-01],\n",
       "         [5.64673081e-01],\n",
       "         [2.48456010e-01],\n",
       "         [2.48456010e-01],\n",
       "         [1.76075472e-01],\n",
       "         [1.76075472e-01],\n",
       "         [1.90831827e-02],\n",
       "         [1.90831827e-02],\n",
       "         [8.16530721e-01],\n",
       "         [8.16530721e-01],\n",
       "         [7.79862974e-01],\n",
       "         [7.79862974e-01],\n",
       "         [3.80451332e-02],\n",
       "         [3.80451332e-02],\n",
       "         [6.78860382e-01],\n",
       "         [6.78860382e-01],\n",
       "         [8.99737620e-01],\n",
       "         [8.99737620e-01],\n",
       "         [2.11959695e-04],\n",
       "         [2.11959695e-04],\n",
       "         [5.30481052e-01],\n",
       "         [5.30481052e-01],\n",
       "         [9.91693747e-02],\n",
       "         [9.91693747e-02],\n",
       "         [1.74778909e-01],\n",
       "         [1.74778909e-01],\n",
       "         [8.11240554e-01],\n",
       "         [8.11240554e-01],\n",
       "         [1.53619262e-02],\n",
       "         [1.53619262e-02],\n",
       "         [3.06244912e-01],\n",
       "         [3.06244912e-01],\n",
       "         [2.17071435e-03],\n",
       "         [2.17071435e-03],\n",
       "         [2.28529603e-01],\n",
       "         [2.28529603e-01],\n",
       "         [4.37078671e-03],\n",
       "         [4.37078671e-03],\n",
       "         [9.71333553e-02],\n",
       "         [9.71333553e-02],\n",
       "         [4.60671268e-01],\n",
       "         [4.60671268e-01],\n",
       "         [5.17544898e-01],\n",
       "         [5.17544898e-01],\n",
       "         [8.94949149e-01],\n",
       "         [8.94949149e-01],\n",
       "         [9.77420688e-02],\n",
       "         [9.77420688e-02],\n",
       "         [9.51114301e-01],\n",
       "         [9.51114301e-01],\n",
       "         [7.26119913e-01],\n",
       "         [7.26119913e-01],\n",
       "         [2.66176656e-01],\n",
       "         [2.66176656e-01],\n",
       "         [1.04887616e-01],\n",
       "         [1.04887616e-01],\n",
       "         [9.21418609e-01],\n",
       "         [9.21418609e-01],\n",
       "         [9.74239287e-01],\n",
       "         [9.74239287e-01],\n",
       "         [7.70352548e-01],\n",
       "         [7.70352548e-01],\n",
       "         [7.74623934e-02],\n",
       "         [7.74623934e-02],\n",
       "         [3.56859474e-02],\n",
       "         [3.56859474e-02],\n",
       "         [9.72878250e-01],\n",
       "         [9.72878250e-01],\n",
       "         [7.54738817e-01],\n",
       "         [7.54738817e-01],\n",
       "         [4.06287875e-01],\n",
       "         [4.06287875e-01],\n",
       "         [3.14739344e-01],\n",
       "         [3.14739344e-01],\n",
       "         [5.71708199e-01],\n",
       "         [5.71708199e-01],\n",
       "         [6.85425258e-01],\n",
       "         [6.85425258e-01],\n",
       "         [9.21693654e-01],\n",
       "         [9.21693654e-01],\n",
       "         [3.85044772e-01],\n",
       "         [3.85044772e-01],\n",
       "         [6.41445811e-01],\n",
       "         [6.41445811e-01],\n",
       "         [7.00847232e-01],\n",
       "         [7.00847232e-01],\n",
       "         [6.07592430e-01],\n",
       "         [6.07592430e-01],\n",
       "         [9.45071414e-01],\n",
       "         [9.45071414e-01],\n",
       "         [7.88486219e-01],\n",
       "         [7.88486219e-01],\n",
       "         [6.42025644e-01],\n",
       "         [6.42025644e-01],\n",
       "         [7.89431839e-01],\n",
       "         [7.89431839e-01],\n",
       "         [2.04554162e-01],\n",
       "         [2.04554162e-01],\n",
       "         [7.69145774e-01],\n",
       "         [7.69145774e-01],\n",
       "         [2.18581963e-01],\n",
       "         [2.18581963e-01],\n",
       "         [8.78685277e-01],\n",
       "         [8.78685277e-01],\n",
       "         [7.51766064e-01],\n",
       "         [7.51766064e-01],\n",
       "         [6.56321913e-01],\n",
       "         [6.56321913e-01],\n",
       "         [1.14389583e-01],\n",
       "         [1.14389583e-01],\n",
       "         [5.26169192e-01],\n",
       "         [5.26169192e-01],\n",
       "         [4.71534334e-01],\n",
       "         [4.71534334e-01],\n",
       "         [8.12738102e-01],\n",
       "         [8.12738102e-01],\n",
       "         [6.92007372e-01],\n",
       "         [6.92007372e-01],\n",
       "         [2.23686939e-01],\n",
       "         [2.23686939e-01],\n",
       "         [7.76556270e-01],\n",
       "         [7.76556270e-01],\n",
       "         [1.39725354e-01],\n",
       "         [1.39725354e-01],\n",
       "         [3.02481412e-02],\n",
       "         [3.02481412e-02],\n",
       "         [7.23475124e-01],\n",
       "         [7.23475124e-01],\n",
       "         [4.84833217e-01],\n",
       "         [4.84833217e-01],\n",
       "         [9.24589161e-01],\n",
       "         [9.24589161e-01],\n",
       "         [7.23248895e-01],\n",
       "         [7.23248895e-01],\n",
       "         [6.86079992e-01],\n",
       "         [6.86079992e-01],\n",
       "         [4.49971089e-01],\n",
       "         [4.49971089e-01],\n",
       "         [8.55526933e-01],\n",
       "         [8.55526933e-01],\n",
       "         [6.46998980e-01],\n",
       "         [6.46998980e-01],\n",
       "         [6.54776635e-01],\n",
       "         [6.54776635e-01],\n",
       "         [3.22271923e-01],\n",
       "         [3.22271923e-01],\n",
       "         [6.79623779e-01],\n",
       "         [6.79623779e-01],\n",
       "         [7.96705328e-01],\n",
       "         [7.96705328e-01],\n",
       "         [9.13662933e-01],\n",
       "         [9.13662933e-01],\n",
       "         [1.70465370e-01],\n",
       "         [1.70465370e-01],\n",
       "         [7.04244553e-01],\n",
       "         [7.04244553e-01],\n",
       "         [2.09546854e-01],\n",
       "         [2.09546854e-01],\n",
       "         [1.98501824e-01],\n",
       "         [1.98501824e-01],\n",
       "         [3.46183536e-01],\n",
       "         [3.46183536e-01],\n",
       "         [2.09679279e-01],\n",
       "         [2.09679279e-01],\n",
       "         [1.01826469e-01],\n",
       "         [1.01826469e-01],\n",
       "         [9.18978792e-01],\n",
       "         [9.18978792e-01],\n",
       "         [3.63435421e-01],\n",
       "         [3.63435421e-01],\n",
       "         [2.24061710e-01],\n",
       "         [2.24061710e-01]])}}"
      ]
     },
     "execution_count": 1,
     "metadata": {},
     "output_type": "execute_result"
    }
   ],
   "source": [
    "ds = load_by_id(run_id_a)\n",
    "ds.get_parameter_data('x1')"
   ]
  },
  {
   "cell_type": "code",
   "execution_count": null,
   "metadata": {},
   "outputs": [],
   "source": []
  }
 ],
 "metadata": {
  "kernelspec": {
   "display_name": "Python 3",
   "language": "python",
   "name": "python3"
  },
  "language_info": {
   "codemirror_mode": {
    "name": "ipython",
    "version": 3
   },
   "file_extension": ".py",
   "mimetype": "text/x-python",
   "name": "python",
   "nbconvert_exporter": "python",
   "pygments_lexer": "ipython3",
   "version": "3.7.9"
  },
  "nbsphinx": {
   "timeout": 600
  },
  "toc": {
   "base_numbering": 1,
   "nav_menu": {},
   "number_sections": true,
   "sideBar": true,
   "skip_h1_title": false,
   "title_cell": "Table of Contents",
   "title_sidebar": "Contents",
   "toc_cell": false,
   "toc_position": {},
   "toc_section_display": true,
   "toc_window_display": false
  },
  "varInspector": {
   "cols": {
    "lenName": 16,
    "lenType": 16,
    "lenVar": 40
   },
   "kernels_config": {
    "python": {
     "delete_cmd_postfix": "",
     "delete_cmd_prefix": "del ",
     "library": "var_list.py",
     "varRefreshCmd": "print(var_dic_list())"
    },
    "r": {
     "delete_cmd_postfix": ") ",
     "delete_cmd_prefix": "rm(",
     "library": "var_list.r",
     "varRefreshCmd": "cat(var_dic_list()) "
    }
   },
   "types_to_exclude": [
    "module",
    "function",
    "builtin_function_or_method",
    "instance",
    "_Feature"
   ],
   "window_display": false
  }
 },
 "nbformat": 4,
 "nbformat_minor": 2
}
