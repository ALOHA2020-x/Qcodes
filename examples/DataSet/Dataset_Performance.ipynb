{
 "cells": [
  {
   "cell_type": "markdown",
   "metadata": {},
   "source": [
    "# DataSet Performance\n",
    "\n",
    "This notebook shows the trade-off between inserting data into a database row-by-row and as binary blobs. Inserting the data row-by-row means that we have direct access to all the data and may perform queries directly on the values of the data. On the other hand, as we shall see, this is much slower than inserting the data directly as binary blobs."
   ]
  },
  {
   "cell_type": "markdown",
   "metadata": {},
   "source": [
    "First, we choose a new location for the database to ensure that we don't add a bunch of benchmarking data to the default one."
   ]
  },
  {
   "cell_type": "code",
   "execution_count": 1,
   "metadata": {},
   "outputs": [
    {
     "name": "stdout",
     "output_type": "stream",
     "text": [
      "Logging hadn't been started.\n",
      "Activating auto-logging. Current session state plus future input saved.\n",
      "Filename       : /home/vsts/.qcodes/logs/command_history.log\n",
      "Mode           : append\n",
      "Output logging : True\n",
      "Raw input log  : False\n",
      "Timestamping   : True\n",
      "State          : active\n"
     ]
    },
    {
     "name": "stdout",
     "output_type": "stream",
     "text": [
      "Qcodes Logfile : /home/vsts/.qcodes/logs/200720-18733-qcodes.log\n"
     ]
    }
   ],
   "source": [
    "import os\n",
    "cwd = os.getcwd()\n",
    "import qcodes as qc\n",
    "qc.config[\"core\"][\"db_location\"] = os.path.join(cwd, 'testing.db')\n"
   ]
  },
  {
   "cell_type": "code",
   "execution_count": 2,
   "metadata": {},
   "outputs": [],
   "source": [
    "%matplotlib inline\n",
    "import time\n",
    "import matplotlib.pyplot as plt\n",
    "import numpy as np\n",
    "\n",
    "import qcodes as qc\n",
    "from qcodes.instrument.parameter import ManualParameter\n",
    "from qcodes.dataset.experiment_container import (Experiment,\n",
    "                                                 load_last_experiment,\n",
    "                                                 new_experiment)\n",
    "from qcodes.dataset.sqlite.database import initialise_database\n",
    "from qcodes import load_or_create_experiment\n",
    "from qcodes.dataset.measurements import Measurement"
   ]
  },
  {
   "cell_type": "code",
   "execution_count": 3,
   "metadata": {},
   "outputs": [
    {
     "name": "stdout",
     "output_type": "stream",
     "text": [
      "\r",
      "0it [00:00, ?it/s]"
     ]
    },
    {
     "name": "stdout",
     "output_type": "stream",
     "text": [
      "\r",
      "Upgrading database; v0 -> v1: : 0it [00:00, ?it/s]"
     ]
    },
    {
     "name": "stdout",
     "output_type": "stream",
     "text": [
      "\r",
      "Upgrading database; v0 -> v1: : 0it [00:00, ?it/s]"
     ]
    },
    {
     "name": "stdout",
     "output_type": "stream",
     "text": [
      "\n",
      "\r",
      "  0%|          | 0/1 [00:00<?, ?it/s]"
     ]
    },
    {
     "name": "stdout",
     "output_type": "stream",
     "text": [
      "\r",
      "Upgrading database; v1 -> v2:   0%|          | 0/1 [00:00<?, ?it/s]"
     ]
    },
    {
     "name": "stdout",
     "output_type": "stream",
     "text": [
      "\r",
      "Upgrading database; v1 -> v2: 100%|██████████| 1/1 [00:00<00:00, 605.24it/s]"
     ]
    },
    {
     "name": "stdout",
     "output_type": "stream",
     "text": [
      "\n",
      "\r",
      "0it [00:00, ?it/s]"
     ]
    },
    {
     "name": "stdout",
     "output_type": "stream",
     "text": [
      "\r",
      "Upgrading database; v2 -> v3: : 0it [00:00, ?it/s]"
     ]
    },
    {
     "name": "stdout",
     "output_type": "stream",
     "text": [
      "\r",
      "Upgrading database; v2 -> v3: : 0it [00:00, ?it/s]"
     ]
    },
    {
     "name": "stdout",
     "output_type": "stream",
     "text": [
      "\n",
      "\r",
      "0it [00:00, ?it/s]"
     ]
    },
    {
     "name": "stdout",
     "output_type": "stream",
     "text": [
      "\r",
      "Upgrading database; v3 -> v4: : 0it [00:00, ?it/s]"
     ]
    },
    {
     "name": "stdout",
     "output_type": "stream",
     "text": [
      "\r",
      "Upgrading database; v3 -> v4: : 0it [00:00, ?it/s]"
     ]
    },
    {
     "name": "stdout",
     "output_type": "stream",
     "text": [
      "\n",
      "\r",
      "  0%|          | 0/1 [00:00<?, ?it/s]"
     ]
    },
    {
     "name": "stdout",
     "output_type": "stream",
     "text": [
      "\r",
      "Upgrading database; v4 -> v5:   0%|          | 0/1 [00:00<?, ?it/s]"
     ]
    },
    {
     "name": "stdout",
     "output_type": "stream",
     "text": [
      "\r",
      "Upgrading database; v4 -> v5: 100%|██████████| 1/1 [00:00<00:00, 855.98it/s]"
     ]
    },
    {
     "name": "stdout",
     "output_type": "stream",
     "text": [
      "\n",
      "\r",
      "0it [00:00, ?it/s]"
     ]
    },
    {
     "name": "stdout",
     "output_type": "stream",
     "text": [
      "\r",
      "Upgrading database; v5 -> v6: : 0it [00:00, ?it/s]"
     ]
    },
    {
     "name": "stdout",
     "output_type": "stream",
     "text": [
      "\r",
      "Upgrading database; v5 -> v6: : 0it [00:00, ?it/s]"
     ]
    },
    {
     "name": "stdout",
     "output_type": "stream",
     "text": [
      "\n",
      "\r",
      "  0%|          | 0/1 [00:00<?, ?it/s]"
     ]
    },
    {
     "name": "stdout",
     "output_type": "stream",
     "text": [
      "\r",
      "Upgrading database; v6 -> v7:   0%|          | 0/1 [00:00<?, ?it/s]"
     ]
    },
    {
     "name": "stdout",
     "output_type": "stream",
     "text": [
      "\r",
      "Upgrading database; v6 -> v7: 100%|██████████| 1/1 [00:00<00:00, 409.60it/s]"
     ]
    },
    {
     "name": "stdout",
     "output_type": "stream",
     "text": [
      "\n",
      "\r",
      "  0%|          | 0/1 [00:00<?, ?it/s]"
     ]
    },
    {
     "name": "stdout",
     "output_type": "stream",
     "text": [
      "\r",
      "Upgrading database; v7 -> v8:   0%|          | 0/1 [00:00<?, ?it/s]"
     ]
    },
    {
     "name": "stdout",
     "output_type": "stream",
     "text": [
      "\r",
      "Upgrading database; v7 -> v8: 100%|██████████| 1/1 [00:00<00:00, 717.22it/s]"
     ]
    },
    {
     "name": "stdout",
     "output_type": "stream",
     "text": [
      "\n",
      "\r",
      "  0%|          | 0/1 [00:00<?, ?it/s]"
     ]
    },
    {
     "name": "stdout",
     "output_type": "stream",
     "text": [
      "\r",
      "Upgrading database; v8 -> v9:   0%|          | 0/1 [00:00<?, ?it/s]"
     ]
    },
    {
     "name": "stdout",
     "output_type": "stream",
     "text": [
      "\r",
      "Upgrading database; v8 -> v9: 100%|██████████| 1/1 [00:00<00:00, 1201.12it/s]"
     ]
    },
    {
     "name": "stdout",
     "output_type": "stream",
     "text": [
      "\n"
     ]
    }
   ],
   "source": [
    "initialise_database()\n",
    "exp = load_or_create_experiment(experiment_name='tutorial_exp', sample_name=\"no sample\")"
   ]
  },
  {
   "cell_type": "markdown",
   "metadata": {},
   "source": [
    "Here, we define a simple function to benchmark the time it takes to insert n points with either numeric or array data type.\n",
    "We will compare both the time used to call ``add_result`` and the time used for the full measurement."
   ]
  },
  {
   "cell_type": "code",
   "execution_count": 4,
   "metadata": {},
   "outputs": [],
   "source": [
    "def insert_data(paramtype, npoints, nreps=1):\n",
    "\n",
    "    meas = Measurement(exp=exp)\n",
    "\n",
    "    x1 = ManualParameter('x1')\n",
    "    x2 = ManualParameter('x2')\n",
    "    x3 = ManualParameter('x3')\n",
    "    y1 = ManualParameter('y1')\n",
    "    y2 = ManualParameter('y2')\n",
    "\n",
    "    meas.register_parameter(x1, paramtype=paramtype)\n",
    "    meas.register_parameter(x2, paramtype=paramtype)\n",
    "    meas.register_parameter(x3, paramtype=paramtype)\n",
    "    meas.register_parameter(y1, setpoints=[x1, x2, x3],\n",
    "                            paramtype=paramtype)\n",
    "    meas.register_parameter(y2, setpoints=[x1, x2, x3],\n",
    "                            paramtype=paramtype)\n",
    "    start = time.perf_counter()\n",
    "    with meas.run() as datasaver:\n",
    "        start_adding = time.perf_counter()\n",
    "        for i in range(nreps):\n",
    "            datasaver.add_result((x1, np.random.rand(npoints)),\n",
    "                                 (x2, np.random.rand(npoints)),\n",
    "                                 (x3, np.random.rand(npoints)),\n",
    "                                 (y1, np.random.rand(npoints)),\n",
    "                                 (y2, np.random.rand(npoints)))\n",
    "        stop_adding = time.perf_counter()\n",
    "        run_id = datasaver.run_id\n",
    "    stop = time.perf_counter()\n",
    "    tot_time = stop - start\n",
    "    add_time = stop_adding - start_adding\n",
    "    return tot_time, add_time, run_id"
   ]
  },
  {
   "cell_type": "markdown",
   "metadata": {},
   "source": [
    "## Comparison between numeric/array data and binary blob"
   ]
  },
  {
   "cell_type": "markdown",
   "metadata": {},
   "source": [
    "### Case1: Short experiment time"
   ]
  },
  {
   "cell_type": "code",
   "execution_count": 5,
   "metadata": {},
   "outputs": [
    {
     "name": "stdout",
     "output_type": "stream",
     "text": [
      "Starting experimental run with id: 1. \n",
      "Starting experimental run with id: 2. \n",
      "Starting experimental run with id: 3. \n"
     ]
    },
    {
     "name": "stdout",
     "output_type": "stream",
     "text": [
      "Starting experimental run with id: 4. \n"
     ]
    },
    {
     "name": "stdout",
     "output_type": "stream",
     "text": [
      "Starting experimental run with id: 5. \n"
     ]
    },
    {
     "name": "stdout",
     "output_type": "stream",
     "text": [
      "Starting experimental run with id: 6. \n"
     ]
    },
    {
     "name": "stdout",
     "output_type": "stream",
     "text": [
      "Starting experimental run with id: 7. \n",
      "Starting experimental run with id: 8. \n",
      "Starting experimental run with id: 9. \n"
     ]
    },
    {
     "name": "stdout",
     "output_type": "stream",
     "text": [
      "Starting experimental run with id: 10. \n",
      "Starting experimental run with id: 11. \n",
      "Starting experimental run with id: 12. \n"
     ]
    },
    {
     "name": "stdout",
     "output_type": "stream",
     "text": [
      "Starting experimental run with id: 13. \n"
     ]
    },
    {
     "name": "stdout",
     "output_type": "stream",
     "text": [
      "Starting experimental run with id: 14. \n"
     ]
    }
   ],
   "source": [
    "sizes = [1,500,1000,2000,3000,4000,5000]\n",
    "t_numeric = []\n",
    "t_numeric_add = []\n",
    "t_array = []\n",
    "t_array_add = []\n",
    "for size in sizes:\n",
    "    tn, tna, run_id_n =  insert_data('numeric', size)\n",
    "    t_numeric.append(tn)\n",
    "    t_numeric_add.append(tna)\n",
    "\n",
    "    ta, taa, run_id_a =  insert_data('array', size)\n",
    "    t_array.append(ta)\n",
    "    t_array_add.append(taa)"
   ]
  },
  {
   "cell_type": "code",
   "execution_count": 6,
   "metadata": {},
   "outputs": [
    {
     "data": {
      "image/png": "[encoded data removed]",
      "text/plain": [
       "<Figure size 432x288 with 1 Axes>"
      ]
     },
     "metadata": {
      "needs_background": "light"
     },
     "output_type": "display_data"
    }
   ],
   "source": [
    "fig, ax = plt.subplots(1,1)\n",
    "ax.plot(sizes, t_numeric, 'o-', label='Inserting row-by-row')\n",
    "ax.plot(sizes, t_numeric_add, 'o-', label='Inserting row-by-row: add_result only')\n",
    "ax.plot(sizes, t_array, 'd-', label='Inserting as binary blob')\n",
    "ax.plot(sizes, t_array_add, 'd-', label='Inserting as binary blob: add_result only')\n",
    "ax.legend()\n",
    "ax.set_xlabel('Array length')\n",
    "ax.set_ylabel('Time (s)')\n",
    "fig.tight_layout()"
   ]
  },
  {
   "cell_type": "markdown",
   "metadata": {},
   "source": [
    "As shown in the latter figure, the time to setup and and close the experiment is approximately 0.4 sec. In case of small array sizes, the difference between inserting values of data as arrays and inserting them row-by-row is relatively unimportant. At larger array sizes, i.e. above 10000 points, the cost of writing data as individual datapoints starts to become important.\n"
   ]
  },
  {
   "cell_type": "markdown",
   "metadata": {},
   "source": [
    "### Case2: Long experiment time "
   ]
  },
  {
   "cell_type": "code",
   "execution_count": 7,
   "metadata": {},
   "outputs": [
    {
     "name": "stdout",
     "output_type": "stream",
     "text": [
      "Starting experimental run with id: 15. \n",
      "Starting experimental run with id: 16. \n",
      "Starting experimental run with id: 17. \n"
     ]
    },
    {
     "name": "stdout",
     "output_type": "stream",
     "text": [
      "Starting experimental run with id: 18. \n",
      "Starting experimental run with id: 19. \n"
     ]
    },
    {
     "name": "stdout",
     "output_type": "stream",
     "text": [
      "Starting experimental run with id: 20. \n"
     ]
    },
    {
     "name": "stdout",
     "output_type": "stream",
     "text": [
      "Starting experimental run with id: 21. \n"
     ]
    },
    {
     "name": "stdout",
     "output_type": "stream",
     "text": [
      "Starting experimental run with id: 22. \n"
     ]
    },
    {
     "name": "stdout",
     "output_type": "stream",
     "text": [
      "Starting experimental run with id: 23. \n"
     ]
    },
    {
     "name": "stdout",
     "output_type": "stream",
     "text": [
      "Starting experimental run with id: 24. \n"
     ]
    },
    {
     "name": "stdout",
     "output_type": "stream",
     "text": [
      "Starting experimental run with id: 25. \n"
     ]
    },
    {
     "name": "stdout",
     "output_type": "stream",
     "text": [
      "Starting experimental run with id: 26. \n"
     ]
    },
    {
     "name": "stdout",
     "output_type": "stream",
     "text": [
      "Starting experimental run with id: 27. \n"
     ]
    },
    {
     "name": "stdout",
     "output_type": "stream",
     "text": [
      "Starting experimental run with id: 28. \n"
     ]
    }
   ],
   "source": [
    "sizes = [1,500,1000,2000,3000,4000,5000]\n",
    "nreps = 100\n",
    "t_numeric = []\n",
    "t_numeric_add = []\n",
    "t_numeric_run_ids = []\n",
    "t_array = []\n",
    "t_array_add = []\n",
    "t_array_run_ids = []\n",
    "for size in sizes:\n",
    "    tn, tna, run_id_n =  insert_data('numeric', size, nreps=nreps)\n",
    "    t_numeric.append(tn)\n",
    "    t_numeric_add.append(tna)\n",
    "    t_numeric_run_ids.append(run_id_n)\n",
    "\n",
    "    ta, taa, run_id_a =  insert_data('array', size, nreps=nreps)\n",
    "    t_array.append(ta)\n",
    "    t_array_add.append(taa)\n",
    "    t_array_run_ids.append(run_id_a)"
   ]
  },
  {
   "cell_type": "code",
   "execution_count": 8,
   "metadata": {
    "scrolled": true
   },
   "outputs": [
    {
     "data": {
      "image/png": "[encoded data removed]",
      "text/plain": [
       "<Figure size 432x288 with 1 Axes>"
      ]
     },
     "metadata": {
      "needs_background": "light"
     },
     "output_type": "display_data"
    }
   ],
   "source": [
    "fig, ax = plt.subplots(1,1)\n",
    "ax.plot(sizes, t_numeric, 'o-', label='Inserting row-by-row')\n",
    "ax.plot(sizes, t_numeric_add, 'o-', label='Inserting row-by-row: add_result only')\n",
    "ax.plot(sizes, t_array, 'd-', label='Inserting as binary blob')\n",
    "ax.plot(sizes, t_array_add, 'd-', label='Inserting as binary blob: add_result only')\n",
    "ax.legend()\n",
    "ax.set_xlabel('Array length')\n",
    "ax.set_ylabel('Time (s)')\n",
    "fig.tight_layout()"
   ]
  },
  {
   "cell_type": "markdown",
   "metadata": {},
   "source": [
    "However, as we increase the length of the experiment, as seen here by repeating the insertion 100 times, we see a big difference between inserting values of the data row-by-row and inserting it as a binary blob."
   ]
  },
  {
   "cell_type": "markdown",
   "metadata": {},
   "source": [
    "## Loading the data "
   ]
  },
  {
   "cell_type": "code",
   "execution_count": 9,
   "metadata": {},
   "outputs": [],
   "source": [
    "from qcodes.dataset.data_set import load_by_id\n",
    "from qcodes.dataset.data_export import get_data_by_id"
   ]
  },
  {
   "cell_type": "markdown",
   "metadata": {},
   "source": [
    "As usual you can load the data by using the ``load_by_id`` function but you will notice that the different storage methods\n",
    "are reflected in shape of the data as it is retrieved. "
   ]
  },
  {
   "cell_type": "code",
   "execution_count": 10,
   "metadata": {},
   "outputs": [],
   "source": [
    "run_id_n = t_numeric_run_ids[0]\n",
    "run_id_a = t_array_run_ids[0]"
   ]
  },
  {
   "cell_type": "code",
   "execution_count": 11,
   "metadata": {
    "scrolled": true
   },
   "outputs": [
    {
     "data": {
      "text/plain": [
       "{'x1': {'x1': array([0.66429393, 0.66429393, 0.34788597, 0.34788597, 0.14622265,\n",
       "         0.14622265, 0.27470816, 0.27470816, 0.24147295, 0.24147295,\n",
       "         0.72781116, 0.72781116, 0.02730202, 0.02730202, 0.06394428,\n",
       "         0.06394428, 0.78527124, 0.78527124, 0.69067004, 0.69067004,\n",
       "         0.05543098, 0.05543098, 0.00424129, 0.00424129, 0.24547965,\n",
       "         0.24547965, 0.23242976, 0.23242976, 0.53479553, 0.53479553,\n",
       "         0.85963319, 0.85963319, 0.46220086, 0.46220086, 0.32139299,\n",
       "         0.32139299, 0.73797405, 0.73797405, 0.48984018, 0.48984018,\n",
       "         0.73580537, 0.73580537, 0.0550935 , 0.0550935 , 0.78084723,\n",
       "         0.78084723, 0.16826892, 0.16826892, 0.91377615, 0.91377615,\n",
       "         0.01790002, 0.01790002, 0.37677837, 0.37677837, 0.56999792,\n",
       "         0.56999792, 0.80632637, 0.80632637, 0.59493997, 0.59493997,\n",
       "         0.25341942, 0.25341942, 0.14856863, 0.14856863, 0.01832935,\n",
       "         0.01832935, 0.21315033, 0.21315033, 0.47890017, 0.47890017,\n",
       "         0.62901129, 0.62901129, 0.60284554, 0.60284554, 0.1989051 ,\n",
       "         0.1989051 , 0.27917777, 0.27917777, 0.89146119, 0.89146119,\n",
       "         0.17746455, 0.17746455, 0.60505946, 0.60505946, 0.7938189 ,\n",
       "         0.7938189 , 0.16035829, 0.16035829, 0.7125902 , 0.7125902 ,\n",
       "         0.23965918, 0.23965918, 0.25080695, 0.25080695, 0.63204608,\n",
       "         0.63204608, 0.09622452, 0.09622452, 0.36575943, 0.36575943,\n",
       "         0.881637  , 0.881637  , 0.96313205, 0.96313205, 0.960846  ,\n",
       "         0.960846  , 0.26155882, 0.26155882, 0.33204366, 0.33204366,\n",
       "         0.50752773, 0.50752773, 0.7776494 , 0.7776494 , 0.67147205,\n",
       "         0.67147205, 0.00790924, 0.00790924, 0.93831915, 0.93831915,\n",
       "         0.39181489, 0.39181489, 0.19449452, 0.19449452, 0.52475254,\n",
       "         0.52475254, 0.05268269, 0.05268269, 0.94272078, 0.94272078,\n",
       "         0.59026405, 0.59026405, 0.68952992, 0.68952992, 0.91842999,\n",
       "         0.91842999, 0.57799435, 0.57799435, 0.69734517, 0.69734517,\n",
       "         0.05677469, 0.05677469, 0.85968219, 0.85968219, 0.19364692,\n",
       "         0.19364692, 0.44304879, 0.44304879, 0.922143  , 0.922143  ,\n",
       "         0.30423107, 0.30423107, 0.46516696, 0.46516696, 0.1630831 ,\n",
       "         0.1630831 , 0.76185376, 0.76185376, 0.10545149, 0.10545149,\n",
       "         0.1762544 , 0.1762544 , 0.52934633, 0.52934633, 0.15858682,\n",
       "         0.15858682, 0.10483095, 0.10483095, 0.49158005, 0.49158005,\n",
       "         0.50569287, 0.50569287, 0.54836846, 0.54836846, 0.74338748,\n",
       "         0.74338748, 0.5422725 , 0.5422725 , 0.47455261, 0.47455261,\n",
       "         0.59783754, 0.59783754, 0.15416339, 0.15416339, 0.40471164,\n",
       "         0.40471164, 0.19645735, 0.19645735, 0.77089441, 0.77089441,\n",
       "         0.709532  , 0.709532  , 0.05188189, 0.05188189, 0.78594495,\n",
       "         0.78594495, 0.69507163, 0.69507163, 0.46988701, 0.46988701])}}"
      ]
     },
     "execution_count": 11,
     "metadata": {},
     "output_type": "execute_result"
    }
   ],
   "source": [
    "ds = load_by_id(run_id_n)\n",
    "ds.get_parameter_data('x1')"
   ]
  },
  {
   "cell_type": "markdown",
   "metadata": {},
   "source": [
    "And a dataset stored as binary arrays"
   ]
  },
  {
   "cell_type": "code",
   "execution_count": 12,
   "metadata": {
    "scrolled": true
   },
   "outputs": [
    {
     "data": {
      "text/plain": [
       "{'x1': {'x1': array([[0.64426992],\n",
       "         [0.64426992],\n",
       "         [0.69150505],\n",
       "         [0.69150505],\n",
       "         [0.77621022],\n",
       "         [0.77621022],\n",
       "         [0.71160227],\n",
       "         [0.71160227],\n",
       "         [0.38125135],\n",
       "         [0.38125135],\n",
       "         [0.57137327],\n",
       "         [0.57137327],\n",
       "         [0.82273075],\n",
       "         [0.82273075],\n",
       "         [0.40121614],\n",
       "         [0.40121614],\n",
       "         [0.90522692],\n",
       "         [0.90522692],\n",
       "         [0.02424333],\n",
       "         [0.02424333],\n",
       "         [0.15327631],\n",
       "         [0.15327631],\n",
       "         [0.8928151 ],\n",
       "         [0.8928151 ],\n",
       "         [0.26530272],\n",
       "         [0.26530272],\n",
       "         [0.00489396],\n",
       "         [0.00489396],\n",
       "         [0.38758583],\n",
       "         [0.38758583],\n",
       "         [0.11859572],\n",
       "         [0.11859572],\n",
       "         [0.28795373],\n",
       "         [0.28795373],\n",
       "         [0.46593911],\n",
       "         [0.46593911],\n",
       "         [0.29948054],\n",
       "         [0.29948054],\n",
       "         [0.08044136],\n",
       "         [0.08044136],\n",
       "         [0.7433983 ],\n",
       "         [0.7433983 ],\n",
       "         [0.33127132],\n",
       "         [0.33127132],\n",
       "         [0.38888951],\n",
       "         [0.38888951],\n",
       "         [0.05894635],\n",
       "         [0.05894635],\n",
       "         [0.65122859],\n",
       "         [0.65122859],\n",
       "         [0.21945967],\n",
       "         [0.21945967],\n",
       "         [0.87896721],\n",
       "         [0.87896721],\n",
       "         [0.28758641],\n",
       "         [0.28758641],\n",
       "         [0.40361571],\n",
       "         [0.40361571],\n",
       "         [0.50816887],\n",
       "         [0.50816887],\n",
       "         [0.29966295],\n",
       "         [0.29966295],\n",
       "         [0.24492435],\n",
       "         [0.24492435],\n",
       "         [0.73669218],\n",
       "         [0.73669218],\n",
       "         [0.65625084],\n",
       "         [0.65625084],\n",
       "         [0.53560932],\n",
       "         [0.53560932],\n",
       "         [0.72126558],\n",
       "         [0.72126558],\n",
       "         [0.9358546 ],\n",
       "         [0.9358546 ],\n",
       "         [0.29699285],\n",
       "         [0.29699285],\n",
       "         [0.83982746],\n",
       "         [0.83982746],\n",
       "         [0.53850649],\n",
       "         [0.53850649],\n",
       "         [0.93404013],\n",
       "         [0.93404013],\n",
       "         [0.19545557],\n",
       "         [0.19545557],\n",
       "         [0.69008335],\n",
       "         [0.69008335],\n",
       "         [0.61903153],\n",
       "         [0.61903153],\n",
       "         [0.9988094 ],\n",
       "         [0.9988094 ],\n",
       "         [0.07452982],\n",
       "         [0.07452982],\n",
       "         [0.80725945],\n",
       "         [0.80725945],\n",
       "         [0.26718056],\n",
       "         [0.26718056],\n",
       "         [0.32380471],\n",
       "         [0.32380471],\n",
       "         [0.06613462],\n",
       "         [0.06613462],\n",
       "         [0.18323198],\n",
       "         [0.18323198],\n",
       "         [0.11280823],\n",
       "         [0.11280823],\n",
       "         [0.38059216],\n",
       "         [0.38059216],\n",
       "         [0.2859231 ],\n",
       "         [0.2859231 ],\n",
       "         [0.29144407],\n",
       "         [0.29144407],\n",
       "         [0.19206475],\n",
       "         [0.19206475],\n",
       "         [0.51848845],\n",
       "         [0.51848845],\n",
       "         [0.78401931],\n",
       "         [0.78401931],\n",
       "         [0.35157487],\n",
       "         [0.35157487],\n",
       "         [0.46343533],\n",
       "         [0.46343533],\n",
       "         [0.74020769],\n",
       "         [0.74020769],\n",
       "         [0.6127143 ],\n",
       "         [0.6127143 ],\n",
       "         [0.22523429],\n",
       "         [0.22523429],\n",
       "         [0.64693268],\n",
       "         [0.64693268],\n",
       "         [0.02954561],\n",
       "         [0.02954561],\n",
       "         [0.15372367],\n",
       "         [0.15372367],\n",
       "         [0.65178747],\n",
       "         [0.65178747],\n",
       "         [0.74818312],\n",
       "         [0.74818312],\n",
       "         [0.20109985],\n",
       "         [0.20109985],\n",
       "         [0.20394758],\n",
       "         [0.20394758],\n",
       "         [0.92455693],\n",
       "         [0.92455693],\n",
       "         [0.32971082],\n",
       "         [0.32971082],\n",
       "         [0.68078793],\n",
       "         [0.68078793],\n",
       "         [0.2038696 ],\n",
       "         [0.2038696 ],\n",
       "         [0.84359646],\n",
       "         [0.84359646],\n",
       "         [0.12985447],\n",
       "         [0.12985447],\n",
       "         [0.31992755],\n",
       "         [0.31992755],\n",
       "         [0.10250514],\n",
       "         [0.10250514],\n",
       "         [0.26429577],\n",
       "         [0.26429577],\n",
       "         [0.17954827],\n",
       "         [0.17954827],\n",
       "         [0.3199731 ],\n",
       "         [0.3199731 ],\n",
       "         [0.24737614],\n",
       "         [0.24737614],\n",
       "         [0.16045881],\n",
       "         [0.16045881],\n",
       "         [0.82432404],\n",
       "         [0.82432404],\n",
       "         [0.5535357 ],\n",
       "         [0.5535357 ],\n",
       "         [0.23355264],\n",
       "         [0.23355264],\n",
       "         [0.52448695],\n",
       "         [0.52448695],\n",
       "         [0.69009785],\n",
       "         [0.69009785],\n",
       "         [0.76229328],\n",
       "         [0.76229328],\n",
       "         [0.3768994 ],\n",
       "         [0.3768994 ],\n",
       "         [0.74630318],\n",
       "         [0.74630318],\n",
       "         [0.64126399],\n",
       "         [0.64126399],\n",
       "         [0.09791698],\n",
       "         [0.09791698],\n",
       "         [0.23375058],\n",
       "         [0.23375058],\n",
       "         [0.35079411],\n",
       "         [0.35079411],\n",
       "         [0.3933919 ],\n",
       "         [0.3933919 ],\n",
       "         [0.84855162],\n",
       "         [0.84855162],\n",
       "         [0.06700955],\n",
       "         [0.06700955],\n",
       "         [0.2287839 ],\n",
       "         [0.2287839 ],\n",
       "         [0.66942746],\n",
       "         [0.66942746]])}}"
      ]
     },
     "execution_count": 12,
     "metadata": {},
     "output_type": "execute_result"
    }
   ],
   "source": [
    "ds = load_by_id(run_id_a)\n",
    "ds.get_parameter_data('x1')"
   ]
  },
  {
   "cell_type": "code",
   "execution_count": null,
   "metadata": {},
   "outputs": [],
   "source": []
  }
 ],
 "metadata": {
  "kernelspec": {
   "display_name": "Python 3",
   "language": "python",
   "name": "python3"
  },
  "language_info": {
   "codemirror_mode": {
    "name": "ipython",
    "version": 3
   },
   "file_extension": ".py",
   "mimetype": "text/x-python",
   "name": "python",
   "nbconvert_exporter": "python",
   "pygments_lexer": "ipython3",
   "version": "3.7.7"
  },
  "nbsphinx": {
   "timeout": 600
  },
  "toc": {
   "base_numbering": 1,
   "nav_menu": {},
   "number_sections": true,
   "sideBar": true,
   "skip_h1_title": false,
   "title_cell": "Table of Contents",
   "title_sidebar": "Contents",
   "toc_cell": false,
   "toc_position": {},
   "toc_section_display": true,
   "toc_window_display": false
  },
  "varInspector": {
   "cols": {
    "lenName": 16,
    "lenType": 16,
    "lenVar": 40
   },
   "kernels_config": {
    "python": {
     "delete_cmd_postfix": "",
     "delete_cmd_prefix": "del ",
     "library": "var_list.py",
     "varRefreshCmd": "print(var_dic_list())"
    },
    "r": {
     "delete_cmd_postfix": ") ",
     "delete_cmd_prefix": "rm(",
     "library": "var_list.r",
     "varRefreshCmd": "cat(var_dic_list()) "
    }
   },
   "types_to_exclude": [
    "module",
    "function",
    "builtin_function_or_method",
    "instance",
    "_Feature"
   ],
   "window_display": false
  }
 },
 "nbformat": 4,
 "nbformat_minor": 2
}
