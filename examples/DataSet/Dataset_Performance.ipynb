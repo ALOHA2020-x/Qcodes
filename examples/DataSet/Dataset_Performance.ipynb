{
 "cells": [
  {
   "cell_type": "markdown",
   "metadata": {},
   "source": [
    "# DataSet Performance\n",
    "\n",
    "This notebook shows the trade-off between inserting data into a database row-by-row and as binary blobs. Inserting the data row-by-row means that we have direct access to all the data and may perform queries directly on the values of the data. On the other hand, as we shall see, this is much slower than inserting the data directly as binary blobs."
   ]
  },
  {
   "cell_type": "markdown",
   "metadata": {},
   "source": [
    "First, we choose a new location for the database to ensure that we don't add a bunch of benchmarking data to the default one."
   ]
  },
  {
   "cell_type": "code",
   "execution_count": 1,
   "metadata": {
    "execution": {
     "iopub.execute_input": "2020-10-22T10:53:12.804161Z",
     "iopub.status.busy": "2020-10-22T10:53:12.803604Z",
     "iopub.status.idle": "2020-10-22T10:53:13.942207Z",
     "shell.execute_reply": "2020-10-22T10:53:13.941485Z"
    }
   },
   "outputs": [
    {
     "name": "stdout",
     "output_type": "stream",
     "text": [
      "Logging hadn't been started.\n",
      "Activating auto-logging. Current session state plus future input saved.\n",
      "Filename       : /home/vsts/.qcodes/logs/command_history.log\n",
      "Mode           : append\n",
      "Output logging : True\n",
      "Raw input log  : False\n",
      "Timestamping   : True\n",
      "State          : active\n"
     ]
    },
    {
     "name": "stdout",
     "output_type": "stream",
     "text": [
      "Qcodes Logfile : /home/vsts/.qcodes/logs/201022-14695-qcodes.log\n"
     ]
    }
   ],
   "source": [
    "import os\n",
    "cwd = os.getcwd()\n",
    "import qcodes as qc\n",
    "qc.config[\"core\"][\"db_location\"] = os.path.join(cwd, 'testing.db')\n"
   ]
  },
  {
   "cell_type": "code",
   "execution_count": 2,
   "metadata": {
    "execution": {
     "iopub.execute_input": "2020-10-22T10:53:13.948785Z",
     "iopub.status.busy": "2020-10-22T10:53:13.948200Z",
     "iopub.status.idle": "2020-10-22T10:53:14.149471Z",
     "shell.execute_reply": "2020-10-22T10:53:14.148757Z"
    }
   },
   "outputs": [],
   "source": [
    "%matplotlib inline\n",
    "import time\n",
    "import matplotlib.pyplot as plt\n",
    "import numpy as np\n",
    "\n",
    "import qcodes as qc\n",
    "from qcodes.instrument.parameter import ManualParameter\n",
    "from qcodes.dataset.experiment_container import (Experiment,\n",
    "                                                 load_last_experiment,\n",
    "                                                 new_experiment)\n",
    "from qcodes.dataset.sqlite.database import initialise_database\n",
    "from qcodes import load_or_create_experiment\n",
    "from qcodes.dataset.measurements import Measurement"
   ]
  },
  {
   "cell_type": "code",
   "execution_count": 3,
   "metadata": {
    "execution": {
     "iopub.execute_input": "2020-10-22T10:53:14.153916Z",
     "iopub.status.busy": "2020-10-22T10:53:14.153163Z",
     "iopub.status.idle": "2020-10-22T10:53:14.267580Z",
     "shell.execute_reply": "2020-10-22T10:53:14.266803Z"
    }
   },
   "outputs": [
    {
     "name": "stdout",
     "output_type": "stream",
     "text": [
      "\r",
      "0it [00:00, ?it/s]"
     ]
    },
    {
     "name": "stdout",
     "output_type": "stream",
     "text": [
      "\r",
      "Upgrading database; v0 -> v1: : 0it [00:00, ?it/s]"
     ]
    },
    {
     "name": "stdout",
     "output_type": "stream",
     "text": [
      "\r",
      "Upgrading database; v0 -> v1: : 0it [00:00, ?it/s]"
     ]
    },
    {
     "name": "stdout",
     "output_type": "stream",
     "text": [
      "\n",
      "\r",
      "  0%|          | 0/1 [00:00<?, ?it/s]"
     ]
    },
    {
     "name": "stdout",
     "output_type": "stream",
     "text": [
      "\r",
      "Upgrading database; v1 -> v2:   0%|          | 0/1 [00:00<?, ?it/s]"
     ]
    },
    {
     "name": "stdout",
     "output_type": "stream",
     "text": [
      "\r",
      "Upgrading database; v1 -> v2: 100%|██████████| 1/1 [00:00<00:00, 330.55it/s]"
     ]
    },
    {
     "name": "stdout",
     "output_type": "stream",
     "text": [
      "\n",
      "\r",
      "0it [00:00, ?it/s]"
     ]
    },
    {
     "name": "stdout",
     "output_type": "stream",
     "text": [
      "\r",
      "Upgrading database; v2 -> v3: : 0it [00:00, ?it/s]"
     ]
    },
    {
     "name": "stdout",
     "output_type": "stream",
     "text": [
      "\r",
      "Upgrading database; v2 -> v3: : 0it [00:00, ?it/s]"
     ]
    },
    {
     "name": "stdout",
     "output_type": "stream",
     "text": [
      "\n",
      "\r",
      "0it [00:00, ?it/s]"
     ]
    },
    {
     "name": "stdout",
     "output_type": "stream",
     "text": [
      "\r",
      "Upgrading database; v3 -> v4: : 0it [00:00, ?it/s]"
     ]
    },
    {
     "name": "stdout",
     "output_type": "stream",
     "text": [
      "\r",
      "Upgrading database; v3 -> v4: : 0it [00:00, ?it/s]"
     ]
    },
    {
     "name": "stdout",
     "output_type": "stream",
     "text": [
      "\n",
      "\r",
      "  0%|          | 0/1 [00:00<?, ?it/s]"
     ]
    },
    {
     "name": "stdout",
     "output_type": "stream",
     "text": [
      "\r",
      "Upgrading database; v4 -> v5:   0%|          | 0/1 [00:00<?, ?it/s]"
     ]
    },
    {
     "name": "stdout",
     "output_type": "stream",
     "text": [
      "\r",
      "Upgrading database; v4 -> v5: 100%|██████████| 1/1 [00:00<00:00, 512.38it/s]"
     ]
    },
    {
     "name": "stdout",
     "output_type": "stream",
     "text": [
      "\n",
      "\r",
      "0it [00:00, ?it/s]"
     ]
    },
    {
     "name": "stdout",
     "output_type": "stream",
     "text": [
      "\r",
      "Upgrading database; v5 -> v6: : 0it [00:00, ?it/s]"
     ]
    },
    {
     "name": "stdout",
     "output_type": "stream",
     "text": [
      "\r",
      "Upgrading database; v5 -> v6: : 0it [00:00, ?it/s]"
     ]
    },
    {
     "name": "stdout",
     "output_type": "stream",
     "text": [
      "\n",
      "\r",
      "  0%|          | 0/1 [00:00<?, ?it/s]"
     ]
    },
    {
     "name": "stdout",
     "output_type": "stream",
     "text": [
      "\r",
      "Upgrading database; v6 -> v7:   0%|          | 0/1 [00:00<?, ?it/s]"
     ]
    },
    {
     "name": "stdout",
     "output_type": "stream",
     "text": [
      "\r",
      "Upgrading database; v6 -> v7: 100%|██████████| 1/1 [00:00<00:00, 275.96it/s]"
     ]
    },
    {
     "name": "stdout",
     "output_type": "stream",
     "text": [
      "\n",
      "\r",
      "  0%|          | 0/1 [00:00<?, ?it/s]"
     ]
    },
    {
     "name": "stdout",
     "output_type": "stream",
     "text": [
      "\r",
      "Upgrading database; v7 -> v8:   0%|          | 0/1 [00:00<?, ?it/s]"
     ]
    },
    {
     "name": "stdout",
     "output_type": "stream",
     "text": [
      "\r",
      "Upgrading database; v7 -> v8: 100%|██████████| 1/1 [00:00<00:00, 418.22it/s]"
     ]
    },
    {
     "name": "stdout",
     "output_type": "stream",
     "text": [
      "\n",
      "\r",
      "  0%|          | 0/1 [00:00<?, ?it/s]"
     ]
    },
    {
     "name": "stdout",
     "output_type": "stream",
     "text": [
      "\r",
      "Upgrading database; v8 -> v9:   0%|          | 0/1 [00:00<?, ?it/s]"
     ]
    },
    {
     "name": "stdout",
     "output_type": "stream",
     "text": [
      "\r",
      "Upgrading database; v8 -> v9: 100%|██████████| 1/1 [00:00<00:00, 1073.26it/s]"
     ]
    },
    {
     "name": "stdout",
     "output_type": "stream",
     "text": [
      "\n"
     ]
    }
   ],
   "source": [
    "initialise_database()\n",
    "exp = load_or_create_experiment(experiment_name='tutorial_exp', sample_name=\"no sample\")"
   ]
  },
  {
   "cell_type": "markdown",
   "metadata": {},
   "source": [
    "Here, we define a simple function to benchmark the time it takes to insert n points with either numeric or array data type.\n",
    "We will compare both the time used to call ``add_result`` and the time used for the full measurement."
   ]
  },
  {
   "cell_type": "code",
   "execution_count": 4,
   "metadata": {
    "execution": {
     "iopub.execute_input": "2020-10-22T10:53:14.277225Z",
     "iopub.status.busy": "2020-10-22T10:53:14.275869Z",
     "iopub.status.idle": "2020-10-22T10:53:14.277935Z",
     "shell.execute_reply": "2020-10-22T10:53:14.278484Z"
    }
   },
   "outputs": [],
   "source": [
    "def insert_data(paramtype, npoints, nreps=1):\n",
    "\n",
    "    meas = Measurement(exp=exp)\n",
    "\n",
    "    x1 = ManualParameter('x1')\n",
    "    x2 = ManualParameter('x2')\n",
    "    x3 = ManualParameter('x3')\n",
    "    y1 = ManualParameter('y1')\n",
    "    y2 = ManualParameter('y2')\n",
    "\n",
    "    meas.register_parameter(x1, paramtype=paramtype)\n",
    "    meas.register_parameter(x2, paramtype=paramtype)\n",
    "    meas.register_parameter(x3, paramtype=paramtype)\n",
    "    meas.register_parameter(y1, setpoints=[x1, x2, x3],\n",
    "                            paramtype=paramtype)\n",
    "    meas.register_parameter(y2, setpoints=[x1, x2, x3],\n",
    "                            paramtype=paramtype)\n",
    "    start = time.perf_counter()\n",
    "    with meas.run() as datasaver:\n",
    "        start_adding = time.perf_counter()\n",
    "        for i in range(nreps):\n",
    "            datasaver.add_result((x1, np.random.rand(npoints)),\n",
    "                                 (x2, np.random.rand(npoints)),\n",
    "                                 (x3, np.random.rand(npoints)),\n",
    "                                 (y1, np.random.rand(npoints)),\n",
    "                                 (y2, np.random.rand(npoints)))\n",
    "        stop_adding = time.perf_counter()\n",
    "        run_id = datasaver.run_id\n",
    "    stop = time.perf_counter()\n",
    "    tot_time = stop - start\n",
    "    add_time = stop_adding - start_adding\n",
    "    return tot_time, add_time, run_id"
   ]
  },
  {
   "cell_type": "markdown",
   "metadata": {},
   "source": [
    "## Comparison between numeric/array data and binary blob"
   ]
  },
  {
   "cell_type": "markdown",
   "metadata": {},
   "source": [
    "### Case1: Short experiment time"
   ]
  },
  {
   "cell_type": "code",
   "execution_count": 5,
   "metadata": {
    "execution": {
     "iopub.execute_input": "2020-10-22T10:53:14.284723Z",
     "iopub.status.busy": "2020-10-22T10:53:14.283919Z",
     "iopub.status.idle": "2020-10-22T10:53:15.134527Z",
     "shell.execute_reply": "2020-10-22T10:53:15.133649Z"
    }
   },
   "outputs": [
    {
     "name": "stdout",
     "output_type": "stream",
     "text": [
      "Starting experimental run with id: 1. \n",
      "Starting experimental run with id: 2. \n",
      "Starting experimental run with id: 3. \n",
      "Starting experimental run with id: 4. \n",
      "Starting experimental run with id: 5. \n"
     ]
    },
    {
     "name": "stdout",
     "output_type": "stream",
     "text": [
      "Starting experimental run with id: 6. \n"
     ]
    },
    {
     "name": "stdout",
     "output_type": "stream",
     "text": [
      "Starting experimental run with id: 7. \n"
     ]
    },
    {
     "name": "stdout",
     "output_type": "stream",
     "text": [
      "Starting experimental run with id: 8. \n",
      "Starting experimental run with id: 9. \n"
     ]
    },
    {
     "name": "stdout",
     "output_type": "stream",
     "text": [
      "Starting experimental run with id: 10. \n",
      "Starting experimental run with id: 11. \n"
     ]
    },
    {
     "name": "stdout",
     "output_type": "stream",
     "text": [
      "Starting experimental run with id: 12. \n"
     ]
    },
    {
     "name": "stdout",
     "output_type": "stream",
     "text": [
      "Starting experimental run with id: 13. \n"
     ]
    },
    {
     "name": "stdout",
     "output_type": "stream",
     "text": [
      "Starting experimental run with id: 14. \n"
     ]
    }
   ],
   "source": [
    "sizes = [1,500,1000,2000,3000,4000,5000]\n",
    "t_numeric = []\n",
    "t_numeric_add = []\n",
    "t_array = []\n",
    "t_array_add = []\n",
    "for size in sizes:\n",
    "    tn, tna, run_id_n =  insert_data('numeric', size)\n",
    "    t_numeric.append(tn)\n",
    "    t_numeric_add.append(tna)\n",
    "\n",
    "    ta, taa, run_id_a =  insert_data('array', size)\n",
    "    t_array.append(ta)\n",
    "    t_array_add.append(taa)"
   ]
  },
  {
   "cell_type": "code",
   "execution_count": 6,
   "metadata": {
    "execution": {
     "iopub.execute_input": "2020-10-22T10:53:15.164152Z",
     "iopub.status.busy": "2020-10-22T10:53:15.155198Z",
     "iopub.status.idle": "2020-10-22T10:53:15.371182Z",
     "shell.execute_reply": "2020-10-22T10:53:15.370519Z"
    }
   },
   "outputs": [
    {
     "data": {
      "image/png": "[encoded data removed]",
      "text/plain": [
       "<Figure size 432x288 with 1 Axes>"
      ]
     },
     "metadata": {
      "needs_background": "light"
     },
     "output_type": "display_data"
    }
   ],
   "source": [
    "fig, ax = plt.subplots(1,1)\n",
    "ax.plot(sizes, t_numeric, 'o-', label='Inserting row-by-row')\n",
    "ax.plot(sizes, t_numeric_add, 'o-', label='Inserting row-by-row: add_result only')\n",
    "ax.plot(sizes, t_array, 'd-', label='Inserting as binary blob')\n",
    "ax.plot(sizes, t_array_add, 'd-', label='Inserting as binary blob: add_result only')\n",
    "ax.legend()\n",
    "ax.set_xlabel('Array length')\n",
    "ax.set_ylabel('Time (s)')\n",
    "fig.tight_layout()"
   ]
  },
  {
   "cell_type": "markdown",
   "metadata": {},
   "source": [
    "As shown in the latter figure, the time to setup and and close the experiment is approximately 0.4 sec. In case of small array sizes, the difference between inserting values of data as arrays and inserting them row-by-row is relatively unimportant. At larger array sizes, i.e. above 10000 points, the cost of writing data as individual datapoints starts to become important.\n"
   ]
  },
  {
   "cell_type": "markdown",
   "metadata": {},
   "source": [
    "### Case2: Long experiment time "
   ]
  },
  {
   "cell_type": "code",
   "execution_count": 7,
   "metadata": {
    "execution": {
     "iopub.execute_input": "2020-10-22T10:53:15.379478Z",
     "iopub.status.busy": "2020-10-22T10:53:15.378065Z",
     "iopub.status.idle": "2020-10-22T10:54:14.354175Z",
     "shell.execute_reply": "2020-10-22T10:54:14.354604Z"
    }
   },
   "outputs": [
    {
     "name": "stdout",
     "output_type": "stream",
     "text": [
      "Starting experimental run with id: 15. \n",
      "Starting experimental run with id: 16. \n",
      "Starting experimental run with id: 17. \n"
     ]
    },
    {
     "name": "stdout",
     "output_type": "stream",
     "text": [
      "Starting experimental run with id: 18. \n",
      "Starting experimental run with id: 19. \n"
     ]
    },
    {
     "name": "stdout",
     "output_type": "stream",
     "text": [
      "Starting experimental run with id: 20. \n"
     ]
    },
    {
     "name": "stdout",
     "output_type": "stream",
     "text": [
      "Starting experimental run with id: 21. \n"
     ]
    },
    {
     "name": "stdout",
     "output_type": "stream",
     "text": [
      "Starting experimental run with id: 22. \n"
     ]
    },
    {
     "name": "stdout",
     "output_type": "stream",
     "text": [
      "Starting experimental run with id: 23. \n"
     ]
    },
    {
     "name": "stdout",
     "output_type": "stream",
     "text": [
      "Starting experimental run with id: 24. \n"
     ]
    },
    {
     "name": "stdout",
     "output_type": "stream",
     "text": [
      "Starting experimental run with id: 25. \n"
     ]
    },
    {
     "name": "stdout",
     "output_type": "stream",
     "text": [
      "Starting experimental run with id: 26. \n"
     ]
    },
    {
     "name": "stdout",
     "output_type": "stream",
     "text": [
      "Starting experimental run with id: 27. \n"
     ]
    },
    {
     "name": "stdout",
     "output_type": "stream",
     "text": [
      "Starting experimental run with id: 28. \n"
     ]
    }
   ],
   "source": [
    "sizes = [1,500,1000,2000,3000,4000,5000]\n",
    "nreps = 100\n",
    "t_numeric = []\n",
    "t_numeric_add = []\n",
    "t_numeric_run_ids = []\n",
    "t_array = []\n",
    "t_array_add = []\n",
    "t_array_run_ids = []\n",
    "for size in sizes:\n",
    "    tn, tna, run_id_n =  insert_data('numeric', size, nreps=nreps)\n",
    "    t_numeric.append(tn)\n",
    "    t_numeric_add.append(tna)\n",
    "    t_numeric_run_ids.append(run_id_n)\n",
    "\n",
    "    ta, taa, run_id_a =  insert_data('array', size, nreps=nreps)\n",
    "    t_array.append(ta)\n",
    "    t_array_add.append(taa)\n",
    "    t_array_run_ids.append(run_id_a)"
   ]
  },
  {
   "cell_type": "code",
   "execution_count": 8,
   "metadata": {
    "execution": {
     "iopub.execute_input": "2020-10-22T10:54:14.383467Z",
     "iopub.status.busy": "2020-10-22T10:54:14.382262Z",
     "iopub.status.idle": "2020-10-22T10:54:14.599552Z",
     "shell.execute_reply": "2020-10-22T10:54:14.599022Z"
    },
    "scrolled": true
   },
   "outputs": [
    {
     "data": {
      "image/png": "[encoded data removed]",
      "text/plain": [
       "<Figure size 432x288 with 1 Axes>"
      ]
     },
     "metadata": {
      "needs_background": "light"
     },
     "output_type": "display_data"
    }
   ],
   "source": [
    "fig, ax = plt.subplots(1,1)\n",
    "ax.plot(sizes, t_numeric, 'o-', label='Inserting row-by-row')\n",
    "ax.plot(sizes, t_numeric_add, 'o-', label='Inserting row-by-row: add_result only')\n",
    "ax.plot(sizes, t_array, 'd-', label='Inserting as binary blob')\n",
    "ax.plot(sizes, t_array_add, 'd-', label='Inserting as binary blob: add_result only')\n",
    "ax.legend()\n",
    "ax.set_xlabel('Array length')\n",
    "ax.set_ylabel('Time (s)')\n",
    "fig.tight_layout()"
   ]
  },
  {
   "cell_type": "markdown",
   "metadata": {},
   "source": [
    "However, as we increase the length of the experiment, as seen here by repeating the insertion 100 times, we see a big difference between inserting values of the data row-by-row and inserting it as a binary blob."
   ]
  },
  {
   "cell_type": "markdown",
   "metadata": {},
   "source": [
    "## Loading the data "
   ]
  },
  {
   "cell_type": "code",
   "execution_count": 9,
   "metadata": {
    "execution": {
     "iopub.execute_input": "2020-10-22T10:54:14.603766Z",
     "iopub.status.busy": "2020-10-22T10:54:14.603199Z",
     "iopub.status.idle": "2020-10-22T10:54:14.606952Z",
     "shell.execute_reply": "2020-10-22T10:54:14.606321Z"
    }
   },
   "outputs": [],
   "source": [
    "from qcodes.dataset.data_set import load_by_id\n",
    "from qcodes.dataset.data_export import get_data_by_id"
   ]
  },
  {
   "cell_type": "markdown",
   "metadata": {},
   "source": [
    "As usual you can load the data by using the ``load_by_id`` function but you will notice that the different storage methods\n",
    "are reflected in shape of the data as it is retrieved. "
   ]
  },
  {
   "cell_type": "code",
   "execution_count": 10,
   "metadata": {
    "execution": {
     "iopub.execute_input": "2020-10-22T10:54:14.612290Z",
     "iopub.status.busy": "2020-10-22T10:54:14.611038Z",
     "iopub.status.idle": "2020-10-22T10:54:14.612836Z",
     "shell.execute_reply": "2020-10-22T10:54:14.613515Z"
    }
   },
   "outputs": [],
   "source": [
    "run_id_n = t_numeric_run_ids[0]\n",
    "run_id_a = t_array_run_ids[0]"
   ]
  },
  {
   "cell_type": "code",
   "execution_count": 11,
   "metadata": {
    "execution": {
     "iopub.execute_input": "2020-10-22T10:54:14.617283Z",
     "iopub.status.busy": "2020-10-22T10:54:14.616625Z",
     "iopub.status.idle": "2020-10-22T10:54:14.626769Z",
     "shell.execute_reply": "2020-10-22T10:54:14.626301Z"
    },
    "scrolled": true
   },
   "outputs": [
    {
     "data": {
      "text/plain": [
       "{'x1': {'x1': array([0.62609583, 0.62609583, 0.39214957, 0.39214957, 0.56213183,\n",
       "         0.56213183, 0.51522146, 0.51522146, 0.47378779, 0.47378779,\n",
       "         0.80495176, 0.80495176, 0.95274992, 0.95274992, 0.98491129,\n",
       "         0.98491129, 0.67933798, 0.67933798, 0.61709297, 0.61709297,\n",
       "         0.23863612, 0.23863612, 0.16643085, 0.16643085, 0.95179186,\n",
       "         0.95179186, 0.56764738, 0.56764738, 0.96412459, 0.96412459,\n",
       "         0.13542659, 0.13542659, 0.1755967 , 0.1755967 , 0.2615243 ,\n",
       "         0.2615243 , 0.61904236, 0.61904236, 0.31035253, 0.31035253,\n",
       "         0.96833722, 0.96833722, 0.74482221, 0.74482221, 0.02785061,\n",
       "         0.02785061, 0.81063372, 0.81063372, 0.36494465, 0.36494465,\n",
       "         0.08712861, 0.08712861, 0.59747085, 0.59747085, 0.10465353,\n",
       "         0.10465353, 0.30874513, 0.30874513, 0.02501707, 0.02501707,\n",
       "         0.9167301 , 0.9167301 , 0.32634609, 0.32634609, 0.52592914,\n",
       "         0.52592914, 0.89430122, 0.89430122, 0.93305588, 0.93305588,\n",
       "         0.95089249, 0.95089249, 0.90180326, 0.90180326, 0.00697422,\n",
       "         0.00697422, 0.54524096, 0.54524096, 0.44833568, 0.44833568,\n",
       "         0.07703039, 0.07703039, 0.24792082, 0.24792082, 0.35048623,\n",
       "         0.35048623, 0.00575651, 0.00575651, 0.3325424 , 0.3325424 ,\n",
       "         0.30950969, 0.30950969, 0.66652298, 0.66652298, 0.58806541,\n",
       "         0.58806541, 0.33605939, 0.33605939, 0.00897398, 0.00897398,\n",
       "         0.94921189, 0.94921189, 0.93303652, 0.93303652, 0.89372437,\n",
       "         0.89372437, 0.27403255, 0.27403255, 0.31103641, 0.31103641,\n",
       "         0.00183417, 0.00183417, 0.25533511, 0.25533511, 0.99311704,\n",
       "         0.99311704, 0.10737651, 0.10737651, 0.9596463 , 0.9596463 ,\n",
       "         0.82077636, 0.82077636, 0.56581101, 0.56581101, 0.94890826,\n",
       "         0.94890826, 0.63782896, 0.63782896, 0.94011187, 0.94011187,\n",
       "         0.88727646, 0.88727646, 0.72688324, 0.72688324, 0.64081655,\n",
       "         0.64081655, 0.00557076, 0.00557076, 0.91078082, 0.91078082,\n",
       "         0.88705989, 0.88705989, 0.3591018 , 0.3591018 , 0.77044282,\n",
       "         0.77044282, 0.74711222, 0.74711222, 0.88334202, 0.88334202,\n",
       "         0.97911941, 0.97911941, 0.50503232, 0.50503232, 0.92750337,\n",
       "         0.92750337, 0.40268086, 0.40268086, 0.66513943, 0.66513943,\n",
       "         0.59600663, 0.59600663, 0.00119462, 0.00119462, 0.43208012,\n",
       "         0.43208012, 0.99293588, 0.99293588, 0.9877589 , 0.9877589 ,\n",
       "         0.37607617, 0.37607617, 0.25889142, 0.25889142, 0.79851889,\n",
       "         0.79851889, 0.65492889, 0.65492889, 0.44454582, 0.44454582,\n",
       "         0.46789392, 0.46789392, 0.74339368, 0.74339368, 0.44642458,\n",
       "         0.44642458, 0.72657254, 0.72657254, 0.81953408, 0.81953408,\n",
       "         0.51097232, 0.51097232, 0.90645867, 0.90645867, 0.02596968,\n",
       "         0.02596968, 0.42230018, 0.42230018, 0.34069941, 0.34069941])}}"
      ]
     },
     "execution_count": 1,
     "metadata": {},
     "output_type": "execute_result"
    }
   ],
   "source": [
    "ds = load_by_id(run_id_n)\n",
    "ds.get_parameter_data('x1')"
   ]
  },
  {
   "cell_type": "markdown",
   "metadata": {},
   "source": [
    "And a dataset stored as binary arrays"
   ]
  },
  {
   "cell_type": "code",
   "execution_count": 12,
   "metadata": {
    "execution": {
     "iopub.execute_input": "2020-10-22T10:54:14.630602Z",
     "iopub.status.busy": "2020-10-22T10:54:14.630002Z",
     "iopub.status.idle": "2020-10-22T10:54:14.690917Z",
     "shell.execute_reply": "2020-10-22T10:54:14.691648Z"
    },
    "scrolled": true
   },
   "outputs": [
    {
     "data": {
      "text/plain": [
       "{'x1': {'x1': array([[0.9769726 ],\n",
       "         [0.9769726 ],\n",
       "         [0.57128216],\n",
       "         [0.57128216],\n",
       "         [0.51539239],\n",
       "         [0.51539239],\n",
       "         [0.23465779],\n",
       "         [0.23465779],\n",
       "         [0.35255583],\n",
       "         [0.35255583],\n",
       "         [0.43935404],\n",
       "         [0.43935404],\n",
       "         [0.69515985],\n",
       "         [0.69515985],\n",
       "         [0.65796699],\n",
       "         [0.65796699],\n",
       "         [0.3498245 ],\n",
       "         [0.3498245 ],\n",
       "         [0.54836713],\n",
       "         [0.54836713],\n",
       "         [0.82302451],\n",
       "         [0.82302451],\n",
       "         [0.81109848],\n",
       "         [0.81109848],\n",
       "         [0.65156956],\n",
       "         [0.65156956],\n",
       "         [0.86350552],\n",
       "         [0.86350552],\n",
       "         [0.16871059],\n",
       "         [0.16871059],\n",
       "         [0.275283  ],\n",
       "         [0.275283  ],\n",
       "         [0.40161147],\n",
       "         [0.40161147],\n",
       "         [0.70824774],\n",
       "         [0.70824774],\n",
       "         [0.41458681],\n",
       "         [0.41458681],\n",
       "         [0.04347646],\n",
       "         [0.04347646],\n",
       "         [0.30486736],\n",
       "         [0.30486736],\n",
       "         [0.74228667],\n",
       "         [0.74228667],\n",
       "         [0.03596547],\n",
       "         [0.03596547],\n",
       "         [0.4280128 ],\n",
       "         [0.4280128 ],\n",
       "         [0.05608364],\n",
       "         [0.05608364],\n",
       "         [0.72588915],\n",
       "         [0.72588915],\n",
       "         [0.29327728],\n",
       "         [0.29327728],\n",
       "         [0.80328309],\n",
       "         [0.80328309],\n",
       "         [0.25571508],\n",
       "         [0.25571508],\n",
       "         [0.55107268],\n",
       "         [0.55107268],\n",
       "         [0.86308652],\n",
       "         [0.86308652],\n",
       "         [0.00836485],\n",
       "         [0.00836485],\n",
       "         [0.01051084],\n",
       "         [0.01051084],\n",
       "         [0.89673688],\n",
       "         [0.89673688],\n",
       "         [0.88988209],\n",
       "         [0.88988209],\n",
       "         [0.64189378],\n",
       "         [0.64189378],\n",
       "         [0.10682564],\n",
       "         [0.10682564],\n",
       "         [0.5251537 ],\n",
       "         [0.5251537 ],\n",
       "         [0.80278071],\n",
       "         [0.80278071],\n",
       "         [0.372478  ],\n",
       "         [0.372478  ],\n",
       "         [0.00127799],\n",
       "         [0.00127799],\n",
       "         [0.6368504 ],\n",
       "         [0.6368504 ],\n",
       "         [0.95966329],\n",
       "         [0.95966329],\n",
       "         [0.06095351],\n",
       "         [0.06095351],\n",
       "         [0.83016062],\n",
       "         [0.83016062],\n",
       "         [0.1664074 ],\n",
       "         [0.1664074 ],\n",
       "         [0.13899918],\n",
       "         [0.13899918],\n",
       "         [0.97369958],\n",
       "         [0.97369958],\n",
       "         [0.80454928],\n",
       "         [0.80454928],\n",
       "         [0.83130288],\n",
       "         [0.83130288],\n",
       "         [0.68092589],\n",
       "         [0.68092589],\n",
       "         [0.1927083 ],\n",
       "         [0.1927083 ],\n",
       "         [0.78182724],\n",
       "         [0.78182724],\n",
       "         [0.16289773],\n",
       "         [0.16289773],\n",
       "         [0.22583745],\n",
       "         [0.22583745],\n",
       "         [0.92576077],\n",
       "         [0.92576077],\n",
       "         [0.00138308],\n",
       "         [0.00138308],\n",
       "         [0.71329403],\n",
       "         [0.71329403],\n",
       "         [0.60855853],\n",
       "         [0.60855853],\n",
       "         [0.39410514],\n",
       "         [0.39410514],\n",
       "         [0.70370878],\n",
       "         [0.70370878],\n",
       "         [0.68003578],\n",
       "         [0.68003578],\n",
       "         [0.77906498],\n",
       "         [0.77906498],\n",
       "         [0.50932309],\n",
       "         [0.50932309],\n",
       "         [0.50758397],\n",
       "         [0.50758397],\n",
       "         [0.02590722],\n",
       "         [0.02590722],\n",
       "         [0.28467628],\n",
       "         [0.28467628],\n",
       "         [0.09122741],\n",
       "         [0.09122741],\n",
       "         [0.85753125],\n",
       "         [0.85753125],\n",
       "         [0.95835752],\n",
       "         [0.95835752],\n",
       "         [0.6977625 ],\n",
       "         [0.6977625 ],\n",
       "         [0.91956884],\n",
       "         [0.91956884],\n",
       "         [0.3458544 ],\n",
       "         [0.3458544 ],\n",
       "         [0.70718313],\n",
       "         [0.70718313],\n",
       "         [0.37913947],\n",
       "         [0.37913947],\n",
       "         [0.7299315 ],\n",
       "         [0.7299315 ],\n",
       "         [0.22310146],\n",
       "         [0.22310146],\n",
       "         [0.13622484],\n",
       "         [0.13622484],\n",
       "         [0.73799707],\n",
       "         [0.73799707],\n",
       "         [0.08154556],\n",
       "         [0.08154556],\n",
       "         [0.76533714],\n",
       "         [0.76533714],\n",
       "         [0.5695179 ],\n",
       "         [0.5695179 ],\n",
       "         [0.16387658],\n",
       "         [0.16387658],\n",
       "         [0.14930954],\n",
       "         [0.14930954],\n",
       "         [0.6951358 ],\n",
       "         [0.6951358 ],\n",
       "         [0.08849671],\n",
       "         [0.08849671],\n",
       "         [0.42017716],\n",
       "         [0.42017716],\n",
       "         [0.15718934],\n",
       "         [0.15718934],\n",
       "         [0.89430315],\n",
       "         [0.89430315],\n",
       "         [0.34225696],\n",
       "         [0.34225696],\n",
       "         [0.74412383],\n",
       "         [0.74412383],\n",
       "         [0.36940581],\n",
       "         [0.36940581],\n",
       "         [0.12379759],\n",
       "         [0.12379759],\n",
       "         [0.2118876 ],\n",
       "         [0.2118876 ],\n",
       "         [0.37134418],\n",
       "         [0.37134418],\n",
       "         [0.24631504],\n",
       "         [0.24631504],\n",
       "         [0.70179203],\n",
       "         [0.70179203],\n",
       "         [0.59962665],\n",
       "         [0.59962665],\n",
       "         [0.99379788],\n",
       "         [0.99379788],\n",
       "         [0.06185001],\n",
       "         [0.06185001]])}}"
      ]
     },
     "execution_count": 1,
     "metadata": {},
     "output_type": "execute_result"
    }
   ],
   "source": [
    "ds = load_by_id(run_id_a)\n",
    "ds.get_parameter_data('x1')"
   ]
  },
  {
   "cell_type": "code",
   "execution_count": null,
   "metadata": {},
   "outputs": [],
   "source": []
  }
 ],
 "metadata": {
  "kernelspec": {
   "display_name": "Python 3",
   "language": "python",
   "name": "python3"
  },
  "language_info": {
   "codemirror_mode": {
    "name": "ipython",
    "version": 3
   },
   "file_extension": ".py",
   "mimetype": "text/x-python",
   "name": "python",
   "nbconvert_exporter": "python",
   "pygments_lexer": "ipython3",
   "version": "3.7.7"
  },
  "nbsphinx": {
   "timeout": 600
  },
  "toc": {
   "base_numbering": 1,
   "nav_menu": {},
   "number_sections": true,
   "sideBar": true,
   "skip_h1_title": false,
   "title_cell": "Table of Contents",
   "title_sidebar": "Contents",
   "toc_cell": false,
   "toc_position": {},
   "toc_section_display": true,
   "toc_window_display": false
  },
  "varInspector": {
   "cols": {
    "lenName": 16,
    "lenType": 16,
    "lenVar": 40
   },
   "kernels_config": {
    "python": {
     "delete_cmd_postfix": "",
     "delete_cmd_prefix": "del ",
     "library": "var_list.py",
     "varRefreshCmd": "print(var_dic_list())"
    },
    "r": {
     "delete_cmd_postfix": ") ",
     "delete_cmd_prefix": "rm(",
     "library": "var_list.r",
     "varRefreshCmd": "cat(var_dic_list()) "
    }
   },
   "types_to_exclude": [
    "module",
    "function",
    "builtin_function_or_method",
    "instance",
    "_Feature"
   ],
   "window_display": false
  }
 },
 "nbformat": 4,
 "nbformat_minor": 2
}
