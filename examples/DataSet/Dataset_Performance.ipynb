{
 "cells": [
  {
   "cell_type": "markdown",
   "metadata": {},
   "source": [
    "# DataSet Performance\n",
    "\n",
    "This notebook shows the trade-off between inserting data into a database row-by-row and as binary blobs. Inserting the data row-by-row means that we have direct access to all the data and may perform queries directly on the values of the data. On the other hand, as we shall see, this is much slower than inserting the data directly as binary blobs."
   ]
  },
  {
   "cell_type": "markdown",
   "metadata": {},
   "source": [
    "First, we choose a new location for the database to ensure that we don't add a bunch of benchmarking data to the default one."
   ]
  },
  {
   "cell_type": "code",
   "execution_count": 1,
   "metadata": {
    "execution": {
     "iopub.execute_input": "2021-03-22T07:53:38.441278Z",
     "iopub.status.busy": "2021-03-22T07:53:38.440766Z",
     "iopub.status.idle": "2021-03-22T07:53:39.303421Z",
     "shell.execute_reply": "2021-03-22T07:53:39.303850Z"
    }
   },
   "outputs": [
    {
     "name": "stdout",
     "output_type": "stream",
     "text": [
      "Logging hadn't been started.\n",
      "Activating auto-logging. Current session state plus future input saved.\n",
      "Filename       : /home/runner/.qcodes/logs/command_history.log\n",
      "Mode           : append\n",
      "Output logging : True\n",
      "Raw input log  : False\n",
      "Timestamping   : True\n",
      "State          : active\n"
     ]
    },
    {
     "name": "stdout",
     "output_type": "stream",
     "text": [
      "Qcodes Logfile : /home/runner/.qcodes/logs/210322-4431-qcodes.log\n"
     ]
    }
   ],
   "source": [
    "import os\n",
    "cwd = os.getcwd()\n",
    "import qcodes as qc\n",
    "qc.config[\"core\"][\"db_location\"] = os.path.join(cwd, 'testing.db')\n"
   ]
  },
  {
   "cell_type": "code",
   "execution_count": 2,
   "metadata": {
    "execution": {
     "iopub.execute_input": "2021-03-22T07:53:39.313746Z",
     "iopub.status.busy": "2021-03-22T07:53:39.312850Z",
     "iopub.status.idle": "2021-03-22T07:53:39.507435Z",
     "shell.execute_reply": "2021-03-22T07:53:39.506555Z"
    }
   },
   "outputs": [],
   "source": [
    "%matplotlib inline\n",
    "import time\n",
    "import matplotlib.pyplot as plt\n",
    "import numpy as np\n",
    "\n",
    "import qcodes as qc\n",
    "from qcodes.instrument.parameter import ManualParameter\n",
    "from qcodes.dataset.experiment_container import (Experiment,\n",
    "                                                 load_last_experiment,\n",
    "                                                 new_experiment)\n",
    "from qcodes.dataset.sqlite.database import initialise_database\n",
    "from qcodes import load_or_create_experiment\n",
    "from qcodes.dataset.measurements import Measurement"
   ]
  },
  {
   "cell_type": "code",
   "execution_count": 3,
   "metadata": {
    "execution": {
     "iopub.execute_input": "2021-03-22T07:53:39.512105Z",
     "iopub.status.busy": "2021-03-22T07:53:39.511428Z",
     "iopub.status.idle": "2021-03-22T07:53:39.627020Z",
     "shell.execute_reply": "2021-03-22T07:53:39.626492Z"
    }
   },
   "outputs": [
    {
     "name": "stdout",
     "output_type": "stream",
     "text": [
      "\r",
      "0it [00:00, ?it/s]"
     ]
    },
    {
     "name": "stdout",
     "output_type": "stream",
     "text": [
      "\r",
      "Upgrading database; v0 -> v1: : 0it [00:00, ?it/s]"
     ]
    },
    {
     "name": "stdout",
     "output_type": "stream",
     "text": [
      "\r",
      "Upgrading database; v0 -> v1: : 0it [00:00, ?it/s]"
     ]
    },
    {
     "name": "stdout",
     "output_type": "stream",
     "text": [
      "\n",
      "\r",
      "  0%|          | 0/1 [00:00<?, ?it/s]"
     ]
    },
    {
     "name": "stdout",
     "output_type": "stream",
     "text": [
      "\r",
      "Upgrading database; v1 -> v2:   0%|          | 0/1 [00:00<?, ?it/s]"
     ]
    },
    {
     "name": "stdout",
     "output_type": "stream",
     "text": [
      "\r",
      "Upgrading database; v1 -> v2: 100%|██████████| 1/1 [00:00<00:00, 410.48it/s]"
     ]
    },
    {
     "name": "stdout",
     "output_type": "stream",
     "text": [
      "\n",
      "\r",
      "0it [00:00, ?it/s]"
     ]
    },
    {
     "name": "stdout",
     "output_type": "stream",
     "text": [
      "\r",
      "Upgrading database; v2 -> v3: : 0it [00:00, ?it/s]"
     ]
    },
    {
     "name": "stdout",
     "output_type": "stream",
     "text": [
      "\r",
      "Upgrading database; v2 -> v3: : 0it [00:00, ?it/s]"
     ]
    },
    {
     "name": "stdout",
     "output_type": "stream",
     "text": [
      "\n",
      "\r",
      "0it [00:00, ?it/s]"
     ]
    },
    {
     "name": "stdout",
     "output_type": "stream",
     "text": [
      "\r",
      "Upgrading database; v3 -> v4: : 0it [00:00, ?it/s]"
     ]
    },
    {
     "name": "stdout",
     "output_type": "stream",
     "text": [
      "\r",
      "Upgrading database; v3 -> v4: : 0it [00:00, ?it/s]"
     ]
    },
    {
     "name": "stdout",
     "output_type": "stream",
     "text": [
      "\n",
      "\r",
      "  0%|          | 0/1 [00:00<?, ?it/s]"
     ]
    },
    {
     "name": "stdout",
     "output_type": "stream",
     "text": [
      "\r",
      "Upgrading database; v4 -> v5:   0%|          | 0/1 [00:00<?, ?it/s]"
     ]
    },
    {
     "name": "stdout",
     "output_type": "stream",
     "text": [
      "\r",
      "Upgrading database; v4 -> v5: 100%|██████████| 1/1 [00:00<00:00, 521.87it/s]"
     ]
    },
    {
     "name": "stdout",
     "output_type": "stream",
     "text": [
      "\n",
      "\r",
      "0it [00:00, ?it/s]"
     ]
    },
    {
     "name": "stdout",
     "output_type": "stream",
     "text": [
      "\r",
      "Upgrading database; v5 -> v6: : 0it [00:00, ?it/s]"
     ]
    },
    {
     "name": "stdout",
     "output_type": "stream",
     "text": [
      "\r",
      "Upgrading database; v5 -> v6: : 0it [00:00, ?it/s]"
     ]
    },
    {
     "name": "stdout",
     "output_type": "stream",
     "text": [
      "\n",
      "\r",
      "  0%|          | 0/1 [00:00<?, ?it/s]"
     ]
    },
    {
     "name": "stdout",
     "output_type": "stream",
     "text": [
      "\r",
      "Upgrading database; v6 -> v7:   0%|          | 0/1 [00:00<?, ?it/s]"
     ]
    },
    {
     "name": "stdout",
     "output_type": "stream",
     "text": [
      "\r",
      "Upgrading database; v6 -> v7: 100%|██████████| 1/1 [00:00<00:00, 254.56it/s]"
     ]
    },
    {
     "name": "stdout",
     "output_type": "stream",
     "text": [
      "\n",
      "\r",
      "  0%|          | 0/1 [00:00<?, ?it/s]"
     ]
    },
    {
     "name": "stdout",
     "output_type": "stream",
     "text": [
      "\r",
      "Upgrading database; v7 -> v8:   0%|          | 0/1 [00:00<?, ?it/s]"
     ]
    },
    {
     "name": "stdout",
     "output_type": "stream",
     "text": [
      "\r",
      "Upgrading database; v7 -> v8: 100%|██████████| 1/1 [00:00<00:00, 597.31it/s]"
     ]
    },
    {
     "name": "stdout",
     "output_type": "stream",
     "text": [
      "\n",
      "\r",
      "  0%|          | 0/1 [00:00<?, ?it/s]"
     ]
    },
    {
     "name": "stdout",
     "output_type": "stream",
     "text": [
      "\r",
      "Upgrading database; v8 -> v9:   0%|          | 0/1 [00:00<?, ?it/s]"
     ]
    },
    {
     "name": "stdout",
     "output_type": "stream",
     "text": [
      "\r",
      "Upgrading database; v8 -> v9: 100%|██████████| 1/1 [00:00<00:00, 666.08it/s]"
     ]
    },
    {
     "name": "stdout",
     "output_type": "stream",
     "text": [
      "\n"
     ]
    }
   ],
   "source": [
    "initialise_database()\n",
    "exp = load_or_create_experiment(experiment_name='tutorial_exp', sample_name=\"no sample\")"
   ]
  },
  {
   "cell_type": "markdown",
   "metadata": {},
   "source": [
    "Here, we define a simple function to benchmark the time it takes to insert n points with either numeric or array data type.\n",
    "We will compare both the time used to call ``add_result`` and the time used for the full measurement."
   ]
  },
  {
   "cell_type": "code",
   "execution_count": 4,
   "metadata": {
    "execution": {
     "iopub.execute_input": "2021-03-22T07:53:39.635817Z",
     "iopub.status.busy": "2021-03-22T07:53:39.635231Z",
     "iopub.status.idle": "2021-03-22T07:53:39.638684Z",
     "shell.execute_reply": "2021-03-22T07:53:39.638191Z"
    }
   },
   "outputs": [],
   "source": [
    "def insert_data(paramtype, npoints, nreps=1):\n",
    "\n",
    "    meas = Measurement(exp=exp)\n",
    "\n",
    "    x1 = ManualParameter('x1')\n",
    "    x2 = ManualParameter('x2')\n",
    "    x3 = ManualParameter('x3')\n",
    "    y1 = ManualParameter('y1')\n",
    "    y2 = ManualParameter('y2')\n",
    "\n",
    "    meas.register_parameter(x1, paramtype=paramtype)\n",
    "    meas.register_parameter(x2, paramtype=paramtype)\n",
    "    meas.register_parameter(x3, paramtype=paramtype)\n",
    "    meas.register_parameter(y1, setpoints=[x1, x2, x3],\n",
    "                            paramtype=paramtype)\n",
    "    meas.register_parameter(y2, setpoints=[x1, x2, x3],\n",
    "                            paramtype=paramtype)\n",
    "    start = time.perf_counter()\n",
    "    with meas.run() as datasaver:\n",
    "        start_adding = time.perf_counter()\n",
    "        for i in range(nreps):\n",
    "            datasaver.add_result((x1, np.random.rand(npoints)),\n",
    "                                 (x2, np.random.rand(npoints)),\n",
    "                                 (x3, np.random.rand(npoints)),\n",
    "                                 (y1, np.random.rand(npoints)),\n",
    "                                 (y2, np.random.rand(npoints)))\n",
    "        stop_adding = time.perf_counter()\n",
    "        run_id = datasaver.run_id\n",
    "    stop = time.perf_counter()\n",
    "    tot_time = stop - start\n",
    "    add_time = stop_adding - start_adding\n",
    "    return tot_time, add_time, run_id"
   ]
  },
  {
   "cell_type": "markdown",
   "metadata": {},
   "source": [
    "## Comparison between numeric/array data and binary blob"
   ]
  },
  {
   "cell_type": "markdown",
   "metadata": {},
   "source": [
    "### Case1: Short experiment time"
   ]
  },
  {
   "cell_type": "code",
   "execution_count": 5,
   "metadata": {
    "execution": {
     "iopub.execute_input": "2021-03-22T07:53:39.645350Z",
     "iopub.status.busy": "2021-03-22T07:53:39.644646Z",
     "iopub.status.idle": "2021-03-22T07:53:40.436734Z",
     "shell.execute_reply": "2021-03-22T07:53:40.436169Z"
    }
   },
   "outputs": [
    {
     "name": "stdout",
     "output_type": "stream",
     "text": [
      "Starting experimental run with id: 1. \n",
      "Starting experimental run with id: 2. \n",
      "Starting experimental run with id: 3. \n",
      "Starting experimental run with id: 4. \n",
      "Starting experimental run with id: 5. \n"
     ]
    },
    {
     "name": "stdout",
     "output_type": "stream",
     "text": [
      "Starting experimental run with id: 6. \n"
     ]
    },
    {
     "name": "stdout",
     "output_type": "stream",
     "text": [
      "Starting experimental run with id: 7. \n"
     ]
    },
    {
     "name": "stdout",
     "output_type": "stream",
     "text": [
      "Starting experimental run with id: 8. \n",
      "Starting experimental run with id: 9. \n"
     ]
    },
    {
     "name": "stdout",
     "output_type": "stream",
     "text": [
      "Starting experimental run with id: 10. \n",
      "Starting experimental run with id: 11. \n"
     ]
    },
    {
     "name": "stdout",
     "output_type": "stream",
     "text": [
      "Starting experimental run with id: 12. \n",
      "Starting experimental run with id: 13. \n"
     ]
    },
    {
     "name": "stdout",
     "output_type": "stream",
     "text": [
      "Starting experimental run with id: 14. \n"
     ]
    }
   ],
   "source": [
    "sizes = [1,500,1000,2000,3000,4000,5000]\n",
    "t_numeric = []\n",
    "t_numeric_add = []\n",
    "t_array = []\n",
    "t_array_add = []\n",
    "for size in sizes:\n",
    "    tn, tna, run_id_n =  insert_data('numeric', size)\n",
    "    t_numeric.append(tn)\n",
    "    t_numeric_add.append(tna)\n",
    "\n",
    "    ta, taa, run_id_a =  insert_data('array', size)\n",
    "    t_array.append(ta)\n",
    "    t_array_add.append(taa)"
   ]
  },
  {
   "cell_type": "code",
   "execution_count": 6,
   "metadata": {
    "execution": {
     "iopub.execute_input": "2021-03-22T07:53:40.479149Z",
     "iopub.status.busy": "2021-03-22T07:53:40.442329Z",
     "iopub.status.idle": "2021-03-22T07:53:40.637110Z",
     "shell.execute_reply": "2021-03-22T07:53:40.637592Z"
    }
   },
   "outputs": [
    {
     "data": {
      "image/png": "[encoded data removed]",
      "text/plain": [
       "<Figure size 432x288 with 1 Axes>"
      ]
     },
     "metadata": {
      "needs_background": "light"
     },
     "output_type": "display_data"
    }
   ],
   "source": [
    "fig, ax = plt.subplots(1,1)\n",
    "ax.plot(sizes, t_numeric, 'o-', label='Inserting row-by-row')\n",
    "ax.plot(sizes, t_numeric_add, 'o-', label='Inserting row-by-row: add_result only')\n",
    "ax.plot(sizes, t_array, 'd-', label='Inserting as binary blob')\n",
    "ax.plot(sizes, t_array_add, 'd-', label='Inserting as binary blob: add_result only')\n",
    "ax.legend()\n",
    "ax.set_xlabel('Array length')\n",
    "ax.set_ylabel('Time (s)')\n",
    "fig.tight_layout()"
   ]
  },
  {
   "cell_type": "markdown",
   "metadata": {},
   "source": [
    "As shown in the latter figure, the time to setup and and close the experiment is approximately 0.4 sec. In case of small array sizes, the difference between inserting values of data as arrays and inserting them row-by-row is relatively unimportant. At larger array sizes, i.e. above 10000 points, the cost of writing data as individual datapoints starts to become important.\n"
   ]
  },
  {
   "cell_type": "markdown",
   "metadata": {},
   "source": [
    "### Case2: Long experiment time "
   ]
  },
  {
   "cell_type": "code",
   "execution_count": 7,
   "metadata": {
    "execution": {
     "iopub.execute_input": "2021-03-22T07:53:40.640284Z",
     "iopub.status.busy": "2021-03-22T07:53:40.639728Z",
     "iopub.status.idle": "2021-03-22T07:54:42.785270Z",
     "shell.execute_reply": "2021-03-22T07:54:42.784728Z"
    }
   },
   "outputs": [
    {
     "name": "stdout",
     "output_type": "stream",
     "text": [
      "Starting experimental run with id: 15. \n",
      "Starting experimental run with id: 16. \n",
      "Starting experimental run with id: 17. \n"
     ]
    },
    {
     "name": "stdout",
     "output_type": "stream",
     "text": [
      "Starting experimental run with id: 18. \n",
      "Starting experimental run with id: 19. \n"
     ]
    },
    {
     "name": "stdout",
     "output_type": "stream",
     "text": [
      "Starting experimental run with id: 20. \n"
     ]
    },
    {
     "name": "stdout",
     "output_type": "stream",
     "text": [
      "Starting experimental run with id: 21. \n"
     ]
    },
    {
     "name": "stdout",
     "output_type": "stream",
     "text": [
      "Starting experimental run with id: 22. \n"
     ]
    },
    {
     "name": "stdout",
     "output_type": "stream",
     "text": [
      "Starting experimental run with id: 23. \n"
     ]
    },
    {
     "name": "stdout",
     "output_type": "stream",
     "text": [
      "Starting experimental run with id: 24. \n"
     ]
    },
    {
     "name": "stdout",
     "output_type": "stream",
     "text": [
      "Starting experimental run with id: 25. \n"
     ]
    },
    {
     "name": "stdout",
     "output_type": "stream",
     "text": [
      "Starting experimental run with id: 26. \n"
     ]
    },
    {
     "name": "stdout",
     "output_type": "stream",
     "text": [
      "Starting experimental run with id: 27. \n"
     ]
    },
    {
     "name": "stdout",
     "output_type": "stream",
     "text": [
      "Starting experimental run with id: 28. \n"
     ]
    }
   ],
   "source": [
    "sizes = [1,500,1000,2000,3000,4000,5000]\n",
    "nreps = 100\n",
    "t_numeric = []\n",
    "t_numeric_add = []\n",
    "t_numeric_run_ids = []\n",
    "t_array = []\n",
    "t_array_add = []\n",
    "t_array_run_ids = []\n",
    "for size in sizes:\n",
    "    tn, tna, run_id_n =  insert_data('numeric', size, nreps=nreps)\n",
    "    t_numeric.append(tn)\n",
    "    t_numeric_add.append(tna)\n",
    "    t_numeric_run_ids.append(run_id_n)\n",
    "\n",
    "    ta, taa, run_id_a =  insert_data('array', size, nreps=nreps)\n",
    "    t_array.append(ta)\n",
    "    t_array_add.append(taa)\n",
    "    t_array_run_ids.append(run_id_a)"
   ]
  },
  {
   "cell_type": "code",
   "execution_count": 8,
   "metadata": {
    "execution": {
     "iopub.execute_input": "2021-03-22T07:54:42.826663Z",
     "iopub.status.busy": "2021-03-22T07:54:42.825696Z",
     "iopub.status.idle": "2021-03-22T07:54:42.998296Z",
     "shell.execute_reply": "2021-03-22T07:54:42.997235Z"
    },
    "scrolled": true
   },
   "outputs": [
    {
     "data": {
      "image/png": "[encoded data removed]",
      "text/plain": [
       "<Figure size 432x288 with 1 Axes>"
      ]
     },
     "metadata": {
      "needs_background": "light"
     },
     "output_type": "display_data"
    }
   ],
   "source": [
    "fig, ax = plt.subplots(1,1)\n",
    "ax.plot(sizes, t_numeric, 'o-', label='Inserting row-by-row')\n",
    "ax.plot(sizes, t_numeric_add, 'o-', label='Inserting row-by-row: add_result only')\n",
    "ax.plot(sizes, t_array, 'd-', label='Inserting as binary blob')\n",
    "ax.plot(sizes, t_array_add, 'd-', label='Inserting as binary blob: add_result only')\n",
    "ax.legend()\n",
    "ax.set_xlabel('Array length')\n",
    "ax.set_ylabel('Time (s)')\n",
    "fig.tight_layout()"
   ]
  },
  {
   "cell_type": "markdown",
   "metadata": {},
   "source": [
    "However, as we increase the length of the experiment, as seen here by repeating the insertion 100 times, we see a big difference between inserting values of the data row-by-row and inserting it as a binary blob."
   ]
  },
  {
   "cell_type": "markdown",
   "metadata": {},
   "source": [
    "## Loading the data "
   ]
  },
  {
   "cell_type": "code",
   "execution_count": 9,
   "metadata": {
    "execution": {
     "iopub.execute_input": "2021-03-22T07:54:43.002591Z",
     "iopub.status.busy": "2021-03-22T07:54:43.001621Z",
     "iopub.status.idle": "2021-03-22T07:54:43.005633Z",
     "shell.execute_reply": "2021-03-22T07:54:43.005133Z"
    }
   },
   "outputs": [],
   "source": [
    "from qcodes.dataset.data_set import load_by_id\n",
    "from qcodes.dataset.data_export import get_data_by_id"
   ]
  },
  {
   "cell_type": "markdown",
   "metadata": {},
   "source": [
    "As usual you can load the data by using the ``load_by_id`` function but you will notice that the different storage methods\n",
    "are reflected in shape of the data as it is retrieved. "
   ]
  },
  {
   "cell_type": "code",
   "execution_count": 10,
   "metadata": {
    "execution": {
     "iopub.execute_input": "2021-03-22T07:54:43.010275Z",
     "iopub.status.busy": "2021-03-22T07:54:43.009054Z",
     "iopub.status.idle": "2021-03-22T07:54:43.010921Z",
     "shell.execute_reply": "2021-03-22T07:54:43.011385Z"
    }
   },
   "outputs": [],
   "source": [
    "run_id_n = t_numeric_run_ids[0]\n",
    "run_id_a = t_array_run_ids[0]"
   ]
  },
  {
   "cell_type": "code",
   "execution_count": 11,
   "metadata": {
    "execution": {
     "iopub.execute_input": "2021-03-22T07:54:43.014807Z",
     "iopub.status.busy": "2021-03-22T07:54:43.014237Z",
     "iopub.status.idle": "2021-03-22T07:54:43.023711Z",
     "shell.execute_reply": "2021-03-22T07:54:43.024188Z"
    },
    "scrolled": true
   },
   "outputs": [
    {
     "data": {
      "text/plain": [
       "{'x1': {'x1': array([0.05434885, 0.05434885, 0.33832753, 0.33832753, 0.19872891,\n",
       "         0.19872891, 0.59659042, 0.59659042, 0.97383779, 0.97383779,\n",
       "         0.23039962, 0.23039962, 0.51950147, 0.51950147, 0.25305489,\n",
       "         0.25305489, 0.20062409, 0.20062409, 0.63758618, 0.63758618,\n",
       "         0.61245268, 0.61245268, 0.71675151, 0.71675151, 0.05379518,\n",
       "         0.05379518, 0.70510846, 0.70510846, 0.14915801, 0.14915801,\n",
       "         0.55754807, 0.55754807, 0.95692479, 0.95692479, 0.8763349 ,\n",
       "         0.8763349 , 0.80580737, 0.80580737, 0.92544279, 0.92544279,\n",
       "         0.08693034, 0.08693034, 0.31978466, 0.31978466, 0.14198648,\n",
       "         0.14198648, 0.83797683, 0.83797683, 0.45471521, 0.45471521,\n",
       "         0.7920102 , 0.7920102 , 0.37742734, 0.37742734, 0.8728202 ,\n",
       "         0.8728202 , 0.96702068, 0.96702068, 0.16376462, 0.16376462,\n",
       "         0.86023506, 0.86023506, 0.67391381, 0.67391381, 0.01121494,\n",
       "         0.01121494, 0.07540931, 0.07540931, 0.14806915, 0.14806915,\n",
       "         0.8267054 , 0.8267054 , 0.34044292, 0.34044292, 0.16830374,\n",
       "         0.16830374, 0.65506641, 0.65506641, 0.59315239, 0.59315239,\n",
       "         0.93758447, 0.93758447, 0.04001923, 0.04001923, 0.9156161 ,\n",
       "         0.9156161 , 0.96136668, 0.96136668, 0.08595459, 0.08595459,\n",
       "         0.1029524 , 0.1029524 , 0.09586448, 0.09586448, 0.34010859,\n",
       "         0.34010859, 0.43543999, 0.43543999, 0.77223908, 0.77223908,\n",
       "         0.27509374, 0.27509374, 0.46326852, 0.46326852, 0.05642661,\n",
       "         0.05642661, 0.61114158, 0.61114158, 0.09024084, 0.09024084,\n",
       "         0.1289148 , 0.1289148 , 0.29086164, 0.29086164, 0.32170275,\n",
       "         0.32170275, 0.67604214, 0.67604214, 0.71519186, 0.71519186,\n",
       "         0.64495869, 0.64495869, 0.87982916, 0.87982916, 0.55011934,\n",
       "         0.55011934, 0.80766988, 0.80766988, 0.37670335, 0.37670335,\n",
       "         0.48392106, 0.48392106, 0.89500067, 0.89500067, 0.7327317 ,\n",
       "         0.7327317 , 0.31084924, 0.31084924, 0.73051799, 0.73051799,\n",
       "         0.39176278, 0.39176278, 0.59476201, 0.59476201, 0.31672765,\n",
       "         0.31672765, 0.53668524, 0.53668524, 0.44810896, 0.44810896,\n",
       "         0.39023737, 0.39023737, 0.92997372, 0.92997372, 0.06252402,\n",
       "         0.06252402, 0.5706923 , 0.5706923 , 0.76992696, 0.76992696,\n",
       "         0.40085388, 0.40085388, 0.39445934, 0.39445934, 0.2937883 ,\n",
       "         0.2937883 , 0.2758033 , 0.2758033 , 0.88703279, 0.88703279,\n",
       "         0.71728012, 0.71728012, 0.06888525, 0.06888525, 0.77993628,\n",
       "         0.77993628, 0.50317618, 0.50317618, 0.29535022, 0.29535022,\n",
       "         0.0290163 , 0.0290163 , 0.50043908, 0.50043908, 0.82115246,\n",
       "         0.82115246, 0.92935635, 0.92935635, 0.52861565, 0.52861565,\n",
       "         0.71844883, 0.71844883, 0.31021865, 0.31021865, 0.96145302,\n",
       "         0.96145302, 0.92589911, 0.92589911, 0.42361994, 0.42361994])}}"
      ]
     },
     "execution_count": 1,
     "metadata": {},
     "output_type": "execute_result"
    }
   ],
   "source": [
    "ds = load_by_id(run_id_n)\n",
    "ds.get_parameter_data('x1')"
   ]
  },
  {
   "cell_type": "markdown",
   "metadata": {},
   "source": [
    "And a dataset stored as binary arrays"
   ]
  },
  {
   "cell_type": "code",
   "execution_count": 12,
   "metadata": {
    "execution": {
     "iopub.execute_input": "2021-03-22T07:54:43.027655Z",
     "iopub.status.busy": "2021-03-22T07:54:43.027101Z",
     "iopub.status.idle": "2021-03-22T07:54:43.086249Z",
     "shell.execute_reply": "2021-03-22T07:54:43.087082Z"
    },
    "scrolled": true
   },
   "outputs": [
    {
     "data": {
      "text/plain": [
       "{'x1': {'x1': array([[0.32040667],\n",
       "         [0.32040667],\n",
       "         [0.79818168],\n",
       "         [0.79818168],\n",
       "         [0.38347721],\n",
       "         [0.38347721],\n",
       "         [0.82652417],\n",
       "         [0.82652417],\n",
       "         [0.53110498],\n",
       "         [0.53110498],\n",
       "         [0.42570577],\n",
       "         [0.42570577],\n",
       "         [0.51909102],\n",
       "         [0.51909102],\n",
       "         [0.91359184],\n",
       "         [0.91359184],\n",
       "         [0.14541169],\n",
       "         [0.14541169],\n",
       "         [0.06583203],\n",
       "         [0.06583203],\n",
       "         [0.56624094],\n",
       "         [0.56624094],\n",
       "         [0.63179038],\n",
       "         [0.63179038],\n",
       "         [0.03473875],\n",
       "         [0.03473875],\n",
       "         [0.92843489],\n",
       "         [0.92843489],\n",
       "         [0.90170092],\n",
       "         [0.90170092],\n",
       "         [0.59086198],\n",
       "         [0.59086198],\n",
       "         [0.17624134],\n",
       "         [0.17624134],\n",
       "         [0.862719  ],\n",
       "         [0.862719  ],\n",
       "         [0.59134426],\n",
       "         [0.59134426],\n",
       "         [0.03121171],\n",
       "         [0.03121171],\n",
       "         [0.11130636],\n",
       "         [0.11130636],\n",
       "         [0.43985062],\n",
       "         [0.43985062],\n",
       "         [0.06660031],\n",
       "         [0.06660031],\n",
       "         [0.12372912],\n",
       "         [0.12372912],\n",
       "         [0.23413809],\n",
       "         [0.23413809],\n",
       "         [0.07659556],\n",
       "         [0.07659556],\n",
       "         [0.82295967],\n",
       "         [0.82295967],\n",
       "         [0.74474112],\n",
       "         [0.74474112],\n",
       "         [0.55981294],\n",
       "         [0.55981294],\n",
       "         [0.81654747],\n",
       "         [0.81654747],\n",
       "         [0.70140137],\n",
       "         [0.70140137],\n",
       "         [0.91369795],\n",
       "         [0.91369795],\n",
       "         [0.91894813],\n",
       "         [0.91894813],\n",
       "         [0.17700837],\n",
       "         [0.17700837],\n",
       "         [0.40487126],\n",
       "         [0.40487126],\n",
       "         [0.39590197],\n",
       "         [0.39590197],\n",
       "         [0.09311704],\n",
       "         [0.09311704],\n",
       "         [0.53308611],\n",
       "         [0.53308611],\n",
       "         [0.74084372],\n",
       "         [0.74084372],\n",
       "         [0.66911867],\n",
       "         [0.66911867],\n",
       "         [0.82827412],\n",
       "         [0.82827412],\n",
       "         [0.75099886],\n",
       "         [0.75099886],\n",
       "         [0.84403812],\n",
       "         [0.84403812],\n",
       "         [0.55807532],\n",
       "         [0.55807532],\n",
       "         [0.81830279],\n",
       "         [0.81830279],\n",
       "         [0.85521172],\n",
       "         [0.85521172],\n",
       "         [0.73738833],\n",
       "         [0.73738833],\n",
       "         [0.46701408],\n",
       "         [0.46701408],\n",
       "         [0.92546707],\n",
       "         [0.92546707],\n",
       "         [0.9058755 ],\n",
       "         [0.9058755 ],\n",
       "         [0.5201882 ],\n",
       "         [0.5201882 ],\n",
       "         [0.75114285],\n",
       "         [0.75114285],\n",
       "         [0.31829783],\n",
       "         [0.31829783],\n",
       "         [0.11280046],\n",
       "         [0.11280046],\n",
       "         [0.94822901],\n",
       "         [0.94822901],\n",
       "         [0.31100343],\n",
       "         [0.31100343],\n",
       "         [0.1020223 ],\n",
       "         [0.1020223 ],\n",
       "         [0.44982505],\n",
       "         [0.44982505],\n",
       "         [0.97970674],\n",
       "         [0.97970674],\n",
       "         [0.99130611],\n",
       "         [0.99130611],\n",
       "         [0.00454052],\n",
       "         [0.00454052],\n",
       "         [0.13631607],\n",
       "         [0.13631607],\n",
       "         [0.70017343],\n",
       "         [0.70017343],\n",
       "         [0.70079552],\n",
       "         [0.70079552],\n",
       "         [0.82735985],\n",
       "         [0.82735985],\n",
       "         [0.70696742],\n",
       "         [0.70696742],\n",
       "         [0.27513259],\n",
       "         [0.27513259],\n",
       "         [0.77547128],\n",
       "         [0.77547128],\n",
       "         [0.11630162],\n",
       "         [0.11630162],\n",
       "         [0.77556546],\n",
       "         [0.77556546],\n",
       "         [0.76783646],\n",
       "         [0.76783646],\n",
       "         [0.37185354],\n",
       "         [0.37185354],\n",
       "         [0.71803089],\n",
       "         [0.71803089],\n",
       "         [0.6518694 ],\n",
       "         [0.6518694 ],\n",
       "         [0.78687577],\n",
       "         [0.78687577],\n",
       "         [0.19075698],\n",
       "         [0.19075698],\n",
       "         [0.96129916],\n",
       "         [0.96129916],\n",
       "         [0.22679381],\n",
       "         [0.22679381],\n",
       "         [0.90888578],\n",
       "         [0.90888578],\n",
       "         [0.54162475],\n",
       "         [0.54162475],\n",
       "         [0.85266894],\n",
       "         [0.85266894],\n",
       "         [0.42711877],\n",
       "         [0.42711877],\n",
       "         [0.95769154],\n",
       "         [0.95769154],\n",
       "         [0.12100131],\n",
       "         [0.12100131],\n",
       "         [0.76806239],\n",
       "         [0.76806239],\n",
       "         [0.43668349],\n",
       "         [0.43668349],\n",
       "         [0.52496527],\n",
       "         [0.52496527],\n",
       "         [0.21185584],\n",
       "         [0.21185584],\n",
       "         [0.53362023],\n",
       "         [0.53362023],\n",
       "         [0.95195297],\n",
       "         [0.95195297],\n",
       "         [0.3098987 ],\n",
       "         [0.3098987 ],\n",
       "         [0.46770525],\n",
       "         [0.46770525],\n",
       "         [0.72194638],\n",
       "         [0.72194638],\n",
       "         [0.78140206],\n",
       "         [0.78140206],\n",
       "         [0.46856212],\n",
       "         [0.46856212],\n",
       "         [0.22153727],\n",
       "         [0.22153727],\n",
       "         [0.16416205],\n",
       "         [0.16416205],\n",
       "         [0.78348187],\n",
       "         [0.78348187],\n",
       "         [0.23451651],\n",
       "         [0.23451651],\n",
       "         [0.85053405],\n",
       "         [0.85053405]])}}"
      ]
     },
     "execution_count": 1,
     "metadata": {},
     "output_type": "execute_result"
    }
   ],
   "source": [
    "ds = load_by_id(run_id_a)\n",
    "ds.get_parameter_data('x1')"
   ]
  },
  {
   "cell_type": "code",
   "execution_count": null,
   "metadata": {},
   "outputs": [],
   "source": []
  }
 ],
 "metadata": {
  "kernelspec": {
   "display_name": "Python 3",
   "language": "python",
   "name": "python3"
  },
  "language_info": {
   "codemirror_mode": {
    "name": "ipython",
    "version": 3
   },
   "file_extension": ".py",
   "mimetype": "text/x-python",
   "name": "python",
   "nbconvert_exporter": "python",
   "pygments_lexer": "ipython3",
   "version": "3.7.10"
  },
  "nbsphinx": {
   "timeout": 600
  },
  "toc": {
   "base_numbering": 1,
   "nav_menu": {},
   "number_sections": true,
   "sideBar": true,
   "skip_h1_title": false,
   "title_cell": "Table of Contents",
   "title_sidebar": "Contents",
   "toc_cell": false,
   "toc_position": {},
   "toc_section_display": true,
   "toc_window_display": false
  },
  "varInspector": {
   "cols": {
    "lenName": 16,
    "lenType": 16,
    "lenVar": 40
   },
   "kernels_config": {
    "python": {
     "delete_cmd_postfix": "",
     "delete_cmd_prefix": "del ",
     "library": "var_list.py",
     "varRefreshCmd": "print(var_dic_list())"
    },
    "r": {
     "delete_cmd_postfix": ") ",
     "delete_cmd_prefix": "rm(",
     "library": "var_list.r",
     "varRefreshCmd": "cat(var_dic_list()) "
    }
   },
   "types_to_exclude": [
    "module",
    "function",
    "builtin_function_or_method",
    "instance",
    "_Feature"
   ],
   "window_display": false
  }
 },
 "nbformat": 4,
 "nbformat_minor": 2
}
