{
 "cells": [
  {
   "cell_type": "markdown",
   "metadata": {},
   "source": [
    "# DataSet Performance\n",
    "\n",
    "This notebook shows the trade-off between inserting data into a database row-by-row and as binary blobs. Inserting the data row-by-row means that we have direct access to all the data and may perform queries directly on the values of the data. On the other hand, as we shall see, this is much slower than inserting the data directly as binary blobs."
   ]
  },
  {
   "cell_type": "markdown",
   "metadata": {},
   "source": [
    "First, we choose a new location for the database to ensure that we don't add a bunch of benchmarking data to the default one."
   ]
  },
  {
   "cell_type": "code",
   "execution_count": 1,
   "metadata": {
    "execution": {
     "iopub.execute_input": "2021-05-03T06:58:39.774106Z",
     "iopub.status.busy": "2021-05-03T06:58:39.773518Z",
     "iopub.status.idle": "2021-05-03T06:58:41.046294Z",
     "shell.execute_reply": "2021-05-03T06:58:41.046846Z"
    }
   },
   "outputs": [
    {
     "name": "stdout",
     "output_type": "stream",
     "text": [
      "Logging hadn't been started.\n",
      "Activating auto-logging. Current session state plus future input saved.\n",
      "Filename       : /home/runner/.qcodes/logs/command_history.log\n",
      "Mode           : append\n",
      "Output logging : True\n",
      "Raw input log  : False\n",
      "Timestamping   : True\n",
      "State          : active\n"
     ]
    },
    {
     "name": "stdout",
     "output_type": "stream",
     "text": [
      "Qcodes Logfile : /home/runner/.qcodes/logs/210503-4459-qcodes.log\n"
     ]
    }
   ],
   "source": [
    "import os\n",
    "cwd = os.getcwd()\n",
    "import qcodes as qc\n",
    "qc.config[\"core\"][\"db_location\"] = os.path.join(cwd, 'testing.db')\n"
   ]
  },
  {
   "cell_type": "code",
   "execution_count": 2,
   "metadata": {
    "execution": {
     "iopub.execute_input": "2021-05-03T06:58:41.057175Z",
     "iopub.status.busy": "2021-05-03T06:58:41.053678Z",
     "iopub.status.idle": "2021-05-03T06:58:41.260418Z",
     "shell.execute_reply": "2021-05-03T06:58:41.259535Z"
    }
   },
   "outputs": [],
   "source": [
    "%matplotlib inline\n",
    "import time\n",
    "import matplotlib.pyplot as plt\n",
    "import numpy as np\n",
    "\n",
    "import qcodes as qc\n",
    "from qcodes.instrument.parameter import ManualParameter\n",
    "from qcodes.dataset.experiment_container import (Experiment,\n",
    "                                                 load_last_experiment,\n",
    "                                                 new_experiment)\n",
    "from qcodes.dataset.sqlite.database import initialise_database\n",
    "from qcodes import load_or_create_experiment\n",
    "from qcodes.dataset.measurements import Measurement"
   ]
  },
  {
   "cell_type": "code",
   "execution_count": 3,
   "metadata": {
    "execution": {
     "iopub.execute_input": "2021-05-03T06:58:41.264768Z",
     "iopub.status.busy": "2021-05-03T06:58:41.264181Z",
     "iopub.status.idle": "2021-05-03T06:58:41.384712Z",
     "shell.execute_reply": "2021-05-03T06:58:41.384050Z"
    }
   },
   "outputs": [
    {
     "name": "stdout",
     "output_type": "stream",
     "text": [
      "\r",
      "0it [00:00, ?it/s]"
     ]
    },
    {
     "name": "stdout",
     "output_type": "stream",
     "text": [
      "\r",
      "Upgrading database; v0 -> v1: : 0it [00:00, ?it/s]"
     ]
    },
    {
     "name": "stdout",
     "output_type": "stream",
     "text": [
      "\r",
      "Upgrading database; v0 -> v1: : 0it [00:00, ?it/s]"
     ]
    },
    {
     "name": "stdout",
     "output_type": "stream",
     "text": [
      "\n",
      "\r",
      "  0%|          | 0/1 [00:00<?, ?it/s]"
     ]
    },
    {
     "name": "stdout",
     "output_type": "stream",
     "text": [
      "\r",
      "Upgrading database; v1 -> v2:   0%|          | 0/1 [00:00<?, ?it/s]"
     ]
    },
    {
     "name": "stdout",
     "output_type": "stream",
     "text": [
      "\r",
      "Upgrading database; v1 -> v2: 100%|██████████| 1/1 [00:00<00:00, 999.83it/s]"
     ]
    },
    {
     "name": "stdout",
     "output_type": "stream",
     "text": [
      "\n",
      "\r",
      "0it [00:00, ?it/s]"
     ]
    },
    {
     "name": "stdout",
     "output_type": "stream",
     "text": [
      "\r",
      "Upgrading database; v2 -> v3: : 0it [00:00, ?it/s]"
     ]
    },
    {
     "name": "stdout",
     "output_type": "stream",
     "text": [
      "\r",
      "Upgrading database; v2 -> v3: : 0it [00:00, ?it/s]"
     ]
    },
    {
     "name": "stdout",
     "output_type": "stream",
     "text": [
      "\n",
      "\r",
      "0it [00:00, ?it/s]"
     ]
    },
    {
     "name": "stdout",
     "output_type": "stream",
     "text": [
      "\r",
      "Upgrading database; v3 -> v4: : 0it [00:00, ?it/s]"
     ]
    },
    {
     "name": "stdout",
     "output_type": "stream",
     "text": [
      "\r",
      "Upgrading database; v3 -> v4: : 0it [00:00, ?it/s]"
     ]
    },
    {
     "name": "stdout",
     "output_type": "stream",
     "text": [
      "\n",
      "\r",
      "  0%|          | 0/1 [00:00<?, ?it/s]"
     ]
    },
    {
     "name": "stdout",
     "output_type": "stream",
     "text": [
      "\r",
      "Upgrading database; v4 -> v5:   0%|          | 0/1 [00:00<?, ?it/s]"
     ]
    },
    {
     "name": "stdout",
     "output_type": "stream",
     "text": [
      "\r",
      "Upgrading database; v4 -> v5: 100%|██████████| 1/1 [00:00<00:00, 615.45it/s]"
     ]
    },
    {
     "name": "stdout",
     "output_type": "stream",
     "text": [
      "\n",
      "\r",
      "0it [00:00, ?it/s]"
     ]
    },
    {
     "name": "stdout",
     "output_type": "stream",
     "text": [
      "\r",
      "Upgrading database; v5 -> v6: : 0it [00:00, ?it/s]"
     ]
    },
    {
     "name": "stdout",
     "output_type": "stream",
     "text": [
      "\r",
      "Upgrading database; v5 -> v6: : 0it [00:00, ?it/s]"
     ]
    },
    {
     "name": "stdout",
     "output_type": "stream",
     "text": [
      "\n",
      "\r",
      "  0%|          | 0/1 [00:00<?, ?it/s]"
     ]
    },
    {
     "name": "stdout",
     "output_type": "stream",
     "text": [
      "\r",
      "Upgrading database; v6 -> v7:   0%|          | 0/1 [00:00<?, ?it/s]"
     ]
    },
    {
     "name": "stdout",
     "output_type": "stream",
     "text": [
      "\r",
      "Upgrading database; v6 -> v7: 100%|██████████| 1/1 [00:00<00:00, 360.43it/s]"
     ]
    },
    {
     "name": "stdout",
     "output_type": "stream",
     "text": [
      "\n",
      "\r",
      "  0%|          | 0/1 [00:00<?, ?it/s]"
     ]
    },
    {
     "name": "stdout",
     "output_type": "stream",
     "text": [
      "\r",
      "Upgrading database; v7 -> v8:   0%|          | 0/1 [00:00<?, ?it/s]"
     ]
    },
    {
     "name": "stdout",
     "output_type": "stream",
     "text": [
      "\r",
      "Upgrading database; v7 -> v8: 100%|██████████| 1/1 [00:00<00:00, 759.70it/s]"
     ]
    },
    {
     "name": "stdout",
     "output_type": "stream",
     "text": [
      "\n",
      "\r",
      "  0%|          | 0/1 [00:00<?, ?it/s]"
     ]
    },
    {
     "name": "stdout",
     "output_type": "stream",
     "text": [
      "\r",
      "Upgrading database; v8 -> v9:   0%|          | 0/1 [00:00<?, ?it/s]"
     ]
    },
    {
     "name": "stdout",
     "output_type": "stream",
     "text": [
      "\r",
      "Upgrading database; v8 -> v9: 100%|██████████| 1/1 [00:00<00:00, 723.90it/s]"
     ]
    },
    {
     "name": "stdout",
     "output_type": "stream",
     "text": [
      "\n"
     ]
    }
   ],
   "source": [
    "initialise_database()\n",
    "exp = load_or_create_experiment(experiment_name='tutorial_exp', sample_name=\"no sample\")"
   ]
  },
  {
   "cell_type": "markdown",
   "metadata": {},
   "source": [
    "Here, we define a simple function to benchmark the time it takes to insert n points with either numeric or array data type.\n",
    "We will compare both the time used to call ``add_result`` and the time used for the full measurement."
   ]
  },
  {
   "cell_type": "code",
   "execution_count": 4,
   "metadata": {
    "execution": {
     "iopub.execute_input": "2021-05-03T06:58:41.395062Z",
     "iopub.status.busy": "2021-05-03T06:58:41.393056Z",
     "iopub.status.idle": "2021-05-03T06:58:41.397489Z",
     "shell.execute_reply": "2021-05-03T06:58:41.398139Z"
    }
   },
   "outputs": [],
   "source": [
    "def insert_data(paramtype, npoints, nreps=1):\n",
    "\n",
    "    meas = Measurement(exp=exp)\n",
    "\n",
    "    x1 = ManualParameter('x1')\n",
    "    x2 = ManualParameter('x2')\n",
    "    x3 = ManualParameter('x3')\n",
    "    y1 = ManualParameter('y1')\n",
    "    y2 = ManualParameter('y2')\n",
    "\n",
    "    meas.register_parameter(x1, paramtype=paramtype)\n",
    "    meas.register_parameter(x2, paramtype=paramtype)\n",
    "    meas.register_parameter(x3, paramtype=paramtype)\n",
    "    meas.register_parameter(y1, setpoints=[x1, x2, x3],\n",
    "                            paramtype=paramtype)\n",
    "    meas.register_parameter(y2, setpoints=[x1, x2, x3],\n",
    "                            paramtype=paramtype)\n",
    "    start = time.perf_counter()\n",
    "    with meas.run() as datasaver:\n",
    "        start_adding = time.perf_counter()\n",
    "        for i in range(nreps):\n",
    "            datasaver.add_result((x1, np.random.rand(npoints)),\n",
    "                                 (x2, np.random.rand(npoints)),\n",
    "                                 (x3, np.random.rand(npoints)),\n",
    "                                 (y1, np.random.rand(npoints)),\n",
    "                                 (y2, np.random.rand(npoints)))\n",
    "        stop_adding = time.perf_counter()\n",
    "        run_id = datasaver.run_id\n",
    "    stop = time.perf_counter()\n",
    "    tot_time = stop - start\n",
    "    add_time = stop_adding - start_adding\n",
    "    return tot_time, add_time, run_id"
   ]
  },
  {
   "cell_type": "markdown",
   "metadata": {},
   "source": [
    "## Comparison between numeric/array data and binary blob"
   ]
  },
  {
   "cell_type": "markdown",
   "metadata": {},
   "source": [
    "### Case1: Short experiment time"
   ]
  },
  {
   "cell_type": "code",
   "execution_count": 5,
   "metadata": {
    "execution": {
     "iopub.execute_input": "2021-05-03T06:58:41.406992Z",
     "iopub.status.busy": "2021-05-03T06:58:41.406289Z",
     "iopub.status.idle": "2021-05-03T06:58:42.256104Z",
     "shell.execute_reply": "2021-05-03T06:58:42.255354Z"
    }
   },
   "outputs": [
    {
     "name": "stdout",
     "output_type": "stream",
     "text": [
      "Starting experimental run with id: 1. \n",
      "Starting experimental run with id: 2. \n",
      "Starting experimental run with id: 3. \n",
      "Starting experimental run with id: 4. \n"
     ]
    },
    {
     "name": "stdout",
     "output_type": "stream",
     "text": [
      "Starting experimental run with id: 5. \n"
     ]
    },
    {
     "name": "stdout",
     "output_type": "stream",
     "text": [
      "Starting experimental run with id: 6. \n",
      "Starting experimental run with id: 7. \n"
     ]
    },
    {
     "name": "stdout",
     "output_type": "stream",
     "text": [
      "Starting experimental run with id: 8. \n",
      "Starting experimental run with id: 9. \n"
     ]
    },
    {
     "name": "stdout",
     "output_type": "stream",
     "text": [
      "Starting experimental run with id: 10. \n",
      "Starting experimental run with id: 11. \n"
     ]
    },
    {
     "name": "stdout",
     "output_type": "stream",
     "text": [
      "Starting experimental run with id: 12. \n",
      "Starting experimental run with id: 13. \n"
     ]
    },
    {
     "name": "stdout",
     "output_type": "stream",
     "text": [
      "Starting experimental run with id: 14. \n"
     ]
    }
   ],
   "source": [
    "sizes = [1,500,1000,2000,3000,4000,5000]\n",
    "t_numeric = []\n",
    "t_numeric_add = []\n",
    "t_array = []\n",
    "t_array_add = []\n",
    "for size in sizes:\n",
    "    tn, tna, run_id_n =  insert_data('numeric', size)\n",
    "    t_numeric.append(tn)\n",
    "    t_numeric_add.append(tna)\n",
    "\n",
    "    ta, taa, run_id_a =  insert_data('array', size)\n",
    "    t_array.append(ta)\n",
    "    t_array_add.append(taa)"
   ]
  },
  {
   "cell_type": "code",
   "execution_count": 6,
   "metadata": {
    "execution": {
     "iopub.execute_input": "2021-05-03T06:58:42.277258Z",
     "iopub.status.busy": "2021-05-03T06:58:42.276668Z",
     "iopub.status.idle": "2021-05-03T06:58:42.518367Z",
     "shell.execute_reply": "2021-05-03T06:58:42.518859Z"
    }
   },
   "outputs": [
    {
     "data": {
      "image/png": "[encoded data removed]",
      "text/plain": [
       "<Figure size 432x288 with 1 Axes>"
      ]
     },
     "metadata": {
      "needs_background": "light"
     },
     "output_type": "display_data"
    }
   ],
   "source": [
    "fig, ax = plt.subplots(1,1)\n",
    "ax.plot(sizes, t_numeric, 'o-', label='Inserting row-by-row')\n",
    "ax.plot(sizes, t_numeric_add, 'o-', label='Inserting row-by-row: add_result only')\n",
    "ax.plot(sizes, t_array, 'd-', label='Inserting as binary blob')\n",
    "ax.plot(sizes, t_array_add, 'd-', label='Inserting as binary blob: add_result only')\n",
    "ax.legend()\n",
    "ax.set_xlabel('Array length')\n",
    "ax.set_ylabel('Time (s)')\n",
    "fig.tight_layout()"
   ]
  },
  {
   "cell_type": "markdown",
   "metadata": {},
   "source": [
    "As shown in the latter figure, the time to setup and and close the experiment is approximately 0.4 sec. In case of small array sizes, the difference between inserting values of data as arrays and inserting them row-by-row is relatively unimportant. At larger array sizes, i.e. above 10000 points, the cost of writing data as individual datapoints starts to become important.\n"
   ]
  },
  {
   "cell_type": "markdown",
   "metadata": {},
   "source": [
    "### Case2: Long experiment time "
   ]
  },
  {
   "cell_type": "code",
   "execution_count": 7,
   "metadata": {
    "execution": {
     "iopub.execute_input": "2021-05-03T06:58:42.584249Z",
     "iopub.status.busy": "2021-05-03T06:58:42.528223Z",
     "iopub.status.idle": "2021-05-03T06:59:40.352377Z",
     "shell.execute_reply": "2021-05-03T06:59:40.350909Z"
    }
   },
   "outputs": [
    {
     "name": "stdout",
     "output_type": "stream",
     "text": [
      "Starting experimental run with id: 15. \n",
      "Starting experimental run with id: 16. \n"
     ]
    },
    {
     "name": "stdout",
     "output_type": "stream",
     "text": [
      "Starting experimental run with id: 17. \n"
     ]
    },
    {
     "name": "stdout",
     "output_type": "stream",
     "text": [
      "Starting experimental run with id: 18. \n"
     ]
    },
    {
     "name": "stdout",
     "output_type": "stream",
     "text": [
      "Starting experimental run with id: 19. \n"
     ]
    },
    {
     "name": "stdout",
     "output_type": "stream",
     "text": [
      "Starting experimental run with id: 20. \n"
     ]
    },
    {
     "name": "stdout",
     "output_type": "stream",
     "text": [
      "Starting experimental run with id: 21. \n"
     ]
    },
    {
     "name": "stdout",
     "output_type": "stream",
     "text": [
      "Starting experimental run with id: 22. \n"
     ]
    },
    {
     "name": "stdout",
     "output_type": "stream",
     "text": [
      "Starting experimental run with id: 23. \n"
     ]
    },
    {
     "name": "stdout",
     "output_type": "stream",
     "text": [
      "Starting experimental run with id: 24. \n"
     ]
    },
    {
     "name": "stdout",
     "output_type": "stream",
     "text": [
      "Starting experimental run with id: 25. \n"
     ]
    },
    {
     "name": "stdout",
     "output_type": "stream",
     "text": [
      "Starting experimental run with id: 26. \n"
     ]
    },
    {
     "name": "stdout",
     "output_type": "stream",
     "text": [
      "Starting experimental run with id: 27. \n"
     ]
    },
    {
     "name": "stdout",
     "output_type": "stream",
     "text": [
      "Starting experimental run with id: 28. \n"
     ]
    }
   ],
   "source": [
    "sizes = [1,500,1000,2000,3000,4000,5000]\n",
    "nreps = 100\n",
    "t_numeric = []\n",
    "t_numeric_add = []\n",
    "t_numeric_run_ids = []\n",
    "t_array = []\n",
    "t_array_add = []\n",
    "t_array_run_ids = []\n",
    "for size in sizes:\n",
    "    tn, tna, run_id_n =  insert_data('numeric', size, nreps=nreps)\n",
    "    t_numeric.append(tn)\n",
    "    t_numeric_add.append(tna)\n",
    "    t_numeric_run_ids.append(run_id_n)\n",
    "\n",
    "    ta, taa, run_id_a =  insert_data('array', size, nreps=nreps)\n",
    "    t_array.append(ta)\n",
    "    t_array_add.append(taa)\n",
    "    t_array_run_ids.append(run_id_a)"
   ]
  },
  {
   "cell_type": "code",
   "execution_count": 8,
   "metadata": {
    "execution": {
     "iopub.execute_input": "2021-05-03T06:59:40.376065Z",
     "iopub.status.busy": "2021-05-03T06:59:40.375418Z",
     "iopub.status.idle": "2021-05-03T06:59:40.588031Z",
     "shell.execute_reply": "2021-05-03T06:59:40.587174Z"
    },
    "scrolled": true
   },
   "outputs": [
    {
     "data": {
      "image/png": "[encoded data removed]",
      "text/plain": [
       "<Figure size 432x288 with 1 Axes>"
      ]
     },
     "metadata": {
      "needs_background": "light"
     },
     "output_type": "display_data"
    }
   ],
   "source": [
    "fig, ax = plt.subplots(1,1)\n",
    "ax.plot(sizes, t_numeric, 'o-', label='Inserting row-by-row')\n",
    "ax.plot(sizes, t_numeric_add, 'o-', label='Inserting row-by-row: add_result only')\n",
    "ax.plot(sizes, t_array, 'd-', label='Inserting as binary blob')\n",
    "ax.plot(sizes, t_array_add, 'd-', label='Inserting as binary blob: add_result only')\n",
    "ax.legend()\n",
    "ax.set_xlabel('Array length')\n",
    "ax.set_ylabel('Time (s)')\n",
    "fig.tight_layout()"
   ]
  },
  {
   "cell_type": "markdown",
   "metadata": {},
   "source": [
    "However, as we increase the length of the experiment, as seen here by repeating the insertion 100 times, we see a big difference between inserting values of the data row-by-row and inserting it as a binary blob."
   ]
  },
  {
   "cell_type": "markdown",
   "metadata": {},
   "source": [
    "## Loading the data "
   ]
  },
  {
   "cell_type": "code",
   "execution_count": 9,
   "metadata": {
    "execution": {
     "iopub.execute_input": "2021-05-03T06:59:40.592532Z",
     "iopub.status.busy": "2021-05-03T06:59:40.591862Z",
     "iopub.status.idle": "2021-05-03T06:59:40.594439Z",
     "shell.execute_reply": "2021-05-03T06:59:40.593929Z"
    }
   },
   "outputs": [],
   "source": [
    "from qcodes.dataset.data_set import load_by_id"
   ]
  },
  {
   "cell_type": "markdown",
   "metadata": {},
   "source": [
    "As usual you can load the data by using the ``load_by_id`` function but you will notice that the different storage methods\n",
    "are reflected in shape of the data as it is retrieved. "
   ]
  },
  {
   "cell_type": "code",
   "execution_count": 10,
   "metadata": {
    "execution": {
     "iopub.execute_input": "2021-05-03T06:59:40.598118Z",
     "iopub.status.busy": "2021-05-03T06:59:40.597475Z",
     "iopub.status.idle": "2021-05-03T06:59:40.601634Z",
     "shell.execute_reply": "2021-05-03T06:59:40.602101Z"
    }
   },
   "outputs": [],
   "source": [
    "run_id_n = t_numeric_run_ids[0]\n",
    "run_id_a = t_array_run_ids[0]"
   ]
  },
  {
   "cell_type": "code",
   "execution_count": 11,
   "metadata": {
    "execution": {
     "iopub.execute_input": "2021-05-03T06:59:40.608551Z",
     "iopub.status.busy": "2021-05-03T06:59:40.607931Z",
     "iopub.status.idle": "2021-05-03T06:59:40.616920Z",
     "shell.execute_reply": "2021-05-03T06:59:40.617578Z"
    },
    "scrolled": true
   },
   "outputs": [
    {
     "data": {
      "text/plain": [
       "{'x1': {'x1': array([0.17933412, 0.17933412, 0.17721398, 0.17721398, 0.38935668,\n",
       "         0.38935668, 0.20322164, 0.20322164, 0.70218515, 0.70218515,\n",
       "         0.65744592, 0.65744592, 0.89929394, 0.89929394, 0.70085425,\n",
       "         0.70085425, 0.92992212, 0.92992212, 0.66210427, 0.66210427,\n",
       "         0.43498605, 0.43498605, 0.85907458, 0.85907458, 0.56058588,\n",
       "         0.56058588, 0.51160305, 0.51160305, 0.73636211, 0.73636211,\n",
       "         0.68502323, 0.68502323, 0.62288088, 0.62288088, 0.45924928,\n",
       "         0.45924928, 0.15717992, 0.15717992, 0.12231553, 0.12231553,\n",
       "         0.14968583, 0.14968583, 0.87225007, 0.87225007, 0.65044759,\n",
       "         0.65044759, 0.39334254, 0.39334254, 0.49105466, 0.49105466,\n",
       "         0.18467841, 0.18467841, 0.17620132, 0.17620132, 0.62860097,\n",
       "         0.62860097, 0.74223757, 0.74223757, 0.24529495, 0.24529495,\n",
       "         0.60218641, 0.60218641, 0.26156659, 0.26156659, 0.15197255,\n",
       "         0.15197255, 0.15577939, 0.15577939, 0.17519541, 0.17519541,\n",
       "         0.20610805, 0.20610805, 0.58938831, 0.58938831, 0.91831627,\n",
       "         0.91831627, 0.1984693 , 0.1984693 , 0.35153053, 0.35153053,\n",
       "         0.05677951, 0.05677951, 0.9272662 , 0.9272662 , 0.47571241,\n",
       "         0.47571241, 0.07183904, 0.07183904, 0.85070435, 0.85070435,\n",
       "         0.49580556, 0.49580556, 0.49424329, 0.49424329, 0.15490448,\n",
       "         0.15490448, 0.65528313, 0.65528313, 0.77955146, 0.77955146,\n",
       "         0.00135006, 0.00135006, 0.16326143, 0.16326143, 0.5980749 ,\n",
       "         0.5980749 , 0.06095506, 0.06095506, 0.86737182, 0.86737182,\n",
       "         0.29844024, 0.29844024, 0.6211796 , 0.6211796 , 0.19202082,\n",
       "         0.19202082, 0.0308326 , 0.0308326 , 0.80537647, 0.80537647,\n",
       "         0.97250473, 0.97250473, 0.7232737 , 0.7232737 , 0.68661735,\n",
       "         0.68661735, 0.30677672, 0.30677672, 0.20590644, 0.20590644,\n",
       "         0.81393482, 0.81393482, 0.29714336, 0.29714336, 0.61055273,\n",
       "         0.61055273, 0.17649427, 0.17649427, 0.53430061, 0.53430061,\n",
       "         0.30324065, 0.30324065, 0.22413803, 0.22413803, 0.92942795,\n",
       "         0.92942795, 0.77894232, 0.77894232, 0.19170519, 0.19170519,\n",
       "         0.49648655, 0.49648655, 0.63766681, 0.63766681, 0.78010333,\n",
       "         0.78010333, 0.54609311, 0.54609311, 0.01125566, 0.01125566,\n",
       "         0.01920669, 0.01920669, 0.04541486, 0.04541486, 0.64607651,\n",
       "         0.64607651, 0.45713965, 0.45713965, 0.69739104, 0.69739104,\n",
       "         0.68884536, 0.68884536, 0.32418905, 0.32418905, 0.98992352,\n",
       "         0.98992352, 0.25129254, 0.25129254, 0.45640189, 0.45640189,\n",
       "         0.11257526, 0.11257526, 0.10477267, 0.10477267, 0.2954095 ,\n",
       "         0.2954095 , 0.70459256, 0.70459256, 0.13800362, 0.13800362,\n",
       "         0.29356994, 0.29356994, 0.02658186, 0.02658186, 0.7221513 ,\n",
       "         0.7221513 , 0.54618675, 0.54618675, 0.60258791, 0.60258791])}}"
      ]
     },
     "execution_count": 1,
     "metadata": {},
     "output_type": "execute_result"
    }
   ],
   "source": [
    "ds = load_by_id(run_id_n)\n",
    "ds.get_parameter_data('x1')"
   ]
  },
  {
   "cell_type": "markdown",
   "metadata": {},
   "source": [
    "And a dataset stored as binary arrays"
   ]
  },
  {
   "cell_type": "code",
   "execution_count": 12,
   "metadata": {
    "execution": {
     "iopub.execute_input": "2021-05-03T06:59:40.621711Z",
     "iopub.status.busy": "2021-05-03T06:59:40.621061Z",
     "iopub.status.idle": "2021-05-03T06:59:40.692505Z",
     "shell.execute_reply": "2021-05-03T06:59:40.691961Z"
    },
    "scrolled": true
   },
   "outputs": [
    {
     "data": {
      "text/plain": [
       "{'x1': {'x1': array([[0.85387927],\n",
       "         [0.85387927],\n",
       "         [0.70008034],\n",
       "         [0.70008034],\n",
       "         [0.73716399],\n",
       "         [0.73716399],\n",
       "         [0.96933386],\n",
       "         [0.96933386],\n",
       "         [0.3255223 ],\n",
       "         [0.3255223 ],\n",
       "         [0.17052855],\n",
       "         [0.17052855],\n",
       "         [0.33344522],\n",
       "         [0.33344522],\n",
       "         [0.34241763],\n",
       "         [0.34241763],\n",
       "         [0.25990943],\n",
       "         [0.25990943],\n",
       "         [0.76465749],\n",
       "         [0.76465749],\n",
       "         [0.77455486],\n",
       "         [0.77455486],\n",
       "         [0.15444943],\n",
       "         [0.15444943],\n",
       "         [0.73118741],\n",
       "         [0.73118741],\n",
       "         [0.58101347],\n",
       "         [0.58101347],\n",
       "         [0.19022845],\n",
       "         [0.19022845],\n",
       "         [0.59315629],\n",
       "         [0.59315629],\n",
       "         [0.50927526],\n",
       "         [0.50927526],\n",
       "         [0.25635584],\n",
       "         [0.25635584],\n",
       "         [0.71987858],\n",
       "         [0.71987858],\n",
       "         [0.89936785],\n",
       "         [0.89936785],\n",
       "         [0.74019562],\n",
       "         [0.74019562],\n",
       "         [0.72093271],\n",
       "         [0.72093271],\n",
       "         [0.0127683 ],\n",
       "         [0.0127683 ],\n",
       "         [0.85661308],\n",
       "         [0.85661308],\n",
       "         [0.58912968],\n",
       "         [0.58912968],\n",
       "         [0.80812014],\n",
       "         [0.80812014],\n",
       "         [0.49333916],\n",
       "         [0.49333916],\n",
       "         [0.62191771],\n",
       "         [0.62191771],\n",
       "         [0.59355081],\n",
       "         [0.59355081],\n",
       "         [0.93742271],\n",
       "         [0.93742271],\n",
       "         [0.16557347],\n",
       "         [0.16557347],\n",
       "         [0.50341394],\n",
       "         [0.50341394],\n",
       "         [0.87276568],\n",
       "         [0.87276568],\n",
       "         [0.47826751],\n",
       "         [0.47826751],\n",
       "         [0.63050951],\n",
       "         [0.63050951],\n",
       "         [0.86791749],\n",
       "         [0.86791749],\n",
       "         [0.86357231],\n",
       "         [0.86357231],\n",
       "         [0.31900869],\n",
       "         [0.31900869],\n",
       "         [0.78321778],\n",
       "         [0.78321778],\n",
       "         [0.51189706],\n",
       "         [0.51189706],\n",
       "         [0.29393253],\n",
       "         [0.29393253],\n",
       "         [0.80628958],\n",
       "         [0.80628958],\n",
       "         [0.04207647],\n",
       "         [0.04207647],\n",
       "         [0.58696498],\n",
       "         [0.58696498],\n",
       "         [0.31656293],\n",
       "         [0.31656293],\n",
       "         [0.43178288],\n",
       "         [0.43178288],\n",
       "         [0.82801712],\n",
       "         [0.82801712],\n",
       "         [0.17449892],\n",
       "         [0.17449892],\n",
       "         [0.62571543],\n",
       "         [0.62571543],\n",
       "         [0.19810881],\n",
       "         [0.19810881],\n",
       "         [0.73439945],\n",
       "         [0.73439945],\n",
       "         [0.10245934],\n",
       "         [0.10245934],\n",
       "         [0.55777346],\n",
       "         [0.55777346],\n",
       "         [0.437248  ],\n",
       "         [0.437248  ],\n",
       "         [0.8897476 ],\n",
       "         [0.8897476 ],\n",
       "         [0.28437632],\n",
       "         [0.28437632],\n",
       "         [0.61128396],\n",
       "         [0.61128396],\n",
       "         [0.54378252],\n",
       "         [0.54378252],\n",
       "         [0.64138795],\n",
       "         [0.64138795],\n",
       "         [0.05119904],\n",
       "         [0.05119904],\n",
       "         [0.15093106],\n",
       "         [0.15093106],\n",
       "         [0.09765347],\n",
       "         [0.09765347],\n",
       "         [0.48898105],\n",
       "         [0.48898105],\n",
       "         [0.79987779],\n",
       "         [0.79987779],\n",
       "         [0.17936784],\n",
       "         [0.17936784],\n",
       "         [0.05481129],\n",
       "         [0.05481129],\n",
       "         [0.00578541],\n",
       "         [0.00578541],\n",
       "         [0.54742424],\n",
       "         [0.54742424],\n",
       "         [0.54965949],\n",
       "         [0.54965949],\n",
       "         [0.03295257],\n",
       "         [0.03295257],\n",
       "         [0.80610671],\n",
       "         [0.80610671],\n",
       "         [0.48718211],\n",
       "         [0.48718211],\n",
       "         [0.0296539 ],\n",
       "         [0.0296539 ],\n",
       "         [0.81145751],\n",
       "         [0.81145751],\n",
       "         [0.35041592],\n",
       "         [0.35041592],\n",
       "         [0.031073  ],\n",
       "         [0.031073  ],\n",
       "         [0.5057637 ],\n",
       "         [0.5057637 ],\n",
       "         [0.21544045],\n",
       "         [0.21544045],\n",
       "         [0.04739024],\n",
       "         [0.04739024],\n",
       "         [0.97420524],\n",
       "         [0.97420524],\n",
       "         [0.12719315],\n",
       "         [0.12719315],\n",
       "         [0.26454865],\n",
       "         [0.26454865],\n",
       "         [0.2394754 ],\n",
       "         [0.2394754 ],\n",
       "         [0.92148859],\n",
       "         [0.92148859],\n",
       "         [0.47088454],\n",
       "         [0.47088454],\n",
       "         [0.54415946],\n",
       "         [0.54415946],\n",
       "         [0.12634108],\n",
       "         [0.12634108],\n",
       "         [0.49643959],\n",
       "         [0.49643959],\n",
       "         [0.87427384],\n",
       "         [0.87427384],\n",
       "         [0.59261211],\n",
       "         [0.59261211],\n",
       "         [0.67178251],\n",
       "         [0.67178251],\n",
       "         [0.84788729],\n",
       "         [0.84788729],\n",
       "         [0.9756775 ],\n",
       "         [0.9756775 ],\n",
       "         [0.82160681],\n",
       "         [0.82160681],\n",
       "         [0.37638744],\n",
       "         [0.37638744],\n",
       "         [0.13281089],\n",
       "         [0.13281089],\n",
       "         [0.00766193],\n",
       "         [0.00766193],\n",
       "         [0.64486533],\n",
       "         [0.64486533],\n",
       "         [0.03586755],\n",
       "         [0.03586755],\n",
       "         [0.94986262],\n",
       "         [0.94986262]])}}"
      ]
     },
     "execution_count": 1,
     "metadata": {},
     "output_type": "execute_result"
    }
   ],
   "source": [
    "ds = load_by_id(run_id_a)\n",
    "ds.get_parameter_data('x1')"
   ]
  },
  {
   "cell_type": "code",
   "execution_count": null,
   "metadata": {},
   "outputs": [],
   "source": []
  }
 ],
 "metadata": {
  "kernelspec": {
   "display_name": "Python 3",
   "language": "python",
   "name": "python3"
  },
  "language_info": {
   "codemirror_mode": {
    "name": "ipython",
    "version": 3
   },
   "file_extension": ".py",
   "mimetype": "text/x-python",
   "name": "python",
   "nbconvert_exporter": "python",
   "pygments_lexer": "ipython3",
   "version": "3.7.10"
  },
  "nbsphinx": {
   "timeout": 600
  },
  "toc": {
   "base_numbering": 1,
   "nav_menu": {},
   "number_sections": true,
   "sideBar": true,
   "skip_h1_title": false,
   "title_cell": "Table of Contents",
   "title_sidebar": "Contents",
   "toc_cell": false,
   "toc_position": {},
   "toc_section_display": true,
   "toc_window_display": false
  },
  "varInspector": {
   "cols": {
    "lenName": 16,
    "lenType": 16,
    "lenVar": 40
   },
   "kernels_config": {
    "python": {
     "delete_cmd_postfix": "",
     "delete_cmd_prefix": "del ",
     "library": "var_list.py",
     "varRefreshCmd": "print(var_dic_list())"
    },
    "r": {
     "delete_cmd_postfix": ") ",
     "delete_cmd_prefix": "rm(",
     "library": "var_list.r",
     "varRefreshCmd": "cat(var_dic_list()) "
    }
   },
   "types_to_exclude": [
    "module",
    "function",
    "builtin_function_or_method",
    "instance",
    "_Feature"
   ],
   "window_display": false
  }
 },
 "nbformat": 4,
 "nbformat_minor": 4
}
