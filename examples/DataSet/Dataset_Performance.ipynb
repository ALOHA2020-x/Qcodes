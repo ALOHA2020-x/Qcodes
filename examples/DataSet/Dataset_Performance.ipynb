{
 "cells": [
  {
   "cell_type": "markdown",
   "metadata": {},
   "source": [
    "# DataSet Performance\n",
    "\n",
    "This notebook shows the trade-off between inserting data into a database row-by-row and as binary blobs. Inserting the data row-by-row means that we have direct access to all the data and may perform queries directly on the values of the data. On the other hand, as we shall see, this is much slower than inserting the data directly as binary blobs."
   ]
  },
  {
   "cell_type": "markdown",
   "metadata": {},
   "source": [
    "First, we choose a new location for the database to ensure that we don't add a bunch of benchmarking data to the default one."
   ]
  },
  {
   "cell_type": "code",
   "execution_count": 1,
   "metadata": {
    "execution": {
     "iopub.execute_input": "2021-05-17T06:42:15.913189Z",
     "iopub.status.busy": "2021-05-17T06:42:15.912535Z",
     "iopub.status.idle": "2021-05-17T06:42:17.282222Z",
     "shell.execute_reply": "2021-05-17T06:42:17.281407Z"
    }
   },
   "outputs": [
    {
     "name": "stdout",
     "output_type": "stream",
     "text": [
      "Logging hadn't been started.\n",
      "Activating auto-logging. Current session state plus future input saved.\n",
      "Filename       : /home/runner/.qcodes/logs/command_history.log\n",
      "Mode           : append\n",
      "Output logging : True\n",
      "Raw input log  : False\n",
      "Timestamping   : True\n",
      "State          : active\n"
     ]
    },
    {
     "name": "stdout",
     "output_type": "stream",
     "text": [
      "Qcodes Logfile : /home/runner/.qcodes/logs/210517-4871-qcodes.log\n"
     ]
    }
   ],
   "source": [
    "import os\n",
    "cwd = os.getcwd()\n",
    "import qcodes as qc\n",
    "qc.config[\"core\"][\"db_location\"] = os.path.join(cwd, 'testing.db')\n"
   ]
  },
  {
   "cell_type": "code",
   "execution_count": 2,
   "metadata": {
    "execution": {
     "iopub.execute_input": "2021-05-17T06:42:17.289187Z",
     "iopub.status.busy": "2021-05-17T06:42:17.288482Z",
     "iopub.status.idle": "2021-05-17T06:42:17.524273Z",
     "shell.execute_reply": "2021-05-17T06:42:17.523231Z"
    }
   },
   "outputs": [],
   "source": [
    "%matplotlib inline\n",
    "import time\n",
    "import matplotlib.pyplot as plt\n",
    "import numpy as np\n",
    "\n",
    "import qcodes as qc\n",
    "from qcodes.instrument.parameter import ManualParameter\n",
    "from qcodes.dataset.experiment_container import (Experiment,\n",
    "                                                 load_last_experiment,\n",
    "                                                 new_experiment)\n",
    "from qcodes.dataset.sqlite.database import initialise_database\n",
    "from qcodes import load_or_create_experiment\n",
    "from qcodes.dataset.measurements import Measurement"
   ]
  },
  {
   "cell_type": "code",
   "execution_count": 3,
   "metadata": {
    "execution": {
     "iopub.execute_input": "2021-05-17T06:42:17.528996Z",
     "iopub.status.busy": "2021-05-17T06:42:17.527963Z",
     "iopub.status.idle": "2021-05-17T06:42:17.601203Z",
     "shell.execute_reply": "2021-05-17T06:42:17.600570Z"
    }
   },
   "outputs": [
    {
     "name": "stdout",
     "output_type": "stream",
     "text": [
      "\r",
      "0it [00:00, ?it/s]"
     ]
    },
    {
     "name": "stdout",
     "output_type": "stream",
     "text": [
      "\r",
      "Upgrading database; v0 -> v1: : 0it [00:00, ?it/s]"
     ]
    },
    {
     "name": "stdout",
     "output_type": "stream",
     "text": [
      "\r",
      "Upgrading database; v0 -> v1: : 0it [00:00, ?it/s]"
     ]
    },
    {
     "name": "stdout",
     "output_type": "stream",
     "text": [
      "\n",
      "\r",
      "  0%|          | 0/1 [00:00<?, ?it/s]"
     ]
    },
    {
     "name": "stdout",
     "output_type": "stream",
     "text": [
      "\r",
      "Upgrading database; v1 -> v2:   0%|          | 0/1 [00:00<?, ?it/s]"
     ]
    },
    {
     "name": "stdout",
     "output_type": "stream",
     "text": [
      "\r",
      "Upgrading database; v1 -> v2: 100%|██████████| 1/1 [00:00<00:00, 486.69it/s]"
     ]
    },
    {
     "name": "stdout",
     "output_type": "stream",
     "text": [
      "\n",
      "\r",
      "0it [00:00, ?it/s]"
     ]
    },
    {
     "name": "stdout",
     "output_type": "stream",
     "text": [
      "\r",
      "Upgrading database; v2 -> v3: : 0it [00:00, ?it/s]"
     ]
    },
    {
     "name": "stdout",
     "output_type": "stream",
     "text": [
      "\r",
      "Upgrading database; v2 -> v3: : 0it [00:00, ?it/s]"
     ]
    },
    {
     "name": "stdout",
     "output_type": "stream",
     "text": [
      "\n",
      "\r",
      "0it [00:00, ?it/s]"
     ]
    },
    {
     "name": "stdout",
     "output_type": "stream",
     "text": [
      "\r",
      "Upgrading database; v3 -> v4: : 0it [00:00, ?it/s]"
     ]
    },
    {
     "name": "stdout",
     "output_type": "stream",
     "text": [
      "\r",
      "Upgrading database; v3 -> v4: : 0it [00:00, ?it/s]"
     ]
    },
    {
     "name": "stdout",
     "output_type": "stream",
     "text": [
      "\n",
      "\r",
      "  0%|          | 0/1 [00:00<?, ?it/s]"
     ]
    },
    {
     "name": "stdout",
     "output_type": "stream",
     "text": [
      "\r",
      "Upgrading database; v4 -> v5:   0%|          | 0/1 [00:00<?, ?it/s]"
     ]
    },
    {
     "name": "stdout",
     "output_type": "stream",
     "text": [
      "\r",
      "Upgrading database; v4 -> v5: 100%|██████████| 1/1 [00:00<00:00, 494.84it/s]"
     ]
    },
    {
     "name": "stdout",
     "output_type": "stream",
     "text": [
      "\n",
      "\r",
      "0it [00:00, ?it/s]"
     ]
    },
    {
     "name": "stdout",
     "output_type": "stream",
     "text": [
      "\r",
      "Upgrading database; v5 -> v6: : 0it [00:00, ?it/s]"
     ]
    },
    {
     "name": "stdout",
     "output_type": "stream",
     "text": [
      "\r",
      "Upgrading database; v5 -> v6: : 0it [00:00, ?it/s]"
     ]
    },
    {
     "name": "stdout",
     "output_type": "stream",
     "text": [
      "\n",
      "\r",
      "  0%|          | 0/1 [00:00<?, ?it/s]"
     ]
    },
    {
     "name": "stdout",
     "output_type": "stream",
     "text": [
      "\r",
      "Upgrading database; v6 -> v7:   0%|          | 0/1 [00:00<?, ?it/s]"
     ]
    },
    {
     "name": "stdout",
     "output_type": "stream",
     "text": [
      "\r",
      "Upgrading database; v6 -> v7: 100%|██████████| 1/1 [00:00<00:00, 392.95it/s]"
     ]
    },
    {
     "name": "stdout",
     "output_type": "stream",
     "text": [
      "\n",
      "\r",
      "  0%|          | 0/1 [00:00<?, ?it/s]"
     ]
    },
    {
     "name": "stdout",
     "output_type": "stream",
     "text": [
      "\r",
      "Upgrading database; v7 -> v8:   0%|          | 0/1 [00:00<?, ?it/s]"
     ]
    },
    {
     "name": "stdout",
     "output_type": "stream",
     "text": [
      "\r",
      "Upgrading database; v7 -> v8: 100%|██████████| 1/1 [00:00<00:00, 570.81it/s]"
     ]
    },
    {
     "name": "stdout",
     "output_type": "stream",
     "text": [
      "\n",
      "\r",
      "  0%|          | 0/1 [00:00<?, ?it/s]"
     ]
    },
    {
     "name": "stdout",
     "output_type": "stream",
     "text": [
      "\r",
      "Upgrading database; v8 -> v9:   0%|          | 0/1 [00:00<?, ?it/s]"
     ]
    },
    {
     "name": "stdout",
     "output_type": "stream",
     "text": [
      "\r",
      "Upgrading database; v8 -> v9: 100%|██████████| 1/1 [00:00<00:00, 903.75it/s]"
     ]
    },
    {
     "name": "stdout",
     "output_type": "stream",
     "text": [
      "\n"
     ]
    }
   ],
   "source": [
    "initialise_database()\n",
    "exp = load_or_create_experiment(experiment_name='tutorial_exp', sample_name=\"no sample\")"
   ]
  },
  {
   "cell_type": "markdown",
   "metadata": {},
   "source": [
    "Here, we define a simple function to benchmark the time it takes to insert n points with either numeric or array data type.\n",
    "We will compare both the time used to call ``add_result`` and the time used for the full measurement."
   ]
  },
  {
   "cell_type": "code",
   "execution_count": 4,
   "metadata": {
    "execution": {
     "iopub.execute_input": "2021-05-17T06:42:17.612114Z",
     "iopub.status.busy": "2021-05-17T06:42:17.610643Z",
     "iopub.status.idle": "2021-05-17T06:42:17.612915Z",
     "shell.execute_reply": "2021-05-17T06:42:17.613449Z"
    }
   },
   "outputs": [],
   "source": [
    "def insert_data(paramtype, npoints, nreps=1):\n",
    "\n",
    "    meas = Measurement(exp=exp)\n",
    "\n",
    "    x1 = ManualParameter('x1')\n",
    "    x2 = ManualParameter('x2')\n",
    "    x3 = ManualParameter('x3')\n",
    "    y1 = ManualParameter('y1')\n",
    "    y2 = ManualParameter('y2')\n",
    "\n",
    "    meas.register_parameter(x1, paramtype=paramtype)\n",
    "    meas.register_parameter(x2, paramtype=paramtype)\n",
    "    meas.register_parameter(x3, paramtype=paramtype)\n",
    "    meas.register_parameter(y1, setpoints=[x1, x2, x3],\n",
    "                            paramtype=paramtype)\n",
    "    meas.register_parameter(y2, setpoints=[x1, x2, x3],\n",
    "                            paramtype=paramtype)\n",
    "    start = time.perf_counter()\n",
    "    with meas.run() as datasaver:\n",
    "        start_adding = time.perf_counter()\n",
    "        for i in range(nreps):\n",
    "            datasaver.add_result((x1, np.random.rand(npoints)),\n",
    "                                 (x2, np.random.rand(npoints)),\n",
    "                                 (x3, np.random.rand(npoints)),\n",
    "                                 (y1, np.random.rand(npoints)),\n",
    "                                 (y2, np.random.rand(npoints)))\n",
    "        stop_adding = time.perf_counter()\n",
    "        run_id = datasaver.run_id\n",
    "    stop = time.perf_counter()\n",
    "    tot_time = stop - start\n",
    "    add_time = stop_adding - start_adding\n",
    "    return tot_time, add_time, run_id"
   ]
  },
  {
   "cell_type": "markdown",
   "metadata": {},
   "source": [
    "## Comparison between numeric/array data and binary blob"
   ]
  },
  {
   "cell_type": "markdown",
   "metadata": {},
   "source": [
    "### Case1: Short experiment time"
   ]
  },
  {
   "cell_type": "code",
   "execution_count": 5,
   "metadata": {
    "execution": {
     "iopub.execute_input": "2021-05-17T06:42:17.621102Z",
     "iopub.status.busy": "2021-05-17T06:42:17.619388Z",
     "iopub.status.idle": "2021-05-17T06:42:18.503230Z",
     "shell.execute_reply": "2021-05-17T06:42:18.503751Z"
    }
   },
   "outputs": [
    {
     "name": "stdout",
     "output_type": "stream",
     "text": [
      "Starting experimental run with id: 1. \n",
      "Starting experimental run with id: 2. \n",
      "Starting experimental run with id: 3. \n"
     ]
    },
    {
     "name": "stdout",
     "output_type": "stream",
     "text": [
      "Starting experimental run with id: 4. \n"
     ]
    },
    {
     "name": "stdout",
     "output_type": "stream",
     "text": [
      "Starting experimental run with id: 5. \n"
     ]
    },
    {
     "name": "stdout",
     "output_type": "stream",
     "text": [
      "Starting experimental run with id: 6. \n"
     ]
    },
    {
     "name": "stdout",
     "output_type": "stream",
     "text": [
      "Starting experimental run with id: 7. \n",
      "Starting experimental run with id: 8. \n",
      "Starting experimental run with id: 9. \n"
     ]
    },
    {
     "name": "stdout",
     "output_type": "stream",
     "text": [
      "Starting experimental run with id: 10. \n",
      "Starting experimental run with id: 11. \n",
      "Starting experimental run with id: 12. \n"
     ]
    },
    {
     "name": "stdout",
     "output_type": "stream",
     "text": [
      "Starting experimental run with id: 13. \n"
     ]
    },
    {
     "name": "stdout",
     "output_type": "stream",
     "text": [
      "Starting experimental run with id: 14. \n"
     ]
    }
   ],
   "source": [
    "sizes = [1,500,1000,2000,3000,4000,5000]\n",
    "t_numeric = []\n",
    "t_numeric_add = []\n",
    "t_array = []\n",
    "t_array_add = []\n",
    "for size in sizes:\n",
    "    tn, tna, run_id_n =  insert_data('numeric', size)\n",
    "    t_numeric.append(tn)\n",
    "    t_numeric_add.append(tna)\n",
    "\n",
    "    ta, taa, run_id_a =  insert_data('array', size)\n",
    "    t_array.append(ta)\n",
    "    t_array_add.append(taa)"
   ]
  },
  {
   "cell_type": "code",
   "execution_count": 6,
   "metadata": {
    "execution": {
     "iopub.execute_input": "2021-05-17T06:42:18.525403Z",
     "iopub.status.busy": "2021-05-17T06:42:18.520631Z",
     "iopub.status.idle": "2021-05-17T06:42:18.806536Z",
     "shell.execute_reply": "2021-05-17T06:42:18.805522Z"
    }
   },
   "outputs": [
    {
     "data": {
      "image/png": "[encoded data removed]",
      "text/plain": [
       "<Figure size 432x288 with 1 Axes>"
      ]
     },
     "metadata": {
      "needs_background": "light"
     },
     "output_type": "display_data"
    }
   ],
   "source": [
    "fig, ax = plt.subplots(1,1)\n",
    "ax.plot(sizes, t_numeric, 'o-', label='Inserting row-by-row')\n",
    "ax.plot(sizes, t_numeric_add, 'o-', label='Inserting row-by-row: add_result only')\n",
    "ax.plot(sizes, t_array, 'd-', label='Inserting as binary blob')\n",
    "ax.plot(sizes, t_array_add, 'd-', label='Inserting as binary blob: add_result only')\n",
    "ax.legend()\n",
    "ax.set_xlabel('Array length')\n",
    "ax.set_ylabel('Time (s)')\n",
    "fig.tight_layout()"
   ]
  },
  {
   "cell_type": "markdown",
   "metadata": {},
   "source": [
    "As shown in the latter figure, the time to setup and and close the experiment is approximately 0.4 sec. In case of small array sizes, the difference between inserting values of data as arrays and inserting them row-by-row is relatively unimportant. At larger array sizes, i.e. above 10000 points, the cost of writing data as individual datapoints starts to become important.\n"
   ]
  },
  {
   "cell_type": "markdown",
   "metadata": {},
   "source": [
    "### Case2: Long experiment time "
   ]
  },
  {
   "cell_type": "code",
   "execution_count": 7,
   "metadata": {
    "execution": {
     "iopub.execute_input": "2021-05-17T06:42:18.866547Z",
     "iopub.status.busy": "2021-05-17T06:42:18.814031Z",
     "iopub.status.idle": "2021-05-17T06:43:19.320104Z",
     "shell.execute_reply": "2021-05-17T06:43:19.319340Z"
    }
   },
   "outputs": [
    {
     "name": "stdout",
     "output_type": "stream",
     "text": [
      "Starting experimental run with id: 15. \n",
      "Starting experimental run with id: 16. \n"
     ]
    },
    {
     "name": "stdout",
     "output_type": "stream",
     "text": [
      "Starting experimental run with id: 17. \n"
     ]
    },
    {
     "name": "stdout",
     "output_type": "stream",
     "text": [
      "Starting experimental run with id: 18. \n"
     ]
    },
    {
     "name": "stdout",
     "output_type": "stream",
     "text": [
      "Starting experimental run with id: 19. \n"
     ]
    },
    {
     "name": "stdout",
     "output_type": "stream",
     "text": [
      "Starting experimental run with id: 20. \n"
     ]
    },
    {
     "name": "stdout",
     "output_type": "stream",
     "text": [
      "Starting experimental run with id: 21. \n"
     ]
    },
    {
     "name": "stdout",
     "output_type": "stream",
     "text": [
      "Starting experimental run with id: 22. \n"
     ]
    },
    {
     "name": "stdout",
     "output_type": "stream",
     "text": [
      "Starting experimental run with id: 23. \n"
     ]
    },
    {
     "name": "stdout",
     "output_type": "stream",
     "text": [
      "Starting experimental run with id: 24. \n"
     ]
    },
    {
     "name": "stdout",
     "output_type": "stream",
     "text": [
      "Starting experimental run with id: 25. \n"
     ]
    },
    {
     "name": "stdout",
     "output_type": "stream",
     "text": [
      "Starting experimental run with id: 26. \n"
     ]
    },
    {
     "name": "stdout",
     "output_type": "stream",
     "text": [
      "Starting experimental run with id: 27. \n"
     ]
    },
    {
     "name": "stdout",
     "output_type": "stream",
     "text": [
      "Starting experimental run with id: 28. \n"
     ]
    }
   ],
   "source": [
    "sizes = [1,500,1000,2000,3000,4000,5000]\n",
    "nreps = 100\n",
    "t_numeric = []\n",
    "t_numeric_add = []\n",
    "t_numeric_run_ids = []\n",
    "t_array = []\n",
    "t_array_add = []\n",
    "t_array_run_ids = []\n",
    "for size in sizes:\n",
    "    tn, tna, run_id_n =  insert_data('numeric', size, nreps=nreps)\n",
    "    t_numeric.append(tn)\n",
    "    t_numeric_add.append(tna)\n",
    "    t_numeric_run_ids.append(run_id_n)\n",
    "\n",
    "    ta, taa, run_id_a =  insert_data('array', size, nreps=nreps)\n",
    "    t_array.append(ta)\n",
    "    t_array_add.append(taa)\n",
    "    t_array_run_ids.append(run_id_a)"
   ]
  },
  {
   "cell_type": "code",
   "execution_count": 8,
   "metadata": {
    "execution": {
     "iopub.execute_input": "2021-05-17T06:43:19.359171Z",
     "iopub.status.busy": "2021-05-17T06:43:19.356945Z",
     "iopub.status.idle": "2021-05-17T06:43:19.597688Z",
     "shell.execute_reply": "2021-05-17T06:43:19.598254Z"
    },
    "scrolled": true
   },
   "outputs": [
    {
     "data": {
      "image/png": "[encoded data removed]",
      "text/plain": [
       "<Figure size 432x288 with 1 Axes>"
      ]
     },
     "metadata": {
      "needs_background": "light"
     },
     "output_type": "display_data"
    }
   ],
   "source": [
    "fig, ax = plt.subplots(1,1)\n",
    "ax.plot(sizes, t_numeric, 'o-', label='Inserting row-by-row')\n",
    "ax.plot(sizes, t_numeric_add, 'o-', label='Inserting row-by-row: add_result only')\n",
    "ax.plot(sizes, t_array, 'd-', label='Inserting as binary blob')\n",
    "ax.plot(sizes, t_array_add, 'd-', label='Inserting as binary blob: add_result only')\n",
    "ax.legend()\n",
    "ax.set_xlabel('Array length')\n",
    "ax.set_ylabel('Time (s)')\n",
    "fig.tight_layout()"
   ]
  },
  {
   "cell_type": "markdown",
   "metadata": {},
   "source": [
    "However, as we increase the length of the experiment, as seen here by repeating the insertion 100 times, we see a big difference between inserting values of the data row-by-row and inserting it as a binary blob."
   ]
  },
  {
   "cell_type": "markdown",
   "metadata": {},
   "source": [
    "## Loading the data "
   ]
  },
  {
   "cell_type": "code",
   "execution_count": 9,
   "metadata": {
    "execution": {
     "iopub.execute_input": "2021-05-17T06:43:19.603113Z",
     "iopub.status.busy": "2021-05-17T06:43:19.602426Z",
     "iopub.status.idle": "2021-05-17T06:43:19.606753Z",
     "shell.execute_reply": "2021-05-17T06:43:19.606225Z"
    }
   },
   "outputs": [],
   "source": [
    "from qcodes.dataset.data_set import load_by_id"
   ]
  },
  {
   "cell_type": "markdown",
   "metadata": {},
   "source": [
    "As usual you can load the data by using the ``load_by_id`` function but you will notice that the different storage methods\n",
    "are reflected in shape of the data as it is retrieved. "
   ]
  },
  {
   "cell_type": "code",
   "execution_count": 10,
   "metadata": {
    "execution": {
     "iopub.execute_input": "2021-05-17T06:43:19.612144Z",
     "iopub.status.busy": "2021-05-17T06:43:19.610667Z",
     "iopub.status.idle": "2021-05-17T06:43:19.612951Z",
     "shell.execute_reply": "2021-05-17T06:43:19.613537Z"
    }
   },
   "outputs": [],
   "source": [
    "run_id_n = t_numeric_run_ids[0]\n",
    "run_id_a = t_array_run_ids[0]"
   ]
  },
  {
   "cell_type": "code",
   "execution_count": 11,
   "metadata": {
    "execution": {
     "iopub.execute_input": "2021-05-17T06:43:19.617454Z",
     "iopub.status.busy": "2021-05-17T06:43:19.616840Z",
     "iopub.status.idle": "2021-05-17T06:43:19.628658Z",
     "shell.execute_reply": "2021-05-17T06:43:19.629207Z"
    },
    "scrolled": true
   },
   "outputs": [
    {
     "data": {
      "text/plain": [
       "{'x1': {'x1': array([4.34301523e-01, 4.34301523e-01, 1.81270623e-01, 1.81270623e-01,\n",
       "         4.12696740e-01, 4.12696740e-01, 4.00216042e-01, 4.00216042e-01,\n",
       "         3.17993589e-01, 3.17993589e-01, 4.61885166e-01, 4.61885166e-01,\n",
       "         1.27669729e-01, 1.27669729e-01, 1.57072670e-01, 1.57072670e-01,\n",
       "         2.73447935e-01, 2.73447935e-01, 9.68589343e-01, 9.68589343e-01,\n",
       "         2.61598823e-01, 2.61598823e-01, 6.80411219e-01, 6.80411219e-01,\n",
       "         1.74700613e-01, 1.74700613e-01, 6.60185584e-01, 6.60185584e-01,\n",
       "         7.88287425e-01, 7.88287425e-01, 6.44072347e-01, 6.44072347e-01,\n",
       "         8.48537924e-01, 8.48537924e-01, 5.41089767e-02, 5.41089767e-02,\n",
       "         1.51285645e-02, 1.51285645e-02, 3.81150130e-01, 3.81150130e-01,\n",
       "         8.98162866e-01, 8.98162866e-01, 6.42335996e-01, 6.42335996e-01,\n",
       "         3.18599661e-02, 3.18599661e-02, 6.75362282e-01, 6.75362282e-01,\n",
       "         2.87941961e-01, 2.87941961e-01, 9.32683466e-01, 9.32683466e-01,\n",
       "         1.22041009e-01, 1.22041009e-01, 6.98980845e-01, 6.98980845e-01,\n",
       "         4.99481479e-01, 4.99481479e-01, 2.67997922e-01, 2.67997922e-01,\n",
       "         8.22410945e-02, 8.22410945e-02, 1.83750559e-01, 1.83750559e-01,\n",
       "         8.16347299e-01, 8.16347299e-01, 8.27920724e-01, 8.27920724e-01,\n",
       "         2.94402716e-01, 2.94402716e-01, 7.32458563e-01, 7.32458563e-01,\n",
       "         9.67648089e-01, 9.67648089e-01, 5.64189444e-01, 5.64189444e-01,\n",
       "         9.00814368e-01, 9.00814368e-01, 8.07600685e-01, 8.07600685e-01,\n",
       "         7.30050125e-01, 7.30050125e-01, 3.29238988e-01, 3.29238988e-01,\n",
       "         6.58211839e-01, 6.58211839e-01, 5.00828626e-02, 5.00828626e-02,\n",
       "         4.06431177e-01, 4.06431177e-01, 2.73471322e-01, 2.73471322e-01,\n",
       "         1.76715584e-02, 1.76715584e-02, 3.59336467e-01, 3.59336467e-01,\n",
       "         5.79745745e-01, 5.79745745e-01, 1.88086876e-01, 1.88086876e-01,\n",
       "         6.88413748e-01, 6.88413748e-01, 3.87335642e-01, 3.87335642e-01,\n",
       "         9.42004319e-01, 9.42004319e-01, 8.37040699e-01, 8.37040699e-01,\n",
       "         6.24702998e-02, 6.24702998e-02, 8.31361361e-01, 8.31361361e-01,\n",
       "         4.10113100e-01, 4.10113100e-01, 4.45643581e-01, 4.45643581e-01,\n",
       "         3.06118162e-01, 3.06118162e-01, 1.03691469e-02, 1.03691469e-02,\n",
       "         5.42357582e-02, 5.42357582e-02, 5.94506952e-01, 5.94506952e-01,\n",
       "         8.83510129e-01, 8.83510129e-01, 3.02279169e-01, 3.02279169e-01,\n",
       "         1.98129986e-01, 1.98129986e-01, 8.73079995e-01, 8.73079995e-01,\n",
       "         1.94928258e-01, 1.94928258e-01, 1.50644395e-01, 1.50644395e-01,\n",
       "         3.75430462e-01, 3.75430462e-01, 8.37975592e-02, 8.37975592e-02,\n",
       "         9.56197903e-01, 9.56197903e-01, 7.18854290e-01, 7.18854290e-01,\n",
       "         2.33307107e-01, 2.33307107e-01, 7.29882699e-01, 7.29882699e-01,\n",
       "         9.16312692e-01, 9.16312692e-01, 2.75694362e-01, 2.75694362e-01,\n",
       "         8.08956571e-01, 8.08956571e-01, 2.74099262e-01, 2.74099262e-01,\n",
       "         6.73686571e-01, 6.73686571e-01, 5.63929989e-01, 5.63929989e-01,\n",
       "         2.07869747e-01, 2.07869747e-01, 9.75004656e-01, 9.75004656e-01,\n",
       "         4.49978725e-01, 4.49978725e-01, 5.53070284e-01, 5.53070284e-01,\n",
       "         2.35102860e-04, 2.35102860e-04, 4.77344836e-02, 4.77344836e-02,\n",
       "         3.38396001e-01, 3.38396001e-01, 4.79604802e-01, 4.79604802e-01,\n",
       "         4.09290111e-01, 4.09290111e-01, 7.11592543e-01, 7.11592543e-01,\n",
       "         7.82658360e-02, 7.82658360e-02, 8.04401132e-01, 8.04401132e-01,\n",
       "         3.55581026e-01, 3.55581026e-01, 3.81767075e-01, 3.81767075e-01,\n",
       "         8.76340910e-01, 8.76340910e-01, 1.61967402e-01, 1.61967402e-01,\n",
       "         3.06748062e-01, 3.06748062e-01, 8.03234453e-01, 8.03234453e-01,\n",
       "         6.04801459e-01, 6.04801459e-01, 5.72956851e-01, 5.72956851e-01])}}"
      ]
     },
     "execution_count": 1,
     "metadata": {},
     "output_type": "execute_result"
    }
   ],
   "source": [
    "ds = load_by_id(run_id_n)\n",
    "ds.get_parameter_data('x1')"
   ]
  },
  {
   "cell_type": "markdown",
   "metadata": {},
   "source": [
    "And a dataset stored as binary arrays"
   ]
  },
  {
   "cell_type": "code",
   "execution_count": 12,
   "metadata": {
    "execution": {
     "iopub.execute_input": "2021-05-17T06:43:19.632948Z",
     "iopub.status.busy": "2021-05-17T06:43:19.632305Z",
     "iopub.status.idle": "2021-05-17T06:43:19.709225Z",
     "shell.execute_reply": "2021-05-17T06:43:19.709729Z"
    },
    "scrolled": true
   },
   "outputs": [
    {
     "data": {
      "text/plain": [
       "{'x1': {'x1': array([[0.82701891],\n",
       "         [0.82701891],\n",
       "         [0.54343384],\n",
       "         [0.54343384],\n",
       "         [0.24644037],\n",
       "         [0.24644037],\n",
       "         [0.83577816],\n",
       "         [0.83577816],\n",
       "         [0.52138457],\n",
       "         [0.52138457],\n",
       "         [0.40692939],\n",
       "         [0.40692939],\n",
       "         [0.91732425],\n",
       "         [0.91732425],\n",
       "         [0.60943238],\n",
       "         [0.60943238],\n",
       "         [0.20920087],\n",
       "         [0.20920087],\n",
       "         [0.72262721],\n",
       "         [0.72262721],\n",
       "         [0.65824986],\n",
       "         [0.65824986],\n",
       "         [0.09579029],\n",
       "         [0.09579029],\n",
       "         [0.26325491],\n",
       "         [0.26325491],\n",
       "         [0.58803352],\n",
       "         [0.58803352],\n",
       "         [0.81922902],\n",
       "         [0.81922902],\n",
       "         [0.52506777],\n",
       "         [0.52506777],\n",
       "         [0.84316107],\n",
       "         [0.84316107],\n",
       "         [0.79036209],\n",
       "         [0.79036209],\n",
       "         [0.30039813],\n",
       "         [0.30039813],\n",
       "         [0.31213632],\n",
       "         [0.31213632],\n",
       "         [0.49932905],\n",
       "         [0.49932905],\n",
       "         [0.1391648 ],\n",
       "         [0.1391648 ],\n",
       "         [0.57238854],\n",
       "         [0.57238854],\n",
       "         [0.09572967],\n",
       "         [0.09572967],\n",
       "         [0.46101124],\n",
       "         [0.46101124],\n",
       "         [0.2534355 ],\n",
       "         [0.2534355 ],\n",
       "         [0.93808301],\n",
       "         [0.93808301],\n",
       "         [0.82835434],\n",
       "         [0.82835434],\n",
       "         [0.61642245],\n",
       "         [0.61642245],\n",
       "         [0.79425756],\n",
       "         [0.79425756],\n",
       "         [0.41017745],\n",
       "         [0.41017745],\n",
       "         [0.13593516],\n",
       "         [0.13593516],\n",
       "         [0.29513961],\n",
       "         [0.29513961],\n",
       "         [0.01916802],\n",
       "         [0.01916802],\n",
       "         [0.98736421],\n",
       "         [0.98736421],\n",
       "         [0.91375511],\n",
       "         [0.91375511],\n",
       "         [0.33988968],\n",
       "         [0.33988968],\n",
       "         [0.98106311],\n",
       "         [0.98106311],\n",
       "         [0.01292018],\n",
       "         [0.01292018],\n",
       "         [0.22665011],\n",
       "         [0.22665011],\n",
       "         [0.35315957],\n",
       "         [0.35315957],\n",
       "         [0.83472138],\n",
       "         [0.83472138],\n",
       "         [0.59477723],\n",
       "         [0.59477723],\n",
       "         [0.16351041],\n",
       "         [0.16351041],\n",
       "         [0.92363074],\n",
       "         [0.92363074],\n",
       "         [0.55655916],\n",
       "         [0.55655916],\n",
       "         [0.47037043],\n",
       "         [0.47037043],\n",
       "         [0.44466172],\n",
       "         [0.44466172],\n",
       "         [0.47115442],\n",
       "         [0.47115442],\n",
       "         [0.08841179],\n",
       "         [0.08841179],\n",
       "         [0.5385101 ],\n",
       "         [0.5385101 ],\n",
       "         [0.01808963],\n",
       "         [0.01808963],\n",
       "         [0.72190286],\n",
       "         [0.72190286],\n",
       "         [0.37655082],\n",
       "         [0.37655082],\n",
       "         [0.5824602 ],\n",
       "         [0.5824602 ],\n",
       "         [0.19059105],\n",
       "         [0.19059105],\n",
       "         [0.54549512],\n",
       "         [0.54549512],\n",
       "         [0.96009929],\n",
       "         [0.96009929],\n",
       "         [0.00633199],\n",
       "         [0.00633199],\n",
       "         [0.71033142],\n",
       "         [0.71033142],\n",
       "         [0.76606579],\n",
       "         [0.76606579],\n",
       "         [0.33977759],\n",
       "         [0.33977759],\n",
       "         [0.42689032],\n",
       "         [0.42689032],\n",
       "         [0.54161213],\n",
       "         [0.54161213],\n",
       "         [0.89464132],\n",
       "         [0.89464132],\n",
       "         [0.6324304 ],\n",
       "         [0.6324304 ],\n",
       "         [0.35996152],\n",
       "         [0.35996152],\n",
       "         [0.23717756],\n",
       "         [0.23717756],\n",
       "         [0.155577  ],\n",
       "         [0.155577  ],\n",
       "         [0.76333008],\n",
       "         [0.76333008],\n",
       "         [0.56857584],\n",
       "         [0.56857584],\n",
       "         [0.9784159 ],\n",
       "         [0.9784159 ],\n",
       "         [0.99887273],\n",
       "         [0.99887273],\n",
       "         [0.0062627 ],\n",
       "         [0.0062627 ],\n",
       "         [0.43870501],\n",
       "         [0.43870501],\n",
       "         [0.21421212],\n",
       "         [0.21421212],\n",
       "         [0.76106225],\n",
       "         [0.76106225],\n",
       "         [0.59197824],\n",
       "         [0.59197824],\n",
       "         [0.42233254],\n",
       "         [0.42233254],\n",
       "         [0.86416942],\n",
       "         [0.86416942],\n",
       "         [0.72011303],\n",
       "         [0.72011303],\n",
       "         [0.70217193],\n",
       "         [0.70217193],\n",
       "         [0.85555177],\n",
       "         [0.85555177],\n",
       "         [0.08716903],\n",
       "         [0.08716903],\n",
       "         [0.29068333],\n",
       "         [0.29068333],\n",
       "         [0.10352751],\n",
       "         [0.10352751],\n",
       "         [0.49010957],\n",
       "         [0.49010957],\n",
       "         [0.6051776 ],\n",
       "         [0.6051776 ],\n",
       "         [0.61140665],\n",
       "         [0.61140665],\n",
       "         [0.32824772],\n",
       "         [0.32824772],\n",
       "         [0.39460495],\n",
       "         [0.39460495],\n",
       "         [0.23337095],\n",
       "         [0.23337095],\n",
       "         [0.86564068],\n",
       "         [0.86564068],\n",
       "         [0.74951672],\n",
       "         [0.74951672],\n",
       "         [0.88782411],\n",
       "         [0.88782411],\n",
       "         [0.95448953],\n",
       "         [0.95448953],\n",
       "         [0.32825279],\n",
       "         [0.32825279],\n",
       "         [0.46589126],\n",
       "         [0.46589126],\n",
       "         [0.74644918],\n",
       "         [0.74644918],\n",
       "         [0.40296696],\n",
       "         [0.40296696]])}}"
      ]
     },
     "execution_count": 1,
     "metadata": {},
     "output_type": "execute_result"
    }
   ],
   "source": [
    "ds = load_by_id(run_id_a)\n",
    "ds.get_parameter_data('x1')"
   ]
  },
  {
   "cell_type": "code",
   "execution_count": null,
   "metadata": {},
   "outputs": [],
   "source": []
  }
 ],
 "metadata": {
  "kernelspec": {
   "display_name": "Python 3",
   "language": "python",
   "name": "python3"
  },
  "language_info": {
   "codemirror_mode": {
    "name": "ipython",
    "version": 3
   },
   "file_extension": ".py",
   "mimetype": "text/x-python",
   "name": "python",
   "nbconvert_exporter": "python",
   "pygments_lexer": "ipython3",
   "version": "3.7.10"
  },
  "nbsphinx": {
   "timeout": 600
  },
  "toc": {
   "base_numbering": 1,
   "nav_menu": {},
   "number_sections": true,
   "sideBar": true,
   "skip_h1_title": false,
   "title_cell": "Table of Contents",
   "title_sidebar": "Contents",
   "toc_cell": false,
   "toc_position": {},
   "toc_section_display": true,
   "toc_window_display": false
  },
  "varInspector": {
   "cols": {
    "lenName": 16,
    "lenType": 16,
    "lenVar": 40
   },
   "kernels_config": {
    "python": {
     "delete_cmd_postfix": "",
     "delete_cmd_prefix": "del ",
     "library": "var_list.py",
     "varRefreshCmd": "print(var_dic_list())"
    },
    "r": {
     "delete_cmd_postfix": ") ",
     "delete_cmd_prefix": "rm(",
     "library": "var_list.r",
     "varRefreshCmd": "cat(var_dic_list()) "
    }
   },
   "types_to_exclude": [
    "module",
    "function",
    "builtin_function_or_method",
    "instance",
    "_Feature"
   ],
   "window_display": false
  }
 },
 "nbformat": 4,
 "nbformat_minor": 4
}
