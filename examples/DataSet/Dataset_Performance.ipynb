{
 "cells": [
  {
   "cell_type": "markdown",
   "metadata": {},
   "source": [
    "# DataSet Performance\n",
    "\n",
    "This notebook shows the trade-off between inserting data into a database row-by-row and as binary blobs. Inserting the data row-by-row means that we have direct access to all the data and may perform queries directly on the values of the data. On the other hand, as we shall see, this is much slower than inserting the data directly as binary blobs."
   ]
  },
  {
   "cell_type": "markdown",
   "metadata": {},
   "source": [
    "First, we choose a new location for the database to ensure that we don't add a bunch of benchmarking data to the default one."
   ]
  },
  {
   "cell_type": "code",
   "execution_count": 1,
   "metadata": {
    "execution": {
     "iopub.execute_input": "2021-01-29T06:56:45.226567Z",
     "iopub.status.busy": "2021-01-29T06:56:45.226133Z",
     "iopub.status.idle": "2021-01-29T06:56:46.136861Z",
     "shell.execute_reply": "2021-01-29T06:56:46.136210Z"
    }
   },
   "outputs": [
    {
     "name": "stdout",
     "output_type": "stream",
     "text": [
      "Logging hadn't been started.\n",
      "Activating auto-logging. Current session state plus future input saved.\n",
      "Filename       : /home/vsts/.qcodes/logs/command_history.log\n",
      "Mode           : append\n",
      "Output logging : True\n",
      "Raw input log  : False\n",
      "Timestamping   : True\n",
      "State          : active\n"
     ]
    },
    {
     "name": "stdout",
     "output_type": "stream",
     "text": [
      "Qcodes Logfile : /home/vsts/.qcodes/logs/210129-13579-qcodes.log\n"
     ]
    }
   ],
   "source": [
    "import os\n",
    "cwd = os.getcwd()\n",
    "import qcodes as qc\n",
    "qc.config[\"core\"][\"db_location\"] = os.path.join(cwd, 'testing.db')\n"
   ]
  },
  {
   "cell_type": "code",
   "execution_count": 2,
   "metadata": {
    "execution": {
     "iopub.execute_input": "2021-01-29T06:56:46.143177Z",
     "iopub.status.busy": "2021-01-29T06:56:46.142365Z",
     "iopub.status.idle": "2021-01-29T06:56:46.306676Z",
     "shell.execute_reply": "2021-01-29T06:56:46.305719Z"
    }
   },
   "outputs": [],
   "source": [
    "%matplotlib inline\n",
    "import time\n",
    "import matplotlib.pyplot as plt\n",
    "import numpy as np\n",
    "\n",
    "import qcodes as qc\n",
    "from qcodes.instrument.parameter import ManualParameter\n",
    "from qcodes.dataset.experiment_container import (Experiment,\n",
    "                                                 load_last_experiment,\n",
    "                                                 new_experiment)\n",
    "from qcodes.dataset.sqlite.database import initialise_database\n",
    "from qcodes import load_or_create_experiment\n",
    "from qcodes.dataset.measurements import Measurement"
   ]
  },
  {
   "cell_type": "code",
   "execution_count": 3,
   "metadata": {
    "execution": {
     "iopub.execute_input": "2021-01-29T06:56:46.310141Z",
     "iopub.status.busy": "2021-01-29T06:56:46.309687Z",
     "iopub.status.idle": "2021-01-29T06:56:46.400697Z",
     "shell.execute_reply": "2021-01-29T06:56:46.400339Z"
    }
   },
   "outputs": [
    {
     "name": "stdout",
     "output_type": "stream",
     "text": [
      "\r",
      "0it [00:00, ?it/s]"
     ]
    },
    {
     "name": "stdout",
     "output_type": "stream",
     "text": [
      "\r",
      "Upgrading database; v0 -> v1: : 0it [00:00, ?it/s]"
     ]
    },
    {
     "name": "stdout",
     "output_type": "stream",
     "text": [
      "\r",
      "Upgrading database; v0 -> v1: : 0it [00:00, ?it/s]"
     ]
    },
    {
     "name": "stdout",
     "output_type": "stream",
     "text": [
      "\n",
      "\r",
      "  0%|          | 0/1 [00:00<?, ?it/s]"
     ]
    },
    {
     "name": "stdout",
     "output_type": "stream",
     "text": [
      "\r",
      "Upgrading database; v1 -> v2:   0%|          | 0/1 [00:00<?, ?it/s]"
     ]
    },
    {
     "name": "stdout",
     "output_type": "stream",
     "text": [
      "\r",
      "Upgrading database; v1 -> v2: 100%|██████████| 1/1 [00:00<00:00, 525.27it/s]"
     ]
    },
    {
     "name": "stdout",
     "output_type": "stream",
     "text": [
      "\n",
      "\r",
      "0it [00:00, ?it/s]"
     ]
    },
    {
     "name": "stdout",
     "output_type": "stream",
     "text": [
      "\r",
      "Upgrading database; v2 -> v3: : 0it [00:00, ?it/s]"
     ]
    },
    {
     "name": "stdout",
     "output_type": "stream",
     "text": [
      "\r",
      "Upgrading database; v2 -> v3: : 0it [00:00, ?it/s]"
     ]
    },
    {
     "name": "stdout",
     "output_type": "stream",
     "text": [
      "\n",
      "\r",
      "0it [00:00, ?it/s]"
     ]
    },
    {
     "name": "stdout",
     "output_type": "stream",
     "text": [
      "\r",
      "Upgrading database; v3 -> v4: : 0it [00:00, ?it/s]"
     ]
    },
    {
     "name": "stdout",
     "output_type": "stream",
     "text": [
      "\r",
      "Upgrading database; v3 -> v4: : 0it [00:00, ?it/s]"
     ]
    },
    {
     "name": "stdout",
     "output_type": "stream",
     "text": [
      "\n",
      "\r",
      "  0%|          | 0/1 [00:00<?, ?it/s]"
     ]
    },
    {
     "name": "stdout",
     "output_type": "stream",
     "text": [
      "\r",
      "Upgrading database; v4 -> v5:   0%|          | 0/1 [00:00<?, ?it/s]"
     ]
    },
    {
     "name": "stdout",
     "output_type": "stream",
     "text": [
      "\r",
      "Upgrading database; v4 -> v5: 100%|██████████| 1/1 [00:00<00:00, 498.25it/s]"
     ]
    },
    {
     "name": "stdout",
     "output_type": "stream",
     "text": [
      "\n",
      "\r",
      "0it [00:00, ?it/s]"
     ]
    },
    {
     "name": "stdout",
     "output_type": "stream",
     "text": [
      "\r",
      "Upgrading database; v5 -> v6: : 0it [00:00, ?it/s]"
     ]
    },
    {
     "name": "stdout",
     "output_type": "stream",
     "text": [
      "\r",
      "Upgrading database; v5 -> v6: : 0it [00:00, ?it/s]"
     ]
    },
    {
     "name": "stdout",
     "output_type": "stream",
     "text": [
      "\n",
      "\r",
      "  0%|          | 0/1 [00:00<?, ?it/s]"
     ]
    },
    {
     "name": "stdout",
     "output_type": "stream",
     "text": [
      "\r",
      "Upgrading database; v6 -> v7:   0%|          | 0/1 [00:00<?, ?it/s]"
     ]
    },
    {
     "name": "stdout",
     "output_type": "stream",
     "text": [
      "\r",
      "Upgrading database; v6 -> v7: 100%|██████████| 1/1 [00:00<00:00, 572.37it/s]"
     ]
    },
    {
     "name": "stdout",
     "output_type": "stream",
     "text": [
      "\n",
      "\r",
      "  0%|          | 0/1 [00:00<?, ?it/s]"
     ]
    },
    {
     "name": "stdout",
     "output_type": "stream",
     "text": [
      "\r",
      "Upgrading database; v7 -> v8:   0%|          | 0/1 [00:00<?, ?it/s]"
     ]
    },
    {
     "name": "stdout",
     "output_type": "stream",
     "text": [
      "\r",
      "Upgrading database; v7 -> v8: 100%|██████████| 1/1 [00:00<00:00, 602.98it/s]"
     ]
    },
    {
     "name": "stdout",
     "output_type": "stream",
     "text": [
      "\n",
      "\r",
      "  0%|          | 0/1 [00:00<?, ?it/s]"
     ]
    },
    {
     "name": "stdout",
     "output_type": "stream",
     "text": [
      "\r",
      "Upgrading database; v8 -> v9:   0%|          | 0/1 [00:00<?, ?it/s]"
     ]
    },
    {
     "name": "stdout",
     "output_type": "stream",
     "text": [
      "\r",
      "Upgrading database; v8 -> v9: 100%|██████████| 1/1 [00:00<00:00, 718.45it/s]"
     ]
    },
    {
     "name": "stdout",
     "output_type": "stream",
     "text": [
      "\n"
     ]
    }
   ],
   "source": [
    "initialise_database()\n",
    "exp = load_or_create_experiment(experiment_name='tutorial_exp', sample_name=\"no sample\")"
   ]
  },
  {
   "cell_type": "markdown",
   "metadata": {},
   "source": [
    "Here, we define a simple function to benchmark the time it takes to insert n points with either numeric or array data type.\n",
    "We will compare both the time used to call ``add_result`` and the time used for the full measurement."
   ]
  },
  {
   "cell_type": "code",
   "execution_count": 4,
   "metadata": {
    "execution": {
     "iopub.execute_input": "2021-01-29T06:56:46.407549Z",
     "iopub.status.busy": "2021-01-29T06:56:46.407030Z",
     "iopub.status.idle": "2021-01-29T06:56:46.411081Z",
     "shell.execute_reply": "2021-01-29T06:56:46.410332Z"
    }
   },
   "outputs": [],
   "source": [
    "def insert_data(paramtype, npoints, nreps=1):\n",
    "\n",
    "    meas = Measurement(exp=exp)\n",
    "\n",
    "    x1 = ManualParameter('x1')\n",
    "    x2 = ManualParameter('x2')\n",
    "    x3 = ManualParameter('x3')\n",
    "    y1 = ManualParameter('y1')\n",
    "    y2 = ManualParameter('y2')\n",
    "\n",
    "    meas.register_parameter(x1, paramtype=paramtype)\n",
    "    meas.register_parameter(x2, paramtype=paramtype)\n",
    "    meas.register_parameter(x3, paramtype=paramtype)\n",
    "    meas.register_parameter(y1, setpoints=[x1, x2, x3],\n",
    "                            paramtype=paramtype)\n",
    "    meas.register_parameter(y2, setpoints=[x1, x2, x3],\n",
    "                            paramtype=paramtype)\n",
    "    start = time.perf_counter()\n",
    "    with meas.run() as datasaver:\n",
    "        start_adding = time.perf_counter()\n",
    "        for i in range(nreps):\n",
    "            datasaver.add_result((x1, np.random.rand(npoints)),\n",
    "                                 (x2, np.random.rand(npoints)),\n",
    "                                 (x3, np.random.rand(npoints)),\n",
    "                                 (y1, np.random.rand(npoints)),\n",
    "                                 (y2, np.random.rand(npoints)))\n",
    "        stop_adding = time.perf_counter()\n",
    "        run_id = datasaver.run_id\n",
    "    stop = time.perf_counter()\n",
    "    tot_time = stop - start\n",
    "    add_time = stop_adding - start_adding\n",
    "    return tot_time, add_time, run_id"
   ]
  },
  {
   "cell_type": "markdown",
   "metadata": {},
   "source": [
    "## Comparison between numeric/array data and binary blob"
   ]
  },
  {
   "cell_type": "markdown",
   "metadata": {},
   "source": [
    "### Case1: Short experiment time"
   ]
  },
  {
   "cell_type": "code",
   "execution_count": 5,
   "metadata": {
    "execution": {
     "iopub.execute_input": "2021-01-29T06:56:46.417359Z",
     "iopub.status.busy": "2021-01-29T06:56:46.416491Z",
     "iopub.status.idle": "2021-01-29T06:56:47.182518Z",
     "shell.execute_reply": "2021-01-29T06:56:47.182059Z"
    }
   },
   "outputs": [
    {
     "name": "stdout",
     "output_type": "stream",
     "text": [
      "Starting experimental run with id: 1. \n",
      "Starting experimental run with id: 2. \n",
      "Starting experimental run with id: 3. \n",
      "Starting experimental run with id: 4. \n",
      "Starting experimental run with id: 5. \n",
      "Starting experimental run with id: 6. \n"
     ]
    },
    {
     "name": "stdout",
     "output_type": "stream",
     "text": [
      "Starting experimental run with id: 7. \n"
     ]
    },
    {
     "name": "stdout",
     "output_type": "stream",
     "text": [
      "Starting experimental run with id: 8. \n",
      "Starting experimental run with id: 9. \n"
     ]
    },
    {
     "name": "stdout",
     "output_type": "stream",
     "text": [
      "Starting experimental run with id: 10. \n",
      "Starting experimental run with id: 11. \n"
     ]
    },
    {
     "name": "stdout",
     "output_type": "stream",
     "text": [
      "Starting experimental run with id: 12. \n",
      "Starting experimental run with id: 13. \n"
     ]
    },
    {
     "name": "stdout",
     "output_type": "stream",
     "text": [
      "Starting experimental run with id: 14. \n"
     ]
    }
   ],
   "source": [
    "sizes = [1,500,1000,2000,3000,4000,5000]\n",
    "t_numeric = []\n",
    "t_numeric_add = []\n",
    "t_array = []\n",
    "t_array_add = []\n",
    "for size in sizes:\n",
    "    tn, tna, run_id_n =  insert_data('numeric', size)\n",
    "    t_numeric.append(tn)\n",
    "    t_numeric_add.append(tna)\n",
    "\n",
    "    ta, taa, run_id_a =  insert_data('array', size)\n",
    "    t_array.append(ta)\n",
    "    t_array_add.append(taa)"
   ]
  },
  {
   "cell_type": "code",
   "execution_count": 6,
   "metadata": {
    "execution": {
     "iopub.execute_input": "2021-01-29T06:56:47.198171Z",
     "iopub.status.busy": "2021-01-29T06:56:47.187713Z",
     "iopub.status.idle": "2021-01-29T06:56:47.370742Z",
     "shell.execute_reply": "2021-01-29T06:56:47.369977Z"
    }
   },
   "outputs": [
    {
     "data": {
      "image/png": "[encoded data removed]",
      "text/plain": [
       "<Figure size 432x288 with 1 Axes>"
      ]
     },
     "metadata": {
      "needs_background": "light"
     },
     "output_type": "display_data"
    }
   ],
   "source": [
    "fig, ax = plt.subplots(1,1)\n",
    "ax.plot(sizes, t_numeric, 'o-', label='Inserting row-by-row')\n",
    "ax.plot(sizes, t_numeric_add, 'o-', label='Inserting row-by-row: add_result only')\n",
    "ax.plot(sizes, t_array, 'd-', label='Inserting as binary blob')\n",
    "ax.plot(sizes, t_array_add, 'd-', label='Inserting as binary blob: add_result only')\n",
    "ax.legend()\n",
    "ax.set_xlabel('Array length')\n",
    "ax.set_ylabel('Time (s)')\n",
    "fig.tight_layout()"
   ]
  },
  {
   "cell_type": "markdown",
   "metadata": {},
   "source": [
    "As shown in the latter figure, the time to setup and and close the experiment is approximately 0.4 sec. In case of small array sizes, the difference between inserting values of data as arrays and inserting them row-by-row is relatively unimportant. At larger array sizes, i.e. above 10000 points, the cost of writing data as individual datapoints starts to become important.\n"
   ]
  },
  {
   "cell_type": "markdown",
   "metadata": {},
   "source": [
    "### Case2: Long experiment time "
   ]
  },
  {
   "cell_type": "code",
   "execution_count": 7,
   "metadata": {
    "execution": {
     "iopub.execute_input": "2021-01-29T06:56:47.377001Z",
     "iopub.status.busy": "2021-01-29T06:56:47.376282Z",
     "iopub.status.idle": "2021-01-29T06:57:40.985530Z",
     "shell.execute_reply": "2021-01-29T06:57:40.984948Z"
    }
   },
   "outputs": [
    {
     "name": "stdout",
     "output_type": "stream",
     "text": [
      "Starting experimental run with id: 15. \n",
      "Starting experimental run with id: 16. \n",
      "Starting experimental run with id: 17. \n"
     ]
    },
    {
     "name": "stdout",
     "output_type": "stream",
     "text": [
      "Starting experimental run with id: 18. \n",
      "Starting experimental run with id: 19. \n"
     ]
    },
    {
     "name": "stdout",
     "output_type": "stream",
     "text": [
      "Starting experimental run with id: 20. \n"
     ]
    },
    {
     "name": "stdout",
     "output_type": "stream",
     "text": [
      "Starting experimental run with id: 21. \n"
     ]
    },
    {
     "name": "stdout",
     "output_type": "stream",
     "text": [
      "Starting experimental run with id: 22. \n"
     ]
    },
    {
     "name": "stdout",
     "output_type": "stream",
     "text": [
      "Starting experimental run with id: 23. \n"
     ]
    },
    {
     "name": "stdout",
     "output_type": "stream",
     "text": [
      "Starting experimental run with id: 24. \n"
     ]
    },
    {
     "name": "stdout",
     "output_type": "stream",
     "text": [
      "Starting experimental run with id: 25. \n"
     ]
    },
    {
     "name": "stdout",
     "output_type": "stream",
     "text": [
      "Starting experimental run with id: 26. \n"
     ]
    },
    {
     "name": "stdout",
     "output_type": "stream",
     "text": [
      "Starting experimental run with id: 27. \n"
     ]
    },
    {
     "name": "stdout",
     "output_type": "stream",
     "text": [
      "Starting experimental run with id: 28. \n"
     ]
    }
   ],
   "source": [
    "sizes = [1,500,1000,2000,3000,4000,5000]\n",
    "nreps = 100\n",
    "t_numeric = []\n",
    "t_numeric_add = []\n",
    "t_numeric_run_ids = []\n",
    "t_array = []\n",
    "t_array_add = []\n",
    "t_array_run_ids = []\n",
    "for size in sizes:\n",
    "    tn, tna, run_id_n =  insert_data('numeric', size, nreps=nreps)\n",
    "    t_numeric.append(tn)\n",
    "    t_numeric_add.append(tna)\n",
    "    t_numeric_run_ids.append(run_id_n)\n",
    "\n",
    "    ta, taa, run_id_a =  insert_data('array', size, nreps=nreps)\n",
    "    t_array.append(ta)\n",
    "    t_array_add.append(taa)\n",
    "    t_array_run_ids.append(run_id_a)"
   ]
  },
  {
   "cell_type": "code",
   "execution_count": 8,
   "metadata": {
    "execution": {
     "iopub.execute_input": "2021-01-29T06:57:41.019853Z",
     "iopub.status.busy": "2021-01-29T06:57:41.012148Z",
     "iopub.status.idle": "2021-01-29T06:57:41.174257Z",
     "shell.execute_reply": "2021-01-29T06:57:41.175021Z"
    },
    "scrolled": true
   },
   "outputs": [
    {
     "data": {
      "image/png": "[encoded data removed]",
      "text/plain": [
       "<Figure size 432x288 with 1 Axes>"
      ]
     },
     "metadata": {
      "needs_background": "light"
     },
     "output_type": "display_data"
    }
   ],
   "source": [
    "fig, ax = plt.subplots(1,1)\n",
    "ax.plot(sizes, t_numeric, 'o-', label='Inserting row-by-row')\n",
    "ax.plot(sizes, t_numeric_add, 'o-', label='Inserting row-by-row: add_result only')\n",
    "ax.plot(sizes, t_array, 'd-', label='Inserting as binary blob')\n",
    "ax.plot(sizes, t_array_add, 'd-', label='Inserting as binary blob: add_result only')\n",
    "ax.legend()\n",
    "ax.set_xlabel('Array length')\n",
    "ax.set_ylabel('Time (s)')\n",
    "fig.tight_layout()"
   ]
  },
  {
   "cell_type": "markdown",
   "metadata": {},
   "source": [
    "However, as we increase the length of the experiment, as seen here by repeating the insertion 100 times, we see a big difference between inserting values of the data row-by-row and inserting it as a binary blob."
   ]
  },
  {
   "cell_type": "markdown",
   "metadata": {},
   "source": [
    "## Loading the data "
   ]
  },
  {
   "cell_type": "code",
   "execution_count": 9,
   "metadata": {
    "execution": {
     "iopub.execute_input": "2021-01-29T06:57:41.177918Z",
     "iopub.status.busy": "2021-01-29T06:57:41.177133Z",
     "iopub.status.idle": "2021-01-29T06:57:41.183843Z",
     "shell.execute_reply": "2021-01-29T06:57:41.184534Z"
    }
   },
   "outputs": [],
   "source": [
    "from qcodes.dataset.data_set import load_by_id\n",
    "from qcodes.dataset.data_export import get_data_by_id"
   ]
  },
  {
   "cell_type": "markdown",
   "metadata": {},
   "source": [
    "As usual you can load the data by using the ``load_by_id`` function but you will notice that the different storage methods\n",
    "are reflected in shape of the data as it is retrieved. "
   ]
  },
  {
   "cell_type": "code",
   "execution_count": 10,
   "metadata": {
    "execution": {
     "iopub.execute_input": "2021-01-29T06:57:41.188803Z",
     "iopub.status.busy": "2021-01-29T06:57:41.186995Z",
     "iopub.status.idle": "2021-01-29T06:57:41.192127Z",
     "shell.execute_reply": "2021-01-29T06:57:41.192616Z"
    }
   },
   "outputs": [],
   "source": [
    "run_id_n = t_numeric_run_ids[0]\n",
    "run_id_a = t_array_run_ids[0]"
   ]
  },
  {
   "cell_type": "code",
   "execution_count": 11,
   "metadata": {
    "execution": {
     "iopub.execute_input": "2021-01-29T06:57:41.196075Z",
     "iopub.status.busy": "2021-01-29T06:57:41.195520Z",
     "iopub.status.idle": "2021-01-29T06:57:41.204878Z",
     "shell.execute_reply": "2021-01-29T06:57:41.205338Z"
    },
    "scrolled": true
   },
   "outputs": [
    {
     "data": {
      "text/plain": [
       "{'x1': {'x1': array([8.14997538e-01, 8.14997538e-01, 8.12614507e-01, 8.12614507e-01,\n",
       "         4.93813060e-02, 4.93813060e-02, 7.93879789e-01, 7.93879789e-01,\n",
       "         7.68385063e-01, 7.68385063e-01, 6.34525346e-01, 6.34525346e-01,\n",
       "         2.18028133e-01, 2.18028133e-01, 4.52318796e-01, 4.52318796e-01,\n",
       "         2.93108248e-01, 2.93108248e-01, 8.33708598e-01, 8.33708598e-01,\n",
       "         5.18194617e-02, 5.18194617e-02, 1.73827331e-01, 1.73827331e-01,\n",
       "         1.82913344e-01, 1.82913344e-01, 4.22174338e-01, 4.22174338e-01,\n",
       "         9.42358285e-02, 9.42358285e-02, 1.93225639e-01, 1.93225639e-01,\n",
       "         6.82363619e-02, 6.82363619e-02, 1.00153460e-02, 1.00153460e-02,\n",
       "         3.56515977e-01, 3.56515977e-01, 2.48371198e-01, 2.48371198e-01,\n",
       "         9.68394330e-01, 9.68394330e-01, 6.86846409e-01, 6.86846409e-01,\n",
       "         2.96799813e-02, 2.96799813e-02, 1.84459285e-01, 1.84459285e-01,\n",
       "         8.04738502e-01, 8.04738502e-01, 2.54748077e-02, 2.54748077e-02,\n",
       "         5.76984798e-01, 5.76984798e-01, 5.30332818e-01, 5.30332818e-01,\n",
       "         3.34256665e-01, 3.34256665e-01, 2.41624052e-01, 2.41624052e-01,\n",
       "         8.58478239e-01, 8.58478239e-01, 7.72844339e-01, 7.72844339e-01,\n",
       "         2.32592289e-01, 2.32592289e-01, 4.63980548e-04, 4.63980548e-04,\n",
       "         4.46716523e-01, 4.46716523e-01, 5.21281938e-01, 5.21281938e-01,\n",
       "         4.32400238e-01, 4.32400238e-01, 5.57159194e-01, 5.57159194e-01,\n",
       "         1.91207039e-01, 1.91207039e-01, 1.53024001e-01, 1.53024001e-01,\n",
       "         2.04820200e-01, 2.04820200e-01, 8.65945388e-01, 8.65945388e-01,\n",
       "         3.70486785e-01, 3.70486785e-01, 4.90401569e-02, 4.90401569e-02,\n",
       "         8.59287074e-01, 8.59287074e-01, 2.23964789e-01, 2.23964789e-01,\n",
       "         8.63213345e-01, 8.63213345e-01, 1.13533960e-01, 1.13533960e-01,\n",
       "         2.17977746e-01, 2.17977746e-01, 9.61044281e-01, 9.61044281e-01,\n",
       "         1.50333801e-01, 1.50333801e-01, 7.16128801e-01, 7.16128801e-01,\n",
       "         4.19871933e-01, 4.19871933e-01, 8.30638404e-01, 8.30638404e-01,\n",
       "         4.41068868e-01, 4.41068868e-01, 1.01693233e-01, 1.01693233e-01,\n",
       "         3.77529347e-02, 3.77529347e-02, 3.00907310e-01, 3.00907310e-01,\n",
       "         2.05914778e-01, 2.05914778e-01, 5.93724712e-01, 5.93724712e-01,\n",
       "         1.83283033e-01, 1.83283033e-01, 9.77110836e-01, 9.77110836e-01,\n",
       "         6.52146459e-01, 6.52146459e-01, 2.08919348e-01, 2.08919348e-01,\n",
       "         1.22129975e-01, 1.22129975e-01, 3.36286840e-01, 3.36286840e-01,\n",
       "         7.45128069e-01, 7.45128069e-01, 4.97228448e-01, 4.97228448e-01,\n",
       "         9.39545984e-02, 9.39545984e-02, 7.72401593e-01, 7.72401593e-01,\n",
       "         7.47423968e-01, 7.47423968e-01, 1.83978829e-01, 1.83978829e-01,\n",
       "         9.01391965e-01, 9.01391965e-01, 4.76382289e-01, 4.76382289e-01,\n",
       "         7.77991188e-01, 7.77991188e-01, 8.80401428e-01, 8.80401428e-01,\n",
       "         3.15859286e-01, 3.15859286e-01, 6.68194828e-01, 6.68194828e-01,\n",
       "         4.43637362e-01, 4.43637362e-01, 4.19896333e-01, 4.19896333e-01,\n",
       "         2.18499602e-01, 2.18499602e-01, 9.53545858e-01, 9.53545858e-01,\n",
       "         6.44863627e-01, 6.44863627e-01, 7.88730448e-01, 7.88730448e-01,\n",
       "         1.02391744e-01, 1.02391744e-01, 8.50360261e-03, 8.50360261e-03,\n",
       "         7.89259271e-01, 7.89259271e-01, 1.12669949e-01, 1.12669949e-01,\n",
       "         7.25897363e-01, 7.25897363e-01, 3.20031503e-01, 3.20031503e-01,\n",
       "         6.19197772e-01, 6.19197772e-01, 2.10935113e-01, 2.10935113e-01,\n",
       "         3.40219164e-01, 3.40219164e-01, 2.70794409e-01, 2.70794409e-01,\n",
       "         7.95628012e-01, 7.95628012e-01, 7.17298933e-01, 7.17298933e-01,\n",
       "         4.97215853e-01, 4.97215853e-01, 2.80357820e-02, 2.80357820e-02,\n",
       "         2.66029774e-01, 2.66029774e-01, 7.84071540e-01, 7.84071540e-01])}}"
      ]
     },
     "execution_count": 1,
     "metadata": {},
     "output_type": "execute_result"
    }
   ],
   "source": [
    "ds = load_by_id(run_id_n)\n",
    "ds.get_parameter_data('x1')"
   ]
  },
  {
   "cell_type": "markdown",
   "metadata": {},
   "source": [
    "And a dataset stored as binary arrays"
   ]
  },
  {
   "cell_type": "code",
   "execution_count": 12,
   "metadata": {
    "execution": {
     "iopub.execute_input": "2021-01-29T06:57:41.208592Z",
     "iopub.status.busy": "2021-01-29T06:57:41.208083Z",
     "iopub.status.idle": "2021-01-29T06:57:41.258084Z",
     "shell.execute_reply": "2021-01-29T06:57:41.258537Z"
    },
    "scrolled": true
   },
   "outputs": [
    {
     "data": {
      "text/plain": [
       "{'x1': {'x1': array([[0.52477508],\n",
       "         [0.52477508],\n",
       "         [0.88890133],\n",
       "         [0.88890133],\n",
       "         [0.42484348],\n",
       "         [0.42484348],\n",
       "         [0.77230129],\n",
       "         [0.77230129],\n",
       "         [0.27315129],\n",
       "         [0.27315129],\n",
       "         [0.29873387],\n",
       "         [0.29873387],\n",
       "         [0.66588621],\n",
       "         [0.66588621],\n",
       "         [0.78401422],\n",
       "         [0.78401422],\n",
       "         [0.17541259],\n",
       "         [0.17541259],\n",
       "         [0.14696455],\n",
       "         [0.14696455],\n",
       "         [0.33892516],\n",
       "         [0.33892516],\n",
       "         [0.30867828],\n",
       "         [0.30867828],\n",
       "         [0.02575431],\n",
       "         [0.02575431],\n",
       "         [0.11255667],\n",
       "         [0.11255667],\n",
       "         [0.29138686],\n",
       "         [0.29138686],\n",
       "         [0.35705751],\n",
       "         [0.35705751],\n",
       "         [0.50995829],\n",
       "         [0.50995829],\n",
       "         [0.40812488],\n",
       "         [0.40812488],\n",
       "         [0.44293521],\n",
       "         [0.44293521],\n",
       "         [0.15273493],\n",
       "         [0.15273493],\n",
       "         [0.88120669],\n",
       "         [0.88120669],\n",
       "         [0.88379103],\n",
       "         [0.88379103],\n",
       "         [0.2778305 ],\n",
       "         [0.2778305 ],\n",
       "         [0.18364865],\n",
       "         [0.18364865],\n",
       "         [0.36906004],\n",
       "         [0.36906004],\n",
       "         [0.67747164],\n",
       "         [0.67747164],\n",
       "         [0.74419776],\n",
       "         [0.74419776],\n",
       "         [0.40730394],\n",
       "         [0.40730394],\n",
       "         [0.78422963],\n",
       "         [0.78422963],\n",
       "         [0.79083478],\n",
       "         [0.79083478],\n",
       "         [0.20408771],\n",
       "         [0.20408771],\n",
       "         [0.87155063],\n",
       "         [0.87155063],\n",
       "         [0.47717702],\n",
       "         [0.47717702],\n",
       "         [0.9562728 ],\n",
       "         [0.9562728 ],\n",
       "         [0.35940078],\n",
       "         [0.35940078],\n",
       "         [0.81242051],\n",
       "         [0.81242051],\n",
       "         [0.08291726],\n",
       "         [0.08291726],\n",
       "         [0.50126598],\n",
       "         [0.50126598],\n",
       "         [0.73322357],\n",
       "         [0.73322357],\n",
       "         [0.82425644],\n",
       "         [0.82425644],\n",
       "         [0.79542176],\n",
       "         [0.79542176],\n",
       "         [0.55562505],\n",
       "         [0.55562505],\n",
       "         [0.52783332],\n",
       "         [0.52783332],\n",
       "         [0.03809527],\n",
       "         [0.03809527],\n",
       "         [0.08164951],\n",
       "         [0.08164951],\n",
       "         [0.36892647],\n",
       "         [0.36892647],\n",
       "         [0.79908209],\n",
       "         [0.79908209],\n",
       "         [0.61361511],\n",
       "         [0.61361511],\n",
       "         [0.23802434],\n",
       "         [0.23802434],\n",
       "         [0.68013943],\n",
       "         [0.68013943],\n",
       "         [0.15754213],\n",
       "         [0.15754213],\n",
       "         [0.21628261],\n",
       "         [0.21628261],\n",
       "         [0.21582641],\n",
       "         [0.21582641],\n",
       "         [0.54749397],\n",
       "         [0.54749397],\n",
       "         [0.9279544 ],\n",
       "         [0.9279544 ],\n",
       "         [0.47756742],\n",
       "         [0.47756742],\n",
       "         [0.69217917],\n",
       "         [0.69217917],\n",
       "         [0.99410019],\n",
       "         [0.99410019],\n",
       "         [0.58674156],\n",
       "         [0.58674156],\n",
       "         [0.80626116],\n",
       "         [0.80626116],\n",
       "         [0.64613011],\n",
       "         [0.64613011],\n",
       "         [0.23496575],\n",
       "         [0.23496575],\n",
       "         [0.73437929],\n",
       "         [0.73437929],\n",
       "         [0.41856713],\n",
       "         [0.41856713],\n",
       "         [0.57292982],\n",
       "         [0.57292982],\n",
       "         [0.8897246 ],\n",
       "         [0.8897246 ],\n",
       "         [0.03017515],\n",
       "         [0.03017515],\n",
       "         [0.62997342],\n",
       "         [0.62997342],\n",
       "         [0.33409292],\n",
       "         [0.33409292],\n",
       "         [0.49749625],\n",
       "         [0.49749625],\n",
       "         [0.67154967],\n",
       "         [0.67154967],\n",
       "         [0.18079319],\n",
       "         [0.18079319],\n",
       "         [0.36253129],\n",
       "         [0.36253129],\n",
       "         [0.67779581],\n",
       "         [0.67779581],\n",
       "         [0.10364859],\n",
       "         [0.10364859],\n",
       "         [0.07874448],\n",
       "         [0.07874448],\n",
       "         [0.0172171 ],\n",
       "         [0.0172171 ],\n",
       "         [0.48632528],\n",
       "         [0.48632528],\n",
       "         [0.44055466],\n",
       "         [0.44055466],\n",
       "         [0.88574521],\n",
       "         [0.88574521],\n",
       "         [0.93412842],\n",
       "         [0.93412842],\n",
       "         [0.31910558],\n",
       "         [0.31910558],\n",
       "         [0.15316621],\n",
       "         [0.15316621],\n",
       "         [0.8855383 ],\n",
       "         [0.8855383 ],\n",
       "         [0.89501568],\n",
       "         [0.89501568],\n",
       "         [0.60798159],\n",
       "         [0.60798159],\n",
       "         [0.12896455],\n",
       "         [0.12896455],\n",
       "         [0.71417615],\n",
       "         [0.71417615],\n",
       "         [0.49930674],\n",
       "         [0.49930674],\n",
       "         [0.31888134],\n",
       "         [0.31888134],\n",
       "         [0.22778451],\n",
       "         [0.22778451],\n",
       "         [0.13279934],\n",
       "         [0.13279934],\n",
       "         [0.55107262],\n",
       "         [0.55107262],\n",
       "         [0.21205048],\n",
       "         [0.21205048],\n",
       "         [0.91732389],\n",
       "         [0.91732389],\n",
       "         [0.26395945],\n",
       "         [0.26395945],\n",
       "         [0.96367753],\n",
       "         [0.96367753],\n",
       "         [0.60502427],\n",
       "         [0.60502427],\n",
       "         [0.6911648 ],\n",
       "         [0.6911648 ],\n",
       "         [0.8537601 ],\n",
       "         [0.8537601 ]])}}"
      ]
     },
     "execution_count": 1,
     "metadata": {},
     "output_type": "execute_result"
    }
   ],
   "source": [
    "ds = load_by_id(run_id_a)\n",
    "ds.get_parameter_data('x1')"
   ]
  },
  {
   "cell_type": "code",
   "execution_count": null,
   "metadata": {},
   "outputs": [],
   "source": []
  }
 ],
 "metadata": {
  "kernelspec": {
   "display_name": "Python 3",
   "language": "python",
   "name": "python3"
  },
  "language_info": {
   "codemirror_mode": {
    "name": "ipython",
    "version": 3
   },
   "file_extension": ".py",
   "mimetype": "text/x-python",
   "name": "python",
   "nbconvert_exporter": "python",
   "pygments_lexer": "ipython3",
   "version": "3.7.9"
  },
  "nbsphinx": {
   "timeout": 600
  },
  "toc": {
   "base_numbering": 1,
   "nav_menu": {},
   "number_sections": true,
   "sideBar": true,
   "skip_h1_title": false,
   "title_cell": "Table of Contents",
   "title_sidebar": "Contents",
   "toc_cell": false,
   "toc_position": {},
   "toc_section_display": true,
   "toc_window_display": false
  },
  "varInspector": {
   "cols": {
    "lenName": 16,
    "lenType": 16,
    "lenVar": 40
   },
   "kernels_config": {
    "python": {
     "delete_cmd_postfix": "",
     "delete_cmd_prefix": "del ",
     "library": "var_list.py",
     "varRefreshCmd": "print(var_dic_list())"
    },
    "r": {
     "delete_cmd_postfix": ") ",
     "delete_cmd_prefix": "rm(",
     "library": "var_list.r",
     "varRefreshCmd": "cat(var_dic_list()) "
    }
   },
   "types_to_exclude": [
    "module",
    "function",
    "builtin_function_or_method",
    "instance",
    "_Feature"
   ],
   "window_display": false
  }
 },
 "nbformat": 4,
 "nbformat_minor": 2
}
