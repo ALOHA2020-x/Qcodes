{
 "cells": [
  {
   "cell_type": "markdown",
   "metadata": {},
   "source": [
    "# DataSet Performance\n",
    "\n",
    "This notebook shows the trade-off between inserting data into a database row-by-row and as binary blobs. Inserting the data row-by-row means that we have direct access to all the data and may perform queries directly on the values of the data. On the other hand, as we shall see, this is much slower than inserting the data directly as binary blobs."
   ]
  },
  {
   "cell_type": "markdown",
   "metadata": {},
   "source": [
    "First, we choose a new location for the database to ensure that we don't add a bunch of benchmarking data to the default one."
   ]
  },
  {
   "cell_type": "code",
   "execution_count": 1,
   "metadata": {
    "execution": {
     "iopub.execute_input": "2021-02-16T08:52:54.391695Z",
     "iopub.status.busy": "2021-02-16T08:52:54.391038Z",
     "iopub.status.idle": "2021-02-16T08:52:55.311035Z",
     "shell.execute_reply": "2021-02-16T08:52:55.310250Z"
    }
   },
   "outputs": [
    {
     "name": "stdout",
     "output_type": "stream",
     "text": [
      "Logging hadn't been started.\n",
      "Activating auto-logging. Current session state plus future input saved.\n",
      "Filename       : /home/runner/.qcodes/logs/command_history.log\n",
      "Mode           : append\n",
      "Output logging : True\n",
      "Raw input log  : False\n",
      "Timestamping   : True\n",
      "State          : active\n"
     ]
    },
    {
     "name": "stdout",
     "output_type": "stream",
     "text": [
      "Qcodes Logfile : /home/runner/.qcodes/logs/210216-4297-qcodes.log\n"
     ]
    }
   ],
   "source": [
    "import os\n",
    "cwd = os.getcwd()\n",
    "import qcodes as qc\n",
    "qc.config[\"core\"][\"db_location\"] = os.path.join(cwd, 'testing.db')\n"
   ]
  },
  {
   "cell_type": "code",
   "execution_count": 2,
   "metadata": {
    "execution": {
     "iopub.execute_input": "2021-02-16T08:52:55.318513Z",
     "iopub.status.busy": "2021-02-16T08:52:55.316677Z",
     "iopub.status.idle": "2021-02-16T08:52:55.524543Z",
     "shell.execute_reply": "2021-02-16T08:52:55.523921Z"
    }
   },
   "outputs": [],
   "source": [
    "%matplotlib inline\n",
    "import time\n",
    "import matplotlib.pyplot as plt\n",
    "import numpy as np\n",
    "\n",
    "import qcodes as qc\n",
    "from qcodes.instrument.parameter import ManualParameter\n",
    "from qcodes.dataset.experiment_container import (Experiment,\n",
    "                                                 load_last_experiment,\n",
    "                                                 new_experiment)\n",
    "from qcodes.dataset.sqlite.database import initialise_database\n",
    "from qcodes import load_or_create_experiment\n",
    "from qcodes.dataset.measurements import Measurement"
   ]
  },
  {
   "cell_type": "code",
   "execution_count": 3,
   "metadata": {
    "execution": {
     "iopub.execute_input": "2021-02-16T08:52:55.528288Z",
     "iopub.status.busy": "2021-02-16T08:52:55.527741Z",
     "iopub.status.idle": "2021-02-16T08:52:55.677775Z",
     "shell.execute_reply": "2021-02-16T08:52:55.678230Z"
    }
   },
   "outputs": [
    {
     "name": "stdout",
     "output_type": "stream",
     "text": [
      "\r",
      "0it [00:00, ?it/s]"
     ]
    },
    {
     "name": "stdout",
     "output_type": "stream",
     "text": [
      "\r",
      "Upgrading database; v0 -> v1: : 0it [00:00, ?it/s]"
     ]
    },
    {
     "name": "stdout",
     "output_type": "stream",
     "text": [
      "\r",
      "Upgrading database; v0 -> v1: : 0it [00:00, ?it/s]"
     ]
    },
    {
     "name": "stdout",
     "output_type": "stream",
     "text": [
      "\n",
      "\r",
      "  0%|          | 0/1 [00:00<?, ?it/s]"
     ]
    },
    {
     "name": "stdout",
     "output_type": "stream",
     "text": [
      "\r",
      "Upgrading database; v1 -> v2:   0%|          | 0/1 [00:00<?, ?it/s]"
     ]
    },
    {
     "name": "stdout",
     "output_type": "stream",
     "text": [
      "\r",
      "Upgrading database; v1 -> v2: 100%|██████████| 1/1 [00:00<00:00, 767.34it/s]"
     ]
    },
    {
     "name": "stdout",
     "output_type": "stream",
     "text": [
      "\n",
      "\r",
      "0it [00:00, ?it/s]"
     ]
    },
    {
     "name": "stdout",
     "output_type": "stream",
     "text": [
      "\r",
      "Upgrading database; v2 -> v3: : 0it [00:00, ?it/s]"
     ]
    },
    {
     "name": "stdout",
     "output_type": "stream",
     "text": [
      "\r",
      "Upgrading database; v2 -> v3: : 0it [00:00, ?it/s]"
     ]
    },
    {
     "name": "stdout",
     "output_type": "stream",
     "text": [
      "\n",
      "\r",
      "0it [00:00, ?it/s]"
     ]
    },
    {
     "name": "stdout",
     "output_type": "stream",
     "text": [
      "\r",
      "Upgrading database; v3 -> v4: : 0it [00:00, ?it/s]"
     ]
    },
    {
     "name": "stdout",
     "output_type": "stream",
     "text": [
      "\r",
      "Upgrading database; v3 -> v4: : 0it [00:00, ?it/s]"
     ]
    },
    {
     "name": "stdout",
     "output_type": "stream",
     "text": [
      "\n",
      "\r",
      "  0%|          | 0/1 [00:00<?, ?it/s]"
     ]
    },
    {
     "name": "stdout",
     "output_type": "stream",
     "text": [
      "\r",
      "Upgrading database; v4 -> v5:   0%|          | 0/1 [00:00<?, ?it/s]"
     ]
    },
    {
     "name": "stdout",
     "output_type": "stream",
     "text": [
      "\r",
      "Upgrading database; v4 -> v5: 100%|██████████| 1/1 [00:00<00:00, 334.74it/s]"
     ]
    },
    {
     "name": "stdout",
     "output_type": "stream",
     "text": [
      "\n",
      "\r",
      "0it [00:00, ?it/s]"
     ]
    },
    {
     "name": "stdout",
     "output_type": "stream",
     "text": [
      "\r",
      "Upgrading database; v5 -> v6: : 0it [00:00, ?it/s]"
     ]
    },
    {
     "name": "stdout",
     "output_type": "stream",
     "text": [
      "\r",
      "Upgrading database; v5 -> v6: : 0it [00:00, ?it/s]"
     ]
    },
    {
     "name": "stdout",
     "output_type": "stream",
     "text": [
      "\n",
      "\r",
      "  0%|          | 0/1 [00:00<?, ?it/s]"
     ]
    },
    {
     "name": "stdout",
     "output_type": "stream",
     "text": [
      "\r",
      "Upgrading database; v6 -> v7:   0%|          | 0/1 [00:00<?, ?it/s]"
     ]
    },
    {
     "name": "stdout",
     "output_type": "stream",
     "text": [
      "\r",
      "Upgrading database; v6 -> v7: 100%|██████████| 1/1 [00:00<00:00, 126.52it/s]"
     ]
    },
    {
     "name": "stdout",
     "output_type": "stream",
     "text": [
      "\n",
      "\r",
      "  0%|          | 0/1 [00:00<?, ?it/s]"
     ]
    },
    {
     "name": "stdout",
     "output_type": "stream",
     "text": [
      "\r",
      "Upgrading database; v7 -> v8:   0%|          | 0/1 [00:00<?, ?it/s]"
     ]
    },
    {
     "name": "stdout",
     "output_type": "stream",
     "text": [
      "\r",
      "Upgrading database; v7 -> v8: 100%|██████████| 1/1 [00:00<00:00, 656.49it/s]"
     ]
    },
    {
     "name": "stdout",
     "output_type": "stream",
     "text": [
      "\n",
      "\r",
      "  0%|          | 0/1 [00:00<?, ?it/s]"
     ]
    },
    {
     "name": "stdout",
     "output_type": "stream",
     "text": [
      "\r",
      "Upgrading database; v8 -> v9:   0%|          | 0/1 [00:00<?, ?it/s]"
     ]
    },
    {
     "name": "stdout",
     "output_type": "stream",
     "text": [
      "\r",
      "Upgrading database; v8 -> v9: 100%|██████████| 1/1 [00:00<00:00, 347.73it/s]"
     ]
    },
    {
     "name": "stdout",
     "output_type": "stream",
     "text": [
      "\n"
     ]
    }
   ],
   "source": [
    "initialise_database()\n",
    "exp = load_or_create_experiment(experiment_name='tutorial_exp', sample_name=\"no sample\")"
   ]
  },
  {
   "cell_type": "markdown",
   "metadata": {},
   "source": [
    "Here, we define a simple function to benchmark the time it takes to insert n points with either numeric or array data type.\n",
    "We will compare both the time used to call ``add_result`` and the time used for the full measurement."
   ]
  },
  {
   "cell_type": "code",
   "execution_count": 4,
   "metadata": {
    "execution": {
     "iopub.execute_input": "2021-02-16T08:52:55.687164Z",
     "iopub.status.busy": "2021-02-16T08:52:55.686297Z",
     "iopub.status.idle": "2021-02-16T08:52:55.690544Z",
     "shell.execute_reply": "2021-02-16T08:52:55.690004Z"
    }
   },
   "outputs": [],
   "source": [
    "def insert_data(paramtype, npoints, nreps=1):\n",
    "\n",
    "    meas = Measurement(exp=exp)\n",
    "\n",
    "    x1 = ManualParameter('x1')\n",
    "    x2 = ManualParameter('x2')\n",
    "    x3 = ManualParameter('x3')\n",
    "    y1 = ManualParameter('y1')\n",
    "    y2 = ManualParameter('y2')\n",
    "\n",
    "    meas.register_parameter(x1, paramtype=paramtype)\n",
    "    meas.register_parameter(x2, paramtype=paramtype)\n",
    "    meas.register_parameter(x3, paramtype=paramtype)\n",
    "    meas.register_parameter(y1, setpoints=[x1, x2, x3],\n",
    "                            paramtype=paramtype)\n",
    "    meas.register_parameter(y2, setpoints=[x1, x2, x3],\n",
    "                            paramtype=paramtype)\n",
    "    start = time.perf_counter()\n",
    "    with meas.run() as datasaver:\n",
    "        start_adding = time.perf_counter()\n",
    "        for i in range(nreps):\n",
    "            datasaver.add_result((x1, np.random.rand(npoints)),\n",
    "                                 (x2, np.random.rand(npoints)),\n",
    "                                 (x3, np.random.rand(npoints)),\n",
    "                                 (y1, np.random.rand(npoints)),\n",
    "                                 (y2, np.random.rand(npoints)))\n",
    "        stop_adding = time.perf_counter()\n",
    "        run_id = datasaver.run_id\n",
    "    stop = time.perf_counter()\n",
    "    tot_time = stop - start\n",
    "    add_time = stop_adding - start_adding\n",
    "    return tot_time, add_time, run_id"
   ]
  },
  {
   "cell_type": "markdown",
   "metadata": {},
   "source": [
    "## Comparison between numeric/array data and binary blob"
   ]
  },
  {
   "cell_type": "markdown",
   "metadata": {},
   "source": [
    "### Case1: Short experiment time"
   ]
  },
  {
   "cell_type": "code",
   "execution_count": 5,
   "metadata": {
    "execution": {
     "iopub.execute_input": "2021-02-16T08:52:55.698153Z",
     "iopub.status.busy": "2021-02-16T08:52:55.696862Z",
     "iopub.status.idle": "2021-02-16T08:52:56.618862Z",
     "shell.execute_reply": "2021-02-16T08:52:56.618315Z"
    }
   },
   "outputs": [
    {
     "name": "stdout",
     "output_type": "stream",
     "text": [
      "Starting experimental run with id: 1. \n",
      "Starting experimental run with id: 2. \n"
     ]
    },
    {
     "name": "stdout",
     "output_type": "stream",
     "text": [
      "Starting experimental run with id: 3. \n"
     ]
    },
    {
     "name": "stdout",
     "output_type": "stream",
     "text": [
      "Starting experimental run with id: 4. \n"
     ]
    },
    {
     "name": "stdout",
     "output_type": "stream",
     "text": [
      "Starting experimental run with id: 5. \n"
     ]
    },
    {
     "name": "stdout",
     "output_type": "stream",
     "text": [
      "Starting experimental run with id: 6. \n"
     ]
    },
    {
     "name": "stdout",
     "output_type": "stream",
     "text": [
      "Starting experimental run with id: 7. \n"
     ]
    },
    {
     "name": "stdout",
     "output_type": "stream",
     "text": [
      "Starting experimental run with id: 8. \n",
      "Starting experimental run with id: 9. \n"
     ]
    },
    {
     "name": "stdout",
     "output_type": "stream",
     "text": [
      "Starting experimental run with id: 10. \n",
      "Starting experimental run with id: 11. \n"
     ]
    },
    {
     "name": "stdout",
     "output_type": "stream",
     "text": [
      "Starting experimental run with id: 12. \n"
     ]
    },
    {
     "name": "stdout",
     "output_type": "stream",
     "text": [
      "Starting experimental run with id: 13. \n"
     ]
    },
    {
     "name": "stdout",
     "output_type": "stream",
     "text": [
      "Starting experimental run with id: 14. \n"
     ]
    }
   ],
   "source": [
    "sizes = [1,500,1000,2000,3000,4000,5000]\n",
    "t_numeric = []\n",
    "t_numeric_add = []\n",
    "t_array = []\n",
    "t_array_add = []\n",
    "for size in sizes:\n",
    "    tn, tna, run_id_n =  insert_data('numeric', size)\n",
    "    t_numeric.append(tn)\n",
    "    t_numeric_add.append(tna)\n",
    "\n",
    "    ta, taa, run_id_a =  insert_data('array', size)\n",
    "    t_array.append(ta)\n",
    "    t_array_add.append(taa)"
   ]
  },
  {
   "cell_type": "code",
   "execution_count": 6,
   "metadata": {
    "execution": {
     "iopub.execute_input": "2021-02-16T08:52:56.638219Z",
     "iopub.status.busy": "2021-02-16T08:52:56.637678Z",
     "iopub.status.idle": "2021-02-16T08:52:56.894186Z",
     "shell.execute_reply": "2021-02-16T08:52:56.894696Z"
    }
   },
   "outputs": [
    {
     "data": {
      "image/png": "[encoded data removed]",
      "text/plain": [
       "<Figure size 432x288 with 1 Axes>"
      ]
     },
     "metadata": {
      "needs_background": "light"
     },
     "output_type": "display_data"
    }
   ],
   "source": [
    "fig, ax = plt.subplots(1,1)\n",
    "ax.plot(sizes, t_numeric, 'o-', label='Inserting row-by-row')\n",
    "ax.plot(sizes, t_numeric_add, 'o-', label='Inserting row-by-row: add_result only')\n",
    "ax.plot(sizes, t_array, 'd-', label='Inserting as binary blob')\n",
    "ax.plot(sizes, t_array_add, 'd-', label='Inserting as binary blob: add_result only')\n",
    "ax.legend()\n",
    "ax.set_xlabel('Array length')\n",
    "ax.set_ylabel('Time (s)')\n",
    "fig.tight_layout()"
   ]
  },
  {
   "cell_type": "markdown",
   "metadata": {},
   "source": [
    "As shown in the latter figure, the time to setup and and close the experiment is approximately 0.4 sec. In case of small array sizes, the difference between inserting values of data as arrays and inserting them row-by-row is relatively unimportant. At larger array sizes, i.e. above 10000 points, the cost of writing data as individual datapoints starts to become important.\n"
   ]
  },
  {
   "cell_type": "markdown",
   "metadata": {},
   "source": [
    "### Case2: Long experiment time "
   ]
  },
  {
   "cell_type": "code",
   "execution_count": 7,
   "metadata": {
    "execution": {
     "iopub.execute_input": "2021-02-16T08:52:56.901687Z",
     "iopub.status.busy": "2021-02-16T08:52:56.899642Z",
     "iopub.status.idle": "2021-02-16T08:53:56.352048Z",
     "shell.execute_reply": "2021-02-16T08:53:56.351456Z"
    }
   },
   "outputs": [
    {
     "name": "stdout",
     "output_type": "stream",
     "text": [
      "Starting experimental run with id: 15. \n",
      "Starting experimental run with id: 16. \n"
     ]
    },
    {
     "name": "stdout",
     "output_type": "stream",
     "text": [
      "Starting experimental run with id: 17. \n"
     ]
    },
    {
     "name": "stdout",
     "output_type": "stream",
     "text": [
      "Starting experimental run with id: 18. \n"
     ]
    },
    {
     "name": "stdout",
     "output_type": "stream",
     "text": [
      "Starting experimental run with id: 19. \n"
     ]
    },
    {
     "name": "stdout",
     "output_type": "stream",
     "text": [
      "Starting experimental run with id: 20. \n"
     ]
    },
    {
     "name": "stdout",
     "output_type": "stream",
     "text": [
      "Starting experimental run with id: 21. \n"
     ]
    },
    {
     "name": "stdout",
     "output_type": "stream",
     "text": [
      "Starting experimental run with id: 22. \n"
     ]
    },
    {
     "name": "stdout",
     "output_type": "stream",
     "text": [
      "Starting experimental run with id: 23. \n"
     ]
    },
    {
     "name": "stdout",
     "output_type": "stream",
     "text": [
      "Starting experimental run with id: 24. \n"
     ]
    },
    {
     "name": "stdout",
     "output_type": "stream",
     "text": [
      "Starting experimental run with id: 25. \n"
     ]
    },
    {
     "name": "stdout",
     "output_type": "stream",
     "text": [
      "Starting experimental run with id: 26. \n"
     ]
    },
    {
     "name": "stdout",
     "output_type": "stream",
     "text": [
      "Starting experimental run with id: 27. \n"
     ]
    },
    {
     "name": "stdout",
     "output_type": "stream",
     "text": [
      "Starting experimental run with id: 28. \n"
     ]
    }
   ],
   "source": [
    "sizes = [1,500,1000,2000,3000,4000,5000]\n",
    "nreps = 100\n",
    "t_numeric = []\n",
    "t_numeric_add = []\n",
    "t_numeric_run_ids = []\n",
    "t_array = []\n",
    "t_array_add = []\n",
    "t_array_run_ids = []\n",
    "for size in sizes:\n",
    "    tn, tna, run_id_n =  insert_data('numeric', size, nreps=nreps)\n",
    "    t_numeric.append(tn)\n",
    "    t_numeric_add.append(tna)\n",
    "    t_numeric_run_ids.append(run_id_n)\n",
    "\n",
    "    ta, taa, run_id_a =  insert_data('array', size, nreps=nreps)\n",
    "    t_array.append(ta)\n",
    "    t_array_add.append(taa)\n",
    "    t_array_run_ids.append(run_id_a)"
   ]
  },
  {
   "cell_type": "code",
   "execution_count": 8,
   "metadata": {
    "execution": {
     "iopub.execute_input": "2021-02-16T08:53:56.370605Z",
     "iopub.status.busy": "2021-02-16T08:53:56.366438Z",
     "iopub.status.idle": "2021-02-16T08:53:56.604717Z",
     "shell.execute_reply": "2021-02-16T08:53:56.604182Z"
    },
    "scrolled": true
   },
   "outputs": [
    {
     "data": {
      "image/png": "[encoded data removed]",
      "text/plain": [
       "<Figure size 432x288 with 1 Axes>"
      ]
     },
     "metadata": {
      "needs_background": "light"
     },
     "output_type": "display_data"
    }
   ],
   "source": [
    "fig, ax = plt.subplots(1,1)\n",
    "ax.plot(sizes, t_numeric, 'o-', label='Inserting row-by-row')\n",
    "ax.plot(sizes, t_numeric_add, 'o-', label='Inserting row-by-row: add_result only')\n",
    "ax.plot(sizes, t_array, 'd-', label='Inserting as binary blob')\n",
    "ax.plot(sizes, t_array_add, 'd-', label='Inserting as binary blob: add_result only')\n",
    "ax.legend()\n",
    "ax.set_xlabel('Array length')\n",
    "ax.set_ylabel('Time (s)')\n",
    "fig.tight_layout()"
   ]
  },
  {
   "cell_type": "markdown",
   "metadata": {},
   "source": [
    "However, as we increase the length of the experiment, as seen here by repeating the insertion 100 times, we see a big difference between inserting values of the data row-by-row and inserting it as a binary blob."
   ]
  },
  {
   "cell_type": "markdown",
   "metadata": {},
   "source": [
    "## Loading the data "
   ]
  },
  {
   "cell_type": "code",
   "execution_count": 9,
   "metadata": {
    "execution": {
     "iopub.execute_input": "2021-02-16T08:53:56.609801Z",
     "iopub.status.busy": "2021-02-16T08:53:56.609086Z",
     "iopub.status.idle": "2021-02-16T08:53:56.611997Z",
     "shell.execute_reply": "2021-02-16T08:53:56.612485Z"
    }
   },
   "outputs": [],
   "source": [
    "from qcodes.dataset.data_set import load_by_id\n",
    "from qcodes.dataset.data_export import get_data_by_id"
   ]
  },
  {
   "cell_type": "markdown",
   "metadata": {},
   "source": [
    "As usual you can load the data by using the ``load_by_id`` function but you will notice that the different storage methods\n",
    "are reflected in shape of the data as it is retrieved. "
   ]
  },
  {
   "cell_type": "code",
   "execution_count": 10,
   "metadata": {
    "execution": {
     "iopub.execute_input": "2021-02-16T08:53:56.618360Z",
     "iopub.status.busy": "2021-02-16T08:53:56.617074Z",
     "iopub.status.idle": "2021-02-16T08:53:56.619813Z",
     "shell.execute_reply": "2021-02-16T08:53:56.620320Z"
    }
   },
   "outputs": [],
   "source": [
    "run_id_n = t_numeric_run_ids[0]\n",
    "run_id_a = t_array_run_ids[0]"
   ]
  },
  {
   "cell_type": "code",
   "execution_count": 11,
   "metadata": {
    "execution": {
     "iopub.execute_input": "2021-02-16T08:53:56.623749Z",
     "iopub.status.busy": "2021-02-16T08:53:56.623010Z",
     "iopub.status.idle": "2021-02-16T08:53:56.633394Z",
     "shell.execute_reply": "2021-02-16T08:53:56.633842Z"
    },
    "scrolled": true
   },
   "outputs": [
    {
     "data": {
      "text/plain": [
       "{'x1': {'x1': array([0.04107401, 0.04107401, 0.62532783, 0.62532783, 0.30259636,\n",
       "         0.30259636, 0.10905061, 0.10905061, 0.98029465, 0.98029465,\n",
       "         0.61481247, 0.61481247, 0.86823172, 0.86823172, 0.01774704,\n",
       "         0.01774704, 0.97776009, 0.97776009, 0.26898055, 0.26898055,\n",
       "         0.22827629, 0.22827629, 0.7851034 , 0.7851034 , 0.61112781,\n",
       "         0.61112781, 0.46239406, 0.46239406, 0.69318063, 0.69318063,\n",
       "         0.98398499, 0.98398499, 0.10141708, 0.10141708, 0.80747743,\n",
       "         0.80747743, 0.44075618, 0.44075618, 0.81884213, 0.81884213,\n",
       "         0.29275794, 0.29275794, 0.08898809, 0.08898809, 0.41125755,\n",
       "         0.41125755, 0.62207675, 0.62207675, 0.56829482, 0.56829482,\n",
       "         0.56887039, 0.56887039, 0.15388098, 0.15388098, 0.80641082,\n",
       "         0.80641082, 0.96370927, 0.96370927, 0.21055337, 0.21055337,\n",
       "         0.95841244, 0.95841244, 0.40126696, 0.40126696, 0.40103054,\n",
       "         0.40103054, 0.17741319, 0.17741319, 0.21457021, 0.21457021,\n",
       "         0.7042084 , 0.7042084 , 0.20881376, 0.20881376, 0.75931727,\n",
       "         0.75931727, 0.52147222, 0.52147222, 0.08659637, 0.08659637,\n",
       "         0.55618354, 0.55618354, 0.69603645, 0.69603645, 0.21276948,\n",
       "         0.21276948, 0.77245881, 0.77245881, 0.97133672, 0.97133672,\n",
       "         0.27410296, 0.27410296, 0.04315207, 0.04315207, 0.21609695,\n",
       "         0.21609695, 0.61276881, 0.61276881, 0.1461333 , 0.1461333 ,\n",
       "         0.3684519 , 0.3684519 , 0.33176719, 0.33176719, 0.09483341,\n",
       "         0.09483341, 0.1383706 , 0.1383706 , 0.25147257, 0.25147257,\n",
       "         0.9751524 , 0.9751524 , 0.43938746, 0.43938746, 0.64738677,\n",
       "         0.64738677, 0.24275062, 0.24275062, 0.53233299, 0.53233299,\n",
       "         0.92344021, 0.92344021, 0.28411584, 0.28411584, 0.12120265,\n",
       "         0.12120265, 0.93120082, 0.93120082, 0.44625657, 0.44625657,\n",
       "         0.366488  , 0.366488  , 0.70159705, 0.70159705, 0.80335819,\n",
       "         0.80335819, 0.56649738, 0.56649738, 0.71248443, 0.71248443,\n",
       "         0.02720152, 0.02720152, 0.73889612, 0.73889612, 0.11313126,\n",
       "         0.11313126, 0.65747465, 0.65747465, 0.64416486, 0.64416486,\n",
       "         0.51789185, 0.51789185, 0.23116531, 0.23116531, 0.42841243,\n",
       "         0.42841243, 0.30456787, 0.30456787, 0.78899483, 0.78899483,\n",
       "         0.9438347 , 0.9438347 , 0.77653259, 0.77653259, 0.0634612 ,\n",
       "         0.0634612 , 0.69408393, 0.69408393, 0.50753821, 0.50753821,\n",
       "         0.85775861, 0.85775861, 0.34116749, 0.34116749, 0.29293493,\n",
       "         0.29293493, 0.30916807, 0.30916807, 0.58730602, 0.58730602,\n",
       "         0.69041503, 0.69041503, 0.45625385, 0.45625385, 0.13232068,\n",
       "         0.13232068, 0.65101512, 0.65101512, 0.01630297, 0.01630297,\n",
       "         0.50231795, 0.50231795, 0.65978598, 0.65978598, 0.12568058,\n",
       "         0.12568058, 0.4583551 , 0.4583551 , 0.50490061, 0.50490061])}}"
      ]
     },
     "execution_count": 1,
     "metadata": {},
     "output_type": "execute_result"
    }
   ],
   "source": [
    "ds = load_by_id(run_id_n)\n",
    "ds.get_parameter_data('x1')"
   ]
  },
  {
   "cell_type": "markdown",
   "metadata": {},
   "source": [
    "And a dataset stored as binary arrays"
   ]
  },
  {
   "cell_type": "code",
   "execution_count": 12,
   "metadata": {
    "execution": {
     "iopub.execute_input": "2021-02-16T08:53:56.637184Z",
     "iopub.status.busy": "2021-02-16T08:53:56.636627Z",
     "iopub.status.idle": "2021-02-16T08:53:56.699717Z",
     "shell.execute_reply": "2021-02-16T08:53:56.700176Z"
    },
    "scrolled": true
   },
   "outputs": [
    {
     "data": {
      "text/plain": [
       "{'x1': {'x1': array([[0.8865159 ],\n",
       "         [0.8865159 ],\n",
       "         [0.59326985],\n",
       "         [0.59326985],\n",
       "         [0.3379161 ],\n",
       "         [0.3379161 ],\n",
       "         [0.08418127],\n",
       "         [0.08418127],\n",
       "         [0.29606098],\n",
       "         [0.29606098],\n",
       "         [0.30584114],\n",
       "         [0.30584114],\n",
       "         [0.21245956],\n",
       "         [0.21245956],\n",
       "         [0.96452282],\n",
       "         [0.96452282],\n",
       "         [0.06551468],\n",
       "         [0.06551468],\n",
       "         [0.71745888],\n",
       "         [0.71745888],\n",
       "         [0.47520216],\n",
       "         [0.47520216],\n",
       "         [0.31831888],\n",
       "         [0.31831888],\n",
       "         [0.4686254 ],\n",
       "         [0.4686254 ],\n",
       "         [0.03674513],\n",
       "         [0.03674513],\n",
       "         [0.13403432],\n",
       "         [0.13403432],\n",
       "         [0.61951111],\n",
       "         [0.61951111],\n",
       "         [0.27332947],\n",
       "         [0.27332947],\n",
       "         [0.00981662],\n",
       "         [0.00981662],\n",
       "         [0.12234508],\n",
       "         [0.12234508],\n",
       "         [0.72162344],\n",
       "         [0.72162344],\n",
       "         [0.47425428],\n",
       "         [0.47425428],\n",
       "         [0.83852615],\n",
       "         [0.83852615],\n",
       "         [0.26978119],\n",
       "         [0.26978119],\n",
       "         [0.42695474],\n",
       "         [0.42695474],\n",
       "         [0.72522396],\n",
       "         [0.72522396],\n",
       "         [0.87969944],\n",
       "         [0.87969944],\n",
       "         [0.37774043],\n",
       "         [0.37774043],\n",
       "         [0.11074253],\n",
       "         [0.11074253],\n",
       "         [0.34942163],\n",
       "         [0.34942163],\n",
       "         [0.69146207],\n",
       "         [0.69146207],\n",
       "         [0.53042758],\n",
       "         [0.53042758],\n",
       "         [0.98890724],\n",
       "         [0.98890724],\n",
       "         [0.79765552],\n",
       "         [0.79765552],\n",
       "         [0.65092409],\n",
       "         [0.65092409],\n",
       "         [0.66610614],\n",
       "         [0.66610614],\n",
       "         [0.15542996],\n",
       "         [0.15542996],\n",
       "         [0.70121333],\n",
       "         [0.70121333],\n",
       "         [0.97244279],\n",
       "         [0.97244279],\n",
       "         [0.66977967],\n",
       "         [0.66977967],\n",
       "         [0.74116389],\n",
       "         [0.74116389],\n",
       "         [0.71002938],\n",
       "         [0.71002938],\n",
       "         [0.56147241],\n",
       "         [0.56147241],\n",
       "         [0.69258508],\n",
       "         [0.69258508],\n",
       "         [0.84784856],\n",
       "         [0.84784856],\n",
       "         [0.8120988 ],\n",
       "         [0.8120988 ],\n",
       "         [0.76461929],\n",
       "         [0.76461929],\n",
       "         [0.71342219],\n",
       "         [0.71342219],\n",
       "         [0.87790689],\n",
       "         [0.87790689],\n",
       "         [0.42838624],\n",
       "         [0.42838624],\n",
       "         [0.81207504],\n",
       "         [0.81207504],\n",
       "         [0.2266766 ],\n",
       "         [0.2266766 ],\n",
       "         [0.99449607],\n",
       "         [0.99449607],\n",
       "         [0.30038572],\n",
       "         [0.30038572],\n",
       "         [0.58083321],\n",
       "         [0.58083321],\n",
       "         [0.28987612],\n",
       "         [0.28987612],\n",
       "         [0.73399307],\n",
       "         [0.73399307],\n",
       "         [0.7369621 ],\n",
       "         [0.7369621 ],\n",
       "         [0.49503204],\n",
       "         [0.49503204],\n",
       "         [0.84958173],\n",
       "         [0.84958173],\n",
       "         [0.34204483],\n",
       "         [0.34204483],\n",
       "         [0.81676145],\n",
       "         [0.81676145],\n",
       "         [0.88602923],\n",
       "         [0.88602923],\n",
       "         [0.7049056 ],\n",
       "         [0.7049056 ],\n",
       "         [0.26812846],\n",
       "         [0.26812846],\n",
       "         [0.29304925],\n",
       "         [0.29304925],\n",
       "         [0.93698059],\n",
       "         [0.93698059],\n",
       "         [0.29277548],\n",
       "         [0.29277548],\n",
       "         [0.3959458 ],\n",
       "         [0.3959458 ],\n",
       "         [0.79121345],\n",
       "         [0.79121345],\n",
       "         [0.15331838],\n",
       "         [0.15331838],\n",
       "         [0.21281777],\n",
       "         [0.21281777],\n",
       "         [0.09008925],\n",
       "         [0.09008925],\n",
       "         [0.66587786],\n",
       "         [0.66587786],\n",
       "         [0.71134212],\n",
       "         [0.71134212],\n",
       "         [0.30751118],\n",
       "         [0.30751118],\n",
       "         [0.8632401 ],\n",
       "         [0.8632401 ],\n",
       "         [0.62609236],\n",
       "         [0.62609236],\n",
       "         [0.01222648],\n",
       "         [0.01222648],\n",
       "         [0.47958531],\n",
       "         [0.47958531],\n",
       "         [0.48891058],\n",
       "         [0.48891058],\n",
       "         [0.42757051],\n",
       "         [0.42757051],\n",
       "         [0.04633508],\n",
       "         [0.04633508],\n",
       "         [0.00824355],\n",
       "         [0.00824355],\n",
       "         [0.48477971],\n",
       "         [0.48477971],\n",
       "         [0.65666112],\n",
       "         [0.65666112],\n",
       "         [0.42715793],\n",
       "         [0.42715793],\n",
       "         [0.60385368],\n",
       "         [0.60385368],\n",
       "         [0.47410084],\n",
       "         [0.47410084],\n",
       "         [0.875821  ],\n",
       "         [0.875821  ],\n",
       "         [0.29476299],\n",
       "         [0.29476299],\n",
       "         [0.30415222],\n",
       "         [0.30415222],\n",
       "         [0.01960955],\n",
       "         [0.01960955],\n",
       "         [0.4754445 ],\n",
       "         [0.4754445 ],\n",
       "         [0.4728693 ],\n",
       "         [0.4728693 ],\n",
       "         [0.56652444],\n",
       "         [0.56652444],\n",
       "         [0.55992884],\n",
       "         [0.55992884],\n",
       "         [0.83016654],\n",
       "         [0.83016654],\n",
       "         [0.30342997],\n",
       "         [0.30342997],\n",
       "         [0.67882789],\n",
       "         [0.67882789],\n",
       "         [0.36175161],\n",
       "         [0.36175161]])}}"
      ]
     },
     "execution_count": 1,
     "metadata": {},
     "output_type": "execute_result"
    }
   ],
   "source": [
    "ds = load_by_id(run_id_a)\n",
    "ds.get_parameter_data('x1')"
   ]
  },
  {
   "cell_type": "code",
   "execution_count": null,
   "metadata": {},
   "outputs": [],
   "source": []
  }
 ],
 "metadata": {
  "kernelspec": {
   "display_name": "Python 3",
   "language": "python",
   "name": "python3"
  },
  "language_info": {
   "codemirror_mode": {
    "name": "ipython",
    "version": 3
   },
   "file_extension": ".py",
   "mimetype": "text/x-python",
   "name": "python",
   "nbconvert_exporter": "python",
   "pygments_lexer": "ipython3",
   "version": "3.7.9"
  },
  "nbsphinx": {
   "timeout": 600
  },
  "toc": {
   "base_numbering": 1,
   "nav_menu": {},
   "number_sections": true,
   "sideBar": true,
   "skip_h1_title": false,
   "title_cell": "Table of Contents",
   "title_sidebar": "Contents",
   "toc_cell": false,
   "toc_position": {},
   "toc_section_display": true,
   "toc_window_display": false
  },
  "varInspector": {
   "cols": {
    "lenName": 16,
    "lenType": 16,
    "lenVar": 40
   },
   "kernels_config": {
    "python": {
     "delete_cmd_postfix": "",
     "delete_cmd_prefix": "del ",
     "library": "var_list.py",
     "varRefreshCmd": "print(var_dic_list())"
    },
    "r": {
     "delete_cmd_postfix": ") ",
     "delete_cmd_prefix": "rm(",
     "library": "var_list.r",
     "varRefreshCmd": "cat(var_dic_list()) "
    }
   },
   "types_to_exclude": [
    "module",
    "function",
    "builtin_function_or_method",
    "instance",
    "_Feature"
   ],
   "window_display": false
  }
 },
 "nbformat": 4,
 "nbformat_minor": 2
}
