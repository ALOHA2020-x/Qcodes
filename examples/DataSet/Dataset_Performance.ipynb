{
 "cells": [
  {
   "cell_type": "markdown",
   "metadata": {},
   "source": [
    "# DataSet Performance\n",
    "\n",
    "This notebook shows the trade-off between inserting data into a database row-by-row and as binary blobs. Inserting the data row-by-row means that we have direct access to all the data and may perform queries directly on the values of the data. On the other hand, as we shall see, this is much slower than inserting the data directly as binary blobs."
   ]
  },
  {
   "cell_type": "markdown",
   "metadata": {},
   "source": [
    "First, we choose a new location for the database to ensure that we don't add a bunch of benchmarking data to the default one."
   ]
  },
  {
   "cell_type": "code",
   "execution_count": 1,
   "metadata": {
    "execution": {
     "iopub.execute_input": "2021-02-23T10:51:53.171084Z",
     "iopub.status.busy": "2021-02-23T10:51:53.170527Z",
     "iopub.status.idle": "2021-02-23T10:51:53.913986Z",
     "shell.execute_reply": "2021-02-23T10:51:53.914464Z"
    }
   },
   "outputs": [
    {
     "name": "stdout",
     "output_type": "stream",
     "text": [
      "Logging hadn't been started.\n",
      "Activating auto-logging. Current session state plus future input saved.\n",
      "Filename       : /home/runner/.qcodes/logs/command_history.log\n",
      "Mode           : append\n",
      "Output logging : True\n",
      "Raw input log  : False\n",
      "Timestamping   : True\n",
      "State          : active\n"
     ]
    },
    {
     "name": "stdout",
     "output_type": "stream",
     "text": [
      "Qcodes Logfile : /home/runner/.qcodes/logs/210223-3807-qcodes.log\n"
     ]
    }
   ],
   "source": [
    "import os\n",
    "cwd = os.getcwd()\n",
    "import qcodes as qc\n",
    "qc.config[\"core\"][\"db_location\"] = os.path.join(cwd, 'testing.db')\n"
   ]
  },
  {
   "cell_type": "code",
   "execution_count": 2,
   "metadata": {
    "execution": {
     "iopub.execute_input": "2021-02-23T10:51:53.921059Z",
     "iopub.status.busy": "2021-02-23T10:51:53.919695Z",
     "iopub.status.idle": "2021-02-23T10:51:54.083264Z",
     "shell.execute_reply": "2021-02-23T10:51:54.081903Z"
    }
   },
   "outputs": [],
   "source": [
    "%matplotlib inline\n",
    "import time\n",
    "import matplotlib.pyplot as plt\n",
    "import numpy as np\n",
    "\n",
    "import qcodes as qc\n",
    "from qcodes.instrument.parameter import ManualParameter\n",
    "from qcodes.dataset.experiment_container import (Experiment,\n",
    "                                                 load_last_experiment,\n",
    "                                                 new_experiment)\n",
    "from qcodes.dataset.sqlite.database import initialise_database\n",
    "from qcodes import load_or_create_experiment\n",
    "from qcodes.dataset.measurements import Measurement"
   ]
  },
  {
   "cell_type": "code",
   "execution_count": 3,
   "metadata": {
    "execution": {
     "iopub.execute_input": "2021-02-23T10:51:54.087234Z",
     "iopub.status.busy": "2021-02-23T10:51:54.086577Z",
     "iopub.status.idle": "2021-02-23T10:51:54.200425Z",
     "shell.execute_reply": "2021-02-23T10:51:54.200773Z"
    }
   },
   "outputs": [
    {
     "name": "stdout",
     "output_type": "stream",
     "text": [
      "\r",
      "0it [00:00, ?it/s]"
     ]
    },
    {
     "name": "stdout",
     "output_type": "stream",
     "text": [
      "\r",
      "Upgrading database; v0 -> v1: : 0it [00:00, ?it/s]"
     ]
    },
    {
     "name": "stdout",
     "output_type": "stream",
     "text": [
      "\r",
      "Upgrading database; v0 -> v1: : 0it [00:00, ?it/s]"
     ]
    },
    {
     "name": "stdout",
     "output_type": "stream",
     "text": [
      "\n",
      "\r",
      "  0%|          | 0/1 [00:00<?, ?it/s]"
     ]
    },
    {
     "name": "stdout",
     "output_type": "stream",
     "text": [
      "\r",
      "Upgrading database; v1 -> v2:   0%|          | 0/1 [00:00<?, ?it/s]"
     ]
    },
    {
     "name": "stdout",
     "output_type": "stream",
     "text": [
      "\r",
      "Upgrading database; v1 -> v2: 100%|██████████| 1/1 [00:00<00:00, 700.33it/s]"
     ]
    },
    {
     "name": "stdout",
     "output_type": "stream",
     "text": [
      "\n",
      "\r",
      "0it [00:00, ?it/s]"
     ]
    },
    {
     "name": "stdout",
     "output_type": "stream",
     "text": [
      "\r",
      "Upgrading database; v2 -> v3: : 0it [00:00, ?it/s]"
     ]
    },
    {
     "name": "stdout",
     "output_type": "stream",
     "text": [
      "\r",
      "Upgrading database; v2 -> v3: : 0it [00:00, ?it/s]"
     ]
    },
    {
     "name": "stdout",
     "output_type": "stream",
     "text": [
      "\n",
      "\r",
      "0it [00:00, ?it/s]"
     ]
    },
    {
     "name": "stdout",
     "output_type": "stream",
     "text": [
      "\r",
      "Upgrading database; v3 -> v4: : 0it [00:00, ?it/s]"
     ]
    },
    {
     "name": "stdout",
     "output_type": "stream",
     "text": [
      "\r",
      "Upgrading database; v3 -> v4: : 0it [00:00, ?it/s]"
     ]
    },
    {
     "name": "stdout",
     "output_type": "stream",
     "text": [
      "\n",
      "\r",
      "  0%|          | 0/1 [00:00<?, ?it/s]"
     ]
    },
    {
     "name": "stdout",
     "output_type": "stream",
     "text": [
      "\r",
      "Upgrading database; v4 -> v5:   0%|          | 0/1 [00:00<?, ?it/s]"
     ]
    },
    {
     "name": "stdout",
     "output_type": "stream",
     "text": [
      "\r",
      "Upgrading database; v4 -> v5: 100%|██████████| 1/1 [00:00<00:00, 486.47it/s]"
     ]
    },
    {
     "name": "stdout",
     "output_type": "stream",
     "text": [
      "\n",
      "\r",
      "0it [00:00, ?it/s]"
     ]
    },
    {
     "name": "stdout",
     "output_type": "stream",
     "text": [
      "\r",
      "Upgrading database; v5 -> v6: : 0it [00:00, ?it/s]"
     ]
    },
    {
     "name": "stdout",
     "output_type": "stream",
     "text": [
      "\r",
      "Upgrading database; v5 -> v6: : 0it [00:00, ?it/s]"
     ]
    },
    {
     "name": "stdout",
     "output_type": "stream",
     "text": [
      "\n",
      "\r",
      "  0%|          | 0/1 [00:00<?, ?it/s]"
     ]
    },
    {
     "name": "stdout",
     "output_type": "stream",
     "text": [
      "\r",
      "Upgrading database; v6 -> v7:   0%|          | 0/1 [00:00<?, ?it/s]"
     ]
    },
    {
     "name": "stdout",
     "output_type": "stream",
     "text": [
      "\r",
      "Upgrading database; v6 -> v7: 100%|██████████| 1/1 [00:00<00:00, 252.49it/s]"
     ]
    },
    {
     "name": "stdout",
     "output_type": "stream",
     "text": [
      "\n",
      "\r",
      "  0%|          | 0/1 [00:00<?, ?it/s]"
     ]
    },
    {
     "name": "stdout",
     "output_type": "stream",
     "text": [
      "\r",
      "Upgrading database; v7 -> v8:   0%|          | 0/1 [00:00<?, ?it/s]"
     ]
    },
    {
     "name": "stdout",
     "output_type": "stream",
     "text": [
      "\r",
      "Upgrading database; v7 -> v8: 100%|██████████| 1/1 [00:00<00:00, 845.63it/s]"
     ]
    },
    {
     "name": "stdout",
     "output_type": "stream",
     "text": [
      "\n",
      "\r",
      "  0%|          | 0/1 [00:00<?, ?it/s]"
     ]
    },
    {
     "name": "stdout",
     "output_type": "stream",
     "text": [
      "\r",
      "Upgrading database; v8 -> v9:   0%|          | 0/1 [00:00<?, ?it/s]"
     ]
    },
    {
     "name": "stdout",
     "output_type": "stream",
     "text": [
      "\r",
      "Upgrading database; v8 -> v9: 100%|██████████| 1/1 [00:00<00:00, 680.23it/s]"
     ]
    },
    {
     "name": "stdout",
     "output_type": "stream",
     "text": [
      "\n"
     ]
    }
   ],
   "source": [
    "initialise_database()\n",
    "exp = load_or_create_experiment(experiment_name='tutorial_exp', sample_name=\"no sample\")"
   ]
  },
  {
   "cell_type": "markdown",
   "metadata": {},
   "source": [
    "Here, we define a simple function to benchmark the time it takes to insert n points with either numeric or array data type.\n",
    "We will compare both the time used to call ``add_result`` and the time used for the full measurement."
   ]
  },
  {
   "cell_type": "code",
   "execution_count": 4,
   "metadata": {
    "execution": {
     "iopub.execute_input": "2021-02-23T10:51:54.207875Z",
     "iopub.status.busy": "2021-02-23T10:51:54.207186Z",
     "iopub.status.idle": "2021-02-23T10:51:54.210812Z",
     "shell.execute_reply": "2021-02-23T10:51:54.209888Z"
    }
   },
   "outputs": [],
   "source": [
    "def insert_data(paramtype, npoints, nreps=1):\n",
    "\n",
    "    meas = Measurement(exp=exp)\n",
    "\n",
    "    x1 = ManualParameter('x1')\n",
    "    x2 = ManualParameter('x2')\n",
    "    x3 = ManualParameter('x3')\n",
    "    y1 = ManualParameter('y1')\n",
    "    y2 = ManualParameter('y2')\n",
    "\n",
    "    meas.register_parameter(x1, paramtype=paramtype)\n",
    "    meas.register_parameter(x2, paramtype=paramtype)\n",
    "    meas.register_parameter(x3, paramtype=paramtype)\n",
    "    meas.register_parameter(y1, setpoints=[x1, x2, x3],\n",
    "                            paramtype=paramtype)\n",
    "    meas.register_parameter(y2, setpoints=[x1, x2, x3],\n",
    "                            paramtype=paramtype)\n",
    "    start = time.perf_counter()\n",
    "    with meas.run() as datasaver:\n",
    "        start_adding = time.perf_counter()\n",
    "        for i in range(nreps):\n",
    "            datasaver.add_result((x1, np.random.rand(npoints)),\n",
    "                                 (x2, np.random.rand(npoints)),\n",
    "                                 (x3, np.random.rand(npoints)),\n",
    "                                 (y1, np.random.rand(npoints)),\n",
    "                                 (y2, np.random.rand(npoints)))\n",
    "        stop_adding = time.perf_counter()\n",
    "        run_id = datasaver.run_id\n",
    "    stop = time.perf_counter()\n",
    "    tot_time = stop - start\n",
    "    add_time = stop_adding - start_adding\n",
    "    return tot_time, add_time, run_id"
   ]
  },
  {
   "cell_type": "markdown",
   "metadata": {},
   "source": [
    "## Comparison between numeric/array data and binary blob"
   ]
  },
  {
   "cell_type": "markdown",
   "metadata": {},
   "source": [
    "### Case1: Short experiment time"
   ]
  },
  {
   "cell_type": "code",
   "execution_count": 5,
   "metadata": {
    "execution": {
     "iopub.execute_input": "2021-02-23T10:51:54.219042Z",
     "iopub.status.busy": "2021-02-23T10:51:54.217328Z",
     "iopub.status.idle": "2021-02-23T10:51:54.958371Z",
     "shell.execute_reply": "2021-02-23T10:51:54.957981Z"
    }
   },
   "outputs": [
    {
     "name": "stdout",
     "output_type": "stream",
     "text": [
      "Starting experimental run with id: 1. \n",
      "Starting experimental run with id: 2. \n",
      "Starting experimental run with id: 3. \n",
      "Starting experimental run with id: 4. \n",
      "Starting experimental run with id: 5. \n"
     ]
    },
    {
     "name": "stdout",
     "output_type": "stream",
     "text": [
      "Starting experimental run with id: 6. \n"
     ]
    },
    {
     "name": "stdout",
     "output_type": "stream",
     "text": [
      "Starting experimental run with id: 7. \n"
     ]
    },
    {
     "name": "stdout",
     "output_type": "stream",
     "text": [
      "Starting experimental run with id: 8. \n",
      "Starting experimental run with id: 9. \n"
     ]
    },
    {
     "name": "stdout",
     "output_type": "stream",
     "text": [
      "Starting experimental run with id: 10. \n",
      "Starting experimental run with id: 11. \n"
     ]
    },
    {
     "name": "stdout",
     "output_type": "stream",
     "text": [
      "Starting experimental run with id: 12. \n",
      "Starting experimental run with id: 13. \n"
     ]
    },
    {
     "name": "stdout",
     "output_type": "stream",
     "text": [
      "Starting experimental run with id: 14. \n"
     ]
    }
   ],
   "source": [
    "sizes = [1,500,1000,2000,3000,4000,5000]\n",
    "t_numeric = []\n",
    "t_numeric_add = []\n",
    "t_array = []\n",
    "t_array_add = []\n",
    "for size in sizes:\n",
    "    tn, tna, run_id_n =  insert_data('numeric', size)\n",
    "    t_numeric.append(tn)\n",
    "    t_numeric_add.append(tna)\n",
    "\n",
    "    ta, taa, run_id_a =  insert_data('array', size)\n",
    "    t_array.append(ta)\n",
    "    t_array_add.append(taa)"
   ]
  },
  {
   "cell_type": "code",
   "execution_count": 6,
   "metadata": {
    "execution": {
     "iopub.execute_input": "2021-02-23T10:51:54.998313Z",
     "iopub.status.busy": "2021-02-23T10:51:54.997489Z",
     "iopub.status.idle": "2021-02-23T10:51:55.143801Z",
     "shell.execute_reply": "2021-02-23T10:51:55.144503Z"
    }
   },
   "outputs": [
    {
     "data": {
      "image/png": "[encoded data removed]",
      "text/plain": [
       "<Figure size 432x288 with 1 Axes>"
      ]
     },
     "metadata": {
      "needs_background": "light"
     },
     "output_type": "display_data"
    }
   ],
   "source": [
    "fig, ax = plt.subplots(1,1)\n",
    "ax.plot(sizes, t_numeric, 'o-', label='Inserting row-by-row')\n",
    "ax.plot(sizes, t_numeric_add, 'o-', label='Inserting row-by-row: add_result only')\n",
    "ax.plot(sizes, t_array, 'd-', label='Inserting as binary blob')\n",
    "ax.plot(sizes, t_array_add, 'd-', label='Inserting as binary blob: add_result only')\n",
    "ax.legend()\n",
    "ax.set_xlabel('Array length')\n",
    "ax.set_ylabel('Time (s)')\n",
    "fig.tight_layout()"
   ]
  },
  {
   "cell_type": "markdown",
   "metadata": {},
   "source": [
    "As shown in the latter figure, the time to setup and and close the experiment is approximately 0.4 sec. In case of small array sizes, the difference between inserting values of data as arrays and inserting them row-by-row is relatively unimportant. At larger array sizes, i.e. above 10000 points, the cost of writing data as individual datapoints starts to become important.\n"
   ]
  },
  {
   "cell_type": "markdown",
   "metadata": {},
   "source": [
    "### Case2: Long experiment time "
   ]
  },
  {
   "cell_type": "code",
   "execution_count": 7,
   "metadata": {
    "execution": {
     "iopub.execute_input": "2021-02-23T10:51:55.147141Z",
     "iopub.status.busy": "2021-02-23T10:51:55.146511Z",
     "iopub.status.idle": "2021-02-23T10:52:47.093981Z",
     "shell.execute_reply": "2021-02-23T10:52:47.092839Z"
    }
   },
   "outputs": [
    {
     "name": "stdout",
     "output_type": "stream",
     "text": [
      "Starting experimental run with id: 15. \n",
      "Starting experimental run with id: 16. \n",
      "Starting experimental run with id: 17. \n"
     ]
    },
    {
     "name": "stdout",
     "output_type": "stream",
     "text": [
      "Starting experimental run with id: 18. \n",
      "Starting experimental run with id: 19. \n"
     ]
    },
    {
     "name": "stdout",
     "output_type": "stream",
     "text": [
      "Starting experimental run with id: 20. \n"
     ]
    },
    {
     "name": "stdout",
     "output_type": "stream",
     "text": [
      "Starting experimental run with id: 21. \n"
     ]
    },
    {
     "name": "stdout",
     "output_type": "stream",
     "text": [
      "Starting experimental run with id: 22. \n"
     ]
    },
    {
     "name": "stdout",
     "output_type": "stream",
     "text": [
      "Starting experimental run with id: 23. \n"
     ]
    },
    {
     "name": "stdout",
     "output_type": "stream",
     "text": [
      "Starting experimental run with id: 24. \n"
     ]
    },
    {
     "name": "stdout",
     "output_type": "stream",
     "text": [
      "Starting experimental run with id: 25. \n"
     ]
    },
    {
     "name": "stdout",
     "output_type": "stream",
     "text": [
      "Starting experimental run with id: 26. \n"
     ]
    },
    {
     "name": "stdout",
     "output_type": "stream",
     "text": [
      "Starting experimental run with id: 27. \n"
     ]
    },
    {
     "name": "stdout",
     "output_type": "stream",
     "text": [
      "Starting experimental run with id: 28. \n"
     ]
    }
   ],
   "source": [
    "sizes = [1,500,1000,2000,3000,4000,5000]\n",
    "nreps = 100\n",
    "t_numeric = []\n",
    "t_numeric_add = []\n",
    "t_numeric_run_ids = []\n",
    "t_array = []\n",
    "t_array_add = []\n",
    "t_array_run_ids = []\n",
    "for size in sizes:\n",
    "    tn, tna, run_id_n =  insert_data('numeric', size, nreps=nreps)\n",
    "    t_numeric.append(tn)\n",
    "    t_numeric_add.append(tna)\n",
    "    t_numeric_run_ids.append(run_id_n)\n",
    "\n",
    "    ta, taa, run_id_a =  insert_data('array', size, nreps=nreps)\n",
    "    t_array.append(ta)\n",
    "    t_array_add.append(taa)\n",
    "    t_array_run_ids.append(run_id_a)"
   ]
  },
  {
   "cell_type": "code",
   "execution_count": 8,
   "metadata": {
    "execution": {
     "iopub.execute_input": "2021-02-23T10:52:47.135687Z",
     "iopub.status.busy": "2021-02-23T10:52:47.134859Z",
     "iopub.status.idle": "2021-02-23T10:52:47.291488Z",
     "shell.execute_reply": "2021-02-23T10:52:47.291933Z"
    },
    "scrolled": true
   },
   "outputs": [
    {
     "data": {
      "image/png": "[encoded data removed]",
      "text/plain": [
       "<Figure size 432x288 with 1 Axes>"
      ]
     },
     "metadata": {
      "needs_background": "light"
     },
     "output_type": "display_data"
    }
   ],
   "source": [
    "fig, ax = plt.subplots(1,1)\n",
    "ax.plot(sizes, t_numeric, 'o-', label='Inserting row-by-row')\n",
    "ax.plot(sizes, t_numeric_add, 'o-', label='Inserting row-by-row: add_result only')\n",
    "ax.plot(sizes, t_array, 'd-', label='Inserting as binary blob')\n",
    "ax.plot(sizes, t_array_add, 'd-', label='Inserting as binary blob: add_result only')\n",
    "ax.legend()\n",
    "ax.set_xlabel('Array length')\n",
    "ax.set_ylabel('Time (s)')\n",
    "fig.tight_layout()"
   ]
  },
  {
   "cell_type": "markdown",
   "metadata": {},
   "source": [
    "However, as we increase the length of the experiment, as seen here by repeating the insertion 100 times, we see a big difference between inserting values of the data row-by-row and inserting it as a binary blob."
   ]
  },
  {
   "cell_type": "markdown",
   "metadata": {},
   "source": [
    "## Loading the data "
   ]
  },
  {
   "cell_type": "code",
   "execution_count": 9,
   "metadata": {
    "execution": {
     "iopub.execute_input": "2021-02-23T10:52:47.295780Z",
     "iopub.status.busy": "2021-02-23T10:52:47.294515Z",
     "iopub.status.idle": "2021-02-23T10:52:47.297867Z",
     "shell.execute_reply": "2021-02-23T10:52:47.298555Z"
    }
   },
   "outputs": [],
   "source": [
    "from qcodes.dataset.data_set import load_by_id\n",
    "from qcodes.dataset.data_export import get_data_by_id"
   ]
  },
  {
   "cell_type": "markdown",
   "metadata": {},
   "source": [
    "As usual you can load the data by using the ``load_by_id`` function but you will notice that the different storage methods\n",
    "are reflected in shape of the data as it is retrieved. "
   ]
  },
  {
   "cell_type": "code",
   "execution_count": 10,
   "metadata": {
    "execution": {
     "iopub.execute_input": "2021-02-23T10:52:47.302539Z",
     "iopub.status.busy": "2021-02-23T10:52:47.302016Z",
     "iopub.status.idle": "2021-02-23T10:52:47.305071Z",
     "shell.execute_reply": "2021-02-23T10:52:47.305513Z"
    }
   },
   "outputs": [],
   "source": [
    "run_id_n = t_numeric_run_ids[0]\n",
    "run_id_a = t_array_run_ids[0]"
   ]
  },
  {
   "cell_type": "code",
   "execution_count": 11,
   "metadata": {
    "execution": {
     "iopub.execute_input": "2021-02-23T10:52:47.309321Z",
     "iopub.status.busy": "2021-02-23T10:52:47.308812Z",
     "iopub.status.idle": "2021-02-23T10:52:47.319740Z",
     "shell.execute_reply": "2021-02-23T10:52:47.320480Z"
    },
    "scrolled": true
   },
   "outputs": [
    {
     "data": {
      "text/plain": [
       "{'x1': {'x1': array([0.39460199, 0.39460199, 0.46584515, 0.46584515, 0.48196906,\n",
       "         0.48196906, 0.65377731, 0.65377731, 0.89427335, 0.89427335,\n",
       "         0.35797947, 0.35797947, 0.45117479, 0.45117479, 0.38035936,\n",
       "         0.38035936, 0.32411364, 0.32411364, 0.96395712, 0.96395712,\n",
       "         0.76421889, 0.76421889, 0.45701724, 0.45701724, 0.27675597,\n",
       "         0.27675597, 0.3694564 , 0.3694564 , 0.37180658, 0.37180658,\n",
       "         0.28192544, 0.28192544, 0.89842891, 0.89842891, 0.68137754,\n",
       "         0.68137754, 0.49408778, 0.49408778, 0.71930251, 0.71930251,\n",
       "         0.60009722, 0.60009722, 0.30766209, 0.30766209, 0.25650817,\n",
       "         0.25650817, 0.0119963 , 0.0119963 , 0.30313325, 0.30313325,\n",
       "         0.18902644, 0.18902644, 0.35913151, 0.35913151, 0.97199963,\n",
       "         0.97199963, 0.9209027 , 0.9209027 , 0.96060988, 0.96060988,\n",
       "         0.82753277, 0.82753277, 0.09681127, 0.09681127, 0.32194381,\n",
       "         0.32194381, 0.07190214, 0.07190214, 0.43295503, 0.43295503,\n",
       "         0.69328393, 0.69328393, 0.49400941, 0.49400941, 0.78458322,\n",
       "         0.78458322, 0.7162036 , 0.7162036 , 0.16269145, 0.16269145,\n",
       "         0.63201236, 0.63201236, 0.00526433, 0.00526433, 0.59966407,\n",
       "         0.59966407, 0.69045866, 0.69045866, 0.96059886, 0.96059886,\n",
       "         0.70967159, 0.70967159, 0.41613424, 0.41613424, 0.30791309,\n",
       "         0.30791309, 0.99735125, 0.99735125, 0.61729465, 0.61729465,\n",
       "         0.43592369, 0.43592369, 0.80335054, 0.80335054, 0.75940603,\n",
       "         0.75940603, 0.55391721, 0.55391721, 0.61252954, 0.61252954,\n",
       "         0.05513558, 0.05513558, 0.44484479, 0.44484479, 0.74408401,\n",
       "         0.74408401, 0.04699431, 0.04699431, 0.53838634, 0.53838634,\n",
       "         0.89948524, 0.89948524, 0.37713   , 0.37713   , 0.70271058,\n",
       "         0.70271058, 0.22703136, 0.22703136, 0.8521856 , 0.8521856 ,\n",
       "         0.68753627, 0.68753627, 0.71342654, 0.71342654, 0.97057827,\n",
       "         0.97057827, 0.38076827, 0.38076827, 0.7828629 , 0.7828629 ,\n",
       "         0.85278766, 0.85278766, 0.86492537, 0.86492537, 0.09453409,\n",
       "         0.09453409, 0.65668985, 0.65668985, 0.28750271, 0.28750271,\n",
       "         0.40119125, 0.40119125, 0.13768306, 0.13768306, 0.20399622,\n",
       "         0.20399622, 0.35064565, 0.35064565, 0.82072875, 0.82072875,\n",
       "         0.52379285, 0.52379285, 0.98994184, 0.98994184, 0.26997359,\n",
       "         0.26997359, 0.70802105, 0.70802105, 0.06619004, 0.06619004,\n",
       "         0.85225487, 0.85225487, 0.71425784, 0.71425784, 0.9605066 ,\n",
       "         0.9605066 , 0.11417962, 0.11417962, 0.04403747, 0.04403747,\n",
       "         0.26461291, 0.26461291, 0.09523278, 0.09523278, 0.64546974,\n",
       "         0.64546974, 0.14638689, 0.14638689, 0.32196062, 0.32196062,\n",
       "         0.98630487, 0.98630487, 0.30056395, 0.30056395, 0.53386808,\n",
       "         0.53386808, 0.70835951, 0.70835951, 0.02924004, 0.02924004])}}"
      ]
     },
     "execution_count": 1,
     "metadata": {},
     "output_type": "execute_result"
    }
   ],
   "source": [
    "ds = load_by_id(run_id_n)\n",
    "ds.get_parameter_data('x1')"
   ]
  },
  {
   "cell_type": "markdown",
   "metadata": {},
   "source": [
    "And a dataset stored as binary arrays"
   ]
  },
  {
   "cell_type": "code",
   "execution_count": 12,
   "metadata": {
    "execution": {
     "iopub.execute_input": "2021-02-23T10:52:47.323700Z",
     "iopub.status.busy": "2021-02-23T10:52:47.323209Z",
     "iopub.status.idle": "2021-02-23T10:52:47.375486Z",
     "shell.execute_reply": "2021-02-23T10:52:47.374976Z"
    },
    "scrolled": true
   },
   "outputs": [
    {
     "data": {
      "text/plain": [
       "{'x1': {'x1': array([[0.81838761],\n",
       "         [0.81838761],\n",
       "         [0.39445507],\n",
       "         [0.39445507],\n",
       "         [0.00338131],\n",
       "         [0.00338131],\n",
       "         [0.47284683],\n",
       "         [0.47284683],\n",
       "         [0.36060229],\n",
       "         [0.36060229],\n",
       "         [0.40962621],\n",
       "         [0.40962621],\n",
       "         [0.40448793],\n",
       "         [0.40448793],\n",
       "         [0.63288788],\n",
       "         [0.63288788],\n",
       "         [0.43181849],\n",
       "         [0.43181849],\n",
       "         [0.07370289],\n",
       "         [0.07370289],\n",
       "         [0.97171754],\n",
       "         [0.97171754],\n",
       "         [0.4175403 ],\n",
       "         [0.4175403 ],\n",
       "         [0.23660637],\n",
       "         [0.23660637],\n",
       "         [0.60003291],\n",
       "         [0.60003291],\n",
       "         [0.73800815],\n",
       "         [0.73800815],\n",
       "         [0.02994041],\n",
       "         [0.02994041],\n",
       "         [0.7560371 ],\n",
       "         [0.7560371 ],\n",
       "         [0.89896545],\n",
       "         [0.89896545],\n",
       "         [0.59587719],\n",
       "         [0.59587719],\n",
       "         [0.00689621],\n",
       "         [0.00689621],\n",
       "         [0.77983466],\n",
       "         [0.77983466],\n",
       "         [0.55988769],\n",
       "         [0.55988769],\n",
       "         [0.28140613],\n",
       "         [0.28140613],\n",
       "         [0.12821774],\n",
       "         [0.12821774],\n",
       "         [0.73573498],\n",
       "         [0.73573498],\n",
       "         [0.50683335],\n",
       "         [0.50683335],\n",
       "         [0.79883291],\n",
       "         [0.79883291],\n",
       "         [0.84313686],\n",
       "         [0.84313686],\n",
       "         [0.5585098 ],\n",
       "         [0.5585098 ],\n",
       "         [0.1691819 ],\n",
       "         [0.1691819 ],\n",
       "         [0.32722069],\n",
       "         [0.32722069],\n",
       "         [0.52430679],\n",
       "         [0.52430679],\n",
       "         [0.97626796],\n",
       "         [0.97626796],\n",
       "         [0.67168625],\n",
       "         [0.67168625],\n",
       "         [0.13326927],\n",
       "         [0.13326927],\n",
       "         [0.24453247],\n",
       "         [0.24453247],\n",
       "         [0.76649586],\n",
       "         [0.76649586],\n",
       "         [0.57185757],\n",
       "         [0.57185757],\n",
       "         [0.61382121],\n",
       "         [0.61382121],\n",
       "         [0.6421943 ],\n",
       "         [0.6421943 ],\n",
       "         [0.30692934],\n",
       "         [0.30692934],\n",
       "         [0.69483532],\n",
       "         [0.69483532],\n",
       "         [0.52030102],\n",
       "         [0.52030102],\n",
       "         [0.47817923],\n",
       "         [0.47817923],\n",
       "         [0.35662227],\n",
       "         [0.35662227],\n",
       "         [0.84756417],\n",
       "         [0.84756417],\n",
       "         [0.39939124],\n",
       "         [0.39939124],\n",
       "         [0.25050344],\n",
       "         [0.25050344],\n",
       "         [0.01420309],\n",
       "         [0.01420309],\n",
       "         [0.83586635],\n",
       "         [0.83586635],\n",
       "         [0.44076861],\n",
       "         [0.44076861],\n",
       "         [0.55871098],\n",
       "         [0.55871098],\n",
       "         [0.91372663],\n",
       "         [0.91372663],\n",
       "         [0.98148208],\n",
       "         [0.98148208],\n",
       "         [0.41089854],\n",
       "         [0.41089854],\n",
       "         [0.19386074],\n",
       "         [0.19386074],\n",
       "         [0.16601728],\n",
       "         [0.16601728],\n",
       "         [0.85131915],\n",
       "         [0.85131915],\n",
       "         [0.43103183],\n",
       "         [0.43103183],\n",
       "         [0.22524109],\n",
       "         [0.22524109],\n",
       "         [0.25853579],\n",
       "         [0.25853579],\n",
       "         [0.33339875],\n",
       "         [0.33339875],\n",
       "         [0.34622484],\n",
       "         [0.34622484],\n",
       "         [0.2422757 ],\n",
       "         [0.2422757 ],\n",
       "         [0.57296901],\n",
       "         [0.57296901],\n",
       "         [0.82924726],\n",
       "         [0.82924726],\n",
       "         [0.92814575],\n",
       "         [0.92814575],\n",
       "         [0.28497877],\n",
       "         [0.28497877],\n",
       "         [0.114791  ],\n",
       "         [0.114791  ],\n",
       "         [0.29348484],\n",
       "         [0.29348484],\n",
       "         [0.75130953],\n",
       "         [0.75130953],\n",
       "         [0.01209143],\n",
       "         [0.01209143],\n",
       "         [0.27426731],\n",
       "         [0.27426731],\n",
       "         [0.24924166],\n",
       "         [0.24924166],\n",
       "         [0.87243996],\n",
       "         [0.87243996],\n",
       "         [0.73807763],\n",
       "         [0.73807763],\n",
       "         [0.42632811],\n",
       "         [0.42632811],\n",
       "         [0.080865  ],\n",
       "         [0.080865  ],\n",
       "         [0.92233448],\n",
       "         [0.92233448],\n",
       "         [0.4950196 ],\n",
       "         [0.4950196 ],\n",
       "         [0.65615231],\n",
       "         [0.65615231],\n",
       "         [0.00524171],\n",
       "         [0.00524171],\n",
       "         [0.24575584],\n",
       "         [0.24575584],\n",
       "         [0.40269251],\n",
       "         [0.40269251],\n",
       "         [0.34325788],\n",
       "         [0.34325788],\n",
       "         [0.98641298],\n",
       "         [0.98641298],\n",
       "         [0.48159706],\n",
       "         [0.48159706],\n",
       "         [0.81657083],\n",
       "         [0.81657083],\n",
       "         [0.10797913],\n",
       "         [0.10797913],\n",
       "         [0.49721859],\n",
       "         [0.49721859],\n",
       "         [0.55754688],\n",
       "         [0.55754688],\n",
       "         [0.5057026 ],\n",
       "         [0.5057026 ],\n",
       "         [0.83391931],\n",
       "         [0.83391931],\n",
       "         [0.6690118 ],\n",
       "         [0.6690118 ],\n",
       "         [0.36680862],\n",
       "         [0.36680862],\n",
       "         [0.89598372],\n",
       "         [0.89598372],\n",
       "         [0.02385134],\n",
       "         [0.02385134],\n",
       "         [0.24923754],\n",
       "         [0.24923754],\n",
       "         [0.63494395],\n",
       "         [0.63494395],\n",
       "         [0.41195144],\n",
       "         [0.41195144]])}}"
      ]
     },
     "execution_count": 1,
     "metadata": {},
     "output_type": "execute_result"
    }
   ],
   "source": [
    "ds = load_by_id(run_id_a)\n",
    "ds.get_parameter_data('x1')"
   ]
  },
  {
   "cell_type": "code",
   "execution_count": null,
   "metadata": {},
   "outputs": [],
   "source": []
  }
 ],
 "metadata": {
  "kernelspec": {
   "display_name": "Python 3",
   "language": "python",
   "name": "python3"
  },
  "language_info": {
   "codemirror_mode": {
    "name": "ipython",
    "version": 3
   },
   "file_extension": ".py",
   "mimetype": "text/x-python",
   "name": "python",
   "nbconvert_exporter": "python",
   "pygments_lexer": "ipython3",
   "version": "3.7.9"
  },
  "nbsphinx": {
   "timeout": 600
  },
  "toc": {
   "base_numbering": 1,
   "nav_menu": {},
   "number_sections": true,
   "sideBar": true,
   "skip_h1_title": false,
   "title_cell": "Table of Contents",
   "title_sidebar": "Contents",
   "toc_cell": false,
   "toc_position": {},
   "toc_section_display": true,
   "toc_window_display": false
  },
  "varInspector": {
   "cols": {
    "lenName": 16,
    "lenType": 16,
    "lenVar": 40
   },
   "kernels_config": {
    "python": {
     "delete_cmd_postfix": "",
     "delete_cmd_prefix": "del ",
     "library": "var_list.py",
     "varRefreshCmd": "print(var_dic_list())"
    },
    "r": {
     "delete_cmd_postfix": ") ",
     "delete_cmd_prefix": "rm(",
     "library": "var_list.r",
     "varRefreshCmd": "cat(var_dic_list()) "
    }
   },
   "types_to_exclude": [
    "module",
    "function",
    "builtin_function_or_method",
    "instance",
    "_Feature"
   ],
   "window_display": false
  }
 },
 "nbformat": 4,
 "nbformat_minor": 2
}
