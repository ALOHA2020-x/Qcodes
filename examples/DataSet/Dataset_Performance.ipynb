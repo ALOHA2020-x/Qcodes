{
 "cells": [
  {
   "cell_type": "markdown",
   "metadata": {},
   "source": [
    "# DataSet Performance\n",
    "\n",
    "This notebook shows the trade-off between inserting data into a database row-by-row and as binary blobs. Inserting the data row-by-row means that we have direct access to all the data and may perform queries directly on the values of the data. On the other hand, as we shall see, this is much slower than inserting the data directly as binary blobs."
   ]
  },
  {
   "cell_type": "markdown",
   "metadata": {},
   "source": [
    "First, we choose a new location for the database to ensure that we don't add a bunch of benchmarking data to the default one."
   ]
  },
  {
   "cell_type": "code",
   "execution_count": 1,
   "metadata": {
    "execution": {
     "iopub.execute_input": "2021-03-23T09:22:10.402033Z",
     "iopub.status.busy": "2021-03-23T09:22:10.401475Z",
     "iopub.status.idle": "2021-03-23T09:22:11.535177Z",
     "shell.execute_reply": "2021-03-23T09:22:11.534057Z"
    }
   },
   "outputs": [
    {
     "name": "stdout",
     "output_type": "stream",
     "text": [
      "Logging hadn't been started.\n",
      "Activating auto-logging. Current session state plus future input saved.\n",
      "Filename       : /home/runner/.qcodes/logs/command_history.log\n",
      "Mode           : append\n",
      "Output logging : True\n",
      "Raw input log  : False\n",
      "Timestamping   : True\n",
      "State          : active\n"
     ]
    },
    {
     "name": "stdout",
     "output_type": "stream",
     "text": [
      "Qcodes Logfile : /home/runner/.qcodes/logs/210323-4822-qcodes.log\n"
     ]
    }
   ],
   "source": [
    "import os\n",
    "cwd = os.getcwd()\n",
    "import qcodes as qc\n",
    "qc.config[\"core\"][\"db_location\"] = os.path.join(cwd, 'testing.db')\n"
   ]
  },
  {
   "cell_type": "code",
   "execution_count": 2,
   "metadata": {
    "execution": {
     "iopub.execute_input": "2021-03-23T09:22:11.542770Z",
     "iopub.status.busy": "2021-03-23T09:22:11.541404Z",
     "iopub.status.idle": "2021-03-23T09:22:11.799002Z",
     "shell.execute_reply": "2021-03-23T09:22:11.797866Z"
    }
   },
   "outputs": [],
   "source": [
    "%matplotlib inline\n",
    "import time\n",
    "import matplotlib.pyplot as plt\n",
    "import numpy as np\n",
    "\n",
    "import qcodes as qc\n",
    "from qcodes.instrument.parameter import ManualParameter\n",
    "from qcodes.dataset.experiment_container import (Experiment,\n",
    "                                                 load_last_experiment,\n",
    "                                                 new_experiment)\n",
    "from qcodes.dataset.sqlite.database import initialise_database\n",
    "from qcodes import load_or_create_experiment\n",
    "from qcodes.dataset.measurements import Measurement"
   ]
  },
  {
   "cell_type": "code",
   "execution_count": 3,
   "metadata": {
    "execution": {
     "iopub.execute_input": "2021-03-23T09:22:11.803445Z",
     "iopub.status.busy": "2021-03-23T09:22:11.802373Z",
     "iopub.status.idle": "2021-03-23T09:22:11.881003Z",
     "shell.execute_reply": "2021-03-23T09:22:11.871806Z"
    }
   },
   "outputs": [
    {
     "name": "stdout",
     "output_type": "stream",
     "text": [
      "\r",
      "0it [00:00, ?it/s]"
     ]
    },
    {
     "name": "stdout",
     "output_type": "stream",
     "text": [
      "\r",
      "Upgrading database; v0 -> v1: : 0it [00:00, ?it/s]"
     ]
    },
    {
     "name": "stdout",
     "output_type": "stream",
     "text": [
      "\r",
      "Upgrading database; v0 -> v1: : 0it [00:00, ?it/s]"
     ]
    },
    {
     "name": "stdout",
     "output_type": "stream",
     "text": [
      "\n",
      "\r",
      "  0%|          | 0/1 [00:00<?, ?it/s]"
     ]
    },
    {
     "name": "stdout",
     "output_type": "stream",
     "text": [
      "\r",
      "Upgrading database; v1 -> v2:   0%|          | 0/1 [00:00<?, ?it/s]"
     ]
    },
    {
     "name": "stdout",
     "output_type": "stream",
     "text": [
      "\r",
      "Upgrading database; v1 -> v2: 100%|██████████| 1/1 [00:00<00:00, 441.51it/s]"
     ]
    },
    {
     "name": "stdout",
     "output_type": "stream",
     "text": [
      "\n",
      "\r",
      "0it [00:00, ?it/s]"
     ]
    },
    {
     "name": "stdout",
     "output_type": "stream",
     "text": [
      "\r",
      "Upgrading database; v2 -> v3: : 0it [00:00, ?it/s]"
     ]
    },
    {
     "name": "stdout",
     "output_type": "stream",
     "text": [
      "\r",
      "Upgrading database; v2 -> v3: : 0it [00:00, ?it/s]"
     ]
    },
    {
     "name": "stdout",
     "output_type": "stream",
     "text": [
      "\n",
      "\r",
      "0it [00:00, ?it/s]"
     ]
    },
    {
     "name": "stdout",
     "output_type": "stream",
     "text": [
      "\r",
      "Upgrading database; v3 -> v4: : 0it [00:00, ?it/s]"
     ]
    },
    {
     "name": "stdout",
     "output_type": "stream",
     "text": [
      "\r",
      "Upgrading database; v3 -> v4: : 0it [00:00, ?it/s]"
     ]
    },
    {
     "name": "stdout",
     "output_type": "stream",
     "text": [
      "\n",
      "\r",
      "  0%|          | 0/1 [00:00<?, ?it/s]"
     ]
    },
    {
     "name": "stdout",
     "output_type": "stream",
     "text": [
      "\r",
      "Upgrading database; v4 -> v5:   0%|          | 0/1 [00:00<?, ?it/s]"
     ]
    },
    {
     "name": "stdout",
     "output_type": "stream",
     "text": [
      "\r",
      "Upgrading database; v4 -> v5: 100%|██████████| 1/1 [00:00<00:00, 953.90it/s]"
     ]
    },
    {
     "name": "stdout",
     "output_type": "stream",
     "text": [
      "\n",
      "\r",
      "0it [00:00, ?it/s]"
     ]
    },
    {
     "name": "stdout",
     "output_type": "stream",
     "text": [
      "\r",
      "Upgrading database; v5 -> v6: : 0it [00:00, ?it/s]"
     ]
    },
    {
     "name": "stdout",
     "output_type": "stream",
     "text": [
      "\r",
      "Upgrading database; v5 -> v6: : 0it [00:00, ?it/s]"
     ]
    },
    {
     "name": "stdout",
     "output_type": "stream",
     "text": [
      "\n",
      "\r",
      "  0%|          | 0/1 [00:00<?, ?it/s]"
     ]
    },
    {
     "name": "stdout",
     "output_type": "stream",
     "text": [
      "\r",
      "Upgrading database; v6 -> v7:   0%|          | 0/1 [00:00<?, ?it/s]"
     ]
    },
    {
     "name": "stdout",
     "output_type": "stream",
     "text": [
      "\r",
      "Upgrading database; v6 -> v7: 100%|██████████| 1/1 [00:00<00:00, 403.84it/s]"
     ]
    },
    {
     "name": "stdout",
     "output_type": "stream",
     "text": [
      "\n",
      "\r",
      "  0%|          | 0/1 [00:00<?, ?it/s]"
     ]
    },
    {
     "name": "stdout",
     "output_type": "stream",
     "text": [
      "\r",
      "Upgrading database; v7 -> v8:   0%|          | 0/1 [00:00<?, ?it/s]"
     ]
    },
    {
     "name": "stdout",
     "output_type": "stream",
     "text": [
      "\r",
      "Upgrading database; v7 -> v8: 100%|██████████| 1/1 [00:00<00:00, 703.51it/s]"
     ]
    },
    {
     "name": "stdout",
     "output_type": "stream",
     "text": [
      "\n",
      "\r",
      "  0%|          | 0/1 [00:00<?, ?it/s]"
     ]
    },
    {
     "name": "stdout",
     "output_type": "stream",
     "text": [
      "\r",
      "Upgrading database; v8 -> v9:   0%|          | 0/1 [00:00<?, ?it/s]"
     ]
    },
    {
     "name": "stdout",
     "output_type": "stream",
     "text": [
      "\r",
      "Upgrading database; v8 -> v9: 100%|██████████| 1/1 [00:00<00:00, 673.68it/s]"
     ]
    },
    {
     "name": "stdout",
     "output_type": "stream",
     "text": [
      "\n"
     ]
    }
   ],
   "source": [
    "initialise_database()\n",
    "exp = load_or_create_experiment(experiment_name='tutorial_exp', sample_name=\"no sample\")"
   ]
  },
  {
   "cell_type": "markdown",
   "metadata": {},
   "source": [
    "Here, we define a simple function to benchmark the time it takes to insert n points with either numeric or array data type.\n",
    "We will compare both the time used to call ``add_result`` and the time used for the full measurement."
   ]
  },
  {
   "cell_type": "code",
   "execution_count": 4,
   "metadata": {
    "execution": {
     "iopub.execute_input": "2021-03-23T09:22:11.890920Z",
     "iopub.status.busy": "2021-03-23T09:22:11.890323Z",
     "iopub.status.idle": "2021-03-23T09:22:11.893181Z",
     "shell.execute_reply": "2021-03-23T09:22:11.892531Z"
    }
   },
   "outputs": [],
   "source": [
    "def insert_data(paramtype, npoints, nreps=1):\n",
    "\n",
    "    meas = Measurement(exp=exp)\n",
    "\n",
    "    x1 = ManualParameter('x1')\n",
    "    x2 = ManualParameter('x2')\n",
    "    x3 = ManualParameter('x3')\n",
    "    y1 = ManualParameter('y1')\n",
    "    y2 = ManualParameter('y2')\n",
    "\n",
    "    meas.register_parameter(x1, paramtype=paramtype)\n",
    "    meas.register_parameter(x2, paramtype=paramtype)\n",
    "    meas.register_parameter(x3, paramtype=paramtype)\n",
    "    meas.register_parameter(y1, setpoints=[x1, x2, x3],\n",
    "                            paramtype=paramtype)\n",
    "    meas.register_parameter(y2, setpoints=[x1, x2, x3],\n",
    "                            paramtype=paramtype)\n",
    "    start = time.perf_counter()\n",
    "    with meas.run() as datasaver:\n",
    "        start_adding = time.perf_counter()\n",
    "        for i in range(nreps):\n",
    "            datasaver.add_result((x1, np.random.rand(npoints)),\n",
    "                                 (x2, np.random.rand(npoints)),\n",
    "                                 (x3, np.random.rand(npoints)),\n",
    "                                 (y1, np.random.rand(npoints)),\n",
    "                                 (y2, np.random.rand(npoints)))\n",
    "        stop_adding = time.perf_counter()\n",
    "        run_id = datasaver.run_id\n",
    "    stop = time.perf_counter()\n",
    "    tot_time = stop - start\n",
    "    add_time = stop_adding - start_adding\n",
    "    return tot_time, add_time, run_id"
   ]
  },
  {
   "cell_type": "markdown",
   "metadata": {},
   "source": [
    "## Comparison between numeric/array data and binary blob"
   ]
  },
  {
   "cell_type": "markdown",
   "metadata": {},
   "source": [
    "### Case1: Short experiment time"
   ]
  },
  {
   "cell_type": "code",
   "execution_count": 5,
   "metadata": {
    "execution": {
     "iopub.execute_input": "2021-03-23T09:22:11.900345Z",
     "iopub.status.busy": "2021-03-23T09:22:11.898764Z",
     "iopub.status.idle": "2021-03-23T09:22:12.757566Z",
     "shell.execute_reply": "2021-03-23T09:22:12.758015Z"
    }
   },
   "outputs": [
    {
     "name": "stdout",
     "output_type": "stream",
     "text": [
      "Starting experimental run with id: 1. \n",
      "Starting experimental run with id: 2. \n",
      "Starting experimental run with id: 3. \n",
      "Starting experimental run with id: 4. \n",
      "Starting experimental run with id: 5. \n"
     ]
    },
    {
     "name": "stdout",
     "output_type": "stream",
     "text": [
      "Starting experimental run with id: 6. \n"
     ]
    },
    {
     "name": "stdout",
     "output_type": "stream",
     "text": [
      "Starting experimental run with id: 7. \n"
     ]
    },
    {
     "name": "stdout",
     "output_type": "stream",
     "text": [
      "Starting experimental run with id: 8. \n",
      "Starting experimental run with id: 9. \n"
     ]
    },
    {
     "name": "stdout",
     "output_type": "stream",
     "text": [
      "Starting experimental run with id: 10. \n",
      "Starting experimental run with id: 11. \n"
     ]
    },
    {
     "name": "stdout",
     "output_type": "stream",
     "text": [
      "Starting experimental run with id: 12. \n",
      "Starting experimental run with id: 13. \n"
     ]
    },
    {
     "name": "stdout",
     "output_type": "stream",
     "text": [
      "Starting experimental run with id: 14. \n"
     ]
    }
   ],
   "source": [
    "sizes = [1,500,1000,2000,3000,4000,5000]\n",
    "t_numeric = []\n",
    "t_numeric_add = []\n",
    "t_array = []\n",
    "t_array_add = []\n",
    "for size in sizes:\n",
    "    tn, tna, run_id_n =  insert_data('numeric', size)\n",
    "    t_numeric.append(tn)\n",
    "    t_numeric_add.append(tna)\n",
    "\n",
    "    ta, taa, run_id_a =  insert_data('array', size)\n",
    "    t_array.append(ta)\n",
    "    t_array_add.append(taa)"
   ]
  },
  {
   "cell_type": "code",
   "execution_count": 6,
   "metadata": {
    "execution": {
     "iopub.execute_input": "2021-03-23T09:22:12.777793Z",
     "iopub.status.busy": "2021-03-23T09:22:12.777202Z",
     "iopub.status.idle": "2021-03-23T09:22:12.989058Z",
     "shell.execute_reply": "2021-03-23T09:22:12.988133Z"
    }
   },
   "outputs": [
    {
     "data": {
      "image/png": "[encoded data removed]",
      "text/plain": [
       "<Figure size 432x288 with 1 Axes>"
      ]
     },
     "metadata": {
      "needs_background": "light"
     },
     "output_type": "display_data"
    }
   ],
   "source": [
    "fig, ax = plt.subplots(1,1)\n",
    "ax.plot(sizes, t_numeric, 'o-', label='Inserting row-by-row')\n",
    "ax.plot(sizes, t_numeric_add, 'o-', label='Inserting row-by-row: add_result only')\n",
    "ax.plot(sizes, t_array, 'd-', label='Inserting as binary blob')\n",
    "ax.plot(sizes, t_array_add, 'd-', label='Inserting as binary blob: add_result only')\n",
    "ax.legend()\n",
    "ax.set_xlabel('Array length')\n",
    "ax.set_ylabel('Time (s)')\n",
    "fig.tight_layout()"
   ]
  },
  {
   "cell_type": "markdown",
   "metadata": {},
   "source": [
    "As shown in the latter figure, the time to setup and and close the experiment is approximately 0.4 sec. In case of small array sizes, the difference between inserting values of data as arrays and inserting them row-by-row is relatively unimportant. At larger array sizes, i.e. above 10000 points, the cost of writing data as individual datapoints starts to become important.\n"
   ]
  },
  {
   "cell_type": "markdown",
   "metadata": {},
   "source": [
    "### Case2: Long experiment time "
   ]
  },
  {
   "cell_type": "code",
   "execution_count": 7,
   "metadata": {
    "execution": {
     "iopub.execute_input": "2021-03-23T09:22:12.996500Z",
     "iopub.status.busy": "2021-03-23T09:22:12.994199Z",
     "iopub.status.idle": "2021-03-23T09:23:44.854845Z",
     "shell.execute_reply": "2021-03-23T09:23:44.854255Z"
    }
   },
   "outputs": [
    {
     "name": "stdout",
     "output_type": "stream",
     "text": [
      "Starting experimental run with id: 15. \n",
      "Starting experimental run with id: 16. \n"
     ]
    },
    {
     "name": "stdout",
     "output_type": "stream",
     "text": [
      "Starting experimental run with id: 17. \n"
     ]
    },
    {
     "name": "stdout",
     "output_type": "stream",
     "text": [
      "Starting experimental run with id: 18. \n",
      "Starting experimental run with id: 19. \n"
     ]
    },
    {
     "name": "stdout",
     "output_type": "stream",
     "text": [
      "Starting experimental run with id: 20. \n"
     ]
    },
    {
     "name": "stdout",
     "output_type": "stream",
     "text": [
      "Starting experimental run with id: 21. \n"
     ]
    },
    {
     "name": "stdout",
     "output_type": "stream",
     "text": [
      "Starting experimental run with id: 22. \n"
     ]
    },
    {
     "name": "stdout",
     "output_type": "stream",
     "text": [
      "Starting experimental run with id: 23. \n"
     ]
    },
    {
     "name": "stdout",
     "output_type": "stream",
     "text": [
      "Starting experimental run with id: 24. \n"
     ]
    },
    {
     "name": "stdout",
     "output_type": "stream",
     "text": [
      "Starting experimental run with id: 25. \n"
     ]
    },
    {
     "name": "stdout",
     "output_type": "stream",
     "text": [
      "Starting experimental run with id: 26. \n"
     ]
    },
    {
     "name": "stdout",
     "output_type": "stream",
     "text": [
      "Starting experimental run with id: 27. \n"
     ]
    },
    {
     "name": "stdout",
     "output_type": "stream",
     "text": [
      "Starting experimental run with id: 28. \n"
     ]
    }
   ],
   "source": [
    "sizes = [1,500,1000,2000,3000,4000,5000]\n",
    "nreps = 100\n",
    "t_numeric = []\n",
    "t_numeric_add = []\n",
    "t_numeric_run_ids = []\n",
    "t_array = []\n",
    "t_array_add = []\n",
    "t_array_run_ids = []\n",
    "for size in sizes:\n",
    "    tn, tna, run_id_n =  insert_data('numeric', size, nreps=nreps)\n",
    "    t_numeric.append(tn)\n",
    "    t_numeric_add.append(tna)\n",
    "    t_numeric_run_ids.append(run_id_n)\n",
    "\n",
    "    ta, taa, run_id_a =  insert_data('array', size, nreps=nreps)\n",
    "    t_array.append(ta)\n",
    "    t_array_add.append(taa)\n",
    "    t_array_run_ids.append(run_id_a)"
   ]
  },
  {
   "cell_type": "code",
   "execution_count": 8,
   "metadata": {
    "execution": {
     "iopub.execute_input": "2021-03-23T09:23:44.901711Z",
     "iopub.status.busy": "2021-03-23T09:23:44.877144Z",
     "iopub.status.idle": "2021-03-23T09:23:45.066683Z",
     "shell.execute_reply": "2021-03-23T09:23:45.067487Z"
    },
    "scrolled": true
   },
   "outputs": [
    {
     "data": {
      "image/png": "[encoded data removed]",
      "text/plain": [
       "<Figure size 432x288 with 1 Axes>"
      ]
     },
     "metadata": {
      "needs_background": "light"
     },
     "output_type": "display_data"
    }
   ],
   "source": [
    "fig, ax = plt.subplots(1,1)\n",
    "ax.plot(sizes, t_numeric, 'o-', label='Inserting row-by-row')\n",
    "ax.plot(sizes, t_numeric_add, 'o-', label='Inserting row-by-row: add_result only')\n",
    "ax.plot(sizes, t_array, 'd-', label='Inserting as binary blob')\n",
    "ax.plot(sizes, t_array_add, 'd-', label='Inserting as binary blob: add_result only')\n",
    "ax.legend()\n",
    "ax.set_xlabel('Array length')\n",
    "ax.set_ylabel('Time (s)')\n",
    "fig.tight_layout()"
   ]
  },
  {
   "cell_type": "markdown",
   "metadata": {},
   "source": [
    "However, as we increase the length of the experiment, as seen here by repeating the insertion 100 times, we see a big difference between inserting values of the data row-by-row and inserting it as a binary blob."
   ]
  },
  {
   "cell_type": "markdown",
   "metadata": {},
   "source": [
    "## Loading the data "
   ]
  },
  {
   "cell_type": "code",
   "execution_count": 9,
   "metadata": {
    "execution": {
     "iopub.execute_input": "2021-03-23T09:23:45.072258Z",
     "iopub.status.busy": "2021-03-23T09:23:45.071435Z",
     "iopub.status.idle": "2021-03-23T09:23:45.074465Z",
     "shell.execute_reply": "2021-03-23T09:23:45.073960Z"
    }
   },
   "outputs": [],
   "source": [
    "from qcodes.dataset.data_set import load_by_id\n",
    "from qcodes.dataset.data_export import get_data_by_id"
   ]
  },
  {
   "cell_type": "markdown",
   "metadata": {},
   "source": [
    "As usual you can load the data by using the ``load_by_id`` function but you will notice that the different storage methods\n",
    "are reflected in shape of the data as it is retrieved. "
   ]
  },
  {
   "cell_type": "code",
   "execution_count": 10,
   "metadata": {
    "execution": {
     "iopub.execute_input": "2021-03-23T09:23:45.079176Z",
     "iopub.status.busy": "2021-03-23T09:23:45.077941Z",
     "iopub.status.idle": "2021-03-23T09:23:45.079918Z",
     "shell.execute_reply": "2021-03-23T09:23:45.080451Z"
    }
   },
   "outputs": [],
   "source": [
    "run_id_n = t_numeric_run_ids[0]\n",
    "run_id_a = t_array_run_ids[0]"
   ]
  },
  {
   "cell_type": "code",
   "execution_count": 11,
   "metadata": {
    "execution": {
     "iopub.execute_input": "2021-03-23T09:23:45.084084Z",
     "iopub.status.busy": "2021-03-23T09:23:45.083482Z",
     "iopub.status.idle": "2021-03-23T09:23:45.093540Z",
     "shell.execute_reply": "2021-03-23T09:23:45.094038Z"
    },
    "scrolled": true
   },
   "outputs": [
    {
     "data": {
      "text/plain": [
       "{'x1': {'x1': array([0.99702575, 0.99702575, 0.33896206, 0.33896206, 0.98739456,\n",
       "         0.98739456, 0.59174522, 0.59174522, 0.48346294, 0.48346294,\n",
       "         0.90254597, 0.90254597, 0.64456495, 0.64456495, 0.95258421,\n",
       "         0.95258421, 0.99848655, 0.99848655, 0.10995317, 0.10995317,\n",
       "         0.46001863, 0.46001863, 0.45351418, 0.45351418, 0.50326885,\n",
       "         0.50326885, 0.80447494, 0.80447494, 0.85278375, 0.85278375,\n",
       "         0.4982586 , 0.4982586 , 0.153647  , 0.153647  , 0.64910746,\n",
       "         0.64910746, 0.13499255, 0.13499255, 0.87073101, 0.87073101,\n",
       "         0.66016463, 0.66016463, 0.3959295 , 0.3959295 , 0.65180366,\n",
       "         0.65180366, 0.64823745, 0.64823745, 0.94812718, 0.94812718,\n",
       "         0.09969732, 0.09969732, 0.9899598 , 0.9899598 , 0.4998321 ,\n",
       "         0.4998321 , 0.63650957, 0.63650957, 0.74042832, 0.74042832,\n",
       "         0.41724412, 0.41724412, 0.43259668, 0.43259668, 0.6912927 ,\n",
       "         0.6912927 , 0.5512171 , 0.5512171 , 0.11166576, 0.11166576,\n",
       "         0.50596118, 0.50596118, 0.96952632, 0.96952632, 0.79687453,\n",
       "         0.79687453, 0.96003691, 0.96003691, 0.54523182, 0.54523182,\n",
       "         0.64337878, 0.64337878, 0.8886099 , 0.8886099 , 0.18951073,\n",
       "         0.18951073, 0.58931834, 0.58931834, 0.01999451, 0.01999451,\n",
       "         0.76228704, 0.76228704, 0.33101109, 0.33101109, 0.98411542,\n",
       "         0.98411542, 0.40189742, 0.40189742, 0.68248207, 0.68248207,\n",
       "         0.76303248, 0.76303248, 0.55818878, 0.55818878, 0.34587508,\n",
       "         0.34587508, 0.14009563, 0.14009563, 0.73253302, 0.73253302,\n",
       "         0.7420373 , 0.7420373 , 0.88209915, 0.88209915, 0.09300141,\n",
       "         0.09300141, 0.76068239, 0.76068239, 0.63105113, 0.63105113,\n",
       "         0.69713945, 0.69713945, 0.64898817, 0.64898817, 0.456342  ,\n",
       "         0.456342  , 0.30928412, 0.30928412, 0.96844816, 0.96844816,\n",
       "         0.48610408, 0.48610408, 0.0312441 , 0.0312441 , 0.53101009,\n",
       "         0.53101009, 0.50574563, 0.50574563, 0.23362913, 0.23362913,\n",
       "         0.90290432, 0.90290432, 0.74330441, 0.74330441, 0.38114644,\n",
       "         0.38114644, 0.56135735, 0.56135735, 0.18731491, 0.18731491,\n",
       "         0.65474076, 0.65474076, 0.60977809, 0.60977809, 0.46793085,\n",
       "         0.46793085, 0.69523767, 0.69523767, 0.1713576 , 0.1713576 ,\n",
       "         0.43983847, 0.43983847, 0.55388173, 0.55388173, 0.16104262,\n",
       "         0.16104262, 0.6387679 , 0.6387679 , 0.18448277, 0.18448277,\n",
       "         0.14596211, 0.14596211, 0.38810989, 0.38810989, 0.57572765,\n",
       "         0.57572765, 0.32719807, 0.32719807, 0.63697046, 0.63697046,\n",
       "         0.28514158, 0.28514158, 0.35380791, 0.35380791, 0.97229088,\n",
       "         0.97229088, 0.67536208, 0.67536208, 0.83878067, 0.83878067,\n",
       "         0.90798039, 0.90798039, 0.59639567, 0.59639567, 0.03895914,\n",
       "         0.03895914, 0.4225113 , 0.4225113 , 0.02118434, 0.02118434])}}"
      ]
     },
     "execution_count": 1,
     "metadata": {},
     "output_type": "execute_result"
    }
   ],
   "source": [
    "ds = load_by_id(run_id_n)\n",
    "ds.get_parameter_data('x1')"
   ]
  },
  {
   "cell_type": "markdown",
   "metadata": {},
   "source": [
    "And a dataset stored as binary arrays"
   ]
  },
  {
   "cell_type": "code",
   "execution_count": 12,
   "metadata": {
    "execution": {
     "iopub.execute_input": "2021-03-23T09:23:45.099229Z",
     "iopub.status.busy": "2021-03-23T09:23:45.098669Z",
     "iopub.status.idle": "2021-03-23T09:23:45.168231Z",
     "shell.execute_reply": "2021-03-23T09:23:45.168725Z"
    },
    "scrolled": true
   },
   "outputs": [
    {
     "data": {
      "text/plain": [
       "{'x1': {'x1': array([[0.52825762],\n",
       "         [0.52825762],\n",
       "         [0.46103987],\n",
       "         [0.46103987],\n",
       "         [0.10187106],\n",
       "         [0.10187106],\n",
       "         [0.44944135],\n",
       "         [0.44944135],\n",
       "         [0.53660453],\n",
       "         [0.53660453],\n",
       "         [0.10893035],\n",
       "         [0.10893035],\n",
       "         [0.44338913],\n",
       "         [0.44338913],\n",
       "         [0.21129619],\n",
       "         [0.21129619],\n",
       "         [0.57618329],\n",
       "         [0.57618329],\n",
       "         [0.65656007],\n",
       "         [0.65656007],\n",
       "         [0.05257645],\n",
       "         [0.05257645],\n",
       "         [0.41152276],\n",
       "         [0.41152276],\n",
       "         [0.63865382],\n",
       "         [0.63865382],\n",
       "         [0.75139518],\n",
       "         [0.75139518],\n",
       "         [0.94659802],\n",
       "         [0.94659802],\n",
       "         [0.22365704],\n",
       "         [0.22365704],\n",
       "         [0.65640687],\n",
       "         [0.65640687],\n",
       "         [0.58011868],\n",
       "         [0.58011868],\n",
       "         [0.8981395 ],\n",
       "         [0.8981395 ],\n",
       "         [0.97186672],\n",
       "         [0.97186672],\n",
       "         [0.01837661],\n",
       "         [0.01837661],\n",
       "         [0.54885507],\n",
       "         [0.54885507],\n",
       "         [0.78497273],\n",
       "         [0.78497273],\n",
       "         [0.33046185],\n",
       "         [0.33046185],\n",
       "         [0.12842077],\n",
       "         [0.12842077],\n",
       "         [0.40460494],\n",
       "         [0.40460494],\n",
       "         [0.54617842],\n",
       "         [0.54617842],\n",
       "         [0.45156159],\n",
       "         [0.45156159],\n",
       "         [0.03112487],\n",
       "         [0.03112487],\n",
       "         [0.30355107],\n",
       "         [0.30355107],\n",
       "         [0.60679069],\n",
       "         [0.60679069],\n",
       "         [0.02968555],\n",
       "         [0.02968555],\n",
       "         [0.87679646],\n",
       "         [0.87679646],\n",
       "         [0.84798451],\n",
       "         [0.84798451],\n",
       "         [0.41132069],\n",
       "         [0.41132069],\n",
       "         [0.4085032 ],\n",
       "         [0.4085032 ],\n",
       "         [0.58692323],\n",
       "         [0.58692323],\n",
       "         [0.78255642],\n",
       "         [0.78255642],\n",
       "         [0.09709611],\n",
       "         [0.09709611],\n",
       "         [0.72578176],\n",
       "         [0.72578176],\n",
       "         [0.83257772],\n",
       "         [0.83257772],\n",
       "         [0.10240905],\n",
       "         [0.10240905],\n",
       "         [0.23343884],\n",
       "         [0.23343884],\n",
       "         [0.13418426],\n",
       "         [0.13418426],\n",
       "         [0.21183823],\n",
       "         [0.21183823],\n",
       "         [0.43209165],\n",
       "         [0.43209165],\n",
       "         [0.8301767 ],\n",
       "         [0.8301767 ],\n",
       "         [0.90359019],\n",
       "         [0.90359019],\n",
       "         [0.40733932],\n",
       "         [0.40733932],\n",
       "         [0.63834829],\n",
       "         [0.63834829],\n",
       "         [0.01745831],\n",
       "         [0.01745831],\n",
       "         [0.57970674],\n",
       "         [0.57970674],\n",
       "         [0.25809099],\n",
       "         [0.25809099],\n",
       "         [0.13440257],\n",
       "         [0.13440257],\n",
       "         [0.39639608],\n",
       "         [0.39639608],\n",
       "         [0.95066906],\n",
       "         [0.95066906],\n",
       "         [0.37891856],\n",
       "         [0.37891856],\n",
       "         [0.27223773],\n",
       "         [0.27223773],\n",
       "         [0.62708126],\n",
       "         [0.62708126],\n",
       "         [0.54739338],\n",
       "         [0.54739338],\n",
       "         [0.32134703],\n",
       "         [0.32134703],\n",
       "         [0.92825598],\n",
       "         [0.92825598],\n",
       "         [0.50462515],\n",
       "         [0.50462515],\n",
       "         [0.16858876],\n",
       "         [0.16858876],\n",
       "         [0.59387207],\n",
       "         [0.59387207],\n",
       "         [0.02228987],\n",
       "         [0.02228987],\n",
       "         [0.46318667],\n",
       "         [0.46318667],\n",
       "         [0.80839844],\n",
       "         [0.80839844],\n",
       "         [0.53348125],\n",
       "         [0.53348125],\n",
       "         [0.16540508],\n",
       "         [0.16540508],\n",
       "         [0.50195587],\n",
       "         [0.50195587],\n",
       "         [0.64562649],\n",
       "         [0.64562649],\n",
       "         [0.17302048],\n",
       "         [0.17302048],\n",
       "         [0.88038569],\n",
       "         [0.88038569],\n",
       "         [0.51260913],\n",
       "         [0.51260913],\n",
       "         [0.50490784],\n",
       "         [0.50490784],\n",
       "         [0.81586335],\n",
       "         [0.81586335],\n",
       "         [0.99381504],\n",
       "         [0.99381504],\n",
       "         [0.55484432],\n",
       "         [0.55484432],\n",
       "         [0.32270471],\n",
       "         [0.32270471],\n",
       "         [0.6696196 ],\n",
       "         [0.6696196 ],\n",
       "         [0.4731161 ],\n",
       "         [0.4731161 ],\n",
       "         [0.32696535],\n",
       "         [0.32696535],\n",
       "         [0.14613676],\n",
       "         [0.14613676],\n",
       "         [0.81565743],\n",
       "         [0.81565743],\n",
       "         [0.22167052],\n",
       "         [0.22167052],\n",
       "         [0.70402372],\n",
       "         [0.70402372],\n",
       "         [0.76608791],\n",
       "         [0.76608791],\n",
       "         [0.89550998],\n",
       "         [0.89550998],\n",
       "         [0.9876396 ],\n",
       "         [0.9876396 ],\n",
       "         [0.27866393],\n",
       "         [0.27866393],\n",
       "         [0.43540062],\n",
       "         [0.43540062],\n",
       "         [0.15665875],\n",
       "         [0.15665875],\n",
       "         [0.74644754],\n",
       "         [0.74644754],\n",
       "         [0.85198653],\n",
       "         [0.85198653],\n",
       "         [0.1629599 ],\n",
       "         [0.1629599 ],\n",
       "         [0.55048547],\n",
       "         [0.55048547],\n",
       "         [0.05878253],\n",
       "         [0.05878253],\n",
       "         [0.54926168],\n",
       "         [0.54926168],\n",
       "         [0.85725985],\n",
       "         [0.85725985]])}}"
      ]
     },
     "execution_count": 1,
     "metadata": {},
     "output_type": "execute_result"
    }
   ],
   "source": [
    "ds = load_by_id(run_id_a)\n",
    "ds.get_parameter_data('x1')"
   ]
  },
  {
   "cell_type": "code",
   "execution_count": null,
   "metadata": {},
   "outputs": [],
   "source": []
  }
 ],
 "metadata": {
  "kernelspec": {
   "display_name": "Python 3",
   "language": "python",
   "name": "python3"
  },
  "language_info": {
   "codemirror_mode": {
    "name": "ipython",
    "version": 3
   },
   "file_extension": ".py",
   "mimetype": "text/x-python",
   "name": "python",
   "nbconvert_exporter": "python",
   "pygments_lexer": "ipython3",
   "version": "3.7.10"
  },
  "nbsphinx": {
   "timeout": 600
  },
  "toc": {
   "base_numbering": 1,
   "nav_menu": {},
   "number_sections": true,
   "sideBar": true,
   "skip_h1_title": false,
   "title_cell": "Table of Contents",
   "title_sidebar": "Contents",
   "toc_cell": false,
   "toc_position": {},
   "toc_section_display": true,
   "toc_window_display": false
  },
  "varInspector": {
   "cols": {
    "lenName": 16,
    "lenType": 16,
    "lenVar": 40
   },
   "kernels_config": {
    "python": {
     "delete_cmd_postfix": "",
     "delete_cmd_prefix": "del ",
     "library": "var_list.py",
     "varRefreshCmd": "print(var_dic_list())"
    },
    "r": {
     "delete_cmd_postfix": ") ",
     "delete_cmd_prefix": "rm(",
     "library": "var_list.r",
     "varRefreshCmd": "cat(var_dic_list()) "
    }
   },
   "types_to_exclude": [
    "module",
    "function",
    "builtin_function_or_method",
    "instance",
    "_Feature"
   ],
   "window_display": false
  }
 },
 "nbformat": 4,
 "nbformat_minor": 2
}
