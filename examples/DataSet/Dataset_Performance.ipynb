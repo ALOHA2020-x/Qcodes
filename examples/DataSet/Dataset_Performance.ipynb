{
 "cells": [
  {
   "cell_type": "markdown",
   "metadata": {},
   "source": [
    "# DataSet Performance\n",
    "\n",
    "This notebook shows the trade-off between inserting data into a database row-by-row and as binary blobs. Inserting the data row-by-row means that we have direct access to all the data and may perform queries directly on the values of the data. On the other hand, as we shall see, this is much slower than inserting the data directly as binary blobs."
   ]
  },
  {
   "cell_type": "markdown",
   "metadata": {},
   "source": [
    "First, we choose a new location for the database to ensure that we don't add a bunch of benchmarking data to the default one."
   ]
  },
  {
   "cell_type": "code",
   "execution_count": 1,
   "metadata": {
    "execution": {
     "iopub.execute_input": "2021-03-30T06:37:31.060052Z",
     "iopub.status.busy": "2021-03-30T06:37:31.059418Z",
     "iopub.status.idle": "2021-03-30T06:37:32.056055Z",
     "shell.execute_reply": "2021-03-30T06:37:32.055159Z"
    }
   },
   "outputs": [
    {
     "name": "stdout",
     "output_type": "stream",
     "text": [
      "Logging hadn't been started.\n",
      "Activating auto-logging. Current session state plus future input saved.\n",
      "Filename       : /home/runner/.qcodes/logs/command_history.log\n",
      "Mode           : append\n",
      "Output logging : True\n",
      "Raw input log  : False\n",
      "Timestamping   : True\n",
      "State          : active\n"
     ]
    },
    {
     "name": "stdout",
     "output_type": "stream",
     "text": [
      "Qcodes Logfile : /home/runner/.qcodes/logs/210330-4471-qcodes.log\n"
     ]
    }
   ],
   "source": [
    "import os\n",
    "cwd = os.getcwd()\n",
    "import qcodes as qc\n",
    "qc.config[\"core\"][\"db_location\"] = os.path.join(cwd, 'testing.db')\n"
   ]
  },
  {
   "cell_type": "code",
   "execution_count": 2,
   "metadata": {
    "execution": {
     "iopub.execute_input": "2021-03-30T06:37:32.063819Z",
     "iopub.status.busy": "2021-03-30T06:37:32.061975Z",
     "iopub.status.idle": "2021-03-30T06:37:32.293838Z",
     "shell.execute_reply": "2021-03-30T06:37:32.293289Z"
    }
   },
   "outputs": [],
   "source": [
    "%matplotlib inline\n",
    "import time\n",
    "import matplotlib.pyplot as plt\n",
    "import numpy as np\n",
    "\n",
    "import qcodes as qc\n",
    "from qcodes.instrument.parameter import ManualParameter\n",
    "from qcodes.dataset.experiment_container import (Experiment,\n",
    "                                                 load_last_experiment,\n",
    "                                                 new_experiment)\n",
    "from qcodes.dataset.sqlite.database import initialise_database\n",
    "from qcodes import load_or_create_experiment\n",
    "from qcodes.dataset.measurements import Measurement"
   ]
  },
  {
   "cell_type": "code",
   "execution_count": 3,
   "metadata": {
    "execution": {
     "iopub.execute_input": "2021-03-30T06:37:32.298394Z",
     "iopub.status.busy": "2021-03-30T06:37:32.297547Z",
     "iopub.status.idle": "2021-03-30T06:37:32.374704Z",
     "shell.execute_reply": "2021-03-30T06:37:32.375182Z"
    }
   },
   "outputs": [
    {
     "name": "stdout",
     "output_type": "stream",
     "text": [
      "\r",
      "0it [00:00, ?it/s]"
     ]
    },
    {
     "name": "stdout",
     "output_type": "stream",
     "text": [
      "\r",
      "Upgrading database; v0 -> v1: : 0it [00:00, ?it/s]"
     ]
    },
    {
     "name": "stdout",
     "output_type": "stream",
     "text": [
      "\r",
      "Upgrading database; v0 -> v1: : 0it [00:00, ?it/s]"
     ]
    },
    {
     "name": "stdout",
     "output_type": "stream",
     "text": [
      "\n",
      "\r",
      "  0%|          | 0/1 [00:00<?, ?it/s]"
     ]
    },
    {
     "name": "stdout",
     "output_type": "stream",
     "text": [
      "\r",
      "Upgrading database; v1 -> v2:   0%|          | 0/1 [00:00<?, ?it/s]"
     ]
    },
    {
     "name": "stdout",
     "output_type": "stream",
     "text": [
      "\r",
      "Upgrading database; v1 -> v2: 100%|██████████| 1/1 [00:00<00:00, 478.91it/s]"
     ]
    },
    {
     "name": "stdout",
     "output_type": "stream",
     "text": [
      "\n",
      "\r",
      "0it [00:00, ?it/s]"
     ]
    },
    {
     "name": "stdout",
     "output_type": "stream",
     "text": [
      "\r",
      "Upgrading database; v2 -> v3: : 0it [00:00, ?it/s]"
     ]
    },
    {
     "name": "stdout",
     "output_type": "stream",
     "text": [
      "\r",
      "Upgrading database; v2 -> v3: : 0it [00:00, ?it/s]"
     ]
    },
    {
     "name": "stdout",
     "output_type": "stream",
     "text": [
      "\n",
      "\r",
      "0it [00:00, ?it/s]"
     ]
    },
    {
     "name": "stdout",
     "output_type": "stream",
     "text": [
      "\r",
      "Upgrading database; v3 -> v4: : 0it [00:00, ?it/s]"
     ]
    },
    {
     "name": "stdout",
     "output_type": "stream",
     "text": [
      "\r",
      "Upgrading database; v3 -> v4: : 0it [00:00, ?it/s]"
     ]
    },
    {
     "name": "stdout",
     "output_type": "stream",
     "text": [
      "\n",
      "\r",
      "  0%|          | 0/1 [00:00<?, ?it/s]"
     ]
    },
    {
     "name": "stdout",
     "output_type": "stream",
     "text": [
      "\r",
      "Upgrading database; v4 -> v5:   0%|          | 0/1 [00:00<?, ?it/s]"
     ]
    },
    {
     "name": "stdout",
     "output_type": "stream",
     "text": [
      "\r",
      "Upgrading database; v4 -> v5: 100%|██████████| 1/1 [00:00<00:00, 399.38it/s]"
     ]
    },
    {
     "name": "stdout",
     "output_type": "stream",
     "text": [
      "\n",
      "\r",
      "0it [00:00, ?it/s]"
     ]
    },
    {
     "name": "stdout",
     "output_type": "stream",
     "text": [
      "\r",
      "Upgrading database; v5 -> v6: : 0it [00:00, ?it/s]"
     ]
    },
    {
     "name": "stdout",
     "output_type": "stream",
     "text": [
      "\r",
      "Upgrading database; v5 -> v6: : 0it [00:00, ?it/s]"
     ]
    },
    {
     "name": "stdout",
     "output_type": "stream",
     "text": [
      "\n",
      "\r",
      "  0%|          | 0/1 [00:00<?, ?it/s]"
     ]
    },
    {
     "name": "stdout",
     "output_type": "stream",
     "text": [
      "\r",
      "Upgrading database; v6 -> v7:   0%|          | 0/1 [00:00<?, ?it/s]"
     ]
    },
    {
     "name": "stdout",
     "output_type": "stream",
     "text": [
      "\r",
      "Upgrading database; v6 -> v7: 100%|██████████| 1/1 [00:00<00:00, 452.61it/s]"
     ]
    },
    {
     "name": "stdout",
     "output_type": "stream",
     "text": [
      "\n",
      "\r",
      "  0%|          | 0/1 [00:00<?, ?it/s]"
     ]
    },
    {
     "name": "stdout",
     "output_type": "stream",
     "text": [
      "\r",
      "Upgrading database; v7 -> v8:   0%|          | 0/1 [00:00<?, ?it/s]"
     ]
    },
    {
     "name": "stdout",
     "output_type": "stream",
     "text": [
      "\r",
      "Upgrading database; v7 -> v8: 100%|██████████| 1/1 [00:00<00:00, 487.03it/s]"
     ]
    },
    {
     "name": "stdout",
     "output_type": "stream",
     "text": [
      "\n",
      "\r",
      "  0%|          | 0/1 [00:00<?, ?it/s]"
     ]
    },
    {
     "name": "stdout",
     "output_type": "stream",
     "text": [
      "\r",
      "Upgrading database; v8 -> v9:   0%|          | 0/1 [00:00<?, ?it/s]"
     ]
    },
    {
     "name": "stdout",
     "output_type": "stream",
     "text": [
      "\r",
      "Upgrading database; v8 -> v9: 100%|██████████| 1/1 [00:00<00:00, 396.32it/s]"
     ]
    },
    {
     "name": "stdout",
     "output_type": "stream",
     "text": [
      "\n"
     ]
    }
   ],
   "source": [
    "initialise_database()\n",
    "exp = load_or_create_experiment(experiment_name='tutorial_exp', sample_name=\"no sample\")"
   ]
  },
  {
   "cell_type": "markdown",
   "metadata": {},
   "source": [
    "Here, we define a simple function to benchmark the time it takes to insert n points with either numeric or array data type.\n",
    "We will compare both the time used to call ``add_result`` and the time used for the full measurement."
   ]
  },
  {
   "cell_type": "code",
   "execution_count": 4,
   "metadata": {
    "execution": {
     "iopub.execute_input": "2021-03-30T06:37:32.383517Z",
     "iopub.status.busy": "2021-03-30T06:37:32.382375Z",
     "iopub.status.idle": "2021-03-30T06:37:32.386627Z",
     "shell.execute_reply": "2021-03-30T06:37:32.385986Z"
    }
   },
   "outputs": [],
   "source": [
    "def insert_data(paramtype, npoints, nreps=1):\n",
    "\n",
    "    meas = Measurement(exp=exp)\n",
    "\n",
    "    x1 = ManualParameter('x1')\n",
    "    x2 = ManualParameter('x2')\n",
    "    x3 = ManualParameter('x3')\n",
    "    y1 = ManualParameter('y1')\n",
    "    y2 = ManualParameter('y2')\n",
    "\n",
    "    meas.register_parameter(x1, paramtype=paramtype)\n",
    "    meas.register_parameter(x2, paramtype=paramtype)\n",
    "    meas.register_parameter(x3, paramtype=paramtype)\n",
    "    meas.register_parameter(y1, setpoints=[x1, x2, x3],\n",
    "                            paramtype=paramtype)\n",
    "    meas.register_parameter(y2, setpoints=[x1, x2, x3],\n",
    "                            paramtype=paramtype)\n",
    "    start = time.perf_counter()\n",
    "    with meas.run() as datasaver:\n",
    "        start_adding = time.perf_counter()\n",
    "        for i in range(nreps):\n",
    "            datasaver.add_result((x1, np.random.rand(npoints)),\n",
    "                                 (x2, np.random.rand(npoints)),\n",
    "                                 (x3, np.random.rand(npoints)),\n",
    "                                 (y1, np.random.rand(npoints)),\n",
    "                                 (y2, np.random.rand(npoints)))\n",
    "        stop_adding = time.perf_counter()\n",
    "        run_id = datasaver.run_id\n",
    "    stop = time.perf_counter()\n",
    "    tot_time = stop - start\n",
    "    add_time = stop_adding - start_adding\n",
    "    return tot_time, add_time, run_id"
   ]
  },
  {
   "cell_type": "markdown",
   "metadata": {},
   "source": [
    "## Comparison between numeric/array data and binary blob"
   ]
  },
  {
   "cell_type": "markdown",
   "metadata": {},
   "source": [
    "### Case1: Short experiment time"
   ]
  },
  {
   "cell_type": "code",
   "execution_count": 5,
   "metadata": {
    "execution": {
     "iopub.execute_input": "2021-03-30T06:37:32.393215Z",
     "iopub.status.busy": "2021-03-30T06:37:32.391608Z",
     "iopub.status.idle": "2021-03-30T06:37:33.240082Z",
     "shell.execute_reply": "2021-03-30T06:37:33.239580Z"
    }
   },
   "outputs": [
    {
     "name": "stdout",
     "output_type": "stream",
     "text": [
      "Starting experimental run with id: 1. \n",
      "Starting experimental run with id: 2. \n",
      "Starting experimental run with id: 3. \n",
      "Starting experimental run with id: 4. \n",
      "Starting experimental run with id: 5. \n"
     ]
    },
    {
     "name": "stdout",
     "output_type": "stream",
     "text": [
      "Starting experimental run with id: 6. \n"
     ]
    },
    {
     "name": "stdout",
     "output_type": "stream",
     "text": [
      "Starting experimental run with id: 7. \n"
     ]
    },
    {
     "name": "stdout",
     "output_type": "stream",
     "text": [
      "Starting experimental run with id: 8. \n",
      "Starting experimental run with id: 9. \n"
     ]
    },
    {
     "name": "stdout",
     "output_type": "stream",
     "text": [
      "Starting experimental run with id: 10. \n",
      "Starting experimental run with id: 11. \n"
     ]
    },
    {
     "name": "stdout",
     "output_type": "stream",
     "text": [
      "Starting experimental run with id: 12. \n",
      "Starting experimental run with id: 13. \n"
     ]
    },
    {
     "name": "stdout",
     "output_type": "stream",
     "text": [
      "Starting experimental run with id: 14. \n"
     ]
    }
   ],
   "source": [
    "sizes = [1,500,1000,2000,3000,4000,5000]\n",
    "t_numeric = []\n",
    "t_numeric_add = []\n",
    "t_array = []\n",
    "t_array_add = []\n",
    "for size in sizes:\n",
    "    tn, tna, run_id_n =  insert_data('numeric', size)\n",
    "    t_numeric.append(tn)\n",
    "    t_numeric_add.append(tna)\n",
    "\n",
    "    ta, taa, run_id_a =  insert_data('array', size)\n",
    "    t_array.append(ta)\n",
    "    t_array_add.append(taa)"
   ]
  },
  {
   "cell_type": "code",
   "execution_count": 6,
   "metadata": {
    "execution": {
     "iopub.execute_input": "2021-03-30T06:37:33.262406Z",
     "iopub.status.busy": "2021-03-30T06:37:33.245772Z",
     "iopub.status.idle": "2021-03-30T06:37:33.508690Z",
     "shell.execute_reply": "2021-03-30T06:37:33.509460Z"
    }
   },
   "outputs": [
    {
     "data": {
      "image/png": "[encoded data removed]",
      "text/plain": [
       "<Figure size 432x288 with 1 Axes>"
      ]
     },
     "metadata": {
      "needs_background": "light"
     },
     "output_type": "display_data"
    }
   ],
   "source": [
    "fig, ax = plt.subplots(1,1)\n",
    "ax.plot(sizes, t_numeric, 'o-', label='Inserting row-by-row')\n",
    "ax.plot(sizes, t_numeric_add, 'o-', label='Inserting row-by-row: add_result only')\n",
    "ax.plot(sizes, t_array, 'd-', label='Inserting as binary blob')\n",
    "ax.plot(sizes, t_array_add, 'd-', label='Inserting as binary blob: add_result only')\n",
    "ax.legend()\n",
    "ax.set_xlabel('Array length')\n",
    "ax.set_ylabel('Time (s)')\n",
    "fig.tight_layout()"
   ]
  },
  {
   "cell_type": "markdown",
   "metadata": {},
   "source": [
    "As shown in the latter figure, the time to setup and and close the experiment is approximately 0.4 sec. In case of small array sizes, the difference between inserting values of data as arrays and inserting them row-by-row is relatively unimportant. At larger array sizes, i.e. above 10000 points, the cost of writing data as individual datapoints starts to become important.\n"
   ]
  },
  {
   "cell_type": "markdown",
   "metadata": {},
   "source": [
    "### Case2: Long experiment time "
   ]
  },
  {
   "cell_type": "code",
   "execution_count": 7,
   "metadata": {
    "execution": {
     "iopub.execute_input": "2021-03-30T06:37:33.517067Z",
     "iopub.status.busy": "2021-03-30T06:37:33.515768Z",
     "iopub.status.idle": "2021-03-30T06:38:27.963141Z",
     "shell.execute_reply": "2021-03-30T06:38:27.961898Z"
    }
   },
   "outputs": [
    {
     "name": "stdout",
     "output_type": "stream",
     "text": [
      "Starting experimental run with id: 15. \n",
      "Starting experimental run with id: 16. \n"
     ]
    },
    {
     "name": "stdout",
     "output_type": "stream",
     "text": [
      "Starting experimental run with id: 17. \n"
     ]
    },
    {
     "name": "stdout",
     "output_type": "stream",
     "text": [
      "Starting experimental run with id: 18. \n",
      "Starting experimental run with id: 19. \n"
     ]
    },
    {
     "name": "stdout",
     "output_type": "stream",
     "text": [
      "Starting experimental run with id: 20. \n"
     ]
    },
    {
     "name": "stdout",
     "output_type": "stream",
     "text": [
      "Starting experimental run with id: 21. \n"
     ]
    },
    {
     "name": "stdout",
     "output_type": "stream",
     "text": [
      "Starting experimental run with id: 22. \n"
     ]
    },
    {
     "name": "stdout",
     "output_type": "stream",
     "text": [
      "Starting experimental run with id: 23. \n"
     ]
    },
    {
     "name": "stdout",
     "output_type": "stream",
     "text": [
      "Starting experimental run with id: 24. \n"
     ]
    },
    {
     "name": "stdout",
     "output_type": "stream",
     "text": [
      "Starting experimental run with id: 25. \n"
     ]
    },
    {
     "name": "stdout",
     "output_type": "stream",
     "text": [
      "Starting experimental run with id: 26. \n"
     ]
    },
    {
     "name": "stdout",
     "output_type": "stream",
     "text": [
      "Starting experimental run with id: 27. \n"
     ]
    },
    {
     "name": "stdout",
     "output_type": "stream",
     "text": [
      "Starting experimental run with id: 28. \n"
     ]
    }
   ],
   "source": [
    "sizes = [1,500,1000,2000,3000,4000,5000]\n",
    "nreps = 100\n",
    "t_numeric = []\n",
    "t_numeric_add = []\n",
    "t_numeric_run_ids = []\n",
    "t_array = []\n",
    "t_array_add = []\n",
    "t_array_run_ids = []\n",
    "for size in sizes:\n",
    "    tn, tna, run_id_n =  insert_data('numeric', size, nreps=nreps)\n",
    "    t_numeric.append(tn)\n",
    "    t_numeric_add.append(tna)\n",
    "    t_numeric_run_ids.append(run_id_n)\n",
    "\n",
    "    ta, taa, run_id_a =  insert_data('array', size, nreps=nreps)\n",
    "    t_array.append(ta)\n",
    "    t_array_add.append(taa)\n",
    "    t_array_run_ids.append(run_id_a)"
   ]
  },
  {
   "cell_type": "code",
   "execution_count": 8,
   "metadata": {
    "execution": {
     "iopub.execute_input": "2021-03-30T06:38:28.019450Z",
     "iopub.status.busy": "2021-03-30T06:38:27.970877Z",
     "iopub.status.idle": "2021-03-30T06:38:28.209690Z",
     "shell.execute_reply": "2021-03-30T06:38:28.209219Z"
    },
    "scrolled": true
   },
   "outputs": [
    {
     "data": {
      "image/png": "[encoded data removed]",
      "text/plain": [
       "<Figure size 432x288 with 1 Axes>"
      ]
     },
     "metadata": {
      "needs_background": "light"
     },
     "output_type": "display_data"
    }
   ],
   "source": [
    "fig, ax = plt.subplots(1,1)\n",
    "ax.plot(sizes, t_numeric, 'o-', label='Inserting row-by-row')\n",
    "ax.plot(sizes, t_numeric_add, 'o-', label='Inserting row-by-row: add_result only')\n",
    "ax.plot(sizes, t_array, 'd-', label='Inserting as binary blob')\n",
    "ax.plot(sizes, t_array_add, 'd-', label='Inserting as binary blob: add_result only')\n",
    "ax.legend()\n",
    "ax.set_xlabel('Array length')\n",
    "ax.set_ylabel('Time (s)')\n",
    "fig.tight_layout()"
   ]
  },
  {
   "cell_type": "markdown",
   "metadata": {},
   "source": [
    "However, as we increase the length of the experiment, as seen here by repeating the insertion 100 times, we see a big difference between inserting values of the data row-by-row and inserting it as a binary blob."
   ]
  },
  {
   "cell_type": "markdown",
   "metadata": {},
   "source": [
    "## Loading the data "
   ]
  },
  {
   "cell_type": "code",
   "execution_count": 9,
   "metadata": {
    "execution": {
     "iopub.execute_input": "2021-03-30T06:38:28.214136Z",
     "iopub.status.busy": "2021-03-30T06:38:28.213166Z",
     "iopub.status.idle": "2021-03-30T06:38:28.216452Z",
     "shell.execute_reply": "2021-03-30T06:38:28.215845Z"
    }
   },
   "outputs": [],
   "source": [
    "from qcodes.dataset.data_set import load_by_id\n",
    "from qcodes.dataset.data_export import get_data_by_id"
   ]
  },
  {
   "cell_type": "markdown",
   "metadata": {},
   "source": [
    "As usual you can load the data by using the ``load_by_id`` function but you will notice that the different storage methods\n",
    "are reflected in shape of the data as it is retrieved. "
   ]
  },
  {
   "cell_type": "code",
   "execution_count": 10,
   "metadata": {
    "execution": {
     "iopub.execute_input": "2021-03-30T06:38:28.220801Z",
     "iopub.status.busy": "2021-03-30T06:38:28.219598Z",
     "iopub.status.idle": "2021-03-30T06:38:28.221621Z",
     "shell.execute_reply": "2021-03-30T06:38:28.222403Z"
    }
   },
   "outputs": [],
   "source": [
    "run_id_n = t_numeric_run_ids[0]\n",
    "run_id_a = t_array_run_ids[0]"
   ]
  },
  {
   "cell_type": "code",
   "execution_count": 11,
   "metadata": {
    "execution": {
     "iopub.execute_input": "2021-03-30T06:38:28.225845Z",
     "iopub.status.busy": "2021-03-30T06:38:28.225309Z",
     "iopub.status.idle": "2021-03-30T06:38:28.271357Z",
     "shell.execute_reply": "2021-03-30T06:38:28.271905Z"
    },
    "scrolled": true
   },
   "outputs": [
    {
     "data": {
      "text/plain": [
       "{'x1': {'x1': array([0.51825434, 0.51825434, 0.34709608, 0.34709608, 0.68228677,\n",
       "         0.68228677, 0.64000646, 0.64000646, 0.49374925, 0.49374925,\n",
       "         0.94707808, 0.94707808, 0.06756548, 0.06756548, 0.09673917,\n",
       "         0.09673917, 0.32551098, 0.32551098, 0.14944195, 0.14944195,\n",
       "         0.45882903, 0.45882903, 0.40752885, 0.40752885, 0.86463226,\n",
       "         0.86463226, 0.85974375, 0.85974375, 0.38988591, 0.38988591,\n",
       "         0.49249835, 0.49249835, 0.39304166, 0.39304166, 0.31640573,\n",
       "         0.31640573, 0.39806342, 0.39806342, 0.46971327, 0.46971327,\n",
       "         0.05980703, 0.05980703, 0.84328612, 0.84328612, 0.52499029,\n",
       "         0.52499029, 0.37505415, 0.37505415, 0.67543136, 0.67543136,\n",
       "         0.91550834, 0.91550834, 0.82082012, 0.82082012, 0.69580198,\n",
       "         0.69580198, 0.44461953, 0.44461953, 0.33298739, 0.33298739,\n",
       "         0.97407352, 0.97407352, 0.70041263, 0.70041263, 0.29895748,\n",
       "         0.29895748, 0.57046281, 0.57046281, 0.08080642, 0.08080642,\n",
       "         0.54375571, 0.54375571, 0.27850822, 0.27850822, 0.86720352,\n",
       "         0.86720352, 0.68893257, 0.68893257, 0.09262526, 0.09262526,\n",
       "         0.88211972, 0.88211972, 0.77143301, 0.77143301, 0.39585719,\n",
       "         0.39585719, 0.20512958, 0.20512958, 0.33620254, 0.33620254,\n",
       "         0.78724795, 0.78724795, 0.29762223, 0.29762223, 0.79939352,\n",
       "         0.79939352, 0.3769614 , 0.3769614 , 0.93595837, 0.93595837,\n",
       "         0.22551268, 0.22551268, 0.50096226, 0.50096226, 0.77378596,\n",
       "         0.77378596, 0.24880546, 0.24880546, 0.55867067, 0.55867067,\n",
       "         0.04277955, 0.04277955, 0.88907292, 0.88907292, 0.33178698,\n",
       "         0.33178698, 0.00933267, 0.00933267, 0.69742131, 0.69742131,\n",
       "         0.68442378, 0.68442378, 0.88678002, 0.88678002, 0.5699185 ,\n",
       "         0.5699185 , 0.5170592 , 0.5170592 , 0.84541932, 0.84541932,\n",
       "         0.24475159, 0.24475159, 0.32317799, 0.32317799, 0.86991234,\n",
       "         0.86991234, 0.34806199, 0.34806199, 0.76496725, 0.76496725,\n",
       "         0.4122736 , 0.4122736 , 0.42175286, 0.42175286, 0.17823054,\n",
       "         0.17823054, 0.06606317, 0.06606317, 0.52564326, 0.52564326,\n",
       "         0.85514096, 0.85514096, 0.37839568, 0.37839568, 0.18082716,\n",
       "         0.18082716, 0.14698921, 0.14698921, 0.29412784, 0.29412784,\n",
       "         0.43079212, 0.43079212, 0.39935889, 0.39935889, 0.32695355,\n",
       "         0.32695355, 0.72178578, 0.72178578, 0.74307232, 0.74307232,\n",
       "         0.36063324, 0.36063324, 0.67920402, 0.67920402, 0.07927763,\n",
       "         0.07927763, 0.25748579, 0.25748579, 0.79906843, 0.79906843,\n",
       "         0.64534987, 0.64534987, 0.34501217, 0.34501217, 0.09944895,\n",
       "         0.09944895, 0.46064855, 0.46064855, 0.38064308, 0.38064308,\n",
       "         0.60246373, 0.60246373, 0.56755803, 0.56755803, 0.67661841,\n",
       "         0.67661841, 0.89041137, 0.89041137, 0.34808891, 0.34808891])}}"
      ]
     },
     "execution_count": 1,
     "metadata": {},
     "output_type": "execute_result"
    }
   ],
   "source": [
    "ds = load_by_id(run_id_n)\n",
    "ds.get_parameter_data('x1')"
   ]
  },
  {
   "cell_type": "markdown",
   "metadata": {},
   "source": [
    "And a dataset stored as binary arrays"
   ]
  },
  {
   "cell_type": "code",
   "execution_count": 12,
   "metadata": {
    "execution": {
     "iopub.execute_input": "2021-03-30T06:38:28.275490Z",
     "iopub.status.busy": "2021-03-30T06:38:28.274926Z",
     "iopub.status.idle": "2021-03-30T06:38:28.335413Z",
     "shell.execute_reply": "2021-03-30T06:38:28.335898Z"
    },
    "scrolled": true
   },
   "outputs": [
    {
     "data": {
      "text/plain": [
       "{'x1': {'x1': array([[0.78775822],\n",
       "         [0.78775822],\n",
       "         [0.14102227],\n",
       "         [0.14102227],\n",
       "         [0.92166903],\n",
       "         [0.92166903],\n",
       "         [0.03916068],\n",
       "         [0.03916068],\n",
       "         [0.96711598],\n",
       "         [0.96711598],\n",
       "         [0.48353973],\n",
       "         [0.48353973],\n",
       "         [0.96235534],\n",
       "         [0.96235534],\n",
       "         [0.81596295],\n",
       "         [0.81596295],\n",
       "         [0.64648138],\n",
       "         [0.64648138],\n",
       "         [0.29142421],\n",
       "         [0.29142421],\n",
       "         [0.84394959],\n",
       "         [0.84394959],\n",
       "         [0.25441911],\n",
       "         [0.25441911],\n",
       "         [0.63873085],\n",
       "         [0.63873085],\n",
       "         [0.20055349],\n",
       "         [0.20055349],\n",
       "         [0.77373393],\n",
       "         [0.77373393],\n",
       "         [0.59672263],\n",
       "         [0.59672263],\n",
       "         [0.23756161],\n",
       "         [0.23756161],\n",
       "         [0.6486517 ],\n",
       "         [0.6486517 ],\n",
       "         [0.50274051],\n",
       "         [0.50274051],\n",
       "         [0.23147084],\n",
       "         [0.23147084],\n",
       "         [0.25429187],\n",
       "         [0.25429187],\n",
       "         [0.50915602],\n",
       "         [0.50915602],\n",
       "         [0.10192215],\n",
       "         [0.10192215],\n",
       "         [0.93880962],\n",
       "         [0.93880962],\n",
       "         [0.13251784],\n",
       "         [0.13251784],\n",
       "         [0.78238294],\n",
       "         [0.78238294],\n",
       "         [0.98004525],\n",
       "         [0.98004525],\n",
       "         [0.48430969],\n",
       "         [0.48430969],\n",
       "         [0.66942326],\n",
       "         [0.66942326],\n",
       "         [0.25983034],\n",
       "         [0.25983034],\n",
       "         [0.33477695],\n",
       "         [0.33477695],\n",
       "         [0.612679  ],\n",
       "         [0.612679  ],\n",
       "         [0.96406767],\n",
       "         [0.96406767],\n",
       "         [0.21541963],\n",
       "         [0.21541963],\n",
       "         [0.71187641],\n",
       "         [0.71187641],\n",
       "         [0.77060823],\n",
       "         [0.77060823],\n",
       "         [0.39273715],\n",
       "         [0.39273715],\n",
       "         [0.31833709],\n",
       "         [0.31833709],\n",
       "         [0.65458273],\n",
       "         [0.65458273],\n",
       "         [0.6555057 ],\n",
       "         [0.6555057 ],\n",
       "         [0.58228104],\n",
       "         [0.58228104],\n",
       "         [0.36622852],\n",
       "         [0.36622852],\n",
       "         [0.77801231],\n",
       "         [0.77801231],\n",
       "         [0.56124789],\n",
       "         [0.56124789],\n",
       "         [0.92845528],\n",
       "         [0.92845528],\n",
       "         [0.39105987],\n",
       "         [0.39105987],\n",
       "         [0.83769407],\n",
       "         [0.83769407],\n",
       "         [0.91749375],\n",
       "         [0.91749375],\n",
       "         [0.60910171],\n",
       "         [0.60910171],\n",
       "         [0.23622675],\n",
       "         [0.23622675],\n",
       "         [0.79591974],\n",
       "         [0.79591974],\n",
       "         [0.9417304 ],\n",
       "         [0.9417304 ],\n",
       "         [0.78861196],\n",
       "         [0.78861196],\n",
       "         [0.91166062],\n",
       "         [0.91166062],\n",
       "         [0.33557857],\n",
       "         [0.33557857],\n",
       "         [0.51751798],\n",
       "         [0.51751798],\n",
       "         [0.35244001],\n",
       "         [0.35244001],\n",
       "         [0.53139618],\n",
       "         [0.53139618],\n",
       "         [0.08113476],\n",
       "         [0.08113476],\n",
       "         [0.55988383],\n",
       "         [0.55988383],\n",
       "         [0.26892718],\n",
       "         [0.26892718],\n",
       "         [0.98083786],\n",
       "         [0.98083786],\n",
       "         [0.68028313],\n",
       "         [0.68028313],\n",
       "         [0.55382436],\n",
       "         [0.55382436],\n",
       "         [0.59600512],\n",
       "         [0.59600512],\n",
       "         [0.35115218],\n",
       "         [0.35115218],\n",
       "         [0.75599884],\n",
       "         [0.75599884],\n",
       "         [0.47897567],\n",
       "         [0.47897567],\n",
       "         [0.73380911],\n",
       "         [0.73380911],\n",
       "         [0.31731453],\n",
       "         [0.31731453],\n",
       "         [0.63468762],\n",
       "         [0.63468762],\n",
       "         [0.72096986],\n",
       "         [0.72096986],\n",
       "         [0.75080193],\n",
       "         [0.75080193],\n",
       "         [0.18754866],\n",
       "         [0.18754866],\n",
       "         [0.44580928],\n",
       "         [0.44580928],\n",
       "         [0.32584212],\n",
       "         [0.32584212],\n",
       "         [0.59937474],\n",
       "         [0.59937474],\n",
       "         [0.91183611],\n",
       "         [0.91183611],\n",
       "         [0.50602849],\n",
       "         [0.50602849],\n",
       "         [0.43190179],\n",
       "         [0.43190179],\n",
       "         [0.40475718],\n",
       "         [0.40475718],\n",
       "         [0.94422519],\n",
       "         [0.94422519],\n",
       "         [0.78959862],\n",
       "         [0.78959862],\n",
       "         [0.95437074],\n",
       "         [0.95437074],\n",
       "         [0.14557562],\n",
       "         [0.14557562],\n",
       "         [0.9010917 ],\n",
       "         [0.9010917 ],\n",
       "         [0.56374751],\n",
       "         [0.56374751],\n",
       "         [0.39424652],\n",
       "         [0.39424652],\n",
       "         [0.32818453],\n",
       "         [0.32818453],\n",
       "         [0.6098349 ],\n",
       "         [0.6098349 ],\n",
       "         [0.11248459],\n",
       "         [0.11248459],\n",
       "         [0.85462352],\n",
       "         [0.85462352],\n",
       "         [0.47315669],\n",
       "         [0.47315669],\n",
       "         [0.83204065],\n",
       "         [0.83204065],\n",
       "         [0.5526753 ],\n",
       "         [0.5526753 ],\n",
       "         [0.41336967],\n",
       "         [0.41336967],\n",
       "         [0.20668709],\n",
       "         [0.20668709],\n",
       "         [0.71018528],\n",
       "         [0.71018528],\n",
       "         [0.7023919 ],\n",
       "         [0.7023919 ],\n",
       "         [0.87627906],\n",
       "         [0.87627906]])}}"
      ]
     },
     "execution_count": 1,
     "metadata": {},
     "output_type": "execute_result"
    }
   ],
   "source": [
    "ds = load_by_id(run_id_a)\n",
    "ds.get_parameter_data('x1')"
   ]
  },
  {
   "cell_type": "code",
   "execution_count": null,
   "metadata": {},
   "outputs": [],
   "source": []
  }
 ],
 "metadata": {
  "kernelspec": {
   "display_name": "Python 3",
   "language": "python",
   "name": "python3"
  },
  "language_info": {
   "codemirror_mode": {
    "name": "ipython",
    "version": 3
   },
   "file_extension": ".py",
   "mimetype": "text/x-python",
   "name": "python",
   "nbconvert_exporter": "python",
   "pygments_lexer": "ipython3",
   "version": "3.7.10"
  },
  "nbsphinx": {
   "timeout": 600
  },
  "toc": {
   "base_numbering": 1,
   "nav_menu": {},
   "number_sections": true,
   "sideBar": true,
   "skip_h1_title": false,
   "title_cell": "Table of Contents",
   "title_sidebar": "Contents",
   "toc_cell": false,
   "toc_position": {},
   "toc_section_display": true,
   "toc_window_display": false
  },
  "varInspector": {
   "cols": {
    "lenName": 16,
    "lenType": 16,
    "lenVar": 40
   },
   "kernels_config": {
    "python": {
     "delete_cmd_postfix": "",
     "delete_cmd_prefix": "del ",
     "library": "var_list.py",
     "varRefreshCmd": "print(var_dic_list())"
    },
    "r": {
     "delete_cmd_postfix": ") ",
     "delete_cmd_prefix": "rm(",
     "library": "var_list.r",
     "varRefreshCmd": "cat(var_dic_list()) "
    }
   },
   "types_to_exclude": [
    "module",
    "function",
    "builtin_function_or_method",
    "instance",
    "_Feature"
   ],
   "window_display": false
  }
 },
 "nbformat": 4,
 "nbformat_minor": 2
}
