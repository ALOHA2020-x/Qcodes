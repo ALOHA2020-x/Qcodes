{
 "cells": [
  {
   "cell_type": "markdown",
   "metadata": {},
   "source": [
    "# DataSet Performance\n",
    "\n",
    "This notebook shows the trade-off between inserting data into a database row-by-row and as binary blobs. Inserting the data row-by-row means that we have direct access to all the data and may perform queries directly on the values of the data. On the other hand, as we shall see, this is much slower than inserting the data directly as binary blobs."
   ]
  },
  {
   "cell_type": "markdown",
   "metadata": {},
   "source": [
    "First, we choose a new location for the database to ensure that we don't add a bunch of benchmarking data to the default one."
   ]
  },
  {
   "cell_type": "code",
   "execution_count": 1,
   "metadata": {
    "execution": {
     "iopub.execute_input": "2021-01-28T16:06:58.438165Z",
     "iopub.status.busy": "2021-01-28T16:06:58.437623Z",
     "iopub.status.idle": "2021-01-28T16:06:59.454249Z",
     "shell.execute_reply": "2021-01-28T16:06:59.454746Z"
    }
   },
   "outputs": [
    {
     "name": "stdout",
     "output_type": "stream",
     "text": [
      "Logging hadn't been started.\n",
      "Activating auto-logging. Current session state plus future input saved.\n",
      "Filename       : /home/vsts/.qcodes/logs/command_history.log\n",
      "Mode           : append\n",
      "Output logging : True\n",
      "Raw input log  : False\n",
      "Timestamping   : True\n",
      "State          : active\n"
     ]
    },
    {
     "name": "stdout",
     "output_type": "stream",
     "text": [
      "Qcodes Logfile : /home/vsts/.qcodes/logs/210128-13468-qcodes.log\n"
     ]
    }
   ],
   "source": [
    "import os\n",
    "cwd = os.getcwd()\n",
    "import qcodes as qc\n",
    "qc.config[\"core\"][\"db_location\"] = os.path.join(cwd, 'testing.db')\n"
   ]
  },
  {
   "cell_type": "code",
   "execution_count": 2,
   "metadata": {
    "execution": {
     "iopub.execute_input": "2021-01-28T16:06:59.461002Z",
     "iopub.status.busy": "2021-01-28T16:06:59.460222Z",
     "iopub.status.idle": "2021-01-28T16:06:59.644351Z",
     "shell.execute_reply": "2021-01-28T16:06:59.643409Z"
    }
   },
   "outputs": [],
   "source": [
    "%matplotlib inline\n",
    "import time\n",
    "import matplotlib.pyplot as plt\n",
    "import numpy as np\n",
    "\n",
    "import qcodes as qc\n",
    "from qcodes.instrument.parameter import ManualParameter\n",
    "from qcodes.dataset.experiment_container import (Experiment,\n",
    "                                                 load_last_experiment,\n",
    "                                                 new_experiment)\n",
    "from qcodes.dataset.sqlite.database import initialise_database\n",
    "from qcodes import load_or_create_experiment\n",
    "from qcodes.dataset.measurements import Measurement"
   ]
  },
  {
   "cell_type": "code",
   "execution_count": 3,
   "metadata": {
    "execution": {
     "iopub.execute_input": "2021-01-28T16:06:59.648576Z",
     "iopub.status.busy": "2021-01-28T16:06:59.647652Z",
     "iopub.status.idle": "2021-01-28T16:06:59.755032Z",
     "shell.execute_reply": "2021-01-28T16:06:59.755485Z"
    }
   },
   "outputs": [
    {
     "name": "stdout",
     "output_type": "stream",
     "text": [
      "\r",
      "0it [00:00, ?it/s]"
     ]
    },
    {
     "name": "stdout",
     "output_type": "stream",
     "text": [
      "\r",
      "Upgrading database; v0 -> v1: : 0it [00:00, ?it/s]"
     ]
    },
    {
     "name": "stdout",
     "output_type": "stream",
     "text": [
      "\r",
      "Upgrading database; v0 -> v1: : 0it [00:00, ?it/s]"
     ]
    },
    {
     "name": "stdout",
     "output_type": "stream",
     "text": [
      "\n",
      "\r",
      "  0%|          | 0/1 [00:00<?, ?it/s]"
     ]
    },
    {
     "name": "stdout",
     "output_type": "stream",
     "text": [
      "\r",
      "Upgrading database; v1 -> v2:   0%|          | 0/1 [00:00<?, ?it/s]"
     ]
    },
    {
     "name": "stdout",
     "output_type": "stream",
     "text": [
      "\r",
      "Upgrading database; v1 -> v2: 100%|██████████| 1/1 [00:00<00:00, 1235.07it/s]"
     ]
    },
    {
     "name": "stdout",
     "output_type": "stream",
     "text": [
      "\n",
      "\r",
      "0it [00:00, ?it/s]"
     ]
    },
    {
     "name": "stdout",
     "output_type": "stream",
     "text": [
      "\r",
      "Upgrading database; v2 -> v3: : 0it [00:00, ?it/s]"
     ]
    },
    {
     "name": "stdout",
     "output_type": "stream",
     "text": [
      "\r",
      "Upgrading database; v2 -> v3: : 0it [00:00, ?it/s]"
     ]
    },
    {
     "name": "stdout",
     "output_type": "stream",
     "text": [
      "\n",
      "\r",
      "0it [00:00, ?it/s]"
     ]
    },
    {
     "name": "stdout",
     "output_type": "stream",
     "text": [
      "\r",
      "Upgrading database; v3 -> v4: : 0it [00:00, ?it/s]"
     ]
    },
    {
     "name": "stdout",
     "output_type": "stream",
     "text": [
      "\r",
      "Upgrading database; v3 -> v4: : 0it [00:00, ?it/s]"
     ]
    },
    {
     "name": "stdout",
     "output_type": "stream",
     "text": [
      "\n",
      "\r",
      "  0%|          | 0/1 [00:00<?, ?it/s]"
     ]
    },
    {
     "name": "stdout",
     "output_type": "stream",
     "text": [
      "\r",
      "Upgrading database; v4 -> v5:   0%|          | 0/1 [00:00<?, ?it/s]"
     ]
    },
    {
     "name": "stdout",
     "output_type": "stream",
     "text": [
      "\r",
      "Upgrading database; v4 -> v5: 100%|██████████| 1/1 [00:00<00:00, 1112.84it/s]"
     ]
    },
    {
     "name": "stdout",
     "output_type": "stream",
     "text": [
      "\n",
      "\r",
      "0it [00:00, ?it/s]"
     ]
    },
    {
     "name": "stdout",
     "output_type": "stream",
     "text": [
      "\r",
      "Upgrading database; v5 -> v6: : 0it [00:00, ?it/s]"
     ]
    },
    {
     "name": "stdout",
     "output_type": "stream",
     "text": [
      "\r",
      "Upgrading database; v5 -> v6: : 0it [00:00, ?it/s]"
     ]
    },
    {
     "name": "stdout",
     "output_type": "stream",
     "text": [
      "\n",
      "\r",
      "  0%|          | 0/1 [00:00<?, ?it/s]"
     ]
    },
    {
     "name": "stdout",
     "output_type": "stream",
     "text": [
      "\r",
      "Upgrading database; v6 -> v7:   0%|          | 0/1 [00:00<?, ?it/s]"
     ]
    },
    {
     "name": "stdout",
     "output_type": "stream",
     "text": [
      "\r",
      "Upgrading database; v6 -> v7: 100%|██████████| 1/1 [00:00<00:00, 235.09it/s]"
     ]
    },
    {
     "name": "stdout",
     "output_type": "stream",
     "text": [
      "\n",
      "\r",
      "  0%|          | 0/1 [00:00<?, ?it/s]"
     ]
    },
    {
     "name": "stdout",
     "output_type": "stream",
     "text": [
      "\r",
      "Upgrading database; v7 -> v8:   0%|          | 0/1 [00:00<?, ?it/s]"
     ]
    },
    {
     "name": "stdout",
     "output_type": "stream",
     "text": [
      "\r",
      "Upgrading database; v7 -> v8: 100%|██████████| 1/1 [00:00<00:00, 574.33it/s]"
     ]
    },
    {
     "name": "stdout",
     "output_type": "stream",
     "text": [
      "\n",
      "\r",
      "  0%|          | 0/1 [00:00<?, ?it/s]"
     ]
    },
    {
     "name": "stdout",
     "output_type": "stream",
     "text": [
      "\r",
      "Upgrading database; v8 -> v9:   0%|          | 0/1 [00:00<?, ?it/s]"
     ]
    },
    {
     "name": "stdout",
     "output_type": "stream",
     "text": [
      "\r",
      "Upgrading database; v8 -> v9: 100%|██████████| 1/1 [00:00<00:00, 497.07it/s]"
     ]
    },
    {
     "name": "stdout",
     "output_type": "stream",
     "text": [
      "\n"
     ]
    }
   ],
   "source": [
    "initialise_database()\n",
    "exp = load_or_create_experiment(experiment_name='tutorial_exp', sample_name=\"no sample\")"
   ]
  },
  {
   "cell_type": "markdown",
   "metadata": {},
   "source": [
    "Here, we define a simple function to benchmark the time it takes to insert n points with either numeric or array data type.\n",
    "We will compare both the time used to call ``add_result`` and the time used for the full measurement."
   ]
  },
  {
   "cell_type": "code",
   "execution_count": 4,
   "metadata": {
    "execution": {
     "iopub.execute_input": "2021-01-28T16:06:59.766866Z",
     "iopub.status.busy": "2021-01-28T16:06:59.762282Z",
     "iopub.status.idle": "2021-01-28T16:06:59.770222Z",
     "shell.execute_reply": "2021-01-28T16:06:59.769394Z"
    }
   },
   "outputs": [],
   "source": [
    "def insert_data(paramtype, npoints, nreps=1):\n",
    "\n",
    "    meas = Measurement(exp=exp)\n",
    "\n",
    "    x1 = ManualParameter('x1')\n",
    "    x2 = ManualParameter('x2')\n",
    "    x3 = ManualParameter('x3')\n",
    "    y1 = ManualParameter('y1')\n",
    "    y2 = ManualParameter('y2')\n",
    "\n",
    "    meas.register_parameter(x1, paramtype=paramtype)\n",
    "    meas.register_parameter(x2, paramtype=paramtype)\n",
    "    meas.register_parameter(x3, paramtype=paramtype)\n",
    "    meas.register_parameter(y1, setpoints=[x1, x2, x3],\n",
    "                            paramtype=paramtype)\n",
    "    meas.register_parameter(y2, setpoints=[x1, x2, x3],\n",
    "                            paramtype=paramtype)\n",
    "    start = time.perf_counter()\n",
    "    with meas.run() as datasaver:\n",
    "        start_adding = time.perf_counter()\n",
    "        for i in range(nreps):\n",
    "            datasaver.add_result((x1, np.random.rand(npoints)),\n",
    "                                 (x2, np.random.rand(npoints)),\n",
    "                                 (x3, np.random.rand(npoints)),\n",
    "                                 (y1, np.random.rand(npoints)),\n",
    "                                 (y2, np.random.rand(npoints)))\n",
    "        stop_adding = time.perf_counter()\n",
    "        run_id = datasaver.run_id\n",
    "    stop = time.perf_counter()\n",
    "    tot_time = stop - start\n",
    "    add_time = stop_adding - start_adding\n",
    "    return tot_time, add_time, run_id"
   ]
  },
  {
   "cell_type": "markdown",
   "metadata": {},
   "source": [
    "## Comparison between numeric/array data and binary blob"
   ]
  },
  {
   "cell_type": "markdown",
   "metadata": {},
   "source": [
    "### Case1: Short experiment time"
   ]
  },
  {
   "cell_type": "code",
   "execution_count": 5,
   "metadata": {
    "execution": {
     "iopub.execute_input": "2021-01-28T16:06:59.776511Z",
     "iopub.status.busy": "2021-01-28T16:06:59.775240Z",
     "iopub.status.idle": "2021-01-28T16:07:00.627097Z",
     "shell.execute_reply": "2021-01-28T16:07:00.626657Z"
    }
   },
   "outputs": [
    {
     "name": "stdout",
     "output_type": "stream",
     "text": [
      "Starting experimental run with id: 1. \n",
      "Starting experimental run with id: 2. \n",
      "Starting experimental run with id: 3. \n",
      "Starting experimental run with id: 4. \n",
      "Starting experimental run with id: 5. \n"
     ]
    },
    {
     "name": "stdout",
     "output_type": "stream",
     "text": [
      "Starting experimental run with id: 6. "
     ]
    },
    {
     "name": "stdout",
     "output_type": "stream",
     "text": [
      "\n"
     ]
    },
    {
     "name": "stdout",
     "output_type": "stream",
     "text": [
      "Starting experimental run with id: 7. \n"
     ]
    },
    {
     "name": "stdout",
     "output_type": "stream",
     "text": [
      "Starting experimental run with id: 8. \n",
      "Starting experimental run with id: 9. \n"
     ]
    },
    {
     "name": "stdout",
     "output_type": "stream",
     "text": [
      "Starting experimental run with id: 10. \n",
      "Starting experimental run with id: 11. \n"
     ]
    },
    {
     "name": "stdout",
     "output_type": "stream",
     "text": [
      "Starting experimental run with id: 12. \n",
      "Starting experimental run with id: 13. \n"
     ]
    },
    {
     "name": "stdout",
     "output_type": "stream",
     "text": [
      "Starting experimental run with id: 14. \n"
     ]
    }
   ],
   "source": [
    "sizes = [1,500,1000,2000,3000,4000,5000]\n",
    "t_numeric = []\n",
    "t_numeric_add = []\n",
    "t_array = []\n",
    "t_array_add = []\n",
    "for size in sizes:\n",
    "    tn, tna, run_id_n =  insert_data('numeric', size)\n",
    "    t_numeric.append(tn)\n",
    "    t_numeric_add.append(tna)\n",
    "\n",
    "    ta, taa, run_id_a =  insert_data('array', size)\n",
    "    t_array.append(ta)\n",
    "    t_array_add.append(taa)"
   ]
  },
  {
   "cell_type": "code",
   "execution_count": 6,
   "metadata": {
    "execution": {
     "iopub.execute_input": "2021-01-28T16:07:00.644418Z",
     "iopub.status.busy": "2021-01-28T16:07:00.643844Z",
     "iopub.status.idle": "2021-01-28T16:07:00.822735Z",
     "shell.execute_reply": "2021-01-28T16:07:00.821978Z"
    }
   },
   "outputs": [
    {
     "data": {
      "image/png": "[encoded data removed]",
      "text/plain": [
       "<Figure size 432x288 with 1 Axes>"
      ]
     },
     "metadata": {
      "needs_background": "light"
     },
     "output_type": "display_data"
    }
   ],
   "source": [
    "fig, ax = plt.subplots(1,1)\n",
    "ax.plot(sizes, t_numeric, 'o-', label='Inserting row-by-row')\n",
    "ax.plot(sizes, t_numeric_add, 'o-', label='Inserting row-by-row: add_result only')\n",
    "ax.plot(sizes, t_array, 'd-', label='Inserting as binary blob')\n",
    "ax.plot(sizes, t_array_add, 'd-', label='Inserting as binary blob: add_result only')\n",
    "ax.legend()\n",
    "ax.set_xlabel('Array length')\n",
    "ax.set_ylabel('Time (s)')\n",
    "fig.tight_layout()"
   ]
  },
  {
   "cell_type": "markdown",
   "metadata": {},
   "source": [
    "As shown in the latter figure, the time to setup and and close the experiment is approximately 0.4 sec. In case of small array sizes, the difference between inserting values of data as arrays and inserting them row-by-row is relatively unimportant. At larger array sizes, i.e. above 10000 points, the cost of writing data as individual datapoints starts to become important.\n"
   ]
  },
  {
   "cell_type": "markdown",
   "metadata": {},
   "source": [
    "### Case2: Long experiment time "
   ]
  },
  {
   "cell_type": "code",
   "execution_count": 7,
   "metadata": {
    "execution": {
     "iopub.execute_input": "2021-01-28T16:07:00.831114Z",
     "iopub.status.busy": "2021-01-28T16:07:00.830082Z",
     "iopub.status.idle": "2021-01-28T16:08:00.226594Z",
     "shell.execute_reply": "2021-01-28T16:08:00.226002Z"
    }
   },
   "outputs": [
    {
     "name": "stdout",
     "output_type": "stream",
     "text": [
      "Starting experimental run with id: 15. \n",
      "Starting experimental run with id: 16. \n",
      "Starting experimental run with id: 17. \n"
     ]
    },
    {
     "name": "stdout",
     "output_type": "stream",
     "text": [
      "Starting experimental run with id: 18. \n",
      "Starting experimental run with id: 19. \n"
     ]
    },
    {
     "name": "stdout",
     "output_type": "stream",
     "text": [
      "Starting experimental run with id: 20. \n"
     ]
    },
    {
     "name": "stdout",
     "output_type": "stream",
     "text": [
      "Starting experimental run with id: 21. \n"
     ]
    },
    {
     "name": "stdout",
     "output_type": "stream",
     "text": [
      "Starting experimental run with id: 22. \n"
     ]
    },
    {
     "name": "stdout",
     "output_type": "stream",
     "text": [
      "Starting experimental run with id: 23. \n"
     ]
    },
    {
     "name": "stdout",
     "output_type": "stream",
     "text": [
      "Starting experimental run with id: 24. \n"
     ]
    },
    {
     "name": "stdout",
     "output_type": "stream",
     "text": [
      "Starting experimental run with id: 25. \n"
     ]
    },
    {
     "name": "stdout",
     "output_type": "stream",
     "text": [
      "Starting experimental run with id: 26. \n"
     ]
    },
    {
     "name": "stdout",
     "output_type": "stream",
     "text": [
      "Starting experimental run with id: 27. \n"
     ]
    },
    {
     "name": "stdout",
     "output_type": "stream",
     "text": [
      "Starting experimental run with id: 28. \n"
     ]
    }
   ],
   "source": [
    "sizes = [1,500,1000,2000,3000,4000,5000]\n",
    "nreps = 100\n",
    "t_numeric = []\n",
    "t_numeric_add = []\n",
    "t_numeric_run_ids = []\n",
    "t_array = []\n",
    "t_array_add = []\n",
    "t_array_run_ids = []\n",
    "for size in sizes:\n",
    "    tn, tna, run_id_n =  insert_data('numeric', size, nreps=nreps)\n",
    "    t_numeric.append(tn)\n",
    "    t_numeric_add.append(tna)\n",
    "    t_numeric_run_ids.append(run_id_n)\n",
    "\n",
    "    ta, taa, run_id_a =  insert_data('array', size, nreps=nreps)\n",
    "    t_array.append(ta)\n",
    "    t_array_add.append(taa)\n",
    "    t_array_run_ids.append(run_id_a)"
   ]
  },
  {
   "cell_type": "code",
   "execution_count": 8,
   "metadata": {
    "execution": {
     "iopub.execute_input": "2021-01-28T16:08:00.266665Z",
     "iopub.status.busy": "2021-01-28T16:08:00.265675Z",
     "iopub.status.idle": "2021-01-28T16:08:00.431777Z",
     "shell.execute_reply": "2021-01-28T16:08:00.431313Z"
    },
    "scrolled": true
   },
   "outputs": [
    {
     "data": {
      "image/png": "[encoded data removed]",
      "text/plain": [
       "<Figure size 432x288 with 1 Axes>"
      ]
     },
     "metadata": {
      "needs_background": "light"
     },
     "output_type": "display_data"
    }
   ],
   "source": [
    "fig, ax = plt.subplots(1,1)\n",
    "ax.plot(sizes, t_numeric, 'o-', label='Inserting row-by-row')\n",
    "ax.plot(sizes, t_numeric_add, 'o-', label='Inserting row-by-row: add_result only')\n",
    "ax.plot(sizes, t_array, 'd-', label='Inserting as binary blob')\n",
    "ax.plot(sizes, t_array_add, 'd-', label='Inserting as binary blob: add_result only')\n",
    "ax.legend()\n",
    "ax.set_xlabel('Array length')\n",
    "ax.set_ylabel('Time (s)')\n",
    "fig.tight_layout()"
   ]
  },
  {
   "cell_type": "markdown",
   "metadata": {},
   "source": [
    "However, as we increase the length of the experiment, as seen here by repeating the insertion 100 times, we see a big difference between inserting values of the data row-by-row and inserting it as a binary blob."
   ]
  },
  {
   "cell_type": "markdown",
   "metadata": {},
   "source": [
    "## Loading the data "
   ]
  },
  {
   "cell_type": "code",
   "execution_count": 9,
   "metadata": {
    "execution": {
     "iopub.execute_input": "2021-01-28T16:08:00.436180Z",
     "iopub.status.busy": "2021-01-28T16:08:00.435239Z",
     "iopub.status.idle": "2021-01-28T16:08:00.437865Z",
     "shell.execute_reply": "2021-01-28T16:08:00.438627Z"
    }
   },
   "outputs": [],
   "source": [
    "from qcodes.dataset.data_set import load_by_id\n",
    "from qcodes.dataset.data_export import get_data_by_id"
   ]
  },
  {
   "cell_type": "markdown",
   "metadata": {},
   "source": [
    "As usual you can load the data by using the ``load_by_id`` function but you will notice that the different storage methods\n",
    "are reflected in shape of the data as it is retrieved. "
   ]
  },
  {
   "cell_type": "code",
   "execution_count": 10,
   "metadata": {
    "execution": {
     "iopub.execute_input": "2021-01-28T16:08:00.442272Z",
     "iopub.status.busy": "2021-01-28T16:08:00.441718Z",
     "iopub.status.idle": "2021-01-28T16:08:00.444099Z",
     "shell.execute_reply": "2021-01-28T16:08:00.443648Z"
    }
   },
   "outputs": [],
   "source": [
    "run_id_n = t_numeric_run_ids[0]\n",
    "run_id_a = t_array_run_ids[0]"
   ]
  },
  {
   "cell_type": "code",
   "execution_count": 11,
   "metadata": {
    "execution": {
     "iopub.execute_input": "2021-01-28T16:08:00.447268Z",
     "iopub.status.busy": "2021-01-28T16:08:00.446743Z",
     "iopub.status.idle": "2021-01-28T16:08:00.456560Z",
     "shell.execute_reply": "2021-01-28T16:08:00.457283Z"
    },
    "scrolled": true
   },
   "outputs": [
    {
     "data": {
      "text/plain": [
       "{'x1': {'x1': array([0.39229961, 0.39229961, 0.75374551, 0.75374551, 0.3961573 ,\n",
       "         0.3961573 , 0.25467112, 0.25467112, 0.06886412, 0.06886412,\n",
       "         0.13069547, 0.13069547, 0.89065941, 0.89065941, 0.09051277,\n",
       "         0.09051277, 0.95757635, 0.95757635, 0.50769395, 0.50769395,\n",
       "         0.27415233, 0.27415233, 0.87160189, 0.87160189, 0.3439202 ,\n",
       "         0.3439202 , 0.20124759, 0.20124759, 0.71407222, 0.71407222,\n",
       "         0.57270033, 0.57270033, 0.03115305, 0.03115305, 0.40409106,\n",
       "         0.40409106, 0.69727117, 0.69727117, 0.72786607, 0.72786607,\n",
       "         0.34052123, 0.34052123, 0.3765436 , 0.3765436 , 0.94121516,\n",
       "         0.94121516, 0.53121582, 0.53121582, 0.54315798, 0.54315798,\n",
       "         0.55686272, 0.55686272, 0.19715027, 0.19715027, 0.75867274,\n",
       "         0.75867274, 0.50522838, 0.50522838, 0.72013204, 0.72013204,\n",
       "         0.68826626, 0.68826626, 0.44246079, 0.44246079, 0.25847833,\n",
       "         0.25847833, 0.65529463, 0.65529463, 0.989275  , 0.989275  ,\n",
       "         0.84846768, 0.84846768, 0.74764799, 0.74764799, 0.98888582,\n",
       "         0.98888582, 0.29376433, 0.29376433, 0.91711452, 0.91711452,\n",
       "         0.98696875, 0.98696875, 0.57326042, 0.57326042, 0.72058019,\n",
       "         0.72058019, 0.8604251 , 0.8604251 , 0.99261289, 0.99261289,\n",
       "         0.44759465, 0.44759465, 0.19398765, 0.19398765, 0.34025607,\n",
       "         0.34025607, 0.39156254, 0.39156254, 0.13958991, 0.13958991,\n",
       "         0.42812771, 0.42812771, 0.10845616, 0.10845616, 0.31477797,\n",
       "         0.31477797, 0.52275457, 0.52275457, 0.74292672, 0.74292672,\n",
       "         0.43274498, 0.43274498, 0.65777885, 0.65777885, 0.31458626,\n",
       "         0.31458626, 0.26275039, 0.26275039, 0.2782945 , 0.2782945 ,\n",
       "         0.54473407, 0.54473407, 0.32278041, 0.32278041, 0.05446352,\n",
       "         0.05446352, 0.83561925, 0.83561925, 0.48430543, 0.48430543,\n",
       "         0.40895732, 0.40895732, 0.56760003, 0.56760003, 0.33221628,\n",
       "         0.33221628, 0.82272306, 0.82272306, 0.13215433, 0.13215433,\n",
       "         0.36320627, 0.36320627, 0.32373186, 0.32373186, 0.79772792,\n",
       "         0.79772792, 0.33062272, 0.33062272, 0.13432078, 0.13432078,\n",
       "         0.88808036, 0.88808036, 0.28351723, 0.28351723, 0.43304932,\n",
       "         0.43304932, 0.89979922, 0.89979922, 0.87959447, 0.87959447,\n",
       "         0.60762907, 0.60762907, 0.64175252, 0.64175252, 0.18266171,\n",
       "         0.18266171, 0.80636603, 0.80636603, 0.48000237, 0.48000237,\n",
       "         0.15949961, 0.15949961, 0.63356684, 0.63356684, 0.84064861,\n",
       "         0.84064861, 0.20494573, 0.20494573, 0.67976412, 0.67976412,\n",
       "         0.76857124, 0.76857124, 0.97301986, 0.97301986, 0.59627072,\n",
       "         0.59627072, 0.382025  , 0.382025  , 0.48458198, 0.48458198,\n",
       "         0.42040251, 0.42040251, 0.00756082, 0.00756082, 0.54788717,\n",
       "         0.54788717, 0.2141268 , 0.2141268 , 0.78813991, 0.78813991])}}"
      ]
     },
     "execution_count": 1,
     "metadata": {},
     "output_type": "execute_result"
    }
   ],
   "source": [
    "ds = load_by_id(run_id_n)\n",
    "ds.get_parameter_data('x1')"
   ]
  },
  {
   "cell_type": "markdown",
   "metadata": {},
   "source": [
    "And a dataset stored as binary arrays"
   ]
  },
  {
   "cell_type": "code",
   "execution_count": 12,
   "metadata": {
    "execution": {
     "iopub.execute_input": "2021-01-28T16:08:00.461450Z",
     "iopub.status.busy": "2021-01-28T16:08:00.460547Z",
     "iopub.status.idle": "2021-01-28T16:08:00.514950Z",
     "shell.execute_reply": "2021-01-28T16:08:00.515536Z"
    },
    "scrolled": true
   },
   "outputs": [
    {
     "data": {
      "text/plain": [
       "{'x1': {'x1': array([[0.41451583],\n",
       "         [0.41451583],\n",
       "         [0.69198694],\n",
       "         [0.69198694],\n",
       "         [0.63589865],\n",
       "         [0.63589865],\n",
       "         [0.02525116],\n",
       "         [0.02525116],\n",
       "         [0.55443167],\n",
       "         [0.55443167],\n",
       "         [0.23230374],\n",
       "         [0.23230374],\n",
       "         [0.55426705],\n",
       "         [0.55426705],\n",
       "         [0.72819939],\n",
       "         [0.72819939],\n",
       "         [0.29693417],\n",
       "         [0.29693417],\n",
       "         [0.33212082],\n",
       "         [0.33212082],\n",
       "         [0.47627625],\n",
       "         [0.47627625],\n",
       "         [0.79708385],\n",
       "         [0.79708385],\n",
       "         [0.13100005],\n",
       "         [0.13100005],\n",
       "         [0.35576804],\n",
       "         [0.35576804],\n",
       "         [0.18613   ],\n",
       "         [0.18613   ],\n",
       "         [0.29679305],\n",
       "         [0.29679305],\n",
       "         [0.21927151],\n",
       "         [0.21927151],\n",
       "         [0.42710632],\n",
       "         [0.42710632],\n",
       "         [0.90905123],\n",
       "         [0.90905123],\n",
       "         [0.37401705],\n",
       "         [0.37401705],\n",
       "         [0.74480273],\n",
       "         [0.74480273],\n",
       "         [0.80101286],\n",
       "         [0.80101286],\n",
       "         [0.82779766],\n",
       "         [0.82779766],\n",
       "         [0.07875909],\n",
       "         [0.07875909],\n",
       "         [0.55069451],\n",
       "         [0.55069451],\n",
       "         [0.6626623 ],\n",
       "         [0.6626623 ],\n",
       "         [0.65986056],\n",
       "         [0.65986056],\n",
       "         [0.72903651],\n",
       "         [0.72903651],\n",
       "         [0.24728482],\n",
       "         [0.24728482],\n",
       "         [0.97210898],\n",
       "         [0.97210898],\n",
       "         [0.77732694],\n",
       "         [0.77732694],\n",
       "         [0.48930349],\n",
       "         [0.48930349],\n",
       "         [0.08440234],\n",
       "         [0.08440234],\n",
       "         [0.70544824],\n",
       "         [0.70544824],\n",
       "         [0.38806605],\n",
       "         [0.38806605],\n",
       "         [0.70457498],\n",
       "         [0.70457498],\n",
       "         [0.2936245 ],\n",
       "         [0.2936245 ],\n",
       "         [0.08635285],\n",
       "         [0.08635285],\n",
       "         [0.25450543],\n",
       "         [0.25450543],\n",
       "         [0.43282796],\n",
       "         [0.43282796],\n",
       "         [0.75907311],\n",
       "         [0.75907311],\n",
       "         [0.41348185],\n",
       "         [0.41348185],\n",
       "         [0.87965693],\n",
       "         [0.87965693],\n",
       "         [0.13350648],\n",
       "         [0.13350648],\n",
       "         [0.75696188],\n",
       "         [0.75696188],\n",
       "         [0.54647806],\n",
       "         [0.54647806],\n",
       "         [0.44165875],\n",
       "         [0.44165875],\n",
       "         [0.23957149],\n",
       "         [0.23957149],\n",
       "         [0.55382356],\n",
       "         [0.55382356],\n",
       "         [0.09806218],\n",
       "         [0.09806218],\n",
       "         [0.2995021 ],\n",
       "         [0.2995021 ],\n",
       "         [0.50240935],\n",
       "         [0.50240935],\n",
       "         [0.2001554 ],\n",
       "         [0.2001554 ],\n",
       "         [0.2095798 ],\n",
       "         [0.2095798 ],\n",
       "         [0.30208158],\n",
       "         [0.30208158],\n",
       "         [0.94261331],\n",
       "         [0.94261331],\n",
       "         [0.05337221],\n",
       "         [0.05337221],\n",
       "         [0.05745821],\n",
       "         [0.05745821],\n",
       "         [0.09094895],\n",
       "         [0.09094895],\n",
       "         [0.64504513],\n",
       "         [0.64504513],\n",
       "         [0.43050929],\n",
       "         [0.43050929],\n",
       "         [0.67246708],\n",
       "         [0.67246708],\n",
       "         [0.05702177],\n",
       "         [0.05702177],\n",
       "         [0.80150213],\n",
       "         [0.80150213],\n",
       "         [0.51266622],\n",
       "         [0.51266622],\n",
       "         [0.10993473],\n",
       "         [0.10993473],\n",
       "         [0.48409917],\n",
       "         [0.48409917],\n",
       "         [0.72302384],\n",
       "         [0.72302384],\n",
       "         [0.07123936],\n",
       "         [0.07123936],\n",
       "         [0.06829268],\n",
       "         [0.06829268],\n",
       "         [0.60523497],\n",
       "         [0.60523497],\n",
       "         [0.68853995],\n",
       "         [0.68853995],\n",
       "         [0.31817651],\n",
       "         [0.31817651],\n",
       "         [0.53084528],\n",
       "         [0.53084528],\n",
       "         [0.63140837],\n",
       "         [0.63140837],\n",
       "         [0.74344166],\n",
       "         [0.74344166],\n",
       "         [0.24946834],\n",
       "         [0.24946834],\n",
       "         [0.83275923],\n",
       "         [0.83275923],\n",
       "         [0.61680961],\n",
       "         [0.61680961],\n",
       "         [0.39951506],\n",
       "         [0.39951506],\n",
       "         [0.14400278],\n",
       "         [0.14400278],\n",
       "         [0.25606517],\n",
       "         [0.25606517],\n",
       "         [0.89850037],\n",
       "         [0.89850037],\n",
       "         [0.57969571],\n",
       "         [0.57969571],\n",
       "         [0.00624578],\n",
       "         [0.00624578],\n",
       "         [0.02353199],\n",
       "         [0.02353199],\n",
       "         [0.15817963],\n",
       "         [0.15817963],\n",
       "         [0.78431247],\n",
       "         [0.78431247],\n",
       "         [0.52616018],\n",
       "         [0.52616018],\n",
       "         [0.95958039],\n",
       "         [0.95958039],\n",
       "         [0.87966613],\n",
       "         [0.87966613],\n",
       "         [0.83908053],\n",
       "         [0.83908053],\n",
       "         [0.08141674],\n",
       "         [0.08141674],\n",
       "         [0.98774153],\n",
       "         [0.98774153],\n",
       "         [0.02216104],\n",
       "         [0.02216104],\n",
       "         [0.19757069],\n",
       "         [0.19757069],\n",
       "         [0.63433781],\n",
       "         [0.63433781],\n",
       "         [0.35513851],\n",
       "         [0.35513851],\n",
       "         [0.46455859],\n",
       "         [0.46455859],\n",
       "         [0.82087168],\n",
       "         [0.82087168]])}}"
      ]
     },
     "execution_count": 1,
     "metadata": {},
     "output_type": "execute_result"
    }
   ],
   "source": [
    "ds = load_by_id(run_id_a)\n",
    "ds.get_parameter_data('x1')"
   ]
  },
  {
   "cell_type": "code",
   "execution_count": null,
   "metadata": {},
   "outputs": [],
   "source": []
  }
 ],
 "metadata": {
  "kernelspec": {
   "display_name": "Python 3",
   "language": "python",
   "name": "python3"
  },
  "language_info": {
   "codemirror_mode": {
    "name": "ipython",
    "version": 3
   },
   "file_extension": ".py",
   "mimetype": "text/x-python",
   "name": "python",
   "nbconvert_exporter": "python",
   "pygments_lexer": "ipython3",
   "version": "3.7.9"
  },
  "nbsphinx": {
   "timeout": 600
  },
  "toc": {
   "base_numbering": 1,
   "nav_menu": {},
   "number_sections": true,
   "sideBar": true,
   "skip_h1_title": false,
   "title_cell": "Table of Contents",
   "title_sidebar": "Contents",
   "toc_cell": false,
   "toc_position": {},
   "toc_section_display": true,
   "toc_window_display": false
  },
  "varInspector": {
   "cols": {
    "lenName": 16,
    "lenType": 16,
    "lenVar": 40
   },
   "kernels_config": {
    "python": {
     "delete_cmd_postfix": "",
     "delete_cmd_prefix": "del ",
     "library": "var_list.py",
     "varRefreshCmd": "print(var_dic_list())"
    },
    "r": {
     "delete_cmd_postfix": ") ",
     "delete_cmd_prefix": "rm(",
     "library": "var_list.r",
     "varRefreshCmd": "cat(var_dic_list()) "
    }
   },
   "types_to_exclude": [
    "module",
    "function",
    "builtin_function_or_method",
    "instance",
    "_Feature"
   ],
   "window_display": false
  }
 },
 "nbformat": 4,
 "nbformat_minor": 2
}
