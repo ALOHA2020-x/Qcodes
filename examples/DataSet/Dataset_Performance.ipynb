{
 "cells": [
  {
   "cell_type": "markdown",
   "metadata": {},
   "source": [
    "# DataSet Performance\n",
    "\n",
    "This notebook shows the trade-off between inserting data into a database row-by-row and as binary blobs. Inserting the data row-by-row means that we have direct access to all the data and may perform queries directly on the values of the data. On the other hand, as we shall see, this is much slower than inserting the data directly as binary blobs."
   ]
  },
  {
   "cell_type": "markdown",
   "metadata": {},
   "source": [
    "First, we choose a new location for the database to ensure that we don't add a bunch of benchmarking data to the default one."
   ]
  },
  {
   "cell_type": "code",
   "execution_count": 1,
   "metadata": {
    "execution": {
     "iopub.execute_input": "2021-03-05T12:34:36.863521Z",
     "iopub.status.busy": "2021-03-05T12:34:36.862857Z",
     "iopub.status.idle": "2021-03-05T12:34:37.838270Z",
     "shell.execute_reply": "2021-03-05T12:34:37.838722Z"
    }
   },
   "outputs": [
    {
     "name": "stdout",
     "output_type": "stream",
     "text": [
      "Logging hadn't been started.\n",
      "Activating auto-logging. Current session state plus future input saved.\n",
      "Filename       : /home/runner/.qcodes/logs/command_history.log\n",
      "Mode           : append\n",
      "Output logging : True\n",
      "Raw input log  : False\n",
      "Timestamping   : True\n",
      "State          : active\n"
     ]
    },
    {
     "name": "stdout",
     "output_type": "stream",
     "text": [
      "Qcodes Logfile : /home/runner/.qcodes/logs/210305-4011-qcodes.log\n"
     ]
    }
   ],
   "source": [
    "import os\n",
    "cwd = os.getcwd()\n",
    "import qcodes as qc\n",
    "qc.config[\"core\"][\"db_location\"] = os.path.join(cwd, 'testing.db')\n"
   ]
  },
  {
   "cell_type": "code",
   "execution_count": 2,
   "metadata": {
    "execution": {
     "iopub.execute_input": "2021-03-05T12:34:37.845284Z",
     "iopub.status.busy": "2021-03-05T12:34:37.841413Z",
     "iopub.status.idle": "2021-03-05T12:34:38.053474Z",
     "shell.execute_reply": "2021-03-05T12:34:38.052931Z"
    }
   },
   "outputs": [],
   "source": [
    "%matplotlib inline\n",
    "import time\n",
    "import matplotlib.pyplot as plt\n",
    "import numpy as np\n",
    "\n",
    "import qcodes as qc\n",
    "from qcodes.instrument.parameter import ManualParameter\n",
    "from qcodes.dataset.experiment_container import (Experiment,\n",
    "                                                 load_last_experiment,\n",
    "                                                 new_experiment)\n",
    "from qcodes.dataset.sqlite.database import initialise_database\n",
    "from qcodes import load_or_create_experiment\n",
    "from qcodes.dataset.measurements import Measurement"
   ]
  },
  {
   "cell_type": "code",
   "execution_count": 3,
   "metadata": {
    "execution": {
     "iopub.execute_input": "2021-03-05T12:34:38.058029Z",
     "iopub.status.busy": "2021-03-05T12:34:38.057373Z",
     "iopub.status.idle": "2021-03-05T12:34:38.210499Z",
     "shell.execute_reply": "2021-03-05T12:34:38.209954Z"
    }
   },
   "outputs": [
    {
     "name": "stdout",
     "output_type": "stream",
     "text": [
      "\r",
      "0it [00:00, ?it/s]"
     ]
    },
    {
     "name": "stdout",
     "output_type": "stream",
     "text": [
      "\r",
      "Upgrading database; v0 -> v1: : 0it [00:00, ?it/s]"
     ]
    },
    {
     "name": "stdout",
     "output_type": "stream",
     "text": [
      "\r",
      "Upgrading database; v0 -> v1: : 0it [00:00, ?it/s]"
     ]
    },
    {
     "name": "stdout",
     "output_type": "stream",
     "text": [
      "\n",
      "\r",
      "  0%|          | 0/1 [00:00<?, ?it/s]"
     ]
    },
    {
     "name": "stdout",
     "output_type": "stream",
     "text": [
      "\r",
      "Upgrading database; v1 -> v2:   0%|          | 0/1 [00:00<?, ?it/s]"
     ]
    },
    {
     "name": "stdout",
     "output_type": "stream",
     "text": [
      "\r",
      "Upgrading database; v1 -> v2: 100%|██████████| 1/1 [00:00<00:00, 389.37it/s]"
     ]
    },
    {
     "name": "stdout",
     "output_type": "stream",
     "text": [
      "\n",
      "\r",
      "0it [00:00, ?it/s]"
     ]
    },
    {
     "name": "stdout",
     "output_type": "stream",
     "text": [
      "\r",
      "Upgrading database; v2 -> v3: : 0it [00:00, ?it/s]"
     ]
    },
    {
     "name": "stdout",
     "output_type": "stream",
     "text": [
      "\r",
      "Upgrading database; v2 -> v3: : 0it [00:00, ?it/s]"
     ]
    },
    {
     "name": "stdout",
     "output_type": "stream",
     "text": [
      "\n",
      "\r",
      "0it [00:00, ?it/s]"
     ]
    },
    {
     "name": "stdout",
     "output_type": "stream",
     "text": [
      "\r",
      "Upgrading database; v3 -> v4: : 0it [00:00, ?it/s]"
     ]
    },
    {
     "name": "stdout",
     "output_type": "stream",
     "text": [
      "\r",
      "Upgrading database; v3 -> v4: : 0it [00:00, ?it/s]"
     ]
    },
    {
     "name": "stdout",
     "output_type": "stream",
     "text": [
      "\n",
      "\r",
      "  0%|          | 0/1 [00:00<?, ?it/s]"
     ]
    },
    {
     "name": "stdout",
     "output_type": "stream",
     "text": [
      "\r",
      "Upgrading database; v4 -> v5:   0%|          | 0/1 [00:00<?, ?it/s]"
     ]
    },
    {
     "name": "stdout",
     "output_type": "stream",
     "text": [
      "\r",
      "Upgrading database; v4 -> v5: 100%|██████████| 1/1 [00:00<00:00, 329.79it/s]"
     ]
    },
    {
     "name": "stdout",
     "output_type": "stream",
     "text": [
      "\n",
      "\r",
      "0it [00:00, ?it/s]"
     ]
    },
    {
     "name": "stdout",
     "output_type": "stream",
     "text": [
      "\r",
      "Upgrading database; v5 -> v6: : 0it [00:00, ?it/s]"
     ]
    },
    {
     "name": "stdout",
     "output_type": "stream",
     "text": [
      "\r",
      "Upgrading database; v5 -> v6: : 0it [00:00, ?it/s]"
     ]
    },
    {
     "name": "stdout",
     "output_type": "stream",
     "text": [
      "\n",
      "\r",
      "  0%|          | 0/1 [00:00<?, ?it/s]"
     ]
    },
    {
     "name": "stdout",
     "output_type": "stream",
     "text": [
      "\r",
      "Upgrading database; v6 -> v7:   0%|          | 0/1 [00:00<?, ?it/s]"
     ]
    },
    {
     "name": "stdout",
     "output_type": "stream",
     "text": [
      "\r",
      "Upgrading database; v6 -> v7: 100%|██████████| 1/1 [00:00<00:00, 221.10it/s]"
     ]
    },
    {
     "name": "stdout",
     "output_type": "stream",
     "text": [
      "\n",
      "\r",
      "  0%|          | 0/1 [00:00<?, ?it/s]"
     ]
    },
    {
     "name": "stdout",
     "output_type": "stream",
     "text": [
      "\r",
      "Upgrading database; v7 -> v8:   0%|          | 0/1 [00:00<?, ?it/s]"
     ]
    },
    {
     "name": "stdout",
     "output_type": "stream",
     "text": [
      "\r",
      "Upgrading database; v7 -> v8: 100%|██████████| 1/1 [00:00<00:00, 202.67it/s]"
     ]
    },
    {
     "name": "stdout",
     "output_type": "stream",
     "text": [
      "\n",
      "\r",
      "  0%|          | 0/1 [00:00<?, ?it/s]"
     ]
    },
    {
     "name": "stdout",
     "output_type": "stream",
     "text": [
      "\r",
      "Upgrading database; v8 -> v9:   0%|          | 0/1 [00:00<?, ?it/s]"
     ]
    },
    {
     "name": "stdout",
     "output_type": "stream",
     "text": [
      "\r",
      "Upgrading database; v8 -> v9: 100%|██████████| 1/1 [00:00<00:00, 556.72it/s]"
     ]
    },
    {
     "name": "stdout",
     "output_type": "stream",
     "text": [
      "\n"
     ]
    }
   ],
   "source": [
    "initialise_database()\n",
    "exp = load_or_create_experiment(experiment_name='tutorial_exp', sample_name=\"no sample\")"
   ]
  },
  {
   "cell_type": "markdown",
   "metadata": {},
   "source": [
    "Here, we define a simple function to benchmark the time it takes to insert n points with either numeric or array data type.\n",
    "We will compare both the time used to call ``add_result`` and the time used for the full measurement."
   ]
  },
  {
   "cell_type": "code",
   "execution_count": 4,
   "metadata": {
    "execution": {
     "iopub.execute_input": "2021-03-05T12:34:38.220004Z",
     "iopub.status.busy": "2021-03-05T12:34:38.219341Z",
     "iopub.status.idle": "2021-03-05T12:34:38.221732Z",
     "shell.execute_reply": "2021-03-05T12:34:38.222525Z"
    }
   },
   "outputs": [],
   "source": [
    "def insert_data(paramtype, npoints, nreps=1):\n",
    "\n",
    "    meas = Measurement(exp=exp)\n",
    "\n",
    "    x1 = ManualParameter('x1')\n",
    "    x2 = ManualParameter('x2')\n",
    "    x3 = ManualParameter('x3')\n",
    "    y1 = ManualParameter('y1')\n",
    "    y2 = ManualParameter('y2')\n",
    "\n",
    "    meas.register_parameter(x1, paramtype=paramtype)\n",
    "    meas.register_parameter(x2, paramtype=paramtype)\n",
    "    meas.register_parameter(x3, paramtype=paramtype)\n",
    "    meas.register_parameter(y1, setpoints=[x1, x2, x3],\n",
    "                            paramtype=paramtype)\n",
    "    meas.register_parameter(y2, setpoints=[x1, x2, x3],\n",
    "                            paramtype=paramtype)\n",
    "    start = time.perf_counter()\n",
    "    with meas.run() as datasaver:\n",
    "        start_adding = time.perf_counter()\n",
    "        for i in range(nreps):\n",
    "            datasaver.add_result((x1, np.random.rand(npoints)),\n",
    "                                 (x2, np.random.rand(npoints)),\n",
    "                                 (x3, np.random.rand(npoints)),\n",
    "                                 (y1, np.random.rand(npoints)),\n",
    "                                 (y2, np.random.rand(npoints)))\n",
    "        stop_adding = time.perf_counter()\n",
    "        run_id = datasaver.run_id\n",
    "    stop = time.perf_counter()\n",
    "    tot_time = stop - start\n",
    "    add_time = stop_adding - start_adding\n",
    "    return tot_time, add_time, run_id"
   ]
  },
  {
   "cell_type": "markdown",
   "metadata": {},
   "source": [
    "## Comparison between numeric/array data and binary blob"
   ]
  },
  {
   "cell_type": "markdown",
   "metadata": {},
   "source": [
    "### Case1: Short experiment time"
   ]
  },
  {
   "cell_type": "code",
   "execution_count": 5,
   "metadata": {
    "execution": {
     "iopub.execute_input": "2021-03-05T12:34:38.229035Z",
     "iopub.status.busy": "2021-03-05T12:34:38.228413Z",
     "iopub.status.idle": "2021-03-05T12:34:39.082322Z",
     "shell.execute_reply": "2021-03-05T12:34:39.082862Z"
    }
   },
   "outputs": [
    {
     "name": "stdout",
     "output_type": "stream",
     "text": [
      "Starting experimental run with id: 1. \n",
      "Starting experimental run with id: 2. \n",
      "Starting experimental run with id: 3. \n",
      "Starting experimental run with id: 4. \n"
     ]
    },
    {
     "name": "stdout",
     "output_type": "stream",
     "text": [
      "Starting experimental run with id: 5. \n"
     ]
    },
    {
     "name": "stdout",
     "output_type": "stream",
     "text": [
      "Starting experimental run with id: 6. \n"
     ]
    },
    {
     "name": "stdout",
     "output_type": "stream",
     "text": [
      "Starting experimental run with id: 7. \n"
     ]
    },
    {
     "name": "stdout",
     "output_type": "stream",
     "text": [
      "Starting experimental run with id: 8. \n",
      "Starting experimental run with id: 9. \n"
     ]
    },
    {
     "name": "stdout",
     "output_type": "stream",
     "text": [
      "Starting experimental run with id: 10. \n",
      "Starting experimental run with id: 11. \n"
     ]
    },
    {
     "name": "stdout",
     "output_type": "stream",
     "text": [
      "Starting experimental run with id: 12. \n",
      "Starting experimental run with id: 13. \n"
     ]
    },
    {
     "name": "stdout",
     "output_type": "stream",
     "text": [
      "Starting experimental run with id: 14. \n"
     ]
    }
   ],
   "source": [
    "sizes = [1,500,1000,2000,3000,4000,5000]\n",
    "t_numeric = []\n",
    "t_numeric_add = []\n",
    "t_array = []\n",
    "t_array_add = []\n",
    "for size in sizes:\n",
    "    tn, tna, run_id_n =  insert_data('numeric', size)\n",
    "    t_numeric.append(tn)\n",
    "    t_numeric_add.append(tna)\n",
    "\n",
    "    ta, taa, run_id_a =  insert_data('array', size)\n",
    "    t_array.append(ta)\n",
    "    t_array_add.append(taa)"
   ]
  },
  {
   "cell_type": "code",
   "execution_count": 6,
   "metadata": {
    "execution": {
     "iopub.execute_input": "2021-03-05T12:34:39.102991Z",
     "iopub.status.busy": "2021-03-05T12:34:39.102363Z",
     "iopub.status.idle": "2021-03-05T12:34:39.336196Z",
     "shell.execute_reply": "2021-03-05T12:34:39.335599Z"
    }
   },
   "outputs": [
    {
     "data": {
      "image/png": "[encoded data removed]",
      "text/plain": [
       "<Figure size 432x288 with 1 Axes>"
      ]
     },
     "metadata": {
      "needs_background": "light"
     },
     "output_type": "display_data"
    }
   ],
   "source": [
    "fig, ax = plt.subplots(1,1)\n",
    "ax.plot(sizes, t_numeric, 'o-', label='Inserting row-by-row')\n",
    "ax.plot(sizes, t_numeric_add, 'o-', label='Inserting row-by-row: add_result only')\n",
    "ax.plot(sizes, t_array, 'd-', label='Inserting as binary blob')\n",
    "ax.plot(sizes, t_array_add, 'd-', label='Inserting as binary blob: add_result only')\n",
    "ax.legend()\n",
    "ax.set_xlabel('Array length')\n",
    "ax.set_ylabel('Time (s)')\n",
    "fig.tight_layout()"
   ]
  },
  {
   "cell_type": "markdown",
   "metadata": {},
   "source": [
    "As shown in the latter figure, the time to setup and and close the experiment is approximately 0.4 sec. In case of small array sizes, the difference between inserting values of data as arrays and inserting them row-by-row is relatively unimportant. At larger array sizes, i.e. above 10000 points, the cost of writing data as individual datapoints starts to become important.\n"
   ]
  },
  {
   "cell_type": "markdown",
   "metadata": {},
   "source": [
    "### Case2: Long experiment time "
   ]
  },
  {
   "cell_type": "code",
   "execution_count": 7,
   "metadata": {
    "execution": {
     "iopub.execute_input": "2021-03-05T12:34:39.344749Z",
     "iopub.status.busy": "2021-03-05T12:34:39.343557Z",
     "iopub.status.idle": "2021-03-05T12:35:41.412015Z",
     "shell.execute_reply": "2021-03-05T12:35:41.411195Z"
    }
   },
   "outputs": [
    {
     "name": "stdout",
     "output_type": "stream",
     "text": [
      "Starting experimental run with id: 15. \n",
      "Starting experimental run with id: 16. \n"
     ]
    },
    {
     "name": "stdout",
     "output_type": "stream",
     "text": [
      "Starting experimental run with id: 17. \n"
     ]
    },
    {
     "name": "stdout",
     "output_type": "stream",
     "text": [
      "Starting experimental run with id: 18. \n"
     ]
    },
    {
     "name": "stdout",
     "output_type": "stream",
     "text": [
      "Starting experimental run with id: 19. \n"
     ]
    },
    {
     "name": "stdout",
     "output_type": "stream",
     "text": [
      "Starting experimental run with id: 20. \n"
     ]
    },
    {
     "name": "stdout",
     "output_type": "stream",
     "text": [
      "Starting experimental run with id: 21. \n"
     ]
    },
    {
     "name": "stdout",
     "output_type": "stream",
     "text": [
      "Starting experimental run with id: 22. \n"
     ]
    },
    {
     "name": "stdout",
     "output_type": "stream",
     "text": [
      "Starting experimental run with id: 23. \n"
     ]
    },
    {
     "name": "stdout",
     "output_type": "stream",
     "text": [
      "Starting experimental run with id: 24. \n"
     ]
    },
    {
     "name": "stdout",
     "output_type": "stream",
     "text": [
      "Starting experimental run with id: 25. \n"
     ]
    },
    {
     "name": "stdout",
     "output_type": "stream",
     "text": [
      "Starting experimental run with id: 26. \n"
     ]
    },
    {
     "name": "stdout",
     "output_type": "stream",
     "text": [
      "Starting experimental run with id: 27. \n"
     ]
    },
    {
     "name": "stdout",
     "output_type": "stream",
     "text": [
      "Starting experimental run with id: 28. \n"
     ]
    }
   ],
   "source": [
    "sizes = [1,500,1000,2000,3000,4000,5000]\n",
    "nreps = 100\n",
    "t_numeric = []\n",
    "t_numeric_add = []\n",
    "t_numeric_run_ids = []\n",
    "t_array = []\n",
    "t_array_add = []\n",
    "t_array_run_ids = []\n",
    "for size in sizes:\n",
    "    tn, tna, run_id_n =  insert_data('numeric', size, nreps=nreps)\n",
    "    t_numeric.append(tn)\n",
    "    t_numeric_add.append(tna)\n",
    "    t_numeric_run_ids.append(run_id_n)\n",
    "\n",
    "    ta, taa, run_id_a =  insert_data('array', size, nreps=nreps)\n",
    "    t_array.append(ta)\n",
    "    t_array_add.append(taa)\n",
    "    t_array_run_ids.append(run_id_a)"
   ]
  },
  {
   "cell_type": "code",
   "execution_count": 8,
   "metadata": {
    "execution": {
     "iopub.execute_input": "2021-03-05T12:35:41.439219Z",
     "iopub.status.busy": "2021-03-05T12:35:41.433784Z",
     "iopub.status.idle": "2021-03-05T12:35:41.650976Z",
     "shell.execute_reply": "2021-03-05T12:35:41.650452Z"
    },
    "scrolled": true
   },
   "outputs": [
    {
     "data": {
      "image/png": "[encoded data removed]",
      "text/plain": [
       "<Figure size 432x288 with 1 Axes>"
      ]
     },
     "metadata": {
      "needs_background": "light"
     },
     "output_type": "display_data"
    }
   ],
   "source": [
    "fig, ax = plt.subplots(1,1)\n",
    "ax.plot(sizes, t_numeric, 'o-', label='Inserting row-by-row')\n",
    "ax.plot(sizes, t_numeric_add, 'o-', label='Inserting row-by-row: add_result only')\n",
    "ax.plot(sizes, t_array, 'd-', label='Inserting as binary blob')\n",
    "ax.plot(sizes, t_array_add, 'd-', label='Inserting as binary blob: add_result only')\n",
    "ax.legend()\n",
    "ax.set_xlabel('Array length')\n",
    "ax.set_ylabel('Time (s)')\n",
    "fig.tight_layout()"
   ]
  },
  {
   "cell_type": "markdown",
   "metadata": {},
   "source": [
    "However, as we increase the length of the experiment, as seen here by repeating the insertion 100 times, we see a big difference between inserting values of the data row-by-row and inserting it as a binary blob."
   ]
  },
  {
   "cell_type": "markdown",
   "metadata": {},
   "source": [
    "## Loading the data "
   ]
  },
  {
   "cell_type": "code",
   "execution_count": 9,
   "metadata": {
    "execution": {
     "iopub.execute_input": "2021-03-05T12:35:41.655855Z",
     "iopub.status.busy": "2021-03-05T12:35:41.654766Z",
     "iopub.status.idle": "2021-03-05T12:35:41.658081Z",
     "shell.execute_reply": "2021-03-05T12:35:41.657594Z"
    }
   },
   "outputs": [],
   "source": [
    "from qcodes.dataset.data_set import load_by_id\n",
    "from qcodes.dataset.data_export import get_data_by_id"
   ]
  },
  {
   "cell_type": "markdown",
   "metadata": {},
   "source": [
    "As usual you can load the data by using the ``load_by_id`` function but you will notice that the different storage methods\n",
    "are reflected in shape of the data as it is retrieved. "
   ]
  },
  {
   "cell_type": "code",
   "execution_count": 10,
   "metadata": {
    "execution": {
     "iopub.execute_input": "2021-03-05T12:35:41.663023Z",
     "iopub.status.busy": "2021-03-05T12:35:41.661629Z",
     "iopub.status.idle": "2021-03-05T12:35:41.663718Z",
     "shell.execute_reply": "2021-03-05T12:35:41.664414Z"
    }
   },
   "outputs": [],
   "source": [
    "run_id_n = t_numeric_run_ids[0]\n",
    "run_id_a = t_array_run_ids[0]"
   ]
  },
  {
   "cell_type": "code",
   "execution_count": 11,
   "metadata": {
    "execution": {
     "iopub.execute_input": "2021-03-05T12:35:41.668272Z",
     "iopub.status.busy": "2021-03-05T12:35:41.667635Z",
     "iopub.status.idle": "2021-03-05T12:35:41.678452Z",
     "shell.execute_reply": "2021-03-05T12:35:41.678940Z"
    },
    "scrolled": true
   },
   "outputs": [
    {
     "data": {
      "text/plain": [
       "{'x1': {'x1': array([0.92817679, 0.92817679, 0.24057951, 0.24057951, 0.45830147,\n",
       "         0.45830147, 0.24385255, 0.24385255, 0.17633665, 0.17633665,\n",
       "         0.77355863, 0.77355863, 0.38151611, 0.38151611, 0.65604183,\n",
       "         0.65604183, 0.07835777, 0.07835777, 0.07985587, 0.07985587,\n",
       "         0.44899816, 0.44899816, 0.99829894, 0.99829894, 0.11991896,\n",
       "         0.11991896, 0.49467617, 0.49467617, 0.54552498, 0.54552498,\n",
       "         0.26868802, 0.26868802, 0.7247174 , 0.7247174 , 0.49427615,\n",
       "         0.49427615, 0.20139777, 0.20139777, 0.8343572 , 0.8343572 ,\n",
       "         0.19743922, 0.19743922, 0.83942277, 0.83942277, 0.13231316,\n",
       "         0.13231316, 0.00909149, 0.00909149, 0.82785988, 0.82785988,\n",
       "         0.06586956, 0.06586956, 0.59497336, 0.59497336, 0.91274264,\n",
       "         0.91274264, 0.2164511 , 0.2164511 , 0.89995314, 0.89995314,\n",
       "         0.95670052, 0.95670052, 0.35199868, 0.35199868, 0.62180121,\n",
       "         0.62180121, 0.87539894, 0.87539894, 0.42707263, 0.42707263,\n",
       "         0.07735633, 0.07735633, 0.09282098, 0.09282098, 0.82357176,\n",
       "         0.82357176, 0.25726259, 0.25726259, 0.67793144, 0.67793144,\n",
       "         0.29204811, 0.29204811, 0.95306125, 0.95306125, 0.69212535,\n",
       "         0.69212535, 0.9138207 , 0.9138207 , 0.56302124, 0.56302124,\n",
       "         0.25904564, 0.25904564, 0.42259831, 0.42259831, 0.79178309,\n",
       "         0.79178309, 0.09392754, 0.09392754, 0.41942553, 0.41942553,\n",
       "         0.67000294, 0.67000294, 0.9954554 , 0.9954554 , 0.0440633 ,\n",
       "         0.0440633 , 0.16919162, 0.16919162, 0.53604391, 0.53604391,\n",
       "         0.74844958, 0.74844958, 0.60134561, 0.60134561, 0.56822261,\n",
       "         0.56822261, 0.12774003, 0.12774003, 0.83003695, 0.83003695,\n",
       "         0.14864102, 0.14864102, 0.78003996, 0.78003996, 0.95115054,\n",
       "         0.95115054, 0.03213929, 0.03213929, 0.50558765, 0.50558765,\n",
       "         0.61098443, 0.61098443, 0.34086807, 0.34086807, 0.32472887,\n",
       "         0.32472887, 0.97811782, 0.97811782, 0.35669963, 0.35669963,\n",
       "         0.1673659 , 0.1673659 , 0.32101542, 0.32101542, 0.5362838 ,\n",
       "         0.5362838 , 0.76965515, 0.76965515, 0.71039795, 0.71039795,\n",
       "         0.45010391, 0.45010391, 0.05373629, 0.05373629, 0.66847358,\n",
       "         0.66847358, 0.3349664 , 0.3349664 , 0.4080081 , 0.4080081 ,\n",
       "         0.09169989, 0.09169989, 0.55682382, 0.55682382, 0.59734058,\n",
       "         0.59734058, 0.82555403, 0.82555403, 0.17014359, 0.17014359,\n",
       "         0.20152857, 0.20152857, 0.70240503, 0.70240503, 0.50481947,\n",
       "         0.50481947, 0.18029513, 0.18029513, 0.56082769, 0.56082769,\n",
       "         0.47853329, 0.47853329, 0.54136086, 0.54136086, 0.19376475,\n",
       "         0.19376475, 0.19414657, 0.19414657, 0.66828408, 0.66828408,\n",
       "         0.70739014, 0.70739014, 0.17945297, 0.17945297, 0.38973843,\n",
       "         0.38973843, 0.65871287, 0.65871287, 0.49589231, 0.49589231])}}"
      ]
     },
     "execution_count": 1,
     "metadata": {},
     "output_type": "execute_result"
    }
   ],
   "source": [
    "ds = load_by_id(run_id_n)\n",
    "ds.get_parameter_data('x1')"
   ]
  },
  {
   "cell_type": "markdown",
   "metadata": {},
   "source": [
    "And a dataset stored as binary arrays"
   ]
  },
  {
   "cell_type": "code",
   "execution_count": 12,
   "metadata": {
    "execution": {
     "iopub.execute_input": "2021-03-05T12:35:41.682788Z",
     "iopub.status.busy": "2021-03-05T12:35:41.682188Z",
     "iopub.status.idle": "2021-03-05T12:35:41.749782Z",
     "shell.execute_reply": "2021-03-05T12:35:41.750288Z"
    },
    "scrolled": true
   },
   "outputs": [
    {
     "data": {
      "text/plain": [
       "{'x1': {'x1': array([[0.8517117 ],\n",
       "         [0.8517117 ],\n",
       "         [0.07441893],\n",
       "         [0.07441893],\n",
       "         [0.54420161],\n",
       "         [0.54420161],\n",
       "         [0.64196512],\n",
       "         [0.64196512],\n",
       "         [0.90900504],\n",
       "         [0.90900504],\n",
       "         [0.51562116],\n",
       "         [0.51562116],\n",
       "         [0.8760016 ],\n",
       "         [0.8760016 ],\n",
       "         [0.34309104],\n",
       "         [0.34309104],\n",
       "         [0.72965328],\n",
       "         [0.72965328],\n",
       "         [0.9472871 ],\n",
       "         [0.9472871 ],\n",
       "         [0.27242036],\n",
       "         [0.27242036],\n",
       "         [0.73260949],\n",
       "         [0.73260949],\n",
       "         [0.1828166 ],\n",
       "         [0.1828166 ],\n",
       "         [0.16382232],\n",
       "         [0.16382232],\n",
       "         [0.23604732],\n",
       "         [0.23604732],\n",
       "         [0.68173934],\n",
       "         [0.68173934],\n",
       "         [0.520667  ],\n",
       "         [0.520667  ],\n",
       "         [0.43355467],\n",
       "         [0.43355467],\n",
       "         [0.20830088],\n",
       "         [0.20830088],\n",
       "         [0.06420874],\n",
       "         [0.06420874],\n",
       "         [0.08954785],\n",
       "         [0.08954785],\n",
       "         [0.81304076],\n",
       "         [0.81304076],\n",
       "         [0.41798777],\n",
       "         [0.41798777],\n",
       "         [0.00955449],\n",
       "         [0.00955449],\n",
       "         [0.01623911],\n",
       "         [0.01623911],\n",
       "         [0.072081  ],\n",
       "         [0.072081  ],\n",
       "         [0.02254942],\n",
       "         [0.02254942],\n",
       "         [0.8487337 ],\n",
       "         [0.8487337 ],\n",
       "         [0.69775519],\n",
       "         [0.69775519],\n",
       "         [0.00172773],\n",
       "         [0.00172773],\n",
       "         [0.05572524],\n",
       "         [0.05572524],\n",
       "         [0.30974234],\n",
       "         [0.30974234],\n",
       "         [0.94862004],\n",
       "         [0.94862004],\n",
       "         [0.49247934],\n",
       "         [0.49247934],\n",
       "         [0.68222053],\n",
       "         [0.68222053],\n",
       "         [0.46885976],\n",
       "         [0.46885976],\n",
       "         [0.26766373],\n",
       "         [0.26766373],\n",
       "         [0.49847022],\n",
       "         [0.49847022],\n",
       "         [0.50214397],\n",
       "         [0.50214397],\n",
       "         [0.1259697 ],\n",
       "         [0.1259697 ],\n",
       "         [0.65741917],\n",
       "         [0.65741917],\n",
       "         [0.49808117],\n",
       "         [0.49808117],\n",
       "         [0.05331897],\n",
       "         [0.05331897],\n",
       "         [0.21162674],\n",
       "         [0.21162674],\n",
       "         [0.71396316],\n",
       "         [0.71396316],\n",
       "         [0.94285799],\n",
       "         [0.94285799],\n",
       "         [0.36189273],\n",
       "         [0.36189273],\n",
       "         [0.037969  ],\n",
       "         [0.037969  ],\n",
       "         [0.89707301],\n",
       "         [0.89707301],\n",
       "         [0.62123726],\n",
       "         [0.62123726],\n",
       "         [0.618445  ],\n",
       "         [0.618445  ],\n",
       "         [0.14089714],\n",
       "         [0.14089714],\n",
       "         [0.83977661],\n",
       "         [0.83977661],\n",
       "         [0.85907006],\n",
       "         [0.85907006],\n",
       "         [0.32217145],\n",
       "         [0.32217145],\n",
       "         [0.55785429],\n",
       "         [0.55785429],\n",
       "         [0.76296531],\n",
       "         [0.76296531],\n",
       "         [0.95281738],\n",
       "         [0.95281738],\n",
       "         [0.60252269],\n",
       "         [0.60252269],\n",
       "         [0.29162382],\n",
       "         [0.29162382],\n",
       "         [0.82669026],\n",
       "         [0.82669026],\n",
       "         [0.12113881],\n",
       "         [0.12113881],\n",
       "         [0.70891373],\n",
       "         [0.70891373],\n",
       "         [0.23389888],\n",
       "         [0.23389888],\n",
       "         [0.13992079],\n",
       "         [0.13992079],\n",
       "         [0.55055998],\n",
       "         [0.55055998],\n",
       "         [0.01297216],\n",
       "         [0.01297216],\n",
       "         [0.92636078],\n",
       "         [0.92636078],\n",
       "         [0.62948573],\n",
       "         [0.62948573],\n",
       "         [0.26888564],\n",
       "         [0.26888564],\n",
       "         [0.81980888],\n",
       "         [0.81980888],\n",
       "         [0.94655486],\n",
       "         [0.94655486],\n",
       "         [0.76260215],\n",
       "         [0.76260215],\n",
       "         [0.10039109],\n",
       "         [0.10039109],\n",
       "         [0.41362181],\n",
       "         [0.41362181],\n",
       "         [0.32669172],\n",
       "         [0.32669172],\n",
       "         [0.86273828],\n",
       "         [0.86273828],\n",
       "         [0.61034642],\n",
       "         [0.61034642],\n",
       "         [0.5289837 ],\n",
       "         [0.5289837 ],\n",
       "         [0.49078829],\n",
       "         [0.49078829],\n",
       "         [0.4704058 ],\n",
       "         [0.4704058 ],\n",
       "         [0.08801963],\n",
       "         [0.08801963],\n",
       "         [0.20590358],\n",
       "         [0.20590358],\n",
       "         [0.30543023],\n",
       "         [0.30543023],\n",
       "         [0.43568628],\n",
       "         [0.43568628],\n",
       "         [0.21507074],\n",
       "         [0.21507074],\n",
       "         [0.07815004],\n",
       "         [0.07815004],\n",
       "         [0.33164193],\n",
       "         [0.33164193],\n",
       "         [0.59260891],\n",
       "         [0.59260891],\n",
       "         [0.75135939],\n",
       "         [0.75135939],\n",
       "         [0.92095958],\n",
       "         [0.92095958],\n",
       "         [0.77142838],\n",
       "         [0.77142838],\n",
       "         [0.56698379],\n",
       "         [0.56698379],\n",
       "         [0.05893629],\n",
       "         [0.05893629],\n",
       "         [0.59115979],\n",
       "         [0.59115979],\n",
       "         [0.70833328],\n",
       "         [0.70833328],\n",
       "         [0.05387865],\n",
       "         [0.05387865],\n",
       "         [0.29865285],\n",
       "         [0.29865285],\n",
       "         [0.24280947],\n",
       "         [0.24280947],\n",
       "         [0.50316276],\n",
       "         [0.50316276]])}}"
      ]
     },
     "execution_count": 1,
     "metadata": {},
     "output_type": "execute_result"
    }
   ],
   "source": [
    "ds = load_by_id(run_id_a)\n",
    "ds.get_parameter_data('x1')"
   ]
  },
  {
   "cell_type": "code",
   "execution_count": null,
   "metadata": {},
   "outputs": [],
   "source": []
  }
 ],
 "metadata": {
  "kernelspec": {
   "display_name": "Python 3",
   "language": "python",
   "name": "python3"
  },
  "language_info": {
   "codemirror_mode": {
    "name": "ipython",
    "version": 3
   },
   "file_extension": ".py",
   "mimetype": "text/x-python",
   "name": "python",
   "nbconvert_exporter": "python",
   "pygments_lexer": "ipython3",
   "version": "3.7.10"
  },
  "nbsphinx": {
   "timeout": 600
  },
  "toc": {
   "base_numbering": 1,
   "nav_menu": {},
   "number_sections": true,
   "sideBar": true,
   "skip_h1_title": false,
   "title_cell": "Table of Contents",
   "title_sidebar": "Contents",
   "toc_cell": false,
   "toc_position": {},
   "toc_section_display": true,
   "toc_window_display": false
  },
  "varInspector": {
   "cols": {
    "lenName": 16,
    "lenType": 16,
    "lenVar": 40
   },
   "kernels_config": {
    "python": {
     "delete_cmd_postfix": "",
     "delete_cmd_prefix": "del ",
     "library": "var_list.py",
     "varRefreshCmd": "print(var_dic_list())"
    },
    "r": {
     "delete_cmd_postfix": ") ",
     "delete_cmd_prefix": "rm(",
     "library": "var_list.r",
     "varRefreshCmd": "cat(var_dic_list()) "
    }
   },
   "types_to_exclude": [
    "module",
    "function",
    "builtin_function_or_method",
    "instance",
    "_Feature"
   ],
   "window_display": false
  }
 },
 "nbformat": 4,
 "nbformat_minor": 2
}
