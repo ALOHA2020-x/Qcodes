{
 "cells": [
  {
   "cell_type": "markdown",
   "metadata": {},
   "source": [
    "# DataSet Performance\n",
    "\n",
    "This notebook shows the trade-off between inserting data into a database row-by-row and as binary blobs. Inserting the data row-by-row means that we have direct access to all the data and may perform queries directly on the values of the data. On the other hand, as we shall see, this is much slower than inserting the data directly as binary blobs."
   ]
  },
  {
   "cell_type": "markdown",
   "metadata": {},
   "source": [
    "First, we choose a new location for the database to ensure that we don't add a bunch of benchmarking data to the default one."
   ]
  },
  {
   "cell_type": "code",
   "execution_count": 1,
   "metadata": {
    "execution": {
     "iopub.execute_input": "2021-04-06T06:39:36.837055Z",
     "iopub.status.busy": "2021-04-06T06:39:36.836436Z",
     "iopub.status.idle": "2021-04-06T06:39:37.719385Z",
     "shell.execute_reply": "2021-04-06T06:39:37.718301Z"
    }
   },
   "outputs": [
    {
     "name": "stdout",
     "output_type": "stream",
     "text": [
      "Logging hadn't been started.\n",
      "Activating auto-logging. Current session state plus future input saved.\n",
      "Filename       : /home/runner/.qcodes/logs/command_history.log\n",
      "Mode           : append\n",
      "Output logging : True\n",
      "Raw input log  : False\n",
      "Timestamping   : True\n",
      "State          : active\n"
     ]
    },
    {
     "name": "stdout",
     "output_type": "stream",
     "text": [
      "Qcodes Logfile : /home/runner/.qcodes/logs/210406-4856-qcodes.log\n"
     ]
    }
   ],
   "source": [
    "import os\n",
    "cwd = os.getcwd()\n",
    "import qcodes as qc\n",
    "qc.config[\"core\"][\"db_location\"] = os.path.join(cwd, 'testing.db')\n"
   ]
  },
  {
   "cell_type": "code",
   "execution_count": 2,
   "metadata": {
    "execution": {
     "iopub.execute_input": "2021-04-06T06:39:37.726311Z",
     "iopub.status.busy": "2021-04-06T06:39:37.724715Z",
     "iopub.status.idle": "2021-04-06T06:39:37.933005Z",
     "shell.execute_reply": "2021-04-06T06:39:37.931983Z"
    }
   },
   "outputs": [],
   "source": [
    "%matplotlib inline\n",
    "import time\n",
    "import matplotlib.pyplot as plt\n",
    "import numpy as np\n",
    "\n",
    "import qcodes as qc\n",
    "from qcodes.instrument.parameter import ManualParameter\n",
    "from qcodes.dataset.experiment_container import (Experiment,\n",
    "                                                 load_last_experiment,\n",
    "                                                 new_experiment)\n",
    "from qcodes.dataset.sqlite.database import initialise_database\n",
    "from qcodes import load_or_create_experiment\n",
    "from qcodes.dataset.measurements import Measurement"
   ]
  },
  {
   "cell_type": "code",
   "execution_count": 3,
   "metadata": {
    "execution": {
     "iopub.execute_input": "2021-04-06T06:39:37.937459Z",
     "iopub.status.busy": "2021-04-06T06:39:37.936814Z",
     "iopub.status.idle": "2021-04-06T06:39:38.009186Z",
     "shell.execute_reply": "2021-04-06T06:39:38.008655Z"
    }
   },
   "outputs": [
    {
     "name": "stdout",
     "output_type": "stream",
     "text": [
      "\r",
      "0it [00:00, ?it/s]"
     ]
    },
    {
     "name": "stdout",
     "output_type": "stream",
     "text": [
      "\r",
      "Upgrading database; v0 -> v1: : 0it [00:00, ?it/s]"
     ]
    },
    {
     "name": "stdout",
     "output_type": "stream",
     "text": [
      "\r",
      "Upgrading database; v0 -> v1: : 0it [00:00, ?it/s]"
     ]
    },
    {
     "name": "stdout",
     "output_type": "stream",
     "text": [
      "\n",
      "\r",
      "  0%|          | 0/1 [00:00<?, ?it/s]"
     ]
    },
    {
     "name": "stdout",
     "output_type": "stream",
     "text": [
      "\r",
      "Upgrading database; v1 -> v2:   0%|          | 0/1 [00:00<?, ?it/s]"
     ]
    },
    {
     "name": "stdout",
     "output_type": "stream",
     "text": [
      "\r",
      "Upgrading database; v1 -> v2: 100%|██████████| 1/1 [00:00<00:00, 427.34it/s]"
     ]
    },
    {
     "name": "stdout",
     "output_type": "stream",
     "text": [
      "\n",
      "\r",
      "0it [00:00, ?it/s]"
     ]
    },
    {
     "name": "stdout",
     "output_type": "stream",
     "text": [
      "\r",
      "Upgrading database; v2 -> v3: : 0it [00:00, ?it/s]"
     ]
    },
    {
     "name": "stdout",
     "output_type": "stream",
     "text": [
      "\r",
      "Upgrading database; v2 -> v3: : 0it [00:00, ?it/s]"
     ]
    },
    {
     "name": "stdout",
     "output_type": "stream",
     "text": [
      "\n",
      "\r",
      "0it [00:00, ?it/s]"
     ]
    },
    {
     "name": "stdout",
     "output_type": "stream",
     "text": [
      "\r",
      "Upgrading database; v3 -> v4: : 0it [00:00, ?it/s]"
     ]
    },
    {
     "name": "stdout",
     "output_type": "stream",
     "text": [
      "\r",
      "Upgrading database; v3 -> v4: : 0it [00:00, ?it/s]"
     ]
    },
    {
     "name": "stdout",
     "output_type": "stream",
     "text": [
      "\n",
      "\r",
      "  0%|          | 0/1 [00:00<?, ?it/s]"
     ]
    },
    {
     "name": "stdout",
     "output_type": "stream",
     "text": [
      "\r",
      "Upgrading database; v4 -> v5:   0%|          | 0/1 [00:00<?, ?it/s]"
     ]
    },
    {
     "name": "stdout",
     "output_type": "stream",
     "text": [
      "\r",
      "Upgrading database; v4 -> v5: 100%|██████████| 1/1 [00:00<00:00, 393.28it/s]"
     ]
    },
    {
     "name": "stdout",
     "output_type": "stream",
     "text": [
      "\n",
      "\r",
      "0it [00:00, ?it/s]"
     ]
    },
    {
     "name": "stdout",
     "output_type": "stream",
     "text": [
      "\r",
      "Upgrading database; v5 -> v6: : 0it [00:00, ?it/s]"
     ]
    },
    {
     "name": "stdout",
     "output_type": "stream",
     "text": [
      "\r",
      "Upgrading database; v5 -> v6: : 0it [00:00, ?it/s]"
     ]
    },
    {
     "name": "stdout",
     "output_type": "stream",
     "text": [
      "\n",
      "\r",
      "  0%|          | 0/1 [00:00<?, ?it/s]"
     ]
    },
    {
     "name": "stdout",
     "output_type": "stream",
     "text": [
      "\r",
      "Upgrading database; v6 -> v7:   0%|          | 0/1 [00:00<?, ?it/s]"
     ]
    },
    {
     "name": "stdout",
     "output_type": "stream",
     "text": [
      "\r",
      "Upgrading database; v6 -> v7: 100%|██████████| 1/1 [00:00<00:00, 321.08it/s]"
     ]
    },
    {
     "name": "stdout",
     "output_type": "stream",
     "text": [
      "\n",
      "\r",
      "  0%|          | 0/1 [00:00<?, ?it/s]"
     ]
    },
    {
     "name": "stdout",
     "output_type": "stream",
     "text": [
      "\r",
      "Upgrading database; v7 -> v8:   0%|          | 0/1 [00:00<?, ?it/s]"
     ]
    },
    {
     "name": "stdout",
     "output_type": "stream",
     "text": [
      "\r",
      "Upgrading database; v7 -> v8: 100%|██████████| 1/1 [00:00<00:00, 433.03it/s]"
     ]
    },
    {
     "name": "stdout",
     "output_type": "stream",
     "text": [
      "\n",
      "\r",
      "  0%|          | 0/1 [00:00<?, ?it/s]"
     ]
    },
    {
     "name": "stdout",
     "output_type": "stream",
     "text": [
      "\r",
      "Upgrading database; v8 -> v9:   0%|          | 0/1 [00:00<?, ?it/s]"
     ]
    },
    {
     "name": "stdout",
     "output_type": "stream",
     "text": [
      "\r",
      "Upgrading database; v8 -> v9: 100%|██████████| 1/1 [00:00<00:00, 418.30it/s]"
     ]
    },
    {
     "name": "stdout",
     "output_type": "stream",
     "text": [
      "\n"
     ]
    }
   ],
   "source": [
    "initialise_database()\n",
    "exp = load_or_create_experiment(experiment_name='tutorial_exp', sample_name=\"no sample\")"
   ]
  },
  {
   "cell_type": "markdown",
   "metadata": {},
   "source": [
    "Here, we define a simple function to benchmark the time it takes to insert n points with either numeric or array data type.\n",
    "We will compare both the time used to call ``add_result`` and the time used for the full measurement."
   ]
  },
  {
   "cell_type": "code",
   "execution_count": 4,
   "metadata": {
    "execution": {
     "iopub.execute_input": "2021-04-06T06:39:38.017832Z",
     "iopub.status.busy": "2021-04-06T06:39:38.017339Z",
     "iopub.status.idle": "2021-04-06T06:39:38.020905Z",
     "shell.execute_reply": "2021-04-06T06:39:38.020241Z"
    }
   },
   "outputs": [],
   "source": [
    "def insert_data(paramtype, npoints, nreps=1):\n",
    "\n",
    "    meas = Measurement(exp=exp)\n",
    "\n",
    "    x1 = ManualParameter('x1')\n",
    "    x2 = ManualParameter('x2')\n",
    "    x3 = ManualParameter('x3')\n",
    "    y1 = ManualParameter('y1')\n",
    "    y2 = ManualParameter('y2')\n",
    "\n",
    "    meas.register_parameter(x1, paramtype=paramtype)\n",
    "    meas.register_parameter(x2, paramtype=paramtype)\n",
    "    meas.register_parameter(x3, paramtype=paramtype)\n",
    "    meas.register_parameter(y1, setpoints=[x1, x2, x3],\n",
    "                            paramtype=paramtype)\n",
    "    meas.register_parameter(y2, setpoints=[x1, x2, x3],\n",
    "                            paramtype=paramtype)\n",
    "    start = time.perf_counter()\n",
    "    with meas.run() as datasaver:\n",
    "        start_adding = time.perf_counter()\n",
    "        for i in range(nreps):\n",
    "            datasaver.add_result((x1, np.random.rand(npoints)),\n",
    "                                 (x2, np.random.rand(npoints)),\n",
    "                                 (x3, np.random.rand(npoints)),\n",
    "                                 (y1, np.random.rand(npoints)),\n",
    "                                 (y2, np.random.rand(npoints)))\n",
    "        stop_adding = time.perf_counter()\n",
    "        run_id = datasaver.run_id\n",
    "    stop = time.perf_counter()\n",
    "    tot_time = stop - start\n",
    "    add_time = stop_adding - start_adding\n",
    "    return tot_time, add_time, run_id"
   ]
  },
  {
   "cell_type": "markdown",
   "metadata": {},
   "source": [
    "## Comparison between numeric/array data and binary blob"
   ]
  },
  {
   "cell_type": "markdown",
   "metadata": {},
   "source": [
    "### Case1: Short experiment time"
   ]
  },
  {
   "cell_type": "code",
   "execution_count": 5,
   "metadata": {
    "execution": {
     "iopub.execute_input": "2021-04-06T06:39:38.027523Z",
     "iopub.status.busy": "2021-04-06T06:39:38.026910Z",
     "iopub.status.idle": "2021-04-06T06:39:38.750885Z",
     "shell.execute_reply": "2021-04-06T06:39:38.749478Z"
    }
   },
   "outputs": [
    {
     "name": "stdout",
     "output_type": "stream",
     "text": [
      "Starting experimental run with id: 1. \n",
      "Starting experimental run with id: 2. \n",
      "Starting experimental run with id: 3. \n",
      "Starting experimental run with id: 4. \n",
      "Starting experimental run with id: 5. \n"
     ]
    },
    {
     "name": "stdout",
     "output_type": "stream",
     "text": [
      "Starting experimental run with id: 6. \n"
     ]
    },
    {
     "name": "stdout",
     "output_type": "stream",
     "text": [
      "Starting experimental run with id: 7. \n"
     ]
    },
    {
     "name": "stdout",
     "output_type": "stream",
     "text": [
      "Starting experimental run with id: 8. \n",
      "Starting experimental run with id: 9. \n",
      "Starting experimental run with id: 10. \n"
     ]
    },
    {
     "name": "stdout",
     "output_type": "stream",
     "text": [
      "Starting experimental run with id: 11. \n"
     ]
    },
    {
     "name": "stdout",
     "output_type": "stream",
     "text": [
      "Starting experimental run with id: 12. \n"
     ]
    },
    {
     "name": "stdout",
     "output_type": "stream",
     "text": [
      "Starting experimental run with id: 13. \n",
      "Starting experimental run with id: 14. \n"
     ]
    }
   ],
   "source": [
    "sizes = [1,500,1000,2000,3000,4000,5000]\n",
    "t_numeric = []\n",
    "t_numeric_add = []\n",
    "t_array = []\n",
    "t_array_add = []\n",
    "for size in sizes:\n",
    "    tn, tna, run_id_n =  insert_data('numeric', size)\n",
    "    t_numeric.append(tn)\n",
    "    t_numeric_add.append(tna)\n",
    "\n",
    "    ta, taa, run_id_a =  insert_data('array', size)\n",
    "    t_array.append(ta)\n",
    "    t_array_add.append(taa)"
   ]
  },
  {
   "cell_type": "code",
   "execution_count": 6,
   "metadata": {
    "execution": {
     "iopub.execute_input": "2021-04-06T06:39:38.781550Z",
     "iopub.status.busy": "2021-04-06T06:39:38.769658Z",
     "iopub.status.idle": "2021-04-06T06:39:38.926417Z",
     "shell.execute_reply": "2021-04-06T06:39:38.926863Z"
    }
   },
   "outputs": [
    {
     "data": {
      "image/png": "[encoded data removed]",
      "text/plain": [
       "<Figure size 432x288 with 1 Axes>"
      ]
     },
     "metadata": {
      "needs_background": "light"
     },
     "output_type": "display_data"
    }
   ],
   "source": [
    "fig, ax = plt.subplots(1,1)\n",
    "ax.plot(sizes, t_numeric, 'o-', label='Inserting row-by-row')\n",
    "ax.plot(sizes, t_numeric_add, 'o-', label='Inserting row-by-row: add_result only')\n",
    "ax.plot(sizes, t_array, 'd-', label='Inserting as binary blob')\n",
    "ax.plot(sizes, t_array_add, 'd-', label='Inserting as binary blob: add_result only')\n",
    "ax.legend()\n",
    "ax.set_xlabel('Array length')\n",
    "ax.set_ylabel('Time (s)')\n",
    "fig.tight_layout()"
   ]
  },
  {
   "cell_type": "markdown",
   "metadata": {},
   "source": [
    "As shown in the latter figure, the time to setup and and close the experiment is approximately 0.4 sec. In case of small array sizes, the difference between inserting values of data as arrays and inserting them row-by-row is relatively unimportant. At larger array sizes, i.e. above 10000 points, the cost of writing data as individual datapoints starts to become important.\n"
   ]
  },
  {
   "cell_type": "markdown",
   "metadata": {},
   "source": [
    "### Case2: Long experiment time "
   ]
  },
  {
   "cell_type": "code",
   "execution_count": 7,
   "metadata": {
    "execution": {
     "iopub.execute_input": "2021-04-06T06:39:38.929220Z",
     "iopub.status.busy": "2021-04-06T06:39:38.928784Z",
     "iopub.status.idle": "2021-04-06T06:40:27.571800Z",
     "shell.execute_reply": "2021-04-06T06:40:27.570584Z"
    }
   },
   "outputs": [
    {
     "name": "stdout",
     "output_type": "stream",
     "text": [
      "Starting experimental run with id: 15. \n",
      "Starting experimental run with id: 16. \n",
      "Starting experimental run with id: 17. \n"
     ]
    },
    {
     "name": "stdout",
     "output_type": "stream",
     "text": [
      "Starting experimental run with id: 18. \n",
      "Starting experimental run with id: 19. \n"
     ]
    },
    {
     "name": "stdout",
     "output_type": "stream",
     "text": [
      "Starting experimental run with id: 20. \n"
     ]
    },
    {
     "name": "stdout",
     "output_type": "stream",
     "text": [
      "Starting experimental run with id: 21. \n"
     ]
    },
    {
     "name": "stdout",
     "output_type": "stream",
     "text": [
      "Starting experimental run with id: 22. \n"
     ]
    },
    {
     "name": "stdout",
     "output_type": "stream",
     "text": [
      "Starting experimental run with id: 23. \n"
     ]
    },
    {
     "name": "stdout",
     "output_type": "stream",
     "text": [
      "Starting experimental run with id: 24. \n"
     ]
    },
    {
     "name": "stdout",
     "output_type": "stream",
     "text": [
      "Starting experimental run with id: 25. \n"
     ]
    },
    {
     "name": "stdout",
     "output_type": "stream",
     "text": [
      "Starting experimental run with id: 26. \n"
     ]
    },
    {
     "name": "stdout",
     "output_type": "stream",
     "text": [
      "Starting experimental run with id: 27. \n"
     ]
    },
    {
     "name": "stdout",
     "output_type": "stream",
     "text": [
      "Starting experimental run with id: 28. \n"
     ]
    }
   ],
   "source": [
    "sizes = [1,500,1000,2000,3000,4000,5000]\n",
    "nreps = 100\n",
    "t_numeric = []\n",
    "t_numeric_add = []\n",
    "t_numeric_run_ids = []\n",
    "t_array = []\n",
    "t_array_add = []\n",
    "t_array_run_ids = []\n",
    "for size in sizes:\n",
    "    tn, tna, run_id_n =  insert_data('numeric', size, nreps=nreps)\n",
    "    t_numeric.append(tn)\n",
    "    t_numeric_add.append(tna)\n",
    "    t_numeric_run_ids.append(run_id_n)\n",
    "\n",
    "    ta, taa, run_id_a =  insert_data('array', size, nreps=nreps)\n",
    "    t_array.append(ta)\n",
    "    t_array_add.append(taa)\n",
    "    t_array_run_ids.append(run_id_a)"
   ]
  },
  {
   "cell_type": "code",
   "execution_count": 8,
   "metadata": {
    "execution": {
     "iopub.execute_input": "2021-04-06T06:40:27.595120Z",
     "iopub.status.busy": "2021-04-06T06:40:27.592234Z",
     "iopub.status.idle": "2021-04-06T06:40:27.756165Z",
     "shell.execute_reply": "2021-04-06T06:40:27.756922Z"
    },
    "scrolled": true
   },
   "outputs": [
    {
     "data": {
      "image/png": "[encoded data removed]",
      "text/plain": [
       "<Figure size 432x288 with 1 Axes>"
      ]
     },
     "metadata": {
      "needs_background": "light"
     },
     "output_type": "display_data"
    }
   ],
   "source": [
    "fig, ax = plt.subplots(1,1)\n",
    "ax.plot(sizes, t_numeric, 'o-', label='Inserting row-by-row')\n",
    "ax.plot(sizes, t_numeric_add, 'o-', label='Inserting row-by-row: add_result only')\n",
    "ax.plot(sizes, t_array, 'd-', label='Inserting as binary blob')\n",
    "ax.plot(sizes, t_array_add, 'd-', label='Inserting as binary blob: add_result only')\n",
    "ax.legend()\n",
    "ax.set_xlabel('Array length')\n",
    "ax.set_ylabel('Time (s)')\n",
    "fig.tight_layout()"
   ]
  },
  {
   "cell_type": "markdown",
   "metadata": {},
   "source": [
    "However, as we increase the length of the experiment, as seen here by repeating the insertion 100 times, we see a big difference between inserting values of the data row-by-row and inserting it as a binary blob."
   ]
  },
  {
   "cell_type": "markdown",
   "metadata": {},
   "source": [
    "## Loading the data "
   ]
  },
  {
   "cell_type": "code",
   "execution_count": 9,
   "metadata": {
    "execution": {
     "iopub.execute_input": "2021-04-06T06:40:27.761518Z",
     "iopub.status.busy": "2021-04-06T06:40:27.760625Z",
     "iopub.status.idle": "2021-04-06T06:40:27.764789Z",
     "shell.execute_reply": "2021-04-06T06:40:27.765530Z"
    }
   },
   "outputs": [],
   "source": [
    "from qcodes.dataset.data_set import load_by_id\n",
    "from qcodes.dataset.data_export import get_data_by_id"
   ]
  },
  {
   "cell_type": "markdown",
   "metadata": {},
   "source": [
    "As usual you can load the data by using the ``load_by_id`` function but you will notice that the different storage methods\n",
    "are reflected in shape of the data as it is retrieved. "
   ]
  },
  {
   "cell_type": "code",
   "execution_count": 10,
   "metadata": {
    "execution": {
     "iopub.execute_input": "2021-04-06T06:40:27.769262Z",
     "iopub.status.busy": "2021-04-06T06:40:27.767978Z",
     "iopub.status.idle": "2021-04-06T06:40:27.772252Z",
     "shell.execute_reply": "2021-04-06T06:40:27.773007Z"
    }
   },
   "outputs": [],
   "source": [
    "run_id_n = t_numeric_run_ids[0]\n",
    "run_id_a = t_array_run_ids[0]"
   ]
  },
  {
   "cell_type": "code",
   "execution_count": 11,
   "metadata": {
    "execution": {
     "iopub.execute_input": "2021-04-06T06:40:27.776480Z",
     "iopub.status.busy": "2021-04-06T06:40:27.775338Z",
     "iopub.status.idle": "2021-04-06T06:40:27.786146Z",
     "shell.execute_reply": "2021-04-06T06:40:27.786576Z"
    },
    "scrolled": true
   },
   "outputs": [
    {
     "data": {
      "text/plain": [
       "{'x1': {'x1': array([0.15107513, 0.15107513, 0.15283163, 0.15283163, 0.26731469,\n",
       "         0.26731469, 0.30855391, 0.30855391, 0.48642737, 0.48642737,\n",
       "         0.71434961, 0.71434961, 0.04906832, 0.04906832, 0.78217586,\n",
       "         0.78217586, 0.47195462, 0.47195462, 0.33906751, 0.33906751,\n",
       "         0.76369679, 0.76369679, 0.34429358, 0.34429358, 0.62953828,\n",
       "         0.62953828, 0.60928339, 0.60928339, 0.41249746, 0.41249746,\n",
       "         0.57184142, 0.57184142, 0.81634093, 0.81634093, 0.6160708 ,\n",
       "         0.6160708 , 0.5864914 , 0.5864914 , 0.76820639, 0.76820639,\n",
       "         0.74931723, 0.74931723, 0.54232826, 0.54232826, 0.49137813,\n",
       "         0.49137813, 0.79674154, 0.79674154, 0.52306671, 0.52306671,\n",
       "         0.17881328, 0.17881328, 0.45770873, 0.45770873, 0.15437881,\n",
       "         0.15437881, 0.16222347, 0.16222347, 0.15238133, 0.15238133,\n",
       "         0.44800234, 0.44800234, 0.54987576, 0.54987576, 0.7213881 ,\n",
       "         0.7213881 , 0.28284971, 0.28284971, 0.26640849, 0.26640849,\n",
       "         0.26327586, 0.26327586, 0.97843403, 0.97843403, 0.78241276,\n",
       "         0.78241276, 0.82273506, 0.82273506, 0.50024692, 0.50024692,\n",
       "         0.74240131, 0.74240131, 0.0370464 , 0.0370464 , 0.45810312,\n",
       "         0.45810312, 0.85961767, 0.85961767, 0.97536211, 0.97536211,\n",
       "         0.55300181, 0.55300181, 0.4285855 , 0.4285855 , 0.38854021,\n",
       "         0.38854021, 0.44356354, 0.44356354, 0.8657315 , 0.8657315 ,\n",
       "         0.36659503, 0.36659503, 0.04168345, 0.04168345, 0.27872966,\n",
       "         0.27872966, 0.33789035, 0.33789035, 0.55166008, 0.55166008,\n",
       "         0.80181242, 0.80181242, 0.63184455, 0.63184455, 0.42318827,\n",
       "         0.42318827, 0.42237733, 0.42237733, 0.07196636, 0.07196636,\n",
       "         0.90293602, 0.90293602, 0.17767404, 0.17767404, 0.29164794,\n",
       "         0.29164794, 0.22777389, 0.22777389, 0.27671858, 0.27671858,\n",
       "         0.46680683, 0.46680683, 0.88091951, 0.88091951, 0.58691084,\n",
       "         0.58691084, 0.33862427, 0.33862427, 0.27890371, 0.27890371,\n",
       "         0.79293361, 0.79293361, 0.59053291, 0.59053291, 0.37586279,\n",
       "         0.37586279, 0.9442143 , 0.9442143 , 0.56055542, 0.56055542,\n",
       "         0.38963822, 0.38963822, 0.6497647 , 0.6497647 , 0.42536509,\n",
       "         0.42536509, 0.40463771, 0.40463771, 0.44221597, 0.44221597,\n",
       "         0.86597653, 0.86597653, 0.08100106, 0.08100106, 0.03650883,\n",
       "         0.03650883, 0.95892207, 0.95892207, 0.44270851, 0.44270851,\n",
       "         0.12224083, 0.12224083, 0.67471869, 0.67471869, 0.80210156,\n",
       "         0.80210156, 0.78250395, 0.78250395, 0.96999759, 0.96999759,\n",
       "         0.77993642, 0.77993642, 0.88815086, 0.88815086, 0.93073278,\n",
       "         0.93073278, 0.65345672, 0.65345672, 0.32762631, 0.32762631,\n",
       "         0.40366576, 0.40366576, 0.65957055, 0.65957055, 0.87297004,\n",
       "         0.87297004, 0.39510248, 0.39510248, 0.27017097, 0.27017097])}}"
      ]
     },
     "execution_count": 1,
     "metadata": {},
     "output_type": "execute_result"
    }
   ],
   "source": [
    "ds = load_by_id(run_id_n)\n",
    "ds.get_parameter_data('x1')"
   ]
  },
  {
   "cell_type": "markdown",
   "metadata": {},
   "source": [
    "And a dataset stored as binary arrays"
   ]
  },
  {
   "cell_type": "code",
   "execution_count": 12,
   "metadata": {
    "execution": {
     "iopub.execute_input": "2021-04-06T06:40:27.789725Z",
     "iopub.status.busy": "2021-04-06T06:40:27.789249Z",
     "iopub.status.idle": "2021-04-06T06:40:27.840866Z",
     "shell.execute_reply": "2021-04-06T06:40:27.841709Z"
    },
    "scrolled": true
   },
   "outputs": [
    {
     "data": {
      "text/plain": [
       "{'x1': {'x1': array([[0.59322051],\n",
       "         [0.59322051],\n",
       "         [0.11877153],\n",
       "         [0.11877153],\n",
       "         [0.93627084],\n",
       "         [0.93627084],\n",
       "         [0.51302004],\n",
       "         [0.51302004],\n",
       "         [0.34971943],\n",
       "         [0.34971943],\n",
       "         [0.56932581],\n",
       "         [0.56932581],\n",
       "         [0.90628664],\n",
       "         [0.90628664],\n",
       "         [0.21652363],\n",
       "         [0.21652363],\n",
       "         [0.89479055],\n",
       "         [0.89479055],\n",
       "         [0.60398124],\n",
       "         [0.60398124],\n",
       "         [0.02853127],\n",
       "         [0.02853127],\n",
       "         [0.20237688],\n",
       "         [0.20237688],\n",
       "         [0.10930397],\n",
       "         [0.10930397],\n",
       "         [0.41695779],\n",
       "         [0.41695779],\n",
       "         [0.89084423],\n",
       "         [0.89084423],\n",
       "         [0.19094161],\n",
       "         [0.19094161],\n",
       "         [0.32214391],\n",
       "         [0.32214391],\n",
       "         [0.39541772],\n",
       "         [0.39541772],\n",
       "         [0.02639144],\n",
       "         [0.02639144],\n",
       "         [0.62599133],\n",
       "         [0.62599133],\n",
       "         [0.29566354],\n",
       "         [0.29566354],\n",
       "         [0.45196229],\n",
       "         [0.45196229],\n",
       "         [0.96008654],\n",
       "         [0.96008654],\n",
       "         [0.9937818 ],\n",
       "         [0.9937818 ],\n",
       "         [0.01025478],\n",
       "         [0.01025478],\n",
       "         [0.30158246],\n",
       "         [0.30158246],\n",
       "         [0.01155155],\n",
       "         [0.01155155],\n",
       "         [0.43679442],\n",
       "         [0.43679442],\n",
       "         [0.90278405],\n",
       "         [0.90278405],\n",
       "         [0.09483764],\n",
       "         [0.09483764],\n",
       "         [0.68599196],\n",
       "         [0.68599196],\n",
       "         [0.33760328],\n",
       "         [0.33760328],\n",
       "         [0.65804638],\n",
       "         [0.65804638],\n",
       "         [0.16065565],\n",
       "         [0.16065565],\n",
       "         [0.40777385],\n",
       "         [0.40777385],\n",
       "         [0.57284442],\n",
       "         [0.57284442],\n",
       "         [0.63776945],\n",
       "         [0.63776945],\n",
       "         [0.51672362],\n",
       "         [0.51672362],\n",
       "         [0.29984566],\n",
       "         [0.29984566],\n",
       "         [0.40482783],\n",
       "         [0.40482783],\n",
       "         [0.02341012],\n",
       "         [0.02341012],\n",
       "         [0.14472366],\n",
       "         [0.14472366],\n",
       "         [0.69112675],\n",
       "         [0.69112675],\n",
       "         [0.56486131],\n",
       "         [0.56486131],\n",
       "         [0.16845705],\n",
       "         [0.16845705],\n",
       "         [0.53202156],\n",
       "         [0.53202156],\n",
       "         [0.98625229],\n",
       "         [0.98625229],\n",
       "         [0.62790714],\n",
       "         [0.62790714],\n",
       "         [0.785168  ],\n",
       "         [0.785168  ],\n",
       "         [0.91207226],\n",
       "         [0.91207226],\n",
       "         [0.10305278],\n",
       "         [0.10305278],\n",
       "         [0.5087677 ],\n",
       "         [0.5087677 ],\n",
       "         [0.5267313 ],\n",
       "         [0.5267313 ],\n",
       "         [0.48541447],\n",
       "         [0.48541447],\n",
       "         [0.30036507],\n",
       "         [0.30036507],\n",
       "         [0.46363649],\n",
       "         [0.46363649],\n",
       "         [0.49236349],\n",
       "         [0.49236349],\n",
       "         [0.51848073],\n",
       "         [0.51848073],\n",
       "         [0.72098293],\n",
       "         [0.72098293],\n",
       "         [0.58329772],\n",
       "         [0.58329772],\n",
       "         [0.95489313],\n",
       "         [0.95489313],\n",
       "         [0.72807392],\n",
       "         [0.72807392],\n",
       "         [0.91999452],\n",
       "         [0.91999452],\n",
       "         [0.81248755],\n",
       "         [0.81248755],\n",
       "         [0.59558112],\n",
       "         [0.59558112],\n",
       "         [0.94772191],\n",
       "         [0.94772191],\n",
       "         [0.36908679],\n",
       "         [0.36908679],\n",
       "         [0.24091368],\n",
       "         [0.24091368],\n",
       "         [0.6022013 ],\n",
       "         [0.6022013 ],\n",
       "         [0.17313842],\n",
       "         [0.17313842],\n",
       "         [0.44204129],\n",
       "         [0.44204129],\n",
       "         [0.22991362],\n",
       "         [0.22991362],\n",
       "         [0.98930051],\n",
       "         [0.98930051],\n",
       "         [0.57578612],\n",
       "         [0.57578612],\n",
       "         [0.46831502],\n",
       "         [0.46831502],\n",
       "         [0.61213214],\n",
       "         [0.61213214],\n",
       "         [0.05790159],\n",
       "         [0.05790159],\n",
       "         [0.18293959],\n",
       "         [0.18293959],\n",
       "         [0.03968819],\n",
       "         [0.03968819],\n",
       "         [0.11449166],\n",
       "         [0.11449166],\n",
       "         [0.86589135],\n",
       "         [0.86589135],\n",
       "         [0.35787598],\n",
       "         [0.35787598],\n",
       "         [0.90983475],\n",
       "         [0.90983475],\n",
       "         [0.81685269],\n",
       "         [0.81685269],\n",
       "         [0.34768561],\n",
       "         [0.34768561],\n",
       "         [0.04138965],\n",
       "         [0.04138965],\n",
       "         [0.32403517],\n",
       "         [0.32403517],\n",
       "         [0.09319573],\n",
       "         [0.09319573],\n",
       "         [0.69709322],\n",
       "         [0.69709322],\n",
       "         [0.23493115],\n",
       "         [0.23493115],\n",
       "         [0.61260922],\n",
       "         [0.61260922],\n",
       "         [0.93805128],\n",
       "         [0.93805128],\n",
       "         [0.31655122],\n",
       "         [0.31655122],\n",
       "         [0.12633686],\n",
       "         [0.12633686],\n",
       "         [0.81445572],\n",
       "         [0.81445572],\n",
       "         [0.22896331],\n",
       "         [0.22896331],\n",
       "         [0.27233891],\n",
       "         [0.27233891],\n",
       "         [0.11194963],\n",
       "         [0.11194963],\n",
       "         [0.02127366],\n",
       "         [0.02127366],\n",
       "         [0.16824899],\n",
       "         [0.16824899]])}}"
      ]
     },
     "execution_count": 1,
     "metadata": {},
     "output_type": "execute_result"
    }
   ],
   "source": [
    "ds = load_by_id(run_id_a)\n",
    "ds.get_parameter_data('x1')"
   ]
  },
  {
   "cell_type": "code",
   "execution_count": null,
   "metadata": {},
   "outputs": [],
   "source": []
  }
 ],
 "metadata": {
  "kernelspec": {
   "display_name": "Python 3",
   "language": "python",
   "name": "python3"
  },
  "language_info": {
   "codemirror_mode": {
    "name": "ipython",
    "version": 3
   },
   "file_extension": ".py",
   "mimetype": "text/x-python",
   "name": "python",
   "nbconvert_exporter": "python",
   "pygments_lexer": "ipython3",
   "version": "3.7.10"
  },
  "nbsphinx": {
   "timeout": 600
  },
  "toc": {
   "base_numbering": 1,
   "nav_menu": {},
   "number_sections": true,
   "sideBar": true,
   "skip_h1_title": false,
   "title_cell": "Table of Contents",
   "title_sidebar": "Contents",
   "toc_cell": false,
   "toc_position": {},
   "toc_section_display": true,
   "toc_window_display": false
  },
  "varInspector": {
   "cols": {
    "lenName": 16,
    "lenType": 16,
    "lenVar": 40
   },
   "kernels_config": {
    "python": {
     "delete_cmd_postfix": "",
     "delete_cmd_prefix": "del ",
     "library": "var_list.py",
     "varRefreshCmd": "print(var_dic_list())"
    },
    "r": {
     "delete_cmd_postfix": ") ",
     "delete_cmd_prefix": "rm(",
     "library": "var_list.r",
     "varRefreshCmd": "cat(var_dic_list()) "
    }
   },
   "types_to_exclude": [
    "module",
    "function",
    "builtin_function_or_method",
    "instance",
    "_Feature"
   ],
   "window_display": false
  }
 },
 "nbformat": 4,
 "nbformat_minor": 2
}
