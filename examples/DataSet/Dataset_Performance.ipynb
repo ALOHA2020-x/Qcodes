{
 "cells": [
  {
   "cell_type": "markdown",
   "metadata": {},
   "source": [
    "# DataSet Performance\n",
    "\n",
    "This notebook shows the trade-off between inserting data into a database row-by-row and as binary blobs. Inserting the data row-by-row means that we have direct access to all the data and may perform queries directly on the values of the data. On the other hand, as we shall see, this is much slower than inserting the data directly as binary blobs."
   ]
  },
  {
   "cell_type": "markdown",
   "metadata": {},
   "source": [
    "First, we choose a new location for the database to ensure that we don't add a bunch of benchmarking data to the default one."
   ]
  },
  {
   "cell_type": "code",
   "execution_count": 1,
   "metadata": {
    "execution": {
     "iopub.execute_input": "2020-09-28T12:23:56.830129Z",
     "iopub.status.busy": "2020-09-28T12:23:56.829370Z",
     "iopub.status.idle": "2020-09-28T12:23:57.797268Z",
     "shell.execute_reply": "2020-09-28T12:23:57.796690Z"
    }
   },
   "outputs": [
    {
     "name": "stdout",
     "output_type": "stream",
     "text": [
      "Logging hadn't been started.\n",
      "Activating auto-logging. Current session state plus future input saved.\n",
      "Filename       : /home/vsts/.qcodes/logs/command_history.log\n",
      "Mode           : append\n",
      "Output logging : True\n",
      "Raw input log  : False\n",
      "Timestamping   : True\n",
      "State          : active\n"
     ]
    },
    {
     "name": "stdout",
     "output_type": "stream",
     "text": [
      "Qcodes Logfile : /home/vsts/.qcodes/logs/200928-18957-qcodes.log\n"
     ]
    }
   ],
   "source": [
    "import os\n",
    "cwd = os.getcwd()\n",
    "import qcodes as qc\n",
    "qc.config[\"core\"][\"db_location\"] = os.path.join(cwd, 'testing.db')\n"
   ]
  },
  {
   "cell_type": "code",
   "execution_count": 2,
   "metadata": {
    "execution": {
     "iopub.execute_input": "2020-09-28T12:23:57.804244Z",
     "iopub.status.busy": "2020-09-28T12:23:57.802587Z",
     "iopub.status.idle": "2020-09-28T12:23:57.986911Z",
     "shell.execute_reply": "2020-09-28T12:23:57.985869Z"
    }
   },
   "outputs": [],
   "source": [
    "%matplotlib inline\n",
    "import time\n",
    "import matplotlib.pyplot as plt\n",
    "import numpy as np\n",
    "\n",
    "import qcodes as qc\n",
    "from qcodes.instrument.parameter import ManualParameter\n",
    "from qcodes.dataset.experiment_container import (Experiment,\n",
    "                                                 load_last_experiment,\n",
    "                                                 new_experiment)\n",
    "from qcodes.dataset.sqlite.database import initialise_database\n",
    "from qcodes import load_or_create_experiment\n",
    "from qcodes.dataset.measurements import Measurement"
   ]
  },
  {
   "cell_type": "code",
   "execution_count": 3,
   "metadata": {
    "execution": {
     "iopub.execute_input": "2020-09-28T12:23:57.992353Z",
     "iopub.status.busy": "2020-09-28T12:23:57.990860Z",
     "iopub.status.idle": "2020-09-28T12:23:58.092243Z",
     "shell.execute_reply": "2020-09-28T12:23:58.091758Z"
    }
   },
   "outputs": [
    {
     "name": "stdout",
     "output_type": "stream",
     "text": [
      "\r",
      "0it [00:00, ?it/s]"
     ]
    },
    {
     "name": "stdout",
     "output_type": "stream",
     "text": [
      "\r",
      "Upgrading database; v0 -> v1: : 0it [00:00, ?it/s]"
     ]
    },
    {
     "name": "stdout",
     "output_type": "stream",
     "text": [
      "\r",
      "Upgrading database; v0 -> v1: : 0it [00:00, ?it/s]"
     ]
    },
    {
     "name": "stdout",
     "output_type": "stream",
     "text": [
      "\n",
      "\r",
      "  0%|          | 0/1 [00:00<?, ?it/s]"
     ]
    },
    {
     "name": "stdout",
     "output_type": "stream",
     "text": [
      "\r",
      "Upgrading database; v1 -> v2:   0%|          | 0/1 [00:00<?, ?it/s]"
     ]
    },
    {
     "name": "stdout",
     "output_type": "stream",
     "text": [
      "\r",
      "Upgrading database; v1 -> v2: 100%|██████████| 1/1 [00:00<00:00, 404.27it/s]"
     ]
    },
    {
     "name": "stdout",
     "output_type": "stream",
     "text": [
      "\n",
      "\r",
      "0it [00:00, ?it/s]"
     ]
    },
    {
     "name": "stdout",
     "output_type": "stream",
     "text": [
      "\r",
      "Upgrading database; v2 -> v3: : 0it [00:00, ?it/s]"
     ]
    },
    {
     "name": "stdout",
     "output_type": "stream",
     "text": [
      "\r",
      "Upgrading database; v2 -> v3: : 0it [00:00, ?it/s]"
     ]
    },
    {
     "name": "stdout",
     "output_type": "stream",
     "text": [
      "\n",
      "\r",
      "0it [00:00, ?it/s]"
     ]
    },
    {
     "name": "stdout",
     "output_type": "stream",
     "text": [
      "\r",
      "Upgrading database; v3 -> v4: : 0it [00:00, ?it/s]"
     ]
    },
    {
     "name": "stdout",
     "output_type": "stream",
     "text": [
      "\r",
      "Upgrading database; v3 -> v4: : 0it [00:00, ?it/s]"
     ]
    },
    {
     "name": "stdout",
     "output_type": "stream",
     "text": [
      "\n",
      "\r",
      "  0%|          | 0/1 [00:00<?, ?it/s]"
     ]
    },
    {
     "name": "stdout",
     "output_type": "stream",
     "text": [
      "\r",
      "Upgrading database; v4 -> v5:   0%|          | 0/1 [00:00<?, ?it/s]"
     ]
    },
    {
     "name": "stdout",
     "output_type": "stream",
     "text": [
      "\r",
      "Upgrading database; v4 -> v5: 100%|██████████| 1/1 [00:00<00:00, 538.15it/s]"
     ]
    },
    {
     "name": "stdout",
     "output_type": "stream",
     "text": [
      "\n",
      "\r",
      "0it [00:00, ?it/s]"
     ]
    },
    {
     "name": "stdout",
     "output_type": "stream",
     "text": [
      "\r",
      "Upgrading database; v5 -> v6: : 0it [00:00, ?it/s]"
     ]
    },
    {
     "name": "stdout",
     "output_type": "stream",
     "text": [
      "\r",
      "Upgrading database; v5 -> v6: : 0it [00:00, ?it/s]"
     ]
    },
    {
     "name": "stdout",
     "output_type": "stream",
     "text": [
      "\n",
      "\r",
      "  0%|          | 0/1 [00:00<?, ?it/s]"
     ]
    },
    {
     "name": "stdout",
     "output_type": "stream",
     "text": [
      "\r",
      "Upgrading database; v6 -> v7:   0%|          | 0/1 [00:00<?, ?it/s]"
     ]
    },
    {
     "name": "stdout",
     "output_type": "stream",
     "text": [
      "\r",
      "Upgrading database; v6 -> v7: 100%|██████████| 1/1 [00:00<00:00, 285.93it/s]"
     ]
    },
    {
     "name": "stdout",
     "output_type": "stream",
     "text": [
      "\n",
      "\r",
      "  0%|          | 0/1 [00:00<?, ?it/s]"
     ]
    },
    {
     "name": "stdout",
     "output_type": "stream",
     "text": [
      "\r",
      "Upgrading database; v7 -> v8:   0%|          | 0/1 [00:00<?, ?it/s]"
     ]
    },
    {
     "name": "stdout",
     "output_type": "stream",
     "text": [
      "\r",
      "Upgrading database; v7 -> v8: 100%|██████████| 1/1 [00:00<00:00, 478.15it/s]"
     ]
    },
    {
     "name": "stdout",
     "output_type": "stream",
     "text": [
      "\n",
      "\r",
      "  0%|          | 0/1 [00:00<?, ?it/s]"
     ]
    },
    {
     "name": "stdout",
     "output_type": "stream",
     "text": [
      "\r",
      "Upgrading database; v8 -> v9:   0%|          | 0/1 [00:00<?, ?it/s]"
     ]
    },
    {
     "name": "stdout",
     "output_type": "stream",
     "text": [
      "\r",
      "Upgrading database; v8 -> v9: 100%|██████████| 1/1 [00:00<00:00, 459.65it/s]"
     ]
    },
    {
     "name": "stdout",
     "output_type": "stream",
     "text": [
      "\n"
     ]
    }
   ],
   "source": [
    "initialise_database()\n",
    "exp = load_or_create_experiment(experiment_name='tutorial_exp', sample_name=\"no sample\")"
   ]
  },
  {
   "cell_type": "markdown",
   "metadata": {},
   "source": [
    "Here, we define a simple function to benchmark the time it takes to insert n points with either numeric or array data type.\n",
    "We will compare both the time used to call ``add_result`` and the time used for the full measurement."
   ]
  },
  {
   "cell_type": "code",
   "execution_count": 4,
   "metadata": {
    "execution": {
     "iopub.execute_input": "2020-09-28T12:23:58.101808Z",
     "iopub.status.busy": "2020-09-28T12:23:58.100481Z",
     "iopub.status.idle": "2020-09-28T12:23:58.102520Z",
     "shell.execute_reply": "2020-09-28T12:23:58.102976Z"
    }
   },
   "outputs": [],
   "source": [
    "def insert_data(paramtype, npoints, nreps=1):\n",
    "\n",
    "    meas = Measurement(exp=exp)\n",
    "\n",
    "    x1 = ManualParameter('x1')\n",
    "    x2 = ManualParameter('x2')\n",
    "    x3 = ManualParameter('x3')\n",
    "    y1 = ManualParameter('y1')\n",
    "    y2 = ManualParameter('y2')\n",
    "\n",
    "    meas.register_parameter(x1, paramtype=paramtype)\n",
    "    meas.register_parameter(x2, paramtype=paramtype)\n",
    "    meas.register_parameter(x3, paramtype=paramtype)\n",
    "    meas.register_parameter(y1, setpoints=[x1, x2, x3],\n",
    "                            paramtype=paramtype)\n",
    "    meas.register_parameter(y2, setpoints=[x1, x2, x3],\n",
    "                            paramtype=paramtype)\n",
    "    start = time.perf_counter()\n",
    "    with meas.run() as datasaver:\n",
    "        start_adding = time.perf_counter()\n",
    "        for i in range(nreps):\n",
    "            datasaver.add_result((x1, np.random.rand(npoints)),\n",
    "                                 (x2, np.random.rand(npoints)),\n",
    "                                 (x3, np.random.rand(npoints)),\n",
    "                                 (y1, np.random.rand(npoints)),\n",
    "                                 (y2, np.random.rand(npoints)))\n",
    "        stop_adding = time.perf_counter()\n",
    "        run_id = datasaver.run_id\n",
    "    stop = time.perf_counter()\n",
    "    tot_time = stop - start\n",
    "    add_time = stop_adding - start_adding\n",
    "    return tot_time, add_time, run_id"
   ]
  },
  {
   "cell_type": "markdown",
   "metadata": {},
   "source": [
    "## Comparison between numeric/array data and binary blob"
   ]
  },
  {
   "cell_type": "markdown",
   "metadata": {},
   "source": [
    "### Case1: Short experiment time"
   ]
  },
  {
   "cell_type": "code",
   "execution_count": 5,
   "metadata": {
    "execution": {
     "iopub.execute_input": "2020-09-28T12:23:58.109013Z",
     "iopub.status.busy": "2020-09-28T12:23:58.107713Z",
     "iopub.status.idle": "2020-09-28T12:23:58.845860Z",
     "shell.execute_reply": "2020-09-28T12:23:58.844924Z"
    }
   },
   "outputs": [
    {
     "name": "stdout",
     "output_type": "stream",
     "text": [
      "Starting experimental run with id: 1. \n",
      "Starting experimental run with id: 2. \n",
      "Starting experimental run with id: 3. \n",
      "Starting experimental run with id: 4. \n",
      "Starting experimental run with id: 5. \n"
     ]
    },
    {
     "name": "stdout",
     "output_type": "stream",
     "text": [
      "Starting experimental run with id: 6. \n"
     ]
    },
    {
     "name": "stdout",
     "output_type": "stream",
     "text": [
      "Starting experimental run with id: 7. \n"
     ]
    },
    {
     "name": "stdout",
     "output_type": "stream",
     "text": [
      "Starting experimental run with id: 8. \n",
      "Starting experimental run with id: 9. \n"
     ]
    },
    {
     "name": "stdout",
     "output_type": "stream",
     "text": [
      "Starting experimental run with id: 10. \n"
     ]
    },
    {
     "name": "stdout",
     "output_type": "stream",
     "text": [
      "Starting experimental run with id: 11. \n"
     ]
    },
    {
     "name": "stdout",
     "output_type": "stream",
     "text": [
      "Starting experimental run with id: 12. \n",
      "Starting experimental run with id: 13. \n"
     ]
    },
    {
     "name": "stdout",
     "output_type": "stream",
     "text": [
      "Starting experimental run with id: 14. \n"
     ]
    }
   ],
   "source": [
    "sizes = [1,500,1000,2000,3000,4000,5000]\n",
    "t_numeric = []\n",
    "t_numeric_add = []\n",
    "t_array = []\n",
    "t_array_add = []\n",
    "for size in sizes:\n",
    "    tn, tna, run_id_n =  insert_data('numeric', size)\n",
    "    t_numeric.append(tn)\n",
    "    t_numeric_add.append(tna)\n",
    "\n",
    "    ta, taa, run_id_a =  insert_data('array', size)\n",
    "    t_array.append(ta)\n",
    "    t_array_add.append(taa)"
   ]
  },
  {
   "cell_type": "code",
   "execution_count": 6,
   "metadata": {
    "execution": {
     "iopub.execute_input": "2020-09-28T12:23:58.863562Z",
     "iopub.status.busy": "2020-09-28T12:23:58.862933Z",
     "iopub.status.idle": "2020-09-28T12:23:59.085459Z",
     "shell.execute_reply": "2020-09-28T12:23:59.086083Z"
    }
   },
   "outputs": [
    {
     "data": {
      "image/png": "[encoded data removed]",
      "text/plain": [
       "<Figure size 432x288 with 1 Axes>"
      ]
     },
     "metadata": {
      "needs_background": "light"
     },
     "output_type": "display_data"
    }
   ],
   "source": [
    "fig, ax = plt.subplots(1,1)\n",
    "ax.plot(sizes, t_numeric, 'o-', label='Inserting row-by-row')\n",
    "ax.plot(sizes, t_numeric_add, 'o-', label='Inserting row-by-row: add_result only')\n",
    "ax.plot(sizes, t_array, 'd-', label='Inserting as binary blob')\n",
    "ax.plot(sizes, t_array_add, 'd-', label='Inserting as binary blob: add_result only')\n",
    "ax.legend()\n",
    "ax.set_xlabel('Array length')\n",
    "ax.set_ylabel('Time (s)')\n",
    "fig.tight_layout()"
   ]
  },
  {
   "cell_type": "markdown",
   "metadata": {},
   "source": [
    "As shown in the latter figure, the time to setup and and close the experiment is approximately 0.4 sec. In case of small array sizes, the difference between inserting values of data as arrays and inserting them row-by-row is relatively unimportant. At larger array sizes, i.e. above 10000 points, the cost of writing data as individual datapoints starts to become important.\n"
   ]
  },
  {
   "cell_type": "markdown",
   "metadata": {},
   "source": [
    "### Case2: Long experiment time "
   ]
  },
  {
   "cell_type": "code",
   "execution_count": 7,
   "metadata": {
    "execution": {
     "iopub.execute_input": "2020-09-28T12:23:59.092611Z",
     "iopub.status.busy": "2020-09-28T12:23:59.091833Z",
     "iopub.status.idle": "2020-09-28T12:25:03.024925Z",
     "shell.execute_reply": "2020-09-28T12:25:03.024340Z"
    }
   },
   "outputs": [
    {
     "name": "stdout",
     "output_type": "stream",
     "text": [
      "Starting experimental run with id: 15. \n",
      "Starting experimental run with id: 16. \n",
      "Starting experimental run with id: 17. \n"
     ]
    },
    {
     "name": "stdout",
     "output_type": "stream",
     "text": [
      "Starting experimental run with id: 18. \n",
      "Starting experimental run with id: 19. \n"
     ]
    },
    {
     "name": "stdout",
     "output_type": "stream",
     "text": [
      "Starting experimental run with id: 20. \n"
     ]
    },
    {
     "name": "stdout",
     "output_type": "stream",
     "text": [
      "Starting experimental run with id: 21. \n"
     ]
    },
    {
     "name": "stdout",
     "output_type": "stream",
     "text": [
      "Starting experimental run with id: 22. \n"
     ]
    },
    {
     "name": "stdout",
     "output_type": "stream",
     "text": [
      "Starting experimental run with id: 23. \n"
     ]
    },
    {
     "name": "stdout",
     "output_type": "stream",
     "text": [
      "Starting experimental run with id: 24. \n"
     ]
    },
    {
     "name": "stdout",
     "output_type": "stream",
     "text": [
      "Starting experimental run with id: 25. \n"
     ]
    },
    {
     "name": "stdout",
     "output_type": "stream",
     "text": [
      "Starting experimental run with id: 26. \n"
     ]
    },
    {
     "name": "stdout",
     "output_type": "stream",
     "text": [
      "Starting experimental run with id: 27. \n"
     ]
    },
    {
     "name": "stdout",
     "output_type": "stream",
     "text": [
      "Starting experimental run with id: 28. \n"
     ]
    }
   ],
   "source": [
    "sizes = [1,500,1000,2000,3000,4000,5000]\n",
    "nreps = 100\n",
    "t_numeric = []\n",
    "t_numeric_add = []\n",
    "t_numeric_run_ids = []\n",
    "t_array = []\n",
    "t_array_add = []\n",
    "t_array_run_ids = []\n",
    "for size in sizes:\n",
    "    tn, tna, run_id_n =  insert_data('numeric', size, nreps=nreps)\n",
    "    t_numeric.append(tn)\n",
    "    t_numeric_add.append(tna)\n",
    "    t_numeric_run_ids.append(run_id_n)\n",
    "\n",
    "    ta, taa, run_id_a =  insert_data('array', size, nreps=nreps)\n",
    "    t_array.append(ta)\n",
    "    t_array_add.append(taa)\n",
    "    t_array_run_ids.append(run_id_a)"
   ]
  },
  {
   "cell_type": "code",
   "execution_count": 8,
   "metadata": {
    "execution": {
     "iopub.execute_input": "2020-09-28T12:25:03.046581Z",
     "iopub.status.busy": "2020-09-28T12:25:03.044028Z",
     "iopub.status.idle": "2020-09-28T12:25:03.284935Z",
     "shell.execute_reply": "2020-09-28T12:25:03.284129Z"
    },
    "scrolled": true
   },
   "outputs": [
    {
     "data": {
      "image/png": "[encoded data removed]",
      "text/plain": [
       "<Figure size 432x288 with 1 Axes>"
      ]
     },
     "metadata": {
      "needs_background": "light"
     },
     "output_type": "display_data"
    }
   ],
   "source": [
    "fig, ax = plt.subplots(1,1)\n",
    "ax.plot(sizes, t_numeric, 'o-', label='Inserting row-by-row')\n",
    "ax.plot(sizes, t_numeric_add, 'o-', label='Inserting row-by-row: add_result only')\n",
    "ax.plot(sizes, t_array, 'd-', label='Inserting as binary blob')\n",
    "ax.plot(sizes, t_array_add, 'd-', label='Inserting as binary blob: add_result only')\n",
    "ax.legend()\n",
    "ax.set_xlabel('Array length')\n",
    "ax.set_ylabel('Time (s)')\n",
    "fig.tight_layout()"
   ]
  },
  {
   "cell_type": "markdown",
   "metadata": {},
   "source": [
    "However, as we increase the length of the experiment, as seen here by repeating the insertion 100 times, we see a big difference between inserting values of the data row-by-row and inserting it as a binary blob."
   ]
  },
  {
   "cell_type": "markdown",
   "metadata": {},
   "source": [
    "## Loading the data "
   ]
  },
  {
   "cell_type": "code",
   "execution_count": 9,
   "metadata": {
    "execution": {
     "iopub.execute_input": "2020-09-28T12:25:03.289944Z",
     "iopub.status.busy": "2020-09-28T12:25:03.288860Z",
     "iopub.status.idle": "2020-09-28T12:25:03.292975Z",
     "shell.execute_reply": "2020-09-28T12:25:03.293485Z"
    }
   },
   "outputs": [],
   "source": [
    "from qcodes.dataset.data_set import load_by_id\n",
    "from qcodes.dataset.data_export import get_data_by_id"
   ]
  },
  {
   "cell_type": "markdown",
   "metadata": {},
   "source": [
    "As usual you can load the data by using the ``load_by_id`` function but you will notice that the different storage methods\n",
    "are reflected in shape of the data as it is retrieved. "
   ]
  },
  {
   "cell_type": "code",
   "execution_count": 10,
   "metadata": {
    "execution": {
     "iopub.execute_input": "2020-09-28T12:25:03.298358Z",
     "iopub.status.busy": "2020-09-28T12:25:03.297636Z",
     "iopub.status.idle": "2020-09-28T12:25:03.300640Z",
     "shell.execute_reply": "2020-09-28T12:25:03.300088Z"
    }
   },
   "outputs": [],
   "source": [
    "run_id_n = t_numeric_run_ids[0]\n",
    "run_id_a = t_array_run_ids[0]"
   ]
  },
  {
   "cell_type": "code",
   "execution_count": 11,
   "metadata": {
    "execution": {
     "iopub.execute_input": "2020-09-28T12:25:03.304613Z",
     "iopub.status.busy": "2020-09-28T12:25:03.303967Z",
     "iopub.status.idle": "2020-09-28T12:25:03.314918Z",
     "shell.execute_reply": "2020-09-28T12:25:03.315475Z"
    },
    "scrolled": true
   },
   "outputs": [
    {
     "data": {
      "text/plain": [
       "{'x1': {'x1': array([0.43983597, 0.43983597, 0.941174  , 0.941174  , 0.51640756,\n",
       "         0.51640756, 0.43083198, 0.43083198, 0.93144245, 0.93144245,\n",
       "         0.83425967, 0.83425967, 0.3734845 , 0.3734845 , 0.79432151,\n",
       "         0.79432151, 0.29666612, 0.29666612, 0.85107919, 0.85107919,\n",
       "         0.253024  , 0.253024  , 0.91399584, 0.91399584, 0.86232888,\n",
       "         0.86232888, 0.99420111, 0.99420111, 0.16913254, 0.16913254,\n",
       "         0.54098905, 0.54098905, 0.6302653 , 0.6302653 , 0.30091292,\n",
       "         0.30091292, 0.43178449, 0.43178449, 0.12472802, 0.12472802,\n",
       "         0.30179908, 0.30179908, 0.50429653, 0.50429653, 0.99796761,\n",
       "         0.99796761, 0.38760315, 0.38760315, 0.7605343 , 0.7605343 ,\n",
       "         0.39082781, 0.39082781, 0.11337375, 0.11337375, 0.8077419 ,\n",
       "         0.8077419 , 0.13484662, 0.13484662, 0.75159792, 0.75159792,\n",
       "         0.45857336, 0.45857336, 0.67496036, 0.67496036, 0.94378793,\n",
       "         0.94378793, 0.89791378, 0.89791378, 0.1292952 , 0.1292952 ,\n",
       "         0.31188923, 0.31188923, 0.23154047, 0.23154047, 0.62743916,\n",
       "         0.62743916, 0.18892287, 0.18892287, 0.39590243, 0.39590243,\n",
       "         0.86767101, 0.86767101, 0.37222573, 0.37222573, 0.67560161,\n",
       "         0.67560161, 0.72465127, 0.72465127, 0.72206999, 0.72206999,\n",
       "         0.96588962, 0.96588962, 0.66247462, 0.66247462, 0.72255287,\n",
       "         0.72255287, 0.92783033, 0.92783033, 0.05406327, 0.05406327,\n",
       "         0.89249169, 0.89249169, 0.05340478, 0.05340478, 0.45005704,\n",
       "         0.45005704, 0.01900483, 0.01900483, 0.14461377, 0.14461377,\n",
       "         0.83446641, 0.83446641, 0.91549628, 0.91549628, 0.22887525,\n",
       "         0.22887525, 0.71849488, 0.71849488, 0.54249536, 0.54249536,\n",
       "         0.69850163, 0.69850163, 0.59475015, 0.59475015, 0.54036883,\n",
       "         0.54036883, 0.40386849, 0.40386849, 0.66682558, 0.66682558,\n",
       "         0.97425979, 0.97425979, 0.0811012 , 0.0811012 , 0.25549457,\n",
       "         0.25549457, 0.22479189, 0.22479189, 0.34132732, 0.34132732,\n",
       "         0.0108897 , 0.0108897 , 0.88104347, 0.88104347, 0.3122436 ,\n",
       "         0.3122436 , 0.68408812, 0.68408812, 0.39051468, 0.39051468,\n",
       "         0.88993432, 0.88993432, 0.46107385, 0.46107385, 0.72266301,\n",
       "         0.72266301, 0.20625114, 0.20625114, 0.13224331, 0.13224331,\n",
       "         0.36539471, 0.36539471, 0.67944775, 0.67944775, 0.68690041,\n",
       "         0.68690041, 0.96276999, 0.96276999, 0.93069201, 0.93069201,\n",
       "         0.45088117, 0.45088117, 0.17486788, 0.17486788, 0.39324392,\n",
       "         0.39324392, 0.79606096, 0.79606096, 0.40993007, 0.40993007,\n",
       "         0.7972065 , 0.7972065 , 0.20801115, 0.20801115, 0.95806775,\n",
       "         0.95806775, 0.84924349, 0.84924349, 0.21420575, 0.21420575,\n",
       "         0.8040259 , 0.8040259 , 0.9231941 , 0.9231941 , 0.75301174,\n",
       "         0.75301174, 0.99515417, 0.99515417, 0.83094731, 0.83094731])}}"
      ]
     },
     "execution_count": 1,
     "metadata": {},
     "output_type": "execute_result"
    }
   ],
   "source": [
    "ds = load_by_id(run_id_n)\n",
    "ds.get_parameter_data('x1')"
   ]
  },
  {
   "cell_type": "markdown",
   "metadata": {},
   "source": [
    "And a dataset stored as binary arrays"
   ]
  },
  {
   "cell_type": "code",
   "execution_count": 12,
   "metadata": {
    "execution": {
     "iopub.execute_input": "2020-09-28T12:25:03.320046Z",
     "iopub.status.busy": "2020-09-28T12:25:03.319389Z",
     "iopub.status.idle": "2020-09-28T12:25:03.382168Z",
     "shell.execute_reply": "2020-09-28T12:25:03.382729Z"
    },
    "scrolled": true
   },
   "outputs": [
    {
     "data": {
      "text/plain": [
       "{'x1': {'x1': array([[0.81870438],\n",
       "         [0.81870438],\n",
       "         [0.48700791],\n",
       "         [0.48700791],\n",
       "         [0.03409714],\n",
       "         [0.03409714],\n",
       "         [0.33170001],\n",
       "         [0.33170001],\n",
       "         [0.89389175],\n",
       "         [0.89389175],\n",
       "         [0.01405086],\n",
       "         [0.01405086],\n",
       "         [0.6783464 ],\n",
       "         [0.6783464 ],\n",
       "         [0.17444393],\n",
       "         [0.17444393],\n",
       "         [0.82095784],\n",
       "         [0.82095784],\n",
       "         [0.88014955],\n",
       "         [0.88014955],\n",
       "         [0.00329404],\n",
       "         [0.00329404],\n",
       "         [0.32851739],\n",
       "         [0.32851739],\n",
       "         [0.29172413],\n",
       "         [0.29172413],\n",
       "         [0.51278291],\n",
       "         [0.51278291],\n",
       "         [0.68150944],\n",
       "         [0.68150944],\n",
       "         [0.20626989],\n",
       "         [0.20626989],\n",
       "         [0.79886737],\n",
       "         [0.79886737],\n",
       "         [0.63242074],\n",
       "         [0.63242074],\n",
       "         [0.40609082],\n",
       "         [0.40609082],\n",
       "         [0.35960192],\n",
       "         [0.35960192],\n",
       "         [0.72317363],\n",
       "         [0.72317363],\n",
       "         [0.75432447],\n",
       "         [0.75432447],\n",
       "         [0.59514946],\n",
       "         [0.59514946],\n",
       "         [0.59758068],\n",
       "         [0.59758068],\n",
       "         [0.63267307],\n",
       "         [0.63267307],\n",
       "         [0.00416044],\n",
       "         [0.00416044],\n",
       "         [0.36536573],\n",
       "         [0.36536573],\n",
       "         [0.34670358],\n",
       "         [0.34670358],\n",
       "         [0.22297697],\n",
       "         [0.22297697],\n",
       "         [0.54646126],\n",
       "         [0.54646126],\n",
       "         [0.01317244],\n",
       "         [0.01317244],\n",
       "         [0.43199713],\n",
       "         [0.43199713],\n",
       "         [0.76726227],\n",
       "         [0.76726227],\n",
       "         [0.97151627],\n",
       "         [0.97151627],\n",
       "         [0.45840363],\n",
       "         [0.45840363],\n",
       "         [0.15583288],\n",
       "         [0.15583288],\n",
       "         [0.20544137],\n",
       "         [0.20544137],\n",
       "         [0.66114724],\n",
       "         [0.66114724],\n",
       "         [0.74200358],\n",
       "         [0.74200358],\n",
       "         [0.13804183],\n",
       "         [0.13804183],\n",
       "         [0.4315271 ],\n",
       "         [0.4315271 ],\n",
       "         [0.07669246],\n",
       "         [0.07669246],\n",
       "         [0.69350565],\n",
       "         [0.69350565],\n",
       "         [0.23615826],\n",
       "         [0.23615826],\n",
       "         [0.2802411 ],\n",
       "         [0.2802411 ],\n",
       "         [0.73160063],\n",
       "         [0.73160063],\n",
       "         [0.56460631],\n",
       "         [0.56460631],\n",
       "         [0.70767312],\n",
       "         [0.70767312],\n",
       "         [0.60737732],\n",
       "         [0.60737732],\n",
       "         [0.69214564],\n",
       "         [0.69214564],\n",
       "         [0.29443085],\n",
       "         [0.29443085],\n",
       "         [0.80306133],\n",
       "         [0.80306133],\n",
       "         [0.70920273],\n",
       "         [0.70920273],\n",
       "         [0.6089437 ],\n",
       "         [0.6089437 ],\n",
       "         [0.19042282],\n",
       "         [0.19042282],\n",
       "         [0.37132641],\n",
       "         [0.37132641],\n",
       "         [0.23820741],\n",
       "         [0.23820741],\n",
       "         [0.93762821],\n",
       "         [0.93762821],\n",
       "         [0.97769156],\n",
       "         [0.97769156],\n",
       "         [0.67859338],\n",
       "         [0.67859338],\n",
       "         [0.69311196],\n",
       "         [0.69311196],\n",
       "         [0.76372372],\n",
       "         [0.76372372],\n",
       "         [0.91570493],\n",
       "         [0.91570493],\n",
       "         [0.04355403],\n",
       "         [0.04355403],\n",
       "         [0.95702717],\n",
       "         [0.95702717],\n",
       "         [0.12888717],\n",
       "         [0.12888717],\n",
       "         [0.82025565],\n",
       "         [0.82025565],\n",
       "         [0.86799874],\n",
       "         [0.86799874],\n",
       "         [0.24923011],\n",
       "         [0.24923011],\n",
       "         [0.87228661],\n",
       "         [0.87228661],\n",
       "         [0.91208409],\n",
       "         [0.91208409],\n",
       "         [0.79727109],\n",
       "         [0.79727109],\n",
       "         [0.05777623],\n",
       "         [0.05777623],\n",
       "         [0.22685811],\n",
       "         [0.22685811],\n",
       "         [0.12428623],\n",
       "         [0.12428623],\n",
       "         [0.24037085],\n",
       "         [0.24037085],\n",
       "         [0.01084635],\n",
       "         [0.01084635],\n",
       "         [0.10006991],\n",
       "         [0.10006991],\n",
       "         [0.90189328],\n",
       "         [0.90189328],\n",
       "         [0.27946129],\n",
       "         [0.27946129],\n",
       "         [0.963805  ],\n",
       "         [0.963805  ],\n",
       "         [0.15764086],\n",
       "         [0.15764086],\n",
       "         [0.79192706],\n",
       "         [0.79192706],\n",
       "         [0.78477892],\n",
       "         [0.78477892],\n",
       "         [0.27817647],\n",
       "         [0.27817647],\n",
       "         [0.12704461],\n",
       "         [0.12704461],\n",
       "         [0.86295907],\n",
       "         [0.86295907],\n",
       "         [0.90060374],\n",
       "         [0.90060374],\n",
       "         [0.37279432],\n",
       "         [0.37279432],\n",
       "         [0.9578086 ],\n",
       "         [0.9578086 ],\n",
       "         [0.59630285],\n",
       "         [0.59630285],\n",
       "         [0.77775063],\n",
       "         [0.77775063],\n",
       "         [0.8316107 ],\n",
       "         [0.8316107 ],\n",
       "         [0.14413419],\n",
       "         [0.14413419],\n",
       "         [0.13523134],\n",
       "         [0.13523134],\n",
       "         [0.86420116],\n",
       "         [0.86420116],\n",
       "         [0.12653452],\n",
       "         [0.12653452],\n",
       "         [0.17472492],\n",
       "         [0.17472492],\n",
       "         [0.41207232],\n",
       "         [0.41207232],\n",
       "         [0.41199639],\n",
       "         [0.41199639]])}}"
      ]
     },
     "execution_count": 1,
     "metadata": {},
     "output_type": "execute_result"
    }
   ],
   "source": [
    "ds = load_by_id(run_id_a)\n",
    "ds.get_parameter_data('x1')"
   ]
  },
  {
   "cell_type": "code",
   "execution_count": null,
   "metadata": {},
   "outputs": [],
   "source": []
  }
 ],
 "metadata": {
  "kernelspec": {
   "display_name": "Python 3",
   "language": "python",
   "name": "python3"
  },
  "language_info": {
   "codemirror_mode": {
    "name": "ipython",
    "version": 3
   },
   "file_extension": ".py",
   "mimetype": "text/x-python",
   "name": "python",
   "nbconvert_exporter": "python",
   "pygments_lexer": "ipython3",
   "version": "3.7.7"
  },
  "nbsphinx": {
   "timeout": 600
  },
  "toc": {
   "base_numbering": 1,
   "nav_menu": {},
   "number_sections": true,
   "sideBar": true,
   "skip_h1_title": false,
   "title_cell": "Table of Contents",
   "title_sidebar": "Contents",
   "toc_cell": false,
   "toc_position": {},
   "toc_section_display": true,
   "toc_window_display": false
  },
  "varInspector": {
   "cols": {
    "lenName": 16,
    "lenType": 16,
    "lenVar": 40
   },
   "kernels_config": {
    "python": {
     "delete_cmd_postfix": "",
     "delete_cmd_prefix": "del ",
     "library": "var_list.py",
     "varRefreshCmd": "print(var_dic_list())"
    },
    "r": {
     "delete_cmd_postfix": ") ",
     "delete_cmd_prefix": "rm(",
     "library": "var_list.r",
     "varRefreshCmd": "cat(var_dic_list()) "
    }
   },
   "types_to_exclude": [
    "module",
    "function",
    "builtin_function_or_method",
    "instance",
    "_Feature"
   ],
   "window_display": false
  }
 },
 "nbformat": 4,
 "nbformat_minor": 2
}
