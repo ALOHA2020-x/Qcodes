{
 "cells": [
  {
   "cell_type": "markdown",
   "metadata": {},
   "source": [
    "# DataSet Performance\n",
    "\n",
    "This notebook shows the trade-off between inserting data into a database row-by-row and as binary blobs. Inserting the data row-by-row means that we have direct access to all the data and may perform queries directly on the values of the data. On the other hand, as we shall see, this is much slower than inserting the data directly as binary blobs."
   ]
  },
  {
   "cell_type": "markdown",
   "metadata": {},
   "source": [
    "First, we choose a new location for the database to ensure that we don't add a bunch of benchmarking data to the default one."
   ]
  },
  {
   "cell_type": "code",
   "execution_count": 1,
   "metadata": {
    "execution": {
     "iopub.execute_input": "2020-12-24T10:33:16.502173Z",
     "iopub.status.busy": "2020-12-24T10:33:16.501393Z",
     "iopub.status.idle": "2020-12-24T10:33:17.390704Z",
     "shell.execute_reply": "2020-12-24T10:33:17.391134Z"
    }
   },
   "outputs": [
    {
     "name": "stdout",
     "output_type": "stream",
     "text": [
      "Logging hadn't been started.\n",
      "Activating auto-logging. Current session state plus future input saved.\n",
      "Filename       : /home/vsts/.qcodes/logs/command_history.log\n",
      "Mode           : append\n",
      "Output logging : True\n",
      "Raw input log  : False\n",
      "Timestamping   : True\n",
      "State          : active\n"
     ]
    },
    {
     "name": "stdout",
     "output_type": "stream",
     "text": [
      "Qcodes Logfile : /home/vsts/.qcodes/logs/201224-13395-qcodes.log\n"
     ]
    }
   ],
   "source": [
    "import os\n",
    "cwd = os.getcwd()\n",
    "import qcodes as qc\n",
    "qc.config[\"core\"][\"db_location\"] = os.path.join(cwd, 'testing.db')\n"
   ]
  },
  {
   "cell_type": "code",
   "execution_count": 2,
   "metadata": {
    "execution": {
     "iopub.execute_input": "2020-12-24T10:33:17.398141Z",
     "iopub.status.busy": "2020-12-24T10:33:17.396878Z",
     "iopub.status.idle": "2020-12-24T10:33:17.555887Z",
     "shell.execute_reply": "2020-12-24T10:33:17.555316Z"
    }
   },
   "outputs": [],
   "source": [
    "%matplotlib inline\n",
    "import time\n",
    "import matplotlib.pyplot as plt\n",
    "import numpy as np\n",
    "\n",
    "import qcodes as qc\n",
    "from qcodes.instrument.parameter import ManualParameter\n",
    "from qcodes.dataset.experiment_container import (Experiment,\n",
    "                                                 load_last_experiment,\n",
    "                                                 new_experiment)\n",
    "from qcodes.dataset.sqlite.database import initialise_database\n",
    "from qcodes import load_or_create_experiment\n",
    "from qcodes.dataset.measurements import Measurement"
   ]
  },
  {
   "cell_type": "code",
   "execution_count": 3,
   "metadata": {
    "execution": {
     "iopub.execute_input": "2020-12-24T10:33:17.559210Z",
     "iopub.status.busy": "2020-12-24T10:33:17.558764Z",
     "iopub.status.idle": "2020-12-24T10:33:17.675550Z",
     "shell.execute_reply": "2020-12-24T10:33:17.675129Z"
    }
   },
   "outputs": [
    {
     "name": "stdout",
     "output_type": "stream",
     "text": [
      "\r",
      "0it [00:00, ?it/s]"
     ]
    },
    {
     "name": "stdout",
     "output_type": "stream",
     "text": [
      "\r",
      "Upgrading database; v0 -> v1: : 0it [00:00, ?it/s]"
     ]
    },
    {
     "name": "stdout",
     "output_type": "stream",
     "text": [
      "\r",
      "Upgrading database; v0 -> v1: : 0it [00:00, ?it/s]"
     ]
    },
    {
     "name": "stdout",
     "output_type": "stream",
     "text": [
      "\n",
      "\r",
      "  0%|          | 0/1 [00:00<?, ?it/s]"
     ]
    },
    {
     "name": "stdout",
     "output_type": "stream",
     "text": [
      "\r",
      "Upgrading database; v1 -> v2:   0%|          | 0/1 [00:00<?, ?it/s]"
     ]
    },
    {
     "name": "stdout",
     "output_type": "stream",
     "text": [
      "\r",
      "Upgrading database; v1 -> v2: 100%|██████████| 1/1 [00:00<00:00, 1404.66it/s]"
     ]
    },
    {
     "name": "stdout",
     "output_type": "stream",
     "text": [
      "\n",
      "\r",
      "0it [00:00, ?it/s]"
     ]
    },
    {
     "name": "stdout",
     "output_type": "stream",
     "text": [
      "\r",
      "Upgrading database; v2 -> v3: : 0it [00:00, ?it/s]"
     ]
    },
    {
     "name": "stdout",
     "output_type": "stream",
     "text": [
      "\r",
      "Upgrading database; v2 -> v3: : 0it [00:00, ?it/s]"
     ]
    },
    {
     "name": "stdout",
     "output_type": "stream",
     "text": [
      "\n",
      "\r",
      "0it [00:00, ?it/s]"
     ]
    },
    {
     "name": "stdout",
     "output_type": "stream",
     "text": [
      "\r",
      "Upgrading database; v3 -> v4: : 0it [00:00, ?it/s]"
     ]
    },
    {
     "name": "stdout",
     "output_type": "stream",
     "text": [
      "\r",
      "Upgrading database; v3 -> v4: : 0it [00:00, ?it/s]"
     ]
    },
    {
     "name": "stdout",
     "output_type": "stream",
     "text": [
      "\n",
      "\r",
      "  0%|          | 0/1 [00:00<?, ?it/s]"
     ]
    },
    {
     "name": "stdout",
     "output_type": "stream",
     "text": [
      "\r",
      "Upgrading database; v4 -> v5:   0%|          | 0/1 [00:00<?, ?it/s]"
     ]
    },
    {
     "name": "stdout",
     "output_type": "stream",
     "text": [
      "\r",
      "Upgrading database; v4 -> v5: 100%|██████████| 1/1 [00:00<00:00, 511.19it/s]"
     ]
    },
    {
     "name": "stdout",
     "output_type": "stream",
     "text": [
      "\n",
      "\r",
      "0it [00:00, ?it/s]"
     ]
    },
    {
     "name": "stdout",
     "output_type": "stream",
     "text": [
      "\r",
      "Upgrading database; v5 -> v6: : 0it [00:00, ?it/s]"
     ]
    },
    {
     "name": "stdout",
     "output_type": "stream",
     "text": [
      "\r",
      "Upgrading database; v5 -> v6: : 0it [00:00, ?it/s]"
     ]
    },
    {
     "name": "stdout",
     "output_type": "stream",
     "text": [
      "\n",
      "\r",
      "  0%|          | 0/1 [00:00<?, ?it/s]"
     ]
    },
    {
     "name": "stdout",
     "output_type": "stream",
     "text": [
      "\r",
      "Upgrading database; v6 -> v7:   0%|          | 0/1 [00:00<?, ?it/s]"
     ]
    },
    {
     "name": "stdout",
     "output_type": "stream",
     "text": [
      "\r",
      "Upgrading database; v6 -> v7: 100%|██████████| 1/1 [00:00<00:00, 268.26it/s]"
     ]
    },
    {
     "name": "stdout",
     "output_type": "stream",
     "text": [
      "\n",
      "\r",
      "  0%|          | 0/1 [00:00<?, ?it/s]"
     ]
    },
    {
     "name": "stdout",
     "output_type": "stream",
     "text": [
      "\r",
      "Upgrading database; v7 -> v8:   0%|          | 0/1 [00:00<?, ?it/s]"
     ]
    },
    {
     "name": "stdout",
     "output_type": "stream",
     "text": [
      "\r",
      "Upgrading database; v7 -> v8: 100%|██████████| 1/1 [00:00<00:00, 532.61it/s]"
     ]
    },
    {
     "name": "stdout",
     "output_type": "stream",
     "text": [
      "\n",
      "\r",
      "  0%|          | 0/1 [00:00<?, ?it/s]"
     ]
    },
    {
     "name": "stdout",
     "output_type": "stream",
     "text": [
      "\r",
      "Upgrading database; v8 -> v9:   0%|          | 0/1 [00:00<?, ?it/s]"
     ]
    },
    {
     "name": "stdout",
     "output_type": "stream",
     "text": [
      "\r",
      "Upgrading database; v8 -> v9: 100%|██████████| 1/1 [00:00<00:00, 555.98it/s]"
     ]
    },
    {
     "name": "stdout",
     "output_type": "stream",
     "text": [
      "\n"
     ]
    }
   ],
   "source": [
    "initialise_database()\n",
    "exp = load_or_create_experiment(experiment_name='tutorial_exp', sample_name=\"no sample\")"
   ]
  },
  {
   "cell_type": "markdown",
   "metadata": {},
   "source": [
    "Here, we define a simple function to benchmark the time it takes to insert n points with either numeric or array data type.\n",
    "We will compare both the time used to call ``add_result`` and the time used for the full measurement."
   ]
  },
  {
   "cell_type": "code",
   "execution_count": 4,
   "metadata": {
    "execution": {
     "iopub.execute_input": "2020-12-24T10:33:17.682874Z",
     "iopub.status.busy": "2020-12-24T10:33:17.682420Z",
     "iopub.status.idle": "2020-12-24T10:33:17.685975Z",
     "shell.execute_reply": "2020-12-24T10:33:17.685506Z"
    }
   },
   "outputs": [],
   "source": [
    "def insert_data(paramtype, npoints, nreps=1):\n",
    "\n",
    "    meas = Measurement(exp=exp)\n",
    "\n",
    "    x1 = ManualParameter('x1')\n",
    "    x2 = ManualParameter('x2')\n",
    "    x3 = ManualParameter('x3')\n",
    "    y1 = ManualParameter('y1')\n",
    "    y2 = ManualParameter('y2')\n",
    "\n",
    "    meas.register_parameter(x1, paramtype=paramtype)\n",
    "    meas.register_parameter(x2, paramtype=paramtype)\n",
    "    meas.register_parameter(x3, paramtype=paramtype)\n",
    "    meas.register_parameter(y1, setpoints=[x1, x2, x3],\n",
    "                            paramtype=paramtype)\n",
    "    meas.register_parameter(y2, setpoints=[x1, x2, x3],\n",
    "                            paramtype=paramtype)\n",
    "    start = time.perf_counter()\n",
    "    with meas.run() as datasaver:\n",
    "        start_adding = time.perf_counter()\n",
    "        for i in range(nreps):\n",
    "            datasaver.add_result((x1, np.random.rand(npoints)),\n",
    "                                 (x2, np.random.rand(npoints)),\n",
    "                                 (x3, np.random.rand(npoints)),\n",
    "                                 (y1, np.random.rand(npoints)),\n",
    "                                 (y2, np.random.rand(npoints)))\n",
    "        stop_adding = time.perf_counter()\n",
    "        run_id = datasaver.run_id\n",
    "    stop = time.perf_counter()\n",
    "    tot_time = stop - start\n",
    "    add_time = stop_adding - start_adding\n",
    "    return tot_time, add_time, run_id"
   ]
  },
  {
   "cell_type": "markdown",
   "metadata": {},
   "source": [
    "## Comparison between numeric/array data and binary blob"
   ]
  },
  {
   "cell_type": "markdown",
   "metadata": {},
   "source": [
    "### Case1: Short experiment time"
   ]
  },
  {
   "cell_type": "code",
   "execution_count": 5,
   "metadata": {
    "execution": {
     "iopub.execute_input": "2020-12-24T10:33:17.691490Z",
     "iopub.status.busy": "2020-12-24T10:33:17.691031Z",
     "iopub.status.idle": "2020-12-24T10:33:18.414627Z",
     "shell.execute_reply": "2020-12-24T10:33:18.415001Z"
    }
   },
   "outputs": [
    {
     "name": "stdout",
     "output_type": "stream",
     "text": [
      "Starting experimental run with id: 1. \n",
      "Starting experimental run with id: 2. \n",
      "Starting experimental run with id: 3. \n",
      "Starting experimental run with id: 4. \n",
      "Starting experimental run with id: 5. \n"
     ]
    },
    {
     "name": "stdout",
     "output_type": "stream",
     "text": [
      "Starting experimental run with id: 6. \n"
     ]
    },
    {
     "name": "stdout",
     "output_type": "stream",
     "text": [
      "Starting experimental run with id: 7. \n"
     ]
    },
    {
     "name": "stdout",
     "output_type": "stream",
     "text": [
      "Starting experimental run with id: 8. \n",
      "Starting experimental run with id: 9. \n"
     ]
    },
    {
     "name": "stdout",
     "output_type": "stream",
     "text": [
      "Starting experimental run with id: 10. \n",
      "Starting experimental run with id: 11. \n"
     ]
    },
    {
     "name": "stdout",
     "output_type": "stream",
     "text": [
      "Starting experimental run with id: 12. \n",
      "Starting experimental run with id: 13. \n"
     ]
    },
    {
     "name": "stdout",
     "output_type": "stream",
     "text": [
      "Starting experimental run with id: 14. \n"
     ]
    }
   ],
   "source": [
    "sizes = [1,500,1000,2000,3000,4000,5000]\n",
    "t_numeric = []\n",
    "t_numeric_add = []\n",
    "t_array = []\n",
    "t_array_add = []\n",
    "for size in sizes:\n",
    "    tn, tna, run_id_n =  insert_data('numeric', size)\n",
    "    t_numeric.append(tn)\n",
    "    t_numeric_add.append(tna)\n",
    "\n",
    "    ta, taa, run_id_a =  insert_data('array', size)\n",
    "    t_array.append(ta)\n",
    "    t_array_add.append(taa)"
   ]
  },
  {
   "cell_type": "code",
   "execution_count": 6,
   "metadata": {
    "execution": {
     "iopub.execute_input": "2020-12-24T10:33:18.429534Z",
     "iopub.status.busy": "2020-12-24T10:33:18.419877Z",
     "iopub.status.idle": "2020-12-24T10:33:18.600669Z",
     "shell.execute_reply": "2020-12-24T10:33:18.600242Z"
    }
   },
   "outputs": [
    {
     "data": {
      "image/png": "[encoded data removed]",
      "text/plain": [
       "<Figure size 432x288 with 1 Axes>"
      ]
     },
     "metadata": {
      "needs_background": "light"
     },
     "output_type": "display_data"
    }
   ],
   "source": [
    "fig, ax = plt.subplots(1,1)\n",
    "ax.plot(sizes, t_numeric, 'o-', label='Inserting row-by-row')\n",
    "ax.plot(sizes, t_numeric_add, 'o-', label='Inserting row-by-row: add_result only')\n",
    "ax.plot(sizes, t_array, 'd-', label='Inserting as binary blob')\n",
    "ax.plot(sizes, t_array_add, 'd-', label='Inserting as binary blob: add_result only')\n",
    "ax.legend()\n",
    "ax.set_xlabel('Array length')\n",
    "ax.set_ylabel('Time (s)')\n",
    "fig.tight_layout()"
   ]
  },
  {
   "cell_type": "markdown",
   "metadata": {},
   "source": [
    "As shown in the latter figure, the time to setup and and close the experiment is approximately 0.4 sec. In case of small array sizes, the difference between inserting values of data as arrays and inserting them row-by-row is relatively unimportant. At larger array sizes, i.e. above 10000 points, the cost of writing data as individual datapoints starts to become important.\n"
   ]
  },
  {
   "cell_type": "markdown",
   "metadata": {},
   "source": [
    "### Case2: Long experiment time "
   ]
  },
  {
   "cell_type": "code",
   "execution_count": 7,
   "metadata": {
    "execution": {
     "iopub.execute_input": "2020-12-24T10:33:18.606514Z",
     "iopub.status.busy": "2020-12-24T10:33:18.605608Z",
     "iopub.status.idle": "2020-12-24T10:34:10.957235Z",
     "shell.execute_reply": "2020-12-24T10:34:10.956407Z"
    }
   },
   "outputs": [
    {
     "name": "stdout",
     "output_type": "stream",
     "text": [
      "Starting experimental run with id: 15. \n",
      "Starting experimental run with id: 16. \n",
      "Starting experimental run with id: 17. \n"
     ]
    },
    {
     "name": "stdout",
     "output_type": "stream",
     "text": [
      "Starting experimental run with id: 18. \n",
      "Starting experimental run with id: 19. \n"
     ]
    },
    {
     "name": "stdout",
     "output_type": "stream",
     "text": [
      "Starting experimental run with id: 20. \n"
     ]
    },
    {
     "name": "stdout",
     "output_type": "stream",
     "text": [
      "Starting experimental run with id: 21. \n"
     ]
    },
    {
     "name": "stdout",
     "output_type": "stream",
     "text": [
      "Starting experimental run with id: 22. \n"
     ]
    },
    {
     "name": "stdout",
     "output_type": "stream",
     "text": [
      "Starting experimental run with id: 23. \n"
     ]
    },
    {
     "name": "stdout",
     "output_type": "stream",
     "text": [
      "Starting experimental run with id: 24. \n"
     ]
    },
    {
     "name": "stdout",
     "output_type": "stream",
     "text": [
      "Starting experimental run with id: 25. \n"
     ]
    },
    {
     "name": "stdout",
     "output_type": "stream",
     "text": [
      "Starting experimental run with id: 26. \n"
     ]
    },
    {
     "name": "stdout",
     "output_type": "stream",
     "text": [
      "Starting experimental run with id: 27. \n"
     ]
    },
    {
     "name": "stdout",
     "output_type": "stream",
     "text": [
      "Starting experimental run with id: 28. \n"
     ]
    }
   ],
   "source": [
    "sizes = [1,500,1000,2000,3000,4000,5000]\n",
    "nreps = 100\n",
    "t_numeric = []\n",
    "t_numeric_add = []\n",
    "t_numeric_run_ids = []\n",
    "t_array = []\n",
    "t_array_add = []\n",
    "t_array_run_ids = []\n",
    "for size in sizes:\n",
    "    tn, tna, run_id_n =  insert_data('numeric', size, nreps=nreps)\n",
    "    t_numeric.append(tn)\n",
    "    t_numeric_add.append(tna)\n",
    "    t_numeric_run_ids.append(run_id_n)\n",
    "\n",
    "    ta, taa, run_id_a =  insert_data('array', size, nreps=nreps)\n",
    "    t_array.append(ta)\n",
    "    t_array_add.append(taa)\n",
    "    t_array_run_ids.append(run_id_a)"
   ]
  },
  {
   "cell_type": "code",
   "execution_count": 8,
   "metadata": {
    "execution": {
     "iopub.execute_input": "2020-12-24T10:34:10.983076Z",
     "iopub.status.busy": "2020-12-24T10:34:10.972203Z",
     "iopub.status.idle": "2020-12-24T10:34:11.134298Z",
     "shell.execute_reply": "2020-12-24T10:34:11.133569Z"
    },
    "scrolled": true
   },
   "outputs": [
    {
     "data": {
      "image/png": "[encoded data removed]",
      "text/plain": [
       "<Figure size 432x288 with 1 Axes>"
      ]
     },
     "metadata": {
      "needs_background": "light"
     },
     "output_type": "display_data"
    }
   ],
   "source": [
    "fig, ax = plt.subplots(1,1)\n",
    "ax.plot(sizes, t_numeric, 'o-', label='Inserting row-by-row')\n",
    "ax.plot(sizes, t_numeric_add, 'o-', label='Inserting row-by-row: add_result only')\n",
    "ax.plot(sizes, t_array, 'd-', label='Inserting as binary blob')\n",
    "ax.plot(sizes, t_array_add, 'd-', label='Inserting as binary blob: add_result only')\n",
    "ax.legend()\n",
    "ax.set_xlabel('Array length')\n",
    "ax.set_ylabel('Time (s)')\n",
    "fig.tight_layout()"
   ]
  },
  {
   "cell_type": "markdown",
   "metadata": {},
   "source": [
    "However, as we increase the length of the experiment, as seen here by repeating the insertion 100 times, we see a big difference between inserting values of the data row-by-row and inserting it as a binary blob."
   ]
  },
  {
   "cell_type": "markdown",
   "metadata": {},
   "source": [
    "## Loading the data "
   ]
  },
  {
   "cell_type": "code",
   "execution_count": 9,
   "metadata": {
    "execution": {
     "iopub.execute_input": "2020-12-24T10:34:11.138058Z",
     "iopub.status.busy": "2020-12-24T10:34:11.137344Z",
     "iopub.status.idle": "2020-12-24T10:34:11.141317Z",
     "shell.execute_reply": "2020-12-24T10:34:11.140854Z"
    }
   },
   "outputs": [],
   "source": [
    "from qcodes.dataset.data_set import load_by_id\n",
    "from qcodes.dataset.data_export import get_data_by_id"
   ]
  },
  {
   "cell_type": "markdown",
   "metadata": {},
   "source": [
    "As usual you can load the data by using the ``load_by_id`` function but you will notice that the different storage methods\n",
    "are reflected in shape of the data as it is retrieved. "
   ]
  },
  {
   "cell_type": "code",
   "execution_count": 10,
   "metadata": {
    "execution": {
     "iopub.execute_input": "2020-12-24T10:34:11.145119Z",
     "iopub.status.busy": "2020-12-24T10:34:11.144102Z",
     "iopub.status.idle": "2020-12-24T10:34:11.147191Z",
     "shell.execute_reply": "2020-12-24T10:34:11.147754Z"
    }
   },
   "outputs": [],
   "source": [
    "run_id_n = t_numeric_run_ids[0]\n",
    "run_id_a = t_array_run_ids[0]"
   ]
  },
  {
   "cell_type": "code",
   "execution_count": 11,
   "metadata": {
    "execution": {
     "iopub.execute_input": "2020-12-24T10:34:11.150686Z",
     "iopub.status.busy": "2020-12-24T10:34:11.150248Z",
     "iopub.status.idle": "2020-12-24T10:34:11.159734Z",
     "shell.execute_reply": "2020-12-24T10:34:11.160186Z"
    },
    "scrolled": true
   },
   "outputs": [
    {
     "data": {
      "text/plain": [
       "{'x1': {'x1': array([0.13426521, 0.13426521, 0.11718746, 0.11718746, 0.23628559,\n",
       "         0.23628559, 0.59434769, 0.59434769, 0.24752375, 0.24752375,\n",
       "         0.05568112, 0.05568112, 0.50462608, 0.50462608, 0.72782837,\n",
       "         0.72782837, 0.0129461 , 0.0129461 , 0.21174097, 0.21174097,\n",
       "         0.59966812, 0.59966812, 0.26444156, 0.26444156, 0.78269282,\n",
       "         0.78269282, 0.00426699, 0.00426699, 0.14751145, 0.14751145,\n",
       "         0.57559436, 0.57559436, 0.78580505, 0.78580505, 0.13120961,\n",
       "         0.13120961, 0.31983733, 0.31983733, 0.27994203, 0.27994203,\n",
       "         0.27987674, 0.27987674, 0.40975341, 0.40975341, 0.96583646,\n",
       "         0.96583646, 0.41480138, 0.41480138, 0.07751813, 0.07751813,\n",
       "         0.00586588, 0.00586588, 0.8389587 , 0.8389587 , 0.33185189,\n",
       "         0.33185189, 0.54423617, 0.54423617, 0.9764463 , 0.9764463 ,\n",
       "         0.91263552, 0.91263552, 0.68577746, 0.68577746, 0.59063287,\n",
       "         0.59063287, 0.40468947, 0.40468947, 0.60452615, 0.60452615,\n",
       "         0.97282801, 0.97282801, 0.30061702, 0.30061702, 0.85235545,\n",
       "         0.85235545, 0.40844327, 0.40844327, 0.77365735, 0.77365735,\n",
       "         0.13480796, 0.13480796, 0.57025173, 0.57025173, 0.11675447,\n",
       "         0.11675447, 0.42592174, 0.42592174, 0.96889021, 0.96889021,\n",
       "         0.42783478, 0.42783478, 0.8462889 , 0.8462889 , 0.15206807,\n",
       "         0.15206807, 0.85427863, 0.85427863, 0.81545976, 0.81545976,\n",
       "         0.01905816, 0.01905816, 0.91308352, 0.91308352, 0.22873642,\n",
       "         0.22873642, 0.8231668 , 0.8231668 , 0.32829163, 0.32829163,\n",
       "         0.06253975, 0.06253975, 0.06378553, 0.06378553, 0.37575349,\n",
       "         0.37575349, 0.1980151 , 0.1980151 , 0.22061607, 0.22061607,\n",
       "         0.8903016 , 0.8903016 , 0.42836246, 0.42836246, 0.31426877,\n",
       "         0.31426877, 0.14054667, 0.14054667, 0.70004373, 0.70004373,\n",
       "         0.47972135, 0.47972135, 0.33550868, 0.33550868, 0.72789122,\n",
       "         0.72789122, 0.37519602, 0.37519602, 0.00841277, 0.00841277,\n",
       "         0.4032421 , 0.4032421 , 0.86253784, 0.86253784, 0.70379977,\n",
       "         0.70379977, 0.64731175, 0.64731175, 0.94379874, 0.94379874,\n",
       "         0.37095051, 0.37095051, 0.71367449, 0.71367449, 0.8969937 ,\n",
       "         0.8969937 , 0.84949372, 0.84949372, 0.79173995, 0.79173995,\n",
       "         0.22779862, 0.22779862, 0.88872112, 0.88872112, 0.29954562,\n",
       "         0.29954562, 0.19067937, 0.19067937, 0.65113602, 0.65113602,\n",
       "         0.32139106, 0.32139106, 0.92341568, 0.92341568, 0.21640703,\n",
       "         0.21640703, 0.70509097, 0.70509097, 0.41815357, 0.41815357,\n",
       "         0.359005  , 0.359005  , 0.19003323, 0.19003323, 0.40001797,\n",
       "         0.40001797, 0.60520543, 0.60520543, 0.02145287, 0.02145287,\n",
       "         0.01432228, 0.01432228, 0.43482389, 0.43482389, 0.37035882,\n",
       "         0.37035882, 0.82691565, 0.82691565, 0.99931278, 0.99931278])}}"
      ]
     },
     "execution_count": 1,
     "metadata": {},
     "output_type": "execute_result"
    }
   ],
   "source": [
    "ds = load_by_id(run_id_n)\n",
    "ds.get_parameter_data('x1')"
   ]
  },
  {
   "cell_type": "markdown",
   "metadata": {},
   "source": [
    "And a dataset stored as binary arrays"
   ]
  },
  {
   "cell_type": "code",
   "execution_count": 12,
   "metadata": {
    "execution": {
     "iopub.execute_input": "2020-12-24T10:34:11.163244Z",
     "iopub.status.busy": "2020-12-24T10:34:11.162814Z",
     "iopub.status.idle": "2020-12-24T10:34:11.211463Z",
     "shell.execute_reply": "2020-12-24T10:34:11.211054Z"
    },
    "scrolled": true
   },
   "outputs": [
    {
     "data": {
      "text/plain": [
       "{'x1': {'x1': array([[9.90381143e-01],\n",
       "         [9.90381143e-01],\n",
       "         [3.66585483e-02],\n",
       "         [3.66585483e-02],\n",
       "         [9.57133592e-01],\n",
       "         [9.57133592e-01],\n",
       "         [2.95537967e-01],\n",
       "         [2.95537967e-01],\n",
       "         [7.34306748e-01],\n",
       "         [7.34306748e-01],\n",
       "         [4.01134393e-01],\n",
       "         [4.01134393e-01],\n",
       "         [6.48811569e-01],\n",
       "         [6.48811569e-01],\n",
       "         [9.21075200e-01],\n",
       "         [9.21075200e-01],\n",
       "         [6.97987502e-01],\n",
       "         [6.97987502e-01],\n",
       "         [5.53122623e-01],\n",
       "         [5.53122623e-01],\n",
       "         [6.41606463e-01],\n",
       "         [6.41606463e-01],\n",
       "         [7.96139702e-01],\n",
       "         [7.96139702e-01],\n",
       "         [2.74363500e-01],\n",
       "         [2.74363500e-01],\n",
       "         [3.57258282e-03],\n",
       "         [3.57258282e-03],\n",
       "         [3.70316943e-01],\n",
       "         [3.70316943e-01],\n",
       "         [4.10565789e-01],\n",
       "         [4.10565789e-01],\n",
       "         [2.74059059e-01],\n",
       "         [2.74059059e-01],\n",
       "         [6.10850774e-01],\n",
       "         [6.10850774e-01],\n",
       "         [3.90156152e-01],\n",
       "         [3.90156152e-01],\n",
       "         [7.19970329e-01],\n",
       "         [7.19970329e-01],\n",
       "         [8.98190169e-01],\n",
       "         [8.98190169e-01],\n",
       "         [1.74743538e-02],\n",
       "         [1.74743538e-02],\n",
       "         [4.29637518e-01],\n",
       "         [4.29637518e-01],\n",
       "         [5.26338451e-01],\n",
       "         [5.26338451e-01],\n",
       "         [3.01502830e-01],\n",
       "         [3.01502830e-01],\n",
       "         [7.02220460e-02],\n",
       "         [7.02220460e-02],\n",
       "         [5.14109883e-01],\n",
       "         [5.14109883e-01],\n",
       "         [2.67553090e-01],\n",
       "         [2.67553090e-01],\n",
       "         [5.27758082e-01],\n",
       "         [5.27758082e-01],\n",
       "         [2.75676660e-01],\n",
       "         [2.75676660e-01],\n",
       "         [1.69780998e-01],\n",
       "         [1.69780998e-01],\n",
       "         [8.95408795e-01],\n",
       "         [8.95408795e-01],\n",
       "         [9.93596230e-02],\n",
       "         [9.93596230e-02],\n",
       "         [4.13515966e-01],\n",
       "         [4.13515966e-01],\n",
       "         [2.77422522e-01],\n",
       "         [2.77422522e-01],\n",
       "         [6.36504933e-01],\n",
       "         [6.36504933e-01],\n",
       "         [1.38911187e-01],\n",
       "         [1.38911187e-01],\n",
       "         [3.18494786e-02],\n",
       "         [3.18494786e-02],\n",
       "         [1.49284188e-01],\n",
       "         [1.49284188e-01],\n",
       "         [9.96273673e-01],\n",
       "         [9.96273673e-01],\n",
       "         [7.15995019e-01],\n",
       "         [7.15995019e-01],\n",
       "         [6.91120090e-01],\n",
       "         [6.91120090e-01],\n",
       "         [8.04844467e-01],\n",
       "         [8.04844467e-01],\n",
       "         [1.67907256e-01],\n",
       "         [1.67907256e-01],\n",
       "         [2.23474999e-01],\n",
       "         [2.23474999e-01],\n",
       "         [5.15457441e-01],\n",
       "         [5.15457441e-01],\n",
       "         [8.90118932e-01],\n",
       "         [8.90118932e-01],\n",
       "         [5.71237970e-01],\n",
       "         [5.71237970e-01],\n",
       "         [7.20386148e-01],\n",
       "         [7.20386148e-01],\n",
       "         [8.25922473e-01],\n",
       "         [8.25922473e-01],\n",
       "         [2.34188689e-01],\n",
       "         [2.34188689e-01],\n",
       "         [7.53006933e-01],\n",
       "         [7.53006933e-01],\n",
       "         [5.75905586e-01],\n",
       "         [5.75905586e-01],\n",
       "         [9.35572773e-01],\n",
       "         [9.35572773e-01],\n",
       "         [9.78463747e-01],\n",
       "         [9.78463747e-01],\n",
       "         [6.72408698e-01],\n",
       "         [6.72408698e-01],\n",
       "         [2.48469227e-01],\n",
       "         [2.48469227e-01],\n",
       "         [7.25493401e-01],\n",
       "         [7.25493401e-01],\n",
       "         [8.63375559e-01],\n",
       "         [8.63375559e-01],\n",
       "         [3.50041209e-01],\n",
       "         [3.50041209e-01],\n",
       "         [8.86885692e-01],\n",
       "         [8.86885692e-01],\n",
       "         [7.10349611e-01],\n",
       "         [7.10349611e-01],\n",
       "         [2.58156246e-01],\n",
       "         [2.58156246e-01],\n",
       "         [3.80307771e-01],\n",
       "         [3.80307771e-01],\n",
       "         [7.02749821e-01],\n",
       "         [7.02749821e-01],\n",
       "         [4.11126045e-01],\n",
       "         [4.11126045e-01],\n",
       "         [9.15240130e-01],\n",
       "         [9.15240130e-01],\n",
       "         [7.51261395e-01],\n",
       "         [7.51261395e-01],\n",
       "         [1.25512401e-01],\n",
       "         [1.25512401e-01],\n",
       "         [6.09841050e-01],\n",
       "         [6.09841050e-01],\n",
       "         [5.10077020e-01],\n",
       "         [5.10077020e-01],\n",
       "         [4.73838638e-01],\n",
       "         [4.73838638e-01],\n",
       "         [7.16406766e-01],\n",
       "         [7.16406766e-01],\n",
       "         [4.83237632e-02],\n",
       "         [4.83237632e-02],\n",
       "         [4.75077340e-01],\n",
       "         [4.75077340e-01],\n",
       "         [1.92787432e-01],\n",
       "         [1.92787432e-01],\n",
       "         [7.02005343e-01],\n",
       "         [7.02005343e-01],\n",
       "         [6.93826905e-02],\n",
       "         [6.93826905e-02],\n",
       "         [2.79133900e-01],\n",
       "         [2.79133900e-01],\n",
       "         [4.23095127e-01],\n",
       "         [4.23095127e-01],\n",
       "         [7.17443061e-01],\n",
       "         [7.17443061e-01],\n",
       "         [6.23697159e-04],\n",
       "         [6.23697159e-04],\n",
       "         [2.11417960e-01],\n",
       "         [2.11417960e-01],\n",
       "         [5.39704744e-01],\n",
       "         [5.39704744e-01],\n",
       "         [8.51364327e-01],\n",
       "         [8.51364327e-01],\n",
       "         [5.01238900e-01],\n",
       "         [5.01238900e-01],\n",
       "         [4.87695927e-01],\n",
       "         [4.87695927e-01],\n",
       "         [5.70746418e-01],\n",
       "         [5.70746418e-01],\n",
       "         [6.15448902e-01],\n",
       "         [6.15448902e-01],\n",
       "         [4.67320158e-03],\n",
       "         [4.67320158e-03],\n",
       "         [5.44846272e-01],\n",
       "         [5.44846272e-01],\n",
       "         [1.05998497e-01],\n",
       "         [1.05998497e-01],\n",
       "         [9.11275195e-01],\n",
       "         [9.11275195e-01],\n",
       "         [7.20401781e-01],\n",
       "         [7.20401781e-01],\n",
       "         [9.91256797e-01],\n",
       "         [9.91256797e-01],\n",
       "         [9.92896450e-01],\n",
       "         [9.92896450e-01],\n",
       "         [9.31396445e-02],\n",
       "         [9.31396445e-02],\n",
       "         [5.62058065e-01],\n",
       "         [5.62058065e-01],\n",
       "         [1.43198390e-01],\n",
       "         [1.43198390e-01],\n",
       "         [2.96348370e-01],\n",
       "         [2.96348370e-01]])}}"
      ]
     },
     "execution_count": 1,
     "metadata": {},
     "output_type": "execute_result"
    }
   ],
   "source": [
    "ds = load_by_id(run_id_a)\n",
    "ds.get_parameter_data('x1')"
   ]
  },
  {
   "cell_type": "code",
   "execution_count": null,
   "metadata": {},
   "outputs": [],
   "source": []
  }
 ],
 "metadata": {
  "kernelspec": {
   "display_name": "Python 3",
   "language": "python",
   "name": "python3"
  },
  "language_info": {
   "codemirror_mode": {
    "name": "ipython",
    "version": 3
   },
   "file_extension": ".py",
   "mimetype": "text/x-python",
   "name": "python",
   "nbconvert_exporter": "python",
   "pygments_lexer": "ipython3",
   "version": "3.7.9"
  },
  "nbsphinx": {
   "timeout": 600
  },
  "toc": {
   "base_numbering": 1,
   "nav_menu": {},
   "number_sections": true,
   "sideBar": true,
   "skip_h1_title": false,
   "title_cell": "Table of Contents",
   "title_sidebar": "Contents",
   "toc_cell": false,
   "toc_position": {},
   "toc_section_display": true,
   "toc_window_display": false
  },
  "varInspector": {
   "cols": {
    "lenName": 16,
    "lenType": 16,
    "lenVar": 40
   },
   "kernels_config": {
    "python": {
     "delete_cmd_postfix": "",
     "delete_cmd_prefix": "del ",
     "library": "var_list.py",
     "varRefreshCmd": "print(var_dic_list())"
    },
    "r": {
     "delete_cmd_postfix": ") ",
     "delete_cmd_prefix": "rm(",
     "library": "var_list.r",
     "varRefreshCmd": "cat(var_dic_list()) "
    }
   },
   "types_to_exclude": [
    "module",
    "function",
    "builtin_function_or_method",
    "instance",
    "_Feature"
   ],
   "window_display": false
  }
 },
 "nbformat": 4,
 "nbformat_minor": 2
}
