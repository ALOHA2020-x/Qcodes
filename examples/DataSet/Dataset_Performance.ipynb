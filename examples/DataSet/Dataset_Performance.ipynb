{
 "cells": [
  {
   "cell_type": "markdown",
   "metadata": {},
   "source": [
    "# DataSet Performance\n",
    "\n",
    "This notebook shows the trade-off between inserting data into a database row-by-row and as binary blobs. Inserting the data row-by-row means that we have direct access to all the data and may perform queries directly on the values of the data. On the other hand, as we shall see, this is much slower than inserting the data directly as binary blobs."
   ]
  },
  {
   "cell_type": "markdown",
   "metadata": {},
   "source": [
    "First, we choose a new location for the database to ensure that we don't add a bunch of benchmarking data to the default one."
   ]
  },
  {
   "cell_type": "code",
   "execution_count": 1,
   "metadata": {
    "execution": {
     "iopub.execute_input": "2020-12-01T11:03:46.709352Z",
     "iopub.status.busy": "2020-12-01T11:03:46.708666Z",
     "iopub.status.idle": "2020-12-01T11:03:47.751990Z",
     "shell.execute_reply": "2020-12-01T11:03:47.750763Z"
    }
   },
   "outputs": [
    {
     "name": "stdout",
     "output_type": "stream",
     "text": [
      "Logging hadn't been started.\n",
      "Activating auto-logging. Current session state plus future input saved.\n",
      "Filename       : /home/vsts/.qcodes/logs/command_history.log\n",
      "Mode           : append\n",
      "Output logging : True\n",
      "Raw input log  : False\n",
      "Timestamping   : True\n",
      "State          : active\n"
     ]
    },
    {
     "name": "stdout",
     "output_type": "stream",
     "text": [
      "Qcodes Logfile : /home/vsts/.qcodes/logs/201201-14570-qcodes.log\n"
     ]
    }
   ],
   "source": [
    "import os\n",
    "cwd = os.getcwd()\n",
    "import qcodes as qc\n",
    "qc.config[\"core\"][\"db_location\"] = os.path.join(cwd, 'testing.db')\n"
   ]
  },
  {
   "cell_type": "code",
   "execution_count": 2,
   "metadata": {
    "execution": {
     "iopub.execute_input": "2020-12-01T11:03:47.757886Z",
     "iopub.status.busy": "2020-12-01T11:03:47.756793Z",
     "iopub.status.idle": "2020-12-01T11:03:47.940170Z",
     "shell.execute_reply": "2020-12-01T11:03:47.938961Z"
    }
   },
   "outputs": [],
   "source": [
    "%matplotlib inline\n",
    "import time\n",
    "import matplotlib.pyplot as plt\n",
    "import numpy as np\n",
    "\n",
    "import qcodes as qc\n",
    "from qcodes.instrument.parameter import ManualParameter\n",
    "from qcodes.dataset.experiment_container import (Experiment,\n",
    "                                                 load_last_experiment,\n",
    "                                                 new_experiment)\n",
    "from qcodes.dataset.sqlite.database import initialise_database\n",
    "from qcodes import load_or_create_experiment\n",
    "from qcodes.dataset.measurements import Measurement"
   ]
  },
  {
   "cell_type": "code",
   "execution_count": 3,
   "metadata": {
    "execution": {
     "iopub.execute_input": "2020-12-01T11:03:47.944784Z",
     "iopub.status.busy": "2020-12-01T11:03:47.943748Z",
     "iopub.status.idle": "2020-12-01T11:03:48.053938Z",
     "shell.execute_reply": "2020-12-01T11:03:48.053414Z"
    }
   },
   "outputs": [
    {
     "name": "stdout",
     "output_type": "stream",
     "text": [
      "\r",
      "0it [00:00, ?it/s]"
     ]
    },
    {
     "name": "stdout",
     "output_type": "stream",
     "text": [
      "\r",
      "Upgrading database; v0 -> v1: : 0it [00:00, ?it/s]"
     ]
    },
    {
     "name": "stdout",
     "output_type": "stream",
     "text": [
      "\r",
      "Upgrading database; v0 -> v1: : 0it [00:00, ?it/s]"
     ]
    },
    {
     "name": "stdout",
     "output_type": "stream",
     "text": [
      "\n",
      "\r",
      "  0%|          | 0/1 [00:00<?, ?it/s]"
     ]
    },
    {
     "name": "stdout",
     "output_type": "stream",
     "text": [
      "\r",
      "Upgrading database; v1 -> v2:   0%|          | 0/1 [00:00<?, ?it/s]"
     ]
    },
    {
     "name": "stdout",
     "output_type": "stream",
     "text": [
      "\r",
      "Upgrading database; v1 -> v2: 100%|██████████| 1/1 [00:00<00:00, 1255.40it/s]"
     ]
    },
    {
     "name": "stdout",
     "output_type": "stream",
     "text": [
      "\n",
      "\r",
      "0it [00:00, ?it/s]"
     ]
    },
    {
     "name": "stdout",
     "output_type": "stream",
     "text": [
      "\r",
      "Upgrading database; v2 -> v3: : 0it [00:00, ?it/s]"
     ]
    },
    {
     "name": "stdout",
     "output_type": "stream",
     "text": [
      "\r",
      "Upgrading database; v2 -> v3: : 0it [00:00, ?it/s]"
     ]
    },
    {
     "name": "stdout",
     "output_type": "stream",
     "text": [
      "\n",
      "\r",
      "0it [00:00, ?it/s]"
     ]
    },
    {
     "name": "stdout",
     "output_type": "stream",
     "text": [
      "\r",
      "Upgrading database; v3 -> v4: : 0it [00:00, ?it/s]"
     ]
    },
    {
     "name": "stdout",
     "output_type": "stream",
     "text": [
      "\r",
      "Upgrading database; v3 -> v4: : 0it [00:00, ?it/s]"
     ]
    },
    {
     "name": "stdout",
     "output_type": "stream",
     "text": [
      "\n",
      "\r",
      "  0%|          | 0/1 [00:00<?, ?it/s]"
     ]
    },
    {
     "name": "stdout",
     "output_type": "stream",
     "text": [
      "\r",
      "Upgrading database; v4 -> v5:   0%|          | 0/1 [00:00<?, ?it/s]"
     ]
    },
    {
     "name": "stdout",
     "output_type": "stream",
     "text": [
      "\r",
      "Upgrading database; v4 -> v5: 100%|██████████| 1/1 [00:00<00:00, 560.14it/s]"
     ]
    },
    {
     "name": "stdout",
     "output_type": "stream",
     "text": [
      "\n",
      "\r",
      "0it [00:00, ?it/s]"
     ]
    },
    {
     "name": "stdout",
     "output_type": "stream",
     "text": [
      "\r",
      "Upgrading database; v5 -> v6: : 0it [00:00, ?it/s]"
     ]
    },
    {
     "name": "stdout",
     "output_type": "stream",
     "text": [
      "\r",
      "Upgrading database; v5 -> v6: : 0it [00:00, ?it/s]"
     ]
    },
    {
     "name": "stdout",
     "output_type": "stream",
     "text": [
      "\n",
      "\r",
      "  0%|          | 0/1 [00:00<?, ?it/s]"
     ]
    },
    {
     "name": "stdout",
     "output_type": "stream",
     "text": [
      "\r",
      "Upgrading database; v6 -> v7:   0%|          | 0/1 [00:00<?, ?it/s]"
     ]
    },
    {
     "name": "stdout",
     "output_type": "stream",
     "text": [
      "\r",
      "Upgrading database; v6 -> v7: 100%|██████████| 1/1 [00:00<00:00, 277.02it/s]"
     ]
    },
    {
     "name": "stdout",
     "output_type": "stream",
     "text": [
      "\n",
      "\r",
      "  0%|          | 0/1 [00:00<?, ?it/s]"
     ]
    },
    {
     "name": "stdout",
     "output_type": "stream",
     "text": [
      "\r",
      "Upgrading database; v7 -> v8:   0%|          | 0/1 [00:00<?, ?it/s]"
     ]
    },
    {
     "name": "stdout",
     "output_type": "stream",
     "text": [
      "\r",
      "Upgrading database; v7 -> v8: 100%|██████████| 1/1 [00:00<00:00, 506.07it/s]"
     ]
    },
    {
     "name": "stdout",
     "output_type": "stream",
     "text": [
      "\n",
      "\r",
      "  0%|          | 0/1 [00:00<?, ?it/s]"
     ]
    },
    {
     "name": "stdout",
     "output_type": "stream",
     "text": [
      "\r",
      "Upgrading database; v8 -> v9:   0%|          | 0/1 [00:00<?, ?it/s]"
     ]
    },
    {
     "name": "stdout",
     "output_type": "stream",
     "text": [
      "\r",
      "Upgrading database; v8 -> v9: 100%|██████████| 1/1 [00:00<00:00, 1280.70it/s]"
     ]
    },
    {
     "name": "stdout",
     "output_type": "stream",
     "text": [
      "\n"
     ]
    }
   ],
   "source": [
    "initialise_database()\n",
    "exp = load_or_create_experiment(experiment_name='tutorial_exp', sample_name=\"no sample\")"
   ]
  },
  {
   "cell_type": "markdown",
   "metadata": {},
   "source": [
    "Here, we define a simple function to benchmark the time it takes to insert n points with either numeric or array data type.\n",
    "We will compare both the time used to call ``add_result`` and the time used for the full measurement."
   ]
  },
  {
   "cell_type": "code",
   "execution_count": 4,
   "metadata": {
    "execution": {
     "iopub.execute_input": "2020-12-01T11:03:48.062974Z",
     "iopub.status.busy": "2020-12-01T11:03:48.062237Z",
     "iopub.status.idle": "2020-12-01T11:03:48.066557Z",
     "shell.execute_reply": "2020-12-01T11:03:48.065625Z"
    }
   },
   "outputs": [],
   "source": [
    "def insert_data(paramtype, npoints, nreps=1):\n",
    "\n",
    "    meas = Measurement(exp=exp)\n",
    "\n",
    "    x1 = ManualParameter('x1')\n",
    "    x2 = ManualParameter('x2')\n",
    "    x3 = ManualParameter('x3')\n",
    "    y1 = ManualParameter('y1')\n",
    "    y2 = ManualParameter('y2')\n",
    "\n",
    "    meas.register_parameter(x1, paramtype=paramtype)\n",
    "    meas.register_parameter(x2, paramtype=paramtype)\n",
    "    meas.register_parameter(x3, paramtype=paramtype)\n",
    "    meas.register_parameter(y1, setpoints=[x1, x2, x3],\n",
    "                            paramtype=paramtype)\n",
    "    meas.register_parameter(y2, setpoints=[x1, x2, x3],\n",
    "                            paramtype=paramtype)\n",
    "    start = time.perf_counter()\n",
    "    with meas.run() as datasaver:\n",
    "        start_adding = time.perf_counter()\n",
    "        for i in range(nreps):\n",
    "            datasaver.add_result((x1, np.random.rand(npoints)),\n",
    "                                 (x2, np.random.rand(npoints)),\n",
    "                                 (x3, np.random.rand(npoints)),\n",
    "                                 (y1, np.random.rand(npoints)),\n",
    "                                 (y2, np.random.rand(npoints)))\n",
    "        stop_adding = time.perf_counter()\n",
    "        run_id = datasaver.run_id\n",
    "    stop = time.perf_counter()\n",
    "    tot_time = stop - start\n",
    "    add_time = stop_adding - start_adding\n",
    "    return tot_time, add_time, run_id"
   ]
  },
  {
   "cell_type": "markdown",
   "metadata": {},
   "source": [
    "## Comparison between numeric/array data and binary blob"
   ]
  },
  {
   "cell_type": "markdown",
   "metadata": {},
   "source": [
    "### Case1: Short experiment time"
   ]
  },
  {
   "cell_type": "code",
   "execution_count": 5,
   "metadata": {
    "execution": {
     "iopub.execute_input": "2020-12-01T11:03:48.073287Z",
     "iopub.status.busy": "2020-12-01T11:03:48.072756Z",
     "iopub.status.idle": "2020-12-01T11:03:48.914454Z",
     "shell.execute_reply": "2020-12-01T11:03:48.913711Z"
    }
   },
   "outputs": [
    {
     "name": "stdout",
     "output_type": "stream",
     "text": [
      "Starting experimental run with id: 1. \n",
      "Starting experimental run with id: 2. \n",
      "Starting experimental run with id: 3. \n",
      "Starting experimental run with id: 4. \n",
      "Starting experimental run with id: 5. \n"
     ]
    },
    {
     "name": "stdout",
     "output_type": "stream",
     "text": [
      "Starting experimental run with id: 6. \n"
     ]
    },
    {
     "name": "stdout",
     "output_type": "stream",
     "text": [
      "Starting experimental run with id: 7. \n"
     ]
    },
    {
     "name": "stdout",
     "output_type": "stream",
     "text": [
      "Starting experimental run with id: 8. \n",
      "Starting experimental run with id: 9. \n"
     ]
    },
    {
     "name": "stdout",
     "output_type": "stream",
     "text": [
      "Starting experimental run with id: 10. \n",
      "Starting experimental run with id: 11. \n"
     ]
    },
    {
     "name": "stdout",
     "output_type": "stream",
     "text": [
      "Starting experimental run with id: 12. \n",
      "Starting experimental run with id: 13. \n"
     ]
    },
    {
     "name": "stdout",
     "output_type": "stream",
     "text": [
      "Starting experimental run with id: 14. \n"
     ]
    }
   ],
   "source": [
    "sizes = [1,500,1000,2000,3000,4000,5000]\n",
    "t_numeric = []\n",
    "t_numeric_add = []\n",
    "t_array = []\n",
    "t_array_add = []\n",
    "for size in sizes:\n",
    "    tn, tna, run_id_n =  insert_data('numeric', size)\n",
    "    t_numeric.append(tn)\n",
    "    t_numeric_add.append(tna)\n",
    "\n",
    "    ta, taa, run_id_a =  insert_data('array', size)\n",
    "    t_array.append(ta)\n",
    "    t_array_add.append(taa)"
   ]
  },
  {
   "cell_type": "code",
   "execution_count": 6,
   "metadata": {
    "execution": {
     "iopub.execute_input": "2020-12-01T11:03:48.936651Z",
     "iopub.status.busy": "2020-12-01T11:03:48.933165Z",
     "iopub.status.idle": "2020-12-01T11:03:49.111568Z",
     "shell.execute_reply": "2020-12-01T11:03:49.112312Z"
    }
   },
   "outputs": [
    {
     "data": {
      "image/png": "[encoded data removed]",
      "text/plain": [
       "<Figure size 432x288 with 1 Axes>"
      ]
     },
     "metadata": {
      "needs_background": "light"
     },
     "output_type": "display_data"
    }
   ],
   "source": [
    "fig, ax = plt.subplots(1,1)\n",
    "ax.plot(sizes, t_numeric, 'o-', label='Inserting row-by-row')\n",
    "ax.plot(sizes, t_numeric_add, 'o-', label='Inserting row-by-row: add_result only')\n",
    "ax.plot(sizes, t_array, 'd-', label='Inserting as binary blob')\n",
    "ax.plot(sizes, t_array_add, 'd-', label='Inserting as binary blob: add_result only')\n",
    "ax.legend()\n",
    "ax.set_xlabel('Array length')\n",
    "ax.set_ylabel('Time (s)')\n",
    "fig.tight_layout()"
   ]
  },
  {
   "cell_type": "markdown",
   "metadata": {},
   "source": [
    "As shown in the latter figure, the time to setup and and close the experiment is approximately 0.4 sec. In case of small array sizes, the difference between inserting values of data as arrays and inserting them row-by-row is relatively unimportant. At larger array sizes, i.e. above 10000 points, the cost of writing data as individual datapoints starts to become important.\n"
   ]
  },
  {
   "cell_type": "markdown",
   "metadata": {},
   "source": [
    "### Case2: Long experiment time "
   ]
  },
  {
   "cell_type": "code",
   "execution_count": 7,
   "metadata": {
    "execution": {
     "iopub.execute_input": "2020-12-01T11:03:49.115515Z",
     "iopub.status.busy": "2020-12-01T11:03:49.114450Z",
     "iopub.status.idle": "2020-12-01T11:04:46.842658Z",
     "shell.execute_reply": "2020-12-01T11:04:46.841972Z"
    }
   },
   "outputs": [
    {
     "name": "stdout",
     "output_type": "stream",
     "text": [
      "Starting experimental run with id: 15. \n",
      "Starting experimental run with id: 16. \n",
      "Starting experimental run with id: 17. \n"
     ]
    },
    {
     "name": "stdout",
     "output_type": "stream",
     "text": [
      "Starting experimental run with id: 18. \n",
      "Starting experimental run with id: 19. \n"
     ]
    },
    {
     "name": "stdout",
     "output_type": "stream",
     "text": [
      "Starting experimental run with id: 20. \n"
     ]
    },
    {
     "name": "stdout",
     "output_type": "stream",
     "text": [
      "Starting experimental run with id: 21. \n"
     ]
    },
    {
     "name": "stdout",
     "output_type": "stream",
     "text": [
      "Starting experimental run with id: 22. \n"
     ]
    },
    {
     "name": "stdout",
     "output_type": "stream",
     "text": [
      "Starting experimental run with id: 23. \n"
     ]
    },
    {
     "name": "stdout",
     "output_type": "stream",
     "text": [
      "Starting experimental run with id: 24. \n"
     ]
    },
    {
     "name": "stdout",
     "output_type": "stream",
     "text": [
      "Starting experimental run with id: 25. \n"
     ]
    },
    {
     "name": "stdout",
     "output_type": "stream",
     "text": [
      "Starting experimental run with id: 26. \n"
     ]
    },
    {
     "name": "stdout",
     "output_type": "stream",
     "text": [
      "Starting experimental run with id: 27. \n"
     ]
    },
    {
     "name": "stdout",
     "output_type": "stream",
     "text": [
      "Starting experimental run with id: 28. \n"
     ]
    }
   ],
   "source": [
    "sizes = [1,500,1000,2000,3000,4000,5000]\n",
    "nreps = 100\n",
    "t_numeric = []\n",
    "t_numeric_add = []\n",
    "t_numeric_run_ids = []\n",
    "t_array = []\n",
    "t_array_add = []\n",
    "t_array_run_ids = []\n",
    "for size in sizes:\n",
    "    tn, tna, run_id_n =  insert_data('numeric', size, nreps=nreps)\n",
    "    t_numeric.append(tn)\n",
    "    t_numeric_add.append(tna)\n",
    "    t_numeric_run_ids.append(run_id_n)\n",
    "\n",
    "    ta, taa, run_id_a =  insert_data('array', size, nreps=nreps)\n",
    "    t_array.append(ta)\n",
    "    t_array_add.append(taa)\n",
    "    t_array_run_ids.append(run_id_a)"
   ]
  },
  {
   "cell_type": "code",
   "execution_count": 8,
   "metadata": {
    "execution": {
     "iopub.execute_input": "2020-12-01T11:04:46.879997Z",
     "iopub.status.busy": "2020-12-01T11:04:46.870388Z",
     "iopub.status.idle": "2020-12-01T11:04:47.032616Z",
     "shell.execute_reply": "2020-12-01T11:04:47.033168Z"
    },
    "scrolled": true
   },
   "outputs": [
    {
     "data": {
      "image/png": "[encoded data removed]",
      "text/plain": [
       "<Figure size 432x288 with 1 Axes>"
      ]
     },
     "metadata": {
      "needs_background": "light"
     },
     "output_type": "display_data"
    }
   ],
   "source": [
    "fig, ax = plt.subplots(1,1)\n",
    "ax.plot(sizes, t_numeric, 'o-', label='Inserting row-by-row')\n",
    "ax.plot(sizes, t_numeric_add, 'o-', label='Inserting row-by-row: add_result only')\n",
    "ax.plot(sizes, t_array, 'd-', label='Inserting as binary blob')\n",
    "ax.plot(sizes, t_array_add, 'd-', label='Inserting as binary blob: add_result only')\n",
    "ax.legend()\n",
    "ax.set_xlabel('Array length')\n",
    "ax.set_ylabel('Time (s)')\n",
    "fig.tight_layout()"
   ]
  },
  {
   "cell_type": "markdown",
   "metadata": {},
   "source": [
    "However, as we increase the length of the experiment, as seen here by repeating the insertion 100 times, we see a big difference between inserting values of the data row-by-row and inserting it as a binary blob."
   ]
  },
  {
   "cell_type": "markdown",
   "metadata": {},
   "source": [
    "## Loading the data "
   ]
  },
  {
   "cell_type": "code",
   "execution_count": 9,
   "metadata": {
    "execution": {
     "iopub.execute_input": "2020-12-01T11:04:47.036166Z",
     "iopub.status.busy": "2020-12-01T11:04:47.035384Z",
     "iopub.status.idle": "2020-12-01T11:04:47.038766Z",
     "shell.execute_reply": "2020-12-01T11:04:47.039294Z"
    }
   },
   "outputs": [],
   "source": [
    "from qcodes.dataset.data_set import load_by_id\n",
    "from qcodes.dataset.data_export import get_data_by_id"
   ]
  },
  {
   "cell_type": "markdown",
   "metadata": {},
   "source": [
    "As usual you can load the data by using the ``load_by_id`` function but you will notice that the different storage methods\n",
    "are reflected in shape of the data as it is retrieved. "
   ]
  },
  {
   "cell_type": "code",
   "execution_count": 10,
   "metadata": {
    "execution": {
     "iopub.execute_input": "2020-12-01T11:04:47.041648Z",
     "iopub.status.busy": "2020-12-01T11:04:47.041144Z",
     "iopub.status.idle": "2020-12-01T11:04:47.044549Z",
     "shell.execute_reply": "2020-12-01T11:04:47.044096Z"
    }
   },
   "outputs": [],
   "source": [
    "run_id_n = t_numeric_run_ids[0]\n",
    "run_id_a = t_array_run_ids[0]"
   ]
  },
  {
   "cell_type": "code",
   "execution_count": 11,
   "metadata": {
    "execution": {
     "iopub.execute_input": "2020-12-01T11:04:47.047560Z",
     "iopub.status.busy": "2020-12-01T11:04:47.047045Z",
     "iopub.status.idle": "2020-12-01T11:04:47.056431Z",
     "shell.execute_reply": "2020-12-01T11:04:47.055878Z"
    },
    "scrolled": true
   },
   "outputs": [
    {
     "data": {
      "text/plain": [
       "{'x1': {'x1': array([0.59560752, 0.59560752, 0.29565862, 0.29565862, 0.30248976,\n",
       "         0.30248976, 0.14535167, 0.14535167, 0.89207034, 0.89207034,\n",
       "         0.68718965, 0.68718965, 0.78735244, 0.78735244, 0.4512211 ,\n",
       "         0.4512211 , 0.52271074, 0.52271074, 0.34200316, 0.34200316,\n",
       "         0.11886253, 0.11886253, 0.05835206, 0.05835206, 0.08890219,\n",
       "         0.08890219, 0.38694949, 0.38694949, 0.74859977, 0.74859977,\n",
       "         0.6060084 , 0.6060084 , 0.75287788, 0.75287788, 0.61833945,\n",
       "         0.61833945, 0.56232871, 0.56232871, 0.67660709, 0.67660709,\n",
       "         0.83538155, 0.83538155, 0.97391293, 0.97391293, 0.76860358,\n",
       "         0.76860358, 0.46147496, 0.46147496, 0.95913925, 0.95913925,\n",
       "         0.84882903, 0.84882903, 0.21545023, 0.21545023, 0.341088  ,\n",
       "         0.341088  , 0.66774977, 0.66774977, 0.94605541, 0.94605541,\n",
       "         0.91660967, 0.91660967, 0.6531375 , 0.6531375 , 0.61140851,\n",
       "         0.61140851, 0.66757814, 0.66757814, 0.03499602, 0.03499602,\n",
       "         0.07368698, 0.07368698, 0.96862504, 0.96862504, 0.72336588,\n",
       "         0.72336588, 0.53759394, 0.53759394, 0.73568794, 0.73568794,\n",
       "         0.81158577, 0.81158577, 0.96623916, 0.96623916, 0.97756179,\n",
       "         0.97756179, 0.66897224, 0.66897224, 0.54711373, 0.54711373,\n",
       "         0.00215046, 0.00215046, 0.52265409, 0.52265409, 0.07367175,\n",
       "         0.07367175, 0.76249845, 0.76249845, 0.50657763, 0.50657763,\n",
       "         0.87293642, 0.87293642, 0.04503639, 0.04503639, 0.81644305,\n",
       "         0.81644305, 0.48767252, 0.48767252, 0.62915324, 0.62915324,\n",
       "         0.28253233, 0.28253233, 0.31213921, 0.31213921, 0.89977124,\n",
       "         0.89977124, 0.07595189, 0.07595189, 0.10753387, 0.10753387,\n",
       "         0.13300503, 0.13300503, 0.69363422, 0.69363422, 0.49604594,\n",
       "         0.49604594, 0.6653887 , 0.6653887 , 0.61316948, 0.61316948,\n",
       "         0.29376741, 0.29376741, 0.64334794, 0.64334794, 0.73748276,\n",
       "         0.73748276, 0.61337496, 0.61337496, 0.50545261, 0.50545261,\n",
       "         0.87305472, 0.87305472, 0.45255024, 0.45255024, 0.93438294,\n",
       "         0.93438294, 0.77328542, 0.77328542, 0.44555643, 0.44555643,\n",
       "         0.33489279, 0.33489279, 0.46370615, 0.46370615, 0.93212393,\n",
       "         0.93212393, 0.58867441, 0.58867441, 0.97303478, 0.97303478,\n",
       "         0.43059525, 0.43059525, 0.5041335 , 0.5041335 , 0.18244842,\n",
       "         0.18244842, 0.69238329, 0.69238329, 0.61023863, 0.61023863,\n",
       "         0.70350819, 0.70350819, 0.23140011, 0.23140011, 0.56363195,\n",
       "         0.56363195, 0.63782117, 0.63782117, 0.62877745, 0.62877745,\n",
       "         0.89375507, 0.89375507, 0.01008939, 0.01008939, 0.91020204,\n",
       "         0.91020204, 0.20996131, 0.20996131, 0.96773767, 0.96773767,\n",
       "         0.7185303 , 0.7185303 , 0.72267025, 0.72267025, 0.689314  ,\n",
       "         0.689314  , 0.81710419, 0.81710419, 0.69904198, 0.69904198])}}"
      ]
     },
     "execution_count": 1,
     "metadata": {},
     "output_type": "execute_result"
    }
   ],
   "source": [
    "ds = load_by_id(run_id_n)\n",
    "ds.get_parameter_data('x1')"
   ]
  },
  {
   "cell_type": "markdown",
   "metadata": {},
   "source": [
    "And a dataset stored as binary arrays"
   ]
  },
  {
   "cell_type": "code",
   "execution_count": 12,
   "metadata": {
    "execution": {
     "iopub.execute_input": "2020-12-01T11:04:47.059662Z",
     "iopub.status.busy": "2020-12-01T11:04:47.059187Z",
     "iopub.status.idle": "2020-12-01T11:04:47.113225Z",
     "shell.execute_reply": "2020-12-01T11:04:47.114219Z"
    },
    "scrolled": true
   },
   "outputs": [
    {
     "data": {
      "text/plain": [
       "{'x1': {'x1': array([[0.44136472],\n",
       "         [0.44136472],\n",
       "         [0.10262666],\n",
       "         [0.10262666],\n",
       "         [0.4842441 ],\n",
       "         [0.4842441 ],\n",
       "         [0.2450804 ],\n",
       "         [0.2450804 ],\n",
       "         [0.20881254],\n",
       "         [0.20881254],\n",
       "         [0.4150927 ],\n",
       "         [0.4150927 ],\n",
       "         [0.09094673],\n",
       "         [0.09094673],\n",
       "         [0.09666614],\n",
       "         [0.09666614],\n",
       "         [0.51374198],\n",
       "         [0.51374198],\n",
       "         [0.90304694],\n",
       "         [0.90304694],\n",
       "         [0.50253807],\n",
       "         [0.50253807],\n",
       "         [0.87462835],\n",
       "         [0.87462835],\n",
       "         [0.76674844],\n",
       "         [0.76674844],\n",
       "         [0.48134446],\n",
       "         [0.48134446],\n",
       "         [0.39603658],\n",
       "         [0.39603658],\n",
       "         [0.36733419],\n",
       "         [0.36733419],\n",
       "         [0.41377919],\n",
       "         [0.41377919],\n",
       "         [0.82157341],\n",
       "         [0.82157341],\n",
       "         [0.6254995 ],\n",
       "         [0.6254995 ],\n",
       "         [0.5732262 ],\n",
       "         [0.5732262 ],\n",
       "         [0.60541712],\n",
       "         [0.60541712],\n",
       "         [0.48202479],\n",
       "         [0.48202479],\n",
       "         [0.74450534],\n",
       "         [0.74450534],\n",
       "         [0.72922851],\n",
       "         [0.72922851],\n",
       "         [0.63244537],\n",
       "         [0.63244537],\n",
       "         [0.11313248],\n",
       "         [0.11313248],\n",
       "         [0.84210589],\n",
       "         [0.84210589],\n",
       "         [0.20441303],\n",
       "         [0.20441303],\n",
       "         [0.05931413],\n",
       "         [0.05931413],\n",
       "         [0.18826966],\n",
       "         [0.18826966],\n",
       "         [0.49865011],\n",
       "         [0.49865011],\n",
       "         [0.23586706],\n",
       "         [0.23586706],\n",
       "         [0.99181762],\n",
       "         [0.99181762],\n",
       "         [0.22542011],\n",
       "         [0.22542011],\n",
       "         [0.84953754],\n",
       "         [0.84953754],\n",
       "         [0.52571397],\n",
       "         [0.52571397],\n",
       "         [0.6481984 ],\n",
       "         [0.6481984 ],\n",
       "         [0.7857773 ],\n",
       "         [0.7857773 ],\n",
       "         [0.55874141],\n",
       "         [0.55874141],\n",
       "         [0.2730588 ],\n",
       "         [0.2730588 ],\n",
       "         [0.80474016],\n",
       "         [0.80474016],\n",
       "         [0.16164192],\n",
       "         [0.16164192],\n",
       "         [0.72187633],\n",
       "         [0.72187633],\n",
       "         [0.06075894],\n",
       "         [0.06075894],\n",
       "         [0.34919324],\n",
       "         [0.34919324],\n",
       "         [0.74256394],\n",
       "         [0.74256394],\n",
       "         [0.21598846],\n",
       "         [0.21598846],\n",
       "         [0.84242887],\n",
       "         [0.84242887],\n",
       "         [0.15218072],\n",
       "         [0.15218072],\n",
       "         [0.8680252 ],\n",
       "         [0.8680252 ],\n",
       "         [0.41499115],\n",
       "         [0.41499115],\n",
       "         [0.88473866],\n",
       "         [0.88473866],\n",
       "         [0.787546  ],\n",
       "         [0.787546  ],\n",
       "         [0.11235308],\n",
       "         [0.11235308],\n",
       "         [0.12943973],\n",
       "         [0.12943973],\n",
       "         [0.06780794],\n",
       "         [0.06780794],\n",
       "         [0.90714228],\n",
       "         [0.90714228],\n",
       "         [0.4657269 ],\n",
       "         [0.4657269 ],\n",
       "         [0.19850595],\n",
       "         [0.19850595],\n",
       "         [0.28640638],\n",
       "         [0.28640638],\n",
       "         [0.68858173],\n",
       "         [0.68858173],\n",
       "         [0.79428461],\n",
       "         [0.79428461],\n",
       "         [0.61793644],\n",
       "         [0.61793644],\n",
       "         [0.9675897 ],\n",
       "         [0.9675897 ],\n",
       "         [0.44688111],\n",
       "         [0.44688111],\n",
       "         [0.5435601 ],\n",
       "         [0.5435601 ],\n",
       "         [0.15755849],\n",
       "         [0.15755849],\n",
       "         [0.96110049],\n",
       "         [0.96110049],\n",
       "         [0.53991467],\n",
       "         [0.53991467],\n",
       "         [0.44445418],\n",
       "         [0.44445418],\n",
       "         [0.74079614],\n",
       "         [0.74079614],\n",
       "         [0.98838624],\n",
       "         [0.98838624],\n",
       "         [0.17627168],\n",
       "         [0.17627168],\n",
       "         [0.87124236],\n",
       "         [0.87124236],\n",
       "         [0.75893035],\n",
       "         [0.75893035],\n",
       "         [0.43801545],\n",
       "         [0.43801545],\n",
       "         [0.37849735],\n",
       "         [0.37849735],\n",
       "         [0.6268305 ],\n",
       "         [0.6268305 ],\n",
       "         [0.8626481 ],\n",
       "         [0.8626481 ],\n",
       "         [0.89688616],\n",
       "         [0.89688616],\n",
       "         [0.0796582 ],\n",
       "         [0.0796582 ],\n",
       "         [0.30153444],\n",
       "         [0.30153444],\n",
       "         [0.87999429],\n",
       "         [0.87999429],\n",
       "         [0.06212699],\n",
       "         [0.06212699],\n",
       "         [0.89774416],\n",
       "         [0.89774416],\n",
       "         [0.89964051],\n",
       "         [0.89964051],\n",
       "         [0.97594321],\n",
       "         [0.97594321],\n",
       "         [0.5558104 ],\n",
       "         [0.5558104 ],\n",
       "         [0.01576636],\n",
       "         [0.01576636],\n",
       "         [0.43719198],\n",
       "         [0.43719198],\n",
       "         [0.07626421],\n",
       "         [0.07626421],\n",
       "         [0.76545676],\n",
       "         [0.76545676],\n",
       "         [0.40004942],\n",
       "         [0.40004942],\n",
       "         [0.03879663],\n",
       "         [0.03879663],\n",
       "         [0.76468582],\n",
       "         [0.76468582],\n",
       "         [0.92033726],\n",
       "         [0.92033726],\n",
       "         [0.07479099],\n",
       "         [0.07479099],\n",
       "         [0.34100079],\n",
       "         [0.34100079],\n",
       "         [0.97483856],\n",
       "         [0.97483856],\n",
       "         [0.8741131 ],\n",
       "         [0.8741131 ]])}}"
      ]
     },
     "execution_count": 1,
     "metadata": {},
     "output_type": "execute_result"
    }
   ],
   "source": [
    "ds = load_by_id(run_id_a)\n",
    "ds.get_parameter_data('x1')"
   ]
  },
  {
   "cell_type": "code",
   "execution_count": null,
   "metadata": {},
   "outputs": [],
   "source": []
  }
 ],
 "metadata": {
  "kernelspec": {
   "display_name": "Python 3",
   "language": "python",
   "name": "python3"
  },
  "language_info": {
   "codemirror_mode": {
    "name": "ipython",
    "version": 3
   },
   "file_extension": ".py",
   "mimetype": "text/x-python",
   "name": "python",
   "nbconvert_exporter": "python",
   "pygments_lexer": "ipython3",
   "version": "3.7.9"
  },
  "nbsphinx": {
   "timeout": 600
  },
  "toc": {
   "base_numbering": 1,
   "nav_menu": {},
   "number_sections": true,
   "sideBar": true,
   "skip_h1_title": false,
   "title_cell": "Table of Contents",
   "title_sidebar": "Contents",
   "toc_cell": false,
   "toc_position": {},
   "toc_section_display": true,
   "toc_window_display": false
  },
  "varInspector": {
   "cols": {
    "lenName": 16,
    "lenType": 16,
    "lenVar": 40
   },
   "kernels_config": {
    "python": {
     "delete_cmd_postfix": "",
     "delete_cmd_prefix": "del ",
     "library": "var_list.py",
     "varRefreshCmd": "print(var_dic_list())"
    },
    "r": {
     "delete_cmd_postfix": ") ",
     "delete_cmd_prefix": "rm(",
     "library": "var_list.r",
     "varRefreshCmd": "cat(var_dic_list()) "
    }
   },
   "types_to_exclude": [
    "module",
    "function",
    "builtin_function_or_method",
    "instance",
    "_Feature"
   ],
   "window_display": false
  }
 },
 "nbformat": 4,
 "nbformat_minor": 2
}
