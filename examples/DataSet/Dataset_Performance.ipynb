{
 "cells": [
  {
   "cell_type": "markdown",
   "metadata": {},
   "source": [
    "# DataSet Performance\n",
    "\n",
    "This notebook shows the trade-off between inserting data into a database row-by-row and as binary blobs. Inserting the data row-by-row means that we have direct access to all the data and may perform queries directly on the values of the data. On the other hand, as we shall see, this is much slower than inserting the data directly as binary blobs."
   ]
  },
  {
   "cell_type": "markdown",
   "metadata": {},
   "source": [
    "First, we choose a new location for the database to ensure that we don't add a bunch of benchmarking data to the default one."
   ]
  },
  {
   "cell_type": "code",
   "execution_count": 1,
   "metadata": {
    "execution": {
     "iopub.execute_input": "2021-04-05T19:06:06.629342Z",
     "iopub.status.busy": "2021-04-05T19:06:06.628753Z",
     "iopub.status.idle": "2021-04-05T19:06:07.681733Z",
     "shell.execute_reply": "2021-04-05T19:06:07.680151Z"
    }
   },
   "outputs": [
    {
     "name": "stdout",
     "output_type": "stream",
     "text": [
      "Logging hadn't been started.\n",
      "Activating auto-logging. Current session state plus future input saved.\n",
      "Filename       : /home/runner/.qcodes/logs/command_history.log\n",
      "Mode           : append\n",
      "Output logging : True\n",
      "Raw input log  : False\n",
      "Timestamping   : True\n",
      "State          : active\n"
     ]
    },
    {
     "name": "stdout",
     "output_type": "stream",
     "text": [
      "Qcodes Logfile : /home/runner/.qcodes/logs/210405-4485-qcodes.log\n"
     ]
    }
   ],
   "source": [
    "import os\n",
    "cwd = os.getcwd()\n",
    "import qcodes as qc\n",
    "qc.config[\"core\"][\"db_location\"] = os.path.join(cwd, 'testing.db')\n"
   ]
  },
  {
   "cell_type": "code",
   "execution_count": 2,
   "metadata": {
    "execution": {
     "iopub.execute_input": "2021-04-05T19:06:07.689449Z",
     "iopub.status.busy": "2021-04-05T19:06:07.687674Z",
     "iopub.status.idle": "2021-04-05T19:06:07.937974Z",
     "shell.execute_reply": "2021-04-05T19:06:07.937435Z"
    }
   },
   "outputs": [],
   "source": [
    "%matplotlib inline\n",
    "import time\n",
    "import matplotlib.pyplot as plt\n",
    "import numpy as np\n",
    "\n",
    "import qcodes as qc\n",
    "from qcodes.instrument.parameter import ManualParameter\n",
    "from qcodes.dataset.experiment_container import (Experiment,\n",
    "                                                 load_last_experiment,\n",
    "                                                 new_experiment)\n",
    "from qcodes.dataset.sqlite.database import initialise_database\n",
    "from qcodes import load_or_create_experiment\n",
    "from qcodes.dataset.measurements import Measurement"
   ]
  },
  {
   "cell_type": "code",
   "execution_count": 3,
   "metadata": {
    "execution": {
     "iopub.execute_input": "2021-04-05T19:06:07.942334Z",
     "iopub.status.busy": "2021-04-05T19:06:07.941579Z",
     "iopub.status.idle": "2021-04-05T19:06:08.007265Z",
     "shell.execute_reply": "2021-04-05T19:06:08.007758Z"
    }
   },
   "outputs": [
    {
     "name": "stdout",
     "output_type": "stream",
     "text": [
      "\r",
      "0it [00:00, ?it/s]"
     ]
    },
    {
     "name": "stdout",
     "output_type": "stream",
     "text": [
      "\r",
      "Upgrading database; v0 -> v1: : 0it [00:00, ?it/s]"
     ]
    },
    {
     "name": "stdout",
     "output_type": "stream",
     "text": [
      "\r",
      "Upgrading database; v0 -> v1: : 0it [00:00, ?it/s]"
     ]
    },
    {
     "name": "stdout",
     "output_type": "stream",
     "text": [
      "\n",
      "\r",
      "  0%|          | 0/1 [00:00<?, ?it/s]"
     ]
    },
    {
     "name": "stdout",
     "output_type": "stream",
     "text": [
      "\r",
      "Upgrading database; v1 -> v2:   0%|          | 0/1 [00:00<?, ?it/s]"
     ]
    },
    {
     "name": "stdout",
     "output_type": "stream",
     "text": [
      "\r",
      "Upgrading database; v1 -> v2: 100%|██████████| 1/1 [00:00<00:00, 1088.86it/s]"
     ]
    },
    {
     "name": "stdout",
     "output_type": "stream",
     "text": [
      "\n",
      "\r",
      "0it [00:00, ?it/s]"
     ]
    },
    {
     "name": "stdout",
     "output_type": "stream",
     "text": [
      "\r",
      "Upgrading database; v2 -> v3: : 0it [00:00, ?it/s]"
     ]
    },
    {
     "name": "stdout",
     "output_type": "stream",
     "text": [
      "\r",
      "Upgrading database; v2 -> v3: : 0it [00:00, ?it/s]"
     ]
    },
    {
     "name": "stdout",
     "output_type": "stream",
     "text": [
      "\n",
      "\r",
      "0it [00:00, ?it/s]"
     ]
    },
    {
     "name": "stdout",
     "output_type": "stream",
     "text": [
      "\r",
      "Upgrading database; v3 -> v4: : 0it [00:00, ?it/s]"
     ]
    },
    {
     "name": "stdout",
     "output_type": "stream",
     "text": [
      "\r",
      "Upgrading database; v3 -> v4: : 0it [00:00, ?it/s]"
     ]
    },
    {
     "name": "stdout",
     "output_type": "stream",
     "text": [
      "\n",
      "\r",
      "  0%|          | 0/1 [00:00<?, ?it/s]"
     ]
    },
    {
     "name": "stdout",
     "output_type": "stream",
     "text": [
      "\r",
      "Upgrading database; v4 -> v5:   0%|          | 0/1 [00:00<?, ?it/s]"
     ]
    },
    {
     "name": "stdout",
     "output_type": "stream",
     "text": [
      "\r",
      "Upgrading database; v4 -> v5: 100%|██████████| 1/1 [00:00<00:00, 1097.70it/s]"
     ]
    },
    {
     "name": "stdout",
     "output_type": "stream",
     "text": [
      "\n",
      "\r",
      "0it [00:00, ?it/s]"
     ]
    },
    {
     "name": "stdout",
     "output_type": "stream",
     "text": [
      "\r",
      "Upgrading database; v5 -> v6: : 0it [00:00, ?it/s]"
     ]
    },
    {
     "name": "stdout",
     "output_type": "stream",
     "text": [
      "\r",
      "Upgrading database; v5 -> v6: : 0it [00:00, ?it/s]"
     ]
    },
    {
     "name": "stdout",
     "output_type": "stream",
     "text": [
      "\n",
      "\r",
      "  0%|          | 0/1 [00:00<?, ?it/s]"
     ]
    },
    {
     "name": "stdout",
     "output_type": "stream",
     "text": [
      "\r",
      "Upgrading database; v6 -> v7:   0%|          | 0/1 [00:00<?, ?it/s]"
     ]
    },
    {
     "name": "stdout",
     "output_type": "stream",
     "text": [
      "\r",
      "Upgrading database; v6 -> v7: 100%|██████████| 1/1 [00:00<00:00, 412.05it/s]"
     ]
    },
    {
     "name": "stdout",
     "output_type": "stream",
     "text": [
      "\n",
      "\r",
      "  0%|          | 0/1 [00:00<?, ?it/s]"
     ]
    },
    {
     "name": "stdout",
     "output_type": "stream",
     "text": [
      "\r",
      "Upgrading database; v7 -> v8:   0%|          | 0/1 [00:00<?, ?it/s]"
     ]
    },
    {
     "name": "stdout",
     "output_type": "stream",
     "text": [
      "\r",
      "Upgrading database; v7 -> v8: 100%|██████████| 1/1 [00:00<00:00, 716.12it/s]"
     ]
    },
    {
     "name": "stdout",
     "output_type": "stream",
     "text": [
      "\n",
      "\r",
      "  0%|          | 0/1 [00:00<?, ?it/s]"
     ]
    },
    {
     "name": "stdout",
     "output_type": "stream",
     "text": [
      "\r",
      "Upgrading database; v8 -> v9:   0%|          | 0/1 [00:00<?, ?it/s]"
     ]
    },
    {
     "name": "stdout",
     "output_type": "stream",
     "text": [
      "\r",
      "Upgrading database; v8 -> v9: 100%|██████████| 1/1 [00:00<00:00, 396.92it/s]"
     ]
    },
    {
     "name": "stdout",
     "output_type": "stream",
     "text": [
      "\n"
     ]
    }
   ],
   "source": [
    "initialise_database()\n",
    "exp = load_or_create_experiment(experiment_name='tutorial_exp', sample_name=\"no sample\")"
   ]
  },
  {
   "cell_type": "markdown",
   "metadata": {},
   "source": [
    "Here, we define a simple function to benchmark the time it takes to insert n points with either numeric or array data type.\n",
    "We will compare both the time used to call ``add_result`` and the time used for the full measurement."
   ]
  },
  {
   "cell_type": "code",
   "execution_count": 4,
   "metadata": {
    "execution": {
     "iopub.execute_input": "2021-04-05T19:06:08.017763Z",
     "iopub.status.busy": "2021-04-05T19:06:08.017162Z",
     "iopub.status.idle": "2021-04-05T19:06:08.020829Z",
     "shell.execute_reply": "2021-04-05T19:06:08.020312Z"
    }
   },
   "outputs": [],
   "source": [
    "def insert_data(paramtype, npoints, nreps=1):\n",
    "\n",
    "    meas = Measurement(exp=exp)\n",
    "\n",
    "    x1 = ManualParameter('x1')\n",
    "    x2 = ManualParameter('x2')\n",
    "    x3 = ManualParameter('x3')\n",
    "    y1 = ManualParameter('y1')\n",
    "    y2 = ManualParameter('y2')\n",
    "\n",
    "    meas.register_parameter(x1, paramtype=paramtype)\n",
    "    meas.register_parameter(x2, paramtype=paramtype)\n",
    "    meas.register_parameter(x3, paramtype=paramtype)\n",
    "    meas.register_parameter(y1, setpoints=[x1, x2, x3],\n",
    "                            paramtype=paramtype)\n",
    "    meas.register_parameter(y2, setpoints=[x1, x2, x3],\n",
    "                            paramtype=paramtype)\n",
    "    start = time.perf_counter()\n",
    "    with meas.run() as datasaver:\n",
    "        start_adding = time.perf_counter()\n",
    "        for i in range(nreps):\n",
    "            datasaver.add_result((x1, np.random.rand(npoints)),\n",
    "                                 (x2, np.random.rand(npoints)),\n",
    "                                 (x3, np.random.rand(npoints)),\n",
    "                                 (y1, np.random.rand(npoints)),\n",
    "                                 (y2, np.random.rand(npoints)))\n",
    "        stop_adding = time.perf_counter()\n",
    "        run_id = datasaver.run_id\n",
    "    stop = time.perf_counter()\n",
    "    tot_time = stop - start\n",
    "    add_time = stop_adding - start_adding\n",
    "    return tot_time, add_time, run_id"
   ]
  },
  {
   "cell_type": "markdown",
   "metadata": {},
   "source": [
    "## Comparison between numeric/array data and binary blob"
   ]
  },
  {
   "cell_type": "markdown",
   "metadata": {},
   "source": [
    "### Case1: Short experiment time"
   ]
  },
  {
   "cell_type": "code",
   "execution_count": 5,
   "metadata": {
    "execution": {
     "iopub.execute_input": "2021-04-05T19:06:08.027600Z",
     "iopub.status.busy": "2021-04-05T19:06:08.025000Z",
     "iopub.status.idle": "2021-04-05T19:06:08.915857Z",
     "shell.execute_reply": "2021-04-05T19:06:08.915350Z"
    }
   },
   "outputs": [
    {
     "name": "stdout",
     "output_type": "stream",
     "text": [
      "Starting experimental run with id: 1. \n",
      "Starting experimental run with id: 2. \n",
      "Starting experimental run with id: 3. \n",
      "Starting experimental run with id: 4. \n",
      "Starting experimental run with id: 5. \n"
     ]
    },
    {
     "name": "stdout",
     "output_type": "stream",
     "text": [
      "Starting experimental run with id: 6. \n"
     ]
    },
    {
     "name": "stdout",
     "output_type": "stream",
     "text": [
      "Starting experimental run with id: 7. \n"
     ]
    },
    {
     "name": "stdout",
     "output_type": "stream",
     "text": [
      "Starting experimental run with id: 8. \n",
      "Starting experimental run with id: 9. \n"
     ]
    },
    {
     "name": "stdout",
     "output_type": "stream",
     "text": [
      "Starting experimental run with id: 10. \n",
      "Starting experimental run with id: 11. \n"
     ]
    },
    {
     "name": "stdout",
     "output_type": "stream",
     "text": [
      "Starting experimental run with id: 12. \n",
      "Starting experimental run with id: 13. \n"
     ]
    },
    {
     "name": "stdout",
     "output_type": "stream",
     "text": [
      "Starting experimental run with id: 14. \n"
     ]
    }
   ],
   "source": [
    "sizes = [1,500,1000,2000,3000,4000,5000]\n",
    "t_numeric = []\n",
    "t_numeric_add = []\n",
    "t_array = []\n",
    "t_array_add = []\n",
    "for size in sizes:\n",
    "    tn, tna, run_id_n =  insert_data('numeric', size)\n",
    "    t_numeric.append(tn)\n",
    "    t_numeric_add.append(tna)\n",
    "\n",
    "    ta, taa, run_id_a =  insert_data('array', size)\n",
    "    t_array.append(ta)\n",
    "    t_array_add.append(taa)"
   ]
  },
  {
   "cell_type": "code",
   "execution_count": 6,
   "metadata": {
    "execution": {
     "iopub.execute_input": "2021-04-05T19:06:08.946265Z",
     "iopub.status.busy": "2021-04-05T19:06:08.936934Z",
     "iopub.status.idle": "2021-04-05T19:06:09.127149Z",
     "shell.execute_reply": "2021-04-05T19:06:09.127959Z"
    }
   },
   "outputs": [
    {
     "data": {
      "image/png": "[encoded data removed]",
      "text/plain": [
       "<Figure size 432x288 with 1 Axes>"
      ]
     },
     "metadata": {
      "needs_background": "light"
     },
     "output_type": "display_data"
    }
   ],
   "source": [
    "fig, ax = plt.subplots(1,1)\n",
    "ax.plot(sizes, t_numeric, 'o-', label='Inserting row-by-row')\n",
    "ax.plot(sizes, t_numeric_add, 'o-', label='Inserting row-by-row: add_result only')\n",
    "ax.plot(sizes, t_array, 'd-', label='Inserting as binary blob')\n",
    "ax.plot(sizes, t_array_add, 'd-', label='Inserting as binary blob: add_result only')\n",
    "ax.legend()\n",
    "ax.set_xlabel('Array length')\n",
    "ax.set_ylabel('Time (s)')\n",
    "fig.tight_layout()"
   ]
  },
  {
   "cell_type": "markdown",
   "metadata": {},
   "source": [
    "As shown in the latter figure, the time to setup and and close the experiment is approximately 0.4 sec. In case of small array sizes, the difference between inserting values of data as arrays and inserting them row-by-row is relatively unimportant. At larger array sizes, i.e. above 10000 points, the cost of writing data as individual datapoints starts to become important.\n"
   ]
  },
  {
   "cell_type": "markdown",
   "metadata": {},
   "source": [
    "### Case2: Long experiment time "
   ]
  },
  {
   "cell_type": "code",
   "execution_count": 7,
   "metadata": {
    "execution": {
     "iopub.execute_input": "2021-04-05T19:06:09.135239Z",
     "iopub.status.busy": "2021-04-05T19:06:09.132902Z",
     "iopub.status.idle": "2021-04-05T19:07:07.731722Z",
     "shell.execute_reply": "2021-04-05T19:07:07.731185Z"
    }
   },
   "outputs": [
    {
     "name": "stdout",
     "output_type": "stream",
     "text": [
      "Starting experimental run with id: 15. \n",
      "Starting experimental run with id: 16. \n"
     ]
    },
    {
     "name": "stdout",
     "output_type": "stream",
     "text": [
      "Starting experimental run with id: 17. \n"
     ]
    },
    {
     "name": "stdout",
     "output_type": "stream",
     "text": [
      "Starting experimental run with id: 18. \n",
      "Starting experimental run with id: 19. \n"
     ]
    },
    {
     "name": "stdout",
     "output_type": "stream",
     "text": [
      "Starting experimental run with id: 20. \n"
     ]
    },
    {
     "name": "stdout",
     "output_type": "stream",
     "text": [
      "Starting experimental run with id: 21. \n"
     ]
    },
    {
     "name": "stdout",
     "output_type": "stream",
     "text": [
      "Starting experimental run with id: 22. \n"
     ]
    },
    {
     "name": "stdout",
     "output_type": "stream",
     "text": [
      "Starting experimental run with id: 23. \n"
     ]
    },
    {
     "name": "stdout",
     "output_type": "stream",
     "text": [
      "Starting experimental run with id: 24. \n"
     ]
    },
    {
     "name": "stdout",
     "output_type": "stream",
     "text": [
      "Starting experimental run with id: 25. \n"
     ]
    },
    {
     "name": "stdout",
     "output_type": "stream",
     "text": [
      "Starting experimental run with id: 26. \n"
     ]
    },
    {
     "name": "stdout",
     "output_type": "stream",
     "text": [
      "Starting experimental run with id: 27. \n"
     ]
    },
    {
     "name": "stdout",
     "output_type": "stream",
     "text": [
      "Starting experimental run with id: 28. \n"
     ]
    }
   ],
   "source": [
    "sizes = [1,500,1000,2000,3000,4000,5000]\n",
    "nreps = 100\n",
    "t_numeric = []\n",
    "t_numeric_add = []\n",
    "t_numeric_run_ids = []\n",
    "t_array = []\n",
    "t_array_add = []\n",
    "t_array_run_ids = []\n",
    "for size in sizes:\n",
    "    tn, tna, run_id_n =  insert_data('numeric', size, nreps=nreps)\n",
    "    t_numeric.append(tn)\n",
    "    t_numeric_add.append(tna)\n",
    "    t_numeric_run_ids.append(run_id_n)\n",
    "\n",
    "    ta, taa, run_id_a =  insert_data('array', size, nreps=nreps)\n",
    "    t_array.append(ta)\n",
    "    t_array_add.append(taa)\n",
    "    t_array_run_ids.append(run_id_a)"
   ]
  },
  {
   "cell_type": "code",
   "execution_count": 8,
   "metadata": {
    "execution": {
     "iopub.execute_input": "2021-04-05T19:07:07.753027Z",
     "iopub.status.busy": "2021-04-05T19:07:07.750959Z",
     "iopub.status.idle": "2021-04-05T19:07:07.923596Z",
     "shell.execute_reply": "2021-04-05T19:07:07.924318Z"
    },
    "scrolled": true
   },
   "outputs": [
    {
     "data": {
      "image/png": "[encoded data removed]",
      "text/plain": [
       "<Figure size 432x288 with 1 Axes>"
      ]
     },
     "metadata": {
      "needs_background": "light"
     },
     "output_type": "display_data"
    }
   ],
   "source": [
    "fig, ax = plt.subplots(1,1)\n",
    "ax.plot(sizes, t_numeric, 'o-', label='Inserting row-by-row')\n",
    "ax.plot(sizes, t_numeric_add, 'o-', label='Inserting row-by-row: add_result only')\n",
    "ax.plot(sizes, t_array, 'd-', label='Inserting as binary blob')\n",
    "ax.plot(sizes, t_array_add, 'd-', label='Inserting as binary blob: add_result only')\n",
    "ax.legend()\n",
    "ax.set_xlabel('Array length')\n",
    "ax.set_ylabel('Time (s)')\n",
    "fig.tight_layout()"
   ]
  },
  {
   "cell_type": "markdown",
   "metadata": {},
   "source": [
    "However, as we increase the length of the experiment, as seen here by repeating the insertion 100 times, we see a big difference between inserting values of the data row-by-row and inserting it as a binary blob."
   ]
  },
  {
   "cell_type": "markdown",
   "metadata": {},
   "source": [
    "## Loading the data "
   ]
  },
  {
   "cell_type": "code",
   "execution_count": 9,
   "metadata": {
    "execution": {
     "iopub.execute_input": "2021-04-05T19:07:07.929096Z",
     "iopub.status.busy": "2021-04-05T19:07:07.928352Z",
     "iopub.status.idle": "2021-04-05T19:07:07.932544Z",
     "shell.execute_reply": "2021-04-05T19:07:07.933345Z"
    }
   },
   "outputs": [],
   "source": [
    "from qcodes.dataset.data_set import load_by_id\n",
    "from qcodes.dataset.data_export import get_data_by_id"
   ]
  },
  {
   "cell_type": "markdown",
   "metadata": {},
   "source": [
    "As usual you can load the data by using the ``load_by_id`` function but you will notice that the different storage methods\n",
    "are reflected in shape of the data as it is retrieved. "
   ]
  },
  {
   "cell_type": "code",
   "execution_count": 10,
   "metadata": {
    "execution": {
     "iopub.execute_input": "2021-04-05T19:07:07.937820Z",
     "iopub.status.busy": "2021-04-05T19:07:07.937255Z",
     "iopub.status.idle": "2021-04-05T19:07:07.940873Z",
     "shell.execute_reply": "2021-04-05T19:07:07.940365Z"
    }
   },
   "outputs": [],
   "source": [
    "run_id_n = t_numeric_run_ids[0]\n",
    "run_id_a = t_array_run_ids[0]"
   ]
  },
  {
   "cell_type": "code",
   "execution_count": 11,
   "metadata": {
    "execution": {
     "iopub.execute_input": "2021-04-05T19:07:07.944740Z",
     "iopub.status.busy": "2021-04-05T19:07:07.944181Z",
     "iopub.status.idle": "2021-04-05T19:07:07.956769Z",
     "shell.execute_reply": "2021-04-05T19:07:07.956262Z"
    },
    "scrolled": true
   },
   "outputs": [
    {
     "data": {
      "text/plain": [
       "{'x1': {'x1': array([0.11893602, 0.11893602, 0.78390862, 0.78390862, 0.81629283,\n",
       "         0.81629283, 0.08611401, 0.08611401, 0.20310058, 0.20310058,\n",
       "         0.57885789, 0.57885789, 0.24548607, 0.24548607, 0.72942667,\n",
       "         0.72942667, 0.69082922, 0.69082922, 0.83592859, 0.83592859,\n",
       "         0.18615727, 0.18615727, 0.14125564, 0.14125564, 0.2119903 ,\n",
       "         0.2119903 , 0.22378835, 0.22378835, 0.18459536, 0.18459536,\n",
       "         0.88943643, 0.88943643, 0.49288946, 0.49288946, 0.8079549 ,\n",
       "         0.8079549 , 0.30965558, 0.30965558, 0.28795896, 0.28795896,\n",
       "         0.5094129 , 0.5094129 , 0.60588679, 0.60588679, 0.8436002 ,\n",
       "         0.8436002 , 0.83770478, 0.83770478, 0.35950579, 0.35950579,\n",
       "         0.17763364, 0.17763364, 0.72611778, 0.72611778, 0.88694443,\n",
       "         0.88694443, 0.63925927, 0.63925927, 0.23596741, 0.23596741,\n",
       "         0.58664661, 0.58664661, 0.27954823, 0.27954823, 0.12432284,\n",
       "         0.12432284, 0.7428831 , 0.7428831 , 0.80388587, 0.80388587,\n",
       "         0.82505998, 0.82505998, 0.48853714, 0.48853714, 0.70009475,\n",
       "         0.70009475, 0.92986854, 0.92986854, 0.57488574, 0.57488574,\n",
       "         0.24738908, 0.24738908, 0.07892112, 0.07892112, 0.70276808,\n",
       "         0.70276808, 0.24891683, 0.24891683, 0.80716809, 0.80716809,\n",
       "         0.68370468, 0.68370468, 0.83878369, 0.83878369, 0.27120518,\n",
       "         0.27120518, 0.29279607, 0.29279607, 0.10138008, 0.10138008,\n",
       "         0.81049225, 0.81049225, 0.51807305, 0.51807305, 0.46145816,\n",
       "         0.46145816, 0.22635397, 0.22635397, 0.28106052, 0.28106052,\n",
       "         0.08285656, 0.08285656, 0.15970189, 0.15970189, 0.22116376,\n",
       "         0.22116376, 0.03751164, 0.03751164, 0.87828965, 0.87828965,\n",
       "         0.99074511, 0.99074511, 0.53560209, 0.53560209, 0.47681249,\n",
       "         0.47681249, 0.9246336 , 0.9246336 , 0.51523157, 0.51523157,\n",
       "         0.12712755, 0.12712755, 0.69996899, 0.69996899, 0.57672297,\n",
       "         0.57672297, 0.44100455, 0.44100455, 0.2406523 , 0.2406523 ,\n",
       "         0.69947859, 0.69947859, 0.31121559, 0.31121559, 0.63862806,\n",
       "         0.63862806, 0.80547754, 0.80547754, 0.80576304, 0.80576304,\n",
       "         0.53536303, 0.53536303, 0.85270135, 0.85270135, 0.05283041,\n",
       "         0.05283041, 0.35671121, 0.35671121, 0.40352393, 0.40352393,\n",
       "         0.2535748 , 0.2535748 , 0.04940678, 0.04940678, 0.24072177,\n",
       "         0.24072177, 0.90460042, 0.90460042, 0.58935936, 0.58935936,\n",
       "         0.12238163, 0.12238163, 0.17181922, 0.17181922, 0.49324199,\n",
       "         0.49324199, 0.38280812, 0.38280812, 0.35788642, 0.35788642,\n",
       "         0.74014991, 0.74014991, 0.62748219, 0.62748219, 0.5287248 ,\n",
       "         0.5287248 , 0.01094644, 0.01094644, 0.40183645, 0.40183645,\n",
       "         0.54860002, 0.54860002, 0.31652628, 0.31652628, 0.05294106,\n",
       "         0.05294106, 0.2942705 , 0.2942705 , 0.647517  , 0.647517  ])}}"
      ]
     },
     "execution_count": 1,
     "metadata": {},
     "output_type": "execute_result"
    }
   ],
   "source": [
    "ds = load_by_id(run_id_n)\n",
    "ds.get_parameter_data('x1')"
   ]
  },
  {
   "cell_type": "markdown",
   "metadata": {},
   "source": [
    "And a dataset stored as binary arrays"
   ]
  },
  {
   "cell_type": "code",
   "execution_count": 12,
   "metadata": {
    "execution": {
     "iopub.execute_input": "2021-04-05T19:07:07.960723Z",
     "iopub.status.busy": "2021-04-05T19:07:07.960158Z",
     "iopub.status.idle": "2021-04-05T19:07:08.020755Z",
     "shell.execute_reply": "2021-04-05T19:07:08.021486Z"
    },
    "scrolled": true
   },
   "outputs": [
    {
     "data": {
      "text/plain": [
       "{'x1': {'x1': array([[0.55559525],\n",
       "         [0.55559525],\n",
       "         [0.63784256],\n",
       "         [0.63784256],\n",
       "         [0.29075077],\n",
       "         [0.29075077],\n",
       "         [0.79693057],\n",
       "         [0.79693057],\n",
       "         [0.71735754],\n",
       "         [0.71735754],\n",
       "         [0.06378981],\n",
       "         [0.06378981],\n",
       "         [0.41824324],\n",
       "         [0.41824324],\n",
       "         [0.36767695],\n",
       "         [0.36767695],\n",
       "         [0.10464672],\n",
       "         [0.10464672],\n",
       "         [0.08779783],\n",
       "         [0.08779783],\n",
       "         [0.79234092],\n",
       "         [0.79234092],\n",
       "         [0.55106825],\n",
       "         [0.55106825],\n",
       "         [0.66165787],\n",
       "         [0.66165787],\n",
       "         [0.14795759],\n",
       "         [0.14795759],\n",
       "         [0.51587124],\n",
       "         [0.51587124],\n",
       "         [0.7360253 ],\n",
       "         [0.7360253 ],\n",
       "         [0.33389267],\n",
       "         [0.33389267],\n",
       "         [0.8914643 ],\n",
       "         [0.8914643 ],\n",
       "         [0.14848825],\n",
       "         [0.14848825],\n",
       "         [0.81582729],\n",
       "         [0.81582729],\n",
       "         [0.47869381],\n",
       "         [0.47869381],\n",
       "         [0.26032394],\n",
       "         [0.26032394],\n",
       "         [0.82969948],\n",
       "         [0.82969948],\n",
       "         [0.8725692 ],\n",
       "         [0.8725692 ],\n",
       "         [0.42273345],\n",
       "         [0.42273345],\n",
       "         [0.38119971],\n",
       "         [0.38119971],\n",
       "         [0.16715635],\n",
       "         [0.16715635],\n",
       "         [0.3470246 ],\n",
       "         [0.3470246 ],\n",
       "         [0.48173121],\n",
       "         [0.48173121],\n",
       "         [0.78490696],\n",
       "         [0.78490696],\n",
       "         [0.26703363],\n",
       "         [0.26703363],\n",
       "         [0.06655919],\n",
       "         [0.06655919],\n",
       "         [0.02590152],\n",
       "         [0.02590152],\n",
       "         [0.08346532],\n",
       "         [0.08346532],\n",
       "         [0.78970645],\n",
       "         [0.78970645],\n",
       "         [0.01734151],\n",
       "         [0.01734151],\n",
       "         [0.54891558],\n",
       "         [0.54891558],\n",
       "         [0.70486824],\n",
       "         [0.70486824],\n",
       "         [0.24796721],\n",
       "         [0.24796721],\n",
       "         [0.45888109],\n",
       "         [0.45888109],\n",
       "         [0.29495325],\n",
       "         [0.29495325],\n",
       "         [0.87938091],\n",
       "         [0.87938091],\n",
       "         [0.55350488],\n",
       "         [0.55350488],\n",
       "         [0.71886809],\n",
       "         [0.71886809],\n",
       "         [0.85720979],\n",
       "         [0.85720979],\n",
       "         [0.28808228],\n",
       "         [0.28808228],\n",
       "         [0.69976067],\n",
       "         [0.69976067],\n",
       "         [0.54384312],\n",
       "         [0.54384312],\n",
       "         [0.74722644],\n",
       "         [0.74722644],\n",
       "         [0.92764543],\n",
       "         [0.92764543],\n",
       "         [0.20909882],\n",
       "         [0.20909882],\n",
       "         [0.47752428],\n",
       "         [0.47752428],\n",
       "         [0.65551049],\n",
       "         [0.65551049],\n",
       "         [0.67194568],\n",
       "         [0.67194568],\n",
       "         [0.17353411],\n",
       "         [0.17353411],\n",
       "         [0.79544787],\n",
       "         [0.79544787],\n",
       "         [0.47286276],\n",
       "         [0.47286276],\n",
       "         [0.52495643],\n",
       "         [0.52495643],\n",
       "         [0.55243228],\n",
       "         [0.55243228],\n",
       "         [0.17812962],\n",
       "         [0.17812962],\n",
       "         [0.59595932],\n",
       "         [0.59595932],\n",
       "         [0.51932802],\n",
       "         [0.51932802],\n",
       "         [0.15903372],\n",
       "         [0.15903372],\n",
       "         [0.81778001],\n",
       "         [0.81778001],\n",
       "         [0.03769909],\n",
       "         [0.03769909],\n",
       "         [0.79514267],\n",
       "         [0.79514267],\n",
       "         [0.6628485 ],\n",
       "         [0.6628485 ],\n",
       "         [0.20981378],\n",
       "         [0.20981378],\n",
       "         [0.92040888],\n",
       "         [0.92040888],\n",
       "         [0.77247975],\n",
       "         [0.77247975],\n",
       "         [0.20308754],\n",
       "         [0.20308754],\n",
       "         [0.54769449],\n",
       "         [0.54769449],\n",
       "         [0.50361902],\n",
       "         [0.50361902],\n",
       "         [0.25314926],\n",
       "         [0.25314926],\n",
       "         [0.34990536],\n",
       "         [0.34990536],\n",
       "         [0.78245858],\n",
       "         [0.78245858],\n",
       "         [0.10003202],\n",
       "         [0.10003202],\n",
       "         [0.41043553],\n",
       "         [0.41043553],\n",
       "         [0.0423231 ],\n",
       "         [0.0423231 ],\n",
       "         [0.67203385],\n",
       "         [0.67203385],\n",
       "         [0.65934803],\n",
       "         [0.65934803],\n",
       "         [0.68332155],\n",
       "         [0.68332155],\n",
       "         [0.66620323],\n",
       "         [0.66620323],\n",
       "         [0.57669726],\n",
       "         [0.57669726],\n",
       "         [0.51246511],\n",
       "         [0.51246511],\n",
       "         [0.91216176],\n",
       "         [0.91216176],\n",
       "         [0.60415495],\n",
       "         [0.60415495],\n",
       "         [0.35976768],\n",
       "         [0.35976768],\n",
       "         [0.37220483],\n",
       "         [0.37220483],\n",
       "         [0.48389949],\n",
       "         [0.48389949],\n",
       "         [0.53643665],\n",
       "         [0.53643665],\n",
       "         [0.71491753],\n",
       "         [0.71491753],\n",
       "         [0.10136516],\n",
       "         [0.10136516],\n",
       "         [0.85142853],\n",
       "         [0.85142853],\n",
       "         [0.06140305],\n",
       "         [0.06140305],\n",
       "         [0.93281812],\n",
       "         [0.93281812],\n",
       "         [0.77511578],\n",
       "         [0.77511578],\n",
       "         [0.00606917],\n",
       "         [0.00606917],\n",
       "         [0.38415717],\n",
       "         [0.38415717],\n",
       "         [0.79601103],\n",
       "         [0.79601103]])}}"
      ]
     },
     "execution_count": 1,
     "metadata": {},
     "output_type": "execute_result"
    }
   ],
   "source": [
    "ds = load_by_id(run_id_a)\n",
    "ds.get_parameter_data('x1')"
   ]
  },
  {
   "cell_type": "code",
   "execution_count": null,
   "metadata": {},
   "outputs": [],
   "source": []
  }
 ],
 "metadata": {
  "kernelspec": {
   "display_name": "Python 3",
   "language": "python",
   "name": "python3"
  },
  "language_info": {
   "codemirror_mode": {
    "name": "ipython",
    "version": 3
   },
   "file_extension": ".py",
   "mimetype": "text/x-python",
   "name": "python",
   "nbconvert_exporter": "python",
   "pygments_lexer": "ipython3",
   "version": "3.7.10"
  },
  "nbsphinx": {
   "timeout": 600
  },
  "toc": {
   "base_numbering": 1,
   "nav_menu": {},
   "number_sections": true,
   "sideBar": true,
   "skip_h1_title": false,
   "title_cell": "Table of Contents",
   "title_sidebar": "Contents",
   "toc_cell": false,
   "toc_position": {},
   "toc_section_display": true,
   "toc_window_display": false
  },
  "varInspector": {
   "cols": {
    "lenName": 16,
    "lenType": 16,
    "lenVar": 40
   },
   "kernels_config": {
    "python": {
     "delete_cmd_postfix": "",
     "delete_cmd_prefix": "del ",
     "library": "var_list.py",
     "varRefreshCmd": "print(var_dic_list())"
    },
    "r": {
     "delete_cmd_postfix": ") ",
     "delete_cmd_prefix": "rm(",
     "library": "var_list.r",
     "varRefreshCmd": "cat(var_dic_list()) "
    }
   },
   "types_to_exclude": [
    "module",
    "function",
    "builtin_function_or_method",
    "instance",
    "_Feature"
   ],
   "window_display": false
  }
 },
 "nbformat": 4,
 "nbformat_minor": 2
}
