{
 "cells": [
  {
   "cell_type": "markdown",
   "metadata": {},
   "source": [
    "# DataSet Performance\n",
    "\n",
    "This notebook shows the trade-off between inserting data into a database row-by-row and as binary blobs. Inserting the data row-by-row means that we have direct access to all the data and may perform queries directly on the values of the data. On the other hand, as we shall see, this is much slower than inserting the data directly as binary blobs."
   ]
  },
  {
   "cell_type": "markdown",
   "metadata": {},
   "source": [
    "First, we choose a new location for the database to ensure that we don't add a bunch of benchmarking data to the default one."
   ]
  },
  {
   "cell_type": "code",
   "execution_count": 1,
   "metadata": {
    "execution": {
     "iopub.execute_input": "2020-10-26T17:06:32.031052Z",
     "iopub.status.busy": "2020-10-26T17:06:32.030429Z",
     "iopub.status.idle": "2020-10-26T17:06:33.022592Z",
     "shell.execute_reply": "2020-10-26T17:06:33.022050Z"
    }
   },
   "outputs": [
    {
     "name": "stdout",
     "output_type": "stream",
     "text": [
      "Logging hadn't been started.\n",
      "Activating auto-logging. Current session state plus future input saved.\n",
      "Filename       : /home/vsts/.qcodes/logs/command_history.log\n",
      "Mode           : append\n",
      "Output logging : True\n",
      "Raw input log  : False\n",
      "Timestamping   : True\n",
      "State          : active\n"
     ]
    },
    {
     "name": "stdout",
     "output_type": "stream",
     "text": [
      "Qcodes Logfile : /home/vsts/.qcodes/logs/201026-15140-qcodes.log\n"
     ]
    }
   ],
   "source": [
    "import os\n",
    "cwd = os.getcwd()\n",
    "import qcodes as qc\n",
    "qc.config[\"core\"][\"db_location\"] = os.path.join(cwd, 'testing.db')\n"
   ]
  },
  {
   "cell_type": "code",
   "execution_count": 2,
   "metadata": {
    "execution": {
     "iopub.execute_input": "2020-10-26T17:06:33.028352Z",
     "iopub.status.busy": "2020-10-26T17:06:33.027819Z",
     "iopub.status.idle": "2020-10-26T17:06:33.208922Z",
     "shell.execute_reply": "2020-10-26T17:06:33.208146Z"
    }
   },
   "outputs": [],
   "source": [
    "%matplotlib inline\n",
    "import time\n",
    "import matplotlib.pyplot as plt\n",
    "import numpy as np\n",
    "\n",
    "import qcodes as qc\n",
    "from qcodes.instrument.parameter import ManualParameter\n",
    "from qcodes.dataset.experiment_container import (Experiment,\n",
    "                                                 load_last_experiment,\n",
    "                                                 new_experiment)\n",
    "from qcodes.dataset.sqlite.database import initialise_database\n",
    "from qcodes import load_or_create_experiment\n",
    "from qcodes.dataset.measurements import Measurement"
   ]
  },
  {
   "cell_type": "code",
   "execution_count": 3,
   "metadata": {
    "execution": {
     "iopub.execute_input": "2020-10-26T17:06:33.212569Z",
     "iopub.status.busy": "2020-10-26T17:06:33.211890Z",
     "iopub.status.idle": "2020-10-26T17:06:33.335721Z",
     "shell.execute_reply": "2020-10-26T17:06:33.336237Z"
    }
   },
   "outputs": [
    {
     "name": "stdout",
     "output_type": "stream",
     "text": [
      "\r",
      "0it [00:00, ?it/s]"
     ]
    },
    {
     "name": "stdout",
     "output_type": "stream",
     "text": [
      "\r",
      "Upgrading database; v0 -> v1: : 0it [00:00, ?it/s]"
     ]
    },
    {
     "name": "stdout",
     "output_type": "stream",
     "text": [
      "\r",
      "Upgrading database; v0 -> v1: : 0it [00:00, ?it/s]"
     ]
    },
    {
     "name": "stdout",
     "output_type": "stream",
     "text": [
      "\n",
      "\r",
      "  0%|          | 0/1 [00:00<?, ?it/s]"
     ]
    },
    {
     "name": "stdout",
     "output_type": "stream",
     "text": [
      "\r",
      "Upgrading database; v1 -> v2:   0%|          | 0/1 [00:00<?, ?it/s]"
     ]
    },
    {
     "name": "stdout",
     "output_type": "stream",
     "text": [
      "\r",
      "Upgrading database; v1 -> v2: 100%|██████████| 1/1 [00:00<00:00, 789.89it/s]"
     ]
    },
    {
     "name": "stdout",
     "output_type": "stream",
     "text": [
      "\n",
      "\r",
      "0it [00:00, ?it/s]"
     ]
    },
    {
     "name": "stdout",
     "output_type": "stream",
     "text": [
      "\r",
      "Upgrading database; v2 -> v3: : 0it [00:00, ?it/s]"
     ]
    },
    {
     "name": "stdout",
     "output_type": "stream",
     "text": [
      "\r",
      "Upgrading database; v2 -> v3: : 0it [00:00, ?it/s]"
     ]
    },
    {
     "name": "stdout",
     "output_type": "stream",
     "text": [
      "\n",
      "\r",
      "0it [00:00, ?it/s]"
     ]
    },
    {
     "name": "stdout",
     "output_type": "stream",
     "text": [
      "\r",
      "Upgrading database; v3 -> v4: : 0it [00:00, ?it/s]"
     ]
    },
    {
     "name": "stdout",
     "output_type": "stream",
     "text": [
      "\r",
      "Upgrading database; v3 -> v4: : 0it [00:00, ?it/s]"
     ]
    },
    {
     "name": "stdout",
     "output_type": "stream",
     "text": [
      "\n",
      "\r",
      "  0%|          | 0/1 [00:00<?, ?it/s]"
     ]
    },
    {
     "name": "stdout",
     "output_type": "stream",
     "text": [
      "\r",
      "Upgrading database; v4 -> v5:   0%|          | 0/1 [00:00<?, ?it/s]"
     ]
    },
    {
     "name": "stdout",
     "output_type": "stream",
     "text": [
      "\r",
      "Upgrading database; v4 -> v5: 100%|██████████| 1/1 [00:00<00:00, 486.92it/s]"
     ]
    },
    {
     "name": "stdout",
     "output_type": "stream",
     "text": [
      "\n",
      "\r",
      "0it [00:00, ?it/s]"
     ]
    },
    {
     "name": "stdout",
     "output_type": "stream",
     "text": [
      "\r",
      "Upgrading database; v5 -> v6: : 0it [00:00, ?it/s]"
     ]
    },
    {
     "name": "stdout",
     "output_type": "stream",
     "text": [
      "\r",
      "Upgrading database; v5 -> v6: : 0it [00:00, ?it/s]"
     ]
    },
    {
     "name": "stdout",
     "output_type": "stream",
     "text": [
      "\n",
      "\r",
      "  0%|          | 0/1 [00:00<?, ?it/s]"
     ]
    },
    {
     "name": "stdout",
     "output_type": "stream",
     "text": [
      "\r",
      "Upgrading database; v6 -> v7:   0%|          | 0/1 [00:00<?, ?it/s]"
     ]
    },
    {
     "name": "stdout",
     "output_type": "stream",
     "text": [
      "\r",
      "Upgrading database; v6 -> v7: 100%|██████████| 1/1 [00:00<00:00, 264.78it/s]"
     ]
    },
    {
     "name": "stdout",
     "output_type": "stream",
     "text": [
      "\n",
      "\r",
      "  0%|          | 0/1 [00:00<?, ?it/s]"
     ]
    },
    {
     "name": "stdout",
     "output_type": "stream",
     "text": [
      "\r",
      "Upgrading database; v7 -> v8:   0%|          | 0/1 [00:00<?, ?it/s]"
     ]
    },
    {
     "name": "stdout",
     "output_type": "stream",
     "text": [
      "\r",
      "Upgrading database; v7 -> v8: 100%|██████████| 1/1 [00:00<00:00, 1206.99it/s]"
     ]
    },
    {
     "name": "stdout",
     "output_type": "stream",
     "text": [
      "\n",
      "\r",
      "  0%|          | 0/1 [00:00<?, ?it/s]"
     ]
    },
    {
     "name": "stdout",
     "output_type": "stream",
     "text": [
      "\r",
      "Upgrading database; v8 -> v9:   0%|          | 0/1 [00:00<?, ?it/s]"
     ]
    },
    {
     "name": "stdout",
     "output_type": "stream",
     "text": [
      "\r",
      "Upgrading database; v8 -> v9: 100%|██████████| 1/1 [00:00<00:00, 436.68it/s]"
     ]
    },
    {
     "name": "stdout",
     "output_type": "stream",
     "text": [
      "\n"
     ]
    }
   ],
   "source": [
    "initialise_database()\n",
    "exp = load_or_create_experiment(experiment_name='tutorial_exp', sample_name=\"no sample\")"
   ]
  },
  {
   "cell_type": "markdown",
   "metadata": {},
   "source": [
    "Here, we define a simple function to benchmark the time it takes to insert n points with either numeric or array data type.\n",
    "We will compare both the time used to call ``add_result`` and the time used for the full measurement."
   ]
  },
  {
   "cell_type": "code",
   "execution_count": 4,
   "metadata": {
    "execution": {
     "iopub.execute_input": "2020-10-26T17:06:33.343906Z",
     "iopub.status.busy": "2020-10-26T17:06:33.343273Z",
     "iopub.status.idle": "2020-10-26T17:06:33.346548Z",
     "shell.execute_reply": "2020-10-26T17:06:33.347151Z"
    }
   },
   "outputs": [],
   "source": [
    "def insert_data(paramtype, npoints, nreps=1):\n",
    "\n",
    "    meas = Measurement(exp=exp)\n",
    "\n",
    "    x1 = ManualParameter('x1')\n",
    "    x2 = ManualParameter('x2')\n",
    "    x3 = ManualParameter('x3')\n",
    "    y1 = ManualParameter('y1')\n",
    "    y2 = ManualParameter('y2')\n",
    "\n",
    "    meas.register_parameter(x1, paramtype=paramtype)\n",
    "    meas.register_parameter(x2, paramtype=paramtype)\n",
    "    meas.register_parameter(x3, paramtype=paramtype)\n",
    "    meas.register_parameter(y1, setpoints=[x1, x2, x3],\n",
    "                            paramtype=paramtype)\n",
    "    meas.register_parameter(y2, setpoints=[x1, x2, x3],\n",
    "                            paramtype=paramtype)\n",
    "    start = time.perf_counter()\n",
    "    with meas.run() as datasaver:\n",
    "        start_adding = time.perf_counter()\n",
    "        for i in range(nreps):\n",
    "            datasaver.add_result((x1, np.random.rand(npoints)),\n",
    "                                 (x2, np.random.rand(npoints)),\n",
    "                                 (x3, np.random.rand(npoints)),\n",
    "                                 (y1, np.random.rand(npoints)),\n",
    "                                 (y2, np.random.rand(npoints)))\n",
    "        stop_adding = time.perf_counter()\n",
    "        run_id = datasaver.run_id\n",
    "    stop = time.perf_counter()\n",
    "    tot_time = stop - start\n",
    "    add_time = stop_adding - start_adding\n",
    "    return tot_time, add_time, run_id"
   ]
  },
  {
   "cell_type": "markdown",
   "metadata": {},
   "source": [
    "## Comparison between numeric/array data and binary blob"
   ]
  },
  {
   "cell_type": "markdown",
   "metadata": {},
   "source": [
    "### Case1: Short experiment time"
   ]
  },
  {
   "cell_type": "code",
   "execution_count": 5,
   "metadata": {
    "execution": {
     "iopub.execute_input": "2020-10-26T17:06:33.353173Z",
     "iopub.status.busy": "2020-10-26T17:06:33.352552Z",
     "iopub.status.idle": "2020-10-26T17:06:34.194124Z",
     "shell.execute_reply": "2020-10-26T17:06:34.193629Z"
    }
   },
   "outputs": [
    {
     "name": "stdout",
     "output_type": "stream",
     "text": [
      "Starting experimental run with id: 1. \n",
      "Starting experimental run with id: 2. \n",
      "Starting experimental run with id: 3. \n",
      "Starting experimental run with id: 4. \n"
     ]
    },
    {
     "name": "stdout",
     "output_type": "stream",
     "text": [
      "Starting experimental run with id: 5. \n"
     ]
    },
    {
     "name": "stdout",
     "output_type": "stream",
     "text": [
      "Starting experimental run with id: 6. \n",
      "Starting experimental run with id: 7. \n"
     ]
    },
    {
     "name": "stdout",
     "output_type": "stream",
     "text": [
      "Starting experimental run with id: 8. \n",
      "Starting experimental run with id: 9. \n"
     ]
    },
    {
     "name": "stdout",
     "output_type": "stream",
     "text": [
      "Starting experimental run with id: 10. \n",
      "Starting experimental run with id: 11. \n"
     ]
    },
    {
     "name": "stdout",
     "output_type": "stream",
     "text": [
      "Starting experimental run with id: 12. \n",
      "Starting experimental run with id: 13. \n"
     ]
    },
    {
     "name": "stdout",
     "output_type": "stream",
     "text": [
      "Starting experimental run with id: 14. \n"
     ]
    }
   ],
   "source": [
    "sizes = [1,500,1000,2000,3000,4000,5000]\n",
    "t_numeric = []\n",
    "t_numeric_add = []\n",
    "t_array = []\n",
    "t_array_add = []\n",
    "for size in sizes:\n",
    "    tn, tna, run_id_n =  insert_data('numeric', size)\n",
    "    t_numeric.append(tn)\n",
    "    t_numeric_add.append(tna)\n",
    "\n",
    "    ta, taa, run_id_a =  insert_data('array', size)\n",
    "    t_array.append(ta)\n",
    "    t_array_add.append(taa)"
   ]
  },
  {
   "cell_type": "code",
   "execution_count": 6,
   "metadata": {
    "execution": {
     "iopub.execute_input": "2020-10-26T17:06:34.219129Z",
     "iopub.status.busy": "2020-10-26T17:06:34.213675Z",
     "iopub.status.idle": "2020-10-26T17:06:34.440090Z",
     "shell.execute_reply": "2020-10-26T17:06:34.440652Z"
    }
   },
   "outputs": [
    {
     "data": {
      "image/png": "[encoded data removed]",
      "text/plain": [
       "<Figure size 432x288 with 1 Axes>"
      ]
     },
     "metadata": {
      "needs_background": "light"
     },
     "output_type": "display_data"
    }
   ],
   "source": [
    "fig, ax = plt.subplots(1,1)\n",
    "ax.plot(sizes, t_numeric, 'o-', label='Inserting row-by-row')\n",
    "ax.plot(sizes, t_numeric_add, 'o-', label='Inserting row-by-row: add_result only')\n",
    "ax.plot(sizes, t_array, 'd-', label='Inserting as binary blob')\n",
    "ax.plot(sizes, t_array_add, 'd-', label='Inserting as binary blob: add_result only')\n",
    "ax.legend()\n",
    "ax.set_xlabel('Array length')\n",
    "ax.set_ylabel('Time (s)')\n",
    "fig.tight_layout()"
   ]
  },
  {
   "cell_type": "markdown",
   "metadata": {},
   "source": [
    "As shown in the latter figure, the time to setup and and close the experiment is approximately 0.4 sec. In case of small array sizes, the difference between inserting values of data as arrays and inserting them row-by-row is relatively unimportant. At larger array sizes, i.e. above 10000 points, the cost of writing data as individual datapoints starts to become important.\n"
   ]
  },
  {
   "cell_type": "markdown",
   "metadata": {},
   "source": [
    "### Case2: Long experiment time "
   ]
  },
  {
   "cell_type": "code",
   "execution_count": 7,
   "metadata": {
    "execution": {
     "iopub.execute_input": "2020-10-26T17:06:34.446694Z",
     "iopub.status.busy": "2020-10-26T17:06:34.444858Z",
     "iopub.status.idle": "2020-10-26T17:07:28.870580Z",
     "shell.execute_reply": "2020-10-26T17:07:28.870119Z"
    }
   },
   "outputs": [
    {
     "name": "stdout",
     "output_type": "stream",
     "text": [
      "Starting experimental run with id: 15. \n",
      "Starting experimental run with id: 16. \n",
      "Starting experimental run with id: 17. \n"
     ]
    },
    {
     "name": "stdout",
     "output_type": "stream",
     "text": [
      "Starting experimental run with id: 18. \n",
      "Starting experimental run with id: 19. \n"
     ]
    },
    {
     "name": "stdout",
     "output_type": "stream",
     "text": [
      "Starting experimental run with id: 20. \n"
     ]
    },
    {
     "name": "stdout",
     "output_type": "stream",
     "text": [
      "Starting experimental run with id: 21. \n"
     ]
    },
    {
     "name": "stdout",
     "output_type": "stream",
     "text": [
      "Starting experimental run with id: 22. \n"
     ]
    },
    {
     "name": "stdout",
     "output_type": "stream",
     "text": [
      "Starting experimental run with id: 23. \n"
     ]
    },
    {
     "name": "stdout",
     "output_type": "stream",
     "text": [
      "Starting experimental run with id: 24. \n"
     ]
    },
    {
     "name": "stdout",
     "output_type": "stream",
     "text": [
      "Starting experimental run with id: 25. \n"
     ]
    },
    {
     "name": "stdout",
     "output_type": "stream",
     "text": [
      "Starting experimental run with id: 26. \n"
     ]
    },
    {
     "name": "stdout",
     "output_type": "stream",
     "text": [
      "Starting experimental run with id: 27. \n"
     ]
    },
    {
     "name": "stdout",
     "output_type": "stream",
     "text": [
      "Starting experimental run with id: 28. \n"
     ]
    }
   ],
   "source": [
    "sizes = [1,500,1000,2000,3000,4000,5000]\n",
    "nreps = 100\n",
    "t_numeric = []\n",
    "t_numeric_add = []\n",
    "t_numeric_run_ids = []\n",
    "t_array = []\n",
    "t_array_add = []\n",
    "t_array_run_ids = []\n",
    "for size in sizes:\n",
    "    tn, tna, run_id_n =  insert_data('numeric', size, nreps=nreps)\n",
    "    t_numeric.append(tn)\n",
    "    t_numeric_add.append(tna)\n",
    "    t_numeric_run_ids.append(run_id_n)\n",
    "\n",
    "    ta, taa, run_id_a =  insert_data('array', size, nreps=nreps)\n",
    "    t_array.append(ta)\n",
    "    t_array_add.append(taa)\n",
    "    t_array_run_ids.append(run_id_a)"
   ]
  },
  {
   "cell_type": "code",
   "execution_count": 8,
   "metadata": {
    "execution": {
     "iopub.execute_input": "2020-10-26T17:07:28.897134Z",
     "iopub.status.busy": "2020-10-26T17:07:28.889627Z",
     "iopub.status.idle": "2020-10-26T17:07:29.118045Z",
     "shell.execute_reply": "2020-10-26T17:07:29.117586Z"
    },
    "scrolled": true
   },
   "outputs": [
    {
     "data": {
      "image/png": "[encoded data removed]",
      "text/plain": [
       "<Figure size 432x288 with 1 Axes>"
      ]
     },
     "metadata": {
      "needs_background": "light"
     },
     "output_type": "display_data"
    }
   ],
   "source": [
    "fig, ax = plt.subplots(1,1)\n",
    "ax.plot(sizes, t_numeric, 'o-', label='Inserting row-by-row')\n",
    "ax.plot(sizes, t_numeric_add, 'o-', label='Inserting row-by-row: add_result only')\n",
    "ax.plot(sizes, t_array, 'd-', label='Inserting as binary blob')\n",
    "ax.plot(sizes, t_array_add, 'd-', label='Inserting as binary blob: add_result only')\n",
    "ax.legend()\n",
    "ax.set_xlabel('Array length')\n",
    "ax.set_ylabel('Time (s)')\n",
    "fig.tight_layout()"
   ]
  },
  {
   "cell_type": "markdown",
   "metadata": {},
   "source": [
    "However, as we increase the length of the experiment, as seen here by repeating the insertion 100 times, we see a big difference between inserting values of the data row-by-row and inserting it as a binary blob."
   ]
  },
  {
   "cell_type": "markdown",
   "metadata": {},
   "source": [
    "## Loading the data "
   ]
  },
  {
   "cell_type": "code",
   "execution_count": 9,
   "metadata": {
    "execution": {
     "iopub.execute_input": "2020-10-26T17:07:29.122035Z",
     "iopub.status.busy": "2020-10-26T17:07:29.121521Z",
     "iopub.status.idle": "2020-10-26T17:07:29.125660Z",
     "shell.execute_reply": "2020-10-26T17:07:29.124877Z"
    }
   },
   "outputs": [],
   "source": [
    "from qcodes.dataset.data_set import load_by_id\n",
    "from qcodes.dataset.data_export import get_data_by_id"
   ]
  },
  {
   "cell_type": "markdown",
   "metadata": {},
   "source": [
    "As usual you can load the data by using the ``load_by_id`` function but you will notice that the different storage methods\n",
    "are reflected in shape of the data as it is retrieved. "
   ]
  },
  {
   "cell_type": "code",
   "execution_count": 10,
   "metadata": {
    "execution": {
     "iopub.execute_input": "2020-10-26T17:07:29.130547Z",
     "iopub.status.busy": "2020-10-26T17:07:29.129431Z",
     "iopub.status.idle": "2020-10-26T17:07:29.131148Z",
     "shell.execute_reply": "2020-10-26T17:07:29.131594Z"
    }
   },
   "outputs": [],
   "source": [
    "run_id_n = t_numeric_run_ids[0]\n",
    "run_id_a = t_array_run_ids[0]"
   ]
  },
  {
   "cell_type": "code",
   "execution_count": 11,
   "metadata": {
    "execution": {
     "iopub.execute_input": "2020-10-26T17:07:29.134698Z",
     "iopub.status.busy": "2020-10-26T17:07:29.134188Z",
     "iopub.status.idle": "2020-10-26T17:07:29.142492Z",
     "shell.execute_reply": "2020-10-26T17:07:29.143076Z"
    },
    "scrolled": true
   },
   "outputs": [
    {
     "data": {
      "text/plain": [
       "{'x1': {'x1': array([0.63146546, 0.63146546, 0.12467123, 0.12467123, 0.4410937 ,\n",
       "         0.4410937 , 0.62573436, 0.62573436, 0.33470937, 0.33470937,\n",
       "         0.19882097, 0.19882097, 0.81379654, 0.81379654, 0.4404106 ,\n",
       "         0.4404106 , 0.28801235, 0.28801235, 0.03131943, 0.03131943,\n",
       "         0.95265534, 0.95265534, 0.86582388, 0.86582388, 0.46363863,\n",
       "         0.46363863, 0.49250606, 0.49250606, 0.18437286, 0.18437286,\n",
       "         0.96489994, 0.96489994, 0.07813157, 0.07813157, 0.96247457,\n",
       "         0.96247457, 0.75606557, 0.75606557, 0.70073876, 0.70073876,\n",
       "         0.79415769, 0.79415769, 0.87248259, 0.87248259, 0.95695097,\n",
       "         0.95695097, 0.56193556, 0.56193556, 0.49341603, 0.49341603,\n",
       "         0.01797068, 0.01797068, 0.28624412, 0.28624412, 0.15886093,\n",
       "         0.15886093, 0.82148915, 0.82148915, 0.26531203, 0.26531203,\n",
       "         0.90317786, 0.90317786, 0.43226306, 0.43226306, 0.02517605,\n",
       "         0.02517605, 0.11732941, 0.11732941, 0.1207043 , 0.1207043 ,\n",
       "         0.92834495, 0.92834495, 0.73896945, 0.73896945, 0.76306409,\n",
       "         0.76306409, 0.88031483, 0.88031483, 0.9339765 , 0.9339765 ,\n",
       "         0.63520972, 0.63520972, 0.15986494, 0.15986494, 0.67482356,\n",
       "         0.67482356, 0.45452994, 0.45452994, 0.54595482, 0.54595482,\n",
       "         0.48733267, 0.48733267, 0.2631414 , 0.2631414 , 0.43584499,\n",
       "         0.43584499, 0.2089323 , 0.2089323 , 0.01659216, 0.01659216,\n",
       "         0.02728234, 0.02728234, 0.1962969 , 0.1962969 , 0.80624611,\n",
       "         0.80624611, 0.99702286, 0.99702286, 0.58991328, 0.58991328,\n",
       "         0.85933887, 0.85933887, 0.18039937, 0.18039937, 0.31171914,\n",
       "         0.31171914, 0.79061281, 0.79061281, 0.66443969, 0.66443969,\n",
       "         0.27395604, 0.27395604, 0.11333674, 0.11333674, 0.88894401,\n",
       "         0.88894401, 0.17347961, 0.17347961, 0.98340716, 0.98340716,\n",
       "         0.70493419, 0.70493419, 0.0370168 , 0.0370168 , 0.12116943,\n",
       "         0.12116943, 0.14433879, 0.14433879, 0.61902068, 0.61902068,\n",
       "         0.89847949, 0.89847949, 0.93521079, 0.93521079, 0.23047572,\n",
       "         0.23047572, 0.97910806, 0.97910806, 0.68526655, 0.68526655,\n",
       "         0.34988744, 0.34988744, 0.10497871, 0.10497871, 0.46146605,\n",
       "         0.46146605, 0.37578751, 0.37578751, 0.43482297, 0.43482297,\n",
       "         0.4242304 , 0.4242304 , 0.91949889, 0.91949889, 0.80392776,\n",
       "         0.80392776, 0.82118112, 0.82118112, 0.49794723, 0.49794723,\n",
       "         0.90537373, 0.90537373, 0.58937226, 0.58937226, 0.10989315,\n",
       "         0.10989315, 0.88412333, 0.88412333, 0.19927873, 0.19927873,\n",
       "         0.20789429, 0.20789429, 0.49741691, 0.49741691, 0.91478957,\n",
       "         0.91478957, 0.68743161, 0.68743161, 0.68375369, 0.68375369,\n",
       "         0.34584956, 0.34584956, 0.41193284, 0.41193284, 0.38327438,\n",
       "         0.38327438, 0.2042527 , 0.2042527 , 0.22390733, 0.22390733])}}"
      ]
     },
     "execution_count": 1,
     "metadata": {},
     "output_type": "execute_result"
    }
   ],
   "source": [
    "ds = load_by_id(run_id_n)\n",
    "ds.get_parameter_data('x1')"
   ]
  },
  {
   "cell_type": "markdown",
   "metadata": {},
   "source": [
    "And a dataset stored as binary arrays"
   ]
  },
  {
   "cell_type": "code",
   "execution_count": 12,
   "metadata": {
    "execution": {
     "iopub.execute_input": "2020-10-26T17:07:29.147037Z",
     "iopub.status.busy": "2020-10-26T17:07:29.146404Z",
     "iopub.status.idle": "2020-10-26T17:07:29.208313Z",
     "shell.execute_reply": "2020-10-26T17:07:29.207827Z"
    },
    "scrolled": true
   },
   "outputs": [
    {
     "data": {
      "text/plain": [
       "{'x1': {'x1': array([[0.54574925],\n",
       "         [0.54574925],\n",
       "         [0.15417161],\n",
       "         [0.15417161],\n",
       "         [0.00414123],\n",
       "         [0.00414123],\n",
       "         [0.53356582],\n",
       "         [0.53356582],\n",
       "         [0.84003224],\n",
       "         [0.84003224],\n",
       "         [0.05966459],\n",
       "         [0.05966459],\n",
       "         [0.82214698],\n",
       "         [0.82214698],\n",
       "         [0.18314995],\n",
       "         [0.18314995],\n",
       "         [0.92392684],\n",
       "         [0.92392684],\n",
       "         [0.08815128],\n",
       "         [0.08815128],\n",
       "         [0.15813637],\n",
       "         [0.15813637],\n",
       "         [0.37219118],\n",
       "         [0.37219118],\n",
       "         [0.50702638],\n",
       "         [0.50702638],\n",
       "         [0.41145533],\n",
       "         [0.41145533],\n",
       "         [0.27244337],\n",
       "         [0.27244337],\n",
       "         [0.87862501],\n",
       "         [0.87862501],\n",
       "         [0.35091065],\n",
       "         [0.35091065],\n",
       "         [0.19329974],\n",
       "         [0.19329974],\n",
       "         [0.82538238],\n",
       "         [0.82538238],\n",
       "         [0.31573595],\n",
       "         [0.31573595],\n",
       "         [0.18153647],\n",
       "         [0.18153647],\n",
       "         [0.52801296],\n",
       "         [0.52801296],\n",
       "         [0.9358248 ],\n",
       "         [0.9358248 ],\n",
       "         [0.11808597],\n",
       "         [0.11808597],\n",
       "         [0.52636129],\n",
       "         [0.52636129],\n",
       "         [0.54238491],\n",
       "         [0.54238491],\n",
       "         [0.72456437],\n",
       "         [0.72456437],\n",
       "         [0.16600127],\n",
       "         [0.16600127],\n",
       "         [0.92796929],\n",
       "         [0.92796929],\n",
       "         [0.68812076],\n",
       "         [0.68812076],\n",
       "         [0.19545374],\n",
       "         [0.19545374],\n",
       "         [0.57911346],\n",
       "         [0.57911346],\n",
       "         [0.33104775],\n",
       "         [0.33104775],\n",
       "         [0.43171769],\n",
       "         [0.43171769],\n",
       "         [0.57658202],\n",
       "         [0.57658202],\n",
       "         [0.46031393],\n",
       "         [0.46031393],\n",
       "         [0.15685937],\n",
       "         [0.15685937],\n",
       "         [0.31519527],\n",
       "         [0.31519527],\n",
       "         [0.00421158],\n",
       "         [0.00421158],\n",
       "         [0.47650321],\n",
       "         [0.47650321],\n",
       "         [0.51172247],\n",
       "         [0.51172247],\n",
       "         [0.53206044],\n",
       "         [0.53206044],\n",
       "         [0.76037939],\n",
       "         [0.76037939],\n",
       "         [0.99770799],\n",
       "         [0.99770799],\n",
       "         [0.41398874],\n",
       "         [0.41398874],\n",
       "         [0.6888544 ],\n",
       "         [0.6888544 ],\n",
       "         [0.78570707],\n",
       "         [0.78570707],\n",
       "         [0.04223588],\n",
       "         [0.04223588],\n",
       "         [0.78748665],\n",
       "         [0.78748665],\n",
       "         [0.9823824 ],\n",
       "         [0.9823824 ],\n",
       "         [0.87137926],\n",
       "         [0.87137926],\n",
       "         [0.38559804],\n",
       "         [0.38559804],\n",
       "         [0.30462409],\n",
       "         [0.30462409],\n",
       "         [0.40074008],\n",
       "         [0.40074008],\n",
       "         [0.65927361],\n",
       "         [0.65927361],\n",
       "         [0.03178587],\n",
       "         [0.03178587],\n",
       "         [0.82925506],\n",
       "         [0.82925506],\n",
       "         [0.33827069],\n",
       "         [0.33827069],\n",
       "         [0.61570137],\n",
       "         [0.61570137],\n",
       "         [0.716523  ],\n",
       "         [0.716523  ],\n",
       "         [0.28067285],\n",
       "         [0.28067285],\n",
       "         [0.75901346],\n",
       "         [0.75901346],\n",
       "         [0.12295341],\n",
       "         [0.12295341],\n",
       "         [0.73064738],\n",
       "         [0.73064738],\n",
       "         [0.15212898],\n",
       "         [0.15212898],\n",
       "         [0.52116471],\n",
       "         [0.52116471],\n",
       "         [0.97126641],\n",
       "         [0.97126641],\n",
       "         [0.29554345],\n",
       "         [0.29554345],\n",
       "         [0.94549659],\n",
       "         [0.94549659],\n",
       "         [0.16687739],\n",
       "         [0.16687739],\n",
       "         [0.96439297],\n",
       "         [0.96439297],\n",
       "         [0.86286441],\n",
       "         [0.86286441],\n",
       "         [0.41212851],\n",
       "         [0.41212851],\n",
       "         [0.75710793],\n",
       "         [0.75710793],\n",
       "         [0.93066926],\n",
       "         [0.93066926],\n",
       "         [0.84405849],\n",
       "         [0.84405849],\n",
       "         [0.17110276],\n",
       "         [0.17110276],\n",
       "         [0.43847847],\n",
       "         [0.43847847],\n",
       "         [0.33218271],\n",
       "         [0.33218271],\n",
       "         [0.64376482],\n",
       "         [0.64376482],\n",
       "         [0.71330631],\n",
       "         [0.71330631],\n",
       "         [0.54452691],\n",
       "         [0.54452691],\n",
       "         [0.12935872],\n",
       "         [0.12935872],\n",
       "         [0.33430129],\n",
       "         [0.33430129],\n",
       "         [0.15235153],\n",
       "         [0.15235153],\n",
       "         [0.84329586],\n",
       "         [0.84329586],\n",
       "         [0.66504704],\n",
       "         [0.66504704],\n",
       "         [0.70085059],\n",
       "         [0.70085059],\n",
       "         [0.11408685],\n",
       "         [0.11408685],\n",
       "         [0.13995359],\n",
       "         [0.13995359],\n",
       "         [0.89834014],\n",
       "         [0.89834014],\n",
       "         [0.80880985],\n",
       "         [0.80880985],\n",
       "         [0.2964507 ],\n",
       "         [0.2964507 ],\n",
       "         [0.05420723],\n",
       "         [0.05420723],\n",
       "         [0.97525166],\n",
       "         [0.97525166],\n",
       "         [0.47523632],\n",
       "         [0.47523632],\n",
       "         [0.92137416],\n",
       "         [0.92137416],\n",
       "         [0.77223025],\n",
       "         [0.77223025],\n",
       "         [0.49436433],\n",
       "         [0.49436433],\n",
       "         [0.09454395],\n",
       "         [0.09454395]])}}"
      ]
     },
     "execution_count": 1,
     "metadata": {},
     "output_type": "execute_result"
    }
   ],
   "source": [
    "ds = load_by_id(run_id_a)\n",
    "ds.get_parameter_data('x1')"
   ]
  },
  {
   "cell_type": "code",
   "execution_count": null,
   "metadata": {},
   "outputs": [],
   "source": []
  }
 ],
 "metadata": {
  "kernelspec": {
   "display_name": "Python 3",
   "language": "python",
   "name": "python3"
  },
  "language_info": {
   "codemirror_mode": {
    "name": "ipython",
    "version": 3
   },
   "file_extension": ".py",
   "mimetype": "text/x-python",
   "name": "python",
   "nbconvert_exporter": "python",
   "pygments_lexer": "ipython3",
   "version": "3.7.7"
  },
  "nbsphinx": {
   "timeout": 600
  },
  "toc": {
   "base_numbering": 1,
   "nav_menu": {},
   "number_sections": true,
   "sideBar": true,
   "skip_h1_title": false,
   "title_cell": "Table of Contents",
   "title_sidebar": "Contents",
   "toc_cell": false,
   "toc_position": {},
   "toc_section_display": true,
   "toc_window_display": false
  },
  "varInspector": {
   "cols": {
    "lenName": 16,
    "lenType": 16,
    "lenVar": 40
   },
   "kernels_config": {
    "python": {
     "delete_cmd_postfix": "",
     "delete_cmd_prefix": "del ",
     "library": "var_list.py",
     "varRefreshCmd": "print(var_dic_list())"
    },
    "r": {
     "delete_cmd_postfix": ") ",
     "delete_cmd_prefix": "rm(",
     "library": "var_list.r",
     "varRefreshCmd": "cat(var_dic_list()) "
    }
   },
   "types_to_exclude": [
    "module",
    "function",
    "builtin_function_or_method",
    "instance",
    "_Feature"
   ],
   "window_display": false
  }
 },
 "nbformat": 4,
 "nbformat_minor": 2
}
