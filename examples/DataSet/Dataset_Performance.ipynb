{
 "cells": [
  {
   "cell_type": "markdown",
   "metadata": {},
   "source": [
    "# DataSet Performance\n",
    "\n",
    "This notebook shows the trade-off between inserting data into a database row-by-row and as binary blobs. Inserting the data row-by-row means that we have direct access to all the data and may perform queries directly on the values of the data. On the other hand, as we shall see, this is much slower than inserting the data directly as binary blobs."
   ]
  },
  {
   "cell_type": "markdown",
   "metadata": {},
   "source": [
    "First, we choose a new location for the database to ensure that we don't add a bunch of benchmarking data to the default one."
   ]
  },
  {
   "cell_type": "code",
   "execution_count": 1,
   "metadata": {
    "execution": {
     "iopub.execute_input": "2021-03-31T15:28:36.125450Z",
     "iopub.status.busy": "2021-03-31T15:28:36.124821Z",
     "iopub.status.idle": "2021-03-31T15:28:37.246720Z",
     "shell.execute_reply": "2021-03-31T15:28:37.245925Z"
    }
   },
   "outputs": [
    {
     "name": "stdout",
     "output_type": "stream",
     "text": [
      "Logging hadn't been started.\n",
      "Activating auto-logging. Current session state plus future input saved.\n",
      "Filename       : /home/runner/.qcodes/logs/command_history.log\n",
      "Mode           : append\n",
      "Output logging : True\n",
      "Raw input log  : False\n",
      "Timestamping   : True\n",
      "State          : active\n"
     ]
    },
    {
     "name": "stdout",
     "output_type": "stream",
     "text": [
      "Qcodes Logfile : /home/runner/.qcodes/logs/210331-4704-qcodes.log\n"
     ]
    }
   ],
   "source": [
    "import os\n",
    "cwd = os.getcwd()\n",
    "import qcodes as qc\n",
    "qc.config[\"core\"][\"db_location\"] = os.path.join(cwd, 'testing.db')\n"
   ]
  },
  {
   "cell_type": "code",
   "execution_count": 2,
   "metadata": {
    "execution": {
     "iopub.execute_input": "2021-03-31T15:28:37.254828Z",
     "iopub.status.busy": "2021-03-31T15:28:37.253015Z",
     "iopub.status.idle": "2021-03-31T15:28:37.525406Z",
     "shell.execute_reply": "2021-03-31T15:28:37.524839Z"
    }
   },
   "outputs": [],
   "source": [
    "%matplotlib inline\n",
    "import time\n",
    "import matplotlib.pyplot as plt\n",
    "import numpy as np\n",
    "\n",
    "import qcodes as qc\n",
    "from qcodes.instrument.parameter import ManualParameter\n",
    "from qcodes.dataset.experiment_container import (Experiment,\n",
    "                                                 load_last_experiment,\n",
    "                                                 new_experiment)\n",
    "from qcodes.dataset.sqlite.database import initialise_database\n",
    "from qcodes import load_or_create_experiment\n",
    "from qcodes.dataset.measurements import Measurement"
   ]
  },
  {
   "cell_type": "code",
   "execution_count": 3,
   "metadata": {
    "execution": {
     "iopub.execute_input": "2021-03-31T15:28:37.529842Z",
     "iopub.status.busy": "2021-03-31T15:28:37.529138Z",
     "iopub.status.idle": "2021-03-31T15:28:37.606811Z",
     "shell.execute_reply": "2021-03-31T15:28:37.607319Z"
    }
   },
   "outputs": [
    {
     "name": "stdout",
     "output_type": "stream",
     "text": [
      "\r",
      "0it [00:00, ?it/s]"
     ]
    },
    {
     "name": "stdout",
     "output_type": "stream",
     "text": [
      "\r",
      "Upgrading database; v0 -> v1: : 0it [00:00, ?it/s]"
     ]
    },
    {
     "name": "stdout",
     "output_type": "stream",
     "text": [
      "\r",
      "Upgrading database; v0 -> v1: : 0it [00:00, ?it/s]"
     ]
    },
    {
     "name": "stdout",
     "output_type": "stream",
     "text": [
      "\n",
      "\r",
      "  0%|          | 0/1 [00:00<?, ?it/s]"
     ]
    },
    {
     "name": "stdout",
     "output_type": "stream",
     "text": [
      "\r",
      "Upgrading database; v1 -> v2:   0%|          | 0/1 [00:00<?, ?it/s]"
     ]
    },
    {
     "name": "stdout",
     "output_type": "stream",
     "text": [
      "\r",
      "Upgrading database; v1 -> v2: 100%|██████████| 1/1 [00:00<00:00, 510.01it/s]"
     ]
    },
    {
     "name": "stdout",
     "output_type": "stream",
     "text": [
      "\n",
      "\r",
      "0it [00:00, ?it/s]"
     ]
    },
    {
     "name": "stdout",
     "output_type": "stream",
     "text": [
      "\r",
      "Upgrading database; v2 -> v3: : 0it [00:00, ?it/s]"
     ]
    },
    {
     "name": "stdout",
     "output_type": "stream",
     "text": [
      "\r",
      "Upgrading database; v2 -> v3: : 0it [00:00, ?it/s]"
     ]
    },
    {
     "name": "stdout",
     "output_type": "stream",
     "text": [
      "\n",
      "\r",
      "0it [00:00, ?it/s]"
     ]
    },
    {
     "name": "stdout",
     "output_type": "stream",
     "text": [
      "\r",
      "Upgrading database; v3 -> v4: : 0it [00:00, ?it/s]"
     ]
    },
    {
     "name": "stdout",
     "output_type": "stream",
     "text": [
      "\r",
      "Upgrading database; v3 -> v4: : 0it [00:00, ?it/s]"
     ]
    },
    {
     "name": "stdout",
     "output_type": "stream",
     "text": [
      "\n",
      "\r",
      "  0%|          | 0/1 [00:00<?, ?it/s]"
     ]
    },
    {
     "name": "stdout",
     "output_type": "stream",
     "text": [
      "\r",
      "Upgrading database; v4 -> v5:   0%|          | 0/1 [00:00<?, ?it/s]"
     ]
    },
    {
     "name": "stdout",
     "output_type": "stream",
     "text": [
      "\r",
      "Upgrading database; v4 -> v5: 100%|██████████| 1/1 [00:00<00:00, 388.00it/s]"
     ]
    },
    {
     "name": "stdout",
     "output_type": "stream",
     "text": [
      "\n",
      "\r",
      "0it [00:00, ?it/s]"
     ]
    },
    {
     "name": "stdout",
     "output_type": "stream",
     "text": [
      "\r",
      "Upgrading database; v5 -> v6: : 0it [00:00, ?it/s]"
     ]
    },
    {
     "name": "stdout",
     "output_type": "stream",
     "text": [
      "\r",
      "Upgrading database; v5 -> v6: : 0it [00:00, ?it/s]"
     ]
    },
    {
     "name": "stdout",
     "output_type": "stream",
     "text": [
      "\n",
      "\r",
      "  0%|          | 0/1 [00:00<?, ?it/s]"
     ]
    },
    {
     "name": "stdout",
     "output_type": "stream",
     "text": [
      "\r",
      "Upgrading database; v6 -> v7:   0%|          | 0/1 [00:00<?, ?it/s]"
     ]
    },
    {
     "name": "stdout",
     "output_type": "stream",
     "text": [
      "\r",
      "Upgrading database; v6 -> v7: 100%|██████████| 1/1 [00:00<00:00, 310.44it/s]"
     ]
    },
    {
     "name": "stdout",
     "output_type": "stream",
     "text": [
      "\n",
      "\r",
      "  0%|          | 0/1 [00:00<?, ?it/s]"
     ]
    },
    {
     "name": "stdout",
     "output_type": "stream",
     "text": [
      "\r",
      "Upgrading database; v7 -> v8:   0%|          | 0/1 [00:00<?, ?it/s]"
     ]
    },
    {
     "name": "stdout",
     "output_type": "stream",
     "text": [
      "\r",
      "Upgrading database; v7 -> v8: 100%|██████████| 1/1 [00:00<00:00, 939.16it/s]"
     ]
    },
    {
     "name": "stdout",
     "output_type": "stream",
     "text": [
      "\n",
      "\r",
      "  0%|          | 0/1 [00:00<?, ?it/s]"
     ]
    },
    {
     "name": "stdout",
     "output_type": "stream",
     "text": [
      "\r",
      "Upgrading database; v8 -> v9:   0%|          | 0/1 [00:00<?, ?it/s]"
     ]
    },
    {
     "name": "stdout",
     "output_type": "stream",
     "text": [
      "\r",
      "Upgrading database; v8 -> v9: 100%|██████████| 1/1 [00:00<00:00, 463.77it/s]"
     ]
    },
    {
     "name": "stdout",
     "output_type": "stream",
     "text": [
      "\n"
     ]
    }
   ],
   "source": [
    "initialise_database()\n",
    "exp = load_or_create_experiment(experiment_name='tutorial_exp', sample_name=\"no sample\")"
   ]
  },
  {
   "cell_type": "markdown",
   "metadata": {},
   "source": [
    "Here, we define a simple function to benchmark the time it takes to insert n points with either numeric or array data type.\n",
    "We will compare both the time used to call ``add_result`` and the time used for the full measurement."
   ]
  },
  {
   "cell_type": "code",
   "execution_count": 4,
   "metadata": {
    "execution": {
     "iopub.execute_input": "2021-03-31T15:28:37.617822Z",
     "iopub.status.busy": "2021-03-31T15:28:37.616361Z",
     "iopub.status.idle": "2021-03-31T15:28:37.618544Z",
     "shell.execute_reply": "2021-03-31T15:28:37.619104Z"
    }
   },
   "outputs": [],
   "source": [
    "def insert_data(paramtype, npoints, nreps=1):\n",
    "\n",
    "    meas = Measurement(exp=exp)\n",
    "\n",
    "    x1 = ManualParameter('x1')\n",
    "    x2 = ManualParameter('x2')\n",
    "    x3 = ManualParameter('x3')\n",
    "    y1 = ManualParameter('y1')\n",
    "    y2 = ManualParameter('y2')\n",
    "\n",
    "    meas.register_parameter(x1, paramtype=paramtype)\n",
    "    meas.register_parameter(x2, paramtype=paramtype)\n",
    "    meas.register_parameter(x3, paramtype=paramtype)\n",
    "    meas.register_parameter(y1, setpoints=[x1, x2, x3],\n",
    "                            paramtype=paramtype)\n",
    "    meas.register_parameter(y2, setpoints=[x1, x2, x3],\n",
    "                            paramtype=paramtype)\n",
    "    start = time.perf_counter()\n",
    "    with meas.run() as datasaver:\n",
    "        start_adding = time.perf_counter()\n",
    "        for i in range(nreps):\n",
    "            datasaver.add_result((x1, np.random.rand(npoints)),\n",
    "                                 (x2, np.random.rand(npoints)),\n",
    "                                 (x3, np.random.rand(npoints)),\n",
    "                                 (y1, np.random.rand(npoints)),\n",
    "                                 (y2, np.random.rand(npoints)))\n",
    "        stop_adding = time.perf_counter()\n",
    "        run_id = datasaver.run_id\n",
    "    stop = time.perf_counter()\n",
    "    tot_time = stop - start\n",
    "    add_time = stop_adding - start_adding\n",
    "    return tot_time, add_time, run_id"
   ]
  },
  {
   "cell_type": "markdown",
   "metadata": {},
   "source": [
    "## Comparison between numeric/array data and binary blob"
   ]
  },
  {
   "cell_type": "markdown",
   "metadata": {},
   "source": [
    "### Case1: Short experiment time"
   ]
  },
  {
   "cell_type": "code",
   "execution_count": 5,
   "metadata": {
    "execution": {
     "iopub.execute_input": "2021-03-31T15:28:37.626146Z",
     "iopub.status.busy": "2021-03-31T15:28:37.624732Z",
     "iopub.status.idle": "2021-03-31T15:28:38.533755Z",
     "shell.execute_reply": "2021-03-31T15:28:38.534287Z"
    }
   },
   "outputs": [
    {
     "name": "stdout",
     "output_type": "stream",
     "text": [
      "Starting experimental run with id: 1. \n",
      "Starting experimental run with id: 2. \n",
      "Starting experimental run with id: 3. \n",
      "Starting experimental run with id: 4. \n",
      "Starting experimental run with id: 5. \n"
     ]
    },
    {
     "name": "stdout",
     "output_type": "stream",
     "text": [
      "Starting experimental run with id: 6. \n"
     ]
    },
    {
     "name": "stdout",
     "output_type": "stream",
     "text": [
      "Starting experimental run with id: 7. \n"
     ]
    },
    {
     "name": "stdout",
     "output_type": "stream",
     "text": [
      "Starting experimental run with id: 8. \n",
      "Starting experimental run with id: 9. \n"
     ]
    },
    {
     "name": "stdout",
     "output_type": "stream",
     "text": [
      "Starting experimental run with id: 10. \n",
      "Starting experimental run with id: 11. \n"
     ]
    },
    {
     "name": "stdout",
     "output_type": "stream",
     "text": [
      "Starting experimental run with id: 12. \n",
      "Starting experimental run with id: 13. \n"
     ]
    },
    {
     "name": "stdout",
     "output_type": "stream",
     "text": [
      "Starting experimental run with id: 14. \n"
     ]
    }
   ],
   "source": [
    "sizes = [1,500,1000,2000,3000,4000,5000]\n",
    "t_numeric = []\n",
    "t_numeric_add = []\n",
    "t_array = []\n",
    "t_array_add = []\n",
    "for size in sizes:\n",
    "    tn, tna, run_id_n =  insert_data('numeric', size)\n",
    "    t_numeric.append(tn)\n",
    "    t_numeric_add.append(tna)\n",
    "\n",
    "    ta, taa, run_id_a =  insert_data('array', size)\n",
    "    t_array.append(ta)\n",
    "    t_array_add.append(taa)"
   ]
  },
  {
   "cell_type": "code",
   "execution_count": 6,
   "metadata": {
    "execution": {
     "iopub.execute_input": "2021-03-31T15:28:38.571292Z",
     "iopub.status.busy": "2021-03-31T15:28:38.566881Z",
     "iopub.status.idle": "2021-03-31T15:28:38.776979Z",
     "shell.execute_reply": "2021-03-31T15:28:38.777482Z"
    }
   },
   "outputs": [
    {
     "data": {
      "image/png": "[encoded data removed]",
      "text/plain": [
       "<Figure size 432x288 with 1 Axes>"
      ]
     },
     "metadata": {
      "needs_background": "light"
     },
     "output_type": "display_data"
    }
   ],
   "source": [
    "fig, ax = plt.subplots(1,1)\n",
    "ax.plot(sizes, t_numeric, 'o-', label='Inserting row-by-row')\n",
    "ax.plot(sizes, t_numeric_add, 'o-', label='Inserting row-by-row: add_result only')\n",
    "ax.plot(sizes, t_array, 'd-', label='Inserting as binary blob')\n",
    "ax.plot(sizes, t_array_add, 'd-', label='Inserting as binary blob: add_result only')\n",
    "ax.legend()\n",
    "ax.set_xlabel('Array length')\n",
    "ax.set_ylabel('Time (s)')\n",
    "fig.tight_layout()"
   ]
  },
  {
   "cell_type": "markdown",
   "metadata": {},
   "source": [
    "As shown in the latter figure, the time to setup and and close the experiment is approximately 0.4 sec. In case of small array sizes, the difference between inserting values of data as arrays and inserting them row-by-row is relatively unimportant. At larger array sizes, i.e. above 10000 points, the cost of writing data as individual datapoints starts to become important.\n"
   ]
  },
  {
   "cell_type": "markdown",
   "metadata": {},
   "source": [
    "### Case2: Long experiment time "
   ]
  },
  {
   "cell_type": "code",
   "execution_count": 7,
   "metadata": {
    "execution": {
     "iopub.execute_input": "2021-03-31T15:28:38.784008Z",
     "iopub.status.busy": "2021-03-31T15:28:38.782404Z",
     "iopub.status.idle": "2021-03-31T15:29:45.770150Z",
     "shell.execute_reply": "2021-03-31T15:29:45.770648Z"
    }
   },
   "outputs": [
    {
     "name": "stdout",
     "output_type": "stream",
     "text": [
      "Starting experimental run with id: 15. \n",
      "Starting experimental run with id: 16. \n"
     ]
    },
    {
     "name": "stdout",
     "output_type": "stream",
     "text": [
      "Starting experimental run with id: 17. \n"
     ]
    },
    {
     "name": "stdout",
     "output_type": "stream",
     "text": [
      "Starting experimental run with id: 18. \n"
     ]
    },
    {
     "name": "stdout",
     "output_type": "stream",
     "text": [
      "Starting experimental run with id: 19. \n"
     ]
    },
    {
     "name": "stdout",
     "output_type": "stream",
     "text": [
      "Starting experimental run with id: 20. \n"
     ]
    },
    {
     "name": "stdout",
     "output_type": "stream",
     "text": [
      "Starting experimental run with id: 21. \n"
     ]
    },
    {
     "name": "stdout",
     "output_type": "stream",
     "text": [
      "Starting experimental run with id: 22. \n"
     ]
    },
    {
     "name": "stdout",
     "output_type": "stream",
     "text": [
      "Starting experimental run with id: 23. \n"
     ]
    },
    {
     "name": "stdout",
     "output_type": "stream",
     "text": [
      "Starting experimental run with id: 24. \n"
     ]
    },
    {
     "name": "stdout",
     "output_type": "stream",
     "text": [
      "Starting experimental run with id: 25. \n"
     ]
    },
    {
     "name": "stdout",
     "output_type": "stream",
     "text": [
      "Starting experimental run with id: 26. \n"
     ]
    },
    {
     "name": "stdout",
     "output_type": "stream",
     "text": [
      "Starting experimental run with id: 27. \n"
     ]
    },
    {
     "name": "stdout",
     "output_type": "stream",
     "text": [
      "Starting experimental run with id: 28. \n"
     ]
    }
   ],
   "source": [
    "sizes = [1,500,1000,2000,3000,4000,5000]\n",
    "nreps = 100\n",
    "t_numeric = []\n",
    "t_numeric_add = []\n",
    "t_numeric_run_ids = []\n",
    "t_array = []\n",
    "t_array_add = []\n",
    "t_array_run_ids = []\n",
    "for size in sizes:\n",
    "    tn, tna, run_id_n =  insert_data('numeric', size, nreps=nreps)\n",
    "    t_numeric.append(tn)\n",
    "    t_numeric_add.append(tna)\n",
    "    t_numeric_run_ids.append(run_id_n)\n",
    "\n",
    "    ta, taa, run_id_a =  insert_data('array', size, nreps=nreps)\n",
    "    t_array.append(ta)\n",
    "    t_array_add.append(taa)\n",
    "    t_array_run_ids.append(run_id_a)"
   ]
  },
  {
   "cell_type": "code",
   "execution_count": 8,
   "metadata": {
    "execution": {
     "iopub.execute_input": "2021-03-31T15:29:45.805569Z",
     "iopub.status.busy": "2021-03-31T15:29:45.790182Z",
     "iopub.status.idle": "2021-03-31T15:29:46.002851Z",
     "shell.execute_reply": "2021-03-31T15:29:46.003335Z"
    },
    "scrolled": true
   },
   "outputs": [
    {
     "data": {
      "image/png": "[encoded data removed]",
      "text/plain": [
       "<Figure size 432x288 with 1 Axes>"
      ]
     },
     "metadata": {
      "needs_background": "light"
     },
     "output_type": "display_data"
    }
   ],
   "source": [
    "fig, ax = plt.subplots(1,1)\n",
    "ax.plot(sizes, t_numeric, 'o-', label='Inserting row-by-row')\n",
    "ax.plot(sizes, t_numeric_add, 'o-', label='Inserting row-by-row: add_result only')\n",
    "ax.plot(sizes, t_array, 'd-', label='Inserting as binary blob')\n",
    "ax.plot(sizes, t_array_add, 'd-', label='Inserting as binary blob: add_result only')\n",
    "ax.legend()\n",
    "ax.set_xlabel('Array length')\n",
    "ax.set_ylabel('Time (s)')\n",
    "fig.tight_layout()"
   ]
  },
  {
   "cell_type": "markdown",
   "metadata": {},
   "source": [
    "However, as we increase the length of the experiment, as seen here by repeating the insertion 100 times, we see a big difference between inserting values of the data row-by-row and inserting it as a binary blob."
   ]
  },
  {
   "cell_type": "markdown",
   "metadata": {},
   "source": [
    "## Loading the data "
   ]
  },
  {
   "cell_type": "code",
   "execution_count": 9,
   "metadata": {
    "execution": {
     "iopub.execute_input": "2021-03-31T15:29:46.008140Z",
     "iopub.status.busy": "2021-03-31T15:29:46.007164Z",
     "iopub.status.idle": "2021-03-31T15:29:46.011320Z",
     "shell.execute_reply": "2021-03-31T15:29:46.010817Z"
    }
   },
   "outputs": [],
   "source": [
    "from qcodes.dataset.data_set import load_by_id\n",
    "from qcodes.dataset.data_export import get_data_by_id"
   ]
  },
  {
   "cell_type": "markdown",
   "metadata": {},
   "source": [
    "As usual you can load the data by using the ``load_by_id`` function but you will notice that the different storage methods\n",
    "are reflected in shape of the data as it is retrieved. "
   ]
  },
  {
   "cell_type": "code",
   "execution_count": 10,
   "metadata": {
    "execution": {
     "iopub.execute_input": "2021-03-31T15:29:46.016699Z",
     "iopub.status.busy": "2021-03-31T15:29:46.015261Z",
     "iopub.status.idle": "2021-03-31T15:29:46.017371Z",
     "shell.execute_reply": "2021-03-31T15:29:46.017883Z"
    }
   },
   "outputs": [],
   "source": [
    "run_id_n = t_numeric_run_ids[0]\n",
    "run_id_a = t_array_run_ids[0]"
   ]
  },
  {
   "cell_type": "code",
   "execution_count": 11,
   "metadata": {
    "execution": {
     "iopub.execute_input": "2021-03-31T15:29:46.021765Z",
     "iopub.status.busy": "2021-03-31T15:29:46.021162Z",
     "iopub.status.idle": "2021-03-31T15:29:46.092061Z",
     "shell.execute_reply": "2021-03-31T15:29:46.093057Z"
    },
    "scrolled": true
   },
   "outputs": [
    {
     "data": {
      "text/plain": [
       "{'x1': {'x1': array([0.99134735, 0.99134735, 0.71774276, 0.71774276, 0.0284728 ,\n",
       "         0.0284728 , 0.12736636, 0.12736636, 0.94496468, 0.94496468,\n",
       "         0.41225582, 0.41225582, 0.62592025, 0.62592025, 0.08952977,\n",
       "         0.08952977, 0.72151987, 0.72151987, 0.09921608, 0.09921608,\n",
       "         0.1184804 , 0.1184804 , 0.95124591, 0.95124591, 0.62088018,\n",
       "         0.62088018, 0.7725464 , 0.7725464 , 0.29899149, 0.29899149,\n",
       "         0.69585951, 0.69585951, 0.32456738, 0.32456738, 0.95153704,\n",
       "         0.95153704, 0.31665417, 0.31665417, 0.9108755 , 0.9108755 ,\n",
       "         0.24051718, 0.24051718, 0.69789977, 0.69789977, 0.82081519,\n",
       "         0.82081519, 0.72676518, 0.72676518, 0.40807627, 0.40807627,\n",
       "         0.81335516, 0.81335516, 0.76159986, 0.76159986, 0.02325503,\n",
       "         0.02325503, 0.69129539, 0.69129539, 0.74207984, 0.74207984,\n",
       "         0.82514631, 0.82514631, 0.59728133, 0.59728133, 0.9528465 ,\n",
       "         0.9528465 , 0.66707048, 0.66707048, 0.47704502, 0.47704502,\n",
       "         0.21384544, 0.21384544, 0.27871637, 0.27871637, 0.34502908,\n",
       "         0.34502908, 0.51307753, 0.51307753, 0.44558975, 0.44558975,\n",
       "         0.69710375, 0.69710375, 0.33279079, 0.33279079, 0.68583363,\n",
       "         0.68583363, 0.39380922, 0.39380922, 0.05187835, 0.05187835,\n",
       "         0.79580223, 0.79580223, 0.6461508 , 0.6461508 , 0.81828889,\n",
       "         0.81828889, 0.31321818, 0.31321818, 0.19961786, 0.19961786,\n",
       "         0.23356921, 0.23356921, 0.85743969, 0.85743969, 0.88173358,\n",
       "         0.88173358, 0.94229257, 0.94229257, 0.5029322 , 0.5029322 ,\n",
       "         0.60778943, 0.60778943, 0.60108355, 0.60108355, 0.8234254 ,\n",
       "         0.8234254 , 0.50224108, 0.50224108, 0.24833314, 0.24833314,\n",
       "         0.48286846, 0.48286846, 0.54778033, 0.54778033, 0.13926185,\n",
       "         0.13926185, 0.72872871, 0.72872871, 0.28110501, 0.28110501,\n",
       "         0.5283126 , 0.5283126 , 0.46239148, 0.46239148, 0.97703699,\n",
       "         0.97703699, 0.27122954, 0.27122954, 0.31075979, 0.31075979,\n",
       "         0.3487989 , 0.3487989 , 0.63328899, 0.63328899, 0.88192368,\n",
       "         0.88192368, 0.44120668, 0.44120668, 0.61442792, 0.61442792,\n",
       "         0.570024  , 0.570024  , 0.61639246, 0.61639246, 0.14681349,\n",
       "         0.14681349, 0.16363708, 0.16363708, 0.63238062, 0.63238062,\n",
       "         0.87871991, 0.87871991, 0.69817773, 0.69817773, 0.85575137,\n",
       "         0.85575137, 0.45606299, 0.45606299, 0.42862463, 0.42862463,\n",
       "         0.53636777, 0.53636777, 0.53383653, 0.53383653, 0.11215935,\n",
       "         0.11215935, 0.66979694, 0.66979694, 0.92065199, 0.92065199,\n",
       "         0.96647647, 0.96647647, 0.76128035, 0.76128035, 0.2927418 ,\n",
       "         0.2927418 , 0.49292772, 0.49292772, 0.6299915 , 0.6299915 ,\n",
       "         0.61620721, 0.61620721, 0.07849959, 0.07849959, 0.1051908 ,\n",
       "         0.1051908 , 0.01059754, 0.01059754, 0.61317324, 0.61317324])}}"
      ]
     },
     "execution_count": 1,
     "metadata": {},
     "output_type": "execute_result"
    }
   ],
   "source": [
    "ds = load_by_id(run_id_n)\n",
    "ds.get_parameter_data('x1')"
   ]
  },
  {
   "cell_type": "markdown",
   "metadata": {},
   "source": [
    "And a dataset stored as binary arrays"
   ]
  },
  {
   "cell_type": "code",
   "execution_count": 12,
   "metadata": {
    "execution": {
     "iopub.execute_input": "2021-03-31T15:29:46.097037Z",
     "iopub.status.busy": "2021-03-31T15:29:46.096429Z",
     "iopub.status.idle": "2021-03-31T15:29:46.164175Z",
     "shell.execute_reply": "2021-03-31T15:29:46.164721Z"
    },
    "scrolled": true
   },
   "outputs": [
    {
     "data": {
      "text/plain": [
       "{'x1': {'x1': array([[0.62669112],\n",
       "         [0.62669112],\n",
       "         [0.8471656 ],\n",
       "         [0.8471656 ],\n",
       "         [0.14443306],\n",
       "         [0.14443306],\n",
       "         [0.49532142],\n",
       "         [0.49532142],\n",
       "         [0.89648876],\n",
       "         [0.89648876],\n",
       "         [0.98733399],\n",
       "         [0.98733399],\n",
       "         [0.57514289],\n",
       "         [0.57514289],\n",
       "         [0.7190637 ],\n",
       "         [0.7190637 ],\n",
       "         [0.79454549],\n",
       "         [0.79454549],\n",
       "         [0.87120151],\n",
       "         [0.87120151],\n",
       "         [0.67914712],\n",
       "         [0.67914712],\n",
       "         [0.1702707 ],\n",
       "         [0.1702707 ],\n",
       "         [0.08141289],\n",
       "         [0.08141289],\n",
       "         [0.97379691],\n",
       "         [0.97379691],\n",
       "         [0.61259522],\n",
       "         [0.61259522],\n",
       "         [0.63165945],\n",
       "         [0.63165945],\n",
       "         [0.20837985],\n",
       "         [0.20837985],\n",
       "         [0.5444851 ],\n",
       "         [0.5444851 ],\n",
       "         [0.47445678],\n",
       "         [0.47445678],\n",
       "         [0.7552621 ],\n",
       "         [0.7552621 ],\n",
       "         [0.09150384],\n",
       "         [0.09150384],\n",
       "         [0.42489203],\n",
       "         [0.42489203],\n",
       "         [0.40283389],\n",
       "         [0.40283389],\n",
       "         [0.625641  ],\n",
       "         [0.625641  ],\n",
       "         [0.60221012],\n",
       "         [0.60221012],\n",
       "         [0.75212848],\n",
       "         [0.75212848],\n",
       "         [0.09369877],\n",
       "         [0.09369877],\n",
       "         [0.89913969],\n",
       "         [0.89913969],\n",
       "         [0.66453671],\n",
       "         [0.66453671],\n",
       "         [0.46659131],\n",
       "         [0.46659131],\n",
       "         [0.54895702],\n",
       "         [0.54895702],\n",
       "         [0.43660071],\n",
       "         [0.43660071],\n",
       "         [0.92100216],\n",
       "         [0.92100216],\n",
       "         [0.32584901],\n",
       "         [0.32584901],\n",
       "         [0.20989944],\n",
       "         [0.20989944],\n",
       "         [0.30022783],\n",
       "         [0.30022783],\n",
       "         [0.31071386],\n",
       "         [0.31071386],\n",
       "         [0.64322196],\n",
       "         [0.64322196],\n",
       "         [0.18774464],\n",
       "         [0.18774464],\n",
       "         [0.55879591],\n",
       "         [0.55879591],\n",
       "         [0.8180341 ],\n",
       "         [0.8180341 ],\n",
       "         [0.14329001],\n",
       "         [0.14329001],\n",
       "         [0.5265819 ],\n",
       "         [0.5265819 ],\n",
       "         [0.03941053],\n",
       "         [0.03941053],\n",
       "         [0.72719498],\n",
       "         [0.72719498],\n",
       "         [0.47855976],\n",
       "         [0.47855976],\n",
       "         [0.43517651],\n",
       "         [0.43517651],\n",
       "         [0.97372178],\n",
       "         [0.97372178],\n",
       "         [0.54754723],\n",
       "         [0.54754723],\n",
       "         [0.23671721],\n",
       "         [0.23671721],\n",
       "         [0.45222794],\n",
       "         [0.45222794],\n",
       "         [0.72268686],\n",
       "         [0.72268686],\n",
       "         [0.31336589],\n",
       "         [0.31336589],\n",
       "         [0.35025788],\n",
       "         [0.35025788],\n",
       "         [0.17036889],\n",
       "         [0.17036889],\n",
       "         [0.13300696],\n",
       "         [0.13300696],\n",
       "         [0.09416925],\n",
       "         [0.09416925],\n",
       "         [0.25220446],\n",
       "         [0.25220446],\n",
       "         [0.86590072],\n",
       "         [0.86590072],\n",
       "         [0.51493827],\n",
       "         [0.51493827],\n",
       "         [0.44468884],\n",
       "         [0.44468884],\n",
       "         [0.06115191],\n",
       "         [0.06115191],\n",
       "         [0.01632628],\n",
       "         [0.01632628],\n",
       "         [0.27884308],\n",
       "         [0.27884308],\n",
       "         [0.62673258],\n",
       "         [0.62673258],\n",
       "         [0.66459787],\n",
       "         [0.66459787],\n",
       "         [0.21404796],\n",
       "         [0.21404796],\n",
       "         [0.69129788],\n",
       "         [0.69129788],\n",
       "         [0.46736305],\n",
       "         [0.46736305],\n",
       "         [0.61815154],\n",
       "         [0.61815154],\n",
       "         [0.35479927],\n",
       "         [0.35479927],\n",
       "         [0.0795574 ],\n",
       "         [0.0795574 ],\n",
       "         [0.03022418],\n",
       "         [0.03022418],\n",
       "         [0.85046704],\n",
       "         [0.85046704],\n",
       "         [0.23837069],\n",
       "         [0.23837069],\n",
       "         [0.22259924],\n",
       "         [0.22259924],\n",
       "         [0.68868118],\n",
       "         [0.68868118],\n",
       "         [0.07329441],\n",
       "         [0.07329441],\n",
       "         [0.12805855],\n",
       "         [0.12805855],\n",
       "         [0.74115158],\n",
       "         [0.74115158],\n",
       "         [0.25811612],\n",
       "         [0.25811612],\n",
       "         [0.17042233],\n",
       "         [0.17042233],\n",
       "         [0.13333883],\n",
       "         [0.13333883],\n",
       "         [0.62029318],\n",
       "         [0.62029318],\n",
       "         [0.67400005],\n",
       "         [0.67400005],\n",
       "         [0.40866193],\n",
       "         [0.40866193],\n",
       "         [0.84617282],\n",
       "         [0.84617282],\n",
       "         [0.69849778],\n",
       "         [0.69849778],\n",
       "         [0.91580385],\n",
       "         [0.91580385],\n",
       "         [0.73866706],\n",
       "         [0.73866706],\n",
       "         [0.867255  ],\n",
       "         [0.867255  ],\n",
       "         [0.47990074],\n",
       "         [0.47990074],\n",
       "         [0.41468169],\n",
       "         [0.41468169],\n",
       "         [0.2788276 ],\n",
       "         [0.2788276 ],\n",
       "         [0.76289096],\n",
       "         [0.76289096],\n",
       "         [0.54693283],\n",
       "         [0.54693283],\n",
       "         [0.36152996],\n",
       "         [0.36152996],\n",
       "         [0.04716141],\n",
       "         [0.04716141],\n",
       "         [0.77964737],\n",
       "         [0.77964737],\n",
       "         [0.65018122],\n",
       "         [0.65018122]])}}"
      ]
     },
     "execution_count": 1,
     "metadata": {},
     "output_type": "execute_result"
    }
   ],
   "source": [
    "ds = load_by_id(run_id_a)\n",
    "ds.get_parameter_data('x1')"
   ]
  },
  {
   "cell_type": "code",
   "execution_count": null,
   "metadata": {},
   "outputs": [],
   "source": []
  }
 ],
 "metadata": {
  "kernelspec": {
   "display_name": "Python 3",
   "language": "python",
   "name": "python3"
  },
  "language_info": {
   "codemirror_mode": {
    "name": "ipython",
    "version": 3
   },
   "file_extension": ".py",
   "mimetype": "text/x-python",
   "name": "python",
   "nbconvert_exporter": "python",
   "pygments_lexer": "ipython3",
   "version": "3.7.10"
  },
  "nbsphinx": {
   "timeout": 600
  },
  "toc": {
   "base_numbering": 1,
   "nav_menu": {},
   "number_sections": true,
   "sideBar": true,
   "skip_h1_title": false,
   "title_cell": "Table of Contents",
   "title_sidebar": "Contents",
   "toc_cell": false,
   "toc_position": {},
   "toc_section_display": true,
   "toc_window_display": false
  },
  "varInspector": {
   "cols": {
    "lenName": 16,
    "lenType": 16,
    "lenVar": 40
   },
   "kernels_config": {
    "python": {
     "delete_cmd_postfix": "",
     "delete_cmd_prefix": "del ",
     "library": "var_list.py",
     "varRefreshCmd": "print(var_dic_list())"
    },
    "r": {
     "delete_cmd_postfix": ") ",
     "delete_cmd_prefix": "rm(",
     "library": "var_list.r",
     "varRefreshCmd": "cat(var_dic_list()) "
    }
   },
   "types_to_exclude": [
    "module",
    "function",
    "builtin_function_or_method",
    "instance",
    "_Feature"
   ],
   "window_display": false
  }
 },
 "nbformat": 4,
 "nbformat_minor": 2
}
