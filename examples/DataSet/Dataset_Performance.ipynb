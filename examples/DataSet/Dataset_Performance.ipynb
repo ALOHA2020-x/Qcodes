{
 "cells": [
  {
   "cell_type": "markdown",
   "metadata": {},
   "source": [
    "# DataSet Performance\n",
    "\n",
    "This notebook shows the trade-off between inserting data into a database row-by-row and as binary blobs. Inserting the data row-by-row means that we have direct access to all the data and may perform queries directly on the values of the data. On the other hand, as we shall see, this is much slower than inserting the data directly as binary blobs."
   ]
  },
  {
   "cell_type": "markdown",
   "metadata": {},
   "source": [
    "First, we choose a new location for the database to ensure that we don't add a bunch of benchmarking data to the default one."
   ]
  },
  {
   "cell_type": "code",
   "execution_count": 1,
   "metadata": {
    "execution": {
     "iopub.execute_input": "2021-04-16T06:33:05.794293Z",
     "iopub.status.busy": "2021-04-16T06:33:05.793571Z",
     "iopub.status.idle": "2021-04-16T06:33:06.916234Z",
     "shell.execute_reply": "2021-04-16T06:33:06.917042Z"
    }
   },
   "outputs": [
    {
     "name": "stdout",
     "output_type": "stream",
     "text": [
      "Logging hadn't been started.\n",
      "Activating auto-logging. Current session state plus future input saved.\n",
      "Filename       : /home/runner/.qcodes/logs/command_history.log\n",
      "Mode           : append\n",
      "Output logging : True\n",
      "Raw input log  : False\n",
      "Timestamping   : True\n",
      "State          : active\n"
     ]
    },
    {
     "name": "stdout",
     "output_type": "stream",
     "text": [
      "Qcodes Logfile : /home/runner/.qcodes/logs/210416-4708-qcodes.log\n"
     ]
    }
   ],
   "source": [
    "import os\n",
    "cwd = os.getcwd()\n",
    "import qcodes as qc\n",
    "qc.config[\"core\"][\"db_location\"] = os.path.join(cwd, 'testing.db')\n"
   ]
  },
  {
   "cell_type": "code",
   "execution_count": 2,
   "metadata": {
    "execution": {
     "iopub.execute_input": "2021-04-16T06:33:06.924321Z",
     "iopub.status.busy": "2021-04-16T06:33:06.923722Z",
     "iopub.status.idle": "2021-04-16T06:33:07.192593Z",
     "shell.execute_reply": "2021-04-16T06:33:07.191621Z"
    }
   },
   "outputs": [],
   "source": [
    "%matplotlib inline\n",
    "import time\n",
    "import matplotlib.pyplot as plt\n",
    "import numpy as np\n",
    "\n",
    "import qcodes as qc\n",
    "from qcodes.instrument.parameter import ManualParameter\n",
    "from qcodes.dataset.experiment_container import (Experiment,\n",
    "                                                 load_last_experiment,\n",
    "                                                 new_experiment)\n",
    "from qcodes.dataset.sqlite.database import initialise_database\n",
    "from qcodes import load_or_create_experiment\n",
    "from qcodes.dataset.measurements import Measurement"
   ]
  },
  {
   "cell_type": "code",
   "execution_count": 3,
   "metadata": {
    "execution": {
     "iopub.execute_input": "2021-04-16T06:33:07.197045Z",
     "iopub.status.busy": "2021-04-16T06:33:07.196285Z",
     "iopub.status.idle": "2021-04-16T06:33:07.268942Z",
     "shell.execute_reply": "2021-04-16T06:33:07.269512Z"
    }
   },
   "outputs": [
    {
     "name": "stdout",
     "output_type": "stream",
     "text": [
      "\r",
      "0it [00:00, ?it/s]"
     ]
    },
    {
     "name": "stdout",
     "output_type": "stream",
     "text": [
      "\r",
      "Upgrading database; v0 -> v1: : 0it [00:00, ?it/s]"
     ]
    },
    {
     "name": "stdout",
     "output_type": "stream",
     "text": [
      "\r",
      "Upgrading database; v0 -> v1: : 0it [00:00, ?it/s]"
     ]
    },
    {
     "name": "stdout",
     "output_type": "stream",
     "text": [
      "\n",
      "\r",
      "  0%|          | 0/1 [00:00<?, ?it/s]"
     ]
    },
    {
     "name": "stdout",
     "output_type": "stream",
     "text": [
      "\r",
      "Upgrading database; v1 -> v2:   0%|          | 0/1 [00:00<?, ?it/s]"
     ]
    },
    {
     "name": "stdout",
     "output_type": "stream",
     "text": [
      "\r",
      "Upgrading database; v1 -> v2: 100%|██████████| 1/1 [00:00<00:00, 975.19it/s]"
     ]
    },
    {
     "name": "stdout",
     "output_type": "stream",
     "text": [
      "\n",
      "\r",
      "0it [00:00, ?it/s]"
     ]
    },
    {
     "name": "stdout",
     "output_type": "stream",
     "text": [
      "\r",
      "Upgrading database; v2 -> v3: : 0it [00:00, ?it/s]"
     ]
    },
    {
     "name": "stdout",
     "output_type": "stream",
     "text": [
      "\r",
      "Upgrading database; v2 -> v3: : 0it [00:00, ?it/s]"
     ]
    },
    {
     "name": "stdout",
     "output_type": "stream",
     "text": [
      "\n",
      "\r",
      "0it [00:00, ?it/s]"
     ]
    },
    {
     "name": "stdout",
     "output_type": "stream",
     "text": [
      "\r",
      "Upgrading database; v3 -> v4: : 0it [00:00, ?it/s]"
     ]
    },
    {
     "name": "stdout",
     "output_type": "stream",
     "text": [
      "\r",
      "Upgrading database; v3 -> v4: : 0it [00:00, ?it/s]"
     ]
    },
    {
     "name": "stdout",
     "output_type": "stream",
     "text": [
      "\n",
      "\r",
      "  0%|          | 0/1 [00:00<?, ?it/s]"
     ]
    },
    {
     "name": "stdout",
     "output_type": "stream",
     "text": [
      "\r",
      "Upgrading database; v4 -> v5:   0%|          | 0/1 [00:00<?, ?it/s]"
     ]
    },
    {
     "name": "stdout",
     "output_type": "stream",
     "text": [
      "\r",
      "Upgrading database; v4 -> v5: 100%|██████████| 1/1 [00:00<00:00, 733.14it/s]"
     ]
    },
    {
     "name": "stdout",
     "output_type": "stream",
     "text": [
      "\n",
      "\r",
      "0it [00:00, ?it/s]"
     ]
    },
    {
     "name": "stdout",
     "output_type": "stream",
     "text": [
      "\r",
      "Upgrading database; v5 -> v6: : 0it [00:00, ?it/s]"
     ]
    },
    {
     "name": "stdout",
     "output_type": "stream",
     "text": [
      "\r",
      "Upgrading database; v5 -> v6: : 0it [00:00, ?it/s]"
     ]
    },
    {
     "name": "stdout",
     "output_type": "stream",
     "text": [
      "\n",
      "\r",
      "  0%|          | 0/1 [00:00<?, ?it/s]"
     ]
    },
    {
     "name": "stdout",
     "output_type": "stream",
     "text": [
      "\r",
      "Upgrading database; v6 -> v7:   0%|          | 0/1 [00:00<?, ?it/s]"
     ]
    },
    {
     "name": "stdout",
     "output_type": "stream",
     "text": [
      "\r",
      "Upgrading database; v6 -> v7: 100%|██████████| 1/1 [00:00<00:00, 351.49it/s]"
     ]
    },
    {
     "name": "stdout",
     "output_type": "stream",
     "text": [
      "\n",
      "\r",
      "  0%|          | 0/1 [00:00<?, ?it/s]"
     ]
    },
    {
     "name": "stdout",
     "output_type": "stream",
     "text": [
      "\r",
      "Upgrading database; v7 -> v8:   0%|          | 0/1 [00:00<?, ?it/s]"
     ]
    },
    {
     "name": "stdout",
     "output_type": "stream",
     "text": [
      "\r",
      "Upgrading database; v7 -> v8: 100%|██████████| 1/1 [00:00<00:00, 677.70it/s]"
     ]
    },
    {
     "name": "stdout",
     "output_type": "stream",
     "text": [
      "\n",
      "\r",
      "  0%|          | 0/1 [00:00<?, ?it/s]"
     ]
    },
    {
     "name": "stdout",
     "output_type": "stream",
     "text": [
      "\r",
      "Upgrading database; v8 -> v9:   0%|          | 0/1 [00:00<?, ?it/s]"
     ]
    },
    {
     "name": "stdout",
     "output_type": "stream",
     "text": [
      "\r",
      "Upgrading database; v8 -> v9: 100%|██████████| 1/1 [00:00<00:00, 420.86it/s]"
     ]
    },
    {
     "name": "stdout",
     "output_type": "stream",
     "text": [
      "\n"
     ]
    }
   ],
   "source": [
    "initialise_database()\n",
    "exp = load_or_create_experiment(experiment_name='tutorial_exp', sample_name=\"no sample\")"
   ]
  },
  {
   "cell_type": "markdown",
   "metadata": {},
   "source": [
    "Here, we define a simple function to benchmark the time it takes to insert n points with either numeric or array data type.\n",
    "We will compare both the time used to call ``add_result`` and the time used for the full measurement."
   ]
  },
  {
   "cell_type": "code",
   "execution_count": 4,
   "metadata": {
    "execution": {
     "iopub.execute_input": "2021-04-16T06:33:07.279076Z",
     "iopub.status.busy": "2021-04-16T06:33:07.278476Z",
     "iopub.status.idle": "2021-04-16T06:33:07.283033Z",
     "shell.execute_reply": "2021-04-16T06:33:07.282546Z"
    }
   },
   "outputs": [],
   "source": [
    "def insert_data(paramtype, npoints, nreps=1):\n",
    "\n",
    "    meas = Measurement(exp=exp)\n",
    "\n",
    "    x1 = ManualParameter('x1')\n",
    "    x2 = ManualParameter('x2')\n",
    "    x3 = ManualParameter('x3')\n",
    "    y1 = ManualParameter('y1')\n",
    "    y2 = ManualParameter('y2')\n",
    "\n",
    "    meas.register_parameter(x1, paramtype=paramtype)\n",
    "    meas.register_parameter(x2, paramtype=paramtype)\n",
    "    meas.register_parameter(x3, paramtype=paramtype)\n",
    "    meas.register_parameter(y1, setpoints=[x1, x2, x3],\n",
    "                            paramtype=paramtype)\n",
    "    meas.register_parameter(y2, setpoints=[x1, x2, x3],\n",
    "                            paramtype=paramtype)\n",
    "    start = time.perf_counter()\n",
    "    with meas.run() as datasaver:\n",
    "        start_adding = time.perf_counter()\n",
    "        for i in range(nreps):\n",
    "            datasaver.add_result((x1, np.random.rand(npoints)),\n",
    "                                 (x2, np.random.rand(npoints)),\n",
    "                                 (x3, np.random.rand(npoints)),\n",
    "                                 (y1, np.random.rand(npoints)),\n",
    "                                 (y2, np.random.rand(npoints)))\n",
    "        stop_adding = time.perf_counter()\n",
    "        run_id = datasaver.run_id\n",
    "    stop = time.perf_counter()\n",
    "    tot_time = stop - start\n",
    "    add_time = stop_adding - start_adding\n",
    "    return tot_time, add_time, run_id"
   ]
  },
  {
   "cell_type": "markdown",
   "metadata": {},
   "source": [
    "## Comparison between numeric/array data and binary blob"
   ]
  },
  {
   "cell_type": "markdown",
   "metadata": {},
   "source": [
    "### Case1: Short experiment time"
   ]
  },
  {
   "cell_type": "code",
   "execution_count": 5,
   "metadata": {
    "execution": {
     "iopub.execute_input": "2021-04-16T06:33:07.290701Z",
     "iopub.status.busy": "2021-04-16T06:33:07.289721Z",
     "iopub.status.idle": "2021-04-16T06:33:08.166906Z",
     "shell.execute_reply": "2021-04-16T06:33:08.166135Z"
    }
   },
   "outputs": [
    {
     "name": "stdout",
     "output_type": "stream",
     "text": [
      "Starting experimental run with id: 1. \n",
      "Starting experimental run with id: 2. \n",
      "Starting experimental run with id: 3. \n",
      "Starting experimental run with id: 4. \n",
      "Starting experimental run with id: 5. \n"
     ]
    },
    {
     "name": "stdout",
     "output_type": "stream",
     "text": [
      "Starting experimental run with id: 6. "
     ]
    },
    {
     "name": "stdout",
     "output_type": "stream",
     "text": [
      "\n"
     ]
    },
    {
     "name": "stdout",
     "output_type": "stream",
     "text": [
      "Starting experimental run with id: 7. \n"
     ]
    },
    {
     "name": "stdout",
     "output_type": "stream",
     "text": [
      "Starting experimental run with id: 8. \n",
      "Starting experimental run with id: 9. \n"
     ]
    },
    {
     "name": "stdout",
     "output_type": "stream",
     "text": [
      "Starting experimental run with id: 10. \n",
      "Starting experimental run with id: 11. \n"
     ]
    },
    {
     "name": "stdout",
     "output_type": "stream",
     "text": [
      "Starting experimental run with id: 12. \n",
      "Starting experimental run with id: 13. \n"
     ]
    },
    {
     "name": "stdout",
     "output_type": "stream",
     "text": [
      "Starting experimental run with id: 14. \n"
     ]
    }
   ],
   "source": [
    "sizes = [1,500,1000,2000,3000,4000,5000]\n",
    "t_numeric = []\n",
    "t_numeric_add = []\n",
    "t_array = []\n",
    "t_array_add = []\n",
    "for size in sizes:\n",
    "    tn, tna, run_id_n =  insert_data('numeric', size)\n",
    "    t_numeric.append(tn)\n",
    "    t_numeric_add.append(tna)\n",
    "\n",
    "    ta, taa, run_id_a =  insert_data('array', size)\n",
    "    t_array.append(ta)\n",
    "    t_array_add.append(taa)"
   ]
  },
  {
   "cell_type": "code",
   "execution_count": 6,
   "metadata": {
    "execution": {
     "iopub.execute_input": "2021-04-16T06:33:08.190252Z",
     "iopub.status.busy": "2021-04-16T06:33:08.186257Z",
     "iopub.status.idle": "2021-04-16T06:33:08.364611Z",
     "shell.execute_reply": "2021-04-16T06:33:08.365401Z"
    }
   },
   "outputs": [
    {
     "data": {
      "image/png": "[encoded data removed]",
      "text/plain": [
       "<Figure size 432x288 with 1 Axes>"
      ]
     },
     "metadata": {
      "needs_background": "light"
     },
     "output_type": "display_data"
    }
   ],
   "source": [
    "fig, ax = plt.subplots(1,1)\n",
    "ax.plot(sizes, t_numeric, 'o-', label='Inserting row-by-row')\n",
    "ax.plot(sizes, t_numeric_add, 'o-', label='Inserting row-by-row: add_result only')\n",
    "ax.plot(sizes, t_array, 'd-', label='Inserting as binary blob')\n",
    "ax.plot(sizes, t_array_add, 'd-', label='Inserting as binary blob: add_result only')\n",
    "ax.legend()\n",
    "ax.set_xlabel('Array length')\n",
    "ax.set_ylabel('Time (s)')\n",
    "fig.tight_layout()"
   ]
  },
  {
   "cell_type": "markdown",
   "metadata": {},
   "source": [
    "As shown in the latter figure, the time to setup and and close the experiment is approximately 0.4 sec. In case of small array sizes, the difference between inserting values of data as arrays and inserting them row-by-row is relatively unimportant. At larger array sizes, i.e. above 10000 points, the cost of writing data as individual datapoints starts to become important.\n"
   ]
  },
  {
   "cell_type": "markdown",
   "metadata": {},
   "source": [
    "### Case2: Long experiment time "
   ]
  },
  {
   "cell_type": "code",
   "execution_count": 7,
   "metadata": {
    "execution": {
     "iopub.execute_input": "2021-04-16T06:33:08.369236Z",
     "iopub.status.busy": "2021-04-16T06:33:08.368103Z",
     "iopub.status.idle": "2021-04-16T06:34:07.773825Z",
     "shell.execute_reply": "2021-04-16T06:34:07.773283Z"
    }
   },
   "outputs": [
    {
     "name": "stdout",
     "output_type": "stream",
     "text": [
      "Starting experimental run with id: 15. \n",
      "Starting experimental run with id: 16. \n"
     ]
    },
    {
     "name": "stdout",
     "output_type": "stream",
     "text": [
      "Starting experimental run with id: 17. \n"
     ]
    },
    {
     "name": "stdout",
     "output_type": "stream",
     "text": [
      "Starting experimental run with id: 18. \n"
     ]
    },
    {
     "name": "stdout",
     "output_type": "stream",
     "text": [
      "Starting experimental run with id: 19. \n"
     ]
    },
    {
     "name": "stdout",
     "output_type": "stream",
     "text": [
      "Starting experimental run with id: 20. \n"
     ]
    },
    {
     "name": "stdout",
     "output_type": "stream",
     "text": [
      "Starting experimental run with id: 21. \n"
     ]
    },
    {
     "name": "stdout",
     "output_type": "stream",
     "text": [
      "Starting experimental run with id: 22. \n"
     ]
    },
    {
     "name": "stdout",
     "output_type": "stream",
     "text": [
      "Starting experimental run with id: 23. \n"
     ]
    },
    {
     "name": "stdout",
     "output_type": "stream",
     "text": [
      "Starting experimental run with id: 24. \n"
     ]
    },
    {
     "name": "stdout",
     "output_type": "stream",
     "text": [
      "Starting experimental run with id: 25. \n"
     ]
    },
    {
     "name": "stdout",
     "output_type": "stream",
     "text": [
      "Starting experimental run with id: 26. \n"
     ]
    },
    {
     "name": "stdout",
     "output_type": "stream",
     "text": [
      "Starting experimental run with id: 27. \n"
     ]
    },
    {
     "name": "stdout",
     "output_type": "stream",
     "text": [
      "Starting experimental run with id: 28. \n"
     ]
    }
   ],
   "source": [
    "sizes = [1,500,1000,2000,3000,4000,5000]\n",
    "nreps = 100\n",
    "t_numeric = []\n",
    "t_numeric_add = []\n",
    "t_numeric_run_ids = []\n",
    "t_array = []\n",
    "t_array_add = []\n",
    "t_array_run_ids = []\n",
    "for size in sizes:\n",
    "    tn, tna, run_id_n =  insert_data('numeric', size, nreps=nreps)\n",
    "    t_numeric.append(tn)\n",
    "    t_numeric_add.append(tna)\n",
    "    t_numeric_run_ids.append(run_id_n)\n",
    "\n",
    "    ta, taa, run_id_a =  insert_data('array', size, nreps=nreps)\n",
    "    t_array.append(ta)\n",
    "    t_array_add.append(taa)\n",
    "    t_array_run_ids.append(run_id_a)"
   ]
  },
  {
   "cell_type": "code",
   "execution_count": 8,
   "metadata": {
    "execution": {
     "iopub.execute_input": "2021-04-16T06:34:07.805822Z",
     "iopub.status.busy": "2021-04-16T06:34:07.797478Z",
     "iopub.status.idle": "2021-04-16T06:34:07.973705Z",
     "shell.execute_reply": "2021-04-16T06:34:07.974167Z"
    },
    "scrolled": true
   },
   "outputs": [
    {
     "data": {
      "image/png": "[encoded data removed]",
      "text/plain": [
       "<Figure size 432x288 with 1 Axes>"
      ]
     },
     "metadata": {
      "needs_background": "light"
     },
     "output_type": "display_data"
    }
   ],
   "source": [
    "fig, ax = plt.subplots(1,1)\n",
    "ax.plot(sizes, t_numeric, 'o-', label='Inserting row-by-row')\n",
    "ax.plot(sizes, t_numeric_add, 'o-', label='Inserting row-by-row: add_result only')\n",
    "ax.plot(sizes, t_array, 'd-', label='Inserting as binary blob')\n",
    "ax.plot(sizes, t_array_add, 'd-', label='Inserting as binary blob: add_result only')\n",
    "ax.legend()\n",
    "ax.set_xlabel('Array length')\n",
    "ax.set_ylabel('Time (s)')\n",
    "fig.tight_layout()"
   ]
  },
  {
   "cell_type": "markdown",
   "metadata": {},
   "source": [
    "However, as we increase the length of the experiment, as seen here by repeating the insertion 100 times, we see a big difference between inserting values of the data row-by-row and inserting it as a binary blob."
   ]
  },
  {
   "cell_type": "markdown",
   "metadata": {},
   "source": [
    "## Loading the data "
   ]
  },
  {
   "cell_type": "code",
   "execution_count": 9,
   "metadata": {
    "execution": {
     "iopub.execute_input": "2021-04-16T06:34:07.978804Z",
     "iopub.status.busy": "2021-04-16T06:34:07.978110Z",
     "iopub.status.idle": "2021-04-16T06:34:07.981123Z",
     "shell.execute_reply": "2021-04-16T06:34:07.981833Z"
    }
   },
   "outputs": [],
   "source": [
    "from qcodes.dataset.data_set import load_by_id"
   ]
  },
  {
   "cell_type": "markdown",
   "metadata": {},
   "source": [
    "As usual you can load the data by using the ``load_by_id`` function but you will notice that the different storage methods\n",
    "are reflected in shape of the data as it is retrieved. "
   ]
  },
  {
   "cell_type": "code",
   "execution_count": 10,
   "metadata": {
    "execution": {
     "iopub.execute_input": "2021-04-16T06:34:07.985971Z",
     "iopub.status.busy": "2021-04-16T06:34:07.985408Z",
     "iopub.status.idle": "2021-04-16T06:34:07.988969Z",
     "shell.execute_reply": "2021-04-16T06:34:07.989454Z"
    }
   },
   "outputs": [],
   "source": [
    "run_id_n = t_numeric_run_ids[0]\n",
    "run_id_a = t_array_run_ids[0]"
   ]
  },
  {
   "cell_type": "code",
   "execution_count": 11,
   "metadata": {
    "execution": {
     "iopub.execute_input": "2021-04-16T06:34:07.993324Z",
     "iopub.status.busy": "2021-04-16T06:34:07.992767Z",
     "iopub.status.idle": "2021-04-16T06:34:08.005118Z",
     "shell.execute_reply": "2021-04-16T06:34:08.004620Z"
    },
    "scrolled": true
   },
   "outputs": [
    {
     "data": {
      "text/plain": [
       "{'x1': {'x1': array([0.15020638, 0.15020638, 0.78799074, 0.78799074, 0.55059967,\n",
       "         0.55059967, 0.28716786, 0.28716786, 0.78544023, 0.78544023,\n",
       "         0.23546344, 0.23546344, 0.59750726, 0.59750726, 0.7142139 ,\n",
       "         0.7142139 , 0.10374288, 0.10374288, 0.71696091, 0.71696091,\n",
       "         0.28545688, 0.28545688, 0.50802762, 0.50802762, 0.57470996,\n",
       "         0.57470996, 0.23668528, 0.23668528, 0.7582454 , 0.7582454 ,\n",
       "         0.79889066, 0.79889066, 0.22097782, 0.22097782, 0.71595281,\n",
       "         0.71595281, 0.2708185 , 0.2708185 , 0.80539148, 0.80539148,\n",
       "         0.18482775, 0.18482775, 0.9426675 , 0.9426675 , 0.06422754,\n",
       "         0.06422754, 0.83790011, 0.83790011, 0.07762481, 0.07762481,\n",
       "         0.87569412, 0.87569412, 0.44764054, 0.44764054, 0.69782732,\n",
       "         0.69782732, 0.98896354, 0.98896354, 0.84329747, 0.84329747,\n",
       "         0.50667844, 0.50667844, 0.01584056, 0.01584056, 0.01482428,\n",
       "         0.01482428, 0.88806169, 0.88806169, 0.59713313, 0.59713313,\n",
       "         0.82422082, 0.82422082, 0.6706764 , 0.6706764 , 0.93103432,\n",
       "         0.93103432, 0.69438893, 0.69438893, 0.79506963, 0.79506963,\n",
       "         0.98950896, 0.98950896, 0.57895093, 0.57895093, 0.44708146,\n",
       "         0.44708146, 0.59057529, 0.59057529, 0.89542355, 0.89542355,\n",
       "         0.3384669 , 0.3384669 , 0.66178721, 0.66178721, 0.15497811,\n",
       "         0.15497811, 0.34721983, 0.34721983, 0.45456644, 0.45456644,\n",
       "         0.18228007, 0.18228007, 0.69411349, 0.69411349, 0.91065272,\n",
       "         0.91065272, 0.32905686, 0.32905686, 0.46519681, 0.46519681,\n",
       "         0.87952672, 0.87952672, 0.45650158, 0.45650158, 0.39068661,\n",
       "         0.39068661, 0.5501433 , 0.5501433 , 0.46920217, 0.46920217,\n",
       "         0.13168627, 0.13168627, 0.23529319, 0.23529319, 0.16404632,\n",
       "         0.16404632, 0.4762973 , 0.4762973 , 0.71366329, 0.71366329,\n",
       "         0.53240436, 0.53240436, 0.38762845, 0.38762845, 0.43723669,\n",
       "         0.43723669, 0.28835802, 0.28835802, 0.32530825, 0.32530825,\n",
       "         0.07499264, 0.07499264, 0.79528609, 0.79528609, 0.04854827,\n",
       "         0.04854827, 0.75421323, 0.75421323, 0.99454819, 0.99454819,\n",
       "         0.72409772, 0.72409772, 0.40185749, 0.40185749, 0.28815994,\n",
       "         0.28815994, 0.22079384, 0.22079384, 0.42846188, 0.42846188,\n",
       "         0.29412226, 0.29412226, 0.41611047, 0.41611047, 0.42478014,\n",
       "         0.42478014, 0.33259206, 0.33259206, 0.44031427, 0.44031427,\n",
       "         0.49035082, 0.49035082, 0.02918442, 0.02918442, 0.69169156,\n",
       "         0.69169156, 0.70856737, 0.70856737, 0.05674659, 0.05674659,\n",
       "         0.90183943, 0.90183943, 0.23565704, 0.23565704, 0.47637024,\n",
       "         0.47637024, 0.73635676, 0.73635676, 0.6372049 , 0.6372049 ,\n",
       "         0.18680908, 0.18680908, 0.25864759, 0.25864759, 0.13518262,\n",
       "         0.13518262, 0.25286881, 0.25286881, 0.5172046 , 0.5172046 ])}}"
      ]
     },
     "execution_count": 1,
     "metadata": {},
     "output_type": "execute_result"
    }
   ],
   "source": [
    "ds = load_by_id(run_id_n)\n",
    "ds.get_parameter_data('x1')"
   ]
  },
  {
   "cell_type": "markdown",
   "metadata": {},
   "source": [
    "And a dataset stored as binary arrays"
   ]
  },
  {
   "cell_type": "code",
   "execution_count": 12,
   "metadata": {
    "execution": {
     "iopub.execute_input": "2021-04-16T06:34:08.009159Z",
     "iopub.status.busy": "2021-04-16T06:34:08.008475Z",
     "iopub.status.idle": "2021-04-16T06:34:08.077521Z",
     "shell.execute_reply": "2021-04-16T06:34:08.078012Z"
    },
    "scrolled": true
   },
   "outputs": [
    {
     "data": {
      "text/plain": [
       "{'x1': {'x1': array([[0.42347051],\n",
       "         [0.42347051],\n",
       "         [0.72631436],\n",
       "         [0.72631436],\n",
       "         [0.70110729],\n",
       "         [0.70110729],\n",
       "         [0.64276275],\n",
       "         [0.64276275],\n",
       "         [0.85042126],\n",
       "         [0.85042126],\n",
       "         [0.63553777],\n",
       "         [0.63553777],\n",
       "         [0.54639297],\n",
       "         [0.54639297],\n",
       "         [0.42783225],\n",
       "         [0.42783225],\n",
       "         [0.47337632],\n",
       "         [0.47337632],\n",
       "         [0.49252017],\n",
       "         [0.49252017],\n",
       "         [0.78288402],\n",
       "         [0.78288402],\n",
       "         [0.39076951],\n",
       "         [0.39076951],\n",
       "         [0.32403508],\n",
       "         [0.32403508],\n",
       "         [0.56586061],\n",
       "         [0.56586061],\n",
       "         [0.77087805],\n",
       "         [0.77087805],\n",
       "         [0.76265771],\n",
       "         [0.76265771],\n",
       "         [0.28860149],\n",
       "         [0.28860149],\n",
       "         [0.8940147 ],\n",
       "         [0.8940147 ],\n",
       "         [0.38811634],\n",
       "         [0.38811634],\n",
       "         [0.27259313],\n",
       "         [0.27259313],\n",
       "         [0.19295287],\n",
       "         [0.19295287],\n",
       "         [0.55786902],\n",
       "         [0.55786902],\n",
       "         [0.58460675],\n",
       "         [0.58460675],\n",
       "         [0.25978322],\n",
       "         [0.25978322],\n",
       "         [0.80641628],\n",
       "         [0.80641628],\n",
       "         [0.97299241],\n",
       "         [0.97299241],\n",
       "         [0.04397165],\n",
       "         [0.04397165],\n",
       "         [0.4362774 ],\n",
       "         [0.4362774 ],\n",
       "         [0.2371137 ],\n",
       "         [0.2371137 ],\n",
       "         [0.54228078],\n",
       "         [0.54228078],\n",
       "         [0.72738513],\n",
       "         [0.72738513],\n",
       "         [0.01912627],\n",
       "         [0.01912627],\n",
       "         [0.9510617 ],\n",
       "         [0.9510617 ],\n",
       "         [0.98549283],\n",
       "         [0.98549283],\n",
       "         [0.02335025],\n",
       "         [0.02335025],\n",
       "         [0.91902476],\n",
       "         [0.91902476],\n",
       "         [0.98215594],\n",
       "         [0.98215594],\n",
       "         [0.47267906],\n",
       "         [0.47267906],\n",
       "         [0.00996902],\n",
       "         [0.00996902],\n",
       "         [0.77582226],\n",
       "         [0.77582226],\n",
       "         [0.20915689],\n",
       "         [0.20915689],\n",
       "         [0.73434566],\n",
       "         [0.73434566],\n",
       "         [0.16133723],\n",
       "         [0.16133723],\n",
       "         [0.11707981],\n",
       "         [0.11707981],\n",
       "         [0.08603824],\n",
       "         [0.08603824],\n",
       "         [0.96860774],\n",
       "         [0.96860774],\n",
       "         [0.7442201 ],\n",
       "         [0.7442201 ],\n",
       "         [0.71345116],\n",
       "         [0.71345116],\n",
       "         [0.93198415],\n",
       "         [0.93198415],\n",
       "         [0.89605692],\n",
       "         [0.89605692],\n",
       "         [0.25905158],\n",
       "         [0.25905158],\n",
       "         [0.31685595],\n",
       "         [0.31685595],\n",
       "         [0.56244882],\n",
       "         [0.56244882],\n",
       "         [0.16952494],\n",
       "         [0.16952494],\n",
       "         [0.99149951],\n",
       "         [0.99149951],\n",
       "         [0.68478745],\n",
       "         [0.68478745],\n",
       "         [0.92850039],\n",
       "         [0.92850039],\n",
       "         [0.45877961],\n",
       "         [0.45877961],\n",
       "         [0.40540744],\n",
       "         [0.40540744],\n",
       "         [0.30294631],\n",
       "         [0.30294631],\n",
       "         [0.90547108],\n",
       "         [0.90547108],\n",
       "         [0.0658609 ],\n",
       "         [0.0658609 ],\n",
       "         [0.38160102],\n",
       "         [0.38160102],\n",
       "         [0.01679255],\n",
       "         [0.01679255],\n",
       "         [0.05701688],\n",
       "         [0.05701688],\n",
       "         [0.78675395],\n",
       "         [0.78675395],\n",
       "         [0.66987727],\n",
       "         [0.66987727],\n",
       "         [0.5314752 ],\n",
       "         [0.5314752 ],\n",
       "         [0.06619237],\n",
       "         [0.06619237],\n",
       "         [0.16194416],\n",
       "         [0.16194416],\n",
       "         [0.67472268],\n",
       "         [0.67472268],\n",
       "         [0.88903674],\n",
       "         [0.88903674],\n",
       "         [0.19096757],\n",
       "         [0.19096757],\n",
       "         [0.69787942],\n",
       "         [0.69787942],\n",
       "         [0.41508682],\n",
       "         [0.41508682],\n",
       "         [0.15988489],\n",
       "         [0.15988489],\n",
       "         [0.73396001],\n",
       "         [0.73396001],\n",
       "         [0.56777252],\n",
       "         [0.56777252],\n",
       "         [0.50747236],\n",
       "         [0.50747236],\n",
       "         [0.82212078],\n",
       "         [0.82212078],\n",
       "         [0.42739839],\n",
       "         [0.42739839],\n",
       "         [0.87130309],\n",
       "         [0.87130309],\n",
       "         [0.50814588],\n",
       "         [0.50814588],\n",
       "         [0.980083  ],\n",
       "         [0.980083  ],\n",
       "         [0.0712539 ],\n",
       "         [0.0712539 ],\n",
       "         [0.17445356],\n",
       "         [0.17445356],\n",
       "         [0.45756115],\n",
       "         [0.45756115],\n",
       "         [0.74406293],\n",
       "         [0.74406293],\n",
       "         [0.16597849],\n",
       "         [0.16597849],\n",
       "         [0.2013112 ],\n",
       "         [0.2013112 ],\n",
       "         [0.72127384],\n",
       "         [0.72127384],\n",
       "         [0.04691511],\n",
       "         [0.04691511],\n",
       "         [0.74161268],\n",
       "         [0.74161268],\n",
       "         [0.93002545],\n",
       "         [0.93002545],\n",
       "         [0.89058955],\n",
       "         [0.89058955],\n",
       "         [0.3715795 ],\n",
       "         [0.3715795 ],\n",
       "         [0.61874249],\n",
       "         [0.61874249],\n",
       "         [0.42455235],\n",
       "         [0.42455235],\n",
       "         [0.01881344],\n",
       "         [0.01881344],\n",
       "         [0.40664044],\n",
       "         [0.40664044]])}}"
      ]
     },
     "execution_count": 1,
     "metadata": {},
     "output_type": "execute_result"
    }
   ],
   "source": [
    "ds = load_by_id(run_id_a)\n",
    "ds.get_parameter_data('x1')"
   ]
  },
  {
   "cell_type": "code",
   "execution_count": null,
   "metadata": {},
   "outputs": [],
   "source": []
  }
 ],
 "metadata": {
  "kernelspec": {
   "display_name": "Python 3",
   "language": "python",
   "name": "python3"
  },
  "language_info": {
   "codemirror_mode": {
    "name": "ipython",
    "version": 3
   },
   "file_extension": ".py",
   "mimetype": "text/x-python",
   "name": "python",
   "nbconvert_exporter": "python",
   "pygments_lexer": "ipython3",
   "version": "3.7.10"
  },
  "nbsphinx": {
   "timeout": 600
  },
  "toc": {
   "base_numbering": 1,
   "nav_menu": {},
   "number_sections": true,
   "sideBar": true,
   "skip_h1_title": false,
   "title_cell": "Table of Contents",
   "title_sidebar": "Contents",
   "toc_cell": false,
   "toc_position": {},
   "toc_section_display": true,
   "toc_window_display": false
  },
  "varInspector": {
   "cols": {
    "lenName": 16,
    "lenType": 16,
    "lenVar": 40
   },
   "kernels_config": {
    "python": {
     "delete_cmd_postfix": "",
     "delete_cmd_prefix": "del ",
     "library": "var_list.py",
     "varRefreshCmd": "print(var_dic_list())"
    },
    "r": {
     "delete_cmd_postfix": ") ",
     "delete_cmd_prefix": "rm(",
     "library": "var_list.r",
     "varRefreshCmd": "cat(var_dic_list()) "
    }
   },
   "types_to_exclude": [
    "module",
    "function",
    "builtin_function_or_method",
    "instance",
    "_Feature"
   ],
   "window_display": false
  }
 },
 "nbformat": 4,
 "nbformat_minor": 4
}
