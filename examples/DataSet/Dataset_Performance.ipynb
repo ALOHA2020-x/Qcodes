{
 "cells": [
  {
   "cell_type": "markdown",
   "metadata": {},
   "source": [
    "# DataSet Performance\n",
    "\n",
    "This notebook shows the trade-off between inserting data into a database row-by-row and as binary blobs. Inserting the data row-by-row means that we have direct access to all the data and may perform queries directly on the values of the data. On the other hand, as we shall see, this is much slower than inserting the data directly as binary blobs."
   ]
  },
  {
   "cell_type": "markdown",
   "metadata": {},
   "source": [
    "First, we choose a new location for the database to ensure that we don't add a bunch of benchmarking data to the default one."
   ]
  },
  {
   "cell_type": "code",
   "execution_count": 1,
   "metadata": {
    "execution": {
     "iopub.execute_input": "2020-11-13T17:05:59.234829Z",
     "iopub.status.busy": "2020-11-13T17:05:59.233837Z",
     "iopub.status.idle": "2020-11-13T17:06:00.390053Z",
     "shell.execute_reply": "2020-11-13T17:06:00.389436Z"
    }
   },
   "outputs": [
    {
     "name": "stdout",
     "output_type": "stream",
     "text": [
      "Logging hadn't been started.\n",
      "Activating auto-logging. Current session state plus future input saved.\n",
      "Filename       : /home/vsts/.qcodes/logs/command_history.log\n",
      "Mode           : append\n",
      "Output logging : True\n",
      "Raw input log  : False\n",
      "Timestamping   : True\n",
      "State          : active\n"
     ]
    },
    {
     "name": "stdout",
     "output_type": "stream",
     "text": [
      "Qcodes Logfile : /home/vsts/.qcodes/logs/201113-14101-qcodes.log\n"
     ]
    }
   ],
   "source": [
    "import os\n",
    "cwd = os.getcwd()\n",
    "import qcodes as qc\n",
    "qc.config[\"core\"][\"db_location\"] = os.path.join(cwd, 'testing.db')\n"
   ]
  },
  {
   "cell_type": "code",
   "execution_count": 2,
   "metadata": {
    "execution": {
     "iopub.execute_input": "2020-11-13T17:06:00.396082Z",
     "iopub.status.busy": "2020-11-13T17:06:00.395500Z",
     "iopub.status.idle": "2020-11-13T17:06:00.607614Z",
     "shell.execute_reply": "2020-11-13T17:06:00.606496Z"
    }
   },
   "outputs": [],
   "source": [
    "%matplotlib inline\n",
    "import time\n",
    "import matplotlib.pyplot as plt\n",
    "import numpy as np\n",
    "\n",
    "import qcodes as qc\n",
    "from qcodes.instrument.parameter import ManualParameter\n",
    "from qcodes.dataset.experiment_container import (Experiment,\n",
    "                                                 load_last_experiment,\n",
    "                                                 new_experiment)\n",
    "from qcodes.dataset.sqlite.database import initialise_database\n",
    "from qcodes import load_or_create_experiment\n",
    "from qcodes.dataset.measurements import Measurement"
   ]
  },
  {
   "cell_type": "code",
   "execution_count": 3,
   "metadata": {
    "execution": {
     "iopub.execute_input": "2020-11-13T17:06:00.611970Z",
     "iopub.status.busy": "2020-11-13T17:06:00.611327Z",
     "iopub.status.idle": "2020-11-13T17:06:00.728782Z",
     "shell.execute_reply": "2020-11-13T17:06:00.729300Z"
    }
   },
   "outputs": [
    {
     "name": "stdout",
     "output_type": "stream",
     "text": [
      "\r",
      "0it [00:00, ?it/s]"
     ]
    },
    {
     "name": "stdout",
     "output_type": "stream",
     "text": [
      "\r",
      "Upgrading database; v0 -> v1: : 0it [00:00, ?it/s]"
     ]
    },
    {
     "name": "stdout",
     "output_type": "stream",
     "text": [
      "\r",
      "Upgrading database; v0 -> v1: : 0it [00:00, ?it/s]"
     ]
    },
    {
     "name": "stdout",
     "output_type": "stream",
     "text": [
      "\n",
      "\r",
      "  0%|          | 0/1 [00:00<?, ?it/s]"
     ]
    },
    {
     "name": "stdout",
     "output_type": "stream",
     "text": [
      "\r",
      "Upgrading database; v1 -> v2:   0%|          | 0/1 [00:00<?, ?it/s]"
     ]
    },
    {
     "name": "stdout",
     "output_type": "stream",
     "text": [
      "\r",
      "Upgrading database; v1 -> v2: 100%|██████████| 1/1 [00:00<00:00, 449.50it/s]"
     ]
    },
    {
     "name": "stdout",
     "output_type": "stream",
     "text": [
      "\n",
      "\r",
      "0it [00:00, ?it/s]"
     ]
    },
    {
     "name": "stdout",
     "output_type": "stream",
     "text": [
      "\r",
      "Upgrading database; v2 -> v3: : 0it [00:00, ?it/s]"
     ]
    },
    {
     "name": "stdout",
     "output_type": "stream",
     "text": [
      "\r",
      "Upgrading database; v2 -> v3: : 0it [00:00, ?it/s]"
     ]
    },
    {
     "name": "stdout",
     "output_type": "stream",
     "text": [
      "\n",
      "\r",
      "0it [00:00, ?it/s]"
     ]
    },
    {
     "name": "stdout",
     "output_type": "stream",
     "text": [
      "\r",
      "Upgrading database; v3 -> v4: : 0it [00:00, ?it/s]"
     ]
    },
    {
     "name": "stdout",
     "output_type": "stream",
     "text": [
      "\r",
      "Upgrading database; v3 -> v4: : 0it [00:00, ?it/s]"
     ]
    },
    {
     "name": "stdout",
     "output_type": "stream",
     "text": [
      "\n",
      "\r",
      "  0%|          | 0/1 [00:00<?, ?it/s]"
     ]
    },
    {
     "name": "stdout",
     "output_type": "stream",
     "text": [
      "\r",
      "Upgrading database; v4 -> v5:   0%|          | 0/1 [00:00<?, ?it/s]"
     ]
    },
    {
     "name": "stdout",
     "output_type": "stream",
     "text": [
      "\r",
      "Upgrading database; v4 -> v5: 100%|██████████| 1/1 [00:00<00:00, 519.29it/s]"
     ]
    },
    {
     "name": "stdout",
     "output_type": "stream",
     "text": [
      "\n",
      "\r",
      "0it [00:00, ?it/s]"
     ]
    },
    {
     "name": "stdout",
     "output_type": "stream",
     "text": [
      "\r",
      "Upgrading database; v5 -> v6: : 0it [00:00, ?it/s]"
     ]
    },
    {
     "name": "stdout",
     "output_type": "stream",
     "text": [
      "\r",
      "Upgrading database; v5 -> v6: : 0it [00:00, ?it/s]"
     ]
    },
    {
     "name": "stdout",
     "output_type": "stream",
     "text": [
      "\n",
      "\r",
      "  0%|          | 0/1 [00:00<?, ?it/s]"
     ]
    },
    {
     "name": "stdout",
     "output_type": "stream",
     "text": [
      "\r",
      "Upgrading database; v6 -> v7:   0%|          | 0/1 [00:00<?, ?it/s]"
     ]
    },
    {
     "name": "stdout",
     "output_type": "stream",
     "text": [
      "\r",
      "Upgrading database; v6 -> v7: 100%|██████████| 1/1 [00:00<00:00, 323.83it/s]"
     ]
    },
    {
     "name": "stdout",
     "output_type": "stream",
     "text": [
      "\n",
      "\r",
      "  0%|          | 0/1 [00:00<?, ?it/s]"
     ]
    },
    {
     "name": "stdout",
     "output_type": "stream",
     "text": [
      "\r",
      "Upgrading database; v7 -> v8:   0%|          | 0/1 [00:00<?, ?it/s]"
     ]
    },
    {
     "name": "stdout",
     "output_type": "stream",
     "text": [
      "\r",
      "Upgrading database; v7 -> v8: 100%|██████████| 1/1 [00:00<00:00, 659.59it/s]"
     ]
    },
    {
     "name": "stdout",
     "output_type": "stream",
     "text": [
      "\n",
      "\r",
      "  0%|          | 0/1 [00:00<?, ?it/s]"
     ]
    },
    {
     "name": "stdout",
     "output_type": "stream",
     "text": [
      "\r",
      "Upgrading database; v8 -> v9:   0%|          | 0/1 [00:00<?, ?it/s]"
     ]
    },
    {
     "name": "stdout",
     "output_type": "stream",
     "text": [
      "\r",
      "Upgrading database; v8 -> v9: 100%|██████████| 1/1 [00:00<00:00, 990.86it/s]"
     ]
    },
    {
     "name": "stdout",
     "output_type": "stream",
     "text": [
      "\n"
     ]
    }
   ],
   "source": [
    "initialise_database()\n",
    "exp = load_or_create_experiment(experiment_name='tutorial_exp', sample_name=\"no sample\")"
   ]
  },
  {
   "cell_type": "markdown",
   "metadata": {},
   "source": [
    "Here, we define a simple function to benchmark the time it takes to insert n points with either numeric or array data type.\n",
    "We will compare both the time used to call ``add_result`` and the time used for the full measurement."
   ]
  },
  {
   "cell_type": "code",
   "execution_count": 4,
   "metadata": {
    "execution": {
     "iopub.execute_input": "2020-11-13T17:06:00.738057Z",
     "iopub.status.busy": "2020-11-13T17:06:00.736373Z",
     "iopub.status.idle": "2020-11-13T17:06:00.740547Z",
     "shell.execute_reply": "2020-11-13T17:06:00.739880Z"
    }
   },
   "outputs": [],
   "source": [
    "def insert_data(paramtype, npoints, nreps=1):\n",
    "\n",
    "    meas = Measurement(exp=exp)\n",
    "\n",
    "    x1 = ManualParameter('x1')\n",
    "    x2 = ManualParameter('x2')\n",
    "    x3 = ManualParameter('x3')\n",
    "    y1 = ManualParameter('y1')\n",
    "    y2 = ManualParameter('y2')\n",
    "\n",
    "    meas.register_parameter(x1, paramtype=paramtype)\n",
    "    meas.register_parameter(x2, paramtype=paramtype)\n",
    "    meas.register_parameter(x3, paramtype=paramtype)\n",
    "    meas.register_parameter(y1, setpoints=[x1, x2, x3],\n",
    "                            paramtype=paramtype)\n",
    "    meas.register_parameter(y2, setpoints=[x1, x2, x3],\n",
    "                            paramtype=paramtype)\n",
    "    start = time.perf_counter()\n",
    "    with meas.run() as datasaver:\n",
    "        start_adding = time.perf_counter()\n",
    "        for i in range(nreps):\n",
    "            datasaver.add_result((x1, np.random.rand(npoints)),\n",
    "                                 (x2, np.random.rand(npoints)),\n",
    "                                 (x3, np.random.rand(npoints)),\n",
    "                                 (y1, np.random.rand(npoints)),\n",
    "                                 (y2, np.random.rand(npoints)))\n",
    "        stop_adding = time.perf_counter()\n",
    "        run_id = datasaver.run_id\n",
    "    stop = time.perf_counter()\n",
    "    tot_time = stop - start\n",
    "    add_time = stop_adding - start_adding\n",
    "    return tot_time, add_time, run_id"
   ]
  },
  {
   "cell_type": "markdown",
   "metadata": {},
   "source": [
    "## Comparison between numeric/array data and binary blob"
   ]
  },
  {
   "cell_type": "markdown",
   "metadata": {},
   "source": [
    "### Case1: Short experiment time"
   ]
  },
  {
   "cell_type": "code",
   "execution_count": 5,
   "metadata": {
    "execution": {
     "iopub.execute_input": "2020-11-13T17:06:00.747889Z",
     "iopub.status.busy": "2020-11-13T17:06:00.746397Z",
     "iopub.status.idle": "2020-11-13T17:06:01.686009Z",
     "shell.execute_reply": "2020-11-13T17:06:01.685374Z"
    }
   },
   "outputs": [
    {
     "name": "stdout",
     "output_type": "stream",
     "text": [
      "Starting experimental run with id: 1. \n",
      "Starting experimental run with id: 2. \n",
      "Starting experimental run with id: 3. \n",
      "Starting experimental run with id: 4. \n"
     ]
    },
    {
     "name": "stdout",
     "output_type": "stream",
     "text": [
      "Starting experimental run with id: 5. \n"
     ]
    },
    {
     "name": "stdout",
     "output_type": "stream",
     "text": [
      "Starting experimental run with id: 6. \n",
      "Starting experimental run with id: 7. \n"
     ]
    },
    {
     "name": "stdout",
     "output_type": "stream",
     "text": [
      "Starting experimental run with id: 8. \n",
      "Starting experimental run with id: 9. \n"
     ]
    },
    {
     "name": "stdout",
     "output_type": "stream",
     "text": [
      "Starting experimental run with id: 10. \n",
      "Starting experimental run with id: 11. \n"
     ]
    },
    {
     "name": "stdout",
     "output_type": "stream",
     "text": [
      "Starting experimental run with id: 12. \n"
     ]
    },
    {
     "name": "stdout",
     "output_type": "stream",
     "text": [
      "Starting experimental run with id: 13. \n"
     ]
    },
    {
     "name": "stdout",
     "output_type": "stream",
     "text": [
      "Starting experimental run with id: 14. \n"
     ]
    }
   ],
   "source": [
    "sizes = [1,500,1000,2000,3000,4000,5000]\n",
    "t_numeric = []\n",
    "t_numeric_add = []\n",
    "t_array = []\n",
    "t_array_add = []\n",
    "for size in sizes:\n",
    "    tn, tna, run_id_n =  insert_data('numeric', size)\n",
    "    t_numeric.append(tn)\n",
    "    t_numeric_add.append(tna)\n",
    "\n",
    "    ta, taa, run_id_a =  insert_data('array', size)\n",
    "    t_array.append(ta)\n",
    "    t_array_add.append(taa)"
   ]
  },
  {
   "cell_type": "code",
   "execution_count": 6,
   "metadata": {
    "execution": {
     "iopub.execute_input": "2020-11-13T17:06:01.705965Z",
     "iopub.status.busy": "2020-11-13T17:06:01.705358Z",
     "iopub.status.idle": "2020-11-13T17:06:01.940891Z",
     "shell.execute_reply": "2020-11-13T17:06:01.940384Z"
    }
   },
   "outputs": [
    {
     "data": {
      "image/png": "[encoded data removed]",
      "text/plain": [
       "<Figure size 432x288 with 1 Axes>"
      ]
     },
     "metadata": {
      "needs_background": "light"
     },
     "output_type": "display_data"
    }
   ],
   "source": [
    "fig, ax = plt.subplots(1,1)\n",
    "ax.plot(sizes, t_numeric, 'o-', label='Inserting row-by-row')\n",
    "ax.plot(sizes, t_numeric_add, 'o-', label='Inserting row-by-row: add_result only')\n",
    "ax.plot(sizes, t_array, 'd-', label='Inserting as binary blob')\n",
    "ax.plot(sizes, t_array_add, 'd-', label='Inserting as binary blob: add_result only')\n",
    "ax.legend()\n",
    "ax.set_xlabel('Array length')\n",
    "ax.set_ylabel('Time (s)')\n",
    "fig.tight_layout()"
   ]
  },
  {
   "cell_type": "markdown",
   "metadata": {},
   "source": [
    "As shown in the latter figure, the time to setup and and close the experiment is approximately 0.4 sec. In case of small array sizes, the difference between inserting values of data as arrays and inserting them row-by-row is relatively unimportant. At larger array sizes, i.e. above 10000 points, the cost of writing data as individual datapoints starts to become important.\n"
   ]
  },
  {
   "cell_type": "markdown",
   "metadata": {},
   "source": [
    "### Case2: Long experiment time "
   ]
  },
  {
   "cell_type": "code",
   "execution_count": 7,
   "metadata": {
    "execution": {
     "iopub.execute_input": "2020-11-13T17:06:01.948741Z",
     "iopub.status.busy": "2020-11-13T17:06:01.947724Z",
     "iopub.status.idle": "2020-11-13T17:07:03.000664Z",
     "shell.execute_reply": "2020-11-13T17:07:03.000049Z"
    }
   },
   "outputs": [
    {
     "name": "stdout",
     "output_type": "stream",
     "text": [
      "Starting experimental run with id: 15. \n",
      "Starting experimental run with id: 16. \n",
      "Starting experimental run with id: 17. \n"
     ]
    },
    {
     "name": "stdout",
     "output_type": "stream",
     "text": [
      "Starting experimental run with id: 18. \n",
      "Starting experimental run with id: 19. \n"
     ]
    },
    {
     "name": "stdout",
     "output_type": "stream",
     "text": [
      "Starting experimental run with id: 20. \n"
     ]
    },
    {
     "name": "stdout",
     "output_type": "stream",
     "text": [
      "Starting experimental run with id: 21. \n"
     ]
    },
    {
     "name": "stdout",
     "output_type": "stream",
     "text": [
      "Starting experimental run with id: 22. \n"
     ]
    },
    {
     "name": "stdout",
     "output_type": "stream",
     "text": [
      "Starting experimental run with id: 23. \n"
     ]
    },
    {
     "name": "stdout",
     "output_type": "stream",
     "text": [
      "Starting experimental run with id: 24. \n"
     ]
    },
    {
     "name": "stdout",
     "output_type": "stream",
     "text": [
      "Starting experimental run with id: 25. \n"
     ]
    },
    {
     "name": "stdout",
     "output_type": "stream",
     "text": [
      "Starting experimental run with id: 26. \n"
     ]
    },
    {
     "name": "stdout",
     "output_type": "stream",
     "text": [
      "Starting experimental run with id: 27. \n"
     ]
    },
    {
     "name": "stdout",
     "output_type": "stream",
     "text": [
      "Starting experimental run with id: 28. \n"
     ]
    }
   ],
   "source": [
    "sizes = [1,500,1000,2000,3000,4000,5000]\n",
    "nreps = 100\n",
    "t_numeric = []\n",
    "t_numeric_add = []\n",
    "t_numeric_run_ids = []\n",
    "t_array = []\n",
    "t_array_add = []\n",
    "t_array_run_ids = []\n",
    "for size in sizes:\n",
    "    tn, tna, run_id_n =  insert_data('numeric', size, nreps=nreps)\n",
    "    t_numeric.append(tn)\n",
    "    t_numeric_add.append(tna)\n",
    "    t_numeric_run_ids.append(run_id_n)\n",
    "\n",
    "    ta, taa, run_id_a =  insert_data('array', size, nreps=nreps)\n",
    "    t_array.append(ta)\n",
    "    t_array_add.append(taa)\n",
    "    t_array_run_ids.append(run_id_a)"
   ]
  },
  {
   "cell_type": "code",
   "execution_count": 8,
   "metadata": {
    "execution": {
     "iopub.execute_input": "2020-11-13T17:07:03.020778Z",
     "iopub.status.busy": "2020-11-13T17:07:03.018631Z",
     "iopub.status.idle": "2020-11-13T17:07:03.247820Z",
     "shell.execute_reply": "2020-11-13T17:07:03.247311Z"
    },
    "scrolled": true
   },
   "outputs": [
    {
     "data": {
      "image/png": "[encoded data removed]",
      "text/plain": [
       "<Figure size 432x288 with 1 Axes>"
      ]
     },
     "metadata": {
      "needs_background": "light"
     },
     "output_type": "display_data"
    }
   ],
   "source": [
    "fig, ax = plt.subplots(1,1)\n",
    "ax.plot(sizes, t_numeric, 'o-', label='Inserting row-by-row')\n",
    "ax.plot(sizes, t_numeric_add, 'o-', label='Inserting row-by-row: add_result only')\n",
    "ax.plot(sizes, t_array, 'd-', label='Inserting as binary blob')\n",
    "ax.plot(sizes, t_array_add, 'd-', label='Inserting as binary blob: add_result only')\n",
    "ax.legend()\n",
    "ax.set_xlabel('Array length')\n",
    "ax.set_ylabel('Time (s)')\n",
    "fig.tight_layout()"
   ]
  },
  {
   "cell_type": "markdown",
   "metadata": {},
   "source": [
    "However, as we increase the length of the experiment, as seen here by repeating the insertion 100 times, we see a big difference between inserting values of the data row-by-row and inserting it as a binary blob."
   ]
  },
  {
   "cell_type": "markdown",
   "metadata": {},
   "source": [
    "## Loading the data "
   ]
  },
  {
   "cell_type": "code",
   "execution_count": 9,
   "metadata": {
    "execution": {
     "iopub.execute_input": "2020-11-13T17:07:03.252407Z",
     "iopub.status.busy": "2020-11-13T17:07:03.251327Z",
     "iopub.status.idle": "2020-11-13T17:07:03.254129Z",
     "shell.execute_reply": "2020-11-13T17:07:03.254636Z"
    }
   },
   "outputs": [],
   "source": [
    "from qcodes.dataset.data_set import load_by_id\n",
    "from qcodes.dataset.data_export import get_data_by_id"
   ]
  },
  {
   "cell_type": "markdown",
   "metadata": {},
   "source": [
    "As usual you can load the data by using the ``load_by_id`` function but you will notice that the different storage methods\n",
    "are reflected in shape of the data as it is retrieved. "
   ]
  },
  {
   "cell_type": "code",
   "execution_count": 10,
   "metadata": {
    "execution": {
     "iopub.execute_input": "2020-11-13T17:07:03.259656Z",
     "iopub.status.busy": "2020-11-13T17:07:03.258335Z",
     "iopub.status.idle": "2020-11-13T17:07:03.260310Z",
     "shell.execute_reply": "2020-11-13T17:07:03.260818Z"
    }
   },
   "outputs": [],
   "source": [
    "run_id_n = t_numeric_run_ids[0]\n",
    "run_id_a = t_array_run_ids[0]"
   ]
  },
  {
   "cell_type": "code",
   "execution_count": 11,
   "metadata": {
    "execution": {
     "iopub.execute_input": "2020-11-13T17:07:03.264353Z",
     "iopub.status.busy": "2020-11-13T17:07:03.263725Z",
     "iopub.status.idle": "2020-11-13T17:07:03.273824Z",
     "shell.execute_reply": "2020-11-13T17:07:03.274501Z"
    },
    "scrolled": true
   },
   "outputs": [
    {
     "data": {
      "text/plain": [
       "{'x1': {'x1': array([0.39221501, 0.39221501, 0.62500507, 0.62500507, 0.76092449,\n",
       "         0.76092449, 0.276584  , 0.276584  , 0.18835373, 0.18835373,\n",
       "         0.31680959, 0.31680959, 0.43127831, 0.43127831, 0.01289596,\n",
       "         0.01289596, 0.25767259, 0.25767259, 0.41943514, 0.41943514,\n",
       "         0.11346089, 0.11346089, 0.65467956, 0.65467956, 0.75651461,\n",
       "         0.75651461, 0.85525219, 0.85525219, 0.70329743, 0.70329743,\n",
       "         0.82800317, 0.82800317, 0.62996923, 0.62996923, 0.0048942 ,\n",
       "         0.0048942 , 0.73557705, 0.73557705, 0.20906513, 0.20906513,\n",
       "         0.05437093, 0.05437093, 0.4616961 , 0.4616961 , 0.36435713,\n",
       "         0.36435713, 0.76847132, 0.76847132, 0.34580477, 0.34580477,\n",
       "         0.48022047, 0.48022047, 0.33912329, 0.33912329, 0.62755389,\n",
       "         0.62755389, 0.80133086, 0.80133086, 0.9003674 , 0.9003674 ,\n",
       "         0.15454682, 0.15454682, 0.6416215 , 0.6416215 , 0.57285875,\n",
       "         0.57285875, 0.05905594, 0.05905594, 0.68113374, 0.68113374,\n",
       "         0.89979675, 0.89979675, 0.85529552, 0.85529552, 0.86607052,\n",
       "         0.86607052, 0.17569821, 0.17569821, 0.13847644, 0.13847644,\n",
       "         0.03071191, 0.03071191, 0.07847274, 0.07847274, 0.59970814,\n",
       "         0.59970814, 0.93909928, 0.93909928, 0.66218832, 0.66218832,\n",
       "         0.54114855, 0.54114855, 0.73667763, 0.73667763, 0.08880418,\n",
       "         0.08880418, 0.97860859, 0.97860859, 0.91674749, 0.91674749,\n",
       "         0.99579374, 0.99579374, 0.41451481, 0.41451481, 0.65732716,\n",
       "         0.65732716, 0.18794524, 0.18794524, 0.93214258, 0.93214258,\n",
       "         0.19437999, 0.19437999, 0.87251657, 0.87251657, 0.43560198,\n",
       "         0.43560198, 0.66121384, 0.66121384, 0.01529645, 0.01529645,\n",
       "         0.00148889, 0.00148889, 0.60676149, 0.60676149, 0.22299675,\n",
       "         0.22299675, 0.72483183, 0.72483183, 0.22414894, 0.22414894,\n",
       "         0.47432054, 0.47432054, 0.54585767, 0.54585767, 0.22413647,\n",
       "         0.22413647, 0.32622578, 0.32622578, 0.6457054 , 0.6457054 ,\n",
       "         0.01152162, 0.01152162, 0.89900576, 0.89900576, 0.95331647,\n",
       "         0.95331647, 0.78835306, 0.78835306, 0.35241881, 0.35241881,\n",
       "         0.12544102, 0.12544102, 0.01501706, 0.01501706, 0.61604021,\n",
       "         0.61604021, 0.32522514, 0.32522514, 0.83406417, 0.83406417,\n",
       "         0.76778681, 0.76778681, 0.25751667, 0.25751667, 0.92475098,\n",
       "         0.92475098, 0.77066933, 0.77066933, 0.79785167, 0.79785167,\n",
       "         0.84821559, 0.84821559, 0.56383443, 0.56383443, 0.24684004,\n",
       "         0.24684004, 0.07946684, 0.07946684, 0.56467906, 0.56467906,\n",
       "         0.19453804, 0.19453804, 0.43143416, 0.43143416, 0.07172269,\n",
       "         0.07172269, 0.18203691, 0.18203691, 0.33437762, 0.33437762,\n",
       "         0.29005186, 0.29005186, 0.29065529, 0.29065529, 0.90926309,\n",
       "         0.90926309, 0.64106231, 0.64106231, 0.72839698, 0.72839698])}}"
      ]
     },
     "execution_count": 1,
     "metadata": {},
     "output_type": "execute_result"
    }
   ],
   "source": [
    "ds = load_by_id(run_id_n)\n",
    "ds.get_parameter_data('x1')"
   ]
  },
  {
   "cell_type": "markdown",
   "metadata": {},
   "source": [
    "And a dataset stored as binary arrays"
   ]
  },
  {
   "cell_type": "code",
   "execution_count": 12,
   "metadata": {
    "execution": {
     "iopub.execute_input": "2020-11-13T17:07:03.278575Z",
     "iopub.status.busy": "2020-11-13T17:07:03.277859Z",
     "iopub.status.idle": "2020-11-13T17:07:03.359009Z",
     "shell.execute_reply": "2020-11-13T17:07:03.359538Z"
    },
    "scrolled": true
   },
   "outputs": [
    {
     "data": {
      "text/plain": [
       "{'x1': {'x1': array([[0.70901119],\n",
       "         [0.70901119],\n",
       "         [0.50909536],\n",
       "         [0.50909536],\n",
       "         [0.90908314],\n",
       "         [0.90908314],\n",
       "         [0.09629787],\n",
       "         [0.09629787],\n",
       "         [0.16361825],\n",
       "         [0.16361825],\n",
       "         [0.09025797],\n",
       "         [0.09025797],\n",
       "         [0.17927318],\n",
       "         [0.17927318],\n",
       "         [0.42941873],\n",
       "         [0.42941873],\n",
       "         [0.08406393],\n",
       "         [0.08406393],\n",
       "         [0.91039473],\n",
       "         [0.91039473],\n",
       "         [0.66293489],\n",
       "         [0.66293489],\n",
       "         [0.00157934],\n",
       "         [0.00157934],\n",
       "         [0.49345182],\n",
       "         [0.49345182],\n",
       "         [0.77932339],\n",
       "         [0.77932339],\n",
       "         [0.65708073],\n",
       "         [0.65708073],\n",
       "         [0.53508651],\n",
       "         [0.53508651],\n",
       "         [0.62180664],\n",
       "         [0.62180664],\n",
       "         [0.87311335],\n",
       "         [0.87311335],\n",
       "         [0.0371663 ],\n",
       "         [0.0371663 ],\n",
       "         [0.12044649],\n",
       "         [0.12044649],\n",
       "         [0.2975371 ],\n",
       "         [0.2975371 ],\n",
       "         [0.82488929],\n",
       "         [0.82488929],\n",
       "         [0.47613818],\n",
       "         [0.47613818],\n",
       "         [0.36566941],\n",
       "         [0.36566941],\n",
       "         [0.83162983],\n",
       "         [0.83162983],\n",
       "         [0.32348873],\n",
       "         [0.32348873],\n",
       "         [0.36492198],\n",
       "         [0.36492198],\n",
       "         [0.44963217],\n",
       "         [0.44963217],\n",
       "         [0.8495992 ],\n",
       "         [0.8495992 ],\n",
       "         [0.69963481],\n",
       "         [0.69963481],\n",
       "         [0.11391377],\n",
       "         [0.11391377],\n",
       "         [0.40592902],\n",
       "         [0.40592902],\n",
       "         [0.73611634],\n",
       "         [0.73611634],\n",
       "         [0.3889468 ],\n",
       "         [0.3889468 ],\n",
       "         [0.51441002],\n",
       "         [0.51441002],\n",
       "         [0.01663633],\n",
       "         [0.01663633],\n",
       "         [0.17715665],\n",
       "         [0.17715665],\n",
       "         [0.96849359],\n",
       "         [0.96849359],\n",
       "         [0.6879218 ],\n",
       "         [0.6879218 ],\n",
       "         [0.44731276],\n",
       "         [0.44731276],\n",
       "         [0.24177661],\n",
       "         [0.24177661],\n",
       "         [0.67314497],\n",
       "         [0.67314497],\n",
       "         [0.00837778],\n",
       "         [0.00837778],\n",
       "         [0.33191333],\n",
       "         [0.33191333],\n",
       "         [0.76907354],\n",
       "         [0.76907354],\n",
       "         [0.933375  ],\n",
       "         [0.933375  ],\n",
       "         [0.24343575],\n",
       "         [0.24343575],\n",
       "         [0.4961773 ],\n",
       "         [0.4961773 ],\n",
       "         [0.39508613],\n",
       "         [0.39508613],\n",
       "         [0.00655672],\n",
       "         [0.00655672],\n",
       "         [0.02530637],\n",
       "         [0.02530637],\n",
       "         [0.14026654],\n",
       "         [0.14026654],\n",
       "         [0.20866421],\n",
       "         [0.20866421],\n",
       "         [0.03836709],\n",
       "         [0.03836709],\n",
       "         [0.73883309],\n",
       "         [0.73883309],\n",
       "         [0.71363725],\n",
       "         [0.71363725],\n",
       "         [0.65928417],\n",
       "         [0.65928417],\n",
       "         [0.2885354 ],\n",
       "         [0.2885354 ],\n",
       "         [0.29206745],\n",
       "         [0.29206745],\n",
       "         [0.58002146],\n",
       "         [0.58002146],\n",
       "         [0.4423887 ],\n",
       "         [0.4423887 ],\n",
       "         [0.43538686],\n",
       "         [0.43538686],\n",
       "         [0.92264276],\n",
       "         [0.92264276],\n",
       "         [0.19385157],\n",
       "         [0.19385157],\n",
       "         [0.94447548],\n",
       "         [0.94447548],\n",
       "         [0.37412592],\n",
       "         [0.37412592],\n",
       "         [0.02274097],\n",
       "         [0.02274097],\n",
       "         [0.50566926],\n",
       "         [0.50566926],\n",
       "         [0.96719244],\n",
       "         [0.96719244],\n",
       "         [0.7087072 ],\n",
       "         [0.7087072 ],\n",
       "         [0.09993087],\n",
       "         [0.09993087],\n",
       "         [0.78731455],\n",
       "         [0.78731455],\n",
       "         [0.53389188],\n",
       "         [0.53389188],\n",
       "         [0.71980624],\n",
       "         [0.71980624],\n",
       "         [0.80208945],\n",
       "         [0.80208945],\n",
       "         [0.46215786],\n",
       "         [0.46215786],\n",
       "         [0.19493461],\n",
       "         [0.19493461],\n",
       "         [0.27915499],\n",
       "         [0.27915499],\n",
       "         [0.4291603 ],\n",
       "         [0.4291603 ],\n",
       "         [0.80060462],\n",
       "         [0.80060462],\n",
       "         [0.49540404],\n",
       "         [0.49540404],\n",
       "         [0.80667156],\n",
       "         [0.80667156],\n",
       "         [0.94803392],\n",
       "         [0.94803392],\n",
       "         [0.62618271],\n",
       "         [0.62618271],\n",
       "         [0.02196752],\n",
       "         [0.02196752],\n",
       "         [0.46856158],\n",
       "         [0.46856158],\n",
       "         [0.46682916],\n",
       "         [0.46682916],\n",
       "         [0.00854919],\n",
       "         [0.00854919],\n",
       "         [0.17682547],\n",
       "         [0.17682547],\n",
       "         [0.45184222],\n",
       "         [0.45184222],\n",
       "         [0.57972103],\n",
       "         [0.57972103],\n",
       "         [0.84945518],\n",
       "         [0.84945518],\n",
       "         [0.98693066],\n",
       "         [0.98693066],\n",
       "         [0.33463006],\n",
       "         [0.33463006],\n",
       "         [0.85341186],\n",
       "         [0.85341186],\n",
       "         [0.7963704 ],\n",
       "         [0.7963704 ],\n",
       "         [0.94057845],\n",
       "         [0.94057845],\n",
       "         [0.24387064],\n",
       "         [0.24387064],\n",
       "         [0.03696558],\n",
       "         [0.03696558],\n",
       "         [0.20086027],\n",
       "         [0.20086027]])}}"
      ]
     },
     "execution_count": 1,
     "metadata": {},
     "output_type": "execute_result"
    }
   ],
   "source": [
    "ds = load_by_id(run_id_a)\n",
    "ds.get_parameter_data('x1')"
   ]
  },
  {
   "cell_type": "code",
   "execution_count": null,
   "metadata": {},
   "outputs": [],
   "source": []
  }
 ],
 "metadata": {
  "kernelspec": {
   "display_name": "Python 3",
   "language": "python",
   "name": "python3"
  },
  "language_info": {
   "codemirror_mode": {
    "name": "ipython",
    "version": 3
   },
   "file_extension": ".py",
   "mimetype": "text/x-python",
   "name": "python",
   "nbconvert_exporter": "python",
   "pygments_lexer": "ipython3",
   "version": "3.7.9"
  },
  "nbsphinx": {
   "timeout": 600
  },
  "toc": {
   "base_numbering": 1,
   "nav_menu": {},
   "number_sections": true,
   "sideBar": true,
   "skip_h1_title": false,
   "title_cell": "Table of Contents",
   "title_sidebar": "Contents",
   "toc_cell": false,
   "toc_position": {},
   "toc_section_display": true,
   "toc_window_display": false
  },
  "varInspector": {
   "cols": {
    "lenName": 16,
    "lenType": 16,
    "lenVar": 40
   },
   "kernels_config": {
    "python": {
     "delete_cmd_postfix": "",
     "delete_cmd_prefix": "del ",
     "library": "var_list.py",
     "varRefreshCmd": "print(var_dic_list())"
    },
    "r": {
     "delete_cmd_postfix": ") ",
     "delete_cmd_prefix": "rm(",
     "library": "var_list.r",
     "varRefreshCmd": "cat(var_dic_list()) "
    }
   },
   "types_to_exclude": [
    "module",
    "function",
    "builtin_function_or_method",
    "instance",
    "_Feature"
   ],
   "window_display": false
  }
 },
 "nbformat": 4,
 "nbformat_minor": 2
}
