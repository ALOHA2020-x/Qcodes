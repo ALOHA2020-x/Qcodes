{
 "cells": [
  {
   "cell_type": "markdown",
   "metadata": {},
   "source": [
    "# DataSet Performance\n",
    "\n",
    "This notebook shows the trade-off between inserting data into a database row-by-row and as binary blobs. Inserting the data row-by-row means that we have direct access to all the data and may perform queries directly on the values of the data. On the other hand, as we shall see, this is much slower than inserting the data directly as binary blobs."
   ]
  },
  {
   "cell_type": "markdown",
   "metadata": {},
   "source": [
    "First, we choose a new location for the database to ensure that we don't add a bunch of benchmarking data to the default one."
   ]
  },
  {
   "cell_type": "code",
   "execution_count": 1,
   "metadata": {
    "execution": {
     "iopub.execute_input": "2021-03-24T09:05:04.642616Z",
     "iopub.status.busy": "2021-03-24T09:05:04.642007Z",
     "iopub.status.idle": "2021-03-24T09:05:05.672957Z",
     "shell.execute_reply": "2021-03-24T09:05:05.673473Z"
    }
   },
   "outputs": [
    {
     "name": "stdout",
     "output_type": "stream",
     "text": [
      "Logging hadn't been started.\n",
      "Activating auto-logging. Current session state plus future input saved.\n",
      "Filename       : /home/runner/.qcodes/logs/command_history.log\n",
      "Mode           : append\n",
      "Output logging : True\n",
      "Raw input log  : False\n",
      "Timestamping   : True\n",
      "State          : active\n"
     ]
    },
    {
     "name": "stdout",
     "output_type": "stream",
     "text": [
      "Qcodes Logfile : /home/runner/.qcodes/logs/210324-4402-qcodes.log\n"
     ]
    }
   ],
   "source": [
    "import os\n",
    "cwd = os.getcwd()\n",
    "import qcodes as qc\n",
    "qc.config[\"core\"][\"db_location\"] = os.path.join(cwd, 'testing.db')\n"
   ]
  },
  {
   "cell_type": "code",
   "execution_count": 2,
   "metadata": {
    "execution": {
     "iopub.execute_input": "2021-03-24T09:05:05.680815Z",
     "iopub.status.busy": "2021-03-24T09:05:05.680167Z",
     "iopub.status.idle": "2021-03-24T09:05:05.921725Z",
     "shell.execute_reply": "2021-03-24T09:05:05.922167Z"
    }
   },
   "outputs": [],
   "source": [
    "%matplotlib inline\n",
    "import time\n",
    "import matplotlib.pyplot as plt\n",
    "import numpy as np\n",
    "\n",
    "import qcodes as qc\n",
    "from qcodes.instrument.parameter import ManualParameter\n",
    "from qcodes.dataset.experiment_container import (Experiment,\n",
    "                                                 load_last_experiment,\n",
    "                                                 new_experiment)\n",
    "from qcodes.dataset.sqlite.database import initialise_database\n",
    "from qcodes import load_or_create_experiment\n",
    "from qcodes.dataset.measurements import Measurement"
   ]
  },
  {
   "cell_type": "code",
   "execution_count": 3,
   "metadata": {
    "execution": {
     "iopub.execute_input": "2021-03-24T09:05:05.925915Z",
     "iopub.status.busy": "2021-03-24T09:05:05.925196Z",
     "iopub.status.idle": "2021-03-24T09:05:05.987917Z",
     "shell.execute_reply": "2021-03-24T09:05:05.987459Z"
    }
   },
   "outputs": [
    {
     "name": "stdout",
     "output_type": "stream",
     "text": [
      "\r",
      "0it [00:00, ?it/s]"
     ]
    },
    {
     "name": "stdout",
     "output_type": "stream",
     "text": [
      "\r",
      "Upgrading database; v0 -> v1: : 0it [00:00, ?it/s]"
     ]
    },
    {
     "name": "stdout",
     "output_type": "stream",
     "text": [
      "\r",
      "Upgrading database; v0 -> v1: : 0it [00:00, ?it/s]"
     ]
    },
    {
     "name": "stdout",
     "output_type": "stream",
     "text": [
      "\n",
      "\r",
      "  0%|          | 0/1 [00:00<?, ?it/s]"
     ]
    },
    {
     "name": "stdout",
     "output_type": "stream",
     "text": [
      "\r",
      "Upgrading database; v1 -> v2:   0%|          | 0/1 [00:00<?, ?it/s]"
     ]
    },
    {
     "name": "stdout",
     "output_type": "stream",
     "text": [
      "\r",
      "Upgrading database; v1 -> v2: 100%|██████████| 1/1 [00:00<00:00, 556.57it/s]"
     ]
    },
    {
     "name": "stdout",
     "output_type": "stream",
     "text": [
      "\n",
      "\r",
      "0it [00:00, ?it/s]"
     ]
    },
    {
     "name": "stdout",
     "output_type": "stream",
     "text": [
      "\r",
      "Upgrading database; v2 -> v3: : 0it [00:00, ?it/s]"
     ]
    },
    {
     "name": "stdout",
     "output_type": "stream",
     "text": [
      "\r",
      "Upgrading database; v2 -> v3: : 0it [00:00, ?it/s]"
     ]
    },
    {
     "name": "stdout",
     "output_type": "stream",
     "text": [
      "\n",
      "\r",
      "0it [00:00, ?it/s]"
     ]
    },
    {
     "name": "stdout",
     "output_type": "stream",
     "text": [
      "\r",
      "Upgrading database; v3 -> v4: : 0it [00:00, ?it/s]"
     ]
    },
    {
     "name": "stdout",
     "output_type": "stream",
     "text": [
      "\r",
      "Upgrading database; v3 -> v4: : 0it [00:00, ?it/s]"
     ]
    },
    {
     "name": "stdout",
     "output_type": "stream",
     "text": [
      "\n",
      "\r",
      "  0%|          | 0/1 [00:00<?, ?it/s]"
     ]
    },
    {
     "name": "stdout",
     "output_type": "stream",
     "text": [
      "\r",
      "Upgrading database; v4 -> v5:   0%|          | 0/1 [00:00<?, ?it/s]"
     ]
    },
    {
     "name": "stdout",
     "output_type": "stream",
     "text": [
      "\r",
      "Upgrading database; v4 -> v5: 100%|██████████| 1/1 [00:00<00:00, 529.52it/s]"
     ]
    },
    {
     "name": "stdout",
     "output_type": "stream",
     "text": [
      "\n",
      "\r",
      "0it [00:00, ?it/s]"
     ]
    },
    {
     "name": "stdout",
     "output_type": "stream",
     "text": [
      "\r",
      "Upgrading database; v5 -> v6: : 0it [00:00, ?it/s]"
     ]
    },
    {
     "name": "stdout",
     "output_type": "stream",
     "text": [
      "\r",
      "Upgrading database; v5 -> v6: : 0it [00:00, ?it/s]"
     ]
    },
    {
     "name": "stdout",
     "output_type": "stream",
     "text": [
      "\n",
      "\r",
      "  0%|          | 0/1 [00:00<?, ?it/s]"
     ]
    },
    {
     "name": "stdout",
     "output_type": "stream",
     "text": [
      "\r",
      "Upgrading database; v6 -> v7:   0%|          | 0/1 [00:00<?, ?it/s]"
     ]
    },
    {
     "name": "stdout",
     "output_type": "stream",
     "text": [
      "\r",
      "Upgrading database; v6 -> v7: 100%|██████████| 1/1 [00:00<00:00, 357.36it/s]"
     ]
    },
    {
     "name": "stdout",
     "output_type": "stream",
     "text": [
      "\n",
      "\r",
      "  0%|          | 0/1 [00:00<?, ?it/s]"
     ]
    },
    {
     "name": "stdout",
     "output_type": "stream",
     "text": [
      "\r",
      "Upgrading database; v7 -> v8:   0%|          | 0/1 [00:00<?, ?it/s]"
     ]
    },
    {
     "name": "stdout",
     "output_type": "stream",
     "text": [
      "\r",
      "Upgrading database; v7 -> v8: 100%|██████████| 1/1 [00:00<00:00, 869.83it/s]"
     ]
    },
    {
     "name": "stdout",
     "output_type": "stream",
     "text": [
      "\n",
      "\r",
      "  0%|          | 0/1 [00:00<?, ?it/s]"
     ]
    },
    {
     "name": "stdout",
     "output_type": "stream",
     "text": [
      "\r",
      "Upgrading database; v8 -> v9:   0%|          | 0/1 [00:00<?, ?it/s]"
     ]
    },
    {
     "name": "stdout",
     "output_type": "stream",
     "text": [
      "\r",
      "Upgrading database; v8 -> v9: 100%|██████████| 1/1 [00:00<00:00, 831.05it/s]"
     ]
    },
    {
     "name": "stdout",
     "output_type": "stream",
     "text": [
      "\n"
     ]
    }
   ],
   "source": [
    "initialise_database()\n",
    "exp = load_or_create_experiment(experiment_name='tutorial_exp', sample_name=\"no sample\")"
   ]
  },
  {
   "cell_type": "markdown",
   "metadata": {},
   "source": [
    "Here, we define a simple function to benchmark the time it takes to insert n points with either numeric or array data type.\n",
    "We will compare both the time used to call ``add_result`` and the time used for the full measurement."
   ]
  },
  {
   "cell_type": "code",
   "execution_count": 4,
   "metadata": {
    "execution": {
     "iopub.execute_input": "2021-03-24T09:05:05.996388Z",
     "iopub.status.busy": "2021-03-24T09:05:05.995579Z",
     "iopub.status.idle": "2021-03-24T09:05:05.997667Z",
     "shell.execute_reply": "2021-03-24T09:05:05.998190Z"
    }
   },
   "outputs": [],
   "source": [
    "def insert_data(paramtype, npoints, nreps=1):\n",
    "\n",
    "    meas = Measurement(exp=exp)\n",
    "\n",
    "    x1 = ManualParameter('x1')\n",
    "    x2 = ManualParameter('x2')\n",
    "    x3 = ManualParameter('x3')\n",
    "    y1 = ManualParameter('y1')\n",
    "    y2 = ManualParameter('y2')\n",
    "\n",
    "    meas.register_parameter(x1, paramtype=paramtype)\n",
    "    meas.register_parameter(x2, paramtype=paramtype)\n",
    "    meas.register_parameter(x3, paramtype=paramtype)\n",
    "    meas.register_parameter(y1, setpoints=[x1, x2, x3],\n",
    "                            paramtype=paramtype)\n",
    "    meas.register_parameter(y2, setpoints=[x1, x2, x3],\n",
    "                            paramtype=paramtype)\n",
    "    start = time.perf_counter()\n",
    "    with meas.run() as datasaver:\n",
    "        start_adding = time.perf_counter()\n",
    "        for i in range(nreps):\n",
    "            datasaver.add_result((x1, np.random.rand(npoints)),\n",
    "                                 (x2, np.random.rand(npoints)),\n",
    "                                 (x3, np.random.rand(npoints)),\n",
    "                                 (y1, np.random.rand(npoints)),\n",
    "                                 (y2, np.random.rand(npoints)))\n",
    "        stop_adding = time.perf_counter()\n",
    "        run_id = datasaver.run_id\n",
    "    stop = time.perf_counter()\n",
    "    tot_time = stop - start\n",
    "    add_time = stop_adding - start_adding\n",
    "    return tot_time, add_time, run_id"
   ]
  },
  {
   "cell_type": "markdown",
   "metadata": {},
   "source": [
    "## Comparison between numeric/array data and binary blob"
   ]
  },
  {
   "cell_type": "markdown",
   "metadata": {},
   "source": [
    "### Case1: Short experiment time"
   ]
  },
  {
   "cell_type": "code",
   "execution_count": 5,
   "metadata": {
    "execution": {
     "iopub.execute_input": "2021-03-24T09:05:06.005052Z",
     "iopub.status.busy": "2021-03-24T09:05:06.004386Z",
     "iopub.status.idle": "2021-03-24T09:05:06.754225Z",
     "shell.execute_reply": "2021-03-24T09:05:06.754759Z"
    }
   },
   "outputs": [
    {
     "name": "stdout",
     "output_type": "stream",
     "text": [
      "Starting experimental run with id: 1. \n",
      "Starting experimental run with id: 2. \n",
      "Starting experimental run with id: 3. \n",
      "Starting experimental run with id: 4. \n",
      "Starting experimental run with id: 5. \n"
     ]
    },
    {
     "name": "stdout",
     "output_type": "stream",
     "text": [
      "Starting experimental run with id: 6. \n"
     ]
    },
    {
     "name": "stdout",
     "output_type": "stream",
     "text": [
      "Starting experimental run with id: 7. \n"
     ]
    },
    {
     "name": "stdout",
     "output_type": "stream",
     "text": [
      "Starting experimental run with id: 8. \n",
      "Starting experimental run with id: 9. \n"
     ]
    },
    {
     "name": "stdout",
     "output_type": "stream",
     "text": [
      "Starting experimental run with id: 10. \n",
      "Starting experimental run with id: 11. \n"
     ]
    },
    {
     "name": "stdout",
     "output_type": "stream",
     "text": [
      "Starting experimental run with id: 12. \n"
     ]
    },
    {
     "name": "stdout",
     "output_type": "stream",
     "text": [
      "Starting experimental run with id: 13. \n",
      "Starting experimental run with id: 14. \n"
     ]
    }
   ],
   "source": [
    "sizes = [1,500,1000,2000,3000,4000,5000]\n",
    "t_numeric = []\n",
    "t_numeric_add = []\n",
    "t_array = []\n",
    "t_array_add = []\n",
    "for size in sizes:\n",
    "    tn, tna, run_id_n =  insert_data('numeric', size)\n",
    "    t_numeric.append(tn)\n",
    "    t_numeric_add.append(tna)\n",
    "\n",
    "    ta, taa, run_id_a =  insert_data('array', size)\n",
    "    t_array.append(ta)\n",
    "    t_array_add.append(taa)"
   ]
  },
  {
   "cell_type": "code",
   "execution_count": 6,
   "metadata": {
    "execution": {
     "iopub.execute_input": "2021-03-24T09:05:06.773705Z",
     "iopub.status.busy": "2021-03-24T09:05:06.771044Z",
     "iopub.status.idle": "2021-03-24T09:05:07.023874Z",
     "shell.execute_reply": "2021-03-24T09:05:07.023390Z"
    }
   },
   "outputs": [
    {
     "data": {
      "image/png": "[encoded data removed]",
      "text/plain": [
       "<Figure size 432x288 with 1 Axes>"
      ]
     },
     "metadata": {
      "needs_background": "light"
     },
     "output_type": "display_data"
    }
   ],
   "source": [
    "fig, ax = plt.subplots(1,1)\n",
    "ax.plot(sizes, t_numeric, 'o-', label='Inserting row-by-row')\n",
    "ax.plot(sizes, t_numeric_add, 'o-', label='Inserting row-by-row: add_result only')\n",
    "ax.plot(sizes, t_array, 'd-', label='Inserting as binary blob')\n",
    "ax.plot(sizes, t_array_add, 'd-', label='Inserting as binary blob: add_result only')\n",
    "ax.legend()\n",
    "ax.set_xlabel('Array length')\n",
    "ax.set_ylabel('Time (s)')\n",
    "fig.tight_layout()"
   ]
  },
  {
   "cell_type": "markdown",
   "metadata": {},
   "source": [
    "As shown in the latter figure, the time to setup and and close the experiment is approximately 0.4 sec. In case of small array sizes, the difference between inserting values of data as arrays and inserting them row-by-row is relatively unimportant. At larger array sizes, i.e. above 10000 points, the cost of writing data as individual datapoints starts to become important.\n"
   ]
  },
  {
   "cell_type": "markdown",
   "metadata": {},
   "source": [
    "### Case2: Long experiment time "
   ]
  },
  {
   "cell_type": "code",
   "execution_count": 7,
   "metadata": {
    "execution": {
     "iopub.execute_input": "2021-03-24T09:05:07.031166Z",
     "iopub.status.busy": "2021-03-24T09:05:07.030409Z",
     "iopub.status.idle": "2021-03-24T09:06:05.951798Z",
     "shell.execute_reply": "2021-03-24T09:06:05.951174Z"
    }
   },
   "outputs": [
    {
     "name": "stdout",
     "output_type": "stream",
     "text": [
      "Starting experimental run with id: 15. \n",
      "Starting experimental run with id: 16. \n",
      "Starting experimental run with id: 17. \n"
     ]
    },
    {
     "name": "stdout",
     "output_type": "stream",
     "text": [
      "Starting experimental run with id: 18. \n"
     ]
    },
    {
     "name": "stdout",
     "output_type": "stream",
     "text": [
      "Starting experimental run with id: 19. \n"
     ]
    },
    {
     "name": "stdout",
     "output_type": "stream",
     "text": [
      "Starting experimental run with id: 20. \n"
     ]
    },
    {
     "name": "stdout",
     "output_type": "stream",
     "text": [
      "Starting experimental run with id: 21. \n"
     ]
    },
    {
     "name": "stdout",
     "output_type": "stream",
     "text": [
      "Starting experimental run with id: 22. \n"
     ]
    },
    {
     "name": "stdout",
     "output_type": "stream",
     "text": [
      "Starting experimental run with id: 23. \n"
     ]
    },
    {
     "name": "stdout",
     "output_type": "stream",
     "text": [
      "Starting experimental run with id: 24. \n"
     ]
    },
    {
     "name": "stdout",
     "output_type": "stream",
     "text": [
      "Starting experimental run with id: 25. \n"
     ]
    },
    {
     "name": "stdout",
     "output_type": "stream",
     "text": [
      "Starting experimental run with id: 26. \n"
     ]
    },
    {
     "name": "stdout",
     "output_type": "stream",
     "text": [
      "Starting experimental run with id: 27. \n"
     ]
    },
    {
     "name": "stdout",
     "output_type": "stream",
     "text": [
      "Starting experimental run with id: 28. \n"
     ]
    }
   ],
   "source": [
    "sizes = [1,500,1000,2000,3000,4000,5000]\n",
    "nreps = 100\n",
    "t_numeric = []\n",
    "t_numeric_add = []\n",
    "t_numeric_run_ids = []\n",
    "t_array = []\n",
    "t_array_add = []\n",
    "t_array_run_ids = []\n",
    "for size in sizes:\n",
    "    tn, tna, run_id_n =  insert_data('numeric', size, nreps=nreps)\n",
    "    t_numeric.append(tn)\n",
    "    t_numeric_add.append(tna)\n",
    "    t_numeric_run_ids.append(run_id_n)\n",
    "\n",
    "    ta, taa, run_id_a =  insert_data('array', size, nreps=nreps)\n",
    "    t_array.append(ta)\n",
    "    t_array_add.append(taa)\n",
    "    t_array_run_ids.append(run_id_a)"
   ]
  },
  {
   "cell_type": "code",
   "execution_count": 8,
   "metadata": {
    "execution": {
     "iopub.execute_input": "2021-03-24T09:06:05.976407Z",
     "iopub.status.busy": "2021-03-24T09:06:05.971115Z",
     "iopub.status.idle": "2021-03-24T09:06:06.205349Z",
     "shell.execute_reply": "2021-03-24T09:06:06.204819Z"
    },
    "scrolled": true
   },
   "outputs": [
    {
     "data": {
      "image/png": "[encoded data removed]",
      "text/plain": [
       "<Figure size 432x288 with 1 Axes>"
      ]
     },
     "metadata": {
      "needs_background": "light"
     },
     "output_type": "display_data"
    }
   ],
   "source": [
    "fig, ax = plt.subplots(1,1)\n",
    "ax.plot(sizes, t_numeric, 'o-', label='Inserting row-by-row')\n",
    "ax.plot(sizes, t_numeric_add, 'o-', label='Inserting row-by-row: add_result only')\n",
    "ax.plot(sizes, t_array, 'd-', label='Inserting as binary blob')\n",
    "ax.plot(sizes, t_array_add, 'd-', label='Inserting as binary blob: add_result only')\n",
    "ax.legend()\n",
    "ax.set_xlabel('Array length')\n",
    "ax.set_ylabel('Time (s)')\n",
    "fig.tight_layout()"
   ]
  },
  {
   "cell_type": "markdown",
   "metadata": {},
   "source": [
    "However, as we increase the length of the experiment, as seen here by repeating the insertion 100 times, we see a big difference between inserting values of the data row-by-row and inserting it as a binary blob."
   ]
  },
  {
   "cell_type": "markdown",
   "metadata": {},
   "source": [
    "## Loading the data "
   ]
  },
  {
   "cell_type": "code",
   "execution_count": 9,
   "metadata": {
    "execution": {
     "iopub.execute_input": "2021-03-24T09:06:06.211660Z",
     "iopub.status.busy": "2021-03-24T09:06:06.208667Z",
     "iopub.status.idle": "2021-03-24T09:06:06.212403Z",
     "shell.execute_reply": "2021-03-24T09:06:06.212847Z"
    }
   },
   "outputs": [],
   "source": [
    "from qcodes.dataset.data_set import load_by_id\n",
    "from qcodes.dataset.data_export import get_data_by_id"
   ]
  },
  {
   "cell_type": "markdown",
   "metadata": {},
   "source": [
    "As usual you can load the data by using the ``load_by_id`` function but you will notice that the different storage methods\n",
    "are reflected in shape of the data as it is retrieved. "
   ]
  },
  {
   "cell_type": "code",
   "execution_count": 10,
   "metadata": {
    "execution": {
     "iopub.execute_input": "2021-03-24T09:06:06.217596Z",
     "iopub.status.busy": "2021-03-24T09:06:06.216264Z",
     "iopub.status.idle": "2021-03-24T09:06:06.218288Z",
     "shell.execute_reply": "2021-03-24T09:06:06.218995Z"
    }
   },
   "outputs": [],
   "source": [
    "run_id_n = t_numeric_run_ids[0]\n",
    "run_id_a = t_array_run_ids[0]"
   ]
  },
  {
   "cell_type": "code",
   "execution_count": 11,
   "metadata": {
    "execution": {
     "iopub.execute_input": "2021-03-24T09:06:06.222253Z",
     "iopub.status.busy": "2021-03-24T09:06:06.221577Z",
     "iopub.status.idle": "2021-03-24T09:06:06.231743Z",
     "shell.execute_reply": "2021-03-24T09:06:06.232205Z"
    },
    "scrolled": true
   },
   "outputs": [
    {
     "data": {
      "text/plain": [
       "{'x1': {'x1': array([0.13048307, 0.13048307, 0.65639255, 0.65639255, 0.23118124,\n",
       "         0.23118124, 0.11195827, 0.11195827, 0.96832397, 0.96832397,\n",
       "         0.56056462, 0.56056462, 0.43819095, 0.43819095, 0.55395282,\n",
       "         0.55395282, 0.68357765, 0.68357765, 0.76556341, 0.76556341,\n",
       "         0.4899189 , 0.4899189 , 0.26159381, 0.26159381, 0.15725772,\n",
       "         0.15725772, 0.97556119, 0.97556119, 0.60991316, 0.60991316,\n",
       "         0.70015554, 0.70015554, 0.30904587, 0.30904587, 0.30819379,\n",
       "         0.30819379, 0.46573105, 0.46573105, 0.66131894, 0.66131894,\n",
       "         0.33857879, 0.33857879, 0.38844008, 0.38844008, 0.23300603,\n",
       "         0.23300603, 0.91412818, 0.91412818, 0.63457006, 0.63457006,\n",
       "         0.8747506 , 0.8747506 , 0.48143529, 0.48143529, 0.73705441,\n",
       "         0.73705441, 0.23841697, 0.23841697, 0.19588865, 0.19588865,\n",
       "         0.03527443, 0.03527443, 0.20356511, 0.20356511, 0.16987497,\n",
       "         0.16987497, 0.7180887 , 0.7180887 , 0.97381809, 0.97381809,\n",
       "         0.87687369, 0.87687369, 0.40137589, 0.40137589, 0.80353767,\n",
       "         0.80353767, 0.43883049, 0.43883049, 0.71168687, 0.71168687,\n",
       "         0.7626553 , 0.7626553 , 0.29386803, 0.29386803, 0.30297595,\n",
       "         0.30297595, 0.61078535, 0.61078535, 0.17682717, 0.17682717,\n",
       "         0.35452422, 0.35452422, 0.72490523, 0.72490523, 0.97918274,\n",
       "         0.97918274, 0.97786586, 0.97786586, 0.2279803 , 0.2279803 ,\n",
       "         0.56133462, 0.56133462, 0.26131738, 0.26131738, 0.35087781,\n",
       "         0.35087781, 0.03243273, 0.03243273, 0.6520303 , 0.6520303 ,\n",
       "         0.25201087, 0.25201087, 0.56753827, 0.56753827, 0.32514175,\n",
       "         0.32514175, 0.29003387, 0.29003387, 0.95989774, 0.95989774,\n",
       "         0.54201302, 0.54201302, 0.31435441, 0.31435441, 0.0216985 ,\n",
       "         0.0216985 , 0.78261045, 0.78261045, 0.04479889, 0.04479889,\n",
       "         0.15577744, 0.15577744, 0.25955372, 0.25955372, 0.73081436,\n",
       "         0.73081436, 0.99673574, 0.99673574, 0.7741654 , 0.7741654 ,\n",
       "         0.27732431, 0.27732431, 0.62973676, 0.62973676, 0.92348743,\n",
       "         0.92348743, 0.92974373, 0.92974373, 0.08450839, 0.08450839,\n",
       "         0.2285937 , 0.2285937 , 0.02663527, 0.02663527, 0.3715017 ,\n",
       "         0.3715017 , 0.48963322, 0.48963322, 0.16678609, 0.16678609,\n",
       "         0.17003129, 0.17003129, 0.40157798, 0.40157798, 0.55699351,\n",
       "         0.55699351, 0.19984958, 0.19984958, 0.91383542, 0.91383542,\n",
       "         0.26497607, 0.26497607, 0.05861918, 0.05861918, 0.09005685,\n",
       "         0.09005685, 0.80397119, 0.80397119, 0.75187854, 0.75187854,\n",
       "         0.80787971, 0.80787971, 0.98526059, 0.98526059, 0.66165912,\n",
       "         0.66165912, 0.88769548, 0.88769548, 0.57033115, 0.57033115,\n",
       "         0.11644268, 0.11644268, 0.53406703, 0.53406703, 0.18858521,\n",
       "         0.18858521, 0.44949525, 0.44949525, 0.61029617, 0.61029617])}}"
      ]
     },
     "execution_count": 1,
     "metadata": {},
     "output_type": "execute_result"
    }
   ],
   "source": [
    "ds = load_by_id(run_id_n)\n",
    "ds.get_parameter_data('x1')"
   ]
  },
  {
   "cell_type": "markdown",
   "metadata": {},
   "source": [
    "And a dataset stored as binary arrays"
   ]
  },
  {
   "cell_type": "code",
   "execution_count": 12,
   "metadata": {
    "execution": {
     "iopub.execute_input": "2021-03-24T09:06:06.235641Z",
     "iopub.status.busy": "2021-03-24T09:06:06.235136Z",
     "iopub.status.idle": "2021-03-24T09:06:06.293225Z",
     "shell.execute_reply": "2021-03-24T09:06:06.292732Z"
    },
    "scrolled": true
   },
   "outputs": [
    {
     "data": {
      "text/plain": [
       "{'x1': {'x1': array([[0.03020582],\n",
       "         [0.03020582],\n",
       "         [0.52233876],\n",
       "         [0.52233876],\n",
       "         [0.32172313],\n",
       "         [0.32172313],\n",
       "         [0.70574518],\n",
       "         [0.70574518],\n",
       "         [0.36306948],\n",
       "         [0.36306948],\n",
       "         [0.24310185],\n",
       "         [0.24310185],\n",
       "         [0.56854284],\n",
       "         [0.56854284],\n",
       "         [0.31288966],\n",
       "         [0.31288966],\n",
       "         [0.48912839],\n",
       "         [0.48912839],\n",
       "         [0.80967632],\n",
       "         [0.80967632],\n",
       "         [0.2702917 ],\n",
       "         [0.2702917 ],\n",
       "         [0.42204461],\n",
       "         [0.42204461],\n",
       "         [0.87776083],\n",
       "         [0.87776083],\n",
       "         [0.75540512],\n",
       "         [0.75540512],\n",
       "         [0.0559707 ],\n",
       "         [0.0559707 ],\n",
       "         [0.72870099],\n",
       "         [0.72870099],\n",
       "         [0.76494435],\n",
       "         [0.76494435],\n",
       "         [0.68490311],\n",
       "         [0.68490311],\n",
       "         [0.38374516],\n",
       "         [0.38374516],\n",
       "         [0.80518553],\n",
       "         [0.80518553],\n",
       "         [0.76605622],\n",
       "         [0.76605622],\n",
       "         [0.10060456],\n",
       "         [0.10060456],\n",
       "         [0.41057653],\n",
       "         [0.41057653],\n",
       "         [0.68018769],\n",
       "         [0.68018769],\n",
       "         [0.37625467],\n",
       "         [0.37625467],\n",
       "         [0.59895016],\n",
       "         [0.59895016],\n",
       "         [0.16659092],\n",
       "         [0.16659092],\n",
       "         [0.49502195],\n",
       "         [0.49502195],\n",
       "         [0.30418444],\n",
       "         [0.30418444],\n",
       "         [0.5677906 ],\n",
       "         [0.5677906 ],\n",
       "         [0.69902037],\n",
       "         [0.69902037],\n",
       "         [0.18080284],\n",
       "         [0.18080284],\n",
       "         [0.83597475],\n",
       "         [0.83597475],\n",
       "         [0.2061261 ],\n",
       "         [0.2061261 ],\n",
       "         [0.23367195],\n",
       "         [0.23367195],\n",
       "         [0.5926643 ],\n",
       "         [0.5926643 ],\n",
       "         [0.43873316],\n",
       "         [0.43873316],\n",
       "         [0.97952195],\n",
       "         [0.97952195],\n",
       "         [0.55082379],\n",
       "         [0.55082379],\n",
       "         [0.32774902],\n",
       "         [0.32774902],\n",
       "         [0.98843126],\n",
       "         [0.98843126],\n",
       "         [0.78227221],\n",
       "         [0.78227221],\n",
       "         [0.26375504],\n",
       "         [0.26375504],\n",
       "         [0.93350485],\n",
       "         [0.93350485],\n",
       "         [0.09105443],\n",
       "         [0.09105443],\n",
       "         [0.72673895],\n",
       "         [0.72673895],\n",
       "         [0.37837355],\n",
       "         [0.37837355],\n",
       "         [0.12203852],\n",
       "         [0.12203852],\n",
       "         [0.24374449],\n",
       "         [0.24374449],\n",
       "         [0.62805356],\n",
       "         [0.62805356],\n",
       "         [0.82123367],\n",
       "         [0.82123367],\n",
       "         [0.04551118],\n",
       "         [0.04551118],\n",
       "         [0.47677194],\n",
       "         [0.47677194],\n",
       "         [0.81164678],\n",
       "         [0.81164678],\n",
       "         [0.07551014],\n",
       "         [0.07551014],\n",
       "         [0.03016767],\n",
       "         [0.03016767],\n",
       "         [0.15132956],\n",
       "         [0.15132956],\n",
       "         [0.89340176],\n",
       "         [0.89340176],\n",
       "         [0.44779051],\n",
       "         [0.44779051],\n",
       "         [0.14152497],\n",
       "         [0.14152497],\n",
       "         [0.93998614],\n",
       "         [0.93998614],\n",
       "         [0.76171196],\n",
       "         [0.76171196],\n",
       "         [0.48085833],\n",
       "         [0.48085833],\n",
       "         [0.1017425 ],\n",
       "         [0.1017425 ],\n",
       "         [0.509091  ],\n",
       "         [0.509091  ],\n",
       "         [0.60377627],\n",
       "         [0.60377627],\n",
       "         [0.42189904],\n",
       "         [0.42189904],\n",
       "         [0.80052829],\n",
       "         [0.80052829],\n",
       "         [0.88881565],\n",
       "         [0.88881565],\n",
       "         [0.18587846],\n",
       "         [0.18587846],\n",
       "         [0.62347454],\n",
       "         [0.62347454],\n",
       "         [0.49482327],\n",
       "         [0.49482327],\n",
       "         [0.08106582],\n",
       "         [0.08106582],\n",
       "         [0.54375187],\n",
       "         [0.54375187],\n",
       "         [0.46414453],\n",
       "         [0.46414453],\n",
       "         [0.52539289],\n",
       "         [0.52539289],\n",
       "         [0.79216173],\n",
       "         [0.79216173],\n",
       "         [0.80808587],\n",
       "         [0.80808587],\n",
       "         [0.77262618],\n",
       "         [0.77262618],\n",
       "         [0.39854129],\n",
       "         [0.39854129],\n",
       "         [0.71375682],\n",
       "         [0.71375682],\n",
       "         [0.70889054],\n",
       "         [0.70889054],\n",
       "         [0.95123457],\n",
       "         [0.95123457],\n",
       "         [0.9598324 ],\n",
       "         [0.9598324 ],\n",
       "         [0.55772818],\n",
       "         [0.55772818],\n",
       "         [0.12577026],\n",
       "         [0.12577026],\n",
       "         [0.24099444],\n",
       "         [0.24099444],\n",
       "         [0.27475087],\n",
       "         [0.27475087],\n",
       "         [0.15872042],\n",
       "         [0.15872042],\n",
       "         [0.61252231],\n",
       "         [0.61252231],\n",
       "         [0.38676837],\n",
       "         [0.38676837],\n",
       "         [0.6221421 ],\n",
       "         [0.6221421 ],\n",
       "         [0.70268643],\n",
       "         [0.70268643],\n",
       "         [0.17991697],\n",
       "         [0.17991697],\n",
       "         [0.3074695 ],\n",
       "         [0.3074695 ],\n",
       "         [0.01080108],\n",
       "         [0.01080108],\n",
       "         [0.51349397],\n",
       "         [0.51349397],\n",
       "         [0.89125716],\n",
       "         [0.89125716],\n",
       "         [0.25396656],\n",
       "         [0.25396656],\n",
       "         [0.00604341],\n",
       "         [0.00604341]])}}"
      ]
     },
     "execution_count": 1,
     "metadata": {},
     "output_type": "execute_result"
    }
   ],
   "source": [
    "ds = load_by_id(run_id_a)\n",
    "ds.get_parameter_data('x1')"
   ]
  },
  {
   "cell_type": "code",
   "execution_count": null,
   "metadata": {},
   "outputs": [],
   "source": []
  }
 ],
 "metadata": {
  "kernelspec": {
   "display_name": "Python 3",
   "language": "python",
   "name": "python3"
  },
  "language_info": {
   "codemirror_mode": {
    "name": "ipython",
    "version": 3
   },
   "file_extension": ".py",
   "mimetype": "text/x-python",
   "name": "python",
   "nbconvert_exporter": "python",
   "pygments_lexer": "ipython3",
   "version": "3.7.10"
  },
  "nbsphinx": {
   "timeout": 600
  },
  "toc": {
   "base_numbering": 1,
   "nav_menu": {},
   "number_sections": true,
   "sideBar": true,
   "skip_h1_title": false,
   "title_cell": "Table of Contents",
   "title_sidebar": "Contents",
   "toc_cell": false,
   "toc_position": {},
   "toc_section_display": true,
   "toc_window_display": false
  },
  "varInspector": {
   "cols": {
    "lenName": 16,
    "lenType": 16,
    "lenVar": 40
   },
   "kernels_config": {
    "python": {
     "delete_cmd_postfix": "",
     "delete_cmd_prefix": "del ",
     "library": "var_list.py",
     "varRefreshCmd": "print(var_dic_list())"
    },
    "r": {
     "delete_cmd_postfix": ") ",
     "delete_cmd_prefix": "rm(",
     "library": "var_list.r",
     "varRefreshCmd": "cat(var_dic_list()) "
    }
   },
   "types_to_exclude": [
    "module",
    "function",
    "builtin_function_or_method",
    "instance",
    "_Feature"
   ],
   "window_display": false
  }
 },
 "nbformat": 4,
 "nbformat_minor": 2
}
