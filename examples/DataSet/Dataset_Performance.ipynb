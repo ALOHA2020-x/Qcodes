{
 "cells": [
  {
   "cell_type": "markdown",
   "metadata": {},
   "source": [
    "# DataSet Performance\n",
    "\n",
    "This notebook shows the trade-off between inserting data into a database row-by-row and as binary blobs. Inserting the data row-by-row means that we have direct access to all the data and may perform queries directly on the values of the data. On the other hand, as we shall see, this is much slower than inserting the data directly as binary blobs."
   ]
  },
  {
   "cell_type": "markdown",
   "metadata": {},
   "source": [
    "First, we choose a new location for the database to ensure that we don't add a bunch of benchmarking data to the default one."
   ]
  },
  {
   "cell_type": "code",
   "execution_count": 1,
   "metadata": {
    "execution": {
     "iopub.execute_input": "2020-09-30T07:57:28.349483Z",
     "iopub.status.busy": "2020-09-30T07:57:28.348726Z",
     "iopub.status.idle": "2020-09-30T07:57:29.349910Z",
     "shell.execute_reply": "2020-09-30T07:57:29.348774Z"
    }
   },
   "outputs": [
    {
     "name": "stdout",
     "output_type": "stream",
     "text": [
      "Logging hadn't been started.\n",
      "Activating auto-logging. Current session state plus future input saved.\n",
      "Filename       : /home/vsts/.qcodes/logs/command_history.log\n",
      "Mode           : append\n",
      "Output logging : True\n",
      "Raw input log  : False\n",
      "Timestamping   : True\n",
      "State          : active\n"
     ]
    },
    {
     "name": "stdout",
     "output_type": "stream",
     "text": [
      "Qcodes Logfile : /home/vsts/.qcodes/logs/200930-19505-qcodes.log\n"
     ]
    }
   ],
   "source": [
    "import os\n",
    "cwd = os.getcwd()\n",
    "import qcodes as qc\n",
    "qc.config[\"core\"][\"db_location\"] = os.path.join(cwd, 'testing.db')\n"
   ]
  },
  {
   "cell_type": "code",
   "execution_count": 2,
   "metadata": {
    "execution": {
     "iopub.execute_input": "2020-09-30T07:57:29.356561Z",
     "iopub.status.busy": "2020-09-30T07:57:29.355488Z",
     "iopub.status.idle": "2020-09-30T07:57:29.546798Z",
     "shell.execute_reply": "2020-09-30T07:57:29.545779Z"
    }
   },
   "outputs": [],
   "source": [
    "%matplotlib inline\n",
    "import time\n",
    "import matplotlib.pyplot as plt\n",
    "import numpy as np\n",
    "\n",
    "import qcodes as qc\n",
    "from qcodes.instrument.parameter import ManualParameter\n",
    "from qcodes.dataset.experiment_container import (Experiment,\n",
    "                                                 load_last_experiment,\n",
    "                                                 new_experiment)\n",
    "from qcodes.dataset.sqlite.database import initialise_database\n",
    "from qcodes import load_or_create_experiment\n",
    "from qcodes.dataset.measurements import Measurement"
   ]
  },
  {
   "cell_type": "code",
   "execution_count": 3,
   "metadata": {
    "execution": {
     "iopub.execute_input": "2020-09-30T07:57:29.550603Z",
     "iopub.status.busy": "2020-09-30T07:57:29.549921Z",
     "iopub.status.idle": "2020-09-30T07:57:29.683024Z",
     "shell.execute_reply": "2020-09-30T07:57:29.682575Z"
    }
   },
   "outputs": [
    {
     "name": "stdout",
     "output_type": "stream",
     "text": [
      "\r",
      "0it [00:00, ?it/s]"
     ]
    },
    {
     "name": "stdout",
     "output_type": "stream",
     "text": [
      "\r",
      "Upgrading database; v0 -> v1: : 0it [00:00, ?it/s]"
     ]
    },
    {
     "name": "stdout",
     "output_type": "stream",
     "text": [
      "\r",
      "Upgrading database; v0 -> v1: : 0it [00:00, ?it/s]"
     ]
    },
    {
     "name": "stdout",
     "output_type": "stream",
     "text": [
      "\n",
      "\r",
      "  0%|          | 0/1 [00:00<?, ?it/s]"
     ]
    },
    {
     "name": "stdout",
     "output_type": "stream",
     "text": [
      "\r",
      "Upgrading database; v1 -> v2:   0%|          | 0/1 [00:00<?, ?it/s]"
     ]
    },
    {
     "name": "stdout",
     "output_type": "stream",
     "text": [
      "\r",
      "Upgrading database; v1 -> v2: 100%|██████████| 1/1 [00:00<00:00, 436.18it/s]"
     ]
    },
    {
     "name": "stdout",
     "output_type": "stream",
     "text": [
      "\n",
      "\r",
      "0it [00:00, ?it/s]"
     ]
    },
    {
     "name": "stdout",
     "output_type": "stream",
     "text": [
      "\r",
      "Upgrading database; v2 -> v3: : 0it [00:00, ?it/s]"
     ]
    },
    {
     "name": "stdout",
     "output_type": "stream",
     "text": [
      "\r",
      "Upgrading database; v2 -> v3: : 0it [00:00, ?it/s]"
     ]
    },
    {
     "name": "stdout",
     "output_type": "stream",
     "text": [
      "\n",
      "\r",
      "0it [00:00, ?it/s]"
     ]
    },
    {
     "name": "stdout",
     "output_type": "stream",
     "text": [
      "\r",
      "Upgrading database; v3 -> v4: : 0it [00:00, ?it/s]"
     ]
    },
    {
     "name": "stdout",
     "output_type": "stream",
     "text": [
      "\r",
      "Upgrading database; v3 -> v4: : 0it [00:00, ?it/s]"
     ]
    },
    {
     "name": "stdout",
     "output_type": "stream",
     "text": [
      "\n",
      "\r",
      "  0%|          | 0/1 [00:00<?, ?it/s]"
     ]
    },
    {
     "name": "stdout",
     "output_type": "stream",
     "text": [
      "\r",
      "Upgrading database; v4 -> v5:   0%|          | 0/1 [00:00<?, ?it/s]"
     ]
    },
    {
     "name": "stdout",
     "output_type": "stream",
     "text": [
      "\r",
      "Upgrading database; v4 -> v5: 100%|██████████| 1/1 [00:00<00:00, 501.89it/s]"
     ]
    },
    {
     "name": "stdout",
     "output_type": "stream",
     "text": [
      "\n",
      "\r",
      "0it [00:00, ?it/s]"
     ]
    },
    {
     "name": "stdout",
     "output_type": "stream",
     "text": [
      "\r",
      "Upgrading database; v5 -> v6: : 0it [00:00, ?it/s]"
     ]
    },
    {
     "name": "stdout",
     "output_type": "stream",
     "text": [
      "\r",
      "Upgrading database; v5 -> v6: : 0it [00:00, ?it/s]"
     ]
    },
    {
     "name": "stdout",
     "output_type": "stream",
     "text": [
      "\n",
      "\r",
      "  0%|          | 0/1 [00:00<?, ?it/s]"
     ]
    },
    {
     "name": "stdout",
     "output_type": "stream",
     "text": [
      "\r",
      "Upgrading database; v6 -> v7:   0%|          | 0/1 [00:00<?, ?it/s]"
     ]
    },
    {
     "name": "stdout",
     "output_type": "stream",
     "text": [
      "\r",
      "Upgrading database; v6 -> v7: 100%|██████████| 1/1 [00:00<00:00, 201.76it/s]"
     ]
    },
    {
     "name": "stdout",
     "output_type": "stream",
     "text": [
      "\n",
      "\r",
      "  0%|          | 0/1 [00:00<?, ?it/s]"
     ]
    },
    {
     "name": "stdout",
     "output_type": "stream",
     "text": [
      "\r",
      "Upgrading database; v7 -> v8:   0%|          | 0/1 [00:00<?, ?it/s]"
     ]
    },
    {
     "name": "stdout",
     "output_type": "stream",
     "text": [
      "\r",
      "Upgrading database; v7 -> v8: 100%|██████████| 1/1 [00:00<00:00, 798.61it/s]"
     ]
    },
    {
     "name": "stdout",
     "output_type": "stream",
     "text": [
      "\n",
      "\r",
      "  0%|          | 0/1 [00:00<?, ?it/s]"
     ]
    },
    {
     "name": "stdout",
     "output_type": "stream",
     "text": [
      "\r",
      "Upgrading database; v8 -> v9:   0%|          | 0/1 [00:00<?, ?it/s]"
     ]
    },
    {
     "name": "stdout",
     "output_type": "stream",
     "text": [
      "\r",
      "Upgrading database; v8 -> v9: 100%|██████████| 1/1 [00:00<00:00, 401.22it/s]"
     ]
    },
    {
     "name": "stdout",
     "output_type": "stream",
     "text": [
      "\n"
     ]
    }
   ],
   "source": [
    "initialise_database()\n",
    "exp = load_or_create_experiment(experiment_name='tutorial_exp', sample_name=\"no sample\")"
   ]
  },
  {
   "cell_type": "markdown",
   "metadata": {},
   "source": [
    "Here, we define a simple function to benchmark the time it takes to insert n points with either numeric or array data type.\n",
    "We will compare both the time used to call ``add_result`` and the time used for the full measurement."
   ]
  },
  {
   "cell_type": "code",
   "execution_count": 4,
   "metadata": {
    "execution": {
     "iopub.execute_input": "2020-09-30T07:57:29.691926Z",
     "iopub.status.busy": "2020-09-30T07:57:29.691362Z",
     "iopub.status.idle": "2020-09-30T07:57:29.695326Z",
     "shell.execute_reply": "2020-09-30T07:57:29.694600Z"
    }
   },
   "outputs": [],
   "source": [
    "def insert_data(paramtype, npoints, nreps=1):\n",
    "\n",
    "    meas = Measurement(exp=exp)\n",
    "\n",
    "    x1 = ManualParameter('x1')\n",
    "    x2 = ManualParameter('x2')\n",
    "    x3 = ManualParameter('x3')\n",
    "    y1 = ManualParameter('y1')\n",
    "    y2 = ManualParameter('y2')\n",
    "\n",
    "    meas.register_parameter(x1, paramtype=paramtype)\n",
    "    meas.register_parameter(x2, paramtype=paramtype)\n",
    "    meas.register_parameter(x3, paramtype=paramtype)\n",
    "    meas.register_parameter(y1, setpoints=[x1, x2, x3],\n",
    "                            paramtype=paramtype)\n",
    "    meas.register_parameter(y2, setpoints=[x1, x2, x3],\n",
    "                            paramtype=paramtype)\n",
    "    start = time.perf_counter()\n",
    "    with meas.run() as datasaver:\n",
    "        start_adding = time.perf_counter()\n",
    "        for i in range(nreps):\n",
    "            datasaver.add_result((x1, np.random.rand(npoints)),\n",
    "                                 (x2, np.random.rand(npoints)),\n",
    "                                 (x3, np.random.rand(npoints)),\n",
    "                                 (y1, np.random.rand(npoints)),\n",
    "                                 (y2, np.random.rand(npoints)))\n",
    "        stop_adding = time.perf_counter()\n",
    "        run_id = datasaver.run_id\n",
    "    stop = time.perf_counter()\n",
    "    tot_time = stop - start\n",
    "    add_time = stop_adding - start_adding\n",
    "    return tot_time, add_time, run_id"
   ]
  },
  {
   "cell_type": "markdown",
   "metadata": {},
   "source": [
    "## Comparison between numeric/array data and binary blob"
   ]
  },
  {
   "cell_type": "markdown",
   "metadata": {},
   "source": [
    "### Case1: Short experiment time"
   ]
  },
  {
   "cell_type": "code",
   "execution_count": 5,
   "metadata": {
    "execution": {
     "iopub.execute_input": "2020-09-30T07:57:29.701175Z",
     "iopub.status.busy": "2020-09-30T07:57:29.700019Z",
     "iopub.status.idle": "2020-09-30T07:57:30.519862Z",
     "shell.execute_reply": "2020-09-30T07:57:30.520329Z"
    }
   },
   "outputs": [
    {
     "name": "stdout",
     "output_type": "stream",
     "text": [
      "Starting experimental run with id: 1. \n",
      "Starting experimental run with id: 2. \n",
      "Starting experimental run with id: 3. \n",
      "Starting experimental run with id: 4. \n"
     ]
    },
    {
     "name": "stdout",
     "output_type": "stream",
     "text": [
      "Starting experimental run with id: 5. \n"
     ]
    },
    {
     "name": "stdout",
     "output_type": "stream",
     "text": [
      "Starting experimental run with id: 6. \n"
     ]
    },
    {
     "name": "stdout",
     "output_type": "stream",
     "text": [
      "Starting experimental run with id: 7. "
     ]
    },
    {
     "name": "stdout",
     "output_type": "stream",
     "text": [
      "\n"
     ]
    },
    {
     "name": "stdout",
     "output_type": "stream",
     "text": [
      "Starting experimental run with id: 8. \n",
      "Starting experimental run with id: 9. \n"
     ]
    },
    {
     "name": "stdout",
     "output_type": "stream",
     "text": [
      "Starting experimental run with id: 10. \n",
      "Starting experimental run with id: 11. \n"
     ]
    },
    {
     "name": "stdout",
     "output_type": "stream",
     "text": [
      "Starting experimental run with id: 12. \n",
      "Starting experimental run with id: 13. \n"
     ]
    },
    {
     "name": "stdout",
     "output_type": "stream",
     "text": [
      "Starting experimental run with id: 14. \n"
     ]
    }
   ],
   "source": [
    "sizes = [1,500,1000,2000,3000,4000,5000]\n",
    "t_numeric = []\n",
    "t_numeric_add = []\n",
    "t_array = []\n",
    "t_array_add = []\n",
    "for size in sizes:\n",
    "    tn, tna, run_id_n =  insert_data('numeric', size)\n",
    "    t_numeric.append(tn)\n",
    "    t_numeric_add.append(tna)\n",
    "\n",
    "    ta, taa, run_id_a =  insert_data('array', size)\n",
    "    t_array.append(ta)\n",
    "    t_array_add.append(taa)"
   ]
  },
  {
   "cell_type": "code",
   "execution_count": 6,
   "metadata": {
    "execution": {
     "iopub.execute_input": "2020-09-30T07:57:30.537724Z",
     "iopub.status.busy": "2020-09-30T07:57:30.526545Z",
     "iopub.status.idle": "2020-09-30T07:57:30.715108Z",
     "shell.execute_reply": "2020-09-30T07:57:30.714632Z"
    }
   },
   "outputs": [
    {
     "data": {
      "image/png": "[encoded data removed]",
      "text/plain": [
       "<Figure size 432x288 with 1 Axes>"
      ]
     },
     "metadata": {
      "needs_background": "light"
     },
     "output_type": "display_data"
    }
   ],
   "source": [
    "fig, ax = plt.subplots(1,1)\n",
    "ax.plot(sizes, t_numeric, 'o-', label='Inserting row-by-row')\n",
    "ax.plot(sizes, t_numeric_add, 'o-', label='Inserting row-by-row: add_result only')\n",
    "ax.plot(sizes, t_array, 'd-', label='Inserting as binary blob')\n",
    "ax.plot(sizes, t_array_add, 'd-', label='Inserting as binary blob: add_result only')\n",
    "ax.legend()\n",
    "ax.set_xlabel('Array length')\n",
    "ax.set_ylabel('Time (s)')\n",
    "fig.tight_layout()"
   ]
  },
  {
   "cell_type": "markdown",
   "metadata": {},
   "source": [
    "As shown in the latter figure, the time to setup and and close the experiment is approximately 0.4 sec. In case of small array sizes, the difference between inserting values of data as arrays and inserting them row-by-row is relatively unimportant. At larger array sizes, i.e. above 10000 points, the cost of writing data as individual datapoints starts to become important.\n"
   ]
  },
  {
   "cell_type": "markdown",
   "metadata": {},
   "source": [
    "### Case2: Long experiment time "
   ]
  },
  {
   "cell_type": "code",
   "execution_count": 7,
   "metadata": {
    "execution": {
     "iopub.execute_input": "2020-09-30T07:57:30.722651Z",
     "iopub.status.busy": "2020-09-30T07:57:30.721919Z",
     "iopub.status.idle": "2020-09-30T07:58:26.565994Z",
     "shell.execute_reply": "2020-09-30T07:58:26.566489Z"
    }
   },
   "outputs": [
    {
     "name": "stdout",
     "output_type": "stream",
     "text": [
      "Starting experimental run with id: 15. \n",
      "Starting experimental run with id: 16. \n",
      "Starting experimental run with id: 17. \n"
     ]
    },
    {
     "name": "stdout",
     "output_type": "stream",
     "text": [
      "Starting experimental run with id: 18. \n",
      "Starting experimental run with id: 19. \n"
     ]
    },
    {
     "name": "stdout",
     "output_type": "stream",
     "text": [
      "Starting experimental run with id: 20. \n"
     ]
    },
    {
     "name": "stdout",
     "output_type": "stream",
     "text": [
      "Starting experimental run with id: 21. \n"
     ]
    },
    {
     "name": "stdout",
     "output_type": "stream",
     "text": [
      "Starting experimental run with id: 22. \n"
     ]
    },
    {
     "name": "stdout",
     "output_type": "stream",
     "text": [
      "Starting experimental run with id: 23. \n"
     ]
    },
    {
     "name": "stdout",
     "output_type": "stream",
     "text": [
      "Starting experimental run with id: 24. \n"
     ]
    },
    {
     "name": "stdout",
     "output_type": "stream",
     "text": [
      "Starting experimental run with id: 25. \n"
     ]
    },
    {
     "name": "stdout",
     "output_type": "stream",
     "text": [
      "Starting experimental run with id: 26. \n"
     ]
    },
    {
     "name": "stdout",
     "output_type": "stream",
     "text": [
      "Starting experimental run with id: 27. \n"
     ]
    },
    {
     "name": "stdout",
     "output_type": "stream",
     "text": [
      "Starting experimental run with id: 28. \n"
     ]
    }
   ],
   "source": [
    "sizes = [1,500,1000,2000,3000,4000,5000]\n",
    "nreps = 100\n",
    "t_numeric = []\n",
    "t_numeric_add = []\n",
    "t_numeric_run_ids = []\n",
    "t_array = []\n",
    "t_array_add = []\n",
    "t_array_run_ids = []\n",
    "for size in sizes:\n",
    "    tn, tna, run_id_n =  insert_data('numeric', size, nreps=nreps)\n",
    "    t_numeric.append(tn)\n",
    "    t_numeric_add.append(tna)\n",
    "    t_numeric_run_ids.append(run_id_n)\n",
    "\n",
    "    ta, taa, run_id_a =  insert_data('array', size, nreps=nreps)\n",
    "    t_array.append(ta)\n",
    "    t_array_add.append(taa)\n",
    "    t_array_run_ids.append(run_id_a)"
   ]
  },
  {
   "cell_type": "code",
   "execution_count": 8,
   "metadata": {
    "execution": {
     "iopub.execute_input": "2020-09-30T07:58:26.583786Z",
     "iopub.status.busy": "2020-09-30T07:58:26.576675Z",
     "iopub.status.idle": "2020-09-30T07:58:26.763534Z",
     "shell.execute_reply": "2020-09-30T07:58:26.763016Z"
    },
    "scrolled": true
   },
   "outputs": [
    {
     "data": {
      "image/png": "[encoded data removed]",
      "text/plain": [
       "<Figure size 432x288 with 1 Axes>"
      ]
     },
     "metadata": {
      "needs_background": "light"
     },
     "output_type": "display_data"
    }
   ],
   "source": [
    "fig, ax = plt.subplots(1,1)\n",
    "ax.plot(sizes, t_numeric, 'o-', label='Inserting row-by-row')\n",
    "ax.plot(sizes, t_numeric_add, 'o-', label='Inserting row-by-row: add_result only')\n",
    "ax.plot(sizes, t_array, 'd-', label='Inserting as binary blob')\n",
    "ax.plot(sizes, t_array_add, 'd-', label='Inserting as binary blob: add_result only')\n",
    "ax.legend()\n",
    "ax.set_xlabel('Array length')\n",
    "ax.set_ylabel('Time (s)')\n",
    "fig.tight_layout()"
   ]
  },
  {
   "cell_type": "markdown",
   "metadata": {},
   "source": [
    "However, as we increase the length of the experiment, as seen here by repeating the insertion 100 times, we see a big difference between inserting values of the data row-by-row and inserting it as a binary blob."
   ]
  },
  {
   "cell_type": "markdown",
   "metadata": {},
   "source": [
    "## Loading the data "
   ]
  },
  {
   "cell_type": "code",
   "execution_count": 9,
   "metadata": {
    "execution": {
     "iopub.execute_input": "2020-09-30T07:58:26.767659Z",
     "iopub.status.busy": "2020-09-30T07:58:26.767115Z",
     "iopub.status.idle": "2020-09-30T07:58:26.770732Z",
     "shell.execute_reply": "2020-09-30T07:58:26.770299Z"
    }
   },
   "outputs": [],
   "source": [
    "from qcodes.dataset.data_set import load_by_id\n",
    "from qcodes.dataset.data_export import get_data_by_id"
   ]
  },
  {
   "cell_type": "markdown",
   "metadata": {},
   "source": [
    "As usual you can load the data by using the ``load_by_id`` function but you will notice that the different storage methods\n",
    "are reflected in shape of the data as it is retrieved. "
   ]
  },
  {
   "cell_type": "code",
   "execution_count": 10,
   "metadata": {
    "execution": {
     "iopub.execute_input": "2020-09-30T07:58:26.775003Z",
     "iopub.status.busy": "2020-09-30T07:58:26.774015Z",
     "iopub.status.idle": "2020-09-30T07:58:26.775731Z",
     "shell.execute_reply": "2020-09-30T07:58:26.776191Z"
    }
   },
   "outputs": [],
   "source": [
    "run_id_n = t_numeric_run_ids[0]\n",
    "run_id_a = t_array_run_ids[0]"
   ]
  },
  {
   "cell_type": "code",
   "execution_count": 11,
   "metadata": {
    "execution": {
     "iopub.execute_input": "2020-09-30T07:58:26.779588Z",
     "iopub.status.busy": "2020-09-30T07:58:26.779033Z",
     "iopub.status.idle": "2020-09-30T07:58:26.788151Z",
     "shell.execute_reply": "2020-09-30T07:58:26.787709Z"
    },
    "scrolled": true
   },
   "outputs": [
    {
     "data": {
      "text/plain": [
       "{'x1': {'x1': array([0.13851002, 0.13851002, 0.06822357, 0.06822357, 0.76136095,\n",
       "         0.76136095, 0.76074642, 0.76074642, 0.5584377 , 0.5584377 ,\n",
       "         0.93272542, 0.93272542, 0.04949367, 0.04949367, 0.52336702,\n",
       "         0.52336702, 0.24719466, 0.24719466, 0.64622951, 0.64622951,\n",
       "         0.59719703, 0.59719703, 0.63842999, 0.63842999, 0.57404303,\n",
       "         0.57404303, 0.64540475, 0.64540475, 0.82513089, 0.82513089,\n",
       "         0.22186423, 0.22186423, 0.63672297, 0.63672297, 0.53787269,\n",
       "         0.53787269, 0.67505413, 0.67505413, 0.83591821, 0.83591821,\n",
       "         0.30582123, 0.30582123, 0.51130049, 0.51130049, 0.81108052,\n",
       "         0.81108052, 0.21565037, 0.21565037, 0.40808944, 0.40808944,\n",
       "         0.49277253, 0.49277253, 0.31844269, 0.31844269, 0.78152036,\n",
       "         0.78152036, 0.07889457, 0.07889457, 0.94227818, 0.94227818,\n",
       "         0.39875319, 0.39875319, 0.03630104, 0.03630104, 0.19059319,\n",
       "         0.19059319, 0.11671711, 0.11671711, 0.23758757, 0.23758757,\n",
       "         0.61344261, 0.61344261, 0.4932134 , 0.4932134 , 0.76544817,\n",
       "         0.76544817, 0.34324199, 0.34324199, 0.50493341, 0.50493341,\n",
       "         0.35790595, 0.35790595, 0.86634954, 0.86634954, 0.92239466,\n",
       "         0.92239466, 0.63372751, 0.63372751, 0.55007867, 0.55007867,\n",
       "         0.68129158, 0.68129158, 0.51318748, 0.51318748, 0.05578   ,\n",
       "         0.05578   , 0.91234606, 0.91234606, 0.25214438, 0.25214438,\n",
       "         0.76934379, 0.76934379, 0.73926776, 0.73926776, 0.11158805,\n",
       "         0.11158805, 0.34888455, 0.34888455, 0.35945356, 0.35945356,\n",
       "         0.96707713, 0.96707713, 0.78287933, 0.78287933, 0.32466204,\n",
       "         0.32466204, 0.9606332 , 0.9606332 , 0.95777296, 0.95777296,\n",
       "         0.77236355, 0.77236355, 0.55941377, 0.55941377, 0.61781658,\n",
       "         0.61781658, 0.81040389, 0.81040389, 0.48770007, 0.48770007,\n",
       "         0.46542857, 0.46542857, 0.19870804, 0.19870804, 0.57587261,\n",
       "         0.57587261, 0.58031501, 0.58031501, 0.07806269, 0.07806269,\n",
       "         0.38437732, 0.38437732, 0.68628635, 0.68628635, 0.64743799,\n",
       "         0.64743799, 0.5048031 , 0.5048031 , 0.05894999, 0.05894999,\n",
       "         0.94418964, 0.94418964, 0.75793156, 0.75793156, 0.3421357 ,\n",
       "         0.3421357 , 0.44435286, 0.44435286, 0.20607472, 0.20607472,\n",
       "         0.580139  , 0.580139  , 0.18079632, 0.18079632, 0.9730903 ,\n",
       "         0.9730903 , 0.33180357, 0.33180357, 0.12502065, 0.12502065,\n",
       "         0.40673968, 0.40673968, 0.39448008, 0.39448008, 0.37592252,\n",
       "         0.37592252, 0.01172812, 0.01172812, 0.15984379, 0.15984379,\n",
       "         0.73362427, 0.73362427, 0.46408342, 0.46408342, 0.25059455,\n",
       "         0.25059455, 0.05928967, 0.05928967, 0.03262412, 0.03262412,\n",
       "         0.48719603, 0.48719603, 0.39837484, 0.39837484, 0.16241452,\n",
       "         0.16241452, 0.77571791, 0.77571791, 0.7854472 , 0.7854472 ])}}"
      ]
     },
     "execution_count": 1,
     "metadata": {},
     "output_type": "execute_result"
    }
   ],
   "source": [
    "ds = load_by_id(run_id_n)\n",
    "ds.get_parameter_data('x1')"
   ]
  },
  {
   "cell_type": "markdown",
   "metadata": {},
   "source": [
    "And a dataset stored as binary arrays"
   ]
  },
  {
   "cell_type": "code",
   "execution_count": 12,
   "metadata": {
    "execution": {
     "iopub.execute_input": "2020-09-30T07:58:26.791262Z",
     "iopub.status.busy": "2020-09-30T07:58:26.790717Z",
     "iopub.status.idle": "2020-09-30T07:58:26.849397Z",
     "shell.execute_reply": "2020-09-30T07:58:26.849944Z"
    },
    "scrolled": true
   },
   "outputs": [
    {
     "data": {
      "text/plain": [
       "{'x1': {'x1': array([[0.11091224],\n",
       "         [0.11091224],\n",
       "         [0.02361081],\n",
       "         [0.02361081],\n",
       "         [0.32357699],\n",
       "         [0.32357699],\n",
       "         [0.42386092],\n",
       "         [0.42386092],\n",
       "         [0.7151571 ],\n",
       "         [0.7151571 ],\n",
       "         [0.30201852],\n",
       "         [0.30201852],\n",
       "         [0.09885455],\n",
       "         [0.09885455],\n",
       "         [0.99616127],\n",
       "         [0.99616127],\n",
       "         [0.57630534],\n",
       "         [0.57630534],\n",
       "         [0.23373822],\n",
       "         [0.23373822],\n",
       "         [0.31707821],\n",
       "         [0.31707821],\n",
       "         [0.87191421],\n",
       "         [0.87191421],\n",
       "         [0.93797369],\n",
       "         [0.93797369],\n",
       "         [0.67195784],\n",
       "         [0.67195784],\n",
       "         [0.74145759],\n",
       "         [0.74145759],\n",
       "         [0.75164134],\n",
       "         [0.75164134],\n",
       "         [0.3629093 ],\n",
       "         [0.3629093 ],\n",
       "         [0.88680772],\n",
       "         [0.88680772],\n",
       "         [0.87633176],\n",
       "         [0.87633176],\n",
       "         [0.48284659],\n",
       "         [0.48284659],\n",
       "         [0.95394632],\n",
       "         [0.95394632],\n",
       "         [0.0046319 ],\n",
       "         [0.0046319 ],\n",
       "         [0.58379769],\n",
       "         [0.58379769],\n",
       "         [0.75807749],\n",
       "         [0.75807749],\n",
       "         [0.54963074],\n",
       "         [0.54963074],\n",
       "         [0.50487032],\n",
       "         [0.50487032],\n",
       "         [0.47375664],\n",
       "         [0.47375664],\n",
       "         [0.1836393 ],\n",
       "         [0.1836393 ],\n",
       "         [0.54696415],\n",
       "         [0.54696415],\n",
       "         [0.22472831],\n",
       "         [0.22472831],\n",
       "         [0.79045843],\n",
       "         [0.79045843],\n",
       "         [0.3514757 ],\n",
       "         [0.3514757 ],\n",
       "         [0.48569715],\n",
       "         [0.48569715],\n",
       "         [0.85494046],\n",
       "         [0.85494046],\n",
       "         [0.07676183],\n",
       "         [0.07676183],\n",
       "         [0.29712973],\n",
       "         [0.29712973],\n",
       "         [0.37855903],\n",
       "         [0.37855903],\n",
       "         [0.97755988],\n",
       "         [0.97755988],\n",
       "         [0.11103899],\n",
       "         [0.11103899],\n",
       "         [0.88595172],\n",
       "         [0.88595172],\n",
       "         [0.62786611],\n",
       "         [0.62786611],\n",
       "         [0.32895681],\n",
       "         [0.32895681],\n",
       "         [0.16937385],\n",
       "         [0.16937385],\n",
       "         [0.1891079 ],\n",
       "         [0.1891079 ],\n",
       "         [0.14149462],\n",
       "         [0.14149462],\n",
       "         [0.53565061],\n",
       "         [0.53565061],\n",
       "         [0.65027924],\n",
       "         [0.65027924],\n",
       "         [0.98072584],\n",
       "         [0.98072584],\n",
       "         [0.78759488],\n",
       "         [0.78759488],\n",
       "         [0.87158203],\n",
       "         [0.87158203],\n",
       "         [0.1706737 ],\n",
       "         [0.1706737 ],\n",
       "         [0.01324159],\n",
       "         [0.01324159],\n",
       "         [0.72721108],\n",
       "         [0.72721108],\n",
       "         [0.23436179],\n",
       "         [0.23436179],\n",
       "         [0.81716547],\n",
       "         [0.81716547],\n",
       "         [0.58826091],\n",
       "         [0.58826091],\n",
       "         [0.01181345],\n",
       "         [0.01181345],\n",
       "         [0.75567286],\n",
       "         [0.75567286],\n",
       "         [0.50055153],\n",
       "         [0.50055153],\n",
       "         [0.17827361],\n",
       "         [0.17827361],\n",
       "         [0.47937981],\n",
       "         [0.47937981],\n",
       "         [0.22635407],\n",
       "         [0.22635407],\n",
       "         [0.56120943],\n",
       "         [0.56120943],\n",
       "         [0.92280251],\n",
       "         [0.92280251],\n",
       "         [0.52713861],\n",
       "         [0.52713861],\n",
       "         [0.74120899],\n",
       "         [0.74120899],\n",
       "         [0.17491886],\n",
       "         [0.17491886],\n",
       "         [0.5202529 ],\n",
       "         [0.5202529 ],\n",
       "         [0.51213709],\n",
       "         [0.51213709],\n",
       "         [0.2907766 ],\n",
       "         [0.2907766 ],\n",
       "         [0.86049602],\n",
       "         [0.86049602],\n",
       "         [0.43183531],\n",
       "         [0.43183531],\n",
       "         [0.90063525],\n",
       "         [0.90063525],\n",
       "         [0.34541748],\n",
       "         [0.34541748],\n",
       "         [0.51563671],\n",
       "         [0.51563671],\n",
       "         [0.36805412],\n",
       "         [0.36805412],\n",
       "         [0.94637158],\n",
       "         [0.94637158],\n",
       "         [0.87003135],\n",
       "         [0.87003135],\n",
       "         [0.94071659],\n",
       "         [0.94071659],\n",
       "         [0.88065601],\n",
       "         [0.88065601],\n",
       "         [0.65539727],\n",
       "         [0.65539727],\n",
       "         [0.47376013],\n",
       "         [0.47376013],\n",
       "         [0.35754833],\n",
       "         [0.35754833],\n",
       "         [0.75111798],\n",
       "         [0.75111798],\n",
       "         [0.42972253],\n",
       "         [0.42972253],\n",
       "         [0.26935757],\n",
       "         [0.26935757],\n",
       "         [0.67294862],\n",
       "         [0.67294862],\n",
       "         [0.11967529],\n",
       "         [0.11967529],\n",
       "         [0.27047659],\n",
       "         [0.27047659],\n",
       "         [0.80385728],\n",
       "         [0.80385728],\n",
       "         [0.49448557],\n",
       "         [0.49448557],\n",
       "         [0.81550377],\n",
       "         [0.81550377],\n",
       "         [0.37650394],\n",
       "         [0.37650394],\n",
       "         [0.88959558],\n",
       "         [0.88959558],\n",
       "         [0.40843583],\n",
       "         [0.40843583],\n",
       "         [0.02585951],\n",
       "         [0.02585951],\n",
       "         [0.14329532],\n",
       "         [0.14329532],\n",
       "         [0.50947879],\n",
       "         [0.50947879],\n",
       "         [0.40524089],\n",
       "         [0.40524089],\n",
       "         [0.09602542],\n",
       "         [0.09602542]])}}"
      ]
     },
     "execution_count": 1,
     "metadata": {},
     "output_type": "execute_result"
    }
   ],
   "source": [
    "ds = load_by_id(run_id_a)\n",
    "ds.get_parameter_data('x1')"
   ]
  },
  {
   "cell_type": "code",
   "execution_count": null,
   "metadata": {},
   "outputs": [],
   "source": []
  }
 ],
 "metadata": {
  "kernelspec": {
   "display_name": "Python 3",
   "language": "python",
   "name": "python3"
  },
  "language_info": {
   "codemirror_mode": {
    "name": "ipython",
    "version": 3
   },
   "file_extension": ".py",
   "mimetype": "text/x-python",
   "name": "python",
   "nbconvert_exporter": "python",
   "pygments_lexer": "ipython3",
   "version": "3.7.7"
  },
  "nbsphinx": {
   "timeout": 600
  },
  "toc": {
   "base_numbering": 1,
   "nav_menu": {},
   "number_sections": true,
   "sideBar": true,
   "skip_h1_title": false,
   "title_cell": "Table of Contents",
   "title_sidebar": "Contents",
   "toc_cell": false,
   "toc_position": {},
   "toc_section_display": true,
   "toc_window_display": false
  },
  "varInspector": {
   "cols": {
    "lenName": 16,
    "lenType": 16,
    "lenVar": 40
   },
   "kernels_config": {
    "python": {
     "delete_cmd_postfix": "",
     "delete_cmd_prefix": "del ",
     "library": "var_list.py",
     "varRefreshCmd": "print(var_dic_list())"
    },
    "r": {
     "delete_cmd_postfix": ") ",
     "delete_cmd_prefix": "rm(",
     "library": "var_list.r",
     "varRefreshCmd": "cat(var_dic_list()) "
    }
   },
   "types_to_exclude": [
    "module",
    "function",
    "builtin_function_or_method",
    "instance",
    "_Feature"
   ],
   "window_display": false
  }
 },
 "nbformat": 4,
 "nbformat_minor": 2
}
