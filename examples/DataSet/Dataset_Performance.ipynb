{
 "cells": [
  {
   "cell_type": "markdown",
   "metadata": {},
   "source": [
    "# DataSet Performance\n",
    "\n",
    "This notebook shows the trade-off between inserting data into a database row-by-row and as binary blobs. Inserting the data row-by-row means that we have direct access to all the data and may perform queries directly on the values of the data. On the other hand, as we shall see, this is much slower than inserting the data directly as binary blobs."
   ]
  },
  {
   "cell_type": "markdown",
   "metadata": {},
   "source": [
    "First, we choose a new location for the database to ensure that we don't add a bunch of benchmarking data to the default one."
   ]
  },
  {
   "cell_type": "code",
   "execution_count": 1,
   "metadata": {
    "execution": {
     "iopub.execute_input": "2020-09-26T08:06:47.242373Z",
     "iopub.status.busy": "2020-09-26T08:06:47.241677Z",
     "iopub.status.idle": "2020-09-26T08:06:48.432146Z",
     "shell.execute_reply": "2020-09-26T08:06:48.431587Z"
    }
   },
   "outputs": [
    {
     "name": "stdout",
     "output_type": "stream",
     "text": [
      "Logging hadn't been started.\n",
      "Activating auto-logging. Current session state plus future input saved.\n",
      "Filename       : /home/vsts/.qcodes/logs/command_history.log\n",
      "Mode           : append\n",
      "Output logging : True\n",
      "Raw input log  : False\n",
      "Timestamping   : True\n",
      "State          : active\n"
     ]
    },
    {
     "name": "stdout",
     "output_type": "stream",
     "text": [
      "Qcodes Logfile : /home/vsts/.qcodes/logs/200926-19247-qcodes.log\n"
     ]
    }
   ],
   "source": [
    "import os\n",
    "cwd = os.getcwd()\n",
    "import qcodes as qc\n",
    "qc.config[\"core\"][\"db_location\"] = os.path.join(cwd, 'testing.db')\n"
   ]
  },
  {
   "cell_type": "code",
   "execution_count": 2,
   "metadata": {
    "execution": {
     "iopub.execute_input": "2020-09-26T08:06:48.439512Z",
     "iopub.status.busy": "2020-09-26T08:06:48.438826Z",
     "iopub.status.idle": "2020-09-26T08:06:48.654650Z",
     "shell.execute_reply": "2020-09-26T08:06:48.653850Z"
    }
   },
   "outputs": [],
   "source": [
    "%matplotlib inline\n",
    "import time\n",
    "import matplotlib.pyplot as plt\n",
    "import numpy as np\n",
    "\n",
    "import qcodes as qc\n",
    "from qcodes.instrument.parameter import ManualParameter\n",
    "from qcodes.dataset.experiment_container import (Experiment,\n",
    "                                                 load_last_experiment,\n",
    "                                                 new_experiment)\n",
    "from qcodes.dataset.sqlite.database import initialise_database\n",
    "from qcodes import load_or_create_experiment\n",
    "from qcodes.dataset.measurements import Measurement"
   ]
  },
  {
   "cell_type": "code",
   "execution_count": 3,
   "metadata": {
    "execution": {
     "iopub.execute_input": "2020-09-26T08:06:48.660745Z",
     "iopub.status.busy": "2020-09-26T08:06:48.659812Z",
     "iopub.status.idle": "2020-09-26T08:06:48.838936Z",
     "shell.execute_reply": "2020-09-26T08:06:48.839434Z"
    }
   },
   "outputs": [
    {
     "name": "stdout",
     "output_type": "stream",
     "text": [
      "\r",
      "0it [00:00, ?it/s]"
     ]
    },
    {
     "name": "stdout",
     "output_type": "stream",
     "text": [
      "\r",
      "Upgrading database; v0 -> v1: : 0it [00:00, ?it/s]"
     ]
    },
    {
     "name": "stdout",
     "output_type": "stream",
     "text": [
      "\r",
      "Upgrading database; v0 -> v1: : 0it [00:00, ?it/s]"
     ]
    },
    {
     "name": "stdout",
     "output_type": "stream",
     "text": [
      "\n",
      "\r",
      "  0%|          | 0/1 [00:00<?, ?it/s]"
     ]
    },
    {
     "name": "stdout",
     "output_type": "stream",
     "text": [
      "\r",
      "Upgrading database; v1 -> v2:   0%|          | 0/1 [00:00<?, ?it/s]"
     ]
    },
    {
     "name": "stdout",
     "output_type": "stream",
     "text": [
      "\r",
      "Upgrading database; v1 -> v2: 100%|██████████| 1/1 [00:00<00:00, 371.80it/s]"
     ]
    },
    {
     "name": "stdout",
     "output_type": "stream",
     "text": [
      "\n",
      "\r",
      "0it [00:00, ?it/s]"
     ]
    },
    {
     "name": "stdout",
     "output_type": "stream",
     "text": [
      "\r",
      "Upgrading database; v2 -> v3: : 0it [00:00, ?it/s]"
     ]
    },
    {
     "name": "stdout",
     "output_type": "stream",
     "text": [
      "\r",
      "Upgrading database; v2 -> v3: : 0it [00:00, ?it/s]"
     ]
    },
    {
     "name": "stdout",
     "output_type": "stream",
     "text": [
      "\n",
      "\r",
      "0it [00:00, ?it/s]"
     ]
    },
    {
     "name": "stdout",
     "output_type": "stream",
     "text": [
      "\r",
      "Upgrading database; v3 -> v4: : 0it [00:00, ?it/s]"
     ]
    },
    {
     "name": "stdout",
     "output_type": "stream",
     "text": [
      "\r",
      "Upgrading database; v3 -> v4: : 0it [00:00, ?it/s]"
     ]
    },
    {
     "name": "stdout",
     "output_type": "stream",
     "text": [
      "\n",
      "\r",
      "  0%|          | 0/1 [00:00<?, ?it/s]"
     ]
    },
    {
     "name": "stdout",
     "output_type": "stream",
     "text": [
      "\r",
      "Upgrading database; v4 -> v5:   0%|          | 0/1 [00:00<?, ?it/s]"
     ]
    },
    {
     "name": "stdout",
     "output_type": "stream",
     "text": [
      "\r",
      "Upgrading database; v4 -> v5: 100%|██████████| 1/1 [00:00<00:00, 540.99it/s]"
     ]
    },
    {
     "name": "stdout",
     "output_type": "stream",
     "text": [
      "\n",
      "\r",
      "0it [00:00, ?it/s]"
     ]
    },
    {
     "name": "stdout",
     "output_type": "stream",
     "text": [
      "\r",
      "Upgrading database; v5 -> v6: : 0it [00:00, ?it/s]"
     ]
    },
    {
     "name": "stdout",
     "output_type": "stream",
     "text": [
      "\r",
      "Upgrading database; v5 -> v6: : 0it [00:00, ?it/s]"
     ]
    },
    {
     "name": "stdout",
     "output_type": "stream",
     "text": [
      "\n",
      "\r",
      "  0%|          | 0/1 [00:00<?, ?it/s]"
     ]
    },
    {
     "name": "stdout",
     "output_type": "stream",
     "text": [
      "\r",
      "Upgrading database; v6 -> v7:   0%|          | 0/1 [00:00<?, ?it/s]"
     ]
    },
    {
     "name": "stdout",
     "output_type": "stream",
     "text": [
      "\r",
      "Upgrading database; v6 -> v7: 100%|██████████| 1/1 [00:00<00:00, 340.61it/s]"
     ]
    },
    {
     "name": "stdout",
     "output_type": "stream",
     "text": [
      "\n",
      "\r",
      "  0%|          | 0/1 [00:00<?, ?it/s]"
     ]
    },
    {
     "name": "stdout",
     "output_type": "stream",
     "text": [
      "\r",
      "Upgrading database; v7 -> v8:   0%|          | 0/1 [00:00<?, ?it/s]"
     ]
    },
    {
     "name": "stdout",
     "output_type": "stream",
     "text": [
      "\r",
      "Upgrading database; v7 -> v8: 100%|██████████| 1/1 [00:00<00:00, 323.26it/s]"
     ]
    },
    {
     "name": "stdout",
     "output_type": "stream",
     "text": [
      "\n",
      "\r",
      "  0%|          | 0/1 [00:00<?, ?it/s]"
     ]
    },
    {
     "name": "stdout",
     "output_type": "stream",
     "text": [
      "\r",
      "Upgrading database; v8 -> v9:   0%|          | 0/1 [00:00<?, ?it/s]"
     ]
    },
    {
     "name": "stdout",
     "output_type": "stream",
     "text": [
      "\r",
      "Upgrading database; v8 -> v9: 100%|██████████| 1/1 [00:00<00:00, 297.74it/s]"
     ]
    },
    {
     "name": "stdout",
     "output_type": "stream",
     "text": [
      "\n"
     ]
    }
   ],
   "source": [
    "initialise_database()\n",
    "exp = load_or_create_experiment(experiment_name='tutorial_exp', sample_name=\"no sample\")"
   ]
  },
  {
   "cell_type": "markdown",
   "metadata": {},
   "source": [
    "Here, we define a simple function to benchmark the time it takes to insert n points with either numeric or array data type.\n",
    "We will compare both the time used to call ``add_result`` and the time used for the full measurement."
   ]
  },
  {
   "cell_type": "code",
   "execution_count": 4,
   "metadata": {
    "execution": {
     "iopub.execute_input": "2020-09-26T08:06:48.850759Z",
     "iopub.status.busy": "2020-09-26T08:06:48.849760Z",
     "iopub.status.idle": "2020-09-26T08:06:48.854191Z",
     "shell.execute_reply": "2020-09-26T08:06:48.853638Z"
    }
   },
   "outputs": [],
   "source": [
    "def insert_data(paramtype, npoints, nreps=1):\n",
    "\n",
    "    meas = Measurement(exp=exp)\n",
    "\n",
    "    x1 = ManualParameter('x1')\n",
    "    x2 = ManualParameter('x2')\n",
    "    x3 = ManualParameter('x3')\n",
    "    y1 = ManualParameter('y1')\n",
    "    y2 = ManualParameter('y2')\n",
    "\n",
    "    meas.register_parameter(x1, paramtype=paramtype)\n",
    "    meas.register_parameter(x2, paramtype=paramtype)\n",
    "    meas.register_parameter(x3, paramtype=paramtype)\n",
    "    meas.register_parameter(y1, setpoints=[x1, x2, x3],\n",
    "                            paramtype=paramtype)\n",
    "    meas.register_parameter(y2, setpoints=[x1, x2, x3],\n",
    "                            paramtype=paramtype)\n",
    "    start = time.perf_counter()\n",
    "    with meas.run() as datasaver:\n",
    "        start_adding = time.perf_counter()\n",
    "        for i in range(nreps):\n",
    "            datasaver.add_result((x1, np.random.rand(npoints)),\n",
    "                                 (x2, np.random.rand(npoints)),\n",
    "                                 (x3, np.random.rand(npoints)),\n",
    "                                 (y1, np.random.rand(npoints)),\n",
    "                                 (y2, np.random.rand(npoints)))\n",
    "        stop_adding = time.perf_counter()\n",
    "        run_id = datasaver.run_id\n",
    "    stop = time.perf_counter()\n",
    "    tot_time = stop - start\n",
    "    add_time = stop_adding - start_adding\n",
    "    return tot_time, add_time, run_id"
   ]
  },
  {
   "cell_type": "markdown",
   "metadata": {},
   "source": [
    "## Comparison between numeric/array data and binary blob"
   ]
  },
  {
   "cell_type": "markdown",
   "metadata": {},
   "source": [
    "### Case1: Short experiment time"
   ]
  },
  {
   "cell_type": "code",
   "execution_count": 5,
   "metadata": {
    "execution": {
     "iopub.execute_input": "2020-09-26T08:06:48.861441Z",
     "iopub.status.busy": "2020-09-26T08:06:48.858700Z",
     "iopub.status.idle": "2020-09-26T08:06:49.867889Z",
     "shell.execute_reply": "2020-09-26T08:06:49.868426Z"
    }
   },
   "outputs": [
    {
     "name": "stdout",
     "output_type": "stream",
     "text": [
      "Starting experimental run with id: 1. \n",
      "Starting experimental run with id: 2. \n",
      "Starting experimental run with id: 3. \n"
     ]
    },
    {
     "name": "stdout",
     "output_type": "stream",
     "text": [
      "Starting experimental run with id: 4. \n"
     ]
    },
    {
     "name": "stdout",
     "output_type": "stream",
     "text": [
      "Starting experimental run with id: 5. \n"
     ]
    },
    {
     "name": "stdout",
     "output_type": "stream",
     "text": [
      "Starting experimental run with id: 6. \n",
      "Starting experimental run with id: 7. \n"
     ]
    },
    {
     "name": "stdout",
     "output_type": "stream",
     "text": [
      "Starting experimental run with id: 8. \n"
     ]
    },
    {
     "name": "stdout",
     "output_type": "stream",
     "text": [
      "Starting experimental run with id: 9. \n"
     ]
    },
    {
     "name": "stdout",
     "output_type": "stream",
     "text": [
      "Starting experimental run with id: 10. \n"
     ]
    },
    {
     "name": "stdout",
     "output_type": "stream",
     "text": [
      "Starting experimental run with id: 11. \n"
     ]
    },
    {
     "name": "stdout",
     "output_type": "stream",
     "text": [
      "Starting experimental run with id: 12. \n"
     ]
    },
    {
     "name": "stdout",
     "output_type": "stream",
     "text": [
      "Starting experimental run with id: 13. \n"
     ]
    },
    {
     "name": "stdout",
     "output_type": "stream",
     "text": [
      "Starting experimental run with id: 14. \n"
     ]
    }
   ],
   "source": [
    "sizes = [1,500,1000,2000,3000,4000,5000]\n",
    "t_numeric = []\n",
    "t_numeric_add = []\n",
    "t_array = []\n",
    "t_array_add = []\n",
    "for size in sizes:\n",
    "    tn, tna, run_id_n =  insert_data('numeric', size)\n",
    "    t_numeric.append(tn)\n",
    "    t_numeric_add.append(tna)\n",
    "\n",
    "    ta, taa, run_id_a =  insert_data('array', size)\n",
    "    t_array.append(ta)\n",
    "    t_array_add.append(taa)"
   ]
  },
  {
   "cell_type": "code",
   "execution_count": 6,
   "metadata": {
    "execution": {
     "iopub.execute_input": "2020-09-26T08:06:49.893563Z",
     "iopub.status.busy": "2020-09-26T08:06:49.876867Z",
     "iopub.status.idle": "2020-09-26T08:06:50.148623Z",
     "shell.execute_reply": "2020-09-26T08:06:50.148069Z"
    }
   },
   "outputs": [
    {
     "data": {
      "image/png": "[encoded data removed]",
      "text/plain": [
       "<Figure size 432x288 with 1 Axes>"
      ]
     },
     "metadata": {
      "needs_background": "light"
     },
     "output_type": "display_data"
    }
   ],
   "source": [
    "fig, ax = plt.subplots(1,1)\n",
    "ax.plot(sizes, t_numeric, 'o-', label='Inserting row-by-row')\n",
    "ax.plot(sizes, t_numeric_add, 'o-', label='Inserting row-by-row: add_result only')\n",
    "ax.plot(sizes, t_array, 'd-', label='Inserting as binary blob')\n",
    "ax.plot(sizes, t_array_add, 'd-', label='Inserting as binary blob: add_result only')\n",
    "ax.legend()\n",
    "ax.set_xlabel('Array length')\n",
    "ax.set_ylabel('Time (s)')\n",
    "fig.tight_layout()"
   ]
  },
  {
   "cell_type": "markdown",
   "metadata": {},
   "source": [
    "As shown in the latter figure, the time to setup and and close the experiment is approximately 0.4 sec. In case of small array sizes, the difference between inserting values of data as arrays and inserting them row-by-row is relatively unimportant. At larger array sizes, i.e. above 10000 points, the cost of writing data as individual datapoints starts to become important.\n"
   ]
  },
  {
   "cell_type": "markdown",
   "metadata": {},
   "source": [
    "### Case2: Long experiment time "
   ]
  },
  {
   "cell_type": "code",
   "execution_count": 7,
   "metadata": {
    "execution": {
     "iopub.execute_input": "2020-09-26T08:06:50.156413Z",
     "iopub.status.busy": "2020-09-26T08:06:50.155748Z",
     "iopub.status.idle": "2020-09-26T08:07:53.224451Z",
     "shell.execute_reply": "2020-09-26T08:07:53.224947Z"
    }
   },
   "outputs": [
    {
     "name": "stdout",
     "output_type": "stream",
     "text": [
      "Starting experimental run with id: 15. \n",
      "Starting experimental run with id: 16. \n",
      "Starting experimental run with id: 17. \n"
     ]
    },
    {
     "name": "stdout",
     "output_type": "stream",
     "text": [
      "Starting experimental run with id: 18. \n",
      "Starting experimental run with id: 19. \n"
     ]
    },
    {
     "name": "stdout",
     "output_type": "stream",
     "text": [
      "Starting experimental run with id: 20. \n"
     ]
    },
    {
     "name": "stdout",
     "output_type": "stream",
     "text": [
      "Starting experimental run with id: 21. \n"
     ]
    },
    {
     "name": "stdout",
     "output_type": "stream",
     "text": [
      "Starting experimental run with id: 22. \n"
     ]
    },
    {
     "name": "stdout",
     "output_type": "stream",
     "text": [
      "Starting experimental run with id: 23. \n"
     ]
    },
    {
     "name": "stdout",
     "output_type": "stream",
     "text": [
      "Starting experimental run with id: 24. \n"
     ]
    },
    {
     "name": "stdout",
     "output_type": "stream",
     "text": [
      "Starting experimental run with id: 25. \n"
     ]
    },
    {
     "name": "stdout",
     "output_type": "stream",
     "text": [
      "Starting experimental run with id: 26. \n"
     ]
    },
    {
     "name": "stdout",
     "output_type": "stream",
     "text": [
      "Starting experimental run with id: 27. \n"
     ]
    },
    {
     "name": "stdout",
     "output_type": "stream",
     "text": [
      "Starting experimental run with id: 28. \n"
     ]
    }
   ],
   "source": [
    "sizes = [1,500,1000,2000,3000,4000,5000]\n",
    "nreps = 100\n",
    "t_numeric = []\n",
    "t_numeric_add = []\n",
    "t_numeric_run_ids = []\n",
    "t_array = []\n",
    "t_array_add = []\n",
    "t_array_run_ids = []\n",
    "for size in sizes:\n",
    "    tn, tna, run_id_n =  insert_data('numeric', size, nreps=nreps)\n",
    "    t_numeric.append(tn)\n",
    "    t_numeric_add.append(tna)\n",
    "    t_numeric_run_ids.append(run_id_n)\n",
    "\n",
    "    ta, taa, run_id_a =  insert_data('array', size, nreps=nreps)\n",
    "    t_array.append(ta)\n",
    "    t_array_add.append(taa)\n",
    "    t_array_run_ids.append(run_id_a)"
   ]
  },
  {
   "cell_type": "code",
   "execution_count": 8,
   "metadata": {
    "execution": {
     "iopub.execute_input": "2020-09-26T08:07:53.247649Z",
     "iopub.status.busy": "2020-09-26T08:07:53.245693Z",
     "iopub.status.idle": "2020-09-26T08:07:53.465875Z",
     "shell.execute_reply": "2020-09-26T08:07:53.465334Z"
    },
    "scrolled": true
   },
   "outputs": [
    {
     "data": {
      "image/png": "[encoded data removed]",
      "text/plain": [
       "<Figure size 432x288 with 1 Axes>"
      ]
     },
     "metadata": {
      "needs_background": "light"
     },
     "output_type": "display_data"
    }
   ],
   "source": [
    "fig, ax = plt.subplots(1,1)\n",
    "ax.plot(sizes, t_numeric, 'o-', label='Inserting row-by-row')\n",
    "ax.plot(sizes, t_numeric_add, 'o-', label='Inserting row-by-row: add_result only')\n",
    "ax.plot(sizes, t_array, 'd-', label='Inserting as binary blob')\n",
    "ax.plot(sizes, t_array_add, 'd-', label='Inserting as binary blob: add_result only')\n",
    "ax.legend()\n",
    "ax.set_xlabel('Array length')\n",
    "ax.set_ylabel('Time (s)')\n",
    "fig.tight_layout()"
   ]
  },
  {
   "cell_type": "markdown",
   "metadata": {},
   "source": [
    "However, as we increase the length of the experiment, as seen here by repeating the insertion 100 times, we see a big difference between inserting values of the data row-by-row and inserting it as a binary blob."
   ]
  },
  {
   "cell_type": "markdown",
   "metadata": {},
   "source": [
    "## Loading the data "
   ]
  },
  {
   "cell_type": "code",
   "execution_count": 9,
   "metadata": {
    "execution": {
     "iopub.execute_input": "2020-09-26T08:07:53.470563Z",
     "iopub.status.busy": "2020-09-26T08:07:53.469538Z",
     "iopub.status.idle": "2020-09-26T08:07:53.472800Z",
     "shell.execute_reply": "2020-09-26T08:07:53.472286Z"
    }
   },
   "outputs": [],
   "source": [
    "from qcodes.dataset.data_set import load_by_id\n",
    "from qcodes.dataset.data_export import get_data_by_id"
   ]
  },
  {
   "cell_type": "markdown",
   "metadata": {},
   "source": [
    "As usual you can load the data by using the ``load_by_id`` function but you will notice that the different storage methods\n",
    "are reflected in shape of the data as it is retrieved. "
   ]
  },
  {
   "cell_type": "code",
   "execution_count": 10,
   "metadata": {
    "execution": {
     "iopub.execute_input": "2020-09-26T08:07:53.478464Z",
     "iopub.status.busy": "2020-09-26T08:07:53.477121Z",
     "iopub.status.idle": "2020-09-26T08:07:53.479142Z",
     "shell.execute_reply": "2020-09-26T08:07:53.479649Z"
    }
   },
   "outputs": [],
   "source": [
    "run_id_n = t_numeric_run_ids[0]\n",
    "run_id_a = t_array_run_ids[0]"
   ]
  },
  {
   "cell_type": "code",
   "execution_count": 11,
   "metadata": {
    "execution": {
     "iopub.execute_input": "2020-09-26T08:07:53.483563Z",
     "iopub.status.busy": "2020-09-26T08:07:53.482964Z",
     "iopub.status.idle": "2020-09-26T08:07:53.493372Z",
     "shell.execute_reply": "2020-09-26T08:07:53.494257Z"
    },
    "scrolled": true
   },
   "outputs": [
    {
     "data": {
      "text/plain": [
       "{'x1': {'x1': array([1.97158005e-01, 1.97158005e-01, 8.47134735e-01, 8.47134735e-01,\n",
       "         9.83621799e-01, 9.83621799e-01, 5.08901716e-02, 5.08901716e-02,\n",
       "         8.05196864e-01, 8.05196864e-01, 8.33591799e-01, 8.33591799e-01,\n",
       "         2.39294488e-01, 2.39294488e-01, 3.65233525e-01, 3.65233525e-01,\n",
       "         2.49909478e-01, 2.49909478e-01, 1.57644034e-01, 1.57644034e-01,\n",
       "         3.96189620e-01, 3.96189620e-01, 5.33374189e-01, 5.33374189e-01,\n",
       "         4.08425326e-01, 4.08425326e-01, 4.16731393e-01, 4.16731393e-01,\n",
       "         6.37425348e-01, 6.37425348e-01, 5.36568135e-01, 5.36568135e-01,\n",
       "         2.94763747e-01, 2.94763747e-01, 1.05960106e-01, 1.05960106e-01,\n",
       "         4.50294675e-01, 4.50294675e-01, 6.56087446e-01, 6.56087446e-01,\n",
       "         4.59143021e-02, 4.59143021e-02, 7.51669671e-01, 7.51669671e-01,\n",
       "         1.76679801e-01, 1.76679801e-01, 1.90127801e-01, 1.90127801e-01,\n",
       "         8.21354068e-01, 8.21354068e-01, 6.57082600e-01, 6.57082600e-01,\n",
       "         9.08484100e-01, 9.08484100e-01, 8.33654961e-01, 8.33654961e-01,\n",
       "         2.11458325e-01, 2.11458325e-01, 8.14799153e-01, 8.14799153e-01,\n",
       "         1.19375661e-01, 1.19375661e-01, 7.70256786e-01, 7.70256786e-01,\n",
       "         4.02221124e-01, 4.02221124e-01, 2.84169570e-01, 2.84169570e-01,\n",
       "         8.44184628e-01, 8.44184628e-01, 7.64522726e-01, 7.64522726e-01,\n",
       "         5.70796929e-01, 5.70796929e-01, 5.29169880e-01, 5.29169880e-01,\n",
       "         5.04332245e-01, 5.04332245e-01, 1.70209093e-01, 1.70209093e-01,\n",
       "         6.02958957e-01, 6.02958957e-01, 8.98886623e-01, 8.98886623e-01,\n",
       "         3.22869536e-01, 3.22869536e-01, 4.55548350e-02, 4.55548350e-02,\n",
       "         2.92587610e-01, 2.92587610e-01, 5.11461783e-01, 5.11461783e-01,\n",
       "         6.03347137e-01, 6.03347137e-01, 4.49609039e-01, 4.49609039e-01,\n",
       "         4.62623739e-01, 4.62623739e-01, 3.41865930e-01, 3.41865930e-01,\n",
       "         3.15144054e-01, 3.15144054e-01, 5.38171144e-01, 5.38171144e-01,\n",
       "         1.60694961e-01, 1.60694961e-01, 5.64634912e-01, 5.64634912e-01,\n",
       "         8.44686265e-01, 8.44686265e-01, 1.88919216e-01, 1.88919216e-01,\n",
       "         3.35271058e-01, 3.35271058e-01, 1.61188854e-01, 1.61188854e-01,\n",
       "         3.79393405e-03, 3.79393405e-03, 9.67268973e-01, 9.67268973e-01,\n",
       "         6.74820453e-02, 6.74820453e-02, 2.69868620e-01, 2.69868620e-01,\n",
       "         6.40205918e-01, 6.40205918e-01, 9.03911992e-01, 9.03911992e-01,\n",
       "         4.69387501e-01, 4.69387501e-01, 4.36667766e-02, 4.36667766e-02,\n",
       "         4.06263377e-01, 4.06263377e-01, 8.67477785e-02, 8.67477785e-02,\n",
       "         1.90101115e-01, 1.90101115e-01, 5.47417221e-02, 5.47417221e-02,\n",
       "         3.95373161e-01, 3.95373161e-01, 2.38588164e-01, 2.38588164e-01,\n",
       "         6.55504223e-02, 6.55504223e-02, 2.60235693e-01, 2.60235693e-01,\n",
       "         3.40106178e-04, 3.40106178e-04, 2.80554513e-01, 2.80554513e-01,\n",
       "         2.20176466e-01, 2.20176466e-01, 6.83898414e-01, 6.83898414e-01,\n",
       "         3.87552216e-01, 3.87552216e-01, 7.68239826e-01, 7.68239826e-01,\n",
       "         5.98297171e-01, 5.98297171e-01, 8.70900581e-01, 8.70900581e-01,\n",
       "         6.58579277e-01, 6.58579277e-01, 8.24196983e-01, 8.24196983e-01,\n",
       "         4.74488127e-01, 4.74488127e-01, 3.06521364e-01, 3.06521364e-01,\n",
       "         1.73527114e-01, 1.73527114e-01, 3.17019126e-01, 3.17019126e-01,\n",
       "         9.20977061e-01, 9.20977061e-01, 5.74729111e-01, 5.74729111e-01,\n",
       "         8.61019038e-01, 8.61019038e-01, 2.70091713e-01, 2.70091713e-01,\n",
       "         1.72371251e-01, 1.72371251e-01, 9.06727737e-01, 9.06727737e-01,\n",
       "         4.02993719e-02, 4.02993719e-02, 4.99640481e-01, 4.99640481e-01,\n",
       "         7.93197329e-01, 7.93197329e-01, 5.73614642e-01, 5.73614642e-01,\n",
       "         2.50365597e-01, 2.50365597e-01, 3.71774419e-01, 3.71774419e-01])}}"
      ]
     },
     "execution_count": 1,
     "metadata": {},
     "output_type": "execute_result"
    }
   ],
   "source": [
    "ds = load_by_id(run_id_n)\n",
    "ds.get_parameter_data('x1')"
   ]
  },
  {
   "cell_type": "markdown",
   "metadata": {},
   "source": [
    "And a dataset stored as binary arrays"
   ]
  },
  {
   "cell_type": "code",
   "execution_count": 12,
   "metadata": {
    "execution": {
     "iopub.execute_input": "2020-09-26T08:07:53.498430Z",
     "iopub.status.busy": "2020-09-26T08:07:53.497826Z",
     "iopub.status.idle": "2020-09-26T08:07:53.560812Z",
     "shell.execute_reply": "2020-09-26T08:07:53.561380Z"
    },
    "scrolled": true
   },
   "outputs": [
    {
     "data": {
      "text/plain": [
       "{'x1': {'x1': array([[0.19296836],\n",
       "         [0.19296836],\n",
       "         [0.92294178],\n",
       "         [0.92294178],\n",
       "         [0.94829409],\n",
       "         [0.94829409],\n",
       "         [0.94714653],\n",
       "         [0.94714653],\n",
       "         [0.24825194],\n",
       "         [0.24825194],\n",
       "         [0.36940742],\n",
       "         [0.36940742],\n",
       "         [0.2036921 ],\n",
       "         [0.2036921 ],\n",
       "         [0.09931098],\n",
       "         [0.09931098],\n",
       "         [0.25160151],\n",
       "         [0.25160151],\n",
       "         [0.25225843],\n",
       "         [0.25225843],\n",
       "         [0.72598101],\n",
       "         [0.72598101],\n",
       "         [0.60248576],\n",
       "         [0.60248576],\n",
       "         [0.72802272],\n",
       "         [0.72802272],\n",
       "         [0.39373804],\n",
       "         [0.39373804],\n",
       "         [0.0106218 ],\n",
       "         [0.0106218 ],\n",
       "         [0.75403374],\n",
       "         [0.75403374],\n",
       "         [0.49117042],\n",
       "         [0.49117042],\n",
       "         [0.6451642 ],\n",
       "         [0.6451642 ],\n",
       "         [0.18956633],\n",
       "         [0.18956633],\n",
       "         [0.1306032 ],\n",
       "         [0.1306032 ],\n",
       "         [0.1963083 ],\n",
       "         [0.1963083 ],\n",
       "         [0.39804188],\n",
       "         [0.39804188],\n",
       "         [0.00937185],\n",
       "         [0.00937185],\n",
       "         [0.93047075],\n",
       "         [0.93047075],\n",
       "         [0.01867926],\n",
       "         [0.01867926],\n",
       "         [0.75061293],\n",
       "         [0.75061293],\n",
       "         [0.55536765],\n",
       "         [0.55536765],\n",
       "         [0.98697936],\n",
       "         [0.98697936],\n",
       "         [0.89833746],\n",
       "         [0.89833746],\n",
       "         [0.50846047],\n",
       "         [0.50846047],\n",
       "         [0.19762211],\n",
       "         [0.19762211],\n",
       "         [0.30146551],\n",
       "         [0.30146551],\n",
       "         [0.38373434],\n",
       "         [0.38373434],\n",
       "         [0.93981327],\n",
       "         [0.93981327],\n",
       "         [0.48959733],\n",
       "         [0.48959733],\n",
       "         [0.17125498],\n",
       "         [0.17125498],\n",
       "         [0.16428124],\n",
       "         [0.16428124],\n",
       "         [0.3439447 ],\n",
       "         [0.3439447 ],\n",
       "         [0.11989722],\n",
       "         [0.11989722],\n",
       "         [0.88180312],\n",
       "         [0.88180312],\n",
       "         [0.64846356],\n",
       "         [0.64846356],\n",
       "         [0.30372668],\n",
       "         [0.30372668],\n",
       "         [0.51797622],\n",
       "         [0.51797622],\n",
       "         [0.54285188],\n",
       "         [0.54285188],\n",
       "         [0.67130958],\n",
       "         [0.67130958],\n",
       "         [0.68002851],\n",
       "         [0.68002851],\n",
       "         [0.01818426],\n",
       "         [0.01818426],\n",
       "         [0.74614713],\n",
       "         [0.74614713],\n",
       "         [0.71398936],\n",
       "         [0.71398936],\n",
       "         [0.97476793],\n",
       "         [0.97476793],\n",
       "         [0.26573545],\n",
       "         [0.26573545],\n",
       "         [0.69579693],\n",
       "         [0.69579693],\n",
       "         [0.16427424],\n",
       "         [0.16427424],\n",
       "         [0.59085764],\n",
       "         [0.59085764],\n",
       "         [0.13339447],\n",
       "         [0.13339447],\n",
       "         [0.49979364],\n",
       "         [0.49979364],\n",
       "         [0.03319898],\n",
       "         [0.03319898],\n",
       "         [0.87618027],\n",
       "         [0.87618027],\n",
       "         [0.86325283],\n",
       "         [0.86325283],\n",
       "         [0.49754084],\n",
       "         [0.49754084],\n",
       "         [0.68138799],\n",
       "         [0.68138799],\n",
       "         [0.36630147],\n",
       "         [0.36630147],\n",
       "         [0.11480413],\n",
       "         [0.11480413],\n",
       "         [0.48252567],\n",
       "         [0.48252567],\n",
       "         [0.40976819],\n",
       "         [0.40976819],\n",
       "         [0.15388744],\n",
       "         [0.15388744],\n",
       "         [0.95405163],\n",
       "         [0.95405163],\n",
       "         [0.69224985],\n",
       "         [0.69224985],\n",
       "         [0.37840053],\n",
       "         [0.37840053],\n",
       "         [0.14561191],\n",
       "         [0.14561191],\n",
       "         [0.96467241],\n",
       "         [0.96467241],\n",
       "         [0.5762091 ],\n",
       "         [0.5762091 ],\n",
       "         [0.71088373],\n",
       "         [0.71088373],\n",
       "         [0.53840017],\n",
       "         [0.53840017],\n",
       "         [0.56492732],\n",
       "         [0.56492732],\n",
       "         [0.24590143],\n",
       "         [0.24590143],\n",
       "         [0.16918824],\n",
       "         [0.16918824],\n",
       "         [0.95576806],\n",
       "         [0.95576806],\n",
       "         [0.32794564],\n",
       "         [0.32794564],\n",
       "         [0.47138545],\n",
       "         [0.47138545],\n",
       "         [0.09703779],\n",
       "         [0.09703779],\n",
       "         [0.85554993],\n",
       "         [0.85554993],\n",
       "         [0.30211049],\n",
       "         [0.30211049],\n",
       "         [0.93007032],\n",
       "         [0.93007032],\n",
       "         [0.97851606],\n",
       "         [0.97851606],\n",
       "         [0.64443595],\n",
       "         [0.64443595],\n",
       "         [0.34709513],\n",
       "         [0.34709513],\n",
       "         [0.00538497],\n",
       "         [0.00538497],\n",
       "         [0.09013178],\n",
       "         [0.09013178],\n",
       "         [0.4922312 ],\n",
       "         [0.4922312 ],\n",
       "         [0.4577603 ],\n",
       "         [0.4577603 ],\n",
       "         [0.1170576 ],\n",
       "         [0.1170576 ],\n",
       "         [0.95997713],\n",
       "         [0.95997713],\n",
       "         [0.18738689],\n",
       "         [0.18738689],\n",
       "         [0.55991962],\n",
       "         [0.55991962],\n",
       "         [0.48882505],\n",
       "         [0.48882505],\n",
       "         [0.50572093],\n",
       "         [0.50572093],\n",
       "         [0.47242656],\n",
       "         [0.47242656],\n",
       "         [0.43448915],\n",
       "         [0.43448915],\n",
       "         [0.86210425],\n",
       "         [0.86210425]])}}"
      ]
     },
     "execution_count": 1,
     "metadata": {},
     "output_type": "execute_result"
    }
   ],
   "source": [
    "ds = load_by_id(run_id_a)\n",
    "ds.get_parameter_data('x1')"
   ]
  },
  {
   "cell_type": "code",
   "execution_count": null,
   "metadata": {},
   "outputs": [],
   "source": []
  }
 ],
 "metadata": {
  "kernelspec": {
   "display_name": "Python 3",
   "language": "python",
   "name": "python3"
  },
  "language_info": {
   "codemirror_mode": {
    "name": "ipython",
    "version": 3
   },
   "file_extension": ".py",
   "mimetype": "text/x-python",
   "name": "python",
   "nbconvert_exporter": "python",
   "pygments_lexer": "ipython3",
   "version": "3.7.7"
  },
  "nbsphinx": {
   "timeout": 600
  },
  "toc": {
   "base_numbering": 1,
   "nav_menu": {},
   "number_sections": true,
   "sideBar": true,
   "skip_h1_title": false,
   "title_cell": "Table of Contents",
   "title_sidebar": "Contents",
   "toc_cell": false,
   "toc_position": {},
   "toc_section_display": true,
   "toc_window_display": false
  },
  "varInspector": {
   "cols": {
    "lenName": 16,
    "lenType": 16,
    "lenVar": 40
   },
   "kernels_config": {
    "python": {
     "delete_cmd_postfix": "",
     "delete_cmd_prefix": "del ",
     "library": "var_list.py",
     "varRefreshCmd": "print(var_dic_list())"
    },
    "r": {
     "delete_cmd_postfix": ") ",
     "delete_cmd_prefix": "rm(",
     "library": "var_list.r",
     "varRefreshCmd": "cat(var_dic_list()) "
    }
   },
   "types_to_exclude": [
    "module",
    "function",
    "builtin_function_or_method",
    "instance",
    "_Feature"
   ],
   "window_display": false
  }
 },
 "nbformat": 4,
 "nbformat_minor": 2
}
