{
 "cells": [
  {
   "cell_type": "markdown",
   "metadata": {},
   "source": [
    "# DataSet Performance\n",
    "\n",
    "This notebook shows the trade-off between inserting data into a database row-by-row and as binary blobs. Inserting the data row-by-row means that we have direct access to all the data and may perform queries directly on the values of the data. On the other hand, as we shall see, this is much slower than inserting the data directly as binary blobs."
   ]
  },
  {
   "cell_type": "markdown",
   "metadata": {},
   "source": [
    "First, we choose a new location for the database to ensure that we don't add a bunch of benchmarking data to the default one."
   ]
  },
  {
   "cell_type": "code",
   "execution_count": 1,
   "metadata": {},
   "outputs": [
    {
     "name": "stdout",
     "output_type": "stream",
     "text": [
      "Logging hadn't been started.\n",
      "Activating auto-logging. Current session state plus future input saved.\n",
      "Filename       : /home/vsts/.qcodes/logs/command_history.log\n",
      "Mode           : append\n",
      "Output logging : True\n",
      "Raw input log  : False\n",
      "Timestamping   : True\n",
      "State          : active\n"
     ]
    },
    {
     "name": "stdout",
     "output_type": "stream",
     "text": [
      "Qcodes Logfile : /home/vsts/.qcodes/logs/200323-18561-qcodes.log\n"
     ]
    }
   ],
   "source": [
    "import os\n",
    "cwd = os.getcwd()\n",
    "import qcodes as qc\n",
    "qc.config[\"core\"][\"db_location\"] = os.path.join(cwd, 'testing.db')\n"
   ]
  },
  {
   "cell_type": "code",
   "execution_count": 2,
   "metadata": {},
   "outputs": [],
   "source": [
    "%matplotlib inline\n",
    "import time\n",
    "import matplotlib.pyplot as plt\n",
    "import numpy as np\n",
    "\n",
    "import qcodes as qc\n",
    "from qcodes.instrument.parameter import ManualParameter\n",
    "from qcodes.dataset.experiment_container import (Experiment,\n",
    "                                                 load_last_experiment,\n",
    "                                                 new_experiment)\n",
    "from qcodes.dataset.sqlite.database import initialise_database\n",
    "from qcodes import load_or_create_experiment\n",
    "from qcodes.dataset.measurements import Measurement"
   ]
  },
  {
   "cell_type": "code",
   "execution_count": 3,
   "metadata": {},
   "outputs": [
    {
     "name": "stdout",
     "output_type": "stream",
     "text": [
      "\r",
      "0it [00:00, ?it/s]"
     ]
    },
    {
     "name": "stdout",
     "output_type": "stream",
     "text": [
      "\r",
      "Upgrading database; v0 -> v1: : 0it [00:00, ?it/s]"
     ]
    },
    {
     "name": "stdout",
     "output_type": "stream",
     "text": [
      "\r",
      "Upgrading database; v0 -> v1: : 0it [00:00, ?it/s]"
     ]
    },
    {
     "name": "stdout",
     "output_type": "stream",
     "text": [
      "\n",
      "\r",
      "  0%|          | 0/1 [00:00<?, ?it/s]"
     ]
    },
    {
     "name": "stdout",
     "output_type": "stream",
     "text": [
      "\r",
      "Upgrading database; v1 -> v2:   0%|          | 0/1 [00:00<?, ?it/s]"
     ]
    },
    {
     "name": "stdout",
     "output_type": "stream",
     "text": [
      "\r",
      "Upgrading database; v1 -> v2: 100%|██████████| 1/1 [00:00<00:00, 1047.27it/s]"
     ]
    },
    {
     "name": "stdout",
     "output_type": "stream",
     "text": [
      "\n",
      "\r",
      "0it [00:00, ?it/s]"
     ]
    },
    {
     "name": "stdout",
     "output_type": "stream",
     "text": [
      "\r",
      "Upgrading database; v2 -> v3: : 0it [00:00, ?it/s]"
     ]
    },
    {
     "name": "stdout",
     "output_type": "stream",
     "text": [
      "\r",
      "Upgrading database; v2 -> v3: : 0it [00:00, ?it/s]"
     ]
    },
    {
     "name": "stdout",
     "output_type": "stream",
     "text": [
      "\n",
      "\r",
      "0it [00:00, ?it/s]"
     ]
    },
    {
     "name": "stdout",
     "output_type": "stream",
     "text": [
      "\r",
      "Upgrading database; v3 -> v4: : 0it [00:00, ?it/s]"
     ]
    },
    {
     "name": "stdout",
     "output_type": "stream",
     "text": [
      "\r",
      "Upgrading database; v3 -> v4: : 0it [00:00, ?it/s]"
     ]
    },
    {
     "name": "stdout",
     "output_type": "stream",
     "text": [
      "\n",
      "\r",
      "  0%|          | 0/1 [00:00<?, ?it/s]"
     ]
    },
    {
     "name": "stdout",
     "output_type": "stream",
     "text": [
      "\r",
      "Upgrading database; v4 -> v5:   0%|          | 0/1 [00:00<?, ?it/s]"
     ]
    },
    {
     "name": "stdout",
     "output_type": "stream",
     "text": [
      "\r",
      "Upgrading database; v4 -> v5: 100%|██████████| 1/1 [00:00<00:00, 852.50it/s]"
     ]
    },
    {
     "name": "stdout",
     "output_type": "stream",
     "text": [
      "\n",
      "\r",
      "0it [00:00, ?it/s]"
     ]
    },
    {
     "name": "stdout",
     "output_type": "stream",
     "text": [
      "\r",
      "Upgrading database; v5 -> v6: : 0it [00:00, ?it/s]"
     ]
    },
    {
     "name": "stdout",
     "output_type": "stream",
     "text": [
      "\r",
      "Upgrading database; v5 -> v6: : 0it [00:00, ?it/s]"
     ]
    },
    {
     "name": "stdout",
     "output_type": "stream",
     "text": [
      "\n",
      "\r",
      "  0%|          | 0/1 [00:00<?, ?it/s]"
     ]
    },
    {
     "name": "stdout",
     "output_type": "stream",
     "text": [
      "\r",
      "Upgrading database; v6 -> v7:   0%|          | 0/1 [00:00<?, ?it/s]"
     ]
    },
    {
     "name": "stdout",
     "output_type": "stream",
     "text": [
      "\r",
      "Upgrading database; v6 -> v7: 100%|██████████| 1/1 [00:00<00:00, 427.77it/s]"
     ]
    },
    {
     "name": "stdout",
     "output_type": "stream",
     "text": [
      "\n",
      "\r",
      "  0%|          | 0/1 [00:00<?, ?it/s]"
     ]
    },
    {
     "name": "stdout",
     "output_type": "stream",
     "text": [
      "\r",
      "Upgrading database; v7 -> v8:   0%|          | 0/1 [00:00<?, ?it/s]"
     ]
    },
    {
     "name": "stdout",
     "output_type": "stream",
     "text": [
      "\r",
      "Upgrading database; v7 -> v8: 100%|██████████| 1/1 [00:00<00:00, 699.17it/s]"
     ]
    },
    {
     "name": "stdout",
     "output_type": "stream",
     "text": [
      "\n",
      "\r",
      "  0%|          | 0/1 [00:00<?, ?it/s]"
     ]
    },
    {
     "name": "stdout",
     "output_type": "stream",
     "text": [
      "\r",
      "Upgrading database; v8 -> v9:   0%|          | 0/1 [00:00<?, ?it/s]"
     ]
    },
    {
     "name": "stdout",
     "output_type": "stream",
     "text": [
      "\r",
      "Upgrading database; v8 -> v9: 100%|██████████| 1/1 [00:00<00:00, 802.12it/s]"
     ]
    },
    {
     "name": "stdout",
     "output_type": "stream",
     "text": [
      "\n"
     ]
    }
   ],
   "source": [
    "initialise_database()\n",
    "exp = load_or_create_experiment(experiment_name='tutorial_exp', sample_name=\"no sample\")"
   ]
  },
  {
   "cell_type": "markdown",
   "metadata": {},
   "source": [
    "Here, we define a simple function to benchmark the time it takes to insert n points with either numeric or array data type.\n",
    "We will compare both the time used to call ``add_result`` and the time used for the full measurement."
   ]
  },
  {
   "cell_type": "code",
   "execution_count": 4,
   "metadata": {},
   "outputs": [],
   "source": [
    "def insert_data(paramtype, npoints, nreps=1):\n",
    "\n",
    "    meas = Measurement(exp=exp)\n",
    "\n",
    "    x1 = ManualParameter('x1')\n",
    "    x2 = ManualParameter('x2')\n",
    "    x3 = ManualParameter('x3')\n",
    "    y1 = ManualParameter('y1')\n",
    "    y2 = ManualParameter('y2')\n",
    "\n",
    "    meas.register_parameter(x1, paramtype=paramtype)\n",
    "    meas.register_parameter(x2, paramtype=paramtype)\n",
    "    meas.register_parameter(x3, paramtype=paramtype)\n",
    "    meas.register_parameter(y1, setpoints=[x1, x2, x3],\n",
    "                            paramtype=paramtype)\n",
    "    meas.register_parameter(y2, setpoints=[x1, x2, x3],\n",
    "                            paramtype=paramtype)\n",
    "    start = time.perf_counter()\n",
    "    with meas.run() as datasaver:\n",
    "        start_adding = time.perf_counter()\n",
    "        for i in range(nreps):\n",
    "            datasaver.add_result((x1, np.random.rand(npoints)),\n",
    "                                 (x2, np.random.rand(npoints)),\n",
    "                                 (x3, np.random.rand(npoints)),\n",
    "                                 (y1, np.random.rand(npoints)),\n",
    "                                 (y2, np.random.rand(npoints)))\n",
    "        stop_adding = time.perf_counter()\n",
    "        run_id = datasaver.run_id\n",
    "    stop = time.perf_counter()\n",
    "    tot_time = stop - start\n",
    "    add_time = stop_adding - start_adding\n",
    "    return tot_time, add_time, run_id"
   ]
  },
  {
   "cell_type": "markdown",
   "metadata": {},
   "source": [
    "## Comparison between numeric/array data and binary blob"
   ]
  },
  {
   "cell_type": "markdown",
   "metadata": {},
   "source": [
    "### Case1: Short experiment time"
   ]
  },
  {
   "cell_type": "code",
   "execution_count": 5,
   "metadata": {},
   "outputs": [
    {
     "name": "stdout",
     "output_type": "stream",
     "text": [
      "Starting experimental run with id: 1. \n",
      "Starting experimental run with id: 2. \n",
      "Starting experimental run with id: 3. \n",
      "Starting experimental run with id: 4. \n"
     ]
    },
    {
     "name": "stdout",
     "output_type": "stream",
     "text": [
      "Starting experimental run with id: 5. \n"
     ]
    },
    {
     "name": "stdout",
     "output_type": "stream",
     "text": [
      "Starting experimental run with id: 6. \n",
      "Starting experimental run with id: 7. \n"
     ]
    },
    {
     "name": "stdout",
     "output_type": "stream",
     "text": [
      "Starting experimental run with id: 8. \n"
     ]
    },
    {
     "name": "stdout",
     "output_type": "stream",
     "text": [
      "Starting experimental run with id: 9. \n"
     ]
    },
    {
     "name": "stdout",
     "output_type": "stream",
     "text": [
      "Starting experimental run with id: 10. \n",
      "Starting experimental run with id: 11. \n"
     ]
    },
    {
     "name": "stdout",
     "output_type": "stream",
     "text": [
      "Starting experimental run with id: 12. \n",
      "Starting experimental run with id: 13. \n"
     ]
    },
    {
     "name": "stdout",
     "output_type": "stream",
     "text": [
      "Starting experimental run with id: 14. \n"
     ]
    }
   ],
   "source": [
    "sizes = [1,500,1000,2000,3000,4000,5000]\n",
    "t_numeric = []\n",
    "t_numeric_add = []\n",
    "t_array = []\n",
    "t_array_add = []\n",
    "for size in sizes:\n",
    "    tn, tna, run_id_n =  insert_data('numeric', size)\n",
    "    t_numeric.append(tn)\n",
    "    t_numeric_add.append(tna)\n",
    "\n",
    "    ta, taa, run_id_a =  insert_data('array', size)\n",
    "    t_array.append(ta)\n",
    "    t_array_add.append(taa)"
   ]
  },
  {
   "cell_type": "code",
   "execution_count": 6,
   "metadata": {},
   "outputs": [
    {
     "data": {
      "image/png": "[encoded data removed]",
      "text/plain": [
       "<Figure size 432x288 with 1 Axes>"
      ]
     },
     "metadata": {
      "needs_background": "light"
     },
     "output_type": "display_data"
    }
   ],
   "source": [
    "fig, ax = plt.subplots(1,1)\n",
    "ax.plot(sizes, t_numeric, 'o-', label='Inserting row-by-row')\n",
    "ax.plot(sizes, t_numeric_add, 'o-', label='Inserting row-by-row: add_result only')\n",
    "ax.plot(sizes, t_array, 'd-', label='Inserting as binary blob')\n",
    "ax.plot(sizes, t_array_add, 'd-', label='Inserting as binary blob: add_result only')\n",
    "ax.legend()\n",
    "ax.set_xlabel('Array length')\n",
    "ax.set_ylabel('Time (s)')\n",
    "fig.tight_layout()"
   ]
  },
  {
   "cell_type": "markdown",
   "metadata": {},
   "source": [
    "As shown in the latter figure, the time to setup and and close the experiment is approximately 0.4 sec. In case of small array sizes, the difference between inserting values of data as arrays and inserting them row-by-row is relatively unimportant. At larger array sizes, i.e. above 10000 points, the cost of writing data as individual datapoints starts to become important.\n"
   ]
  },
  {
   "cell_type": "markdown",
   "metadata": {},
   "source": [
    "### Case2: Long experiment time "
   ]
  },
  {
   "cell_type": "code",
   "execution_count": 7,
   "metadata": {},
   "outputs": [
    {
     "name": "stdout",
     "output_type": "stream",
     "text": [
      "Starting experimental run with id: 15. \n",
      "Starting experimental run with id: 16. \n",
      "Starting experimental run with id: 17. \n"
     ]
    },
    {
     "name": "stdout",
     "output_type": "stream",
     "text": [
      "Starting experimental run with id: 18. \n",
      "Starting experimental run with id: 19. \n"
     ]
    },
    {
     "name": "stdout",
     "output_type": "stream",
     "text": [
      "Starting experimental run with id: 20. \n"
     ]
    },
    {
     "name": "stdout",
     "output_type": "stream",
     "text": [
      "Starting experimental run with id: 21. \n"
     ]
    },
    {
     "name": "stdout",
     "output_type": "stream",
     "text": [
      "Starting experimental run with id: 22. \n"
     ]
    },
    {
     "name": "stdout",
     "output_type": "stream",
     "text": [
      "Starting experimental run with id: 23. \n"
     ]
    },
    {
     "name": "stdout",
     "output_type": "stream",
     "text": [
      "Starting experimental run with id: 24. \n"
     ]
    },
    {
     "name": "stdout",
     "output_type": "stream",
     "text": [
      "Starting experimental run with id: 25. \n"
     ]
    },
    {
     "name": "stdout",
     "output_type": "stream",
     "text": [
      "Starting experimental run with id: 26. \n"
     ]
    },
    {
     "name": "stdout",
     "output_type": "stream",
     "text": [
      "Starting experimental run with id: 27. \n"
     ]
    },
    {
     "name": "stdout",
     "output_type": "stream",
     "text": [
      "Starting experimental run with id: 28. \n"
     ]
    }
   ],
   "source": [
    "sizes = [1,500,1000,2000,3000,4000,5000]\n",
    "nreps = 100\n",
    "t_numeric = []\n",
    "t_numeric_add = []\n",
    "t_numeric_run_ids = []\n",
    "t_array = []\n",
    "t_array_add = []\n",
    "t_array_run_ids = []\n",
    "for size in sizes:\n",
    "    tn, tna, run_id_n =  insert_data('numeric', size, nreps=nreps)\n",
    "    t_numeric.append(tn)\n",
    "    t_numeric_add.append(tna)\n",
    "    t_numeric_run_ids.append(run_id_n)\n",
    "\n",
    "    ta, taa, run_id_a =  insert_data('array', size, nreps=nreps)\n",
    "    t_array.append(ta)\n",
    "    t_array_add.append(taa)\n",
    "    t_array_run_ids.append(run_id_a)"
   ]
  },
  {
   "cell_type": "code",
   "execution_count": 8,
   "metadata": {
    "scrolled": true
   },
   "outputs": [
    {
     "data": {
      "image/png": "[encoded data removed]",
      "text/plain": [
       "<Figure size 432x288 with 1 Axes>"
      ]
     },
     "metadata": {
      "needs_background": "light"
     },
     "output_type": "display_data"
    }
   ],
   "source": [
    "fig, ax = plt.subplots(1,1)\n",
    "ax.plot(sizes, t_numeric, 'o-', label='Inserting row-by-row')\n",
    "ax.plot(sizes, t_numeric_add, 'o-', label='Inserting row-by-row: add_result only')\n",
    "ax.plot(sizes, t_array, 'd-', label='Inserting as binary blob')\n",
    "ax.plot(sizes, t_array_add, 'd-', label='Inserting as binary blob: add_result only')\n",
    "ax.legend()\n",
    "ax.set_xlabel('Array length')\n",
    "ax.set_ylabel('Time (s)')\n",
    "fig.tight_layout()"
   ]
  },
  {
   "cell_type": "markdown",
   "metadata": {},
   "source": [
    "However, as we increase the length of the experiment, as seen here by repeating the insertion 100 times, we see a big difference between inserting values of the data row-by-row and inserting it as a binary blob."
   ]
  },
  {
   "cell_type": "markdown",
   "metadata": {},
   "source": [
    "## Loading the data "
   ]
  },
  {
   "cell_type": "code",
   "execution_count": 9,
   "metadata": {},
   "outputs": [],
   "source": [
    "from qcodes.dataset.data_set import load_by_id\n",
    "from qcodes.dataset.data_export import get_data_by_id"
   ]
  },
  {
   "cell_type": "markdown",
   "metadata": {},
   "source": [
    "As usual you can load the data by using the ``load_by_id`` function but you will notice that the different storage methods\n",
    "are reflected in shape of the data as it is retrieved. "
   ]
  },
  {
   "cell_type": "code",
   "execution_count": 10,
   "metadata": {},
   "outputs": [],
   "source": [
    "run_id_n = t_numeric_run_ids[0]\n",
    "run_id_a = t_array_run_ids[0]"
   ]
  },
  {
   "cell_type": "code",
   "execution_count": 11,
   "metadata": {
    "scrolled": true
   },
   "outputs": [
    {
     "data": {
      "text/plain": [
       "{'x1': {'x1': array([0.92112307, 0.92112307, 0.48980484, 0.48980484, 0.31360185,\n",
       "         0.31360185, 0.40903829, 0.40903829, 0.06115063, 0.06115063,\n",
       "         0.91587587, 0.91587587, 0.3359885 , 0.3359885 , 0.4038344 ,\n",
       "         0.4038344 , 0.98148123, 0.98148123, 0.03279192, 0.03279192,\n",
       "         0.8885089 , 0.8885089 , 0.46401375, 0.46401375, 0.67934812,\n",
       "         0.67934812, 0.48363666, 0.48363666, 0.14427208, 0.14427208,\n",
       "         0.81292779, 0.81292779, 0.71850932, 0.71850932, 0.82814207,\n",
       "         0.82814207, 0.260634  , 0.260634  , 0.43629215, 0.43629215,\n",
       "         0.96894612, 0.96894612, 0.34991537, 0.34991537, 0.50310562,\n",
       "         0.50310562, 0.69691801, 0.69691801, 0.29151025, 0.29151025,\n",
       "         0.89190598, 0.89190598, 0.70221958, 0.70221958, 0.51956562,\n",
       "         0.51956562, 0.5878632 , 0.5878632 , 0.62672682, 0.62672682,\n",
       "         0.42460924, 0.42460924, 0.76212664, 0.76212664, 0.28491632,\n",
       "         0.28491632, 0.02902879, 0.02902879, 0.75959114, 0.75959114,\n",
       "         0.38880465, 0.38880465, 0.02977275, 0.02977275, 0.63713182,\n",
       "         0.63713182, 0.04880071, 0.04880071, 0.88597757, 0.88597757,\n",
       "         0.55205616, 0.55205616, 0.7132762 , 0.7132762 , 0.48673995,\n",
       "         0.48673995, 0.04752212, 0.04752212, 0.13974792, 0.13974792,\n",
       "         0.4114557 , 0.4114557 , 0.65705594, 0.65705594, 0.20742518,\n",
       "         0.20742518, 0.92636237, 0.92636237, 0.82652177, 0.82652177,\n",
       "         0.8370211 , 0.8370211 , 0.95577047, 0.95577047, 0.56013661,\n",
       "         0.56013661, 0.81336768, 0.81336768, 0.04381767, 0.04381767,\n",
       "         0.53690296, 0.53690296, 0.86059983, 0.86059983, 0.04660471,\n",
       "         0.04660471, 0.30019569, 0.30019569, 0.14136869, 0.14136869,\n",
       "         0.23341994, 0.23341994, 0.44345433, 0.44345433, 0.04974453,\n",
       "         0.04974453, 0.2554291 , 0.2554291 , 0.43223594, 0.43223594,\n",
       "         0.92007965, 0.92007965, 0.65537346, 0.65537346, 0.34524   ,\n",
       "         0.34524   , 0.51148253, 0.51148253, 0.68660263, 0.68660263,\n",
       "         0.61601168, 0.61601168, 0.92869719, 0.92869719, 0.19045415,\n",
       "         0.19045415, 0.30689439, 0.30689439, 0.16248303, 0.16248303,\n",
       "         0.84017812, 0.84017812, 0.26721524, 0.26721524, 0.92562743,\n",
       "         0.92562743, 0.02628248, 0.02628248, 0.89065437, 0.89065437,\n",
       "         0.42212707, 0.42212707, 0.47242496, 0.47242496, 0.82235903,\n",
       "         0.82235903, 0.61625875, 0.61625875, 0.51629046, 0.51629046,\n",
       "         0.79752459, 0.79752459, 0.0739882 , 0.0739882 , 0.40922745,\n",
       "         0.40922745, 0.92573417, 0.92573417, 0.86861381, 0.86861381,\n",
       "         0.01766738, 0.01766738, 0.75450591, 0.75450591, 0.58203991,\n",
       "         0.58203991, 0.00721121, 0.00721121, 0.92554174, 0.92554174,\n",
       "         0.23239397, 0.23239397, 0.42079688, 0.42079688, 0.69248974,\n",
       "         0.69248974, 0.70379324, 0.70379324, 0.64227158, 0.64227158])}}"
      ]
     },
     "execution_count": 11,
     "metadata": {},
     "output_type": "execute_result"
    }
   ],
   "source": [
    "ds = load_by_id(run_id_n)\n",
    "ds.get_parameter_data('x1')"
   ]
  },
  {
   "cell_type": "markdown",
   "metadata": {},
   "source": [
    "And a dataset stored as binary arrays"
   ]
  },
  {
   "cell_type": "code",
   "execution_count": 12,
   "metadata": {
    "scrolled": true
   },
   "outputs": [
    {
     "data": {
      "text/plain": [
       "{'x1': {'x1': array([[0.22317248],\n",
       "         [0.22317248],\n",
       "         [0.54817503],\n",
       "         [0.54817503],\n",
       "         [0.01271261],\n",
       "         [0.01271261],\n",
       "         [0.24960554],\n",
       "         [0.24960554],\n",
       "         [0.50789319],\n",
       "         [0.50789319],\n",
       "         [0.48525398],\n",
       "         [0.48525398],\n",
       "         [0.16369487],\n",
       "         [0.16369487],\n",
       "         [0.30212461],\n",
       "         [0.30212461],\n",
       "         [0.25670675],\n",
       "         [0.25670675],\n",
       "         [0.07003554],\n",
       "         [0.07003554],\n",
       "         [0.39089011],\n",
       "         [0.39089011],\n",
       "         [0.18590273],\n",
       "         [0.18590273],\n",
       "         [0.60809266],\n",
       "         [0.60809266],\n",
       "         [0.07624508],\n",
       "         [0.07624508],\n",
       "         [0.89632568],\n",
       "         [0.89632568],\n",
       "         [0.25977029],\n",
       "         [0.25977029],\n",
       "         [0.85391332],\n",
       "         [0.85391332],\n",
       "         [0.18893277],\n",
       "         [0.18893277],\n",
       "         [0.09023002],\n",
       "         [0.09023002],\n",
       "         [0.89036321],\n",
       "         [0.89036321],\n",
       "         [0.44467635],\n",
       "         [0.44467635],\n",
       "         [0.87044429],\n",
       "         [0.87044429],\n",
       "         [0.16165316],\n",
       "         [0.16165316],\n",
       "         [0.94808165],\n",
       "         [0.94808165],\n",
       "         [0.05504869],\n",
       "         [0.05504869],\n",
       "         [0.38796104],\n",
       "         [0.38796104],\n",
       "         [0.30356843],\n",
       "         [0.30356843],\n",
       "         [0.48841   ],\n",
       "         [0.48841   ],\n",
       "         [0.48776812],\n",
       "         [0.48776812],\n",
       "         [0.96889747],\n",
       "         [0.96889747],\n",
       "         [0.01074691],\n",
       "         [0.01074691],\n",
       "         [0.44441681],\n",
       "         [0.44441681],\n",
       "         [0.95137046],\n",
       "         [0.95137046],\n",
       "         [0.19209221],\n",
       "         [0.19209221],\n",
       "         [0.79513671],\n",
       "         [0.79513671],\n",
       "         [0.17680392],\n",
       "         [0.17680392],\n",
       "         [0.2450356 ],\n",
       "         [0.2450356 ],\n",
       "         [0.73064777],\n",
       "         [0.73064777],\n",
       "         [0.96187166],\n",
       "         [0.96187166],\n",
       "         [0.70885518],\n",
       "         [0.70885518],\n",
       "         [0.17530439],\n",
       "         [0.17530439],\n",
       "         [0.78139511],\n",
       "         [0.78139511],\n",
       "         [0.94300811],\n",
       "         [0.94300811],\n",
       "         [0.3997053 ],\n",
       "         [0.3997053 ],\n",
       "         [0.03018795],\n",
       "         [0.03018795],\n",
       "         [0.9538911 ],\n",
       "         [0.9538911 ],\n",
       "         [0.87037893],\n",
       "         [0.87037893],\n",
       "         [0.36943737],\n",
       "         [0.36943737],\n",
       "         [0.49233786],\n",
       "         [0.49233786],\n",
       "         [0.84642599],\n",
       "         [0.84642599],\n",
       "         [0.26350869],\n",
       "         [0.26350869],\n",
       "         [0.23886908],\n",
       "         [0.23886908],\n",
       "         [0.89443569],\n",
       "         [0.89443569],\n",
       "         [0.44225188],\n",
       "         [0.44225188],\n",
       "         [0.54425771],\n",
       "         [0.54425771],\n",
       "         [0.22203091],\n",
       "         [0.22203091],\n",
       "         [0.59575912],\n",
       "         [0.59575912],\n",
       "         [0.77651997],\n",
       "         [0.77651997],\n",
       "         [0.0421845 ],\n",
       "         [0.0421845 ],\n",
       "         [0.90382443],\n",
       "         [0.90382443],\n",
       "         [0.94813248],\n",
       "         [0.94813248],\n",
       "         [0.58822882],\n",
       "         [0.58822882],\n",
       "         [0.18246371],\n",
       "         [0.18246371],\n",
       "         [0.90714374],\n",
       "         [0.90714374],\n",
       "         [0.27973334],\n",
       "         [0.27973334],\n",
       "         [0.62096154],\n",
       "         [0.62096154],\n",
       "         [0.62613482],\n",
       "         [0.62613482],\n",
       "         [0.65813644],\n",
       "         [0.65813644],\n",
       "         [0.66713349],\n",
       "         [0.66713349],\n",
       "         [0.28178773],\n",
       "         [0.28178773],\n",
       "         [0.35225944],\n",
       "         [0.35225944],\n",
       "         [0.30992641],\n",
       "         [0.30992641],\n",
       "         [0.81326175],\n",
       "         [0.81326175],\n",
       "         [0.35697823],\n",
       "         [0.35697823],\n",
       "         [0.70733267],\n",
       "         [0.70733267],\n",
       "         [0.93121333],\n",
       "         [0.93121333],\n",
       "         [0.47667755],\n",
       "         [0.47667755],\n",
       "         [0.00284397],\n",
       "         [0.00284397],\n",
       "         [0.3588687 ],\n",
       "         [0.3588687 ],\n",
       "         [0.90970253],\n",
       "         [0.90970253],\n",
       "         [0.00789951],\n",
       "         [0.00789951],\n",
       "         [0.04135768],\n",
       "         [0.04135768],\n",
       "         [0.44270762],\n",
       "         [0.44270762],\n",
       "         [0.74555953],\n",
       "         [0.74555953],\n",
       "         [0.71867533],\n",
       "         [0.71867533],\n",
       "         [0.97763116],\n",
       "         [0.97763116],\n",
       "         [0.80894987],\n",
       "         [0.80894987],\n",
       "         [0.53467481],\n",
       "         [0.53467481],\n",
       "         [0.59487827],\n",
       "         [0.59487827],\n",
       "         [0.28451257],\n",
       "         [0.28451257],\n",
       "         [0.87180703],\n",
       "         [0.87180703],\n",
       "         [0.76354992],\n",
       "         [0.76354992],\n",
       "         [0.77068235],\n",
       "         [0.77068235],\n",
       "         [0.13193573],\n",
       "         [0.13193573],\n",
       "         [0.09654799],\n",
       "         [0.09654799],\n",
       "         [0.67892557],\n",
       "         [0.67892557],\n",
       "         [0.92222967],\n",
       "         [0.92222967],\n",
       "         [0.1364382 ],\n",
       "         [0.1364382 ],\n",
       "         [0.17770797],\n",
       "         [0.17770797],\n",
       "         [0.08373433],\n",
       "         [0.08373433]])}}"
      ]
     },
     "execution_count": 12,
     "metadata": {},
     "output_type": "execute_result"
    }
   ],
   "source": [
    "ds = load_by_id(run_id_a)\n",
    "ds.get_parameter_data('x1')"
   ]
  },
  {
   "cell_type": "code",
   "execution_count": null,
   "metadata": {},
   "outputs": [],
   "source": []
  }
 ],
 "metadata": {
  "kernelspec": {
   "display_name": "Python 3",
   "language": "python",
   "name": "python3"
  },
  "language_info": {
   "codemirror_mode": {
    "name": "ipython",
    "version": 3
   },
   "file_extension": ".py",
   "mimetype": "text/x-python",
   "name": "python",
   "nbconvert_exporter": "python",
   "pygments_lexer": "ipython3",
   "version": "3.7.5"
  },
  "nbsphinx": {
   "timeout": 600
  },
  "toc": {
   "base_numbering": 1,
   "nav_menu": {},
   "number_sections": true,
   "sideBar": true,
   "skip_h1_title": false,
   "title_cell": "Table of Contents",
   "title_sidebar": "Contents",
   "toc_cell": false,
   "toc_position": {},
   "toc_section_display": true,
   "toc_window_display": false
  },
  "varInspector": {
   "cols": {
    "lenName": 16,
    "lenType": 16,
    "lenVar": 40
   },
   "kernels_config": {
    "python": {
     "delete_cmd_postfix": "",
     "delete_cmd_prefix": "del ",
     "library": "var_list.py",
     "varRefreshCmd": "print(var_dic_list())"
    },
    "r": {
     "delete_cmd_postfix": ") ",
     "delete_cmd_prefix": "rm(",
     "library": "var_list.r",
     "varRefreshCmd": "cat(var_dic_list()) "
    }
   },
   "types_to_exclude": [
    "module",
    "function",
    "builtin_function_or_method",
    "instance",
    "_Feature"
   ],
   "window_display": false
  }
 },
 "nbformat": 4,
 "nbformat_minor": 2
}
