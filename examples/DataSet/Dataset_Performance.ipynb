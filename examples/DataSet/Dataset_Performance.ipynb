{
 "cells": [
  {
   "cell_type": "markdown",
   "metadata": {},
   "source": [
    "# DataSet Performance\n",
    "\n",
    "This notebook shows the trade-off between inserting data into a database row-by-row and as binary blobs. Inserting the data row-by-row means that we have direct access to all the data and may perform queries directly on the values of the data. On the other hand, as we shall see, this is much slower than inserting the data directly as binary blobs."
   ]
  },
  {
   "cell_type": "markdown",
   "metadata": {},
   "source": [
    "First, we choose a new location for the database to ensure that we don't add a bunch of benchmarking data to the default one."
   ]
  },
  {
   "cell_type": "code",
   "execution_count": 1,
   "metadata": {},
   "outputs": [
    {
     "name": "stdout",
     "output_type": "stream",
     "text": [
      "Logging hadn't been started.\n",
      "Activating auto-logging. Current session state plus future input saved.\n",
      "Filename       : /home/vsts/.qcodes/logs/command_history.log\n",
      "Mode           : append\n",
      "Output logging : True\n",
      "Raw input log  : False\n",
      "Timestamping   : True\n",
      "State          : active\n"
     ]
    },
    {
     "name": "stdout",
     "output_type": "stream",
     "text": [
      "Qcodes Logfile : /home/vsts/.qcodes/logs/200603-19023-qcodes.log\n"
     ]
    }
   ],
   "source": [
    "import os\n",
    "cwd = os.getcwd()\n",
    "import qcodes as qc\n",
    "qc.config[\"core\"][\"db_location\"] = os.path.join(cwd, 'testing.db')\n"
   ]
  },
  {
   "cell_type": "code",
   "execution_count": 2,
   "metadata": {},
   "outputs": [],
   "source": [
    "%matplotlib inline\n",
    "import time\n",
    "import matplotlib.pyplot as plt\n",
    "import numpy as np\n",
    "\n",
    "import qcodes as qc\n",
    "from qcodes.instrument.parameter import ManualParameter\n",
    "from qcodes.dataset.experiment_container import (Experiment,\n",
    "                                                 load_last_experiment,\n",
    "                                                 new_experiment)\n",
    "from qcodes.dataset.sqlite.database import initialise_database\n",
    "from qcodes import load_or_create_experiment\n",
    "from qcodes.dataset.measurements import Measurement"
   ]
  },
  {
   "cell_type": "code",
   "execution_count": 3,
   "metadata": {},
   "outputs": [
    {
     "name": "stdout",
     "output_type": "stream",
     "text": [
      "\r",
      "0it [00:00, ?it/s]"
     ]
    },
    {
     "name": "stdout",
     "output_type": "stream",
     "text": [
      "\r",
      "Upgrading database; v0 -> v1: : 0it [00:00, ?it/s]"
     ]
    },
    {
     "name": "stdout",
     "output_type": "stream",
     "text": [
      "\r",
      "Upgrading database; v0 -> v1: : 0it [00:00, ?it/s]"
     ]
    },
    {
     "name": "stdout",
     "output_type": "stream",
     "text": [
      "\n",
      "\r",
      "  0%|          | 0/1 [00:00<?, ?it/s]"
     ]
    },
    {
     "name": "stdout",
     "output_type": "stream",
     "text": [
      "\r",
      "Upgrading database; v1 -> v2:   0%|          | 0/1 [00:00<?, ?it/s]"
     ]
    },
    {
     "name": "stdout",
     "output_type": "stream",
     "text": [
      "\r",
      "Upgrading database; v1 -> v2: 100%|██████████| 1/1 [00:00<00:00, 756.00it/s]"
     ]
    },
    {
     "name": "stdout",
     "output_type": "stream",
     "text": [
      "\n",
      "\r",
      "0it [00:00, ?it/s]"
     ]
    },
    {
     "name": "stdout",
     "output_type": "stream",
     "text": [
      "\r",
      "Upgrading database; v2 -> v3: : 0it [00:00, ?it/s]"
     ]
    },
    {
     "name": "stdout",
     "output_type": "stream",
     "text": [
      "\r",
      "Upgrading database; v2 -> v3: : 0it [00:00, ?it/s]"
     ]
    },
    {
     "name": "stdout",
     "output_type": "stream",
     "text": [
      "\n",
      "\r",
      "0it [00:00, ?it/s]"
     ]
    },
    {
     "name": "stdout",
     "output_type": "stream",
     "text": [
      "\r",
      "Upgrading database; v3 -> v4: : 0it [00:00, ?it/s]"
     ]
    },
    {
     "name": "stdout",
     "output_type": "stream",
     "text": [
      "\r",
      "Upgrading database; v3 -> v4: : 0it [00:00, ?it/s]"
     ]
    },
    {
     "name": "stdout",
     "output_type": "stream",
     "text": [
      "\n",
      "\r",
      "  0%|          | 0/1 [00:00<?, ?it/s]"
     ]
    },
    {
     "name": "stdout",
     "output_type": "stream",
     "text": [
      "\r",
      "Upgrading database; v4 -> v5:   0%|          | 0/1 [00:00<?, ?it/s]"
     ]
    },
    {
     "name": "stdout",
     "output_type": "stream",
     "text": [
      "\r",
      "Upgrading database; v4 -> v5: 100%|██████████| 1/1 [00:00<00:00, 603.50it/s]"
     ]
    },
    {
     "name": "stdout",
     "output_type": "stream",
     "text": [
      "\n",
      "\r",
      "0it [00:00, ?it/s]"
     ]
    },
    {
     "name": "stdout",
     "output_type": "stream",
     "text": [
      "\r",
      "Upgrading database; v5 -> v6: : 0it [00:00, ?it/s]"
     ]
    },
    {
     "name": "stdout",
     "output_type": "stream",
     "text": [
      "\r",
      "Upgrading database; v5 -> v6: : 0it [00:00, ?it/s]"
     ]
    },
    {
     "name": "stdout",
     "output_type": "stream",
     "text": [
      "\n",
      "\r",
      "  0%|          | 0/1 [00:00<?, ?it/s]"
     ]
    },
    {
     "name": "stdout",
     "output_type": "stream",
     "text": [
      "\r",
      "Upgrading database; v6 -> v7:   0%|          | 0/1 [00:00<?, ?it/s]"
     ]
    },
    {
     "name": "stdout",
     "output_type": "stream",
     "text": [
      "\r",
      "Upgrading database; v6 -> v7: 100%|██████████| 1/1 [00:00<00:00, 384.09it/s]"
     ]
    },
    {
     "name": "stdout",
     "output_type": "stream",
     "text": [
      "\n",
      "\r",
      "  0%|          | 0/1 [00:00<?, ?it/s]"
     ]
    },
    {
     "name": "stdout",
     "output_type": "stream",
     "text": [
      "\r",
      "Upgrading database; v7 -> v8:   0%|          | 0/1 [00:00<?, ?it/s]"
     ]
    },
    {
     "name": "stdout",
     "output_type": "stream",
     "text": [
      "\r",
      "Upgrading database; v7 -> v8: 100%|██████████| 1/1 [00:00<00:00, 710.54it/s]"
     ]
    },
    {
     "name": "stdout",
     "output_type": "stream",
     "text": [
      "\n",
      "\r",
      "  0%|          | 0/1 [00:00<?, ?it/s]"
     ]
    },
    {
     "name": "stdout",
     "output_type": "stream",
     "text": [
      "\r",
      "Upgrading database; v8 -> v9:   0%|          | 0/1 [00:00<?, ?it/s]"
     ]
    },
    {
     "name": "stdout",
     "output_type": "stream",
     "text": [
      "\r",
      "Upgrading database; v8 -> v9: 100%|██████████| 1/1 [00:00<00:00, 762.05it/s]"
     ]
    },
    {
     "name": "stdout",
     "output_type": "stream",
     "text": [
      "\n"
     ]
    }
   ],
   "source": [
    "initialise_database()\n",
    "exp = load_or_create_experiment(experiment_name='tutorial_exp', sample_name=\"no sample\")"
   ]
  },
  {
   "cell_type": "markdown",
   "metadata": {},
   "source": [
    "Here, we define a simple function to benchmark the time it takes to insert n points with either numeric or array data type.\n",
    "We will compare both the time used to call ``add_result`` and the time used for the full measurement."
   ]
  },
  {
   "cell_type": "code",
   "execution_count": 4,
   "metadata": {},
   "outputs": [],
   "source": [
    "def insert_data(paramtype, npoints, nreps=1):\n",
    "\n",
    "    meas = Measurement(exp=exp)\n",
    "\n",
    "    x1 = ManualParameter('x1')\n",
    "    x2 = ManualParameter('x2')\n",
    "    x3 = ManualParameter('x3')\n",
    "    y1 = ManualParameter('y1')\n",
    "    y2 = ManualParameter('y2')\n",
    "\n",
    "    meas.register_parameter(x1, paramtype=paramtype)\n",
    "    meas.register_parameter(x2, paramtype=paramtype)\n",
    "    meas.register_parameter(x3, paramtype=paramtype)\n",
    "    meas.register_parameter(y1, setpoints=[x1, x2, x3],\n",
    "                            paramtype=paramtype)\n",
    "    meas.register_parameter(y2, setpoints=[x1, x2, x3],\n",
    "                            paramtype=paramtype)\n",
    "    start = time.perf_counter()\n",
    "    with meas.run() as datasaver:\n",
    "        start_adding = time.perf_counter()\n",
    "        for i in range(nreps):\n",
    "            datasaver.add_result((x1, np.random.rand(npoints)),\n",
    "                                 (x2, np.random.rand(npoints)),\n",
    "                                 (x3, np.random.rand(npoints)),\n",
    "                                 (y1, np.random.rand(npoints)),\n",
    "                                 (y2, np.random.rand(npoints)))\n",
    "        stop_adding = time.perf_counter()\n",
    "        run_id = datasaver.run_id\n",
    "    stop = time.perf_counter()\n",
    "    tot_time = stop - start\n",
    "    add_time = stop_adding - start_adding\n",
    "    return tot_time, add_time, run_id"
   ]
  },
  {
   "cell_type": "markdown",
   "metadata": {},
   "source": [
    "## Comparison between numeric/array data and binary blob"
   ]
  },
  {
   "cell_type": "markdown",
   "metadata": {},
   "source": [
    "### Case1: Short experiment time"
   ]
  },
  {
   "cell_type": "code",
   "execution_count": 5,
   "metadata": {},
   "outputs": [
    {
     "name": "stdout",
     "output_type": "stream",
     "text": [
      "Starting experimental run with id: 1. \n",
      "Starting experimental run with id: 2. \n",
      "Starting experimental run with id: 3. \n"
     ]
    },
    {
     "name": "stdout",
     "output_type": "stream",
     "text": [
      "Starting experimental run with id: 4. \n"
     ]
    },
    {
     "name": "stdout",
     "output_type": "stream",
     "text": [
      "Starting experimental run with id: 5. \n"
     ]
    },
    {
     "name": "stdout",
     "output_type": "stream",
     "text": [
      "Starting experimental run with id: 6. \n",
      "Starting experimental run with id: 7. \n"
     ]
    },
    {
     "name": "stdout",
     "output_type": "stream",
     "text": [
      "Starting experimental run with id: 8. \n"
     ]
    },
    {
     "name": "stdout",
     "output_type": "stream",
     "text": [
      "Starting experimental run with id: 9. \n"
     ]
    },
    {
     "name": "stdout",
     "output_type": "stream",
     "text": [
      "Starting experimental run with id: 10. \n",
      "Starting experimental run with id: 11. \n"
     ]
    },
    {
     "name": "stdout",
     "output_type": "stream",
     "text": [
      "Starting experimental run with id: 12. \n"
     ]
    },
    {
     "name": "stdout",
     "output_type": "stream",
     "text": [
      "Starting experimental run with id: 13. \n"
     ]
    },
    {
     "name": "stdout",
     "output_type": "stream",
     "text": [
      "Starting experimental run with id: 14. \n"
     ]
    }
   ],
   "source": [
    "sizes = [1,500,1000,2000,3000,4000,5000]\n",
    "t_numeric = []\n",
    "t_numeric_add = []\n",
    "t_array = []\n",
    "t_array_add = []\n",
    "for size in sizes:\n",
    "    tn, tna, run_id_n =  insert_data('numeric', size)\n",
    "    t_numeric.append(tn)\n",
    "    t_numeric_add.append(tna)\n",
    "\n",
    "    ta, taa, run_id_a =  insert_data('array', size)\n",
    "    t_array.append(ta)\n",
    "    t_array_add.append(taa)"
   ]
  },
  {
   "cell_type": "code",
   "execution_count": 6,
   "metadata": {},
   "outputs": [
    {
     "data": {
      "image/png": "[encoded data removed]",
      "text/plain": [
       "<Figure size 432x288 with 1 Axes>"
      ]
     },
     "metadata": {
      "needs_background": "light"
     },
     "output_type": "display_data"
    }
   ],
   "source": [
    "fig, ax = plt.subplots(1,1)\n",
    "ax.plot(sizes, t_numeric, 'o-', label='Inserting row-by-row')\n",
    "ax.plot(sizes, t_numeric_add, 'o-', label='Inserting row-by-row: add_result only')\n",
    "ax.plot(sizes, t_array, 'd-', label='Inserting as binary blob')\n",
    "ax.plot(sizes, t_array_add, 'd-', label='Inserting as binary blob: add_result only')\n",
    "ax.legend()\n",
    "ax.set_xlabel('Array length')\n",
    "ax.set_ylabel('Time (s)')\n",
    "fig.tight_layout()"
   ]
  },
  {
   "cell_type": "markdown",
   "metadata": {},
   "source": [
    "As shown in the latter figure, the time to setup and and close the experiment is approximately 0.4 sec. In case of small array sizes, the difference between inserting values of data as arrays and inserting them row-by-row is relatively unimportant. At larger array sizes, i.e. above 10000 points, the cost of writing data as individual datapoints starts to become important.\n"
   ]
  },
  {
   "cell_type": "markdown",
   "metadata": {},
   "source": [
    "### Case2: Long experiment time "
   ]
  },
  {
   "cell_type": "code",
   "execution_count": 7,
   "metadata": {},
   "outputs": [
    {
     "name": "stdout",
     "output_type": "stream",
     "text": [
      "Starting experimental run with id: 15. \n",
      "Starting experimental run with id: 16. \n",
      "Starting experimental run with id: 17. \n"
     ]
    },
    {
     "name": "stdout",
     "output_type": "stream",
     "text": [
      "Starting experimental run with id: 18. \n",
      "Starting experimental run with id: 19. \n"
     ]
    },
    {
     "name": "stdout",
     "output_type": "stream",
     "text": [
      "Starting experimental run with id: 20. \n"
     ]
    },
    {
     "name": "stdout",
     "output_type": "stream",
     "text": [
      "Starting experimental run with id: 21. \n"
     ]
    },
    {
     "name": "stdout",
     "output_type": "stream",
     "text": [
      "Starting experimental run with id: 22. \n"
     ]
    },
    {
     "name": "stdout",
     "output_type": "stream",
     "text": [
      "Starting experimental run with id: 23. \n"
     ]
    },
    {
     "name": "stdout",
     "output_type": "stream",
     "text": [
      "Starting experimental run with id: 24. \n"
     ]
    },
    {
     "name": "stdout",
     "output_type": "stream",
     "text": [
      "Starting experimental run with id: 25. \n"
     ]
    },
    {
     "name": "stdout",
     "output_type": "stream",
     "text": [
      "Starting experimental run with id: 26. \n"
     ]
    },
    {
     "name": "stdout",
     "output_type": "stream",
     "text": [
      "Starting experimental run with id: 27. \n"
     ]
    },
    {
     "name": "stdout",
     "output_type": "stream",
     "text": [
      "Starting experimental run with id: 28. \n"
     ]
    }
   ],
   "source": [
    "sizes = [1,500,1000,2000,3000,4000,5000]\n",
    "nreps = 100\n",
    "t_numeric = []\n",
    "t_numeric_add = []\n",
    "t_numeric_run_ids = []\n",
    "t_array = []\n",
    "t_array_add = []\n",
    "t_array_run_ids = []\n",
    "for size in sizes:\n",
    "    tn, tna, run_id_n =  insert_data('numeric', size, nreps=nreps)\n",
    "    t_numeric.append(tn)\n",
    "    t_numeric_add.append(tna)\n",
    "    t_numeric_run_ids.append(run_id_n)\n",
    "\n",
    "    ta, taa, run_id_a =  insert_data('array', size, nreps=nreps)\n",
    "    t_array.append(ta)\n",
    "    t_array_add.append(taa)\n",
    "    t_array_run_ids.append(run_id_a)"
   ]
  },
  {
   "cell_type": "code",
   "execution_count": 8,
   "metadata": {
    "scrolled": true
   },
   "outputs": [
    {
     "data": {
      "image/png": "[encoded data removed]",
      "text/plain": [
       "<Figure size 432x288 with 1 Axes>"
      ]
     },
     "metadata": {
      "needs_background": "light"
     },
     "output_type": "display_data"
    }
   ],
   "source": [
    "fig, ax = plt.subplots(1,1)\n",
    "ax.plot(sizes, t_numeric, 'o-', label='Inserting row-by-row')\n",
    "ax.plot(sizes, t_numeric_add, 'o-', label='Inserting row-by-row: add_result only')\n",
    "ax.plot(sizes, t_array, 'd-', label='Inserting as binary blob')\n",
    "ax.plot(sizes, t_array_add, 'd-', label='Inserting as binary blob: add_result only')\n",
    "ax.legend()\n",
    "ax.set_xlabel('Array length')\n",
    "ax.set_ylabel('Time (s)')\n",
    "fig.tight_layout()"
   ]
  },
  {
   "cell_type": "markdown",
   "metadata": {},
   "source": [
    "However, as we increase the length of the experiment, as seen here by repeating the insertion 100 times, we see a big difference between inserting values of the data row-by-row and inserting it as a binary blob."
   ]
  },
  {
   "cell_type": "markdown",
   "metadata": {},
   "source": [
    "## Loading the data "
   ]
  },
  {
   "cell_type": "code",
   "execution_count": 9,
   "metadata": {},
   "outputs": [],
   "source": [
    "from qcodes.dataset.data_set import load_by_id\n",
    "from qcodes.dataset.data_export import get_data_by_id"
   ]
  },
  {
   "cell_type": "markdown",
   "metadata": {},
   "source": [
    "As usual you can load the data by using the ``load_by_id`` function but you will notice that the different storage methods\n",
    "are reflected in shape of the data as it is retrieved. "
   ]
  },
  {
   "cell_type": "code",
   "execution_count": 10,
   "metadata": {},
   "outputs": [],
   "source": [
    "run_id_n = t_numeric_run_ids[0]\n",
    "run_id_a = t_array_run_ids[0]"
   ]
  },
  {
   "cell_type": "code",
   "execution_count": 11,
   "metadata": {
    "scrolled": true
   },
   "outputs": [
    {
     "data": {
      "text/plain": [
       "{'x1': {'x1': array([0.32388784, 0.32388784, 0.89010519, 0.89010519, 0.26689023,\n",
       "         0.26689023, 0.00841444, 0.00841444, 0.69899535, 0.69899535,\n",
       "         0.30584082, 0.30584082, 0.67748988, 0.67748988, 0.52932624,\n",
       "         0.52932624, 0.15947157, 0.15947157, 0.24178559, 0.24178559,\n",
       "         0.38650191, 0.38650191, 0.28111366, 0.28111366, 0.55214955,\n",
       "         0.55214955, 0.73921017, 0.73921017, 0.67985935, 0.67985935,\n",
       "         0.08721081, 0.08721081, 0.18942886, 0.18942886, 0.78233667,\n",
       "         0.78233667, 0.5211278 , 0.5211278 , 0.94505709, 0.94505709,\n",
       "         0.05079654, 0.05079654, 0.64933399, 0.64933399, 0.81598984,\n",
       "         0.81598984, 0.87029594, 0.87029594, 0.14694471, 0.14694471,\n",
       "         0.46024742, 0.46024742, 0.51661866, 0.51661866, 0.25160754,\n",
       "         0.25160754, 0.69769249, 0.69769249, 0.94797423, 0.94797423,\n",
       "         0.88881026, 0.88881026, 0.53067182, 0.53067182, 0.90452005,\n",
       "         0.90452005, 0.10560393, 0.10560393, 0.46785257, 0.46785257,\n",
       "         0.88632132, 0.88632132, 0.28344164, 0.28344164, 0.55066323,\n",
       "         0.55066323, 0.58854133, 0.58854133, 0.18552282, 0.18552282,\n",
       "         0.7835113 , 0.7835113 , 0.77598644, 0.77598644, 0.20404193,\n",
       "         0.20404193, 0.73651972, 0.73651972, 0.33344305, 0.33344305,\n",
       "         0.32812393, 0.32812393, 0.51786238, 0.51786238, 0.91893905,\n",
       "         0.91893905, 0.33533886, 0.33533886, 0.72783919, 0.72783919,\n",
       "         0.71829201, 0.71829201, 0.65788466, 0.65788466, 0.57158673,\n",
       "         0.57158673, 0.11729228, 0.11729228, 0.62450628, 0.62450628,\n",
       "         0.31050662, 0.31050662, 0.82986994, 0.82986994, 0.65975708,\n",
       "         0.65975708, 0.51919397, 0.51919397, 0.01339252, 0.01339252,\n",
       "         0.07067238, 0.07067238, 0.96001056, 0.96001056, 0.58671655,\n",
       "         0.58671655, 0.00230184, 0.00230184, 0.91744176, 0.91744176,\n",
       "         0.65736879, 0.65736879, 0.31910285, 0.31910285, 0.72120651,\n",
       "         0.72120651, 0.2994068 , 0.2994068 , 0.35210711, 0.35210711,\n",
       "         0.01150954, 0.01150954, 0.56211938, 0.56211938, 0.34794298,\n",
       "         0.34794298, 0.03818224, 0.03818224, 0.71815744, 0.71815744,\n",
       "         0.24967219, 0.24967219, 0.07374129, 0.07374129, 0.20415686,\n",
       "         0.20415686, 0.59093012, 0.59093012, 0.38107198, 0.38107198,\n",
       "         0.26336057, 0.26336057, 0.82296283, 0.82296283, 0.72462898,\n",
       "         0.72462898, 0.59041155, 0.59041155, 0.21573729, 0.21573729,\n",
       "         0.90382972, 0.90382972, 0.25360691, 0.25360691, 0.06477202,\n",
       "         0.06477202, 0.10155387, 0.10155387, 0.11265455, 0.11265455,\n",
       "         0.35313934, 0.35313934, 0.2809502 , 0.2809502 , 0.03298736,\n",
       "         0.03298736, 0.83497692, 0.83497692, 0.61593371, 0.61593371,\n",
       "         0.17401425, 0.17401425, 0.82695618, 0.82695618, 0.24534099,\n",
       "         0.24534099, 0.63209746, 0.63209746, 0.68710723, 0.68710723])}}"
      ]
     },
     "execution_count": 11,
     "metadata": {},
     "output_type": "execute_result"
    }
   ],
   "source": [
    "ds = load_by_id(run_id_n)\n",
    "ds.get_parameter_data('x1')"
   ]
  },
  {
   "cell_type": "markdown",
   "metadata": {},
   "source": [
    "And a dataset stored as binary arrays"
   ]
  },
  {
   "cell_type": "code",
   "execution_count": 12,
   "metadata": {
    "scrolled": true
   },
   "outputs": [
    {
     "data": {
      "text/plain": [
       "{'x1': {'x1': array([[0.64535253],\n",
       "         [0.64535253],\n",
       "         [0.34674447],\n",
       "         [0.34674447],\n",
       "         [0.8346217 ],\n",
       "         [0.8346217 ],\n",
       "         [0.07555761],\n",
       "         [0.07555761],\n",
       "         [0.48266418],\n",
       "         [0.48266418],\n",
       "         [0.20875192],\n",
       "         [0.20875192],\n",
       "         [0.32636299],\n",
       "         [0.32636299],\n",
       "         [0.97231573],\n",
       "         [0.97231573],\n",
       "         [0.82345868],\n",
       "         [0.82345868],\n",
       "         [0.55330659],\n",
       "         [0.55330659],\n",
       "         [0.94896952],\n",
       "         [0.94896952],\n",
       "         [0.74059118],\n",
       "         [0.74059118],\n",
       "         [0.48334906],\n",
       "         [0.48334906],\n",
       "         [0.95277841],\n",
       "         [0.95277841],\n",
       "         [0.67940378],\n",
       "         [0.67940378],\n",
       "         [0.09784255],\n",
       "         [0.09784255],\n",
       "         [0.72334975],\n",
       "         [0.72334975],\n",
       "         [0.79061328],\n",
       "         [0.79061328],\n",
       "         [0.90198839],\n",
       "         [0.90198839],\n",
       "         [0.30547942],\n",
       "         [0.30547942],\n",
       "         [0.30962809],\n",
       "         [0.30962809],\n",
       "         [0.71897959],\n",
       "         [0.71897959],\n",
       "         [0.94536761],\n",
       "         [0.94536761],\n",
       "         [0.10995941],\n",
       "         [0.10995941],\n",
       "         [0.93149225],\n",
       "         [0.93149225],\n",
       "         [0.80059354],\n",
       "         [0.80059354],\n",
       "         [0.47536475],\n",
       "         [0.47536475],\n",
       "         [0.41977261],\n",
       "         [0.41977261],\n",
       "         [0.28119058],\n",
       "         [0.28119058],\n",
       "         [0.12278289],\n",
       "         [0.12278289],\n",
       "         [0.29899666],\n",
       "         [0.29899666],\n",
       "         [0.07443349],\n",
       "         [0.07443349],\n",
       "         [0.73304906],\n",
       "         [0.73304906],\n",
       "         [0.66644344],\n",
       "         [0.66644344],\n",
       "         [0.86778941],\n",
       "         [0.86778941],\n",
       "         [0.1383506 ],\n",
       "         [0.1383506 ],\n",
       "         [0.1533232 ],\n",
       "         [0.1533232 ],\n",
       "         [0.79424815],\n",
       "         [0.79424815],\n",
       "         [0.88299098],\n",
       "         [0.88299098],\n",
       "         [0.79377415],\n",
       "         [0.79377415],\n",
       "         [0.97041997],\n",
       "         [0.97041997],\n",
       "         [0.0031872 ],\n",
       "         [0.0031872 ],\n",
       "         [0.336196  ],\n",
       "         [0.336196  ],\n",
       "         [0.88949084],\n",
       "         [0.88949084],\n",
       "         [0.65986407],\n",
       "         [0.65986407],\n",
       "         [0.668994  ],\n",
       "         [0.668994  ],\n",
       "         [0.4627694 ],\n",
       "         [0.4627694 ],\n",
       "         [0.61355735],\n",
       "         [0.61355735],\n",
       "         [0.00190543],\n",
       "         [0.00190543],\n",
       "         [0.92178803],\n",
       "         [0.92178803],\n",
       "         [0.13102658],\n",
       "         [0.13102658],\n",
       "         [0.17340039],\n",
       "         [0.17340039],\n",
       "         [0.69023465],\n",
       "         [0.69023465],\n",
       "         [0.63824579],\n",
       "         [0.63824579],\n",
       "         [0.12803592],\n",
       "         [0.12803592],\n",
       "         [0.40230252],\n",
       "         [0.40230252],\n",
       "         [0.91509505],\n",
       "         [0.91509505],\n",
       "         [0.3294955 ],\n",
       "         [0.3294955 ],\n",
       "         [0.2874523 ],\n",
       "         [0.2874523 ],\n",
       "         [0.09478355],\n",
       "         [0.09478355],\n",
       "         [0.29726119],\n",
       "         [0.29726119],\n",
       "         [0.81414438],\n",
       "         [0.81414438],\n",
       "         [0.94746104],\n",
       "         [0.94746104],\n",
       "         [0.40953917],\n",
       "         [0.40953917],\n",
       "         [0.92535976],\n",
       "         [0.92535976],\n",
       "         [0.36123021],\n",
       "         [0.36123021],\n",
       "         [0.67697102],\n",
       "         [0.67697102],\n",
       "         [0.49641106],\n",
       "         [0.49641106],\n",
       "         [0.3971119 ],\n",
       "         [0.3971119 ],\n",
       "         [0.65720182],\n",
       "         [0.65720182],\n",
       "         [0.75478334],\n",
       "         [0.75478334],\n",
       "         [0.49568698],\n",
       "         [0.49568698],\n",
       "         [0.24034653],\n",
       "         [0.24034653],\n",
       "         [0.40320425],\n",
       "         [0.40320425],\n",
       "         [0.17393698],\n",
       "         [0.17393698],\n",
       "         [0.31635303],\n",
       "         [0.31635303],\n",
       "         [0.71794604],\n",
       "         [0.71794604],\n",
       "         [0.70882444],\n",
       "         [0.70882444],\n",
       "         [0.30790461],\n",
       "         [0.30790461],\n",
       "         [0.27854908],\n",
       "         [0.27854908],\n",
       "         [0.93507445],\n",
       "         [0.93507445],\n",
       "         [0.8096992 ],\n",
       "         [0.8096992 ],\n",
       "         [0.87244059],\n",
       "         [0.87244059],\n",
       "         [0.36079617],\n",
       "         [0.36079617],\n",
       "         [0.76711022],\n",
       "         [0.76711022],\n",
       "         [0.91706482],\n",
       "         [0.91706482],\n",
       "         [0.28497101],\n",
       "         [0.28497101],\n",
       "         [0.03356751],\n",
       "         [0.03356751],\n",
       "         [0.41944776],\n",
       "         [0.41944776],\n",
       "         [0.13967096],\n",
       "         [0.13967096],\n",
       "         [0.11211426],\n",
       "         [0.11211426],\n",
       "         [0.99155079],\n",
       "         [0.99155079],\n",
       "         [0.27369023],\n",
       "         [0.27369023],\n",
       "         [0.97718026],\n",
       "         [0.97718026],\n",
       "         [0.52631685],\n",
       "         [0.52631685],\n",
       "         [0.80555869],\n",
       "         [0.80555869],\n",
       "         [0.55697064],\n",
       "         [0.55697064],\n",
       "         [0.3886998 ],\n",
       "         [0.3886998 ],\n",
       "         [0.48633816],\n",
       "         [0.48633816],\n",
       "         [0.09635372],\n",
       "         [0.09635372]])}}"
      ]
     },
     "execution_count": 12,
     "metadata": {},
     "output_type": "execute_result"
    }
   ],
   "source": [
    "ds = load_by_id(run_id_a)\n",
    "ds.get_parameter_data('x1')"
   ]
  },
  {
   "cell_type": "code",
   "execution_count": null,
   "metadata": {},
   "outputs": [],
   "source": []
  }
 ],
 "metadata": {
  "kernelspec": {
   "display_name": "Python 3",
   "language": "python",
   "name": "python3"
  },
  "language_info": {
   "codemirror_mode": {
    "name": "ipython",
    "version": 3
   },
   "file_extension": ".py",
   "mimetype": "text/x-python",
   "name": "python",
   "nbconvert_exporter": "python",
   "pygments_lexer": "ipython3",
   "version": "3.7.7"
  },
  "nbsphinx": {
   "timeout": 600
  },
  "toc": {
   "base_numbering": 1,
   "nav_menu": {},
   "number_sections": true,
   "sideBar": true,
   "skip_h1_title": false,
   "title_cell": "Table of Contents",
   "title_sidebar": "Contents",
   "toc_cell": false,
   "toc_position": {},
   "toc_section_display": true,
   "toc_window_display": false
  },
  "varInspector": {
   "cols": {
    "lenName": 16,
    "lenType": 16,
    "lenVar": 40
   },
   "kernels_config": {
    "python": {
     "delete_cmd_postfix": "",
     "delete_cmd_prefix": "del ",
     "library": "var_list.py",
     "varRefreshCmd": "print(var_dic_list())"
    },
    "r": {
     "delete_cmd_postfix": ") ",
     "delete_cmd_prefix": "rm(",
     "library": "var_list.r",
     "varRefreshCmd": "cat(var_dic_list()) "
    }
   },
   "types_to_exclude": [
    "module",
    "function",
    "builtin_function_or_method",
    "instance",
    "_Feature"
   ],
   "window_display": false
  }
 },
 "nbformat": 4,
 "nbformat_minor": 2
}
