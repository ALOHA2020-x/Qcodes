{
 "cells": [
  {
   "cell_type": "markdown",
   "metadata": {},
   "source": [
    "# DataSet Performance\n",
    "\n",
    "This notebook shows the trade-off between inserting data into a database row-by-row and as binary blobs. Inserting the data row-by-row means that we have direct access to all the data and may perform queries directly on the values of the data. On the other hand, as we shall see, this is much slower than inserting the data directly as binary blobs."
   ]
  },
  {
   "cell_type": "markdown",
   "metadata": {},
   "source": [
    "First, we choose a new location for the database to ensure that we don't add a bunch of benchmarking data to the default one."
   ]
  },
  {
   "cell_type": "code",
   "execution_count": 1,
   "metadata": {
    "execution": {
     "iopub.execute_input": "2021-03-22T07:54:13.325449Z",
     "iopub.status.busy": "2021-03-22T07:54:13.324832Z",
     "iopub.status.idle": "2021-03-22T07:54:14.310262Z",
     "shell.execute_reply": "2021-03-22T07:54:14.309572Z"
    }
   },
   "outputs": [
    {
     "name": "stdout",
     "output_type": "stream",
     "text": [
      "Logging hadn't been started.\n",
      "Activating auto-logging. Current session state plus future input saved.\n",
      "Filename       : /home/runner/.qcodes/logs/command_history.log\n",
      "Mode           : append\n",
      "Output logging : True\n",
      "Raw input log  : False\n",
      "Timestamping   : True\n",
      "State          : active\n"
     ]
    },
    {
     "name": "stdout",
     "output_type": "stream",
     "text": [
      "Qcodes Logfile : /home/runner/.qcodes/logs/210322-4427-qcodes.log\n"
     ]
    }
   ],
   "source": [
    "import os\n",
    "cwd = os.getcwd()\n",
    "import qcodes as qc\n",
    "qc.config[\"core\"][\"db_location\"] = os.path.join(cwd, 'testing.db')\n"
   ]
  },
  {
   "cell_type": "code",
   "execution_count": 2,
   "metadata": {
    "execution": {
     "iopub.execute_input": "2021-03-22T07:54:14.318018Z",
     "iopub.status.busy": "2021-03-22T07:54:14.316941Z",
     "iopub.status.idle": "2021-03-22T07:54:14.538210Z",
     "shell.execute_reply": "2021-03-22T07:54:14.538762Z"
    }
   },
   "outputs": [],
   "source": [
    "%matplotlib inline\n",
    "import time\n",
    "import matplotlib.pyplot as plt\n",
    "import numpy as np\n",
    "\n",
    "import qcodes as qc\n",
    "from qcodes.instrument.parameter import ManualParameter\n",
    "from qcodes.dataset.experiment_container import (Experiment,\n",
    "                                                 load_last_experiment,\n",
    "                                                 new_experiment)\n",
    "from qcodes.dataset.sqlite.database import initialise_database\n",
    "from qcodes import load_or_create_experiment\n",
    "from qcodes.dataset.measurements import Measurement"
   ]
  },
  {
   "cell_type": "code",
   "execution_count": 3,
   "metadata": {
    "execution": {
     "iopub.execute_input": "2021-03-22T07:54:14.543678Z",
     "iopub.status.busy": "2021-03-22T07:54:14.542835Z",
     "iopub.status.idle": "2021-03-22T07:54:14.651357Z",
     "shell.execute_reply": "2021-03-22T07:54:14.651892Z"
    }
   },
   "outputs": [
    {
     "name": "stdout",
     "output_type": "stream",
     "text": [
      "\r",
      "0it [00:00, ?it/s]"
     ]
    },
    {
     "name": "stdout",
     "output_type": "stream",
     "text": [
      "\r",
      "Upgrading database; v0 -> v1: : 0it [00:00, ?it/s]"
     ]
    },
    {
     "name": "stdout",
     "output_type": "stream",
     "text": [
      "\r",
      "Upgrading database; v0 -> v1: : 0it [00:00, ?it/s]"
     ]
    },
    {
     "name": "stdout",
     "output_type": "stream",
     "text": [
      "\n",
      "\r",
      "  0%|          | 0/1 [00:00<?, ?it/s]"
     ]
    },
    {
     "name": "stdout",
     "output_type": "stream",
     "text": [
      "\r",
      "Upgrading database; v1 -> v2:   0%|          | 0/1 [00:00<?, ?it/s]"
     ]
    },
    {
     "name": "stdout",
     "output_type": "stream",
     "text": [
      "\r",
      "Upgrading database; v1 -> v2: 100%|██████████| 1/1 [00:00<00:00, 696.61it/s]"
     ]
    },
    {
     "name": "stdout",
     "output_type": "stream",
     "text": [
      "\n",
      "\r",
      "0it [00:00, ?it/s]"
     ]
    },
    {
     "name": "stdout",
     "output_type": "stream",
     "text": [
      "\r",
      "Upgrading database; v2 -> v3: : 0it [00:00, ?it/s]"
     ]
    },
    {
     "name": "stdout",
     "output_type": "stream",
     "text": [
      "\r",
      "Upgrading database; v2 -> v3: : 0it [00:00, ?it/s]"
     ]
    },
    {
     "name": "stdout",
     "output_type": "stream",
     "text": [
      "\n",
      "\r",
      "0it [00:00, ?it/s]"
     ]
    },
    {
     "name": "stdout",
     "output_type": "stream",
     "text": [
      "\r",
      "Upgrading database; v3 -> v4: : 0it [00:00, ?it/s]"
     ]
    },
    {
     "name": "stdout",
     "output_type": "stream",
     "text": [
      "\r",
      "Upgrading database; v3 -> v4: : 0it [00:00, ?it/s]"
     ]
    },
    {
     "name": "stdout",
     "output_type": "stream",
     "text": [
      "\n",
      "\r",
      "  0%|          | 0/1 [00:00<?, ?it/s]"
     ]
    },
    {
     "name": "stdout",
     "output_type": "stream",
     "text": [
      "\r",
      "Upgrading database; v4 -> v5:   0%|          | 0/1 [00:00<?, ?it/s]"
     ]
    },
    {
     "name": "stdout",
     "output_type": "stream",
     "text": [
      "\r",
      "Upgrading database; v4 -> v5: 100%|██████████| 1/1 [00:00<00:00, 390.79it/s]"
     ]
    },
    {
     "name": "stdout",
     "output_type": "stream",
     "text": [
      "\n",
      "\r",
      "0it [00:00, ?it/s]"
     ]
    },
    {
     "name": "stdout",
     "output_type": "stream",
     "text": [
      "\r",
      "Upgrading database; v5 -> v6: : 0it [00:00, ?it/s]"
     ]
    },
    {
     "name": "stdout",
     "output_type": "stream",
     "text": [
      "\r",
      "Upgrading database; v5 -> v6: : 0it [00:00, ?it/s]"
     ]
    },
    {
     "name": "stdout",
     "output_type": "stream",
     "text": [
      "\n",
      "\r",
      "  0%|          | 0/1 [00:00<?, ?it/s]"
     ]
    },
    {
     "name": "stdout",
     "output_type": "stream",
     "text": [
      "\r",
      "Upgrading database; v6 -> v7:   0%|          | 0/1 [00:00<?, ?it/s]"
     ]
    },
    {
     "name": "stdout",
     "output_type": "stream",
     "text": [
      "\r",
      "Upgrading database; v6 -> v7: 100%|██████████| 1/1 [00:00<00:00, 233.51it/s]"
     ]
    },
    {
     "name": "stdout",
     "output_type": "stream",
     "text": [
      "\n",
      "\r",
      "  0%|          | 0/1 [00:00<?, ?it/s]"
     ]
    },
    {
     "name": "stdout",
     "output_type": "stream",
     "text": [
      "\r",
      "Upgrading database; v7 -> v8:   0%|          | 0/1 [00:00<?, ?it/s]"
     ]
    },
    {
     "name": "stdout",
     "output_type": "stream",
     "text": [
      "\r",
      "Upgrading database; v7 -> v8: 100%|██████████| 1/1 [00:00<00:00, 376.47it/s]"
     ]
    },
    {
     "name": "stdout",
     "output_type": "stream",
     "text": [
      "\n",
      "\r",
      "  0%|          | 0/1 [00:00<?, ?it/s]"
     ]
    },
    {
     "name": "stdout",
     "output_type": "stream",
     "text": [
      "\r",
      "Upgrading database; v8 -> v9:   0%|          | 0/1 [00:00<?, ?it/s]"
     ]
    },
    {
     "name": "stdout",
     "output_type": "stream",
     "text": [
      "\r",
      "Upgrading database; v8 -> v9: 100%|██████████| 1/1 [00:00<00:00, 637.63it/s]"
     ]
    },
    {
     "name": "stdout",
     "output_type": "stream",
     "text": [
      "\n"
     ]
    }
   ],
   "source": [
    "initialise_database()\n",
    "exp = load_or_create_experiment(experiment_name='tutorial_exp', sample_name=\"no sample\")"
   ]
  },
  {
   "cell_type": "markdown",
   "metadata": {},
   "source": [
    "Here, we define a simple function to benchmark the time it takes to insert n points with either numeric or array data type.\n",
    "We will compare both the time used to call ``add_result`` and the time used for the full measurement."
   ]
  },
  {
   "cell_type": "code",
   "execution_count": 4,
   "metadata": {
    "execution": {
     "iopub.execute_input": "2021-03-22T07:54:14.661118Z",
     "iopub.status.busy": "2021-03-22T07:54:14.659171Z",
     "iopub.status.idle": "2021-03-22T07:54:14.662983Z",
     "shell.execute_reply": "2021-03-22T07:54:14.663463Z"
    }
   },
   "outputs": [],
   "source": [
    "def insert_data(paramtype, npoints, nreps=1):\n",
    "\n",
    "    meas = Measurement(exp=exp)\n",
    "\n",
    "    x1 = ManualParameter('x1')\n",
    "    x2 = ManualParameter('x2')\n",
    "    x3 = ManualParameter('x3')\n",
    "    y1 = ManualParameter('y1')\n",
    "    y2 = ManualParameter('y2')\n",
    "\n",
    "    meas.register_parameter(x1, paramtype=paramtype)\n",
    "    meas.register_parameter(x2, paramtype=paramtype)\n",
    "    meas.register_parameter(x3, paramtype=paramtype)\n",
    "    meas.register_parameter(y1, setpoints=[x1, x2, x3],\n",
    "                            paramtype=paramtype)\n",
    "    meas.register_parameter(y2, setpoints=[x1, x2, x3],\n",
    "                            paramtype=paramtype)\n",
    "    start = time.perf_counter()\n",
    "    with meas.run() as datasaver:\n",
    "        start_adding = time.perf_counter()\n",
    "        for i in range(nreps):\n",
    "            datasaver.add_result((x1, np.random.rand(npoints)),\n",
    "                                 (x2, np.random.rand(npoints)),\n",
    "                                 (x3, np.random.rand(npoints)),\n",
    "                                 (y1, np.random.rand(npoints)),\n",
    "                                 (y2, np.random.rand(npoints)))\n",
    "        stop_adding = time.perf_counter()\n",
    "        run_id = datasaver.run_id\n",
    "    stop = time.perf_counter()\n",
    "    tot_time = stop - start\n",
    "    add_time = stop_adding - start_adding\n",
    "    return tot_time, add_time, run_id"
   ]
  },
  {
   "cell_type": "markdown",
   "metadata": {},
   "source": [
    "## Comparison between numeric/array data and binary blob"
   ]
  },
  {
   "cell_type": "markdown",
   "metadata": {},
   "source": [
    "### Case1: Short experiment time"
   ]
  },
  {
   "cell_type": "code",
   "execution_count": 5,
   "metadata": {
    "execution": {
     "iopub.execute_input": "2021-03-22T07:54:14.670867Z",
     "iopub.status.busy": "2021-03-22T07:54:14.669522Z",
     "iopub.status.idle": "2021-03-22T07:54:15.541431Z",
     "shell.execute_reply": "2021-03-22T07:54:15.540231Z"
    }
   },
   "outputs": [
    {
     "name": "stdout",
     "output_type": "stream",
     "text": [
      "Starting experimental run with id: 1. \n",
      "Starting experimental run with id: 2. \n",
      "Starting experimental run with id: 3. \n",
      "Starting experimental run with id: 4. \n",
      "Starting experimental run with id: 5. \n"
     ]
    },
    {
     "name": "stdout",
     "output_type": "stream",
     "text": [
      "Starting experimental run with id: 6. \n"
     ]
    },
    {
     "name": "stdout",
     "output_type": "stream",
     "text": [
      "Starting experimental run with id: 7. \n"
     ]
    },
    {
     "name": "stdout",
     "output_type": "stream",
     "text": [
      "Starting experimental run with id: 8. \n",
      "Starting experimental run with id: 9. \n"
     ]
    },
    {
     "name": "stdout",
     "output_type": "stream",
     "text": [
      "Starting experimental run with id: 10. \n",
      "Starting experimental run with id: 11. \n"
     ]
    },
    {
     "name": "stdout",
     "output_type": "stream",
     "text": [
      "Starting experimental run with id: 12. \n"
     ]
    },
    {
     "name": "stdout",
     "output_type": "stream",
     "text": [
      "Starting experimental run with id: 13. \n"
     ]
    },
    {
     "name": "stdout",
     "output_type": "stream",
     "text": [
      "Starting experimental run with id: 14. \n"
     ]
    }
   ],
   "source": [
    "sizes = [1,500,1000,2000,3000,4000,5000]\n",
    "t_numeric = []\n",
    "t_numeric_add = []\n",
    "t_array = []\n",
    "t_array_add = []\n",
    "for size in sizes:\n",
    "    tn, tna, run_id_n =  insert_data('numeric', size)\n",
    "    t_numeric.append(tn)\n",
    "    t_numeric_add.append(tna)\n",
    "\n",
    "    ta, taa, run_id_a =  insert_data('array', size)\n",
    "    t_array.append(ta)\n",
    "    t_array_add.append(taa)"
   ]
  },
  {
   "cell_type": "code",
   "execution_count": 6,
   "metadata": {
    "execution": {
     "iopub.execute_input": "2021-03-22T07:54:15.567573Z",
     "iopub.status.busy": "2021-03-22T07:54:15.562074Z",
     "iopub.status.idle": "2021-03-22T07:54:15.812552Z",
     "shell.execute_reply": "2021-03-22T07:54:15.813318Z"
    }
   },
   "outputs": [
    {
     "data": {
      "image/png": "[encoded data removed]",
      "text/plain": [
       "<Figure size 432x288 with 1 Axes>"
      ]
     },
     "metadata": {
      "needs_background": "light"
     },
     "output_type": "display_data"
    }
   ],
   "source": [
    "fig, ax = plt.subplots(1,1)\n",
    "ax.plot(sizes, t_numeric, 'o-', label='Inserting row-by-row')\n",
    "ax.plot(sizes, t_numeric_add, 'o-', label='Inserting row-by-row: add_result only')\n",
    "ax.plot(sizes, t_array, 'd-', label='Inserting as binary blob')\n",
    "ax.plot(sizes, t_array_add, 'd-', label='Inserting as binary blob: add_result only')\n",
    "ax.legend()\n",
    "ax.set_xlabel('Array length')\n",
    "ax.set_ylabel('Time (s)')\n",
    "fig.tight_layout()"
   ]
  },
  {
   "cell_type": "markdown",
   "metadata": {},
   "source": [
    "As shown in the latter figure, the time to setup and and close the experiment is approximately 0.4 sec. In case of small array sizes, the difference between inserting values of data as arrays and inserting them row-by-row is relatively unimportant. At larger array sizes, i.e. above 10000 points, the cost of writing data as individual datapoints starts to become important.\n"
   ]
  },
  {
   "cell_type": "markdown",
   "metadata": {},
   "source": [
    "### Case2: Long experiment time "
   ]
  },
  {
   "cell_type": "code",
   "execution_count": 7,
   "metadata": {
    "execution": {
     "iopub.execute_input": "2021-03-22T07:54:15.821826Z",
     "iopub.status.busy": "2021-03-22T07:54:15.820722Z",
     "iopub.status.idle": "2021-03-22T07:55:14.471913Z",
     "shell.execute_reply": "2021-03-22T07:55:14.471290Z"
    }
   },
   "outputs": [
    {
     "name": "stdout",
     "output_type": "stream",
     "text": [
      "Starting experimental run with id: 15. \n",
      "Starting experimental run with id: 16. \n"
     ]
    },
    {
     "name": "stdout",
     "output_type": "stream",
     "text": [
      "Starting experimental run with id: 17. \n"
     ]
    },
    {
     "name": "stdout",
     "output_type": "stream",
     "text": [
      "Starting experimental run with id: 18. \n"
     ]
    },
    {
     "name": "stdout",
     "output_type": "stream",
     "text": [
      "Starting experimental run with id: 19. \n"
     ]
    },
    {
     "name": "stdout",
     "output_type": "stream",
     "text": [
      "Starting experimental run with id: 20. \n"
     ]
    },
    {
     "name": "stdout",
     "output_type": "stream",
     "text": [
      "Starting experimental run with id: 21. \n"
     ]
    },
    {
     "name": "stdout",
     "output_type": "stream",
     "text": [
      "Starting experimental run with id: 22. \n"
     ]
    },
    {
     "name": "stdout",
     "output_type": "stream",
     "text": [
      "Starting experimental run with id: 23. \n"
     ]
    },
    {
     "name": "stdout",
     "output_type": "stream",
     "text": [
      "Starting experimental run with id: 24. \n"
     ]
    },
    {
     "name": "stdout",
     "output_type": "stream",
     "text": [
      "Starting experimental run with id: 25. \n"
     ]
    },
    {
     "name": "stdout",
     "output_type": "stream",
     "text": [
      "Starting experimental run with id: 26. \n"
     ]
    },
    {
     "name": "stdout",
     "output_type": "stream",
     "text": [
      "Starting experimental run with id: 27. \n"
     ]
    },
    {
     "name": "stdout",
     "output_type": "stream",
     "text": [
      "Starting experimental run with id: 28. \n"
     ]
    }
   ],
   "source": [
    "sizes = [1,500,1000,2000,3000,4000,5000]\n",
    "nreps = 100\n",
    "t_numeric = []\n",
    "t_numeric_add = []\n",
    "t_numeric_run_ids = []\n",
    "t_array = []\n",
    "t_array_add = []\n",
    "t_array_run_ids = []\n",
    "for size in sizes:\n",
    "    tn, tna, run_id_n =  insert_data('numeric', size, nreps=nreps)\n",
    "    t_numeric.append(tn)\n",
    "    t_numeric_add.append(tna)\n",
    "    t_numeric_run_ids.append(run_id_n)\n",
    "\n",
    "    ta, taa, run_id_a =  insert_data('array', size, nreps=nreps)\n",
    "    t_array.append(ta)\n",
    "    t_array_add.append(taa)\n",
    "    t_array_run_ids.append(run_id_a)"
   ]
  },
  {
   "cell_type": "code",
   "execution_count": 8,
   "metadata": {
    "execution": {
     "iopub.execute_input": "2021-03-22T07:55:14.503193Z",
     "iopub.status.busy": "2021-03-22T07:55:14.493343Z",
     "iopub.status.idle": "2021-03-22T07:55:14.739776Z",
     "shell.execute_reply": "2021-03-22T07:55:14.740520Z"
    },
    "scrolled": true
   },
   "outputs": [
    {
     "data": {
      "image/png": "[encoded data removed]",
      "text/plain": [
       "<Figure size 432x288 with 1 Axes>"
      ]
     },
     "metadata": {
      "needs_background": "light"
     },
     "output_type": "display_data"
    }
   ],
   "source": [
    "fig, ax = plt.subplots(1,1)\n",
    "ax.plot(sizes, t_numeric, 'o-', label='Inserting row-by-row')\n",
    "ax.plot(sizes, t_numeric_add, 'o-', label='Inserting row-by-row: add_result only')\n",
    "ax.plot(sizes, t_array, 'd-', label='Inserting as binary blob')\n",
    "ax.plot(sizes, t_array_add, 'd-', label='Inserting as binary blob: add_result only')\n",
    "ax.legend()\n",
    "ax.set_xlabel('Array length')\n",
    "ax.set_ylabel('Time (s)')\n",
    "fig.tight_layout()"
   ]
  },
  {
   "cell_type": "markdown",
   "metadata": {},
   "source": [
    "However, as we increase the length of the experiment, as seen here by repeating the insertion 100 times, we see a big difference between inserting values of the data row-by-row and inserting it as a binary blob."
   ]
  },
  {
   "cell_type": "markdown",
   "metadata": {},
   "source": [
    "## Loading the data "
   ]
  },
  {
   "cell_type": "code",
   "execution_count": 9,
   "metadata": {
    "execution": {
     "iopub.execute_input": "2021-03-22T07:55:14.745814Z",
     "iopub.status.busy": "2021-03-22T07:55:14.744506Z",
     "iopub.status.idle": "2021-03-22T07:55:14.747879Z",
     "shell.execute_reply": "2021-03-22T07:55:14.748349Z"
    }
   },
   "outputs": [],
   "source": [
    "from qcodes.dataset.data_set import load_by_id\n",
    "from qcodes.dataset.data_export import get_data_by_id"
   ]
  },
  {
   "cell_type": "markdown",
   "metadata": {},
   "source": [
    "As usual you can load the data by using the ``load_by_id`` function but you will notice that the different storage methods\n",
    "are reflected in shape of the data as it is retrieved. "
   ]
  },
  {
   "cell_type": "code",
   "execution_count": 10,
   "metadata": {
    "execution": {
     "iopub.execute_input": "2021-03-22T07:55:14.753531Z",
     "iopub.status.busy": "2021-03-22T07:55:14.752148Z",
     "iopub.status.idle": "2021-03-22T07:55:14.754288Z",
     "shell.execute_reply": "2021-03-22T07:55:14.754903Z"
    }
   },
   "outputs": [],
   "source": [
    "run_id_n = t_numeric_run_ids[0]\n",
    "run_id_a = t_array_run_ids[0]"
   ]
  },
  {
   "cell_type": "code",
   "execution_count": 11,
   "metadata": {
    "execution": {
     "iopub.execute_input": "2021-03-22T07:55:14.758871Z",
     "iopub.status.busy": "2021-03-22T07:55:14.758255Z",
     "iopub.status.idle": "2021-03-22T07:55:14.771232Z",
     "shell.execute_reply": "2021-03-22T07:55:14.771787Z"
    },
    "scrolled": true
   },
   "outputs": [
    {
     "data": {
      "text/plain": [
       "{'x1': {'x1': array([0.67010684, 0.67010684, 0.439497  , 0.439497  , 0.74227236,\n",
       "         0.74227236, 0.59427597, 0.59427597, 0.34178413, 0.34178413,\n",
       "         0.35799728, 0.35799728, 0.46664548, 0.46664548, 0.77818838,\n",
       "         0.77818838, 0.46122199, 0.46122199, 0.59012882, 0.59012882,\n",
       "         0.7329645 , 0.7329645 , 0.90713811, 0.90713811, 0.43682172,\n",
       "         0.43682172, 0.41586691, 0.41586691, 0.23987931, 0.23987931,\n",
       "         0.59378089, 0.59378089, 0.11164237, 0.11164237, 0.59727975,\n",
       "         0.59727975, 0.60558329, 0.60558329, 0.23103508, 0.23103508,\n",
       "         0.23476095, 0.23476095, 0.05252744, 0.05252744, 0.45962319,\n",
       "         0.45962319, 0.2414345 , 0.2414345 , 0.94976371, 0.94976371,\n",
       "         0.15676312, 0.15676312, 0.35661706, 0.35661706, 0.69676071,\n",
       "         0.69676071, 0.82959248, 0.82959248, 0.99898233, 0.99898233,\n",
       "         0.99899495, 0.99899495, 0.51860716, 0.51860716, 0.20328084,\n",
       "         0.20328084, 0.81507194, 0.81507194, 0.69702475, 0.69702475,\n",
       "         0.32543782, 0.32543782, 0.82152381, 0.82152381, 0.08496775,\n",
       "         0.08496775, 0.95825234, 0.95825234, 0.79709562, 0.79709562,\n",
       "         0.75216418, 0.75216418, 0.82053414, 0.82053414, 0.04987828,\n",
       "         0.04987828, 0.31300373, 0.31300373, 0.26504531, 0.26504531,\n",
       "         0.84093598, 0.84093598, 0.43924994, 0.43924994, 0.08241507,\n",
       "         0.08241507, 0.95273873, 0.95273873, 0.84102517, 0.84102517,\n",
       "         0.69826901, 0.69826901, 0.79243043, 0.79243043, 0.04741691,\n",
       "         0.04741691, 0.96834965, 0.96834965, 0.79645477, 0.79645477,\n",
       "         0.12051845, 0.12051845, 0.02085165, 0.02085165, 0.68639002,\n",
       "         0.68639002, 0.57454885, 0.57454885, 0.90410746, 0.90410746,\n",
       "         0.85956673, 0.85956673, 0.62422921, 0.62422921, 0.31037993,\n",
       "         0.31037993, 0.46958594, 0.46958594, 0.29592821, 0.29592821,\n",
       "         0.57080488, 0.57080488, 0.09338948, 0.09338948, 0.44126814,\n",
       "         0.44126814, 0.766626  , 0.766626  , 0.2424828 , 0.2424828 ,\n",
       "         0.13502376, 0.13502376, 0.50728849, 0.50728849, 0.7425    ,\n",
       "         0.7425    , 0.58728747, 0.58728747, 0.96623057, 0.96623057,\n",
       "         0.87576672, 0.87576672, 0.35325295, 0.35325295, 0.93665932,\n",
       "         0.93665932, 0.85442079, 0.85442079, 0.62971995, 0.62971995,\n",
       "         0.0640534 , 0.0640534 , 0.15511525, 0.15511525, 0.65582426,\n",
       "         0.65582426, 0.98046103, 0.98046103, 0.21065177, 0.21065177,\n",
       "         0.47178142, 0.47178142, 0.25291304, 0.25291304, 0.23195974,\n",
       "         0.23195974, 0.50134511, 0.50134511, 0.34541845, 0.34541845,\n",
       "         0.86224357, 0.86224357, 0.76040526, 0.76040526, 0.20128878,\n",
       "         0.20128878, 0.94560941, 0.94560941, 0.84640618, 0.84640618,\n",
       "         0.66530174, 0.66530174, 0.05810264, 0.05810264, 0.28408989,\n",
       "         0.28408989, 0.25445027, 0.25445027, 0.33278471, 0.33278471])}}"
      ]
     },
     "execution_count": 1,
     "metadata": {},
     "output_type": "execute_result"
    }
   ],
   "source": [
    "ds = load_by_id(run_id_n)\n",
    "ds.get_parameter_data('x1')"
   ]
  },
  {
   "cell_type": "markdown",
   "metadata": {},
   "source": [
    "And a dataset stored as binary arrays"
   ]
  },
  {
   "cell_type": "code",
   "execution_count": 12,
   "metadata": {
    "execution": {
     "iopub.execute_input": "2021-03-22T07:55:14.775849Z",
     "iopub.status.busy": "2021-03-22T07:55:14.775209Z",
     "iopub.status.idle": "2021-03-22T07:55:14.848431Z",
     "shell.execute_reply": "2021-03-22T07:55:14.848995Z"
    },
    "scrolled": true
   },
   "outputs": [
    {
     "data": {
      "text/plain": [
       "{'x1': {'x1': array([[0.85918188],\n",
       "         [0.85918188],\n",
       "         [0.46118917],\n",
       "         [0.46118917],\n",
       "         [0.29009725],\n",
       "         [0.29009725],\n",
       "         [0.14646918],\n",
       "         [0.14646918],\n",
       "         [0.56362193],\n",
       "         [0.56362193],\n",
       "         [0.93118141],\n",
       "         [0.93118141],\n",
       "         [0.85207076],\n",
       "         [0.85207076],\n",
       "         [0.19735569],\n",
       "         [0.19735569],\n",
       "         [0.06835439],\n",
       "         [0.06835439],\n",
       "         [0.94535876],\n",
       "         [0.94535876],\n",
       "         [0.19823622],\n",
       "         [0.19823622],\n",
       "         [0.0931727 ],\n",
       "         [0.0931727 ],\n",
       "         [0.5981474 ],\n",
       "         [0.5981474 ],\n",
       "         [0.8074863 ],\n",
       "         [0.8074863 ],\n",
       "         [0.32217501],\n",
       "         [0.32217501],\n",
       "         [0.81451239],\n",
       "         [0.81451239],\n",
       "         [0.14223586],\n",
       "         [0.14223586],\n",
       "         [0.45950147],\n",
       "         [0.45950147],\n",
       "         [0.43702511],\n",
       "         [0.43702511],\n",
       "         [0.67966896],\n",
       "         [0.67966896],\n",
       "         [0.41354032],\n",
       "         [0.41354032],\n",
       "         [0.7842464 ],\n",
       "         [0.7842464 ],\n",
       "         [0.63395605],\n",
       "         [0.63395605],\n",
       "         [0.86615259],\n",
       "         [0.86615259],\n",
       "         [0.48320683],\n",
       "         [0.48320683],\n",
       "         [0.07538176],\n",
       "         [0.07538176],\n",
       "         [0.37638649],\n",
       "         [0.37638649],\n",
       "         [0.20697181],\n",
       "         [0.20697181],\n",
       "         [0.18794561],\n",
       "         [0.18794561],\n",
       "         [0.91106468],\n",
       "         [0.91106468],\n",
       "         [0.83385685],\n",
       "         [0.83385685],\n",
       "         [0.48694918],\n",
       "         [0.48694918],\n",
       "         [0.84889179],\n",
       "         [0.84889179],\n",
       "         [0.69225532],\n",
       "         [0.69225532],\n",
       "         [0.87128623],\n",
       "         [0.87128623],\n",
       "         [0.75299222],\n",
       "         [0.75299222],\n",
       "         [0.92274629],\n",
       "         [0.92274629],\n",
       "         [0.86378336],\n",
       "         [0.86378336],\n",
       "         [0.81916768],\n",
       "         [0.81916768],\n",
       "         [0.07704515],\n",
       "         [0.07704515],\n",
       "         [0.03736318],\n",
       "         [0.03736318],\n",
       "         [0.62932511],\n",
       "         [0.62932511],\n",
       "         [0.44274403],\n",
       "         [0.44274403],\n",
       "         [0.54242962],\n",
       "         [0.54242962],\n",
       "         [0.43929207],\n",
       "         [0.43929207],\n",
       "         [0.87502934],\n",
       "         [0.87502934],\n",
       "         [0.16700232],\n",
       "         [0.16700232],\n",
       "         [0.93207746],\n",
       "         [0.93207746],\n",
       "         [0.29470911],\n",
       "         [0.29470911],\n",
       "         [0.95738047],\n",
       "         [0.95738047],\n",
       "         [0.91673806],\n",
       "         [0.91673806],\n",
       "         [0.96653698],\n",
       "         [0.96653698],\n",
       "         [0.23959804],\n",
       "         [0.23959804],\n",
       "         [0.08559013],\n",
       "         [0.08559013],\n",
       "         [0.34899755],\n",
       "         [0.34899755],\n",
       "         [0.72133969],\n",
       "         [0.72133969],\n",
       "         [0.71257669],\n",
       "         [0.71257669],\n",
       "         [0.30871374],\n",
       "         [0.30871374],\n",
       "         [0.21537648],\n",
       "         [0.21537648],\n",
       "         [0.02455526],\n",
       "         [0.02455526],\n",
       "         [0.13495937],\n",
       "         [0.13495937],\n",
       "         [0.30926161],\n",
       "         [0.30926161],\n",
       "         [0.95870731],\n",
       "         [0.95870731],\n",
       "         [0.22627724],\n",
       "         [0.22627724],\n",
       "         [0.67350545],\n",
       "         [0.67350545],\n",
       "         [0.96392223],\n",
       "         [0.96392223],\n",
       "         [0.1935715 ],\n",
       "         [0.1935715 ],\n",
       "         [0.67790826],\n",
       "         [0.67790826],\n",
       "         [0.69823946],\n",
       "         [0.69823946],\n",
       "         [0.3415791 ],\n",
       "         [0.3415791 ],\n",
       "         [0.99121697],\n",
       "         [0.99121697],\n",
       "         [0.63251088],\n",
       "         [0.63251088],\n",
       "         [0.26761902],\n",
       "         [0.26761902],\n",
       "         [0.3461779 ],\n",
       "         [0.3461779 ],\n",
       "         [0.4235566 ],\n",
       "         [0.4235566 ],\n",
       "         [0.7145842 ],\n",
       "         [0.7145842 ],\n",
       "         [0.67058981],\n",
       "         [0.67058981],\n",
       "         [0.27922683],\n",
       "         [0.27922683],\n",
       "         [0.44508195],\n",
       "         [0.44508195],\n",
       "         [0.67428376],\n",
       "         [0.67428376],\n",
       "         [0.95319926],\n",
       "         [0.95319926],\n",
       "         [0.33299183],\n",
       "         [0.33299183],\n",
       "         [0.40706649],\n",
       "         [0.40706649],\n",
       "         [0.55394737],\n",
       "         [0.55394737],\n",
       "         [0.43680569],\n",
       "         [0.43680569],\n",
       "         [0.22125504],\n",
       "         [0.22125504],\n",
       "         [0.66764435],\n",
       "         [0.66764435],\n",
       "         [0.83541381],\n",
       "         [0.83541381],\n",
       "         [0.86581306],\n",
       "         [0.86581306],\n",
       "         [0.587375  ],\n",
       "         [0.587375  ],\n",
       "         [0.74682118],\n",
       "         [0.74682118],\n",
       "         [0.43392787],\n",
       "         [0.43392787],\n",
       "         [0.24891859],\n",
       "         [0.24891859],\n",
       "         [0.41032005],\n",
       "         [0.41032005],\n",
       "         [0.3746744 ],\n",
       "         [0.3746744 ],\n",
       "         [0.76105769],\n",
       "         [0.76105769],\n",
       "         [0.81521886],\n",
       "         [0.81521886],\n",
       "         [0.98310252],\n",
       "         [0.98310252],\n",
       "         [0.1656827 ],\n",
       "         [0.1656827 ],\n",
       "         [0.45230212],\n",
       "         [0.45230212]])}}"
      ]
     },
     "execution_count": 1,
     "metadata": {},
     "output_type": "execute_result"
    }
   ],
   "source": [
    "ds = load_by_id(run_id_a)\n",
    "ds.get_parameter_data('x1')"
   ]
  },
  {
   "cell_type": "code",
   "execution_count": null,
   "metadata": {},
   "outputs": [],
   "source": []
  }
 ],
 "metadata": {
  "kernelspec": {
   "display_name": "Python 3",
   "language": "python",
   "name": "python3"
  },
  "language_info": {
   "codemirror_mode": {
    "name": "ipython",
    "version": 3
   },
   "file_extension": ".py",
   "mimetype": "text/x-python",
   "name": "python",
   "nbconvert_exporter": "python",
   "pygments_lexer": "ipython3",
   "version": "3.7.10"
  },
  "nbsphinx": {
   "timeout": 600
  },
  "toc": {
   "base_numbering": 1,
   "nav_menu": {},
   "number_sections": true,
   "sideBar": true,
   "skip_h1_title": false,
   "title_cell": "Table of Contents",
   "title_sidebar": "Contents",
   "toc_cell": false,
   "toc_position": {},
   "toc_section_display": true,
   "toc_window_display": false
  },
  "varInspector": {
   "cols": {
    "lenName": 16,
    "lenType": 16,
    "lenVar": 40
   },
   "kernels_config": {
    "python": {
     "delete_cmd_postfix": "",
     "delete_cmd_prefix": "del ",
     "library": "var_list.py",
     "varRefreshCmd": "print(var_dic_list())"
    },
    "r": {
     "delete_cmd_postfix": ") ",
     "delete_cmd_prefix": "rm(",
     "library": "var_list.r",
     "varRefreshCmd": "cat(var_dic_list()) "
    }
   },
   "types_to_exclude": [
    "module",
    "function",
    "builtin_function_or_method",
    "instance",
    "_Feature"
   ],
   "window_display": false
  }
 },
 "nbformat": 4,
 "nbformat_minor": 2
}
