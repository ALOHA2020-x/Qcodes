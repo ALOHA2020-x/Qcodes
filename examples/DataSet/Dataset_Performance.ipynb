{
 "cells": [
  {
   "cell_type": "markdown",
   "execution_count": 1,
   "metadata": {},
   "source": [
    "# DataSet Performance\n",
    "\n",
    "This notebook shows the trade-off between inserting data into a database row-by-row and as binary blobs. Inserting the data row-by-row means that we have direct access to all the data and may perform queries directly on the values of the data. On the other hand, as we shall see, this is much slower than inserting the data directly as binary blobs."
   ]
  },
  {
   "cell_type": "markdown",
   "execution_count": 1,
   "metadata": {},
   "source": [
    "First, we choose a new location for the database to ensure that we don't add a bunch of benchmarking data to the default one."
   ]
  },
  {
   "cell_type": "code",
   "execution_count": 1,
   "metadata": {
    "execution": {
     "iopub.execute_input": "2020-09-16T13:10:11.443837Z",
     "iopub.status.busy": "2020-09-16T13:10:11.443436Z",
     "iopub.status.idle": "2020-09-16T13:10:12.343900Z",
     "shell.execute_reply": "2020-09-16T13:10:12.343401Z"
    }
   },
   "outputs": [
    {
     "name": "stdout",
     "output_type": "stream",
     "text": [
      "Logging hadn't been started.\n",
      "Activating auto-logging. Current session state plus future input saved.\n",
      "Filename       : /home/vsts/.qcodes/logs/command_history.log\n",
      "Mode           : append\n",
      "Output logging : True\n",
      "Raw input log  : False\n",
      "Timestamping   : True\n",
      "State          : active\n"
     ]
    },
    {
     "name": "stdout",
     "output_type": "stream",
     "text": [
      "Qcodes Logfile : /home/vsts/.qcodes/logs/200916-19583-qcodes.log\n"
     ]
    }
   ],
   "source": [
    "import os\n",
    "cwd = os.getcwd()\n",
    "import qcodes as qc\n",
    "qc.config[\"core\"][\"db_location\"] = os.path.join(cwd, 'testing.db')\n"
   ]
  },
  {
   "cell_type": "code",
   "execution_count": 2,
   "metadata": {
    "execution": {
     "iopub.execute_input": "2020-09-16T13:10:12.349482Z",
     "iopub.status.busy": "2020-09-16T13:10:12.348717Z",
     "iopub.status.idle": "2020-09-16T13:10:12.496172Z",
     "shell.execute_reply": "2020-09-16T13:10:12.495332Z"
    }
   },
   "outputs": [],
   "source": [
    "%matplotlib inline\n",
    "import time\n",
    "import matplotlib.pyplot as plt\n",
    "import numpy as np\n",
    "\n",
    "import qcodes as qc\n",
    "from qcodes.instrument.parameter import ManualParameter\n",
    "from qcodes.dataset.experiment_container import (Experiment,\n",
    "                                                 load_last_experiment,\n",
    "                                                 new_experiment)\n",
    "from qcodes.dataset.sqlite.database import initialise_database\n",
    "from qcodes import load_or_create_experiment\n",
    "from qcodes.dataset.measurements import Measurement"
   ]
  },
  {
   "cell_type": "code",
   "execution_count": 3,
   "metadata": {
    "execution": {
     "iopub.execute_input": "2020-09-16T13:10:12.499518Z",
     "iopub.status.busy": "2020-09-16T13:10:12.499049Z",
     "iopub.status.idle": "2020-09-16T13:10:12.568698Z",
     "shell.execute_reply": "2020-09-16T13:10:12.568254Z"
    }
   },
   "outputs": [
    {
     "name": "stdout",
     "output_type": "stream",
     "text": [
      "\r",
      "0it [00:00, ?it/s]"
     ]
    },
    {
     "name": "stdout",
     "output_type": "stream",
     "text": [
      "\r",
      "Upgrading database; v0 -> v1: : 0it [00:00, ?it/s]"
     ]
    },
    {
     "name": "stdout",
     "output_type": "stream",
     "text": [
      "\r",
      "Upgrading database; v0 -> v1: : 0it [00:00, ?it/s]"
     ]
    },
    {
     "name": "stdout",
     "output_type": "stream",
     "text": [
      "\n",
      "\r",
      "  0%|          | 0/1 [00:00<?, ?it/s]"
     ]
    },
    {
     "name": "stdout",
     "output_type": "stream",
     "text": [
      "\r",
      "Upgrading database; v1 -> v2:   0%|          | 0/1 [00:00<?, ?it/s]"
     ]
    },
    {
     "name": "stdout",
     "output_type": "stream",
     "text": [
      "\r",
      "Upgrading database; v1 -> v2: 100%|██████████| 1/1 [00:00<00:00, 364.22it/s]"
     ]
    },
    {
     "name": "stdout",
     "output_type": "stream",
     "text": [
      "\n",
      "\r",
      "0it [00:00, ?it/s]"
     ]
    },
    {
     "name": "stdout",
     "output_type": "stream",
     "text": [
      "\r",
      "Upgrading database; v2 -> v3: : 0it [00:00, ?it/s]"
     ]
    },
    {
     "name": "stdout",
     "output_type": "stream",
     "text": [
      "\r",
      "Upgrading database; v2 -> v3: : 0it [00:00, ?it/s]"
     ]
    },
    {
     "name": "stdout",
     "output_type": "stream",
     "text": [
      "\n",
      "\r",
      "0it [00:00, ?it/s]"
     ]
    },
    {
     "name": "stdout",
     "output_type": "stream",
     "text": [
      "\r",
      "Upgrading database; v3 -> v4: : 0it [00:00, ?it/s]"
     ]
    },
    {
     "name": "stdout",
     "output_type": "stream",
     "text": [
      "\r",
      "Upgrading database; v3 -> v4: : 0it [00:00, ?it/s]"
     ]
    },
    {
     "name": "stdout",
     "output_type": "stream",
     "text": [
      "\n",
      "\r",
      "  0%|          | 0/1 [00:00<?, ?it/s]"
     ]
    },
    {
     "name": "stdout",
     "output_type": "stream",
     "text": [
      "\r",
      "Upgrading database; v4 -> v5:   0%|          | 0/1 [00:00<?, ?it/s]"
     ]
    },
    {
     "name": "stdout",
     "output_type": "stream",
     "text": [
      "\r",
      "Upgrading database; v4 -> v5: 100%|██████████| 1/1 [00:00<00:00, 505.70it/s]"
     ]
    },
    {
     "name": "stdout",
     "output_type": "stream",
     "text": [
      "\n",
      "\r",
      "0it [00:00, ?it/s]"
     ]
    },
    {
     "name": "stdout",
     "output_type": "stream",
     "text": [
      "\r",
      "Upgrading database; v5 -> v6: : 0it [00:00, ?it/s]"
     ]
    },
    {
     "name": "stdout",
     "output_type": "stream",
     "text": [
      "\r",
      "Upgrading database; v5 -> v6: : 0it [00:00, ?it/s]"
     ]
    },
    {
     "name": "stdout",
     "output_type": "stream",
     "text": [
      "\n",
      "\r",
      "  0%|          | 0/1 [00:00<?, ?it/s]"
     ]
    },
    {
     "name": "stdout",
     "output_type": "stream",
     "text": [
      "\r",
      "Upgrading database; v6 -> v7:   0%|          | 0/1 [00:00<?, ?it/s]"
     ]
    },
    {
     "name": "stdout",
     "output_type": "stream",
     "text": [
      "\r",
      "Upgrading database; v6 -> v7: 100%|██████████| 1/1 [00:00<00:00, 308.88it/s]"
     ]
    },
    {
     "name": "stdout",
     "output_type": "stream",
     "text": [
      "\n",
      "\r",
      "  0%|          | 0/1 [00:00<?, ?it/s]"
     ]
    },
    {
     "name": "stdout",
     "output_type": "stream",
     "text": [
      "\r",
      "Upgrading database; v7 -> v8:   0%|          | 0/1 [00:00<?, ?it/s]"
     ]
    },
    {
     "name": "stdout",
     "output_type": "stream",
     "text": [
      "\r",
      "Upgrading database; v7 -> v8: 100%|██████████| 1/1 [00:00<00:00, 545.78it/s]"
     ]
    },
    {
     "name": "stdout",
     "output_type": "stream",
     "text": [
      "\n",
      "\r",
      "  0%|          | 0/1 [00:00<?, ?it/s]"
     ]
    },
    {
     "name": "stdout",
     "output_type": "stream",
     "text": [
      "\r",
      "Upgrading database; v8 -> v9:   0%|          | 0/1 [00:00<?, ?it/s]"
     ]
    },
    {
     "name": "stdout",
     "output_type": "stream",
     "text": [
      "\r",
      "Upgrading database; v8 -> v9: 100%|██████████| 1/1 [00:00<00:00, 656.28it/s]"
     ]
    },
    {
     "name": "stdout",
     "output_type": "stream",
     "text": [
      "\n"
     ]
    }
   ],
   "source": [
    "initialise_database()\n",
    "exp = load_or_create_experiment(experiment_name='tutorial_exp', sample_name=\"no sample\")"
   ]
  },
  {
   "cell_type": "markdown",
   "execution_count": 4,
   "metadata": {},
   "source": [
    "Here, we define a simple function to benchmark the time it takes to insert n points with either numeric or array data type.\n",
    "We will compare both the time used to call ``add_result`` and the time used for the full measurement."
   ]
  },
  {
   "cell_type": "code",
   "execution_count": 4,
   "metadata": {
    "execution": {
     "iopub.execute_input": "2020-09-16T13:10:12.576896Z",
     "iopub.status.busy": "2020-09-16T13:10:12.576436Z",
     "iopub.status.idle": "2020-09-16T13:10:12.579143Z",
     "shell.execute_reply": "2020-09-16T13:10:12.579516Z"
    }
   },
   "outputs": [],
   "source": [
    "def insert_data(paramtype, npoints, nreps=1):\n",
    "\n",
    "    meas = Measurement(exp=exp)\n",
    "\n",
    "    x1 = ManualParameter('x1')\n",
    "    x2 = ManualParameter('x2')\n",
    "    x3 = ManualParameter('x3')\n",
    "    y1 = ManualParameter('y1')\n",
    "    y2 = ManualParameter('y2')\n",
    "\n",
    "    meas.register_parameter(x1, paramtype=paramtype)\n",
    "    meas.register_parameter(x2, paramtype=paramtype)\n",
    "    meas.register_parameter(x3, paramtype=paramtype)\n",
    "    meas.register_parameter(y1, setpoints=[x1, x2, x3],\n",
    "                            paramtype=paramtype)\n",
    "    meas.register_parameter(y2, setpoints=[x1, x2, x3],\n",
    "                            paramtype=paramtype)\n",
    "    start = time.perf_counter()\n",
    "    with meas.run() as datasaver:\n",
    "        start_adding = time.perf_counter()\n",
    "        for i in range(nreps):\n",
    "            datasaver.add_result((x1, np.random.rand(npoints)),\n",
    "                                 (x2, np.random.rand(npoints)),\n",
    "                                 (x3, np.random.rand(npoints)),\n",
    "                                 (y1, np.random.rand(npoints)),\n",
    "                                 (y2, np.random.rand(npoints)))\n",
    "        stop_adding = time.perf_counter()\n",
    "        run_id = datasaver.run_id\n",
    "    stop = time.perf_counter()\n",
    "    tot_time = stop - start\n",
    "    add_time = stop_adding - start_adding\n",
    "    return tot_time, add_time, run_id"
   ]
  },
  {
   "cell_type": "markdown",
   "execution_count": 5,
   "metadata": {},
   "source": [
    "## Comparison between numeric/array data and binary blob"
   ]
  },
  {
   "cell_type": "markdown",
   "execution_count": 5,
   "metadata": {},
   "source": [
    "### Case1: Short experiment time"
   ]
  },
  {
   "cell_type": "code",
   "execution_count": 5,
   "metadata": {
    "execution": {
     "iopub.execute_input": "2020-09-16T13:10:12.587382Z",
     "iopub.status.busy": "2020-09-16T13:10:12.586525Z",
     "iopub.status.idle": "2020-09-16T13:10:13.366130Z",
     "shell.execute_reply": "2020-09-16T13:10:13.365352Z"
    }
   },
   "outputs": [
    {
     "name": "stdout",
     "output_type": "stream",
     "text": [
      "Starting experimental run with id: 1. \n",
      "Starting experimental run with id: 2. \n",
      "Starting experimental run with id: 3. \n",
      "Starting experimental run with id: 4. \n"
     ]
    },
    {
     "name": "stdout",
     "output_type": "stream",
     "text": [
      "Starting experimental run with id: 5. \n"
     ]
    },
    {
     "name": "stdout",
     "output_type": "stream",
     "text": [
      "Starting experimental run with id: 6. \n"
     ]
    },
    {
     "name": "stdout",
     "output_type": "stream",
     "text": [
      "Starting experimental run with id: 7. \n"
     ]
    },
    {
     "name": "stdout",
     "output_type": "stream",
     "text": [
      "Starting experimental run with id: 8. \n",
      "Starting experimental run with id: 9. \n"
     ]
    },
    {
     "name": "stdout",
     "output_type": "stream",
     "text": [
      "Starting experimental run with id: 10. \n"
     ]
    },
    {
     "name": "stdout",
     "output_type": "stream",
     "text": [
      "Starting experimental run with id: 11. \n"
     ]
    },
    {
     "name": "stdout",
     "output_type": "stream",
     "text": [
      "Starting experimental run with id: 12. \n",
      "Starting experimental run with id: 13. \n"
     ]
    },
    {
     "name": "stdout",
     "output_type": "stream",
     "text": [
      "Starting experimental run with id: 14. \n"
     ]
    }
   ],
   "source": [
    "sizes = [1,500,1000,2000,3000,4000,5000]\n",
    "t_numeric = []\n",
    "t_numeric_add = []\n",
    "t_array = []\n",
    "t_array_add = []\n",
    "for size in sizes:\n",
    "    tn, tna, run_id_n =  insert_data('numeric', size)\n",
    "    t_numeric.append(tn)\n",
    "    t_numeric_add.append(tna)\n",
    "\n",
    "    ta, taa, run_id_a =  insert_data('array', size)\n",
    "    t_array.append(ta)\n",
    "    t_array_add.append(taa)"
   ]
  },
  {
   "cell_type": "code",
   "execution_count": 6,
   "metadata": {
    "execution": {
     "iopub.execute_input": "2020-09-16T13:10:13.371270Z",
     "iopub.status.busy": "2020-09-16T13:10:13.370763Z",
     "iopub.status.idle": "2020-09-16T13:10:13.548442Z",
     "shell.execute_reply": "2020-09-16T13:10:13.547548Z"
    }
   },
   "outputs": [
    {
     "data": {
      "image/png": "[encoded data removed]",
      "text/plain": [
       "<Figure size 432x288 with 1 Axes>"
      ]
     },
     "metadata": {
      "needs_background": "light"
     },
     "output_type": "display_data"
    }
   ],
   "source": [
    "fig, ax = plt.subplots(1,1)\n",
    "ax.plot(sizes, t_numeric, 'o-', label='Inserting row-by-row')\n",
    "ax.plot(sizes, t_numeric_add, 'o-', label='Inserting row-by-row: add_result only')\n",
    "ax.plot(sizes, t_array, 'd-', label='Inserting as binary blob')\n",
    "ax.plot(sizes, t_array_add, 'd-', label='Inserting as binary blob: add_result only')\n",
    "ax.legend()\n",
    "ax.set_xlabel('Array length')\n",
    "ax.set_ylabel('Time (s)')\n",
    "fig.tight_layout()"
   ]
  },
  {
   "cell_type": "markdown",
   "execution_count": 7,
   "metadata": {},
   "source": [
    "As shown in the latter figure, the time to setup and and close the experiment is approximately 0.4 sec. In case of small array sizes, the difference between inserting values of data as arrays and inserting them row-by-row is relatively unimportant. At larger array sizes, i.e. above 10000 points, the cost of writing data as individual datapoints starts to become important.\n"
   ]
  },
  {
   "cell_type": "markdown",
   "execution_count": 7,
   "metadata": {},
   "source": [
    "### Case2: Long experiment time "
   ]
  },
  {
   "cell_type": "code",
   "execution_count": 7,
   "metadata": {
    "execution": {
     "iopub.execute_input": "2020-09-16T13:10:13.554502Z",
     "iopub.status.busy": "2020-09-16T13:10:13.553650Z",
     "iopub.status.idle": "2020-09-16T13:11:08.677932Z",
     "shell.execute_reply": "2020-09-16T13:11:08.677235Z"
    }
   },
   "outputs": [
    {
     "name": "stdout",
     "output_type": "stream",
     "text": [
      "Starting experimental run with id: 15. \n",
      "Starting experimental run with id: 16. \n",
      "Starting experimental run with id: 17. \n"
     ]
    },
    {
     "name": "stdout",
     "output_type": "stream",
     "text": [
      "Starting experimental run with id: 18. \n",
      "Starting experimental run with id: 19. \n"
     ]
    },
    {
     "name": "stdout",
     "output_type": "stream",
     "text": [
      "Starting experimental run with id: 20. \n"
     ]
    },
    {
     "name": "stdout",
     "output_type": "stream",
     "text": [
      "Starting experimental run with id: 21. \n"
     ]
    },
    {
     "name": "stdout",
     "output_type": "stream",
     "text": [
      "Starting experimental run with id: 22. \n"
     ]
    },
    {
     "name": "stdout",
     "output_type": "stream",
     "text": [
      "Starting experimental run with id: 23. \n"
     ]
    },
    {
     "name": "stdout",
     "output_type": "stream",
     "text": [
      "Starting experimental run with id: 24. \n"
     ]
    },
    {
     "name": "stdout",
     "output_type": "stream",
     "text": [
      "Starting experimental run with id: 25. \n"
     ]
    },
    {
     "name": "stdout",
     "output_type": "stream",
     "text": [
      "Starting experimental run with id: 26. \n"
     ]
    },
    {
     "name": "stdout",
     "output_type": "stream",
     "text": [
      "Starting experimental run with id: 27. \n"
     ]
    },
    {
     "name": "stdout",
     "output_type": "stream",
     "text": [
      "Starting experimental run with id: 28. \n"
     ]
    }
   ],
   "source": [
    "sizes = [1,500,1000,2000,3000,4000,5000]\n",
    "nreps = 100\n",
    "t_numeric = []\n",
    "t_numeric_add = []\n",
    "t_numeric_run_ids = []\n",
    "t_array = []\n",
    "t_array_add = []\n",
    "t_array_run_ids = []\n",
    "for size in sizes:\n",
    "    tn, tna, run_id_n =  insert_data('numeric', size, nreps=nreps)\n",
    "    t_numeric.append(tn)\n",
    "    t_numeric_add.append(tna)\n",
    "    t_numeric_run_ids.append(run_id_n)\n",
    "\n",
    "    ta, taa, run_id_a =  insert_data('array', size, nreps=nreps)\n",
    "    t_array.append(ta)\n",
    "    t_array_add.append(taa)\n",
    "    t_array_run_ids.append(run_id_a)"
   ]
  },
  {
   "cell_type": "code",
   "execution_count": 8,
   "metadata": {
    "execution": {
     "iopub.execute_input": "2020-09-16T13:11:08.692114Z",
     "iopub.status.busy": "2020-09-16T13:11:08.689309Z",
     "iopub.status.idle": "2020-09-16T13:11:08.865186Z",
     "shell.execute_reply": "2020-09-16T13:11:08.865606Z"
    },
    "scrolled": true
   },
   "outputs": [
    {
     "data": {
      "image/png": "[encoded data removed]",
      "text/plain": [
       "<Figure size 432x288 with 1 Axes>"
      ]
     },
     "metadata": {
      "needs_background": "light"
     },
     "output_type": "display_data"
    }
   ],
   "source": [
    "fig, ax = plt.subplots(1,1)\n",
    "ax.plot(sizes, t_numeric, 'o-', label='Inserting row-by-row')\n",
    "ax.plot(sizes, t_numeric_add, 'o-', label='Inserting row-by-row: add_result only')\n",
    "ax.plot(sizes, t_array, 'd-', label='Inserting as binary blob')\n",
    "ax.plot(sizes, t_array_add, 'd-', label='Inserting as binary blob: add_result only')\n",
    "ax.legend()\n",
    "ax.set_xlabel('Array length')\n",
    "ax.set_ylabel('Time (s)')\n",
    "fig.tight_layout()"
   ]
  },
  {
   "cell_type": "markdown",
   "execution_count": 9,
   "metadata": {},
   "source": [
    "However, as we increase the length of the experiment, as seen here by repeating the insertion 100 times, we see a big difference between inserting values of the data row-by-row and inserting it as a binary blob."
   ]
  },
  {
   "cell_type": "markdown",
   "execution_count": 9,
   "metadata": {},
   "source": [
    "## Loading the data "
   ]
  },
  {
   "cell_type": "code",
   "execution_count": 9,
   "metadata": {
    "execution": {
     "iopub.execute_input": "2020-09-16T13:11:08.870062Z",
     "iopub.status.busy": "2020-09-16T13:11:08.868592Z",
     "iopub.status.idle": "2020-09-16T13:11:08.872231Z",
     "shell.execute_reply": "2020-09-16T13:11:08.872647Z"
    }
   },
   "outputs": [],
   "source": [
    "from qcodes.dataset.data_set import load_by_id\n",
    "from qcodes.dataset.data_export import get_data_by_id"
   ]
  },
  {
   "cell_type": "markdown",
   "execution_count": 10,
   "metadata": {},
   "source": [
    "As usual you can load the data by using the ``load_by_id`` function but you will notice that the different storage methods\n",
    "are reflected in shape of the data as it is retrieved. "
   ]
  },
  {
   "cell_type": "code",
   "execution_count": 10,
   "metadata": {
    "execution": {
     "iopub.execute_input": "2020-09-16T13:11:08.875687Z",
     "iopub.status.busy": "2020-09-16T13:11:08.874537Z",
     "iopub.status.idle": "2020-09-16T13:11:08.878514Z",
     "shell.execute_reply": "2020-09-16T13:11:08.877931Z"
    }
   },
   "outputs": [],
   "source": [
    "run_id_n = t_numeric_run_ids[0]\n",
    "run_id_a = t_array_run_ids[0]"
   ]
  },
  {
   "cell_type": "code",
   "execution_count": 11,
   "metadata": {
    "execution": {
     "iopub.execute_input": "2020-09-16T13:11:08.881704Z",
     "iopub.status.busy": "2020-09-16T13:11:08.881193Z",
     "iopub.status.idle": "2020-09-16T13:11:08.891496Z",
     "shell.execute_reply": "2020-09-16T13:11:08.890919Z"
    },
    "scrolled": true
   },
   "outputs": [
    {
     "data": {
      "text/plain": [
       "{'x1': {'x1': array([0.45317698, 0.45317698, 0.35079447, 0.35079447, 0.53618191,\n",
       "         0.53618191, 0.92311955, 0.92311955, 0.09361377, 0.09361377,\n",
       "         0.88339003, 0.88339003, 0.39881859, 0.39881859, 0.51054522,\n",
       "         0.51054522, 0.0782679 , 0.0782679 , 0.57639121, 0.57639121,\n",
       "         0.5427161 , 0.5427161 , 0.60320415, 0.60320415, 0.39449846,\n",
       "         0.39449846, 0.42825988, 0.42825988, 0.15993167, 0.15993167,\n",
       "         0.46045398, 0.46045398, 0.4295364 , 0.4295364 , 0.74116645,\n",
       "         0.74116645, 0.77457808, 0.77457808, 0.49672758, 0.49672758,\n",
       "         0.60505427, 0.60505427, 0.53707348, 0.53707348, 0.32632606,\n",
       "         0.32632606, 0.01530725, 0.01530725, 0.3218329 , 0.3218329 ,\n",
       "         0.41851957, 0.41851957, 0.39411325, 0.39411325, 0.95052652,\n",
       "         0.95052652, 0.71705843, 0.71705843, 0.43293699, 0.43293699,\n",
       "         0.37848509, 0.37848509, 0.58475855, 0.58475855, 0.75780342,\n",
       "         0.75780342, 0.71392058, 0.71392058, 0.86295676, 0.86295676,\n",
       "         0.67242094, 0.67242094, 0.37254468, 0.37254468, 0.28934327,\n",
       "         0.28934327, 0.62030647, 0.62030647, 0.20018656, 0.20018656,\n",
       "         0.78066945, 0.78066945, 0.84866426, 0.84866426, 0.18659315,\n",
       "         0.18659315, 0.09266105, 0.09266105, 0.08889397, 0.08889397,\n",
       "         0.60133313, 0.60133313, 0.12567607, 0.12567607, 0.7725394 ,\n",
       "         0.7725394 , 0.53018157, 0.53018157, 0.65761037, 0.65761037,\n",
       "         0.33513197, 0.33513197, 0.54701512, 0.54701512, 0.52735753,\n",
       "         0.52735753, 0.23711286, 0.23711286, 0.95059951, 0.95059951,\n",
       "         0.05953863, 0.05953863, 0.42067655, 0.42067655, 0.98141167,\n",
       "         0.98141167, 0.81605042, 0.81605042, 0.54200578, 0.54200578,\n",
       "         0.60215258, 0.60215258, 0.21952205, 0.21952205, 0.12054145,\n",
       "         0.12054145, 0.93673667, 0.93673667, 0.16408567, 0.16408567,\n",
       "         0.50509987, 0.50509987, 0.45039523, 0.45039523, 0.50193188,\n",
       "         0.50193188, 0.19541125, 0.19541125, 0.74589354, 0.74589354,\n",
       "         0.53951742, 0.53951742, 0.94339522, 0.94339522, 0.48242089,\n",
       "         0.48242089, 0.08238261, 0.08238261, 0.18254224, 0.18254224,\n",
       "         0.96481583, 0.96481583, 0.28037644, 0.28037644, 0.42948279,\n",
       "         0.42948279, 0.14729972, 0.14729972, 0.53425918, 0.53425918,\n",
       "         0.01230763, 0.01230763, 0.72461627, 0.72461627, 0.84748309,\n",
       "         0.84748309, 0.41115821, 0.41115821, 0.86496283, 0.86496283,\n",
       "         0.45627363, 0.45627363, 0.64823852, 0.64823852, 0.76765445,\n",
       "         0.76765445, 0.01782183, 0.01782183, 0.26712935, 0.26712935,\n",
       "         0.86639977, 0.86639977, 0.16671435, 0.16671435, 0.17468318,\n",
       "         0.17468318, 0.09209479, 0.09209479, 0.29846624, 0.29846624,\n",
       "         0.35243927, 0.35243927, 0.66819622, 0.66819622, 0.05356858,\n",
       "         0.05356858, 0.58627058, 0.58627058, 0.54018376, 0.54018376])}}"
      ]
     },
     "execution_count": 1,
     "metadata": {},
     "output_type": "execute_result"
    }
   ],
   "source": [
    "ds = load_by_id(run_id_n)\n",
    "ds.get_parameter_data('x1')"
   ]
  },
  {
   "cell_type": "markdown",
   "execution_count": 12,
   "metadata": {},
   "source": [
    "And a dataset stored as binary arrays"
   ]
  },
  {
   "cell_type": "code",
   "execution_count": 12,
   "metadata": {
    "execution": {
     "iopub.execute_input": "2020-09-16T13:11:08.894574Z",
     "iopub.status.busy": "2020-09-16T13:11:08.894078Z",
     "iopub.status.idle": "2020-09-16T13:11:08.945702Z",
     "shell.execute_reply": "2020-09-16T13:11:08.946214Z"
    },
    "scrolled": true
   },
   "outputs": [
    {
     "data": {
      "text/plain": [
       "{'x1': {'x1': array([[0.43260407],\n",
       "         [0.43260407],\n",
       "         [0.88930047],\n",
       "         [0.88930047],\n",
       "         [0.58494517],\n",
       "         [0.58494517],\n",
       "         [0.99326395],\n",
       "         [0.99326395],\n",
       "         [0.08207834],\n",
       "         [0.08207834],\n",
       "         [0.46195346],\n",
       "         [0.46195346],\n",
       "         [0.91297892],\n",
       "         [0.91297892],\n",
       "         [0.76081627],\n",
       "         [0.76081627],\n",
       "         [0.31120002],\n",
       "         [0.31120002],\n",
       "         [0.6984367 ],\n",
       "         [0.6984367 ],\n",
       "         [0.73434113],\n",
       "         [0.73434113],\n",
       "         [0.7180091 ],\n",
       "         [0.7180091 ],\n",
       "         [0.76766641],\n",
       "         [0.76766641],\n",
       "         [0.51089611],\n",
       "         [0.51089611],\n",
       "         [0.88782296],\n",
       "         [0.88782296],\n",
       "         [0.18820768],\n",
       "         [0.18820768],\n",
       "         [0.58891184],\n",
       "         [0.58891184],\n",
       "         [0.71705324],\n",
       "         [0.71705324],\n",
       "         [0.83139038],\n",
       "         [0.83139038],\n",
       "         [0.71343042],\n",
       "         [0.71343042],\n",
       "         [0.27837872],\n",
       "         [0.27837872],\n",
       "         [0.2295815 ],\n",
       "         [0.2295815 ],\n",
       "         [0.57921133],\n",
       "         [0.57921133],\n",
       "         [0.26126275],\n",
       "         [0.26126275],\n",
       "         [0.99594261],\n",
       "         [0.99594261],\n",
       "         [0.11962928],\n",
       "         [0.11962928],\n",
       "         [0.80776333],\n",
       "         [0.80776333],\n",
       "         [0.20214283],\n",
       "         [0.20214283],\n",
       "         [0.00873533],\n",
       "         [0.00873533],\n",
       "         [0.57710094],\n",
       "         [0.57710094],\n",
       "         [0.33858963],\n",
       "         [0.33858963],\n",
       "         [0.00932951],\n",
       "         [0.00932951],\n",
       "         [0.37963718],\n",
       "         [0.37963718],\n",
       "         [0.81457864],\n",
       "         [0.81457864],\n",
       "         [0.19642058],\n",
       "         [0.19642058],\n",
       "         [0.0939243 ],\n",
       "         [0.0939243 ],\n",
       "         [0.25457582],\n",
       "         [0.25457582],\n",
       "         [0.53613963],\n",
       "         [0.53613963],\n",
       "         [0.40918015],\n",
       "         [0.40918015],\n",
       "         [0.98973916],\n",
       "         [0.98973916],\n",
       "         [0.47192216],\n",
       "         [0.47192216],\n",
       "         [0.19861759],\n",
       "         [0.19861759],\n",
       "         [0.15071841],\n",
       "         [0.15071841],\n",
       "         [0.29824061],\n",
       "         [0.29824061],\n",
       "         [0.1445391 ],\n",
       "         [0.1445391 ],\n",
       "         [0.84297553],\n",
       "         [0.84297553],\n",
       "         [0.12822977],\n",
       "         [0.12822977],\n",
       "         [0.43099161],\n",
       "         [0.43099161],\n",
       "         [0.58258212],\n",
       "         [0.58258212],\n",
       "         [0.41916441],\n",
       "         [0.41916441],\n",
       "         [0.64672818],\n",
       "         [0.64672818],\n",
       "         [0.12720472],\n",
       "         [0.12720472],\n",
       "         [0.54321488],\n",
       "         [0.54321488],\n",
       "         [0.2831761 ],\n",
       "         [0.2831761 ],\n",
       "         [0.56022191],\n",
       "         [0.56022191],\n",
       "         [0.88399567],\n",
       "         [0.88399567],\n",
       "         [0.28614909],\n",
       "         [0.28614909],\n",
       "         [0.20137922],\n",
       "         [0.20137922],\n",
       "         [0.95064648],\n",
       "         [0.95064648],\n",
       "         [0.04257047],\n",
       "         [0.04257047],\n",
       "         [0.11503612],\n",
       "         [0.11503612],\n",
       "         [0.84605825],\n",
       "         [0.84605825],\n",
       "         [0.0614601 ],\n",
       "         [0.0614601 ],\n",
       "         [0.1892337 ],\n",
       "         [0.1892337 ],\n",
       "         [0.74691199],\n",
       "         [0.74691199],\n",
       "         [0.55127803],\n",
       "         [0.55127803],\n",
       "         [0.41563548],\n",
       "         [0.41563548],\n",
       "         [0.82983523],\n",
       "         [0.82983523],\n",
       "         [0.7746458 ],\n",
       "         [0.7746458 ],\n",
       "         [0.21426578],\n",
       "         [0.21426578],\n",
       "         [0.0772707 ],\n",
       "         [0.0772707 ],\n",
       "         [0.99350921],\n",
       "         [0.99350921],\n",
       "         [0.67713545],\n",
       "         [0.67713545],\n",
       "         [0.27388193],\n",
       "         [0.27388193],\n",
       "         [0.93747161],\n",
       "         [0.93747161],\n",
       "         [0.32208196],\n",
       "         [0.32208196],\n",
       "         [0.11858448],\n",
       "         [0.11858448],\n",
       "         [0.43121083],\n",
       "         [0.43121083],\n",
       "         [0.39012793],\n",
       "         [0.39012793],\n",
       "         [0.98580426],\n",
       "         [0.98580426],\n",
       "         [0.85418845],\n",
       "         [0.85418845],\n",
       "         [0.8722818 ],\n",
       "         [0.8722818 ],\n",
       "         [0.94680793],\n",
       "         [0.94680793],\n",
       "         [0.39939097],\n",
       "         [0.39939097],\n",
       "         [0.23770823],\n",
       "         [0.23770823],\n",
       "         [0.86494114],\n",
       "         [0.86494114],\n",
       "         [0.2285774 ],\n",
       "         [0.2285774 ],\n",
       "         [0.91995067],\n",
       "         [0.91995067],\n",
       "         [0.58865898],\n",
       "         [0.58865898],\n",
       "         [0.11767075],\n",
       "         [0.11767075],\n",
       "         [0.94500829],\n",
       "         [0.94500829],\n",
       "         [0.12491875],\n",
       "         [0.12491875],\n",
       "         [0.53796285],\n",
       "         [0.53796285],\n",
       "         [0.85511529],\n",
       "         [0.85511529],\n",
       "         [0.54675696],\n",
       "         [0.54675696],\n",
       "         [0.88542776],\n",
       "         [0.88542776],\n",
       "         [0.41815429],\n",
       "         [0.41815429],\n",
       "         [0.26985791],\n",
       "         [0.26985791],\n",
       "         [0.27096377],\n",
       "         [0.27096377],\n",
       "         [0.99999019],\n",
       "         [0.99999019]])}}"
      ]
     },
     "execution_count": 1,
     "metadata": {},
     "output_type": "execute_result"
    }
   ],
   "source": [
    "ds = load_by_id(run_id_a)\n",
    "ds.get_parameter_data('x1')"
   ]
  },
  {
   "cell_type": "code",
   "execution_count": 13,
   "metadata": {},
   "outputs": [],
   "source": []
  }
 ],
 "metadata": {
  "kernelspec": {
   "display_name": "Python 3",
   "language": "python",
   "name": "python3"
  },
  "language_info": {
   "codemirror_mode": {
    "name": "ipython",
    "version": 3
   },
   "file_extension": ".py",
   "mimetype": "text/x-python",
   "name": "python",
   "nbconvert_exporter": "python",
   "pygments_lexer": "ipython3",
   "version": "3.7.7"
  },
  "nbsphinx": {
   "timeout": 600
  },
  "toc": {
   "base_numbering": 1,
   "nav_menu": {},
   "number_sections": true,
   "sideBar": true,
   "skip_h1_title": false,
   "title_cell": "Table of Contents",
   "title_sidebar": "Contents",
   "toc_cell": false,
   "toc_position": {},
   "toc_section_display": true,
   "toc_window_display": false
  },
  "varInspector": {
   "cols": {
    "lenName": 16,
    "lenType": 16,
    "lenVar": 40
   },
   "kernels_config": {
    "python": {
     "delete_cmd_postfix": "",
     "delete_cmd_prefix": "del ",
     "library": "var_list.py",
     "varRefreshCmd": "print(var_dic_list())"
    },
    "r": {
     "delete_cmd_postfix": ") ",
     "delete_cmd_prefix": "rm(",
     "library": "var_list.r",
     "varRefreshCmd": "cat(var_dic_list()) "
    }
   },
   "types_to_exclude": [
    "module",
    "function",
    "builtin_function_or_method",
    "instance",
    "_Feature"
   ],
   "window_display": false
  }
 },
 "nbformat": 4,
 "nbformat_minor": 2
}
