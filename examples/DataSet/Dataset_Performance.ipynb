{
 "cells": [
  {
   "cell_type": "markdown",
   "metadata": {},
   "source": [
    "# DataSet Performance\n",
    "\n",
    "This notebook shows the trade-off between inserting data into a database row-by-row and as binary blobs. Inserting the data row-by-row means that we have direct access to all the data and may perform queries directly on the values of the data. On the other hand, as we shall see, this is much slower than inserting the data directly as binary blobs."
   ]
  },
  {
   "cell_type": "markdown",
   "metadata": {},
   "source": [
    "First, we choose a new location for the database to ensure that we don't add a bunch of benchmarking data to the default one."
   ]
  },
  {
   "cell_type": "code",
   "execution_count": 1,
   "metadata": {
    "execution": {
     "iopub.execute_input": "2020-10-21T12:33:02.342434Z",
     "iopub.status.busy": "2020-10-21T12:33:02.341698Z",
     "iopub.status.idle": "2020-10-21T12:33:03.546082Z",
     "shell.execute_reply": "2020-10-21T12:33:03.545515Z"
    }
   },
   "outputs": [
    {
     "name": "stdout",
     "output_type": "stream",
     "text": [
      "Logging hadn't been started.\n",
      "Activating auto-logging. Current session state plus future input saved.\n",
      "Filename       : /home/vsts/.qcodes/logs/command_history.log\n",
      "Mode           : append\n",
      "Output logging : True\n",
      "Raw input log  : False\n",
      "Timestamping   : True\n",
      "State          : active\n"
     ]
    },
    {
     "name": "stdout",
     "output_type": "stream",
     "text": [
      "Qcodes Logfile : /home/vsts/.qcodes/logs/201021-15256-qcodes.log\n"
     ]
    }
   ],
   "source": [
    "import os\n",
    "cwd = os.getcwd()\n",
    "import qcodes as qc\n",
    "qc.config[\"core\"][\"db_location\"] = os.path.join(cwd, 'testing.db')\n"
   ]
  },
  {
   "cell_type": "code",
   "execution_count": 2,
   "metadata": {
    "execution": {
     "iopub.execute_input": "2020-10-21T12:33:03.557327Z",
     "iopub.status.busy": "2020-10-21T12:33:03.552720Z",
     "iopub.status.idle": "2020-10-21T12:33:03.770230Z",
     "shell.execute_reply": "2020-10-21T12:33:03.769403Z"
    }
   },
   "outputs": [],
   "source": [
    "%matplotlib inline\n",
    "import time\n",
    "import matplotlib.pyplot as plt\n",
    "import numpy as np\n",
    "\n",
    "import qcodes as qc\n",
    "from qcodes.instrument.parameter import ManualParameter\n",
    "from qcodes.dataset.experiment_container import (Experiment,\n",
    "                                                 load_last_experiment,\n",
    "                                                 new_experiment)\n",
    "from qcodes.dataset.sqlite.database import initialise_database\n",
    "from qcodes import load_or_create_experiment\n",
    "from qcodes.dataset.measurements import Measurement"
   ]
  },
  {
   "cell_type": "code",
   "execution_count": 3,
   "metadata": {
    "execution": {
     "iopub.execute_input": "2020-10-21T12:33:03.774072Z",
     "iopub.status.busy": "2020-10-21T12:33:03.773452Z",
     "iopub.status.idle": "2020-10-21T12:33:03.932699Z",
     "shell.execute_reply": "2020-10-21T12:33:03.933152Z"
    }
   },
   "outputs": [
    {
     "name": "stdout",
     "output_type": "stream",
     "text": [
      "\r",
      "0it [00:00, ?it/s]"
     ]
    },
    {
     "name": "stdout",
     "output_type": "stream",
     "text": [
      "\r",
      "Upgrading database; v0 -> v1: : 0it [00:00, ?it/s]"
     ]
    },
    {
     "name": "stdout",
     "output_type": "stream",
     "text": [
      "\r",
      "Upgrading database; v0 -> v1: : 0it [00:00, ?it/s]"
     ]
    },
    {
     "name": "stdout",
     "output_type": "stream",
     "text": [
      "\n",
      "\r",
      "  0%|          | 0/1 [00:00<?, ?it/s]"
     ]
    },
    {
     "name": "stdout",
     "output_type": "stream",
     "text": [
      "\r",
      "Upgrading database; v1 -> v2:   0%|          | 0/1 [00:00<?, ?it/s]"
     ]
    },
    {
     "name": "stdout",
     "output_type": "stream",
     "text": [
      "\r",
      "Upgrading database; v1 -> v2: 100%|██████████| 1/1 [00:00<00:00, 773.00it/s]"
     ]
    },
    {
     "name": "stdout",
     "output_type": "stream",
     "text": [
      "\n",
      "\r",
      "0it [00:00, ?it/s]"
     ]
    },
    {
     "name": "stdout",
     "output_type": "stream",
     "text": [
      "\r",
      "Upgrading database; v2 -> v3: : 0it [00:00, ?it/s]"
     ]
    },
    {
     "name": "stdout",
     "output_type": "stream",
     "text": [
      "\r",
      "Upgrading database; v2 -> v3: : 0it [00:00, ?it/s]"
     ]
    },
    {
     "name": "stdout",
     "output_type": "stream",
     "text": [
      "\n",
      "\r",
      "0it [00:00, ?it/s]"
     ]
    },
    {
     "name": "stdout",
     "output_type": "stream",
     "text": [
      "\r",
      "Upgrading database; v3 -> v4: : 0it [00:00, ?it/s]"
     ]
    },
    {
     "name": "stdout",
     "output_type": "stream",
     "text": [
      "\r",
      "Upgrading database; v3 -> v4: : 0it [00:00, ?it/s]"
     ]
    },
    {
     "name": "stdout",
     "output_type": "stream",
     "text": [
      "\n",
      "\r",
      "  0%|          | 0/1 [00:00<?, ?it/s]"
     ]
    },
    {
     "name": "stdout",
     "output_type": "stream",
     "text": [
      "\r",
      "Upgrading database; v4 -> v5:   0%|          | 0/1 [00:00<?, ?it/s]"
     ]
    },
    {
     "name": "stdout",
     "output_type": "stream",
     "text": [
      "\r",
      "Upgrading database; v4 -> v5: 100%|██████████| 1/1 [00:00<00:00, 412.01it/s]"
     ]
    },
    {
     "name": "stdout",
     "output_type": "stream",
     "text": [
      "\n",
      "\r",
      "0it [00:00, ?it/s]"
     ]
    },
    {
     "name": "stdout",
     "output_type": "stream",
     "text": [
      "\r",
      "Upgrading database; v5 -> v6: : 0it [00:00, ?it/s]"
     ]
    },
    {
     "name": "stdout",
     "output_type": "stream",
     "text": [
      "\r",
      "Upgrading database; v5 -> v6: : 0it [00:00, ?it/s]"
     ]
    },
    {
     "name": "stdout",
     "output_type": "stream",
     "text": [
      "\n",
      "\r",
      "  0%|          | 0/1 [00:00<?, ?it/s]"
     ]
    },
    {
     "name": "stdout",
     "output_type": "stream",
     "text": [
      "\r",
      "Upgrading database; v6 -> v7:   0%|          | 0/1 [00:00<?, ?it/s]"
     ]
    },
    {
     "name": "stdout",
     "output_type": "stream",
     "text": [
      "\r",
      "Upgrading database; v6 -> v7: 100%|██████████| 1/1 [00:00<00:00, 202.38it/s]"
     ]
    },
    {
     "name": "stdout",
     "output_type": "stream",
     "text": [
      "\n",
      "\r",
      "  0%|          | 0/1 [00:00<?, ?it/s]"
     ]
    },
    {
     "name": "stdout",
     "output_type": "stream",
     "text": [
      "\r",
      "Upgrading database; v7 -> v8:   0%|          | 0/1 [00:00<?, ?it/s]"
     ]
    },
    {
     "name": "stdout",
     "output_type": "stream",
     "text": [
      "\r",
      "Upgrading database; v7 -> v8: 100%|██████████| 1/1 [00:00<00:00, 374.39it/s]"
     ]
    },
    {
     "name": "stdout",
     "output_type": "stream",
     "text": [
      "\n",
      "\r",
      "  0%|          | 0/1 [00:00<?, ?it/s]"
     ]
    },
    {
     "name": "stdout",
     "output_type": "stream",
     "text": [
      "\r",
      "Upgrading database; v8 -> v9:   0%|          | 0/1 [00:00<?, ?it/s]"
     ]
    },
    {
     "name": "stdout",
     "output_type": "stream",
     "text": [
      "\r",
      "Upgrading database; v8 -> v9: 100%|██████████| 1/1 [00:00<00:00, 556.05it/s]"
     ]
    },
    {
     "name": "stdout",
     "output_type": "stream",
     "text": [
      "\n"
     ]
    }
   ],
   "source": [
    "initialise_database()\n",
    "exp = load_or_create_experiment(experiment_name='tutorial_exp', sample_name=\"no sample\")"
   ]
  },
  {
   "cell_type": "markdown",
   "metadata": {},
   "source": [
    "Here, we define a simple function to benchmark the time it takes to insert n points with either numeric or array data type.\n",
    "We will compare both the time used to call ``add_result`` and the time used for the full measurement."
   ]
  },
  {
   "cell_type": "code",
   "execution_count": 4,
   "metadata": {
    "execution": {
     "iopub.execute_input": "2020-10-21T12:33:03.942573Z",
     "iopub.status.busy": "2020-10-21T12:33:03.941997Z",
     "iopub.status.idle": "2020-10-21T12:33:03.946321Z",
     "shell.execute_reply": "2020-10-21T12:33:03.946898Z"
    }
   },
   "outputs": [],
   "source": [
    "def insert_data(paramtype, npoints, nreps=1):\n",
    "\n",
    "    meas = Measurement(exp=exp)\n",
    "\n",
    "    x1 = ManualParameter('x1')\n",
    "    x2 = ManualParameter('x2')\n",
    "    x3 = ManualParameter('x3')\n",
    "    y1 = ManualParameter('y1')\n",
    "    y2 = ManualParameter('y2')\n",
    "\n",
    "    meas.register_parameter(x1, paramtype=paramtype)\n",
    "    meas.register_parameter(x2, paramtype=paramtype)\n",
    "    meas.register_parameter(x3, paramtype=paramtype)\n",
    "    meas.register_parameter(y1, setpoints=[x1, x2, x3],\n",
    "                            paramtype=paramtype)\n",
    "    meas.register_parameter(y2, setpoints=[x1, x2, x3],\n",
    "                            paramtype=paramtype)\n",
    "    start = time.perf_counter()\n",
    "    with meas.run() as datasaver:\n",
    "        start_adding = time.perf_counter()\n",
    "        for i in range(nreps):\n",
    "            datasaver.add_result((x1, np.random.rand(npoints)),\n",
    "                                 (x2, np.random.rand(npoints)),\n",
    "                                 (x3, np.random.rand(npoints)),\n",
    "                                 (y1, np.random.rand(npoints)),\n",
    "                                 (y2, np.random.rand(npoints)))\n",
    "        stop_adding = time.perf_counter()\n",
    "        run_id = datasaver.run_id\n",
    "    stop = time.perf_counter()\n",
    "    tot_time = stop - start\n",
    "    add_time = stop_adding - start_adding\n",
    "    return tot_time, add_time, run_id"
   ]
  },
  {
   "cell_type": "markdown",
   "metadata": {},
   "source": [
    "## Comparison between numeric/array data and binary blob"
   ]
  },
  {
   "cell_type": "markdown",
   "metadata": {},
   "source": [
    "### Case1: Short experiment time"
   ]
  },
  {
   "cell_type": "code",
   "execution_count": 5,
   "metadata": {
    "execution": {
     "iopub.execute_input": "2020-10-21T12:33:03.953499Z",
     "iopub.status.busy": "2020-10-21T12:33:03.952946Z",
     "iopub.status.idle": "2020-10-21T12:33:04.908305Z",
     "shell.execute_reply": "2020-10-21T12:33:04.907799Z"
    }
   },
   "outputs": [
    {
     "name": "stdout",
     "output_type": "stream",
     "text": [
      "Starting experimental run with id: 1. \n",
      "Starting experimental run with id: 2. \n",
      "Starting experimental run with id: 3. \n"
     ]
    },
    {
     "name": "stdout",
     "output_type": "stream",
     "text": [
      "Starting experimental run with id: 4. \n"
     ]
    },
    {
     "name": "stdout",
     "output_type": "stream",
     "text": [
      "Starting experimental run with id: 5. \n"
     ]
    },
    {
     "name": "stdout",
     "output_type": "stream",
     "text": [
      "Starting experimental run with id: 6. \n"
     ]
    },
    {
     "name": "stdout",
     "output_type": "stream",
     "text": [
      "Starting experimental run with id: 7. \n"
     ]
    },
    {
     "name": "stdout",
     "output_type": "stream",
     "text": [
      "Starting experimental run with id: 8. \n"
     ]
    },
    {
     "name": "stdout",
     "output_type": "stream",
     "text": [
      "Starting experimental run with id: 9. \n"
     ]
    },
    {
     "name": "stdout",
     "output_type": "stream",
     "text": [
      "Starting experimental run with id: 10. \n",
      "Starting experimental run with id: 11. \n"
     ]
    },
    {
     "name": "stdout",
     "output_type": "stream",
     "text": [
      "Starting experimental run with id: 12. \n"
     ]
    },
    {
     "name": "stdout",
     "output_type": "stream",
     "text": [
      "Starting experimental run with id: 13. \n"
     ]
    },
    {
     "name": "stdout",
     "output_type": "stream",
     "text": [
      "Starting experimental run with id: 14. \n"
     ]
    }
   ],
   "source": [
    "sizes = [1,500,1000,2000,3000,4000,5000]\n",
    "t_numeric = []\n",
    "t_numeric_add = []\n",
    "t_array = []\n",
    "t_array_add = []\n",
    "for size in sizes:\n",
    "    tn, tna, run_id_n =  insert_data('numeric', size)\n",
    "    t_numeric.append(tn)\n",
    "    t_numeric_add.append(tna)\n",
    "\n",
    "    ta, taa, run_id_a =  insert_data('array', size)\n",
    "    t_array.append(ta)\n",
    "    t_array_add.append(taa)"
   ]
  },
  {
   "cell_type": "code",
   "execution_count": 6,
   "metadata": {
    "execution": {
     "iopub.execute_input": "2020-10-21T12:33:04.927198Z",
     "iopub.status.busy": "2020-10-21T12:33:04.926607Z",
     "iopub.status.idle": "2020-10-21T12:33:05.128228Z",
     "shell.execute_reply": "2020-10-21T12:33:05.127727Z"
    }
   },
   "outputs": [
    {
     "data": {
      "image/png": "[encoded data removed]",
      "text/plain": [
       "<Figure size 432x288 with 1 Axes>"
      ]
     },
     "metadata": {
      "needs_background": "light"
     },
     "output_type": "display_data"
    }
   ],
   "source": [
    "fig, ax = plt.subplots(1,1)\n",
    "ax.plot(sizes, t_numeric, 'o-', label='Inserting row-by-row')\n",
    "ax.plot(sizes, t_numeric_add, 'o-', label='Inserting row-by-row: add_result only')\n",
    "ax.plot(sizes, t_array, 'd-', label='Inserting as binary blob')\n",
    "ax.plot(sizes, t_array_add, 'd-', label='Inserting as binary blob: add_result only')\n",
    "ax.legend()\n",
    "ax.set_xlabel('Array length')\n",
    "ax.set_ylabel('Time (s)')\n",
    "fig.tight_layout()"
   ]
  },
  {
   "cell_type": "markdown",
   "metadata": {},
   "source": [
    "As shown in the latter figure, the time to setup and and close the experiment is approximately 0.4 sec. In case of small array sizes, the difference between inserting values of data as arrays and inserting them row-by-row is relatively unimportant. At larger array sizes, i.e. above 10000 points, the cost of writing data as individual datapoints starts to become important.\n"
   ]
  },
  {
   "cell_type": "markdown",
   "metadata": {},
   "source": [
    "### Case2: Long experiment time "
   ]
  },
  {
   "cell_type": "code",
   "execution_count": 7,
   "metadata": {
    "execution": {
     "iopub.execute_input": "2020-10-21T12:33:05.135373Z",
     "iopub.status.busy": "2020-10-21T12:33:05.133086Z",
     "iopub.status.idle": "2020-10-21T12:34:06.458629Z",
     "shell.execute_reply": "2020-10-21T12:34:06.458103Z"
    }
   },
   "outputs": [
    {
     "name": "stdout",
     "output_type": "stream",
     "text": [
      "Starting experimental run with id: 15. \n",
      "Starting experimental run with id: 16. \n",
      "Starting experimental run with id: 17. \n"
     ]
    },
    {
     "name": "stdout",
     "output_type": "stream",
     "text": [
      "Starting experimental run with id: 18. \n",
      "Starting experimental run with id: 19. \n"
     ]
    },
    {
     "name": "stdout",
     "output_type": "stream",
     "text": [
      "Starting experimental run with id: 20. \n"
     ]
    },
    {
     "name": "stdout",
     "output_type": "stream",
     "text": [
      "Starting experimental run with id: 21. \n"
     ]
    },
    {
     "name": "stdout",
     "output_type": "stream",
     "text": [
      "Starting experimental run with id: 22. \n"
     ]
    },
    {
     "name": "stdout",
     "output_type": "stream",
     "text": [
      "Starting experimental run with id: 23. \n"
     ]
    },
    {
     "name": "stdout",
     "output_type": "stream",
     "text": [
      "Starting experimental run with id: 24. \n"
     ]
    },
    {
     "name": "stdout",
     "output_type": "stream",
     "text": [
      "Starting experimental run with id: 25. \n"
     ]
    },
    {
     "name": "stdout",
     "output_type": "stream",
     "text": [
      "Starting experimental run with id: 26. \n"
     ]
    },
    {
     "name": "stdout",
     "output_type": "stream",
     "text": [
      "Starting experimental run with id: 27. \n"
     ]
    },
    {
     "name": "stdout",
     "output_type": "stream",
     "text": [
      "Starting experimental run with id: 28. \n"
     ]
    }
   ],
   "source": [
    "sizes = [1,500,1000,2000,3000,4000,5000]\n",
    "nreps = 100\n",
    "t_numeric = []\n",
    "t_numeric_add = []\n",
    "t_numeric_run_ids = []\n",
    "t_array = []\n",
    "t_array_add = []\n",
    "t_array_run_ids = []\n",
    "for size in sizes:\n",
    "    tn, tna, run_id_n =  insert_data('numeric', size, nreps=nreps)\n",
    "    t_numeric.append(tn)\n",
    "    t_numeric_add.append(tna)\n",
    "    t_numeric_run_ids.append(run_id_n)\n",
    "\n",
    "    ta, taa, run_id_a =  insert_data('array', size, nreps=nreps)\n",
    "    t_array.append(ta)\n",
    "    t_array_add.append(taa)\n",
    "    t_array_run_ids.append(run_id_a)"
   ]
  },
  {
   "cell_type": "code",
   "execution_count": 8,
   "metadata": {
    "execution": {
     "iopub.execute_input": "2020-10-21T12:34:06.500318Z",
     "iopub.status.busy": "2020-10-21T12:34:06.499318Z",
     "iopub.status.idle": "2020-10-21T12:34:06.674568Z",
     "shell.execute_reply": "2020-10-21T12:34:06.674077Z"
    },
    "scrolled": true
   },
   "outputs": [
    {
     "data": {
      "image/png": "[encoded data removed]",
      "text/plain": [
       "<Figure size 432x288 with 1 Axes>"
      ]
     },
     "metadata": {
      "needs_background": "light"
     },
     "output_type": "display_data"
    }
   ],
   "source": [
    "fig, ax = plt.subplots(1,1)\n",
    "ax.plot(sizes, t_numeric, 'o-', label='Inserting row-by-row')\n",
    "ax.plot(sizes, t_numeric_add, 'o-', label='Inserting row-by-row: add_result only')\n",
    "ax.plot(sizes, t_array, 'd-', label='Inserting as binary blob')\n",
    "ax.plot(sizes, t_array_add, 'd-', label='Inserting as binary blob: add_result only')\n",
    "ax.legend()\n",
    "ax.set_xlabel('Array length')\n",
    "ax.set_ylabel('Time (s)')\n",
    "fig.tight_layout()"
   ]
  },
  {
   "cell_type": "markdown",
   "metadata": {},
   "source": [
    "However, as we increase the length of the experiment, as seen here by repeating the insertion 100 times, we see a big difference between inserting values of the data row-by-row and inserting it as a binary blob."
   ]
  },
  {
   "cell_type": "markdown",
   "metadata": {},
   "source": [
    "## Loading the data "
   ]
  },
  {
   "cell_type": "code",
   "execution_count": 9,
   "metadata": {
    "execution": {
     "iopub.execute_input": "2020-10-21T12:34:06.679193Z",
     "iopub.status.busy": "2020-10-21T12:34:06.678237Z",
     "iopub.status.idle": "2020-10-21T12:34:06.681971Z",
     "shell.execute_reply": "2020-10-21T12:34:06.681390Z"
    }
   },
   "outputs": [],
   "source": [
    "from qcodes.dataset.data_set import load_by_id\n",
    "from qcodes.dataset.data_export import get_data_by_id"
   ]
  },
  {
   "cell_type": "markdown",
   "metadata": {},
   "source": [
    "As usual you can load the data by using the ``load_by_id`` function but you will notice that the different storage methods\n",
    "are reflected in shape of the data as it is retrieved. "
   ]
  },
  {
   "cell_type": "code",
   "execution_count": 10,
   "metadata": {
    "execution": {
     "iopub.execute_input": "2020-10-21T12:34:06.686542Z",
     "iopub.status.busy": "2020-10-21T12:34:06.685629Z",
     "iopub.status.idle": "2020-10-21T12:34:06.687360Z",
     "shell.execute_reply": "2020-10-21T12:34:06.687976Z"
    }
   },
   "outputs": [],
   "source": [
    "run_id_n = t_numeric_run_ids[0]\n",
    "run_id_a = t_array_run_ids[0]"
   ]
  },
  {
   "cell_type": "code",
   "execution_count": 11,
   "metadata": {
    "execution": {
     "iopub.execute_input": "2020-10-21T12:34:06.691521Z",
     "iopub.status.busy": "2020-10-21T12:34:06.690990Z",
     "iopub.status.idle": "2020-10-21T12:34:06.701692Z",
     "shell.execute_reply": "2020-10-21T12:34:06.702248Z"
    },
    "scrolled": true
   },
   "outputs": [
    {
     "data": {
      "text/plain": [
       "{'x1': {'x1': array([0.53763824, 0.53763824, 0.85017689, 0.85017689, 0.16206431,\n",
       "         0.16206431, 0.61955719, 0.61955719, 0.22837707, 0.22837707,\n",
       "         0.12930627, 0.12930627, 0.5204828 , 0.5204828 , 0.08069671,\n",
       "         0.08069671, 0.50547511, 0.50547511, 0.4718797 , 0.4718797 ,\n",
       "         0.69498726, 0.69498726, 0.44136668, 0.44136668, 0.94441422,\n",
       "         0.94441422, 0.30900131, 0.30900131, 0.21807783, 0.21807783,\n",
       "         0.69865913, 0.69865913, 0.02561007, 0.02561007, 0.78628083,\n",
       "         0.78628083, 0.21491266, 0.21491266, 0.84689438, 0.84689438,\n",
       "         0.04295486, 0.04295486, 0.6279917 , 0.6279917 , 0.78197306,\n",
       "         0.78197306, 0.8113884 , 0.8113884 , 0.17773284, 0.17773284,\n",
       "         0.13334304, 0.13334304, 0.98399284, 0.98399284, 0.89270335,\n",
       "         0.89270335, 0.67139146, 0.67139146, 0.43093104, 0.43093104,\n",
       "         0.61595867, 0.61595867, 0.65006008, 0.65006008, 0.77838769,\n",
       "         0.77838769, 0.53347836, 0.53347836, 0.22788303, 0.22788303,\n",
       "         0.07884114, 0.07884114, 0.80155436, 0.80155436, 0.08924212,\n",
       "         0.08924212, 0.03767005, 0.03767005, 0.92709733, 0.92709733,\n",
       "         0.12896654, 0.12896654, 0.87364755, 0.87364755, 0.50481818,\n",
       "         0.50481818, 0.41956833, 0.41956833, 0.67962378, 0.67962378,\n",
       "         0.75219995, 0.75219995, 0.16203238, 0.16203238, 0.83829426,\n",
       "         0.83829426, 0.46843999, 0.46843999, 0.38174481, 0.38174481,\n",
       "         0.67497338, 0.67497338, 0.08618077, 0.08618077, 0.74458673,\n",
       "         0.74458673, 0.74506216, 0.74506216, 0.52520807, 0.52520807,\n",
       "         0.22529001, 0.22529001, 0.66578085, 0.66578085, 0.34278285,\n",
       "         0.34278285, 0.26914626, 0.26914626, 0.11288144, 0.11288144,\n",
       "         0.35576066, 0.35576066, 0.968734  , 0.968734  , 0.7051324 ,\n",
       "         0.7051324 , 0.21927882, 0.21927882, 0.41627749, 0.41627749,\n",
       "         0.4853337 , 0.4853337 , 0.52018031, 0.52018031, 0.51777449,\n",
       "         0.51777449, 0.15650787, 0.15650787, 0.62845377, 0.62845377,\n",
       "         0.60526775, 0.60526775, 0.56769188, 0.56769188, 0.98485619,\n",
       "         0.98485619, 0.52300071, 0.52300071, 0.79694716, 0.79694716,\n",
       "         0.0633159 , 0.0633159 , 0.04019722, 0.04019722, 0.13265237,\n",
       "         0.13265237, 0.00402535, 0.00402535, 0.7871171 , 0.7871171 ,\n",
       "         0.03116501, 0.03116501, 0.78336845, 0.78336845, 0.86339736,\n",
       "         0.86339736, 0.17756503, 0.17756503, 0.29495236, 0.29495236,\n",
       "         0.26689849, 0.26689849, 0.18620153, 0.18620153, 0.78448419,\n",
       "         0.78448419, 0.12473924, 0.12473924, 0.22716971, 0.22716971,\n",
       "         0.55277809, 0.55277809, 0.49756615, 0.49756615, 0.14447156,\n",
       "         0.14447156, 0.47849694, 0.47849694, 0.14135977, 0.14135977,\n",
       "         0.03964928, 0.03964928, 0.77108228, 0.77108228, 0.90909522,\n",
       "         0.90909522, 0.18351283, 0.18351283, 0.35245833, 0.35245833])}}"
      ]
     },
     "execution_count": 1,
     "metadata": {},
     "output_type": "execute_result"
    }
   ],
   "source": [
    "ds = load_by_id(run_id_n)\n",
    "ds.get_parameter_data('x1')"
   ]
  },
  {
   "cell_type": "markdown",
   "metadata": {},
   "source": [
    "And a dataset stored as binary arrays"
   ]
  },
  {
   "cell_type": "code",
   "execution_count": 12,
   "metadata": {
    "execution": {
     "iopub.execute_input": "2020-10-21T12:34:06.705928Z",
     "iopub.status.busy": "2020-10-21T12:34:06.705410Z",
     "iopub.status.idle": "2020-10-21T12:34:06.763244Z",
     "shell.execute_reply": "2020-10-21T12:34:06.763851Z"
    },
    "scrolled": true
   },
   "outputs": [
    {
     "data": {
      "text/plain": [
       "{'x1': {'x1': array([[0.91501936],\n",
       "         [0.91501936],\n",
       "         [0.43833558],\n",
       "         [0.43833558],\n",
       "         [0.98477732],\n",
       "         [0.98477732],\n",
       "         [0.02864146],\n",
       "         [0.02864146],\n",
       "         [0.04804341],\n",
       "         [0.04804341],\n",
       "         [0.64118378],\n",
       "         [0.64118378],\n",
       "         [0.39862567],\n",
       "         [0.39862567],\n",
       "         [0.01326139],\n",
       "         [0.01326139],\n",
       "         [0.62074021],\n",
       "         [0.62074021],\n",
       "         [0.70696374],\n",
       "         [0.70696374],\n",
       "         [0.58408399],\n",
       "         [0.58408399],\n",
       "         [0.49582671],\n",
       "         [0.49582671],\n",
       "         [0.94939337],\n",
       "         [0.94939337],\n",
       "         [0.00357085],\n",
       "         [0.00357085],\n",
       "         [0.49159942],\n",
       "         [0.49159942],\n",
       "         [0.32944407],\n",
       "         [0.32944407],\n",
       "         [0.67302532],\n",
       "         [0.67302532],\n",
       "         [0.50650288],\n",
       "         [0.50650288],\n",
       "         [0.22015738],\n",
       "         [0.22015738],\n",
       "         [0.95878824],\n",
       "         [0.95878824],\n",
       "         [0.49089779],\n",
       "         [0.49089779],\n",
       "         [0.16986993],\n",
       "         [0.16986993],\n",
       "         [0.9969634 ],\n",
       "         [0.9969634 ],\n",
       "         [0.01899843],\n",
       "         [0.01899843],\n",
       "         [0.70603123],\n",
       "         [0.70603123],\n",
       "         [0.18355958],\n",
       "         [0.18355958],\n",
       "         [0.26428073],\n",
       "         [0.26428073],\n",
       "         [0.3653949 ],\n",
       "         [0.3653949 ],\n",
       "         [0.33250095],\n",
       "         [0.33250095],\n",
       "         [0.92104153],\n",
       "         [0.92104153],\n",
       "         [0.08535192],\n",
       "         [0.08535192],\n",
       "         [0.76433433],\n",
       "         [0.76433433],\n",
       "         [0.24085217],\n",
       "         [0.24085217],\n",
       "         [0.53917462],\n",
       "         [0.53917462],\n",
       "         [0.83694296],\n",
       "         [0.83694296],\n",
       "         [0.45133186],\n",
       "         [0.45133186],\n",
       "         [0.63040644],\n",
       "         [0.63040644],\n",
       "         [0.63921433],\n",
       "         [0.63921433],\n",
       "         [0.04385357],\n",
       "         [0.04385357],\n",
       "         [0.33313557],\n",
       "         [0.33313557],\n",
       "         [0.23742522],\n",
       "         [0.23742522],\n",
       "         [0.20937331],\n",
       "         [0.20937331],\n",
       "         [0.4367876 ],\n",
       "         [0.4367876 ],\n",
       "         [0.31530012],\n",
       "         [0.31530012],\n",
       "         [0.91427305],\n",
       "         [0.91427305],\n",
       "         [0.58496722],\n",
       "         [0.58496722],\n",
       "         [0.39060129],\n",
       "         [0.39060129],\n",
       "         [0.11874094],\n",
       "         [0.11874094],\n",
       "         [0.65990645],\n",
       "         [0.65990645],\n",
       "         [0.02520802],\n",
       "         [0.02520802],\n",
       "         [0.61435792],\n",
       "         [0.61435792],\n",
       "         [0.11030093],\n",
       "         [0.11030093],\n",
       "         [0.33665382],\n",
       "         [0.33665382],\n",
       "         [0.5250345 ],\n",
       "         [0.5250345 ],\n",
       "         [0.52618149],\n",
       "         [0.52618149],\n",
       "         [0.1042528 ],\n",
       "         [0.1042528 ],\n",
       "         [0.47272118],\n",
       "         [0.47272118],\n",
       "         [0.24851757],\n",
       "         [0.24851757],\n",
       "         [0.61219198],\n",
       "         [0.61219198],\n",
       "         [0.703533  ],\n",
       "         [0.703533  ],\n",
       "         [0.27779172],\n",
       "         [0.27779172],\n",
       "         [0.63063992],\n",
       "         [0.63063992],\n",
       "         [0.83443136],\n",
       "         [0.83443136],\n",
       "         [0.00505182],\n",
       "         [0.00505182],\n",
       "         [0.73260874],\n",
       "         [0.73260874],\n",
       "         [0.77263756],\n",
       "         [0.77263756],\n",
       "         [0.98685604],\n",
       "         [0.98685604],\n",
       "         [0.13961726],\n",
       "         [0.13961726],\n",
       "         [0.83560843],\n",
       "         [0.83560843],\n",
       "         [0.08776358],\n",
       "         [0.08776358],\n",
       "         [0.07264517],\n",
       "         [0.07264517],\n",
       "         [0.54945405],\n",
       "         [0.54945405],\n",
       "         [0.92887447],\n",
       "         [0.92887447],\n",
       "         [0.44687488],\n",
       "         [0.44687488],\n",
       "         [0.90546675],\n",
       "         [0.90546675],\n",
       "         [0.83252461],\n",
       "         [0.83252461],\n",
       "         [0.29462926],\n",
       "         [0.29462926],\n",
       "         [0.78944354],\n",
       "         [0.78944354],\n",
       "         [0.79828973],\n",
       "         [0.79828973],\n",
       "         [0.61057163],\n",
       "         [0.61057163],\n",
       "         [0.48521453],\n",
       "         [0.48521453],\n",
       "         [0.61616665],\n",
       "         [0.61616665],\n",
       "         [0.22866759],\n",
       "         [0.22866759],\n",
       "         [0.64487567],\n",
       "         [0.64487567],\n",
       "         [0.88081362],\n",
       "         [0.88081362],\n",
       "         [0.24804397],\n",
       "         [0.24804397],\n",
       "         [0.30426824],\n",
       "         [0.30426824],\n",
       "         [0.69607248],\n",
       "         [0.69607248],\n",
       "         [0.91671202],\n",
       "         [0.91671202],\n",
       "         [0.49199174],\n",
       "         [0.49199174],\n",
       "         [0.22615861],\n",
       "         [0.22615861],\n",
       "         [0.11738316],\n",
       "         [0.11738316],\n",
       "         [0.69374929],\n",
       "         [0.69374929],\n",
       "         [0.44645907],\n",
       "         [0.44645907],\n",
       "         [0.50412993],\n",
       "         [0.50412993],\n",
       "         [0.25847165],\n",
       "         [0.25847165],\n",
       "         [0.12710374],\n",
       "         [0.12710374],\n",
       "         [0.72782899],\n",
       "         [0.72782899],\n",
       "         [0.37081648],\n",
       "         [0.37081648],\n",
       "         [0.23610202],\n",
       "         [0.23610202]])}}"
      ]
     },
     "execution_count": 1,
     "metadata": {},
     "output_type": "execute_result"
    }
   ],
   "source": [
    "ds = load_by_id(run_id_a)\n",
    "ds.get_parameter_data('x1')"
   ]
  },
  {
   "cell_type": "code",
   "execution_count": null,
   "metadata": {},
   "outputs": [],
   "source": []
  }
 ],
 "metadata": {
  "kernelspec": {
   "display_name": "Python 3",
   "language": "python",
   "name": "python3"
  },
  "language_info": {
   "codemirror_mode": {
    "name": "ipython",
    "version": 3
   },
   "file_extension": ".py",
   "mimetype": "text/x-python",
   "name": "python",
   "nbconvert_exporter": "python",
   "pygments_lexer": "ipython3",
   "version": "3.7.7"
  },
  "nbsphinx": {
   "timeout": 600
  },
  "toc": {
   "base_numbering": 1,
   "nav_menu": {},
   "number_sections": true,
   "sideBar": true,
   "skip_h1_title": false,
   "title_cell": "Table of Contents",
   "title_sidebar": "Contents",
   "toc_cell": false,
   "toc_position": {},
   "toc_section_display": true,
   "toc_window_display": false
  },
  "varInspector": {
   "cols": {
    "lenName": 16,
    "lenType": 16,
    "lenVar": 40
   },
   "kernels_config": {
    "python": {
     "delete_cmd_postfix": "",
     "delete_cmd_prefix": "del ",
     "library": "var_list.py",
     "varRefreshCmd": "print(var_dic_list())"
    },
    "r": {
     "delete_cmd_postfix": ") ",
     "delete_cmd_prefix": "rm(",
     "library": "var_list.r",
     "varRefreshCmd": "cat(var_dic_list()) "
    }
   },
   "types_to_exclude": [
    "module",
    "function",
    "builtin_function_or_method",
    "instance",
    "_Feature"
   ],
   "window_display": false
  }
 },
 "nbformat": 4,
 "nbformat_minor": 2
}
