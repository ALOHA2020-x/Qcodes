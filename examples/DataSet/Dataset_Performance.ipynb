{
 "cells": [
  {
   "cell_type": "markdown",
   "metadata": {},
   "source": [
    "# DataSet Performance\n",
    "\n",
    "This notebook shows the trade-off between inserting data into a database row-by-row and as binary blobs. Inserting the data row-by-row means that we have direct access to all the data and may perform queries directly on the values of the data. On the other hand, as we shall see, this is much slower than inserting the data directly as binary blobs."
   ]
  },
  {
   "cell_type": "markdown",
   "metadata": {},
   "source": [
    "First, we choose a new location for the database to ensure that we don't add a bunch of benchmarking data to the default one."
   ]
  },
  {
   "cell_type": "code",
   "execution_count": 1,
   "metadata": {
    "execution": {
     "iopub.execute_input": "2020-10-26T08:22:08.355475Z",
     "iopub.status.busy": "2020-10-26T08:22:08.354879Z",
     "iopub.status.idle": "2020-10-26T08:22:09.411541Z",
     "shell.execute_reply": "2020-10-26T08:22:09.410854Z"
    }
   },
   "outputs": [
    {
     "name": "stdout",
     "output_type": "stream",
     "text": [
      "Logging hadn't been started.\n",
      "Activating auto-logging. Current session state plus future input saved.\n",
      "Filename       : /home/vsts/.qcodes/logs/command_history.log\n",
      "Mode           : append\n",
      "Output logging : True\n",
      "Raw input log  : False\n",
      "Timestamping   : True\n",
      "State          : active\n"
     ]
    },
    {
     "name": "stdout",
     "output_type": "stream",
     "text": [
      "Qcodes Logfile : /home/vsts/.qcodes/logs/201026-14586-qcodes.log\n"
     ]
    }
   ],
   "source": [
    "import os\n",
    "cwd = os.getcwd()\n",
    "import qcodes as qc\n",
    "qc.config[\"core\"][\"db_location\"] = os.path.join(cwd, 'testing.db')\n"
   ]
  },
  {
   "cell_type": "code",
   "execution_count": 2,
   "metadata": {
    "execution": {
     "iopub.execute_input": "2020-10-26T08:22:09.418248Z",
     "iopub.status.busy": "2020-10-26T08:22:09.417418Z",
     "iopub.status.idle": "2020-10-26T08:22:09.610227Z",
     "shell.execute_reply": "2020-10-26T08:22:09.609225Z"
    }
   },
   "outputs": [],
   "source": [
    "%matplotlib inline\n",
    "import time\n",
    "import matplotlib.pyplot as plt\n",
    "import numpy as np\n",
    "\n",
    "import qcodes as qc\n",
    "from qcodes.instrument.parameter import ManualParameter\n",
    "from qcodes.dataset.experiment_container import (Experiment,\n",
    "                                                 load_last_experiment,\n",
    "                                                 new_experiment)\n",
    "from qcodes.dataset.sqlite.database import initialise_database\n",
    "from qcodes import load_or_create_experiment\n",
    "from qcodes.dataset.measurements import Measurement"
   ]
  },
  {
   "cell_type": "code",
   "execution_count": 3,
   "metadata": {
    "execution": {
     "iopub.execute_input": "2020-10-26T08:22:09.613918Z",
     "iopub.status.busy": "2020-10-26T08:22:09.613393Z",
     "iopub.status.idle": "2020-10-26T08:22:09.730544Z",
     "shell.execute_reply": "2020-10-26T08:22:09.730934Z"
    }
   },
   "outputs": [
    {
     "name": "stdout",
     "output_type": "stream",
     "text": [
      "\r",
      "0it [00:00, ?it/s]"
     ]
    },
    {
     "name": "stdout",
     "output_type": "stream",
     "text": [
      "\r",
      "Upgrading database; v0 -> v1: : 0it [00:00, ?it/s]"
     ]
    },
    {
     "name": "stdout",
     "output_type": "stream",
     "text": [
      "\r",
      "Upgrading database; v0 -> v1: : 0it [00:00, ?it/s]"
     ]
    },
    {
     "name": "stdout",
     "output_type": "stream",
     "text": [
      "\n",
      "\r",
      "  0%|          | 0/1 [00:00<?, ?it/s]"
     ]
    },
    {
     "name": "stdout",
     "output_type": "stream",
     "text": [
      "\r",
      "Upgrading database; v1 -> v2:   0%|          | 0/1 [00:00<?, ?it/s]"
     ]
    },
    {
     "name": "stdout",
     "output_type": "stream",
     "text": [
      "\r",
      "Upgrading database; v1 -> v2: 100%|██████████| 1/1 [00:00<00:00, 563.45it/s]"
     ]
    },
    {
     "name": "stdout",
     "output_type": "stream",
     "text": [
      "\n",
      "\r",
      "0it [00:00, ?it/s]"
     ]
    },
    {
     "name": "stdout",
     "output_type": "stream",
     "text": [
      "\r",
      "Upgrading database; v2 -> v3: : 0it [00:00, ?it/s]"
     ]
    },
    {
     "name": "stdout",
     "output_type": "stream",
     "text": [
      "\r",
      "Upgrading database; v2 -> v3: : 0it [00:00, ?it/s]"
     ]
    },
    {
     "name": "stdout",
     "output_type": "stream",
     "text": [
      "\n",
      "\r",
      "0it [00:00, ?it/s]"
     ]
    },
    {
     "name": "stdout",
     "output_type": "stream",
     "text": [
      "\r",
      "Upgrading database; v3 -> v4: : 0it [00:00, ?it/s]"
     ]
    },
    {
     "name": "stdout",
     "output_type": "stream",
     "text": [
      "\r",
      "Upgrading database; v3 -> v4: : 0it [00:00, ?it/s]"
     ]
    },
    {
     "name": "stdout",
     "output_type": "stream",
     "text": [
      "\n",
      "\r",
      "  0%|          | 0/1 [00:00<?, ?it/s]"
     ]
    },
    {
     "name": "stdout",
     "output_type": "stream",
     "text": [
      "\r",
      "Upgrading database; v4 -> v5:   0%|          | 0/1 [00:00<?, ?it/s]"
     ]
    },
    {
     "name": "stdout",
     "output_type": "stream",
     "text": [
      "\r",
      "Upgrading database; v4 -> v5: 100%|██████████| 1/1 [00:00<00:00, 888.62it/s]"
     ]
    },
    {
     "name": "stdout",
     "output_type": "stream",
     "text": [
      "\n",
      "\r",
      "0it [00:00, ?it/s]"
     ]
    },
    {
     "name": "stdout",
     "output_type": "stream",
     "text": [
      "\r",
      "Upgrading database; v5 -> v6: : 0it [00:00, ?it/s]"
     ]
    },
    {
     "name": "stdout",
     "output_type": "stream",
     "text": [
      "\r",
      "Upgrading database; v5 -> v6: : 0it [00:00, ?it/s]"
     ]
    },
    {
     "name": "stdout",
     "output_type": "stream",
     "text": [
      "\n",
      "\r",
      "  0%|          | 0/1 [00:00<?, ?it/s]"
     ]
    },
    {
     "name": "stdout",
     "output_type": "stream",
     "text": [
      "\r",
      "Upgrading database; v6 -> v7:   0%|          | 0/1 [00:00<?, ?it/s]"
     ]
    },
    {
     "name": "stdout",
     "output_type": "stream",
     "text": [
      "\r",
      "Upgrading database; v6 -> v7: 100%|██████████| 1/1 [00:00<00:00, 228.56it/s]"
     ]
    },
    {
     "name": "stdout",
     "output_type": "stream",
     "text": [
      "\n",
      "\r",
      "  0%|          | 0/1 [00:00<?, ?it/s]"
     ]
    },
    {
     "name": "stdout",
     "output_type": "stream",
     "text": [
      "\r",
      "Upgrading database; v7 -> v8:   0%|          | 0/1 [00:00<?, ?it/s]"
     ]
    },
    {
     "name": "stdout",
     "output_type": "stream",
     "text": [
      "\r",
      "Upgrading database; v7 -> v8: 100%|██████████| 1/1 [00:00<00:00, 463.41it/s]"
     ]
    },
    {
     "name": "stdout",
     "output_type": "stream",
     "text": [
      "\n",
      "\r",
      "  0%|          | 0/1 [00:00<?, ?it/s]"
     ]
    },
    {
     "name": "stdout",
     "output_type": "stream",
     "text": [
      "\r",
      "Upgrading database; v8 -> v9:   0%|          | 0/1 [00:00<?, ?it/s]"
     ]
    },
    {
     "name": "stdout",
     "output_type": "stream",
     "text": [
      "\r",
      "Upgrading database; v8 -> v9: 100%|██████████| 1/1 [00:00<00:00, 1456.86it/s]"
     ]
    },
    {
     "name": "stdout",
     "output_type": "stream",
     "text": [
      "\n"
     ]
    }
   ],
   "source": [
    "initialise_database()\n",
    "exp = load_or_create_experiment(experiment_name='tutorial_exp', sample_name=\"no sample\")"
   ]
  },
  {
   "cell_type": "markdown",
   "metadata": {},
   "source": [
    "Here, we define a simple function to benchmark the time it takes to insert n points with either numeric or array data type.\n",
    "We will compare both the time used to call ``add_result`` and the time used for the full measurement."
   ]
  },
  {
   "cell_type": "code",
   "execution_count": 4,
   "metadata": {
    "execution": {
     "iopub.execute_input": "2020-10-26T08:22:09.738974Z",
     "iopub.status.busy": "2020-10-26T08:22:09.737346Z",
     "iopub.status.idle": "2020-10-26T08:22:09.741181Z",
     "shell.execute_reply": "2020-10-26T08:22:09.740719Z"
    }
   },
   "outputs": [],
   "source": [
    "def insert_data(paramtype, npoints, nreps=1):\n",
    "\n",
    "    meas = Measurement(exp=exp)\n",
    "\n",
    "    x1 = ManualParameter('x1')\n",
    "    x2 = ManualParameter('x2')\n",
    "    x3 = ManualParameter('x3')\n",
    "    y1 = ManualParameter('y1')\n",
    "    y2 = ManualParameter('y2')\n",
    "\n",
    "    meas.register_parameter(x1, paramtype=paramtype)\n",
    "    meas.register_parameter(x2, paramtype=paramtype)\n",
    "    meas.register_parameter(x3, paramtype=paramtype)\n",
    "    meas.register_parameter(y1, setpoints=[x1, x2, x3],\n",
    "                            paramtype=paramtype)\n",
    "    meas.register_parameter(y2, setpoints=[x1, x2, x3],\n",
    "                            paramtype=paramtype)\n",
    "    start = time.perf_counter()\n",
    "    with meas.run() as datasaver:\n",
    "        start_adding = time.perf_counter()\n",
    "        for i in range(nreps):\n",
    "            datasaver.add_result((x1, np.random.rand(npoints)),\n",
    "                                 (x2, np.random.rand(npoints)),\n",
    "                                 (x3, np.random.rand(npoints)),\n",
    "                                 (y1, np.random.rand(npoints)),\n",
    "                                 (y2, np.random.rand(npoints)))\n",
    "        stop_adding = time.perf_counter()\n",
    "        run_id = datasaver.run_id\n",
    "    stop = time.perf_counter()\n",
    "    tot_time = stop - start\n",
    "    add_time = stop_adding - start_adding\n",
    "    return tot_time, add_time, run_id"
   ]
  },
  {
   "cell_type": "markdown",
   "metadata": {},
   "source": [
    "## Comparison between numeric/array data and binary blob"
   ]
  },
  {
   "cell_type": "markdown",
   "metadata": {},
   "source": [
    "### Case1: Short experiment time"
   ]
  },
  {
   "cell_type": "code",
   "execution_count": 5,
   "metadata": {
    "execution": {
     "iopub.execute_input": "2020-10-26T08:22:09.746765Z",
     "iopub.status.busy": "2020-10-26T08:22:09.745648Z",
     "iopub.status.idle": "2020-10-26T08:22:10.584095Z",
     "shell.execute_reply": "2020-10-26T08:22:10.583605Z"
    }
   },
   "outputs": [
    {
     "name": "stdout",
     "output_type": "stream",
     "text": [
      "Starting experimental run with id: 1. \n",
      "Starting experimental run with id: 2. \n",
      "Starting experimental run with id: 3. \n",
      "Starting experimental run with id: 4. \n",
      "Starting experimental run with id: 5. \n"
     ]
    },
    {
     "name": "stdout",
     "output_type": "stream",
     "text": [
      "Starting experimental run with id: 6. \n"
     ]
    },
    {
     "name": "stdout",
     "output_type": "stream",
     "text": [
      "Starting experimental run with id: 7. \n"
     ]
    },
    {
     "name": "stdout",
     "output_type": "stream",
     "text": [
      "Starting experimental run with id: 8. \n",
      "Starting experimental run with id: 9. \n"
     ]
    },
    {
     "name": "stdout",
     "output_type": "stream",
     "text": [
      "Starting experimental run with id: 10. \n",
      "Starting experimental run with id: 11. \n"
     ]
    },
    {
     "name": "stdout",
     "output_type": "stream",
     "text": [
      "Starting experimental run with id: 12. \n",
      "Starting experimental run with id: 13. \n"
     ]
    },
    {
     "name": "stdout",
     "output_type": "stream",
     "text": [
      "Starting experimental run with id: 14. \n"
     ]
    }
   ],
   "source": [
    "sizes = [1,500,1000,2000,3000,4000,5000]\n",
    "t_numeric = []\n",
    "t_numeric_add = []\n",
    "t_array = []\n",
    "t_array_add = []\n",
    "for size in sizes:\n",
    "    tn, tna, run_id_n =  insert_data('numeric', size)\n",
    "    t_numeric.append(tn)\n",
    "    t_numeric_add.append(tna)\n",
    "\n",
    "    ta, taa, run_id_a =  insert_data('array', size)\n",
    "    t_array.append(ta)\n",
    "    t_array_add.append(taa)"
   ]
  },
  {
   "cell_type": "code",
   "execution_count": 6,
   "metadata": {
    "execution": {
     "iopub.execute_input": "2020-10-26T08:22:10.602573Z",
     "iopub.status.busy": "2020-10-26T08:22:10.601982Z",
     "iopub.status.idle": "2020-10-26T08:22:10.785520Z",
     "shell.execute_reply": "2020-10-26T08:22:10.785871Z"
    }
   },
   "outputs": [
    {
     "data": {
      "image/png": "[encoded data removed]",
      "text/plain": [
       "<Figure size 432x288 with 1 Axes>"
      ]
     },
     "metadata": {
      "needs_background": "light"
     },
     "output_type": "display_data"
    }
   ],
   "source": [
    "fig, ax = plt.subplots(1,1)\n",
    "ax.plot(sizes, t_numeric, 'o-', label='Inserting row-by-row')\n",
    "ax.plot(sizes, t_numeric_add, 'o-', label='Inserting row-by-row: add_result only')\n",
    "ax.plot(sizes, t_array, 'd-', label='Inserting as binary blob')\n",
    "ax.plot(sizes, t_array_add, 'd-', label='Inserting as binary blob: add_result only')\n",
    "ax.legend()\n",
    "ax.set_xlabel('Array length')\n",
    "ax.set_ylabel('Time (s)')\n",
    "fig.tight_layout()"
   ]
  },
  {
   "cell_type": "markdown",
   "metadata": {},
   "source": [
    "As shown in the latter figure, the time to setup and and close the experiment is approximately 0.4 sec. In case of small array sizes, the difference between inserting values of data as arrays and inserting them row-by-row is relatively unimportant. At larger array sizes, i.e. above 10000 points, the cost of writing data as individual datapoints starts to become important.\n"
   ]
  },
  {
   "cell_type": "markdown",
   "metadata": {},
   "source": [
    "### Case2: Long experiment time "
   ]
  },
  {
   "cell_type": "code",
   "execution_count": 7,
   "metadata": {
    "execution": {
     "iopub.execute_input": "2020-10-26T08:22:10.792462Z",
     "iopub.status.busy": "2020-10-26T08:22:10.791393Z",
     "iopub.status.idle": "2020-10-26T08:23:10.830691Z",
     "shell.execute_reply": "2020-10-26T08:23:10.830083Z"
    }
   },
   "outputs": [
    {
     "name": "stdout",
     "output_type": "stream",
     "text": [
      "Starting experimental run with id: 15. \n",
      "Starting experimental run with id: 16. \n",
      "Starting experimental run with id: 17. \n"
     ]
    },
    {
     "name": "stdout",
     "output_type": "stream",
     "text": [
      "Starting experimental run with id: 18. \n",
      "Starting experimental run with id: 19. \n"
     ]
    },
    {
     "name": "stdout",
     "output_type": "stream",
     "text": [
      "Starting experimental run with id: 20. \n"
     ]
    },
    {
     "name": "stdout",
     "output_type": "stream",
     "text": [
      "Starting experimental run with id: 21. \n"
     ]
    },
    {
     "name": "stdout",
     "output_type": "stream",
     "text": [
      "Starting experimental run with id: 22. \n"
     ]
    },
    {
     "name": "stdout",
     "output_type": "stream",
     "text": [
      "Starting experimental run with id: 23. \n"
     ]
    },
    {
     "name": "stdout",
     "output_type": "stream",
     "text": [
      "Starting experimental run with id: 24. \n"
     ]
    },
    {
     "name": "stdout",
     "output_type": "stream",
     "text": [
      "Starting experimental run with id: 25. \n"
     ]
    },
    {
     "name": "stdout",
     "output_type": "stream",
     "text": [
      "Starting experimental run with id: 26. \n"
     ]
    },
    {
     "name": "stdout",
     "output_type": "stream",
     "text": [
      "Starting experimental run with id: 27. \n"
     ]
    },
    {
     "name": "stdout",
     "output_type": "stream",
     "text": [
      "Starting experimental run with id: 28. \n"
     ]
    }
   ],
   "source": [
    "sizes = [1,500,1000,2000,3000,4000,5000]\n",
    "nreps = 100\n",
    "t_numeric = []\n",
    "t_numeric_add = []\n",
    "t_numeric_run_ids = []\n",
    "t_array = []\n",
    "t_array_add = []\n",
    "t_array_run_ids = []\n",
    "for size in sizes:\n",
    "    tn, tna, run_id_n =  insert_data('numeric', size, nreps=nreps)\n",
    "    t_numeric.append(tn)\n",
    "    t_numeric_add.append(tna)\n",
    "    t_numeric_run_ids.append(run_id_n)\n",
    "\n",
    "    ta, taa, run_id_a =  insert_data('array', size, nreps=nreps)\n",
    "    t_array.append(ta)\n",
    "    t_array_add.append(taa)\n",
    "    t_array_run_ids.append(run_id_a)"
   ]
  },
  {
   "cell_type": "code",
   "execution_count": 8,
   "metadata": {
    "execution": {
     "iopub.execute_input": "2020-10-26T08:23:10.867186Z",
     "iopub.status.busy": "2020-10-26T08:23:10.838903Z",
     "iopub.status.idle": "2020-10-26T08:23:11.022905Z",
     "shell.execute_reply": "2020-10-26T08:23:11.023323Z"
    },
    "scrolled": true
   },
   "outputs": [
    {
     "data": {
      "image/png": "[encoded data removed]",
      "text/plain": [
       "<Figure size 432x288 with 1 Axes>"
      ]
     },
     "metadata": {
      "needs_background": "light"
     },
     "output_type": "display_data"
    }
   ],
   "source": [
    "fig, ax = plt.subplots(1,1)\n",
    "ax.plot(sizes, t_numeric, 'o-', label='Inserting row-by-row')\n",
    "ax.plot(sizes, t_numeric_add, 'o-', label='Inserting row-by-row: add_result only')\n",
    "ax.plot(sizes, t_array, 'd-', label='Inserting as binary blob')\n",
    "ax.plot(sizes, t_array_add, 'd-', label='Inserting as binary blob: add_result only')\n",
    "ax.legend()\n",
    "ax.set_xlabel('Array length')\n",
    "ax.set_ylabel('Time (s)')\n",
    "fig.tight_layout()"
   ]
  },
  {
   "cell_type": "markdown",
   "metadata": {},
   "source": [
    "However, as we increase the length of the experiment, as seen here by repeating the insertion 100 times, we see a big difference between inserting values of the data row-by-row and inserting it as a binary blob."
   ]
  },
  {
   "cell_type": "markdown",
   "metadata": {},
   "source": [
    "## Loading the data "
   ]
  },
  {
   "cell_type": "code",
   "execution_count": 9,
   "metadata": {
    "execution": {
     "iopub.execute_input": "2020-10-26T08:23:11.026073Z",
     "iopub.status.busy": "2020-10-26T08:23:11.025492Z",
     "iopub.status.idle": "2020-10-26T08:23:11.028992Z",
     "shell.execute_reply": "2020-10-26T08:23:11.029519Z"
    }
   },
   "outputs": [],
   "source": [
    "from qcodes.dataset.data_set import load_by_id\n",
    "from qcodes.dataset.data_export import get_data_by_id"
   ]
  },
  {
   "cell_type": "markdown",
   "metadata": {},
   "source": [
    "As usual you can load the data by using the ``load_by_id`` function but you will notice that the different storage methods\n",
    "are reflected in shape of the data as it is retrieved. "
   ]
  },
  {
   "cell_type": "code",
   "execution_count": 10,
   "metadata": {
    "execution": {
     "iopub.execute_input": "2020-10-26T08:23:11.033131Z",
     "iopub.status.busy": "2020-10-26T08:23:11.032679Z",
     "iopub.status.idle": "2020-10-26T08:23:11.034829Z",
     "shell.execute_reply": "2020-10-26T08:23:11.034367Z"
    }
   },
   "outputs": [],
   "source": [
    "run_id_n = t_numeric_run_ids[0]\n",
    "run_id_a = t_array_run_ids[0]"
   ]
  },
  {
   "cell_type": "code",
   "execution_count": 11,
   "metadata": {
    "execution": {
     "iopub.execute_input": "2020-10-26T08:23:11.038021Z",
     "iopub.status.busy": "2020-10-26T08:23:11.037501Z",
     "iopub.status.idle": "2020-10-26T08:23:11.047847Z",
     "shell.execute_reply": "2020-10-26T08:23:11.047391Z"
    },
    "scrolled": true
   },
   "outputs": [
    {
     "data": {
      "text/plain": [
       "{'x1': {'x1': array([0.82142117, 0.82142117, 0.23146956, 0.23146956, 0.39162761,\n",
       "         0.39162761, 0.94171232, 0.94171232, 0.06184133, 0.06184133,\n",
       "         0.6984419 , 0.6984419 , 0.56103914, 0.56103914, 0.68843386,\n",
       "         0.68843386, 0.16452558, 0.16452558, 0.3006629 , 0.3006629 ,\n",
       "         0.93861104, 0.93861104, 0.8057745 , 0.8057745 , 0.04336738,\n",
       "         0.04336738, 0.8462865 , 0.8462865 , 0.76036405, 0.76036405,\n",
       "         0.53507504, 0.53507504, 0.7188529 , 0.7188529 , 0.30434802,\n",
       "         0.30434802, 0.48316417, 0.48316417, 0.2939247 , 0.2939247 ,\n",
       "         0.83606769, 0.83606769, 0.72799728, 0.72799728, 0.22115671,\n",
       "         0.22115671, 0.03790193, 0.03790193, 0.01241838, 0.01241838,\n",
       "         0.40481018, 0.40481018, 0.35424994, 0.35424994, 0.1832051 ,\n",
       "         0.1832051 , 0.76643909, 0.76643909, 0.21260394, 0.21260394,\n",
       "         0.19609488, 0.19609488, 0.82385577, 0.82385577, 0.68144224,\n",
       "         0.68144224, 0.39675231, 0.39675231, 0.98313242, 0.98313242,\n",
       "         0.48099701, 0.48099701, 0.00157735, 0.00157735, 0.48435766,\n",
       "         0.48435766, 0.39567072, 0.39567072, 0.04269999, 0.04269999,\n",
       "         0.9178773 , 0.9178773 , 0.43499546, 0.43499546, 0.01411066,\n",
       "         0.01411066, 0.87592278, 0.87592278, 0.07312148, 0.07312148,\n",
       "         0.04885295, 0.04885295, 0.47643081, 0.47643081, 0.08730135,\n",
       "         0.08730135, 0.62468471, 0.62468471, 0.35872678, 0.35872678,\n",
       "         0.98714463, 0.98714463, 0.10605665, 0.10605665, 0.04076611,\n",
       "         0.04076611, 0.83084635, 0.83084635, 0.73406379, 0.73406379,\n",
       "         0.22877906, 0.22877906, 0.32247355, 0.32247355, 0.15192208,\n",
       "         0.15192208, 0.03522348, 0.03522348, 0.42905966, 0.42905966,\n",
       "         0.95404698, 0.95404698, 0.00997492, 0.00997492, 0.52776679,\n",
       "         0.52776679, 0.26940729, 0.26940729, 0.53592202, 0.53592202,\n",
       "         0.93747307, 0.93747307, 0.13517114, 0.13517114, 0.179216  ,\n",
       "         0.179216  , 0.54487089, 0.54487089, 0.08711932, 0.08711932,\n",
       "         0.90731982, 0.90731982, 0.37891929, 0.37891929, 0.68350245,\n",
       "         0.68350245, 0.07392708, 0.07392708, 0.80478557, 0.80478557,\n",
       "         0.64699704, 0.64699704, 0.41068599, 0.41068599, 0.03626944,\n",
       "         0.03626944, 0.91076169, 0.91076169, 0.31971743, 0.31971743,\n",
       "         0.73019991, 0.73019991, 0.52491207, 0.52491207, 0.66132651,\n",
       "         0.66132651, 0.55830035, 0.55830035, 0.35067814, 0.35067814,\n",
       "         0.85795439, 0.85795439, 0.08983299, 0.08983299, 0.29611433,\n",
       "         0.29611433, 0.82819989, 0.82819989, 0.62609038, 0.62609038,\n",
       "         0.82918882, 0.82918882, 0.6269041 , 0.6269041 , 0.69186279,\n",
       "         0.69186279, 0.82440474, 0.82440474, 0.92253052, 0.92253052,\n",
       "         0.17117193, 0.17117193, 0.96621628, 0.96621628, 0.20122359,\n",
       "         0.20122359, 0.28966875, 0.28966875, 0.43234648, 0.43234648])}}"
      ]
     },
     "execution_count": 1,
     "metadata": {},
     "output_type": "execute_result"
    }
   ],
   "source": [
    "ds = load_by_id(run_id_n)\n",
    "ds.get_parameter_data('x1')"
   ]
  },
  {
   "cell_type": "markdown",
   "metadata": {},
   "source": [
    "And a dataset stored as binary arrays"
   ]
  },
  {
   "cell_type": "code",
   "execution_count": 12,
   "metadata": {
    "execution": {
     "iopub.execute_input": "2020-10-26T08:23:11.051346Z",
     "iopub.status.busy": "2020-10-26T08:23:11.050798Z",
     "iopub.status.idle": "2020-10-26T08:23:11.106521Z",
     "shell.execute_reply": "2020-10-26T08:23:11.107079Z"
    },
    "scrolled": true
   },
   "outputs": [
    {
     "data": {
      "text/plain": [
       "{'x1': {'x1': array([[0.06178768],\n",
       "         [0.06178768],\n",
       "         [0.17572688],\n",
       "         [0.17572688],\n",
       "         [0.94467571],\n",
       "         [0.94467571],\n",
       "         [0.07096002],\n",
       "         [0.07096002],\n",
       "         [0.09484094],\n",
       "         [0.09484094],\n",
       "         [0.57768319],\n",
       "         [0.57768319],\n",
       "         [0.5091212 ],\n",
       "         [0.5091212 ],\n",
       "         [0.3117116 ],\n",
       "         [0.3117116 ],\n",
       "         [0.21340908],\n",
       "         [0.21340908],\n",
       "         [0.71593529],\n",
       "         [0.71593529],\n",
       "         [0.05032726],\n",
       "         [0.05032726],\n",
       "         [0.28743261],\n",
       "         [0.28743261],\n",
       "         [0.28960537],\n",
       "         [0.28960537],\n",
       "         [0.56107563],\n",
       "         [0.56107563],\n",
       "         [0.66805917],\n",
       "         [0.66805917],\n",
       "         [0.2925231 ],\n",
       "         [0.2925231 ],\n",
       "         [0.22894109],\n",
       "         [0.22894109],\n",
       "         [0.8404291 ],\n",
       "         [0.8404291 ],\n",
       "         [0.66657783],\n",
       "         [0.66657783],\n",
       "         [0.23870071],\n",
       "         [0.23870071],\n",
       "         [0.46528232],\n",
       "         [0.46528232],\n",
       "         [0.19243172],\n",
       "         [0.19243172],\n",
       "         [0.05823928],\n",
       "         [0.05823928],\n",
       "         [0.33804909],\n",
       "         [0.33804909],\n",
       "         [0.84634324],\n",
       "         [0.84634324],\n",
       "         [0.16381575],\n",
       "         [0.16381575],\n",
       "         [0.3238033 ],\n",
       "         [0.3238033 ],\n",
       "         [0.90173773],\n",
       "         [0.90173773],\n",
       "         [0.78693925],\n",
       "         [0.78693925],\n",
       "         [0.84218252],\n",
       "         [0.84218252],\n",
       "         [0.37391274],\n",
       "         [0.37391274],\n",
       "         [0.07435969],\n",
       "         [0.07435969],\n",
       "         [0.50960288],\n",
       "         [0.50960288],\n",
       "         [0.43967333],\n",
       "         [0.43967333],\n",
       "         [0.67710382],\n",
       "         [0.67710382],\n",
       "         [0.09657064],\n",
       "         [0.09657064],\n",
       "         [0.23715428],\n",
       "         [0.23715428],\n",
       "         [0.58372208],\n",
       "         [0.58372208],\n",
       "         [0.6401729 ],\n",
       "         [0.6401729 ],\n",
       "         [0.59216375],\n",
       "         [0.59216375],\n",
       "         [0.42591017],\n",
       "         [0.42591017],\n",
       "         [0.30859403],\n",
       "         [0.30859403],\n",
       "         [0.19889307],\n",
       "         [0.19889307],\n",
       "         [0.31334409],\n",
       "         [0.31334409],\n",
       "         [0.92503184],\n",
       "         [0.92503184],\n",
       "         [0.82165269],\n",
       "         [0.82165269],\n",
       "         [0.62010078],\n",
       "         [0.62010078],\n",
       "         [0.84191331],\n",
       "         [0.84191331],\n",
       "         [0.48619886],\n",
       "         [0.48619886],\n",
       "         [0.91733766],\n",
       "         [0.91733766],\n",
       "         [0.12616377],\n",
       "         [0.12616377],\n",
       "         [0.3379402 ],\n",
       "         [0.3379402 ],\n",
       "         [0.12290343],\n",
       "         [0.12290343],\n",
       "         [0.90579515],\n",
       "         [0.90579515],\n",
       "         [0.9364885 ],\n",
       "         [0.9364885 ],\n",
       "         [0.08408895],\n",
       "         [0.08408895],\n",
       "         [0.912765  ],\n",
       "         [0.912765  ],\n",
       "         [0.11730597],\n",
       "         [0.11730597],\n",
       "         [0.67573499],\n",
       "         [0.67573499],\n",
       "         [0.18509937],\n",
       "         [0.18509937],\n",
       "         [0.32125538],\n",
       "         [0.32125538],\n",
       "         [0.0790497 ],\n",
       "         [0.0790497 ],\n",
       "         [0.46271061],\n",
       "         [0.46271061],\n",
       "         [0.70470176],\n",
       "         [0.70470176],\n",
       "         [0.03732338],\n",
       "         [0.03732338],\n",
       "         [0.19874359],\n",
       "         [0.19874359],\n",
       "         [0.10915642],\n",
       "         [0.10915642],\n",
       "         [0.71688748],\n",
       "         [0.71688748],\n",
       "         [0.01614297],\n",
       "         [0.01614297],\n",
       "         [0.29051226],\n",
       "         [0.29051226],\n",
       "         [0.29005065],\n",
       "         [0.29005065],\n",
       "         [0.21803038],\n",
       "         [0.21803038],\n",
       "         [0.72047843],\n",
       "         [0.72047843],\n",
       "         [0.99009215],\n",
       "         [0.99009215],\n",
       "         [0.27168055],\n",
       "         [0.27168055],\n",
       "         [0.12115158],\n",
       "         [0.12115158],\n",
       "         [0.70490039],\n",
       "         [0.70490039],\n",
       "         [0.25948987],\n",
       "         [0.25948987],\n",
       "         [0.02834355],\n",
       "         [0.02834355],\n",
       "         [0.438835  ],\n",
       "         [0.438835  ],\n",
       "         [0.46782735],\n",
       "         [0.46782735],\n",
       "         [0.90022685],\n",
       "         [0.90022685],\n",
       "         [0.90093914],\n",
       "         [0.90093914],\n",
       "         [0.34942456],\n",
       "         [0.34942456],\n",
       "         [0.04155644],\n",
       "         [0.04155644],\n",
       "         [0.6726621 ],\n",
       "         [0.6726621 ],\n",
       "         [0.10006311],\n",
       "         [0.10006311],\n",
       "         [0.72352015],\n",
       "         [0.72352015],\n",
       "         [0.36890278],\n",
       "         [0.36890278],\n",
       "         [0.45358313],\n",
       "         [0.45358313],\n",
       "         [0.14567185],\n",
       "         [0.14567185],\n",
       "         [0.55708338],\n",
       "         [0.55708338],\n",
       "         [0.43190031],\n",
       "         [0.43190031],\n",
       "         [0.67391741],\n",
       "         [0.67391741],\n",
       "         [0.42294616],\n",
       "         [0.42294616],\n",
       "         [0.00926821],\n",
       "         [0.00926821],\n",
       "         [0.42457986],\n",
       "         [0.42457986],\n",
       "         [0.53666494],\n",
       "         [0.53666494],\n",
       "         [0.022443  ],\n",
       "         [0.022443  ],\n",
       "         [0.2878509 ],\n",
       "         [0.2878509 ]])}}"
      ]
     },
     "execution_count": 1,
     "metadata": {},
     "output_type": "execute_result"
    }
   ],
   "source": [
    "ds = load_by_id(run_id_a)\n",
    "ds.get_parameter_data('x1')"
   ]
  },
  {
   "cell_type": "code",
   "execution_count": null,
   "metadata": {},
   "outputs": [],
   "source": []
  }
 ],
 "metadata": {
  "kernelspec": {
   "display_name": "Python 3",
   "language": "python",
   "name": "python3"
  },
  "language_info": {
   "codemirror_mode": {
    "name": "ipython",
    "version": 3
   },
   "file_extension": ".py",
   "mimetype": "text/x-python",
   "name": "python",
   "nbconvert_exporter": "python",
   "pygments_lexer": "ipython3",
   "version": "3.7.7"
  },
  "nbsphinx": {
   "timeout": 600
  },
  "toc": {
   "base_numbering": 1,
   "nav_menu": {},
   "number_sections": true,
   "sideBar": true,
   "skip_h1_title": false,
   "title_cell": "Table of Contents",
   "title_sidebar": "Contents",
   "toc_cell": false,
   "toc_position": {},
   "toc_section_display": true,
   "toc_window_display": false
  },
  "varInspector": {
   "cols": {
    "lenName": 16,
    "lenType": 16,
    "lenVar": 40
   },
   "kernels_config": {
    "python": {
     "delete_cmd_postfix": "",
     "delete_cmd_prefix": "del ",
     "library": "var_list.py",
     "varRefreshCmd": "print(var_dic_list())"
    },
    "r": {
     "delete_cmd_postfix": ") ",
     "delete_cmd_prefix": "rm(",
     "library": "var_list.r",
     "varRefreshCmd": "cat(var_dic_list()) "
    }
   },
   "types_to_exclude": [
    "module",
    "function",
    "builtin_function_or_method",
    "instance",
    "_Feature"
   ],
   "window_display": false
  }
 },
 "nbformat": 4,
 "nbformat_minor": 2
}
