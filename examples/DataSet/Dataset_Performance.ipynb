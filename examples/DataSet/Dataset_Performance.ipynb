{
 "cells": [
  {
   "cell_type": "markdown",
   "metadata": {},
   "source": [
    "# DataSet Performance\n",
    "\n",
    "This notebook shows the trade-off between inserting data into a database row-by-row and as binary blobs. Inserting the data row-by-row means that we have direct access to all the data and may perform queries directly on the values of the data. On the other hand, as we shall see, this is much slower than inserting the data directly as binary blobs."
   ]
  },
  {
   "cell_type": "markdown",
   "metadata": {},
   "source": [
    "First, we choose a new location for the database to ensure that we don't add a bunch of benchmarking data to the default one."
   ]
  },
  {
   "cell_type": "code",
   "execution_count": 1,
   "metadata": {},
   "outputs": [
    {
     "name": "stdout",
     "output_type": "stream",
     "text": [
      "Logging hadn't been started.\n",
      "Activating auto-logging. Current session state plus future input saved.\n",
      "Filename       : /home/vsts/.qcodes/logs/command_history.log\n",
      "Mode           : append\n",
      "Output logging : True\n",
      "Raw input log  : False\n",
      "Timestamping   : True\n",
      "State          : active\n"
     ]
    },
    {
     "name": "stdout",
     "output_type": "stream",
     "text": [
      "Qcodes Logfile : /home/vsts/.qcodes/logs/200814-18722-qcodes.log\n"
     ]
    }
   ],
   "source": [
    "import os\n",
    "cwd = os.getcwd()\n",
    "import qcodes as qc\n",
    "qc.config[\"core\"][\"db_location\"] = os.path.join(cwd, 'testing.db')\n"
   ]
  },
  {
   "cell_type": "code",
   "execution_count": 2,
   "metadata": {},
   "outputs": [],
   "source": [
    "%matplotlib inline\n",
    "import time\n",
    "import matplotlib.pyplot as plt\n",
    "import numpy as np\n",
    "\n",
    "import qcodes as qc\n",
    "from qcodes.instrument.parameter import ManualParameter\n",
    "from qcodes.dataset.experiment_container import (Experiment,\n",
    "                                                 load_last_experiment,\n",
    "                                                 new_experiment)\n",
    "from qcodes.dataset.sqlite.database import initialise_database\n",
    "from qcodes import load_or_create_experiment\n",
    "from qcodes.dataset.measurements import Measurement"
   ]
  },
  {
   "cell_type": "code",
   "execution_count": 3,
   "metadata": {},
   "outputs": [
    {
     "name": "stdout",
     "output_type": "stream",
     "text": [
      "\r",
      "0it [00:00, ?it/s]"
     ]
    },
    {
     "name": "stdout",
     "output_type": "stream",
     "text": [
      "\r",
      "Upgrading database; v0 -> v1: : 0it [00:00, ?it/s]"
     ]
    },
    {
     "name": "stdout",
     "output_type": "stream",
     "text": [
      "\r",
      "Upgrading database; v0 -> v1: : 0it [00:00, ?it/s]"
     ]
    },
    {
     "name": "stdout",
     "output_type": "stream",
     "text": [
      "\n",
      "\r",
      "  0%|          | 0/1 [00:00<?, ?it/s]"
     ]
    },
    {
     "name": "stdout",
     "output_type": "stream",
     "text": [
      "\r",
      "Upgrading database; v1 -> v2:   0%|          | 0/1 [00:00<?, ?it/s]"
     ]
    },
    {
     "name": "stdout",
     "output_type": "stream",
     "text": [
      "\r",
      "Upgrading database; v1 -> v2: 100%|██████████| 1/1 [00:00<00:00, 714.17it/s]"
     ]
    },
    {
     "name": "stdout",
     "output_type": "stream",
     "text": [
      "\n",
      "\r",
      "0it [00:00, ?it/s]"
     ]
    },
    {
     "name": "stdout",
     "output_type": "stream",
     "text": [
      "\r",
      "Upgrading database; v2 -> v3: : 0it [00:00, ?it/s]"
     ]
    },
    {
     "name": "stdout",
     "output_type": "stream",
     "text": [
      "\r",
      "Upgrading database; v2 -> v3: : 0it [00:00, ?it/s]"
     ]
    },
    {
     "name": "stdout",
     "output_type": "stream",
     "text": [
      "\n",
      "\r",
      "0it [00:00, ?it/s]"
     ]
    },
    {
     "name": "stdout",
     "output_type": "stream",
     "text": [
      "\r",
      "Upgrading database; v3 -> v4: : 0it [00:00, ?it/s]"
     ]
    },
    {
     "name": "stdout",
     "output_type": "stream",
     "text": [
      "\r",
      "Upgrading database; v3 -> v4: : 0it [00:00, ?it/s]"
     ]
    },
    {
     "name": "stdout",
     "output_type": "stream",
     "text": [
      "\n",
      "\r",
      "  0%|          | 0/1 [00:00<?, ?it/s]"
     ]
    },
    {
     "name": "stdout",
     "output_type": "stream",
     "text": [
      "\r",
      "Upgrading database; v4 -> v5:   0%|          | 0/1 [00:00<?, ?it/s]"
     ]
    },
    {
     "name": "stdout",
     "output_type": "stream",
     "text": [
      "\r",
      "Upgrading database; v4 -> v5: 100%|██████████| 1/1 [00:00<00:00, 794.53it/s]"
     ]
    },
    {
     "name": "stdout",
     "output_type": "stream",
     "text": [
      "\n",
      "\r",
      "0it [00:00, ?it/s]"
     ]
    },
    {
     "name": "stdout",
     "output_type": "stream",
     "text": [
      "\r",
      "Upgrading database; v5 -> v6: : 0it [00:00, ?it/s]"
     ]
    },
    {
     "name": "stdout",
     "output_type": "stream",
     "text": [
      "\r",
      "Upgrading database; v5 -> v6: : 0it [00:00, ?it/s]"
     ]
    },
    {
     "name": "stdout",
     "output_type": "stream",
     "text": [
      "\n",
      "\r",
      "  0%|          | 0/1 [00:00<?, ?it/s]"
     ]
    },
    {
     "name": "stdout",
     "output_type": "stream",
     "text": [
      "\r",
      "Upgrading database; v6 -> v7:   0%|          | 0/1 [00:00<?, ?it/s]"
     ]
    },
    {
     "name": "stdout",
     "output_type": "stream",
     "text": [
      "\r",
      "Upgrading database; v6 -> v7: 100%|██████████| 1/1 [00:00<00:00, 375.06it/s]"
     ]
    },
    {
     "name": "stdout",
     "output_type": "stream",
     "text": [
      "\n",
      "\r",
      "  0%|          | 0/1 [00:00<?, ?it/s]"
     ]
    },
    {
     "name": "stdout",
     "output_type": "stream",
     "text": [
      "\r",
      "Upgrading database; v7 -> v8:   0%|          | 0/1 [00:00<?, ?it/s]"
     ]
    },
    {
     "name": "stdout",
     "output_type": "stream",
     "text": [
      "\r",
      "Upgrading database; v7 -> v8: 100%|██████████| 1/1 [00:00<00:00, 547.20it/s]"
     ]
    },
    {
     "name": "stdout",
     "output_type": "stream",
     "text": [
      "\n",
      "\r",
      "  0%|          | 0/1 [00:00<?, ?it/s]"
     ]
    },
    {
     "name": "stdout",
     "output_type": "stream",
     "text": [
      "\r",
      "Upgrading database; v8 -> v9:   0%|          | 0/1 [00:00<?, ?it/s]"
     ]
    },
    {
     "name": "stdout",
     "output_type": "stream",
     "text": [
      "\r",
      "Upgrading database; v8 -> v9: 100%|██████████| 1/1 [00:00<00:00, 857.38it/s]"
     ]
    },
    {
     "name": "stdout",
     "output_type": "stream",
     "text": [
      "\n"
     ]
    }
   ],
   "source": [
    "initialise_database()\n",
    "exp = load_or_create_experiment(experiment_name='tutorial_exp', sample_name=\"no sample\")"
   ]
  },
  {
   "cell_type": "markdown",
   "metadata": {},
   "source": [
    "Here, we define a simple function to benchmark the time it takes to insert n points with either numeric or array data type.\n",
    "We will compare both the time used to call ``add_result`` and the time used for the full measurement."
   ]
  },
  {
   "cell_type": "code",
   "execution_count": 4,
   "metadata": {},
   "outputs": [],
   "source": [
    "def insert_data(paramtype, npoints, nreps=1):\n",
    "\n",
    "    meas = Measurement(exp=exp)\n",
    "\n",
    "    x1 = ManualParameter('x1')\n",
    "    x2 = ManualParameter('x2')\n",
    "    x3 = ManualParameter('x3')\n",
    "    y1 = ManualParameter('y1')\n",
    "    y2 = ManualParameter('y2')\n",
    "\n",
    "    meas.register_parameter(x1, paramtype=paramtype)\n",
    "    meas.register_parameter(x2, paramtype=paramtype)\n",
    "    meas.register_parameter(x3, paramtype=paramtype)\n",
    "    meas.register_parameter(y1, setpoints=[x1, x2, x3],\n",
    "                            paramtype=paramtype)\n",
    "    meas.register_parameter(y2, setpoints=[x1, x2, x3],\n",
    "                            paramtype=paramtype)\n",
    "    start = time.perf_counter()\n",
    "    with meas.run() as datasaver:\n",
    "        start_adding = time.perf_counter()\n",
    "        for i in range(nreps):\n",
    "            datasaver.add_result((x1, np.random.rand(npoints)),\n",
    "                                 (x2, np.random.rand(npoints)),\n",
    "                                 (x3, np.random.rand(npoints)),\n",
    "                                 (y1, np.random.rand(npoints)),\n",
    "                                 (y2, np.random.rand(npoints)))\n",
    "        stop_adding = time.perf_counter()\n",
    "        run_id = datasaver.run_id\n",
    "    stop = time.perf_counter()\n",
    "    tot_time = stop - start\n",
    "    add_time = stop_adding - start_adding\n",
    "    return tot_time, add_time, run_id"
   ]
  },
  {
   "cell_type": "markdown",
   "metadata": {},
   "source": [
    "## Comparison between numeric/array data and binary blob"
   ]
  },
  {
   "cell_type": "markdown",
   "metadata": {},
   "source": [
    "### Case1: Short experiment time"
   ]
  },
  {
   "cell_type": "code",
   "execution_count": 5,
   "metadata": {},
   "outputs": [
    {
     "name": "stdout",
     "output_type": "stream",
     "text": [
      "Starting experimental run with id: 1. \n",
      "Starting experimental run with id: 2. \n",
      "Starting experimental run with id: 3. \n"
     ]
    },
    {
     "name": "stdout",
     "output_type": "stream",
     "text": [
      "Starting experimental run with id: 4. "
     ]
    },
    {
     "name": "stdout",
     "output_type": "stream",
     "text": [
      "\n"
     ]
    },
    {
     "name": "stdout",
     "output_type": "stream",
     "text": [
      "Starting experimental run with id: 5. \n",
      "Starting experimental run with id: 6. \n"
     ]
    },
    {
     "name": "stdout",
     "output_type": "stream",
     "text": [
      "Starting experimental run with id: 7. \n",
      "Starting experimental run with id: 8. \n"
     ]
    },
    {
     "name": "stdout",
     "output_type": "stream",
     "text": [
      "Starting experimental run with id: 9. \n"
     ]
    },
    {
     "name": "stdout",
     "output_type": "stream",
     "text": [
      "Starting experimental run with id: 10. \n",
      "Starting experimental run with id: 11. \n"
     ]
    },
    {
     "name": "stdout",
     "output_type": "stream",
     "text": [
      "Starting experimental run with id: 12. \n"
     ]
    },
    {
     "name": "stdout",
     "output_type": "stream",
     "text": [
      "Starting experimental run with id: 13. \n"
     ]
    },
    {
     "name": "stdout",
     "output_type": "stream",
     "text": [
      "Starting experimental run with id: 14. \n"
     ]
    }
   ],
   "source": [
    "sizes = [1,500,1000,2000,3000,4000,5000]\n",
    "t_numeric = []\n",
    "t_numeric_add = []\n",
    "t_array = []\n",
    "t_array_add = []\n",
    "for size in sizes:\n",
    "    tn, tna, run_id_n =  insert_data('numeric', size)\n",
    "    t_numeric.append(tn)\n",
    "    t_numeric_add.append(tna)\n",
    "\n",
    "    ta, taa, run_id_a =  insert_data('array', size)\n",
    "    t_array.append(ta)\n",
    "    t_array_add.append(taa)"
   ]
  },
  {
   "cell_type": "code",
   "execution_count": 6,
   "metadata": {},
   "outputs": [
    {
     "data": {
      "image/png": "[encoded data removed]",
      "text/plain": [
       "<Figure size 432x288 with 1 Axes>"
      ]
     },
     "metadata": {
      "needs_background": "light"
     },
     "output_type": "display_data"
    }
   ],
   "source": [
    "fig, ax = plt.subplots(1,1)\n",
    "ax.plot(sizes, t_numeric, 'o-', label='Inserting row-by-row')\n",
    "ax.plot(sizes, t_numeric_add, 'o-', label='Inserting row-by-row: add_result only')\n",
    "ax.plot(sizes, t_array, 'd-', label='Inserting as binary blob')\n",
    "ax.plot(sizes, t_array_add, 'd-', label='Inserting as binary blob: add_result only')\n",
    "ax.legend()\n",
    "ax.set_xlabel('Array length')\n",
    "ax.set_ylabel('Time (s)')\n",
    "fig.tight_layout()"
   ]
  },
  {
   "cell_type": "markdown",
   "metadata": {},
   "source": [
    "As shown in the latter figure, the time to setup and and close the experiment is approximately 0.4 sec. In case of small array sizes, the difference between inserting values of data as arrays and inserting them row-by-row is relatively unimportant. At larger array sizes, i.e. above 10000 points, the cost of writing data as individual datapoints starts to become important.\n"
   ]
  },
  {
   "cell_type": "markdown",
   "metadata": {},
   "source": [
    "### Case2: Long experiment time "
   ]
  },
  {
   "cell_type": "code",
   "execution_count": 7,
   "metadata": {},
   "outputs": [
    {
     "name": "stdout",
     "output_type": "stream",
     "text": [
      "Starting experimental run with id: 15. \n",
      "Starting experimental run with id: 16. \n",
      "Starting experimental run with id: 17. \n"
     ]
    },
    {
     "name": "stdout",
     "output_type": "stream",
     "text": [
      "Starting experimental run with id: 18. \n",
      "Starting experimental run with id: 19. \n"
     ]
    },
    {
     "name": "stdout",
     "output_type": "stream",
     "text": [
      "Starting experimental run with id: 20. \n"
     ]
    },
    {
     "name": "stdout",
     "output_type": "stream",
     "text": [
      "Starting experimental run with id: 21. \n"
     ]
    },
    {
     "name": "stdout",
     "output_type": "stream",
     "text": [
      "Starting experimental run with id: 22. \n"
     ]
    },
    {
     "name": "stdout",
     "output_type": "stream",
     "text": [
      "Starting experimental run with id: 23. \n"
     ]
    },
    {
     "name": "stdout",
     "output_type": "stream",
     "text": [
      "Starting experimental run with id: 24. \n"
     ]
    },
    {
     "name": "stdout",
     "output_type": "stream",
     "text": [
      "Starting experimental run with id: 25. \n"
     ]
    },
    {
     "name": "stdout",
     "output_type": "stream",
     "text": [
      "Starting experimental run with id: 26. \n"
     ]
    },
    {
     "name": "stdout",
     "output_type": "stream",
     "text": [
      "Starting experimental run with id: 27. \n"
     ]
    },
    {
     "name": "stdout",
     "output_type": "stream",
     "text": [
      "Starting experimental run with id: 28. \n"
     ]
    }
   ],
   "source": [
    "sizes = [1,500,1000,2000,3000,4000,5000]\n",
    "nreps = 100\n",
    "t_numeric = []\n",
    "t_numeric_add = []\n",
    "t_numeric_run_ids = []\n",
    "t_array = []\n",
    "t_array_add = []\n",
    "t_array_run_ids = []\n",
    "for size in sizes:\n",
    "    tn, tna, run_id_n =  insert_data('numeric', size, nreps=nreps)\n",
    "    t_numeric.append(tn)\n",
    "    t_numeric_add.append(tna)\n",
    "    t_numeric_run_ids.append(run_id_n)\n",
    "\n",
    "    ta, taa, run_id_a =  insert_data('array', size, nreps=nreps)\n",
    "    t_array.append(ta)\n",
    "    t_array_add.append(taa)\n",
    "    t_array_run_ids.append(run_id_a)"
   ]
  },
  {
   "cell_type": "code",
   "execution_count": 8,
   "metadata": {
    "scrolled": true
   },
   "outputs": [
    {
     "data": {
      "image/png": "[encoded data removed]",
      "text/plain": [
       "<Figure size 432x288 with 1 Axes>"
      ]
     },
     "metadata": {
      "needs_background": "light"
     },
     "output_type": "display_data"
    }
   ],
   "source": [
    "fig, ax = plt.subplots(1,1)\n",
    "ax.plot(sizes, t_numeric, 'o-', label='Inserting row-by-row')\n",
    "ax.plot(sizes, t_numeric_add, 'o-', label='Inserting row-by-row: add_result only')\n",
    "ax.plot(sizes, t_array, 'd-', label='Inserting as binary blob')\n",
    "ax.plot(sizes, t_array_add, 'd-', label='Inserting as binary blob: add_result only')\n",
    "ax.legend()\n",
    "ax.set_xlabel('Array length')\n",
    "ax.set_ylabel('Time (s)')\n",
    "fig.tight_layout()"
   ]
  },
  {
   "cell_type": "markdown",
   "metadata": {},
   "source": [
    "However, as we increase the length of the experiment, as seen here by repeating the insertion 100 times, we see a big difference between inserting values of the data row-by-row and inserting it as a binary blob."
   ]
  },
  {
   "cell_type": "markdown",
   "metadata": {},
   "source": [
    "## Loading the data "
   ]
  },
  {
   "cell_type": "code",
   "execution_count": 9,
   "metadata": {},
   "outputs": [],
   "source": [
    "from qcodes.dataset.data_set import load_by_id\n",
    "from qcodes.dataset.data_export import get_data_by_id"
   ]
  },
  {
   "cell_type": "markdown",
   "metadata": {},
   "source": [
    "As usual you can load the data by using the ``load_by_id`` function but you will notice that the different storage methods\n",
    "are reflected in shape of the data as it is retrieved. "
   ]
  },
  {
   "cell_type": "code",
   "execution_count": 10,
   "metadata": {},
   "outputs": [],
   "source": [
    "run_id_n = t_numeric_run_ids[0]\n",
    "run_id_a = t_array_run_ids[0]"
   ]
  },
  {
   "cell_type": "code",
   "execution_count": 11,
   "metadata": {
    "scrolled": true
   },
   "outputs": [
    {
     "data": {
      "text/plain": [
       "{'x1': {'x1': array([0.43975831, 0.43975831, 0.69214461, 0.69214461, 0.21817852,\n",
       "         0.21817852, 0.51523601, 0.51523601, 0.97590656, 0.97590656,\n",
       "         0.13921734, 0.13921734, 0.84080007, 0.84080007, 0.94146149,\n",
       "         0.94146149, 0.94568752, 0.94568752, 0.18050088, 0.18050088,\n",
       "         0.58482387, 0.58482387, 0.08906652, 0.08906652, 0.55855184,\n",
       "         0.55855184, 0.84711826, 0.84711826, 0.60014688, 0.60014688,\n",
       "         0.37975562, 0.37975562, 0.81080987, 0.81080987, 0.26410127,\n",
       "         0.26410127, 0.83236673, 0.83236673, 0.08977522, 0.08977522,\n",
       "         0.57081465, 0.57081465, 0.69783892, 0.69783892, 0.97752197,\n",
       "         0.97752197, 0.76833165, 0.76833165, 0.53915347, 0.53915347,\n",
       "         0.12624456, 0.12624456, 0.35655487, 0.35655487, 0.64338476,\n",
       "         0.64338476, 0.97862013, 0.97862013, 0.06081844, 0.06081844,\n",
       "         0.87678298, 0.87678298, 0.11325431, 0.11325431, 0.67892432,\n",
       "         0.67892432, 0.55239766, 0.55239766, 0.54755611, 0.54755611,\n",
       "         0.46053064, 0.46053064, 0.24816241, 0.24816241, 0.29549303,\n",
       "         0.29549303, 0.77590768, 0.77590768, 0.35867416, 0.35867416,\n",
       "         0.98115864, 0.98115864, 0.49853575, 0.49853575, 0.51968137,\n",
       "         0.51968137, 0.26271846, 0.26271846, 0.57178649, 0.57178649,\n",
       "         0.13634768, 0.13634768, 0.4729197 , 0.4729197 , 0.96500148,\n",
       "         0.96500148, 0.85378916, 0.85378916, 0.71306549, 0.71306549,\n",
       "         0.14864859, 0.14864859, 0.42897873, 0.42897873, 0.80167371,\n",
       "         0.80167371, 0.73166088, 0.73166088, 0.18952523, 0.18952523,\n",
       "         0.26435654, 0.26435654, 0.77697239, 0.77697239, 0.35377588,\n",
       "         0.35377588, 0.1494739 , 0.1494739 , 0.44436009, 0.44436009,\n",
       "         0.37735812, 0.37735812, 0.28324588, 0.28324588, 0.68004574,\n",
       "         0.68004574, 0.67661747, 0.67661747, 0.36320458, 0.36320458,\n",
       "         0.3818804 , 0.3818804 , 0.84897313, 0.84897313, 0.32782163,\n",
       "         0.32782163, 0.19450146, 0.19450146, 0.86856592, 0.86856592,\n",
       "         0.17456405, 0.17456405, 0.29780172, 0.29780172, 0.24677255,\n",
       "         0.24677255, 0.69517151, 0.69517151, 0.7121013 , 0.7121013 ,\n",
       "         0.03326716, 0.03326716, 0.37907068, 0.37907068, 0.99628203,\n",
       "         0.99628203, 0.73341276, 0.73341276, 0.44445053, 0.44445053,\n",
       "         0.32738186, 0.32738186, 0.10620217, 0.10620217, 0.04410589,\n",
       "         0.04410589, 0.17194223, 0.17194223, 0.49619336, 0.49619336,\n",
       "         0.65561789, 0.65561789, 0.84437185, 0.84437185, 0.75858909,\n",
       "         0.75858909, 0.63910346, 0.63910346, 0.61370923, 0.61370923,\n",
       "         0.20913257, 0.20913257, 0.64298062, 0.64298062, 0.50861951,\n",
       "         0.50861951, 0.64084364, 0.64084364, 0.39827653, 0.39827653,\n",
       "         0.29685305, 0.29685305, 0.74907507, 0.74907507, 0.97157246,\n",
       "         0.97157246, 0.22479232, 0.22479232, 0.22095423, 0.22095423])}}"
      ]
     },
     "execution_count": 11,
     "metadata": {},
     "output_type": "execute_result"
    }
   ],
   "source": [
    "ds = load_by_id(run_id_n)\n",
    "ds.get_parameter_data('x1')"
   ]
  },
  {
   "cell_type": "markdown",
   "metadata": {},
   "source": [
    "And a dataset stored as binary arrays"
   ]
  },
  {
   "cell_type": "code",
   "execution_count": 12,
   "metadata": {
    "scrolled": true
   },
   "outputs": [
    {
     "data": {
      "text/plain": [
       "{'x1': {'x1': array([[0.83493354],\n",
       "         [0.83493354],\n",
       "         [0.29878203],\n",
       "         [0.29878203],\n",
       "         [0.52812972],\n",
       "         [0.52812972],\n",
       "         [0.27396579],\n",
       "         [0.27396579],\n",
       "         [0.29167972],\n",
       "         [0.29167972],\n",
       "         [0.02052961],\n",
       "         [0.02052961],\n",
       "         [0.88279163],\n",
       "         [0.88279163],\n",
       "         [0.41037661],\n",
       "         [0.41037661],\n",
       "         [0.05770538],\n",
       "         [0.05770538],\n",
       "         [0.36911766],\n",
       "         [0.36911766],\n",
       "         [0.80121994],\n",
       "         [0.80121994],\n",
       "         [0.29665262],\n",
       "         [0.29665262],\n",
       "         [0.54593946],\n",
       "         [0.54593946],\n",
       "         [0.34428371],\n",
       "         [0.34428371],\n",
       "         [0.19949905],\n",
       "         [0.19949905],\n",
       "         [0.50984839],\n",
       "         [0.50984839],\n",
       "         [0.82356373],\n",
       "         [0.82356373],\n",
       "         [0.79430049],\n",
       "         [0.79430049],\n",
       "         [0.30256084],\n",
       "         [0.30256084],\n",
       "         [0.58255601],\n",
       "         [0.58255601],\n",
       "         [0.05569766],\n",
       "         [0.05569766],\n",
       "         [0.76873061],\n",
       "         [0.76873061],\n",
       "         [0.23635026],\n",
       "         [0.23635026],\n",
       "         [0.41979094],\n",
       "         [0.41979094],\n",
       "         [0.45577319],\n",
       "         [0.45577319],\n",
       "         [0.56318554],\n",
       "         [0.56318554],\n",
       "         [0.99100467],\n",
       "         [0.99100467],\n",
       "         [0.72467208],\n",
       "         [0.72467208],\n",
       "         [0.58067352],\n",
       "         [0.58067352],\n",
       "         [0.60872937],\n",
       "         [0.60872937],\n",
       "         [0.93492012],\n",
       "         [0.93492012],\n",
       "         [0.10682222],\n",
       "         [0.10682222],\n",
       "         [0.38285364],\n",
       "         [0.38285364],\n",
       "         [0.46534477],\n",
       "         [0.46534477],\n",
       "         [0.41592764],\n",
       "         [0.41592764],\n",
       "         [0.7992103 ],\n",
       "         [0.7992103 ],\n",
       "         [0.79373533],\n",
       "         [0.79373533],\n",
       "         [0.7627724 ],\n",
       "         [0.7627724 ],\n",
       "         [0.47921088],\n",
       "         [0.47921088],\n",
       "         [0.07243625],\n",
       "         [0.07243625],\n",
       "         [0.3628444 ],\n",
       "         [0.3628444 ],\n",
       "         [0.04080935],\n",
       "         [0.04080935],\n",
       "         [0.04695246],\n",
       "         [0.04695246],\n",
       "         [0.65845572],\n",
       "         [0.65845572],\n",
       "         [0.95782528],\n",
       "         [0.95782528],\n",
       "         [0.92502551],\n",
       "         [0.92502551],\n",
       "         [0.12758089],\n",
       "         [0.12758089],\n",
       "         [0.46476749],\n",
       "         [0.46476749],\n",
       "         [0.57859735],\n",
       "         [0.57859735],\n",
       "         [0.22908068],\n",
       "         [0.22908068],\n",
       "         [0.64758299],\n",
       "         [0.64758299],\n",
       "         [0.77900658],\n",
       "         [0.77900658],\n",
       "         [0.28058593],\n",
       "         [0.28058593],\n",
       "         [0.46271226],\n",
       "         [0.46271226],\n",
       "         [0.42388608],\n",
       "         [0.42388608],\n",
       "         [0.28705188],\n",
       "         [0.28705188],\n",
       "         [0.87676117],\n",
       "         [0.87676117],\n",
       "         [0.35459725],\n",
       "         [0.35459725],\n",
       "         [0.08355951],\n",
       "         [0.08355951],\n",
       "         [0.47710592],\n",
       "         [0.47710592],\n",
       "         [0.97337687],\n",
       "         [0.97337687],\n",
       "         [0.30474415],\n",
       "         [0.30474415],\n",
       "         [0.30621133],\n",
       "         [0.30621133],\n",
       "         [0.23902598],\n",
       "         [0.23902598],\n",
       "         [0.85721207],\n",
       "         [0.85721207],\n",
       "         [0.69058706],\n",
       "         [0.69058706],\n",
       "         [0.58537465],\n",
       "         [0.58537465],\n",
       "         [0.03436346],\n",
       "         [0.03436346],\n",
       "         [0.33939335],\n",
       "         [0.33939335],\n",
       "         [0.83567034],\n",
       "         [0.83567034],\n",
       "         [0.01979873],\n",
       "         [0.01979873],\n",
       "         [0.12489328],\n",
       "         [0.12489328],\n",
       "         [0.53296765],\n",
       "         [0.53296765],\n",
       "         [0.68598508],\n",
       "         [0.68598508],\n",
       "         [0.80298373],\n",
       "         [0.80298373],\n",
       "         [0.08459741],\n",
       "         [0.08459741],\n",
       "         [0.3143699 ],\n",
       "         [0.3143699 ],\n",
       "         [0.78129848],\n",
       "         [0.78129848],\n",
       "         [0.97927136],\n",
       "         [0.97927136],\n",
       "         [0.14305273],\n",
       "         [0.14305273],\n",
       "         [0.93508494],\n",
       "         [0.93508494],\n",
       "         [0.21682329],\n",
       "         [0.21682329],\n",
       "         [0.19358076],\n",
       "         [0.19358076],\n",
       "         [0.32667472],\n",
       "         [0.32667472],\n",
       "         [0.96233504],\n",
       "         [0.96233504],\n",
       "         [0.77633745],\n",
       "         [0.77633745],\n",
       "         [0.35591829],\n",
       "         [0.35591829],\n",
       "         [0.1008759 ],\n",
       "         [0.1008759 ],\n",
       "         [0.12984017],\n",
       "         [0.12984017],\n",
       "         [0.0616861 ],\n",
       "         [0.0616861 ],\n",
       "         [0.53793631],\n",
       "         [0.53793631],\n",
       "         [0.47259756],\n",
       "         [0.47259756],\n",
       "         [0.88990861],\n",
       "         [0.88990861],\n",
       "         [0.59305416],\n",
       "         [0.59305416],\n",
       "         [0.90136456],\n",
       "         [0.90136456],\n",
       "         [0.20556969],\n",
       "         [0.20556969],\n",
       "         [0.56697873],\n",
       "         [0.56697873],\n",
       "         [0.83568126],\n",
       "         [0.83568126],\n",
       "         [0.8512736 ],\n",
       "         [0.8512736 ],\n",
       "         [0.31578754],\n",
       "         [0.31578754]])}}"
      ]
     },
     "execution_count": 12,
     "metadata": {},
     "output_type": "execute_result"
    }
   ],
   "source": [
    "ds = load_by_id(run_id_a)\n",
    "ds.get_parameter_data('x1')"
   ]
  },
  {
   "cell_type": "code",
   "execution_count": null,
   "metadata": {},
   "outputs": [],
   "source": []
  }
 ],
 "metadata": {
  "kernelspec": {
   "display_name": "Python 3",
   "language": "python",
   "name": "python3"
  },
  "language_info": {
   "codemirror_mode": {
    "name": "ipython",
    "version": 3
   },
   "file_extension": ".py",
   "mimetype": "text/x-python",
   "name": "python",
   "nbconvert_exporter": "python",
   "pygments_lexer": "ipython3",
   "version": "3.7.7"
  },
  "nbsphinx": {
   "timeout": 600
  },
  "toc": {
   "base_numbering": 1,
   "nav_menu": {},
   "number_sections": true,
   "sideBar": true,
   "skip_h1_title": false,
   "title_cell": "Table of Contents",
   "title_sidebar": "Contents",
   "toc_cell": false,
   "toc_position": {},
   "toc_section_display": true,
   "toc_window_display": false
  },
  "varInspector": {
   "cols": {
    "lenName": 16,
    "lenType": 16,
    "lenVar": 40
   },
   "kernels_config": {
    "python": {
     "delete_cmd_postfix": "",
     "delete_cmd_prefix": "del ",
     "library": "var_list.py",
     "varRefreshCmd": "print(var_dic_list())"
    },
    "r": {
     "delete_cmd_postfix": ") ",
     "delete_cmd_prefix": "rm(",
     "library": "var_list.r",
     "varRefreshCmd": "cat(var_dic_list()) "
    }
   },
   "types_to_exclude": [
    "module",
    "function",
    "builtin_function_or_method",
    "instance",
    "_Feature"
   ],
   "window_display": false
  }
 },
 "nbformat": 4,
 "nbformat_minor": 2
}
