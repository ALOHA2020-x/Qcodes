{
 "cells": [
  {
   "cell_type": "markdown",
   "metadata": {},
   "source": [
    "# DataSet Performance\n",
    "\n",
    "This notebook shows the trade-off between inserting data into a database row-by-row and as binary blobs. Inserting the data row-by-row means that we have direct access to all the data and may perform queries directly on the values of the data. On the other hand, as we shall see, this is much slower than inserting the data directly as binary blobs."
   ]
  },
  {
   "cell_type": "markdown",
   "metadata": {},
   "source": [
    "First, we choose a new location for the database to ensure that we don't add a bunch of benchmarking data to the default one."
   ]
  },
  {
   "cell_type": "code",
   "execution_count": 1,
   "metadata": {
    "execution": {
     "iopub.execute_input": "2020-10-13T12:18:48.824093Z",
     "iopub.status.busy": "2020-10-13T12:18:48.823593Z",
     "iopub.status.idle": "2020-10-13T12:18:49.733175Z",
     "shell.execute_reply": "2020-10-13T12:18:49.733576Z"
    }
   },
   "outputs": [
    {
     "name": "stdout",
     "output_type": "stream",
     "text": [
      "Logging hadn't been started.\n",
      "Activating auto-logging. Current session state plus future input saved.\n",
      "Filename       : /home/vsts/.qcodes/logs/command_history.log\n",
      "Mode           : append\n",
      "Output logging : True\n",
      "Raw input log  : False\n",
      "Timestamping   : True\n",
      "State          : active\n"
     ]
    },
    {
     "name": "stdout",
     "output_type": "stream",
     "text": [
      "Qcodes Logfile : /home/vsts/.qcodes/logs/201013-15163-qcodes.log\n"
     ]
    }
   ],
   "source": [
    "import os\n",
    "cwd = os.getcwd()\n",
    "import qcodes as qc\n",
    "qc.config[\"core\"][\"db_location\"] = os.path.join(cwd, 'testing.db')\n"
   ]
  },
  {
   "cell_type": "code",
   "execution_count": 2,
   "metadata": {
    "execution": {
     "iopub.execute_input": "2020-10-13T12:18:49.739681Z",
     "iopub.status.busy": "2020-10-13T12:18:49.738437Z",
     "iopub.status.idle": "2020-10-13T12:18:49.899894Z",
     "shell.execute_reply": "2020-10-13T12:18:49.900338Z"
    }
   },
   "outputs": [],
   "source": [
    "%matplotlib inline\n",
    "import time\n",
    "import matplotlib.pyplot as plt\n",
    "import numpy as np\n",
    "\n",
    "import qcodes as qc\n",
    "from qcodes.instrument.parameter import ManualParameter\n",
    "from qcodes.dataset.experiment_container import (Experiment,\n",
    "                                                 load_last_experiment,\n",
    "                                                 new_experiment)\n",
    "from qcodes.dataset.sqlite.database import initialise_database\n",
    "from qcodes import load_or_create_experiment\n",
    "from qcodes.dataset.measurements import Measurement"
   ]
  },
  {
   "cell_type": "code",
   "execution_count": 3,
   "metadata": {
    "execution": {
     "iopub.execute_input": "2020-10-13T12:18:49.904269Z",
     "iopub.status.busy": "2020-10-13T12:18:49.903248Z",
     "iopub.status.idle": "2020-10-13T12:18:49.987315Z",
     "shell.execute_reply": "2020-10-13T12:18:49.987816Z"
    }
   },
   "outputs": [
    {
     "name": "stdout",
     "output_type": "stream",
     "text": [
      "\r",
      "0it [00:00, ?it/s]"
     ]
    },
    {
     "name": "stdout",
     "output_type": "stream",
     "text": [
      "\r",
      "Upgrading database; v0 -> v1: : 0it [00:00, ?it/s]"
     ]
    },
    {
     "name": "stdout",
     "output_type": "stream",
     "text": [
      "\r",
      "Upgrading database; v0 -> v1: : 0it [00:00, ?it/s]"
     ]
    },
    {
     "name": "stdout",
     "output_type": "stream",
     "text": [
      "\n",
      "\r",
      "  0%|          | 0/1 [00:00<?, ?it/s]"
     ]
    },
    {
     "name": "stdout",
     "output_type": "stream",
     "text": [
      "\r",
      "Upgrading database; v1 -> v2:   0%|          | 0/1 [00:00<?, ?it/s]"
     ]
    },
    {
     "name": "stdout",
     "output_type": "stream",
     "text": [
      "\r",
      "Upgrading database; v1 -> v2: 100%|██████████| 1/1 [00:00<00:00, 1197.35it/s]"
     ]
    },
    {
     "name": "stdout",
     "output_type": "stream",
     "text": [
      "\n",
      "\r",
      "0it [00:00, ?it/s]"
     ]
    },
    {
     "name": "stdout",
     "output_type": "stream",
     "text": [
      "\r",
      "Upgrading database; v2 -> v3: : 0it [00:00, ?it/s]"
     ]
    },
    {
     "name": "stdout",
     "output_type": "stream",
     "text": [
      "\r",
      "Upgrading database; v2 -> v3: : 0it [00:00, ?it/s]"
     ]
    },
    {
     "name": "stdout",
     "output_type": "stream",
     "text": [
      "\n",
      "\r",
      "0it [00:00, ?it/s]"
     ]
    },
    {
     "name": "stdout",
     "output_type": "stream",
     "text": [
      "\r",
      "Upgrading database; v3 -> v4: : 0it [00:00, ?it/s]"
     ]
    },
    {
     "name": "stdout",
     "output_type": "stream",
     "text": [
      "\r",
      "Upgrading database; v3 -> v4: : 0it [00:00, ?it/s]"
     ]
    },
    {
     "name": "stdout",
     "output_type": "stream",
     "text": [
      "\n",
      "\r",
      "  0%|          | 0/1 [00:00<?, ?it/s]"
     ]
    },
    {
     "name": "stdout",
     "output_type": "stream",
     "text": [
      "\r",
      "Upgrading database; v4 -> v5:   0%|          | 0/1 [00:00<?, ?it/s]"
     ]
    },
    {
     "name": "stdout",
     "output_type": "stream",
     "text": [
      "\r",
      "Upgrading database; v4 -> v5: 100%|██████████| 1/1 [00:00<00:00, 693.85it/s]"
     ]
    },
    {
     "name": "stdout",
     "output_type": "stream",
     "text": [
      "\n",
      "\r",
      "0it [00:00, ?it/s]"
     ]
    },
    {
     "name": "stdout",
     "output_type": "stream",
     "text": [
      "\r",
      "Upgrading database; v5 -> v6: : 0it [00:00, ?it/s]"
     ]
    },
    {
     "name": "stdout",
     "output_type": "stream",
     "text": [
      "\r",
      "Upgrading database; v5 -> v6: : 0it [00:00, ?it/s]"
     ]
    },
    {
     "name": "stdout",
     "output_type": "stream",
     "text": [
      "\n",
      "\r",
      "  0%|          | 0/1 [00:00<?, ?it/s]"
     ]
    },
    {
     "name": "stdout",
     "output_type": "stream",
     "text": [
      "\r",
      "Upgrading database; v6 -> v7:   0%|          | 0/1 [00:00<?, ?it/s]"
     ]
    },
    {
     "name": "stdout",
     "output_type": "stream",
     "text": [
      "\r",
      "Upgrading database; v6 -> v7: 100%|██████████| 1/1 [00:00<00:00, 414.01it/s]"
     ]
    },
    {
     "name": "stdout",
     "output_type": "stream",
     "text": [
      "\n",
      "\r",
      "  0%|          | 0/1 [00:00<?, ?it/s]"
     ]
    },
    {
     "name": "stdout",
     "output_type": "stream",
     "text": [
      "\r",
      "Upgrading database; v7 -> v8:   0%|          | 0/1 [00:00<?, ?it/s]"
     ]
    },
    {
     "name": "stdout",
     "output_type": "stream",
     "text": [
      "\r",
      "Upgrading database; v7 -> v8: 100%|██████████| 1/1 [00:00<00:00, 913.19it/s]"
     ]
    },
    {
     "name": "stdout",
     "output_type": "stream",
     "text": [
      "\n",
      "\r",
      "  0%|          | 0/1 [00:00<?, ?it/s]"
     ]
    },
    {
     "name": "stdout",
     "output_type": "stream",
     "text": [
      "\r",
      "Upgrading database; v8 -> v9:   0%|          | 0/1 [00:00<?, ?it/s]"
     ]
    },
    {
     "name": "stdout",
     "output_type": "stream",
     "text": [
      "\r",
      "Upgrading database; v8 -> v9: 100%|██████████| 1/1 [00:00<00:00, 936.65it/s]"
     ]
    },
    {
     "name": "stdout",
     "output_type": "stream",
     "text": [
      "\n"
     ]
    }
   ],
   "source": [
    "initialise_database()\n",
    "exp = load_or_create_experiment(experiment_name='tutorial_exp', sample_name=\"no sample\")"
   ]
  },
  {
   "cell_type": "markdown",
   "metadata": {},
   "source": [
    "Here, we define a simple function to benchmark the time it takes to insert n points with either numeric or array data type.\n",
    "We will compare both the time used to call ``add_result`` and the time used for the full measurement."
   ]
  },
  {
   "cell_type": "code",
   "execution_count": 4,
   "metadata": {
    "execution": {
     "iopub.execute_input": "2020-10-13T12:18:49.994166Z",
     "iopub.status.busy": "2020-10-13T12:18:49.993631Z",
     "iopub.status.idle": "2020-10-13T12:18:49.996732Z",
     "shell.execute_reply": "2020-10-13T12:18:49.997222Z"
    }
   },
   "outputs": [],
   "source": [
    "def insert_data(paramtype, npoints, nreps=1):\n",
    "\n",
    "    meas = Measurement(exp=exp)\n",
    "\n",
    "    x1 = ManualParameter('x1')\n",
    "    x2 = ManualParameter('x2')\n",
    "    x3 = ManualParameter('x3')\n",
    "    y1 = ManualParameter('y1')\n",
    "    y2 = ManualParameter('y2')\n",
    "\n",
    "    meas.register_parameter(x1, paramtype=paramtype)\n",
    "    meas.register_parameter(x2, paramtype=paramtype)\n",
    "    meas.register_parameter(x3, paramtype=paramtype)\n",
    "    meas.register_parameter(y1, setpoints=[x1, x2, x3],\n",
    "                            paramtype=paramtype)\n",
    "    meas.register_parameter(y2, setpoints=[x1, x2, x3],\n",
    "                            paramtype=paramtype)\n",
    "    start = time.perf_counter()\n",
    "    with meas.run() as datasaver:\n",
    "        start_adding = time.perf_counter()\n",
    "        for i in range(nreps):\n",
    "            datasaver.add_result((x1, np.random.rand(npoints)),\n",
    "                                 (x2, np.random.rand(npoints)),\n",
    "                                 (x3, np.random.rand(npoints)),\n",
    "                                 (y1, np.random.rand(npoints)),\n",
    "                                 (y2, np.random.rand(npoints)))\n",
    "        stop_adding = time.perf_counter()\n",
    "        run_id = datasaver.run_id\n",
    "    stop = time.perf_counter()\n",
    "    tot_time = stop - start\n",
    "    add_time = stop_adding - start_adding\n",
    "    return tot_time, add_time, run_id"
   ]
  },
  {
   "cell_type": "markdown",
   "metadata": {},
   "source": [
    "## Comparison between numeric/array data and binary blob"
   ]
  },
  {
   "cell_type": "markdown",
   "metadata": {},
   "source": [
    "### Case1: Short experiment time"
   ]
  },
  {
   "cell_type": "code",
   "execution_count": 5,
   "metadata": {
    "execution": {
     "iopub.execute_input": "2020-10-13T12:18:50.001917Z",
     "iopub.status.busy": "2020-10-13T12:18:50.000908Z",
     "iopub.status.idle": "2020-10-13T12:18:50.659326Z",
     "shell.execute_reply": "2020-10-13T12:18:50.658617Z"
    }
   },
   "outputs": [
    {
     "name": "stdout",
     "output_type": "stream",
     "text": [
      "Starting experimental run with id: 1. \n",
      "Starting experimental run with id: 2. \n",
      "Starting experimental run with id: 3. \n",
      "Starting experimental run with id: 4. \n",
      "Starting experimental run with id: 5. \n",
      "Starting experimental run with id: 6. \n"
     ]
    },
    {
     "name": "stdout",
     "output_type": "stream",
     "text": [
      "Starting experimental run with id: 7. \n"
     ]
    },
    {
     "name": "stdout",
     "output_type": "stream",
     "text": [
      "Starting experimental run with id: 8. \n"
     ]
    },
    {
     "name": "stdout",
     "output_type": "stream",
     "text": [
      "Starting experimental run with id: 9. \n",
      "Starting experimental run with id: 10. \n",
      "Starting experimental run with id: 11. \n"
     ]
    },
    {
     "name": "stdout",
     "output_type": "stream",
     "text": [
      "Starting experimental run with id: 12. \n",
      "Starting experimental run with id: 13. \n",
      "Starting experimental run with id: 14. \n"
     ]
    }
   ],
   "source": [
    "sizes = [1,500,1000,2000,3000,4000,5000]\n",
    "t_numeric = []\n",
    "t_numeric_add = []\n",
    "t_array = []\n",
    "t_array_add = []\n",
    "for size in sizes:\n",
    "    tn, tna, run_id_n =  insert_data('numeric', size)\n",
    "    t_numeric.append(tn)\n",
    "    t_numeric_add.append(tna)\n",
    "\n",
    "    ta, taa, run_id_a =  insert_data('array', size)\n",
    "    t_array.append(ta)\n",
    "    t_array_add.append(taa)"
   ]
  },
  {
   "cell_type": "code",
   "execution_count": 6,
   "metadata": {
    "execution": {
     "iopub.execute_input": "2020-10-13T12:18:50.674725Z",
     "iopub.status.busy": "2020-10-13T12:18:50.674248Z",
     "iopub.status.idle": "2020-10-13T12:18:50.890623Z",
     "shell.execute_reply": "2020-10-13T12:18:50.889981Z"
    }
   },
   "outputs": [
    {
     "data": {
      "image/png": "[encoded data removed]",
      "text/plain": [
       "<Figure size 432x288 with 1 Axes>"
      ]
     },
     "metadata": {
      "needs_background": "light"
     },
     "output_type": "display_data"
    }
   ],
   "source": [
    "fig, ax = plt.subplots(1,1)\n",
    "ax.plot(sizes, t_numeric, 'o-', label='Inserting row-by-row')\n",
    "ax.plot(sizes, t_numeric_add, 'o-', label='Inserting row-by-row: add_result only')\n",
    "ax.plot(sizes, t_array, 'd-', label='Inserting as binary blob')\n",
    "ax.plot(sizes, t_array_add, 'd-', label='Inserting as binary blob: add_result only')\n",
    "ax.legend()\n",
    "ax.set_xlabel('Array length')\n",
    "ax.set_ylabel('Time (s)')\n",
    "fig.tight_layout()"
   ]
  },
  {
   "cell_type": "markdown",
   "metadata": {},
   "source": [
    "As shown in the latter figure, the time to setup and and close the experiment is approximately 0.4 sec. In case of small array sizes, the difference between inserting values of data as arrays and inserting them row-by-row is relatively unimportant. At larger array sizes, i.e. above 10000 points, the cost of writing data as individual datapoints starts to become important.\n"
   ]
  },
  {
   "cell_type": "markdown",
   "metadata": {},
   "source": [
    "### Case2: Long experiment time "
   ]
  },
  {
   "cell_type": "code",
   "execution_count": 7,
   "metadata": {
    "execution": {
     "iopub.execute_input": "2020-10-13T12:18:50.897818Z",
     "iopub.status.busy": "2020-10-13T12:18:50.896637Z",
     "iopub.status.idle": "2020-10-13T12:19:43.159839Z",
     "shell.execute_reply": "2020-10-13T12:19:43.160276Z"
    }
   },
   "outputs": [
    {
     "name": "stdout",
     "output_type": "stream",
     "text": [
      "Starting experimental run with id: 15. \n",
      "Starting experimental run with id: 16. \n",
      "Starting experimental run with id: 17. \n"
     ]
    },
    {
     "name": "stdout",
     "output_type": "stream",
     "text": [
      "Starting experimental run with id: 18. \n",
      "Starting experimental run with id: 19. \n"
     ]
    },
    {
     "name": "stdout",
     "output_type": "stream",
     "text": [
      "Starting experimental run with id: 20. \n"
     ]
    },
    {
     "name": "stdout",
     "output_type": "stream",
     "text": [
      "Starting experimental run with id: 21. \n"
     ]
    },
    {
     "name": "stdout",
     "output_type": "stream",
     "text": [
      "Starting experimental run with id: 22. \n"
     ]
    },
    {
     "name": "stdout",
     "output_type": "stream",
     "text": [
      "Starting experimental run with id: 23. \n"
     ]
    },
    {
     "name": "stdout",
     "output_type": "stream",
     "text": [
      "Starting experimental run with id: 24. \n"
     ]
    },
    {
     "name": "stdout",
     "output_type": "stream",
     "text": [
      "Starting experimental run with id: 25. \n"
     ]
    },
    {
     "name": "stdout",
     "output_type": "stream",
     "text": [
      "Starting experimental run with id: 26. \n"
     ]
    },
    {
     "name": "stdout",
     "output_type": "stream",
     "text": [
      "Starting experimental run with id: 27. \n"
     ]
    },
    {
     "name": "stdout",
     "output_type": "stream",
     "text": [
      "Starting experimental run with id: 28. \n"
     ]
    }
   ],
   "source": [
    "sizes = [1,500,1000,2000,3000,4000,5000]\n",
    "nreps = 100\n",
    "t_numeric = []\n",
    "t_numeric_add = []\n",
    "t_numeric_run_ids = []\n",
    "t_array = []\n",
    "t_array_add = []\n",
    "t_array_run_ids = []\n",
    "for size in sizes:\n",
    "    tn, tna, run_id_n =  insert_data('numeric', size, nreps=nreps)\n",
    "    t_numeric.append(tn)\n",
    "    t_numeric_add.append(tna)\n",
    "    t_numeric_run_ids.append(run_id_n)\n",
    "\n",
    "    ta, taa, run_id_a =  insert_data('array', size, nreps=nreps)\n",
    "    t_array.append(ta)\n",
    "    t_array_add.append(taa)\n",
    "    t_array_run_ids.append(run_id_a)"
   ]
  },
  {
   "cell_type": "code",
   "execution_count": 8,
   "metadata": {
    "execution": {
     "iopub.execute_input": "2020-10-13T12:19:43.179830Z",
     "iopub.status.busy": "2020-10-13T12:19:43.177201Z",
     "iopub.status.idle": "2020-10-13T12:19:43.380202Z",
     "shell.execute_reply": "2020-10-13T12:19:43.380631Z"
    },
    "scrolled": true
   },
   "outputs": [
    {
     "data": {
      "image/png": "[encoded data removed]",
      "text/plain": [
       "<Figure size 432x288 with 1 Axes>"
      ]
     },
     "metadata": {
      "needs_background": "light"
     },
     "output_type": "display_data"
    }
   ],
   "source": [
    "fig, ax = plt.subplots(1,1)\n",
    "ax.plot(sizes, t_numeric, 'o-', label='Inserting row-by-row')\n",
    "ax.plot(sizes, t_numeric_add, 'o-', label='Inserting row-by-row: add_result only')\n",
    "ax.plot(sizes, t_array, 'd-', label='Inserting as binary blob')\n",
    "ax.plot(sizes, t_array_add, 'd-', label='Inserting as binary blob: add_result only')\n",
    "ax.legend()\n",
    "ax.set_xlabel('Array length')\n",
    "ax.set_ylabel('Time (s)')\n",
    "fig.tight_layout()"
   ]
  },
  {
   "cell_type": "markdown",
   "metadata": {},
   "source": [
    "However, as we increase the length of the experiment, as seen here by repeating the insertion 100 times, we see a big difference between inserting values of the data row-by-row and inserting it as a binary blob."
   ]
  },
  {
   "cell_type": "markdown",
   "metadata": {},
   "source": [
    "## Loading the data "
   ]
  },
  {
   "cell_type": "code",
   "execution_count": 9,
   "metadata": {
    "execution": {
     "iopub.execute_input": "2020-10-13T12:19:43.384549Z",
     "iopub.status.busy": "2020-10-13T12:19:43.383493Z",
     "iopub.status.idle": "2020-10-13T12:19:43.386480Z",
     "shell.execute_reply": "2020-10-13T12:19:43.386859Z"
    }
   },
   "outputs": [],
   "source": [
    "from qcodes.dataset.data_set import load_by_id\n",
    "from qcodes.dataset.data_export import get_data_by_id"
   ]
  },
  {
   "cell_type": "markdown",
   "metadata": {},
   "source": [
    "As usual you can load the data by using the ``load_by_id`` function but you will notice that the different storage methods\n",
    "are reflected in shape of the data as it is retrieved. "
   ]
  },
  {
   "cell_type": "code",
   "execution_count": 10,
   "metadata": {
    "execution": {
     "iopub.execute_input": "2020-10-13T12:19:43.391445Z",
     "iopub.status.busy": "2020-10-13T12:19:43.390108Z",
     "iopub.status.idle": "2020-10-13T12:19:43.391913Z",
     "shell.execute_reply": "2020-10-13T12:19:43.392425Z"
    }
   },
   "outputs": [],
   "source": [
    "run_id_n = t_numeric_run_ids[0]\n",
    "run_id_a = t_array_run_ids[0]"
   ]
  },
  {
   "cell_type": "code",
   "execution_count": 11,
   "metadata": {
    "execution": {
     "iopub.execute_input": "2020-10-13T12:19:43.395498Z",
     "iopub.status.busy": "2020-10-13T12:19:43.394963Z",
     "iopub.status.idle": "2020-10-13T12:19:43.402889Z",
     "shell.execute_reply": "2020-10-13T12:19:43.402397Z"
    },
    "scrolled": true
   },
   "outputs": [
    {
     "data": {
      "text/plain": [
       "{'x1': {'x1': array([0.61514477, 0.61514477, 0.52567792, 0.52567792, 0.85158748,\n",
       "         0.85158748, 0.9644324 , 0.9644324 , 0.64366347, 0.64366347,\n",
       "         0.9945447 , 0.9945447 , 0.69391935, 0.69391935, 0.48424681,\n",
       "         0.48424681, 0.09493662, 0.09493662, 0.32190568, 0.32190568,\n",
       "         0.92669668, 0.92669668, 0.6934616 , 0.6934616 , 0.08066286,\n",
       "         0.08066286, 0.90739651, 0.90739651, 0.23052996, 0.23052996,\n",
       "         0.18517259, 0.18517259, 0.93623687, 0.93623687, 0.20198455,\n",
       "         0.20198455, 0.72370335, 0.72370335, 0.23423843, 0.23423843,\n",
       "         0.72461063, 0.72461063, 0.53042418, 0.53042418, 0.30940581,\n",
       "         0.30940581, 0.95179411, 0.95179411, 0.43065094, 0.43065094,\n",
       "         0.73696001, 0.73696001, 0.75211246, 0.75211246, 0.81872967,\n",
       "         0.81872967, 0.69113006, 0.69113006, 0.62478132, 0.62478132,\n",
       "         0.96385944, 0.96385944, 0.21024713, 0.21024713, 0.37494127,\n",
       "         0.37494127, 0.78064616, 0.78064616, 0.333947  , 0.333947  ,\n",
       "         0.83406387, 0.83406387, 0.90549336, 0.90549336, 0.54050283,\n",
       "         0.54050283, 0.26045302, 0.26045302, 0.67587942, 0.67587942,\n",
       "         0.68278348, 0.68278348, 0.55105516, 0.55105516, 0.47322275,\n",
       "         0.47322275, 0.72461046, 0.72461046, 0.71900533, 0.71900533,\n",
       "         0.75937028, 0.75937028, 0.29970924, 0.29970924, 0.54931334,\n",
       "         0.54931334, 0.06425389, 0.06425389, 0.7182008 , 0.7182008 ,\n",
       "         0.52915497, 0.52915497, 0.15104246, 0.15104246, 0.08640981,\n",
       "         0.08640981, 0.64721576, 0.64721576, 0.30878677, 0.30878677,\n",
       "         0.71319188, 0.71319188, 0.49733372, 0.49733372, 0.57215378,\n",
       "         0.57215378, 0.00302664, 0.00302664, 0.99796288, 0.99796288,\n",
       "         0.70519277, 0.70519277, 0.38815945, 0.38815945, 0.9385961 ,\n",
       "         0.9385961 , 0.81637697, 0.81637697, 0.20703562, 0.20703562,\n",
       "         0.36898943, 0.36898943, 0.5511014 , 0.5511014 , 0.11767827,\n",
       "         0.11767827, 0.90796816, 0.90796816, 0.78167017, 0.78167017,\n",
       "         0.64692551, 0.64692551, 0.55605338, 0.55605338, 0.49106117,\n",
       "         0.49106117, 0.11125822, 0.11125822, 0.11457126, 0.11457126,\n",
       "         0.00372902, 0.00372902, 0.66741966, 0.66741966, 0.4699796 ,\n",
       "         0.4699796 , 0.77744508, 0.77744508, 0.76302139, 0.76302139,\n",
       "         0.00787299, 0.00787299, 0.24464156, 0.24464156, 0.5484952 ,\n",
       "         0.5484952 , 0.48773146, 0.48773146, 0.13174727, 0.13174727,\n",
       "         0.67429931, 0.67429931, 0.59744985, 0.59744985, 0.21583452,\n",
       "         0.21583452, 0.2652675 , 0.2652675 , 0.75977261, 0.75977261,\n",
       "         0.02940153, 0.02940153, 0.60699334, 0.60699334, 0.57226966,\n",
       "         0.57226966, 0.5970561 , 0.5970561 , 0.06906957, 0.06906957,\n",
       "         0.44206498, 0.44206498, 0.50851277, 0.50851277, 0.65367173,\n",
       "         0.65367173, 0.45240392, 0.45240392, 0.8726064 , 0.8726064 ])}}"
      ]
     },
     "execution_count": 1,
     "metadata": {},
     "output_type": "execute_result"
    }
   ],
   "source": [
    "ds = load_by_id(run_id_n)\n",
    "ds.get_parameter_data('x1')"
   ]
  },
  {
   "cell_type": "markdown",
   "metadata": {},
   "source": [
    "And a dataset stored as binary arrays"
   ]
  },
  {
   "cell_type": "code",
   "execution_count": 12,
   "metadata": {
    "execution": {
     "iopub.execute_input": "2020-10-13T12:19:43.405959Z",
     "iopub.status.busy": "2020-10-13T12:19:43.405497Z",
     "iopub.status.idle": "2020-10-13T12:19:43.458647Z",
     "shell.execute_reply": "2020-10-13T12:19:43.459030Z"
    },
    "scrolled": true
   },
   "outputs": [
    {
     "data": {
      "text/plain": [
       "{'x1': {'x1': array([[0.13027413],\n",
       "         [0.13027413],\n",
       "         [0.6602665 ],\n",
       "         [0.6602665 ],\n",
       "         [0.58788943],\n",
       "         [0.58788943],\n",
       "         [0.98372203],\n",
       "         [0.98372203],\n",
       "         [0.06114948],\n",
       "         [0.06114948],\n",
       "         [0.71288951],\n",
       "         [0.71288951],\n",
       "         [0.80308254],\n",
       "         [0.80308254],\n",
       "         [0.02185335],\n",
       "         [0.02185335],\n",
       "         [0.61570897],\n",
       "         [0.61570897],\n",
       "         [0.95078124],\n",
       "         [0.95078124],\n",
       "         [0.11106597],\n",
       "         [0.11106597],\n",
       "         [0.50265078],\n",
       "         [0.50265078],\n",
       "         [0.4926146 ],\n",
       "         [0.4926146 ],\n",
       "         [0.61858338],\n",
       "         [0.61858338],\n",
       "         [0.80508595],\n",
       "         [0.80508595],\n",
       "         [0.80148005],\n",
       "         [0.80148005],\n",
       "         [0.65692952],\n",
       "         [0.65692952],\n",
       "         [0.45706206],\n",
       "         [0.45706206],\n",
       "         [0.24099992],\n",
       "         [0.24099992],\n",
       "         [0.53404221],\n",
       "         [0.53404221],\n",
       "         [0.34189505],\n",
       "         [0.34189505],\n",
       "         [0.9168037 ],\n",
       "         [0.9168037 ],\n",
       "         [0.17495093],\n",
       "         [0.17495093],\n",
       "         [0.75196829],\n",
       "         [0.75196829],\n",
       "         [0.98421522],\n",
       "         [0.98421522],\n",
       "         [0.01022445],\n",
       "         [0.01022445],\n",
       "         [0.21874938],\n",
       "         [0.21874938],\n",
       "         [0.2990674 ],\n",
       "         [0.2990674 ],\n",
       "         [0.07312268],\n",
       "         [0.07312268],\n",
       "         [0.86388122],\n",
       "         [0.86388122],\n",
       "         [0.84031979],\n",
       "         [0.84031979],\n",
       "         [0.24389507],\n",
       "         [0.24389507],\n",
       "         [0.51317951],\n",
       "         [0.51317951],\n",
       "         [0.0246002 ],\n",
       "         [0.0246002 ],\n",
       "         [0.6636056 ],\n",
       "         [0.6636056 ],\n",
       "         [0.09821859],\n",
       "         [0.09821859],\n",
       "         [0.38002484],\n",
       "         [0.38002484],\n",
       "         [0.85217696],\n",
       "         [0.85217696],\n",
       "         [0.8605797 ],\n",
       "         [0.8605797 ],\n",
       "         [0.15014537],\n",
       "         [0.15014537],\n",
       "         [0.74511093],\n",
       "         [0.74511093],\n",
       "         [0.29632652],\n",
       "         [0.29632652],\n",
       "         [0.04158427],\n",
       "         [0.04158427],\n",
       "         [0.14313131],\n",
       "         [0.14313131],\n",
       "         [0.36807443],\n",
       "         [0.36807443],\n",
       "         [0.0682425 ],\n",
       "         [0.0682425 ],\n",
       "         [0.94085733],\n",
       "         [0.94085733],\n",
       "         [0.18744874],\n",
       "         [0.18744874],\n",
       "         [0.55563113],\n",
       "         [0.55563113],\n",
       "         [0.39716235],\n",
       "         [0.39716235],\n",
       "         [0.55697837],\n",
       "         [0.55697837],\n",
       "         [0.5426051 ],\n",
       "         [0.5426051 ],\n",
       "         [0.52680203],\n",
       "         [0.52680203],\n",
       "         [0.32020481],\n",
       "         [0.32020481],\n",
       "         [0.85274504],\n",
       "         [0.85274504],\n",
       "         [0.60259684],\n",
       "         [0.60259684],\n",
       "         [0.39559125],\n",
       "         [0.39559125],\n",
       "         [0.97141413],\n",
       "         [0.97141413],\n",
       "         [0.32870205],\n",
       "         [0.32870205],\n",
       "         [0.30267068],\n",
       "         [0.30267068],\n",
       "         [0.86424192],\n",
       "         [0.86424192],\n",
       "         [0.89943831],\n",
       "         [0.89943831],\n",
       "         [0.69683946],\n",
       "         [0.69683946],\n",
       "         [0.47925128],\n",
       "         [0.47925128],\n",
       "         [0.62151732],\n",
       "         [0.62151732],\n",
       "         [0.64771297],\n",
       "         [0.64771297],\n",
       "         [0.04339191],\n",
       "         [0.04339191],\n",
       "         [0.29237812],\n",
       "         [0.29237812],\n",
       "         [0.49802494],\n",
       "         [0.49802494],\n",
       "         [0.71892099],\n",
       "         [0.71892099],\n",
       "         [0.52256249],\n",
       "         [0.52256249],\n",
       "         [0.28554523],\n",
       "         [0.28554523],\n",
       "         [0.88120149],\n",
       "         [0.88120149],\n",
       "         [0.60108309],\n",
       "         [0.60108309],\n",
       "         [0.37796321],\n",
       "         [0.37796321],\n",
       "         [0.18517682],\n",
       "         [0.18517682],\n",
       "         [0.04764674],\n",
       "         [0.04764674],\n",
       "         [0.38275127],\n",
       "         [0.38275127],\n",
       "         [0.88387627],\n",
       "         [0.88387627],\n",
       "         [0.64948492],\n",
       "         [0.64948492],\n",
       "         [0.3285514 ],\n",
       "         [0.3285514 ],\n",
       "         [0.15605609],\n",
       "         [0.15605609],\n",
       "         [0.24435816],\n",
       "         [0.24435816],\n",
       "         [0.92171018],\n",
       "         [0.92171018],\n",
       "         [0.37236149],\n",
       "         [0.37236149],\n",
       "         [0.96374777],\n",
       "         [0.96374777],\n",
       "         [0.37403935],\n",
       "         [0.37403935],\n",
       "         [0.41573054],\n",
       "         [0.41573054],\n",
       "         [0.98009233],\n",
       "         [0.98009233],\n",
       "         [0.22191401],\n",
       "         [0.22191401],\n",
       "         [0.71658229],\n",
       "         [0.71658229],\n",
       "         [0.08429091],\n",
       "         [0.08429091],\n",
       "         [0.37700123],\n",
       "         [0.37700123],\n",
       "         [0.17153274],\n",
       "         [0.17153274],\n",
       "         [0.254131  ],\n",
       "         [0.254131  ],\n",
       "         [0.63738495],\n",
       "         [0.63738495],\n",
       "         [0.57315072],\n",
       "         [0.57315072],\n",
       "         [0.96891879],\n",
       "         [0.96891879],\n",
       "         [0.76428197],\n",
       "         [0.76428197],\n",
       "         [0.64035371],\n",
       "         [0.64035371]])}}"
      ]
     },
     "execution_count": 1,
     "metadata": {},
     "output_type": "execute_result"
    }
   ],
   "source": [
    "ds = load_by_id(run_id_a)\n",
    "ds.get_parameter_data('x1')"
   ]
  },
  {
   "cell_type": "code",
   "execution_count": null,
   "metadata": {},
   "outputs": [],
   "source": []
  }
 ],
 "metadata": {
  "kernelspec": {
   "display_name": "Python 3",
   "language": "python",
   "name": "python3"
  },
  "language_info": {
   "codemirror_mode": {
    "name": "ipython",
    "version": 3
   },
   "file_extension": ".py",
   "mimetype": "text/x-python",
   "name": "python",
   "nbconvert_exporter": "python",
   "pygments_lexer": "ipython3",
   "version": "3.7.7"
  },
  "nbsphinx": {
   "timeout": 600
  },
  "toc": {
   "base_numbering": 1,
   "nav_menu": {},
   "number_sections": true,
   "sideBar": true,
   "skip_h1_title": false,
   "title_cell": "Table of Contents",
   "title_sidebar": "Contents",
   "toc_cell": false,
   "toc_position": {},
   "toc_section_display": true,
   "toc_window_display": false
  },
  "varInspector": {
   "cols": {
    "lenName": 16,
    "lenType": 16,
    "lenVar": 40
   },
   "kernels_config": {
    "python": {
     "delete_cmd_postfix": "",
     "delete_cmd_prefix": "del ",
     "library": "var_list.py",
     "varRefreshCmd": "print(var_dic_list())"
    },
    "r": {
     "delete_cmd_postfix": ") ",
     "delete_cmd_prefix": "rm(",
     "library": "var_list.r",
     "varRefreshCmd": "cat(var_dic_list()) "
    }
   },
   "types_to_exclude": [
    "module",
    "function",
    "builtin_function_or_method",
    "instance",
    "_Feature"
   ],
   "window_display": false
  }
 },
 "nbformat": 4,
 "nbformat_minor": 2
}
