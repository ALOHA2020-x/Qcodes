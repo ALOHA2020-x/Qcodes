{
 "cells": [
  {
   "cell_type": "markdown",
   "metadata": {},
   "source": [
    "# DataSet Performance\n",
    "\n",
    "This notebook shows the trade-off between inserting data into a database row-by-row and as binary blobs. Inserting the data row-by-row means that we have direct access to all the data and may perform queries directly on the values of the data. On the other hand, as we shall see, this is much slower than inserting the data directly as binary blobs."
   ]
  },
  {
   "cell_type": "markdown",
   "metadata": {},
   "source": [
    "First, we choose a new location for the database to ensure that we don't add a bunch of benchmarking data to the default one."
   ]
  },
  {
   "cell_type": "code",
   "execution_count": 1,
   "metadata": {
    "execution": {
     "iopub.execute_input": "2020-10-26T14:45:35.578642Z",
     "iopub.status.busy": "2020-10-26T14:45:35.577931Z",
     "iopub.status.idle": "2020-10-26T14:45:36.704158Z",
     "shell.execute_reply": "2020-10-26T14:45:36.704608Z"
    }
   },
   "outputs": [
    {
     "name": "stdout",
     "output_type": "stream",
     "text": [
      "Logging hadn't been started.\n",
      "Activating auto-logging. Current session state plus future input saved.\n",
      "Filename       : /home/vsts/.qcodes/logs/command_history.log\n",
      "Mode           : append\n",
      "Output logging : True\n",
      "Raw input log  : False\n",
      "Timestamping   : True\n",
      "State          : active\n"
     ]
    },
    {
     "name": "stdout",
     "output_type": "stream",
     "text": [
      "Qcodes Logfile : /home/vsts/.qcodes/logs/201026-14881-qcodes.log\n"
     ]
    }
   ],
   "source": [
    "import os\n",
    "cwd = os.getcwd()\n",
    "import qcodes as qc\n",
    "qc.config[\"core\"][\"db_location\"] = os.path.join(cwd, 'testing.db')\n"
   ]
  },
  {
   "cell_type": "code",
   "execution_count": 2,
   "metadata": {
    "execution": {
     "iopub.execute_input": "2020-10-26T14:45:36.713299Z",
     "iopub.status.busy": "2020-10-26T14:45:36.711036Z",
     "iopub.status.idle": "2020-10-26T14:45:36.906888Z",
     "shell.execute_reply": "2020-10-26T14:45:36.906203Z"
    }
   },
   "outputs": [],
   "source": [
    "%matplotlib inline\n",
    "import time\n",
    "import matplotlib.pyplot as plt\n",
    "import numpy as np\n",
    "\n",
    "import qcodes as qc\n",
    "from qcodes.instrument.parameter import ManualParameter\n",
    "from qcodes.dataset.experiment_container import (Experiment,\n",
    "                                                 load_last_experiment,\n",
    "                                                 new_experiment)\n",
    "from qcodes.dataset.sqlite.database import initialise_database\n",
    "from qcodes import load_or_create_experiment\n",
    "from qcodes.dataset.measurements import Measurement"
   ]
  },
  {
   "cell_type": "code",
   "execution_count": 3,
   "metadata": {
    "execution": {
     "iopub.execute_input": "2020-10-26T14:45:36.910936Z",
     "iopub.status.busy": "2020-10-26T14:45:36.910224Z",
     "iopub.status.idle": "2020-10-26T14:45:37.023645Z",
     "shell.execute_reply": "2020-10-26T14:45:37.023118Z"
    }
   },
   "outputs": [
    {
     "name": "stdout",
     "output_type": "stream",
     "text": [
      "\r",
      "0it [00:00, ?it/s]"
     ]
    },
    {
     "name": "stdout",
     "output_type": "stream",
     "text": [
      "\r",
      "Upgrading database; v0 -> v1: : 0it [00:00, ?it/s]"
     ]
    },
    {
     "name": "stdout",
     "output_type": "stream",
     "text": [
      "\r",
      "Upgrading database; v0 -> v1: : 0it [00:00, ?it/s]"
     ]
    },
    {
     "name": "stdout",
     "output_type": "stream",
     "text": [
      "\n",
      "\r",
      "  0%|          | 0/1 [00:00<?, ?it/s]"
     ]
    },
    {
     "name": "stdout",
     "output_type": "stream",
     "text": [
      "\r",
      "Upgrading database; v1 -> v2:   0%|          | 0/1 [00:00<?, ?it/s]"
     ]
    },
    {
     "name": "stdout",
     "output_type": "stream",
     "text": [
      "\r",
      "Upgrading database; v1 -> v2: 100%|██████████| 1/1 [00:00<00:00, 544.86it/s]"
     ]
    },
    {
     "name": "stdout",
     "output_type": "stream",
     "text": [
      "\n",
      "\r",
      "0it [00:00, ?it/s]"
     ]
    },
    {
     "name": "stdout",
     "output_type": "stream",
     "text": [
      "\r",
      "Upgrading database; v2 -> v3: : 0it [00:00, ?it/s]"
     ]
    },
    {
     "name": "stdout",
     "output_type": "stream",
     "text": [
      "\r",
      "Upgrading database; v2 -> v3: : 0it [00:00, ?it/s]"
     ]
    },
    {
     "name": "stdout",
     "output_type": "stream",
     "text": [
      "\n",
      "\r",
      "0it [00:00, ?it/s]"
     ]
    },
    {
     "name": "stdout",
     "output_type": "stream",
     "text": [
      "\r",
      "Upgrading database; v3 -> v4: : 0it [00:00, ?it/s]"
     ]
    },
    {
     "name": "stdout",
     "output_type": "stream",
     "text": [
      "\r",
      "Upgrading database; v3 -> v4: : 0it [00:00, ?it/s]"
     ]
    },
    {
     "name": "stdout",
     "output_type": "stream",
     "text": [
      "\n",
      "\r",
      "  0%|          | 0/1 [00:00<?, ?it/s]"
     ]
    },
    {
     "name": "stdout",
     "output_type": "stream",
     "text": [
      "\r",
      "Upgrading database; v4 -> v5:   0%|          | 0/1 [00:00<?, ?it/s]"
     ]
    },
    {
     "name": "stdout",
     "output_type": "stream",
     "text": [
      "\r",
      "Upgrading database; v4 -> v5: 100%|██████████| 1/1 [00:00<00:00, 466.29it/s]"
     ]
    },
    {
     "name": "stdout",
     "output_type": "stream",
     "text": [
      "\n",
      "\r",
      "0it [00:00, ?it/s]"
     ]
    },
    {
     "name": "stdout",
     "output_type": "stream",
     "text": [
      "\r",
      "Upgrading database; v5 -> v6: : 0it [00:00, ?it/s]"
     ]
    },
    {
     "name": "stdout",
     "output_type": "stream",
     "text": [
      "\r",
      "Upgrading database; v5 -> v6: : 0it [00:00, ?it/s]"
     ]
    },
    {
     "name": "stdout",
     "output_type": "stream",
     "text": [
      "\n",
      "\r",
      "  0%|          | 0/1 [00:00<?, ?it/s]"
     ]
    },
    {
     "name": "stdout",
     "output_type": "stream",
     "text": [
      "\r",
      "Upgrading database; v6 -> v7:   0%|          | 0/1 [00:00<?, ?it/s]"
     ]
    },
    {
     "name": "stdout",
     "output_type": "stream",
     "text": [
      "\r",
      "Upgrading database; v6 -> v7: 100%|██████████| 1/1 [00:00<00:00, 300.30it/s]"
     ]
    },
    {
     "name": "stdout",
     "output_type": "stream",
     "text": [
      "\n",
      "\r",
      "  0%|          | 0/1 [00:00<?, ?it/s]"
     ]
    },
    {
     "name": "stdout",
     "output_type": "stream",
     "text": [
      "\r",
      "Upgrading database; v7 -> v8:   0%|          | 0/1 [00:00<?, ?it/s]"
     ]
    },
    {
     "name": "stdout",
     "output_type": "stream",
     "text": [
      "\r",
      "Upgrading database; v7 -> v8: 100%|██████████| 1/1 [00:00<00:00, 436.00it/s]"
     ]
    },
    {
     "name": "stdout",
     "output_type": "stream",
     "text": [
      "\n",
      "\r",
      "  0%|          | 0/1 [00:00<?, ?it/s]"
     ]
    },
    {
     "name": "stdout",
     "output_type": "stream",
     "text": [
      "\r",
      "Upgrading database; v8 -> v9:   0%|          | 0/1 [00:00<?, ?it/s]"
     ]
    },
    {
     "name": "stdout",
     "output_type": "stream",
     "text": [
      "\r",
      "Upgrading database; v8 -> v9: 100%|██████████| 1/1 [00:00<00:00, 580.45it/s]"
     ]
    },
    {
     "name": "stdout",
     "output_type": "stream",
     "text": [
      "\n"
     ]
    }
   ],
   "source": [
    "initialise_database()\n",
    "exp = load_or_create_experiment(experiment_name='tutorial_exp', sample_name=\"no sample\")"
   ]
  },
  {
   "cell_type": "markdown",
   "metadata": {},
   "source": [
    "Here, we define a simple function to benchmark the time it takes to insert n points with either numeric or array data type.\n",
    "We will compare both the time used to call ``add_result`` and the time used for the full measurement."
   ]
  },
  {
   "cell_type": "code",
   "execution_count": 4,
   "metadata": {
    "execution": {
     "iopub.execute_input": "2020-10-26T14:45:37.032225Z",
     "iopub.status.busy": "2020-10-26T14:45:37.031622Z",
     "iopub.status.idle": "2020-10-26T14:45:37.035177Z",
     "shell.execute_reply": "2020-10-26T14:45:37.034749Z"
    }
   },
   "outputs": [],
   "source": [
    "def insert_data(paramtype, npoints, nreps=1):\n",
    "\n",
    "    meas = Measurement(exp=exp)\n",
    "\n",
    "    x1 = ManualParameter('x1')\n",
    "    x2 = ManualParameter('x2')\n",
    "    x3 = ManualParameter('x3')\n",
    "    y1 = ManualParameter('y1')\n",
    "    y2 = ManualParameter('y2')\n",
    "\n",
    "    meas.register_parameter(x1, paramtype=paramtype)\n",
    "    meas.register_parameter(x2, paramtype=paramtype)\n",
    "    meas.register_parameter(x3, paramtype=paramtype)\n",
    "    meas.register_parameter(y1, setpoints=[x1, x2, x3],\n",
    "                            paramtype=paramtype)\n",
    "    meas.register_parameter(y2, setpoints=[x1, x2, x3],\n",
    "                            paramtype=paramtype)\n",
    "    start = time.perf_counter()\n",
    "    with meas.run() as datasaver:\n",
    "        start_adding = time.perf_counter()\n",
    "        for i in range(nreps):\n",
    "            datasaver.add_result((x1, np.random.rand(npoints)),\n",
    "                                 (x2, np.random.rand(npoints)),\n",
    "                                 (x3, np.random.rand(npoints)),\n",
    "                                 (y1, np.random.rand(npoints)),\n",
    "                                 (y2, np.random.rand(npoints)))\n",
    "        stop_adding = time.perf_counter()\n",
    "        run_id = datasaver.run_id\n",
    "    stop = time.perf_counter()\n",
    "    tot_time = stop - start\n",
    "    add_time = stop_adding - start_adding\n",
    "    return tot_time, add_time, run_id"
   ]
  },
  {
   "cell_type": "markdown",
   "metadata": {},
   "source": [
    "## Comparison between numeric/array data and binary blob"
   ]
  },
  {
   "cell_type": "markdown",
   "metadata": {},
   "source": [
    "### Case1: Short experiment time"
   ]
  },
  {
   "cell_type": "code",
   "execution_count": 5,
   "metadata": {
    "execution": {
     "iopub.execute_input": "2020-10-26T14:45:37.041188Z",
     "iopub.status.busy": "2020-10-26T14:45:37.040664Z",
     "iopub.status.idle": "2020-10-26T14:45:37.848441Z",
     "shell.execute_reply": "2020-10-26T14:45:37.847783Z"
    }
   },
   "outputs": [
    {
     "name": "stdout",
     "output_type": "stream",
     "text": [
      "Starting experimental run with id: 1. \n",
      "Starting experimental run with id: 2. \n",
      "Starting experimental run with id: 3. \n",
      "Starting experimental run with id: 4. \n",
      "Starting experimental run with id: 5. \n"
     ]
    },
    {
     "name": "stdout",
     "output_type": "stream",
     "text": [
      "Starting experimental run with id: 6. \n"
     ]
    },
    {
     "name": "stdout",
     "output_type": "stream",
     "text": [
      "Starting experimental run with id: 7. \n"
     ]
    },
    {
     "name": "stdout",
     "output_type": "stream",
     "text": [
      "Starting experimental run with id: 8. \n",
      "Starting experimental run with id: 9. \n"
     ]
    },
    {
     "name": "stdout",
     "output_type": "stream",
     "text": [
      "Starting experimental run with id: 10. \n",
      "Starting experimental run with id: 11. \n"
     ]
    },
    {
     "name": "stdout",
     "output_type": "stream",
     "text": [
      "Starting experimental run with id: 12. \n",
      "Starting experimental run with id: 13. \n"
     ]
    },
    {
     "name": "stdout",
     "output_type": "stream",
     "text": [
      "Starting experimental run with id: 14. \n"
     ]
    }
   ],
   "source": [
    "sizes = [1,500,1000,2000,3000,4000,5000]\n",
    "t_numeric = []\n",
    "t_numeric_add = []\n",
    "t_array = []\n",
    "t_array_add = []\n",
    "for size in sizes:\n",
    "    tn, tna, run_id_n =  insert_data('numeric', size)\n",
    "    t_numeric.append(tn)\n",
    "    t_numeric_add.append(tna)\n",
    "\n",
    "    ta, taa, run_id_a =  insert_data('array', size)\n",
    "    t_array.append(ta)\n",
    "    t_array_add.append(taa)"
   ]
  },
  {
   "cell_type": "code",
   "execution_count": 6,
   "metadata": {
    "execution": {
     "iopub.execute_input": "2020-10-26T14:45:37.869521Z",
     "iopub.status.busy": "2020-10-26T14:45:37.867121Z",
     "iopub.status.idle": "2020-10-26T14:45:38.091591Z",
     "shell.execute_reply": "2020-10-26T14:45:38.092437Z"
    }
   },
   "outputs": [
    {
     "data": {
      "image/png": "[encoded data removed]",
      "text/plain": [
       "<Figure size 432x288 with 1 Axes>"
      ]
     },
     "metadata": {
      "needs_background": "light"
     },
     "output_type": "display_data"
    }
   ],
   "source": [
    "fig, ax = plt.subplots(1,1)\n",
    "ax.plot(sizes, t_numeric, 'o-', label='Inserting row-by-row')\n",
    "ax.plot(sizes, t_numeric_add, 'o-', label='Inserting row-by-row: add_result only')\n",
    "ax.plot(sizes, t_array, 'd-', label='Inserting as binary blob')\n",
    "ax.plot(sizes, t_array_add, 'd-', label='Inserting as binary blob: add_result only')\n",
    "ax.legend()\n",
    "ax.set_xlabel('Array length')\n",
    "ax.set_ylabel('Time (s)')\n",
    "fig.tight_layout()"
   ]
  },
  {
   "cell_type": "markdown",
   "metadata": {},
   "source": [
    "As shown in the latter figure, the time to setup and and close the experiment is approximately 0.4 sec. In case of small array sizes, the difference between inserting values of data as arrays and inserting them row-by-row is relatively unimportant. At larger array sizes, i.e. above 10000 points, the cost of writing data as individual datapoints starts to become important.\n"
   ]
  },
  {
   "cell_type": "markdown",
   "metadata": {},
   "source": [
    "### Case2: Long experiment time "
   ]
  },
  {
   "cell_type": "code",
   "execution_count": 7,
   "metadata": {
    "execution": {
     "iopub.execute_input": "2020-10-26T14:45:38.101309Z",
     "iopub.status.busy": "2020-10-26T14:45:38.099814Z",
     "iopub.status.idle": "2020-10-26T14:46:39.684807Z",
     "shell.execute_reply": "2020-10-26T14:46:39.683904Z"
    }
   },
   "outputs": [
    {
     "name": "stdout",
     "output_type": "stream",
     "text": [
      "Starting experimental run with id: 15. \n",
      "Starting experimental run with id: 16. \n",
      "Starting experimental run with id: 17. \n"
     ]
    },
    {
     "name": "stdout",
     "output_type": "stream",
     "text": [
      "Starting experimental run with id: 18. \n",
      "Starting experimental run with id: 19. \n"
     ]
    },
    {
     "name": "stdout",
     "output_type": "stream",
     "text": [
      "Starting experimental run with id: 20. \n"
     ]
    },
    {
     "name": "stdout",
     "output_type": "stream",
     "text": [
      "Starting experimental run with id: 21. \n"
     ]
    },
    {
     "name": "stdout",
     "output_type": "stream",
     "text": [
      "Starting experimental run with id: 22. \n"
     ]
    },
    {
     "name": "stdout",
     "output_type": "stream",
     "text": [
      "Starting experimental run with id: 23. \n"
     ]
    },
    {
     "name": "stdout",
     "output_type": "stream",
     "text": [
      "Starting experimental run with id: 24. \n"
     ]
    },
    {
     "name": "stdout",
     "output_type": "stream",
     "text": [
      "Starting experimental run with id: 25. \n"
     ]
    },
    {
     "name": "stdout",
     "output_type": "stream",
     "text": [
      "Starting experimental run with id: 26. \n"
     ]
    },
    {
     "name": "stdout",
     "output_type": "stream",
     "text": [
      "Starting experimental run with id: 27. \n"
     ]
    },
    {
     "name": "stdout",
     "output_type": "stream",
     "text": [
      "Starting experimental run with id: 28. \n"
     ]
    }
   ],
   "source": [
    "sizes = [1,500,1000,2000,3000,4000,5000]\n",
    "nreps = 100\n",
    "t_numeric = []\n",
    "t_numeric_add = []\n",
    "t_numeric_run_ids = []\n",
    "t_array = []\n",
    "t_array_add = []\n",
    "t_array_run_ids = []\n",
    "for size in sizes:\n",
    "    tn, tna, run_id_n =  insert_data('numeric', size, nreps=nreps)\n",
    "    t_numeric.append(tn)\n",
    "    t_numeric_add.append(tna)\n",
    "    t_numeric_run_ids.append(run_id_n)\n",
    "\n",
    "    ta, taa, run_id_a =  insert_data('array', size, nreps=nreps)\n",
    "    t_array.append(ta)\n",
    "    t_array_add.append(taa)\n",
    "    t_array_run_ids.append(run_id_a)"
   ]
  },
  {
   "cell_type": "code",
   "execution_count": 8,
   "metadata": {
    "execution": {
     "iopub.execute_input": "2020-10-26T14:46:39.710005Z",
     "iopub.status.busy": "2020-10-26T14:46:39.704286Z",
     "iopub.status.idle": "2020-10-26T14:46:39.926350Z",
     "shell.execute_reply": "2020-10-26T14:46:39.925088Z"
    },
    "scrolled": true
   },
   "outputs": [
    {
     "data": {
      "image/png": "[encoded data removed]",
      "text/plain": [
       "<Figure size 432x288 with 1 Axes>"
      ]
     },
     "metadata": {
      "needs_background": "light"
     },
     "output_type": "display_data"
    }
   ],
   "source": [
    "fig, ax = plt.subplots(1,1)\n",
    "ax.plot(sizes, t_numeric, 'o-', label='Inserting row-by-row')\n",
    "ax.plot(sizes, t_numeric_add, 'o-', label='Inserting row-by-row: add_result only')\n",
    "ax.plot(sizes, t_array, 'd-', label='Inserting as binary blob')\n",
    "ax.plot(sizes, t_array_add, 'd-', label='Inserting as binary blob: add_result only')\n",
    "ax.legend()\n",
    "ax.set_xlabel('Array length')\n",
    "ax.set_ylabel('Time (s)')\n",
    "fig.tight_layout()"
   ]
  },
  {
   "cell_type": "markdown",
   "metadata": {},
   "source": [
    "However, as we increase the length of the experiment, as seen here by repeating the insertion 100 times, we see a big difference between inserting values of the data row-by-row and inserting it as a binary blob."
   ]
  },
  {
   "cell_type": "markdown",
   "metadata": {},
   "source": [
    "## Loading the data "
   ]
  },
  {
   "cell_type": "code",
   "execution_count": 9,
   "metadata": {
    "execution": {
     "iopub.execute_input": "2020-10-26T14:46:39.931963Z",
     "iopub.status.busy": "2020-10-26T14:46:39.931290Z",
     "iopub.status.idle": "2020-10-26T14:46:39.936263Z",
     "shell.execute_reply": "2020-10-26T14:46:39.935688Z"
    }
   },
   "outputs": [],
   "source": [
    "from qcodes.dataset.data_set import load_by_id\n",
    "from qcodes.dataset.data_export import get_data_by_id"
   ]
  },
  {
   "cell_type": "markdown",
   "metadata": {},
   "source": [
    "As usual you can load the data by using the ``load_by_id`` function but you will notice that the different storage methods\n",
    "are reflected in shape of the data as it is retrieved. "
   ]
  },
  {
   "cell_type": "code",
   "execution_count": 10,
   "metadata": {
    "execution": {
     "iopub.execute_input": "2020-10-26T14:46:39.940475Z",
     "iopub.status.busy": "2020-10-26T14:46:39.939870Z",
     "iopub.status.idle": "2020-10-26T14:46:39.943788Z",
     "shell.execute_reply": "2020-10-26T14:46:39.943279Z"
    }
   },
   "outputs": [],
   "source": [
    "run_id_n = t_numeric_run_ids[0]\n",
    "run_id_a = t_array_run_ids[0]"
   ]
  },
  {
   "cell_type": "code",
   "execution_count": 11,
   "metadata": {
    "execution": {
     "iopub.execute_input": "2020-10-26T14:46:39.948180Z",
     "iopub.status.busy": "2020-10-26T14:46:39.947236Z",
     "iopub.status.idle": "2020-10-26T14:46:39.959851Z",
     "shell.execute_reply": "2020-10-26T14:46:39.958988Z"
    },
    "scrolled": true
   },
   "outputs": [
    {
     "data": {
      "text/plain": [
       "{'x1': {'x1': array([0.89524597, 0.89524597, 0.9090877 , 0.9090877 , 0.65100868,\n",
       "         0.65100868, 0.42757482, 0.42757482, 0.2920136 , 0.2920136 ,\n",
       "         0.48752771, 0.48752771, 0.58378294, 0.58378294, 0.8369458 ,\n",
       "         0.8369458 , 0.75343297, 0.75343297, 0.06547219, 0.06547219,\n",
       "         0.42972017, 0.42972017, 0.93577552, 0.93577552, 0.15716489,\n",
       "         0.15716489, 0.96796639, 0.96796639, 0.98356625, 0.98356625,\n",
       "         0.1795166 , 0.1795166 , 0.06542177, 0.06542177, 0.68961818,\n",
       "         0.68961818, 0.69700008, 0.69700008, 0.99263307, 0.99263307,\n",
       "         0.63622723, 0.63622723, 0.4655083 , 0.4655083 , 0.06389717,\n",
       "         0.06389717, 0.35363783, 0.35363783, 0.73216369, 0.73216369,\n",
       "         0.16171058, 0.16171058, 0.17015908, 0.17015908, 0.80551697,\n",
       "         0.80551697, 0.90488542, 0.90488542, 0.93171304, 0.93171304,\n",
       "         0.00664985, 0.00664985, 0.49805522, 0.49805522, 0.91042915,\n",
       "         0.91042915, 0.93932756, 0.93932756, 0.26465052, 0.26465052,\n",
       "         0.00530804, 0.00530804, 0.39031939, 0.39031939, 0.0102973 ,\n",
       "         0.0102973 , 0.38249261, 0.38249261, 0.60118392, 0.60118392,\n",
       "         0.06640391, 0.06640391, 0.07602906, 0.07602906, 0.99837038,\n",
       "         0.99837038, 0.43027399, 0.43027399, 0.18632839, 0.18632839,\n",
       "         0.19919678, 0.19919678, 0.16184091, 0.16184091, 0.86888209,\n",
       "         0.86888209, 0.61539229, 0.61539229, 0.54794466, 0.54794466,\n",
       "         0.05698763, 0.05698763, 0.09669944, 0.09669944, 0.02580272,\n",
       "         0.02580272, 0.21833827, 0.21833827, 0.40027978, 0.40027978,\n",
       "         0.01097434, 0.01097434, 0.02252439, 0.02252439, 0.44573728,\n",
       "         0.44573728, 0.31351095, 0.31351095, 0.41591083, 0.41591083,\n",
       "         0.75912944, 0.75912944, 0.24643855, 0.24643855, 0.77419093,\n",
       "         0.77419093, 0.7047874 , 0.7047874 , 0.64338304, 0.64338304,\n",
       "         0.38341175, 0.38341175, 0.92930874, 0.92930874, 0.24317606,\n",
       "         0.24317606, 0.19755564, 0.19755564, 0.86730979, 0.86730979,\n",
       "         0.9883708 , 0.9883708 , 0.21124882, 0.21124882, 0.29432937,\n",
       "         0.29432937, 0.47462091, 0.47462091, 0.47403254, 0.47403254,\n",
       "         0.30465136, 0.30465136, 0.99719169, 0.99719169, 0.21484705,\n",
       "         0.21484705, 0.46834294, 0.46834294, 0.83911664, 0.83911664,\n",
       "         0.97703706, 0.97703706, 0.28178034, 0.28178034, 0.21395812,\n",
       "         0.21395812, 0.52648717, 0.52648717, 0.25241217, 0.25241217,\n",
       "         0.95346559, 0.95346559, 0.1939666 , 0.1939666 , 0.4406672 ,\n",
       "         0.4406672 , 0.89735036, 0.89735036, 0.98897405, 0.98897405,\n",
       "         0.04543496, 0.04543496, 0.933464  , 0.933464  , 0.73892703,\n",
       "         0.73892703, 0.88149818, 0.88149818, 0.9386381 , 0.9386381 ,\n",
       "         0.39155179, 0.39155179, 0.34447261, 0.34447261, 0.77447495,\n",
       "         0.77447495, 0.11018824, 0.11018824, 0.36258208, 0.36258208])}}"
      ]
     },
     "execution_count": 1,
     "metadata": {},
     "output_type": "execute_result"
    }
   ],
   "source": [
    "ds = load_by_id(run_id_n)\n",
    "ds.get_parameter_data('x1')"
   ]
  },
  {
   "cell_type": "markdown",
   "metadata": {},
   "source": [
    "And a dataset stored as binary arrays"
   ]
  },
  {
   "cell_type": "code",
   "execution_count": 12,
   "metadata": {
    "execution": {
     "iopub.execute_input": "2020-10-26T14:46:39.964360Z",
     "iopub.status.busy": "2020-10-26T14:46:39.963769Z",
     "iopub.status.idle": "2020-10-26T14:46:40.030138Z",
     "shell.execute_reply": "2020-10-26T14:46:40.030675Z"
    },
    "scrolled": true
   },
   "outputs": [
    {
     "data": {
      "text/plain": [
       "{'x1': {'x1': array([[0.11138672],\n",
       "         [0.11138672],\n",
       "         [0.76834411],\n",
       "         [0.76834411],\n",
       "         [0.06432031],\n",
       "         [0.06432031],\n",
       "         [0.28818821],\n",
       "         [0.28818821],\n",
       "         [0.71106385],\n",
       "         [0.71106385],\n",
       "         [0.67336964],\n",
       "         [0.67336964],\n",
       "         [0.11550962],\n",
       "         [0.11550962],\n",
       "         [0.29183498],\n",
       "         [0.29183498],\n",
       "         [0.84458838],\n",
       "         [0.84458838],\n",
       "         [0.32165238],\n",
       "         [0.32165238],\n",
       "         [0.2847126 ],\n",
       "         [0.2847126 ],\n",
       "         [0.79888968],\n",
       "         [0.79888968],\n",
       "         [0.61491988],\n",
       "         [0.61491988],\n",
       "         [0.35709064],\n",
       "         [0.35709064],\n",
       "         [0.59722524],\n",
       "         [0.59722524],\n",
       "         [0.14459741],\n",
       "         [0.14459741],\n",
       "         [0.44095448],\n",
       "         [0.44095448],\n",
       "         [0.33515386],\n",
       "         [0.33515386],\n",
       "         [0.82986567],\n",
       "         [0.82986567],\n",
       "         [0.89288293],\n",
       "         [0.89288293],\n",
       "         [0.17796064],\n",
       "         [0.17796064],\n",
       "         [0.61548291],\n",
       "         [0.61548291],\n",
       "         [0.66500326],\n",
       "         [0.66500326],\n",
       "         [0.54004459],\n",
       "         [0.54004459],\n",
       "         [0.89285672],\n",
       "         [0.89285672],\n",
       "         [0.33397847],\n",
       "         [0.33397847],\n",
       "         [0.52043469],\n",
       "         [0.52043469],\n",
       "         [0.35258368],\n",
       "         [0.35258368],\n",
       "         [0.67721886],\n",
       "         [0.67721886],\n",
       "         [0.46572932],\n",
       "         [0.46572932],\n",
       "         [0.00831577],\n",
       "         [0.00831577],\n",
       "         [0.81316558],\n",
       "         [0.81316558],\n",
       "         [0.39765995],\n",
       "         [0.39765995],\n",
       "         [0.08790919],\n",
       "         [0.08790919],\n",
       "         [0.75679264],\n",
       "         [0.75679264],\n",
       "         [0.61608944],\n",
       "         [0.61608944],\n",
       "         [0.88475496],\n",
       "         [0.88475496],\n",
       "         [0.76716559],\n",
       "         [0.76716559],\n",
       "         [0.06788592],\n",
       "         [0.06788592],\n",
       "         [0.57285212],\n",
       "         [0.57285212],\n",
       "         [0.09526364],\n",
       "         [0.09526364],\n",
       "         [0.37644994],\n",
       "         [0.37644994],\n",
       "         [0.87243982],\n",
       "         [0.87243982],\n",
       "         [0.18894986],\n",
       "         [0.18894986],\n",
       "         [0.28263834],\n",
       "         [0.28263834],\n",
       "         [0.18893019],\n",
       "         [0.18893019],\n",
       "         [0.32731759],\n",
       "         [0.32731759],\n",
       "         [0.70255324],\n",
       "         [0.70255324],\n",
       "         [0.7258033 ],\n",
       "         [0.7258033 ],\n",
       "         [0.25637954],\n",
       "         [0.25637954],\n",
       "         [0.37648777],\n",
       "         [0.37648777],\n",
       "         [0.5354888 ],\n",
       "         [0.5354888 ],\n",
       "         [0.56655811],\n",
       "         [0.56655811],\n",
       "         [0.10470402],\n",
       "         [0.10470402],\n",
       "         [0.2597041 ],\n",
       "         [0.2597041 ],\n",
       "         [0.91718315],\n",
       "         [0.91718315],\n",
       "         [0.00947441],\n",
       "         [0.00947441],\n",
       "         [0.49839797],\n",
       "         [0.49839797],\n",
       "         [0.02954568],\n",
       "         [0.02954568],\n",
       "         [0.45617089],\n",
       "         [0.45617089],\n",
       "         [0.98048099],\n",
       "         [0.98048099],\n",
       "         [0.08602867],\n",
       "         [0.08602867],\n",
       "         [0.96182344],\n",
       "         [0.96182344],\n",
       "         [0.8003131 ],\n",
       "         [0.8003131 ],\n",
       "         [0.22757456],\n",
       "         [0.22757456],\n",
       "         [0.70772574],\n",
       "         [0.70772574],\n",
       "         [0.58542581],\n",
       "         [0.58542581],\n",
       "         [0.69610898],\n",
       "         [0.69610898],\n",
       "         [0.03270367],\n",
       "         [0.03270367],\n",
       "         [0.34273694],\n",
       "         [0.34273694],\n",
       "         [0.22142549],\n",
       "         [0.22142549],\n",
       "         [0.55640593],\n",
       "         [0.55640593],\n",
       "         [0.76053554],\n",
       "         [0.76053554],\n",
       "         [0.1856553 ],\n",
       "         [0.1856553 ],\n",
       "         [0.1414371 ],\n",
       "         [0.1414371 ],\n",
       "         [0.44203086],\n",
       "         [0.44203086],\n",
       "         [0.48574953],\n",
       "         [0.48574953],\n",
       "         [0.88168877],\n",
       "         [0.88168877],\n",
       "         [0.23187628],\n",
       "         [0.23187628],\n",
       "         [0.52628441],\n",
       "         [0.52628441],\n",
       "         [0.2390684 ],\n",
       "         [0.2390684 ],\n",
       "         [0.49284747],\n",
       "         [0.49284747],\n",
       "         [0.89930531],\n",
       "         [0.89930531],\n",
       "         [0.2987635 ],\n",
       "         [0.2987635 ],\n",
       "         [0.05392037],\n",
       "         [0.05392037],\n",
       "         [0.07086454],\n",
       "         [0.07086454],\n",
       "         [0.12588459],\n",
       "         [0.12588459],\n",
       "         [0.08317235],\n",
       "         [0.08317235],\n",
       "         [0.72622628],\n",
       "         [0.72622628],\n",
       "         [0.55838943],\n",
       "         [0.55838943],\n",
       "         [0.70683766],\n",
       "         [0.70683766],\n",
       "         [0.99412215],\n",
       "         [0.99412215],\n",
       "         [0.97457625],\n",
       "         [0.97457625],\n",
       "         [0.76155055],\n",
       "         [0.76155055],\n",
       "         [0.24238254],\n",
       "         [0.24238254],\n",
       "         [0.53352569],\n",
       "         [0.53352569],\n",
       "         [0.65156039],\n",
       "         [0.65156039],\n",
       "         [0.93029579],\n",
       "         [0.93029579],\n",
       "         [0.66026889],\n",
       "         [0.66026889],\n",
       "         [0.44116266],\n",
       "         [0.44116266]])}}"
      ]
     },
     "execution_count": 1,
     "metadata": {},
     "output_type": "execute_result"
    }
   ],
   "source": [
    "ds = load_by_id(run_id_a)\n",
    "ds.get_parameter_data('x1')"
   ]
  },
  {
   "cell_type": "code",
   "execution_count": null,
   "metadata": {},
   "outputs": [],
   "source": []
  }
 ],
 "metadata": {
  "kernelspec": {
   "display_name": "Python 3",
   "language": "python",
   "name": "python3"
  },
  "language_info": {
   "codemirror_mode": {
    "name": "ipython",
    "version": 3
   },
   "file_extension": ".py",
   "mimetype": "text/x-python",
   "name": "python",
   "nbconvert_exporter": "python",
   "pygments_lexer": "ipython3",
   "version": "3.7.7"
  },
  "nbsphinx": {
   "timeout": 600
  },
  "toc": {
   "base_numbering": 1,
   "nav_menu": {},
   "number_sections": true,
   "sideBar": true,
   "skip_h1_title": false,
   "title_cell": "Table of Contents",
   "title_sidebar": "Contents",
   "toc_cell": false,
   "toc_position": {},
   "toc_section_display": true,
   "toc_window_display": false
  },
  "varInspector": {
   "cols": {
    "lenName": 16,
    "lenType": 16,
    "lenVar": 40
   },
   "kernels_config": {
    "python": {
     "delete_cmd_postfix": "",
     "delete_cmd_prefix": "del ",
     "library": "var_list.py",
     "varRefreshCmd": "print(var_dic_list())"
    },
    "r": {
     "delete_cmd_postfix": ") ",
     "delete_cmd_prefix": "rm(",
     "library": "var_list.r",
     "varRefreshCmd": "cat(var_dic_list()) "
    }
   },
   "types_to_exclude": [
    "module",
    "function",
    "builtin_function_or_method",
    "instance",
    "_Feature"
   ],
   "window_display": false
  }
 },
 "nbformat": 4,
 "nbformat_minor": 2
}
