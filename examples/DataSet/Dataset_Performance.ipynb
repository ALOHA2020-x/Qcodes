{
 "cells": [
  {
   "cell_type": "markdown",
   "metadata": {},
   "source": [
    "# DataSet Performance\n",
    "\n",
    "This notebook shows the trade-off between inserting data into a database row-by-row and as binary blobs. Inserting the data row-by-row means that we have direct access to all the data and may perform queries directly on the values of the data. On the other hand, as we shall see, this is much slower than inserting the data directly as binary blobs."
   ]
  },
  {
   "cell_type": "markdown",
   "metadata": {},
   "source": [
    "First, we choose a new location for the database to ensure that we don't add a bunch of benchmarking data to the default one."
   ]
  },
  {
   "cell_type": "code",
   "execution_count": 1,
   "metadata": {
    "execution": {
     "iopub.execute_input": "2021-03-04T08:53:34.070629Z",
     "iopub.status.busy": "2021-03-04T08:53:34.070053Z",
     "iopub.status.idle": "2021-03-04T08:53:34.978044Z",
     "shell.execute_reply": "2021-03-04T08:53:34.977440Z"
    }
   },
   "outputs": [
    {
     "name": "stdout",
     "output_type": "stream",
     "text": [
      "Logging hadn't been started.\n",
      "Activating auto-logging. Current session state plus future input saved.\n",
      "Filename       : /home/runner/.qcodes/logs/command_history.log\n",
      "Mode           : append\n",
      "Output logging : True\n",
      "Raw input log  : False\n",
      "Timestamping   : True\n",
      "State          : active\n"
     ]
    },
    {
     "name": "stdout",
     "output_type": "stream",
     "text": [
      "Qcodes Logfile : /home/runner/.qcodes/logs/210304-3878-qcodes.log\n"
     ]
    }
   ],
   "source": [
    "import os\n",
    "cwd = os.getcwd()\n",
    "import qcodes as qc\n",
    "qc.config[\"core\"][\"db_location\"] = os.path.join(cwd, 'testing.db')\n"
   ]
  },
  {
   "cell_type": "code",
   "execution_count": 2,
   "metadata": {
    "execution": {
     "iopub.execute_input": "2021-03-04T08:53:34.983816Z",
     "iopub.status.busy": "2021-03-04T08:53:34.982960Z",
     "iopub.status.idle": "2021-03-04T08:53:35.181351Z",
     "shell.execute_reply": "2021-03-04T08:53:35.180334Z"
    }
   },
   "outputs": [],
   "source": [
    "%matplotlib inline\n",
    "import time\n",
    "import matplotlib.pyplot as plt\n",
    "import numpy as np\n",
    "\n",
    "import qcodes as qc\n",
    "from qcodes.instrument.parameter import ManualParameter\n",
    "from qcodes.dataset.experiment_container import (Experiment,\n",
    "                                                 load_last_experiment,\n",
    "                                                 new_experiment)\n",
    "from qcodes.dataset.sqlite.database import initialise_database\n",
    "from qcodes import load_or_create_experiment\n",
    "from qcodes.dataset.measurements import Measurement"
   ]
  },
  {
   "cell_type": "code",
   "execution_count": 3,
   "metadata": {
    "execution": {
     "iopub.execute_input": "2021-03-04T08:53:35.186402Z",
     "iopub.status.busy": "2021-03-04T08:53:35.185759Z",
     "iopub.status.idle": "2021-03-04T08:53:35.298857Z",
     "shell.execute_reply": "2021-03-04T08:53:35.299421Z"
    }
   },
   "outputs": [
    {
     "name": "stdout",
     "output_type": "stream",
     "text": [
      "\r",
      "0it [00:00, ?it/s]"
     ]
    },
    {
     "name": "stdout",
     "output_type": "stream",
     "text": [
      "\r",
      "Upgrading database; v0 -> v1: : 0it [00:00, ?it/s]"
     ]
    },
    {
     "name": "stdout",
     "output_type": "stream",
     "text": [
      "\r",
      "Upgrading database; v0 -> v1: : 0it [00:00, ?it/s]"
     ]
    },
    {
     "name": "stdout",
     "output_type": "stream",
     "text": [
      "\n",
      "\r",
      "  0%|          | 0/1 [00:00<?, ?it/s]"
     ]
    },
    {
     "name": "stdout",
     "output_type": "stream",
     "text": [
      "\r",
      "Upgrading database; v1 -> v2:   0%|          | 0/1 [00:00<?, ?it/s]"
     ]
    },
    {
     "name": "stdout",
     "output_type": "stream",
     "text": [
      "\r",
      "Upgrading database; v1 -> v2: 100%|██████████| 1/1 [00:00<00:00, 840.54it/s]"
     ]
    },
    {
     "name": "stdout",
     "output_type": "stream",
     "text": [
      "\n",
      "\r",
      "0it [00:00, ?it/s]"
     ]
    },
    {
     "name": "stdout",
     "output_type": "stream",
     "text": [
      "\r",
      "Upgrading database; v2 -> v3: : 0it [00:00, ?it/s]"
     ]
    },
    {
     "name": "stdout",
     "output_type": "stream",
     "text": [
      "\r",
      "Upgrading database; v2 -> v3: : 0it [00:00, ?it/s]"
     ]
    },
    {
     "name": "stdout",
     "output_type": "stream",
     "text": [
      "\n",
      "\r",
      "0it [00:00, ?it/s]"
     ]
    },
    {
     "name": "stdout",
     "output_type": "stream",
     "text": [
      "\r",
      "Upgrading database; v3 -> v4: : 0it [00:00, ?it/s]"
     ]
    },
    {
     "name": "stdout",
     "output_type": "stream",
     "text": [
      "\r",
      "Upgrading database; v3 -> v4: : 0it [00:00, ?it/s]"
     ]
    },
    {
     "name": "stdout",
     "output_type": "stream",
     "text": [
      "\n",
      "\r",
      "  0%|          | 0/1 [00:00<?, ?it/s]"
     ]
    },
    {
     "name": "stdout",
     "output_type": "stream",
     "text": [
      "\r",
      "Upgrading database; v4 -> v5:   0%|          | 0/1 [00:00<?, ?it/s]"
     ]
    },
    {
     "name": "stdout",
     "output_type": "stream",
     "text": [
      "\r",
      "Upgrading database; v4 -> v5: 100%|██████████| 1/1 [00:00<00:00, 810.65it/s]"
     ]
    },
    {
     "name": "stdout",
     "output_type": "stream",
     "text": [
      "\n",
      "\r",
      "0it [00:00, ?it/s]"
     ]
    },
    {
     "name": "stdout",
     "output_type": "stream",
     "text": [
      "\r",
      "Upgrading database; v5 -> v6: : 0it [00:00, ?it/s]"
     ]
    },
    {
     "name": "stdout",
     "output_type": "stream",
     "text": [
      "\r",
      "Upgrading database; v5 -> v6: : 0it [00:00, ?it/s]"
     ]
    },
    {
     "name": "stdout",
     "output_type": "stream",
     "text": [
      "\n",
      "\r",
      "  0%|          | 0/1 [00:00<?, ?it/s]"
     ]
    },
    {
     "name": "stdout",
     "output_type": "stream",
     "text": [
      "\r",
      "Upgrading database; v6 -> v7:   0%|          | 0/1 [00:00<?, ?it/s]"
     ]
    },
    {
     "name": "stdout",
     "output_type": "stream",
     "text": [
      "\r",
      "Upgrading database; v6 -> v7: 100%|██████████| 1/1 [00:00<00:00, 476.08it/s]"
     ]
    },
    {
     "name": "stdout",
     "output_type": "stream",
     "text": [
      "\n",
      "\r",
      "  0%|          | 0/1 [00:00<?, ?it/s]"
     ]
    },
    {
     "name": "stdout",
     "output_type": "stream",
     "text": [
      "\r",
      "Upgrading database; v7 -> v8:   0%|          | 0/1 [00:00<?, ?it/s]"
     ]
    },
    {
     "name": "stdout",
     "output_type": "stream",
     "text": [
      "\r",
      "Upgrading database; v7 -> v8: 100%|██████████| 1/1 [00:00<00:00, 803.51it/s]"
     ]
    },
    {
     "name": "stdout",
     "output_type": "stream",
     "text": [
      "\n",
      "\r",
      "  0%|          | 0/1 [00:00<?, ?it/s]"
     ]
    },
    {
     "name": "stdout",
     "output_type": "stream",
     "text": [
      "\r",
      "Upgrading database; v8 -> v9:   0%|          | 0/1 [00:00<?, ?it/s]"
     ]
    },
    {
     "name": "stdout",
     "output_type": "stream",
     "text": [
      "\r",
      "Upgrading database; v8 -> v9: 100%|██████████| 1/1 [00:00<00:00, 902.00it/s]"
     ]
    },
    {
     "name": "stdout",
     "output_type": "stream",
     "text": [
      "\n"
     ]
    }
   ],
   "source": [
    "initialise_database()\n",
    "exp = load_or_create_experiment(experiment_name='tutorial_exp', sample_name=\"no sample\")"
   ]
  },
  {
   "cell_type": "markdown",
   "metadata": {},
   "source": [
    "Here, we define a simple function to benchmark the time it takes to insert n points with either numeric or array data type.\n",
    "We will compare both the time used to call ``add_result`` and the time used for the full measurement."
   ]
  },
  {
   "cell_type": "code",
   "execution_count": 4,
   "metadata": {
    "execution": {
     "iopub.execute_input": "2021-03-04T08:53:35.302245Z",
     "iopub.status.busy": "2021-03-04T08:53:35.301662Z",
     "iopub.status.idle": "2021-03-04T08:53:35.309519Z",
     "shell.execute_reply": "2021-03-04T08:53:35.310034Z"
    }
   },
   "outputs": [],
   "source": [
    "def insert_data(paramtype, npoints, nreps=1):\n",
    "\n",
    "    meas = Measurement(exp=exp)\n",
    "\n",
    "    x1 = ManualParameter('x1')\n",
    "    x2 = ManualParameter('x2')\n",
    "    x3 = ManualParameter('x3')\n",
    "    y1 = ManualParameter('y1')\n",
    "    y2 = ManualParameter('y2')\n",
    "\n",
    "    meas.register_parameter(x1, paramtype=paramtype)\n",
    "    meas.register_parameter(x2, paramtype=paramtype)\n",
    "    meas.register_parameter(x3, paramtype=paramtype)\n",
    "    meas.register_parameter(y1, setpoints=[x1, x2, x3],\n",
    "                            paramtype=paramtype)\n",
    "    meas.register_parameter(y2, setpoints=[x1, x2, x3],\n",
    "                            paramtype=paramtype)\n",
    "    start = time.perf_counter()\n",
    "    with meas.run() as datasaver:\n",
    "        start_adding = time.perf_counter()\n",
    "        for i in range(nreps):\n",
    "            datasaver.add_result((x1, np.random.rand(npoints)),\n",
    "                                 (x2, np.random.rand(npoints)),\n",
    "                                 (x3, np.random.rand(npoints)),\n",
    "                                 (y1, np.random.rand(npoints)),\n",
    "                                 (y2, np.random.rand(npoints)))\n",
    "        stop_adding = time.perf_counter()\n",
    "        run_id = datasaver.run_id\n",
    "    stop = time.perf_counter()\n",
    "    tot_time = stop - start\n",
    "    add_time = stop_adding - start_adding\n",
    "    return tot_time, add_time, run_id"
   ]
  },
  {
   "cell_type": "markdown",
   "metadata": {},
   "source": [
    "## Comparison between numeric/array data and binary blob"
   ]
  },
  {
   "cell_type": "markdown",
   "metadata": {},
   "source": [
    "### Case1: Short experiment time"
   ]
  },
  {
   "cell_type": "code",
   "execution_count": 5,
   "metadata": {
    "execution": {
     "iopub.execute_input": "2021-03-04T08:53:35.312800Z",
     "iopub.status.busy": "2021-03-04T08:53:35.312228Z",
     "iopub.status.idle": "2021-03-04T08:53:36.140039Z",
     "shell.execute_reply": "2021-03-04T08:53:36.139533Z"
    }
   },
   "outputs": [
    {
     "name": "stdout",
     "output_type": "stream",
     "text": [
      "Starting experimental run with id: 1. \n",
      "Starting experimental run with id: 2. \n",
      "Starting experimental run with id: 3. \n",
      "Starting experimental run with id: 4. \n",
      "Starting experimental run with id: 5. \n"
     ]
    },
    {
     "name": "stdout",
     "output_type": "stream",
     "text": [
      "Starting experimental run with id: 6. \n"
     ]
    },
    {
     "name": "stdout",
     "output_type": "stream",
     "text": [
      "Starting experimental run with id: 7. \n"
     ]
    },
    {
     "name": "stdout",
     "output_type": "stream",
     "text": [
      "Starting experimental run with id: 8. \n",
      "Starting experimental run with id: 9. \n"
     ]
    },
    {
     "name": "stdout",
     "output_type": "stream",
     "text": [
      "Starting experimental run with id: 10. \n",
      "Starting experimental run with id: 11. \n"
     ]
    },
    {
     "name": "stdout",
     "output_type": "stream",
     "text": [
      "Starting experimental run with id: 12. \n",
      "Starting experimental run with id: 13. \n"
     ]
    },
    {
     "name": "stdout",
     "output_type": "stream",
     "text": [
      "Starting experimental run with id: 14. \n"
     ]
    }
   ],
   "source": [
    "sizes = [1,500,1000,2000,3000,4000,5000]\n",
    "t_numeric = []\n",
    "t_numeric_add = []\n",
    "t_array = []\n",
    "t_array_add = []\n",
    "for size in sizes:\n",
    "    tn, tna, run_id_n =  insert_data('numeric', size)\n",
    "    t_numeric.append(tn)\n",
    "    t_numeric_add.append(tna)\n",
    "\n",
    "    ta, taa, run_id_a =  insert_data('array', size)\n",
    "    t_array.append(ta)\n",
    "    t_array_add.append(taa)"
   ]
  },
  {
   "cell_type": "code",
   "execution_count": 6,
   "metadata": {
    "execution": {
     "iopub.execute_input": "2021-03-04T08:53:36.184379Z",
     "iopub.status.busy": "2021-03-04T08:53:36.157689Z",
     "iopub.status.idle": "2021-03-04T08:53:36.350832Z",
     "shell.execute_reply": "2021-03-04T08:53:36.350292Z"
    }
   },
   "outputs": [
    {
     "data": {
      "image/png": "[encoded data removed]",
      "text/plain": [
       "<Figure size 432x288 with 1 Axes>"
      ]
     },
     "metadata": {
      "needs_background": "light"
     },
     "output_type": "display_data"
    }
   ],
   "source": [
    "fig, ax = plt.subplots(1,1)\n",
    "ax.plot(sizes, t_numeric, 'o-', label='Inserting row-by-row')\n",
    "ax.plot(sizes, t_numeric_add, 'o-', label='Inserting row-by-row: add_result only')\n",
    "ax.plot(sizes, t_array, 'd-', label='Inserting as binary blob')\n",
    "ax.plot(sizes, t_array_add, 'd-', label='Inserting as binary blob: add_result only')\n",
    "ax.legend()\n",
    "ax.set_xlabel('Array length')\n",
    "ax.set_ylabel('Time (s)')\n",
    "fig.tight_layout()"
   ]
  },
  {
   "cell_type": "markdown",
   "metadata": {},
   "source": [
    "As shown in the latter figure, the time to setup and and close the experiment is approximately 0.4 sec. In case of small array sizes, the difference between inserting values of data as arrays and inserting them row-by-row is relatively unimportant. At larger array sizes, i.e. above 10000 points, the cost of writing data as individual datapoints starts to become important.\n"
   ]
  },
  {
   "cell_type": "markdown",
   "metadata": {},
   "source": [
    "### Case2: Long experiment time "
   ]
  },
  {
   "cell_type": "code",
   "execution_count": 7,
   "metadata": {
    "execution": {
     "iopub.execute_input": "2021-03-04T08:53:36.357792Z",
     "iopub.status.busy": "2021-03-04T08:53:36.357198Z",
     "iopub.status.idle": "2021-03-04T08:54:35.432849Z",
     "shell.execute_reply": "2021-03-04T08:54:35.433644Z"
    }
   },
   "outputs": [
    {
     "name": "stdout",
     "output_type": "stream",
     "text": [
      "Starting experimental run with id: 15. \n",
      "Starting experimental run with id: 16. \n",
      "Starting experimental run with id: 17. \n"
     ]
    },
    {
     "name": "stdout",
     "output_type": "stream",
     "text": [
      "Starting experimental run with id: 18. \n"
     ]
    },
    {
     "name": "stdout",
     "output_type": "stream",
     "text": [
      "Starting experimental run with id: 19. \n"
     ]
    },
    {
     "name": "stdout",
     "output_type": "stream",
     "text": [
      "Starting experimental run with id: 20. \n"
     ]
    },
    {
     "name": "stdout",
     "output_type": "stream",
     "text": [
      "Starting experimental run with id: 21. \n"
     ]
    },
    {
     "name": "stdout",
     "output_type": "stream",
     "text": [
      "Starting experimental run with id: 22. \n"
     ]
    },
    {
     "name": "stdout",
     "output_type": "stream",
     "text": [
      "Starting experimental run with id: 23. \n"
     ]
    },
    {
     "name": "stdout",
     "output_type": "stream",
     "text": [
      "Starting experimental run with id: 24. \n"
     ]
    },
    {
     "name": "stdout",
     "output_type": "stream",
     "text": [
      "Starting experimental run with id: 25. \n"
     ]
    },
    {
     "name": "stdout",
     "output_type": "stream",
     "text": [
      "Starting experimental run with id: 26. \n"
     ]
    },
    {
     "name": "stdout",
     "output_type": "stream",
     "text": [
      "Starting experimental run with id: 27. \n"
     ]
    },
    {
     "name": "stdout",
     "output_type": "stream",
     "text": [
      "Starting experimental run with id: 28. \n"
     ]
    }
   ],
   "source": [
    "sizes = [1,500,1000,2000,3000,4000,5000]\n",
    "nreps = 100\n",
    "t_numeric = []\n",
    "t_numeric_add = []\n",
    "t_numeric_run_ids = []\n",
    "t_array = []\n",
    "t_array_add = []\n",
    "t_array_run_ids = []\n",
    "for size in sizes:\n",
    "    tn, tna, run_id_n =  insert_data('numeric', size, nreps=nreps)\n",
    "    t_numeric.append(tn)\n",
    "    t_numeric_add.append(tna)\n",
    "    t_numeric_run_ids.append(run_id_n)\n",
    "\n",
    "    ta, taa, run_id_a =  insert_data('array', size, nreps=nreps)\n",
    "    t_array.append(ta)\n",
    "    t_array_add.append(taa)\n",
    "    t_array_run_ids.append(run_id_a)"
   ]
  },
  {
   "cell_type": "code",
   "execution_count": 8,
   "metadata": {
    "execution": {
     "iopub.execute_input": "2021-03-04T08:54:35.473881Z",
     "iopub.status.busy": "2021-03-04T08:54:35.473035Z",
     "iopub.status.idle": "2021-03-04T08:54:35.641559Z",
     "shell.execute_reply": "2021-03-04T08:54:35.641050Z"
    },
    "scrolled": true
   },
   "outputs": [
    {
     "data": {
      "image/png": "[encoded data removed]",
      "text/plain": [
       "<Figure size 432x288 with 1 Axes>"
      ]
     },
     "metadata": {
      "needs_background": "light"
     },
     "output_type": "display_data"
    }
   ],
   "source": [
    "fig, ax = plt.subplots(1,1)\n",
    "ax.plot(sizes, t_numeric, 'o-', label='Inserting row-by-row')\n",
    "ax.plot(sizes, t_numeric_add, 'o-', label='Inserting row-by-row: add_result only')\n",
    "ax.plot(sizes, t_array, 'd-', label='Inserting as binary blob')\n",
    "ax.plot(sizes, t_array_add, 'd-', label='Inserting as binary blob: add_result only')\n",
    "ax.legend()\n",
    "ax.set_xlabel('Array length')\n",
    "ax.set_ylabel('Time (s)')\n",
    "fig.tight_layout()"
   ]
  },
  {
   "cell_type": "markdown",
   "metadata": {},
   "source": [
    "However, as we increase the length of the experiment, as seen here by repeating the insertion 100 times, we see a big difference between inserting values of the data row-by-row and inserting it as a binary blob."
   ]
  },
  {
   "cell_type": "markdown",
   "metadata": {},
   "source": [
    "## Loading the data "
   ]
  },
  {
   "cell_type": "code",
   "execution_count": 9,
   "metadata": {
    "execution": {
     "iopub.execute_input": "2021-03-04T08:54:35.645877Z",
     "iopub.status.busy": "2021-03-04T08:54:35.645087Z",
     "iopub.status.idle": "2021-03-04T08:54:35.648280Z",
     "shell.execute_reply": "2021-03-04T08:54:35.647810Z"
    }
   },
   "outputs": [],
   "source": [
    "from qcodes.dataset.data_set import load_by_id\n",
    "from qcodes.dataset.data_export import get_data_by_id"
   ]
  },
  {
   "cell_type": "markdown",
   "metadata": {},
   "source": [
    "As usual you can load the data by using the ``load_by_id`` function but you will notice that the different storage methods\n",
    "are reflected in shape of the data as it is retrieved. "
   ]
  },
  {
   "cell_type": "code",
   "execution_count": 10,
   "metadata": {
    "execution": {
     "iopub.execute_input": "2021-03-04T08:54:35.652107Z",
     "iopub.status.busy": "2021-03-04T08:54:35.651548Z",
     "iopub.status.idle": "2021-03-04T08:54:35.653860Z",
     "shell.execute_reply": "2021-03-04T08:54:35.653406Z"
    }
   },
   "outputs": [],
   "source": [
    "run_id_n = t_numeric_run_ids[0]\n",
    "run_id_a = t_array_run_ids[0]"
   ]
  },
  {
   "cell_type": "code",
   "execution_count": 11,
   "metadata": {
    "execution": {
     "iopub.execute_input": "2021-03-04T08:54:35.657255Z",
     "iopub.status.busy": "2021-03-04T08:54:35.656655Z",
     "iopub.status.idle": "2021-03-04T08:54:35.666149Z",
     "shell.execute_reply": "2021-03-04T08:54:35.665675Z"
    },
    "scrolled": true
   },
   "outputs": [
    {
     "data": {
      "text/plain": [
       "{'x1': {'x1': array([0.35024625, 0.35024625, 0.78350222, 0.78350222, 0.04629241,\n",
       "         0.04629241, 0.22481759, 0.22481759, 0.61266774, 0.61266774,\n",
       "         0.20643504, 0.20643504, 0.05084142, 0.05084142, 0.21352869,\n",
       "         0.21352869, 0.91461337, 0.91461337, 0.20009912, 0.20009912,\n",
       "         0.78815082, 0.78815082, 0.09644908, 0.09644908, 0.62777095,\n",
       "         0.62777095, 0.73487822, 0.73487822, 0.59238655, 0.59238655,\n",
       "         0.79171294, 0.79171294, 0.84760682, 0.84760682, 0.43222206,\n",
       "         0.43222206, 0.19666834, 0.19666834, 0.05140366, 0.05140366,\n",
       "         0.48891946, 0.48891946, 0.3883645 , 0.3883645 , 0.87649949,\n",
       "         0.87649949, 0.28035895, 0.28035895, 0.16431095, 0.16431095,\n",
       "         0.21141804, 0.21141804, 0.59438773, 0.59438773, 0.02800319,\n",
       "         0.02800319, 0.11566302, 0.11566302, 0.08331197, 0.08331197,\n",
       "         0.10059965, 0.10059965, 0.13471459, 0.13471459, 0.65924109,\n",
       "         0.65924109, 0.44572125, 0.44572125, 0.32765408, 0.32765408,\n",
       "         0.71178169, 0.71178169, 0.02523407, 0.02523407, 0.99702703,\n",
       "         0.99702703, 0.7526625 , 0.7526625 , 0.91552093, 0.91552093,\n",
       "         0.44872056, 0.44872056, 0.39628289, 0.39628289, 0.67916381,\n",
       "         0.67916381, 0.9664952 , 0.9664952 , 0.34247803, 0.34247803,\n",
       "         0.99743162, 0.99743162, 0.11924607, 0.11924607, 0.56789523,\n",
       "         0.56789523, 0.39949961, 0.39949961, 0.98487933, 0.98487933,\n",
       "         0.6781514 , 0.6781514 , 0.50161519, 0.50161519, 0.7672062 ,\n",
       "         0.7672062 , 0.23404506, 0.23404506, 0.247635  , 0.247635  ,\n",
       "         0.98712503, 0.98712503, 0.04243635, 0.04243635, 0.47918404,\n",
       "         0.47918404, 0.30557987, 0.30557987, 0.94019839, 0.94019839,\n",
       "         0.89722699, 0.89722699, 0.21268885, 0.21268885, 0.05691718,\n",
       "         0.05691718, 0.41003222, 0.41003222, 0.07022614, 0.07022614,\n",
       "         0.50034329, 0.50034329, 0.83766064, 0.83766064, 0.98216114,\n",
       "         0.98216114, 0.73267069, 0.73267069, 0.82669562, 0.82669562,\n",
       "         0.54258993, 0.54258993, 0.62217547, 0.62217547, 0.12913742,\n",
       "         0.12913742, 0.38936001, 0.38936001, 0.52648301, 0.52648301,\n",
       "         0.11274271, 0.11274271, 0.75590908, 0.75590908, 0.07395496,\n",
       "         0.07395496, 0.07746904, 0.07746904, 0.99200145, 0.99200145,\n",
       "         0.41089261, 0.41089261, 0.3939629 , 0.3939629 , 0.87665983,\n",
       "         0.87665983, 0.12440787, 0.12440787, 0.24362142, 0.24362142,\n",
       "         0.08896459, 0.08896459, 0.70746918, 0.70746918, 0.67257994,\n",
       "         0.67257994, 0.49864485, 0.49864485, 0.59001919, 0.59001919,\n",
       "         0.22585516, 0.22585516, 0.93949985, 0.93949985, 0.97131406,\n",
       "         0.97131406, 0.53177489, 0.53177489, 0.38454455, 0.38454455,\n",
       "         0.79313254, 0.79313254, 0.96443715, 0.96443715, 0.75374088,\n",
       "         0.75374088, 0.09616545, 0.09616545, 0.48376724, 0.48376724])}}"
      ]
     },
     "execution_count": 1,
     "metadata": {},
     "output_type": "execute_result"
    }
   ],
   "source": [
    "ds = load_by_id(run_id_n)\n",
    "ds.get_parameter_data('x1')"
   ]
  },
  {
   "cell_type": "markdown",
   "metadata": {},
   "source": [
    "And a dataset stored as binary arrays"
   ]
  },
  {
   "cell_type": "code",
   "execution_count": 12,
   "metadata": {
    "execution": {
     "iopub.execute_input": "2021-03-04T08:54:35.669371Z",
     "iopub.status.busy": "2021-03-04T08:54:35.668821Z",
     "iopub.status.idle": "2021-03-04T08:54:35.725566Z",
     "shell.execute_reply": "2021-03-04T08:54:35.726387Z"
    },
    "scrolled": true
   },
   "outputs": [
    {
     "data": {
      "text/plain": [
       "{'x1': {'x1': array([[0.36089968],\n",
       "         [0.36089968],\n",
       "         [0.9249153 ],\n",
       "         [0.9249153 ],\n",
       "         [0.34155186],\n",
       "         [0.34155186],\n",
       "         [0.62698155],\n",
       "         [0.62698155],\n",
       "         [0.68674695],\n",
       "         [0.68674695],\n",
       "         [0.95654907],\n",
       "         [0.95654907],\n",
       "         [0.14264753],\n",
       "         [0.14264753],\n",
       "         [0.21960792],\n",
       "         [0.21960792],\n",
       "         [0.17465981],\n",
       "         [0.17465981],\n",
       "         [0.04745914],\n",
       "         [0.04745914],\n",
       "         [0.46753419],\n",
       "         [0.46753419],\n",
       "         [0.6259341 ],\n",
       "         [0.6259341 ],\n",
       "         [0.72396928],\n",
       "         [0.72396928],\n",
       "         [0.36488489],\n",
       "         [0.36488489],\n",
       "         [0.84815498],\n",
       "         [0.84815498],\n",
       "         [0.45462192],\n",
       "         [0.45462192],\n",
       "         [0.03681804],\n",
       "         [0.03681804],\n",
       "         [0.85812988],\n",
       "         [0.85812988],\n",
       "         [0.64083903],\n",
       "         [0.64083903],\n",
       "         [0.39836063],\n",
       "         [0.39836063],\n",
       "         [0.33809312],\n",
       "         [0.33809312],\n",
       "         [0.82234073],\n",
       "         [0.82234073],\n",
       "         [0.46970803],\n",
       "         [0.46970803],\n",
       "         [0.98423087],\n",
       "         [0.98423087],\n",
       "         [0.36558345],\n",
       "         [0.36558345],\n",
       "         [0.44482782],\n",
       "         [0.44482782],\n",
       "         [0.35054632],\n",
       "         [0.35054632],\n",
       "         [0.0740886 ],\n",
       "         [0.0740886 ],\n",
       "         [0.71410638],\n",
       "         [0.71410638],\n",
       "         [0.27320959],\n",
       "         [0.27320959],\n",
       "         [0.62809685],\n",
       "         [0.62809685],\n",
       "         [0.37480667],\n",
       "         [0.37480667],\n",
       "         [0.80761879],\n",
       "         [0.80761879],\n",
       "         [0.64323306],\n",
       "         [0.64323306],\n",
       "         [0.79902241],\n",
       "         [0.79902241],\n",
       "         [0.32856621],\n",
       "         [0.32856621],\n",
       "         [0.6432719 ],\n",
       "         [0.6432719 ],\n",
       "         [0.24018673],\n",
       "         [0.24018673],\n",
       "         [0.25465705],\n",
       "         [0.25465705],\n",
       "         [0.65467168],\n",
       "         [0.65467168],\n",
       "         [0.94258962],\n",
       "         [0.94258962],\n",
       "         [0.99968752],\n",
       "         [0.99968752],\n",
       "         [0.06403715],\n",
       "         [0.06403715],\n",
       "         [0.08176949],\n",
       "         [0.08176949],\n",
       "         [0.60264036],\n",
       "         [0.60264036],\n",
       "         [0.32114767],\n",
       "         [0.32114767],\n",
       "         [0.58973908],\n",
       "         [0.58973908],\n",
       "         [0.67409814],\n",
       "         [0.67409814],\n",
       "         [0.32305296],\n",
       "         [0.32305296],\n",
       "         [0.65595113],\n",
       "         [0.65595113],\n",
       "         [0.88134183],\n",
       "         [0.88134183],\n",
       "         [0.15425175],\n",
       "         [0.15425175],\n",
       "         [0.13476342],\n",
       "         [0.13476342],\n",
       "         [0.03486972],\n",
       "         [0.03486972],\n",
       "         [0.00268396],\n",
       "         [0.00268396],\n",
       "         [0.90536733],\n",
       "         [0.90536733],\n",
       "         [0.44191849],\n",
       "         [0.44191849],\n",
       "         [0.11883519],\n",
       "         [0.11883519],\n",
       "         [0.69568933],\n",
       "         [0.69568933],\n",
       "         [0.8280311 ],\n",
       "         [0.8280311 ],\n",
       "         [0.67355536],\n",
       "         [0.67355536],\n",
       "         [0.03713407],\n",
       "         [0.03713407],\n",
       "         [0.91442444],\n",
       "         [0.91442444],\n",
       "         [0.38178979],\n",
       "         [0.38178979],\n",
       "         [0.16732368],\n",
       "         [0.16732368],\n",
       "         [0.09089627],\n",
       "         [0.09089627],\n",
       "         [0.99416462],\n",
       "         [0.99416462],\n",
       "         [0.85465478],\n",
       "         [0.85465478],\n",
       "         [0.81336329],\n",
       "         [0.81336329],\n",
       "         [0.19649027],\n",
       "         [0.19649027],\n",
       "         [0.1234264 ],\n",
       "         [0.1234264 ],\n",
       "         [0.44109758],\n",
       "         [0.44109758],\n",
       "         [0.3549895 ],\n",
       "         [0.3549895 ],\n",
       "         [0.94820911],\n",
       "         [0.94820911],\n",
       "         [0.93556592],\n",
       "         [0.93556592],\n",
       "         [0.23669015],\n",
       "         [0.23669015],\n",
       "         [0.27008986],\n",
       "         [0.27008986],\n",
       "         [0.63380972],\n",
       "         [0.63380972],\n",
       "         [0.1037633 ],\n",
       "         [0.1037633 ],\n",
       "         [0.04687747],\n",
       "         [0.04687747],\n",
       "         [0.27382239],\n",
       "         [0.27382239],\n",
       "         [0.8085626 ],\n",
       "         [0.8085626 ],\n",
       "         [0.11396614],\n",
       "         [0.11396614],\n",
       "         [0.02433929],\n",
       "         [0.02433929],\n",
       "         [0.46200665],\n",
       "         [0.46200665],\n",
       "         [0.49848602],\n",
       "         [0.49848602],\n",
       "         [0.0546043 ],\n",
       "         [0.0546043 ],\n",
       "         [0.85235751],\n",
       "         [0.85235751],\n",
       "         [0.91346825],\n",
       "         [0.91346825],\n",
       "         [0.62653557],\n",
       "         [0.62653557],\n",
       "         [0.98955283],\n",
       "         [0.98955283],\n",
       "         [0.84511311],\n",
       "         [0.84511311],\n",
       "         [0.4703671 ],\n",
       "         [0.4703671 ],\n",
       "         [0.25534537],\n",
       "         [0.25534537],\n",
       "         [0.18159184],\n",
       "         [0.18159184],\n",
       "         [0.77835622],\n",
       "         [0.77835622],\n",
       "         [0.02998272],\n",
       "         [0.02998272],\n",
       "         [0.11064459],\n",
       "         [0.11064459],\n",
       "         [0.81350257],\n",
       "         [0.81350257],\n",
       "         [0.46582457],\n",
       "         [0.46582457]])}}"
      ]
     },
     "execution_count": 1,
     "metadata": {},
     "output_type": "execute_result"
    }
   ],
   "source": [
    "ds = load_by_id(run_id_a)\n",
    "ds.get_parameter_data('x1')"
   ]
  },
  {
   "cell_type": "code",
   "execution_count": null,
   "metadata": {},
   "outputs": [],
   "source": []
  }
 ],
 "metadata": {
  "kernelspec": {
   "display_name": "Python 3",
   "language": "python",
   "name": "python3"
  },
  "language_info": {
   "codemirror_mode": {
    "name": "ipython",
    "version": 3
   },
   "file_extension": ".py",
   "mimetype": "text/x-python",
   "name": "python",
   "nbconvert_exporter": "python",
   "pygments_lexer": "ipython3",
   "version": "3.7.10"
  },
  "nbsphinx": {
   "timeout": 600
  },
  "toc": {
   "base_numbering": 1,
   "nav_menu": {},
   "number_sections": true,
   "sideBar": true,
   "skip_h1_title": false,
   "title_cell": "Table of Contents",
   "title_sidebar": "Contents",
   "toc_cell": false,
   "toc_position": {},
   "toc_section_display": true,
   "toc_window_display": false
  },
  "varInspector": {
   "cols": {
    "lenName": 16,
    "lenType": 16,
    "lenVar": 40
   },
   "kernels_config": {
    "python": {
     "delete_cmd_postfix": "",
     "delete_cmd_prefix": "del ",
     "library": "var_list.py",
     "varRefreshCmd": "print(var_dic_list())"
    },
    "r": {
     "delete_cmd_postfix": ") ",
     "delete_cmd_prefix": "rm(",
     "library": "var_list.r",
     "varRefreshCmd": "cat(var_dic_list()) "
    }
   },
   "types_to_exclude": [
    "module",
    "function",
    "builtin_function_or_method",
    "instance",
    "_Feature"
   ],
   "window_display": false
  }
 },
 "nbformat": 4,
 "nbformat_minor": 2
}
