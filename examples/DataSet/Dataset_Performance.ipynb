{
 "cells": [
  {
   "cell_type": "markdown",
   "metadata": {},
   "source": [
    "# DataSet Performance\n",
    "\n",
    "This notebook shows the trade-off between inserting data into a database row-by-row and as binary blobs. Inserting the data row-by-row means that we have direct access to all the data and may perform queries directly on the values of the data. On the other hand, as we shall see, this is much slower than inserting the data directly as binary blobs."
   ]
  },
  {
   "cell_type": "markdown",
   "metadata": {},
   "source": [
    "First, we choose a new location for the database to ensure that we don't add a bunch of benchmarking data to the default one."
   ]
  },
  {
   "cell_type": "code",
   "execution_count": 1,
   "metadata": {
    "execution": {
     "iopub.execute_input": "2020-10-14T07:08:24.999752Z",
     "iopub.status.busy": "2020-10-14T07:08:24.999159Z",
     "iopub.status.idle": "2020-10-14T07:08:26.136053Z",
     "shell.execute_reply": "2020-10-14T07:08:26.135155Z"
    }
   },
   "outputs": [
    {
     "name": "stdout",
     "output_type": "stream",
     "text": [
      "Logging hadn't been started.\n",
      "Activating auto-logging. Current session state plus future input saved.\n",
      "Filename       : /home/vsts/.qcodes/logs/command_history.log\n",
      "Mode           : append\n",
      "Output logging : True\n",
      "Raw input log  : False\n",
      "Timestamping   : True\n",
      "State          : active\n"
     ]
    },
    {
     "name": "stdout",
     "output_type": "stream",
     "text": [
      "Qcodes Logfile : /home/vsts/.qcodes/logs/201014-14833-qcodes.log\n"
     ]
    }
   ],
   "source": [
    "import os\n",
    "cwd = os.getcwd()\n",
    "import qcodes as qc\n",
    "qc.config[\"core\"][\"db_location\"] = os.path.join(cwd, 'testing.db')\n"
   ]
  },
  {
   "cell_type": "code",
   "execution_count": 2,
   "metadata": {
    "execution": {
     "iopub.execute_input": "2020-10-14T07:08:26.143696Z",
     "iopub.status.busy": "2020-10-14T07:08:26.143083Z",
     "iopub.status.idle": "2020-10-14T07:08:26.343168Z",
     "shell.execute_reply": "2020-10-14T07:08:26.342371Z"
    }
   },
   "outputs": [],
   "source": [
    "%matplotlib inline\n",
    "import time\n",
    "import matplotlib.pyplot as plt\n",
    "import numpy as np\n",
    "\n",
    "import qcodes as qc\n",
    "from qcodes.instrument.parameter import ManualParameter\n",
    "from qcodes.dataset.experiment_container import (Experiment,\n",
    "                                                 load_last_experiment,\n",
    "                                                 new_experiment)\n",
    "from qcodes.dataset.sqlite.database import initialise_database\n",
    "from qcodes import load_or_create_experiment\n",
    "from qcodes.dataset.measurements import Measurement"
   ]
  },
  {
   "cell_type": "code",
   "execution_count": 3,
   "metadata": {
    "execution": {
     "iopub.execute_input": "2020-10-14T07:08:26.347368Z",
     "iopub.status.busy": "2020-10-14T07:08:26.346205Z",
     "iopub.status.idle": "2020-10-14T07:08:26.483164Z",
     "shell.execute_reply": "2020-10-14T07:08:26.482542Z"
    }
   },
   "outputs": [
    {
     "name": "stdout",
     "output_type": "stream",
     "text": [
      "\r",
      "0it [00:00, ?it/s]"
     ]
    },
    {
     "name": "stdout",
     "output_type": "stream",
     "text": [
      "\r",
      "Upgrading database; v0 -> v1: : 0it [00:00, ?it/s]"
     ]
    },
    {
     "name": "stdout",
     "output_type": "stream",
     "text": [
      "\r",
      "Upgrading database; v0 -> v1: : 0it [00:00, ?it/s]"
     ]
    },
    {
     "name": "stdout",
     "output_type": "stream",
     "text": [
      "\n",
      "\r",
      "  0%|          | 0/1 [00:00<?, ?it/s]"
     ]
    },
    {
     "name": "stdout",
     "output_type": "stream",
     "text": [
      "\r",
      "Upgrading database; v1 -> v2:   0%|          | 0/1 [00:00<?, ?it/s]"
     ]
    },
    {
     "name": "stdout",
     "output_type": "stream",
     "text": [
      "\r",
      "Upgrading database; v1 -> v2: 100%|██████████| 1/1 [00:00<00:00, 764.83it/s]"
     ]
    },
    {
     "name": "stdout",
     "output_type": "stream",
     "text": [
      "\n",
      "\r",
      "0it [00:00, ?it/s]"
     ]
    },
    {
     "name": "stdout",
     "output_type": "stream",
     "text": [
      "\r",
      "Upgrading database; v2 -> v3: : 0it [00:00, ?it/s]"
     ]
    },
    {
     "name": "stdout",
     "output_type": "stream",
     "text": [
      "\r",
      "Upgrading database; v2 -> v3: : 0it [00:00, ?it/s]"
     ]
    },
    {
     "name": "stdout",
     "output_type": "stream",
     "text": [
      "\n",
      "\r",
      "0it [00:00, ?it/s]"
     ]
    },
    {
     "name": "stdout",
     "output_type": "stream",
     "text": [
      "\r",
      "Upgrading database; v3 -> v4: : 0it [00:00, ?it/s]"
     ]
    },
    {
     "name": "stdout",
     "output_type": "stream",
     "text": [
      "\r",
      "Upgrading database; v3 -> v4: : 0it [00:00, ?it/s]"
     ]
    },
    {
     "name": "stdout",
     "output_type": "stream",
     "text": [
      "\n",
      "\r",
      "  0%|          | 0/1 [00:00<?, ?it/s]"
     ]
    },
    {
     "name": "stdout",
     "output_type": "stream",
     "text": [
      "\r",
      "Upgrading database; v4 -> v5:   0%|          | 0/1 [00:00<?, ?it/s]"
     ]
    },
    {
     "name": "stdout",
     "output_type": "stream",
     "text": [
      "\r",
      "Upgrading database; v4 -> v5: 100%|██████████| 1/1 [00:00<00:00, 404.39it/s]"
     ]
    },
    {
     "name": "stdout",
     "output_type": "stream",
     "text": [
      "\n",
      "\r",
      "0it [00:00, ?it/s]"
     ]
    },
    {
     "name": "stdout",
     "output_type": "stream",
     "text": [
      "\r",
      "Upgrading database; v5 -> v6: : 0it [00:00, ?it/s]"
     ]
    },
    {
     "name": "stdout",
     "output_type": "stream",
     "text": [
      "\r",
      "Upgrading database; v5 -> v6: : 0it [00:00, ?it/s]"
     ]
    },
    {
     "name": "stdout",
     "output_type": "stream",
     "text": [
      "\n",
      "\r",
      "  0%|          | 0/1 [00:00<?, ?it/s]"
     ]
    },
    {
     "name": "stdout",
     "output_type": "stream",
     "text": [
      "\r",
      "Upgrading database; v6 -> v7:   0%|          | 0/1 [00:00<?, ?it/s]"
     ]
    },
    {
     "name": "stdout",
     "output_type": "stream",
     "text": [
      "\r",
      "Upgrading database; v6 -> v7: 100%|██████████| 1/1 [00:00<00:00, 364.72it/s]"
     ]
    },
    {
     "name": "stdout",
     "output_type": "stream",
     "text": [
      "\n",
      "\r",
      "  0%|          | 0/1 [00:00<?, ?it/s]"
     ]
    },
    {
     "name": "stdout",
     "output_type": "stream",
     "text": [
      "\r",
      "Upgrading database; v7 -> v8:   0%|          | 0/1 [00:00<?, ?it/s]"
     ]
    },
    {
     "name": "stdout",
     "output_type": "stream",
     "text": [
      "\r",
      "Upgrading database; v7 -> v8: 100%|██████████| 1/1 [00:00<00:00, 312.17it/s]"
     ]
    },
    {
     "name": "stdout",
     "output_type": "stream",
     "text": [
      "\n",
      "\r",
      "  0%|          | 0/1 [00:00<?, ?it/s]"
     ]
    },
    {
     "name": "stdout",
     "output_type": "stream",
     "text": [
      "\r",
      "Upgrading database; v8 -> v9:   0%|          | 0/1 [00:00<?, ?it/s]"
     ]
    },
    {
     "name": "stdout",
     "output_type": "stream",
     "text": [
      "\r",
      "Upgrading database; v8 -> v9: 100%|██████████| 1/1 [00:00<00:00, 1122.07it/s]"
     ]
    },
    {
     "name": "stdout",
     "output_type": "stream",
     "text": [
      "\n"
     ]
    }
   ],
   "source": [
    "initialise_database()\n",
    "exp = load_or_create_experiment(experiment_name='tutorial_exp', sample_name=\"no sample\")"
   ]
  },
  {
   "cell_type": "markdown",
   "metadata": {},
   "source": [
    "Here, we define a simple function to benchmark the time it takes to insert n points with either numeric or array data type.\n",
    "We will compare both the time used to call ``add_result`` and the time used for the full measurement."
   ]
  },
  {
   "cell_type": "code",
   "execution_count": 4,
   "metadata": {
    "execution": {
     "iopub.execute_input": "2020-10-14T07:08:26.497472Z",
     "iopub.status.busy": "2020-10-14T07:08:26.494097Z",
     "iopub.status.idle": "2020-10-14T07:08:26.500590Z",
     "shell.execute_reply": "2020-10-14T07:08:26.499970Z"
    }
   },
   "outputs": [],
   "source": [
    "def insert_data(paramtype, npoints, nreps=1):\n",
    "\n",
    "    meas = Measurement(exp=exp)\n",
    "\n",
    "    x1 = ManualParameter('x1')\n",
    "    x2 = ManualParameter('x2')\n",
    "    x3 = ManualParameter('x3')\n",
    "    y1 = ManualParameter('y1')\n",
    "    y2 = ManualParameter('y2')\n",
    "\n",
    "    meas.register_parameter(x1, paramtype=paramtype)\n",
    "    meas.register_parameter(x2, paramtype=paramtype)\n",
    "    meas.register_parameter(x3, paramtype=paramtype)\n",
    "    meas.register_parameter(y1, setpoints=[x1, x2, x3],\n",
    "                            paramtype=paramtype)\n",
    "    meas.register_parameter(y2, setpoints=[x1, x2, x3],\n",
    "                            paramtype=paramtype)\n",
    "    start = time.perf_counter()\n",
    "    with meas.run() as datasaver:\n",
    "        start_adding = time.perf_counter()\n",
    "        for i in range(nreps):\n",
    "            datasaver.add_result((x1, np.random.rand(npoints)),\n",
    "                                 (x2, np.random.rand(npoints)),\n",
    "                                 (x3, np.random.rand(npoints)),\n",
    "                                 (y1, np.random.rand(npoints)),\n",
    "                                 (y2, np.random.rand(npoints)))\n",
    "        stop_adding = time.perf_counter()\n",
    "        run_id = datasaver.run_id\n",
    "    stop = time.perf_counter()\n",
    "    tot_time = stop - start\n",
    "    add_time = stop_adding - start_adding\n",
    "    return tot_time, add_time, run_id"
   ]
  },
  {
   "cell_type": "markdown",
   "metadata": {},
   "source": [
    "## Comparison between numeric/array data and binary blob"
   ]
  },
  {
   "cell_type": "markdown",
   "metadata": {},
   "source": [
    "### Case1: Short experiment time"
   ]
  },
  {
   "cell_type": "code",
   "execution_count": 5,
   "metadata": {
    "execution": {
     "iopub.execute_input": "2020-10-14T07:08:26.507155Z",
     "iopub.status.busy": "2020-10-14T07:08:26.506197Z",
     "iopub.status.idle": "2020-10-14T07:08:27.431751Z",
     "shell.execute_reply": "2020-10-14T07:08:27.431117Z"
    }
   },
   "outputs": [
    {
     "name": "stdout",
     "output_type": "stream",
     "text": [
      "Starting experimental run with id: 1. \n",
      "Starting experimental run with id: 2. \n",
      "Starting experimental run with id: 3. \n",
      "Starting experimental run with id: 4. \n"
     ]
    },
    {
     "name": "stdout",
     "output_type": "stream",
     "text": [
      "Starting experimental run with id: 5. \n"
     ]
    },
    {
     "name": "stdout",
     "output_type": "stream",
     "text": [
      "Starting experimental run with id: 6. \n"
     ]
    },
    {
     "name": "stdout",
     "output_type": "stream",
     "text": [
      "Starting experimental run with id: 7. \n"
     ]
    },
    {
     "name": "stdout",
     "output_type": "stream",
     "text": [
      "Starting experimental run with id: 8. \n",
      "Starting experimental run with id: 9. \n"
     ]
    },
    {
     "name": "stdout",
     "output_type": "stream",
     "text": [
      "Starting experimental run with id: 10. \n",
      "Starting experimental run with id: 11. \n"
     ]
    },
    {
     "name": "stdout",
     "output_type": "stream",
     "text": [
      "Starting experimental run with id: 12. \n"
     ]
    },
    {
     "name": "stdout",
     "output_type": "stream",
     "text": [
      "Starting experimental run with id: 13. \n"
     ]
    },
    {
     "name": "stdout",
     "output_type": "stream",
     "text": [
      "Starting experimental run with id: 14. \n"
     ]
    }
   ],
   "source": [
    "sizes = [1,500,1000,2000,3000,4000,5000]\n",
    "t_numeric = []\n",
    "t_numeric_add = []\n",
    "t_array = []\n",
    "t_array_add = []\n",
    "for size in sizes:\n",
    "    tn, tna, run_id_n =  insert_data('numeric', size)\n",
    "    t_numeric.append(tn)\n",
    "    t_numeric_add.append(tna)\n",
    "\n",
    "    ta, taa, run_id_a =  insert_data('array', size)\n",
    "    t_array.append(ta)\n",
    "    t_array_add.append(taa)"
   ]
  },
  {
   "cell_type": "code",
   "execution_count": 6,
   "metadata": {
    "execution": {
     "iopub.execute_input": "2020-10-14T07:08:27.450881Z",
     "iopub.status.busy": "2020-10-14T07:08:27.450013Z",
     "iopub.status.idle": "2020-10-14T07:08:27.666188Z",
     "shell.execute_reply": "2020-10-14T07:08:27.665424Z"
    }
   },
   "outputs": [
    {
     "data": {
      "image/png": "[encoded data removed]",
      "text/plain": [
       "<Figure size 432x288 with 1 Axes>"
      ]
     },
     "metadata": {
      "needs_background": "light"
     },
     "output_type": "display_data"
    }
   ],
   "source": [
    "fig, ax = plt.subplots(1,1)\n",
    "ax.plot(sizes, t_numeric, 'o-', label='Inserting row-by-row')\n",
    "ax.plot(sizes, t_numeric_add, 'o-', label='Inserting row-by-row: add_result only')\n",
    "ax.plot(sizes, t_array, 'd-', label='Inserting as binary blob')\n",
    "ax.plot(sizes, t_array_add, 'd-', label='Inserting as binary blob: add_result only')\n",
    "ax.legend()\n",
    "ax.set_xlabel('Array length')\n",
    "ax.set_ylabel('Time (s)')\n",
    "fig.tight_layout()"
   ]
  },
  {
   "cell_type": "markdown",
   "metadata": {},
   "source": [
    "As shown in the latter figure, the time to setup and and close the experiment is approximately 0.4 sec. In case of small array sizes, the difference between inserting values of data as arrays and inserting them row-by-row is relatively unimportant. At larger array sizes, i.e. above 10000 points, the cost of writing data as individual datapoints starts to become important.\n"
   ]
  },
  {
   "cell_type": "markdown",
   "metadata": {},
   "source": [
    "### Case2: Long experiment time "
   ]
  },
  {
   "cell_type": "code",
   "execution_count": 7,
   "metadata": {
    "execution": {
     "iopub.execute_input": "2020-10-14T07:08:27.673495Z",
     "iopub.status.busy": "2020-10-14T07:08:27.672482Z",
     "iopub.status.idle": "2020-10-14T07:09:29.540074Z",
     "shell.execute_reply": "2020-10-14T07:09:29.540566Z"
    }
   },
   "outputs": [
    {
     "name": "stdout",
     "output_type": "stream",
     "text": [
      "Starting experimental run with id: 15. \n",
      "Starting experimental run with id: 16. \n",
      "Starting experimental run with id: 17. \n"
     ]
    },
    {
     "name": "stdout",
     "output_type": "stream",
     "text": [
      "Starting experimental run with id: 18. \n",
      "Starting experimental run with id: 19. \n"
     ]
    },
    {
     "name": "stdout",
     "output_type": "stream",
     "text": [
      "Starting experimental run with id: 20. \n"
     ]
    },
    {
     "name": "stdout",
     "output_type": "stream",
     "text": [
      "Starting experimental run with id: 21. \n"
     ]
    },
    {
     "name": "stdout",
     "output_type": "stream",
     "text": [
      "Starting experimental run with id: 22. \n"
     ]
    },
    {
     "name": "stdout",
     "output_type": "stream",
     "text": [
      "Starting experimental run with id: 23. \n"
     ]
    },
    {
     "name": "stdout",
     "output_type": "stream",
     "text": [
      "Starting experimental run with id: 24. \n"
     ]
    },
    {
     "name": "stdout",
     "output_type": "stream",
     "text": [
      "Starting experimental run with id: 25. \n"
     ]
    },
    {
     "name": "stdout",
     "output_type": "stream",
     "text": [
      "Starting experimental run with id: 26. \n"
     ]
    },
    {
     "name": "stdout",
     "output_type": "stream",
     "text": [
      "Starting experimental run with id: 27. \n"
     ]
    },
    {
     "name": "stdout",
     "output_type": "stream",
     "text": [
      "Starting experimental run with id: 28. \n"
     ]
    }
   ],
   "source": [
    "sizes = [1,500,1000,2000,3000,4000,5000]\n",
    "nreps = 100\n",
    "t_numeric = []\n",
    "t_numeric_add = []\n",
    "t_numeric_run_ids = []\n",
    "t_array = []\n",
    "t_array_add = []\n",
    "t_array_run_ids = []\n",
    "for size in sizes:\n",
    "    tn, tna, run_id_n =  insert_data('numeric', size, nreps=nreps)\n",
    "    t_numeric.append(tn)\n",
    "    t_numeric_add.append(tna)\n",
    "    t_numeric_run_ids.append(run_id_n)\n",
    "\n",
    "    ta, taa, run_id_a =  insert_data('array', size, nreps=nreps)\n",
    "    t_array.append(ta)\n",
    "    t_array_add.append(taa)\n",
    "    t_array_run_ids.append(run_id_a)"
   ]
  },
  {
   "cell_type": "code",
   "execution_count": 8,
   "metadata": {
    "execution": {
     "iopub.execute_input": "2020-10-14T07:09:29.565629Z",
     "iopub.status.busy": "2020-10-14T07:09:29.562712Z",
     "iopub.status.idle": "2020-10-14T07:09:29.771401Z",
     "shell.execute_reply": "2020-10-14T07:09:29.771890Z"
    },
    "scrolled": true
   },
   "outputs": [
    {
     "data": {
      "image/png": "[encoded data removed]",
      "text/plain": [
       "<Figure size 432x288 with 1 Axes>"
      ]
     },
     "metadata": {
      "needs_background": "light"
     },
     "output_type": "display_data"
    }
   ],
   "source": [
    "fig, ax = plt.subplots(1,1)\n",
    "ax.plot(sizes, t_numeric, 'o-', label='Inserting row-by-row')\n",
    "ax.plot(sizes, t_numeric_add, 'o-', label='Inserting row-by-row: add_result only')\n",
    "ax.plot(sizes, t_array, 'd-', label='Inserting as binary blob')\n",
    "ax.plot(sizes, t_array_add, 'd-', label='Inserting as binary blob: add_result only')\n",
    "ax.legend()\n",
    "ax.set_xlabel('Array length')\n",
    "ax.set_ylabel('Time (s)')\n",
    "fig.tight_layout()"
   ]
  },
  {
   "cell_type": "markdown",
   "metadata": {},
   "source": [
    "However, as we increase the length of the experiment, as seen here by repeating the insertion 100 times, we see a big difference between inserting values of the data row-by-row and inserting it as a binary blob."
   ]
  },
  {
   "cell_type": "markdown",
   "metadata": {},
   "source": [
    "## Loading the data "
   ]
  },
  {
   "cell_type": "code",
   "execution_count": 9,
   "metadata": {
    "execution": {
     "iopub.execute_input": "2020-10-14T07:09:29.776008Z",
     "iopub.status.busy": "2020-10-14T07:09:29.775149Z",
     "iopub.status.idle": "2020-10-14T07:09:29.779247Z",
     "shell.execute_reply": "2020-10-14T07:09:29.778733Z"
    }
   },
   "outputs": [],
   "source": [
    "from qcodes.dataset.data_set import load_by_id\n",
    "from qcodes.dataset.data_export import get_data_by_id"
   ]
  },
  {
   "cell_type": "markdown",
   "metadata": {},
   "source": [
    "As usual you can load the data by using the ``load_by_id`` function but you will notice that the different storage methods\n",
    "are reflected in shape of the data as it is retrieved. "
   ]
  },
  {
   "cell_type": "code",
   "execution_count": 10,
   "metadata": {
    "execution": {
     "iopub.execute_input": "2020-10-14T07:09:29.784004Z",
     "iopub.status.busy": "2020-10-14T07:09:29.782548Z",
     "iopub.status.idle": "2020-10-14T07:09:29.784589Z",
     "shell.execute_reply": "2020-10-14T07:09:29.785174Z"
    }
   },
   "outputs": [],
   "source": [
    "run_id_n = t_numeric_run_ids[0]\n",
    "run_id_a = t_array_run_ids[0]"
   ]
  },
  {
   "cell_type": "code",
   "execution_count": 11,
   "metadata": {
    "execution": {
     "iopub.execute_input": "2020-10-14T07:09:29.788582Z",
     "iopub.status.busy": "2020-10-14T07:09:29.788002Z",
     "iopub.status.idle": "2020-10-14T07:09:29.802556Z",
     "shell.execute_reply": "2020-10-14T07:09:29.801932Z"
    },
    "scrolled": true
   },
   "outputs": [
    {
     "data": {
      "text/plain": [
       "{'x1': {'x1': array([0.04831523, 0.04831523, 0.52343459, 0.52343459, 0.12522823,\n",
       "         0.12522823, 0.52940138, 0.52940138, 0.47527069, 0.47527069,\n",
       "         0.08396195, 0.08396195, 0.81675532, 0.81675532, 0.45264689,\n",
       "         0.45264689, 0.55354055, 0.55354055, 0.23427375, 0.23427375,\n",
       "         0.23577778, 0.23577778, 0.97125773, 0.97125773, 0.6586077 ,\n",
       "         0.6586077 , 0.47680174, 0.47680174, 0.08723862, 0.08723862,\n",
       "         0.32672929, 0.32672929, 0.39534736, 0.39534736, 0.28705743,\n",
       "         0.28705743, 0.13158574, 0.13158574, 0.68720017, 0.68720017,\n",
       "         0.19516863, 0.19516863, 0.59655856, 0.59655856, 0.33719931,\n",
       "         0.33719931, 0.17256041, 0.17256041, 0.68329733, 0.68329733,\n",
       "         0.79413927, 0.79413927, 0.59214556, 0.59214556, 0.3735713 ,\n",
       "         0.3735713 , 0.75375156, 0.75375156, 0.39831725, 0.39831725,\n",
       "         0.70890251, 0.70890251, 0.83141386, 0.83141386, 0.61073254,\n",
       "         0.61073254, 0.96152899, 0.96152899, 0.16817531, 0.16817531,\n",
       "         0.86823866, 0.86823866, 0.86945159, 0.86945159, 0.27363724,\n",
       "         0.27363724, 0.64689257, 0.64689257, 0.44596875, 0.44596875,\n",
       "         0.4478394 , 0.4478394 , 0.43789403, 0.43789403, 0.8014579 ,\n",
       "         0.8014579 , 0.59823473, 0.59823473, 0.80656724, 0.80656724,\n",
       "         0.53129228, 0.53129228, 0.23087907, 0.23087907, 0.50455866,\n",
       "         0.50455866, 0.76533301, 0.76533301, 0.54489605, 0.54489605,\n",
       "         0.35977724, 0.35977724, 0.53916257, 0.53916257, 0.99034663,\n",
       "         0.99034663, 0.36634893, 0.36634893, 0.64981892, 0.64981892,\n",
       "         0.45643411, 0.45643411, 0.53955358, 0.53955358, 0.38806351,\n",
       "         0.38806351, 0.29226206, 0.29226206, 0.63182508, 0.63182508,\n",
       "         0.50640254, 0.50640254, 0.00878854, 0.00878854, 0.4310066 ,\n",
       "         0.4310066 , 0.45117279, 0.45117279, 0.08208724, 0.08208724,\n",
       "         0.40323981, 0.40323981, 0.01179111, 0.01179111, 0.13927187,\n",
       "         0.13927187, 0.9213866 , 0.9213866 , 0.9054523 , 0.9054523 ,\n",
       "         0.65378057, 0.65378057, 0.99386837, 0.99386837, 0.43110722,\n",
       "         0.43110722, 0.96146229, 0.96146229, 0.97779096, 0.97779096,\n",
       "         0.42678685, 0.42678685, 0.45389239, 0.45389239, 0.4966619 ,\n",
       "         0.4966619 , 0.73724404, 0.73724404, 0.81318785, 0.81318785,\n",
       "         0.56997472, 0.56997472, 0.89984078, 0.89984078, 0.05603222,\n",
       "         0.05603222, 0.17759535, 0.17759535, 0.35607846, 0.35607846,\n",
       "         0.331484  , 0.331484  , 0.61266972, 0.61266972, 0.60874748,\n",
       "         0.60874748, 0.09790829, 0.09790829, 0.56856832, 0.56856832,\n",
       "         0.15908151, 0.15908151, 0.37062472, 0.37062472, 0.56132811,\n",
       "         0.56132811, 0.56730632, 0.56730632, 0.40186753, 0.40186753,\n",
       "         0.24854413, 0.24854413, 0.0295816 , 0.0295816 , 0.41945204,\n",
       "         0.41945204, 0.25239873, 0.25239873, 0.65857718, 0.65857718])}}"
      ]
     },
     "execution_count": 1,
     "metadata": {},
     "output_type": "execute_result"
    }
   ],
   "source": [
    "ds = load_by_id(run_id_n)\n",
    "ds.get_parameter_data('x1')"
   ]
  },
  {
   "cell_type": "markdown",
   "metadata": {},
   "source": [
    "And a dataset stored as binary arrays"
   ]
  },
  {
   "cell_type": "code",
   "execution_count": 12,
   "metadata": {
    "execution": {
     "iopub.execute_input": "2020-10-14T07:09:29.806259Z",
     "iopub.status.busy": "2020-10-14T07:09:29.805680Z",
     "iopub.status.idle": "2020-10-14T07:09:29.867656Z",
     "shell.execute_reply": "2020-10-14T07:09:29.868276Z"
    },
    "scrolled": true
   },
   "outputs": [
    {
     "data": {
      "text/plain": [
       "{'x1': {'x1': array([[0.07469659],\n",
       "         [0.07469659],\n",
       "         [0.41408587],\n",
       "         [0.41408587],\n",
       "         [0.13281035],\n",
       "         [0.13281035],\n",
       "         [0.09618469],\n",
       "         [0.09618469],\n",
       "         [0.83391908],\n",
       "         [0.83391908],\n",
       "         [0.6132352 ],\n",
       "         [0.6132352 ],\n",
       "         [0.50458204],\n",
       "         [0.50458204],\n",
       "         [0.22532695],\n",
       "         [0.22532695],\n",
       "         [0.43029571],\n",
       "         [0.43029571],\n",
       "         [0.54261592],\n",
       "         [0.54261592],\n",
       "         [0.88499359],\n",
       "         [0.88499359],\n",
       "         [0.48017583],\n",
       "         [0.48017583],\n",
       "         [0.43419066],\n",
       "         [0.43419066],\n",
       "         [0.29506155],\n",
       "         [0.29506155],\n",
       "         [0.58537811],\n",
       "         [0.58537811],\n",
       "         [0.3800395 ],\n",
       "         [0.3800395 ],\n",
       "         [0.84150718],\n",
       "         [0.84150718],\n",
       "         [0.12690684],\n",
       "         [0.12690684],\n",
       "         [0.6207116 ],\n",
       "         [0.6207116 ],\n",
       "         [0.84292779],\n",
       "         [0.84292779],\n",
       "         [0.75155299],\n",
       "         [0.75155299],\n",
       "         [0.91998749],\n",
       "         [0.91998749],\n",
       "         [0.73491919],\n",
       "         [0.73491919],\n",
       "         [0.07724269],\n",
       "         [0.07724269],\n",
       "         [0.68375601],\n",
       "         [0.68375601],\n",
       "         [0.25670856],\n",
       "         [0.25670856],\n",
       "         [0.84247833],\n",
       "         [0.84247833],\n",
       "         [0.72636558],\n",
       "         [0.72636558],\n",
       "         [0.44604019],\n",
       "         [0.44604019],\n",
       "         [0.17314901],\n",
       "         [0.17314901],\n",
       "         [0.72789648],\n",
       "         [0.72789648],\n",
       "         [0.77578902],\n",
       "         [0.77578902],\n",
       "         [0.12565595],\n",
       "         [0.12565595],\n",
       "         [0.00946899],\n",
       "         [0.00946899],\n",
       "         [0.23271573],\n",
       "         [0.23271573],\n",
       "         [0.46670777],\n",
       "         [0.46670777],\n",
       "         [0.56301118],\n",
       "         [0.56301118],\n",
       "         [0.83701909],\n",
       "         [0.83701909],\n",
       "         [0.15970279],\n",
       "         [0.15970279],\n",
       "         [0.50782994],\n",
       "         [0.50782994],\n",
       "         [0.98444306],\n",
       "         [0.98444306],\n",
       "         [0.44257828],\n",
       "         [0.44257828],\n",
       "         [0.85988968],\n",
       "         [0.85988968],\n",
       "         [0.17147722],\n",
       "         [0.17147722],\n",
       "         [0.59200858],\n",
       "         [0.59200858],\n",
       "         [0.65963631],\n",
       "         [0.65963631],\n",
       "         [0.63941137],\n",
       "         [0.63941137],\n",
       "         [0.45629003],\n",
       "         [0.45629003],\n",
       "         [0.90293682],\n",
       "         [0.90293682],\n",
       "         [0.78157596],\n",
       "         [0.78157596],\n",
       "         [0.70152908],\n",
       "         [0.70152908],\n",
       "         [0.56623549],\n",
       "         [0.56623549],\n",
       "         [0.99069928],\n",
       "         [0.99069928],\n",
       "         [0.81946911],\n",
       "         [0.81946911],\n",
       "         [0.46237807],\n",
       "         [0.46237807],\n",
       "         [0.37832156],\n",
       "         [0.37832156],\n",
       "         [0.63523232],\n",
       "         [0.63523232],\n",
       "         [0.65398942],\n",
       "         [0.65398942],\n",
       "         [0.08071979],\n",
       "         [0.08071979],\n",
       "         [0.54471521],\n",
       "         [0.54471521],\n",
       "         [0.29142237],\n",
       "         [0.29142237],\n",
       "         [0.06619919],\n",
       "         [0.06619919],\n",
       "         [0.26199224],\n",
       "         [0.26199224],\n",
       "         [0.54805423],\n",
       "         [0.54805423],\n",
       "         [0.74956644],\n",
       "         [0.74956644],\n",
       "         [0.98004426],\n",
       "         [0.98004426],\n",
       "         [0.19640024],\n",
       "         [0.19640024],\n",
       "         [0.90145494],\n",
       "         [0.90145494],\n",
       "         [0.0142468 ],\n",
       "         [0.0142468 ],\n",
       "         [0.47578447],\n",
       "         [0.47578447],\n",
       "         [0.90206311],\n",
       "         [0.90206311],\n",
       "         [0.76111004],\n",
       "         [0.76111004],\n",
       "         [0.17298687],\n",
       "         [0.17298687],\n",
       "         [0.52126894],\n",
       "         [0.52126894],\n",
       "         [0.38269518],\n",
       "         [0.38269518],\n",
       "         [0.35456902],\n",
       "         [0.35456902],\n",
       "         [0.51330683],\n",
       "         [0.51330683],\n",
       "         [0.81245931],\n",
       "         [0.81245931],\n",
       "         [0.40034835],\n",
       "         [0.40034835],\n",
       "         [0.90605989],\n",
       "         [0.90605989],\n",
       "         [0.86665039],\n",
       "         [0.86665039],\n",
       "         [0.84433149],\n",
       "         [0.84433149],\n",
       "         [0.24226008],\n",
       "         [0.24226008],\n",
       "         [0.00592684],\n",
       "         [0.00592684],\n",
       "         [0.03551044],\n",
       "         [0.03551044],\n",
       "         [0.864458  ],\n",
       "         [0.864458  ],\n",
       "         [0.6881346 ],\n",
       "         [0.6881346 ],\n",
       "         [0.64952098],\n",
       "         [0.64952098],\n",
       "         [0.16938289],\n",
       "         [0.16938289],\n",
       "         [0.12327929],\n",
       "         [0.12327929],\n",
       "         [0.62768832],\n",
       "         [0.62768832],\n",
       "         [0.19175613],\n",
       "         [0.19175613],\n",
       "         [0.50931256],\n",
       "         [0.50931256],\n",
       "         [0.7686766 ],\n",
       "         [0.7686766 ],\n",
       "         [0.26575782],\n",
       "         [0.26575782],\n",
       "         [0.81326977],\n",
       "         [0.81326977],\n",
       "         [0.43915478],\n",
       "         [0.43915478],\n",
       "         [0.33950357],\n",
       "         [0.33950357],\n",
       "         [0.71065237],\n",
       "         [0.71065237],\n",
       "         [0.62982293],\n",
       "         [0.62982293]])}}"
      ]
     },
     "execution_count": 1,
     "metadata": {},
     "output_type": "execute_result"
    }
   ],
   "source": [
    "ds = load_by_id(run_id_a)\n",
    "ds.get_parameter_data('x1')"
   ]
  },
  {
   "cell_type": "code",
   "execution_count": null,
   "metadata": {},
   "outputs": [],
   "source": []
  }
 ],
 "metadata": {
  "kernelspec": {
   "display_name": "Python 3",
   "language": "python",
   "name": "python3"
  },
  "language_info": {
   "codemirror_mode": {
    "name": "ipython",
    "version": 3
   },
   "file_extension": ".py",
   "mimetype": "text/x-python",
   "name": "python",
   "nbconvert_exporter": "python",
   "pygments_lexer": "ipython3",
   "version": "3.7.7"
  },
  "nbsphinx": {
   "timeout": 600
  },
  "toc": {
   "base_numbering": 1,
   "nav_menu": {},
   "number_sections": true,
   "sideBar": true,
   "skip_h1_title": false,
   "title_cell": "Table of Contents",
   "title_sidebar": "Contents",
   "toc_cell": false,
   "toc_position": {},
   "toc_section_display": true,
   "toc_window_display": false
  },
  "varInspector": {
   "cols": {
    "lenName": 16,
    "lenType": 16,
    "lenVar": 40
   },
   "kernels_config": {
    "python": {
     "delete_cmd_postfix": "",
     "delete_cmd_prefix": "del ",
     "library": "var_list.py",
     "varRefreshCmd": "print(var_dic_list())"
    },
    "r": {
     "delete_cmd_postfix": ") ",
     "delete_cmd_prefix": "rm(",
     "library": "var_list.r",
     "varRefreshCmd": "cat(var_dic_list()) "
    }
   },
   "types_to_exclude": [
    "module",
    "function",
    "builtin_function_or_method",
    "instance",
    "_Feature"
   ],
   "window_display": false
  }
 },
 "nbformat": 4,
 "nbformat_minor": 2
}
