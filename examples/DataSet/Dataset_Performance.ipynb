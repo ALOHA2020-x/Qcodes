{
 "cells": [
  {
   "cell_type": "markdown",
   "metadata": {},
   "source": [
    "# DataSet Performance\n",
    "\n",
    "This notebook shows the trade-off between inserting data into a database row-by-row and as binary blobs. Inserting the data row-by-row means that we have direct access to all the data and may perform queries directly on the values of the data. On the other hand, as we shall see, this is much slower than inserting the data directly as binary blobs."
   ]
  },
  {
   "cell_type": "markdown",
   "metadata": {},
   "source": [
    "First, we choose a new location for the database to ensure that we don't add a bunch of benchmarking data to the default one."
   ]
  },
  {
   "cell_type": "code",
   "execution_count": 1,
   "metadata": {
    "execution": {
     "iopub.execute_input": "2020-10-21T08:00:11.473731Z",
     "iopub.status.busy": "2020-10-21T08:00:11.473198Z",
     "iopub.status.idle": "2020-10-21T08:00:12.511614Z",
     "shell.execute_reply": "2020-10-21T08:00:12.511064Z"
    }
   },
   "outputs": [
    {
     "name": "stdout",
     "output_type": "stream",
     "text": [
      "Logging hadn't been started.\n",
      "Activating auto-logging. Current session state plus future input saved.\n",
      "Filename       : /home/vsts/.qcodes/logs/command_history.log\n",
      "Mode           : append\n",
      "Output logging : True\n",
      "Raw input log  : False\n",
      "Timestamping   : True\n",
      "State          : active\n"
     ]
    },
    {
     "name": "stdout",
     "output_type": "stream",
     "text": [
      "Qcodes Logfile : /home/vsts/.qcodes/logs/201021-14278-qcodes.log\n"
     ]
    }
   ],
   "source": [
    "import os\n",
    "cwd = os.getcwd()\n",
    "import qcodes as qc\n",
    "qc.config[\"core\"][\"db_location\"] = os.path.join(cwd, 'testing.db')\n"
   ]
  },
  {
   "cell_type": "code",
   "execution_count": 2,
   "metadata": {
    "execution": {
     "iopub.execute_input": "2020-10-21T08:00:12.518019Z",
     "iopub.status.busy": "2020-10-21T08:00:12.517474Z",
     "iopub.status.idle": "2020-10-21T08:00:12.710052Z",
     "shell.execute_reply": "2020-10-21T08:00:12.709127Z"
    }
   },
   "outputs": [],
   "source": [
    "%matplotlib inline\n",
    "import time\n",
    "import matplotlib.pyplot as plt\n",
    "import numpy as np\n",
    "\n",
    "import qcodes as qc\n",
    "from qcodes.instrument.parameter import ManualParameter\n",
    "from qcodes.dataset.experiment_container import (Experiment,\n",
    "                                                 load_last_experiment,\n",
    "                                                 new_experiment)\n",
    "from qcodes.dataset.sqlite.database import initialise_database\n",
    "from qcodes import load_or_create_experiment\n",
    "from qcodes.dataset.measurements import Measurement"
   ]
  },
  {
   "cell_type": "code",
   "execution_count": 3,
   "metadata": {
    "execution": {
     "iopub.execute_input": "2020-10-21T08:00:12.713985Z",
     "iopub.status.busy": "2020-10-21T08:00:12.713388Z",
     "iopub.status.idle": "2020-10-21T08:00:12.814164Z",
     "shell.execute_reply": "2020-10-21T08:00:12.813682Z"
    }
   },
   "outputs": [
    {
     "name": "stdout",
     "output_type": "stream",
     "text": [
      "\r",
      "0it [00:00, ?it/s]"
     ]
    },
    {
     "name": "stdout",
     "output_type": "stream",
     "text": [
      "\r",
      "Upgrading database; v0 -> v1: : 0it [00:00, ?it/s]"
     ]
    },
    {
     "name": "stdout",
     "output_type": "stream",
     "text": [
      "\r",
      "Upgrading database; v0 -> v1: : 0it [00:00, ?it/s]"
     ]
    },
    {
     "name": "stdout",
     "output_type": "stream",
     "text": [
      "\n",
      "\r",
      "  0%|          | 0/1 [00:00<?, ?it/s]"
     ]
    },
    {
     "name": "stdout",
     "output_type": "stream",
     "text": [
      "\r",
      "Upgrading database; v1 -> v2:   0%|          | 0/1 [00:00<?, ?it/s]"
     ]
    },
    {
     "name": "stdout",
     "output_type": "stream",
     "text": [
      "\r",
      "Upgrading database; v1 -> v2: 100%|██████████| 1/1 [00:00<00:00, 477.38it/s]"
     ]
    },
    {
     "name": "stdout",
     "output_type": "stream",
     "text": [
      "\n",
      "\r",
      "0it [00:00, ?it/s]"
     ]
    },
    {
     "name": "stdout",
     "output_type": "stream",
     "text": [
      "\r",
      "Upgrading database; v2 -> v3: : 0it [00:00, ?it/s]"
     ]
    },
    {
     "name": "stdout",
     "output_type": "stream",
     "text": [
      "\r",
      "Upgrading database; v2 -> v3: : 0it [00:00, ?it/s]"
     ]
    },
    {
     "name": "stdout",
     "output_type": "stream",
     "text": [
      "\n",
      "\r",
      "0it [00:00, ?it/s]"
     ]
    },
    {
     "name": "stdout",
     "output_type": "stream",
     "text": [
      "\r",
      "Upgrading database; v3 -> v4: : 0it [00:00, ?it/s]"
     ]
    },
    {
     "name": "stdout",
     "output_type": "stream",
     "text": [
      "\r",
      "Upgrading database; v3 -> v4: : 0it [00:00, ?it/s]"
     ]
    },
    {
     "name": "stdout",
     "output_type": "stream",
     "text": [
      "\n",
      "\r",
      "  0%|          | 0/1 [00:00<?, ?it/s]"
     ]
    },
    {
     "name": "stdout",
     "output_type": "stream",
     "text": [
      "\r",
      "Upgrading database; v4 -> v5:   0%|          | 0/1 [00:00<?, ?it/s]"
     ]
    },
    {
     "name": "stdout",
     "output_type": "stream",
     "text": [
      "\r",
      "Upgrading database; v4 -> v5: 100%|██████████| 1/1 [00:00<00:00, 455.61it/s]"
     ]
    },
    {
     "name": "stdout",
     "output_type": "stream",
     "text": [
      "\n",
      "\r",
      "0it [00:00, ?it/s]"
     ]
    },
    {
     "name": "stdout",
     "output_type": "stream",
     "text": [
      "\r",
      "Upgrading database; v5 -> v6: : 0it [00:00, ?it/s]"
     ]
    },
    {
     "name": "stdout",
     "output_type": "stream",
     "text": [
      "\r",
      "Upgrading database; v5 -> v6: : 0it [00:00, ?it/s]"
     ]
    },
    {
     "name": "stdout",
     "output_type": "stream",
     "text": [
      "\n",
      "\r",
      "  0%|          | 0/1 [00:00<?, ?it/s]"
     ]
    },
    {
     "name": "stdout",
     "output_type": "stream",
     "text": [
      "\r",
      "Upgrading database; v6 -> v7:   0%|          | 0/1 [00:00<?, ?it/s]"
     ]
    },
    {
     "name": "stdout",
     "output_type": "stream",
     "text": [
      "\r",
      "Upgrading database; v6 -> v7: 100%|██████████| 1/1 [00:00<00:00, 310.83it/s]"
     ]
    },
    {
     "name": "stdout",
     "output_type": "stream",
     "text": [
      "\n",
      "\r",
      "  0%|          | 0/1 [00:00<?, ?it/s]"
     ]
    },
    {
     "name": "stdout",
     "output_type": "stream",
     "text": [
      "\r",
      "Upgrading database; v7 -> v8:   0%|          | 0/1 [00:00<?, ?it/s]"
     ]
    },
    {
     "name": "stdout",
     "output_type": "stream",
     "text": [
      "\r",
      "Upgrading database; v7 -> v8: 100%|██████████| 1/1 [00:00<00:00, 433.88it/s]"
     ]
    },
    {
     "name": "stdout",
     "output_type": "stream",
     "text": [
      "\n",
      "\r",
      "  0%|          | 0/1 [00:00<?, ?it/s]"
     ]
    },
    {
     "name": "stdout",
     "output_type": "stream",
     "text": [
      "\r",
      "Upgrading database; v8 -> v9:   0%|          | 0/1 [00:00<?, ?it/s]"
     ]
    },
    {
     "name": "stdout",
     "output_type": "stream",
     "text": [
      "\r",
      "Upgrading database; v8 -> v9: 100%|██████████| 1/1 [00:00<00:00, 518.14it/s]"
     ]
    },
    {
     "name": "stdout",
     "output_type": "stream",
     "text": [
      "\n"
     ]
    }
   ],
   "source": [
    "initialise_database()\n",
    "exp = load_or_create_experiment(experiment_name='tutorial_exp', sample_name=\"no sample\")"
   ]
  },
  {
   "cell_type": "markdown",
   "metadata": {},
   "source": [
    "Here, we define a simple function to benchmark the time it takes to insert n points with either numeric or array data type.\n",
    "We will compare both the time used to call ``add_result`` and the time used for the full measurement."
   ]
  },
  {
   "cell_type": "code",
   "execution_count": 4,
   "metadata": {
    "execution": {
     "iopub.execute_input": "2020-10-21T08:00:12.822659Z",
     "iopub.status.busy": "2020-10-21T08:00:12.822121Z",
     "iopub.status.idle": "2020-10-21T08:00:12.825610Z",
     "shell.execute_reply": "2020-10-21T08:00:12.825034Z"
    }
   },
   "outputs": [],
   "source": [
    "def insert_data(paramtype, npoints, nreps=1):\n",
    "\n",
    "    meas = Measurement(exp=exp)\n",
    "\n",
    "    x1 = ManualParameter('x1')\n",
    "    x2 = ManualParameter('x2')\n",
    "    x3 = ManualParameter('x3')\n",
    "    y1 = ManualParameter('y1')\n",
    "    y2 = ManualParameter('y2')\n",
    "\n",
    "    meas.register_parameter(x1, paramtype=paramtype)\n",
    "    meas.register_parameter(x2, paramtype=paramtype)\n",
    "    meas.register_parameter(x3, paramtype=paramtype)\n",
    "    meas.register_parameter(y1, setpoints=[x1, x2, x3],\n",
    "                            paramtype=paramtype)\n",
    "    meas.register_parameter(y2, setpoints=[x1, x2, x3],\n",
    "                            paramtype=paramtype)\n",
    "    start = time.perf_counter()\n",
    "    with meas.run() as datasaver:\n",
    "        start_adding = time.perf_counter()\n",
    "        for i in range(nreps):\n",
    "            datasaver.add_result((x1, np.random.rand(npoints)),\n",
    "                                 (x2, np.random.rand(npoints)),\n",
    "                                 (x3, np.random.rand(npoints)),\n",
    "                                 (y1, np.random.rand(npoints)),\n",
    "                                 (y2, np.random.rand(npoints)))\n",
    "        stop_adding = time.perf_counter()\n",
    "        run_id = datasaver.run_id\n",
    "    stop = time.perf_counter()\n",
    "    tot_time = stop - start\n",
    "    add_time = stop_adding - start_adding\n",
    "    return tot_time, add_time, run_id"
   ]
  },
  {
   "cell_type": "markdown",
   "metadata": {},
   "source": [
    "## Comparison between numeric/array data and binary blob"
   ]
  },
  {
   "cell_type": "markdown",
   "metadata": {},
   "source": [
    "### Case1: Short experiment time"
   ]
  },
  {
   "cell_type": "code",
   "execution_count": 5,
   "metadata": {
    "execution": {
     "iopub.execute_input": "2020-10-21T08:00:12.831364Z",
     "iopub.status.busy": "2020-10-21T08:00:12.830250Z",
     "iopub.status.idle": "2020-10-21T08:00:13.643907Z",
     "shell.execute_reply": "2020-10-21T08:00:13.644528Z"
    }
   },
   "outputs": [
    {
     "name": "stdout",
     "output_type": "stream",
     "text": [
      "Starting experimental run with id: 1. \n",
      "Starting experimental run with id: 2. \n",
      "Starting experimental run with id: 3. \n",
      "Starting experimental run with id: 4. \n",
      "Starting experimental run with id: 5. \n"
     ]
    },
    {
     "name": "stdout",
     "output_type": "stream",
     "text": [
      "Starting experimental run with id: 6. \n"
     ]
    },
    {
     "name": "stdout",
     "output_type": "stream",
     "text": [
      "Starting experimental run with id: 7. \n"
     ]
    },
    {
     "name": "stdout",
     "output_type": "stream",
     "text": [
      "Starting experimental run with id: 8. \n",
      "Starting experimental run with id: 9. \n"
     ]
    },
    {
     "name": "stdout",
     "output_type": "stream",
     "text": [
      "Starting experimental run with id: 10. \n",
      "Starting experimental run with id: 11. \n"
     ]
    },
    {
     "name": "stdout",
     "output_type": "stream",
     "text": [
      "Starting experimental run with id: 12. \n",
      "Starting experimental run with id: 13. \n"
     ]
    },
    {
     "name": "stdout",
     "output_type": "stream",
     "text": [
      "Starting experimental run with id: 14. \n"
     ]
    }
   ],
   "source": [
    "sizes = [1,500,1000,2000,3000,4000,5000]\n",
    "t_numeric = []\n",
    "t_numeric_add = []\n",
    "t_array = []\n",
    "t_array_add = []\n",
    "for size in sizes:\n",
    "    tn, tna, run_id_n =  insert_data('numeric', size)\n",
    "    t_numeric.append(tn)\n",
    "    t_numeric_add.append(tna)\n",
    "\n",
    "    ta, taa, run_id_a =  insert_data('array', size)\n",
    "    t_array.append(ta)\n",
    "    t_array_add.append(taa)"
   ]
  },
  {
   "cell_type": "code",
   "execution_count": 6,
   "metadata": {
    "execution": {
     "iopub.execute_input": "2020-10-21T08:00:13.674654Z",
     "iopub.status.busy": "2020-10-21T08:00:13.661274Z",
     "iopub.status.idle": "2020-10-21T08:00:13.838060Z",
     "shell.execute_reply": "2020-10-21T08:00:13.838819Z"
    }
   },
   "outputs": [
    {
     "data": {
      "image/png": "[encoded data removed]",
      "text/plain": [
       "<Figure size 432x288 with 1 Axes>"
      ]
     },
     "metadata": {
      "needs_background": "light"
     },
     "output_type": "display_data"
    }
   ],
   "source": [
    "fig, ax = plt.subplots(1,1)\n",
    "ax.plot(sizes, t_numeric, 'o-', label='Inserting row-by-row')\n",
    "ax.plot(sizes, t_numeric_add, 'o-', label='Inserting row-by-row: add_result only')\n",
    "ax.plot(sizes, t_array, 'd-', label='Inserting as binary blob')\n",
    "ax.plot(sizes, t_array_add, 'd-', label='Inserting as binary blob: add_result only')\n",
    "ax.legend()\n",
    "ax.set_xlabel('Array length')\n",
    "ax.set_ylabel('Time (s)')\n",
    "fig.tight_layout()"
   ]
  },
  {
   "cell_type": "markdown",
   "metadata": {},
   "source": [
    "As shown in the latter figure, the time to setup and and close the experiment is approximately 0.4 sec. In case of small array sizes, the difference between inserting values of data as arrays and inserting them row-by-row is relatively unimportant. At larger array sizes, i.e. above 10000 points, the cost of writing data as individual datapoints starts to become important.\n"
   ]
  },
  {
   "cell_type": "markdown",
   "metadata": {},
   "source": [
    "### Case2: Long experiment time "
   ]
  },
  {
   "cell_type": "code",
   "execution_count": 7,
   "metadata": {
    "execution": {
     "iopub.execute_input": "2020-10-21T08:00:13.842503Z",
     "iopub.status.busy": "2020-10-21T08:00:13.841420Z",
     "iopub.status.idle": "2020-10-21T08:01:11.520401Z",
     "shell.execute_reply": "2020-10-21T08:01:11.519550Z"
    }
   },
   "outputs": [
    {
     "name": "stdout",
     "output_type": "stream",
     "text": [
      "Starting experimental run with id: 15. \n",
      "Starting experimental run with id: 16. \n",
      "Starting experimental run with id: 17. \n"
     ]
    },
    {
     "name": "stdout",
     "output_type": "stream",
     "text": [
      "Starting experimental run with id: 18. \n",
      "Starting experimental run with id: 19. \n"
     ]
    },
    {
     "name": "stdout",
     "output_type": "stream",
     "text": [
      "Starting experimental run with id: 20. \n"
     ]
    },
    {
     "name": "stdout",
     "output_type": "stream",
     "text": [
      "Starting experimental run with id: 21. \n"
     ]
    },
    {
     "name": "stdout",
     "output_type": "stream",
     "text": [
      "Starting experimental run with id: 22. \n"
     ]
    },
    {
     "name": "stdout",
     "output_type": "stream",
     "text": [
      "Starting experimental run with id: 23. \n"
     ]
    },
    {
     "name": "stdout",
     "output_type": "stream",
     "text": [
      "Starting experimental run with id: 24. \n"
     ]
    },
    {
     "name": "stdout",
     "output_type": "stream",
     "text": [
      "Starting experimental run with id: 25. \n"
     ]
    },
    {
     "name": "stdout",
     "output_type": "stream",
     "text": [
      "Starting experimental run with id: 26. \n"
     ]
    },
    {
     "name": "stdout",
     "output_type": "stream",
     "text": [
      "Starting experimental run with id: 27. \n"
     ]
    },
    {
     "name": "stdout",
     "output_type": "stream",
     "text": [
      "Starting experimental run with id: 28. \n"
     ]
    }
   ],
   "source": [
    "sizes = [1,500,1000,2000,3000,4000,5000]\n",
    "nreps = 100\n",
    "t_numeric = []\n",
    "t_numeric_add = []\n",
    "t_numeric_run_ids = []\n",
    "t_array = []\n",
    "t_array_add = []\n",
    "t_array_run_ids = []\n",
    "for size in sizes:\n",
    "    tn, tna, run_id_n =  insert_data('numeric', size, nreps=nreps)\n",
    "    t_numeric.append(tn)\n",
    "    t_numeric_add.append(tna)\n",
    "    t_numeric_run_ids.append(run_id_n)\n",
    "\n",
    "    ta, taa, run_id_a =  insert_data('array', size, nreps=nreps)\n",
    "    t_array.append(ta)\n",
    "    t_array_add.append(taa)\n",
    "    t_array_run_ids.append(run_id_a)"
   ]
  },
  {
   "cell_type": "code",
   "execution_count": 8,
   "metadata": {
    "execution": {
     "iopub.execute_input": "2020-10-21T08:01:11.558772Z",
     "iopub.status.busy": "2020-10-21T08:01:11.550784Z",
     "iopub.status.idle": "2020-10-21T08:01:11.720405Z",
     "shell.execute_reply": "2020-10-21T08:01:11.720949Z"
    },
    "scrolled": true
   },
   "outputs": [
    {
     "data": {
      "image/png": "[encoded data removed]",
      "text/plain": [
       "<Figure size 432x288 with 1 Axes>"
      ]
     },
     "metadata": {
      "needs_background": "light"
     },
     "output_type": "display_data"
    }
   ],
   "source": [
    "fig, ax = plt.subplots(1,1)\n",
    "ax.plot(sizes, t_numeric, 'o-', label='Inserting row-by-row')\n",
    "ax.plot(sizes, t_numeric_add, 'o-', label='Inserting row-by-row: add_result only')\n",
    "ax.plot(sizes, t_array, 'd-', label='Inserting as binary blob')\n",
    "ax.plot(sizes, t_array_add, 'd-', label='Inserting as binary blob: add_result only')\n",
    "ax.legend()\n",
    "ax.set_xlabel('Array length')\n",
    "ax.set_ylabel('Time (s)')\n",
    "fig.tight_layout()"
   ]
  },
  {
   "cell_type": "markdown",
   "metadata": {},
   "source": [
    "However, as we increase the length of the experiment, as seen here by repeating the insertion 100 times, we see a big difference between inserting values of the data row-by-row and inserting it as a binary blob."
   ]
  },
  {
   "cell_type": "markdown",
   "metadata": {},
   "source": [
    "## Loading the data "
   ]
  },
  {
   "cell_type": "code",
   "execution_count": 9,
   "metadata": {
    "execution": {
     "iopub.execute_input": "2020-10-21T08:01:11.724249Z",
     "iopub.status.busy": "2020-10-21T08:01:11.723725Z",
     "iopub.status.idle": "2020-10-21T08:01:11.727152Z",
     "shell.execute_reply": "2020-10-21T08:01:11.726610Z"
    }
   },
   "outputs": [],
   "source": [
    "from qcodes.dataset.data_set import load_by_id\n",
    "from qcodes.dataset.data_export import get_data_by_id"
   ]
  },
  {
   "cell_type": "markdown",
   "metadata": {},
   "source": [
    "As usual you can load the data by using the ``load_by_id`` function but you will notice that the different storage methods\n",
    "are reflected in shape of the data as it is retrieved. "
   ]
  },
  {
   "cell_type": "code",
   "execution_count": 10,
   "metadata": {
    "execution": {
     "iopub.execute_input": "2020-10-21T08:01:11.730649Z",
     "iopub.status.busy": "2020-10-21T08:01:11.730120Z",
     "iopub.status.idle": "2020-10-21T08:01:11.732619Z",
     "shell.execute_reply": "2020-10-21T08:01:11.732177Z"
    }
   },
   "outputs": [],
   "source": [
    "run_id_n = t_numeric_run_ids[0]\n",
    "run_id_a = t_array_run_ids[0]"
   ]
  },
  {
   "cell_type": "code",
   "execution_count": 11,
   "metadata": {
    "execution": {
     "iopub.execute_input": "2020-10-21T08:01:11.735672Z",
     "iopub.status.busy": "2020-10-21T08:01:11.735175Z",
     "iopub.status.idle": "2020-10-21T08:01:11.744189Z",
     "shell.execute_reply": "2020-10-21T08:01:11.743721Z"
    },
    "scrolled": true
   },
   "outputs": [
    {
     "data": {
      "text/plain": [
       "{'x1': {'x1': array([0.06745598, 0.06745598, 0.50777475, 0.50777475, 0.66315534,\n",
       "         0.66315534, 0.04806689, 0.04806689, 0.51100156, 0.51100156,\n",
       "         0.71408317, 0.71408317, 0.20274527, 0.20274527, 0.12580485,\n",
       "         0.12580485, 0.69061095, 0.69061095, 0.87804471, 0.87804471,\n",
       "         0.75327338, 0.75327338, 0.93136006, 0.93136006, 0.5363621 ,\n",
       "         0.5363621 , 0.56357048, 0.56357048, 0.80737696, 0.80737696,\n",
       "         0.1522153 , 0.1522153 , 0.82519795, 0.82519795, 0.94520961,\n",
       "         0.94520961, 0.21043695, 0.21043695, 0.27882935, 0.27882935,\n",
       "         0.34345531, 0.34345531, 0.62356934, 0.62356934, 0.19928287,\n",
       "         0.19928287, 0.32597454, 0.32597454, 0.1458336 , 0.1458336 ,\n",
       "         0.21759047, 0.21759047, 0.1403553 , 0.1403553 , 0.40356906,\n",
       "         0.40356906, 0.98491917, 0.98491917, 0.16430042, 0.16430042,\n",
       "         0.27667527, 0.27667527, 0.81577247, 0.81577247, 0.22997478,\n",
       "         0.22997478, 0.20289094, 0.20289094, 0.82680644, 0.82680644,\n",
       "         0.78736285, 0.78736285, 0.69406873, 0.69406873, 0.09476885,\n",
       "         0.09476885, 0.42131974, 0.42131974, 0.94953698, 0.94953698,\n",
       "         0.43612774, 0.43612774, 0.98749709, 0.98749709, 0.55134376,\n",
       "         0.55134376, 0.61013002, 0.61013002, 0.59554675, 0.59554675,\n",
       "         0.3345552 , 0.3345552 , 0.05469006, 0.05469006, 0.13802903,\n",
       "         0.13802903, 0.5853425 , 0.5853425 , 0.0815573 , 0.0815573 ,\n",
       "         0.81710935, 0.81710935, 0.35376959, 0.35376959, 0.23459803,\n",
       "         0.23459803, 0.04988929, 0.04988929, 0.50441218, 0.50441218,\n",
       "         0.53601659, 0.53601659, 0.37379001, 0.37379001, 0.74574113,\n",
       "         0.74574113, 0.70237505, 0.70237505, 0.75485803, 0.75485803,\n",
       "         0.5744402 , 0.5744402 , 0.96231276, 0.96231276, 0.63797687,\n",
       "         0.63797687, 0.90741624, 0.90741624, 0.22184708, 0.22184708,\n",
       "         0.82953898, 0.82953898, 0.47965841, 0.47965841, 0.41192689,\n",
       "         0.41192689, 0.69716627, 0.69716627, 0.7581837 , 0.7581837 ,\n",
       "         0.86651622, 0.86651622, 0.36202452, 0.36202452, 0.9508544 ,\n",
       "         0.9508544 , 0.52664493, 0.52664493, 0.97652497, 0.97652497,\n",
       "         0.79800711, 0.79800711, 0.2706882 , 0.2706882 , 0.01860552,\n",
       "         0.01860552, 0.1722153 , 0.1722153 , 0.17770015, 0.17770015,\n",
       "         0.0401187 , 0.0401187 , 0.99550311, 0.99550311, 0.7401193 ,\n",
       "         0.7401193 , 0.90713719, 0.90713719, 0.65609575, 0.65609575,\n",
       "         0.47724009, 0.47724009, 0.26384231, 0.26384231, 0.03525984,\n",
       "         0.03525984, 0.82436338, 0.82436338, 0.34255262, 0.34255262,\n",
       "         0.79000997, 0.79000997, 0.12170481, 0.12170481, 0.88943062,\n",
       "         0.88943062, 0.84849973, 0.84849973, 0.28986478, 0.28986478,\n",
       "         0.53146712, 0.53146712, 0.72455704, 0.72455704, 0.03410213,\n",
       "         0.03410213, 0.28169339, 0.28169339, 0.37430902, 0.37430902])}}"
      ]
     },
     "execution_count": 1,
     "metadata": {},
     "output_type": "execute_result"
    }
   ],
   "source": [
    "ds = load_by_id(run_id_n)\n",
    "ds.get_parameter_data('x1')"
   ]
  },
  {
   "cell_type": "markdown",
   "metadata": {},
   "source": [
    "And a dataset stored as binary arrays"
   ]
  },
  {
   "cell_type": "code",
   "execution_count": 12,
   "metadata": {
    "execution": {
     "iopub.execute_input": "2020-10-21T08:01:11.747300Z",
     "iopub.status.busy": "2020-10-21T08:01:11.746800Z",
     "iopub.status.idle": "2020-10-21T08:01:11.799712Z",
     "shell.execute_reply": "2020-10-21T08:01:11.800261Z"
    },
    "scrolled": true
   },
   "outputs": [
    {
     "data": {
      "text/plain": [
       "{'x1': {'x1': array([[0.63776953],\n",
       "         [0.63776953],\n",
       "         [0.40260714],\n",
       "         [0.40260714],\n",
       "         [0.4310095 ],\n",
       "         [0.4310095 ],\n",
       "         [0.93811175],\n",
       "         [0.93811175],\n",
       "         [0.51482577],\n",
       "         [0.51482577],\n",
       "         [0.77002806],\n",
       "         [0.77002806],\n",
       "         [0.48244865],\n",
       "         [0.48244865],\n",
       "         [0.85377514],\n",
       "         [0.85377514],\n",
       "         [0.10759727],\n",
       "         [0.10759727],\n",
       "         [0.3627294 ],\n",
       "         [0.3627294 ],\n",
       "         [0.92040267],\n",
       "         [0.92040267],\n",
       "         [0.12865542],\n",
       "         [0.12865542],\n",
       "         [0.40932293],\n",
       "         [0.40932293],\n",
       "         [0.60649583],\n",
       "         [0.60649583],\n",
       "         [0.07493384],\n",
       "         [0.07493384],\n",
       "         [0.81586153],\n",
       "         [0.81586153],\n",
       "         [0.761165  ],\n",
       "         [0.761165  ],\n",
       "         [0.09463034],\n",
       "         [0.09463034],\n",
       "         [0.89681303],\n",
       "         [0.89681303],\n",
       "         [0.9403144 ],\n",
       "         [0.9403144 ],\n",
       "         [0.79249918],\n",
       "         [0.79249918],\n",
       "         [0.47029364],\n",
       "         [0.47029364],\n",
       "         [0.34372974],\n",
       "         [0.34372974],\n",
       "         [0.36912399],\n",
       "         [0.36912399],\n",
       "         [0.6231669 ],\n",
       "         [0.6231669 ],\n",
       "         [0.31702376],\n",
       "         [0.31702376],\n",
       "         [0.85804413],\n",
       "         [0.85804413],\n",
       "         [0.21358791],\n",
       "         [0.21358791],\n",
       "         [0.0022085 ],\n",
       "         [0.0022085 ],\n",
       "         [0.08860369],\n",
       "         [0.08860369],\n",
       "         [0.47944832],\n",
       "         [0.47944832],\n",
       "         [0.40179719],\n",
       "         [0.40179719],\n",
       "         [0.29545298],\n",
       "         [0.29545298],\n",
       "         [0.2699804 ],\n",
       "         [0.2699804 ],\n",
       "         [0.20906076],\n",
       "         [0.20906076],\n",
       "         [0.01651688],\n",
       "         [0.01651688],\n",
       "         [0.45546454],\n",
       "         [0.45546454],\n",
       "         [0.9865194 ],\n",
       "         [0.9865194 ],\n",
       "         [0.95321373],\n",
       "         [0.95321373],\n",
       "         [0.9192455 ],\n",
       "         [0.9192455 ],\n",
       "         [0.41523956],\n",
       "         [0.41523956],\n",
       "         [0.08516586],\n",
       "         [0.08516586],\n",
       "         [0.57900636],\n",
       "         [0.57900636],\n",
       "         [0.63028762],\n",
       "         [0.63028762],\n",
       "         [0.22052872],\n",
       "         [0.22052872],\n",
       "         [0.8809073 ],\n",
       "         [0.8809073 ],\n",
       "         [0.9533607 ],\n",
       "         [0.9533607 ],\n",
       "         [0.96823942],\n",
       "         [0.96823942],\n",
       "         [0.48793015],\n",
       "         [0.48793015],\n",
       "         [0.90246835],\n",
       "         [0.90246835],\n",
       "         [0.51185658],\n",
       "         [0.51185658],\n",
       "         [0.96018938],\n",
       "         [0.96018938],\n",
       "         [0.66661877],\n",
       "         [0.66661877],\n",
       "         [0.37554474],\n",
       "         [0.37554474],\n",
       "         [0.55456995],\n",
       "         [0.55456995],\n",
       "         [0.36181712],\n",
       "         [0.36181712],\n",
       "         [0.28446702],\n",
       "         [0.28446702],\n",
       "         [0.01477674],\n",
       "         [0.01477674],\n",
       "         [0.58798366],\n",
       "         [0.58798366],\n",
       "         [0.13782677],\n",
       "         [0.13782677],\n",
       "         [0.08340669],\n",
       "         [0.08340669],\n",
       "         [0.04484913],\n",
       "         [0.04484913],\n",
       "         [0.8496747 ],\n",
       "         [0.8496747 ],\n",
       "         [0.8990174 ],\n",
       "         [0.8990174 ],\n",
       "         [0.83701952],\n",
       "         [0.83701952],\n",
       "         [0.492472  ],\n",
       "         [0.492472  ],\n",
       "         [0.43299222],\n",
       "         [0.43299222],\n",
       "         [0.72502214],\n",
       "         [0.72502214],\n",
       "         [0.6927825 ],\n",
       "         [0.6927825 ],\n",
       "         [0.0255614 ],\n",
       "         [0.0255614 ],\n",
       "         [0.777578  ],\n",
       "         [0.777578  ],\n",
       "         [0.10106129],\n",
       "         [0.10106129],\n",
       "         [0.95249318],\n",
       "         [0.95249318],\n",
       "         [0.27627883],\n",
       "         [0.27627883],\n",
       "         [0.6839717 ],\n",
       "         [0.6839717 ],\n",
       "         [0.96868752],\n",
       "         [0.96868752],\n",
       "         [0.8833403 ],\n",
       "         [0.8833403 ],\n",
       "         [0.3514457 ],\n",
       "         [0.3514457 ],\n",
       "         [0.13590995],\n",
       "         [0.13590995],\n",
       "         [0.43170943],\n",
       "         [0.43170943],\n",
       "         [0.55485045],\n",
       "         [0.55485045],\n",
       "         [0.19010484],\n",
       "         [0.19010484],\n",
       "         [0.94464959],\n",
       "         [0.94464959],\n",
       "         [0.13027602],\n",
       "         [0.13027602],\n",
       "         [0.30922525],\n",
       "         [0.30922525],\n",
       "         [0.26141031],\n",
       "         [0.26141031],\n",
       "         [0.55730349],\n",
       "         [0.55730349],\n",
       "         [0.89101077],\n",
       "         [0.89101077],\n",
       "         [0.79908541],\n",
       "         [0.79908541],\n",
       "         [0.76550737],\n",
       "         [0.76550737],\n",
       "         [0.39472812],\n",
       "         [0.39472812],\n",
       "         [0.42125165],\n",
       "         [0.42125165],\n",
       "         [0.85421873],\n",
       "         [0.85421873],\n",
       "         [0.4660417 ],\n",
       "         [0.4660417 ],\n",
       "         [0.36942835],\n",
       "         [0.36942835],\n",
       "         [0.80163638],\n",
       "         [0.80163638],\n",
       "         [0.51113175],\n",
       "         [0.51113175],\n",
       "         [0.77441094],\n",
       "         [0.77441094],\n",
       "         [0.94547148],\n",
       "         [0.94547148],\n",
       "         [0.89462292],\n",
       "         [0.89462292]])}}"
      ]
     },
     "execution_count": 1,
     "metadata": {},
     "output_type": "execute_result"
    }
   ],
   "source": [
    "ds = load_by_id(run_id_a)\n",
    "ds.get_parameter_data('x1')"
   ]
  },
  {
   "cell_type": "code",
   "execution_count": null,
   "metadata": {},
   "outputs": [],
   "source": []
  }
 ],
 "metadata": {
  "kernelspec": {
   "display_name": "Python 3",
   "language": "python",
   "name": "python3"
  },
  "language_info": {
   "codemirror_mode": {
    "name": "ipython",
    "version": 3
   },
   "file_extension": ".py",
   "mimetype": "text/x-python",
   "name": "python",
   "nbconvert_exporter": "python",
   "pygments_lexer": "ipython3",
   "version": "3.7.7"
  },
  "nbsphinx": {
   "timeout": 600
  },
  "toc": {
   "base_numbering": 1,
   "nav_menu": {},
   "number_sections": true,
   "sideBar": true,
   "skip_h1_title": false,
   "title_cell": "Table of Contents",
   "title_sidebar": "Contents",
   "toc_cell": false,
   "toc_position": {},
   "toc_section_display": true,
   "toc_window_display": false
  },
  "varInspector": {
   "cols": {
    "lenName": 16,
    "lenType": 16,
    "lenVar": 40
   },
   "kernels_config": {
    "python": {
     "delete_cmd_postfix": "",
     "delete_cmd_prefix": "del ",
     "library": "var_list.py",
     "varRefreshCmd": "print(var_dic_list())"
    },
    "r": {
     "delete_cmd_postfix": ") ",
     "delete_cmd_prefix": "rm(",
     "library": "var_list.r",
     "varRefreshCmd": "cat(var_dic_list()) "
    }
   },
   "types_to_exclude": [
    "module",
    "function",
    "builtin_function_or_method",
    "instance",
    "_Feature"
   ],
   "window_display": false
  }
 },
 "nbformat": 4,
 "nbformat_minor": 2
}
