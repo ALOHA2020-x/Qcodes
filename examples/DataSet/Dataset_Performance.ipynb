{
 "cells": [
  {
   "cell_type": "markdown",
   "metadata": {},
   "source": [
    "# DataSet Performance\n",
    "\n",
    "This notebook shows the trade-off between inserting data into a database row-by-row and as binary blobs. Inserting the data row-by-row means that we have direct access to all the data and may perform queries directly on the values of the data. On the other hand, as we shall see, this is much slower than inserting the data directly as binary blobs."
   ]
  },
  {
   "cell_type": "markdown",
   "metadata": {},
   "source": [
    "First, we choose a new location for the database to ensure that we don't add a bunch of benchmarking data to the default one."
   ]
  },
  {
   "cell_type": "code",
   "execution_count": 1,
   "metadata": {
    "execution": {
     "iopub.execute_input": "2021-02-10T09:07:23.539128Z",
     "iopub.status.busy": "2021-02-10T09:07:23.538188Z",
     "iopub.status.idle": "2021-02-10T09:07:24.568597Z",
     "shell.execute_reply": "2021-02-10T09:07:24.567891Z"
    }
   },
   "outputs": [
    {
     "name": "stdout",
     "output_type": "stream",
     "text": [
      "Logging hadn't been started.\n",
      "Activating auto-logging. Current session state plus future input saved.\n",
      "Filename       : /home/vsts/.qcodes/logs/command_history.log\n",
      "Mode           : append\n",
      "Output logging : True\n",
      "Raw input log  : False\n",
      "Timestamping   : True\n",
      "State          : active\n"
     ]
    },
    {
     "name": "stdout",
     "output_type": "stream",
     "text": [
      "Qcodes Logfile : /home/vsts/.qcodes/logs/210210-14408-qcodes.log\n"
     ]
    }
   ],
   "source": [
    "import os\n",
    "cwd = os.getcwd()\n",
    "import qcodes as qc\n",
    "qc.config[\"core\"][\"db_location\"] = os.path.join(cwd, 'testing.db')\n"
   ]
  },
  {
   "cell_type": "code",
   "execution_count": 2,
   "metadata": {
    "execution": {
     "iopub.execute_input": "2021-02-10T09:07:24.574234Z",
     "iopub.status.busy": "2021-02-10T09:07:24.573241Z",
     "iopub.status.idle": "2021-02-10T09:07:24.767256Z",
     "shell.execute_reply": "2021-02-10T09:07:24.766652Z"
    }
   },
   "outputs": [],
   "source": [
    "%matplotlib inline\n",
    "import time\n",
    "import matplotlib.pyplot as plt\n",
    "import numpy as np\n",
    "\n",
    "import qcodes as qc\n",
    "from qcodes.instrument.parameter import ManualParameter\n",
    "from qcodes.dataset.experiment_container import (Experiment,\n",
    "                                                 load_last_experiment,\n",
    "                                                 new_experiment)\n",
    "from qcodes.dataset.sqlite.database import initialise_database\n",
    "from qcodes import load_or_create_experiment\n",
    "from qcodes.dataset.measurements import Measurement"
   ]
  },
  {
   "cell_type": "code",
   "execution_count": 3,
   "metadata": {
    "execution": {
     "iopub.execute_input": "2021-02-10T09:07:24.771489Z",
     "iopub.status.busy": "2021-02-10T09:07:24.770299Z",
     "iopub.status.idle": "2021-02-10T09:07:24.882269Z",
     "shell.execute_reply": "2021-02-10T09:07:24.881793Z"
    }
   },
   "outputs": [
    {
     "name": "stdout",
     "output_type": "stream",
     "text": [
      "\r",
      "0it [00:00, ?it/s]"
     ]
    },
    {
     "name": "stdout",
     "output_type": "stream",
     "text": [
      "\r",
      "Upgrading database; v0 -> v1: : 0it [00:00, ?it/s]"
     ]
    },
    {
     "name": "stdout",
     "output_type": "stream",
     "text": [
      "\r",
      "Upgrading database; v0 -> v1: : 0it [00:00, ?it/s]"
     ]
    },
    {
     "name": "stdout",
     "output_type": "stream",
     "text": [
      "\n",
      "\r",
      "  0%|          | 0/1 [00:00<?, ?it/s]"
     ]
    },
    {
     "name": "stdout",
     "output_type": "stream",
     "text": [
      "\r",
      "Upgrading database; v1 -> v2:   0%|          | 0/1 [00:00<?, ?it/s]"
     ]
    },
    {
     "name": "stdout",
     "output_type": "stream",
     "text": [
      "\r",
      "Upgrading database; v1 -> v2: 100%|██████████| 1/1 [00:00<00:00, 462.79it/s]"
     ]
    },
    {
     "name": "stdout",
     "output_type": "stream",
     "text": [
      "\n",
      "\r",
      "0it [00:00, ?it/s]"
     ]
    },
    {
     "name": "stdout",
     "output_type": "stream",
     "text": [
      "\r",
      "Upgrading database; v2 -> v3: : 0it [00:00, ?it/s]"
     ]
    },
    {
     "name": "stdout",
     "output_type": "stream",
     "text": [
      "\r",
      "Upgrading database; v2 -> v3: : 0it [00:00, ?it/s]"
     ]
    },
    {
     "name": "stdout",
     "output_type": "stream",
     "text": [
      "\n",
      "\r",
      "0it [00:00, ?it/s]"
     ]
    },
    {
     "name": "stdout",
     "output_type": "stream",
     "text": [
      "\r",
      "Upgrading database; v3 -> v4: : 0it [00:00, ?it/s]"
     ]
    },
    {
     "name": "stdout",
     "output_type": "stream",
     "text": [
      "\r",
      "Upgrading database; v3 -> v4: : 0it [00:00, ?it/s]"
     ]
    },
    {
     "name": "stdout",
     "output_type": "stream",
     "text": [
      "\n",
      "\r",
      "  0%|          | 0/1 [00:00<?, ?it/s]"
     ]
    },
    {
     "name": "stdout",
     "output_type": "stream",
     "text": [
      "\r",
      "Upgrading database; v4 -> v5:   0%|          | 0/1 [00:00<?, ?it/s]"
     ]
    },
    {
     "name": "stdout",
     "output_type": "stream",
     "text": [
      "\r",
      "Upgrading database; v4 -> v5: 100%|██████████| 1/1 [00:00<00:00, 594.35it/s]"
     ]
    },
    {
     "name": "stdout",
     "output_type": "stream",
     "text": [
      "\n",
      "\r",
      "0it [00:00, ?it/s]"
     ]
    },
    {
     "name": "stdout",
     "output_type": "stream",
     "text": [
      "\r",
      "Upgrading database; v5 -> v6: : 0it [00:00, ?it/s]"
     ]
    },
    {
     "name": "stdout",
     "output_type": "stream",
     "text": [
      "\r",
      "Upgrading database; v5 -> v6: : 0it [00:00, ?it/s]"
     ]
    },
    {
     "name": "stdout",
     "output_type": "stream",
     "text": [
      "\n",
      "\r",
      "  0%|          | 0/1 [00:00<?, ?it/s]"
     ]
    },
    {
     "name": "stdout",
     "output_type": "stream",
     "text": [
      "\r",
      "Upgrading database; v6 -> v7:   0%|          | 0/1 [00:00<?, ?it/s]"
     ]
    },
    {
     "name": "stdout",
     "output_type": "stream",
     "text": [
      "\r",
      "Upgrading database; v6 -> v7: 100%|██████████| 1/1 [00:00<00:00, 458.49it/s]"
     ]
    },
    {
     "name": "stdout",
     "output_type": "stream",
     "text": [
      "\n",
      "\r",
      "  0%|          | 0/1 [00:00<?, ?it/s]"
     ]
    },
    {
     "name": "stdout",
     "output_type": "stream",
     "text": [
      "\r",
      "Upgrading database; v7 -> v8:   0%|          | 0/1 [00:00<?, ?it/s]"
     ]
    },
    {
     "name": "stdout",
     "output_type": "stream",
     "text": [
      "\r",
      "Upgrading database; v7 -> v8: 100%|██████████| 1/1 [00:00<00:00, 894.31it/s]"
     ]
    },
    {
     "name": "stdout",
     "output_type": "stream",
     "text": [
      "\n",
      "\r",
      "  0%|          | 0/1 [00:00<?, ?it/s]"
     ]
    },
    {
     "name": "stdout",
     "output_type": "stream",
     "text": [
      "\r",
      "Upgrading database; v8 -> v9:   0%|          | 0/1 [00:00<?, ?it/s]"
     ]
    },
    {
     "name": "stdout",
     "output_type": "stream",
     "text": [
      "\r",
      "Upgrading database; v8 -> v9: 100%|██████████| 1/1 [00:00<00:00, 464.28it/s]"
     ]
    },
    {
     "name": "stdout",
     "output_type": "stream",
     "text": [
      "\n"
     ]
    }
   ],
   "source": [
    "initialise_database()\n",
    "exp = load_or_create_experiment(experiment_name='tutorial_exp', sample_name=\"no sample\")"
   ]
  },
  {
   "cell_type": "markdown",
   "metadata": {},
   "source": [
    "Here, we define a simple function to benchmark the time it takes to insert n points with either numeric or array data type.\n",
    "We will compare both the time used to call ``add_result`` and the time used for the full measurement."
   ]
  },
  {
   "cell_type": "code",
   "execution_count": 4,
   "metadata": {
    "execution": {
     "iopub.execute_input": "2021-02-10T09:07:24.891054Z",
     "iopub.status.busy": "2021-02-10T09:07:24.890486Z",
     "iopub.status.idle": "2021-02-10T09:07:24.894173Z",
     "shell.execute_reply": "2021-02-10T09:07:24.893709Z"
    }
   },
   "outputs": [],
   "source": [
    "def insert_data(paramtype, npoints, nreps=1):\n",
    "\n",
    "    meas = Measurement(exp=exp)\n",
    "\n",
    "    x1 = ManualParameter('x1')\n",
    "    x2 = ManualParameter('x2')\n",
    "    x3 = ManualParameter('x3')\n",
    "    y1 = ManualParameter('y1')\n",
    "    y2 = ManualParameter('y2')\n",
    "\n",
    "    meas.register_parameter(x1, paramtype=paramtype)\n",
    "    meas.register_parameter(x2, paramtype=paramtype)\n",
    "    meas.register_parameter(x3, paramtype=paramtype)\n",
    "    meas.register_parameter(y1, setpoints=[x1, x2, x3],\n",
    "                            paramtype=paramtype)\n",
    "    meas.register_parameter(y2, setpoints=[x1, x2, x3],\n",
    "                            paramtype=paramtype)\n",
    "    start = time.perf_counter()\n",
    "    with meas.run() as datasaver:\n",
    "        start_adding = time.perf_counter()\n",
    "        for i in range(nreps):\n",
    "            datasaver.add_result((x1, np.random.rand(npoints)),\n",
    "                                 (x2, np.random.rand(npoints)),\n",
    "                                 (x3, np.random.rand(npoints)),\n",
    "                                 (y1, np.random.rand(npoints)),\n",
    "                                 (y2, np.random.rand(npoints)))\n",
    "        stop_adding = time.perf_counter()\n",
    "        run_id = datasaver.run_id\n",
    "    stop = time.perf_counter()\n",
    "    tot_time = stop - start\n",
    "    add_time = stop_adding - start_adding\n",
    "    return tot_time, add_time, run_id"
   ]
  },
  {
   "cell_type": "markdown",
   "metadata": {},
   "source": [
    "## Comparison between numeric/array data and binary blob"
   ]
  },
  {
   "cell_type": "markdown",
   "metadata": {},
   "source": [
    "### Case1: Short experiment time"
   ]
  },
  {
   "cell_type": "code",
   "execution_count": 5,
   "metadata": {
    "execution": {
     "iopub.execute_input": "2021-02-10T09:07:24.900691Z",
     "iopub.status.busy": "2021-02-10T09:07:24.900113Z",
     "iopub.status.idle": "2021-02-10T09:07:25.682825Z",
     "shell.execute_reply": "2021-02-10T09:07:25.682320Z"
    }
   },
   "outputs": [
    {
     "name": "stdout",
     "output_type": "stream",
     "text": [
      "Starting experimental run with id: 1. \n",
      "Starting experimental run with id: 2. \n",
      "Starting experimental run with id: 3. \n",
      "Starting experimental run with id: 4. \n",
      "Starting experimental run with id: 5. \n"
     ]
    },
    {
     "name": "stdout",
     "output_type": "stream",
     "text": [
      "Starting experimental run with id: 6. \n"
     ]
    },
    {
     "name": "stdout",
     "output_type": "stream",
     "text": [
      "Starting experimental run with id: 7. \n"
     ]
    },
    {
     "name": "stdout",
     "output_type": "stream",
     "text": [
      "Starting experimental run with id: 8. \n",
      "Starting experimental run with id: 9. \n"
     ]
    },
    {
     "name": "stdout",
     "output_type": "stream",
     "text": [
      "Starting experimental run with id: 10. \n",
      "Starting experimental run with id: 11. \n"
     ]
    },
    {
     "name": "stdout",
     "output_type": "stream",
     "text": [
      "Starting experimental run with id: 12. \n",
      "Starting experimental run with id: 13. \n"
     ]
    },
    {
     "name": "stdout",
     "output_type": "stream",
     "text": [
      "Starting experimental run with id: 14. \n"
     ]
    }
   ],
   "source": [
    "sizes = [1,500,1000,2000,3000,4000,5000]\n",
    "t_numeric = []\n",
    "t_numeric_add = []\n",
    "t_array = []\n",
    "t_array_add = []\n",
    "for size in sizes:\n",
    "    tn, tna, run_id_n =  insert_data('numeric', size)\n",
    "    t_numeric.append(tn)\n",
    "    t_numeric_add.append(tna)\n",
    "\n",
    "    ta, taa, run_id_a =  insert_data('array', size)\n",
    "    t_array.append(ta)\n",
    "    t_array_add.append(taa)"
   ]
  },
  {
   "cell_type": "code",
   "execution_count": 6,
   "metadata": {
    "execution": {
     "iopub.execute_input": "2021-02-10T09:07:25.712073Z",
     "iopub.status.busy": "2021-02-10T09:07:25.699519Z",
     "iopub.status.idle": "2021-02-10T09:07:25.876114Z",
     "shell.execute_reply": "2021-02-10T09:07:25.876567Z"
    }
   },
   "outputs": [
    {
     "data": {
      "image/png": "[encoded data removed]",
      "text/plain": [
       "<Figure size 432x288 with 1 Axes>"
      ]
     },
     "metadata": {
      "needs_background": "light"
     },
     "output_type": "display_data"
    }
   ],
   "source": [
    "fig, ax = plt.subplots(1,1)\n",
    "ax.plot(sizes, t_numeric, 'o-', label='Inserting row-by-row')\n",
    "ax.plot(sizes, t_numeric_add, 'o-', label='Inserting row-by-row: add_result only')\n",
    "ax.plot(sizes, t_array, 'd-', label='Inserting as binary blob')\n",
    "ax.plot(sizes, t_array_add, 'd-', label='Inserting as binary blob: add_result only')\n",
    "ax.legend()\n",
    "ax.set_xlabel('Array length')\n",
    "ax.set_ylabel('Time (s)')\n",
    "fig.tight_layout()"
   ]
  },
  {
   "cell_type": "markdown",
   "metadata": {},
   "source": [
    "As shown in the latter figure, the time to setup and and close the experiment is approximately 0.4 sec. In case of small array sizes, the difference between inserting values of data as arrays and inserting them row-by-row is relatively unimportant. At larger array sizes, i.e. above 10000 points, the cost of writing data as individual datapoints starts to become important.\n"
   ]
  },
  {
   "cell_type": "markdown",
   "metadata": {},
   "source": [
    "### Case2: Long experiment time "
   ]
  },
  {
   "cell_type": "code",
   "execution_count": 7,
   "metadata": {
    "execution": {
     "iopub.execute_input": "2021-02-10T09:07:25.883041Z",
     "iopub.status.busy": "2021-02-10T09:07:25.882340Z",
     "iopub.status.idle": "2021-02-10T09:08:22.771414Z",
     "shell.execute_reply": "2021-02-10T09:08:22.770755Z"
    }
   },
   "outputs": [
    {
     "name": "stdout",
     "output_type": "stream",
     "text": [
      "Starting experimental run with id: 15. \n",
      "Starting experimental run with id: 16. \n",
      "Starting experimental run with id: 17. \n"
     ]
    },
    {
     "name": "stdout",
     "output_type": "stream",
     "text": [
      "Starting experimental run with id: 18. \n",
      "Starting experimental run with id: 19. \n"
     ]
    },
    {
     "name": "stdout",
     "output_type": "stream",
     "text": [
      "Starting experimental run with id: 20. \n"
     ]
    },
    {
     "name": "stdout",
     "output_type": "stream",
     "text": [
      "Starting experimental run with id: 21. \n"
     ]
    },
    {
     "name": "stdout",
     "output_type": "stream",
     "text": [
      "Starting experimental run with id: 22. \n"
     ]
    },
    {
     "name": "stdout",
     "output_type": "stream",
     "text": [
      "Starting experimental run with id: 23. \n"
     ]
    },
    {
     "name": "stdout",
     "output_type": "stream",
     "text": [
      "Starting experimental run with id: 24. \n"
     ]
    },
    {
     "name": "stdout",
     "output_type": "stream",
     "text": [
      "Starting experimental run with id: 25. \n"
     ]
    },
    {
     "name": "stdout",
     "output_type": "stream",
     "text": [
      "Starting experimental run with id: 26. \n"
     ]
    },
    {
     "name": "stdout",
     "output_type": "stream",
     "text": [
      "Starting experimental run with id: 27. \n"
     ]
    },
    {
     "name": "stdout",
     "output_type": "stream",
     "text": [
      "Starting experimental run with id: 28. \n"
     ]
    }
   ],
   "source": [
    "sizes = [1,500,1000,2000,3000,4000,5000]\n",
    "nreps = 100\n",
    "t_numeric = []\n",
    "t_numeric_add = []\n",
    "t_numeric_run_ids = []\n",
    "t_array = []\n",
    "t_array_add = []\n",
    "t_array_run_ids = []\n",
    "for size in sizes:\n",
    "    tn, tna, run_id_n =  insert_data('numeric', size, nreps=nreps)\n",
    "    t_numeric.append(tn)\n",
    "    t_numeric_add.append(tna)\n",
    "    t_numeric_run_ids.append(run_id_n)\n",
    "\n",
    "    ta, taa, run_id_a =  insert_data('array', size, nreps=nreps)\n",
    "    t_array.append(ta)\n",
    "    t_array_add.append(taa)\n",
    "    t_array_run_ids.append(run_id_a)"
   ]
  },
  {
   "cell_type": "code",
   "execution_count": 8,
   "metadata": {
    "execution": {
     "iopub.execute_input": "2021-02-10T09:08:22.809879Z",
     "iopub.status.busy": "2021-02-10T09:08:22.796591Z",
     "iopub.status.idle": "2021-02-10T09:08:22.967376Z",
     "shell.execute_reply": "2021-02-10T09:08:22.968100Z"
    },
    "scrolled": true
   },
   "outputs": [
    {
     "data": {
      "image/png": "[encoded data removed]",
      "text/plain": [
       "<Figure size 432x288 with 1 Axes>"
      ]
     },
     "metadata": {
      "needs_background": "light"
     },
     "output_type": "display_data"
    }
   ],
   "source": [
    "fig, ax = plt.subplots(1,1)\n",
    "ax.plot(sizes, t_numeric, 'o-', label='Inserting row-by-row')\n",
    "ax.plot(sizes, t_numeric_add, 'o-', label='Inserting row-by-row: add_result only')\n",
    "ax.plot(sizes, t_array, 'd-', label='Inserting as binary blob')\n",
    "ax.plot(sizes, t_array_add, 'd-', label='Inserting as binary blob: add_result only')\n",
    "ax.legend()\n",
    "ax.set_xlabel('Array length')\n",
    "ax.set_ylabel('Time (s)')\n",
    "fig.tight_layout()"
   ]
  },
  {
   "cell_type": "markdown",
   "metadata": {},
   "source": [
    "However, as we increase the length of the experiment, as seen here by repeating the insertion 100 times, we see a big difference between inserting values of the data row-by-row and inserting it as a binary blob."
   ]
  },
  {
   "cell_type": "markdown",
   "metadata": {},
   "source": [
    "## Loading the data "
   ]
  },
  {
   "cell_type": "code",
   "execution_count": 9,
   "metadata": {
    "execution": {
     "iopub.execute_input": "2021-02-10T09:08:22.973007Z",
     "iopub.status.busy": "2021-02-10T09:08:22.970558Z",
     "iopub.status.idle": "2021-02-10T09:08:22.976233Z",
     "shell.execute_reply": "2021-02-10T09:08:22.975745Z"
    }
   },
   "outputs": [],
   "source": [
    "from qcodes.dataset.data_set import load_by_id\n",
    "from qcodes.dataset.data_export import get_data_by_id"
   ]
  },
  {
   "cell_type": "markdown",
   "metadata": {},
   "source": [
    "As usual you can load the data by using the ``load_by_id`` function but you will notice that the different storage methods\n",
    "are reflected in shape of the data as it is retrieved. "
   ]
  },
  {
   "cell_type": "code",
   "execution_count": 10,
   "metadata": {
    "execution": {
     "iopub.execute_input": "2021-02-10T09:08:22.980666Z",
     "iopub.status.busy": "2021-02-10T09:08:22.979483Z",
     "iopub.status.idle": "2021-02-10T09:08:22.981293Z",
     "shell.execute_reply": "2021-02-10T09:08:22.981732Z"
    }
   },
   "outputs": [],
   "source": [
    "run_id_n = t_numeric_run_ids[0]\n",
    "run_id_a = t_array_run_ids[0]"
   ]
  },
  {
   "cell_type": "code",
   "execution_count": 11,
   "metadata": {
    "execution": {
     "iopub.execute_input": "2021-02-10T09:08:22.985160Z",
     "iopub.status.busy": "2021-02-10T09:08:22.984386Z",
     "iopub.status.idle": "2021-02-10T09:08:22.993587Z",
     "shell.execute_reply": "2021-02-10T09:08:22.994001Z"
    },
    "scrolled": true
   },
   "outputs": [
    {
     "data": {
      "text/plain": [
       "{'x1': {'x1': array([0.686881  , 0.686881  , 0.58637078, 0.58637078, 0.09124296,\n",
       "         0.09124296, 0.87988242, 0.87988242, 0.63861785, 0.63861785,\n",
       "         0.57504152, 0.57504152, 0.53039819, 0.53039819, 0.01948115,\n",
       "         0.01948115, 0.06605924, 0.06605924, 0.5055304 , 0.5055304 ,\n",
       "         0.24301305, 0.24301305, 0.25556251, 0.25556251, 0.40860208,\n",
       "         0.40860208, 0.78412182, 0.78412182, 0.79132173, 0.79132173,\n",
       "         0.34930087, 0.34930087, 0.57272919, 0.57272919, 0.48025333,\n",
       "         0.48025333, 0.40907979, 0.40907979, 0.49564462, 0.49564462,\n",
       "         0.98945035, 0.98945035, 0.8769507 , 0.8769507 , 0.18842147,\n",
       "         0.18842147, 0.58352793, 0.58352793, 0.57097687, 0.57097687,\n",
       "         0.34502426, 0.34502426, 0.16059314, 0.16059314, 0.26391401,\n",
       "         0.26391401, 0.36873007, 0.36873007, 0.51044879, 0.51044879,\n",
       "         0.82905932, 0.82905932, 0.29937502, 0.29937502, 0.70048931,\n",
       "         0.70048931, 0.62482451, 0.62482451, 0.49846531, 0.49846531,\n",
       "         0.04107699, 0.04107699, 0.69062553, 0.69062553, 0.17926792,\n",
       "         0.17926792, 0.21406436, 0.21406436, 0.240786  , 0.240786  ,\n",
       "         0.40028931, 0.40028931, 0.90680404, 0.90680404, 0.66367441,\n",
       "         0.66367441, 0.56912486, 0.56912486, 0.87217925, 0.87217925,\n",
       "         0.91603663, 0.91603663, 0.54770848, 0.54770848, 0.20402706,\n",
       "         0.20402706, 0.57021915, 0.57021915, 0.42815443, 0.42815443,\n",
       "         0.69312797, 0.69312797, 0.00594093, 0.00594093, 0.74782669,\n",
       "         0.74782669, 0.86918205, 0.86918205, 0.58682302, 0.58682302,\n",
       "         0.37968315, 0.37968315, 0.30918121, 0.30918121, 0.2094265 ,\n",
       "         0.2094265 , 0.50712991, 0.50712991, 0.78478412, 0.78478412,\n",
       "         0.30940875, 0.30940875, 0.46847164, 0.46847164, 0.98694088,\n",
       "         0.98694088, 0.77318128, 0.77318128, 0.56837818, 0.56837818,\n",
       "         0.28821451, 0.28821451, 0.5575048 , 0.5575048 , 0.9164507 ,\n",
       "         0.9164507 , 0.10146138, 0.10146138, 0.03618413, 0.03618413,\n",
       "         0.7737923 , 0.7737923 , 0.38115858, 0.38115858, 0.72010072,\n",
       "         0.72010072, 0.91558862, 0.91558862, 0.19312902, 0.19312902,\n",
       "         0.98488195, 0.98488195, 0.47035335, 0.47035335, 0.20317678,\n",
       "         0.20317678, 0.72939703, 0.72939703, 0.7092443 , 0.7092443 ,\n",
       "         0.63618028, 0.63618028, 0.45236876, 0.45236876, 0.42767062,\n",
       "         0.42767062, 0.83935299, 0.83935299, 0.08573089, 0.08573089,\n",
       "         0.6803223 , 0.6803223 , 0.8595959 , 0.8595959 , 0.63816288,\n",
       "         0.63816288, 0.53706104, 0.53706104, 0.7684136 , 0.7684136 ,\n",
       "         0.90485758, 0.90485758, 0.97998196, 0.97998196, 0.57073845,\n",
       "         0.57073845, 0.17319728, 0.17319728, 0.6946365 , 0.6946365 ,\n",
       "         0.60991128, 0.60991128, 0.20342633, 0.20342633, 0.85048769,\n",
       "         0.85048769, 0.62435929, 0.62435929, 0.13850754, 0.13850754])}}"
      ]
     },
     "execution_count": 1,
     "metadata": {},
     "output_type": "execute_result"
    }
   ],
   "source": [
    "ds = load_by_id(run_id_n)\n",
    "ds.get_parameter_data('x1')"
   ]
  },
  {
   "cell_type": "markdown",
   "metadata": {},
   "source": [
    "And a dataset stored as binary arrays"
   ]
  },
  {
   "cell_type": "code",
   "execution_count": 12,
   "metadata": {
    "execution": {
     "iopub.execute_input": "2021-02-10T09:08:22.997275Z",
     "iopub.status.busy": "2021-02-10T09:08:22.996744Z",
     "iopub.status.idle": "2021-02-10T09:08:23.052927Z",
     "shell.execute_reply": "2021-02-10T09:08:23.053600Z"
    },
    "scrolled": true
   },
   "outputs": [
    {
     "data": {
      "text/plain": [
       "{'x1': {'x1': array([[0.32092206],\n",
       "         [0.32092206],\n",
       "         [0.45582435],\n",
       "         [0.45582435],\n",
       "         [0.56963219],\n",
       "         [0.56963219],\n",
       "         [0.35177091],\n",
       "         [0.35177091],\n",
       "         [0.91156844],\n",
       "         [0.91156844],\n",
       "         [0.78100431],\n",
       "         [0.78100431],\n",
       "         [0.74767648],\n",
       "         [0.74767648],\n",
       "         [0.89120387],\n",
       "         [0.89120387],\n",
       "         [0.75928136],\n",
       "         [0.75928136],\n",
       "         [0.91502195],\n",
       "         [0.91502195],\n",
       "         [0.3601447 ],\n",
       "         [0.3601447 ],\n",
       "         [0.92515337],\n",
       "         [0.92515337],\n",
       "         [0.43711188],\n",
       "         [0.43711188],\n",
       "         [0.53428548],\n",
       "         [0.53428548],\n",
       "         [0.91736749],\n",
       "         [0.91736749],\n",
       "         [0.36382937],\n",
       "         [0.36382937],\n",
       "         [0.79438784],\n",
       "         [0.79438784],\n",
       "         [0.63655838],\n",
       "         [0.63655838],\n",
       "         [0.32489113],\n",
       "         [0.32489113],\n",
       "         [0.74801767],\n",
       "         [0.74801767],\n",
       "         [0.59468939],\n",
       "         [0.59468939],\n",
       "         [0.09331901],\n",
       "         [0.09331901],\n",
       "         [0.54786644],\n",
       "         [0.54786644],\n",
       "         [0.0154216 ],\n",
       "         [0.0154216 ],\n",
       "         [0.13587784],\n",
       "         [0.13587784],\n",
       "         [0.35934785],\n",
       "         [0.35934785],\n",
       "         [0.93400937],\n",
       "         [0.93400937],\n",
       "         [0.60241597],\n",
       "         [0.60241597],\n",
       "         [0.89247672],\n",
       "         [0.89247672],\n",
       "         [0.19543359],\n",
       "         [0.19543359],\n",
       "         [0.66254492],\n",
       "         [0.66254492],\n",
       "         [0.47858599],\n",
       "         [0.47858599],\n",
       "         [0.80314349],\n",
       "         [0.80314349],\n",
       "         [0.94247111],\n",
       "         [0.94247111],\n",
       "         [0.11340812],\n",
       "         [0.11340812],\n",
       "         [0.51116008],\n",
       "         [0.51116008],\n",
       "         [0.09759439],\n",
       "         [0.09759439],\n",
       "         [0.97071616],\n",
       "         [0.97071616],\n",
       "         [0.67330396],\n",
       "         [0.67330396],\n",
       "         [0.97554142],\n",
       "         [0.97554142],\n",
       "         [0.64191873],\n",
       "         [0.64191873],\n",
       "         [0.41801293],\n",
       "         [0.41801293],\n",
       "         [0.17970297],\n",
       "         [0.17970297],\n",
       "         [0.54320952],\n",
       "         [0.54320952],\n",
       "         [0.8571698 ],\n",
       "         [0.8571698 ],\n",
       "         [0.23305301],\n",
       "         [0.23305301],\n",
       "         [0.31272488],\n",
       "         [0.31272488],\n",
       "         [0.50850709],\n",
       "         [0.50850709],\n",
       "         [0.82331083],\n",
       "         [0.82331083],\n",
       "         [0.8523293 ],\n",
       "         [0.8523293 ],\n",
       "         [0.46289064],\n",
       "         [0.46289064],\n",
       "         [0.08400154],\n",
       "         [0.08400154],\n",
       "         [0.70452099],\n",
       "         [0.70452099],\n",
       "         [0.50053158],\n",
       "         [0.50053158],\n",
       "         [0.23605621],\n",
       "         [0.23605621],\n",
       "         [0.38488109],\n",
       "         [0.38488109],\n",
       "         [0.0918334 ],\n",
       "         [0.0918334 ],\n",
       "         [0.64979203],\n",
       "         [0.64979203],\n",
       "         [0.87773914],\n",
       "         [0.87773914],\n",
       "         [0.73715169],\n",
       "         [0.73715169],\n",
       "         [0.04383146],\n",
       "         [0.04383146],\n",
       "         [0.93226337],\n",
       "         [0.93226337],\n",
       "         [0.31519488],\n",
       "         [0.31519488],\n",
       "         [0.46709205],\n",
       "         [0.46709205],\n",
       "         [0.61286552],\n",
       "         [0.61286552],\n",
       "         [0.96890931],\n",
       "         [0.96890931],\n",
       "         [0.98618974],\n",
       "         [0.98618974],\n",
       "         [0.94366181],\n",
       "         [0.94366181],\n",
       "         [0.64484562],\n",
       "         [0.64484562],\n",
       "         [0.64837049],\n",
       "         [0.64837049],\n",
       "         [0.21475218],\n",
       "         [0.21475218],\n",
       "         [0.63060049],\n",
       "         [0.63060049],\n",
       "         [0.66955369],\n",
       "         [0.66955369],\n",
       "         [0.36815659],\n",
       "         [0.36815659],\n",
       "         [0.02243309],\n",
       "         [0.02243309],\n",
       "         [0.29983932],\n",
       "         [0.29983932],\n",
       "         [0.60184585],\n",
       "         [0.60184585],\n",
       "         [0.40280822],\n",
       "         [0.40280822],\n",
       "         [0.56105996],\n",
       "         [0.56105996],\n",
       "         [0.31313347],\n",
       "         [0.31313347],\n",
       "         [0.68624314],\n",
       "         [0.68624314],\n",
       "         [0.08540365],\n",
       "         [0.08540365],\n",
       "         [0.29947078],\n",
       "         [0.29947078],\n",
       "         [0.73495551],\n",
       "         [0.73495551],\n",
       "         [0.53164587],\n",
       "         [0.53164587],\n",
       "         [0.02269955],\n",
       "         [0.02269955],\n",
       "         [0.85243924],\n",
       "         [0.85243924],\n",
       "         [0.18744562],\n",
       "         [0.18744562],\n",
       "         [0.19073857],\n",
       "         [0.19073857],\n",
       "         [0.97344468],\n",
       "         [0.97344468],\n",
       "         [0.12473784],\n",
       "         [0.12473784],\n",
       "         [0.95695742],\n",
       "         [0.95695742],\n",
       "         [0.19742536],\n",
       "         [0.19742536],\n",
       "         [0.43281817],\n",
       "         [0.43281817],\n",
       "         [0.86519705],\n",
       "         [0.86519705],\n",
       "         [0.22780056],\n",
       "         [0.22780056],\n",
       "         [0.6088374 ],\n",
       "         [0.6088374 ],\n",
       "         [0.9611134 ],\n",
       "         [0.9611134 ],\n",
       "         [0.37367818],\n",
       "         [0.37367818],\n",
       "         [0.93943286],\n",
       "         [0.93943286]])}}"
      ]
     },
     "execution_count": 1,
     "metadata": {},
     "output_type": "execute_result"
    }
   ],
   "source": [
    "ds = load_by_id(run_id_a)\n",
    "ds.get_parameter_data('x1')"
   ]
  },
  {
   "cell_type": "code",
   "execution_count": null,
   "metadata": {},
   "outputs": [],
   "source": []
  }
 ],
 "metadata": {
  "kernelspec": {
   "display_name": "Python 3",
   "language": "python",
   "name": "python3"
  },
  "language_info": {
   "codemirror_mode": {
    "name": "ipython",
    "version": 3
   },
   "file_extension": ".py",
   "mimetype": "text/x-python",
   "name": "python",
   "nbconvert_exporter": "python",
   "pygments_lexer": "ipython3",
   "version": "3.7.9"
  },
  "nbsphinx": {
   "timeout": 600
  },
  "toc": {
   "base_numbering": 1,
   "nav_menu": {},
   "number_sections": true,
   "sideBar": true,
   "skip_h1_title": false,
   "title_cell": "Table of Contents",
   "title_sidebar": "Contents",
   "toc_cell": false,
   "toc_position": {},
   "toc_section_display": true,
   "toc_window_display": false
  },
  "varInspector": {
   "cols": {
    "lenName": 16,
    "lenType": 16,
    "lenVar": 40
   },
   "kernels_config": {
    "python": {
     "delete_cmd_postfix": "",
     "delete_cmd_prefix": "del ",
     "library": "var_list.py",
     "varRefreshCmd": "print(var_dic_list())"
    },
    "r": {
     "delete_cmd_postfix": ") ",
     "delete_cmd_prefix": "rm(",
     "library": "var_list.r",
     "varRefreshCmd": "cat(var_dic_list()) "
    }
   },
   "types_to_exclude": [
    "module",
    "function",
    "builtin_function_or_method",
    "instance",
    "_Feature"
   ],
   "window_display": false
  }
 },
 "nbformat": 4,
 "nbformat_minor": 2
}
