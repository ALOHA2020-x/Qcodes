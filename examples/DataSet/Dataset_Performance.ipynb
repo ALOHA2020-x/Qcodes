{
 "cells": [
  {
   "cell_type": "markdown",
   "metadata": {},
   "source": [
    "# DataSet Performance\n",
    "\n",
    "This notebook shows the trade-off between inserting data into a database row-by-row and as binary blobs. Inserting the data row-by-row means that we have direct access to all the data and may perform queries directly on the values of the data. On the other hand, as we shall see, this is much slower than inserting the data directly as binary blobs."
   ]
  },
  {
   "cell_type": "markdown",
   "metadata": {},
   "source": [
    "First, we choose a new location for the database to ensure that we don't add a bunch of benchmarking data to the default one."
   ]
  },
  {
   "cell_type": "code",
   "execution_count": 1,
   "metadata": {
    "execution": {
     "iopub.execute_input": "2020-10-06T07:36:15.264955Z",
     "iopub.status.busy": "2020-10-06T07:36:15.264452Z",
     "iopub.status.idle": "2020-10-06T07:36:16.396269Z",
     "shell.execute_reply": "2020-10-06T07:36:16.396769Z"
    }
   },
   "outputs": [
    {
     "name": "stdout",
     "output_type": "stream",
     "text": [
      "Logging hadn't been started.\n",
      "Activating auto-logging. Current session state plus future input saved.\n",
      "Filename       : /home/vsts/.qcodes/logs/command_history.log\n",
      "Mode           : append\n",
      "Output logging : True\n",
      "Raw input log  : False\n",
      "Timestamping   : True\n",
      "State          : active\n"
     ]
    },
    {
     "name": "stdout",
     "output_type": "stream",
     "text": [
      "Qcodes Logfile : /home/vsts/.qcodes/logs/201006-19419-qcodes.log\n"
     ]
    }
   ],
   "source": [
    "import os\n",
    "cwd = os.getcwd()\n",
    "import qcodes as qc\n",
    "qc.config[\"core\"][\"db_location\"] = os.path.join(cwd, 'testing.db')\n"
   ]
  },
  {
   "cell_type": "code",
   "execution_count": 2,
   "metadata": {
    "execution": {
     "iopub.execute_input": "2020-10-06T07:36:16.403012Z",
     "iopub.status.busy": "2020-10-06T07:36:16.402299Z",
     "iopub.status.idle": "2020-10-06T07:36:16.610146Z",
     "shell.execute_reply": "2020-10-06T07:36:16.609266Z"
    }
   },
   "outputs": [],
   "source": [
    "%matplotlib inline\n",
    "import time\n",
    "import matplotlib.pyplot as plt\n",
    "import numpy as np\n",
    "\n",
    "import qcodes as qc\n",
    "from qcodes.instrument.parameter import ManualParameter\n",
    "from qcodes.dataset.experiment_container import (Experiment,\n",
    "                                                 load_last_experiment,\n",
    "                                                 new_experiment)\n",
    "from qcodes.dataset.sqlite.database import initialise_database\n",
    "from qcodes import load_or_create_experiment\n",
    "from qcodes.dataset.measurements import Measurement"
   ]
  },
  {
   "cell_type": "code",
   "execution_count": 3,
   "metadata": {
    "execution": {
     "iopub.execute_input": "2020-10-06T07:36:16.613691Z",
     "iopub.status.busy": "2020-10-06T07:36:16.613102Z",
     "iopub.status.idle": "2020-10-06T07:36:16.733560Z",
     "shell.execute_reply": "2020-10-06T07:36:16.733107Z"
    }
   },
   "outputs": [
    {
     "name": "stdout",
     "output_type": "stream",
     "text": [
      "\r",
      "0it [00:00, ?it/s]"
     ]
    },
    {
     "name": "stdout",
     "output_type": "stream",
     "text": [
      "\r",
      "Upgrading database; v0 -> v1: : 0it [00:00, ?it/s]"
     ]
    },
    {
     "name": "stdout",
     "output_type": "stream",
     "text": [
      "\r",
      "Upgrading database; v0 -> v1: : 0it [00:00, ?it/s]"
     ]
    },
    {
     "name": "stdout",
     "output_type": "stream",
     "text": [
      "\n",
      "\r",
      "  0%|          | 0/1 [00:00<?, ?it/s]"
     ]
    },
    {
     "name": "stdout",
     "output_type": "stream",
     "text": [
      "\r",
      "Upgrading database; v1 -> v2:   0%|          | 0/1 [00:00<?, ?it/s]"
     ]
    },
    {
     "name": "stdout",
     "output_type": "stream",
     "text": [
      "\r",
      "Upgrading database; v1 -> v2: 100%|██████████| 1/1 [00:00<00:00, 418.05it/s]"
     ]
    },
    {
     "name": "stdout",
     "output_type": "stream",
     "text": [
      "\n",
      "\r",
      "0it [00:00, ?it/s]"
     ]
    },
    {
     "name": "stdout",
     "output_type": "stream",
     "text": [
      "\r",
      "Upgrading database; v2 -> v3: : 0it [00:00, ?it/s]"
     ]
    },
    {
     "name": "stdout",
     "output_type": "stream",
     "text": [
      "\r",
      "Upgrading database; v2 -> v3: : 0it [00:00, ?it/s]"
     ]
    },
    {
     "name": "stdout",
     "output_type": "stream",
     "text": [
      "\n",
      "\r",
      "0it [00:00, ?it/s]"
     ]
    },
    {
     "name": "stdout",
     "output_type": "stream",
     "text": [
      "\r",
      "Upgrading database; v3 -> v4: : 0it [00:00, ?it/s]"
     ]
    },
    {
     "name": "stdout",
     "output_type": "stream",
     "text": [
      "\r",
      "Upgrading database; v3 -> v4: : 0it [00:00, ?it/s]"
     ]
    },
    {
     "name": "stdout",
     "output_type": "stream",
     "text": [
      "\n",
      "\r",
      "  0%|          | 0/1 [00:00<?, ?it/s]"
     ]
    },
    {
     "name": "stdout",
     "output_type": "stream",
     "text": [
      "\r",
      "Upgrading database; v4 -> v5:   0%|          | 0/1 [00:00<?, ?it/s]"
     ]
    },
    {
     "name": "stdout",
     "output_type": "stream",
     "text": [
      "\r",
      "Upgrading database; v4 -> v5: 100%|██████████| 1/1 [00:00<00:00, 409.52it/s]"
     ]
    },
    {
     "name": "stdout",
     "output_type": "stream",
     "text": [
      "\n",
      "\r",
      "0it [00:00, ?it/s]"
     ]
    },
    {
     "name": "stdout",
     "output_type": "stream",
     "text": [
      "\r",
      "Upgrading database; v5 -> v6: : 0it [00:00, ?it/s]"
     ]
    },
    {
     "name": "stdout",
     "output_type": "stream",
     "text": [
      "\r",
      "Upgrading database; v5 -> v6: : 0it [00:00, ?it/s]"
     ]
    },
    {
     "name": "stdout",
     "output_type": "stream",
     "text": [
      "\n",
      "\r",
      "  0%|          | 0/1 [00:00<?, ?it/s]"
     ]
    },
    {
     "name": "stdout",
     "output_type": "stream",
     "text": [
      "\r",
      "Upgrading database; v6 -> v7:   0%|          | 0/1 [00:00<?, ?it/s]"
     ]
    },
    {
     "name": "stdout",
     "output_type": "stream",
     "text": [
      "\r",
      "Upgrading database; v6 -> v7: 100%|██████████| 1/1 [00:00<00:00, 274.53it/s]"
     ]
    },
    {
     "name": "stdout",
     "output_type": "stream",
     "text": [
      "\n",
      "\r",
      "  0%|          | 0/1 [00:00<?, ?it/s]"
     ]
    },
    {
     "name": "stdout",
     "output_type": "stream",
     "text": [
      "\r",
      "Upgrading database; v7 -> v8:   0%|          | 0/1 [00:00<?, ?it/s]"
     ]
    },
    {
     "name": "stdout",
     "output_type": "stream",
     "text": [
      "\r",
      "Upgrading database; v7 -> v8: 100%|██████████| 1/1 [00:00<00:00, 348.10it/s]"
     ]
    },
    {
     "name": "stdout",
     "output_type": "stream",
     "text": [
      "\n",
      "\r",
      "  0%|          | 0/1 [00:00<?, ?it/s]"
     ]
    },
    {
     "name": "stdout",
     "output_type": "stream",
     "text": [
      "\r",
      "Upgrading database; v8 -> v9:   0%|          | 0/1 [00:00<?, ?it/s]"
     ]
    },
    {
     "name": "stdout",
     "output_type": "stream",
     "text": [
      "\r",
      "Upgrading database; v8 -> v9: 100%|██████████| 1/1 [00:00<00:00, 361.67it/s]"
     ]
    },
    {
     "name": "stdout",
     "output_type": "stream",
     "text": [
      "\n"
     ]
    }
   ],
   "source": [
    "initialise_database()\n",
    "exp = load_or_create_experiment(experiment_name='tutorial_exp', sample_name=\"no sample\")"
   ]
  },
  {
   "cell_type": "markdown",
   "metadata": {},
   "source": [
    "Here, we define a simple function to benchmark the time it takes to insert n points with either numeric or array data type.\n",
    "We will compare both the time used to call ``add_result`` and the time used for the full measurement."
   ]
  },
  {
   "cell_type": "code",
   "execution_count": 4,
   "metadata": {
    "execution": {
     "iopub.execute_input": "2020-10-06T07:36:16.741224Z",
     "iopub.status.busy": "2020-10-06T07:36:16.740680Z",
     "iopub.status.idle": "2020-10-06T07:36:16.743777Z",
     "shell.execute_reply": "2020-10-06T07:36:16.744155Z"
    }
   },
   "outputs": [],
   "source": [
    "def insert_data(paramtype, npoints, nreps=1):\n",
    "\n",
    "    meas = Measurement(exp=exp)\n",
    "\n",
    "    x1 = ManualParameter('x1')\n",
    "    x2 = ManualParameter('x2')\n",
    "    x3 = ManualParameter('x3')\n",
    "    y1 = ManualParameter('y1')\n",
    "    y2 = ManualParameter('y2')\n",
    "\n",
    "    meas.register_parameter(x1, paramtype=paramtype)\n",
    "    meas.register_parameter(x2, paramtype=paramtype)\n",
    "    meas.register_parameter(x3, paramtype=paramtype)\n",
    "    meas.register_parameter(y1, setpoints=[x1, x2, x3],\n",
    "                            paramtype=paramtype)\n",
    "    meas.register_parameter(y2, setpoints=[x1, x2, x3],\n",
    "                            paramtype=paramtype)\n",
    "    start = time.perf_counter()\n",
    "    with meas.run() as datasaver:\n",
    "        start_adding = time.perf_counter()\n",
    "        for i in range(nreps):\n",
    "            datasaver.add_result((x1, np.random.rand(npoints)),\n",
    "                                 (x2, np.random.rand(npoints)),\n",
    "                                 (x3, np.random.rand(npoints)),\n",
    "                                 (y1, np.random.rand(npoints)),\n",
    "                                 (y2, np.random.rand(npoints)))\n",
    "        stop_adding = time.perf_counter()\n",
    "        run_id = datasaver.run_id\n",
    "    stop = time.perf_counter()\n",
    "    tot_time = stop - start\n",
    "    add_time = stop_adding - start_adding\n",
    "    return tot_time, add_time, run_id"
   ]
  },
  {
   "cell_type": "markdown",
   "metadata": {},
   "source": [
    "## Comparison between numeric/array data and binary blob"
   ]
  },
  {
   "cell_type": "markdown",
   "metadata": {},
   "source": [
    "### Case1: Short experiment time"
   ]
  },
  {
   "cell_type": "code",
   "execution_count": 5,
   "metadata": {
    "execution": {
     "iopub.execute_input": "2020-10-06T07:36:16.750616Z",
     "iopub.status.busy": "2020-10-06T07:36:16.750090Z",
     "iopub.status.idle": "2020-10-06T07:36:17.632199Z",
     "shell.execute_reply": "2020-10-06T07:36:17.632623Z"
    }
   },
   "outputs": [
    {
     "name": "stdout",
     "output_type": "stream",
     "text": [
      "Starting experimental run with id: 1. \n",
      "Starting experimental run with id: 2. \n",
      "Starting experimental run with id: 3. \n",
      "Starting experimental run with id: 4. \n"
     ]
    },
    {
     "name": "stdout",
     "output_type": "stream",
     "text": [
      "Starting experimental run with id: 5. \n"
     ]
    },
    {
     "name": "stdout",
     "output_type": "stream",
     "text": [
      "Starting experimental run with id: 6. \n"
     ]
    },
    {
     "name": "stdout",
     "output_type": "stream",
     "text": [
      "Starting experimental run with id: 7. \n"
     ]
    },
    {
     "name": "stdout",
     "output_type": "stream",
     "text": [
      "Starting experimental run with id: 8. \n",
      "Starting experimental run with id: 9. \n"
     ]
    },
    {
     "name": "stdout",
     "output_type": "stream",
     "text": [
      "Starting experimental run with id: 10. \n",
      "Starting experimental run with id: 11. \n"
     ]
    },
    {
     "name": "stdout",
     "output_type": "stream",
     "text": [
      "Starting experimental run with id: 12. \n"
     ]
    },
    {
     "name": "stdout",
     "output_type": "stream",
     "text": [
      "Starting experimental run with id: 13. \n"
     ]
    },
    {
     "name": "stdout",
     "output_type": "stream",
     "text": [
      "Starting experimental run with id: 14. \n"
     ]
    }
   ],
   "source": [
    "sizes = [1,500,1000,2000,3000,4000,5000]\n",
    "t_numeric = []\n",
    "t_numeric_add = []\n",
    "t_array = []\n",
    "t_array_add = []\n",
    "for size in sizes:\n",
    "    tn, tna, run_id_n =  insert_data('numeric', size)\n",
    "    t_numeric.append(tn)\n",
    "    t_numeric_add.append(tna)\n",
    "\n",
    "    ta, taa, run_id_a =  insert_data('array', size)\n",
    "    t_array.append(ta)\n",
    "    t_array_add.append(taa)"
   ]
  },
  {
   "cell_type": "code",
   "execution_count": 6,
   "metadata": {
    "execution": {
     "iopub.execute_input": "2020-10-06T07:36:17.652252Z",
     "iopub.status.busy": "2020-10-06T07:36:17.638433Z",
     "iopub.status.idle": "2020-10-06T07:36:17.876967Z",
     "shell.execute_reply": "2020-10-06T07:36:17.876446Z"
    }
   },
   "outputs": [
    {
     "data": {
      "image/png": "[encoded data removed]",
      "text/plain": [
       "<Figure size 432x288 with 1 Axes>"
      ]
     },
     "metadata": {
      "needs_background": "light"
     },
     "output_type": "display_data"
    }
   ],
   "source": [
    "fig, ax = plt.subplots(1,1)\n",
    "ax.plot(sizes, t_numeric, 'o-', label='Inserting row-by-row')\n",
    "ax.plot(sizes, t_numeric_add, 'o-', label='Inserting row-by-row: add_result only')\n",
    "ax.plot(sizes, t_array, 'd-', label='Inserting as binary blob')\n",
    "ax.plot(sizes, t_array_add, 'd-', label='Inserting as binary blob: add_result only')\n",
    "ax.legend()\n",
    "ax.set_xlabel('Array length')\n",
    "ax.set_ylabel('Time (s)')\n",
    "fig.tight_layout()"
   ]
  },
  {
   "cell_type": "markdown",
   "metadata": {},
   "source": [
    "As shown in the latter figure, the time to setup and and close the experiment is approximately 0.4 sec. In case of small array sizes, the difference between inserting values of data as arrays and inserting them row-by-row is relatively unimportant. At larger array sizes, i.e. above 10000 points, the cost of writing data as individual datapoints starts to become important.\n"
   ]
  },
  {
   "cell_type": "markdown",
   "metadata": {},
   "source": [
    "### Case2: Long experiment time "
   ]
  },
  {
   "cell_type": "code",
   "execution_count": 7,
   "metadata": {
    "execution": {
     "iopub.execute_input": "2020-10-06T07:36:17.884946Z",
     "iopub.status.busy": "2020-10-06T07:36:17.884229Z",
     "iopub.status.idle": "2020-10-06T07:37:18.570072Z",
     "shell.execute_reply": "2020-10-06T07:37:18.569230Z"
    }
   },
   "outputs": [
    {
     "name": "stdout",
     "output_type": "stream",
     "text": [
      "Starting experimental run with id: 15. \n",
      "Starting experimental run with id: 16. \n",
      "Starting experimental run with id: 17. \n"
     ]
    },
    {
     "name": "stdout",
     "output_type": "stream",
     "text": [
      "Starting experimental run with id: 18. \n",
      "Starting experimental run with id: 19. \n"
     ]
    },
    {
     "name": "stdout",
     "output_type": "stream",
     "text": [
      "Starting experimental run with id: 20. \n"
     ]
    },
    {
     "name": "stdout",
     "output_type": "stream",
     "text": [
      "Starting experimental run with id: 21. \n"
     ]
    },
    {
     "name": "stdout",
     "output_type": "stream",
     "text": [
      "Starting experimental run with id: 22. \n"
     ]
    },
    {
     "name": "stdout",
     "output_type": "stream",
     "text": [
      "Starting experimental run with id: 23. \n"
     ]
    },
    {
     "name": "stdout",
     "output_type": "stream",
     "text": [
      "Starting experimental run with id: 24. \n"
     ]
    },
    {
     "name": "stdout",
     "output_type": "stream",
     "text": [
      "Starting experimental run with id: 25. \n"
     ]
    },
    {
     "name": "stdout",
     "output_type": "stream",
     "text": [
      "Starting experimental run with id: 26. \n"
     ]
    },
    {
     "name": "stdout",
     "output_type": "stream",
     "text": [
      "Starting experimental run with id: 27. \n"
     ]
    },
    {
     "name": "stdout",
     "output_type": "stream",
     "text": [
      "Starting experimental run with id: 28. \n"
     ]
    }
   ],
   "source": [
    "sizes = [1,500,1000,2000,3000,4000,5000]\n",
    "nreps = 100\n",
    "t_numeric = []\n",
    "t_numeric_add = []\n",
    "t_numeric_run_ids = []\n",
    "t_array = []\n",
    "t_array_add = []\n",
    "t_array_run_ids = []\n",
    "for size in sizes:\n",
    "    tn, tna, run_id_n =  insert_data('numeric', size, nreps=nreps)\n",
    "    t_numeric.append(tn)\n",
    "    t_numeric_add.append(tna)\n",
    "    t_numeric_run_ids.append(run_id_n)\n",
    "\n",
    "    ta, taa, run_id_a =  insert_data('array', size, nreps=nreps)\n",
    "    t_array.append(ta)\n",
    "    t_array_add.append(taa)\n",
    "    t_array_run_ids.append(run_id_a)"
   ]
  },
  {
   "cell_type": "code",
   "execution_count": 8,
   "metadata": {
    "execution": {
     "iopub.execute_input": "2020-10-06T07:37:18.590293Z",
     "iopub.status.busy": "2020-10-06T07:37:18.588605Z",
     "iopub.status.idle": "2020-10-06T07:37:18.815698Z",
     "shell.execute_reply": "2020-10-06T07:37:18.816205Z"
    },
    "scrolled": true
   },
   "outputs": [
    {
     "data": {
      "image/png": "[encoded data removed]",
      "text/plain": [
       "<Figure size 432x288 with 1 Axes>"
      ]
     },
     "metadata": {
      "needs_background": "light"
     },
     "output_type": "display_data"
    }
   ],
   "source": [
    "fig, ax = plt.subplots(1,1)\n",
    "ax.plot(sizes, t_numeric, 'o-', label='Inserting row-by-row')\n",
    "ax.plot(sizes, t_numeric_add, 'o-', label='Inserting row-by-row: add_result only')\n",
    "ax.plot(sizes, t_array, 'd-', label='Inserting as binary blob')\n",
    "ax.plot(sizes, t_array_add, 'd-', label='Inserting as binary blob: add_result only')\n",
    "ax.legend()\n",
    "ax.set_xlabel('Array length')\n",
    "ax.set_ylabel('Time (s)')\n",
    "fig.tight_layout()"
   ]
  },
  {
   "cell_type": "markdown",
   "metadata": {},
   "source": [
    "However, as we increase the length of the experiment, as seen here by repeating the insertion 100 times, we see a big difference between inserting values of the data row-by-row and inserting it as a binary blob."
   ]
  },
  {
   "cell_type": "markdown",
   "metadata": {},
   "source": [
    "## Loading the data "
   ]
  },
  {
   "cell_type": "code",
   "execution_count": 9,
   "metadata": {
    "execution": {
     "iopub.execute_input": "2020-10-06T07:37:18.821406Z",
     "iopub.status.busy": "2020-10-06T07:37:18.820171Z",
     "iopub.status.idle": "2020-10-06T07:37:18.824887Z",
     "shell.execute_reply": "2020-10-06T07:37:18.824368Z"
    }
   },
   "outputs": [],
   "source": [
    "from qcodes.dataset.data_set import load_by_id\n",
    "from qcodes.dataset.data_export import get_data_by_id"
   ]
  },
  {
   "cell_type": "markdown",
   "metadata": {},
   "source": [
    "As usual you can load the data by using the ``load_by_id`` function but you will notice that the different storage methods\n",
    "are reflected in shape of the data as it is retrieved. "
   ]
  },
  {
   "cell_type": "code",
   "execution_count": 10,
   "metadata": {
    "execution": {
     "iopub.execute_input": "2020-10-06T07:37:18.829195Z",
     "iopub.status.busy": "2020-10-06T07:37:18.828542Z",
     "iopub.status.idle": "2020-10-06T07:37:18.831785Z",
     "shell.execute_reply": "2020-10-06T07:37:18.832340Z"
    }
   },
   "outputs": [],
   "source": [
    "run_id_n = t_numeric_run_ids[0]\n",
    "run_id_a = t_array_run_ids[0]"
   ]
  },
  {
   "cell_type": "code",
   "execution_count": 11,
   "metadata": {
    "execution": {
     "iopub.execute_input": "2020-10-06T07:37:18.836351Z",
     "iopub.status.busy": "2020-10-06T07:37:18.835392Z",
     "iopub.status.idle": "2020-10-06T07:37:18.846836Z",
     "shell.execute_reply": "2020-10-06T07:37:18.846348Z"
    },
    "scrolled": true
   },
   "outputs": [
    {
     "data": {
      "text/plain": [
       "{'x1': {'x1': array([5.93189678e-01, 5.93189678e-01, 3.51990610e-01, 3.51990610e-01,\n",
       "         4.62400360e-01, 4.62400360e-01, 2.59740953e-01, 2.59740953e-01,\n",
       "         1.65739979e-01, 1.65739979e-01, 5.52105774e-01, 5.52105774e-01,\n",
       "         3.72751495e-01, 3.72751495e-01, 2.94831294e-01, 2.94831294e-01,\n",
       "         2.67492425e-01, 2.67492425e-01, 9.23991120e-01, 9.23991120e-01,\n",
       "         7.20634459e-01, 7.20634459e-01, 9.51584281e-02, 9.51584281e-02,\n",
       "         3.84634415e-01, 3.84634415e-01, 7.80646318e-01, 7.80646318e-01,\n",
       "         5.67399281e-01, 5.67399281e-01, 5.64266611e-01, 5.64266611e-01,\n",
       "         6.65747282e-02, 6.65747282e-02, 3.81240623e-01, 3.81240623e-01,\n",
       "         5.21572682e-01, 5.21572682e-01, 2.62088869e-01, 2.62088869e-01,\n",
       "         1.65056358e-02, 1.65056358e-02, 1.14913599e-01, 1.14913599e-01,\n",
       "         6.18816198e-01, 6.18816198e-01, 9.69837164e-03, 9.69837164e-03,\n",
       "         6.73020272e-01, 6.73020272e-01, 3.14873631e-01, 3.14873631e-01,\n",
       "         4.99822212e-01, 4.99822212e-01, 7.68466450e-01, 7.68466450e-01,\n",
       "         2.53884175e-01, 2.53884175e-01, 6.40761727e-02, 6.40761727e-02,\n",
       "         2.90557501e-02, 2.90557501e-02, 4.43039557e-01, 4.43039557e-01,\n",
       "         4.51251800e-01, 4.51251800e-01, 6.93187313e-01, 6.93187313e-01,\n",
       "         7.05536129e-01, 7.05536129e-01, 9.88892429e-01, 9.88892429e-01,\n",
       "         3.41906649e-01, 3.41906649e-01, 8.63538263e-01, 8.63538263e-01,\n",
       "         9.15667777e-01, 9.15667777e-01, 5.49152014e-01, 5.49152014e-01,\n",
       "         5.74981436e-01, 5.74981436e-01, 3.05905665e-02, 3.05905665e-02,\n",
       "         1.98997424e-01, 1.98997424e-01, 4.79830779e-01, 4.79830779e-01,\n",
       "         6.26803079e-01, 6.26803079e-01, 3.75563532e-01, 3.75563532e-01,\n",
       "         1.25394439e-01, 1.25394439e-01, 6.03876373e-01, 6.03876373e-01,\n",
       "         2.99617360e-01, 2.99617360e-01, 3.58405873e-04, 3.58405873e-04,\n",
       "         7.50641224e-01, 7.50641224e-01, 1.68418944e-01, 1.68418944e-01,\n",
       "         5.23255733e-01, 5.23255733e-01, 7.88168699e-01, 7.88168699e-01,\n",
       "         5.07808910e-02, 5.07808910e-02, 7.84950729e-02, 7.84950729e-02,\n",
       "         2.94334922e-01, 2.94334922e-01, 6.35307565e-01, 6.35307565e-01,\n",
       "         7.02335270e-02, 7.02335270e-02, 1.29321016e-01, 1.29321016e-01,\n",
       "         3.62337388e-01, 3.62337388e-01, 4.36668220e-01, 4.36668220e-01,\n",
       "         5.89577950e-01, 5.89577950e-01, 1.35238846e-01, 1.35238846e-01,\n",
       "         1.55876984e-01, 1.55876984e-01, 1.55813226e-01, 1.55813226e-01,\n",
       "         6.98356121e-01, 6.98356121e-01, 5.72543452e-01, 5.72543452e-01,\n",
       "         9.11175505e-01, 9.11175505e-01, 3.95477107e-01, 3.95477107e-01,\n",
       "         4.10353922e-01, 4.10353922e-01, 1.97753546e-01, 1.97753546e-01,\n",
       "         2.50981528e-01, 2.50981528e-01, 3.34391978e-01, 3.34391978e-01,\n",
       "         9.82318506e-01, 9.82318506e-01, 6.80669665e-01, 6.80669665e-01,\n",
       "         8.63007356e-01, 8.63007356e-01, 7.28467472e-01, 7.28467472e-01,\n",
       "         1.72302559e-01, 1.72302559e-01, 3.89675050e-01, 3.89675050e-01,\n",
       "         4.71286778e-01, 4.71286778e-01, 4.27578770e-01, 4.27578770e-01,\n",
       "         8.28850860e-01, 8.28850860e-01, 4.17923931e-01, 4.17923931e-01,\n",
       "         7.34878139e-01, 7.34878139e-01, 4.32726203e-03, 4.32726203e-03,\n",
       "         4.18325394e-01, 4.18325394e-01, 5.05271539e-01, 5.05271539e-01,\n",
       "         9.08146965e-01, 9.08146965e-01, 4.51368691e-01, 4.51368691e-01,\n",
       "         9.06394358e-01, 9.06394358e-01, 4.24694642e-01, 4.24694642e-01,\n",
       "         6.98695406e-01, 6.98695406e-01, 8.71498015e-01, 8.71498015e-01,\n",
       "         9.29705217e-01, 9.29705217e-01, 8.97452680e-01, 8.97452680e-01,\n",
       "         4.94225186e-01, 4.94225186e-01, 9.23128956e-01, 9.23128956e-01,\n",
       "         8.87071950e-01, 8.87071950e-01, 4.62786379e-01, 4.62786379e-01])}}"
      ]
     },
     "execution_count": 1,
     "metadata": {},
     "output_type": "execute_result"
    }
   ],
   "source": [
    "ds = load_by_id(run_id_n)\n",
    "ds.get_parameter_data('x1')"
   ]
  },
  {
   "cell_type": "markdown",
   "metadata": {},
   "source": [
    "And a dataset stored as binary arrays"
   ]
  },
  {
   "cell_type": "code",
   "execution_count": 12,
   "metadata": {
    "execution": {
     "iopub.execute_input": "2020-10-06T07:37:18.850464Z",
     "iopub.status.busy": "2020-10-06T07:37:18.849872Z",
     "iopub.status.idle": "2020-10-06T07:37:18.912913Z",
     "shell.execute_reply": "2020-10-06T07:37:18.913452Z"
    },
    "scrolled": true
   },
   "outputs": [
    {
     "data": {
      "text/plain": [
       "{'x1': {'x1': array([[0.70355963],\n",
       "         [0.70355963],\n",
       "         [0.76687106],\n",
       "         [0.76687106],\n",
       "         [0.12636419],\n",
       "         [0.12636419],\n",
       "         [0.6951024 ],\n",
       "         [0.6951024 ],\n",
       "         [0.17595294],\n",
       "         [0.17595294],\n",
       "         [0.59672583],\n",
       "         [0.59672583],\n",
       "         [0.6545977 ],\n",
       "         [0.6545977 ],\n",
       "         [0.92101045],\n",
       "         [0.92101045],\n",
       "         [0.93597447],\n",
       "         [0.93597447],\n",
       "         [0.53509039],\n",
       "         [0.53509039],\n",
       "         [0.34737307],\n",
       "         [0.34737307],\n",
       "         [0.41363313],\n",
       "         [0.41363313],\n",
       "         [0.93509299],\n",
       "         [0.93509299],\n",
       "         [0.22562231],\n",
       "         [0.22562231],\n",
       "         [0.37262329],\n",
       "         [0.37262329],\n",
       "         [0.55102391],\n",
       "         [0.55102391],\n",
       "         [0.22015395],\n",
       "         [0.22015395],\n",
       "         [0.02388245],\n",
       "         [0.02388245],\n",
       "         [0.42168794],\n",
       "         [0.42168794],\n",
       "         [0.48208319],\n",
       "         [0.48208319],\n",
       "         [0.29767907],\n",
       "         [0.29767907],\n",
       "         [0.1482746 ],\n",
       "         [0.1482746 ],\n",
       "         [0.17399366],\n",
       "         [0.17399366],\n",
       "         [0.36576055],\n",
       "         [0.36576055],\n",
       "         [0.53514801],\n",
       "         [0.53514801],\n",
       "         [0.28019081],\n",
       "         [0.28019081],\n",
       "         [0.66150015],\n",
       "         [0.66150015],\n",
       "         [0.58635982],\n",
       "         [0.58635982],\n",
       "         [0.64020123],\n",
       "         [0.64020123],\n",
       "         [0.70227362],\n",
       "         [0.70227362],\n",
       "         [0.13849918],\n",
       "         [0.13849918],\n",
       "         [0.83642117],\n",
       "         [0.83642117],\n",
       "         [0.60884209],\n",
       "         [0.60884209],\n",
       "         [0.95169118],\n",
       "         [0.95169118],\n",
       "         [0.33019686],\n",
       "         [0.33019686],\n",
       "         [0.06784304],\n",
       "         [0.06784304],\n",
       "         [0.787748  ],\n",
       "         [0.787748  ],\n",
       "         [0.69625971],\n",
       "         [0.69625971],\n",
       "         [0.00581005],\n",
       "         [0.00581005],\n",
       "         [0.97937709],\n",
       "         [0.97937709],\n",
       "         [0.00539772],\n",
       "         [0.00539772],\n",
       "         [0.88919987],\n",
       "         [0.88919987],\n",
       "         [0.13859404],\n",
       "         [0.13859404],\n",
       "         [0.62167883],\n",
       "         [0.62167883],\n",
       "         [0.87301087],\n",
       "         [0.87301087],\n",
       "         [0.80373358],\n",
       "         [0.80373358],\n",
       "         [0.77976401],\n",
       "         [0.77976401],\n",
       "         [0.69673785],\n",
       "         [0.69673785],\n",
       "         [0.5604316 ],\n",
       "         [0.5604316 ],\n",
       "         [0.46396856],\n",
       "         [0.46396856],\n",
       "         [0.58297672],\n",
       "         [0.58297672],\n",
       "         [0.47862909],\n",
       "         [0.47862909],\n",
       "         [0.31745872],\n",
       "         [0.31745872],\n",
       "         [0.49297244],\n",
       "         [0.49297244],\n",
       "         [0.66988508],\n",
       "         [0.66988508],\n",
       "         [0.41393206],\n",
       "         [0.41393206],\n",
       "         [0.80093712],\n",
       "         [0.80093712],\n",
       "         [0.99079086],\n",
       "         [0.99079086],\n",
       "         [0.63190917],\n",
       "         [0.63190917],\n",
       "         [0.67859623],\n",
       "         [0.67859623],\n",
       "         [0.75753849],\n",
       "         [0.75753849],\n",
       "         [0.1234814 ],\n",
       "         [0.1234814 ],\n",
       "         [0.95292188],\n",
       "         [0.95292188],\n",
       "         [0.72080547],\n",
       "         [0.72080547],\n",
       "         [0.25398406],\n",
       "         [0.25398406],\n",
       "         [0.64605929],\n",
       "         [0.64605929],\n",
       "         [0.4706618 ],\n",
       "         [0.4706618 ],\n",
       "         [0.65466025],\n",
       "         [0.65466025],\n",
       "         [0.00564619],\n",
       "         [0.00564619],\n",
       "         [0.20235986],\n",
       "         [0.20235986],\n",
       "         [0.63145877],\n",
       "         [0.63145877],\n",
       "         [0.38032416],\n",
       "         [0.38032416],\n",
       "         [0.40333025],\n",
       "         [0.40333025],\n",
       "         [0.78519282],\n",
       "         [0.78519282],\n",
       "         [0.41905754],\n",
       "         [0.41905754],\n",
       "         [0.56084046],\n",
       "         [0.56084046],\n",
       "         [0.32593393],\n",
       "         [0.32593393],\n",
       "         [0.19625134],\n",
       "         [0.19625134],\n",
       "         [0.59167601],\n",
       "         [0.59167601],\n",
       "         [0.7900582 ],\n",
       "         [0.7900582 ],\n",
       "         [0.33189514],\n",
       "         [0.33189514],\n",
       "         [0.98329547],\n",
       "         [0.98329547],\n",
       "         [0.3153832 ],\n",
       "         [0.3153832 ],\n",
       "         [0.18267528],\n",
       "         [0.18267528],\n",
       "         [0.88085283],\n",
       "         [0.88085283],\n",
       "         [0.65544914],\n",
       "         [0.65544914],\n",
       "         [0.47756073],\n",
       "         [0.47756073],\n",
       "         [0.48701052],\n",
       "         [0.48701052],\n",
       "         [0.09225515],\n",
       "         [0.09225515],\n",
       "         [0.12561498],\n",
       "         [0.12561498],\n",
       "         [0.09701025],\n",
       "         [0.09701025],\n",
       "         [0.38213651],\n",
       "         [0.38213651],\n",
       "         [0.91913243],\n",
       "         [0.91913243],\n",
       "         [0.97679647],\n",
       "         [0.97679647],\n",
       "         [0.70246286],\n",
       "         [0.70246286],\n",
       "         [0.65928978],\n",
       "         [0.65928978],\n",
       "         [0.72326518],\n",
       "         [0.72326518],\n",
       "         [0.90973879],\n",
       "         [0.90973879],\n",
       "         [0.84160219],\n",
       "         [0.84160219],\n",
       "         [0.17454192],\n",
       "         [0.17454192]])}}"
      ]
     },
     "execution_count": 1,
     "metadata": {},
     "output_type": "execute_result"
    }
   ],
   "source": [
    "ds = load_by_id(run_id_a)\n",
    "ds.get_parameter_data('x1')"
   ]
  },
  {
   "cell_type": "code",
   "execution_count": null,
   "metadata": {},
   "outputs": [],
   "source": []
  }
 ],
 "metadata": {
  "kernelspec": {
   "display_name": "Python 3",
   "language": "python",
   "name": "python3"
  },
  "language_info": {
   "codemirror_mode": {
    "name": "ipython",
    "version": 3
   },
   "file_extension": ".py",
   "mimetype": "text/x-python",
   "name": "python",
   "nbconvert_exporter": "python",
   "pygments_lexer": "ipython3",
   "version": "3.7.7"
  },
  "nbsphinx": {
   "timeout": 600
  },
  "toc": {
   "base_numbering": 1,
   "nav_menu": {},
   "number_sections": true,
   "sideBar": true,
   "skip_h1_title": false,
   "title_cell": "Table of Contents",
   "title_sidebar": "Contents",
   "toc_cell": false,
   "toc_position": {},
   "toc_section_display": true,
   "toc_window_display": false
  },
  "varInspector": {
   "cols": {
    "lenName": 16,
    "lenType": 16,
    "lenVar": 40
   },
   "kernels_config": {
    "python": {
     "delete_cmd_postfix": "",
     "delete_cmd_prefix": "del ",
     "library": "var_list.py",
     "varRefreshCmd": "print(var_dic_list())"
    },
    "r": {
     "delete_cmd_postfix": ") ",
     "delete_cmd_prefix": "rm(",
     "library": "var_list.r",
     "varRefreshCmd": "cat(var_dic_list()) "
    }
   },
   "types_to_exclude": [
    "module",
    "function",
    "builtin_function_or_method",
    "instance",
    "_Feature"
   ],
   "window_display": false
  }
 },
 "nbformat": 4,
 "nbformat_minor": 2
}
