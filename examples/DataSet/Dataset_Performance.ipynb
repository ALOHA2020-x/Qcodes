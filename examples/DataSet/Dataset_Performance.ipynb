{
 "cells": [
  {
   "cell_type": "markdown",
   "metadata": {},
   "source": [
    "# DataSet Performance\n",
    "\n",
    "This notebook shows the trade-off between inserting data into a database row-by-row and as binary blobs. Inserting the data row-by-row means that we have direct access to all the data and may perform queries directly on the values of the data. On the other hand, as we shall see, this is much slower than inserting the data directly as binary blobs."
   ]
  },
  {
   "cell_type": "markdown",
   "metadata": {},
   "source": [
    "First, we choose a new location for the database to ensure that we don't add a bunch of benchmarking data to the default one."
   ]
  },
  {
   "cell_type": "code",
   "execution_count": 1,
   "metadata": {},
   "outputs": [
    {
     "name": "stdout",
     "output_type": "stream",
     "text": [
      "Logging hadn't been started.\n",
      "Activating auto-logging. Current session state plus future input saved.\n",
      "Filename       : /home/vsts/.qcodes/logs/command_history.log\n",
      "Mode           : append\n",
      "Output logging : True\n",
      "Raw input log  : False\n",
      "Timestamping   : True\n",
      "State          : active\n"
     ]
    },
    {
     "name": "stdout",
     "output_type": "stream",
     "text": [
      "Qcodes Logfile : /home/vsts/.qcodes/logs/200218-17981-qcodes.log\n"
     ]
    }
   ],
   "source": [
    "import os\n",
    "cwd = os.getcwd()\n",
    "import qcodes as qc\n",
    "qc.config[\"core\"][\"db_location\"] = os.path.join(cwd, 'testing.db')\n"
   ]
  },
  {
   "cell_type": "code",
   "execution_count": 2,
   "metadata": {},
   "outputs": [],
   "source": [
    "%matplotlib inline\n",
    "import time\n",
    "import matplotlib.pyplot as plt\n",
    "import numpy as np\n",
    "\n",
    "import qcodes as qc\n",
    "from qcodes.instrument.parameter import ManualParameter\n",
    "from qcodes.dataset.experiment_container import (Experiment,\n",
    "                                                 load_last_experiment,\n",
    "                                                 new_experiment)\n",
    "from qcodes.dataset.sqlite.database import initialise_database\n",
    "from qcodes import load_or_create_experiment\n",
    "from qcodes.dataset.measurements import Measurement"
   ]
  },
  {
   "cell_type": "code",
   "execution_count": 3,
   "metadata": {},
   "outputs": [
    {
     "name": "stdout",
     "output_type": "stream",
     "text": [
      "\r",
      "0it [00:00, ?it/s]"
     ]
    },
    {
     "name": "stdout",
     "output_type": "stream",
     "text": [
      "\r",
      "Upgrading database; v0 -> v1: : 0it [00:00, ?it/s]"
     ]
    },
    {
     "name": "stdout",
     "output_type": "stream",
     "text": [
      "\r",
      "Upgrading database; v0 -> v1: : 0it [00:00, ?it/s]"
     ]
    },
    {
     "name": "stdout",
     "output_type": "stream",
     "text": [
      "\n",
      "\r",
      "  0%|          | 0/1 [00:00<?, ?it/s]"
     ]
    },
    {
     "name": "stdout",
     "output_type": "stream",
     "text": [
      "\r",
      "Upgrading database; v1 -> v2:   0%|          | 0/1 [00:00<?, ?it/s]"
     ]
    },
    {
     "name": "stdout",
     "output_type": "stream",
     "text": [
      "\r",
      "Upgrading database; v1 -> v2: 100%|██████████| 1/1 [00:00<00:00, 1004.86it/s]"
     ]
    },
    {
     "name": "stdout",
     "output_type": "stream",
     "text": [
      "\n",
      "\r",
      "0it [00:00, ?it/s]"
     ]
    },
    {
     "name": "stdout",
     "output_type": "stream",
     "text": [
      "\r",
      "Upgrading database; v2 -> v3: : 0it [00:00, ?it/s]"
     ]
    },
    {
     "name": "stdout",
     "output_type": "stream",
     "text": [
      "\r",
      "Upgrading database; v2 -> v3: : 0it [00:00, ?it/s]"
     ]
    },
    {
     "name": "stdout",
     "output_type": "stream",
     "text": [
      "\n",
      "\r",
      "0it [00:00, ?it/s]"
     ]
    },
    {
     "name": "stdout",
     "output_type": "stream",
     "text": [
      "\r",
      "Upgrading database; v3 -> v4: : 0it [00:00, ?it/s]"
     ]
    },
    {
     "name": "stdout",
     "output_type": "stream",
     "text": [
      "\r",
      "Upgrading database; v3 -> v4: : 0it [00:00, ?it/s]"
     ]
    },
    {
     "name": "stdout",
     "output_type": "stream",
     "text": [
      "\n",
      "\r",
      "  0%|          | 0/1 [00:00<?, ?it/s]"
     ]
    },
    {
     "name": "stdout",
     "output_type": "stream",
     "text": [
      "\r",
      "Upgrading database; v4 -> v5:   0%|          | 0/1 [00:00<?, ?it/s]"
     ]
    },
    {
     "name": "stdout",
     "output_type": "stream",
     "text": [
      "\r",
      "Upgrading database; v4 -> v5: 100%|██████████| 1/1 [00:00<00:00, 914.79it/s]"
     ]
    },
    {
     "name": "stdout",
     "output_type": "stream",
     "text": [
      "\n",
      "\r",
      "0it [00:00, ?it/s]"
     ]
    },
    {
     "name": "stdout",
     "output_type": "stream",
     "text": [
      "\r",
      "Upgrading database; v5 -> v6: : 0it [00:00, ?it/s]"
     ]
    },
    {
     "name": "stdout",
     "output_type": "stream",
     "text": [
      "\r",
      "Upgrading database; v5 -> v6: : 0it [00:00, ?it/s]"
     ]
    },
    {
     "name": "stdout",
     "output_type": "stream",
     "text": [
      "\n",
      "\r",
      "  0%|          | 0/1 [00:00<?, ?it/s]"
     ]
    },
    {
     "name": "stdout",
     "output_type": "stream",
     "text": [
      "\r",
      "Upgrading database; v6 -> v7:   0%|          | 0/1 [00:00<?, ?it/s]"
     ]
    },
    {
     "name": "stdout",
     "output_type": "stream",
     "text": [
      "\r",
      "Upgrading database; v6 -> v7: 100%|██████████| 1/1 [00:00<00:00, 350.58it/s]"
     ]
    },
    {
     "name": "stdout",
     "output_type": "stream",
     "text": [
      "\n",
      "\r",
      "  0%|          | 0/1 [00:00<?, ?it/s]"
     ]
    },
    {
     "name": "stdout",
     "output_type": "stream",
     "text": [
      "\r",
      "Upgrading database; v7 -> v8:   0%|          | 0/1 [00:00<?, ?it/s]"
     ]
    },
    {
     "name": "stdout",
     "output_type": "stream",
     "text": [
      "\r",
      "Upgrading database; v7 -> v8: 100%|██████████| 1/1 [00:00<00:00, 825.49it/s]"
     ]
    },
    {
     "name": "stdout",
     "output_type": "stream",
     "text": [
      "\n"
     ]
    }
   ],
   "source": [
    "initialise_database()\n",
    "exp = load_or_create_experiment(experiment_name='tutorial_exp', sample_name=\"no sample\")"
   ]
  },
  {
   "cell_type": "markdown",
   "metadata": {},
   "source": [
    "Here, we define a simple function to benchmark the time it takes to insert n points with either numeric or array data type.\n",
    "We will compare both the time used to call ``add_result`` and the time used for the full measurement."
   ]
  },
  {
   "cell_type": "code",
   "execution_count": 4,
   "metadata": {},
   "outputs": [],
   "source": [
    "def insert_data(paramtype, npoints, nreps=1):\n",
    "\n",
    "    meas = Measurement(exp=exp)\n",
    "\n",
    "    x1 = ManualParameter('x1')\n",
    "    x2 = ManualParameter('x2')\n",
    "    x3 = ManualParameter('x3')\n",
    "    y1 = ManualParameter('y1')\n",
    "    y2 = ManualParameter('y2')\n",
    "\n",
    "    meas.register_parameter(x1, paramtype=paramtype)\n",
    "    meas.register_parameter(x2, paramtype=paramtype)\n",
    "    meas.register_parameter(x3, paramtype=paramtype)\n",
    "    meas.register_parameter(y1, setpoints=[x1, x2, x3],\n",
    "                            paramtype=paramtype)\n",
    "    meas.register_parameter(y2, setpoints=[x1, x2, x3],\n",
    "                            paramtype=paramtype)\n",
    "    start = time.perf_counter()\n",
    "    with meas.run() as datasaver:\n",
    "        start_adding = time.perf_counter()\n",
    "        for i in range(nreps):\n",
    "            datasaver.add_result((x1, np.random.rand(npoints)),\n",
    "                                 (x2, np.random.rand(npoints)),\n",
    "                                 (x3, np.random.rand(npoints)),\n",
    "                                 (y1, np.random.rand(npoints)),\n",
    "                                 (y2, np.random.rand(npoints)))\n",
    "        stop_adding = time.perf_counter()\n",
    "        run_id = datasaver.run_id\n",
    "    stop = time.perf_counter()\n",
    "    tot_time = stop - start\n",
    "    add_time = stop_adding - start_adding\n",
    "    return tot_time, add_time, run_id"
   ]
  },
  {
   "cell_type": "markdown",
   "metadata": {},
   "source": [
    "## Comparison between numeric/array data and binary blob"
   ]
  },
  {
   "cell_type": "markdown",
   "metadata": {},
   "source": [
    "### Case1: Short experiment time"
   ]
  },
  {
   "cell_type": "code",
   "execution_count": 5,
   "metadata": {},
   "outputs": [
    {
     "name": "stdout",
     "output_type": "stream",
     "text": [
      "Starting experimental run with id: 1. \n",
      "Starting experimental run with id: 2. \n",
      "Starting experimental run with id: 3. \n",
      "Starting experimental run with id: 4. \n"
     ]
    },
    {
     "name": "stdout",
     "output_type": "stream",
     "text": [
      "Starting experimental run with id: 5. \n"
     ]
    },
    {
     "name": "stdout",
     "output_type": "stream",
     "text": [
      "Starting experimental run with id: 6. \n",
      "Starting experimental run with id: 7. \n"
     ]
    },
    {
     "name": "stdout",
     "output_type": "stream",
     "text": [
      "Starting experimental run with id: 8. \n"
     ]
    },
    {
     "name": "stdout",
     "output_type": "stream",
     "text": [
      "Starting experimental run with id: 9. \n"
     ]
    },
    {
     "name": "stdout",
     "output_type": "stream",
     "text": [
      "Starting experimental run with id: 10. \n",
      "Starting experimental run with id: 11. \n"
     ]
    },
    {
     "name": "stdout",
     "output_type": "stream",
     "text": [
      "Starting experimental run with id: 12. \n",
      "Starting experimental run with id: 13. \n"
     ]
    },
    {
     "name": "stdout",
     "output_type": "stream",
     "text": [
      "Starting experimental run with id: 14. \n"
     ]
    }
   ],
   "source": [
    "sizes = [1,500,1000,2000,3000,4000,5000]\n",
    "t_numeric = []\n",
    "t_numeric_add = []\n",
    "t_array = []\n",
    "t_array_add = []\n",
    "for size in sizes:\n",
    "    tn, tna, run_id_n =  insert_data('numeric', size)\n",
    "    t_numeric.append(tn)\n",
    "    t_numeric_add.append(tna)\n",
    "\n",
    "    ta, taa, run_id_a =  insert_data('array', size)\n",
    "    t_array.append(ta)\n",
    "    t_array_add.append(taa)"
   ]
  },
  {
   "cell_type": "code",
   "execution_count": 6,
   "metadata": {},
   "outputs": [
    {
     "data": {
      "image/png": "[encoded data removed]",
      "text/plain": [
       "<Figure size 432x288 with 1 Axes>"
      ]
     },
     "metadata": {
      "needs_background": "light"
     },
     "output_type": "display_data"
    }
   ],
   "source": [
    "fig, ax = plt.subplots(1,1)\n",
    "ax.plot(sizes, t_numeric, 'o-', label='Inserting row-by-row')\n",
    "ax.plot(sizes, t_numeric_add, 'o-', label='Inserting row-by-row: add_result only')\n",
    "ax.plot(sizes, t_array, 'd-', label='Inserting as binary blob')\n",
    "ax.plot(sizes, t_array_add, 'd-', label='Inserting as binary blob: add_result only')\n",
    "ax.legend()\n",
    "ax.set_xlabel('Array length')\n",
    "ax.set_ylabel('Time (s)')\n",
    "fig.tight_layout()"
   ]
  },
  {
   "cell_type": "markdown",
   "metadata": {},
   "source": [
    "As shown in the latter figure, the time to setup and and close the experiment is approximately 0.4 sec. In case of small array sizes, the difference between inserting values of data as arrays and inserting them row-by-row is relatively unimportant. At larger array sizes, i.e. above 10000 points, the cost of writing data as individual datapoints starts to become important.\n"
   ]
  },
  {
   "cell_type": "markdown",
   "metadata": {},
   "source": [
    "### Case2: Long experiment time "
   ]
  },
  {
   "cell_type": "code",
   "execution_count": 7,
   "metadata": {},
   "outputs": [
    {
     "name": "stdout",
     "output_type": "stream",
     "text": [
      "Starting experimental run with id: 15. \n",
      "Starting experimental run with id: 16. \n",
      "Starting experimental run with id: 17. \n"
     ]
    },
    {
     "name": "stdout",
     "output_type": "stream",
     "text": [
      "Starting experimental run with id: 18. \n",
      "Starting experimental run with id: 19. \n"
     ]
    },
    {
     "name": "stdout",
     "output_type": "stream",
     "text": [
      "Starting experimental run with id: 20. \n"
     ]
    },
    {
     "name": "stdout",
     "output_type": "stream",
     "text": [
      "Starting experimental run with id: 21. \n"
     ]
    },
    {
     "name": "stdout",
     "output_type": "stream",
     "text": [
      "Starting experimental run with id: 22. \n"
     ]
    },
    {
     "name": "stdout",
     "output_type": "stream",
     "text": [
      "Starting experimental run with id: 23. \n"
     ]
    },
    {
     "name": "stdout",
     "output_type": "stream",
     "text": [
      "Starting experimental run with id: 24. \n"
     ]
    },
    {
     "name": "stdout",
     "output_type": "stream",
     "text": [
      "Starting experimental run with id: 25. \n"
     ]
    },
    {
     "name": "stdout",
     "output_type": "stream",
     "text": [
      "Starting experimental run with id: 26. \n"
     ]
    },
    {
     "name": "stdout",
     "output_type": "stream",
     "text": [
      "Starting experimental run with id: 27. \n"
     ]
    },
    {
     "name": "stdout",
     "output_type": "stream",
     "text": [
      "Starting experimental run with id: 28. \n"
     ]
    }
   ],
   "source": [
    "sizes = [1,500,1000,2000,3000,4000,5000]\n",
    "nreps = 100\n",
    "t_numeric = []\n",
    "t_numeric_add = []\n",
    "t_numeric_run_ids = []\n",
    "t_array = []\n",
    "t_array_add = []\n",
    "t_array_run_ids = []\n",
    "for size in sizes:\n",
    "    tn, tna, run_id_n =  insert_data('numeric', size, nreps=nreps)\n",
    "    t_numeric.append(tn)\n",
    "    t_numeric_add.append(tna)\n",
    "    t_numeric_run_ids.append(run_id_n)\n",
    "\n",
    "    ta, taa, run_id_a =  insert_data('array', size, nreps=nreps)\n",
    "    t_array.append(ta)\n",
    "    t_array_add.append(taa)\n",
    "    t_array_run_ids.append(run_id_a)"
   ]
  },
  {
   "cell_type": "code",
   "execution_count": 8,
   "metadata": {
    "scrolled": true
   },
   "outputs": [
    {
     "data": {
      "image/png": "[encoded data removed]",
      "text/plain": [
       "<Figure size 432x288 with 1 Axes>"
      ]
     },
     "metadata": {
      "needs_background": "light"
     },
     "output_type": "display_data"
    }
   ],
   "source": [
    "fig, ax = plt.subplots(1,1)\n",
    "ax.plot(sizes, t_numeric, 'o-', label='Inserting row-by-row')\n",
    "ax.plot(sizes, t_numeric_add, 'o-', label='Inserting row-by-row: add_result only')\n",
    "ax.plot(sizes, t_array, 'd-', label='Inserting as binary blob')\n",
    "ax.plot(sizes, t_array_add, 'd-', label='Inserting as binary blob: add_result only')\n",
    "ax.legend()\n",
    "ax.set_xlabel('Array length')\n",
    "ax.set_ylabel('Time (s)')\n",
    "fig.tight_layout()"
   ]
  },
  {
   "cell_type": "markdown",
   "metadata": {},
   "source": [
    "However, as we increase the length of the experiment, as seen here by repeating the insertion 100 times, we see a big difference between inserting values of the data row-by-row and inserting it as a binary blob."
   ]
  },
  {
   "cell_type": "markdown",
   "metadata": {},
   "source": [
    "## Loading the data "
   ]
  },
  {
   "cell_type": "code",
   "execution_count": 9,
   "metadata": {},
   "outputs": [],
   "source": [
    "from qcodes.dataset.data_set import load_by_id\n",
    "from qcodes.dataset.data_export import get_data_by_id"
   ]
  },
  {
   "cell_type": "markdown",
   "metadata": {},
   "source": [
    "As usual you can load the data by using the ``load_by_id`` function but you will notice that the different storage methods\n",
    "are reflected in shape of the data as it is retrieved. "
   ]
  },
  {
   "cell_type": "code",
   "execution_count": 10,
   "metadata": {},
   "outputs": [],
   "source": [
    "run_id_n = t_numeric_run_ids[0]\n",
    "run_id_a = t_array_run_ids[0]"
   ]
  },
  {
   "cell_type": "code",
   "execution_count": 11,
   "metadata": {
    "scrolled": true
   },
   "outputs": [
    {
     "data": {
      "text/plain": [
       "{'x1': {'x1': array([0.53625484, 0.53625484, 0.07647009, 0.07647009, 0.63015666,\n",
       "         0.63015666, 0.87160061, 0.87160061, 0.51406634, 0.51406634,\n",
       "         0.52811092, 0.52811092, 0.70896737, 0.70896737, 0.68800639,\n",
       "         0.68800639, 0.77282304, 0.77282304, 0.54195709, 0.54195709,\n",
       "         0.75601443, 0.75601443, 0.32585603, 0.32585603, 0.47429349,\n",
       "         0.47429349, 0.08699912, 0.08699912, 0.26552758, 0.26552758,\n",
       "         0.95165292, 0.95165292, 0.32939109, 0.32939109, 0.37440269,\n",
       "         0.37440269, 0.13429666, 0.13429666, 0.22386034, 0.22386034,\n",
       "         0.01488106, 0.01488106, 0.79317643, 0.79317643, 0.66082389,\n",
       "         0.66082389, 0.13310169, 0.13310169, 0.98930165, 0.98930165,\n",
       "         0.65812149, 0.65812149, 0.45051348, 0.45051348, 0.32615613,\n",
       "         0.32615613, 0.5631354 , 0.5631354 , 0.49569089, 0.49569089,\n",
       "         0.66297251, 0.66297251, 0.81511951, 0.81511951, 0.6695392 ,\n",
       "         0.6695392 , 0.64881262, 0.64881262, 0.40098836, 0.40098836,\n",
       "         0.31595437, 0.31595437, 0.19241731, 0.19241731, 0.30860544,\n",
       "         0.30860544, 0.44885466, 0.44885466, 0.02329308, 0.02329308,\n",
       "         0.03736296, 0.03736296, 0.90815766, 0.90815766, 0.2170856 ,\n",
       "         0.2170856 , 0.91883854, 0.91883854, 0.50513795, 0.50513795,\n",
       "         0.07259722, 0.07259722, 0.49127021, 0.49127021, 0.88798783,\n",
       "         0.88798783, 0.79508387, 0.79508387, 0.14813562, 0.14813562,\n",
       "         0.69851494, 0.69851494, 0.22404533, 0.22404533, 0.69453282,\n",
       "         0.69453282, 0.45652485, 0.45652485, 0.67476882, 0.67476882,\n",
       "         0.40861975, 0.40861975, 0.83710139, 0.83710139, 0.59623782,\n",
       "         0.59623782, 0.97416538, 0.97416538, 0.32160004, 0.32160004,\n",
       "         0.53507491, 0.53507491, 0.975302  , 0.975302  , 0.90434942,\n",
       "         0.90434942, 0.01643606, 0.01643606, 0.59531369, 0.59531369,\n",
       "         0.39142704, 0.39142704, 0.68800453, 0.68800453, 0.00288744,\n",
       "         0.00288744, 0.76834264, 0.76834264, 0.23514244, 0.23514244,\n",
       "         0.81319256, 0.81319256, 0.1097271 , 0.1097271 , 0.23799258,\n",
       "         0.23799258, 0.20597163, 0.20597163, 0.72477178, 0.72477178,\n",
       "         0.46864428, 0.46864428, 0.4059742 , 0.4059742 , 0.26565341,\n",
       "         0.26565341, 0.58070748, 0.58070748, 0.84967774, 0.84967774,\n",
       "         0.06165425, 0.06165425, 0.38243297, 0.38243297, 0.08318614,\n",
       "         0.08318614, 0.9425862 , 0.9425862 , 0.38818789, 0.38818789,\n",
       "         0.35156842, 0.35156842, 0.8805325 , 0.8805325 , 0.1372997 ,\n",
       "         0.1372997 , 0.65994414, 0.65994414, 0.4514983 , 0.4514983 ,\n",
       "         0.29439334, 0.29439334, 0.88933879, 0.88933879, 0.73912585,\n",
       "         0.73912585, 0.18361973, 0.18361973, 0.16501671, 0.16501671,\n",
       "         0.77482232, 0.77482232, 0.89037727, 0.89037727, 0.47218866,\n",
       "         0.47218866, 0.51953469, 0.51953469, 0.39536257, 0.39536257])}}"
      ]
     },
     "execution_count": 11,
     "metadata": {},
     "output_type": "execute_result"
    }
   ],
   "source": [
    "ds = load_by_id(run_id_n)\n",
    "ds.get_parameter_data('x1')"
   ]
  },
  {
   "cell_type": "markdown",
   "metadata": {},
   "source": [
    "And a dataset stored as binary arrays"
   ]
  },
  {
   "cell_type": "code",
   "execution_count": 12,
   "metadata": {
    "scrolled": true
   },
   "outputs": [
    {
     "data": {
      "text/plain": [
       "{'x1': {'x1': array([[0.50640285],\n",
       "         [0.50640285],\n",
       "         [0.47296723],\n",
       "         [0.47296723],\n",
       "         [0.41913949],\n",
       "         [0.41913949],\n",
       "         [0.29883392],\n",
       "         [0.29883392],\n",
       "         [0.33004303],\n",
       "         [0.33004303],\n",
       "         [0.94887995],\n",
       "         [0.94887995],\n",
       "         [0.16464081],\n",
       "         [0.16464081],\n",
       "         [0.70992691],\n",
       "         [0.70992691],\n",
       "         [0.74821453],\n",
       "         [0.74821453],\n",
       "         [0.25564187],\n",
       "         [0.25564187],\n",
       "         [0.35829108],\n",
       "         [0.35829108],\n",
       "         [0.36440816],\n",
       "         [0.36440816],\n",
       "         [0.21851642],\n",
       "         [0.21851642],\n",
       "         [0.82437039],\n",
       "         [0.82437039],\n",
       "         [0.69590577],\n",
       "         [0.69590577],\n",
       "         [0.97281761],\n",
       "         [0.97281761],\n",
       "         [0.76504529],\n",
       "         [0.76504529],\n",
       "         [0.58811907],\n",
       "         [0.58811907],\n",
       "         [0.35011341],\n",
       "         [0.35011341],\n",
       "         [0.86420415],\n",
       "         [0.86420415],\n",
       "         [0.67207764],\n",
       "         [0.67207764],\n",
       "         [0.99073028],\n",
       "         [0.99073028],\n",
       "         [0.85962269],\n",
       "         [0.85962269],\n",
       "         [0.97257288],\n",
       "         [0.97257288],\n",
       "         [0.35827423],\n",
       "         [0.35827423],\n",
       "         [0.56109545],\n",
       "         [0.56109545],\n",
       "         [0.49201791],\n",
       "         [0.49201791],\n",
       "         [0.17914329],\n",
       "         [0.17914329],\n",
       "         [0.19919926],\n",
       "         [0.19919926],\n",
       "         [0.75540599],\n",
       "         [0.75540599],\n",
       "         [0.60798862],\n",
       "         [0.60798862],\n",
       "         [0.47061582],\n",
       "         [0.47061582],\n",
       "         [0.78175748],\n",
       "         [0.78175748],\n",
       "         [0.64217358],\n",
       "         [0.64217358],\n",
       "         [0.79877555],\n",
       "         [0.79877555],\n",
       "         [0.11169986],\n",
       "         [0.11169986],\n",
       "         [0.90439159],\n",
       "         [0.90439159],\n",
       "         [0.08878361],\n",
       "         [0.08878361],\n",
       "         [0.75415607],\n",
       "         [0.75415607],\n",
       "         [0.26317511],\n",
       "         [0.26317511],\n",
       "         [0.06114211],\n",
       "         [0.06114211],\n",
       "         [0.50427351],\n",
       "         [0.50427351],\n",
       "         [0.81176554],\n",
       "         [0.81176554],\n",
       "         [0.40066208],\n",
       "         [0.40066208],\n",
       "         [0.79380892],\n",
       "         [0.79380892],\n",
       "         [0.13183659],\n",
       "         [0.13183659],\n",
       "         [0.40177393],\n",
       "         [0.40177393],\n",
       "         [0.44292013],\n",
       "         [0.44292013],\n",
       "         [0.01152614],\n",
       "         [0.01152614],\n",
       "         [0.65867607],\n",
       "         [0.65867607],\n",
       "         [0.33699096],\n",
       "         [0.33699096],\n",
       "         [0.14857609],\n",
       "         [0.14857609],\n",
       "         [0.43641173],\n",
       "         [0.43641173],\n",
       "         [0.92642973],\n",
       "         [0.92642973],\n",
       "         [0.96987381],\n",
       "         [0.96987381],\n",
       "         [0.04461464],\n",
       "         [0.04461464],\n",
       "         [0.72493757],\n",
       "         [0.72493757],\n",
       "         [0.37045706],\n",
       "         [0.37045706],\n",
       "         [0.78139802],\n",
       "         [0.78139802],\n",
       "         [0.34946679],\n",
       "         [0.34946679],\n",
       "         [0.15947164],\n",
       "         [0.15947164],\n",
       "         [0.38871172],\n",
       "         [0.38871172],\n",
       "         [0.53012476],\n",
       "         [0.53012476],\n",
       "         [0.95566459],\n",
       "         [0.95566459],\n",
       "         [0.51755426],\n",
       "         [0.51755426],\n",
       "         [0.38014693],\n",
       "         [0.38014693],\n",
       "         [0.50019602],\n",
       "         [0.50019602],\n",
       "         [0.04085085],\n",
       "         [0.04085085],\n",
       "         [0.05872446],\n",
       "         [0.05872446],\n",
       "         [0.01693953],\n",
       "         [0.01693953],\n",
       "         [0.27449462],\n",
       "         [0.27449462],\n",
       "         [0.59340116],\n",
       "         [0.59340116],\n",
       "         [0.07414289],\n",
       "         [0.07414289],\n",
       "         [0.97109157],\n",
       "         [0.97109157],\n",
       "         [0.53430727],\n",
       "         [0.53430727],\n",
       "         [0.00351715],\n",
       "         [0.00351715],\n",
       "         [0.17101071],\n",
       "         [0.17101071],\n",
       "         [0.3835172 ],\n",
       "         [0.3835172 ],\n",
       "         [0.49658362],\n",
       "         [0.49658362],\n",
       "         [0.08387977],\n",
       "         [0.08387977],\n",
       "         [0.23136509],\n",
       "         [0.23136509],\n",
       "         [0.6790761 ],\n",
       "         [0.6790761 ],\n",
       "         [0.60528457],\n",
       "         [0.60528457],\n",
       "         [0.78148294],\n",
       "         [0.78148294],\n",
       "         [0.02142558],\n",
       "         [0.02142558],\n",
       "         [0.81907117],\n",
       "         [0.81907117],\n",
       "         [0.89396343],\n",
       "         [0.89396343],\n",
       "         [0.70016048],\n",
       "         [0.70016048],\n",
       "         [0.27501245],\n",
       "         [0.27501245],\n",
       "         [0.08314657],\n",
       "         [0.08314657],\n",
       "         [0.2875935 ],\n",
       "         [0.2875935 ],\n",
       "         [0.15957648],\n",
       "         [0.15957648],\n",
       "         [0.90351622],\n",
       "         [0.90351622],\n",
       "         [0.31573293],\n",
       "         [0.31573293],\n",
       "         [0.93908556],\n",
       "         [0.93908556],\n",
       "         [0.09889222],\n",
       "         [0.09889222],\n",
       "         [0.59911613],\n",
       "         [0.59911613],\n",
       "         [0.08515448],\n",
       "         [0.08515448],\n",
       "         [0.60482549],\n",
       "         [0.60482549],\n",
       "         [0.78102799],\n",
       "         [0.78102799]])}}"
      ]
     },
     "execution_count": 12,
     "metadata": {},
     "output_type": "execute_result"
    }
   ],
   "source": [
    "ds = load_by_id(run_id_a)\n",
    "ds.get_parameter_data('x1')"
   ]
  },
  {
   "cell_type": "code",
   "execution_count": null,
   "metadata": {},
   "outputs": [],
   "source": []
  }
 ],
 "metadata": {
  "kernelspec": {
   "display_name": "Python 3",
   "language": "python",
   "name": "python3"
  },
  "language_info": {
   "codemirror_mode": {
    "name": "ipython",
    "version": 3
   },
   "file_extension": ".py",
   "mimetype": "text/x-python",
   "name": "python",
   "nbconvert_exporter": "python",
   "pygments_lexer": "ipython3",
   "version": "3.7.5"
  },
  "nbsphinx": {
   "timeout": 600
  },
  "toc": {
   "base_numbering": 1,
   "nav_menu": {},
   "number_sections": true,
   "sideBar": true,
   "skip_h1_title": false,
   "title_cell": "Table of Contents",
   "title_sidebar": "Contents",
   "toc_cell": false,
   "toc_position": {},
   "toc_section_display": true,
   "toc_window_display": false
  },
  "varInspector": {
   "cols": {
    "lenName": 16,
    "lenType": 16,
    "lenVar": 40
   },
   "kernels_config": {
    "python": {
     "delete_cmd_postfix": "",
     "delete_cmd_prefix": "del ",
     "library": "var_list.py",
     "varRefreshCmd": "print(var_dic_list())"
    },
    "r": {
     "delete_cmd_postfix": ") ",
     "delete_cmd_prefix": "rm(",
     "library": "var_list.r",
     "varRefreshCmd": "cat(var_dic_list()) "
    }
   },
   "types_to_exclude": [
    "module",
    "function",
    "builtin_function_or_method",
    "instance",
    "_Feature"
   ],
   "window_display": false
  }
 },
 "nbformat": 4,
 "nbformat_minor": 2
}
