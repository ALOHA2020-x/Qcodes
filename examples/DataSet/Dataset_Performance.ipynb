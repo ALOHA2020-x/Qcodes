{
 "cells": [
  {
   "cell_type": "markdown",
   "metadata": {},
   "source": [
    "# DataSet Performance\n",
    "\n",
    "This notebook shows the trade-off between inserting data into a database row-by-row and as binary blobs. Inserting the data row-by-row means that we have direct access to all the data and may perform queries directly on the values of the data. On the other hand, as we shall see, this is much slower than inserting the data directly as binary blobs."
   ]
  },
  {
   "cell_type": "markdown",
   "metadata": {},
   "source": [
    "First, we choose a new location for the database to ensure that we don't add a bunch of benchmarking data to the default one."
   ]
  },
  {
   "cell_type": "code",
   "execution_count": 1,
   "metadata": {
    "execution": {
     "iopub.execute_input": "2021-01-12T10:25:16.653090Z",
     "iopub.status.busy": "2021-01-12T10:25:16.652277Z",
     "iopub.status.idle": "2021-01-12T10:25:17.651039Z",
     "shell.execute_reply": "2021-01-12T10:25:17.650388Z"
    }
   },
   "outputs": [
    {
     "name": "stdout",
     "output_type": "stream",
     "text": [
      "Logging hadn't been started.\n",
      "Activating auto-logging. Current session state plus future input saved.\n",
      "Filename       : /home/vsts/.qcodes/logs/command_history.log\n",
      "Mode           : append\n",
      "Output logging : True\n",
      "Raw input log  : False\n",
      "Timestamping   : True\n",
      "State          : active\n"
     ]
    },
    {
     "name": "stdout",
     "output_type": "stream",
     "text": [
      "Qcodes Logfile : /home/vsts/.qcodes/logs/210112-13874-qcodes.log\n"
     ]
    }
   ],
   "source": [
    "import os\n",
    "cwd = os.getcwd()\n",
    "import qcodes as qc\n",
    "qc.config[\"core\"][\"db_location\"] = os.path.join(cwd, 'testing.db')\n"
   ]
  },
  {
   "cell_type": "code",
   "execution_count": 2,
   "metadata": {
    "execution": {
     "iopub.execute_input": "2021-01-12T10:25:17.657237Z",
     "iopub.status.busy": "2021-01-12T10:25:17.656438Z",
     "iopub.status.idle": "2021-01-12T10:25:17.823948Z",
     "shell.execute_reply": "2021-01-12T10:25:17.823120Z"
    }
   },
   "outputs": [],
   "source": [
    "%matplotlib inline\n",
    "import time\n",
    "import matplotlib.pyplot as plt\n",
    "import numpy as np\n",
    "\n",
    "import qcodes as qc\n",
    "from qcodes.instrument.parameter import ManualParameter\n",
    "from qcodes.dataset.experiment_container import (Experiment,\n",
    "                                                 load_last_experiment,\n",
    "                                                 new_experiment)\n",
    "from qcodes.dataset.sqlite.database import initialise_database\n",
    "from qcodes import load_or_create_experiment\n",
    "from qcodes.dataset.measurements import Measurement"
   ]
  },
  {
   "cell_type": "code",
   "execution_count": 3,
   "metadata": {
    "execution": {
     "iopub.execute_input": "2021-01-12T10:25:17.827418Z",
     "iopub.status.busy": "2021-01-12T10:25:17.826980Z",
     "iopub.status.idle": "2021-01-12T10:25:17.944452Z",
     "shell.execute_reply": "2021-01-12T10:25:17.944015Z"
    }
   },
   "outputs": [
    {
     "name": "stdout",
     "output_type": "stream",
     "text": [
      "\r",
      "0it [00:00, ?it/s]"
     ]
    },
    {
     "name": "stdout",
     "output_type": "stream",
     "text": [
      "\r",
      "Upgrading database; v0 -> v1: : 0it [00:00, ?it/s]"
     ]
    },
    {
     "name": "stdout",
     "output_type": "stream",
     "text": [
      "\r",
      "Upgrading database; v0 -> v1: : 0it [00:00, ?it/s]"
     ]
    },
    {
     "name": "stdout",
     "output_type": "stream",
     "text": [
      "\n",
      "\r",
      "  0%|          | 0/1 [00:00<?, ?it/s]"
     ]
    },
    {
     "name": "stdout",
     "output_type": "stream",
     "text": [
      "\r",
      "Upgrading database; v1 -> v2:   0%|          | 0/1 [00:00<?, ?it/s]"
     ]
    },
    {
     "name": "stdout",
     "output_type": "stream",
     "text": [
      "\r",
      "Upgrading database; v1 -> v2: 100%|██████████| 1/1 [00:00<00:00, 852.15it/s]"
     ]
    },
    {
     "name": "stdout",
     "output_type": "stream",
     "text": [
      "\n",
      "\r",
      "0it [00:00, ?it/s]"
     ]
    },
    {
     "name": "stdout",
     "output_type": "stream",
     "text": [
      "\r",
      "Upgrading database; v2 -> v3: : 0it [00:00, ?it/s]"
     ]
    },
    {
     "name": "stdout",
     "output_type": "stream",
     "text": [
      "\r",
      "Upgrading database; v2 -> v3: : 0it [00:00, ?it/s]"
     ]
    },
    {
     "name": "stdout",
     "output_type": "stream",
     "text": [
      "\n",
      "\r",
      "0it [00:00, ?it/s]"
     ]
    },
    {
     "name": "stdout",
     "output_type": "stream",
     "text": [
      "\r",
      "Upgrading database; v3 -> v4: : 0it [00:00, ?it/s]"
     ]
    },
    {
     "name": "stdout",
     "output_type": "stream",
     "text": [
      "\r",
      "Upgrading database; v3 -> v4: : 0it [00:00, ?it/s]"
     ]
    },
    {
     "name": "stdout",
     "output_type": "stream",
     "text": [
      "\n",
      "\r",
      "  0%|          | 0/1 [00:00<?, ?it/s]"
     ]
    },
    {
     "name": "stdout",
     "output_type": "stream",
     "text": [
      "\r",
      "Upgrading database; v4 -> v5:   0%|          | 0/1 [00:00<?, ?it/s]"
     ]
    },
    {
     "name": "stdout",
     "output_type": "stream",
     "text": [
      "\r",
      "Upgrading database; v4 -> v5: 100%|██████████| 1/1 [00:00<00:00, 507.36it/s]"
     ]
    },
    {
     "name": "stdout",
     "output_type": "stream",
     "text": [
      "\n",
      "\r",
      "0it [00:00, ?it/s]"
     ]
    },
    {
     "name": "stdout",
     "output_type": "stream",
     "text": [
      "\r",
      "Upgrading database; v5 -> v6: : 0it [00:00, ?it/s]"
     ]
    },
    {
     "name": "stdout",
     "output_type": "stream",
     "text": [
      "\r",
      "Upgrading database; v5 -> v6: : 0it [00:00, ?it/s]"
     ]
    },
    {
     "name": "stdout",
     "output_type": "stream",
     "text": [
      "\n",
      "\r",
      "  0%|          | 0/1 [00:00<?, ?it/s]"
     ]
    },
    {
     "name": "stdout",
     "output_type": "stream",
     "text": [
      "\r",
      "Upgrading database; v6 -> v7:   0%|          | 0/1 [00:00<?, ?it/s]"
     ]
    },
    {
     "name": "stdout",
     "output_type": "stream",
     "text": [
      "\r",
      "Upgrading database; v6 -> v7: 100%|██████████| 1/1 [00:00<00:00, 184.22it/s]"
     ]
    },
    {
     "name": "stdout",
     "output_type": "stream",
     "text": [
      "\n",
      "\r",
      "  0%|          | 0/1 [00:00<?, ?it/s]"
     ]
    },
    {
     "name": "stdout",
     "output_type": "stream",
     "text": [
      "\r",
      "Upgrading database; v7 -> v8:   0%|          | 0/1 [00:00<?, ?it/s]"
     ]
    },
    {
     "name": "stdout",
     "output_type": "stream",
     "text": [
      "\r",
      "Upgrading database; v7 -> v8: 100%|██████████| 1/1 [00:00<00:00, 571.66it/s]"
     ]
    },
    {
     "name": "stdout",
     "output_type": "stream",
     "text": [
      "\n",
      "\r",
      "  0%|          | 0/1 [00:00<?, ?it/s]"
     ]
    },
    {
     "name": "stdout",
     "output_type": "stream",
     "text": [
      "\r",
      "Upgrading database; v8 -> v9:   0%|          | 0/1 [00:00<?, ?it/s]"
     ]
    },
    {
     "name": "stdout",
     "output_type": "stream",
     "text": [
      "\r",
      "Upgrading database; v8 -> v9: 100%|██████████| 1/1 [00:00<00:00, 1047.53it/s]"
     ]
    },
    {
     "name": "stdout",
     "output_type": "stream",
     "text": [
      "\n"
     ]
    }
   ],
   "source": [
    "initialise_database()\n",
    "exp = load_or_create_experiment(experiment_name='tutorial_exp', sample_name=\"no sample\")"
   ]
  },
  {
   "cell_type": "markdown",
   "metadata": {},
   "source": [
    "Here, we define a simple function to benchmark the time it takes to insert n points with either numeric or array data type.\n",
    "We will compare both the time used to call ``add_result`` and the time used for the full measurement."
   ]
  },
  {
   "cell_type": "code",
   "execution_count": 4,
   "metadata": {
    "execution": {
     "iopub.execute_input": "2021-01-12T10:25:17.952011Z",
     "iopub.status.busy": "2021-01-12T10:25:17.951612Z",
     "iopub.status.idle": "2021-01-12T10:25:17.954667Z",
     "shell.execute_reply": "2021-01-12T10:25:17.954195Z"
    }
   },
   "outputs": [],
   "source": [
    "def insert_data(paramtype, npoints, nreps=1):\n",
    "\n",
    "    meas = Measurement(exp=exp)\n",
    "\n",
    "    x1 = ManualParameter('x1')\n",
    "    x2 = ManualParameter('x2')\n",
    "    x3 = ManualParameter('x3')\n",
    "    y1 = ManualParameter('y1')\n",
    "    y2 = ManualParameter('y2')\n",
    "\n",
    "    meas.register_parameter(x1, paramtype=paramtype)\n",
    "    meas.register_parameter(x2, paramtype=paramtype)\n",
    "    meas.register_parameter(x3, paramtype=paramtype)\n",
    "    meas.register_parameter(y1, setpoints=[x1, x2, x3],\n",
    "                            paramtype=paramtype)\n",
    "    meas.register_parameter(y2, setpoints=[x1, x2, x3],\n",
    "                            paramtype=paramtype)\n",
    "    start = time.perf_counter()\n",
    "    with meas.run() as datasaver:\n",
    "        start_adding = time.perf_counter()\n",
    "        for i in range(nreps):\n",
    "            datasaver.add_result((x1, np.random.rand(npoints)),\n",
    "                                 (x2, np.random.rand(npoints)),\n",
    "                                 (x3, np.random.rand(npoints)),\n",
    "                                 (y1, np.random.rand(npoints)),\n",
    "                                 (y2, np.random.rand(npoints)))\n",
    "        stop_adding = time.perf_counter()\n",
    "        run_id = datasaver.run_id\n",
    "    stop = time.perf_counter()\n",
    "    tot_time = stop - start\n",
    "    add_time = stop_adding - start_adding\n",
    "    return tot_time, add_time, run_id"
   ]
  },
  {
   "cell_type": "markdown",
   "metadata": {},
   "source": [
    "## Comparison between numeric/array data and binary blob"
   ]
  },
  {
   "cell_type": "markdown",
   "metadata": {},
   "source": [
    "### Case1: Short experiment time"
   ]
  },
  {
   "cell_type": "code",
   "execution_count": 5,
   "metadata": {
    "execution": {
     "iopub.execute_input": "2021-01-12T10:25:17.958837Z",
     "iopub.status.busy": "2021-01-12T10:25:17.958415Z",
     "iopub.status.idle": "2021-01-12T10:25:18.855099Z",
     "shell.execute_reply": "2021-01-12T10:25:18.856034Z"
    }
   },
   "outputs": [
    {
     "name": "stdout",
     "output_type": "stream",
     "text": [
      "Starting experimental run with id: 1. \n",
      "Starting experimental run with id: 2. \n",
      "Starting experimental run with id: 3. \n",
      "Starting experimental run with id: 4. \n"
     ]
    },
    {
     "name": "stdout",
     "output_type": "stream",
     "text": [
      "Starting experimental run with id: 5. \n"
     ]
    },
    {
     "name": "stdout",
     "output_type": "stream",
     "text": [
      "Starting experimental run with id: 6. \n",
      "Starting experimental run with id: 7. \n"
     ]
    },
    {
     "name": "stdout",
     "output_type": "stream",
     "text": [
      "Starting experimental run with id: 8. \n"
     ]
    },
    {
     "name": "stdout",
     "output_type": "stream",
     "text": [
      "Starting experimental run with id: 9. \n"
     ]
    },
    {
     "name": "stdout",
     "output_type": "stream",
     "text": [
      "Starting experimental run with id: 10. \n",
      "Starting experimental run with id: 11. \n"
     ]
    },
    {
     "name": "stdout",
     "output_type": "stream",
     "text": [
      "Starting experimental run with id: 12. \n",
      "Starting experimental run with id: 13. \n"
     ]
    },
    {
     "name": "stdout",
     "output_type": "stream",
     "text": [
      "Starting experimental run with id: 14. \n"
     ]
    }
   ],
   "source": [
    "sizes = [1,500,1000,2000,3000,4000,5000]\n",
    "t_numeric = []\n",
    "t_numeric_add = []\n",
    "t_array = []\n",
    "t_array_add = []\n",
    "for size in sizes:\n",
    "    tn, tna, run_id_n =  insert_data('numeric', size)\n",
    "    t_numeric.append(tn)\n",
    "    t_numeric_add.append(tna)\n",
    "\n",
    "    ta, taa, run_id_a =  insert_data('array', size)\n",
    "    t_array.append(ta)\n",
    "    t_array_add.append(taa)"
   ]
  },
  {
   "cell_type": "code",
   "execution_count": 6,
   "metadata": {
    "execution": {
     "iopub.execute_input": "2021-01-12T10:25:18.872746Z",
     "iopub.status.busy": "2021-01-12T10:25:18.872252Z",
     "iopub.status.idle": "2021-01-12T10:25:19.039109Z",
     "shell.execute_reply": "2021-01-12T10:25:19.039609Z"
    }
   },
   "outputs": [
    {
     "data": {
      "image/png": "[encoded data removed]",
      "text/plain": [
       "<Figure size 432x288 with 1 Axes>"
      ]
     },
     "metadata": {
      "needs_background": "light"
     },
     "output_type": "display_data"
    }
   ],
   "source": [
    "fig, ax = plt.subplots(1,1)\n",
    "ax.plot(sizes, t_numeric, 'o-', label='Inserting row-by-row')\n",
    "ax.plot(sizes, t_numeric_add, 'o-', label='Inserting row-by-row: add_result only')\n",
    "ax.plot(sizes, t_array, 'd-', label='Inserting as binary blob')\n",
    "ax.plot(sizes, t_array_add, 'd-', label='Inserting as binary blob: add_result only')\n",
    "ax.legend()\n",
    "ax.set_xlabel('Array length')\n",
    "ax.set_ylabel('Time (s)')\n",
    "fig.tight_layout()"
   ]
  },
  {
   "cell_type": "markdown",
   "metadata": {},
   "source": [
    "As shown in the latter figure, the time to setup and and close the experiment is approximately 0.4 sec. In case of small array sizes, the difference between inserting values of data as arrays and inserting them row-by-row is relatively unimportant. At larger array sizes, i.e. above 10000 points, the cost of writing data as individual datapoints starts to become important.\n"
   ]
  },
  {
   "cell_type": "markdown",
   "metadata": {},
   "source": [
    "### Case2: Long experiment time "
   ]
  },
  {
   "cell_type": "code",
   "execution_count": 7,
   "metadata": {
    "execution": {
     "iopub.execute_input": "2021-01-12T10:25:19.042078Z",
     "iopub.status.busy": "2021-01-12T10:25:19.041590Z",
     "iopub.status.idle": "2021-01-12T10:26:14.703992Z",
     "shell.execute_reply": "2021-01-12T10:26:14.703149Z"
    }
   },
   "outputs": [
    {
     "name": "stdout",
     "output_type": "stream",
     "text": [
      "Starting experimental run with id: 15. \n",
      "Starting experimental run with id: 16. \n",
      "Starting experimental run with id: 17. \n"
     ]
    },
    {
     "name": "stdout",
     "output_type": "stream",
     "text": [
      "Starting experimental run with id: 18. \n",
      "Starting experimental run with id: 19. \n"
     ]
    },
    {
     "name": "stdout",
     "output_type": "stream",
     "text": [
      "Starting experimental run with id: 20. \n"
     ]
    },
    {
     "name": "stdout",
     "output_type": "stream",
     "text": [
      "Starting experimental run with id: 21. \n"
     ]
    },
    {
     "name": "stdout",
     "output_type": "stream",
     "text": [
      "Starting experimental run with id: 22. \n"
     ]
    },
    {
     "name": "stdout",
     "output_type": "stream",
     "text": [
      "Starting experimental run with id: 23. \n"
     ]
    },
    {
     "name": "stdout",
     "output_type": "stream",
     "text": [
      "Starting experimental run with id: 24. \n"
     ]
    },
    {
     "name": "stdout",
     "output_type": "stream",
     "text": [
      "Starting experimental run with id: 25. \n"
     ]
    },
    {
     "name": "stdout",
     "output_type": "stream",
     "text": [
      "Starting experimental run with id: 26. \n"
     ]
    },
    {
     "name": "stdout",
     "output_type": "stream",
     "text": [
      "Starting experimental run with id: 27. \n"
     ]
    },
    {
     "name": "stdout",
     "output_type": "stream",
     "text": [
      "Starting experimental run with id: 28. \n"
     ]
    }
   ],
   "source": [
    "sizes = [1,500,1000,2000,3000,4000,5000]\n",
    "nreps = 100\n",
    "t_numeric = []\n",
    "t_numeric_add = []\n",
    "t_numeric_run_ids = []\n",
    "t_array = []\n",
    "t_array_add = []\n",
    "t_array_run_ids = []\n",
    "for size in sizes:\n",
    "    tn, tna, run_id_n =  insert_data('numeric', size, nreps=nreps)\n",
    "    t_numeric.append(tn)\n",
    "    t_numeric_add.append(tna)\n",
    "    t_numeric_run_ids.append(run_id_n)\n",
    "\n",
    "    ta, taa, run_id_a =  insert_data('array', size, nreps=nreps)\n",
    "    t_array.append(ta)\n",
    "    t_array_add.append(taa)\n",
    "    t_array_run_ids.append(run_id_a)"
   ]
  },
  {
   "cell_type": "code",
   "execution_count": 8,
   "metadata": {
    "execution": {
     "iopub.execute_input": "2021-01-12T10:26:14.743650Z",
     "iopub.status.busy": "2021-01-12T10:26:14.742697Z",
     "iopub.status.idle": "2021-01-12T10:26:14.905827Z",
     "shell.execute_reply": "2021-01-12T10:26:14.905379Z"
    },
    "scrolled": true
   },
   "outputs": [
    {
     "data": {
      "image/png": "[encoded data removed]",
      "text/plain": [
       "<Figure size 432x288 with 1 Axes>"
      ]
     },
     "metadata": {
      "needs_background": "light"
     },
     "output_type": "display_data"
    }
   ],
   "source": [
    "fig, ax = plt.subplots(1,1)\n",
    "ax.plot(sizes, t_numeric, 'o-', label='Inserting row-by-row')\n",
    "ax.plot(sizes, t_numeric_add, 'o-', label='Inserting row-by-row: add_result only')\n",
    "ax.plot(sizes, t_array, 'd-', label='Inserting as binary blob')\n",
    "ax.plot(sizes, t_array_add, 'd-', label='Inserting as binary blob: add_result only')\n",
    "ax.legend()\n",
    "ax.set_xlabel('Array length')\n",
    "ax.set_ylabel('Time (s)')\n",
    "fig.tight_layout()"
   ]
  },
  {
   "cell_type": "markdown",
   "metadata": {},
   "source": [
    "However, as we increase the length of the experiment, as seen here by repeating the insertion 100 times, we see a big difference between inserting values of the data row-by-row and inserting it as a binary blob."
   ]
  },
  {
   "cell_type": "markdown",
   "metadata": {},
   "source": [
    "## Loading the data "
   ]
  },
  {
   "cell_type": "code",
   "execution_count": 9,
   "metadata": {
    "execution": {
     "iopub.execute_input": "2021-01-12T10:26:14.909646Z",
     "iopub.status.busy": "2021-01-12T10:26:14.909116Z",
     "iopub.status.idle": "2021-01-12T10:26:14.911825Z",
     "shell.execute_reply": "2021-01-12T10:26:14.912246Z"
    }
   },
   "outputs": [],
   "source": [
    "from qcodes.dataset.data_set import load_by_id\n",
    "from qcodes.dataset.data_export import get_data_by_id"
   ]
  },
  {
   "cell_type": "markdown",
   "metadata": {},
   "source": [
    "As usual you can load the data by using the ``load_by_id`` function but you will notice that the different storage methods\n",
    "are reflected in shape of the data as it is retrieved. "
   ]
  },
  {
   "cell_type": "code",
   "execution_count": 10,
   "metadata": {
    "execution": {
     "iopub.execute_input": "2021-01-12T10:26:14.916662Z",
     "iopub.status.busy": "2021-01-12T10:26:14.915562Z",
     "iopub.status.idle": "2021-01-12T10:26:14.917225Z",
     "shell.execute_reply": "2021-01-12T10:26:14.917771Z"
    }
   },
   "outputs": [],
   "source": [
    "run_id_n = t_numeric_run_ids[0]\n",
    "run_id_a = t_array_run_ids[0]"
   ]
  },
  {
   "cell_type": "code",
   "execution_count": 11,
   "metadata": {
    "execution": {
     "iopub.execute_input": "2021-01-12T10:26:14.920912Z",
     "iopub.status.busy": "2021-01-12T10:26:14.920355Z",
     "iopub.status.idle": "2021-01-12T10:26:14.929517Z",
     "shell.execute_reply": "2021-01-12T10:26:14.929932Z"
    },
    "scrolled": true
   },
   "outputs": [
    {
     "data": {
      "text/plain": [
       "{'x1': {'x1': array([0.81677506, 0.81677506, 0.54191359, 0.54191359, 0.69556807,\n",
       "         0.69556807, 0.111826  , 0.111826  , 0.61548519, 0.61548519,\n",
       "         0.57460364, 0.57460364, 0.36311542, 0.36311542, 0.04224335,\n",
       "         0.04224335, 0.28931056, 0.28931056, 0.81788322, 0.81788322,\n",
       "         0.69734883, 0.69734883, 0.33233672, 0.33233672, 0.51589794,\n",
       "         0.51589794, 0.80840825, 0.80840825, 0.53489949, 0.53489949,\n",
       "         0.18534129, 0.18534129, 0.4523117 , 0.4523117 , 0.8535157 ,\n",
       "         0.8535157 , 0.56841034, 0.56841034, 0.19959193, 0.19959193,\n",
       "         0.30519164, 0.30519164, 0.81133985, 0.81133985, 0.39777034,\n",
       "         0.39777034, 0.87380241, 0.87380241, 0.06988349, 0.06988349,\n",
       "         0.08174923, 0.08174923, 0.1686639 , 0.1686639 , 0.11913087,\n",
       "         0.11913087, 0.97175047, 0.97175047, 0.1122193 , 0.1122193 ,\n",
       "         0.40887344, 0.40887344, 0.22743271, 0.22743271, 0.54964898,\n",
       "         0.54964898, 0.13695469, 0.13695469, 0.22505692, 0.22505692,\n",
       "         0.56551413, 0.56551413, 0.11201839, 0.11201839, 0.13661145,\n",
       "         0.13661145, 0.32017545, 0.32017545, 0.9856684 , 0.9856684 ,\n",
       "         0.53003365, 0.53003365, 0.20212615, 0.20212615, 0.52102061,\n",
       "         0.52102061, 0.69436352, 0.69436352, 0.37044936, 0.37044936,\n",
       "         0.13992082, 0.13992082, 0.24295344, 0.24295344, 0.57063273,\n",
       "         0.57063273, 0.74977177, 0.74977177, 0.00738225, 0.00738225,\n",
       "         0.53856593, 0.53856593, 0.03285934, 0.03285934, 0.54923779,\n",
       "         0.54923779, 0.20015739, 0.20015739, 0.96041653, 0.96041653,\n",
       "         0.61807422, 0.61807422, 0.18032627, 0.18032627, 0.58948047,\n",
       "         0.58948047, 0.31022298, 0.31022298, 0.86693016, 0.86693016,\n",
       "         0.23223617, 0.23223617, 0.40102487, 0.40102487, 0.87046331,\n",
       "         0.87046331, 0.30403395, 0.30403395, 0.57539373, 0.57539373,\n",
       "         0.67805152, 0.67805152, 0.4031331 , 0.4031331 , 0.90028285,\n",
       "         0.90028285, 0.68686224, 0.68686224, 0.21859768, 0.21859768,\n",
       "         0.48785623, 0.48785623, 0.8045349 , 0.8045349 , 0.12595356,\n",
       "         0.12595356, 0.53657093, 0.53657093, 0.34261791, 0.34261791,\n",
       "         0.41276006, 0.41276006, 0.05302529, 0.05302529, 0.73653041,\n",
       "         0.73653041, 0.25082831, 0.25082831, 0.95021137, 0.95021137,\n",
       "         0.83927762, 0.83927762, 0.01500004, 0.01500004, 0.89179552,\n",
       "         0.89179552, 0.56259121, 0.56259121, 0.41469782, 0.41469782,\n",
       "         0.59176235, 0.59176235, 0.80558349, 0.80558349, 0.45356342,\n",
       "         0.45356342, 0.0084862 , 0.0084862 , 0.81728199, 0.81728199,\n",
       "         0.49553506, 0.49553506, 0.30865854, 0.30865854, 0.98227461,\n",
       "         0.98227461, 0.89748988, 0.89748988, 0.32445003, 0.32445003,\n",
       "         0.99948286, 0.99948286, 0.79452863, 0.79452863, 0.52581404,\n",
       "         0.52581404, 0.06253055, 0.06253055, 0.52923833, 0.52923833])}}"
      ]
     },
     "execution_count": 1,
     "metadata": {},
     "output_type": "execute_result"
    }
   ],
   "source": [
    "ds = load_by_id(run_id_n)\n",
    "ds.get_parameter_data('x1')"
   ]
  },
  {
   "cell_type": "markdown",
   "metadata": {},
   "source": [
    "And a dataset stored as binary arrays"
   ]
  },
  {
   "cell_type": "code",
   "execution_count": 12,
   "metadata": {
    "execution": {
     "iopub.execute_input": "2021-01-12T10:26:14.933165Z",
     "iopub.status.busy": "2021-01-12T10:26:14.932598Z",
     "iopub.status.idle": "2021-01-12T10:26:14.986584Z",
     "shell.execute_reply": "2021-01-12T10:26:14.987192Z"
    },
    "scrolled": true
   },
   "outputs": [
    {
     "data": {
      "text/plain": [
       "{'x1': {'x1': array([[0.04344386],\n",
       "         [0.04344386],\n",
       "         [0.40351196],\n",
       "         [0.40351196],\n",
       "         [0.36372924],\n",
       "         [0.36372924],\n",
       "         [0.35312073],\n",
       "         [0.35312073],\n",
       "         [0.37727967],\n",
       "         [0.37727967],\n",
       "         [0.40943287],\n",
       "         [0.40943287],\n",
       "         [0.85201426],\n",
       "         [0.85201426],\n",
       "         [0.73529585],\n",
       "         [0.73529585],\n",
       "         [0.26310116],\n",
       "         [0.26310116],\n",
       "         [0.57846574],\n",
       "         [0.57846574],\n",
       "         [0.15477398],\n",
       "         [0.15477398],\n",
       "         [0.1330945 ],\n",
       "         [0.1330945 ],\n",
       "         [0.68492901],\n",
       "         [0.68492901],\n",
       "         [0.97474134],\n",
       "         [0.97474134],\n",
       "         [0.36043399],\n",
       "         [0.36043399],\n",
       "         [0.27578068],\n",
       "         [0.27578068],\n",
       "         [0.67957888],\n",
       "         [0.67957888],\n",
       "         [0.74103728],\n",
       "         [0.74103728],\n",
       "         [0.88833844],\n",
       "         [0.88833844],\n",
       "         [0.93360315],\n",
       "         [0.93360315],\n",
       "         [0.16336459],\n",
       "         [0.16336459],\n",
       "         [0.98666584],\n",
       "         [0.98666584],\n",
       "         [0.39034438],\n",
       "         [0.39034438],\n",
       "         [0.72820334],\n",
       "         [0.72820334],\n",
       "         [0.41372969],\n",
       "         [0.41372969],\n",
       "         [0.14470501],\n",
       "         [0.14470501],\n",
       "         [0.69752811],\n",
       "         [0.69752811],\n",
       "         [0.88717736],\n",
       "         [0.88717736],\n",
       "         [0.65865838],\n",
       "         [0.65865838],\n",
       "         [0.53128945],\n",
       "         [0.53128945],\n",
       "         [0.81494641],\n",
       "         [0.81494641],\n",
       "         [0.80331472],\n",
       "         [0.80331472],\n",
       "         [0.15581868],\n",
       "         [0.15581868],\n",
       "         [0.25101059],\n",
       "         [0.25101059],\n",
       "         [0.86372259],\n",
       "         [0.86372259],\n",
       "         [0.09949536],\n",
       "         [0.09949536],\n",
       "         [0.33449943],\n",
       "         [0.33449943],\n",
       "         [0.37693665],\n",
       "         [0.37693665],\n",
       "         [0.48077568],\n",
       "         [0.48077568],\n",
       "         [0.0117047 ],\n",
       "         [0.0117047 ],\n",
       "         [0.12161164],\n",
       "         [0.12161164],\n",
       "         [0.99128747],\n",
       "         [0.99128747],\n",
       "         [0.65830876],\n",
       "         [0.65830876],\n",
       "         [0.90633932],\n",
       "         [0.90633932],\n",
       "         [0.76888205],\n",
       "         [0.76888205],\n",
       "         [0.99991359],\n",
       "         [0.99991359],\n",
       "         [0.2254004 ],\n",
       "         [0.2254004 ],\n",
       "         [0.00478678],\n",
       "         [0.00478678],\n",
       "         [0.46452873],\n",
       "         [0.46452873],\n",
       "         [0.04524476],\n",
       "         [0.04524476],\n",
       "         [0.20593276],\n",
       "         [0.20593276],\n",
       "         [0.38481315],\n",
       "         [0.38481315],\n",
       "         [0.87765385],\n",
       "         [0.87765385],\n",
       "         [0.03483362],\n",
       "         [0.03483362],\n",
       "         [0.03100841],\n",
       "         [0.03100841],\n",
       "         [0.57684193],\n",
       "         [0.57684193],\n",
       "         [0.19839217],\n",
       "         [0.19839217],\n",
       "         [0.16635344],\n",
       "         [0.16635344],\n",
       "         [0.94192785],\n",
       "         [0.94192785],\n",
       "         [0.67526001],\n",
       "         [0.67526001],\n",
       "         [0.5277491 ],\n",
       "         [0.5277491 ],\n",
       "         [0.19403481],\n",
       "         [0.19403481],\n",
       "         [0.4392775 ],\n",
       "         [0.4392775 ],\n",
       "         [0.12391694],\n",
       "         [0.12391694],\n",
       "         [0.4217911 ],\n",
       "         [0.4217911 ],\n",
       "         [0.69240379],\n",
       "         [0.69240379],\n",
       "         [0.30655572],\n",
       "         [0.30655572],\n",
       "         [0.42501501],\n",
       "         [0.42501501],\n",
       "         [0.01468382],\n",
       "         [0.01468382],\n",
       "         [0.52707535],\n",
       "         [0.52707535],\n",
       "         [0.82762481],\n",
       "         [0.82762481],\n",
       "         [0.10714524],\n",
       "         [0.10714524],\n",
       "         [0.39510895],\n",
       "         [0.39510895],\n",
       "         [0.74703817],\n",
       "         [0.74703817],\n",
       "         [0.35624952],\n",
       "         [0.35624952],\n",
       "         [0.75356925],\n",
       "         [0.75356925],\n",
       "         [0.56217041],\n",
       "         [0.56217041],\n",
       "         [0.30837108],\n",
       "         [0.30837108],\n",
       "         [0.896809  ],\n",
       "         [0.896809  ],\n",
       "         [0.68833598],\n",
       "         [0.68833598],\n",
       "         [0.94511329],\n",
       "         [0.94511329],\n",
       "         [0.95668713],\n",
       "         [0.95668713],\n",
       "         [0.96699736],\n",
       "         [0.96699736],\n",
       "         [0.77150931],\n",
       "         [0.77150931],\n",
       "         [0.61393642],\n",
       "         [0.61393642],\n",
       "         [0.3155939 ],\n",
       "         [0.3155939 ],\n",
       "         [0.8427005 ],\n",
       "         [0.8427005 ],\n",
       "         [0.34472183],\n",
       "         [0.34472183],\n",
       "         [0.80552297],\n",
       "         [0.80552297],\n",
       "         [0.82365951],\n",
       "         [0.82365951],\n",
       "         [0.93000065],\n",
       "         [0.93000065],\n",
       "         [0.22367282],\n",
       "         [0.22367282],\n",
       "         [0.01854782],\n",
       "         [0.01854782],\n",
       "         [0.71740871],\n",
       "         [0.71740871],\n",
       "         [0.03563196],\n",
       "         [0.03563196],\n",
       "         [0.37054658],\n",
       "         [0.37054658],\n",
       "         [0.78441961],\n",
       "         [0.78441961],\n",
       "         [0.55993301],\n",
       "         [0.55993301],\n",
       "         [0.68764845],\n",
       "         [0.68764845],\n",
       "         [0.62454103],\n",
       "         [0.62454103]])}}"
      ]
     },
     "execution_count": 1,
     "metadata": {},
     "output_type": "execute_result"
    }
   ],
   "source": [
    "ds = load_by_id(run_id_a)\n",
    "ds.get_parameter_data('x1')"
   ]
  },
  {
   "cell_type": "code",
   "execution_count": null,
   "metadata": {},
   "outputs": [],
   "source": []
  }
 ],
 "metadata": {
  "kernelspec": {
   "display_name": "Python 3",
   "language": "python",
   "name": "python3"
  },
  "language_info": {
   "codemirror_mode": {
    "name": "ipython",
    "version": 3
   },
   "file_extension": ".py",
   "mimetype": "text/x-python",
   "name": "python",
   "nbconvert_exporter": "python",
   "pygments_lexer": "ipython3",
   "version": "3.7.9"
  },
  "nbsphinx": {
   "timeout": 600
  },
  "toc": {
   "base_numbering": 1,
   "nav_menu": {},
   "number_sections": true,
   "sideBar": true,
   "skip_h1_title": false,
   "title_cell": "Table of Contents",
   "title_sidebar": "Contents",
   "toc_cell": false,
   "toc_position": {},
   "toc_section_display": true,
   "toc_window_display": false
  },
  "varInspector": {
   "cols": {
    "lenName": 16,
    "lenType": 16,
    "lenVar": 40
   },
   "kernels_config": {
    "python": {
     "delete_cmd_postfix": "",
     "delete_cmd_prefix": "del ",
     "library": "var_list.py",
     "varRefreshCmd": "print(var_dic_list())"
    },
    "r": {
     "delete_cmd_postfix": ") ",
     "delete_cmd_prefix": "rm(",
     "library": "var_list.r",
     "varRefreshCmd": "cat(var_dic_list()) "
    }
   },
   "types_to_exclude": [
    "module",
    "function",
    "builtin_function_or_method",
    "instance",
    "_Feature"
   ],
   "window_display": false
  }
 },
 "nbformat": 4,
 "nbformat_minor": 2
}
