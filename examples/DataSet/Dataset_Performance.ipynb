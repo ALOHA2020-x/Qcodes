{
 "cells": [
  {
   "cell_type": "markdown",
   "metadata": {},
   "source": [
    "# DataSet Performance\n",
    "\n",
    "This notebook shows the trade-off between inserting data into a database row-by-row and as binary blobs. Inserting the data row-by-row means that we have direct access to all the data and may perform queries directly on the values of the data. On the other hand, as we shall see, this is much slower than inserting the data directly as binary blobs."
   ]
  },
  {
   "cell_type": "markdown",
   "metadata": {},
   "source": [
    "First, we choose a new location for the database to ensure that we don't add a bunch of benchmarking data to the default one."
   ]
  },
  {
   "cell_type": "code",
   "execution_count": 1,
   "metadata": {
    "execution": {
     "iopub.execute_input": "2021-04-08T11:30:14.072331Z",
     "iopub.status.busy": "2021-04-08T11:30:14.071823Z",
     "iopub.status.idle": "2021-04-08T11:30:14.982710Z",
     "shell.execute_reply": "2021-04-08T11:30:14.983213Z"
    }
   },
   "outputs": [
    {
     "name": "stdout",
     "output_type": "stream",
     "text": [
      "Logging hadn't been started.\n",
      "Activating auto-logging. Current session state plus future input saved.\n",
      "Filename       : /home/runner/.qcodes/logs/command_history.log\n",
      "Mode           : append\n",
      "Output logging : True\n",
      "Raw input log  : False\n",
      "Timestamping   : True\n",
      "State          : active\n"
     ]
    },
    {
     "name": "stdout",
     "output_type": "stream",
     "text": [
      "Qcodes Logfile : /home/runner/.qcodes/logs/210408-4381-qcodes.log\n"
     ]
    }
   ],
   "source": [
    "import os\n",
    "cwd = os.getcwd()\n",
    "import qcodes as qc\n",
    "qc.config[\"core\"][\"db_location\"] = os.path.join(cwd, 'testing.db')\n"
   ]
  },
  {
   "cell_type": "code",
   "execution_count": 2,
   "metadata": {
    "execution": {
     "iopub.execute_input": "2021-04-08T11:30:14.989947Z",
     "iopub.status.busy": "2021-04-08T11:30:14.989345Z",
     "iopub.status.idle": "2021-04-08T11:30:15.234464Z",
     "shell.execute_reply": "2021-04-08T11:30:15.234958Z"
    }
   },
   "outputs": [],
   "source": [
    "%matplotlib inline\n",
    "import time\n",
    "import matplotlib.pyplot as plt\n",
    "import numpy as np\n",
    "\n",
    "import qcodes as qc\n",
    "from qcodes.instrument.parameter import ManualParameter\n",
    "from qcodes.dataset.experiment_container import (Experiment,\n",
    "                                                 load_last_experiment,\n",
    "                                                 new_experiment)\n",
    "from qcodes.dataset.sqlite.database import initialise_database\n",
    "from qcodes import load_or_create_experiment\n",
    "from qcodes.dataset.measurements import Measurement"
   ]
  },
  {
   "cell_type": "code",
   "execution_count": 3,
   "metadata": {
    "execution": {
     "iopub.execute_input": "2021-04-08T11:30:15.238960Z",
     "iopub.status.busy": "2021-04-08T11:30:15.238497Z",
     "iopub.status.idle": "2021-04-08T11:30:15.295642Z",
     "shell.execute_reply": "2021-04-08T11:30:15.296089Z"
    }
   },
   "outputs": [
    {
     "name": "stdout",
     "output_type": "stream",
     "text": [
      "\r",
      "0it [00:00, ?it/s]"
     ]
    },
    {
     "name": "stdout",
     "output_type": "stream",
     "text": [
      "\r",
      "Upgrading database; v0 -> v1: : 0it [00:00, ?it/s]"
     ]
    },
    {
     "name": "stdout",
     "output_type": "stream",
     "text": [
      "\r",
      "Upgrading database; v0 -> v1: : 0it [00:00, ?it/s]"
     ]
    },
    {
     "name": "stdout",
     "output_type": "stream",
     "text": [
      "\n",
      "\r",
      "  0%|          | 0/1 [00:00<?, ?it/s]"
     ]
    },
    {
     "name": "stdout",
     "output_type": "stream",
     "text": [
      "\r",
      "Upgrading database; v1 -> v2:   0%|          | 0/1 [00:00<?, ?it/s]"
     ]
    },
    {
     "name": "stdout",
     "output_type": "stream",
     "text": [
      "\r",
      "Upgrading database; v1 -> v2: 100%|██████████| 1/1 [00:00<00:00, 592.00it/s]"
     ]
    },
    {
     "name": "stdout",
     "output_type": "stream",
     "text": [
      "\n",
      "\r",
      "0it [00:00, ?it/s]"
     ]
    },
    {
     "name": "stdout",
     "output_type": "stream",
     "text": [
      "\r",
      "Upgrading database; v2 -> v3: : 0it [00:00, ?it/s]"
     ]
    },
    {
     "name": "stdout",
     "output_type": "stream",
     "text": [
      "\r",
      "Upgrading database; v2 -> v3: : 0it [00:00, ?it/s]"
     ]
    },
    {
     "name": "stdout",
     "output_type": "stream",
     "text": [
      "\n",
      "\r",
      "0it [00:00, ?it/s]"
     ]
    },
    {
     "name": "stdout",
     "output_type": "stream",
     "text": [
      "\r",
      "Upgrading database; v3 -> v4: : 0it [00:00, ?it/s]"
     ]
    },
    {
     "name": "stdout",
     "output_type": "stream",
     "text": [
      "\r",
      "Upgrading database; v3 -> v4: : 0it [00:00, ?it/s]"
     ]
    },
    {
     "name": "stdout",
     "output_type": "stream",
     "text": [
      "\n",
      "\r",
      "  0%|          | 0/1 [00:00<?, ?it/s]"
     ]
    },
    {
     "name": "stdout",
     "output_type": "stream",
     "text": [
      "\r",
      "Upgrading database; v4 -> v5:   0%|          | 0/1 [00:00<?, ?it/s]"
     ]
    },
    {
     "name": "stdout",
     "output_type": "stream",
     "text": [
      "\r",
      "Upgrading database; v4 -> v5: 100%|██████████| 1/1 [00:00<00:00, 762.32it/s]"
     ]
    },
    {
     "name": "stdout",
     "output_type": "stream",
     "text": [
      "\n",
      "\r",
      "0it [00:00, ?it/s]"
     ]
    },
    {
     "name": "stdout",
     "output_type": "stream",
     "text": [
      "\r",
      "Upgrading database; v5 -> v6: : 0it [00:00, ?it/s]"
     ]
    },
    {
     "name": "stdout",
     "output_type": "stream",
     "text": [
      "\r",
      "Upgrading database; v5 -> v6: : 0it [00:00, ?it/s]"
     ]
    },
    {
     "name": "stdout",
     "output_type": "stream",
     "text": [
      "\n",
      "\r",
      "  0%|          | 0/1 [00:00<?, ?it/s]"
     ]
    },
    {
     "name": "stdout",
     "output_type": "stream",
     "text": [
      "\r",
      "Upgrading database; v6 -> v7:   0%|          | 0/1 [00:00<?, ?it/s]"
     ]
    },
    {
     "name": "stdout",
     "output_type": "stream",
     "text": [
      "\r",
      "Upgrading database; v6 -> v7: 100%|██████████| 1/1 [00:00<00:00, 459.50it/s]"
     ]
    },
    {
     "name": "stdout",
     "output_type": "stream",
     "text": [
      "\n",
      "\r",
      "  0%|          | 0/1 [00:00<?, ?it/s]"
     ]
    },
    {
     "name": "stdout",
     "output_type": "stream",
     "text": [
      "\r",
      "Upgrading database; v7 -> v8:   0%|          | 0/1 [00:00<?, ?it/s]"
     ]
    },
    {
     "name": "stdout",
     "output_type": "stream",
     "text": [
      "\r",
      "Upgrading database; v7 -> v8: 100%|██████████| 1/1 [00:00<00:00, 832.37it/s]"
     ]
    },
    {
     "name": "stdout",
     "output_type": "stream",
     "text": [
      "\n",
      "\r",
      "  0%|          | 0/1 [00:00<?, ?it/s]"
     ]
    },
    {
     "name": "stdout",
     "output_type": "stream",
     "text": [
      "\r",
      "Upgrading database; v8 -> v9:   0%|          | 0/1 [00:00<?, ?it/s]"
     ]
    },
    {
     "name": "stdout",
     "output_type": "stream",
     "text": [
      "\r",
      "Upgrading database; v8 -> v9: 100%|██████████| 1/1 [00:00<00:00, 1038.19it/s]"
     ]
    },
    {
     "name": "stdout",
     "output_type": "stream",
     "text": [
      "\n"
     ]
    }
   ],
   "source": [
    "initialise_database()\n",
    "exp = load_or_create_experiment(experiment_name='tutorial_exp', sample_name=\"no sample\")"
   ]
  },
  {
   "cell_type": "markdown",
   "metadata": {},
   "source": [
    "Here, we define a simple function to benchmark the time it takes to insert n points with either numeric or array data type.\n",
    "We will compare both the time used to call ``add_result`` and the time used for the full measurement."
   ]
  },
  {
   "cell_type": "code",
   "execution_count": 4,
   "metadata": {
    "execution": {
     "iopub.execute_input": "2021-04-08T11:30:15.305072Z",
     "iopub.status.busy": "2021-04-08T11:30:15.303914Z",
     "iopub.status.idle": "2021-04-08T11:30:15.305648Z",
     "shell.execute_reply": "2021-04-08T11:30:15.306065Z"
    }
   },
   "outputs": [],
   "source": [
    "def insert_data(paramtype, npoints, nreps=1):\n",
    "\n",
    "    meas = Measurement(exp=exp)\n",
    "\n",
    "    x1 = ManualParameter('x1')\n",
    "    x2 = ManualParameter('x2')\n",
    "    x3 = ManualParameter('x3')\n",
    "    y1 = ManualParameter('y1')\n",
    "    y2 = ManualParameter('y2')\n",
    "\n",
    "    meas.register_parameter(x1, paramtype=paramtype)\n",
    "    meas.register_parameter(x2, paramtype=paramtype)\n",
    "    meas.register_parameter(x3, paramtype=paramtype)\n",
    "    meas.register_parameter(y1, setpoints=[x1, x2, x3],\n",
    "                            paramtype=paramtype)\n",
    "    meas.register_parameter(y2, setpoints=[x1, x2, x3],\n",
    "                            paramtype=paramtype)\n",
    "    start = time.perf_counter()\n",
    "    with meas.run() as datasaver:\n",
    "        start_adding = time.perf_counter()\n",
    "        for i in range(nreps):\n",
    "            datasaver.add_result((x1, np.random.rand(npoints)),\n",
    "                                 (x2, np.random.rand(npoints)),\n",
    "                                 (x3, np.random.rand(npoints)),\n",
    "                                 (y1, np.random.rand(npoints)),\n",
    "                                 (y2, np.random.rand(npoints)))\n",
    "        stop_adding = time.perf_counter()\n",
    "        run_id = datasaver.run_id\n",
    "    stop = time.perf_counter()\n",
    "    tot_time = stop - start\n",
    "    add_time = stop_adding - start_adding\n",
    "    return tot_time, add_time, run_id"
   ]
  },
  {
   "cell_type": "markdown",
   "metadata": {},
   "source": [
    "## Comparison between numeric/array data and binary blob"
   ]
  },
  {
   "cell_type": "markdown",
   "metadata": {},
   "source": [
    "### Case1: Short experiment time"
   ]
  },
  {
   "cell_type": "code",
   "execution_count": 5,
   "metadata": {
    "execution": {
     "iopub.execute_input": "2021-04-08T11:30:15.312362Z",
     "iopub.status.busy": "2021-04-08T11:30:15.311760Z",
     "iopub.status.idle": "2021-04-08T11:30:16.001406Z",
     "shell.execute_reply": "2021-04-08T11:30:16.001768Z"
    }
   },
   "outputs": [
    {
     "name": "stdout",
     "output_type": "stream",
     "text": [
      "Starting experimental run with id: 1. \n",
      "Starting experimental run with id: 2. \n",
      "Starting experimental run with id: 3. \n",
      "Starting experimental run with id: 4. \n",
      "Starting experimental run with id: 5. \n",
      "Starting experimental run with id: 6. \n",
      "Starting experimental run with id: 7. \n"
     ]
    },
    {
     "name": "stdout",
     "output_type": "stream",
     "text": [
      "Starting experimental run with id: 8. \n"
     ]
    },
    {
     "name": "stdout",
     "output_type": "stream",
     "text": [
      "Starting experimental run with id: 9. \n",
      "Starting experimental run with id: 10. \n",
      "Starting experimental run with id: 11. \n"
     ]
    },
    {
     "name": "stdout",
     "output_type": "stream",
     "text": [
      "Starting experimental run with id: 12. \n",
      "Starting experimental run with id: 13. \n",
      "Starting experimental run with id: 14. \n"
     ]
    }
   ],
   "source": [
    "sizes = [1,500,1000,2000,3000,4000,5000]\n",
    "t_numeric = []\n",
    "t_numeric_add = []\n",
    "t_array = []\n",
    "t_array_add = []\n",
    "for size in sizes:\n",
    "    tn, tna, run_id_n =  insert_data('numeric', size)\n",
    "    t_numeric.append(tn)\n",
    "    t_numeric_add.append(tna)\n",
    "\n",
    "    ta, taa, run_id_a =  insert_data('array', size)\n",
    "    t_array.append(ta)\n",
    "    t_array_add.append(taa)"
   ]
  },
  {
   "cell_type": "code",
   "execution_count": 6,
   "metadata": {
    "execution": {
     "iopub.execute_input": "2021-04-08T11:30:16.044361Z",
     "iopub.status.busy": "2021-04-08T11:30:16.030164Z",
     "iopub.status.idle": "2021-04-08T11:30:16.196561Z",
     "shell.execute_reply": "2021-04-08T11:30:16.196149Z"
    }
   },
   "outputs": [
    {
     "data": {
      "image/png": "[encoded data removed]",
      "text/plain": [
       "<Figure size 432x288 with 1 Axes>"
      ]
     },
     "metadata": {
      "needs_background": "light"
     },
     "output_type": "display_data"
    }
   ],
   "source": [
    "fig, ax = plt.subplots(1,1)\n",
    "ax.plot(sizes, t_numeric, 'o-', label='Inserting row-by-row')\n",
    "ax.plot(sizes, t_numeric_add, 'o-', label='Inserting row-by-row: add_result only')\n",
    "ax.plot(sizes, t_array, 'd-', label='Inserting as binary blob')\n",
    "ax.plot(sizes, t_array_add, 'd-', label='Inserting as binary blob: add_result only')\n",
    "ax.legend()\n",
    "ax.set_xlabel('Array length')\n",
    "ax.set_ylabel('Time (s)')\n",
    "fig.tight_layout()"
   ]
  },
  {
   "cell_type": "markdown",
   "metadata": {},
   "source": [
    "As shown in the latter figure, the time to setup and and close the experiment is approximately 0.4 sec. In case of small array sizes, the difference between inserting values of data as arrays and inserting them row-by-row is relatively unimportant. At larger array sizes, i.e. above 10000 points, the cost of writing data as individual datapoints starts to become important.\n"
   ]
  },
  {
   "cell_type": "markdown",
   "metadata": {},
   "source": [
    "### Case2: Long experiment time "
   ]
  },
  {
   "cell_type": "code",
   "execution_count": 7,
   "metadata": {
    "execution": {
     "iopub.execute_input": "2021-04-08T11:30:16.202788Z",
     "iopub.status.busy": "2021-04-08T11:30:16.202313Z",
     "iopub.status.idle": "2021-04-08T11:31:05.868043Z",
     "shell.execute_reply": "2021-04-08T11:31:05.868476Z"
    }
   },
   "outputs": [
    {
     "name": "stdout",
     "output_type": "stream",
     "text": [
      "Starting experimental run with id: 15. \n",
      "Starting experimental run with id: 16. \n",
      "Starting experimental run with id: 17. \n"
     ]
    },
    {
     "name": "stdout",
     "output_type": "stream",
     "text": [
      "Starting experimental run with id: 18. \n",
      "Starting experimental run with id: 19. \n"
     ]
    },
    {
     "name": "stdout",
     "output_type": "stream",
     "text": [
      "Starting experimental run with id: 20. \n"
     ]
    },
    {
     "name": "stdout",
     "output_type": "stream",
     "text": [
      "Starting experimental run with id: 21. \n"
     ]
    },
    {
     "name": "stdout",
     "output_type": "stream",
     "text": [
      "Starting experimental run with id: 22. \n"
     ]
    },
    {
     "name": "stdout",
     "output_type": "stream",
     "text": [
      "Starting experimental run with id: 23. \n"
     ]
    },
    {
     "name": "stdout",
     "output_type": "stream",
     "text": [
      "Starting experimental run with id: 24. \n"
     ]
    },
    {
     "name": "stdout",
     "output_type": "stream",
     "text": [
      "Starting experimental run with id: 25. \n"
     ]
    },
    {
     "name": "stdout",
     "output_type": "stream",
     "text": [
      "Starting experimental run with id: 26. \n"
     ]
    },
    {
     "name": "stdout",
     "output_type": "stream",
     "text": [
      "Starting experimental run with id: 27. \n"
     ]
    },
    {
     "name": "stdout",
     "output_type": "stream",
     "text": [
      "Starting experimental run with id: 28. \n"
     ]
    }
   ],
   "source": [
    "sizes = [1,500,1000,2000,3000,4000,5000]\n",
    "nreps = 100\n",
    "t_numeric = []\n",
    "t_numeric_add = []\n",
    "t_numeric_run_ids = []\n",
    "t_array = []\n",
    "t_array_add = []\n",
    "t_array_run_ids = []\n",
    "for size in sizes:\n",
    "    tn, tna, run_id_n =  insert_data('numeric', size, nreps=nreps)\n",
    "    t_numeric.append(tn)\n",
    "    t_numeric_add.append(tna)\n",
    "    t_numeric_run_ids.append(run_id_n)\n",
    "\n",
    "    ta, taa, run_id_a =  insert_data('array', size, nreps=nreps)\n",
    "    t_array.append(ta)\n",
    "    t_array_add.append(taa)\n",
    "    t_array_run_ids.append(run_id_a)"
   ]
  },
  {
   "cell_type": "code",
   "execution_count": 8,
   "metadata": {
    "execution": {
     "iopub.execute_input": "2021-04-08T11:31:05.904706Z",
     "iopub.status.busy": "2021-04-08T11:31:05.892460Z",
     "iopub.status.idle": "2021-04-08T11:31:06.023182Z",
     "shell.execute_reply": "2021-04-08T11:31:06.023717Z"
    },
    "scrolled": true
   },
   "outputs": [
    {
     "data": {
      "image/png": "[encoded data removed]",
      "text/plain": [
       "<Figure size 432x288 with 1 Axes>"
      ]
     },
     "metadata": {
      "needs_background": "light"
     },
     "output_type": "display_data"
    }
   ],
   "source": [
    "fig, ax = plt.subplots(1,1)\n",
    "ax.plot(sizes, t_numeric, 'o-', label='Inserting row-by-row')\n",
    "ax.plot(sizes, t_numeric_add, 'o-', label='Inserting row-by-row: add_result only')\n",
    "ax.plot(sizes, t_array, 'd-', label='Inserting as binary blob')\n",
    "ax.plot(sizes, t_array_add, 'd-', label='Inserting as binary blob: add_result only')\n",
    "ax.legend()\n",
    "ax.set_xlabel('Array length')\n",
    "ax.set_ylabel('Time (s)')\n",
    "fig.tight_layout()"
   ]
  },
  {
   "cell_type": "markdown",
   "metadata": {},
   "source": [
    "However, as we increase the length of the experiment, as seen here by repeating the insertion 100 times, we see a big difference between inserting values of the data row-by-row and inserting it as a binary blob."
   ]
  },
  {
   "cell_type": "markdown",
   "metadata": {},
   "source": [
    "## Loading the data "
   ]
  },
  {
   "cell_type": "code",
   "execution_count": 9,
   "metadata": {
    "execution": {
     "iopub.execute_input": "2021-04-08T11:31:06.027027Z",
     "iopub.status.busy": "2021-04-08T11:31:06.026520Z",
     "iopub.status.idle": "2021-04-08T11:31:06.029032Z",
     "shell.execute_reply": "2021-04-08T11:31:06.029476Z"
    }
   },
   "outputs": [],
   "source": [
    "from qcodes.dataset.data_set import load_by_id\n",
    "from qcodes.dataset.data_export import get_data_by_id"
   ]
  },
  {
   "cell_type": "markdown",
   "metadata": {},
   "source": [
    "As usual you can load the data by using the ``load_by_id`` function but you will notice that the different storage methods\n",
    "are reflected in shape of the data as it is retrieved. "
   ]
  },
  {
   "cell_type": "code",
   "execution_count": 10,
   "metadata": {
    "execution": {
     "iopub.execute_input": "2021-04-08T11:31:06.031824Z",
     "iopub.status.busy": "2021-04-08T11:31:06.031308Z",
     "iopub.status.idle": "2021-04-08T11:31:06.033966Z",
     "shell.execute_reply": "2021-04-08T11:31:06.034462Z"
    }
   },
   "outputs": [],
   "source": [
    "run_id_n = t_numeric_run_ids[0]\n",
    "run_id_a = t_array_run_ids[0]"
   ]
  },
  {
   "cell_type": "code",
   "execution_count": 11,
   "metadata": {
    "execution": {
     "iopub.execute_input": "2021-04-08T11:31:06.037665Z",
     "iopub.status.busy": "2021-04-08T11:31:06.037174Z",
     "iopub.status.idle": "2021-04-08T11:31:06.045352Z",
     "shell.execute_reply": "2021-04-08T11:31:06.045775Z"
    },
    "scrolled": true
   },
   "outputs": [
    {
     "data": {
      "text/plain": [
       "{'x1': {'x1': array([0.30321862, 0.30321862, 0.79300444, 0.79300444, 0.09614918,\n",
       "         0.09614918, 0.49115464, 0.49115464, 0.87007984, 0.87007984,\n",
       "         0.64869324, 0.64869324, 0.74496063, 0.74496063, 0.52802664,\n",
       "         0.52802664, 0.62107058, 0.62107058, 0.69939335, 0.69939335,\n",
       "         0.72468297, 0.72468297, 0.37136644, 0.37136644, 0.4923449 ,\n",
       "         0.4923449 , 0.03371827, 0.03371827, 0.23018162, 0.23018162,\n",
       "         0.72129053, 0.72129053, 0.43975688, 0.43975688, 0.070673  ,\n",
       "         0.070673  , 0.99963231, 0.99963231, 0.78347446, 0.78347446,\n",
       "         0.66232879, 0.66232879, 0.95116396, 0.95116396, 0.97733774,\n",
       "         0.97733774, 0.14401444, 0.14401444, 0.23667369, 0.23667369,\n",
       "         0.14885108, 0.14885108, 0.2021786 , 0.2021786 , 0.72317332,\n",
       "         0.72317332, 0.29553189, 0.29553189, 0.83672945, 0.83672945,\n",
       "         0.77157477, 0.77157477, 0.79479499, 0.79479499, 0.34837038,\n",
       "         0.34837038, 0.29253622, 0.29253622, 0.12028864, 0.12028864,\n",
       "         0.27013563, 0.27013563, 0.67968704, 0.67968704, 0.71469683,\n",
       "         0.71469683, 0.26812092, 0.26812092, 0.45302978, 0.45302978,\n",
       "         0.69076155, 0.69076155, 0.94858383, 0.94858383, 0.1901611 ,\n",
       "         0.1901611 , 0.99452075, 0.99452075, 0.71998058, 0.71998058,\n",
       "         0.97347111, 0.97347111, 0.02571384, 0.02571384, 0.72844177,\n",
       "         0.72844177, 0.46156424, 0.46156424, 0.73037541, 0.73037541,\n",
       "         0.62481723, 0.62481723, 0.01050266, 0.01050266, 0.68550383,\n",
       "         0.68550383, 0.36118408, 0.36118408, 0.2119759 , 0.2119759 ,\n",
       "         0.81040361, 0.81040361, 0.73490288, 0.73490288, 0.72309007,\n",
       "         0.72309007, 0.90676493, 0.90676493, 0.21217456, 0.21217456,\n",
       "         0.07456891, 0.07456891, 0.22886391, 0.22886391, 0.01351378,\n",
       "         0.01351378, 0.38883557, 0.38883557, 0.31544006, 0.31544006,\n",
       "         0.18083645, 0.18083645, 0.53885466, 0.53885466, 0.26057663,\n",
       "         0.26057663, 0.84975296, 0.84975296, 0.4002044 , 0.4002044 ,\n",
       "         0.71873839, 0.71873839, 0.93106268, 0.93106268, 0.65636991,\n",
       "         0.65636991, 0.47671574, 0.47671574, 0.14936911, 0.14936911,\n",
       "         0.95149627, 0.95149627, 0.89594427, 0.89594427, 0.38438542,\n",
       "         0.38438542, 0.6646029 , 0.6646029 , 0.62423933, 0.62423933,\n",
       "         0.03112534, 0.03112534, 0.1587148 , 0.1587148 , 0.59160462,\n",
       "         0.59160462, 0.71889655, 0.71889655, 0.51045663, 0.51045663,\n",
       "         0.48924417, 0.48924417, 0.83903053, 0.83903053, 0.19753809,\n",
       "         0.19753809, 0.82768028, 0.82768028, 0.13577074, 0.13577074,\n",
       "         0.13471726, 0.13471726, 0.19415054, 0.19415054, 0.64893369,\n",
       "         0.64893369, 0.23405039, 0.23405039, 0.70806133, 0.70806133,\n",
       "         0.90323752, 0.90323752, 0.23721535, 0.23721535, 0.47015073,\n",
       "         0.47015073, 0.52909327, 0.52909327, 0.79304243, 0.79304243])}}"
      ]
     },
     "execution_count": 1,
     "metadata": {},
     "output_type": "execute_result"
    }
   ],
   "source": [
    "ds = load_by_id(run_id_n)\n",
    "ds.get_parameter_data('x1')"
   ]
  },
  {
   "cell_type": "markdown",
   "metadata": {},
   "source": [
    "And a dataset stored as binary arrays"
   ]
  },
  {
   "cell_type": "code",
   "execution_count": 12,
   "metadata": {
    "execution": {
     "iopub.execute_input": "2021-04-08T11:31:06.049218Z",
     "iopub.status.busy": "2021-04-08T11:31:06.048716Z",
     "iopub.status.idle": "2021-04-08T11:31:06.094014Z",
     "shell.execute_reply": "2021-04-08T11:31:06.094497Z"
    },
    "scrolled": true
   },
   "outputs": [
    {
     "data": {
      "text/plain": [
       "{'x1': {'x1': array([[0.20885901],\n",
       "         [0.20885901],\n",
       "         [0.98987293],\n",
       "         [0.98987293],\n",
       "         [0.08388188],\n",
       "         [0.08388188],\n",
       "         [0.2771708 ],\n",
       "         [0.2771708 ],\n",
       "         [0.99937914],\n",
       "         [0.99937914],\n",
       "         [0.2012909 ],\n",
       "         [0.2012909 ],\n",
       "         [0.55995937],\n",
       "         [0.55995937],\n",
       "         [0.58276915],\n",
       "         [0.58276915],\n",
       "         [0.50674267],\n",
       "         [0.50674267],\n",
       "         [0.89561861],\n",
       "         [0.89561861],\n",
       "         [0.65825275],\n",
       "         [0.65825275],\n",
       "         [0.46871661],\n",
       "         [0.46871661],\n",
       "         [0.84324647],\n",
       "         [0.84324647],\n",
       "         [0.66472002],\n",
       "         [0.66472002],\n",
       "         [0.5290906 ],\n",
       "         [0.5290906 ],\n",
       "         [0.59290393],\n",
       "         [0.59290393],\n",
       "         [0.67160164],\n",
       "         [0.67160164],\n",
       "         [0.68758557],\n",
       "         [0.68758557],\n",
       "         [0.25205556],\n",
       "         [0.25205556],\n",
       "         [0.54022092],\n",
       "         [0.54022092],\n",
       "         [0.07795333],\n",
       "         [0.07795333],\n",
       "         [0.65217123],\n",
       "         [0.65217123],\n",
       "         [0.86536166],\n",
       "         [0.86536166],\n",
       "         [0.11404709],\n",
       "         [0.11404709],\n",
       "         [0.80985331],\n",
       "         [0.80985331],\n",
       "         [0.53833283],\n",
       "         [0.53833283],\n",
       "         [0.41734787],\n",
       "         [0.41734787],\n",
       "         [0.40461825],\n",
       "         [0.40461825],\n",
       "         [0.79327267],\n",
       "         [0.79327267],\n",
       "         [0.87971208],\n",
       "         [0.87971208],\n",
       "         [0.73258863],\n",
       "         [0.73258863],\n",
       "         [0.83722612],\n",
       "         [0.83722612],\n",
       "         [0.92027334],\n",
       "         [0.92027334],\n",
       "         [0.43072292],\n",
       "         [0.43072292],\n",
       "         [0.68425911],\n",
       "         [0.68425911],\n",
       "         [0.20937926],\n",
       "         [0.20937926],\n",
       "         [0.75298228],\n",
       "         [0.75298228],\n",
       "         [0.79281792],\n",
       "         [0.79281792],\n",
       "         [0.73624531],\n",
       "         [0.73624531],\n",
       "         [0.59519979],\n",
       "         [0.59519979],\n",
       "         [0.69313066],\n",
       "         [0.69313066],\n",
       "         [0.97466022],\n",
       "         [0.97466022],\n",
       "         [0.52674465],\n",
       "         [0.52674465],\n",
       "         [0.04904218],\n",
       "         [0.04904218],\n",
       "         [0.92966837],\n",
       "         [0.92966837],\n",
       "         [0.8320629 ],\n",
       "         [0.8320629 ],\n",
       "         [0.23151173],\n",
       "         [0.23151173],\n",
       "         [0.3089057 ],\n",
       "         [0.3089057 ],\n",
       "         [0.35742077],\n",
       "         [0.35742077],\n",
       "         [0.18826276],\n",
       "         [0.18826276],\n",
       "         [0.05443677],\n",
       "         [0.05443677],\n",
       "         [0.30089066],\n",
       "         [0.30089066],\n",
       "         [0.8542611 ],\n",
       "         [0.8542611 ],\n",
       "         [0.48262767],\n",
       "         [0.48262767],\n",
       "         [0.32387786],\n",
       "         [0.32387786],\n",
       "         [0.33426494],\n",
       "         [0.33426494],\n",
       "         [0.04972526],\n",
       "         [0.04972526],\n",
       "         [0.31137149],\n",
       "         [0.31137149],\n",
       "         [0.6127668 ],\n",
       "         [0.6127668 ],\n",
       "         [0.08009123],\n",
       "         [0.08009123],\n",
       "         [0.04067033],\n",
       "         [0.04067033],\n",
       "         [0.95763743],\n",
       "         [0.95763743],\n",
       "         [0.12499371],\n",
       "         [0.12499371],\n",
       "         [0.99965527],\n",
       "         [0.99965527],\n",
       "         [0.34567772],\n",
       "         [0.34567772],\n",
       "         [0.51549538],\n",
       "         [0.51549538],\n",
       "         [0.98060564],\n",
       "         [0.98060564],\n",
       "         [0.46478938],\n",
       "         [0.46478938],\n",
       "         [0.68147316],\n",
       "         [0.68147316],\n",
       "         [0.39119828],\n",
       "         [0.39119828],\n",
       "         [0.96188067],\n",
       "         [0.96188067],\n",
       "         [0.21276362],\n",
       "         [0.21276362],\n",
       "         [0.35705989],\n",
       "         [0.35705989],\n",
       "         [0.79293802],\n",
       "         [0.79293802],\n",
       "         [0.2865879 ],\n",
       "         [0.2865879 ],\n",
       "         [0.3478168 ],\n",
       "         [0.3478168 ],\n",
       "         [0.28476359],\n",
       "         [0.28476359],\n",
       "         [0.63696992],\n",
       "         [0.63696992],\n",
       "         [0.03651539],\n",
       "         [0.03651539],\n",
       "         [0.53767921],\n",
       "         [0.53767921],\n",
       "         [0.51710503],\n",
       "         [0.51710503],\n",
       "         [0.59123918],\n",
       "         [0.59123918],\n",
       "         [0.99836901],\n",
       "         [0.99836901],\n",
       "         [0.39904642],\n",
       "         [0.39904642],\n",
       "         [0.15742594],\n",
       "         [0.15742594],\n",
       "         [0.07385356],\n",
       "         [0.07385356],\n",
       "         [0.66114862],\n",
       "         [0.66114862],\n",
       "         [0.07016692],\n",
       "         [0.07016692],\n",
       "         [0.99281679],\n",
       "         [0.99281679],\n",
       "         [0.38875143],\n",
       "         [0.38875143],\n",
       "         [0.45556311],\n",
       "         [0.45556311],\n",
       "         [0.02617867],\n",
       "         [0.02617867],\n",
       "         [0.6393398 ],\n",
       "         [0.6393398 ],\n",
       "         [0.33721372],\n",
       "         [0.33721372],\n",
       "         [0.52538301],\n",
       "         [0.52538301],\n",
       "         [0.05437824],\n",
       "         [0.05437824],\n",
       "         [0.80453466],\n",
       "         [0.80453466],\n",
       "         [0.85588857],\n",
       "         [0.85588857],\n",
       "         [0.73530403],\n",
       "         [0.73530403],\n",
       "         [0.44191526],\n",
       "         [0.44191526]])}}"
      ]
     },
     "execution_count": 1,
     "metadata": {},
     "output_type": "execute_result"
    }
   ],
   "source": [
    "ds = load_by_id(run_id_a)\n",
    "ds.get_parameter_data('x1')"
   ]
  },
  {
   "cell_type": "code",
   "execution_count": null,
   "metadata": {},
   "outputs": [],
   "source": []
  }
 ],
 "metadata": {
  "kernelspec": {
   "display_name": "Python 3",
   "language": "python",
   "name": "python3"
  },
  "language_info": {
   "codemirror_mode": {
    "name": "ipython",
    "version": 3
   },
   "file_extension": ".py",
   "mimetype": "text/x-python",
   "name": "python",
   "nbconvert_exporter": "python",
   "pygments_lexer": "ipython3",
   "version": "3.7.10"
  },
  "nbsphinx": {
   "timeout": 600
  },
  "toc": {
   "base_numbering": 1,
   "nav_menu": {},
   "number_sections": true,
   "sideBar": true,
   "skip_h1_title": false,
   "title_cell": "Table of Contents",
   "title_sidebar": "Contents",
   "toc_cell": false,
   "toc_position": {},
   "toc_section_display": true,
   "toc_window_display": false
  },
  "varInspector": {
   "cols": {
    "lenName": 16,
    "lenType": 16,
    "lenVar": 40
   },
   "kernels_config": {
    "python": {
     "delete_cmd_postfix": "",
     "delete_cmd_prefix": "del ",
     "library": "var_list.py",
     "varRefreshCmd": "print(var_dic_list())"
    },
    "r": {
     "delete_cmd_postfix": ") ",
     "delete_cmd_prefix": "rm(",
     "library": "var_list.r",
     "varRefreshCmd": "cat(var_dic_list()) "
    }
   },
   "types_to_exclude": [
    "module",
    "function",
    "builtin_function_or_method",
    "instance",
    "_Feature"
   ],
   "window_display": false
  }
 },
 "nbformat": 4,
 "nbformat_minor": 2
}
