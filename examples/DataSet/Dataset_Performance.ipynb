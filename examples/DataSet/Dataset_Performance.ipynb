{
 "cells": [
  {
   "cell_type": "markdown",
   "metadata": {},
   "source": [
    "# DataSet Performance\n",
    "\n",
    "This notebook shows the trade-off between inserting data into a database row-by-row and as binary blobs. Inserting the data row-by-row means that we have direct access to all the data and may perform queries directly on the values of the data. On the other hand, as we shall see, this is much slower than inserting the data directly as binary blobs."
   ]
  },
  {
   "cell_type": "markdown",
   "metadata": {},
   "source": [
    "First, we choose a new location for the database to ensure that we don't add a bunch of benchmarking data to the default one."
   ]
  },
  {
   "cell_type": "code",
   "execution_count": 1,
   "metadata": {
    "execution": {
     "iopub.execute_input": "2021-05-25T05:03:26.711343Z",
     "iopub.status.busy": "2021-05-25T05:03:26.710388Z",
     "iopub.status.idle": "2021-05-25T05:03:27.963611Z",
     "shell.execute_reply": "2021-05-25T05:03:27.962978Z"
    }
   },
   "outputs": [
    {
     "name": "stdout",
     "output_type": "stream",
     "text": [
      "Logging hadn't been started.\n",
      "Activating auto-logging. Current session state plus future input saved.\n",
      "Filename       : /home/runner/.qcodes/logs/command_history.log\n",
      "Mode           : append\n",
      "Output logging : True\n",
      "Raw input log  : False\n",
      "Timestamping   : True\n",
      "State          : active\n"
     ]
    },
    {
     "name": "stdout",
     "output_type": "stream",
     "text": [
      "Qcodes Logfile : /home/runner/.qcodes/logs/210525-4495-qcodes.log\n"
     ]
    }
   ],
   "source": [
    "import os\n",
    "cwd = os.getcwd()\n",
    "import qcodes as qc\n",
    "qc.config[\"core\"][\"db_location\"] = os.path.join(cwd, 'testing.db')\n"
   ]
  },
  {
   "cell_type": "code",
   "execution_count": 2,
   "metadata": {
    "execution": {
     "iopub.execute_input": "2021-05-25T05:03:27.970900Z",
     "iopub.status.busy": "2021-05-25T05:03:27.969787Z",
     "iopub.status.idle": "2021-05-25T05:03:28.182937Z",
     "shell.execute_reply": "2021-05-25T05:03:28.181912Z"
    }
   },
   "outputs": [],
   "source": [
    "%matplotlib inline\n",
    "import time\n",
    "import matplotlib.pyplot as plt\n",
    "import numpy as np\n",
    "\n",
    "import qcodes as qc\n",
    "from qcodes.instrument.parameter import ManualParameter\n",
    "from qcodes.dataset.experiment_container import (Experiment,\n",
    "                                                 load_last_experiment,\n",
    "                                                 new_experiment)\n",
    "from qcodes.dataset.sqlite.database import initialise_database\n",
    "from qcodes import load_or_create_experiment\n",
    "from qcodes.dataset.measurements import Measurement"
   ]
  },
  {
   "cell_type": "code",
   "execution_count": 3,
   "metadata": {
    "execution": {
     "iopub.execute_input": "2021-05-25T05:03:28.187625Z",
     "iopub.status.busy": "2021-05-25T05:03:28.186925Z",
     "iopub.status.idle": "2021-05-25T05:03:28.270952Z",
     "shell.execute_reply": "2021-05-25T05:03:28.271435Z"
    }
   },
   "outputs": [
    {
     "name": "stdout",
     "output_type": "stream",
     "text": [
      "\r",
      "0it [00:00, ?it/s]"
     ]
    },
    {
     "name": "stdout",
     "output_type": "stream",
     "text": [
      "\r",
      "Upgrading database; v0 -> v1: : 0it [00:00, ?it/s]"
     ]
    },
    {
     "name": "stdout",
     "output_type": "stream",
     "text": [
      "\r",
      "Upgrading database; v0 -> v1: : 0it [00:00, ?it/s]"
     ]
    },
    {
     "name": "stdout",
     "output_type": "stream",
     "text": [
      "\n",
      "\r",
      "  0%|          | 0/1 [00:00<?, ?it/s]"
     ]
    },
    {
     "name": "stdout",
     "output_type": "stream",
     "text": [
      "\r",
      "Upgrading database; v1 -> v2:   0%|          | 0/1 [00:00<?, ?it/s]"
     ]
    },
    {
     "name": "stdout",
     "output_type": "stream",
     "text": [
      "\r",
      "Upgrading database; v1 -> v2: 100%|██████████| 1/1 [00:00<00:00, 292.94it/s]"
     ]
    },
    {
     "name": "stdout",
     "output_type": "stream",
     "text": [
      "\n",
      "\r",
      "0it [00:00, ?it/s]"
     ]
    },
    {
     "name": "stdout",
     "output_type": "stream",
     "text": [
      "\r",
      "Upgrading database; v2 -> v3: : 0it [00:00, ?it/s]"
     ]
    },
    {
     "name": "stdout",
     "output_type": "stream",
     "text": [
      "\r",
      "Upgrading database; v2 -> v3: : 0it [00:00, ?it/s]"
     ]
    },
    {
     "name": "stdout",
     "output_type": "stream",
     "text": [
      "\n",
      "\r",
      "0it [00:00, ?it/s]"
     ]
    },
    {
     "name": "stdout",
     "output_type": "stream",
     "text": [
      "\r",
      "Upgrading database; v3 -> v4: : 0it [00:00, ?it/s]"
     ]
    },
    {
     "name": "stdout",
     "output_type": "stream",
     "text": [
      "\r",
      "Upgrading database; v3 -> v4: : 0it [00:00, ?it/s]"
     ]
    },
    {
     "name": "stdout",
     "output_type": "stream",
     "text": [
      "\n",
      "\r",
      "  0%|          | 0/1 [00:00<?, ?it/s]"
     ]
    },
    {
     "name": "stdout",
     "output_type": "stream",
     "text": [
      "\r",
      "Upgrading database; v4 -> v5:   0%|          | 0/1 [00:00<?, ?it/s]"
     ]
    },
    {
     "name": "stdout",
     "output_type": "stream",
     "text": [
      "\r",
      "Upgrading database; v4 -> v5: 100%|██████████| 1/1 [00:00<00:00, 508.65it/s]"
     ]
    },
    {
     "name": "stdout",
     "output_type": "stream",
     "text": [
      "\n",
      "\r",
      "0it [00:00, ?it/s]"
     ]
    },
    {
     "name": "stdout",
     "output_type": "stream",
     "text": [
      "\r",
      "Upgrading database; v5 -> v6: : 0it [00:00, ?it/s]"
     ]
    },
    {
     "name": "stdout",
     "output_type": "stream",
     "text": [
      "\r",
      "Upgrading database; v5 -> v6: : 0it [00:00, ?it/s]"
     ]
    },
    {
     "name": "stdout",
     "output_type": "stream",
     "text": [
      "\n",
      "\r",
      "  0%|          | 0/1 [00:00<?, ?it/s]"
     ]
    },
    {
     "name": "stdout",
     "output_type": "stream",
     "text": [
      "\r",
      "Upgrading database; v6 -> v7:   0%|          | 0/1 [00:00<?, ?it/s]"
     ]
    },
    {
     "name": "stdout",
     "output_type": "stream",
     "text": [
      "\r",
      "Upgrading database; v6 -> v7: 100%|██████████| 1/1 [00:00<00:00, 228.98it/s]"
     ]
    },
    {
     "name": "stdout",
     "output_type": "stream",
     "text": [
      "\n",
      "\r",
      "  0%|          | 0/1 [00:00<?, ?it/s]"
     ]
    },
    {
     "name": "stdout",
     "output_type": "stream",
     "text": [
      "\r",
      "Upgrading database; v7 -> v8:   0%|          | 0/1 [00:00<?, ?it/s]"
     ]
    },
    {
     "name": "stdout",
     "output_type": "stream",
     "text": [
      "\r",
      "Upgrading database; v7 -> v8: 100%|██████████| 1/1 [00:00<00:00, 878.57it/s]"
     ]
    },
    {
     "name": "stdout",
     "output_type": "stream",
     "text": [
      "\n",
      "\r",
      "  0%|          | 0/1 [00:00<?, ?it/s]"
     ]
    },
    {
     "name": "stdout",
     "output_type": "stream",
     "text": [
      "\r",
      "Upgrading database; v8 -> v9:   0%|          | 0/1 [00:00<?, ?it/s]"
     ]
    },
    {
     "name": "stdout",
     "output_type": "stream",
     "text": [
      "\r",
      "Upgrading database; v8 -> v9: 100%|██████████| 1/1 [00:00<00:00, 415.32it/s]"
     ]
    },
    {
     "name": "stdout",
     "output_type": "stream",
     "text": [
      "\n"
     ]
    }
   ],
   "source": [
    "initialise_database()\n",
    "exp = load_or_create_experiment(experiment_name='tutorial_exp', sample_name=\"no sample\")"
   ]
  },
  {
   "cell_type": "markdown",
   "metadata": {},
   "source": [
    "Here, we define a simple function to benchmark the time it takes to insert n points with either numeric or array data type.\n",
    "We will compare both the time used to call ``add_result`` and the time used for the full measurement."
   ]
  },
  {
   "cell_type": "code",
   "execution_count": 4,
   "metadata": {
    "execution": {
     "iopub.execute_input": "2021-05-25T05:03:28.280856Z",
     "iopub.status.busy": "2021-05-25T05:03:28.280271Z",
     "iopub.status.idle": "2021-05-25T05:03:28.284651Z",
     "shell.execute_reply": "2021-05-25T05:03:28.283986Z"
    }
   },
   "outputs": [],
   "source": [
    "def insert_data(paramtype, npoints, nreps=1):\n",
    "\n",
    "    meas = Measurement(exp=exp)\n",
    "\n",
    "    x1 = ManualParameter('x1')\n",
    "    x2 = ManualParameter('x2')\n",
    "    x3 = ManualParameter('x3')\n",
    "    y1 = ManualParameter('y1')\n",
    "    y2 = ManualParameter('y2')\n",
    "\n",
    "    meas.register_parameter(x1, paramtype=paramtype)\n",
    "    meas.register_parameter(x2, paramtype=paramtype)\n",
    "    meas.register_parameter(x3, paramtype=paramtype)\n",
    "    meas.register_parameter(y1, setpoints=[x1, x2, x3],\n",
    "                            paramtype=paramtype)\n",
    "    meas.register_parameter(y2, setpoints=[x1, x2, x3],\n",
    "                            paramtype=paramtype)\n",
    "    start = time.perf_counter()\n",
    "    with meas.run() as datasaver:\n",
    "        start_adding = time.perf_counter()\n",
    "        for i in range(nreps):\n",
    "            datasaver.add_result((x1, np.random.rand(npoints)),\n",
    "                                 (x2, np.random.rand(npoints)),\n",
    "                                 (x3, np.random.rand(npoints)),\n",
    "                                 (y1, np.random.rand(npoints)),\n",
    "                                 (y2, np.random.rand(npoints)))\n",
    "        stop_adding = time.perf_counter()\n",
    "        run_id = datasaver.run_id\n",
    "    stop = time.perf_counter()\n",
    "    tot_time = stop - start\n",
    "    add_time = stop_adding - start_adding\n",
    "    return tot_time, add_time, run_id"
   ]
  },
  {
   "cell_type": "markdown",
   "metadata": {},
   "source": [
    "## Comparison between numeric/array data and binary blob"
   ]
  },
  {
   "cell_type": "markdown",
   "metadata": {},
   "source": [
    "### Case1: Short experiment time"
   ]
  },
  {
   "cell_type": "code",
   "execution_count": 5,
   "metadata": {
    "execution": {
     "iopub.execute_input": "2021-05-25T05:03:28.291659Z",
     "iopub.status.busy": "2021-05-25T05:03:28.290419Z",
     "iopub.status.idle": "2021-05-25T05:03:29.191265Z",
     "shell.execute_reply": "2021-05-25T05:03:29.192091Z"
    }
   },
   "outputs": [
    {
     "name": "stdout",
     "output_type": "stream",
     "text": [
      "Starting experimental run with id: 1. \n",
      "Starting experimental run with id: 2. \n",
      "Starting experimental run with id: 3. \n"
     ]
    },
    {
     "name": "stdout",
     "output_type": "stream",
     "text": [
      "Starting experimental run with id: 4. "
     ]
    },
    {
     "name": "stdout",
     "output_type": "stream",
     "text": [
      "\n"
     ]
    },
    {
     "name": "stdout",
     "output_type": "stream",
     "text": [
      "Starting experimental run with id: 5. \n"
     ]
    },
    {
     "name": "stdout",
     "output_type": "stream",
     "text": [
      "Starting experimental run with id: 6. \n",
      "Starting experimental run with id: 7. \n",
      "Starting experimental run with id: 8. \n"
     ]
    },
    {
     "name": "stdout",
     "output_type": "stream",
     "text": [
      "Starting experimental run with id: 9. \n"
     ]
    },
    {
     "name": "stdout",
     "output_type": "stream",
     "text": [
      "Starting experimental run with id: 10. \n",
      "Starting experimental run with id: 11. \n"
     ]
    },
    {
     "name": "stdout",
     "output_type": "stream",
     "text": [
      "Starting experimental run with id: 12. \n"
     ]
    },
    {
     "name": "stdout",
     "output_type": "stream",
     "text": [
      "Starting experimental run with id: 13. \n"
     ]
    },
    {
     "name": "stdout",
     "output_type": "stream",
     "text": [
      "Starting experimental run with id: 14. \n"
     ]
    }
   ],
   "source": [
    "sizes = [1,500,1000,2000,3000,4000,5000]\n",
    "t_numeric = []\n",
    "t_numeric_add = []\n",
    "t_array = []\n",
    "t_array_add = []\n",
    "for size in sizes:\n",
    "    tn, tna, run_id_n =  insert_data('numeric', size)\n",
    "    t_numeric.append(tn)\n",
    "    t_numeric_add.append(tna)\n",
    "\n",
    "    ta, taa, run_id_a =  insert_data('array', size)\n",
    "    t_array.append(ta)\n",
    "    t_array_add.append(taa)"
   ]
  },
  {
   "cell_type": "code",
   "execution_count": 6,
   "metadata": {
    "execution": {
     "iopub.execute_input": "2021-05-25T05:03:29.215025Z",
     "iopub.status.busy": "2021-05-25T05:03:29.210898Z",
     "iopub.status.idle": "2021-05-25T05:03:29.458219Z",
     "shell.execute_reply": "2021-05-25T05:03:29.457731Z"
    }
   },
   "outputs": [
    {
     "data": {
      "image/png": "[encoded data removed]",
      "text/plain": [
       "<Figure size 432x288 with 1 Axes>"
      ]
     },
     "metadata": {
      "needs_background": "light"
     },
     "output_type": "display_data"
    }
   ],
   "source": [
    "fig, ax = plt.subplots(1,1)\n",
    "ax.plot(sizes, t_numeric, 'o-', label='Inserting row-by-row')\n",
    "ax.plot(sizes, t_numeric_add, 'o-', label='Inserting row-by-row: add_result only')\n",
    "ax.plot(sizes, t_array, 'd-', label='Inserting as binary blob')\n",
    "ax.plot(sizes, t_array_add, 'd-', label='Inserting as binary blob: add_result only')\n",
    "ax.legend()\n",
    "ax.set_xlabel('Array length')\n",
    "ax.set_ylabel('Time (s)')\n",
    "fig.tight_layout()"
   ]
  },
  {
   "cell_type": "markdown",
   "metadata": {},
   "source": [
    "As shown in the latter figure, the time to setup and and close the experiment is approximately 0.4 sec. In case of small array sizes, the difference between inserting values of data as arrays and inserting them row-by-row is relatively unimportant. At larger array sizes, i.e. above 10000 points, the cost of writing data as individual datapoints starts to become important.\n"
   ]
  },
  {
   "cell_type": "markdown",
   "metadata": {},
   "source": [
    "### Case2: Long experiment time "
   ]
  },
  {
   "cell_type": "code",
   "execution_count": 7,
   "metadata": {
    "execution": {
     "iopub.execute_input": "2021-05-25T05:03:29.465596Z",
     "iopub.status.busy": "2021-05-25T05:03:29.464277Z",
     "iopub.status.idle": "2021-05-25T05:04:28.988572Z",
     "shell.execute_reply": "2021-05-25T05:04:28.988033Z"
    }
   },
   "outputs": [
    {
     "name": "stdout",
     "output_type": "stream",
     "text": [
      "Starting experimental run with id: 15. \n",
      "Starting experimental run with id: 16. \n",
      "Starting experimental run with id: 17. \n"
     ]
    },
    {
     "name": "stdout",
     "output_type": "stream",
     "text": [
      "Starting experimental run with id: 18. \n"
     ]
    },
    {
     "name": "stdout",
     "output_type": "stream",
     "text": [
      "Starting experimental run with id: 19. \n"
     ]
    },
    {
     "name": "stdout",
     "output_type": "stream",
     "text": [
      "Starting experimental run with id: 20. \n"
     ]
    },
    {
     "name": "stdout",
     "output_type": "stream",
     "text": [
      "Starting experimental run with id: 21. \n"
     ]
    },
    {
     "name": "stdout",
     "output_type": "stream",
     "text": [
      "Starting experimental run with id: 22. \n"
     ]
    },
    {
     "name": "stdout",
     "output_type": "stream",
     "text": [
      "Starting experimental run with id: 23. \n"
     ]
    },
    {
     "name": "stdout",
     "output_type": "stream",
     "text": [
      "Starting experimental run with id: 24. \n"
     ]
    },
    {
     "name": "stdout",
     "output_type": "stream",
     "text": [
      "Starting experimental run with id: 25. \n"
     ]
    },
    {
     "name": "stdout",
     "output_type": "stream",
     "text": [
      "Starting experimental run with id: 26. \n"
     ]
    },
    {
     "name": "stdout",
     "output_type": "stream",
     "text": [
      "Starting experimental run with id: 27. \n"
     ]
    },
    {
     "name": "stdout",
     "output_type": "stream",
     "text": [
      "Starting experimental run with id: 28. \n"
     ]
    }
   ],
   "source": [
    "sizes = [1,500,1000,2000,3000,4000,5000]\n",
    "nreps = 100\n",
    "t_numeric = []\n",
    "t_numeric_add = []\n",
    "t_numeric_run_ids = []\n",
    "t_array = []\n",
    "t_array_add = []\n",
    "t_array_run_ids = []\n",
    "for size in sizes:\n",
    "    tn, tna, run_id_n =  insert_data('numeric', size, nreps=nreps)\n",
    "    t_numeric.append(tn)\n",
    "    t_numeric_add.append(tna)\n",
    "    t_numeric_run_ids.append(run_id_n)\n",
    "\n",
    "    ta, taa, run_id_a =  insert_data('array', size, nreps=nreps)\n",
    "    t_array.append(ta)\n",
    "    t_array_add.append(taa)\n",
    "    t_array_run_ids.append(run_id_a)"
   ]
  },
  {
   "cell_type": "code",
   "execution_count": 8,
   "metadata": {
    "execution": {
     "iopub.execute_input": "2021-05-25T05:04:29.008471Z",
     "iopub.status.busy": "2021-05-25T05:04:28.994191Z",
     "iopub.status.idle": "2021-05-25T05:04:29.217058Z",
     "shell.execute_reply": "2021-05-25T05:04:29.216548Z"
    },
    "scrolled": true
   },
   "outputs": [
    {
     "data": {
      "image/png": "[encoded data removed]",
      "text/plain": [
       "<Figure size 432x288 with 1 Axes>"
      ]
     },
     "metadata": {
      "needs_background": "light"
     },
     "output_type": "display_data"
    }
   ],
   "source": [
    "fig, ax = plt.subplots(1,1)\n",
    "ax.plot(sizes, t_numeric, 'o-', label='Inserting row-by-row')\n",
    "ax.plot(sizes, t_numeric_add, 'o-', label='Inserting row-by-row: add_result only')\n",
    "ax.plot(sizes, t_array, 'd-', label='Inserting as binary blob')\n",
    "ax.plot(sizes, t_array_add, 'd-', label='Inserting as binary blob: add_result only')\n",
    "ax.legend()\n",
    "ax.set_xlabel('Array length')\n",
    "ax.set_ylabel('Time (s)')\n",
    "fig.tight_layout()"
   ]
  },
  {
   "cell_type": "markdown",
   "metadata": {},
   "source": [
    "However, as we increase the length of the experiment, as seen here by repeating the insertion 100 times, we see a big difference between inserting values of the data row-by-row and inserting it as a binary blob."
   ]
  },
  {
   "cell_type": "markdown",
   "metadata": {},
   "source": [
    "## Loading the data "
   ]
  },
  {
   "cell_type": "code",
   "execution_count": 9,
   "metadata": {
    "execution": {
     "iopub.execute_input": "2021-05-25T05:04:29.222331Z",
     "iopub.status.busy": "2021-05-25T05:04:29.221797Z",
     "iopub.status.idle": "2021-05-25T05:04:29.225382Z",
     "shell.execute_reply": "2021-05-25T05:04:29.224856Z"
    }
   },
   "outputs": [],
   "source": [
    "from qcodes.dataset.data_set import load_by_id"
   ]
  },
  {
   "cell_type": "markdown",
   "metadata": {},
   "source": [
    "As usual you can load the data by using the ``load_by_id`` function but you will notice that the different storage methods\n",
    "are reflected in shape of the data as it is retrieved. "
   ]
  },
  {
   "cell_type": "code",
   "execution_count": 10,
   "metadata": {
    "execution": {
     "iopub.execute_input": "2021-05-25T05:04:29.230114Z",
     "iopub.status.busy": "2021-05-25T05:04:29.228804Z",
     "iopub.status.idle": "2021-05-25T05:04:29.230775Z",
     "shell.execute_reply": "2021-05-25T05:04:29.231272Z"
    }
   },
   "outputs": [],
   "source": [
    "run_id_n = t_numeric_run_ids[0]\n",
    "run_id_a = t_array_run_ids[0]"
   ]
  },
  {
   "cell_type": "code",
   "execution_count": 11,
   "metadata": {
    "execution": {
     "iopub.execute_input": "2021-05-25T05:04:29.234784Z",
     "iopub.status.busy": "2021-05-25T05:04:29.234229Z",
     "iopub.status.idle": "2021-05-25T05:04:29.243562Z",
     "shell.execute_reply": "2021-05-25T05:04:29.243973Z"
    },
    "scrolled": true
   },
   "outputs": [
    {
     "data": {
      "text/plain": [
       "{'x1': {'x1': array([0.40969567, 0.40969567, 0.20159508, 0.20159508, 0.55132091,\n",
       "         0.55132091, 0.06276239, 0.06276239, 0.9654769 , 0.9654769 ,\n",
       "         0.09280085, 0.09280085, 0.91273785, 0.91273785, 0.72946888,\n",
       "         0.72946888, 0.5947544 , 0.5947544 , 0.28989895, 0.28989895,\n",
       "         0.1833859 , 0.1833859 , 0.05062686, 0.05062686, 0.7759547 ,\n",
       "         0.7759547 , 0.30093252, 0.30093252, 0.52961592, 0.52961592,\n",
       "         0.04034077, 0.04034077, 0.04072239, 0.04072239, 0.08429908,\n",
       "         0.08429908, 0.25226583, 0.25226583, 0.29620705, 0.29620705,\n",
       "         0.04364175, 0.04364175, 0.70167443, 0.70167443, 0.60947256,\n",
       "         0.60947256, 0.33482268, 0.33482268, 0.64401385, 0.64401385,\n",
       "         0.67324987, 0.67324987, 0.27090867, 0.27090867, 0.23500988,\n",
       "         0.23500988, 0.38172677, 0.38172677, 0.96458243, 0.96458243,\n",
       "         0.44052499, 0.44052499, 0.81631721, 0.81631721, 0.29197683,\n",
       "         0.29197683, 0.94039484, 0.94039484, 0.18410842, 0.18410842,\n",
       "         0.21389823, 0.21389823, 0.35207326, 0.35207326, 0.50793147,\n",
       "         0.50793147, 0.84128057, 0.84128057, 0.20015583, 0.20015583,\n",
       "         0.23103258, 0.23103258, 0.8141351 , 0.8141351 , 0.16928727,\n",
       "         0.16928727, 0.83939658, 0.83939658, 0.42903538, 0.42903538,\n",
       "         0.38247568, 0.38247568, 0.21717344, 0.21717344, 0.46842824,\n",
       "         0.46842824, 0.39297186, 0.39297186, 0.74683498, 0.74683498,\n",
       "         0.98133004, 0.98133004, 0.39625612, 0.39625612, 0.36047706,\n",
       "         0.36047706, 0.2270555 , 0.2270555 , 0.48224683, 0.48224683,\n",
       "         0.94995008, 0.94995008, 0.95978687, 0.95978687, 0.02226811,\n",
       "         0.02226811, 0.78935144, 0.78935144, 0.359512  , 0.359512  ,\n",
       "         0.42450174, 0.42450174, 0.97253861, 0.97253861, 0.31924307,\n",
       "         0.31924307, 0.89126888, 0.89126888, 0.539959  , 0.539959  ,\n",
       "         0.89864869, 0.89864869, 0.62227641, 0.62227641, 0.92909017,\n",
       "         0.92909017, 0.37261811, 0.37261811, 0.57447406, 0.57447406,\n",
       "         0.80649778, 0.80649778, 0.57117381, 0.57117381, 0.68050749,\n",
       "         0.68050749, 0.84175454, 0.84175454, 0.17609243, 0.17609243,\n",
       "         0.10875643, 0.10875643, 0.29630595, 0.29630595, 0.15867983,\n",
       "         0.15867983, 0.29732741, 0.29732741, 0.18369271, 0.18369271,\n",
       "         0.26920016, 0.26920016, 0.54250823, 0.54250823, 0.20704306,\n",
       "         0.20704306, 0.82270085, 0.82270085, 0.36199553, 0.36199553,\n",
       "         0.29684302, 0.29684302, 0.07365989, 0.07365989, 0.69629221,\n",
       "         0.69629221, 0.86834925, 0.86834925, 0.44525278, 0.44525278,\n",
       "         0.10546245, 0.10546245, 0.30297818, 0.30297818, 0.5518241 ,\n",
       "         0.5518241 , 0.09729385, 0.09729385, 0.42231757, 0.42231757,\n",
       "         0.36417652, 0.36417652, 0.44954687, 0.44954687, 0.21999135,\n",
       "         0.21999135, 0.43360581, 0.43360581, 0.26084141, 0.26084141])}}"
      ]
     },
     "execution_count": 1,
     "metadata": {},
     "output_type": "execute_result"
    }
   ],
   "source": [
    "ds = load_by_id(run_id_n)\n",
    "ds.get_parameter_data('x1')"
   ]
  },
  {
   "cell_type": "markdown",
   "metadata": {},
   "source": [
    "And a dataset stored as binary arrays"
   ]
  },
  {
   "cell_type": "code",
   "execution_count": 12,
   "metadata": {
    "execution": {
     "iopub.execute_input": "2021-05-25T05:04:29.247406Z",
     "iopub.status.busy": "2021-05-25T05:04:29.246851Z",
     "iopub.status.idle": "2021-05-25T05:04:29.308533Z",
     "shell.execute_reply": "2021-05-25T05:04:29.308928Z"
    },
    "scrolled": true
   },
   "outputs": [
    {
     "data": {
      "text/plain": [
       "{'x1': {'x1': array([[0.49772957],\n",
       "         [0.49772957],\n",
       "         [0.47463004],\n",
       "         [0.47463004],\n",
       "         [0.26713653],\n",
       "         [0.26713653],\n",
       "         [0.02951018],\n",
       "         [0.02951018],\n",
       "         [0.71557951],\n",
       "         [0.71557951],\n",
       "         [0.07063459],\n",
       "         [0.07063459],\n",
       "         [0.19435604],\n",
       "         [0.19435604],\n",
       "         [0.22821635],\n",
       "         [0.22821635],\n",
       "         [0.69183401],\n",
       "         [0.69183401],\n",
       "         [0.67755833],\n",
       "         [0.67755833],\n",
       "         [0.2231114 ],\n",
       "         [0.2231114 ],\n",
       "         [0.1993196 ],\n",
       "         [0.1993196 ],\n",
       "         [0.22536972],\n",
       "         [0.22536972],\n",
       "         [0.0931964 ],\n",
       "         [0.0931964 ],\n",
       "         [0.51113717],\n",
       "         [0.51113717],\n",
       "         [0.18380851],\n",
       "         [0.18380851],\n",
       "         [0.60876758],\n",
       "         [0.60876758],\n",
       "         [0.82504742],\n",
       "         [0.82504742],\n",
       "         [0.6690989 ],\n",
       "         [0.6690989 ],\n",
       "         [0.89525359],\n",
       "         [0.89525359],\n",
       "         [0.33900943],\n",
       "         [0.33900943],\n",
       "         [0.9371324 ],\n",
       "         [0.9371324 ],\n",
       "         [0.20210977],\n",
       "         [0.20210977],\n",
       "         [0.06427912],\n",
       "         [0.06427912],\n",
       "         [0.22379687],\n",
       "         [0.22379687],\n",
       "         [0.91621625],\n",
       "         [0.91621625],\n",
       "         [0.00701481],\n",
       "         [0.00701481],\n",
       "         [0.00792403],\n",
       "         [0.00792403],\n",
       "         [0.18383355],\n",
       "         [0.18383355],\n",
       "         [0.18685515],\n",
       "         [0.18685515],\n",
       "         [0.92297905],\n",
       "         [0.92297905],\n",
       "         [0.7238389 ],\n",
       "         [0.7238389 ],\n",
       "         [0.47638128],\n",
       "         [0.47638128],\n",
       "         [0.5954513 ],\n",
       "         [0.5954513 ],\n",
       "         [0.89597016],\n",
       "         [0.89597016],\n",
       "         [0.43754425],\n",
       "         [0.43754425],\n",
       "         [0.29606753],\n",
       "         [0.29606753],\n",
       "         [0.26515552],\n",
       "         [0.26515552],\n",
       "         [0.90417987],\n",
       "         [0.90417987],\n",
       "         [0.94380336],\n",
       "         [0.94380336],\n",
       "         [0.15386526],\n",
       "         [0.15386526],\n",
       "         [0.9854196 ],\n",
       "         [0.9854196 ],\n",
       "         [0.40066205],\n",
       "         [0.40066205],\n",
       "         [0.22000985],\n",
       "         [0.22000985],\n",
       "         [0.05033955],\n",
       "         [0.05033955],\n",
       "         [0.96704102],\n",
       "         [0.96704102],\n",
       "         [0.36147534],\n",
       "         [0.36147534],\n",
       "         [0.98407111],\n",
       "         [0.98407111],\n",
       "         [0.46815844],\n",
       "         [0.46815844],\n",
       "         [0.44641705],\n",
       "         [0.44641705],\n",
       "         [0.32934638],\n",
       "         [0.32934638],\n",
       "         [0.63798936],\n",
       "         [0.63798936],\n",
       "         [0.49623691],\n",
       "         [0.49623691],\n",
       "         [0.16640886],\n",
       "         [0.16640886],\n",
       "         [0.90999308],\n",
       "         [0.90999308],\n",
       "         [0.07433785],\n",
       "         [0.07433785],\n",
       "         [0.68159906],\n",
       "         [0.68159906],\n",
       "         [0.43736101],\n",
       "         [0.43736101],\n",
       "         [0.0836231 ],\n",
       "         [0.0836231 ],\n",
       "         [0.81965274],\n",
       "         [0.81965274],\n",
       "         [0.6468652 ],\n",
       "         [0.6468652 ],\n",
       "         [0.48756645],\n",
       "         [0.48756645],\n",
       "         [0.00923605],\n",
       "         [0.00923605],\n",
       "         [0.11498334],\n",
       "         [0.11498334],\n",
       "         [0.37400455],\n",
       "         [0.37400455],\n",
       "         [0.204627  ],\n",
       "         [0.204627  ],\n",
       "         [0.44072343],\n",
       "         [0.44072343],\n",
       "         [0.34628981],\n",
       "         [0.34628981],\n",
       "         [0.01112847],\n",
       "         [0.01112847],\n",
       "         [0.66320368],\n",
       "         [0.66320368],\n",
       "         [0.50325129],\n",
       "         [0.50325129],\n",
       "         [0.82329325],\n",
       "         [0.82329325],\n",
       "         [0.31289907],\n",
       "         [0.31289907],\n",
       "         [0.69021159],\n",
       "         [0.69021159],\n",
       "         [0.0208583 ],\n",
       "         [0.0208583 ],\n",
       "         [0.61089984],\n",
       "         [0.61089984],\n",
       "         [0.56053138],\n",
       "         [0.56053138],\n",
       "         [0.6742288 ],\n",
       "         [0.6742288 ],\n",
       "         [0.57831039],\n",
       "         [0.57831039],\n",
       "         [0.58744805],\n",
       "         [0.58744805],\n",
       "         [0.46892024],\n",
       "         [0.46892024],\n",
       "         [0.15729354],\n",
       "         [0.15729354],\n",
       "         [0.30571602],\n",
       "         [0.30571602],\n",
       "         [0.78761294],\n",
       "         [0.78761294],\n",
       "         [0.16480087],\n",
       "         [0.16480087],\n",
       "         [0.27646317],\n",
       "         [0.27646317],\n",
       "         [0.97174109],\n",
       "         [0.97174109],\n",
       "         [0.12316736],\n",
       "         [0.12316736],\n",
       "         [0.48746559],\n",
       "         [0.48746559],\n",
       "         [0.2986937 ],\n",
       "         [0.2986937 ],\n",
       "         [0.2198974 ],\n",
       "         [0.2198974 ],\n",
       "         [0.13466726],\n",
       "         [0.13466726],\n",
       "         [0.36933323],\n",
       "         [0.36933323],\n",
       "         [0.272687  ],\n",
       "         [0.272687  ],\n",
       "         [0.99895302],\n",
       "         [0.99895302],\n",
       "         [0.96902404],\n",
       "         [0.96902404],\n",
       "         [0.5734898 ],\n",
       "         [0.5734898 ],\n",
       "         [0.45189874],\n",
       "         [0.45189874],\n",
       "         [0.31967645],\n",
       "         [0.31967645],\n",
       "         [0.24678092],\n",
       "         [0.24678092]])}}"
      ]
     },
     "execution_count": 1,
     "metadata": {},
     "output_type": "execute_result"
    }
   ],
   "source": [
    "ds = load_by_id(run_id_a)\n",
    "ds.get_parameter_data('x1')"
   ]
  },
  {
   "cell_type": "code",
   "execution_count": null,
   "metadata": {},
   "outputs": [],
   "source": []
  }
 ],
 "metadata": {
  "kernelspec": {
   "display_name": "Python 3",
   "language": "python",
   "name": "python3"
  },
  "language_info": {
   "codemirror_mode": {
    "name": "ipython",
    "version": 3
   },
   "file_extension": ".py",
   "mimetype": "text/x-python",
   "name": "python",
   "nbconvert_exporter": "python",
   "pygments_lexer": "ipython3",
   "version": "3.7.10"
  },
  "nbsphinx": {
   "timeout": 600
  },
  "toc": {
   "base_numbering": 1,
   "nav_menu": {},
   "number_sections": true,
   "sideBar": true,
   "skip_h1_title": false,
   "title_cell": "Table of Contents",
   "title_sidebar": "Contents",
   "toc_cell": false,
   "toc_position": {},
   "toc_section_display": true,
   "toc_window_display": false
  },
  "varInspector": {
   "cols": {
    "lenName": 16,
    "lenType": 16,
    "lenVar": 40
   },
   "kernels_config": {
    "python": {
     "delete_cmd_postfix": "",
     "delete_cmd_prefix": "del ",
     "library": "var_list.py",
     "varRefreshCmd": "print(var_dic_list())"
    },
    "r": {
     "delete_cmd_postfix": ") ",
     "delete_cmd_prefix": "rm(",
     "library": "var_list.r",
     "varRefreshCmd": "cat(var_dic_list()) "
    }
   },
   "types_to_exclude": [
    "module",
    "function",
    "builtin_function_or_method",
    "instance",
    "_Feature"
   ],
   "window_display": false
  }
 },
 "nbformat": 4,
 "nbformat_minor": 4
}
