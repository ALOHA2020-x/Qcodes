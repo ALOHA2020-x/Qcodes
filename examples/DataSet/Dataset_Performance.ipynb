{
 "cells": [
  {
   "cell_type": "markdown",
   "metadata": {},
   "source": [
    "# DataSet Performance\n",
    "\n",
    "This notebook shows the trade-off between inserting data into a database row-by-row and as binary blobs. Inserting the data row-by-row means that we have direct access to all the data and may perform queries directly on the values of the data. On the other hand, as we shall see, this is much slower than inserting the data directly as binary blobs."
   ]
  },
  {
   "cell_type": "markdown",
   "metadata": {},
   "source": [
    "First, we choose a new location for the database to ensure that we don't add a bunch of benchmarking data to the default one."
   ]
  },
  {
   "cell_type": "code",
   "execution_count": 1,
   "metadata": {
    "execution": {
     "iopub.execute_input": "2020-10-01T17:07:00.506562Z",
     "iopub.status.busy": "2020-10-01T17:07:00.506025Z",
     "iopub.status.idle": "2020-10-01T17:07:01.487470Z",
     "shell.execute_reply": "2020-10-01T17:07:01.486767Z"
    }
   },
   "outputs": [
    {
     "name": "stdout",
     "output_type": "stream",
     "text": [
      "Logging hadn't been started.\n",
      "Activating auto-logging. Current session state plus future input saved.\n",
      "Filename       : /home/vsts/.qcodes/logs/command_history.log\n",
      "Mode           : append\n",
      "Output logging : True\n",
      "Raw input log  : False\n",
      "Timestamping   : True\n",
      "State          : active\n"
     ]
    },
    {
     "name": "stdout",
     "output_type": "stream",
     "text": [
      "Qcodes Logfile : /home/vsts/.qcodes/logs/201001-18926-qcodes.log\n"
     ]
    }
   ],
   "source": [
    "import os\n",
    "cwd = os.getcwd()\n",
    "import qcodes as qc\n",
    "qc.config[\"core\"][\"db_location\"] = os.path.join(cwd, 'testing.db')\n"
   ]
  },
  {
   "cell_type": "code",
   "execution_count": 2,
   "metadata": {
    "execution": {
     "iopub.execute_input": "2020-10-01T17:07:01.494456Z",
     "iopub.status.busy": "2020-10-01T17:07:01.492967Z",
     "iopub.status.idle": "2020-10-01T17:07:01.668008Z",
     "shell.execute_reply": "2020-10-01T17:07:01.667232Z"
    }
   },
   "outputs": [],
   "source": [
    "%matplotlib inline\n",
    "import time\n",
    "import matplotlib.pyplot as plt\n",
    "import numpy as np\n",
    "\n",
    "import qcodes as qc\n",
    "from qcodes.instrument.parameter import ManualParameter\n",
    "from qcodes.dataset.experiment_container import (Experiment,\n",
    "                                                 load_last_experiment,\n",
    "                                                 new_experiment)\n",
    "from qcodes.dataset.sqlite.database import initialise_database\n",
    "from qcodes import load_or_create_experiment\n",
    "from qcodes.dataset.measurements import Measurement"
   ]
  },
  {
   "cell_type": "code",
   "execution_count": 3,
   "metadata": {
    "execution": {
     "iopub.execute_input": "2020-10-01T17:07:01.672068Z",
     "iopub.status.busy": "2020-10-01T17:07:01.671448Z",
     "iopub.status.idle": "2020-10-01T17:07:01.782817Z",
     "shell.execute_reply": "2020-10-01T17:07:01.782367Z"
    }
   },
   "outputs": [
    {
     "name": "stdout",
     "output_type": "stream",
     "text": [
      "\r",
      "0it [00:00, ?it/s]"
     ]
    },
    {
     "name": "stdout",
     "output_type": "stream",
     "text": [
      "\r",
      "Upgrading database; v0 -> v1: : 0it [00:00, ?it/s]"
     ]
    },
    {
     "name": "stdout",
     "output_type": "stream",
     "text": [
      "\r",
      "Upgrading database; v0 -> v1: : 0it [00:00, ?it/s]"
     ]
    },
    {
     "name": "stdout",
     "output_type": "stream",
     "text": [
      "\n",
      "\r",
      "  0%|          | 0/1 [00:00<?, ?it/s]"
     ]
    },
    {
     "name": "stdout",
     "output_type": "stream",
     "text": [
      "\r",
      "Upgrading database; v1 -> v2:   0%|          | 0/1 [00:00<?, ?it/s]"
     ]
    },
    {
     "name": "stdout",
     "output_type": "stream",
     "text": [
      "\r",
      "Upgrading database; v1 -> v2: 100%|██████████| 1/1 [00:00<00:00, 441.51it/s]"
     ]
    },
    {
     "name": "stdout",
     "output_type": "stream",
     "text": [
      "\n",
      "\r",
      "0it [00:00, ?it/s]"
     ]
    },
    {
     "name": "stdout",
     "output_type": "stream",
     "text": [
      "\r",
      "Upgrading database; v2 -> v3: : 0it [00:00, ?it/s]"
     ]
    },
    {
     "name": "stdout",
     "output_type": "stream",
     "text": [
      "\r",
      "Upgrading database; v2 -> v3: : 0it [00:00, ?it/s]"
     ]
    },
    {
     "name": "stdout",
     "output_type": "stream",
     "text": [
      "\n",
      "\r",
      "0it [00:00, ?it/s]"
     ]
    },
    {
     "name": "stdout",
     "output_type": "stream",
     "text": [
      "\r",
      "Upgrading database; v3 -> v4: : 0it [00:00, ?it/s]"
     ]
    },
    {
     "name": "stdout",
     "output_type": "stream",
     "text": [
      "\r",
      "Upgrading database; v3 -> v4: : 0it [00:00, ?it/s]"
     ]
    },
    {
     "name": "stdout",
     "output_type": "stream",
     "text": [
      "\n",
      "\r",
      "  0%|          | 0/1 [00:00<?, ?it/s]"
     ]
    },
    {
     "name": "stdout",
     "output_type": "stream",
     "text": [
      "\r",
      "Upgrading database; v4 -> v5:   0%|          | 0/1 [00:00<?, ?it/s]"
     ]
    },
    {
     "name": "stdout",
     "output_type": "stream",
     "text": [
      "\r",
      "Upgrading database; v4 -> v5: 100%|██████████| 1/1 [00:00<00:00, 545.49it/s]"
     ]
    },
    {
     "name": "stdout",
     "output_type": "stream",
     "text": [
      "\n",
      "\r",
      "0it [00:00, ?it/s]"
     ]
    },
    {
     "name": "stdout",
     "output_type": "stream",
     "text": [
      "\r",
      "Upgrading database; v5 -> v6: : 0it [00:00, ?it/s]"
     ]
    },
    {
     "name": "stdout",
     "output_type": "stream",
     "text": [
      "\r",
      "Upgrading database; v5 -> v6: : 0it [00:00, ?it/s]"
     ]
    },
    {
     "name": "stdout",
     "output_type": "stream",
     "text": [
      "\n",
      "\r",
      "  0%|          | 0/1 [00:00<?, ?it/s]"
     ]
    },
    {
     "name": "stdout",
     "output_type": "stream",
     "text": [
      "\r",
      "Upgrading database; v6 -> v7:   0%|          | 0/1 [00:00<?, ?it/s]"
     ]
    },
    {
     "name": "stdout",
     "output_type": "stream",
     "text": [
      "\r",
      "Upgrading database; v6 -> v7: 100%|██████████| 1/1 [00:00<00:00, 322.89it/s]"
     ]
    },
    {
     "name": "stdout",
     "output_type": "stream",
     "text": [
      "\n",
      "\r",
      "  0%|          | 0/1 [00:00<?, ?it/s]"
     ]
    },
    {
     "name": "stdout",
     "output_type": "stream",
     "text": [
      "\r",
      "Upgrading database; v7 -> v8:   0%|          | 0/1 [00:00<?, ?it/s]"
     ]
    },
    {
     "name": "stdout",
     "output_type": "stream",
     "text": [
      "\r",
      "Upgrading database; v7 -> v8: 100%|██████████| 1/1 [00:00<00:00, 563.98it/s]"
     ]
    },
    {
     "name": "stdout",
     "output_type": "stream",
     "text": [
      "\n",
      "\r",
      "  0%|          | 0/1 [00:00<?, ?it/s]"
     ]
    },
    {
     "name": "stdout",
     "output_type": "stream",
     "text": [
      "\r",
      "Upgrading database; v8 -> v9:   0%|          | 0/1 [00:00<?, ?it/s]"
     ]
    },
    {
     "name": "stdout",
     "output_type": "stream",
     "text": [
      "\r",
      "Upgrading database; v8 -> v9: 100%|██████████| 1/1 [00:00<00:00, 534.31it/s]"
     ]
    },
    {
     "name": "stdout",
     "output_type": "stream",
     "text": [
      "\n"
     ]
    }
   ],
   "source": [
    "initialise_database()\n",
    "exp = load_or_create_experiment(experiment_name='tutorial_exp', sample_name=\"no sample\")"
   ]
  },
  {
   "cell_type": "markdown",
   "metadata": {},
   "source": [
    "Here, we define a simple function to benchmark the time it takes to insert n points with either numeric or array data type.\n",
    "We will compare both the time used to call ``add_result`` and the time used for the full measurement."
   ]
  },
  {
   "cell_type": "code",
   "execution_count": 4,
   "metadata": {
    "execution": {
     "iopub.execute_input": "2020-10-01T17:07:01.789497Z",
     "iopub.status.busy": "2020-10-01T17:07:01.788965Z",
     "iopub.status.idle": "2020-10-01T17:07:01.792466Z",
     "shell.execute_reply": "2020-10-01T17:07:01.791949Z"
    }
   },
   "outputs": [],
   "source": [
    "def insert_data(paramtype, npoints, nreps=1):\n",
    "\n",
    "    meas = Measurement(exp=exp)\n",
    "\n",
    "    x1 = ManualParameter('x1')\n",
    "    x2 = ManualParameter('x2')\n",
    "    x3 = ManualParameter('x3')\n",
    "    y1 = ManualParameter('y1')\n",
    "    y2 = ManualParameter('y2')\n",
    "\n",
    "    meas.register_parameter(x1, paramtype=paramtype)\n",
    "    meas.register_parameter(x2, paramtype=paramtype)\n",
    "    meas.register_parameter(x3, paramtype=paramtype)\n",
    "    meas.register_parameter(y1, setpoints=[x1, x2, x3],\n",
    "                            paramtype=paramtype)\n",
    "    meas.register_parameter(y2, setpoints=[x1, x2, x3],\n",
    "                            paramtype=paramtype)\n",
    "    start = time.perf_counter()\n",
    "    with meas.run() as datasaver:\n",
    "        start_adding = time.perf_counter()\n",
    "        for i in range(nreps):\n",
    "            datasaver.add_result((x1, np.random.rand(npoints)),\n",
    "                                 (x2, np.random.rand(npoints)),\n",
    "                                 (x3, np.random.rand(npoints)),\n",
    "                                 (y1, np.random.rand(npoints)),\n",
    "                                 (y2, np.random.rand(npoints)))\n",
    "        stop_adding = time.perf_counter()\n",
    "        run_id = datasaver.run_id\n",
    "    stop = time.perf_counter()\n",
    "    tot_time = stop - start\n",
    "    add_time = stop_adding - start_adding\n",
    "    return tot_time, add_time, run_id"
   ]
  },
  {
   "cell_type": "markdown",
   "metadata": {},
   "source": [
    "## Comparison between numeric/array data and binary blob"
   ]
  },
  {
   "cell_type": "markdown",
   "metadata": {},
   "source": [
    "### Case1: Short experiment time"
   ]
  },
  {
   "cell_type": "code",
   "execution_count": 5,
   "metadata": {
    "execution": {
     "iopub.execute_input": "2020-10-01T17:07:01.797984Z",
     "iopub.status.busy": "2020-10-01T17:07:01.797253Z",
     "iopub.status.idle": "2020-10-01T17:07:02.590229Z",
     "shell.execute_reply": "2020-10-01T17:07:02.590678Z"
    }
   },
   "outputs": [
    {
     "name": "stdout",
     "output_type": "stream",
     "text": [
      "Starting experimental run with id: 1. \n",
      "Starting experimental run with id: 2. \n",
      "Starting experimental run with id: 3. \n",
      "Starting experimental run with id: 4. \n",
      "Starting experimental run with id: 5. \n"
     ]
    },
    {
     "name": "stdout",
     "output_type": "stream",
     "text": [
      "Starting experimental run with id: 6. \n"
     ]
    },
    {
     "name": "stdout",
     "output_type": "stream",
     "text": [
      "Starting experimental run with id: 7. \n"
     ]
    },
    {
     "name": "stdout",
     "output_type": "stream",
     "text": [
      "Starting experimental run with id: 8. \n",
      "Starting experimental run with id: 9. \n"
     ]
    },
    {
     "name": "stdout",
     "output_type": "stream",
     "text": [
      "Starting experimental run with id: 10. \n",
      "Starting experimental run with id: 11. \n"
     ]
    },
    {
     "name": "stdout",
     "output_type": "stream",
     "text": [
      "Starting experimental run with id: 12. \n",
      "Starting experimental run with id: 13. \n"
     ]
    },
    {
     "name": "stdout",
     "output_type": "stream",
     "text": [
      "Starting experimental run with id: 14. \n"
     ]
    }
   ],
   "source": [
    "sizes = [1,500,1000,2000,3000,4000,5000]\n",
    "t_numeric = []\n",
    "t_numeric_add = []\n",
    "t_array = []\n",
    "t_array_add = []\n",
    "for size in sizes:\n",
    "    tn, tna, run_id_n =  insert_data('numeric', size)\n",
    "    t_numeric.append(tn)\n",
    "    t_numeric_add.append(tna)\n",
    "\n",
    "    ta, taa, run_id_a =  insert_data('array', size)\n",
    "    t_array.append(ta)\n",
    "    t_array_add.append(taa)"
   ]
  },
  {
   "cell_type": "code",
   "execution_count": 6,
   "metadata": {
    "execution": {
     "iopub.execute_input": "2020-10-01T17:07:02.608185Z",
     "iopub.status.busy": "2020-10-01T17:07:02.607402Z",
     "iopub.status.idle": "2020-10-01T17:07:02.824068Z",
     "shell.execute_reply": "2020-10-01T17:07:02.823210Z"
    }
   },
   "outputs": [
    {
     "data": {
      "image/png": "[encoded data removed]",
      "text/plain": [
       "<Figure size 432x288 with 1 Axes>"
      ]
     },
     "metadata": {
      "needs_background": "light"
     },
     "output_type": "display_data"
    }
   ],
   "source": [
    "fig, ax = plt.subplots(1,1)\n",
    "ax.plot(sizes, t_numeric, 'o-', label='Inserting row-by-row')\n",
    "ax.plot(sizes, t_numeric_add, 'o-', label='Inserting row-by-row: add_result only')\n",
    "ax.plot(sizes, t_array, 'd-', label='Inserting as binary blob')\n",
    "ax.plot(sizes, t_array_add, 'd-', label='Inserting as binary blob: add_result only')\n",
    "ax.legend()\n",
    "ax.set_xlabel('Array length')\n",
    "ax.set_ylabel('Time (s)')\n",
    "fig.tight_layout()"
   ]
  },
  {
   "cell_type": "markdown",
   "metadata": {},
   "source": [
    "As shown in the latter figure, the time to setup and and close the experiment is approximately 0.4 sec. In case of small array sizes, the difference between inserting values of data as arrays and inserting them row-by-row is relatively unimportant. At larger array sizes, i.e. above 10000 points, the cost of writing data as individual datapoints starts to become important.\n"
   ]
  },
  {
   "cell_type": "markdown",
   "metadata": {},
   "source": [
    "### Case2: Long experiment time "
   ]
  },
  {
   "cell_type": "code",
   "execution_count": 7,
   "metadata": {
    "execution": {
     "iopub.execute_input": "2020-10-01T17:07:02.830823Z",
     "iopub.status.busy": "2020-10-01T17:07:02.830210Z",
     "iopub.status.idle": "2020-10-01T17:07:57.065558Z",
     "shell.execute_reply": "2020-10-01T17:07:57.064792Z"
    }
   },
   "outputs": [
    {
     "name": "stdout",
     "output_type": "stream",
     "text": [
      "Starting experimental run with id: 15. \n",
      "Starting experimental run with id: 16. \n",
      "Starting experimental run with id: 17. \n"
     ]
    },
    {
     "name": "stdout",
     "output_type": "stream",
     "text": [
      "Starting experimental run with id: 18. \n",
      "Starting experimental run with id: 19. \n"
     ]
    },
    {
     "name": "stdout",
     "output_type": "stream",
     "text": [
      "Starting experimental run with id: 20. \n"
     ]
    },
    {
     "name": "stdout",
     "output_type": "stream",
     "text": [
      "Starting experimental run with id: 21. \n"
     ]
    },
    {
     "name": "stdout",
     "output_type": "stream",
     "text": [
      "Starting experimental run with id: 22. \n"
     ]
    },
    {
     "name": "stdout",
     "output_type": "stream",
     "text": [
      "Starting experimental run with id: 23. \n"
     ]
    },
    {
     "name": "stdout",
     "output_type": "stream",
     "text": [
      "Starting experimental run with id: 24. \n"
     ]
    },
    {
     "name": "stdout",
     "output_type": "stream",
     "text": [
      "Starting experimental run with id: 25. \n"
     ]
    },
    {
     "name": "stdout",
     "output_type": "stream",
     "text": [
      "Starting experimental run with id: 26. \n"
     ]
    },
    {
     "name": "stdout",
     "output_type": "stream",
     "text": [
      "Starting experimental run with id: 27. \n"
     ]
    },
    {
     "name": "stdout",
     "output_type": "stream",
     "text": [
      "Starting experimental run with id: 28. \n"
     ]
    }
   ],
   "source": [
    "sizes = [1,500,1000,2000,3000,4000,5000]\n",
    "nreps = 100\n",
    "t_numeric = []\n",
    "t_numeric_add = []\n",
    "t_numeric_run_ids = []\n",
    "t_array = []\n",
    "t_array_add = []\n",
    "t_array_run_ids = []\n",
    "for size in sizes:\n",
    "    tn, tna, run_id_n =  insert_data('numeric', size, nreps=nreps)\n",
    "    t_numeric.append(tn)\n",
    "    t_numeric_add.append(tna)\n",
    "    t_numeric_run_ids.append(run_id_n)\n",
    "\n",
    "    ta, taa, run_id_a =  insert_data('array', size, nreps=nreps)\n",
    "    t_array.append(ta)\n",
    "    t_array_add.append(taa)\n",
    "    t_array_run_ids.append(run_id_a)"
   ]
  },
  {
   "cell_type": "code",
   "execution_count": 8,
   "metadata": {
    "execution": {
     "iopub.execute_input": "2020-10-01T17:07:57.083332Z",
     "iopub.status.busy": "2020-10-01T17:07:57.082516Z",
     "iopub.status.idle": "2020-10-01T17:07:57.279428Z",
     "shell.execute_reply": "2020-10-01T17:07:57.279843Z"
    },
    "scrolled": true
   },
   "outputs": [
    {
     "data": {
      "image/png": "[encoded data removed]",
      "text/plain": [
       "<Figure size 432x288 with 1 Axes>"
      ]
     },
     "metadata": {
      "needs_background": "light"
     },
     "output_type": "display_data"
    }
   ],
   "source": [
    "fig, ax = plt.subplots(1,1)\n",
    "ax.plot(sizes, t_numeric, 'o-', label='Inserting row-by-row')\n",
    "ax.plot(sizes, t_numeric_add, 'o-', label='Inserting row-by-row: add_result only')\n",
    "ax.plot(sizes, t_array, 'd-', label='Inserting as binary blob')\n",
    "ax.plot(sizes, t_array_add, 'd-', label='Inserting as binary blob: add_result only')\n",
    "ax.legend()\n",
    "ax.set_xlabel('Array length')\n",
    "ax.set_ylabel('Time (s)')\n",
    "fig.tight_layout()"
   ]
  },
  {
   "cell_type": "markdown",
   "metadata": {},
   "source": [
    "However, as we increase the length of the experiment, as seen here by repeating the insertion 100 times, we see a big difference between inserting values of the data row-by-row and inserting it as a binary blob."
   ]
  },
  {
   "cell_type": "markdown",
   "metadata": {},
   "source": [
    "## Loading the data "
   ]
  },
  {
   "cell_type": "code",
   "execution_count": 9,
   "metadata": {
    "execution": {
     "iopub.execute_input": "2020-10-01T17:07:57.284806Z",
     "iopub.status.busy": "2020-10-01T17:07:57.283663Z",
     "iopub.status.idle": "2020-10-01T17:07:57.287342Z",
     "shell.execute_reply": "2020-10-01T17:07:57.287855Z"
    }
   },
   "outputs": [],
   "source": [
    "from qcodes.dataset.data_set import load_by_id\n",
    "from qcodes.dataset.data_export import get_data_by_id"
   ]
  },
  {
   "cell_type": "markdown",
   "metadata": {},
   "source": [
    "As usual you can load the data by using the ``load_by_id`` function but you will notice that the different storage methods\n",
    "are reflected in shape of the data as it is retrieved. "
   ]
  },
  {
   "cell_type": "code",
   "execution_count": 10,
   "metadata": {
    "execution": {
     "iopub.execute_input": "2020-10-01T17:07:57.291720Z",
     "iopub.status.busy": "2020-10-01T17:07:57.291223Z",
     "iopub.status.idle": "2020-10-01T17:07:57.294316Z",
     "shell.execute_reply": "2020-10-01T17:07:57.294821Z"
    }
   },
   "outputs": [],
   "source": [
    "run_id_n = t_numeric_run_ids[0]\n",
    "run_id_a = t_array_run_ids[0]"
   ]
  },
  {
   "cell_type": "code",
   "execution_count": 11,
   "metadata": {
    "execution": {
     "iopub.execute_input": "2020-10-01T17:07:57.298410Z",
     "iopub.status.busy": "2020-10-01T17:07:57.297439Z",
     "iopub.status.idle": "2020-10-01T17:07:57.307479Z",
     "shell.execute_reply": "2020-10-01T17:07:57.306998Z"
    },
    "scrolled": true
   },
   "outputs": [
    {
     "data": {
      "text/plain": [
       "{'x1': {'x1': array([0.23678456, 0.23678456, 0.96795853, 0.96795853, 0.31147668,\n",
       "         0.31147668, 0.61179146, 0.61179146, 0.42842339, 0.42842339,\n",
       "         0.69043086, 0.69043086, 0.78678697, 0.78678697, 0.08554836,\n",
       "         0.08554836, 0.3302097 , 0.3302097 , 0.12652916, 0.12652916,\n",
       "         0.82497847, 0.82497847, 0.9119287 , 0.9119287 , 0.79895393,\n",
       "         0.79895393, 0.87228443, 0.87228443, 0.83306006, 0.83306006,\n",
       "         0.03541968, 0.03541968, 0.50031118, 0.50031118, 0.36880656,\n",
       "         0.36880656, 0.72709224, 0.72709224, 0.38385177, 0.38385177,\n",
       "         0.67800403, 0.67800403, 0.54605629, 0.54605629, 0.98941962,\n",
       "         0.98941962, 0.42501613, 0.42501613, 0.58138686, 0.58138686,\n",
       "         0.44261835, 0.44261835, 0.4548128 , 0.4548128 , 0.63740799,\n",
       "         0.63740799, 0.23641897, 0.23641897, 0.63583131, 0.63583131,\n",
       "         0.23733049, 0.23733049, 0.95370326, 0.95370326, 0.78609519,\n",
       "         0.78609519, 0.1596128 , 0.1596128 , 0.2019269 , 0.2019269 ,\n",
       "         0.4977136 , 0.4977136 , 0.44052205, 0.44052205, 0.16586166,\n",
       "         0.16586166, 0.84643123, 0.84643123, 0.55421736, 0.55421736,\n",
       "         0.11649199, 0.11649199, 0.23750689, 0.23750689, 0.51597043,\n",
       "         0.51597043, 0.44751346, 0.44751346, 0.08029092, 0.08029092,\n",
       "         0.76556006, 0.76556006, 0.78164243, 0.78164243, 0.72737871,\n",
       "         0.72737871, 0.62009075, 0.62009075, 0.78933819, 0.78933819,\n",
       "         0.93462244, 0.93462244, 0.65564738, 0.65564738, 0.57331671,\n",
       "         0.57331671, 0.40310045, 0.40310045, 0.74752572, 0.74752572,\n",
       "         0.33024129, 0.33024129, 0.67083891, 0.67083891, 0.39238306,\n",
       "         0.39238306, 0.97789076, 0.97789076, 0.29850626, 0.29850626,\n",
       "         0.24574882, 0.24574882, 0.8839793 , 0.8839793 , 0.3340226 ,\n",
       "         0.3340226 , 0.23470075, 0.23470075, 0.58475907, 0.58475907,\n",
       "         0.13478818, 0.13478818, 0.19721591, 0.19721591, 0.05379727,\n",
       "         0.05379727, 0.27737998, 0.27737998, 0.14466988, 0.14466988,\n",
       "         0.70478211, 0.70478211, 0.61950426, 0.61950426, 0.07906479,\n",
       "         0.07906479, 0.7910217 , 0.7910217 , 0.37822815, 0.37822815,\n",
       "         0.73287712, 0.73287712, 0.69514866, 0.69514866, 0.77731478,\n",
       "         0.77731478, 0.36118553, 0.36118553, 0.33919648, 0.33919648,\n",
       "         0.81916085, 0.81916085, 0.91956492, 0.91956492, 0.88527179,\n",
       "         0.88527179, 0.93696142, 0.93696142, 0.40844222, 0.40844222,\n",
       "         0.21651436, 0.21651436, 0.52981816, 0.52981816, 0.39495838,\n",
       "         0.39495838, 0.33599639, 0.33599639, 0.35138223, 0.35138223,\n",
       "         0.36031634, 0.36031634, 0.50154598, 0.50154598, 0.24115246,\n",
       "         0.24115246, 0.77695206, 0.77695206, 0.84872065, 0.84872065,\n",
       "         0.742868  , 0.742868  , 0.3044842 , 0.3044842 , 0.32527287,\n",
       "         0.32527287, 0.1191449 , 0.1191449 , 0.7559497 , 0.7559497 ])}}"
      ]
     },
     "execution_count": 1,
     "metadata": {},
     "output_type": "execute_result"
    }
   ],
   "source": [
    "ds = load_by_id(run_id_n)\n",
    "ds.get_parameter_data('x1')"
   ]
  },
  {
   "cell_type": "markdown",
   "metadata": {},
   "source": [
    "And a dataset stored as binary arrays"
   ]
  },
  {
   "cell_type": "code",
   "execution_count": 12,
   "metadata": {
    "execution": {
     "iopub.execute_input": "2020-10-01T17:07:57.311185Z",
     "iopub.status.busy": "2020-10-01T17:07:57.310648Z",
     "iopub.status.idle": "2020-10-01T17:07:57.367293Z",
     "shell.execute_reply": "2020-10-01T17:07:57.367711Z"
    },
    "scrolled": true
   },
   "outputs": [
    {
     "data": {
      "text/plain": [
       "{'x1': {'x1': array([[0.03324745],\n",
       "         [0.03324745],\n",
       "         [0.80388873],\n",
       "         [0.80388873],\n",
       "         [0.86446764],\n",
       "         [0.86446764],\n",
       "         [0.43542446],\n",
       "         [0.43542446],\n",
       "         [0.89073496],\n",
       "         [0.89073496],\n",
       "         [0.05128858],\n",
       "         [0.05128858],\n",
       "         [0.15081073],\n",
       "         [0.15081073],\n",
       "         [0.13180946],\n",
       "         [0.13180946],\n",
       "         [0.87259293],\n",
       "         [0.87259293],\n",
       "         [0.76587537],\n",
       "         [0.76587537],\n",
       "         [0.56709907],\n",
       "         [0.56709907],\n",
       "         [0.28536391],\n",
       "         [0.28536391],\n",
       "         [0.77072128],\n",
       "         [0.77072128],\n",
       "         [0.68823998],\n",
       "         [0.68823998],\n",
       "         [0.30401665],\n",
       "         [0.30401665],\n",
       "         [0.17845589],\n",
       "         [0.17845589],\n",
       "         [0.5239313 ],\n",
       "         [0.5239313 ],\n",
       "         [0.84426138],\n",
       "         [0.84426138],\n",
       "         [0.52022852],\n",
       "         [0.52022852],\n",
       "         [0.95550579],\n",
       "         [0.95550579],\n",
       "         [0.29260798],\n",
       "         [0.29260798],\n",
       "         [0.27397243],\n",
       "         [0.27397243],\n",
       "         [0.44905676],\n",
       "         [0.44905676],\n",
       "         [0.69485039],\n",
       "         [0.69485039],\n",
       "         [0.2335714 ],\n",
       "         [0.2335714 ],\n",
       "         [0.48858494],\n",
       "         [0.48858494],\n",
       "         [0.85792652],\n",
       "         [0.85792652],\n",
       "         [0.96197832],\n",
       "         [0.96197832],\n",
       "         [0.88016685],\n",
       "         [0.88016685],\n",
       "         [0.80431796],\n",
       "         [0.80431796],\n",
       "         [0.44636255],\n",
       "         [0.44636255],\n",
       "         [0.06951823],\n",
       "         [0.06951823],\n",
       "         [0.82368075],\n",
       "         [0.82368075],\n",
       "         [0.01763374],\n",
       "         [0.01763374],\n",
       "         [0.26857879],\n",
       "         [0.26857879],\n",
       "         [0.72154547],\n",
       "         [0.72154547],\n",
       "         [0.75520454],\n",
       "         [0.75520454],\n",
       "         [0.50425994],\n",
       "         [0.50425994],\n",
       "         [0.3329481 ],\n",
       "         [0.3329481 ],\n",
       "         [0.47302587],\n",
       "         [0.47302587],\n",
       "         [0.2541721 ],\n",
       "         [0.2541721 ],\n",
       "         [0.8398908 ],\n",
       "         [0.8398908 ],\n",
       "         [0.92744338],\n",
       "         [0.92744338],\n",
       "         [0.03677252],\n",
       "         [0.03677252],\n",
       "         [0.19031751],\n",
       "         [0.19031751],\n",
       "         [0.84280244],\n",
       "         [0.84280244],\n",
       "         [0.41964185],\n",
       "         [0.41964185],\n",
       "         [0.57816866],\n",
       "         [0.57816866],\n",
       "         [0.62477326],\n",
       "         [0.62477326],\n",
       "         [0.97774282],\n",
       "         [0.97774282],\n",
       "         [0.76499431],\n",
       "         [0.76499431],\n",
       "         [0.71887062],\n",
       "         [0.71887062],\n",
       "         [0.77049905],\n",
       "         [0.77049905],\n",
       "         [0.25860277],\n",
       "         [0.25860277],\n",
       "         [0.56389574],\n",
       "         [0.56389574],\n",
       "         [0.34326147],\n",
       "         [0.34326147],\n",
       "         [0.16122724],\n",
       "         [0.16122724],\n",
       "         [0.77668602],\n",
       "         [0.77668602],\n",
       "         [0.01818104],\n",
       "         [0.01818104],\n",
       "         [0.90926137],\n",
       "         [0.90926137],\n",
       "         [0.42574326],\n",
       "         [0.42574326],\n",
       "         [0.15660422],\n",
       "         [0.15660422],\n",
       "         [0.29018504],\n",
       "         [0.29018504],\n",
       "         [0.61447268],\n",
       "         [0.61447268],\n",
       "         [0.27107012],\n",
       "         [0.27107012],\n",
       "         [0.92678829],\n",
       "         [0.92678829],\n",
       "         [0.74193892],\n",
       "         [0.74193892],\n",
       "         [0.12852869],\n",
       "         [0.12852869],\n",
       "         [0.01530813],\n",
       "         [0.01530813],\n",
       "         [0.88135427],\n",
       "         [0.88135427],\n",
       "         [0.89078849],\n",
       "         [0.89078849],\n",
       "         [0.36345541],\n",
       "         [0.36345541],\n",
       "         [0.14630177],\n",
       "         [0.14630177],\n",
       "         [0.71397567],\n",
       "         [0.71397567],\n",
       "         [0.77882802],\n",
       "         [0.77882802],\n",
       "         [0.55547937],\n",
       "         [0.55547937],\n",
       "         [0.01770181],\n",
       "         [0.01770181],\n",
       "         [0.36771108],\n",
       "         [0.36771108],\n",
       "         [0.29990069],\n",
       "         [0.29990069],\n",
       "         [0.15859405],\n",
       "         [0.15859405],\n",
       "         [0.74590158],\n",
       "         [0.74590158],\n",
       "         [0.63190097],\n",
       "         [0.63190097],\n",
       "         [0.77930839],\n",
       "         [0.77930839],\n",
       "         [0.46361305],\n",
       "         [0.46361305],\n",
       "         [0.66645544],\n",
       "         [0.66645544],\n",
       "         [0.93819125],\n",
       "         [0.93819125],\n",
       "         [0.84293887],\n",
       "         [0.84293887],\n",
       "         [0.80343842],\n",
       "         [0.80343842],\n",
       "         [0.67531816],\n",
       "         [0.67531816],\n",
       "         [0.17328623],\n",
       "         [0.17328623],\n",
       "         [0.80732383],\n",
       "         [0.80732383],\n",
       "         [0.58409342],\n",
       "         [0.58409342],\n",
       "         [0.61607389],\n",
       "         [0.61607389],\n",
       "         [0.23068473],\n",
       "         [0.23068473],\n",
       "         [0.09109754],\n",
       "         [0.09109754],\n",
       "         [0.71092785],\n",
       "         [0.71092785],\n",
       "         [0.31075341],\n",
       "         [0.31075341],\n",
       "         [0.94994681],\n",
       "         [0.94994681],\n",
       "         [0.70009797],\n",
       "         [0.70009797],\n",
       "         [0.22552068],\n",
       "         [0.22552068]])}}"
      ]
     },
     "execution_count": 1,
     "metadata": {},
     "output_type": "execute_result"
    }
   ],
   "source": [
    "ds = load_by_id(run_id_a)\n",
    "ds.get_parameter_data('x1')"
   ]
  },
  {
   "cell_type": "code",
   "execution_count": null,
   "metadata": {},
   "outputs": [],
   "source": []
  }
 ],
 "metadata": {
  "kernelspec": {
   "display_name": "Python 3",
   "language": "python",
   "name": "python3"
  },
  "language_info": {
   "codemirror_mode": {
    "name": "ipython",
    "version": 3
   },
   "file_extension": ".py",
   "mimetype": "text/x-python",
   "name": "python",
   "nbconvert_exporter": "python",
   "pygments_lexer": "ipython3",
   "version": "3.7.7"
  },
  "nbsphinx": {
   "timeout": 600
  },
  "toc": {
   "base_numbering": 1,
   "nav_menu": {},
   "number_sections": true,
   "sideBar": true,
   "skip_h1_title": false,
   "title_cell": "Table of Contents",
   "title_sidebar": "Contents",
   "toc_cell": false,
   "toc_position": {},
   "toc_section_display": true,
   "toc_window_display": false
  },
  "varInspector": {
   "cols": {
    "lenName": 16,
    "lenType": 16,
    "lenVar": 40
   },
   "kernels_config": {
    "python": {
     "delete_cmd_postfix": "",
     "delete_cmd_prefix": "del ",
     "library": "var_list.py",
     "varRefreshCmd": "print(var_dic_list())"
    },
    "r": {
     "delete_cmd_postfix": ") ",
     "delete_cmd_prefix": "rm(",
     "library": "var_list.r",
     "varRefreshCmd": "cat(var_dic_list()) "
    }
   },
   "types_to_exclude": [
    "module",
    "function",
    "builtin_function_or_method",
    "instance",
    "_Feature"
   ],
   "window_display": false
  }
 },
 "nbformat": 4,
 "nbformat_minor": 2
}
