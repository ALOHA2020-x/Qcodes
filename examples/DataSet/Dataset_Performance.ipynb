{
 "cells": [
  {
   "cell_type": "markdown",
   "metadata": {},
   "source": [
    "# DataSet Performance\n",
    "\n",
    "This notebook shows the trade-off between inserting data into a database row-by-row and as binary blobs. Inserting the data row-by-row means that we have direct access to all the data and may perform queries directly on the values of the data. On the other hand, as we shall see, this is much slower than inserting the data directly as binary blobs."
   ]
  },
  {
   "cell_type": "markdown",
   "metadata": {},
   "source": [
    "First, we choose a new location for the database to ensure that we don't add a bunch of benchmarking data to the default one."
   ]
  },
  {
   "cell_type": "code",
   "execution_count": 1,
   "metadata": {
    "execution": {
     "iopub.execute_input": "2020-09-26T08:28:07.643096Z",
     "iopub.status.busy": "2020-09-26T08:28:07.642114Z",
     "iopub.status.idle": "2020-09-26T08:28:08.642878Z",
     "shell.execute_reply": "2020-09-26T08:28:08.642245Z"
    }
   },
   "outputs": [
    {
     "name": "stdout",
     "output_type": "stream",
     "text": [
      "Logging hadn't been started.\n",
      "Activating auto-logging. Current session state plus future input saved.\n",
      "Filename       : /home/vsts/.qcodes/logs/command_history.log\n",
      "Mode           : append\n",
      "Output logging : True\n",
      "Raw input log  : False\n",
      "Timestamping   : True\n",
      "State          : active\n"
     ]
    },
    {
     "name": "stdout",
     "output_type": "stream",
     "text": [
      "Qcodes Logfile : /home/vsts/.qcodes/logs/200926-18728-qcodes.log\n"
     ]
    }
   ],
   "source": [
    "import os\n",
    "cwd = os.getcwd()\n",
    "import qcodes as qc\n",
    "qc.config[\"core\"][\"db_location\"] = os.path.join(cwd, 'testing.db')\n"
   ]
  },
  {
   "cell_type": "code",
   "execution_count": 2,
   "metadata": {
    "execution": {
     "iopub.execute_input": "2020-09-26T08:28:08.649837Z",
     "iopub.status.busy": "2020-09-26T08:28:08.648830Z",
     "iopub.status.idle": "2020-09-26T08:28:08.834276Z",
     "shell.execute_reply": "2020-09-26T08:28:08.833204Z"
    }
   },
   "outputs": [],
   "source": [
    "%matplotlib inline\n",
    "import time\n",
    "import matplotlib.pyplot as plt\n",
    "import numpy as np\n",
    "\n",
    "import qcodes as qc\n",
    "from qcodes.instrument.parameter import ManualParameter\n",
    "from qcodes.dataset.experiment_container import (Experiment,\n",
    "                                                 load_last_experiment,\n",
    "                                                 new_experiment)\n",
    "from qcodes.dataset.sqlite.database import initialise_database\n",
    "from qcodes import load_or_create_experiment\n",
    "from qcodes.dataset.measurements import Measurement"
   ]
  },
  {
   "cell_type": "code",
   "execution_count": 3,
   "metadata": {
    "execution": {
     "iopub.execute_input": "2020-09-26T08:28:08.838609Z",
     "iopub.status.busy": "2020-09-26T08:28:08.837871Z",
     "iopub.status.idle": "2020-09-26T08:28:08.951815Z",
     "shell.execute_reply": "2020-09-26T08:28:08.951316Z"
    }
   },
   "outputs": [
    {
     "name": "stdout",
     "output_type": "stream",
     "text": [
      "\r",
      "0it [00:00, ?it/s]"
     ]
    },
    {
     "name": "stdout",
     "output_type": "stream",
     "text": [
      "\r",
      "Upgrading database; v0 -> v1: : 0it [00:00, ?it/s]"
     ]
    },
    {
     "name": "stdout",
     "output_type": "stream",
     "text": [
      "\r",
      "Upgrading database; v0 -> v1: : 0it [00:00, ?it/s]"
     ]
    },
    {
     "name": "stdout",
     "output_type": "stream",
     "text": [
      "\n",
      "\r",
      "  0%|          | 0/1 [00:00<?, ?it/s]"
     ]
    },
    {
     "name": "stdout",
     "output_type": "stream",
     "text": [
      "\r",
      "Upgrading database; v1 -> v2:   0%|          | 0/1 [00:00<?, ?it/s]"
     ]
    },
    {
     "name": "stdout",
     "output_type": "stream",
     "text": [
      "\r",
      "Upgrading database; v1 -> v2: 100%|██████████| 1/1 [00:00<00:00, 424.40it/s]"
     ]
    },
    {
     "name": "stdout",
     "output_type": "stream",
     "text": [
      "\n",
      "\r",
      "0it [00:00, ?it/s]"
     ]
    },
    {
     "name": "stdout",
     "output_type": "stream",
     "text": [
      "\r",
      "Upgrading database; v2 -> v3: : 0it [00:00, ?it/s]"
     ]
    },
    {
     "name": "stdout",
     "output_type": "stream",
     "text": [
      "\r",
      "Upgrading database; v2 -> v3: : 0it [00:00, ?it/s]"
     ]
    },
    {
     "name": "stdout",
     "output_type": "stream",
     "text": [
      "\n",
      "\r",
      "0it [00:00, ?it/s]"
     ]
    },
    {
     "name": "stdout",
     "output_type": "stream",
     "text": [
      "\r",
      "Upgrading database; v3 -> v4: : 0it [00:00, ?it/s]"
     ]
    },
    {
     "name": "stdout",
     "output_type": "stream",
     "text": [
      "\r",
      "Upgrading database; v3 -> v4: : 0it [00:00, ?it/s]"
     ]
    },
    {
     "name": "stdout",
     "output_type": "stream",
     "text": [
      "\n",
      "\r",
      "  0%|          | 0/1 [00:00<?, ?it/s]"
     ]
    },
    {
     "name": "stdout",
     "output_type": "stream",
     "text": [
      "\r",
      "Upgrading database; v4 -> v5:   0%|          | 0/1 [00:00<?, ?it/s]"
     ]
    },
    {
     "name": "stdout",
     "output_type": "stream",
     "text": [
      "\r",
      "Upgrading database; v4 -> v5: 100%|██████████| 1/1 [00:00<00:00, 441.88it/s]"
     ]
    },
    {
     "name": "stdout",
     "output_type": "stream",
     "text": [
      "\n",
      "\r",
      "0it [00:00, ?it/s]"
     ]
    },
    {
     "name": "stdout",
     "output_type": "stream",
     "text": [
      "\r",
      "Upgrading database; v5 -> v6: : 0it [00:00, ?it/s]"
     ]
    },
    {
     "name": "stdout",
     "output_type": "stream",
     "text": [
      "\r",
      "Upgrading database; v5 -> v6: : 0it [00:00, ?it/s]"
     ]
    },
    {
     "name": "stdout",
     "output_type": "stream",
     "text": [
      "\n",
      "\r",
      "  0%|          | 0/1 [00:00<?, ?it/s]"
     ]
    },
    {
     "name": "stdout",
     "output_type": "stream",
     "text": [
      "\r",
      "Upgrading database; v6 -> v7:   0%|          | 0/1 [00:00<?, ?it/s]"
     ]
    },
    {
     "name": "stdout",
     "output_type": "stream",
     "text": [
      "\r",
      "Upgrading database; v6 -> v7: 100%|██████████| 1/1 [00:00<00:00, 413.44it/s]"
     ]
    },
    {
     "name": "stdout",
     "output_type": "stream",
     "text": [
      "\n",
      "\r",
      "  0%|          | 0/1 [00:00<?, ?it/s]"
     ]
    },
    {
     "name": "stdout",
     "output_type": "stream",
     "text": [
      "\r",
      "Upgrading database; v7 -> v8:   0%|          | 0/1 [00:00<?, ?it/s]"
     ]
    },
    {
     "name": "stdout",
     "output_type": "stream",
     "text": [
      "\r",
      "Upgrading database; v7 -> v8: 100%|██████████| 1/1 [00:00<00:00, 452.56it/s]"
     ]
    },
    {
     "name": "stdout",
     "output_type": "stream",
     "text": [
      "\n",
      "\r",
      "  0%|          | 0/1 [00:00<?, ?it/s]"
     ]
    },
    {
     "name": "stdout",
     "output_type": "stream",
     "text": [
      "\r",
      "Upgrading database; v8 -> v9:   0%|          | 0/1 [00:00<?, ?it/s]"
     ]
    },
    {
     "name": "stdout",
     "output_type": "stream",
     "text": [
      "\r",
      "Upgrading database; v8 -> v9: 100%|██████████| 1/1 [00:00<00:00, 471.91it/s]"
     ]
    },
    {
     "name": "stdout",
     "output_type": "stream",
     "text": [
      "\n"
     ]
    }
   ],
   "source": [
    "initialise_database()\n",
    "exp = load_or_create_experiment(experiment_name='tutorial_exp', sample_name=\"no sample\")"
   ]
  },
  {
   "cell_type": "markdown",
   "metadata": {},
   "source": [
    "Here, we define a simple function to benchmark the time it takes to insert n points with either numeric or array data type.\n",
    "We will compare both the time used to call ``add_result`` and the time used for the full measurement."
   ]
  },
  {
   "cell_type": "code",
   "execution_count": 4,
   "metadata": {
    "execution": {
     "iopub.execute_input": "2020-09-26T08:28:08.960556Z",
     "iopub.status.busy": "2020-09-26T08:28:08.960035Z",
     "iopub.status.idle": "2020-09-26T08:28:08.962929Z",
     "shell.execute_reply": "2020-09-26T08:28:08.963309Z"
    }
   },
   "outputs": [],
   "source": [
    "def insert_data(paramtype, npoints, nreps=1):\n",
    "\n",
    "    meas = Measurement(exp=exp)\n",
    "\n",
    "    x1 = ManualParameter('x1')\n",
    "    x2 = ManualParameter('x2')\n",
    "    x3 = ManualParameter('x3')\n",
    "    y1 = ManualParameter('y1')\n",
    "    y2 = ManualParameter('y2')\n",
    "\n",
    "    meas.register_parameter(x1, paramtype=paramtype)\n",
    "    meas.register_parameter(x2, paramtype=paramtype)\n",
    "    meas.register_parameter(x3, paramtype=paramtype)\n",
    "    meas.register_parameter(y1, setpoints=[x1, x2, x3],\n",
    "                            paramtype=paramtype)\n",
    "    meas.register_parameter(y2, setpoints=[x1, x2, x3],\n",
    "                            paramtype=paramtype)\n",
    "    start = time.perf_counter()\n",
    "    with meas.run() as datasaver:\n",
    "        start_adding = time.perf_counter()\n",
    "        for i in range(nreps):\n",
    "            datasaver.add_result((x1, np.random.rand(npoints)),\n",
    "                                 (x2, np.random.rand(npoints)),\n",
    "                                 (x3, np.random.rand(npoints)),\n",
    "                                 (y1, np.random.rand(npoints)),\n",
    "                                 (y2, np.random.rand(npoints)))\n",
    "        stop_adding = time.perf_counter()\n",
    "        run_id = datasaver.run_id\n",
    "    stop = time.perf_counter()\n",
    "    tot_time = stop - start\n",
    "    add_time = stop_adding - start_adding\n",
    "    return tot_time, add_time, run_id"
   ]
  },
  {
   "cell_type": "markdown",
   "metadata": {},
   "source": [
    "## Comparison between numeric/array data and binary blob"
   ]
  },
  {
   "cell_type": "markdown",
   "metadata": {},
   "source": [
    "### Case1: Short experiment time"
   ]
  },
  {
   "cell_type": "code",
   "execution_count": 5,
   "metadata": {
    "execution": {
     "iopub.execute_input": "2020-09-26T08:28:08.969806Z",
     "iopub.status.busy": "2020-09-26T08:28:08.969184Z",
     "iopub.status.idle": "2020-09-26T08:28:09.758785Z",
     "shell.execute_reply": "2020-09-26T08:28:09.759253Z"
    }
   },
   "outputs": [
    {
     "name": "stdout",
     "output_type": "stream",
     "text": [
      "Starting experimental run with id: 1. \n",
      "Starting experimental run with id: 2. \n",
      "Starting experimental run with id: 3. \n",
      "Starting experimental run with id: 4. \n",
      "Starting experimental run with id: 5. \n"
     ]
    },
    {
     "name": "stdout",
     "output_type": "stream",
     "text": [
      "Starting experimental run with id: 6. \n"
     ]
    },
    {
     "name": "stdout",
     "output_type": "stream",
     "text": [
      "Starting experimental run with id: 7. \n"
     ]
    },
    {
     "name": "stdout",
     "output_type": "stream",
     "text": [
      "Starting experimental run with id: 8. \n",
      "Starting experimental run with id: 9. \n"
     ]
    },
    {
     "name": "stdout",
     "output_type": "stream",
     "text": [
      "Starting experimental run with id: 10. \n",
      "Starting experimental run with id: 11. \n"
     ]
    },
    {
     "name": "stdout",
     "output_type": "stream",
     "text": [
      "Starting experimental run with id: 12. \n",
      "Starting experimental run with id: 13. \n"
     ]
    },
    {
     "name": "stdout",
     "output_type": "stream",
     "text": [
      "Starting experimental run with id: 14. \n"
     ]
    }
   ],
   "source": [
    "sizes = [1,500,1000,2000,3000,4000,5000]\n",
    "t_numeric = []\n",
    "t_numeric_add = []\n",
    "t_array = []\n",
    "t_array_add = []\n",
    "for size in sizes:\n",
    "    tn, tna, run_id_n =  insert_data('numeric', size)\n",
    "    t_numeric.append(tn)\n",
    "    t_numeric_add.append(tna)\n",
    "\n",
    "    ta, taa, run_id_a =  insert_data('array', size)\n",
    "    t_array.append(ta)\n",
    "    t_array_add.append(taa)"
   ]
  },
  {
   "cell_type": "code",
   "execution_count": 6,
   "metadata": {
    "execution": {
     "iopub.execute_input": "2020-09-26T08:28:09.775762Z",
     "iopub.status.busy": "2020-09-26T08:28:09.764746Z",
     "iopub.status.idle": "2020-09-26T08:28:09.948229Z",
     "shell.execute_reply": "2020-09-26T08:28:09.948965Z"
    }
   },
   "outputs": [
    {
     "data": {
      "image/png": "[encoded data removed]",
      "text/plain": [
       "<Figure size 432x288 with 1 Axes>"
      ]
     },
     "metadata": {
      "needs_background": "light"
     },
     "output_type": "display_data"
    }
   ],
   "source": [
    "fig, ax = plt.subplots(1,1)\n",
    "ax.plot(sizes, t_numeric, 'o-', label='Inserting row-by-row')\n",
    "ax.plot(sizes, t_numeric_add, 'o-', label='Inserting row-by-row: add_result only')\n",
    "ax.plot(sizes, t_array, 'd-', label='Inserting as binary blob')\n",
    "ax.plot(sizes, t_array_add, 'd-', label='Inserting as binary blob: add_result only')\n",
    "ax.legend()\n",
    "ax.set_xlabel('Array length')\n",
    "ax.set_ylabel('Time (s)')\n",
    "fig.tight_layout()"
   ]
  },
  {
   "cell_type": "markdown",
   "metadata": {},
   "source": [
    "As shown in the latter figure, the time to setup and and close the experiment is approximately 0.4 sec. In case of small array sizes, the difference between inserting values of data as arrays and inserting them row-by-row is relatively unimportant. At larger array sizes, i.e. above 10000 points, the cost of writing data as individual datapoints starts to become important.\n"
   ]
  },
  {
   "cell_type": "markdown",
   "metadata": {},
   "source": [
    "### Case2: Long experiment time "
   ]
  },
  {
   "cell_type": "code",
   "execution_count": 7,
   "metadata": {
    "execution": {
     "iopub.execute_input": "2020-09-26T08:28:09.956754Z",
     "iopub.status.busy": "2020-09-26T08:28:09.956126Z",
     "iopub.status.idle": "2020-09-26T08:29:07.104903Z",
     "shell.execute_reply": "2020-09-26T08:29:07.105434Z"
    }
   },
   "outputs": [
    {
     "name": "stdout",
     "output_type": "stream",
     "text": [
      "Starting experimental run with id: 15. \n",
      "Starting experimental run with id: 16. \n",
      "Starting experimental run with id: 17. \n"
     ]
    },
    {
     "name": "stdout",
     "output_type": "stream",
     "text": [
      "Starting experimental run with id: 18. \n",
      "Starting experimental run with id: 19. \n"
     ]
    },
    {
     "name": "stdout",
     "output_type": "stream",
     "text": [
      "Starting experimental run with id: 20. \n"
     ]
    },
    {
     "name": "stdout",
     "output_type": "stream",
     "text": [
      "Starting experimental run with id: 21. \n"
     ]
    },
    {
     "name": "stdout",
     "output_type": "stream",
     "text": [
      "Starting experimental run with id: 22. \n"
     ]
    },
    {
     "name": "stdout",
     "output_type": "stream",
     "text": [
      "Starting experimental run with id: 23. \n"
     ]
    },
    {
     "name": "stdout",
     "output_type": "stream",
     "text": [
      "Starting experimental run with id: 24. \n"
     ]
    },
    {
     "name": "stdout",
     "output_type": "stream",
     "text": [
      "Starting experimental run with id: 25. \n"
     ]
    },
    {
     "name": "stdout",
     "output_type": "stream",
     "text": [
      "Starting experimental run with id: 26. \n"
     ]
    },
    {
     "name": "stdout",
     "output_type": "stream",
     "text": [
      "Starting experimental run with id: 27. \n"
     ]
    },
    {
     "name": "stdout",
     "output_type": "stream",
     "text": [
      "Starting experimental run with id: 28. \n"
     ]
    }
   ],
   "source": [
    "sizes = [1,500,1000,2000,3000,4000,5000]\n",
    "nreps = 100\n",
    "t_numeric = []\n",
    "t_numeric_add = []\n",
    "t_numeric_run_ids = []\n",
    "t_array = []\n",
    "t_array_add = []\n",
    "t_array_run_ids = []\n",
    "for size in sizes:\n",
    "    tn, tna, run_id_n =  insert_data('numeric', size, nreps=nreps)\n",
    "    t_numeric.append(tn)\n",
    "    t_numeric_add.append(tna)\n",
    "    t_numeric_run_ids.append(run_id_n)\n",
    "\n",
    "    ta, taa, run_id_a =  insert_data('array', size, nreps=nreps)\n",
    "    t_array.append(ta)\n",
    "    t_array_add.append(taa)\n",
    "    t_array_run_ids.append(run_id_a)"
   ]
  },
  {
   "cell_type": "code",
   "execution_count": 8,
   "metadata": {
    "execution": {
     "iopub.execute_input": "2020-09-26T08:29:07.122531Z",
     "iopub.status.busy": "2020-09-26T08:29:07.117836Z",
     "iopub.status.idle": "2020-09-26T08:29:07.300300Z",
     "shell.execute_reply": "2020-09-26T08:29:07.299662Z"
    },
    "scrolled": true
   },
   "outputs": [
    {
     "data": {
      "image/png": "[encoded data removed]",
      "text/plain": [
       "<Figure size 432x288 with 1 Axes>"
      ]
     },
     "metadata": {
      "needs_background": "light"
     },
     "output_type": "display_data"
    }
   ],
   "source": [
    "fig, ax = plt.subplots(1,1)\n",
    "ax.plot(sizes, t_numeric, 'o-', label='Inserting row-by-row')\n",
    "ax.plot(sizes, t_numeric_add, 'o-', label='Inserting row-by-row: add_result only')\n",
    "ax.plot(sizes, t_array, 'd-', label='Inserting as binary blob')\n",
    "ax.plot(sizes, t_array_add, 'd-', label='Inserting as binary blob: add_result only')\n",
    "ax.legend()\n",
    "ax.set_xlabel('Array length')\n",
    "ax.set_ylabel('Time (s)')\n",
    "fig.tight_layout()"
   ]
  },
  {
   "cell_type": "markdown",
   "metadata": {},
   "source": [
    "However, as we increase the length of the experiment, as seen here by repeating the insertion 100 times, we see a big difference between inserting values of the data row-by-row and inserting it as a binary blob."
   ]
  },
  {
   "cell_type": "markdown",
   "metadata": {},
   "source": [
    "## Loading the data "
   ]
  },
  {
   "cell_type": "code",
   "execution_count": 9,
   "metadata": {
    "execution": {
     "iopub.execute_input": "2020-09-26T08:29:07.304380Z",
     "iopub.status.busy": "2020-09-26T08:29:07.303265Z",
     "iopub.status.idle": "2020-09-26T08:29:07.307248Z",
     "shell.execute_reply": "2020-09-26T08:29:07.306769Z"
    }
   },
   "outputs": [],
   "source": [
    "from qcodes.dataset.data_set import load_by_id\n",
    "from qcodes.dataset.data_export import get_data_by_id"
   ]
  },
  {
   "cell_type": "markdown",
   "metadata": {},
   "source": [
    "As usual you can load the data by using the ``load_by_id`` function but you will notice that the different storage methods\n",
    "are reflected in shape of the data as it is retrieved. "
   ]
  },
  {
   "cell_type": "code",
   "execution_count": 10,
   "metadata": {
    "execution": {
     "iopub.execute_input": "2020-09-26T08:29:07.311486Z",
     "iopub.status.busy": "2020-09-26T08:29:07.310948Z",
     "iopub.status.idle": "2020-09-26T08:29:07.314120Z",
     "shell.execute_reply": "2020-09-26T08:29:07.314540Z"
    }
   },
   "outputs": [],
   "source": [
    "run_id_n = t_numeric_run_ids[0]\n",
    "run_id_a = t_array_run_ids[0]"
   ]
  },
  {
   "cell_type": "code",
   "execution_count": 11,
   "metadata": {
    "execution": {
     "iopub.execute_input": "2020-09-26T08:29:07.322681Z",
     "iopub.status.busy": "2020-09-26T08:29:07.322147Z",
     "iopub.status.idle": "2020-09-26T08:29:07.328548Z",
     "shell.execute_reply": "2020-09-26T08:29:07.327709Z"
    },
    "scrolled": true
   },
   "outputs": [
    {
     "data": {
      "text/plain": [
       "{'x1': {'x1': array([0.25601064, 0.25601064, 0.21171449, 0.21171449, 0.12075533,\n",
       "         0.12075533, 0.1861194 , 0.1861194 , 0.21886851, 0.21886851,\n",
       "         0.55665087, 0.55665087, 0.32433238, 0.32433238, 0.00114125,\n",
       "         0.00114125, 0.22019254, 0.22019254, 0.92273194, 0.92273194,\n",
       "         0.29923433, 0.29923433, 0.7509258 , 0.7509258 , 0.98371714,\n",
       "         0.98371714, 0.98007624, 0.98007624, 0.25126423, 0.25126423,\n",
       "         0.99259082, 0.99259082, 0.87713494, 0.87713494, 0.24335284,\n",
       "         0.24335284, 0.1952496 , 0.1952496 , 0.12936616, 0.12936616,\n",
       "         0.34805691, 0.34805691, 0.93150518, 0.93150518, 0.70672105,\n",
       "         0.70672105, 0.90860813, 0.90860813, 0.86671333, 0.86671333,\n",
       "         0.51390884, 0.51390884, 0.68296193, 0.68296193, 0.33416791,\n",
       "         0.33416791, 0.96582854, 0.96582854, 0.99781606, 0.99781606,\n",
       "         0.26440561, 0.26440561, 0.69089132, 0.69089132, 0.97401232,\n",
       "         0.97401232, 0.75619767, 0.75619767, 0.19323752, 0.19323752,\n",
       "         0.06301759, 0.06301759, 0.90993802, 0.90993802, 0.04815667,\n",
       "         0.04815667, 0.88995603, 0.88995603, 0.78889164, 0.78889164,\n",
       "         0.23102857, 0.23102857, 0.49509225, 0.49509225, 0.37729493,\n",
       "         0.37729493, 0.81851989, 0.81851989, 0.66212418, 0.66212418,\n",
       "         0.22797361, 0.22797361, 0.68271435, 0.68271435, 0.70251802,\n",
       "         0.70251802, 0.48943889, 0.48943889, 0.20591994, 0.20591994,\n",
       "         0.84745574, 0.84745574, 0.8787677 , 0.8787677 , 0.32050506,\n",
       "         0.32050506, 0.76205626, 0.76205626, 0.50307538, 0.50307538,\n",
       "         0.69933526, 0.69933526, 0.96264851, 0.96264851, 0.83014744,\n",
       "         0.83014744, 0.49951111, 0.49951111, 0.221139  , 0.221139  ,\n",
       "         0.31631096, 0.31631096, 0.56537662, 0.56537662, 0.17619165,\n",
       "         0.17619165, 0.61790779, 0.61790779, 0.28902028, 0.28902028,\n",
       "         0.58401658, 0.58401658, 0.90414334, 0.90414334, 0.53657164,\n",
       "         0.53657164, 0.85488774, 0.85488774, 0.6523449 , 0.6523449 ,\n",
       "         0.30257589, 0.30257589, 0.50225998, 0.50225998, 0.80433787,\n",
       "         0.80433787, 0.18526576, 0.18526576, 0.64400257, 0.64400257,\n",
       "         0.98083336, 0.98083336, 0.65082094, 0.65082094, 0.28618947,\n",
       "         0.28618947, 0.90610295, 0.90610295, 0.67561487, 0.67561487,\n",
       "         0.13411252, 0.13411252, 0.17872981, 0.17872981, 0.97518344,\n",
       "         0.97518344, 0.41988046, 0.41988046, 0.48677798, 0.48677798,\n",
       "         0.18352713, 0.18352713, 0.08487615, 0.08487615, 0.69060709,\n",
       "         0.69060709, 0.02468688, 0.02468688, 0.97209284, 0.97209284,\n",
       "         0.18926123, 0.18926123, 0.22047311, 0.22047311, 0.28753334,\n",
       "         0.28753334, 0.53313695, 0.53313695, 0.79427746, 0.79427746,\n",
       "         0.77036034, 0.77036034, 0.84478856, 0.84478856, 0.86852437,\n",
       "         0.86852437, 0.63425105, 0.63425105, 0.93362865, 0.93362865])}}"
      ]
     },
     "execution_count": 1,
     "metadata": {},
     "output_type": "execute_result"
    }
   ],
   "source": [
    "ds = load_by_id(run_id_n)\n",
    "ds.get_parameter_data('x1')"
   ]
  },
  {
   "cell_type": "markdown",
   "metadata": {},
   "source": [
    "And a dataset stored as binary arrays"
   ]
  },
  {
   "cell_type": "code",
   "execution_count": 12,
   "metadata": {
    "execution": {
     "iopub.execute_input": "2020-09-26T08:29:07.332090Z",
     "iopub.status.busy": "2020-09-26T08:29:07.331559Z",
     "iopub.status.idle": "2020-09-26T08:29:07.389406Z",
     "shell.execute_reply": "2020-09-26T08:29:07.388947Z"
    },
    "scrolled": true
   },
   "outputs": [
    {
     "data": {
      "text/plain": [
       "{'x1': {'x1': array([[5.46625904e-01],\n",
       "         [5.46625904e-01],\n",
       "         [9.26581136e-01],\n",
       "         [9.26581136e-01],\n",
       "         [1.86602124e-01],\n",
       "         [1.86602124e-01],\n",
       "         [3.41173527e-01],\n",
       "         [3.41173527e-01],\n",
       "         [4.85177311e-01],\n",
       "         [4.85177311e-01],\n",
       "         [5.21953346e-02],\n",
       "         [5.21953346e-02],\n",
       "         [5.93396520e-01],\n",
       "         [5.93396520e-01],\n",
       "         [5.63340504e-01],\n",
       "         [5.63340504e-01],\n",
       "         [9.84347451e-01],\n",
       "         [9.84347451e-01],\n",
       "         [4.04042498e-01],\n",
       "         [4.04042498e-01],\n",
       "         [4.88542018e-01],\n",
       "         [4.88542018e-01],\n",
       "         [3.79933713e-01],\n",
       "         [3.79933713e-01],\n",
       "         [5.42476717e-02],\n",
       "         [5.42476717e-02],\n",
       "         [3.90801598e-01],\n",
       "         [3.90801598e-01],\n",
       "         [3.36280464e-01],\n",
       "         [3.36280464e-01],\n",
       "         [7.21528564e-01],\n",
       "         [7.21528564e-01],\n",
       "         [8.80684042e-01],\n",
       "         [8.80684042e-01],\n",
       "         [9.92021216e-01],\n",
       "         [9.92021216e-01],\n",
       "         [8.82868032e-01],\n",
       "         [8.82868032e-01],\n",
       "         [7.74068494e-01],\n",
       "         [7.74068494e-01],\n",
       "         [1.37160500e-01],\n",
       "         [1.37160500e-01],\n",
       "         [3.69424168e-01],\n",
       "         [3.69424168e-01],\n",
       "         [5.67895248e-01],\n",
       "         [5.67895248e-01],\n",
       "         [6.43429958e-02],\n",
       "         [6.43429958e-02],\n",
       "         [4.39529407e-01],\n",
       "         [4.39529407e-01],\n",
       "         [4.37783805e-01],\n",
       "         [4.37783805e-01],\n",
       "         [3.45062886e-01],\n",
       "         [3.45062886e-01],\n",
       "         [8.13880064e-02],\n",
       "         [8.13880064e-02],\n",
       "         [3.78501253e-01],\n",
       "         [3.78501253e-01],\n",
       "         [2.93522134e-01],\n",
       "         [2.93522134e-01],\n",
       "         [8.42857799e-01],\n",
       "         [8.42857799e-01],\n",
       "         [5.16501183e-01],\n",
       "         [5.16501183e-01],\n",
       "         [8.66321011e-02],\n",
       "         [8.66321011e-02],\n",
       "         [5.53238322e-01],\n",
       "         [5.53238322e-01],\n",
       "         [9.30632815e-01],\n",
       "         [9.30632815e-01],\n",
       "         [3.99632867e-01],\n",
       "         [3.99632867e-01],\n",
       "         [3.76025805e-01],\n",
       "         [3.76025805e-01],\n",
       "         [9.79254463e-01],\n",
       "         [9.79254463e-01],\n",
       "         [6.82222512e-02],\n",
       "         [6.82222512e-02],\n",
       "         [5.97726059e-01],\n",
       "         [5.97726059e-01],\n",
       "         [6.39396787e-01],\n",
       "         [6.39396787e-01],\n",
       "         [4.45692000e-01],\n",
       "         [4.45692000e-01],\n",
       "         [4.66218179e-01],\n",
       "         [4.66218179e-01],\n",
       "         [1.85452734e-01],\n",
       "         [1.85452734e-01],\n",
       "         [1.79767261e-02],\n",
       "         [1.79767261e-02],\n",
       "         [7.22684809e-01],\n",
       "         [7.22684809e-01],\n",
       "         [1.71108719e-01],\n",
       "         [1.71108719e-01],\n",
       "         [9.77120123e-01],\n",
       "         [9.77120123e-01],\n",
       "         [5.73826624e-01],\n",
       "         [5.73826624e-01],\n",
       "         [3.82387964e-01],\n",
       "         [3.82387964e-01],\n",
       "         [1.50499494e-01],\n",
       "         [1.50499494e-01],\n",
       "         [4.48200968e-01],\n",
       "         [4.48200968e-01],\n",
       "         [5.36139152e-01],\n",
       "         [5.36139152e-01],\n",
       "         [5.76727356e-01],\n",
       "         [5.76727356e-01],\n",
       "         [9.97944271e-01],\n",
       "         [9.97944271e-01],\n",
       "         [4.96995278e-01],\n",
       "         [4.96995278e-01],\n",
       "         [4.54894584e-01],\n",
       "         [4.54894584e-01],\n",
       "         [9.10912367e-01],\n",
       "         [9.10912367e-01],\n",
       "         [5.36027176e-01],\n",
       "         [5.36027176e-01],\n",
       "         [5.07080686e-01],\n",
       "         [5.07080686e-01],\n",
       "         [2.83770346e-02],\n",
       "         [2.83770346e-02],\n",
       "         [3.83939652e-01],\n",
       "         [3.83939652e-01],\n",
       "         [6.10743030e-01],\n",
       "         [6.10743030e-01],\n",
       "         [6.76958823e-01],\n",
       "         [6.76958823e-01],\n",
       "         [9.38593645e-01],\n",
       "         [9.38593645e-01],\n",
       "         [4.61758996e-01],\n",
       "         [4.61758996e-01],\n",
       "         [4.42954532e-01],\n",
       "         [4.42954532e-01],\n",
       "         [6.82998543e-01],\n",
       "         [6.82998543e-01],\n",
       "         [7.99565764e-04],\n",
       "         [7.99565764e-04],\n",
       "         [6.27010437e-01],\n",
       "         [6.27010437e-01],\n",
       "         [7.70198253e-01],\n",
       "         [7.70198253e-01],\n",
       "         [1.93103957e-01],\n",
       "         [1.93103957e-01],\n",
       "         [2.21744390e-01],\n",
       "         [2.21744390e-01],\n",
       "         [1.56832034e-01],\n",
       "         [1.56832034e-01],\n",
       "         [8.15629684e-01],\n",
       "         [8.15629684e-01],\n",
       "         [7.84945543e-01],\n",
       "         [7.84945543e-01],\n",
       "         [4.86444743e-01],\n",
       "         [4.86444743e-01],\n",
       "         [2.28417934e-01],\n",
       "         [2.28417934e-01],\n",
       "         [7.37559901e-01],\n",
       "         [7.37559901e-01],\n",
       "         [7.87041486e-01],\n",
       "         [7.87041486e-01],\n",
       "         [5.41741337e-01],\n",
       "         [5.41741337e-01],\n",
       "         [8.33009322e-01],\n",
       "         [8.33009322e-01],\n",
       "         [3.38656934e-02],\n",
       "         [3.38656934e-02],\n",
       "         [9.99876490e-01],\n",
       "         [9.99876490e-01],\n",
       "         [8.56476933e-01],\n",
       "         [8.56476933e-01],\n",
       "         [4.68614837e-01],\n",
       "         [4.68614837e-01],\n",
       "         [3.56588190e-01],\n",
       "         [3.56588190e-01],\n",
       "         [1.51204998e-01],\n",
       "         [1.51204998e-01],\n",
       "         [6.25302609e-01],\n",
       "         [6.25302609e-01],\n",
       "         [4.38954465e-01],\n",
       "         [4.38954465e-01],\n",
       "         [3.07139576e-01],\n",
       "         [3.07139576e-01],\n",
       "         [4.86383316e-01],\n",
       "         [4.86383316e-01],\n",
       "         [6.04016719e-01],\n",
       "         [6.04016719e-01],\n",
       "         [4.13161729e-01],\n",
       "         [4.13161729e-01],\n",
       "         [4.47043308e-01],\n",
       "         [4.47043308e-01],\n",
       "         [6.31722556e-01],\n",
       "         [6.31722556e-01],\n",
       "         [8.00304662e-01],\n",
       "         [8.00304662e-01],\n",
       "         [8.14728561e-01],\n",
       "         [8.14728561e-01],\n",
       "         [9.33107118e-02],\n",
       "         [9.33107118e-02],\n",
       "         [9.93591694e-01],\n",
       "         [9.93591694e-01]])}}"
      ]
     },
     "execution_count": 1,
     "metadata": {},
     "output_type": "execute_result"
    }
   ],
   "source": [
    "ds = load_by_id(run_id_a)\n",
    "ds.get_parameter_data('x1')"
   ]
  },
  {
   "cell_type": "code",
   "execution_count": null,
   "metadata": {},
   "outputs": [],
   "source": []
  }
 ],
 "metadata": {
  "kernelspec": {
   "display_name": "Python 3",
   "language": "python",
   "name": "python3"
  },
  "language_info": {
   "codemirror_mode": {
    "name": "ipython",
    "version": 3
   },
   "file_extension": ".py",
   "mimetype": "text/x-python",
   "name": "python",
   "nbconvert_exporter": "python",
   "pygments_lexer": "ipython3",
   "version": "3.7.7"
  },
  "nbsphinx": {
   "timeout": 600
  },
  "toc": {
   "base_numbering": 1,
   "nav_menu": {},
   "number_sections": true,
   "sideBar": true,
   "skip_h1_title": false,
   "title_cell": "Table of Contents",
   "title_sidebar": "Contents",
   "toc_cell": false,
   "toc_position": {},
   "toc_section_display": true,
   "toc_window_display": false
  },
  "varInspector": {
   "cols": {
    "lenName": 16,
    "lenType": 16,
    "lenVar": 40
   },
   "kernels_config": {
    "python": {
     "delete_cmd_postfix": "",
     "delete_cmd_prefix": "del ",
     "library": "var_list.py",
     "varRefreshCmd": "print(var_dic_list())"
    },
    "r": {
     "delete_cmd_postfix": ") ",
     "delete_cmd_prefix": "rm(",
     "library": "var_list.r",
     "varRefreshCmd": "cat(var_dic_list()) "
    }
   },
   "types_to_exclude": [
    "module",
    "function",
    "builtin_function_or_method",
    "instance",
    "_Feature"
   ],
   "window_display": false
  }
 },
 "nbformat": 4,
 "nbformat_minor": 2
}
