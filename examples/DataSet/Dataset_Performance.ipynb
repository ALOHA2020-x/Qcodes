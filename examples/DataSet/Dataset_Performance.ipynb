{
 "cells": [
  {
   "cell_type": "markdown",
   "metadata": {},
   "source": [
    "# DataSet Performance\n",
    "\n",
    "This notebook shows the trade-off between inserting data into a database row-by-row and as binary blobs. Inserting the data row-by-row means that we have direct access to all the data and may perform queries directly on the values of the data. On the other hand, as we shall see, this is much slower than inserting the data directly as binary blobs."
   ]
  },
  {
   "cell_type": "markdown",
   "metadata": {},
   "source": [
    "First, we choose a new location for the database to ensure that we don't add a bunch of benchmarking data to the default one."
   ]
  },
  {
   "cell_type": "code",
   "execution_count": 1,
   "metadata": {},
   "outputs": [
    {
     "name": "stdout",
     "output_type": "stream",
     "text": [
      "Logging hadn't been started.\n",
      "Activating auto-logging. Current session state plus future input saved.\n",
      "Filename       : /home/vsts/.qcodes/logs/command_history.log\n",
      "Mode           : append\n",
      "Output logging : True\n",
      "Raw input log  : False\n",
      "Timestamping   : True\n",
      "State          : active\n"
     ]
    },
    {
     "name": "stdout",
     "output_type": "stream",
     "text": [
      "Qcodes Logfile : /home/vsts/.qcodes/logs/200526-20027-qcodes.log\n"
     ]
    }
   ],
   "source": [
    "import os\n",
    "cwd = os.getcwd()\n",
    "import qcodes as qc\n",
    "qc.config[\"core\"][\"db_location\"] = os.path.join(cwd, 'testing.db')\n"
   ]
  },
  {
   "cell_type": "code",
   "execution_count": 2,
   "metadata": {},
   "outputs": [],
   "source": [
    "%matplotlib inline\n",
    "import time\n",
    "import matplotlib.pyplot as plt\n",
    "import numpy as np\n",
    "\n",
    "import qcodes as qc\n",
    "from qcodes.instrument.parameter import ManualParameter\n",
    "from qcodes.dataset.experiment_container import (Experiment,\n",
    "                                                 load_last_experiment,\n",
    "                                                 new_experiment)\n",
    "from qcodes.dataset.sqlite.database import initialise_database\n",
    "from qcodes import load_or_create_experiment\n",
    "from qcodes.dataset.measurements import Measurement"
   ]
  },
  {
   "cell_type": "code",
   "execution_count": 3,
   "metadata": {},
   "outputs": [
    {
     "name": "stdout",
     "output_type": "stream",
     "text": [
      "\r",
      "0it [00:00, ?it/s]"
     ]
    },
    {
     "name": "stdout",
     "output_type": "stream",
     "text": [
      "\r",
      "Upgrading database; v0 -> v1: : 0it [00:00, ?it/s]"
     ]
    },
    {
     "name": "stdout",
     "output_type": "stream",
     "text": [
      "\r",
      "Upgrading database; v0 -> v1: : 0it [00:00, ?it/s]"
     ]
    },
    {
     "name": "stdout",
     "output_type": "stream",
     "text": [
      "\n",
      "\r",
      "  0%|          | 0/1 [00:00<?, ?it/s]"
     ]
    },
    {
     "name": "stdout",
     "output_type": "stream",
     "text": [
      "\r",
      "Upgrading database; v1 -> v2:   0%|          | 0/1 [00:00<?, ?it/s]"
     ]
    },
    {
     "name": "stdout",
     "output_type": "stream",
     "text": [
      "\r",
      "Upgrading database; v1 -> v2: 100%|██████████| 1/1 [00:00<00:00, 1157.69it/s]"
     ]
    },
    {
     "name": "stdout",
     "output_type": "stream",
     "text": [
      "\n",
      "\r",
      "0it [00:00, ?it/s]"
     ]
    },
    {
     "name": "stdout",
     "output_type": "stream",
     "text": [
      "\r",
      "Upgrading database; v2 -> v3: : 0it [00:00, ?it/s]"
     ]
    },
    {
     "name": "stdout",
     "output_type": "stream",
     "text": [
      "\r",
      "Upgrading database; v2 -> v3: : 0it [00:00, ?it/s]"
     ]
    },
    {
     "name": "stdout",
     "output_type": "stream",
     "text": [
      "\n",
      "\r",
      "0it [00:00, ?it/s]"
     ]
    },
    {
     "name": "stdout",
     "output_type": "stream",
     "text": [
      "\r",
      "Upgrading database; v3 -> v4: : 0it [00:00, ?it/s]"
     ]
    },
    {
     "name": "stdout",
     "output_type": "stream",
     "text": [
      "\r",
      "Upgrading database; v3 -> v4: : 0it [00:00, ?it/s]"
     ]
    },
    {
     "name": "stdout",
     "output_type": "stream",
     "text": [
      "\n",
      "\r",
      "  0%|          | 0/1 [00:00<?, ?it/s]"
     ]
    },
    {
     "name": "stdout",
     "output_type": "stream",
     "text": [
      "\r",
      "Upgrading database; v4 -> v5:   0%|          | 0/1 [00:00<?, ?it/s]"
     ]
    },
    {
     "name": "stdout",
     "output_type": "stream",
     "text": [
      "\r",
      "Upgrading database; v4 -> v5: 100%|██████████| 1/1 [00:00<00:00, 961.33it/s]"
     ]
    },
    {
     "name": "stdout",
     "output_type": "stream",
     "text": [
      "\n",
      "\r",
      "0it [00:00, ?it/s]"
     ]
    },
    {
     "name": "stdout",
     "output_type": "stream",
     "text": [
      "\r",
      "Upgrading database; v5 -> v6: : 0it [00:00, ?it/s]"
     ]
    },
    {
     "name": "stdout",
     "output_type": "stream",
     "text": [
      "\r",
      "Upgrading database; v5 -> v6: : 0it [00:00, ?it/s]"
     ]
    },
    {
     "name": "stdout",
     "output_type": "stream",
     "text": [
      "\n",
      "\r",
      "  0%|          | 0/1 [00:00<?, ?it/s]"
     ]
    },
    {
     "name": "stdout",
     "output_type": "stream",
     "text": [
      "\r",
      "Upgrading database; v6 -> v7:   0%|          | 0/1 [00:00<?, ?it/s]"
     ]
    },
    {
     "name": "stdout",
     "output_type": "stream",
     "text": [
      "\r",
      "Upgrading database; v6 -> v7: 100%|██████████| 1/1 [00:00<00:00, 249.29it/s]"
     ]
    },
    {
     "name": "stdout",
     "output_type": "stream",
     "text": [
      "\n",
      "\r",
      "  0%|          | 0/1 [00:00<?, ?it/s]"
     ]
    },
    {
     "name": "stdout",
     "output_type": "stream",
     "text": [
      "\r",
      "Upgrading database; v7 -> v8:   0%|          | 0/1 [00:00<?, ?it/s]"
     ]
    },
    {
     "name": "stdout",
     "output_type": "stream",
     "text": [
      "\r",
      "Upgrading database; v7 -> v8: 100%|██████████| 1/1 [00:00<00:00, 1121.47it/s]"
     ]
    },
    {
     "name": "stdout",
     "output_type": "stream",
     "text": [
      "\n",
      "\r",
      "  0%|          | 0/1 [00:00<?, ?it/s]"
     ]
    },
    {
     "name": "stdout",
     "output_type": "stream",
     "text": [
      "\r",
      "Upgrading database; v8 -> v9:   0%|          | 0/1 [00:00<?, ?it/s]"
     ]
    },
    {
     "name": "stdout",
     "output_type": "stream",
     "text": [
      "\r",
      "Upgrading database; v8 -> v9: 100%|██████████| 1/1 [00:00<00:00, 1125.08it/s]"
     ]
    },
    {
     "name": "stdout",
     "output_type": "stream",
     "text": [
      "\n"
     ]
    }
   ],
   "source": [
    "initialise_database()\n",
    "exp = load_or_create_experiment(experiment_name='tutorial_exp', sample_name=\"no sample\")"
   ]
  },
  {
   "cell_type": "markdown",
   "metadata": {},
   "source": [
    "Here, we define a simple function to benchmark the time it takes to insert n points with either numeric or array data type.\n",
    "We will compare both the time used to call ``add_result`` and the time used for the full measurement."
   ]
  },
  {
   "cell_type": "code",
   "execution_count": 4,
   "metadata": {},
   "outputs": [],
   "source": [
    "def insert_data(paramtype, npoints, nreps=1):\n",
    "\n",
    "    meas = Measurement(exp=exp)\n",
    "\n",
    "    x1 = ManualParameter('x1')\n",
    "    x2 = ManualParameter('x2')\n",
    "    x3 = ManualParameter('x3')\n",
    "    y1 = ManualParameter('y1')\n",
    "    y2 = ManualParameter('y2')\n",
    "\n",
    "    meas.register_parameter(x1, paramtype=paramtype)\n",
    "    meas.register_parameter(x2, paramtype=paramtype)\n",
    "    meas.register_parameter(x3, paramtype=paramtype)\n",
    "    meas.register_parameter(y1, setpoints=[x1, x2, x3],\n",
    "                            paramtype=paramtype)\n",
    "    meas.register_parameter(y2, setpoints=[x1, x2, x3],\n",
    "                            paramtype=paramtype)\n",
    "    start = time.perf_counter()\n",
    "    with meas.run() as datasaver:\n",
    "        start_adding = time.perf_counter()\n",
    "        for i in range(nreps):\n",
    "            datasaver.add_result((x1, np.random.rand(npoints)),\n",
    "                                 (x2, np.random.rand(npoints)),\n",
    "                                 (x3, np.random.rand(npoints)),\n",
    "                                 (y1, np.random.rand(npoints)),\n",
    "                                 (y2, np.random.rand(npoints)))\n",
    "        stop_adding = time.perf_counter()\n",
    "        run_id = datasaver.run_id\n",
    "    stop = time.perf_counter()\n",
    "    tot_time = stop - start\n",
    "    add_time = stop_adding - start_adding\n",
    "    return tot_time, add_time, run_id"
   ]
  },
  {
   "cell_type": "markdown",
   "metadata": {},
   "source": [
    "## Comparison between numeric/array data and binary blob"
   ]
  },
  {
   "cell_type": "markdown",
   "metadata": {},
   "source": [
    "### Case1: Short experiment time"
   ]
  },
  {
   "cell_type": "code",
   "execution_count": 5,
   "metadata": {},
   "outputs": [
    {
     "name": "stdout",
     "output_type": "stream",
     "text": [
      "Starting experimental run with id: 1. \n",
      "Starting experimental run with id: 2. \n",
      "Starting experimental run with id: 3. \n"
     ]
    },
    {
     "name": "stdout",
     "output_type": "stream",
     "text": [
      "Starting experimental run with id: 4. \n"
     ]
    },
    {
     "name": "stdout",
     "output_type": "stream",
     "text": [
      "Starting experimental run with id: 5. \n"
     ]
    },
    {
     "name": "stdout",
     "output_type": "stream",
     "text": [
      "Starting experimental run with id: 6. \n"
     ]
    },
    {
     "name": "stdout",
     "output_type": "stream",
     "text": [
      "Starting experimental run with id: 7. \n",
      "Starting experimental run with id: 8. \n"
     ]
    },
    {
     "name": "stdout",
     "output_type": "stream",
     "text": [
      "Starting experimental run with id: 9. \n"
     ]
    },
    {
     "name": "stdout",
     "output_type": "stream",
     "text": [
      "Starting experimental run with id: 10. \n",
      "Starting experimental run with id: 11. \n"
     ]
    },
    {
     "name": "stdout",
     "output_type": "stream",
     "text": [
      "Starting experimental run with id: 12. \n",
      "Starting experimental run with id: 13. \n"
     ]
    },
    {
     "name": "stdout",
     "output_type": "stream",
     "text": [
      "Starting experimental run with id: 14. \n"
     ]
    }
   ],
   "source": [
    "sizes = [1,500,1000,2000,3000,4000,5000]\n",
    "t_numeric = []\n",
    "t_numeric_add = []\n",
    "t_array = []\n",
    "t_array_add = []\n",
    "for size in sizes:\n",
    "    tn, tna, run_id_n =  insert_data('numeric', size)\n",
    "    t_numeric.append(tn)\n",
    "    t_numeric_add.append(tna)\n",
    "\n",
    "    ta, taa, run_id_a =  insert_data('array', size)\n",
    "    t_array.append(ta)\n",
    "    t_array_add.append(taa)"
   ]
  },
  {
   "cell_type": "code",
   "execution_count": 6,
   "metadata": {},
   "outputs": [
    {
     "data": {
      "image/png": "[encoded data removed]",
      "text/plain": [
       "<Figure size 432x288 with 1 Axes>"
      ]
     },
     "metadata": {
      "needs_background": "light"
     },
     "output_type": "display_data"
    }
   ],
   "source": [
    "fig, ax = plt.subplots(1,1)\n",
    "ax.plot(sizes, t_numeric, 'o-', label='Inserting row-by-row')\n",
    "ax.plot(sizes, t_numeric_add, 'o-', label='Inserting row-by-row: add_result only')\n",
    "ax.plot(sizes, t_array, 'd-', label='Inserting as binary blob')\n",
    "ax.plot(sizes, t_array_add, 'd-', label='Inserting as binary blob: add_result only')\n",
    "ax.legend()\n",
    "ax.set_xlabel('Array length')\n",
    "ax.set_ylabel('Time (s)')\n",
    "fig.tight_layout()"
   ]
  },
  {
   "cell_type": "markdown",
   "metadata": {},
   "source": [
    "As shown in the latter figure, the time to setup and and close the experiment is approximately 0.4 sec. In case of small array sizes, the difference between inserting values of data as arrays and inserting them row-by-row is relatively unimportant. At larger array sizes, i.e. above 10000 points, the cost of writing data as individual datapoints starts to become important.\n"
   ]
  },
  {
   "cell_type": "markdown",
   "metadata": {},
   "source": [
    "### Case2: Long experiment time "
   ]
  },
  {
   "cell_type": "code",
   "execution_count": 7,
   "metadata": {},
   "outputs": [
    {
     "name": "stdout",
     "output_type": "stream",
     "text": [
      "Starting experimental run with id: 15. \n",
      "Starting experimental run with id: 16. \n",
      "Starting experimental run with id: 17. \n"
     ]
    },
    {
     "name": "stdout",
     "output_type": "stream",
     "text": [
      "Starting experimental run with id: 18. \n",
      "Starting experimental run with id: 19. \n"
     ]
    },
    {
     "name": "stdout",
     "output_type": "stream",
     "text": [
      "Starting experimental run with id: 20. \n"
     ]
    },
    {
     "name": "stdout",
     "output_type": "stream",
     "text": [
      "Starting experimental run with id: 21. \n"
     ]
    },
    {
     "name": "stdout",
     "output_type": "stream",
     "text": [
      "Starting experimental run with id: 22. \n"
     ]
    },
    {
     "name": "stdout",
     "output_type": "stream",
     "text": [
      "Starting experimental run with id: 23. \n"
     ]
    },
    {
     "name": "stdout",
     "output_type": "stream",
     "text": [
      "Starting experimental run with id: 24. \n"
     ]
    },
    {
     "name": "stdout",
     "output_type": "stream",
     "text": [
      "Starting experimental run with id: 25. \n"
     ]
    },
    {
     "name": "stdout",
     "output_type": "stream",
     "text": [
      "Starting experimental run with id: 26. \n"
     ]
    },
    {
     "name": "stdout",
     "output_type": "stream",
     "text": [
      "Starting experimental run with id: 27. \n"
     ]
    },
    {
     "name": "stdout",
     "output_type": "stream",
     "text": [
      "Starting experimental run with id: 28. \n"
     ]
    }
   ],
   "source": [
    "sizes = [1,500,1000,2000,3000,4000,5000]\n",
    "nreps = 100\n",
    "t_numeric = []\n",
    "t_numeric_add = []\n",
    "t_numeric_run_ids = []\n",
    "t_array = []\n",
    "t_array_add = []\n",
    "t_array_run_ids = []\n",
    "for size in sizes:\n",
    "    tn, tna, run_id_n =  insert_data('numeric', size, nreps=nreps)\n",
    "    t_numeric.append(tn)\n",
    "    t_numeric_add.append(tna)\n",
    "    t_numeric_run_ids.append(run_id_n)\n",
    "\n",
    "    ta, taa, run_id_a =  insert_data('array', size, nreps=nreps)\n",
    "    t_array.append(ta)\n",
    "    t_array_add.append(taa)\n",
    "    t_array_run_ids.append(run_id_a)"
   ]
  },
  {
   "cell_type": "code",
   "execution_count": 8,
   "metadata": {
    "scrolled": true
   },
   "outputs": [
    {
     "data": {
      "image/png": "[encoded data removed]",
      "text/plain": [
       "<Figure size 432x288 with 1 Axes>"
      ]
     },
     "metadata": {
      "needs_background": "light"
     },
     "output_type": "display_data"
    }
   ],
   "source": [
    "fig, ax = plt.subplots(1,1)\n",
    "ax.plot(sizes, t_numeric, 'o-', label='Inserting row-by-row')\n",
    "ax.plot(sizes, t_numeric_add, 'o-', label='Inserting row-by-row: add_result only')\n",
    "ax.plot(sizes, t_array, 'd-', label='Inserting as binary blob')\n",
    "ax.plot(sizes, t_array_add, 'd-', label='Inserting as binary blob: add_result only')\n",
    "ax.legend()\n",
    "ax.set_xlabel('Array length')\n",
    "ax.set_ylabel('Time (s)')\n",
    "fig.tight_layout()"
   ]
  },
  {
   "cell_type": "markdown",
   "metadata": {},
   "source": [
    "However, as we increase the length of the experiment, as seen here by repeating the insertion 100 times, we see a big difference between inserting values of the data row-by-row and inserting it as a binary blob."
   ]
  },
  {
   "cell_type": "markdown",
   "metadata": {},
   "source": [
    "## Loading the data "
   ]
  },
  {
   "cell_type": "code",
   "execution_count": 9,
   "metadata": {},
   "outputs": [],
   "source": [
    "from qcodes.dataset.data_set import load_by_id\n",
    "from qcodes.dataset.data_export import get_data_by_id"
   ]
  },
  {
   "cell_type": "markdown",
   "metadata": {},
   "source": [
    "As usual you can load the data by using the ``load_by_id`` function but you will notice that the different storage methods\n",
    "are reflected in shape of the data as it is retrieved. "
   ]
  },
  {
   "cell_type": "code",
   "execution_count": 10,
   "metadata": {},
   "outputs": [],
   "source": [
    "run_id_n = t_numeric_run_ids[0]\n",
    "run_id_a = t_array_run_ids[0]"
   ]
  },
  {
   "cell_type": "code",
   "execution_count": 11,
   "metadata": {
    "scrolled": true
   },
   "outputs": [
    {
     "data": {
      "text/plain": [
       "{'x1': {'x1': array([3.88417181e-01, 3.88417181e-01, 1.62362369e-01, 1.62362369e-01,\n",
       "         6.21925601e-03, 6.21925601e-03, 9.17722293e-01, 9.17722293e-01,\n",
       "         6.80168564e-02, 6.80168564e-02, 4.46932574e-01, 4.46932574e-01,\n",
       "         8.26156131e-01, 8.26156131e-01, 7.11445255e-01, 7.11445255e-01,\n",
       "         7.48117160e-02, 7.48117160e-02, 1.11047717e-02, 1.11047717e-02,\n",
       "         7.70094524e-01, 7.70094524e-01, 8.96968350e-01, 8.96968350e-01,\n",
       "         9.42294502e-01, 9.42294502e-01, 5.36255366e-01, 5.36255366e-01,\n",
       "         1.32985066e-01, 1.32985066e-01, 2.97803923e-01, 2.97803923e-01,\n",
       "         7.49573427e-01, 7.49573427e-01, 2.64716762e-02, 2.64716762e-02,\n",
       "         7.98047081e-01, 7.98047081e-01, 6.52293803e-03, 6.52293803e-03,\n",
       "         8.51317184e-01, 8.51317184e-01, 9.34516249e-01, 9.34516249e-01,\n",
       "         3.52507161e-01, 3.52507161e-01, 8.69199327e-01, 8.69199327e-01,\n",
       "         7.94655278e-01, 7.94655278e-01, 4.12146442e-01, 4.12146442e-01,\n",
       "         4.50146610e-01, 4.50146610e-01, 9.20333918e-01, 9.20333918e-01,\n",
       "         7.16088468e-01, 7.16088468e-01, 7.05035947e-02, 7.05035947e-02,\n",
       "         6.88000701e-01, 6.88000701e-01, 2.09652650e-01, 2.09652650e-01,\n",
       "         8.46292226e-01, 8.46292226e-01, 3.15992597e-01, 3.15992597e-01,\n",
       "         1.87608219e-01, 1.87608219e-01, 7.13033607e-01, 7.13033607e-01,\n",
       "         5.08223934e-01, 5.08223934e-01, 5.39376521e-01, 5.39376521e-01,\n",
       "         1.81772944e-01, 1.81772944e-01, 8.17025052e-01, 8.17025052e-01,\n",
       "         5.39277664e-01, 5.39277664e-01, 5.08581009e-01, 5.08581009e-01,\n",
       "         2.66211914e-01, 2.66211914e-01, 8.35960026e-01, 8.35960026e-01,\n",
       "         3.81976946e-02, 3.81976946e-02, 7.84558347e-01, 7.84558347e-01,\n",
       "         7.27549805e-01, 7.27549805e-01, 9.59828360e-01, 9.59828360e-01,\n",
       "         1.71163933e-01, 1.71163933e-01, 4.13865917e-01, 4.13865917e-01,\n",
       "         2.40415643e-01, 2.40415643e-01, 5.86958016e-01, 5.86958016e-01,\n",
       "         3.69638291e-01, 3.69638291e-01, 6.63060447e-01, 6.63060447e-01,\n",
       "         3.92465738e-01, 3.92465738e-01, 1.59143433e-01, 1.59143433e-01,\n",
       "         6.58834905e-01, 6.58834905e-01, 2.16856299e-01, 2.16856299e-01,\n",
       "         5.58859004e-01, 5.58859004e-01, 5.64372442e-01, 5.64372442e-01,\n",
       "         6.02957885e-01, 6.02957885e-01, 4.94175567e-05, 4.94175567e-05,\n",
       "         6.21862791e-01, 6.21862791e-01, 6.42271804e-01, 6.42271804e-01,\n",
       "         6.59953771e-01, 6.59953771e-01, 5.02387052e-01, 5.02387052e-01,\n",
       "         1.95463745e-01, 1.95463745e-01, 7.64504364e-01, 7.64504364e-01,\n",
       "         2.80390233e-01, 2.80390233e-01, 9.35921811e-01, 9.35921811e-01,\n",
       "         6.39210143e-01, 6.39210143e-01, 5.56146149e-01, 5.56146149e-01,\n",
       "         8.91114654e-01, 8.91114654e-01, 2.55863324e-01, 2.55863324e-01,\n",
       "         7.03568062e-01, 7.03568062e-01, 6.49065862e-01, 6.49065862e-01,\n",
       "         9.43558539e-01, 9.43558539e-01, 9.80489237e-01, 9.80489237e-01,\n",
       "         4.94493861e-01, 4.94493861e-01, 5.54038662e-01, 5.54038662e-01,\n",
       "         3.46764906e-01, 3.46764906e-01, 4.18140254e-01, 4.18140254e-01,\n",
       "         6.66433437e-02, 6.66433437e-02, 8.40083452e-02, 8.40083452e-02,\n",
       "         1.54482060e-01, 1.54482060e-01, 9.67299954e-01, 9.67299954e-01,\n",
       "         3.66635970e-02, 3.66635970e-02, 7.34009827e-01, 7.34009827e-01,\n",
       "         3.31697502e-02, 3.31697502e-02, 1.42579235e-01, 1.42579235e-01,\n",
       "         1.41246469e-01, 1.41246469e-01, 2.20739698e-02, 2.20739698e-02,\n",
       "         6.84053180e-01, 6.84053180e-01, 5.85897934e-01, 5.85897934e-01,\n",
       "         8.46605799e-01, 8.46605799e-01, 7.65245184e-02, 7.65245184e-02,\n",
       "         9.04252152e-01, 9.04252152e-01, 7.96549338e-02, 7.96549338e-02,\n",
       "         1.67334732e-01, 1.67334732e-01, 5.89276148e-01, 5.89276148e-01])}}"
      ]
     },
     "execution_count": 11,
     "metadata": {},
     "output_type": "execute_result"
    }
   ],
   "source": [
    "ds = load_by_id(run_id_n)\n",
    "ds.get_parameter_data('x1')"
   ]
  },
  {
   "cell_type": "markdown",
   "metadata": {},
   "source": [
    "And a dataset stored as binary arrays"
   ]
  },
  {
   "cell_type": "code",
   "execution_count": 12,
   "metadata": {
    "scrolled": true
   },
   "outputs": [
    {
     "data": {
      "text/plain": [
       "{'x1': {'x1': array([[0.14224691],\n",
       "         [0.14224691],\n",
       "         [0.23989642],\n",
       "         [0.23989642],\n",
       "         [0.10917197],\n",
       "         [0.10917197],\n",
       "         [0.24681147],\n",
       "         [0.24681147],\n",
       "         [0.87074898],\n",
       "         [0.87074898],\n",
       "         [0.88818548],\n",
       "         [0.88818548],\n",
       "         [0.74608428],\n",
       "         [0.74608428],\n",
       "         [0.98826255],\n",
       "         [0.98826255],\n",
       "         [0.75060965],\n",
       "         [0.75060965],\n",
       "         [0.42017268],\n",
       "         [0.42017268],\n",
       "         [0.28396527],\n",
       "         [0.28396527],\n",
       "         [0.53260978],\n",
       "         [0.53260978],\n",
       "         [0.33797728],\n",
       "         [0.33797728],\n",
       "         [0.41521331],\n",
       "         [0.41521331],\n",
       "         [0.34826572],\n",
       "         [0.34826572],\n",
       "         [0.57093026],\n",
       "         [0.57093026],\n",
       "         [0.22622188],\n",
       "         [0.22622188],\n",
       "         [0.46107444],\n",
       "         [0.46107444],\n",
       "         [0.34487069],\n",
       "         [0.34487069],\n",
       "         [0.51205064],\n",
       "         [0.51205064],\n",
       "         [0.58646004],\n",
       "         [0.58646004],\n",
       "         [0.34083569],\n",
       "         [0.34083569],\n",
       "         [0.77251442],\n",
       "         [0.77251442],\n",
       "         [0.73735676],\n",
       "         [0.73735676],\n",
       "         [0.55738665],\n",
       "         [0.55738665],\n",
       "         [0.67018928],\n",
       "         [0.67018928],\n",
       "         [0.61899341],\n",
       "         [0.61899341],\n",
       "         [0.29284176],\n",
       "         [0.29284176],\n",
       "         [0.73560137],\n",
       "         [0.73560137],\n",
       "         [0.94604196],\n",
       "         [0.94604196],\n",
       "         [0.54585212],\n",
       "         [0.54585212],\n",
       "         [0.03487209],\n",
       "         [0.03487209],\n",
       "         [0.27765845],\n",
       "         [0.27765845],\n",
       "         [0.83738817],\n",
       "         [0.83738817],\n",
       "         [0.13134146],\n",
       "         [0.13134146],\n",
       "         [0.99576032],\n",
       "         [0.99576032],\n",
       "         [0.76153595],\n",
       "         [0.76153595],\n",
       "         [0.4800556 ],\n",
       "         [0.4800556 ],\n",
       "         [0.05344039],\n",
       "         [0.05344039],\n",
       "         [0.64749663],\n",
       "         [0.64749663],\n",
       "         [0.64260629],\n",
       "         [0.64260629],\n",
       "         [0.35925954],\n",
       "         [0.35925954],\n",
       "         [0.02737676],\n",
       "         [0.02737676],\n",
       "         [0.19137524],\n",
       "         [0.19137524],\n",
       "         [0.56045234],\n",
       "         [0.56045234],\n",
       "         [0.08473347],\n",
       "         [0.08473347],\n",
       "         [0.09025855],\n",
       "         [0.09025855],\n",
       "         [0.00363394],\n",
       "         [0.00363394],\n",
       "         [0.11015979],\n",
       "         [0.11015979],\n",
       "         [0.27942058],\n",
       "         [0.27942058],\n",
       "         [0.15463424],\n",
       "         [0.15463424],\n",
       "         [0.81661231],\n",
       "         [0.81661231],\n",
       "         [0.6498391 ],\n",
       "         [0.6498391 ],\n",
       "         [0.43798195],\n",
       "         [0.43798195],\n",
       "         [0.11231225],\n",
       "         [0.11231225],\n",
       "         [0.41377704],\n",
       "         [0.41377704],\n",
       "         [0.95734151],\n",
       "         [0.95734151],\n",
       "         [0.84212375],\n",
       "         [0.84212375],\n",
       "         [0.2081457 ],\n",
       "         [0.2081457 ],\n",
       "         [0.79254179],\n",
       "         [0.79254179],\n",
       "         [0.4409224 ],\n",
       "         [0.4409224 ],\n",
       "         [0.35579215],\n",
       "         [0.35579215],\n",
       "         [0.98910121],\n",
       "         [0.98910121],\n",
       "         [0.14269564],\n",
       "         [0.14269564],\n",
       "         [0.47030033],\n",
       "         [0.47030033],\n",
       "         [0.09225964],\n",
       "         [0.09225964],\n",
       "         [0.10468424],\n",
       "         [0.10468424],\n",
       "         [0.22883304],\n",
       "         [0.22883304],\n",
       "         [0.82542965],\n",
       "         [0.82542965],\n",
       "         [0.39899937],\n",
       "         [0.39899937],\n",
       "         [0.82480894],\n",
       "         [0.82480894],\n",
       "         [0.84686415],\n",
       "         [0.84686415],\n",
       "         [0.84664328],\n",
       "         [0.84664328],\n",
       "         [0.41467489],\n",
       "         [0.41467489],\n",
       "         [0.62234046],\n",
       "         [0.62234046],\n",
       "         [0.5319078 ],\n",
       "         [0.5319078 ],\n",
       "         [0.59203654],\n",
       "         [0.59203654],\n",
       "         [0.40242849],\n",
       "         [0.40242849],\n",
       "         [0.98771811],\n",
       "         [0.98771811],\n",
       "         [0.25015365],\n",
       "         [0.25015365],\n",
       "         [0.33894328],\n",
       "         [0.33894328],\n",
       "         [0.71519878],\n",
       "         [0.71519878],\n",
       "         [0.37016467],\n",
       "         [0.37016467],\n",
       "         [0.01287733],\n",
       "         [0.01287733],\n",
       "         [0.45415144],\n",
       "         [0.45415144],\n",
       "         [0.22251469],\n",
       "         [0.22251469],\n",
       "         [0.13813582],\n",
       "         [0.13813582],\n",
       "         [0.20438896],\n",
       "         [0.20438896],\n",
       "         [0.33011552],\n",
       "         [0.33011552],\n",
       "         [0.00919936],\n",
       "         [0.00919936],\n",
       "         [0.13806651],\n",
       "         [0.13806651],\n",
       "         [0.47538423],\n",
       "         [0.47538423],\n",
       "         [0.08744999],\n",
       "         [0.08744999],\n",
       "         [0.00911461],\n",
       "         [0.00911461],\n",
       "         [0.0674773 ],\n",
       "         [0.0674773 ],\n",
       "         [0.08096631],\n",
       "         [0.08096631],\n",
       "         [0.04473408],\n",
       "         [0.04473408],\n",
       "         [0.44904224],\n",
       "         [0.44904224],\n",
       "         [0.26673974],\n",
       "         [0.26673974],\n",
       "         [0.99937839],\n",
       "         [0.99937839]])}}"
      ]
     },
     "execution_count": 12,
     "metadata": {},
     "output_type": "execute_result"
    }
   ],
   "source": [
    "ds = load_by_id(run_id_a)\n",
    "ds.get_parameter_data('x1')"
   ]
  },
  {
   "cell_type": "code",
   "execution_count": null,
   "metadata": {},
   "outputs": [],
   "source": []
  }
 ],
 "metadata": {
  "kernelspec": {
   "display_name": "Python 3",
   "language": "python",
   "name": "python3"
  },
  "language_info": {
   "codemirror_mode": {
    "name": "ipython",
    "version": 3
   },
   "file_extension": ".py",
   "mimetype": "text/x-python",
   "name": "python",
   "nbconvert_exporter": "python",
   "pygments_lexer": "ipython3",
   "version": "3.7.7"
  },
  "nbsphinx": {
   "timeout": 600
  },
  "toc": {
   "base_numbering": 1,
   "nav_menu": {},
   "number_sections": true,
   "sideBar": true,
   "skip_h1_title": false,
   "title_cell": "Table of Contents",
   "title_sidebar": "Contents",
   "toc_cell": false,
   "toc_position": {},
   "toc_section_display": true,
   "toc_window_display": false
  },
  "varInspector": {
   "cols": {
    "lenName": 16,
    "lenType": 16,
    "lenVar": 40
   },
   "kernels_config": {
    "python": {
     "delete_cmd_postfix": "",
     "delete_cmd_prefix": "del ",
     "library": "var_list.py",
     "varRefreshCmd": "print(var_dic_list())"
    },
    "r": {
     "delete_cmd_postfix": ") ",
     "delete_cmd_prefix": "rm(",
     "library": "var_list.r",
     "varRefreshCmd": "cat(var_dic_list()) "
    }
   },
   "types_to_exclude": [
    "module",
    "function",
    "builtin_function_or_method",
    "instance",
    "_Feature"
   ],
   "window_display": false
  }
 },
 "nbformat": 4,
 "nbformat_minor": 2
}
