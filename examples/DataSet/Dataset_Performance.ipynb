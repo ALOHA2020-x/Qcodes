{
 "cells": [
  {
   "cell_type": "markdown",
   "metadata": {},
   "source": [
    "# DataSet Performance\n",
    "\n",
    "This notebook shows the trade-off between inserting data into a database row-by-row and as binary blobs. Inserting the data row-by-row means that we have direct access to all the data and may perform queries directly on the values of the data. On the other hand, as we shall see, this is much slower than inserting the data directly as binary blobs."
   ]
  },
  {
   "cell_type": "markdown",
   "metadata": {},
   "source": [
    "First, we choose a new location for the database to ensure that we don't add a bunch of benchmarking data to the default one."
   ]
  },
  {
   "cell_type": "code",
   "execution_count": 1,
   "metadata": {
    "execution": {
     "iopub.execute_input": "2021-03-05T11:26:38.731727Z",
     "iopub.status.busy": "2021-03-05T11:26:38.731166Z",
     "iopub.status.idle": "2021-03-05T11:26:39.606816Z",
     "shell.execute_reply": "2021-03-05T11:26:39.607277Z"
    }
   },
   "outputs": [
    {
     "name": "stdout",
     "output_type": "stream",
     "text": [
      "Logging hadn't been started.\n",
      "Activating auto-logging. Current session state plus future input saved.\n",
      "Filename       : /home/runner/.qcodes/logs/command_history.log\n",
      "Mode           : append\n",
      "Output logging : True\n",
      "Raw input log  : False\n",
      "Timestamping   : True\n",
      "State          : active\n"
     ]
    },
    {
     "name": "stdout",
     "output_type": "stream",
     "text": [
      "Qcodes Logfile : /home/runner/.qcodes/logs/210305-4097-qcodes.log\n"
     ]
    }
   ],
   "source": [
    "import os\n",
    "cwd = os.getcwd()\n",
    "import qcodes as qc\n",
    "qc.config[\"core\"][\"db_location\"] = os.path.join(cwd, 'testing.db')\n"
   ]
  },
  {
   "cell_type": "code",
   "execution_count": 2,
   "metadata": {
    "execution": {
     "iopub.execute_input": "2021-03-05T11:26:39.614353Z",
     "iopub.status.busy": "2021-03-05T11:26:39.612525Z",
     "iopub.status.idle": "2021-03-05T11:26:39.800438Z",
     "shell.execute_reply": "2021-03-05T11:26:39.799481Z"
    }
   },
   "outputs": [],
   "source": [
    "%matplotlib inline\n",
    "import time\n",
    "import matplotlib.pyplot as plt\n",
    "import numpy as np\n",
    "\n",
    "import qcodes as qc\n",
    "from qcodes.instrument.parameter import ManualParameter\n",
    "from qcodes.dataset.experiment_container import (Experiment,\n",
    "                                                 load_last_experiment,\n",
    "                                                 new_experiment)\n",
    "from qcodes.dataset.sqlite.database import initialise_database\n",
    "from qcodes import load_or_create_experiment\n",
    "from qcodes.dataset.measurements import Measurement"
   ]
  },
  {
   "cell_type": "code",
   "execution_count": 3,
   "metadata": {
    "execution": {
     "iopub.execute_input": "2021-03-05T11:26:39.804663Z",
     "iopub.status.busy": "2021-03-05T11:26:39.803955Z",
     "iopub.status.idle": "2021-03-05T11:26:40.121625Z",
     "shell.execute_reply": "2021-03-05T11:26:40.121117Z"
    }
   },
   "outputs": [
    {
     "name": "stdout",
     "output_type": "stream",
     "text": [
      "\r",
      "0it [00:00, ?it/s]"
     ]
    },
    {
     "name": "stdout",
     "output_type": "stream",
     "text": [
      "\r",
      "Upgrading database; v0 -> v1: : 0it [00:00, ?it/s]"
     ]
    },
    {
     "name": "stdout",
     "output_type": "stream",
     "text": [
      "\r",
      "Upgrading database; v0 -> v1: : 0it [00:00, ?it/s]"
     ]
    },
    {
     "name": "stdout",
     "output_type": "stream",
     "text": [
      "\n",
      "\r",
      "  0%|          | 0/1 [00:00<?, ?it/s]"
     ]
    },
    {
     "name": "stdout",
     "output_type": "stream",
     "text": [
      "\r",
      "Upgrading database; v1 -> v2:   0%|          | 0/1 [00:00<?, ?it/s]"
     ]
    },
    {
     "name": "stdout",
     "output_type": "stream",
     "text": [
      "\r",
      "Upgrading database; v1 -> v2: 100%|██████████| 1/1 [00:00<00:00, 668.41it/s]"
     ]
    },
    {
     "name": "stdout",
     "output_type": "stream",
     "text": [
      "\n",
      "\r",
      "0it [00:00, ?it/s]"
     ]
    },
    {
     "name": "stdout",
     "output_type": "stream",
     "text": [
      "\r",
      "Upgrading database; v2 -> v3: : 0it [00:00, ?it/s]"
     ]
    },
    {
     "name": "stdout",
     "output_type": "stream",
     "text": [
      "\r",
      "Upgrading database; v2 -> v3: : 0it [00:00, ?it/s]"
     ]
    },
    {
     "name": "stdout",
     "output_type": "stream",
     "text": [
      "\n",
      "\r",
      "0it [00:00, ?it/s]"
     ]
    },
    {
     "name": "stdout",
     "output_type": "stream",
     "text": [
      "\r",
      "Upgrading database; v3 -> v4: : 0it [00:00, ?it/s]"
     ]
    },
    {
     "name": "stdout",
     "output_type": "stream",
     "text": [
      "\r",
      "Upgrading database; v3 -> v4: : 0it [00:00, ?it/s]"
     ]
    },
    {
     "name": "stdout",
     "output_type": "stream",
     "text": [
      "\n",
      "\r",
      "  0%|          | 0/1 [00:00<?, ?it/s]"
     ]
    },
    {
     "name": "stdout",
     "output_type": "stream",
     "text": [
      "\r",
      "Upgrading database; v4 -> v5:   0%|          | 0/1 [00:00<?, ?it/s]"
     ]
    },
    {
     "name": "stdout",
     "output_type": "stream",
     "text": [
      "\r",
      "Upgrading database; v4 -> v5: 100%|██████████| 1/1 [00:00<00:00, 535.94it/s]"
     ]
    },
    {
     "name": "stdout",
     "output_type": "stream",
     "text": [
      "\n",
      "\r",
      "0it [00:00, ?it/s]"
     ]
    },
    {
     "name": "stdout",
     "output_type": "stream",
     "text": [
      "\r",
      "Upgrading database; v5 -> v6: : 0it [00:00, ?it/s]"
     ]
    },
    {
     "name": "stdout",
     "output_type": "stream",
     "text": [
      "\r",
      "Upgrading database; v5 -> v6: : 0it [00:00, ?it/s]"
     ]
    },
    {
     "name": "stdout",
     "output_type": "stream",
     "text": [
      "\n",
      "\r",
      "  0%|          | 0/1 [00:00<?, ?it/s]"
     ]
    },
    {
     "name": "stdout",
     "output_type": "stream",
     "text": [
      "\r",
      "Upgrading database; v6 -> v7:   0%|          | 0/1 [00:00<?, ?it/s]"
     ]
    },
    {
     "name": "stdout",
     "output_type": "stream",
     "text": [
      "\r",
      "Upgrading database; v6 -> v7: 100%|██████████| 1/1 [00:00<00:00, 81.13it/s]"
     ]
    },
    {
     "name": "stdout",
     "output_type": "stream",
     "text": [
      "\n",
      "\r",
      "  0%|          | 0/1 [00:00<?, ?it/s]"
     ]
    },
    {
     "name": "stdout",
     "output_type": "stream",
     "text": [
      "\r",
      "Upgrading database; v7 -> v8:   0%|          | 0/1 [00:00<?, ?it/s]"
     ]
    },
    {
     "name": "stdout",
     "output_type": "stream",
     "text": [
      "\r",
      "Upgrading database; v7 -> v8: 100%|██████████| 1/1 [00:00<00:00, 548.13it/s]"
     ]
    },
    {
     "name": "stdout",
     "output_type": "stream",
     "text": [
      "\n"
     ]
    },
    {
     "name": "stdout",
     "output_type": "stream",
     "text": [
      "\r",
      "  0%|          | 0/1 [00:00<?, ?it/s]"
     ]
    },
    {
     "name": "stdout",
     "output_type": "stream",
     "text": [
      "\r",
      "Upgrading database; v8 -> v9:   0%|          | 0/1 [00:00<?, ?it/s]"
     ]
    },
    {
     "name": "stdout",
     "output_type": "stream",
     "text": [
      "\r",
      "Upgrading database; v8 -> v9: 100%|██████████| 1/1 [00:00<00:00, 887.12it/s]"
     ]
    },
    {
     "name": "stdout",
     "output_type": "stream",
     "text": [
      "\n"
     ]
    }
   ],
   "source": [
    "initialise_database()\n",
    "exp = load_or_create_experiment(experiment_name='tutorial_exp', sample_name=\"no sample\")"
   ]
  },
  {
   "cell_type": "markdown",
   "metadata": {},
   "source": [
    "Here, we define a simple function to benchmark the time it takes to insert n points with either numeric or array data type.\n",
    "We will compare both the time used to call ``add_result`` and the time used for the full measurement."
   ]
  },
  {
   "cell_type": "code",
   "execution_count": 4,
   "metadata": {
    "execution": {
     "iopub.execute_input": "2021-03-05T11:26:40.130086Z",
     "iopub.status.busy": "2021-03-05T11:26:40.129514Z",
     "iopub.status.idle": "2021-03-05T11:26:40.133729Z",
     "shell.execute_reply": "2021-03-05T11:26:40.132956Z"
    }
   },
   "outputs": [],
   "source": [
    "def insert_data(paramtype, npoints, nreps=1):\n",
    "\n",
    "    meas = Measurement(exp=exp)\n",
    "\n",
    "    x1 = ManualParameter('x1')\n",
    "    x2 = ManualParameter('x2')\n",
    "    x3 = ManualParameter('x3')\n",
    "    y1 = ManualParameter('y1')\n",
    "    y2 = ManualParameter('y2')\n",
    "\n",
    "    meas.register_parameter(x1, paramtype=paramtype)\n",
    "    meas.register_parameter(x2, paramtype=paramtype)\n",
    "    meas.register_parameter(x3, paramtype=paramtype)\n",
    "    meas.register_parameter(y1, setpoints=[x1, x2, x3],\n",
    "                            paramtype=paramtype)\n",
    "    meas.register_parameter(y2, setpoints=[x1, x2, x3],\n",
    "                            paramtype=paramtype)\n",
    "    start = time.perf_counter()\n",
    "    with meas.run() as datasaver:\n",
    "        start_adding = time.perf_counter()\n",
    "        for i in range(nreps):\n",
    "            datasaver.add_result((x1, np.random.rand(npoints)),\n",
    "                                 (x2, np.random.rand(npoints)),\n",
    "                                 (x3, np.random.rand(npoints)),\n",
    "                                 (y1, np.random.rand(npoints)),\n",
    "                                 (y2, np.random.rand(npoints)))\n",
    "        stop_adding = time.perf_counter()\n",
    "        run_id = datasaver.run_id\n",
    "    stop = time.perf_counter()\n",
    "    tot_time = stop - start\n",
    "    add_time = stop_adding - start_adding\n",
    "    return tot_time, add_time, run_id"
   ]
  },
  {
   "cell_type": "markdown",
   "metadata": {},
   "source": [
    "## Comparison between numeric/array data and binary blob"
   ]
  },
  {
   "cell_type": "markdown",
   "metadata": {},
   "source": [
    "### Case1: Short experiment time"
   ]
  },
  {
   "cell_type": "code",
   "execution_count": 5,
   "metadata": {
    "execution": {
     "iopub.execute_input": "2021-03-05T11:26:40.141310Z",
     "iopub.status.busy": "2021-03-05T11:26:40.140381Z",
     "iopub.status.idle": "2021-03-05T11:26:41.536753Z",
     "shell.execute_reply": "2021-03-05T11:26:41.535896Z"
    }
   },
   "outputs": [
    {
     "name": "stdout",
     "output_type": "stream",
     "text": [
      "Starting experimental run with id: 1. \n"
     ]
    },
    {
     "name": "stdout",
     "output_type": "stream",
     "text": [
      "Starting experimental run with id: 2. \n"
     ]
    },
    {
     "name": "stdout",
     "output_type": "stream",
     "text": [
      "Starting experimental run with id: 3. \n",
      "Starting experimental run with id: 4. \n"
     ]
    },
    {
     "name": "stdout",
     "output_type": "stream",
     "text": [
      "Starting experimental run with id: 5. \n"
     ]
    },
    {
     "name": "stdout",
     "output_type": "stream",
     "text": [
      "Starting experimental run with id: 6. \n",
      "Starting experimental run with id: 7. \n"
     ]
    },
    {
     "name": "stdout",
     "output_type": "stream",
     "text": [
      "Starting experimental run with id: 8. \n"
     ]
    },
    {
     "name": "stdout",
     "output_type": "stream",
     "text": [
      "Starting experimental run with id: 9. \n"
     ]
    },
    {
     "name": "stdout",
     "output_type": "stream",
     "text": [
      "Starting experimental run with id: 10. \n"
     ]
    },
    {
     "name": "stdout",
     "output_type": "stream",
     "text": [
      "Starting experimental run with id: 11. \n"
     ]
    },
    {
     "name": "stdout",
     "output_type": "stream",
     "text": [
      "Starting experimental run with id: 12. \n"
     ]
    },
    {
     "name": "stdout",
     "output_type": "stream",
     "text": [
      "Starting experimental run with id: 13. \n"
     ]
    },
    {
     "name": "stdout",
     "output_type": "stream",
     "text": [
      "Starting experimental run with id: 14. \n"
     ]
    }
   ],
   "source": [
    "sizes = [1,500,1000,2000,3000,4000,5000]\n",
    "t_numeric = []\n",
    "t_numeric_add = []\n",
    "t_array = []\n",
    "t_array_add = []\n",
    "for size in sizes:\n",
    "    tn, tna, run_id_n =  insert_data('numeric', size)\n",
    "    t_numeric.append(tn)\n",
    "    t_numeric_add.append(tna)\n",
    "\n",
    "    ta, taa, run_id_a =  insert_data('array', size)\n",
    "    t_array.append(ta)\n",
    "    t_array_add.append(taa)"
   ]
  },
  {
   "cell_type": "code",
   "execution_count": 6,
   "metadata": {
    "execution": {
     "iopub.execute_input": "2021-03-05T11:26:41.559948Z",
     "iopub.status.busy": "2021-03-05T11:26:41.554616Z",
     "iopub.status.idle": "2021-03-05T11:26:41.773482Z",
     "shell.execute_reply": "2021-03-05T11:26:41.772994Z"
    }
   },
   "outputs": [
    {
     "data": {
      "image/png": "[encoded data removed]",
      "text/plain": [
       "<Figure size 432x288 with 1 Axes>"
      ]
     },
     "metadata": {
      "needs_background": "light"
     },
     "output_type": "display_data"
    }
   ],
   "source": [
    "fig, ax = plt.subplots(1,1)\n",
    "ax.plot(sizes, t_numeric, 'o-', label='Inserting row-by-row')\n",
    "ax.plot(sizes, t_numeric_add, 'o-', label='Inserting row-by-row: add_result only')\n",
    "ax.plot(sizes, t_array, 'd-', label='Inserting as binary blob')\n",
    "ax.plot(sizes, t_array_add, 'd-', label='Inserting as binary blob: add_result only')\n",
    "ax.legend()\n",
    "ax.set_xlabel('Array length')\n",
    "ax.set_ylabel('Time (s)')\n",
    "fig.tight_layout()"
   ]
  },
  {
   "cell_type": "markdown",
   "metadata": {},
   "source": [
    "As shown in the latter figure, the time to setup and and close the experiment is approximately 0.4 sec. In case of small array sizes, the difference between inserting values of data as arrays and inserting them row-by-row is relatively unimportant. At larger array sizes, i.e. above 10000 points, the cost of writing data as individual datapoints starts to become important.\n"
   ]
  },
  {
   "cell_type": "markdown",
   "metadata": {},
   "source": [
    "### Case2: Long experiment time "
   ]
  },
  {
   "cell_type": "code",
   "execution_count": 7,
   "metadata": {
    "execution": {
     "iopub.execute_input": "2021-03-05T11:26:41.781489Z",
     "iopub.status.busy": "2021-03-05T11:26:41.780370Z",
     "iopub.status.idle": "2021-03-05T11:27:43.779104Z",
     "shell.execute_reply": "2021-03-05T11:27:43.778407Z"
    }
   },
   "outputs": [
    {
     "name": "stdout",
     "output_type": "stream",
     "text": [
      "Starting experimental run with id: 15. \n",
      "Starting experimental run with id: 16. \n"
     ]
    },
    {
     "name": "stdout",
     "output_type": "stream",
     "text": [
      "Starting experimental run with id: 17. \n"
     ]
    },
    {
     "name": "stdout",
     "output_type": "stream",
     "text": [
      "Starting experimental run with id: 18. \n"
     ]
    },
    {
     "name": "stdout",
     "output_type": "stream",
     "text": [
      "Starting experimental run with id: 19. \n"
     ]
    },
    {
     "name": "stdout",
     "output_type": "stream",
     "text": [
      "Starting experimental run with id: 20. \n"
     ]
    },
    {
     "name": "stdout",
     "output_type": "stream",
     "text": [
      "Starting experimental run with id: 21. \n"
     ]
    },
    {
     "name": "stdout",
     "output_type": "stream",
     "text": [
      "Starting experimental run with id: 22. \n"
     ]
    },
    {
     "name": "stdout",
     "output_type": "stream",
     "text": [
      "Starting experimental run with id: 23. \n"
     ]
    },
    {
     "name": "stdout",
     "output_type": "stream",
     "text": [
      "Starting experimental run with id: 24. \n"
     ]
    },
    {
     "name": "stdout",
     "output_type": "stream",
     "text": [
      "Starting experimental run with id: 25. \n"
     ]
    },
    {
     "name": "stdout",
     "output_type": "stream",
     "text": [
      "Starting experimental run with id: 26. \n"
     ]
    },
    {
     "name": "stdout",
     "output_type": "stream",
     "text": [
      "Starting experimental run with id: 27. \n"
     ]
    },
    {
     "name": "stdout",
     "output_type": "stream",
     "text": [
      "Starting experimental run with id: 28. \n"
     ]
    }
   ],
   "source": [
    "sizes = [1,500,1000,2000,3000,4000,5000]\n",
    "nreps = 100\n",
    "t_numeric = []\n",
    "t_numeric_add = []\n",
    "t_numeric_run_ids = []\n",
    "t_array = []\n",
    "t_array_add = []\n",
    "t_array_run_ids = []\n",
    "for size in sizes:\n",
    "    tn, tna, run_id_n =  insert_data('numeric', size, nreps=nreps)\n",
    "    t_numeric.append(tn)\n",
    "    t_numeric_add.append(tna)\n",
    "    t_numeric_run_ids.append(run_id_n)\n",
    "\n",
    "    ta, taa, run_id_a =  insert_data('array', size, nreps=nreps)\n",
    "    t_array.append(ta)\n",
    "    t_array_add.append(taa)\n",
    "    t_array_run_ids.append(run_id_a)"
   ]
  },
  {
   "cell_type": "code",
   "execution_count": 8,
   "metadata": {
    "execution": {
     "iopub.execute_input": "2021-03-05T11:27:43.834952Z",
     "iopub.status.busy": "2021-03-05T11:27:43.803725Z",
     "iopub.status.idle": "2021-03-05T11:27:44.037870Z",
     "shell.execute_reply": "2021-03-05T11:27:44.038345Z"
    },
    "scrolled": true
   },
   "outputs": [
    {
     "data": {
      "image/png": "[encoded data removed]",
      "text/plain": [
       "<Figure size 432x288 with 1 Axes>"
      ]
     },
     "metadata": {
      "needs_background": "light"
     },
     "output_type": "display_data"
    }
   ],
   "source": [
    "fig, ax = plt.subplots(1,1)\n",
    "ax.plot(sizes, t_numeric, 'o-', label='Inserting row-by-row')\n",
    "ax.plot(sizes, t_numeric_add, 'o-', label='Inserting row-by-row: add_result only')\n",
    "ax.plot(sizes, t_array, 'd-', label='Inserting as binary blob')\n",
    "ax.plot(sizes, t_array_add, 'd-', label='Inserting as binary blob: add_result only')\n",
    "ax.legend()\n",
    "ax.set_xlabel('Array length')\n",
    "ax.set_ylabel('Time (s)')\n",
    "fig.tight_layout()"
   ]
  },
  {
   "cell_type": "markdown",
   "metadata": {},
   "source": [
    "However, as we increase the length of the experiment, as seen here by repeating the insertion 100 times, we see a big difference between inserting values of the data row-by-row and inserting it as a binary blob."
   ]
  },
  {
   "cell_type": "markdown",
   "metadata": {},
   "source": [
    "## Loading the data "
   ]
  },
  {
   "cell_type": "code",
   "execution_count": 9,
   "metadata": {
    "execution": {
     "iopub.execute_input": "2021-03-05T11:27:44.042991Z",
     "iopub.status.busy": "2021-03-05T11:27:44.042359Z",
     "iopub.status.idle": "2021-03-05T11:27:44.047538Z",
     "shell.execute_reply": "2021-03-05T11:27:44.046535Z"
    }
   },
   "outputs": [],
   "source": [
    "from qcodes.dataset.data_set import load_by_id\n",
    "from qcodes.dataset.data_export import get_data_by_id"
   ]
  },
  {
   "cell_type": "markdown",
   "metadata": {},
   "source": [
    "As usual you can load the data by using the ``load_by_id`` function but you will notice that the different storage methods\n",
    "are reflected in shape of the data as it is retrieved. "
   ]
  },
  {
   "cell_type": "code",
   "execution_count": 10,
   "metadata": {
    "execution": {
     "iopub.execute_input": "2021-03-05T11:27:44.051478Z",
     "iopub.status.busy": "2021-03-05T11:27:44.050885Z",
     "iopub.status.idle": "2021-03-05T11:27:44.055006Z",
     "shell.execute_reply": "2021-03-05T11:27:44.054275Z"
    }
   },
   "outputs": [],
   "source": [
    "run_id_n = t_numeric_run_ids[0]\n",
    "run_id_a = t_array_run_ids[0]"
   ]
  },
  {
   "cell_type": "code",
   "execution_count": 11,
   "metadata": {
    "execution": {
     "iopub.execute_input": "2021-03-05T11:27:44.058761Z",
     "iopub.status.busy": "2021-03-05T11:27:44.058217Z",
     "iopub.status.idle": "2021-03-05T11:27:44.070512Z",
     "shell.execute_reply": "2021-03-05T11:27:44.070025Z"
    },
    "scrolled": true
   },
   "outputs": [
    {
     "data": {
      "text/plain": [
       "{'x1': {'x1': array([0.43035174, 0.43035174, 0.89327397, 0.89327397, 0.50746386,\n",
       "         0.50746386, 0.26743718, 0.26743718, 0.02802013, 0.02802013,\n",
       "         0.05519007, 0.05519007, 0.47784241, 0.47784241, 0.40360922,\n",
       "         0.40360922, 0.46690919, 0.46690919, 0.23717716, 0.23717716,\n",
       "         0.56139319, 0.56139319, 0.94960249, 0.94960249, 0.97720139,\n",
       "         0.97720139, 0.67364685, 0.67364685, 0.05199121, 0.05199121,\n",
       "         0.22202102, 0.22202102, 0.49656967, 0.49656967, 0.29218758,\n",
       "         0.29218758, 0.0573235 , 0.0573235 , 0.32998424, 0.32998424,\n",
       "         0.61696524, 0.61696524, 0.95298544, 0.95298544, 0.28237795,\n",
       "         0.28237795, 0.22549291, 0.22549291, 0.0432375 , 0.0432375 ,\n",
       "         0.26851254, 0.26851254, 0.08906957, 0.08906957, 0.21965263,\n",
       "         0.21965263, 0.25486935, 0.25486935, 0.8207123 , 0.8207123 ,\n",
       "         0.95528275, 0.95528275, 0.71304837, 0.71304837, 0.9077244 ,\n",
       "         0.9077244 , 0.97342191, 0.97342191, 0.87853039, 0.87853039,\n",
       "         0.42479142, 0.42479142, 0.01843246, 0.01843246, 0.09449696,\n",
       "         0.09449696, 0.6778687 , 0.6778687 , 0.26978656, 0.26978656,\n",
       "         0.37107289, 0.37107289, 0.08762567, 0.08762567, 0.66399157,\n",
       "         0.66399157, 0.23552253, 0.23552253, 0.02258337, 0.02258337,\n",
       "         0.81971496, 0.81971496, 0.25868311, 0.25868311, 0.39689036,\n",
       "         0.39689036, 0.5087962 , 0.5087962 , 0.85200669, 0.85200669,\n",
       "         0.21532158, 0.21532158, 0.83768879, 0.83768879, 0.83427974,\n",
       "         0.83427974, 0.70536073, 0.70536073, 0.3807337 , 0.3807337 ,\n",
       "         0.24770635, 0.24770635, 0.11842001, 0.11842001, 0.52440192,\n",
       "         0.52440192, 0.40656679, 0.40656679, 0.43326845, 0.43326845,\n",
       "         0.64502935, 0.64502935, 0.42832476, 0.42832476, 0.36110221,\n",
       "         0.36110221, 0.55850575, 0.55850575, 0.73269877, 0.73269877,\n",
       "         0.17259468, 0.17259468, 0.37360547, 0.37360547, 0.79654202,\n",
       "         0.79654202, 0.35865674, 0.35865674, 0.17075031, 0.17075031,\n",
       "         0.02151426, 0.02151426, 0.10596901, 0.10596901, 0.63255951,\n",
       "         0.63255951, 0.52976104, 0.52976104, 0.243918  , 0.243918  ,\n",
       "         0.26712237, 0.26712237, 0.92481604, 0.92481604, 0.52983715,\n",
       "         0.52983715, 0.40486432, 0.40486432, 0.91090815, 0.91090815,\n",
       "         0.83986553, 0.83986553, 0.88185961, 0.88185961, 0.54372371,\n",
       "         0.54372371, 0.26533745, 0.26533745, 0.87176988, 0.87176988,\n",
       "         0.85601046, 0.85601046, 0.45387904, 0.45387904, 0.64874387,\n",
       "         0.64874387, 0.1131795 , 0.1131795 , 0.63972619, 0.63972619,\n",
       "         0.34773517, 0.34773517, 0.5183874 , 0.5183874 , 0.9827987 ,\n",
       "         0.9827987 , 0.72715379, 0.72715379, 0.16718429, 0.16718429,\n",
       "         0.44882543, 0.44882543, 0.19841861, 0.19841861, 0.21247133,\n",
       "         0.21247133, 0.28903503, 0.28903503, 0.597686  , 0.597686  ])}}"
      ]
     },
     "execution_count": 1,
     "metadata": {},
     "output_type": "execute_result"
    }
   ],
   "source": [
    "ds = load_by_id(run_id_n)\n",
    "ds.get_parameter_data('x1')"
   ]
  },
  {
   "cell_type": "markdown",
   "metadata": {},
   "source": [
    "And a dataset stored as binary arrays"
   ]
  },
  {
   "cell_type": "code",
   "execution_count": 12,
   "metadata": {
    "execution": {
     "iopub.execute_input": "2021-03-05T11:27:44.074230Z",
     "iopub.status.busy": "2021-03-05T11:27:44.073676Z",
     "iopub.status.idle": "2021-03-05T11:27:44.138996Z",
     "shell.execute_reply": "2021-03-05T11:27:44.139465Z"
    },
    "scrolled": true
   },
   "outputs": [
    {
     "data": {
      "text/plain": [
       "{'x1': {'x1': array([[0.62296345],\n",
       "         [0.62296345],\n",
       "         [0.68906512],\n",
       "         [0.68906512],\n",
       "         [0.56571997],\n",
       "         [0.56571997],\n",
       "         [0.24814299],\n",
       "         [0.24814299],\n",
       "         [0.52803665],\n",
       "         [0.52803665],\n",
       "         [0.78884507],\n",
       "         [0.78884507],\n",
       "         [0.03330039],\n",
       "         [0.03330039],\n",
       "         [0.09763761],\n",
       "         [0.09763761],\n",
       "         [0.99671103],\n",
       "         [0.99671103],\n",
       "         [0.94273314],\n",
       "         [0.94273314],\n",
       "         [0.24382285],\n",
       "         [0.24382285],\n",
       "         [0.0745703 ],\n",
       "         [0.0745703 ],\n",
       "         [0.98795776],\n",
       "         [0.98795776],\n",
       "         [0.10070916],\n",
       "         [0.10070916],\n",
       "         [0.19447442],\n",
       "         [0.19447442],\n",
       "         [0.45431649],\n",
       "         [0.45431649],\n",
       "         [0.22045854],\n",
       "         [0.22045854],\n",
       "         [0.539063  ],\n",
       "         [0.539063  ],\n",
       "         [0.72138722],\n",
       "         [0.72138722],\n",
       "         [0.16291943],\n",
       "         [0.16291943],\n",
       "         [0.93804782],\n",
       "         [0.93804782],\n",
       "         [0.22791679],\n",
       "         [0.22791679],\n",
       "         [0.57172881],\n",
       "         [0.57172881],\n",
       "         [0.51811451],\n",
       "         [0.51811451],\n",
       "         [0.74807303],\n",
       "         [0.74807303],\n",
       "         [0.15711711],\n",
       "         [0.15711711],\n",
       "         [0.23929402],\n",
       "         [0.23929402],\n",
       "         [0.28135614],\n",
       "         [0.28135614],\n",
       "         [0.98403555],\n",
       "         [0.98403555],\n",
       "         [0.49677133],\n",
       "         [0.49677133],\n",
       "         [0.90533351],\n",
       "         [0.90533351],\n",
       "         [0.43169113],\n",
       "         [0.43169113],\n",
       "         [0.29187794],\n",
       "         [0.29187794],\n",
       "         [0.7825242 ],\n",
       "         [0.7825242 ],\n",
       "         [0.21526889],\n",
       "         [0.21526889],\n",
       "         [0.00925801],\n",
       "         [0.00925801],\n",
       "         [0.56998824],\n",
       "         [0.56998824],\n",
       "         [0.14121323],\n",
       "         [0.14121323],\n",
       "         [0.61989392],\n",
       "         [0.61989392],\n",
       "         [0.55405395],\n",
       "         [0.55405395],\n",
       "         [0.23963027],\n",
       "         [0.23963027],\n",
       "         [0.1483516 ],\n",
       "         [0.1483516 ],\n",
       "         [0.21654118],\n",
       "         [0.21654118],\n",
       "         [0.59053306],\n",
       "         [0.59053306],\n",
       "         [0.04556146],\n",
       "         [0.04556146],\n",
       "         [0.57440687],\n",
       "         [0.57440687],\n",
       "         [0.48422401],\n",
       "         [0.48422401],\n",
       "         [0.53166609],\n",
       "         [0.53166609],\n",
       "         [0.94586627],\n",
       "         [0.94586627],\n",
       "         [0.57636013],\n",
       "         [0.57636013],\n",
       "         [0.89888071],\n",
       "         [0.89888071],\n",
       "         [0.14585638],\n",
       "         [0.14585638],\n",
       "         [0.03123487],\n",
       "         [0.03123487],\n",
       "         [0.08231764],\n",
       "         [0.08231764],\n",
       "         [0.91590086],\n",
       "         [0.91590086],\n",
       "         [0.79244088],\n",
       "         [0.79244088],\n",
       "         [0.92445681],\n",
       "         [0.92445681],\n",
       "         [0.21805092],\n",
       "         [0.21805092],\n",
       "         [0.19285973],\n",
       "         [0.19285973],\n",
       "         [0.21613364],\n",
       "         [0.21613364],\n",
       "         [0.29631492],\n",
       "         [0.29631492],\n",
       "         [0.09187682],\n",
       "         [0.09187682],\n",
       "         [0.81938305],\n",
       "         [0.81938305],\n",
       "         [0.35471755],\n",
       "         [0.35471755],\n",
       "         [0.44444374],\n",
       "         [0.44444374],\n",
       "         [0.73748468],\n",
       "         [0.73748468],\n",
       "         [0.28698656],\n",
       "         [0.28698656],\n",
       "         [0.55615587],\n",
       "         [0.55615587],\n",
       "         [0.81249393],\n",
       "         [0.81249393],\n",
       "         [0.61372994],\n",
       "         [0.61372994],\n",
       "         [0.13456874],\n",
       "         [0.13456874],\n",
       "         [0.8399687 ],\n",
       "         [0.8399687 ],\n",
       "         [0.97226724],\n",
       "         [0.97226724],\n",
       "         [0.98922758],\n",
       "         [0.98922758],\n",
       "         [0.28373138],\n",
       "         [0.28373138],\n",
       "         [0.53761739],\n",
       "         [0.53761739],\n",
       "         [0.08693631],\n",
       "         [0.08693631],\n",
       "         [0.77866156],\n",
       "         [0.77866156],\n",
       "         [0.8752229 ],\n",
       "         [0.8752229 ],\n",
       "         [0.09519103],\n",
       "         [0.09519103],\n",
       "         [0.05410629],\n",
       "         [0.05410629],\n",
       "         [0.53195267],\n",
       "         [0.53195267],\n",
       "         [0.42053445],\n",
       "         [0.42053445],\n",
       "         [0.51877071],\n",
       "         [0.51877071],\n",
       "         [0.54987784],\n",
       "         [0.54987784],\n",
       "         [0.1459076 ],\n",
       "         [0.1459076 ],\n",
       "         [0.59939504],\n",
       "         [0.59939504],\n",
       "         [0.54803019],\n",
       "         [0.54803019],\n",
       "         [0.57554424],\n",
       "         [0.57554424],\n",
       "         [0.16449171],\n",
       "         [0.16449171],\n",
       "         [0.13994217],\n",
       "         [0.13994217],\n",
       "         [0.51480344],\n",
       "         [0.51480344],\n",
       "         [0.93516575],\n",
       "         [0.93516575],\n",
       "         [0.05640659],\n",
       "         [0.05640659],\n",
       "         [0.42633136],\n",
       "         [0.42633136],\n",
       "         [0.73987229],\n",
       "         [0.73987229],\n",
       "         [0.19021976],\n",
       "         [0.19021976],\n",
       "         [0.94467355],\n",
       "         [0.94467355],\n",
       "         [0.2384539 ],\n",
       "         [0.2384539 ],\n",
       "         [0.41283852],\n",
       "         [0.41283852]])}}"
      ]
     },
     "execution_count": 1,
     "metadata": {},
     "output_type": "execute_result"
    }
   ],
   "source": [
    "ds = load_by_id(run_id_a)\n",
    "ds.get_parameter_data('x1')"
   ]
  },
  {
   "cell_type": "code",
   "execution_count": null,
   "metadata": {},
   "outputs": [],
   "source": []
  }
 ],
 "metadata": {
  "kernelspec": {
   "display_name": "Python 3",
   "language": "python",
   "name": "python3"
  },
  "language_info": {
   "codemirror_mode": {
    "name": "ipython",
    "version": 3
   },
   "file_extension": ".py",
   "mimetype": "text/x-python",
   "name": "python",
   "nbconvert_exporter": "python",
   "pygments_lexer": "ipython3",
   "version": "3.7.10"
  },
  "nbsphinx": {
   "timeout": 600
  },
  "toc": {
   "base_numbering": 1,
   "nav_menu": {},
   "number_sections": true,
   "sideBar": true,
   "skip_h1_title": false,
   "title_cell": "Table of Contents",
   "title_sidebar": "Contents",
   "toc_cell": false,
   "toc_position": {},
   "toc_section_display": true,
   "toc_window_display": false
  },
  "varInspector": {
   "cols": {
    "lenName": 16,
    "lenType": 16,
    "lenVar": 40
   },
   "kernels_config": {
    "python": {
     "delete_cmd_postfix": "",
     "delete_cmd_prefix": "del ",
     "library": "var_list.py",
     "varRefreshCmd": "print(var_dic_list())"
    },
    "r": {
     "delete_cmd_postfix": ") ",
     "delete_cmd_prefix": "rm(",
     "library": "var_list.r",
     "varRefreshCmd": "cat(var_dic_list()) "
    }
   },
   "types_to_exclude": [
    "module",
    "function",
    "builtin_function_or_method",
    "instance",
    "_Feature"
   ],
   "window_display": false
  }
 },
 "nbformat": 4,
 "nbformat_minor": 2
}
