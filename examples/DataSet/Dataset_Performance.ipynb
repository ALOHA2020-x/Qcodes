{
 "cells": [
  {
   "cell_type": "markdown",
   "metadata": {},
   "source": [
    "# DataSet Performance\n",
    "\n",
    "This notebook shows the trade-off between inserting data into a database row-by-row and as binary blobs. Inserting the data row-by-row means that we have direct access to all the data and may perform queries directly on the values of the data. On the other hand, as we shall see, this is much slower than inserting the data directly as binary blobs."
   ]
  },
  {
   "cell_type": "markdown",
   "metadata": {},
   "source": [
    "First, we choose a new location for the database to ensure that we don't add a bunch of benchmarking data to the default one."
   ]
  },
  {
   "cell_type": "code",
   "execution_count": 1,
   "metadata": {
    "execution": {
     "iopub.execute_input": "2021-04-22T09:37:41.534267Z",
     "iopub.status.busy": "2021-04-22T09:37:41.533602Z",
     "iopub.status.idle": "2021-04-22T09:37:42.746287Z",
     "shell.execute_reply": "2021-04-22T09:37:42.745112Z"
    }
   },
   "outputs": [
    {
     "name": "stdout",
     "output_type": "stream",
     "text": [
      "Logging hadn't been started.\n",
      "Activating auto-logging. Current session state plus future input saved.\n",
      "Filename       : /home/runner/.qcodes/logs/command_history.log\n",
      "Mode           : append\n",
      "Output logging : True\n",
      "Raw input log  : False\n",
      "Timestamping   : True\n",
      "State          : active\n"
     ]
    },
    {
     "name": "stdout",
     "output_type": "stream",
     "text": [
      "Qcodes Logfile : /home/runner/.qcodes/logs/210422-4530-qcodes.log\n"
     ]
    }
   ],
   "source": [
    "import os\n",
    "cwd = os.getcwd()\n",
    "import qcodes as qc\n",
    "qc.config[\"core\"][\"db_location\"] = os.path.join(cwd, 'testing.db')\n"
   ]
  },
  {
   "cell_type": "code",
   "execution_count": 2,
   "metadata": {
    "execution": {
     "iopub.execute_input": "2021-04-22T09:37:42.753497Z",
     "iopub.status.busy": "2021-04-22T09:37:42.752521Z",
     "iopub.status.idle": "2021-04-22T09:37:42.965155Z",
     "shell.execute_reply": "2021-04-22T09:37:42.964539Z"
    }
   },
   "outputs": [],
   "source": [
    "%matplotlib inline\n",
    "import time\n",
    "import matplotlib.pyplot as plt\n",
    "import numpy as np\n",
    "\n",
    "import qcodes as qc\n",
    "from qcodes.instrument.parameter import ManualParameter\n",
    "from qcodes.dataset.experiment_container import (Experiment,\n",
    "                                                 load_last_experiment,\n",
    "                                                 new_experiment)\n",
    "from qcodes.dataset.sqlite.database import initialise_database\n",
    "from qcodes import load_or_create_experiment\n",
    "from qcodes.dataset.measurements import Measurement"
   ]
  },
  {
   "cell_type": "code",
   "execution_count": 3,
   "metadata": {
    "execution": {
     "iopub.execute_input": "2021-04-22T09:37:42.969816Z",
     "iopub.status.busy": "2021-04-22T09:37:42.968674Z",
     "iopub.status.idle": "2021-04-22T09:37:43.115327Z",
     "shell.execute_reply": "2021-04-22T09:37:43.114778Z"
    }
   },
   "outputs": [
    {
     "name": "stdout",
     "output_type": "stream",
     "text": [
      "\r",
      "0it [00:00, ?it/s]"
     ]
    },
    {
     "name": "stdout",
     "output_type": "stream",
     "text": [
      "\r",
      "Upgrading database; v0 -> v1: : 0it [00:00, ?it/s]"
     ]
    },
    {
     "name": "stdout",
     "output_type": "stream",
     "text": [
      "\r",
      "Upgrading database; v0 -> v1: : 0it [00:00, ?it/s]"
     ]
    },
    {
     "name": "stdout",
     "output_type": "stream",
     "text": [
      "\n",
      "\r",
      "  0%|          | 0/1 [00:00<?, ?it/s]"
     ]
    },
    {
     "name": "stdout",
     "output_type": "stream",
     "text": [
      "\r",
      "Upgrading database; v1 -> v2:   0%|          | 0/1 [00:00<?, ?it/s]"
     ]
    },
    {
     "name": "stdout",
     "output_type": "stream",
     "text": [
      "\r",
      "Upgrading database; v1 -> v2: 100%|██████████| 1/1 [00:00<00:00, 412.22it/s]"
     ]
    },
    {
     "name": "stdout",
     "output_type": "stream",
     "text": [
      "\n",
      "\r",
      "0it [00:00, ?it/s]"
     ]
    },
    {
     "name": "stdout",
     "output_type": "stream",
     "text": [
      "\r",
      "Upgrading database; v2 -> v3: : 0it [00:00, ?it/s]"
     ]
    },
    {
     "name": "stdout",
     "output_type": "stream",
     "text": [
      "\r",
      "Upgrading database; v2 -> v3: : 0it [00:00, ?it/s]"
     ]
    },
    {
     "name": "stdout",
     "output_type": "stream",
     "text": [
      "\n",
      "\r",
      "0it [00:00, ?it/s]"
     ]
    },
    {
     "name": "stdout",
     "output_type": "stream",
     "text": [
      "\r",
      "Upgrading database; v3 -> v4: : 0it [00:00, ?it/s]"
     ]
    },
    {
     "name": "stdout",
     "output_type": "stream",
     "text": [
      "\r",
      "Upgrading database; v3 -> v4: : 0it [00:00, ?it/s]"
     ]
    },
    {
     "name": "stdout",
     "output_type": "stream",
     "text": [
      "\n",
      "\r",
      "  0%|          | 0/1 [00:00<?, ?it/s]"
     ]
    },
    {
     "name": "stdout",
     "output_type": "stream",
     "text": [
      "\r",
      "Upgrading database; v4 -> v5:   0%|          | 0/1 [00:00<?, ?it/s]"
     ]
    },
    {
     "name": "stdout",
     "output_type": "stream",
     "text": [
      "\r",
      "Upgrading database; v4 -> v5: 100%|██████████| 1/1 [00:00<00:00, 370.36it/s]"
     ]
    },
    {
     "name": "stdout",
     "output_type": "stream",
     "text": [
      "\n",
      "\r",
      "0it [00:00, ?it/s]"
     ]
    },
    {
     "name": "stdout",
     "output_type": "stream",
     "text": [
      "\r",
      "Upgrading database; v5 -> v6: : 0it [00:00, ?it/s]"
     ]
    },
    {
     "name": "stdout",
     "output_type": "stream",
     "text": [
      "\r",
      "Upgrading database; v5 -> v6: : 0it [00:00, ?it/s]"
     ]
    },
    {
     "name": "stdout",
     "output_type": "stream",
     "text": [
      "\n",
      "\r",
      "  0%|          | 0/1 [00:00<?, ?it/s]"
     ]
    },
    {
     "name": "stdout",
     "output_type": "stream",
     "text": [
      "\r",
      "Upgrading database; v6 -> v7:   0%|          | 0/1 [00:00<?, ?it/s]"
     ]
    },
    {
     "name": "stdout",
     "output_type": "stream",
     "text": [
      "\r",
      "Upgrading database; v6 -> v7: 100%|██████████| 1/1 [00:00<00:00, 317.46it/s]"
     ]
    },
    {
     "name": "stdout",
     "output_type": "stream",
     "text": [
      "\n",
      "\r",
      "  0%|          | 0/1 [00:00<?, ?it/s]"
     ]
    },
    {
     "name": "stdout",
     "output_type": "stream",
     "text": [
      "\r",
      "Upgrading database; v7 -> v8:   0%|          | 0/1 [00:00<?, ?it/s]"
     ]
    },
    {
     "name": "stdout",
     "output_type": "stream",
     "text": [
      "\r",
      "Upgrading database; v7 -> v8: 100%|██████████| 1/1 [00:00<00:00, 451.15it/s]"
     ]
    },
    {
     "name": "stdout",
     "output_type": "stream",
     "text": [
      "\n",
      "\r",
      "  0%|          | 0/1 [00:00<?, ?it/s]"
     ]
    },
    {
     "name": "stdout",
     "output_type": "stream",
     "text": [
      "\r",
      "Upgrading database; v8 -> v9:   0%|          | 0/1 [00:00<?, ?it/s]"
     ]
    },
    {
     "name": "stdout",
     "output_type": "stream",
     "text": [
      "\r",
      "Upgrading database; v8 -> v9: 100%|██████████| 1/1 [00:00<00:00, 481.50it/s]"
     ]
    },
    {
     "name": "stdout",
     "output_type": "stream",
     "text": [
      "\n"
     ]
    }
   ],
   "source": [
    "initialise_database()\n",
    "exp = load_or_create_experiment(experiment_name='tutorial_exp', sample_name=\"no sample\")"
   ]
  },
  {
   "cell_type": "markdown",
   "metadata": {},
   "source": [
    "Here, we define a simple function to benchmark the time it takes to insert n points with either numeric or array data type.\n",
    "We will compare both the time used to call ``add_result`` and the time used for the full measurement."
   ]
  },
  {
   "cell_type": "code",
   "execution_count": 4,
   "metadata": {
    "execution": {
     "iopub.execute_input": "2021-04-22T09:37:43.124996Z",
     "iopub.status.busy": "2021-04-22T09:37:43.124406Z",
     "iopub.status.idle": "2021-04-22T09:37:43.129070Z",
     "shell.execute_reply": "2021-04-22T09:37:43.128554Z"
    }
   },
   "outputs": [],
   "source": [
    "def insert_data(paramtype, npoints, nreps=1):\n",
    "\n",
    "    meas = Measurement(exp=exp)\n",
    "\n",
    "    x1 = ManualParameter('x1')\n",
    "    x2 = ManualParameter('x2')\n",
    "    x3 = ManualParameter('x3')\n",
    "    y1 = ManualParameter('y1')\n",
    "    y2 = ManualParameter('y2')\n",
    "\n",
    "    meas.register_parameter(x1, paramtype=paramtype)\n",
    "    meas.register_parameter(x2, paramtype=paramtype)\n",
    "    meas.register_parameter(x3, paramtype=paramtype)\n",
    "    meas.register_parameter(y1, setpoints=[x1, x2, x3],\n",
    "                            paramtype=paramtype)\n",
    "    meas.register_parameter(y2, setpoints=[x1, x2, x3],\n",
    "                            paramtype=paramtype)\n",
    "    start = time.perf_counter()\n",
    "    with meas.run() as datasaver:\n",
    "        start_adding = time.perf_counter()\n",
    "        for i in range(nreps):\n",
    "            datasaver.add_result((x1, np.random.rand(npoints)),\n",
    "                                 (x2, np.random.rand(npoints)),\n",
    "                                 (x3, np.random.rand(npoints)),\n",
    "                                 (y1, np.random.rand(npoints)),\n",
    "                                 (y2, np.random.rand(npoints)))\n",
    "        stop_adding = time.perf_counter()\n",
    "        run_id = datasaver.run_id\n",
    "    stop = time.perf_counter()\n",
    "    tot_time = stop - start\n",
    "    add_time = stop_adding - start_adding\n",
    "    return tot_time, add_time, run_id"
   ]
  },
  {
   "cell_type": "markdown",
   "metadata": {},
   "source": [
    "## Comparison between numeric/array data and binary blob"
   ]
  },
  {
   "cell_type": "markdown",
   "metadata": {},
   "source": [
    "### Case1: Short experiment time"
   ]
  },
  {
   "cell_type": "code",
   "execution_count": 5,
   "metadata": {
    "execution": {
     "iopub.execute_input": "2021-04-22T09:37:43.137747Z",
     "iopub.status.busy": "2021-04-22T09:37:43.136827Z",
     "iopub.status.idle": "2021-04-22T09:37:43.972005Z",
     "shell.execute_reply": "2021-04-22T09:37:43.972465Z"
    }
   },
   "outputs": [
    {
     "name": "stdout",
     "output_type": "stream",
     "text": [
      "Starting experimental run with id: 1. \n",
      "Starting experimental run with id: 2. \n",
      "Starting experimental run with id: 3. \n",
      "Starting experimental run with id: 4. \n"
     ]
    },
    {
     "name": "stdout",
     "output_type": "stream",
     "text": [
      "Starting experimental run with id: 5. \n"
     ]
    },
    {
     "name": "stdout",
     "output_type": "stream",
     "text": [
      "Starting experimental run with id: 6. \n",
      "Starting experimental run with id: 7. \n"
     ]
    },
    {
     "name": "stdout",
     "output_type": "stream",
     "text": [
      "Starting experimental run with id: 8. \n",
      "Starting experimental run with id: 9. \n"
     ]
    },
    {
     "name": "stdout",
     "output_type": "stream",
     "text": [
      "Starting experimental run with id: 10. \n",
      "Starting experimental run with id: 11. \n"
     ]
    },
    {
     "name": "stdout",
     "output_type": "stream",
     "text": [
      "Starting experimental run with id: 12. \n"
     ]
    },
    {
     "name": "stdout",
     "output_type": "stream",
     "text": [
      "Starting experimental run with id: 13. \n"
     ]
    },
    {
     "name": "stdout",
     "output_type": "stream",
     "text": [
      "Starting experimental run with id: 14. \n"
     ]
    }
   ],
   "source": [
    "sizes = [1,500,1000,2000,3000,4000,5000]\n",
    "t_numeric = []\n",
    "t_numeric_add = []\n",
    "t_array = []\n",
    "t_array_add = []\n",
    "for size in sizes:\n",
    "    tn, tna, run_id_n =  insert_data('numeric', size)\n",
    "    t_numeric.append(tn)\n",
    "    t_numeric_add.append(tna)\n",
    "\n",
    "    ta, taa, run_id_a =  insert_data('array', size)\n",
    "    t_array.append(ta)\n",
    "    t_array_add.append(taa)"
   ]
  },
  {
   "cell_type": "code",
   "execution_count": 6,
   "metadata": {
    "execution": {
     "iopub.execute_input": "2021-04-22T09:37:43.991404Z",
     "iopub.status.busy": "2021-04-22T09:37:43.978450Z",
     "iopub.status.idle": "2021-04-22T09:37:44.183662Z",
     "shell.execute_reply": "2021-04-22T09:37:44.184171Z"
    }
   },
   "outputs": [
    {
     "data": {
      "image/png": "[encoded data removed]",
      "text/plain": [
       "<Figure size 432x288 with 1 Axes>"
      ]
     },
     "metadata": {
      "needs_background": "light"
     },
     "output_type": "display_data"
    }
   ],
   "source": [
    "fig, ax = plt.subplots(1,1)\n",
    "ax.plot(sizes, t_numeric, 'o-', label='Inserting row-by-row')\n",
    "ax.plot(sizes, t_numeric_add, 'o-', label='Inserting row-by-row: add_result only')\n",
    "ax.plot(sizes, t_array, 'd-', label='Inserting as binary blob')\n",
    "ax.plot(sizes, t_array_add, 'd-', label='Inserting as binary blob: add_result only')\n",
    "ax.legend()\n",
    "ax.set_xlabel('Array length')\n",
    "ax.set_ylabel('Time (s)')\n",
    "fig.tight_layout()"
   ]
  },
  {
   "cell_type": "markdown",
   "metadata": {},
   "source": [
    "As shown in the latter figure, the time to setup and and close the experiment is approximately 0.4 sec. In case of small array sizes, the difference between inserting values of data as arrays and inserting them row-by-row is relatively unimportant. At larger array sizes, i.e. above 10000 points, the cost of writing data as individual datapoints starts to become important.\n"
   ]
  },
  {
   "cell_type": "markdown",
   "metadata": {},
   "source": [
    "### Case2: Long experiment time "
   ]
  },
  {
   "cell_type": "code",
   "execution_count": 7,
   "metadata": {
    "execution": {
     "iopub.execute_input": "2021-04-22T09:37:44.192292Z",
     "iopub.status.busy": "2021-04-22T09:37:44.191699Z",
     "iopub.status.idle": "2021-04-22T09:38:41.740070Z",
     "shell.execute_reply": "2021-04-22T09:38:41.739510Z"
    }
   },
   "outputs": [
    {
     "name": "stdout",
     "output_type": "stream",
     "text": [
      "Starting experimental run with id: 15. \n",
      "Starting experimental run with id: 16. \n",
      "Starting experimental run with id: 17. \n"
     ]
    },
    {
     "name": "stdout",
     "output_type": "stream",
     "text": [
      "Starting experimental run with id: 18. \n",
      "Starting experimental run with id: 19. \n"
     ]
    },
    {
     "name": "stdout",
     "output_type": "stream",
     "text": [
      "Starting experimental run with id: 20. \n"
     ]
    },
    {
     "name": "stdout",
     "output_type": "stream",
     "text": [
      "Starting experimental run with id: 21. \n"
     ]
    },
    {
     "name": "stdout",
     "output_type": "stream",
     "text": [
      "Starting experimental run with id: 22. \n"
     ]
    },
    {
     "name": "stdout",
     "output_type": "stream",
     "text": [
      "Starting experimental run with id: 23. \n"
     ]
    },
    {
     "name": "stdout",
     "output_type": "stream",
     "text": [
      "Starting experimental run with id: 24. \n"
     ]
    },
    {
     "name": "stdout",
     "output_type": "stream",
     "text": [
      "Starting experimental run with id: 25. \n"
     ]
    },
    {
     "name": "stdout",
     "output_type": "stream",
     "text": [
      "Starting experimental run with id: 26. \n"
     ]
    },
    {
     "name": "stdout",
     "output_type": "stream",
     "text": [
      "Starting experimental run with id: 27. \n"
     ]
    },
    {
     "name": "stdout",
     "output_type": "stream",
     "text": [
      "Starting experimental run with id: 28. \n"
     ]
    }
   ],
   "source": [
    "sizes = [1,500,1000,2000,3000,4000,5000]\n",
    "nreps = 100\n",
    "t_numeric = []\n",
    "t_numeric_add = []\n",
    "t_numeric_run_ids = []\n",
    "t_array = []\n",
    "t_array_add = []\n",
    "t_array_run_ids = []\n",
    "for size in sizes:\n",
    "    tn, tna, run_id_n =  insert_data('numeric', size, nreps=nreps)\n",
    "    t_numeric.append(tn)\n",
    "    t_numeric_add.append(tna)\n",
    "    t_numeric_run_ids.append(run_id_n)\n",
    "\n",
    "    ta, taa, run_id_a =  insert_data('array', size, nreps=nreps)\n",
    "    t_array.append(ta)\n",
    "    t_array_add.append(taa)\n",
    "    t_array_run_ids.append(run_id_a)"
   ]
  },
  {
   "cell_type": "code",
   "execution_count": 8,
   "metadata": {
    "execution": {
     "iopub.execute_input": "2021-04-22T09:38:41.764107Z",
     "iopub.status.busy": "2021-04-22T09:38:41.762211Z",
     "iopub.status.idle": "2021-04-22T09:38:41.949724Z",
     "shell.execute_reply": "2021-04-22T09:38:41.950497Z"
    },
    "scrolled": true
   },
   "outputs": [
    {
     "data": {
      "image/png": "[encoded data removed]",
      "text/plain": [
       "<Figure size 432x288 with 1 Axes>"
      ]
     },
     "metadata": {
      "needs_background": "light"
     },
     "output_type": "display_data"
    }
   ],
   "source": [
    "fig, ax = plt.subplots(1,1)\n",
    "ax.plot(sizes, t_numeric, 'o-', label='Inserting row-by-row')\n",
    "ax.plot(sizes, t_numeric_add, 'o-', label='Inserting row-by-row: add_result only')\n",
    "ax.plot(sizes, t_array, 'd-', label='Inserting as binary blob')\n",
    "ax.plot(sizes, t_array_add, 'd-', label='Inserting as binary blob: add_result only')\n",
    "ax.legend()\n",
    "ax.set_xlabel('Array length')\n",
    "ax.set_ylabel('Time (s)')\n",
    "fig.tight_layout()"
   ]
  },
  {
   "cell_type": "markdown",
   "metadata": {},
   "source": [
    "However, as we increase the length of the experiment, as seen here by repeating the insertion 100 times, we see a big difference between inserting values of the data row-by-row and inserting it as a binary blob."
   ]
  },
  {
   "cell_type": "markdown",
   "metadata": {},
   "source": [
    "## Loading the data "
   ]
  },
  {
   "cell_type": "code",
   "execution_count": 9,
   "metadata": {
    "execution": {
     "iopub.execute_input": "2021-04-22T09:38:41.954330Z",
     "iopub.status.busy": "2021-04-22T09:38:41.953171Z",
     "iopub.status.idle": "2021-04-22T09:38:41.959331Z",
     "shell.execute_reply": "2021-04-22T09:38:41.958429Z"
    }
   },
   "outputs": [],
   "source": [
    "from qcodes.dataset.data_set import load_by_id"
   ]
  },
  {
   "cell_type": "markdown",
   "metadata": {},
   "source": [
    "As usual you can load the data by using the ``load_by_id`` function but you will notice that the different storage methods\n",
    "are reflected in shape of the data as it is retrieved. "
   ]
  },
  {
   "cell_type": "code",
   "execution_count": 10,
   "metadata": {
    "execution": {
     "iopub.execute_input": "2021-04-22T09:38:41.963815Z",
     "iopub.status.busy": "2021-04-22T09:38:41.963243Z",
     "iopub.status.idle": "2021-04-22T09:38:41.968497Z",
     "shell.execute_reply": "2021-04-22T09:38:41.967980Z"
    }
   },
   "outputs": [],
   "source": [
    "run_id_n = t_numeric_run_ids[0]\n",
    "run_id_a = t_array_run_ids[0]"
   ]
  },
  {
   "cell_type": "code",
   "execution_count": 11,
   "metadata": {
    "execution": {
     "iopub.execute_input": "2021-04-22T09:38:41.972573Z",
     "iopub.status.busy": "2021-04-22T09:38:41.971993Z",
     "iopub.status.idle": "2021-04-22T09:38:41.984776Z",
     "shell.execute_reply": "2021-04-22T09:38:41.984271Z"
    },
    "scrolled": true
   },
   "outputs": [
    {
     "data": {
      "text/plain": [
       "{'x1': {'x1': array([0.6097713 , 0.6097713 , 0.0768819 , 0.0768819 , 0.34027903,\n",
       "         0.34027903, 0.03496479, 0.03496479, 0.79023528, 0.79023528,\n",
       "         0.16870784, 0.16870784, 0.79471327, 0.79471327, 0.37495736,\n",
       "         0.37495736, 0.47711277, 0.47711277, 0.46254854, 0.46254854,\n",
       "         0.55384442, 0.55384442, 0.09103245, 0.09103245, 0.31185256,\n",
       "         0.31185256, 0.42168372, 0.42168372, 0.06832788, 0.06832788,\n",
       "         0.55644671, 0.55644671, 0.32775152, 0.32775152, 0.79339329,\n",
       "         0.79339329, 0.19567553, 0.19567553, 0.1454092 , 0.1454092 ,\n",
       "         0.22530063, 0.22530063, 0.2447227 , 0.2447227 , 0.37519334,\n",
       "         0.37519334, 0.26709972, 0.26709972, 0.94300141, 0.94300141,\n",
       "         0.37546016, 0.37546016, 0.6413172 , 0.6413172 , 0.51718645,\n",
       "         0.51718645, 0.72441143, 0.72441143, 0.26489176, 0.26489176,\n",
       "         0.9547726 , 0.9547726 , 0.71535916, 0.71535916, 0.03474075,\n",
       "         0.03474075, 0.68184511, 0.68184511, 0.44473938, 0.44473938,\n",
       "         0.46646433, 0.46646433, 0.31130372, 0.31130372, 0.41679977,\n",
       "         0.41679977, 0.34067741, 0.34067741, 0.11357842, 0.11357842,\n",
       "         0.03169505, 0.03169505, 0.67400225, 0.67400225, 0.60899907,\n",
       "         0.60899907, 0.28482288, 0.28482288, 0.12774754, 0.12774754,\n",
       "         0.21533008, 0.21533008, 0.82952136, 0.82952136, 0.74418348,\n",
       "         0.74418348, 0.82039486, 0.82039486, 0.99103974, 0.99103974,\n",
       "         0.97302612, 0.97302612, 0.57730863, 0.57730863, 0.18373162,\n",
       "         0.18373162, 0.14948547, 0.14948547, 0.1073945 , 0.1073945 ,\n",
       "         0.55215798, 0.55215798, 0.80374912, 0.80374912, 0.59814688,\n",
       "         0.59814688, 0.11525692, 0.11525692, 0.69495217, 0.69495217,\n",
       "         0.04764698, 0.04764698, 0.2960498 , 0.2960498 , 0.55695771,\n",
       "         0.55695771, 0.47494274, 0.47494274, 0.10305148, 0.10305148,\n",
       "         0.72412811, 0.72412811, 0.13785872, 0.13785872, 0.75157782,\n",
       "         0.75157782, 0.43284019, 0.43284019, 0.76868084, 0.76868084,\n",
       "         0.28195911, 0.28195911, 0.19848605, 0.19848605, 0.02548318,\n",
       "         0.02548318, 0.7016025 , 0.7016025 , 0.94449218, 0.94449218,\n",
       "         0.64881084, 0.64881084, 0.60981879, 0.60981879, 0.22588322,\n",
       "         0.22588322, 0.3931875 , 0.3931875 , 0.04424389, 0.04424389,\n",
       "         0.66691352, 0.66691352, 0.56370768, 0.56370768, 0.64899651,\n",
       "         0.64899651, 0.33376813, 0.33376813, 0.02293801, 0.02293801,\n",
       "         0.09452658, 0.09452658, 0.8360256 , 0.8360256 , 0.98315587,\n",
       "         0.98315587, 0.9971331 , 0.9971331 , 0.73998585, 0.73998585,\n",
       "         0.64485491, 0.64485491, 0.96618357, 0.96618357, 0.25547587,\n",
       "         0.25547587, 0.05222742, 0.05222742, 0.25094896, 0.25094896,\n",
       "         0.15912868, 0.15912868, 0.62366658, 0.62366658, 0.04599671,\n",
       "         0.04599671, 0.9308099 , 0.9308099 , 0.68841857, 0.68841857])}}"
      ]
     },
     "execution_count": 1,
     "metadata": {},
     "output_type": "execute_result"
    }
   ],
   "source": [
    "ds = load_by_id(run_id_n)\n",
    "ds.get_parameter_data('x1')"
   ]
  },
  {
   "cell_type": "markdown",
   "metadata": {},
   "source": [
    "And a dataset stored as binary arrays"
   ]
  },
  {
   "cell_type": "code",
   "execution_count": 12,
   "metadata": {
    "execution": {
     "iopub.execute_input": "2021-04-22T09:38:41.988844Z",
     "iopub.status.busy": "2021-04-22T09:38:41.988281Z",
     "iopub.status.idle": "2021-04-22T09:38:42.048140Z",
     "shell.execute_reply": "2021-04-22T09:38:42.047616Z"
    },
    "scrolled": true
   },
   "outputs": [
    {
     "data": {
      "text/plain": [
       "{'x1': {'x1': array([[0.89667666],\n",
       "         [0.89667666],\n",
       "         [0.40007472],\n",
       "         [0.40007472],\n",
       "         [0.96045266],\n",
       "         [0.96045266],\n",
       "         [0.67990212],\n",
       "         [0.67990212],\n",
       "         [0.91339168],\n",
       "         [0.91339168],\n",
       "         [0.02766061],\n",
       "         [0.02766061],\n",
       "         [0.15849832],\n",
       "         [0.15849832],\n",
       "         [0.71330879],\n",
       "         [0.71330879],\n",
       "         [0.3468146 ],\n",
       "         [0.3468146 ],\n",
       "         [0.87590138],\n",
       "         [0.87590138],\n",
       "         [0.57330929],\n",
       "         [0.57330929],\n",
       "         [0.5259535 ],\n",
       "         [0.5259535 ],\n",
       "         [0.59326574],\n",
       "         [0.59326574],\n",
       "         [0.37672728],\n",
       "         [0.37672728],\n",
       "         [0.77085393],\n",
       "         [0.77085393],\n",
       "         [0.31918388],\n",
       "         [0.31918388],\n",
       "         [0.57253854],\n",
       "         [0.57253854],\n",
       "         [0.38078722],\n",
       "         [0.38078722],\n",
       "         [0.62581401],\n",
       "         [0.62581401],\n",
       "         [0.84394408],\n",
       "         [0.84394408],\n",
       "         [0.07590637],\n",
       "         [0.07590637],\n",
       "         [0.85347507],\n",
       "         [0.85347507],\n",
       "         [0.5550395 ],\n",
       "         [0.5550395 ],\n",
       "         [0.35134609],\n",
       "         [0.35134609],\n",
       "         [0.8248623 ],\n",
       "         [0.8248623 ],\n",
       "         [0.05313774],\n",
       "         [0.05313774],\n",
       "         [0.54200385],\n",
       "         [0.54200385],\n",
       "         [0.45070375],\n",
       "         [0.45070375],\n",
       "         [0.15676981],\n",
       "         [0.15676981],\n",
       "         [0.60584887],\n",
       "         [0.60584887],\n",
       "         [0.84914366],\n",
       "         [0.84914366],\n",
       "         [0.66646793],\n",
       "         [0.66646793],\n",
       "         [0.05256855],\n",
       "         [0.05256855],\n",
       "         [0.59163517],\n",
       "         [0.59163517],\n",
       "         [0.46988319],\n",
       "         [0.46988319],\n",
       "         [0.90336474],\n",
       "         [0.90336474],\n",
       "         [0.52371398],\n",
       "         [0.52371398],\n",
       "         [0.84729569],\n",
       "         [0.84729569],\n",
       "         [0.36544816],\n",
       "         [0.36544816],\n",
       "         [0.41580414],\n",
       "         [0.41580414],\n",
       "         [0.3750059 ],\n",
       "         [0.3750059 ],\n",
       "         [0.71095186],\n",
       "         [0.71095186],\n",
       "         [0.92885428],\n",
       "         [0.92885428],\n",
       "         [0.31285748],\n",
       "         [0.31285748],\n",
       "         [0.03885521],\n",
       "         [0.03885521],\n",
       "         [0.30033093],\n",
       "         [0.30033093],\n",
       "         [0.89842935],\n",
       "         [0.89842935],\n",
       "         [0.74507384],\n",
       "         [0.74507384],\n",
       "         [0.78096482],\n",
       "         [0.78096482],\n",
       "         [0.49916006],\n",
       "         [0.49916006],\n",
       "         [0.38485017],\n",
       "         [0.38485017],\n",
       "         [0.61973314],\n",
       "         [0.61973314],\n",
       "         [0.36362263],\n",
       "         [0.36362263],\n",
       "         [0.35204962],\n",
       "         [0.35204962],\n",
       "         [0.05669637],\n",
       "         [0.05669637],\n",
       "         [0.14292094],\n",
       "         [0.14292094],\n",
       "         [0.15408065],\n",
       "         [0.15408065],\n",
       "         [0.89921812],\n",
       "         [0.89921812],\n",
       "         [0.6891804 ],\n",
       "         [0.6891804 ],\n",
       "         [0.79572929],\n",
       "         [0.79572929],\n",
       "         [0.3666107 ],\n",
       "         [0.3666107 ],\n",
       "         [0.92144298],\n",
       "         [0.92144298],\n",
       "         [0.31770178],\n",
       "         [0.31770178],\n",
       "         [0.82408216],\n",
       "         [0.82408216],\n",
       "         [0.56705923],\n",
       "         [0.56705923],\n",
       "         [0.00185943],\n",
       "         [0.00185943],\n",
       "         [0.36849061],\n",
       "         [0.36849061],\n",
       "         [0.63005104],\n",
       "         [0.63005104],\n",
       "         [0.46630055],\n",
       "         [0.46630055],\n",
       "         [0.81227096],\n",
       "         [0.81227096],\n",
       "         [0.9276849 ],\n",
       "         [0.9276849 ],\n",
       "         [0.31689244],\n",
       "         [0.31689244],\n",
       "         [0.6590339 ],\n",
       "         [0.6590339 ],\n",
       "         [0.67074768],\n",
       "         [0.67074768],\n",
       "         [0.09968548],\n",
       "         [0.09968548],\n",
       "         [0.3027781 ],\n",
       "         [0.3027781 ],\n",
       "         [0.88993908],\n",
       "         [0.88993908],\n",
       "         [0.90143665],\n",
       "         [0.90143665],\n",
       "         [0.62662581],\n",
       "         [0.62662581],\n",
       "         [0.56724135],\n",
       "         [0.56724135],\n",
       "         [0.79546487],\n",
       "         [0.79546487],\n",
       "         [0.71735044],\n",
       "         [0.71735044],\n",
       "         [0.14686669],\n",
       "         [0.14686669],\n",
       "         [0.74428505],\n",
       "         [0.74428505],\n",
       "         [0.58863499],\n",
       "         [0.58863499],\n",
       "         [0.99998742],\n",
       "         [0.99998742],\n",
       "         [0.96213153],\n",
       "         [0.96213153],\n",
       "         [0.59045926],\n",
       "         [0.59045926],\n",
       "         [0.92858998],\n",
       "         [0.92858998],\n",
       "         [0.13433954],\n",
       "         [0.13433954],\n",
       "         [0.28253016],\n",
       "         [0.28253016],\n",
       "         [0.38188004],\n",
       "         [0.38188004],\n",
       "         [0.61562107],\n",
       "         [0.61562107],\n",
       "         [0.14797175],\n",
       "         [0.14797175],\n",
       "         [0.21480237],\n",
       "         [0.21480237],\n",
       "         [0.68901337],\n",
       "         [0.68901337],\n",
       "         [0.69284475],\n",
       "         [0.69284475],\n",
       "         [0.75583667],\n",
       "         [0.75583667],\n",
       "         [0.24205652],\n",
       "         [0.24205652],\n",
       "         [0.57866248],\n",
       "         [0.57866248]])}}"
      ]
     },
     "execution_count": 1,
     "metadata": {},
     "output_type": "execute_result"
    }
   ],
   "source": [
    "ds = load_by_id(run_id_a)\n",
    "ds.get_parameter_data('x1')"
   ]
  },
  {
   "cell_type": "code",
   "execution_count": null,
   "metadata": {},
   "outputs": [],
   "source": []
  }
 ],
 "metadata": {
  "kernelspec": {
   "display_name": "Python 3",
   "language": "python",
   "name": "python3"
  },
  "language_info": {
   "codemirror_mode": {
    "name": "ipython",
    "version": 3
   },
   "file_extension": ".py",
   "mimetype": "text/x-python",
   "name": "python",
   "nbconvert_exporter": "python",
   "pygments_lexer": "ipython3",
   "version": "3.7.10"
  },
  "nbsphinx": {
   "timeout": 600
  },
  "toc": {
   "base_numbering": 1,
   "nav_menu": {},
   "number_sections": true,
   "sideBar": true,
   "skip_h1_title": false,
   "title_cell": "Table of Contents",
   "title_sidebar": "Contents",
   "toc_cell": false,
   "toc_position": {},
   "toc_section_display": true,
   "toc_window_display": false
  },
  "varInspector": {
   "cols": {
    "lenName": 16,
    "lenType": 16,
    "lenVar": 40
   },
   "kernels_config": {
    "python": {
     "delete_cmd_postfix": "",
     "delete_cmd_prefix": "del ",
     "library": "var_list.py",
     "varRefreshCmd": "print(var_dic_list())"
    },
    "r": {
     "delete_cmd_postfix": ") ",
     "delete_cmd_prefix": "rm(",
     "library": "var_list.r",
     "varRefreshCmd": "cat(var_dic_list()) "
    }
   },
   "types_to_exclude": [
    "module",
    "function",
    "builtin_function_or_method",
    "instance",
    "_Feature"
   ],
   "window_display": false
  }
 },
 "nbformat": 4,
 "nbformat_minor": 4
}
