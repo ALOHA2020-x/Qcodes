{
 "cells": [
  {
   "cell_type": "markdown",
   "metadata": {},
   "source": [
    "# DataSet Performance\n",
    "\n",
    "This notebook shows the trade-off between inserting data into a database row-by-row and as binary blobs. Inserting the data row-by-row means that we have direct access to all the data and may perform queries directly on the values of the data. On the other hand, as we shall see, this is much slower than inserting the data directly as binary blobs."
   ]
  },
  {
   "cell_type": "markdown",
   "metadata": {},
   "source": [
    "First, we choose a new location for the database to ensure that we don't add a bunch of benchmarking data to the default one."
   ]
  },
  {
   "cell_type": "code",
   "execution_count": 1,
   "metadata": {},
   "outputs": [
    {
     "name": "stdout",
     "output_type": "stream",
     "text": [
      "Logging hadn't been started.\n",
      "Activating auto-logging. Current session state plus future input saved.\n",
      "Filename       : /home/vsts/.qcodes/logs/command_history.log\n",
      "Mode           : append\n",
      "Output logging : True\n",
      "Raw input log  : False\n",
      "Timestamping   : True\n",
      "State          : active\n"
     ]
    },
    {
     "name": "stdout",
     "output_type": "stream",
     "text": [
      "Qcodes Logfile : /home/vsts/.qcodes/logs/200714-18444-qcodes.log\n"
     ]
    }
   ],
   "source": [
    "import os\n",
    "cwd = os.getcwd()\n",
    "import qcodes as qc\n",
    "qc.config[\"core\"][\"db_location\"] = os.path.join(cwd, 'testing.db')\n"
   ]
  },
  {
   "cell_type": "code",
   "execution_count": 2,
   "metadata": {},
   "outputs": [],
   "source": [
    "%matplotlib inline\n",
    "import time\n",
    "import matplotlib.pyplot as plt\n",
    "import numpy as np\n",
    "\n",
    "import qcodes as qc\n",
    "from qcodes.instrument.parameter import ManualParameter\n",
    "from qcodes.dataset.experiment_container import (Experiment,\n",
    "                                                 load_last_experiment,\n",
    "                                                 new_experiment)\n",
    "from qcodes.dataset.sqlite.database import initialise_database\n",
    "from qcodes import load_or_create_experiment\n",
    "from qcodes.dataset.measurements import Measurement"
   ]
  },
  {
   "cell_type": "code",
   "execution_count": 3,
   "metadata": {},
   "outputs": [
    {
     "name": "stdout",
     "output_type": "stream",
     "text": [
      "\r",
      "0it [00:00, ?it/s]"
     ]
    },
    {
     "name": "stdout",
     "output_type": "stream",
     "text": [
      "\r",
      "Upgrading database; v0 -> v1: : 0it [00:00, ?it/s]"
     ]
    },
    {
     "name": "stdout",
     "output_type": "stream",
     "text": [
      "\r",
      "Upgrading database; v0 -> v1: : 0it [00:00, ?it/s]"
     ]
    },
    {
     "name": "stdout",
     "output_type": "stream",
     "text": [
      "\n",
      "\r",
      "  0%|          | 0/1 [00:00<?, ?it/s]"
     ]
    },
    {
     "name": "stdout",
     "output_type": "stream",
     "text": [
      "\r",
      "Upgrading database; v1 -> v2:   0%|          | 0/1 [00:00<?, ?it/s]"
     ]
    },
    {
     "name": "stdout",
     "output_type": "stream",
     "text": [
      "\r",
      "Upgrading database; v1 -> v2: 100%|██████████| 1/1 [00:00<00:00, 965.32it/s]"
     ]
    },
    {
     "name": "stdout",
     "output_type": "stream",
     "text": [
      "\n",
      "\r",
      "0it [00:00, ?it/s]"
     ]
    },
    {
     "name": "stdout",
     "output_type": "stream",
     "text": [
      "\r",
      "Upgrading database; v2 -> v3: : 0it [00:00, ?it/s]"
     ]
    },
    {
     "name": "stdout",
     "output_type": "stream",
     "text": [
      "\r",
      "Upgrading database; v2 -> v3: : 0it [00:00, ?it/s]"
     ]
    },
    {
     "name": "stdout",
     "output_type": "stream",
     "text": [
      "\n",
      "\r",
      "0it [00:00, ?it/s]"
     ]
    },
    {
     "name": "stdout",
     "output_type": "stream",
     "text": [
      "\r",
      "Upgrading database; v3 -> v4: : 0it [00:00, ?it/s]"
     ]
    },
    {
     "name": "stdout",
     "output_type": "stream",
     "text": [
      "\r",
      "Upgrading database; v3 -> v4: : 0it [00:00, ?it/s]"
     ]
    },
    {
     "name": "stdout",
     "output_type": "stream",
     "text": [
      "\n",
      "\r",
      "  0%|          | 0/1 [00:00<?, ?it/s]"
     ]
    },
    {
     "name": "stdout",
     "output_type": "stream",
     "text": [
      "\r",
      "Upgrading database; v4 -> v5:   0%|          | 0/1 [00:00<?, ?it/s]"
     ]
    },
    {
     "name": "stdout",
     "output_type": "stream",
     "text": [
      "\r",
      "Upgrading database; v4 -> v5: 100%|██████████| 1/1 [00:00<00:00, 1018.28it/s]"
     ]
    },
    {
     "name": "stdout",
     "output_type": "stream",
     "text": [
      "\n",
      "\r",
      "0it [00:00, ?it/s]"
     ]
    },
    {
     "name": "stdout",
     "output_type": "stream",
     "text": [
      "\r",
      "Upgrading database; v5 -> v6: : 0it [00:00, ?it/s]"
     ]
    },
    {
     "name": "stdout",
     "output_type": "stream",
     "text": [
      "\r",
      "Upgrading database; v5 -> v6: : 0it [00:00, ?it/s]"
     ]
    },
    {
     "name": "stdout",
     "output_type": "stream",
     "text": [
      "\n",
      "\r",
      "  0%|          | 0/1 [00:00<?, ?it/s]"
     ]
    },
    {
     "name": "stdout",
     "output_type": "stream",
     "text": [
      "\r",
      "Upgrading database; v6 -> v7:   0%|          | 0/1 [00:00<?, ?it/s]"
     ]
    },
    {
     "name": "stdout",
     "output_type": "stream",
     "text": [
      "\r",
      "Upgrading database; v6 -> v7: 100%|██████████| 1/1 [00:00<00:00, 242.73it/s]"
     ]
    },
    {
     "name": "stdout",
     "output_type": "stream",
     "text": [
      "\n",
      "\r",
      "  0%|          | 0/1 [00:00<?, ?it/s]"
     ]
    },
    {
     "name": "stdout",
     "output_type": "stream",
     "text": [
      "\r",
      "Upgrading database; v7 -> v8:   0%|          | 0/1 [00:00<?, ?it/s]"
     ]
    },
    {
     "name": "stdout",
     "output_type": "stream",
     "text": [
      "\r",
      "Upgrading database; v7 -> v8: 100%|██████████| 1/1 [00:00<00:00, 821.61it/s]"
     ]
    },
    {
     "name": "stdout",
     "output_type": "stream",
     "text": [
      "\n",
      "\r",
      "  0%|          | 0/1 [00:00<?, ?it/s]"
     ]
    },
    {
     "name": "stdout",
     "output_type": "stream",
     "text": [
      "\r",
      "Upgrading database; v8 -> v9:   0%|          | 0/1 [00:00<?, ?it/s]"
     ]
    },
    {
     "name": "stdout",
     "output_type": "stream",
     "text": [
      "\r",
      "Upgrading database; v8 -> v9: 100%|██████████| 1/1 [00:00<00:00, 1183.16it/s]"
     ]
    },
    {
     "name": "stdout",
     "output_type": "stream",
     "text": [
      "\n"
     ]
    }
   ],
   "source": [
    "initialise_database()\n",
    "exp = load_or_create_experiment(experiment_name='tutorial_exp', sample_name=\"no sample\")"
   ]
  },
  {
   "cell_type": "markdown",
   "metadata": {},
   "source": [
    "Here, we define a simple function to benchmark the time it takes to insert n points with either numeric or array data type.\n",
    "We will compare both the time used to call ``add_result`` and the time used for the full measurement."
   ]
  },
  {
   "cell_type": "code",
   "execution_count": 4,
   "metadata": {},
   "outputs": [],
   "source": [
    "def insert_data(paramtype, npoints, nreps=1):\n",
    "\n",
    "    meas = Measurement(exp=exp)\n",
    "\n",
    "    x1 = ManualParameter('x1')\n",
    "    x2 = ManualParameter('x2')\n",
    "    x3 = ManualParameter('x3')\n",
    "    y1 = ManualParameter('y1')\n",
    "    y2 = ManualParameter('y2')\n",
    "\n",
    "    meas.register_parameter(x1, paramtype=paramtype)\n",
    "    meas.register_parameter(x2, paramtype=paramtype)\n",
    "    meas.register_parameter(x3, paramtype=paramtype)\n",
    "    meas.register_parameter(y1, setpoints=[x1, x2, x3],\n",
    "                            paramtype=paramtype)\n",
    "    meas.register_parameter(y2, setpoints=[x1, x2, x3],\n",
    "                            paramtype=paramtype)\n",
    "    start = time.perf_counter()\n",
    "    with meas.run() as datasaver:\n",
    "        start_adding = time.perf_counter()\n",
    "        for i in range(nreps):\n",
    "            datasaver.add_result((x1, np.random.rand(npoints)),\n",
    "                                 (x2, np.random.rand(npoints)),\n",
    "                                 (x3, np.random.rand(npoints)),\n",
    "                                 (y1, np.random.rand(npoints)),\n",
    "                                 (y2, np.random.rand(npoints)))\n",
    "        stop_adding = time.perf_counter()\n",
    "        run_id = datasaver.run_id\n",
    "    stop = time.perf_counter()\n",
    "    tot_time = stop - start\n",
    "    add_time = stop_adding - start_adding\n",
    "    return tot_time, add_time, run_id"
   ]
  },
  {
   "cell_type": "markdown",
   "metadata": {},
   "source": [
    "## Comparison between numeric/array data and binary blob"
   ]
  },
  {
   "cell_type": "markdown",
   "metadata": {},
   "source": [
    "### Case1: Short experiment time"
   ]
  },
  {
   "cell_type": "code",
   "execution_count": 5,
   "metadata": {},
   "outputs": [
    {
     "name": "stdout",
     "output_type": "stream",
     "text": [
      "Starting experimental run with id: 1. \n",
      "Starting experimental run with id: 2. \n",
      "Starting experimental run with id: 3. \n",
      "Starting experimental run with id: 4. \n"
     ]
    },
    {
     "name": "stdout",
     "output_type": "stream",
     "text": [
      "Starting experimental run with id: 5. \n"
     ]
    },
    {
     "name": "stdout",
     "output_type": "stream",
     "text": [
      "Starting experimental run with id: 6. \n",
      "Starting experimental run with id: 7. \n"
     ]
    },
    {
     "name": "stdout",
     "output_type": "stream",
     "text": [
      "Starting experimental run with id: 8. \n",
      "Starting experimental run with id: 9. \n"
     ]
    },
    {
     "name": "stdout",
     "output_type": "stream",
     "text": [
      "Starting experimental run with id: 10. \n",
      "Starting experimental run with id: 11. \n"
     ]
    },
    {
     "name": "stdout",
     "output_type": "stream",
     "text": [
      "Starting experimental run with id: 12. \n",
      "Starting experimental run with id: 13. \n"
     ]
    },
    {
     "name": "stdout",
     "output_type": "stream",
     "text": [
      "Starting experimental run with id: 14. \n"
     ]
    }
   ],
   "source": [
    "sizes = [1,500,1000,2000,3000,4000,5000]\n",
    "t_numeric = []\n",
    "t_numeric_add = []\n",
    "t_array = []\n",
    "t_array_add = []\n",
    "for size in sizes:\n",
    "    tn, tna, run_id_n =  insert_data('numeric', size)\n",
    "    t_numeric.append(tn)\n",
    "    t_numeric_add.append(tna)\n",
    "\n",
    "    ta, taa, run_id_a =  insert_data('array', size)\n",
    "    t_array.append(ta)\n",
    "    t_array_add.append(taa)"
   ]
  },
  {
   "cell_type": "code",
   "execution_count": 6,
   "metadata": {},
   "outputs": [
    {
     "data": {
      "image/png": "[encoded data removed]",
      "text/plain": [
       "<Figure size 432x288 with 1 Axes>"
      ]
     },
     "metadata": {
      "needs_background": "light"
     },
     "output_type": "display_data"
    }
   ],
   "source": [
    "fig, ax = plt.subplots(1,1)\n",
    "ax.plot(sizes, t_numeric, 'o-', label='Inserting row-by-row')\n",
    "ax.plot(sizes, t_numeric_add, 'o-', label='Inserting row-by-row: add_result only')\n",
    "ax.plot(sizes, t_array, 'd-', label='Inserting as binary blob')\n",
    "ax.plot(sizes, t_array_add, 'd-', label='Inserting as binary blob: add_result only')\n",
    "ax.legend()\n",
    "ax.set_xlabel('Array length')\n",
    "ax.set_ylabel('Time (s)')\n",
    "fig.tight_layout()"
   ]
  },
  {
   "cell_type": "markdown",
   "metadata": {},
   "source": [
    "As shown in the latter figure, the time to setup and and close the experiment is approximately 0.4 sec. In case of small array sizes, the difference between inserting values of data as arrays and inserting them row-by-row is relatively unimportant. At larger array sizes, i.e. above 10000 points, the cost of writing data as individual datapoints starts to become important.\n"
   ]
  },
  {
   "cell_type": "markdown",
   "metadata": {},
   "source": [
    "### Case2: Long experiment time "
   ]
  },
  {
   "cell_type": "code",
   "execution_count": 7,
   "metadata": {},
   "outputs": [
    {
     "name": "stdout",
     "output_type": "stream",
     "text": [
      "Starting experimental run with id: 15. \n",
      "Starting experimental run with id: 16. \n",
      "Starting experimental run with id: 17. \n"
     ]
    },
    {
     "name": "stdout",
     "output_type": "stream",
     "text": [
      "Starting experimental run with id: 18. \n",
      "Starting experimental run with id: 19. \n"
     ]
    },
    {
     "name": "stdout",
     "output_type": "stream",
     "text": [
      "Starting experimental run with id: 20. \n"
     ]
    },
    {
     "name": "stdout",
     "output_type": "stream",
     "text": [
      "Starting experimental run with id: 21. \n"
     ]
    },
    {
     "name": "stdout",
     "output_type": "stream",
     "text": [
      "Starting experimental run with id: 22. \n"
     ]
    },
    {
     "name": "stdout",
     "output_type": "stream",
     "text": [
      "Starting experimental run with id: 23. \n"
     ]
    },
    {
     "name": "stdout",
     "output_type": "stream",
     "text": [
      "Starting experimental run with id: 24. \n"
     ]
    },
    {
     "name": "stdout",
     "output_type": "stream",
     "text": [
      "Starting experimental run with id: 25. \n"
     ]
    },
    {
     "name": "stdout",
     "output_type": "stream",
     "text": [
      "Starting experimental run with id: 26. \n"
     ]
    },
    {
     "name": "stdout",
     "output_type": "stream",
     "text": [
      "Starting experimental run with id: 27. \n"
     ]
    },
    {
     "name": "stdout",
     "output_type": "stream",
     "text": [
      "Starting experimental run with id: 28. \n"
     ]
    }
   ],
   "source": [
    "sizes = [1,500,1000,2000,3000,4000,5000]\n",
    "nreps = 100\n",
    "t_numeric = []\n",
    "t_numeric_add = []\n",
    "t_numeric_run_ids = []\n",
    "t_array = []\n",
    "t_array_add = []\n",
    "t_array_run_ids = []\n",
    "for size in sizes:\n",
    "    tn, tna, run_id_n =  insert_data('numeric', size, nreps=nreps)\n",
    "    t_numeric.append(tn)\n",
    "    t_numeric_add.append(tna)\n",
    "    t_numeric_run_ids.append(run_id_n)\n",
    "\n",
    "    ta, taa, run_id_a =  insert_data('array', size, nreps=nreps)\n",
    "    t_array.append(ta)\n",
    "    t_array_add.append(taa)\n",
    "    t_array_run_ids.append(run_id_a)"
   ]
  },
  {
   "cell_type": "code",
   "execution_count": 8,
   "metadata": {
    "scrolled": true
   },
   "outputs": [
    {
     "data": {
      "image/png": "[encoded data removed]",
      "text/plain": [
       "<Figure size 432x288 with 1 Axes>"
      ]
     },
     "metadata": {
      "needs_background": "light"
     },
     "output_type": "display_data"
    }
   ],
   "source": [
    "fig, ax = plt.subplots(1,1)\n",
    "ax.plot(sizes, t_numeric, 'o-', label='Inserting row-by-row')\n",
    "ax.plot(sizes, t_numeric_add, 'o-', label='Inserting row-by-row: add_result only')\n",
    "ax.plot(sizes, t_array, 'd-', label='Inserting as binary blob')\n",
    "ax.plot(sizes, t_array_add, 'd-', label='Inserting as binary blob: add_result only')\n",
    "ax.legend()\n",
    "ax.set_xlabel('Array length')\n",
    "ax.set_ylabel('Time (s)')\n",
    "fig.tight_layout()"
   ]
  },
  {
   "cell_type": "markdown",
   "metadata": {},
   "source": [
    "However, as we increase the length of the experiment, as seen here by repeating the insertion 100 times, we see a big difference between inserting values of the data row-by-row and inserting it as a binary blob."
   ]
  },
  {
   "cell_type": "markdown",
   "metadata": {},
   "source": [
    "## Loading the data "
   ]
  },
  {
   "cell_type": "code",
   "execution_count": 9,
   "metadata": {},
   "outputs": [],
   "source": [
    "from qcodes.dataset.data_set import load_by_id\n",
    "from qcodes.dataset.data_export import get_data_by_id"
   ]
  },
  {
   "cell_type": "markdown",
   "metadata": {},
   "source": [
    "As usual you can load the data by using the ``load_by_id`` function but you will notice that the different storage methods\n",
    "are reflected in shape of the data as it is retrieved. "
   ]
  },
  {
   "cell_type": "code",
   "execution_count": 10,
   "metadata": {},
   "outputs": [],
   "source": [
    "run_id_n = t_numeric_run_ids[0]\n",
    "run_id_a = t_array_run_ids[0]"
   ]
  },
  {
   "cell_type": "code",
   "execution_count": 11,
   "metadata": {
    "scrolled": true
   },
   "outputs": [
    {
     "data": {
      "text/plain": [
       "{'x1': {'x1': array([5.29129849e-01, 5.29129849e-01, 6.94321871e-01, 6.94321871e-01,\n",
       "         2.04582080e-01, 2.04582080e-01, 2.56231235e-01, 2.56231235e-01,\n",
       "         3.68771170e-01, 3.68771170e-01, 3.95595414e-04, 3.95595414e-04,\n",
       "         4.82283498e-01, 4.82283498e-01, 9.74161134e-01, 9.74161134e-01,\n",
       "         4.36277090e-01, 4.36277090e-01, 5.46243357e-01, 5.46243357e-01,\n",
       "         2.46919664e-01, 2.46919664e-01, 6.12495489e-01, 6.12495489e-01,\n",
       "         2.86645493e-02, 2.86645493e-02, 8.18061522e-01, 8.18061522e-01,\n",
       "         6.16963012e-01, 6.16963012e-01, 5.66950665e-01, 5.66950665e-01,\n",
       "         9.06276072e-01, 9.06276072e-01, 8.69605970e-01, 8.69605970e-01,\n",
       "         4.39537595e-01, 4.39537595e-01, 7.59104084e-01, 7.59104084e-01,\n",
       "         6.03338655e-01, 6.03338655e-01, 1.08320963e-01, 1.08320963e-01,\n",
       "         8.67377243e-01, 8.67377243e-01, 5.79538747e-01, 5.79538747e-01,\n",
       "         3.30200326e-01, 3.30200326e-01, 1.62597048e-01, 1.62597048e-01,\n",
       "         6.63723509e-01, 6.63723509e-01, 2.33206050e-02, 2.33206050e-02,\n",
       "         2.12350312e-01, 2.12350312e-01, 6.15786062e-01, 6.15786062e-01,\n",
       "         6.20629261e-01, 6.20629261e-01, 2.54244460e-01, 2.54244460e-01,\n",
       "         5.30842557e-01, 5.30842557e-01, 8.44733544e-01, 8.44733544e-01,\n",
       "         1.53153376e-01, 1.53153376e-01, 4.26914445e-01, 4.26914445e-01,\n",
       "         8.32647431e-01, 8.32647431e-01, 3.86017050e-02, 3.86017050e-02,\n",
       "         9.08942979e-01, 9.08942979e-01, 2.88384080e-01, 2.88384080e-01,\n",
       "         4.66154402e-01, 4.66154402e-01, 3.38784588e-01, 3.38784588e-01,\n",
       "         3.00143778e-01, 3.00143778e-01, 4.09144679e-01, 4.09144679e-01,\n",
       "         9.89896036e-01, 9.89896036e-01, 9.33459076e-02, 9.33459076e-02,\n",
       "         9.81230890e-01, 9.81230890e-01, 8.19235116e-01, 8.19235116e-01,\n",
       "         3.56680437e-01, 3.56680437e-01, 7.75897758e-01, 7.75897758e-01,\n",
       "         5.88984831e-01, 5.88984831e-01, 9.77175370e-02, 9.77175370e-02,\n",
       "         1.14402580e-01, 1.14402580e-01, 2.45266094e-01, 2.45266094e-01,\n",
       "         5.58314892e-01, 5.58314892e-01, 2.59867443e-01, 2.59867443e-01,\n",
       "         5.92673188e-01, 5.92673188e-01, 6.12934113e-01, 6.12934113e-01,\n",
       "         3.65875084e-01, 3.65875084e-01, 6.24740508e-01, 6.24740508e-01,\n",
       "         6.49660973e-01, 6.49660973e-01, 6.98027874e-01, 6.98027874e-01,\n",
       "         8.74110975e-01, 8.74110975e-01, 9.82351108e-01, 9.82351108e-01,\n",
       "         8.59449190e-01, 8.59449190e-01, 7.03083885e-01, 7.03083885e-01,\n",
       "         6.59818715e-01, 6.59818715e-01, 1.63384253e-01, 1.63384253e-01,\n",
       "         5.21245224e-01, 5.21245224e-01, 8.14864102e-01, 8.14864102e-01,\n",
       "         9.72683473e-01, 9.72683473e-01, 3.59464317e-02, 3.59464317e-02,\n",
       "         6.67254965e-01, 6.67254965e-01, 4.53979422e-01, 4.53979422e-01,\n",
       "         3.86032728e-01, 3.86032728e-01, 5.52654463e-01, 5.52654463e-01,\n",
       "         9.80536924e-01, 9.80536924e-01, 1.10110403e-01, 1.10110403e-01,\n",
       "         3.02507599e-01, 3.02507599e-01, 5.23638874e-01, 5.23638874e-01,\n",
       "         4.93050796e-01, 4.93050796e-01, 8.37110168e-01, 8.37110168e-01,\n",
       "         9.00861810e-01, 9.00861810e-01, 3.61263306e-01, 3.61263306e-01,\n",
       "         1.75555563e-02, 1.75555563e-02, 8.73657226e-01, 8.73657226e-01,\n",
       "         8.78888473e-01, 8.78888473e-01, 9.91230249e-01, 9.91230249e-01,\n",
       "         4.76848167e-02, 4.76848167e-02, 3.66750582e-01, 3.66750582e-01,\n",
       "         2.48948468e-01, 2.48948468e-01, 1.75758843e-01, 1.75758843e-01,\n",
       "         9.91315940e-01, 9.91315940e-01, 5.53297818e-01, 5.53297818e-01,\n",
       "         8.93572509e-01, 8.93572509e-01, 6.99176508e-01, 6.99176508e-01,\n",
       "         2.97628187e-02, 2.97628187e-02, 6.15739484e-01, 6.15739484e-01,\n",
       "         6.24313615e-02, 6.24313615e-02, 4.87129440e-01, 4.87129440e-01])}}"
      ]
     },
     "execution_count": 11,
     "metadata": {},
     "output_type": "execute_result"
    }
   ],
   "source": [
    "ds = load_by_id(run_id_n)\n",
    "ds.get_parameter_data('x1')"
   ]
  },
  {
   "cell_type": "markdown",
   "metadata": {},
   "source": [
    "And a dataset stored as binary arrays"
   ]
  },
  {
   "cell_type": "code",
   "execution_count": 12,
   "metadata": {
    "scrolled": true
   },
   "outputs": [
    {
     "data": {
      "text/plain": [
       "{'x1': {'x1': array([[0.25371214],\n",
       "         [0.25371214],\n",
       "         [0.92725441],\n",
       "         [0.92725441],\n",
       "         [0.31083971],\n",
       "         [0.31083971],\n",
       "         [0.92413532],\n",
       "         [0.92413532],\n",
       "         [0.4313081 ],\n",
       "         [0.4313081 ],\n",
       "         [0.94720154],\n",
       "         [0.94720154],\n",
       "         [0.2062741 ],\n",
       "         [0.2062741 ],\n",
       "         [0.4269654 ],\n",
       "         [0.4269654 ],\n",
       "         [0.76892704],\n",
       "         [0.76892704],\n",
       "         [0.65159725],\n",
       "         [0.65159725],\n",
       "         [0.21458885],\n",
       "         [0.21458885],\n",
       "         [0.25974766],\n",
       "         [0.25974766],\n",
       "         [0.46986462],\n",
       "         [0.46986462],\n",
       "         [0.20224977],\n",
       "         [0.20224977],\n",
       "         [0.27770286],\n",
       "         [0.27770286],\n",
       "         [0.80982783],\n",
       "         [0.80982783],\n",
       "         [0.66868786],\n",
       "         [0.66868786],\n",
       "         [0.96830221],\n",
       "         [0.96830221],\n",
       "         [0.75385695],\n",
       "         [0.75385695],\n",
       "         [0.58927463],\n",
       "         [0.58927463],\n",
       "         [0.56792985],\n",
       "         [0.56792985],\n",
       "         [0.22440312],\n",
       "         [0.22440312],\n",
       "         [0.12123732],\n",
       "         [0.12123732],\n",
       "         [0.00826948],\n",
       "         [0.00826948],\n",
       "         [0.59594646],\n",
       "         [0.59594646],\n",
       "         [0.01014315],\n",
       "         [0.01014315],\n",
       "         [0.2098587 ],\n",
       "         [0.2098587 ],\n",
       "         [0.98666172],\n",
       "         [0.98666172],\n",
       "         [0.84723959],\n",
       "         [0.84723959],\n",
       "         [0.19741651],\n",
       "         [0.19741651],\n",
       "         [0.94370837],\n",
       "         [0.94370837],\n",
       "         [0.1735833 ],\n",
       "         [0.1735833 ],\n",
       "         [0.59390439],\n",
       "         [0.59390439],\n",
       "         [0.58650546],\n",
       "         [0.58650546],\n",
       "         [0.02542902],\n",
       "         [0.02542902],\n",
       "         [0.30779969],\n",
       "         [0.30779969],\n",
       "         [0.27414363],\n",
       "         [0.27414363],\n",
       "         [0.04443695],\n",
       "         [0.04443695],\n",
       "         [0.70085498],\n",
       "         [0.70085498],\n",
       "         [0.92382811],\n",
       "         [0.92382811],\n",
       "         [0.55859947],\n",
       "         [0.55859947],\n",
       "         [0.75760659],\n",
       "         [0.75760659],\n",
       "         [0.5491812 ],\n",
       "         [0.5491812 ],\n",
       "         [0.59067147],\n",
       "         [0.59067147],\n",
       "         [0.63957398],\n",
       "         [0.63957398],\n",
       "         [0.95126898],\n",
       "         [0.95126898],\n",
       "         [0.265348  ],\n",
       "         [0.265348  ],\n",
       "         [0.42818981],\n",
       "         [0.42818981],\n",
       "         [0.14021538],\n",
       "         [0.14021538],\n",
       "         [0.16190718],\n",
       "         [0.16190718],\n",
       "         [0.00419621],\n",
       "         [0.00419621],\n",
       "         [0.97653405],\n",
       "         [0.97653405],\n",
       "         [0.98288866],\n",
       "         [0.98288866],\n",
       "         [0.97875647],\n",
       "         [0.97875647],\n",
       "         [0.96678263],\n",
       "         [0.96678263],\n",
       "         [0.9105235 ],\n",
       "         [0.9105235 ],\n",
       "         [0.86762523],\n",
       "         [0.86762523],\n",
       "         [0.50642383],\n",
       "         [0.50642383],\n",
       "         [0.62707555],\n",
       "         [0.62707555],\n",
       "         [0.30348014],\n",
       "         [0.30348014],\n",
       "         [0.91505809],\n",
       "         [0.91505809],\n",
       "         [0.39222656],\n",
       "         [0.39222656],\n",
       "         [0.43240591],\n",
       "         [0.43240591],\n",
       "         [0.68182023],\n",
       "         [0.68182023],\n",
       "         [0.69248714],\n",
       "         [0.69248714],\n",
       "         [0.16150703],\n",
       "         [0.16150703],\n",
       "         [0.15342076],\n",
       "         [0.15342076],\n",
       "         [0.98372525],\n",
       "         [0.98372525],\n",
       "         [0.26900365],\n",
       "         [0.26900365],\n",
       "         [0.87068147],\n",
       "         [0.87068147],\n",
       "         [0.55178445],\n",
       "         [0.55178445],\n",
       "         [0.47078134],\n",
       "         [0.47078134],\n",
       "         [0.26863314],\n",
       "         [0.26863314],\n",
       "         [0.9116066 ],\n",
       "         [0.9116066 ],\n",
       "         [0.86646585],\n",
       "         [0.86646585],\n",
       "         [0.60394886],\n",
       "         [0.60394886],\n",
       "         [0.88520368],\n",
       "         [0.88520368],\n",
       "         [0.01791472],\n",
       "         [0.01791472],\n",
       "         [0.37460233],\n",
       "         [0.37460233],\n",
       "         [0.90192001],\n",
       "         [0.90192001],\n",
       "         [0.88069726],\n",
       "         [0.88069726],\n",
       "         [0.19746729],\n",
       "         [0.19746729],\n",
       "         [0.93622796],\n",
       "         [0.93622796],\n",
       "         [0.93616595],\n",
       "         [0.93616595],\n",
       "         [0.17594279],\n",
       "         [0.17594279],\n",
       "         [0.87841505],\n",
       "         [0.87841505],\n",
       "         [0.1298679 ],\n",
       "         [0.1298679 ],\n",
       "         [0.97763005],\n",
       "         [0.97763005],\n",
       "         [0.51011173],\n",
       "         [0.51011173],\n",
       "         [0.71723254],\n",
       "         [0.71723254],\n",
       "         [0.09898654],\n",
       "         [0.09898654],\n",
       "         [0.22123715],\n",
       "         [0.22123715],\n",
       "         [0.69688139],\n",
       "         [0.69688139],\n",
       "         [0.35226455],\n",
       "         [0.35226455],\n",
       "         [0.85495419],\n",
       "         [0.85495419],\n",
       "         [0.29894299],\n",
       "         [0.29894299],\n",
       "         [0.31161361],\n",
       "         [0.31161361],\n",
       "         [0.67076503],\n",
       "         [0.67076503],\n",
       "         [0.30935976],\n",
       "         [0.30935976],\n",
       "         [0.06853998],\n",
       "         [0.06853998]])}}"
      ]
     },
     "execution_count": 12,
     "metadata": {},
     "output_type": "execute_result"
    }
   ],
   "source": [
    "ds = load_by_id(run_id_a)\n",
    "ds.get_parameter_data('x1')"
   ]
  },
  {
   "cell_type": "code",
   "execution_count": null,
   "metadata": {},
   "outputs": [],
   "source": []
  }
 ],
 "metadata": {
  "kernelspec": {
   "display_name": "Python 3",
   "language": "python",
   "name": "python3"
  },
  "language_info": {
   "codemirror_mode": {
    "name": "ipython",
    "version": 3
   },
   "file_extension": ".py",
   "mimetype": "text/x-python",
   "name": "python",
   "nbconvert_exporter": "python",
   "pygments_lexer": "ipython3",
   "version": "3.7.7"
  },
  "nbsphinx": {
   "timeout": 600
  },
  "toc": {
   "base_numbering": 1,
   "nav_menu": {},
   "number_sections": true,
   "sideBar": true,
   "skip_h1_title": false,
   "title_cell": "Table of Contents",
   "title_sidebar": "Contents",
   "toc_cell": false,
   "toc_position": {},
   "toc_section_display": true,
   "toc_window_display": false
  },
  "varInspector": {
   "cols": {
    "lenName": 16,
    "lenType": 16,
    "lenVar": 40
   },
   "kernels_config": {
    "python": {
     "delete_cmd_postfix": "",
     "delete_cmd_prefix": "del ",
     "library": "var_list.py",
     "varRefreshCmd": "print(var_dic_list())"
    },
    "r": {
     "delete_cmd_postfix": ") ",
     "delete_cmd_prefix": "rm(",
     "library": "var_list.r",
     "varRefreshCmd": "cat(var_dic_list()) "
    }
   },
   "types_to_exclude": [
    "module",
    "function",
    "builtin_function_or_method",
    "instance",
    "_Feature"
   ],
   "window_display": false
  }
 },
 "nbformat": 4,
 "nbformat_minor": 2
}
