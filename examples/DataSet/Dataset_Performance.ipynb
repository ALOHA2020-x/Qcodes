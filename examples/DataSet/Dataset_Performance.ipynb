{
 "cells": [
  {
   "cell_type": "markdown",
   "metadata": {},
   "source": [
    "# DataSet Performance\n",
    "\n",
    "This notebook shows the trade-off between inserting data into a database row-by-row and as binary blobs. Inserting the data row-by-row means that we have direct access to all the data and may perform queries directly on the values of the data. On the other hand, as we shall see, this is much slower than inserting the data directly as binary blobs."
   ]
  },
  {
   "cell_type": "markdown",
   "metadata": {},
   "source": [
    "First, we choose a new location for the database to ensure that we don't add a bunch of benchmarking data to the default one."
   ]
  },
  {
   "cell_type": "code",
   "execution_count": 1,
   "metadata": {
    "execution": {
     "iopub.execute_input": "2021-04-12T08:26:56.885731Z",
     "iopub.status.busy": "2021-04-12T08:26:56.885042Z",
     "iopub.status.idle": "2021-04-12T08:26:58.101059Z",
     "shell.execute_reply": "2021-04-12T08:26:58.100344Z"
    }
   },
   "outputs": [
    {
     "name": "stdout",
     "output_type": "stream",
     "text": [
      "Logging hadn't been started.\n",
      "Activating auto-logging. Current session state plus future input saved.\n",
      "Filename       : /home/runner/.qcodes/logs/command_history.log\n",
      "Mode           : append\n",
      "Output logging : True\n",
      "Raw input log  : False\n",
      "Timestamping   : True\n",
      "State          : active\n"
     ]
    },
    {
     "name": "stdout",
     "output_type": "stream",
     "text": [
      "Qcodes Logfile : /home/runner/.qcodes/logs/210412-4512-qcodes.log\n"
     ]
    }
   ],
   "source": [
    "import os\n",
    "cwd = os.getcwd()\n",
    "import qcodes as qc\n",
    "qc.config[\"core\"][\"db_location\"] = os.path.join(cwd, 'testing.db')\n"
   ]
  },
  {
   "cell_type": "code",
   "execution_count": 2,
   "metadata": {
    "execution": {
     "iopub.execute_input": "2021-04-12T08:26:58.108828Z",
     "iopub.status.busy": "2021-04-12T08:26:58.108137Z",
     "iopub.status.idle": "2021-04-12T08:26:58.404871Z",
     "shell.execute_reply": "2021-04-12T08:26:58.403873Z"
    }
   },
   "outputs": [],
   "source": [
    "%matplotlib inline\n",
    "import time\n",
    "import matplotlib.pyplot as plt\n",
    "import numpy as np\n",
    "\n",
    "import qcodes as qc\n",
    "from qcodes.instrument.parameter import ManualParameter\n",
    "from qcodes.dataset.experiment_container import (Experiment,\n",
    "                                                 load_last_experiment,\n",
    "                                                 new_experiment)\n",
    "from qcodes.dataset.sqlite.database import initialise_database\n",
    "from qcodes import load_or_create_experiment\n",
    "from qcodes.dataset.measurements import Measurement"
   ]
  },
  {
   "cell_type": "code",
   "execution_count": 3,
   "metadata": {
    "execution": {
     "iopub.execute_input": "2021-04-12T08:26:58.409781Z",
     "iopub.status.busy": "2021-04-12T08:26:58.409062Z",
     "iopub.status.idle": "2021-04-12T08:26:58.509306Z",
     "shell.execute_reply": "2021-04-12T08:26:58.508657Z"
    }
   },
   "outputs": [
    {
     "name": "stdout",
     "output_type": "stream",
     "text": [
      "\r",
      "0it [00:00, ?it/s]"
     ]
    },
    {
     "name": "stdout",
     "output_type": "stream",
     "text": [
      "\r",
      "Upgrading database; v0 -> v1: : 0it [00:00, ?it/s]"
     ]
    },
    {
     "name": "stdout",
     "output_type": "stream",
     "text": [
      "\r",
      "Upgrading database; v0 -> v1: : 0it [00:00, ?it/s]"
     ]
    },
    {
     "name": "stdout",
     "output_type": "stream",
     "text": [
      "\n",
      "\r",
      "  0%|          | 0/1 [00:00<?, ?it/s]"
     ]
    },
    {
     "name": "stdout",
     "output_type": "stream",
     "text": [
      "\r",
      "Upgrading database; v1 -> v2:   0%|          | 0/1 [00:00<?, ?it/s]"
     ]
    },
    {
     "name": "stdout",
     "output_type": "stream",
     "text": [
      "\r",
      "Upgrading database; v1 -> v2: 100%|██████████| 1/1 [00:00<00:00, 957.39it/s]"
     ]
    },
    {
     "name": "stdout",
     "output_type": "stream",
     "text": [
      "\n",
      "\r",
      "0it [00:00, ?it/s]"
     ]
    },
    {
     "name": "stdout",
     "output_type": "stream",
     "text": [
      "\r",
      "Upgrading database; v2 -> v3: : 0it [00:00, ?it/s]"
     ]
    },
    {
     "name": "stdout",
     "output_type": "stream",
     "text": [
      "\r",
      "Upgrading database; v2 -> v3: : 0it [00:00, ?it/s]"
     ]
    },
    {
     "name": "stdout",
     "output_type": "stream",
     "text": [
      "\n",
      "\r",
      "0it [00:00, ?it/s]"
     ]
    },
    {
     "name": "stdout",
     "output_type": "stream",
     "text": [
      "\r",
      "Upgrading database; v3 -> v4: : 0it [00:00, ?it/s]"
     ]
    },
    {
     "name": "stdout",
     "output_type": "stream",
     "text": [
      "\r",
      "Upgrading database; v3 -> v4: : 0it [00:00, ?it/s]"
     ]
    },
    {
     "name": "stdout",
     "output_type": "stream",
     "text": [
      "\n",
      "\r",
      "  0%|          | 0/1 [00:00<?, ?it/s]"
     ]
    },
    {
     "name": "stdout",
     "output_type": "stream",
     "text": [
      "\r",
      "Upgrading database; v4 -> v5:   0%|          | 0/1 [00:00<?, ?it/s]"
     ]
    },
    {
     "name": "stdout",
     "output_type": "stream",
     "text": [
      "\r",
      "Upgrading database; v4 -> v5: 100%|██████████| 1/1 [00:00<00:00, 381.65it/s]"
     ]
    },
    {
     "name": "stdout",
     "output_type": "stream",
     "text": [
      "\n",
      "\r",
      "0it [00:00, ?it/s]"
     ]
    },
    {
     "name": "stdout",
     "output_type": "stream",
     "text": [
      "\r",
      "Upgrading database; v5 -> v6: : 0it [00:00, ?it/s]"
     ]
    },
    {
     "name": "stdout",
     "output_type": "stream",
     "text": [
      "\r",
      "Upgrading database; v5 -> v6: : 0it [00:00, ?it/s]"
     ]
    },
    {
     "name": "stdout",
     "output_type": "stream",
     "text": [
      "\n",
      "\r",
      "  0%|          | 0/1 [00:00<?, ?it/s]"
     ]
    },
    {
     "name": "stdout",
     "output_type": "stream",
     "text": [
      "\r",
      "Upgrading database; v6 -> v7:   0%|          | 0/1 [00:00<?, ?it/s]"
     ]
    },
    {
     "name": "stdout",
     "output_type": "stream",
     "text": [
      "\r",
      "Upgrading database; v6 -> v7: 100%|██████████| 1/1 [00:00<00:00, 385.08it/s]"
     ]
    },
    {
     "name": "stdout",
     "output_type": "stream",
     "text": [
      "\n",
      "\r",
      "  0%|          | 0/1 [00:00<?, ?it/s]"
     ]
    },
    {
     "name": "stdout",
     "output_type": "stream",
     "text": [
      "\r",
      "Upgrading database; v7 -> v8:   0%|          | 0/1 [00:00<?, ?it/s]"
     ]
    },
    {
     "name": "stdout",
     "output_type": "stream",
     "text": [
      "\r",
      "Upgrading database; v7 -> v8: 100%|██████████| 1/1 [00:00<00:00, 58.71it/s]"
     ]
    },
    {
     "name": "stdout",
     "output_type": "stream",
     "text": [
      "\n",
      "\r",
      "  0%|          | 0/1 [00:00<?, ?it/s]"
     ]
    },
    {
     "name": "stdout",
     "output_type": "stream",
     "text": [
      "\r",
      "Upgrading database; v8 -> v9:   0%|          | 0/1 [00:00<?, ?it/s]"
     ]
    },
    {
     "name": "stdout",
     "output_type": "stream",
     "text": [
      "\r",
      "Upgrading database; v8 -> v9: 100%|██████████| 1/1 [00:00<00:00, 360.52it/s]"
     ]
    },
    {
     "name": "stdout",
     "output_type": "stream",
     "text": [
      "\n"
     ]
    }
   ],
   "source": [
    "initialise_database()\n",
    "exp = load_or_create_experiment(experiment_name='tutorial_exp', sample_name=\"no sample\")"
   ]
  },
  {
   "cell_type": "markdown",
   "metadata": {},
   "source": [
    "Here, we define a simple function to benchmark the time it takes to insert n points with either numeric or array data type.\n",
    "We will compare both the time used to call ``add_result`` and the time used for the full measurement."
   ]
  },
  {
   "cell_type": "code",
   "execution_count": 4,
   "metadata": {
    "execution": {
     "iopub.execute_input": "2021-04-12T08:26:58.521496Z",
     "iopub.status.busy": "2021-04-12T08:26:58.519951Z",
     "iopub.status.idle": "2021-04-12T08:26:58.522323Z",
     "shell.execute_reply": "2021-04-12T08:26:58.522892Z"
    }
   },
   "outputs": [],
   "source": [
    "def insert_data(paramtype, npoints, nreps=1):\n",
    "\n",
    "    meas = Measurement(exp=exp)\n",
    "\n",
    "    x1 = ManualParameter('x1')\n",
    "    x2 = ManualParameter('x2')\n",
    "    x3 = ManualParameter('x3')\n",
    "    y1 = ManualParameter('y1')\n",
    "    y2 = ManualParameter('y2')\n",
    "\n",
    "    meas.register_parameter(x1, paramtype=paramtype)\n",
    "    meas.register_parameter(x2, paramtype=paramtype)\n",
    "    meas.register_parameter(x3, paramtype=paramtype)\n",
    "    meas.register_parameter(y1, setpoints=[x1, x2, x3],\n",
    "                            paramtype=paramtype)\n",
    "    meas.register_parameter(y2, setpoints=[x1, x2, x3],\n",
    "                            paramtype=paramtype)\n",
    "    start = time.perf_counter()\n",
    "    with meas.run() as datasaver:\n",
    "        start_adding = time.perf_counter()\n",
    "        for i in range(nreps):\n",
    "            datasaver.add_result((x1, np.random.rand(npoints)),\n",
    "                                 (x2, np.random.rand(npoints)),\n",
    "                                 (x3, np.random.rand(npoints)),\n",
    "                                 (y1, np.random.rand(npoints)),\n",
    "                                 (y2, np.random.rand(npoints)))\n",
    "        stop_adding = time.perf_counter()\n",
    "        run_id = datasaver.run_id\n",
    "    stop = time.perf_counter()\n",
    "    tot_time = stop - start\n",
    "    add_time = stop_adding - start_adding\n",
    "    return tot_time, add_time, run_id"
   ]
  },
  {
   "cell_type": "markdown",
   "metadata": {},
   "source": [
    "## Comparison between numeric/array data and binary blob"
   ]
  },
  {
   "cell_type": "markdown",
   "metadata": {},
   "source": [
    "### Case1: Short experiment time"
   ]
  },
  {
   "cell_type": "code",
   "execution_count": 5,
   "metadata": {
    "execution": {
     "iopub.execute_input": "2021-04-12T08:26:58.531867Z",
     "iopub.status.busy": "2021-04-12T08:26:58.531063Z",
     "iopub.status.idle": "2021-04-12T08:26:59.455209Z",
     "shell.execute_reply": "2021-04-12T08:26:59.455784Z"
    }
   },
   "outputs": [
    {
     "name": "stdout",
     "output_type": "stream",
     "text": [
      "Starting experimental run with id: 1. \n",
      "Starting experimental run with id: 2. \n",
      "Starting experimental run with id: 3. \n",
      "Starting experimental run with id: 4. \n"
     ]
    },
    {
     "name": "stdout",
     "output_type": "stream",
     "text": [
      "Starting experimental run with id: 5. \n"
     ]
    },
    {
     "name": "stdout",
     "output_type": "stream",
     "text": [
      "Starting experimental run with id: 6. \n"
     ]
    },
    {
     "name": "stdout",
     "output_type": "stream",
     "text": [
      "Starting experimental run with id: 7. \n"
     ]
    },
    {
     "name": "stdout",
     "output_type": "stream",
     "text": [
      "Starting experimental run with id: 8. \n",
      "Starting experimental run with id: 9. \n"
     ]
    },
    {
     "name": "stdout",
     "output_type": "stream",
     "text": [
      "Starting experimental run with id: 10. \n",
      "Starting experimental run with id: 11. \n"
     ]
    },
    {
     "name": "stdout",
     "output_type": "stream",
     "text": [
      "Starting experimental run with id: 12. \n",
      "Starting experimental run with id: 13. \n"
     ]
    },
    {
     "name": "stdout",
     "output_type": "stream",
     "text": [
      "Starting experimental run with id: 14. \n"
     ]
    }
   ],
   "source": [
    "sizes = [1,500,1000,2000,3000,4000,5000]\n",
    "t_numeric = []\n",
    "t_numeric_add = []\n",
    "t_array = []\n",
    "t_array_add = []\n",
    "for size in sizes:\n",
    "    tn, tna, run_id_n =  insert_data('numeric', size)\n",
    "    t_numeric.append(tn)\n",
    "    t_numeric_add.append(tna)\n",
    "\n",
    "    ta, taa, run_id_a =  insert_data('array', size)\n",
    "    t_array.append(ta)\n",
    "    t_array_add.append(taa)"
   ]
  },
  {
   "cell_type": "code",
   "execution_count": 6,
   "metadata": {
    "execution": {
     "iopub.execute_input": "2021-04-12T08:26:59.479133Z",
     "iopub.status.busy": "2021-04-12T08:26:59.478305Z",
     "iopub.status.idle": "2021-04-12T08:26:59.722538Z",
     "shell.execute_reply": "2021-04-12T08:26:59.721527Z"
    }
   },
   "outputs": [
    {
     "data": {
      "image/png": "[encoded data removed]",
      "text/plain": [
       "<Figure size 432x288 with 1 Axes>"
      ]
     },
     "metadata": {
      "needs_background": "light"
     },
     "output_type": "display_data"
    }
   ],
   "source": [
    "fig, ax = plt.subplots(1,1)\n",
    "ax.plot(sizes, t_numeric, 'o-', label='Inserting row-by-row')\n",
    "ax.plot(sizes, t_numeric_add, 'o-', label='Inserting row-by-row: add_result only')\n",
    "ax.plot(sizes, t_array, 'd-', label='Inserting as binary blob')\n",
    "ax.plot(sizes, t_array_add, 'd-', label='Inserting as binary blob: add_result only')\n",
    "ax.legend()\n",
    "ax.set_xlabel('Array length')\n",
    "ax.set_ylabel('Time (s)')\n",
    "fig.tight_layout()"
   ]
  },
  {
   "cell_type": "markdown",
   "metadata": {},
   "source": [
    "As shown in the latter figure, the time to setup and and close the experiment is approximately 0.4 sec. In case of small array sizes, the difference between inserting values of data as arrays and inserting them row-by-row is relatively unimportant. At larger array sizes, i.e. above 10000 points, the cost of writing data as individual datapoints starts to become important.\n"
   ]
  },
  {
   "cell_type": "markdown",
   "metadata": {},
   "source": [
    "### Case2: Long experiment time "
   ]
  },
  {
   "cell_type": "code",
   "execution_count": 7,
   "metadata": {
    "execution": {
     "iopub.execute_input": "2021-04-12T08:26:59.732044Z",
     "iopub.status.busy": "2021-04-12T08:26:59.731034Z",
     "iopub.status.idle": "2021-04-12T08:28:03.068381Z",
     "shell.execute_reply": "2021-04-12T08:28:03.067093Z"
    }
   },
   "outputs": [
    {
     "name": "stdout",
     "output_type": "stream",
     "text": [
      "Starting experimental run with id: 15. \n",
      "Starting experimental run with id: 16. \n"
     ]
    },
    {
     "name": "stdout",
     "output_type": "stream",
     "text": [
      "Starting experimental run with id: 17. \n"
     ]
    },
    {
     "name": "stdout",
     "output_type": "stream",
     "text": [
      "Starting experimental run with id: 18. \n"
     ]
    },
    {
     "name": "stdout",
     "output_type": "stream",
     "text": [
      "Starting experimental run with id: 19. \n"
     ]
    },
    {
     "name": "stdout",
     "output_type": "stream",
     "text": [
      "Starting experimental run with id: 20. \n"
     ]
    },
    {
     "name": "stdout",
     "output_type": "stream",
     "text": [
      "Starting experimental run with id: 21. \n"
     ]
    },
    {
     "name": "stdout",
     "output_type": "stream",
     "text": [
      "Starting experimental run with id: 22. \n"
     ]
    },
    {
     "name": "stdout",
     "output_type": "stream",
     "text": [
      "Starting experimental run with id: 23. \n"
     ]
    },
    {
     "name": "stdout",
     "output_type": "stream",
     "text": [
      "Starting experimental run with id: 24. \n"
     ]
    },
    {
     "name": "stdout",
     "output_type": "stream",
     "text": [
      "Starting experimental run with id: 25. \n"
     ]
    },
    {
     "name": "stdout",
     "output_type": "stream",
     "text": [
      "Starting experimental run with id: 26. \n"
     ]
    },
    {
     "name": "stdout",
     "output_type": "stream",
     "text": [
      "Starting experimental run with id: 27. \n"
     ]
    },
    {
     "name": "stdout",
     "output_type": "stream",
     "text": [
      "Starting experimental run with id: 28. \n"
     ]
    }
   ],
   "source": [
    "sizes = [1,500,1000,2000,3000,4000,5000]\n",
    "nreps = 100\n",
    "t_numeric = []\n",
    "t_numeric_add = []\n",
    "t_numeric_run_ids = []\n",
    "t_array = []\n",
    "t_array_add = []\n",
    "t_array_run_ids = []\n",
    "for size in sizes:\n",
    "    tn, tna, run_id_n =  insert_data('numeric', size, nreps=nreps)\n",
    "    t_numeric.append(tn)\n",
    "    t_numeric_add.append(tna)\n",
    "    t_numeric_run_ids.append(run_id_n)\n",
    "\n",
    "    ta, taa, run_id_a =  insert_data('array', size, nreps=nreps)\n",
    "    t_array.append(ta)\n",
    "    t_array_add.append(taa)\n",
    "    t_array_run_ids.append(run_id_a)"
   ]
  },
  {
   "cell_type": "code",
   "execution_count": 8,
   "metadata": {
    "execution": {
     "iopub.execute_input": "2021-04-12T08:28:03.105419Z",
     "iopub.status.busy": "2021-04-12T08:28:03.102484Z",
     "iopub.status.idle": "2021-04-12T08:28:03.327794Z",
     "shell.execute_reply": "2021-04-12T08:28:03.327210Z"
    },
    "scrolled": true
   },
   "outputs": [
    {
     "data": {
      "image/png": "[encoded data removed]",
      "text/plain": [
       "<Figure size 432x288 with 1 Axes>"
      ]
     },
     "metadata": {
      "needs_background": "light"
     },
     "output_type": "display_data"
    }
   ],
   "source": [
    "fig, ax = plt.subplots(1,1)\n",
    "ax.plot(sizes, t_numeric, 'o-', label='Inserting row-by-row')\n",
    "ax.plot(sizes, t_numeric_add, 'o-', label='Inserting row-by-row: add_result only')\n",
    "ax.plot(sizes, t_array, 'd-', label='Inserting as binary blob')\n",
    "ax.plot(sizes, t_array_add, 'd-', label='Inserting as binary blob: add_result only')\n",
    "ax.legend()\n",
    "ax.set_xlabel('Array length')\n",
    "ax.set_ylabel('Time (s)')\n",
    "fig.tight_layout()"
   ]
  },
  {
   "cell_type": "markdown",
   "metadata": {},
   "source": [
    "However, as we increase the length of the experiment, as seen here by repeating the insertion 100 times, we see a big difference between inserting values of the data row-by-row and inserting it as a binary blob."
   ]
  },
  {
   "cell_type": "markdown",
   "metadata": {},
   "source": [
    "## Loading the data "
   ]
  },
  {
   "cell_type": "code",
   "execution_count": 9,
   "metadata": {
    "execution": {
     "iopub.execute_input": "2021-04-12T08:28:03.333356Z",
     "iopub.status.busy": "2021-04-12T08:28:03.332090Z",
     "iopub.status.idle": "2021-04-12T08:28:03.336019Z",
     "shell.execute_reply": "2021-04-12T08:28:03.335305Z"
    }
   },
   "outputs": [],
   "source": [
    "from qcodes.dataset.data_set import load_by_id\n",
    "from qcodes.dataset.data_export import get_data_by_id"
   ]
  },
  {
   "cell_type": "markdown",
   "metadata": {},
   "source": [
    "As usual you can load the data by using the ``load_by_id`` function but you will notice that the different storage methods\n",
    "are reflected in shape of the data as it is retrieved. "
   ]
  },
  {
   "cell_type": "code",
   "execution_count": 10,
   "metadata": {
    "execution": {
     "iopub.execute_input": "2021-04-12T08:28:03.341832Z",
     "iopub.status.busy": "2021-04-12T08:28:03.340577Z",
     "iopub.status.idle": "2021-04-12T08:28:03.342589Z",
     "shell.execute_reply": "2021-04-12T08:28:03.343144Z"
    }
   },
   "outputs": [],
   "source": [
    "run_id_n = t_numeric_run_ids[0]\n",
    "run_id_a = t_array_run_ids[0]"
   ]
  },
  {
   "cell_type": "code",
   "execution_count": 11,
   "metadata": {
    "execution": {
     "iopub.execute_input": "2021-04-12T08:28:03.348254Z",
     "iopub.status.busy": "2021-04-12T08:28:03.347585Z",
     "iopub.status.idle": "2021-04-12T08:28:03.362404Z",
     "shell.execute_reply": "2021-04-12T08:28:03.363187Z"
    },
    "scrolled": true
   },
   "outputs": [
    {
     "data": {
      "text/plain": [
       "{'x1': {'x1': array([0.33850932, 0.33850932, 0.3265699 , 0.3265699 , 0.87618559,\n",
       "         0.87618559, 0.14859914, 0.14859914, 0.40416009, 0.40416009,\n",
       "         0.10264362, 0.10264362, 0.48646313, 0.48646313, 0.88089087,\n",
       "         0.88089087, 0.14411145, 0.14411145, 0.16080799, 0.16080799,\n",
       "         0.61849203, 0.61849203, 0.56783856, 0.56783856, 0.75735979,\n",
       "         0.75735979, 0.81543851, 0.81543851, 0.66283974, 0.66283974,\n",
       "         0.35268851, 0.35268851, 0.33303111, 0.33303111, 0.45497333,\n",
       "         0.45497333, 0.54181271, 0.54181271, 0.30908008, 0.30908008,\n",
       "         0.47919828, 0.47919828, 0.63410822, 0.63410822, 0.07008854,\n",
       "         0.07008854, 0.62412092, 0.62412092, 0.25145119, 0.25145119,\n",
       "         0.74258137, 0.74258137, 0.1050219 , 0.1050219 , 0.90650976,\n",
       "         0.90650976, 0.25670124, 0.25670124, 0.42288104, 0.42288104,\n",
       "         0.38659731, 0.38659731, 0.3935465 , 0.3935465 , 0.66048022,\n",
       "         0.66048022, 0.22061916, 0.22061916, 0.25692763, 0.25692763,\n",
       "         0.12581983, 0.12581983, 0.60409286, 0.60409286, 0.36378194,\n",
       "         0.36378194, 0.97202731, 0.97202731, 0.18407182, 0.18407182,\n",
       "         0.22209116, 0.22209116, 0.99264756, 0.99264756, 0.02063563,\n",
       "         0.02063563, 0.31766196, 0.31766196, 0.082986  , 0.082986  ,\n",
       "         0.1559504 , 0.1559504 , 0.39264084, 0.39264084, 0.64647557,\n",
       "         0.64647557, 0.14122333, 0.14122333, 0.14778685, 0.14778685,\n",
       "         0.04539028, 0.04539028, 0.75110619, 0.75110619, 0.21418125,\n",
       "         0.21418125, 0.14776879, 0.14776879, 0.4554065 , 0.4554065 ,\n",
       "         0.16943808, 0.16943808, 0.56587628, 0.56587628, 0.65947712,\n",
       "         0.65947712, 0.43718184, 0.43718184, 0.49025512, 0.49025512,\n",
       "         0.00232218, 0.00232218, 0.58698396, 0.58698396, 0.46372358,\n",
       "         0.46372358, 0.27537362, 0.27537362, 0.99005332, 0.99005332,\n",
       "         0.66837419, 0.66837419, 0.85970832, 0.85970832, 0.22603745,\n",
       "         0.22603745, 0.0616323 , 0.0616323 , 0.48433645, 0.48433645,\n",
       "         0.94286332, 0.94286332, 0.16906679, 0.16906679, 0.75892002,\n",
       "         0.75892002, 0.96938715, 0.96938715, 0.21130689, 0.21130689,\n",
       "         0.43900172, 0.43900172, 0.24859844, 0.24859844, 0.90368119,\n",
       "         0.90368119, 0.32811086, 0.32811086, 0.23870011, 0.23870011,\n",
       "         0.27305082, 0.27305082, 0.93505436, 0.93505436, 0.94501313,\n",
       "         0.94501313, 0.30069232, 0.30069232, 0.36716652, 0.36716652,\n",
       "         0.54371069, 0.54371069, 0.23671117, 0.23671117, 0.44364164,\n",
       "         0.44364164, 0.13887195, 0.13887195, 0.50044879, 0.50044879,\n",
       "         0.17521917, 0.17521917, 0.67451857, 0.67451857, 0.38292953,\n",
       "         0.38292953, 0.81730311, 0.81730311, 0.5392785 , 0.5392785 ,\n",
       "         0.06247511, 0.06247511, 0.63444869, 0.63444869, 0.24463496,\n",
       "         0.24463496, 0.10619227, 0.10619227, 0.72699141, 0.72699141])}}"
      ]
     },
     "execution_count": 1,
     "metadata": {},
     "output_type": "execute_result"
    }
   ],
   "source": [
    "ds = load_by_id(run_id_n)\n",
    "ds.get_parameter_data('x1')"
   ]
  },
  {
   "cell_type": "markdown",
   "metadata": {},
   "source": [
    "And a dataset stored as binary arrays"
   ]
  },
  {
   "cell_type": "code",
   "execution_count": 12,
   "metadata": {
    "execution": {
     "iopub.execute_input": "2021-04-12T08:28:03.367996Z",
     "iopub.status.busy": "2021-04-12T08:28:03.367286Z",
     "iopub.status.idle": "2021-04-12T08:28:03.455219Z",
     "shell.execute_reply": "2021-04-12T08:28:03.455786Z"
    },
    "scrolled": true
   },
   "outputs": [
    {
     "data": {
      "text/plain": [
       "{'x1': {'x1': array([[0.60424809],\n",
       "         [0.60424809],\n",
       "         [0.14787833],\n",
       "         [0.14787833],\n",
       "         [0.14871728],\n",
       "         [0.14871728],\n",
       "         [0.62900302],\n",
       "         [0.62900302],\n",
       "         [0.49222725],\n",
       "         [0.49222725],\n",
       "         [0.66795355],\n",
       "         [0.66795355],\n",
       "         [0.02946825],\n",
       "         [0.02946825],\n",
       "         [0.29272957],\n",
       "         [0.29272957],\n",
       "         [0.04783821],\n",
       "         [0.04783821],\n",
       "         [0.92454367],\n",
       "         [0.92454367],\n",
       "         [0.79670146],\n",
       "         [0.79670146],\n",
       "         [0.30311271],\n",
       "         [0.30311271],\n",
       "         [0.93324311],\n",
       "         [0.93324311],\n",
       "         [0.56573799],\n",
       "         [0.56573799],\n",
       "         [0.12968226],\n",
       "         [0.12968226],\n",
       "         [0.53478945],\n",
       "         [0.53478945],\n",
       "         [0.75313616],\n",
       "         [0.75313616],\n",
       "         [0.92323831],\n",
       "         [0.92323831],\n",
       "         [0.803946  ],\n",
       "         [0.803946  ],\n",
       "         [0.58052616],\n",
       "         [0.58052616],\n",
       "         [0.42053226],\n",
       "         [0.42053226],\n",
       "         [0.2767449 ],\n",
       "         [0.2767449 ],\n",
       "         [0.20472875],\n",
       "         [0.20472875],\n",
       "         [0.42748705],\n",
       "         [0.42748705],\n",
       "         [0.06881508],\n",
       "         [0.06881508],\n",
       "         [0.83057248],\n",
       "         [0.83057248],\n",
       "         [0.42661414],\n",
       "         [0.42661414],\n",
       "         [0.23431058],\n",
       "         [0.23431058],\n",
       "         [0.46450146],\n",
       "         [0.46450146],\n",
       "         [0.34520828],\n",
       "         [0.34520828],\n",
       "         [0.1257877 ],\n",
       "         [0.1257877 ],\n",
       "         [0.27779449],\n",
       "         [0.27779449],\n",
       "         [0.87183922],\n",
       "         [0.87183922],\n",
       "         [0.82243316],\n",
       "         [0.82243316],\n",
       "         [0.46792015],\n",
       "         [0.46792015],\n",
       "         [0.67405962],\n",
       "         [0.67405962],\n",
       "         [0.75734405],\n",
       "         [0.75734405],\n",
       "         [0.24981713],\n",
       "         [0.24981713],\n",
       "         [0.41278543],\n",
       "         [0.41278543],\n",
       "         [0.08170554],\n",
       "         [0.08170554],\n",
       "         [0.34709834],\n",
       "         [0.34709834],\n",
       "         [0.9263446 ],\n",
       "         [0.9263446 ],\n",
       "         [0.32344954],\n",
       "         [0.32344954],\n",
       "         [0.27165088],\n",
       "         [0.27165088],\n",
       "         [0.142702  ],\n",
       "         [0.142702  ],\n",
       "         [0.56265379],\n",
       "         [0.56265379],\n",
       "         [0.13547144],\n",
       "         [0.13547144],\n",
       "         [0.10033952],\n",
       "         [0.10033952],\n",
       "         [0.13014281],\n",
       "         [0.13014281],\n",
       "         [0.48963776],\n",
       "         [0.48963776],\n",
       "         [0.21429521],\n",
       "         [0.21429521],\n",
       "         [0.19085931],\n",
       "         [0.19085931],\n",
       "         [0.9199871 ],\n",
       "         [0.9199871 ],\n",
       "         [0.17323304],\n",
       "         [0.17323304],\n",
       "         [0.57237458],\n",
       "         [0.57237458],\n",
       "         [0.73511941],\n",
       "         [0.73511941],\n",
       "         [0.30968097],\n",
       "         [0.30968097],\n",
       "         [0.12799406],\n",
       "         [0.12799406],\n",
       "         [0.33923306],\n",
       "         [0.33923306],\n",
       "         [0.19128529],\n",
       "         [0.19128529],\n",
       "         [0.4060932 ],\n",
       "         [0.4060932 ],\n",
       "         [0.36663981],\n",
       "         [0.36663981],\n",
       "         [0.31793131],\n",
       "         [0.31793131],\n",
       "         [0.78578899],\n",
       "         [0.78578899],\n",
       "         [0.60850485],\n",
       "         [0.60850485],\n",
       "         [0.82896083],\n",
       "         [0.82896083],\n",
       "         [0.85389642],\n",
       "         [0.85389642],\n",
       "         [0.95726041],\n",
       "         [0.95726041],\n",
       "         [0.51375904],\n",
       "         [0.51375904],\n",
       "         [0.27961491],\n",
       "         [0.27961491],\n",
       "         [0.10471876],\n",
       "         [0.10471876],\n",
       "         [0.8329973 ],\n",
       "         [0.8329973 ],\n",
       "         [0.16878542],\n",
       "         [0.16878542],\n",
       "         [0.07346793],\n",
       "         [0.07346793],\n",
       "         [0.39659793],\n",
       "         [0.39659793],\n",
       "         [0.15118096],\n",
       "         [0.15118096],\n",
       "         [0.33932527],\n",
       "         [0.33932527],\n",
       "         [0.23653162],\n",
       "         [0.23653162],\n",
       "         [0.67109053],\n",
       "         [0.67109053],\n",
       "         [0.38030568],\n",
       "         [0.38030568],\n",
       "         [0.95060401],\n",
       "         [0.95060401],\n",
       "         [0.75992809],\n",
       "         [0.75992809],\n",
       "         [0.29435301],\n",
       "         [0.29435301],\n",
       "         [0.19174276],\n",
       "         [0.19174276],\n",
       "         [0.10550006],\n",
       "         [0.10550006],\n",
       "         [0.03890755],\n",
       "         [0.03890755],\n",
       "         [0.28338267],\n",
       "         [0.28338267],\n",
       "         [0.15857121],\n",
       "         [0.15857121],\n",
       "         [0.45697384],\n",
       "         [0.45697384],\n",
       "         [0.02500925],\n",
       "         [0.02500925],\n",
       "         [0.19316437],\n",
       "         [0.19316437],\n",
       "         [0.06229914],\n",
       "         [0.06229914],\n",
       "         [0.74894859],\n",
       "         [0.74894859],\n",
       "         [0.08305587],\n",
       "         [0.08305587],\n",
       "         [0.25231035],\n",
       "         [0.25231035],\n",
       "         [0.36337823],\n",
       "         [0.36337823],\n",
       "         [0.07252703],\n",
       "         [0.07252703],\n",
       "         [0.03838712],\n",
       "         [0.03838712],\n",
       "         [0.43597477],\n",
       "         [0.43597477],\n",
       "         [0.57715747],\n",
       "         [0.57715747]])}}"
      ]
     },
     "execution_count": 1,
     "metadata": {},
     "output_type": "execute_result"
    }
   ],
   "source": [
    "ds = load_by_id(run_id_a)\n",
    "ds.get_parameter_data('x1')"
   ]
  },
  {
   "cell_type": "code",
   "execution_count": null,
   "metadata": {},
   "outputs": [],
   "source": []
  }
 ],
 "metadata": {
  "kernelspec": {
   "display_name": "Python 3",
   "language": "python",
   "name": "python3"
  },
  "language_info": {
   "codemirror_mode": {
    "name": "ipython",
    "version": 3
   },
   "file_extension": ".py",
   "mimetype": "text/x-python",
   "name": "python",
   "nbconvert_exporter": "python",
   "pygments_lexer": "ipython3",
   "version": "3.7.10"
  },
  "nbsphinx": {
   "timeout": 600
  },
  "toc": {
   "base_numbering": 1,
   "nav_menu": {},
   "number_sections": true,
   "sideBar": true,
   "skip_h1_title": false,
   "title_cell": "Table of Contents",
   "title_sidebar": "Contents",
   "toc_cell": false,
   "toc_position": {},
   "toc_section_display": true,
   "toc_window_display": false
  },
  "varInspector": {
   "cols": {
    "lenName": 16,
    "lenType": 16,
    "lenVar": 40
   },
   "kernels_config": {
    "python": {
     "delete_cmd_postfix": "",
     "delete_cmd_prefix": "del ",
     "library": "var_list.py",
     "varRefreshCmd": "print(var_dic_list())"
    },
    "r": {
     "delete_cmd_postfix": ") ",
     "delete_cmd_prefix": "rm(",
     "library": "var_list.r",
     "varRefreshCmd": "cat(var_dic_list()) "
    }
   },
   "types_to_exclude": [
    "module",
    "function",
    "builtin_function_or_method",
    "instance",
    "_Feature"
   ],
   "window_display": false
  }
 },
 "nbformat": 4,
 "nbformat_minor": 2
}
