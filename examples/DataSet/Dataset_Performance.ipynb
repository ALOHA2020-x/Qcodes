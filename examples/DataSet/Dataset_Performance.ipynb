{
 "cells": [
  {
   "cell_type": "markdown",
   "metadata": {},
   "source": [
    "# DataSet Performance\n",
    "\n",
    "This notebook shows the trade-off between inserting data into a database row-by-row and as binary blobs. Inserting the data row-by-row means that we have direct access to all the data and may perform queries directly on the values of the data. On the other hand, as we shall see, this is much slower than inserting the data directly as binary blobs."
   ]
  },
  {
   "cell_type": "markdown",
   "metadata": {},
   "source": [
    "First, we choose a new location for the database to ensure that we don't add a bunch of benchmarking data to the default one."
   ]
  },
  {
   "cell_type": "code",
   "execution_count": 1,
   "metadata": {},
   "outputs": [
    {
     "name": "stdout",
     "output_type": "stream",
     "text": [
      "Logging hadn't been started.\n",
      "Activating auto-logging. Current session state plus future input saved.\n",
      "Filename       : /home/vsts/.qcodes/logs/command_history.log\n",
      "Mode           : append\n",
      "Output logging : True\n",
      "Raw input log  : False\n",
      "Timestamping   : True\n",
      "State          : active\n"
     ]
    },
    {
     "name": "stdout",
     "output_type": "stream",
     "text": [
      "Qcodes Logfile : /home/vsts/.qcodes/logs/200814-18050-qcodes.log\n"
     ]
    }
   ],
   "source": [
    "import os\n",
    "cwd = os.getcwd()\n",
    "import qcodes as qc\n",
    "qc.config[\"core\"][\"db_location\"] = os.path.join(cwd, 'testing.db')\n"
   ]
  },
  {
   "cell_type": "code",
   "execution_count": 2,
   "metadata": {},
   "outputs": [],
   "source": [
    "%matplotlib inline\n",
    "import time\n",
    "import matplotlib.pyplot as plt\n",
    "import numpy as np\n",
    "\n",
    "import qcodes as qc\n",
    "from qcodes.instrument.parameter import ManualParameter\n",
    "from qcodes.dataset.experiment_container import (Experiment,\n",
    "                                                 load_last_experiment,\n",
    "                                                 new_experiment)\n",
    "from qcodes.dataset.sqlite.database import initialise_database\n",
    "from qcodes import load_or_create_experiment\n",
    "from qcodes.dataset.measurements import Measurement"
   ]
  },
  {
   "cell_type": "code",
   "execution_count": 3,
   "metadata": {},
   "outputs": [
    {
     "name": "stdout",
     "output_type": "stream",
     "text": [
      "\r",
      "0it [00:00, ?it/s]"
     ]
    },
    {
     "name": "stdout",
     "output_type": "stream",
     "text": [
      "\r",
      "Upgrading database; v0 -> v1: : 0it [00:00, ?it/s]"
     ]
    },
    {
     "name": "stdout",
     "output_type": "stream",
     "text": [
      "\r",
      "Upgrading database; v0 -> v1: : 0it [00:00, ?it/s]"
     ]
    },
    {
     "name": "stdout",
     "output_type": "stream",
     "text": [
      "\n",
      "\r",
      "  0%|          | 0/1 [00:00<?, ?it/s]"
     ]
    },
    {
     "name": "stdout",
     "output_type": "stream",
     "text": [
      "\r",
      "Upgrading database; v1 -> v2:   0%|          | 0/1 [00:00<?, ?it/s]"
     ]
    },
    {
     "name": "stdout",
     "output_type": "stream",
     "text": [
      "\r",
      "Upgrading database; v1 -> v2: 100%|██████████| 1/1 [00:00<00:00, 850.77it/s]"
     ]
    },
    {
     "name": "stdout",
     "output_type": "stream",
     "text": [
      "\n",
      "\r",
      "0it [00:00, ?it/s]"
     ]
    },
    {
     "name": "stdout",
     "output_type": "stream",
     "text": [
      "\r",
      "Upgrading database; v2 -> v3: : 0it [00:00, ?it/s]"
     ]
    },
    {
     "name": "stdout",
     "output_type": "stream",
     "text": [
      "\r",
      "Upgrading database; v2 -> v3: : 0it [00:00, ?it/s]"
     ]
    },
    {
     "name": "stdout",
     "output_type": "stream",
     "text": [
      "\n",
      "\r",
      "0it [00:00, ?it/s]"
     ]
    },
    {
     "name": "stdout",
     "output_type": "stream",
     "text": [
      "\r",
      "Upgrading database; v3 -> v4: : 0it [00:00, ?it/s]"
     ]
    },
    {
     "name": "stdout",
     "output_type": "stream",
     "text": [
      "\r",
      "Upgrading database; v3 -> v4: : 0it [00:00, ?it/s]"
     ]
    },
    {
     "name": "stdout",
     "output_type": "stream",
     "text": [
      "\n",
      "\r",
      "  0%|          | 0/1 [00:00<?, ?it/s]"
     ]
    },
    {
     "name": "stdout",
     "output_type": "stream",
     "text": [
      "\r",
      "Upgrading database; v4 -> v5:   0%|          | 0/1 [00:00<?, ?it/s]"
     ]
    },
    {
     "name": "stdout",
     "output_type": "stream",
     "text": [
      "\r",
      "Upgrading database; v4 -> v5: 100%|██████████| 1/1 [00:00<00:00, 811.75it/s]"
     ]
    },
    {
     "name": "stdout",
     "output_type": "stream",
     "text": [
      "\n",
      "\r",
      "0it [00:00, ?it/s]"
     ]
    },
    {
     "name": "stdout",
     "output_type": "stream",
     "text": [
      "\r",
      "Upgrading database; v5 -> v6: : 0it [00:00, ?it/s]"
     ]
    },
    {
     "name": "stdout",
     "output_type": "stream",
     "text": [
      "\r",
      "Upgrading database; v5 -> v6: : 0it [00:00, ?it/s]"
     ]
    },
    {
     "name": "stdout",
     "output_type": "stream",
     "text": [
      "\n",
      "\r",
      "  0%|          | 0/1 [00:00<?, ?it/s]"
     ]
    },
    {
     "name": "stdout",
     "output_type": "stream",
     "text": [
      "\r",
      "Upgrading database; v6 -> v7:   0%|          | 0/1 [00:00<?, ?it/s]"
     ]
    },
    {
     "name": "stdout",
     "output_type": "stream",
     "text": [
      "\r",
      "Upgrading database; v6 -> v7: 100%|██████████| 1/1 [00:00<00:00, 426.38it/s]"
     ]
    },
    {
     "name": "stdout",
     "output_type": "stream",
     "text": [
      "\n",
      "\r",
      "  0%|          | 0/1 [00:00<?, ?it/s]"
     ]
    },
    {
     "name": "stdout",
     "output_type": "stream",
     "text": [
      "\r",
      "Upgrading database; v7 -> v8:   0%|          | 0/1 [00:00<?, ?it/s]"
     ]
    },
    {
     "name": "stdout",
     "output_type": "stream",
     "text": [
      "\r",
      "Upgrading database; v7 -> v8: 100%|██████████| 1/1 [00:00<00:00, 772.15it/s]"
     ]
    },
    {
     "name": "stdout",
     "output_type": "stream",
     "text": [
      "\n",
      "\r",
      "  0%|          | 0/1 [00:00<?, ?it/s]"
     ]
    },
    {
     "name": "stdout",
     "output_type": "stream",
     "text": [
      "\r",
      "Upgrading database; v8 -> v9:   0%|          | 0/1 [00:00<?, ?it/s]"
     ]
    },
    {
     "name": "stdout",
     "output_type": "stream",
     "text": [
      "\r",
      "Upgrading database; v8 -> v9: 100%|██████████| 1/1 [00:00<00:00, 979.52it/s]"
     ]
    },
    {
     "name": "stdout",
     "output_type": "stream",
     "text": [
      "\n"
     ]
    }
   ],
   "source": [
    "initialise_database()\n",
    "exp = load_or_create_experiment(experiment_name='tutorial_exp', sample_name=\"no sample\")"
   ]
  },
  {
   "cell_type": "markdown",
   "metadata": {},
   "source": [
    "Here, we define a simple function to benchmark the time it takes to insert n points with either numeric or array data type.\n",
    "We will compare both the time used to call ``add_result`` and the time used for the full measurement."
   ]
  },
  {
   "cell_type": "code",
   "execution_count": 4,
   "metadata": {},
   "outputs": [],
   "source": [
    "def insert_data(paramtype, npoints, nreps=1):\n",
    "\n",
    "    meas = Measurement(exp=exp)\n",
    "\n",
    "    x1 = ManualParameter('x1')\n",
    "    x2 = ManualParameter('x2')\n",
    "    x3 = ManualParameter('x3')\n",
    "    y1 = ManualParameter('y1')\n",
    "    y2 = ManualParameter('y2')\n",
    "\n",
    "    meas.register_parameter(x1, paramtype=paramtype)\n",
    "    meas.register_parameter(x2, paramtype=paramtype)\n",
    "    meas.register_parameter(x3, paramtype=paramtype)\n",
    "    meas.register_parameter(y1, setpoints=[x1, x2, x3],\n",
    "                            paramtype=paramtype)\n",
    "    meas.register_parameter(y2, setpoints=[x1, x2, x3],\n",
    "                            paramtype=paramtype)\n",
    "    start = time.perf_counter()\n",
    "    with meas.run() as datasaver:\n",
    "        start_adding = time.perf_counter()\n",
    "        for i in range(nreps):\n",
    "            datasaver.add_result((x1, np.random.rand(npoints)),\n",
    "                                 (x2, np.random.rand(npoints)),\n",
    "                                 (x3, np.random.rand(npoints)),\n",
    "                                 (y1, np.random.rand(npoints)),\n",
    "                                 (y2, np.random.rand(npoints)))\n",
    "        stop_adding = time.perf_counter()\n",
    "        run_id = datasaver.run_id\n",
    "    stop = time.perf_counter()\n",
    "    tot_time = stop - start\n",
    "    add_time = stop_adding - start_adding\n",
    "    return tot_time, add_time, run_id"
   ]
  },
  {
   "cell_type": "markdown",
   "metadata": {},
   "source": [
    "## Comparison between numeric/array data and binary blob"
   ]
  },
  {
   "cell_type": "markdown",
   "metadata": {},
   "source": [
    "### Case1: Short experiment time"
   ]
  },
  {
   "cell_type": "code",
   "execution_count": 5,
   "metadata": {},
   "outputs": [
    {
     "name": "stdout",
     "output_type": "stream",
     "text": [
      "Starting experimental run with id: 1. \n",
      "Starting experimental run with id: 2. \n",
      "Starting experimental run with id: 3. \n",
      "Starting experimental run with id: 4. \n"
     ]
    },
    {
     "name": "stdout",
     "output_type": "stream",
     "text": [
      "Starting experimental run with id: 5. \n"
     ]
    },
    {
     "name": "stdout",
     "output_type": "stream",
     "text": [
      "Starting experimental run with id: 6. \n",
      "Starting experimental run with id: 7. \n"
     ]
    },
    {
     "name": "stdout",
     "output_type": "stream",
     "text": [
      "Starting experimental run with id: 8. \n",
      "Starting experimental run with id: 9. \n"
     ]
    },
    {
     "name": "stdout",
     "output_type": "stream",
     "text": [
      "Starting experimental run with id: 10. \n",
      "Starting experimental run with id: 11. \n"
     ]
    },
    {
     "name": "stdout",
     "output_type": "stream",
     "text": [
      "Starting experimental run with id: 12. \n",
      "Starting experimental run with id: 13. \n"
     ]
    },
    {
     "name": "stdout",
     "output_type": "stream",
     "text": [
      "Starting experimental run with id: 14. \n"
     ]
    }
   ],
   "source": [
    "sizes = [1,500,1000,2000,3000,4000,5000]\n",
    "t_numeric = []\n",
    "t_numeric_add = []\n",
    "t_array = []\n",
    "t_array_add = []\n",
    "for size in sizes:\n",
    "    tn, tna, run_id_n =  insert_data('numeric', size)\n",
    "    t_numeric.append(tn)\n",
    "    t_numeric_add.append(tna)\n",
    "\n",
    "    ta, taa, run_id_a =  insert_data('array', size)\n",
    "    t_array.append(ta)\n",
    "    t_array_add.append(taa)"
   ]
  },
  {
   "cell_type": "code",
   "execution_count": 6,
   "metadata": {},
   "outputs": [
    {
     "data": {
      "image/png": "[encoded data removed]",
      "text/plain": [
       "<Figure size 432x288 with 1 Axes>"
      ]
     },
     "metadata": {
      "needs_background": "light"
     },
     "output_type": "display_data"
    }
   ],
   "source": [
    "fig, ax = plt.subplots(1,1)\n",
    "ax.plot(sizes, t_numeric, 'o-', label='Inserting row-by-row')\n",
    "ax.plot(sizes, t_numeric_add, 'o-', label='Inserting row-by-row: add_result only')\n",
    "ax.plot(sizes, t_array, 'd-', label='Inserting as binary blob')\n",
    "ax.plot(sizes, t_array_add, 'd-', label='Inserting as binary blob: add_result only')\n",
    "ax.legend()\n",
    "ax.set_xlabel('Array length')\n",
    "ax.set_ylabel('Time (s)')\n",
    "fig.tight_layout()"
   ]
  },
  {
   "cell_type": "markdown",
   "metadata": {},
   "source": [
    "As shown in the latter figure, the time to setup and and close the experiment is approximately 0.4 sec. In case of small array sizes, the difference between inserting values of data as arrays and inserting them row-by-row is relatively unimportant. At larger array sizes, i.e. above 10000 points, the cost of writing data as individual datapoints starts to become important.\n"
   ]
  },
  {
   "cell_type": "markdown",
   "metadata": {},
   "source": [
    "### Case2: Long experiment time "
   ]
  },
  {
   "cell_type": "code",
   "execution_count": 7,
   "metadata": {},
   "outputs": [
    {
     "name": "stdout",
     "output_type": "stream",
     "text": [
      "Starting experimental run with id: 15. \n",
      "Starting experimental run with id: 16. \n",
      "Starting experimental run with id: 17. \n"
     ]
    },
    {
     "name": "stdout",
     "output_type": "stream",
     "text": [
      "Starting experimental run with id: 18. \n",
      "Starting experimental run with id: 19. \n"
     ]
    },
    {
     "name": "stdout",
     "output_type": "stream",
     "text": [
      "Starting experimental run with id: 20. \n"
     ]
    },
    {
     "name": "stdout",
     "output_type": "stream",
     "text": [
      "Starting experimental run with id: 21. \n"
     ]
    },
    {
     "name": "stdout",
     "output_type": "stream",
     "text": [
      "Starting experimental run with id: 22. \n"
     ]
    },
    {
     "name": "stdout",
     "output_type": "stream",
     "text": [
      "Starting experimental run with id: 23. \n"
     ]
    },
    {
     "name": "stdout",
     "output_type": "stream",
     "text": [
      "Starting experimental run with id: 24. \n"
     ]
    },
    {
     "name": "stdout",
     "output_type": "stream",
     "text": [
      "Starting experimental run with id: 25. \n"
     ]
    },
    {
     "name": "stdout",
     "output_type": "stream",
     "text": [
      "Starting experimental run with id: 26. \n"
     ]
    },
    {
     "name": "stdout",
     "output_type": "stream",
     "text": [
      "Starting experimental run with id: 27. \n"
     ]
    },
    {
     "name": "stdout",
     "output_type": "stream",
     "text": [
      "Starting experimental run with id: 28. \n"
     ]
    }
   ],
   "source": [
    "sizes = [1,500,1000,2000,3000,4000,5000]\n",
    "nreps = 100\n",
    "t_numeric = []\n",
    "t_numeric_add = []\n",
    "t_numeric_run_ids = []\n",
    "t_array = []\n",
    "t_array_add = []\n",
    "t_array_run_ids = []\n",
    "for size in sizes:\n",
    "    tn, tna, run_id_n =  insert_data('numeric', size, nreps=nreps)\n",
    "    t_numeric.append(tn)\n",
    "    t_numeric_add.append(tna)\n",
    "    t_numeric_run_ids.append(run_id_n)\n",
    "\n",
    "    ta, taa, run_id_a =  insert_data('array', size, nreps=nreps)\n",
    "    t_array.append(ta)\n",
    "    t_array_add.append(taa)\n",
    "    t_array_run_ids.append(run_id_a)"
   ]
  },
  {
   "cell_type": "code",
   "execution_count": 8,
   "metadata": {
    "scrolled": true
   },
   "outputs": [
    {
     "data": {
      "image/png": "[encoded data removed]",
      "text/plain": [
       "<Figure size 432x288 with 1 Axes>"
      ]
     },
     "metadata": {
      "needs_background": "light"
     },
     "output_type": "display_data"
    }
   ],
   "source": [
    "fig, ax = plt.subplots(1,1)\n",
    "ax.plot(sizes, t_numeric, 'o-', label='Inserting row-by-row')\n",
    "ax.plot(sizes, t_numeric_add, 'o-', label='Inserting row-by-row: add_result only')\n",
    "ax.plot(sizes, t_array, 'd-', label='Inserting as binary blob')\n",
    "ax.plot(sizes, t_array_add, 'd-', label='Inserting as binary blob: add_result only')\n",
    "ax.legend()\n",
    "ax.set_xlabel('Array length')\n",
    "ax.set_ylabel('Time (s)')\n",
    "fig.tight_layout()"
   ]
  },
  {
   "cell_type": "markdown",
   "metadata": {},
   "source": [
    "However, as we increase the length of the experiment, as seen here by repeating the insertion 100 times, we see a big difference between inserting values of the data row-by-row and inserting it as a binary blob."
   ]
  },
  {
   "cell_type": "markdown",
   "metadata": {},
   "source": [
    "## Loading the data "
   ]
  },
  {
   "cell_type": "code",
   "execution_count": 9,
   "metadata": {},
   "outputs": [],
   "source": [
    "from qcodes.dataset.data_set import load_by_id\n",
    "from qcodes.dataset.data_export import get_data_by_id"
   ]
  },
  {
   "cell_type": "markdown",
   "metadata": {},
   "source": [
    "As usual you can load the data by using the ``load_by_id`` function but you will notice that the different storage methods\n",
    "are reflected in shape of the data as it is retrieved. "
   ]
  },
  {
   "cell_type": "code",
   "execution_count": 10,
   "metadata": {},
   "outputs": [],
   "source": [
    "run_id_n = t_numeric_run_ids[0]\n",
    "run_id_a = t_array_run_ids[0]"
   ]
  },
  {
   "cell_type": "code",
   "execution_count": 11,
   "metadata": {
    "scrolled": true
   },
   "outputs": [
    {
     "data": {
      "text/plain": [
       "{'x1': {'x1': array([0.88760467, 0.88760467, 0.44490385, 0.44490385, 0.2888507 ,\n",
       "         0.2888507 , 0.11898533, 0.11898533, 0.2004362 , 0.2004362 ,\n",
       "         0.15397309, 0.15397309, 0.93299136, 0.93299136, 0.51238415,\n",
       "         0.51238415, 0.77249921, 0.77249921, 0.48104777, 0.48104777,\n",
       "         0.05566326, 0.05566326, 0.31836406, 0.31836406, 0.6605176 ,\n",
       "         0.6605176 , 0.0302527 , 0.0302527 , 0.71130718, 0.71130718,\n",
       "         0.53805071, 0.53805071, 0.02499429, 0.02499429, 0.16392809,\n",
       "         0.16392809, 0.58195361, 0.58195361, 0.33547072, 0.33547072,\n",
       "         0.46041462, 0.46041462, 0.14619919, 0.14619919, 0.69464734,\n",
       "         0.69464734, 0.5463606 , 0.5463606 , 0.47126331, 0.47126331,\n",
       "         0.56138445, 0.56138445, 0.76342006, 0.76342006, 0.43811422,\n",
       "         0.43811422, 0.86930692, 0.86930692, 0.50028283, 0.50028283,\n",
       "         0.84464209, 0.84464209, 0.73152335, 0.73152335, 0.35528591,\n",
       "         0.35528591, 0.43029461, 0.43029461, 0.28151275, 0.28151275,\n",
       "         0.14434558, 0.14434558, 0.4287971 , 0.4287971 , 0.59304013,\n",
       "         0.59304013, 0.92324045, 0.92324045, 0.62230764, 0.62230764,\n",
       "         0.4077067 , 0.4077067 , 0.21128378, 0.21128378, 0.18382303,\n",
       "         0.18382303, 0.21674246, 0.21674246, 0.85725402, 0.85725402,\n",
       "         0.23820608, 0.23820608, 0.42849138, 0.42849138, 0.47034832,\n",
       "         0.47034832, 0.04737217, 0.04737217, 0.54598337, 0.54598337,\n",
       "         0.23353315, 0.23353315, 0.76117009, 0.76117009, 0.66226416,\n",
       "         0.66226416, 0.7234094 , 0.7234094 , 0.34432532, 0.34432532,\n",
       "         0.68332743, 0.68332743, 0.72384965, 0.72384965, 0.01428842,\n",
       "         0.01428842, 0.90399338, 0.90399338, 0.24377952, 0.24377952,\n",
       "         0.86626437, 0.86626437, 0.83350917, 0.83350917, 0.99597327,\n",
       "         0.99597327, 0.5667317 , 0.5667317 , 0.23548078, 0.23548078,\n",
       "         0.2211942 , 0.2211942 , 0.49015902, 0.49015902, 0.67834476,\n",
       "         0.67834476, 0.95724266, 0.95724266, 0.83935677, 0.83935677,\n",
       "         0.17767348, 0.17767348, 0.23543452, 0.23543452, 0.1289034 ,\n",
       "         0.1289034 , 0.54890747, 0.54890747, 0.00849845, 0.00849845,\n",
       "         0.14896721, 0.14896721, 0.54320882, 0.54320882, 0.86882201,\n",
       "         0.86882201, 0.04244723, 0.04244723, 0.22242817, 0.22242817,\n",
       "         0.84305659, 0.84305659, 0.80321846, 0.80321846, 0.57129226,\n",
       "         0.57129226, 0.25552945, 0.25552945, 0.04818286, 0.04818286,\n",
       "         0.76079524, 0.76079524, 0.79899672, 0.79899672, 0.52830845,\n",
       "         0.52830845, 0.29162846, 0.29162846, 0.1867221 , 0.1867221 ,\n",
       "         0.73541448, 0.73541448, 0.23704443, 0.23704443, 0.97290667,\n",
       "         0.97290667, 0.63449956, 0.63449956, 0.95629398, 0.95629398,\n",
       "         0.52110546, 0.52110546, 0.54037391, 0.54037391, 0.46677307,\n",
       "         0.46677307, 0.20604058, 0.20604058, 0.53706174, 0.53706174])}}"
      ]
     },
     "execution_count": 11,
     "metadata": {},
     "output_type": "execute_result"
    }
   ],
   "source": [
    "ds = load_by_id(run_id_n)\n",
    "ds.get_parameter_data('x1')"
   ]
  },
  {
   "cell_type": "markdown",
   "metadata": {},
   "source": [
    "And a dataset stored as binary arrays"
   ]
  },
  {
   "cell_type": "code",
   "execution_count": 12,
   "metadata": {
    "scrolled": true
   },
   "outputs": [
    {
     "data": {
      "text/plain": [
       "{'x1': {'x1': array([[0.89508086],\n",
       "         [0.89508086],\n",
       "         [0.73322123],\n",
       "         [0.73322123],\n",
       "         [0.56831493],\n",
       "         [0.56831493],\n",
       "         [0.58604303],\n",
       "         [0.58604303],\n",
       "         [0.04146537],\n",
       "         [0.04146537],\n",
       "         [0.64855374],\n",
       "         [0.64855374],\n",
       "         [0.63855542],\n",
       "         [0.63855542],\n",
       "         [0.95132031],\n",
       "         [0.95132031],\n",
       "         [0.31791886],\n",
       "         [0.31791886],\n",
       "         [0.82714291],\n",
       "         [0.82714291],\n",
       "         [0.45146231],\n",
       "         [0.45146231],\n",
       "         [0.94816117],\n",
       "         [0.94816117],\n",
       "         [0.34121273],\n",
       "         [0.34121273],\n",
       "         [0.96753243],\n",
       "         [0.96753243],\n",
       "         [0.80481096],\n",
       "         [0.80481096],\n",
       "         [0.72573692],\n",
       "         [0.72573692],\n",
       "         [0.32394208],\n",
       "         [0.32394208],\n",
       "         [0.45684812],\n",
       "         [0.45684812],\n",
       "         [0.24216482],\n",
       "         [0.24216482],\n",
       "         [0.59542661],\n",
       "         [0.59542661],\n",
       "         [0.86408528],\n",
       "         [0.86408528],\n",
       "         [0.10820858],\n",
       "         [0.10820858],\n",
       "         [0.81250929],\n",
       "         [0.81250929],\n",
       "         [0.25960611],\n",
       "         [0.25960611],\n",
       "         [0.34724702],\n",
       "         [0.34724702],\n",
       "         [0.18974112],\n",
       "         [0.18974112],\n",
       "         [0.92131402],\n",
       "         [0.92131402],\n",
       "         [0.68474561],\n",
       "         [0.68474561],\n",
       "         [0.06282348],\n",
       "         [0.06282348],\n",
       "         [0.55412464],\n",
       "         [0.55412464],\n",
       "         [0.65627295],\n",
       "         [0.65627295],\n",
       "         [0.77158461],\n",
       "         [0.77158461],\n",
       "         [0.21253068],\n",
       "         [0.21253068],\n",
       "         [0.09775979],\n",
       "         [0.09775979],\n",
       "         [0.07832456],\n",
       "         [0.07832456],\n",
       "         [0.65730264],\n",
       "         [0.65730264],\n",
       "         [0.48587741],\n",
       "         [0.48587741],\n",
       "         [0.16774133],\n",
       "         [0.16774133],\n",
       "         [0.16436873],\n",
       "         [0.16436873],\n",
       "         [0.75577048],\n",
       "         [0.75577048],\n",
       "         [0.46933981],\n",
       "         [0.46933981],\n",
       "         [0.79053433],\n",
       "         [0.79053433],\n",
       "         [0.86503714],\n",
       "         [0.86503714],\n",
       "         [0.79124826],\n",
       "         [0.79124826],\n",
       "         [0.2155254 ],\n",
       "         [0.2155254 ],\n",
       "         [0.87205737],\n",
       "         [0.87205737],\n",
       "         [0.6493447 ],\n",
       "         [0.6493447 ],\n",
       "         [0.39772553],\n",
       "         [0.39772553],\n",
       "         [0.01726421],\n",
       "         [0.01726421],\n",
       "         [0.51485947],\n",
       "         [0.51485947],\n",
       "         [0.44228546],\n",
       "         [0.44228546],\n",
       "         [0.97110368],\n",
       "         [0.97110368],\n",
       "         [0.96389459],\n",
       "         [0.96389459],\n",
       "         [0.80585112],\n",
       "         [0.80585112],\n",
       "         [0.55922417],\n",
       "         [0.55922417],\n",
       "         [0.65670364],\n",
       "         [0.65670364],\n",
       "         [0.45416036],\n",
       "         [0.45416036],\n",
       "         [0.71678344],\n",
       "         [0.71678344],\n",
       "         [0.00431933],\n",
       "         [0.00431933],\n",
       "         [0.88016714],\n",
       "         [0.88016714],\n",
       "         [0.09811967],\n",
       "         [0.09811967],\n",
       "         [0.85183101],\n",
       "         [0.85183101],\n",
       "         [0.65650066],\n",
       "         [0.65650066],\n",
       "         [0.00887636],\n",
       "         [0.00887636],\n",
       "         [0.21607351],\n",
       "         [0.21607351],\n",
       "         [0.20533999],\n",
       "         [0.20533999],\n",
       "         [0.45563504],\n",
       "         [0.45563504],\n",
       "         [0.49848792],\n",
       "         [0.49848792],\n",
       "         [0.87329191],\n",
       "         [0.87329191],\n",
       "         [0.04896756],\n",
       "         [0.04896756],\n",
       "         [0.02001944],\n",
       "         [0.02001944],\n",
       "         [0.50061006],\n",
       "         [0.50061006],\n",
       "         [0.14590136],\n",
       "         [0.14590136],\n",
       "         [0.93560701],\n",
       "         [0.93560701],\n",
       "         [0.61546912],\n",
       "         [0.61546912],\n",
       "         [0.29749324],\n",
       "         [0.29749324],\n",
       "         [0.36102401],\n",
       "         [0.36102401],\n",
       "         [0.93548132],\n",
       "         [0.93548132],\n",
       "         [0.91996749],\n",
       "         [0.91996749],\n",
       "         [0.03610688],\n",
       "         [0.03610688],\n",
       "         [0.33337727],\n",
       "         [0.33337727],\n",
       "         [0.08592989],\n",
       "         [0.08592989],\n",
       "         [0.4669852 ],\n",
       "         [0.4669852 ],\n",
       "         [0.75538596],\n",
       "         [0.75538596],\n",
       "         [0.50923545],\n",
       "         [0.50923545],\n",
       "         [0.48096924],\n",
       "         [0.48096924],\n",
       "         [0.09200462],\n",
       "         [0.09200462],\n",
       "         [0.19931141],\n",
       "         [0.19931141],\n",
       "         [0.46827873],\n",
       "         [0.46827873],\n",
       "         [0.89358846],\n",
       "         [0.89358846],\n",
       "         [0.93058179],\n",
       "         [0.93058179],\n",
       "         [0.5811084 ],\n",
       "         [0.5811084 ],\n",
       "         [0.63022003],\n",
       "         [0.63022003],\n",
       "         [0.26136101],\n",
       "         [0.26136101],\n",
       "         [0.74366485],\n",
       "         [0.74366485],\n",
       "         [0.27185168],\n",
       "         [0.27185168],\n",
       "         [0.77950822],\n",
       "         [0.77950822],\n",
       "         [0.35008806],\n",
       "         [0.35008806],\n",
       "         [0.76070748],\n",
       "         [0.76070748],\n",
       "         [0.28584711],\n",
       "         [0.28584711]])}}"
      ]
     },
     "execution_count": 12,
     "metadata": {},
     "output_type": "execute_result"
    }
   ],
   "source": [
    "ds = load_by_id(run_id_a)\n",
    "ds.get_parameter_data('x1')"
   ]
  },
  {
   "cell_type": "code",
   "execution_count": null,
   "metadata": {},
   "outputs": [],
   "source": []
  }
 ],
 "metadata": {
  "kernelspec": {
   "display_name": "Python 3",
   "language": "python",
   "name": "python3"
  },
  "language_info": {
   "codemirror_mode": {
    "name": "ipython",
    "version": 3
   },
   "file_extension": ".py",
   "mimetype": "text/x-python",
   "name": "python",
   "nbconvert_exporter": "python",
   "pygments_lexer": "ipython3",
   "version": "3.7.7"
  },
  "nbsphinx": {
   "timeout": 600
  },
  "toc": {
   "base_numbering": 1,
   "nav_menu": {},
   "number_sections": true,
   "sideBar": true,
   "skip_h1_title": false,
   "title_cell": "Table of Contents",
   "title_sidebar": "Contents",
   "toc_cell": false,
   "toc_position": {},
   "toc_section_display": true,
   "toc_window_display": false
  },
  "varInspector": {
   "cols": {
    "lenName": 16,
    "lenType": 16,
    "lenVar": 40
   },
   "kernels_config": {
    "python": {
     "delete_cmd_postfix": "",
     "delete_cmd_prefix": "del ",
     "library": "var_list.py",
     "varRefreshCmd": "print(var_dic_list())"
    },
    "r": {
     "delete_cmd_postfix": ") ",
     "delete_cmd_prefix": "rm(",
     "library": "var_list.r",
     "varRefreshCmd": "cat(var_dic_list()) "
    }
   },
   "types_to_exclude": [
    "module",
    "function",
    "builtin_function_or_method",
    "instance",
    "_Feature"
   ],
   "window_display": false
  }
 },
 "nbformat": 4,
 "nbformat_minor": 2
}
