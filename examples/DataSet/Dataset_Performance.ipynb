{
 "cells": [
  {
   "cell_type": "markdown",
   "metadata": {},
   "source": [
    "# DataSet Performance\n",
    "\n",
    "This notebook shows the trade-off between inserting data into a database row-by-row and as binary blobs. Inserting the data row-by-row means that we have direct access to all the data and may perform queries directly on the values of the data. On the other hand, as we shall see, this is much slower than inserting the data directly as binary blobs."
   ]
  },
  {
   "cell_type": "markdown",
   "metadata": {},
   "source": [
    "First, we choose a new location for the database to ensure that we don't add a bunch of benchmarking data to the default one."
   ]
  },
  {
   "cell_type": "code",
   "execution_count": 1,
   "metadata": {},
   "outputs": [
    {
     "name": "stdout",
     "output_type": "stream",
     "text": [
      "Logging hadn't been started.\n",
      "Activating auto-logging. Current session state plus future input saved.\n",
      "Filename       : /home/vsts/.qcodes/logs/command_history.log\n",
      "Mode           : append\n",
      "Output logging : True\n",
      "Raw input log  : False\n",
      "Timestamping   : True\n",
      "State          : active\n"
     ]
    },
    {
     "name": "stdout",
     "output_type": "stream",
     "text": [
      "Qcodes Logfile : /home/vsts/.qcodes/logs/200611-18802-qcodes.log\n"
     ]
    }
   ],
   "source": [
    "import os\n",
    "cwd = os.getcwd()\n",
    "import qcodes as qc\n",
    "qc.config[\"core\"][\"db_location\"] = os.path.join(cwd, 'testing.db')\n"
   ]
  },
  {
   "cell_type": "code",
   "execution_count": 2,
   "metadata": {},
   "outputs": [],
   "source": [
    "%matplotlib inline\n",
    "import time\n",
    "import matplotlib.pyplot as plt\n",
    "import numpy as np\n",
    "\n",
    "import qcodes as qc\n",
    "from qcodes.instrument.parameter import ManualParameter\n",
    "from qcodes.dataset.experiment_container import (Experiment,\n",
    "                                                 load_last_experiment,\n",
    "                                                 new_experiment)\n",
    "from qcodes.dataset.sqlite.database import initialise_database\n",
    "from qcodes import load_or_create_experiment\n",
    "from qcodes.dataset.measurements import Measurement"
   ]
  },
  {
   "cell_type": "code",
   "execution_count": 3,
   "metadata": {},
   "outputs": [
    {
     "name": "stdout",
     "output_type": "stream",
     "text": [
      "\r",
      "0it [00:00, ?it/s]"
     ]
    },
    {
     "name": "stdout",
     "output_type": "stream",
     "text": [
      "\r",
      "Upgrading database; v0 -> v1: : 0it [00:00, ?it/s]"
     ]
    },
    {
     "name": "stdout",
     "output_type": "stream",
     "text": [
      "\r",
      "Upgrading database; v0 -> v1: : 0it [00:00, ?it/s]"
     ]
    },
    {
     "name": "stdout",
     "output_type": "stream",
     "text": [
      "\n",
      "\r",
      "  0%|          | 0/1 [00:00<?, ?it/s]"
     ]
    },
    {
     "name": "stdout",
     "output_type": "stream",
     "text": [
      "\r",
      "Upgrading database; v1 -> v2:   0%|          | 0/1 [00:00<?, ?it/s]"
     ]
    },
    {
     "name": "stdout",
     "output_type": "stream",
     "text": [
      "\r",
      "Upgrading database; v1 -> v2: 100%|██████████| 1/1 [00:00<00:00, 1419.39it/s]"
     ]
    },
    {
     "name": "stdout",
     "output_type": "stream",
     "text": [
      "\n",
      "\r",
      "0it [00:00, ?it/s]"
     ]
    },
    {
     "name": "stdout",
     "output_type": "stream",
     "text": [
      "\r",
      "Upgrading database; v2 -> v3: : 0it [00:00, ?it/s]"
     ]
    },
    {
     "name": "stdout",
     "output_type": "stream",
     "text": [
      "\r",
      "Upgrading database; v2 -> v3: : 0it [00:00, ?it/s]"
     ]
    },
    {
     "name": "stdout",
     "output_type": "stream",
     "text": [
      "\n",
      "\r",
      "0it [00:00, ?it/s]"
     ]
    },
    {
     "name": "stdout",
     "output_type": "stream",
     "text": [
      "\r",
      "Upgrading database; v3 -> v4: : 0it [00:00, ?it/s]"
     ]
    },
    {
     "name": "stdout",
     "output_type": "stream",
     "text": [
      "\r",
      "Upgrading database; v3 -> v4: : 0it [00:00, ?it/s]"
     ]
    },
    {
     "name": "stdout",
     "output_type": "stream",
     "text": [
      "\n",
      "\r",
      "  0%|          | 0/1 [00:00<?, ?it/s]"
     ]
    },
    {
     "name": "stdout",
     "output_type": "stream",
     "text": [
      "\r",
      "Upgrading database; v4 -> v5:   0%|          | 0/1 [00:00<?, ?it/s]"
     ]
    },
    {
     "name": "stdout",
     "output_type": "stream",
     "text": [
      "\r",
      "Upgrading database; v4 -> v5: 100%|██████████| 1/1 [00:00<00:00, 991.80it/s]"
     ]
    },
    {
     "name": "stdout",
     "output_type": "stream",
     "text": [
      "\n",
      "\r",
      "0it [00:00, ?it/s]"
     ]
    },
    {
     "name": "stdout",
     "output_type": "stream",
     "text": [
      "\r",
      "Upgrading database; v5 -> v6: : 0it [00:00, ?it/s]"
     ]
    },
    {
     "name": "stdout",
     "output_type": "stream",
     "text": [
      "\r",
      "Upgrading database; v5 -> v6: : 0it [00:00, ?it/s]"
     ]
    },
    {
     "name": "stdout",
     "output_type": "stream",
     "text": [
      "\n",
      "\r",
      "  0%|          | 0/1 [00:00<?, ?it/s]"
     ]
    },
    {
     "name": "stdout",
     "output_type": "stream",
     "text": [
      "\r",
      "Upgrading database; v6 -> v7:   0%|          | 0/1 [00:00<?, ?it/s]"
     ]
    },
    {
     "name": "stdout",
     "output_type": "stream",
     "text": [
      "\r",
      "Upgrading database; v6 -> v7: 100%|██████████| 1/1 [00:00<00:00, 467.28it/s]"
     ]
    },
    {
     "name": "stdout",
     "output_type": "stream",
     "text": [
      "\n",
      "\r",
      "  0%|          | 0/1 [00:00<?, ?it/s]"
     ]
    },
    {
     "name": "stdout",
     "output_type": "stream",
     "text": [
      "\r",
      "Upgrading database; v7 -> v8:   0%|          | 0/1 [00:00<?, ?it/s]"
     ]
    },
    {
     "name": "stdout",
     "output_type": "stream",
     "text": [
      "\r",
      "Upgrading database; v7 -> v8: 100%|██████████| 1/1 [00:00<00:00, 886.56it/s]"
     ]
    },
    {
     "name": "stdout",
     "output_type": "stream",
     "text": [
      "\n",
      "\r",
      "  0%|          | 0/1 [00:00<?, ?it/s]"
     ]
    },
    {
     "name": "stdout",
     "output_type": "stream",
     "text": [
      "\r",
      "Upgrading database; v8 -> v9:   0%|          | 0/1 [00:00<?, ?it/s]"
     ]
    },
    {
     "name": "stdout",
     "output_type": "stream",
     "text": [
      "\r",
      "Upgrading database; v8 -> v9: 100%|██████████| 1/1 [00:00<00:00, 637.14it/s]"
     ]
    },
    {
     "name": "stdout",
     "output_type": "stream",
     "text": [
      "\n"
     ]
    }
   ],
   "source": [
    "initialise_database()\n",
    "exp = load_or_create_experiment(experiment_name='tutorial_exp', sample_name=\"no sample\")"
   ]
  },
  {
   "cell_type": "markdown",
   "metadata": {},
   "source": [
    "Here, we define a simple function to benchmark the time it takes to insert n points with either numeric or array data type.\n",
    "We will compare both the time used to call ``add_result`` and the time used for the full measurement."
   ]
  },
  {
   "cell_type": "code",
   "execution_count": 4,
   "metadata": {},
   "outputs": [],
   "source": [
    "def insert_data(paramtype, npoints, nreps=1):\n",
    "\n",
    "    meas = Measurement(exp=exp)\n",
    "\n",
    "    x1 = ManualParameter('x1')\n",
    "    x2 = ManualParameter('x2')\n",
    "    x3 = ManualParameter('x3')\n",
    "    y1 = ManualParameter('y1')\n",
    "    y2 = ManualParameter('y2')\n",
    "\n",
    "    meas.register_parameter(x1, paramtype=paramtype)\n",
    "    meas.register_parameter(x2, paramtype=paramtype)\n",
    "    meas.register_parameter(x3, paramtype=paramtype)\n",
    "    meas.register_parameter(y1, setpoints=[x1, x2, x3],\n",
    "                            paramtype=paramtype)\n",
    "    meas.register_parameter(y2, setpoints=[x1, x2, x3],\n",
    "                            paramtype=paramtype)\n",
    "    start = time.perf_counter()\n",
    "    with meas.run() as datasaver:\n",
    "        start_adding = time.perf_counter()\n",
    "        for i in range(nreps):\n",
    "            datasaver.add_result((x1, np.random.rand(npoints)),\n",
    "                                 (x2, np.random.rand(npoints)),\n",
    "                                 (x3, np.random.rand(npoints)),\n",
    "                                 (y1, np.random.rand(npoints)),\n",
    "                                 (y2, np.random.rand(npoints)))\n",
    "        stop_adding = time.perf_counter()\n",
    "        run_id = datasaver.run_id\n",
    "    stop = time.perf_counter()\n",
    "    tot_time = stop - start\n",
    "    add_time = stop_adding - start_adding\n",
    "    return tot_time, add_time, run_id"
   ]
  },
  {
   "cell_type": "markdown",
   "metadata": {},
   "source": [
    "## Comparison between numeric/array data and binary blob"
   ]
  },
  {
   "cell_type": "markdown",
   "metadata": {},
   "source": [
    "### Case1: Short experiment time"
   ]
  },
  {
   "cell_type": "code",
   "execution_count": 5,
   "metadata": {},
   "outputs": [
    {
     "name": "stdout",
     "output_type": "stream",
     "text": [
      "Starting experimental run with id: 1. \n",
      "Starting experimental run with id: 2. \n",
      "Starting experimental run with id: 3. \n",
      "Starting experimental run with id: 4. \n",
      "Starting experimental run with id: 5. \n"
     ]
    },
    {
     "name": "stdout",
     "output_type": "stream",
     "text": [
      "Starting experimental run with id: 6. \n"
     ]
    },
    {
     "name": "stdout",
     "output_type": "stream",
     "text": [
      "Starting experimental run with id: 7. \n"
     ]
    },
    {
     "name": "stdout",
     "output_type": "stream",
     "text": [
      "Starting experimental run with id: 8. \n"
     ]
    },
    {
     "name": "stdout",
     "output_type": "stream",
     "text": [
      "Starting experimental run with id: 9. \n",
      "Starting experimental run with id: 10. \n"
     ]
    },
    {
     "name": "stdout",
     "output_type": "stream",
     "text": [
      "Starting experimental run with id: 11. \n"
     ]
    },
    {
     "name": "stdout",
     "output_type": "stream",
     "text": [
      "Starting experimental run with id: 12. \n",
      "Starting experimental run with id: 13. \n"
     ]
    },
    {
     "name": "stdout",
     "output_type": "stream",
     "text": [
      "Starting experimental run with id: 14. \n"
     ]
    }
   ],
   "source": [
    "sizes = [1,500,1000,2000,3000,4000,5000]\n",
    "t_numeric = []\n",
    "t_numeric_add = []\n",
    "t_array = []\n",
    "t_array_add = []\n",
    "for size in sizes:\n",
    "    tn, tna, run_id_n =  insert_data('numeric', size)\n",
    "    t_numeric.append(tn)\n",
    "    t_numeric_add.append(tna)\n",
    "\n",
    "    ta, taa, run_id_a =  insert_data('array', size)\n",
    "    t_array.append(ta)\n",
    "    t_array_add.append(taa)"
   ]
  },
  {
   "cell_type": "code",
   "execution_count": 6,
   "metadata": {},
   "outputs": [
    {
     "data": {
      "image/png": "[encoded data removed]",
      "text/plain": [
       "<Figure size 432x288 with 1 Axes>"
      ]
     },
     "metadata": {
      "needs_background": "light"
     },
     "output_type": "display_data"
    }
   ],
   "source": [
    "fig, ax = plt.subplots(1,1)\n",
    "ax.plot(sizes, t_numeric, 'o-', label='Inserting row-by-row')\n",
    "ax.plot(sizes, t_numeric_add, 'o-', label='Inserting row-by-row: add_result only')\n",
    "ax.plot(sizes, t_array, 'd-', label='Inserting as binary blob')\n",
    "ax.plot(sizes, t_array_add, 'd-', label='Inserting as binary blob: add_result only')\n",
    "ax.legend()\n",
    "ax.set_xlabel('Array length')\n",
    "ax.set_ylabel('Time (s)')\n",
    "fig.tight_layout()"
   ]
  },
  {
   "cell_type": "markdown",
   "metadata": {},
   "source": [
    "As shown in the latter figure, the time to setup and and close the experiment is approximately 0.4 sec. In case of small array sizes, the difference between inserting values of data as arrays and inserting them row-by-row is relatively unimportant. At larger array sizes, i.e. above 10000 points, the cost of writing data as individual datapoints starts to become important.\n"
   ]
  },
  {
   "cell_type": "markdown",
   "metadata": {},
   "source": [
    "### Case2: Long experiment time "
   ]
  },
  {
   "cell_type": "code",
   "execution_count": 7,
   "metadata": {},
   "outputs": [
    {
     "name": "stdout",
     "output_type": "stream",
     "text": [
      "Starting experimental run with id: 15. \n"
     ]
    },
    {
     "name": "stdout",
     "output_type": "stream",
     "text": [
      "Starting experimental run with id: 16. \n",
      "Starting experimental run with id: 17. \n"
     ]
    },
    {
     "name": "stdout",
     "output_type": "stream",
     "text": [
      "Starting experimental run with id: 18. \n",
      "Starting experimental run with id: 19. \n"
     ]
    },
    {
     "name": "stdout",
     "output_type": "stream",
     "text": [
      "Starting experimental run with id: 20. \n"
     ]
    },
    {
     "name": "stdout",
     "output_type": "stream",
     "text": [
      "Starting experimental run with id: 21. \n"
     ]
    },
    {
     "name": "stdout",
     "output_type": "stream",
     "text": [
      "Starting experimental run with id: 22. \n"
     ]
    },
    {
     "name": "stdout",
     "output_type": "stream",
     "text": [
      "Starting experimental run with id: 23. \n"
     ]
    },
    {
     "name": "stdout",
     "output_type": "stream",
     "text": [
      "Starting experimental run with id: 24. \n"
     ]
    },
    {
     "name": "stdout",
     "output_type": "stream",
     "text": [
      "Starting experimental run with id: 25. \n"
     ]
    },
    {
     "name": "stdout",
     "output_type": "stream",
     "text": [
      "Starting experimental run with id: 26. \n"
     ]
    },
    {
     "name": "stdout",
     "output_type": "stream",
     "text": [
      "Starting experimental run with id: 27. \n"
     ]
    },
    {
     "name": "stdout",
     "output_type": "stream",
     "text": [
      "Starting experimental run with id: 28. \n"
     ]
    }
   ],
   "source": [
    "sizes = [1,500,1000,2000,3000,4000,5000]\n",
    "nreps = 100\n",
    "t_numeric = []\n",
    "t_numeric_add = []\n",
    "t_numeric_run_ids = []\n",
    "t_array = []\n",
    "t_array_add = []\n",
    "t_array_run_ids = []\n",
    "for size in sizes:\n",
    "    tn, tna, run_id_n =  insert_data('numeric', size, nreps=nreps)\n",
    "    t_numeric.append(tn)\n",
    "    t_numeric_add.append(tna)\n",
    "    t_numeric_run_ids.append(run_id_n)\n",
    "\n",
    "    ta, taa, run_id_a =  insert_data('array', size, nreps=nreps)\n",
    "    t_array.append(ta)\n",
    "    t_array_add.append(taa)\n",
    "    t_array_run_ids.append(run_id_a)"
   ]
  },
  {
   "cell_type": "code",
   "execution_count": 8,
   "metadata": {
    "scrolled": true
   },
   "outputs": [
    {
     "data": {
      "image/png": "[encoded data removed]",
      "text/plain": [
       "<Figure size 432x288 with 1 Axes>"
      ]
     },
     "metadata": {
      "needs_background": "light"
     },
     "output_type": "display_data"
    }
   ],
   "source": [
    "fig, ax = plt.subplots(1,1)\n",
    "ax.plot(sizes, t_numeric, 'o-', label='Inserting row-by-row')\n",
    "ax.plot(sizes, t_numeric_add, 'o-', label='Inserting row-by-row: add_result only')\n",
    "ax.plot(sizes, t_array, 'd-', label='Inserting as binary blob')\n",
    "ax.plot(sizes, t_array_add, 'd-', label='Inserting as binary blob: add_result only')\n",
    "ax.legend()\n",
    "ax.set_xlabel('Array length')\n",
    "ax.set_ylabel('Time (s)')\n",
    "fig.tight_layout()"
   ]
  },
  {
   "cell_type": "markdown",
   "metadata": {},
   "source": [
    "However, as we increase the length of the experiment, as seen here by repeating the insertion 100 times, we see a big difference between inserting values of the data row-by-row and inserting it as a binary blob."
   ]
  },
  {
   "cell_type": "markdown",
   "metadata": {},
   "source": [
    "## Loading the data "
   ]
  },
  {
   "cell_type": "code",
   "execution_count": 9,
   "metadata": {},
   "outputs": [],
   "source": [
    "from qcodes.dataset.data_set import load_by_id\n",
    "from qcodes.dataset.data_export import get_data_by_id"
   ]
  },
  {
   "cell_type": "markdown",
   "metadata": {},
   "source": [
    "As usual you can load the data by using the ``load_by_id`` function but you will notice that the different storage methods\n",
    "are reflected in shape of the data as it is retrieved. "
   ]
  },
  {
   "cell_type": "code",
   "execution_count": 10,
   "metadata": {},
   "outputs": [],
   "source": [
    "run_id_n = t_numeric_run_ids[0]\n",
    "run_id_a = t_array_run_ids[0]"
   ]
  },
  {
   "cell_type": "code",
   "execution_count": 11,
   "metadata": {
    "scrolled": true
   },
   "outputs": [
    {
     "data": {
      "text/plain": [
       "{'x1': {'x1': array([3.46851281e-01, 3.46851281e-01, 8.19820557e-01, 8.19820557e-01,\n",
       "         3.65701678e-01, 3.65701678e-01, 5.57252533e-01, 5.57252533e-01,\n",
       "         4.43184283e-01, 4.43184283e-01, 4.74235626e-01, 4.74235626e-01,\n",
       "         8.93685015e-01, 8.93685015e-01, 3.73931234e-01, 3.73931234e-01,\n",
       "         2.48895077e-01, 2.48895077e-01, 5.59375122e-01, 5.59375122e-01,\n",
       "         6.71786838e-02, 6.71786838e-02, 2.63068789e-01, 2.63068789e-01,\n",
       "         1.24997283e-01, 1.24997283e-01, 6.08974445e-01, 6.08974445e-01,\n",
       "         5.81691693e-01, 5.81691693e-01, 4.97494782e-01, 4.97494782e-01,\n",
       "         9.72110310e-01, 9.72110310e-01, 8.47884377e-01, 8.47884377e-01,\n",
       "         9.20687427e-01, 9.20687427e-01, 1.24514624e-01, 1.24514624e-01,\n",
       "         8.26318797e-01, 8.26318797e-01, 7.61588926e-01, 7.61588926e-01,\n",
       "         2.46202201e-01, 2.46202201e-01, 1.18376113e-01, 1.18376113e-01,\n",
       "         4.57903592e-01, 4.57903592e-01, 2.72925146e-01, 2.72925146e-01,\n",
       "         1.86342515e-02, 1.86342515e-02, 7.44989151e-02, 7.44989151e-02,\n",
       "         3.61973156e-01, 3.61973156e-01, 3.33357779e-01, 3.33357779e-01,\n",
       "         2.70627444e-01, 2.70627444e-01, 5.55428502e-01, 5.55428502e-01,\n",
       "         3.26016376e-01, 3.26016376e-01, 7.42538677e-01, 7.42538677e-01,\n",
       "         2.67775612e-01, 2.67775612e-01, 9.93557381e-01, 9.93557381e-01,\n",
       "         4.42102562e-01, 4.42102562e-01, 7.94174907e-01, 7.94174907e-01,\n",
       "         4.15977388e-01, 4.15977388e-01, 7.79388331e-01, 7.79388331e-01,\n",
       "         3.56982495e-01, 3.56982495e-01, 2.56615097e-04, 2.56615097e-04,\n",
       "         1.46161484e-01, 1.46161484e-01, 2.37172881e-01, 2.37172881e-01,\n",
       "         7.75718255e-02, 7.75718255e-02, 2.29829401e-01, 2.29829401e-01,\n",
       "         6.41075368e-01, 6.41075368e-01, 6.61681046e-01, 6.61681046e-01,\n",
       "         1.01917468e-01, 1.01917468e-01, 4.18464756e-01, 4.18464756e-01,\n",
       "         6.92775687e-01, 6.92775687e-01, 6.42918372e-01, 6.42918372e-01,\n",
       "         8.84899485e-01, 8.84899485e-01, 5.34207659e-01, 5.34207659e-01,\n",
       "         8.47154123e-01, 8.47154123e-01, 9.43155022e-01, 9.43155022e-01,\n",
       "         5.83159070e-01, 5.83159070e-01, 1.73942915e-01, 1.73942915e-01,\n",
       "         5.54569799e-01, 5.54569799e-01, 2.09198222e-01, 2.09198222e-01,\n",
       "         2.11205527e-01, 2.11205527e-01, 3.56917853e-01, 3.56917853e-01,\n",
       "         6.65446981e-01, 6.65446981e-01, 8.97295156e-01, 8.97295156e-01,\n",
       "         8.71475024e-01, 8.71475024e-01, 9.44128757e-01, 9.44128757e-01,\n",
       "         2.60132862e-01, 2.60132862e-01, 7.80661341e-01, 7.80661341e-01,\n",
       "         7.54883131e-01, 7.54883131e-01, 8.39748745e-01, 8.39748745e-01,\n",
       "         8.84034215e-01, 8.84034215e-01, 6.50631022e-01, 6.50631022e-01,\n",
       "         7.75504517e-01, 7.75504517e-01, 4.07580640e-01, 4.07580640e-01,\n",
       "         3.05624808e-01, 3.05624808e-01, 5.60596864e-01, 5.60596864e-01,\n",
       "         7.23446557e-01, 7.23446557e-01, 1.04263533e-01, 1.04263533e-01,\n",
       "         1.30083353e-01, 1.30083353e-01, 5.94118644e-02, 5.94118644e-02,\n",
       "         9.07528275e-01, 9.07528275e-01, 5.18443379e-01, 5.18443379e-01,\n",
       "         7.38163256e-01, 7.38163256e-01, 3.78079367e-02, 3.78079367e-02,\n",
       "         4.71172201e-01, 4.71172201e-01, 5.90085306e-01, 5.90085306e-01,\n",
       "         1.64016504e-01, 1.64016504e-01, 3.00834665e-01, 3.00834665e-01,\n",
       "         1.07895748e-01, 1.07895748e-01, 7.28168321e-01, 7.28168321e-01,\n",
       "         4.44236168e-01, 4.44236168e-01, 6.77235170e-01, 6.77235170e-01,\n",
       "         3.08884503e-01, 3.08884503e-01, 7.94325900e-01, 7.94325900e-01,\n",
       "         2.45412496e-02, 2.45412496e-02, 1.90036701e-01, 1.90036701e-01,\n",
       "         8.18974976e-01, 8.18974976e-01, 6.79448732e-01, 6.79448732e-01,\n",
       "         9.83114117e-01, 9.83114117e-01, 5.90005986e-01, 5.90005986e-01])}}"
      ]
     },
     "execution_count": 11,
     "metadata": {},
     "output_type": "execute_result"
    }
   ],
   "source": [
    "ds = load_by_id(run_id_n)\n",
    "ds.get_parameter_data('x1')"
   ]
  },
  {
   "cell_type": "markdown",
   "metadata": {},
   "source": [
    "And a dataset stored as binary arrays"
   ]
  },
  {
   "cell_type": "code",
   "execution_count": 12,
   "metadata": {
    "scrolled": true
   },
   "outputs": [
    {
     "data": {
      "text/plain": [
       "{'x1': {'x1': array([[4.57593278e-01],\n",
       "         [4.57593278e-01],\n",
       "         [5.32013016e-01],\n",
       "         [5.32013016e-01],\n",
       "         [7.98574097e-01],\n",
       "         [7.98574097e-01],\n",
       "         [2.91716251e-02],\n",
       "         [2.91716251e-02],\n",
       "         [6.91032315e-01],\n",
       "         [6.91032315e-01],\n",
       "         [4.94412403e-01],\n",
       "         [4.94412403e-01],\n",
       "         [4.40112815e-01],\n",
       "         [4.40112815e-01],\n",
       "         [5.50580080e-01],\n",
       "         [5.50580080e-01],\n",
       "         [5.44139714e-02],\n",
       "         [5.44139714e-02],\n",
       "         [5.07881446e-02],\n",
       "         [5.07881446e-02],\n",
       "         [4.53650216e-01],\n",
       "         [4.53650216e-01],\n",
       "         [5.26404637e-01],\n",
       "         [5.26404637e-01],\n",
       "         [7.61179398e-01],\n",
       "         [7.61179398e-01],\n",
       "         [9.28766121e-01],\n",
       "         [9.28766121e-01],\n",
       "         [6.70613127e-01],\n",
       "         [6.70613127e-01],\n",
       "         [8.96664787e-01],\n",
       "         [8.96664787e-01],\n",
       "         [9.53270375e-01],\n",
       "         [9.53270375e-01],\n",
       "         [7.88657340e-01],\n",
       "         [7.88657340e-01],\n",
       "         [6.21169902e-01],\n",
       "         [6.21169902e-01],\n",
       "         [7.68875881e-01],\n",
       "         [7.68875881e-01],\n",
       "         [2.11175307e-01],\n",
       "         [2.11175307e-01],\n",
       "         [5.20910116e-01],\n",
       "         [5.20910116e-01],\n",
       "         [2.20792780e-02],\n",
       "         [2.20792780e-02],\n",
       "         [1.48349387e-01],\n",
       "         [1.48349387e-01],\n",
       "         [4.14721009e-01],\n",
       "         [4.14721009e-01],\n",
       "         [9.59293536e-01],\n",
       "         [9.59293536e-01],\n",
       "         [1.87018326e-01],\n",
       "         [1.87018326e-01],\n",
       "         [6.50789827e-01],\n",
       "         [6.50789827e-01],\n",
       "         [9.69893315e-01],\n",
       "         [9.69893315e-01],\n",
       "         [7.93470682e-01],\n",
       "         [7.93470682e-01],\n",
       "         [3.36878863e-01],\n",
       "         [3.36878863e-01],\n",
       "         [6.28812277e-01],\n",
       "         [6.28812277e-01],\n",
       "         [9.10353495e-01],\n",
       "         [9.10353495e-01],\n",
       "         [9.98193269e-01],\n",
       "         [9.98193269e-01],\n",
       "         [8.08709768e-01],\n",
       "         [8.08709768e-01],\n",
       "         [4.88866033e-04],\n",
       "         [4.88866033e-04],\n",
       "         [4.25989026e-01],\n",
       "         [4.25989026e-01],\n",
       "         [4.28061970e-02],\n",
       "         [4.28061970e-02],\n",
       "         [3.55215443e-01],\n",
       "         [3.55215443e-01],\n",
       "         [8.14125883e-01],\n",
       "         [8.14125883e-01],\n",
       "         [5.24814386e-01],\n",
       "         [5.24814386e-01],\n",
       "         [7.57786272e-01],\n",
       "         [7.57786272e-01],\n",
       "         [1.01005635e-01],\n",
       "         [1.01005635e-01],\n",
       "         [6.29008214e-01],\n",
       "         [6.29008214e-01],\n",
       "         [8.27350362e-01],\n",
       "         [8.27350362e-01],\n",
       "         [4.55795550e-01],\n",
       "         [4.55795550e-01],\n",
       "         [2.76834047e-01],\n",
       "         [2.76834047e-01],\n",
       "         [9.69881789e-01],\n",
       "         [9.69881789e-01],\n",
       "         [2.58659495e-01],\n",
       "         [2.58659495e-01],\n",
       "         [2.59045508e-01],\n",
       "         [2.59045508e-01],\n",
       "         [8.81155738e-01],\n",
       "         [8.81155738e-01],\n",
       "         [9.40355549e-01],\n",
       "         [9.40355549e-01],\n",
       "         [7.75292376e-01],\n",
       "         [7.75292376e-01],\n",
       "         [2.05560432e-02],\n",
       "         [2.05560432e-02],\n",
       "         [5.35142372e-01],\n",
       "         [5.35142372e-01],\n",
       "         [8.42195860e-01],\n",
       "         [8.42195860e-01],\n",
       "         [4.66128110e-01],\n",
       "         [4.66128110e-01],\n",
       "         [9.47636033e-01],\n",
       "         [9.47636033e-01],\n",
       "         [9.12595963e-02],\n",
       "         [9.12595963e-02],\n",
       "         [3.60457057e-01],\n",
       "         [3.60457057e-01],\n",
       "         [4.66268407e-01],\n",
       "         [4.66268407e-01],\n",
       "         [8.44399687e-01],\n",
       "         [8.44399687e-01],\n",
       "         [6.81667311e-01],\n",
       "         [6.81667311e-01],\n",
       "         [4.08127043e-02],\n",
       "         [4.08127043e-02],\n",
       "         [8.70664773e-01],\n",
       "         [8.70664773e-01],\n",
       "         [5.73308710e-01],\n",
       "         [5.73308710e-01],\n",
       "         [9.95857933e-01],\n",
       "         [9.95857933e-01],\n",
       "         [9.74363796e-01],\n",
       "         [9.74363796e-01],\n",
       "         [9.24201059e-01],\n",
       "         [9.24201059e-01],\n",
       "         [7.19685885e-01],\n",
       "         [7.19685885e-01],\n",
       "         [4.33861151e-01],\n",
       "         [4.33861151e-01],\n",
       "         [2.52844791e-01],\n",
       "         [2.52844791e-01],\n",
       "         [1.12591195e-03],\n",
       "         [1.12591195e-03],\n",
       "         [5.73509160e-01],\n",
       "         [5.73509160e-01],\n",
       "         [9.23289115e-01],\n",
       "         [9.23289115e-01],\n",
       "         [9.05529754e-02],\n",
       "         [9.05529754e-02],\n",
       "         [5.76748442e-01],\n",
       "         [5.76748442e-01],\n",
       "         [2.97167612e-01],\n",
       "         [2.97167612e-01],\n",
       "         [8.98735386e-01],\n",
       "         [8.98735386e-01],\n",
       "         [9.00323025e-01],\n",
       "         [9.00323025e-01],\n",
       "         [5.63212211e-01],\n",
       "         [5.63212211e-01],\n",
       "         [5.93456754e-01],\n",
       "         [5.93456754e-01],\n",
       "         [3.60956177e-01],\n",
       "         [3.60956177e-01],\n",
       "         [4.94201693e-01],\n",
       "         [4.94201693e-01],\n",
       "         [6.76935092e-01],\n",
       "         [6.76935092e-01],\n",
       "         [8.42456578e-01],\n",
       "         [8.42456578e-01],\n",
       "         [5.12871190e-01],\n",
       "         [5.12871190e-01],\n",
       "         [8.78178729e-02],\n",
       "         [8.78178729e-02],\n",
       "         [4.49317604e-01],\n",
       "         [4.49317604e-01],\n",
       "         [6.12904322e-01],\n",
       "         [6.12904322e-01],\n",
       "         [3.18108694e-01],\n",
       "         [3.18108694e-01],\n",
       "         [6.45990719e-01],\n",
       "         [6.45990719e-01],\n",
       "         [1.04917982e-01],\n",
       "         [1.04917982e-01],\n",
       "         [6.86602821e-01],\n",
       "         [6.86602821e-01],\n",
       "         [4.91137121e-01],\n",
       "         [4.91137121e-01],\n",
       "         [9.29652191e-01],\n",
       "         [9.29652191e-01],\n",
       "         [7.81490325e-01],\n",
       "         [7.81490325e-01],\n",
       "         [7.73108577e-01],\n",
       "         [7.73108577e-01],\n",
       "         [3.55677187e-01],\n",
       "         [3.55677187e-01],\n",
       "         [6.84146639e-01],\n",
       "         [6.84146639e-01]])}}"
      ]
     },
     "execution_count": 12,
     "metadata": {},
     "output_type": "execute_result"
    }
   ],
   "source": [
    "ds = load_by_id(run_id_a)\n",
    "ds.get_parameter_data('x1')"
   ]
  },
  {
   "cell_type": "code",
   "execution_count": null,
   "metadata": {},
   "outputs": [],
   "source": []
  }
 ],
 "metadata": {
  "kernelspec": {
   "display_name": "Python 3",
   "language": "python",
   "name": "python3"
  },
  "language_info": {
   "codemirror_mode": {
    "name": "ipython",
    "version": 3
   },
   "file_extension": ".py",
   "mimetype": "text/x-python",
   "name": "python",
   "nbconvert_exporter": "python",
   "pygments_lexer": "ipython3",
   "version": "3.7.7"
  },
  "nbsphinx": {
   "timeout": 600
  },
  "toc": {
   "base_numbering": 1,
   "nav_menu": {},
   "number_sections": true,
   "sideBar": true,
   "skip_h1_title": false,
   "title_cell": "Table of Contents",
   "title_sidebar": "Contents",
   "toc_cell": false,
   "toc_position": {},
   "toc_section_display": true,
   "toc_window_display": false
  },
  "varInspector": {
   "cols": {
    "lenName": 16,
    "lenType": 16,
    "lenVar": 40
   },
   "kernels_config": {
    "python": {
     "delete_cmd_postfix": "",
     "delete_cmd_prefix": "del ",
     "library": "var_list.py",
     "varRefreshCmd": "print(var_dic_list())"
    },
    "r": {
     "delete_cmd_postfix": ") ",
     "delete_cmd_prefix": "rm(",
     "library": "var_list.r",
     "varRefreshCmd": "cat(var_dic_list()) "
    }
   },
   "types_to_exclude": [
    "module",
    "function",
    "builtin_function_or_method",
    "instance",
    "_Feature"
   ],
   "window_display": false
  }
 },
 "nbformat": 4,
 "nbformat_minor": 2
}
