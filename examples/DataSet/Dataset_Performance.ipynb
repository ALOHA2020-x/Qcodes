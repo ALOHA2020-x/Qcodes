{
 "cells": [
  {
   "cell_type": "markdown",
   "metadata": {},
   "source": [
    "# DataSet Performance\n",
    "\n",
    "This notebook shows the trade-off between inserting data into a database row-by-row and as binary blobs. Inserting the data row-by-row means that we have direct access to all the data and may perform queries directly on the values of the data. On the other hand, as we shall see, this is much slower than inserting the data directly as binary blobs."
   ]
  },
  {
   "cell_type": "markdown",
   "metadata": {},
   "source": [
    "First, we choose a new location for the database to ensure that we don't add a bunch of benchmarking data to the default one."
   ]
  },
  {
   "cell_type": "code",
   "execution_count": 1,
   "metadata": {
    "execution": {
     "iopub.execute_input": "2021-01-26T08:44:19.131483Z",
     "iopub.status.busy": "2021-01-26T08:44:19.130932Z",
     "iopub.status.idle": "2021-01-26T08:44:20.224130Z",
     "shell.execute_reply": "2021-01-26T08:44:20.223614Z"
    }
   },
   "outputs": [
    {
     "name": "stdout",
     "output_type": "stream",
     "text": [
      "Logging hadn't been started.\n",
      "Activating auto-logging. Current session state plus future input saved.\n",
      "Filename       : /home/vsts/.qcodes/logs/command_history.log\n",
      "Mode           : append\n",
      "Output logging : True\n",
      "Raw input log  : False\n",
      "Timestamping   : True\n",
      "State          : active\n"
     ]
    },
    {
     "name": "stdout",
     "output_type": "stream",
     "text": [
      "Qcodes Logfile : /home/vsts/.qcodes/logs/210126-13399-qcodes.log\n"
     ]
    }
   ],
   "source": [
    "import os\n",
    "cwd = os.getcwd()\n",
    "import qcodes as qc\n",
    "qc.config[\"core\"][\"db_location\"] = os.path.join(cwd, 'testing.db')\n"
   ]
  },
  {
   "cell_type": "code",
   "execution_count": 2,
   "metadata": {
    "execution": {
     "iopub.execute_input": "2021-01-26T08:44:20.231424Z",
     "iopub.status.busy": "2021-01-26T08:44:20.229908Z",
     "iopub.status.idle": "2021-01-26T08:44:20.428979Z",
     "shell.execute_reply": "2021-01-26T08:44:20.428461Z"
    }
   },
   "outputs": [],
   "source": [
    "%matplotlib inline\n",
    "import time\n",
    "import matplotlib.pyplot as plt\n",
    "import numpy as np\n",
    "\n",
    "import qcodes as qc\n",
    "from qcodes.instrument.parameter import ManualParameter\n",
    "from qcodes.dataset.experiment_container import (Experiment,\n",
    "                                                 load_last_experiment,\n",
    "                                                 new_experiment)\n",
    "from qcodes.dataset.sqlite.database import initialise_database\n",
    "from qcodes import load_or_create_experiment\n",
    "from qcodes.dataset.measurements import Measurement"
   ]
  },
  {
   "cell_type": "code",
   "execution_count": 3,
   "metadata": {
    "execution": {
     "iopub.execute_input": "2021-01-26T08:44:20.435260Z",
     "iopub.status.busy": "2021-01-26T08:44:20.434625Z",
     "iopub.status.idle": "2021-01-26T08:44:20.554207Z",
     "shell.execute_reply": "2021-01-26T08:44:20.554660Z"
    }
   },
   "outputs": [
    {
     "name": "stdout",
     "output_type": "stream",
     "text": [
      "\r",
      "0it [00:00, ?it/s]"
     ]
    },
    {
     "name": "stdout",
     "output_type": "stream",
     "text": [
      "\r",
      "Upgrading database; v0 -> v1: : 0it [00:00, ?it/s]"
     ]
    },
    {
     "name": "stdout",
     "output_type": "stream",
     "text": [
      "\r",
      "Upgrading database; v0 -> v1: : 0it [00:00, ?it/s]"
     ]
    },
    {
     "name": "stdout",
     "output_type": "stream",
     "text": [
      "\n",
      "\r",
      "  0%|          | 0/1 [00:00<?, ?it/s]"
     ]
    },
    {
     "name": "stdout",
     "output_type": "stream",
     "text": [
      "\r",
      "Upgrading database; v1 -> v2:   0%|          | 0/1 [00:00<?, ?it/s]"
     ]
    },
    {
     "name": "stdout",
     "output_type": "stream",
     "text": [
      "\r",
      "Upgrading database; v1 -> v2: 100%|██████████| 1/1 [00:00<00:00, 512.81it/s]"
     ]
    },
    {
     "name": "stdout",
     "output_type": "stream",
     "text": [
      "\n",
      "\r",
      "0it [00:00, ?it/s]"
     ]
    },
    {
     "name": "stdout",
     "output_type": "stream",
     "text": [
      "\r",
      "Upgrading database; v2 -> v3: : 0it [00:00, ?it/s]"
     ]
    },
    {
     "name": "stdout",
     "output_type": "stream",
     "text": [
      "\r",
      "Upgrading database; v2 -> v3: : 0it [00:00, ?it/s]"
     ]
    },
    {
     "name": "stdout",
     "output_type": "stream",
     "text": [
      "\n",
      "\r",
      "0it [00:00, ?it/s]"
     ]
    },
    {
     "name": "stdout",
     "output_type": "stream",
     "text": [
      "\r",
      "Upgrading database; v3 -> v4: : 0it [00:00, ?it/s]"
     ]
    },
    {
     "name": "stdout",
     "output_type": "stream",
     "text": [
      "\r",
      "Upgrading database; v3 -> v4: : 0it [00:00, ?it/s]"
     ]
    },
    {
     "name": "stdout",
     "output_type": "stream",
     "text": [
      "\n",
      "\r",
      "  0%|          | 0/1 [00:00<?, ?it/s]"
     ]
    },
    {
     "name": "stdout",
     "output_type": "stream",
     "text": [
      "\r",
      "Upgrading database; v4 -> v5:   0%|          | 0/1 [00:00<?, ?it/s]"
     ]
    },
    {
     "name": "stdout",
     "output_type": "stream",
     "text": [
      "\r",
      "Upgrading database; v4 -> v5: 100%|██████████| 1/1 [00:00<00:00, 140.99it/s]"
     ]
    },
    {
     "name": "stdout",
     "output_type": "stream",
     "text": [
      "\n",
      "\r",
      "0it [00:00, ?it/s]"
     ]
    },
    {
     "name": "stdout",
     "output_type": "stream",
     "text": [
      "\r",
      "Upgrading database; v5 -> v6: : 0it [00:00, ?it/s]"
     ]
    },
    {
     "name": "stdout",
     "output_type": "stream",
     "text": [
      "\r",
      "Upgrading database; v5 -> v6: : 0it [00:00, ?it/s]"
     ]
    },
    {
     "name": "stdout",
     "output_type": "stream",
     "text": [
      "\n",
      "\r",
      "  0%|          | 0/1 [00:00<?, ?it/s]"
     ]
    },
    {
     "name": "stdout",
     "output_type": "stream",
     "text": [
      "\r",
      "Upgrading database; v6 -> v7:   0%|          | 0/1 [00:00<?, ?it/s]"
     ]
    },
    {
     "name": "stdout",
     "output_type": "stream",
     "text": [
      "\r",
      "Upgrading database; v6 -> v7: 100%|██████████| 1/1 [00:00<00:00, 264.69it/s]"
     ]
    },
    {
     "name": "stdout",
     "output_type": "stream",
     "text": [
      "\n",
      "\r",
      "  0%|          | 0/1 [00:00<?, ?it/s]"
     ]
    },
    {
     "name": "stdout",
     "output_type": "stream",
     "text": [
      "\r",
      "Upgrading database; v7 -> v8:   0%|          | 0/1 [00:00<?, ?it/s]"
     ]
    },
    {
     "name": "stdout",
     "output_type": "stream",
     "text": [
      "\r",
      "Upgrading database; v7 -> v8: 100%|██████████| 1/1 [00:00<00:00, 989.69it/s]"
     ]
    },
    {
     "name": "stdout",
     "output_type": "stream",
     "text": [
      "\n",
      "\r",
      "  0%|          | 0/1 [00:00<?, ?it/s]"
     ]
    },
    {
     "name": "stdout",
     "output_type": "stream",
     "text": [
      "\r",
      "Upgrading database; v8 -> v9:   0%|          | 0/1 [00:00<?, ?it/s]"
     ]
    },
    {
     "name": "stdout",
     "output_type": "stream",
     "text": [
      "\r",
      "Upgrading database; v8 -> v9: 100%|██████████| 1/1 [00:00<00:00, 868.03it/s]"
     ]
    },
    {
     "name": "stdout",
     "output_type": "stream",
     "text": [
      "\n"
     ]
    }
   ],
   "source": [
    "initialise_database()\n",
    "exp = load_or_create_experiment(experiment_name='tutorial_exp', sample_name=\"no sample\")"
   ]
  },
  {
   "cell_type": "markdown",
   "metadata": {},
   "source": [
    "Here, we define a simple function to benchmark the time it takes to insert n points with either numeric or array data type.\n",
    "We will compare both the time used to call ``add_result`` and the time used for the full measurement."
   ]
  },
  {
   "cell_type": "code",
   "execution_count": 4,
   "metadata": {
    "execution": {
     "iopub.execute_input": "2021-01-26T08:44:20.562479Z",
     "iopub.status.busy": "2021-01-26T08:44:20.561185Z",
     "iopub.status.idle": "2021-01-26T08:44:20.564541Z",
     "shell.execute_reply": "2021-01-26T08:44:20.565084Z"
    }
   },
   "outputs": [],
   "source": [
    "def insert_data(paramtype, npoints, nreps=1):\n",
    "\n",
    "    meas = Measurement(exp=exp)\n",
    "\n",
    "    x1 = ManualParameter('x1')\n",
    "    x2 = ManualParameter('x2')\n",
    "    x3 = ManualParameter('x3')\n",
    "    y1 = ManualParameter('y1')\n",
    "    y2 = ManualParameter('y2')\n",
    "\n",
    "    meas.register_parameter(x1, paramtype=paramtype)\n",
    "    meas.register_parameter(x2, paramtype=paramtype)\n",
    "    meas.register_parameter(x3, paramtype=paramtype)\n",
    "    meas.register_parameter(y1, setpoints=[x1, x2, x3],\n",
    "                            paramtype=paramtype)\n",
    "    meas.register_parameter(y2, setpoints=[x1, x2, x3],\n",
    "                            paramtype=paramtype)\n",
    "    start = time.perf_counter()\n",
    "    with meas.run() as datasaver:\n",
    "        start_adding = time.perf_counter()\n",
    "        for i in range(nreps):\n",
    "            datasaver.add_result((x1, np.random.rand(npoints)),\n",
    "                                 (x2, np.random.rand(npoints)),\n",
    "                                 (x3, np.random.rand(npoints)),\n",
    "                                 (y1, np.random.rand(npoints)),\n",
    "                                 (y2, np.random.rand(npoints)))\n",
    "        stop_adding = time.perf_counter()\n",
    "        run_id = datasaver.run_id\n",
    "    stop = time.perf_counter()\n",
    "    tot_time = stop - start\n",
    "    add_time = stop_adding - start_adding\n",
    "    return tot_time, add_time, run_id"
   ]
  },
  {
   "cell_type": "markdown",
   "metadata": {},
   "source": [
    "## Comparison between numeric/array data and binary blob"
   ]
  },
  {
   "cell_type": "markdown",
   "metadata": {},
   "source": [
    "### Case1: Short experiment time"
   ]
  },
  {
   "cell_type": "code",
   "execution_count": 5,
   "metadata": {
    "execution": {
     "iopub.execute_input": "2021-01-26T08:44:20.571227Z",
     "iopub.status.busy": "2021-01-26T08:44:20.569954Z",
     "iopub.status.idle": "2021-01-26T08:44:21.458514Z",
     "shell.execute_reply": "2021-01-26T08:44:21.459126Z"
    }
   },
   "outputs": [
    {
     "name": "stdout",
     "output_type": "stream",
     "text": [
      "Starting experimental run with id: 1. \n",
      "Starting experimental run with id: 2. \n",
      "Starting experimental run with id: 3. \n",
      "Starting experimental run with id: 4. \n"
     ]
    },
    {
     "name": "stdout",
     "output_type": "stream",
     "text": [
      "Starting experimental run with id: 5. \n"
     ]
    },
    {
     "name": "stdout",
     "output_type": "stream",
     "text": [
      "Starting experimental run with id: 6. \n",
      "Starting experimental run with id: 7. \n"
     ]
    },
    {
     "name": "stdout",
     "output_type": "stream",
     "text": [
      "Starting experimental run with id: 8. \n",
      "Starting experimental run with id: 9. \n"
     ]
    },
    {
     "name": "stdout",
     "output_type": "stream",
     "text": [
      "Starting experimental run with id: 10. \n",
      "Starting experimental run with id: 11. \n"
     ]
    },
    {
     "name": "stdout",
     "output_type": "stream",
     "text": [
      "Starting experimental run with id: 12. \n"
     ]
    },
    {
     "name": "stdout",
     "output_type": "stream",
     "text": [
      "Starting experimental run with id: 13. \n"
     ]
    },
    {
     "name": "stdout",
     "output_type": "stream",
     "text": [
      "Starting experimental run with id: 14. \n"
     ]
    }
   ],
   "source": [
    "sizes = [1,500,1000,2000,3000,4000,5000]\n",
    "t_numeric = []\n",
    "t_numeric_add = []\n",
    "t_array = []\n",
    "t_array_add = []\n",
    "for size in sizes:\n",
    "    tn, tna, run_id_n =  insert_data('numeric', size)\n",
    "    t_numeric.append(tn)\n",
    "    t_numeric_add.append(tna)\n",
    "\n",
    "    ta, taa, run_id_a =  insert_data('array', size)\n",
    "    t_array.append(ta)\n",
    "    t_array_add.append(taa)"
   ]
  },
  {
   "cell_type": "code",
   "execution_count": 6,
   "metadata": {
    "execution": {
     "iopub.execute_input": "2021-01-26T08:44:21.478670Z",
     "iopub.status.busy": "2021-01-26T08:44:21.477982Z",
     "iopub.status.idle": "2021-01-26T08:44:21.698647Z",
     "shell.execute_reply": "2021-01-26T08:44:21.697575Z"
    }
   },
   "outputs": [
    {
     "data": {
      "image/png": "[encoded data removed]",
      "text/plain": [
       "<Figure size 432x288 with 1 Axes>"
      ]
     },
     "metadata": {
      "needs_background": "light"
     },
     "output_type": "display_data"
    }
   ],
   "source": [
    "fig, ax = plt.subplots(1,1)\n",
    "ax.plot(sizes, t_numeric, 'o-', label='Inserting row-by-row')\n",
    "ax.plot(sizes, t_numeric_add, 'o-', label='Inserting row-by-row: add_result only')\n",
    "ax.plot(sizes, t_array, 'd-', label='Inserting as binary blob')\n",
    "ax.plot(sizes, t_array_add, 'd-', label='Inserting as binary blob: add_result only')\n",
    "ax.legend()\n",
    "ax.set_xlabel('Array length')\n",
    "ax.set_ylabel('Time (s)')\n",
    "fig.tight_layout()"
   ]
  },
  {
   "cell_type": "markdown",
   "metadata": {},
   "source": [
    "As shown in the latter figure, the time to setup and and close the experiment is approximately 0.4 sec. In case of small array sizes, the difference between inserting values of data as arrays and inserting them row-by-row is relatively unimportant. At larger array sizes, i.e. above 10000 points, the cost of writing data as individual datapoints starts to become important.\n"
   ]
  },
  {
   "cell_type": "markdown",
   "metadata": {},
   "source": [
    "### Case2: Long experiment time "
   ]
  },
  {
   "cell_type": "code",
   "execution_count": 7,
   "metadata": {
    "execution": {
     "iopub.execute_input": "2021-01-26T08:44:21.705917Z",
     "iopub.status.busy": "2021-01-26T08:44:21.704675Z",
     "iopub.status.idle": "2021-01-26T08:45:20.078526Z",
     "shell.execute_reply": "2021-01-26T08:45:20.079040Z"
    }
   },
   "outputs": [
    {
     "name": "stdout",
     "output_type": "stream",
     "text": [
      "Starting experimental run with id: 15. \n",
      "Starting experimental run with id: 16. \n",
      "Starting experimental run with id: 17. \n"
     ]
    },
    {
     "name": "stdout",
     "output_type": "stream",
     "text": [
      "Starting experimental run with id: 18. \n",
      "Starting experimental run with id: 19. \n"
     ]
    },
    {
     "name": "stdout",
     "output_type": "stream",
     "text": [
      "Starting experimental run with id: 20. \n"
     ]
    },
    {
     "name": "stdout",
     "output_type": "stream",
     "text": [
      "Starting experimental run with id: 21. \n"
     ]
    },
    {
     "name": "stdout",
     "output_type": "stream",
     "text": [
      "Starting experimental run with id: 22. \n"
     ]
    },
    {
     "name": "stdout",
     "output_type": "stream",
     "text": [
      "Starting experimental run with id: 23. \n"
     ]
    },
    {
     "name": "stdout",
     "output_type": "stream",
     "text": [
      "Starting experimental run with id: 24. \n"
     ]
    },
    {
     "name": "stdout",
     "output_type": "stream",
     "text": [
      "Starting experimental run with id: 25. \n"
     ]
    },
    {
     "name": "stdout",
     "output_type": "stream",
     "text": [
      "Starting experimental run with id: 26. \n"
     ]
    },
    {
     "name": "stdout",
     "output_type": "stream",
     "text": [
      "Starting experimental run with id: 27. \n"
     ]
    },
    {
     "name": "stdout",
     "output_type": "stream",
     "text": [
      "Starting experimental run with id: 28. \n"
     ]
    }
   ],
   "source": [
    "sizes = [1,500,1000,2000,3000,4000,5000]\n",
    "nreps = 100\n",
    "t_numeric = []\n",
    "t_numeric_add = []\n",
    "t_numeric_run_ids = []\n",
    "t_array = []\n",
    "t_array_add = []\n",
    "t_array_run_ids = []\n",
    "for size in sizes:\n",
    "    tn, tna, run_id_n =  insert_data('numeric', size, nreps=nreps)\n",
    "    t_numeric.append(tn)\n",
    "    t_numeric_add.append(tna)\n",
    "    t_numeric_run_ids.append(run_id_n)\n",
    "\n",
    "    ta, taa, run_id_a =  insert_data('array', size, nreps=nreps)\n",
    "    t_array.append(ta)\n",
    "    t_array_add.append(taa)\n",
    "    t_array_run_ids.append(run_id_a)"
   ]
  },
  {
   "cell_type": "code",
   "execution_count": 8,
   "metadata": {
    "execution": {
     "iopub.execute_input": "2021-01-26T08:45:20.101625Z",
     "iopub.status.busy": "2021-01-26T08:45:20.099299Z",
     "iopub.status.idle": "2021-01-26T08:45:20.328874Z",
     "shell.execute_reply": "2021-01-26T08:45:20.328301Z"
    },
    "scrolled": true
   },
   "outputs": [
    {
     "data": {
      "image/png": "[encoded data removed]",
      "text/plain": [
       "<Figure size 432x288 with 1 Axes>"
      ]
     },
     "metadata": {
      "needs_background": "light"
     },
     "output_type": "display_data"
    }
   ],
   "source": [
    "fig, ax = plt.subplots(1,1)\n",
    "ax.plot(sizes, t_numeric, 'o-', label='Inserting row-by-row')\n",
    "ax.plot(sizes, t_numeric_add, 'o-', label='Inserting row-by-row: add_result only')\n",
    "ax.plot(sizes, t_array, 'd-', label='Inserting as binary blob')\n",
    "ax.plot(sizes, t_array_add, 'd-', label='Inserting as binary blob: add_result only')\n",
    "ax.legend()\n",
    "ax.set_xlabel('Array length')\n",
    "ax.set_ylabel('Time (s)')\n",
    "fig.tight_layout()"
   ]
  },
  {
   "cell_type": "markdown",
   "metadata": {},
   "source": [
    "However, as we increase the length of the experiment, as seen here by repeating the insertion 100 times, we see a big difference between inserting values of the data row-by-row and inserting it as a binary blob."
   ]
  },
  {
   "cell_type": "markdown",
   "metadata": {},
   "source": [
    "## Loading the data "
   ]
  },
  {
   "cell_type": "code",
   "execution_count": 9,
   "metadata": {
    "execution": {
     "iopub.execute_input": "2021-01-26T08:45:20.333144Z",
     "iopub.status.busy": "2021-01-26T08:45:20.332178Z",
     "iopub.status.idle": "2021-01-26T08:45:20.335993Z",
     "shell.execute_reply": "2021-01-26T08:45:20.335442Z"
    }
   },
   "outputs": [],
   "source": [
    "from qcodes.dataset.data_set import load_by_id\n",
    "from qcodes.dataset.data_export import get_data_by_id"
   ]
  },
  {
   "cell_type": "markdown",
   "metadata": {},
   "source": [
    "As usual you can load the data by using the ``load_by_id`` function but you will notice that the different storage methods\n",
    "are reflected in shape of the data as it is retrieved. "
   ]
  },
  {
   "cell_type": "code",
   "execution_count": 10,
   "metadata": {
    "execution": {
     "iopub.execute_input": "2021-01-26T08:45:20.341644Z",
     "iopub.status.busy": "2021-01-26T08:45:20.340301Z",
     "iopub.status.idle": "2021-01-26T08:45:20.342191Z",
     "shell.execute_reply": "2021-01-26T08:45:20.342775Z"
    }
   },
   "outputs": [],
   "source": [
    "run_id_n = t_numeric_run_ids[0]\n",
    "run_id_a = t_array_run_ids[0]"
   ]
  },
  {
   "cell_type": "code",
   "execution_count": 11,
   "metadata": {
    "execution": {
     "iopub.execute_input": "2021-01-26T08:45:20.346187Z",
     "iopub.status.busy": "2021-01-26T08:45:20.345564Z",
     "iopub.status.idle": "2021-01-26T08:45:20.355474Z",
     "shell.execute_reply": "2021-01-26T08:45:20.355052Z"
    },
    "scrolled": true
   },
   "outputs": [
    {
     "data": {
      "text/plain": [
       "{'x1': {'x1': array([0.30855893, 0.30855893, 0.27452647, 0.27452647, 0.12265935,\n",
       "         0.12265935, 0.65377142, 0.65377142, 0.92097611, 0.92097611,\n",
       "         0.32873787, 0.32873787, 0.11958173, 0.11958173, 0.13928054,\n",
       "         0.13928054, 0.02557005, 0.02557005, 0.80163864, 0.80163864,\n",
       "         0.2716979 , 0.2716979 , 0.42438989, 0.42438989, 0.16736251,\n",
       "         0.16736251, 0.04870207, 0.04870207, 0.77649012, 0.77649012,\n",
       "         0.8516196 , 0.8516196 , 0.03826776, 0.03826776, 0.86058349,\n",
       "         0.86058349, 0.50183645, 0.50183645, 0.29996668, 0.29996668,\n",
       "         0.764865  , 0.764865  , 0.49298234, 0.49298234, 0.79165601,\n",
       "         0.79165601, 0.2883562 , 0.2883562 , 0.34634068, 0.34634068,\n",
       "         0.76347392, 0.76347392, 0.5540832 , 0.5540832 , 0.79179818,\n",
       "         0.79179818, 0.79776078, 0.79776078, 0.7424537 , 0.7424537 ,\n",
       "         0.60949418, 0.60949418, 0.17003382, 0.17003382, 0.65000744,\n",
       "         0.65000744, 0.39829496, 0.39829496, 0.24766999, 0.24766999,\n",
       "         0.74022529, 0.74022529, 0.88587347, 0.88587347, 0.84144336,\n",
       "         0.84144336, 0.03198667, 0.03198667, 0.50168732, 0.50168732,\n",
       "         0.69520785, 0.69520785, 0.36804931, 0.36804931, 0.52332392,\n",
       "         0.52332392, 0.55088857, 0.55088857, 0.09395879, 0.09395879,\n",
       "         0.24967558, 0.24967558, 0.14530213, 0.14530213, 0.35786028,\n",
       "         0.35786028, 0.13251855, 0.13251855, 0.06410753, 0.06410753,\n",
       "         0.89619447, 0.89619447, 0.86441052, 0.86441052, 0.21170514,\n",
       "         0.21170514, 0.41535871, 0.41535871, 0.51639864, 0.51639864,\n",
       "         0.47668199, 0.47668199, 0.38893334, 0.38893334, 0.64726114,\n",
       "         0.64726114, 0.67006705, 0.67006705, 0.87373454, 0.87373454,\n",
       "         0.92637912, 0.92637912, 0.13221863, 0.13221863, 0.32035046,\n",
       "         0.32035046, 0.80314186, 0.80314186, 0.65849972, 0.65849972,\n",
       "         0.93945565, 0.93945565, 0.39774223, 0.39774223, 0.00221648,\n",
       "         0.00221648, 0.88859009, 0.88859009, 0.96887159, 0.96887159,\n",
       "         0.25665006, 0.25665006, 0.76323129, 0.76323129, 0.82910989,\n",
       "         0.82910989, 0.37232425, 0.37232425, 0.93935427, 0.93935427,\n",
       "         0.5281507 , 0.5281507 , 0.02177682, 0.02177682, 0.32621722,\n",
       "         0.32621722, 0.25047359, 0.25047359, 0.4023113 , 0.4023113 ,\n",
       "         0.06405541, 0.06405541, 0.5620366 , 0.5620366 , 0.00732038,\n",
       "         0.00732038, 0.96287358, 0.96287358, 0.22491889, 0.22491889,\n",
       "         0.72311561, 0.72311561, 0.52455474, 0.52455474, 0.43267734,\n",
       "         0.43267734, 0.80628375, 0.80628375, 0.75245816, 0.75245816,\n",
       "         0.31826878, 0.31826878, 0.87994903, 0.87994903, 0.45410105,\n",
       "         0.45410105, 0.68396108, 0.68396108, 0.28560332, 0.28560332,\n",
       "         0.25435471, 0.25435471, 0.57863327, 0.57863327, 0.75609948,\n",
       "         0.75609948, 0.39797171, 0.39797171, 0.43462811, 0.43462811])}}"
      ]
     },
     "execution_count": 1,
     "metadata": {},
     "output_type": "execute_result"
    }
   ],
   "source": [
    "ds = load_by_id(run_id_n)\n",
    "ds.get_parameter_data('x1')"
   ]
  },
  {
   "cell_type": "markdown",
   "metadata": {},
   "source": [
    "And a dataset stored as binary arrays"
   ]
  },
  {
   "cell_type": "code",
   "execution_count": 12,
   "metadata": {
    "execution": {
     "iopub.execute_input": "2021-01-26T08:45:20.358963Z",
     "iopub.status.busy": "2021-01-26T08:45:20.358477Z",
     "iopub.status.idle": "2021-01-26T08:45:20.430392Z",
     "shell.execute_reply": "2021-01-26T08:45:20.429833Z"
    },
    "scrolled": true
   },
   "outputs": [
    {
     "data": {
      "text/plain": [
       "{'x1': {'x1': array([[0.46654422],\n",
       "         [0.46654422],\n",
       "         [0.22656082],\n",
       "         [0.22656082],\n",
       "         [0.27234054],\n",
       "         [0.27234054],\n",
       "         [0.25502352],\n",
       "         [0.25502352],\n",
       "         [0.30717352],\n",
       "         [0.30717352],\n",
       "         [0.59715117],\n",
       "         [0.59715117],\n",
       "         [0.4423648 ],\n",
       "         [0.4423648 ],\n",
       "         [0.75659122],\n",
       "         [0.75659122],\n",
       "         [0.32067341],\n",
       "         [0.32067341],\n",
       "         [0.93402991],\n",
       "         [0.93402991],\n",
       "         [0.44068302],\n",
       "         [0.44068302],\n",
       "         [0.64413527],\n",
       "         [0.64413527],\n",
       "         [0.68466699],\n",
       "         [0.68466699],\n",
       "         [0.32820886],\n",
       "         [0.32820886],\n",
       "         [0.00345485],\n",
       "         [0.00345485],\n",
       "         [0.5567922 ],\n",
       "         [0.5567922 ],\n",
       "         [0.65432337],\n",
       "         [0.65432337],\n",
       "         [0.71062791],\n",
       "         [0.71062791],\n",
       "         [0.23977206],\n",
       "         [0.23977206],\n",
       "         [0.83707607],\n",
       "         [0.83707607],\n",
       "         [0.10924969],\n",
       "         [0.10924969],\n",
       "         [0.70166019],\n",
       "         [0.70166019],\n",
       "         [0.81785269],\n",
       "         [0.81785269],\n",
       "         [0.83182163],\n",
       "         [0.83182163],\n",
       "         [0.21560297],\n",
       "         [0.21560297],\n",
       "         [0.66965345],\n",
       "         [0.66965345],\n",
       "         [0.9849349 ],\n",
       "         [0.9849349 ],\n",
       "         [0.97910457],\n",
       "         [0.97910457],\n",
       "         [0.94616245],\n",
       "         [0.94616245],\n",
       "         [0.89721845],\n",
       "         [0.89721845],\n",
       "         [0.56787632],\n",
       "         [0.56787632],\n",
       "         [0.67845971],\n",
       "         [0.67845971],\n",
       "         [0.33371379],\n",
       "         [0.33371379],\n",
       "         [0.27384295],\n",
       "         [0.27384295],\n",
       "         [0.71177745],\n",
       "         [0.71177745],\n",
       "         [0.65725665],\n",
       "         [0.65725665],\n",
       "         [0.39001807],\n",
       "         [0.39001807],\n",
       "         [0.55761342],\n",
       "         [0.55761342],\n",
       "         [0.48824993],\n",
       "         [0.48824993],\n",
       "         [0.36672927],\n",
       "         [0.36672927],\n",
       "         [0.63810999],\n",
       "         [0.63810999],\n",
       "         [0.19562935],\n",
       "         [0.19562935],\n",
       "         [0.7470006 ],\n",
       "         [0.7470006 ],\n",
       "         [0.99595157],\n",
       "         [0.99595157],\n",
       "         [0.26591027],\n",
       "         [0.26591027],\n",
       "         [0.18629757],\n",
       "         [0.18629757],\n",
       "         [0.49571697],\n",
       "         [0.49571697],\n",
       "         [0.91500043],\n",
       "         [0.91500043],\n",
       "         [0.24423163],\n",
       "         [0.24423163],\n",
       "         [0.97519251],\n",
       "         [0.97519251],\n",
       "         [0.9191014 ],\n",
       "         [0.9191014 ],\n",
       "         [0.70225918],\n",
       "         [0.70225918],\n",
       "         [0.88826137],\n",
       "         [0.88826137],\n",
       "         [0.80483697],\n",
       "         [0.80483697],\n",
       "         [0.087679  ],\n",
       "         [0.087679  ],\n",
       "         [0.06257984],\n",
       "         [0.06257984],\n",
       "         [0.66879943],\n",
       "         [0.66879943],\n",
       "         [0.78348702],\n",
       "         [0.78348702],\n",
       "         [0.9716465 ],\n",
       "         [0.9716465 ],\n",
       "         [0.07307841],\n",
       "         [0.07307841],\n",
       "         [0.6107857 ],\n",
       "         [0.6107857 ],\n",
       "         [0.13020126],\n",
       "         [0.13020126],\n",
       "         [0.60976232],\n",
       "         [0.60976232],\n",
       "         [0.79938543],\n",
       "         [0.79938543],\n",
       "         [0.45655806],\n",
       "         [0.45655806],\n",
       "         [0.23076751],\n",
       "         [0.23076751],\n",
       "         [0.28312979],\n",
       "         [0.28312979],\n",
       "         [0.23479924],\n",
       "         [0.23479924],\n",
       "         [0.86010492],\n",
       "         [0.86010492],\n",
       "         [0.51360655],\n",
       "         [0.51360655],\n",
       "         [0.64103006],\n",
       "         [0.64103006],\n",
       "         [0.36351031],\n",
       "         [0.36351031],\n",
       "         [0.47041476],\n",
       "         [0.47041476],\n",
       "         [0.36521471],\n",
       "         [0.36521471],\n",
       "         [0.49324925],\n",
       "         [0.49324925],\n",
       "         [0.10172685],\n",
       "         [0.10172685],\n",
       "         [0.7009209 ],\n",
       "         [0.7009209 ],\n",
       "         [0.59735601],\n",
       "         [0.59735601],\n",
       "         [0.69834168],\n",
       "         [0.69834168],\n",
       "         [0.93730454],\n",
       "         [0.93730454],\n",
       "         [0.12736095],\n",
       "         [0.12736095],\n",
       "         [0.05295683],\n",
       "         [0.05295683],\n",
       "         [0.84319953],\n",
       "         [0.84319953],\n",
       "         [0.56753137],\n",
       "         [0.56753137],\n",
       "         [0.46386902],\n",
       "         [0.46386902],\n",
       "         [0.1306127 ],\n",
       "         [0.1306127 ],\n",
       "         [0.57648174],\n",
       "         [0.57648174],\n",
       "         [0.7146352 ],\n",
       "         [0.7146352 ],\n",
       "         [0.69815618],\n",
       "         [0.69815618],\n",
       "         [0.21180107],\n",
       "         [0.21180107],\n",
       "         [0.35103576],\n",
       "         [0.35103576],\n",
       "         [0.66538405],\n",
       "         [0.66538405],\n",
       "         [0.78768066],\n",
       "         [0.78768066],\n",
       "         [0.3525864 ],\n",
       "         [0.3525864 ],\n",
       "         [0.48426397],\n",
       "         [0.48426397],\n",
       "         [0.38954721],\n",
       "         [0.38954721],\n",
       "         [0.37947335],\n",
       "         [0.37947335],\n",
       "         [0.17608587],\n",
       "         [0.17608587],\n",
       "         [0.78304012],\n",
       "         [0.78304012],\n",
       "         [0.62662988],\n",
       "         [0.62662988]])}}"
      ]
     },
     "execution_count": 1,
     "metadata": {},
     "output_type": "execute_result"
    }
   ],
   "source": [
    "ds = load_by_id(run_id_a)\n",
    "ds.get_parameter_data('x1')"
   ]
  },
  {
   "cell_type": "code",
   "execution_count": null,
   "metadata": {},
   "outputs": [],
   "source": []
  }
 ],
 "metadata": {
  "kernelspec": {
   "display_name": "Python 3",
   "language": "python",
   "name": "python3"
  },
  "language_info": {
   "codemirror_mode": {
    "name": "ipython",
    "version": 3
   },
   "file_extension": ".py",
   "mimetype": "text/x-python",
   "name": "python",
   "nbconvert_exporter": "python",
   "pygments_lexer": "ipython3",
   "version": "3.7.9"
  },
  "nbsphinx": {
   "timeout": 600
  },
  "toc": {
   "base_numbering": 1,
   "nav_menu": {},
   "number_sections": true,
   "sideBar": true,
   "skip_h1_title": false,
   "title_cell": "Table of Contents",
   "title_sidebar": "Contents",
   "toc_cell": false,
   "toc_position": {},
   "toc_section_display": true,
   "toc_window_display": false
  },
  "varInspector": {
   "cols": {
    "lenName": 16,
    "lenType": 16,
    "lenVar": 40
   },
   "kernels_config": {
    "python": {
     "delete_cmd_postfix": "",
     "delete_cmd_prefix": "del ",
     "library": "var_list.py",
     "varRefreshCmd": "print(var_dic_list())"
    },
    "r": {
     "delete_cmd_postfix": ") ",
     "delete_cmd_prefix": "rm(",
     "library": "var_list.r",
     "varRefreshCmd": "cat(var_dic_list()) "
    }
   },
   "types_to_exclude": [
    "module",
    "function",
    "builtin_function_or_method",
    "instance",
    "_Feature"
   ],
   "window_display": false
  }
 },
 "nbformat": 4,
 "nbformat_minor": 2
}
