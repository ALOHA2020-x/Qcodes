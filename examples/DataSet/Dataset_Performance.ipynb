{
 "cells": [
  {
   "cell_type": "markdown",
   "metadata": {},
   "source": [
    "# DataSet Performance\n",
    "\n",
    "This notebook shows the trade-off between inserting data into a database row-by-row and as binary blobs. Inserting the data row-by-row means that we have direct access to all the data and may perform queries directly on the values of the data. On the other hand, as we shall see, this is much slower than inserting the data directly as binary blobs."
   ]
  },
  {
   "cell_type": "markdown",
   "metadata": {},
   "source": [
    "First, we choose a new location for the database to ensure that we don't add a bunch of benchmarking data to the default one."
   ]
  },
  {
   "cell_type": "code",
   "execution_count": 1,
   "metadata": {
    "execution": {
     "iopub.execute_input": "2020-09-29T06:48:13.822636Z",
     "iopub.status.busy": "2020-09-29T06:48:13.821922Z",
     "iopub.status.idle": "2020-09-29T06:48:14.947193Z",
     "shell.execute_reply": "2020-09-29T06:48:14.946295Z"
    }
   },
   "outputs": [
    {
     "name": "stdout",
     "output_type": "stream",
     "text": [
      "Logging hadn't been started.\n",
      "Activating auto-logging. Current session state plus future input saved.\n",
      "Filename       : /home/vsts/.qcodes/logs/command_history.log\n",
      "Mode           : append\n",
      "Output logging : True\n",
      "Raw input log  : False\n",
      "Timestamping   : True\n",
      "State          : active\n"
     ]
    },
    {
     "name": "stdout",
     "output_type": "stream",
     "text": [
      "Qcodes Logfile : /home/vsts/.qcodes/logs/200929-18890-qcodes.log\n"
     ]
    }
   ],
   "source": [
    "import os\n",
    "cwd = os.getcwd()\n",
    "import qcodes as qc\n",
    "qc.config[\"core\"][\"db_location\"] = os.path.join(cwd, 'testing.db')\n"
   ]
  },
  {
   "cell_type": "code",
   "execution_count": 2,
   "metadata": {
    "execution": {
     "iopub.execute_input": "2020-09-29T06:48:14.953198Z",
     "iopub.status.busy": "2020-09-29T06:48:14.952017Z",
     "iopub.status.idle": "2020-09-29T06:48:15.153694Z",
     "shell.execute_reply": "2020-09-29T06:48:15.153133Z"
    }
   },
   "outputs": [],
   "source": [
    "%matplotlib inline\n",
    "import time\n",
    "import matplotlib.pyplot as plt\n",
    "import numpy as np\n",
    "\n",
    "import qcodes as qc\n",
    "from qcodes.instrument.parameter import ManualParameter\n",
    "from qcodes.dataset.experiment_container import (Experiment,\n",
    "                                                 load_last_experiment,\n",
    "                                                 new_experiment)\n",
    "from qcodes.dataset.sqlite.database import initialise_database\n",
    "from qcodes import load_or_create_experiment\n",
    "from qcodes.dataset.measurements import Measurement"
   ]
  },
  {
   "cell_type": "code",
   "execution_count": 3,
   "metadata": {
    "execution": {
     "iopub.execute_input": "2020-09-29T06:48:15.158073Z",
     "iopub.status.busy": "2020-09-29T06:48:15.157101Z",
     "iopub.status.idle": "2020-09-29T06:48:15.284541Z",
     "shell.execute_reply": "2020-09-29T06:48:15.283667Z"
    }
   },
   "outputs": [
    {
     "name": "stdout",
     "output_type": "stream",
     "text": [
      "\r",
      "0it [00:00, ?it/s]"
     ]
    },
    {
     "name": "stdout",
     "output_type": "stream",
     "text": [
      "\r",
      "Upgrading database; v0 -> v1: : 0it [00:00, ?it/s]"
     ]
    },
    {
     "name": "stdout",
     "output_type": "stream",
     "text": [
      "\r",
      "Upgrading database; v0 -> v1: : 0it [00:00, ?it/s]"
     ]
    },
    {
     "name": "stdout",
     "output_type": "stream",
     "text": [
      "\n",
      "\r",
      "  0%|          | 0/1 [00:00<?, ?it/s]"
     ]
    },
    {
     "name": "stdout",
     "output_type": "stream",
     "text": [
      "\r",
      "Upgrading database; v1 -> v2:   0%|          | 0/1 [00:00<?, ?it/s]"
     ]
    },
    {
     "name": "stdout",
     "output_type": "stream",
     "text": [
      "\r",
      "Upgrading database; v1 -> v2: 100%|██████████| 1/1 [00:00<00:00, 359.19it/s]"
     ]
    },
    {
     "name": "stdout",
     "output_type": "stream",
     "text": [
      "\n",
      "\r",
      "0it [00:00, ?it/s]"
     ]
    },
    {
     "name": "stdout",
     "output_type": "stream",
     "text": [
      "\r",
      "Upgrading database; v2 -> v3: : 0it [00:00, ?it/s]"
     ]
    },
    {
     "name": "stdout",
     "output_type": "stream",
     "text": [
      "\r",
      "Upgrading database; v2 -> v3: : 0it [00:00, ?it/s]"
     ]
    },
    {
     "name": "stdout",
     "output_type": "stream",
     "text": [
      "\n",
      "\r",
      "0it [00:00, ?it/s]"
     ]
    },
    {
     "name": "stdout",
     "output_type": "stream",
     "text": [
      "\r",
      "Upgrading database; v3 -> v4: : 0it [00:00, ?it/s]"
     ]
    },
    {
     "name": "stdout",
     "output_type": "stream",
     "text": [
      "\r",
      "Upgrading database; v3 -> v4: : 0it [00:00, ?it/s]"
     ]
    },
    {
     "name": "stdout",
     "output_type": "stream",
     "text": [
      "\n",
      "\r",
      "  0%|          | 0/1 [00:00<?, ?it/s]"
     ]
    },
    {
     "name": "stdout",
     "output_type": "stream",
     "text": [
      "\r",
      "Upgrading database; v4 -> v5:   0%|          | 0/1 [00:00<?, ?it/s]"
     ]
    },
    {
     "name": "stdout",
     "output_type": "stream",
     "text": [
      "\r",
      "Upgrading database; v4 -> v5: 100%|██████████| 1/1 [00:00<00:00, 476.57it/s]"
     ]
    },
    {
     "name": "stdout",
     "output_type": "stream",
     "text": [
      "\n",
      "\r",
      "0it [00:00, ?it/s]"
     ]
    },
    {
     "name": "stdout",
     "output_type": "stream",
     "text": [
      "\r",
      "Upgrading database; v5 -> v6: : 0it [00:00, ?it/s]"
     ]
    },
    {
     "name": "stdout",
     "output_type": "stream",
     "text": [
      "\r",
      "Upgrading database; v5 -> v6: : 0it [00:00, ?it/s]"
     ]
    },
    {
     "name": "stdout",
     "output_type": "stream",
     "text": [
      "\n",
      "\r",
      "  0%|          | 0/1 [00:00<?, ?it/s]"
     ]
    },
    {
     "name": "stdout",
     "output_type": "stream",
     "text": [
      "\r",
      "Upgrading database; v6 -> v7:   0%|          | 0/1 [00:00<?, ?it/s]"
     ]
    },
    {
     "name": "stdout",
     "output_type": "stream",
     "text": [
      "\r",
      "Upgrading database; v6 -> v7: 100%|██████████| 1/1 [00:00<00:00, 294.63it/s]"
     ]
    },
    {
     "name": "stdout",
     "output_type": "stream",
     "text": [
      "\n",
      "\r",
      "  0%|          | 0/1 [00:00<?, ?it/s]"
     ]
    },
    {
     "name": "stdout",
     "output_type": "stream",
     "text": [
      "\r",
      "Upgrading database; v7 -> v8:   0%|          | 0/1 [00:00<?, ?it/s]"
     ]
    },
    {
     "name": "stdout",
     "output_type": "stream",
     "text": [
      "\r",
      "Upgrading database; v7 -> v8: 100%|██████████| 1/1 [00:00<00:00, 361.27it/s]"
     ]
    },
    {
     "name": "stdout",
     "output_type": "stream",
     "text": [
      "\n",
      "\r",
      "  0%|          | 0/1 [00:00<?, ?it/s]"
     ]
    },
    {
     "name": "stdout",
     "output_type": "stream",
     "text": [
      "\r",
      "Upgrading database; v8 -> v9:   0%|          | 0/1 [00:00<?, ?it/s]"
     ]
    },
    {
     "name": "stdout",
     "output_type": "stream",
     "text": [
      "\r",
      "Upgrading database; v8 -> v9: 100%|██████████| 1/1 [00:00<00:00, 450.85it/s]"
     ]
    },
    {
     "name": "stdout",
     "output_type": "stream",
     "text": [
      "\n"
     ]
    }
   ],
   "source": [
    "initialise_database()\n",
    "exp = load_or_create_experiment(experiment_name='tutorial_exp', sample_name=\"no sample\")"
   ]
  },
  {
   "cell_type": "markdown",
   "metadata": {},
   "source": [
    "Here, we define a simple function to benchmark the time it takes to insert n points with either numeric or array data type.\n",
    "We will compare both the time used to call ``add_result`` and the time used for the full measurement."
   ]
  },
  {
   "cell_type": "code",
   "execution_count": 4,
   "metadata": {
    "execution": {
     "iopub.execute_input": "2020-09-29T06:48:15.293480Z",
     "iopub.status.busy": "2020-09-29T06:48:15.292049Z",
     "iopub.status.idle": "2020-09-29T06:48:15.296219Z",
     "shell.execute_reply": "2020-09-29T06:48:15.295415Z"
    }
   },
   "outputs": [],
   "source": [
    "def insert_data(paramtype, npoints, nreps=1):\n",
    "\n",
    "    meas = Measurement(exp=exp)\n",
    "\n",
    "    x1 = ManualParameter('x1')\n",
    "    x2 = ManualParameter('x2')\n",
    "    x3 = ManualParameter('x3')\n",
    "    y1 = ManualParameter('y1')\n",
    "    y2 = ManualParameter('y2')\n",
    "\n",
    "    meas.register_parameter(x1, paramtype=paramtype)\n",
    "    meas.register_parameter(x2, paramtype=paramtype)\n",
    "    meas.register_parameter(x3, paramtype=paramtype)\n",
    "    meas.register_parameter(y1, setpoints=[x1, x2, x3],\n",
    "                            paramtype=paramtype)\n",
    "    meas.register_parameter(y2, setpoints=[x1, x2, x3],\n",
    "                            paramtype=paramtype)\n",
    "    start = time.perf_counter()\n",
    "    with meas.run() as datasaver:\n",
    "        start_adding = time.perf_counter()\n",
    "        for i in range(nreps):\n",
    "            datasaver.add_result((x1, np.random.rand(npoints)),\n",
    "                                 (x2, np.random.rand(npoints)),\n",
    "                                 (x3, np.random.rand(npoints)),\n",
    "                                 (y1, np.random.rand(npoints)),\n",
    "                                 (y2, np.random.rand(npoints)))\n",
    "        stop_adding = time.perf_counter()\n",
    "        run_id = datasaver.run_id\n",
    "    stop = time.perf_counter()\n",
    "    tot_time = stop - start\n",
    "    add_time = stop_adding - start_adding\n",
    "    return tot_time, add_time, run_id"
   ]
  },
  {
   "cell_type": "markdown",
   "metadata": {},
   "source": [
    "## Comparison between numeric/array data and binary blob"
   ]
  },
  {
   "cell_type": "markdown",
   "metadata": {},
   "source": [
    "### Case1: Short experiment time"
   ]
  },
  {
   "cell_type": "code",
   "execution_count": 5,
   "metadata": {
    "execution": {
     "iopub.execute_input": "2020-09-29T06:48:15.302820Z",
     "iopub.status.busy": "2020-09-29T06:48:15.301646Z",
     "iopub.status.idle": "2020-09-29T06:48:16.251805Z",
     "shell.execute_reply": "2020-09-29T06:48:16.252443Z"
    }
   },
   "outputs": [
    {
     "name": "stdout",
     "output_type": "stream",
     "text": [
      "Starting experimental run with id: 1. \n",
      "Starting experimental run with id: 2. \n",
      "Starting experimental run with id: 3. \n",
      "Starting experimental run with id: 4. \n"
     ]
    },
    {
     "name": "stdout",
     "output_type": "stream",
     "text": [
      "Starting experimental run with id: 5. \n"
     ]
    },
    {
     "name": "stdout",
     "output_type": "stream",
     "text": [
      "Starting experimental run with id: 6. \n",
      "Starting experimental run with id: 7. \n"
     ]
    },
    {
     "name": "stdout",
     "output_type": "stream",
     "text": [
      "Starting experimental run with id: 8. \n",
      "Starting experimental run with id: 9. \n"
     ]
    },
    {
     "name": "stdout",
     "output_type": "stream",
     "text": [
      "Starting experimental run with id: 10. \n",
      "Starting experimental run with id: 11. \n"
     ]
    },
    {
     "name": "stdout",
     "output_type": "stream",
     "text": [
      "Starting experimental run with id: 12. \n"
     ]
    },
    {
     "name": "stdout",
     "output_type": "stream",
     "text": [
      "Starting experimental run with id: 13. \n"
     ]
    },
    {
     "name": "stdout",
     "output_type": "stream",
     "text": [
      "Starting experimental run with id: 14. \n"
     ]
    }
   ],
   "source": [
    "sizes = [1,500,1000,2000,3000,4000,5000]\n",
    "t_numeric = []\n",
    "t_numeric_add = []\n",
    "t_array = []\n",
    "t_array_add = []\n",
    "for size in sizes:\n",
    "    tn, tna, run_id_n =  insert_data('numeric', size)\n",
    "    t_numeric.append(tn)\n",
    "    t_numeric_add.append(tna)\n",
    "\n",
    "    ta, taa, run_id_a =  insert_data('array', size)\n",
    "    t_array.append(ta)\n",
    "    t_array_add.append(taa)"
   ]
  },
  {
   "cell_type": "code",
   "execution_count": 6,
   "metadata": {
    "execution": {
     "iopub.execute_input": "2020-09-29T06:48:16.272699Z",
     "iopub.status.busy": "2020-09-29T06:48:16.271845Z",
     "iopub.status.idle": "2020-09-29T06:48:16.483646Z",
     "shell.execute_reply": "2020-09-29T06:48:16.483091Z"
    }
   },
   "outputs": [
    {
     "data": {
      "image/png": "[encoded data removed]",
      "text/plain": [
       "<Figure size 432x288 with 1 Axes>"
      ]
     },
     "metadata": {
      "needs_background": "light"
     },
     "output_type": "display_data"
    }
   ],
   "source": [
    "fig, ax = plt.subplots(1,1)\n",
    "ax.plot(sizes, t_numeric, 'o-', label='Inserting row-by-row')\n",
    "ax.plot(sizes, t_numeric_add, 'o-', label='Inserting row-by-row: add_result only')\n",
    "ax.plot(sizes, t_array, 'd-', label='Inserting as binary blob')\n",
    "ax.plot(sizes, t_array_add, 'd-', label='Inserting as binary blob: add_result only')\n",
    "ax.legend()\n",
    "ax.set_xlabel('Array length')\n",
    "ax.set_ylabel('Time (s)')\n",
    "fig.tight_layout()"
   ]
  },
  {
   "cell_type": "markdown",
   "metadata": {},
   "source": [
    "As shown in the latter figure, the time to setup and and close the experiment is approximately 0.4 sec. In case of small array sizes, the difference between inserting values of data as arrays and inserting them row-by-row is relatively unimportant. At larger array sizes, i.e. above 10000 points, the cost of writing data as individual datapoints starts to become important.\n"
   ]
  },
  {
   "cell_type": "markdown",
   "metadata": {},
   "source": [
    "### Case2: Long experiment time "
   ]
  },
  {
   "cell_type": "code",
   "execution_count": 7,
   "metadata": {
    "execution": {
     "iopub.execute_input": "2020-09-29T06:48:16.490758Z",
     "iopub.status.busy": "2020-09-29T06:48:16.489646Z",
     "iopub.status.idle": "2020-09-29T06:49:18.000176Z",
     "shell.execute_reply": "2020-09-29T06:49:17.999591Z"
    }
   },
   "outputs": [
    {
     "name": "stdout",
     "output_type": "stream",
     "text": [
      "Starting experimental run with id: 15. \n",
      "Starting experimental run with id: 16. \n",
      "Starting experimental run with id: 17. \n"
     ]
    },
    {
     "name": "stdout",
     "output_type": "stream",
     "text": [
      "Starting experimental run with id: 18. \n",
      "Starting experimental run with id: 19. \n"
     ]
    },
    {
     "name": "stdout",
     "output_type": "stream",
     "text": [
      "Starting experimental run with id: 20. \n"
     ]
    },
    {
     "name": "stdout",
     "output_type": "stream",
     "text": [
      "Starting experimental run with id: 21. \n"
     ]
    },
    {
     "name": "stdout",
     "output_type": "stream",
     "text": [
      "Starting experimental run with id: 22. \n"
     ]
    },
    {
     "name": "stdout",
     "output_type": "stream",
     "text": [
      "Starting experimental run with id: 23. \n"
     ]
    },
    {
     "name": "stdout",
     "output_type": "stream",
     "text": [
      "Starting experimental run with id: 24. \n"
     ]
    },
    {
     "name": "stdout",
     "output_type": "stream",
     "text": [
      "Starting experimental run with id: 25. \n"
     ]
    },
    {
     "name": "stdout",
     "output_type": "stream",
     "text": [
      "Starting experimental run with id: 26. \n"
     ]
    },
    {
     "name": "stdout",
     "output_type": "stream",
     "text": [
      "Starting experimental run with id: 27. \n"
     ]
    },
    {
     "name": "stdout",
     "output_type": "stream",
     "text": [
      "Starting experimental run with id: 28. \n"
     ]
    }
   ],
   "source": [
    "sizes = [1,500,1000,2000,3000,4000,5000]\n",
    "nreps = 100\n",
    "t_numeric = []\n",
    "t_numeric_add = []\n",
    "t_numeric_run_ids = []\n",
    "t_array = []\n",
    "t_array_add = []\n",
    "t_array_run_ids = []\n",
    "for size in sizes:\n",
    "    tn, tna, run_id_n =  insert_data('numeric', size, nreps=nreps)\n",
    "    t_numeric.append(tn)\n",
    "    t_numeric_add.append(tna)\n",
    "    t_numeric_run_ids.append(run_id_n)\n",
    "\n",
    "    ta, taa, run_id_a =  insert_data('array', size, nreps=nreps)\n",
    "    t_array.append(ta)\n",
    "    t_array_add.append(taa)\n",
    "    t_array_run_ids.append(run_id_a)"
   ]
  },
  {
   "cell_type": "code",
   "execution_count": 8,
   "metadata": {
    "execution": {
     "iopub.execute_input": "2020-09-29T06:49:18.020496Z",
     "iopub.status.busy": "2020-09-29T06:49:18.017917Z",
     "iopub.status.idle": "2020-09-29T06:49:18.236539Z",
     "shell.execute_reply": "2020-09-29T06:49:18.235691Z"
    },
    "scrolled": true
   },
   "outputs": [
    {
     "data": {
      "image/png": "[encoded data removed]",
      "text/plain": [
       "<Figure size 432x288 with 1 Axes>"
      ]
     },
     "metadata": {
      "needs_background": "light"
     },
     "output_type": "display_data"
    }
   ],
   "source": [
    "fig, ax = plt.subplots(1,1)\n",
    "ax.plot(sizes, t_numeric, 'o-', label='Inserting row-by-row')\n",
    "ax.plot(sizes, t_numeric_add, 'o-', label='Inserting row-by-row: add_result only')\n",
    "ax.plot(sizes, t_array, 'd-', label='Inserting as binary blob')\n",
    "ax.plot(sizes, t_array_add, 'd-', label='Inserting as binary blob: add_result only')\n",
    "ax.legend()\n",
    "ax.set_xlabel('Array length')\n",
    "ax.set_ylabel('Time (s)')\n",
    "fig.tight_layout()"
   ]
  },
  {
   "cell_type": "markdown",
   "metadata": {},
   "source": [
    "However, as we increase the length of the experiment, as seen here by repeating the insertion 100 times, we see a big difference between inserting values of the data row-by-row and inserting it as a binary blob."
   ]
  },
  {
   "cell_type": "markdown",
   "metadata": {},
   "source": [
    "## Loading the data "
   ]
  },
  {
   "cell_type": "code",
   "execution_count": 9,
   "metadata": {
    "execution": {
     "iopub.execute_input": "2020-09-29T06:49:18.241637Z",
     "iopub.status.busy": "2020-09-29T06:49:18.240049Z",
     "iopub.status.idle": "2020-09-29T06:49:18.244261Z",
     "shell.execute_reply": "2020-09-29T06:49:18.244783Z"
    }
   },
   "outputs": [],
   "source": [
    "from qcodes.dataset.data_set import load_by_id\n",
    "from qcodes.dataset.data_export import get_data_by_id"
   ]
  },
  {
   "cell_type": "markdown",
   "metadata": {},
   "source": [
    "As usual you can load the data by using the ``load_by_id`` function but you will notice that the different storage methods\n",
    "are reflected in shape of the data as it is retrieved. "
   ]
  },
  {
   "cell_type": "code",
   "execution_count": 10,
   "metadata": {
    "execution": {
     "iopub.execute_input": "2020-09-29T06:49:18.248305Z",
     "iopub.status.busy": "2020-09-29T06:49:18.247709Z",
     "iopub.status.idle": "2020-09-29T06:49:18.251138Z",
     "shell.execute_reply": "2020-09-29T06:49:18.251647Z"
    }
   },
   "outputs": [],
   "source": [
    "run_id_n = t_numeric_run_ids[0]\n",
    "run_id_a = t_array_run_ids[0]"
   ]
  },
  {
   "cell_type": "code",
   "execution_count": 11,
   "metadata": {
    "execution": {
     "iopub.execute_input": "2020-09-29T06:49:18.255315Z",
     "iopub.status.busy": "2020-09-29T06:49:18.254598Z",
     "iopub.status.idle": "2020-09-29T06:49:18.264629Z",
     "shell.execute_reply": "2020-09-29T06:49:18.264096Z"
    },
    "scrolled": true
   },
   "outputs": [
    {
     "data": {
      "text/plain": [
       "{'x1': {'x1': array([0.83443162, 0.83443162, 0.76916277, 0.76916277, 0.28495002,\n",
       "         0.28495002, 0.99412915, 0.99412915, 0.38631671, 0.38631671,\n",
       "         0.35972336, 0.35972336, 0.3504983 , 0.3504983 , 0.12444073,\n",
       "         0.12444073, 0.89543882, 0.89543882, 0.71958303, 0.71958303,\n",
       "         0.8739333 , 0.8739333 , 0.37947378, 0.37947378, 0.42224182,\n",
       "         0.42224182, 0.32626515, 0.32626515, 0.28624401, 0.28624401,\n",
       "         0.0647223 , 0.0647223 , 0.75036173, 0.75036173, 0.82282505,\n",
       "         0.82282505, 0.33336969, 0.33336969, 0.7438069 , 0.7438069 ,\n",
       "         0.22515225, 0.22515225, 0.47769244, 0.47769244, 0.43001174,\n",
       "         0.43001174, 0.39877646, 0.39877646, 0.89282224, 0.89282224,\n",
       "         0.73094226, 0.73094226, 0.97702048, 0.97702048, 0.55152839,\n",
       "         0.55152839, 0.25365099, 0.25365099, 0.46083722, 0.46083722,\n",
       "         0.42788462, 0.42788462, 0.23309269, 0.23309269, 0.74562914,\n",
       "         0.74562914, 0.08002425, 0.08002425, 0.02953085, 0.02953085,\n",
       "         0.72485945, 0.72485945, 0.50521427, 0.50521427, 0.95564631,\n",
       "         0.95564631, 0.00101882, 0.00101882, 0.28906421, 0.28906421,\n",
       "         0.61057289, 0.61057289, 0.96178939, 0.96178939, 0.74149744,\n",
       "         0.74149744, 0.0137496 , 0.0137496 , 0.00657065, 0.00657065,\n",
       "         0.88988663, 0.88988663, 0.41206329, 0.41206329, 0.89401409,\n",
       "         0.89401409, 0.58073087, 0.58073087, 0.47583936, 0.47583936,\n",
       "         0.66822638, 0.66822638, 0.99594727, 0.99594727, 0.34026655,\n",
       "         0.34026655, 0.4860373 , 0.4860373 , 0.52212443, 0.52212443,\n",
       "         0.24277586, 0.24277586, 0.63137699, 0.63137699, 0.00655857,\n",
       "         0.00655857, 0.71404905, 0.71404905, 0.87747746, 0.87747746,\n",
       "         0.22126703, 0.22126703, 0.24784129, 0.24784129, 0.05252724,\n",
       "         0.05252724, 0.96891767, 0.96891767, 0.41200581, 0.41200581,\n",
       "         0.27336238, 0.27336238, 0.31808806, 0.31808806, 0.77224631,\n",
       "         0.77224631, 0.93110242, 0.93110242, 0.03982107, 0.03982107,\n",
       "         0.81395866, 0.81395866, 0.91151749, 0.91151749, 0.22013427,\n",
       "         0.22013427, 0.19450551, 0.19450551, 0.34804901, 0.34804901,\n",
       "         0.06298838, 0.06298838, 0.69043697, 0.69043697, 0.68905665,\n",
       "         0.68905665, 0.30161167, 0.30161167, 0.14153728, 0.14153728,\n",
       "         0.00786934, 0.00786934, 0.99127989, 0.99127989, 0.77957393,\n",
       "         0.77957393, 0.02520143, 0.02520143, 0.88817036, 0.88817036,\n",
       "         0.58141721, 0.58141721, 0.56937087, 0.56937087, 0.05170396,\n",
       "         0.05170396, 0.60282411, 0.60282411, 0.00433251, 0.00433251,\n",
       "         0.99810141, 0.99810141, 0.70090592, 0.70090592, 0.14677561,\n",
       "         0.14677561, 0.93862979, 0.93862979, 0.01976245, 0.01976245,\n",
       "         0.23912191, 0.23912191, 0.94719299, 0.94719299, 0.97695533,\n",
       "         0.97695533, 0.1909871 , 0.1909871 , 0.54236716, 0.54236716])}}"
      ]
     },
     "execution_count": 1,
     "metadata": {},
     "output_type": "execute_result"
    }
   ],
   "source": [
    "ds = load_by_id(run_id_n)\n",
    "ds.get_parameter_data('x1')"
   ]
  },
  {
   "cell_type": "markdown",
   "metadata": {},
   "source": [
    "And a dataset stored as binary arrays"
   ]
  },
  {
   "cell_type": "code",
   "execution_count": 12,
   "metadata": {
    "execution": {
     "iopub.execute_input": "2020-09-29T06:49:18.268293Z",
     "iopub.status.busy": "2020-09-29T06:49:18.267697Z",
     "iopub.status.idle": "2020-09-29T06:49:18.334277Z",
     "shell.execute_reply": "2020-09-29T06:49:18.334794Z"
    },
    "scrolled": true
   },
   "outputs": [
    {
     "data": {
      "text/plain": [
       "{'x1': {'x1': array([[0.85395796],\n",
       "         [0.85395796],\n",
       "         [0.77507385],\n",
       "         [0.77507385],\n",
       "         [0.10468375],\n",
       "         [0.10468375],\n",
       "         [0.63137797],\n",
       "         [0.63137797],\n",
       "         [0.77587593],\n",
       "         [0.77587593],\n",
       "         [0.98324689],\n",
       "         [0.98324689],\n",
       "         [0.81286635],\n",
       "         [0.81286635],\n",
       "         [0.51669274],\n",
       "         [0.51669274],\n",
       "         [0.37994228],\n",
       "         [0.37994228],\n",
       "         [0.98219273],\n",
       "         [0.98219273],\n",
       "         [0.65630612],\n",
       "         [0.65630612],\n",
       "         [0.58436703],\n",
       "         [0.58436703],\n",
       "         [0.44690585],\n",
       "         [0.44690585],\n",
       "         [0.09845683],\n",
       "         [0.09845683],\n",
       "         [0.69184538],\n",
       "         [0.69184538],\n",
       "         [0.65469814],\n",
       "         [0.65469814],\n",
       "         [0.57423338],\n",
       "         [0.57423338],\n",
       "         [0.88750703],\n",
       "         [0.88750703],\n",
       "         [0.32240233],\n",
       "         [0.32240233],\n",
       "         [0.91912323],\n",
       "         [0.91912323],\n",
       "         [0.56120864],\n",
       "         [0.56120864],\n",
       "         [0.60244078],\n",
       "         [0.60244078],\n",
       "         [0.58094463],\n",
       "         [0.58094463],\n",
       "         [0.0074402 ],\n",
       "         [0.0074402 ],\n",
       "         [0.0893291 ],\n",
       "         [0.0893291 ],\n",
       "         [0.45317723],\n",
       "         [0.45317723],\n",
       "         [0.06736846],\n",
       "         [0.06736846],\n",
       "         [0.72820015],\n",
       "         [0.72820015],\n",
       "         [0.40273881],\n",
       "         [0.40273881],\n",
       "         [0.73544526],\n",
       "         [0.73544526],\n",
       "         [0.52405551],\n",
       "         [0.52405551],\n",
       "         [0.41975021],\n",
       "         [0.41975021],\n",
       "         [0.19265675],\n",
       "         [0.19265675],\n",
       "         [0.6964983 ],\n",
       "         [0.6964983 ],\n",
       "         [0.75617465],\n",
       "         [0.75617465],\n",
       "         [0.80548813],\n",
       "         [0.80548813],\n",
       "         [0.25946464],\n",
       "         [0.25946464],\n",
       "         [0.43823217],\n",
       "         [0.43823217],\n",
       "         [0.11511748],\n",
       "         [0.11511748],\n",
       "         [0.74564818],\n",
       "         [0.74564818],\n",
       "         [0.41669931],\n",
       "         [0.41669931],\n",
       "         [0.06933954],\n",
       "         [0.06933954],\n",
       "         [0.47489212],\n",
       "         [0.47489212],\n",
       "         [0.88370628],\n",
       "         [0.88370628],\n",
       "         [0.48672571],\n",
       "         [0.48672571],\n",
       "         [0.34249706],\n",
       "         [0.34249706],\n",
       "         [0.81006902],\n",
       "         [0.81006902],\n",
       "         [0.03280394],\n",
       "         [0.03280394],\n",
       "         [0.56787215],\n",
       "         [0.56787215],\n",
       "         [0.25082813],\n",
       "         [0.25082813],\n",
       "         [0.31431299],\n",
       "         [0.31431299],\n",
       "         [0.71304657],\n",
       "         [0.71304657],\n",
       "         [0.07799271],\n",
       "         [0.07799271],\n",
       "         [0.72943441],\n",
       "         [0.72943441],\n",
       "         [0.072461  ],\n",
       "         [0.072461  ],\n",
       "         [0.40719666],\n",
       "         [0.40719666],\n",
       "         [0.92428715],\n",
       "         [0.92428715],\n",
       "         [0.39714425],\n",
       "         [0.39714425],\n",
       "         [0.86345861],\n",
       "         [0.86345861],\n",
       "         [0.8493285 ],\n",
       "         [0.8493285 ],\n",
       "         [0.78243918],\n",
       "         [0.78243918],\n",
       "         [0.82542741],\n",
       "         [0.82542741],\n",
       "         [0.00456705],\n",
       "         [0.00456705],\n",
       "         [0.50044207],\n",
       "         [0.50044207],\n",
       "         [0.24517263],\n",
       "         [0.24517263],\n",
       "         [0.463667  ],\n",
       "         [0.463667  ],\n",
       "         [0.73681923],\n",
       "         [0.73681923],\n",
       "         [0.11519016],\n",
       "         [0.11519016],\n",
       "         [0.33556969],\n",
       "         [0.33556969],\n",
       "         [0.32625686],\n",
       "         [0.32625686],\n",
       "         [0.95863297],\n",
       "         [0.95863297],\n",
       "         [0.3741573 ],\n",
       "         [0.3741573 ],\n",
       "         [0.99250969],\n",
       "         [0.99250969],\n",
       "         [0.54196943],\n",
       "         [0.54196943],\n",
       "         [0.2170795 ],\n",
       "         [0.2170795 ],\n",
       "         [0.05554696],\n",
       "         [0.05554696],\n",
       "         [0.11976812],\n",
       "         [0.11976812],\n",
       "         [0.73271314],\n",
       "         [0.73271314],\n",
       "         [0.29132389],\n",
       "         [0.29132389],\n",
       "         [0.31021717],\n",
       "         [0.31021717],\n",
       "         [0.96306209],\n",
       "         [0.96306209],\n",
       "         [0.52416955],\n",
       "         [0.52416955],\n",
       "         [0.66684759],\n",
       "         [0.66684759],\n",
       "         [0.67235711],\n",
       "         [0.67235711],\n",
       "         [0.94029262],\n",
       "         [0.94029262],\n",
       "         [0.9772448 ],\n",
       "         [0.9772448 ],\n",
       "         [0.80663679],\n",
       "         [0.80663679],\n",
       "         [0.01796893],\n",
       "         [0.01796893],\n",
       "         [0.63628236],\n",
       "         [0.63628236],\n",
       "         [0.76567017],\n",
       "         [0.76567017],\n",
       "         [0.51777856],\n",
       "         [0.51777856],\n",
       "         [0.16292935],\n",
       "         [0.16292935],\n",
       "         [0.77725744],\n",
       "         [0.77725744],\n",
       "         [0.22954025],\n",
       "         [0.22954025],\n",
       "         [0.11804783],\n",
       "         [0.11804783],\n",
       "         [0.23014524],\n",
       "         [0.23014524],\n",
       "         [0.44318731],\n",
       "         [0.44318731],\n",
       "         [0.76710708],\n",
       "         [0.76710708],\n",
       "         [0.12722358],\n",
       "         [0.12722358],\n",
       "         [0.62129979],\n",
       "         [0.62129979]])}}"
      ]
     },
     "execution_count": 1,
     "metadata": {},
     "output_type": "execute_result"
    }
   ],
   "source": [
    "ds = load_by_id(run_id_a)\n",
    "ds.get_parameter_data('x1')"
   ]
  },
  {
   "cell_type": "code",
   "execution_count": null,
   "metadata": {},
   "outputs": [],
   "source": []
  }
 ],
 "metadata": {
  "kernelspec": {
   "display_name": "Python 3",
   "language": "python",
   "name": "python3"
  },
  "language_info": {
   "codemirror_mode": {
    "name": "ipython",
    "version": 3
   },
   "file_extension": ".py",
   "mimetype": "text/x-python",
   "name": "python",
   "nbconvert_exporter": "python",
   "pygments_lexer": "ipython3",
   "version": "3.7.7"
  },
  "nbsphinx": {
   "timeout": 600
  },
  "toc": {
   "base_numbering": 1,
   "nav_menu": {},
   "number_sections": true,
   "sideBar": true,
   "skip_h1_title": false,
   "title_cell": "Table of Contents",
   "title_sidebar": "Contents",
   "toc_cell": false,
   "toc_position": {},
   "toc_section_display": true,
   "toc_window_display": false
  },
  "varInspector": {
   "cols": {
    "lenName": 16,
    "lenType": 16,
    "lenVar": 40
   },
   "kernels_config": {
    "python": {
     "delete_cmd_postfix": "",
     "delete_cmd_prefix": "del ",
     "library": "var_list.py",
     "varRefreshCmd": "print(var_dic_list())"
    },
    "r": {
     "delete_cmd_postfix": ") ",
     "delete_cmd_prefix": "rm(",
     "library": "var_list.r",
     "varRefreshCmd": "cat(var_dic_list()) "
    }
   },
   "types_to_exclude": [
    "module",
    "function",
    "builtin_function_or_method",
    "instance",
    "_Feature"
   ],
   "window_display": false
  }
 },
 "nbformat": 4,
 "nbformat_minor": 2
}
