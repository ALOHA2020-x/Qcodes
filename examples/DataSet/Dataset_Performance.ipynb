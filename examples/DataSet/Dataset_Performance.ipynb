{
 "cells": [
  {
   "cell_type": "markdown",
   "metadata": {},
   "source": [
    "# DataSet Performance\n",
    "\n",
    "This notebook shows the trade-off between inserting data into a database row-by-row and as binary blobs. Inserting the data row-by-row means that we have direct access to all the data and may perform queries directly on the values of the data. On the other hand, as we shall see, this is much slower than inserting the data directly as binary blobs."
   ]
  },
  {
   "cell_type": "markdown",
   "metadata": {},
   "source": [
    "First, we choose a new location for the database to ensure that we don't add a bunch of benchmarking data to the default one."
   ]
  },
  {
   "cell_type": "code",
   "execution_count": 1,
   "metadata": {
    "execution": {
     "iopub.execute_input": "2021-03-22T11:08:50.351050Z",
     "iopub.status.busy": "2021-03-22T11:08:50.350494Z",
     "iopub.status.idle": "2021-03-22T11:08:51.302810Z",
     "shell.execute_reply": "2021-03-22T11:08:51.303334Z"
    }
   },
   "outputs": [
    {
     "name": "stdout",
     "output_type": "stream",
     "text": [
      "Logging hadn't been started.\n",
      "Activating auto-logging. Current session state plus future input saved.\n",
      "Filename       : /home/runner/.qcodes/logs/command_history.log\n",
      "Mode           : append\n",
      "Output logging : True\n",
      "Raw input log  : False\n",
      "Timestamping   : True\n",
      "State          : active\n"
     ]
    },
    {
     "name": "stdout",
     "output_type": "stream",
     "text": [
      "Qcodes Logfile : /home/runner/.qcodes/logs/210322-4532-qcodes.log\n"
     ]
    }
   ],
   "source": [
    "import os\n",
    "cwd = os.getcwd()\n",
    "import qcodes as qc\n",
    "qc.config[\"core\"][\"db_location\"] = os.path.join(cwd, 'testing.db')\n"
   ]
  },
  {
   "cell_type": "code",
   "execution_count": 2,
   "metadata": {
    "execution": {
     "iopub.execute_input": "2021-03-22T11:08:51.309482Z",
     "iopub.status.busy": "2021-03-22T11:08:51.308425Z",
     "iopub.status.idle": "2021-03-22T11:08:51.516675Z",
     "shell.execute_reply": "2021-03-22T11:08:51.515987Z"
    }
   },
   "outputs": [],
   "source": [
    "%matplotlib inline\n",
    "import time\n",
    "import matplotlib.pyplot as plt\n",
    "import numpy as np\n",
    "\n",
    "import qcodes as qc\n",
    "from qcodes.instrument.parameter import ManualParameter\n",
    "from qcodes.dataset.experiment_container import (Experiment,\n",
    "                                                 load_last_experiment,\n",
    "                                                 new_experiment)\n",
    "from qcodes.dataset.sqlite.database import initialise_database\n",
    "from qcodes import load_or_create_experiment\n",
    "from qcodes.dataset.measurements import Measurement"
   ]
  },
  {
   "cell_type": "code",
   "execution_count": 3,
   "metadata": {
    "execution": {
     "iopub.execute_input": "2021-03-22T11:08:51.522258Z",
     "iopub.status.busy": "2021-03-22T11:08:51.521290Z",
     "iopub.status.idle": "2021-03-22T11:08:51.648152Z",
     "shell.execute_reply": "2021-03-22T11:08:51.647661Z"
    }
   },
   "outputs": [
    {
     "name": "stdout",
     "output_type": "stream",
     "text": [
      "\r",
      "0it [00:00, ?it/s]"
     ]
    },
    {
     "name": "stdout",
     "output_type": "stream",
     "text": [
      "\r",
      "Upgrading database; v0 -> v1: : 0it [00:00, ?it/s]"
     ]
    },
    {
     "name": "stdout",
     "output_type": "stream",
     "text": [
      "\r",
      "Upgrading database; v0 -> v1: : 0it [00:00, ?it/s]"
     ]
    },
    {
     "name": "stdout",
     "output_type": "stream",
     "text": [
      "\n",
      "\r",
      "  0%|          | 0/1 [00:00<?, ?it/s]"
     ]
    },
    {
     "name": "stdout",
     "output_type": "stream",
     "text": [
      "\r",
      "Upgrading database; v1 -> v2:   0%|          | 0/1 [00:00<?, ?it/s]"
     ]
    },
    {
     "name": "stdout",
     "output_type": "stream",
     "text": [
      "\r",
      "Upgrading database; v1 -> v2: 100%|██████████| 1/1 [00:00<00:00, 446.01it/s]"
     ]
    },
    {
     "name": "stdout",
     "output_type": "stream",
     "text": [
      "\n",
      "\r",
      "0it [00:00, ?it/s]"
     ]
    },
    {
     "name": "stdout",
     "output_type": "stream",
     "text": [
      "\r",
      "Upgrading database; v2 -> v3: : 0it [00:00, ?it/s]"
     ]
    },
    {
     "name": "stdout",
     "output_type": "stream",
     "text": [
      "\r",
      "Upgrading database; v2 -> v3: : 0it [00:00, ?it/s]"
     ]
    },
    {
     "name": "stdout",
     "output_type": "stream",
     "text": [
      "\n",
      "\r",
      "0it [00:00, ?it/s]"
     ]
    },
    {
     "name": "stdout",
     "output_type": "stream",
     "text": [
      "\r",
      "Upgrading database; v3 -> v4: : 0it [00:00, ?it/s]"
     ]
    },
    {
     "name": "stdout",
     "output_type": "stream",
     "text": [
      "\r",
      "Upgrading database; v3 -> v4: : 0it [00:00, ?it/s]"
     ]
    },
    {
     "name": "stdout",
     "output_type": "stream",
     "text": [
      "\n",
      "\r",
      "  0%|          | 0/1 [00:00<?, ?it/s]"
     ]
    },
    {
     "name": "stdout",
     "output_type": "stream",
     "text": [
      "\r",
      "Upgrading database; v4 -> v5:   0%|          | 0/1 [00:00<?, ?it/s]"
     ]
    },
    {
     "name": "stdout",
     "output_type": "stream",
     "text": [
      "\r",
      "Upgrading database; v4 -> v5: 100%|██████████| 1/1 [00:00<00:00, 337.38it/s]"
     ]
    },
    {
     "name": "stdout",
     "output_type": "stream",
     "text": [
      "\n",
      "\r",
      "0it [00:00, ?it/s]"
     ]
    },
    {
     "name": "stdout",
     "output_type": "stream",
     "text": [
      "\r",
      "Upgrading database; v5 -> v6: : 0it [00:00, ?it/s]"
     ]
    },
    {
     "name": "stdout",
     "output_type": "stream",
     "text": [
      "\r",
      "Upgrading database; v5 -> v6: : 0it [00:00, ?it/s]"
     ]
    },
    {
     "name": "stdout",
     "output_type": "stream",
     "text": [
      "\n",
      "\r",
      "  0%|          | 0/1 [00:00<?, ?it/s]"
     ]
    },
    {
     "name": "stdout",
     "output_type": "stream",
     "text": [
      "\r",
      "Upgrading database; v6 -> v7:   0%|          | 0/1 [00:00<?, ?it/s]"
     ]
    },
    {
     "name": "stdout",
     "output_type": "stream",
     "text": [
      "\r",
      "Upgrading database; v6 -> v7: 100%|██████████| 1/1 [00:00<00:00, 296.00it/s]"
     ]
    },
    {
     "name": "stdout",
     "output_type": "stream",
     "text": [
      "\n",
      "\r",
      "  0%|          | 0/1 [00:00<?, ?it/s]"
     ]
    },
    {
     "name": "stdout",
     "output_type": "stream",
     "text": [
      "\r",
      "Upgrading database; v7 -> v8:   0%|          | 0/1 [00:00<?, ?it/s]"
     ]
    },
    {
     "name": "stdout",
     "output_type": "stream",
     "text": [
      "\r",
      "Upgrading database; v7 -> v8: 100%|██████████| 1/1 [00:00<00:00, 470.37it/s]"
     ]
    },
    {
     "name": "stdout",
     "output_type": "stream",
     "text": [
      "\n",
      "\r",
      "  0%|          | 0/1 [00:00<?, ?it/s]"
     ]
    },
    {
     "name": "stdout",
     "output_type": "stream",
     "text": [
      "\r",
      "Upgrading database; v8 -> v9:   0%|          | 0/1 [00:00<?, ?it/s]"
     ]
    },
    {
     "name": "stdout",
     "output_type": "stream",
     "text": [
      "\r",
      "Upgrading database; v8 -> v9: 100%|██████████| 1/1 [00:00<00:00, 491.31it/s]"
     ]
    },
    {
     "name": "stdout",
     "output_type": "stream",
     "text": [
      "\n"
     ]
    }
   ],
   "source": [
    "initialise_database()\n",
    "exp = load_or_create_experiment(experiment_name='tutorial_exp', sample_name=\"no sample\")"
   ]
  },
  {
   "cell_type": "markdown",
   "metadata": {},
   "source": [
    "Here, we define a simple function to benchmark the time it takes to insert n points with either numeric or array data type.\n",
    "We will compare both the time used to call ``add_result`` and the time used for the full measurement."
   ]
  },
  {
   "cell_type": "code",
   "execution_count": 4,
   "metadata": {
    "execution": {
     "iopub.execute_input": "2021-03-22T11:08:51.656364Z",
     "iopub.status.busy": "2021-03-22T11:08:51.655790Z",
     "iopub.status.idle": "2021-03-22T11:08:51.659091Z",
     "shell.execute_reply": "2021-03-22T11:08:51.659851Z"
    }
   },
   "outputs": [],
   "source": [
    "def insert_data(paramtype, npoints, nreps=1):\n",
    "\n",
    "    meas = Measurement(exp=exp)\n",
    "\n",
    "    x1 = ManualParameter('x1')\n",
    "    x2 = ManualParameter('x2')\n",
    "    x3 = ManualParameter('x3')\n",
    "    y1 = ManualParameter('y1')\n",
    "    y2 = ManualParameter('y2')\n",
    "\n",
    "    meas.register_parameter(x1, paramtype=paramtype)\n",
    "    meas.register_parameter(x2, paramtype=paramtype)\n",
    "    meas.register_parameter(x3, paramtype=paramtype)\n",
    "    meas.register_parameter(y1, setpoints=[x1, x2, x3],\n",
    "                            paramtype=paramtype)\n",
    "    meas.register_parameter(y2, setpoints=[x1, x2, x3],\n",
    "                            paramtype=paramtype)\n",
    "    start = time.perf_counter()\n",
    "    with meas.run() as datasaver:\n",
    "        start_adding = time.perf_counter()\n",
    "        for i in range(nreps):\n",
    "            datasaver.add_result((x1, np.random.rand(npoints)),\n",
    "                                 (x2, np.random.rand(npoints)),\n",
    "                                 (x3, np.random.rand(npoints)),\n",
    "                                 (y1, np.random.rand(npoints)),\n",
    "                                 (y2, np.random.rand(npoints)))\n",
    "        stop_adding = time.perf_counter()\n",
    "        run_id = datasaver.run_id\n",
    "    stop = time.perf_counter()\n",
    "    tot_time = stop - start\n",
    "    add_time = stop_adding - start_adding\n",
    "    return tot_time, add_time, run_id"
   ]
  },
  {
   "cell_type": "markdown",
   "metadata": {},
   "source": [
    "## Comparison between numeric/array data and binary blob"
   ]
  },
  {
   "cell_type": "markdown",
   "metadata": {},
   "source": [
    "### Case1: Short experiment time"
   ]
  },
  {
   "cell_type": "code",
   "execution_count": 5,
   "metadata": {
    "execution": {
     "iopub.execute_input": "2021-03-22T11:08:51.666864Z",
     "iopub.status.busy": "2021-03-22T11:08:51.666276Z",
     "iopub.status.idle": "2021-03-22T11:08:52.525548Z",
     "shell.execute_reply": "2021-03-22T11:08:52.525039Z"
    }
   },
   "outputs": [
    {
     "name": "stdout",
     "output_type": "stream",
     "text": [
      "Starting experimental run with id: 1. \n",
      "Starting experimental run with id: 2. \n",
      "Starting experimental run with id: 3. \n",
      "Starting experimental run with id: 4. \n"
     ]
    },
    {
     "name": "stdout",
     "output_type": "stream",
     "text": [
      "Starting experimental run with id: 5. \n"
     ]
    },
    {
     "name": "stdout",
     "output_type": "stream",
     "text": [
      "Starting experimental run with id: 6. \n",
      "Starting experimental run with id: 7. \n"
     ]
    },
    {
     "name": "stdout",
     "output_type": "stream",
     "text": [
      "Starting experimental run with id: 8. \n",
      "Starting experimental run with id: 9. \n"
     ]
    },
    {
     "name": "stdout",
     "output_type": "stream",
     "text": [
      "Starting experimental run with id: 10. \n",
      "Starting experimental run with id: 11. \n"
     ]
    },
    {
     "name": "stdout",
     "output_type": "stream",
     "text": [
      "Starting experimental run with id: 12. \n",
      "Starting experimental run with id: 13. \n"
     ]
    },
    {
     "name": "stdout",
     "output_type": "stream",
     "text": [
      "Starting experimental run with id: 14. \n"
     ]
    }
   ],
   "source": [
    "sizes = [1,500,1000,2000,3000,4000,5000]\n",
    "t_numeric = []\n",
    "t_numeric_add = []\n",
    "t_array = []\n",
    "t_array_add = []\n",
    "for size in sizes:\n",
    "    tn, tna, run_id_n =  insert_data('numeric', size)\n",
    "    t_numeric.append(tn)\n",
    "    t_numeric_add.append(tna)\n",
    "\n",
    "    ta, taa, run_id_a =  insert_data('array', size)\n",
    "    t_array.append(ta)\n",
    "    t_array_add.append(taa)"
   ]
  },
  {
   "cell_type": "code",
   "execution_count": 6,
   "metadata": {
    "execution": {
     "iopub.execute_input": "2021-03-22T11:08:52.572921Z",
     "iopub.status.busy": "2021-03-22T11:08:52.531978Z",
     "iopub.status.idle": "2021-03-22T11:08:52.752943Z",
     "shell.execute_reply": "2021-03-22T11:08:52.753533Z"
    }
   },
   "outputs": [
    {
     "data": {
      "image/png": "[encoded data removed]",
      "text/plain": [
       "<Figure size 432x288 with 1 Axes>"
      ]
     },
     "metadata": {
      "needs_background": "light"
     },
     "output_type": "display_data"
    }
   ],
   "source": [
    "fig, ax = plt.subplots(1,1)\n",
    "ax.plot(sizes, t_numeric, 'o-', label='Inserting row-by-row')\n",
    "ax.plot(sizes, t_numeric_add, 'o-', label='Inserting row-by-row: add_result only')\n",
    "ax.plot(sizes, t_array, 'd-', label='Inserting as binary blob')\n",
    "ax.plot(sizes, t_array_add, 'd-', label='Inserting as binary blob: add_result only')\n",
    "ax.legend()\n",
    "ax.set_xlabel('Array length')\n",
    "ax.set_ylabel('Time (s)')\n",
    "fig.tight_layout()"
   ]
  },
  {
   "cell_type": "markdown",
   "metadata": {},
   "source": [
    "As shown in the latter figure, the time to setup and and close the experiment is approximately 0.4 sec. In case of small array sizes, the difference between inserting values of data as arrays and inserting them row-by-row is relatively unimportant. At larger array sizes, i.e. above 10000 points, the cost of writing data as individual datapoints starts to become important.\n"
   ]
  },
  {
   "cell_type": "markdown",
   "metadata": {},
   "source": [
    "### Case2: Long experiment time "
   ]
  },
  {
   "cell_type": "code",
   "execution_count": 7,
   "metadata": {
    "execution": {
     "iopub.execute_input": "2021-03-22T11:08:52.759783Z",
     "iopub.status.busy": "2021-03-22T11:08:52.758433Z",
     "iopub.status.idle": "2021-03-22T11:09:54.782689Z",
     "shell.execute_reply": "2021-03-22T11:09:54.782161Z"
    }
   },
   "outputs": [
    {
     "name": "stdout",
     "output_type": "stream",
     "text": [
      "Starting experimental run with id: 15. \n",
      "Starting experimental run with id: 16. \n",
      "Starting experimental run with id: 17. \n"
     ]
    },
    {
     "name": "stdout",
     "output_type": "stream",
     "text": [
      "Starting experimental run with id: 18. \n"
     ]
    },
    {
     "name": "stdout",
     "output_type": "stream",
     "text": [
      "Starting experimental run with id: 19. \n"
     ]
    },
    {
     "name": "stdout",
     "output_type": "stream",
     "text": [
      "Starting experimental run with id: 20. \n"
     ]
    },
    {
     "name": "stdout",
     "output_type": "stream",
     "text": [
      "Starting experimental run with id: 21. \n"
     ]
    },
    {
     "name": "stdout",
     "output_type": "stream",
     "text": [
      "Starting experimental run with id: 22. \n"
     ]
    },
    {
     "name": "stdout",
     "output_type": "stream",
     "text": [
      "Starting experimental run with id: 23. \n"
     ]
    },
    {
     "name": "stdout",
     "output_type": "stream",
     "text": [
      "Starting experimental run with id: 24. \n"
     ]
    },
    {
     "name": "stdout",
     "output_type": "stream",
     "text": [
      "Starting experimental run with id: 25. \n"
     ]
    },
    {
     "name": "stdout",
     "output_type": "stream",
     "text": [
      "Starting experimental run with id: 26. \n"
     ]
    },
    {
     "name": "stdout",
     "output_type": "stream",
     "text": [
      "Starting experimental run with id: 27. \n"
     ]
    },
    {
     "name": "stdout",
     "output_type": "stream",
     "text": [
      "Starting experimental run with id: 28. \n"
     ]
    }
   ],
   "source": [
    "sizes = [1,500,1000,2000,3000,4000,5000]\n",
    "nreps = 100\n",
    "t_numeric = []\n",
    "t_numeric_add = []\n",
    "t_numeric_run_ids = []\n",
    "t_array = []\n",
    "t_array_add = []\n",
    "t_array_run_ids = []\n",
    "for size in sizes:\n",
    "    tn, tna, run_id_n =  insert_data('numeric', size, nreps=nreps)\n",
    "    t_numeric.append(tn)\n",
    "    t_numeric_add.append(tna)\n",
    "    t_numeric_run_ids.append(run_id_n)\n",
    "\n",
    "    ta, taa, run_id_a =  insert_data('array', size, nreps=nreps)\n",
    "    t_array.append(ta)\n",
    "    t_array_add.append(taa)\n",
    "    t_array_run_ids.append(run_id_a)"
   ]
  },
  {
   "cell_type": "code",
   "execution_count": 8,
   "metadata": {
    "execution": {
     "iopub.execute_input": "2021-03-22T11:09:54.822445Z",
     "iopub.status.busy": "2021-03-22T11:09:54.811050Z",
     "iopub.status.idle": "2021-03-22T11:09:54.988538Z",
     "shell.execute_reply": "2021-03-22T11:09:54.989068Z"
    },
    "scrolled": true
   },
   "outputs": [
    {
     "data": {
      "image/png": "[encoded data removed]",
      "text/plain": [
       "<Figure size 432x288 with 1 Axes>"
      ]
     },
     "metadata": {
      "needs_background": "light"
     },
     "output_type": "display_data"
    }
   ],
   "source": [
    "fig, ax = plt.subplots(1,1)\n",
    "ax.plot(sizes, t_numeric, 'o-', label='Inserting row-by-row')\n",
    "ax.plot(sizes, t_numeric_add, 'o-', label='Inserting row-by-row: add_result only')\n",
    "ax.plot(sizes, t_array, 'd-', label='Inserting as binary blob')\n",
    "ax.plot(sizes, t_array_add, 'd-', label='Inserting as binary blob: add_result only')\n",
    "ax.legend()\n",
    "ax.set_xlabel('Array length')\n",
    "ax.set_ylabel('Time (s)')\n",
    "fig.tight_layout()"
   ]
  },
  {
   "cell_type": "markdown",
   "metadata": {},
   "source": [
    "However, as we increase the length of the experiment, as seen here by repeating the insertion 100 times, we see a big difference between inserting values of the data row-by-row and inserting it as a binary blob."
   ]
  },
  {
   "cell_type": "markdown",
   "metadata": {},
   "source": [
    "## Loading the data "
   ]
  },
  {
   "cell_type": "code",
   "execution_count": 9,
   "metadata": {
    "execution": {
     "iopub.execute_input": "2021-03-22T11:09:54.992990Z",
     "iopub.status.busy": "2021-03-22T11:09:54.992436Z",
     "iopub.status.idle": "2021-03-22T11:09:54.995519Z",
     "shell.execute_reply": "2021-03-22T11:09:54.995061Z"
    }
   },
   "outputs": [],
   "source": [
    "from qcodes.dataset.data_set import load_by_id\n",
    "from qcodes.dataset.data_export import get_data_by_id"
   ]
  },
  {
   "cell_type": "markdown",
   "metadata": {},
   "source": [
    "As usual you can load the data by using the ``load_by_id`` function but you will notice that the different storage methods\n",
    "are reflected in shape of the data as it is retrieved. "
   ]
  },
  {
   "cell_type": "code",
   "execution_count": 10,
   "metadata": {
    "execution": {
     "iopub.execute_input": "2021-03-22T11:09:54.999265Z",
     "iopub.status.busy": "2021-03-22T11:09:54.998716Z",
     "iopub.status.idle": "2021-03-22T11:09:55.001054Z",
     "shell.execute_reply": "2021-03-22T11:09:55.000567Z"
    }
   },
   "outputs": [],
   "source": [
    "run_id_n = t_numeric_run_ids[0]\n",
    "run_id_a = t_array_run_ids[0]"
   ]
  },
  {
   "cell_type": "code",
   "execution_count": 11,
   "metadata": {
    "execution": {
     "iopub.execute_input": "2021-03-22T11:09:55.004287Z",
     "iopub.status.busy": "2021-03-22T11:09:55.003763Z",
     "iopub.status.idle": "2021-03-22T11:09:55.013147Z",
     "shell.execute_reply": "2021-03-22T11:09:55.013575Z"
    },
    "scrolled": true
   },
   "outputs": [
    {
     "data": {
      "text/plain": [
       "{'x1': {'x1': array([0.10839666, 0.10839666, 0.15014167, 0.15014167, 0.27554525,\n",
       "         0.27554525, 0.94634548, 0.94634548, 0.90767007, 0.90767007,\n",
       "         0.3117645 , 0.3117645 , 0.54671744, 0.54671744, 0.68501262,\n",
       "         0.68501262, 0.31116401, 0.31116401, 0.37423915, 0.37423915,\n",
       "         0.27365509, 0.27365509, 0.27168123, 0.27168123, 0.07567707,\n",
       "         0.07567707, 0.86776121, 0.86776121, 0.38310619, 0.38310619,\n",
       "         0.71303979, 0.71303979, 0.73042695, 0.73042695, 0.69013858,\n",
       "         0.69013858, 0.76023936, 0.76023936, 0.47504496, 0.47504496,\n",
       "         0.4060728 , 0.4060728 , 0.81342886, 0.81342886, 0.6142353 ,\n",
       "         0.6142353 , 0.14521071, 0.14521071, 0.35755862, 0.35755862,\n",
       "         0.47194384, 0.47194384, 0.01696306, 0.01696306, 0.27024924,\n",
       "         0.27024924, 0.12361525, 0.12361525, 0.83297458, 0.83297458,\n",
       "         0.36310639, 0.36310639, 0.65874389, 0.65874389, 0.12332854,\n",
       "         0.12332854, 0.78485306, 0.78485306, 0.43710311, 0.43710311,\n",
       "         0.12252816, 0.12252816, 0.36485059, 0.36485059, 0.77458493,\n",
       "         0.77458493, 0.34254307, 0.34254307, 0.78912007, 0.78912007,\n",
       "         0.87982501, 0.87982501, 0.61557843, 0.61557843, 0.94479275,\n",
       "         0.94479275, 0.31468173, 0.31468173, 0.54786871, 0.54786871,\n",
       "         0.69428545, 0.69428545, 0.90824112, 0.90824112, 0.44541092,\n",
       "         0.44541092, 0.30644241, 0.30644241, 0.47037119, 0.47037119,\n",
       "         0.89475955, 0.89475955, 0.02858966, 0.02858966, 0.31148901,\n",
       "         0.31148901, 0.60168325, 0.60168325, 0.6750078 , 0.6750078 ,\n",
       "         0.86906011, 0.86906011, 0.64371358, 0.64371358, 0.08287769,\n",
       "         0.08287769, 0.39558698, 0.39558698, 0.17859183, 0.17859183,\n",
       "         0.93186016, 0.93186016, 0.53222545, 0.53222545, 0.99322116,\n",
       "         0.99322116, 0.58034004, 0.58034004, 0.47869359, 0.47869359,\n",
       "         0.68328657, 0.68328657, 0.72484276, 0.72484276, 0.92208494,\n",
       "         0.92208494, 0.59422052, 0.59422052, 0.3814187 , 0.3814187 ,\n",
       "         0.20048449, 0.20048449, 0.60807671, 0.60807671, 0.11813725,\n",
       "         0.11813725, 0.72868577, 0.72868577, 0.58783982, 0.58783982,\n",
       "         0.30789071, 0.30789071, 0.52935129, 0.52935129, 0.98781793,\n",
       "         0.98781793, 0.87932393, 0.87932393, 0.84870498, 0.84870498,\n",
       "         0.89405048, 0.89405048, 0.49440844, 0.49440844, 0.57430018,\n",
       "         0.57430018, 0.74736574, 0.74736574, 0.31764119, 0.31764119,\n",
       "         0.36586071, 0.36586071, 0.05293645, 0.05293645, 0.64359503,\n",
       "         0.64359503, 0.80557189, 0.80557189, 0.74842406, 0.74842406,\n",
       "         0.71778359, 0.71778359, 0.25328467, 0.25328467, 0.66074708,\n",
       "         0.66074708, 0.32401712, 0.32401712, 0.17760139, 0.17760139,\n",
       "         0.68966978, 0.68966978, 0.7839889 , 0.7839889 , 0.64304004,\n",
       "         0.64304004, 0.21340468, 0.21340468, 0.76394876, 0.76394876])}}"
      ]
     },
     "execution_count": 1,
     "metadata": {},
     "output_type": "execute_result"
    }
   ],
   "source": [
    "ds = load_by_id(run_id_n)\n",
    "ds.get_parameter_data('x1')"
   ]
  },
  {
   "cell_type": "markdown",
   "metadata": {},
   "source": [
    "And a dataset stored as binary arrays"
   ]
  },
  {
   "cell_type": "code",
   "execution_count": 12,
   "metadata": {
    "execution": {
     "iopub.execute_input": "2021-03-22T11:09:55.016885Z",
     "iopub.status.busy": "2021-03-22T11:09:55.016319Z",
     "iopub.status.idle": "2021-03-22T11:09:55.073755Z",
     "shell.execute_reply": "2021-03-22T11:09:55.074200Z"
    },
    "scrolled": true
   },
   "outputs": [
    {
     "data": {
      "text/plain": [
       "{'x1': {'x1': array([[0.944497  ],\n",
       "         [0.944497  ],\n",
       "         [0.18549862],\n",
       "         [0.18549862],\n",
       "         [0.4901397 ],\n",
       "         [0.4901397 ],\n",
       "         [0.4357451 ],\n",
       "         [0.4357451 ],\n",
       "         [0.62129425],\n",
       "         [0.62129425],\n",
       "         [0.98896032],\n",
       "         [0.98896032],\n",
       "         [0.3294028 ],\n",
       "         [0.3294028 ],\n",
       "         [0.18570658],\n",
       "         [0.18570658],\n",
       "         [0.11631907],\n",
       "         [0.11631907],\n",
       "         [0.50869352],\n",
       "         [0.50869352],\n",
       "         [0.98513577],\n",
       "         [0.98513577],\n",
       "         [0.0899769 ],\n",
       "         [0.0899769 ],\n",
       "         [0.35129462],\n",
       "         [0.35129462],\n",
       "         [0.61838547],\n",
       "         [0.61838547],\n",
       "         [0.72115541],\n",
       "         [0.72115541],\n",
       "         [0.08444232],\n",
       "         [0.08444232],\n",
       "         [0.32594322],\n",
       "         [0.32594322],\n",
       "         [0.23406463],\n",
       "         [0.23406463],\n",
       "         [0.63322541],\n",
       "         [0.63322541],\n",
       "         [0.68496476],\n",
       "         [0.68496476],\n",
       "         [0.42785615],\n",
       "         [0.42785615],\n",
       "         [0.11915224],\n",
       "         [0.11915224],\n",
       "         [0.31439659],\n",
       "         [0.31439659],\n",
       "         [0.07926342],\n",
       "         [0.07926342],\n",
       "         [0.23108304],\n",
       "         [0.23108304],\n",
       "         [0.91792377],\n",
       "         [0.91792377],\n",
       "         [0.43719451],\n",
       "         [0.43719451],\n",
       "         [0.37726138],\n",
       "         [0.37726138],\n",
       "         [0.77795707],\n",
       "         [0.77795707],\n",
       "         [0.77169451],\n",
       "         [0.77169451],\n",
       "         [0.26955594],\n",
       "         [0.26955594],\n",
       "         [0.64837665],\n",
       "         [0.64837665],\n",
       "         [0.92511014],\n",
       "         [0.92511014],\n",
       "         [0.95384662],\n",
       "         [0.95384662],\n",
       "         [0.60800631],\n",
       "         [0.60800631],\n",
       "         [0.53655731],\n",
       "         [0.53655731],\n",
       "         [0.06737095],\n",
       "         [0.06737095],\n",
       "         [0.16857862],\n",
       "         [0.16857862],\n",
       "         [0.5091429 ],\n",
       "         [0.5091429 ],\n",
       "         [0.42214295],\n",
       "         [0.42214295],\n",
       "         [0.9431098 ],\n",
       "         [0.9431098 ],\n",
       "         [0.56467475],\n",
       "         [0.56467475],\n",
       "         [0.55274349],\n",
       "         [0.55274349],\n",
       "         [0.75580938],\n",
       "         [0.75580938],\n",
       "         [0.08386419],\n",
       "         [0.08386419],\n",
       "         [0.28706289],\n",
       "         [0.28706289],\n",
       "         [0.82211484],\n",
       "         [0.82211484],\n",
       "         [0.72757161],\n",
       "         [0.72757161],\n",
       "         [0.81498744],\n",
       "         [0.81498744],\n",
       "         [0.31599436],\n",
       "         [0.31599436],\n",
       "         [0.99548497],\n",
       "         [0.99548497],\n",
       "         [0.29041974],\n",
       "         [0.29041974],\n",
       "         [0.23230775],\n",
       "         [0.23230775],\n",
       "         [0.20034763],\n",
       "         [0.20034763],\n",
       "         [0.0821936 ],\n",
       "         [0.0821936 ],\n",
       "         [0.93269854],\n",
       "         [0.93269854],\n",
       "         [0.67058572],\n",
       "         [0.67058572],\n",
       "         [0.41431521],\n",
       "         [0.41431521],\n",
       "         [0.65187909],\n",
       "         [0.65187909],\n",
       "         [0.92048012],\n",
       "         [0.92048012],\n",
       "         [0.18393102],\n",
       "         [0.18393102],\n",
       "         [0.54927427],\n",
       "         [0.54927427],\n",
       "         [0.98841306],\n",
       "         [0.98841306],\n",
       "         [0.88430466],\n",
       "         [0.88430466],\n",
       "         [0.38688323],\n",
       "         [0.38688323],\n",
       "         [0.71400963],\n",
       "         [0.71400963],\n",
       "         [0.6513826 ],\n",
       "         [0.6513826 ],\n",
       "         [0.71621735],\n",
       "         [0.71621735],\n",
       "         [0.68320731],\n",
       "         [0.68320731],\n",
       "         [0.31130141],\n",
       "         [0.31130141],\n",
       "         [0.30234162],\n",
       "         [0.30234162],\n",
       "         [0.12015088],\n",
       "         [0.12015088],\n",
       "         [0.62267347],\n",
       "         [0.62267347],\n",
       "         [0.73514936],\n",
       "         [0.73514936],\n",
       "         [0.78423369],\n",
       "         [0.78423369],\n",
       "         [0.06270462],\n",
       "         [0.06270462],\n",
       "         [0.67356583],\n",
       "         [0.67356583],\n",
       "         [0.2022078 ],\n",
       "         [0.2022078 ],\n",
       "         [0.31956685],\n",
       "         [0.31956685],\n",
       "         [0.98540705],\n",
       "         [0.98540705],\n",
       "         [0.48256679],\n",
       "         [0.48256679],\n",
       "         [0.65552276],\n",
       "         [0.65552276],\n",
       "         [0.46329114],\n",
       "         [0.46329114],\n",
       "         [0.44274633],\n",
       "         [0.44274633],\n",
       "         [0.99442409],\n",
       "         [0.99442409],\n",
       "         [0.59434696],\n",
       "         [0.59434696],\n",
       "         [0.84558806],\n",
       "         [0.84558806],\n",
       "         [0.14973629],\n",
       "         [0.14973629],\n",
       "         [0.80742745],\n",
       "         [0.80742745],\n",
       "         [0.72557658],\n",
       "         [0.72557658],\n",
       "         [0.32671314],\n",
       "         [0.32671314],\n",
       "         [0.37373045],\n",
       "         [0.37373045],\n",
       "         [0.848474  ],\n",
       "         [0.848474  ],\n",
       "         [0.94392731],\n",
       "         [0.94392731],\n",
       "         [0.81749809],\n",
       "         [0.81749809],\n",
       "         [0.46933649],\n",
       "         [0.46933649],\n",
       "         [0.88616709],\n",
       "         [0.88616709],\n",
       "         [0.59263859],\n",
       "         [0.59263859],\n",
       "         [0.92126998],\n",
       "         [0.92126998],\n",
       "         [0.22547472],\n",
       "         [0.22547472]])}}"
      ]
     },
     "execution_count": 1,
     "metadata": {},
     "output_type": "execute_result"
    }
   ],
   "source": [
    "ds = load_by_id(run_id_a)\n",
    "ds.get_parameter_data('x1')"
   ]
  },
  {
   "cell_type": "code",
   "execution_count": null,
   "metadata": {},
   "outputs": [],
   "source": []
  }
 ],
 "metadata": {
  "kernelspec": {
   "display_name": "Python 3",
   "language": "python",
   "name": "python3"
  },
  "language_info": {
   "codemirror_mode": {
    "name": "ipython",
    "version": 3
   },
   "file_extension": ".py",
   "mimetype": "text/x-python",
   "name": "python",
   "nbconvert_exporter": "python",
   "pygments_lexer": "ipython3",
   "version": "3.7.10"
  },
  "nbsphinx": {
   "timeout": 600
  },
  "toc": {
   "base_numbering": 1,
   "nav_menu": {},
   "number_sections": true,
   "sideBar": true,
   "skip_h1_title": false,
   "title_cell": "Table of Contents",
   "title_sidebar": "Contents",
   "toc_cell": false,
   "toc_position": {},
   "toc_section_display": true,
   "toc_window_display": false
  },
  "varInspector": {
   "cols": {
    "lenName": 16,
    "lenType": 16,
    "lenVar": 40
   },
   "kernels_config": {
    "python": {
     "delete_cmd_postfix": "",
     "delete_cmd_prefix": "del ",
     "library": "var_list.py",
     "varRefreshCmd": "print(var_dic_list())"
    },
    "r": {
     "delete_cmd_postfix": ") ",
     "delete_cmd_prefix": "rm(",
     "library": "var_list.r",
     "varRefreshCmd": "cat(var_dic_list()) "
    }
   },
   "types_to_exclude": [
    "module",
    "function",
    "builtin_function_or_method",
    "instance",
    "_Feature"
   ],
   "window_display": false
  }
 },
 "nbformat": 4,
 "nbformat_minor": 2
}
