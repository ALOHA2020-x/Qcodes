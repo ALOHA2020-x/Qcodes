{
 "cells": [
  {
   "cell_type": "markdown",
   "metadata": {},
   "source": [
    "# DataSet Performance\n",
    "\n",
    "This notebook shows the trade-off between inserting data into a database row-by-row and as binary blobs. Inserting the data row-by-row means that we have direct access to all the data and may perform queries directly on the values of the data. On the other hand, as we shall see, this is much slower than inserting the data directly as binary blobs."
   ]
  },
  {
   "cell_type": "markdown",
   "metadata": {},
   "source": [
    "First, we choose a new location for the database to ensure that we don't add a bunch of benchmarking data to the default one."
   ]
  },
  {
   "cell_type": "code",
   "execution_count": 1,
   "metadata": {
    "execution": {
     "iopub.execute_input": "2020-10-09T10:17:15.310205Z",
     "iopub.status.busy": "2020-10-09T10:17:15.309636Z",
     "iopub.status.idle": "2020-10-09T10:17:16.458784Z",
     "shell.execute_reply": "2020-10-09T10:17:16.459271Z"
    }
   },
   "outputs": [
    {
     "name": "stdout",
     "output_type": "stream",
     "text": [
      "Logging hadn't been started.\n",
      "Activating auto-logging. Current session state plus future input saved.\n",
      "Filename       : /home/vsts/.qcodes/logs/command_history.log\n",
      "Mode           : append\n",
      "Output logging : True\n",
      "Raw input log  : False\n",
      "Timestamping   : True\n",
      "State          : active\n"
     ]
    },
    {
     "name": "stdout",
     "output_type": "stream",
     "text": [
      "Qcodes Logfile : /home/vsts/.qcodes/logs/201009-14708-qcodes.log\n"
     ]
    }
   ],
   "source": [
    "import os\n",
    "cwd = os.getcwd()\n",
    "import qcodes as qc\n",
    "qc.config[\"core\"][\"db_location\"] = os.path.join(cwd, 'testing.db')\n"
   ]
  },
  {
   "cell_type": "code",
   "execution_count": 2,
   "metadata": {
    "execution": {
     "iopub.execute_input": "2020-10-09T10:17:16.467437Z",
     "iopub.status.busy": "2020-10-09T10:17:16.465580Z",
     "iopub.status.idle": "2020-10-09T10:17:16.676251Z",
     "shell.execute_reply": "2020-10-09T10:17:16.676742Z"
    }
   },
   "outputs": [],
   "source": [
    "%matplotlib inline\n",
    "import time\n",
    "import matplotlib.pyplot as plt\n",
    "import numpy as np\n",
    "\n",
    "import qcodes as qc\n",
    "from qcodes.instrument.parameter import ManualParameter\n",
    "from qcodes.dataset.experiment_container import (Experiment,\n",
    "                                                 load_last_experiment,\n",
    "                                                 new_experiment)\n",
    "from qcodes.dataset.sqlite.database import initialise_database\n",
    "from qcodes import load_or_create_experiment\n",
    "from qcodes.dataset.measurements import Measurement"
   ]
  },
  {
   "cell_type": "code",
   "execution_count": 3,
   "metadata": {
    "execution": {
     "iopub.execute_input": "2020-10-09T10:17:16.680861Z",
     "iopub.status.busy": "2020-10-09T10:17:16.680258Z",
     "iopub.status.idle": "2020-10-09T10:17:16.807904Z",
     "shell.execute_reply": "2020-10-09T10:17:16.807227Z"
    }
   },
   "outputs": [
    {
     "name": "stdout",
     "output_type": "stream",
     "text": [
      "\r",
      "0it [00:00, ?it/s]"
     ]
    },
    {
     "name": "stdout",
     "output_type": "stream",
     "text": [
      "\r",
      "Upgrading database; v0 -> v1: : 0it [00:00, ?it/s]"
     ]
    },
    {
     "name": "stdout",
     "output_type": "stream",
     "text": [
      "\r",
      "Upgrading database; v0 -> v1: : 0it [00:00, ?it/s]"
     ]
    },
    {
     "name": "stdout",
     "output_type": "stream",
     "text": [
      "\n",
      "\r",
      "  0%|          | 0/1 [00:00<?, ?it/s]"
     ]
    },
    {
     "name": "stdout",
     "output_type": "stream",
     "text": [
      "\r",
      "Upgrading database; v1 -> v2:   0%|          | 0/1 [00:00<?, ?it/s]"
     ]
    },
    {
     "name": "stdout",
     "output_type": "stream",
     "text": [
      "\r",
      "Upgrading database; v1 -> v2: 100%|██████████| 1/1 [00:00<00:00, 502.37it/s]"
     ]
    },
    {
     "name": "stdout",
     "output_type": "stream",
     "text": [
      "\n",
      "\r",
      "0it [00:00, ?it/s]"
     ]
    },
    {
     "name": "stdout",
     "output_type": "stream",
     "text": [
      "\r",
      "Upgrading database; v2 -> v3: : 0it [00:00, ?it/s]"
     ]
    },
    {
     "name": "stdout",
     "output_type": "stream",
     "text": [
      "\r",
      "Upgrading database; v2 -> v3: : 0it [00:00, ?it/s]"
     ]
    },
    {
     "name": "stdout",
     "output_type": "stream",
     "text": [
      "\n",
      "\r",
      "0it [00:00, ?it/s]"
     ]
    },
    {
     "name": "stdout",
     "output_type": "stream",
     "text": [
      "\r",
      "Upgrading database; v3 -> v4: : 0it [00:00, ?it/s]"
     ]
    },
    {
     "name": "stdout",
     "output_type": "stream",
     "text": [
      "\r",
      "Upgrading database; v3 -> v4: : 0it [00:00, ?it/s]"
     ]
    },
    {
     "name": "stdout",
     "output_type": "stream",
     "text": [
      "\n",
      "\r",
      "  0%|          | 0/1 [00:00<?, ?it/s]"
     ]
    },
    {
     "name": "stdout",
     "output_type": "stream",
     "text": [
      "\r",
      "Upgrading database; v4 -> v5:   0%|          | 0/1 [00:00<?, ?it/s]"
     ]
    },
    {
     "name": "stdout",
     "output_type": "stream",
     "text": [
      "\r",
      "Upgrading database; v4 -> v5: 100%|██████████| 1/1 [00:00<00:00, 503.76it/s]"
     ]
    },
    {
     "name": "stdout",
     "output_type": "stream",
     "text": [
      "\n",
      "\r",
      "0it [00:00, ?it/s]"
     ]
    },
    {
     "name": "stdout",
     "output_type": "stream",
     "text": [
      "\r",
      "Upgrading database; v5 -> v6: : 0it [00:00, ?it/s]"
     ]
    },
    {
     "name": "stdout",
     "output_type": "stream",
     "text": [
      "\r",
      "Upgrading database; v5 -> v6: : 0it [00:00, ?it/s]"
     ]
    },
    {
     "name": "stdout",
     "output_type": "stream",
     "text": [
      "\n",
      "\r",
      "  0%|          | 0/1 [00:00<?, ?it/s]"
     ]
    },
    {
     "name": "stdout",
     "output_type": "stream",
     "text": [
      "\r",
      "Upgrading database; v6 -> v7:   0%|          | 0/1 [00:00<?, ?it/s]"
     ]
    },
    {
     "name": "stdout",
     "output_type": "stream",
     "text": [
      "\r",
      "Upgrading database; v6 -> v7: 100%|██████████| 1/1 [00:00<00:00, 196.02it/s]"
     ]
    },
    {
     "name": "stdout",
     "output_type": "stream",
     "text": [
      "\n",
      "\r",
      "  0%|          | 0/1 [00:00<?, ?it/s]"
     ]
    },
    {
     "name": "stdout",
     "output_type": "stream",
     "text": [
      "\r",
      "Upgrading database; v7 -> v8:   0%|          | 0/1 [00:00<?, ?it/s]"
     ]
    },
    {
     "name": "stdout",
     "output_type": "stream",
     "text": [
      "\r",
      "Upgrading database; v7 -> v8: 100%|██████████| 1/1 [00:00<00:00, 391.33it/s]"
     ]
    },
    {
     "name": "stdout",
     "output_type": "stream",
     "text": [
      "\n",
      "\r",
      "  0%|          | 0/1 [00:00<?, ?it/s]"
     ]
    },
    {
     "name": "stdout",
     "output_type": "stream",
     "text": [
      "\r",
      "Upgrading database; v8 -> v9:   0%|          | 0/1 [00:00<?, ?it/s]"
     ]
    },
    {
     "name": "stdout",
     "output_type": "stream",
     "text": [
      "\r",
      "Upgrading database; v8 -> v9: 100%|██████████| 1/1 [00:00<00:00, 322.76it/s]"
     ]
    },
    {
     "name": "stdout",
     "output_type": "stream",
     "text": [
      "\n"
     ]
    }
   ],
   "source": [
    "initialise_database()\n",
    "exp = load_or_create_experiment(experiment_name='tutorial_exp', sample_name=\"no sample\")"
   ]
  },
  {
   "cell_type": "markdown",
   "metadata": {},
   "source": [
    "Here, we define a simple function to benchmark the time it takes to insert n points with either numeric or array data type.\n",
    "We will compare both the time used to call ``add_result`` and the time used for the full measurement."
   ]
  },
  {
   "cell_type": "code",
   "execution_count": 4,
   "metadata": {
    "execution": {
     "iopub.execute_input": "2020-10-09T10:17:16.818052Z",
     "iopub.status.busy": "2020-10-09T10:17:16.816554Z",
     "iopub.status.idle": "2020-10-09T10:17:16.818627Z",
     "shell.execute_reply": "2020-10-09T10:17:16.819226Z"
    }
   },
   "outputs": [],
   "source": [
    "def insert_data(paramtype, npoints, nreps=1):\n",
    "\n",
    "    meas = Measurement(exp=exp)\n",
    "\n",
    "    x1 = ManualParameter('x1')\n",
    "    x2 = ManualParameter('x2')\n",
    "    x3 = ManualParameter('x3')\n",
    "    y1 = ManualParameter('y1')\n",
    "    y2 = ManualParameter('y2')\n",
    "\n",
    "    meas.register_parameter(x1, paramtype=paramtype)\n",
    "    meas.register_parameter(x2, paramtype=paramtype)\n",
    "    meas.register_parameter(x3, paramtype=paramtype)\n",
    "    meas.register_parameter(y1, setpoints=[x1, x2, x3],\n",
    "                            paramtype=paramtype)\n",
    "    meas.register_parameter(y2, setpoints=[x1, x2, x3],\n",
    "                            paramtype=paramtype)\n",
    "    start = time.perf_counter()\n",
    "    with meas.run() as datasaver:\n",
    "        start_adding = time.perf_counter()\n",
    "        for i in range(nreps):\n",
    "            datasaver.add_result((x1, np.random.rand(npoints)),\n",
    "                                 (x2, np.random.rand(npoints)),\n",
    "                                 (x3, np.random.rand(npoints)),\n",
    "                                 (y1, np.random.rand(npoints)),\n",
    "                                 (y2, np.random.rand(npoints)))\n",
    "        stop_adding = time.perf_counter()\n",
    "        run_id = datasaver.run_id\n",
    "    stop = time.perf_counter()\n",
    "    tot_time = stop - start\n",
    "    add_time = stop_adding - start_adding\n",
    "    return tot_time, add_time, run_id"
   ]
  },
  {
   "cell_type": "markdown",
   "metadata": {},
   "source": [
    "## Comparison between numeric/array data and binary blob"
   ]
  },
  {
   "cell_type": "markdown",
   "metadata": {},
   "source": [
    "### Case1: Short experiment time"
   ]
  },
  {
   "cell_type": "code",
   "execution_count": 5,
   "metadata": {
    "execution": {
     "iopub.execute_input": "2020-10-09T10:17:16.826651Z",
     "iopub.status.busy": "2020-10-09T10:17:16.825713Z",
     "iopub.status.idle": "2020-10-09T10:17:17.706316Z",
     "shell.execute_reply": "2020-10-09T10:17:17.705412Z"
    }
   },
   "outputs": [
    {
     "name": "stdout",
     "output_type": "stream",
     "text": [
      "Starting experimental run with id: 1. \n",
      "Starting experimental run with id: 2. \n",
      "Starting experimental run with id: 3. \n",
      "Starting experimental run with id: 4. \n"
     ]
    },
    {
     "name": "stdout",
     "output_type": "stream",
     "text": [
      "Starting experimental run with id: 5. \n"
     ]
    },
    {
     "name": "stdout",
     "output_type": "stream",
     "text": [
      "Starting experimental run with id: 6. "
     ]
    },
    {
     "name": "stdout",
     "output_type": "stream",
     "text": [
      "\n"
     ]
    },
    {
     "name": "stdout",
     "output_type": "stream",
     "text": [
      "Starting experimental run with id: 7. \n"
     ]
    },
    {
     "name": "stdout",
     "output_type": "stream",
     "text": [
      "Starting experimental run with id: 8. \n",
      "Starting experimental run with id: 9. \n"
     ]
    },
    {
     "name": "stdout",
     "output_type": "stream",
     "text": [
      "Starting experimental run with id: 10. \n",
      "Starting experimental run with id: 11. \n"
     ]
    },
    {
     "name": "stdout",
     "output_type": "stream",
     "text": [
      "Starting experimental run with id: 12. \n"
     ]
    },
    {
     "name": "stdout",
     "output_type": "stream",
     "text": [
      "Starting experimental run with id: 13. \n"
     ]
    },
    {
     "name": "stdout",
     "output_type": "stream",
     "text": [
      "Starting experimental run with id: 14. \n"
     ]
    }
   ],
   "source": [
    "sizes = [1,500,1000,2000,3000,4000,5000]\n",
    "t_numeric = []\n",
    "t_numeric_add = []\n",
    "t_array = []\n",
    "t_array_add = []\n",
    "for size in sizes:\n",
    "    tn, tna, run_id_n =  insert_data('numeric', size)\n",
    "    t_numeric.append(tn)\n",
    "    t_numeric_add.append(tna)\n",
    "\n",
    "    ta, taa, run_id_a =  insert_data('array', size)\n",
    "    t_array.append(ta)\n",
    "    t_array_add.append(taa)"
   ]
  },
  {
   "cell_type": "code",
   "execution_count": 6,
   "metadata": {
    "execution": {
     "iopub.execute_input": "2020-10-09T10:17:17.716165Z",
     "iopub.status.busy": "2020-10-09T10:17:17.715505Z",
     "iopub.status.idle": "2020-10-09T10:17:17.958634Z",
     "shell.execute_reply": "2020-10-09T10:17:17.957686Z"
    }
   },
   "outputs": [
    {
     "data": {
      "image/png": "[encoded data removed]",
      "text/plain": [
       "<Figure size 432x288 with 1 Axes>"
      ]
     },
     "metadata": {
      "needs_background": "light"
     },
     "output_type": "display_data"
    }
   ],
   "source": [
    "fig, ax = plt.subplots(1,1)\n",
    "ax.plot(sizes, t_numeric, 'o-', label='Inserting row-by-row')\n",
    "ax.plot(sizes, t_numeric_add, 'o-', label='Inserting row-by-row: add_result only')\n",
    "ax.plot(sizes, t_array, 'd-', label='Inserting as binary blob')\n",
    "ax.plot(sizes, t_array_add, 'd-', label='Inserting as binary blob: add_result only')\n",
    "ax.legend()\n",
    "ax.set_xlabel('Array length')\n",
    "ax.set_ylabel('Time (s)')\n",
    "fig.tight_layout()"
   ]
  },
  {
   "cell_type": "markdown",
   "metadata": {},
   "source": [
    "As shown in the latter figure, the time to setup and and close the experiment is approximately 0.4 sec. In case of small array sizes, the difference between inserting values of data as arrays and inserting them row-by-row is relatively unimportant. At larger array sizes, i.e. above 10000 points, the cost of writing data as individual datapoints starts to become important.\n"
   ]
  },
  {
   "cell_type": "markdown",
   "metadata": {},
   "source": [
    "### Case2: Long experiment time "
   ]
  },
  {
   "cell_type": "code",
   "execution_count": 7,
   "metadata": {
    "execution": {
     "iopub.execute_input": "2020-10-09T10:17:17.966647Z",
     "iopub.status.busy": "2020-10-09T10:17:17.965684Z",
     "iopub.status.idle": "2020-10-09T10:18:22.410361Z",
     "shell.execute_reply": "2020-10-09T10:18:22.409816Z"
    }
   },
   "outputs": [
    {
     "name": "stdout",
     "output_type": "stream",
     "text": [
      "Starting experimental run with id: 15. \n",
      "Starting experimental run with id: 16. \n",
      "Starting experimental run with id: 17. \n"
     ]
    },
    {
     "name": "stdout",
     "output_type": "stream",
     "text": [
      "Starting experimental run with id: 18. \n",
      "Starting experimental run with id: 19. \n"
     ]
    },
    {
     "name": "stdout",
     "output_type": "stream",
     "text": [
      "Starting experimental run with id: 20. \n"
     ]
    },
    {
     "name": "stdout",
     "output_type": "stream",
     "text": [
      "Starting experimental run with id: 21. \n"
     ]
    },
    {
     "name": "stdout",
     "output_type": "stream",
     "text": [
      "Starting experimental run with id: 22. \n"
     ]
    },
    {
     "name": "stdout",
     "output_type": "stream",
     "text": [
      "Starting experimental run with id: 23. \n"
     ]
    },
    {
     "name": "stdout",
     "output_type": "stream",
     "text": [
      "Starting experimental run with id: 24. \n"
     ]
    },
    {
     "name": "stdout",
     "output_type": "stream",
     "text": [
      "Starting experimental run with id: 25. \n"
     ]
    },
    {
     "name": "stdout",
     "output_type": "stream",
     "text": [
      "Starting experimental run with id: 26. \n"
     ]
    },
    {
     "name": "stdout",
     "output_type": "stream",
     "text": [
      "Starting experimental run with id: 27. \n"
     ]
    },
    {
     "name": "stdout",
     "output_type": "stream",
     "text": [
      "Starting experimental run with id: 28. \n"
     ]
    }
   ],
   "source": [
    "sizes = [1,500,1000,2000,3000,4000,5000]\n",
    "nreps = 100\n",
    "t_numeric = []\n",
    "t_numeric_add = []\n",
    "t_numeric_run_ids = []\n",
    "t_array = []\n",
    "t_array_add = []\n",
    "t_array_run_ids = []\n",
    "for size in sizes:\n",
    "    tn, tna, run_id_n =  insert_data('numeric', size, nreps=nreps)\n",
    "    t_numeric.append(tn)\n",
    "    t_numeric_add.append(tna)\n",
    "    t_numeric_run_ids.append(run_id_n)\n",
    "\n",
    "    ta, taa, run_id_a =  insert_data('array', size, nreps=nreps)\n",
    "    t_array.append(ta)\n",
    "    t_array_add.append(taa)\n",
    "    t_array_run_ids.append(run_id_a)"
   ]
  },
  {
   "cell_type": "code",
   "execution_count": 8,
   "metadata": {
    "execution": {
     "iopub.execute_input": "2020-10-09T10:18:22.438478Z",
     "iopub.status.busy": "2020-10-09T10:18:22.436762Z",
     "iopub.status.idle": "2020-10-09T10:18:22.693727Z",
     "shell.execute_reply": "2020-10-09T10:18:22.694212Z"
    },
    "scrolled": true
   },
   "outputs": [
    {
     "data": {
      "image/png": "[encoded data removed]",
      "text/plain": [
       "<Figure size 432x288 with 1 Axes>"
      ]
     },
     "metadata": {
      "needs_background": "light"
     },
     "output_type": "display_data"
    }
   ],
   "source": [
    "fig, ax = plt.subplots(1,1)\n",
    "ax.plot(sizes, t_numeric, 'o-', label='Inserting row-by-row')\n",
    "ax.plot(sizes, t_numeric_add, 'o-', label='Inserting row-by-row: add_result only')\n",
    "ax.plot(sizes, t_array, 'd-', label='Inserting as binary blob')\n",
    "ax.plot(sizes, t_array_add, 'd-', label='Inserting as binary blob: add_result only')\n",
    "ax.legend()\n",
    "ax.set_xlabel('Array length')\n",
    "ax.set_ylabel('Time (s)')\n",
    "fig.tight_layout()"
   ]
  },
  {
   "cell_type": "markdown",
   "metadata": {},
   "source": [
    "However, as we increase the length of the experiment, as seen here by repeating the insertion 100 times, we see a big difference between inserting values of the data row-by-row and inserting it as a binary blob."
   ]
  },
  {
   "cell_type": "markdown",
   "metadata": {},
   "source": [
    "## Loading the data "
   ]
  },
  {
   "cell_type": "code",
   "execution_count": 9,
   "metadata": {
    "execution": {
     "iopub.execute_input": "2020-10-09T10:18:22.701428Z",
     "iopub.status.busy": "2020-10-09T10:18:22.700611Z",
     "iopub.status.idle": "2020-10-09T10:18:22.703586Z",
     "shell.execute_reply": "2020-10-09T10:18:22.704258Z"
    }
   },
   "outputs": [],
   "source": [
    "from qcodes.dataset.data_set import load_by_id\n",
    "from qcodes.dataset.data_export import get_data_by_id"
   ]
  },
  {
   "cell_type": "markdown",
   "metadata": {},
   "source": [
    "As usual you can load the data by using the ``load_by_id`` function but you will notice that the different storage methods\n",
    "are reflected in shape of the data as it is retrieved. "
   ]
  },
  {
   "cell_type": "code",
   "execution_count": 10,
   "metadata": {
    "execution": {
     "iopub.execute_input": "2020-10-09T10:18:22.709523Z",
     "iopub.status.busy": "2020-10-09T10:18:22.708181Z",
     "iopub.status.idle": "2020-10-09T10:18:22.710197Z",
     "shell.execute_reply": "2020-10-09T10:18:22.710846Z"
    }
   },
   "outputs": [],
   "source": [
    "run_id_n = t_numeric_run_ids[0]\n",
    "run_id_a = t_array_run_ids[0]"
   ]
  },
  {
   "cell_type": "code",
   "execution_count": 11,
   "metadata": {
    "execution": {
     "iopub.execute_input": "2020-10-09T10:18:22.714740Z",
     "iopub.status.busy": "2020-10-09T10:18:22.714147Z",
     "iopub.status.idle": "2020-10-09T10:18:22.724753Z",
     "shell.execute_reply": "2020-10-09T10:18:22.725417Z"
    },
    "scrolled": true
   },
   "outputs": [
    {
     "data": {
      "text/plain": [
       "{'x1': {'x1': array([0.46712972, 0.46712972, 0.55250292, 0.55250292, 0.18957476,\n",
       "         0.18957476, 0.17686997, 0.17686997, 0.09645896, 0.09645896,\n",
       "         0.724263  , 0.724263  , 0.09818034, 0.09818034, 0.40080243,\n",
       "         0.40080243, 0.01543201, 0.01543201, 0.42385164, 0.42385164,\n",
       "         0.01393176, 0.01393176, 0.17503109, 0.17503109, 0.5511014 ,\n",
       "         0.5511014 , 0.87910128, 0.87910128, 0.43698108, 0.43698108,\n",
       "         0.39445165, 0.39445165, 0.06974179, 0.06974179, 0.61363569,\n",
       "         0.61363569, 0.17218028, 0.17218028, 0.48528443, 0.48528443,\n",
       "         0.93231539, 0.93231539, 0.82842373, 0.82842373, 0.13761563,\n",
       "         0.13761563, 0.08668164, 0.08668164, 0.10048805, 0.10048805,\n",
       "         0.84221189, 0.84221189, 0.26966327, 0.26966327, 0.96632985,\n",
       "         0.96632985, 0.01359212, 0.01359212, 0.44165798, 0.44165798,\n",
       "         0.18077687, 0.18077687, 0.32337447, 0.32337447, 0.21901051,\n",
       "         0.21901051, 0.79972905, 0.79972905, 0.07162489, 0.07162489,\n",
       "         0.76161306, 0.76161306, 0.73140276, 0.73140276, 0.1519522 ,\n",
       "         0.1519522 , 0.33569955, 0.33569955, 0.16604512, 0.16604512,\n",
       "         0.05316839, 0.05316839, 0.48414161, 0.48414161, 0.90700861,\n",
       "         0.90700861, 0.21053061, 0.21053061, 0.33585326, 0.33585326,\n",
       "         0.74467647, 0.74467647, 0.96280937, 0.96280937, 0.19699303,\n",
       "         0.19699303, 0.65613611, 0.65613611, 0.39519755, 0.39519755,\n",
       "         0.13834418, 0.13834418, 0.46945784, 0.46945784, 0.77132472,\n",
       "         0.77132472, 0.82044663, 0.82044663, 0.67282999, 0.67282999,\n",
       "         0.66130131, 0.66130131, 0.34351246, 0.34351246, 0.34583154,\n",
       "         0.34583154, 0.83463   , 0.83463   , 0.38252374, 0.38252374,\n",
       "         0.29986528, 0.29986528, 0.42610902, 0.42610902, 0.8426936 ,\n",
       "         0.8426936 , 0.21619657, 0.21619657, 0.29538312, 0.29538312,\n",
       "         0.47117963, 0.47117963, 0.25450335, 0.25450335, 0.24980959,\n",
       "         0.24980959, 0.09560164, 0.09560164, 0.30372532, 0.30372532,\n",
       "         0.85393453, 0.85393453, 0.49010073, 0.49010073, 0.03559156,\n",
       "         0.03559156, 0.7846932 , 0.7846932 , 0.92083942, 0.92083942,\n",
       "         0.46468146, 0.46468146, 0.96624131, 0.96624131, 0.32044888,\n",
       "         0.32044888, 0.1821277 , 0.1821277 , 0.48751625, 0.48751625,\n",
       "         0.97833087, 0.97833087, 0.87519647, 0.87519647, 0.85620481,\n",
       "         0.85620481, 0.88088952, 0.88088952, 0.05679991, 0.05679991,\n",
       "         0.28676447, 0.28676447, 0.64030845, 0.64030845, 0.28226644,\n",
       "         0.28226644, 0.85863482, 0.85863482, 0.93798299, 0.93798299,\n",
       "         0.14203301, 0.14203301, 0.50159571, 0.50159571, 0.75533389,\n",
       "         0.75533389, 0.52666458, 0.52666458, 0.67899395, 0.67899395,\n",
       "         0.4121739 , 0.4121739 , 0.59072628, 0.59072628, 0.47184252,\n",
       "         0.47184252, 0.28383477, 0.28383477, 0.34198596, 0.34198596])}}"
      ]
     },
     "execution_count": 1,
     "metadata": {},
     "output_type": "execute_result"
    }
   ],
   "source": [
    "ds = load_by_id(run_id_n)\n",
    "ds.get_parameter_data('x1')"
   ]
  },
  {
   "cell_type": "markdown",
   "metadata": {},
   "source": [
    "And a dataset stored as binary arrays"
   ]
  },
  {
   "cell_type": "code",
   "execution_count": 12,
   "metadata": {
    "execution": {
     "iopub.execute_input": "2020-10-09T10:18:22.729976Z",
     "iopub.status.busy": "2020-10-09T10:18:22.729301Z",
     "iopub.status.idle": "2020-10-09T10:18:22.803643Z",
     "shell.execute_reply": "2020-10-09T10:18:22.803008Z"
    },
    "scrolled": true
   },
   "outputs": [
    {
     "data": {
      "text/plain": [
       "{'x1': {'x1': array([[0.40132537],\n",
       "         [0.40132537],\n",
       "         [0.60961951],\n",
       "         [0.60961951],\n",
       "         [0.04379036],\n",
       "         [0.04379036],\n",
       "         [0.10086229],\n",
       "         [0.10086229],\n",
       "         [0.89236557],\n",
       "         [0.89236557],\n",
       "         [0.14195455],\n",
       "         [0.14195455],\n",
       "         [0.8294564 ],\n",
       "         [0.8294564 ],\n",
       "         [0.52626041],\n",
       "         [0.52626041],\n",
       "         [0.07337017],\n",
       "         [0.07337017],\n",
       "         [0.87430059],\n",
       "         [0.87430059],\n",
       "         [0.85561524],\n",
       "         [0.85561524],\n",
       "         [0.61157184],\n",
       "         [0.61157184],\n",
       "         [0.45254133],\n",
       "         [0.45254133],\n",
       "         [0.13127978],\n",
       "         [0.13127978],\n",
       "         [0.2208581 ],\n",
       "         [0.2208581 ],\n",
       "         [0.68880997],\n",
       "         [0.68880997],\n",
       "         [0.99948096],\n",
       "         [0.99948096],\n",
       "         [0.9642187 ],\n",
       "         [0.9642187 ],\n",
       "         [0.47017362],\n",
       "         [0.47017362],\n",
       "         [0.32344048],\n",
       "         [0.32344048],\n",
       "         [0.30901423],\n",
       "         [0.30901423],\n",
       "         [0.85728886],\n",
       "         [0.85728886],\n",
       "         [0.64175217],\n",
       "         [0.64175217],\n",
       "         [0.42818086],\n",
       "         [0.42818086],\n",
       "         [0.35934545],\n",
       "         [0.35934545],\n",
       "         [0.54262525],\n",
       "         [0.54262525],\n",
       "         [0.7210433 ],\n",
       "         [0.7210433 ],\n",
       "         [0.37348637],\n",
       "         [0.37348637],\n",
       "         [0.9244541 ],\n",
       "         [0.9244541 ],\n",
       "         [0.40666616],\n",
       "         [0.40666616],\n",
       "         [0.79681041],\n",
       "         [0.79681041],\n",
       "         [0.43397349],\n",
       "         [0.43397349],\n",
       "         [0.16007418],\n",
       "         [0.16007418],\n",
       "         [0.32395128],\n",
       "         [0.32395128],\n",
       "         [0.0580358 ],\n",
       "         [0.0580358 ],\n",
       "         [0.95906605],\n",
       "         [0.95906605],\n",
       "         [0.9625501 ],\n",
       "         [0.9625501 ],\n",
       "         [0.79074325],\n",
       "         [0.79074325],\n",
       "         [0.37851236],\n",
       "         [0.37851236],\n",
       "         [0.07041797],\n",
       "         [0.07041797],\n",
       "         [0.16201912],\n",
       "         [0.16201912],\n",
       "         [0.22224067],\n",
       "         [0.22224067],\n",
       "         [0.9410554 ],\n",
       "         [0.9410554 ],\n",
       "         [0.31526468],\n",
       "         [0.31526468],\n",
       "         [0.21457715],\n",
       "         [0.21457715],\n",
       "         [0.77640483],\n",
       "         [0.77640483],\n",
       "         [0.13298147],\n",
       "         [0.13298147],\n",
       "         [0.9312059 ],\n",
       "         [0.9312059 ],\n",
       "         [0.30330845],\n",
       "         [0.30330845],\n",
       "         [0.9756008 ],\n",
       "         [0.9756008 ],\n",
       "         [0.75843353],\n",
       "         [0.75843353],\n",
       "         [0.03849129],\n",
       "         [0.03849129],\n",
       "         [0.25308937],\n",
       "         [0.25308937],\n",
       "         [0.03653322],\n",
       "         [0.03653322],\n",
       "         [0.54476371],\n",
       "         [0.54476371],\n",
       "         [0.60953818],\n",
       "         [0.60953818],\n",
       "         [0.82011787],\n",
       "         [0.82011787],\n",
       "         [0.04483552],\n",
       "         [0.04483552],\n",
       "         [0.36408897],\n",
       "         [0.36408897],\n",
       "         [0.01242883],\n",
       "         [0.01242883],\n",
       "         [0.93148464],\n",
       "         [0.93148464],\n",
       "         [0.30828449],\n",
       "         [0.30828449],\n",
       "         [0.59865233],\n",
       "         [0.59865233],\n",
       "         [0.32962315],\n",
       "         [0.32962315],\n",
       "         [0.4658269 ],\n",
       "         [0.4658269 ],\n",
       "         [0.2417209 ],\n",
       "         [0.2417209 ],\n",
       "         [0.49702585],\n",
       "         [0.49702585],\n",
       "         [0.10482306],\n",
       "         [0.10482306],\n",
       "         [0.77256419],\n",
       "         [0.77256419],\n",
       "         [0.55439351],\n",
       "         [0.55439351],\n",
       "         [0.1455287 ],\n",
       "         [0.1455287 ],\n",
       "         [0.20336942],\n",
       "         [0.20336942],\n",
       "         [0.36151666],\n",
       "         [0.36151666],\n",
       "         [0.16345075],\n",
       "         [0.16345075],\n",
       "         [0.17741442],\n",
       "         [0.17741442],\n",
       "         [0.96327931],\n",
       "         [0.96327931],\n",
       "         [0.10661145],\n",
       "         [0.10661145],\n",
       "         [0.68451609],\n",
       "         [0.68451609],\n",
       "         [0.64025213],\n",
       "         [0.64025213],\n",
       "         [0.37295176],\n",
       "         [0.37295176],\n",
       "         [0.22088277],\n",
       "         [0.22088277],\n",
       "         [0.45932963],\n",
       "         [0.45932963],\n",
       "         [0.84694784],\n",
       "         [0.84694784],\n",
       "         [0.30211488],\n",
       "         [0.30211488],\n",
       "         [0.68006312],\n",
       "         [0.68006312],\n",
       "         [0.03675951],\n",
       "         [0.03675951],\n",
       "         [0.89586399],\n",
       "         [0.89586399],\n",
       "         [0.30129315],\n",
       "         [0.30129315],\n",
       "         [0.00909727],\n",
       "         [0.00909727],\n",
       "         [0.64342214],\n",
       "         [0.64342214],\n",
       "         [0.32310693],\n",
       "         [0.32310693],\n",
       "         [0.1703576 ],\n",
       "         [0.1703576 ],\n",
       "         [0.61983953],\n",
       "         [0.61983953],\n",
       "         [0.91625392],\n",
       "         [0.91625392],\n",
       "         [0.0706136 ],\n",
       "         [0.0706136 ],\n",
       "         [0.16951614],\n",
       "         [0.16951614],\n",
       "         [0.03872204],\n",
       "         [0.03872204],\n",
       "         [0.79161671],\n",
       "         [0.79161671],\n",
       "         [0.4427846 ],\n",
       "         [0.4427846 ],\n",
       "         [0.47792285],\n",
       "         [0.47792285]])}}"
      ]
     },
     "execution_count": 1,
     "metadata": {},
     "output_type": "execute_result"
    }
   ],
   "source": [
    "ds = load_by_id(run_id_a)\n",
    "ds.get_parameter_data('x1')"
   ]
  },
  {
   "cell_type": "code",
   "execution_count": null,
   "metadata": {},
   "outputs": [],
   "source": []
  }
 ],
 "metadata": {
  "kernelspec": {
   "display_name": "Python 3",
   "language": "python",
   "name": "python3"
  },
  "language_info": {
   "codemirror_mode": {
    "name": "ipython",
    "version": 3
   },
   "file_extension": ".py",
   "mimetype": "text/x-python",
   "name": "python",
   "nbconvert_exporter": "python",
   "pygments_lexer": "ipython3",
   "version": "3.7.7"
  },
  "nbsphinx": {
   "timeout": 600
  },
  "toc": {
   "base_numbering": 1,
   "nav_menu": {},
   "number_sections": true,
   "sideBar": true,
   "skip_h1_title": false,
   "title_cell": "Table of Contents",
   "title_sidebar": "Contents",
   "toc_cell": false,
   "toc_position": {},
   "toc_section_display": true,
   "toc_window_display": false
  },
  "varInspector": {
   "cols": {
    "lenName": 16,
    "lenType": 16,
    "lenVar": 40
   },
   "kernels_config": {
    "python": {
     "delete_cmd_postfix": "",
     "delete_cmd_prefix": "del ",
     "library": "var_list.py",
     "varRefreshCmd": "print(var_dic_list())"
    },
    "r": {
     "delete_cmd_postfix": ") ",
     "delete_cmd_prefix": "rm(",
     "library": "var_list.r",
     "varRefreshCmd": "cat(var_dic_list()) "
    }
   },
   "types_to_exclude": [
    "module",
    "function",
    "builtin_function_or_method",
    "instance",
    "_Feature"
   ],
   "window_display": false
  }
 },
 "nbformat": 4,
 "nbformat_minor": 2
}
