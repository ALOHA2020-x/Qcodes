{
 "cells": [
  {
   "cell_type": "markdown",
   "metadata": {},
   "source": [
    "# DataSet Performance\n",
    "\n",
    "This notebook shows the trade-off between inserting data into a database row-by-row and as binary blobs. Inserting the data row-by-row means that we have direct access to all the data and may perform queries directly on the values of the data. On the other hand, as we shall see, this is much slower than inserting the data directly as binary blobs."
   ]
  },
  {
   "cell_type": "markdown",
   "metadata": {},
   "source": [
    "First, we choose a new location for the database to ensure that we don't add a bunch of benchmarking data to the default one."
   ]
  },
  {
   "cell_type": "code",
   "execution_count": 1,
   "metadata": {
    "execution": {
     "iopub.execute_input": "2021-02-12T12:30:31.439721Z",
     "iopub.status.busy": "2021-02-12T12:30:31.438903Z",
     "iopub.status.idle": "2021-02-12T12:30:32.414253Z",
     "shell.execute_reply": "2021-02-12T12:30:32.414782Z"
    }
   },
   "outputs": [
    {
     "name": "stdout",
     "output_type": "stream",
     "text": [
      "Logging hadn't been started.\n",
      "Activating auto-logging. Current session state plus future input saved.\n",
      "Filename       : /home/runner/.qcodes/logs/command_history.log\n",
      "Mode           : append\n",
      "Output logging : True\n",
      "Raw input log  : False\n",
      "Timestamping   : True\n",
      "State          : active\n"
     ]
    },
    {
     "name": "stdout",
     "output_type": "stream",
     "text": [
      "Qcodes Logfile : /home/runner/.qcodes/logs/210212-3787-qcodes.log\n"
     ]
    }
   ],
   "source": [
    "import os\n",
    "cwd = os.getcwd()\n",
    "import qcodes as qc\n",
    "qc.config[\"core\"][\"db_location\"] = os.path.join(cwd, 'testing.db')\n"
   ]
  },
  {
   "cell_type": "code",
   "execution_count": 2,
   "metadata": {
    "execution": {
     "iopub.execute_input": "2021-02-12T12:30:32.422293Z",
     "iopub.status.busy": "2021-02-12T12:30:32.421233Z",
     "iopub.status.idle": "2021-02-12T12:30:32.637466Z",
     "shell.execute_reply": "2021-02-12T12:30:32.636457Z"
    }
   },
   "outputs": [],
   "source": [
    "%matplotlib inline\n",
    "import time\n",
    "import matplotlib.pyplot as plt\n",
    "import numpy as np\n",
    "\n",
    "import qcodes as qc\n",
    "from qcodes.instrument.parameter import ManualParameter\n",
    "from qcodes.dataset.experiment_container import (Experiment,\n",
    "                                                 load_last_experiment,\n",
    "                                                 new_experiment)\n",
    "from qcodes.dataset.sqlite.database import initialise_database\n",
    "from qcodes import load_or_create_experiment\n",
    "from qcodes.dataset.measurements import Measurement"
   ]
  },
  {
   "cell_type": "code",
   "execution_count": 3,
   "metadata": {
    "execution": {
     "iopub.execute_input": "2021-02-12T12:30:32.642571Z",
     "iopub.status.busy": "2021-02-12T12:30:32.641532Z",
     "iopub.status.idle": "2021-02-12T12:30:32.768795Z",
     "shell.execute_reply": "2021-02-12T12:30:32.769410Z"
    }
   },
   "outputs": [
    {
     "name": "stdout",
     "output_type": "stream",
     "text": [
      "\r",
      "0it [00:00, ?it/s]"
     ]
    },
    {
     "name": "stdout",
     "output_type": "stream",
     "text": [
      "\r",
      "Upgrading database; v0 -> v1: : 0it [00:00, ?it/s]"
     ]
    },
    {
     "name": "stdout",
     "output_type": "stream",
     "text": [
      "\r",
      "Upgrading database; v0 -> v1: : 0it [00:00, ?it/s]"
     ]
    },
    {
     "name": "stdout",
     "output_type": "stream",
     "text": [
      "\n",
      "\r",
      "  0%|          | 0/1 [00:00<?, ?it/s]"
     ]
    },
    {
     "name": "stdout",
     "output_type": "stream",
     "text": [
      "\r",
      "Upgrading database; v1 -> v2:   0%|          | 0/1 [00:00<?, ?it/s]"
     ]
    },
    {
     "name": "stdout",
     "output_type": "stream",
     "text": [
      "\r",
      "Upgrading database; v1 -> v2: 100%|██████████| 1/1 [00:00<00:00, 915.19it/s]"
     ]
    },
    {
     "name": "stdout",
     "output_type": "stream",
     "text": [
      "\n",
      "\r",
      "0it [00:00, ?it/s]"
     ]
    },
    {
     "name": "stdout",
     "output_type": "stream",
     "text": [
      "\r",
      "Upgrading database; v2 -> v3: : 0it [00:00, ?it/s]"
     ]
    },
    {
     "name": "stdout",
     "output_type": "stream",
     "text": [
      "\r",
      "Upgrading database; v2 -> v3: : 0it [00:00, ?it/s]"
     ]
    },
    {
     "name": "stdout",
     "output_type": "stream",
     "text": [
      "\n",
      "\r",
      "0it [00:00, ?it/s]"
     ]
    },
    {
     "name": "stdout",
     "output_type": "stream",
     "text": [
      "\r",
      "Upgrading database; v3 -> v4: : 0it [00:00, ?it/s]"
     ]
    },
    {
     "name": "stdout",
     "output_type": "stream",
     "text": [
      "\r",
      "Upgrading database; v3 -> v4: : 0it [00:00, ?it/s]"
     ]
    },
    {
     "name": "stdout",
     "output_type": "stream",
     "text": [
      "\n",
      "\r",
      "  0%|          | 0/1 [00:00<?, ?it/s]"
     ]
    },
    {
     "name": "stdout",
     "output_type": "stream",
     "text": [
      "\r",
      "Upgrading database; v4 -> v5:   0%|          | 0/1 [00:00<?, ?it/s]"
     ]
    },
    {
     "name": "stdout",
     "output_type": "stream",
     "text": [
      "\r",
      "Upgrading database; v4 -> v5: 100%|██████████| 1/1 [00:00<00:00, 376.61it/s]"
     ]
    },
    {
     "name": "stdout",
     "output_type": "stream",
     "text": [
      "\n",
      "\r",
      "0it [00:00, ?it/s]"
     ]
    },
    {
     "name": "stdout",
     "output_type": "stream",
     "text": [
      "\r",
      "Upgrading database; v5 -> v6: : 0it [00:00, ?it/s]"
     ]
    },
    {
     "name": "stdout",
     "output_type": "stream",
     "text": [
      "\r",
      "Upgrading database; v5 -> v6: : 0it [00:00, ?it/s]"
     ]
    },
    {
     "name": "stdout",
     "output_type": "stream",
     "text": [
      "\n",
      "\r",
      "  0%|          | 0/1 [00:00<?, ?it/s]"
     ]
    },
    {
     "name": "stdout",
     "output_type": "stream",
     "text": [
      "\r",
      "Upgrading database; v6 -> v7:   0%|          | 0/1 [00:00<?, ?it/s]"
     ]
    },
    {
     "name": "stdout",
     "output_type": "stream",
     "text": [
      "\r",
      "Upgrading database; v6 -> v7: 100%|██████████| 1/1 [00:00<00:00, 255.98it/s]"
     ]
    },
    {
     "name": "stdout",
     "output_type": "stream",
     "text": [
      "\n",
      "\r",
      "  0%|          | 0/1 [00:00<?, ?it/s]"
     ]
    },
    {
     "name": "stdout",
     "output_type": "stream",
     "text": [
      "\r",
      "Upgrading database; v7 -> v8:   0%|          | 0/1 [00:00<?, ?it/s]"
     ]
    },
    {
     "name": "stdout",
     "output_type": "stream",
     "text": [
      "\r",
      "Upgrading database; v7 -> v8: 100%|██████████| 1/1 [00:00<00:00, 331.62it/s]"
     ]
    },
    {
     "name": "stdout",
     "output_type": "stream",
     "text": [
      "\n",
      "\r",
      "  0%|          | 0/1 [00:00<?, ?it/s]"
     ]
    },
    {
     "name": "stdout",
     "output_type": "stream",
     "text": [
      "\r",
      "Upgrading database; v8 -> v9:   0%|          | 0/1 [00:00<?, ?it/s]"
     ]
    },
    {
     "name": "stdout",
     "output_type": "stream",
     "text": [
      "\r",
      "Upgrading database; v8 -> v9: 100%|██████████| 1/1 [00:00<00:00, 1087.45it/s]"
     ]
    },
    {
     "name": "stdout",
     "output_type": "stream",
     "text": [
      "\n"
     ]
    }
   ],
   "source": [
    "initialise_database()\n",
    "exp = load_or_create_experiment(experiment_name='tutorial_exp', sample_name=\"no sample\")"
   ]
  },
  {
   "cell_type": "markdown",
   "metadata": {},
   "source": [
    "Here, we define a simple function to benchmark the time it takes to insert n points with either numeric or array data type.\n",
    "We will compare both the time used to call ``add_result`` and the time used for the full measurement."
   ]
  },
  {
   "cell_type": "code",
   "execution_count": 4,
   "metadata": {
    "execution": {
     "iopub.execute_input": "2021-02-12T12:30:32.779097Z",
     "iopub.status.busy": "2021-02-12T12:30:32.778401Z",
     "iopub.status.idle": "2021-02-12T12:30:32.782759Z",
     "shell.execute_reply": "2021-02-12T12:30:32.782152Z"
    }
   },
   "outputs": [],
   "source": [
    "def insert_data(paramtype, npoints, nreps=1):\n",
    "\n",
    "    meas = Measurement(exp=exp)\n",
    "\n",
    "    x1 = ManualParameter('x1')\n",
    "    x2 = ManualParameter('x2')\n",
    "    x3 = ManualParameter('x3')\n",
    "    y1 = ManualParameter('y1')\n",
    "    y2 = ManualParameter('y2')\n",
    "\n",
    "    meas.register_parameter(x1, paramtype=paramtype)\n",
    "    meas.register_parameter(x2, paramtype=paramtype)\n",
    "    meas.register_parameter(x3, paramtype=paramtype)\n",
    "    meas.register_parameter(y1, setpoints=[x1, x2, x3],\n",
    "                            paramtype=paramtype)\n",
    "    meas.register_parameter(y2, setpoints=[x1, x2, x3],\n",
    "                            paramtype=paramtype)\n",
    "    start = time.perf_counter()\n",
    "    with meas.run() as datasaver:\n",
    "        start_adding = time.perf_counter()\n",
    "        for i in range(nreps):\n",
    "            datasaver.add_result((x1, np.random.rand(npoints)),\n",
    "                                 (x2, np.random.rand(npoints)),\n",
    "                                 (x3, np.random.rand(npoints)),\n",
    "                                 (y1, np.random.rand(npoints)),\n",
    "                                 (y2, np.random.rand(npoints)))\n",
    "        stop_adding = time.perf_counter()\n",
    "        run_id = datasaver.run_id\n",
    "    stop = time.perf_counter()\n",
    "    tot_time = stop - start\n",
    "    add_time = stop_adding - start_adding\n",
    "    return tot_time, add_time, run_id"
   ]
  },
  {
   "cell_type": "markdown",
   "metadata": {},
   "source": [
    "## Comparison between numeric/array data and binary blob"
   ]
  },
  {
   "cell_type": "markdown",
   "metadata": {},
   "source": [
    "### Case1: Short experiment time"
   ]
  },
  {
   "cell_type": "code",
   "execution_count": 5,
   "metadata": {
    "execution": {
     "iopub.execute_input": "2021-02-12T12:30:32.790326Z",
     "iopub.status.busy": "2021-02-12T12:30:32.789032Z",
     "iopub.status.idle": "2021-02-12T12:30:33.708440Z",
     "shell.execute_reply": "2021-02-12T12:30:33.707825Z"
    }
   },
   "outputs": [
    {
     "name": "stdout",
     "output_type": "stream",
     "text": [
      "Starting experimental run with id: 1. \n",
      "Starting experimental run with id: 2. \n",
      "Starting experimental run with id: 3. \n",
      "Starting experimental run with id: 4. \n"
     ]
    },
    {
     "name": "stdout",
     "output_type": "stream",
     "text": [
      "Starting experimental run with id: 5. \n"
     ]
    },
    {
     "name": "stdout",
     "output_type": "stream",
     "text": [
      "Starting experimental run with id: 6. \n",
      "Starting experimental run with id: 7. \n"
     ]
    },
    {
     "name": "stdout",
     "output_type": "stream",
     "text": [
      "Starting experimental run with id: 8. \n",
      "Starting experimental run with id: 9. \n"
     ]
    },
    {
     "name": "stdout",
     "output_type": "stream",
     "text": [
      "Starting experimental run with id: 10. \n",
      "Starting experimental run with id: 11. \n"
     ]
    },
    {
     "name": "stdout",
     "output_type": "stream",
     "text": [
      "Starting experimental run with id: 12. \n"
     ]
    },
    {
     "name": "stdout",
     "output_type": "stream",
     "text": [
      "Starting experimental run with id: 13. \n"
     ]
    },
    {
     "name": "stdout",
     "output_type": "stream",
     "text": [
      "Starting experimental run with id: 14. \n"
     ]
    }
   ],
   "source": [
    "sizes = [1,500,1000,2000,3000,4000,5000]\n",
    "t_numeric = []\n",
    "t_numeric_add = []\n",
    "t_array = []\n",
    "t_array_add = []\n",
    "for size in sizes:\n",
    "    tn, tna, run_id_n =  insert_data('numeric', size)\n",
    "    t_numeric.append(tn)\n",
    "    t_numeric_add.append(tna)\n",
    "\n",
    "    ta, taa, run_id_a =  insert_data('array', size)\n",
    "    t_array.append(ta)\n",
    "    t_array_add.append(taa)"
   ]
  },
  {
   "cell_type": "code",
   "execution_count": 6,
   "metadata": {
    "execution": {
     "iopub.execute_input": "2021-02-12T12:30:33.732847Z",
     "iopub.status.busy": "2021-02-12T12:30:33.728343Z",
     "iopub.status.idle": "2021-02-12T12:30:33.951436Z",
     "shell.execute_reply": "2021-02-12T12:30:33.952312Z"
    }
   },
   "outputs": [
    {
     "data": {
      "image/png": "[encoded data removed]",
      "text/plain": [
       "<Figure size 432x288 with 1 Axes>"
      ]
     },
     "metadata": {
      "needs_background": "light"
     },
     "output_type": "display_data"
    }
   ],
   "source": [
    "fig, ax = plt.subplots(1,1)\n",
    "ax.plot(sizes, t_numeric, 'o-', label='Inserting row-by-row')\n",
    "ax.plot(sizes, t_numeric_add, 'o-', label='Inserting row-by-row: add_result only')\n",
    "ax.plot(sizes, t_array, 'd-', label='Inserting as binary blob')\n",
    "ax.plot(sizes, t_array_add, 'd-', label='Inserting as binary blob: add_result only')\n",
    "ax.legend()\n",
    "ax.set_xlabel('Array length')\n",
    "ax.set_ylabel('Time (s)')\n",
    "fig.tight_layout()"
   ]
  },
  {
   "cell_type": "markdown",
   "metadata": {},
   "source": [
    "As shown in the latter figure, the time to setup and and close the experiment is approximately 0.4 sec. In case of small array sizes, the difference between inserting values of data as arrays and inserting them row-by-row is relatively unimportant. At larger array sizes, i.e. above 10000 points, the cost of writing data as individual datapoints starts to become important.\n"
   ]
  },
  {
   "cell_type": "markdown",
   "metadata": {},
   "source": [
    "### Case2: Long experiment time "
   ]
  },
  {
   "cell_type": "code",
   "execution_count": 7,
   "metadata": {
    "execution": {
     "iopub.execute_input": "2021-02-12T12:30:33.961174Z",
     "iopub.status.busy": "2021-02-12T12:30:33.960188Z",
     "iopub.status.idle": "2021-02-12T12:31:37.483007Z",
     "shell.execute_reply": "2021-02-12T12:31:37.483597Z"
    }
   },
   "outputs": [
    {
     "name": "stdout",
     "output_type": "stream",
     "text": [
      "Starting experimental run with id: 15. \n",
      "Starting experimental run with id: 16. \n"
     ]
    },
    {
     "name": "stdout",
     "output_type": "stream",
     "text": [
      "Starting experimental run with id: 17. \n"
     ]
    },
    {
     "name": "stdout",
     "output_type": "stream",
     "text": [
      "Starting experimental run with id: 18. \n"
     ]
    },
    {
     "name": "stdout",
     "output_type": "stream",
     "text": [
      "Starting experimental run with id: 19. \n"
     ]
    },
    {
     "name": "stdout",
     "output_type": "stream",
     "text": [
      "Starting experimental run with id: 20. \n"
     ]
    },
    {
     "name": "stdout",
     "output_type": "stream",
     "text": [
      "Starting experimental run with id: 21. \n"
     ]
    },
    {
     "name": "stdout",
     "output_type": "stream",
     "text": [
      "Starting experimental run with id: 22. \n"
     ]
    },
    {
     "name": "stdout",
     "output_type": "stream",
     "text": [
      "Starting experimental run with id: 23. \n"
     ]
    },
    {
     "name": "stdout",
     "output_type": "stream",
     "text": [
      "Starting experimental run with id: 24. \n"
     ]
    },
    {
     "name": "stdout",
     "output_type": "stream",
     "text": [
      "Starting experimental run with id: 25. \n"
     ]
    },
    {
     "name": "stdout",
     "output_type": "stream",
     "text": [
      "Starting experimental run with id: 26. \n"
     ]
    },
    {
     "name": "stdout",
     "output_type": "stream",
     "text": [
      "Starting experimental run with id: 27. \n"
     ]
    },
    {
     "name": "stdout",
     "output_type": "stream",
     "text": [
      "Starting experimental run with id: 28. \n"
     ]
    }
   ],
   "source": [
    "sizes = [1,500,1000,2000,3000,4000,5000]\n",
    "nreps = 100\n",
    "t_numeric = []\n",
    "t_numeric_add = []\n",
    "t_numeric_run_ids = []\n",
    "t_array = []\n",
    "t_array_add = []\n",
    "t_array_run_ids = []\n",
    "for size in sizes:\n",
    "    tn, tna, run_id_n =  insert_data('numeric', size, nreps=nreps)\n",
    "    t_numeric.append(tn)\n",
    "    t_numeric_add.append(tna)\n",
    "    t_numeric_run_ids.append(run_id_n)\n",
    "\n",
    "    ta, taa, run_id_a =  insert_data('array', size, nreps=nreps)\n",
    "    t_array.append(ta)\n",
    "    t_array_add.append(taa)\n",
    "    t_array_run_ids.append(run_id_a)"
   ]
  },
  {
   "cell_type": "code",
   "execution_count": 8,
   "metadata": {
    "execution": {
     "iopub.execute_input": "2021-02-12T12:31:37.489932Z",
     "iopub.status.busy": "2021-02-12T12:31:37.489272Z",
     "iopub.status.idle": "2021-02-12T12:31:37.745743Z",
     "shell.execute_reply": "2021-02-12T12:31:37.745152Z"
    },
    "scrolled": true
   },
   "outputs": [
    {
     "data": {
      "image/png": "[encoded data removed]",
      "text/plain": [
       "<Figure size 432x288 with 1 Axes>"
      ]
     },
     "metadata": {
      "needs_background": "light"
     },
     "output_type": "display_data"
    }
   ],
   "source": [
    "fig, ax = plt.subplots(1,1)\n",
    "ax.plot(sizes, t_numeric, 'o-', label='Inserting row-by-row')\n",
    "ax.plot(sizes, t_numeric_add, 'o-', label='Inserting row-by-row: add_result only')\n",
    "ax.plot(sizes, t_array, 'd-', label='Inserting as binary blob')\n",
    "ax.plot(sizes, t_array_add, 'd-', label='Inserting as binary blob: add_result only')\n",
    "ax.legend()\n",
    "ax.set_xlabel('Array length')\n",
    "ax.set_ylabel('Time (s)')\n",
    "fig.tight_layout()"
   ]
  },
  {
   "cell_type": "markdown",
   "metadata": {},
   "source": [
    "However, as we increase the length of the experiment, as seen here by repeating the insertion 100 times, we see a big difference between inserting values of the data row-by-row and inserting it as a binary blob."
   ]
  },
  {
   "cell_type": "markdown",
   "metadata": {},
   "source": [
    "## Loading the data "
   ]
  },
  {
   "cell_type": "code",
   "execution_count": 9,
   "metadata": {
    "execution": {
     "iopub.execute_input": "2021-02-12T12:31:37.750717Z",
     "iopub.status.busy": "2021-02-12T12:31:37.750054Z",
     "iopub.status.idle": "2021-02-12T12:31:37.755889Z",
     "shell.execute_reply": "2021-02-12T12:31:37.755207Z"
    }
   },
   "outputs": [],
   "source": [
    "from qcodes.dataset.data_set import load_by_id\n",
    "from qcodes.dataset.data_export import get_data_by_id"
   ]
  },
  {
   "cell_type": "markdown",
   "metadata": {},
   "source": [
    "As usual you can load the data by using the ``load_by_id`` function but you will notice that the different storage methods\n",
    "are reflected in shape of the data as it is retrieved. "
   ]
  },
  {
   "cell_type": "code",
   "execution_count": 10,
   "metadata": {
    "execution": {
     "iopub.execute_input": "2021-02-12T12:31:37.760783Z",
     "iopub.status.busy": "2021-02-12T12:31:37.760101Z",
     "iopub.status.idle": "2021-02-12T12:31:37.764309Z",
     "shell.execute_reply": "2021-02-12T12:31:37.763724Z"
    }
   },
   "outputs": [],
   "source": [
    "run_id_n = t_numeric_run_ids[0]\n",
    "run_id_a = t_array_run_ids[0]"
   ]
  },
  {
   "cell_type": "code",
   "execution_count": 11,
   "metadata": {
    "execution": {
     "iopub.execute_input": "2021-02-12T12:31:37.768620Z",
     "iopub.status.busy": "2021-02-12T12:31:37.767956Z",
     "iopub.status.idle": "2021-02-12T12:31:37.781528Z",
     "shell.execute_reply": "2021-02-12T12:31:37.782116Z"
    },
    "scrolled": true
   },
   "outputs": [
    {
     "data": {
      "text/plain": [
       "{'x1': {'x1': array([0.85263667, 0.85263667, 0.93668012, 0.93668012, 0.54744036,\n",
       "         0.54744036, 0.43844508, 0.43844508, 0.09404405, 0.09404405,\n",
       "         0.90245493, 0.90245493, 0.06125738, 0.06125738, 0.2146037 ,\n",
       "         0.2146037 , 0.62568242, 0.62568242, 0.82411598, 0.82411598,\n",
       "         0.15515765, 0.15515765, 0.74579091, 0.74579091, 0.36078894,\n",
       "         0.36078894, 0.20983836, 0.20983836, 0.28783716, 0.28783716,\n",
       "         0.10277951, 0.10277951, 0.34469859, 0.34469859, 0.85023788,\n",
       "         0.85023788, 0.49699682, 0.49699682, 0.04216528, 0.04216528,\n",
       "         0.4265107 , 0.4265107 , 0.97916664, 0.97916664, 0.42067941,\n",
       "         0.42067941, 0.35288005, 0.35288005, 0.64744252, 0.64744252,\n",
       "         0.00822394, 0.00822394, 0.65723322, 0.65723322, 0.71824438,\n",
       "         0.71824438, 0.73722841, 0.73722841, 0.26098616, 0.26098616,\n",
       "         0.94923957, 0.94923957, 0.38752482, 0.38752482, 0.15989756,\n",
       "         0.15989756, 0.72130847, 0.72130847, 0.83741493, 0.83741493,\n",
       "         0.1774664 , 0.1774664 , 0.46025627, 0.46025627, 0.94266934,\n",
       "         0.94266934, 0.59467136, 0.59467136, 0.4402639 , 0.4402639 ,\n",
       "         0.68402323, 0.68402323, 0.91662235, 0.91662235, 0.58635417,\n",
       "         0.58635417, 0.0280877 , 0.0280877 , 0.26302004, 0.26302004,\n",
       "         0.0895246 , 0.0895246 , 0.58767969, 0.58767969, 0.04890013,\n",
       "         0.04890013, 0.09152187, 0.09152187, 0.57605788, 0.57605788,\n",
       "         0.27128371, 0.27128371, 0.90876948, 0.90876948, 0.97353074,\n",
       "         0.97353074, 0.1182093 , 0.1182093 , 0.3106144 , 0.3106144 ,\n",
       "         0.38315972, 0.38315972, 0.82369964, 0.82369964, 0.24050651,\n",
       "         0.24050651, 0.84208444, 0.84208444, 0.61054015, 0.61054015,\n",
       "         0.284831  , 0.284831  , 0.71786431, 0.71786431, 0.3263722 ,\n",
       "         0.3263722 , 0.85074882, 0.85074882, 0.1168064 , 0.1168064 ,\n",
       "         0.79675022, 0.79675022, 0.72641179, 0.72641179, 0.16490952,\n",
       "         0.16490952, 0.00227327, 0.00227327, 0.71167499, 0.71167499,\n",
       "         0.39117406, 0.39117406, 0.11218961, 0.11218961, 0.03238224,\n",
       "         0.03238224, 0.1668399 , 0.1668399 , 0.50374927, 0.50374927,\n",
       "         0.24772046, 0.24772046, 0.20308658, 0.20308658, 0.5615662 ,\n",
       "         0.5615662 , 0.58359217, 0.58359217, 0.74194188, 0.74194188,\n",
       "         0.63344961, 0.63344961, 0.58167942, 0.58167942, 0.89470255,\n",
       "         0.89470255, 0.52719853, 0.52719853, 0.88606396, 0.88606396,\n",
       "         0.65407406, 0.65407406, 0.91661302, 0.91661302, 0.81632624,\n",
       "         0.81632624, 0.54133051, 0.54133051, 0.64470565, 0.64470565,\n",
       "         0.89154537, 0.89154537, 0.42061043, 0.42061043, 0.77651238,\n",
       "         0.77651238, 0.85468141, 0.85468141, 0.67927243, 0.67927243,\n",
       "         0.23401803, 0.23401803, 0.70167598, 0.70167598, 0.02379493,\n",
       "         0.02379493, 0.51563766, 0.51563766, 0.06176396, 0.06176396])}}"
      ]
     },
     "execution_count": 1,
     "metadata": {},
     "output_type": "execute_result"
    }
   ],
   "source": [
    "ds = load_by_id(run_id_n)\n",
    "ds.get_parameter_data('x1')"
   ]
  },
  {
   "cell_type": "markdown",
   "metadata": {},
   "source": [
    "And a dataset stored as binary arrays"
   ]
  },
  {
   "cell_type": "code",
   "execution_count": 12,
   "metadata": {
    "execution": {
     "iopub.execute_input": "2021-02-12T12:31:37.787011Z",
     "iopub.status.busy": "2021-02-12T12:31:37.786355Z",
     "iopub.status.idle": "2021-02-12T12:31:37.858218Z",
     "shell.execute_reply": "2021-02-12T12:31:37.857355Z"
    },
    "scrolled": true
   },
   "outputs": [
    {
     "data": {
      "text/plain": [
       "{'x1': {'x1': array([[0.39749571],\n",
       "         [0.39749571],\n",
       "         [0.18581491],\n",
       "         [0.18581491],\n",
       "         [0.46046326],\n",
       "         [0.46046326],\n",
       "         [0.01423217],\n",
       "         [0.01423217],\n",
       "         [0.59263476],\n",
       "         [0.59263476],\n",
       "         [0.02761387],\n",
       "         [0.02761387],\n",
       "         [0.59107705],\n",
       "         [0.59107705],\n",
       "         [0.34771974],\n",
       "         [0.34771974],\n",
       "         [0.03595425],\n",
       "         [0.03595425],\n",
       "         [0.75931094],\n",
       "         [0.75931094],\n",
       "         [0.54856255],\n",
       "         [0.54856255],\n",
       "         [0.2485171 ],\n",
       "         [0.2485171 ],\n",
       "         [0.90550493],\n",
       "         [0.90550493],\n",
       "         [0.97531047],\n",
       "         [0.97531047],\n",
       "         [0.26311311],\n",
       "         [0.26311311],\n",
       "         [0.27850089],\n",
       "         [0.27850089],\n",
       "         [0.6663625 ],\n",
       "         [0.6663625 ],\n",
       "         [0.11308459],\n",
       "         [0.11308459],\n",
       "         [0.94445216],\n",
       "         [0.94445216],\n",
       "         [0.743624  ],\n",
       "         [0.743624  ],\n",
       "         [0.83838666],\n",
       "         [0.83838666],\n",
       "         [0.26696216],\n",
       "         [0.26696216],\n",
       "         [0.45927067],\n",
       "         [0.45927067],\n",
       "         [0.07285701],\n",
       "         [0.07285701],\n",
       "         [0.46988196],\n",
       "         [0.46988196],\n",
       "         [0.82757537],\n",
       "         [0.82757537],\n",
       "         [0.90448249],\n",
       "         [0.90448249],\n",
       "         [0.9649562 ],\n",
       "         [0.9649562 ],\n",
       "         [0.7845999 ],\n",
       "         [0.7845999 ],\n",
       "         [0.41383715],\n",
       "         [0.41383715],\n",
       "         [0.61097252],\n",
       "         [0.61097252],\n",
       "         [0.97761923],\n",
       "         [0.97761923],\n",
       "         [0.58862826],\n",
       "         [0.58862826],\n",
       "         [0.29006815],\n",
       "         [0.29006815],\n",
       "         [0.47934622],\n",
       "         [0.47934622],\n",
       "         [0.34372157],\n",
       "         [0.34372157],\n",
       "         [0.90187373],\n",
       "         [0.90187373],\n",
       "         [0.69226466],\n",
       "         [0.69226466],\n",
       "         [0.23173209],\n",
       "         [0.23173209],\n",
       "         [0.19382137],\n",
       "         [0.19382137],\n",
       "         [0.40224218],\n",
       "         [0.40224218],\n",
       "         [0.17168114],\n",
       "         [0.17168114],\n",
       "         [0.27817165],\n",
       "         [0.27817165],\n",
       "         [0.62120073],\n",
       "         [0.62120073],\n",
       "         [0.97992506],\n",
       "         [0.97992506],\n",
       "         [0.60870008],\n",
       "         [0.60870008],\n",
       "         [0.06233781],\n",
       "         [0.06233781],\n",
       "         [0.05286932],\n",
       "         [0.05286932],\n",
       "         [0.46210399],\n",
       "         [0.46210399],\n",
       "         [0.86925117],\n",
       "         [0.86925117],\n",
       "         [0.41447785],\n",
       "         [0.41447785],\n",
       "         [0.34252989],\n",
       "         [0.34252989],\n",
       "         [0.14720453],\n",
       "         [0.14720453],\n",
       "         [0.58784928],\n",
       "         [0.58784928],\n",
       "         [0.76756505],\n",
       "         [0.76756505],\n",
       "         [0.01667797],\n",
       "         [0.01667797],\n",
       "         [0.99738445],\n",
       "         [0.99738445],\n",
       "         [0.46801748],\n",
       "         [0.46801748],\n",
       "         [0.02185603],\n",
       "         [0.02185603],\n",
       "         [0.48245625],\n",
       "         [0.48245625],\n",
       "         [0.9687556 ],\n",
       "         [0.9687556 ],\n",
       "         [0.69444629],\n",
       "         [0.69444629],\n",
       "         [0.0474453 ],\n",
       "         [0.0474453 ],\n",
       "         [0.40204668],\n",
       "         [0.40204668],\n",
       "         [0.47458966],\n",
       "         [0.47458966],\n",
       "         [0.82228756],\n",
       "         [0.82228756],\n",
       "         [0.90123957],\n",
       "         [0.90123957],\n",
       "         [0.79681692],\n",
       "         [0.79681692],\n",
       "         [0.86601767],\n",
       "         [0.86601767],\n",
       "         [0.66324537],\n",
       "         [0.66324537],\n",
       "         [0.87404256],\n",
       "         [0.87404256],\n",
       "         [0.17982065],\n",
       "         [0.17982065],\n",
       "         [0.97521855],\n",
       "         [0.97521855],\n",
       "         [0.1211326 ],\n",
       "         [0.1211326 ],\n",
       "         [0.69707591],\n",
       "         [0.69707591],\n",
       "         [0.72689938],\n",
       "         [0.72689938],\n",
       "         [0.29108035],\n",
       "         [0.29108035],\n",
       "         [0.7292628 ],\n",
       "         [0.7292628 ],\n",
       "         [0.13505443],\n",
       "         [0.13505443],\n",
       "         [0.86126091],\n",
       "         [0.86126091],\n",
       "         [0.46689746],\n",
       "         [0.46689746],\n",
       "         [0.80419364],\n",
       "         [0.80419364],\n",
       "         [0.87772992],\n",
       "         [0.87772992],\n",
       "         [0.70891438],\n",
       "         [0.70891438],\n",
       "         [0.36566436],\n",
       "         [0.36566436],\n",
       "         [0.48511124],\n",
       "         [0.48511124],\n",
       "         [0.93157343],\n",
       "         [0.93157343],\n",
       "         [0.43495103],\n",
       "         [0.43495103],\n",
       "         [0.36532317],\n",
       "         [0.36532317],\n",
       "         [0.68110887],\n",
       "         [0.68110887],\n",
       "         [0.63307117],\n",
       "         [0.63307117],\n",
       "         [0.38519525],\n",
       "         [0.38519525],\n",
       "         [0.6897668 ],\n",
       "         [0.6897668 ],\n",
       "         [0.66794112],\n",
       "         [0.66794112],\n",
       "         [0.14584311],\n",
       "         [0.14584311],\n",
       "         [0.81878917],\n",
       "         [0.81878917],\n",
       "         [0.90982052],\n",
       "         [0.90982052],\n",
       "         [0.45797361],\n",
       "         [0.45797361],\n",
       "         [0.14465343],\n",
       "         [0.14465343],\n",
       "         [0.8681467 ],\n",
       "         [0.8681467 ]])}}"
      ]
     },
     "execution_count": 1,
     "metadata": {},
     "output_type": "execute_result"
    }
   ],
   "source": [
    "ds = load_by_id(run_id_a)\n",
    "ds.get_parameter_data('x1')"
   ]
  },
  {
   "cell_type": "code",
   "execution_count": null,
   "metadata": {},
   "outputs": [],
   "source": []
  }
 ],
 "metadata": {
  "kernelspec": {
   "display_name": "Python 3",
   "language": "python",
   "name": "python3"
  },
  "language_info": {
   "codemirror_mode": {
    "name": "ipython",
    "version": 3
   },
   "file_extension": ".py",
   "mimetype": "text/x-python",
   "name": "python",
   "nbconvert_exporter": "python",
   "pygments_lexer": "ipython3",
   "version": "3.7.9"
  },
  "nbsphinx": {
   "timeout": 600
  },
  "toc": {
   "base_numbering": 1,
   "nav_menu": {},
   "number_sections": true,
   "sideBar": true,
   "skip_h1_title": false,
   "title_cell": "Table of Contents",
   "title_sidebar": "Contents",
   "toc_cell": false,
   "toc_position": {},
   "toc_section_display": true,
   "toc_window_display": false
  },
  "varInspector": {
   "cols": {
    "lenName": 16,
    "lenType": 16,
    "lenVar": 40
   },
   "kernels_config": {
    "python": {
     "delete_cmd_postfix": "",
     "delete_cmd_prefix": "del ",
     "library": "var_list.py",
     "varRefreshCmd": "print(var_dic_list())"
    },
    "r": {
     "delete_cmd_postfix": ") ",
     "delete_cmd_prefix": "rm(",
     "library": "var_list.r",
     "varRefreshCmd": "cat(var_dic_list()) "
    }
   },
   "types_to_exclude": [
    "module",
    "function",
    "builtin_function_or_method",
    "instance",
    "_Feature"
   ],
   "window_display": false
  }
 },
 "nbformat": 4,
 "nbformat_minor": 2
}
