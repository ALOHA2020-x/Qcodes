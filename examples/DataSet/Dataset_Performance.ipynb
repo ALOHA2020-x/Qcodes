{
 "cells": [
  {
   "cell_type": "markdown",
   "metadata": {},
   "source": [
    "# DataSet Performance\n",
    "\n",
    "This notebook shows the trade-off between inserting data into a database row-by-row and as binary blobs. Inserting the data row-by-row means that we have direct access to all the data and may perform queries directly on the values of the data. On the other hand, as we shall see, this is much slower than inserting the data directly as binary blobs."
   ]
  },
  {
   "cell_type": "markdown",
   "metadata": {},
   "source": [
    "First, we choose a new location for the database to ensure that we don't add a bunch of benchmarking data to the default one."
   ]
  },
  {
   "cell_type": "code",
   "execution_count": 1,
   "metadata": {
    "execution": {
     "iopub.execute_input": "2020-10-18T07:56:25.408350Z",
     "iopub.status.busy": "2020-10-18T07:56:25.407636Z",
     "iopub.status.idle": "2020-10-18T07:56:26.509248Z",
     "shell.execute_reply": "2020-10-18T07:56:26.509699Z"
    }
   },
   "outputs": [
    {
     "name": "stdout",
     "output_type": "stream",
     "text": [
      "Logging hadn't been started.\n",
      "Activating auto-logging. Current session state plus future input saved.\n",
      "Filename       : /home/vsts/.qcodes/logs/command_history.log\n",
      "Mode           : append\n",
      "Output logging : True\n",
      "Raw input log  : False\n",
      "Timestamping   : True\n",
      "State          : active\n"
     ]
    },
    {
     "name": "stdout",
     "output_type": "stream",
     "text": [
      "Qcodes Logfile : /home/vsts/.qcodes/logs/201018-15974-qcodes.log\n"
     ]
    }
   ],
   "source": [
    "import os\n",
    "cwd = os.getcwd()\n",
    "import qcodes as qc\n",
    "qc.config[\"core\"][\"db_location\"] = os.path.join(cwd, 'testing.db')\n"
   ]
  },
  {
   "cell_type": "code",
   "execution_count": 2,
   "metadata": {
    "execution": {
     "iopub.execute_input": "2020-10-18T07:56:26.516334Z",
     "iopub.status.busy": "2020-10-18T07:56:26.515488Z",
     "iopub.status.idle": "2020-10-18T07:56:26.717317Z",
     "shell.execute_reply": "2020-10-18T07:56:26.716757Z"
    }
   },
   "outputs": [],
   "source": [
    "%matplotlib inline\n",
    "import time\n",
    "import matplotlib.pyplot as plt\n",
    "import numpy as np\n",
    "\n",
    "import qcodes as qc\n",
    "from qcodes.instrument.parameter import ManualParameter\n",
    "from qcodes.dataset.experiment_container import (Experiment,\n",
    "                                                 load_last_experiment,\n",
    "                                                 new_experiment)\n",
    "from qcodes.dataset.sqlite.database import initialise_database\n",
    "from qcodes import load_or_create_experiment\n",
    "from qcodes.dataset.measurements import Measurement"
   ]
  },
  {
   "cell_type": "code",
   "execution_count": 3,
   "metadata": {
    "execution": {
     "iopub.execute_input": "2020-10-18T07:56:26.721460Z",
     "iopub.status.busy": "2020-10-18T07:56:26.720821Z",
     "iopub.status.idle": "2020-10-18T07:56:26.833502Z",
     "shell.execute_reply": "2020-10-18T07:56:26.832910Z"
    }
   },
   "outputs": [
    {
     "name": "stdout",
     "output_type": "stream",
     "text": [
      "\r",
      "0it [00:00, ?it/s]"
     ]
    },
    {
     "name": "stdout",
     "output_type": "stream",
     "text": [
      "\r",
      "Upgrading database; v0 -> v1: : 0it [00:00, ?it/s]"
     ]
    },
    {
     "name": "stdout",
     "output_type": "stream",
     "text": [
      "\r",
      "Upgrading database; v0 -> v1: : 0it [00:00, ?it/s]"
     ]
    },
    {
     "name": "stdout",
     "output_type": "stream",
     "text": [
      "\n",
      "\r",
      "  0%|          | 0/1 [00:00<?, ?it/s]"
     ]
    },
    {
     "name": "stdout",
     "output_type": "stream",
     "text": [
      "\r",
      "Upgrading database; v1 -> v2:   0%|          | 0/1 [00:00<?, ?it/s]"
     ]
    },
    {
     "name": "stdout",
     "output_type": "stream",
     "text": [
      "\r",
      "Upgrading database; v1 -> v2: 100%|██████████| 1/1 [00:00<00:00, 498.91it/s]"
     ]
    },
    {
     "name": "stdout",
     "output_type": "stream",
     "text": [
      "\n",
      "\r",
      "0it [00:00, ?it/s]"
     ]
    },
    {
     "name": "stdout",
     "output_type": "stream",
     "text": [
      "\r",
      "Upgrading database; v2 -> v3: : 0it [00:00, ?it/s]"
     ]
    },
    {
     "name": "stdout",
     "output_type": "stream",
     "text": [
      "\r",
      "Upgrading database; v2 -> v3: : 0it [00:00, ?it/s]"
     ]
    },
    {
     "name": "stdout",
     "output_type": "stream",
     "text": [
      "\n",
      "\r",
      "0it [00:00, ?it/s]"
     ]
    },
    {
     "name": "stdout",
     "output_type": "stream",
     "text": [
      "\r",
      "Upgrading database; v3 -> v4: : 0it [00:00, ?it/s]"
     ]
    },
    {
     "name": "stdout",
     "output_type": "stream",
     "text": [
      "\r",
      "Upgrading database; v3 -> v4: : 0it [00:00, ?it/s]"
     ]
    },
    {
     "name": "stdout",
     "output_type": "stream",
     "text": [
      "\n",
      "\r",
      "  0%|          | 0/1 [00:00<?, ?it/s]"
     ]
    },
    {
     "name": "stdout",
     "output_type": "stream",
     "text": [
      "\r",
      "Upgrading database; v4 -> v5:   0%|          | 0/1 [00:00<?, ?it/s]"
     ]
    },
    {
     "name": "stdout",
     "output_type": "stream",
     "text": [
      "\r",
      "Upgrading database; v4 -> v5: 100%|██████████| 1/1 [00:00<00:00, 866.95it/s]"
     ]
    },
    {
     "name": "stdout",
     "output_type": "stream",
     "text": [
      "\n",
      "\r",
      "0it [00:00, ?it/s]"
     ]
    },
    {
     "name": "stdout",
     "output_type": "stream",
     "text": [
      "\r",
      "Upgrading database; v5 -> v6: : 0it [00:00, ?it/s]"
     ]
    },
    {
     "name": "stdout",
     "output_type": "stream",
     "text": [
      "\r",
      "Upgrading database; v5 -> v6: : 0it [00:00, ?it/s]"
     ]
    },
    {
     "name": "stdout",
     "output_type": "stream",
     "text": [
      "\n",
      "\r",
      "  0%|          | 0/1 [00:00<?, ?it/s]"
     ]
    },
    {
     "name": "stdout",
     "output_type": "stream",
     "text": [
      "\r",
      "Upgrading database; v6 -> v7:   0%|          | 0/1 [00:00<?, ?it/s]"
     ]
    },
    {
     "name": "stdout",
     "output_type": "stream",
     "text": [
      "\r",
      "Upgrading database; v6 -> v7: 100%|██████████| 1/1 [00:00<00:00, 349.64it/s]"
     ]
    },
    {
     "name": "stdout",
     "output_type": "stream",
     "text": [
      "\n",
      "\r",
      "  0%|          | 0/1 [00:00<?, ?it/s]"
     ]
    },
    {
     "name": "stdout",
     "output_type": "stream",
     "text": [
      "\r",
      "Upgrading database; v7 -> v8:   0%|          | 0/1 [00:00<?, ?it/s]"
     ]
    },
    {
     "name": "stdout",
     "output_type": "stream",
     "text": [
      "\r",
      "Upgrading database; v7 -> v8: 100%|██████████| 1/1 [00:00<00:00, 958.26it/s]"
     ]
    },
    {
     "name": "stdout",
     "output_type": "stream",
     "text": [
      "\n",
      "\r",
      "  0%|          | 0/1 [00:00<?, ?it/s]"
     ]
    },
    {
     "name": "stdout",
     "output_type": "stream",
     "text": [
      "\r",
      "Upgrading database; v8 -> v9:   0%|          | 0/1 [00:00<?, ?it/s]"
     ]
    },
    {
     "name": "stdout",
     "output_type": "stream",
     "text": [
      "\r",
      "Upgrading database; v8 -> v9: 100%|██████████| 1/1 [00:00<00:00, 1050.41it/s]"
     ]
    },
    {
     "name": "stdout",
     "output_type": "stream",
     "text": [
      "\n"
     ]
    }
   ],
   "source": [
    "initialise_database()\n",
    "exp = load_or_create_experiment(experiment_name='tutorial_exp', sample_name=\"no sample\")"
   ]
  },
  {
   "cell_type": "markdown",
   "metadata": {},
   "source": [
    "Here, we define a simple function to benchmark the time it takes to insert n points with either numeric or array data type.\n",
    "We will compare both the time used to call ``add_result`` and the time used for the full measurement."
   ]
  },
  {
   "cell_type": "code",
   "execution_count": 4,
   "metadata": {
    "execution": {
     "iopub.execute_input": "2020-10-18T07:56:26.842260Z",
     "iopub.status.busy": "2020-10-18T07:56:26.841124Z",
     "iopub.status.idle": "2020-10-18T07:56:26.845097Z",
     "shell.execute_reply": "2020-10-18T07:56:26.844494Z"
    }
   },
   "outputs": [],
   "source": [
    "def insert_data(paramtype, npoints, nreps=1):\n",
    "\n",
    "    meas = Measurement(exp=exp)\n",
    "\n",
    "    x1 = ManualParameter('x1')\n",
    "    x2 = ManualParameter('x2')\n",
    "    x3 = ManualParameter('x3')\n",
    "    y1 = ManualParameter('y1')\n",
    "    y2 = ManualParameter('y2')\n",
    "\n",
    "    meas.register_parameter(x1, paramtype=paramtype)\n",
    "    meas.register_parameter(x2, paramtype=paramtype)\n",
    "    meas.register_parameter(x3, paramtype=paramtype)\n",
    "    meas.register_parameter(y1, setpoints=[x1, x2, x3],\n",
    "                            paramtype=paramtype)\n",
    "    meas.register_parameter(y2, setpoints=[x1, x2, x3],\n",
    "                            paramtype=paramtype)\n",
    "    start = time.perf_counter()\n",
    "    with meas.run() as datasaver:\n",
    "        start_adding = time.perf_counter()\n",
    "        for i in range(nreps):\n",
    "            datasaver.add_result((x1, np.random.rand(npoints)),\n",
    "                                 (x2, np.random.rand(npoints)),\n",
    "                                 (x3, np.random.rand(npoints)),\n",
    "                                 (y1, np.random.rand(npoints)),\n",
    "                                 (y2, np.random.rand(npoints)))\n",
    "        stop_adding = time.perf_counter()\n",
    "        run_id = datasaver.run_id\n",
    "    stop = time.perf_counter()\n",
    "    tot_time = stop - start\n",
    "    add_time = stop_adding - start_adding\n",
    "    return tot_time, add_time, run_id"
   ]
  },
  {
   "cell_type": "markdown",
   "metadata": {},
   "source": [
    "## Comparison between numeric/array data and binary blob"
   ]
  },
  {
   "cell_type": "markdown",
   "metadata": {},
   "source": [
    "### Case1: Short experiment time"
   ]
  },
  {
   "cell_type": "code",
   "execution_count": 5,
   "metadata": {
    "execution": {
     "iopub.execute_input": "2020-10-18T07:56:26.851261Z",
     "iopub.status.busy": "2020-10-18T07:56:26.849944Z",
     "iopub.status.idle": "2020-10-18T07:56:27.734573Z",
     "shell.execute_reply": "2020-10-18T07:56:27.733933Z"
    }
   },
   "outputs": [
    {
     "name": "stdout",
     "output_type": "stream",
     "text": [
      "Starting experimental run with id: 1. \n",
      "Starting experimental run with id: 2. \n",
      "Starting experimental run with id: 3. \n",
      "Starting experimental run with id: 4. \n"
     ]
    },
    {
     "name": "stdout",
     "output_type": "stream",
     "text": [
      "Starting experimental run with id: 5. \n"
     ]
    },
    {
     "name": "stdout",
     "output_type": "stream",
     "text": [
      "Starting experimental run with id: 6. \n",
      "Starting experimental run with id: 7. \n"
     ]
    },
    {
     "name": "stdout",
     "output_type": "stream",
     "text": [
      "Starting experimental run with id: 8. \n",
      "Starting experimental run with id: 9. \n"
     ]
    },
    {
     "name": "stdout",
     "output_type": "stream",
     "text": [
      "Starting experimental run with id: 10. \n",
      "Starting experimental run with id: 11. \n"
     ]
    },
    {
     "name": "stdout",
     "output_type": "stream",
     "text": [
      "Starting experimental run with id: 12. \n",
      "Starting experimental run with id: 13. \n"
     ]
    },
    {
     "name": "stdout",
     "output_type": "stream",
     "text": [
      "Starting experimental run with id: 14. \n"
     ]
    }
   ],
   "source": [
    "sizes = [1,500,1000,2000,3000,4000,5000]\n",
    "t_numeric = []\n",
    "t_numeric_add = []\n",
    "t_array = []\n",
    "t_array_add = []\n",
    "for size in sizes:\n",
    "    tn, tna, run_id_n =  insert_data('numeric', size)\n",
    "    t_numeric.append(tn)\n",
    "    t_numeric_add.append(tna)\n",
    "\n",
    "    ta, taa, run_id_a =  insert_data('array', size)\n",
    "    t_array.append(ta)\n",
    "    t_array_add.append(taa)"
   ]
  },
  {
   "cell_type": "code",
   "execution_count": 6,
   "metadata": {
    "execution": {
     "iopub.execute_input": "2020-10-18T07:56:27.755446Z",
     "iopub.status.busy": "2020-10-18T07:56:27.752058Z",
     "iopub.status.idle": "2020-10-18T07:56:27.975141Z",
     "shell.execute_reply": "2020-10-18T07:56:27.975959Z"
    }
   },
   "outputs": [
    {
     "data": {
      "image/png": "[encoded data removed]",
      "text/plain": [
       "<Figure size 432x288 with 1 Axes>"
      ]
     },
     "metadata": {
      "needs_background": "light"
     },
     "output_type": "display_data"
    }
   ],
   "source": [
    "fig, ax = plt.subplots(1,1)\n",
    "ax.plot(sizes, t_numeric, 'o-', label='Inserting row-by-row')\n",
    "ax.plot(sizes, t_numeric_add, 'o-', label='Inserting row-by-row: add_result only')\n",
    "ax.plot(sizes, t_array, 'd-', label='Inserting as binary blob')\n",
    "ax.plot(sizes, t_array_add, 'd-', label='Inserting as binary blob: add_result only')\n",
    "ax.legend()\n",
    "ax.set_xlabel('Array length')\n",
    "ax.set_ylabel('Time (s)')\n",
    "fig.tight_layout()"
   ]
  },
  {
   "cell_type": "markdown",
   "metadata": {},
   "source": [
    "As shown in the latter figure, the time to setup and and close the experiment is approximately 0.4 sec. In case of small array sizes, the difference between inserting values of data as arrays and inserting them row-by-row is relatively unimportant. At larger array sizes, i.e. above 10000 points, the cost of writing data as individual datapoints starts to become important.\n"
   ]
  },
  {
   "cell_type": "markdown",
   "metadata": {},
   "source": [
    "### Case2: Long experiment time "
   ]
  },
  {
   "cell_type": "code",
   "execution_count": 7,
   "metadata": {
    "execution": {
     "iopub.execute_input": "2020-10-18T07:56:27.982917Z",
     "iopub.status.busy": "2020-10-18T07:56:27.981849Z",
     "iopub.status.idle": "2020-10-18T07:57:29.124969Z",
     "shell.execute_reply": "2020-10-18T07:57:29.125648Z"
    }
   },
   "outputs": [
    {
     "name": "stdout",
     "output_type": "stream",
     "text": [
      "Starting experimental run with id: 15. \n",
      "Starting experimental run with id: 16. \n",
      "Starting experimental run with id: 17. \n"
     ]
    },
    {
     "name": "stdout",
     "output_type": "stream",
     "text": [
      "Starting experimental run with id: 18. \n",
      "Starting experimental run with id: 19. \n"
     ]
    },
    {
     "name": "stdout",
     "output_type": "stream",
     "text": [
      "Starting experimental run with id: 20. \n"
     ]
    },
    {
     "name": "stdout",
     "output_type": "stream",
     "text": [
      "Starting experimental run with id: 21. \n"
     ]
    },
    {
     "name": "stdout",
     "output_type": "stream",
     "text": [
      "Starting experimental run with id: 22. \n"
     ]
    },
    {
     "name": "stdout",
     "output_type": "stream",
     "text": [
      "Starting experimental run with id: 23. \n"
     ]
    },
    {
     "name": "stdout",
     "output_type": "stream",
     "text": [
      "Starting experimental run with id: 24. \n"
     ]
    },
    {
     "name": "stdout",
     "output_type": "stream",
     "text": [
      "Starting experimental run with id: 25. \n"
     ]
    },
    {
     "name": "stdout",
     "output_type": "stream",
     "text": [
      "Starting experimental run with id: 26. \n"
     ]
    },
    {
     "name": "stdout",
     "output_type": "stream",
     "text": [
      "Starting experimental run with id: 27. \n"
     ]
    },
    {
     "name": "stdout",
     "output_type": "stream",
     "text": [
      "Starting experimental run with id: 28. \n"
     ]
    }
   ],
   "source": [
    "sizes = [1,500,1000,2000,3000,4000,5000]\n",
    "nreps = 100\n",
    "t_numeric = []\n",
    "t_numeric_add = []\n",
    "t_numeric_run_ids = []\n",
    "t_array = []\n",
    "t_array_add = []\n",
    "t_array_run_ids = []\n",
    "for size in sizes:\n",
    "    tn, tna, run_id_n =  insert_data('numeric', size, nreps=nreps)\n",
    "    t_numeric.append(tn)\n",
    "    t_numeric_add.append(tna)\n",
    "    t_numeric_run_ids.append(run_id_n)\n",
    "\n",
    "    ta, taa, run_id_a =  insert_data('array', size, nreps=nreps)\n",
    "    t_array.append(ta)\n",
    "    t_array_add.append(taa)\n",
    "    t_array_run_ids.append(run_id_a)"
   ]
  },
  {
   "cell_type": "code",
   "execution_count": 8,
   "metadata": {
    "execution": {
     "iopub.execute_input": "2020-10-18T07:57:29.147868Z",
     "iopub.status.busy": "2020-10-18T07:57:29.145218Z",
     "iopub.status.idle": "2020-10-18T07:57:29.365818Z",
     "shell.execute_reply": "2020-10-18T07:57:29.366360Z"
    },
    "scrolled": true
   },
   "outputs": [
    {
     "data": {
      "image/png": "[encoded data removed]",
      "text/plain": [
       "<Figure size 432x288 with 1 Axes>"
      ]
     },
     "metadata": {
      "needs_background": "light"
     },
     "output_type": "display_data"
    }
   ],
   "source": [
    "fig, ax = plt.subplots(1,1)\n",
    "ax.plot(sizes, t_numeric, 'o-', label='Inserting row-by-row')\n",
    "ax.plot(sizes, t_numeric_add, 'o-', label='Inserting row-by-row: add_result only')\n",
    "ax.plot(sizes, t_array, 'd-', label='Inserting as binary blob')\n",
    "ax.plot(sizes, t_array_add, 'd-', label='Inserting as binary blob: add_result only')\n",
    "ax.legend()\n",
    "ax.set_xlabel('Array length')\n",
    "ax.set_ylabel('Time (s)')\n",
    "fig.tight_layout()"
   ]
  },
  {
   "cell_type": "markdown",
   "metadata": {},
   "source": [
    "However, as we increase the length of the experiment, as seen here by repeating the insertion 100 times, we see a big difference between inserting values of the data row-by-row and inserting it as a binary blob."
   ]
  },
  {
   "cell_type": "markdown",
   "metadata": {},
   "source": [
    "## Loading the data "
   ]
  },
  {
   "cell_type": "code",
   "execution_count": 9,
   "metadata": {
    "execution": {
     "iopub.execute_input": "2020-10-18T07:57:29.371744Z",
     "iopub.status.busy": "2020-10-18T07:57:29.370814Z",
     "iopub.status.idle": "2020-10-18T07:57:29.375224Z",
     "shell.execute_reply": "2020-10-18T07:57:29.374676Z"
    }
   },
   "outputs": [],
   "source": [
    "from qcodes.dataset.data_set import load_by_id\n",
    "from qcodes.dataset.data_export import get_data_by_id"
   ]
  },
  {
   "cell_type": "markdown",
   "metadata": {},
   "source": [
    "As usual you can load the data by using the ``load_by_id`` function but you will notice that the different storage methods\n",
    "are reflected in shape of the data as it is retrieved. "
   ]
  },
  {
   "cell_type": "code",
   "execution_count": 10,
   "metadata": {
    "execution": {
     "iopub.execute_input": "2020-10-18T07:57:29.380040Z",
     "iopub.status.busy": "2020-10-18T07:57:29.378867Z",
     "iopub.status.idle": "2020-10-18T07:57:29.380579Z",
     "shell.execute_reply": "2020-10-18T07:57:29.381094Z"
    }
   },
   "outputs": [],
   "source": [
    "run_id_n = t_numeric_run_ids[0]\n",
    "run_id_a = t_array_run_ids[0]"
   ]
  },
  {
   "cell_type": "code",
   "execution_count": 11,
   "metadata": {
    "execution": {
     "iopub.execute_input": "2020-10-18T07:57:29.384715Z",
     "iopub.status.busy": "2020-10-18T07:57:29.384072Z",
     "iopub.status.idle": "2020-10-18T07:57:29.393587Z",
     "shell.execute_reply": "2020-10-18T07:57:29.394161Z"
    },
    "scrolled": true
   },
   "outputs": [
    {
     "data": {
      "text/plain": [
       "{'x1': {'x1': array([0.51061192, 0.51061192, 0.71729637, 0.71729637, 0.45229704,\n",
       "         0.45229704, 0.22615894, 0.22615894, 0.2371983 , 0.2371983 ,\n",
       "         0.95838434, 0.95838434, 0.62464239, 0.62464239, 0.58420231,\n",
       "         0.58420231, 0.91953426, 0.91953426, 0.93462561, 0.93462561,\n",
       "         0.94419521, 0.94419521, 0.83881846, 0.83881846, 0.44083671,\n",
       "         0.44083671, 0.11329788, 0.11329788, 0.74441487, 0.74441487,\n",
       "         0.31967589, 0.31967589, 0.30044365, 0.30044365, 0.04239833,\n",
       "         0.04239833, 0.4124409 , 0.4124409 , 0.82866875, 0.82866875,\n",
       "         0.7289145 , 0.7289145 , 0.30445971, 0.30445971, 0.33687099,\n",
       "         0.33687099, 0.2666502 , 0.2666502 , 0.74630162, 0.74630162,\n",
       "         0.79848609, 0.79848609, 0.83561806, 0.83561806, 0.60293002,\n",
       "         0.60293002, 0.76032324, 0.76032324, 0.47335732, 0.47335732,\n",
       "         0.03959896, 0.03959896, 0.97151978, 0.97151978, 0.70933942,\n",
       "         0.70933942, 0.87515696, 0.87515696, 0.21279296, 0.21279296,\n",
       "         0.216092  , 0.216092  , 0.06296197, 0.06296197, 0.63704731,\n",
       "         0.63704731, 0.22366545, 0.22366545, 0.45556257, 0.45556257,\n",
       "         0.81759448, 0.81759448, 0.01941006, 0.01941006, 0.91022322,\n",
       "         0.91022322, 0.64760996, 0.64760996, 0.46806363, 0.46806363,\n",
       "         0.85961896, 0.85961896, 0.6418696 , 0.6418696 , 0.86665781,\n",
       "         0.86665781, 0.49095905, 0.49095905, 0.26600337, 0.26600337,\n",
       "         0.87781487, 0.87781487, 0.57157416, 0.57157416, 0.44447358,\n",
       "         0.44447358, 0.70999446, 0.70999446, 0.5956931 , 0.5956931 ,\n",
       "         0.3872565 , 0.3872565 , 0.33342092, 0.33342092, 0.44742546,\n",
       "         0.44742546, 0.12660366, 0.12660366, 0.83582156, 0.83582156,\n",
       "         0.82478336, 0.82478336, 0.34765191, 0.34765191, 0.54219268,\n",
       "         0.54219268, 0.9390304 , 0.9390304 , 0.32198376, 0.32198376,\n",
       "         0.12439768, 0.12439768, 0.876086  , 0.876086  , 0.81180612,\n",
       "         0.81180612, 0.06224004, 0.06224004, 0.05968428, 0.05968428,\n",
       "         0.82562408, 0.82562408, 0.73010288, 0.73010288, 0.07661838,\n",
       "         0.07661838, 0.65648479, 0.65648479, 0.14946617, 0.14946617,\n",
       "         0.25764374, 0.25764374, 0.16700103, 0.16700103, 0.56569364,\n",
       "         0.56569364, 0.89634874, 0.89634874, 0.24579146, 0.24579146,\n",
       "         0.37626101, 0.37626101, 0.72576842, 0.72576842, 0.35155472,\n",
       "         0.35155472, 0.0293908 , 0.0293908 , 0.5935372 , 0.5935372 ,\n",
       "         0.5667367 , 0.5667367 , 0.9222298 , 0.9222298 , 0.17019703,\n",
       "         0.17019703, 0.03391583, 0.03391583, 0.56170076, 0.56170076,\n",
       "         0.75960363, 0.75960363, 0.27251051, 0.27251051, 0.52230375,\n",
       "         0.52230375, 0.73825992, 0.73825992, 0.95799847, 0.95799847,\n",
       "         0.73788143, 0.73788143, 0.54751209, 0.54751209, 0.75332918,\n",
       "         0.75332918, 0.61931983, 0.61931983, 0.33209244, 0.33209244])}}"
      ]
     },
     "execution_count": 1,
     "metadata": {},
     "output_type": "execute_result"
    }
   ],
   "source": [
    "ds = load_by_id(run_id_n)\n",
    "ds.get_parameter_data('x1')"
   ]
  },
  {
   "cell_type": "markdown",
   "metadata": {},
   "source": [
    "And a dataset stored as binary arrays"
   ]
  },
  {
   "cell_type": "code",
   "execution_count": 12,
   "metadata": {
    "execution": {
     "iopub.execute_input": "2020-10-18T07:57:29.397254Z",
     "iopub.status.busy": "2020-10-18T07:57:29.396738Z",
     "iopub.status.idle": "2020-10-18T07:57:29.457518Z",
     "shell.execute_reply": "2020-10-18T07:57:29.458487Z"
    },
    "scrolled": true
   },
   "outputs": [
    {
     "data": {
      "text/plain": [
       "{'x1': {'x1': array([[0.24011805],\n",
       "         [0.24011805],\n",
       "         [0.74550064],\n",
       "         [0.74550064],\n",
       "         [0.54213808],\n",
       "         [0.54213808],\n",
       "         [0.66984247],\n",
       "         [0.66984247],\n",
       "         [0.50178571],\n",
       "         [0.50178571],\n",
       "         [0.2642074 ],\n",
       "         [0.2642074 ],\n",
       "         [0.46441032],\n",
       "         [0.46441032],\n",
       "         [0.81297052],\n",
       "         [0.81297052],\n",
       "         [0.50217543],\n",
       "         [0.50217543],\n",
       "         [0.23975363],\n",
       "         [0.23975363],\n",
       "         [0.36799875],\n",
       "         [0.36799875],\n",
       "         [0.72182344],\n",
       "         [0.72182344],\n",
       "         [0.14574363],\n",
       "         [0.14574363],\n",
       "         [0.30568106],\n",
       "         [0.30568106],\n",
       "         [0.06597012],\n",
       "         [0.06597012],\n",
       "         [0.4003379 ],\n",
       "         [0.4003379 ],\n",
       "         [0.92298666],\n",
       "         [0.92298666],\n",
       "         [0.38497106],\n",
       "         [0.38497106],\n",
       "         [0.57804344],\n",
       "         [0.57804344],\n",
       "         [0.40648055],\n",
       "         [0.40648055],\n",
       "         [0.78558077],\n",
       "         [0.78558077],\n",
       "         [0.38517785],\n",
       "         [0.38517785],\n",
       "         [0.69676195],\n",
       "         [0.69676195],\n",
       "         [0.14044785],\n",
       "         [0.14044785],\n",
       "         [0.02464427],\n",
       "         [0.02464427],\n",
       "         [0.51037296],\n",
       "         [0.51037296],\n",
       "         [0.38826784],\n",
       "         [0.38826784],\n",
       "         [0.51100451],\n",
       "         [0.51100451],\n",
       "         [0.29296805],\n",
       "         [0.29296805],\n",
       "         [0.85208315],\n",
       "         [0.85208315],\n",
       "         [0.63804923],\n",
       "         [0.63804923],\n",
       "         [0.49909392],\n",
       "         [0.49909392],\n",
       "         [0.98820254],\n",
       "         [0.98820254],\n",
       "         [0.48732065],\n",
       "         [0.48732065],\n",
       "         [0.3036679 ],\n",
       "         [0.3036679 ],\n",
       "         [0.26700995],\n",
       "         [0.26700995],\n",
       "         [0.01664888],\n",
       "         [0.01664888],\n",
       "         [0.2679051 ],\n",
       "         [0.2679051 ],\n",
       "         [0.91770725],\n",
       "         [0.91770725],\n",
       "         [0.16833952],\n",
       "         [0.16833952],\n",
       "         [0.84296747],\n",
       "         [0.84296747],\n",
       "         [0.07256537],\n",
       "         [0.07256537],\n",
       "         [0.62966664],\n",
       "         [0.62966664],\n",
       "         [0.19103221],\n",
       "         [0.19103221],\n",
       "         [0.55683613],\n",
       "         [0.55683613],\n",
       "         [0.68810346],\n",
       "         [0.68810346],\n",
       "         [0.21473743],\n",
       "         [0.21473743],\n",
       "         [0.41459211],\n",
       "         [0.41459211],\n",
       "         [0.47478581],\n",
       "         [0.47478581],\n",
       "         [0.35379732],\n",
       "         [0.35379732],\n",
       "         [0.93962785],\n",
       "         [0.93962785],\n",
       "         [0.3270516 ],\n",
       "         [0.3270516 ],\n",
       "         [0.92953694],\n",
       "         [0.92953694],\n",
       "         [0.00490247],\n",
       "         [0.00490247],\n",
       "         [0.26582718],\n",
       "         [0.26582718],\n",
       "         [0.44174971],\n",
       "         [0.44174971],\n",
       "         [0.35903509],\n",
       "         [0.35903509],\n",
       "         [0.846476  ],\n",
       "         [0.846476  ],\n",
       "         [0.82808879],\n",
       "         [0.82808879],\n",
       "         [0.33555502],\n",
       "         [0.33555502],\n",
       "         [0.1988537 ],\n",
       "         [0.1988537 ],\n",
       "         [0.77349751],\n",
       "         [0.77349751],\n",
       "         [0.87444981],\n",
       "         [0.87444981],\n",
       "         [0.01283318],\n",
       "         [0.01283318],\n",
       "         [0.63444354],\n",
       "         [0.63444354],\n",
       "         [0.69471013],\n",
       "         [0.69471013],\n",
       "         [0.79845255],\n",
       "         [0.79845255],\n",
       "         [0.61327476],\n",
       "         [0.61327476],\n",
       "         [0.71935139],\n",
       "         [0.71935139],\n",
       "         [0.29684795],\n",
       "         [0.29684795],\n",
       "         [0.53568105],\n",
       "         [0.53568105],\n",
       "         [0.02823397],\n",
       "         [0.02823397],\n",
       "         [0.62698299],\n",
       "         [0.62698299],\n",
       "         [0.29799089],\n",
       "         [0.29799089],\n",
       "         [0.56749884],\n",
       "         [0.56749884],\n",
       "         [0.5464005 ],\n",
       "         [0.5464005 ],\n",
       "         [0.6039987 ],\n",
       "         [0.6039987 ],\n",
       "         [0.3153965 ],\n",
       "         [0.3153965 ],\n",
       "         [0.3470445 ],\n",
       "         [0.3470445 ],\n",
       "         [0.48988211],\n",
       "         [0.48988211],\n",
       "         [0.48015481],\n",
       "         [0.48015481],\n",
       "         [0.9278701 ],\n",
       "         [0.9278701 ],\n",
       "         [0.53754543],\n",
       "         [0.53754543],\n",
       "         [0.18465075],\n",
       "         [0.18465075],\n",
       "         [0.81638615],\n",
       "         [0.81638615],\n",
       "         [0.23763704],\n",
       "         [0.23763704],\n",
       "         [0.37299592],\n",
       "         [0.37299592],\n",
       "         [0.69832559],\n",
       "         [0.69832559],\n",
       "         [0.33541262],\n",
       "         [0.33541262],\n",
       "         [0.980952  ],\n",
       "         [0.980952  ],\n",
       "         [0.11412755],\n",
       "         [0.11412755],\n",
       "         [0.80365049],\n",
       "         [0.80365049],\n",
       "         [0.71764897],\n",
       "         [0.71764897],\n",
       "         [0.30980612],\n",
       "         [0.30980612],\n",
       "         [0.26262992],\n",
       "         [0.26262992],\n",
       "         [0.85606729],\n",
       "         [0.85606729],\n",
       "         [0.88161977],\n",
       "         [0.88161977],\n",
       "         [0.04340541],\n",
       "         [0.04340541],\n",
       "         [0.82423009],\n",
       "         [0.82423009],\n",
       "         [0.40231475],\n",
       "         [0.40231475]])}}"
      ]
     },
     "execution_count": 1,
     "metadata": {},
     "output_type": "execute_result"
    }
   ],
   "source": [
    "ds = load_by_id(run_id_a)\n",
    "ds.get_parameter_data('x1')"
   ]
  },
  {
   "cell_type": "code",
   "execution_count": null,
   "metadata": {},
   "outputs": [],
   "source": []
  }
 ],
 "metadata": {
  "kernelspec": {
   "display_name": "Python 3",
   "language": "python",
   "name": "python3"
  },
  "language_info": {
   "codemirror_mode": {
    "name": "ipython",
    "version": 3
   },
   "file_extension": ".py",
   "mimetype": "text/x-python",
   "name": "python",
   "nbconvert_exporter": "python",
   "pygments_lexer": "ipython3",
   "version": "3.7.7"
  },
  "nbsphinx": {
   "timeout": 600
  },
  "toc": {
   "base_numbering": 1,
   "nav_menu": {},
   "number_sections": true,
   "sideBar": true,
   "skip_h1_title": false,
   "title_cell": "Table of Contents",
   "title_sidebar": "Contents",
   "toc_cell": false,
   "toc_position": {},
   "toc_section_display": true,
   "toc_window_display": false
  },
  "varInspector": {
   "cols": {
    "lenName": 16,
    "lenType": 16,
    "lenVar": 40
   },
   "kernels_config": {
    "python": {
     "delete_cmd_postfix": "",
     "delete_cmd_prefix": "del ",
     "library": "var_list.py",
     "varRefreshCmd": "print(var_dic_list())"
    },
    "r": {
     "delete_cmd_postfix": ") ",
     "delete_cmd_prefix": "rm(",
     "library": "var_list.r",
     "varRefreshCmd": "cat(var_dic_list()) "
    }
   },
   "types_to_exclude": [
    "module",
    "function",
    "builtin_function_or_method",
    "instance",
    "_Feature"
   ],
   "window_display": false
  }
 },
 "nbformat": 4,
 "nbformat_minor": 2
}
