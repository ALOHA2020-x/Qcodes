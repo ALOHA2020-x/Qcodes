{
 "cells": [
  {
   "cell_type": "markdown",
   "metadata": {},
   "source": [
    "# DataSet Performance\n",
    "\n",
    "This notebook shows the trade-off between inserting data into a database row-by-row and as binary blobs. Inserting the data row-by-row means that we have direct access to all the data and may perform queries directly on the values of the data. On the other hand, as we shall see, this is much slower than inserting the data directly as binary blobs."
   ]
  },
  {
   "cell_type": "markdown",
   "metadata": {},
   "source": [
    "First, we choose a new location for the database to ensure that we don't add a bunch of benchmarking data to the default one."
   ]
  },
  {
   "cell_type": "code",
   "execution_count": 1,
   "metadata": {
    "execution": {
     "iopub.execute_input": "2020-12-10T08:22:21.755535Z",
     "iopub.status.busy": "2020-12-10T08:22:21.754761Z",
     "iopub.status.idle": "2020-12-10T08:22:22.684475Z",
     "shell.execute_reply": "2020-12-10T08:22:22.684898Z"
    }
   },
   "outputs": [
    {
     "name": "stdout",
     "output_type": "stream",
     "text": [
      "Logging hadn't been started.\n",
      "Activating auto-logging. Current session state plus future input saved.\n",
      "Filename       : /home/vsts/.qcodes/logs/command_history.log\n",
      "Mode           : append\n",
      "Output logging : True\n",
      "Raw input log  : False\n",
      "Timestamping   : True\n",
      "State          : active\n"
     ]
    },
    {
     "name": "stdout",
     "output_type": "stream",
     "text": [
      "Qcodes Logfile : /home/vsts/.qcodes/logs/201210-14205-qcodes.log\n"
     ]
    }
   ],
   "source": [
    "import os\n",
    "cwd = os.getcwd()\n",
    "import qcodes as qc\n",
    "qc.config[\"core\"][\"db_location\"] = os.path.join(cwd, 'testing.db')\n"
   ]
  },
  {
   "cell_type": "code",
   "execution_count": 2,
   "metadata": {
    "execution": {
     "iopub.execute_input": "2020-12-10T08:22:22.693874Z",
     "iopub.status.busy": "2020-12-10T08:22:22.690098Z",
     "iopub.status.idle": "2020-12-10T08:22:22.849889Z",
     "shell.execute_reply": "2020-12-10T08:22:22.848994Z"
    }
   },
   "outputs": [],
   "source": [
    "%matplotlib inline\n",
    "import time\n",
    "import matplotlib.pyplot as plt\n",
    "import numpy as np\n",
    "\n",
    "import qcodes as qc\n",
    "from qcodes.instrument.parameter import ManualParameter\n",
    "from qcodes.dataset.experiment_container import (Experiment,\n",
    "                                                 load_last_experiment,\n",
    "                                                 new_experiment)\n",
    "from qcodes.dataset.sqlite.database import initialise_database\n",
    "from qcodes import load_or_create_experiment\n",
    "from qcodes.dataset.measurements import Measurement"
   ]
  },
  {
   "cell_type": "code",
   "execution_count": 3,
   "metadata": {
    "execution": {
     "iopub.execute_input": "2020-12-10T08:22:22.853603Z",
     "iopub.status.busy": "2020-12-10T08:22:22.852783Z",
     "iopub.status.idle": "2020-12-10T08:22:22.947012Z",
     "shell.execute_reply": "2020-12-10T08:22:22.947493Z"
    }
   },
   "outputs": [
    {
     "name": "stdout",
     "output_type": "stream",
     "text": [
      "\r",
      "0it [00:00, ?it/s]"
     ]
    },
    {
     "name": "stdout",
     "output_type": "stream",
     "text": [
      "\r",
      "Upgrading database; v0 -> v1: : 0it [00:00, ?it/s]"
     ]
    },
    {
     "name": "stdout",
     "output_type": "stream",
     "text": [
      "\r",
      "Upgrading database; v0 -> v1: : 0it [00:00, ?it/s]"
     ]
    },
    {
     "name": "stdout",
     "output_type": "stream",
     "text": [
      "\n",
      "\r",
      "  0%|          | 0/1 [00:00<?, ?it/s]"
     ]
    },
    {
     "name": "stdout",
     "output_type": "stream",
     "text": [
      "\r",
      "Upgrading database; v1 -> v2:   0%|          | 0/1 [00:00<?, ?it/s]"
     ]
    },
    {
     "name": "stdout",
     "output_type": "stream",
     "text": [
      "\r",
      "Upgrading database; v1 -> v2: 100%|██████████| 1/1 [00:00<00:00, 1387.01it/s]"
     ]
    },
    {
     "name": "stdout",
     "output_type": "stream",
     "text": [
      "\n",
      "\r",
      "0it [00:00, ?it/s]"
     ]
    },
    {
     "name": "stdout",
     "output_type": "stream",
     "text": [
      "\r",
      "Upgrading database; v2 -> v3: : 0it [00:00, ?it/s]"
     ]
    },
    {
     "name": "stdout",
     "output_type": "stream",
     "text": [
      "\r",
      "Upgrading database; v2 -> v3: : 0it [00:00, ?it/s]"
     ]
    },
    {
     "name": "stdout",
     "output_type": "stream",
     "text": [
      "\n",
      "\r",
      "0it [00:00, ?it/s]"
     ]
    },
    {
     "name": "stdout",
     "output_type": "stream",
     "text": [
      "\r",
      "Upgrading database; v3 -> v4: : 0it [00:00, ?it/s]"
     ]
    },
    {
     "name": "stdout",
     "output_type": "stream",
     "text": [
      "\r",
      "Upgrading database; v3 -> v4: : 0it [00:00, ?it/s]"
     ]
    },
    {
     "name": "stdout",
     "output_type": "stream",
     "text": [
      "\n",
      "\r",
      "  0%|          | 0/1 [00:00<?, ?it/s]"
     ]
    },
    {
     "name": "stdout",
     "output_type": "stream",
     "text": [
      "\r",
      "Upgrading database; v4 -> v5:   0%|          | 0/1 [00:00<?, ?it/s]"
     ]
    },
    {
     "name": "stdout",
     "output_type": "stream",
     "text": [
      "\r",
      "Upgrading database; v4 -> v5: 100%|██████████| 1/1 [00:00<00:00, 705.04it/s]"
     ]
    },
    {
     "name": "stdout",
     "output_type": "stream",
     "text": [
      "\n",
      "\r",
      "0it [00:00, ?it/s]"
     ]
    },
    {
     "name": "stdout",
     "output_type": "stream",
     "text": [
      "\r",
      "Upgrading database; v5 -> v6: : 0it [00:00, ?it/s]"
     ]
    },
    {
     "name": "stdout",
     "output_type": "stream",
     "text": [
      "\r",
      "Upgrading database; v5 -> v6: : 0it [00:00, ?it/s]"
     ]
    },
    {
     "name": "stdout",
     "output_type": "stream",
     "text": [
      "\n",
      "\r",
      "  0%|          | 0/1 [00:00<?, ?it/s]"
     ]
    },
    {
     "name": "stdout",
     "output_type": "stream",
     "text": [
      "\r",
      "Upgrading database; v6 -> v7:   0%|          | 0/1 [00:00<?, ?it/s]"
     ]
    },
    {
     "name": "stdout",
     "output_type": "stream",
     "text": [
      "\r",
      "Upgrading database; v6 -> v7: 100%|██████████| 1/1 [00:00<00:00, 311.91it/s]"
     ]
    },
    {
     "name": "stdout",
     "output_type": "stream",
     "text": [
      "\n",
      "\r",
      "  0%|          | 0/1 [00:00<?, ?it/s]"
     ]
    },
    {
     "name": "stdout",
     "output_type": "stream",
     "text": [
      "\r",
      "Upgrading database; v7 -> v8:   0%|          | 0/1 [00:00<?, ?it/s]"
     ]
    },
    {
     "name": "stdout",
     "output_type": "stream",
     "text": [
      "\r",
      "Upgrading database; v7 -> v8: 100%|██████████| 1/1 [00:00<00:00, 581.90it/s]"
     ]
    },
    {
     "name": "stdout",
     "output_type": "stream",
     "text": [
      "\n",
      "\r",
      "  0%|          | 0/1 [00:00<?, ?it/s]"
     ]
    },
    {
     "name": "stdout",
     "output_type": "stream",
     "text": [
      "\r",
      "Upgrading database; v8 -> v9:   0%|          | 0/1 [00:00<?, ?it/s]"
     ]
    },
    {
     "name": "stdout",
     "output_type": "stream",
     "text": [
      "\r",
      "Upgrading database; v8 -> v9: 100%|██████████| 1/1 [00:00<00:00, 526.33it/s]"
     ]
    },
    {
     "name": "stdout",
     "output_type": "stream",
     "text": [
      "\n"
     ]
    }
   ],
   "source": [
    "initialise_database()\n",
    "exp = load_or_create_experiment(experiment_name='tutorial_exp', sample_name=\"no sample\")"
   ]
  },
  {
   "cell_type": "markdown",
   "metadata": {},
   "source": [
    "Here, we define a simple function to benchmark the time it takes to insert n points with either numeric or array data type.\n",
    "We will compare both the time used to call ``add_result`` and the time used for the full measurement."
   ]
  },
  {
   "cell_type": "code",
   "execution_count": 4,
   "metadata": {
    "execution": {
     "iopub.execute_input": "2020-12-10T08:22:22.954821Z",
     "iopub.status.busy": "2020-12-10T08:22:22.954314Z",
     "iopub.status.idle": "2020-12-10T08:22:22.957561Z",
     "shell.execute_reply": "2020-12-10T08:22:22.957085Z"
    }
   },
   "outputs": [],
   "source": [
    "def insert_data(paramtype, npoints, nreps=1):\n",
    "\n",
    "    meas = Measurement(exp=exp)\n",
    "\n",
    "    x1 = ManualParameter('x1')\n",
    "    x2 = ManualParameter('x2')\n",
    "    x3 = ManualParameter('x3')\n",
    "    y1 = ManualParameter('y1')\n",
    "    y2 = ManualParameter('y2')\n",
    "\n",
    "    meas.register_parameter(x1, paramtype=paramtype)\n",
    "    meas.register_parameter(x2, paramtype=paramtype)\n",
    "    meas.register_parameter(x3, paramtype=paramtype)\n",
    "    meas.register_parameter(y1, setpoints=[x1, x2, x3],\n",
    "                            paramtype=paramtype)\n",
    "    meas.register_parameter(y2, setpoints=[x1, x2, x3],\n",
    "                            paramtype=paramtype)\n",
    "    start = time.perf_counter()\n",
    "    with meas.run() as datasaver:\n",
    "        start_adding = time.perf_counter()\n",
    "        for i in range(nreps):\n",
    "            datasaver.add_result((x1, np.random.rand(npoints)),\n",
    "                                 (x2, np.random.rand(npoints)),\n",
    "                                 (x3, np.random.rand(npoints)),\n",
    "                                 (y1, np.random.rand(npoints)),\n",
    "                                 (y2, np.random.rand(npoints)))\n",
    "        stop_adding = time.perf_counter()\n",
    "        run_id = datasaver.run_id\n",
    "    stop = time.perf_counter()\n",
    "    tot_time = stop - start\n",
    "    add_time = stop_adding - start_adding\n",
    "    return tot_time, add_time, run_id"
   ]
  },
  {
   "cell_type": "markdown",
   "metadata": {},
   "source": [
    "## Comparison between numeric/array data and binary blob"
   ]
  },
  {
   "cell_type": "markdown",
   "metadata": {},
   "source": [
    "### Case1: Short experiment time"
   ]
  },
  {
   "cell_type": "code",
   "execution_count": 5,
   "metadata": {
    "execution": {
     "iopub.execute_input": "2020-12-10T08:22:22.962021Z",
     "iopub.status.busy": "2020-12-10T08:22:22.961562Z",
     "iopub.status.idle": "2020-12-10T08:22:23.672771Z",
     "shell.execute_reply": "2020-12-10T08:22:23.671966Z"
    }
   },
   "outputs": [
    {
     "name": "stdout",
     "output_type": "stream",
     "text": [
      "Starting experimental run with id: 1. \n",
      "Starting experimental run with id: 2. \n",
      "Starting experimental run with id: 3. \n",
      "Starting experimental run with id: 4. \n",
      "Starting experimental run with id: 5. \n"
     ]
    },
    {
     "name": "stdout",
     "output_type": "stream",
     "text": [
      "Starting experimental run with id: 6. \n"
     ]
    },
    {
     "name": "stdout",
     "output_type": "stream",
     "text": [
      "Starting experimental run with id: 7. "
     ]
    },
    {
     "name": "stdout",
     "output_type": "stream",
     "text": [
      "\n"
     ]
    },
    {
     "name": "stdout",
     "output_type": "stream",
     "text": [
      "Starting experimental run with id: 8. \n",
      "Starting experimental run with id: 9. \n"
     ]
    },
    {
     "name": "stdout",
     "output_type": "stream",
     "text": [
      "Starting experimental run with id: 10. \n"
     ]
    },
    {
     "name": "stdout",
     "output_type": "stream",
     "text": [
      "Starting experimental run with id: 11. \n"
     ]
    },
    {
     "name": "stdout",
     "output_type": "stream",
     "text": [
      "Starting experimental run with id: 12. \n",
      "Starting experimental run with id: 13. \n"
     ]
    },
    {
     "name": "stdout",
     "output_type": "stream",
     "text": [
      "Starting experimental run with id: 14. \n"
     ]
    }
   ],
   "source": [
    "sizes = [1,500,1000,2000,3000,4000,5000]\n",
    "t_numeric = []\n",
    "t_numeric_add = []\n",
    "t_array = []\n",
    "t_array_add = []\n",
    "for size in sizes:\n",
    "    tn, tna, run_id_n =  insert_data('numeric', size)\n",
    "    t_numeric.append(tn)\n",
    "    t_numeric_add.append(tna)\n",
    "\n",
    "    ta, taa, run_id_a =  insert_data('array', size)\n",
    "    t_array.append(ta)\n",
    "    t_array_add.append(taa)"
   ]
  },
  {
   "cell_type": "code",
   "execution_count": 6,
   "metadata": {
    "execution": {
     "iopub.execute_input": "2020-12-10T08:22:23.695561Z",
     "iopub.status.busy": "2020-12-10T08:22:23.693268Z",
     "iopub.status.idle": "2020-12-10T08:22:23.903385Z",
     "shell.execute_reply": "2020-12-10T08:22:23.902684Z"
    }
   },
   "outputs": [
    {
     "data": {
      "image/png": "[encoded data removed]",
      "text/plain": [
       "<Figure size 432x288 with 1 Axes>"
      ]
     },
     "metadata": {
      "needs_background": "light"
     },
     "output_type": "display_data"
    }
   ],
   "source": [
    "fig, ax = plt.subplots(1,1)\n",
    "ax.plot(sizes, t_numeric, 'o-', label='Inserting row-by-row')\n",
    "ax.plot(sizes, t_numeric_add, 'o-', label='Inserting row-by-row: add_result only')\n",
    "ax.plot(sizes, t_array, 'd-', label='Inserting as binary blob')\n",
    "ax.plot(sizes, t_array_add, 'd-', label='Inserting as binary blob: add_result only')\n",
    "ax.legend()\n",
    "ax.set_xlabel('Array length')\n",
    "ax.set_ylabel('Time (s)')\n",
    "fig.tight_layout()"
   ]
  },
  {
   "cell_type": "markdown",
   "metadata": {},
   "source": [
    "As shown in the latter figure, the time to setup and and close the experiment is approximately 0.4 sec. In case of small array sizes, the difference between inserting values of data as arrays and inserting them row-by-row is relatively unimportant. At larger array sizes, i.e. above 10000 points, the cost of writing data as individual datapoints starts to become important.\n"
   ]
  },
  {
   "cell_type": "markdown",
   "metadata": {},
   "source": [
    "### Case2: Long experiment time "
   ]
  },
  {
   "cell_type": "code",
   "execution_count": 7,
   "metadata": {
    "execution": {
     "iopub.execute_input": "2020-12-10T08:22:23.909273Z",
     "iopub.status.busy": "2020-12-10T08:22:23.908416Z",
     "iopub.status.idle": "2020-12-10T08:23:15.269068Z",
     "shell.execute_reply": "2020-12-10T08:23:15.268598Z"
    }
   },
   "outputs": [
    {
     "name": "stdout",
     "output_type": "stream",
     "text": [
      "Starting experimental run with id: 15. \n",
      "Starting experimental run with id: 16. \n",
      "Starting experimental run with id: 17. \n"
     ]
    },
    {
     "name": "stdout",
     "output_type": "stream",
     "text": [
      "Starting experimental run with id: 18. \n",
      "Starting experimental run with id: 19. \n"
     ]
    },
    {
     "name": "stdout",
     "output_type": "stream",
     "text": [
      "Starting experimental run with id: 20. \n"
     ]
    },
    {
     "name": "stdout",
     "output_type": "stream",
     "text": [
      "Starting experimental run with id: 21. \n"
     ]
    },
    {
     "name": "stdout",
     "output_type": "stream",
     "text": [
      "Starting experimental run with id: 22. \n"
     ]
    },
    {
     "name": "stdout",
     "output_type": "stream",
     "text": [
      "Starting experimental run with id: 23. \n"
     ]
    },
    {
     "name": "stdout",
     "output_type": "stream",
     "text": [
      "Starting experimental run with id: 24. \n"
     ]
    },
    {
     "name": "stdout",
     "output_type": "stream",
     "text": [
      "Starting experimental run with id: 25. \n"
     ]
    },
    {
     "name": "stdout",
     "output_type": "stream",
     "text": [
      "Starting experimental run with id: 26. \n"
     ]
    },
    {
     "name": "stdout",
     "output_type": "stream",
     "text": [
      "Starting experimental run with id: 27. \n"
     ]
    },
    {
     "name": "stdout",
     "output_type": "stream",
     "text": [
      "Starting experimental run with id: 28. \n"
     ]
    }
   ],
   "source": [
    "sizes = [1,500,1000,2000,3000,4000,5000]\n",
    "nreps = 100\n",
    "t_numeric = []\n",
    "t_numeric_add = []\n",
    "t_numeric_run_ids = []\n",
    "t_array = []\n",
    "t_array_add = []\n",
    "t_array_run_ids = []\n",
    "for size in sizes:\n",
    "    tn, tna, run_id_n =  insert_data('numeric', size, nreps=nreps)\n",
    "    t_numeric.append(tn)\n",
    "    t_numeric_add.append(tna)\n",
    "    t_numeric_run_ids.append(run_id_n)\n",
    "\n",
    "    ta, taa, run_id_a =  insert_data('array', size, nreps=nreps)\n",
    "    t_array.append(ta)\n",
    "    t_array_add.append(taa)\n",
    "    t_array_run_ids.append(run_id_a)"
   ]
  },
  {
   "cell_type": "code",
   "execution_count": 8,
   "metadata": {
    "execution": {
     "iopub.execute_input": "2020-12-10T08:23:15.287737Z",
     "iopub.status.busy": "2020-12-10T08:23:15.285594Z",
     "iopub.status.idle": "2020-12-10T08:23:15.485097Z",
     "shell.execute_reply": "2020-12-10T08:23:15.484675Z"
    },
    "scrolled": true
   },
   "outputs": [
    {
     "data": {
      "image/png": "[encoded data removed]",
      "text/plain": [
       "<Figure size 432x288 with 1 Axes>"
      ]
     },
     "metadata": {
      "needs_background": "light"
     },
     "output_type": "display_data"
    }
   ],
   "source": [
    "fig, ax = plt.subplots(1,1)\n",
    "ax.plot(sizes, t_numeric, 'o-', label='Inserting row-by-row')\n",
    "ax.plot(sizes, t_numeric_add, 'o-', label='Inserting row-by-row: add_result only')\n",
    "ax.plot(sizes, t_array, 'd-', label='Inserting as binary blob')\n",
    "ax.plot(sizes, t_array_add, 'd-', label='Inserting as binary blob: add_result only')\n",
    "ax.legend()\n",
    "ax.set_xlabel('Array length')\n",
    "ax.set_ylabel('Time (s)')\n",
    "fig.tight_layout()"
   ]
  },
  {
   "cell_type": "markdown",
   "metadata": {},
   "source": [
    "However, as we increase the length of the experiment, as seen here by repeating the insertion 100 times, we see a big difference between inserting values of the data row-by-row and inserting it as a binary blob."
   ]
  },
  {
   "cell_type": "markdown",
   "metadata": {},
   "source": [
    "## Loading the data "
   ]
  },
  {
   "cell_type": "code",
   "execution_count": 9,
   "metadata": {
    "execution": {
     "iopub.execute_input": "2020-12-10T08:23:15.488764Z",
     "iopub.status.busy": "2020-12-10T08:23:15.487931Z",
     "iopub.status.idle": "2020-12-10T08:23:15.491033Z",
     "shell.execute_reply": "2020-12-10T08:23:15.491552Z"
    }
   },
   "outputs": [],
   "source": [
    "from qcodes.dataset.data_set import load_by_id\n",
    "from qcodes.dataset.data_export import get_data_by_id"
   ]
  },
  {
   "cell_type": "markdown",
   "metadata": {},
   "source": [
    "As usual you can load the data by using the ``load_by_id`` function but you will notice that the different storage methods\n",
    "are reflected in shape of the data as it is retrieved. "
   ]
  },
  {
   "cell_type": "code",
   "execution_count": 10,
   "metadata": {
    "execution": {
     "iopub.execute_input": "2020-12-10T08:23:15.495231Z",
     "iopub.status.busy": "2020-12-10T08:23:15.494552Z",
     "iopub.status.idle": "2020-12-10T08:23:15.496862Z",
     "shell.execute_reply": "2020-12-10T08:23:15.496397Z"
    }
   },
   "outputs": [],
   "source": [
    "run_id_n = t_numeric_run_ids[0]\n",
    "run_id_a = t_array_run_ids[0]"
   ]
  },
  {
   "cell_type": "code",
   "execution_count": 11,
   "metadata": {
    "execution": {
     "iopub.execute_input": "2020-12-10T08:23:15.499571Z",
     "iopub.status.busy": "2020-12-10T08:23:15.499115Z",
     "iopub.status.idle": "2020-12-10T08:23:15.507840Z",
     "shell.execute_reply": "2020-12-10T08:23:15.508295Z"
    },
    "scrolled": true
   },
   "outputs": [
    {
     "data": {
      "text/plain": [
       "{'x1': {'x1': array([0.52253188, 0.52253188, 0.29562215, 0.29562215, 0.8321293 ,\n",
       "         0.8321293 , 0.23980756, 0.23980756, 0.5961008 , 0.5961008 ,\n",
       "         0.04152726, 0.04152726, 0.05397753, 0.05397753, 0.77185045,\n",
       "         0.77185045, 0.91049112, 0.91049112, 0.42184991, 0.42184991,\n",
       "         0.65115506, 0.65115506, 0.3499454 , 0.3499454 , 0.5255368 ,\n",
       "         0.5255368 , 0.56478302, 0.56478302, 0.16450859, 0.16450859,\n",
       "         0.56124132, 0.56124132, 0.42743886, 0.42743886, 0.43593143,\n",
       "         0.43593143, 0.96526286, 0.96526286, 0.37344423, 0.37344423,\n",
       "         0.12111866, 0.12111866, 0.96562327, 0.96562327, 0.8364013 ,\n",
       "         0.8364013 , 0.62862683, 0.62862683, 0.80126257, 0.80126257,\n",
       "         0.76979477, 0.76979477, 0.96589068, 0.96589068, 0.511265  ,\n",
       "         0.511265  , 0.21084993, 0.21084993, 0.29097397, 0.29097397,\n",
       "         0.01190897, 0.01190897, 0.54147158, 0.54147158, 0.66211996,\n",
       "         0.66211996, 0.7631052 , 0.7631052 , 0.53731024, 0.53731024,\n",
       "         0.72259789, 0.72259789, 0.6257282 , 0.6257282 , 0.95283056,\n",
       "         0.95283056, 0.84416718, 0.84416718, 0.66427556, 0.66427556,\n",
       "         0.95049249, 0.95049249, 0.11673388, 0.11673388, 0.1750349 ,\n",
       "         0.1750349 , 0.3856994 , 0.3856994 , 0.91006057, 0.91006057,\n",
       "         0.34011538, 0.34011538, 0.60278596, 0.60278596, 0.81356696,\n",
       "         0.81356696, 0.31341714, 0.31341714, 0.35066256, 0.35066256,\n",
       "         0.7396217 , 0.7396217 , 0.11034385, 0.11034385, 0.81104886,\n",
       "         0.81104886, 0.73331737, 0.73331737, 0.08829657, 0.08829657,\n",
       "         0.50174922, 0.50174922, 0.79019069, 0.79019069, 0.17517776,\n",
       "         0.17517776, 0.67879861, 0.67879861, 0.88424227, 0.88424227,\n",
       "         0.600638  , 0.600638  , 0.87667212, 0.87667212, 0.1777643 ,\n",
       "         0.1777643 , 0.78485393, 0.78485393, 0.04675197, 0.04675197,\n",
       "         0.47441812, 0.47441812, 0.57500581, 0.57500581, 0.99448612,\n",
       "         0.99448612, 0.24906583, 0.24906583, 0.81835754, 0.81835754,\n",
       "         0.07933632, 0.07933632, 0.25202587, 0.25202587, 0.07509416,\n",
       "         0.07509416, 0.75508576, 0.75508576, 0.88093078, 0.88093078,\n",
       "         0.16247779, 0.16247779, 0.10932374, 0.10932374, 0.15197124,\n",
       "         0.15197124, 0.06976114, 0.06976114, 0.01081604, 0.01081604,\n",
       "         0.68496329, 0.68496329, 0.34826289, 0.34826289, 0.22322008,\n",
       "         0.22322008, 0.32964512, 0.32964512, 0.77740935, 0.77740935,\n",
       "         0.56243039, 0.56243039, 0.19707788, 0.19707788, 0.17374724,\n",
       "         0.17374724, 0.17329042, 0.17329042, 0.88229769, 0.88229769,\n",
       "         0.91530906, 0.91530906, 0.8106839 , 0.8106839 , 0.07101113,\n",
       "         0.07101113, 0.40838548, 0.40838548, 0.91229063, 0.91229063,\n",
       "         0.09952697, 0.09952697, 0.25352237, 0.25352237, 0.1374548 ,\n",
       "         0.1374548 , 0.79653294, 0.79653294, 0.4771538 , 0.4771538 ])}}"
      ]
     },
     "execution_count": 1,
     "metadata": {},
     "output_type": "execute_result"
    }
   ],
   "source": [
    "ds = load_by_id(run_id_n)\n",
    "ds.get_parameter_data('x1')"
   ]
  },
  {
   "cell_type": "markdown",
   "metadata": {},
   "source": [
    "And a dataset stored as binary arrays"
   ]
  },
  {
   "cell_type": "code",
   "execution_count": 12,
   "metadata": {
    "execution": {
     "iopub.execute_input": "2020-12-10T08:23:15.511094Z",
     "iopub.status.busy": "2020-12-10T08:23:15.510594Z",
     "iopub.status.idle": "2020-12-10T08:23:15.564757Z",
     "shell.execute_reply": "2020-12-10T08:23:15.564242Z"
    },
    "scrolled": true
   },
   "outputs": [
    {
     "data": {
      "text/plain": [
       "{'x1': {'x1': array([[0.8681259 ],\n",
       "         [0.8681259 ],\n",
       "         [0.95440543],\n",
       "         [0.95440543],\n",
       "         [0.45029163],\n",
       "         [0.45029163],\n",
       "         [0.65264575],\n",
       "         [0.65264575],\n",
       "         [0.24021681],\n",
       "         [0.24021681],\n",
       "         [0.44231908],\n",
       "         [0.44231908],\n",
       "         [0.23428401],\n",
       "         [0.23428401],\n",
       "         [0.96032775],\n",
       "         [0.96032775],\n",
       "         [0.4469899 ],\n",
       "         [0.4469899 ],\n",
       "         [0.44453074],\n",
       "         [0.44453074],\n",
       "         [0.20557743],\n",
       "         [0.20557743],\n",
       "         [0.16869741],\n",
       "         [0.16869741],\n",
       "         [0.14091813],\n",
       "         [0.14091813],\n",
       "         [0.49412648],\n",
       "         [0.49412648],\n",
       "         [0.1949155 ],\n",
       "         [0.1949155 ],\n",
       "         [0.5570367 ],\n",
       "         [0.5570367 ],\n",
       "         [0.82041849],\n",
       "         [0.82041849],\n",
       "         [0.19179323],\n",
       "         [0.19179323],\n",
       "         [0.53942548],\n",
       "         [0.53942548],\n",
       "         [0.51374164],\n",
       "         [0.51374164],\n",
       "         [0.87052109],\n",
       "         [0.87052109],\n",
       "         [0.1107188 ],\n",
       "         [0.1107188 ],\n",
       "         [0.4997276 ],\n",
       "         [0.4997276 ],\n",
       "         [0.94874938],\n",
       "         [0.94874938],\n",
       "         [0.13375619],\n",
       "         [0.13375619],\n",
       "         [0.98552061],\n",
       "         [0.98552061],\n",
       "         [0.31038734],\n",
       "         [0.31038734],\n",
       "         [0.07925187],\n",
       "         [0.07925187],\n",
       "         [0.24734725],\n",
       "         [0.24734725],\n",
       "         [0.71284577],\n",
       "         [0.71284577],\n",
       "         [0.31104104],\n",
       "         [0.31104104],\n",
       "         [0.67778688],\n",
       "         [0.67778688],\n",
       "         [0.61663577],\n",
       "         [0.61663577],\n",
       "         [0.82443786],\n",
       "         [0.82443786],\n",
       "         [0.53745054],\n",
       "         [0.53745054],\n",
       "         [0.80433792],\n",
       "         [0.80433792],\n",
       "         [0.42551778],\n",
       "         [0.42551778],\n",
       "         [0.13162641],\n",
       "         [0.13162641],\n",
       "         [0.30226746],\n",
       "         [0.30226746],\n",
       "         [0.1446719 ],\n",
       "         [0.1446719 ],\n",
       "         [0.83855945],\n",
       "         [0.83855945],\n",
       "         [0.03790258],\n",
       "         [0.03790258],\n",
       "         [0.36799902],\n",
       "         [0.36799902],\n",
       "         [0.45075052],\n",
       "         [0.45075052],\n",
       "         [0.92639583],\n",
       "         [0.92639583],\n",
       "         [0.87189024],\n",
       "         [0.87189024],\n",
       "         [0.83397164],\n",
       "         [0.83397164],\n",
       "         [0.34191946],\n",
       "         [0.34191946],\n",
       "         [0.07455521],\n",
       "         [0.07455521],\n",
       "         [0.38775432],\n",
       "         [0.38775432],\n",
       "         [0.06426921],\n",
       "         [0.06426921],\n",
       "         [0.36586291],\n",
       "         [0.36586291],\n",
       "         [0.49528322],\n",
       "         [0.49528322],\n",
       "         [0.5823568 ],\n",
       "         [0.5823568 ],\n",
       "         [0.33120162],\n",
       "         [0.33120162],\n",
       "         [0.05327855],\n",
       "         [0.05327855],\n",
       "         [0.41439646],\n",
       "         [0.41439646],\n",
       "         [0.78189218],\n",
       "         [0.78189218],\n",
       "         [0.31572117],\n",
       "         [0.31572117],\n",
       "         [0.58731265],\n",
       "         [0.58731265],\n",
       "         [0.97095375],\n",
       "         [0.97095375],\n",
       "         [0.94629229],\n",
       "         [0.94629229],\n",
       "         [0.2478344 ],\n",
       "         [0.2478344 ],\n",
       "         [0.56144996],\n",
       "         [0.56144996],\n",
       "         [0.64038386],\n",
       "         [0.64038386],\n",
       "         [0.33104254],\n",
       "         [0.33104254],\n",
       "         [0.46458727],\n",
       "         [0.46458727],\n",
       "         [0.09697466],\n",
       "         [0.09697466],\n",
       "         [0.31701909],\n",
       "         [0.31701909],\n",
       "         [0.0332109 ],\n",
       "         [0.0332109 ],\n",
       "         [0.65663925],\n",
       "         [0.65663925],\n",
       "         [0.02858847],\n",
       "         [0.02858847],\n",
       "         [0.0866083 ],\n",
       "         [0.0866083 ],\n",
       "         [0.12986775],\n",
       "         [0.12986775],\n",
       "         [0.19013575],\n",
       "         [0.19013575],\n",
       "         [0.28498298],\n",
       "         [0.28498298],\n",
       "         [0.33923747],\n",
       "         [0.33923747],\n",
       "         [0.90226365],\n",
       "         [0.90226365],\n",
       "         [0.32279843],\n",
       "         [0.32279843],\n",
       "         [0.76937032],\n",
       "         [0.76937032],\n",
       "         [0.32682242],\n",
       "         [0.32682242],\n",
       "         [0.18653522],\n",
       "         [0.18653522],\n",
       "         [0.24162334],\n",
       "         [0.24162334],\n",
       "         [0.67367507],\n",
       "         [0.67367507],\n",
       "         [0.10453327],\n",
       "         [0.10453327],\n",
       "         [0.14256673],\n",
       "         [0.14256673],\n",
       "         [0.27707607],\n",
       "         [0.27707607],\n",
       "         [0.663069  ],\n",
       "         [0.663069  ],\n",
       "         [0.47559966],\n",
       "         [0.47559966],\n",
       "         [0.08821058],\n",
       "         [0.08821058],\n",
       "         [0.66587612],\n",
       "         [0.66587612],\n",
       "         [0.05295823],\n",
       "         [0.05295823],\n",
       "         [0.61000915],\n",
       "         [0.61000915],\n",
       "         [0.18363607],\n",
       "         [0.18363607],\n",
       "         [0.92259285],\n",
       "         [0.92259285],\n",
       "         [0.92797428],\n",
       "         [0.92797428],\n",
       "         [0.82897081],\n",
       "         [0.82897081],\n",
       "         [0.22139718],\n",
       "         [0.22139718],\n",
       "         [0.97345379],\n",
       "         [0.97345379],\n",
       "         [0.86915921],\n",
       "         [0.86915921]])}}"
      ]
     },
     "execution_count": 1,
     "metadata": {},
     "output_type": "execute_result"
    }
   ],
   "source": [
    "ds = load_by_id(run_id_a)\n",
    "ds.get_parameter_data('x1')"
   ]
  },
  {
   "cell_type": "code",
   "execution_count": null,
   "metadata": {},
   "outputs": [],
   "source": []
  }
 ],
 "metadata": {
  "kernelspec": {
   "display_name": "Python 3",
   "language": "python",
   "name": "python3"
  },
  "language_info": {
   "codemirror_mode": {
    "name": "ipython",
    "version": 3
   },
   "file_extension": ".py",
   "mimetype": "text/x-python",
   "name": "python",
   "nbconvert_exporter": "python",
   "pygments_lexer": "ipython3",
   "version": "3.7.9"
  },
  "nbsphinx": {
   "timeout": 600
  },
  "toc": {
   "base_numbering": 1,
   "nav_menu": {},
   "number_sections": true,
   "sideBar": true,
   "skip_h1_title": false,
   "title_cell": "Table of Contents",
   "title_sidebar": "Contents",
   "toc_cell": false,
   "toc_position": {},
   "toc_section_display": true,
   "toc_window_display": false
  },
  "varInspector": {
   "cols": {
    "lenName": 16,
    "lenType": 16,
    "lenVar": 40
   },
   "kernels_config": {
    "python": {
     "delete_cmd_postfix": "",
     "delete_cmd_prefix": "del ",
     "library": "var_list.py",
     "varRefreshCmd": "print(var_dic_list())"
    },
    "r": {
     "delete_cmd_postfix": ") ",
     "delete_cmd_prefix": "rm(",
     "library": "var_list.r",
     "varRefreshCmd": "cat(var_dic_list()) "
    }
   },
   "types_to_exclude": [
    "module",
    "function",
    "builtin_function_or_method",
    "instance",
    "_Feature"
   ],
   "window_display": false
  }
 },
 "nbformat": 4,
 "nbformat_minor": 2
}
