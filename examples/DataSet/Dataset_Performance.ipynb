{
 "cells": [
  {
   "cell_type": "markdown",
   "metadata": {},
   "source": [
    "# DataSet Performance\n",
    "\n",
    "This notebook shows the trade-off between inserting data into a database row-by-row and as binary blobs. Inserting the data row-by-row means that we have direct access to all the data and may perform queries directly on the values of the data. On the other hand, as we shall see, this is much slower than inserting the data directly as binary blobs."
   ]
  },
  {
   "cell_type": "markdown",
   "metadata": {},
   "source": [
    "First, we choose a new location for the database to ensure that we don't add a bunch of benchmarking data to the default one."
   ]
  },
  {
   "cell_type": "code",
   "execution_count": 1,
   "metadata": {
    "execution": {
     "iopub.execute_input": "2020-09-18T09:53:32.989456Z",
     "iopub.status.busy": "2020-09-18T09:53:32.988934Z",
     "iopub.status.idle": "2020-09-18T09:53:33.978819Z",
     "shell.execute_reply": "2020-09-18T09:53:33.979292Z"
    }
   },
   "outputs": [
    {
     "name": "stdout",
     "output_type": "stream",
     "text": [
      "Logging hadn't been started.\n",
      "Activating auto-logging. Current session state plus future input saved.\n",
      "Filename       : /home/vsts/.qcodes/logs/command_history.log\n",
      "Mode           : append\n",
      "Output logging : True\n",
      "Raw input log  : False\n",
      "Timestamping   : True\n",
      "State          : active\n"
     ]
    },
    {
     "name": "stdout",
     "output_type": "stream",
     "text": [
      "Qcodes Logfile : /home/vsts/.qcodes/logs/200918-19139-qcodes.log\n"
     ]
    }
   ],
   "source": [
    "import os\n",
    "cwd = os.getcwd()\n",
    "import qcodes as qc\n",
    "qc.config[\"core\"][\"db_location\"] = os.path.join(cwd, 'testing.db')\n"
   ]
  },
  {
   "cell_type": "code",
   "execution_count": 2,
   "metadata": {
    "execution": {
     "iopub.execute_input": "2020-09-18T09:53:33.985029Z",
     "iopub.status.busy": "2020-09-18T09:53:33.984316Z",
     "iopub.status.idle": "2020-09-18T09:53:34.141846Z",
     "shell.execute_reply": "2020-09-18T09:53:34.140916Z"
    }
   },
   "outputs": [],
   "source": [
    "%matplotlib inline\n",
    "import time\n",
    "import matplotlib.pyplot as plt\n",
    "import numpy as np\n",
    "\n",
    "import qcodes as qc\n",
    "from qcodes.instrument.parameter import ManualParameter\n",
    "from qcodes.dataset.experiment_container import (Experiment,\n",
    "                                                 load_last_experiment,\n",
    "                                                 new_experiment)\n",
    "from qcodes.dataset.sqlite.database import initialise_database\n",
    "from qcodes import load_or_create_experiment\n",
    "from qcodes.dataset.measurements import Measurement"
   ]
  },
  {
   "cell_type": "code",
   "execution_count": 3,
   "metadata": {
    "execution": {
     "iopub.execute_input": "2020-09-18T09:53:34.146122Z",
     "iopub.status.busy": "2020-09-18T09:53:34.144943Z",
     "iopub.status.idle": "2020-09-18T09:53:34.222565Z",
     "shell.execute_reply": "2020-09-18T09:53:34.222947Z"
    }
   },
   "outputs": [
    {
     "name": "stdout",
     "output_type": "stream",
     "text": [
      "\r",
      "0it [00:00, ?it/s]"
     ]
    },
    {
     "name": "stdout",
     "output_type": "stream",
     "text": [
      "\r",
      "Upgrading database; v0 -> v1: : 0it [00:00, ?it/s]"
     ]
    },
    {
     "name": "stdout",
     "output_type": "stream",
     "text": [
      "\r",
      "Upgrading database; v0 -> v1: : 0it [00:00, ?it/s]"
     ]
    },
    {
     "name": "stdout",
     "output_type": "stream",
     "text": [
      "\n",
      "\r",
      "  0%|          | 0/1 [00:00<?, ?it/s]"
     ]
    },
    {
     "name": "stdout",
     "output_type": "stream",
     "text": [
      "\r",
      "Upgrading database; v1 -> v2:   0%|          | 0/1 [00:00<?, ?it/s]"
     ]
    },
    {
     "name": "stdout",
     "output_type": "stream",
     "text": [
      "\r",
      "Upgrading database; v1 -> v2: 100%|██████████| 1/1 [00:00<00:00, 1136.98it/s]"
     ]
    },
    {
     "name": "stdout",
     "output_type": "stream",
     "text": [
      "\n",
      "\r",
      "0it [00:00, ?it/s]"
     ]
    },
    {
     "name": "stdout",
     "output_type": "stream",
     "text": [
      "\r",
      "Upgrading database; v2 -> v3: : 0it [00:00, ?it/s]"
     ]
    },
    {
     "name": "stdout",
     "output_type": "stream",
     "text": [
      "\r",
      "Upgrading database; v2 -> v3: : 0it [00:00, ?it/s]"
     ]
    },
    {
     "name": "stdout",
     "output_type": "stream",
     "text": [
      "\n",
      "\r",
      "0it [00:00, ?it/s]"
     ]
    },
    {
     "name": "stdout",
     "output_type": "stream",
     "text": [
      "\r",
      "Upgrading database; v3 -> v4: : 0it [00:00, ?it/s]"
     ]
    },
    {
     "name": "stdout",
     "output_type": "stream",
     "text": [
      "\r",
      "Upgrading database; v3 -> v4: : 0it [00:00, ?it/s]"
     ]
    },
    {
     "name": "stdout",
     "output_type": "stream",
     "text": [
      "\n",
      "\r",
      "  0%|          | 0/1 [00:00<?, ?it/s]"
     ]
    },
    {
     "name": "stdout",
     "output_type": "stream",
     "text": [
      "\r",
      "Upgrading database; v4 -> v5:   0%|          | 0/1 [00:00<?, ?it/s]"
     ]
    },
    {
     "name": "stdout",
     "output_type": "stream",
     "text": [
      "\r",
      "Upgrading database; v4 -> v5: 100%|██████████| 1/1 [00:00<00:00, 418.01it/s]"
     ]
    },
    {
     "name": "stdout",
     "output_type": "stream",
     "text": [
      "\n",
      "\r",
      "0it [00:00, ?it/s]"
     ]
    },
    {
     "name": "stdout",
     "output_type": "stream",
     "text": [
      "\r",
      "Upgrading database; v5 -> v6: : 0it [00:00, ?it/s]"
     ]
    },
    {
     "name": "stdout",
     "output_type": "stream",
     "text": [
      "\r",
      "Upgrading database; v5 -> v6: : 0it [00:00, ?it/s]"
     ]
    },
    {
     "name": "stdout",
     "output_type": "stream",
     "text": [
      "\n",
      "\r",
      "  0%|          | 0/1 [00:00<?, ?it/s]"
     ]
    },
    {
     "name": "stdout",
     "output_type": "stream",
     "text": [
      "\r",
      "Upgrading database; v6 -> v7:   0%|          | 0/1 [00:00<?, ?it/s]"
     ]
    },
    {
     "name": "stdout",
     "output_type": "stream",
     "text": [
      "\r",
      "Upgrading database; v6 -> v7: 100%|██████████| 1/1 [00:00<00:00, 368.02it/s]"
     ]
    },
    {
     "name": "stdout",
     "output_type": "stream",
     "text": [
      "\n",
      "\r",
      "  0%|          | 0/1 [00:00<?, ?it/s]"
     ]
    },
    {
     "name": "stdout",
     "output_type": "stream",
     "text": [
      "\r",
      "Upgrading database; v7 -> v8:   0%|          | 0/1 [00:00<?, ?it/s]"
     ]
    },
    {
     "name": "stdout",
     "output_type": "stream",
     "text": [
      "\r",
      "Upgrading database; v7 -> v8: 100%|██████████| 1/1 [00:00<00:00, 497.37it/s]"
     ]
    },
    {
     "name": "stdout",
     "output_type": "stream",
     "text": [
      "\n",
      "\r",
      "  0%|          | 0/1 [00:00<?, ?it/s]"
     ]
    },
    {
     "name": "stdout",
     "output_type": "stream",
     "text": [
      "\r",
      "Upgrading database; v8 -> v9:   0%|          | 0/1 [00:00<?, ?it/s]"
     ]
    },
    {
     "name": "stdout",
     "output_type": "stream",
     "text": [
      "\r",
      "Upgrading database; v8 -> v9: 100%|██████████| 1/1 [00:00<00:00, 392.54it/s]"
     ]
    },
    {
     "name": "stdout",
     "output_type": "stream",
     "text": [
      "\n"
     ]
    }
   ],
   "source": [
    "initialise_database()\n",
    "exp = load_or_create_experiment(experiment_name='tutorial_exp', sample_name=\"no sample\")"
   ]
  },
  {
   "cell_type": "markdown",
   "metadata": {},
   "source": [
    "Here, we define a simple function to benchmark the time it takes to insert n points with either numeric or array data type.\n",
    "We will compare both the time used to call ``add_result`` and the time used for the full measurement."
   ]
  },
  {
   "cell_type": "code",
   "execution_count": 4,
   "metadata": {
    "execution": {
     "iopub.execute_input": "2020-09-18T09:53:34.231124Z",
     "iopub.status.busy": "2020-09-18T09:53:34.230524Z",
     "iopub.status.idle": "2020-09-18T09:53:34.233564Z",
     "shell.execute_reply": "2020-09-18T09:53:34.234033Z"
    }
   },
   "outputs": [],
   "source": [
    "def insert_data(paramtype, npoints, nreps=1):\n",
    "\n",
    "    meas = Measurement(exp=exp)\n",
    "\n",
    "    x1 = ManualParameter('x1')\n",
    "    x2 = ManualParameter('x2')\n",
    "    x3 = ManualParameter('x3')\n",
    "    y1 = ManualParameter('y1')\n",
    "    y2 = ManualParameter('y2')\n",
    "\n",
    "    meas.register_parameter(x1, paramtype=paramtype)\n",
    "    meas.register_parameter(x2, paramtype=paramtype)\n",
    "    meas.register_parameter(x3, paramtype=paramtype)\n",
    "    meas.register_parameter(y1, setpoints=[x1, x2, x3],\n",
    "                            paramtype=paramtype)\n",
    "    meas.register_parameter(y2, setpoints=[x1, x2, x3],\n",
    "                            paramtype=paramtype)\n",
    "    start = time.perf_counter()\n",
    "    with meas.run() as datasaver:\n",
    "        start_adding = time.perf_counter()\n",
    "        for i in range(nreps):\n",
    "            datasaver.add_result((x1, np.random.rand(npoints)),\n",
    "                                 (x2, np.random.rand(npoints)),\n",
    "                                 (x3, np.random.rand(npoints)),\n",
    "                                 (y1, np.random.rand(npoints)),\n",
    "                                 (y2, np.random.rand(npoints)))\n",
    "        stop_adding = time.perf_counter()\n",
    "        run_id = datasaver.run_id\n",
    "    stop = time.perf_counter()\n",
    "    tot_time = stop - start\n",
    "    add_time = stop_adding - start_adding\n",
    "    return tot_time, add_time, run_id"
   ]
  },
  {
   "cell_type": "markdown",
   "metadata": {},
   "source": [
    "## Comparison between numeric/array data and binary blob"
   ]
  },
  {
   "cell_type": "markdown",
   "metadata": {},
   "source": [
    "### Case1: Short experiment time"
   ]
  },
  {
   "cell_type": "code",
   "execution_count": 5,
   "metadata": {
    "execution": {
     "iopub.execute_input": "2020-09-18T09:53:34.239674Z",
     "iopub.status.busy": "2020-09-18T09:53:34.239153Z",
     "iopub.status.idle": "2020-09-18T09:53:35.043345Z",
     "shell.execute_reply": "2020-09-18T09:53:35.042870Z"
    }
   },
   "outputs": [
    {
     "name": "stdout",
     "output_type": "stream",
     "text": [
      "Starting experimental run with id: 1. \n",
      "Starting experimental run with id: 2. \n",
      "Starting experimental run with id: 3. \n",
      "Starting experimental run with id: 4. \n"
     ]
    },
    {
     "name": "stdout",
     "output_type": "stream",
     "text": [
      "Starting experimental run with id: 5. \n"
     ]
    },
    {
     "name": "stdout",
     "output_type": "stream",
     "text": [
      "Starting experimental run with id: 6. \n",
      "Starting experimental run with id: 7. \n"
     ]
    },
    {
     "name": "stdout",
     "output_type": "stream",
     "text": [
      "Starting experimental run with id: 8. \n",
      "Starting experimental run with id: 9. \n"
     ]
    },
    {
     "name": "stdout",
     "output_type": "stream",
     "text": [
      "Starting experimental run with id: 10. \n",
      "Starting experimental run with id: 11. \n"
     ]
    },
    {
     "name": "stdout",
     "output_type": "stream",
     "text": [
      "Starting experimental run with id: 12. \n",
      "Starting experimental run with id: 13. \n"
     ]
    },
    {
     "name": "stdout",
     "output_type": "stream",
     "text": [
      "Starting experimental run with id: 14. \n"
     ]
    }
   ],
   "source": [
    "sizes = [1,500,1000,2000,3000,4000,5000]\n",
    "t_numeric = []\n",
    "t_numeric_add = []\n",
    "t_array = []\n",
    "t_array_add = []\n",
    "for size in sizes:\n",
    "    tn, tna, run_id_n =  insert_data('numeric', size)\n",
    "    t_numeric.append(tn)\n",
    "    t_numeric_add.append(tna)\n",
    "\n",
    "    ta, taa, run_id_a =  insert_data('array', size)\n",
    "    t_array.append(ta)\n",
    "    t_array_add.append(taa)"
   ]
  },
  {
   "cell_type": "code",
   "execution_count": 6,
   "metadata": {
    "execution": {
     "iopub.execute_input": "2020-09-18T09:53:35.048507Z",
     "iopub.status.busy": "2020-09-18T09:53:35.047541Z",
     "iopub.status.idle": "2020-09-18T09:53:35.300514Z",
     "shell.execute_reply": "2020-09-18T09:53:35.301031Z"
    }
   },
   "outputs": [
    {
     "data": {
      "image/png": "[encoded data removed]",
      "text/plain": [
       "<Figure size 432x288 with 1 Axes>"
      ]
     },
     "metadata": {
      "needs_background": "light"
     },
     "output_type": "display_data"
    }
   ],
   "source": [
    "fig, ax = plt.subplots(1,1)\n",
    "ax.plot(sizes, t_numeric, 'o-', label='Inserting row-by-row')\n",
    "ax.plot(sizes, t_numeric_add, 'o-', label='Inserting row-by-row: add_result only')\n",
    "ax.plot(sizes, t_array, 'd-', label='Inserting as binary blob')\n",
    "ax.plot(sizes, t_array_add, 'd-', label='Inserting as binary blob: add_result only')\n",
    "ax.legend()\n",
    "ax.set_xlabel('Array length')\n",
    "ax.set_ylabel('Time (s)')\n",
    "fig.tight_layout()"
   ]
  },
  {
   "cell_type": "markdown",
   "metadata": {},
   "source": [
    "As shown in the latter figure, the time to setup and and close the experiment is approximately 0.4 sec. In case of small array sizes, the difference between inserting values of data as arrays and inserting them row-by-row is relatively unimportant. At larger array sizes, i.e. above 10000 points, the cost of writing data as individual datapoints starts to become important.\n"
   ]
  },
  {
   "cell_type": "markdown",
   "metadata": {},
   "source": [
    "### Case2: Long experiment time "
   ]
  },
  {
   "cell_type": "code",
   "execution_count": 7,
   "metadata": {
    "execution": {
     "iopub.execute_input": "2020-09-18T09:53:35.307751Z",
     "iopub.status.busy": "2020-09-18T09:53:35.307156Z",
     "iopub.status.idle": "2020-09-18T09:54:29.341737Z",
     "shell.execute_reply": "2020-09-18T09:54:29.341132Z"
    }
   },
   "outputs": [
    {
     "name": "stdout",
     "output_type": "stream",
     "text": [
      "Starting experimental run with id: 15. \n",
      "Starting experimental run with id: 16. \n",
      "Starting experimental run with id: 17. \n"
     ]
    },
    {
     "name": "stdout",
     "output_type": "stream",
     "text": [
      "Starting experimental run with id: 18. \n",
      "Starting experimental run with id: 19. \n"
     ]
    },
    {
     "name": "stdout",
     "output_type": "stream",
     "text": [
      "Starting experimental run with id: 20. \n"
     ]
    },
    {
     "name": "stdout",
     "output_type": "stream",
     "text": [
      "Starting experimental run with id: 21. \n"
     ]
    },
    {
     "name": "stdout",
     "output_type": "stream",
     "text": [
      "Starting experimental run with id: 22. \n"
     ]
    },
    {
     "name": "stdout",
     "output_type": "stream",
     "text": [
      "Starting experimental run with id: 23. \n"
     ]
    },
    {
     "name": "stdout",
     "output_type": "stream",
     "text": [
      "Starting experimental run with id: 24. \n"
     ]
    },
    {
     "name": "stdout",
     "output_type": "stream",
     "text": [
      "Starting experimental run with id: 25. \n"
     ]
    },
    {
     "name": "stdout",
     "output_type": "stream",
     "text": [
      "Starting experimental run with id: 26. \n"
     ]
    },
    {
     "name": "stdout",
     "output_type": "stream",
     "text": [
      "Starting experimental run with id: 27. \n"
     ]
    },
    {
     "name": "stdout",
     "output_type": "stream",
     "text": [
      "Starting experimental run with id: 28. \n"
     ]
    }
   ],
   "source": [
    "sizes = [1,500,1000,2000,3000,4000,5000]\n",
    "nreps = 100\n",
    "t_numeric = []\n",
    "t_numeric_add = []\n",
    "t_numeric_run_ids = []\n",
    "t_array = []\n",
    "t_array_add = []\n",
    "t_array_run_ids = []\n",
    "for size in sizes:\n",
    "    tn, tna, run_id_n =  insert_data('numeric', size, nreps=nreps)\n",
    "    t_numeric.append(tn)\n",
    "    t_numeric_add.append(tna)\n",
    "    t_numeric_run_ids.append(run_id_n)\n",
    "\n",
    "    ta, taa, run_id_a =  insert_data('array', size, nreps=nreps)\n",
    "    t_array.append(ta)\n",
    "    t_array_add.append(taa)\n",
    "    t_array_run_ids.append(run_id_a)"
   ]
  },
  {
   "cell_type": "code",
   "execution_count": 8,
   "metadata": {
    "execution": {
     "iopub.execute_input": "2020-09-18T09:54:29.351500Z",
     "iopub.status.busy": "2020-09-18T09:54:29.347091Z",
     "iopub.status.idle": "2020-09-18T09:54:29.589420Z",
     "shell.execute_reply": "2020-09-18T09:54:29.588900Z"
    },
    "scrolled": true
   },
   "outputs": [
    {
     "data": {
      "image/png": "[encoded data removed]",
      "text/plain": [
       "<Figure size 432x288 with 1 Axes>"
      ]
     },
     "metadata": {
      "needs_background": "light"
     },
     "output_type": "display_data"
    }
   ],
   "source": [
    "fig, ax = plt.subplots(1,1)\n",
    "ax.plot(sizes, t_numeric, 'o-', label='Inserting row-by-row')\n",
    "ax.plot(sizes, t_numeric_add, 'o-', label='Inserting row-by-row: add_result only')\n",
    "ax.plot(sizes, t_array, 'd-', label='Inserting as binary blob')\n",
    "ax.plot(sizes, t_array_add, 'd-', label='Inserting as binary blob: add_result only')\n",
    "ax.legend()\n",
    "ax.set_xlabel('Array length')\n",
    "ax.set_ylabel('Time (s)')\n",
    "fig.tight_layout()"
   ]
  },
  {
   "cell_type": "markdown",
   "metadata": {},
   "source": [
    "However, as we increase the length of the experiment, as seen here by repeating the insertion 100 times, we see a big difference between inserting values of the data row-by-row and inserting it as a binary blob."
   ]
  },
  {
   "cell_type": "markdown",
   "metadata": {},
   "source": [
    "## Loading the data "
   ]
  },
  {
   "cell_type": "code",
   "execution_count": 9,
   "metadata": {
    "execution": {
     "iopub.execute_input": "2020-09-18T09:54:29.594040Z",
     "iopub.status.busy": "2020-09-18T09:54:29.593364Z",
     "iopub.status.idle": "2020-09-18T09:54:29.596120Z",
     "shell.execute_reply": "2020-09-18T09:54:29.595613Z"
    }
   },
   "outputs": [],
   "source": [
    "from qcodes.dataset.data_set import load_by_id\n",
    "from qcodes.dataset.data_export import get_data_by_id"
   ]
  },
  {
   "cell_type": "markdown",
   "metadata": {},
   "source": [
    "As usual you can load the data by using the ``load_by_id`` function but you will notice that the different storage methods\n",
    "are reflected in shape of the data as it is retrieved. "
   ]
  },
  {
   "cell_type": "code",
   "execution_count": 10,
   "metadata": {
    "execution": {
     "iopub.execute_input": "2020-09-18T09:54:29.600727Z",
     "iopub.status.busy": "2020-09-18T09:54:29.599298Z",
     "iopub.status.idle": "2020-09-18T09:54:29.601564Z",
     "shell.execute_reply": "2020-09-18T09:54:29.602185Z"
    }
   },
   "outputs": [],
   "source": [
    "run_id_n = t_numeric_run_ids[0]\n",
    "run_id_a = t_array_run_ids[0]"
   ]
  },
  {
   "cell_type": "code",
   "execution_count": 11,
   "metadata": {
    "execution": {
     "iopub.execute_input": "2020-09-18T09:54:29.605375Z",
     "iopub.status.busy": "2020-09-18T09:54:29.604833Z",
     "iopub.status.idle": "2020-09-18T09:54:29.613605Z",
     "shell.execute_reply": "2020-09-18T09:54:29.613118Z"
    },
    "scrolled": true
   },
   "outputs": [
    {
     "data": {
      "text/plain": [
       "{'x1': {'x1': array([0.66979709, 0.66979709, 0.91104916, 0.91104916, 0.904706  ,\n",
       "         0.904706  , 0.05573022, 0.05573022, 0.70335347, 0.70335347,\n",
       "         0.13876576, 0.13876576, 0.67213454, 0.67213454, 0.89684669,\n",
       "         0.89684669, 0.3152805 , 0.3152805 , 0.6363017 , 0.6363017 ,\n",
       "         0.25921949, 0.25921949, 0.70829499, 0.70829499, 0.44122474,\n",
       "         0.44122474, 0.31537252, 0.31537252, 0.61993549, 0.61993549,\n",
       "         0.87962641, 0.87962641, 0.47378434, 0.47378434, 0.59087491,\n",
       "         0.59087491, 0.56813298, 0.56813298, 0.54206211, 0.54206211,\n",
       "         0.78629114, 0.78629114, 0.44146038, 0.44146038, 0.76662486,\n",
       "         0.76662486, 0.36872541, 0.36872541, 0.34226855, 0.34226855,\n",
       "         0.26059301, 0.26059301, 0.65223401, 0.65223401, 0.26757462,\n",
       "         0.26757462, 0.90515436, 0.90515436, 0.03934389, 0.03934389,\n",
       "         0.41325025, 0.41325025, 0.30045276, 0.30045276, 0.84513768,\n",
       "         0.84513768, 0.91586688, 0.91586688, 0.33323986, 0.33323986,\n",
       "         0.91685661, 0.91685661, 0.38536688, 0.38536688, 0.74511201,\n",
       "         0.74511201, 0.28080966, 0.28080966, 0.79770829, 0.79770829,\n",
       "         0.91523287, 0.91523287, 0.89189026, 0.89189026, 0.73213393,\n",
       "         0.73213393, 0.15023305, 0.15023305, 0.46144519, 0.46144519,\n",
       "         0.71462944, 0.71462944, 0.72210617, 0.72210617, 0.74379588,\n",
       "         0.74379588, 0.06834768, 0.06834768, 0.42598302, 0.42598302,\n",
       "         0.95432037, 0.95432037, 0.57243781, 0.57243781, 0.85113709,\n",
       "         0.85113709, 0.99553677, 0.99553677, 0.72199571, 0.72199571,\n",
       "         0.11088933, 0.11088933, 0.39778522, 0.39778522, 0.32349503,\n",
       "         0.32349503, 0.95031079, 0.95031079, 0.37011308, 0.37011308,\n",
       "         0.17945113, 0.17945113, 0.41675066, 0.41675066, 0.99958996,\n",
       "         0.99958996, 0.37104786, 0.37104786, 0.32169468, 0.32169468,\n",
       "         0.81421221, 0.81421221, 0.60747883, 0.60747883, 0.89605867,\n",
       "         0.89605867, 0.65612672, 0.65612672, 0.64961925, 0.64961925,\n",
       "         0.87382424, 0.87382424, 0.521743  , 0.521743  , 0.25486094,\n",
       "         0.25486094, 0.81817695, 0.81817695, 0.36808956, 0.36808956,\n",
       "         0.93731378, 0.93731378, 0.9137639 , 0.9137639 , 0.88922812,\n",
       "         0.88922812, 0.54231027, 0.54231027, 0.90657201, 0.90657201,\n",
       "         0.18084671, 0.18084671, 0.5573192 , 0.5573192 , 0.86896026,\n",
       "         0.86896026, 0.08864096, 0.08864096, 0.55202806, 0.55202806,\n",
       "         0.18076326, 0.18076326, 0.7984597 , 0.7984597 , 0.27332463,\n",
       "         0.27332463, 0.9314263 , 0.9314263 , 0.61038659, 0.61038659,\n",
       "         0.13597901, 0.13597901, 0.23361782, 0.23361782, 0.46073436,\n",
       "         0.46073436, 0.3033779 , 0.3033779 , 0.39387461, 0.39387461,\n",
       "         0.49063259, 0.49063259, 0.97555541, 0.97555541, 0.55198811,\n",
       "         0.55198811, 0.8634078 , 0.8634078 , 0.46939732, 0.46939732])}}"
      ]
     },
     "execution_count": 1,
     "metadata": {},
     "output_type": "execute_result"
    }
   ],
   "source": [
    "ds = load_by_id(run_id_n)\n",
    "ds.get_parameter_data('x1')"
   ]
  },
  {
   "cell_type": "markdown",
   "metadata": {},
   "source": [
    "And a dataset stored as binary arrays"
   ]
  },
  {
   "cell_type": "code",
   "execution_count": 12,
   "metadata": {
    "execution": {
     "iopub.execute_input": "2020-09-18T09:54:29.616844Z",
     "iopub.status.busy": "2020-09-18T09:54:29.616203Z",
     "iopub.status.idle": "2020-09-18T09:54:29.675064Z",
     "shell.execute_reply": "2020-09-18T09:54:29.674399Z"
    },
    "scrolled": true
   },
   "outputs": [
    {
     "data": {
      "text/plain": [
       "{'x1': {'x1': array([[0.79537966],\n",
       "         [0.79537966],\n",
       "         [0.22670691],\n",
       "         [0.22670691],\n",
       "         [0.96468436],\n",
       "         [0.96468436],\n",
       "         [0.75801518],\n",
       "         [0.75801518],\n",
       "         [0.22275582],\n",
       "         [0.22275582],\n",
       "         [0.66142035],\n",
       "         [0.66142035],\n",
       "         [0.46061509],\n",
       "         [0.46061509],\n",
       "         [0.81400061],\n",
       "         [0.81400061],\n",
       "         [0.43862594],\n",
       "         [0.43862594],\n",
       "         [0.78986759],\n",
       "         [0.78986759],\n",
       "         [0.82454197],\n",
       "         [0.82454197],\n",
       "         [0.19016453],\n",
       "         [0.19016453],\n",
       "         [0.36236196],\n",
       "         [0.36236196],\n",
       "         [0.17217559],\n",
       "         [0.17217559],\n",
       "         [0.92288914],\n",
       "         [0.92288914],\n",
       "         [0.74089447],\n",
       "         [0.74089447],\n",
       "         [0.72088541],\n",
       "         [0.72088541],\n",
       "         [0.84320089],\n",
       "         [0.84320089],\n",
       "         [0.74147814],\n",
       "         [0.74147814],\n",
       "         [0.22950696],\n",
       "         [0.22950696],\n",
       "         [0.16241159],\n",
       "         [0.16241159],\n",
       "         [0.59224833],\n",
       "         [0.59224833],\n",
       "         [0.46083096],\n",
       "         [0.46083096],\n",
       "         [0.8897109 ],\n",
       "         [0.8897109 ],\n",
       "         [0.10713228],\n",
       "         [0.10713228],\n",
       "         [0.04717674],\n",
       "         [0.04717674],\n",
       "         [0.41532946],\n",
       "         [0.41532946],\n",
       "         [0.70581894],\n",
       "         [0.70581894],\n",
       "         [0.40839392],\n",
       "         [0.40839392],\n",
       "         [0.93635842],\n",
       "         [0.93635842],\n",
       "         [0.47725354],\n",
       "         [0.47725354],\n",
       "         [0.45562942],\n",
       "         [0.45562942],\n",
       "         [0.82412908],\n",
       "         [0.82412908],\n",
       "         [0.05493291],\n",
       "         [0.05493291],\n",
       "         [0.57724916],\n",
       "         [0.57724916],\n",
       "         [0.49559192],\n",
       "         [0.49559192],\n",
       "         [0.10511806],\n",
       "         [0.10511806],\n",
       "         [0.90674721],\n",
       "         [0.90674721],\n",
       "         [0.73927916],\n",
       "         [0.73927916],\n",
       "         [0.77069047],\n",
       "         [0.77069047],\n",
       "         [0.76462913],\n",
       "         [0.76462913],\n",
       "         [0.4510079 ],\n",
       "         [0.4510079 ],\n",
       "         [0.36030662],\n",
       "         [0.36030662],\n",
       "         [0.42684251],\n",
       "         [0.42684251],\n",
       "         [0.75863711],\n",
       "         [0.75863711],\n",
       "         [0.03361754],\n",
       "         [0.03361754],\n",
       "         [0.41777526],\n",
       "         [0.41777526],\n",
       "         [0.00118573],\n",
       "         [0.00118573],\n",
       "         [0.39192026],\n",
       "         [0.39192026],\n",
       "         [0.5377476 ],\n",
       "         [0.5377476 ],\n",
       "         [0.43142845],\n",
       "         [0.43142845],\n",
       "         [0.11650194],\n",
       "         [0.11650194],\n",
       "         [0.7091426 ],\n",
       "         [0.7091426 ],\n",
       "         [0.05346833],\n",
       "         [0.05346833],\n",
       "         [0.24228953],\n",
       "         [0.24228953],\n",
       "         [0.42411768],\n",
       "         [0.42411768],\n",
       "         [0.77507311],\n",
       "         [0.77507311],\n",
       "         [0.66297301],\n",
       "         [0.66297301],\n",
       "         [0.36362171],\n",
       "         [0.36362171],\n",
       "         [0.69307622],\n",
       "         [0.69307622],\n",
       "         [0.35027951],\n",
       "         [0.35027951],\n",
       "         [0.69100003],\n",
       "         [0.69100003],\n",
       "         [0.40069595],\n",
       "         [0.40069595],\n",
       "         [0.31784637],\n",
       "         [0.31784637],\n",
       "         [0.64163969],\n",
       "         [0.64163969],\n",
       "         [0.74615854],\n",
       "         [0.74615854],\n",
       "         [0.63179048],\n",
       "         [0.63179048],\n",
       "         [0.32357388],\n",
       "         [0.32357388],\n",
       "         [0.87116306],\n",
       "         [0.87116306],\n",
       "         [0.65052055],\n",
       "         [0.65052055],\n",
       "         [0.49316206],\n",
       "         [0.49316206],\n",
       "         [0.60387308],\n",
       "         [0.60387308],\n",
       "         [0.70605141],\n",
       "         [0.70605141],\n",
       "         [0.1705817 ],\n",
       "         [0.1705817 ],\n",
       "         [0.79088118],\n",
       "         [0.79088118],\n",
       "         [0.33408247],\n",
       "         [0.33408247],\n",
       "         [0.41513224],\n",
       "         [0.41513224],\n",
       "         [0.04765642],\n",
       "         [0.04765642],\n",
       "         [0.16604612],\n",
       "         [0.16604612],\n",
       "         [0.41048371],\n",
       "         [0.41048371],\n",
       "         [0.21711707],\n",
       "         [0.21711707],\n",
       "         [0.00491135],\n",
       "         [0.00491135],\n",
       "         [0.14323876],\n",
       "         [0.14323876],\n",
       "         [0.54154525],\n",
       "         [0.54154525],\n",
       "         [0.69941247],\n",
       "         [0.69941247],\n",
       "         [0.57804045],\n",
       "         [0.57804045],\n",
       "         [0.45104373],\n",
       "         [0.45104373],\n",
       "         [0.54913756],\n",
       "         [0.54913756],\n",
       "         [0.14972091],\n",
       "         [0.14972091],\n",
       "         [0.16167643],\n",
       "         [0.16167643],\n",
       "         [0.85419359],\n",
       "         [0.85419359],\n",
       "         [0.59904222],\n",
       "         [0.59904222],\n",
       "         [0.92105961],\n",
       "         [0.92105961],\n",
       "         [0.67169186],\n",
       "         [0.67169186],\n",
       "         [0.89091543],\n",
       "         [0.89091543],\n",
       "         [0.1187235 ],\n",
       "         [0.1187235 ],\n",
       "         [0.71596625],\n",
       "         [0.71596625],\n",
       "         [0.75092555],\n",
       "         [0.75092555],\n",
       "         [0.30332649],\n",
       "         [0.30332649],\n",
       "         [0.99788047],\n",
       "         [0.99788047]])}}"
      ]
     },
     "execution_count": 1,
     "metadata": {},
     "output_type": "execute_result"
    }
   ],
   "source": [
    "ds = load_by_id(run_id_a)\n",
    "ds.get_parameter_data('x1')"
   ]
  },
  {
   "cell_type": "code",
   "execution_count": null,
   "metadata": {},
   "outputs": [],
   "source": []
  }
 ],
 "metadata": {
  "kernelspec": {
   "display_name": "Python 3",
   "language": "python",
   "name": "python3"
  },
  "language_info": {
   "codemirror_mode": {
    "name": "ipython",
    "version": 3
   },
   "file_extension": ".py",
   "mimetype": "text/x-python",
   "name": "python",
   "nbconvert_exporter": "python",
   "pygments_lexer": "ipython3",
   "version": "3.7.7"
  },
  "nbsphinx": {
   "timeout": 600
  },
  "toc": {
   "base_numbering": 1,
   "nav_menu": {},
   "number_sections": true,
   "sideBar": true,
   "skip_h1_title": false,
   "title_cell": "Table of Contents",
   "title_sidebar": "Contents",
   "toc_cell": false,
   "toc_position": {},
   "toc_section_display": true,
   "toc_window_display": false
  },
  "varInspector": {
   "cols": {
    "lenName": 16,
    "lenType": 16,
    "lenVar": 40
   },
   "kernels_config": {
    "python": {
     "delete_cmd_postfix": "",
     "delete_cmd_prefix": "del ",
     "library": "var_list.py",
     "varRefreshCmd": "print(var_dic_list())"
    },
    "r": {
     "delete_cmd_postfix": ") ",
     "delete_cmd_prefix": "rm(",
     "library": "var_list.r",
     "varRefreshCmd": "cat(var_dic_list()) "
    }
   },
   "types_to_exclude": [
    "module",
    "function",
    "builtin_function_or_method",
    "instance",
    "_Feature"
   ],
   "window_display": false
  }
 },
 "nbformat": 4,
 "nbformat_minor": 2
}
