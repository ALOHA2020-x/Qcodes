{
 "cells": [
  {
   "cell_type": "markdown",
   "metadata": {},
   "source": [
    "# DataSet Performance\n",
    "\n",
    "This notebook shows the trade-off between inserting data into a database row-by-row and as binary blobs. Inserting the data row-by-row means that we have direct access to all the data and may perform queries directly on the values of the data. On the other hand, as we shall see, this is much slower than inserting the data directly as binary blobs."
   ]
  },
  {
   "cell_type": "markdown",
   "metadata": {},
   "source": [
    "First, we choose a new location for the database to ensure that we don't add a bunch of benchmarking data to the default one."
   ]
  },
  {
   "cell_type": "code",
   "execution_count": 1,
   "metadata": {
    "execution": {
     "iopub.execute_input": "2020-12-21T08:20:20.936739Z",
     "iopub.status.busy": "2020-12-21T08:20:20.936192Z",
     "iopub.status.idle": "2020-12-21T08:20:21.948982Z",
     "shell.execute_reply": "2020-12-21T08:20:21.948582Z"
    }
   },
   "outputs": [
    {
     "name": "stdout",
     "output_type": "stream",
     "text": [
      "Logging hadn't been started.\n",
      "Activating auto-logging. Current session state plus future input saved.\n",
      "Filename       : /home/vsts/.qcodes/logs/command_history.log\n",
      "Mode           : append\n",
      "Output logging : True\n",
      "Raw input log  : False\n",
      "Timestamping   : True\n",
      "State          : active\n"
     ]
    },
    {
     "name": "stdout",
     "output_type": "stream",
     "text": [
      "Qcodes Logfile : /home/vsts/.qcodes/logs/201221-13184-qcodes.log\n"
     ]
    }
   ],
   "source": [
    "import os\n",
    "cwd = os.getcwd()\n",
    "import qcodes as qc\n",
    "qc.config[\"core\"][\"db_location\"] = os.path.join(cwd, 'testing.db')\n"
   ]
  },
  {
   "cell_type": "code",
   "execution_count": 2,
   "metadata": {
    "execution": {
     "iopub.execute_input": "2020-12-21T08:20:21.955001Z",
     "iopub.status.busy": "2020-12-21T08:20:21.953602Z",
     "iopub.status.idle": "2020-12-21T08:20:22.109979Z",
     "shell.execute_reply": "2020-12-21T08:20:22.108776Z"
    }
   },
   "outputs": [],
   "source": [
    "%matplotlib inline\n",
    "import time\n",
    "import matplotlib.pyplot as plt\n",
    "import numpy as np\n",
    "\n",
    "import qcodes as qc\n",
    "from qcodes.instrument.parameter import ManualParameter\n",
    "from qcodes.dataset.experiment_container import (Experiment,\n",
    "                                                 load_last_experiment,\n",
    "                                                 new_experiment)\n",
    "from qcodes.dataset.sqlite.database import initialise_database\n",
    "from qcodes import load_or_create_experiment\n",
    "from qcodes.dataset.measurements import Measurement"
   ]
  },
  {
   "cell_type": "code",
   "execution_count": 3,
   "metadata": {
    "execution": {
     "iopub.execute_input": "2020-12-21T08:20:22.112620Z",
     "iopub.status.busy": "2020-12-21T08:20:22.112160Z",
     "iopub.status.idle": "2020-12-21T08:20:22.200479Z",
     "shell.execute_reply": "2020-12-21T08:20:22.199909Z"
    }
   },
   "outputs": [
    {
     "name": "stdout",
     "output_type": "stream",
     "text": [
      "\r",
      "0it [00:00, ?it/s]"
     ]
    },
    {
     "name": "stdout",
     "output_type": "stream",
     "text": [
      "\r",
      "Upgrading database; v0 -> v1: : 0it [00:00, ?it/s]"
     ]
    },
    {
     "name": "stdout",
     "output_type": "stream",
     "text": [
      "\r",
      "Upgrading database; v0 -> v1: : 0it [00:00, ?it/s]"
     ]
    },
    {
     "name": "stdout",
     "output_type": "stream",
     "text": [
      "\n",
      "\r",
      "  0%|          | 0/1 [00:00<?, ?it/s]"
     ]
    },
    {
     "name": "stdout",
     "output_type": "stream",
     "text": [
      "\r",
      "Upgrading database; v1 -> v2:   0%|          | 0/1 [00:00<?, ?it/s]"
     ]
    },
    {
     "name": "stdout",
     "output_type": "stream",
     "text": [
      "\r",
      "Upgrading database; v1 -> v2: 100%|██████████| 1/1 [00:00<00:00, 827.12it/s]"
     ]
    },
    {
     "name": "stdout",
     "output_type": "stream",
     "text": [
      "\n",
      "\r",
      "0it [00:00, ?it/s]"
     ]
    },
    {
     "name": "stdout",
     "output_type": "stream",
     "text": [
      "\r",
      "Upgrading database; v2 -> v3: : 0it [00:00, ?it/s]"
     ]
    },
    {
     "name": "stdout",
     "output_type": "stream",
     "text": [
      "\r",
      "Upgrading database; v2 -> v3: : 0it [00:00, ?it/s]"
     ]
    },
    {
     "name": "stdout",
     "output_type": "stream",
     "text": [
      "\n",
      "\r",
      "0it [00:00, ?it/s]"
     ]
    },
    {
     "name": "stdout",
     "output_type": "stream",
     "text": [
      "\r",
      "Upgrading database; v3 -> v4: : 0it [00:00, ?it/s]"
     ]
    },
    {
     "name": "stdout",
     "output_type": "stream",
     "text": [
      "\r",
      "Upgrading database; v3 -> v4: : 0it [00:00, ?it/s]"
     ]
    },
    {
     "name": "stdout",
     "output_type": "stream",
     "text": [
      "\n",
      "\r",
      "  0%|          | 0/1 [00:00<?, ?it/s]"
     ]
    },
    {
     "name": "stdout",
     "output_type": "stream",
     "text": [
      "\r",
      "Upgrading database; v4 -> v5:   0%|          | 0/1 [00:00<?, ?it/s]"
     ]
    },
    {
     "name": "stdout",
     "output_type": "stream",
     "text": [
      "\r",
      "Upgrading database; v4 -> v5: 100%|██████████| 1/1 [00:00<00:00, 486.75it/s]"
     ]
    },
    {
     "name": "stdout",
     "output_type": "stream",
     "text": [
      "\n",
      "\r",
      "0it [00:00, ?it/s]"
     ]
    },
    {
     "name": "stdout",
     "output_type": "stream",
     "text": [
      "\r",
      "Upgrading database; v5 -> v6: : 0it [00:00, ?it/s]"
     ]
    },
    {
     "name": "stdout",
     "output_type": "stream",
     "text": [
      "\r",
      "Upgrading database; v5 -> v6: : 0it [00:00, ?it/s]"
     ]
    },
    {
     "name": "stdout",
     "output_type": "stream",
     "text": [
      "\n",
      "\r",
      "  0%|          | 0/1 [00:00<?, ?it/s]"
     ]
    },
    {
     "name": "stdout",
     "output_type": "stream",
     "text": [
      "\r",
      "Upgrading database; v6 -> v7:   0%|          | 0/1 [00:00<?, ?it/s]"
     ]
    },
    {
     "name": "stdout",
     "output_type": "stream",
     "text": [
      "\r",
      "Upgrading database; v6 -> v7: 100%|██████████| 1/1 [00:00<00:00, 519.61it/s]"
     ]
    },
    {
     "name": "stdout",
     "output_type": "stream",
     "text": [
      "\n",
      "\r",
      "  0%|          | 0/1 [00:00<?, ?it/s]"
     ]
    },
    {
     "name": "stdout",
     "output_type": "stream",
     "text": [
      "\r",
      "Upgrading database; v7 -> v8:   0%|          | 0/1 [00:00<?, ?it/s]"
     ]
    },
    {
     "name": "stdout",
     "output_type": "stream",
     "text": [
      "\r",
      "Upgrading database; v7 -> v8: 100%|██████████| 1/1 [00:00<00:00, 805.05it/s]"
     ]
    },
    {
     "name": "stdout",
     "output_type": "stream",
     "text": [
      "\n",
      "\r",
      "  0%|          | 0/1 [00:00<?, ?it/s]"
     ]
    },
    {
     "name": "stdout",
     "output_type": "stream",
     "text": [
      "\r",
      "Upgrading database; v8 -> v9:   0%|          | 0/1 [00:00<?, ?it/s]"
     ]
    },
    {
     "name": "stdout",
     "output_type": "stream",
     "text": [
      "\r",
      "Upgrading database; v8 -> v9: 100%|██████████| 1/1 [00:00<00:00, 1012.87it/s]"
     ]
    },
    {
     "name": "stdout",
     "output_type": "stream",
     "text": [
      "\n"
     ]
    }
   ],
   "source": [
    "initialise_database()\n",
    "exp = load_or_create_experiment(experiment_name='tutorial_exp', sample_name=\"no sample\")"
   ]
  },
  {
   "cell_type": "markdown",
   "metadata": {},
   "source": [
    "Here, we define a simple function to benchmark the time it takes to insert n points with either numeric or array data type.\n",
    "We will compare both the time used to call ``add_result`` and the time used for the full measurement."
   ]
  },
  {
   "cell_type": "code",
   "execution_count": 4,
   "metadata": {
    "execution": {
     "iopub.execute_input": "2020-12-21T08:20:22.206471Z",
     "iopub.status.busy": "2020-12-21T08:20:22.205309Z",
     "iopub.status.idle": "2020-12-21T08:20:22.208985Z",
     "shell.execute_reply": "2020-12-21T08:20:22.208612Z"
    }
   },
   "outputs": [],
   "source": [
    "def insert_data(paramtype, npoints, nreps=1):\n",
    "\n",
    "    meas = Measurement(exp=exp)\n",
    "\n",
    "    x1 = ManualParameter('x1')\n",
    "    x2 = ManualParameter('x2')\n",
    "    x3 = ManualParameter('x3')\n",
    "    y1 = ManualParameter('y1')\n",
    "    y2 = ManualParameter('y2')\n",
    "\n",
    "    meas.register_parameter(x1, paramtype=paramtype)\n",
    "    meas.register_parameter(x2, paramtype=paramtype)\n",
    "    meas.register_parameter(x3, paramtype=paramtype)\n",
    "    meas.register_parameter(y1, setpoints=[x1, x2, x3],\n",
    "                            paramtype=paramtype)\n",
    "    meas.register_parameter(y2, setpoints=[x1, x2, x3],\n",
    "                            paramtype=paramtype)\n",
    "    start = time.perf_counter()\n",
    "    with meas.run() as datasaver:\n",
    "        start_adding = time.perf_counter()\n",
    "        for i in range(nreps):\n",
    "            datasaver.add_result((x1, np.random.rand(npoints)),\n",
    "                                 (x2, np.random.rand(npoints)),\n",
    "                                 (x3, np.random.rand(npoints)),\n",
    "                                 (y1, np.random.rand(npoints)),\n",
    "                                 (y2, np.random.rand(npoints)))\n",
    "        stop_adding = time.perf_counter()\n",
    "        run_id = datasaver.run_id\n",
    "    stop = time.perf_counter()\n",
    "    tot_time = stop - start\n",
    "    add_time = stop_adding - start_adding\n",
    "    return tot_time, add_time, run_id"
   ]
  },
  {
   "cell_type": "markdown",
   "metadata": {},
   "source": [
    "## Comparison between numeric/array data and binary blob"
   ]
  },
  {
   "cell_type": "markdown",
   "metadata": {},
   "source": [
    "### Case1: Short experiment time"
   ]
  },
  {
   "cell_type": "code",
   "execution_count": 5,
   "metadata": {
    "execution": {
     "iopub.execute_input": "2020-12-21T08:20:22.213428Z",
     "iopub.status.busy": "2020-12-21T08:20:22.211716Z",
     "iopub.status.idle": "2020-12-21T08:20:22.920467Z",
     "shell.execute_reply": "2020-12-21T08:20:22.920064Z"
    }
   },
   "outputs": [
    {
     "name": "stdout",
     "output_type": "stream",
     "text": [
      "Starting experimental run with id: 1. \n",
      "Starting experimental run with id: 2. \n",
      "Starting experimental run with id: 3. \n",
      "Starting experimental run with id: 4. \n",
      "Starting experimental run with id: 5. \n",
      "Starting experimental run with id: 6. \n"
     ]
    },
    {
     "name": "stdout",
     "output_type": "stream",
     "text": [
      "Starting experimental run with id: 7. \n"
     ]
    },
    {
     "name": "stdout",
     "output_type": "stream",
     "text": [
      "Starting experimental run with id: 8. \n",
      "Starting experimental run with id: 9. \n",
      "Starting experimental run with id: 10. \n",
      "Starting experimental run with id: 11. \n"
     ]
    },
    {
     "name": "stdout",
     "output_type": "stream",
     "text": [
      "Starting experimental run with id: 12. \n",
      "Starting experimental run with id: 13. \n"
     ]
    },
    {
     "name": "stdout",
     "output_type": "stream",
     "text": [
      "Starting experimental run with id: 14. \n"
     ]
    }
   ],
   "source": [
    "sizes = [1,500,1000,2000,3000,4000,5000]\n",
    "t_numeric = []\n",
    "t_numeric_add = []\n",
    "t_array = []\n",
    "t_array_add = []\n",
    "for size in sizes:\n",
    "    tn, tna, run_id_n =  insert_data('numeric', size)\n",
    "    t_numeric.append(tn)\n",
    "    t_numeric_add.append(tna)\n",
    "\n",
    "    ta, taa, run_id_a =  insert_data('array', size)\n",
    "    t_array.append(ta)\n",
    "    t_array_add.append(taa)"
   ]
  },
  {
   "cell_type": "code",
   "execution_count": 6,
   "metadata": {
    "execution": {
     "iopub.execute_input": "2020-12-21T08:20:22.929284Z",
     "iopub.status.busy": "2020-12-21T08:20:22.924027Z",
     "iopub.status.idle": "2020-12-21T08:20:23.096578Z",
     "shell.execute_reply": "2020-12-21T08:20:23.097005Z"
    }
   },
   "outputs": [
    {
     "data": {
      "image/png": "[encoded data removed]",
      "text/plain": [
       "<Figure size 432x288 with 1 Axes>"
      ]
     },
     "metadata": {
      "needs_background": "light"
     },
     "output_type": "display_data"
    }
   ],
   "source": [
    "fig, ax = plt.subplots(1,1)\n",
    "ax.plot(sizes, t_numeric, 'o-', label='Inserting row-by-row')\n",
    "ax.plot(sizes, t_numeric_add, 'o-', label='Inserting row-by-row: add_result only')\n",
    "ax.plot(sizes, t_array, 'd-', label='Inserting as binary blob')\n",
    "ax.plot(sizes, t_array_add, 'd-', label='Inserting as binary blob: add_result only')\n",
    "ax.legend()\n",
    "ax.set_xlabel('Array length')\n",
    "ax.set_ylabel('Time (s)')\n",
    "fig.tight_layout()"
   ]
  },
  {
   "cell_type": "markdown",
   "metadata": {},
   "source": [
    "As shown in the latter figure, the time to setup and and close the experiment is approximately 0.4 sec. In case of small array sizes, the difference between inserting values of data as arrays and inserting them row-by-row is relatively unimportant. At larger array sizes, i.e. above 10000 points, the cost of writing data as individual datapoints starts to become important.\n"
   ]
  },
  {
   "cell_type": "markdown",
   "metadata": {},
   "source": [
    "### Case2: Long experiment time "
   ]
  },
  {
   "cell_type": "code",
   "execution_count": 7,
   "metadata": {
    "execution": {
     "iopub.execute_input": "2020-12-21T08:20:23.099048Z",
     "iopub.status.busy": "2020-12-21T08:20:23.098683Z",
     "iopub.status.idle": "2020-12-21T08:21:18.665201Z",
     "shell.execute_reply": "2020-12-21T08:21:18.664357Z"
    }
   },
   "outputs": [
    {
     "name": "stdout",
     "output_type": "stream",
     "text": [
      "Starting experimental run with id: 15. \n",
      "Starting experimental run with id: 16. \n",
      "Starting experimental run with id: 17. \n"
     ]
    },
    {
     "name": "stdout",
     "output_type": "stream",
     "text": [
      "Starting experimental run with id: 18. \n",
      "Starting experimental run with id: 19. \n"
     ]
    },
    {
     "name": "stdout",
     "output_type": "stream",
     "text": [
      "Starting experimental run with id: 20. \n"
     ]
    },
    {
     "name": "stdout",
     "output_type": "stream",
     "text": [
      "Starting experimental run with id: 21. \n"
     ]
    },
    {
     "name": "stdout",
     "output_type": "stream",
     "text": [
      "Starting experimental run with id: 22. \n"
     ]
    },
    {
     "name": "stdout",
     "output_type": "stream",
     "text": [
      "Starting experimental run with id: 23. \n"
     ]
    },
    {
     "name": "stdout",
     "output_type": "stream",
     "text": [
      "Starting experimental run with id: 24. \n"
     ]
    },
    {
     "name": "stdout",
     "output_type": "stream",
     "text": [
      "Starting experimental run with id: 25. \n"
     ]
    },
    {
     "name": "stdout",
     "output_type": "stream",
     "text": [
      "Starting experimental run with id: 26. \n"
     ]
    },
    {
     "name": "stdout",
     "output_type": "stream",
     "text": [
      "Starting experimental run with id: 27. \n"
     ]
    },
    {
     "name": "stdout",
     "output_type": "stream",
     "text": [
      "Starting experimental run with id: 28. \n"
     ]
    }
   ],
   "source": [
    "sizes = [1,500,1000,2000,3000,4000,5000]\n",
    "nreps = 100\n",
    "t_numeric = []\n",
    "t_numeric_add = []\n",
    "t_numeric_run_ids = []\n",
    "t_array = []\n",
    "t_array_add = []\n",
    "t_array_run_ids = []\n",
    "for size in sizes:\n",
    "    tn, tna, run_id_n =  insert_data('numeric', size, nreps=nreps)\n",
    "    t_numeric.append(tn)\n",
    "    t_numeric_add.append(tna)\n",
    "    t_numeric_run_ids.append(run_id_n)\n",
    "\n",
    "    ta, taa, run_id_a =  insert_data('array', size, nreps=nreps)\n",
    "    t_array.append(ta)\n",
    "    t_array_add.append(taa)\n",
    "    t_array_run_ids.append(run_id_a)"
   ]
  },
  {
   "cell_type": "code",
   "execution_count": 8,
   "metadata": {
    "execution": {
     "iopub.execute_input": "2020-12-21T08:21:18.694320Z",
     "iopub.status.busy": "2020-12-21T08:21:18.690493Z",
     "iopub.status.idle": "2020-12-21T08:21:18.859709Z",
     "shell.execute_reply": "2020-12-21T08:21:18.860247Z"
    },
    "scrolled": true
   },
   "outputs": [
    {
     "data": {
      "image/png": "[encoded data removed]",
      "text/plain": [
       "<Figure size 432x288 with 1 Axes>"
      ]
     },
     "metadata": {
      "needs_background": "light"
     },
     "output_type": "display_data"
    }
   ],
   "source": [
    "fig, ax = plt.subplots(1,1)\n",
    "ax.plot(sizes, t_numeric, 'o-', label='Inserting row-by-row')\n",
    "ax.plot(sizes, t_numeric_add, 'o-', label='Inserting row-by-row: add_result only')\n",
    "ax.plot(sizes, t_array, 'd-', label='Inserting as binary blob')\n",
    "ax.plot(sizes, t_array_add, 'd-', label='Inserting as binary blob: add_result only')\n",
    "ax.legend()\n",
    "ax.set_xlabel('Array length')\n",
    "ax.set_ylabel('Time (s)')\n",
    "fig.tight_layout()"
   ]
  },
  {
   "cell_type": "markdown",
   "metadata": {},
   "source": [
    "However, as we increase the length of the experiment, as seen here by repeating the insertion 100 times, we see a big difference between inserting values of the data row-by-row and inserting it as a binary blob."
   ]
  },
  {
   "cell_type": "markdown",
   "metadata": {},
   "source": [
    "## Loading the data "
   ]
  },
  {
   "cell_type": "code",
   "execution_count": 9,
   "metadata": {
    "execution": {
     "iopub.execute_input": "2020-12-21T08:21:18.863975Z",
     "iopub.status.busy": "2020-12-21T08:21:18.863495Z",
     "iopub.status.idle": "2020-12-21T08:21:18.866906Z",
     "shell.execute_reply": "2020-12-21T08:21:18.867474Z"
    }
   },
   "outputs": [],
   "source": [
    "from qcodes.dataset.data_set import load_by_id\n",
    "from qcodes.dataset.data_export import get_data_by_id"
   ]
  },
  {
   "cell_type": "markdown",
   "metadata": {},
   "source": [
    "As usual you can load the data by using the ``load_by_id`` function but you will notice that the different storage methods\n",
    "are reflected in shape of the data as it is retrieved. "
   ]
  },
  {
   "cell_type": "code",
   "execution_count": 10,
   "metadata": {
    "execution": {
     "iopub.execute_input": "2020-12-21T08:21:18.871231Z",
     "iopub.status.busy": "2020-12-21T08:21:18.870734Z",
     "iopub.status.idle": "2020-12-21T08:21:18.873917Z",
     "shell.execute_reply": "2020-12-21T08:21:18.873409Z"
    }
   },
   "outputs": [],
   "source": [
    "run_id_n = t_numeric_run_ids[0]\n",
    "run_id_a = t_array_run_ids[0]"
   ]
  },
  {
   "cell_type": "code",
   "execution_count": 11,
   "metadata": {
    "execution": {
     "iopub.execute_input": "2020-12-21T08:21:18.876942Z",
     "iopub.status.busy": "2020-12-21T08:21:18.876425Z",
     "iopub.status.idle": "2020-12-21T08:21:18.885590Z",
     "shell.execute_reply": "2020-12-21T08:21:18.885179Z"
    },
    "scrolled": true
   },
   "outputs": [
    {
     "data": {
      "text/plain": [
       "{'x1': {'x1': array([0.19885812, 0.19885812, 0.76970379, 0.76970379, 0.45280071,\n",
       "         0.45280071, 0.28780187, 0.28780187, 0.78681045, 0.78681045,\n",
       "         0.11572565, 0.11572565, 0.62626589, 0.62626589, 0.59605668,\n",
       "         0.59605668, 0.30401328, 0.30401328, 0.16235405, 0.16235405,\n",
       "         0.408518  , 0.408518  , 0.30783542, 0.30783542, 0.10034574,\n",
       "         0.10034574, 0.15643712, 0.15643712, 0.90741709, 0.90741709,\n",
       "         0.51898262, 0.51898262, 0.44782269, 0.44782269, 0.18575146,\n",
       "         0.18575146, 0.7019829 , 0.7019829 , 0.66024411, 0.66024411,\n",
       "         0.49659451, 0.49659451, 0.35758763, 0.35758763, 0.34056082,\n",
       "         0.34056082, 0.11892588, 0.11892588, 0.47970082, 0.47970082,\n",
       "         0.26782213, 0.26782213, 0.02009594, 0.02009594, 0.35307566,\n",
       "         0.35307566, 0.62469236, 0.62469236, 0.05894185, 0.05894185,\n",
       "         0.1528233 , 0.1528233 , 0.21120111, 0.21120111, 0.23944386,\n",
       "         0.23944386, 0.69258932, 0.69258932, 0.25276331, 0.25276331,\n",
       "         0.76329913, 0.76329913, 0.18488646, 0.18488646, 0.83031945,\n",
       "         0.83031945, 0.70364539, 0.70364539, 0.89362804, 0.89362804,\n",
       "         0.62302078, 0.62302078, 0.67037757, 0.67037757, 0.85852457,\n",
       "         0.85852457, 0.62091591, 0.62091591, 0.28773983, 0.28773983,\n",
       "         0.13982693, 0.13982693, 0.94343253, 0.94343253, 0.94389883,\n",
       "         0.94389883, 0.51387811, 0.51387811, 0.34168396, 0.34168396,\n",
       "         0.96406399, 0.96406399, 0.43255556, 0.43255556, 0.1500212 ,\n",
       "         0.1500212 , 0.62454571, 0.62454571, 0.89443529, 0.89443529,\n",
       "         0.63271342, 0.63271342, 0.87502856, 0.87502856, 0.32090987,\n",
       "         0.32090987, 0.79210845, 0.79210845, 0.45502038, 0.45502038,\n",
       "         0.66002849, 0.66002849, 0.76669385, 0.76669385, 0.8378666 ,\n",
       "         0.8378666 , 0.05030251, 0.05030251, 0.40933627, 0.40933627,\n",
       "         0.7171685 , 0.7171685 , 0.73088744, 0.73088744, 0.22337636,\n",
       "         0.22337636, 0.84983305, 0.84983305, 0.28993049, 0.28993049,\n",
       "         0.10869899, 0.10869899, 0.89305631, 0.89305631, 0.45877914,\n",
       "         0.45877914, 0.61961201, 0.61961201, 0.43926622, 0.43926622,\n",
       "         0.27349232, 0.27349232, 0.15641331, 0.15641331, 0.56308068,\n",
       "         0.56308068, 0.06241393, 0.06241393, 0.04013044, 0.04013044,\n",
       "         0.09444559, 0.09444559, 0.05901829, 0.05901829, 0.18329456,\n",
       "         0.18329456, 0.11338248, 0.11338248, 0.21901715, 0.21901715,\n",
       "         0.05452514, 0.05452514, 0.68324465, 0.68324465, 0.49561626,\n",
       "         0.49561626, 0.88440033, 0.88440033, 0.34905428, 0.34905428,\n",
       "         0.5097636 , 0.5097636 , 0.64331774, 0.64331774, 0.6887192 ,\n",
       "         0.6887192 , 0.40459353, 0.40459353, 0.97589083, 0.97589083,\n",
       "         0.3321629 , 0.3321629 , 0.56552556, 0.56552556, 0.59403465,\n",
       "         0.59403465, 0.92217955, 0.92217955, 0.34362747, 0.34362747])}}"
      ]
     },
     "execution_count": 1,
     "metadata": {},
     "output_type": "execute_result"
    }
   ],
   "source": [
    "ds = load_by_id(run_id_n)\n",
    "ds.get_parameter_data('x1')"
   ]
  },
  {
   "cell_type": "markdown",
   "metadata": {},
   "source": [
    "And a dataset stored as binary arrays"
   ]
  },
  {
   "cell_type": "code",
   "execution_count": 12,
   "metadata": {
    "execution": {
     "iopub.execute_input": "2020-12-21T08:21:18.888536Z",
     "iopub.status.busy": "2020-12-21T08:21:18.888096Z",
     "iopub.status.idle": "2020-12-21T08:21:18.939579Z",
     "shell.execute_reply": "2020-12-21T08:21:18.940328Z"
    },
    "scrolled": true
   },
   "outputs": [
    {
     "data": {
      "text/plain": [
       "{'x1': {'x1': array([[0.05980131],\n",
       "         [0.05980131],\n",
       "         [0.08319169],\n",
       "         [0.08319169],\n",
       "         [0.66572336],\n",
       "         [0.66572336],\n",
       "         [0.07238749],\n",
       "         [0.07238749],\n",
       "         [0.33267604],\n",
       "         [0.33267604],\n",
       "         [0.16219139],\n",
       "         [0.16219139],\n",
       "         [0.81191391],\n",
       "         [0.81191391],\n",
       "         [0.63905248],\n",
       "         [0.63905248],\n",
       "         [0.32740253],\n",
       "         [0.32740253],\n",
       "         [0.0516356 ],\n",
       "         [0.0516356 ],\n",
       "         [0.45490678],\n",
       "         [0.45490678],\n",
       "         [0.7406371 ],\n",
       "         [0.7406371 ],\n",
       "         [0.44987265],\n",
       "         [0.44987265],\n",
       "         [0.53834045],\n",
       "         [0.53834045],\n",
       "         [0.83138341],\n",
       "         [0.83138341],\n",
       "         [0.35914934],\n",
       "         [0.35914934],\n",
       "         [0.74562422],\n",
       "         [0.74562422],\n",
       "         [0.96783944],\n",
       "         [0.96783944],\n",
       "         [0.43938746],\n",
       "         [0.43938746],\n",
       "         [0.63326755],\n",
       "         [0.63326755],\n",
       "         [0.76545341],\n",
       "         [0.76545341],\n",
       "         [0.60608105],\n",
       "         [0.60608105],\n",
       "         [0.40244404],\n",
       "         [0.40244404],\n",
       "         [0.50056008],\n",
       "         [0.50056008],\n",
       "         [0.39776167],\n",
       "         [0.39776167],\n",
       "         [0.76469929],\n",
       "         [0.76469929],\n",
       "         [0.41972667],\n",
       "         [0.41972667],\n",
       "         [0.59297369],\n",
       "         [0.59297369],\n",
       "         [0.18015715],\n",
       "         [0.18015715],\n",
       "         [0.74127438],\n",
       "         [0.74127438],\n",
       "         [0.4256523 ],\n",
       "         [0.4256523 ],\n",
       "         [0.53971299],\n",
       "         [0.53971299],\n",
       "         [0.19359312],\n",
       "         [0.19359312],\n",
       "         [0.78070642],\n",
       "         [0.78070642],\n",
       "         [0.08519499],\n",
       "         [0.08519499],\n",
       "         [0.55135896],\n",
       "         [0.55135896],\n",
       "         [0.35938335],\n",
       "         [0.35938335],\n",
       "         [0.01362134],\n",
       "         [0.01362134],\n",
       "         [0.15983165],\n",
       "         [0.15983165],\n",
       "         [0.68528269],\n",
       "         [0.68528269],\n",
       "         [0.31090657],\n",
       "         [0.31090657],\n",
       "         [0.25386577],\n",
       "         [0.25386577],\n",
       "         [0.7068947 ],\n",
       "         [0.7068947 ],\n",
       "         [0.1847784 ],\n",
       "         [0.1847784 ],\n",
       "         [0.08476619],\n",
       "         [0.08476619],\n",
       "         [0.35980784],\n",
       "         [0.35980784],\n",
       "         [0.92877024],\n",
       "         [0.92877024],\n",
       "         [0.37552   ],\n",
       "         [0.37552   ],\n",
       "         [0.20203244],\n",
       "         [0.20203244],\n",
       "         [0.08287688],\n",
       "         [0.08287688],\n",
       "         [0.91960048],\n",
       "         [0.91960048],\n",
       "         [0.44114161],\n",
       "         [0.44114161],\n",
       "         [0.21899032],\n",
       "         [0.21899032],\n",
       "         [0.88185623],\n",
       "         [0.88185623],\n",
       "         [0.43372416],\n",
       "         [0.43372416],\n",
       "         [0.4279425 ],\n",
       "         [0.4279425 ],\n",
       "         [0.09661676],\n",
       "         [0.09661676],\n",
       "         [0.901588  ],\n",
       "         [0.901588  ],\n",
       "         [0.40739638],\n",
       "         [0.40739638],\n",
       "         [0.44768238],\n",
       "         [0.44768238],\n",
       "         [0.5523751 ],\n",
       "         [0.5523751 ],\n",
       "         [0.77987537],\n",
       "         [0.77987537],\n",
       "         [0.67535733],\n",
       "         [0.67535733],\n",
       "         [0.31210911],\n",
       "         [0.31210911],\n",
       "         [0.55440792],\n",
       "         [0.55440792],\n",
       "         [0.85297615],\n",
       "         [0.85297615],\n",
       "         [0.12986527],\n",
       "         [0.12986527],\n",
       "         [0.47826646],\n",
       "         [0.47826646],\n",
       "         [0.39607149],\n",
       "         [0.39607149],\n",
       "         [0.80821141],\n",
       "         [0.80821141],\n",
       "         [0.08598448],\n",
       "         [0.08598448],\n",
       "         [0.10736635],\n",
       "         [0.10736635],\n",
       "         [0.96012095],\n",
       "         [0.96012095],\n",
       "         [0.38673251],\n",
       "         [0.38673251],\n",
       "         [0.32106186],\n",
       "         [0.32106186],\n",
       "         [0.97552484],\n",
       "         [0.97552484],\n",
       "         [0.95154201],\n",
       "         [0.95154201],\n",
       "         [0.67946192],\n",
       "         [0.67946192],\n",
       "         [0.55967603],\n",
       "         [0.55967603],\n",
       "         [0.54428946],\n",
       "         [0.54428946],\n",
       "         [0.80305912],\n",
       "         [0.80305912],\n",
       "         [0.53565884],\n",
       "         [0.53565884],\n",
       "         [0.60881477],\n",
       "         [0.60881477],\n",
       "         [0.58364675],\n",
       "         [0.58364675],\n",
       "         [0.89021126],\n",
       "         [0.89021126],\n",
       "         [0.7264629 ],\n",
       "         [0.7264629 ],\n",
       "         [0.42262054],\n",
       "         [0.42262054],\n",
       "         [0.40236681],\n",
       "         [0.40236681],\n",
       "         [0.52760919],\n",
       "         [0.52760919],\n",
       "         [0.5154833 ],\n",
       "         [0.5154833 ],\n",
       "         [0.85011902],\n",
       "         [0.85011902],\n",
       "         [0.48097101],\n",
       "         [0.48097101],\n",
       "         [0.73009225],\n",
       "         [0.73009225],\n",
       "         [0.85320615],\n",
       "         [0.85320615],\n",
       "         [0.75935335],\n",
       "         [0.75935335],\n",
       "         [0.25771498],\n",
       "         [0.25771498],\n",
       "         [0.55898148],\n",
       "         [0.55898148],\n",
       "         [0.04428463],\n",
       "         [0.04428463],\n",
       "         [0.65692233],\n",
       "         [0.65692233],\n",
       "         [0.28606151],\n",
       "         [0.28606151]])}}"
      ]
     },
     "execution_count": 1,
     "metadata": {},
     "output_type": "execute_result"
    }
   ],
   "source": [
    "ds = load_by_id(run_id_a)\n",
    "ds.get_parameter_data('x1')"
   ]
  },
  {
   "cell_type": "code",
   "execution_count": null,
   "metadata": {},
   "outputs": [],
   "source": []
  }
 ],
 "metadata": {
  "kernelspec": {
   "display_name": "Python 3",
   "language": "python",
   "name": "python3"
  },
  "language_info": {
   "codemirror_mode": {
    "name": "ipython",
    "version": 3
   },
   "file_extension": ".py",
   "mimetype": "text/x-python",
   "name": "python",
   "nbconvert_exporter": "python",
   "pygments_lexer": "ipython3",
   "version": "3.7.9"
  },
  "nbsphinx": {
   "timeout": 600
  },
  "toc": {
   "base_numbering": 1,
   "nav_menu": {},
   "number_sections": true,
   "sideBar": true,
   "skip_h1_title": false,
   "title_cell": "Table of Contents",
   "title_sidebar": "Contents",
   "toc_cell": false,
   "toc_position": {},
   "toc_section_display": true,
   "toc_window_display": false
  },
  "varInspector": {
   "cols": {
    "lenName": 16,
    "lenType": 16,
    "lenVar": 40
   },
   "kernels_config": {
    "python": {
     "delete_cmd_postfix": "",
     "delete_cmd_prefix": "del ",
     "library": "var_list.py",
     "varRefreshCmd": "print(var_dic_list())"
    },
    "r": {
     "delete_cmd_postfix": ") ",
     "delete_cmd_prefix": "rm(",
     "library": "var_list.r",
     "varRefreshCmd": "cat(var_dic_list()) "
    }
   },
   "types_to_exclude": [
    "module",
    "function",
    "builtin_function_or_method",
    "instance",
    "_Feature"
   ],
   "window_display": false
  }
 },
 "nbformat": 4,
 "nbformat_minor": 2
}
