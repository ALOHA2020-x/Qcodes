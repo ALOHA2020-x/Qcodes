{
 "cells": [
  {
   "cell_type": "markdown",
   "metadata": {},
   "source": [
    "# DataSet Performance\n",
    "\n",
    "This notebook shows the trade-off between inserting data into a database row-by-row and as binary blobs. Inserting the data row-by-row means that we have direct access to all the data and may perform queries directly on the values of the data. On the other hand, as we shall see, this is much slower than inserting the data directly as binary blobs."
   ]
  },
  {
   "cell_type": "markdown",
   "metadata": {},
   "source": [
    "First, we choose a new location for the database to ensure that we don't add a bunch of benchmarking data to the default one."
   ]
  },
  {
   "cell_type": "code",
   "execution_count": 1,
   "metadata": {
    "execution": {
     "iopub.execute_input": "2021-04-20T16:25:43.013542Z",
     "iopub.status.busy": "2021-04-20T16:25:43.012917Z",
     "iopub.status.idle": "2021-04-20T16:25:44.061390Z",
     "shell.execute_reply": "2021-04-20T16:25:44.061997Z"
    }
   },
   "outputs": [
    {
     "name": "stdout",
     "output_type": "stream",
     "text": [
      "Logging hadn't been started.\n",
      "Activating auto-logging. Current session state plus future input saved.\n",
      "Filename       : /home/runner/.qcodes/logs/command_history.log\n",
      "Mode           : append\n",
      "Output logging : True\n",
      "Raw input log  : False\n",
      "Timestamping   : True\n",
      "State          : active\n"
     ]
    },
    {
     "name": "stdout",
     "output_type": "stream",
     "text": [
      "Qcodes Logfile : /home/runner/.qcodes/logs/210420-4423-qcodes.log\n"
     ]
    }
   ],
   "source": [
    "import os\n",
    "cwd = os.getcwd()\n",
    "import qcodes as qc\n",
    "qc.config[\"core\"][\"db_location\"] = os.path.join(cwd, 'testing.db')\n"
   ]
  },
  {
   "cell_type": "code",
   "execution_count": 2,
   "metadata": {
    "execution": {
     "iopub.execute_input": "2021-04-20T16:25:44.068552Z",
     "iopub.status.busy": "2021-04-20T16:25:44.067986Z",
     "iopub.status.idle": "2021-04-20T16:25:44.300484Z",
     "shell.execute_reply": "2021-04-20T16:25:44.299521Z"
    }
   },
   "outputs": [],
   "source": [
    "%matplotlib inline\n",
    "import time\n",
    "import matplotlib.pyplot as plt\n",
    "import numpy as np\n",
    "\n",
    "import qcodes as qc\n",
    "from qcodes.instrument.parameter import ManualParameter\n",
    "from qcodes.dataset.experiment_container import (Experiment,\n",
    "                                                 load_last_experiment,\n",
    "                                                 new_experiment)\n",
    "from qcodes.dataset.sqlite.database import initialise_database\n",
    "from qcodes import load_or_create_experiment\n",
    "from qcodes.dataset.measurements import Measurement"
   ]
  },
  {
   "cell_type": "code",
   "execution_count": 3,
   "metadata": {
    "execution": {
     "iopub.execute_input": "2021-04-20T16:25:44.304728Z",
     "iopub.status.busy": "2021-04-20T16:25:44.304069Z",
     "iopub.status.idle": "2021-04-20T16:25:44.381788Z",
     "shell.execute_reply": "2021-04-20T16:25:44.381259Z"
    }
   },
   "outputs": [
    {
     "name": "stdout",
     "output_type": "stream",
     "text": [
      "\r",
      "0it [00:00, ?it/s]"
     ]
    },
    {
     "name": "stdout",
     "output_type": "stream",
     "text": [
      "\r",
      "Upgrading database; v0 -> v1: : 0it [00:00, ?it/s]"
     ]
    },
    {
     "name": "stdout",
     "output_type": "stream",
     "text": [
      "\r",
      "Upgrading database; v0 -> v1: : 0it [00:00, ?it/s]"
     ]
    },
    {
     "name": "stdout",
     "output_type": "stream",
     "text": [
      "\n",
      "\r",
      "  0%|          | 0/1 [00:00<?, ?it/s]"
     ]
    },
    {
     "name": "stdout",
     "output_type": "stream",
     "text": [
      "\r",
      "Upgrading database; v1 -> v2:   0%|          | 0/1 [00:00<?, ?it/s]"
     ]
    },
    {
     "name": "stdout",
     "output_type": "stream",
     "text": [
      "\r",
      "Upgrading database; v1 -> v2: 100%|██████████| 1/1 [00:00<00:00, 577.09it/s]"
     ]
    },
    {
     "name": "stdout",
     "output_type": "stream",
     "text": [
      "\n",
      "\r",
      "0it [00:00, ?it/s]"
     ]
    },
    {
     "name": "stdout",
     "output_type": "stream",
     "text": [
      "\r",
      "Upgrading database; v2 -> v3: : 0it [00:00, ?it/s]"
     ]
    },
    {
     "name": "stdout",
     "output_type": "stream",
     "text": [
      "\r",
      "Upgrading database; v2 -> v3: : 0it [00:00, ?it/s]"
     ]
    },
    {
     "name": "stdout",
     "output_type": "stream",
     "text": [
      "\n",
      "\r",
      "0it [00:00, ?it/s]"
     ]
    },
    {
     "name": "stdout",
     "output_type": "stream",
     "text": [
      "\r",
      "Upgrading database; v3 -> v4: : 0it [00:00, ?it/s]"
     ]
    },
    {
     "name": "stdout",
     "output_type": "stream",
     "text": [
      "\r",
      "Upgrading database; v3 -> v4: : 0it [00:00, ?it/s]"
     ]
    },
    {
     "name": "stdout",
     "output_type": "stream",
     "text": [
      "\n",
      "\r",
      "  0%|          | 0/1 [00:00<?, ?it/s]"
     ]
    },
    {
     "name": "stdout",
     "output_type": "stream",
     "text": [
      "\r",
      "Upgrading database; v4 -> v5:   0%|          | 0/1 [00:00<?, ?it/s]"
     ]
    },
    {
     "name": "stdout",
     "output_type": "stream",
     "text": [
      "\r",
      "Upgrading database; v4 -> v5: 100%|██████████| 1/1 [00:00<00:00, 447.44it/s]"
     ]
    },
    {
     "name": "stdout",
     "output_type": "stream",
     "text": [
      "\n",
      "\r",
      "0it [00:00, ?it/s]"
     ]
    },
    {
     "name": "stdout",
     "output_type": "stream",
     "text": [
      "\r",
      "Upgrading database; v5 -> v6: : 0it [00:00, ?it/s]"
     ]
    },
    {
     "name": "stdout",
     "output_type": "stream",
     "text": [
      "\r",
      "Upgrading database; v5 -> v6: : 0it [00:00, ?it/s]"
     ]
    },
    {
     "name": "stdout",
     "output_type": "stream",
     "text": [
      "\n",
      "\r",
      "  0%|          | 0/1 [00:00<?, ?it/s]"
     ]
    },
    {
     "name": "stdout",
     "output_type": "stream",
     "text": [
      "\r",
      "Upgrading database; v6 -> v7:   0%|          | 0/1 [00:00<?, ?it/s]"
     ]
    },
    {
     "name": "stdout",
     "output_type": "stream",
     "text": [
      "\r",
      "Upgrading database; v6 -> v7: 100%|██████████| 1/1 [00:00<00:00, 385.54it/s]"
     ]
    },
    {
     "name": "stdout",
     "output_type": "stream",
     "text": [
      "\n",
      "\r",
      "  0%|          | 0/1 [00:00<?, ?it/s]"
     ]
    },
    {
     "name": "stdout",
     "output_type": "stream",
     "text": [
      "\r",
      "Upgrading database; v7 -> v8:   0%|          | 0/1 [00:00<?, ?it/s]"
     ]
    },
    {
     "name": "stdout",
     "output_type": "stream",
     "text": [
      "\r",
      "Upgrading database; v7 -> v8: 100%|██████████| 1/1 [00:00<00:00, 756.82it/s]"
     ]
    },
    {
     "name": "stdout",
     "output_type": "stream",
     "text": [
      "\n",
      "\r",
      "  0%|          | 0/1 [00:00<?, ?it/s]"
     ]
    },
    {
     "name": "stdout",
     "output_type": "stream",
     "text": [
      "\r",
      "Upgrading database; v8 -> v9:   0%|          | 0/1 [00:00<?, ?it/s]"
     ]
    },
    {
     "name": "stdout",
     "output_type": "stream",
     "text": [
      "\r",
      "Upgrading database; v8 -> v9: 100%|██████████| 1/1 [00:00<00:00, 806.13it/s]"
     ]
    },
    {
     "name": "stdout",
     "output_type": "stream",
     "text": [
      "\n"
     ]
    }
   ],
   "source": [
    "initialise_database()\n",
    "exp = load_or_create_experiment(experiment_name='tutorial_exp', sample_name=\"no sample\")"
   ]
  },
  {
   "cell_type": "markdown",
   "metadata": {},
   "source": [
    "Here, we define a simple function to benchmark the time it takes to insert n points with either numeric or array data type.\n",
    "We will compare both the time used to call ``add_result`` and the time used for the full measurement."
   ]
  },
  {
   "cell_type": "code",
   "execution_count": 4,
   "metadata": {
    "execution": {
     "iopub.execute_input": "2021-04-20T16:25:44.389935Z",
     "iopub.status.busy": "2021-04-20T16:25:44.388641Z",
     "iopub.status.idle": "2021-04-20T16:25:44.392169Z",
     "shell.execute_reply": "2021-04-20T16:25:44.391652Z"
    }
   },
   "outputs": [],
   "source": [
    "def insert_data(paramtype, npoints, nreps=1):\n",
    "\n",
    "    meas = Measurement(exp=exp)\n",
    "\n",
    "    x1 = ManualParameter('x1')\n",
    "    x2 = ManualParameter('x2')\n",
    "    x3 = ManualParameter('x3')\n",
    "    y1 = ManualParameter('y1')\n",
    "    y2 = ManualParameter('y2')\n",
    "\n",
    "    meas.register_parameter(x1, paramtype=paramtype)\n",
    "    meas.register_parameter(x2, paramtype=paramtype)\n",
    "    meas.register_parameter(x3, paramtype=paramtype)\n",
    "    meas.register_parameter(y1, setpoints=[x1, x2, x3],\n",
    "                            paramtype=paramtype)\n",
    "    meas.register_parameter(y2, setpoints=[x1, x2, x3],\n",
    "                            paramtype=paramtype)\n",
    "    start = time.perf_counter()\n",
    "    with meas.run() as datasaver:\n",
    "        start_adding = time.perf_counter()\n",
    "        for i in range(nreps):\n",
    "            datasaver.add_result((x1, np.random.rand(npoints)),\n",
    "                                 (x2, np.random.rand(npoints)),\n",
    "                                 (x3, np.random.rand(npoints)),\n",
    "                                 (y1, np.random.rand(npoints)),\n",
    "                                 (y2, np.random.rand(npoints)))\n",
    "        stop_adding = time.perf_counter()\n",
    "        run_id = datasaver.run_id\n",
    "    stop = time.perf_counter()\n",
    "    tot_time = stop - start\n",
    "    add_time = stop_adding - start_adding\n",
    "    return tot_time, add_time, run_id"
   ]
  },
  {
   "cell_type": "markdown",
   "metadata": {},
   "source": [
    "## Comparison between numeric/array data and binary blob"
   ]
  },
  {
   "cell_type": "markdown",
   "metadata": {},
   "source": [
    "### Case1: Short experiment time"
   ]
  },
  {
   "cell_type": "code",
   "execution_count": 5,
   "metadata": {
    "execution": {
     "iopub.execute_input": "2021-04-20T16:25:44.398769Z",
     "iopub.status.busy": "2021-04-20T16:25:44.397778Z",
     "iopub.status.idle": "2021-04-20T16:25:45.176975Z",
     "shell.execute_reply": "2021-04-20T16:25:45.176457Z"
    }
   },
   "outputs": [
    {
     "name": "stdout",
     "output_type": "stream",
     "text": [
      "Starting experimental run with id: 1. \n",
      "Starting experimental run with id: 2. \n",
      "Starting experimental run with id: 3. \n",
      "Starting experimental run with id: 4. \n",
      "Starting experimental run with id: 5. \n"
     ]
    },
    {
     "name": "stdout",
     "output_type": "stream",
     "text": [
      "Starting experimental run with id: 6. \n"
     ]
    },
    {
     "name": "stdout",
     "output_type": "stream",
     "text": [
      "Starting experimental run with id: 7. \n"
     ]
    },
    {
     "name": "stdout",
     "output_type": "stream",
     "text": [
      "Starting experimental run with id: 8. \n",
      "Starting experimental run with id: 9. \n"
     ]
    },
    {
     "name": "stdout",
     "output_type": "stream",
     "text": [
      "Starting experimental run with id: 10. \n",
      "Starting experimental run with id: 11. \n"
     ]
    },
    {
     "name": "stdout",
     "output_type": "stream",
     "text": [
      "Starting experimental run with id: 12. \n",
      "Starting experimental run with id: 13. \n",
      "Starting experimental run with id: 14. \n"
     ]
    }
   ],
   "source": [
    "sizes = [1,500,1000,2000,3000,4000,5000]\n",
    "t_numeric = []\n",
    "t_numeric_add = []\n",
    "t_array = []\n",
    "t_array_add = []\n",
    "for size in sizes:\n",
    "    tn, tna, run_id_n =  insert_data('numeric', size)\n",
    "    t_numeric.append(tn)\n",
    "    t_numeric_add.append(tna)\n",
    "\n",
    "    ta, taa, run_id_a =  insert_data('array', size)\n",
    "    t_array.append(ta)\n",
    "    t_array_add.append(taa)"
   ]
  },
  {
   "cell_type": "code",
   "execution_count": 6,
   "metadata": {
    "execution": {
     "iopub.execute_input": "2021-04-20T16:25:45.198011Z",
     "iopub.status.busy": "2021-04-20T16:25:45.197396Z",
     "iopub.status.idle": "2021-04-20T16:25:45.438974Z",
     "shell.execute_reply": "2021-04-20T16:25:45.438419Z"
    }
   },
   "outputs": [
    {
     "data": {
      "image/png": "[encoded data removed]",
      "text/plain": [
       "<Figure size 432x288 with 1 Axes>"
      ]
     },
     "metadata": {
      "needs_background": "light"
     },
     "output_type": "display_data"
    }
   ],
   "source": [
    "fig, ax = plt.subplots(1,1)\n",
    "ax.plot(sizes, t_numeric, 'o-', label='Inserting row-by-row')\n",
    "ax.plot(sizes, t_numeric_add, 'o-', label='Inserting row-by-row: add_result only')\n",
    "ax.plot(sizes, t_array, 'd-', label='Inserting as binary blob')\n",
    "ax.plot(sizes, t_array_add, 'd-', label='Inserting as binary blob: add_result only')\n",
    "ax.legend()\n",
    "ax.set_xlabel('Array length')\n",
    "ax.set_ylabel('Time (s)')\n",
    "fig.tight_layout()"
   ]
  },
  {
   "cell_type": "markdown",
   "metadata": {},
   "source": [
    "As shown in the latter figure, the time to setup and and close the experiment is approximately 0.4 sec. In case of small array sizes, the difference between inserting values of data as arrays and inserting them row-by-row is relatively unimportant. At larger array sizes, i.e. above 10000 points, the cost of writing data as individual datapoints starts to become important.\n"
   ]
  },
  {
   "cell_type": "markdown",
   "metadata": {},
   "source": [
    "### Case2: Long experiment time "
   ]
  },
  {
   "cell_type": "code",
   "execution_count": 7,
   "metadata": {
    "execution": {
     "iopub.execute_input": "2021-04-20T16:25:45.449944Z",
     "iopub.status.busy": "2021-04-20T16:25:45.445576Z",
     "iopub.status.idle": "2021-04-20T16:26:40.807450Z",
     "shell.execute_reply": "2021-04-20T16:26:40.806232Z"
    }
   },
   "outputs": [
    {
     "name": "stdout",
     "output_type": "stream",
     "text": [
      "Starting experimental run with id: 15. \n",
      "Starting experimental run with id: 16. \n",
      "Starting experimental run with id: 17. \n"
     ]
    },
    {
     "name": "stdout",
     "output_type": "stream",
     "text": [
      "Starting experimental run with id: 18. \n"
     ]
    },
    {
     "name": "stdout",
     "output_type": "stream",
     "text": [
      "Starting experimental run with id: 19. \n"
     ]
    },
    {
     "name": "stdout",
     "output_type": "stream",
     "text": [
      "Starting experimental run with id: 20. \n"
     ]
    },
    {
     "name": "stdout",
     "output_type": "stream",
     "text": [
      "Starting experimental run with id: 21. \n"
     ]
    },
    {
     "name": "stdout",
     "output_type": "stream",
     "text": [
      "Starting experimental run with id: 22. \n"
     ]
    },
    {
     "name": "stdout",
     "output_type": "stream",
     "text": [
      "Starting experimental run with id: 23. \n"
     ]
    },
    {
     "name": "stdout",
     "output_type": "stream",
     "text": [
      "Starting experimental run with id: 24. \n"
     ]
    },
    {
     "name": "stdout",
     "output_type": "stream",
     "text": [
      "Starting experimental run with id: 25. \n"
     ]
    },
    {
     "name": "stdout",
     "output_type": "stream",
     "text": [
      "Starting experimental run with id: 26. \n"
     ]
    },
    {
     "name": "stdout",
     "output_type": "stream",
     "text": [
      "Starting experimental run with id: 27. \n"
     ]
    },
    {
     "name": "stdout",
     "output_type": "stream",
     "text": [
      "Starting experimental run with id: 28. \n"
     ]
    }
   ],
   "source": [
    "sizes = [1,500,1000,2000,3000,4000,5000]\n",
    "nreps = 100\n",
    "t_numeric = []\n",
    "t_numeric_add = []\n",
    "t_numeric_run_ids = []\n",
    "t_array = []\n",
    "t_array_add = []\n",
    "t_array_run_ids = []\n",
    "for size in sizes:\n",
    "    tn, tna, run_id_n =  insert_data('numeric', size, nreps=nreps)\n",
    "    t_numeric.append(tn)\n",
    "    t_numeric_add.append(tna)\n",
    "    t_numeric_run_ids.append(run_id_n)\n",
    "\n",
    "    ta, taa, run_id_a =  insert_data('array', size, nreps=nreps)\n",
    "    t_array.append(ta)\n",
    "    t_array_add.append(taa)\n",
    "    t_array_run_ids.append(run_id_a)"
   ]
  },
  {
   "cell_type": "code",
   "execution_count": 8,
   "metadata": {
    "execution": {
     "iopub.execute_input": "2021-04-20T16:26:40.858937Z",
     "iopub.status.busy": "2021-04-20T16:26:40.843943Z",
     "iopub.status.idle": "2021-04-20T16:26:41.049009Z",
     "shell.execute_reply": "2021-04-20T16:26:41.047935Z"
    },
    "scrolled": true
   },
   "outputs": [
    {
     "data": {
      "image/png": "[encoded data removed]",
      "text/plain": [
       "<Figure size 432x288 with 1 Axes>"
      ]
     },
     "metadata": {
      "needs_background": "light"
     },
     "output_type": "display_data"
    }
   ],
   "source": [
    "fig, ax = plt.subplots(1,1)\n",
    "ax.plot(sizes, t_numeric, 'o-', label='Inserting row-by-row')\n",
    "ax.plot(sizes, t_numeric_add, 'o-', label='Inserting row-by-row: add_result only')\n",
    "ax.plot(sizes, t_array, 'd-', label='Inserting as binary blob')\n",
    "ax.plot(sizes, t_array_add, 'd-', label='Inserting as binary blob: add_result only')\n",
    "ax.legend()\n",
    "ax.set_xlabel('Array length')\n",
    "ax.set_ylabel('Time (s)')\n",
    "fig.tight_layout()"
   ]
  },
  {
   "cell_type": "markdown",
   "metadata": {},
   "source": [
    "However, as we increase the length of the experiment, as seen here by repeating the insertion 100 times, we see a big difference between inserting values of the data row-by-row and inserting it as a binary blob."
   ]
  },
  {
   "cell_type": "markdown",
   "metadata": {},
   "source": [
    "## Loading the data "
   ]
  },
  {
   "cell_type": "code",
   "execution_count": 9,
   "metadata": {
    "execution": {
     "iopub.execute_input": "2021-04-20T16:26:41.054382Z",
     "iopub.status.busy": "2021-04-20T16:26:41.053710Z",
     "iopub.status.idle": "2021-04-20T16:26:41.057179Z",
     "shell.execute_reply": "2021-04-20T16:26:41.057719Z"
    }
   },
   "outputs": [],
   "source": [
    "from qcodes.dataset.data_set import load_by_id"
   ]
  },
  {
   "cell_type": "markdown",
   "metadata": {},
   "source": [
    "As usual you can load the data by using the ``load_by_id`` function but you will notice that the different storage methods\n",
    "are reflected in shape of the data as it is retrieved. "
   ]
  },
  {
   "cell_type": "code",
   "execution_count": 10,
   "metadata": {
    "execution": {
     "iopub.execute_input": "2021-04-20T16:26:41.063967Z",
     "iopub.status.busy": "2021-04-20T16:26:41.062473Z",
     "iopub.status.idle": "2021-04-20T16:26:41.064695Z",
     "shell.execute_reply": "2021-04-20T16:26:41.065236Z"
    }
   },
   "outputs": [],
   "source": [
    "run_id_n = t_numeric_run_ids[0]\n",
    "run_id_a = t_array_run_ids[0]"
   ]
  },
  {
   "cell_type": "code",
   "execution_count": 11,
   "metadata": {
    "execution": {
     "iopub.execute_input": "2021-04-20T16:26:41.068931Z",
     "iopub.status.busy": "2021-04-20T16:26:41.068336Z",
     "iopub.status.idle": "2021-04-20T16:26:41.078026Z",
     "shell.execute_reply": "2021-04-20T16:26:41.078618Z"
    },
    "scrolled": true
   },
   "outputs": [
    {
     "data": {
      "text/plain": [
       "{'x1': {'x1': array([0.44603376, 0.44603376, 0.32911049, 0.32911049, 0.52871523,\n",
       "         0.52871523, 0.70330926, 0.70330926, 0.99584431, 0.99584431,\n",
       "         0.82476438, 0.82476438, 0.29484481, 0.29484481, 0.4244631 ,\n",
       "         0.4244631 , 0.5466017 , 0.5466017 , 0.12676369, 0.12676369,\n",
       "         0.45522028, 0.45522028, 0.28807203, 0.28807203, 0.57515244,\n",
       "         0.57515244, 0.29525832, 0.29525832, 0.14181858, 0.14181858,\n",
       "         0.65768123, 0.65768123, 0.65261433, 0.65261433, 0.6340516 ,\n",
       "         0.6340516 , 0.47533131, 0.47533131, 0.71718976, 0.71718976,\n",
       "         0.37013858, 0.37013858, 0.24165491, 0.24165491, 0.91797529,\n",
       "         0.91797529, 0.79604795, 0.79604795, 0.15458193, 0.15458193,\n",
       "         0.45795052, 0.45795052, 0.61353417, 0.61353417, 0.59161851,\n",
       "         0.59161851, 0.93434604, 0.93434604, 0.57475488, 0.57475488,\n",
       "         0.97804891, 0.97804891, 0.81772692, 0.81772692, 0.01672443,\n",
       "         0.01672443, 0.42098165, 0.42098165, 0.81150527, 0.81150527,\n",
       "         0.05938045, 0.05938045, 0.69701307, 0.69701307, 0.07704433,\n",
       "         0.07704433, 0.59725757, 0.59725757, 0.41369169, 0.41369169,\n",
       "         0.56419677, 0.56419677, 0.5890907 , 0.5890907 , 0.21441344,\n",
       "         0.21441344, 0.9615904 , 0.9615904 , 0.61681872, 0.61681872,\n",
       "         0.67368628, 0.67368628, 0.57214397, 0.57214397, 0.98225359,\n",
       "         0.98225359, 0.4781556 , 0.4781556 , 0.18960736, 0.18960736,\n",
       "         0.9148578 , 0.9148578 , 0.84244942, 0.84244942, 0.29992088,\n",
       "         0.29992088, 0.36313287, 0.36313287, 0.69749994, 0.69749994,\n",
       "         0.36677487, 0.36677487, 0.90365709, 0.90365709, 0.58131901,\n",
       "         0.58131901, 0.4510487 , 0.4510487 , 0.88808258, 0.88808258,\n",
       "         0.33592702, 0.33592702, 0.41866266, 0.41866266, 0.21782321,\n",
       "         0.21782321, 0.83947567, 0.83947567, 0.11050861, 0.11050861,\n",
       "         0.97213878, 0.97213878, 0.53804083, 0.53804083, 0.19409656,\n",
       "         0.19409656, 0.15603178, 0.15603178, 0.33111253, 0.33111253,\n",
       "         0.79711518, 0.79711518, 0.14039139, 0.14039139, 0.58466408,\n",
       "         0.58466408, 0.3786809 , 0.3786809 , 0.10428511, 0.10428511,\n",
       "         0.6766296 , 0.6766296 , 0.05463256, 0.05463256, 0.46657887,\n",
       "         0.46657887, 0.05754798, 0.05754798, 0.51613616, 0.51613616,\n",
       "         0.01793041, 0.01793041, 0.47497073, 0.47497073, 0.41062169,\n",
       "         0.41062169, 0.46036328, 0.46036328, 0.4572967 , 0.4572967 ,\n",
       "         0.59791222, 0.59791222, 0.74942575, 0.74942575, 0.33843408,\n",
       "         0.33843408, 0.85684958, 0.85684958, 0.87850758, 0.87850758,\n",
       "         0.10735978, 0.10735978, 0.67692882, 0.67692882, 0.8455657 ,\n",
       "         0.8455657 , 0.22153778, 0.22153778, 0.22542031, 0.22542031,\n",
       "         0.5659079 , 0.5659079 , 0.18513061, 0.18513061, 0.59408821,\n",
       "         0.59408821, 0.41118762, 0.41118762, 0.34643213, 0.34643213])}}"
      ]
     },
     "execution_count": 1,
     "metadata": {},
     "output_type": "execute_result"
    }
   ],
   "source": [
    "ds = load_by_id(run_id_n)\n",
    "ds.get_parameter_data('x1')"
   ]
  },
  {
   "cell_type": "markdown",
   "metadata": {},
   "source": [
    "And a dataset stored as binary arrays"
   ]
  },
  {
   "cell_type": "code",
   "execution_count": 12,
   "metadata": {
    "execution": {
     "iopub.execute_input": "2021-04-20T16:26:41.082806Z",
     "iopub.status.busy": "2021-04-20T16:26:41.082192Z",
     "iopub.status.idle": "2021-04-20T16:26:41.143334Z",
     "shell.execute_reply": "2021-04-20T16:26:41.143826Z"
    },
    "scrolled": true
   },
   "outputs": [
    {
     "data": {
      "text/plain": [
       "{'x1': {'x1': array([[0.24127387],\n",
       "         [0.24127387],\n",
       "         [0.2135113 ],\n",
       "         [0.2135113 ],\n",
       "         [0.66452284],\n",
       "         [0.66452284],\n",
       "         [0.44148251],\n",
       "         [0.44148251],\n",
       "         [0.07821723],\n",
       "         [0.07821723],\n",
       "         [0.60588683],\n",
       "         [0.60588683],\n",
       "         [0.4763282 ],\n",
       "         [0.4763282 ],\n",
       "         [0.14372461],\n",
       "         [0.14372461],\n",
       "         [0.51792564],\n",
       "         [0.51792564],\n",
       "         [0.53387563],\n",
       "         [0.53387563],\n",
       "         [0.18996173],\n",
       "         [0.18996173],\n",
       "         [0.7748811 ],\n",
       "         [0.7748811 ],\n",
       "         [0.03781845],\n",
       "         [0.03781845],\n",
       "         [0.70032005],\n",
       "         [0.70032005],\n",
       "         [0.75552387],\n",
       "         [0.75552387],\n",
       "         [0.03859358],\n",
       "         [0.03859358],\n",
       "         [0.42851836],\n",
       "         [0.42851836],\n",
       "         [0.936318  ],\n",
       "         [0.936318  ],\n",
       "         [0.19817071],\n",
       "         [0.19817071],\n",
       "         [0.05532952],\n",
       "         [0.05532952],\n",
       "         [0.87900817],\n",
       "         [0.87900817],\n",
       "         [0.7970868 ],\n",
       "         [0.7970868 ],\n",
       "         [0.06677055],\n",
       "         [0.06677055],\n",
       "         [0.30927017],\n",
       "         [0.30927017],\n",
       "         [0.96156998],\n",
       "         [0.96156998],\n",
       "         [0.94370796],\n",
       "         [0.94370796],\n",
       "         [0.05265902],\n",
       "         [0.05265902],\n",
       "         [0.49803522],\n",
       "         [0.49803522],\n",
       "         [0.12935228],\n",
       "         [0.12935228],\n",
       "         [0.13411686],\n",
       "         [0.13411686],\n",
       "         [0.69245125],\n",
       "         [0.69245125],\n",
       "         [0.59347619],\n",
       "         [0.59347619],\n",
       "         [0.57575438],\n",
       "         [0.57575438],\n",
       "         [0.30631875],\n",
       "         [0.30631875],\n",
       "         [0.32672846],\n",
       "         [0.32672846],\n",
       "         [0.50573044],\n",
       "         [0.50573044],\n",
       "         [0.09580613],\n",
       "         [0.09580613],\n",
       "         [0.34919767],\n",
       "         [0.34919767],\n",
       "         [0.87351435],\n",
       "         [0.87351435],\n",
       "         [0.38204152],\n",
       "         [0.38204152],\n",
       "         [0.09260834],\n",
       "         [0.09260834],\n",
       "         [0.99903389],\n",
       "         [0.99903389],\n",
       "         [0.96772152],\n",
       "         [0.96772152],\n",
       "         [0.69591075],\n",
       "         [0.69591075],\n",
       "         [0.66409495],\n",
       "         [0.66409495],\n",
       "         [0.80760968],\n",
       "         [0.80760968],\n",
       "         [0.37047675],\n",
       "         [0.37047675],\n",
       "         [0.75317225],\n",
       "         [0.75317225],\n",
       "         [0.95876175],\n",
       "         [0.95876175],\n",
       "         [0.44638364],\n",
       "         [0.44638364],\n",
       "         [0.84650294],\n",
       "         [0.84650294],\n",
       "         [0.47437914],\n",
       "         [0.47437914],\n",
       "         [0.53639055],\n",
       "         [0.53639055],\n",
       "         [0.68997716],\n",
       "         [0.68997716],\n",
       "         [0.04888585],\n",
       "         [0.04888585],\n",
       "         [0.0854477 ],\n",
       "         [0.0854477 ],\n",
       "         [0.1266434 ],\n",
       "         [0.1266434 ],\n",
       "         [0.69492438],\n",
       "         [0.69492438],\n",
       "         [0.90279193],\n",
       "         [0.90279193],\n",
       "         [0.237896  ],\n",
       "         [0.237896  ],\n",
       "         [0.96102303],\n",
       "         [0.96102303],\n",
       "         [0.79886518],\n",
       "         [0.79886518],\n",
       "         [0.32655067],\n",
       "         [0.32655067],\n",
       "         [0.4174896 ],\n",
       "         [0.4174896 ],\n",
       "         [0.9009451 ],\n",
       "         [0.9009451 ],\n",
       "         [0.16660569],\n",
       "         [0.16660569],\n",
       "         [0.09451915],\n",
       "         [0.09451915],\n",
       "         [0.87777192],\n",
       "         [0.87777192],\n",
       "         [0.3527576 ],\n",
       "         [0.3527576 ],\n",
       "         [0.56231845],\n",
       "         [0.56231845],\n",
       "         [0.71987751],\n",
       "         [0.71987751],\n",
       "         [0.7796784 ],\n",
       "         [0.7796784 ],\n",
       "         [0.35474786],\n",
       "         [0.35474786],\n",
       "         [0.89776844],\n",
       "         [0.89776844],\n",
       "         [0.53810433],\n",
       "         [0.53810433],\n",
       "         [0.05726402],\n",
       "         [0.05726402],\n",
       "         [0.65288396],\n",
       "         [0.65288396],\n",
       "         [0.08104791],\n",
       "         [0.08104791],\n",
       "         [0.23939206],\n",
       "         [0.23939206],\n",
       "         [0.45836618],\n",
       "         [0.45836618],\n",
       "         [0.62127195],\n",
       "         [0.62127195],\n",
       "         [0.8305119 ],\n",
       "         [0.8305119 ],\n",
       "         [0.43666959],\n",
       "         [0.43666959],\n",
       "         [0.43866606],\n",
       "         [0.43866606],\n",
       "         [0.49797506],\n",
       "         [0.49797506],\n",
       "         [0.19756562],\n",
       "         [0.19756562],\n",
       "         [0.12669669],\n",
       "         [0.12669669],\n",
       "         [0.1419782 ],\n",
       "         [0.1419782 ],\n",
       "         [0.02360225],\n",
       "         [0.02360225],\n",
       "         [0.22861581],\n",
       "         [0.22861581],\n",
       "         [0.0317878 ],\n",
       "         [0.0317878 ],\n",
       "         [0.85270158],\n",
       "         [0.85270158],\n",
       "         [0.39797509],\n",
       "         [0.39797509],\n",
       "         [0.82843473],\n",
       "         [0.82843473],\n",
       "         [0.56327546],\n",
       "         [0.56327546],\n",
       "         [0.94653514],\n",
       "         [0.94653514],\n",
       "         [0.52479724],\n",
       "         [0.52479724],\n",
       "         [0.40197295],\n",
       "         [0.40197295],\n",
       "         [0.01778568],\n",
       "         [0.01778568],\n",
       "         [0.51717455],\n",
       "         [0.51717455]])}}"
      ]
     },
     "execution_count": 1,
     "metadata": {},
     "output_type": "execute_result"
    }
   ],
   "source": [
    "ds = load_by_id(run_id_a)\n",
    "ds.get_parameter_data('x1')"
   ]
  },
  {
   "cell_type": "code",
   "execution_count": null,
   "metadata": {},
   "outputs": [],
   "source": []
  }
 ],
 "metadata": {
  "kernelspec": {
   "display_name": "Python 3",
   "language": "python",
   "name": "python3"
  },
  "language_info": {
   "codemirror_mode": {
    "name": "ipython",
    "version": 3
   },
   "file_extension": ".py",
   "mimetype": "text/x-python",
   "name": "python",
   "nbconvert_exporter": "python",
   "pygments_lexer": "ipython3",
   "version": "3.7.10"
  },
  "nbsphinx": {
   "timeout": 600
  },
  "toc": {
   "base_numbering": 1,
   "nav_menu": {},
   "number_sections": true,
   "sideBar": true,
   "skip_h1_title": false,
   "title_cell": "Table of Contents",
   "title_sidebar": "Contents",
   "toc_cell": false,
   "toc_position": {},
   "toc_section_display": true,
   "toc_window_display": false
  },
  "varInspector": {
   "cols": {
    "lenName": 16,
    "lenType": 16,
    "lenVar": 40
   },
   "kernels_config": {
    "python": {
     "delete_cmd_postfix": "",
     "delete_cmd_prefix": "del ",
     "library": "var_list.py",
     "varRefreshCmd": "print(var_dic_list())"
    },
    "r": {
     "delete_cmd_postfix": ") ",
     "delete_cmd_prefix": "rm(",
     "library": "var_list.r",
     "varRefreshCmd": "cat(var_dic_list()) "
    }
   },
   "types_to_exclude": [
    "module",
    "function",
    "builtin_function_or_method",
    "instance",
    "_Feature"
   ],
   "window_display": false
  }
 },
 "nbformat": 4,
 "nbformat_minor": 4
}
