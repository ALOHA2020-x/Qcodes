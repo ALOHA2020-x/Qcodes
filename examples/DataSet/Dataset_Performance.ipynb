{
 "cells": [
  {
   "cell_type": "markdown",
   "metadata": {},
   "source": [
    "# DataSet Performance\n",
    "\n",
    "This notebook shows the trade-off between inserting data into a database row-by-row and as binary blobs. Inserting the data row-by-row means that we have direct access to all the data and may perform queries directly on the values of the data. On the other hand, as we shall see, this is much slower than inserting the data directly as binary blobs."
   ]
  },
  {
   "cell_type": "markdown",
   "metadata": {},
   "source": [
    "First, we choose a new location for the database to ensure that we don't add a bunch of benchmarking data to the default one."
   ]
  },
  {
   "cell_type": "code",
   "execution_count": 1,
   "metadata": {
    "execution": {
     "iopub.execute_input": "2021-03-24T09:05:36.585328Z",
     "iopub.status.busy": "2021-03-24T09:05:36.584656Z",
     "iopub.status.idle": "2021-03-24T09:05:37.741498Z",
     "shell.execute_reply": "2021-03-24T09:05:37.742056Z"
    }
   },
   "outputs": [
    {
     "name": "stdout",
     "output_type": "stream",
     "text": [
      "Logging hadn't been started.\n",
      "Activating auto-logging. Current session state plus future input saved.\n",
      "Filename       : /home/runner/.qcodes/logs/command_history.log\n",
      "Mode           : append\n",
      "Output logging : True\n",
      "Raw input log  : False\n",
      "Timestamping   : True\n",
      "State          : active\n"
     ]
    },
    {
     "name": "stdout",
     "output_type": "stream",
     "text": [
      "Qcodes Logfile : /home/runner/.qcodes/logs/210324-4448-qcodes.log\n"
     ]
    }
   ],
   "source": [
    "import os\n",
    "cwd = os.getcwd()\n",
    "import qcodes as qc\n",
    "qc.config[\"core\"][\"db_location\"] = os.path.join(cwd, 'testing.db')\n"
   ]
  },
  {
   "cell_type": "code",
   "execution_count": 2,
   "metadata": {
    "execution": {
     "iopub.execute_input": "2021-03-24T09:05:37.749795Z",
     "iopub.status.busy": "2021-03-24T09:05:37.749090Z",
     "iopub.status.idle": "2021-03-24T09:05:38.001869Z",
     "shell.execute_reply": "2021-03-24T09:05:38.001246Z"
    }
   },
   "outputs": [],
   "source": [
    "%matplotlib inline\n",
    "import time\n",
    "import matplotlib.pyplot as plt\n",
    "import numpy as np\n",
    "\n",
    "import qcodes as qc\n",
    "from qcodes.instrument.parameter import ManualParameter\n",
    "from qcodes.dataset.experiment_container import (Experiment,\n",
    "                                                 load_last_experiment,\n",
    "                                                 new_experiment)\n",
    "from qcodes.dataset.sqlite.database import initialise_database\n",
    "from qcodes import load_or_create_experiment\n",
    "from qcodes.dataset.measurements import Measurement"
   ]
  },
  {
   "cell_type": "code",
   "execution_count": 3,
   "metadata": {
    "execution": {
     "iopub.execute_input": "2021-03-24T09:05:38.006337Z",
     "iopub.status.busy": "2021-03-24T09:05:38.005494Z",
     "iopub.status.idle": "2021-03-24T09:05:38.086877Z",
     "shell.execute_reply": "2021-03-24T09:05:38.087948Z"
    }
   },
   "outputs": [
    {
     "name": "stdout",
     "output_type": "stream",
     "text": [
      "\r",
      "0it [00:00, ?it/s]"
     ]
    },
    {
     "name": "stdout",
     "output_type": "stream",
     "text": [
      "\r",
      "Upgrading database; v0 -> v1: : 0it [00:00, ?it/s]"
     ]
    },
    {
     "name": "stdout",
     "output_type": "stream",
     "text": [
      "\r",
      "Upgrading database; v0 -> v1: : 0it [00:00, ?it/s]"
     ]
    },
    {
     "name": "stdout",
     "output_type": "stream",
     "text": [
      "\n",
      "\r",
      "  0%|          | 0/1 [00:00<?, ?it/s]"
     ]
    },
    {
     "name": "stdout",
     "output_type": "stream",
     "text": [
      "\r",
      "Upgrading database; v1 -> v2:   0%|          | 0/1 [00:00<?, ?it/s]"
     ]
    },
    {
     "name": "stdout",
     "output_type": "stream",
     "text": [
      "\r",
      "Upgrading database; v1 -> v2: 100%|██████████| 1/1 [00:00<00:00, 435.50it/s]"
     ]
    },
    {
     "name": "stdout",
     "output_type": "stream",
     "text": [
      "\n",
      "\r",
      "0it [00:00, ?it/s]"
     ]
    },
    {
     "name": "stdout",
     "output_type": "stream",
     "text": [
      "\r",
      "Upgrading database; v2 -> v3: : 0it [00:00, ?it/s]"
     ]
    },
    {
     "name": "stdout",
     "output_type": "stream",
     "text": [
      "\r",
      "Upgrading database; v2 -> v3: : 0it [00:00, ?it/s]"
     ]
    },
    {
     "name": "stdout",
     "output_type": "stream",
     "text": [
      "\n",
      "\r",
      "0it [00:00, ?it/s]"
     ]
    },
    {
     "name": "stdout",
     "output_type": "stream",
     "text": [
      "\r",
      "Upgrading database; v3 -> v4: : 0it [00:00, ?it/s]"
     ]
    },
    {
     "name": "stdout",
     "output_type": "stream",
     "text": [
      "\r",
      "Upgrading database; v3 -> v4: : 0it [00:00, ?it/s]"
     ]
    },
    {
     "name": "stdout",
     "output_type": "stream",
     "text": [
      "\n",
      "\r",
      "  0%|          | 0/1 [00:00<?, ?it/s]"
     ]
    },
    {
     "name": "stdout",
     "output_type": "stream",
     "text": [
      "\r",
      "Upgrading database; v4 -> v5:   0%|          | 0/1 [00:00<?, ?it/s]"
     ]
    },
    {
     "name": "stdout",
     "output_type": "stream",
     "text": [
      "\r",
      "Upgrading database; v4 -> v5: 100%|██████████| 1/1 [00:00<00:00, 364.37it/s]"
     ]
    },
    {
     "name": "stdout",
     "output_type": "stream",
     "text": [
      "\n",
      "\r",
      "0it [00:00, ?it/s]"
     ]
    },
    {
     "name": "stdout",
     "output_type": "stream",
     "text": [
      "\r",
      "Upgrading database; v5 -> v6: : 0it [00:00, ?it/s]"
     ]
    },
    {
     "name": "stdout",
     "output_type": "stream",
     "text": [
      "\r",
      "Upgrading database; v5 -> v6: : 0it [00:00, ?it/s]"
     ]
    },
    {
     "name": "stdout",
     "output_type": "stream",
     "text": [
      "\n",
      "\r",
      "  0%|          | 0/1 [00:00<?, ?it/s]"
     ]
    },
    {
     "name": "stdout",
     "output_type": "stream",
     "text": [
      "\r",
      "Upgrading database; v6 -> v7:   0%|          | 0/1 [00:00<?, ?it/s]"
     ]
    },
    {
     "name": "stdout",
     "output_type": "stream",
     "text": [
      "\r",
      "Upgrading database; v6 -> v7: 100%|██████████| 1/1 [00:00<00:00, 213.23it/s]"
     ]
    },
    {
     "name": "stdout",
     "output_type": "stream",
     "text": [
      "\n",
      "\r",
      "  0%|          | 0/1 [00:00<?, ?it/s]"
     ]
    },
    {
     "name": "stdout",
     "output_type": "stream",
     "text": [
      "\r",
      "Upgrading database; v7 -> v8:   0%|          | 0/1 [00:00<?, ?it/s]"
     ]
    },
    {
     "name": "stdout",
     "output_type": "stream",
     "text": [
      "\r",
      "Upgrading database; v7 -> v8: 100%|██████████| 1/1 [00:00<00:00, 696.96it/s]"
     ]
    },
    {
     "name": "stdout",
     "output_type": "stream",
     "text": [
      "\n",
      "\r",
      "  0%|          | 0/1 [00:00<?, ?it/s]"
     ]
    },
    {
     "name": "stdout",
     "output_type": "stream",
     "text": [
      "\r",
      "Upgrading database; v8 -> v9:   0%|          | 0/1 [00:00<?, ?it/s]"
     ]
    },
    {
     "name": "stdout",
     "output_type": "stream",
     "text": [
      "\r",
      "Upgrading database; v8 -> v9: 100%|██████████| 1/1 [00:00<00:00, 1046.74it/s]"
     ]
    },
    {
     "name": "stdout",
     "output_type": "stream",
     "text": [
      "\n"
     ]
    }
   ],
   "source": [
    "initialise_database()\n",
    "exp = load_or_create_experiment(experiment_name='tutorial_exp', sample_name=\"no sample\")"
   ]
  },
  {
   "cell_type": "markdown",
   "metadata": {},
   "source": [
    "Here, we define a simple function to benchmark the time it takes to insert n points with either numeric or array data type.\n",
    "We will compare both the time used to call ``add_result`` and the time used for the full measurement."
   ]
  },
  {
   "cell_type": "code",
   "execution_count": 4,
   "metadata": {
    "execution": {
     "iopub.execute_input": "2021-03-24T09:05:38.099145Z",
     "iopub.status.busy": "2021-03-24T09:05:38.096247Z",
     "iopub.status.idle": "2021-03-24T09:05:38.100040Z",
     "shell.execute_reply": "2021-03-24T09:05:38.100611Z"
    }
   },
   "outputs": [],
   "source": [
    "def insert_data(paramtype, npoints, nreps=1):\n",
    "\n",
    "    meas = Measurement(exp=exp)\n",
    "\n",
    "    x1 = ManualParameter('x1')\n",
    "    x2 = ManualParameter('x2')\n",
    "    x3 = ManualParameter('x3')\n",
    "    y1 = ManualParameter('y1')\n",
    "    y2 = ManualParameter('y2')\n",
    "\n",
    "    meas.register_parameter(x1, paramtype=paramtype)\n",
    "    meas.register_parameter(x2, paramtype=paramtype)\n",
    "    meas.register_parameter(x3, paramtype=paramtype)\n",
    "    meas.register_parameter(y1, setpoints=[x1, x2, x3],\n",
    "                            paramtype=paramtype)\n",
    "    meas.register_parameter(y2, setpoints=[x1, x2, x3],\n",
    "                            paramtype=paramtype)\n",
    "    start = time.perf_counter()\n",
    "    with meas.run() as datasaver:\n",
    "        start_adding = time.perf_counter()\n",
    "        for i in range(nreps):\n",
    "            datasaver.add_result((x1, np.random.rand(npoints)),\n",
    "                                 (x2, np.random.rand(npoints)),\n",
    "                                 (x3, np.random.rand(npoints)),\n",
    "                                 (y1, np.random.rand(npoints)),\n",
    "                                 (y2, np.random.rand(npoints)))\n",
    "        stop_adding = time.perf_counter()\n",
    "        run_id = datasaver.run_id\n",
    "    stop = time.perf_counter()\n",
    "    tot_time = stop - start\n",
    "    add_time = stop_adding - start_adding\n",
    "    return tot_time, add_time, run_id"
   ]
  },
  {
   "cell_type": "markdown",
   "metadata": {},
   "source": [
    "## Comparison between numeric/array data and binary blob"
   ]
  },
  {
   "cell_type": "markdown",
   "metadata": {},
   "source": [
    "### Case1: Short experiment time"
   ]
  },
  {
   "cell_type": "code",
   "execution_count": 5,
   "metadata": {
    "execution": {
     "iopub.execute_input": "2021-03-24T09:05:38.107618Z",
     "iopub.status.busy": "2021-03-24T09:05:38.106684Z",
     "iopub.status.idle": "2021-03-24T09:05:38.972799Z",
     "shell.execute_reply": "2021-03-24T09:05:38.973716Z"
    }
   },
   "outputs": [
    {
     "name": "stdout",
     "output_type": "stream",
     "text": [
      "Starting experimental run with id: 1. \n",
      "Starting experimental run with id: 2. \n",
      "Starting experimental run with id: 3. \n",
      "Starting experimental run with id: 4. \n",
      "Starting experimental run with id: 5. \n"
     ]
    },
    {
     "name": "stdout",
     "output_type": "stream",
     "text": [
      "Starting experimental run with id: 6. \n"
     ]
    },
    {
     "name": "stdout",
     "output_type": "stream",
     "text": [
      "Starting experimental run with id: 7. \n"
     ]
    },
    {
     "name": "stdout",
     "output_type": "stream",
     "text": [
      "Starting experimental run with id: 8. \n",
      "Starting experimental run with id: 9. \n"
     ]
    },
    {
     "name": "stdout",
     "output_type": "stream",
     "text": [
      "Starting experimental run with id: 10. \n",
      "Starting experimental run with id: 11. \n"
     ]
    },
    {
     "name": "stdout",
     "output_type": "stream",
     "text": [
      "Starting experimental run with id: 12. \n",
      "Starting experimental run with id: 13. \n"
     ]
    },
    {
     "name": "stdout",
     "output_type": "stream",
     "text": [
      "Starting experimental run with id: 14. \n"
     ]
    }
   ],
   "source": [
    "sizes = [1,500,1000,2000,3000,4000,5000]\n",
    "t_numeric = []\n",
    "t_numeric_add = []\n",
    "t_array = []\n",
    "t_array_add = []\n",
    "for size in sizes:\n",
    "    tn, tna, run_id_n =  insert_data('numeric', size)\n",
    "    t_numeric.append(tn)\n",
    "    t_numeric_add.append(tna)\n",
    "\n",
    "    ta, taa, run_id_a =  insert_data('array', size)\n",
    "    t_array.append(ta)\n",
    "    t_array_add.append(taa)"
   ]
  },
  {
   "cell_type": "code",
   "execution_count": 6,
   "metadata": {
    "execution": {
     "iopub.execute_input": "2021-03-24T09:05:38.999036Z",
     "iopub.status.busy": "2021-03-24T09:05:38.993723Z",
     "iopub.status.idle": "2021-03-24T09:05:39.264701Z",
     "shell.execute_reply": "2021-03-24T09:05:39.265580Z"
    }
   },
   "outputs": [
    {
     "data": {
      "image/png": "[encoded data removed]",
      "text/plain": [
       "<Figure size 432x288 with 1 Axes>"
      ]
     },
     "metadata": {
      "needs_background": "light"
     },
     "output_type": "display_data"
    }
   ],
   "source": [
    "fig, ax = plt.subplots(1,1)\n",
    "ax.plot(sizes, t_numeric, 'o-', label='Inserting row-by-row')\n",
    "ax.plot(sizes, t_numeric_add, 'o-', label='Inserting row-by-row: add_result only')\n",
    "ax.plot(sizes, t_array, 'd-', label='Inserting as binary blob')\n",
    "ax.plot(sizes, t_array_add, 'd-', label='Inserting as binary blob: add_result only')\n",
    "ax.legend()\n",
    "ax.set_xlabel('Array length')\n",
    "ax.set_ylabel('Time (s)')\n",
    "fig.tight_layout()"
   ]
  },
  {
   "cell_type": "markdown",
   "metadata": {},
   "source": [
    "As shown in the latter figure, the time to setup and and close the experiment is approximately 0.4 sec. In case of small array sizes, the difference between inserting values of data as arrays and inserting them row-by-row is relatively unimportant. At larger array sizes, i.e. above 10000 points, the cost of writing data as individual datapoints starts to become important.\n"
   ]
  },
  {
   "cell_type": "markdown",
   "metadata": {},
   "source": [
    "### Case2: Long experiment time "
   ]
  },
  {
   "cell_type": "code",
   "execution_count": 7,
   "metadata": {
    "execution": {
     "iopub.execute_input": "2021-03-24T09:05:39.273579Z",
     "iopub.status.busy": "2021-03-24T09:05:39.272302Z",
     "iopub.status.idle": "2021-03-24T09:06:41.572304Z",
     "shell.execute_reply": "2021-03-24T09:06:41.571688Z"
    }
   },
   "outputs": [
    {
     "name": "stdout",
     "output_type": "stream",
     "text": [
      "Starting experimental run with id: 15. \n",
      "Starting experimental run with id: 16. \n"
     ]
    },
    {
     "name": "stdout",
     "output_type": "stream",
     "text": [
      "Starting experimental run with id: 17. \n"
     ]
    },
    {
     "name": "stdout",
     "output_type": "stream",
     "text": [
      "Starting experimental run with id: 18. \n"
     ]
    },
    {
     "name": "stdout",
     "output_type": "stream",
     "text": [
      "Starting experimental run with id: 19. \n"
     ]
    },
    {
     "name": "stdout",
     "output_type": "stream",
     "text": [
      "Starting experimental run with id: 20. \n"
     ]
    },
    {
     "name": "stdout",
     "output_type": "stream",
     "text": [
      "Starting experimental run with id: 21. \n"
     ]
    },
    {
     "name": "stdout",
     "output_type": "stream",
     "text": [
      "Starting experimental run with id: 22. \n"
     ]
    },
    {
     "name": "stdout",
     "output_type": "stream",
     "text": [
      "Starting experimental run with id: 23. \n"
     ]
    },
    {
     "name": "stdout",
     "output_type": "stream",
     "text": [
      "Starting experimental run with id: 24. \n"
     ]
    },
    {
     "name": "stdout",
     "output_type": "stream",
     "text": [
      "Starting experimental run with id: 25. \n"
     ]
    },
    {
     "name": "stdout",
     "output_type": "stream",
     "text": [
      "Starting experimental run with id: 26. \n"
     ]
    },
    {
     "name": "stdout",
     "output_type": "stream",
     "text": [
      "Starting experimental run with id: 27. \n"
     ]
    },
    {
     "name": "stdout",
     "output_type": "stream",
     "text": [
      "Starting experimental run with id: 28. \n"
     ]
    }
   ],
   "source": [
    "sizes = [1,500,1000,2000,3000,4000,5000]\n",
    "nreps = 100\n",
    "t_numeric = []\n",
    "t_numeric_add = []\n",
    "t_numeric_run_ids = []\n",
    "t_array = []\n",
    "t_array_add = []\n",
    "t_array_run_ids = []\n",
    "for size in sizes:\n",
    "    tn, tna, run_id_n =  insert_data('numeric', size, nreps=nreps)\n",
    "    t_numeric.append(tn)\n",
    "    t_numeric_add.append(tna)\n",
    "    t_numeric_run_ids.append(run_id_n)\n",
    "\n",
    "    ta, taa, run_id_a =  insert_data('array', size, nreps=nreps)\n",
    "    t_array.append(ta)\n",
    "    t_array_add.append(taa)\n",
    "    t_array_run_ids.append(run_id_a)"
   ]
  },
  {
   "cell_type": "code",
   "execution_count": 8,
   "metadata": {
    "execution": {
     "iopub.execute_input": "2021-03-24T09:06:41.593998Z",
     "iopub.status.busy": "2021-03-24T09:06:41.592005Z",
     "iopub.status.idle": "2021-03-24T09:06:41.828516Z",
     "shell.execute_reply": "2021-03-24T09:06:41.829395Z"
    },
    "scrolled": true
   },
   "outputs": [
    {
     "data": {
      "image/png": "[encoded data removed]",
      "text/plain": [
       "<Figure size 432x288 with 1 Axes>"
      ]
     },
     "metadata": {
      "needs_background": "light"
     },
     "output_type": "display_data"
    }
   ],
   "source": [
    "fig, ax = plt.subplots(1,1)\n",
    "ax.plot(sizes, t_numeric, 'o-', label='Inserting row-by-row')\n",
    "ax.plot(sizes, t_numeric_add, 'o-', label='Inserting row-by-row: add_result only')\n",
    "ax.plot(sizes, t_array, 'd-', label='Inserting as binary blob')\n",
    "ax.plot(sizes, t_array_add, 'd-', label='Inserting as binary blob: add_result only')\n",
    "ax.legend()\n",
    "ax.set_xlabel('Array length')\n",
    "ax.set_ylabel('Time (s)')\n",
    "fig.tight_layout()"
   ]
  },
  {
   "cell_type": "markdown",
   "metadata": {},
   "source": [
    "However, as we increase the length of the experiment, as seen here by repeating the insertion 100 times, we see a big difference between inserting values of the data row-by-row and inserting it as a binary blob."
   ]
  },
  {
   "cell_type": "markdown",
   "metadata": {},
   "source": [
    "## Loading the data "
   ]
  },
  {
   "cell_type": "code",
   "execution_count": 9,
   "metadata": {
    "execution": {
     "iopub.execute_input": "2021-03-24T09:06:41.834831Z",
     "iopub.status.busy": "2021-03-24T09:06:41.833616Z",
     "iopub.status.idle": "2021-03-24T09:06:41.837538Z",
     "shell.execute_reply": "2021-03-24T09:06:41.836934Z"
    }
   },
   "outputs": [],
   "source": [
    "from qcodes.dataset.data_set import load_by_id\n",
    "from qcodes.dataset.data_export import get_data_by_id"
   ]
  },
  {
   "cell_type": "markdown",
   "metadata": {},
   "source": [
    "As usual you can load the data by using the ``load_by_id`` function but you will notice that the different storage methods\n",
    "are reflected in shape of the data as it is retrieved. "
   ]
  },
  {
   "cell_type": "code",
   "execution_count": 10,
   "metadata": {
    "execution": {
     "iopub.execute_input": "2021-03-24T09:06:41.842961Z",
     "iopub.status.busy": "2021-03-24T09:06:41.841414Z",
     "iopub.status.idle": "2021-03-24T09:06:41.843951Z",
     "shell.execute_reply": "2021-03-24T09:06:41.844523Z"
    }
   },
   "outputs": [],
   "source": [
    "run_id_n = t_numeric_run_ids[0]\n",
    "run_id_a = t_array_run_ids[0]"
   ]
  },
  {
   "cell_type": "code",
   "execution_count": 11,
   "metadata": {
    "execution": {
     "iopub.execute_input": "2021-03-24T09:06:41.848979Z",
     "iopub.status.busy": "2021-03-24T09:06:41.848325Z",
     "iopub.status.idle": "2021-03-24T09:06:41.860484Z",
     "shell.execute_reply": "2021-03-24T09:06:41.861013Z"
    },
    "scrolled": true
   },
   "outputs": [
    {
     "data": {
      "text/plain": [
       "{'x1': {'x1': array([0.68084499, 0.68084499, 0.51513107, 0.51513107, 0.27384793,\n",
       "         0.27384793, 0.79803459, 0.79803459, 0.02825568, 0.02825568,\n",
       "         0.1174915 , 0.1174915 , 0.60279184, 0.60279184, 0.25816687,\n",
       "         0.25816687, 0.86846067, 0.86846067, 0.66954405, 0.66954405,\n",
       "         0.20100789, 0.20100789, 0.7169301 , 0.7169301 , 0.89095046,\n",
       "         0.89095046, 0.93241937, 0.93241937, 0.49156967, 0.49156967,\n",
       "         0.36285439, 0.36285439, 0.34593061, 0.34593061, 0.95080916,\n",
       "         0.95080916, 0.43872826, 0.43872826, 0.51116109, 0.51116109,\n",
       "         0.54267501, 0.54267501, 0.52025067, 0.52025067, 0.531587  ,\n",
       "         0.531587  , 0.99146674, 0.99146674, 0.41465   , 0.41465   ,\n",
       "         0.8732312 , 0.8732312 , 0.21348908, 0.21348908, 0.55191955,\n",
       "         0.55191955, 0.39055368, 0.39055368, 0.47767787, 0.47767787,\n",
       "         0.39981171, 0.39981171, 0.69234689, 0.69234689, 0.3392242 ,\n",
       "         0.3392242 , 0.47651351, 0.47651351, 0.41756669, 0.41756669,\n",
       "         0.87678894, 0.87678894, 0.92202902, 0.92202902, 0.02056174,\n",
       "         0.02056174, 0.88326883, 0.88326883, 0.11110343, 0.11110343,\n",
       "         0.27621862, 0.27621862, 0.02717156, 0.02717156, 0.21092468,\n",
       "         0.21092468, 0.07003638, 0.07003638, 0.87369797, 0.87369797,\n",
       "         0.00890328, 0.00890328, 0.61771801, 0.61771801, 0.60769532,\n",
       "         0.60769532, 0.72952703, 0.72952703, 0.81928632, 0.81928632,\n",
       "         0.50847058, 0.50847058, 0.21980605, 0.21980605, 0.78025497,\n",
       "         0.78025497, 0.11449796, 0.11449796, 0.7065322 , 0.7065322 ,\n",
       "         0.09085694, 0.09085694, 0.86411237, 0.86411237, 0.07811687,\n",
       "         0.07811687, 0.42936785, 0.42936785, 0.23128393, 0.23128393,\n",
       "         0.63003025, 0.63003025, 0.90962287, 0.90962287, 0.94095733,\n",
       "         0.94095733, 0.64326908, 0.64326908, 0.40587025, 0.40587025,\n",
       "         0.67298969, 0.67298969, 0.74795953, 0.74795953, 0.90493178,\n",
       "         0.90493178, 0.77015118, 0.77015118, 0.21145803, 0.21145803,\n",
       "         0.54018163, 0.54018163, 0.41313318, 0.41313318, 0.16044101,\n",
       "         0.16044101, 0.08817789, 0.08817789, 0.90344065, 0.90344065,\n",
       "         0.80516916, 0.80516916, 0.73881092, 0.73881092, 0.586824  ,\n",
       "         0.586824  , 0.46380313, 0.46380313, 0.42498701, 0.42498701,\n",
       "         0.87390192, 0.87390192, 0.64557835, 0.64557835, 0.93765711,\n",
       "         0.93765711, 0.99080149, 0.99080149, 0.00403718, 0.00403718,\n",
       "         0.85416313, 0.85416313, 0.58358523, 0.58358523, 0.89703659,\n",
       "         0.89703659, 0.36352061, 0.36352061, 0.13422407, 0.13422407,\n",
       "         0.41074745, 0.41074745, 0.2407569 , 0.2407569 , 0.89900163,\n",
       "         0.89900163, 0.45939439, 0.45939439, 0.48282464, 0.48282464,\n",
       "         0.7881084 , 0.7881084 , 0.06524254, 0.06524254, 0.57855463,\n",
       "         0.57855463, 0.97367494, 0.97367494, 0.95253002, 0.95253002])}}"
      ]
     },
     "execution_count": 1,
     "metadata": {},
     "output_type": "execute_result"
    }
   ],
   "source": [
    "ds = load_by_id(run_id_n)\n",
    "ds.get_parameter_data('x1')"
   ]
  },
  {
   "cell_type": "markdown",
   "metadata": {},
   "source": [
    "And a dataset stored as binary arrays"
   ]
  },
  {
   "cell_type": "code",
   "execution_count": 12,
   "metadata": {
    "execution": {
     "iopub.execute_input": "2021-03-24T09:06:41.865070Z",
     "iopub.status.busy": "2021-03-24T09:06:41.864408Z",
     "iopub.status.idle": "2021-03-24T09:06:41.933119Z",
     "shell.execute_reply": "2021-03-24T09:06:41.933721Z"
    },
    "scrolled": true
   },
   "outputs": [
    {
     "data": {
      "text/plain": [
       "{'x1': {'x1': array([[0.59788896],\n",
       "         [0.59788896],\n",
       "         [0.67069526],\n",
       "         [0.67069526],\n",
       "         [0.25755828],\n",
       "         [0.25755828],\n",
       "         [0.80633245],\n",
       "         [0.80633245],\n",
       "         [0.28353043],\n",
       "         [0.28353043],\n",
       "         [0.71309054],\n",
       "         [0.71309054],\n",
       "         [0.77815124],\n",
       "         [0.77815124],\n",
       "         [0.30995244],\n",
       "         [0.30995244],\n",
       "         [0.90950288],\n",
       "         [0.90950288],\n",
       "         [0.10786348],\n",
       "         [0.10786348],\n",
       "         [0.73694685],\n",
       "         [0.73694685],\n",
       "         [0.35133155],\n",
       "         [0.35133155],\n",
       "         [0.84656528],\n",
       "         [0.84656528],\n",
       "         [0.52453882],\n",
       "         [0.52453882],\n",
       "         [0.39782177],\n",
       "         [0.39782177],\n",
       "         [0.03446194],\n",
       "         [0.03446194],\n",
       "         [0.53151167],\n",
       "         [0.53151167],\n",
       "         [0.41656074],\n",
       "         [0.41656074],\n",
       "         [0.71187405],\n",
       "         [0.71187405],\n",
       "         [0.69315948],\n",
       "         [0.69315948],\n",
       "         [0.91388615],\n",
       "         [0.91388615],\n",
       "         [0.2305873 ],\n",
       "         [0.2305873 ],\n",
       "         [0.71143408],\n",
       "         [0.71143408],\n",
       "         [0.18321861],\n",
       "         [0.18321861],\n",
       "         [0.4606118 ],\n",
       "         [0.4606118 ],\n",
       "         [0.96870012],\n",
       "         [0.96870012],\n",
       "         [0.62945571],\n",
       "         [0.62945571],\n",
       "         [0.43868283],\n",
       "         [0.43868283],\n",
       "         [0.54995355],\n",
       "         [0.54995355],\n",
       "         [0.86663391],\n",
       "         [0.86663391],\n",
       "         [0.05270864],\n",
       "         [0.05270864],\n",
       "         [0.2021377 ],\n",
       "         [0.2021377 ],\n",
       "         [0.78404362],\n",
       "         [0.78404362],\n",
       "         [0.41458456],\n",
       "         [0.41458456],\n",
       "         [0.6167948 ],\n",
       "         [0.6167948 ],\n",
       "         [0.93551609],\n",
       "         [0.93551609],\n",
       "         [0.55967551],\n",
       "         [0.55967551],\n",
       "         [0.4498504 ],\n",
       "         [0.4498504 ],\n",
       "         [0.22236589],\n",
       "         [0.22236589],\n",
       "         [0.84462159],\n",
       "         [0.84462159],\n",
       "         [0.6874097 ],\n",
       "         [0.6874097 ],\n",
       "         [0.43276047],\n",
       "         [0.43276047],\n",
       "         [0.85609656],\n",
       "         [0.85609656],\n",
       "         [0.27640968],\n",
       "         [0.27640968],\n",
       "         [0.63605836],\n",
       "         [0.63605836],\n",
       "         [0.106839  ],\n",
       "         [0.106839  ],\n",
       "         [0.33917499],\n",
       "         [0.33917499],\n",
       "         [0.38579834],\n",
       "         [0.38579834],\n",
       "         [0.66616432],\n",
       "         [0.66616432],\n",
       "         [0.18854132],\n",
       "         [0.18854132],\n",
       "         [0.38672163],\n",
       "         [0.38672163],\n",
       "         [0.43006312],\n",
       "         [0.43006312],\n",
       "         [0.69048094],\n",
       "         [0.69048094],\n",
       "         [0.00806716],\n",
       "         [0.00806716],\n",
       "         [0.18996998],\n",
       "         [0.18996998],\n",
       "         [0.59431062],\n",
       "         [0.59431062],\n",
       "         [0.47699497],\n",
       "         [0.47699497],\n",
       "         [0.03371526],\n",
       "         [0.03371526],\n",
       "         [0.14679624],\n",
       "         [0.14679624],\n",
       "         [0.37541498],\n",
       "         [0.37541498],\n",
       "         [0.86791669],\n",
       "         [0.86791669],\n",
       "         [0.63522106],\n",
       "         [0.63522106],\n",
       "         [0.44202995],\n",
       "         [0.44202995],\n",
       "         [0.07766535],\n",
       "         [0.07766535],\n",
       "         [0.58576904],\n",
       "         [0.58576904],\n",
       "         [0.47028867],\n",
       "         [0.47028867],\n",
       "         [0.47151445],\n",
       "         [0.47151445],\n",
       "         [0.2734802 ],\n",
       "         [0.2734802 ],\n",
       "         [0.40105625],\n",
       "         [0.40105625],\n",
       "         [0.19870658],\n",
       "         [0.19870658],\n",
       "         [0.4022072 ],\n",
       "         [0.4022072 ],\n",
       "         [0.17428051],\n",
       "         [0.17428051],\n",
       "         [0.78736987],\n",
       "         [0.78736987],\n",
       "         [0.02698308],\n",
       "         [0.02698308],\n",
       "         [0.50963346],\n",
       "         [0.50963346],\n",
       "         [0.12506333],\n",
       "         [0.12506333],\n",
       "         [0.98856887],\n",
       "         [0.98856887],\n",
       "         [0.99528275],\n",
       "         [0.99528275],\n",
       "         [0.40348956],\n",
       "         [0.40348956],\n",
       "         [0.63533143],\n",
       "         [0.63533143],\n",
       "         [0.69937822],\n",
       "         [0.69937822],\n",
       "         [0.06239989],\n",
       "         [0.06239989],\n",
       "         [0.16403344],\n",
       "         [0.16403344],\n",
       "         [0.34216536],\n",
       "         [0.34216536],\n",
       "         [0.00807107],\n",
       "         [0.00807107],\n",
       "         [0.75132941],\n",
       "         [0.75132941],\n",
       "         [0.06357881],\n",
       "         [0.06357881],\n",
       "         [0.38030008],\n",
       "         [0.38030008],\n",
       "         [0.81492748],\n",
       "         [0.81492748],\n",
       "         [0.21797558],\n",
       "         [0.21797558],\n",
       "         [0.20897221],\n",
       "         [0.20897221],\n",
       "         [0.73696569],\n",
       "         [0.73696569],\n",
       "         [0.0645516 ],\n",
       "         [0.0645516 ],\n",
       "         [0.58698467],\n",
       "         [0.58698467],\n",
       "         [0.98402262],\n",
       "         [0.98402262],\n",
       "         [0.57935774],\n",
       "         [0.57935774],\n",
       "         [0.99833327],\n",
       "         [0.99833327],\n",
       "         [0.02753744],\n",
       "         [0.02753744],\n",
       "         [0.75331323],\n",
       "         [0.75331323],\n",
       "         [0.91509965],\n",
       "         [0.91509965]])}}"
      ]
     },
     "execution_count": 1,
     "metadata": {},
     "output_type": "execute_result"
    }
   ],
   "source": [
    "ds = load_by_id(run_id_a)\n",
    "ds.get_parameter_data('x1')"
   ]
  },
  {
   "cell_type": "code",
   "execution_count": null,
   "metadata": {},
   "outputs": [],
   "source": []
  }
 ],
 "metadata": {
  "kernelspec": {
   "display_name": "Python 3",
   "language": "python",
   "name": "python3"
  },
  "language_info": {
   "codemirror_mode": {
    "name": "ipython",
    "version": 3
   },
   "file_extension": ".py",
   "mimetype": "text/x-python",
   "name": "python",
   "nbconvert_exporter": "python",
   "pygments_lexer": "ipython3",
   "version": "3.7.10"
  },
  "nbsphinx": {
   "timeout": 600
  },
  "toc": {
   "base_numbering": 1,
   "nav_menu": {},
   "number_sections": true,
   "sideBar": true,
   "skip_h1_title": false,
   "title_cell": "Table of Contents",
   "title_sidebar": "Contents",
   "toc_cell": false,
   "toc_position": {},
   "toc_section_display": true,
   "toc_window_display": false
  },
  "varInspector": {
   "cols": {
    "lenName": 16,
    "lenType": 16,
    "lenVar": 40
   },
   "kernels_config": {
    "python": {
     "delete_cmd_postfix": "",
     "delete_cmd_prefix": "del ",
     "library": "var_list.py",
     "varRefreshCmd": "print(var_dic_list())"
    },
    "r": {
     "delete_cmd_postfix": ") ",
     "delete_cmd_prefix": "rm(",
     "library": "var_list.r",
     "varRefreshCmd": "cat(var_dic_list()) "
    }
   },
   "types_to_exclude": [
    "module",
    "function",
    "builtin_function_or_method",
    "instance",
    "_Feature"
   ],
   "window_display": false
  }
 },
 "nbformat": 4,
 "nbformat_minor": 2
}
