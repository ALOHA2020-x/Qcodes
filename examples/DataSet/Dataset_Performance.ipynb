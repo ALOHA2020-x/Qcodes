{
 "cells": [
  {
   "cell_type": "markdown",
   "metadata": {},
   "source": [
    "# DataSet Performance\n",
    "\n",
    "This notebook shows the trade-off between inserting data into a database row-by-row and as binary blobs. Inserting the data row-by-row means that we have direct access to all the data and may perform queries directly on the values of the data. On the other hand, as we shall see, this is much slower than inserting the data directly as binary blobs."
   ]
  },
  {
   "cell_type": "markdown",
   "metadata": {},
   "source": [
    "First, we choose a new location for the database to ensure that we don't add a bunch of benchmarking data to the default one."
   ]
  },
  {
   "cell_type": "code",
   "execution_count": 1,
   "metadata": {
    "execution": {
     "iopub.execute_input": "2021-04-29T17:12:55.016501Z",
     "iopub.status.busy": "2021-04-29T17:12:55.015849Z",
     "iopub.status.idle": "2021-04-29T17:12:56.152189Z",
     "shell.execute_reply": "2021-04-29T17:12:56.150645Z"
    }
   },
   "outputs": [
    {
     "name": "stdout",
     "output_type": "stream",
     "text": [
      "Logging hadn't been started.\n",
      "Activating auto-logging. Current session state plus future input saved.\n",
      "Filename       : /home/runner/.qcodes/logs/command_history.log\n",
      "Mode           : append\n",
      "Output logging : True\n",
      "Raw input log  : False\n",
      "Timestamping   : True\n",
      "State          : active\n"
     ]
    },
    {
     "name": "stdout",
     "output_type": "stream",
     "text": [
      "Qcodes Logfile : /home/runner/.qcodes/logs/210429-4541-qcodes.log\n"
     ]
    }
   ],
   "source": [
    "import os\n",
    "cwd = os.getcwd()\n",
    "import qcodes as qc\n",
    "qc.config[\"core\"][\"db_location\"] = os.path.join(cwd, 'testing.db')\n"
   ]
  },
  {
   "cell_type": "code",
   "execution_count": 2,
   "metadata": {
    "execution": {
     "iopub.execute_input": "2021-04-29T17:12:56.158756Z",
     "iopub.status.busy": "2021-04-29T17:12:56.158142Z",
     "iopub.status.idle": "2021-04-29T17:12:56.350528Z",
     "shell.execute_reply": "2021-04-29T17:12:56.349669Z"
    }
   },
   "outputs": [],
   "source": [
    "%matplotlib inline\n",
    "import time\n",
    "import matplotlib.pyplot as plt\n",
    "import numpy as np\n",
    "\n",
    "import qcodes as qc\n",
    "from qcodes.instrument.parameter import ManualParameter\n",
    "from qcodes.dataset.experiment_container import (Experiment,\n",
    "                                                 load_last_experiment,\n",
    "                                                 new_experiment)\n",
    "from qcodes.dataset.sqlite.database import initialise_database\n",
    "from qcodes import load_or_create_experiment\n",
    "from qcodes.dataset.measurements import Measurement"
   ]
  },
  {
   "cell_type": "code",
   "execution_count": 3,
   "metadata": {
    "execution": {
     "iopub.execute_input": "2021-04-29T17:12:56.355500Z",
     "iopub.status.busy": "2021-04-29T17:12:56.354526Z",
     "iopub.status.idle": "2021-04-29T17:12:56.472919Z",
     "shell.execute_reply": "2021-04-29T17:12:56.472439Z"
    }
   },
   "outputs": [
    {
     "name": "stdout",
     "output_type": "stream",
     "text": [
      "\r",
      "0it [00:00, ?it/s]"
     ]
    },
    {
     "name": "stdout",
     "output_type": "stream",
     "text": [
      "\r",
      "Upgrading database; v0 -> v1: : 0it [00:00, ?it/s]"
     ]
    },
    {
     "name": "stdout",
     "output_type": "stream",
     "text": [
      "\r",
      "Upgrading database; v0 -> v1: : 0it [00:00, ?it/s]"
     ]
    },
    {
     "name": "stdout",
     "output_type": "stream",
     "text": [
      "\n",
      "\r",
      "  0%|          | 0/1 [00:00<?, ?it/s]"
     ]
    },
    {
     "name": "stdout",
     "output_type": "stream",
     "text": [
      "\r",
      "Upgrading database; v1 -> v2:   0%|          | 0/1 [00:00<?, ?it/s]"
     ]
    },
    {
     "name": "stdout",
     "output_type": "stream",
     "text": [
      "\r",
      "Upgrading database; v1 -> v2: 100%|██████████| 1/1 [00:00<00:00, 682.56it/s]"
     ]
    },
    {
     "name": "stdout",
     "output_type": "stream",
     "text": [
      "\n",
      "\r",
      "0it [00:00, ?it/s]"
     ]
    },
    {
     "name": "stdout",
     "output_type": "stream",
     "text": [
      "\r",
      "Upgrading database; v2 -> v3: : 0it [00:00, ?it/s]"
     ]
    },
    {
     "name": "stdout",
     "output_type": "stream",
     "text": [
      "\r",
      "Upgrading database; v2 -> v3: : 0it [00:00, ?it/s]"
     ]
    },
    {
     "name": "stdout",
     "output_type": "stream",
     "text": [
      "\n",
      "\r",
      "0it [00:00, ?it/s]"
     ]
    },
    {
     "name": "stdout",
     "output_type": "stream",
     "text": [
      "\r",
      "Upgrading database; v3 -> v4: : 0it [00:00, ?it/s]"
     ]
    },
    {
     "name": "stdout",
     "output_type": "stream",
     "text": [
      "\r",
      "Upgrading database; v3 -> v4: : 0it [00:00, ?it/s]"
     ]
    },
    {
     "name": "stdout",
     "output_type": "stream",
     "text": [
      "\n",
      "\r",
      "  0%|          | 0/1 [00:00<?, ?it/s]"
     ]
    },
    {
     "name": "stdout",
     "output_type": "stream",
     "text": [
      "\r",
      "Upgrading database; v4 -> v5:   0%|          | 0/1 [00:00<?, ?it/s]"
     ]
    },
    {
     "name": "stdout",
     "output_type": "stream",
     "text": [
      "\r",
      "Upgrading database; v4 -> v5: 100%|██████████| 1/1 [00:00<00:00, 1178.18it/s]"
     ]
    },
    {
     "name": "stdout",
     "output_type": "stream",
     "text": [
      "\n",
      "\r",
      "0it [00:00, ?it/s]"
     ]
    },
    {
     "name": "stdout",
     "output_type": "stream",
     "text": [
      "\r",
      "Upgrading database; v5 -> v6: : 0it [00:00, ?it/s]"
     ]
    },
    {
     "name": "stdout",
     "output_type": "stream",
     "text": [
      "\r",
      "Upgrading database; v5 -> v6: : 0it [00:00, ?it/s]"
     ]
    },
    {
     "name": "stdout",
     "output_type": "stream",
     "text": [
      "\n",
      "\r",
      "  0%|          | 0/1 [00:00<?, ?it/s]"
     ]
    },
    {
     "name": "stdout",
     "output_type": "stream",
     "text": [
      "\r",
      "Upgrading database; v6 -> v7:   0%|          | 0/1 [00:00<?, ?it/s]"
     ]
    },
    {
     "name": "stdout",
     "output_type": "stream",
     "text": [
      "\r",
      "Upgrading database; v6 -> v7: 100%|██████████| 1/1 [00:00<00:00, 423.75it/s]"
     ]
    },
    {
     "name": "stdout",
     "output_type": "stream",
     "text": [
      "\n",
      "\r",
      "  0%|          | 0/1 [00:00<?, ?it/s]"
     ]
    },
    {
     "name": "stdout",
     "output_type": "stream",
     "text": [
      "\r",
      "Upgrading database; v7 -> v8:   0%|          | 0/1 [00:00<?, ?it/s]"
     ]
    },
    {
     "name": "stdout",
     "output_type": "stream",
     "text": [
      "\r",
      "Upgrading database; v7 -> v8: 100%|██████████| 1/1 [00:00<00:00, 750.86it/s]"
     ]
    },
    {
     "name": "stdout",
     "output_type": "stream",
     "text": [
      "\n",
      "\r",
      "  0%|          | 0/1 [00:00<?, ?it/s]"
     ]
    },
    {
     "name": "stdout",
     "output_type": "stream",
     "text": [
      "\r",
      "Upgrading database; v8 -> v9:   0%|          | 0/1 [00:00<?, ?it/s]"
     ]
    },
    {
     "name": "stdout",
     "output_type": "stream",
     "text": [
      "\r",
      "Upgrading database; v8 -> v9: 100%|██████████| 1/1 [00:00<00:00, 1178.84it/s]"
     ]
    },
    {
     "name": "stdout",
     "output_type": "stream",
     "text": [
      "\n"
     ]
    }
   ],
   "source": [
    "initialise_database()\n",
    "exp = load_or_create_experiment(experiment_name='tutorial_exp', sample_name=\"no sample\")"
   ]
  },
  {
   "cell_type": "markdown",
   "metadata": {},
   "source": [
    "Here, we define a simple function to benchmark the time it takes to insert n points with either numeric or array data type.\n",
    "We will compare both the time used to call ``add_result`` and the time used for the full measurement."
   ]
  },
  {
   "cell_type": "code",
   "execution_count": 4,
   "metadata": {
    "execution": {
     "iopub.execute_input": "2021-04-29T17:12:56.482390Z",
     "iopub.status.busy": "2021-04-29T17:12:56.481816Z",
     "iopub.status.idle": "2021-04-29T17:12:56.484000Z",
     "shell.execute_reply": "2021-04-29T17:12:56.483535Z"
    }
   },
   "outputs": [],
   "source": [
    "def insert_data(paramtype, npoints, nreps=1):\n",
    "\n",
    "    meas = Measurement(exp=exp)\n",
    "\n",
    "    x1 = ManualParameter('x1')\n",
    "    x2 = ManualParameter('x2')\n",
    "    x3 = ManualParameter('x3')\n",
    "    y1 = ManualParameter('y1')\n",
    "    y2 = ManualParameter('y2')\n",
    "\n",
    "    meas.register_parameter(x1, paramtype=paramtype)\n",
    "    meas.register_parameter(x2, paramtype=paramtype)\n",
    "    meas.register_parameter(x3, paramtype=paramtype)\n",
    "    meas.register_parameter(y1, setpoints=[x1, x2, x3],\n",
    "                            paramtype=paramtype)\n",
    "    meas.register_parameter(y2, setpoints=[x1, x2, x3],\n",
    "                            paramtype=paramtype)\n",
    "    start = time.perf_counter()\n",
    "    with meas.run() as datasaver:\n",
    "        start_adding = time.perf_counter()\n",
    "        for i in range(nreps):\n",
    "            datasaver.add_result((x1, np.random.rand(npoints)),\n",
    "                                 (x2, np.random.rand(npoints)),\n",
    "                                 (x3, np.random.rand(npoints)),\n",
    "                                 (y1, np.random.rand(npoints)),\n",
    "                                 (y2, np.random.rand(npoints)))\n",
    "        stop_adding = time.perf_counter()\n",
    "        run_id = datasaver.run_id\n",
    "    stop = time.perf_counter()\n",
    "    tot_time = stop - start\n",
    "    add_time = stop_adding - start_adding\n",
    "    return tot_time, add_time, run_id"
   ]
  },
  {
   "cell_type": "markdown",
   "metadata": {},
   "source": [
    "## Comparison between numeric/array data and binary blob"
   ]
  },
  {
   "cell_type": "markdown",
   "metadata": {},
   "source": [
    "### Case1: Short experiment time"
   ]
  },
  {
   "cell_type": "code",
   "execution_count": 5,
   "metadata": {
    "execution": {
     "iopub.execute_input": "2021-04-29T17:12:56.489699Z",
     "iopub.status.busy": "2021-04-29T17:12:56.489135Z",
     "iopub.status.idle": "2021-04-29T17:12:57.250798Z",
     "shell.execute_reply": "2021-04-29T17:12:57.251259Z"
    }
   },
   "outputs": [
    {
     "name": "stdout",
     "output_type": "stream",
     "text": [
      "Starting experimental run with id: 1. \n",
      "Starting experimental run with id: 2. \n",
      "Starting experimental run with id: 3. \n",
      "Starting experimental run with id: 4. \n",
      "Starting experimental run with id: 5. \n"
     ]
    },
    {
     "name": "stdout",
     "output_type": "stream",
     "text": [
      "Starting experimental run with id: 6. \n"
     ]
    },
    {
     "name": "stdout",
     "output_type": "stream",
     "text": [
      "Starting experimental run with id: 7. \n"
     ]
    },
    {
     "name": "stdout",
     "output_type": "stream",
     "text": [
      "Starting experimental run with id: 8. \n",
      "Starting experimental run with id: 9. \n"
     ]
    },
    {
     "name": "stdout",
     "output_type": "stream",
     "text": [
      "Starting experimental run with id: 10. \n",
      "Starting experimental run with id: 11. \n"
     ]
    },
    {
     "name": "stdout",
     "output_type": "stream",
     "text": [
      "Starting experimental run with id: 12. \n",
      "Starting experimental run with id: 13. \n"
     ]
    },
    {
     "name": "stdout",
     "output_type": "stream",
     "text": [
      "Starting experimental run with id: 14. \n"
     ]
    }
   ],
   "source": [
    "sizes = [1,500,1000,2000,3000,4000,5000]\n",
    "t_numeric = []\n",
    "t_numeric_add = []\n",
    "t_array = []\n",
    "t_array_add = []\n",
    "for size in sizes:\n",
    "    tn, tna, run_id_n =  insert_data('numeric', size)\n",
    "    t_numeric.append(tn)\n",
    "    t_numeric_add.append(tna)\n",
    "\n",
    "    ta, taa, run_id_a =  insert_data('array', size)\n",
    "    t_array.append(ta)\n",
    "    t_array_add.append(taa)"
   ]
  },
  {
   "cell_type": "code",
   "execution_count": 6,
   "metadata": {
    "execution": {
     "iopub.execute_input": "2021-04-29T17:12:57.270595Z",
     "iopub.status.busy": "2021-04-29T17:12:57.268888Z",
     "iopub.status.idle": "2021-04-29T17:12:57.445017Z",
     "shell.execute_reply": "2021-04-29T17:12:57.445551Z"
    }
   },
   "outputs": [
    {
     "data": {
      "image/png": "[encoded data removed]",
      "text/plain": [
       "<Figure size 432x288 with 1 Axes>"
      ]
     },
     "metadata": {
      "needs_background": "light"
     },
     "output_type": "display_data"
    }
   ],
   "source": [
    "fig, ax = plt.subplots(1,1)\n",
    "ax.plot(sizes, t_numeric, 'o-', label='Inserting row-by-row')\n",
    "ax.plot(sizes, t_numeric_add, 'o-', label='Inserting row-by-row: add_result only')\n",
    "ax.plot(sizes, t_array, 'd-', label='Inserting as binary blob')\n",
    "ax.plot(sizes, t_array_add, 'd-', label='Inserting as binary blob: add_result only')\n",
    "ax.legend()\n",
    "ax.set_xlabel('Array length')\n",
    "ax.set_ylabel('Time (s)')\n",
    "fig.tight_layout()"
   ]
  },
  {
   "cell_type": "markdown",
   "metadata": {},
   "source": [
    "As shown in the latter figure, the time to setup and and close the experiment is approximately 0.4 sec. In case of small array sizes, the difference between inserting values of data as arrays and inserting them row-by-row is relatively unimportant. At larger array sizes, i.e. above 10000 points, the cost of writing data as individual datapoints starts to become important.\n"
   ]
  },
  {
   "cell_type": "markdown",
   "metadata": {},
   "source": [
    "### Case2: Long experiment time "
   ]
  },
  {
   "cell_type": "code",
   "execution_count": 7,
   "metadata": {
    "execution": {
     "iopub.execute_input": "2021-04-29T17:12:57.448160Z",
     "iopub.status.busy": "2021-04-29T17:12:57.447642Z",
     "iopub.status.idle": "2021-04-29T17:13:51.336552Z",
     "shell.execute_reply": "2021-04-29T17:13:51.335610Z"
    }
   },
   "outputs": [
    {
     "name": "stdout",
     "output_type": "stream",
     "text": [
      "Starting experimental run with id: 15. \n",
      "Starting experimental run with id: 16. \n",
      "Starting experimental run with id: 17. \n"
     ]
    },
    {
     "name": "stdout",
     "output_type": "stream",
     "text": [
      "Starting experimental run with id: 18. \n",
      "Starting experimental run with id: 19. \n"
     ]
    },
    {
     "name": "stdout",
     "output_type": "stream",
     "text": [
      "Starting experimental run with id: 20. \n"
     ]
    },
    {
     "name": "stdout",
     "output_type": "stream",
     "text": [
      "Starting experimental run with id: 21. \n"
     ]
    },
    {
     "name": "stdout",
     "output_type": "stream",
     "text": [
      "Starting experimental run with id: 22. \n"
     ]
    },
    {
     "name": "stdout",
     "output_type": "stream",
     "text": [
      "Starting experimental run with id: 23. \n"
     ]
    },
    {
     "name": "stdout",
     "output_type": "stream",
     "text": [
      "Starting experimental run with id: 24. \n"
     ]
    },
    {
     "name": "stdout",
     "output_type": "stream",
     "text": [
      "Starting experimental run with id: 25. \n"
     ]
    },
    {
     "name": "stdout",
     "output_type": "stream",
     "text": [
      "Starting experimental run with id: 26. \n"
     ]
    },
    {
     "name": "stdout",
     "output_type": "stream",
     "text": [
      "Starting experimental run with id: 27. \n"
     ]
    },
    {
     "name": "stdout",
     "output_type": "stream",
     "text": [
      "Starting experimental run with id: 28. \n"
     ]
    }
   ],
   "source": [
    "sizes = [1,500,1000,2000,3000,4000,5000]\n",
    "nreps = 100\n",
    "t_numeric = []\n",
    "t_numeric_add = []\n",
    "t_numeric_run_ids = []\n",
    "t_array = []\n",
    "t_array_add = []\n",
    "t_array_run_ids = []\n",
    "for size in sizes:\n",
    "    tn, tna, run_id_n =  insert_data('numeric', size, nreps=nreps)\n",
    "    t_numeric.append(tn)\n",
    "    t_numeric_add.append(tna)\n",
    "    t_numeric_run_ids.append(run_id_n)\n",
    "\n",
    "    ta, taa, run_id_a =  insert_data('array', size, nreps=nreps)\n",
    "    t_array.append(ta)\n",
    "    t_array_add.append(taa)\n",
    "    t_array_run_ids.append(run_id_a)"
   ]
  },
  {
   "cell_type": "code",
   "execution_count": 8,
   "metadata": {
    "execution": {
     "iopub.execute_input": "2021-04-29T17:13:51.364754Z",
     "iopub.status.busy": "2021-04-29T17:13:51.356107Z",
     "iopub.status.idle": "2021-04-29T17:13:51.517640Z",
     "shell.execute_reply": "2021-04-29T17:13:51.518449Z"
    },
    "scrolled": true
   },
   "outputs": [
    {
     "data": {
      "image/png": "[encoded data removed]",
      "text/plain": [
       "<Figure size 432x288 with 1 Axes>"
      ]
     },
     "metadata": {
      "needs_background": "light"
     },
     "output_type": "display_data"
    }
   ],
   "source": [
    "fig, ax = plt.subplots(1,1)\n",
    "ax.plot(sizes, t_numeric, 'o-', label='Inserting row-by-row')\n",
    "ax.plot(sizes, t_numeric_add, 'o-', label='Inserting row-by-row: add_result only')\n",
    "ax.plot(sizes, t_array, 'd-', label='Inserting as binary blob')\n",
    "ax.plot(sizes, t_array_add, 'd-', label='Inserting as binary blob: add_result only')\n",
    "ax.legend()\n",
    "ax.set_xlabel('Array length')\n",
    "ax.set_ylabel('Time (s)')\n",
    "fig.tight_layout()"
   ]
  },
  {
   "cell_type": "markdown",
   "metadata": {},
   "source": [
    "However, as we increase the length of the experiment, as seen here by repeating the insertion 100 times, we see a big difference between inserting values of the data row-by-row and inserting it as a binary blob."
   ]
  },
  {
   "cell_type": "markdown",
   "metadata": {},
   "source": [
    "## Loading the data "
   ]
  },
  {
   "cell_type": "code",
   "execution_count": 9,
   "metadata": {
    "execution": {
     "iopub.execute_input": "2021-04-29T17:13:51.521898Z",
     "iopub.status.busy": "2021-04-29T17:13:51.520878Z",
     "iopub.status.idle": "2021-04-29T17:13:51.525294Z",
     "shell.execute_reply": "2021-04-29T17:13:51.526003Z"
    }
   },
   "outputs": [],
   "source": [
    "from qcodes.dataset.data_set import load_by_id"
   ]
  },
  {
   "cell_type": "markdown",
   "metadata": {},
   "source": [
    "As usual you can load the data by using the ``load_by_id`` function but you will notice that the different storage methods\n",
    "are reflected in shape of the data as it is retrieved. "
   ]
  },
  {
   "cell_type": "code",
   "execution_count": 10,
   "metadata": {
    "execution": {
     "iopub.execute_input": "2021-04-29T17:13:51.529363Z",
     "iopub.status.busy": "2021-04-29T17:13:51.528292Z",
     "iopub.status.idle": "2021-04-29T17:13:51.532326Z",
     "shell.execute_reply": "2021-04-29T17:13:51.533022Z"
    }
   },
   "outputs": [],
   "source": [
    "run_id_n = t_numeric_run_ids[0]\n",
    "run_id_a = t_array_run_ids[0]"
   ]
  },
  {
   "cell_type": "code",
   "execution_count": 11,
   "metadata": {
    "execution": {
     "iopub.execute_input": "2021-04-29T17:13:51.536122Z",
     "iopub.status.busy": "2021-04-29T17:13:51.535160Z",
     "iopub.status.idle": "2021-04-29T17:13:51.547584Z",
     "shell.execute_reply": "2021-04-29T17:13:51.547153Z"
    },
    "scrolled": true
   },
   "outputs": [
    {
     "data": {
      "text/plain": [
       "{'x1': {'x1': array([0.87228216, 0.87228216, 0.43562517, 0.43562517, 0.97648221,\n",
       "         0.97648221, 0.14864332, 0.14864332, 0.64218877, 0.64218877,\n",
       "         0.00914245, 0.00914245, 0.0708127 , 0.0708127 , 0.15820388,\n",
       "         0.15820388, 0.9229755 , 0.9229755 , 0.48664807, 0.48664807,\n",
       "         0.62628311, 0.62628311, 0.48913738, 0.48913738, 0.00477666,\n",
       "         0.00477666, 0.24600307, 0.24600307, 0.26696437, 0.26696437,\n",
       "         0.40325899, 0.40325899, 0.42690925, 0.42690925, 0.59400609,\n",
       "         0.59400609, 0.15796146, 0.15796146, 0.86686134, 0.86686134,\n",
       "         0.90183646, 0.90183646, 0.37211878, 0.37211878, 0.06148515,\n",
       "         0.06148515, 0.71489249, 0.71489249, 0.44763503, 0.44763503,\n",
       "         0.19264479, 0.19264479, 0.91056091, 0.91056091, 0.46726643,\n",
       "         0.46726643, 0.82937273, 0.82937273, 0.08660495, 0.08660495,\n",
       "         0.28574606, 0.28574606, 0.64078493, 0.64078493, 0.36832761,\n",
       "         0.36832761, 0.22717235, 0.22717235, 0.97345201, 0.97345201,\n",
       "         0.16800332, 0.16800332, 0.96125759, 0.96125759, 0.13571639,\n",
       "         0.13571639, 0.57824216, 0.57824216, 0.26722216, 0.26722216,\n",
       "         0.46203109, 0.46203109, 0.02403762, 0.02403762, 0.86263075,\n",
       "         0.86263075, 0.86506955, 0.86506955, 0.44999971, 0.44999971,\n",
       "         0.43568006, 0.43568006, 0.28262208, 0.28262208, 0.59026371,\n",
       "         0.59026371, 0.40686526, 0.40686526, 0.36061163, 0.36061163,\n",
       "         0.38207795, 0.38207795, 0.96256249, 0.96256249, 0.35646291,\n",
       "         0.35646291, 0.6327271 , 0.6327271 , 0.68554263, 0.68554263,\n",
       "         0.6896725 , 0.6896725 , 0.3714797 , 0.3714797 , 0.4679779 ,\n",
       "         0.4679779 , 0.78160141, 0.78160141, 0.08745161, 0.08745161,\n",
       "         0.8609137 , 0.8609137 , 0.41432451, 0.41432451, 0.13435411,\n",
       "         0.13435411, 0.73528741, 0.73528741, 0.77032835, 0.77032835,\n",
       "         0.54608125, 0.54608125, 0.59205199, 0.59205199, 0.52059174,\n",
       "         0.52059174, 0.90715922, 0.90715922, 0.80087606, 0.80087606,\n",
       "         0.10588846, 0.10588846, 0.28132087, 0.28132087, 0.3928342 ,\n",
       "         0.3928342 , 0.04446085, 0.04446085, 0.53325382, 0.53325382,\n",
       "         0.20812616, 0.20812616, 0.83058774, 0.83058774, 0.40264666,\n",
       "         0.40264666, 0.11900527, 0.11900527, 0.08068522, 0.08068522,\n",
       "         0.0980355 , 0.0980355 , 0.46986166, 0.46986166, 0.95671514,\n",
       "         0.95671514, 0.96967199, 0.96967199, 0.19474388, 0.19474388,\n",
       "         0.73139464, 0.73139464, 0.03968103, 0.03968103, 0.7560615 ,\n",
       "         0.7560615 , 0.25020277, 0.25020277, 0.61416305, 0.61416305,\n",
       "         0.47301028, 0.47301028, 0.07618081, 0.07618081, 0.13127715,\n",
       "         0.13127715, 0.72820548, 0.72820548, 0.1525271 , 0.1525271 ,\n",
       "         0.13104879, 0.13104879, 0.46871867, 0.46871867, 0.77929627,\n",
       "         0.77929627, 0.60516986, 0.60516986, 0.55400491, 0.55400491])}}"
      ]
     },
     "execution_count": 1,
     "metadata": {},
     "output_type": "execute_result"
    }
   ],
   "source": [
    "ds = load_by_id(run_id_n)\n",
    "ds.get_parameter_data('x1')"
   ]
  },
  {
   "cell_type": "markdown",
   "metadata": {},
   "source": [
    "And a dataset stored as binary arrays"
   ]
  },
  {
   "cell_type": "code",
   "execution_count": 12,
   "metadata": {
    "execution": {
     "iopub.execute_input": "2021-04-29T17:13:51.551019Z",
     "iopub.status.busy": "2021-04-29T17:13:51.550479Z",
     "iopub.status.idle": "2021-04-29T17:13:51.606838Z",
     "shell.execute_reply": "2021-04-29T17:13:51.605942Z"
    },
    "scrolled": true
   },
   "outputs": [
    {
     "data": {
      "text/plain": [
       "{'x1': {'x1': array([[0.24447641],\n",
       "         [0.24447641],\n",
       "         [0.04130802],\n",
       "         [0.04130802],\n",
       "         [0.60575517],\n",
       "         [0.60575517],\n",
       "         [0.20767254],\n",
       "         [0.20767254],\n",
       "         [0.69845374],\n",
       "         [0.69845374],\n",
       "         [0.04601697],\n",
       "         [0.04601697],\n",
       "         [0.10028329],\n",
       "         [0.10028329],\n",
       "         [0.52150965],\n",
       "         [0.52150965],\n",
       "         [0.66172182],\n",
       "         [0.66172182],\n",
       "         [0.59352609],\n",
       "         [0.59352609],\n",
       "         [0.95790206],\n",
       "         [0.95790206],\n",
       "         [0.41402993],\n",
       "         [0.41402993],\n",
       "         [0.5257476 ],\n",
       "         [0.5257476 ],\n",
       "         [0.23442079],\n",
       "         [0.23442079],\n",
       "         [0.99686863],\n",
       "         [0.99686863],\n",
       "         [0.86496385],\n",
       "         [0.86496385],\n",
       "         [0.82948605],\n",
       "         [0.82948605],\n",
       "         [0.85719451],\n",
       "         [0.85719451],\n",
       "         [0.03668804],\n",
       "         [0.03668804],\n",
       "         [0.60344132],\n",
       "         [0.60344132],\n",
       "         [0.62424909],\n",
       "         [0.62424909],\n",
       "         [0.55844821],\n",
       "         [0.55844821],\n",
       "         [0.17836348],\n",
       "         [0.17836348],\n",
       "         [0.01406786],\n",
       "         [0.01406786],\n",
       "         [0.13132871],\n",
       "         [0.13132871],\n",
       "         [0.84981911],\n",
       "         [0.84981911],\n",
       "         [0.15752907],\n",
       "         [0.15752907],\n",
       "         [0.027472  ],\n",
       "         [0.027472  ],\n",
       "         [0.76478994],\n",
       "         [0.76478994],\n",
       "         [0.38527558],\n",
       "         [0.38527558],\n",
       "         [0.14167457],\n",
       "         [0.14167457],\n",
       "         [0.7351033 ],\n",
       "         [0.7351033 ],\n",
       "         [0.48508227],\n",
       "         [0.48508227],\n",
       "         [0.45654973],\n",
       "         [0.45654973],\n",
       "         [0.79415177],\n",
       "         [0.79415177],\n",
       "         [0.4732765 ],\n",
       "         [0.4732765 ],\n",
       "         [0.23461966],\n",
       "         [0.23461966],\n",
       "         [0.15316926],\n",
       "         [0.15316926],\n",
       "         [0.49356401],\n",
       "         [0.49356401],\n",
       "         [0.76791948],\n",
       "         [0.76791948],\n",
       "         [0.7326542 ],\n",
       "         [0.7326542 ],\n",
       "         [0.85359032],\n",
       "         [0.85359032],\n",
       "         [0.76330845],\n",
       "         [0.76330845],\n",
       "         [0.6276701 ],\n",
       "         [0.6276701 ],\n",
       "         [0.64057252],\n",
       "         [0.64057252],\n",
       "         [0.54415647],\n",
       "         [0.54415647],\n",
       "         [0.62339349],\n",
       "         [0.62339349],\n",
       "         [0.1526424 ],\n",
       "         [0.1526424 ],\n",
       "         [0.10666267],\n",
       "         [0.10666267],\n",
       "         [0.2785159 ],\n",
       "         [0.2785159 ],\n",
       "         [0.89231322],\n",
       "         [0.89231322],\n",
       "         [0.33958054],\n",
       "         [0.33958054],\n",
       "         [0.87702172],\n",
       "         [0.87702172],\n",
       "         [0.51320711],\n",
       "         [0.51320711],\n",
       "         [0.87935388],\n",
       "         [0.87935388],\n",
       "         [0.81183784],\n",
       "         [0.81183784],\n",
       "         [0.86405705],\n",
       "         [0.86405705],\n",
       "         [0.47690845],\n",
       "         [0.47690845],\n",
       "         [0.90114864],\n",
       "         [0.90114864],\n",
       "         [0.72622228],\n",
       "         [0.72622228],\n",
       "         [0.43622511],\n",
       "         [0.43622511],\n",
       "         [0.32152145],\n",
       "         [0.32152145],\n",
       "         [0.10788494],\n",
       "         [0.10788494],\n",
       "         [0.86128119],\n",
       "         [0.86128119],\n",
       "         [0.29801033],\n",
       "         [0.29801033],\n",
       "         [0.3535354 ],\n",
       "         [0.3535354 ],\n",
       "         [0.88652383],\n",
       "         [0.88652383],\n",
       "         [0.84404303],\n",
       "         [0.84404303],\n",
       "         [0.15099292],\n",
       "         [0.15099292],\n",
       "         [0.25362114],\n",
       "         [0.25362114],\n",
       "         [0.90549718],\n",
       "         [0.90549718],\n",
       "         [0.3317291 ],\n",
       "         [0.3317291 ],\n",
       "         [0.51693039],\n",
       "         [0.51693039],\n",
       "         [0.2510977 ],\n",
       "         [0.2510977 ],\n",
       "         [0.61898323],\n",
       "         [0.61898323],\n",
       "         [0.74352455],\n",
       "         [0.74352455],\n",
       "         [0.95885698],\n",
       "         [0.95885698],\n",
       "         [0.36127882],\n",
       "         [0.36127882],\n",
       "         [0.51205778],\n",
       "         [0.51205778],\n",
       "         [0.93384979],\n",
       "         [0.93384979],\n",
       "         [0.52819385],\n",
       "         [0.52819385],\n",
       "         [0.58327089],\n",
       "         [0.58327089],\n",
       "         [0.3123961 ],\n",
       "         [0.3123961 ],\n",
       "         [0.4537542 ],\n",
       "         [0.4537542 ],\n",
       "         [0.60030613],\n",
       "         [0.60030613],\n",
       "         [0.69819265],\n",
       "         [0.69819265],\n",
       "         [0.01624477],\n",
       "         [0.01624477],\n",
       "         [0.26059292],\n",
       "         [0.26059292],\n",
       "         [0.03171643],\n",
       "         [0.03171643],\n",
       "         [0.74221563],\n",
       "         [0.74221563],\n",
       "         [0.21434604],\n",
       "         [0.21434604],\n",
       "         [0.03897032],\n",
       "         [0.03897032],\n",
       "         [0.78097377],\n",
       "         [0.78097377],\n",
       "         [0.97012524],\n",
       "         [0.97012524],\n",
       "         [0.62521116],\n",
       "         [0.62521116],\n",
       "         [0.47681925],\n",
       "         [0.47681925],\n",
       "         [0.43265597],\n",
       "         [0.43265597],\n",
       "         [0.95473771],\n",
       "         [0.95473771],\n",
       "         [0.49425688],\n",
       "         [0.49425688],\n",
       "         [0.51150098],\n",
       "         [0.51150098]])}}"
      ]
     },
     "execution_count": 1,
     "metadata": {},
     "output_type": "execute_result"
    }
   ],
   "source": [
    "ds = load_by_id(run_id_a)\n",
    "ds.get_parameter_data('x1')"
   ]
  },
  {
   "cell_type": "code",
   "execution_count": null,
   "metadata": {},
   "outputs": [],
   "source": []
  }
 ],
 "metadata": {
  "kernelspec": {
   "display_name": "Python 3",
   "language": "python",
   "name": "python3"
  },
  "language_info": {
   "codemirror_mode": {
    "name": "ipython",
    "version": 3
   },
   "file_extension": ".py",
   "mimetype": "text/x-python",
   "name": "python",
   "nbconvert_exporter": "python",
   "pygments_lexer": "ipython3",
   "version": "3.7.10"
  },
  "nbsphinx": {
   "timeout": 600
  },
  "toc": {
   "base_numbering": 1,
   "nav_menu": {},
   "number_sections": true,
   "sideBar": true,
   "skip_h1_title": false,
   "title_cell": "Table of Contents",
   "title_sidebar": "Contents",
   "toc_cell": false,
   "toc_position": {},
   "toc_section_display": true,
   "toc_window_display": false
  },
  "varInspector": {
   "cols": {
    "lenName": 16,
    "lenType": 16,
    "lenVar": 40
   },
   "kernels_config": {
    "python": {
     "delete_cmd_postfix": "",
     "delete_cmd_prefix": "del ",
     "library": "var_list.py",
     "varRefreshCmd": "print(var_dic_list())"
    },
    "r": {
     "delete_cmd_postfix": ") ",
     "delete_cmd_prefix": "rm(",
     "library": "var_list.r",
     "varRefreshCmd": "cat(var_dic_list()) "
    }
   },
   "types_to_exclude": [
    "module",
    "function",
    "builtin_function_or_method",
    "instance",
    "_Feature"
   ],
   "window_display": false
  }
 },
 "nbformat": 4,
 "nbformat_minor": 4
}
