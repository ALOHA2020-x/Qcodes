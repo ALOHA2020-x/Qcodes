{
 "cells": [
  {
   "cell_type": "markdown",
   "metadata": {},
   "source": [
    "# DataSet Performance\n",
    "\n",
    "This notebook shows the trade-off between inserting data into a database row-by-row and as binary blobs. Inserting the data row-by-row means that we have direct access to all the data and may perform queries directly on the values of the data. On the other hand, as we shall see, this is much slower than inserting the data directly as binary blobs."
   ]
  },
  {
   "cell_type": "markdown",
   "metadata": {},
   "source": [
    "First, we choose a new location for the database to ensure that we don't add a bunch of benchmarking data to the default one."
   ]
  },
  {
   "cell_type": "code",
   "execution_count": 1,
   "metadata": {},
   "outputs": [
    {
     "name": "stdout",
     "output_type": "stream",
     "text": [
      "Logging hadn't been started.\n",
      "Activating auto-logging. Current session state plus future input saved.\n",
      "Filename       : /home/vsts/.qcodes/logs/command_history.log\n",
      "Mode           : append\n",
      "Output logging : True\n",
      "Raw input log  : False\n",
      "Timestamping   : True\n",
      "State          : active\n"
     ]
    },
    {
     "name": "stdout",
     "output_type": "stream",
     "text": [
      "Qcodes Logfile : /home/vsts/.qcodes/logs/200702-20282-qcodes.log\n"
     ]
    }
   ],
   "source": [
    "import os\n",
    "cwd = os.getcwd()\n",
    "import qcodes as qc\n",
    "qc.config[\"core\"][\"db_location\"] = os.path.join(cwd, 'testing.db')\n"
   ]
  },
  {
   "cell_type": "code",
   "execution_count": 2,
   "metadata": {},
   "outputs": [],
   "source": [
    "%matplotlib inline\n",
    "import time\n",
    "import matplotlib.pyplot as plt\n",
    "import numpy as np\n",
    "\n",
    "import qcodes as qc\n",
    "from qcodes.instrument.parameter import ManualParameter\n",
    "from qcodes.dataset.experiment_container import (Experiment,\n",
    "                                                 load_last_experiment,\n",
    "                                                 new_experiment)\n",
    "from qcodes.dataset.sqlite.database import initialise_database\n",
    "from qcodes import load_or_create_experiment\n",
    "from qcodes.dataset.measurements import Measurement"
   ]
  },
  {
   "cell_type": "code",
   "execution_count": 3,
   "metadata": {},
   "outputs": [
    {
     "name": "stdout",
     "output_type": "stream",
     "text": [
      "\r",
      "0it [00:00, ?it/s]"
     ]
    },
    {
     "name": "stdout",
     "output_type": "stream",
     "text": [
      "\r",
      "Upgrading database; v0 -> v1: : 0it [00:00, ?it/s]"
     ]
    },
    {
     "name": "stdout",
     "output_type": "stream",
     "text": [
      "\r",
      "Upgrading database; v0 -> v1: : 0it [00:00, ?it/s]"
     ]
    },
    {
     "name": "stdout",
     "output_type": "stream",
     "text": [
      "\n",
      "\r",
      "  0%|          | 0/1 [00:00<?, ?it/s]"
     ]
    },
    {
     "name": "stdout",
     "output_type": "stream",
     "text": [
      "\r",
      "Upgrading database; v1 -> v2:   0%|          | 0/1 [00:00<?, ?it/s]"
     ]
    },
    {
     "name": "stdout",
     "output_type": "stream",
     "text": [
      "\r",
      "Upgrading database; v1 -> v2: 100%|██████████| 1/1 [00:00<00:00, 967.99it/s]"
     ]
    },
    {
     "name": "stdout",
     "output_type": "stream",
     "text": [
      "\n",
      "\r",
      "0it [00:00, ?it/s]"
     ]
    },
    {
     "name": "stdout",
     "output_type": "stream",
     "text": [
      "\r",
      "Upgrading database; v2 -> v3: : 0it [00:00, ?it/s]"
     ]
    },
    {
     "name": "stdout",
     "output_type": "stream",
     "text": [
      "\r",
      "Upgrading database; v2 -> v3: : 0it [00:00, ?it/s]"
     ]
    },
    {
     "name": "stdout",
     "output_type": "stream",
     "text": [
      "\n",
      "\r",
      "0it [00:00, ?it/s]"
     ]
    },
    {
     "name": "stdout",
     "output_type": "stream",
     "text": [
      "\r",
      "Upgrading database; v3 -> v4: : 0it [00:00, ?it/s]"
     ]
    },
    {
     "name": "stdout",
     "output_type": "stream",
     "text": [
      "\r",
      "Upgrading database; v3 -> v4: : 0it [00:00, ?it/s]"
     ]
    },
    {
     "name": "stdout",
     "output_type": "stream",
     "text": [
      "\n",
      "\r",
      "  0%|          | 0/1 [00:00<?, ?it/s]"
     ]
    },
    {
     "name": "stdout",
     "output_type": "stream",
     "text": [
      "\r",
      "Upgrading database; v4 -> v5:   0%|          | 0/1 [00:00<?, ?it/s]"
     ]
    },
    {
     "name": "stdout",
     "output_type": "stream",
     "text": [
      "\r",
      "Upgrading database; v4 -> v5: 100%|██████████| 1/1 [00:00<00:00, 797.40it/s]"
     ]
    },
    {
     "name": "stdout",
     "output_type": "stream",
     "text": [
      "\n",
      "\r",
      "0it [00:00, ?it/s]"
     ]
    },
    {
     "name": "stdout",
     "output_type": "stream",
     "text": [
      "\r",
      "Upgrading database; v5 -> v6: : 0it [00:00, ?it/s]"
     ]
    },
    {
     "name": "stdout",
     "output_type": "stream",
     "text": [
      "\r",
      "Upgrading database; v5 -> v6: : 0it [00:00, ?it/s]"
     ]
    },
    {
     "name": "stdout",
     "output_type": "stream",
     "text": [
      "\n",
      "\r",
      "  0%|          | 0/1 [00:00<?, ?it/s]"
     ]
    },
    {
     "name": "stdout",
     "output_type": "stream",
     "text": [
      "\r",
      "Upgrading database; v6 -> v7:   0%|          | 0/1 [00:00<?, ?it/s]"
     ]
    },
    {
     "name": "stdout",
     "output_type": "stream",
     "text": [
      "\r",
      "Upgrading database; v6 -> v7: 100%|██████████| 1/1 [00:00<00:00, 281.72it/s]"
     ]
    },
    {
     "name": "stdout",
     "output_type": "stream",
     "text": [
      "\n",
      "\r",
      "  0%|          | 0/1 [00:00<?, ?it/s]"
     ]
    },
    {
     "name": "stdout",
     "output_type": "stream",
     "text": [
      "\r",
      "Upgrading database; v7 -> v8:   0%|          | 0/1 [00:00<?, ?it/s]"
     ]
    },
    {
     "name": "stdout",
     "output_type": "stream",
     "text": [
      "\r",
      "Upgrading database; v7 -> v8: 100%|██████████| 1/1 [00:00<00:00, 718.94it/s]"
     ]
    },
    {
     "name": "stdout",
     "output_type": "stream",
     "text": [
      "\n",
      "\r",
      "  0%|          | 0/1 [00:00<?, ?it/s]"
     ]
    },
    {
     "name": "stdout",
     "output_type": "stream",
     "text": [
      "\r",
      "Upgrading database; v8 -> v9:   0%|          | 0/1 [00:00<?, ?it/s]"
     ]
    },
    {
     "name": "stdout",
     "output_type": "stream",
     "text": [
      "\r",
      "Upgrading database; v8 -> v9: 100%|██████████| 1/1 [00:00<00:00, 953.68it/s]"
     ]
    },
    {
     "name": "stdout",
     "output_type": "stream",
     "text": [
      "\n"
     ]
    }
   ],
   "source": [
    "initialise_database()\n",
    "exp = load_or_create_experiment(experiment_name='tutorial_exp', sample_name=\"no sample\")"
   ]
  },
  {
   "cell_type": "markdown",
   "metadata": {},
   "source": [
    "Here, we define a simple function to benchmark the time it takes to insert n points with either numeric or array data type.\n",
    "We will compare both the time used to call ``add_result`` and the time used for the full measurement."
   ]
  },
  {
   "cell_type": "code",
   "execution_count": 4,
   "metadata": {},
   "outputs": [],
   "source": [
    "def insert_data(paramtype, npoints, nreps=1):\n",
    "\n",
    "    meas = Measurement(exp=exp)\n",
    "\n",
    "    x1 = ManualParameter('x1')\n",
    "    x2 = ManualParameter('x2')\n",
    "    x3 = ManualParameter('x3')\n",
    "    y1 = ManualParameter('y1')\n",
    "    y2 = ManualParameter('y2')\n",
    "\n",
    "    meas.register_parameter(x1, paramtype=paramtype)\n",
    "    meas.register_parameter(x2, paramtype=paramtype)\n",
    "    meas.register_parameter(x3, paramtype=paramtype)\n",
    "    meas.register_parameter(y1, setpoints=[x1, x2, x3],\n",
    "                            paramtype=paramtype)\n",
    "    meas.register_parameter(y2, setpoints=[x1, x2, x3],\n",
    "                            paramtype=paramtype)\n",
    "    start = time.perf_counter()\n",
    "    with meas.run() as datasaver:\n",
    "        start_adding = time.perf_counter()\n",
    "        for i in range(nreps):\n",
    "            datasaver.add_result((x1, np.random.rand(npoints)),\n",
    "                                 (x2, np.random.rand(npoints)),\n",
    "                                 (x3, np.random.rand(npoints)),\n",
    "                                 (y1, np.random.rand(npoints)),\n",
    "                                 (y2, np.random.rand(npoints)))\n",
    "        stop_adding = time.perf_counter()\n",
    "        run_id = datasaver.run_id\n",
    "    stop = time.perf_counter()\n",
    "    tot_time = stop - start\n",
    "    add_time = stop_adding - start_adding\n",
    "    return tot_time, add_time, run_id"
   ]
  },
  {
   "cell_type": "markdown",
   "metadata": {},
   "source": [
    "## Comparison between numeric/array data and binary blob"
   ]
  },
  {
   "cell_type": "markdown",
   "metadata": {},
   "source": [
    "### Case1: Short experiment time"
   ]
  },
  {
   "cell_type": "code",
   "execution_count": 5,
   "metadata": {},
   "outputs": [
    {
     "name": "stdout",
     "output_type": "stream",
     "text": [
      "Starting experimental run with id: 1. \n",
      "Starting experimental run with id: 2. \n",
      "Starting experimental run with id: 3. \n"
     ]
    },
    {
     "name": "stdout",
     "output_type": "stream",
     "text": [
      "Starting experimental run with id: 4. \n"
     ]
    },
    {
     "name": "stdout",
     "output_type": "stream",
     "text": [
      "Starting experimental run with id: 5. \n",
      "Starting experimental run with id: 6. \n"
     ]
    },
    {
     "name": "stdout",
     "output_type": "stream",
     "text": [
      "Starting experimental run with id: 7. \n"
     ]
    },
    {
     "name": "stdout",
     "output_type": "stream",
     "text": [
      "Starting experimental run with id: 8. \n"
     ]
    },
    {
     "name": "stdout",
     "output_type": "stream",
     "text": [
      "Starting experimental run with id: 9. \n"
     ]
    },
    {
     "name": "stdout",
     "output_type": "stream",
     "text": [
      "Starting experimental run with id: 10. \n",
      "Starting experimental run with id: 11. \n"
     ]
    },
    {
     "name": "stdout",
     "output_type": "stream",
     "text": [
      "Starting experimental run with id: 12. \n",
      "Starting experimental run with id: 13. \n"
     ]
    },
    {
     "name": "stdout",
     "output_type": "stream",
     "text": [
      "Starting experimental run with id: 14. \n"
     ]
    }
   ],
   "source": [
    "sizes = [1,500,1000,2000,3000,4000,5000]\n",
    "t_numeric = []\n",
    "t_numeric_add = []\n",
    "t_array = []\n",
    "t_array_add = []\n",
    "for size in sizes:\n",
    "    tn, tna, run_id_n =  insert_data('numeric', size)\n",
    "    t_numeric.append(tn)\n",
    "    t_numeric_add.append(tna)\n",
    "\n",
    "    ta, taa, run_id_a =  insert_data('array', size)\n",
    "    t_array.append(ta)\n",
    "    t_array_add.append(taa)"
   ]
  },
  {
   "cell_type": "code",
   "execution_count": 6,
   "metadata": {},
   "outputs": [
    {
     "data": {
      "image/png": "[encoded data removed]",
      "text/plain": [
       "<Figure size 432x288 with 1 Axes>"
      ]
     },
     "metadata": {
      "needs_background": "light"
     },
     "output_type": "display_data"
    }
   ],
   "source": [
    "fig, ax = plt.subplots(1,1)\n",
    "ax.plot(sizes, t_numeric, 'o-', label='Inserting row-by-row')\n",
    "ax.plot(sizes, t_numeric_add, 'o-', label='Inserting row-by-row: add_result only')\n",
    "ax.plot(sizes, t_array, 'd-', label='Inserting as binary blob')\n",
    "ax.plot(sizes, t_array_add, 'd-', label='Inserting as binary blob: add_result only')\n",
    "ax.legend()\n",
    "ax.set_xlabel('Array length')\n",
    "ax.set_ylabel('Time (s)')\n",
    "fig.tight_layout()"
   ]
  },
  {
   "cell_type": "markdown",
   "metadata": {},
   "source": [
    "As shown in the latter figure, the time to setup and and close the experiment is approximately 0.4 sec. In case of small array sizes, the difference between inserting values of data as arrays and inserting them row-by-row is relatively unimportant. At larger array sizes, i.e. above 10000 points, the cost of writing data as individual datapoints starts to become important.\n"
   ]
  },
  {
   "cell_type": "markdown",
   "metadata": {},
   "source": [
    "### Case2: Long experiment time "
   ]
  },
  {
   "cell_type": "code",
   "execution_count": 7,
   "metadata": {},
   "outputs": [
    {
     "name": "stdout",
     "output_type": "stream",
     "text": [
      "Starting experimental run with id: 15. \n",
      "Starting experimental run with id: 16. \n",
      "Starting experimental run with id: 17. \n"
     ]
    },
    {
     "name": "stdout",
     "output_type": "stream",
     "text": [
      "Starting experimental run with id: 18. \n",
      "Starting experimental run with id: 19. \n"
     ]
    },
    {
     "name": "stdout",
     "output_type": "stream",
     "text": [
      "Starting experimental run with id: 20. \n"
     ]
    },
    {
     "name": "stdout",
     "output_type": "stream",
     "text": [
      "Starting experimental run with id: 21. \n"
     ]
    },
    {
     "name": "stdout",
     "output_type": "stream",
     "text": [
      "Starting experimental run with id: 22. \n"
     ]
    },
    {
     "name": "stdout",
     "output_type": "stream",
     "text": [
      "Starting experimental run with id: 23. \n"
     ]
    },
    {
     "name": "stdout",
     "output_type": "stream",
     "text": [
      "Starting experimental run with id: 24. \n"
     ]
    },
    {
     "name": "stdout",
     "output_type": "stream",
     "text": [
      "Starting experimental run with id: 25. \n"
     ]
    },
    {
     "name": "stdout",
     "output_type": "stream",
     "text": [
      "Starting experimental run with id: 26. \n"
     ]
    },
    {
     "name": "stdout",
     "output_type": "stream",
     "text": [
      "Starting experimental run with id: 27. \n"
     ]
    },
    {
     "name": "stdout",
     "output_type": "stream",
     "text": [
      "Starting experimental run with id: 28. \n"
     ]
    }
   ],
   "source": [
    "sizes = [1,500,1000,2000,3000,4000,5000]\n",
    "nreps = 100\n",
    "t_numeric = []\n",
    "t_numeric_add = []\n",
    "t_numeric_run_ids = []\n",
    "t_array = []\n",
    "t_array_add = []\n",
    "t_array_run_ids = []\n",
    "for size in sizes:\n",
    "    tn, tna, run_id_n =  insert_data('numeric', size, nreps=nreps)\n",
    "    t_numeric.append(tn)\n",
    "    t_numeric_add.append(tna)\n",
    "    t_numeric_run_ids.append(run_id_n)\n",
    "\n",
    "    ta, taa, run_id_a =  insert_data('array', size, nreps=nreps)\n",
    "    t_array.append(ta)\n",
    "    t_array_add.append(taa)\n",
    "    t_array_run_ids.append(run_id_a)"
   ]
  },
  {
   "cell_type": "code",
   "execution_count": 8,
   "metadata": {
    "scrolled": true
   },
   "outputs": [
    {
     "data": {
      "image/png": "[encoded data removed]",
      "text/plain": [
       "<Figure size 432x288 with 1 Axes>"
      ]
     },
     "metadata": {
      "needs_background": "light"
     },
     "output_type": "display_data"
    }
   ],
   "source": [
    "fig, ax = plt.subplots(1,1)\n",
    "ax.plot(sizes, t_numeric, 'o-', label='Inserting row-by-row')\n",
    "ax.plot(sizes, t_numeric_add, 'o-', label='Inserting row-by-row: add_result only')\n",
    "ax.plot(sizes, t_array, 'd-', label='Inserting as binary blob')\n",
    "ax.plot(sizes, t_array_add, 'd-', label='Inserting as binary blob: add_result only')\n",
    "ax.legend()\n",
    "ax.set_xlabel('Array length')\n",
    "ax.set_ylabel('Time (s)')\n",
    "fig.tight_layout()"
   ]
  },
  {
   "cell_type": "markdown",
   "metadata": {},
   "source": [
    "However, as we increase the length of the experiment, as seen here by repeating the insertion 100 times, we see a big difference between inserting values of the data row-by-row and inserting it as a binary blob."
   ]
  },
  {
   "cell_type": "markdown",
   "metadata": {},
   "source": [
    "## Loading the data "
   ]
  },
  {
   "cell_type": "code",
   "execution_count": 9,
   "metadata": {},
   "outputs": [],
   "source": [
    "from qcodes.dataset.data_set import load_by_id\n",
    "from qcodes.dataset.data_export import get_data_by_id"
   ]
  },
  {
   "cell_type": "markdown",
   "metadata": {},
   "source": [
    "As usual you can load the data by using the ``load_by_id`` function but you will notice that the different storage methods\n",
    "are reflected in shape of the data as it is retrieved. "
   ]
  },
  {
   "cell_type": "code",
   "execution_count": 10,
   "metadata": {},
   "outputs": [],
   "source": [
    "run_id_n = t_numeric_run_ids[0]\n",
    "run_id_a = t_array_run_ids[0]"
   ]
  },
  {
   "cell_type": "code",
   "execution_count": 11,
   "metadata": {
    "scrolled": true
   },
   "outputs": [
    {
     "data": {
      "text/plain": [
       "{'x1': {'x1': array([0.71966236, 0.71966236, 0.1056761 , 0.1056761 , 0.6064113 ,\n",
       "         0.6064113 , 0.49260362, 0.49260362, 0.90916019, 0.90916019,\n",
       "         0.37518655, 0.37518655, 0.19552932, 0.19552932, 0.58448703,\n",
       "         0.58448703, 0.87516615, 0.87516615, 0.19707929, 0.19707929,\n",
       "         0.06638926, 0.06638926, 0.32057593, 0.32057593, 0.97893413,\n",
       "         0.97893413, 0.83248339, 0.83248339, 0.57670057, 0.57670057,\n",
       "         0.31465295, 0.31465295, 0.11957431, 0.11957431, 0.16570811,\n",
       "         0.16570811, 0.22921482, 0.22921482, 0.78599022, 0.78599022,\n",
       "         0.84695148, 0.84695148, 0.08367365, 0.08367365, 0.30655734,\n",
       "         0.30655734, 0.68152633, 0.68152633, 0.75969227, 0.75969227,\n",
       "         0.5546213 , 0.5546213 , 0.18323626, 0.18323626, 0.08774174,\n",
       "         0.08774174, 0.2919143 , 0.2919143 , 0.64290261, 0.64290261,\n",
       "         0.02039267, 0.02039267, 0.72038322, 0.72038322, 0.46156664,\n",
       "         0.46156664, 0.94696801, 0.94696801, 0.22693223, 0.22693223,\n",
       "         0.85170272, 0.85170272, 0.57297564, 0.57297564, 0.28881739,\n",
       "         0.28881739, 0.18324767, 0.18324767, 0.5978245 , 0.5978245 ,\n",
       "         0.20714433, 0.20714433, 0.79537109, 0.79537109, 0.45704238,\n",
       "         0.45704238, 0.63957237, 0.63957237, 0.06569662, 0.06569662,\n",
       "         0.56596515, 0.56596515, 0.85547398, 0.85547398, 0.90596414,\n",
       "         0.90596414, 0.30485442, 0.30485442, 0.72046262, 0.72046262,\n",
       "         0.16632976, 0.16632976, 0.253344  , 0.253344  , 0.30611736,\n",
       "         0.30611736, 0.42780264, 0.42780264, 0.47704274, 0.47704274,\n",
       "         0.43148865, 0.43148865, 0.13363409, 0.13363409, 0.20846457,\n",
       "         0.20846457, 0.810967  , 0.810967  , 0.10843328, 0.10843328,\n",
       "         0.46559731, 0.46559731, 0.44847957, 0.44847957, 0.62869139,\n",
       "         0.62869139, 0.98338414, 0.98338414, 0.37789464, 0.37789464,\n",
       "         0.07225164, 0.07225164, 0.48550492, 0.48550492, 0.52672793,\n",
       "         0.52672793, 0.86219786, 0.86219786, 0.57814665, 0.57814665,\n",
       "         0.89136081, 0.89136081, 0.11656965, 0.11656965, 0.56848059,\n",
       "         0.56848059, 0.66772936, 0.66772936, 0.62388071, 0.62388071,\n",
       "         0.12434914, 0.12434914, 0.57755841, 0.57755841, 0.13640145,\n",
       "         0.13640145, 0.74504372, 0.74504372, 0.11957449, 0.11957449,\n",
       "         0.01132976, 0.01132976, 0.90079859, 0.90079859, 0.83276088,\n",
       "         0.83276088, 0.74730434, 0.74730434, 0.25213219, 0.25213219,\n",
       "         0.12506239, 0.12506239, 0.86161172, 0.86161172, 0.43762669,\n",
       "         0.43762669, 0.97737272, 0.97737272, 0.9820003 , 0.9820003 ,\n",
       "         0.92279613, 0.92279613, 0.48236   , 0.48236   , 0.12172109,\n",
       "         0.12172109, 0.55313107, 0.55313107, 0.37819362, 0.37819362,\n",
       "         0.06842624, 0.06842624, 0.20934954, 0.20934954, 0.77593216,\n",
       "         0.77593216, 0.12534554, 0.12534554, 0.39636333, 0.39636333])}}"
      ]
     },
     "execution_count": 11,
     "metadata": {},
     "output_type": "execute_result"
    }
   ],
   "source": [
    "ds = load_by_id(run_id_n)\n",
    "ds.get_parameter_data('x1')"
   ]
  },
  {
   "cell_type": "markdown",
   "metadata": {},
   "source": [
    "And a dataset stored as binary arrays"
   ]
  },
  {
   "cell_type": "code",
   "execution_count": 12,
   "metadata": {
    "scrolled": true
   },
   "outputs": [
    {
     "data": {
      "text/plain": [
       "{'x1': {'x1': array([[0.03116623],\n",
       "         [0.03116623],\n",
       "         [0.88841157],\n",
       "         [0.88841157],\n",
       "         [0.43387957],\n",
       "         [0.43387957],\n",
       "         [0.53377795],\n",
       "         [0.53377795],\n",
       "         [0.00338402],\n",
       "         [0.00338402],\n",
       "         [0.28344183],\n",
       "         [0.28344183],\n",
       "         [0.17525823],\n",
       "         [0.17525823],\n",
       "         [0.89626256],\n",
       "         [0.89626256],\n",
       "         [0.4820528 ],\n",
       "         [0.4820528 ],\n",
       "         [0.16696418],\n",
       "         [0.16696418],\n",
       "         [0.05169492],\n",
       "         [0.05169492],\n",
       "         [0.24832425],\n",
       "         [0.24832425],\n",
       "         [0.0683023 ],\n",
       "         [0.0683023 ],\n",
       "         [0.54217243],\n",
       "         [0.54217243],\n",
       "         [0.06449576],\n",
       "         [0.06449576],\n",
       "         [0.99644775],\n",
       "         [0.99644775],\n",
       "         [0.29987457],\n",
       "         [0.29987457],\n",
       "         [0.84462694],\n",
       "         [0.84462694],\n",
       "         [0.75319779],\n",
       "         [0.75319779],\n",
       "         [0.76429144],\n",
       "         [0.76429144],\n",
       "         [0.33761023],\n",
       "         [0.33761023],\n",
       "         [0.01903494],\n",
       "         [0.01903494],\n",
       "         [0.9247558 ],\n",
       "         [0.9247558 ],\n",
       "         [0.16911488],\n",
       "         [0.16911488],\n",
       "         [0.2829708 ],\n",
       "         [0.2829708 ],\n",
       "         [0.34407255],\n",
       "         [0.34407255],\n",
       "         [0.82641796],\n",
       "         [0.82641796],\n",
       "         [0.5310253 ],\n",
       "         [0.5310253 ],\n",
       "         [0.37600551],\n",
       "         [0.37600551],\n",
       "         [0.77219986],\n",
       "         [0.77219986],\n",
       "         [0.71032035],\n",
       "         [0.71032035],\n",
       "         [0.59361073],\n",
       "         [0.59361073],\n",
       "         [0.98969043],\n",
       "         [0.98969043],\n",
       "         [0.79201881],\n",
       "         [0.79201881],\n",
       "         [0.91177124],\n",
       "         [0.91177124],\n",
       "         [0.97456915],\n",
       "         [0.97456915],\n",
       "         [0.25870622],\n",
       "         [0.25870622],\n",
       "         [0.83802558],\n",
       "         [0.83802558],\n",
       "         [0.98033013],\n",
       "         [0.98033013],\n",
       "         [0.40799325],\n",
       "         [0.40799325],\n",
       "         [0.52690915],\n",
       "         [0.52690915],\n",
       "         [0.91193411],\n",
       "         [0.91193411],\n",
       "         [0.61201875],\n",
       "         [0.61201875],\n",
       "         [0.84289033],\n",
       "         [0.84289033],\n",
       "         [0.88747552],\n",
       "         [0.88747552],\n",
       "         [0.93230839],\n",
       "         [0.93230839],\n",
       "         [0.97454946],\n",
       "         [0.97454946],\n",
       "         [0.47593114],\n",
       "         [0.47593114],\n",
       "         [0.97452428],\n",
       "         [0.97452428],\n",
       "         [0.4000319 ],\n",
       "         [0.4000319 ],\n",
       "         [0.66880832],\n",
       "         [0.66880832],\n",
       "         [0.68510409],\n",
       "         [0.68510409],\n",
       "         [0.47383304],\n",
       "         [0.47383304],\n",
       "         [0.02196426],\n",
       "         [0.02196426],\n",
       "         [0.22117325],\n",
       "         [0.22117325],\n",
       "         [0.61526595],\n",
       "         [0.61526595],\n",
       "         [0.21162972],\n",
       "         [0.21162972],\n",
       "         [0.10668902],\n",
       "         [0.10668902],\n",
       "         [0.29662351],\n",
       "         [0.29662351],\n",
       "         [0.6556957 ],\n",
       "         [0.6556957 ],\n",
       "         [0.22547973],\n",
       "         [0.22547973],\n",
       "         [0.78339208],\n",
       "         [0.78339208],\n",
       "         [0.6855806 ],\n",
       "         [0.6855806 ],\n",
       "         [0.09038151],\n",
       "         [0.09038151],\n",
       "         [0.00870964],\n",
       "         [0.00870964],\n",
       "         [0.19185548],\n",
       "         [0.19185548],\n",
       "         [0.66501656],\n",
       "         [0.66501656],\n",
       "         [0.80550631],\n",
       "         [0.80550631],\n",
       "         [0.21446551],\n",
       "         [0.21446551],\n",
       "         [0.68803739],\n",
       "         [0.68803739],\n",
       "         [0.23575426],\n",
       "         [0.23575426],\n",
       "         [0.07114764],\n",
       "         [0.07114764],\n",
       "         [0.45928263],\n",
       "         [0.45928263],\n",
       "         [0.10638587],\n",
       "         [0.10638587],\n",
       "         [0.64537177],\n",
       "         [0.64537177],\n",
       "         [0.80713777],\n",
       "         [0.80713777],\n",
       "         [0.78805993],\n",
       "         [0.78805993],\n",
       "         [0.54496885],\n",
       "         [0.54496885],\n",
       "         [0.41689851],\n",
       "         [0.41689851],\n",
       "         [0.18727471],\n",
       "         [0.18727471],\n",
       "         [0.03393841],\n",
       "         [0.03393841],\n",
       "         [0.0952497 ],\n",
       "         [0.0952497 ],\n",
       "         [0.07499006],\n",
       "         [0.07499006],\n",
       "         [0.17745896],\n",
       "         [0.17745896],\n",
       "         [0.42166453],\n",
       "         [0.42166453],\n",
       "         [0.62271752],\n",
       "         [0.62271752],\n",
       "         [0.00717666],\n",
       "         [0.00717666],\n",
       "         [0.34627024],\n",
       "         [0.34627024],\n",
       "         [0.48389126],\n",
       "         [0.48389126],\n",
       "         [0.14897028],\n",
       "         [0.14897028],\n",
       "         [0.13764504],\n",
       "         [0.13764504],\n",
       "         [0.39199284],\n",
       "         [0.39199284],\n",
       "         [0.00632794],\n",
       "         [0.00632794],\n",
       "         [0.29623363],\n",
       "         [0.29623363],\n",
       "         [0.48669568],\n",
       "         [0.48669568],\n",
       "         [0.9851386 ],\n",
       "         [0.9851386 ],\n",
       "         [0.42763387],\n",
       "         [0.42763387],\n",
       "         [0.44193644],\n",
       "         [0.44193644],\n",
       "         [0.77580036],\n",
       "         [0.77580036],\n",
       "         [0.34177857],\n",
       "         [0.34177857]])}}"
      ]
     },
     "execution_count": 12,
     "metadata": {},
     "output_type": "execute_result"
    }
   ],
   "source": [
    "ds = load_by_id(run_id_a)\n",
    "ds.get_parameter_data('x1')"
   ]
  },
  {
   "cell_type": "code",
   "execution_count": null,
   "metadata": {},
   "outputs": [],
   "source": []
  }
 ],
 "metadata": {
  "kernelspec": {
   "display_name": "Python 3",
   "language": "python",
   "name": "python3"
  },
  "language_info": {
   "codemirror_mode": {
    "name": "ipython",
    "version": 3
   },
   "file_extension": ".py",
   "mimetype": "text/x-python",
   "name": "python",
   "nbconvert_exporter": "python",
   "pygments_lexer": "ipython3",
   "version": "3.7.7"
  },
  "nbsphinx": {
   "timeout": 600
  },
  "toc": {
   "base_numbering": 1,
   "nav_menu": {},
   "number_sections": true,
   "sideBar": true,
   "skip_h1_title": false,
   "title_cell": "Table of Contents",
   "title_sidebar": "Contents",
   "toc_cell": false,
   "toc_position": {},
   "toc_section_display": true,
   "toc_window_display": false
  },
  "varInspector": {
   "cols": {
    "lenName": 16,
    "lenType": 16,
    "lenVar": 40
   },
   "kernels_config": {
    "python": {
     "delete_cmd_postfix": "",
     "delete_cmd_prefix": "del ",
     "library": "var_list.py",
     "varRefreshCmd": "print(var_dic_list())"
    },
    "r": {
     "delete_cmd_postfix": ") ",
     "delete_cmd_prefix": "rm(",
     "library": "var_list.r",
     "varRefreshCmd": "cat(var_dic_list()) "
    }
   },
   "types_to_exclude": [
    "module",
    "function",
    "builtin_function_or_method",
    "instance",
    "_Feature"
   ],
   "window_display": false
  }
 },
 "nbformat": 4,
 "nbformat_minor": 2
}
