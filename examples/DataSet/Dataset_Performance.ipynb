{
 "cells": [
  {
   "cell_type": "markdown",
   "metadata": {},
   "source": [
    "# DataSet Performance\n",
    "\n",
    "This notebook shows the trade-off between inserting data into a database row-by-row and as binary blobs. Inserting the data row-by-row means that we have direct access to all the data and may perform queries directly on the values of the data. On the other hand, as we shall see, this is much slower than inserting the data directly as binary blobs."
   ]
  },
  {
   "cell_type": "markdown",
   "metadata": {},
   "source": [
    "First, we choose a new location for the database to ensure that we don't add a bunch of benchmarking data to the default one."
   ]
  },
  {
   "cell_type": "code",
   "execution_count": 1,
   "metadata": {
    "execution": {
     "iopub.execute_input": "2021-02-21T18:51:16.563841Z",
     "iopub.status.busy": "2021-02-21T18:51:16.563171Z",
     "iopub.status.idle": "2021-02-21T18:51:17.418384Z",
     "shell.execute_reply": "2021-02-21T18:51:17.418837Z"
    }
   },
   "outputs": [
    {
     "name": "stdout",
     "output_type": "stream",
     "text": [
      "Logging hadn't been started.\n",
      "Activating auto-logging. Current session state plus future input saved.\n",
      "Filename       : /home/runner/.qcodes/logs/command_history.log\n",
      "Mode           : append\n",
      "Output logging : True\n",
      "Raw input log  : False\n",
      "Timestamping   : True\n",
      "State          : active\n"
     ]
    },
    {
     "name": "stdout",
     "output_type": "stream",
     "text": [
      "Qcodes Logfile : /home/runner/.qcodes/logs/210221-3892-qcodes.log\n"
     ]
    }
   ],
   "source": [
    "import os\n",
    "cwd = os.getcwd()\n",
    "import qcodes as qc\n",
    "qc.config[\"core\"][\"db_location\"] = os.path.join(cwd, 'testing.db')\n"
   ]
  },
  {
   "cell_type": "code",
   "execution_count": 2,
   "metadata": {
    "execution": {
     "iopub.execute_input": "2021-02-21T18:51:17.427017Z",
     "iopub.status.busy": "2021-02-21T18:51:17.425039Z",
     "iopub.status.idle": "2021-02-21T18:51:17.618704Z",
     "shell.execute_reply": "2021-02-21T18:51:17.618044Z"
    }
   },
   "outputs": [],
   "source": [
    "%matplotlib inline\n",
    "import time\n",
    "import matplotlib.pyplot as plt\n",
    "import numpy as np\n",
    "\n",
    "import qcodes as qc\n",
    "from qcodes.instrument.parameter import ManualParameter\n",
    "from qcodes.dataset.experiment_container import (Experiment,\n",
    "                                                 load_last_experiment,\n",
    "                                                 new_experiment)\n",
    "from qcodes.dataset.sqlite.database import initialise_database\n",
    "from qcodes import load_or_create_experiment\n",
    "from qcodes.dataset.measurements import Measurement"
   ]
  },
  {
   "cell_type": "code",
   "execution_count": 3,
   "metadata": {
    "execution": {
     "iopub.execute_input": "2021-02-21T18:51:17.622854Z",
     "iopub.status.busy": "2021-02-21T18:51:17.622089Z",
     "iopub.status.idle": "2021-02-21T18:51:17.963962Z",
     "shell.execute_reply": "2021-02-21T18:51:17.964401Z"
    }
   },
   "outputs": [
    {
     "name": "stdout",
     "output_type": "stream",
     "text": [
      "\r",
      "0it [00:00, ?it/s]"
     ]
    },
    {
     "name": "stdout",
     "output_type": "stream",
     "text": [
      "\r",
      "Upgrading database; v0 -> v1: : 0it [00:00, ?it/s]"
     ]
    },
    {
     "name": "stdout",
     "output_type": "stream",
     "text": [
      "\r",
      "Upgrading database; v0 -> v1: : 0it [00:00, ?it/s]"
     ]
    },
    {
     "name": "stdout",
     "output_type": "stream",
     "text": [
      "\n",
      "\r",
      "  0%|          | 0/1 [00:00<?, ?it/s]"
     ]
    },
    {
     "name": "stdout",
     "output_type": "stream",
     "text": [
      "\r",
      "Upgrading database; v1 -> v2:   0%|          | 0/1 [00:00<?, ?it/s]"
     ]
    },
    {
     "name": "stdout",
     "output_type": "stream",
     "text": [
      "\r",
      "Upgrading database; v1 -> v2: 100%|██████████| 1/1 [00:00<00:00, 599.02it/s]"
     ]
    },
    {
     "name": "stdout",
     "output_type": "stream",
     "text": [
      "\n",
      "\r",
      "0it [00:00, ?it/s]"
     ]
    },
    {
     "name": "stdout",
     "output_type": "stream",
     "text": [
      "\r",
      "Upgrading database; v2 -> v3: : 0it [00:00, ?it/s]"
     ]
    },
    {
     "name": "stdout",
     "output_type": "stream",
     "text": [
      "\r",
      "Upgrading database; v2 -> v3: : 0it [00:00, ?it/s]"
     ]
    },
    {
     "name": "stdout",
     "output_type": "stream",
     "text": [
      "\n",
      "\r",
      "0it [00:00, ?it/s]"
     ]
    },
    {
     "name": "stdout",
     "output_type": "stream",
     "text": [
      "\r",
      "Upgrading database; v3 -> v4: : 0it [00:00, ?it/s]"
     ]
    },
    {
     "name": "stdout",
     "output_type": "stream",
     "text": [
      "\r",
      "Upgrading database; v3 -> v4: : 0it [00:00, ?it/s]"
     ]
    },
    {
     "name": "stdout",
     "output_type": "stream",
     "text": [
      "\n",
      "\r",
      "  0%|          | 0/1 [00:00<?, ?it/s]"
     ]
    },
    {
     "name": "stdout",
     "output_type": "stream",
     "text": [
      "\r",
      "Upgrading database; v4 -> v5:   0%|          | 0/1 [00:00<?, ?it/s]"
     ]
    },
    {
     "name": "stdout",
     "output_type": "stream",
     "text": [
      "\r",
      "Upgrading database; v4 -> v5: 100%|██████████| 1/1 [00:00<00:00, 661.56it/s]"
     ]
    },
    {
     "name": "stdout",
     "output_type": "stream",
     "text": [
      "\n",
      "\r",
      "0it [00:00, ?it/s]"
     ]
    },
    {
     "name": "stdout",
     "output_type": "stream",
     "text": [
      "\r",
      "Upgrading database; v5 -> v6: : 0it [00:00, ?it/s]"
     ]
    },
    {
     "name": "stdout",
     "output_type": "stream",
     "text": [
      "\r",
      "Upgrading database; v5 -> v6: : 0it [00:00, ?it/s]"
     ]
    },
    {
     "name": "stdout",
     "output_type": "stream",
     "text": [
      "\n",
      "\r",
      "  0%|          | 0/1 [00:00<?, ?it/s]"
     ]
    },
    {
     "name": "stdout",
     "output_type": "stream",
     "text": [
      "\r",
      "Upgrading database; v6 -> v7:   0%|          | 0/1 [00:00<?, ?it/s]"
     ]
    },
    {
     "name": "stdout",
     "output_type": "stream",
     "text": [
      "\r",
      "Upgrading database; v6 -> v7: 100%|██████████| 1/1 [00:00<00:00, 86.24it/s]"
     ]
    },
    {
     "name": "stdout",
     "output_type": "stream",
     "text": [
      "\n",
      "\r",
      "  0%|          | 0/1 [00:00<?, ?it/s]"
     ]
    },
    {
     "name": "stdout",
     "output_type": "stream",
     "text": [
      "\r",
      "Upgrading database; v7 -> v8:   0%|          | 0/1 [00:00<?, ?it/s]"
     ]
    },
    {
     "name": "stdout",
     "output_type": "stream",
     "text": [
      "\r",
      "Upgrading database; v7 -> v8: 100%|██████████| 1/1 [00:00<00:00, 517.37it/s]"
     ]
    },
    {
     "name": "stdout",
     "output_type": "stream",
     "text": [
      "\n"
     ]
    },
    {
     "name": "stdout",
     "output_type": "stream",
     "text": [
      "\r",
      "  0%|          | 0/1 [00:00<?, ?it/s]"
     ]
    },
    {
     "name": "stdout",
     "output_type": "stream",
     "text": [
      "\r",
      "Upgrading database; v8 -> v9:   0%|          | 0/1 [00:00<?, ?it/s]"
     ]
    },
    {
     "name": "stdout",
     "output_type": "stream",
     "text": [
      "\r",
      "Upgrading database; v8 -> v9: 100%|██████████| 1/1 [00:00<00:00, 1004.62it/s]"
     ]
    },
    {
     "name": "stdout",
     "output_type": "stream",
     "text": [
      "\n"
     ]
    }
   ],
   "source": [
    "initialise_database()\n",
    "exp = load_or_create_experiment(experiment_name='tutorial_exp', sample_name=\"no sample\")"
   ]
  },
  {
   "cell_type": "markdown",
   "metadata": {},
   "source": [
    "Here, we define a simple function to benchmark the time it takes to insert n points with either numeric or array data type.\n",
    "We will compare both the time used to call ``add_result`` and the time used for the full measurement."
   ]
  },
  {
   "cell_type": "code",
   "execution_count": 4,
   "metadata": {
    "execution": {
     "iopub.execute_input": "2021-02-21T18:51:17.975038Z",
     "iopub.status.busy": "2021-02-21T18:51:17.973572Z",
     "iopub.status.idle": "2021-02-21T18:51:17.975636Z",
     "shell.execute_reply": "2021-02-21T18:51:17.976093Z"
    }
   },
   "outputs": [],
   "source": [
    "def insert_data(paramtype, npoints, nreps=1):\n",
    "\n",
    "    meas = Measurement(exp=exp)\n",
    "\n",
    "    x1 = ManualParameter('x1')\n",
    "    x2 = ManualParameter('x2')\n",
    "    x3 = ManualParameter('x3')\n",
    "    y1 = ManualParameter('y1')\n",
    "    y2 = ManualParameter('y2')\n",
    "\n",
    "    meas.register_parameter(x1, paramtype=paramtype)\n",
    "    meas.register_parameter(x2, paramtype=paramtype)\n",
    "    meas.register_parameter(x3, paramtype=paramtype)\n",
    "    meas.register_parameter(y1, setpoints=[x1, x2, x3],\n",
    "                            paramtype=paramtype)\n",
    "    meas.register_parameter(y2, setpoints=[x1, x2, x3],\n",
    "                            paramtype=paramtype)\n",
    "    start = time.perf_counter()\n",
    "    with meas.run() as datasaver:\n",
    "        start_adding = time.perf_counter()\n",
    "        for i in range(nreps):\n",
    "            datasaver.add_result((x1, np.random.rand(npoints)),\n",
    "                                 (x2, np.random.rand(npoints)),\n",
    "                                 (x3, np.random.rand(npoints)),\n",
    "                                 (y1, np.random.rand(npoints)),\n",
    "                                 (y2, np.random.rand(npoints)))\n",
    "        stop_adding = time.perf_counter()\n",
    "        run_id = datasaver.run_id\n",
    "    stop = time.perf_counter()\n",
    "    tot_time = stop - start\n",
    "    add_time = stop_adding - start_adding\n",
    "    return tot_time, add_time, run_id"
   ]
  },
  {
   "cell_type": "markdown",
   "metadata": {},
   "source": [
    "## Comparison between numeric/array data and binary blob"
   ]
  },
  {
   "cell_type": "markdown",
   "metadata": {},
   "source": [
    "### Case1: Short experiment time"
   ]
  },
  {
   "cell_type": "code",
   "execution_count": 5,
   "metadata": {
    "execution": {
     "iopub.execute_input": "2021-02-21T18:51:17.982685Z",
     "iopub.status.busy": "2021-02-21T18:51:17.982046Z",
     "iopub.status.idle": "2021-02-21T18:51:19.485666Z",
     "shell.execute_reply": "2021-02-21T18:51:19.484871Z"
    }
   },
   "outputs": [
    {
     "name": "stdout",
     "output_type": "stream",
     "text": [
      "Starting experimental run with id: 1. \n"
     ]
    },
    {
     "name": "stdout",
     "output_type": "stream",
     "text": [
      "Starting experimental run with id: 2. \n",
      "Starting experimental run with id: 3. \n"
     ]
    },
    {
     "name": "stdout",
     "output_type": "stream",
     "text": [
      "Starting experimental run with id: 4. \n",
      "Starting experimental run with id: 5. \n"
     ]
    },
    {
     "name": "stdout",
     "output_type": "stream",
     "text": [
      "Starting experimental run with id: 6. \n"
     ]
    },
    {
     "name": "stdout",
     "output_type": "stream",
     "text": [
      "Starting experimental run with id: 7. \n",
      "Starting experimental run with id: 8. \n"
     ]
    },
    {
     "name": "stdout",
     "output_type": "stream",
     "text": [
      "Starting experimental run with id: 9. \n"
     ]
    },
    {
     "name": "stdout",
     "output_type": "stream",
     "text": [
      "Starting experimental run with id: 10. \n"
     ]
    },
    {
     "name": "stdout",
     "output_type": "stream",
     "text": [
      "Starting experimental run with id: 11. \n"
     ]
    },
    {
     "name": "stdout",
     "output_type": "stream",
     "text": [
      "Starting experimental run with id: 12. \n",
      "Starting experimental run with id: 13. \n"
     ]
    },
    {
     "name": "stdout",
     "output_type": "stream",
     "text": [
      "Starting experimental run with id: 14. \n"
     ]
    }
   ],
   "source": [
    "sizes = [1,500,1000,2000,3000,4000,5000]\n",
    "t_numeric = []\n",
    "t_numeric_add = []\n",
    "t_array = []\n",
    "t_array_add = []\n",
    "for size in sizes:\n",
    "    tn, tna, run_id_n =  insert_data('numeric', size)\n",
    "    t_numeric.append(tn)\n",
    "    t_numeric_add.append(tna)\n",
    "\n",
    "    ta, taa, run_id_a =  insert_data('array', size)\n",
    "    t_array.append(ta)\n",
    "    t_array_add.append(taa)"
   ]
  },
  {
   "cell_type": "code",
   "execution_count": 6,
   "metadata": {
    "execution": {
     "iopub.execute_input": "2021-02-21T18:51:19.504158Z",
     "iopub.status.busy": "2021-02-21T18:51:19.503554Z",
     "iopub.status.idle": "2021-02-21T18:51:19.714176Z",
     "shell.execute_reply": "2021-02-21T18:51:19.713642Z"
    }
   },
   "outputs": [
    {
     "data": {
      "image/png": "[encoded data removed]",
      "text/plain": [
       "<Figure size 432x288 with 1 Axes>"
      ]
     },
     "metadata": {
      "needs_background": "light"
     },
     "output_type": "display_data"
    }
   ],
   "source": [
    "fig, ax = plt.subplots(1,1)\n",
    "ax.plot(sizes, t_numeric, 'o-', label='Inserting row-by-row')\n",
    "ax.plot(sizes, t_numeric_add, 'o-', label='Inserting row-by-row: add_result only')\n",
    "ax.plot(sizes, t_array, 'd-', label='Inserting as binary blob')\n",
    "ax.plot(sizes, t_array_add, 'd-', label='Inserting as binary blob: add_result only')\n",
    "ax.legend()\n",
    "ax.set_xlabel('Array length')\n",
    "ax.set_ylabel('Time (s)')\n",
    "fig.tight_layout()"
   ]
  },
  {
   "cell_type": "markdown",
   "metadata": {},
   "source": [
    "As shown in the latter figure, the time to setup and and close the experiment is approximately 0.4 sec. In case of small array sizes, the difference between inserting values of data as arrays and inserting them row-by-row is relatively unimportant. At larger array sizes, i.e. above 10000 points, the cost of writing data as individual datapoints starts to become important.\n"
   ]
  },
  {
   "cell_type": "markdown",
   "metadata": {},
   "source": [
    "### Case2: Long experiment time "
   ]
  },
  {
   "cell_type": "code",
   "execution_count": 7,
   "metadata": {
    "execution": {
     "iopub.execute_input": "2021-02-21T18:51:19.721147Z",
     "iopub.status.busy": "2021-02-21T18:51:19.719012Z",
     "iopub.status.idle": "2021-02-21T18:52:21.682580Z",
     "shell.execute_reply": "2021-02-21T18:52:21.681728Z"
    }
   },
   "outputs": [
    {
     "name": "stdout",
     "output_type": "stream",
     "text": [
      "Starting experimental run with id: 15. \n",
      "Starting experimental run with id: 16. \n"
     ]
    },
    {
     "name": "stdout",
     "output_type": "stream",
     "text": [
      "Starting experimental run with id: 17. \n"
     ]
    },
    {
     "name": "stdout",
     "output_type": "stream",
     "text": [
      "Starting experimental run with id: 18. \n"
     ]
    },
    {
     "name": "stdout",
     "output_type": "stream",
     "text": [
      "Starting experimental run with id: 19. \n"
     ]
    },
    {
     "name": "stdout",
     "output_type": "stream",
     "text": [
      "Starting experimental run with id: 20. \n"
     ]
    },
    {
     "name": "stdout",
     "output_type": "stream",
     "text": [
      "Starting experimental run with id: 21. \n"
     ]
    },
    {
     "name": "stdout",
     "output_type": "stream",
     "text": [
      "Starting experimental run with id: 22. \n"
     ]
    },
    {
     "name": "stdout",
     "output_type": "stream",
     "text": [
      "Starting experimental run with id: 23. \n"
     ]
    },
    {
     "name": "stdout",
     "output_type": "stream",
     "text": [
      "Starting experimental run with id: 24. \n"
     ]
    },
    {
     "name": "stdout",
     "output_type": "stream",
     "text": [
      "Starting experimental run with id: 25. \n"
     ]
    },
    {
     "name": "stdout",
     "output_type": "stream",
     "text": [
      "Starting experimental run with id: 26. \n"
     ]
    },
    {
     "name": "stdout",
     "output_type": "stream",
     "text": [
      "Starting experimental run with id: 27. \n"
     ]
    },
    {
     "name": "stdout",
     "output_type": "stream",
     "text": [
      "Starting experimental run with id: 28. \n"
     ]
    }
   ],
   "source": [
    "sizes = [1,500,1000,2000,3000,4000,5000]\n",
    "nreps = 100\n",
    "t_numeric = []\n",
    "t_numeric_add = []\n",
    "t_numeric_run_ids = []\n",
    "t_array = []\n",
    "t_array_add = []\n",
    "t_array_run_ids = []\n",
    "for size in sizes:\n",
    "    tn, tna, run_id_n =  insert_data('numeric', size, nreps=nreps)\n",
    "    t_numeric.append(tn)\n",
    "    t_numeric_add.append(tna)\n",
    "    t_numeric_run_ids.append(run_id_n)\n",
    "\n",
    "    ta, taa, run_id_a =  insert_data('array', size, nreps=nreps)\n",
    "    t_array.append(ta)\n",
    "    t_array_add.append(taa)\n",
    "    t_array_run_ids.append(run_id_a)"
   ]
  },
  {
   "cell_type": "code",
   "execution_count": 8,
   "metadata": {
    "execution": {
     "iopub.execute_input": "2021-02-21T18:52:21.706570Z",
     "iopub.status.busy": "2021-02-21T18:52:21.703101Z",
     "iopub.status.idle": "2021-02-21T18:52:21.915022Z",
     "shell.execute_reply": "2021-02-21T18:52:21.914511Z"
    },
    "scrolled": true
   },
   "outputs": [
    {
     "data": {
      "image/png": "[encoded data removed]",
      "text/plain": [
       "<Figure size 432x288 with 1 Axes>"
      ]
     },
     "metadata": {
      "needs_background": "light"
     },
     "output_type": "display_data"
    }
   ],
   "source": [
    "fig, ax = plt.subplots(1,1)\n",
    "ax.plot(sizes, t_numeric, 'o-', label='Inserting row-by-row')\n",
    "ax.plot(sizes, t_numeric_add, 'o-', label='Inserting row-by-row: add_result only')\n",
    "ax.plot(sizes, t_array, 'd-', label='Inserting as binary blob')\n",
    "ax.plot(sizes, t_array_add, 'd-', label='Inserting as binary blob: add_result only')\n",
    "ax.legend()\n",
    "ax.set_xlabel('Array length')\n",
    "ax.set_ylabel('Time (s)')\n",
    "fig.tight_layout()"
   ]
  },
  {
   "cell_type": "markdown",
   "metadata": {},
   "source": [
    "However, as we increase the length of the experiment, as seen here by repeating the insertion 100 times, we see a big difference between inserting values of the data row-by-row and inserting it as a binary blob."
   ]
  },
  {
   "cell_type": "markdown",
   "metadata": {},
   "source": [
    "## Loading the data "
   ]
  },
  {
   "cell_type": "code",
   "execution_count": 9,
   "metadata": {
    "execution": {
     "iopub.execute_input": "2021-02-21T18:52:21.919297Z",
     "iopub.status.busy": "2021-02-21T18:52:21.918398Z",
     "iopub.status.idle": "2021-02-21T18:52:21.922737Z",
     "shell.execute_reply": "2021-02-21T18:52:21.923204Z"
    }
   },
   "outputs": [],
   "source": [
    "from qcodes.dataset.data_set import load_by_id\n",
    "from qcodes.dataset.data_export import get_data_by_id"
   ]
  },
  {
   "cell_type": "markdown",
   "metadata": {},
   "source": [
    "As usual you can load the data by using the ``load_by_id`` function but you will notice that the different storage methods\n",
    "are reflected in shape of the data as it is retrieved. "
   ]
  },
  {
   "cell_type": "code",
   "execution_count": 10,
   "metadata": {
    "execution": {
     "iopub.execute_input": "2021-02-21T18:52:21.927866Z",
     "iopub.status.busy": "2021-02-21T18:52:21.927187Z",
     "iopub.status.idle": "2021-02-21T18:52:21.930506Z",
     "shell.execute_reply": "2021-02-21T18:52:21.931226Z"
    }
   },
   "outputs": [],
   "source": [
    "run_id_n = t_numeric_run_ids[0]\n",
    "run_id_a = t_array_run_ids[0]"
   ]
  },
  {
   "cell_type": "code",
   "execution_count": 11,
   "metadata": {
    "execution": {
     "iopub.execute_input": "2021-02-21T18:52:21.934960Z",
     "iopub.status.busy": "2021-02-21T18:52:21.934413Z",
     "iopub.status.idle": "2021-02-21T18:52:21.945744Z",
     "shell.execute_reply": "2021-02-21T18:52:21.946550Z"
    },
    "scrolled": true
   },
   "outputs": [
    {
     "data": {
      "text/plain": [
       "{'x1': {'x1': array([0.19312053, 0.19312053, 0.55385248, 0.55385248, 0.6132888 ,\n",
       "         0.6132888 , 0.77623764, 0.77623764, 0.44997398, 0.44997398,\n",
       "         0.05334897, 0.05334897, 0.88300508, 0.88300508, 0.71860156,\n",
       "         0.71860156, 0.15262718, 0.15262718, 0.63755338, 0.63755338,\n",
       "         0.5878481 , 0.5878481 , 0.15480657, 0.15480657, 0.24248894,\n",
       "         0.24248894, 0.60492299, 0.60492299, 0.56710577, 0.56710577,\n",
       "         0.36516749, 0.36516749, 0.64198021, 0.64198021, 0.63814822,\n",
       "         0.63814822, 0.33462433, 0.33462433, 0.32139457, 0.32139457,\n",
       "         0.17392545, 0.17392545, 0.177011  , 0.177011  , 0.24837811,\n",
       "         0.24837811, 0.30040018, 0.30040018, 0.3611535 , 0.3611535 ,\n",
       "         0.11352114, 0.11352114, 0.3236187 , 0.3236187 , 0.02819713,\n",
       "         0.02819713, 0.47623826, 0.47623826, 0.2650045 , 0.2650045 ,\n",
       "         0.30671798, 0.30671798, 0.59595244, 0.59595244, 0.37202386,\n",
       "         0.37202386, 0.02920006, 0.02920006, 0.66948359, 0.66948359,\n",
       "         0.70253981, 0.70253981, 0.48790998, 0.48790998, 0.95551   ,\n",
       "         0.95551   , 0.05926234, 0.05926234, 0.45716178, 0.45716178,\n",
       "         0.29824276, 0.29824276, 0.53005916, 0.53005916, 0.08603476,\n",
       "         0.08603476, 0.13749787, 0.13749787, 0.57922443, 0.57922443,\n",
       "         0.89713603, 0.89713603, 0.66576276, 0.66576276, 0.21547741,\n",
       "         0.21547741, 0.37869539, 0.37869539, 0.07682858, 0.07682858,\n",
       "         0.30273051, 0.30273051, 0.38326224, 0.38326224, 0.46054863,\n",
       "         0.46054863, 0.35420674, 0.35420674, 0.72419741, 0.72419741,\n",
       "         0.74067577, 0.74067577, 0.80274712, 0.80274712, 0.86699007,\n",
       "         0.86699007, 0.99620246, 0.99620246, 0.57487913, 0.57487913,\n",
       "         0.16073474, 0.16073474, 0.55486408, 0.55486408, 0.12686139,\n",
       "         0.12686139, 0.30638145, 0.30638145, 0.49707103, 0.49707103,\n",
       "         0.79159686, 0.79159686, 0.18506416, 0.18506416, 0.7696478 ,\n",
       "         0.7696478 , 0.39770553, 0.39770553, 0.52715205, 0.52715205,\n",
       "         0.5404075 , 0.5404075 , 0.45666511, 0.45666511, 0.15498393,\n",
       "         0.15498393, 0.86445332, 0.86445332, 0.70654469, 0.70654469,\n",
       "         0.94669119, 0.94669119, 0.70160423, 0.70160423, 0.01079208,\n",
       "         0.01079208, 0.21685967, 0.21685967, 0.92716562, 0.92716562,\n",
       "         0.38608603, 0.38608603, 0.6269679 , 0.6269679 , 0.92705012,\n",
       "         0.92705012, 0.24831118, 0.24831118, 0.98309923, 0.98309923,\n",
       "         0.7906781 , 0.7906781 , 0.22776426, 0.22776426, 0.31903543,\n",
       "         0.31903543, 0.26537056, 0.26537056, 0.12580296, 0.12580296,\n",
       "         0.66357966, 0.66357966, 0.93031929, 0.93031929, 0.53091189,\n",
       "         0.53091189, 0.97750261, 0.97750261, 0.86105103, 0.86105103,\n",
       "         0.76686007, 0.76686007, 0.54943485, 0.54943485, 0.62021225,\n",
       "         0.62021225, 0.00612219, 0.00612219, 0.08300484, 0.08300484])}}"
      ]
     },
     "execution_count": 1,
     "metadata": {},
     "output_type": "execute_result"
    }
   ],
   "source": [
    "ds = load_by_id(run_id_n)\n",
    "ds.get_parameter_data('x1')"
   ]
  },
  {
   "cell_type": "markdown",
   "metadata": {},
   "source": [
    "And a dataset stored as binary arrays"
   ]
  },
  {
   "cell_type": "code",
   "execution_count": 12,
   "metadata": {
    "execution": {
     "iopub.execute_input": "2021-02-21T18:52:21.950591Z",
     "iopub.status.busy": "2021-02-21T18:52:21.949762Z",
     "iopub.status.idle": "2021-02-21T18:52:22.010543Z",
     "shell.execute_reply": "2021-02-21T18:52:22.010983Z"
    },
    "scrolled": true
   },
   "outputs": [
    {
     "data": {
      "text/plain": [
       "{'x1': {'x1': array([[0.05879017],\n",
       "         [0.05879017],\n",
       "         [0.9117966 ],\n",
       "         [0.9117966 ],\n",
       "         [0.90908096],\n",
       "         [0.90908096],\n",
       "         [0.73239566],\n",
       "         [0.73239566],\n",
       "         [0.89430728],\n",
       "         [0.89430728],\n",
       "         [0.92616562],\n",
       "         [0.92616562],\n",
       "         [0.6192967 ],\n",
       "         [0.6192967 ],\n",
       "         [0.3506721 ],\n",
       "         [0.3506721 ],\n",
       "         [0.30101142],\n",
       "         [0.30101142],\n",
       "         [0.81192654],\n",
       "         [0.81192654],\n",
       "         [0.09143317],\n",
       "         [0.09143317],\n",
       "         [0.74548935],\n",
       "         [0.74548935],\n",
       "         [0.84537658],\n",
       "         [0.84537658],\n",
       "         [0.13571322],\n",
       "         [0.13571322],\n",
       "         [0.17282939],\n",
       "         [0.17282939],\n",
       "         [0.35738029],\n",
       "         [0.35738029],\n",
       "         [0.84417793],\n",
       "         [0.84417793],\n",
       "         [0.68746844],\n",
       "         [0.68746844],\n",
       "         [0.45407649],\n",
       "         [0.45407649],\n",
       "         [0.34190152],\n",
       "         [0.34190152],\n",
       "         [0.71323129],\n",
       "         [0.71323129],\n",
       "         [0.92944139],\n",
       "         [0.92944139],\n",
       "         [0.08900853],\n",
       "         [0.08900853],\n",
       "         [0.31783535],\n",
       "         [0.31783535],\n",
       "         [0.45039969],\n",
       "         [0.45039969],\n",
       "         [0.38127727],\n",
       "         [0.38127727],\n",
       "         [0.41310722],\n",
       "         [0.41310722],\n",
       "         [0.84850491],\n",
       "         [0.84850491],\n",
       "         [0.46933918],\n",
       "         [0.46933918],\n",
       "         [0.06745894],\n",
       "         [0.06745894],\n",
       "         [0.78365228],\n",
       "         [0.78365228],\n",
       "         [0.9792166 ],\n",
       "         [0.9792166 ],\n",
       "         [0.89754527],\n",
       "         [0.89754527],\n",
       "         [0.21022575],\n",
       "         [0.21022575],\n",
       "         [0.03998528],\n",
       "         [0.03998528],\n",
       "         [0.43622088],\n",
       "         [0.43622088],\n",
       "         [0.46078926],\n",
       "         [0.46078926],\n",
       "         [0.35094281],\n",
       "         [0.35094281],\n",
       "         [0.52102771],\n",
       "         [0.52102771],\n",
       "         [0.9422873 ],\n",
       "         [0.9422873 ],\n",
       "         [0.3587794 ],\n",
       "         [0.3587794 ],\n",
       "         [0.98838982],\n",
       "         [0.98838982],\n",
       "         [0.83618599],\n",
       "         [0.83618599],\n",
       "         [0.50260564],\n",
       "         [0.50260564],\n",
       "         [0.74472853],\n",
       "         [0.74472853],\n",
       "         [0.6914403 ],\n",
       "         [0.6914403 ],\n",
       "         [0.05986089],\n",
       "         [0.05986089],\n",
       "         [0.18374248],\n",
       "         [0.18374248],\n",
       "         [0.18093476],\n",
       "         [0.18093476],\n",
       "         [0.98377302],\n",
       "         [0.98377302],\n",
       "         [0.95039529],\n",
       "         [0.95039529],\n",
       "         [0.86040872],\n",
       "         [0.86040872],\n",
       "         [0.10586703],\n",
       "         [0.10586703],\n",
       "         [0.79269855],\n",
       "         [0.79269855],\n",
       "         [0.87538739],\n",
       "         [0.87538739],\n",
       "         [0.50018277],\n",
       "         [0.50018277],\n",
       "         [0.1291722 ],\n",
       "         [0.1291722 ],\n",
       "         [0.78789065],\n",
       "         [0.78789065],\n",
       "         [0.12257115],\n",
       "         [0.12257115],\n",
       "         [0.80022427],\n",
       "         [0.80022427],\n",
       "         [0.21460913],\n",
       "         [0.21460913],\n",
       "         [0.04436451],\n",
       "         [0.04436451],\n",
       "         [0.70732026],\n",
       "         [0.70732026],\n",
       "         [0.40451947],\n",
       "         [0.40451947],\n",
       "         [0.53969105],\n",
       "         [0.53969105],\n",
       "         [0.56562208],\n",
       "         [0.56562208],\n",
       "         [0.50157701],\n",
       "         [0.50157701],\n",
       "         [0.36283396],\n",
       "         [0.36283396],\n",
       "         [0.22238777],\n",
       "         [0.22238777],\n",
       "         [0.28197469],\n",
       "         [0.28197469],\n",
       "         [0.6588116 ],\n",
       "         [0.6588116 ],\n",
       "         [0.03432407],\n",
       "         [0.03432407],\n",
       "         [0.96272194],\n",
       "         [0.96272194],\n",
       "         [0.15578984],\n",
       "         [0.15578984],\n",
       "         [0.72356072],\n",
       "         [0.72356072],\n",
       "         [0.3219639 ],\n",
       "         [0.3219639 ],\n",
       "         [0.6162045 ],\n",
       "         [0.6162045 ],\n",
       "         [0.5715888 ],\n",
       "         [0.5715888 ],\n",
       "         [0.16656125],\n",
       "         [0.16656125],\n",
       "         [0.42522802],\n",
       "         [0.42522802],\n",
       "         [0.90165177],\n",
       "         [0.90165177],\n",
       "         [0.02047292],\n",
       "         [0.02047292],\n",
       "         [0.79876322],\n",
       "         [0.79876322],\n",
       "         [0.80226926],\n",
       "         [0.80226926],\n",
       "         [0.09316012],\n",
       "         [0.09316012],\n",
       "         [0.49505143],\n",
       "         [0.49505143],\n",
       "         [0.11119843],\n",
       "         [0.11119843],\n",
       "         [0.74253471],\n",
       "         [0.74253471],\n",
       "         [0.17117209],\n",
       "         [0.17117209],\n",
       "         [0.62923127],\n",
       "         [0.62923127],\n",
       "         [0.29533455],\n",
       "         [0.29533455],\n",
       "         [0.31296492],\n",
       "         [0.31296492],\n",
       "         [0.59089535],\n",
       "         [0.59089535],\n",
       "         [0.99459697],\n",
       "         [0.99459697],\n",
       "         [0.88143095],\n",
       "         [0.88143095],\n",
       "         [0.86074319],\n",
       "         [0.86074319],\n",
       "         [0.35093719],\n",
       "         [0.35093719],\n",
       "         [0.752769  ],\n",
       "         [0.752769  ],\n",
       "         [0.1041873 ],\n",
       "         [0.1041873 ],\n",
       "         [0.28443961],\n",
       "         [0.28443961]])}}"
      ]
     },
     "execution_count": 1,
     "metadata": {},
     "output_type": "execute_result"
    }
   ],
   "source": [
    "ds = load_by_id(run_id_a)\n",
    "ds.get_parameter_data('x1')"
   ]
  },
  {
   "cell_type": "code",
   "execution_count": null,
   "metadata": {},
   "outputs": [],
   "source": []
  }
 ],
 "metadata": {
  "kernelspec": {
   "display_name": "Python 3",
   "language": "python",
   "name": "python3"
  },
  "language_info": {
   "codemirror_mode": {
    "name": "ipython",
    "version": 3
   },
   "file_extension": ".py",
   "mimetype": "text/x-python",
   "name": "python",
   "nbconvert_exporter": "python",
   "pygments_lexer": "ipython3",
   "version": "3.7.9"
  },
  "nbsphinx": {
   "timeout": 600
  },
  "toc": {
   "base_numbering": 1,
   "nav_menu": {},
   "number_sections": true,
   "sideBar": true,
   "skip_h1_title": false,
   "title_cell": "Table of Contents",
   "title_sidebar": "Contents",
   "toc_cell": false,
   "toc_position": {},
   "toc_section_display": true,
   "toc_window_display": false
  },
  "varInspector": {
   "cols": {
    "lenName": 16,
    "lenType": 16,
    "lenVar": 40
   },
   "kernels_config": {
    "python": {
     "delete_cmd_postfix": "",
     "delete_cmd_prefix": "del ",
     "library": "var_list.py",
     "varRefreshCmd": "print(var_dic_list())"
    },
    "r": {
     "delete_cmd_postfix": ") ",
     "delete_cmd_prefix": "rm(",
     "library": "var_list.r",
     "varRefreshCmd": "cat(var_dic_list()) "
    }
   },
   "types_to_exclude": [
    "module",
    "function",
    "builtin_function_or_method",
    "instance",
    "_Feature"
   ],
   "window_display": false
  }
 },
 "nbformat": 4,
 "nbformat_minor": 2
}
