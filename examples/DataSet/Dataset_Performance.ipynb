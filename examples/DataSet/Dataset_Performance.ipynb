{
 "cells": [
  {
   "cell_type": "markdown",
   "metadata": {},
   "source": [
    "# DataSet Performance\n",
    "\n",
    "This notebook shows the trade-off between inserting data into a database row-by-row and as binary blobs. Inserting the data row-by-row means that we have direct access to all the data and may perform queries directly on the values of the data. On the other hand, as we shall see, this is much slower than inserting the data directly as binary blobs."
   ]
  },
  {
   "cell_type": "markdown",
   "metadata": {},
   "source": [
    "First, we choose a new location for the database to ensure that we don't add a bunch of benchmarking data to the default one."
   ]
  },
  {
   "cell_type": "code",
   "execution_count": 1,
   "metadata": {
    "execution": {
     "iopub.execute_input": "2020-10-30T16:09:54.536146Z",
     "iopub.status.busy": "2020-10-30T16:09:54.535004Z",
     "iopub.status.idle": "2020-10-30T16:09:55.818637Z",
     "shell.execute_reply": "2020-10-30T16:09:55.817972Z"
    }
   },
   "outputs": [
    {
     "name": "stdout",
     "output_type": "stream",
     "text": [
      "Logging hadn't been started.\n",
      "Activating auto-logging. Current session state plus future input saved.\n",
      "Filename       : /home/vsts/.qcodes/logs/command_history.log\n",
      "Mode           : append\n",
      "Output logging : True\n",
      "Raw input log  : False\n",
      "Timestamping   : True\n",
      "State          : active\n"
     ]
    },
    {
     "name": "stdout",
     "output_type": "stream",
     "text": [
      "Qcodes Logfile : /home/vsts/.qcodes/logs/201030-14791-qcodes.log\n"
     ]
    }
   ],
   "source": [
    "import os\n",
    "cwd = os.getcwd()\n",
    "import qcodes as qc\n",
    "qc.config[\"core\"][\"db_location\"] = os.path.join(cwd, 'testing.db')\n"
   ]
  },
  {
   "cell_type": "code",
   "execution_count": 2,
   "metadata": {
    "execution": {
     "iopub.execute_input": "2020-10-30T16:09:55.826597Z",
     "iopub.status.busy": "2020-10-30T16:09:55.825231Z",
     "iopub.status.idle": "2020-10-30T16:09:56.058064Z",
     "shell.execute_reply": "2020-10-30T16:09:56.057413Z"
    }
   },
   "outputs": [],
   "source": [
    "%matplotlib inline\n",
    "import time\n",
    "import matplotlib.pyplot as plt\n",
    "import numpy as np\n",
    "\n",
    "import qcodes as qc\n",
    "from qcodes.instrument.parameter import ManualParameter\n",
    "from qcodes.dataset.experiment_container import (Experiment,\n",
    "                                                 load_last_experiment,\n",
    "                                                 new_experiment)\n",
    "from qcodes.dataset.sqlite.database import initialise_database\n",
    "from qcodes import load_or_create_experiment\n",
    "from qcodes.dataset.measurements import Measurement"
   ]
  },
  {
   "cell_type": "code",
   "execution_count": 3,
   "metadata": {
    "execution": {
     "iopub.execute_input": "2020-10-30T16:09:56.063306Z",
     "iopub.status.busy": "2020-10-30T16:09:56.062459Z",
     "iopub.status.idle": "2020-10-30T16:09:56.221631Z",
     "shell.execute_reply": "2020-10-30T16:09:56.222320Z"
    }
   },
   "outputs": [
    {
     "name": "stdout",
     "output_type": "stream",
     "text": [
      "\r",
      "0it [00:00, ?it/s]"
     ]
    },
    {
     "name": "stdout",
     "output_type": "stream",
     "text": [
      "\r",
      "Upgrading database; v0 -> v1: : 0it [00:00, ?it/s]"
     ]
    },
    {
     "name": "stdout",
     "output_type": "stream",
     "text": [
      "\r",
      "Upgrading database; v0 -> v1: : 0it [00:00, ?it/s]"
     ]
    },
    {
     "name": "stdout",
     "output_type": "stream",
     "text": [
      "\n",
      "\r",
      "  0%|          | 0/1 [00:00<?, ?it/s]"
     ]
    },
    {
     "name": "stdout",
     "output_type": "stream",
     "text": [
      "\r",
      "Upgrading database; v1 -> v2:   0%|          | 0/1 [00:00<?, ?it/s]"
     ]
    },
    {
     "name": "stdout",
     "output_type": "stream",
     "text": [
      "\r",
      "Upgrading database; v1 -> v2: 100%|██████████| 1/1 [00:00<00:00, 375.06it/s]"
     ]
    },
    {
     "name": "stdout",
     "output_type": "stream",
     "text": [
      "\n",
      "\r",
      "0it [00:00, ?it/s]"
     ]
    },
    {
     "name": "stdout",
     "output_type": "stream",
     "text": [
      "\r",
      "Upgrading database; v2 -> v3: : 0it [00:00, ?it/s]"
     ]
    },
    {
     "name": "stdout",
     "output_type": "stream",
     "text": [
      "\r",
      "Upgrading database; v2 -> v3: : 0it [00:00, ?it/s]"
     ]
    },
    {
     "name": "stdout",
     "output_type": "stream",
     "text": [
      "\n",
      "\r",
      "0it [00:00, ?it/s]"
     ]
    },
    {
     "name": "stdout",
     "output_type": "stream",
     "text": [
      "\r",
      "Upgrading database; v3 -> v4: : 0it [00:00, ?it/s]"
     ]
    },
    {
     "name": "stdout",
     "output_type": "stream",
     "text": [
      "\r",
      "Upgrading database; v3 -> v4: : 0it [00:00, ?it/s]"
     ]
    },
    {
     "name": "stdout",
     "output_type": "stream",
     "text": [
      "\n",
      "\r",
      "  0%|          | 0/1 [00:00<?, ?it/s]"
     ]
    },
    {
     "name": "stdout",
     "output_type": "stream",
     "text": [
      "\r",
      "Upgrading database; v4 -> v5:   0%|          | 0/1 [00:00<?, ?it/s]"
     ]
    },
    {
     "name": "stdout",
     "output_type": "stream",
     "text": [
      "\r",
      "Upgrading database; v4 -> v5: 100%|██████████| 1/1 [00:00<00:00, 288.29it/s]"
     ]
    },
    {
     "name": "stdout",
     "output_type": "stream",
     "text": [
      "\n",
      "\r",
      "0it [00:00, ?it/s]"
     ]
    },
    {
     "name": "stdout",
     "output_type": "stream",
     "text": [
      "\r",
      "Upgrading database; v5 -> v6: : 0it [00:00, ?it/s]"
     ]
    },
    {
     "name": "stdout",
     "output_type": "stream",
     "text": [
      "\r",
      "Upgrading database; v5 -> v6: : 0it [00:00, ?it/s]"
     ]
    },
    {
     "name": "stdout",
     "output_type": "stream",
     "text": [
      "\n",
      "\r",
      "  0%|          | 0/1 [00:00<?, ?it/s]"
     ]
    },
    {
     "name": "stdout",
     "output_type": "stream",
     "text": [
      "\r",
      "Upgrading database; v6 -> v7:   0%|          | 0/1 [00:00<?, ?it/s]"
     ]
    },
    {
     "name": "stdout",
     "output_type": "stream",
     "text": [
      "\r",
      "Upgrading database; v6 -> v7: 100%|██████████| 1/1 [00:00<00:00, 262.14it/s]"
     ]
    },
    {
     "name": "stdout",
     "output_type": "stream",
     "text": [
      "\n",
      "\r",
      "  0%|          | 0/1 [00:00<?, ?it/s]"
     ]
    },
    {
     "name": "stdout",
     "output_type": "stream",
     "text": [
      "\r",
      "Upgrading database; v7 -> v8:   0%|          | 0/1 [00:00<?, ?it/s]"
     ]
    },
    {
     "name": "stdout",
     "output_type": "stream",
     "text": [
      "\r",
      "Upgrading database; v7 -> v8: 100%|██████████| 1/1 [00:00<00:00, 391.84it/s]"
     ]
    },
    {
     "name": "stdout",
     "output_type": "stream",
     "text": [
      "\n",
      "\r",
      "  0%|          | 0/1 [00:00<?, ?it/s]"
     ]
    },
    {
     "name": "stdout",
     "output_type": "stream",
     "text": [
      "\r",
      "Upgrading database; v8 -> v9:   0%|          | 0/1 [00:00<?, ?it/s]"
     ]
    },
    {
     "name": "stdout",
     "output_type": "stream",
     "text": [
      "\r",
      "Upgrading database; v8 -> v9: 100%|██████████| 1/1 [00:00<00:00, 677.05it/s]"
     ]
    },
    {
     "name": "stdout",
     "output_type": "stream",
     "text": [
      "\n"
     ]
    }
   ],
   "source": [
    "initialise_database()\n",
    "exp = load_or_create_experiment(experiment_name='tutorial_exp', sample_name=\"no sample\")"
   ]
  },
  {
   "cell_type": "markdown",
   "metadata": {},
   "source": [
    "Here, we define a simple function to benchmark the time it takes to insert n points with either numeric or array data type.\n",
    "We will compare both the time used to call ``add_result`` and the time used for the full measurement."
   ]
  },
  {
   "cell_type": "code",
   "execution_count": 4,
   "metadata": {
    "execution": {
     "iopub.execute_input": "2020-10-30T16:09:56.233263Z",
     "iopub.status.busy": "2020-10-30T16:09:56.231759Z",
     "iopub.status.idle": "2020-10-30T16:09:56.234034Z",
     "shell.execute_reply": "2020-10-30T16:09:56.234609Z"
    }
   },
   "outputs": [],
   "source": [
    "def insert_data(paramtype, npoints, nreps=1):\n",
    "\n",
    "    meas = Measurement(exp=exp)\n",
    "\n",
    "    x1 = ManualParameter('x1')\n",
    "    x2 = ManualParameter('x2')\n",
    "    x3 = ManualParameter('x3')\n",
    "    y1 = ManualParameter('y1')\n",
    "    y2 = ManualParameter('y2')\n",
    "\n",
    "    meas.register_parameter(x1, paramtype=paramtype)\n",
    "    meas.register_parameter(x2, paramtype=paramtype)\n",
    "    meas.register_parameter(x3, paramtype=paramtype)\n",
    "    meas.register_parameter(y1, setpoints=[x1, x2, x3],\n",
    "                            paramtype=paramtype)\n",
    "    meas.register_parameter(y2, setpoints=[x1, x2, x3],\n",
    "                            paramtype=paramtype)\n",
    "    start = time.perf_counter()\n",
    "    with meas.run() as datasaver:\n",
    "        start_adding = time.perf_counter()\n",
    "        for i in range(nreps):\n",
    "            datasaver.add_result((x1, np.random.rand(npoints)),\n",
    "                                 (x2, np.random.rand(npoints)),\n",
    "                                 (x3, np.random.rand(npoints)),\n",
    "                                 (y1, np.random.rand(npoints)),\n",
    "                                 (y2, np.random.rand(npoints)))\n",
    "        stop_adding = time.perf_counter()\n",
    "        run_id = datasaver.run_id\n",
    "    stop = time.perf_counter()\n",
    "    tot_time = stop - start\n",
    "    add_time = stop_adding - start_adding\n",
    "    return tot_time, add_time, run_id"
   ]
  },
  {
   "cell_type": "markdown",
   "metadata": {},
   "source": [
    "## Comparison between numeric/array data and binary blob"
   ]
  },
  {
   "cell_type": "markdown",
   "metadata": {},
   "source": [
    "### Case1: Short experiment time"
   ]
  },
  {
   "cell_type": "code",
   "execution_count": 5,
   "metadata": {
    "execution": {
     "iopub.execute_input": "2020-10-30T16:09:56.240782Z",
     "iopub.status.busy": "2020-10-30T16:09:56.240116Z",
     "iopub.status.idle": "2020-10-30T16:09:57.318373Z",
     "shell.execute_reply": "2020-10-30T16:09:57.317000Z"
    }
   },
   "outputs": [
    {
     "name": "stdout",
     "output_type": "stream",
     "text": [
      "Starting experimental run with id: 1. \n",
      "Starting experimental run with id: 2. \n",
      "Starting experimental run with id: 3. \n"
     ]
    },
    {
     "name": "stdout",
     "output_type": "stream",
     "text": [
      "Starting experimental run with id: 4. \n"
     ]
    },
    {
     "name": "stdout",
     "output_type": "stream",
     "text": [
      "Starting experimental run with id: 5. \n"
     ]
    },
    {
     "name": "stdout",
     "output_type": "stream",
     "text": [
      "Starting experimental run with id: 6. \n"
     ]
    },
    {
     "name": "stdout",
     "output_type": "stream",
     "text": [
      "Starting experimental run with id: 7. \n"
     ]
    },
    {
     "name": "stdout",
     "output_type": "stream",
     "text": [
      "Starting experimental run with id: 8. \n"
     ]
    },
    {
     "name": "stdout",
     "output_type": "stream",
     "text": [
      "Starting experimental run with id: 9. \n"
     ]
    },
    {
     "name": "stdout",
     "output_type": "stream",
     "text": [
      "Starting experimental run with id: 10. \n"
     ]
    },
    {
     "name": "stdout",
     "output_type": "stream",
     "text": [
      "Starting experimental run with id: 11. \n"
     ]
    },
    {
     "name": "stdout",
     "output_type": "stream",
     "text": [
      "Starting experimental run with id: 12. \n"
     ]
    },
    {
     "name": "stdout",
     "output_type": "stream",
     "text": [
      "Starting experimental run with id: 13. \n"
     ]
    },
    {
     "name": "stdout",
     "output_type": "stream",
     "text": [
      "Starting experimental run with id: 14. \n"
     ]
    }
   ],
   "source": [
    "sizes = [1,500,1000,2000,3000,4000,5000]\n",
    "t_numeric = []\n",
    "t_numeric_add = []\n",
    "t_array = []\n",
    "t_array_add = []\n",
    "for size in sizes:\n",
    "    tn, tna, run_id_n =  insert_data('numeric', size)\n",
    "    t_numeric.append(tn)\n",
    "    t_numeric_add.append(tna)\n",
    "\n",
    "    ta, taa, run_id_a =  insert_data('array', size)\n",
    "    t_array.append(ta)\n",
    "    t_array_add.append(taa)"
   ]
  },
  {
   "cell_type": "code",
   "execution_count": 6,
   "metadata": {
    "execution": {
     "iopub.execute_input": "2020-10-30T16:09:57.339324Z",
     "iopub.status.busy": "2020-10-30T16:09:57.338595Z",
     "iopub.status.idle": "2020-10-30T16:09:57.584356Z",
     "shell.execute_reply": "2020-10-30T16:09:57.582872Z"
    }
   },
   "outputs": [
    {
     "data": {
      "image/png": "[encoded data removed]",
      "text/plain": [
       "<Figure size 432x288 with 1 Axes>"
      ]
     },
     "metadata": {
      "needs_background": "light"
     },
     "output_type": "display_data"
    }
   ],
   "source": [
    "fig, ax = plt.subplots(1,1)\n",
    "ax.plot(sizes, t_numeric, 'o-', label='Inserting row-by-row')\n",
    "ax.plot(sizes, t_numeric_add, 'o-', label='Inserting row-by-row: add_result only')\n",
    "ax.plot(sizes, t_array, 'd-', label='Inserting as binary blob')\n",
    "ax.plot(sizes, t_array_add, 'd-', label='Inserting as binary blob: add_result only')\n",
    "ax.legend()\n",
    "ax.set_xlabel('Array length')\n",
    "ax.set_ylabel('Time (s)')\n",
    "fig.tight_layout()"
   ]
  },
  {
   "cell_type": "markdown",
   "metadata": {},
   "source": [
    "As shown in the latter figure, the time to setup and and close the experiment is approximately 0.4 sec. In case of small array sizes, the difference between inserting values of data as arrays and inserting them row-by-row is relatively unimportant. At larger array sizes, i.e. above 10000 points, the cost of writing data as individual datapoints starts to become important.\n"
   ]
  },
  {
   "cell_type": "markdown",
   "metadata": {},
   "source": [
    "### Case2: Long experiment time "
   ]
  },
  {
   "cell_type": "code",
   "execution_count": 7,
   "metadata": {
    "execution": {
     "iopub.execute_input": "2020-10-30T16:09:57.592905Z",
     "iopub.status.busy": "2020-10-30T16:09:57.591776Z",
     "iopub.status.idle": "2020-10-30T16:11:04.683889Z",
     "shell.execute_reply": "2020-10-30T16:11:04.683280Z"
    }
   },
   "outputs": [
    {
     "name": "stdout",
     "output_type": "stream",
     "text": [
      "Starting experimental run with id: 15. \n",
      "Starting experimental run with id: 16. \n"
     ]
    },
    {
     "name": "stdout",
     "output_type": "stream",
     "text": [
      "Starting experimental run with id: 17. \n"
     ]
    },
    {
     "name": "stdout",
     "output_type": "stream",
     "text": [
      "Starting experimental run with id: 18. \n"
     ]
    },
    {
     "name": "stdout",
     "output_type": "stream",
     "text": [
      "Starting experimental run with id: 19. \n"
     ]
    },
    {
     "name": "stdout",
     "output_type": "stream",
     "text": [
      "Starting experimental run with id: 20. \n"
     ]
    },
    {
     "name": "stdout",
     "output_type": "stream",
     "text": [
      "Starting experimental run with id: 21. \n"
     ]
    },
    {
     "name": "stdout",
     "output_type": "stream",
     "text": [
      "Starting experimental run with id: 22. \n"
     ]
    },
    {
     "name": "stdout",
     "output_type": "stream",
     "text": [
      "Starting experimental run with id: 23. \n"
     ]
    },
    {
     "name": "stdout",
     "output_type": "stream",
     "text": [
      "Starting experimental run with id: 24. \n"
     ]
    },
    {
     "name": "stdout",
     "output_type": "stream",
     "text": [
      "Starting experimental run with id: 25. \n"
     ]
    },
    {
     "name": "stdout",
     "output_type": "stream",
     "text": [
      "Starting experimental run with id: 26. \n"
     ]
    },
    {
     "name": "stdout",
     "output_type": "stream",
     "text": [
      "Starting experimental run with id: 27. \n"
     ]
    },
    {
     "name": "stdout",
     "output_type": "stream",
     "text": [
      "Starting experimental run with id: 28. \n"
     ]
    }
   ],
   "source": [
    "sizes = [1,500,1000,2000,3000,4000,5000]\n",
    "nreps = 100\n",
    "t_numeric = []\n",
    "t_numeric_add = []\n",
    "t_numeric_run_ids = []\n",
    "t_array = []\n",
    "t_array_add = []\n",
    "t_array_run_ids = []\n",
    "for size in sizes:\n",
    "    tn, tna, run_id_n =  insert_data('numeric', size, nreps=nreps)\n",
    "    t_numeric.append(tn)\n",
    "    t_numeric_add.append(tna)\n",
    "    t_numeric_run_ids.append(run_id_n)\n",
    "\n",
    "    ta, taa, run_id_a =  insert_data('array', size, nreps=nreps)\n",
    "    t_array.append(ta)\n",
    "    t_array_add.append(taa)\n",
    "    t_array_run_ids.append(run_id_a)"
   ]
  },
  {
   "cell_type": "code",
   "execution_count": 8,
   "metadata": {
    "execution": {
     "iopub.execute_input": "2020-10-30T16:11:04.705693Z",
     "iopub.status.busy": "2020-10-30T16:11:04.704560Z",
     "iopub.status.idle": "2020-10-30T16:11:04.970786Z",
     "shell.execute_reply": "2020-10-30T16:11:04.970204Z"
    },
    "scrolled": true
   },
   "outputs": [
    {
     "data": {
      "image/png": "[encoded data removed]",
      "text/plain": [
       "<Figure size 432x288 with 1 Axes>"
      ]
     },
     "metadata": {
      "needs_background": "light"
     },
     "output_type": "display_data"
    }
   ],
   "source": [
    "fig, ax = plt.subplots(1,1)\n",
    "ax.plot(sizes, t_numeric, 'o-', label='Inserting row-by-row')\n",
    "ax.plot(sizes, t_numeric_add, 'o-', label='Inserting row-by-row: add_result only')\n",
    "ax.plot(sizes, t_array, 'd-', label='Inserting as binary blob')\n",
    "ax.plot(sizes, t_array_add, 'd-', label='Inserting as binary blob: add_result only')\n",
    "ax.legend()\n",
    "ax.set_xlabel('Array length')\n",
    "ax.set_ylabel('Time (s)')\n",
    "fig.tight_layout()"
   ]
  },
  {
   "cell_type": "markdown",
   "metadata": {},
   "source": [
    "However, as we increase the length of the experiment, as seen here by repeating the insertion 100 times, we see a big difference between inserting values of the data row-by-row and inserting it as a binary blob."
   ]
  },
  {
   "cell_type": "markdown",
   "metadata": {},
   "source": [
    "## Loading the data "
   ]
  },
  {
   "cell_type": "code",
   "execution_count": 9,
   "metadata": {
    "execution": {
     "iopub.execute_input": "2020-10-30T16:11:04.976694Z",
     "iopub.status.busy": "2020-10-30T16:11:04.975278Z",
     "iopub.status.idle": "2020-10-30T16:11:04.980184Z",
     "shell.execute_reply": "2020-10-30T16:11:04.980688Z"
    }
   },
   "outputs": [],
   "source": [
    "from qcodes.dataset.data_set import load_by_id\n",
    "from qcodes.dataset.data_export import get_data_by_id"
   ]
  },
  {
   "cell_type": "markdown",
   "metadata": {},
   "source": [
    "As usual you can load the data by using the ``load_by_id`` function but you will notice that the different storage methods\n",
    "are reflected in shape of the data as it is retrieved. "
   ]
  },
  {
   "cell_type": "code",
   "execution_count": 10,
   "metadata": {
    "execution": {
     "iopub.execute_input": "2020-10-30T16:11:04.985361Z",
     "iopub.status.busy": "2020-10-30T16:11:04.984720Z",
     "iopub.status.idle": "2020-10-30T16:11:04.989265Z",
     "shell.execute_reply": "2020-10-30T16:11:04.988665Z"
    }
   },
   "outputs": [],
   "source": [
    "run_id_n = t_numeric_run_ids[0]\n",
    "run_id_a = t_array_run_ids[0]"
   ]
  },
  {
   "cell_type": "code",
   "execution_count": 11,
   "metadata": {
    "execution": {
     "iopub.execute_input": "2020-10-30T16:11:04.994877Z",
     "iopub.status.busy": "2020-10-30T16:11:04.994205Z",
     "iopub.status.idle": "2020-10-30T16:11:05.009918Z",
     "shell.execute_reply": "2020-10-30T16:11:05.009283Z"
    },
    "scrolled": true
   },
   "outputs": [
    {
     "data": {
      "text/plain": [
       "{'x1': {'x1': array([8.64840205e-01, 8.64840205e-01, 3.66183257e-01, 3.66183257e-01,\n",
       "         1.60165365e-01, 1.60165365e-01, 4.39086695e-01, 4.39086695e-01,\n",
       "         1.67178668e-04, 1.67178668e-04, 1.44312856e-01, 1.44312856e-01,\n",
       "         7.02085067e-01, 7.02085067e-01, 8.63802334e-01, 8.63802334e-01,\n",
       "         1.92790303e-01, 1.92790303e-01, 2.85502059e-01, 2.85502059e-01,\n",
       "         1.62361636e-01, 1.62361636e-01, 2.34207184e-01, 2.34207184e-01,\n",
       "         9.33226658e-01, 9.33226658e-01, 2.84738278e-01, 2.84738278e-01,\n",
       "         1.88747970e-01, 1.88747970e-01, 9.80743534e-01, 9.80743534e-01,\n",
       "         2.80731126e-01, 2.80731126e-01, 2.49474804e-01, 2.49474804e-01,\n",
       "         3.59501949e-01, 3.59501949e-01, 4.26290823e-01, 4.26290823e-01,\n",
       "         7.20179301e-01, 7.20179301e-01, 8.03717546e-01, 8.03717546e-01,\n",
       "         4.74753155e-01, 4.74753155e-01, 9.96144726e-01, 9.96144726e-01,\n",
       "         7.99466067e-01, 7.99466067e-01, 3.55141871e-01, 3.55141871e-01,\n",
       "         1.58194431e-01, 1.58194431e-01, 9.03296081e-01, 9.03296081e-01,\n",
       "         4.81340895e-01, 4.81340895e-01, 7.11786112e-01, 7.11786112e-01,\n",
       "         5.25860101e-01, 5.25860101e-01, 1.36569571e-01, 1.36569571e-01,\n",
       "         9.21948605e-01, 9.21948605e-01, 6.52135241e-01, 6.52135241e-01,\n",
       "         3.72139091e-01, 3.72139091e-01, 8.08853016e-03, 8.08853016e-03,\n",
       "         6.62566696e-01, 6.62566696e-01, 3.39735104e-01, 3.39735104e-01,\n",
       "         7.38396095e-01, 7.38396095e-01, 7.62703544e-01, 7.62703544e-01,\n",
       "         6.22619603e-01, 6.22619603e-01, 3.21364405e-02, 3.21364405e-02,\n",
       "         6.15970957e-01, 6.15970957e-01, 9.90205135e-01, 9.90205135e-01,\n",
       "         2.00193535e-01, 2.00193535e-01, 8.81741898e-01, 8.81741898e-01,\n",
       "         5.25461452e-01, 5.25461452e-01, 4.40093580e-01, 4.40093580e-01,\n",
       "         8.86760218e-01, 8.86760218e-01, 3.43456951e-01, 3.43456951e-01,\n",
       "         5.28396320e-01, 5.28396320e-01, 4.85138730e-01, 4.85138730e-01,\n",
       "         8.87632424e-01, 8.87632424e-01, 3.01847803e-01, 3.01847803e-01,\n",
       "         1.32769036e-01, 1.32769036e-01, 1.85549913e-01, 1.85549913e-01,\n",
       "         5.37525555e-01, 5.37525555e-01, 3.91249092e-01, 3.91249092e-01,\n",
       "         7.91833921e-01, 7.91833921e-01, 5.32247981e-01, 5.32247981e-01,\n",
       "         4.09607712e-01, 4.09607712e-01, 3.07303637e-03, 3.07303637e-03,\n",
       "         3.69132350e-01, 3.69132350e-01, 9.26470287e-01, 9.26470287e-01,\n",
       "         7.78770131e-02, 7.78770131e-02, 7.33187307e-01, 7.33187307e-01,\n",
       "         9.49839784e-01, 9.49839784e-01, 8.80726383e-01, 8.80726383e-01,\n",
       "         1.78142206e-03, 1.78142206e-03, 5.30246133e-02, 5.30246133e-02,\n",
       "         4.93090565e-01, 4.93090565e-01, 7.87638496e-01, 7.87638496e-01,\n",
       "         1.70889286e-01, 1.70889286e-01, 5.47300593e-01, 5.47300593e-01,\n",
       "         7.65229952e-01, 7.65229952e-01, 9.96298580e-01, 9.96298580e-01,\n",
       "         2.00201129e-01, 2.00201129e-01, 3.10540523e-01, 3.10540523e-01,\n",
       "         9.09633773e-01, 9.09633773e-01, 4.01416637e-01, 4.01416637e-01,\n",
       "         4.95308730e-02, 4.95308730e-02, 8.93434083e-01, 8.93434083e-01,\n",
       "         6.93595360e-01, 6.93595360e-01, 5.52310287e-01, 5.52310287e-01,\n",
       "         9.89446804e-01, 9.89446804e-01, 4.80272300e-01, 4.80272300e-01,\n",
       "         6.84484675e-01, 6.84484675e-01, 4.43142293e-01, 4.43142293e-01,\n",
       "         7.61425503e-01, 7.61425503e-01, 3.45500715e-01, 3.45500715e-01,\n",
       "         4.19829683e-01, 4.19829683e-01, 2.32889823e-01, 2.32889823e-01,\n",
       "         6.20879260e-01, 6.20879260e-01, 4.31839374e-01, 4.31839374e-01,\n",
       "         6.13981405e-01, 6.13981405e-01, 8.09800886e-01, 8.09800886e-01,\n",
       "         5.65646542e-02, 5.65646542e-02, 4.79663074e-01, 4.79663074e-01,\n",
       "         8.03104400e-01, 8.03104400e-01, 8.75866443e-01, 8.75866443e-01])}}"
      ]
     },
     "execution_count": 1,
     "metadata": {},
     "output_type": "execute_result"
    }
   ],
   "source": [
    "ds = load_by_id(run_id_n)\n",
    "ds.get_parameter_data('x1')"
   ]
  },
  {
   "cell_type": "markdown",
   "metadata": {},
   "source": [
    "And a dataset stored as binary arrays"
   ]
  },
  {
   "cell_type": "code",
   "execution_count": 12,
   "metadata": {
    "execution": {
     "iopub.execute_input": "2020-10-30T16:11:05.014525Z",
     "iopub.status.busy": "2020-10-30T16:11:05.013877Z",
     "iopub.status.idle": "2020-10-30T16:11:05.088034Z",
     "shell.execute_reply": "2020-10-30T16:11:05.088972Z"
    },
    "scrolled": true
   },
   "outputs": [
    {
     "data": {
      "text/plain": [
       "{'x1': {'x1': array([[0.58643471],\n",
       "         [0.58643471],\n",
       "         [0.37463215],\n",
       "         [0.37463215],\n",
       "         [0.46974983],\n",
       "         [0.46974983],\n",
       "         [0.49672792],\n",
       "         [0.49672792],\n",
       "         [0.32657415],\n",
       "         [0.32657415],\n",
       "         [0.15404253],\n",
       "         [0.15404253],\n",
       "         [0.37675583],\n",
       "         [0.37675583],\n",
       "         [0.25981797],\n",
       "         [0.25981797],\n",
       "         [0.06128274],\n",
       "         [0.06128274],\n",
       "         [0.08675032],\n",
       "         [0.08675032],\n",
       "         [0.43651233],\n",
       "         [0.43651233],\n",
       "         [0.97891611],\n",
       "         [0.97891611],\n",
       "         [0.12675878],\n",
       "         [0.12675878],\n",
       "         [0.15428851],\n",
       "         [0.15428851],\n",
       "         [0.12804705],\n",
       "         [0.12804705],\n",
       "         [0.42068269],\n",
       "         [0.42068269],\n",
       "         [0.37263267],\n",
       "         [0.37263267],\n",
       "         [0.98450965],\n",
       "         [0.98450965],\n",
       "         [0.636432  ],\n",
       "         [0.636432  ],\n",
       "         [0.25015654],\n",
       "         [0.25015654],\n",
       "         [0.98713648],\n",
       "         [0.98713648],\n",
       "         [0.36601839],\n",
       "         [0.36601839],\n",
       "         [0.16573316],\n",
       "         [0.16573316],\n",
       "         [0.8762265 ],\n",
       "         [0.8762265 ],\n",
       "         [0.66181655],\n",
       "         [0.66181655],\n",
       "         [0.82374751],\n",
       "         [0.82374751],\n",
       "         [0.79600442],\n",
       "         [0.79600442],\n",
       "         [0.16256301],\n",
       "         [0.16256301],\n",
       "         [0.08456841],\n",
       "         [0.08456841],\n",
       "         [0.73763589],\n",
       "         [0.73763589],\n",
       "         [0.17180847],\n",
       "         [0.17180847],\n",
       "         [0.1214078 ],\n",
       "         [0.1214078 ],\n",
       "         [0.17177302],\n",
       "         [0.17177302],\n",
       "         [0.30739284],\n",
       "         [0.30739284],\n",
       "         [0.35318474],\n",
       "         [0.35318474],\n",
       "         [0.94723569],\n",
       "         [0.94723569],\n",
       "         [0.95906589],\n",
       "         [0.95906589],\n",
       "         [0.06695865],\n",
       "         [0.06695865],\n",
       "         [0.29859473],\n",
       "         [0.29859473],\n",
       "         [0.45642558],\n",
       "         [0.45642558],\n",
       "         [0.04669662],\n",
       "         [0.04669662],\n",
       "         [0.38396067],\n",
       "         [0.38396067],\n",
       "         [0.56983074],\n",
       "         [0.56983074],\n",
       "         [0.72774108],\n",
       "         [0.72774108],\n",
       "         [0.43955569],\n",
       "         [0.43955569],\n",
       "         [0.98401553],\n",
       "         [0.98401553],\n",
       "         [0.73453237],\n",
       "         [0.73453237],\n",
       "         [0.58382927],\n",
       "         [0.58382927],\n",
       "         [0.68683945],\n",
       "         [0.68683945],\n",
       "         [0.15745823],\n",
       "         [0.15745823],\n",
       "         [0.07374851],\n",
       "         [0.07374851],\n",
       "         [0.52286068],\n",
       "         [0.52286068],\n",
       "         [0.53576078],\n",
       "         [0.53576078],\n",
       "         [0.56456624],\n",
       "         [0.56456624],\n",
       "         [0.6465564 ],\n",
       "         [0.6465564 ],\n",
       "         [0.97295601],\n",
       "         [0.97295601],\n",
       "         [0.08271479],\n",
       "         [0.08271479],\n",
       "         [0.9477904 ],\n",
       "         [0.9477904 ],\n",
       "         [0.29625192],\n",
       "         [0.29625192],\n",
       "         [0.81814773],\n",
       "         [0.81814773],\n",
       "         [0.77133432],\n",
       "         [0.77133432],\n",
       "         [0.85937077],\n",
       "         [0.85937077],\n",
       "         [0.29407751],\n",
       "         [0.29407751],\n",
       "         [0.85475695],\n",
       "         [0.85475695],\n",
       "         [0.74476275],\n",
       "         [0.74476275],\n",
       "         [0.86838973],\n",
       "         [0.86838973],\n",
       "         [0.09697527],\n",
       "         [0.09697527],\n",
       "         [0.25318385],\n",
       "         [0.25318385],\n",
       "         [0.81344147],\n",
       "         [0.81344147],\n",
       "         [0.70389679],\n",
       "         [0.70389679],\n",
       "         [0.83242563],\n",
       "         [0.83242563],\n",
       "         [0.54157793],\n",
       "         [0.54157793],\n",
       "         [0.51054325],\n",
       "         [0.51054325],\n",
       "         [0.04572987],\n",
       "         [0.04572987],\n",
       "         [0.67545298],\n",
       "         [0.67545298],\n",
       "         [0.02848134],\n",
       "         [0.02848134],\n",
       "         [0.42381902],\n",
       "         [0.42381902],\n",
       "         [0.27793941],\n",
       "         [0.27793941],\n",
       "         [0.50176683],\n",
       "         [0.50176683],\n",
       "         [0.65644746],\n",
       "         [0.65644746],\n",
       "         [0.35422   ],\n",
       "         [0.35422   ],\n",
       "         [0.11371177],\n",
       "         [0.11371177],\n",
       "         [0.32852904],\n",
       "         [0.32852904],\n",
       "         [0.60877207],\n",
       "         [0.60877207],\n",
       "         [0.16472311],\n",
       "         [0.16472311],\n",
       "         [0.11019687],\n",
       "         [0.11019687],\n",
       "         [0.42873656],\n",
       "         [0.42873656],\n",
       "         [0.34111742],\n",
       "         [0.34111742],\n",
       "         [0.95780104],\n",
       "         [0.95780104],\n",
       "         [0.15597075],\n",
       "         [0.15597075],\n",
       "         [0.11743424],\n",
       "         [0.11743424],\n",
       "         [0.84452393],\n",
       "         [0.84452393],\n",
       "         [0.0530045 ],\n",
       "         [0.0530045 ],\n",
       "         [0.2724766 ],\n",
       "         [0.2724766 ],\n",
       "         [0.15304584],\n",
       "         [0.15304584],\n",
       "         [0.45085067],\n",
       "         [0.45085067],\n",
       "         [0.37274587],\n",
       "         [0.37274587],\n",
       "         [0.41972776],\n",
       "         [0.41972776],\n",
       "         [0.7129571 ],\n",
       "         [0.7129571 ],\n",
       "         [0.15502065],\n",
       "         [0.15502065]])}}"
      ]
     },
     "execution_count": 1,
     "metadata": {},
     "output_type": "execute_result"
    }
   ],
   "source": [
    "ds = load_by_id(run_id_a)\n",
    "ds.get_parameter_data('x1')"
   ]
  },
  {
   "cell_type": "code",
   "execution_count": null,
   "metadata": {},
   "outputs": [],
   "source": []
  }
 ],
 "metadata": {
  "kernelspec": {
   "display_name": "Python 3",
   "language": "python",
   "name": "python3"
  },
  "language_info": {
   "codemirror_mode": {
    "name": "ipython",
    "version": 3
   },
   "file_extension": ".py",
   "mimetype": "text/x-python",
   "name": "python",
   "nbconvert_exporter": "python",
   "pygments_lexer": "ipython3",
   "version": "3.7.9"
  },
  "nbsphinx": {
   "timeout": 600
  },
  "toc": {
   "base_numbering": 1,
   "nav_menu": {},
   "number_sections": true,
   "sideBar": true,
   "skip_h1_title": false,
   "title_cell": "Table of Contents",
   "title_sidebar": "Contents",
   "toc_cell": false,
   "toc_position": {},
   "toc_section_display": true,
   "toc_window_display": false
  },
  "varInspector": {
   "cols": {
    "lenName": 16,
    "lenType": 16,
    "lenVar": 40
   },
   "kernels_config": {
    "python": {
     "delete_cmd_postfix": "",
     "delete_cmd_prefix": "del ",
     "library": "var_list.py",
     "varRefreshCmd": "print(var_dic_list())"
    },
    "r": {
     "delete_cmd_postfix": ") ",
     "delete_cmd_prefix": "rm(",
     "library": "var_list.r",
     "varRefreshCmd": "cat(var_dic_list()) "
    }
   },
   "types_to_exclude": [
    "module",
    "function",
    "builtin_function_or_method",
    "instance",
    "_Feature"
   ],
   "window_display": false
  }
 },
 "nbformat": 4,
 "nbformat_minor": 2
}
