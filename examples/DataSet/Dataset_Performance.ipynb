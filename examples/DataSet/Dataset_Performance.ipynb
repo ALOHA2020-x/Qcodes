{
 "cells": [
  {
   "cell_type": "markdown",
   "metadata": {},
   "source": [
    "# DataSet Performance\n",
    "\n",
    "This notebook shows the trade-off between inserting data into a database row-by-row and as binary blobs. Inserting the data row-by-row means that we have direct access to all the data and may perform queries directly on the values of the data. On the other hand, as we shall see, this is much slower than inserting the data directly as binary blobs."
   ]
  },
  {
   "cell_type": "markdown",
   "metadata": {},
   "source": [
    "First, we choose a new location for the database to ensure that we don't add a bunch of benchmarking data to the default one."
   ]
  },
  {
   "cell_type": "code",
   "execution_count": 1,
   "metadata": {},
   "outputs": [
    {
     "name": "stdout",
     "output_type": "stream",
     "text": [
      "Logging hadn't been started.\n",
      "Activating auto-logging. Current session state plus future input saved.\n",
      "Filename       : /home/vsts/.qcodes/logs/command_history.log\n",
      "Mode           : append\n",
      "Output logging : True\n",
      "Raw input log  : False\n",
      "Timestamping   : True\n",
      "State          : active\n"
     ]
    },
    {
     "name": "stdout",
     "output_type": "stream",
     "text": [
      "Qcodes Logfile : /home/vsts/.qcodes/logs/200622-18973-qcodes.log\n"
     ]
    }
   ],
   "source": [
    "import os\n",
    "cwd = os.getcwd()\n",
    "import qcodes as qc\n",
    "qc.config[\"core\"][\"db_location\"] = os.path.join(cwd, 'testing.db')\n"
   ]
  },
  {
   "cell_type": "code",
   "execution_count": 2,
   "metadata": {},
   "outputs": [],
   "source": [
    "%matplotlib inline\n",
    "import time\n",
    "import matplotlib.pyplot as plt\n",
    "import numpy as np\n",
    "\n",
    "import qcodes as qc\n",
    "from qcodes.instrument.parameter import ManualParameter\n",
    "from qcodes.dataset.experiment_container import (Experiment,\n",
    "                                                 load_last_experiment,\n",
    "                                                 new_experiment)\n",
    "from qcodes.dataset.sqlite.database import initialise_database\n",
    "from qcodes import load_or_create_experiment\n",
    "from qcodes.dataset.measurements import Measurement"
   ]
  },
  {
   "cell_type": "code",
   "execution_count": 3,
   "metadata": {},
   "outputs": [
    {
     "name": "stdout",
     "output_type": "stream",
     "text": [
      "\r",
      "0it [00:00, ?it/s]"
     ]
    },
    {
     "name": "stdout",
     "output_type": "stream",
     "text": [
      "\r",
      "Upgrading database; v0 -> v1: : 0it [00:00, ?it/s]"
     ]
    },
    {
     "name": "stdout",
     "output_type": "stream",
     "text": [
      "\r",
      "Upgrading database; v0 -> v1: : 0it [00:00, ?it/s]"
     ]
    },
    {
     "name": "stdout",
     "output_type": "stream",
     "text": [
      "\n",
      "\r",
      "  0%|          | 0/1 [00:00<?, ?it/s]"
     ]
    },
    {
     "name": "stdout",
     "output_type": "stream",
     "text": [
      "\r",
      "Upgrading database; v1 -> v2:   0%|          | 0/1 [00:00<?, ?it/s]"
     ]
    },
    {
     "name": "stdout",
     "output_type": "stream",
     "text": [
      "\r",
      "Upgrading database; v1 -> v2: 100%|██████████| 1/1 [00:00<00:00, 1355.19it/s]"
     ]
    },
    {
     "name": "stdout",
     "output_type": "stream",
     "text": [
      "\n",
      "\r",
      "0it [00:00, ?it/s]"
     ]
    },
    {
     "name": "stdout",
     "output_type": "stream",
     "text": [
      "\r",
      "Upgrading database; v2 -> v3: : 0it [00:00, ?it/s]"
     ]
    },
    {
     "name": "stdout",
     "output_type": "stream",
     "text": [
      "\r",
      "Upgrading database; v2 -> v3: : 0it [00:00, ?it/s]"
     ]
    },
    {
     "name": "stdout",
     "output_type": "stream",
     "text": [
      "\n",
      "\r",
      "0it [00:00, ?it/s]"
     ]
    },
    {
     "name": "stdout",
     "output_type": "stream",
     "text": [
      "\r",
      "Upgrading database; v3 -> v4: : 0it [00:00, ?it/s]"
     ]
    },
    {
     "name": "stdout",
     "output_type": "stream",
     "text": [
      "\r",
      "Upgrading database; v3 -> v4: : 0it [00:00, ?it/s]"
     ]
    },
    {
     "name": "stdout",
     "output_type": "stream",
     "text": [
      "\n",
      "\r",
      "  0%|          | 0/1 [00:00<?, ?it/s]"
     ]
    },
    {
     "name": "stdout",
     "output_type": "stream",
     "text": [
      "\r",
      "Upgrading database; v4 -> v5:   0%|          | 0/1 [00:00<?, ?it/s]"
     ]
    },
    {
     "name": "stdout",
     "output_type": "stream",
     "text": [
      "\r",
      "Upgrading database; v4 -> v5: 100%|██████████| 1/1 [00:00<00:00, 1246.82it/s]"
     ]
    },
    {
     "name": "stdout",
     "output_type": "stream",
     "text": [
      "\n",
      "\r",
      "0it [00:00, ?it/s]"
     ]
    },
    {
     "name": "stdout",
     "output_type": "stream",
     "text": [
      "\r",
      "Upgrading database; v5 -> v6: : 0it [00:00, ?it/s]"
     ]
    },
    {
     "name": "stdout",
     "output_type": "stream",
     "text": [
      "\r",
      "Upgrading database; v5 -> v6: : 0it [00:00, ?it/s]"
     ]
    },
    {
     "name": "stdout",
     "output_type": "stream",
     "text": [
      "\n",
      "\r",
      "  0%|          | 0/1 [00:00<?, ?it/s]"
     ]
    },
    {
     "name": "stdout",
     "output_type": "stream",
     "text": [
      "\r",
      "Upgrading database; v6 -> v7:   0%|          | 0/1 [00:00<?, ?it/s]"
     ]
    },
    {
     "name": "stdout",
     "output_type": "stream",
     "text": [
      "\r",
      "Upgrading database; v6 -> v7: 100%|██████████| 1/1 [00:00<00:00, 370.26it/s]"
     ]
    },
    {
     "name": "stdout",
     "output_type": "stream",
     "text": [
      "\n",
      "\r",
      "  0%|          | 0/1 [00:00<?, ?it/s]"
     ]
    },
    {
     "name": "stdout",
     "output_type": "stream",
     "text": [
      "\r",
      "Upgrading database; v7 -> v8:   0%|          | 0/1 [00:00<?, ?it/s]"
     ]
    },
    {
     "name": "stdout",
     "output_type": "stream",
     "text": [
      "\r",
      "Upgrading database; v7 -> v8: 100%|██████████| 1/1 [00:00<00:00, 917.39it/s]"
     ]
    },
    {
     "name": "stdout",
     "output_type": "stream",
     "text": [
      "\n",
      "\r",
      "  0%|          | 0/1 [00:00<?, ?it/s]"
     ]
    },
    {
     "name": "stdout",
     "output_type": "stream",
     "text": [
      "\r",
      "Upgrading database; v8 -> v9:   0%|          | 0/1 [00:00<?, ?it/s]"
     ]
    },
    {
     "name": "stdout",
     "output_type": "stream",
     "text": [
      "\r",
      "Upgrading database; v8 -> v9: 100%|██████████| 1/1 [00:00<00:00, 1655.21it/s]"
     ]
    },
    {
     "name": "stdout",
     "output_type": "stream",
     "text": [
      "\n"
     ]
    }
   ],
   "source": [
    "initialise_database()\n",
    "exp = load_or_create_experiment(experiment_name='tutorial_exp', sample_name=\"no sample\")"
   ]
  },
  {
   "cell_type": "markdown",
   "metadata": {},
   "source": [
    "Here, we define a simple function to benchmark the time it takes to insert n points with either numeric or array data type.\n",
    "We will compare both the time used to call ``add_result`` and the time used for the full measurement."
   ]
  },
  {
   "cell_type": "code",
   "execution_count": 4,
   "metadata": {},
   "outputs": [],
   "source": [
    "def insert_data(paramtype, npoints, nreps=1):\n",
    "\n",
    "    meas = Measurement(exp=exp)\n",
    "\n",
    "    x1 = ManualParameter('x1')\n",
    "    x2 = ManualParameter('x2')\n",
    "    x3 = ManualParameter('x3')\n",
    "    y1 = ManualParameter('y1')\n",
    "    y2 = ManualParameter('y2')\n",
    "\n",
    "    meas.register_parameter(x1, paramtype=paramtype)\n",
    "    meas.register_parameter(x2, paramtype=paramtype)\n",
    "    meas.register_parameter(x3, paramtype=paramtype)\n",
    "    meas.register_parameter(y1, setpoints=[x1, x2, x3],\n",
    "                            paramtype=paramtype)\n",
    "    meas.register_parameter(y2, setpoints=[x1, x2, x3],\n",
    "                            paramtype=paramtype)\n",
    "    start = time.perf_counter()\n",
    "    with meas.run() as datasaver:\n",
    "        start_adding = time.perf_counter()\n",
    "        for i in range(nreps):\n",
    "            datasaver.add_result((x1, np.random.rand(npoints)),\n",
    "                                 (x2, np.random.rand(npoints)),\n",
    "                                 (x3, np.random.rand(npoints)),\n",
    "                                 (y1, np.random.rand(npoints)),\n",
    "                                 (y2, np.random.rand(npoints)))\n",
    "        stop_adding = time.perf_counter()\n",
    "        run_id = datasaver.run_id\n",
    "    stop = time.perf_counter()\n",
    "    tot_time = stop - start\n",
    "    add_time = stop_adding - start_adding\n",
    "    return tot_time, add_time, run_id"
   ]
  },
  {
   "cell_type": "markdown",
   "metadata": {},
   "source": [
    "## Comparison between numeric/array data and binary blob"
   ]
  },
  {
   "cell_type": "markdown",
   "metadata": {},
   "source": [
    "### Case1: Short experiment time"
   ]
  },
  {
   "cell_type": "code",
   "execution_count": 5,
   "metadata": {},
   "outputs": [
    {
     "name": "stdout",
     "output_type": "stream",
     "text": [
      "Starting experimental run with id: 1. \n",
      "Starting experimental run with id: 2. \n",
      "Starting experimental run with id: 3. \n",
      "Starting experimental run with id: 4. \n",
      "Starting experimental run with id: 5. \n"
     ]
    },
    {
     "name": "stdout",
     "output_type": "stream",
     "text": [
      "Starting experimental run with id: 6. \n"
     ]
    },
    {
     "name": "stdout",
     "output_type": "stream",
     "text": [
      "Starting experimental run with id: 7. "
     ]
    },
    {
     "name": "stdout",
     "output_type": "stream",
     "text": [
      "\n"
     ]
    },
    {
     "name": "stdout",
     "output_type": "stream",
     "text": [
      "Starting experimental run with id: 8. \n",
      "Starting experimental run with id: 9. \n",
      "Starting experimental run with id: 10. \n"
     ]
    },
    {
     "name": "stdout",
     "output_type": "stream",
     "text": [
      "Starting experimental run with id: 11. \n"
     ]
    },
    {
     "name": "stdout",
     "output_type": "stream",
     "text": [
      "Starting experimental run with id: 12. \n",
      "Starting experimental run with id: 13. \n"
     ]
    },
    {
     "name": "stdout",
     "output_type": "stream",
     "text": [
      "Starting experimental run with id: 14. \n"
     ]
    }
   ],
   "source": [
    "sizes = [1,500,1000,2000,3000,4000,5000]\n",
    "t_numeric = []\n",
    "t_numeric_add = []\n",
    "t_array = []\n",
    "t_array_add = []\n",
    "for size in sizes:\n",
    "    tn, tna, run_id_n =  insert_data('numeric', size)\n",
    "    t_numeric.append(tn)\n",
    "    t_numeric_add.append(tna)\n",
    "\n",
    "    ta, taa, run_id_a =  insert_data('array', size)\n",
    "    t_array.append(ta)\n",
    "    t_array_add.append(taa)"
   ]
  },
  {
   "cell_type": "code",
   "execution_count": 6,
   "metadata": {},
   "outputs": [
    {
     "data": {
      "image/png": "[encoded data removed]",
      "text/plain": [
       "<Figure size 432x288 with 1 Axes>"
      ]
     },
     "metadata": {
      "needs_background": "light"
     },
     "output_type": "display_data"
    }
   ],
   "source": [
    "fig, ax = plt.subplots(1,1)\n",
    "ax.plot(sizes, t_numeric, 'o-', label='Inserting row-by-row')\n",
    "ax.plot(sizes, t_numeric_add, 'o-', label='Inserting row-by-row: add_result only')\n",
    "ax.plot(sizes, t_array, 'd-', label='Inserting as binary blob')\n",
    "ax.plot(sizes, t_array_add, 'd-', label='Inserting as binary blob: add_result only')\n",
    "ax.legend()\n",
    "ax.set_xlabel('Array length')\n",
    "ax.set_ylabel('Time (s)')\n",
    "fig.tight_layout()"
   ]
  },
  {
   "cell_type": "markdown",
   "metadata": {},
   "source": [
    "As shown in the latter figure, the time to setup and and close the experiment is approximately 0.4 sec. In case of small array sizes, the difference between inserting values of data as arrays and inserting them row-by-row is relatively unimportant. At larger array sizes, i.e. above 10000 points, the cost of writing data as individual datapoints starts to become important.\n"
   ]
  },
  {
   "cell_type": "markdown",
   "metadata": {},
   "source": [
    "### Case2: Long experiment time "
   ]
  },
  {
   "cell_type": "code",
   "execution_count": 7,
   "metadata": {},
   "outputs": [
    {
     "name": "stdout",
     "output_type": "stream",
     "text": [
      "Starting experimental run with id: 15. \n"
     ]
    },
    {
     "name": "stdout",
     "output_type": "stream",
     "text": [
      "Starting experimental run with id: 16. \n",
      "Starting experimental run with id: 17. \n"
     ]
    },
    {
     "name": "stdout",
     "output_type": "stream",
     "text": [
      "Starting experimental run with id: 18. \n",
      "Starting experimental run with id: 19. \n"
     ]
    },
    {
     "name": "stdout",
     "output_type": "stream",
     "text": [
      "Starting experimental run with id: 20. \n"
     ]
    },
    {
     "name": "stdout",
     "output_type": "stream",
     "text": [
      "Starting experimental run with id: 21. \n"
     ]
    },
    {
     "name": "stdout",
     "output_type": "stream",
     "text": [
      "Starting experimental run with id: 22. \n"
     ]
    },
    {
     "name": "stdout",
     "output_type": "stream",
     "text": [
      "Starting experimental run with id: 23. \n"
     ]
    },
    {
     "name": "stdout",
     "output_type": "stream",
     "text": [
      "Starting experimental run with id: 24. \n"
     ]
    },
    {
     "name": "stdout",
     "output_type": "stream",
     "text": [
      "Starting experimental run with id: 25. \n"
     ]
    },
    {
     "name": "stdout",
     "output_type": "stream",
     "text": [
      "Starting experimental run with id: 26. \n"
     ]
    },
    {
     "name": "stdout",
     "output_type": "stream",
     "text": [
      "Starting experimental run with id: 27. \n"
     ]
    },
    {
     "name": "stdout",
     "output_type": "stream",
     "text": [
      "Starting experimental run with id: 28. \n"
     ]
    }
   ],
   "source": [
    "sizes = [1,500,1000,2000,3000,4000,5000]\n",
    "nreps = 100\n",
    "t_numeric = []\n",
    "t_numeric_add = []\n",
    "t_numeric_run_ids = []\n",
    "t_array = []\n",
    "t_array_add = []\n",
    "t_array_run_ids = []\n",
    "for size in sizes:\n",
    "    tn, tna, run_id_n =  insert_data('numeric', size, nreps=nreps)\n",
    "    t_numeric.append(tn)\n",
    "    t_numeric_add.append(tna)\n",
    "    t_numeric_run_ids.append(run_id_n)\n",
    "\n",
    "    ta, taa, run_id_a =  insert_data('array', size, nreps=nreps)\n",
    "    t_array.append(ta)\n",
    "    t_array_add.append(taa)\n",
    "    t_array_run_ids.append(run_id_a)"
   ]
  },
  {
   "cell_type": "code",
   "execution_count": 8,
   "metadata": {
    "scrolled": true
   },
   "outputs": [
    {
     "data": {
      "image/png": "[encoded data removed]",
      "text/plain": [
       "<Figure size 432x288 with 1 Axes>"
      ]
     },
     "metadata": {
      "needs_background": "light"
     },
     "output_type": "display_data"
    }
   ],
   "source": [
    "fig, ax = plt.subplots(1,1)\n",
    "ax.plot(sizes, t_numeric, 'o-', label='Inserting row-by-row')\n",
    "ax.plot(sizes, t_numeric_add, 'o-', label='Inserting row-by-row: add_result only')\n",
    "ax.plot(sizes, t_array, 'd-', label='Inserting as binary blob')\n",
    "ax.plot(sizes, t_array_add, 'd-', label='Inserting as binary blob: add_result only')\n",
    "ax.legend()\n",
    "ax.set_xlabel('Array length')\n",
    "ax.set_ylabel('Time (s)')\n",
    "fig.tight_layout()"
   ]
  },
  {
   "cell_type": "markdown",
   "metadata": {},
   "source": [
    "However, as we increase the length of the experiment, as seen here by repeating the insertion 100 times, we see a big difference between inserting values of the data row-by-row and inserting it as a binary blob."
   ]
  },
  {
   "cell_type": "markdown",
   "metadata": {},
   "source": [
    "## Loading the data "
   ]
  },
  {
   "cell_type": "code",
   "execution_count": 9,
   "metadata": {},
   "outputs": [],
   "source": [
    "from qcodes.dataset.data_set import load_by_id\n",
    "from qcodes.dataset.data_export import get_data_by_id"
   ]
  },
  {
   "cell_type": "markdown",
   "metadata": {},
   "source": [
    "As usual you can load the data by using the ``load_by_id`` function but you will notice that the different storage methods\n",
    "are reflected in shape of the data as it is retrieved. "
   ]
  },
  {
   "cell_type": "code",
   "execution_count": 10,
   "metadata": {},
   "outputs": [],
   "source": [
    "run_id_n = t_numeric_run_ids[0]\n",
    "run_id_a = t_array_run_ids[0]"
   ]
  },
  {
   "cell_type": "code",
   "execution_count": 11,
   "metadata": {
    "scrolled": true
   },
   "outputs": [
    {
     "data": {
      "text/plain": [
       "{'x1': {'x1': array([0.26943635, 0.26943635, 0.61726369, 0.61726369, 0.37842577,\n",
       "         0.37842577, 0.45414483, 0.45414483, 0.70973857, 0.70973857,\n",
       "         0.40135641, 0.40135641, 0.09320957, 0.09320957, 0.87521551,\n",
       "         0.87521551, 0.09894559, 0.09894559, 0.78263519, 0.78263519,\n",
       "         0.96590609, 0.96590609, 0.38780019, 0.38780019, 0.62572183,\n",
       "         0.62572183, 0.00881371, 0.00881371, 0.36367709, 0.36367709,\n",
       "         0.02879045, 0.02879045, 0.45644094, 0.45644094, 0.08605061,\n",
       "         0.08605061, 0.66462169, 0.66462169, 0.22609672, 0.22609672,\n",
       "         0.84811144, 0.84811144, 0.02884524, 0.02884524, 0.81895324,\n",
       "         0.81895324, 0.44848168, 0.44848168, 0.84268026, 0.84268026,\n",
       "         0.69029509, 0.69029509, 0.64136752, 0.64136752, 0.89887805,\n",
       "         0.89887805, 0.83832585, 0.83832585, 0.89945063, 0.89945063,\n",
       "         0.91080611, 0.91080611, 0.0695077 , 0.0695077 , 0.86625843,\n",
       "         0.86625843, 0.72518682, 0.72518682, 0.84001503, 0.84001503,\n",
       "         0.58503824, 0.58503824, 0.87339456, 0.87339456, 0.30934739,\n",
       "         0.30934739, 0.76107678, 0.76107678, 0.90818129, 0.90818129,\n",
       "         0.37487454, 0.37487454, 0.21766687, 0.21766687, 0.24835003,\n",
       "         0.24835003, 0.98588505, 0.98588505, 0.96461923, 0.96461923,\n",
       "         0.10669499, 0.10669499, 0.94624099, 0.94624099, 0.86041295,\n",
       "         0.86041295, 0.88753751, 0.88753751, 0.5122657 , 0.5122657 ,\n",
       "         0.14325336, 0.14325336, 0.11040707, 0.11040707, 0.45577802,\n",
       "         0.45577802, 0.47714974, 0.47714974, 0.00597895, 0.00597895,\n",
       "         0.20150399, 0.20150399, 0.55979125, 0.55979125, 0.76924063,\n",
       "         0.76924063, 0.46121373, 0.46121373, 0.15942929, 0.15942929,\n",
       "         0.31529272, 0.31529272, 0.72377844, 0.72377844, 0.10432651,\n",
       "         0.10432651, 0.20145198, 0.20145198, 0.21714608, 0.21714608,\n",
       "         0.69913815, 0.69913815, 0.33569996, 0.33569996, 0.72096161,\n",
       "         0.72096161, 0.8248051 , 0.8248051 , 0.55133219, 0.55133219,\n",
       "         0.48556628, 0.48556628, 0.82423106, 0.82423106, 0.96967405,\n",
       "         0.96967405, 0.54323778, 0.54323778, 0.21268728, 0.21268728,\n",
       "         0.41354548, 0.41354548, 0.23031083, 0.23031083, 0.28753241,\n",
       "         0.28753241, 0.67161792, 0.67161792, 0.00498368, 0.00498368,\n",
       "         0.54671329, 0.54671329, 0.14415427, 0.14415427, 0.29520572,\n",
       "         0.29520572, 0.38268283, 0.38268283, 0.97198944, 0.97198944,\n",
       "         0.33601689, 0.33601689, 0.4570312 , 0.4570312 , 0.91967711,\n",
       "         0.91967711, 0.13870664, 0.13870664, 0.86540902, 0.86540902,\n",
       "         0.36010725, 0.36010725, 0.65774658, 0.65774658, 0.42790052,\n",
       "         0.42790052, 0.42232486, 0.42232486, 0.69503695, 0.69503695,\n",
       "         0.52413435, 0.52413435, 0.8481789 , 0.8481789 , 0.91856795,\n",
       "         0.91856795, 0.93498278, 0.93498278, 0.64334045, 0.64334045])}}"
      ]
     },
     "execution_count": 11,
     "metadata": {},
     "output_type": "execute_result"
    }
   ],
   "source": [
    "ds = load_by_id(run_id_n)\n",
    "ds.get_parameter_data('x1')"
   ]
  },
  {
   "cell_type": "markdown",
   "metadata": {},
   "source": [
    "And a dataset stored as binary arrays"
   ]
  },
  {
   "cell_type": "code",
   "execution_count": 12,
   "metadata": {
    "scrolled": true
   },
   "outputs": [
    {
     "data": {
      "text/plain": [
       "{'x1': {'x1': array([[0.00449385],\n",
       "         [0.00449385],\n",
       "         [0.92593732],\n",
       "         [0.92593732],\n",
       "         [0.18522447],\n",
       "         [0.18522447],\n",
       "         [0.61099743],\n",
       "         [0.61099743],\n",
       "         [0.06505712],\n",
       "         [0.06505712],\n",
       "         [0.74960294],\n",
       "         [0.74960294],\n",
       "         [0.78565215],\n",
       "         [0.78565215],\n",
       "         [0.92415571],\n",
       "         [0.92415571],\n",
       "         [0.13622529],\n",
       "         [0.13622529],\n",
       "         [0.60053742],\n",
       "         [0.60053742],\n",
       "         [0.3900206 ],\n",
       "         [0.3900206 ],\n",
       "         [0.97327439],\n",
       "         [0.97327439],\n",
       "         [0.57016578],\n",
       "         [0.57016578],\n",
       "         [0.6374155 ],\n",
       "         [0.6374155 ],\n",
       "         [0.71402345],\n",
       "         [0.71402345],\n",
       "         [0.1405351 ],\n",
       "         [0.1405351 ],\n",
       "         [0.46566733],\n",
       "         [0.46566733],\n",
       "         [0.19886824],\n",
       "         [0.19886824],\n",
       "         [0.15620903],\n",
       "         [0.15620903],\n",
       "         [0.14504918],\n",
       "         [0.14504918],\n",
       "         [0.59758855],\n",
       "         [0.59758855],\n",
       "         [0.36733097],\n",
       "         [0.36733097],\n",
       "         [0.02579436],\n",
       "         [0.02579436],\n",
       "         [0.49318398],\n",
       "         [0.49318398],\n",
       "         [0.44610608],\n",
       "         [0.44610608],\n",
       "         [0.75974035],\n",
       "         [0.75974035],\n",
       "         [0.91754803],\n",
       "         [0.91754803],\n",
       "         [0.79544861],\n",
       "         [0.79544861],\n",
       "         [0.13210547],\n",
       "         [0.13210547],\n",
       "         [0.91072072],\n",
       "         [0.91072072],\n",
       "         [0.33871054],\n",
       "         [0.33871054],\n",
       "         [0.59995012],\n",
       "         [0.59995012],\n",
       "         [0.09599943],\n",
       "         [0.09599943],\n",
       "         [0.26779232],\n",
       "         [0.26779232],\n",
       "         [0.62246076],\n",
       "         [0.62246076],\n",
       "         [0.04414798],\n",
       "         [0.04414798],\n",
       "         [0.94984053],\n",
       "         [0.94984053],\n",
       "         [0.6968087 ],\n",
       "         [0.6968087 ],\n",
       "         [0.59532339],\n",
       "         [0.59532339],\n",
       "         [0.54523767],\n",
       "         [0.54523767],\n",
       "         [0.39657265],\n",
       "         [0.39657265],\n",
       "         [0.85822095],\n",
       "         [0.85822095],\n",
       "         [0.54615901],\n",
       "         [0.54615901],\n",
       "         [0.4026581 ],\n",
       "         [0.4026581 ],\n",
       "         [0.75480902],\n",
       "         [0.75480902],\n",
       "         [0.21373685],\n",
       "         [0.21373685],\n",
       "         [0.61473382],\n",
       "         [0.61473382],\n",
       "         [0.17059566],\n",
       "         [0.17059566],\n",
       "         [0.41358484],\n",
       "         [0.41358484],\n",
       "         [0.22564286],\n",
       "         [0.22564286],\n",
       "         [0.02919964],\n",
       "         [0.02919964],\n",
       "         [0.60204744],\n",
       "         [0.60204744],\n",
       "         [0.02989597],\n",
       "         [0.02989597],\n",
       "         [0.34649811],\n",
       "         [0.34649811],\n",
       "         [0.12578208],\n",
       "         [0.12578208],\n",
       "         [0.53519088],\n",
       "         [0.53519088],\n",
       "         [0.11778925],\n",
       "         [0.11778925],\n",
       "         [0.3781281 ],\n",
       "         [0.3781281 ],\n",
       "         [0.68599142],\n",
       "         [0.68599142],\n",
       "         [0.42415515],\n",
       "         [0.42415515],\n",
       "         [0.71944375],\n",
       "         [0.71944375],\n",
       "         [0.58586306],\n",
       "         [0.58586306],\n",
       "         [0.46850222],\n",
       "         [0.46850222],\n",
       "         [0.01002008],\n",
       "         [0.01002008],\n",
       "         [0.10727762],\n",
       "         [0.10727762],\n",
       "         [0.66783607],\n",
       "         [0.66783607],\n",
       "         [0.89212944],\n",
       "         [0.89212944],\n",
       "         [0.60659856],\n",
       "         [0.60659856],\n",
       "         [0.47429418],\n",
       "         [0.47429418],\n",
       "         [0.32824981],\n",
       "         [0.32824981],\n",
       "         [0.63852294],\n",
       "         [0.63852294],\n",
       "         [0.07172044],\n",
       "         [0.07172044],\n",
       "         [0.83929876],\n",
       "         [0.83929876],\n",
       "         [0.3761495 ],\n",
       "         [0.3761495 ],\n",
       "         [0.34103973],\n",
       "         [0.34103973],\n",
       "         [0.78003303],\n",
       "         [0.78003303],\n",
       "         [0.04163408],\n",
       "         [0.04163408],\n",
       "         [0.60583683],\n",
       "         [0.60583683],\n",
       "         [0.0764368 ],\n",
       "         [0.0764368 ],\n",
       "         [0.49672262],\n",
       "         [0.49672262],\n",
       "         [0.08533229],\n",
       "         [0.08533229],\n",
       "         [0.23908409],\n",
       "         [0.23908409],\n",
       "         [0.16771985],\n",
       "         [0.16771985],\n",
       "         [0.69256745],\n",
       "         [0.69256745],\n",
       "         [0.41421449],\n",
       "         [0.41421449],\n",
       "         [0.26449372],\n",
       "         [0.26449372],\n",
       "         [0.24824453],\n",
       "         [0.24824453],\n",
       "         [0.82101463],\n",
       "         [0.82101463],\n",
       "         [0.32628263],\n",
       "         [0.32628263],\n",
       "         [0.39964161],\n",
       "         [0.39964161],\n",
       "         [0.75622596],\n",
       "         [0.75622596],\n",
       "         [0.01094265],\n",
       "         [0.01094265],\n",
       "         [0.73423564],\n",
       "         [0.73423564],\n",
       "         [0.09370343],\n",
       "         [0.09370343],\n",
       "         [0.97312831],\n",
       "         [0.97312831],\n",
       "         [0.88153589],\n",
       "         [0.88153589],\n",
       "         [0.37400578],\n",
       "         [0.37400578],\n",
       "         [0.8449632 ],\n",
       "         [0.8449632 ],\n",
       "         [0.98990814],\n",
       "         [0.98990814],\n",
       "         [0.1567619 ],\n",
       "         [0.1567619 ]])}}"
      ]
     },
     "execution_count": 12,
     "metadata": {},
     "output_type": "execute_result"
    }
   ],
   "source": [
    "ds = load_by_id(run_id_a)\n",
    "ds.get_parameter_data('x1')"
   ]
  },
  {
   "cell_type": "code",
   "execution_count": null,
   "metadata": {},
   "outputs": [],
   "source": []
  }
 ],
 "metadata": {
  "kernelspec": {
   "display_name": "Python 3",
   "language": "python",
   "name": "python3"
  },
  "language_info": {
   "codemirror_mode": {
    "name": "ipython",
    "version": 3
   },
   "file_extension": ".py",
   "mimetype": "text/x-python",
   "name": "python",
   "nbconvert_exporter": "python",
   "pygments_lexer": "ipython3",
   "version": "3.7.7"
  },
  "nbsphinx": {
   "timeout": 600
  },
  "toc": {
   "base_numbering": 1,
   "nav_menu": {},
   "number_sections": true,
   "sideBar": true,
   "skip_h1_title": false,
   "title_cell": "Table of Contents",
   "title_sidebar": "Contents",
   "toc_cell": false,
   "toc_position": {},
   "toc_section_display": true,
   "toc_window_display": false
  },
  "varInspector": {
   "cols": {
    "lenName": 16,
    "lenType": 16,
    "lenVar": 40
   },
   "kernels_config": {
    "python": {
     "delete_cmd_postfix": "",
     "delete_cmd_prefix": "del ",
     "library": "var_list.py",
     "varRefreshCmd": "print(var_dic_list())"
    },
    "r": {
     "delete_cmd_postfix": ") ",
     "delete_cmd_prefix": "rm(",
     "library": "var_list.r",
     "varRefreshCmd": "cat(var_dic_list()) "
    }
   },
   "types_to_exclude": [
    "module",
    "function",
    "builtin_function_or_method",
    "instance",
    "_Feature"
   ],
   "window_display": false
  }
 },
 "nbformat": 4,
 "nbformat_minor": 2
}
