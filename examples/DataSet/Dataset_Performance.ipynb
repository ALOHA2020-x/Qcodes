{
 "cells": [
  {
   "cell_type": "markdown",
   "metadata": {},
   "source": [
    "# DataSet Performance\n",
    "\n",
    "This notebook shows the trade-off between inserting data into a database row-by-row and as binary blobs. Inserting the data row-by-row means that we have direct access to all the data and may perform queries directly on the values of the data. On the other hand, as we shall see, this is much slower than inserting the data directly as binary blobs."
   ]
  },
  {
   "cell_type": "markdown",
   "metadata": {},
   "source": [
    "First, we choose a new location for the database to ensure that we don't add a bunch of benchmarking data to the default one."
   ]
  },
  {
   "cell_type": "code",
   "execution_count": 1,
   "metadata": {
    "execution": {
     "iopub.execute_input": "2020-11-13T07:26:01.482036Z",
     "iopub.status.busy": "2020-11-13T07:26:01.481374Z",
     "iopub.status.idle": "2020-11-13T07:26:02.645555Z",
     "shell.execute_reply": "2020-11-13T07:26:02.646153Z"
    }
   },
   "outputs": [
    {
     "name": "stdout",
     "output_type": "stream",
     "text": [
      "Logging hadn't been started.\n",
      "Activating auto-logging. Current session state plus future input saved.\n",
      "Filename       : /home/vsts/.qcodes/logs/command_history.log\n",
      "Mode           : append\n",
      "Output logging : True\n",
      "Raw input log  : False\n",
      "Timestamping   : True\n",
      "State          : active\n"
     ]
    },
    {
     "name": "stdout",
     "output_type": "stream",
     "text": [
      "Qcodes Logfile : /home/vsts/.qcodes/logs/201113-14986-qcodes.log\n"
     ]
    }
   ],
   "source": [
    "import os\n",
    "cwd = os.getcwd()\n",
    "import qcodes as qc\n",
    "qc.config[\"core\"][\"db_location\"] = os.path.join(cwd, 'testing.db')\n"
   ]
  },
  {
   "cell_type": "code",
   "execution_count": 2,
   "metadata": {
    "execution": {
     "iopub.execute_input": "2020-11-13T07:26:02.653531Z",
     "iopub.status.busy": "2020-11-13T07:26:02.652432Z",
     "iopub.status.idle": "2020-11-13T07:26:02.867594Z",
     "shell.execute_reply": "2020-11-13T07:26:02.866835Z"
    }
   },
   "outputs": [],
   "source": [
    "%matplotlib inline\n",
    "import time\n",
    "import matplotlib.pyplot as plt\n",
    "import numpy as np\n",
    "\n",
    "import qcodes as qc\n",
    "from qcodes.instrument.parameter import ManualParameter\n",
    "from qcodes.dataset.experiment_container import (Experiment,\n",
    "                                                 load_last_experiment,\n",
    "                                                 new_experiment)\n",
    "from qcodes.dataset.sqlite.database import initialise_database\n",
    "from qcodes import load_or_create_experiment\n",
    "from qcodes.dataset.measurements import Measurement"
   ]
  },
  {
   "cell_type": "code",
   "execution_count": 3,
   "metadata": {
    "execution": {
     "iopub.execute_input": "2020-11-13T07:26:02.872940Z",
     "iopub.status.busy": "2020-11-13T07:26:02.872084Z",
     "iopub.status.idle": "2020-11-13T07:26:02.998018Z",
     "shell.execute_reply": "2020-11-13T07:26:02.997231Z"
    }
   },
   "outputs": [
    {
     "name": "stdout",
     "output_type": "stream",
     "text": [
      "\r",
      "0it [00:00, ?it/s]"
     ]
    },
    {
     "name": "stdout",
     "output_type": "stream",
     "text": [
      "\r",
      "Upgrading database; v0 -> v1: : 0it [00:00, ?it/s]"
     ]
    },
    {
     "name": "stdout",
     "output_type": "stream",
     "text": [
      "\r",
      "Upgrading database; v0 -> v1: : 0it [00:00, ?it/s]"
     ]
    },
    {
     "name": "stdout",
     "output_type": "stream",
     "text": [
      "\n",
      "\r",
      "  0%|          | 0/1 [00:00<?, ?it/s]"
     ]
    },
    {
     "name": "stdout",
     "output_type": "stream",
     "text": [
      "\r",
      "Upgrading database; v1 -> v2:   0%|          | 0/1 [00:00<?, ?it/s]"
     ]
    },
    {
     "name": "stdout",
     "output_type": "stream",
     "text": [
      "\r",
      "Upgrading database; v1 -> v2: 100%|██████████| 1/1 [00:00<00:00, 787.22it/s]"
     ]
    },
    {
     "name": "stdout",
     "output_type": "stream",
     "text": [
      "\n",
      "\r",
      "0it [00:00, ?it/s]"
     ]
    },
    {
     "name": "stdout",
     "output_type": "stream",
     "text": [
      "\r",
      "Upgrading database; v2 -> v3: : 0it [00:00, ?it/s]"
     ]
    },
    {
     "name": "stdout",
     "output_type": "stream",
     "text": [
      "\r",
      "Upgrading database; v2 -> v3: : 0it [00:00, ?it/s]"
     ]
    },
    {
     "name": "stdout",
     "output_type": "stream",
     "text": [
      "\n",
      "\r",
      "0it [00:00, ?it/s]"
     ]
    },
    {
     "name": "stdout",
     "output_type": "stream",
     "text": [
      "\r",
      "Upgrading database; v3 -> v4: : 0it [00:00, ?it/s]"
     ]
    },
    {
     "name": "stdout",
     "output_type": "stream",
     "text": [
      "\r",
      "Upgrading database; v3 -> v4: : 0it [00:00, ?it/s]"
     ]
    },
    {
     "name": "stdout",
     "output_type": "stream",
     "text": [
      "\n",
      "\r",
      "  0%|          | 0/1 [00:00<?, ?it/s]"
     ]
    },
    {
     "name": "stdout",
     "output_type": "stream",
     "text": [
      "\r",
      "Upgrading database; v4 -> v5:   0%|          | 0/1 [00:00<?, ?it/s]"
     ]
    },
    {
     "name": "stdout",
     "output_type": "stream",
     "text": [
      "\r",
      "Upgrading database; v4 -> v5: 100%|██████████| 1/1 [00:00<00:00, 832.20it/s]"
     ]
    },
    {
     "name": "stdout",
     "output_type": "stream",
     "text": [
      "\n",
      "\r",
      "0it [00:00, ?it/s]"
     ]
    },
    {
     "name": "stdout",
     "output_type": "stream",
     "text": [
      "\r",
      "Upgrading database; v5 -> v6: : 0it [00:00, ?it/s]"
     ]
    },
    {
     "name": "stdout",
     "output_type": "stream",
     "text": [
      "\r",
      "Upgrading database; v5 -> v6: : 0it [00:00, ?it/s]"
     ]
    },
    {
     "name": "stdout",
     "output_type": "stream",
     "text": [
      "\n",
      "\r",
      "  0%|          | 0/1 [00:00<?, ?it/s]"
     ]
    },
    {
     "name": "stdout",
     "output_type": "stream",
     "text": [
      "\r",
      "Upgrading database; v6 -> v7:   0%|          | 0/1 [00:00<?, ?it/s]"
     ]
    },
    {
     "name": "stdout",
     "output_type": "stream",
     "text": [
      "\r",
      "Upgrading database; v6 -> v7: 100%|██████████| 1/1 [00:00<00:00, 395.50it/s]"
     ]
    },
    {
     "name": "stdout",
     "output_type": "stream",
     "text": [
      "\n",
      "\r",
      "  0%|          | 0/1 [00:00<?, ?it/s]"
     ]
    },
    {
     "name": "stdout",
     "output_type": "stream",
     "text": [
      "\r",
      "Upgrading database; v7 -> v8:   0%|          | 0/1 [00:00<?, ?it/s]"
     ]
    },
    {
     "name": "stdout",
     "output_type": "stream",
     "text": [
      "\r",
      "Upgrading database; v7 -> v8: 100%|██████████| 1/1 [00:00<00:00, 747.65it/s]"
     ]
    },
    {
     "name": "stdout",
     "output_type": "stream",
     "text": [
      "\n",
      "\r",
      "  0%|          | 0/1 [00:00<?, ?it/s]"
     ]
    },
    {
     "name": "stdout",
     "output_type": "stream",
     "text": [
      "\r",
      "Upgrading database; v8 -> v9:   0%|          | 0/1 [00:00<?, ?it/s]"
     ]
    },
    {
     "name": "stdout",
     "output_type": "stream",
     "text": [
      "\r",
      "Upgrading database; v8 -> v9: 100%|██████████| 1/1 [00:00<00:00, 432.18it/s]"
     ]
    },
    {
     "name": "stdout",
     "output_type": "stream",
     "text": [
      "\n"
     ]
    }
   ],
   "source": [
    "initialise_database()\n",
    "exp = load_or_create_experiment(experiment_name='tutorial_exp', sample_name=\"no sample\")"
   ]
  },
  {
   "cell_type": "markdown",
   "metadata": {},
   "source": [
    "Here, we define a simple function to benchmark the time it takes to insert n points with either numeric or array data type.\n",
    "We will compare both the time used to call ``add_result`` and the time used for the full measurement."
   ]
  },
  {
   "cell_type": "code",
   "execution_count": 4,
   "metadata": {
    "execution": {
     "iopub.execute_input": "2020-11-13T07:26:03.006140Z",
     "iopub.status.busy": "2020-11-13T07:26:03.004726Z",
     "iopub.status.idle": "2020-11-13T07:26:03.009072Z",
     "shell.execute_reply": "2020-11-13T07:26:03.008583Z"
    }
   },
   "outputs": [],
   "source": [
    "def insert_data(paramtype, npoints, nreps=1):\n",
    "\n",
    "    meas = Measurement(exp=exp)\n",
    "\n",
    "    x1 = ManualParameter('x1')\n",
    "    x2 = ManualParameter('x2')\n",
    "    x3 = ManualParameter('x3')\n",
    "    y1 = ManualParameter('y1')\n",
    "    y2 = ManualParameter('y2')\n",
    "\n",
    "    meas.register_parameter(x1, paramtype=paramtype)\n",
    "    meas.register_parameter(x2, paramtype=paramtype)\n",
    "    meas.register_parameter(x3, paramtype=paramtype)\n",
    "    meas.register_parameter(y1, setpoints=[x1, x2, x3],\n",
    "                            paramtype=paramtype)\n",
    "    meas.register_parameter(y2, setpoints=[x1, x2, x3],\n",
    "                            paramtype=paramtype)\n",
    "    start = time.perf_counter()\n",
    "    with meas.run() as datasaver:\n",
    "        start_adding = time.perf_counter()\n",
    "        for i in range(nreps):\n",
    "            datasaver.add_result((x1, np.random.rand(npoints)),\n",
    "                                 (x2, np.random.rand(npoints)),\n",
    "                                 (x3, np.random.rand(npoints)),\n",
    "                                 (y1, np.random.rand(npoints)),\n",
    "                                 (y2, np.random.rand(npoints)))\n",
    "        stop_adding = time.perf_counter()\n",
    "        run_id = datasaver.run_id\n",
    "    stop = time.perf_counter()\n",
    "    tot_time = stop - start\n",
    "    add_time = stop_adding - start_adding\n",
    "    return tot_time, add_time, run_id"
   ]
  },
  {
   "cell_type": "markdown",
   "metadata": {},
   "source": [
    "## Comparison between numeric/array data and binary blob"
   ]
  },
  {
   "cell_type": "markdown",
   "metadata": {},
   "source": [
    "### Case1: Short experiment time"
   ]
  },
  {
   "cell_type": "code",
   "execution_count": 5,
   "metadata": {
    "execution": {
     "iopub.execute_input": "2020-11-13T07:26:03.016318Z",
     "iopub.status.busy": "2020-11-13T07:26:03.015740Z",
     "iopub.status.idle": "2020-11-13T07:26:03.985446Z",
     "shell.execute_reply": "2020-11-13T07:26:03.984898Z"
    }
   },
   "outputs": [
    {
     "name": "stdout",
     "output_type": "stream",
     "text": [
      "Starting experimental run with id: 1. \n",
      "Starting experimental run with id: 2. \n",
      "Starting experimental run with id: 3. \n",
      "Starting experimental run with id: 4. \n"
     ]
    },
    {
     "name": "stdout",
     "output_type": "stream",
     "text": [
      "Starting experimental run with id: 5. \n"
     ]
    },
    {
     "name": "stdout",
     "output_type": "stream",
     "text": [
      "Starting experimental run with id: 6. \n"
     ]
    },
    {
     "name": "stdout",
     "output_type": "stream",
     "text": [
      "Starting experimental run with id: 7. \n",
      "Starting experimental run with id: 8. \n",
      "Starting experimental run with id: 9. \n"
     ]
    },
    {
     "name": "stdout",
     "output_type": "stream",
     "text": [
      "Starting experimental run with id: 10. \n",
      "Starting experimental run with id: 11. \n"
     ]
    },
    {
     "name": "stdout",
     "output_type": "stream",
     "text": [
      "Starting experimental run with id: 12. \n",
      "Starting experimental run with id: 13. \n"
     ]
    },
    {
     "name": "stdout",
     "output_type": "stream",
     "text": [
      "Starting experimental run with id: 14. \n"
     ]
    }
   ],
   "source": [
    "sizes = [1,500,1000,2000,3000,4000,5000]\n",
    "t_numeric = []\n",
    "t_numeric_add = []\n",
    "t_array = []\n",
    "t_array_add = []\n",
    "for size in sizes:\n",
    "    tn, tna, run_id_n =  insert_data('numeric', size)\n",
    "    t_numeric.append(tn)\n",
    "    t_numeric_add.append(tna)\n",
    "\n",
    "    ta, taa, run_id_a =  insert_data('array', size)\n",
    "    t_array.append(ta)\n",
    "    t_array_add.append(taa)"
   ]
  },
  {
   "cell_type": "code",
   "execution_count": 6,
   "metadata": {
    "execution": {
     "iopub.execute_input": "2020-11-13T07:26:04.003343Z",
     "iopub.status.busy": "2020-11-13T07:26:04.002753Z",
     "iopub.status.idle": "2020-11-13T07:26:04.194984Z",
     "shell.execute_reply": "2020-11-13T07:26:04.194496Z"
    }
   },
   "outputs": [
    {
     "data": {
      "image/png": "[encoded data removed]",
      "text/plain": [
       "<Figure size 432x288 with 1 Axes>"
      ]
     },
     "metadata": {
      "needs_background": "light"
     },
     "output_type": "display_data"
    }
   ],
   "source": [
    "fig, ax = plt.subplots(1,1)\n",
    "ax.plot(sizes, t_numeric, 'o-', label='Inserting row-by-row')\n",
    "ax.plot(sizes, t_numeric_add, 'o-', label='Inserting row-by-row: add_result only')\n",
    "ax.plot(sizes, t_array, 'd-', label='Inserting as binary blob')\n",
    "ax.plot(sizes, t_array_add, 'd-', label='Inserting as binary blob: add_result only')\n",
    "ax.legend()\n",
    "ax.set_xlabel('Array length')\n",
    "ax.set_ylabel('Time (s)')\n",
    "fig.tight_layout()"
   ]
  },
  {
   "cell_type": "markdown",
   "metadata": {},
   "source": [
    "As shown in the latter figure, the time to setup and and close the experiment is approximately 0.4 sec. In case of small array sizes, the difference between inserting values of data as arrays and inserting them row-by-row is relatively unimportant. At larger array sizes, i.e. above 10000 points, the cost of writing data as individual datapoints starts to become important.\n"
   ]
  },
  {
   "cell_type": "markdown",
   "metadata": {},
   "source": [
    "### Case2: Long experiment time "
   ]
  },
  {
   "cell_type": "code",
   "execution_count": 7,
   "metadata": {
    "execution": {
     "iopub.execute_input": "2020-11-13T07:26:04.202365Z",
     "iopub.status.busy": "2020-11-13T07:26:04.201073Z",
     "iopub.status.idle": "2020-11-13T07:27:05.439938Z",
     "shell.execute_reply": "2020-11-13T07:27:05.439427Z"
    }
   },
   "outputs": [
    {
     "name": "stdout",
     "output_type": "stream",
     "text": [
      "Starting experimental run with id: 15. \n",
      "Starting experimental run with id: 16. \n",
      "Starting experimental run with id: 17. \n"
     ]
    },
    {
     "name": "stdout",
     "output_type": "stream",
     "text": [
      "Starting experimental run with id: 18. \n",
      "Starting experimental run with id: 19. \n"
     ]
    },
    {
     "name": "stdout",
     "output_type": "stream",
     "text": [
      "Starting experimental run with id: 20. \n"
     ]
    },
    {
     "name": "stdout",
     "output_type": "stream",
     "text": [
      "Starting experimental run with id: 21. \n"
     ]
    },
    {
     "name": "stdout",
     "output_type": "stream",
     "text": [
      "Starting experimental run with id: 22. \n"
     ]
    },
    {
     "name": "stdout",
     "output_type": "stream",
     "text": [
      "Starting experimental run with id: 23. \n"
     ]
    },
    {
     "name": "stdout",
     "output_type": "stream",
     "text": [
      "Starting experimental run with id: 24. \n"
     ]
    },
    {
     "name": "stdout",
     "output_type": "stream",
     "text": [
      "Starting experimental run with id: 25. \n"
     ]
    },
    {
     "name": "stdout",
     "output_type": "stream",
     "text": [
      "Starting experimental run with id: 26. \n"
     ]
    },
    {
     "name": "stdout",
     "output_type": "stream",
     "text": [
      "Starting experimental run with id: 27. \n"
     ]
    },
    {
     "name": "stdout",
     "output_type": "stream",
     "text": [
      "Starting experimental run with id: 28. \n"
     ]
    }
   ],
   "source": [
    "sizes = [1,500,1000,2000,3000,4000,5000]\n",
    "nreps = 100\n",
    "t_numeric = []\n",
    "t_numeric_add = []\n",
    "t_numeric_run_ids = []\n",
    "t_array = []\n",
    "t_array_add = []\n",
    "t_array_run_ids = []\n",
    "for size in sizes:\n",
    "    tn, tna, run_id_n =  insert_data('numeric', size, nreps=nreps)\n",
    "    t_numeric.append(tn)\n",
    "    t_numeric_add.append(tna)\n",
    "    t_numeric_run_ids.append(run_id_n)\n",
    "\n",
    "    ta, taa, run_id_a =  insert_data('array', size, nreps=nreps)\n",
    "    t_array.append(ta)\n",
    "    t_array_add.append(taa)\n",
    "    t_array_run_ids.append(run_id_a)"
   ]
  },
  {
   "cell_type": "code",
   "execution_count": 8,
   "metadata": {
    "execution": {
     "iopub.execute_input": "2020-11-13T07:27:05.469009Z",
     "iopub.status.busy": "2020-11-13T07:27:05.444055Z",
     "iopub.status.idle": "2020-11-13T07:27:05.647515Z",
     "shell.execute_reply": "2020-11-13T07:27:05.647033Z"
    },
    "scrolled": true
   },
   "outputs": [
    {
     "data": {
      "image/png": "[encoded data removed]",
      "text/plain": [
       "<Figure size 432x288 with 1 Axes>"
      ]
     },
     "metadata": {
      "needs_background": "light"
     },
     "output_type": "display_data"
    }
   ],
   "source": [
    "fig, ax = plt.subplots(1,1)\n",
    "ax.plot(sizes, t_numeric, 'o-', label='Inserting row-by-row')\n",
    "ax.plot(sizes, t_numeric_add, 'o-', label='Inserting row-by-row: add_result only')\n",
    "ax.plot(sizes, t_array, 'd-', label='Inserting as binary blob')\n",
    "ax.plot(sizes, t_array_add, 'd-', label='Inserting as binary blob: add_result only')\n",
    "ax.legend()\n",
    "ax.set_xlabel('Array length')\n",
    "ax.set_ylabel('Time (s)')\n",
    "fig.tight_layout()"
   ]
  },
  {
   "cell_type": "markdown",
   "metadata": {},
   "source": [
    "However, as we increase the length of the experiment, as seen here by repeating the insertion 100 times, we see a big difference between inserting values of the data row-by-row and inserting it as a binary blob."
   ]
  },
  {
   "cell_type": "markdown",
   "metadata": {},
   "source": [
    "## Loading the data "
   ]
  },
  {
   "cell_type": "code",
   "execution_count": 9,
   "metadata": {
    "execution": {
     "iopub.execute_input": "2020-11-13T07:27:05.654285Z",
     "iopub.status.busy": "2020-11-13T07:27:05.650799Z",
     "iopub.status.idle": "2020-11-13T07:27:05.657580Z",
     "shell.execute_reply": "2020-11-13T07:27:05.657086Z"
    }
   },
   "outputs": [],
   "source": [
    "from qcodes.dataset.data_set import load_by_id\n",
    "from qcodes.dataset.data_export import get_data_by_id"
   ]
  },
  {
   "cell_type": "markdown",
   "metadata": {},
   "source": [
    "As usual you can load the data by using the ``load_by_id`` function but you will notice that the different storage methods\n",
    "are reflected in shape of the data as it is retrieved. "
   ]
  },
  {
   "cell_type": "code",
   "execution_count": 10,
   "metadata": {
    "execution": {
     "iopub.execute_input": "2020-11-13T07:27:05.662184Z",
     "iopub.status.busy": "2020-11-13T07:27:05.661034Z",
     "iopub.status.idle": "2020-11-13T07:27:05.662915Z",
     "shell.execute_reply": "2020-11-13T07:27:05.663366Z"
    }
   },
   "outputs": [],
   "source": [
    "run_id_n = t_numeric_run_ids[0]\n",
    "run_id_a = t_array_run_ids[0]"
   ]
  },
  {
   "cell_type": "code",
   "execution_count": 11,
   "metadata": {
    "execution": {
     "iopub.execute_input": "2020-11-13T07:27:05.666895Z",
     "iopub.status.busy": "2020-11-13T07:27:05.666322Z",
     "iopub.status.idle": "2020-11-13T07:27:05.675893Z",
     "shell.execute_reply": "2020-11-13T07:27:05.675441Z"
    },
    "scrolled": true
   },
   "outputs": [
    {
     "data": {
      "text/plain": [
       "{'x1': {'x1': array([0.57583301, 0.57583301, 0.98865057, 0.98865057, 0.82296626,\n",
       "         0.82296626, 0.61660167, 0.61660167, 0.05903739, 0.05903739,\n",
       "         0.01702357, 0.01702357, 0.42919167, 0.42919167, 0.70311693,\n",
       "         0.70311693, 0.45055335, 0.45055335, 0.85317996, 0.85317996,\n",
       "         0.41294539, 0.41294539, 0.96788241, 0.96788241, 0.18576047,\n",
       "         0.18576047, 0.59931318, 0.59931318, 0.08460236, 0.08460236,\n",
       "         0.82163543, 0.82163543, 0.89452752, 0.89452752, 0.94902581,\n",
       "         0.94902581, 0.95094451, 0.95094451, 0.28070535, 0.28070535,\n",
       "         0.09193175, 0.09193175, 0.85783105, 0.85783105, 0.16655796,\n",
       "         0.16655796, 0.29520074, 0.29520074, 0.02226459, 0.02226459,\n",
       "         0.96672531, 0.96672531, 0.95037921, 0.95037921, 0.38527718,\n",
       "         0.38527718, 0.82920149, 0.82920149, 0.9595174 , 0.9595174 ,\n",
       "         0.09803932, 0.09803932, 0.76481511, 0.76481511, 0.14615896,\n",
       "         0.14615896, 0.65589613, 0.65589613, 0.29846161, 0.29846161,\n",
       "         0.87260959, 0.87260959, 0.95621761, 0.95621761, 0.20893816,\n",
       "         0.20893816, 0.99784372, 0.99784372, 0.57297917, 0.57297917,\n",
       "         0.35718767, 0.35718767, 0.38002283, 0.38002283, 0.02973243,\n",
       "         0.02973243, 0.55698122, 0.55698122, 0.82233397, 0.82233397,\n",
       "         0.82427677, 0.82427677, 0.15676423, 0.15676423, 0.39430142,\n",
       "         0.39430142, 0.18048389, 0.18048389, 0.59134553, 0.59134553,\n",
       "         0.68169211, 0.68169211, 0.90562321, 0.90562321, 0.98776403,\n",
       "         0.98776403, 0.90616863, 0.90616863, 0.52646277, 0.52646277,\n",
       "         0.66434283, 0.66434283, 0.90554341, 0.90554341, 0.16484666,\n",
       "         0.16484666, 0.01215249, 0.01215249, 0.61544447, 0.61544447,\n",
       "         0.4946603 , 0.4946603 , 0.58621885, 0.58621885, 0.84632171,\n",
       "         0.84632171, 0.70617142, 0.70617142, 0.32720537, 0.32720537,\n",
       "         0.16081084, 0.16081084, 0.20315788, 0.20315788, 0.46347469,\n",
       "         0.46347469, 0.34504664, 0.34504664, 0.47828581, 0.47828581,\n",
       "         0.91703153, 0.91703153, 0.2709084 , 0.2709084 , 0.59933475,\n",
       "         0.59933475, 0.81214524, 0.81214524, 0.13514463, 0.13514463,\n",
       "         0.00916639, 0.00916639, 0.15059161, 0.15059161, 0.42569702,\n",
       "         0.42569702, 0.6771133 , 0.6771133 , 0.5888192 , 0.5888192 ,\n",
       "         0.87392086, 0.87392086, 0.59927113, 0.59927113, 0.99046816,\n",
       "         0.99046816, 0.38318154, 0.38318154, 0.34074047, 0.34074047,\n",
       "         0.96373592, 0.96373592, 0.07288182, 0.07288182, 0.307501  ,\n",
       "         0.307501  , 0.41935207, 0.41935207, 0.82390971, 0.82390971,\n",
       "         0.66393913, 0.66393913, 0.96869713, 0.96869713, 0.5409168 ,\n",
       "         0.5409168 , 0.63614771, 0.63614771, 0.84237347, 0.84237347,\n",
       "         0.65500087, 0.65500087, 0.55655621, 0.55655621, 0.65267498,\n",
       "         0.65267498, 0.80349004, 0.80349004, 0.34593192, 0.34593192])}}"
      ]
     },
     "execution_count": 1,
     "metadata": {},
     "output_type": "execute_result"
    }
   ],
   "source": [
    "ds = load_by_id(run_id_n)\n",
    "ds.get_parameter_data('x1')"
   ]
  },
  {
   "cell_type": "markdown",
   "metadata": {},
   "source": [
    "And a dataset stored as binary arrays"
   ]
  },
  {
   "cell_type": "code",
   "execution_count": 12,
   "metadata": {
    "execution": {
     "iopub.execute_input": "2020-11-13T07:27:05.679486Z",
     "iopub.status.busy": "2020-11-13T07:27:05.678948Z",
     "iopub.status.idle": "2020-11-13T07:27:05.735924Z",
     "shell.execute_reply": "2020-11-13T07:27:05.736725Z"
    },
    "scrolled": true
   },
   "outputs": [
    {
     "data": {
      "text/plain": [
       "{'x1': {'x1': array([[2.18215931e-01],\n",
       "         [2.18215931e-01],\n",
       "         [5.71152574e-02],\n",
       "         [5.71152574e-02],\n",
       "         [9.55306761e-01],\n",
       "         [9.55306761e-01],\n",
       "         [2.54413154e-01],\n",
       "         [2.54413154e-01],\n",
       "         [4.57774903e-01],\n",
       "         [4.57774903e-01],\n",
       "         [6.94331779e-02],\n",
       "         [6.94331779e-02],\n",
       "         [2.58643018e-01],\n",
       "         [2.58643018e-01],\n",
       "         [5.15586324e-01],\n",
       "         [5.15586324e-01],\n",
       "         [9.13730376e-02],\n",
       "         [9.13730376e-02],\n",
       "         [6.33671307e-02],\n",
       "         [6.33671307e-02],\n",
       "         [1.71900039e-01],\n",
       "         [1.71900039e-01],\n",
       "         [6.08750115e-01],\n",
       "         [6.08750115e-01],\n",
       "         [5.26267507e-02],\n",
       "         [5.26267507e-02],\n",
       "         [6.95255747e-01],\n",
       "         [6.95255747e-01],\n",
       "         [6.70805865e-04],\n",
       "         [6.70805865e-04],\n",
       "         [7.05964444e-01],\n",
       "         [7.05964444e-01],\n",
       "         [5.62652304e-01],\n",
       "         [5.62652304e-01],\n",
       "         [2.75792443e-01],\n",
       "         [2.75792443e-01],\n",
       "         [8.78533400e-01],\n",
       "         [8.78533400e-01],\n",
       "         [7.07618042e-01],\n",
       "         [7.07618042e-01],\n",
       "         [1.92679994e-02],\n",
       "         [1.92679994e-02],\n",
       "         [7.32893507e-01],\n",
       "         [7.32893507e-01],\n",
       "         [2.59327256e-01],\n",
       "         [2.59327256e-01],\n",
       "         [8.50635222e-01],\n",
       "         [8.50635222e-01],\n",
       "         [8.89548808e-01],\n",
       "         [8.89548808e-01],\n",
       "         [1.27696896e-02],\n",
       "         [1.27696896e-02],\n",
       "         [4.90621761e-01],\n",
       "         [4.90621761e-01],\n",
       "         [3.85399119e-01],\n",
       "         [3.85399119e-01],\n",
       "         [1.94348311e-03],\n",
       "         [1.94348311e-03],\n",
       "         [6.68421460e-01],\n",
       "         [6.68421460e-01],\n",
       "         [2.04703692e-01],\n",
       "         [2.04703692e-01],\n",
       "         [3.20661982e-02],\n",
       "         [3.20661982e-02],\n",
       "         [9.47506965e-01],\n",
       "         [9.47506965e-01],\n",
       "         [5.73661219e-01],\n",
       "         [5.73661219e-01],\n",
       "         [9.88190906e-01],\n",
       "         [9.88190906e-01],\n",
       "         [4.26859629e-01],\n",
       "         [4.26859629e-01],\n",
       "         [1.66820858e-01],\n",
       "         [1.66820858e-01],\n",
       "         [8.51863064e-01],\n",
       "         [8.51863064e-01],\n",
       "         [4.31744276e-02],\n",
       "         [4.31744276e-02],\n",
       "         [4.87644061e-01],\n",
       "         [4.87644061e-01],\n",
       "         [9.58340942e-01],\n",
       "         [9.58340942e-01],\n",
       "         [7.90863431e-01],\n",
       "         [7.90863431e-01],\n",
       "         [5.36340473e-01],\n",
       "         [5.36340473e-01],\n",
       "         [6.12055583e-01],\n",
       "         [6.12055583e-01],\n",
       "         [2.96084086e-02],\n",
       "         [2.96084086e-02],\n",
       "         [7.14311351e-01],\n",
       "         [7.14311351e-01],\n",
       "         [2.12660630e-01],\n",
       "         [2.12660630e-01],\n",
       "         [4.33163738e-01],\n",
       "         [4.33163738e-01],\n",
       "         [2.27583119e-01],\n",
       "         [2.27583119e-01],\n",
       "         [6.72112064e-01],\n",
       "         [6.72112064e-01],\n",
       "         [6.67308266e-01],\n",
       "         [6.67308266e-01],\n",
       "         [6.60494697e-01],\n",
       "         [6.60494697e-01],\n",
       "         [3.30294962e-01],\n",
       "         [3.30294962e-01],\n",
       "         [7.00549875e-01],\n",
       "         [7.00549875e-01],\n",
       "         [8.71930043e-01],\n",
       "         [8.71930043e-01],\n",
       "         [3.80059183e-01],\n",
       "         [3.80059183e-01],\n",
       "         [4.45884413e-01],\n",
       "         [4.45884413e-01],\n",
       "         [3.59403485e-01],\n",
       "         [3.59403485e-01],\n",
       "         [1.75082652e-01],\n",
       "         [1.75082652e-01],\n",
       "         [9.36750899e-01],\n",
       "         [9.36750899e-01],\n",
       "         [4.05332102e-01],\n",
       "         [4.05332102e-01],\n",
       "         [6.65168740e-01],\n",
       "         [6.65168740e-01],\n",
       "         [2.26624313e-01],\n",
       "         [2.26624313e-01],\n",
       "         [6.85602963e-01],\n",
       "         [6.85602963e-01],\n",
       "         [3.83339073e-01],\n",
       "         [3.83339073e-01],\n",
       "         [4.50975063e-01],\n",
       "         [4.50975063e-01],\n",
       "         [4.48959052e-01],\n",
       "         [4.48959052e-01],\n",
       "         [6.74074372e-01],\n",
       "         [6.74074372e-01],\n",
       "         [7.92623070e-02],\n",
       "         [7.92623070e-02],\n",
       "         [8.83131147e-01],\n",
       "         [8.83131147e-01],\n",
       "         [9.11627481e-01],\n",
       "         [9.11627481e-01],\n",
       "         [5.74558036e-01],\n",
       "         [5.74558036e-01],\n",
       "         [1.12375591e-02],\n",
       "         [1.12375591e-02],\n",
       "         [1.79913385e-01],\n",
       "         [1.79913385e-01],\n",
       "         [3.82658799e-01],\n",
       "         [3.82658799e-01],\n",
       "         [5.84529964e-01],\n",
       "         [5.84529964e-01],\n",
       "         [9.96918779e-01],\n",
       "         [9.96918779e-01],\n",
       "         [2.32410537e-01],\n",
       "         [2.32410537e-01],\n",
       "         [7.45524048e-01],\n",
       "         [7.45524048e-01],\n",
       "         [3.20367154e-01],\n",
       "         [3.20367154e-01],\n",
       "         [9.62199410e-01],\n",
       "         [9.62199410e-01],\n",
       "         [6.29236030e-01],\n",
       "         [6.29236030e-01],\n",
       "         [6.70156289e-01],\n",
       "         [6.70156289e-01],\n",
       "         [7.30822943e-02],\n",
       "         [7.30822943e-02],\n",
       "         [3.26519449e-01],\n",
       "         [3.26519449e-01],\n",
       "         [2.10588369e-01],\n",
       "         [2.10588369e-01],\n",
       "         [1.79441016e-01],\n",
       "         [1.79441016e-01],\n",
       "         [2.00192023e-01],\n",
       "         [2.00192023e-01],\n",
       "         [4.77519716e-01],\n",
       "         [4.77519716e-01],\n",
       "         [8.85052288e-01],\n",
       "         [8.85052288e-01],\n",
       "         [3.86062830e-02],\n",
       "         [3.86062830e-02],\n",
       "         [8.74353018e-01],\n",
       "         [8.74353018e-01],\n",
       "         [9.26806839e-01],\n",
       "         [9.26806839e-01],\n",
       "         [5.53710071e-01],\n",
       "         [5.53710071e-01],\n",
       "         [2.06942770e-01],\n",
       "         [2.06942770e-01],\n",
       "         [6.88034222e-01],\n",
       "         [6.88034222e-01],\n",
       "         [6.23248667e-01],\n",
       "         [6.23248667e-01],\n",
       "         [4.58385054e-01],\n",
       "         [4.58385054e-01],\n",
       "         [8.77987188e-01],\n",
       "         [8.77987188e-01],\n",
       "         [7.07060628e-01],\n",
       "         [7.07060628e-01]])}}"
      ]
     },
     "execution_count": 1,
     "metadata": {},
     "output_type": "execute_result"
    }
   ],
   "source": [
    "ds = load_by_id(run_id_a)\n",
    "ds.get_parameter_data('x1')"
   ]
  },
  {
   "cell_type": "code",
   "execution_count": null,
   "metadata": {},
   "outputs": [],
   "source": []
  }
 ],
 "metadata": {
  "kernelspec": {
   "display_name": "Python 3",
   "language": "python",
   "name": "python3"
  },
  "language_info": {
   "codemirror_mode": {
    "name": "ipython",
    "version": 3
   },
   "file_extension": ".py",
   "mimetype": "text/x-python",
   "name": "python",
   "nbconvert_exporter": "python",
   "pygments_lexer": "ipython3",
   "version": "3.7.9"
  },
  "nbsphinx": {
   "timeout": 600
  },
  "toc": {
   "base_numbering": 1,
   "nav_menu": {},
   "number_sections": true,
   "sideBar": true,
   "skip_h1_title": false,
   "title_cell": "Table of Contents",
   "title_sidebar": "Contents",
   "toc_cell": false,
   "toc_position": {},
   "toc_section_display": true,
   "toc_window_display": false
  },
  "varInspector": {
   "cols": {
    "lenName": 16,
    "lenType": 16,
    "lenVar": 40
   },
   "kernels_config": {
    "python": {
     "delete_cmd_postfix": "",
     "delete_cmd_prefix": "del ",
     "library": "var_list.py",
     "varRefreshCmd": "print(var_dic_list())"
    },
    "r": {
     "delete_cmd_postfix": ") ",
     "delete_cmd_prefix": "rm(",
     "library": "var_list.r",
     "varRefreshCmd": "cat(var_dic_list()) "
    }
   },
   "types_to_exclude": [
    "module",
    "function",
    "builtin_function_or_method",
    "instance",
    "_Feature"
   ],
   "window_display": false
  }
 },
 "nbformat": 4,
 "nbformat_minor": 2
}
