{
 "cells": [
  {
   "cell_type": "markdown",
   "metadata": {},
   "source": [
    "# DataSet Performance\n",
    "\n",
    "This notebook shows the trade-off between inserting data into a database row-by-row and as binary blobs. Inserting the data row-by-row means that we have direct access to all the data and may perform queries directly on the values of the data. On the other hand, as we shall see, this is much slower than inserting the data directly as binary blobs."
   ]
  },
  {
   "cell_type": "markdown",
   "metadata": {},
   "source": [
    "First, we choose a new location for the database to ensure that we don't add a bunch of benchmarking data to the default one."
   ]
  },
  {
   "cell_type": "code",
   "execution_count": 1,
   "metadata": {
    "execution": {
     "iopub.execute_input": "2021-03-05T11:26:10.084082Z",
     "iopub.status.busy": "2021-03-05T11:26:10.083173Z",
     "iopub.status.idle": "2021-03-05T11:26:11.111569Z",
     "shell.execute_reply": "2021-03-05T11:26:11.110848Z"
    }
   },
   "outputs": [
    {
     "name": "stdout",
     "output_type": "stream",
     "text": [
      "Logging hadn't been started.\n",
      "Activating auto-logging. Current session state plus future input saved.\n",
      "Filename       : /home/runner/.qcodes/logs/command_history.log\n",
      "Mode           : append\n",
      "Output logging : True\n",
      "Raw input log  : False\n",
      "Timestamping   : True\n",
      "State          : active\n"
     ]
    },
    {
     "name": "stdout",
     "output_type": "stream",
     "text": [
      "Qcodes Logfile : /home/runner/.qcodes/logs/210305-4017-qcodes.log\n"
     ]
    }
   ],
   "source": [
    "import os\n",
    "cwd = os.getcwd()\n",
    "import qcodes as qc\n",
    "qc.config[\"core\"][\"db_location\"] = os.path.join(cwd, 'testing.db')\n"
   ]
  },
  {
   "cell_type": "code",
   "execution_count": 2,
   "metadata": {
    "execution": {
     "iopub.execute_input": "2021-03-05T11:26:11.118954Z",
     "iopub.status.busy": "2021-03-05T11:26:11.117707Z",
     "iopub.status.idle": "2021-03-05T11:26:11.337617Z",
     "shell.execute_reply": "2021-03-05T11:26:11.336991Z"
    }
   },
   "outputs": [],
   "source": [
    "%matplotlib inline\n",
    "import time\n",
    "import matplotlib.pyplot as plt\n",
    "import numpy as np\n",
    "\n",
    "import qcodes as qc\n",
    "from qcodes.instrument.parameter import ManualParameter\n",
    "from qcodes.dataset.experiment_container import (Experiment,\n",
    "                                                 load_last_experiment,\n",
    "                                                 new_experiment)\n",
    "from qcodes.dataset.sqlite.database import initialise_database\n",
    "from qcodes import load_or_create_experiment\n",
    "from qcodes.dataset.measurements import Measurement"
   ]
  },
  {
   "cell_type": "code",
   "execution_count": 3,
   "metadata": {
    "execution": {
     "iopub.execute_input": "2021-03-05T11:26:11.342831Z",
     "iopub.status.busy": "2021-03-05T11:26:11.341835Z",
     "iopub.status.idle": "2021-03-05T11:26:11.473417Z",
     "shell.execute_reply": "2021-03-05T11:26:11.472843Z"
    }
   },
   "outputs": [
    {
     "name": "stdout",
     "output_type": "stream",
     "text": [
      "\r",
      "0it [00:00, ?it/s]"
     ]
    },
    {
     "name": "stdout",
     "output_type": "stream",
     "text": [
      "\r",
      "Upgrading database; v0 -> v1: : 0it [00:00, ?it/s]"
     ]
    },
    {
     "name": "stdout",
     "output_type": "stream",
     "text": [
      "\r",
      "Upgrading database; v0 -> v1: : 0it [00:00, ?it/s]"
     ]
    },
    {
     "name": "stdout",
     "output_type": "stream",
     "text": [
      "\n",
      "\r",
      "  0%|          | 0/1 [00:00<?, ?it/s]"
     ]
    },
    {
     "name": "stdout",
     "output_type": "stream",
     "text": [
      "\r",
      "Upgrading database; v1 -> v2:   0%|          | 0/1 [00:00<?, ?it/s]"
     ]
    },
    {
     "name": "stdout",
     "output_type": "stream",
     "text": [
      "\r",
      "Upgrading database; v1 -> v2: 100%|██████████| 1/1 [00:00<00:00, 441.27it/s]"
     ]
    },
    {
     "name": "stdout",
     "output_type": "stream",
     "text": [
      "\n",
      "\r",
      "0it [00:00, ?it/s]"
     ]
    },
    {
     "name": "stdout",
     "output_type": "stream",
     "text": [
      "\r",
      "Upgrading database; v2 -> v3: : 0it [00:00, ?it/s]"
     ]
    },
    {
     "name": "stdout",
     "output_type": "stream",
     "text": [
      "\r",
      "Upgrading database; v2 -> v3: : 0it [00:00, ?it/s]"
     ]
    },
    {
     "name": "stdout",
     "output_type": "stream",
     "text": [
      "\n",
      "\r",
      "0it [00:00, ?it/s]"
     ]
    },
    {
     "name": "stdout",
     "output_type": "stream",
     "text": [
      "\r",
      "Upgrading database; v3 -> v4: : 0it [00:00, ?it/s]"
     ]
    },
    {
     "name": "stdout",
     "output_type": "stream",
     "text": [
      "\r",
      "Upgrading database; v3 -> v4: : 0it [00:00, ?it/s]"
     ]
    },
    {
     "name": "stdout",
     "output_type": "stream",
     "text": [
      "\n",
      "\r",
      "  0%|          | 0/1 [00:00<?, ?it/s]"
     ]
    },
    {
     "name": "stdout",
     "output_type": "stream",
     "text": [
      "\r",
      "Upgrading database; v4 -> v5:   0%|          | 0/1 [00:00<?, ?it/s]"
     ]
    },
    {
     "name": "stdout",
     "output_type": "stream",
     "text": [
      "\r",
      "Upgrading database; v4 -> v5: 100%|██████████| 1/1 [00:00<00:00, 534.37it/s]"
     ]
    },
    {
     "name": "stdout",
     "output_type": "stream",
     "text": [
      "\n",
      "\r",
      "0it [00:00, ?it/s]"
     ]
    },
    {
     "name": "stdout",
     "output_type": "stream",
     "text": [
      "\r",
      "Upgrading database; v5 -> v6: : 0it [00:00, ?it/s]"
     ]
    },
    {
     "name": "stdout",
     "output_type": "stream",
     "text": [
      "\r",
      "Upgrading database; v5 -> v6: : 0it [00:00, ?it/s]"
     ]
    },
    {
     "name": "stdout",
     "output_type": "stream",
     "text": [
      "\n",
      "\r",
      "  0%|          | 0/1 [00:00<?, ?it/s]"
     ]
    },
    {
     "name": "stdout",
     "output_type": "stream",
     "text": [
      "\r",
      "Upgrading database; v6 -> v7:   0%|          | 0/1 [00:00<?, ?it/s]"
     ]
    },
    {
     "name": "stdout",
     "output_type": "stream",
     "text": [
      "\r",
      "Upgrading database; v6 -> v7: 100%|██████████| 1/1 [00:00<00:00, 339.59it/s]"
     ]
    },
    {
     "name": "stdout",
     "output_type": "stream",
     "text": [
      "\n",
      "\r",
      "  0%|          | 0/1 [00:00<?, ?it/s]"
     ]
    },
    {
     "name": "stdout",
     "output_type": "stream",
     "text": [
      "\r",
      "Upgrading database; v7 -> v8:   0%|          | 0/1 [00:00<?, ?it/s]"
     ]
    },
    {
     "name": "stdout",
     "output_type": "stream",
     "text": [
      "\r",
      "Upgrading database; v7 -> v8: 100%|██████████| 1/1 [00:00<00:00, 583.19it/s]"
     ]
    },
    {
     "name": "stdout",
     "output_type": "stream",
     "text": [
      "\n",
      "\r",
      "  0%|          | 0/1 [00:00<?, ?it/s]"
     ]
    },
    {
     "name": "stdout",
     "output_type": "stream",
     "text": [
      "\r",
      "Upgrading database; v8 -> v9:   0%|          | 0/1 [00:00<?, ?it/s]"
     ]
    },
    {
     "name": "stdout",
     "output_type": "stream",
     "text": [
      "\r",
      "Upgrading database; v8 -> v9: 100%|██████████| 1/1 [00:00<00:00, 432.45it/s]"
     ]
    },
    {
     "name": "stdout",
     "output_type": "stream",
     "text": [
      "\n"
     ]
    }
   ],
   "source": [
    "initialise_database()\n",
    "exp = load_or_create_experiment(experiment_name='tutorial_exp', sample_name=\"no sample\")"
   ]
  },
  {
   "cell_type": "markdown",
   "metadata": {},
   "source": [
    "Here, we define a simple function to benchmark the time it takes to insert n points with either numeric or array data type.\n",
    "We will compare both the time used to call ``add_result`` and the time used for the full measurement."
   ]
  },
  {
   "cell_type": "code",
   "execution_count": 4,
   "metadata": {
    "execution": {
     "iopub.execute_input": "2021-03-05T11:26:11.483245Z",
     "iopub.status.busy": "2021-03-05T11:26:11.481366Z",
     "iopub.status.idle": "2021-03-05T11:26:11.486119Z",
     "shell.execute_reply": "2021-03-05T11:26:11.485535Z"
    }
   },
   "outputs": [],
   "source": [
    "def insert_data(paramtype, npoints, nreps=1):\n",
    "\n",
    "    meas = Measurement(exp=exp)\n",
    "\n",
    "    x1 = ManualParameter('x1')\n",
    "    x2 = ManualParameter('x2')\n",
    "    x3 = ManualParameter('x3')\n",
    "    y1 = ManualParameter('y1')\n",
    "    y2 = ManualParameter('y2')\n",
    "\n",
    "    meas.register_parameter(x1, paramtype=paramtype)\n",
    "    meas.register_parameter(x2, paramtype=paramtype)\n",
    "    meas.register_parameter(x3, paramtype=paramtype)\n",
    "    meas.register_parameter(y1, setpoints=[x1, x2, x3],\n",
    "                            paramtype=paramtype)\n",
    "    meas.register_parameter(y2, setpoints=[x1, x2, x3],\n",
    "                            paramtype=paramtype)\n",
    "    start = time.perf_counter()\n",
    "    with meas.run() as datasaver:\n",
    "        start_adding = time.perf_counter()\n",
    "        for i in range(nreps):\n",
    "            datasaver.add_result((x1, np.random.rand(npoints)),\n",
    "                                 (x2, np.random.rand(npoints)),\n",
    "                                 (x3, np.random.rand(npoints)),\n",
    "                                 (y1, np.random.rand(npoints)),\n",
    "                                 (y2, np.random.rand(npoints)))\n",
    "        stop_adding = time.perf_counter()\n",
    "        run_id = datasaver.run_id\n",
    "    stop = time.perf_counter()\n",
    "    tot_time = stop - start\n",
    "    add_time = stop_adding - start_adding\n",
    "    return tot_time, add_time, run_id"
   ]
  },
  {
   "cell_type": "markdown",
   "metadata": {},
   "source": [
    "## Comparison between numeric/array data and binary blob"
   ]
  },
  {
   "cell_type": "markdown",
   "metadata": {},
   "source": [
    "### Case1: Short experiment time"
   ]
  },
  {
   "cell_type": "code",
   "execution_count": 5,
   "metadata": {
    "execution": {
     "iopub.execute_input": "2021-03-05T11:26:11.494248Z",
     "iopub.status.busy": "2021-03-05T11:26:11.493501Z",
     "iopub.status.idle": "2021-03-05T11:26:12.417940Z",
     "shell.execute_reply": "2021-03-05T11:26:12.417408Z"
    }
   },
   "outputs": [
    {
     "name": "stdout",
     "output_type": "stream",
     "text": [
      "Starting experimental run with id: 1. \n",
      "Starting experimental run with id: 2. \n",
      "Starting experimental run with id: 3. \n",
      "Starting experimental run with id: 4. \n"
     ]
    },
    {
     "name": "stdout",
     "output_type": "stream",
     "text": [
      "Starting experimental run with id: 5. \n"
     ]
    },
    {
     "name": "stdout",
     "output_type": "stream",
     "text": [
      "Starting experimental run with id: 6. \n",
      "Starting experimental run with id: 7. \n"
     ]
    },
    {
     "name": "stdout",
     "output_type": "stream",
     "text": [
      "Starting experimental run with id: 8. \n"
     ]
    },
    {
     "name": "stdout",
     "output_type": "stream",
     "text": [
      "Starting experimental run with id: 9. \n"
     ]
    },
    {
     "name": "stdout",
     "output_type": "stream",
     "text": [
      "Starting experimental run with id: 10. \n",
      "Starting experimental run with id: 11. \n"
     ]
    },
    {
     "name": "stdout",
     "output_type": "stream",
     "text": [
      "Starting experimental run with id: 12. \n"
     ]
    },
    {
     "name": "stdout",
     "output_type": "stream",
     "text": [
      "Starting experimental run with id: 13. \n"
     ]
    },
    {
     "name": "stdout",
     "output_type": "stream",
     "text": [
      "Starting experimental run with id: 14. \n"
     ]
    }
   ],
   "source": [
    "sizes = [1,500,1000,2000,3000,4000,5000]\n",
    "t_numeric = []\n",
    "t_numeric_add = []\n",
    "t_array = []\n",
    "t_array_add = []\n",
    "for size in sizes:\n",
    "    tn, tna, run_id_n =  insert_data('numeric', size)\n",
    "    t_numeric.append(tn)\n",
    "    t_numeric_add.append(tna)\n",
    "\n",
    "    ta, taa, run_id_a =  insert_data('array', size)\n",
    "    t_array.append(ta)\n",
    "    t_array_add.append(taa)"
   ]
  },
  {
   "cell_type": "code",
   "execution_count": 6,
   "metadata": {
    "execution": {
     "iopub.execute_input": "2021-03-05T11:26:12.439361Z",
     "iopub.status.busy": "2021-03-05T11:26:12.438709Z",
     "iopub.status.idle": "2021-03-05T11:26:12.695563Z",
     "shell.execute_reply": "2021-03-05T11:26:12.694954Z"
    }
   },
   "outputs": [
    {
     "data": {
      "image/png": "[encoded data removed]",
      "text/plain": [
       "<Figure size 432x288 with 1 Axes>"
      ]
     },
     "metadata": {
      "needs_background": "light"
     },
     "output_type": "display_data"
    }
   ],
   "source": [
    "fig, ax = plt.subplots(1,1)\n",
    "ax.plot(sizes, t_numeric, 'o-', label='Inserting row-by-row')\n",
    "ax.plot(sizes, t_numeric_add, 'o-', label='Inserting row-by-row: add_result only')\n",
    "ax.plot(sizes, t_array, 'd-', label='Inserting as binary blob')\n",
    "ax.plot(sizes, t_array_add, 'd-', label='Inserting as binary blob: add_result only')\n",
    "ax.legend()\n",
    "ax.set_xlabel('Array length')\n",
    "ax.set_ylabel('Time (s)')\n",
    "fig.tight_layout()"
   ]
  },
  {
   "cell_type": "markdown",
   "metadata": {},
   "source": [
    "As shown in the latter figure, the time to setup and and close the experiment is approximately 0.4 sec. In case of small array sizes, the difference between inserting values of data as arrays and inserting them row-by-row is relatively unimportant. At larger array sizes, i.e. above 10000 points, the cost of writing data as individual datapoints starts to become important.\n"
   ]
  },
  {
   "cell_type": "markdown",
   "metadata": {},
   "source": [
    "### Case2: Long experiment time "
   ]
  },
  {
   "cell_type": "code",
   "execution_count": 7,
   "metadata": {
    "execution": {
     "iopub.execute_input": "2021-03-05T11:26:12.704792Z",
     "iopub.status.busy": "2021-03-05T11:26:12.703221Z",
     "iopub.status.idle": "2021-03-05T11:27:17.775418Z",
     "shell.execute_reply": "2021-03-05T11:27:17.774763Z"
    }
   },
   "outputs": [
    {
     "name": "stdout",
     "output_type": "stream",
     "text": [
      "Starting experimental run with id: 15. \n",
      "Starting experimental run with id: 16. \n"
     ]
    },
    {
     "name": "stdout",
     "output_type": "stream",
     "text": [
      "Starting experimental run with id: 17. \n"
     ]
    },
    {
     "name": "stdout",
     "output_type": "stream",
     "text": [
      "Starting experimental run with id: 18. \n"
     ]
    },
    {
     "name": "stdout",
     "output_type": "stream",
     "text": [
      "Starting experimental run with id: 19. \n"
     ]
    },
    {
     "name": "stdout",
     "output_type": "stream",
     "text": [
      "Starting experimental run with id: 20. \n"
     ]
    },
    {
     "name": "stdout",
     "output_type": "stream",
     "text": [
      "Starting experimental run with id: 21. \n"
     ]
    },
    {
     "name": "stdout",
     "output_type": "stream",
     "text": [
      "Starting experimental run with id: 22. \n"
     ]
    },
    {
     "name": "stdout",
     "output_type": "stream",
     "text": [
      "Starting experimental run with id: 23. \n"
     ]
    },
    {
     "name": "stdout",
     "output_type": "stream",
     "text": [
      "Starting experimental run with id: 24. \n"
     ]
    },
    {
     "name": "stdout",
     "output_type": "stream",
     "text": [
      "Starting experimental run with id: 25. \n"
     ]
    },
    {
     "name": "stdout",
     "output_type": "stream",
     "text": [
      "Starting experimental run with id: 26. \n"
     ]
    },
    {
     "name": "stdout",
     "output_type": "stream",
     "text": [
      "Starting experimental run with id: 27. \n"
     ]
    },
    {
     "name": "stdout",
     "output_type": "stream",
     "text": [
      "Starting experimental run with id: 28. \n"
     ]
    }
   ],
   "source": [
    "sizes = [1,500,1000,2000,3000,4000,5000]\n",
    "nreps = 100\n",
    "t_numeric = []\n",
    "t_numeric_add = []\n",
    "t_numeric_run_ids = []\n",
    "t_array = []\n",
    "t_array_add = []\n",
    "t_array_run_ids = []\n",
    "for size in sizes:\n",
    "    tn, tna, run_id_n =  insert_data('numeric', size, nreps=nreps)\n",
    "    t_numeric.append(tn)\n",
    "    t_numeric_add.append(tna)\n",
    "    t_numeric_run_ids.append(run_id_n)\n",
    "\n",
    "    ta, taa, run_id_a =  insert_data('array', size, nreps=nreps)\n",
    "    t_array.append(ta)\n",
    "    t_array_add.append(taa)\n",
    "    t_array_run_ids.append(run_id_a)"
   ]
  },
  {
   "cell_type": "code",
   "execution_count": 8,
   "metadata": {
    "execution": {
     "iopub.execute_input": "2021-03-05T11:27:17.798487Z",
     "iopub.status.busy": "2021-03-05T11:27:17.795287Z",
     "iopub.status.idle": "2021-03-05T11:27:18.047031Z",
     "shell.execute_reply": "2021-03-05T11:27:18.046444Z"
    },
    "scrolled": true
   },
   "outputs": [
    {
     "data": {
      "image/png": "[encoded data removed]",
      "text/plain": [
       "<Figure size 432x288 with 1 Axes>"
      ]
     },
     "metadata": {
      "needs_background": "light"
     },
     "output_type": "display_data"
    }
   ],
   "source": [
    "fig, ax = plt.subplots(1,1)\n",
    "ax.plot(sizes, t_numeric, 'o-', label='Inserting row-by-row')\n",
    "ax.plot(sizes, t_numeric_add, 'o-', label='Inserting row-by-row: add_result only')\n",
    "ax.plot(sizes, t_array, 'd-', label='Inserting as binary blob')\n",
    "ax.plot(sizes, t_array_add, 'd-', label='Inserting as binary blob: add_result only')\n",
    "ax.legend()\n",
    "ax.set_xlabel('Array length')\n",
    "ax.set_ylabel('Time (s)')\n",
    "fig.tight_layout()"
   ]
  },
  {
   "cell_type": "markdown",
   "metadata": {},
   "source": [
    "However, as we increase the length of the experiment, as seen here by repeating the insertion 100 times, we see a big difference between inserting values of the data row-by-row and inserting it as a binary blob."
   ]
  },
  {
   "cell_type": "markdown",
   "metadata": {},
   "source": [
    "## Loading the data "
   ]
  },
  {
   "cell_type": "code",
   "execution_count": 9,
   "metadata": {
    "execution": {
     "iopub.execute_input": "2021-03-05T11:27:18.052485Z",
     "iopub.status.busy": "2021-03-05T11:27:18.051707Z",
     "iopub.status.idle": "2021-03-05T11:27:18.055068Z",
     "shell.execute_reply": "2021-03-05T11:27:18.054444Z"
    }
   },
   "outputs": [],
   "source": [
    "from qcodes.dataset.data_set import load_by_id\n",
    "from qcodes.dataset.data_export import get_data_by_id"
   ]
  },
  {
   "cell_type": "markdown",
   "metadata": {},
   "source": [
    "As usual you can load the data by using the ``load_by_id`` function but you will notice that the different storage methods\n",
    "are reflected in shape of the data as it is retrieved. "
   ]
  },
  {
   "cell_type": "code",
   "execution_count": 10,
   "metadata": {
    "execution": {
     "iopub.execute_input": "2021-03-05T11:27:18.060589Z",
     "iopub.status.busy": "2021-03-05T11:27:18.059144Z",
     "iopub.status.idle": "2021-03-05T11:27:18.061315Z",
     "shell.execute_reply": "2021-03-05T11:27:18.061880Z"
    }
   },
   "outputs": [],
   "source": [
    "run_id_n = t_numeric_run_ids[0]\n",
    "run_id_a = t_array_run_ids[0]"
   ]
  },
  {
   "cell_type": "code",
   "execution_count": 11,
   "metadata": {
    "execution": {
     "iopub.execute_input": "2021-03-05T11:27:18.066145Z",
     "iopub.status.busy": "2021-03-05T11:27:18.065450Z",
     "iopub.status.idle": "2021-03-05T11:27:18.077200Z",
     "shell.execute_reply": "2021-03-05T11:27:18.077798Z"
    },
    "scrolled": true
   },
   "outputs": [
    {
     "data": {
      "text/plain": [
       "{'x1': {'x1': array([0.10203342, 0.10203342, 0.40378659, 0.40378659, 0.74802479,\n",
       "         0.74802479, 0.94326498, 0.94326498, 0.0624173 , 0.0624173 ,\n",
       "         0.77173445, 0.77173445, 0.39114944, 0.39114944, 0.50325027,\n",
       "         0.50325027, 0.27399188, 0.27399188, 0.22003207, 0.22003207,\n",
       "         0.56726467, 0.56726467, 0.74659993, 0.74659993, 0.82436164,\n",
       "         0.82436164, 0.21957082, 0.21957082, 0.4751773 , 0.4751773 ,\n",
       "         0.28258775, 0.28258775, 0.07100234, 0.07100234, 0.81958768,\n",
       "         0.81958768, 0.50849712, 0.50849712, 0.43791887, 0.43791887,\n",
       "         0.18005457, 0.18005457, 0.42767494, 0.42767494, 0.67857031,\n",
       "         0.67857031, 0.59801257, 0.59801257, 0.58600181, 0.58600181,\n",
       "         0.67569289, 0.67569289, 0.38963345, 0.38963345, 0.20464212,\n",
       "         0.20464212, 0.47762717, 0.47762717, 0.22226373, 0.22226373,\n",
       "         0.33153971, 0.33153971, 0.15719684, 0.15719684, 0.77382048,\n",
       "         0.77382048, 0.90840296, 0.90840296, 0.88829786, 0.88829786,\n",
       "         0.73114432, 0.73114432, 0.02741656, 0.02741656, 0.67731293,\n",
       "         0.67731293, 0.71154458, 0.71154458, 0.29345783, 0.29345783,\n",
       "         0.12810755, 0.12810755, 0.12069599, 0.12069599, 0.97644044,\n",
       "         0.97644044, 0.26079245, 0.26079245, 0.75982894, 0.75982894,\n",
       "         0.60264309, 0.60264309, 0.08420281, 0.08420281, 0.4802339 ,\n",
       "         0.4802339 , 0.29162813, 0.29162813, 0.42362318, 0.42362318,\n",
       "         0.46651649, 0.46651649, 0.06795558, 0.06795558, 0.1187247 ,\n",
       "         0.1187247 , 0.01755465, 0.01755465, 0.02785612, 0.02785612,\n",
       "         0.56067936, 0.56067936, 0.78579992, 0.78579992, 0.19609614,\n",
       "         0.19609614, 0.06553124, 0.06553124, 0.67400837, 0.67400837,\n",
       "         0.88726584, 0.88726584, 0.06910471, 0.06910471, 0.09453114,\n",
       "         0.09453114, 0.58180536, 0.58180536, 0.0778644 , 0.0778644 ,\n",
       "         0.77116503, 0.77116503, 0.03754256, 0.03754256, 0.50208965,\n",
       "         0.50208965, 0.82176979, 0.82176979, 0.48600908, 0.48600908,\n",
       "         0.05681428, 0.05681428, 0.80471452, 0.80471452, 0.90287824,\n",
       "         0.90287824, 0.89104597, 0.89104597, 0.63278088, 0.63278088,\n",
       "         0.11600718, 0.11600718, 0.68919805, 0.68919805, 0.71075973,\n",
       "         0.71075973, 0.19574642, 0.19574642, 0.6986693 , 0.6986693 ,\n",
       "         0.31436178, 0.31436178, 0.024075  , 0.024075  , 0.82552948,\n",
       "         0.82552948, 0.81808658, 0.81808658, 0.20357089, 0.20357089,\n",
       "         0.28974415, 0.28974415, 0.89083131, 0.89083131, 0.05097975,\n",
       "         0.05097975, 0.2788983 , 0.2788983 , 0.63937472, 0.63937472,\n",
       "         0.54354506, 0.54354506, 0.52496292, 0.52496292, 0.34252401,\n",
       "         0.34252401, 0.58091639, 0.58091639, 0.39044156, 0.39044156,\n",
       "         0.19956775, 0.19956775, 0.02938576, 0.02938576, 0.16486316,\n",
       "         0.16486316, 0.41230976, 0.41230976, 0.61948327, 0.61948327])}}"
      ]
     },
     "execution_count": 1,
     "metadata": {},
     "output_type": "execute_result"
    }
   ],
   "source": [
    "ds = load_by_id(run_id_n)\n",
    "ds.get_parameter_data('x1')"
   ]
  },
  {
   "cell_type": "markdown",
   "metadata": {},
   "source": [
    "And a dataset stored as binary arrays"
   ]
  },
  {
   "cell_type": "code",
   "execution_count": 12,
   "metadata": {
    "execution": {
     "iopub.execute_input": "2021-03-05T11:27:18.082143Z",
     "iopub.status.busy": "2021-03-05T11:27:18.081500Z",
     "iopub.status.idle": "2021-03-05T11:27:18.151965Z",
     "shell.execute_reply": "2021-03-05T11:27:18.152566Z"
    },
    "scrolled": true
   },
   "outputs": [
    {
     "data": {
      "text/plain": [
       "{'x1': {'x1': array([[0.97533843],\n",
       "         [0.97533843],\n",
       "         [0.57310841],\n",
       "         [0.57310841],\n",
       "         [0.87537488],\n",
       "         [0.87537488],\n",
       "         [0.46360637],\n",
       "         [0.46360637],\n",
       "         [0.47307872],\n",
       "         [0.47307872],\n",
       "         [0.48766401],\n",
       "         [0.48766401],\n",
       "         [0.57330284],\n",
       "         [0.57330284],\n",
       "         [0.79649651],\n",
       "         [0.79649651],\n",
       "         [0.29090656],\n",
       "         [0.29090656],\n",
       "         [0.76487549],\n",
       "         [0.76487549],\n",
       "         [0.16704909],\n",
       "         [0.16704909],\n",
       "         [0.29491074],\n",
       "         [0.29491074],\n",
       "         [0.24762939],\n",
       "         [0.24762939],\n",
       "         [0.06651087],\n",
       "         [0.06651087],\n",
       "         [0.19538851],\n",
       "         [0.19538851],\n",
       "         [0.21320423],\n",
       "         [0.21320423],\n",
       "         [0.35981909],\n",
       "         [0.35981909],\n",
       "         [0.93055588],\n",
       "         [0.93055588],\n",
       "         [0.14377843],\n",
       "         [0.14377843],\n",
       "         [0.21303957],\n",
       "         [0.21303957],\n",
       "         [0.55618628],\n",
       "         [0.55618628],\n",
       "         [0.61344992],\n",
       "         [0.61344992],\n",
       "         [0.17337772],\n",
       "         [0.17337772],\n",
       "         [0.7647563 ],\n",
       "         [0.7647563 ],\n",
       "         [0.29073445],\n",
       "         [0.29073445],\n",
       "         [0.22181813],\n",
       "         [0.22181813],\n",
       "         [0.45230469],\n",
       "         [0.45230469],\n",
       "         [0.43744706],\n",
       "         [0.43744706],\n",
       "         [0.57849118],\n",
       "         [0.57849118],\n",
       "         [0.77867153],\n",
       "         [0.77867153],\n",
       "         [0.34108108],\n",
       "         [0.34108108],\n",
       "         [0.26436079],\n",
       "         [0.26436079],\n",
       "         [0.29852616],\n",
       "         [0.29852616],\n",
       "         [0.97251644],\n",
       "         [0.97251644],\n",
       "         [0.78365416],\n",
       "         [0.78365416],\n",
       "         [0.93974035],\n",
       "         [0.93974035],\n",
       "         [0.52200263],\n",
       "         [0.52200263],\n",
       "         [0.81823559],\n",
       "         [0.81823559],\n",
       "         [0.95301408],\n",
       "         [0.95301408],\n",
       "         [0.24358174],\n",
       "         [0.24358174],\n",
       "         [0.96482866],\n",
       "         [0.96482866],\n",
       "         [0.89857132],\n",
       "         [0.89857132],\n",
       "         [0.45648831],\n",
       "         [0.45648831],\n",
       "         [0.05933493],\n",
       "         [0.05933493],\n",
       "         [0.57250957],\n",
       "         [0.57250957],\n",
       "         [0.04441332],\n",
       "         [0.04441332],\n",
       "         [0.2070208 ],\n",
       "         [0.2070208 ],\n",
       "         [0.98873272],\n",
       "         [0.98873272],\n",
       "         [0.04371876],\n",
       "         [0.04371876],\n",
       "         [0.76834636],\n",
       "         [0.76834636],\n",
       "         [0.16903118],\n",
       "         [0.16903118],\n",
       "         [0.85546507],\n",
       "         [0.85546507],\n",
       "         [0.98470149],\n",
       "         [0.98470149],\n",
       "         [0.74691079],\n",
       "         [0.74691079],\n",
       "         [0.20848328],\n",
       "         [0.20848328],\n",
       "         [0.43764902],\n",
       "         [0.43764902],\n",
       "         [0.37476814],\n",
       "         [0.37476814],\n",
       "         [0.31980196],\n",
       "         [0.31980196],\n",
       "         [0.73378289],\n",
       "         [0.73378289],\n",
       "         [0.88448847],\n",
       "         [0.88448847],\n",
       "         [0.82084005],\n",
       "         [0.82084005],\n",
       "         [0.58441546],\n",
       "         [0.58441546],\n",
       "         [0.90921141],\n",
       "         [0.90921141],\n",
       "         [0.24363016],\n",
       "         [0.24363016],\n",
       "         [0.51613006],\n",
       "         [0.51613006],\n",
       "         [0.66563592],\n",
       "         [0.66563592],\n",
       "         [0.78464436],\n",
       "         [0.78464436],\n",
       "         [0.59839445],\n",
       "         [0.59839445],\n",
       "         [0.2617766 ],\n",
       "         [0.2617766 ],\n",
       "         [0.09643251],\n",
       "         [0.09643251],\n",
       "         [0.10902251],\n",
       "         [0.10902251],\n",
       "         [0.29052087],\n",
       "         [0.29052087],\n",
       "         [0.50475166],\n",
       "         [0.50475166],\n",
       "         [0.82997216],\n",
       "         [0.82997216],\n",
       "         [0.49174476],\n",
       "         [0.49174476],\n",
       "         [0.07182744],\n",
       "         [0.07182744],\n",
       "         [0.69792792],\n",
       "         [0.69792792],\n",
       "         [0.20718644],\n",
       "         [0.20718644],\n",
       "         [0.75115163],\n",
       "         [0.75115163],\n",
       "         [0.23581141],\n",
       "         [0.23581141],\n",
       "         [0.53763045],\n",
       "         [0.53763045],\n",
       "         [0.66152098],\n",
       "         [0.66152098],\n",
       "         [0.07180728],\n",
       "         [0.07180728],\n",
       "         [0.8906726 ],\n",
       "         [0.8906726 ],\n",
       "         [0.45027625],\n",
       "         [0.45027625],\n",
       "         [0.18201385],\n",
       "         [0.18201385],\n",
       "         [0.42837742],\n",
       "         [0.42837742],\n",
       "         [0.14409579],\n",
       "         [0.14409579],\n",
       "         [0.61433012],\n",
       "         [0.61433012],\n",
       "         [0.98075001],\n",
       "         [0.98075001],\n",
       "         [0.50397485],\n",
       "         [0.50397485],\n",
       "         [0.45523745],\n",
       "         [0.45523745],\n",
       "         [0.53941861],\n",
       "         [0.53941861],\n",
       "         [0.93347759],\n",
       "         [0.93347759],\n",
       "         [0.12145897],\n",
       "         [0.12145897],\n",
       "         [0.40462815],\n",
       "         [0.40462815],\n",
       "         [0.19939277],\n",
       "         [0.19939277],\n",
       "         [0.57313373],\n",
       "         [0.57313373],\n",
       "         [0.23667713],\n",
       "         [0.23667713],\n",
       "         [0.56770214],\n",
       "         [0.56770214]])}}"
      ]
     },
     "execution_count": 1,
     "metadata": {},
     "output_type": "execute_result"
    }
   ],
   "source": [
    "ds = load_by_id(run_id_a)\n",
    "ds.get_parameter_data('x1')"
   ]
  },
  {
   "cell_type": "code",
   "execution_count": null,
   "metadata": {},
   "outputs": [],
   "source": []
  }
 ],
 "metadata": {
  "kernelspec": {
   "display_name": "Python 3",
   "language": "python",
   "name": "python3"
  },
  "language_info": {
   "codemirror_mode": {
    "name": "ipython",
    "version": 3
   },
   "file_extension": ".py",
   "mimetype": "text/x-python",
   "name": "python",
   "nbconvert_exporter": "python",
   "pygments_lexer": "ipython3",
   "version": "3.7.10"
  },
  "nbsphinx": {
   "timeout": 600
  },
  "toc": {
   "base_numbering": 1,
   "nav_menu": {},
   "number_sections": true,
   "sideBar": true,
   "skip_h1_title": false,
   "title_cell": "Table of Contents",
   "title_sidebar": "Contents",
   "toc_cell": false,
   "toc_position": {},
   "toc_section_display": true,
   "toc_window_display": false
  },
  "varInspector": {
   "cols": {
    "lenName": 16,
    "lenType": 16,
    "lenVar": 40
   },
   "kernels_config": {
    "python": {
     "delete_cmd_postfix": "",
     "delete_cmd_prefix": "del ",
     "library": "var_list.py",
     "varRefreshCmd": "print(var_dic_list())"
    },
    "r": {
     "delete_cmd_postfix": ") ",
     "delete_cmd_prefix": "rm(",
     "library": "var_list.r",
     "varRefreshCmd": "cat(var_dic_list()) "
    }
   },
   "types_to_exclude": [
    "module",
    "function",
    "builtin_function_or_method",
    "instance",
    "_Feature"
   ],
   "window_display": false
  }
 },
 "nbformat": 4,
 "nbformat_minor": 2
}
