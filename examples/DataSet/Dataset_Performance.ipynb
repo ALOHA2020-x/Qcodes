{
 "cells": [
  {
   "cell_type": "markdown",
   "metadata": {},
   "source": [
    "# DataSet Performance\n",
    "\n",
    "This notebook shows the trade-off between inserting data into a database row-by-row and as binary blobs. Inserting the data row-by-row means that we have direct access to all the data and may perform queries directly on the values of the data. On the other hand, as we shall see, this is much slower than inserting the data directly as binary blobs."
   ]
  },
  {
   "cell_type": "markdown",
   "metadata": {},
   "source": [
    "First, we choose a new location for the database to ensure that we don't add a bunch of benchmarking data to the default one."
   ]
  },
  {
   "cell_type": "code",
   "execution_count": 1,
   "metadata": {
    "execution": {
     "iopub.execute_input": "2021-04-26T08:32:23.226807Z",
     "iopub.status.busy": "2021-04-26T08:32:23.223998Z",
     "iopub.status.idle": "2021-04-26T08:32:24.631122Z",
     "shell.execute_reply": "2021-04-26T08:32:24.630363Z"
    }
   },
   "outputs": [
    {
     "name": "stdout",
     "output_type": "stream",
     "text": [
      "Logging hadn't been started.\n",
      "Activating auto-logging. Current session state plus future input saved.\n",
      "Filename       : /home/runner/.qcodes/logs/command_history.log\n",
      "Mode           : append\n",
      "Output logging : True\n",
      "Raw input log  : False\n",
      "Timestamping   : True\n",
      "State          : active\n"
     ]
    },
    {
     "name": "stdout",
     "output_type": "stream",
     "text": [
      "Qcodes Logfile : /home/runner/.qcodes/logs/210426-4560-qcodes.log\n"
     ]
    }
   ],
   "source": [
    "import os\n",
    "cwd = os.getcwd()\n",
    "import qcodes as qc\n",
    "qc.config[\"core\"][\"db_location\"] = os.path.join(cwd, 'testing.db')\n"
   ]
  },
  {
   "cell_type": "code",
   "execution_count": 2,
   "metadata": {
    "execution": {
     "iopub.execute_input": "2021-04-26T08:32:24.639439Z",
     "iopub.status.busy": "2021-04-26T08:32:24.638050Z",
     "iopub.status.idle": "2021-04-26T08:32:24.883467Z",
     "shell.execute_reply": "2021-04-26T08:32:24.883976Z"
    }
   },
   "outputs": [],
   "source": [
    "%matplotlib inline\n",
    "import time\n",
    "import matplotlib.pyplot as plt\n",
    "import numpy as np\n",
    "\n",
    "import qcodes as qc\n",
    "from qcodes.instrument.parameter import ManualParameter\n",
    "from qcodes.dataset.experiment_container import (Experiment,\n",
    "                                                 load_last_experiment,\n",
    "                                                 new_experiment)\n",
    "from qcodes.dataset.sqlite.database import initialise_database\n",
    "from qcodes import load_or_create_experiment\n",
    "from qcodes.dataset.measurements import Measurement"
   ]
  },
  {
   "cell_type": "code",
   "execution_count": 3,
   "metadata": {
    "execution": {
     "iopub.execute_input": "2021-04-26T08:32:24.888363Z",
     "iopub.status.busy": "2021-04-26T08:32:24.887687Z",
     "iopub.status.idle": "2021-04-26T08:32:25.026406Z",
     "shell.execute_reply": "2021-04-26T08:32:25.027099Z"
    }
   },
   "outputs": [
    {
     "name": "stdout",
     "output_type": "stream",
     "text": [
      "\r",
      "0it [00:00, ?it/s]"
     ]
    },
    {
     "name": "stdout",
     "output_type": "stream",
     "text": [
      "\r",
      "Upgrading database; v0 -> v1: : 0it [00:00, ?it/s]"
     ]
    },
    {
     "name": "stdout",
     "output_type": "stream",
     "text": [
      "\r",
      "Upgrading database; v0 -> v1: : 0it [00:00, ?it/s]"
     ]
    },
    {
     "name": "stdout",
     "output_type": "stream",
     "text": [
      "\n",
      "\r",
      "  0%|          | 0/1 [00:00<?, ?it/s]"
     ]
    },
    {
     "name": "stdout",
     "output_type": "stream",
     "text": [
      "\r",
      "Upgrading database; v1 -> v2:   0%|          | 0/1 [00:00<?, ?it/s]"
     ]
    },
    {
     "name": "stdout",
     "output_type": "stream",
     "text": [
      "\r",
      "Upgrading database; v1 -> v2: 100%|██████████| 1/1 [00:00<00:00, 487.99it/s]"
     ]
    },
    {
     "name": "stdout",
     "output_type": "stream",
     "text": [
      "\n",
      "\r",
      "0it [00:00, ?it/s]"
     ]
    },
    {
     "name": "stdout",
     "output_type": "stream",
     "text": [
      "\r",
      "Upgrading database; v2 -> v3: : 0it [00:00, ?it/s]"
     ]
    },
    {
     "name": "stdout",
     "output_type": "stream",
     "text": [
      "\r",
      "Upgrading database; v2 -> v3: : 0it [00:00, ?it/s]"
     ]
    },
    {
     "name": "stdout",
     "output_type": "stream",
     "text": [
      "\n",
      "\r",
      "0it [00:00, ?it/s]"
     ]
    },
    {
     "name": "stdout",
     "output_type": "stream",
     "text": [
      "\r",
      "Upgrading database; v3 -> v4: : 0it [00:00, ?it/s]"
     ]
    },
    {
     "name": "stdout",
     "output_type": "stream",
     "text": [
      "\r",
      "Upgrading database; v3 -> v4: : 0it [00:00, ?it/s]"
     ]
    },
    {
     "name": "stdout",
     "output_type": "stream",
     "text": [
      "\n",
      "\r",
      "  0%|          | 0/1 [00:00<?, ?it/s]"
     ]
    },
    {
     "name": "stdout",
     "output_type": "stream",
     "text": [
      "\r",
      "Upgrading database; v4 -> v5:   0%|          | 0/1 [00:00<?, ?it/s]"
     ]
    },
    {
     "name": "stdout",
     "output_type": "stream",
     "text": [
      "\r",
      "Upgrading database; v4 -> v5: 100%|██████████| 1/1 [00:00<00:00, 312.10it/s]"
     ]
    },
    {
     "name": "stdout",
     "output_type": "stream",
     "text": [
      "\n",
      "\r",
      "0it [00:00, ?it/s]"
     ]
    },
    {
     "name": "stdout",
     "output_type": "stream",
     "text": [
      "\r",
      "Upgrading database; v5 -> v6: : 0it [00:00, ?it/s]"
     ]
    },
    {
     "name": "stdout",
     "output_type": "stream",
     "text": [
      "\r",
      "Upgrading database; v5 -> v6: : 0it [00:00, ?it/s]"
     ]
    },
    {
     "name": "stdout",
     "output_type": "stream",
     "text": [
      "\n",
      "\r",
      "  0%|          | 0/1 [00:00<?, ?it/s]"
     ]
    },
    {
     "name": "stdout",
     "output_type": "stream",
     "text": [
      "\r",
      "Upgrading database; v6 -> v7:   0%|          | 0/1 [00:00<?, ?it/s]"
     ]
    },
    {
     "name": "stdout",
     "output_type": "stream",
     "text": [
      "\r",
      "Upgrading database; v6 -> v7: 100%|██████████| 1/1 [00:00<00:00, 362.70it/s]"
     ]
    },
    {
     "name": "stdout",
     "output_type": "stream",
     "text": [
      "\n",
      "\r",
      "  0%|          | 0/1 [00:00<?, ?it/s]"
     ]
    },
    {
     "name": "stdout",
     "output_type": "stream",
     "text": [
      "\r",
      "Upgrading database; v7 -> v8:   0%|          | 0/1 [00:00<?, ?it/s]"
     ]
    },
    {
     "name": "stdout",
     "output_type": "stream",
     "text": [
      "\r",
      "Upgrading database; v7 -> v8: 100%|██████████| 1/1 [00:00<00:00, 425.64it/s]"
     ]
    },
    {
     "name": "stdout",
     "output_type": "stream",
     "text": [
      "\n",
      "\r",
      "  0%|          | 0/1 [00:00<?, ?it/s]"
     ]
    },
    {
     "name": "stdout",
     "output_type": "stream",
     "text": [
      "\r",
      "Upgrading database; v8 -> v9:   0%|          | 0/1 [00:00<?, ?it/s]"
     ]
    },
    {
     "name": "stdout",
     "output_type": "stream",
     "text": [
      "\r",
      "Upgrading database; v8 -> v9: 100%|██████████| 1/1 [00:00<00:00, 922.64it/s]"
     ]
    },
    {
     "name": "stdout",
     "output_type": "stream",
     "text": [
      "\n"
     ]
    }
   ],
   "source": [
    "initialise_database()\n",
    "exp = load_or_create_experiment(experiment_name='tutorial_exp', sample_name=\"no sample\")"
   ]
  },
  {
   "cell_type": "markdown",
   "metadata": {},
   "source": [
    "Here, we define a simple function to benchmark the time it takes to insert n points with either numeric or array data type.\n",
    "We will compare both the time used to call ``add_result`` and the time used for the full measurement."
   ]
  },
  {
   "cell_type": "code",
   "execution_count": 4,
   "metadata": {
    "execution": {
     "iopub.execute_input": "2021-04-26T08:32:25.038518Z",
     "iopub.status.busy": "2021-04-26T08:32:25.036864Z",
     "iopub.status.idle": "2021-04-26T08:32:25.039317Z",
     "shell.execute_reply": "2021-04-26T08:32:25.039906Z"
    }
   },
   "outputs": [],
   "source": [
    "def insert_data(paramtype, npoints, nreps=1):\n",
    "\n",
    "    meas = Measurement(exp=exp)\n",
    "\n",
    "    x1 = ManualParameter('x1')\n",
    "    x2 = ManualParameter('x2')\n",
    "    x3 = ManualParameter('x3')\n",
    "    y1 = ManualParameter('y1')\n",
    "    y2 = ManualParameter('y2')\n",
    "\n",
    "    meas.register_parameter(x1, paramtype=paramtype)\n",
    "    meas.register_parameter(x2, paramtype=paramtype)\n",
    "    meas.register_parameter(x3, paramtype=paramtype)\n",
    "    meas.register_parameter(y1, setpoints=[x1, x2, x3],\n",
    "                            paramtype=paramtype)\n",
    "    meas.register_parameter(y2, setpoints=[x1, x2, x3],\n",
    "                            paramtype=paramtype)\n",
    "    start = time.perf_counter()\n",
    "    with meas.run() as datasaver:\n",
    "        start_adding = time.perf_counter()\n",
    "        for i in range(nreps):\n",
    "            datasaver.add_result((x1, np.random.rand(npoints)),\n",
    "                                 (x2, np.random.rand(npoints)),\n",
    "                                 (x3, np.random.rand(npoints)),\n",
    "                                 (y1, np.random.rand(npoints)),\n",
    "                                 (y2, np.random.rand(npoints)))\n",
    "        stop_adding = time.perf_counter()\n",
    "        run_id = datasaver.run_id\n",
    "    stop = time.perf_counter()\n",
    "    tot_time = stop - start\n",
    "    add_time = stop_adding - start_adding\n",
    "    return tot_time, add_time, run_id"
   ]
  },
  {
   "cell_type": "markdown",
   "metadata": {},
   "source": [
    "## Comparison between numeric/array data and binary blob"
   ]
  },
  {
   "cell_type": "markdown",
   "metadata": {},
   "source": [
    "### Case1: Short experiment time"
   ]
  },
  {
   "cell_type": "code",
   "execution_count": 5,
   "metadata": {
    "execution": {
     "iopub.execute_input": "2021-04-26T08:32:25.049416Z",
     "iopub.status.busy": "2021-04-26T08:32:25.048777Z",
     "iopub.status.idle": "2021-04-26T08:32:25.950804Z",
     "shell.execute_reply": "2021-04-26T08:32:25.949753Z"
    }
   },
   "outputs": [
    {
     "name": "stdout",
     "output_type": "stream",
     "text": [
      "Starting experimental run with id: 1. \n",
      "Starting experimental run with id: 2. \n",
      "Starting experimental run with id: 3. \n"
     ]
    },
    {
     "name": "stdout",
     "output_type": "stream",
     "text": [
      "Starting experimental run with id: 4. \n"
     ]
    },
    {
     "name": "stdout",
     "output_type": "stream",
     "text": [
      "Starting experimental run with id: 5. \n"
     ]
    },
    {
     "name": "stdout",
     "output_type": "stream",
     "text": [
      "Starting experimental run with id: 6. \n",
      "Starting experimental run with id: 7. \n"
     ]
    },
    {
     "name": "stdout",
     "output_type": "stream",
     "text": [
      "Starting experimental run with id: 8. \n"
     ]
    },
    {
     "name": "stdout",
     "output_type": "stream",
     "text": [
      "Starting experimental run with id: 9. \n"
     ]
    },
    {
     "name": "stdout",
     "output_type": "stream",
     "text": [
      "Starting experimental run with id: 10. \n",
      "Starting experimental run with id: 11. \n"
     ]
    },
    {
     "name": "stdout",
     "output_type": "stream",
     "text": [
      "Starting experimental run with id: 12. \n"
     ]
    },
    {
     "name": "stdout",
     "output_type": "stream",
     "text": [
      "Starting experimental run with id: 13. \n"
     ]
    },
    {
     "name": "stdout",
     "output_type": "stream",
     "text": [
      "Starting experimental run with id: 14. \n"
     ]
    }
   ],
   "source": [
    "sizes = [1,500,1000,2000,3000,4000,5000]\n",
    "t_numeric = []\n",
    "t_numeric_add = []\n",
    "t_array = []\n",
    "t_array_add = []\n",
    "for size in sizes:\n",
    "    tn, tna, run_id_n =  insert_data('numeric', size)\n",
    "    t_numeric.append(tn)\n",
    "    t_numeric_add.append(tna)\n",
    "\n",
    "    ta, taa, run_id_a =  insert_data('array', size)\n",
    "    t_array.append(ta)\n",
    "    t_array_add.append(taa)"
   ]
  },
  {
   "cell_type": "code",
   "execution_count": 6,
   "metadata": {
    "execution": {
     "iopub.execute_input": "2021-04-26T08:32:25.991651Z",
     "iopub.status.busy": "2021-04-26T08:32:25.987704Z",
     "iopub.status.idle": "2021-04-26T08:32:26.232624Z",
     "shell.execute_reply": "2021-04-26T08:32:26.233220Z"
    }
   },
   "outputs": [
    {
     "data": {
      "image/png": "[encoded data removed]",
      "text/plain": [
       "<Figure size 432x288 with 1 Axes>"
      ]
     },
     "metadata": {
      "needs_background": "light"
     },
     "output_type": "display_data"
    }
   ],
   "source": [
    "fig, ax = plt.subplots(1,1)\n",
    "ax.plot(sizes, t_numeric, 'o-', label='Inserting row-by-row')\n",
    "ax.plot(sizes, t_numeric_add, 'o-', label='Inserting row-by-row: add_result only')\n",
    "ax.plot(sizes, t_array, 'd-', label='Inserting as binary blob')\n",
    "ax.plot(sizes, t_array_add, 'd-', label='Inserting as binary blob: add_result only')\n",
    "ax.legend()\n",
    "ax.set_xlabel('Array length')\n",
    "ax.set_ylabel('Time (s)')\n",
    "fig.tight_layout()"
   ]
  },
  {
   "cell_type": "markdown",
   "metadata": {},
   "source": [
    "As shown in the latter figure, the time to setup and and close the experiment is approximately 0.4 sec. In case of small array sizes, the difference between inserting values of data as arrays and inserting them row-by-row is relatively unimportant. At larger array sizes, i.e. above 10000 points, the cost of writing data as individual datapoints starts to become important.\n"
   ]
  },
  {
   "cell_type": "markdown",
   "metadata": {},
   "source": [
    "### Case2: Long experiment time "
   ]
  },
  {
   "cell_type": "code",
   "execution_count": 7,
   "metadata": {
    "execution": {
     "iopub.execute_input": "2021-04-26T08:32:26.241619Z",
     "iopub.status.busy": "2021-04-26T08:32:26.240333Z",
     "iopub.status.idle": "2021-04-26T08:33:26.094209Z",
     "shell.execute_reply": "2021-04-26T08:33:26.094695Z"
    }
   },
   "outputs": [
    {
     "name": "stdout",
     "output_type": "stream",
     "text": [
      "Starting experimental run with id: 15. \n",
      "Starting experimental run with id: 16. \n"
     ]
    },
    {
     "name": "stdout",
     "output_type": "stream",
     "text": [
      "Starting experimental run with id: 17. \n"
     ]
    },
    {
     "name": "stdout",
     "output_type": "stream",
     "text": [
      "Starting experimental run with id: 18. \n"
     ]
    },
    {
     "name": "stdout",
     "output_type": "stream",
     "text": [
      "Starting experimental run with id: 19. \n"
     ]
    },
    {
     "name": "stdout",
     "output_type": "stream",
     "text": [
      "Starting experimental run with id: 20. \n"
     ]
    },
    {
     "name": "stdout",
     "output_type": "stream",
     "text": [
      "Starting experimental run with id: 21. \n"
     ]
    },
    {
     "name": "stdout",
     "output_type": "stream",
     "text": [
      "Starting experimental run with id: 22. \n"
     ]
    },
    {
     "name": "stdout",
     "output_type": "stream",
     "text": [
      "Starting experimental run with id: 23. \n"
     ]
    },
    {
     "name": "stdout",
     "output_type": "stream",
     "text": [
      "Starting experimental run with id: 24. \n"
     ]
    },
    {
     "name": "stdout",
     "output_type": "stream",
     "text": [
      "Starting experimental run with id: 25. \n"
     ]
    },
    {
     "name": "stdout",
     "output_type": "stream",
     "text": [
      "Starting experimental run with id: 26. \n"
     ]
    },
    {
     "name": "stdout",
     "output_type": "stream",
     "text": [
      "Starting experimental run with id: 27. \n"
     ]
    },
    {
     "name": "stdout",
     "output_type": "stream",
     "text": [
      "Starting experimental run with id: 28. \n"
     ]
    }
   ],
   "source": [
    "sizes = [1,500,1000,2000,3000,4000,5000]\n",
    "nreps = 100\n",
    "t_numeric = []\n",
    "t_numeric_add = []\n",
    "t_numeric_run_ids = []\n",
    "t_array = []\n",
    "t_array_add = []\n",
    "t_array_run_ids = []\n",
    "for size in sizes:\n",
    "    tn, tna, run_id_n =  insert_data('numeric', size, nreps=nreps)\n",
    "    t_numeric.append(tn)\n",
    "    t_numeric_add.append(tna)\n",
    "    t_numeric_run_ids.append(run_id_n)\n",
    "\n",
    "    ta, taa, run_id_a =  insert_data('array', size, nreps=nreps)\n",
    "    t_array.append(ta)\n",
    "    t_array_add.append(taa)\n",
    "    t_array_run_ids.append(run_id_a)"
   ]
  },
  {
   "cell_type": "code",
   "execution_count": 8,
   "metadata": {
    "execution": {
     "iopub.execute_input": "2021-04-26T08:33:26.123374Z",
     "iopub.status.busy": "2021-04-26T08:33:26.100720Z",
     "iopub.status.idle": "2021-04-26T08:33:26.330939Z",
     "shell.execute_reply": "2021-04-26T08:33:26.330226Z"
    },
    "scrolled": true
   },
   "outputs": [
    {
     "data": {
      "image/png": "[encoded data removed]",
      "text/plain": [
       "<Figure size 432x288 with 1 Axes>"
      ]
     },
     "metadata": {
      "needs_background": "light"
     },
     "output_type": "display_data"
    }
   ],
   "source": [
    "fig, ax = plt.subplots(1,1)\n",
    "ax.plot(sizes, t_numeric, 'o-', label='Inserting row-by-row')\n",
    "ax.plot(sizes, t_numeric_add, 'o-', label='Inserting row-by-row: add_result only')\n",
    "ax.plot(sizes, t_array, 'd-', label='Inserting as binary blob')\n",
    "ax.plot(sizes, t_array_add, 'd-', label='Inserting as binary blob: add_result only')\n",
    "ax.legend()\n",
    "ax.set_xlabel('Array length')\n",
    "ax.set_ylabel('Time (s)')\n",
    "fig.tight_layout()"
   ]
  },
  {
   "cell_type": "markdown",
   "metadata": {},
   "source": [
    "However, as we increase the length of the experiment, as seen here by repeating the insertion 100 times, we see a big difference between inserting values of the data row-by-row and inserting it as a binary blob."
   ]
  },
  {
   "cell_type": "markdown",
   "metadata": {},
   "source": [
    "## Loading the data "
   ]
  },
  {
   "cell_type": "code",
   "execution_count": 9,
   "metadata": {
    "execution": {
     "iopub.execute_input": "2021-04-26T08:33:26.336268Z",
     "iopub.status.busy": "2021-04-26T08:33:26.335159Z",
     "iopub.status.idle": "2021-04-26T08:33:26.337568Z",
     "shell.execute_reply": "2021-04-26T08:33:26.338182Z"
    }
   },
   "outputs": [],
   "source": [
    "from qcodes.dataset.data_set import load_by_id"
   ]
  },
  {
   "cell_type": "markdown",
   "metadata": {},
   "source": [
    "As usual you can load the data by using the ``load_by_id`` function but you will notice that the different storage methods\n",
    "are reflected in shape of the data as it is retrieved. "
   ]
  },
  {
   "cell_type": "code",
   "execution_count": 10,
   "metadata": {
    "execution": {
     "iopub.execute_input": "2021-04-26T08:33:26.342945Z",
     "iopub.status.busy": "2021-04-26T08:33:26.341717Z",
     "iopub.status.idle": "2021-04-26T08:33:26.344123Z",
     "shell.execute_reply": "2021-04-26T08:33:26.344616Z"
    }
   },
   "outputs": [],
   "source": [
    "run_id_n = t_numeric_run_ids[0]\n",
    "run_id_a = t_array_run_ids[0]"
   ]
  },
  {
   "cell_type": "code",
   "execution_count": 11,
   "metadata": {
    "execution": {
     "iopub.execute_input": "2021-04-26T08:33:26.348561Z",
     "iopub.status.busy": "2021-04-26T08:33:26.347736Z",
     "iopub.status.idle": "2021-04-26T08:33:26.358667Z",
     "shell.execute_reply": "2021-04-26T08:33:26.359224Z"
    },
    "scrolled": true
   },
   "outputs": [
    {
     "data": {
      "text/plain": [
       "{'x1': {'x1': array([0.35111764, 0.35111764, 0.25826738, 0.25826738, 0.78020083,\n",
       "         0.78020083, 0.45664037, 0.45664037, 0.48709207, 0.48709207,\n",
       "         0.67018731, 0.67018731, 0.09561018, 0.09561018, 0.55674303,\n",
       "         0.55674303, 0.7695443 , 0.7695443 , 0.25743141, 0.25743141,\n",
       "         0.67242175, 0.67242175, 0.16438771, 0.16438771, 0.900037  ,\n",
       "         0.900037  , 0.8857549 , 0.8857549 , 0.58374117, 0.58374117,\n",
       "         0.94858923, 0.94858923, 0.09199743, 0.09199743, 0.0959662 ,\n",
       "         0.0959662 , 0.8182748 , 0.8182748 , 0.77573844, 0.77573844,\n",
       "         0.9347318 , 0.9347318 , 0.18253667, 0.18253667, 0.31404522,\n",
       "         0.31404522, 0.23488473, 0.23488473, 0.81257658, 0.81257658,\n",
       "         0.15937897, 0.15937897, 0.9613821 , 0.9613821 , 0.79202604,\n",
       "         0.79202604, 0.20909657, 0.20909657, 0.5057449 , 0.5057449 ,\n",
       "         0.08597912, 0.08597912, 0.82778778, 0.82778778, 0.53081028,\n",
       "         0.53081028, 0.7705419 , 0.7705419 , 0.95196687, 0.95196687,\n",
       "         0.93803848, 0.93803848, 0.60211235, 0.60211235, 0.51588163,\n",
       "         0.51588163, 0.56340251, 0.56340251, 0.94603518, 0.94603518,\n",
       "         0.83055563, 0.83055563, 0.90977582, 0.90977582, 0.18964676,\n",
       "         0.18964676, 0.13781307, 0.13781307, 0.26386348, 0.26386348,\n",
       "         0.73416003, 0.73416003, 0.68916062, 0.68916062, 0.66881609,\n",
       "         0.66881609, 0.74491758, 0.74491758, 0.25518183, 0.25518183,\n",
       "         0.85241639, 0.85241639, 0.02581305, 0.02581305, 0.93090986,\n",
       "         0.93090986, 0.10983559, 0.10983559, 0.83928768, 0.83928768,\n",
       "         0.17681385, 0.17681385, 0.50077252, 0.50077252, 0.40821873,\n",
       "         0.40821873, 0.82202818, 0.82202818, 0.23087672, 0.23087672,\n",
       "         0.27441731, 0.27441731, 0.10068674, 0.10068674, 0.18316344,\n",
       "         0.18316344, 0.65831413, 0.65831413, 0.14216012, 0.14216012,\n",
       "         0.51851941, 0.51851941, 0.32045281, 0.32045281, 0.22378869,\n",
       "         0.22378869, 0.03996587, 0.03996587, 0.69654336, 0.69654336,\n",
       "         0.06589772, 0.06589772, 0.14093554, 0.14093554, 0.38207424,\n",
       "         0.38207424, 0.76373843, 0.76373843, 0.95107311, 0.95107311,\n",
       "         0.16611009, 0.16611009, 0.70398847, 0.70398847, 0.33004945,\n",
       "         0.33004945, 0.93587764, 0.93587764, 0.68977668, 0.68977668,\n",
       "         0.85498266, 0.85498266, 0.63466945, 0.63466945, 0.60193406,\n",
       "         0.60193406, 0.9115424 , 0.9115424 , 0.98096231, 0.98096231,\n",
       "         0.06010589, 0.06010589, 0.18350835, 0.18350835, 0.88424679,\n",
       "         0.88424679, 0.81323524, 0.81323524, 0.98788701, 0.98788701,\n",
       "         0.27033533, 0.27033533, 0.95141505, 0.95141505, 0.84346293,\n",
       "         0.84346293, 0.90351171, 0.90351171, 0.83690163, 0.83690163,\n",
       "         0.30289639, 0.30289639, 0.36669773, 0.36669773, 0.2356026 ,\n",
       "         0.2356026 , 0.60038544, 0.60038544, 0.99671748, 0.99671748])}}"
      ]
     },
     "execution_count": 1,
     "metadata": {},
     "output_type": "execute_result"
    }
   ],
   "source": [
    "ds = load_by_id(run_id_n)\n",
    "ds.get_parameter_data('x1')"
   ]
  },
  {
   "cell_type": "markdown",
   "metadata": {},
   "source": [
    "And a dataset stored as binary arrays"
   ]
  },
  {
   "cell_type": "code",
   "execution_count": 12,
   "metadata": {
    "execution": {
     "iopub.execute_input": "2021-04-26T08:33:26.363227Z",
     "iopub.status.busy": "2021-04-26T08:33:26.362626Z",
     "iopub.status.idle": "2021-04-26T08:33:26.431688Z",
     "shell.execute_reply": "2021-04-26T08:33:26.431084Z"
    },
    "scrolled": true
   },
   "outputs": [
    {
     "data": {
      "text/plain": [
       "{'x1': {'x1': array([[0.083234  ],\n",
       "         [0.083234  ],\n",
       "         [0.26612346],\n",
       "         [0.26612346],\n",
       "         [0.86069252],\n",
       "         [0.86069252],\n",
       "         [0.72974424],\n",
       "         [0.72974424],\n",
       "         [0.39056997],\n",
       "         [0.39056997],\n",
       "         [0.41446552],\n",
       "         [0.41446552],\n",
       "         [0.02853874],\n",
       "         [0.02853874],\n",
       "         [0.60415193],\n",
       "         [0.60415193],\n",
       "         [0.07228868],\n",
       "         [0.07228868],\n",
       "         [0.85476008],\n",
       "         [0.85476008],\n",
       "         [0.5350477 ],\n",
       "         [0.5350477 ],\n",
       "         [0.58583693],\n",
       "         [0.58583693],\n",
       "         [0.42790734],\n",
       "         [0.42790734],\n",
       "         [0.04738976],\n",
       "         [0.04738976],\n",
       "         [0.01587602],\n",
       "         [0.01587602],\n",
       "         [0.83795543],\n",
       "         [0.83795543],\n",
       "         [0.58170173],\n",
       "         [0.58170173],\n",
       "         [0.29821111],\n",
       "         [0.29821111],\n",
       "         [0.44378799],\n",
       "         [0.44378799],\n",
       "         [0.75735069],\n",
       "         [0.75735069],\n",
       "         [0.49281178],\n",
       "         [0.49281178],\n",
       "         [0.29028948],\n",
       "         [0.29028948],\n",
       "         [0.00781175],\n",
       "         [0.00781175],\n",
       "         [0.08790694],\n",
       "         [0.08790694],\n",
       "         [0.23539505],\n",
       "         [0.23539505],\n",
       "         [0.62018569],\n",
       "         [0.62018569],\n",
       "         [0.96423685],\n",
       "         [0.96423685],\n",
       "         [0.51207306],\n",
       "         [0.51207306],\n",
       "         [0.4742516 ],\n",
       "         [0.4742516 ],\n",
       "         [0.60226874],\n",
       "         [0.60226874],\n",
       "         [0.89847314],\n",
       "         [0.89847314],\n",
       "         [0.94543737],\n",
       "         [0.94543737],\n",
       "         [0.72381014],\n",
       "         [0.72381014],\n",
       "         [0.88594732],\n",
       "         [0.88594732],\n",
       "         [0.22233815],\n",
       "         [0.22233815],\n",
       "         [0.83957634],\n",
       "         [0.83957634],\n",
       "         [0.31187167],\n",
       "         [0.31187167],\n",
       "         [0.95878429],\n",
       "         [0.95878429],\n",
       "         [0.20291785],\n",
       "         [0.20291785],\n",
       "         [0.7370927 ],\n",
       "         [0.7370927 ],\n",
       "         [0.46530821],\n",
       "         [0.46530821],\n",
       "         [0.84158839],\n",
       "         [0.84158839],\n",
       "         [0.23678667],\n",
       "         [0.23678667],\n",
       "         [0.96581129],\n",
       "         [0.96581129],\n",
       "         [0.45444522],\n",
       "         [0.45444522],\n",
       "         [0.9832218 ],\n",
       "         [0.9832218 ],\n",
       "         [0.59691934],\n",
       "         [0.59691934],\n",
       "         [0.04356848],\n",
       "         [0.04356848],\n",
       "         [0.9820258 ],\n",
       "         [0.9820258 ],\n",
       "         [0.25854649],\n",
       "         [0.25854649],\n",
       "         [0.74021939],\n",
       "         [0.74021939],\n",
       "         [0.39384307],\n",
       "         [0.39384307],\n",
       "         [0.14381104],\n",
       "         [0.14381104],\n",
       "         [0.57020468],\n",
       "         [0.57020468],\n",
       "         [0.59180373],\n",
       "         [0.59180373],\n",
       "         [0.11613616],\n",
       "         [0.11613616],\n",
       "         [0.553023  ],\n",
       "         [0.553023  ],\n",
       "         [0.35234126],\n",
       "         [0.35234126],\n",
       "         [0.6675216 ],\n",
       "         [0.6675216 ],\n",
       "         [0.98570123],\n",
       "         [0.98570123],\n",
       "         [0.93344308],\n",
       "         [0.93344308],\n",
       "         [0.34808697],\n",
       "         [0.34808697],\n",
       "         [0.51544847],\n",
       "         [0.51544847],\n",
       "         [0.69075865],\n",
       "         [0.69075865],\n",
       "         [0.65418758],\n",
       "         [0.65418758],\n",
       "         [0.07796538],\n",
       "         [0.07796538],\n",
       "         [0.75848628],\n",
       "         [0.75848628],\n",
       "         [0.0546582 ],\n",
       "         [0.0546582 ],\n",
       "         [0.260908  ],\n",
       "         [0.260908  ],\n",
       "         [0.46218411],\n",
       "         [0.46218411],\n",
       "         [0.89658402],\n",
       "         [0.89658402],\n",
       "         [0.79881911],\n",
       "         [0.79881911],\n",
       "         [0.58208577],\n",
       "         [0.58208577],\n",
       "         [0.66133635],\n",
       "         [0.66133635],\n",
       "         [0.89052525],\n",
       "         [0.89052525],\n",
       "         [0.58757394],\n",
       "         [0.58757394],\n",
       "         [0.28931436],\n",
       "         [0.28931436],\n",
       "         [0.01263152],\n",
       "         [0.01263152],\n",
       "         [0.72903457],\n",
       "         [0.72903457],\n",
       "         [0.1670483 ],\n",
       "         [0.1670483 ],\n",
       "         [0.83570112],\n",
       "         [0.83570112],\n",
       "         [0.92647961],\n",
       "         [0.92647961],\n",
       "         [0.94320535],\n",
       "         [0.94320535],\n",
       "         [0.46410884],\n",
       "         [0.46410884],\n",
       "         [0.58570311],\n",
       "         [0.58570311],\n",
       "         [0.84735327],\n",
       "         [0.84735327],\n",
       "         [0.24265238],\n",
       "         [0.24265238],\n",
       "         [0.13962119],\n",
       "         [0.13962119],\n",
       "         [0.89034284],\n",
       "         [0.89034284],\n",
       "         [0.65788947],\n",
       "         [0.65788947],\n",
       "         [0.52252554],\n",
       "         [0.52252554],\n",
       "         [0.86706747],\n",
       "         [0.86706747],\n",
       "         [0.38193353],\n",
       "         [0.38193353],\n",
       "         [0.22524592],\n",
       "         [0.22524592],\n",
       "         [0.7040089 ],\n",
       "         [0.7040089 ],\n",
       "         [0.70300533],\n",
       "         [0.70300533],\n",
       "         [0.40123389],\n",
       "         [0.40123389],\n",
       "         [0.80258392],\n",
       "         [0.80258392],\n",
       "         [0.62065911],\n",
       "         [0.62065911],\n",
       "         [0.97058623],\n",
       "         [0.97058623]])}}"
      ]
     },
     "execution_count": 1,
     "metadata": {},
     "output_type": "execute_result"
    }
   ],
   "source": [
    "ds = load_by_id(run_id_a)\n",
    "ds.get_parameter_data('x1')"
   ]
  },
  {
   "cell_type": "code",
   "execution_count": null,
   "metadata": {},
   "outputs": [],
   "source": []
  }
 ],
 "metadata": {
  "kernelspec": {
   "display_name": "Python 3",
   "language": "python",
   "name": "python3"
  },
  "language_info": {
   "codemirror_mode": {
    "name": "ipython",
    "version": 3
   },
   "file_extension": ".py",
   "mimetype": "text/x-python",
   "name": "python",
   "nbconvert_exporter": "python",
   "pygments_lexer": "ipython3",
   "version": "3.7.10"
  },
  "nbsphinx": {
   "timeout": 600
  },
  "toc": {
   "base_numbering": 1,
   "nav_menu": {},
   "number_sections": true,
   "sideBar": true,
   "skip_h1_title": false,
   "title_cell": "Table of Contents",
   "title_sidebar": "Contents",
   "toc_cell": false,
   "toc_position": {},
   "toc_section_display": true,
   "toc_window_display": false
  },
  "varInspector": {
   "cols": {
    "lenName": 16,
    "lenType": 16,
    "lenVar": 40
   },
   "kernels_config": {
    "python": {
     "delete_cmd_postfix": "",
     "delete_cmd_prefix": "del ",
     "library": "var_list.py",
     "varRefreshCmd": "print(var_dic_list())"
    },
    "r": {
     "delete_cmd_postfix": ") ",
     "delete_cmd_prefix": "rm(",
     "library": "var_list.r",
     "varRefreshCmd": "cat(var_dic_list()) "
    }
   },
   "types_to_exclude": [
    "module",
    "function",
    "builtin_function_or_method",
    "instance",
    "_Feature"
   ],
   "window_display": false
  }
 },
 "nbformat": 4,
 "nbformat_minor": 4
}
