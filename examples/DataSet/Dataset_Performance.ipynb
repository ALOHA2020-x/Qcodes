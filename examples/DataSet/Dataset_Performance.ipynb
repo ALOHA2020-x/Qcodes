{
 "cells": [
  {
   "cell_type": "markdown",
   "metadata": {},
   "source": [
    "# DataSet Performance\n",
    "\n",
    "This notebook shows the trade-off between inserting data into a database row-by-row and as binary blobs. Inserting the data row-by-row means that we have direct access to all the data and may perform queries directly on the values of the data. On the other hand, as we shall see, this is much slower than inserting the data directly as binary blobs."
   ]
  },
  {
   "cell_type": "markdown",
   "metadata": {},
   "source": [
    "First, we choose a new location for the database to ensure that we don't add a bunch of benchmarking data to the default one."
   ]
  },
  {
   "cell_type": "code",
   "execution_count": 1,
   "metadata": {
    "execution": {
     "iopub.execute_input": "2021-04-21T06:11:56.759617Z",
     "iopub.status.busy": "2021-04-21T06:11:56.758939Z",
     "iopub.status.idle": "2021-04-21T06:11:57.899072Z",
     "shell.execute_reply": "2021-04-21T06:11:57.897749Z"
    }
   },
   "outputs": [
    {
     "name": "stdout",
     "output_type": "stream",
     "text": [
      "Logging hadn't been started.\n",
      "Activating auto-logging. Current session state plus future input saved.\n",
      "Filename       : /home/runner/.qcodes/logs/command_history.log\n",
      "Mode           : append\n",
      "Output logging : True\n",
      "Raw input log  : False\n",
      "Timestamping   : True\n",
      "State          : active\n"
     ]
    },
    {
     "name": "stdout",
     "output_type": "stream",
     "text": [
      "Qcodes Logfile : /home/runner/.qcodes/logs/210421-4563-qcodes.log\n"
     ]
    }
   ],
   "source": [
    "import os\n",
    "cwd = os.getcwd()\n",
    "import qcodes as qc\n",
    "qc.config[\"core\"][\"db_location\"] = os.path.join(cwd, 'testing.db')\n"
   ]
  },
  {
   "cell_type": "code",
   "execution_count": 2,
   "metadata": {
    "execution": {
     "iopub.execute_input": "2021-04-21T06:11:57.907045Z",
     "iopub.status.busy": "2021-04-21T06:11:57.905953Z",
     "iopub.status.idle": "2021-04-21T06:11:58.160854Z",
     "shell.execute_reply": "2021-04-21T06:11:58.160290Z"
    }
   },
   "outputs": [],
   "source": [
    "%matplotlib inline\n",
    "import time\n",
    "import matplotlib.pyplot as plt\n",
    "import numpy as np\n",
    "\n",
    "import qcodes as qc\n",
    "from qcodes.instrument.parameter import ManualParameter\n",
    "from qcodes.dataset.experiment_container import (Experiment,\n",
    "                                                 load_last_experiment,\n",
    "                                                 new_experiment)\n",
    "from qcodes.dataset.sqlite.database import initialise_database\n",
    "from qcodes import load_or_create_experiment\n",
    "from qcodes.dataset.measurements import Measurement"
   ]
  },
  {
   "cell_type": "code",
   "execution_count": 3,
   "metadata": {
    "execution": {
     "iopub.execute_input": "2021-04-21T06:11:58.165060Z",
     "iopub.status.busy": "2021-04-21T06:11:58.164456Z",
     "iopub.status.idle": "2021-04-21T06:11:58.233176Z",
     "shell.execute_reply": "2021-04-21T06:11:58.232653Z"
    }
   },
   "outputs": [
    {
     "name": "stdout",
     "output_type": "stream",
     "text": [
      "\r",
      "0it [00:00, ?it/s]"
     ]
    },
    {
     "name": "stdout",
     "output_type": "stream",
     "text": [
      "\r",
      "Upgrading database; v0 -> v1: : 0it [00:00, ?it/s]"
     ]
    },
    {
     "name": "stdout",
     "output_type": "stream",
     "text": [
      "\r",
      "Upgrading database; v0 -> v1: : 0it [00:00, ?it/s]"
     ]
    },
    {
     "name": "stdout",
     "output_type": "stream",
     "text": [
      "\n",
      "\r",
      "  0%|          | 0/1 [00:00<?, ?it/s]"
     ]
    },
    {
     "name": "stdout",
     "output_type": "stream",
     "text": [
      "\r",
      "Upgrading database; v1 -> v2:   0%|          | 0/1 [00:00<?, ?it/s]"
     ]
    },
    {
     "name": "stdout",
     "output_type": "stream",
     "text": [
      "\r",
      "Upgrading database; v1 -> v2: 100%|██████████| 1/1 [00:00<00:00, 506.86it/s]"
     ]
    },
    {
     "name": "stdout",
     "output_type": "stream",
     "text": [
      "\n",
      "\r",
      "0it [00:00, ?it/s]"
     ]
    },
    {
     "name": "stdout",
     "output_type": "stream",
     "text": [
      "\r",
      "Upgrading database; v2 -> v3: : 0it [00:00, ?it/s]"
     ]
    },
    {
     "name": "stdout",
     "output_type": "stream",
     "text": [
      "\r",
      "Upgrading database; v2 -> v3: : 0it [00:00, ?it/s]"
     ]
    },
    {
     "name": "stdout",
     "output_type": "stream",
     "text": [
      "\n",
      "\r",
      "0it [00:00, ?it/s]"
     ]
    },
    {
     "name": "stdout",
     "output_type": "stream",
     "text": [
      "\r",
      "Upgrading database; v3 -> v4: : 0it [00:00, ?it/s]"
     ]
    },
    {
     "name": "stdout",
     "output_type": "stream",
     "text": [
      "\r",
      "Upgrading database; v3 -> v4: : 0it [00:00, ?it/s]"
     ]
    },
    {
     "name": "stdout",
     "output_type": "stream",
     "text": [
      "\n",
      "\r",
      "  0%|          | 0/1 [00:00<?, ?it/s]"
     ]
    },
    {
     "name": "stdout",
     "output_type": "stream",
     "text": [
      "\r",
      "Upgrading database; v4 -> v5:   0%|          | 0/1 [00:00<?, ?it/s]"
     ]
    },
    {
     "name": "stdout",
     "output_type": "stream",
     "text": [
      "\r",
      "Upgrading database; v4 -> v5: 100%|██████████| 1/1 [00:00<00:00, 586.45it/s]"
     ]
    },
    {
     "name": "stdout",
     "output_type": "stream",
     "text": [
      "\n",
      "\r",
      "0it [00:00, ?it/s]"
     ]
    },
    {
     "name": "stdout",
     "output_type": "stream",
     "text": [
      "\r",
      "Upgrading database; v5 -> v6: : 0it [00:00, ?it/s]"
     ]
    },
    {
     "name": "stdout",
     "output_type": "stream",
     "text": [
      "\r",
      "Upgrading database; v5 -> v6: : 0it [00:00, ?it/s]"
     ]
    },
    {
     "name": "stdout",
     "output_type": "stream",
     "text": [
      "\n",
      "\r",
      "  0%|          | 0/1 [00:00<?, ?it/s]"
     ]
    },
    {
     "name": "stdout",
     "output_type": "stream",
     "text": [
      "\r",
      "Upgrading database; v6 -> v7:   0%|          | 0/1 [00:00<?, ?it/s]"
     ]
    },
    {
     "name": "stdout",
     "output_type": "stream",
     "text": [
      "\r",
      "Upgrading database; v6 -> v7: 100%|██████████| 1/1 [00:00<00:00, 460.36it/s]"
     ]
    },
    {
     "name": "stdout",
     "output_type": "stream",
     "text": [
      "\n",
      "\r",
      "  0%|          | 0/1 [00:00<?, ?it/s]"
     ]
    },
    {
     "name": "stdout",
     "output_type": "stream",
     "text": [
      "\r",
      "Upgrading database; v7 -> v8:   0%|          | 0/1 [00:00<?, ?it/s]"
     ]
    },
    {
     "name": "stdout",
     "output_type": "stream",
     "text": [
      "\r",
      "Upgrading database; v7 -> v8: 100%|██████████| 1/1 [00:00<00:00, 980.44it/s]"
     ]
    },
    {
     "name": "stdout",
     "output_type": "stream",
     "text": [
      "\n",
      "\r",
      "  0%|          | 0/1 [00:00<?, ?it/s]"
     ]
    },
    {
     "name": "stdout",
     "output_type": "stream",
     "text": [
      "\r",
      "Upgrading database; v8 -> v9:   0%|          | 0/1 [00:00<?, ?it/s]"
     ]
    },
    {
     "name": "stdout",
     "output_type": "stream",
     "text": [
      "\r",
      "Upgrading database; v8 -> v9: 100%|██████████| 1/1 [00:00<00:00, 495.25it/s]"
     ]
    },
    {
     "name": "stdout",
     "output_type": "stream",
     "text": [
      "\n"
     ]
    }
   ],
   "source": [
    "initialise_database()\n",
    "exp = load_or_create_experiment(experiment_name='tutorial_exp', sample_name=\"no sample\")"
   ]
  },
  {
   "cell_type": "markdown",
   "metadata": {},
   "source": [
    "Here, we define a simple function to benchmark the time it takes to insert n points with either numeric or array data type.\n",
    "We will compare both the time used to call ``add_result`` and the time used for the full measurement."
   ]
  },
  {
   "cell_type": "code",
   "execution_count": 4,
   "metadata": {
    "execution": {
     "iopub.execute_input": "2021-04-21T06:11:58.243233Z",
     "iopub.status.busy": "2021-04-21T06:11:58.242001Z",
     "iopub.status.idle": "2021-04-21T06:11:58.243890Z",
     "shell.execute_reply": "2021-04-21T06:11:58.244390Z"
    }
   },
   "outputs": [],
   "source": [
    "def insert_data(paramtype, npoints, nreps=1):\n",
    "\n",
    "    meas = Measurement(exp=exp)\n",
    "\n",
    "    x1 = ManualParameter('x1')\n",
    "    x2 = ManualParameter('x2')\n",
    "    x3 = ManualParameter('x3')\n",
    "    y1 = ManualParameter('y1')\n",
    "    y2 = ManualParameter('y2')\n",
    "\n",
    "    meas.register_parameter(x1, paramtype=paramtype)\n",
    "    meas.register_parameter(x2, paramtype=paramtype)\n",
    "    meas.register_parameter(x3, paramtype=paramtype)\n",
    "    meas.register_parameter(y1, setpoints=[x1, x2, x3],\n",
    "                            paramtype=paramtype)\n",
    "    meas.register_parameter(y2, setpoints=[x1, x2, x3],\n",
    "                            paramtype=paramtype)\n",
    "    start = time.perf_counter()\n",
    "    with meas.run() as datasaver:\n",
    "        start_adding = time.perf_counter()\n",
    "        for i in range(nreps):\n",
    "            datasaver.add_result((x1, np.random.rand(npoints)),\n",
    "                                 (x2, np.random.rand(npoints)),\n",
    "                                 (x3, np.random.rand(npoints)),\n",
    "                                 (y1, np.random.rand(npoints)),\n",
    "                                 (y2, np.random.rand(npoints)))\n",
    "        stop_adding = time.perf_counter()\n",
    "        run_id = datasaver.run_id\n",
    "    stop = time.perf_counter()\n",
    "    tot_time = stop - start\n",
    "    add_time = stop_adding - start_adding\n",
    "    return tot_time, add_time, run_id"
   ]
  },
  {
   "cell_type": "markdown",
   "metadata": {},
   "source": [
    "## Comparison between numeric/array data and binary blob"
   ]
  },
  {
   "cell_type": "markdown",
   "metadata": {},
   "source": [
    "### Case1: Short experiment time"
   ]
  },
  {
   "cell_type": "code",
   "execution_count": 5,
   "metadata": {
    "execution": {
     "iopub.execute_input": "2021-04-21T06:11:58.251761Z",
     "iopub.status.busy": "2021-04-21T06:11:58.251089Z",
     "iopub.status.idle": "2021-04-21T06:11:59.138090Z",
     "shell.execute_reply": "2021-04-21T06:11:59.139082Z"
    }
   },
   "outputs": [
    {
     "name": "stdout",
     "output_type": "stream",
     "text": [
      "Starting experimental run with id: 1. \n",
      "Starting experimental run with id: 2. \n",
      "Starting experimental run with id: 3. \n",
      "Starting experimental run with id: 4. \n",
      "Starting experimental run with id: 5. \n"
     ]
    },
    {
     "name": "stdout",
     "output_type": "stream",
     "text": [
      "Starting experimental run with id: 6. "
     ]
    },
    {
     "name": "stdout",
     "output_type": "stream",
     "text": [
      "\n"
     ]
    },
    {
     "name": "stdout",
     "output_type": "stream",
     "text": [
      "Starting experimental run with id: 7. \n"
     ]
    },
    {
     "name": "stdout",
     "output_type": "stream",
     "text": [
      "Starting experimental run with id: 8. \n",
      "Starting experimental run with id: 9. \n"
     ]
    },
    {
     "name": "stdout",
     "output_type": "stream",
     "text": [
      "Starting experimental run with id: 10. \n",
      "Starting experimental run with id: 11. \n"
     ]
    },
    {
     "name": "stdout",
     "output_type": "stream",
     "text": [
      "Starting experimental run with id: 12. \n",
      "Starting experimental run with id: 13. \n"
     ]
    },
    {
     "name": "stdout",
     "output_type": "stream",
     "text": [
      "Starting experimental run with id: 14. \n"
     ]
    }
   ],
   "source": [
    "sizes = [1,500,1000,2000,3000,4000,5000]\n",
    "t_numeric = []\n",
    "t_numeric_add = []\n",
    "t_array = []\n",
    "t_array_add = []\n",
    "for size in sizes:\n",
    "    tn, tna, run_id_n =  insert_data('numeric', size)\n",
    "    t_numeric.append(tn)\n",
    "    t_numeric_add.append(tna)\n",
    "\n",
    "    ta, taa, run_id_a =  insert_data('array', size)\n",
    "    t_array.append(ta)\n",
    "    t_array_add.append(taa)"
   ]
  },
  {
   "cell_type": "code",
   "execution_count": 6,
   "metadata": {
    "execution": {
     "iopub.execute_input": "2021-04-21T06:11:59.145842Z",
     "iopub.status.busy": "2021-04-21T06:11:59.143775Z",
     "iopub.status.idle": "2021-04-21T06:11:59.345110Z",
     "shell.execute_reply": "2021-04-21T06:11:59.345567Z"
    }
   },
   "outputs": [
    {
     "data": {
      "image/png": "[encoded data removed]",
      "text/plain": [
       "<Figure size 432x288 with 1 Axes>"
      ]
     },
     "metadata": {
      "needs_background": "light"
     },
     "output_type": "display_data"
    }
   ],
   "source": [
    "fig, ax = plt.subplots(1,1)\n",
    "ax.plot(sizes, t_numeric, 'o-', label='Inserting row-by-row')\n",
    "ax.plot(sizes, t_numeric_add, 'o-', label='Inserting row-by-row: add_result only')\n",
    "ax.plot(sizes, t_array, 'd-', label='Inserting as binary blob')\n",
    "ax.plot(sizes, t_array_add, 'd-', label='Inserting as binary blob: add_result only')\n",
    "ax.legend()\n",
    "ax.set_xlabel('Array length')\n",
    "ax.set_ylabel('Time (s)')\n",
    "fig.tight_layout()"
   ]
  },
  {
   "cell_type": "markdown",
   "metadata": {},
   "source": [
    "As shown in the latter figure, the time to setup and and close the experiment is approximately 0.4 sec. In case of small array sizes, the difference between inserting values of data as arrays and inserting them row-by-row is relatively unimportant. At larger array sizes, i.e. above 10000 points, the cost of writing data as individual datapoints starts to become important.\n"
   ]
  },
  {
   "cell_type": "markdown",
   "metadata": {},
   "source": [
    "### Case2: Long experiment time "
   ]
  },
  {
   "cell_type": "code",
   "execution_count": 7,
   "metadata": {
    "execution": {
     "iopub.execute_input": "2021-04-21T06:11:59.348448Z",
     "iopub.status.busy": "2021-04-21T06:11:59.347847Z",
     "iopub.status.idle": "2021-04-21T06:12:56.604905Z",
     "shell.execute_reply": "2021-04-21T06:12:56.605386Z"
    }
   },
   "outputs": [
    {
     "name": "stdout",
     "output_type": "stream",
     "text": [
      "Starting experimental run with id: 15. \n",
      "Starting experimental run with id: 16. \n",
      "Starting experimental run with id: 17. \n"
     ]
    },
    {
     "name": "stdout",
     "output_type": "stream",
     "text": [
      "Starting experimental run with id: 18. \n",
      "Starting experimental run with id: 19. \n"
     ]
    },
    {
     "name": "stdout",
     "output_type": "stream",
     "text": [
      "Starting experimental run with id: 20. \n"
     ]
    },
    {
     "name": "stdout",
     "output_type": "stream",
     "text": [
      "Starting experimental run with id: 21. \n"
     ]
    },
    {
     "name": "stdout",
     "output_type": "stream",
     "text": [
      "Starting experimental run with id: 22. \n"
     ]
    },
    {
     "name": "stdout",
     "output_type": "stream",
     "text": [
      "Starting experimental run with id: 23. \n"
     ]
    },
    {
     "name": "stdout",
     "output_type": "stream",
     "text": [
      "Starting experimental run with id: 24. \n"
     ]
    },
    {
     "name": "stdout",
     "output_type": "stream",
     "text": [
      "Starting experimental run with id: 25. \n"
     ]
    },
    {
     "name": "stdout",
     "output_type": "stream",
     "text": [
      "Starting experimental run with id: 26. \n"
     ]
    },
    {
     "name": "stdout",
     "output_type": "stream",
     "text": [
      "Starting experimental run with id: 27. \n"
     ]
    },
    {
     "name": "stdout",
     "output_type": "stream",
     "text": [
      "Starting experimental run with id: 28. \n"
     ]
    }
   ],
   "source": [
    "sizes = [1,500,1000,2000,3000,4000,5000]\n",
    "nreps = 100\n",
    "t_numeric = []\n",
    "t_numeric_add = []\n",
    "t_numeric_run_ids = []\n",
    "t_array = []\n",
    "t_array_add = []\n",
    "t_array_run_ids = []\n",
    "for size in sizes:\n",
    "    tn, tna, run_id_n =  insert_data('numeric', size, nreps=nreps)\n",
    "    t_numeric.append(tn)\n",
    "    t_numeric_add.append(tna)\n",
    "    t_numeric_run_ids.append(run_id_n)\n",
    "\n",
    "    ta, taa, run_id_a =  insert_data('array', size, nreps=nreps)\n",
    "    t_array.append(ta)\n",
    "    t_array_add.append(taa)\n",
    "    t_array_run_ids.append(run_id_a)"
   ]
  },
  {
   "cell_type": "code",
   "execution_count": 8,
   "metadata": {
    "execution": {
     "iopub.execute_input": "2021-04-21T06:12:56.625318Z",
     "iopub.status.busy": "2021-04-21T06:12:56.611256Z",
     "iopub.status.idle": "2021-04-21T06:12:56.795061Z",
     "shell.execute_reply": "2021-04-21T06:12:56.795842Z"
    },
    "scrolled": true
   },
   "outputs": [
    {
     "data": {
      "image/png": "[encoded data removed]",
      "text/plain": [
       "<Figure size 432x288 with 1 Axes>"
      ]
     },
     "metadata": {
      "needs_background": "light"
     },
     "output_type": "display_data"
    }
   ],
   "source": [
    "fig, ax = plt.subplots(1,1)\n",
    "ax.plot(sizes, t_numeric, 'o-', label='Inserting row-by-row')\n",
    "ax.plot(sizes, t_numeric_add, 'o-', label='Inserting row-by-row: add_result only')\n",
    "ax.plot(sizes, t_array, 'd-', label='Inserting as binary blob')\n",
    "ax.plot(sizes, t_array_add, 'd-', label='Inserting as binary blob: add_result only')\n",
    "ax.legend()\n",
    "ax.set_xlabel('Array length')\n",
    "ax.set_ylabel('Time (s)')\n",
    "fig.tight_layout()"
   ]
  },
  {
   "cell_type": "markdown",
   "metadata": {},
   "source": [
    "However, as we increase the length of the experiment, as seen here by repeating the insertion 100 times, we see a big difference between inserting values of the data row-by-row and inserting it as a binary blob."
   ]
  },
  {
   "cell_type": "markdown",
   "metadata": {},
   "source": [
    "## Loading the data "
   ]
  },
  {
   "cell_type": "code",
   "execution_count": 9,
   "metadata": {
    "execution": {
     "iopub.execute_input": "2021-04-21T06:12:56.800835Z",
     "iopub.status.busy": "2021-04-21T06:12:56.798502Z",
     "iopub.status.idle": "2021-04-21T06:12:56.803188Z",
     "shell.execute_reply": "2021-04-21T06:12:56.803936Z"
    }
   },
   "outputs": [],
   "source": [
    "from qcodes.dataset.data_set import load_by_id"
   ]
  },
  {
   "cell_type": "markdown",
   "metadata": {},
   "source": [
    "As usual you can load the data by using the ``load_by_id`` function but you will notice that the different storage methods\n",
    "are reflected in shape of the data as it is retrieved. "
   ]
  },
  {
   "cell_type": "code",
   "execution_count": 10,
   "metadata": {
    "execution": {
     "iopub.execute_input": "2021-04-21T06:12:56.807192Z",
     "iopub.status.busy": "2021-04-21T06:12:56.806624Z",
     "iopub.status.idle": "2021-04-21T06:12:56.811409Z",
     "shell.execute_reply": "2021-04-21T06:12:56.810898Z"
    }
   },
   "outputs": [],
   "source": [
    "run_id_n = t_numeric_run_ids[0]\n",
    "run_id_a = t_array_run_ids[0]"
   ]
  },
  {
   "cell_type": "code",
   "execution_count": 11,
   "metadata": {
    "execution": {
     "iopub.execute_input": "2021-04-21T06:12:56.815294Z",
     "iopub.status.busy": "2021-04-21T06:12:56.814726Z",
     "iopub.status.idle": "2021-04-21T06:12:56.827349Z",
     "shell.execute_reply": "2021-04-21T06:12:56.826306Z"
    },
    "scrolled": true
   },
   "outputs": [
    {
     "data": {
      "text/plain": [
       "{'x1': {'x1': array([0.40357844, 0.40357844, 0.39389518, 0.39389518, 0.62393315,\n",
       "         0.62393315, 0.74003612, 0.74003612, 0.86998481, 0.86998481,\n",
       "         0.85477816, 0.85477816, 0.45446958, 0.45446958, 0.80934476,\n",
       "         0.80934476, 0.61713865, 0.61713865, 0.99300931, 0.99300931,\n",
       "         0.67209253, 0.67209253, 0.77789311, 0.77789311, 0.18284883,\n",
       "         0.18284883, 0.23929115, 0.23929115, 0.74248457, 0.74248457,\n",
       "         0.00942496, 0.00942496, 0.79179862, 0.79179862, 0.94770216,\n",
       "         0.94770216, 0.86979413, 0.86979413, 0.53663232, 0.53663232,\n",
       "         0.40171178, 0.40171178, 0.80360091, 0.80360091, 0.84538505,\n",
       "         0.84538505, 0.98944204, 0.98944204, 0.94144306, 0.94144306,\n",
       "         0.09058658, 0.09058658, 0.52489464, 0.52489464, 0.64603114,\n",
       "         0.64603114, 0.30577189, 0.30577189, 0.86934656, 0.86934656,\n",
       "         0.71485063, 0.71485063, 0.61824492, 0.61824492, 0.41514783,\n",
       "         0.41514783, 0.66712669, 0.66712669, 0.76298268, 0.76298268,\n",
       "         0.88262546, 0.88262546, 0.55086552, 0.55086552, 0.07632126,\n",
       "         0.07632126, 0.59424913, 0.59424913, 0.16297926, 0.16297926,\n",
       "         0.29464244, 0.29464244, 0.92540163, 0.92540163, 0.6441767 ,\n",
       "         0.6441767 , 0.68784104, 0.68784104, 0.13585153, 0.13585153,\n",
       "         0.33655504, 0.33655504, 0.12570857, 0.12570857, 0.86533109,\n",
       "         0.86533109, 0.09993193, 0.09993193, 0.0459662 , 0.0459662 ,\n",
       "         0.05008739, 0.05008739, 0.83808025, 0.83808025, 0.03033596,\n",
       "         0.03033596, 0.47123179, 0.47123179, 0.51392468, 0.51392468,\n",
       "         0.26517289, 0.26517289, 0.12372375, 0.12372375, 0.29808038,\n",
       "         0.29808038, 0.06647952, 0.06647952, 0.85744064, 0.85744064,\n",
       "         0.43302156, 0.43302156, 0.76495008, 0.76495008, 0.75556259,\n",
       "         0.75556259, 0.04682006, 0.04682006, 0.13862831, 0.13862831,\n",
       "         0.7648782 , 0.7648782 , 0.38949884, 0.38949884, 0.79550119,\n",
       "         0.79550119, 0.37562395, 0.37562395, 0.72343547, 0.72343547,\n",
       "         0.64535557, 0.64535557, 0.56801269, 0.56801269, 0.6925183 ,\n",
       "         0.6925183 , 0.55881336, 0.55881336, 0.49598838, 0.49598838,\n",
       "         0.39647686, 0.39647686, 0.43640802, 0.43640802, 0.12668446,\n",
       "         0.12668446, 0.37214459, 0.37214459, 0.66484113, 0.66484113,\n",
       "         0.33925052, 0.33925052, 0.38157095, 0.38157095, 0.0048082 ,\n",
       "         0.0048082 , 0.96641823, 0.96641823, 0.04982151, 0.04982151,\n",
       "         0.37658673, 0.37658673, 0.49752321, 0.49752321, 0.48377249,\n",
       "         0.48377249, 0.03370758, 0.03370758, 0.78505142, 0.78505142,\n",
       "         0.99018689, 0.99018689, 0.10005439, 0.10005439, 0.20636913,\n",
       "         0.20636913, 0.96494802, 0.96494802, 0.65767667, 0.65767667,\n",
       "         0.77245495, 0.77245495, 0.14464315, 0.14464315, 0.42065224,\n",
       "         0.42065224, 0.64622155, 0.64622155, 0.72730558, 0.72730558])}}"
      ]
     },
     "execution_count": 1,
     "metadata": {},
     "output_type": "execute_result"
    }
   ],
   "source": [
    "ds = load_by_id(run_id_n)\n",
    "ds.get_parameter_data('x1')"
   ]
  },
  {
   "cell_type": "markdown",
   "metadata": {},
   "source": [
    "And a dataset stored as binary arrays"
   ]
  },
  {
   "cell_type": "code",
   "execution_count": 12,
   "metadata": {
    "execution": {
     "iopub.execute_input": "2021-04-21T06:12:56.831117Z",
     "iopub.status.busy": "2021-04-21T06:12:56.830552Z",
     "iopub.status.idle": "2021-04-21T06:12:56.890378Z",
     "shell.execute_reply": "2021-04-21T06:12:56.889848Z"
    },
    "scrolled": true
   },
   "outputs": [
    {
     "data": {
      "text/plain": [
       "{'x1': {'x1': array([[0.78799606],\n",
       "         [0.78799606],\n",
       "         [0.66856321],\n",
       "         [0.66856321],\n",
       "         [0.2454204 ],\n",
       "         [0.2454204 ],\n",
       "         [0.89009852],\n",
       "         [0.89009852],\n",
       "         [0.73531906],\n",
       "         [0.73531906],\n",
       "         [0.36358973],\n",
       "         [0.36358973],\n",
       "         [0.6706997 ],\n",
       "         [0.6706997 ],\n",
       "         [0.61496401],\n",
       "         [0.61496401],\n",
       "         [0.43299529],\n",
       "         [0.43299529],\n",
       "         [0.84459847],\n",
       "         [0.84459847],\n",
       "         [0.99528373],\n",
       "         [0.99528373],\n",
       "         [0.80784946],\n",
       "         [0.80784946],\n",
       "         [0.54049228],\n",
       "         [0.54049228],\n",
       "         [0.2502371 ],\n",
       "         [0.2502371 ],\n",
       "         [0.76682127],\n",
       "         [0.76682127],\n",
       "         [0.80438957],\n",
       "         [0.80438957],\n",
       "         [0.88205638],\n",
       "         [0.88205638],\n",
       "         [0.47538017],\n",
       "         [0.47538017],\n",
       "         [0.23903534],\n",
       "         [0.23903534],\n",
       "         [0.73260122],\n",
       "         [0.73260122],\n",
       "         [0.86933364],\n",
       "         [0.86933364],\n",
       "         [0.06914054],\n",
       "         [0.06914054],\n",
       "         [0.0179512 ],\n",
       "         [0.0179512 ],\n",
       "         [0.253061  ],\n",
       "         [0.253061  ],\n",
       "         [0.03320976],\n",
       "         [0.03320976],\n",
       "         [0.11820914],\n",
       "         [0.11820914],\n",
       "         [0.41946195],\n",
       "         [0.41946195],\n",
       "         [0.63454994],\n",
       "         [0.63454994],\n",
       "         [0.34355007],\n",
       "         [0.34355007],\n",
       "         [0.0450045 ],\n",
       "         [0.0450045 ],\n",
       "         [0.71041916],\n",
       "         [0.71041916],\n",
       "         [0.96651434],\n",
       "         [0.96651434],\n",
       "         [0.34398269],\n",
       "         [0.34398269],\n",
       "         [0.42042441],\n",
       "         [0.42042441],\n",
       "         [0.21612378],\n",
       "         [0.21612378],\n",
       "         [0.88388538],\n",
       "         [0.88388538],\n",
       "         [0.83882093],\n",
       "         [0.83882093],\n",
       "         [0.24810296],\n",
       "         [0.24810296],\n",
       "         [0.20631773],\n",
       "         [0.20631773],\n",
       "         [0.23572222],\n",
       "         [0.23572222],\n",
       "         [0.4958614 ],\n",
       "         [0.4958614 ],\n",
       "         [0.88483308],\n",
       "         [0.88483308],\n",
       "         [0.25303825],\n",
       "         [0.25303825],\n",
       "         [0.47212408],\n",
       "         [0.47212408],\n",
       "         [0.70643153],\n",
       "         [0.70643153],\n",
       "         [0.84361051],\n",
       "         [0.84361051],\n",
       "         [0.61539985],\n",
       "         [0.61539985],\n",
       "         [0.27474391],\n",
       "         [0.27474391],\n",
       "         [0.91144234],\n",
       "         [0.91144234],\n",
       "         [0.24115465],\n",
       "         [0.24115465],\n",
       "         [0.17834361],\n",
       "         [0.17834361],\n",
       "         [0.03773782],\n",
       "         [0.03773782],\n",
       "         [0.11096355],\n",
       "         [0.11096355],\n",
       "         [0.03397175],\n",
       "         [0.03397175],\n",
       "         [0.49768047],\n",
       "         [0.49768047],\n",
       "         [0.67348816],\n",
       "         [0.67348816],\n",
       "         [0.49204199],\n",
       "         [0.49204199],\n",
       "         [0.64796553],\n",
       "         [0.64796553],\n",
       "         [0.7014236 ],\n",
       "         [0.7014236 ],\n",
       "         [0.30423847],\n",
       "         [0.30423847],\n",
       "         [0.18029381],\n",
       "         [0.18029381],\n",
       "         [0.60422857],\n",
       "         [0.60422857],\n",
       "         [0.95785876],\n",
       "         [0.95785876],\n",
       "         [0.97816003],\n",
       "         [0.97816003],\n",
       "         [0.14543993],\n",
       "         [0.14543993],\n",
       "         [0.39063292],\n",
       "         [0.39063292],\n",
       "         [0.84567655],\n",
       "         [0.84567655],\n",
       "         [0.6246305 ],\n",
       "         [0.6246305 ],\n",
       "         [0.67143869],\n",
       "         [0.67143869],\n",
       "         [0.31540819],\n",
       "         [0.31540819],\n",
       "         [0.81628126],\n",
       "         [0.81628126],\n",
       "         [0.36066004],\n",
       "         [0.36066004],\n",
       "         [0.5262784 ],\n",
       "         [0.5262784 ],\n",
       "         [0.02875199],\n",
       "         [0.02875199],\n",
       "         [0.17615898],\n",
       "         [0.17615898],\n",
       "         [0.626265  ],\n",
       "         [0.626265  ],\n",
       "         [0.15022115],\n",
       "         [0.15022115],\n",
       "         [0.99513467],\n",
       "         [0.99513467],\n",
       "         [0.46346627],\n",
       "         [0.46346627],\n",
       "         [0.30640953],\n",
       "         [0.30640953],\n",
       "         [0.70335349],\n",
       "         [0.70335349],\n",
       "         [0.92171376],\n",
       "         [0.92171376],\n",
       "         [0.87586883],\n",
       "         [0.87586883],\n",
       "         [0.67381769],\n",
       "         [0.67381769],\n",
       "         [0.92783169],\n",
       "         [0.92783169],\n",
       "         [0.33470844],\n",
       "         [0.33470844],\n",
       "         [0.95250032],\n",
       "         [0.95250032],\n",
       "         [0.57105463],\n",
       "         [0.57105463],\n",
       "         [0.1351647 ],\n",
       "         [0.1351647 ],\n",
       "         [0.17507215],\n",
       "         [0.17507215],\n",
       "         [0.34856188],\n",
       "         [0.34856188],\n",
       "         [0.52670943],\n",
       "         [0.52670943],\n",
       "         [0.17276931],\n",
       "         [0.17276931],\n",
       "         [0.03573503],\n",
       "         [0.03573503],\n",
       "         [0.44288268],\n",
       "         [0.44288268],\n",
       "         [0.53691123],\n",
       "         [0.53691123],\n",
       "         [0.941288  ],\n",
       "         [0.941288  ],\n",
       "         [0.45048076],\n",
       "         [0.45048076],\n",
       "         [0.26411086],\n",
       "         [0.26411086],\n",
       "         [0.07687938],\n",
       "         [0.07687938]])}}"
      ]
     },
     "execution_count": 1,
     "metadata": {},
     "output_type": "execute_result"
    }
   ],
   "source": [
    "ds = load_by_id(run_id_a)\n",
    "ds.get_parameter_data('x1')"
   ]
  },
  {
   "cell_type": "code",
   "execution_count": null,
   "metadata": {},
   "outputs": [],
   "source": []
  }
 ],
 "metadata": {
  "kernelspec": {
   "display_name": "Python 3",
   "language": "python",
   "name": "python3"
  },
  "language_info": {
   "codemirror_mode": {
    "name": "ipython",
    "version": 3
   },
   "file_extension": ".py",
   "mimetype": "text/x-python",
   "name": "python",
   "nbconvert_exporter": "python",
   "pygments_lexer": "ipython3",
   "version": "3.7.10"
  },
  "nbsphinx": {
   "timeout": 600
  },
  "toc": {
   "base_numbering": 1,
   "nav_menu": {},
   "number_sections": true,
   "sideBar": true,
   "skip_h1_title": false,
   "title_cell": "Table of Contents",
   "title_sidebar": "Contents",
   "toc_cell": false,
   "toc_position": {},
   "toc_section_display": true,
   "toc_window_display": false
  },
  "varInspector": {
   "cols": {
    "lenName": 16,
    "lenType": 16,
    "lenVar": 40
   },
   "kernels_config": {
    "python": {
     "delete_cmd_postfix": "",
     "delete_cmd_prefix": "del ",
     "library": "var_list.py",
     "varRefreshCmd": "print(var_dic_list())"
    },
    "r": {
     "delete_cmd_postfix": ") ",
     "delete_cmd_prefix": "rm(",
     "library": "var_list.r",
     "varRefreshCmd": "cat(var_dic_list()) "
    }
   },
   "types_to_exclude": [
    "module",
    "function",
    "builtin_function_or_method",
    "instance",
    "_Feature"
   ],
   "window_display": false
  }
 },
 "nbformat": 4,
 "nbformat_minor": 4
}
