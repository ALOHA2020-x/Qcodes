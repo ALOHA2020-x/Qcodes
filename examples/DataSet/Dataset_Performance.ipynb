{
 "cells": [
  {
   "cell_type": "markdown",
   "metadata": {},
   "source": [
    "# DataSet Performance\n",
    "\n",
    "This notebook shows the trade-off between inserting data into a database row-by-row and as binary blobs. Inserting the data row-by-row means that we have direct access to all the data and may perform queries directly on the values of the data. On the other hand, as we shall see, this is much slower than inserting the data directly as binary blobs."
   ]
  },
  {
   "cell_type": "markdown",
   "metadata": {},
   "source": [
    "First, we choose a new location for the database to ensure that we don't add a bunch of benchmarking data to the default one."
   ]
  },
  {
   "cell_type": "code",
   "execution_count": 1,
   "metadata": {
    "execution": {
     "iopub.execute_input": "2020-11-13T10:19:51.153100Z",
     "iopub.status.busy": "2020-11-13T10:19:51.152598Z",
     "iopub.status.idle": "2020-11-13T10:19:51.978555Z",
     "shell.execute_reply": "2020-11-13T10:19:51.977618Z"
    }
   },
   "outputs": [
    {
     "name": "stdout",
     "output_type": "stream",
     "text": [
      "Logging hadn't been started.\n",
      "Activating auto-logging. Current session state plus future input saved.\n",
      "Filename       : /home/vsts/.qcodes/logs/command_history.log\n",
      "Mode           : append\n",
      "Output logging : True\n",
      "Raw input log  : False\n",
      "Timestamping   : True\n",
      "State          : active\n"
     ]
    },
    {
     "name": "stdout",
     "output_type": "stream",
     "text": [
      "Qcodes Logfile : /home/vsts/.qcodes/logs/201113-14743-qcodes.log\n"
     ]
    }
   ],
   "source": [
    "import os\n",
    "cwd = os.getcwd()\n",
    "import qcodes as qc\n",
    "qc.config[\"core\"][\"db_location\"] = os.path.join(cwd, 'testing.db')\n"
   ]
  },
  {
   "cell_type": "code",
   "execution_count": 2,
   "metadata": {
    "execution": {
     "iopub.execute_input": "2020-11-13T10:19:51.984545Z",
     "iopub.status.busy": "2020-11-13T10:19:51.984130Z",
     "iopub.status.idle": "2020-11-13T10:19:52.133991Z",
     "shell.execute_reply": "2020-11-13T10:19:52.133184Z"
    }
   },
   "outputs": [],
   "source": [
    "%matplotlib inline\n",
    "import time\n",
    "import matplotlib.pyplot as plt\n",
    "import numpy as np\n",
    "\n",
    "import qcodes as qc\n",
    "from qcodes.instrument.parameter import ManualParameter\n",
    "from qcodes.dataset.experiment_container import (Experiment,\n",
    "                                                 load_last_experiment,\n",
    "                                                 new_experiment)\n",
    "from qcodes.dataset.sqlite.database import initialise_database\n",
    "from qcodes import load_or_create_experiment\n",
    "from qcodes.dataset.measurements import Measurement"
   ]
  },
  {
   "cell_type": "code",
   "execution_count": 3,
   "metadata": {
    "execution": {
     "iopub.execute_input": "2020-11-13T10:19:52.137372Z",
     "iopub.status.busy": "2020-11-13T10:19:52.136833Z",
     "iopub.status.idle": "2020-11-13T10:19:52.227777Z",
     "shell.execute_reply": "2020-11-13T10:19:52.227283Z"
    }
   },
   "outputs": [
    {
     "name": "stdout",
     "output_type": "stream",
     "text": [
      "\r",
      "0it [00:00, ?it/s]"
     ]
    },
    {
     "name": "stdout",
     "output_type": "stream",
     "text": [
      "\r",
      "Upgrading database; v0 -> v1: : 0it [00:00, ?it/s]"
     ]
    },
    {
     "name": "stdout",
     "output_type": "stream",
     "text": [
      "\r",
      "Upgrading database; v0 -> v1: : 0it [00:00, ?it/s]"
     ]
    },
    {
     "name": "stdout",
     "output_type": "stream",
     "text": [
      "\n",
      "\r",
      "  0%|          | 0/1 [00:00<?, ?it/s]"
     ]
    },
    {
     "name": "stdout",
     "output_type": "stream",
     "text": [
      "\r",
      "Upgrading database; v1 -> v2:   0%|          | 0/1 [00:00<?, ?it/s]"
     ]
    },
    {
     "name": "stdout",
     "output_type": "stream",
     "text": [
      "\r",
      "Upgrading database; v1 -> v2: 100%|██████████| 1/1 [00:00<00:00, 564.13it/s]"
     ]
    },
    {
     "name": "stdout",
     "output_type": "stream",
     "text": [
      "\n",
      "\r",
      "0it [00:00, ?it/s]"
     ]
    },
    {
     "name": "stdout",
     "output_type": "stream",
     "text": [
      "\r",
      "Upgrading database; v2 -> v3: : 0it [00:00, ?it/s]"
     ]
    },
    {
     "name": "stdout",
     "output_type": "stream",
     "text": [
      "\r",
      "Upgrading database; v2 -> v3: : 0it [00:00, ?it/s]"
     ]
    },
    {
     "name": "stdout",
     "output_type": "stream",
     "text": [
      "\n",
      "\r",
      "0it [00:00, ?it/s]"
     ]
    },
    {
     "name": "stdout",
     "output_type": "stream",
     "text": [
      "\r",
      "Upgrading database; v3 -> v4: : 0it [00:00, ?it/s]"
     ]
    },
    {
     "name": "stdout",
     "output_type": "stream",
     "text": [
      "\r",
      "Upgrading database; v3 -> v4: : 0it [00:00, ?it/s]"
     ]
    },
    {
     "name": "stdout",
     "output_type": "stream",
     "text": [
      "\n",
      "\r",
      "  0%|          | 0/1 [00:00<?, ?it/s]"
     ]
    },
    {
     "name": "stdout",
     "output_type": "stream",
     "text": [
      "\r",
      "Upgrading database; v4 -> v5:   0%|          | 0/1 [00:00<?, ?it/s]"
     ]
    },
    {
     "name": "stdout",
     "output_type": "stream",
     "text": [
      "\r",
      "Upgrading database; v4 -> v5: 100%|██████████| 1/1 [00:00<00:00, 1220.69it/s]"
     ]
    },
    {
     "name": "stdout",
     "output_type": "stream",
     "text": [
      "\n",
      "\r",
      "0it [00:00, ?it/s]"
     ]
    },
    {
     "name": "stdout",
     "output_type": "stream",
     "text": [
      "\r",
      "Upgrading database; v5 -> v6: : 0it [00:00, ?it/s]"
     ]
    },
    {
     "name": "stdout",
     "output_type": "stream",
     "text": [
      "\r",
      "Upgrading database; v5 -> v6: : 0it [00:00, ?it/s]"
     ]
    },
    {
     "name": "stdout",
     "output_type": "stream",
     "text": [
      "\n",
      "\r",
      "  0%|          | 0/1 [00:00<?, ?it/s]"
     ]
    },
    {
     "name": "stdout",
     "output_type": "stream",
     "text": [
      "\r",
      "Upgrading database; v6 -> v7:   0%|          | 0/1 [00:00<?, ?it/s]"
     ]
    },
    {
     "name": "stdout",
     "output_type": "stream",
     "text": [
      "\r",
      "Upgrading database; v6 -> v7: 100%|██████████| 1/1 [00:00<00:00, 400.95it/s]"
     ]
    },
    {
     "name": "stdout",
     "output_type": "stream",
     "text": [
      "\n",
      "\r",
      "  0%|          | 0/1 [00:00<?, ?it/s]"
     ]
    },
    {
     "name": "stdout",
     "output_type": "stream",
     "text": [
      "\r",
      "Upgrading database; v7 -> v8:   0%|          | 0/1 [00:00<?, ?it/s]"
     ]
    },
    {
     "name": "stdout",
     "output_type": "stream",
     "text": [
      "\r",
      "Upgrading database; v7 -> v8: 100%|██████████| 1/1 [00:00<00:00, 496.31it/s]"
     ]
    },
    {
     "name": "stdout",
     "output_type": "stream",
     "text": [
      "\n",
      "\r",
      "  0%|          | 0/1 [00:00<?, ?it/s]"
     ]
    },
    {
     "name": "stdout",
     "output_type": "stream",
     "text": [
      "\r",
      "Upgrading database; v8 -> v9:   0%|          | 0/1 [00:00<?, ?it/s]"
     ]
    },
    {
     "name": "stdout",
     "output_type": "stream",
     "text": [
      "\r",
      "Upgrading database; v8 -> v9: 100%|██████████| 1/1 [00:00<00:00, 1314.83it/s]"
     ]
    },
    {
     "name": "stdout",
     "output_type": "stream",
     "text": [
      "\n"
     ]
    }
   ],
   "source": [
    "initialise_database()\n",
    "exp = load_or_create_experiment(experiment_name='tutorial_exp', sample_name=\"no sample\")"
   ]
  },
  {
   "cell_type": "markdown",
   "metadata": {},
   "source": [
    "Here, we define a simple function to benchmark the time it takes to insert n points with either numeric or array data type.\n",
    "We will compare both the time used to call ``add_result`` and the time used for the full measurement."
   ]
  },
  {
   "cell_type": "code",
   "execution_count": 4,
   "metadata": {
    "execution": {
     "iopub.execute_input": "2020-11-13T10:19:52.236198Z",
     "iopub.status.busy": "2020-11-13T10:19:52.235079Z",
     "iopub.status.idle": "2020-11-13T10:19:52.236662Z",
     "shell.execute_reply": "2020-11-13T10:19:52.236982Z"
    }
   },
   "outputs": [],
   "source": [
    "def insert_data(paramtype, npoints, nreps=1):\n",
    "\n",
    "    meas = Measurement(exp=exp)\n",
    "\n",
    "    x1 = ManualParameter('x1')\n",
    "    x2 = ManualParameter('x2')\n",
    "    x3 = ManualParameter('x3')\n",
    "    y1 = ManualParameter('y1')\n",
    "    y2 = ManualParameter('y2')\n",
    "\n",
    "    meas.register_parameter(x1, paramtype=paramtype)\n",
    "    meas.register_parameter(x2, paramtype=paramtype)\n",
    "    meas.register_parameter(x3, paramtype=paramtype)\n",
    "    meas.register_parameter(y1, setpoints=[x1, x2, x3],\n",
    "                            paramtype=paramtype)\n",
    "    meas.register_parameter(y2, setpoints=[x1, x2, x3],\n",
    "                            paramtype=paramtype)\n",
    "    start = time.perf_counter()\n",
    "    with meas.run() as datasaver:\n",
    "        start_adding = time.perf_counter()\n",
    "        for i in range(nreps):\n",
    "            datasaver.add_result((x1, np.random.rand(npoints)),\n",
    "                                 (x2, np.random.rand(npoints)),\n",
    "                                 (x3, np.random.rand(npoints)),\n",
    "                                 (y1, np.random.rand(npoints)),\n",
    "                                 (y2, np.random.rand(npoints)))\n",
    "        stop_adding = time.perf_counter()\n",
    "        run_id = datasaver.run_id\n",
    "    stop = time.perf_counter()\n",
    "    tot_time = stop - start\n",
    "    add_time = stop_adding - start_adding\n",
    "    return tot_time, add_time, run_id"
   ]
  },
  {
   "cell_type": "markdown",
   "metadata": {},
   "source": [
    "## Comparison between numeric/array data and binary blob"
   ]
  },
  {
   "cell_type": "markdown",
   "metadata": {},
   "source": [
    "### Case1: Short experiment time"
   ]
  },
  {
   "cell_type": "code",
   "execution_count": 5,
   "metadata": {
    "execution": {
     "iopub.execute_input": "2020-11-13T10:19:52.241624Z",
     "iopub.status.busy": "2020-11-13T10:19:52.240634Z",
     "iopub.status.idle": "2020-11-13T10:19:52.951314Z",
     "shell.execute_reply": "2020-11-13T10:19:52.950729Z"
    }
   },
   "outputs": [
    {
     "name": "stdout",
     "output_type": "stream",
     "text": [
      "Starting experimental run with id: 1. \n",
      "Starting experimental run with id: 2. \n",
      "Starting experimental run with id: 3. \n",
      "Starting experimental run with id: 4. \n",
      "Starting experimental run with id: 5. \n",
      "Starting experimental run with id: 6. \n",
      "Starting experimental run with id: 7. \n"
     ]
    },
    {
     "name": "stdout",
     "output_type": "stream",
     "text": [
      "Starting experimental run with id: 8. \n"
     ]
    },
    {
     "name": "stdout",
     "output_type": "stream",
     "text": [
      "Starting experimental run with id: 9. \n",
      "Starting experimental run with id: 10. \n",
      "Starting experimental run with id: 11. \n"
     ]
    },
    {
     "name": "stdout",
     "output_type": "stream",
     "text": [
      "Starting experimental run with id: 12. \n",
      "Starting experimental run with id: 13. \n"
     ]
    },
    {
     "name": "stdout",
     "output_type": "stream",
     "text": [
      "Starting experimental run with id: 14. \n"
     ]
    }
   ],
   "source": [
    "sizes = [1,500,1000,2000,3000,4000,5000]\n",
    "t_numeric = []\n",
    "t_numeric_add = []\n",
    "t_array = []\n",
    "t_array_add = []\n",
    "for size in sizes:\n",
    "    tn, tna, run_id_n =  insert_data('numeric', size)\n",
    "    t_numeric.append(tn)\n",
    "    t_numeric_add.append(tna)\n",
    "\n",
    "    ta, taa, run_id_a =  insert_data('array', size)\n",
    "    t_array.append(ta)\n",
    "    t_array_add.append(taa)"
   ]
  },
  {
   "cell_type": "code",
   "execution_count": 6,
   "metadata": {
    "execution": {
     "iopub.execute_input": "2020-11-13T10:19:52.977002Z",
     "iopub.status.busy": "2020-11-13T10:19:52.973759Z",
     "iopub.status.idle": "2020-11-13T10:19:53.122232Z",
     "shell.execute_reply": "2020-11-13T10:19:53.122803Z"
    }
   },
   "outputs": [
    {
     "data": {
      "image/png": "[encoded data removed]",
      "text/plain": [
       "<Figure size 432x288 with 1 Axes>"
      ]
     },
     "metadata": {
      "needs_background": "light"
     },
     "output_type": "display_data"
    }
   ],
   "source": [
    "fig, ax = plt.subplots(1,1)\n",
    "ax.plot(sizes, t_numeric, 'o-', label='Inserting row-by-row')\n",
    "ax.plot(sizes, t_numeric_add, 'o-', label='Inserting row-by-row: add_result only')\n",
    "ax.plot(sizes, t_array, 'd-', label='Inserting as binary blob')\n",
    "ax.plot(sizes, t_array_add, 'd-', label='Inserting as binary blob: add_result only')\n",
    "ax.legend()\n",
    "ax.set_xlabel('Array length')\n",
    "ax.set_ylabel('Time (s)')\n",
    "fig.tight_layout()"
   ]
  },
  {
   "cell_type": "markdown",
   "metadata": {},
   "source": [
    "As shown in the latter figure, the time to setup and and close the experiment is approximately 0.4 sec. In case of small array sizes, the difference between inserting values of data as arrays and inserting them row-by-row is relatively unimportant. At larger array sizes, i.e. above 10000 points, the cost of writing data as individual datapoints starts to become important.\n"
   ]
  },
  {
   "cell_type": "markdown",
   "metadata": {},
   "source": [
    "### Case2: Long experiment time "
   ]
  },
  {
   "cell_type": "code",
   "execution_count": 7,
   "metadata": {
    "execution": {
     "iopub.execute_input": "2020-11-13T10:19:53.128071Z",
     "iopub.status.busy": "2020-11-13T10:19:53.127673Z",
     "iopub.status.idle": "2020-11-13T10:20:41.300872Z",
     "shell.execute_reply": "2020-11-13T10:20:41.300381Z"
    }
   },
   "outputs": [
    {
     "name": "stdout",
     "output_type": "stream",
     "text": [
      "Starting experimental run with id: 15. \n",
      "Starting experimental run with id: 16. \n",
      "Starting experimental run with id: 17. \n"
     ]
    },
    {
     "name": "stdout",
     "output_type": "stream",
     "text": [
      "Starting experimental run with id: 18. \n",
      "Starting experimental run with id: 19. \n"
     ]
    },
    {
     "name": "stdout",
     "output_type": "stream",
     "text": [
      "Starting experimental run with id: 20. \n"
     ]
    },
    {
     "name": "stdout",
     "output_type": "stream",
     "text": [
      "Starting experimental run with id: 21. \n"
     ]
    },
    {
     "name": "stdout",
     "output_type": "stream",
     "text": [
      "Starting experimental run with id: 22. \n"
     ]
    },
    {
     "name": "stdout",
     "output_type": "stream",
     "text": [
      "Starting experimental run with id: 23. \n"
     ]
    },
    {
     "name": "stdout",
     "output_type": "stream",
     "text": [
      "Starting experimental run with id: 24. \n"
     ]
    },
    {
     "name": "stdout",
     "output_type": "stream",
     "text": [
      "Starting experimental run with id: 25. \n"
     ]
    },
    {
     "name": "stdout",
     "output_type": "stream",
     "text": [
      "Starting experimental run with id: 26. \n"
     ]
    },
    {
     "name": "stdout",
     "output_type": "stream",
     "text": [
      "Starting experimental run with id: 27. \n"
     ]
    },
    {
     "name": "stdout",
     "output_type": "stream",
     "text": [
      "Starting experimental run with id: 28. \n"
     ]
    }
   ],
   "source": [
    "sizes = [1,500,1000,2000,3000,4000,5000]\n",
    "nreps = 100\n",
    "t_numeric = []\n",
    "t_numeric_add = []\n",
    "t_numeric_run_ids = []\n",
    "t_array = []\n",
    "t_array_add = []\n",
    "t_array_run_ids = []\n",
    "for size in sizes:\n",
    "    tn, tna, run_id_n =  insert_data('numeric', size, nreps=nreps)\n",
    "    t_numeric.append(tn)\n",
    "    t_numeric_add.append(tna)\n",
    "    t_numeric_run_ids.append(run_id_n)\n",
    "\n",
    "    ta, taa, run_id_a =  insert_data('array', size, nreps=nreps)\n",
    "    t_array.append(ta)\n",
    "    t_array_add.append(taa)\n",
    "    t_array_run_ids.append(run_id_a)"
   ]
  },
  {
   "cell_type": "code",
   "execution_count": 8,
   "metadata": {
    "execution": {
     "iopub.execute_input": "2020-11-13T10:20:41.335780Z",
     "iopub.status.busy": "2020-11-13T10:20:41.327160Z",
     "iopub.status.idle": "2020-11-13T10:20:41.476633Z",
     "shell.execute_reply": "2020-11-13T10:20:41.476235Z"
    },
    "scrolled": true
   },
   "outputs": [
    {
     "data": {
      "image/png": "[encoded data removed]",
      "text/plain": [
       "<Figure size 432x288 with 1 Axes>"
      ]
     },
     "metadata": {
      "needs_background": "light"
     },
     "output_type": "display_data"
    }
   ],
   "source": [
    "fig, ax = plt.subplots(1,1)\n",
    "ax.plot(sizes, t_numeric, 'o-', label='Inserting row-by-row')\n",
    "ax.plot(sizes, t_numeric_add, 'o-', label='Inserting row-by-row: add_result only')\n",
    "ax.plot(sizes, t_array, 'd-', label='Inserting as binary blob')\n",
    "ax.plot(sizes, t_array_add, 'd-', label='Inserting as binary blob: add_result only')\n",
    "ax.legend()\n",
    "ax.set_xlabel('Array length')\n",
    "ax.set_ylabel('Time (s)')\n",
    "fig.tight_layout()"
   ]
  },
  {
   "cell_type": "markdown",
   "metadata": {},
   "source": [
    "However, as we increase the length of the experiment, as seen here by repeating the insertion 100 times, we see a big difference between inserting values of the data row-by-row and inserting it as a binary blob."
   ]
  },
  {
   "cell_type": "markdown",
   "metadata": {},
   "source": [
    "## Loading the data "
   ]
  },
  {
   "cell_type": "code",
   "execution_count": 9,
   "metadata": {
    "execution": {
     "iopub.execute_input": "2020-11-13T10:20:41.480093Z",
     "iopub.status.busy": "2020-11-13T10:20:41.478967Z",
     "iopub.status.idle": "2020-11-13T10:20:41.482420Z",
     "shell.execute_reply": "2020-11-13T10:20:41.483099Z"
    }
   },
   "outputs": [],
   "source": [
    "from qcodes.dataset.data_set import load_by_id\n",
    "from qcodes.dataset.data_export import get_data_by_id"
   ]
  },
  {
   "cell_type": "markdown",
   "metadata": {},
   "source": [
    "As usual you can load the data by using the ``load_by_id`` function but you will notice that the different storage methods\n",
    "are reflected in shape of the data as it is retrieved. "
   ]
  },
  {
   "cell_type": "code",
   "execution_count": 10,
   "metadata": {
    "execution": {
     "iopub.execute_input": "2020-11-13T10:20:41.487189Z",
     "iopub.status.busy": "2020-11-13T10:20:41.485990Z",
     "iopub.status.idle": "2020-11-13T10:20:41.489596Z",
     "shell.execute_reply": "2020-11-13T10:20:41.490169Z"
    }
   },
   "outputs": [],
   "source": [
    "run_id_n = t_numeric_run_ids[0]\n",
    "run_id_a = t_array_run_ids[0]"
   ]
  },
  {
   "cell_type": "code",
   "execution_count": 11,
   "metadata": {
    "execution": {
     "iopub.execute_input": "2020-11-13T10:20:41.493965Z",
     "iopub.status.busy": "2020-11-13T10:20:41.493149Z",
     "iopub.status.idle": "2020-11-13T10:20:41.504019Z",
     "shell.execute_reply": "2020-11-13T10:20:41.503608Z"
    },
    "scrolled": true
   },
   "outputs": [
    {
     "data": {
      "text/plain": [
       "{'x1': {'x1': array([0.41520572, 0.41520572, 0.83085445, 0.83085445, 0.61999724,\n",
       "         0.61999724, 0.88002101, 0.88002101, 0.01612303, 0.01612303,\n",
       "         0.53896457, 0.53896457, 0.10117667, 0.10117667, 0.20651127,\n",
       "         0.20651127, 0.86182205, 0.86182205, 0.92122642, 0.92122642,\n",
       "         0.78092037, 0.78092037, 0.85252983, 0.85252983, 0.91594657,\n",
       "         0.91594657, 0.20083112, 0.20083112, 0.29484654, 0.29484654,\n",
       "         0.03445546, 0.03445546, 0.34012846, 0.34012846, 0.30978565,\n",
       "         0.30978565, 0.64701339, 0.64701339, 0.25525624, 0.25525624,\n",
       "         0.40662894, 0.40662894, 0.7630409 , 0.7630409 , 0.65967013,\n",
       "         0.65967013, 0.14749904, 0.14749904, 0.04106954, 0.04106954,\n",
       "         0.65213086, 0.65213086, 0.20088398, 0.20088398, 0.31306811,\n",
       "         0.31306811, 0.49558461, 0.49558461, 0.30802143, 0.30802143,\n",
       "         0.94786244, 0.94786244, 0.55316843, 0.55316843, 0.41853185,\n",
       "         0.41853185, 0.65738454, 0.65738454, 0.16495618, 0.16495618,\n",
       "         0.21464344, 0.21464344, 0.35004301, 0.35004301, 0.75862529,\n",
       "         0.75862529, 0.30643493, 0.30643493, 0.04866527, 0.04866527,\n",
       "         0.36364942, 0.36364942, 0.08774313, 0.08774313, 0.44107213,\n",
       "         0.44107213, 0.29148335, 0.29148335, 0.4862738 , 0.4862738 ,\n",
       "         0.21386821, 0.21386821, 0.82281546, 0.82281546, 0.98732183,\n",
       "         0.98732183, 0.00751943, 0.00751943, 0.79576969, 0.79576969,\n",
       "         0.06173374, 0.06173374, 0.44819952, 0.44819952, 0.98962049,\n",
       "         0.98962049, 0.11219575, 0.11219575, 0.62725197, 0.62725197,\n",
       "         0.22354519, 0.22354519, 0.51936015, 0.51936015, 0.16024771,\n",
       "         0.16024771, 0.28863061, 0.28863061, 0.80088206, 0.80088206,\n",
       "         0.96372919, 0.96372919, 0.98145728, 0.98145728, 0.99607429,\n",
       "         0.99607429, 0.73214171, 0.73214171, 0.96820506, 0.96820506,\n",
       "         0.96320488, 0.96320488, 0.91115954, 0.91115954, 0.96297177,\n",
       "         0.96297177, 0.61785603, 0.61785603, 0.2708226 , 0.2708226 ,\n",
       "         0.02580612, 0.02580612, 0.78583591, 0.78583591, 0.46874725,\n",
       "         0.46874725, 0.78461974, 0.78461974, 0.6945701 , 0.6945701 ,\n",
       "         0.84502024, 0.84502024, 0.73397791, 0.73397791, 0.93391805,\n",
       "         0.93391805, 0.12922749, 0.12922749, 0.70749421, 0.70749421,\n",
       "         0.35653539, 0.35653539, 0.88450763, 0.88450763, 0.43269072,\n",
       "         0.43269072, 0.33074551, 0.33074551, 0.99253491, 0.99253491,\n",
       "         0.05514288, 0.05514288, 0.76817253, 0.76817253, 0.89625347,\n",
       "         0.89625347, 0.52262978, 0.52262978, 0.57081956, 0.57081956,\n",
       "         0.69676766, 0.69676766, 0.92805281, 0.92805281, 0.82616454,\n",
       "         0.82616454, 0.17402597, 0.17402597, 0.06240288, 0.06240288,\n",
       "         0.90188504, 0.90188504, 0.05799499, 0.05799499, 0.4282781 ,\n",
       "         0.4282781 , 0.56127498, 0.56127498, 0.79301599, 0.79301599])}}"
      ]
     },
     "execution_count": 1,
     "metadata": {},
     "output_type": "execute_result"
    }
   ],
   "source": [
    "ds = load_by_id(run_id_n)\n",
    "ds.get_parameter_data('x1')"
   ]
  },
  {
   "cell_type": "markdown",
   "metadata": {},
   "source": [
    "And a dataset stored as binary arrays"
   ]
  },
  {
   "cell_type": "code",
   "execution_count": 12,
   "metadata": {
    "execution": {
     "iopub.execute_input": "2020-11-13T10:20:41.507187Z",
     "iopub.status.busy": "2020-11-13T10:20:41.506711Z",
     "iopub.status.idle": "2020-11-13T10:20:41.555381Z",
     "shell.execute_reply": "2020-11-13T10:20:41.556119Z"
    },
    "scrolled": true
   },
   "outputs": [
    {
     "data": {
      "text/plain": [
       "{'x1': {'x1': array([[0.55625504],\n",
       "         [0.55625504],\n",
       "         [0.3639343 ],\n",
       "         [0.3639343 ],\n",
       "         [0.32319237],\n",
       "         [0.32319237],\n",
       "         [0.06606699],\n",
       "         [0.06606699],\n",
       "         [0.27796777],\n",
       "         [0.27796777],\n",
       "         [0.27899225],\n",
       "         [0.27899225],\n",
       "         [0.1491842 ],\n",
       "         [0.1491842 ],\n",
       "         [0.20130066],\n",
       "         [0.20130066],\n",
       "         [0.01076526],\n",
       "         [0.01076526],\n",
       "         [0.68605592],\n",
       "         [0.68605592],\n",
       "         [0.86347812],\n",
       "         [0.86347812],\n",
       "         [0.46091013],\n",
       "         [0.46091013],\n",
       "         [0.78947719],\n",
       "         [0.78947719],\n",
       "         [0.2577119 ],\n",
       "         [0.2577119 ],\n",
       "         [0.55037121],\n",
       "         [0.55037121],\n",
       "         [0.23464613],\n",
       "         [0.23464613],\n",
       "         [0.46409853],\n",
       "         [0.46409853],\n",
       "         [0.39451069],\n",
       "         [0.39451069],\n",
       "         [0.882986  ],\n",
       "         [0.882986  ],\n",
       "         [0.78402559],\n",
       "         [0.78402559],\n",
       "         [0.93397759],\n",
       "         [0.93397759],\n",
       "         [0.67401176],\n",
       "         [0.67401176],\n",
       "         [0.50853649],\n",
       "         [0.50853649],\n",
       "         [0.33768958],\n",
       "         [0.33768958],\n",
       "         [0.57866923],\n",
       "         [0.57866923],\n",
       "         [0.13621676],\n",
       "         [0.13621676],\n",
       "         [0.86611499],\n",
       "         [0.86611499],\n",
       "         [0.35088567],\n",
       "         [0.35088567],\n",
       "         [0.44308933],\n",
       "         [0.44308933],\n",
       "         [0.66769178],\n",
       "         [0.66769178],\n",
       "         [0.36372717],\n",
       "         [0.36372717],\n",
       "         [0.9701871 ],\n",
       "         [0.9701871 ],\n",
       "         [0.38198031],\n",
       "         [0.38198031],\n",
       "         [0.7986001 ],\n",
       "         [0.7986001 ],\n",
       "         [0.26658239],\n",
       "         [0.26658239],\n",
       "         [0.6174492 ],\n",
       "         [0.6174492 ],\n",
       "         [0.63407939],\n",
       "         [0.63407939],\n",
       "         [0.13634102],\n",
       "         [0.13634102],\n",
       "         [0.95799344],\n",
       "         [0.95799344],\n",
       "         [0.28276957],\n",
       "         [0.28276957],\n",
       "         [0.74539132],\n",
       "         [0.74539132],\n",
       "         [0.90844879],\n",
       "         [0.90844879],\n",
       "         [0.47041942],\n",
       "         [0.47041942],\n",
       "         [0.32998027],\n",
       "         [0.32998027],\n",
       "         [0.43279585],\n",
       "         [0.43279585],\n",
       "         [0.22474257],\n",
       "         [0.22474257],\n",
       "         [0.38325515],\n",
       "         [0.38325515],\n",
       "         [0.96536629],\n",
       "         [0.96536629],\n",
       "         [0.46225142],\n",
       "         [0.46225142],\n",
       "         [0.83762638],\n",
       "         [0.83762638],\n",
       "         [0.83032223],\n",
       "         [0.83032223],\n",
       "         [0.81525629],\n",
       "         [0.81525629],\n",
       "         [0.99022484],\n",
       "         [0.99022484],\n",
       "         [0.34544863],\n",
       "         [0.34544863],\n",
       "         [0.36747669],\n",
       "         [0.36747669],\n",
       "         [0.06329426],\n",
       "         [0.06329426],\n",
       "         [0.02325413],\n",
       "         [0.02325413],\n",
       "         [0.91917186],\n",
       "         [0.91917186],\n",
       "         [0.71739725],\n",
       "         [0.71739725],\n",
       "         [0.59449651],\n",
       "         [0.59449651],\n",
       "         [0.39888058],\n",
       "         [0.39888058],\n",
       "         [0.36769933],\n",
       "         [0.36769933],\n",
       "         [0.69658758],\n",
       "         [0.69658758],\n",
       "         [0.9123797 ],\n",
       "         [0.9123797 ],\n",
       "         [0.32282354],\n",
       "         [0.32282354],\n",
       "         [0.5376064 ],\n",
       "         [0.5376064 ],\n",
       "         [0.62744834],\n",
       "         [0.62744834],\n",
       "         [0.86149853],\n",
       "         [0.86149853],\n",
       "         [0.76289827],\n",
       "         [0.76289827],\n",
       "         [0.12189388],\n",
       "         [0.12189388],\n",
       "         [0.22801789],\n",
       "         [0.22801789],\n",
       "         [0.10262663],\n",
       "         [0.10262663],\n",
       "         [0.10219827],\n",
       "         [0.10219827],\n",
       "         [0.82783285],\n",
       "         [0.82783285],\n",
       "         [0.49009873],\n",
       "         [0.49009873],\n",
       "         [0.43126138],\n",
       "         [0.43126138],\n",
       "         [0.70038205],\n",
       "         [0.70038205],\n",
       "         [0.74567362],\n",
       "         [0.74567362],\n",
       "         [0.68130164],\n",
       "         [0.68130164],\n",
       "         [0.63577091],\n",
       "         [0.63577091],\n",
       "         [0.74412588],\n",
       "         [0.74412588],\n",
       "         [0.25918295],\n",
       "         [0.25918295],\n",
       "         [0.50197845],\n",
       "         [0.50197845],\n",
       "         [0.73428285],\n",
       "         [0.73428285],\n",
       "         [0.07640998],\n",
       "         [0.07640998],\n",
       "         [0.49049809],\n",
       "         [0.49049809],\n",
       "         [0.43900558],\n",
       "         [0.43900558],\n",
       "         [0.68465837],\n",
       "         [0.68465837],\n",
       "         [0.23470291],\n",
       "         [0.23470291],\n",
       "         [0.85575234],\n",
       "         [0.85575234],\n",
       "         [0.64866071],\n",
       "         [0.64866071],\n",
       "         [0.8209046 ],\n",
       "         [0.8209046 ],\n",
       "         [0.05615221],\n",
       "         [0.05615221],\n",
       "         [0.16838648],\n",
       "         [0.16838648],\n",
       "         [0.51329465],\n",
       "         [0.51329465],\n",
       "         [0.40840732],\n",
       "         [0.40840732],\n",
       "         [0.8779564 ],\n",
       "         [0.8779564 ],\n",
       "         [0.21051731],\n",
       "         [0.21051731],\n",
       "         [0.67300436],\n",
       "         [0.67300436],\n",
       "         [0.78197074],\n",
       "         [0.78197074]])}}"
      ]
     },
     "execution_count": 1,
     "metadata": {},
     "output_type": "execute_result"
    }
   ],
   "source": [
    "ds = load_by_id(run_id_a)\n",
    "ds.get_parameter_data('x1')"
   ]
  },
  {
   "cell_type": "code",
   "execution_count": null,
   "metadata": {},
   "outputs": [],
   "source": []
  }
 ],
 "metadata": {
  "kernelspec": {
   "display_name": "Python 3",
   "language": "python",
   "name": "python3"
  },
  "language_info": {
   "codemirror_mode": {
    "name": "ipython",
    "version": 3
   },
   "file_extension": ".py",
   "mimetype": "text/x-python",
   "name": "python",
   "nbconvert_exporter": "python",
   "pygments_lexer": "ipython3",
   "version": "3.7.9"
  },
  "nbsphinx": {
   "timeout": 600
  },
  "toc": {
   "base_numbering": 1,
   "nav_menu": {},
   "number_sections": true,
   "sideBar": true,
   "skip_h1_title": false,
   "title_cell": "Table of Contents",
   "title_sidebar": "Contents",
   "toc_cell": false,
   "toc_position": {},
   "toc_section_display": true,
   "toc_window_display": false
  },
  "varInspector": {
   "cols": {
    "lenName": 16,
    "lenType": 16,
    "lenVar": 40
   },
   "kernels_config": {
    "python": {
     "delete_cmd_postfix": "",
     "delete_cmd_prefix": "del ",
     "library": "var_list.py",
     "varRefreshCmd": "print(var_dic_list())"
    },
    "r": {
     "delete_cmd_postfix": ") ",
     "delete_cmd_prefix": "rm(",
     "library": "var_list.r",
     "varRefreshCmd": "cat(var_dic_list()) "
    }
   },
   "types_to_exclude": [
    "module",
    "function",
    "builtin_function_or_method",
    "instance",
    "_Feature"
   ],
   "window_display": false
  }
 },
 "nbformat": 4,
 "nbformat_minor": 2
}
