{
 "cells": [
  {
   "cell_type": "markdown",
   "metadata": {},
   "source": [
    "# DataSet Performance\n",
    "\n",
    "This notebook shows the trade-off between inserting data into a database row-by-row and as binary blobs. Inserting the data row-by-row means that we have direct access to all the data and may perform queries directly on the values of the data. On the other hand, as we shall see, this is much slower than inserting the data directly as binary blobs."
   ]
  },
  {
   "cell_type": "markdown",
   "metadata": {},
   "source": [
    "First, we choose a new location for the database to ensure that we don't add a bunch of benchmarking data to the default one."
   ]
  },
  {
   "cell_type": "code",
   "execution_count": 1,
   "metadata": {},
   "outputs": [
    {
     "name": "stdout",
     "output_type": "stream",
     "text": [
      "Logging hadn't been started.\n",
      "Activating auto-logging. Current session state plus future input saved.\n",
      "Filename       : /home/vsts/.qcodes/logs/command_history.log\n",
      "Mode           : append\n",
      "Output logging : True\n",
      "Raw input log  : False\n",
      "Timestamping   : True\n",
      "State          : active\n"
     ]
    },
    {
     "name": "stdout",
     "output_type": "stream",
     "text": [
      "Qcodes Logfile : /home/vsts/.qcodes/logs/200908-18806-qcodes.log\n"
     ]
    }
   ],
   "source": [
    "import os\n",
    "cwd = os.getcwd()\n",
    "import qcodes as qc\n",
    "qc.config[\"core\"][\"db_location\"] = os.path.join(cwd, 'testing.db')\n"
   ]
  },
  {
   "cell_type": "code",
   "execution_count": 2,
   "metadata": {},
   "outputs": [],
   "source": [
    "%matplotlib inline\n",
    "import time\n",
    "import matplotlib.pyplot as plt\n",
    "import numpy as np\n",
    "\n",
    "import qcodes as qc\n",
    "from qcodes.instrument.parameter import ManualParameter\n",
    "from qcodes.dataset.experiment_container import (Experiment,\n",
    "                                                 load_last_experiment,\n",
    "                                                 new_experiment)\n",
    "from qcodes.dataset.sqlite.database import initialise_database\n",
    "from qcodes import load_or_create_experiment\n",
    "from qcodes.dataset.measurements import Measurement"
   ]
  },
  {
   "cell_type": "code",
   "execution_count": 3,
   "metadata": {},
   "outputs": [
    {
     "name": "stdout",
     "output_type": "stream",
     "text": [
      "\r",
      "0it [00:00, ?it/s]"
     ]
    },
    {
     "name": "stdout",
     "output_type": "stream",
     "text": [
      "\r",
      "Upgrading database; v0 -> v1: : 0it [00:00, ?it/s]"
     ]
    },
    {
     "name": "stdout",
     "output_type": "stream",
     "text": [
      "\r",
      "Upgrading database; v0 -> v1: : 0it [00:00, ?it/s]"
     ]
    },
    {
     "name": "stdout",
     "output_type": "stream",
     "text": [
      "\n",
      "\r",
      "  0%|          | 0/1 [00:00<?, ?it/s]"
     ]
    },
    {
     "name": "stdout",
     "output_type": "stream",
     "text": [
      "\r",
      "Upgrading database; v1 -> v2:   0%|          | 0/1 [00:00<?, ?it/s]"
     ]
    },
    {
     "name": "stdout",
     "output_type": "stream",
     "text": [
      "\r",
      "Upgrading database; v1 -> v2: 100%|██████████| 1/1 [00:00<00:00, 779.47it/s]"
     ]
    },
    {
     "name": "stdout",
     "output_type": "stream",
     "text": [
      "\n",
      "\r",
      "0it [00:00, ?it/s]"
     ]
    },
    {
     "name": "stdout",
     "output_type": "stream",
     "text": [
      "\r",
      "Upgrading database; v2 -> v3: : 0it [00:00, ?it/s]"
     ]
    },
    {
     "name": "stdout",
     "output_type": "stream",
     "text": [
      "\r",
      "Upgrading database; v2 -> v3: : 0it [00:00, ?it/s]"
     ]
    },
    {
     "name": "stdout",
     "output_type": "stream",
     "text": [
      "\n",
      "\r",
      "0it [00:00, ?it/s]"
     ]
    },
    {
     "name": "stdout",
     "output_type": "stream",
     "text": [
      "\r",
      "Upgrading database; v3 -> v4: : 0it [00:00, ?it/s]"
     ]
    },
    {
     "name": "stdout",
     "output_type": "stream",
     "text": [
      "\r",
      "Upgrading database; v3 -> v4: : 0it [00:00, ?it/s]"
     ]
    },
    {
     "name": "stdout",
     "output_type": "stream",
     "text": [
      "\n",
      "\r",
      "  0%|          | 0/1 [00:00<?, ?it/s]"
     ]
    },
    {
     "name": "stdout",
     "output_type": "stream",
     "text": [
      "\r",
      "Upgrading database; v4 -> v5:   0%|          | 0/1 [00:00<?, ?it/s]"
     ]
    },
    {
     "name": "stdout",
     "output_type": "stream",
     "text": [
      "\r",
      "Upgrading database; v4 -> v5: 100%|██████████| 1/1 [00:00<00:00, 686.58it/s]"
     ]
    },
    {
     "name": "stdout",
     "output_type": "stream",
     "text": [
      "\n",
      "\r",
      "0it [00:00, ?it/s]"
     ]
    },
    {
     "name": "stdout",
     "output_type": "stream",
     "text": [
      "\r",
      "Upgrading database; v5 -> v6: : 0it [00:00, ?it/s]"
     ]
    },
    {
     "name": "stdout",
     "output_type": "stream",
     "text": [
      "\r",
      "Upgrading database; v5 -> v6: : 0it [00:00, ?it/s]"
     ]
    },
    {
     "name": "stdout",
     "output_type": "stream",
     "text": [
      "\n",
      "\r",
      "  0%|          | 0/1 [00:00<?, ?it/s]"
     ]
    },
    {
     "name": "stdout",
     "output_type": "stream",
     "text": [
      "\r",
      "Upgrading database; v6 -> v7:   0%|          | 0/1 [00:00<?, ?it/s]"
     ]
    },
    {
     "name": "stdout",
     "output_type": "stream",
     "text": [
      "\r",
      "Upgrading database; v6 -> v7: 100%|██████████| 1/1 [00:00<00:00, 407.41it/s]"
     ]
    },
    {
     "name": "stdout",
     "output_type": "stream",
     "text": [
      "\n",
      "\r",
      "  0%|          | 0/1 [00:00<?, ?it/s]"
     ]
    },
    {
     "name": "stdout",
     "output_type": "stream",
     "text": [
      "\r",
      "Upgrading database; v7 -> v8:   0%|          | 0/1 [00:00<?, ?it/s]"
     ]
    },
    {
     "name": "stdout",
     "output_type": "stream",
     "text": [
      "\r",
      "Upgrading database; v7 -> v8: 100%|██████████| 1/1 [00:00<00:00, 622.58it/s]"
     ]
    },
    {
     "name": "stdout",
     "output_type": "stream",
     "text": [
      "\n",
      "\r",
      "  0%|          | 0/1 [00:00<?, ?it/s]"
     ]
    },
    {
     "name": "stdout",
     "output_type": "stream",
     "text": [
      "\r",
      "Upgrading database; v8 -> v9:   0%|          | 0/1 [00:00<?, ?it/s]"
     ]
    },
    {
     "name": "stdout",
     "output_type": "stream",
     "text": [
      "\r",
      "Upgrading database; v8 -> v9: 100%|██████████| 1/1 [00:00<00:00, 454.62it/s]"
     ]
    },
    {
     "name": "stdout",
     "output_type": "stream",
     "text": [
      "\n"
     ]
    }
   ],
   "source": [
    "initialise_database()\n",
    "exp = load_or_create_experiment(experiment_name='tutorial_exp', sample_name=\"no sample\")"
   ]
  },
  {
   "cell_type": "markdown",
   "metadata": {},
   "source": [
    "Here, we define a simple function to benchmark the time it takes to insert n points with either numeric or array data type.\n",
    "We will compare both the time used to call ``add_result`` and the time used for the full measurement."
   ]
  },
  {
   "cell_type": "code",
   "execution_count": 4,
   "metadata": {},
   "outputs": [],
   "source": [
    "def insert_data(paramtype, npoints, nreps=1):\n",
    "\n",
    "    meas = Measurement(exp=exp)\n",
    "\n",
    "    x1 = ManualParameter('x1')\n",
    "    x2 = ManualParameter('x2')\n",
    "    x3 = ManualParameter('x3')\n",
    "    y1 = ManualParameter('y1')\n",
    "    y2 = ManualParameter('y2')\n",
    "\n",
    "    meas.register_parameter(x1, paramtype=paramtype)\n",
    "    meas.register_parameter(x2, paramtype=paramtype)\n",
    "    meas.register_parameter(x3, paramtype=paramtype)\n",
    "    meas.register_parameter(y1, setpoints=[x1, x2, x3],\n",
    "                            paramtype=paramtype)\n",
    "    meas.register_parameter(y2, setpoints=[x1, x2, x3],\n",
    "                            paramtype=paramtype)\n",
    "    start = time.perf_counter()\n",
    "    with meas.run() as datasaver:\n",
    "        start_adding = time.perf_counter()\n",
    "        for i in range(nreps):\n",
    "            datasaver.add_result((x1, np.random.rand(npoints)),\n",
    "                                 (x2, np.random.rand(npoints)),\n",
    "                                 (x3, np.random.rand(npoints)),\n",
    "                                 (y1, np.random.rand(npoints)),\n",
    "                                 (y2, np.random.rand(npoints)))\n",
    "        stop_adding = time.perf_counter()\n",
    "        run_id = datasaver.run_id\n",
    "    stop = time.perf_counter()\n",
    "    tot_time = stop - start\n",
    "    add_time = stop_adding - start_adding\n",
    "    return tot_time, add_time, run_id"
   ]
  },
  {
   "cell_type": "markdown",
   "metadata": {},
   "source": [
    "## Comparison between numeric/array data and binary blob"
   ]
  },
  {
   "cell_type": "markdown",
   "metadata": {},
   "source": [
    "### Case1: Short experiment time"
   ]
  },
  {
   "cell_type": "code",
   "execution_count": 5,
   "metadata": {},
   "outputs": [
    {
     "name": "stdout",
     "output_type": "stream",
     "text": [
      "Starting experimental run with id: 1. \n",
      "Starting experimental run with id: 2. \n",
      "Starting experimental run with id: 3. \n"
     ]
    },
    {
     "name": "stdout",
     "output_type": "stream",
     "text": [
      "Starting experimental run with id: 4. \n"
     ]
    },
    {
     "name": "stdout",
     "output_type": "stream",
     "text": [
      "Starting experimental run with id: 5. \n"
     ]
    },
    {
     "name": "stdout",
     "output_type": "stream",
     "text": [
      "Starting experimental run with id: 6. \n"
     ]
    },
    {
     "name": "stdout",
     "output_type": "stream",
     "text": [
      "Starting experimental run with id: 7. \n",
      "Starting experimental run with id: 8. \n"
     ]
    },
    {
     "name": "stdout",
     "output_type": "stream",
     "text": [
      "Starting experimental run with id: 9. \n"
     ]
    },
    {
     "name": "stdout",
     "output_type": "stream",
     "text": [
      "Starting experimental run with id: 10. \n",
      "Starting experimental run with id: 11. \n"
     ]
    },
    {
     "name": "stdout",
     "output_type": "stream",
     "text": [
      "Starting experimental run with id: 12. \n",
      "Starting experimental run with id: 13. \n"
     ]
    },
    {
     "name": "stdout",
     "output_type": "stream",
     "text": [
      "Starting experimental run with id: 14. \n"
     ]
    }
   ],
   "source": [
    "sizes = [1,500,1000,2000,3000,4000,5000]\n",
    "t_numeric = []\n",
    "t_numeric_add = []\n",
    "t_array = []\n",
    "t_array_add = []\n",
    "for size in sizes:\n",
    "    tn, tna, run_id_n =  insert_data('numeric', size)\n",
    "    t_numeric.append(tn)\n",
    "    t_numeric_add.append(tna)\n",
    "\n",
    "    ta, taa, run_id_a =  insert_data('array', size)\n",
    "    t_array.append(ta)\n",
    "    t_array_add.append(taa)"
   ]
  },
  {
   "cell_type": "code",
   "execution_count": 6,
   "metadata": {},
   "outputs": [
    {
     "data": {
      "image/png": "[encoded data removed]",
      "text/plain": [
       "<Figure size 432x288 with 1 Axes>"
      ]
     },
     "metadata": {
      "needs_background": "light"
     },
     "output_type": "display_data"
    }
   ],
   "source": [
    "fig, ax = plt.subplots(1,1)\n",
    "ax.plot(sizes, t_numeric, 'o-', label='Inserting row-by-row')\n",
    "ax.plot(sizes, t_numeric_add, 'o-', label='Inserting row-by-row: add_result only')\n",
    "ax.plot(sizes, t_array, 'd-', label='Inserting as binary blob')\n",
    "ax.plot(sizes, t_array_add, 'd-', label='Inserting as binary blob: add_result only')\n",
    "ax.legend()\n",
    "ax.set_xlabel('Array length')\n",
    "ax.set_ylabel('Time (s)')\n",
    "fig.tight_layout()"
   ]
  },
  {
   "cell_type": "markdown",
   "metadata": {},
   "source": [
    "As shown in the latter figure, the time to setup and and close the experiment is approximately 0.4 sec. In case of small array sizes, the difference between inserting values of data as arrays and inserting them row-by-row is relatively unimportant. At larger array sizes, i.e. above 10000 points, the cost of writing data as individual datapoints starts to become important.\n"
   ]
  },
  {
   "cell_type": "markdown",
   "metadata": {},
   "source": [
    "### Case2: Long experiment time "
   ]
  },
  {
   "cell_type": "code",
   "execution_count": 7,
   "metadata": {},
   "outputs": [
    {
     "name": "stdout",
     "output_type": "stream",
     "text": [
      "Starting experimental run with id: 15. \n",
      "Starting experimental run with id: 16. \n",
      "Starting experimental run with id: 17. \n"
     ]
    },
    {
     "name": "stdout",
     "output_type": "stream",
     "text": [
      "Starting experimental run with id: 18. \n",
      "Starting experimental run with id: 19. \n"
     ]
    },
    {
     "name": "stdout",
     "output_type": "stream",
     "text": [
      "Starting experimental run with id: 20. \n"
     ]
    },
    {
     "name": "stdout",
     "output_type": "stream",
     "text": [
      "Starting experimental run with id: 21. \n"
     ]
    },
    {
     "name": "stdout",
     "output_type": "stream",
     "text": [
      "Starting experimental run with id: 22. \n"
     ]
    },
    {
     "name": "stdout",
     "output_type": "stream",
     "text": [
      "Starting experimental run with id: 23. \n"
     ]
    },
    {
     "name": "stdout",
     "output_type": "stream",
     "text": [
      "Starting experimental run with id: 24. \n"
     ]
    },
    {
     "name": "stdout",
     "output_type": "stream",
     "text": [
      "Starting experimental run with id: 25. \n"
     ]
    },
    {
     "name": "stdout",
     "output_type": "stream",
     "text": [
      "Starting experimental run with id: 26. \n"
     ]
    },
    {
     "name": "stdout",
     "output_type": "stream",
     "text": [
      "Starting experimental run with id: 27. \n"
     ]
    },
    {
     "name": "stdout",
     "output_type": "stream",
     "text": [
      "Starting experimental run with id: 28. \n"
     ]
    }
   ],
   "source": [
    "sizes = [1,500,1000,2000,3000,4000,5000]\n",
    "nreps = 100\n",
    "t_numeric = []\n",
    "t_numeric_add = []\n",
    "t_numeric_run_ids = []\n",
    "t_array = []\n",
    "t_array_add = []\n",
    "t_array_run_ids = []\n",
    "for size in sizes:\n",
    "    tn, tna, run_id_n =  insert_data('numeric', size, nreps=nreps)\n",
    "    t_numeric.append(tn)\n",
    "    t_numeric_add.append(tna)\n",
    "    t_numeric_run_ids.append(run_id_n)\n",
    "\n",
    "    ta, taa, run_id_a =  insert_data('array', size, nreps=nreps)\n",
    "    t_array.append(ta)\n",
    "    t_array_add.append(taa)\n",
    "    t_array_run_ids.append(run_id_a)"
   ]
  },
  {
   "cell_type": "code",
   "execution_count": 8,
   "metadata": {
    "scrolled": true
   },
   "outputs": [
    {
     "data": {
      "image/png": "[encoded data removed]",
      "text/plain": [
       "<Figure size 432x288 with 1 Axes>"
      ]
     },
     "metadata": {
      "needs_background": "light"
     },
     "output_type": "display_data"
    }
   ],
   "source": [
    "fig, ax = plt.subplots(1,1)\n",
    "ax.plot(sizes, t_numeric, 'o-', label='Inserting row-by-row')\n",
    "ax.plot(sizes, t_numeric_add, 'o-', label='Inserting row-by-row: add_result only')\n",
    "ax.plot(sizes, t_array, 'd-', label='Inserting as binary blob')\n",
    "ax.plot(sizes, t_array_add, 'd-', label='Inserting as binary blob: add_result only')\n",
    "ax.legend()\n",
    "ax.set_xlabel('Array length')\n",
    "ax.set_ylabel('Time (s)')\n",
    "fig.tight_layout()"
   ]
  },
  {
   "cell_type": "markdown",
   "metadata": {},
   "source": [
    "However, as we increase the length of the experiment, as seen here by repeating the insertion 100 times, we see a big difference between inserting values of the data row-by-row and inserting it as a binary blob."
   ]
  },
  {
   "cell_type": "markdown",
   "metadata": {},
   "source": [
    "## Loading the data "
   ]
  },
  {
   "cell_type": "code",
   "execution_count": 9,
   "metadata": {},
   "outputs": [],
   "source": [
    "from qcodes.dataset.data_set import load_by_id\n",
    "from qcodes.dataset.data_export import get_data_by_id"
   ]
  },
  {
   "cell_type": "markdown",
   "metadata": {},
   "source": [
    "As usual you can load the data by using the ``load_by_id`` function but you will notice that the different storage methods\n",
    "are reflected in shape of the data as it is retrieved. "
   ]
  },
  {
   "cell_type": "code",
   "execution_count": 10,
   "metadata": {},
   "outputs": [],
   "source": [
    "run_id_n = t_numeric_run_ids[0]\n",
    "run_id_a = t_array_run_ids[0]"
   ]
  },
  {
   "cell_type": "code",
   "execution_count": 11,
   "metadata": {
    "scrolled": true
   },
   "outputs": [
    {
     "data": {
      "text/plain": [
       "{'x1': {'x1': array([0.90685625, 0.90685625, 0.38964964, 0.38964964, 0.83282679,\n",
       "         0.83282679, 0.26286773, 0.26286773, 0.72997177, 0.72997177,\n",
       "         0.08500135, 0.08500135, 0.02644099, 0.02644099, 0.97127714,\n",
       "         0.97127714, 0.38820275, 0.38820275, 0.9289108 , 0.9289108 ,\n",
       "         0.25592405, 0.25592405, 0.62533183, 0.62533183, 0.5558724 ,\n",
       "         0.5558724 , 0.64189848, 0.64189848, 0.82686088, 0.82686088,\n",
       "         0.59375414, 0.59375414, 0.53478099, 0.53478099, 0.80810285,\n",
       "         0.80810285, 0.91291215, 0.91291215, 0.72756826, 0.72756826,\n",
       "         0.80893858, 0.80893858, 0.98629687, 0.98629687, 0.64633662,\n",
       "         0.64633662, 0.03032885, 0.03032885, 0.34187405, 0.34187405,\n",
       "         0.02106666, 0.02106666, 0.46859507, 0.46859507, 0.11550628,\n",
       "         0.11550628, 0.10483035, 0.10483035, 0.0088247 , 0.0088247 ,\n",
       "         0.80983453, 0.80983453, 0.50967572, 0.50967572, 0.78239726,\n",
       "         0.78239726, 0.22688378, 0.22688378, 0.5703625 , 0.5703625 ,\n",
       "         0.34333705, 0.34333705, 0.14875698, 0.14875698, 0.51385284,\n",
       "         0.51385284, 0.57384783, 0.57384783, 0.72267742, 0.72267742,\n",
       "         0.80309352, 0.80309352, 0.16999071, 0.16999071, 0.10700322,\n",
       "         0.10700322, 0.13815526, 0.13815526, 0.84194784, 0.84194784,\n",
       "         0.02252453, 0.02252453, 0.42948857, 0.42948857, 0.12200165,\n",
       "         0.12200165, 0.96127531, 0.96127531, 0.27285785, 0.27285785,\n",
       "         0.27030923, 0.27030923, 0.34850807, 0.34850807, 0.83714155,\n",
       "         0.83714155, 0.16075514, 0.16075514, 0.97202231, 0.97202231,\n",
       "         0.03673673, 0.03673673, 0.70096624, 0.70096624, 0.57720088,\n",
       "         0.57720088, 0.64228431, 0.64228431, 0.87151548, 0.87151548,\n",
       "         0.96572308, 0.96572308, 0.45328219, 0.45328219, 0.58124437,\n",
       "         0.58124437, 0.30857522, 0.30857522, 0.4912792 , 0.4912792 ,\n",
       "         0.36387882, 0.36387882, 0.96608261, 0.96608261, 0.79372455,\n",
       "         0.79372455, 0.27183238, 0.27183238, 0.45474194, 0.45474194,\n",
       "         0.30936797, 0.30936797, 0.035239  , 0.035239  , 0.66809201,\n",
       "         0.66809201, 0.94746514, 0.94746514, 0.14093495, 0.14093495,\n",
       "         0.27283755, 0.27283755, 0.91120092, 0.91120092, 0.77308128,\n",
       "         0.77308128, 0.13344353, 0.13344353, 0.08287856, 0.08287856,\n",
       "         0.80818099, 0.80818099, 0.40823644, 0.40823644, 0.6456829 ,\n",
       "         0.6456829 , 0.64586371, 0.64586371, 0.52440932, 0.52440932,\n",
       "         0.21482916, 0.21482916, 0.30666831, 0.30666831, 0.81329079,\n",
       "         0.81329079, 0.54692673, 0.54692673, 0.45608983, 0.45608983,\n",
       "         0.39954898, 0.39954898, 0.74274802, 0.74274802, 0.31937429,\n",
       "         0.31937429, 0.96253412, 0.96253412, 0.73869713, 0.73869713,\n",
       "         0.45317419, 0.45317419, 0.68510572, 0.68510572, 0.36316411,\n",
       "         0.36316411, 0.18805671, 0.18805671, 0.59561964, 0.59561964])}}"
      ]
     },
     "execution_count": 11,
     "metadata": {},
     "output_type": "execute_result"
    }
   ],
   "source": [
    "ds = load_by_id(run_id_n)\n",
    "ds.get_parameter_data('x1')"
   ]
  },
  {
   "cell_type": "markdown",
   "metadata": {},
   "source": [
    "And a dataset stored as binary arrays"
   ]
  },
  {
   "cell_type": "code",
   "execution_count": 12,
   "metadata": {
    "scrolled": true
   },
   "outputs": [
    {
     "data": {
      "text/plain": [
       "{'x1': {'x1': array([[0.48173022],\n",
       "         [0.48173022],\n",
       "         [0.00494278],\n",
       "         [0.00494278],\n",
       "         [0.99826158],\n",
       "         [0.99826158],\n",
       "         [0.94611229],\n",
       "         [0.94611229],\n",
       "         [0.78905239],\n",
       "         [0.78905239],\n",
       "         [0.96197108],\n",
       "         [0.96197108],\n",
       "         [0.10837558],\n",
       "         [0.10837558],\n",
       "         [0.2312985 ],\n",
       "         [0.2312985 ],\n",
       "         [0.66241706],\n",
       "         [0.66241706],\n",
       "         [0.48734221],\n",
       "         [0.48734221],\n",
       "         [0.35851738],\n",
       "         [0.35851738],\n",
       "         [0.40912067],\n",
       "         [0.40912067],\n",
       "         [0.35229014],\n",
       "         [0.35229014],\n",
       "         [0.53845245],\n",
       "         [0.53845245],\n",
       "         [0.7088309 ],\n",
       "         [0.7088309 ],\n",
       "         [0.26529548],\n",
       "         [0.26529548],\n",
       "         [0.99273834],\n",
       "         [0.99273834],\n",
       "         [0.54121848],\n",
       "         [0.54121848],\n",
       "         [0.24225709],\n",
       "         [0.24225709],\n",
       "         [0.17370045],\n",
       "         [0.17370045],\n",
       "         [0.98409194],\n",
       "         [0.98409194],\n",
       "         [0.78263244],\n",
       "         [0.78263244],\n",
       "         [0.30029774],\n",
       "         [0.30029774],\n",
       "         [0.95906554],\n",
       "         [0.95906554],\n",
       "         [0.448597  ],\n",
       "         [0.448597  ],\n",
       "         [0.8663352 ],\n",
       "         [0.8663352 ],\n",
       "         [0.21783867],\n",
       "         [0.21783867],\n",
       "         [0.32870895],\n",
       "         [0.32870895],\n",
       "         [0.52523956],\n",
       "         [0.52523956],\n",
       "         [0.06163997],\n",
       "         [0.06163997],\n",
       "         [0.12964268],\n",
       "         [0.12964268],\n",
       "         [0.9465456 ],\n",
       "         [0.9465456 ],\n",
       "         [0.82014943],\n",
       "         [0.82014943],\n",
       "         [0.20739626],\n",
       "         [0.20739626],\n",
       "         [0.2575009 ],\n",
       "         [0.2575009 ],\n",
       "         [0.94296802],\n",
       "         [0.94296802],\n",
       "         [0.88095391],\n",
       "         [0.88095391],\n",
       "         [0.36935248],\n",
       "         [0.36935248],\n",
       "         [0.93407367],\n",
       "         [0.93407367],\n",
       "         [0.3178146 ],\n",
       "         [0.3178146 ],\n",
       "         [0.26745648],\n",
       "         [0.26745648],\n",
       "         [0.82410101],\n",
       "         [0.82410101],\n",
       "         [0.11877351],\n",
       "         [0.11877351],\n",
       "         [0.51528031],\n",
       "         [0.51528031],\n",
       "         [0.36059495],\n",
       "         [0.36059495],\n",
       "         [0.39397448],\n",
       "         [0.39397448],\n",
       "         [0.95535628],\n",
       "         [0.95535628],\n",
       "         [0.24474909],\n",
       "         [0.24474909],\n",
       "         [0.42010488],\n",
       "         [0.42010488],\n",
       "         [0.20278755],\n",
       "         [0.20278755],\n",
       "         [0.79284559],\n",
       "         [0.79284559],\n",
       "         [0.74706339],\n",
       "         [0.74706339],\n",
       "         [0.24216925],\n",
       "         [0.24216925],\n",
       "         [0.10058699],\n",
       "         [0.10058699],\n",
       "         [0.93115042],\n",
       "         [0.93115042],\n",
       "         [0.59046473],\n",
       "         [0.59046473],\n",
       "         [0.76273264],\n",
       "         [0.76273264],\n",
       "         [0.81672997],\n",
       "         [0.81672997],\n",
       "         [0.63085655],\n",
       "         [0.63085655],\n",
       "         [0.46380592],\n",
       "         [0.46380592],\n",
       "         [0.72110968],\n",
       "         [0.72110968],\n",
       "         [0.17349395],\n",
       "         [0.17349395],\n",
       "         [0.34281966],\n",
       "         [0.34281966],\n",
       "         [0.4945396 ],\n",
       "         [0.4945396 ],\n",
       "         [0.65406881],\n",
       "         [0.65406881],\n",
       "         [0.64897164],\n",
       "         [0.64897164],\n",
       "         [0.32901193],\n",
       "         [0.32901193],\n",
       "         [0.64819507],\n",
       "         [0.64819507],\n",
       "         [0.30094245],\n",
       "         [0.30094245],\n",
       "         [0.27531649],\n",
       "         [0.27531649],\n",
       "         [0.33402026],\n",
       "         [0.33402026],\n",
       "         [0.92124387],\n",
       "         [0.92124387],\n",
       "         [0.06968533],\n",
       "         [0.06968533],\n",
       "         [0.77632281],\n",
       "         [0.77632281],\n",
       "         [0.26002078],\n",
       "         [0.26002078],\n",
       "         [0.80129256],\n",
       "         [0.80129256],\n",
       "         [0.43251376],\n",
       "         [0.43251376],\n",
       "         [0.30442321],\n",
       "         [0.30442321],\n",
       "         [0.47813903],\n",
       "         [0.47813903],\n",
       "         [0.04314385],\n",
       "         [0.04314385],\n",
       "         [0.75873754],\n",
       "         [0.75873754],\n",
       "         [0.06263238],\n",
       "         [0.06263238],\n",
       "         [0.94989669],\n",
       "         [0.94989669],\n",
       "         [0.77849685],\n",
       "         [0.77849685],\n",
       "         [0.1491981 ],\n",
       "         [0.1491981 ],\n",
       "         [0.70569415],\n",
       "         [0.70569415],\n",
       "         [0.8554712 ],\n",
       "         [0.8554712 ],\n",
       "         [0.74145174],\n",
       "         [0.74145174],\n",
       "         [0.50324407],\n",
       "         [0.50324407],\n",
       "         [0.07456059],\n",
       "         [0.07456059],\n",
       "         [0.84179608],\n",
       "         [0.84179608],\n",
       "         [0.83669088],\n",
       "         [0.83669088],\n",
       "         [0.88903808],\n",
       "         [0.88903808],\n",
       "         [0.45864702],\n",
       "         [0.45864702],\n",
       "         [0.47783202],\n",
       "         [0.47783202],\n",
       "         [0.69669611],\n",
       "         [0.69669611],\n",
       "         [0.14409076],\n",
       "         [0.14409076],\n",
       "         [0.72544255],\n",
       "         [0.72544255],\n",
       "         [0.79186743],\n",
       "         [0.79186743],\n",
       "         [0.00507019],\n",
       "         [0.00507019]])}}"
      ]
     },
     "execution_count": 12,
     "metadata": {},
     "output_type": "execute_result"
    }
   ],
   "source": [
    "ds = load_by_id(run_id_a)\n",
    "ds.get_parameter_data('x1')"
   ]
  },
  {
   "cell_type": "code",
   "execution_count": null,
   "metadata": {},
   "outputs": [],
   "source": []
  }
 ],
 "metadata": {
  "kernelspec": {
   "display_name": "Python 3",
   "language": "python",
   "name": "python3"
  },
  "language_info": {
   "codemirror_mode": {
    "name": "ipython",
    "version": 3
   },
   "file_extension": ".py",
   "mimetype": "text/x-python",
   "name": "python",
   "nbconvert_exporter": "python",
   "pygments_lexer": "ipython3",
   "version": "3.7.7"
  },
  "nbsphinx": {
   "timeout": 600
  },
  "toc": {
   "base_numbering": 1,
   "nav_menu": {},
   "number_sections": true,
   "sideBar": true,
   "skip_h1_title": false,
   "title_cell": "Table of Contents",
   "title_sidebar": "Contents",
   "toc_cell": false,
   "toc_position": {},
   "toc_section_display": true,
   "toc_window_display": false
  },
  "varInspector": {
   "cols": {
    "lenName": 16,
    "lenType": 16,
    "lenVar": 40
   },
   "kernels_config": {
    "python": {
     "delete_cmd_postfix": "",
     "delete_cmd_prefix": "del ",
     "library": "var_list.py",
     "varRefreshCmd": "print(var_dic_list())"
    },
    "r": {
     "delete_cmd_postfix": ") ",
     "delete_cmd_prefix": "rm(",
     "library": "var_list.r",
     "varRefreshCmd": "cat(var_dic_list()) "
    }
   },
   "types_to_exclude": [
    "module",
    "function",
    "builtin_function_or_method",
    "instance",
    "_Feature"
   ],
   "window_display": false
  }
 },
 "nbformat": 4,
 "nbformat_minor": 2
}
