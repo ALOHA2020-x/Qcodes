{
 "cells": [
  {
   "cell_type": "markdown",
   "metadata": {},
   "source": [
    "# DataSet Performance\n",
    "\n",
    "This notebook shows the trade-off between inserting data into a database row-by-row and as binary blobs. Inserting the data row-by-row means that we have direct access to all the data and may perform queries directly on the values of the data. On the other hand, as we shall see, this is much slower than inserting the data directly as binary blobs."
   ]
  },
  {
   "cell_type": "markdown",
   "metadata": {},
   "source": [
    "First, we choose a new location for the database to ensure that we don't add a bunch of benchmarking data to the default one."
   ]
  },
  {
   "cell_type": "code",
   "execution_count": 1,
   "metadata": {},
   "outputs": [
    {
     "name": "stdout",
     "output_type": "stream",
     "text": [
      "Logging hadn't been started.\n",
      "Activating auto-logging. Current session state plus future input saved.\n",
      "Filename       : /home/vsts/.qcodes/logs/command_history.log\n",
      "Mode           : append\n",
      "Output logging : True\n",
      "Raw input log  : False\n",
      "Timestamping   : True\n",
      "State          : active\n"
     ]
    },
    {
     "name": "stdout",
     "output_type": "stream",
     "text": [
      "Qcodes Logfile : /home/vsts/.qcodes/logs/200526-19296-qcodes.log\n"
     ]
    }
   ],
   "source": [
    "import os\n",
    "cwd = os.getcwd()\n",
    "import qcodes as qc\n",
    "qc.config[\"core\"][\"db_location\"] = os.path.join(cwd, 'testing.db')\n"
   ]
  },
  {
   "cell_type": "code",
   "execution_count": 2,
   "metadata": {},
   "outputs": [],
   "source": [
    "%matplotlib inline\n",
    "import time\n",
    "import matplotlib.pyplot as plt\n",
    "import numpy as np\n",
    "\n",
    "import qcodes as qc\n",
    "from qcodes.instrument.parameter import ManualParameter\n",
    "from qcodes.dataset.experiment_container import (Experiment,\n",
    "                                                 load_last_experiment,\n",
    "                                                 new_experiment)\n",
    "from qcodes.dataset.sqlite.database import initialise_database\n",
    "from qcodes import load_or_create_experiment\n",
    "from qcodes.dataset.measurements import Measurement"
   ]
  },
  {
   "cell_type": "code",
   "execution_count": 3,
   "metadata": {},
   "outputs": [
    {
     "name": "stdout",
     "output_type": "stream",
     "text": [
      "\r",
      "0it [00:00, ?it/s]"
     ]
    },
    {
     "name": "stdout",
     "output_type": "stream",
     "text": [
      "\r",
      "Upgrading database; v0 -> v1: : 0it [00:00, ?it/s]"
     ]
    },
    {
     "name": "stdout",
     "output_type": "stream",
     "text": [
      "\r",
      "Upgrading database; v0 -> v1: : 0it [00:00, ?it/s]"
     ]
    },
    {
     "name": "stdout",
     "output_type": "stream",
     "text": [
      "\n",
      "\r",
      "  0%|          | 0/1 [00:00<?, ?it/s]"
     ]
    },
    {
     "name": "stdout",
     "output_type": "stream",
     "text": [
      "\r",
      "Upgrading database; v1 -> v2:   0%|          | 0/1 [00:00<?, ?it/s]"
     ]
    },
    {
     "name": "stdout",
     "output_type": "stream",
     "text": [
      "\r",
      "Upgrading database; v1 -> v2: 100%|██████████| 1/1 [00:00<00:00, 852.85it/s]"
     ]
    },
    {
     "name": "stdout",
     "output_type": "stream",
     "text": [
      "\n",
      "\r",
      "0it [00:00, ?it/s]"
     ]
    },
    {
     "name": "stdout",
     "output_type": "stream",
     "text": [
      "\r",
      "Upgrading database; v2 -> v3: : 0it [00:00, ?it/s]"
     ]
    },
    {
     "name": "stdout",
     "output_type": "stream",
     "text": [
      "\r",
      "Upgrading database; v2 -> v3: : 0it [00:00, ?it/s]"
     ]
    },
    {
     "name": "stdout",
     "output_type": "stream",
     "text": [
      "\n",
      "\r",
      "0it [00:00, ?it/s]"
     ]
    },
    {
     "name": "stdout",
     "output_type": "stream",
     "text": [
      "\r",
      "Upgrading database; v3 -> v4: : 0it [00:00, ?it/s]"
     ]
    },
    {
     "name": "stdout",
     "output_type": "stream",
     "text": [
      "\r",
      "Upgrading database; v3 -> v4: : 0it [00:00, ?it/s]"
     ]
    },
    {
     "name": "stdout",
     "output_type": "stream",
     "text": [
      "\n",
      "\r",
      "  0%|          | 0/1 [00:00<?, ?it/s]"
     ]
    },
    {
     "name": "stdout",
     "output_type": "stream",
     "text": [
      "\r",
      "Upgrading database; v4 -> v5:   0%|          | 0/1 [00:00<?, ?it/s]"
     ]
    },
    {
     "name": "stdout",
     "output_type": "stream",
     "text": [
      "\r",
      "Upgrading database; v4 -> v5: 100%|██████████| 1/1 [00:00<00:00, 866.05it/s]"
     ]
    },
    {
     "name": "stdout",
     "output_type": "stream",
     "text": [
      "\n",
      "\r",
      "0it [00:00, ?it/s]"
     ]
    },
    {
     "name": "stdout",
     "output_type": "stream",
     "text": [
      "\r",
      "Upgrading database; v5 -> v6: : 0it [00:00, ?it/s]"
     ]
    },
    {
     "name": "stdout",
     "output_type": "stream",
     "text": [
      "\r",
      "Upgrading database; v5 -> v6: : 0it [00:00, ?it/s]"
     ]
    },
    {
     "name": "stdout",
     "output_type": "stream",
     "text": [
      "\n",
      "\r",
      "  0%|          | 0/1 [00:00<?, ?it/s]"
     ]
    },
    {
     "name": "stdout",
     "output_type": "stream",
     "text": [
      "\r",
      "Upgrading database; v6 -> v7:   0%|          | 0/1 [00:00<?, ?it/s]"
     ]
    },
    {
     "name": "stdout",
     "output_type": "stream",
     "text": [
      "\r",
      "Upgrading database; v6 -> v7: 100%|██████████| 1/1 [00:00<00:00, 447.49it/s]"
     ]
    },
    {
     "name": "stdout",
     "output_type": "stream",
     "text": [
      "\n",
      "\r",
      "  0%|          | 0/1 [00:00<?, ?it/s]"
     ]
    },
    {
     "name": "stdout",
     "output_type": "stream",
     "text": [
      "\r",
      "Upgrading database; v7 -> v8:   0%|          | 0/1 [00:00<?, ?it/s]"
     ]
    },
    {
     "name": "stdout",
     "output_type": "stream",
     "text": [
      "\r",
      "Upgrading database; v7 -> v8: 100%|██████████| 1/1 [00:00<00:00, 940.22it/s]"
     ]
    },
    {
     "name": "stdout",
     "output_type": "stream",
     "text": [
      "\n",
      "\r",
      "  0%|          | 0/1 [00:00<?, ?it/s]"
     ]
    },
    {
     "name": "stdout",
     "output_type": "stream",
     "text": [
      "\r",
      "Upgrading database; v8 -> v9:   0%|          | 0/1 [00:00<?, ?it/s]"
     ]
    },
    {
     "name": "stdout",
     "output_type": "stream",
     "text": [
      "\r",
      "Upgrading database; v8 -> v9: 100%|██████████| 1/1 [00:00<00:00, 1000.55it/s]"
     ]
    },
    {
     "name": "stdout",
     "output_type": "stream",
     "text": [
      "\n"
     ]
    }
   ],
   "source": [
    "initialise_database()\n",
    "exp = load_or_create_experiment(experiment_name='tutorial_exp', sample_name=\"no sample\")"
   ]
  },
  {
   "cell_type": "markdown",
   "metadata": {},
   "source": [
    "Here, we define a simple function to benchmark the time it takes to insert n points with either numeric or array data type.\n",
    "We will compare both the time used to call ``add_result`` and the time used for the full measurement."
   ]
  },
  {
   "cell_type": "code",
   "execution_count": 4,
   "metadata": {},
   "outputs": [],
   "source": [
    "def insert_data(paramtype, npoints, nreps=1):\n",
    "\n",
    "    meas = Measurement(exp=exp)\n",
    "\n",
    "    x1 = ManualParameter('x1')\n",
    "    x2 = ManualParameter('x2')\n",
    "    x3 = ManualParameter('x3')\n",
    "    y1 = ManualParameter('y1')\n",
    "    y2 = ManualParameter('y2')\n",
    "\n",
    "    meas.register_parameter(x1, paramtype=paramtype)\n",
    "    meas.register_parameter(x2, paramtype=paramtype)\n",
    "    meas.register_parameter(x3, paramtype=paramtype)\n",
    "    meas.register_parameter(y1, setpoints=[x1, x2, x3],\n",
    "                            paramtype=paramtype)\n",
    "    meas.register_parameter(y2, setpoints=[x1, x2, x3],\n",
    "                            paramtype=paramtype)\n",
    "    start = time.perf_counter()\n",
    "    with meas.run() as datasaver:\n",
    "        start_adding = time.perf_counter()\n",
    "        for i in range(nreps):\n",
    "            datasaver.add_result((x1, np.random.rand(npoints)),\n",
    "                                 (x2, np.random.rand(npoints)),\n",
    "                                 (x3, np.random.rand(npoints)),\n",
    "                                 (y1, np.random.rand(npoints)),\n",
    "                                 (y2, np.random.rand(npoints)))\n",
    "        stop_adding = time.perf_counter()\n",
    "        run_id = datasaver.run_id\n",
    "    stop = time.perf_counter()\n",
    "    tot_time = stop - start\n",
    "    add_time = stop_adding - start_adding\n",
    "    return tot_time, add_time, run_id"
   ]
  },
  {
   "cell_type": "markdown",
   "metadata": {},
   "source": [
    "## Comparison between numeric/array data and binary blob"
   ]
  },
  {
   "cell_type": "markdown",
   "metadata": {},
   "source": [
    "### Case1: Short experiment time"
   ]
  },
  {
   "cell_type": "code",
   "execution_count": 5,
   "metadata": {},
   "outputs": [
    {
     "name": "stdout",
     "output_type": "stream",
     "text": [
      "Starting experimental run with id: 1. \n",
      "Starting experimental run with id: 2. \n",
      "Starting experimental run with id: 3. \n",
      "Starting experimental run with id: 4. \n"
     ]
    },
    {
     "name": "stdout",
     "output_type": "stream",
     "text": [
      "Starting experimental run with id: 5. \n"
     ]
    },
    {
     "name": "stdout",
     "output_type": "stream",
     "text": [
      "Starting experimental run with id: 6. \n"
     ]
    },
    {
     "name": "stdout",
     "output_type": "stream",
     "text": [
      "Starting experimental run with id: 7. \n",
      "Starting experimental run with id: 8. \n"
     ]
    },
    {
     "name": "stdout",
     "output_type": "stream",
     "text": [
      "Starting experimental run with id: 9. \n"
     ]
    },
    {
     "name": "stdout",
     "output_type": "stream",
     "text": [
      "Starting experimental run with id: 10. \n",
      "Starting experimental run with id: 11. \n"
     ]
    },
    {
     "name": "stdout",
     "output_type": "stream",
     "text": [
      "Starting experimental run with id: 12. \n"
     ]
    },
    {
     "name": "stdout",
     "output_type": "stream",
     "text": [
      "Starting experimental run with id: 13. \n"
     ]
    },
    {
     "name": "stdout",
     "output_type": "stream",
     "text": [
      "Starting experimental run with id: 14. \n"
     ]
    }
   ],
   "source": [
    "sizes = [1,500,1000,2000,3000,4000,5000]\n",
    "t_numeric = []\n",
    "t_numeric_add = []\n",
    "t_array = []\n",
    "t_array_add = []\n",
    "for size in sizes:\n",
    "    tn, tna, run_id_n =  insert_data('numeric', size)\n",
    "    t_numeric.append(tn)\n",
    "    t_numeric_add.append(tna)\n",
    "\n",
    "    ta, taa, run_id_a =  insert_data('array', size)\n",
    "    t_array.append(ta)\n",
    "    t_array_add.append(taa)"
   ]
  },
  {
   "cell_type": "code",
   "execution_count": 6,
   "metadata": {},
   "outputs": [
    {
     "data": {
      "image/png": "[encoded data removed]",
      "text/plain": [
       "<Figure size 432x288 with 1 Axes>"
      ]
     },
     "metadata": {
      "needs_background": "light"
     },
     "output_type": "display_data"
    }
   ],
   "source": [
    "fig, ax = plt.subplots(1,1)\n",
    "ax.plot(sizes, t_numeric, 'o-', label='Inserting row-by-row')\n",
    "ax.plot(sizes, t_numeric_add, 'o-', label='Inserting row-by-row: add_result only')\n",
    "ax.plot(sizes, t_array, 'd-', label='Inserting as binary blob')\n",
    "ax.plot(sizes, t_array_add, 'd-', label='Inserting as binary blob: add_result only')\n",
    "ax.legend()\n",
    "ax.set_xlabel('Array length')\n",
    "ax.set_ylabel('Time (s)')\n",
    "fig.tight_layout()"
   ]
  },
  {
   "cell_type": "markdown",
   "metadata": {},
   "source": [
    "As shown in the latter figure, the time to setup and and close the experiment is approximately 0.4 sec. In case of small array sizes, the difference between inserting values of data as arrays and inserting them row-by-row is relatively unimportant. At larger array sizes, i.e. above 10000 points, the cost of writing data as individual datapoints starts to become important.\n"
   ]
  },
  {
   "cell_type": "markdown",
   "metadata": {},
   "source": [
    "### Case2: Long experiment time "
   ]
  },
  {
   "cell_type": "code",
   "execution_count": 7,
   "metadata": {},
   "outputs": [
    {
     "name": "stdout",
     "output_type": "stream",
     "text": [
      "Starting experimental run with id: 15. \n",
      "Starting experimental run with id: 16. \n",
      "Starting experimental run with id: 17. \n"
     ]
    },
    {
     "name": "stdout",
     "output_type": "stream",
     "text": [
      "Starting experimental run with id: 18. \n",
      "Starting experimental run with id: 19. \n"
     ]
    },
    {
     "name": "stdout",
     "output_type": "stream",
     "text": [
      "Starting experimental run with id: 20. \n"
     ]
    },
    {
     "name": "stdout",
     "output_type": "stream",
     "text": [
      "Starting experimental run with id: 21. \n"
     ]
    },
    {
     "name": "stdout",
     "output_type": "stream",
     "text": [
      "Starting experimental run with id: 22. \n"
     ]
    },
    {
     "name": "stdout",
     "output_type": "stream",
     "text": [
      "Starting experimental run with id: 23. \n"
     ]
    },
    {
     "name": "stdout",
     "output_type": "stream",
     "text": [
      "Starting experimental run with id: 24. \n"
     ]
    },
    {
     "name": "stdout",
     "output_type": "stream",
     "text": [
      "Starting experimental run with id: 25. \n"
     ]
    },
    {
     "name": "stdout",
     "output_type": "stream",
     "text": [
      "Starting experimental run with id: 26. \n"
     ]
    },
    {
     "name": "stdout",
     "output_type": "stream",
     "text": [
      "Starting experimental run with id: 27. \n"
     ]
    },
    {
     "name": "stdout",
     "output_type": "stream",
     "text": [
      "Starting experimental run with id: 28. \n"
     ]
    }
   ],
   "source": [
    "sizes = [1,500,1000,2000,3000,4000,5000]\n",
    "nreps = 100\n",
    "t_numeric = []\n",
    "t_numeric_add = []\n",
    "t_numeric_run_ids = []\n",
    "t_array = []\n",
    "t_array_add = []\n",
    "t_array_run_ids = []\n",
    "for size in sizes:\n",
    "    tn, tna, run_id_n =  insert_data('numeric', size, nreps=nreps)\n",
    "    t_numeric.append(tn)\n",
    "    t_numeric_add.append(tna)\n",
    "    t_numeric_run_ids.append(run_id_n)\n",
    "\n",
    "    ta, taa, run_id_a =  insert_data('array', size, nreps=nreps)\n",
    "    t_array.append(ta)\n",
    "    t_array_add.append(taa)\n",
    "    t_array_run_ids.append(run_id_a)"
   ]
  },
  {
   "cell_type": "code",
   "execution_count": 8,
   "metadata": {
    "scrolled": true
   },
   "outputs": [
    {
     "data": {
      "image/png": "[encoded data removed]",
      "text/plain": [
       "<Figure size 432x288 with 1 Axes>"
      ]
     },
     "metadata": {
      "needs_background": "light"
     },
     "output_type": "display_data"
    }
   ],
   "source": [
    "fig, ax = plt.subplots(1,1)\n",
    "ax.plot(sizes, t_numeric, 'o-', label='Inserting row-by-row')\n",
    "ax.plot(sizes, t_numeric_add, 'o-', label='Inserting row-by-row: add_result only')\n",
    "ax.plot(sizes, t_array, 'd-', label='Inserting as binary blob')\n",
    "ax.plot(sizes, t_array_add, 'd-', label='Inserting as binary blob: add_result only')\n",
    "ax.legend()\n",
    "ax.set_xlabel('Array length')\n",
    "ax.set_ylabel('Time (s)')\n",
    "fig.tight_layout()"
   ]
  },
  {
   "cell_type": "markdown",
   "metadata": {},
   "source": [
    "However, as we increase the length of the experiment, as seen here by repeating the insertion 100 times, we see a big difference between inserting values of the data row-by-row and inserting it as a binary blob."
   ]
  },
  {
   "cell_type": "markdown",
   "metadata": {},
   "source": [
    "## Loading the data "
   ]
  },
  {
   "cell_type": "code",
   "execution_count": 9,
   "metadata": {},
   "outputs": [],
   "source": [
    "from qcodes.dataset.data_set import load_by_id\n",
    "from qcodes.dataset.data_export import get_data_by_id"
   ]
  },
  {
   "cell_type": "markdown",
   "metadata": {},
   "source": [
    "As usual you can load the data by using the ``load_by_id`` function but you will notice that the different storage methods\n",
    "are reflected in shape of the data as it is retrieved. "
   ]
  },
  {
   "cell_type": "code",
   "execution_count": 10,
   "metadata": {},
   "outputs": [],
   "source": [
    "run_id_n = t_numeric_run_ids[0]\n",
    "run_id_a = t_array_run_ids[0]"
   ]
  },
  {
   "cell_type": "code",
   "execution_count": 11,
   "metadata": {
    "scrolled": true
   },
   "outputs": [
    {
     "data": {
      "text/plain": [
       "{'x1': {'x1': array([0.84240003, 0.84240003, 0.15140215, 0.15140215, 0.19588992,\n",
       "         0.19588992, 0.82127584, 0.82127584, 0.37506411, 0.37506411,\n",
       "         0.61949991, 0.61949991, 0.9253302 , 0.9253302 , 0.1163585 ,\n",
       "         0.1163585 , 0.72990463, 0.72990463, 0.73400721, 0.73400721,\n",
       "         0.37924867, 0.37924867, 0.63554608, 0.63554608, 0.15083741,\n",
       "         0.15083741, 0.71374982, 0.71374982, 0.90040179, 0.90040179,\n",
       "         0.63128533, 0.63128533, 0.04284044, 0.04284044, 0.04344918,\n",
       "         0.04344918, 0.74328668, 0.74328668, 0.93998389, 0.93998389,\n",
       "         0.77038744, 0.77038744, 0.30716862, 0.30716862, 0.84892836,\n",
       "         0.84892836, 0.58662236, 0.58662236, 0.27054508, 0.27054508,\n",
       "         0.56784245, 0.56784245, 0.63555296, 0.63555296, 0.47902087,\n",
       "         0.47902087, 0.06646497, 0.06646497, 0.48599633, 0.48599633,\n",
       "         0.54848479, 0.54848479, 0.95354436, 0.95354436, 0.29334992,\n",
       "         0.29334992, 0.30358282, 0.30358282, 0.40376464, 0.40376464,\n",
       "         0.32230587, 0.32230587, 0.74116117, 0.74116117, 0.30520486,\n",
       "         0.30520486, 0.99577534, 0.99577534, 0.75894913, 0.75894913,\n",
       "         0.99851813, 0.99851813, 0.58577479, 0.58577479, 0.19373242,\n",
       "         0.19373242, 0.87950947, 0.87950947, 0.58047519, 0.58047519,\n",
       "         0.29102435, 0.29102435, 0.06389303, 0.06389303, 0.44343167,\n",
       "         0.44343167, 0.16605164, 0.16605164, 0.51087619, 0.51087619,\n",
       "         0.10582259, 0.10582259, 0.81188181, 0.81188181, 0.51203893,\n",
       "         0.51203893, 0.48045386, 0.48045386, 0.81113704, 0.81113704,\n",
       "         0.7372079 , 0.7372079 , 0.64770591, 0.64770591, 0.9306368 ,\n",
       "         0.9306368 , 0.41126532, 0.41126532, 0.86357181, 0.86357181,\n",
       "         0.54826665, 0.54826665, 0.02857162, 0.02857162, 0.87911666,\n",
       "         0.87911666, 0.19233999, 0.19233999, 0.4726956 , 0.4726956 ,\n",
       "         0.33816584, 0.33816584, 0.75666889, 0.75666889, 0.11673755,\n",
       "         0.11673755, 0.01666066, 0.01666066, 0.88662443, 0.88662443,\n",
       "         0.69235998, 0.69235998, 0.13785846, 0.13785846, 0.97588695,\n",
       "         0.97588695, 0.2198847 , 0.2198847 , 0.89721938, 0.89721938,\n",
       "         0.83313446, 0.83313446, 0.89884431, 0.89884431, 0.19087364,\n",
       "         0.19087364, 0.28829899, 0.28829899, 0.69141058, 0.69141058,\n",
       "         0.14331473, 0.14331473, 0.31882036, 0.31882036, 0.41250309,\n",
       "         0.41250309, 0.52750501, 0.52750501, 0.93249344, 0.93249344,\n",
       "         0.09123999, 0.09123999, 0.70938964, 0.70938964, 0.16536101,\n",
       "         0.16536101, 0.09020465, 0.09020465, 0.57679499, 0.57679499,\n",
       "         0.95514062, 0.95514062, 0.55048005, 0.55048005, 0.67006301,\n",
       "         0.67006301, 0.00812963, 0.00812963, 0.07542085, 0.07542085,\n",
       "         0.30528992, 0.30528992, 0.59598536, 0.59598536, 0.22198477,\n",
       "         0.22198477, 0.64943109, 0.64943109, 0.7714987 , 0.7714987 ])}}"
      ]
     },
     "execution_count": 11,
     "metadata": {},
     "output_type": "execute_result"
    }
   ],
   "source": [
    "ds = load_by_id(run_id_n)\n",
    "ds.get_parameter_data('x1')"
   ]
  },
  {
   "cell_type": "markdown",
   "metadata": {},
   "source": [
    "And a dataset stored as binary arrays"
   ]
  },
  {
   "cell_type": "code",
   "execution_count": 12,
   "metadata": {
    "scrolled": true
   },
   "outputs": [
    {
     "data": {
      "text/plain": [
       "{'x1': {'x1': array([[0.5932151 ],\n",
       "         [0.5932151 ],\n",
       "         [0.67309254],\n",
       "         [0.67309254],\n",
       "         [0.70929607],\n",
       "         [0.70929607],\n",
       "         [0.51737286],\n",
       "         [0.51737286],\n",
       "         [0.70504781],\n",
       "         [0.70504781],\n",
       "         [0.89003334],\n",
       "         [0.89003334],\n",
       "         [0.15949817],\n",
       "         [0.15949817],\n",
       "         [0.02032044],\n",
       "         [0.02032044],\n",
       "         [0.4556423 ],\n",
       "         [0.4556423 ],\n",
       "         [0.0821579 ],\n",
       "         [0.0821579 ],\n",
       "         [0.01123495],\n",
       "         [0.01123495],\n",
       "         [0.94396362],\n",
       "         [0.94396362],\n",
       "         [0.22204198],\n",
       "         [0.22204198],\n",
       "         [0.93185157],\n",
       "         [0.93185157],\n",
       "         [0.22854509],\n",
       "         [0.22854509],\n",
       "         [0.94258933],\n",
       "         [0.94258933],\n",
       "         [0.89733749],\n",
       "         [0.89733749],\n",
       "         [0.73391321],\n",
       "         [0.73391321],\n",
       "         [0.17255931],\n",
       "         [0.17255931],\n",
       "         [0.29526809],\n",
       "         [0.29526809],\n",
       "         [0.69630143],\n",
       "         [0.69630143],\n",
       "         [0.1217006 ],\n",
       "         [0.1217006 ],\n",
       "         [0.63606907],\n",
       "         [0.63606907],\n",
       "         [0.46984785],\n",
       "         [0.46984785],\n",
       "         [0.3493165 ],\n",
       "         [0.3493165 ],\n",
       "         [0.86584482],\n",
       "         [0.86584482],\n",
       "         [0.69242337],\n",
       "         [0.69242337],\n",
       "         [0.91423504],\n",
       "         [0.91423504],\n",
       "         [0.68464019],\n",
       "         [0.68464019],\n",
       "         [0.89436881],\n",
       "         [0.89436881],\n",
       "         [0.55780134],\n",
       "         [0.55780134],\n",
       "         [0.58327756],\n",
       "         [0.58327756],\n",
       "         [0.79121776],\n",
       "         [0.79121776],\n",
       "         [0.86746949],\n",
       "         [0.86746949],\n",
       "         [0.26245857],\n",
       "         [0.26245857],\n",
       "         [0.74775343],\n",
       "         [0.74775343],\n",
       "         [0.88200967],\n",
       "         [0.88200967],\n",
       "         [0.77279145],\n",
       "         [0.77279145],\n",
       "         [0.71392965],\n",
       "         [0.71392965],\n",
       "         [0.72749721],\n",
       "         [0.72749721],\n",
       "         [0.39579792],\n",
       "         [0.39579792],\n",
       "         [0.84000564],\n",
       "         [0.84000564],\n",
       "         [0.36185783],\n",
       "         [0.36185783],\n",
       "         [0.83824257],\n",
       "         [0.83824257],\n",
       "         [0.98077927],\n",
       "         [0.98077927],\n",
       "         [0.73759415],\n",
       "         [0.73759415],\n",
       "         [0.6750865 ],\n",
       "         [0.6750865 ],\n",
       "         [0.17048137],\n",
       "         [0.17048137],\n",
       "         [0.31807098],\n",
       "         [0.31807098],\n",
       "         [0.69767574],\n",
       "         [0.69767574],\n",
       "         [0.38445632],\n",
       "         [0.38445632],\n",
       "         [0.20495618],\n",
       "         [0.20495618],\n",
       "         [0.95673014],\n",
       "         [0.95673014],\n",
       "         [0.78317376],\n",
       "         [0.78317376],\n",
       "         [0.03207981],\n",
       "         [0.03207981],\n",
       "         [0.84470317],\n",
       "         [0.84470317],\n",
       "         [0.7992313 ],\n",
       "         [0.7992313 ],\n",
       "         [0.63640072],\n",
       "         [0.63640072],\n",
       "         [0.8201704 ],\n",
       "         [0.8201704 ],\n",
       "         [0.90268198],\n",
       "         [0.90268198],\n",
       "         [0.11885571],\n",
       "         [0.11885571],\n",
       "         [0.33106343],\n",
       "         [0.33106343],\n",
       "         [0.91483171],\n",
       "         [0.91483171],\n",
       "         [0.21889184],\n",
       "         [0.21889184],\n",
       "         [0.6646515 ],\n",
       "         [0.6646515 ],\n",
       "         [0.70937147],\n",
       "         [0.70937147],\n",
       "         [0.46622575],\n",
       "         [0.46622575],\n",
       "         [0.32142065],\n",
       "         [0.32142065],\n",
       "         [0.16533477],\n",
       "         [0.16533477],\n",
       "         [0.90437526],\n",
       "         [0.90437526],\n",
       "         [0.03623279],\n",
       "         [0.03623279],\n",
       "         [0.34359797],\n",
       "         [0.34359797],\n",
       "         [0.26191852],\n",
       "         [0.26191852],\n",
       "         [0.16336166],\n",
       "         [0.16336166],\n",
       "         [0.03852584],\n",
       "         [0.03852584],\n",
       "         [0.62713123],\n",
       "         [0.62713123],\n",
       "         [0.21803201],\n",
       "         [0.21803201],\n",
       "         [0.18641577],\n",
       "         [0.18641577],\n",
       "         [0.44294329],\n",
       "         [0.44294329],\n",
       "         [0.29767554],\n",
       "         [0.29767554],\n",
       "         [0.74786879],\n",
       "         [0.74786879],\n",
       "         [0.85966351],\n",
       "         [0.85966351],\n",
       "         [0.77389566],\n",
       "         [0.77389566],\n",
       "         [0.91851957],\n",
       "         [0.91851957],\n",
       "         [0.5258639 ],\n",
       "         [0.5258639 ],\n",
       "         [0.12299541],\n",
       "         [0.12299541],\n",
       "         [0.56874557],\n",
       "         [0.56874557],\n",
       "         [0.33048074],\n",
       "         [0.33048074],\n",
       "         [0.54226362],\n",
       "         [0.54226362],\n",
       "         [0.52916263],\n",
       "         [0.52916263],\n",
       "         [0.35628866],\n",
       "         [0.35628866],\n",
       "         [0.19237977],\n",
       "         [0.19237977],\n",
       "         [0.20952496],\n",
       "         [0.20952496],\n",
       "         [0.14617575],\n",
       "         [0.14617575],\n",
       "         [0.06278797],\n",
       "         [0.06278797],\n",
       "         [0.17269348],\n",
       "         [0.17269348],\n",
       "         [0.57678939],\n",
       "         [0.57678939],\n",
       "         [0.13472922],\n",
       "         [0.13472922],\n",
       "         [0.01300786],\n",
       "         [0.01300786],\n",
       "         [0.88694135],\n",
       "         [0.88694135]])}}"
      ]
     },
     "execution_count": 12,
     "metadata": {},
     "output_type": "execute_result"
    }
   ],
   "source": [
    "ds = load_by_id(run_id_a)\n",
    "ds.get_parameter_data('x1')"
   ]
  },
  {
   "cell_type": "code",
   "execution_count": null,
   "metadata": {},
   "outputs": [],
   "source": []
  }
 ],
 "metadata": {
  "kernelspec": {
   "display_name": "Python 3",
   "language": "python",
   "name": "python3"
  },
  "language_info": {
   "codemirror_mode": {
    "name": "ipython",
    "version": 3
   },
   "file_extension": ".py",
   "mimetype": "text/x-python",
   "name": "python",
   "nbconvert_exporter": "python",
   "pygments_lexer": "ipython3",
   "version": "3.7.7"
  },
  "nbsphinx": {
   "timeout": 600
  },
  "toc": {
   "base_numbering": 1,
   "nav_menu": {},
   "number_sections": true,
   "sideBar": true,
   "skip_h1_title": false,
   "title_cell": "Table of Contents",
   "title_sidebar": "Contents",
   "toc_cell": false,
   "toc_position": {},
   "toc_section_display": true,
   "toc_window_display": false
  },
  "varInspector": {
   "cols": {
    "lenName": 16,
    "lenType": 16,
    "lenVar": 40
   },
   "kernels_config": {
    "python": {
     "delete_cmd_postfix": "",
     "delete_cmd_prefix": "del ",
     "library": "var_list.py",
     "varRefreshCmd": "print(var_dic_list())"
    },
    "r": {
     "delete_cmd_postfix": ") ",
     "delete_cmd_prefix": "rm(",
     "library": "var_list.r",
     "varRefreshCmd": "cat(var_dic_list()) "
    }
   },
   "types_to_exclude": [
    "module",
    "function",
    "builtin_function_or_method",
    "instance",
    "_Feature"
   ],
   "window_display": false
  }
 },
 "nbformat": 4,
 "nbformat_minor": 2
}
