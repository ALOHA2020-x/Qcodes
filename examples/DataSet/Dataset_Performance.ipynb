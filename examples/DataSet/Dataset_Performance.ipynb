{
 "cells": [
  {
   "cell_type": "markdown",
   "metadata": {},
   "source": [
    "# DataSet Performance\n",
    "\n",
    "This notebook shows the trade-off between inserting data into a database row-by-row and as binary blobs. Inserting the data row-by-row means that we have direct access to all the data and may perform queries directly on the values of the data. On the other hand, as we shall see, this is much slower than inserting the data directly as binary blobs."
   ]
  },
  {
   "cell_type": "markdown",
   "metadata": {},
   "source": [
    "First, we choose a new location for the database to ensure that we don't add a bunch of benchmarking data to the default one."
   ]
  },
  {
   "cell_type": "code",
   "execution_count": 1,
   "metadata": {
    "execution": {
     "iopub.execute_input": "2021-03-02T21:12:19.436900Z",
     "iopub.status.busy": "2021-03-02T21:12:19.436395Z",
     "iopub.status.idle": "2021-03-02T21:12:20.154935Z",
     "shell.execute_reply": "2021-03-02T21:12:20.155272Z"
    }
   },
   "outputs": [
    {
     "name": "stdout",
     "output_type": "stream",
     "text": [
      "Logging hadn't been started.\n",
      "Activating auto-logging. Current session state plus future input saved.\n",
      "Filename       : /home/runner/.qcodes/logs/command_history.log\n",
      "Mode           : append\n",
      "Output logging : True\n",
      "Raw input log  : False\n",
      "Timestamping   : True\n",
      "State          : active\n"
     ]
    },
    {
     "name": "stdout",
     "output_type": "stream",
     "text": [
      "Qcodes Logfile : /home/runner/.qcodes/logs/210302-4364-qcodes.log\n"
     ]
    }
   ],
   "source": [
    "import os\n",
    "cwd = os.getcwd()\n",
    "import qcodes as qc\n",
    "qc.config[\"core\"][\"db_location\"] = os.path.join(cwd, 'testing.db')\n"
   ]
  },
  {
   "cell_type": "code",
   "execution_count": 2,
   "metadata": {
    "execution": {
     "iopub.execute_input": "2021-03-02T21:12:20.159725Z",
     "iopub.status.busy": "2021-03-02T21:12:20.158981Z",
     "iopub.status.idle": "2021-03-02T21:12:20.306369Z",
     "shell.execute_reply": "2021-03-02T21:12:20.305677Z"
    }
   },
   "outputs": [],
   "source": [
    "%matplotlib inline\n",
    "import time\n",
    "import matplotlib.pyplot as plt\n",
    "import numpy as np\n",
    "\n",
    "import qcodes as qc\n",
    "from qcodes.instrument.parameter import ManualParameter\n",
    "from qcodes.dataset.experiment_container import (Experiment,\n",
    "                                                 load_last_experiment,\n",
    "                                                 new_experiment)\n",
    "from qcodes.dataset.sqlite.database import initialise_database\n",
    "from qcodes import load_or_create_experiment\n",
    "from qcodes.dataset.measurements import Measurement"
   ]
  },
  {
   "cell_type": "code",
   "execution_count": 3,
   "metadata": {
    "execution": {
     "iopub.execute_input": "2021-03-02T21:12:20.309970Z",
     "iopub.status.busy": "2021-03-02T21:12:20.309375Z",
     "iopub.status.idle": "2021-03-02T21:12:20.399003Z",
     "shell.execute_reply": "2021-03-02T21:12:20.398525Z"
    }
   },
   "outputs": [
    {
     "name": "stdout",
     "output_type": "stream",
     "text": [
      "\r",
      "0it [00:00, ?it/s]"
     ]
    },
    {
     "name": "stdout",
     "output_type": "stream",
     "text": [
      "\r",
      "Upgrading database; v0 -> v1: : 0it [00:00, ?it/s]"
     ]
    },
    {
     "name": "stdout",
     "output_type": "stream",
     "text": [
      "\r",
      "Upgrading database; v0 -> v1: : 0it [00:00, ?it/s]"
     ]
    },
    {
     "name": "stdout",
     "output_type": "stream",
     "text": [
      "\n",
      "\r",
      "  0%|          | 0/1 [00:00<?, ?it/s]"
     ]
    },
    {
     "name": "stdout",
     "output_type": "stream",
     "text": [
      "\r",
      "Upgrading database; v1 -> v2:   0%|          | 0/1 [00:00<?, ?it/s]"
     ]
    },
    {
     "name": "stdout",
     "output_type": "stream",
     "text": [
      "\r",
      "Upgrading database; v1 -> v2: 100%|██████████| 1/1 [00:00<00:00, 1254.65it/s]"
     ]
    },
    {
     "name": "stdout",
     "output_type": "stream",
     "text": [
      "\n",
      "\r",
      "0it [00:00, ?it/s]"
     ]
    },
    {
     "name": "stdout",
     "output_type": "stream",
     "text": [
      "\r",
      "Upgrading database; v2 -> v3: : 0it [00:00, ?it/s]"
     ]
    },
    {
     "name": "stdout",
     "output_type": "stream",
     "text": [
      "\r",
      "Upgrading database; v2 -> v3: : 0it [00:00, ?it/s]"
     ]
    },
    {
     "name": "stdout",
     "output_type": "stream",
     "text": [
      "\n",
      "\r",
      "0it [00:00, ?it/s]"
     ]
    },
    {
     "name": "stdout",
     "output_type": "stream",
     "text": [
      "\r",
      "Upgrading database; v3 -> v4: : 0it [00:00, ?it/s]"
     ]
    },
    {
     "name": "stdout",
     "output_type": "stream",
     "text": [
      "\r",
      "Upgrading database; v3 -> v4: : 0it [00:00, ?it/s]"
     ]
    },
    {
     "name": "stdout",
     "output_type": "stream",
     "text": [
      "\n",
      "\r",
      "  0%|          | 0/1 [00:00<?, ?it/s]"
     ]
    },
    {
     "name": "stdout",
     "output_type": "stream",
     "text": [
      "\r",
      "Upgrading database; v4 -> v5:   0%|          | 0/1 [00:00<?, ?it/s]"
     ]
    },
    {
     "name": "stdout",
     "output_type": "stream",
     "text": [
      "\r",
      "Upgrading database; v4 -> v5: 100%|██████████| 1/1 [00:00<00:00, 467.80it/s]"
     ]
    },
    {
     "name": "stdout",
     "output_type": "stream",
     "text": [
      "\n",
      "\r",
      "0it [00:00, ?it/s]"
     ]
    },
    {
     "name": "stdout",
     "output_type": "stream",
     "text": [
      "\r",
      "Upgrading database; v5 -> v6: : 0it [00:00, ?it/s]"
     ]
    },
    {
     "name": "stdout",
     "output_type": "stream",
     "text": [
      "\r",
      "Upgrading database; v5 -> v6: : 0it [00:00, ?it/s]"
     ]
    },
    {
     "name": "stdout",
     "output_type": "stream",
     "text": [
      "\n",
      "\r",
      "  0%|          | 0/1 [00:00<?, ?it/s]"
     ]
    },
    {
     "name": "stdout",
     "output_type": "stream",
     "text": [
      "\r",
      "Upgrading database; v6 -> v7:   0%|          | 0/1 [00:00<?, ?it/s]"
     ]
    },
    {
     "name": "stdout",
     "output_type": "stream",
     "text": [
      "\r",
      "Upgrading database; v6 -> v7: 100%|██████████| 1/1 [00:00<00:00, 410.68it/s]"
     ]
    },
    {
     "name": "stdout",
     "output_type": "stream",
     "text": [
      "\n",
      "\r",
      "  0%|          | 0/1 [00:00<?, ?it/s]"
     ]
    },
    {
     "name": "stdout",
     "output_type": "stream",
     "text": [
      "\r",
      "Upgrading database; v7 -> v8:   0%|          | 0/1 [00:00<?, ?it/s]"
     ]
    },
    {
     "name": "stdout",
     "output_type": "stream",
     "text": [
      "\r",
      "Upgrading database; v7 -> v8: 100%|██████████| 1/1 [00:00<00:00, 1227.12it/s]"
     ]
    },
    {
     "name": "stdout",
     "output_type": "stream",
     "text": [
      "\n",
      "\r",
      "  0%|          | 0/1 [00:00<?, ?it/s]"
     ]
    },
    {
     "name": "stdout",
     "output_type": "stream",
     "text": [
      "\r",
      "Upgrading database; v8 -> v9:   0%|          | 0/1 [00:00<?, ?it/s]"
     ]
    },
    {
     "name": "stdout",
     "output_type": "stream",
     "text": [
      "\r",
      "Upgrading database; v8 -> v9: 100%|██████████| 1/1 [00:00<00:00, 1322.29it/s]"
     ]
    },
    {
     "name": "stdout",
     "output_type": "stream",
     "text": [
      "\n"
     ]
    }
   ],
   "source": [
    "initialise_database()\n",
    "exp = load_or_create_experiment(experiment_name='tutorial_exp', sample_name=\"no sample\")"
   ]
  },
  {
   "cell_type": "markdown",
   "metadata": {},
   "source": [
    "Here, we define a simple function to benchmark the time it takes to insert n points with either numeric or array data type.\n",
    "We will compare both the time used to call ``add_result`` and the time used for the full measurement."
   ]
  },
  {
   "cell_type": "code",
   "execution_count": 4,
   "metadata": {
    "execution": {
     "iopub.execute_input": "2021-03-02T21:12:20.406624Z",
     "iopub.status.busy": "2021-03-02T21:12:20.405885Z",
     "iopub.status.idle": "2021-03-02T21:12:20.407808Z",
     "shell.execute_reply": "2021-03-02T21:12:20.407376Z"
    }
   },
   "outputs": [],
   "source": [
    "def insert_data(paramtype, npoints, nreps=1):\n",
    "\n",
    "    meas = Measurement(exp=exp)\n",
    "\n",
    "    x1 = ManualParameter('x1')\n",
    "    x2 = ManualParameter('x2')\n",
    "    x3 = ManualParameter('x3')\n",
    "    y1 = ManualParameter('y1')\n",
    "    y2 = ManualParameter('y2')\n",
    "\n",
    "    meas.register_parameter(x1, paramtype=paramtype)\n",
    "    meas.register_parameter(x2, paramtype=paramtype)\n",
    "    meas.register_parameter(x3, paramtype=paramtype)\n",
    "    meas.register_parameter(y1, setpoints=[x1, x2, x3],\n",
    "                            paramtype=paramtype)\n",
    "    meas.register_parameter(y2, setpoints=[x1, x2, x3],\n",
    "                            paramtype=paramtype)\n",
    "    start = time.perf_counter()\n",
    "    with meas.run() as datasaver:\n",
    "        start_adding = time.perf_counter()\n",
    "        for i in range(nreps):\n",
    "            datasaver.add_result((x1, np.random.rand(npoints)),\n",
    "                                 (x2, np.random.rand(npoints)),\n",
    "                                 (x3, np.random.rand(npoints)),\n",
    "                                 (y1, np.random.rand(npoints)),\n",
    "                                 (y2, np.random.rand(npoints)))\n",
    "        stop_adding = time.perf_counter()\n",
    "        run_id = datasaver.run_id\n",
    "    stop = time.perf_counter()\n",
    "    tot_time = stop - start\n",
    "    add_time = stop_adding - start_adding\n",
    "    return tot_time, add_time, run_id"
   ]
  },
  {
   "cell_type": "markdown",
   "metadata": {},
   "source": [
    "## Comparison between numeric/array data and binary blob"
   ]
  },
  {
   "cell_type": "markdown",
   "metadata": {},
   "source": [
    "### Case1: Short experiment time"
   ]
  },
  {
   "cell_type": "code",
   "execution_count": 5,
   "metadata": {
    "execution": {
     "iopub.execute_input": "2021-03-02T21:12:20.414241Z",
     "iopub.status.busy": "2021-03-02T21:12:20.413580Z",
     "iopub.status.idle": "2021-03-02T21:12:21.064000Z",
     "shell.execute_reply": "2021-03-02T21:12:21.063348Z"
    }
   },
   "outputs": [
    {
     "name": "stdout",
     "output_type": "stream",
     "text": [
      "Starting experimental run with id: 1. \n",
      "Starting experimental run with id: 2. \n",
      "Starting experimental run with id: 3. \n",
      "Starting experimental run with id: 4. \n",
      "Starting experimental run with id: 5. \n",
      "Starting experimental run with id: 6. \n",
      "Starting experimental run with id: 7. \n"
     ]
    },
    {
     "name": "stdout",
     "output_type": "stream",
     "text": [
      "Starting experimental run with id: 8. \n",
      "Starting experimental run with id: 9. \n"
     ]
    },
    {
     "name": "stdout",
     "output_type": "stream",
     "text": [
      "Starting experimental run with id: 10. \n",
      "Starting experimental run with id: 11. \n"
     ]
    },
    {
     "name": "stdout",
     "output_type": "stream",
     "text": [
      "Starting experimental run with id: 12. \n",
      "Starting experimental run with id: 13. \n"
     ]
    },
    {
     "name": "stdout",
     "output_type": "stream",
     "text": [
      "Starting experimental run with id: 14. \n"
     ]
    }
   ],
   "source": [
    "sizes = [1,500,1000,2000,3000,4000,5000]\n",
    "t_numeric = []\n",
    "t_numeric_add = []\n",
    "t_array = []\n",
    "t_array_add = []\n",
    "for size in sizes:\n",
    "    tn, tna, run_id_n =  insert_data('numeric', size)\n",
    "    t_numeric.append(tn)\n",
    "    t_numeric_add.append(tna)\n",
    "\n",
    "    ta, taa, run_id_a =  insert_data('array', size)\n",
    "    t_array.append(ta)\n",
    "    t_array_add.append(taa)"
   ]
  },
  {
   "cell_type": "code",
   "execution_count": 6,
   "metadata": {
    "execution": {
     "iopub.execute_input": "2021-03-02T21:12:21.079468Z",
     "iopub.status.busy": "2021-03-02T21:12:21.078972Z",
     "iopub.status.idle": "2021-03-02T21:12:21.242382Z",
     "shell.execute_reply": "2021-03-02T21:12:21.242956Z"
    }
   },
   "outputs": [
    {
     "data": {
      "image/png": "[encoded data removed]",
      "text/plain": [
       "<Figure size 432x288 with 1 Axes>"
      ]
     },
     "metadata": {
      "needs_background": "light"
     },
     "output_type": "display_data"
    }
   ],
   "source": [
    "fig, ax = plt.subplots(1,1)\n",
    "ax.plot(sizes, t_numeric, 'o-', label='Inserting row-by-row')\n",
    "ax.plot(sizes, t_numeric_add, 'o-', label='Inserting row-by-row: add_result only')\n",
    "ax.plot(sizes, t_array, 'd-', label='Inserting as binary blob')\n",
    "ax.plot(sizes, t_array_add, 'd-', label='Inserting as binary blob: add_result only')\n",
    "ax.legend()\n",
    "ax.set_xlabel('Array length')\n",
    "ax.set_ylabel('Time (s)')\n",
    "fig.tight_layout()"
   ]
  },
  {
   "cell_type": "markdown",
   "metadata": {},
   "source": [
    "As shown in the latter figure, the time to setup and and close the experiment is approximately 0.4 sec. In case of small array sizes, the difference between inserting values of data as arrays and inserting them row-by-row is relatively unimportant. At larger array sizes, i.e. above 10000 points, the cost of writing data as individual datapoints starts to become important.\n"
   ]
  },
  {
   "cell_type": "markdown",
   "metadata": {},
   "source": [
    "### Case2: Long experiment time "
   ]
  },
  {
   "cell_type": "code",
   "execution_count": 7,
   "metadata": {
    "execution": {
     "iopub.execute_input": "2021-03-02T21:12:21.246174Z",
     "iopub.status.busy": "2021-03-02T21:12:21.245114Z",
     "iopub.status.idle": "2021-03-02T21:13:09.516963Z",
     "shell.execute_reply": "2021-03-02T21:13:09.517349Z"
    }
   },
   "outputs": [
    {
     "name": "stdout",
     "output_type": "stream",
     "text": [
      "Starting experimental run with id: 15. \n",
      "Starting experimental run with id: 16. \n",
      "Starting experimental run with id: 17. \n"
     ]
    },
    {
     "name": "stdout",
     "output_type": "stream",
     "text": [
      "Starting experimental run with id: 18. \n",
      "Starting experimental run with id: 19. \n"
     ]
    },
    {
     "name": "stdout",
     "output_type": "stream",
     "text": [
      "Starting experimental run with id: 20. \n"
     ]
    },
    {
     "name": "stdout",
     "output_type": "stream",
     "text": [
      "Starting experimental run with id: 21. \n"
     ]
    },
    {
     "name": "stdout",
     "output_type": "stream",
     "text": [
      "Starting experimental run with id: 22. \n"
     ]
    },
    {
     "name": "stdout",
     "output_type": "stream",
     "text": [
      "Starting experimental run with id: 23. \n"
     ]
    },
    {
     "name": "stdout",
     "output_type": "stream",
     "text": [
      "Starting experimental run with id: 24. \n"
     ]
    },
    {
     "name": "stdout",
     "output_type": "stream",
     "text": [
      "Starting experimental run with id: 25. \n"
     ]
    },
    {
     "name": "stdout",
     "output_type": "stream",
     "text": [
      "Starting experimental run with id: 26. \n"
     ]
    },
    {
     "name": "stdout",
     "output_type": "stream",
     "text": [
      "Starting experimental run with id: 27. \n"
     ]
    },
    {
     "name": "stdout",
     "output_type": "stream",
     "text": [
      "Starting experimental run with id: 28. \n"
     ]
    }
   ],
   "source": [
    "sizes = [1,500,1000,2000,3000,4000,5000]\n",
    "nreps = 100\n",
    "t_numeric = []\n",
    "t_numeric_add = []\n",
    "t_numeric_run_ids = []\n",
    "t_array = []\n",
    "t_array_add = []\n",
    "t_array_run_ids = []\n",
    "for size in sizes:\n",
    "    tn, tna, run_id_n =  insert_data('numeric', size, nreps=nreps)\n",
    "    t_numeric.append(tn)\n",
    "    t_numeric_add.append(tna)\n",
    "    t_numeric_run_ids.append(run_id_n)\n",
    "\n",
    "    ta, taa, run_id_a =  insert_data('array', size, nreps=nreps)\n",
    "    t_array.append(ta)\n",
    "    t_array_add.append(taa)\n",
    "    t_array_run_ids.append(run_id_a)"
   ]
  },
  {
   "cell_type": "code",
   "execution_count": 8,
   "metadata": {
    "execution": {
     "iopub.execute_input": "2021-03-02T21:13:09.549831Z",
     "iopub.status.busy": "2021-03-02T21:13:09.549116Z",
     "iopub.status.idle": "2021-03-02T21:13:09.679945Z",
     "shell.execute_reply": "2021-03-02T21:13:09.680581Z"
    },
    "scrolled": true
   },
   "outputs": [
    {
     "data": {
      "image/png": "[encoded data removed]",
      "text/plain": [
       "<Figure size 432x288 with 1 Axes>"
      ]
     },
     "metadata": {
      "needs_background": "light"
     },
     "output_type": "display_data"
    }
   ],
   "source": [
    "fig, ax = plt.subplots(1,1)\n",
    "ax.plot(sizes, t_numeric, 'o-', label='Inserting row-by-row')\n",
    "ax.plot(sizes, t_numeric_add, 'o-', label='Inserting row-by-row: add_result only')\n",
    "ax.plot(sizes, t_array, 'd-', label='Inserting as binary blob')\n",
    "ax.plot(sizes, t_array_add, 'd-', label='Inserting as binary blob: add_result only')\n",
    "ax.legend()\n",
    "ax.set_xlabel('Array length')\n",
    "ax.set_ylabel('Time (s)')\n",
    "fig.tight_layout()"
   ]
  },
  {
   "cell_type": "markdown",
   "metadata": {},
   "source": [
    "However, as we increase the length of the experiment, as seen here by repeating the insertion 100 times, we see a big difference between inserting values of the data row-by-row and inserting it as a binary blob."
   ]
  },
  {
   "cell_type": "markdown",
   "metadata": {},
   "source": [
    "## Loading the data "
   ]
  },
  {
   "cell_type": "code",
   "execution_count": 9,
   "metadata": {
    "execution": {
     "iopub.execute_input": "2021-03-02T21:13:09.683630Z",
     "iopub.status.busy": "2021-03-02T21:13:09.682536Z",
     "iopub.status.idle": "2021-03-02T21:13:09.686959Z",
     "shell.execute_reply": "2021-03-02T21:13:09.687554Z"
    }
   },
   "outputs": [],
   "source": [
    "from qcodes.dataset.data_set import load_by_id\n",
    "from qcodes.dataset.data_export import get_data_by_id"
   ]
  },
  {
   "cell_type": "markdown",
   "metadata": {},
   "source": [
    "As usual you can load the data by using the ``load_by_id`` function but you will notice that the different storage methods\n",
    "are reflected in shape of the data as it is retrieved. "
   ]
  },
  {
   "cell_type": "code",
   "execution_count": 10,
   "metadata": {
    "execution": {
     "iopub.execute_input": "2021-03-02T21:13:09.690692Z",
     "iopub.status.busy": "2021-03-02T21:13:09.689469Z",
     "iopub.status.idle": "2021-03-02T21:13:09.693667Z",
     "shell.execute_reply": "2021-03-02T21:13:09.694423Z"
    }
   },
   "outputs": [],
   "source": [
    "run_id_n = t_numeric_run_ids[0]\n",
    "run_id_a = t_array_run_ids[0]"
   ]
  },
  {
   "cell_type": "code",
   "execution_count": 11,
   "metadata": {
    "execution": {
     "iopub.execute_input": "2021-03-02T21:13:09.697866Z",
     "iopub.status.busy": "2021-03-02T21:13:09.696770Z",
     "iopub.status.idle": "2021-03-02T21:13:09.709173Z",
     "shell.execute_reply": "2021-03-02T21:13:09.708779Z"
    },
    "scrolled": true
   },
   "outputs": [
    {
     "data": {
      "text/plain": [
       "{'x1': {'x1': array([0.10567183, 0.10567183, 0.26200116, 0.26200116, 0.78945588,\n",
       "         0.78945588, 0.19887795, 0.19887795, 0.51959164, 0.51959164,\n",
       "         0.51780282, 0.51780282, 0.63718816, 0.63718816, 0.98610267,\n",
       "         0.98610267, 0.54382395, 0.54382395, 0.21282737, 0.21282737,\n",
       "         0.58954014, 0.58954014, 0.251755  , 0.251755  , 0.20277035,\n",
       "         0.20277035, 0.96292379, 0.96292379, 0.68008986, 0.68008986,\n",
       "         0.91514505, 0.91514505, 0.09547412, 0.09547412, 0.61452886,\n",
       "         0.61452886, 0.38417855, 0.38417855, 0.19372333, 0.19372333,\n",
       "         0.77277353, 0.77277353, 0.58862082, 0.58862082, 0.27586139,\n",
       "         0.27586139, 0.85195556, 0.85195556, 0.53978822, 0.53978822,\n",
       "         0.10524357, 0.10524357, 0.25285676, 0.25285676, 0.40328973,\n",
       "         0.40328973, 0.49966469, 0.49966469, 0.3336989 , 0.3336989 ,\n",
       "         0.20217935, 0.20217935, 0.22998872, 0.22998872, 0.18243699,\n",
       "         0.18243699, 0.37543764, 0.37543764, 0.34155245, 0.34155245,\n",
       "         0.42461883, 0.42461883, 0.96343726, 0.96343726, 0.33542124,\n",
       "         0.33542124, 0.11992946, 0.11992946, 0.14377807, 0.14377807,\n",
       "         0.93975691, 0.93975691, 0.27532025, 0.27532025, 0.0883607 ,\n",
       "         0.0883607 , 0.85370677, 0.85370677, 0.58356721, 0.58356721,\n",
       "         0.3998379 , 0.3998379 , 0.40751235, 0.40751235, 0.89773629,\n",
       "         0.89773629, 0.81672442, 0.81672442, 0.76223637, 0.76223637,\n",
       "         0.60891744, 0.60891744, 0.82885399, 0.82885399, 0.44921717,\n",
       "         0.44921717, 0.31968147, 0.31968147, 0.81170668, 0.81170668,\n",
       "         0.39378784, 0.39378784, 0.53868246, 0.53868246, 0.33715428,\n",
       "         0.33715428, 0.45031632, 0.45031632, 0.74610181, 0.74610181,\n",
       "         0.8822949 , 0.8822949 , 0.47608589, 0.47608589, 0.91895464,\n",
       "         0.91895464, 0.33845598, 0.33845598, 0.59805413, 0.59805413,\n",
       "         0.92725306, 0.92725306, 0.77825798, 0.77825798, 0.41274655,\n",
       "         0.41274655, 0.58713744, 0.58713744, 0.83844574, 0.83844574,\n",
       "         0.9445228 , 0.9445228 , 0.18811024, 0.18811024, 0.11704815,\n",
       "         0.11704815, 0.41673597, 0.41673597, 0.6051119 , 0.6051119 ,\n",
       "         0.57043637, 0.57043637, 0.89254137, 0.89254137, 0.67441081,\n",
       "         0.67441081, 0.72364783, 0.72364783, 0.02093763, 0.02093763,\n",
       "         0.14433418, 0.14433418, 0.29236174, 0.29236174, 0.06513417,\n",
       "         0.06513417, 0.24304536, 0.24304536, 0.29648183, 0.29648183,\n",
       "         0.51987298, 0.51987298, 0.43984447, 0.43984447, 0.45297503,\n",
       "         0.45297503, 0.89599139, 0.89599139, 0.61321904, 0.61321904,\n",
       "         0.04787605, 0.04787605, 0.95693602, 0.95693602, 0.9529798 ,\n",
       "         0.9529798 , 0.61580804, 0.61580804, 0.35622175, 0.35622175,\n",
       "         0.48262346, 0.48262346, 0.73121058, 0.73121058, 0.25224227,\n",
       "         0.25224227, 0.13776398, 0.13776398, 0.31159252, 0.31159252])}}"
      ]
     },
     "execution_count": 1,
     "metadata": {},
     "output_type": "execute_result"
    }
   ],
   "source": [
    "ds = load_by_id(run_id_n)\n",
    "ds.get_parameter_data('x1')"
   ]
  },
  {
   "cell_type": "markdown",
   "metadata": {},
   "source": [
    "And a dataset stored as binary arrays"
   ]
  },
  {
   "cell_type": "code",
   "execution_count": 12,
   "metadata": {
    "execution": {
     "iopub.execute_input": "2021-03-02T21:13:09.712376Z",
     "iopub.status.busy": "2021-03-02T21:13:09.711875Z",
     "iopub.status.idle": "2021-03-02T21:13:09.759296Z",
     "shell.execute_reply": "2021-03-02T21:13:09.758936Z"
    },
    "scrolled": true
   },
   "outputs": [
    {
     "data": {
      "text/plain": [
       "{'x1': {'x1': array([[0.15429514],\n",
       "         [0.15429514],\n",
       "         [0.66851458],\n",
       "         [0.66851458],\n",
       "         [0.12575364],\n",
       "         [0.12575364],\n",
       "         [0.39172625],\n",
       "         [0.39172625],\n",
       "         [0.48105926],\n",
       "         [0.48105926],\n",
       "         [0.20843653],\n",
       "         [0.20843653],\n",
       "         [0.66226197],\n",
       "         [0.66226197],\n",
       "         [0.75659028],\n",
       "         [0.75659028],\n",
       "         [0.37587973],\n",
       "         [0.37587973],\n",
       "         [0.16370735],\n",
       "         [0.16370735],\n",
       "         [0.04102173],\n",
       "         [0.04102173],\n",
       "         [0.47333697],\n",
       "         [0.47333697],\n",
       "         [0.13958401],\n",
       "         [0.13958401],\n",
       "         [0.46938183],\n",
       "         [0.46938183],\n",
       "         [0.03799631],\n",
       "         [0.03799631],\n",
       "         [0.79442035],\n",
       "         [0.79442035],\n",
       "         [0.08718156],\n",
       "         [0.08718156],\n",
       "         [0.64230782],\n",
       "         [0.64230782],\n",
       "         [0.66502283],\n",
       "         [0.66502283],\n",
       "         [0.22887443],\n",
       "         [0.22887443],\n",
       "         [0.22170312],\n",
       "         [0.22170312],\n",
       "         [0.7452558 ],\n",
       "         [0.7452558 ],\n",
       "         [0.19675137],\n",
       "         [0.19675137],\n",
       "         [0.03545749],\n",
       "         [0.03545749],\n",
       "         [0.94689682],\n",
       "         [0.94689682],\n",
       "         [0.09919322],\n",
       "         [0.09919322],\n",
       "         [0.0712683 ],\n",
       "         [0.0712683 ],\n",
       "         [0.55992195],\n",
       "         [0.55992195],\n",
       "         [0.68074522],\n",
       "         [0.68074522],\n",
       "         [0.9890512 ],\n",
       "         [0.9890512 ],\n",
       "         [0.28645456],\n",
       "         [0.28645456],\n",
       "         [0.95690012],\n",
       "         [0.95690012],\n",
       "         [0.00145836],\n",
       "         [0.00145836],\n",
       "         [0.53244854],\n",
       "         [0.53244854],\n",
       "         [0.03509663],\n",
       "         [0.03509663],\n",
       "         [0.64588194],\n",
       "         [0.64588194],\n",
       "         [0.43616138],\n",
       "         [0.43616138],\n",
       "         [0.85897519],\n",
       "         [0.85897519],\n",
       "         [0.36033143],\n",
       "         [0.36033143],\n",
       "         [0.46926764],\n",
       "         [0.46926764],\n",
       "         [0.98096179],\n",
       "         [0.98096179],\n",
       "         [0.22442075],\n",
       "         [0.22442075],\n",
       "         [0.53348184],\n",
       "         [0.53348184],\n",
       "         [0.89805076],\n",
       "         [0.89805076],\n",
       "         [0.20577696],\n",
       "         [0.20577696],\n",
       "         [0.52499748],\n",
       "         [0.52499748],\n",
       "         [0.57154458],\n",
       "         [0.57154458],\n",
       "         [0.9600912 ],\n",
       "         [0.9600912 ],\n",
       "         [0.15154368],\n",
       "         [0.15154368],\n",
       "         [0.07337061],\n",
       "         [0.07337061],\n",
       "         [0.10539932],\n",
       "         [0.10539932],\n",
       "         [0.39961551],\n",
       "         [0.39961551],\n",
       "         [0.23527926],\n",
       "         [0.23527926],\n",
       "         [0.36603797],\n",
       "         [0.36603797],\n",
       "         [0.31717122],\n",
       "         [0.31717122],\n",
       "         [0.34313357],\n",
       "         [0.34313357],\n",
       "         [0.26986702],\n",
       "         [0.26986702],\n",
       "         [0.34702396],\n",
       "         [0.34702396],\n",
       "         [0.51309037],\n",
       "         [0.51309037],\n",
       "         [0.6012884 ],\n",
       "         [0.6012884 ],\n",
       "         [0.53134562],\n",
       "         [0.53134562],\n",
       "         [0.26503809],\n",
       "         [0.26503809],\n",
       "         [0.74391923],\n",
       "         [0.74391923],\n",
       "         [0.2795661 ],\n",
       "         [0.2795661 ],\n",
       "         [0.95850005],\n",
       "         [0.95850005],\n",
       "         [0.2027101 ],\n",
       "         [0.2027101 ],\n",
       "         [0.75971598],\n",
       "         [0.75971598],\n",
       "         [0.99827148],\n",
       "         [0.99827148],\n",
       "         [0.39049094],\n",
       "         [0.39049094],\n",
       "         [0.05182435],\n",
       "         [0.05182435],\n",
       "         [0.97175395],\n",
       "         [0.97175395],\n",
       "         [0.91573805],\n",
       "         [0.91573805],\n",
       "         [0.5332892 ],\n",
       "         [0.5332892 ],\n",
       "         [0.45831351],\n",
       "         [0.45831351],\n",
       "         [0.48802153],\n",
       "         [0.48802153],\n",
       "         [0.60741222],\n",
       "         [0.60741222],\n",
       "         [0.02775254],\n",
       "         [0.02775254],\n",
       "         [0.13311421],\n",
       "         [0.13311421],\n",
       "         [0.17958644],\n",
       "         [0.17958644],\n",
       "         [0.49403148],\n",
       "         [0.49403148],\n",
       "         [0.86993519],\n",
       "         [0.86993519],\n",
       "         [0.79615914],\n",
       "         [0.79615914],\n",
       "         [0.98067868],\n",
       "         [0.98067868],\n",
       "         [0.76989757],\n",
       "         [0.76989757],\n",
       "         [0.61220677],\n",
       "         [0.61220677],\n",
       "         [0.23324956],\n",
       "         [0.23324956],\n",
       "         [0.85211701],\n",
       "         [0.85211701],\n",
       "         [0.17011524],\n",
       "         [0.17011524],\n",
       "         [0.78520416],\n",
       "         [0.78520416],\n",
       "         [0.53490666],\n",
       "         [0.53490666],\n",
       "         [0.66925612],\n",
       "         [0.66925612],\n",
       "         [0.00429061],\n",
       "         [0.00429061],\n",
       "         [0.56184015],\n",
       "         [0.56184015],\n",
       "         [0.59991283],\n",
       "         [0.59991283],\n",
       "         [0.86509335],\n",
       "         [0.86509335],\n",
       "         [0.80339912],\n",
       "         [0.80339912],\n",
       "         [0.40532617],\n",
       "         [0.40532617],\n",
       "         [0.50594865],\n",
       "         [0.50594865],\n",
       "         [0.48704944],\n",
       "         [0.48704944],\n",
       "         [0.73598869],\n",
       "         [0.73598869]])}}"
      ]
     },
     "execution_count": 1,
     "metadata": {},
     "output_type": "execute_result"
    }
   ],
   "source": [
    "ds = load_by_id(run_id_a)\n",
    "ds.get_parameter_data('x1')"
   ]
  },
  {
   "cell_type": "code",
   "execution_count": null,
   "metadata": {},
   "outputs": [],
   "source": []
  }
 ],
 "metadata": {
  "kernelspec": {
   "display_name": "Python 3",
   "language": "python",
   "name": "python3"
  },
  "language_info": {
   "codemirror_mode": {
    "name": "ipython",
    "version": 3
   },
   "file_extension": ".py",
   "mimetype": "text/x-python",
   "name": "python",
   "nbconvert_exporter": "python",
   "pygments_lexer": "ipython3",
   "version": "3.7.10"
  },
  "nbsphinx": {
   "timeout": 600
  },
  "toc": {
   "base_numbering": 1,
   "nav_menu": {},
   "number_sections": true,
   "sideBar": true,
   "skip_h1_title": false,
   "title_cell": "Table of Contents",
   "title_sidebar": "Contents",
   "toc_cell": false,
   "toc_position": {},
   "toc_section_display": true,
   "toc_window_display": false
  },
  "varInspector": {
   "cols": {
    "lenName": 16,
    "lenType": 16,
    "lenVar": 40
   },
   "kernels_config": {
    "python": {
     "delete_cmd_postfix": "",
     "delete_cmd_prefix": "del ",
     "library": "var_list.py",
     "varRefreshCmd": "print(var_dic_list())"
    },
    "r": {
     "delete_cmd_postfix": ") ",
     "delete_cmd_prefix": "rm(",
     "library": "var_list.r",
     "varRefreshCmd": "cat(var_dic_list()) "
    }
   },
   "types_to_exclude": [
    "module",
    "function",
    "builtin_function_or_method",
    "instance",
    "_Feature"
   ],
   "window_display": false
  }
 },
 "nbformat": 4,
 "nbformat_minor": 2
}
