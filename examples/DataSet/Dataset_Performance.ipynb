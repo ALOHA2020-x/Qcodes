{
 "cells": [
  {
   "cell_type": "markdown",
   "metadata": {},
   "source": [
    "# DataSet Performance\n",
    "\n",
    "This notebook shows the trade-off between inserting data into a database row-by-row and as binary blobs. Inserting the data row-by-row means that we have direct access to all the data and may perform queries directly on the values of the data. On the other hand, as we shall see, this is much slower than inserting the data directly as binary blobs."
   ]
  },
  {
   "cell_type": "markdown",
   "metadata": {},
   "source": [
    "First, we choose a new location for the database to ensure that we don't add a bunch of benchmarking data to the default one."
   ]
  },
  {
   "cell_type": "code",
   "execution_count": 1,
   "metadata": {
    "execution": {
     "iopub.execute_input": "2021-05-28T05:48:58.427976Z",
     "iopub.status.busy": "2021-05-28T05:48:58.427305Z",
     "iopub.status.idle": "2021-05-28T05:48:59.585363Z",
     "shell.execute_reply": "2021-05-28T05:48:59.584176Z"
    }
   },
   "outputs": [
    {
     "name": "stdout",
     "output_type": "stream",
     "text": [
      "Logging hadn't been started.\n",
      "Activating auto-logging. Current session state plus future input saved.\n",
      "Filename       : /home/runner/.qcodes/logs/command_history.log\n",
      "Mode           : append\n",
      "Output logging : True\n",
      "Raw input log  : False\n",
      "Timestamping   : True\n",
      "State          : active\n"
     ]
    },
    {
     "name": "stdout",
     "output_type": "stream",
     "text": [
      "Qcodes Logfile : /home/runner/.qcodes/logs/210528-4793-qcodes.log\n"
     ]
    }
   ],
   "source": [
    "import os\n",
    "cwd = os.getcwd()\n",
    "import qcodes as qc\n",
    "qc.config[\"core\"][\"db_location\"] = os.path.join(cwd, 'testing.db')\n"
   ]
  },
  {
   "cell_type": "code",
   "execution_count": 2,
   "metadata": {
    "execution": {
     "iopub.execute_input": "2021-05-28T05:48:59.597863Z",
     "iopub.status.busy": "2021-05-28T05:48:59.596114Z",
     "iopub.status.idle": "2021-05-28T05:48:59.791144Z",
     "shell.execute_reply": "2021-05-28T05:48:59.790644Z"
    }
   },
   "outputs": [],
   "source": [
    "%matplotlib inline\n",
    "import time\n",
    "import matplotlib.pyplot as plt\n",
    "import numpy as np\n",
    "\n",
    "import qcodes as qc\n",
    "from qcodes.instrument.parameter import ManualParameter\n",
    "from qcodes.dataset.experiment_container import (Experiment,\n",
    "                                                 load_last_experiment,\n",
    "                                                 new_experiment)\n",
    "from qcodes.dataset.sqlite.database import initialise_database\n",
    "from qcodes import load_or_create_experiment\n",
    "from qcodes.dataset.measurements import Measurement"
   ]
  },
  {
   "cell_type": "code",
   "execution_count": 3,
   "metadata": {
    "execution": {
     "iopub.execute_input": "2021-05-28T05:48:59.794916Z",
     "iopub.status.busy": "2021-05-28T05:48:59.794380Z",
     "iopub.status.idle": "2021-05-28T05:48:59.888892Z",
     "shell.execute_reply": "2021-05-28T05:48:59.889384Z"
    }
   },
   "outputs": [
    {
     "name": "stdout",
     "output_type": "stream",
     "text": [
      "\r",
      "0it [00:00, ?it/s]"
     ]
    },
    {
     "name": "stdout",
     "output_type": "stream",
     "text": [
      "\r",
      "Upgrading database; v0 -> v1: : 0it [00:00, ?it/s]"
     ]
    },
    {
     "name": "stdout",
     "output_type": "stream",
     "text": [
      "\r",
      "Upgrading database; v0 -> v1: : 0it [00:00, ?it/s]"
     ]
    },
    {
     "name": "stdout",
     "output_type": "stream",
     "text": [
      "\n",
      "\r",
      "  0%|          | 0/1 [00:00<?, ?it/s]"
     ]
    },
    {
     "name": "stdout",
     "output_type": "stream",
     "text": [
      "\r",
      "Upgrading database; v1 -> v2:   0%|          | 0/1 [00:00<?, ?it/s]"
     ]
    },
    {
     "name": "stdout",
     "output_type": "stream",
     "text": [
      "\r",
      "Upgrading database; v1 -> v2: 100%|██████████| 1/1 [00:00<00:00, 521.29it/s]"
     ]
    },
    {
     "name": "stdout",
     "output_type": "stream",
     "text": [
      "\n",
      "\r",
      "0it [00:00, ?it/s]"
     ]
    },
    {
     "name": "stdout",
     "output_type": "stream",
     "text": [
      "\r",
      "Upgrading database; v2 -> v3: : 0it [00:00, ?it/s]"
     ]
    },
    {
     "name": "stdout",
     "output_type": "stream",
     "text": [
      "\r",
      "Upgrading database; v2 -> v3: : 0it [00:00, ?it/s]"
     ]
    },
    {
     "name": "stdout",
     "output_type": "stream",
     "text": [
      "\n",
      "\r",
      "0it [00:00, ?it/s]"
     ]
    },
    {
     "name": "stdout",
     "output_type": "stream",
     "text": [
      "\r",
      "Upgrading database; v3 -> v4: : 0it [00:00, ?it/s]"
     ]
    },
    {
     "name": "stdout",
     "output_type": "stream",
     "text": [
      "\r",
      "Upgrading database; v3 -> v4: : 0it [00:00, ?it/s]"
     ]
    },
    {
     "name": "stdout",
     "output_type": "stream",
     "text": [
      "\n",
      "\r",
      "  0%|          | 0/1 [00:00<?, ?it/s]"
     ]
    },
    {
     "name": "stdout",
     "output_type": "stream",
     "text": [
      "\r",
      "Upgrading database; v4 -> v5:   0%|          | 0/1 [00:00<?, ?it/s]"
     ]
    },
    {
     "name": "stdout",
     "output_type": "stream",
     "text": [
      "\r",
      "Upgrading database; v4 -> v5: 100%|██████████| 1/1 [00:00<00:00, 648.27it/s]"
     ]
    },
    {
     "name": "stdout",
     "output_type": "stream",
     "text": [
      "\n",
      "\r",
      "0it [00:00, ?it/s]"
     ]
    },
    {
     "name": "stdout",
     "output_type": "stream",
     "text": [
      "\r",
      "Upgrading database; v5 -> v6: : 0it [00:00, ?it/s]"
     ]
    },
    {
     "name": "stdout",
     "output_type": "stream",
     "text": [
      "\r",
      "Upgrading database; v5 -> v6: : 0it [00:00, ?it/s]"
     ]
    },
    {
     "name": "stdout",
     "output_type": "stream",
     "text": [
      "\n",
      "\r",
      "  0%|          | 0/1 [00:00<?, ?it/s]"
     ]
    },
    {
     "name": "stdout",
     "output_type": "stream",
     "text": [
      "\r",
      "Upgrading database; v6 -> v7:   0%|          | 0/1 [00:00<?, ?it/s]"
     ]
    },
    {
     "name": "stdout",
     "output_type": "stream",
     "text": [
      "\r",
      "Upgrading database; v6 -> v7: 100%|██████████| 1/1 [00:00<00:00, 311.87it/s]"
     ]
    },
    {
     "name": "stdout",
     "output_type": "stream",
     "text": [
      "\n",
      "\r",
      "  0%|          | 0/1 [00:00<?, ?it/s]"
     ]
    },
    {
     "name": "stdout",
     "output_type": "stream",
     "text": [
      "\r",
      "Upgrading database; v7 -> v8:   0%|          | 0/1 [00:00<?, ?it/s]"
     ]
    },
    {
     "name": "stdout",
     "output_type": "stream",
     "text": [
      "\r",
      "Upgrading database; v7 -> v8: 100%|██████████| 1/1 [00:00<00:00, 425.47it/s]"
     ]
    },
    {
     "name": "stdout",
     "output_type": "stream",
     "text": [
      "\n",
      "\r",
      "  0%|          | 0/1 [00:00<?, ?it/s]"
     ]
    },
    {
     "name": "stdout",
     "output_type": "stream",
     "text": [
      "\r",
      "Upgrading database; v8 -> v9:   0%|          | 0/1 [00:00<?, ?it/s]"
     ]
    },
    {
     "name": "stdout",
     "output_type": "stream",
     "text": [
      "\r",
      "Upgrading database; v8 -> v9: 100%|██████████| 1/1 [00:00<00:00, 349.35it/s]"
     ]
    },
    {
     "name": "stdout",
     "output_type": "stream",
     "text": [
      "\n"
     ]
    }
   ],
   "source": [
    "initialise_database()\n",
    "exp = load_or_create_experiment(experiment_name='tutorial_exp', sample_name=\"no sample\")"
   ]
  },
  {
   "cell_type": "markdown",
   "metadata": {},
   "source": [
    "Here, we define a simple function to benchmark the time it takes to insert n points with either numeric or array data type.\n",
    "We will compare both the time used to call ``add_result`` and the time used for the full measurement."
   ]
  },
  {
   "cell_type": "code",
   "execution_count": 4,
   "metadata": {
    "execution": {
     "iopub.execute_input": "2021-05-28T05:48:59.898896Z",
     "iopub.status.busy": "2021-05-28T05:48:59.897973Z",
     "iopub.status.idle": "2021-05-28T05:48:59.901670Z",
     "shell.execute_reply": "2021-05-28T05:48:59.900808Z"
    }
   },
   "outputs": [],
   "source": [
    "def insert_data(paramtype, npoints, nreps=1):\n",
    "\n",
    "    meas = Measurement(exp=exp)\n",
    "\n",
    "    x1 = ManualParameter('x1')\n",
    "    x2 = ManualParameter('x2')\n",
    "    x3 = ManualParameter('x3')\n",
    "    y1 = ManualParameter('y1')\n",
    "    y2 = ManualParameter('y2')\n",
    "\n",
    "    meas.register_parameter(x1, paramtype=paramtype)\n",
    "    meas.register_parameter(x2, paramtype=paramtype)\n",
    "    meas.register_parameter(x3, paramtype=paramtype)\n",
    "    meas.register_parameter(y1, setpoints=[x1, x2, x3],\n",
    "                            paramtype=paramtype)\n",
    "    meas.register_parameter(y2, setpoints=[x1, x2, x3],\n",
    "                            paramtype=paramtype)\n",
    "    start = time.perf_counter()\n",
    "    with meas.run() as datasaver:\n",
    "        start_adding = time.perf_counter()\n",
    "        for i in range(nreps):\n",
    "            datasaver.add_result((x1, np.random.rand(npoints)),\n",
    "                                 (x2, np.random.rand(npoints)),\n",
    "                                 (x3, np.random.rand(npoints)),\n",
    "                                 (y1, np.random.rand(npoints)),\n",
    "                                 (y2, np.random.rand(npoints)))\n",
    "        stop_adding = time.perf_counter()\n",
    "        run_id = datasaver.run_id\n",
    "    stop = time.perf_counter()\n",
    "    tot_time = stop - start\n",
    "    add_time = stop_adding - start_adding\n",
    "    return tot_time, add_time, run_id"
   ]
  },
  {
   "cell_type": "markdown",
   "metadata": {},
   "source": [
    "## Comparison between numeric/array data and binary blob"
   ]
  },
  {
   "cell_type": "markdown",
   "metadata": {},
   "source": [
    "### Case1: Short experiment time"
   ]
  },
  {
   "cell_type": "code",
   "execution_count": 5,
   "metadata": {
    "execution": {
     "iopub.execute_input": "2021-05-28T05:48:59.908703Z",
     "iopub.status.busy": "2021-05-28T05:48:59.908115Z",
     "iopub.status.idle": "2021-05-28T05:49:00.758534Z",
     "shell.execute_reply": "2021-05-28T05:49:00.758038Z"
    }
   },
   "outputs": [
    {
     "name": "stdout",
     "output_type": "stream",
     "text": [
      "Starting experimental run with id: 1. \n",
      "Starting experimental run with id: 2. \n",
      "Starting experimental run with id: 3. \n"
     ]
    },
    {
     "name": "stdout",
     "output_type": "stream",
     "text": [
      "Starting experimental run with id: 4. \n"
     ]
    },
    {
     "name": "stdout",
     "output_type": "stream",
     "text": [
      "Starting experimental run with id: 5. \n"
     ]
    },
    {
     "name": "stdout",
     "output_type": "stream",
     "text": [
      "Starting experimental run with id: 6. \n",
      "Starting experimental run with id: 7. \n",
      "Starting experimental run with id: 8. \n",
      "Starting experimental run with id: 9. \n"
     ]
    },
    {
     "name": "stdout",
     "output_type": "stream",
     "text": [
      "Starting experimental run with id: 10. \n",
      "Starting experimental run with id: 11. \n",
      "Starting experimental run with id: 12. \n",
      "Starting experimental run with id: 13. \n"
     ]
    },
    {
     "name": "stdout",
     "output_type": "stream",
     "text": [
      "Starting experimental run with id: 14. \n"
     ]
    }
   ],
   "source": [
    "sizes = [1,500,1000,2000,3000,4000,5000]\n",
    "t_numeric = []\n",
    "t_numeric_add = []\n",
    "t_array = []\n",
    "t_array_add = []\n",
    "for size in sizes:\n",
    "    tn, tna, run_id_n =  insert_data('numeric', size)\n",
    "    t_numeric.append(tn)\n",
    "    t_numeric_add.append(tna)\n",
    "\n",
    "    ta, taa, run_id_a =  insert_data('array', size)\n",
    "    t_array.append(ta)\n",
    "    t_array_add.append(taa)"
   ]
  },
  {
   "cell_type": "code",
   "execution_count": 6,
   "metadata": {
    "execution": {
     "iopub.execute_input": "2021-05-28T05:49:00.780818Z",
     "iopub.status.busy": "2021-05-28T05:49:00.776718Z",
     "iopub.status.idle": "2021-05-28T05:49:01.006680Z",
     "shell.execute_reply": "2021-05-28T05:49:01.005818Z"
    }
   },
   "outputs": [
    {
     "data": {
      "image/png": "[encoded data removed]",
      "text/plain": [
       "<Figure size 432x288 with 1 Axes>"
      ]
     },
     "metadata": {
      "needs_background": "light"
     },
     "output_type": "display_data"
    }
   ],
   "source": [
    "fig, ax = plt.subplots(1,1)\n",
    "ax.plot(sizes, t_numeric, 'o-', label='Inserting row-by-row')\n",
    "ax.plot(sizes, t_numeric_add, 'o-', label='Inserting row-by-row: add_result only')\n",
    "ax.plot(sizes, t_array, 'd-', label='Inserting as binary blob')\n",
    "ax.plot(sizes, t_array_add, 'd-', label='Inserting as binary blob: add_result only')\n",
    "ax.legend()\n",
    "ax.set_xlabel('Array length')\n",
    "ax.set_ylabel('Time (s)')\n",
    "fig.tight_layout()"
   ]
  },
  {
   "cell_type": "markdown",
   "metadata": {},
   "source": [
    "As shown in the latter figure, the time to setup and and close the experiment is approximately 0.4 sec. In case of small array sizes, the difference between inserting values of data as arrays and inserting them row-by-row is relatively unimportant. At larger array sizes, i.e. above 10000 points, the cost of writing data as individual datapoints starts to become important.\n"
   ]
  },
  {
   "cell_type": "markdown",
   "metadata": {},
   "source": [
    "### Case2: Long experiment time "
   ]
  },
  {
   "cell_type": "code",
   "execution_count": 7,
   "metadata": {
    "execution": {
     "iopub.execute_input": "2021-05-28T05:49:01.013711Z",
     "iopub.status.busy": "2021-05-28T05:49:01.013122Z",
     "iopub.status.idle": "2021-05-28T05:49:56.432010Z",
     "shell.execute_reply": "2021-05-28T05:49:56.431045Z"
    }
   },
   "outputs": [
    {
     "name": "stdout",
     "output_type": "stream",
     "text": [
      "Starting experimental run with id: 15. \n",
      "Starting experimental run with id: 16. \n",
      "Starting experimental run with id: 17. \n"
     ]
    },
    {
     "name": "stdout",
     "output_type": "stream",
     "text": [
      "Starting experimental run with id: 18. \n",
      "Starting experimental run with id: 19. \n"
     ]
    },
    {
     "name": "stdout",
     "output_type": "stream",
     "text": [
      "Starting experimental run with id: 20. \n"
     ]
    },
    {
     "name": "stdout",
     "output_type": "stream",
     "text": [
      "Starting experimental run with id: 21. \n"
     ]
    },
    {
     "name": "stdout",
     "output_type": "stream",
     "text": [
      "Starting experimental run with id: 22. \n"
     ]
    },
    {
     "name": "stdout",
     "output_type": "stream",
     "text": [
      "Starting experimental run with id: 23. \n"
     ]
    },
    {
     "name": "stdout",
     "output_type": "stream",
     "text": [
      "Starting experimental run with id: 24. \n"
     ]
    },
    {
     "name": "stdout",
     "output_type": "stream",
     "text": [
      "Starting experimental run with id: 25. \n"
     ]
    },
    {
     "name": "stdout",
     "output_type": "stream",
     "text": [
      "Starting experimental run with id: 26. \n"
     ]
    },
    {
     "name": "stdout",
     "output_type": "stream",
     "text": [
      "Starting experimental run with id: 27. \n"
     ]
    },
    {
     "name": "stdout",
     "output_type": "stream",
     "text": [
      "Starting experimental run with id: 28. \n"
     ]
    }
   ],
   "source": [
    "sizes = [1,500,1000,2000,3000,4000,5000]\n",
    "nreps = 100\n",
    "t_numeric = []\n",
    "t_numeric_add = []\n",
    "t_numeric_run_ids = []\n",
    "t_array = []\n",
    "t_array_add = []\n",
    "t_array_run_ids = []\n",
    "for size in sizes:\n",
    "    tn, tna, run_id_n =  insert_data('numeric', size, nreps=nreps)\n",
    "    t_numeric.append(tn)\n",
    "    t_numeric_add.append(tna)\n",
    "    t_numeric_run_ids.append(run_id_n)\n",
    "\n",
    "    ta, taa, run_id_a =  insert_data('array', size, nreps=nreps)\n",
    "    t_array.append(ta)\n",
    "    t_array_add.append(taa)\n",
    "    t_array_run_ids.append(run_id_a)"
   ]
  },
  {
   "cell_type": "code",
   "execution_count": 8,
   "metadata": {
    "execution": {
     "iopub.execute_input": "2021-05-28T05:49:56.473384Z",
     "iopub.status.busy": "2021-05-28T05:49:56.451181Z",
     "iopub.status.idle": "2021-05-28T05:49:56.647220Z",
     "shell.execute_reply": "2021-05-28T05:49:56.646752Z"
    },
    "scrolled": true
   },
   "outputs": [
    {
     "data": {
      "image/png": "[encoded data removed]",
      "text/plain": [
       "<Figure size 432x288 with 1 Axes>"
      ]
     },
     "metadata": {
      "needs_background": "light"
     },
     "output_type": "display_data"
    }
   ],
   "source": [
    "fig, ax = plt.subplots(1,1)\n",
    "ax.plot(sizes, t_numeric, 'o-', label='Inserting row-by-row')\n",
    "ax.plot(sizes, t_numeric_add, 'o-', label='Inserting row-by-row: add_result only')\n",
    "ax.plot(sizes, t_array, 'd-', label='Inserting as binary blob')\n",
    "ax.plot(sizes, t_array_add, 'd-', label='Inserting as binary blob: add_result only')\n",
    "ax.legend()\n",
    "ax.set_xlabel('Array length')\n",
    "ax.set_ylabel('Time (s)')\n",
    "fig.tight_layout()"
   ]
  },
  {
   "cell_type": "markdown",
   "metadata": {},
   "source": [
    "However, as we increase the length of the experiment, as seen here by repeating the insertion 100 times, we see a big difference between inserting values of the data row-by-row and inserting it as a binary blob."
   ]
  },
  {
   "cell_type": "markdown",
   "metadata": {},
   "source": [
    "## Loading the data "
   ]
  },
  {
   "cell_type": "code",
   "execution_count": 9,
   "metadata": {
    "execution": {
     "iopub.execute_input": "2021-05-28T05:49:56.652429Z",
     "iopub.status.busy": "2021-05-28T05:49:56.651175Z",
     "iopub.status.idle": "2021-05-28T05:49:56.653076Z",
     "shell.execute_reply": "2021-05-28T05:49:56.653543Z"
    }
   },
   "outputs": [],
   "source": [
    "from qcodes.dataset.data_set import load_by_id"
   ]
  },
  {
   "cell_type": "markdown",
   "metadata": {},
   "source": [
    "As usual you can load the data by using the ``load_by_id`` function but you will notice that the different storage methods\n",
    "are reflected in shape of the data as it is retrieved. "
   ]
  },
  {
   "cell_type": "code",
   "execution_count": 10,
   "metadata": {
    "execution": {
     "iopub.execute_input": "2021-05-28T05:49:56.658168Z",
     "iopub.status.busy": "2021-05-28T05:49:56.656959Z",
     "iopub.status.idle": "2021-05-28T05:49:56.658825Z",
     "shell.execute_reply": "2021-05-28T05:49:56.659293Z"
    }
   },
   "outputs": [],
   "source": [
    "run_id_n = t_numeric_run_ids[0]\n",
    "run_id_a = t_array_run_ids[0]"
   ]
  },
  {
   "cell_type": "code",
   "execution_count": 11,
   "metadata": {
    "execution": {
     "iopub.execute_input": "2021-05-28T05:49:56.662673Z",
     "iopub.status.busy": "2021-05-28T05:49:56.662114Z",
     "iopub.status.idle": "2021-05-28T05:49:56.671816Z",
     "shell.execute_reply": "2021-05-28T05:49:56.672266Z"
    },
    "scrolled": true
   },
   "outputs": [
    {
     "data": {
      "text/plain": [
       "{'x1': {'x1': array([0.37917139, 0.37917139, 0.54106355, 0.54106355, 0.21312057,\n",
       "         0.21312057, 0.12479046, 0.12479046, 0.75941767, 0.75941767,\n",
       "         0.37750814, 0.37750814, 0.0888283 , 0.0888283 , 0.94453928,\n",
       "         0.94453928, 0.15648777, 0.15648777, 0.58168046, 0.58168046,\n",
       "         0.72909002, 0.72909002, 0.17956038, 0.17956038, 0.338238  ,\n",
       "         0.338238  , 0.93872722, 0.93872722, 0.14370418, 0.14370418,\n",
       "         0.1801953 , 0.1801953 , 0.4427859 , 0.4427859 , 0.74957317,\n",
       "         0.74957317, 0.73517852, 0.73517852, 0.24322   , 0.24322   ,\n",
       "         0.81515214, 0.81515214, 0.19346615, 0.19346615, 0.43594575,\n",
       "         0.43594575, 0.96809573, 0.96809573, 0.27375928, 0.27375928,\n",
       "         0.84664358, 0.84664358, 0.58706945, 0.58706945, 0.78711909,\n",
       "         0.78711909, 0.6781001 , 0.6781001 , 0.77739009, 0.77739009,\n",
       "         0.87624391, 0.87624391, 0.19181105, 0.19181105, 0.8664593 ,\n",
       "         0.8664593 , 0.41816914, 0.41816914, 0.16524917, 0.16524917,\n",
       "         0.80906283, 0.80906283, 0.48337037, 0.48337037, 0.78475425,\n",
       "         0.78475425, 0.91819198, 0.91819198, 0.88327614, 0.88327614,\n",
       "         0.20594105, 0.20594105, 0.7306976 , 0.7306976 , 0.19311423,\n",
       "         0.19311423, 0.86904009, 0.86904009, 0.19853273, 0.19853273,\n",
       "         0.87836152, 0.87836152, 0.54170901, 0.54170901, 0.0244833 ,\n",
       "         0.0244833 , 0.96788074, 0.96788074, 0.26866781, 0.26866781,\n",
       "         0.25265454, 0.25265454, 0.49485542, 0.49485542, 0.53808921,\n",
       "         0.53808921, 0.31215893, 0.31215893, 0.10200487, 0.10200487,\n",
       "         0.04336568, 0.04336568, 0.81017455, 0.81017455, 0.41307339,\n",
       "         0.41307339, 0.09898667, 0.09898667, 0.99278931, 0.99278931,\n",
       "         0.80024518, 0.80024518, 0.41059835, 0.41059835, 0.12641281,\n",
       "         0.12641281, 0.39504502, 0.39504502, 0.62064027, 0.62064027,\n",
       "         0.75035688, 0.75035688, 0.33327016, 0.33327016, 0.52238462,\n",
       "         0.52238462, 0.94388014, 0.94388014, 0.87316362, 0.87316362,\n",
       "         0.67649881, 0.67649881, 0.3516554 , 0.3516554 , 0.06500376,\n",
       "         0.06500376, 0.13040459, 0.13040459, 0.44553423, 0.44553423,\n",
       "         0.33409337, 0.33409337, 0.47603263, 0.47603263, 0.89761312,\n",
       "         0.89761312, 0.99747473, 0.99747473, 0.40572524, 0.40572524,\n",
       "         0.00556207, 0.00556207, 0.16956868, 0.16956868, 0.09356855,\n",
       "         0.09356855, 0.52909315, 0.52909315, 0.5118315 , 0.5118315 ,\n",
       "         0.67252062, 0.67252062, 0.57114711, 0.57114711, 0.78141273,\n",
       "         0.78141273, 0.18841694, 0.18841694, 0.98704395, 0.98704395,\n",
       "         0.74653826, 0.74653826, 0.3941603 , 0.3941603 , 0.77860877,\n",
       "         0.77860877, 0.73976785, 0.73976785, 0.1224618 , 0.1224618 ,\n",
       "         0.46695513, 0.46695513, 0.17928681, 0.17928681, 0.04314192,\n",
       "         0.04314192, 0.7138865 , 0.7138865 , 0.19155765, 0.19155765])}}"
      ]
     },
     "execution_count": 1,
     "metadata": {},
     "output_type": "execute_result"
    }
   ],
   "source": [
    "ds = load_by_id(run_id_n)\n",
    "ds.get_parameter_data('x1')"
   ]
  },
  {
   "cell_type": "markdown",
   "metadata": {},
   "source": [
    "And a dataset stored as binary arrays"
   ]
  },
  {
   "cell_type": "code",
   "execution_count": 12,
   "metadata": {
    "execution": {
     "iopub.execute_input": "2021-05-28T05:49:56.675774Z",
     "iopub.status.busy": "2021-05-28T05:49:56.675218Z",
     "iopub.status.idle": "2021-05-28T05:49:56.732318Z",
     "shell.execute_reply": "2021-05-28T05:49:56.732804Z"
    },
    "scrolled": true
   },
   "outputs": [
    {
     "data": {
      "text/plain": [
       "{'x1': {'x1': array([[0.98008315],\n",
       "         [0.98008315],\n",
       "         [0.12135913],\n",
       "         [0.12135913],\n",
       "         [0.44152195],\n",
       "         [0.44152195],\n",
       "         [0.16437301],\n",
       "         [0.16437301],\n",
       "         [0.44700695],\n",
       "         [0.44700695],\n",
       "         [0.6636975 ],\n",
       "         [0.6636975 ],\n",
       "         [0.6649144 ],\n",
       "         [0.6649144 ],\n",
       "         [0.55576392],\n",
       "         [0.55576392],\n",
       "         [0.13836677],\n",
       "         [0.13836677],\n",
       "         [0.1235814 ],\n",
       "         [0.1235814 ],\n",
       "         [0.21352985],\n",
       "         [0.21352985],\n",
       "         [0.49501788],\n",
       "         [0.49501788],\n",
       "         [0.44846704],\n",
       "         [0.44846704],\n",
       "         [0.04417193],\n",
       "         [0.04417193],\n",
       "         [0.86436984],\n",
       "         [0.86436984],\n",
       "         [0.37847887],\n",
       "         [0.37847887],\n",
       "         [0.68644254],\n",
       "         [0.68644254],\n",
       "         [0.13080761],\n",
       "         [0.13080761],\n",
       "         [0.37361744],\n",
       "         [0.37361744],\n",
       "         [0.50745738],\n",
       "         [0.50745738],\n",
       "         [0.98204204],\n",
       "         [0.98204204],\n",
       "         [0.71130186],\n",
       "         [0.71130186],\n",
       "         [0.47900965],\n",
       "         [0.47900965],\n",
       "         [0.19984492],\n",
       "         [0.19984492],\n",
       "         [0.20287069],\n",
       "         [0.20287069],\n",
       "         [0.8545538 ],\n",
       "         [0.8545538 ],\n",
       "         [0.14216519],\n",
       "         [0.14216519],\n",
       "         [0.45276869],\n",
       "         [0.45276869],\n",
       "         [0.68256008],\n",
       "         [0.68256008],\n",
       "         [0.17300463],\n",
       "         [0.17300463],\n",
       "         [0.87147316],\n",
       "         [0.87147316],\n",
       "         [0.60853688],\n",
       "         [0.60853688],\n",
       "         [0.04009005],\n",
       "         [0.04009005],\n",
       "         [0.97925755],\n",
       "         [0.97925755],\n",
       "         [0.66192335],\n",
       "         [0.66192335],\n",
       "         [0.3726958 ],\n",
       "         [0.3726958 ],\n",
       "         [0.47469965],\n",
       "         [0.47469965],\n",
       "         [0.62330728],\n",
       "         [0.62330728],\n",
       "         [0.96991078],\n",
       "         [0.96991078],\n",
       "         [0.60799631],\n",
       "         [0.60799631],\n",
       "         [0.90554595],\n",
       "         [0.90554595],\n",
       "         [0.73608736],\n",
       "         [0.73608736],\n",
       "         [0.80031159],\n",
       "         [0.80031159],\n",
       "         [0.24469741],\n",
       "         [0.24469741],\n",
       "         [0.38927725],\n",
       "         [0.38927725],\n",
       "         [0.52971119],\n",
       "         [0.52971119],\n",
       "         [0.39714919],\n",
       "         [0.39714919],\n",
       "         [0.6213706 ],\n",
       "         [0.6213706 ],\n",
       "         [0.27598353],\n",
       "         [0.27598353],\n",
       "         [0.63731306],\n",
       "         [0.63731306],\n",
       "         [0.31287511],\n",
       "         [0.31287511],\n",
       "         [0.21163734],\n",
       "         [0.21163734],\n",
       "         [0.18014432],\n",
       "         [0.18014432],\n",
       "         [0.85049925],\n",
       "         [0.85049925],\n",
       "         [0.47727015],\n",
       "         [0.47727015],\n",
       "         [0.8460684 ],\n",
       "         [0.8460684 ],\n",
       "         [0.5141484 ],\n",
       "         [0.5141484 ],\n",
       "         [0.34806515],\n",
       "         [0.34806515],\n",
       "         [0.42927883],\n",
       "         [0.42927883],\n",
       "         [0.0310932 ],\n",
       "         [0.0310932 ],\n",
       "         [0.32435121],\n",
       "         [0.32435121],\n",
       "         [0.39725454],\n",
       "         [0.39725454],\n",
       "         [0.01385476],\n",
       "         [0.01385476],\n",
       "         [0.66961152],\n",
       "         [0.66961152],\n",
       "         [0.84472212],\n",
       "         [0.84472212],\n",
       "         [0.99189237],\n",
       "         [0.99189237],\n",
       "         [0.20217729],\n",
       "         [0.20217729],\n",
       "         [0.8656185 ],\n",
       "         [0.8656185 ],\n",
       "         [0.82957679],\n",
       "         [0.82957679],\n",
       "         [0.11622707],\n",
       "         [0.11622707],\n",
       "         [0.23323484],\n",
       "         [0.23323484],\n",
       "         [0.72554041],\n",
       "         [0.72554041],\n",
       "         [0.54441023],\n",
       "         [0.54441023],\n",
       "         [0.3623819 ],\n",
       "         [0.3623819 ],\n",
       "         [0.51359855],\n",
       "         [0.51359855],\n",
       "         [0.44187165],\n",
       "         [0.44187165],\n",
       "         [0.79729191],\n",
       "         [0.79729191],\n",
       "         [0.78103153],\n",
       "         [0.78103153],\n",
       "         [0.35089088],\n",
       "         [0.35089088],\n",
       "         [0.61309062],\n",
       "         [0.61309062],\n",
       "         [0.95984909],\n",
       "         [0.95984909],\n",
       "         [0.29330288],\n",
       "         [0.29330288],\n",
       "         [0.28997653],\n",
       "         [0.28997653],\n",
       "         [0.17143346],\n",
       "         [0.17143346],\n",
       "         [0.70351564],\n",
       "         [0.70351564],\n",
       "         [0.71423371],\n",
       "         [0.71423371],\n",
       "         [0.97705162],\n",
       "         [0.97705162],\n",
       "         [0.76890285],\n",
       "         [0.76890285],\n",
       "         [0.8076474 ],\n",
       "         [0.8076474 ],\n",
       "         [0.29640641],\n",
       "         [0.29640641],\n",
       "         [0.75182385],\n",
       "         [0.75182385],\n",
       "         [0.83760989],\n",
       "         [0.83760989],\n",
       "         [0.77162634],\n",
       "         [0.77162634],\n",
       "         [0.54421337],\n",
       "         [0.54421337],\n",
       "         [0.8716979 ],\n",
       "         [0.8716979 ],\n",
       "         [0.05045078],\n",
       "         [0.05045078],\n",
       "         [0.32321317],\n",
       "         [0.32321317],\n",
       "         [0.07963592],\n",
       "         [0.07963592],\n",
       "         [0.80525456],\n",
       "         [0.80525456],\n",
       "         [0.56549065],\n",
       "         [0.56549065]])}}"
      ]
     },
     "execution_count": 1,
     "metadata": {},
     "output_type": "execute_result"
    }
   ],
   "source": [
    "ds = load_by_id(run_id_a)\n",
    "ds.get_parameter_data('x1')"
   ]
  },
  {
   "cell_type": "code",
   "execution_count": null,
   "metadata": {},
   "outputs": [],
   "source": []
  }
 ],
 "metadata": {
  "kernelspec": {
   "display_name": "Python 3",
   "language": "python",
   "name": "python3"
  },
  "language_info": {
   "codemirror_mode": {
    "name": "ipython",
    "version": 3
   },
   "file_extension": ".py",
   "mimetype": "text/x-python",
   "name": "python",
   "nbconvert_exporter": "python",
   "pygments_lexer": "ipython3",
   "version": "3.7.10"
  },
  "nbsphinx": {
   "timeout": 600
  },
  "toc": {
   "base_numbering": 1,
   "nav_menu": {},
   "number_sections": true,
   "sideBar": true,
   "skip_h1_title": false,
   "title_cell": "Table of Contents",
   "title_sidebar": "Contents",
   "toc_cell": false,
   "toc_position": {},
   "toc_section_display": true,
   "toc_window_display": false
  },
  "varInspector": {
   "cols": {
    "lenName": 16,
    "lenType": 16,
    "lenVar": 40
   },
   "kernels_config": {
    "python": {
     "delete_cmd_postfix": "",
     "delete_cmd_prefix": "del ",
     "library": "var_list.py",
     "varRefreshCmd": "print(var_dic_list())"
    },
    "r": {
     "delete_cmd_postfix": ") ",
     "delete_cmd_prefix": "rm(",
     "library": "var_list.r",
     "varRefreshCmd": "cat(var_dic_list()) "
    }
   },
   "types_to_exclude": [
    "module",
    "function",
    "builtin_function_or_method",
    "instance",
    "_Feature"
   ],
   "window_display": false
  }
 },
 "nbformat": 4,
 "nbformat_minor": 4
}
