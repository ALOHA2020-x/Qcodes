{
 "cells": [
  {
   "cell_type": "markdown",
   "metadata": {},
   "source": [
    "# DataSet Performance\n",
    "\n",
    "This notebook shows the trade-off between inserting data into a database row-by-row and as binary blobs. Inserting the data row-by-row means that we have direct access to all the data and may perform queries directly on the values of the data. On the other hand, as we shall see, this is much slower than inserting the data directly as binary blobs."
   ]
  },
  {
   "cell_type": "markdown",
   "metadata": {},
   "source": [
    "First, we choose a new location for the database to ensure that we don't add a bunch of benchmarking data to the default one."
   ]
  },
  {
   "cell_type": "code",
   "execution_count": 1,
   "metadata": {
    "execution": {
     "iopub.execute_input": "2020-11-10T10:17:19.578282Z",
     "iopub.status.busy": "2020-11-10T10:17:19.577529Z",
     "iopub.status.idle": "2020-11-10T10:17:20.768913Z",
     "shell.execute_reply": "2020-11-10T10:17:20.768310Z"
    }
   },
   "outputs": [
    {
     "name": "stdout",
     "output_type": "stream",
     "text": [
      "Logging hadn't been started.\n",
      "Activating auto-logging. Current session state plus future input saved.\n",
      "Filename       : /home/vsts/.qcodes/logs/command_history.log\n",
      "Mode           : append\n",
      "Output logging : True\n",
      "Raw input log  : False\n",
      "Timestamping   : True\n",
      "State          : active\n"
     ]
    },
    {
     "name": "stdout",
     "output_type": "stream",
     "text": [
      "Qcodes Logfile : /home/vsts/.qcodes/logs/201110-14435-qcodes.log\n"
     ]
    }
   ],
   "source": [
    "import os\n",
    "cwd = os.getcwd()\n",
    "import qcodes as qc\n",
    "qc.config[\"core\"][\"db_location\"] = os.path.join(cwd, 'testing.db')\n"
   ]
  },
  {
   "cell_type": "code",
   "execution_count": 2,
   "metadata": {
    "execution": {
     "iopub.execute_input": "2020-11-10T10:17:20.775615Z",
     "iopub.status.busy": "2020-11-10T10:17:20.774896Z",
     "iopub.status.idle": "2020-11-10T10:17:20.978263Z",
     "shell.execute_reply": "2020-11-10T10:17:20.977120Z"
    }
   },
   "outputs": [],
   "source": [
    "%matplotlib inline\n",
    "import time\n",
    "import matplotlib.pyplot as plt\n",
    "import numpy as np\n",
    "\n",
    "import qcodes as qc\n",
    "from qcodes.instrument.parameter import ManualParameter\n",
    "from qcodes.dataset.experiment_container import (Experiment,\n",
    "                                                 load_last_experiment,\n",
    "                                                 new_experiment)\n",
    "from qcodes.dataset.sqlite.database import initialise_database\n",
    "from qcodes import load_or_create_experiment\n",
    "from qcodes.dataset.measurements import Measurement"
   ]
  },
  {
   "cell_type": "code",
   "execution_count": 3,
   "metadata": {
    "execution": {
     "iopub.execute_input": "2020-11-10T10:17:20.982973Z",
     "iopub.status.busy": "2020-11-10T10:17:20.981833Z",
     "iopub.status.idle": "2020-11-10T10:17:21.107310Z",
     "shell.execute_reply": "2020-11-10T10:17:21.106759Z"
    }
   },
   "outputs": [
    {
     "name": "stdout",
     "output_type": "stream",
     "text": [
      "\r",
      "0it [00:00, ?it/s]"
     ]
    },
    {
     "name": "stdout",
     "output_type": "stream",
     "text": [
      "\r",
      "Upgrading database; v0 -> v1: : 0it [00:00, ?it/s]"
     ]
    },
    {
     "name": "stdout",
     "output_type": "stream",
     "text": [
      "\r",
      "Upgrading database; v0 -> v1: : 0it [00:00, ?it/s]"
     ]
    },
    {
     "name": "stdout",
     "output_type": "stream",
     "text": [
      "\n",
      "\r",
      "  0%|          | 0/1 [00:00<?, ?it/s]"
     ]
    },
    {
     "name": "stdout",
     "output_type": "stream",
     "text": [
      "\r",
      "Upgrading database; v1 -> v2:   0%|          | 0/1 [00:00<?, ?it/s]"
     ]
    },
    {
     "name": "stdout",
     "output_type": "stream",
     "text": [
      "\r",
      "Upgrading database; v1 -> v2: 100%|██████████| 1/1 [00:00<00:00, 737.91it/s]"
     ]
    },
    {
     "name": "stdout",
     "output_type": "stream",
     "text": [
      "\n",
      "\r",
      "0it [00:00, ?it/s]"
     ]
    },
    {
     "name": "stdout",
     "output_type": "stream",
     "text": [
      "\r",
      "Upgrading database; v2 -> v3: : 0it [00:00, ?it/s]"
     ]
    },
    {
     "name": "stdout",
     "output_type": "stream",
     "text": [
      "\r",
      "Upgrading database; v2 -> v3: : 0it [00:00, ?it/s]"
     ]
    },
    {
     "name": "stdout",
     "output_type": "stream",
     "text": [
      "\n",
      "\r",
      "0it [00:00, ?it/s]"
     ]
    },
    {
     "name": "stdout",
     "output_type": "stream",
     "text": [
      "\r",
      "Upgrading database; v3 -> v4: : 0it [00:00, ?it/s]"
     ]
    },
    {
     "name": "stdout",
     "output_type": "stream",
     "text": [
      "\r",
      "Upgrading database; v3 -> v4: : 0it [00:00, ?it/s]"
     ]
    },
    {
     "name": "stdout",
     "output_type": "stream",
     "text": [
      "\n",
      "\r",
      "  0%|          | 0/1 [00:00<?, ?it/s]"
     ]
    },
    {
     "name": "stdout",
     "output_type": "stream",
     "text": [
      "\r",
      "Upgrading database; v4 -> v5:   0%|          | 0/1 [00:00<?, ?it/s]"
     ]
    },
    {
     "name": "stdout",
     "output_type": "stream",
     "text": [
      "\r",
      "Upgrading database; v4 -> v5: 100%|██████████| 1/1 [00:00<00:00, 498.91it/s]"
     ]
    },
    {
     "name": "stdout",
     "output_type": "stream",
     "text": [
      "\n",
      "\r",
      "0it [00:00, ?it/s]"
     ]
    },
    {
     "name": "stdout",
     "output_type": "stream",
     "text": [
      "\r",
      "Upgrading database; v5 -> v6: : 0it [00:00, ?it/s]"
     ]
    },
    {
     "name": "stdout",
     "output_type": "stream",
     "text": [
      "\r",
      "Upgrading database; v5 -> v6: : 0it [00:00, ?it/s]"
     ]
    },
    {
     "name": "stdout",
     "output_type": "stream",
     "text": [
      "\n",
      "\r",
      "  0%|          | 0/1 [00:00<?, ?it/s]"
     ]
    },
    {
     "name": "stdout",
     "output_type": "stream",
     "text": [
      "\r",
      "Upgrading database; v6 -> v7:   0%|          | 0/1 [00:00<?, ?it/s]"
     ]
    },
    {
     "name": "stdout",
     "output_type": "stream",
     "text": [
      "\r",
      "Upgrading database; v6 -> v7: 100%|██████████| 1/1 [00:00<00:00, 417.26it/s]"
     ]
    },
    {
     "name": "stdout",
     "output_type": "stream",
     "text": [
      "\n",
      "\r",
      "  0%|          | 0/1 [00:00<?, ?it/s]"
     ]
    },
    {
     "name": "stdout",
     "output_type": "stream",
     "text": [
      "\r",
      "Upgrading database; v7 -> v8:   0%|          | 0/1 [00:00<?, ?it/s]"
     ]
    },
    {
     "name": "stdout",
     "output_type": "stream",
     "text": [
      "\r",
      "Upgrading database; v7 -> v8: 100%|██████████| 1/1 [00:00<00:00, 836.85it/s]"
     ]
    },
    {
     "name": "stdout",
     "output_type": "stream",
     "text": [
      "\n",
      "\r",
      "  0%|          | 0/1 [00:00<?, ?it/s]"
     ]
    },
    {
     "name": "stdout",
     "output_type": "stream",
     "text": [
      "\r",
      "Upgrading database; v8 -> v9:   0%|          | 0/1 [00:00<?, ?it/s]"
     ]
    },
    {
     "name": "stdout",
     "output_type": "stream",
     "text": [
      "\r",
      "Upgrading database; v8 -> v9: 100%|██████████| 1/1 [00:00<00:00, 584.90it/s]"
     ]
    },
    {
     "name": "stdout",
     "output_type": "stream",
     "text": [
      "\n"
     ]
    }
   ],
   "source": [
    "initialise_database()\n",
    "exp = load_or_create_experiment(experiment_name='tutorial_exp', sample_name=\"no sample\")"
   ]
  },
  {
   "cell_type": "markdown",
   "metadata": {},
   "source": [
    "Here, we define a simple function to benchmark the time it takes to insert n points with either numeric or array data type.\n",
    "We will compare both the time used to call ``add_result`` and the time used for the full measurement."
   ]
  },
  {
   "cell_type": "code",
   "execution_count": 4,
   "metadata": {
    "execution": {
     "iopub.execute_input": "2020-11-10T10:17:21.117504Z",
     "iopub.status.busy": "2020-11-10T10:17:21.115864Z",
     "iopub.status.idle": "2020-11-10T10:17:21.118283Z",
     "shell.execute_reply": "2020-11-10T10:17:21.118867Z"
    }
   },
   "outputs": [],
   "source": [
    "def insert_data(paramtype, npoints, nreps=1):\n",
    "\n",
    "    meas = Measurement(exp=exp)\n",
    "\n",
    "    x1 = ManualParameter('x1')\n",
    "    x2 = ManualParameter('x2')\n",
    "    x3 = ManualParameter('x3')\n",
    "    y1 = ManualParameter('y1')\n",
    "    y2 = ManualParameter('y2')\n",
    "\n",
    "    meas.register_parameter(x1, paramtype=paramtype)\n",
    "    meas.register_parameter(x2, paramtype=paramtype)\n",
    "    meas.register_parameter(x3, paramtype=paramtype)\n",
    "    meas.register_parameter(y1, setpoints=[x1, x2, x3],\n",
    "                            paramtype=paramtype)\n",
    "    meas.register_parameter(y2, setpoints=[x1, x2, x3],\n",
    "                            paramtype=paramtype)\n",
    "    start = time.perf_counter()\n",
    "    with meas.run() as datasaver:\n",
    "        start_adding = time.perf_counter()\n",
    "        for i in range(nreps):\n",
    "            datasaver.add_result((x1, np.random.rand(npoints)),\n",
    "                                 (x2, np.random.rand(npoints)),\n",
    "                                 (x3, np.random.rand(npoints)),\n",
    "                                 (y1, np.random.rand(npoints)),\n",
    "                                 (y2, np.random.rand(npoints)))\n",
    "        stop_adding = time.perf_counter()\n",
    "        run_id = datasaver.run_id\n",
    "    stop = time.perf_counter()\n",
    "    tot_time = stop - start\n",
    "    add_time = stop_adding - start_adding\n",
    "    return tot_time, add_time, run_id"
   ]
  },
  {
   "cell_type": "markdown",
   "metadata": {},
   "source": [
    "## Comparison between numeric/array data and binary blob"
   ]
  },
  {
   "cell_type": "markdown",
   "metadata": {},
   "source": [
    "### Case1: Short experiment time"
   ]
  },
  {
   "cell_type": "code",
   "execution_count": 5,
   "metadata": {
    "execution": {
     "iopub.execute_input": "2020-11-10T10:17:21.125736Z",
     "iopub.status.busy": "2020-11-10T10:17:21.124913Z",
     "iopub.status.idle": "2020-11-10T10:17:22.036992Z",
     "shell.execute_reply": "2020-11-10T10:17:22.037887Z"
    }
   },
   "outputs": [
    {
     "name": "stdout",
     "output_type": "stream",
     "text": [
      "Starting experimental run with id: 1. \n",
      "Starting experimental run with id: 2. \n",
      "Starting experimental run with id: 3. \n",
      "Starting experimental run with id: 4. \n"
     ]
    },
    {
     "name": "stdout",
     "output_type": "stream",
     "text": [
      "Starting experimental run with id: 5. \n"
     ]
    },
    {
     "name": "stdout",
     "output_type": "stream",
     "text": [
      "Starting experimental run with id: 6. \n"
     ]
    },
    {
     "name": "stdout",
     "output_type": "stream",
     "text": [
      "Starting experimental run with id: 7. \n"
     ]
    },
    {
     "name": "stdout",
     "output_type": "stream",
     "text": [
      "Starting experimental run with id: 8. \n",
      "Starting experimental run with id: 9. \n"
     ]
    },
    {
     "name": "stdout",
     "output_type": "stream",
     "text": [
      "Starting experimental run with id: 10. \n",
      "Starting experimental run with id: 11. \n"
     ]
    },
    {
     "name": "stdout",
     "output_type": "stream",
     "text": [
      "Starting experimental run with id: 12. \n"
     ]
    },
    {
     "name": "stdout",
     "output_type": "stream",
     "text": [
      "Starting experimental run with id: 13. \n"
     ]
    },
    {
     "name": "stdout",
     "output_type": "stream",
     "text": [
      "Starting experimental run with id: 14. \n"
     ]
    }
   ],
   "source": [
    "sizes = [1,500,1000,2000,3000,4000,5000]\n",
    "t_numeric = []\n",
    "t_numeric_add = []\n",
    "t_array = []\n",
    "t_array_add = []\n",
    "for size in sizes:\n",
    "    tn, tna, run_id_n =  insert_data('numeric', size)\n",
    "    t_numeric.append(tn)\n",
    "    t_numeric_add.append(tna)\n",
    "\n",
    "    ta, taa, run_id_a =  insert_data('array', size)\n",
    "    t_array.append(ta)\n",
    "    t_array_add.append(taa)"
   ]
  },
  {
   "cell_type": "code",
   "execution_count": 6,
   "metadata": {
    "execution": {
     "iopub.execute_input": "2020-11-10T10:17:22.057528Z",
     "iopub.status.busy": "2020-11-10T10:17:22.056771Z",
     "iopub.status.idle": "2020-11-10T10:17:22.294239Z",
     "shell.execute_reply": "2020-11-10T10:17:22.293407Z"
    }
   },
   "outputs": [
    {
     "data": {
      "image/png": "[encoded data removed]",
      "text/plain": [
       "<Figure size 432x288 with 1 Axes>"
      ]
     },
     "metadata": {
      "needs_background": "light"
     },
     "output_type": "display_data"
    }
   ],
   "source": [
    "fig, ax = plt.subplots(1,1)\n",
    "ax.plot(sizes, t_numeric, 'o-', label='Inserting row-by-row')\n",
    "ax.plot(sizes, t_numeric_add, 'o-', label='Inserting row-by-row: add_result only')\n",
    "ax.plot(sizes, t_array, 'd-', label='Inserting as binary blob')\n",
    "ax.plot(sizes, t_array_add, 'd-', label='Inserting as binary blob: add_result only')\n",
    "ax.legend()\n",
    "ax.set_xlabel('Array length')\n",
    "ax.set_ylabel('Time (s)')\n",
    "fig.tight_layout()"
   ]
  },
  {
   "cell_type": "markdown",
   "metadata": {},
   "source": [
    "As shown in the latter figure, the time to setup and and close the experiment is approximately 0.4 sec. In case of small array sizes, the difference between inserting values of data as arrays and inserting them row-by-row is relatively unimportant. At larger array sizes, i.e. above 10000 points, the cost of writing data as individual datapoints starts to become important.\n"
   ]
  },
  {
   "cell_type": "markdown",
   "metadata": {},
   "source": [
    "### Case2: Long experiment time "
   ]
  },
  {
   "cell_type": "code",
   "execution_count": 7,
   "metadata": {
    "execution": {
     "iopub.execute_input": "2020-11-10T10:17:22.301773Z",
     "iopub.status.busy": "2020-11-10T10:17:22.300695Z",
     "iopub.status.idle": "2020-11-10T10:18:24.764028Z",
     "shell.execute_reply": "2020-11-10T10:18:24.763284Z"
    }
   },
   "outputs": [
    {
     "name": "stdout",
     "output_type": "stream",
     "text": [
      "Starting experimental run with id: 15. \n",
      "Starting experimental run with id: 16. \n",
      "Starting experimental run with id: 17. \n"
     ]
    },
    {
     "name": "stdout",
     "output_type": "stream",
     "text": [
      "Starting experimental run with id: 18. \n",
      "Starting experimental run with id: 19. \n"
     ]
    },
    {
     "name": "stdout",
     "output_type": "stream",
     "text": [
      "Starting experimental run with id: 20. \n"
     ]
    },
    {
     "name": "stdout",
     "output_type": "stream",
     "text": [
      "Starting experimental run with id: 21. \n"
     ]
    },
    {
     "name": "stdout",
     "output_type": "stream",
     "text": [
      "Starting experimental run with id: 22. \n"
     ]
    },
    {
     "name": "stdout",
     "output_type": "stream",
     "text": [
      "Starting experimental run with id: 23. \n"
     ]
    },
    {
     "name": "stdout",
     "output_type": "stream",
     "text": [
      "Starting experimental run with id: 24. \n"
     ]
    },
    {
     "name": "stdout",
     "output_type": "stream",
     "text": [
      "Starting experimental run with id: 25. \n"
     ]
    },
    {
     "name": "stdout",
     "output_type": "stream",
     "text": [
      "Starting experimental run with id: 26. \n"
     ]
    },
    {
     "name": "stdout",
     "output_type": "stream",
     "text": [
      "Starting experimental run with id: 27. \n"
     ]
    },
    {
     "name": "stdout",
     "output_type": "stream",
     "text": [
      "Starting experimental run with id: 28. \n"
     ]
    }
   ],
   "source": [
    "sizes = [1,500,1000,2000,3000,4000,5000]\n",
    "nreps = 100\n",
    "t_numeric = []\n",
    "t_numeric_add = []\n",
    "t_numeric_run_ids = []\n",
    "t_array = []\n",
    "t_array_add = []\n",
    "t_array_run_ids = []\n",
    "for size in sizes:\n",
    "    tn, tna, run_id_n =  insert_data('numeric', size, nreps=nreps)\n",
    "    t_numeric.append(tn)\n",
    "    t_numeric_add.append(tna)\n",
    "    t_numeric_run_ids.append(run_id_n)\n",
    "\n",
    "    ta, taa, run_id_a =  insert_data('array', size, nreps=nreps)\n",
    "    t_array.append(ta)\n",
    "    t_array_add.append(taa)\n",
    "    t_array_run_ids.append(run_id_a)"
   ]
  },
  {
   "cell_type": "code",
   "execution_count": 8,
   "metadata": {
    "execution": {
     "iopub.execute_input": "2020-11-10T10:18:24.808897Z",
     "iopub.status.busy": "2020-11-10T10:18:24.788306Z",
     "iopub.status.idle": "2020-11-10T10:18:25.023294Z",
     "shell.execute_reply": "2020-11-10T10:18:25.023757Z"
    },
    "scrolled": true
   },
   "outputs": [
    {
     "data": {
      "image/png": "[encoded data removed]",
      "text/plain": [
       "<Figure size 432x288 with 1 Axes>"
      ]
     },
     "metadata": {
      "needs_background": "light"
     },
     "output_type": "display_data"
    }
   ],
   "source": [
    "fig, ax = plt.subplots(1,1)\n",
    "ax.plot(sizes, t_numeric, 'o-', label='Inserting row-by-row')\n",
    "ax.plot(sizes, t_numeric_add, 'o-', label='Inserting row-by-row: add_result only')\n",
    "ax.plot(sizes, t_array, 'd-', label='Inserting as binary blob')\n",
    "ax.plot(sizes, t_array_add, 'd-', label='Inserting as binary blob: add_result only')\n",
    "ax.legend()\n",
    "ax.set_xlabel('Array length')\n",
    "ax.set_ylabel('Time (s)')\n",
    "fig.tight_layout()"
   ]
  },
  {
   "cell_type": "markdown",
   "metadata": {},
   "source": [
    "However, as we increase the length of the experiment, as seen here by repeating the insertion 100 times, we see a big difference between inserting values of the data row-by-row and inserting it as a binary blob."
   ]
  },
  {
   "cell_type": "markdown",
   "metadata": {},
   "source": [
    "## Loading the data "
   ]
  },
  {
   "cell_type": "code",
   "execution_count": 9,
   "metadata": {
    "execution": {
     "iopub.execute_input": "2020-11-10T10:18:25.028113Z",
     "iopub.status.busy": "2020-11-10T10:18:25.027474Z",
     "iopub.status.idle": "2020-11-10T10:18:25.031417Z",
     "shell.execute_reply": "2020-11-10T10:18:25.030937Z"
    }
   },
   "outputs": [],
   "source": [
    "from qcodes.dataset.data_set import load_by_id\n",
    "from qcodes.dataset.data_export import get_data_by_id"
   ]
  },
  {
   "cell_type": "markdown",
   "metadata": {},
   "source": [
    "As usual you can load the data by using the ``load_by_id`` function but you will notice that the different storage methods\n",
    "are reflected in shape of the data as it is retrieved. "
   ]
  },
  {
   "cell_type": "code",
   "execution_count": 10,
   "metadata": {
    "execution": {
     "iopub.execute_input": "2020-11-10T10:18:25.036557Z",
     "iopub.status.busy": "2020-11-10T10:18:25.035139Z",
     "iopub.status.idle": "2020-11-10T10:18:25.037374Z",
     "shell.execute_reply": "2020-11-10T10:18:25.037960Z"
    }
   },
   "outputs": [],
   "source": [
    "run_id_n = t_numeric_run_ids[0]\n",
    "run_id_a = t_array_run_ids[0]"
   ]
  },
  {
   "cell_type": "code",
   "execution_count": 11,
   "metadata": {
    "execution": {
     "iopub.execute_input": "2020-11-10T10:18:25.041974Z",
     "iopub.status.busy": "2020-11-10T10:18:25.041391Z",
     "iopub.status.idle": "2020-11-10T10:18:25.052248Z",
     "shell.execute_reply": "2020-11-10T10:18:25.053045Z"
    },
    "scrolled": true
   },
   "outputs": [
    {
     "data": {
      "text/plain": [
       "{'x1': {'x1': array([0.14861516, 0.14861516, 0.99315916, 0.99315916, 0.83504828,\n",
       "         0.83504828, 0.20026904, 0.20026904, 0.96542651, 0.96542651,\n",
       "         0.31687552, 0.31687552, 0.03397793, 0.03397793, 0.86261286,\n",
       "         0.86261286, 0.49867149, 0.49867149, 0.89703478, 0.89703478,\n",
       "         0.4047286 , 0.4047286 , 0.15421931, 0.15421931, 0.1880442 ,\n",
       "         0.1880442 , 0.36739811, 0.36739811, 0.55157055, 0.55157055,\n",
       "         0.4316675 , 0.4316675 , 0.5201562 , 0.5201562 , 0.88267361,\n",
       "         0.88267361, 0.40756872, 0.40756872, 0.08905771, 0.08905771,\n",
       "         0.35565429, 0.35565429, 0.4853829 , 0.4853829 , 0.03651258,\n",
       "         0.03651258, 0.69050206, 0.69050206, 0.24813993, 0.24813993,\n",
       "         0.53451488, 0.53451488, 0.57409326, 0.57409326, 0.87332643,\n",
       "         0.87332643, 0.08548077, 0.08548077, 0.87977923, 0.87977923,\n",
       "         0.98977456, 0.98977456, 0.23740843, 0.23740843, 0.86607242,\n",
       "         0.86607242, 0.25332466, 0.25332466, 0.46957964, 0.46957964,\n",
       "         0.80965373, 0.80965373, 0.62316999, 0.62316999, 0.14283112,\n",
       "         0.14283112, 0.33061249, 0.33061249, 0.44288364, 0.44288364,\n",
       "         0.17646644, 0.17646644, 0.78211018, 0.78211018, 0.62482495,\n",
       "         0.62482495, 0.44634251, 0.44634251, 0.95997409, 0.95997409,\n",
       "         0.01485583, 0.01485583, 0.06525024, 0.06525024, 0.53430098,\n",
       "         0.53430098, 0.17957004, 0.17957004, 0.06976331, 0.06976331,\n",
       "         0.09322694, 0.09322694, 0.14788239, 0.14788239, 0.88169312,\n",
       "         0.88169312, 0.52029144, 0.52029144, 0.23425598, 0.23425598,\n",
       "         0.51733016, 0.51733016, 0.09476346, 0.09476346, 0.91417059,\n",
       "         0.91417059, 0.69532309, 0.69532309, 0.29466822, 0.29466822,\n",
       "         0.8079617 , 0.8079617 , 0.46945293, 0.46945293, 0.97217145,\n",
       "         0.97217145, 0.33165431, 0.33165431, 0.27727303, 0.27727303,\n",
       "         0.62493069, 0.62493069, 0.45606314, 0.45606314, 0.96750007,\n",
       "         0.96750007, 0.28546316, 0.28546316, 0.43033055, 0.43033055,\n",
       "         0.42474025, 0.42474025, 0.9783162 , 0.9783162 , 0.98291596,\n",
       "         0.98291596, 0.23639909, 0.23639909, 0.05745171, 0.05745171,\n",
       "         0.53010324, 0.53010324, 0.532498  , 0.532498  , 0.63873974,\n",
       "         0.63873974, 0.78589014, 0.78589014, 0.89893553, 0.89893553,\n",
       "         0.73349843, 0.73349843, 0.71469112, 0.71469112, 0.1739223 ,\n",
       "         0.1739223 , 0.6340077 , 0.6340077 , 0.30320766, 0.30320766,\n",
       "         0.52131068, 0.52131068, 0.83890745, 0.83890745, 0.34118542,\n",
       "         0.34118542, 0.83897924, 0.83897924, 0.99648108, 0.99648108,\n",
       "         0.66608048, 0.66608048, 0.03283951, 0.03283951, 0.57850069,\n",
       "         0.57850069, 0.55864079, 0.55864079, 0.2218498 , 0.2218498 ,\n",
       "         0.03161483, 0.03161483, 0.90483463, 0.90483463, 0.98360715,\n",
       "         0.98360715, 0.79063691, 0.79063691, 0.82782558, 0.82782558])}}"
      ]
     },
     "execution_count": 1,
     "metadata": {},
     "output_type": "execute_result"
    }
   ],
   "source": [
    "ds = load_by_id(run_id_n)\n",
    "ds.get_parameter_data('x1')"
   ]
  },
  {
   "cell_type": "markdown",
   "metadata": {},
   "source": [
    "And a dataset stored as binary arrays"
   ]
  },
  {
   "cell_type": "code",
   "execution_count": 12,
   "metadata": {
    "execution": {
     "iopub.execute_input": "2020-11-10T10:18:25.056760Z",
     "iopub.status.busy": "2020-11-10T10:18:25.056167Z",
     "iopub.status.idle": "2020-11-10T10:18:25.126361Z",
     "shell.execute_reply": "2020-11-10T10:18:25.127093Z"
    },
    "scrolled": true
   },
   "outputs": [
    {
     "data": {
      "text/plain": [
       "{'x1': {'x1': array([[0.38166936],\n",
       "         [0.38166936],\n",
       "         [0.65156275],\n",
       "         [0.65156275],\n",
       "         [0.50477756],\n",
       "         [0.50477756],\n",
       "         [0.81351976],\n",
       "         [0.81351976],\n",
       "         [0.63970798],\n",
       "         [0.63970798],\n",
       "         [0.79278422],\n",
       "         [0.79278422],\n",
       "         [0.569431  ],\n",
       "         [0.569431  ],\n",
       "         [0.92002137],\n",
       "         [0.92002137],\n",
       "         [0.83505563],\n",
       "         [0.83505563],\n",
       "         [0.75062828],\n",
       "         [0.75062828],\n",
       "         [0.86928665],\n",
       "         [0.86928665],\n",
       "         [0.29750683],\n",
       "         [0.29750683],\n",
       "         [0.12033422],\n",
       "         [0.12033422],\n",
       "         [0.01182248],\n",
       "         [0.01182248],\n",
       "         [0.07575218],\n",
       "         [0.07575218],\n",
       "         [0.54927703],\n",
       "         [0.54927703],\n",
       "         [0.29644774],\n",
       "         [0.29644774],\n",
       "         [0.67462752],\n",
       "         [0.67462752],\n",
       "         [0.55633191],\n",
       "         [0.55633191],\n",
       "         [0.61983362],\n",
       "         [0.61983362],\n",
       "         [0.2663236 ],\n",
       "         [0.2663236 ],\n",
       "         [0.18260519],\n",
       "         [0.18260519],\n",
       "         [0.00520862],\n",
       "         [0.00520862],\n",
       "         [0.20886075],\n",
       "         [0.20886075],\n",
       "         [0.49952542],\n",
       "         [0.49952542],\n",
       "         [0.97201603],\n",
       "         [0.97201603],\n",
       "         [0.10758227],\n",
       "         [0.10758227],\n",
       "         [0.19463728],\n",
       "         [0.19463728],\n",
       "         [0.82829384],\n",
       "         [0.82829384],\n",
       "         [0.35231645],\n",
       "         [0.35231645],\n",
       "         [0.67914859],\n",
       "         [0.67914859],\n",
       "         [0.84771079],\n",
       "         [0.84771079],\n",
       "         [0.01614162],\n",
       "         [0.01614162],\n",
       "         [0.6981886 ],\n",
       "         [0.6981886 ],\n",
       "         [0.36283636],\n",
       "         [0.36283636],\n",
       "         [0.68361618],\n",
       "         [0.68361618],\n",
       "         [0.93879842],\n",
       "         [0.93879842],\n",
       "         [0.75305089],\n",
       "         [0.75305089],\n",
       "         [0.00314882],\n",
       "         [0.00314882],\n",
       "         [0.87102641],\n",
       "         [0.87102641],\n",
       "         [0.42048856],\n",
       "         [0.42048856],\n",
       "         [0.44158716],\n",
       "         [0.44158716],\n",
       "         [0.84804987],\n",
       "         [0.84804987],\n",
       "         [0.36172483],\n",
       "         [0.36172483],\n",
       "         [0.85800697],\n",
       "         [0.85800697],\n",
       "         [0.76992307],\n",
       "         [0.76992307],\n",
       "         [0.33502795],\n",
       "         [0.33502795],\n",
       "         [0.26669146],\n",
       "         [0.26669146],\n",
       "         [0.67811468],\n",
       "         [0.67811468],\n",
       "         [0.65900704],\n",
       "         [0.65900704],\n",
       "         [0.79963193],\n",
       "         [0.79963193],\n",
       "         [0.0342215 ],\n",
       "         [0.0342215 ],\n",
       "         [0.41653876],\n",
       "         [0.41653876],\n",
       "         [0.97787944],\n",
       "         [0.97787944],\n",
       "         [0.0556422 ],\n",
       "         [0.0556422 ],\n",
       "         [0.27734113],\n",
       "         [0.27734113],\n",
       "         [0.08919074],\n",
       "         [0.08919074],\n",
       "         [0.14006807],\n",
       "         [0.14006807],\n",
       "         [0.81061585],\n",
       "         [0.81061585],\n",
       "         [0.33217355],\n",
       "         [0.33217355],\n",
       "         [0.30130712],\n",
       "         [0.30130712],\n",
       "         [0.99658201],\n",
       "         [0.99658201],\n",
       "         [0.41549251],\n",
       "         [0.41549251],\n",
       "         [0.22154286],\n",
       "         [0.22154286],\n",
       "         [0.9701904 ],\n",
       "         [0.9701904 ],\n",
       "         [0.92563596],\n",
       "         [0.92563596],\n",
       "         [0.34954494],\n",
       "         [0.34954494],\n",
       "         [0.15082347],\n",
       "         [0.15082347],\n",
       "         [0.48739324],\n",
       "         [0.48739324],\n",
       "         [0.5243491 ],\n",
       "         [0.5243491 ],\n",
       "         [0.68878459],\n",
       "         [0.68878459],\n",
       "         [0.20755911],\n",
       "         [0.20755911],\n",
       "         [0.89465525],\n",
       "         [0.89465525],\n",
       "         [0.85442401],\n",
       "         [0.85442401],\n",
       "         [0.76163369],\n",
       "         [0.76163369],\n",
       "         [0.21758081],\n",
       "         [0.21758081],\n",
       "         [0.47013584],\n",
       "         [0.47013584],\n",
       "         [0.32048505],\n",
       "         [0.32048505],\n",
       "         [0.60115354],\n",
       "         [0.60115354],\n",
       "         [0.08818867],\n",
       "         [0.08818867],\n",
       "         [0.30835715],\n",
       "         [0.30835715],\n",
       "         [0.30631621],\n",
       "         [0.30631621],\n",
       "         [0.11114204],\n",
       "         [0.11114204],\n",
       "         [0.28611836],\n",
       "         [0.28611836],\n",
       "         [0.05847883],\n",
       "         [0.05847883],\n",
       "         [0.89062937],\n",
       "         [0.89062937],\n",
       "         [0.29098778],\n",
       "         [0.29098778],\n",
       "         [0.81747913],\n",
       "         [0.81747913],\n",
       "         [0.53844554],\n",
       "         [0.53844554],\n",
       "         [0.60361722],\n",
       "         [0.60361722],\n",
       "         [0.20810166],\n",
       "         [0.20810166],\n",
       "         [0.27089066],\n",
       "         [0.27089066],\n",
       "         [0.12152442],\n",
       "         [0.12152442],\n",
       "         [0.20185274],\n",
       "         [0.20185274],\n",
       "         [0.23327452],\n",
       "         [0.23327452],\n",
       "         [0.57857954],\n",
       "         [0.57857954],\n",
       "         [0.03991561],\n",
       "         [0.03991561],\n",
       "         [0.48129675],\n",
       "         [0.48129675],\n",
       "         [0.34085432],\n",
       "         [0.34085432],\n",
       "         [0.67591476],\n",
       "         [0.67591476]])}}"
      ]
     },
     "execution_count": 1,
     "metadata": {},
     "output_type": "execute_result"
    }
   ],
   "source": [
    "ds = load_by_id(run_id_a)\n",
    "ds.get_parameter_data('x1')"
   ]
  },
  {
   "cell_type": "code",
   "execution_count": null,
   "metadata": {},
   "outputs": [],
   "source": []
  }
 ],
 "metadata": {
  "kernelspec": {
   "display_name": "Python 3",
   "language": "python",
   "name": "python3"
  },
  "language_info": {
   "codemirror_mode": {
    "name": "ipython",
    "version": 3
   },
   "file_extension": ".py",
   "mimetype": "text/x-python",
   "name": "python",
   "nbconvert_exporter": "python",
   "pygments_lexer": "ipython3",
   "version": "3.7.9"
  },
  "nbsphinx": {
   "timeout": 600
  },
  "toc": {
   "base_numbering": 1,
   "nav_menu": {},
   "number_sections": true,
   "sideBar": true,
   "skip_h1_title": false,
   "title_cell": "Table of Contents",
   "title_sidebar": "Contents",
   "toc_cell": false,
   "toc_position": {},
   "toc_section_display": true,
   "toc_window_display": false
  },
  "varInspector": {
   "cols": {
    "lenName": 16,
    "lenType": 16,
    "lenVar": 40
   },
   "kernels_config": {
    "python": {
     "delete_cmd_postfix": "",
     "delete_cmd_prefix": "del ",
     "library": "var_list.py",
     "varRefreshCmd": "print(var_dic_list())"
    },
    "r": {
     "delete_cmd_postfix": ") ",
     "delete_cmd_prefix": "rm(",
     "library": "var_list.r",
     "varRefreshCmd": "cat(var_dic_list()) "
    }
   },
   "types_to_exclude": [
    "module",
    "function",
    "builtin_function_or_method",
    "instance",
    "_Feature"
   ],
   "window_display": false
  }
 },
 "nbformat": 4,
 "nbformat_minor": 2
}
