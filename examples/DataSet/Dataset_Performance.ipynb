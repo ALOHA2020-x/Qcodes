{
 "cells": [
  {
   "cell_type": "markdown",
   "metadata": {},
   "source": [
    "# DataSet Performance\n",
    "\n",
    "This notebook shows the trade-off between inserting data into a database row-by-row and as binary blobs. Inserting the data row-by-row means that we have direct access to all the data and may perform queries directly on the values of the data. On the other hand, as we shall see, this is much slower than inserting the data directly as binary blobs."
   ]
  },
  {
   "cell_type": "markdown",
   "metadata": {},
   "source": [
    "First, we choose a new location for the database to ensure that we don't add a bunch of benchmarking data to the default one."
   ]
  },
  {
   "cell_type": "code",
   "execution_count": 1,
   "metadata": {
    "execution": {
     "iopub.execute_input": "2020-12-15T16:33:59.479530Z",
     "iopub.status.busy": "2020-12-15T16:33:59.478385Z",
     "iopub.status.idle": "2020-12-15T16:34:00.458969Z",
     "shell.execute_reply": "2020-12-15T16:34:00.458359Z"
    }
   },
   "outputs": [
    {
     "name": "stdout",
     "output_type": "stream",
     "text": [
      "Logging hadn't been started.\n",
      "Activating auto-logging. Current session state plus future input saved.\n",
      "Filename       : /home/vsts/.qcodes/logs/command_history.log\n",
      "Mode           : append\n",
      "Output logging : True\n",
      "Raw input log  : False\n",
      "Timestamping   : True\n",
      "State          : active\n"
     ]
    },
    {
     "name": "stdout",
     "output_type": "stream",
     "text": [
      "Qcodes Logfile : /home/vsts/.qcodes/logs/201215-14131-qcodes.log\n"
     ]
    }
   ],
   "source": [
    "import os\n",
    "cwd = os.getcwd()\n",
    "import qcodes as qc\n",
    "qc.config[\"core\"][\"db_location\"] = os.path.join(cwd, 'testing.db')\n"
   ]
  },
  {
   "cell_type": "code",
   "execution_count": 2,
   "metadata": {
    "execution": {
     "iopub.execute_input": "2020-12-15T16:34:00.467280Z",
     "iopub.status.busy": "2020-12-15T16:34:00.464335Z",
     "iopub.status.idle": "2020-12-15T16:34:00.633499Z",
     "shell.execute_reply": "2020-12-15T16:34:00.632639Z"
    }
   },
   "outputs": [],
   "source": [
    "%matplotlib inline\n",
    "import time\n",
    "import matplotlib.pyplot as plt\n",
    "import numpy as np\n",
    "\n",
    "import qcodes as qc\n",
    "from qcodes.instrument.parameter import ManualParameter\n",
    "from qcodes.dataset.experiment_container import (Experiment,\n",
    "                                                 load_last_experiment,\n",
    "                                                 new_experiment)\n",
    "from qcodes.dataset.sqlite.database import initialise_database\n",
    "from qcodes import load_or_create_experiment\n",
    "from qcodes.dataset.measurements import Measurement"
   ]
  },
  {
   "cell_type": "code",
   "execution_count": 3,
   "metadata": {
    "execution": {
     "iopub.execute_input": "2020-12-15T16:34:00.636623Z",
     "iopub.status.busy": "2020-12-15T16:34:00.636135Z",
     "iopub.status.idle": "2020-12-15T16:34:00.737968Z",
     "shell.execute_reply": "2020-12-15T16:34:00.738339Z"
    }
   },
   "outputs": [
    {
     "name": "stdout",
     "output_type": "stream",
     "text": [
      "\r",
      "0it [00:00, ?it/s]"
     ]
    },
    {
     "name": "stdout",
     "output_type": "stream",
     "text": [
      "\r",
      "Upgrading database; v0 -> v1: : 0it [00:00, ?it/s]"
     ]
    },
    {
     "name": "stdout",
     "output_type": "stream",
     "text": [
      "\r",
      "Upgrading database; v0 -> v1: : 0it [00:00, ?it/s]"
     ]
    },
    {
     "name": "stdout",
     "output_type": "stream",
     "text": [
      "\n",
      "\r",
      "  0%|          | 0/1 [00:00<?, ?it/s]"
     ]
    },
    {
     "name": "stdout",
     "output_type": "stream",
     "text": [
      "\r",
      "Upgrading database; v1 -> v2:   0%|          | 0/1 [00:00<?, ?it/s]"
     ]
    },
    {
     "name": "stdout",
     "output_type": "stream",
     "text": [
      "\r",
      "Upgrading database; v1 -> v2: 100%|██████████| 1/1 [00:00<00:00, 1317.31it/s]"
     ]
    },
    {
     "name": "stdout",
     "output_type": "stream",
     "text": [
      "\n",
      "\r",
      "0it [00:00, ?it/s]"
     ]
    },
    {
     "name": "stdout",
     "output_type": "stream",
     "text": [
      "\r",
      "Upgrading database; v2 -> v3: : 0it [00:00, ?it/s]"
     ]
    },
    {
     "name": "stdout",
     "output_type": "stream",
     "text": [
      "\r",
      "Upgrading database; v2 -> v3: : 0it [00:00, ?it/s]"
     ]
    },
    {
     "name": "stdout",
     "output_type": "stream",
     "text": [
      "\n",
      "\r",
      "0it [00:00, ?it/s]"
     ]
    },
    {
     "name": "stdout",
     "output_type": "stream",
     "text": [
      "\r",
      "Upgrading database; v3 -> v4: : 0it [00:00, ?it/s]"
     ]
    },
    {
     "name": "stdout",
     "output_type": "stream",
     "text": [
      "\r",
      "Upgrading database; v3 -> v4: : 0it [00:00, ?it/s]"
     ]
    },
    {
     "name": "stdout",
     "output_type": "stream",
     "text": [
      "\n",
      "\r",
      "  0%|          | 0/1 [00:00<?, ?it/s]"
     ]
    },
    {
     "name": "stdout",
     "output_type": "stream",
     "text": [
      "\r",
      "Upgrading database; v4 -> v5:   0%|          | 0/1 [00:00<?, ?it/s]"
     ]
    },
    {
     "name": "stdout",
     "output_type": "stream",
     "text": [
      "\r",
      "Upgrading database; v4 -> v5: 100%|██████████| 1/1 [00:00<00:00, 501.35it/s]"
     ]
    },
    {
     "name": "stdout",
     "output_type": "stream",
     "text": [
      "\n",
      "\r",
      "0it [00:00, ?it/s]"
     ]
    },
    {
     "name": "stdout",
     "output_type": "stream",
     "text": [
      "\r",
      "Upgrading database; v5 -> v6: : 0it [00:00, ?it/s]"
     ]
    },
    {
     "name": "stdout",
     "output_type": "stream",
     "text": [
      "\r",
      "Upgrading database; v5 -> v6: : 0it [00:00, ?it/s]"
     ]
    },
    {
     "name": "stdout",
     "output_type": "stream",
     "text": [
      "\n",
      "\r",
      "  0%|          | 0/1 [00:00<?, ?it/s]"
     ]
    },
    {
     "name": "stdout",
     "output_type": "stream",
     "text": [
      "\r",
      "Upgrading database; v6 -> v7:   0%|          | 0/1 [00:00<?, ?it/s]"
     ]
    },
    {
     "name": "stdout",
     "output_type": "stream",
     "text": [
      "\r",
      "Upgrading database; v6 -> v7: 100%|██████████| 1/1 [00:00<00:00, 378.51it/s]"
     ]
    },
    {
     "name": "stdout",
     "output_type": "stream",
     "text": [
      "\n",
      "\r",
      "  0%|          | 0/1 [00:00<?, ?it/s]"
     ]
    },
    {
     "name": "stdout",
     "output_type": "stream",
     "text": [
      "\r",
      "Upgrading database; v7 -> v8:   0%|          | 0/1 [00:00<?, ?it/s]"
     ]
    },
    {
     "name": "stdout",
     "output_type": "stream",
     "text": [
      "\r",
      "Upgrading database; v7 -> v8: 100%|██████████| 1/1 [00:00<00:00, 999.60it/s]"
     ]
    },
    {
     "name": "stdout",
     "output_type": "stream",
     "text": [
      "\n",
      "\r",
      "  0%|          | 0/1 [00:00<?, ?it/s]"
     ]
    },
    {
     "name": "stdout",
     "output_type": "stream",
     "text": [
      "\r",
      "Upgrading database; v8 -> v9:   0%|          | 0/1 [00:00<?, ?it/s]"
     ]
    },
    {
     "name": "stdout",
     "output_type": "stream",
     "text": [
      "\r",
      "Upgrading database; v8 -> v9: 100%|██████████| 1/1 [00:00<00:00, 1153.55it/s]"
     ]
    },
    {
     "name": "stdout",
     "output_type": "stream",
     "text": [
      "\n"
     ]
    }
   ],
   "source": [
    "initialise_database()\n",
    "exp = load_or_create_experiment(experiment_name='tutorial_exp', sample_name=\"no sample\")"
   ]
  },
  {
   "cell_type": "markdown",
   "metadata": {},
   "source": [
    "Here, we define a simple function to benchmark the time it takes to insert n points with either numeric or array data type.\n",
    "We will compare both the time used to call ``add_result`` and the time used for the full measurement."
   ]
  },
  {
   "cell_type": "code",
   "execution_count": 4,
   "metadata": {
    "execution": {
     "iopub.execute_input": "2020-12-15T16:34:00.746576Z",
     "iopub.status.busy": "2020-12-15T16:34:00.745503Z",
     "iopub.status.idle": "2020-12-15T16:34:00.747056Z",
     "shell.execute_reply": "2020-12-15T16:34:00.747522Z"
    }
   },
   "outputs": [],
   "source": [
    "def insert_data(paramtype, npoints, nreps=1):\n",
    "\n",
    "    meas = Measurement(exp=exp)\n",
    "\n",
    "    x1 = ManualParameter('x1')\n",
    "    x2 = ManualParameter('x2')\n",
    "    x3 = ManualParameter('x3')\n",
    "    y1 = ManualParameter('y1')\n",
    "    y2 = ManualParameter('y2')\n",
    "\n",
    "    meas.register_parameter(x1, paramtype=paramtype)\n",
    "    meas.register_parameter(x2, paramtype=paramtype)\n",
    "    meas.register_parameter(x3, paramtype=paramtype)\n",
    "    meas.register_parameter(y1, setpoints=[x1, x2, x3],\n",
    "                            paramtype=paramtype)\n",
    "    meas.register_parameter(y2, setpoints=[x1, x2, x3],\n",
    "                            paramtype=paramtype)\n",
    "    start = time.perf_counter()\n",
    "    with meas.run() as datasaver:\n",
    "        start_adding = time.perf_counter()\n",
    "        for i in range(nreps):\n",
    "            datasaver.add_result((x1, np.random.rand(npoints)),\n",
    "                                 (x2, np.random.rand(npoints)),\n",
    "                                 (x3, np.random.rand(npoints)),\n",
    "                                 (y1, np.random.rand(npoints)),\n",
    "                                 (y2, np.random.rand(npoints)))\n",
    "        stop_adding = time.perf_counter()\n",
    "        run_id = datasaver.run_id\n",
    "    stop = time.perf_counter()\n",
    "    tot_time = stop - start\n",
    "    add_time = stop_adding - start_adding\n",
    "    return tot_time, add_time, run_id"
   ]
  },
  {
   "cell_type": "markdown",
   "metadata": {},
   "source": [
    "## Comparison between numeric/array data and binary blob"
   ]
  },
  {
   "cell_type": "markdown",
   "metadata": {},
   "source": [
    "### Case1: Short experiment time"
   ]
  },
  {
   "cell_type": "code",
   "execution_count": 5,
   "metadata": {
    "execution": {
     "iopub.execute_input": "2020-12-15T16:34:00.753287Z",
     "iopub.status.busy": "2020-12-15T16:34:00.752820Z",
     "iopub.status.idle": "2020-12-15T16:34:01.474261Z",
     "shell.execute_reply": "2020-12-15T16:34:01.473720Z"
    }
   },
   "outputs": [
    {
     "name": "stdout",
     "output_type": "stream",
     "text": [
      "Starting experimental run with id: 1. \n",
      "Starting experimental run with id: 2. \n",
      "Starting experimental run with id: 3. \n",
      "Starting experimental run with id: 4. \n",
      "Starting experimental run with id: 5. \n",
      "Starting experimental run with id: 6. \n"
     ]
    },
    {
     "name": "stdout",
     "output_type": "stream",
     "text": [
      "Starting experimental run with id: 7. \n"
     ]
    },
    {
     "name": "stdout",
     "output_type": "stream",
     "text": [
      "Starting experimental run with id: 8. \n"
     ]
    },
    {
     "name": "stdout",
     "output_type": "stream",
     "text": [
      "Starting experimental run with id: 9. \n",
      "Starting experimental run with id: 10. \n",
      "Starting experimental run with id: 11. \n"
     ]
    },
    {
     "name": "stdout",
     "output_type": "stream",
     "text": [
      "Starting experimental run with id: 12. \n",
      "Starting experimental run with id: 13. \n"
     ]
    },
    {
     "name": "stdout",
     "output_type": "stream",
     "text": [
      "Starting experimental run with id: 14. \n"
     ]
    }
   ],
   "source": [
    "sizes = [1,500,1000,2000,3000,4000,5000]\n",
    "t_numeric = []\n",
    "t_numeric_add = []\n",
    "t_array = []\n",
    "t_array_add = []\n",
    "for size in sizes:\n",
    "    tn, tna, run_id_n =  insert_data('numeric', size)\n",
    "    t_numeric.append(tn)\n",
    "    t_numeric_add.append(tna)\n",
    "\n",
    "    ta, taa, run_id_a =  insert_data('array', size)\n",
    "    t_array.append(ta)\n",
    "    t_array_add.append(taa)"
   ]
  },
  {
   "cell_type": "code",
   "execution_count": 6,
   "metadata": {
    "execution": {
     "iopub.execute_input": "2020-12-15T16:34:01.513313Z",
     "iopub.status.busy": "2020-12-15T16:34:01.490073Z",
     "iopub.status.idle": "2020-12-15T16:34:01.652308Z",
     "shell.execute_reply": "2020-12-15T16:34:01.651823Z"
    }
   },
   "outputs": [
    {
     "data": {
      "image/png": "[encoded data removed]",
      "text/plain": [
       "<Figure size 432x288 with 1 Axes>"
      ]
     },
     "metadata": {
      "needs_background": "light"
     },
     "output_type": "display_data"
    }
   ],
   "source": [
    "fig, ax = plt.subplots(1,1)\n",
    "ax.plot(sizes, t_numeric, 'o-', label='Inserting row-by-row')\n",
    "ax.plot(sizes, t_numeric_add, 'o-', label='Inserting row-by-row: add_result only')\n",
    "ax.plot(sizes, t_array, 'd-', label='Inserting as binary blob')\n",
    "ax.plot(sizes, t_array_add, 'd-', label='Inserting as binary blob: add_result only')\n",
    "ax.legend()\n",
    "ax.set_xlabel('Array length')\n",
    "ax.set_ylabel('Time (s)')\n",
    "fig.tight_layout()"
   ]
  },
  {
   "cell_type": "markdown",
   "metadata": {},
   "source": [
    "As shown in the latter figure, the time to setup and and close the experiment is approximately 0.4 sec. In case of small array sizes, the difference between inserting values of data as arrays and inserting them row-by-row is relatively unimportant. At larger array sizes, i.e. above 10000 points, the cost of writing data as individual datapoints starts to become important.\n"
   ]
  },
  {
   "cell_type": "markdown",
   "metadata": {},
   "source": [
    "### Case2: Long experiment time "
   ]
  },
  {
   "cell_type": "code",
   "execution_count": 7,
   "metadata": {
    "execution": {
     "iopub.execute_input": "2020-12-15T16:34:01.658620Z",
     "iopub.status.busy": "2020-12-15T16:34:01.658141Z",
     "iopub.status.idle": "2020-12-15T16:34:54.215139Z",
     "shell.execute_reply": "2020-12-15T16:34:54.214690Z"
    }
   },
   "outputs": [
    {
     "name": "stdout",
     "output_type": "stream",
     "text": [
      "Starting experimental run with id: 15. \n",
      "Starting experimental run with id: 16. \n",
      "Starting experimental run with id: 17. \n"
     ]
    },
    {
     "name": "stdout",
     "output_type": "stream",
     "text": [
      "Starting experimental run with id: 18. \n",
      "Starting experimental run with id: 19. \n"
     ]
    },
    {
     "name": "stdout",
     "output_type": "stream",
     "text": [
      "Starting experimental run with id: 20. \n"
     ]
    },
    {
     "name": "stdout",
     "output_type": "stream",
     "text": [
      "Starting experimental run with id: 21. \n"
     ]
    },
    {
     "name": "stdout",
     "output_type": "stream",
     "text": [
      "Starting experimental run with id: 22. \n"
     ]
    },
    {
     "name": "stdout",
     "output_type": "stream",
     "text": [
      "Starting experimental run with id: 23. \n"
     ]
    },
    {
     "name": "stdout",
     "output_type": "stream",
     "text": [
      "Starting experimental run with id: 24. \n"
     ]
    },
    {
     "name": "stdout",
     "output_type": "stream",
     "text": [
      "Starting experimental run with id: 25. \n"
     ]
    },
    {
     "name": "stdout",
     "output_type": "stream",
     "text": [
      "Starting experimental run with id: 26. \n"
     ]
    },
    {
     "name": "stdout",
     "output_type": "stream",
     "text": [
      "Starting experimental run with id: 27. \n"
     ]
    },
    {
     "name": "stdout",
     "output_type": "stream",
     "text": [
      "Starting experimental run with id: 28. \n"
     ]
    }
   ],
   "source": [
    "sizes = [1,500,1000,2000,3000,4000,5000]\n",
    "nreps = 100\n",
    "t_numeric = []\n",
    "t_numeric_add = []\n",
    "t_numeric_run_ids = []\n",
    "t_array = []\n",
    "t_array_add = []\n",
    "t_array_run_ids = []\n",
    "for size in sizes:\n",
    "    tn, tna, run_id_n =  insert_data('numeric', size, nreps=nreps)\n",
    "    t_numeric.append(tn)\n",
    "    t_numeric_add.append(tna)\n",
    "    t_numeric_run_ids.append(run_id_n)\n",
    "\n",
    "    ta, taa, run_id_a =  insert_data('array', size, nreps=nreps)\n",
    "    t_array.append(ta)\n",
    "    t_array_add.append(taa)\n",
    "    t_array_run_ids.append(run_id_a)"
   ]
  },
  {
   "cell_type": "code",
   "execution_count": 8,
   "metadata": {
    "execution": {
     "iopub.execute_input": "2020-12-15T16:34:54.249835Z",
     "iopub.status.busy": "2020-12-15T16:34:54.241450Z",
     "iopub.status.idle": "2020-12-15T16:34:54.405105Z",
     "shell.execute_reply": "2020-12-15T16:34:54.404653Z"
    },
    "scrolled": true
   },
   "outputs": [
    {
     "data": {
      "image/png": "[encoded data removed]",
      "text/plain": [
       "<Figure size 432x288 with 1 Axes>"
      ]
     },
     "metadata": {
      "needs_background": "light"
     },
     "output_type": "display_data"
    }
   ],
   "source": [
    "fig, ax = plt.subplots(1,1)\n",
    "ax.plot(sizes, t_numeric, 'o-', label='Inserting row-by-row')\n",
    "ax.plot(sizes, t_numeric_add, 'o-', label='Inserting row-by-row: add_result only')\n",
    "ax.plot(sizes, t_array, 'd-', label='Inserting as binary blob')\n",
    "ax.plot(sizes, t_array_add, 'd-', label='Inserting as binary blob: add_result only')\n",
    "ax.legend()\n",
    "ax.set_xlabel('Array length')\n",
    "ax.set_ylabel('Time (s)')\n",
    "fig.tight_layout()"
   ]
  },
  {
   "cell_type": "markdown",
   "metadata": {},
   "source": [
    "However, as we increase the length of the experiment, as seen here by repeating the insertion 100 times, we see a big difference between inserting values of the data row-by-row and inserting it as a binary blob."
   ]
  },
  {
   "cell_type": "markdown",
   "metadata": {},
   "source": [
    "## Loading the data "
   ]
  },
  {
   "cell_type": "code",
   "execution_count": 9,
   "metadata": {
    "execution": {
     "iopub.execute_input": "2020-12-15T16:34:54.409295Z",
     "iopub.status.busy": "2020-12-15T16:34:54.408436Z",
     "iopub.status.idle": "2020-12-15T16:34:54.411510Z",
     "shell.execute_reply": "2020-12-15T16:34:54.410997Z"
    }
   },
   "outputs": [],
   "source": [
    "from qcodes.dataset.data_set import load_by_id\n",
    "from qcodes.dataset.data_export import get_data_by_id"
   ]
  },
  {
   "cell_type": "markdown",
   "metadata": {},
   "source": [
    "As usual you can load the data by using the ``load_by_id`` function but you will notice that the different storage methods\n",
    "are reflected in shape of the data as it is retrieved. "
   ]
  },
  {
   "cell_type": "code",
   "execution_count": 10,
   "metadata": {
    "execution": {
     "iopub.execute_input": "2020-12-15T16:34:54.415652Z",
     "iopub.status.busy": "2020-12-15T16:34:54.414839Z",
     "iopub.status.idle": "2020-12-15T16:34:54.416442Z",
     "shell.execute_reply": "2020-12-15T16:34:54.416935Z"
    }
   },
   "outputs": [],
   "source": [
    "run_id_n = t_numeric_run_ids[0]\n",
    "run_id_a = t_array_run_ids[0]"
   ]
  },
  {
   "cell_type": "code",
   "execution_count": 11,
   "metadata": {
    "execution": {
     "iopub.execute_input": "2020-12-15T16:34:54.420091Z",
     "iopub.status.busy": "2020-12-15T16:34:54.419615Z",
     "iopub.status.idle": "2020-12-15T16:34:54.429174Z",
     "shell.execute_reply": "2020-12-15T16:34:54.428748Z"
    },
    "scrolled": true
   },
   "outputs": [
    {
     "data": {
      "text/plain": [
       "{'x1': {'x1': array([0.12927939, 0.12927939, 0.97532032, 0.97532032, 0.14676622,\n",
       "         0.14676622, 0.91967429, 0.91967429, 0.36544294, 0.36544294,\n",
       "         0.09964103, 0.09964103, 0.64086794, 0.64086794, 0.31614599,\n",
       "         0.31614599, 0.07045432, 0.07045432, 0.44883603, 0.44883603,\n",
       "         0.8859348 , 0.8859348 , 0.378657  , 0.378657  , 0.93392045,\n",
       "         0.93392045, 0.32978731, 0.32978731, 0.0824493 , 0.0824493 ,\n",
       "         0.47622261, 0.47622261, 0.34094897, 0.34094897, 0.28852463,\n",
       "         0.28852463, 0.33657585, 0.33657585, 0.56845392, 0.56845392,\n",
       "         0.56404787, 0.56404787, 0.52152762, 0.52152762, 0.56907591,\n",
       "         0.56907591, 0.25157968, 0.25157968, 0.95614108, 0.95614108,\n",
       "         0.42616859, 0.42616859, 0.82173259, 0.82173259, 0.49340784,\n",
       "         0.49340784, 0.41425529, 0.41425529, 0.36097056, 0.36097056,\n",
       "         0.40553808, 0.40553808, 0.54529469, 0.54529469, 0.49321291,\n",
       "         0.49321291, 0.64576611, 0.64576611, 0.49921772, 0.49921772,\n",
       "         0.11450807, 0.11450807, 0.52345173, 0.52345173, 0.29422581,\n",
       "         0.29422581, 0.60883283, 0.60883283, 0.6961975 , 0.6961975 ,\n",
       "         0.17719459, 0.17719459, 0.79895939, 0.79895939, 0.72784754,\n",
       "         0.72784754, 0.99484027, 0.99484027, 0.45092509, 0.45092509,\n",
       "         0.85931314, 0.85931314, 0.05009169, 0.05009169, 0.1430596 ,\n",
       "         0.1430596 , 0.33191619, 0.33191619, 0.52594294, 0.52594294,\n",
       "         0.59598534, 0.59598534, 0.48797998, 0.48797998, 0.06876558,\n",
       "         0.06876558, 0.32499985, 0.32499985, 0.94517355, 0.94517355,\n",
       "         0.07504207, 0.07504207, 0.51594745, 0.51594745, 0.8121744 ,\n",
       "         0.8121744 , 0.26426339, 0.26426339, 0.96974401, 0.96974401,\n",
       "         0.94057111, 0.94057111, 0.0649824 , 0.0649824 , 0.21158694,\n",
       "         0.21158694, 0.25824179, 0.25824179, 0.45650499, 0.45650499,\n",
       "         0.93656468, 0.93656468, 0.84275578, 0.84275578, 0.13331286,\n",
       "         0.13331286, 0.68246241, 0.68246241, 0.89072716, 0.89072716,\n",
       "         0.95646948, 0.95646948, 0.98629503, 0.98629503, 0.03135136,\n",
       "         0.03135136, 0.87066045, 0.87066045, 0.42152584, 0.42152584,\n",
       "         0.81643034, 0.81643034, 0.97535022, 0.97535022, 0.80691153,\n",
       "         0.80691153, 0.41175916, 0.41175916, 0.21456453, 0.21456453,\n",
       "         0.10797266, 0.10797266, 0.91153263, 0.91153263, 0.45912312,\n",
       "         0.45912312, 0.50716458, 0.50716458, 0.77339263, 0.77339263,\n",
       "         0.90149997, 0.90149997, 0.33370886, 0.33370886, 0.15069386,\n",
       "         0.15069386, 0.55211938, 0.55211938, 0.71100971, 0.71100971,\n",
       "         0.86713185, 0.86713185, 0.52824133, 0.52824133, 0.52666609,\n",
       "         0.52666609, 0.77370997, 0.77370997, 0.57249384, 0.57249384,\n",
       "         0.6321006 , 0.6321006 , 0.10724259, 0.10724259, 0.27499741,\n",
       "         0.27499741, 0.32557226, 0.32557226, 0.9966545 , 0.9966545 ])}}"
      ]
     },
     "execution_count": 1,
     "metadata": {},
     "output_type": "execute_result"
    }
   ],
   "source": [
    "ds = load_by_id(run_id_n)\n",
    "ds.get_parameter_data('x1')"
   ]
  },
  {
   "cell_type": "markdown",
   "metadata": {},
   "source": [
    "And a dataset stored as binary arrays"
   ]
  },
  {
   "cell_type": "code",
   "execution_count": 12,
   "metadata": {
    "execution": {
     "iopub.execute_input": "2020-12-15T16:34:54.432501Z",
     "iopub.status.busy": "2020-12-15T16:34:54.432025Z",
     "iopub.status.idle": "2020-12-15T16:34:54.479796Z",
     "shell.execute_reply": "2020-12-15T16:34:54.480404Z"
    },
    "scrolled": true
   },
   "outputs": [
    {
     "data": {
      "text/plain": [
       "{'x1': {'x1': array([[0.80922248],\n",
       "         [0.80922248],\n",
       "         [0.07108678],\n",
       "         [0.07108678],\n",
       "         [0.60352433],\n",
       "         [0.60352433],\n",
       "         [0.05154909],\n",
       "         [0.05154909],\n",
       "         [0.99267081],\n",
       "         [0.99267081],\n",
       "         [0.79399153],\n",
       "         [0.79399153],\n",
       "         [0.97839749],\n",
       "         [0.97839749],\n",
       "         [0.73589387],\n",
       "         [0.73589387],\n",
       "         [0.25318671],\n",
       "         [0.25318671],\n",
       "         [0.76879998],\n",
       "         [0.76879998],\n",
       "         [0.18460173],\n",
       "         [0.18460173],\n",
       "         [0.35197512],\n",
       "         [0.35197512],\n",
       "         [0.61535486],\n",
       "         [0.61535486],\n",
       "         [0.29625435],\n",
       "         [0.29625435],\n",
       "         [0.35225014],\n",
       "         [0.35225014],\n",
       "         [0.56850446],\n",
       "         [0.56850446],\n",
       "         [0.09730223],\n",
       "         [0.09730223],\n",
       "         [0.76848304],\n",
       "         [0.76848304],\n",
       "         [0.46651057],\n",
       "         [0.46651057],\n",
       "         [0.89607959],\n",
       "         [0.89607959],\n",
       "         [0.19711415],\n",
       "         [0.19711415],\n",
       "         [0.33005354],\n",
       "         [0.33005354],\n",
       "         [0.81661725],\n",
       "         [0.81661725],\n",
       "         [0.84947269],\n",
       "         [0.84947269],\n",
       "         [0.60031109],\n",
       "         [0.60031109],\n",
       "         [0.16499352],\n",
       "         [0.16499352],\n",
       "         [0.84350574],\n",
       "         [0.84350574],\n",
       "         [0.47769783],\n",
       "         [0.47769783],\n",
       "         [0.87272464],\n",
       "         [0.87272464],\n",
       "         [0.14167667],\n",
       "         [0.14167667],\n",
       "         [0.43374351],\n",
       "         [0.43374351],\n",
       "         [0.63338232],\n",
       "         [0.63338232],\n",
       "         [0.8266457 ],\n",
       "         [0.8266457 ],\n",
       "         [0.9256002 ],\n",
       "         [0.9256002 ],\n",
       "         [0.22018723],\n",
       "         [0.22018723],\n",
       "         [0.84451418],\n",
       "         [0.84451418],\n",
       "         [0.34114238],\n",
       "         [0.34114238],\n",
       "         [0.34552178],\n",
       "         [0.34552178],\n",
       "         [0.11572696],\n",
       "         [0.11572696],\n",
       "         [0.84192856],\n",
       "         [0.84192856],\n",
       "         [0.80260247],\n",
       "         [0.80260247],\n",
       "         [0.05976437],\n",
       "         [0.05976437],\n",
       "         [0.87668453],\n",
       "         [0.87668453],\n",
       "         [0.93594344],\n",
       "         [0.93594344],\n",
       "         [0.55969923],\n",
       "         [0.55969923],\n",
       "         [0.72706164],\n",
       "         [0.72706164],\n",
       "         [0.30370861],\n",
       "         [0.30370861],\n",
       "         [0.90398183],\n",
       "         [0.90398183],\n",
       "         [0.22565723],\n",
       "         [0.22565723],\n",
       "         [0.59539567],\n",
       "         [0.59539567],\n",
       "         [0.16304355],\n",
       "         [0.16304355],\n",
       "         [0.79038118],\n",
       "         [0.79038118],\n",
       "         [0.11566081],\n",
       "         [0.11566081],\n",
       "         [0.20865462],\n",
       "         [0.20865462],\n",
       "         [0.95125083],\n",
       "         [0.95125083],\n",
       "         [0.38727051],\n",
       "         [0.38727051],\n",
       "         [0.68473439],\n",
       "         [0.68473439],\n",
       "         [0.03798452],\n",
       "         [0.03798452],\n",
       "         [0.87076108],\n",
       "         [0.87076108],\n",
       "         [0.02707986],\n",
       "         [0.02707986],\n",
       "         [0.82448699],\n",
       "         [0.82448699],\n",
       "         [0.70480257],\n",
       "         [0.70480257],\n",
       "         [0.18795374],\n",
       "         [0.18795374],\n",
       "         [0.68272213],\n",
       "         [0.68272213],\n",
       "         [0.41591745],\n",
       "         [0.41591745],\n",
       "         [0.03978498],\n",
       "         [0.03978498],\n",
       "         [0.69076386],\n",
       "         [0.69076386],\n",
       "         [0.03423962],\n",
       "         [0.03423962],\n",
       "         [0.16207658],\n",
       "         [0.16207658],\n",
       "         [0.43370522],\n",
       "         [0.43370522],\n",
       "         [0.18656211],\n",
       "         [0.18656211],\n",
       "         [0.27791554],\n",
       "         [0.27791554],\n",
       "         [0.29132392],\n",
       "         [0.29132392],\n",
       "         [0.52654088],\n",
       "         [0.52654088],\n",
       "         [0.57434587],\n",
       "         [0.57434587],\n",
       "         [0.29582515],\n",
       "         [0.29582515],\n",
       "         [0.86211988],\n",
       "         [0.86211988],\n",
       "         [0.17275101],\n",
       "         [0.17275101],\n",
       "         [0.73153645],\n",
       "         [0.73153645],\n",
       "         [0.07031821],\n",
       "         [0.07031821],\n",
       "         [0.09241323],\n",
       "         [0.09241323],\n",
       "         [0.76262604],\n",
       "         [0.76262604],\n",
       "         [0.99494336],\n",
       "         [0.99494336],\n",
       "         [0.36535329],\n",
       "         [0.36535329],\n",
       "         [0.77875656],\n",
       "         [0.77875656],\n",
       "         [0.66269768],\n",
       "         [0.66269768],\n",
       "         [0.75434902],\n",
       "         [0.75434902],\n",
       "         [0.06428624],\n",
       "         [0.06428624],\n",
       "         [0.08281949],\n",
       "         [0.08281949],\n",
       "         [0.22388112],\n",
       "         [0.22388112],\n",
       "         [0.02697456],\n",
       "         [0.02697456],\n",
       "         [0.91181112],\n",
       "         [0.91181112],\n",
       "         [0.28003919],\n",
       "         [0.28003919],\n",
       "         [0.74685974],\n",
       "         [0.74685974],\n",
       "         [0.23853836],\n",
       "         [0.23853836],\n",
       "         [0.94541549],\n",
       "         [0.94541549],\n",
       "         [0.18385789],\n",
       "         [0.18385789],\n",
       "         [0.49892474],\n",
       "         [0.49892474],\n",
       "         [0.78566213],\n",
       "         [0.78566213],\n",
       "         [0.78934065],\n",
       "         [0.78934065]])}}"
      ]
     },
     "execution_count": 1,
     "metadata": {},
     "output_type": "execute_result"
    }
   ],
   "source": [
    "ds = load_by_id(run_id_a)\n",
    "ds.get_parameter_data('x1')"
   ]
  },
  {
   "cell_type": "code",
   "execution_count": null,
   "metadata": {},
   "outputs": [],
   "source": []
  }
 ],
 "metadata": {
  "kernelspec": {
   "display_name": "Python 3",
   "language": "python",
   "name": "python3"
  },
  "language_info": {
   "codemirror_mode": {
    "name": "ipython",
    "version": 3
   },
   "file_extension": ".py",
   "mimetype": "text/x-python",
   "name": "python",
   "nbconvert_exporter": "python",
   "pygments_lexer": "ipython3",
   "version": "3.7.9"
  },
  "nbsphinx": {
   "timeout": 600
  },
  "toc": {
   "base_numbering": 1,
   "nav_menu": {},
   "number_sections": true,
   "sideBar": true,
   "skip_h1_title": false,
   "title_cell": "Table of Contents",
   "title_sidebar": "Contents",
   "toc_cell": false,
   "toc_position": {},
   "toc_section_display": true,
   "toc_window_display": false
  },
  "varInspector": {
   "cols": {
    "lenName": 16,
    "lenType": 16,
    "lenVar": 40
   },
   "kernels_config": {
    "python": {
     "delete_cmd_postfix": "",
     "delete_cmd_prefix": "del ",
     "library": "var_list.py",
     "varRefreshCmd": "print(var_dic_list())"
    },
    "r": {
     "delete_cmd_postfix": ") ",
     "delete_cmd_prefix": "rm(",
     "library": "var_list.r",
     "varRefreshCmd": "cat(var_dic_list()) "
    }
   },
   "types_to_exclude": [
    "module",
    "function",
    "builtin_function_or_method",
    "instance",
    "_Feature"
   ],
   "window_display": false
  }
 },
 "nbformat": 4,
 "nbformat_minor": 2
}
