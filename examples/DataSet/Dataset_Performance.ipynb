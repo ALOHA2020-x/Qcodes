{
 "cells": [
  {
   "cell_type": "markdown",
   "metadata": {},
   "source": [
    "# DataSet Performance\n",
    "\n",
    "This notebook shows the trade-off between inserting data into a database row-by-row and as binary blobs. Inserting the data row-by-row means that we have direct access to all the data and may perform queries directly on the values of the data. On the other hand, as we shall see, this is much slower than inserting the data directly as binary blobs."
   ]
  },
  {
   "cell_type": "markdown",
   "metadata": {},
   "source": [
    "First, we choose a new location for the database to ensure that we don't add a bunch of benchmarking data to the default one."
   ]
  },
  {
   "cell_type": "code",
   "execution_count": 1,
   "metadata": {
    "execution": {
     "iopub.execute_input": "2021-05-06T11:39:17.391527Z",
     "iopub.status.busy": "2021-05-06T11:39:17.390983Z",
     "iopub.status.idle": "2021-05-06T11:39:18.580348Z",
     "shell.execute_reply": "2021-05-06T11:39:18.579734Z"
    }
   },
   "outputs": [
    {
     "name": "stdout",
     "output_type": "stream",
     "text": [
      "Logging hadn't been started.\n",
      "Activating auto-logging. Current session state plus future input saved.\n",
      "Filename       : /home/runner/.qcodes/logs/command_history.log\n",
      "Mode           : append\n",
      "Output logging : True\n",
      "Raw input log  : False\n",
      "Timestamping   : True\n",
      "State          : active\n"
     ]
    },
    {
     "name": "stdout",
     "output_type": "stream",
     "text": [
      "Qcodes Logfile : /home/runner/.qcodes/logs/210506-4503-qcodes.log\n"
     ]
    }
   ],
   "source": [
    "import os\n",
    "cwd = os.getcwd()\n",
    "import qcodes as qc\n",
    "qc.config[\"core\"][\"db_location\"] = os.path.join(cwd, 'testing.db')\n"
   ]
  },
  {
   "cell_type": "code",
   "execution_count": 2,
   "metadata": {
    "execution": {
     "iopub.execute_input": "2021-05-06T11:39:18.586873Z",
     "iopub.status.busy": "2021-05-06T11:39:18.585932Z",
     "iopub.status.idle": "2021-05-06T11:39:18.778481Z",
     "shell.execute_reply": "2021-05-06T11:39:18.777969Z"
    }
   },
   "outputs": [],
   "source": [
    "%matplotlib inline\n",
    "import time\n",
    "import matplotlib.pyplot as plt\n",
    "import numpy as np\n",
    "\n",
    "import qcodes as qc\n",
    "from qcodes.instrument.parameter import ManualParameter\n",
    "from qcodes.dataset.experiment_container import (Experiment,\n",
    "                                                 load_last_experiment,\n",
    "                                                 new_experiment)\n",
    "from qcodes.dataset.sqlite.database import initialise_database\n",
    "from qcodes import load_or_create_experiment\n",
    "from qcodes.dataset.measurements import Measurement"
   ]
  },
  {
   "cell_type": "code",
   "execution_count": 3,
   "metadata": {
    "execution": {
     "iopub.execute_input": "2021-05-06T11:39:18.782623Z",
     "iopub.status.busy": "2021-05-06T11:39:18.781928Z",
     "iopub.status.idle": "2021-05-06T11:39:18.867553Z",
     "shell.execute_reply": "2021-05-06T11:39:18.868090Z"
    }
   },
   "outputs": [
    {
     "name": "stdout",
     "output_type": "stream",
     "text": [
      "\r",
      "0it [00:00, ?it/s]"
     ]
    },
    {
     "name": "stdout",
     "output_type": "stream",
     "text": [
      "\r",
      "Upgrading database; v0 -> v1: : 0it [00:00, ?it/s]"
     ]
    },
    {
     "name": "stdout",
     "output_type": "stream",
     "text": [
      "\r",
      "Upgrading database; v0 -> v1: : 0it [00:00, ?it/s]"
     ]
    },
    {
     "name": "stdout",
     "output_type": "stream",
     "text": [
      "\n",
      "\r",
      "  0%|          | 0/1 [00:00<?, ?it/s]"
     ]
    },
    {
     "name": "stdout",
     "output_type": "stream",
     "text": [
      "\r",
      "Upgrading database; v1 -> v2:   0%|          | 0/1 [00:00<?, ?it/s]"
     ]
    },
    {
     "name": "stdout",
     "output_type": "stream",
     "text": [
      "\r",
      "Upgrading database; v1 -> v2: 100%|██████████| 1/1 [00:00<00:00, 381.44it/s]"
     ]
    },
    {
     "name": "stdout",
     "output_type": "stream",
     "text": [
      "\n",
      "\r",
      "0it [00:00, ?it/s]"
     ]
    },
    {
     "name": "stdout",
     "output_type": "stream",
     "text": [
      "\r",
      "Upgrading database; v2 -> v3: : 0it [00:00, ?it/s]"
     ]
    },
    {
     "name": "stdout",
     "output_type": "stream",
     "text": [
      "\r",
      "Upgrading database; v2 -> v3: : 0it [00:00, ?it/s]"
     ]
    },
    {
     "name": "stdout",
     "output_type": "stream",
     "text": [
      "\n",
      "\r",
      "0it [00:00, ?it/s]"
     ]
    },
    {
     "name": "stdout",
     "output_type": "stream",
     "text": [
      "\r",
      "Upgrading database; v3 -> v4: : 0it [00:00, ?it/s]"
     ]
    },
    {
     "name": "stdout",
     "output_type": "stream",
     "text": [
      "\r",
      "Upgrading database; v3 -> v4: : 0it [00:00, ?it/s]"
     ]
    },
    {
     "name": "stdout",
     "output_type": "stream",
     "text": [
      "\n",
      "\r",
      "  0%|          | 0/1 [00:00<?, ?it/s]"
     ]
    },
    {
     "name": "stdout",
     "output_type": "stream",
     "text": [
      "\r",
      "Upgrading database; v4 -> v5:   0%|          | 0/1 [00:00<?, ?it/s]"
     ]
    },
    {
     "name": "stdout",
     "output_type": "stream",
     "text": [
      "\r",
      "Upgrading database; v4 -> v5: 100%|██████████| 1/1 [00:00<00:00, 544.08it/s]"
     ]
    },
    {
     "name": "stdout",
     "output_type": "stream",
     "text": [
      "\n",
      "\r",
      "0it [00:00, ?it/s]"
     ]
    },
    {
     "name": "stdout",
     "output_type": "stream",
     "text": [
      "\r",
      "Upgrading database; v5 -> v6: : 0it [00:00, ?it/s]"
     ]
    },
    {
     "name": "stdout",
     "output_type": "stream",
     "text": [
      "\r",
      "Upgrading database; v5 -> v6: : 0it [00:00, ?it/s]"
     ]
    },
    {
     "name": "stdout",
     "output_type": "stream",
     "text": [
      "\n",
      "\r",
      "  0%|          | 0/1 [00:00<?, ?it/s]"
     ]
    },
    {
     "name": "stdout",
     "output_type": "stream",
     "text": [
      "\r",
      "Upgrading database; v6 -> v7:   0%|          | 0/1 [00:00<?, ?it/s]"
     ]
    },
    {
     "name": "stdout",
     "output_type": "stream",
     "text": [
      "\r",
      "Upgrading database; v6 -> v7: 100%|██████████| 1/1 [00:00<00:00, 205.64it/s]"
     ]
    },
    {
     "name": "stdout",
     "output_type": "stream",
     "text": [
      "\n",
      "\r",
      "  0%|          | 0/1 [00:00<?, ?it/s]"
     ]
    },
    {
     "name": "stdout",
     "output_type": "stream",
     "text": [
      "\r",
      "Upgrading database; v7 -> v8:   0%|          | 0/1 [00:00<?, ?it/s]"
     ]
    },
    {
     "name": "stdout",
     "output_type": "stream",
     "text": [
      "\r",
      "Upgrading database; v7 -> v8: 100%|██████████| 1/1 [00:00<00:00, 526.86it/s]"
     ]
    },
    {
     "name": "stdout",
     "output_type": "stream",
     "text": [
      "\n",
      "\r",
      "  0%|          | 0/1 [00:00<?, ?it/s]"
     ]
    },
    {
     "name": "stdout",
     "output_type": "stream",
     "text": [
      "\r",
      "Upgrading database; v8 -> v9:   0%|          | 0/1 [00:00<?, ?it/s]"
     ]
    },
    {
     "name": "stdout",
     "output_type": "stream",
     "text": [
      "\r",
      "Upgrading database; v8 -> v9: 100%|██████████| 1/1 [00:00<00:00, 1238.72it/s]"
     ]
    },
    {
     "name": "stdout",
     "output_type": "stream",
     "text": [
      "\n"
     ]
    }
   ],
   "source": [
    "initialise_database()\n",
    "exp = load_or_create_experiment(experiment_name='tutorial_exp', sample_name=\"no sample\")"
   ]
  },
  {
   "cell_type": "markdown",
   "metadata": {},
   "source": [
    "Here, we define a simple function to benchmark the time it takes to insert n points with either numeric or array data type.\n",
    "We will compare both the time used to call ``add_result`` and the time used for the full measurement."
   ]
  },
  {
   "cell_type": "code",
   "execution_count": 4,
   "metadata": {
    "execution": {
     "iopub.execute_input": "2021-05-06T11:39:18.877034Z",
     "iopub.status.busy": "2021-05-06T11:39:18.875280Z",
     "iopub.status.idle": "2021-05-06T11:39:18.879026Z",
     "shell.execute_reply": "2021-05-06T11:39:18.879529Z"
    }
   },
   "outputs": [],
   "source": [
    "def insert_data(paramtype, npoints, nreps=1):\n",
    "\n",
    "    meas = Measurement(exp=exp)\n",
    "\n",
    "    x1 = ManualParameter('x1')\n",
    "    x2 = ManualParameter('x2')\n",
    "    x3 = ManualParameter('x3')\n",
    "    y1 = ManualParameter('y1')\n",
    "    y2 = ManualParameter('y2')\n",
    "\n",
    "    meas.register_parameter(x1, paramtype=paramtype)\n",
    "    meas.register_parameter(x2, paramtype=paramtype)\n",
    "    meas.register_parameter(x3, paramtype=paramtype)\n",
    "    meas.register_parameter(y1, setpoints=[x1, x2, x3],\n",
    "                            paramtype=paramtype)\n",
    "    meas.register_parameter(y2, setpoints=[x1, x2, x3],\n",
    "                            paramtype=paramtype)\n",
    "    start = time.perf_counter()\n",
    "    with meas.run() as datasaver:\n",
    "        start_adding = time.perf_counter()\n",
    "        for i in range(nreps):\n",
    "            datasaver.add_result((x1, np.random.rand(npoints)),\n",
    "                                 (x2, np.random.rand(npoints)),\n",
    "                                 (x3, np.random.rand(npoints)),\n",
    "                                 (y1, np.random.rand(npoints)),\n",
    "                                 (y2, np.random.rand(npoints)))\n",
    "        stop_adding = time.perf_counter()\n",
    "        run_id = datasaver.run_id\n",
    "    stop = time.perf_counter()\n",
    "    tot_time = stop - start\n",
    "    add_time = stop_adding - start_adding\n",
    "    return tot_time, add_time, run_id"
   ]
  },
  {
   "cell_type": "markdown",
   "metadata": {},
   "source": [
    "## Comparison between numeric/array data and binary blob"
   ]
  },
  {
   "cell_type": "markdown",
   "metadata": {},
   "source": [
    "### Case1: Short experiment time"
   ]
  },
  {
   "cell_type": "code",
   "execution_count": 5,
   "metadata": {
    "execution": {
     "iopub.execute_input": "2021-05-06T11:39:18.886641Z",
     "iopub.status.busy": "2021-05-06T11:39:18.885766Z",
     "iopub.status.idle": "2021-05-06T11:39:19.668662Z",
     "shell.execute_reply": "2021-05-06T11:39:19.668170Z"
    }
   },
   "outputs": [
    {
     "name": "stdout",
     "output_type": "stream",
     "text": [
      "Starting experimental run with id: 1. \n",
      "Starting experimental run with id: 2. \n",
      "Starting experimental run with id: 3. \n"
     ]
    },
    {
     "name": "stdout",
     "output_type": "stream",
     "text": [
      "Starting experimental run with id: 4. \n"
     ]
    },
    {
     "name": "stdout",
     "output_type": "stream",
     "text": [
      "Starting experimental run with id: 5. \n"
     ]
    },
    {
     "name": "stdout",
     "output_type": "stream",
     "text": [
      "Starting experimental run with id: 6. \n",
      "Starting experimental run with id: 7. \n"
     ]
    },
    {
     "name": "stdout",
     "output_type": "stream",
     "text": [
      "Starting experimental run with id: 8. \n",
      "Starting experimental run with id: 9. \n"
     ]
    },
    {
     "name": "stdout",
     "output_type": "stream",
     "text": [
      "Starting experimental run with id: 10. \n",
      "Starting experimental run with id: 11. \n"
     ]
    },
    {
     "name": "stdout",
     "output_type": "stream",
     "text": [
      "Starting experimental run with id: 12. \n",
      "Starting experimental run with id: 13. \n"
     ]
    },
    {
     "name": "stdout",
     "output_type": "stream",
     "text": [
      "Starting experimental run with id: 14. \n"
     ]
    }
   ],
   "source": [
    "sizes = [1,500,1000,2000,3000,4000,5000]\n",
    "t_numeric = []\n",
    "t_numeric_add = []\n",
    "t_array = []\n",
    "t_array_add = []\n",
    "for size in sizes:\n",
    "    tn, tna, run_id_n =  insert_data('numeric', size)\n",
    "    t_numeric.append(tn)\n",
    "    t_numeric_add.append(tna)\n",
    "\n",
    "    ta, taa, run_id_a =  insert_data('array', size)\n",
    "    t_array.append(ta)\n",
    "    t_array_add.append(taa)"
   ]
  },
  {
   "cell_type": "code",
   "execution_count": 6,
   "metadata": {
    "execution": {
     "iopub.execute_input": "2021-05-06T11:39:19.706338Z",
     "iopub.status.busy": "2021-05-06T11:39:19.689640Z",
     "iopub.status.idle": "2021-05-06T11:39:19.988330Z",
     "shell.execute_reply": "2021-05-06T11:39:19.988844Z"
    }
   },
   "outputs": [
    {
     "data": {
      "image/png": "[encoded data removed]",
      "text/plain": [
       "<Figure size 432x288 with 1 Axes>"
      ]
     },
     "metadata": {
      "needs_background": "light"
     },
     "output_type": "display_data"
    }
   ],
   "source": [
    "fig, ax = plt.subplots(1,1)\n",
    "ax.plot(sizes, t_numeric, 'o-', label='Inserting row-by-row')\n",
    "ax.plot(sizes, t_numeric_add, 'o-', label='Inserting row-by-row: add_result only')\n",
    "ax.plot(sizes, t_array, 'd-', label='Inserting as binary blob')\n",
    "ax.plot(sizes, t_array_add, 'd-', label='Inserting as binary blob: add_result only')\n",
    "ax.legend()\n",
    "ax.set_xlabel('Array length')\n",
    "ax.set_ylabel('Time (s)')\n",
    "fig.tight_layout()"
   ]
  },
  {
   "cell_type": "markdown",
   "metadata": {},
   "source": [
    "As shown in the latter figure, the time to setup and and close the experiment is approximately 0.4 sec. In case of small array sizes, the difference between inserting values of data as arrays and inserting them row-by-row is relatively unimportant. At larger array sizes, i.e. above 10000 points, the cost of writing data as individual datapoints starts to become important.\n"
   ]
  },
  {
   "cell_type": "markdown",
   "metadata": {},
   "source": [
    "### Case2: Long experiment time "
   ]
  },
  {
   "cell_type": "code",
   "execution_count": 7,
   "metadata": {
    "execution": {
     "iopub.execute_input": "2021-05-06T11:39:19.996753Z",
     "iopub.status.busy": "2021-05-06T11:39:19.995737Z",
     "iopub.status.idle": "2021-05-06T11:40:13.779836Z",
     "shell.execute_reply": "2021-05-06T11:40:13.777565Z"
    }
   },
   "outputs": [
    {
     "name": "stdout",
     "output_type": "stream",
     "text": [
      "Starting experimental run with id: 15. \n",
      "Starting experimental run with id: 16. \n",
      "Starting experimental run with id: 17. \n"
     ]
    },
    {
     "name": "stdout",
     "output_type": "stream",
     "text": [
      "Starting experimental run with id: 18. \n"
     ]
    },
    {
     "name": "stdout",
     "output_type": "stream",
     "text": [
      "Starting experimental run with id: 19. \n"
     ]
    },
    {
     "name": "stdout",
     "output_type": "stream",
     "text": [
      "Starting experimental run with id: 20. \n"
     ]
    },
    {
     "name": "stdout",
     "output_type": "stream",
     "text": [
      "Starting experimental run with id: 21. \n"
     ]
    },
    {
     "name": "stdout",
     "output_type": "stream",
     "text": [
      "Starting experimental run with id: 22. \n"
     ]
    },
    {
     "name": "stdout",
     "output_type": "stream",
     "text": [
      "Starting experimental run with id: 23. \n"
     ]
    },
    {
     "name": "stdout",
     "output_type": "stream",
     "text": [
      "Starting experimental run with id: 24. \n"
     ]
    },
    {
     "name": "stdout",
     "output_type": "stream",
     "text": [
      "Starting experimental run with id: 25. \n"
     ]
    },
    {
     "name": "stdout",
     "output_type": "stream",
     "text": [
      "Starting experimental run with id: 26. \n"
     ]
    },
    {
     "name": "stdout",
     "output_type": "stream",
     "text": [
      "Starting experimental run with id: 27. \n"
     ]
    },
    {
     "name": "stdout",
     "output_type": "stream",
     "text": [
      "Starting experimental run with id: 28. \n"
     ]
    }
   ],
   "source": [
    "sizes = [1,500,1000,2000,3000,4000,5000]\n",
    "nreps = 100\n",
    "t_numeric = []\n",
    "t_numeric_add = []\n",
    "t_numeric_run_ids = []\n",
    "t_array = []\n",
    "t_array_add = []\n",
    "t_array_run_ids = []\n",
    "for size in sizes:\n",
    "    tn, tna, run_id_n =  insert_data('numeric', size, nreps=nreps)\n",
    "    t_numeric.append(tn)\n",
    "    t_numeric_add.append(tna)\n",
    "    t_numeric_run_ids.append(run_id_n)\n",
    "\n",
    "    ta, taa, run_id_a =  insert_data('array', size, nreps=nreps)\n",
    "    t_array.append(ta)\n",
    "    t_array_add.append(taa)\n",
    "    t_array_run_ids.append(run_id_a)"
   ]
  },
  {
   "cell_type": "code",
   "execution_count": 8,
   "metadata": {
    "execution": {
     "iopub.execute_input": "2021-05-06T11:40:13.828090Z",
     "iopub.status.busy": "2021-05-06T11:40:13.814809Z",
     "iopub.status.idle": "2021-05-06T11:40:14.043674Z",
     "shell.execute_reply": "2021-05-06T11:40:14.043158Z"
    },
    "scrolled": true
   },
   "outputs": [
    {
     "data": {
      "image/png": "[encoded data removed]",
      "text/plain": [
       "<Figure size 432x288 with 1 Axes>"
      ]
     },
     "metadata": {
      "needs_background": "light"
     },
     "output_type": "display_data"
    }
   ],
   "source": [
    "fig, ax = plt.subplots(1,1)\n",
    "ax.plot(sizes, t_numeric, 'o-', label='Inserting row-by-row')\n",
    "ax.plot(sizes, t_numeric_add, 'o-', label='Inserting row-by-row: add_result only')\n",
    "ax.plot(sizes, t_array, 'd-', label='Inserting as binary blob')\n",
    "ax.plot(sizes, t_array_add, 'd-', label='Inserting as binary blob: add_result only')\n",
    "ax.legend()\n",
    "ax.set_xlabel('Array length')\n",
    "ax.set_ylabel('Time (s)')\n",
    "fig.tight_layout()"
   ]
  },
  {
   "cell_type": "markdown",
   "metadata": {},
   "source": [
    "However, as we increase the length of the experiment, as seen here by repeating the insertion 100 times, we see a big difference between inserting values of the data row-by-row and inserting it as a binary blob."
   ]
  },
  {
   "cell_type": "markdown",
   "metadata": {},
   "source": [
    "## Loading the data "
   ]
  },
  {
   "cell_type": "code",
   "execution_count": 9,
   "metadata": {
    "execution": {
     "iopub.execute_input": "2021-05-06T11:40:14.048130Z",
     "iopub.status.busy": "2021-05-06T11:40:14.047560Z",
     "iopub.status.idle": "2021-05-06T11:40:14.050732Z",
     "shell.execute_reply": "2021-05-06T11:40:14.051176Z"
    }
   },
   "outputs": [],
   "source": [
    "from qcodes.dataset.data_set import load_by_id"
   ]
  },
  {
   "cell_type": "markdown",
   "metadata": {},
   "source": [
    "As usual you can load the data by using the ``load_by_id`` function but you will notice that the different storage methods\n",
    "are reflected in shape of the data as it is retrieved. "
   ]
  },
  {
   "cell_type": "code",
   "execution_count": 10,
   "metadata": {
    "execution": {
     "iopub.execute_input": "2021-05-06T11:40:14.056698Z",
     "iopub.status.busy": "2021-05-06T11:40:14.055245Z",
     "iopub.status.idle": "2021-05-06T11:40:14.057416Z",
     "shell.execute_reply": "2021-05-06T11:40:14.057905Z"
    }
   },
   "outputs": [],
   "source": [
    "run_id_n = t_numeric_run_ids[0]\n",
    "run_id_a = t_array_run_ids[0]"
   ]
  },
  {
   "cell_type": "code",
   "execution_count": 11,
   "metadata": {
    "execution": {
     "iopub.execute_input": "2021-05-06T11:40:14.061715Z",
     "iopub.status.busy": "2021-05-06T11:40:14.061106Z",
     "iopub.status.idle": "2021-05-06T11:40:14.069964Z",
     "shell.execute_reply": "2021-05-06T11:40:14.070435Z"
    },
    "scrolled": true
   },
   "outputs": [
    {
     "data": {
      "text/plain": [
       "{'x1': {'x1': array([0.5982765 , 0.5982765 , 0.33864182, 0.33864182, 0.74729193,\n",
       "         0.74729193, 0.09851498, 0.09851498, 0.67937297, 0.67937297,\n",
       "         0.32558544, 0.32558544, 0.42968771, 0.42968771, 0.03481008,\n",
       "         0.03481008, 0.79402884, 0.79402884, 0.82969413, 0.82969413,\n",
       "         0.04755646, 0.04755646, 0.96873499, 0.96873499, 0.88059927,\n",
       "         0.88059927, 0.32832569, 0.32832569, 0.29495711, 0.29495711,\n",
       "         0.75094366, 0.75094366, 0.22572129, 0.22572129, 0.62666046,\n",
       "         0.62666046, 0.02730909, 0.02730909, 0.89461809, 0.89461809,\n",
       "         0.47885152, 0.47885152, 0.65607335, 0.65607335, 0.37487158,\n",
       "         0.37487158, 0.84392032, 0.84392032, 0.08506131, 0.08506131,\n",
       "         0.19169306, 0.19169306, 0.37694365, 0.37694365, 0.11855237,\n",
       "         0.11855237, 0.82835631, 0.82835631, 0.18042106, 0.18042106,\n",
       "         0.4509876 , 0.4509876 , 0.85872986, 0.85872986, 0.17503213,\n",
       "         0.17503213, 0.86866888, 0.86866888, 0.3404293 , 0.3404293 ,\n",
       "         0.3776299 , 0.3776299 , 0.78863371, 0.78863371, 0.41103115,\n",
       "         0.41103115, 0.2250813 , 0.2250813 , 0.30734262, 0.30734262,\n",
       "         0.64863023, 0.64863023, 0.35995385, 0.35995385, 0.13327344,\n",
       "         0.13327344, 0.64655226, 0.64655226, 0.90425156, 0.90425156,\n",
       "         0.08914087, 0.08914087, 0.66763018, 0.66763018, 0.98465296,\n",
       "         0.98465296, 0.61224977, 0.61224977, 0.96595397, 0.96595397,\n",
       "         0.46212053, 0.46212053, 0.27882814, 0.27882814, 0.44541267,\n",
       "         0.44541267, 0.05578827, 0.05578827, 0.02502578, 0.02502578,\n",
       "         0.52282233, 0.52282233, 0.60184565, 0.60184565, 0.43143465,\n",
       "         0.43143465, 0.97385313, 0.97385313, 0.60570508, 0.60570508,\n",
       "         0.55028331, 0.55028331, 0.69160759, 0.69160759, 0.11308171,\n",
       "         0.11308171, 0.72781098, 0.72781098, 0.76901316, 0.76901316,\n",
       "         0.88563098, 0.88563098, 0.96050486, 0.96050486, 0.91623212,\n",
       "         0.91623212, 0.62964471, 0.62964471, 0.47553834, 0.47553834,\n",
       "         0.26752392, 0.26752392, 0.14161867, 0.14161867, 0.66457598,\n",
       "         0.66457598, 0.45764104, 0.45764104, 0.62042206, 0.62042206,\n",
       "         0.62390878, 0.62390878, 0.78507899, 0.78507899, 0.72825988,\n",
       "         0.72825988, 0.12809849, 0.12809849, 0.82827005, 0.82827005,\n",
       "         0.12319415, 0.12319415, 0.84532251, 0.84532251, 0.58907788,\n",
       "         0.58907788, 0.68415458, 0.68415458, 0.12642291, 0.12642291,\n",
       "         0.5120596 , 0.5120596 , 0.41938321, 0.41938321, 0.37664785,\n",
       "         0.37664785, 0.6514769 , 0.6514769 , 0.65901183, 0.65901183,\n",
       "         0.66525986, 0.66525986, 0.54643775, 0.54643775, 0.14454035,\n",
       "         0.14454035, 0.63246208, 0.63246208, 0.76548652, 0.76548652,\n",
       "         0.98322379, 0.98322379, 0.39470707, 0.39470707, 0.37915129,\n",
       "         0.37915129, 0.0886269 , 0.0886269 , 0.96638813, 0.96638813])}}"
      ]
     },
     "execution_count": 1,
     "metadata": {},
     "output_type": "execute_result"
    }
   ],
   "source": [
    "ds = load_by_id(run_id_n)\n",
    "ds.get_parameter_data('x1')"
   ]
  },
  {
   "cell_type": "markdown",
   "metadata": {},
   "source": [
    "And a dataset stored as binary arrays"
   ]
  },
  {
   "cell_type": "code",
   "execution_count": 12,
   "metadata": {
    "execution": {
     "iopub.execute_input": "2021-05-06T11:40:14.073795Z",
     "iopub.status.busy": "2021-05-06T11:40:14.073206Z",
     "iopub.status.idle": "2021-05-06T11:40:14.132862Z",
     "shell.execute_reply": "2021-05-06T11:40:14.132419Z"
    },
    "scrolled": true
   },
   "outputs": [
    {
     "data": {
      "text/plain": [
       "{'x1': {'x1': array([[0.27108734],\n",
       "         [0.27108734],\n",
       "         [0.01649643],\n",
       "         [0.01649643],\n",
       "         [0.12187598],\n",
       "         [0.12187598],\n",
       "         [0.95771648],\n",
       "         [0.95771648],\n",
       "         [0.9567455 ],\n",
       "         [0.9567455 ],\n",
       "         [0.6597944 ],\n",
       "         [0.6597944 ],\n",
       "         [0.08409697],\n",
       "         [0.08409697],\n",
       "         [0.18103238],\n",
       "         [0.18103238],\n",
       "         [0.05612343],\n",
       "         [0.05612343],\n",
       "         [0.97848132],\n",
       "         [0.97848132],\n",
       "         [0.31210934],\n",
       "         [0.31210934],\n",
       "         [0.09686777],\n",
       "         [0.09686777],\n",
       "         [0.91042393],\n",
       "         [0.91042393],\n",
       "         [0.94708921],\n",
       "         [0.94708921],\n",
       "         [0.25373514],\n",
       "         [0.25373514],\n",
       "         [0.20459531],\n",
       "         [0.20459531],\n",
       "         [0.16371235],\n",
       "         [0.16371235],\n",
       "         [0.65984459],\n",
       "         [0.65984459],\n",
       "         [0.11128833],\n",
       "         [0.11128833],\n",
       "         [0.92747632],\n",
       "         [0.92747632],\n",
       "         [0.61718998],\n",
       "         [0.61718998],\n",
       "         [0.82911339],\n",
       "         [0.82911339],\n",
       "         [0.64869016],\n",
       "         [0.64869016],\n",
       "         [0.0270925 ],\n",
       "         [0.0270925 ],\n",
       "         [0.26146959],\n",
       "         [0.26146959],\n",
       "         [0.76611629],\n",
       "         [0.76611629],\n",
       "         [0.22199567],\n",
       "         [0.22199567],\n",
       "         [0.24589866],\n",
       "         [0.24589866],\n",
       "         [0.38275941],\n",
       "         [0.38275941],\n",
       "         [0.7001147 ],\n",
       "         [0.7001147 ],\n",
       "         [0.1124103 ],\n",
       "         [0.1124103 ],\n",
       "         [0.68915019],\n",
       "         [0.68915019],\n",
       "         [0.25700313],\n",
       "         [0.25700313],\n",
       "         [0.40251048],\n",
       "         [0.40251048],\n",
       "         [0.94429635],\n",
       "         [0.94429635],\n",
       "         [0.65413269],\n",
       "         [0.65413269],\n",
       "         [0.13745065],\n",
       "         [0.13745065],\n",
       "         [0.62115632],\n",
       "         [0.62115632],\n",
       "         [0.64363663],\n",
       "         [0.64363663],\n",
       "         [0.90155233],\n",
       "         [0.90155233],\n",
       "         [0.72410881],\n",
       "         [0.72410881],\n",
       "         [0.37712493],\n",
       "         [0.37712493],\n",
       "         [0.89657353],\n",
       "         [0.89657353],\n",
       "         [0.94163547],\n",
       "         [0.94163547],\n",
       "         [0.69008162],\n",
       "         [0.69008162],\n",
       "         [0.7187865 ],\n",
       "         [0.7187865 ],\n",
       "         [0.7823936 ],\n",
       "         [0.7823936 ],\n",
       "         [0.21384927],\n",
       "         [0.21384927],\n",
       "         [0.97163072],\n",
       "         [0.97163072],\n",
       "         [0.44883172],\n",
       "         [0.44883172],\n",
       "         [0.80580202],\n",
       "         [0.80580202],\n",
       "         [0.17420951],\n",
       "         [0.17420951],\n",
       "         [0.74814926],\n",
       "         [0.74814926],\n",
       "         [0.03388872],\n",
       "         [0.03388872],\n",
       "         [0.39539678],\n",
       "         [0.39539678],\n",
       "         [0.81457418],\n",
       "         [0.81457418],\n",
       "         [0.37784609],\n",
       "         [0.37784609],\n",
       "         [0.94068721],\n",
       "         [0.94068721],\n",
       "         [0.11425529],\n",
       "         [0.11425529],\n",
       "         [0.55537865],\n",
       "         [0.55537865],\n",
       "         [0.68130885],\n",
       "         [0.68130885],\n",
       "         [0.37729645],\n",
       "         [0.37729645],\n",
       "         [0.30308719],\n",
       "         [0.30308719],\n",
       "         [0.89985874],\n",
       "         [0.89985874],\n",
       "         [0.22207135],\n",
       "         [0.22207135],\n",
       "         [0.63422856],\n",
       "         [0.63422856],\n",
       "         [0.31458229],\n",
       "         [0.31458229],\n",
       "         [0.63205757],\n",
       "         [0.63205757],\n",
       "         [0.38520514],\n",
       "         [0.38520514],\n",
       "         [0.15256285],\n",
       "         [0.15256285],\n",
       "         [0.34882476],\n",
       "         [0.34882476],\n",
       "         [0.56145358],\n",
       "         [0.56145358],\n",
       "         [0.31656846],\n",
       "         [0.31656846],\n",
       "         [0.29338953],\n",
       "         [0.29338953],\n",
       "         [0.09111103],\n",
       "         [0.09111103],\n",
       "         [0.31658305],\n",
       "         [0.31658305],\n",
       "         [0.78858041],\n",
       "         [0.78858041],\n",
       "         [0.8844197 ],\n",
       "         [0.8844197 ],\n",
       "         [0.33440677],\n",
       "         [0.33440677],\n",
       "         [0.40315914],\n",
       "         [0.40315914],\n",
       "         [0.35841085],\n",
       "         [0.35841085],\n",
       "         [0.33935029],\n",
       "         [0.33935029],\n",
       "         [0.48965101],\n",
       "         [0.48965101],\n",
       "         [0.07991858],\n",
       "         [0.07991858],\n",
       "         [0.84354575],\n",
       "         [0.84354575],\n",
       "         [0.27570413],\n",
       "         [0.27570413],\n",
       "         [0.90708567],\n",
       "         [0.90708567],\n",
       "         [0.29784046],\n",
       "         [0.29784046],\n",
       "         [0.85689304],\n",
       "         [0.85689304],\n",
       "         [0.28102477],\n",
       "         [0.28102477],\n",
       "         [0.68898022],\n",
       "         [0.68898022],\n",
       "         [0.44771765],\n",
       "         [0.44771765],\n",
       "         [0.29316649],\n",
       "         [0.29316649],\n",
       "         [0.12323554],\n",
       "         [0.12323554],\n",
       "         [0.60521616],\n",
       "         [0.60521616],\n",
       "         [0.5859244 ],\n",
       "         [0.5859244 ],\n",
       "         [0.19424886],\n",
       "         [0.19424886],\n",
       "         [0.02911687],\n",
       "         [0.02911687],\n",
       "         [0.93294312],\n",
       "         [0.93294312],\n",
       "         [0.47582991],\n",
       "         [0.47582991]])}}"
      ]
     },
     "execution_count": 1,
     "metadata": {},
     "output_type": "execute_result"
    }
   ],
   "source": [
    "ds = load_by_id(run_id_a)\n",
    "ds.get_parameter_data('x1')"
   ]
  },
  {
   "cell_type": "code",
   "execution_count": null,
   "metadata": {},
   "outputs": [],
   "source": []
  }
 ],
 "metadata": {
  "kernelspec": {
   "display_name": "Python 3",
   "language": "python",
   "name": "python3"
  },
  "language_info": {
   "codemirror_mode": {
    "name": "ipython",
    "version": 3
   },
   "file_extension": ".py",
   "mimetype": "text/x-python",
   "name": "python",
   "nbconvert_exporter": "python",
   "pygments_lexer": "ipython3",
   "version": "3.7.10"
  },
  "nbsphinx": {
   "timeout": 600
  },
  "toc": {
   "base_numbering": 1,
   "nav_menu": {},
   "number_sections": true,
   "sideBar": true,
   "skip_h1_title": false,
   "title_cell": "Table of Contents",
   "title_sidebar": "Contents",
   "toc_cell": false,
   "toc_position": {},
   "toc_section_display": true,
   "toc_window_display": false
  },
  "varInspector": {
   "cols": {
    "lenName": 16,
    "lenType": 16,
    "lenVar": 40
   },
   "kernels_config": {
    "python": {
     "delete_cmd_postfix": "",
     "delete_cmd_prefix": "del ",
     "library": "var_list.py",
     "varRefreshCmd": "print(var_dic_list())"
    },
    "r": {
     "delete_cmd_postfix": ") ",
     "delete_cmd_prefix": "rm(",
     "library": "var_list.r",
     "varRefreshCmd": "cat(var_dic_list()) "
    }
   },
   "types_to_exclude": [
    "module",
    "function",
    "builtin_function_or_method",
    "instance",
    "_Feature"
   ],
   "window_display": false
  }
 },
 "nbformat": 4,
 "nbformat_minor": 4
}
