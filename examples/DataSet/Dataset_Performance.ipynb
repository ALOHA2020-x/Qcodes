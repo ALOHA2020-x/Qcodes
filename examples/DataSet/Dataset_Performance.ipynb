{
 "cells": [
  {
   "cell_type": "markdown",
   "metadata": {},
   "source": [
    "# DataSet Performance\n",
    "\n",
    "This notebook shows the trade-off between inserting data into a database row-by-row and as binary blobs. Inserting the data row-by-row means that we have direct access to all the data and may perform queries directly on the values of the data. On the other hand, as we shall see, this is much slower than inserting the data directly as binary blobs."
   ]
  },
  {
   "cell_type": "markdown",
   "metadata": {},
   "source": [
    "First, we choose a new location for the database to ensure that we don't add a bunch of benchmarking data to the default one."
   ]
  },
  {
   "cell_type": "code",
   "execution_count": 1,
   "metadata": {
    "execution": {
     "iopub.execute_input": "2021-05-26T12:25:48.613158Z",
     "iopub.status.busy": "2021-05-26T12:25:48.612600Z",
     "iopub.status.idle": "2021-05-26T12:25:49.626988Z",
     "shell.execute_reply": "2021-05-26T12:25:49.626055Z"
    }
   },
   "outputs": [
    {
     "name": "stdout",
     "output_type": "stream",
     "text": [
      "Logging hadn't been started.\n",
      "Activating auto-logging. Current session state plus future input saved.\n",
      "Filename       : /home/runner/.qcodes/logs/command_history.log\n",
      "Mode           : append\n",
      "Output logging : True\n",
      "Raw input log  : False\n",
      "Timestamping   : True\n",
      "State          : active\n"
     ]
    },
    {
     "name": "stdout",
     "output_type": "stream",
     "text": [
      "Qcodes Logfile : /home/runner/.qcodes/logs/210526-4446-qcodes.log\n"
     ]
    }
   ],
   "source": [
    "import os\n",
    "cwd = os.getcwd()\n",
    "import qcodes as qc\n",
    "qc.config[\"core\"][\"db_location\"] = os.path.join(cwd, 'testing.db')\n"
   ]
  },
  {
   "cell_type": "code",
   "execution_count": 2,
   "metadata": {
    "execution": {
     "iopub.execute_input": "2021-05-26T12:25:49.633595Z",
     "iopub.status.busy": "2021-05-26T12:25:49.632467Z",
     "iopub.status.idle": "2021-05-26T12:25:49.807576Z",
     "shell.execute_reply": "2021-05-26T12:25:49.807077Z"
    }
   },
   "outputs": [],
   "source": [
    "%matplotlib inline\n",
    "import time\n",
    "import matplotlib.pyplot as plt\n",
    "import numpy as np\n",
    "\n",
    "import qcodes as qc\n",
    "from qcodes.instrument.parameter import ManualParameter\n",
    "from qcodes.dataset.experiment_container import (Experiment,\n",
    "                                                 load_last_experiment,\n",
    "                                                 new_experiment)\n",
    "from qcodes.dataset.sqlite.database import initialise_database\n",
    "from qcodes import load_or_create_experiment\n",
    "from qcodes.dataset.measurements import Measurement"
   ]
  },
  {
   "cell_type": "code",
   "execution_count": 3,
   "metadata": {
    "execution": {
     "iopub.execute_input": "2021-05-26T12:25:49.811086Z",
     "iopub.status.busy": "2021-05-26T12:25:49.810569Z",
     "iopub.status.idle": "2021-05-26T12:25:49.866879Z",
     "shell.execute_reply": "2021-05-26T12:25:49.867274Z"
    }
   },
   "outputs": [
    {
     "name": "stdout",
     "output_type": "stream",
     "text": [
      "\r",
      "0it [00:00, ?it/s]"
     ]
    },
    {
     "name": "stdout",
     "output_type": "stream",
     "text": [
      "\r",
      "Upgrading database; v0 -> v1: : 0it [00:00, ?it/s]"
     ]
    },
    {
     "name": "stdout",
     "output_type": "stream",
     "text": [
      "\r",
      "Upgrading database; v0 -> v1: : 0it [00:00, ?it/s]"
     ]
    },
    {
     "name": "stdout",
     "output_type": "stream",
     "text": [
      "\n",
      "\r",
      "  0%|          | 0/1 [00:00<?, ?it/s]"
     ]
    },
    {
     "name": "stdout",
     "output_type": "stream",
     "text": [
      "\r",
      "Upgrading database; v1 -> v2:   0%|          | 0/1 [00:00<?, ?it/s]"
     ]
    },
    {
     "name": "stdout",
     "output_type": "stream",
     "text": [
      "\r",
      "Upgrading database; v1 -> v2: 100%|██████████| 1/1 [00:00<00:00, 1399.03it/s]"
     ]
    },
    {
     "name": "stdout",
     "output_type": "stream",
     "text": [
      "\n",
      "\r",
      "0it [00:00, ?it/s]"
     ]
    },
    {
     "name": "stdout",
     "output_type": "stream",
     "text": [
      "\r",
      "Upgrading database; v2 -> v3: : 0it [00:00, ?it/s]"
     ]
    },
    {
     "name": "stdout",
     "output_type": "stream",
     "text": [
      "\r",
      "Upgrading database; v2 -> v3: : 0it [00:00, ?it/s]"
     ]
    },
    {
     "name": "stdout",
     "output_type": "stream",
     "text": [
      "\n",
      "\r",
      "0it [00:00, ?it/s]"
     ]
    },
    {
     "name": "stdout",
     "output_type": "stream",
     "text": [
      "\r",
      "Upgrading database; v3 -> v4: : 0it [00:00, ?it/s]"
     ]
    },
    {
     "name": "stdout",
     "output_type": "stream",
     "text": [
      "\r",
      "Upgrading database; v3 -> v4: : 0it [00:00, ?it/s]"
     ]
    },
    {
     "name": "stdout",
     "output_type": "stream",
     "text": [
      "\n",
      "\r",
      "  0%|          | 0/1 [00:00<?, ?it/s]"
     ]
    },
    {
     "name": "stdout",
     "output_type": "stream",
     "text": [
      "\r",
      "Upgrading database; v4 -> v5:   0%|          | 0/1 [00:00<?, ?it/s]"
     ]
    },
    {
     "name": "stdout",
     "output_type": "stream",
     "text": [
      "\r",
      "Upgrading database; v4 -> v5: 100%|██████████| 1/1 [00:00<00:00, 579.24it/s]"
     ]
    },
    {
     "name": "stdout",
     "output_type": "stream",
     "text": [
      "\n",
      "\r",
      "0it [00:00, ?it/s]"
     ]
    },
    {
     "name": "stdout",
     "output_type": "stream",
     "text": [
      "\r",
      "Upgrading database; v5 -> v6: : 0it [00:00, ?it/s]"
     ]
    },
    {
     "name": "stdout",
     "output_type": "stream",
     "text": [
      "\r",
      "Upgrading database; v5 -> v6: : 0it [00:00, ?it/s]"
     ]
    },
    {
     "name": "stdout",
     "output_type": "stream",
     "text": [
      "\n",
      "\r",
      "  0%|          | 0/1 [00:00<?, ?it/s]"
     ]
    },
    {
     "name": "stdout",
     "output_type": "stream",
     "text": [
      "\r",
      "Upgrading database; v6 -> v7:   0%|          | 0/1 [00:00<?, ?it/s]"
     ]
    },
    {
     "name": "stdout",
     "output_type": "stream",
     "text": [
      "\r",
      "Upgrading database; v6 -> v7: 100%|██████████| 1/1 [00:00<00:00, 527.06it/s]"
     ]
    },
    {
     "name": "stdout",
     "output_type": "stream",
     "text": [
      "\n",
      "\r",
      "  0%|          | 0/1 [00:00<?, ?it/s]"
     ]
    },
    {
     "name": "stdout",
     "output_type": "stream",
     "text": [
      "\r",
      "Upgrading database; v7 -> v8:   0%|          | 0/1 [00:00<?, ?it/s]"
     ]
    },
    {
     "name": "stdout",
     "output_type": "stream",
     "text": [
      "\r",
      "Upgrading database; v7 -> v8: 100%|██████████| 1/1 [00:00<00:00, 568.80it/s]"
     ]
    },
    {
     "name": "stdout",
     "output_type": "stream",
     "text": [
      "\n",
      "\r",
      "  0%|          | 0/1 [00:00<?, ?it/s]"
     ]
    },
    {
     "name": "stdout",
     "output_type": "stream",
     "text": [
      "\r",
      "Upgrading database; v8 -> v9:   0%|          | 0/1 [00:00<?, ?it/s]"
     ]
    },
    {
     "name": "stdout",
     "output_type": "stream",
     "text": [
      "\r",
      "Upgrading database; v8 -> v9: 100%|██████████| 1/1 [00:00<00:00, 521.29it/s]"
     ]
    },
    {
     "name": "stdout",
     "output_type": "stream",
     "text": [
      "\n"
     ]
    }
   ],
   "source": [
    "initialise_database()\n",
    "exp = load_or_create_experiment(experiment_name='tutorial_exp', sample_name=\"no sample\")"
   ]
  },
  {
   "cell_type": "markdown",
   "metadata": {},
   "source": [
    "Here, we define a simple function to benchmark the time it takes to insert n points with either numeric or array data type.\n",
    "We will compare both the time used to call ``add_result`` and the time used for the full measurement."
   ]
  },
  {
   "cell_type": "code",
   "execution_count": 4,
   "metadata": {
    "execution": {
     "iopub.execute_input": "2021-05-26T12:25:49.874923Z",
     "iopub.status.busy": "2021-05-26T12:25:49.874134Z",
     "iopub.status.idle": "2021-05-26T12:25:49.877471Z",
     "shell.execute_reply": "2021-05-26T12:25:49.877071Z"
    }
   },
   "outputs": [],
   "source": [
    "def insert_data(paramtype, npoints, nreps=1):\n",
    "\n",
    "    meas = Measurement(exp=exp)\n",
    "\n",
    "    x1 = ManualParameter('x1')\n",
    "    x2 = ManualParameter('x2')\n",
    "    x3 = ManualParameter('x3')\n",
    "    y1 = ManualParameter('y1')\n",
    "    y2 = ManualParameter('y2')\n",
    "\n",
    "    meas.register_parameter(x1, paramtype=paramtype)\n",
    "    meas.register_parameter(x2, paramtype=paramtype)\n",
    "    meas.register_parameter(x3, paramtype=paramtype)\n",
    "    meas.register_parameter(y1, setpoints=[x1, x2, x3],\n",
    "                            paramtype=paramtype)\n",
    "    meas.register_parameter(y2, setpoints=[x1, x2, x3],\n",
    "                            paramtype=paramtype)\n",
    "    start = time.perf_counter()\n",
    "    with meas.run() as datasaver:\n",
    "        start_adding = time.perf_counter()\n",
    "        for i in range(nreps):\n",
    "            datasaver.add_result((x1, np.random.rand(npoints)),\n",
    "                                 (x2, np.random.rand(npoints)),\n",
    "                                 (x3, np.random.rand(npoints)),\n",
    "                                 (y1, np.random.rand(npoints)),\n",
    "                                 (y2, np.random.rand(npoints)))\n",
    "        stop_adding = time.perf_counter()\n",
    "        run_id = datasaver.run_id\n",
    "    stop = time.perf_counter()\n",
    "    tot_time = stop - start\n",
    "    add_time = stop_adding - start_adding\n",
    "    return tot_time, add_time, run_id"
   ]
  },
  {
   "cell_type": "markdown",
   "metadata": {},
   "source": [
    "## Comparison between numeric/array data and binary blob"
   ]
  },
  {
   "cell_type": "markdown",
   "metadata": {},
   "source": [
    "### Case1: Short experiment time"
   ]
  },
  {
   "cell_type": "code",
   "execution_count": 5,
   "metadata": {
    "execution": {
     "iopub.execute_input": "2021-05-26T12:25:49.883450Z",
     "iopub.status.busy": "2021-05-26T12:25:49.882966Z",
     "iopub.status.idle": "2021-05-26T12:25:50.543082Z",
     "shell.execute_reply": "2021-05-26T12:25:50.542624Z"
    }
   },
   "outputs": [
    {
     "name": "stdout",
     "output_type": "stream",
     "text": [
      "Starting experimental run with id: 1. \n",
      "Starting experimental run with id: 2. \n",
      "Starting experimental run with id: 3. \n",
      "Starting experimental run with id: 4. \n",
      "Starting experimental run with id: 5. \n"
     ]
    },
    {
     "name": "stdout",
     "output_type": "stream",
     "text": [
      "Starting experimental run with id: 6. \n"
     ]
    },
    {
     "name": "stdout",
     "output_type": "stream",
     "text": [
      "Starting experimental run with id: 7. \n"
     ]
    },
    {
     "name": "stdout",
     "output_type": "stream",
     "text": [
      "Starting experimental run with id: 8. \n",
      "Starting experimental run with id: 9. \n",
      "Starting experimental run with id: 10. \n"
     ]
    },
    {
     "name": "stdout",
     "output_type": "stream",
     "text": [
      "Starting experimental run with id: 11. \n"
     ]
    },
    {
     "name": "stdout",
     "output_type": "stream",
     "text": [
      "Starting experimental run with id: 12. \n",
      "Starting experimental run with id: 13. \n"
     ]
    },
    {
     "name": "stdout",
     "output_type": "stream",
     "text": [
      "Starting experimental run with id: 14. \n"
     ]
    }
   ],
   "source": [
    "sizes = [1,500,1000,2000,3000,4000,5000]\n",
    "t_numeric = []\n",
    "t_numeric_add = []\n",
    "t_array = []\n",
    "t_array_add = []\n",
    "for size in sizes:\n",
    "    tn, tna, run_id_n =  insert_data('numeric', size)\n",
    "    t_numeric.append(tn)\n",
    "    t_numeric_add.append(tna)\n",
    "\n",
    "    ta, taa, run_id_a =  insert_data('array', size)\n",
    "    t_array.append(ta)\n",
    "    t_array_add.append(taa)"
   ]
  },
  {
   "cell_type": "code",
   "execution_count": 6,
   "metadata": {
    "execution": {
     "iopub.execute_input": "2021-05-26T12:25:50.558922Z",
     "iopub.status.busy": "2021-05-26T12:25:50.552307Z",
     "iopub.status.idle": "2021-05-26T12:25:50.746052Z",
     "shell.execute_reply": "2021-05-26T12:25:50.746480Z"
    }
   },
   "outputs": [
    {
     "data": {
      "image/png": "[encoded data removed]",
      "text/plain": [
       "<Figure size 432x288 with 1 Axes>"
      ]
     },
     "metadata": {
      "needs_background": "light"
     },
     "output_type": "display_data"
    }
   ],
   "source": [
    "fig, ax = plt.subplots(1,1)\n",
    "ax.plot(sizes, t_numeric, 'o-', label='Inserting row-by-row')\n",
    "ax.plot(sizes, t_numeric_add, 'o-', label='Inserting row-by-row: add_result only')\n",
    "ax.plot(sizes, t_array, 'd-', label='Inserting as binary blob')\n",
    "ax.plot(sizes, t_array_add, 'd-', label='Inserting as binary blob: add_result only')\n",
    "ax.legend()\n",
    "ax.set_xlabel('Array length')\n",
    "ax.set_ylabel('Time (s)')\n",
    "fig.tight_layout()"
   ]
  },
  {
   "cell_type": "markdown",
   "metadata": {},
   "source": [
    "As shown in the latter figure, the time to setup and and close the experiment is approximately 0.4 sec. In case of small array sizes, the difference between inserting values of data as arrays and inserting them row-by-row is relatively unimportant. At larger array sizes, i.e. above 10000 points, the cost of writing data as individual datapoints starts to become important.\n"
   ]
  },
  {
   "cell_type": "markdown",
   "metadata": {},
   "source": [
    "### Case2: Long experiment time "
   ]
  },
  {
   "cell_type": "code",
   "execution_count": 7,
   "metadata": {
    "execution": {
     "iopub.execute_input": "2021-05-26T12:25:50.752082Z",
     "iopub.status.busy": "2021-05-26T12:25:50.751593Z",
     "iopub.status.idle": "2021-05-26T12:26:39.184671Z",
     "shell.execute_reply": "2021-05-26T12:26:39.185121Z"
    }
   },
   "outputs": [
    {
     "name": "stdout",
     "output_type": "stream",
     "text": [
      "Starting experimental run with id: 15. \n",
      "Starting experimental run with id: 16. \n",
      "Starting experimental run with id: 17. \n"
     ]
    },
    {
     "name": "stdout",
     "output_type": "stream",
     "text": [
      "Starting experimental run with id: 18. \n",
      "Starting experimental run with id: 19. \n"
     ]
    },
    {
     "name": "stdout",
     "output_type": "stream",
     "text": [
      "Starting experimental run with id: 20. \n"
     ]
    },
    {
     "name": "stdout",
     "output_type": "stream",
     "text": [
      "Starting experimental run with id: 21. \n"
     ]
    },
    {
     "name": "stdout",
     "output_type": "stream",
     "text": [
      "Starting experimental run with id: 22. \n"
     ]
    },
    {
     "name": "stdout",
     "output_type": "stream",
     "text": [
      "Starting experimental run with id: 23. \n"
     ]
    },
    {
     "name": "stdout",
     "output_type": "stream",
     "text": [
      "Starting experimental run with id: 24. \n"
     ]
    },
    {
     "name": "stdout",
     "output_type": "stream",
     "text": [
      "Starting experimental run with id: 25. \n"
     ]
    },
    {
     "name": "stdout",
     "output_type": "stream",
     "text": [
      "Starting experimental run with id: 26. \n"
     ]
    },
    {
     "name": "stdout",
     "output_type": "stream",
     "text": [
      "Starting experimental run with id: 27. \n"
     ]
    },
    {
     "name": "stdout",
     "output_type": "stream",
     "text": [
      "Starting experimental run with id: 28. \n"
     ]
    }
   ],
   "source": [
    "sizes = [1,500,1000,2000,3000,4000,5000]\n",
    "nreps = 100\n",
    "t_numeric = []\n",
    "t_numeric_add = []\n",
    "t_numeric_run_ids = []\n",
    "t_array = []\n",
    "t_array_add = []\n",
    "t_array_run_ids = []\n",
    "for size in sizes:\n",
    "    tn, tna, run_id_n =  insert_data('numeric', size, nreps=nreps)\n",
    "    t_numeric.append(tn)\n",
    "    t_numeric_add.append(tna)\n",
    "    t_numeric_run_ids.append(run_id_n)\n",
    "\n",
    "    ta, taa, run_id_a =  insert_data('array', size, nreps=nreps)\n",
    "    t_array.append(ta)\n",
    "    t_array_add.append(taa)\n",
    "    t_array_run_ids.append(run_id_a)"
   ]
  },
  {
   "cell_type": "code",
   "execution_count": 8,
   "metadata": {
    "execution": {
     "iopub.execute_input": "2021-05-26T12:26:39.212962Z",
     "iopub.status.busy": "2021-05-26T12:26:39.209743Z",
     "iopub.status.idle": "2021-05-26T12:26:39.374151Z",
     "shell.execute_reply": "2021-05-26T12:26:39.373714Z"
    },
    "scrolled": true
   },
   "outputs": [
    {
     "data": {
      "image/png": "[encoded data removed]",
      "text/plain": [
       "<Figure size 432x288 with 1 Axes>"
      ]
     },
     "metadata": {
      "needs_background": "light"
     },
     "output_type": "display_data"
    }
   ],
   "source": [
    "fig, ax = plt.subplots(1,1)\n",
    "ax.plot(sizes, t_numeric, 'o-', label='Inserting row-by-row')\n",
    "ax.plot(sizes, t_numeric_add, 'o-', label='Inserting row-by-row: add_result only')\n",
    "ax.plot(sizes, t_array, 'd-', label='Inserting as binary blob')\n",
    "ax.plot(sizes, t_array_add, 'd-', label='Inserting as binary blob: add_result only')\n",
    "ax.legend()\n",
    "ax.set_xlabel('Array length')\n",
    "ax.set_ylabel('Time (s)')\n",
    "fig.tight_layout()"
   ]
  },
  {
   "cell_type": "markdown",
   "metadata": {},
   "source": [
    "However, as we increase the length of the experiment, as seen here by repeating the insertion 100 times, we see a big difference between inserting values of the data row-by-row and inserting it as a binary blob."
   ]
  },
  {
   "cell_type": "markdown",
   "metadata": {},
   "source": [
    "## Loading the data "
   ]
  },
  {
   "cell_type": "code",
   "execution_count": 9,
   "metadata": {
    "execution": {
     "iopub.execute_input": "2021-05-26T12:26:39.377884Z",
     "iopub.status.busy": "2021-05-26T12:26:39.377405Z",
     "iopub.status.idle": "2021-05-26T12:26:39.381170Z",
     "shell.execute_reply": "2021-05-26T12:26:39.380741Z"
    }
   },
   "outputs": [],
   "source": [
    "from qcodes.dataset.data_set import load_by_id"
   ]
  },
  {
   "cell_type": "markdown",
   "metadata": {},
   "source": [
    "As usual you can load the data by using the ``load_by_id`` function but you will notice that the different storage methods\n",
    "are reflected in shape of the data as it is retrieved. "
   ]
  },
  {
   "cell_type": "code",
   "execution_count": 10,
   "metadata": {
    "execution": {
     "iopub.execute_input": "2021-05-26T12:26:39.385014Z",
     "iopub.status.busy": "2021-05-26T12:26:39.384067Z",
     "iopub.status.idle": "2021-05-26T12:26:39.385658Z",
     "shell.execute_reply": "2021-05-26T12:26:39.386060Z"
    }
   },
   "outputs": [],
   "source": [
    "run_id_n = t_numeric_run_ids[0]\n",
    "run_id_a = t_array_run_ids[0]"
   ]
  },
  {
   "cell_type": "code",
   "execution_count": 11,
   "metadata": {
    "execution": {
     "iopub.execute_input": "2021-05-26T12:26:39.388935Z",
     "iopub.status.busy": "2021-05-26T12:26:39.388463Z",
     "iopub.status.idle": "2021-05-26T12:26:39.397089Z",
     "shell.execute_reply": "2021-05-26T12:26:39.396666Z"
    },
    "scrolled": true
   },
   "outputs": [
    {
     "data": {
      "text/plain": [
       "{'x1': {'x1': array([0.55007924, 0.55007924, 0.19980854, 0.19980854, 0.05129067,\n",
       "         0.05129067, 0.02698295, 0.02698295, 0.52630933, 0.52630933,\n",
       "         0.01127519, 0.01127519, 0.25648196, 0.25648196, 0.89337099,\n",
       "         0.89337099, 0.43514975, 0.43514975, 0.997318  , 0.997318  ,\n",
       "         0.84349157, 0.84349157, 0.86700398, 0.86700398, 0.7308788 ,\n",
       "         0.7308788 , 0.85349363, 0.85349363, 0.46616451, 0.46616451,\n",
       "         0.29694361, 0.29694361, 0.92904361, 0.92904361, 0.57103534,\n",
       "         0.57103534, 0.52732449, 0.52732449, 0.40089358, 0.40089358,\n",
       "         0.67554446, 0.67554446, 0.65827258, 0.65827258, 0.20342502,\n",
       "         0.20342502, 0.42791627, 0.42791627, 0.8749628 , 0.8749628 ,\n",
       "         0.34039063, 0.34039063, 0.76986702, 0.76986702, 0.88000494,\n",
       "         0.88000494, 0.40446306, 0.40446306, 0.25608414, 0.25608414,\n",
       "         0.09294636, 0.09294636, 0.95901219, 0.95901219, 0.72971985,\n",
       "         0.72971985, 0.31155612, 0.31155612, 0.06320729, 0.06320729,\n",
       "         0.10277257, 0.10277257, 0.71116067, 0.71116067, 0.84275887,\n",
       "         0.84275887, 0.49131354, 0.49131354, 0.41477274, 0.41477274,\n",
       "         0.42147091, 0.42147091, 0.25239749, 0.25239749, 0.46969522,\n",
       "         0.46969522, 0.98164288, 0.98164288, 0.59627825, 0.59627825,\n",
       "         0.55904139, 0.55904139, 0.14186401, 0.14186401, 0.21577283,\n",
       "         0.21577283, 0.27885173, 0.27885173, 0.399095  , 0.399095  ,\n",
       "         0.46048813, 0.46048813, 0.7866305 , 0.7866305 , 0.3639016 ,\n",
       "         0.3639016 , 0.12005647, 0.12005647, 0.99916596, 0.99916596,\n",
       "         0.47196546, 0.47196546, 0.83453808, 0.83453808, 0.57394647,\n",
       "         0.57394647, 0.49457226, 0.49457226, 0.16627866, 0.16627866,\n",
       "         0.94755654, 0.94755654, 0.73812041, 0.73812041, 0.06288488,\n",
       "         0.06288488, 0.25740099, 0.25740099, 0.94958541, 0.94958541,\n",
       "         0.20122609, 0.20122609, 0.22683656, 0.22683656, 0.50630574,\n",
       "         0.50630574, 0.56158579, 0.56158579, 0.40744769, 0.40744769,\n",
       "         0.47471881, 0.47471881, 0.90039107, 0.90039107, 0.18151991,\n",
       "         0.18151991, 0.17020266, 0.17020266, 0.70435846, 0.70435846,\n",
       "         0.33301712, 0.33301712, 0.48046637, 0.48046637, 0.51193582,\n",
       "         0.51193582, 0.58574299, 0.58574299, 0.95992337, 0.95992337,\n",
       "         0.25107751, 0.25107751, 0.35911403, 0.35911403, 0.01568292,\n",
       "         0.01568292, 0.4897764 , 0.4897764 , 0.79014305, 0.79014305,\n",
       "         0.29998151, 0.29998151, 0.58803599, 0.58803599, 0.79316727,\n",
       "         0.79316727, 0.50489406, 0.50489406, 0.15990532, 0.15990532,\n",
       "         0.98375862, 0.98375862, 0.16781687, 0.16781687, 0.04215491,\n",
       "         0.04215491, 0.71594408, 0.71594408, 0.4482658 , 0.4482658 ,\n",
       "         0.26952231, 0.26952231, 0.01020916, 0.01020916, 0.88821779,\n",
       "         0.88821779, 0.02285813, 0.02285813, 0.10303809, 0.10303809])}}"
      ]
     },
     "execution_count": 1,
     "metadata": {},
     "output_type": "execute_result"
    }
   ],
   "source": [
    "ds = load_by_id(run_id_n)\n",
    "ds.get_parameter_data('x1')"
   ]
  },
  {
   "cell_type": "markdown",
   "metadata": {},
   "source": [
    "And a dataset stored as binary arrays"
   ]
  },
  {
   "cell_type": "code",
   "execution_count": 12,
   "metadata": {
    "execution": {
     "iopub.execute_input": "2021-05-26T12:26:39.399998Z",
     "iopub.status.busy": "2021-05-26T12:26:39.399525Z",
     "iopub.status.idle": "2021-05-26T12:26:39.448623Z",
     "shell.execute_reply": "2021-05-26T12:26:39.449080Z"
    },
    "scrolled": true
   },
   "outputs": [
    {
     "data": {
      "text/plain": [
       "{'x1': {'x1': array([[0.20121199],\n",
       "         [0.20121199],\n",
       "         [0.97361924],\n",
       "         [0.97361924],\n",
       "         [0.37279335],\n",
       "         [0.37279335],\n",
       "         [0.20923045],\n",
       "         [0.20923045],\n",
       "         [0.5424405 ],\n",
       "         [0.5424405 ],\n",
       "         [0.66419713],\n",
       "         [0.66419713],\n",
       "         [0.37464063],\n",
       "         [0.37464063],\n",
       "         [0.99605785],\n",
       "         [0.99605785],\n",
       "         [0.10138421],\n",
       "         [0.10138421],\n",
       "         [0.81618164],\n",
       "         [0.81618164],\n",
       "         [0.52502415],\n",
       "         [0.52502415],\n",
       "         [0.93729723],\n",
       "         [0.93729723],\n",
       "         [0.07774046],\n",
       "         [0.07774046],\n",
       "         [0.63816068],\n",
       "         [0.63816068],\n",
       "         [0.65525701],\n",
       "         [0.65525701],\n",
       "         [0.1080572 ],\n",
       "         [0.1080572 ],\n",
       "         [0.35241635],\n",
       "         [0.35241635],\n",
       "         [0.28033869],\n",
       "         [0.28033869],\n",
       "         [0.68018383],\n",
       "         [0.68018383],\n",
       "         [0.49970848],\n",
       "         [0.49970848],\n",
       "         [0.45466783],\n",
       "         [0.45466783],\n",
       "         [0.07951351],\n",
       "         [0.07951351],\n",
       "         [0.74033768],\n",
       "         [0.74033768],\n",
       "         [0.42649278],\n",
       "         [0.42649278],\n",
       "         [0.97428304],\n",
       "         [0.97428304],\n",
       "         [0.66633718],\n",
       "         [0.66633718],\n",
       "         [0.42116532],\n",
       "         [0.42116532],\n",
       "         [0.77901394],\n",
       "         [0.77901394],\n",
       "         [0.87488802],\n",
       "         [0.87488802],\n",
       "         [0.6836055 ],\n",
       "         [0.6836055 ],\n",
       "         [0.58503882],\n",
       "         [0.58503882],\n",
       "         [0.38947296],\n",
       "         [0.38947296],\n",
       "         [0.00411398],\n",
       "         [0.00411398],\n",
       "         [0.75636248],\n",
       "         [0.75636248],\n",
       "         [0.41609456],\n",
       "         [0.41609456],\n",
       "         [0.49444343],\n",
       "         [0.49444343],\n",
       "         [0.81011488],\n",
       "         [0.81011488],\n",
       "         [0.1449193 ],\n",
       "         [0.1449193 ],\n",
       "         [0.51227669],\n",
       "         [0.51227669],\n",
       "         [0.10052029],\n",
       "         [0.10052029],\n",
       "         [0.42728749],\n",
       "         [0.42728749],\n",
       "         [0.51031359],\n",
       "         [0.51031359],\n",
       "         [0.71447952],\n",
       "         [0.71447952],\n",
       "         [0.60021746],\n",
       "         [0.60021746],\n",
       "         [0.28488401],\n",
       "         [0.28488401],\n",
       "         [0.9213607 ],\n",
       "         [0.9213607 ],\n",
       "         [0.44520311],\n",
       "         [0.44520311],\n",
       "         [0.97770668],\n",
       "         [0.97770668],\n",
       "         [0.22644363],\n",
       "         [0.22644363],\n",
       "         [0.46634782],\n",
       "         [0.46634782],\n",
       "         [0.77502393],\n",
       "         [0.77502393],\n",
       "         [0.50334432],\n",
       "         [0.50334432],\n",
       "         [0.72819152],\n",
       "         [0.72819152],\n",
       "         [0.94754628],\n",
       "         [0.94754628],\n",
       "         [0.05732082],\n",
       "         [0.05732082],\n",
       "         [0.46303639],\n",
       "         [0.46303639],\n",
       "         [0.79509818],\n",
       "         [0.79509818],\n",
       "         [0.17792815],\n",
       "         [0.17792815],\n",
       "         [0.48406563],\n",
       "         [0.48406563],\n",
       "         [0.86054205],\n",
       "         [0.86054205],\n",
       "         [0.89195872],\n",
       "         [0.89195872],\n",
       "         [0.28641872],\n",
       "         [0.28641872],\n",
       "         [0.25681039],\n",
       "         [0.25681039],\n",
       "         [0.28041124],\n",
       "         [0.28041124],\n",
       "         [0.80969335],\n",
       "         [0.80969335],\n",
       "         [0.81023707],\n",
       "         [0.81023707],\n",
       "         [0.43031617],\n",
       "         [0.43031617],\n",
       "         [0.88844475],\n",
       "         [0.88844475],\n",
       "         [0.378993  ],\n",
       "         [0.378993  ],\n",
       "         [0.44101793],\n",
       "         [0.44101793],\n",
       "         [0.05691718],\n",
       "         [0.05691718],\n",
       "         [0.64635717],\n",
       "         [0.64635717],\n",
       "         [0.92677172],\n",
       "         [0.92677172],\n",
       "         [0.43020826],\n",
       "         [0.43020826],\n",
       "         [0.6496382 ],\n",
       "         [0.6496382 ],\n",
       "         [0.83180997],\n",
       "         [0.83180997],\n",
       "         [0.56199129],\n",
       "         [0.56199129],\n",
       "         [0.67745121],\n",
       "         [0.67745121],\n",
       "         [0.51546183],\n",
       "         [0.51546183],\n",
       "         [0.6642384 ],\n",
       "         [0.6642384 ],\n",
       "         [0.33754726],\n",
       "         [0.33754726],\n",
       "         [0.33897971],\n",
       "         [0.33897971],\n",
       "         [0.10423111],\n",
       "         [0.10423111],\n",
       "         [0.8664296 ],\n",
       "         [0.8664296 ],\n",
       "         [0.24102282],\n",
       "         [0.24102282],\n",
       "         [0.72896019],\n",
       "         [0.72896019],\n",
       "         [0.91462597],\n",
       "         [0.91462597],\n",
       "         [0.48547178],\n",
       "         [0.48547178],\n",
       "         [0.31230661],\n",
       "         [0.31230661],\n",
       "         [0.05782   ],\n",
       "         [0.05782   ],\n",
       "         [0.02511234],\n",
       "         [0.02511234],\n",
       "         [0.43954738],\n",
       "         [0.43954738],\n",
       "         [0.51091576],\n",
       "         [0.51091576],\n",
       "         [0.01716422],\n",
       "         [0.01716422],\n",
       "         [0.39657656],\n",
       "         [0.39657656],\n",
       "         [0.50898774],\n",
       "         [0.50898774],\n",
       "         [0.3583923 ],\n",
       "         [0.3583923 ],\n",
       "         [0.11263454],\n",
       "         [0.11263454],\n",
       "         [0.32692299],\n",
       "         [0.32692299],\n",
       "         [0.74444626],\n",
       "         [0.74444626]])}}"
      ]
     },
     "execution_count": 1,
     "metadata": {},
     "output_type": "execute_result"
    }
   ],
   "source": [
    "ds = load_by_id(run_id_a)\n",
    "ds.get_parameter_data('x1')"
   ]
  },
  {
   "cell_type": "code",
   "execution_count": null,
   "metadata": {},
   "outputs": [],
   "source": []
  }
 ],
 "metadata": {
  "kernelspec": {
   "display_name": "Python 3",
   "language": "python",
   "name": "python3"
  },
  "language_info": {
   "codemirror_mode": {
    "name": "ipython",
    "version": 3
   },
   "file_extension": ".py",
   "mimetype": "text/x-python",
   "name": "python",
   "nbconvert_exporter": "python",
   "pygments_lexer": "ipython3",
   "version": "3.7.10"
  },
  "nbsphinx": {
   "timeout": 600
  },
  "toc": {
   "base_numbering": 1,
   "nav_menu": {},
   "number_sections": true,
   "sideBar": true,
   "skip_h1_title": false,
   "title_cell": "Table of Contents",
   "title_sidebar": "Contents",
   "toc_cell": false,
   "toc_position": {},
   "toc_section_display": true,
   "toc_window_display": false
  },
  "varInspector": {
   "cols": {
    "lenName": 16,
    "lenType": 16,
    "lenVar": 40
   },
   "kernels_config": {
    "python": {
     "delete_cmd_postfix": "",
     "delete_cmd_prefix": "del ",
     "library": "var_list.py",
     "varRefreshCmd": "print(var_dic_list())"
    },
    "r": {
     "delete_cmd_postfix": ") ",
     "delete_cmd_prefix": "rm(",
     "library": "var_list.r",
     "varRefreshCmd": "cat(var_dic_list()) "
    }
   },
   "types_to_exclude": [
    "module",
    "function",
    "builtin_function_or_method",
    "instance",
    "_Feature"
   ],
   "window_display": false
  }
 },
 "nbformat": 4,
 "nbformat_minor": 4
}
