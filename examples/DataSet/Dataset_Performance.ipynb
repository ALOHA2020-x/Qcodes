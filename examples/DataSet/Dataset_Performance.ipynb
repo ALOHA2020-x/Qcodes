{
 "cells": [
  {
   "cell_type": "markdown",
   "metadata": {},
   "source": [
    "# DataSet Performance\n",
    "\n",
    "This notebook shows the trade-off between inserting data into a database row-by-row and as binary blobs. Inserting the data row-by-row means that we have direct access to all the data and may perform queries directly on the values of the data. On the other hand, as we shall see, this is much slower than inserting the data directly as binary blobs."
   ]
  },
  {
   "cell_type": "markdown",
   "metadata": {},
   "source": [
    "First, we choose a new location for the database to ensure that we don't add a bunch of benchmarking data to the default one."
   ]
  },
  {
   "cell_type": "code",
   "execution_count": 1,
   "metadata": {
    "execution": {
     "iopub.execute_input": "2021-03-26T14:01:53.467009Z",
     "iopub.status.busy": "2021-03-26T14:01:53.466432Z",
     "iopub.status.idle": "2021-03-26T14:01:54.540206Z",
     "shell.execute_reply": "2021-03-26T14:01:54.539157Z"
    }
   },
   "outputs": [
    {
     "name": "stdout",
     "output_type": "stream",
     "text": [
      "Logging hadn't been started.\n",
      "Activating auto-logging. Current session state plus future input saved.\n",
      "Filename       : /home/runner/.qcodes/logs/command_history.log\n",
      "Mode           : append\n",
      "Output logging : True\n",
      "Raw input log  : False\n",
      "Timestamping   : True\n",
      "State          : active\n"
     ]
    },
    {
     "name": "stdout",
     "output_type": "stream",
     "text": [
      "Qcodes Logfile : /home/runner/.qcodes/logs/210326-4439-qcodes.log\n"
     ]
    }
   ],
   "source": [
    "import os\n",
    "cwd = os.getcwd()\n",
    "import qcodes as qc\n",
    "qc.config[\"core\"][\"db_location\"] = os.path.join(cwd, 'testing.db')\n"
   ]
  },
  {
   "cell_type": "code",
   "execution_count": 2,
   "metadata": {
    "execution": {
     "iopub.execute_input": "2021-03-26T14:01:54.547392Z",
     "iopub.status.busy": "2021-03-26T14:01:54.546786Z",
     "iopub.status.idle": "2021-03-26T14:01:54.792982Z",
     "shell.execute_reply": "2021-03-26T14:01:54.792221Z"
    }
   },
   "outputs": [],
   "source": [
    "%matplotlib inline\n",
    "import time\n",
    "import matplotlib.pyplot as plt\n",
    "import numpy as np\n",
    "\n",
    "import qcodes as qc\n",
    "from qcodes.instrument.parameter import ManualParameter\n",
    "from qcodes.dataset.experiment_container import (Experiment,\n",
    "                                                 load_last_experiment,\n",
    "                                                 new_experiment)\n",
    "from qcodes.dataset.sqlite.database import initialise_database\n",
    "from qcodes import load_or_create_experiment\n",
    "from qcodes.dataset.measurements import Measurement"
   ]
  },
  {
   "cell_type": "code",
   "execution_count": 3,
   "metadata": {
    "execution": {
     "iopub.execute_input": "2021-03-26T14:01:54.797718Z",
     "iopub.status.busy": "2021-03-26T14:01:54.796849Z",
     "iopub.status.idle": "2021-03-26T14:01:54.877413Z",
     "shell.execute_reply": "2021-03-26T14:01:54.876870Z"
    }
   },
   "outputs": [
    {
     "name": "stdout",
     "output_type": "stream",
     "text": [
      "\r",
      "0it [00:00, ?it/s]"
     ]
    },
    {
     "name": "stdout",
     "output_type": "stream",
     "text": [
      "\r",
      "Upgrading database; v0 -> v1: : 0it [00:00, ?it/s]"
     ]
    },
    {
     "name": "stdout",
     "output_type": "stream",
     "text": [
      "\r",
      "Upgrading database; v0 -> v1: : 0it [00:00, ?it/s]"
     ]
    },
    {
     "name": "stdout",
     "output_type": "stream",
     "text": [
      "\n",
      "\r",
      "  0%|          | 0/1 [00:00<?, ?it/s]"
     ]
    },
    {
     "name": "stdout",
     "output_type": "stream",
     "text": [
      "\r",
      "Upgrading database; v1 -> v2:   0%|          | 0/1 [00:00<?, ?it/s]"
     ]
    },
    {
     "name": "stdout",
     "output_type": "stream",
     "text": [
      "\r",
      "Upgrading database; v1 -> v2: 100%|██████████| 1/1 [00:00<00:00, 595.11it/s]"
     ]
    },
    {
     "name": "stdout",
     "output_type": "stream",
     "text": [
      "\n",
      "\r",
      "0it [00:00, ?it/s]"
     ]
    },
    {
     "name": "stdout",
     "output_type": "stream",
     "text": [
      "\r",
      "Upgrading database; v2 -> v3: : 0it [00:00, ?it/s]"
     ]
    },
    {
     "name": "stdout",
     "output_type": "stream",
     "text": [
      "\r",
      "Upgrading database; v2 -> v3: : 0it [00:00, ?it/s]"
     ]
    },
    {
     "name": "stdout",
     "output_type": "stream",
     "text": [
      "\n",
      "\r",
      "0it [00:00, ?it/s]"
     ]
    },
    {
     "name": "stdout",
     "output_type": "stream",
     "text": [
      "\r",
      "Upgrading database; v3 -> v4: : 0it [00:00, ?it/s]"
     ]
    },
    {
     "name": "stdout",
     "output_type": "stream",
     "text": [
      "\r",
      "Upgrading database; v3 -> v4: : 0it [00:00, ?it/s]"
     ]
    },
    {
     "name": "stdout",
     "output_type": "stream",
     "text": [
      "\n",
      "\r",
      "  0%|          | 0/1 [00:00<?, ?it/s]"
     ]
    },
    {
     "name": "stdout",
     "output_type": "stream",
     "text": [
      "\r",
      "Upgrading database; v4 -> v5:   0%|          | 0/1 [00:00<?, ?it/s]"
     ]
    },
    {
     "name": "stdout",
     "output_type": "stream",
     "text": [
      "\r",
      "Upgrading database; v4 -> v5: 100%|██████████| 1/1 [00:00<00:00, 1010.92it/s]"
     ]
    },
    {
     "name": "stdout",
     "output_type": "stream",
     "text": [
      "\n",
      "\r",
      "0it [00:00, ?it/s]"
     ]
    },
    {
     "name": "stdout",
     "output_type": "stream",
     "text": [
      "\r",
      "Upgrading database; v5 -> v6: : 0it [00:00, ?it/s]"
     ]
    },
    {
     "name": "stdout",
     "output_type": "stream",
     "text": [
      "\r",
      "Upgrading database; v5 -> v6: : 0it [00:00, ?it/s]"
     ]
    },
    {
     "name": "stdout",
     "output_type": "stream",
     "text": [
      "\n",
      "\r",
      "  0%|          | 0/1 [00:00<?, ?it/s]"
     ]
    },
    {
     "name": "stdout",
     "output_type": "stream",
     "text": [
      "\r",
      "Upgrading database; v6 -> v7:   0%|          | 0/1 [00:00<?, ?it/s]"
     ]
    },
    {
     "name": "stdout",
     "output_type": "stream",
     "text": [
      "\r",
      "Upgrading database; v6 -> v7: 100%|██████████| 1/1 [00:00<00:00, 460.76it/s]"
     ]
    },
    {
     "name": "stdout",
     "output_type": "stream",
     "text": [
      "\n",
      "\r",
      "  0%|          | 0/1 [00:00<?, ?it/s]"
     ]
    },
    {
     "name": "stdout",
     "output_type": "stream",
     "text": [
      "\r",
      "Upgrading database; v7 -> v8:   0%|          | 0/1 [00:00<?, ?it/s]"
     ]
    },
    {
     "name": "stdout",
     "output_type": "stream",
     "text": [
      "\r",
      "Upgrading database; v7 -> v8: 100%|██████████| 1/1 [00:00<00:00, 992.73it/s]"
     ]
    },
    {
     "name": "stdout",
     "output_type": "stream",
     "text": [
      "\n",
      "\r",
      "  0%|          | 0/1 [00:00<?, ?it/s]"
     ]
    },
    {
     "name": "stdout",
     "output_type": "stream",
     "text": [
      "\r",
      "Upgrading database; v8 -> v9:   0%|          | 0/1 [00:00<?, ?it/s]"
     ]
    },
    {
     "name": "stdout",
     "output_type": "stream",
     "text": [
      "\r",
      "Upgrading database; v8 -> v9: 100%|██████████| 1/1 [00:00<00:00, 546.70it/s]"
     ]
    },
    {
     "name": "stdout",
     "output_type": "stream",
     "text": [
      "\n"
     ]
    }
   ],
   "source": [
    "initialise_database()\n",
    "exp = load_or_create_experiment(experiment_name='tutorial_exp', sample_name=\"no sample\")"
   ]
  },
  {
   "cell_type": "markdown",
   "metadata": {},
   "source": [
    "Here, we define a simple function to benchmark the time it takes to insert n points with either numeric or array data type.\n",
    "We will compare both the time used to call ``add_result`` and the time used for the full measurement."
   ]
  },
  {
   "cell_type": "code",
   "execution_count": 4,
   "metadata": {
    "execution": {
     "iopub.execute_input": "2021-03-26T14:01:54.887536Z",
     "iopub.status.busy": "2021-03-26T14:01:54.886177Z",
     "iopub.status.idle": "2021-03-26T14:01:54.888189Z",
     "shell.execute_reply": "2021-03-26T14:01:54.888667Z"
    }
   },
   "outputs": [],
   "source": [
    "def insert_data(paramtype, npoints, nreps=1):\n",
    "\n",
    "    meas = Measurement(exp=exp)\n",
    "\n",
    "    x1 = ManualParameter('x1')\n",
    "    x2 = ManualParameter('x2')\n",
    "    x3 = ManualParameter('x3')\n",
    "    y1 = ManualParameter('y1')\n",
    "    y2 = ManualParameter('y2')\n",
    "\n",
    "    meas.register_parameter(x1, paramtype=paramtype)\n",
    "    meas.register_parameter(x2, paramtype=paramtype)\n",
    "    meas.register_parameter(x3, paramtype=paramtype)\n",
    "    meas.register_parameter(y1, setpoints=[x1, x2, x3],\n",
    "                            paramtype=paramtype)\n",
    "    meas.register_parameter(y2, setpoints=[x1, x2, x3],\n",
    "                            paramtype=paramtype)\n",
    "    start = time.perf_counter()\n",
    "    with meas.run() as datasaver:\n",
    "        start_adding = time.perf_counter()\n",
    "        for i in range(nreps):\n",
    "            datasaver.add_result((x1, np.random.rand(npoints)),\n",
    "                                 (x2, np.random.rand(npoints)),\n",
    "                                 (x3, np.random.rand(npoints)),\n",
    "                                 (y1, np.random.rand(npoints)),\n",
    "                                 (y2, np.random.rand(npoints)))\n",
    "        stop_adding = time.perf_counter()\n",
    "        run_id = datasaver.run_id\n",
    "    stop = time.perf_counter()\n",
    "    tot_time = stop - start\n",
    "    add_time = stop_adding - start_adding\n",
    "    return tot_time, add_time, run_id"
   ]
  },
  {
   "cell_type": "markdown",
   "metadata": {},
   "source": [
    "## Comparison between numeric/array data and binary blob"
   ]
  },
  {
   "cell_type": "markdown",
   "metadata": {},
   "source": [
    "### Case1: Short experiment time"
   ]
  },
  {
   "cell_type": "code",
   "execution_count": 5,
   "metadata": {
    "execution": {
     "iopub.execute_input": "2021-03-26T14:01:54.895634Z",
     "iopub.status.busy": "2021-03-26T14:01:54.895051Z",
     "iopub.status.idle": "2021-03-26T14:01:55.751501Z",
     "shell.execute_reply": "2021-03-26T14:01:55.750977Z"
    }
   },
   "outputs": [
    {
     "name": "stdout",
     "output_type": "stream",
     "text": [
      "Starting experimental run with id: 1. \n",
      "Starting experimental run with id: 2. \n",
      "Starting experimental run with id: 3. \n",
      "Starting experimental run with id: 4. \n",
      "Starting experimental run with id: 5. \n"
     ]
    },
    {
     "name": "stdout",
     "output_type": "stream",
     "text": [
      "Starting experimental run with id: 6. \n"
     ]
    },
    {
     "name": "stdout",
     "output_type": "stream",
     "text": [
      "Starting experimental run with id: 7. \n"
     ]
    },
    {
     "name": "stdout",
     "output_type": "stream",
     "text": [
      "Starting experimental run with id: 8. \n",
      "Starting experimental run with id: 9. \n"
     ]
    },
    {
     "name": "stdout",
     "output_type": "stream",
     "text": [
      "Starting experimental run with id: 10. \n",
      "Starting experimental run with id: 11. \n"
     ]
    },
    {
     "name": "stdout",
     "output_type": "stream",
     "text": [
      "Starting experimental run with id: 12. \n",
      "Starting experimental run with id: 13. \n"
     ]
    },
    {
     "name": "stdout",
     "output_type": "stream",
     "text": [
      "Starting experimental run with id: 14. \n"
     ]
    }
   ],
   "source": [
    "sizes = [1,500,1000,2000,3000,4000,5000]\n",
    "t_numeric = []\n",
    "t_numeric_add = []\n",
    "t_array = []\n",
    "t_array_add = []\n",
    "for size in sizes:\n",
    "    tn, tna, run_id_n =  insert_data('numeric', size)\n",
    "    t_numeric.append(tn)\n",
    "    t_numeric_add.append(tna)\n",
    "\n",
    "    ta, taa, run_id_a =  insert_data('array', size)\n",
    "    t_array.append(ta)\n",
    "    t_array_add.append(taa)"
   ]
  },
  {
   "cell_type": "code",
   "execution_count": 6,
   "metadata": {
    "execution": {
     "iopub.execute_input": "2021-03-26T14:01:55.796500Z",
     "iopub.status.busy": "2021-03-26T14:01:55.779127Z",
     "iopub.status.idle": "2021-03-26T14:01:55.972807Z",
     "shell.execute_reply": "2021-03-26T14:01:55.973270Z"
    }
   },
   "outputs": [
    {
     "data": {
      "image/png": "[encoded data removed]",
      "text/plain": [
       "<Figure size 432x288 with 1 Axes>"
      ]
     },
     "metadata": {
      "needs_background": "light"
     },
     "output_type": "display_data"
    }
   ],
   "source": [
    "fig, ax = plt.subplots(1,1)\n",
    "ax.plot(sizes, t_numeric, 'o-', label='Inserting row-by-row')\n",
    "ax.plot(sizes, t_numeric_add, 'o-', label='Inserting row-by-row: add_result only')\n",
    "ax.plot(sizes, t_array, 'd-', label='Inserting as binary blob')\n",
    "ax.plot(sizes, t_array_add, 'd-', label='Inserting as binary blob: add_result only')\n",
    "ax.legend()\n",
    "ax.set_xlabel('Array length')\n",
    "ax.set_ylabel('Time (s)')\n",
    "fig.tight_layout()"
   ]
  },
  {
   "cell_type": "markdown",
   "metadata": {},
   "source": [
    "As shown in the latter figure, the time to setup and and close the experiment is approximately 0.4 sec. In case of small array sizes, the difference between inserting values of data as arrays and inserting them row-by-row is relatively unimportant. At larger array sizes, i.e. above 10000 points, the cost of writing data as individual datapoints starts to become important.\n"
   ]
  },
  {
   "cell_type": "markdown",
   "metadata": {},
   "source": [
    "### Case2: Long experiment time "
   ]
  },
  {
   "cell_type": "code",
   "execution_count": 7,
   "metadata": {
    "execution": {
     "iopub.execute_input": "2021-03-26T14:01:55.981232Z",
     "iopub.status.busy": "2021-03-26T14:01:55.980644Z",
     "iopub.status.idle": "2021-03-26T14:02:57.299729Z",
     "shell.execute_reply": "2021-03-26T14:02:57.300483Z"
    }
   },
   "outputs": [
    {
     "name": "stdout",
     "output_type": "stream",
     "text": [
      "Starting experimental run with id: 15. \n",
      "Starting experimental run with id: 16. \n",
      "Starting experimental run with id: 17. \n"
     ]
    },
    {
     "name": "stdout",
     "output_type": "stream",
     "text": [
      "Starting experimental run with id: 18. \n",
      "Starting experimental run with id: 19. \n"
     ]
    },
    {
     "name": "stdout",
     "output_type": "stream",
     "text": [
      "Starting experimental run with id: 20. \n"
     ]
    },
    {
     "name": "stdout",
     "output_type": "stream",
     "text": [
      "Starting experimental run with id: 21. \n"
     ]
    },
    {
     "name": "stdout",
     "output_type": "stream",
     "text": [
      "Starting experimental run with id: 22. \n"
     ]
    },
    {
     "name": "stdout",
     "output_type": "stream",
     "text": [
      "Starting experimental run with id: 23. \n"
     ]
    },
    {
     "name": "stdout",
     "output_type": "stream",
     "text": [
      "Starting experimental run with id: 24. \n"
     ]
    },
    {
     "name": "stdout",
     "output_type": "stream",
     "text": [
      "Starting experimental run with id: 25. \n"
     ]
    },
    {
     "name": "stdout",
     "output_type": "stream",
     "text": [
      "Starting experimental run with id: 26. \n"
     ]
    },
    {
     "name": "stdout",
     "output_type": "stream",
     "text": [
      "Starting experimental run with id: 27. \n"
     ]
    },
    {
     "name": "stdout",
     "output_type": "stream",
     "text": [
      "Starting experimental run with id: 28. \n"
     ]
    }
   ],
   "source": [
    "sizes = [1,500,1000,2000,3000,4000,5000]\n",
    "nreps = 100\n",
    "t_numeric = []\n",
    "t_numeric_add = []\n",
    "t_numeric_run_ids = []\n",
    "t_array = []\n",
    "t_array_add = []\n",
    "t_array_run_ids = []\n",
    "for size in sizes:\n",
    "    tn, tna, run_id_n =  insert_data('numeric', size, nreps=nreps)\n",
    "    t_numeric.append(tn)\n",
    "    t_numeric_add.append(tna)\n",
    "    t_numeric_run_ids.append(run_id_n)\n",
    "\n",
    "    ta, taa, run_id_a =  insert_data('array', size, nreps=nreps)\n",
    "    t_array.append(ta)\n",
    "    t_array_add.append(taa)\n",
    "    t_array_run_ids.append(run_id_a)"
   ]
  },
  {
   "cell_type": "code",
   "execution_count": 8,
   "metadata": {
    "execution": {
     "iopub.execute_input": "2021-03-26T14:02:57.342714Z",
     "iopub.status.busy": "2021-03-26T14:02:57.341675Z",
     "iopub.status.idle": "2021-03-26T14:02:57.509016Z",
     "shell.execute_reply": "2021-03-26T14:02:57.509602Z"
    },
    "scrolled": true
   },
   "outputs": [
    {
     "data": {
      "image/png": "[encoded data removed]",
      "text/plain": [
       "<Figure size 432x288 with 1 Axes>"
      ]
     },
     "metadata": {
      "needs_background": "light"
     },
     "output_type": "display_data"
    }
   ],
   "source": [
    "fig, ax = plt.subplots(1,1)\n",
    "ax.plot(sizes, t_numeric, 'o-', label='Inserting row-by-row')\n",
    "ax.plot(sizes, t_numeric_add, 'o-', label='Inserting row-by-row: add_result only')\n",
    "ax.plot(sizes, t_array, 'd-', label='Inserting as binary blob')\n",
    "ax.plot(sizes, t_array_add, 'd-', label='Inserting as binary blob: add_result only')\n",
    "ax.legend()\n",
    "ax.set_xlabel('Array length')\n",
    "ax.set_ylabel('Time (s)')\n",
    "fig.tight_layout()"
   ]
  },
  {
   "cell_type": "markdown",
   "metadata": {},
   "source": [
    "However, as we increase the length of the experiment, as seen here by repeating the insertion 100 times, we see a big difference between inserting values of the data row-by-row and inserting it as a binary blob."
   ]
  },
  {
   "cell_type": "markdown",
   "metadata": {},
   "source": [
    "## Loading the data "
   ]
  },
  {
   "cell_type": "code",
   "execution_count": 9,
   "metadata": {
    "execution": {
     "iopub.execute_input": "2021-03-26T14:02:57.514236Z",
     "iopub.status.busy": "2021-03-26T14:02:57.513122Z",
     "iopub.status.idle": "2021-03-26T14:02:57.516617Z",
     "shell.execute_reply": "2021-03-26T14:02:57.516075Z"
    }
   },
   "outputs": [],
   "source": [
    "from qcodes.dataset.data_set import load_by_id\n",
    "from qcodes.dataset.data_export import get_data_by_id"
   ]
  },
  {
   "cell_type": "markdown",
   "metadata": {},
   "source": [
    "As usual you can load the data by using the ``load_by_id`` function but you will notice that the different storage methods\n",
    "are reflected in shape of the data as it is retrieved. "
   ]
  },
  {
   "cell_type": "code",
   "execution_count": 10,
   "metadata": {
    "execution": {
     "iopub.execute_input": "2021-03-26T14:02:57.521352Z",
     "iopub.status.busy": "2021-03-26T14:02:57.520099Z",
     "iopub.status.idle": "2021-03-26T14:02:57.522001Z",
     "shell.execute_reply": "2021-03-26T14:02:57.522527Z"
    }
   },
   "outputs": [],
   "source": [
    "run_id_n = t_numeric_run_ids[0]\n",
    "run_id_a = t_array_run_ids[0]"
   ]
  },
  {
   "cell_type": "code",
   "execution_count": 11,
   "metadata": {
    "execution": {
     "iopub.execute_input": "2021-03-26T14:02:57.525871Z",
     "iopub.status.busy": "2021-03-26T14:02:57.525322Z",
     "iopub.status.idle": "2021-03-26T14:02:57.534666Z",
     "shell.execute_reply": "2021-03-26T14:02:57.535158Z"
    },
    "scrolled": true
   },
   "outputs": [
    {
     "data": {
      "text/plain": [
       "{'x1': {'x1': array([0.71134247, 0.71134247, 0.4548047 , 0.4548047 , 0.33940777,\n",
       "         0.33940777, 0.08557947, 0.08557947, 0.06029229, 0.06029229,\n",
       "         0.60404997, 0.60404997, 0.77585219, 0.77585219, 0.10099608,\n",
       "         0.10099608, 0.65144366, 0.65144366, 0.29899379, 0.29899379,\n",
       "         0.33047713, 0.33047713, 0.03147602, 0.03147602, 0.26428079,\n",
       "         0.26428079, 0.77134705, 0.77134705, 0.45617666, 0.45617666,\n",
       "         0.67459537, 0.67459537, 0.72704778, 0.72704778, 0.20426358,\n",
       "         0.20426358, 0.05949283, 0.05949283, 0.25762448, 0.25762448,\n",
       "         0.86200707, 0.86200707, 0.71567763, 0.71567763, 0.22680621,\n",
       "         0.22680621, 0.67990921, 0.67990921, 0.75318226, 0.75318226,\n",
       "         0.46682267, 0.46682267, 0.49438802, 0.49438802, 0.53590623,\n",
       "         0.53590623, 0.37490989, 0.37490989, 0.64747218, 0.64747218,\n",
       "         0.23104452, 0.23104452, 0.29012675, 0.29012675, 0.75428043,\n",
       "         0.75428043, 0.50876867, 0.50876867, 0.5414865 , 0.5414865 ,\n",
       "         0.08827933, 0.08827933, 0.02410942, 0.02410942, 0.74148881,\n",
       "         0.74148881, 0.820869  , 0.820869  , 0.86062061, 0.86062061,\n",
       "         0.91451181, 0.91451181, 0.5496483 , 0.5496483 , 0.21360107,\n",
       "         0.21360107, 0.70383836, 0.70383836, 0.67495413, 0.67495413,\n",
       "         0.86945276, 0.86945276, 0.44183145, 0.44183145, 0.43995226,\n",
       "         0.43995226, 0.74615607, 0.74615607, 0.11569783, 0.11569783,\n",
       "         0.94646417, 0.94646417, 0.95254621, 0.95254621, 0.56478021,\n",
       "         0.56478021, 0.08074754, 0.08074754, 0.63504768, 0.63504768,\n",
       "         0.01295003, 0.01295003, 0.01583977, 0.01583977, 0.07189403,\n",
       "         0.07189403, 0.92406062, 0.92406062, 0.06244923, 0.06244923,\n",
       "         0.08576139, 0.08576139, 0.61166062, 0.61166062, 0.98999617,\n",
       "         0.98999617, 0.38079622, 0.38079622, 0.85411379, 0.85411379,\n",
       "         0.19562081, 0.19562081, 0.62155225, 0.62155225, 0.39952169,\n",
       "         0.39952169, 0.88639846, 0.88639846, 0.42810583, 0.42810583,\n",
       "         0.27758004, 0.27758004, 0.15461135, 0.15461135, 0.48905536,\n",
       "         0.48905536, 0.64917286, 0.64917286, 0.54470374, 0.54470374,\n",
       "         0.99593246, 0.99593246, 0.96359158, 0.96359158, 0.40846959,\n",
       "         0.40846959, 0.39665083, 0.39665083, 0.96248391, 0.96248391,\n",
       "         0.79901713, 0.79901713, 0.58332215, 0.58332215, 0.29600585,\n",
       "         0.29600585, 0.91298217, 0.91298217, 0.62223824, 0.62223824,\n",
       "         0.18345854, 0.18345854, 0.48621552, 0.48621552, 0.64799079,\n",
       "         0.64799079, 0.09507125, 0.09507125, 0.5175848 , 0.5175848 ,\n",
       "         0.76948218, 0.76948218, 0.11909201, 0.11909201, 0.55015581,\n",
       "         0.55015581, 0.16970356, 0.16970356, 0.92477226, 0.92477226,\n",
       "         0.89804925, 0.89804925, 0.80294865, 0.80294865, 0.67241633,\n",
       "         0.67241633, 0.14864159, 0.14864159, 0.66616424, 0.66616424])}}"
      ]
     },
     "execution_count": 1,
     "metadata": {},
     "output_type": "execute_result"
    }
   ],
   "source": [
    "ds = load_by_id(run_id_n)\n",
    "ds.get_parameter_data('x1')"
   ]
  },
  {
   "cell_type": "markdown",
   "metadata": {},
   "source": [
    "And a dataset stored as binary arrays"
   ]
  },
  {
   "cell_type": "code",
   "execution_count": 12,
   "metadata": {
    "execution": {
     "iopub.execute_input": "2021-03-26T14:02:57.538645Z",
     "iopub.status.busy": "2021-03-26T14:02:57.538036Z",
     "iopub.status.idle": "2021-03-26T14:02:57.596895Z",
     "shell.execute_reply": "2021-03-26T14:02:57.597756Z"
    },
    "scrolled": true
   },
   "outputs": [
    {
     "data": {
      "text/plain": [
       "{'x1': {'x1': array([[0.59809678],\n",
       "         [0.59809678],\n",
       "         [0.18674181],\n",
       "         [0.18674181],\n",
       "         [0.73145907],\n",
       "         [0.73145907],\n",
       "         [0.91714612],\n",
       "         [0.91714612],\n",
       "         [0.99295108],\n",
       "         [0.99295108],\n",
       "         [0.57927422],\n",
       "         [0.57927422],\n",
       "         [0.54018505],\n",
       "         [0.54018505],\n",
       "         [0.65716405],\n",
       "         [0.65716405],\n",
       "         [0.77683214],\n",
       "         [0.77683214],\n",
       "         [0.1996288 ],\n",
       "         [0.1996288 ],\n",
       "         [0.86322022],\n",
       "         [0.86322022],\n",
       "         [0.17128662],\n",
       "         [0.17128662],\n",
       "         [0.01011105],\n",
       "         [0.01011105],\n",
       "         [0.23825943],\n",
       "         [0.23825943],\n",
       "         [0.67813188],\n",
       "         [0.67813188],\n",
       "         [0.57693323],\n",
       "         [0.57693323],\n",
       "         [0.19279136],\n",
       "         [0.19279136],\n",
       "         [0.52469678],\n",
       "         [0.52469678],\n",
       "         [0.79907116],\n",
       "         [0.79907116],\n",
       "         [0.94472651],\n",
       "         [0.94472651],\n",
       "         [0.310389  ],\n",
       "         [0.310389  ],\n",
       "         [0.29635633],\n",
       "         [0.29635633],\n",
       "         [0.56952717],\n",
       "         [0.56952717],\n",
       "         [0.80131437],\n",
       "         [0.80131437],\n",
       "         [0.49199288],\n",
       "         [0.49199288],\n",
       "         [0.12656582],\n",
       "         [0.12656582],\n",
       "         [0.90531468],\n",
       "         [0.90531468],\n",
       "         [0.419407  ],\n",
       "         [0.419407  ],\n",
       "         [0.1128827 ],\n",
       "         [0.1128827 ],\n",
       "         [0.52251539],\n",
       "         [0.52251539],\n",
       "         [0.64234534],\n",
       "         [0.64234534],\n",
       "         [0.68621194],\n",
       "         [0.68621194],\n",
       "         [0.95268223],\n",
       "         [0.95268223],\n",
       "         [0.0700175 ],\n",
       "         [0.0700175 ],\n",
       "         [0.72651985],\n",
       "         [0.72651985],\n",
       "         [0.00884494],\n",
       "         [0.00884494],\n",
       "         [0.67194273],\n",
       "         [0.67194273],\n",
       "         [0.69231774],\n",
       "         [0.69231774],\n",
       "         [0.19317436],\n",
       "         [0.19317436],\n",
       "         [0.90317697],\n",
       "         [0.90317697],\n",
       "         [0.1101616 ],\n",
       "         [0.1101616 ],\n",
       "         [0.63504501],\n",
       "         [0.63504501],\n",
       "         [0.93489435],\n",
       "         [0.93489435],\n",
       "         [0.06192193],\n",
       "         [0.06192193],\n",
       "         [0.46028805],\n",
       "         [0.46028805],\n",
       "         [0.13723548],\n",
       "         [0.13723548],\n",
       "         [0.62568548],\n",
       "         [0.62568548],\n",
       "         [0.6031383 ],\n",
       "         [0.6031383 ],\n",
       "         [0.90001459],\n",
       "         [0.90001459],\n",
       "         [0.68610814],\n",
       "         [0.68610814],\n",
       "         [0.25298581],\n",
       "         [0.25298581],\n",
       "         [0.33707219],\n",
       "         [0.33707219],\n",
       "         [0.48560976],\n",
       "         [0.48560976],\n",
       "         [0.61150621],\n",
       "         [0.61150621],\n",
       "         [0.32334171],\n",
       "         [0.32334171],\n",
       "         [0.50207332],\n",
       "         [0.50207332],\n",
       "         [0.03764378],\n",
       "         [0.03764378],\n",
       "         [0.11571154],\n",
       "         [0.11571154],\n",
       "         [0.68759047],\n",
       "         [0.68759047],\n",
       "         [0.70630897],\n",
       "         [0.70630897],\n",
       "         [0.88748745],\n",
       "         [0.88748745],\n",
       "         [0.0350518 ],\n",
       "         [0.0350518 ],\n",
       "         [0.39941235],\n",
       "         [0.39941235],\n",
       "         [0.93239885],\n",
       "         [0.93239885],\n",
       "         [0.95297456],\n",
       "         [0.95297456],\n",
       "         [0.17352228],\n",
       "         [0.17352228],\n",
       "         [0.86226361],\n",
       "         [0.86226361],\n",
       "         [0.61850778],\n",
       "         [0.61850778],\n",
       "         [0.87107798],\n",
       "         [0.87107798],\n",
       "         [0.82238056],\n",
       "         [0.82238056],\n",
       "         [0.76036444],\n",
       "         [0.76036444],\n",
       "         [0.58741666],\n",
       "         [0.58741666],\n",
       "         [0.59398142],\n",
       "         [0.59398142],\n",
       "         [0.12604685],\n",
       "         [0.12604685],\n",
       "         [0.35536775],\n",
       "         [0.35536775],\n",
       "         [0.80278281],\n",
       "         [0.80278281],\n",
       "         [0.14850144],\n",
       "         [0.14850144],\n",
       "         [0.30829314],\n",
       "         [0.30829314],\n",
       "         [0.9767804 ],\n",
       "         [0.9767804 ],\n",
       "         [0.1243327 ],\n",
       "         [0.1243327 ],\n",
       "         [0.5926378 ],\n",
       "         [0.5926378 ],\n",
       "         [0.51516749],\n",
       "         [0.51516749],\n",
       "         [0.8511968 ],\n",
       "         [0.8511968 ],\n",
       "         [0.01203868],\n",
       "         [0.01203868],\n",
       "         [0.82454075],\n",
       "         [0.82454075],\n",
       "         [0.27128928],\n",
       "         [0.27128928],\n",
       "         [0.14354637],\n",
       "         [0.14354637],\n",
       "         [0.91439287],\n",
       "         [0.91439287],\n",
       "         [0.42061821],\n",
       "         [0.42061821],\n",
       "         [0.83352349],\n",
       "         [0.83352349],\n",
       "         [0.03286092],\n",
       "         [0.03286092],\n",
       "         [0.46960791],\n",
       "         [0.46960791],\n",
       "         [0.49573688],\n",
       "         [0.49573688],\n",
       "         [0.21140501],\n",
       "         [0.21140501],\n",
       "         [0.22585464],\n",
       "         [0.22585464],\n",
       "         [0.52302542],\n",
       "         [0.52302542],\n",
       "         [0.9942015 ],\n",
       "         [0.9942015 ],\n",
       "         [0.72516229],\n",
       "         [0.72516229],\n",
       "         [0.85928419],\n",
       "         [0.85928419],\n",
       "         [0.27634161],\n",
       "         [0.27634161]])}}"
      ]
     },
     "execution_count": 1,
     "metadata": {},
     "output_type": "execute_result"
    }
   ],
   "source": [
    "ds = load_by_id(run_id_a)\n",
    "ds.get_parameter_data('x1')"
   ]
  },
  {
   "cell_type": "code",
   "execution_count": null,
   "metadata": {},
   "outputs": [],
   "source": []
  }
 ],
 "metadata": {
  "kernelspec": {
   "display_name": "Python 3",
   "language": "python",
   "name": "python3"
  },
  "language_info": {
   "codemirror_mode": {
    "name": "ipython",
    "version": 3
   },
   "file_extension": ".py",
   "mimetype": "text/x-python",
   "name": "python",
   "nbconvert_exporter": "python",
   "pygments_lexer": "ipython3",
   "version": "3.7.10"
  },
  "nbsphinx": {
   "timeout": 600
  },
  "toc": {
   "base_numbering": 1,
   "nav_menu": {},
   "number_sections": true,
   "sideBar": true,
   "skip_h1_title": false,
   "title_cell": "Table of Contents",
   "title_sidebar": "Contents",
   "toc_cell": false,
   "toc_position": {},
   "toc_section_display": true,
   "toc_window_display": false
  },
  "varInspector": {
   "cols": {
    "lenName": 16,
    "lenType": 16,
    "lenVar": 40
   },
   "kernels_config": {
    "python": {
     "delete_cmd_postfix": "",
     "delete_cmd_prefix": "del ",
     "library": "var_list.py",
     "varRefreshCmd": "print(var_dic_list())"
    },
    "r": {
     "delete_cmd_postfix": ") ",
     "delete_cmd_prefix": "rm(",
     "library": "var_list.r",
     "varRefreshCmd": "cat(var_dic_list()) "
    }
   },
   "types_to_exclude": [
    "module",
    "function",
    "builtin_function_or_method",
    "instance",
    "_Feature"
   ],
   "window_display": false
  }
 },
 "nbformat": 4,
 "nbformat_minor": 2
}
