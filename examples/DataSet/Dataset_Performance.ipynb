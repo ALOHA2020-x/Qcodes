{
 "cells": [
  {
   "cell_type": "markdown",
   "metadata": {},
   "source": [
    "# DataSet Performance\n",
    "\n",
    "This notebook shows the trade-off between inserting data into a database row-by-row and as binary blobs. Inserting the data row-by-row means that we have direct access to all the data and may perform queries directly on the values of the data. On the other hand, as we shall see, this is much slower than inserting the data directly as binary blobs."
   ]
  },
  {
   "cell_type": "markdown",
   "metadata": {},
   "source": [
    "First, we choose a new location for the database to ensure that we don't add a bunch of benchmarking data to the default one."
   ]
  },
  {
   "cell_type": "code",
   "execution_count": 1,
   "metadata": {
    "execution": {
     "iopub.execute_input": "2020-11-18T08:16:09.855058Z",
     "iopub.status.busy": "2020-11-18T08:16:09.854498Z",
     "iopub.status.idle": "2020-11-18T08:16:10.848788Z",
     "shell.execute_reply": "2020-11-18T08:16:10.847878Z"
    }
   },
   "outputs": [
    {
     "name": "stdout",
     "output_type": "stream",
     "text": [
      "Logging hadn't been started.\n",
      "Activating auto-logging. Current session state plus future input saved.\n",
      "Filename       : /home/vsts/.qcodes/logs/command_history.log\n",
      "Mode           : append\n",
      "Output logging : True\n",
      "Raw input log  : False\n",
      "Timestamping   : True\n",
      "State          : active\n"
     ]
    },
    {
     "name": "stdout",
     "output_type": "stream",
     "text": [
      "Qcodes Logfile : /home/vsts/.qcodes/logs/201118-14226-qcodes.log\n"
     ]
    }
   ],
   "source": [
    "import os\n",
    "cwd = os.getcwd()\n",
    "import qcodes as qc\n",
    "qc.config[\"core\"][\"db_location\"] = os.path.join(cwd, 'testing.db')\n"
   ]
  },
  {
   "cell_type": "code",
   "execution_count": 2,
   "metadata": {
    "execution": {
     "iopub.execute_input": "2020-11-18T08:16:10.854976Z",
     "iopub.status.busy": "2020-11-18T08:16:10.854241Z",
     "iopub.status.idle": "2020-11-18T08:16:11.026303Z",
     "shell.execute_reply": "2020-11-18T08:16:11.025504Z"
    }
   },
   "outputs": [],
   "source": [
    "%matplotlib inline\n",
    "import time\n",
    "import matplotlib.pyplot as plt\n",
    "import numpy as np\n",
    "\n",
    "import qcodes as qc\n",
    "from qcodes.instrument.parameter import ManualParameter\n",
    "from qcodes.dataset.experiment_container import (Experiment,\n",
    "                                                 load_last_experiment,\n",
    "                                                 new_experiment)\n",
    "from qcodes.dataset.sqlite.database import initialise_database\n",
    "from qcodes import load_or_create_experiment\n",
    "from qcodes.dataset.measurements import Measurement"
   ]
  },
  {
   "cell_type": "code",
   "execution_count": 3,
   "metadata": {
    "execution": {
     "iopub.execute_input": "2020-11-18T08:16:11.030715Z",
     "iopub.status.busy": "2020-11-18T08:16:11.029338Z",
     "iopub.status.idle": "2020-11-18T08:16:11.133180Z",
     "shell.execute_reply": "2020-11-18T08:16:11.133708Z"
    }
   },
   "outputs": [
    {
     "name": "stdout",
     "output_type": "stream",
     "text": [
      "\r",
      "0it [00:00, ?it/s]"
     ]
    },
    {
     "name": "stdout",
     "output_type": "stream",
     "text": [
      "\r",
      "Upgrading database; v0 -> v1: : 0it [00:00, ?it/s]"
     ]
    },
    {
     "name": "stdout",
     "output_type": "stream",
     "text": [
      "\r",
      "Upgrading database; v0 -> v1: : 0it [00:00, ?it/s]"
     ]
    },
    {
     "name": "stdout",
     "output_type": "stream",
     "text": [
      "\n",
      "\r",
      "  0%|          | 0/1 [00:00<?, ?it/s]"
     ]
    },
    {
     "name": "stdout",
     "output_type": "stream",
     "text": [
      "\r",
      "Upgrading database; v1 -> v2:   0%|          | 0/1 [00:00<?, ?it/s]"
     ]
    },
    {
     "name": "stdout",
     "output_type": "stream",
     "text": [
      "\r",
      "Upgrading database; v1 -> v2: 100%|██████████| 1/1 [00:00<00:00, 525.73it/s]"
     ]
    },
    {
     "name": "stdout",
     "output_type": "stream",
     "text": [
      "\n",
      "\r",
      "0it [00:00, ?it/s]"
     ]
    },
    {
     "name": "stdout",
     "output_type": "stream",
     "text": [
      "\r",
      "Upgrading database; v2 -> v3: : 0it [00:00, ?it/s]"
     ]
    },
    {
     "name": "stdout",
     "output_type": "stream",
     "text": [
      "\r",
      "Upgrading database; v2 -> v3: : 0it [00:00, ?it/s]"
     ]
    },
    {
     "name": "stdout",
     "output_type": "stream",
     "text": [
      "\n",
      "\r",
      "0it [00:00, ?it/s]"
     ]
    },
    {
     "name": "stdout",
     "output_type": "stream",
     "text": [
      "\r",
      "Upgrading database; v3 -> v4: : 0it [00:00, ?it/s]"
     ]
    },
    {
     "name": "stdout",
     "output_type": "stream",
     "text": [
      "\r",
      "Upgrading database; v3 -> v4: : 0it [00:00, ?it/s]"
     ]
    },
    {
     "name": "stdout",
     "output_type": "stream",
     "text": [
      "\n",
      "\r",
      "  0%|          | 0/1 [00:00<?, ?it/s]"
     ]
    },
    {
     "name": "stdout",
     "output_type": "stream",
     "text": [
      "\r",
      "Upgrading database; v4 -> v5:   0%|          | 0/1 [00:00<?, ?it/s]"
     ]
    },
    {
     "name": "stdout",
     "output_type": "stream",
     "text": [
      "\r",
      "Upgrading database; v4 -> v5: 100%|██████████| 1/1 [00:00<00:00, 403.38it/s]"
     ]
    },
    {
     "name": "stdout",
     "output_type": "stream",
     "text": [
      "\n",
      "\r",
      "0it [00:00, ?it/s]"
     ]
    },
    {
     "name": "stdout",
     "output_type": "stream",
     "text": [
      "\r",
      "Upgrading database; v5 -> v6: : 0it [00:00, ?it/s]"
     ]
    },
    {
     "name": "stdout",
     "output_type": "stream",
     "text": [
      "\r",
      "Upgrading database; v5 -> v6: : 0it [00:00, ?it/s]"
     ]
    },
    {
     "name": "stdout",
     "output_type": "stream",
     "text": [
      "\n",
      "\r",
      "  0%|          | 0/1 [00:00<?, ?it/s]"
     ]
    },
    {
     "name": "stdout",
     "output_type": "stream",
     "text": [
      "\r",
      "Upgrading database; v6 -> v7:   0%|          | 0/1 [00:00<?, ?it/s]"
     ]
    },
    {
     "name": "stdout",
     "output_type": "stream",
     "text": [
      "\r",
      "Upgrading database; v6 -> v7: 100%|██████████| 1/1 [00:00<00:00, 270.37it/s]"
     ]
    },
    {
     "name": "stdout",
     "output_type": "stream",
     "text": [
      "\n",
      "\r",
      "  0%|          | 0/1 [00:00<?, ?it/s]"
     ]
    },
    {
     "name": "stdout",
     "output_type": "stream",
     "text": [
      "\r",
      "Upgrading database; v7 -> v8:   0%|          | 0/1 [00:00<?, ?it/s]"
     ]
    },
    {
     "name": "stdout",
     "output_type": "stream",
     "text": [
      "\r",
      "Upgrading database; v7 -> v8: 100%|██████████| 1/1 [00:00<00:00, 690.53it/s]"
     ]
    },
    {
     "name": "stdout",
     "output_type": "stream",
     "text": [
      "\n",
      "\r",
      "  0%|          | 0/1 [00:00<?, ?it/s]"
     ]
    },
    {
     "name": "stdout",
     "output_type": "stream",
     "text": [
      "\r",
      "Upgrading database; v8 -> v9:   0%|          | 0/1 [00:00<?, ?it/s]"
     ]
    },
    {
     "name": "stdout",
     "output_type": "stream",
     "text": [
      "\r",
      "Upgrading database; v8 -> v9: 100%|██████████| 1/1 [00:00<00:00, 870.19it/s]"
     ]
    },
    {
     "name": "stdout",
     "output_type": "stream",
     "text": [
      "\n"
     ]
    }
   ],
   "source": [
    "initialise_database()\n",
    "exp = load_or_create_experiment(experiment_name='tutorial_exp', sample_name=\"no sample\")"
   ]
  },
  {
   "cell_type": "markdown",
   "metadata": {},
   "source": [
    "Here, we define a simple function to benchmark the time it takes to insert n points with either numeric or array data type.\n",
    "We will compare both the time used to call ``add_result`` and the time used for the full measurement."
   ]
  },
  {
   "cell_type": "code",
   "execution_count": 4,
   "metadata": {
    "execution": {
     "iopub.execute_input": "2020-11-18T08:16:11.144103Z",
     "iopub.status.busy": "2020-11-18T08:16:11.143221Z",
     "iopub.status.idle": "2020-11-18T08:16:11.144721Z",
     "shell.execute_reply": "2020-11-18T08:16:11.145207Z"
    }
   },
   "outputs": [],
   "source": [
    "def insert_data(paramtype, npoints, nreps=1):\n",
    "\n",
    "    meas = Measurement(exp=exp)\n",
    "\n",
    "    x1 = ManualParameter('x1')\n",
    "    x2 = ManualParameter('x2')\n",
    "    x3 = ManualParameter('x3')\n",
    "    y1 = ManualParameter('y1')\n",
    "    y2 = ManualParameter('y2')\n",
    "\n",
    "    meas.register_parameter(x1, paramtype=paramtype)\n",
    "    meas.register_parameter(x2, paramtype=paramtype)\n",
    "    meas.register_parameter(x3, paramtype=paramtype)\n",
    "    meas.register_parameter(y1, setpoints=[x1, x2, x3],\n",
    "                            paramtype=paramtype)\n",
    "    meas.register_parameter(y2, setpoints=[x1, x2, x3],\n",
    "                            paramtype=paramtype)\n",
    "    start = time.perf_counter()\n",
    "    with meas.run() as datasaver:\n",
    "        start_adding = time.perf_counter()\n",
    "        for i in range(nreps):\n",
    "            datasaver.add_result((x1, np.random.rand(npoints)),\n",
    "                                 (x2, np.random.rand(npoints)),\n",
    "                                 (x3, np.random.rand(npoints)),\n",
    "                                 (y1, np.random.rand(npoints)),\n",
    "                                 (y2, np.random.rand(npoints)))\n",
    "        stop_adding = time.perf_counter()\n",
    "        run_id = datasaver.run_id\n",
    "    stop = time.perf_counter()\n",
    "    tot_time = stop - start\n",
    "    add_time = stop_adding - start_adding\n",
    "    return tot_time, add_time, run_id"
   ]
  },
  {
   "cell_type": "markdown",
   "metadata": {},
   "source": [
    "## Comparison between numeric/array data and binary blob"
   ]
  },
  {
   "cell_type": "markdown",
   "metadata": {},
   "source": [
    "### Case1: Short experiment time"
   ]
  },
  {
   "cell_type": "code",
   "execution_count": 5,
   "metadata": {
    "execution": {
     "iopub.execute_input": "2020-11-18T08:16:11.150939Z",
     "iopub.status.busy": "2020-11-18T08:16:11.149674Z",
     "iopub.status.idle": "2020-11-18T08:16:11.930386Z",
     "shell.execute_reply": "2020-11-18T08:16:11.929319Z"
    }
   },
   "outputs": [
    {
     "name": "stdout",
     "output_type": "stream",
     "text": [
      "Starting experimental run with id: 1. \n",
      "Starting experimental run with id: 2. \n",
      "Starting experimental run with id: 3. \n",
      "Starting experimental run with id: 4. \n",
      "Starting experimental run with id: 5. \n"
     ]
    },
    {
     "name": "stdout",
     "output_type": "stream",
     "text": [
      "Starting experimental run with id: 6. \n"
     ]
    },
    {
     "name": "stdout",
     "output_type": "stream",
     "text": [
      "Starting experimental run with id: 7. \n"
     ]
    },
    {
     "name": "stdout",
     "output_type": "stream",
     "text": [
      "Starting experimental run with id: 8. \n",
      "Starting experimental run with id: 9. \n"
     ]
    },
    {
     "name": "stdout",
     "output_type": "stream",
     "text": [
      "Starting experimental run with id: 10. \n",
      "Starting experimental run with id: 11. \n"
     ]
    },
    {
     "name": "stdout",
     "output_type": "stream",
     "text": [
      "Starting experimental run with id: 12. \n",
      "Starting experimental run with id: 13. \n"
     ]
    },
    {
     "name": "stdout",
     "output_type": "stream",
     "text": [
      "Starting experimental run with id: 14. \n"
     ]
    }
   ],
   "source": [
    "sizes = [1,500,1000,2000,3000,4000,5000]\n",
    "t_numeric = []\n",
    "t_numeric_add = []\n",
    "t_array = []\n",
    "t_array_add = []\n",
    "for size in sizes:\n",
    "    tn, tna, run_id_n =  insert_data('numeric', size)\n",
    "    t_numeric.append(tn)\n",
    "    t_numeric_add.append(tna)\n",
    "\n",
    "    ta, taa, run_id_a =  insert_data('array', size)\n",
    "    t_array.append(ta)\n",
    "    t_array_add.append(taa)"
   ]
  },
  {
   "cell_type": "code",
   "execution_count": 6,
   "metadata": {
    "execution": {
     "iopub.execute_input": "2020-11-18T08:16:11.948082Z",
     "iopub.status.busy": "2020-11-18T08:16:11.947470Z",
     "iopub.status.idle": "2020-11-18T08:16:12.172471Z",
     "shell.execute_reply": "2020-11-18T08:16:12.171800Z"
    }
   },
   "outputs": [
    {
     "data": {
      "image/png": "[encoded data removed]",
      "text/plain": [
       "<Figure size 432x288 with 1 Axes>"
      ]
     },
     "metadata": {
      "needs_background": "light"
     },
     "output_type": "display_data"
    }
   ],
   "source": [
    "fig, ax = plt.subplots(1,1)\n",
    "ax.plot(sizes, t_numeric, 'o-', label='Inserting row-by-row')\n",
    "ax.plot(sizes, t_numeric_add, 'o-', label='Inserting row-by-row: add_result only')\n",
    "ax.plot(sizes, t_array, 'd-', label='Inserting as binary blob')\n",
    "ax.plot(sizes, t_array_add, 'd-', label='Inserting as binary blob: add_result only')\n",
    "ax.legend()\n",
    "ax.set_xlabel('Array length')\n",
    "ax.set_ylabel('Time (s)')\n",
    "fig.tight_layout()"
   ]
  },
  {
   "cell_type": "markdown",
   "metadata": {},
   "source": [
    "As shown in the latter figure, the time to setup and and close the experiment is approximately 0.4 sec. In case of small array sizes, the difference between inserting values of data as arrays and inserting them row-by-row is relatively unimportant. At larger array sizes, i.e. above 10000 points, the cost of writing data as individual datapoints starts to become important.\n"
   ]
  },
  {
   "cell_type": "markdown",
   "metadata": {},
   "source": [
    "### Case2: Long experiment time "
   ]
  },
  {
   "cell_type": "code",
   "execution_count": 7,
   "metadata": {
    "execution": {
     "iopub.execute_input": "2020-11-18T08:16:12.179171Z",
     "iopub.status.busy": "2020-11-18T08:16:12.177775Z",
     "iopub.status.idle": "2020-11-18T08:17:07.476218Z",
     "shell.execute_reply": "2020-11-18T08:17:07.475669Z"
    }
   },
   "outputs": [
    {
     "name": "stdout",
     "output_type": "stream",
     "text": [
      "Starting experimental run with id: 15. \n",
      "Starting experimental run with id: 16. \n",
      "Starting experimental run with id: 17. \n"
     ]
    },
    {
     "name": "stdout",
     "output_type": "stream",
     "text": [
      "Starting experimental run with id: 18. \n",
      "Starting experimental run with id: 19. \n"
     ]
    },
    {
     "name": "stdout",
     "output_type": "stream",
     "text": [
      "Starting experimental run with id: 20. \n"
     ]
    },
    {
     "name": "stdout",
     "output_type": "stream",
     "text": [
      "Starting experimental run with id: 21. \n"
     ]
    },
    {
     "name": "stdout",
     "output_type": "stream",
     "text": [
      "Starting experimental run with id: 22. \n"
     ]
    },
    {
     "name": "stdout",
     "output_type": "stream",
     "text": [
      "Starting experimental run with id: 23. \n"
     ]
    },
    {
     "name": "stdout",
     "output_type": "stream",
     "text": [
      "Starting experimental run with id: 24. \n"
     ]
    },
    {
     "name": "stdout",
     "output_type": "stream",
     "text": [
      "Starting experimental run with id: 25. \n"
     ]
    },
    {
     "name": "stdout",
     "output_type": "stream",
     "text": [
      "Starting experimental run with id: 26. \n"
     ]
    },
    {
     "name": "stdout",
     "output_type": "stream",
     "text": [
      "Starting experimental run with id: 27. \n"
     ]
    },
    {
     "name": "stdout",
     "output_type": "stream",
     "text": [
      "Starting experimental run with id: 28. \n"
     ]
    }
   ],
   "source": [
    "sizes = [1,500,1000,2000,3000,4000,5000]\n",
    "nreps = 100\n",
    "t_numeric = []\n",
    "t_numeric_add = []\n",
    "t_numeric_run_ids = []\n",
    "t_array = []\n",
    "t_array_add = []\n",
    "t_array_run_ids = []\n",
    "for size in sizes:\n",
    "    tn, tna, run_id_n =  insert_data('numeric', size, nreps=nreps)\n",
    "    t_numeric.append(tn)\n",
    "    t_numeric_add.append(tna)\n",
    "    t_numeric_run_ids.append(run_id_n)\n",
    "\n",
    "    ta, taa, run_id_a =  insert_data('array', size, nreps=nreps)\n",
    "    t_array.append(ta)\n",
    "    t_array_add.append(taa)\n",
    "    t_array_run_ids.append(run_id_a)"
   ]
  },
  {
   "cell_type": "code",
   "execution_count": 8,
   "metadata": {
    "execution": {
     "iopub.execute_input": "2020-11-18T08:17:07.494976Z",
     "iopub.status.busy": "2020-11-18T08:17:07.492682Z",
     "iopub.status.idle": "2020-11-18T08:17:07.712860Z",
     "shell.execute_reply": "2020-11-18T08:17:07.713326Z"
    },
    "scrolled": true
   },
   "outputs": [
    {
     "data": {
      "image/png": "[encoded data removed]",
      "text/plain": [
       "<Figure size 432x288 with 1 Axes>"
      ]
     },
     "metadata": {
      "needs_background": "light"
     },
     "output_type": "display_data"
    }
   ],
   "source": [
    "fig, ax = plt.subplots(1,1)\n",
    "ax.plot(sizes, t_numeric, 'o-', label='Inserting row-by-row')\n",
    "ax.plot(sizes, t_numeric_add, 'o-', label='Inserting row-by-row: add_result only')\n",
    "ax.plot(sizes, t_array, 'd-', label='Inserting as binary blob')\n",
    "ax.plot(sizes, t_array_add, 'd-', label='Inserting as binary blob: add_result only')\n",
    "ax.legend()\n",
    "ax.set_xlabel('Array length')\n",
    "ax.set_ylabel('Time (s)')\n",
    "fig.tight_layout()"
   ]
  },
  {
   "cell_type": "markdown",
   "metadata": {},
   "source": [
    "However, as we increase the length of the experiment, as seen here by repeating the insertion 100 times, we see a big difference between inserting values of the data row-by-row and inserting it as a binary blob."
   ]
  },
  {
   "cell_type": "markdown",
   "metadata": {},
   "source": [
    "## Loading the data "
   ]
  },
  {
   "cell_type": "code",
   "execution_count": 9,
   "metadata": {
    "execution": {
     "iopub.execute_input": "2020-11-18T08:17:07.717691Z",
     "iopub.status.busy": "2020-11-18T08:17:07.717130Z",
     "iopub.status.idle": "2020-11-18T08:17:07.720896Z",
     "shell.execute_reply": "2020-11-18T08:17:07.721358Z"
    }
   },
   "outputs": [],
   "source": [
    "from qcodes.dataset.data_set import load_by_id\n",
    "from qcodes.dataset.data_export import get_data_by_id"
   ]
  },
  {
   "cell_type": "markdown",
   "metadata": {},
   "source": [
    "As usual you can load the data by using the ``load_by_id`` function but you will notice that the different storage methods\n",
    "are reflected in shape of the data as it is retrieved. "
   ]
  },
  {
   "cell_type": "code",
   "execution_count": 10,
   "metadata": {
    "execution": {
     "iopub.execute_input": "2020-11-18T08:17:07.724896Z",
     "iopub.status.busy": "2020-11-18T08:17:07.724298Z",
     "iopub.status.idle": "2020-11-18T08:17:07.727102Z",
     "shell.execute_reply": "2020-11-18T08:17:07.726502Z"
    }
   },
   "outputs": [],
   "source": [
    "run_id_n = t_numeric_run_ids[0]\n",
    "run_id_a = t_array_run_ids[0]"
   ]
  },
  {
   "cell_type": "code",
   "execution_count": 11,
   "metadata": {
    "execution": {
     "iopub.execute_input": "2020-11-18T08:17:07.730231Z",
     "iopub.status.busy": "2020-11-18T08:17:07.729632Z",
     "iopub.status.idle": "2020-11-18T08:17:07.739408Z",
     "shell.execute_reply": "2020-11-18T08:17:07.738996Z"
    },
    "scrolled": true
   },
   "outputs": [
    {
     "data": {
      "text/plain": [
       "{'x1': {'x1': array([0.82929927, 0.82929927, 0.3142486 , 0.3142486 , 0.81807547,\n",
       "         0.81807547, 0.93583547, 0.93583547, 0.54890234, 0.54890234,\n",
       "         0.12818371, 0.12818371, 0.19784365, 0.19784365, 0.45564247,\n",
       "         0.45564247, 0.64671296, 0.64671296, 0.01393246, 0.01393246,\n",
       "         0.15391286, 0.15391286, 0.08180971, 0.08180971, 0.97646374,\n",
       "         0.97646374, 0.53988046, 0.53988046, 0.95468178, 0.95468178,\n",
       "         0.36649344, 0.36649344, 0.88696802, 0.88696802, 0.39465286,\n",
       "         0.39465286, 0.47296303, 0.47296303, 0.48072003, 0.48072003,\n",
       "         0.34152882, 0.34152882, 0.64097163, 0.64097163, 0.38762507,\n",
       "         0.38762507, 0.83258593, 0.83258593, 0.16806003, 0.16806003,\n",
       "         0.8084997 , 0.8084997 , 0.83090095, 0.83090095, 0.11546436,\n",
       "         0.11546436, 0.70850326, 0.70850326, 0.26953218, 0.26953218,\n",
       "         0.75513309, 0.75513309, 0.35569669, 0.35569669, 0.90658754,\n",
       "         0.90658754, 0.88336254, 0.88336254, 0.97482281, 0.97482281,\n",
       "         0.9799151 , 0.9799151 , 0.54464628, 0.54464628, 0.51387525,\n",
       "         0.51387525, 0.72600328, 0.72600328, 0.53012209, 0.53012209,\n",
       "         0.15359029, 0.15359029, 0.3719751 , 0.3719751 , 0.4426889 ,\n",
       "         0.4426889 , 0.52683645, 0.52683645, 0.21690368, 0.21690368,\n",
       "         0.32614174, 0.32614174, 0.42906876, 0.42906876, 0.31804848,\n",
       "         0.31804848, 0.04545856, 0.04545856, 0.14707   , 0.14707   ,\n",
       "         0.23962096, 0.23962096, 0.54787413, 0.54787413, 0.15482949,\n",
       "         0.15482949, 0.82755792, 0.82755792, 0.39224509, 0.39224509,\n",
       "         0.20342151, 0.20342151, 0.4326073 , 0.4326073 , 0.65962129,\n",
       "         0.65962129, 0.98086431, 0.98086431, 0.93456995, 0.93456995,\n",
       "         0.58468367, 0.58468367, 0.40939212, 0.40939212, 0.09118625,\n",
       "         0.09118625, 0.20767001, 0.20767001, 0.53435897, 0.53435897,\n",
       "         0.69899179, 0.69899179, 0.2078341 , 0.2078341 , 0.04678406,\n",
       "         0.04678406, 0.32343929, 0.32343929, 0.6491502 , 0.6491502 ,\n",
       "         0.29281338, 0.29281338, 0.36505586, 0.36505586, 0.74928434,\n",
       "         0.74928434, 0.61822793, 0.61822793, 0.16903921, 0.16903921,\n",
       "         0.4864833 , 0.4864833 , 0.22764408, 0.22764408, 0.14311854,\n",
       "         0.14311854, 0.93057447, 0.93057447, 0.9648629 , 0.9648629 ,\n",
       "         0.70443424, 0.70443424, 0.65250759, 0.65250759, 0.92862296,\n",
       "         0.92862296, 0.02173287, 0.02173287, 0.26322427, 0.26322427,\n",
       "         0.08643349, 0.08643349, 0.99268477, 0.99268477, 0.63957166,\n",
       "         0.63957166, 0.6367183 , 0.6367183 , 0.97683371, 0.97683371,\n",
       "         0.08002173, 0.08002173, 0.60012197, 0.60012197, 0.87961226,\n",
       "         0.87961226, 0.4437131 , 0.4437131 , 0.38895259, 0.38895259,\n",
       "         0.39096025, 0.39096025, 0.63473688, 0.63473688, 0.32981496,\n",
       "         0.32981496, 0.27945467, 0.27945467, 0.55697928, 0.55697928])}}"
      ]
     },
     "execution_count": 1,
     "metadata": {},
     "output_type": "execute_result"
    }
   ],
   "source": [
    "ds = load_by_id(run_id_n)\n",
    "ds.get_parameter_data('x1')"
   ]
  },
  {
   "cell_type": "markdown",
   "metadata": {},
   "source": [
    "And a dataset stored as binary arrays"
   ]
  },
  {
   "cell_type": "code",
   "execution_count": 12,
   "metadata": {
    "execution": {
     "iopub.execute_input": "2020-11-18T08:17:07.742736Z",
     "iopub.status.busy": "2020-11-18T08:17:07.742245Z",
     "iopub.status.idle": "2020-11-18T08:17:07.804550Z",
     "shell.execute_reply": "2020-11-18T08:17:07.805171Z"
    },
    "scrolled": true
   },
   "outputs": [
    {
     "data": {
      "text/plain": [
       "{'x1': {'x1': array([[0.03709333],\n",
       "         [0.03709333],\n",
       "         [0.28297433],\n",
       "         [0.28297433],\n",
       "         [0.99362883],\n",
       "         [0.99362883],\n",
       "         [0.09540675],\n",
       "         [0.09540675],\n",
       "         [0.78497493],\n",
       "         [0.78497493],\n",
       "         [0.16315438],\n",
       "         [0.16315438],\n",
       "         [0.80730198],\n",
       "         [0.80730198],\n",
       "         [0.68570737],\n",
       "         [0.68570737],\n",
       "         [0.63419136],\n",
       "         [0.63419136],\n",
       "         [0.53220696],\n",
       "         [0.53220696],\n",
       "         [0.54406207],\n",
       "         [0.54406207],\n",
       "         [0.08672925],\n",
       "         [0.08672925],\n",
       "         [0.04445514],\n",
       "         [0.04445514],\n",
       "         [0.57225074],\n",
       "         [0.57225074],\n",
       "         [0.44553678],\n",
       "         [0.44553678],\n",
       "         [0.58841953],\n",
       "         [0.58841953],\n",
       "         [0.61752516],\n",
       "         [0.61752516],\n",
       "         [0.75720303],\n",
       "         [0.75720303],\n",
       "         [0.39923091],\n",
       "         [0.39923091],\n",
       "         [0.44190198],\n",
       "         [0.44190198],\n",
       "         [0.40425618],\n",
       "         [0.40425618],\n",
       "         [0.15087097],\n",
       "         [0.15087097],\n",
       "         [0.96551193],\n",
       "         [0.96551193],\n",
       "         [0.81570632],\n",
       "         [0.81570632],\n",
       "         [0.96996195],\n",
       "         [0.96996195],\n",
       "         [0.3004141 ],\n",
       "         [0.3004141 ],\n",
       "         [0.60804165],\n",
       "         [0.60804165],\n",
       "         [0.92874965],\n",
       "         [0.92874965],\n",
       "         [0.98332932],\n",
       "         [0.98332932],\n",
       "         [0.97139464],\n",
       "         [0.97139464],\n",
       "         [0.45308675],\n",
       "         [0.45308675],\n",
       "         [0.09027345],\n",
       "         [0.09027345],\n",
       "         [0.5796897 ],\n",
       "         [0.5796897 ],\n",
       "         [0.44090678],\n",
       "         [0.44090678],\n",
       "         [0.27892315],\n",
       "         [0.27892315],\n",
       "         [0.23538136],\n",
       "         [0.23538136],\n",
       "         [0.81167412],\n",
       "         [0.81167412],\n",
       "         [0.13832617],\n",
       "         [0.13832617],\n",
       "         [0.25957236],\n",
       "         [0.25957236],\n",
       "         [0.6828007 ],\n",
       "         [0.6828007 ],\n",
       "         [0.2102949 ],\n",
       "         [0.2102949 ],\n",
       "         [0.47541095],\n",
       "         [0.47541095],\n",
       "         [0.07517189],\n",
       "         [0.07517189],\n",
       "         [0.24034427],\n",
       "         [0.24034427],\n",
       "         [0.38637049],\n",
       "         [0.38637049],\n",
       "         [0.15474828],\n",
       "         [0.15474828],\n",
       "         [0.02355723],\n",
       "         [0.02355723],\n",
       "         [0.04199859],\n",
       "         [0.04199859],\n",
       "         [0.75341276],\n",
       "         [0.75341276],\n",
       "         [0.64072539],\n",
       "         [0.64072539],\n",
       "         [0.20543861],\n",
       "         [0.20543861],\n",
       "         [0.31661961],\n",
       "         [0.31661961],\n",
       "         [0.17550687],\n",
       "         [0.17550687],\n",
       "         [0.89968807],\n",
       "         [0.89968807],\n",
       "         [0.82890864],\n",
       "         [0.82890864],\n",
       "         [0.22862792],\n",
       "         [0.22862792],\n",
       "         [0.7210043 ],\n",
       "         [0.7210043 ],\n",
       "         [0.65861796],\n",
       "         [0.65861796],\n",
       "         [0.92934071],\n",
       "         [0.92934071],\n",
       "         [0.25369153],\n",
       "         [0.25369153],\n",
       "         [0.29529257],\n",
       "         [0.29529257],\n",
       "         [0.80077631],\n",
       "         [0.80077631],\n",
       "         [0.31028426],\n",
       "         [0.31028426],\n",
       "         [0.5648053 ],\n",
       "         [0.5648053 ],\n",
       "         [0.98150376],\n",
       "         [0.98150376],\n",
       "         [0.46228416],\n",
       "         [0.46228416],\n",
       "         [0.513261  ],\n",
       "         [0.513261  ],\n",
       "         [0.39371344],\n",
       "         [0.39371344],\n",
       "         [0.70831398],\n",
       "         [0.70831398],\n",
       "         [0.77911679],\n",
       "         [0.77911679],\n",
       "         [0.92272695],\n",
       "         [0.92272695],\n",
       "         [0.11583082],\n",
       "         [0.11583082],\n",
       "         [0.60991319],\n",
       "         [0.60991319],\n",
       "         [0.40804233],\n",
       "         [0.40804233],\n",
       "         [0.73487858],\n",
       "         [0.73487858],\n",
       "         [0.23075704],\n",
       "         [0.23075704],\n",
       "         [0.07919223],\n",
       "         [0.07919223],\n",
       "         [0.70334219],\n",
       "         [0.70334219],\n",
       "         [0.38132028],\n",
       "         [0.38132028],\n",
       "         [0.23545201],\n",
       "         [0.23545201],\n",
       "         [0.33099832],\n",
       "         [0.33099832],\n",
       "         [0.64924423],\n",
       "         [0.64924423],\n",
       "         [0.66814552],\n",
       "         [0.66814552],\n",
       "         [0.14755466],\n",
       "         [0.14755466],\n",
       "         [0.65950958],\n",
       "         [0.65950958],\n",
       "         [0.87815888],\n",
       "         [0.87815888],\n",
       "         [0.93821016],\n",
       "         [0.93821016],\n",
       "         [0.72788476],\n",
       "         [0.72788476],\n",
       "         [0.78667826],\n",
       "         [0.78667826],\n",
       "         [0.13398953],\n",
       "         [0.13398953],\n",
       "         [0.40624864],\n",
       "         [0.40624864],\n",
       "         [0.4959838 ],\n",
       "         [0.4959838 ],\n",
       "         [0.34631795],\n",
       "         [0.34631795],\n",
       "         [0.09325524],\n",
       "         [0.09325524],\n",
       "         [0.34797365],\n",
       "         [0.34797365],\n",
       "         [0.50542799],\n",
       "         [0.50542799],\n",
       "         [0.06202087],\n",
       "         [0.06202087],\n",
       "         [0.81821878],\n",
       "         [0.81821878],\n",
       "         [0.28970872],\n",
       "         [0.28970872],\n",
       "         [0.09923581],\n",
       "         [0.09923581]])}}"
      ]
     },
     "execution_count": 1,
     "metadata": {},
     "output_type": "execute_result"
    }
   ],
   "source": [
    "ds = load_by_id(run_id_a)\n",
    "ds.get_parameter_data('x1')"
   ]
  },
  {
   "cell_type": "code",
   "execution_count": null,
   "metadata": {},
   "outputs": [],
   "source": []
  }
 ],
 "metadata": {
  "kernelspec": {
   "display_name": "Python 3",
   "language": "python",
   "name": "python3"
  },
  "language_info": {
   "codemirror_mode": {
    "name": "ipython",
    "version": 3
   },
   "file_extension": ".py",
   "mimetype": "text/x-python",
   "name": "python",
   "nbconvert_exporter": "python",
   "pygments_lexer": "ipython3",
   "version": "3.7.9"
  },
  "nbsphinx": {
   "timeout": 600
  },
  "toc": {
   "base_numbering": 1,
   "nav_menu": {},
   "number_sections": true,
   "sideBar": true,
   "skip_h1_title": false,
   "title_cell": "Table of Contents",
   "title_sidebar": "Contents",
   "toc_cell": false,
   "toc_position": {},
   "toc_section_display": true,
   "toc_window_display": false
  },
  "varInspector": {
   "cols": {
    "lenName": 16,
    "lenType": 16,
    "lenVar": 40
   },
   "kernels_config": {
    "python": {
     "delete_cmd_postfix": "",
     "delete_cmd_prefix": "del ",
     "library": "var_list.py",
     "varRefreshCmd": "print(var_dic_list())"
    },
    "r": {
     "delete_cmd_postfix": ") ",
     "delete_cmd_prefix": "rm(",
     "library": "var_list.r",
     "varRefreshCmd": "cat(var_dic_list()) "
    }
   },
   "types_to_exclude": [
    "module",
    "function",
    "builtin_function_or_method",
    "instance",
    "_Feature"
   ],
   "window_display": false
  }
 },
 "nbformat": 4,
 "nbformat_minor": 2
}
