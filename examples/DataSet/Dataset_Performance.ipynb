{
 "cells": [
  {
   "cell_type": "markdown",
   "metadata": {},
   "source": [
    "# DataSet Performance\n",
    "\n",
    "This notebook shows the trade-off between inserting data into a database row-by-row and as binary blobs. Inserting the data row-by-row means that we have direct access to all the data and may perform queries directly on the values of the data. On the other hand, as we shall see, this is much slower than inserting the data directly as binary blobs."
   ]
  },
  {
   "cell_type": "markdown",
   "metadata": {},
   "source": [
    "First, we choose a new location for the database to ensure that we don't add a bunch of benchmarking data to the default one."
   ]
  },
  {
   "cell_type": "code",
   "execution_count": 1,
   "metadata": {
    "execution": {
     "iopub.execute_input": "2021-05-03T11:04:55.596790Z",
     "iopub.status.busy": "2021-05-03T11:04:55.596082Z",
     "iopub.status.idle": "2021-05-03T11:04:57.025348Z",
     "shell.execute_reply": "2021-05-03T11:04:57.025882Z"
    }
   },
   "outputs": [
    {
     "name": "stdout",
     "output_type": "stream",
     "text": [
      "Logging hadn't been started.\n",
      "Activating auto-logging. Current session state plus future input saved.\n",
      "Filename       : /home/runner/.qcodes/logs/command_history.log\n",
      "Mode           : append\n",
      "Output logging : True\n",
      "Raw input log  : False\n",
      "Timestamping   : True\n",
      "State          : active\n"
     ]
    },
    {
     "name": "stdout",
     "output_type": "stream",
     "text": [
      "Qcodes Logfile : /home/runner/.qcodes/logs/210503-4522-qcodes.log\n"
     ]
    }
   ],
   "source": [
    "import os\n",
    "cwd = os.getcwd()\n",
    "import qcodes as qc\n",
    "qc.config[\"core\"][\"db_location\"] = os.path.join(cwd, 'testing.db')\n"
   ]
  },
  {
   "cell_type": "code",
   "execution_count": 2,
   "metadata": {
    "execution": {
     "iopub.execute_input": "2021-05-03T11:04:57.034001Z",
     "iopub.status.busy": "2021-05-03T11:04:57.032812Z",
     "iopub.status.idle": "2021-05-03T11:04:57.282923Z",
     "shell.execute_reply": "2021-05-03T11:04:57.281919Z"
    }
   },
   "outputs": [],
   "source": [
    "%matplotlib inline\n",
    "import time\n",
    "import matplotlib.pyplot as plt\n",
    "import numpy as np\n",
    "\n",
    "import qcodes as qc\n",
    "from qcodes.instrument.parameter import ManualParameter\n",
    "from qcodes.dataset.experiment_container import (Experiment,\n",
    "                                                 load_last_experiment,\n",
    "                                                 new_experiment)\n",
    "from qcodes.dataset.sqlite.database import initialise_database\n",
    "from qcodes import load_or_create_experiment\n",
    "from qcodes.dataset.measurements import Measurement"
   ]
  },
  {
   "cell_type": "code",
   "execution_count": 3,
   "metadata": {
    "execution": {
     "iopub.execute_input": "2021-05-03T11:04:57.287246Z",
     "iopub.status.busy": "2021-05-03T11:04:57.286577Z",
     "iopub.status.idle": "2021-05-03T11:04:57.397646Z",
     "shell.execute_reply": "2021-05-03T11:04:57.396971Z"
    }
   },
   "outputs": [
    {
     "name": "stdout",
     "output_type": "stream",
     "text": [
      "\r",
      "0it [00:00, ?it/s]"
     ]
    },
    {
     "name": "stdout",
     "output_type": "stream",
     "text": [
      "\r",
      "Upgrading database; v0 -> v1: : 0it [00:00, ?it/s]"
     ]
    },
    {
     "name": "stdout",
     "output_type": "stream",
     "text": [
      "\r",
      "Upgrading database; v0 -> v1: : 0it [00:00, ?it/s]"
     ]
    },
    {
     "name": "stdout",
     "output_type": "stream",
     "text": [
      "\n",
      "\r",
      "  0%|          | 0/1 [00:00<?, ?it/s]"
     ]
    },
    {
     "name": "stdout",
     "output_type": "stream",
     "text": [
      "\r",
      "Upgrading database; v1 -> v2:   0%|          | 0/1 [00:00<?, ?it/s]"
     ]
    },
    {
     "name": "stdout",
     "output_type": "stream",
     "text": [
      "\r",
      "Upgrading database; v1 -> v2: 100%|██████████| 1/1 [00:00<00:00, 451.63it/s]"
     ]
    },
    {
     "name": "stdout",
     "output_type": "stream",
     "text": [
      "\n",
      "\r",
      "0it [00:00, ?it/s]"
     ]
    },
    {
     "name": "stdout",
     "output_type": "stream",
     "text": [
      "\r",
      "Upgrading database; v2 -> v3: : 0it [00:00, ?it/s]"
     ]
    },
    {
     "name": "stdout",
     "output_type": "stream",
     "text": [
      "\r",
      "Upgrading database; v2 -> v3: : 0it [00:00, ?it/s]"
     ]
    },
    {
     "name": "stdout",
     "output_type": "stream",
     "text": [
      "\n",
      "\r",
      "0it [00:00, ?it/s]"
     ]
    },
    {
     "name": "stdout",
     "output_type": "stream",
     "text": [
      "\r",
      "Upgrading database; v3 -> v4: : 0it [00:00, ?it/s]"
     ]
    },
    {
     "name": "stdout",
     "output_type": "stream",
     "text": [
      "\r",
      "Upgrading database; v3 -> v4: : 0it [00:00, ?it/s]"
     ]
    },
    {
     "name": "stdout",
     "output_type": "stream",
     "text": [
      "\n",
      "\r",
      "  0%|          | 0/1 [00:00<?, ?it/s]"
     ]
    },
    {
     "name": "stdout",
     "output_type": "stream",
     "text": [
      "\r",
      "Upgrading database; v4 -> v5:   0%|          | 0/1 [00:00<?, ?it/s]"
     ]
    },
    {
     "name": "stdout",
     "output_type": "stream",
     "text": [
      "\r",
      "Upgrading database; v4 -> v5: 100%|██████████| 1/1 [00:00<00:00, 350.34it/s]"
     ]
    },
    {
     "name": "stdout",
     "output_type": "stream",
     "text": [
      "\n",
      "\r",
      "0it [00:00, ?it/s]"
     ]
    },
    {
     "name": "stdout",
     "output_type": "stream",
     "text": [
      "\r",
      "Upgrading database; v5 -> v6: : 0it [00:00, ?it/s]"
     ]
    },
    {
     "name": "stdout",
     "output_type": "stream",
     "text": [
      "\r",
      "Upgrading database; v5 -> v6: : 0it [00:00, ?it/s]"
     ]
    },
    {
     "name": "stdout",
     "output_type": "stream",
     "text": [
      "\n",
      "\r",
      "  0%|          | 0/1 [00:00<?, ?it/s]"
     ]
    },
    {
     "name": "stdout",
     "output_type": "stream",
     "text": [
      "\r",
      "Upgrading database; v6 -> v7:   0%|          | 0/1 [00:00<?, ?it/s]"
     ]
    },
    {
     "name": "stdout",
     "output_type": "stream",
     "text": [
      "\r",
      "Upgrading database; v6 -> v7: 100%|██████████| 1/1 [00:00<00:00, 123.63it/s]"
     ]
    },
    {
     "name": "stdout",
     "output_type": "stream",
     "text": [
      "\n",
      "\r",
      "  0%|          | 0/1 [00:00<?, ?it/s]"
     ]
    },
    {
     "name": "stdout",
     "output_type": "stream",
     "text": [
      "\r",
      "Upgrading database; v7 -> v8:   0%|          | 0/1 [00:00<?, ?it/s]"
     ]
    },
    {
     "name": "stdout",
     "output_type": "stream",
     "text": [
      "\r",
      "Upgrading database; v7 -> v8: 100%|██████████| 1/1 [00:00<00:00, 445.21it/s]"
     ]
    },
    {
     "name": "stdout",
     "output_type": "stream",
     "text": [
      "\n",
      "\r",
      "  0%|          | 0/1 [00:00<?, ?it/s]"
     ]
    },
    {
     "name": "stdout",
     "output_type": "stream",
     "text": [
      "\r",
      "Upgrading database; v8 -> v9:   0%|          | 0/1 [00:00<?, ?it/s]"
     ]
    },
    {
     "name": "stdout",
     "output_type": "stream",
     "text": [
      "\r",
      "Upgrading database; v8 -> v9: 100%|██████████| 1/1 [00:00<00:00, 558.05it/s]"
     ]
    },
    {
     "name": "stdout",
     "output_type": "stream",
     "text": [
      "\n"
     ]
    }
   ],
   "source": [
    "initialise_database()\n",
    "exp = load_or_create_experiment(experiment_name='tutorial_exp', sample_name=\"no sample\")"
   ]
  },
  {
   "cell_type": "markdown",
   "metadata": {},
   "source": [
    "Here, we define a simple function to benchmark the time it takes to insert n points with either numeric or array data type.\n",
    "We will compare both the time used to call ``add_result`` and the time used for the full measurement."
   ]
  },
  {
   "cell_type": "code",
   "execution_count": 4,
   "metadata": {
    "execution": {
     "iopub.execute_input": "2021-05-03T11:04:57.408325Z",
     "iopub.status.busy": "2021-05-03T11:04:57.406230Z",
     "iopub.status.idle": "2021-05-03T11:04:57.412723Z",
     "shell.execute_reply": "2021-05-03T11:04:57.411650Z"
    }
   },
   "outputs": [],
   "source": [
    "def insert_data(paramtype, npoints, nreps=1):\n",
    "\n",
    "    meas = Measurement(exp=exp)\n",
    "\n",
    "    x1 = ManualParameter('x1')\n",
    "    x2 = ManualParameter('x2')\n",
    "    x3 = ManualParameter('x3')\n",
    "    y1 = ManualParameter('y1')\n",
    "    y2 = ManualParameter('y2')\n",
    "\n",
    "    meas.register_parameter(x1, paramtype=paramtype)\n",
    "    meas.register_parameter(x2, paramtype=paramtype)\n",
    "    meas.register_parameter(x3, paramtype=paramtype)\n",
    "    meas.register_parameter(y1, setpoints=[x1, x2, x3],\n",
    "                            paramtype=paramtype)\n",
    "    meas.register_parameter(y2, setpoints=[x1, x2, x3],\n",
    "                            paramtype=paramtype)\n",
    "    start = time.perf_counter()\n",
    "    with meas.run() as datasaver:\n",
    "        start_adding = time.perf_counter()\n",
    "        for i in range(nreps):\n",
    "            datasaver.add_result((x1, np.random.rand(npoints)),\n",
    "                                 (x2, np.random.rand(npoints)),\n",
    "                                 (x3, np.random.rand(npoints)),\n",
    "                                 (y1, np.random.rand(npoints)),\n",
    "                                 (y2, np.random.rand(npoints)))\n",
    "        stop_adding = time.perf_counter()\n",
    "        run_id = datasaver.run_id\n",
    "    stop = time.perf_counter()\n",
    "    tot_time = stop - start\n",
    "    add_time = stop_adding - start_adding\n",
    "    return tot_time, add_time, run_id"
   ]
  },
  {
   "cell_type": "markdown",
   "metadata": {},
   "source": [
    "## Comparison between numeric/array data and binary blob"
   ]
  },
  {
   "cell_type": "markdown",
   "metadata": {},
   "source": [
    "### Case1: Short experiment time"
   ]
  },
  {
   "cell_type": "code",
   "execution_count": 5,
   "metadata": {
    "execution": {
     "iopub.execute_input": "2021-05-03T11:04:57.421272Z",
     "iopub.status.busy": "2021-05-03T11:04:57.420190Z",
     "iopub.status.idle": "2021-05-03T11:04:58.428004Z",
     "shell.execute_reply": "2021-05-03T11:04:58.427086Z"
    }
   },
   "outputs": [
    {
     "name": "stdout",
     "output_type": "stream",
     "text": [
      "Starting experimental run with id: 1. \n",
      "Starting experimental run with id: 2. \n",
      "Starting experimental run with id: 3. \n"
     ]
    },
    {
     "name": "stdout",
     "output_type": "stream",
     "text": [
      "Starting experimental run with id: 4. \n",
      "Starting experimental run with id: 5. \n"
     ]
    },
    {
     "name": "stdout",
     "output_type": "stream",
     "text": [
      "Starting experimental run with id: 6. \n",
      "Starting experimental run with id: 7. \n"
     ]
    },
    {
     "name": "stdout",
     "output_type": "stream",
     "text": [
      "Starting experimental run with id: 8. \n",
      "Starting experimental run with id: 9. \n"
     ]
    },
    {
     "name": "stdout",
     "output_type": "stream",
     "text": [
      "Starting experimental run with id: 10. \n",
      "Starting experimental run with id: 11. \n"
     ]
    },
    {
     "name": "stdout",
     "output_type": "stream",
     "text": [
      "Starting experimental run with id: 12. \n",
      "Starting experimental run with id: 13. \n"
     ]
    },
    {
     "name": "stdout",
     "output_type": "stream",
     "text": [
      "Starting experimental run with id: 14. \n"
     ]
    }
   ],
   "source": [
    "sizes = [1,500,1000,2000,3000,4000,5000]\n",
    "t_numeric = []\n",
    "t_numeric_add = []\n",
    "t_array = []\n",
    "t_array_add = []\n",
    "for size in sizes:\n",
    "    tn, tna, run_id_n =  insert_data('numeric', size)\n",
    "    t_numeric.append(tn)\n",
    "    t_numeric_add.append(tna)\n",
    "\n",
    "    ta, taa, run_id_a =  insert_data('array', size)\n",
    "    t_array.append(ta)\n",
    "    t_array_add.append(taa)"
   ]
  },
  {
   "cell_type": "code",
   "execution_count": 6,
   "metadata": {
    "execution": {
     "iopub.execute_input": "2021-05-03T11:04:58.463196Z",
     "iopub.status.busy": "2021-05-03T11:04:58.432898Z",
     "iopub.status.idle": "2021-05-03T11:04:58.733024Z",
     "shell.execute_reply": "2021-05-03T11:04:58.732421Z"
    }
   },
   "outputs": [
    {
     "data": {
      "image/png": "[encoded data removed]",
      "text/plain": [
       "<Figure size 640x480 with 1 Axes>"
      ]
     },
     "metadata": {},
     "output_type": "display_data"
    }
   ],
   "source": [
    "fig, ax = plt.subplots(1,1)\n",
    "ax.plot(sizes, t_numeric, 'o-', label='Inserting row-by-row')\n",
    "ax.plot(sizes, t_numeric_add, 'o-', label='Inserting row-by-row: add_result only')\n",
    "ax.plot(sizes, t_array, 'd-', label='Inserting as binary blob')\n",
    "ax.plot(sizes, t_array_add, 'd-', label='Inserting as binary blob: add_result only')\n",
    "ax.legend()\n",
    "ax.set_xlabel('Array length')\n",
    "ax.set_ylabel('Time (s)')\n",
    "fig.tight_layout()"
   ]
  },
  {
   "cell_type": "markdown",
   "metadata": {},
   "source": [
    "As shown in the latter figure, the time to setup and and close the experiment is approximately 0.4 sec. In case of small array sizes, the difference between inserting values of data as arrays and inserting them row-by-row is relatively unimportant. At larger array sizes, i.e. above 10000 points, the cost of writing data as individual datapoints starts to become important.\n"
   ]
  },
  {
   "cell_type": "markdown",
   "metadata": {},
   "source": [
    "### Case2: Long experiment time "
   ]
  },
  {
   "cell_type": "code",
   "execution_count": 7,
   "metadata": {
    "execution": {
     "iopub.execute_input": "2021-05-03T11:04:58.743550Z",
     "iopub.status.busy": "2021-05-03T11:04:58.742834Z",
     "iopub.status.idle": "2021-05-03T11:06:04.733473Z",
     "shell.execute_reply": "2021-05-03T11:06:04.734055Z"
    }
   },
   "outputs": [
    {
     "name": "stdout",
     "output_type": "stream",
     "text": [
      "Starting experimental run with id: 15. \n",
      "Starting experimental run with id: 16. \n"
     ]
    },
    {
     "name": "stdout",
     "output_type": "stream",
     "text": [
      "Starting experimental run with id: 17. \n"
     ]
    },
    {
     "name": "stdout",
     "output_type": "stream",
     "text": [
      "Starting experimental run with id: 18. \n"
     ]
    },
    {
     "name": "stdout",
     "output_type": "stream",
     "text": [
      "Starting experimental run with id: 19. \n"
     ]
    },
    {
     "name": "stdout",
     "output_type": "stream",
     "text": [
      "Starting experimental run with id: 20. \n"
     ]
    },
    {
     "name": "stdout",
     "output_type": "stream",
     "text": [
      "Starting experimental run with id: 21. \n"
     ]
    },
    {
     "name": "stdout",
     "output_type": "stream",
     "text": [
      "Starting experimental run with id: 22. \n"
     ]
    },
    {
     "name": "stdout",
     "output_type": "stream",
     "text": [
      "Starting experimental run with id: 23. \n"
     ]
    },
    {
     "name": "stdout",
     "output_type": "stream",
     "text": [
      "Starting experimental run with id: 24. \n"
     ]
    },
    {
     "name": "stdout",
     "output_type": "stream",
     "text": [
      "Starting experimental run with id: 25. \n"
     ]
    },
    {
     "name": "stdout",
     "output_type": "stream",
     "text": [
      "Starting experimental run with id: 26. \n"
     ]
    },
    {
     "name": "stdout",
     "output_type": "stream",
     "text": [
      "Starting experimental run with id: 27. \n"
     ]
    },
    {
     "name": "stdout",
     "output_type": "stream",
     "text": [
      "Starting experimental run with id: 28. \n"
     ]
    }
   ],
   "source": [
    "sizes = [1,500,1000,2000,3000,4000,5000]\n",
    "nreps = 100\n",
    "t_numeric = []\n",
    "t_numeric_add = []\n",
    "t_numeric_run_ids = []\n",
    "t_array = []\n",
    "t_array_add = []\n",
    "t_array_run_ids = []\n",
    "for size in sizes:\n",
    "    tn, tna, run_id_n =  insert_data('numeric', size, nreps=nreps)\n",
    "    t_numeric.append(tn)\n",
    "    t_numeric_add.append(tna)\n",
    "    t_numeric_run_ids.append(run_id_n)\n",
    "\n",
    "    ta, taa, run_id_a =  insert_data('array', size, nreps=nreps)\n",
    "    t_array.append(ta)\n",
    "    t_array_add.append(taa)\n",
    "    t_array_run_ids.append(run_id_a)"
   ]
  },
  {
   "cell_type": "code",
   "execution_count": 8,
   "metadata": {
    "execution": {
     "iopub.execute_input": "2021-05-03T11:06:04.771589Z",
     "iopub.status.busy": "2021-05-03T11:06:04.756512Z",
     "iopub.status.idle": "2021-05-03T11:06:05.028851Z",
     "shell.execute_reply": "2021-05-03T11:06:05.028297Z"
    },
    "scrolled": true
   },
   "outputs": [
    {
     "data": {
      "image/png": "[encoded data removed]",
      "text/plain": [
       "<Figure size 640x480 with 1 Axes>"
      ]
     },
     "metadata": {},
     "output_type": "display_data"
    }
   ],
   "source": [
    "fig, ax = plt.subplots(1,1)\n",
    "ax.plot(sizes, t_numeric, 'o-', label='Inserting row-by-row')\n",
    "ax.plot(sizes, t_numeric_add, 'o-', label='Inserting row-by-row: add_result only')\n",
    "ax.plot(sizes, t_array, 'd-', label='Inserting as binary blob')\n",
    "ax.plot(sizes, t_array_add, 'd-', label='Inserting as binary blob: add_result only')\n",
    "ax.legend()\n",
    "ax.set_xlabel('Array length')\n",
    "ax.set_ylabel('Time (s)')\n",
    "fig.tight_layout()"
   ]
  },
  {
   "cell_type": "markdown",
   "metadata": {},
   "source": [
    "However, as we increase the length of the experiment, as seen here by repeating the insertion 100 times, we see a big difference between inserting values of the data row-by-row and inserting it as a binary blob."
   ]
  },
  {
   "cell_type": "markdown",
   "metadata": {},
   "source": [
    "## Loading the data "
   ]
  },
  {
   "cell_type": "code",
   "execution_count": 9,
   "metadata": {
    "execution": {
     "iopub.execute_input": "2021-05-03T11:06:05.033741Z",
     "iopub.status.busy": "2021-05-03T11:06:05.033070Z",
     "iopub.status.idle": "2021-05-03T11:06:05.037308Z",
     "shell.execute_reply": "2021-05-03T11:06:05.036757Z"
    }
   },
   "outputs": [],
   "source": [
    "from qcodes.dataset.data_set import load_by_id"
   ]
  },
  {
   "cell_type": "markdown",
   "metadata": {},
   "source": [
    "As usual you can load the data by using the ``load_by_id`` function but you will notice that the different storage methods\n",
    "are reflected in shape of the data as it is retrieved. "
   ]
  },
  {
   "cell_type": "code",
   "execution_count": 10,
   "metadata": {
    "execution": {
     "iopub.execute_input": "2021-05-03T11:06:05.042525Z",
     "iopub.status.busy": "2021-05-03T11:06:05.041120Z",
     "iopub.status.idle": "2021-05-03T11:06:05.043321Z",
     "shell.execute_reply": "2021-05-03T11:06:05.043869Z"
    }
   },
   "outputs": [],
   "source": [
    "run_id_n = t_numeric_run_ids[0]\n",
    "run_id_a = t_array_run_ids[0]"
   ]
  },
  {
   "cell_type": "code",
   "execution_count": 11,
   "metadata": {
    "execution": {
     "iopub.execute_input": "2021-05-03T11:06:05.047916Z",
     "iopub.status.busy": "2021-05-03T11:06:05.047282Z",
     "iopub.status.idle": "2021-05-03T11:06:05.058697Z",
     "shell.execute_reply": "2021-05-03T11:06:05.059326Z"
    },
    "scrolled": true
   },
   "outputs": [
    {
     "data": {
      "text/plain": [
       "{'x1': {'x1': array([2.55187347e-02, 2.55187347e-02, 3.35751326e-01, 3.35751326e-01,\n",
       "         9.44677136e-01, 9.44677136e-01, 9.61167516e-01, 9.61167516e-01,\n",
       "         6.06623648e-01, 6.06623648e-01, 4.61951229e-02, 4.61951229e-02,\n",
       "         4.22115375e-01, 4.22115375e-01, 8.56803753e-03, 8.56803753e-03,\n",
       "         8.76057605e-01, 8.76057605e-01, 1.27727712e-01, 1.27727712e-01,\n",
       "         4.60846237e-01, 4.60846237e-01, 2.37091765e-01, 2.37091765e-01,\n",
       "         1.91694903e-01, 1.91694903e-01, 2.21261703e-01, 2.21261703e-01,\n",
       "         8.37213034e-01, 8.37213034e-01, 7.84135866e-01, 7.84135866e-01,\n",
       "         7.83504307e-01, 7.83504307e-01, 4.86299710e-01, 4.86299710e-01,\n",
       "         8.69941800e-01, 8.69941800e-01, 4.55056842e-01, 4.55056842e-01,\n",
       "         7.01936501e-02, 7.01936501e-02, 2.45508688e-01, 2.45508688e-01,\n",
       "         6.62809329e-01, 6.62809329e-01, 5.88368450e-01, 5.88368450e-01,\n",
       "         6.04479013e-01, 6.04479013e-01, 1.16886174e-01, 1.16886174e-01,\n",
       "         5.02292293e-01, 5.02292293e-01, 1.88903869e-01, 1.88903869e-01,\n",
       "         3.50213654e-01, 3.50213654e-01, 9.58909546e-01, 9.58909546e-01,\n",
       "         5.89534109e-02, 5.89534109e-02, 7.82298973e-01, 7.82298973e-01,\n",
       "         8.36484091e-01, 8.36484091e-01, 2.96187009e-01, 2.96187009e-01,\n",
       "         8.13994714e-01, 8.13994714e-01, 4.66962221e-01, 4.66962221e-01,\n",
       "         7.90893772e-01, 7.90893772e-01, 2.20503541e-01, 2.20503541e-01,\n",
       "         6.88817114e-01, 6.88817114e-01, 4.16512864e-01, 4.16512864e-01,\n",
       "         7.15713214e-01, 7.15713214e-01, 6.50312419e-01, 6.50312419e-01,\n",
       "         8.55970886e-01, 8.55970886e-01, 2.82948269e-01, 2.82948269e-01,\n",
       "         4.93294038e-01, 4.93294038e-01, 9.38737407e-01, 9.38737407e-01,\n",
       "         6.82004497e-01, 6.82004497e-01, 5.95984122e-01, 5.95984122e-01,\n",
       "         5.39109369e-01, 5.39109369e-01, 6.77087265e-01, 6.77087265e-01,\n",
       "         9.94375452e-02, 9.94375452e-02, 3.07017622e-01, 3.07017622e-01,\n",
       "         4.13511708e-01, 4.13511708e-01, 4.55451977e-01, 4.55451977e-01,\n",
       "         7.54977836e-01, 7.54977836e-01, 1.00232326e-01, 1.00232326e-01,\n",
       "         1.40636424e-01, 1.40636424e-01, 1.36136637e-01, 1.36136637e-01,\n",
       "         2.55938964e-01, 2.55938964e-01, 7.56802746e-01, 7.56802746e-01,\n",
       "         7.11341906e-01, 7.11341906e-01, 4.93034745e-01, 4.93034745e-01,\n",
       "         2.26464290e-01, 2.26464290e-01, 1.65287413e-01, 1.65287413e-01,\n",
       "         3.08774988e-01, 3.08774988e-01, 1.64236216e-01, 1.64236216e-01,\n",
       "         4.11195745e-01, 4.11195745e-01, 1.45462857e-01, 1.45462857e-01,\n",
       "         3.79425004e-01, 3.79425004e-01, 4.27355697e-01, 4.27355697e-01,\n",
       "         3.44439352e-01, 3.44439352e-01, 7.67315684e-01, 7.67315684e-01,\n",
       "         4.13059997e-01, 4.13059997e-01, 1.64339791e-01, 1.64339791e-01,\n",
       "         9.52389954e-01, 9.52389954e-01, 5.55212545e-01, 5.55212545e-01,\n",
       "         2.70196268e-01, 2.70196268e-01, 1.77712778e-01, 1.77712778e-01,\n",
       "         9.21965188e-01, 9.21965188e-01, 3.10849157e-01, 3.10849157e-01,\n",
       "         5.69316809e-01, 5.69316809e-01, 4.77677544e-04, 4.77677544e-04,\n",
       "         9.07856110e-01, 9.07856110e-01, 1.75710556e-01, 1.75710556e-01,\n",
       "         9.78427326e-01, 9.78427326e-01, 8.48929003e-01, 8.48929003e-01,\n",
       "         6.94116551e-01, 6.94116551e-01, 8.43218861e-01, 8.43218861e-01,\n",
       "         5.73360643e-01, 5.73360643e-01, 3.45475327e-01, 3.45475327e-01,\n",
       "         5.15662313e-01, 5.15662313e-01, 1.98196164e-01, 1.98196164e-01,\n",
       "         6.13210123e-01, 6.13210123e-01, 8.31183661e-01, 8.31183661e-01,\n",
       "         8.82849970e-01, 8.82849970e-01, 7.32435120e-01, 7.32435120e-01,\n",
       "         7.57722806e-01, 7.57722806e-01, 7.12981824e-01, 7.12981824e-01,\n",
       "         7.88641203e-01, 7.88641203e-01, 5.71785962e-01, 5.71785962e-01])}}"
      ]
     },
     "execution_count": 1,
     "metadata": {},
     "output_type": "execute_result"
    }
   ],
   "source": [
    "ds = load_by_id(run_id_n)\n",
    "ds.get_parameter_data('x1')"
   ]
  },
  {
   "cell_type": "markdown",
   "metadata": {},
   "source": [
    "And a dataset stored as binary arrays"
   ]
  },
  {
   "cell_type": "code",
   "execution_count": 12,
   "metadata": {
    "execution": {
     "iopub.execute_input": "2021-05-03T11:06:05.063382Z",
     "iopub.status.busy": "2021-05-03T11:06:05.062749Z",
     "iopub.status.idle": "2021-05-03T11:06:05.137900Z",
     "shell.execute_reply": "2021-05-03T11:06:05.138447Z"
    },
    "scrolled": true
   },
   "outputs": [
    {
     "data": {
      "text/plain": [
       "{'x1': {'x1': array([[0.67684751],\n",
       "         [0.67684751],\n",
       "         [0.33204333],\n",
       "         [0.33204333],\n",
       "         [0.15092968],\n",
       "         [0.15092968],\n",
       "         [0.8902343 ],\n",
       "         [0.8902343 ],\n",
       "         [0.37020121],\n",
       "         [0.37020121],\n",
       "         [0.76504683],\n",
       "         [0.76504683],\n",
       "         [0.22933906],\n",
       "         [0.22933906],\n",
       "         [0.84828891],\n",
       "         [0.84828891],\n",
       "         [0.90800745],\n",
       "         [0.90800745],\n",
       "         [0.01386372],\n",
       "         [0.01386372],\n",
       "         [0.18812481],\n",
       "         [0.18812481],\n",
       "         [0.89135518],\n",
       "         [0.89135518],\n",
       "         [0.0257227 ],\n",
       "         [0.0257227 ],\n",
       "         [0.2776282 ],\n",
       "         [0.2776282 ],\n",
       "         [0.19313387],\n",
       "         [0.19313387],\n",
       "         [0.40284527],\n",
       "         [0.40284527],\n",
       "         [0.95755486],\n",
       "         [0.95755486],\n",
       "         [0.69761006],\n",
       "         [0.69761006],\n",
       "         [0.05009752],\n",
       "         [0.05009752],\n",
       "         [0.57071124],\n",
       "         [0.57071124],\n",
       "         [0.43059439],\n",
       "         [0.43059439],\n",
       "         [0.31819431],\n",
       "         [0.31819431],\n",
       "         [0.54062423],\n",
       "         [0.54062423],\n",
       "         [0.42115512],\n",
       "         [0.42115512],\n",
       "         [0.90798909],\n",
       "         [0.90798909],\n",
       "         [0.32044645],\n",
       "         [0.32044645],\n",
       "         [0.26895486],\n",
       "         [0.26895486],\n",
       "         [0.03821533],\n",
       "         [0.03821533],\n",
       "         [0.12915701],\n",
       "         [0.12915701],\n",
       "         [0.9404962 ],\n",
       "         [0.9404962 ],\n",
       "         [0.22775513],\n",
       "         [0.22775513],\n",
       "         [0.41570258],\n",
       "         [0.41570258],\n",
       "         [0.9500091 ],\n",
       "         [0.9500091 ],\n",
       "         [0.29905571],\n",
       "         [0.29905571],\n",
       "         [0.41517279],\n",
       "         [0.41517279],\n",
       "         [0.97451941],\n",
       "         [0.97451941],\n",
       "         [0.43734331],\n",
       "         [0.43734331],\n",
       "         [0.90523102],\n",
       "         [0.90523102],\n",
       "         [0.8029011 ],\n",
       "         [0.8029011 ],\n",
       "         [0.75017632],\n",
       "         [0.75017632],\n",
       "         [0.80648441],\n",
       "         [0.80648441],\n",
       "         [0.47375305],\n",
       "         [0.47375305],\n",
       "         [0.92381335],\n",
       "         [0.92381335],\n",
       "         [0.95821994],\n",
       "         [0.95821994],\n",
       "         [0.88787035],\n",
       "         [0.88787035],\n",
       "         [0.03096177],\n",
       "         [0.03096177],\n",
       "         [0.78050266],\n",
       "         [0.78050266],\n",
       "         [0.71795577],\n",
       "         [0.71795577],\n",
       "         [0.39184458],\n",
       "         [0.39184458],\n",
       "         [0.35124776],\n",
       "         [0.35124776],\n",
       "         [0.78507122],\n",
       "         [0.78507122],\n",
       "         [0.48490612],\n",
       "         [0.48490612],\n",
       "         [0.72061596],\n",
       "         [0.72061596],\n",
       "         [0.85902796],\n",
       "         [0.85902796],\n",
       "         [0.90366169],\n",
       "         [0.90366169],\n",
       "         [0.76591482],\n",
       "         [0.76591482],\n",
       "         [0.80671   ],\n",
       "         [0.80671   ],\n",
       "         [0.96574847],\n",
       "         [0.96574847],\n",
       "         [0.6378625 ],\n",
       "         [0.6378625 ],\n",
       "         [0.11699696],\n",
       "         [0.11699696],\n",
       "         [0.06048567],\n",
       "         [0.06048567],\n",
       "         [0.46086407],\n",
       "         [0.46086407],\n",
       "         [0.08102372],\n",
       "         [0.08102372],\n",
       "         [0.26736545],\n",
       "         [0.26736545],\n",
       "         [0.41759947],\n",
       "         [0.41759947],\n",
       "         [0.85952564],\n",
       "         [0.85952564],\n",
       "         [0.89288778],\n",
       "         [0.89288778],\n",
       "         [0.00266425],\n",
       "         [0.00266425],\n",
       "         [0.33754895],\n",
       "         [0.33754895],\n",
       "         [0.65057687],\n",
       "         [0.65057687],\n",
       "         [0.60291598],\n",
       "         [0.60291598],\n",
       "         [0.9335249 ],\n",
       "         [0.9335249 ],\n",
       "         [0.57393025],\n",
       "         [0.57393025],\n",
       "         [0.35789942],\n",
       "         [0.35789942],\n",
       "         [0.9331027 ],\n",
       "         [0.9331027 ],\n",
       "         [0.04829991],\n",
       "         [0.04829991],\n",
       "         [0.19375956],\n",
       "         [0.19375956],\n",
       "         [0.14990686],\n",
       "         [0.14990686],\n",
       "         [0.67561723],\n",
       "         [0.67561723],\n",
       "         [0.67938495],\n",
       "         [0.67938495],\n",
       "         [0.77938523],\n",
       "         [0.77938523],\n",
       "         [0.23645676],\n",
       "         [0.23645676],\n",
       "         [0.05315112],\n",
       "         [0.05315112],\n",
       "         [0.83869858],\n",
       "         [0.83869858],\n",
       "         [0.36628537],\n",
       "         [0.36628537],\n",
       "         [0.43465789],\n",
       "         [0.43465789],\n",
       "         [0.30512016],\n",
       "         [0.30512016],\n",
       "         [0.47621747],\n",
       "         [0.47621747],\n",
       "         [0.14113459],\n",
       "         [0.14113459],\n",
       "         [0.85533171],\n",
       "         [0.85533171],\n",
       "         [0.59519142],\n",
       "         [0.59519142],\n",
       "         [0.24558679],\n",
       "         [0.24558679],\n",
       "         [0.27540767],\n",
       "         [0.27540767],\n",
       "         [0.87776095],\n",
       "         [0.87776095],\n",
       "         [0.6757128 ],\n",
       "         [0.6757128 ],\n",
       "         [0.72604045],\n",
       "         [0.72604045],\n",
       "         [0.14216882],\n",
       "         [0.14216882],\n",
       "         [0.69179332],\n",
       "         [0.69179332],\n",
       "         [0.11527629],\n",
       "         [0.11527629],\n",
       "         [0.6124925 ],\n",
       "         [0.6124925 ]])}}"
      ]
     },
     "execution_count": 1,
     "metadata": {},
     "output_type": "execute_result"
    }
   ],
   "source": [
    "ds = load_by_id(run_id_a)\n",
    "ds.get_parameter_data('x1')"
   ]
  },
  {
   "cell_type": "code",
   "execution_count": null,
   "metadata": {},
   "outputs": [],
   "source": []
  }
 ],
 "metadata": {
  "kernelspec": {
   "display_name": "Python 3",
   "language": "python",
   "name": "python3"
  },
  "language_info": {
   "codemirror_mode": {
    "name": "ipython",
    "version": 3
   },
   "file_extension": ".py",
   "mimetype": "text/x-python",
   "name": "python",
   "nbconvert_exporter": "python",
   "pygments_lexer": "ipython3",
   "version": "3.7.10"
  },
  "nbsphinx": {
   "timeout": 600
  },
  "toc": {
   "base_numbering": 1,
   "nav_menu": {},
   "number_sections": true,
   "sideBar": true,
   "skip_h1_title": false,
   "title_cell": "Table of Contents",
   "title_sidebar": "Contents",
   "toc_cell": false,
   "toc_position": {},
   "toc_section_display": true,
   "toc_window_display": false
  },
  "varInspector": {
   "cols": {
    "lenName": 16,
    "lenType": 16,
    "lenVar": 40
   },
   "kernels_config": {
    "python": {
     "delete_cmd_postfix": "",
     "delete_cmd_prefix": "del ",
     "library": "var_list.py",
     "varRefreshCmd": "print(var_dic_list())"
    },
    "r": {
     "delete_cmd_postfix": ") ",
     "delete_cmd_prefix": "rm(",
     "library": "var_list.r",
     "varRefreshCmd": "cat(var_dic_list()) "
    }
   },
   "types_to_exclude": [
    "module",
    "function",
    "builtin_function_or_method",
    "instance",
    "_Feature"
   ],
   "window_display": false
  }
 },
 "nbformat": 4,
 "nbformat_minor": 4
}
