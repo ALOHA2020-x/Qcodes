{
 "cells": [
  {
   "cell_type": "markdown",
   "metadata": {},
   "source": [
    "# DataSet Performance\n",
    "\n",
    "This notebook shows the trade-off between inserting data into a database row-by-row and as binary blobs. Inserting the data row-by-row means that we have direct access to all the data and may perform queries directly on the values of the data. On the other hand, as we shall see, this is much slower than inserting the data directly as binary blobs."
   ]
  },
  {
   "cell_type": "markdown",
   "metadata": {},
   "source": [
    "First, we choose a new location for the database to ensure that we don't add a bunch of benchmarking data to the default one."
   ]
  },
  {
   "cell_type": "code",
   "execution_count": 1,
   "metadata": {
    "execution": {
     "iopub.execute_input": "2021-01-11T09:45:39.203999Z",
     "iopub.status.busy": "2021-01-11T09:45:39.203418Z",
     "iopub.status.idle": "2021-01-11T09:45:40.259764Z",
     "shell.execute_reply": "2021-01-11T09:45:40.259116Z"
    }
   },
   "outputs": [
    {
     "name": "stdout",
     "output_type": "stream",
     "text": [
      "Logging hadn't been started.\n",
      "Activating auto-logging. Current session state plus future input saved.\n",
      "Filename       : /home/vsts/.qcodes/logs/command_history.log\n",
      "Mode           : append\n",
      "Output logging : True\n",
      "Raw input log  : False\n",
      "Timestamping   : True\n",
      "State          : active\n"
     ]
    },
    {
     "name": "stdout",
     "output_type": "stream",
     "text": [
      "Qcodes Logfile : /home/vsts/.qcodes/logs/210111-13265-qcodes.log\n"
     ]
    }
   ],
   "source": [
    "import os\n",
    "cwd = os.getcwd()\n",
    "import qcodes as qc\n",
    "qc.config[\"core\"][\"db_location\"] = os.path.join(cwd, 'testing.db')\n"
   ]
  },
  {
   "cell_type": "code",
   "execution_count": 2,
   "metadata": {
    "execution": {
     "iopub.execute_input": "2021-01-11T09:45:40.266327Z",
     "iopub.status.busy": "2021-01-11T09:45:40.265537Z",
     "iopub.status.idle": "2021-01-11T09:45:40.451682Z",
     "shell.execute_reply": "2021-01-11T09:45:40.450412Z"
    }
   },
   "outputs": [],
   "source": [
    "%matplotlib inline\n",
    "import time\n",
    "import matplotlib.pyplot as plt\n",
    "import numpy as np\n",
    "\n",
    "import qcodes as qc\n",
    "from qcodes.instrument.parameter import ManualParameter\n",
    "from qcodes.dataset.experiment_container import (Experiment,\n",
    "                                                 load_last_experiment,\n",
    "                                                 new_experiment)\n",
    "from qcodes.dataset.sqlite.database import initialise_database\n",
    "from qcodes import load_or_create_experiment\n",
    "from qcodes.dataset.measurements import Measurement"
   ]
  },
  {
   "cell_type": "code",
   "execution_count": 3,
   "metadata": {
    "execution": {
     "iopub.execute_input": "2021-01-11T09:45:40.455482Z",
     "iopub.status.busy": "2021-01-11T09:45:40.454957Z",
     "iopub.status.idle": "2021-01-11T09:45:40.565386Z",
     "shell.execute_reply": "2021-01-11T09:45:40.564814Z"
    }
   },
   "outputs": [
    {
     "name": "stdout",
     "output_type": "stream",
     "text": [
      "\r",
      "0it [00:00, ?it/s]"
     ]
    },
    {
     "name": "stdout",
     "output_type": "stream",
     "text": [
      "\r",
      "Upgrading database; v0 -> v1: : 0it [00:00, ?it/s]"
     ]
    },
    {
     "name": "stdout",
     "output_type": "stream",
     "text": [
      "\r",
      "Upgrading database; v0 -> v1: : 0it [00:00, ?it/s]"
     ]
    },
    {
     "name": "stdout",
     "output_type": "stream",
     "text": [
      "\n",
      "\r",
      "  0%|          | 0/1 [00:00<?, ?it/s]"
     ]
    },
    {
     "name": "stdout",
     "output_type": "stream",
     "text": [
      "\r",
      "Upgrading database; v1 -> v2:   0%|          | 0/1 [00:00<?, ?it/s]"
     ]
    },
    {
     "name": "stdout",
     "output_type": "stream",
     "text": [
      "\r",
      "Upgrading database; v1 -> v2: 100%|██████████| 1/1 [00:00<00:00, 978.83it/s]"
     ]
    },
    {
     "name": "stdout",
     "output_type": "stream",
     "text": [
      "\n",
      "\r",
      "0it [00:00, ?it/s]"
     ]
    },
    {
     "name": "stdout",
     "output_type": "stream",
     "text": [
      "\r",
      "Upgrading database; v2 -> v3: : 0it [00:00, ?it/s]"
     ]
    },
    {
     "name": "stdout",
     "output_type": "stream",
     "text": [
      "\r",
      "Upgrading database; v2 -> v3: : 0it [00:00, ?it/s]"
     ]
    },
    {
     "name": "stdout",
     "output_type": "stream",
     "text": [
      "\n",
      "\r",
      "0it [00:00, ?it/s]"
     ]
    },
    {
     "name": "stdout",
     "output_type": "stream",
     "text": [
      "\r",
      "Upgrading database; v3 -> v4: : 0it [00:00, ?it/s]"
     ]
    },
    {
     "name": "stdout",
     "output_type": "stream",
     "text": [
      "\r",
      "Upgrading database; v3 -> v4: : 0it [00:00, ?it/s]"
     ]
    },
    {
     "name": "stdout",
     "output_type": "stream",
     "text": [
      "\n",
      "\r",
      "  0%|          | 0/1 [00:00<?, ?it/s]"
     ]
    },
    {
     "name": "stdout",
     "output_type": "stream",
     "text": [
      "\r",
      "Upgrading database; v4 -> v5:   0%|          | 0/1 [00:00<?, ?it/s]"
     ]
    },
    {
     "name": "stdout",
     "output_type": "stream",
     "text": [
      "\r",
      "Upgrading database; v4 -> v5: 100%|██████████| 1/1 [00:00<00:00, 493.10it/s]"
     ]
    },
    {
     "name": "stdout",
     "output_type": "stream",
     "text": [
      "\n",
      "\r",
      "0it [00:00, ?it/s]"
     ]
    },
    {
     "name": "stdout",
     "output_type": "stream",
     "text": [
      "\r",
      "Upgrading database; v5 -> v6: : 0it [00:00, ?it/s]"
     ]
    },
    {
     "name": "stdout",
     "output_type": "stream",
     "text": [
      "\r",
      "Upgrading database; v5 -> v6: : 0it [00:00, ?it/s]"
     ]
    },
    {
     "name": "stdout",
     "output_type": "stream",
     "text": [
      "\n",
      "\r",
      "  0%|          | 0/1 [00:00<?, ?it/s]"
     ]
    },
    {
     "name": "stdout",
     "output_type": "stream",
     "text": [
      "\r",
      "Upgrading database; v6 -> v7:   0%|          | 0/1 [00:00<?, ?it/s]"
     ]
    },
    {
     "name": "stdout",
     "output_type": "stream",
     "text": [
      "\r",
      "Upgrading database; v6 -> v7: 100%|██████████| 1/1 [00:00<00:00, 280.50it/s]"
     ]
    },
    {
     "name": "stdout",
     "output_type": "stream",
     "text": [
      "\n",
      "\r",
      "  0%|          | 0/1 [00:00<?, ?it/s]"
     ]
    },
    {
     "name": "stdout",
     "output_type": "stream",
     "text": [
      "\r",
      "Upgrading database; v7 -> v8:   0%|          | 0/1 [00:00<?, ?it/s]"
     ]
    },
    {
     "name": "stdout",
     "output_type": "stream",
     "text": [
      "\r",
      "Upgrading database; v7 -> v8: 100%|██████████| 1/1 [00:00<00:00, 628.17it/s]"
     ]
    },
    {
     "name": "stdout",
     "output_type": "stream",
     "text": [
      "\n",
      "\r",
      "  0%|          | 0/1 [00:00<?, ?it/s]"
     ]
    },
    {
     "name": "stdout",
     "output_type": "stream",
     "text": [
      "\r",
      "Upgrading database; v8 -> v9:   0%|          | 0/1 [00:00<?, ?it/s]"
     ]
    },
    {
     "name": "stdout",
     "output_type": "stream",
     "text": [
      "\r",
      "Upgrading database; v8 -> v9: 100%|██████████| 1/1 [00:00<00:00, 600.47it/s]"
     ]
    },
    {
     "name": "stdout",
     "output_type": "stream",
     "text": [
      "\n"
     ]
    }
   ],
   "source": [
    "initialise_database()\n",
    "exp = load_or_create_experiment(experiment_name='tutorial_exp', sample_name=\"no sample\")"
   ]
  },
  {
   "cell_type": "markdown",
   "metadata": {},
   "source": [
    "Here, we define a simple function to benchmark the time it takes to insert n points with either numeric or array data type.\n",
    "We will compare both the time used to call ``add_result`` and the time used for the full measurement."
   ]
  },
  {
   "cell_type": "code",
   "execution_count": 4,
   "metadata": {
    "execution": {
     "iopub.execute_input": "2021-01-11T09:45:40.573771Z",
     "iopub.status.busy": "2021-01-11T09:45:40.573240Z",
     "iopub.status.idle": "2021-01-11T09:45:40.576319Z",
     "shell.execute_reply": "2021-01-11T09:45:40.576732Z"
    }
   },
   "outputs": [],
   "source": [
    "def insert_data(paramtype, npoints, nreps=1):\n",
    "\n",
    "    meas = Measurement(exp=exp)\n",
    "\n",
    "    x1 = ManualParameter('x1')\n",
    "    x2 = ManualParameter('x2')\n",
    "    x3 = ManualParameter('x3')\n",
    "    y1 = ManualParameter('y1')\n",
    "    y2 = ManualParameter('y2')\n",
    "\n",
    "    meas.register_parameter(x1, paramtype=paramtype)\n",
    "    meas.register_parameter(x2, paramtype=paramtype)\n",
    "    meas.register_parameter(x3, paramtype=paramtype)\n",
    "    meas.register_parameter(y1, setpoints=[x1, x2, x3],\n",
    "                            paramtype=paramtype)\n",
    "    meas.register_parameter(y2, setpoints=[x1, x2, x3],\n",
    "                            paramtype=paramtype)\n",
    "    start = time.perf_counter()\n",
    "    with meas.run() as datasaver:\n",
    "        start_adding = time.perf_counter()\n",
    "        for i in range(nreps):\n",
    "            datasaver.add_result((x1, np.random.rand(npoints)),\n",
    "                                 (x2, np.random.rand(npoints)),\n",
    "                                 (x3, np.random.rand(npoints)),\n",
    "                                 (y1, np.random.rand(npoints)),\n",
    "                                 (y2, np.random.rand(npoints)))\n",
    "        stop_adding = time.perf_counter()\n",
    "        run_id = datasaver.run_id\n",
    "    stop = time.perf_counter()\n",
    "    tot_time = stop - start\n",
    "    add_time = stop_adding - start_adding\n",
    "    return tot_time, add_time, run_id"
   ]
  },
  {
   "cell_type": "markdown",
   "metadata": {},
   "source": [
    "## Comparison between numeric/array data and binary blob"
   ]
  },
  {
   "cell_type": "markdown",
   "metadata": {},
   "source": [
    "### Case1: Short experiment time"
   ]
  },
  {
   "cell_type": "code",
   "execution_count": 5,
   "metadata": {
    "execution": {
     "iopub.execute_input": "2021-01-11T09:45:40.583397Z",
     "iopub.status.busy": "2021-01-11T09:45:40.582773Z",
     "iopub.status.idle": "2021-01-11T09:45:41.373670Z",
     "shell.execute_reply": "2021-01-11T09:45:41.373088Z"
    }
   },
   "outputs": [
    {
     "name": "stdout",
     "output_type": "stream",
     "text": [
      "Starting experimental run with id: 1. \n",
      "Starting experimental run with id: 2. \n",
      "Starting experimental run with id: 3. \n",
      "Starting experimental run with id: 4. \n",
      "Starting experimental run with id: 5. \n"
     ]
    },
    {
     "name": "stdout",
     "output_type": "stream",
     "text": [
      "Starting experimental run with id: 6. \n"
     ]
    },
    {
     "name": "stdout",
     "output_type": "stream",
     "text": [
      "Starting experimental run with id: 7. \n"
     ]
    },
    {
     "name": "stdout",
     "output_type": "stream",
     "text": [
      "Starting experimental run with id: 8. \n",
      "Starting experimental run with id: 9. \n"
     ]
    },
    {
     "name": "stdout",
     "output_type": "stream",
     "text": [
      "Starting experimental run with id: 10. \n",
      "Starting experimental run with id: 11. \n"
     ]
    },
    {
     "name": "stdout",
     "output_type": "stream",
     "text": [
      "Starting experimental run with id: 12. \n",
      "Starting experimental run with id: 13. \n"
     ]
    },
    {
     "name": "stdout",
     "output_type": "stream",
     "text": [
      "Starting experimental run with id: 14. \n"
     ]
    }
   ],
   "source": [
    "sizes = [1,500,1000,2000,3000,4000,5000]\n",
    "t_numeric = []\n",
    "t_numeric_add = []\n",
    "t_array = []\n",
    "t_array_add = []\n",
    "for size in sizes:\n",
    "    tn, tna, run_id_n =  insert_data('numeric', size)\n",
    "    t_numeric.append(tn)\n",
    "    t_numeric_add.append(tna)\n",
    "\n",
    "    ta, taa, run_id_a =  insert_data('array', size)\n",
    "    t_array.append(ta)\n",
    "    t_array_add.append(taa)"
   ]
  },
  {
   "cell_type": "code",
   "execution_count": 6,
   "metadata": {
    "execution": {
     "iopub.execute_input": "2021-01-11T09:45:41.390893Z",
     "iopub.status.busy": "2021-01-11T09:45:41.383865Z",
     "iopub.status.idle": "2021-01-11T09:45:41.567687Z",
     "shell.execute_reply": "2021-01-11T09:45:41.568465Z"
    }
   },
   "outputs": [
    {
     "data": {
      "image/png": "[encoded data removed]",
      "text/plain": [
       "<Figure size 432x288 with 1 Axes>"
      ]
     },
     "metadata": {
      "needs_background": "light"
     },
     "output_type": "display_data"
    }
   ],
   "source": [
    "fig, ax = plt.subplots(1,1)\n",
    "ax.plot(sizes, t_numeric, 'o-', label='Inserting row-by-row')\n",
    "ax.plot(sizes, t_numeric_add, 'o-', label='Inserting row-by-row: add_result only')\n",
    "ax.plot(sizes, t_array, 'd-', label='Inserting as binary blob')\n",
    "ax.plot(sizes, t_array_add, 'd-', label='Inserting as binary blob: add_result only')\n",
    "ax.legend()\n",
    "ax.set_xlabel('Array length')\n",
    "ax.set_ylabel('Time (s)')\n",
    "fig.tight_layout()"
   ]
  },
  {
   "cell_type": "markdown",
   "metadata": {},
   "source": [
    "As shown in the latter figure, the time to setup and and close the experiment is approximately 0.4 sec. In case of small array sizes, the difference between inserting values of data as arrays and inserting them row-by-row is relatively unimportant. At larger array sizes, i.e. above 10000 points, the cost of writing data as individual datapoints starts to become important.\n"
   ]
  },
  {
   "cell_type": "markdown",
   "metadata": {},
   "source": [
    "### Case2: Long experiment time "
   ]
  },
  {
   "cell_type": "code",
   "execution_count": 7,
   "metadata": {
    "execution": {
     "iopub.execute_input": "2021-01-11T09:45:41.572027Z",
     "iopub.status.busy": "2021-01-11T09:45:41.570965Z",
     "iopub.status.idle": "2021-01-11T09:46:40.355838Z",
     "shell.execute_reply": "2021-01-11T09:46:40.354262Z"
    }
   },
   "outputs": [
    {
     "name": "stdout",
     "output_type": "stream",
     "text": [
      "Starting experimental run with id: 15. \n",
      "Starting experimental run with id: 16. \n",
      "Starting experimental run with id: 17. \n"
     ]
    },
    {
     "name": "stdout",
     "output_type": "stream",
     "text": [
      "Starting experimental run with id: 18. \n",
      "Starting experimental run with id: 19. \n"
     ]
    },
    {
     "name": "stdout",
     "output_type": "stream",
     "text": [
      "Starting experimental run with id: 20. \n"
     ]
    },
    {
     "name": "stdout",
     "output_type": "stream",
     "text": [
      "Starting experimental run with id: 21. \n"
     ]
    },
    {
     "name": "stdout",
     "output_type": "stream",
     "text": [
      "Starting experimental run with id: 22. \n"
     ]
    },
    {
     "name": "stdout",
     "output_type": "stream",
     "text": [
      "Starting experimental run with id: 23. \n"
     ]
    },
    {
     "name": "stdout",
     "output_type": "stream",
     "text": [
      "Starting experimental run with id: 24. \n"
     ]
    },
    {
     "name": "stdout",
     "output_type": "stream",
     "text": [
      "Starting experimental run with id: 25. \n"
     ]
    },
    {
     "name": "stdout",
     "output_type": "stream",
     "text": [
      "Starting experimental run with id: 26. \n"
     ]
    },
    {
     "name": "stdout",
     "output_type": "stream",
     "text": [
      "Starting experimental run with id: 27. \n"
     ]
    },
    {
     "name": "stdout",
     "output_type": "stream",
     "text": [
      "Starting experimental run with id: 28. \n"
     ]
    }
   ],
   "source": [
    "sizes = [1,500,1000,2000,3000,4000,5000]\n",
    "nreps = 100\n",
    "t_numeric = []\n",
    "t_numeric_add = []\n",
    "t_numeric_run_ids = []\n",
    "t_array = []\n",
    "t_array_add = []\n",
    "t_array_run_ids = []\n",
    "for size in sizes:\n",
    "    tn, tna, run_id_n =  insert_data('numeric', size, nreps=nreps)\n",
    "    t_numeric.append(tn)\n",
    "    t_numeric_add.append(tna)\n",
    "    t_numeric_run_ids.append(run_id_n)\n",
    "\n",
    "    ta, taa, run_id_a =  insert_data('array', size, nreps=nreps)\n",
    "    t_array.append(ta)\n",
    "    t_array_add.append(taa)\n",
    "    t_array_run_ids.append(run_id_a)"
   ]
  },
  {
   "cell_type": "code",
   "execution_count": 8,
   "metadata": {
    "execution": {
     "iopub.execute_input": "2021-01-11T09:46:40.394270Z",
     "iopub.status.busy": "2021-01-11T09:46:40.384660Z",
     "iopub.status.idle": "2021-01-11T09:46:40.554609Z",
     "shell.execute_reply": "2021-01-11T09:46:40.555373Z"
    },
    "scrolled": true
   },
   "outputs": [
    {
     "data": {
      "image/png": "[encoded data removed]",
      "text/plain": [
       "<Figure size 432x288 with 1 Axes>"
      ]
     },
     "metadata": {
      "needs_background": "light"
     },
     "output_type": "display_data"
    }
   ],
   "source": [
    "fig, ax = plt.subplots(1,1)\n",
    "ax.plot(sizes, t_numeric, 'o-', label='Inserting row-by-row')\n",
    "ax.plot(sizes, t_numeric_add, 'o-', label='Inserting row-by-row: add_result only')\n",
    "ax.plot(sizes, t_array, 'd-', label='Inserting as binary blob')\n",
    "ax.plot(sizes, t_array_add, 'd-', label='Inserting as binary blob: add_result only')\n",
    "ax.legend()\n",
    "ax.set_xlabel('Array length')\n",
    "ax.set_ylabel('Time (s)')\n",
    "fig.tight_layout()"
   ]
  },
  {
   "cell_type": "markdown",
   "metadata": {},
   "source": [
    "However, as we increase the length of the experiment, as seen here by repeating the insertion 100 times, we see a big difference between inserting values of the data row-by-row and inserting it as a binary blob."
   ]
  },
  {
   "cell_type": "markdown",
   "metadata": {},
   "source": [
    "## Loading the data "
   ]
  },
  {
   "cell_type": "code",
   "execution_count": 9,
   "metadata": {
    "execution": {
     "iopub.execute_input": "2021-01-11T09:46:40.560030Z",
     "iopub.status.busy": "2021-01-11T09:46:40.558101Z",
     "iopub.status.idle": "2021-01-11T09:46:40.563251Z",
     "shell.execute_reply": "2021-01-11T09:46:40.563789Z"
    }
   },
   "outputs": [],
   "source": [
    "from qcodes.dataset.data_set import load_by_id\n",
    "from qcodes.dataset.data_export import get_data_by_id"
   ]
  },
  {
   "cell_type": "markdown",
   "metadata": {},
   "source": [
    "As usual you can load the data by using the ``load_by_id`` function but you will notice that the different storage methods\n",
    "are reflected in shape of the data as it is retrieved. "
   ]
  },
  {
   "cell_type": "code",
   "execution_count": 10,
   "metadata": {
    "execution": {
     "iopub.execute_input": "2021-01-11T09:46:40.568162Z",
     "iopub.status.busy": "2021-01-11T09:46:40.567011Z",
     "iopub.status.idle": "2021-01-11T09:46:40.568698Z",
     "shell.execute_reply": "2021-01-11T09:46:40.569187Z"
    }
   },
   "outputs": [],
   "source": [
    "run_id_n = t_numeric_run_ids[0]\n",
    "run_id_a = t_array_run_ids[0]"
   ]
  },
  {
   "cell_type": "code",
   "execution_count": 11,
   "metadata": {
    "execution": {
     "iopub.execute_input": "2021-01-11T09:46:40.572288Z",
     "iopub.status.busy": "2021-01-11T09:46:40.571733Z",
     "iopub.status.idle": "2021-01-11T09:46:40.580939Z",
     "shell.execute_reply": "2021-01-11T09:46:40.580389Z"
    },
    "scrolled": true
   },
   "outputs": [
    {
     "data": {
      "text/plain": [
       "{'x1': {'x1': array([0.32973414, 0.32973414, 0.23150736, 0.23150736, 0.66987006,\n",
       "         0.66987006, 0.35582547, 0.35582547, 0.47910718, 0.47910718,\n",
       "         0.92179264, 0.92179264, 0.8643882 , 0.8643882 , 0.19713076,\n",
       "         0.19713076, 0.87814636, 0.87814636, 0.75704494, 0.75704494,\n",
       "         0.95666273, 0.95666273, 0.30197086, 0.30197086, 0.4942445 ,\n",
       "         0.4942445 , 0.3481765 , 0.3481765 , 0.39278957, 0.39278957,\n",
       "         0.37299707, 0.37299707, 0.69902436, 0.69902436, 0.13894272,\n",
       "         0.13894272, 0.89330181, 0.89330181, 0.86976184, 0.86976184,\n",
       "         0.07436319, 0.07436319, 0.13166824, 0.13166824, 0.79388187,\n",
       "         0.79388187, 0.06968878, 0.06968878, 0.68055516, 0.68055516,\n",
       "         0.67568818, 0.67568818, 0.61208775, 0.61208775, 0.9193794 ,\n",
       "         0.9193794 , 0.87953183, 0.87953183, 0.0261369 , 0.0261369 ,\n",
       "         0.71177611, 0.71177611, 0.53157213, 0.53157213, 0.31838192,\n",
       "         0.31838192, 0.68214016, 0.68214016, 0.73079172, 0.73079172,\n",
       "         0.11782979, 0.11782979, 0.7679011 , 0.7679011 , 0.53322908,\n",
       "         0.53322908, 0.25520611, 0.25520611, 0.15730487, 0.15730487,\n",
       "         0.16561318, 0.16561318, 0.49147016, 0.49147016, 0.26953591,\n",
       "         0.26953591, 0.47539494, 0.47539494, 0.2655042 , 0.2655042 ,\n",
       "         0.47585914, 0.47585914, 0.76670481, 0.76670481, 0.06606486,\n",
       "         0.06606486, 0.69643795, 0.69643795, 0.61587138, 0.61587138,\n",
       "         0.25927536, 0.25927536, 0.87895674, 0.87895674, 0.19418575,\n",
       "         0.19418575, 0.45432869, 0.45432869, 0.4165937 , 0.4165937 ,\n",
       "         0.76803351, 0.76803351, 0.4362827 , 0.4362827 , 0.30987996,\n",
       "         0.30987996, 0.12473354, 0.12473354, 0.1805653 , 0.1805653 ,\n",
       "         0.77716395, 0.77716395, 0.012939  , 0.012939  , 0.65678292,\n",
       "         0.65678292, 0.07506483, 0.07506483, 0.93539309, 0.93539309,\n",
       "         0.24654274, 0.24654274, 0.52755689, 0.52755689, 0.16538915,\n",
       "         0.16538915, 0.11965988, 0.11965988, 0.03788633, 0.03788633,\n",
       "         0.65030377, 0.65030377, 0.56938092, 0.56938092, 0.93419388,\n",
       "         0.93419388, 0.99469421, 0.99469421, 0.45561662, 0.45561662,\n",
       "         0.28076001, 0.28076001, 0.37604971, 0.37604971, 0.86732721,\n",
       "         0.86732721, 0.51224719, 0.51224719, 0.04993394, 0.04993394,\n",
       "         0.50532072, 0.50532072, 0.05675324, 0.05675324, 0.83709477,\n",
       "         0.83709477, 0.91702688, 0.91702688, 0.11104436, 0.11104436,\n",
       "         0.72092283, 0.72092283, 0.42894333, 0.42894333, 0.44849115,\n",
       "         0.44849115, 0.91285611, 0.91285611, 0.17810771, 0.17810771,\n",
       "         0.29693634, 0.29693634, 0.64311962, 0.64311962, 0.06242788,\n",
       "         0.06242788, 0.61945464, 0.61945464, 0.20215806, 0.20215806,\n",
       "         0.09823302, 0.09823302, 0.54137663, 0.54137663, 0.83741619,\n",
       "         0.83741619, 0.66287736, 0.66287736, 0.63452757, 0.63452757])}}"
      ]
     },
     "execution_count": 1,
     "metadata": {},
     "output_type": "execute_result"
    }
   ],
   "source": [
    "ds = load_by_id(run_id_n)\n",
    "ds.get_parameter_data('x1')"
   ]
  },
  {
   "cell_type": "markdown",
   "metadata": {},
   "source": [
    "And a dataset stored as binary arrays"
   ]
  },
  {
   "cell_type": "code",
   "execution_count": 12,
   "metadata": {
    "execution": {
     "iopub.execute_input": "2021-01-11T09:46:40.584065Z",
     "iopub.status.busy": "2021-01-11T09:46:40.583542Z",
     "iopub.status.idle": "2021-01-11T09:46:40.637964Z",
     "shell.execute_reply": "2021-01-11T09:46:40.638894Z"
    },
    "scrolled": true
   },
   "outputs": [
    {
     "data": {
      "text/plain": [
       "{'x1': {'x1': array([[0.87507128],\n",
       "         [0.87507128],\n",
       "         [0.55304335],\n",
       "         [0.55304335],\n",
       "         [0.49419594],\n",
       "         [0.49419594],\n",
       "         [0.27343305],\n",
       "         [0.27343305],\n",
       "         [0.20545319],\n",
       "         [0.20545319],\n",
       "         [0.8159864 ],\n",
       "         [0.8159864 ],\n",
       "         [0.31763522],\n",
       "         [0.31763522],\n",
       "         [0.71318452],\n",
       "         [0.71318452],\n",
       "         [0.65713733],\n",
       "         [0.65713733],\n",
       "         [0.93325352],\n",
       "         [0.93325352],\n",
       "         [0.29620735],\n",
       "         [0.29620735],\n",
       "         [0.62589723],\n",
       "         [0.62589723],\n",
       "         [0.61482941],\n",
       "         [0.61482941],\n",
       "         [0.30785733],\n",
       "         [0.30785733],\n",
       "         [0.63968014],\n",
       "         [0.63968014],\n",
       "         [0.78162409],\n",
       "         [0.78162409],\n",
       "         [0.38992912],\n",
       "         [0.38992912],\n",
       "         [0.40962193],\n",
       "         [0.40962193],\n",
       "         [0.62921032],\n",
       "         [0.62921032],\n",
       "         [0.85895935],\n",
       "         [0.85895935],\n",
       "         [0.81687165],\n",
       "         [0.81687165],\n",
       "         [0.47907086],\n",
       "         [0.47907086],\n",
       "         [0.16529039],\n",
       "         [0.16529039],\n",
       "         [0.43866325],\n",
       "         [0.43866325],\n",
       "         [0.79127018],\n",
       "         [0.79127018],\n",
       "         [0.40968393],\n",
       "         [0.40968393],\n",
       "         [0.28769608],\n",
       "         [0.28769608],\n",
       "         [0.60676916],\n",
       "         [0.60676916],\n",
       "         [0.30335296],\n",
       "         [0.30335296],\n",
       "         [0.58166481],\n",
       "         [0.58166481],\n",
       "         [0.36960216],\n",
       "         [0.36960216],\n",
       "         [0.62338255],\n",
       "         [0.62338255],\n",
       "         [0.00932968],\n",
       "         [0.00932968],\n",
       "         [0.42241055],\n",
       "         [0.42241055],\n",
       "         [0.95710161],\n",
       "         [0.95710161],\n",
       "         [0.36345526],\n",
       "         [0.36345526],\n",
       "         [0.25779692],\n",
       "         [0.25779692],\n",
       "         [0.42787586],\n",
       "         [0.42787586],\n",
       "         [0.59133534],\n",
       "         [0.59133534],\n",
       "         [0.10569479],\n",
       "         [0.10569479],\n",
       "         [0.75177316],\n",
       "         [0.75177316],\n",
       "         [0.55814979],\n",
       "         [0.55814979],\n",
       "         [0.68705082],\n",
       "         [0.68705082],\n",
       "         [0.97440988],\n",
       "         [0.97440988],\n",
       "         [0.82784624],\n",
       "         [0.82784624],\n",
       "         [0.29879719],\n",
       "         [0.29879719],\n",
       "         [0.80139866],\n",
       "         [0.80139866],\n",
       "         [0.41563179],\n",
       "         [0.41563179],\n",
       "         [0.97471572],\n",
       "         [0.97471572],\n",
       "         [0.90241248],\n",
       "         [0.90241248],\n",
       "         [0.09734209],\n",
       "         [0.09734209],\n",
       "         [0.12365473],\n",
       "         [0.12365473],\n",
       "         [0.26734485],\n",
       "         [0.26734485],\n",
       "         [0.13823635],\n",
       "         [0.13823635],\n",
       "         [0.29072763],\n",
       "         [0.29072763],\n",
       "         [0.70041593],\n",
       "         [0.70041593],\n",
       "         [0.90838491],\n",
       "         [0.90838491],\n",
       "         [0.1216185 ],\n",
       "         [0.1216185 ],\n",
       "         [0.47928551],\n",
       "         [0.47928551],\n",
       "         [0.9390168 ],\n",
       "         [0.9390168 ],\n",
       "         [0.36115577],\n",
       "         [0.36115577],\n",
       "         [0.67163529],\n",
       "         [0.67163529],\n",
       "         [0.97574096],\n",
       "         [0.97574096],\n",
       "         [0.58198242],\n",
       "         [0.58198242],\n",
       "         [0.2392718 ],\n",
       "         [0.2392718 ],\n",
       "         [0.80702273],\n",
       "         [0.80702273],\n",
       "         [0.45867768],\n",
       "         [0.45867768],\n",
       "         [0.44220961],\n",
       "         [0.44220961],\n",
       "         [0.02941859],\n",
       "         [0.02941859],\n",
       "         [0.5870663 ],\n",
       "         [0.5870663 ],\n",
       "         [0.1662166 ],\n",
       "         [0.1662166 ],\n",
       "         [0.34511138],\n",
       "         [0.34511138],\n",
       "         [0.06941823],\n",
       "         [0.06941823],\n",
       "         [0.42820693],\n",
       "         [0.42820693],\n",
       "         [0.52945382],\n",
       "         [0.52945382],\n",
       "         [0.64202035],\n",
       "         [0.64202035],\n",
       "         [0.8530232 ],\n",
       "         [0.8530232 ],\n",
       "         [0.33961941],\n",
       "         [0.33961941],\n",
       "         [0.41446987],\n",
       "         [0.41446987],\n",
       "         [0.76699432],\n",
       "         [0.76699432],\n",
       "         [0.19450114],\n",
       "         [0.19450114],\n",
       "         [0.87165868],\n",
       "         [0.87165868],\n",
       "         [0.98888896],\n",
       "         [0.98888896],\n",
       "         [0.39267821],\n",
       "         [0.39267821],\n",
       "         [0.02224688],\n",
       "         [0.02224688],\n",
       "         [0.94796868],\n",
       "         [0.94796868],\n",
       "         [0.37747165],\n",
       "         [0.37747165],\n",
       "         [0.82103216],\n",
       "         [0.82103216],\n",
       "         [0.80620379],\n",
       "         [0.80620379],\n",
       "         [0.34038683],\n",
       "         [0.34038683],\n",
       "         [0.75614209],\n",
       "         [0.75614209],\n",
       "         [0.68411686],\n",
       "         [0.68411686],\n",
       "         [0.88466745],\n",
       "         [0.88466745],\n",
       "         [0.90411317],\n",
       "         [0.90411317],\n",
       "         [0.53452681],\n",
       "         [0.53452681],\n",
       "         [0.59977016],\n",
       "         [0.59977016],\n",
       "         [0.13565973],\n",
       "         [0.13565973],\n",
       "         [0.17442223],\n",
       "         [0.17442223],\n",
       "         [0.66389726],\n",
       "         [0.66389726],\n",
       "         [0.89084559],\n",
       "         [0.89084559]])}}"
      ]
     },
     "execution_count": 1,
     "metadata": {},
     "output_type": "execute_result"
    }
   ],
   "source": [
    "ds = load_by_id(run_id_a)\n",
    "ds.get_parameter_data('x1')"
   ]
  },
  {
   "cell_type": "code",
   "execution_count": null,
   "metadata": {},
   "outputs": [],
   "source": []
  }
 ],
 "metadata": {
  "kernelspec": {
   "display_name": "Python 3",
   "language": "python",
   "name": "python3"
  },
  "language_info": {
   "codemirror_mode": {
    "name": "ipython",
    "version": 3
   },
   "file_extension": ".py",
   "mimetype": "text/x-python",
   "name": "python",
   "nbconvert_exporter": "python",
   "pygments_lexer": "ipython3",
   "version": "3.7.9"
  },
  "nbsphinx": {
   "timeout": 600
  },
  "toc": {
   "base_numbering": 1,
   "nav_menu": {},
   "number_sections": true,
   "sideBar": true,
   "skip_h1_title": false,
   "title_cell": "Table of Contents",
   "title_sidebar": "Contents",
   "toc_cell": false,
   "toc_position": {},
   "toc_section_display": true,
   "toc_window_display": false
  },
  "varInspector": {
   "cols": {
    "lenName": 16,
    "lenType": 16,
    "lenVar": 40
   },
   "kernels_config": {
    "python": {
     "delete_cmd_postfix": "",
     "delete_cmd_prefix": "del ",
     "library": "var_list.py",
     "varRefreshCmd": "print(var_dic_list())"
    },
    "r": {
     "delete_cmd_postfix": ") ",
     "delete_cmd_prefix": "rm(",
     "library": "var_list.r",
     "varRefreshCmd": "cat(var_dic_list()) "
    }
   },
   "types_to_exclude": [
    "module",
    "function",
    "builtin_function_or_method",
    "instance",
    "_Feature"
   ],
   "window_display": false
  }
 },
 "nbformat": 4,
 "nbformat_minor": 2
}
