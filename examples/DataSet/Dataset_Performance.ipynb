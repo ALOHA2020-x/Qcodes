{
 "cells": [
  {
   "cell_type": "markdown",
   "metadata": {},
   "source": [
    "# DataSet Performance\n",
    "\n",
    "This notebook shows the trade-off between inserting data into a database row-by-row and as binary blobs. Inserting the data row-by-row means that we have direct access to all the data and may perform queries directly on the values of the data. On the other hand, as we shall see, this is much slower than inserting the data directly as binary blobs."
   ]
  },
  {
   "cell_type": "markdown",
   "metadata": {},
   "source": [
    "First, we choose a new location for the database to ensure that we don't add a bunch of benchmarking data to the default one."
   ]
  },
  {
   "cell_type": "code",
   "execution_count": 1,
   "metadata": {
    "execution": {
     "iopub.execute_input": "2021-02-15T07:55:33.559092Z",
     "iopub.status.busy": "2021-02-15T07:55:33.558428Z",
     "iopub.status.idle": "2021-02-15T07:55:34.574880Z",
     "shell.execute_reply": "2021-02-15T07:55:34.574189Z"
    }
   },
   "outputs": [
    {
     "name": "stdout",
     "output_type": "stream",
     "text": [
      "Logging hadn't been started.\n",
      "Activating auto-logging. Current session state plus future input saved.\n",
      "Filename       : /home/runner/.qcodes/logs/command_history.log\n",
      "Mode           : append\n",
      "Output logging : True\n",
      "Raw input log  : False\n",
      "Timestamping   : True\n",
      "State          : active\n"
     ]
    },
    {
     "name": "stdout",
     "output_type": "stream",
     "text": [
      "Qcodes Logfile : /home/runner/.qcodes/logs/210215-3831-qcodes.log\n"
     ]
    }
   ],
   "source": [
    "import os\n",
    "cwd = os.getcwd()\n",
    "import qcodes as qc\n",
    "qc.config[\"core\"][\"db_location\"] = os.path.join(cwd, 'testing.db')\n"
   ]
  },
  {
   "cell_type": "code",
   "execution_count": 2,
   "metadata": {
    "execution": {
     "iopub.execute_input": "2021-02-15T07:55:34.582546Z",
     "iopub.status.busy": "2021-02-15T07:55:34.581278Z",
     "iopub.status.idle": "2021-02-15T07:55:34.802704Z",
     "shell.execute_reply": "2021-02-15T07:55:34.802116Z"
    }
   },
   "outputs": [],
   "source": [
    "%matplotlib inline\n",
    "import time\n",
    "import matplotlib.pyplot as plt\n",
    "import numpy as np\n",
    "\n",
    "import qcodes as qc\n",
    "from qcodes.instrument.parameter import ManualParameter\n",
    "from qcodes.dataset.experiment_container import (Experiment,\n",
    "                                                 load_last_experiment,\n",
    "                                                 new_experiment)\n",
    "from qcodes.dataset.sqlite.database import initialise_database\n",
    "from qcodes import load_or_create_experiment\n",
    "from qcodes.dataset.measurements import Measurement"
   ]
  },
  {
   "cell_type": "code",
   "execution_count": 3,
   "metadata": {
    "execution": {
     "iopub.execute_input": "2021-02-15T07:55:34.807686Z",
     "iopub.status.busy": "2021-02-15T07:55:34.806889Z",
     "iopub.status.idle": "2021-02-15T07:55:34.940162Z",
     "shell.execute_reply": "2021-02-15T07:55:34.940686Z"
    }
   },
   "outputs": [
    {
     "name": "stdout",
     "output_type": "stream",
     "text": [
      "\r",
      "0it [00:00, ?it/s]"
     ]
    },
    {
     "name": "stdout",
     "output_type": "stream",
     "text": [
      "\r",
      "Upgrading database; v0 -> v1: : 0it [00:00, ?it/s]"
     ]
    },
    {
     "name": "stdout",
     "output_type": "stream",
     "text": [
      "\r",
      "Upgrading database; v0 -> v1: : 0it [00:00, ?it/s]"
     ]
    },
    {
     "name": "stdout",
     "output_type": "stream",
     "text": [
      "\n",
      "\r",
      "  0%|          | 0/1 [00:00<?, ?it/s]"
     ]
    },
    {
     "name": "stdout",
     "output_type": "stream",
     "text": [
      "\r",
      "Upgrading database; v1 -> v2:   0%|          | 0/1 [00:00<?, ?it/s]"
     ]
    },
    {
     "name": "stdout",
     "output_type": "stream",
     "text": [
      "\r",
      "Upgrading database; v1 -> v2: 100%|██████████| 1/1 [00:00<00:00, 961.11it/s]"
     ]
    },
    {
     "name": "stdout",
     "output_type": "stream",
     "text": [
      "\n",
      "\r",
      "0it [00:00, ?it/s]"
     ]
    },
    {
     "name": "stdout",
     "output_type": "stream",
     "text": [
      "\r",
      "Upgrading database; v2 -> v3: : 0it [00:00, ?it/s]"
     ]
    },
    {
     "name": "stdout",
     "output_type": "stream",
     "text": [
      "\r",
      "Upgrading database; v2 -> v3: : 0it [00:00, ?it/s]"
     ]
    },
    {
     "name": "stdout",
     "output_type": "stream",
     "text": [
      "\n",
      "\r",
      "0it [00:00, ?it/s]"
     ]
    },
    {
     "name": "stdout",
     "output_type": "stream",
     "text": [
      "\r",
      "Upgrading database; v3 -> v4: : 0it [00:00, ?it/s]"
     ]
    },
    {
     "name": "stdout",
     "output_type": "stream",
     "text": [
      "\r",
      "Upgrading database; v3 -> v4: : 0it [00:00, ?it/s]"
     ]
    },
    {
     "name": "stdout",
     "output_type": "stream",
     "text": [
      "\n",
      "\r",
      "  0%|          | 0/1 [00:00<?, ?it/s]"
     ]
    },
    {
     "name": "stdout",
     "output_type": "stream",
     "text": [
      "\r",
      "Upgrading database; v4 -> v5:   0%|          | 0/1 [00:00<?, ?it/s]"
     ]
    },
    {
     "name": "stdout",
     "output_type": "stream",
     "text": [
      "\r",
      "Upgrading database; v4 -> v5: 100%|██████████| 1/1 [00:00<00:00, 267.05it/s]"
     ]
    },
    {
     "name": "stdout",
     "output_type": "stream",
     "text": [
      "\n",
      "\r",
      "0it [00:00, ?it/s]"
     ]
    },
    {
     "name": "stdout",
     "output_type": "stream",
     "text": [
      "\r",
      "Upgrading database; v5 -> v6: : 0it [00:00, ?it/s]"
     ]
    },
    {
     "name": "stdout",
     "output_type": "stream",
     "text": [
      "\r",
      "Upgrading database; v5 -> v6: : 0it [00:00, ?it/s]"
     ]
    },
    {
     "name": "stdout",
     "output_type": "stream",
     "text": [
      "\n",
      "\r",
      "  0%|          | 0/1 [00:00<?, ?it/s]"
     ]
    },
    {
     "name": "stdout",
     "output_type": "stream",
     "text": [
      "\r",
      "Upgrading database; v6 -> v7:   0%|          | 0/1 [00:00<?, ?it/s]"
     ]
    },
    {
     "name": "stdout",
     "output_type": "stream",
     "text": [
      "\r",
      "Upgrading database; v6 -> v7: 100%|██████████| 1/1 [00:00<00:00, 219.47it/s]"
     ]
    },
    {
     "name": "stdout",
     "output_type": "stream",
     "text": [
      "\n",
      "\r",
      "  0%|          | 0/1 [00:00<?, ?it/s]"
     ]
    },
    {
     "name": "stdout",
     "output_type": "stream",
     "text": [
      "\r",
      "Upgrading database; v7 -> v8:   0%|          | 0/1 [00:00<?, ?it/s]"
     ]
    },
    {
     "name": "stdout",
     "output_type": "stream",
     "text": [
      "\r",
      "Upgrading database; v7 -> v8: 100%|██████████| 1/1 [00:00<00:00, 909.63it/s]"
     ]
    },
    {
     "name": "stdout",
     "output_type": "stream",
     "text": [
      "\n",
      "\r",
      "  0%|          | 0/1 [00:00<?, ?it/s]"
     ]
    },
    {
     "name": "stdout",
     "output_type": "stream",
     "text": [
      "\r",
      "Upgrading database; v8 -> v9:   0%|          | 0/1 [00:00<?, ?it/s]"
     ]
    },
    {
     "name": "stdout",
     "output_type": "stream",
     "text": [
      "\r",
      "Upgrading database; v8 -> v9: 100%|██████████| 1/1 [00:00<00:00, 777.30it/s]"
     ]
    },
    {
     "name": "stdout",
     "output_type": "stream",
     "text": [
      "\n"
     ]
    }
   ],
   "source": [
    "initialise_database()\n",
    "exp = load_or_create_experiment(experiment_name='tutorial_exp', sample_name=\"no sample\")"
   ]
  },
  {
   "cell_type": "markdown",
   "metadata": {},
   "source": [
    "Here, we define a simple function to benchmark the time it takes to insert n points with either numeric or array data type.\n",
    "We will compare both the time used to call ``add_result`` and the time used for the full measurement."
   ]
  },
  {
   "cell_type": "code",
   "execution_count": 4,
   "metadata": {
    "execution": {
     "iopub.execute_input": "2021-02-15T07:55:34.951872Z",
     "iopub.status.busy": "2021-02-15T07:55:34.950371Z",
     "iopub.status.idle": "2021-02-15T07:55:34.952587Z",
     "shell.execute_reply": "2021-02-15T07:55:34.953127Z"
    }
   },
   "outputs": [],
   "source": [
    "def insert_data(paramtype, npoints, nreps=1):\n",
    "\n",
    "    meas = Measurement(exp=exp)\n",
    "\n",
    "    x1 = ManualParameter('x1')\n",
    "    x2 = ManualParameter('x2')\n",
    "    x3 = ManualParameter('x3')\n",
    "    y1 = ManualParameter('y1')\n",
    "    y2 = ManualParameter('y2')\n",
    "\n",
    "    meas.register_parameter(x1, paramtype=paramtype)\n",
    "    meas.register_parameter(x2, paramtype=paramtype)\n",
    "    meas.register_parameter(x3, paramtype=paramtype)\n",
    "    meas.register_parameter(y1, setpoints=[x1, x2, x3],\n",
    "                            paramtype=paramtype)\n",
    "    meas.register_parameter(y2, setpoints=[x1, x2, x3],\n",
    "                            paramtype=paramtype)\n",
    "    start = time.perf_counter()\n",
    "    with meas.run() as datasaver:\n",
    "        start_adding = time.perf_counter()\n",
    "        for i in range(nreps):\n",
    "            datasaver.add_result((x1, np.random.rand(npoints)),\n",
    "                                 (x2, np.random.rand(npoints)),\n",
    "                                 (x3, np.random.rand(npoints)),\n",
    "                                 (y1, np.random.rand(npoints)),\n",
    "                                 (y2, np.random.rand(npoints)))\n",
    "        stop_adding = time.perf_counter()\n",
    "        run_id = datasaver.run_id\n",
    "    stop = time.perf_counter()\n",
    "    tot_time = stop - start\n",
    "    add_time = stop_adding - start_adding\n",
    "    return tot_time, add_time, run_id"
   ]
  },
  {
   "cell_type": "markdown",
   "metadata": {},
   "source": [
    "## Comparison between numeric/array data and binary blob"
   ]
  },
  {
   "cell_type": "markdown",
   "metadata": {},
   "source": [
    "### Case1: Short experiment time"
   ]
  },
  {
   "cell_type": "code",
   "execution_count": 5,
   "metadata": {
    "execution": {
     "iopub.execute_input": "2021-02-15T07:55:34.960836Z",
     "iopub.status.busy": "2021-02-15T07:55:34.959008Z",
     "iopub.status.idle": "2021-02-15T07:55:35.905915Z",
     "shell.execute_reply": "2021-02-15T07:55:35.906450Z"
    }
   },
   "outputs": [
    {
     "name": "stdout",
     "output_type": "stream",
     "text": [
      "Starting experimental run with id: 1. \n",
      "Starting experimental run with id: 2. \n",
      "Starting experimental run with id: 3. \n",
      "Starting experimental run with id: 4. \n"
     ]
    },
    {
     "name": "stdout",
     "output_type": "stream",
     "text": [
      "Starting experimental run with id: 5. \n"
     ]
    },
    {
     "name": "stdout",
     "output_type": "stream",
     "text": [
      "Starting experimental run with id: 6. \n",
      "Starting experimental run with id: 7. \n"
     ]
    },
    {
     "name": "stdout",
     "output_type": "stream",
     "text": [
      "Starting experimental run with id: 8. \n"
     ]
    },
    {
     "name": "stdout",
     "output_type": "stream",
     "text": [
      "Starting experimental run with id: 9. \n"
     ]
    },
    {
     "name": "stdout",
     "output_type": "stream",
     "text": [
      "Starting experimental run with id: 10. \n",
      "Starting experimental run with id: 11. \n"
     ]
    },
    {
     "name": "stdout",
     "output_type": "stream",
     "text": [
      "Starting experimental run with id: 12. \n"
     ]
    },
    {
     "name": "stdout",
     "output_type": "stream",
     "text": [
      "Starting experimental run with id: 13. \n"
     ]
    },
    {
     "name": "stdout",
     "output_type": "stream",
     "text": [
      "Starting experimental run with id: 14. \n"
     ]
    }
   ],
   "source": [
    "sizes = [1,500,1000,2000,3000,4000,5000]\n",
    "t_numeric = []\n",
    "t_numeric_add = []\n",
    "t_array = []\n",
    "t_array_add = []\n",
    "for size in sizes:\n",
    "    tn, tna, run_id_n =  insert_data('numeric', size)\n",
    "    t_numeric.append(tn)\n",
    "    t_numeric_add.append(tna)\n",
    "\n",
    "    ta, taa, run_id_a =  insert_data('array', size)\n",
    "    t_array.append(ta)\n",
    "    t_array_add.append(taa)"
   ]
  },
  {
   "cell_type": "code",
   "execution_count": 6,
   "metadata": {
    "execution": {
     "iopub.execute_input": "2021-02-15T07:55:35.928522Z",
     "iopub.status.busy": "2021-02-15T07:55:35.927630Z",
     "iopub.status.idle": "2021-02-15T07:55:36.176949Z",
     "shell.execute_reply": "2021-02-15T07:55:36.176352Z"
    }
   },
   "outputs": [
    {
     "data": {
      "image/png": "[encoded data removed]",
      "text/plain": [
       "<Figure size 432x288 with 1 Axes>"
      ]
     },
     "metadata": {
      "needs_background": "light"
     },
     "output_type": "display_data"
    }
   ],
   "source": [
    "fig, ax = plt.subplots(1,1)\n",
    "ax.plot(sizes, t_numeric, 'o-', label='Inserting row-by-row')\n",
    "ax.plot(sizes, t_numeric_add, 'o-', label='Inserting row-by-row: add_result only')\n",
    "ax.plot(sizes, t_array, 'd-', label='Inserting as binary blob')\n",
    "ax.plot(sizes, t_array_add, 'd-', label='Inserting as binary blob: add_result only')\n",
    "ax.legend()\n",
    "ax.set_xlabel('Array length')\n",
    "ax.set_ylabel('Time (s)')\n",
    "fig.tight_layout()"
   ]
  },
  {
   "cell_type": "markdown",
   "metadata": {},
   "source": [
    "As shown in the latter figure, the time to setup and and close the experiment is approximately 0.4 sec. In case of small array sizes, the difference between inserting values of data as arrays and inserting them row-by-row is relatively unimportant. At larger array sizes, i.e. above 10000 points, the cost of writing data as individual datapoints starts to become important.\n"
   ]
  },
  {
   "cell_type": "markdown",
   "metadata": {},
   "source": [
    "### Case2: Long experiment time "
   ]
  },
  {
   "cell_type": "code",
   "execution_count": 7,
   "metadata": {
    "execution": {
     "iopub.execute_input": "2021-02-15T07:55:36.186415Z",
     "iopub.status.busy": "2021-02-15T07:55:36.185650Z",
     "iopub.status.idle": "2021-02-15T07:56:44.061644Z",
     "shell.execute_reply": "2021-02-15T07:56:44.060854Z"
    }
   },
   "outputs": [
    {
     "name": "stdout",
     "output_type": "stream",
     "text": [
      "Starting experimental run with id: 15. \n",
      "Starting experimental run with id: 16. \n"
     ]
    },
    {
     "name": "stdout",
     "output_type": "stream",
     "text": [
      "Starting experimental run with id: 17. \n"
     ]
    },
    {
     "name": "stdout",
     "output_type": "stream",
     "text": [
      "Starting experimental run with id: 18. \n"
     ]
    },
    {
     "name": "stdout",
     "output_type": "stream",
     "text": [
      "Starting experimental run with id: 19. \n"
     ]
    },
    {
     "name": "stdout",
     "output_type": "stream",
     "text": [
      "Starting experimental run with id: 20. \n"
     ]
    },
    {
     "name": "stdout",
     "output_type": "stream",
     "text": [
      "Starting experimental run with id: 21. \n"
     ]
    },
    {
     "name": "stdout",
     "output_type": "stream",
     "text": [
      "Starting experimental run with id: 22. \n"
     ]
    },
    {
     "name": "stdout",
     "output_type": "stream",
     "text": [
      "Starting experimental run with id: 23. \n"
     ]
    },
    {
     "name": "stdout",
     "output_type": "stream",
     "text": [
      "Starting experimental run with id: 24. \n"
     ]
    },
    {
     "name": "stdout",
     "output_type": "stream",
     "text": [
      "Starting experimental run with id: 25. \n"
     ]
    },
    {
     "name": "stdout",
     "output_type": "stream",
     "text": [
      "Starting experimental run with id: 26. \n"
     ]
    },
    {
     "name": "stdout",
     "output_type": "stream",
     "text": [
      "Starting experimental run with id: 27. \n"
     ]
    },
    {
     "name": "stdout",
     "output_type": "stream",
     "text": [
      "Starting experimental run with id: 28. \n"
     ]
    }
   ],
   "source": [
    "sizes = [1,500,1000,2000,3000,4000,5000]\n",
    "nreps = 100\n",
    "t_numeric = []\n",
    "t_numeric_add = []\n",
    "t_numeric_run_ids = []\n",
    "t_array = []\n",
    "t_array_add = []\n",
    "t_array_run_ids = []\n",
    "for size in sizes:\n",
    "    tn, tna, run_id_n =  insert_data('numeric', size, nreps=nreps)\n",
    "    t_numeric.append(tn)\n",
    "    t_numeric_add.append(tna)\n",
    "    t_numeric_run_ids.append(run_id_n)\n",
    "\n",
    "    ta, taa, run_id_a =  insert_data('array', size, nreps=nreps)\n",
    "    t_array.append(ta)\n",
    "    t_array_add.append(taa)\n",
    "    t_array_run_ids.append(run_id_a)"
   ]
  },
  {
   "cell_type": "code",
   "execution_count": 8,
   "metadata": {
    "execution": {
     "iopub.execute_input": "2021-02-15T07:56:44.067962Z",
     "iopub.status.busy": "2021-02-15T07:56:44.066866Z",
     "iopub.status.idle": "2021-02-15T07:56:44.346156Z",
     "shell.execute_reply": "2021-02-15T07:56:44.347022Z"
    },
    "scrolled": true
   },
   "outputs": [
    {
     "data": {
      "image/png": "[encoded data removed]",
      "text/plain": [
       "<Figure size 432x288 with 1 Axes>"
      ]
     },
     "metadata": {
      "needs_background": "light"
     },
     "output_type": "display_data"
    }
   ],
   "source": [
    "fig, ax = plt.subplots(1,1)\n",
    "ax.plot(sizes, t_numeric, 'o-', label='Inserting row-by-row')\n",
    "ax.plot(sizes, t_numeric_add, 'o-', label='Inserting row-by-row: add_result only')\n",
    "ax.plot(sizes, t_array, 'd-', label='Inserting as binary blob')\n",
    "ax.plot(sizes, t_array_add, 'd-', label='Inserting as binary blob: add_result only')\n",
    "ax.legend()\n",
    "ax.set_xlabel('Array length')\n",
    "ax.set_ylabel('Time (s)')\n",
    "fig.tight_layout()"
   ]
  },
  {
   "cell_type": "markdown",
   "metadata": {},
   "source": [
    "However, as we increase the length of the experiment, as seen here by repeating the insertion 100 times, we see a big difference between inserting values of the data row-by-row and inserting it as a binary blob."
   ]
  },
  {
   "cell_type": "markdown",
   "metadata": {},
   "source": [
    "## Loading the data "
   ]
  },
  {
   "cell_type": "code",
   "execution_count": 9,
   "metadata": {
    "execution": {
     "iopub.execute_input": "2021-02-15T07:56:44.353319Z",
     "iopub.status.busy": "2021-02-15T07:56:44.352088Z",
     "iopub.status.idle": "2021-02-15T07:56:44.356805Z",
     "shell.execute_reply": "2021-02-15T07:56:44.356211Z"
    }
   },
   "outputs": [],
   "source": [
    "from qcodes.dataset.data_set import load_by_id\n",
    "from qcodes.dataset.data_export import get_data_by_id"
   ]
  },
  {
   "cell_type": "markdown",
   "metadata": {},
   "source": [
    "As usual you can load the data by using the ``load_by_id`` function but you will notice that the different storage methods\n",
    "are reflected in shape of the data as it is retrieved. "
   ]
  },
  {
   "cell_type": "code",
   "execution_count": 10,
   "metadata": {
    "execution": {
     "iopub.execute_input": "2021-02-15T07:56:44.367102Z",
     "iopub.status.busy": "2021-02-15T07:56:44.365758Z",
     "iopub.status.idle": "2021-02-15T07:56:44.368010Z",
     "shell.execute_reply": "2021-02-15T07:56:44.368649Z"
    }
   },
   "outputs": [],
   "source": [
    "run_id_n = t_numeric_run_ids[0]\n",
    "run_id_a = t_array_run_ids[0]"
   ]
  },
  {
   "cell_type": "code",
   "execution_count": 11,
   "metadata": {
    "execution": {
     "iopub.execute_input": "2021-02-15T07:56:44.374036Z",
     "iopub.status.busy": "2021-02-15T07:56:44.373253Z",
     "iopub.status.idle": "2021-02-15T07:56:44.385472Z",
     "shell.execute_reply": "2021-02-15T07:56:44.386187Z"
    },
    "scrolled": true
   },
   "outputs": [
    {
     "data": {
      "text/plain": [
       "{'x1': {'x1': array([0.18747691, 0.18747691, 0.74317476, 0.74317476, 0.85480462,\n",
       "         0.85480462, 0.85963713, 0.85963713, 0.39482929, 0.39482929,\n",
       "         0.47666068, 0.47666068, 0.02408806, 0.02408806, 0.92790162,\n",
       "         0.92790162, 0.2101887 , 0.2101887 , 0.50918817, 0.50918817,\n",
       "         0.23981035, 0.23981035, 0.02957856, 0.02957856, 0.10062986,\n",
       "         0.10062986, 0.67242241, 0.67242241, 0.81510342, 0.81510342,\n",
       "         0.0601983 , 0.0601983 , 0.12262005, 0.12262005, 0.70113551,\n",
       "         0.70113551, 0.20241702, 0.20241702, 0.26650949, 0.26650949,\n",
       "         0.71151566, 0.71151566, 0.49721475, 0.49721475, 0.93740997,\n",
       "         0.93740997, 0.07243975, 0.07243975, 0.93886285, 0.93886285,\n",
       "         0.67826833, 0.67826833, 0.69244421, 0.69244421, 0.87086228,\n",
       "         0.87086228, 0.7029522 , 0.7029522 , 0.06340804, 0.06340804,\n",
       "         0.38929294, 0.38929294, 0.40548094, 0.40548094, 0.19014147,\n",
       "         0.19014147, 0.9807393 , 0.9807393 , 0.45250043, 0.45250043,\n",
       "         0.10685928, 0.10685928, 0.44256206, 0.44256206, 0.04181808,\n",
       "         0.04181808, 0.81931576, 0.81931576, 0.3452336 , 0.3452336 ,\n",
       "         0.57391269, 0.57391269, 0.52574032, 0.52574032, 0.9351374 ,\n",
       "         0.9351374 , 0.17617587, 0.17617587, 0.00798625, 0.00798625,\n",
       "         0.21855656, 0.21855656, 0.35344202, 0.35344202, 0.00420808,\n",
       "         0.00420808, 0.51604924, 0.51604924, 0.71072014, 0.71072014,\n",
       "         0.30334515, 0.30334515, 0.20816924, 0.20816924, 0.20212326,\n",
       "         0.20212326, 0.49294773, 0.49294773, 0.02406928, 0.02406928,\n",
       "         0.80106755, 0.80106755, 0.69367365, 0.69367365, 0.46892692,\n",
       "         0.46892692, 0.484321  , 0.484321  , 0.93022875, 0.93022875,\n",
       "         0.09848927, 0.09848927, 0.32341786, 0.32341786, 0.75301301,\n",
       "         0.75301301, 0.72424292, 0.72424292, 0.69411209, 0.69411209,\n",
       "         0.13272422, 0.13272422, 0.41418287, 0.41418287, 0.62284967,\n",
       "         0.62284967, 0.56682155, 0.56682155, 0.0572868 , 0.0572868 ,\n",
       "         0.93135488, 0.93135488, 0.99911491, 0.99911491, 0.29341074,\n",
       "         0.29341074, 0.65963546, 0.65963546, 0.57543172, 0.57543172,\n",
       "         0.59837818, 0.59837818, 0.01496426, 0.01496426, 0.26676026,\n",
       "         0.26676026, 0.97103709, 0.97103709, 0.04311145, 0.04311145,\n",
       "         0.77669462, 0.77669462, 0.43438514, 0.43438514, 0.70065672,\n",
       "         0.70065672, 0.07730489, 0.07730489, 0.40514245, 0.40514245,\n",
       "         0.85927732, 0.85927732, 0.51118276, 0.51118276, 0.28660896,\n",
       "         0.28660896, 0.99686154, 0.99686154, 0.81137188, 0.81137188,\n",
       "         0.51746203, 0.51746203, 0.15845702, 0.15845702, 0.66489505,\n",
       "         0.66489505, 0.4300012 , 0.4300012 , 0.83632488, 0.83632488,\n",
       "         0.82070442, 0.82070442, 0.34649518, 0.34649518, 0.20327297,\n",
       "         0.20327297, 0.69756915, 0.69756915, 0.50094383, 0.50094383])}}"
      ]
     },
     "execution_count": 1,
     "metadata": {},
     "output_type": "execute_result"
    }
   ],
   "source": [
    "ds = load_by_id(run_id_n)\n",
    "ds.get_parameter_data('x1')"
   ]
  },
  {
   "cell_type": "markdown",
   "metadata": {},
   "source": [
    "And a dataset stored as binary arrays"
   ]
  },
  {
   "cell_type": "code",
   "execution_count": 12,
   "metadata": {
    "execution": {
     "iopub.execute_input": "2021-02-15T07:56:44.391744Z",
     "iopub.status.busy": "2021-02-15T07:56:44.390858Z",
     "iopub.status.idle": "2021-02-15T07:56:44.459464Z",
     "shell.execute_reply": "2021-02-15T07:56:44.465461Z"
    },
    "scrolled": true
   },
   "outputs": [
    {
     "data": {
      "text/plain": [
       "{'x1': {'x1': array([[0.9410302 ],\n",
       "         [0.9410302 ],\n",
       "         [0.4073011 ],\n",
       "         [0.4073011 ],\n",
       "         [0.43313864],\n",
       "         [0.43313864],\n",
       "         [0.52248769],\n",
       "         [0.52248769],\n",
       "         [0.66870887],\n",
       "         [0.66870887],\n",
       "         [0.52443105],\n",
       "         [0.52443105],\n",
       "         [0.67686432],\n",
       "         [0.67686432],\n",
       "         [0.60344958],\n",
       "         [0.60344958],\n",
       "         [0.33968409],\n",
       "         [0.33968409],\n",
       "         [0.00556727],\n",
       "         [0.00556727],\n",
       "         [0.36955807],\n",
       "         [0.36955807],\n",
       "         [0.34969646],\n",
       "         [0.34969646],\n",
       "         [0.94614667],\n",
       "         [0.94614667],\n",
       "         [0.52037243],\n",
       "         [0.52037243],\n",
       "         [0.5600031 ],\n",
       "         [0.5600031 ],\n",
       "         [0.88200473],\n",
       "         [0.88200473],\n",
       "         [0.41799442],\n",
       "         [0.41799442],\n",
       "         [0.82257406],\n",
       "         [0.82257406],\n",
       "         [0.97860695],\n",
       "         [0.97860695],\n",
       "         [0.77932994],\n",
       "         [0.77932994],\n",
       "         [0.88438917],\n",
       "         [0.88438917],\n",
       "         [0.10564125],\n",
       "         [0.10564125],\n",
       "         [0.65683309],\n",
       "         [0.65683309],\n",
       "         [0.6051728 ],\n",
       "         [0.6051728 ],\n",
       "         [0.4354304 ],\n",
       "         [0.4354304 ],\n",
       "         [0.60575854],\n",
       "         [0.60575854],\n",
       "         [0.87066623],\n",
       "         [0.87066623],\n",
       "         [0.50674931],\n",
       "         [0.50674931],\n",
       "         [0.38320841],\n",
       "         [0.38320841],\n",
       "         [0.3524059 ],\n",
       "         [0.3524059 ],\n",
       "         [0.85262568],\n",
       "         [0.85262568],\n",
       "         [0.69130569],\n",
       "         [0.69130569],\n",
       "         [0.25204507],\n",
       "         [0.25204507],\n",
       "         [0.08971054],\n",
       "         [0.08971054],\n",
       "         [0.56925636],\n",
       "         [0.56925636],\n",
       "         [0.46123797],\n",
       "         [0.46123797],\n",
       "         [0.37196881],\n",
       "         [0.37196881],\n",
       "         [0.46175819],\n",
       "         [0.46175819],\n",
       "         [0.92507985],\n",
       "         [0.92507985],\n",
       "         [0.12885198],\n",
       "         [0.12885198],\n",
       "         [0.99662017],\n",
       "         [0.99662017],\n",
       "         [0.78976393],\n",
       "         [0.78976393],\n",
       "         [0.05973086],\n",
       "         [0.05973086],\n",
       "         [0.45427388],\n",
       "         [0.45427388],\n",
       "         [0.95402956],\n",
       "         [0.95402956],\n",
       "         [0.50744711],\n",
       "         [0.50744711],\n",
       "         [0.25017077],\n",
       "         [0.25017077],\n",
       "         [0.67537668],\n",
       "         [0.67537668],\n",
       "         [0.50360068],\n",
       "         [0.50360068],\n",
       "         [0.89016121],\n",
       "         [0.89016121],\n",
       "         [0.31488603],\n",
       "         [0.31488603],\n",
       "         [0.9002184 ],\n",
       "         [0.9002184 ],\n",
       "         [0.24161262],\n",
       "         [0.24161262],\n",
       "         [0.92037342],\n",
       "         [0.92037342],\n",
       "         [0.14626283],\n",
       "         [0.14626283],\n",
       "         [0.76550146],\n",
       "         [0.76550146],\n",
       "         [0.14417429],\n",
       "         [0.14417429],\n",
       "         [0.18081299],\n",
       "         [0.18081299],\n",
       "         [0.4484825 ],\n",
       "         [0.4484825 ],\n",
       "         [0.69744824],\n",
       "         [0.69744824],\n",
       "         [0.63468304],\n",
       "         [0.63468304],\n",
       "         [0.13523683],\n",
       "         [0.13523683],\n",
       "         [0.83106874],\n",
       "         [0.83106874],\n",
       "         [0.92029908],\n",
       "         [0.92029908],\n",
       "         [0.7615169 ],\n",
       "         [0.7615169 ],\n",
       "         [0.43789046],\n",
       "         [0.43789046],\n",
       "         [0.42700473],\n",
       "         [0.42700473],\n",
       "         [0.67181387],\n",
       "         [0.67181387],\n",
       "         [0.26034547],\n",
       "         [0.26034547],\n",
       "         [0.04013379],\n",
       "         [0.04013379],\n",
       "         [0.45086352],\n",
       "         [0.45086352],\n",
       "         [0.54931695],\n",
       "         [0.54931695],\n",
       "         [0.69245091],\n",
       "         [0.69245091],\n",
       "         [0.32735601],\n",
       "         [0.32735601],\n",
       "         [0.24008534],\n",
       "         [0.24008534],\n",
       "         [0.52205731],\n",
       "         [0.52205731],\n",
       "         [0.10002915],\n",
       "         [0.10002915],\n",
       "         [0.28709546],\n",
       "         [0.28709546],\n",
       "         [0.40250652],\n",
       "         [0.40250652],\n",
       "         [0.55728457],\n",
       "         [0.55728457],\n",
       "         [0.64264262],\n",
       "         [0.64264262],\n",
       "         [0.50446294],\n",
       "         [0.50446294],\n",
       "         [0.79088108],\n",
       "         [0.79088108],\n",
       "         [0.23851084],\n",
       "         [0.23851084],\n",
       "         [0.72319664],\n",
       "         [0.72319664],\n",
       "         [0.51830899],\n",
       "         [0.51830899],\n",
       "         [0.90456032],\n",
       "         [0.90456032],\n",
       "         [0.02587736],\n",
       "         [0.02587736],\n",
       "         [0.74817512],\n",
       "         [0.74817512],\n",
       "         [0.30673991],\n",
       "         [0.30673991],\n",
       "         [0.23597554],\n",
       "         [0.23597554],\n",
       "         [0.60777808],\n",
       "         [0.60777808],\n",
       "         [0.12459807],\n",
       "         [0.12459807],\n",
       "         [0.0861779 ],\n",
       "         [0.0861779 ],\n",
       "         [0.34488068],\n",
       "         [0.34488068],\n",
       "         [0.24956975],\n",
       "         [0.24956975],\n",
       "         [0.92559149],\n",
       "         [0.92559149],\n",
       "         [0.86204039],\n",
       "         [0.86204039],\n",
       "         [0.64102618],\n",
       "         [0.64102618],\n",
       "         [0.4113423 ],\n",
       "         [0.4113423 ]])}}"
      ]
     },
     "execution_count": 1,
     "metadata": {},
     "output_type": "execute_result"
    }
   ],
   "source": [
    "ds = load_by_id(run_id_a)\n",
    "ds.get_parameter_data('x1')"
   ]
  },
  {
   "cell_type": "code",
   "execution_count": null,
   "metadata": {},
   "outputs": [],
   "source": []
  }
 ],
 "metadata": {
  "kernelspec": {
   "display_name": "Python 3",
   "language": "python",
   "name": "python3"
  },
  "language_info": {
   "codemirror_mode": {
    "name": "ipython",
    "version": 3
   },
   "file_extension": ".py",
   "mimetype": "text/x-python",
   "name": "python",
   "nbconvert_exporter": "python",
   "pygments_lexer": "ipython3",
   "version": "3.7.9"
  },
  "nbsphinx": {
   "timeout": 600
  },
  "toc": {
   "base_numbering": 1,
   "nav_menu": {},
   "number_sections": true,
   "sideBar": true,
   "skip_h1_title": false,
   "title_cell": "Table of Contents",
   "title_sidebar": "Contents",
   "toc_cell": false,
   "toc_position": {},
   "toc_section_display": true,
   "toc_window_display": false
  },
  "varInspector": {
   "cols": {
    "lenName": 16,
    "lenType": 16,
    "lenVar": 40
   },
   "kernels_config": {
    "python": {
     "delete_cmd_postfix": "",
     "delete_cmd_prefix": "del ",
     "library": "var_list.py",
     "varRefreshCmd": "print(var_dic_list())"
    },
    "r": {
     "delete_cmd_postfix": ") ",
     "delete_cmd_prefix": "rm(",
     "library": "var_list.r",
     "varRefreshCmd": "cat(var_dic_list()) "
    }
   },
   "types_to_exclude": [
    "module",
    "function",
    "builtin_function_or_method",
    "instance",
    "_Feature"
   ],
   "window_display": false
  }
 },
 "nbformat": 4,
 "nbformat_minor": 2
}
