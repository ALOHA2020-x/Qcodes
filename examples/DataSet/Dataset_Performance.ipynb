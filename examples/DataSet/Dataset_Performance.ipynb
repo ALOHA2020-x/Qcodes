{
 "cells": [
  {
   "cell_type": "markdown",
   "metadata": {},
   "source": [
    "# DataSet Performance\n",
    "\n",
    "This notebook shows the trade-off between inserting data into a database row-by-row and as binary blobs. Inserting the data row-by-row means that we have direct access to all the data and may perform queries directly on the values of the data. On the other hand, as we shall see, this is much slower than inserting the data directly as binary blobs."
   ]
  },
  {
   "cell_type": "markdown",
   "metadata": {},
   "source": [
    "First, we choose a new location for the database to ensure that we don't add a bunch of benchmarking data to the default one."
   ]
  },
  {
   "cell_type": "code",
   "execution_count": 1,
   "metadata": {
    "execution": {
     "iopub.execute_input": "2021-03-29T13:31:22.447329Z",
     "iopub.status.busy": "2021-03-29T13:31:22.446529Z",
     "iopub.status.idle": "2021-03-29T13:31:23.495088Z",
     "shell.execute_reply": "2021-03-29T13:31:23.495818Z"
    }
   },
   "outputs": [
    {
     "name": "stdout",
     "output_type": "stream",
     "text": [
      "Logging hadn't been started.\n",
      "Activating auto-logging. Current session state plus future input saved.\n",
      "Filename       : /home/runner/.qcodes/logs/command_history.log\n",
      "Mode           : append\n",
      "Output logging : True\n",
      "Raw input log  : False\n",
      "Timestamping   : True\n",
      "State          : active\n"
     ]
    },
    {
     "name": "stdout",
     "output_type": "stream",
     "text": [
      "Qcodes Logfile : /home/runner/.qcodes/logs/210329-4417-qcodes.log\n"
     ]
    }
   ],
   "source": [
    "import os\n",
    "cwd = os.getcwd()\n",
    "import qcodes as qc\n",
    "qc.config[\"core\"][\"db_location\"] = os.path.join(cwd, 'testing.db')\n"
   ]
  },
  {
   "cell_type": "code",
   "execution_count": 2,
   "metadata": {
    "execution": {
     "iopub.execute_input": "2021-03-29T13:31:23.504675Z",
     "iopub.status.busy": "2021-03-29T13:31:23.502491Z",
     "iopub.status.idle": "2021-03-29T13:31:23.752033Z",
     "shell.execute_reply": "2021-03-29T13:31:23.751492Z"
    }
   },
   "outputs": [],
   "source": [
    "%matplotlib inline\n",
    "import time\n",
    "import matplotlib.pyplot as plt\n",
    "import numpy as np\n",
    "\n",
    "import qcodes as qc\n",
    "from qcodes.instrument.parameter import ManualParameter\n",
    "from qcodes.dataset.experiment_container import (Experiment,\n",
    "                                                 load_last_experiment,\n",
    "                                                 new_experiment)\n",
    "from qcodes.dataset.sqlite.database import initialise_database\n",
    "from qcodes import load_or_create_experiment\n",
    "from qcodes.dataset.measurements import Measurement"
   ]
  },
  {
   "cell_type": "code",
   "execution_count": 3,
   "metadata": {
    "execution": {
     "iopub.execute_input": "2021-03-29T13:31:23.756150Z",
     "iopub.status.busy": "2021-03-29T13:31:23.755571Z",
     "iopub.status.idle": "2021-03-29T13:31:23.856494Z",
     "shell.execute_reply": "2021-03-29T13:31:23.855968Z"
    }
   },
   "outputs": [
    {
     "name": "stdout",
     "output_type": "stream",
     "text": [
      "\r",
      "0it [00:00, ?it/s]"
     ]
    },
    {
     "name": "stdout",
     "output_type": "stream",
     "text": [
      "\r",
      "Upgrading database; v0 -> v1: : 0it [00:00, ?it/s]"
     ]
    },
    {
     "name": "stdout",
     "output_type": "stream",
     "text": [
      "\r",
      "Upgrading database; v0 -> v1: : 0it [00:00, ?it/s]"
     ]
    },
    {
     "name": "stdout",
     "output_type": "stream",
     "text": [
      "\n",
      "\r",
      "  0%|          | 0/1 [00:00<?, ?it/s]"
     ]
    },
    {
     "name": "stdout",
     "output_type": "stream",
     "text": [
      "\r",
      "Upgrading database; v1 -> v2:   0%|          | 0/1 [00:00<?, ?it/s]"
     ]
    },
    {
     "name": "stdout",
     "output_type": "stream",
     "text": [
      "\r",
      "Upgrading database; v1 -> v2: 100%|██████████| 1/1 [00:00<00:00, 528.38it/s]"
     ]
    },
    {
     "name": "stdout",
     "output_type": "stream",
     "text": [
      "\n",
      "\r",
      "0it [00:00, ?it/s]"
     ]
    },
    {
     "name": "stdout",
     "output_type": "stream",
     "text": [
      "\r",
      "Upgrading database; v2 -> v3: : 0it [00:00, ?it/s]"
     ]
    },
    {
     "name": "stdout",
     "output_type": "stream",
     "text": [
      "\r",
      "Upgrading database; v2 -> v3: : 0it [00:00, ?it/s]"
     ]
    },
    {
     "name": "stdout",
     "output_type": "stream",
     "text": [
      "\n",
      "\r",
      "0it [00:00, ?it/s]"
     ]
    },
    {
     "name": "stdout",
     "output_type": "stream",
     "text": [
      "\r",
      "Upgrading database; v3 -> v4: : 0it [00:00, ?it/s]"
     ]
    },
    {
     "name": "stdout",
     "output_type": "stream",
     "text": [
      "\r",
      "Upgrading database; v3 -> v4: : 0it [00:00, ?it/s]"
     ]
    },
    {
     "name": "stdout",
     "output_type": "stream",
     "text": [
      "\n",
      "\r",
      "  0%|          | 0/1 [00:00<?, ?it/s]"
     ]
    },
    {
     "name": "stdout",
     "output_type": "stream",
     "text": [
      "\r",
      "Upgrading database; v4 -> v5:   0%|          | 0/1 [00:00<?, ?it/s]"
     ]
    },
    {
     "name": "stdout",
     "output_type": "stream",
     "text": [
      "\r",
      "Upgrading database; v4 -> v5: 100%|██████████| 1/1 [00:00<00:00, 548.85it/s]"
     ]
    },
    {
     "name": "stdout",
     "output_type": "stream",
     "text": [
      "\n",
      "\r",
      "0it [00:00, ?it/s]"
     ]
    },
    {
     "name": "stdout",
     "output_type": "stream",
     "text": [
      "\r",
      "Upgrading database; v5 -> v6: : 0it [00:00, ?it/s]"
     ]
    },
    {
     "name": "stdout",
     "output_type": "stream",
     "text": [
      "\r",
      "Upgrading database; v5 -> v6: : 0it [00:00, ?it/s]"
     ]
    },
    {
     "name": "stdout",
     "output_type": "stream",
     "text": [
      "\n",
      "\r",
      "  0%|          | 0/1 [00:00<?, ?it/s]"
     ]
    },
    {
     "name": "stdout",
     "output_type": "stream",
     "text": [
      "\r",
      "Upgrading database; v6 -> v7:   0%|          | 0/1 [00:00<?, ?it/s]"
     ]
    },
    {
     "name": "stdout",
     "output_type": "stream",
     "text": [
      "\r",
      "Upgrading database; v6 -> v7: 100%|██████████| 1/1 [00:00<00:00, 266.92it/s]"
     ]
    },
    {
     "name": "stdout",
     "output_type": "stream",
     "text": [
      "\n",
      "\r",
      "  0%|          | 0/1 [00:00<?, ?it/s]"
     ]
    },
    {
     "name": "stdout",
     "output_type": "stream",
     "text": [
      "\r",
      "Upgrading database; v7 -> v8:   0%|          | 0/1 [00:00<?, ?it/s]"
     ]
    },
    {
     "name": "stdout",
     "output_type": "stream",
     "text": [
      "\r",
      "Upgrading database; v7 -> v8: 100%|██████████| 1/1 [00:00<00:00, 388.47it/s]"
     ]
    },
    {
     "name": "stdout",
     "output_type": "stream",
     "text": [
      "\n",
      "\r",
      "  0%|          | 0/1 [00:00<?, ?it/s]"
     ]
    },
    {
     "name": "stdout",
     "output_type": "stream",
     "text": [
      "\r",
      "Upgrading database; v8 -> v9:   0%|          | 0/1 [00:00<?, ?it/s]"
     ]
    },
    {
     "name": "stdout",
     "output_type": "stream",
     "text": [
      "\r",
      "Upgrading database; v8 -> v9: 100%|██████████| 1/1 [00:00<00:00, 351.05it/s]"
     ]
    },
    {
     "name": "stdout",
     "output_type": "stream",
     "text": [
      "\n"
     ]
    }
   ],
   "source": [
    "initialise_database()\n",
    "exp = load_or_create_experiment(experiment_name='tutorial_exp', sample_name=\"no sample\")"
   ]
  },
  {
   "cell_type": "markdown",
   "metadata": {},
   "source": [
    "Here, we define a simple function to benchmark the time it takes to insert n points with either numeric or array data type.\n",
    "We will compare both the time used to call ``add_result`` and the time used for the full measurement."
   ]
  },
  {
   "cell_type": "code",
   "execution_count": 4,
   "metadata": {
    "execution": {
     "iopub.execute_input": "2021-03-29T13:31:23.865705Z",
     "iopub.status.busy": "2021-03-29T13:31:23.865110Z",
     "iopub.status.idle": "2021-03-29T13:31:23.871511Z",
     "shell.execute_reply": "2021-03-29T13:31:23.870374Z"
    }
   },
   "outputs": [],
   "source": [
    "def insert_data(paramtype, npoints, nreps=1):\n",
    "\n",
    "    meas = Measurement(exp=exp)\n",
    "\n",
    "    x1 = ManualParameter('x1')\n",
    "    x2 = ManualParameter('x2')\n",
    "    x3 = ManualParameter('x3')\n",
    "    y1 = ManualParameter('y1')\n",
    "    y2 = ManualParameter('y2')\n",
    "\n",
    "    meas.register_parameter(x1, paramtype=paramtype)\n",
    "    meas.register_parameter(x2, paramtype=paramtype)\n",
    "    meas.register_parameter(x3, paramtype=paramtype)\n",
    "    meas.register_parameter(y1, setpoints=[x1, x2, x3],\n",
    "                            paramtype=paramtype)\n",
    "    meas.register_parameter(y2, setpoints=[x1, x2, x3],\n",
    "                            paramtype=paramtype)\n",
    "    start = time.perf_counter()\n",
    "    with meas.run() as datasaver:\n",
    "        start_adding = time.perf_counter()\n",
    "        for i in range(nreps):\n",
    "            datasaver.add_result((x1, np.random.rand(npoints)),\n",
    "                                 (x2, np.random.rand(npoints)),\n",
    "                                 (x3, np.random.rand(npoints)),\n",
    "                                 (y1, np.random.rand(npoints)),\n",
    "                                 (y2, np.random.rand(npoints)))\n",
    "        stop_adding = time.perf_counter()\n",
    "        run_id = datasaver.run_id\n",
    "    stop = time.perf_counter()\n",
    "    tot_time = stop - start\n",
    "    add_time = stop_adding - start_adding\n",
    "    return tot_time, add_time, run_id"
   ]
  },
  {
   "cell_type": "markdown",
   "metadata": {},
   "source": [
    "## Comparison between numeric/array data and binary blob"
   ]
  },
  {
   "cell_type": "markdown",
   "metadata": {},
   "source": [
    "### Case1: Short experiment time"
   ]
  },
  {
   "cell_type": "code",
   "execution_count": 5,
   "metadata": {
    "execution": {
     "iopub.execute_input": "2021-03-29T13:31:23.879277Z",
     "iopub.status.busy": "2021-03-29T13:31:23.878448Z",
     "iopub.status.idle": "2021-03-29T13:31:24.831947Z",
     "shell.execute_reply": "2021-03-29T13:31:24.831061Z"
    }
   },
   "outputs": [
    {
     "name": "stdout",
     "output_type": "stream",
     "text": [
      "Starting experimental run with id: 1. \n",
      "Starting experimental run with id: 2. \n",
      "Starting experimental run with id: 3. \n"
     ]
    },
    {
     "name": "stdout",
     "output_type": "stream",
     "text": [
      "Starting experimental run with id: 4. \n"
     ]
    },
    {
     "name": "stdout",
     "output_type": "stream",
     "text": [
      "Starting experimental run with id: 5. \n"
     ]
    },
    {
     "name": "stdout",
     "output_type": "stream",
     "text": [
      "Starting experimental run with id: 6. \n",
      "Starting experimental run with id: 7. \n"
     ]
    },
    {
     "name": "stdout",
     "output_type": "stream",
     "text": [
      "Starting experimental run with id: 8. \n"
     ]
    },
    {
     "name": "stdout",
     "output_type": "stream",
     "text": [
      "Starting experimental run with id: 9. \n"
     ]
    },
    {
     "name": "stdout",
     "output_type": "stream",
     "text": [
      "Starting experimental run with id: 10. \n",
      "Starting experimental run with id: 11. \n"
     ]
    },
    {
     "name": "stdout",
     "output_type": "stream",
     "text": [
      "Starting experimental run with id: 12. \n",
      "Starting experimental run with id: 13. \n"
     ]
    },
    {
     "name": "stdout",
     "output_type": "stream",
     "text": [
      "Starting experimental run with id: 14. \n"
     ]
    }
   ],
   "source": [
    "sizes = [1,500,1000,2000,3000,4000,5000]\n",
    "t_numeric = []\n",
    "t_numeric_add = []\n",
    "t_array = []\n",
    "t_array_add = []\n",
    "for size in sizes:\n",
    "    tn, tna, run_id_n =  insert_data('numeric', size)\n",
    "    t_numeric.append(tn)\n",
    "    t_numeric_add.append(tna)\n",
    "\n",
    "    ta, taa, run_id_a =  insert_data('array', size)\n",
    "    t_array.append(ta)\n",
    "    t_array_add.append(taa)"
   ]
  },
  {
   "cell_type": "code",
   "execution_count": 6,
   "metadata": {
    "execution": {
     "iopub.execute_input": "2021-03-29T13:31:24.858158Z",
     "iopub.status.busy": "2021-03-29T13:31:24.853371Z",
     "iopub.status.idle": "2021-03-29T13:31:25.070065Z",
     "shell.execute_reply": "2021-03-29T13:31:25.070572Z"
    }
   },
   "outputs": [
    {
     "data": {
      "image/png": "[encoded data removed]",
      "text/plain": [
       "<Figure size 432x288 with 1 Axes>"
      ]
     },
     "metadata": {
      "needs_background": "light"
     },
     "output_type": "display_data"
    }
   ],
   "source": [
    "fig, ax = plt.subplots(1,1)\n",
    "ax.plot(sizes, t_numeric, 'o-', label='Inserting row-by-row')\n",
    "ax.plot(sizes, t_numeric_add, 'o-', label='Inserting row-by-row: add_result only')\n",
    "ax.plot(sizes, t_array, 'd-', label='Inserting as binary blob')\n",
    "ax.plot(sizes, t_array_add, 'd-', label='Inserting as binary blob: add_result only')\n",
    "ax.legend()\n",
    "ax.set_xlabel('Array length')\n",
    "ax.set_ylabel('Time (s)')\n",
    "fig.tight_layout()"
   ]
  },
  {
   "cell_type": "markdown",
   "metadata": {},
   "source": [
    "As shown in the latter figure, the time to setup and and close the experiment is approximately 0.4 sec. In case of small array sizes, the difference between inserting values of data as arrays and inserting them row-by-row is relatively unimportant. At larger array sizes, i.e. above 10000 points, the cost of writing data as individual datapoints starts to become important.\n"
   ]
  },
  {
   "cell_type": "markdown",
   "metadata": {},
   "source": [
    "### Case2: Long experiment time "
   ]
  },
  {
   "cell_type": "code",
   "execution_count": 7,
   "metadata": {
    "execution": {
     "iopub.execute_input": "2021-03-29T13:31:25.079023Z",
     "iopub.status.busy": "2021-03-29T13:31:25.078352Z",
     "iopub.status.idle": "2021-03-29T13:32:27.877023Z",
     "shell.execute_reply": "2021-03-29T13:32:27.876475Z"
    }
   },
   "outputs": [
    {
     "name": "stdout",
     "output_type": "stream",
     "text": [
      "Starting experimental run with id: 15. \n",
      "Starting experimental run with id: 16. \n"
     ]
    },
    {
     "name": "stdout",
     "output_type": "stream",
     "text": [
      "Starting experimental run with id: 17. \n"
     ]
    },
    {
     "name": "stdout",
     "output_type": "stream",
     "text": [
      "Starting experimental run with id: 18. \n"
     ]
    },
    {
     "name": "stdout",
     "output_type": "stream",
     "text": [
      "Starting experimental run with id: 19. \n"
     ]
    },
    {
     "name": "stdout",
     "output_type": "stream",
     "text": [
      "Starting experimental run with id: 20. \n"
     ]
    },
    {
     "name": "stdout",
     "output_type": "stream",
     "text": [
      "Starting experimental run with id: 21. \n"
     ]
    },
    {
     "name": "stdout",
     "output_type": "stream",
     "text": [
      "Starting experimental run with id: 22. \n"
     ]
    },
    {
     "name": "stdout",
     "output_type": "stream",
     "text": [
      "Starting experimental run with id: 23. \n"
     ]
    },
    {
     "name": "stdout",
     "output_type": "stream",
     "text": [
      "Starting experimental run with id: 24. \n"
     ]
    },
    {
     "name": "stdout",
     "output_type": "stream",
     "text": [
      "Starting experimental run with id: 25. \n"
     ]
    },
    {
     "name": "stdout",
     "output_type": "stream",
     "text": [
      "Starting experimental run with id: 26. \n"
     ]
    },
    {
     "name": "stdout",
     "output_type": "stream",
     "text": [
      "Starting experimental run with id: 27. \n"
     ]
    },
    {
     "name": "stdout",
     "output_type": "stream",
     "text": [
      "Starting experimental run with id: 28. \n"
     ]
    }
   ],
   "source": [
    "sizes = [1,500,1000,2000,3000,4000,5000]\n",
    "nreps = 100\n",
    "t_numeric = []\n",
    "t_numeric_add = []\n",
    "t_numeric_run_ids = []\n",
    "t_array = []\n",
    "t_array_add = []\n",
    "t_array_run_ids = []\n",
    "for size in sizes:\n",
    "    tn, tna, run_id_n =  insert_data('numeric', size, nreps=nreps)\n",
    "    t_numeric.append(tn)\n",
    "    t_numeric_add.append(tna)\n",
    "    t_numeric_run_ids.append(run_id_n)\n",
    "\n",
    "    ta, taa, run_id_a =  insert_data('array', size, nreps=nreps)\n",
    "    t_array.append(ta)\n",
    "    t_array_add.append(taa)\n",
    "    t_array_run_ids.append(run_id_a)"
   ]
  },
  {
   "cell_type": "code",
   "execution_count": 8,
   "metadata": {
    "execution": {
     "iopub.execute_input": "2021-03-29T13:32:27.909627Z",
     "iopub.status.busy": "2021-03-29T13:32:27.903367Z",
     "iopub.status.idle": "2021-03-29T13:32:28.122379Z",
     "shell.execute_reply": "2021-03-29T13:32:28.121452Z"
    },
    "scrolled": true
   },
   "outputs": [
    {
     "data": {
      "image/png": "[encoded data removed]",
      "text/plain": [
       "<Figure size 432x288 with 1 Axes>"
      ]
     },
     "metadata": {
      "needs_background": "light"
     },
     "output_type": "display_data"
    }
   ],
   "source": [
    "fig, ax = plt.subplots(1,1)\n",
    "ax.plot(sizes, t_numeric, 'o-', label='Inserting row-by-row')\n",
    "ax.plot(sizes, t_numeric_add, 'o-', label='Inserting row-by-row: add_result only')\n",
    "ax.plot(sizes, t_array, 'd-', label='Inserting as binary blob')\n",
    "ax.plot(sizes, t_array_add, 'd-', label='Inserting as binary blob: add_result only')\n",
    "ax.legend()\n",
    "ax.set_xlabel('Array length')\n",
    "ax.set_ylabel('Time (s)')\n",
    "fig.tight_layout()"
   ]
  },
  {
   "cell_type": "markdown",
   "metadata": {},
   "source": [
    "However, as we increase the length of the experiment, as seen here by repeating the insertion 100 times, we see a big difference between inserting values of the data row-by-row and inserting it as a binary blob."
   ]
  },
  {
   "cell_type": "markdown",
   "metadata": {},
   "source": [
    "## Loading the data "
   ]
  },
  {
   "cell_type": "code",
   "execution_count": 9,
   "metadata": {
    "execution": {
     "iopub.execute_input": "2021-03-29T13:32:28.127368Z",
     "iopub.status.busy": "2021-03-29T13:32:28.126319Z",
     "iopub.status.idle": "2021-03-29T13:32:28.129292Z",
     "shell.execute_reply": "2021-03-29T13:32:28.129744Z"
    }
   },
   "outputs": [],
   "source": [
    "from qcodes.dataset.data_set import load_by_id\n",
    "from qcodes.dataset.data_export import get_data_by_id"
   ]
  },
  {
   "cell_type": "markdown",
   "metadata": {},
   "source": [
    "As usual you can load the data by using the ``load_by_id`` function but you will notice that the different storage methods\n",
    "are reflected in shape of the data as it is retrieved. "
   ]
  },
  {
   "cell_type": "code",
   "execution_count": 10,
   "metadata": {
    "execution": {
     "iopub.execute_input": "2021-03-29T13:32:28.134831Z",
     "iopub.status.busy": "2021-03-29T13:32:28.133645Z",
     "iopub.status.idle": "2021-03-29T13:32:28.135617Z",
     "shell.execute_reply": "2021-03-29T13:32:28.136107Z"
    }
   },
   "outputs": [],
   "source": [
    "run_id_n = t_numeric_run_ids[0]\n",
    "run_id_a = t_array_run_ids[0]"
   ]
  },
  {
   "cell_type": "code",
   "execution_count": 11,
   "metadata": {
    "execution": {
     "iopub.execute_input": "2021-03-29T13:32:28.139866Z",
     "iopub.status.busy": "2021-03-29T13:32:28.139257Z",
     "iopub.status.idle": "2021-03-29T13:32:28.150235Z",
     "shell.execute_reply": "2021-03-29T13:32:28.150690Z"
    },
    "scrolled": true
   },
   "outputs": [
    {
     "data": {
      "text/plain": [
       "{'x1': {'x1': array([0.16446605, 0.16446605, 0.73218819, 0.73218819, 0.85995058,\n",
       "         0.85995058, 0.14586731, 0.14586731, 0.83126735, 0.83126735,\n",
       "         0.5305607 , 0.5305607 , 0.40567914, 0.40567914, 0.96193806,\n",
       "         0.96193806, 0.5615431 , 0.5615431 , 0.70129887, 0.70129887,\n",
       "         0.54383334, 0.54383334, 0.78254296, 0.78254296, 0.65319941,\n",
       "         0.65319941, 0.30785212, 0.30785212, 0.07662757, 0.07662757,\n",
       "         0.95915157, 0.95915157, 0.2342619 , 0.2342619 , 0.07063347,\n",
       "         0.07063347, 0.76930155, 0.76930155, 0.48404611, 0.48404611,\n",
       "         0.91795873, 0.91795873, 0.28252999, 0.28252999, 0.66067222,\n",
       "         0.66067222, 0.62200574, 0.62200574, 0.51974776, 0.51974776,\n",
       "         0.16219001, 0.16219001, 0.67924689, 0.67924689, 0.45066138,\n",
       "         0.45066138, 0.55970796, 0.55970796, 0.2301931 , 0.2301931 ,\n",
       "         0.44347588, 0.44347588, 0.79232099, 0.79232099, 0.69262335,\n",
       "         0.69262335, 0.62394268, 0.62394268, 0.82392687, 0.82392687,\n",
       "         0.95842618, 0.95842618, 0.96243867, 0.96243867, 0.25881237,\n",
       "         0.25881237, 0.15017402, 0.15017402, 0.14835694, 0.14835694,\n",
       "         0.80495929, 0.80495929, 0.78882477, 0.78882477, 0.00800657,\n",
       "         0.00800657, 0.82917101, 0.82917101, 0.66858007, 0.66858007,\n",
       "         0.66663501, 0.66663501, 0.92822985, 0.92822985, 0.73107355,\n",
       "         0.73107355, 0.64367547, 0.64367547, 0.89739382, 0.89739382,\n",
       "         0.84960344, 0.84960344, 0.73408019, 0.73408019, 0.35214042,\n",
       "         0.35214042, 0.80373319, 0.80373319, 0.70892104, 0.70892104,\n",
       "         0.75198544, 0.75198544, 0.91945348, 0.91945348, 0.76330876,\n",
       "         0.76330876, 0.82372287, 0.82372287, 0.89733498, 0.89733498,\n",
       "         0.58908003, 0.58908003, 0.57572911, 0.57572911, 0.98672122,\n",
       "         0.98672122, 0.57086879, 0.57086879, 0.25158785, 0.25158785,\n",
       "         0.2453258 , 0.2453258 , 0.92204443, 0.92204443, 0.23983568,\n",
       "         0.23983568, 0.74125371, 0.74125371, 0.19391944, 0.19391944,\n",
       "         0.58767622, 0.58767622, 0.09331952, 0.09331952, 0.46440326,\n",
       "         0.46440326, 0.22763865, 0.22763865, 0.49928766, 0.49928766,\n",
       "         0.09816912, 0.09816912, 0.35370863, 0.35370863, 0.80719847,\n",
       "         0.80719847, 0.00384923, 0.00384923, 0.36437215, 0.36437215,\n",
       "         0.82169897, 0.82169897, 0.55661919, 0.55661919, 0.33966466,\n",
       "         0.33966466, 0.01291834, 0.01291834, 0.55714079, 0.55714079,\n",
       "         0.64699881, 0.64699881, 0.96235477, 0.96235477, 0.80015207,\n",
       "         0.80015207, 0.12150044, 0.12150044, 0.824786  , 0.824786  ,\n",
       "         0.81041738, 0.81041738, 0.88681695, 0.88681695, 0.6753759 ,\n",
       "         0.6753759 , 0.17782727, 0.17782727, 0.14801131, 0.14801131,\n",
       "         0.81439368, 0.81439368, 0.93109923, 0.93109923, 0.92510792,\n",
       "         0.92510792, 0.04598164, 0.04598164, 0.43096476, 0.43096476])}}"
      ]
     },
     "execution_count": 1,
     "metadata": {},
     "output_type": "execute_result"
    }
   ],
   "source": [
    "ds = load_by_id(run_id_n)\n",
    "ds.get_parameter_data('x1')"
   ]
  },
  {
   "cell_type": "markdown",
   "metadata": {},
   "source": [
    "And a dataset stored as binary arrays"
   ]
  },
  {
   "cell_type": "code",
   "execution_count": 12,
   "metadata": {
    "execution": {
     "iopub.execute_input": "2021-03-29T13:32:28.154700Z",
     "iopub.status.busy": "2021-03-29T13:32:28.154131Z",
     "iopub.status.idle": "2021-03-29T13:32:28.222654Z",
     "shell.execute_reply": "2021-03-29T13:32:28.223545Z"
    },
    "scrolled": true
   },
   "outputs": [
    {
     "data": {
      "text/plain": [
       "{'x1': {'x1': array([[0.29212716],\n",
       "         [0.29212716],\n",
       "         [0.41706024],\n",
       "         [0.41706024],\n",
       "         [0.55621542],\n",
       "         [0.55621542],\n",
       "         [0.21723595],\n",
       "         [0.21723595],\n",
       "         [0.85854636],\n",
       "         [0.85854636],\n",
       "         [0.88018506],\n",
       "         [0.88018506],\n",
       "         [0.15740026],\n",
       "         [0.15740026],\n",
       "         [0.40119634],\n",
       "         [0.40119634],\n",
       "         [0.15312808],\n",
       "         [0.15312808],\n",
       "         [0.17663718],\n",
       "         [0.17663718],\n",
       "         [0.38235909],\n",
       "         [0.38235909],\n",
       "         [0.20290091],\n",
       "         [0.20290091],\n",
       "         [0.56612309],\n",
       "         [0.56612309],\n",
       "         [0.75485986],\n",
       "         [0.75485986],\n",
       "         [0.12883466],\n",
       "         [0.12883466],\n",
       "         [0.53366531],\n",
       "         [0.53366531],\n",
       "         [0.00605247],\n",
       "         [0.00605247],\n",
       "         [0.02966495],\n",
       "         [0.02966495],\n",
       "         [0.56736728],\n",
       "         [0.56736728],\n",
       "         [0.79846391],\n",
       "         [0.79846391],\n",
       "         [0.74362117],\n",
       "         [0.74362117],\n",
       "         [0.06716739],\n",
       "         [0.06716739],\n",
       "         [0.9282354 ],\n",
       "         [0.9282354 ],\n",
       "         [0.63935714],\n",
       "         [0.63935714],\n",
       "         [0.70215387],\n",
       "         [0.70215387],\n",
       "         [0.32673974],\n",
       "         [0.32673974],\n",
       "         [0.52183506],\n",
       "         [0.52183506],\n",
       "         [0.05584547],\n",
       "         [0.05584547],\n",
       "         [0.6408087 ],\n",
       "         [0.6408087 ],\n",
       "         [0.41195829],\n",
       "         [0.41195829],\n",
       "         [0.62782707],\n",
       "         [0.62782707],\n",
       "         [0.03654651],\n",
       "         [0.03654651],\n",
       "         [0.34982272],\n",
       "         [0.34982272],\n",
       "         [0.08352017],\n",
       "         [0.08352017],\n",
       "         [0.84620384],\n",
       "         [0.84620384],\n",
       "         [0.27929782],\n",
       "         [0.27929782],\n",
       "         [0.67897939],\n",
       "         [0.67897939],\n",
       "         [0.68515069],\n",
       "         [0.68515069],\n",
       "         [0.82145314],\n",
       "         [0.82145314],\n",
       "         [0.44175678],\n",
       "         [0.44175678],\n",
       "         [0.5705543 ],\n",
       "         [0.5705543 ],\n",
       "         [0.64357466],\n",
       "         [0.64357466],\n",
       "         [0.64015595],\n",
       "         [0.64015595],\n",
       "         [0.6007866 ],\n",
       "         [0.6007866 ],\n",
       "         [0.9511649 ],\n",
       "         [0.9511649 ],\n",
       "         [0.36949326],\n",
       "         [0.36949326],\n",
       "         [0.24743948],\n",
       "         [0.24743948],\n",
       "         [0.23774252],\n",
       "         [0.23774252],\n",
       "         [0.08214164],\n",
       "         [0.08214164],\n",
       "         [0.10376559],\n",
       "         [0.10376559],\n",
       "         [0.17447236],\n",
       "         [0.17447236],\n",
       "         [0.00843689],\n",
       "         [0.00843689],\n",
       "         [0.67335524],\n",
       "         [0.67335524],\n",
       "         [0.74189363],\n",
       "         [0.74189363],\n",
       "         [0.7328141 ],\n",
       "         [0.7328141 ],\n",
       "         [0.71453421],\n",
       "         [0.71453421],\n",
       "         [0.36633537],\n",
       "         [0.36633537],\n",
       "         [0.82677401],\n",
       "         [0.82677401],\n",
       "         [0.06519567],\n",
       "         [0.06519567],\n",
       "         [0.47148676],\n",
       "         [0.47148676],\n",
       "         [0.36749927],\n",
       "         [0.36749927],\n",
       "         [0.97838896],\n",
       "         [0.97838896],\n",
       "         [0.75306165],\n",
       "         [0.75306165],\n",
       "         [0.54823051],\n",
       "         [0.54823051],\n",
       "         [0.72115968],\n",
       "         [0.72115968],\n",
       "         [0.90820685],\n",
       "         [0.90820685],\n",
       "         [0.907789  ],\n",
       "         [0.907789  ],\n",
       "         [0.29080533],\n",
       "         [0.29080533],\n",
       "         [0.41185898],\n",
       "         [0.41185898],\n",
       "         [0.76539697],\n",
       "         [0.76539697],\n",
       "         [0.0238484 ],\n",
       "         [0.0238484 ],\n",
       "         [0.47729453],\n",
       "         [0.47729453],\n",
       "         [0.37543527],\n",
       "         [0.37543527],\n",
       "         [0.51598007],\n",
       "         [0.51598007],\n",
       "         [0.93295323],\n",
       "         [0.93295323],\n",
       "         [0.8405864 ],\n",
       "         [0.8405864 ],\n",
       "         [0.6934364 ],\n",
       "         [0.6934364 ],\n",
       "         [0.56081232],\n",
       "         [0.56081232],\n",
       "         [0.78132558],\n",
       "         [0.78132558],\n",
       "         [0.83151421],\n",
       "         [0.83151421],\n",
       "         [0.37249609],\n",
       "         [0.37249609],\n",
       "         [0.82308517],\n",
       "         [0.82308517],\n",
       "         [0.55803649],\n",
       "         [0.55803649],\n",
       "         [0.6749662 ],\n",
       "         [0.6749662 ],\n",
       "         [0.51000465],\n",
       "         [0.51000465],\n",
       "         [0.54510895],\n",
       "         [0.54510895],\n",
       "         [0.51824905],\n",
       "         [0.51824905],\n",
       "         [0.09740096],\n",
       "         [0.09740096],\n",
       "         [0.72757128],\n",
       "         [0.72757128],\n",
       "         [0.88125359],\n",
       "         [0.88125359],\n",
       "         [0.41377631],\n",
       "         [0.41377631],\n",
       "         [0.06218228],\n",
       "         [0.06218228],\n",
       "         [0.76122339],\n",
       "         [0.76122339],\n",
       "         [0.95910365],\n",
       "         [0.95910365],\n",
       "         [0.69109835],\n",
       "         [0.69109835],\n",
       "         [0.78674868],\n",
       "         [0.78674868],\n",
       "         [0.56775825],\n",
       "         [0.56775825],\n",
       "         [0.95257346],\n",
       "         [0.95257346],\n",
       "         [0.79916709],\n",
       "         [0.79916709],\n",
       "         [0.96588523],\n",
       "         [0.96588523]])}}"
      ]
     },
     "execution_count": 1,
     "metadata": {},
     "output_type": "execute_result"
    }
   ],
   "source": [
    "ds = load_by_id(run_id_a)\n",
    "ds.get_parameter_data('x1')"
   ]
  },
  {
   "cell_type": "code",
   "execution_count": null,
   "metadata": {},
   "outputs": [],
   "source": []
  }
 ],
 "metadata": {
  "kernelspec": {
   "display_name": "Python 3",
   "language": "python",
   "name": "python3"
  },
  "language_info": {
   "codemirror_mode": {
    "name": "ipython",
    "version": 3
   },
   "file_extension": ".py",
   "mimetype": "text/x-python",
   "name": "python",
   "nbconvert_exporter": "python",
   "pygments_lexer": "ipython3",
   "version": "3.7.10"
  },
  "nbsphinx": {
   "timeout": 600
  },
  "toc": {
   "base_numbering": 1,
   "nav_menu": {},
   "number_sections": true,
   "sideBar": true,
   "skip_h1_title": false,
   "title_cell": "Table of Contents",
   "title_sidebar": "Contents",
   "toc_cell": false,
   "toc_position": {},
   "toc_section_display": true,
   "toc_window_display": false
  },
  "varInspector": {
   "cols": {
    "lenName": 16,
    "lenType": 16,
    "lenVar": 40
   },
   "kernels_config": {
    "python": {
     "delete_cmd_postfix": "",
     "delete_cmd_prefix": "del ",
     "library": "var_list.py",
     "varRefreshCmd": "print(var_dic_list())"
    },
    "r": {
     "delete_cmd_postfix": ") ",
     "delete_cmd_prefix": "rm(",
     "library": "var_list.r",
     "varRefreshCmd": "cat(var_dic_list()) "
    }
   },
   "types_to_exclude": [
    "module",
    "function",
    "builtin_function_or_method",
    "instance",
    "_Feature"
   ],
   "window_display": false
  }
 },
 "nbformat": 4,
 "nbformat_minor": 2
}
