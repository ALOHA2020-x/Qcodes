{
 "cells": [
  {
   "cell_type": "markdown",
   "metadata": {},
   "source": [
    "# DataSet Performance\n",
    "\n",
    "This notebook shows the trade-off between inserting data into a database row-by-row and as binary blobs. Inserting the data row-by-row means that we have direct access to all the data and may perform queries directly on the values of the data. On the other hand, as we shall see, this is much slower than inserting the data directly as binary blobs."
   ]
  },
  {
   "cell_type": "markdown",
   "metadata": {},
   "source": [
    "First, we choose a new location for the database to ensure that we don't add a bunch of benchmarking data to the default one."
   ]
  },
  {
   "cell_type": "code",
   "execution_count": 1,
   "metadata": {
    "execution": {
     "iopub.execute_input": "2021-03-08T13:46:23.347325Z",
     "iopub.status.busy": "2021-03-08T13:46:23.346740Z",
     "iopub.status.idle": "2021-03-08T13:46:24.404633Z",
     "shell.execute_reply": "2021-03-08T13:46:24.400224Z"
    }
   },
   "outputs": [
    {
     "name": "stdout",
     "output_type": "stream",
     "text": [
      "Logging hadn't been started.\n",
      "Activating auto-logging. Current session state plus future input saved.\n",
      "Filename       : /home/runner/.qcodes/logs/command_history.log\n",
      "Mode           : append\n",
      "Output logging : True\n",
      "Raw input log  : False\n",
      "Timestamping   : True\n",
      "State          : active\n"
     ]
    },
    {
     "name": "stdout",
     "output_type": "stream",
     "text": [
      "Qcodes Logfile : /home/runner/.qcodes/logs/210308-4365-qcodes.log\n"
     ]
    }
   ],
   "source": [
    "import os\n",
    "cwd = os.getcwd()\n",
    "import qcodes as qc\n",
    "qc.config[\"core\"][\"db_location\"] = os.path.join(cwd, 'testing.db')\n"
   ]
  },
  {
   "cell_type": "code",
   "execution_count": 2,
   "metadata": {
    "execution": {
     "iopub.execute_input": "2021-03-08T13:46:24.413517Z",
     "iopub.status.busy": "2021-03-08T13:46:24.411635Z",
     "iopub.status.idle": "2021-03-08T13:46:24.643368Z",
     "shell.execute_reply": "2021-03-08T13:46:24.642776Z"
    }
   },
   "outputs": [],
   "source": [
    "%matplotlib inline\n",
    "import time\n",
    "import matplotlib.pyplot as plt\n",
    "import numpy as np\n",
    "\n",
    "import qcodes as qc\n",
    "from qcodes.instrument.parameter import ManualParameter\n",
    "from qcodes.dataset.experiment_container import (Experiment,\n",
    "                                                 load_last_experiment,\n",
    "                                                 new_experiment)\n",
    "from qcodes.dataset.sqlite.database import initialise_database\n",
    "from qcodes import load_or_create_experiment\n",
    "from qcodes.dataset.measurements import Measurement"
   ]
  },
  {
   "cell_type": "code",
   "execution_count": 3,
   "metadata": {
    "execution": {
     "iopub.execute_input": "2021-03-08T13:46:24.649797Z",
     "iopub.status.busy": "2021-03-08T13:46:24.649137Z",
     "iopub.status.idle": "2021-03-08T13:46:25.060950Z",
     "shell.execute_reply": "2021-03-08T13:46:25.061579Z"
    }
   },
   "outputs": [
    {
     "name": "stdout",
     "output_type": "stream",
     "text": [
      "\r",
      "0it [00:00, ?it/s]"
     ]
    },
    {
     "name": "stdout",
     "output_type": "stream",
     "text": [
      "\r",
      "Upgrading database; v0 -> v1: : 0it [00:00, ?it/s]"
     ]
    },
    {
     "name": "stdout",
     "output_type": "stream",
     "text": [
      "\r",
      "Upgrading database; v0 -> v1: : 0it [00:00, ?it/s]"
     ]
    },
    {
     "name": "stdout",
     "output_type": "stream",
     "text": [
      "\n",
      "\r",
      "  0%|          | 0/1 [00:00<?, ?it/s]"
     ]
    },
    {
     "name": "stdout",
     "output_type": "stream",
     "text": [
      "\r",
      "Upgrading database; v1 -> v2:   0%|          | 0/1 [00:00<?, ?it/s]"
     ]
    },
    {
     "name": "stdout",
     "output_type": "stream",
     "text": [
      "\r",
      "Upgrading database; v1 -> v2: 100%|██████████| 1/1 [00:00<00:00, 441.78it/s]"
     ]
    },
    {
     "name": "stdout",
     "output_type": "stream",
     "text": [
      "\n",
      "\r",
      "0it [00:00, ?it/s]"
     ]
    },
    {
     "name": "stdout",
     "output_type": "stream",
     "text": [
      "\r",
      "Upgrading database; v2 -> v3: : 0it [00:00, ?it/s]"
     ]
    },
    {
     "name": "stdout",
     "output_type": "stream",
     "text": [
      "\r",
      "Upgrading database; v2 -> v3: : 0it [00:00, ?it/s]"
     ]
    },
    {
     "name": "stdout",
     "output_type": "stream",
     "text": [
      "\n",
      "\r",
      "0it [00:00, ?it/s]"
     ]
    },
    {
     "name": "stdout",
     "output_type": "stream",
     "text": [
      "\r",
      "Upgrading database; v3 -> v4: : 0it [00:00, ?it/s]"
     ]
    },
    {
     "name": "stdout",
     "output_type": "stream",
     "text": [
      "\r",
      "Upgrading database; v3 -> v4: : 0it [00:00, ?it/s]"
     ]
    },
    {
     "name": "stdout",
     "output_type": "stream",
     "text": [
      "\n",
      "\r",
      "  0%|          | 0/1 [00:00<?, ?it/s]"
     ]
    },
    {
     "name": "stdout",
     "output_type": "stream",
     "text": [
      "\r",
      "Upgrading database; v4 -> v5:   0%|          | 0/1 [00:00<?, ?it/s]"
     ]
    },
    {
     "name": "stdout",
     "output_type": "stream",
     "text": [
      "\r",
      "Upgrading database; v4 -> v5: 100%|██████████| 1/1 [00:00<00:00, 553.27it/s]"
     ]
    },
    {
     "name": "stdout",
     "output_type": "stream",
     "text": [
      "\n",
      "\r",
      "0it [00:00, ?it/s]"
     ]
    },
    {
     "name": "stdout",
     "output_type": "stream",
     "text": [
      "\r",
      "Upgrading database; v5 -> v6: : 0it [00:00, ?it/s]"
     ]
    },
    {
     "name": "stdout",
     "output_type": "stream",
     "text": [
      "\r",
      "Upgrading database; v5 -> v6: : 0it [00:00, ?it/s]"
     ]
    },
    {
     "name": "stdout",
     "output_type": "stream",
     "text": [
      "\n",
      "\r",
      "  0%|          | 0/1 [00:00<?, ?it/s]"
     ]
    },
    {
     "name": "stdout",
     "output_type": "stream",
     "text": [
      "\r",
      "Upgrading database; v6 -> v7:   0%|          | 0/1 [00:00<?, ?it/s]"
     ]
    },
    {
     "name": "stdout",
     "output_type": "stream",
     "text": [
      "\r",
      "Upgrading database; v6 -> v7: 100%|██████████| 1/1 [00:00<00:00, 67.15it/s]"
     ]
    },
    {
     "name": "stdout",
     "output_type": "stream",
     "text": [
      "\n",
      "\r",
      "  0%|          | 0/1 [00:00<?, ?it/s]"
     ]
    },
    {
     "name": "stdout",
     "output_type": "stream",
     "text": [
      "\r",
      "Upgrading database; v7 -> v8:   0%|          | 0/1 [00:00<?, ?it/s]"
     ]
    },
    {
     "name": "stdout",
     "output_type": "stream",
     "text": [
      "\r",
      "Upgrading database; v7 -> v8: 100%|██████████| 1/1 [00:00<00:00, 454.96it/s]"
     ]
    },
    {
     "name": "stdout",
     "output_type": "stream",
     "text": [
      "\n"
     ]
    },
    {
     "name": "stdout",
     "output_type": "stream",
     "text": [
      "\r",
      "  0%|          | 0/1 [00:00<?, ?it/s]"
     ]
    },
    {
     "name": "stdout",
     "output_type": "stream",
     "text": [
      "\r",
      "Upgrading database; v8 -> v9:   0%|          | 0/1 [00:00<?, ?it/s]"
     ]
    },
    {
     "name": "stdout",
     "output_type": "stream",
     "text": [
      "\r",
      "Upgrading database; v8 -> v9: 100%|██████████| 1/1 [00:00<00:00, 344.25it/s]"
     ]
    },
    {
     "name": "stdout",
     "output_type": "stream",
     "text": [
      "\n"
     ]
    }
   ],
   "source": [
    "initialise_database()\n",
    "exp = load_or_create_experiment(experiment_name='tutorial_exp', sample_name=\"no sample\")"
   ]
  },
  {
   "cell_type": "markdown",
   "metadata": {},
   "source": [
    "Here, we define a simple function to benchmark the time it takes to insert n points with either numeric or array data type.\n",
    "We will compare both the time used to call ``add_result`` and the time used for the full measurement."
   ]
  },
  {
   "cell_type": "code",
   "execution_count": 4,
   "metadata": {
    "execution": {
     "iopub.execute_input": "2021-03-08T13:46:25.074836Z",
     "iopub.status.busy": "2021-03-08T13:46:25.074148Z",
     "iopub.status.idle": "2021-03-08T13:46:25.080007Z",
     "shell.execute_reply": "2021-03-08T13:46:25.079390Z"
    }
   },
   "outputs": [],
   "source": [
    "def insert_data(paramtype, npoints, nreps=1):\n",
    "\n",
    "    meas = Measurement(exp=exp)\n",
    "\n",
    "    x1 = ManualParameter('x1')\n",
    "    x2 = ManualParameter('x2')\n",
    "    x3 = ManualParameter('x3')\n",
    "    y1 = ManualParameter('y1')\n",
    "    y2 = ManualParameter('y2')\n",
    "\n",
    "    meas.register_parameter(x1, paramtype=paramtype)\n",
    "    meas.register_parameter(x2, paramtype=paramtype)\n",
    "    meas.register_parameter(x3, paramtype=paramtype)\n",
    "    meas.register_parameter(y1, setpoints=[x1, x2, x3],\n",
    "                            paramtype=paramtype)\n",
    "    meas.register_parameter(y2, setpoints=[x1, x2, x3],\n",
    "                            paramtype=paramtype)\n",
    "    start = time.perf_counter()\n",
    "    with meas.run() as datasaver:\n",
    "        start_adding = time.perf_counter()\n",
    "        for i in range(nreps):\n",
    "            datasaver.add_result((x1, np.random.rand(npoints)),\n",
    "                                 (x2, np.random.rand(npoints)),\n",
    "                                 (x3, np.random.rand(npoints)),\n",
    "                                 (y1, np.random.rand(npoints)),\n",
    "                                 (y2, np.random.rand(npoints)))\n",
    "        stop_adding = time.perf_counter()\n",
    "        run_id = datasaver.run_id\n",
    "    stop = time.perf_counter()\n",
    "    tot_time = stop - start\n",
    "    add_time = stop_adding - start_adding\n",
    "    return tot_time, add_time, run_id"
   ]
  },
  {
   "cell_type": "markdown",
   "metadata": {},
   "source": [
    "## Comparison between numeric/array data and binary blob"
   ]
  },
  {
   "cell_type": "markdown",
   "metadata": {},
   "source": [
    "### Case1: Short experiment time"
   ]
  },
  {
   "cell_type": "code",
   "execution_count": 5,
   "metadata": {
    "execution": {
     "iopub.execute_input": "2021-03-08T13:46:25.088633Z",
     "iopub.status.busy": "2021-03-08T13:46:25.087478Z",
     "iopub.status.idle": "2021-03-08T13:46:26.810602Z",
     "shell.execute_reply": "2021-03-08T13:46:26.810038Z"
    }
   },
   "outputs": [
    {
     "name": "stdout",
     "output_type": "stream",
     "text": [
      "Starting experimental run with id: 1. \n"
     ]
    },
    {
     "name": "stdout",
     "output_type": "stream",
     "text": [
      "Starting experimental run with id: 2. \n",
      "Starting experimental run with id: 3. \n"
     ]
    },
    {
     "name": "stdout",
     "output_type": "stream",
     "text": [
      "Starting experimental run with id: 4. \n"
     ]
    },
    {
     "name": "stdout",
     "output_type": "stream",
     "text": [
      "Starting experimental run with id: 5. \n",
      "Starting experimental run with id: 6. \n"
     ]
    },
    {
     "name": "stdout",
     "output_type": "stream",
     "text": [
      "Starting experimental run with id: 7. \n"
     ]
    },
    {
     "name": "stdout",
     "output_type": "stream",
     "text": [
      "Starting experimental run with id: 8. \n"
     ]
    },
    {
     "name": "stdout",
     "output_type": "stream",
     "text": [
      "Starting experimental run with id: 9. \n"
     ]
    },
    {
     "name": "stdout",
     "output_type": "stream",
     "text": [
      "Starting experimental run with id: 10. \n"
     ]
    },
    {
     "name": "stdout",
     "output_type": "stream",
     "text": [
      "Starting experimental run with id: 11. \n"
     ]
    },
    {
     "name": "stdout",
     "output_type": "stream",
     "text": [
      "Starting experimental run with id: 12. \n",
      "Starting experimental run with id: 13. \n"
     ]
    },
    {
     "name": "stdout",
     "output_type": "stream",
     "text": [
      "Starting experimental run with id: 14. \n"
     ]
    }
   ],
   "source": [
    "sizes = [1,500,1000,2000,3000,4000,5000]\n",
    "t_numeric = []\n",
    "t_numeric_add = []\n",
    "t_array = []\n",
    "t_array_add = []\n",
    "for size in sizes:\n",
    "    tn, tna, run_id_n =  insert_data('numeric', size)\n",
    "    t_numeric.append(tn)\n",
    "    t_numeric_add.append(tna)\n",
    "\n",
    "    ta, taa, run_id_a =  insert_data('array', size)\n",
    "    t_array.append(ta)\n",
    "    t_array_add.append(taa)"
   ]
  },
  {
   "cell_type": "code",
   "execution_count": 6,
   "metadata": {
    "execution": {
     "iopub.execute_input": "2021-03-08T13:46:26.832015Z",
     "iopub.status.busy": "2021-03-08T13:46:26.831347Z",
     "iopub.status.idle": "2021-03-08T13:46:27.047584Z",
     "shell.execute_reply": "2021-03-08T13:46:27.047008Z"
    }
   },
   "outputs": [
    {
     "data": {
      "image/png": "[encoded data removed]",
      "text/plain": [
       "<Figure size 432x288 with 1 Axes>"
      ]
     },
     "metadata": {
      "needs_background": "light"
     },
     "output_type": "display_data"
    }
   ],
   "source": [
    "fig, ax = plt.subplots(1,1)\n",
    "ax.plot(sizes, t_numeric, 'o-', label='Inserting row-by-row')\n",
    "ax.plot(sizes, t_numeric_add, 'o-', label='Inserting row-by-row: add_result only')\n",
    "ax.plot(sizes, t_array, 'd-', label='Inserting as binary blob')\n",
    "ax.plot(sizes, t_array_add, 'd-', label='Inserting as binary blob: add_result only')\n",
    "ax.legend()\n",
    "ax.set_xlabel('Array length')\n",
    "ax.set_ylabel('Time (s)')\n",
    "fig.tight_layout()"
   ]
  },
  {
   "cell_type": "markdown",
   "metadata": {},
   "source": [
    "As shown in the latter figure, the time to setup and and close the experiment is approximately 0.4 sec. In case of small array sizes, the difference between inserting values of data as arrays and inserting them row-by-row is relatively unimportant. At larger array sizes, i.e. above 10000 points, the cost of writing data as individual datapoints starts to become important.\n"
   ]
  },
  {
   "cell_type": "markdown",
   "metadata": {},
   "source": [
    "### Case2: Long experiment time "
   ]
  },
  {
   "cell_type": "code",
   "execution_count": 7,
   "metadata": {
    "execution": {
     "iopub.execute_input": "2021-03-08T13:46:27.056865Z",
     "iopub.status.busy": "2021-03-08T13:46:27.055750Z",
     "iopub.status.idle": "2021-03-08T13:47:39.051951Z",
     "shell.execute_reply": "2021-03-08T13:47:39.050684Z"
    }
   },
   "outputs": [
    {
     "name": "stdout",
     "output_type": "stream",
     "text": [
      "Starting experimental run with id: 15. \n",
      "Starting experimental run with id: 16. \n"
     ]
    },
    {
     "name": "stdout",
     "output_type": "stream",
     "text": [
      "Starting experimental run with id: 17. \n"
     ]
    },
    {
     "name": "stdout",
     "output_type": "stream",
     "text": [
      "Starting experimental run with id: 18. \n"
     ]
    },
    {
     "name": "stdout",
     "output_type": "stream",
     "text": [
      "Starting experimental run with id: 19. \n"
     ]
    },
    {
     "name": "stdout",
     "output_type": "stream",
     "text": [
      "Starting experimental run with id: 20. \n"
     ]
    },
    {
     "name": "stdout",
     "output_type": "stream",
     "text": [
      "Starting experimental run with id: 21. \n"
     ]
    },
    {
     "name": "stdout",
     "output_type": "stream",
     "text": [
      "Starting experimental run with id: 22. \n"
     ]
    },
    {
     "name": "stdout",
     "output_type": "stream",
     "text": [
      "Starting experimental run with id: 23. \n"
     ]
    },
    {
     "name": "stdout",
     "output_type": "stream",
     "text": [
      "Starting experimental run with id: 24. \n"
     ]
    },
    {
     "name": "stdout",
     "output_type": "stream",
     "text": [
      "Starting experimental run with id: 25. \n"
     ]
    },
    {
     "name": "stdout",
     "output_type": "stream",
     "text": [
      "Starting experimental run with id: 26. \n"
     ]
    },
    {
     "name": "stdout",
     "output_type": "stream",
     "text": [
      "Starting experimental run with id: 27. \n"
     ]
    },
    {
     "name": "stdout",
     "output_type": "stream",
     "text": [
      "Starting experimental run with id: 28. \n"
     ]
    }
   ],
   "source": [
    "sizes = [1,500,1000,2000,3000,4000,5000]\n",
    "nreps = 100\n",
    "t_numeric = []\n",
    "t_numeric_add = []\n",
    "t_numeric_run_ids = []\n",
    "t_array = []\n",
    "t_array_add = []\n",
    "t_array_run_ids = []\n",
    "for size in sizes:\n",
    "    tn, tna, run_id_n =  insert_data('numeric', size, nreps=nreps)\n",
    "    t_numeric.append(tn)\n",
    "    t_numeric_add.append(tna)\n",
    "    t_numeric_run_ids.append(run_id_n)\n",
    "\n",
    "    ta, taa, run_id_a =  insert_data('array', size, nreps=nreps)\n",
    "    t_array.append(ta)\n",
    "    t_array_add.append(taa)\n",
    "    t_array_run_ids.append(run_id_a)"
   ]
  },
  {
   "cell_type": "code",
   "execution_count": 8,
   "metadata": {
    "execution": {
     "iopub.execute_input": "2021-03-08T13:47:39.100500Z",
     "iopub.status.busy": "2021-03-08T13:47:39.072318Z",
     "iopub.status.idle": "2021-03-08T13:47:39.268750Z",
     "shell.execute_reply": "2021-03-08T13:47:39.269303Z"
    },
    "scrolled": true
   },
   "outputs": [
    {
     "data": {
      "image/png": "[encoded data removed]",
      "text/plain": [
       "<Figure size 432x288 with 1 Axes>"
      ]
     },
     "metadata": {
      "needs_background": "light"
     },
     "output_type": "display_data"
    }
   ],
   "source": [
    "fig, ax = plt.subplots(1,1)\n",
    "ax.plot(sizes, t_numeric, 'o-', label='Inserting row-by-row')\n",
    "ax.plot(sizes, t_numeric_add, 'o-', label='Inserting row-by-row: add_result only')\n",
    "ax.plot(sizes, t_array, 'd-', label='Inserting as binary blob')\n",
    "ax.plot(sizes, t_array_add, 'd-', label='Inserting as binary blob: add_result only')\n",
    "ax.legend()\n",
    "ax.set_xlabel('Array length')\n",
    "ax.set_ylabel('Time (s)')\n",
    "fig.tight_layout()"
   ]
  },
  {
   "cell_type": "markdown",
   "metadata": {},
   "source": [
    "However, as we increase the length of the experiment, as seen here by repeating the insertion 100 times, we see a big difference between inserting values of the data row-by-row and inserting it as a binary blob."
   ]
  },
  {
   "cell_type": "markdown",
   "metadata": {},
   "source": [
    "## Loading the data "
   ]
  },
  {
   "cell_type": "code",
   "execution_count": 9,
   "metadata": {
    "execution": {
     "iopub.execute_input": "2021-03-08T13:47:39.274734Z",
     "iopub.status.busy": "2021-03-08T13:47:39.273694Z",
     "iopub.status.idle": "2021-03-08T13:47:39.277087Z",
     "shell.execute_reply": "2021-03-08T13:47:39.277606Z"
    }
   },
   "outputs": [],
   "source": [
    "from qcodes.dataset.data_set import load_by_id\n",
    "from qcodes.dataset.data_export import get_data_by_id"
   ]
  },
  {
   "cell_type": "markdown",
   "metadata": {},
   "source": [
    "As usual you can load the data by using the ``load_by_id`` function but you will notice that the different storage methods\n",
    "are reflected in shape of the data as it is retrieved. "
   ]
  },
  {
   "cell_type": "code",
   "execution_count": 10,
   "metadata": {
    "execution": {
     "iopub.execute_input": "2021-03-08T13:47:39.282925Z",
     "iopub.status.busy": "2021-03-08T13:47:39.281664Z",
     "iopub.status.idle": "2021-03-08T13:47:39.283601Z",
     "shell.execute_reply": "2021-03-08T13:47:39.284076Z"
    }
   },
   "outputs": [],
   "source": [
    "run_id_n = t_numeric_run_ids[0]\n",
    "run_id_a = t_array_run_ids[0]"
   ]
  },
  {
   "cell_type": "code",
   "execution_count": 11,
   "metadata": {
    "execution": {
     "iopub.execute_input": "2021-03-08T13:47:39.288052Z",
     "iopub.status.busy": "2021-03-08T13:47:39.287499Z",
     "iopub.status.idle": "2021-03-08T13:47:39.303210Z",
     "shell.execute_reply": "2021-03-08T13:47:39.303732Z"
    },
    "scrolled": true
   },
   "outputs": [
    {
     "data": {
      "text/plain": [
       "{'x1': {'x1': array([0.61457842, 0.61457842, 0.14792853, 0.14792853, 0.27410693,\n",
       "         0.27410693, 0.31956802, 0.31956802, 0.09069559, 0.09069559,\n",
       "         0.27660058, 0.27660058, 0.25541568, 0.25541568, 0.94758869,\n",
       "         0.94758869, 0.69467556, 0.69467556, 0.75286479, 0.75286479,\n",
       "         0.21094178, 0.21094178, 0.6632657 , 0.6632657 , 0.09771638,\n",
       "         0.09771638, 0.39004179, 0.39004179, 0.07564668, 0.07564668,\n",
       "         0.96376555, 0.96376555, 0.69929452, 0.69929452, 0.1734289 ,\n",
       "         0.1734289 , 0.06233058, 0.06233058, 0.63052897, 0.63052897,\n",
       "         0.68713467, 0.68713467, 0.09145547, 0.09145547, 0.63704162,\n",
       "         0.63704162, 0.80367677, 0.80367677, 0.99019798, 0.99019798,\n",
       "         0.88373982, 0.88373982, 0.98680755, 0.98680755, 0.80049971,\n",
       "         0.80049971, 0.86872095, 0.86872095, 0.90432193, 0.90432193,\n",
       "         0.46622798, 0.46622798, 0.53030061, 0.53030061, 0.18186213,\n",
       "         0.18186213, 0.14888903, 0.14888903, 0.71069691, 0.71069691,\n",
       "         0.71016415, 0.71016415, 0.5634552 , 0.5634552 , 0.65009752,\n",
       "         0.65009752, 0.62854935, 0.62854935, 0.9789849 , 0.9789849 ,\n",
       "         0.42046601, 0.42046601, 0.04862913, 0.04862913, 0.54489981,\n",
       "         0.54489981, 0.30880765, 0.30880765, 0.86202616, 0.86202616,\n",
       "         0.93066096, 0.93066096, 0.95255491, 0.95255491, 0.95116467,\n",
       "         0.95116467, 0.76391071, 0.76391071, 0.54979473, 0.54979473,\n",
       "         0.0477142 , 0.0477142 , 0.18869108, 0.18869108, 0.11443593,\n",
       "         0.11443593, 0.11507431, 0.11507431, 0.03017166, 0.03017166,\n",
       "         0.24877914, 0.24877914, 0.83943732, 0.83943732, 0.20819931,\n",
       "         0.20819931, 0.56282212, 0.56282212, 0.60578945, 0.60578945,\n",
       "         0.03121228, 0.03121228, 0.17683697, 0.17683697, 0.43396036,\n",
       "         0.43396036, 0.35233487, 0.35233487, 0.31526208, 0.31526208,\n",
       "         0.56108329, 0.56108329, 0.19911589, 0.19911589, 0.65622172,\n",
       "         0.65622172, 0.27360794, 0.27360794, 0.83341664, 0.83341664,\n",
       "         0.68667043, 0.68667043, 0.29834573, 0.29834573, 0.50814205,\n",
       "         0.50814205, 0.19023146, 0.19023146, 0.3053492 , 0.3053492 ,\n",
       "         0.00875185, 0.00875185, 0.78505769, 0.78505769, 0.76687756,\n",
       "         0.76687756, 0.79740123, 0.79740123, 0.77835253, 0.77835253,\n",
       "         0.56324357, 0.56324357, 0.58320289, 0.58320289, 0.8350723 ,\n",
       "         0.8350723 , 0.84660291, 0.84660291, 0.57376092, 0.57376092,\n",
       "         0.7280825 , 0.7280825 , 0.41908788, 0.41908788, 0.14167192,\n",
       "         0.14167192, 0.80391806, 0.80391806, 0.08780971, 0.08780971,\n",
       "         0.1771663 , 0.1771663 , 0.20377505, 0.20377505, 0.40085809,\n",
       "         0.40085809, 0.99895107, 0.99895107, 0.51647152, 0.51647152,\n",
       "         0.92194713, 0.92194713, 0.54326566, 0.54326566, 0.79892391,\n",
       "         0.79892391, 0.10157003, 0.10157003, 0.56070129, 0.56070129])}}"
      ]
     },
     "execution_count": 1,
     "metadata": {},
     "output_type": "execute_result"
    }
   ],
   "source": [
    "ds = load_by_id(run_id_n)\n",
    "ds.get_parameter_data('x1')"
   ]
  },
  {
   "cell_type": "markdown",
   "metadata": {},
   "source": [
    "And a dataset stored as binary arrays"
   ]
  },
  {
   "cell_type": "code",
   "execution_count": 12,
   "metadata": {
    "execution": {
     "iopub.execute_input": "2021-03-08T13:47:39.310616Z",
     "iopub.status.busy": "2021-03-08T13:47:39.310043Z",
     "iopub.status.idle": "2021-03-08T13:47:39.372206Z",
     "shell.execute_reply": "2021-03-08T13:47:39.372716Z"
    },
    "scrolled": true
   },
   "outputs": [
    {
     "data": {
      "text/plain": [
       "{'x1': {'x1': array([[0.74763709],\n",
       "         [0.74763709],\n",
       "         [0.3734075 ],\n",
       "         [0.3734075 ],\n",
       "         [0.13100056],\n",
       "         [0.13100056],\n",
       "         [0.70099911],\n",
       "         [0.70099911],\n",
       "         [0.14976501],\n",
       "         [0.14976501],\n",
       "         [0.49963048],\n",
       "         [0.49963048],\n",
       "         [0.74637008],\n",
       "         [0.74637008],\n",
       "         [0.87340241],\n",
       "         [0.87340241],\n",
       "         [0.12306627],\n",
       "         [0.12306627],\n",
       "         [0.38222504],\n",
       "         [0.38222504],\n",
       "         [0.37914232],\n",
       "         [0.37914232],\n",
       "         [0.09795141],\n",
       "         [0.09795141],\n",
       "         [0.0322657 ],\n",
       "         [0.0322657 ],\n",
       "         [0.89085665],\n",
       "         [0.89085665],\n",
       "         [0.5133633 ],\n",
       "         [0.5133633 ],\n",
       "         [0.03706069],\n",
       "         [0.03706069],\n",
       "         [0.40262727],\n",
       "         [0.40262727],\n",
       "         [0.19252479],\n",
       "         [0.19252479],\n",
       "         [0.12671554],\n",
       "         [0.12671554],\n",
       "         [0.0679515 ],\n",
       "         [0.0679515 ],\n",
       "         [0.40329177],\n",
       "         [0.40329177],\n",
       "         [0.39067394],\n",
       "         [0.39067394],\n",
       "         [0.41413842],\n",
       "         [0.41413842],\n",
       "         [0.69079968],\n",
       "         [0.69079968],\n",
       "         [0.43025516],\n",
       "         [0.43025516],\n",
       "         [0.51248152],\n",
       "         [0.51248152],\n",
       "         [0.73953241],\n",
       "         [0.73953241],\n",
       "         [0.53800899],\n",
       "         [0.53800899],\n",
       "         [0.08511526],\n",
       "         [0.08511526],\n",
       "         [0.68689006],\n",
       "         [0.68689006],\n",
       "         [0.15892673],\n",
       "         [0.15892673],\n",
       "         [0.29192654],\n",
       "         [0.29192654],\n",
       "         [0.52322112],\n",
       "         [0.52322112],\n",
       "         [0.14678804],\n",
       "         [0.14678804],\n",
       "         [0.45729983],\n",
       "         [0.45729983],\n",
       "         [0.21848503],\n",
       "         [0.21848503],\n",
       "         [0.85529263],\n",
       "         [0.85529263],\n",
       "         [0.69685196],\n",
       "         [0.69685196],\n",
       "         [0.53308735],\n",
       "         [0.53308735],\n",
       "         [0.52892879],\n",
       "         [0.52892879],\n",
       "         [0.94322596],\n",
       "         [0.94322596],\n",
       "         [0.59554834],\n",
       "         [0.59554834],\n",
       "         [0.00486438],\n",
       "         [0.00486438],\n",
       "         [0.56396682],\n",
       "         [0.56396682],\n",
       "         [0.06140634],\n",
       "         [0.06140634],\n",
       "         [0.4033141 ],\n",
       "         [0.4033141 ],\n",
       "         [0.85719012],\n",
       "         [0.85719012],\n",
       "         [0.9536271 ],\n",
       "         [0.9536271 ],\n",
       "         [0.78356417],\n",
       "         [0.78356417],\n",
       "         [0.88812133],\n",
       "         [0.88812133],\n",
       "         [0.36312826],\n",
       "         [0.36312826],\n",
       "         [0.48127291],\n",
       "         [0.48127291],\n",
       "         [0.33534366],\n",
       "         [0.33534366],\n",
       "         [0.93583326],\n",
       "         [0.93583326],\n",
       "         [0.10576182],\n",
       "         [0.10576182],\n",
       "         [0.74156007],\n",
       "         [0.74156007],\n",
       "         [0.64425576],\n",
       "         [0.64425576],\n",
       "         [0.41422983],\n",
       "         [0.41422983],\n",
       "         [0.87748368],\n",
       "         [0.87748368],\n",
       "         [0.29839073],\n",
       "         [0.29839073],\n",
       "         [0.96705641],\n",
       "         [0.96705641],\n",
       "         [0.54760707],\n",
       "         [0.54760707],\n",
       "         [0.33703353],\n",
       "         [0.33703353],\n",
       "         [0.55163835],\n",
       "         [0.55163835],\n",
       "         [0.35510294],\n",
       "         [0.35510294],\n",
       "         [0.48679386],\n",
       "         [0.48679386],\n",
       "         [0.42384666],\n",
       "         [0.42384666],\n",
       "         [0.24801825],\n",
       "         [0.24801825],\n",
       "         [0.13209073],\n",
       "         [0.13209073],\n",
       "         [0.91266644],\n",
       "         [0.91266644],\n",
       "         [0.95579607],\n",
       "         [0.95579607],\n",
       "         [0.62112412],\n",
       "         [0.62112412],\n",
       "         [0.57919377],\n",
       "         [0.57919377],\n",
       "         [0.1407297 ],\n",
       "         [0.1407297 ],\n",
       "         [0.78845069],\n",
       "         [0.78845069],\n",
       "         [0.5489538 ],\n",
       "         [0.5489538 ],\n",
       "         [0.76060941],\n",
       "         [0.76060941],\n",
       "         [0.10188074],\n",
       "         [0.10188074],\n",
       "         [0.80192893],\n",
       "         [0.80192893],\n",
       "         [0.41821473],\n",
       "         [0.41821473],\n",
       "         [0.22371636],\n",
       "         [0.22371636],\n",
       "         [0.97723518],\n",
       "         [0.97723518],\n",
       "         [0.51837673],\n",
       "         [0.51837673],\n",
       "         [0.36544473],\n",
       "         [0.36544473],\n",
       "         [0.72533088],\n",
       "         [0.72533088],\n",
       "         [0.99291456],\n",
       "         [0.99291456],\n",
       "         [0.32305444],\n",
       "         [0.32305444],\n",
       "         [0.87000267],\n",
       "         [0.87000267],\n",
       "         [0.4231741 ],\n",
       "         [0.4231741 ],\n",
       "         [0.1612348 ],\n",
       "         [0.1612348 ],\n",
       "         [0.4188137 ],\n",
       "         [0.4188137 ],\n",
       "         [0.80872208],\n",
       "         [0.80872208],\n",
       "         [0.81632853],\n",
       "         [0.81632853],\n",
       "         [0.74368658],\n",
       "         [0.74368658],\n",
       "         [0.92896552],\n",
       "         [0.92896552],\n",
       "         [0.11394865],\n",
       "         [0.11394865],\n",
       "         [0.3485137 ],\n",
       "         [0.3485137 ],\n",
       "         [0.12816055],\n",
       "         [0.12816055],\n",
       "         [0.45930566],\n",
       "         [0.45930566],\n",
       "         [0.21680717],\n",
       "         [0.21680717]])}}"
      ]
     },
     "execution_count": 1,
     "metadata": {},
     "output_type": "execute_result"
    }
   ],
   "source": [
    "ds = load_by_id(run_id_a)\n",
    "ds.get_parameter_data('x1')"
   ]
  },
  {
   "cell_type": "code",
   "execution_count": null,
   "metadata": {},
   "outputs": [],
   "source": []
  }
 ],
 "metadata": {
  "kernelspec": {
   "display_name": "Python 3",
   "language": "python",
   "name": "python3"
  },
  "language_info": {
   "codemirror_mode": {
    "name": "ipython",
    "version": 3
   },
   "file_extension": ".py",
   "mimetype": "text/x-python",
   "name": "python",
   "nbconvert_exporter": "python",
   "pygments_lexer": "ipython3",
   "version": "3.7.10"
  },
  "nbsphinx": {
   "timeout": 600
  },
  "toc": {
   "base_numbering": 1,
   "nav_menu": {},
   "number_sections": true,
   "sideBar": true,
   "skip_h1_title": false,
   "title_cell": "Table of Contents",
   "title_sidebar": "Contents",
   "toc_cell": false,
   "toc_position": {},
   "toc_section_display": true,
   "toc_window_display": false
  },
  "varInspector": {
   "cols": {
    "lenName": 16,
    "lenType": 16,
    "lenVar": 40
   },
   "kernels_config": {
    "python": {
     "delete_cmd_postfix": "",
     "delete_cmd_prefix": "del ",
     "library": "var_list.py",
     "varRefreshCmd": "print(var_dic_list())"
    },
    "r": {
     "delete_cmd_postfix": ") ",
     "delete_cmd_prefix": "rm(",
     "library": "var_list.r",
     "varRefreshCmd": "cat(var_dic_list()) "
    }
   },
   "types_to_exclude": [
    "module",
    "function",
    "builtin_function_or_method",
    "instance",
    "_Feature"
   ],
   "window_display": false
  }
 },
 "nbformat": 4,
 "nbformat_minor": 2
}
