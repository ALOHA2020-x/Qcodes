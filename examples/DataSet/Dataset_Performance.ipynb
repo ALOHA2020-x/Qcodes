{
 "cells": [
  {
   "cell_type": "markdown",
   "metadata": {},
   "source": [
    "# DataSet Performance\n",
    "\n",
    "This notebook shows the trade-off between inserting data into a database row-by-row and as binary blobs. Inserting the data row-by-row means that we have direct access to all the data and may perform queries directly on the values of the data. On the other hand, as we shall see, this is much slower than inserting the data directly as binary blobs."
   ]
  },
  {
   "cell_type": "markdown",
   "metadata": {},
   "source": [
    "First, we choose a new location for the database to ensure that we don't add a bunch of benchmarking data to the default one."
   ]
  },
  {
   "cell_type": "code",
   "execution_count": 1,
   "metadata": {
    "execution": {
     "iopub.execute_input": "2021-03-23T07:45:09.538661Z",
     "iopub.status.busy": "2021-03-23T07:45:09.537908Z",
     "iopub.status.idle": "2021-03-23T07:45:10.591401Z",
     "shell.execute_reply": "2021-03-23T07:45:10.592002Z"
    }
   },
   "outputs": [
    {
     "name": "stdout",
     "output_type": "stream",
     "text": [
      "Logging hadn't been started.\n",
      "Activating auto-logging. Current session state plus future input saved.\n",
      "Filename       : /home/runner/.qcodes/logs/command_history.log\n",
      "Mode           : append\n",
      "Output logging : True\n",
      "Raw input log  : False\n",
      "Timestamping   : True\n",
      "State          : active\n"
     ]
    },
    {
     "name": "stdout",
     "output_type": "stream",
     "text": [
      "Qcodes Logfile : /home/runner/.qcodes/logs/210323-4575-qcodes.log\n"
     ]
    }
   ],
   "source": [
    "import os\n",
    "cwd = os.getcwd()\n",
    "import qcodes as qc\n",
    "qc.config[\"core\"][\"db_location\"] = os.path.join(cwd, 'testing.db')\n"
   ]
  },
  {
   "cell_type": "code",
   "execution_count": 2,
   "metadata": {
    "execution": {
     "iopub.execute_input": "2021-03-23T07:45:10.600952Z",
     "iopub.status.busy": "2021-03-23T07:45:10.598623Z",
     "iopub.status.idle": "2021-03-23T07:45:10.805623Z",
     "shell.execute_reply": "2021-03-23T07:45:10.805059Z"
    }
   },
   "outputs": [],
   "source": [
    "%matplotlib inline\n",
    "import time\n",
    "import matplotlib.pyplot as plt\n",
    "import numpy as np\n",
    "\n",
    "import qcodes as qc\n",
    "from qcodes.instrument.parameter import ManualParameter\n",
    "from qcodes.dataset.experiment_container import (Experiment,\n",
    "                                                 load_last_experiment,\n",
    "                                                 new_experiment)\n",
    "from qcodes.dataset.sqlite.database import initialise_database\n",
    "from qcodes import load_or_create_experiment\n",
    "from qcodes.dataset.measurements import Measurement"
   ]
  },
  {
   "cell_type": "code",
   "execution_count": 3,
   "metadata": {
    "execution": {
     "iopub.execute_input": "2021-03-23T07:45:10.810019Z",
     "iopub.status.busy": "2021-03-23T07:45:10.809263Z",
     "iopub.status.idle": "2021-03-23T07:45:10.940690Z",
     "shell.execute_reply": "2021-03-23T07:45:10.939830Z"
    }
   },
   "outputs": [
    {
     "name": "stdout",
     "output_type": "stream",
     "text": [
      "\r",
      "0it [00:00, ?it/s]"
     ]
    },
    {
     "name": "stdout",
     "output_type": "stream",
     "text": [
      "\r",
      "Upgrading database; v0 -> v1: : 0it [00:00, ?it/s]"
     ]
    },
    {
     "name": "stdout",
     "output_type": "stream",
     "text": [
      "\r",
      "Upgrading database; v0 -> v1: : 0it [00:00, ?it/s]"
     ]
    },
    {
     "name": "stdout",
     "output_type": "stream",
     "text": [
      "\n",
      "\r",
      "  0%|          | 0/1 [00:00<?, ?it/s]"
     ]
    },
    {
     "name": "stdout",
     "output_type": "stream",
     "text": [
      "\r",
      "Upgrading database; v1 -> v2:   0%|          | 0/1 [00:00<?, ?it/s]"
     ]
    },
    {
     "name": "stdout",
     "output_type": "stream",
     "text": [
      "\r",
      "Upgrading database; v1 -> v2: 100%|██████████| 1/1 [00:00<00:00, 499.68it/s]"
     ]
    },
    {
     "name": "stdout",
     "output_type": "stream",
     "text": [
      "\n",
      "\r",
      "0it [00:00, ?it/s]"
     ]
    },
    {
     "name": "stdout",
     "output_type": "stream",
     "text": [
      "\r",
      "Upgrading database; v2 -> v3: : 0it [00:00, ?it/s]"
     ]
    },
    {
     "name": "stdout",
     "output_type": "stream",
     "text": [
      "\r",
      "Upgrading database; v2 -> v3: : 0it [00:00, ?it/s]"
     ]
    },
    {
     "name": "stdout",
     "output_type": "stream",
     "text": [
      "\n",
      "\r",
      "0it [00:00, ?it/s]"
     ]
    },
    {
     "name": "stdout",
     "output_type": "stream",
     "text": [
      "\r",
      "Upgrading database; v3 -> v4: : 0it [00:00, ?it/s]"
     ]
    },
    {
     "name": "stdout",
     "output_type": "stream",
     "text": [
      "\r",
      "Upgrading database; v3 -> v4: : 0it [00:00, ?it/s]"
     ]
    },
    {
     "name": "stdout",
     "output_type": "stream",
     "text": [
      "\n",
      "\r",
      "  0%|          | 0/1 [00:00<?, ?it/s]"
     ]
    },
    {
     "name": "stdout",
     "output_type": "stream",
     "text": [
      "\r",
      "Upgrading database; v4 -> v5:   0%|          | 0/1 [00:00<?, ?it/s]"
     ]
    },
    {
     "name": "stdout",
     "output_type": "stream",
     "text": [
      "\r",
      "Upgrading database; v4 -> v5: 100%|██████████| 1/1 [00:00<00:00, 360.49it/s]"
     ]
    },
    {
     "name": "stdout",
     "output_type": "stream",
     "text": [
      "\n",
      "\r",
      "0it [00:00, ?it/s]"
     ]
    },
    {
     "name": "stdout",
     "output_type": "stream",
     "text": [
      "\r",
      "Upgrading database; v5 -> v6: : 0it [00:00, ?it/s]"
     ]
    },
    {
     "name": "stdout",
     "output_type": "stream",
     "text": [
      "\r",
      "Upgrading database; v5 -> v6: : 0it [00:00, ?it/s]"
     ]
    },
    {
     "name": "stdout",
     "output_type": "stream",
     "text": [
      "\n",
      "\r",
      "  0%|          | 0/1 [00:00<?, ?it/s]"
     ]
    },
    {
     "name": "stdout",
     "output_type": "stream",
     "text": [
      "\r",
      "Upgrading database; v6 -> v7:   0%|          | 0/1 [00:00<?, ?it/s]"
     ]
    },
    {
     "name": "stdout",
     "output_type": "stream",
     "text": [
      "\r",
      "Upgrading database; v6 -> v7: 100%|██████████| 1/1 [00:00<00:00, 340.83it/s]"
     ]
    },
    {
     "name": "stdout",
     "output_type": "stream",
     "text": [
      "\n",
      "\r",
      "  0%|          | 0/1 [00:00<?, ?it/s]"
     ]
    },
    {
     "name": "stdout",
     "output_type": "stream",
     "text": [
      "\r",
      "Upgrading database; v7 -> v8:   0%|          | 0/1 [00:00<?, ?it/s]"
     ]
    },
    {
     "name": "stdout",
     "output_type": "stream",
     "text": [
      "\r",
      "Upgrading database; v7 -> v8: 100%|██████████| 1/1 [00:00<00:00, 820.96it/s]"
     ]
    },
    {
     "name": "stdout",
     "output_type": "stream",
     "text": [
      "\n",
      "\r",
      "  0%|          | 0/1 [00:00<?, ?it/s]"
     ]
    },
    {
     "name": "stdout",
     "output_type": "stream",
     "text": [
      "\r",
      "Upgrading database; v8 -> v9:   0%|          | 0/1 [00:00<?, ?it/s]"
     ]
    },
    {
     "name": "stdout",
     "output_type": "stream",
     "text": [
      "\r",
      "Upgrading database; v8 -> v9: 100%|██████████| 1/1 [00:00<00:00, 440.72it/s]"
     ]
    },
    {
     "name": "stdout",
     "output_type": "stream",
     "text": [
      "\n"
     ]
    }
   ],
   "source": [
    "initialise_database()\n",
    "exp = load_or_create_experiment(experiment_name='tutorial_exp', sample_name=\"no sample\")"
   ]
  },
  {
   "cell_type": "markdown",
   "metadata": {},
   "source": [
    "Here, we define a simple function to benchmark the time it takes to insert n points with either numeric or array data type.\n",
    "We will compare both the time used to call ``add_result`` and the time used for the full measurement."
   ]
  },
  {
   "cell_type": "code",
   "execution_count": 4,
   "metadata": {
    "execution": {
     "iopub.execute_input": "2021-03-23T07:45:10.953026Z",
     "iopub.status.busy": "2021-03-23T07:45:10.950427Z",
     "iopub.status.idle": "2021-03-23T07:45:10.954341Z",
     "shell.execute_reply": "2021-03-23T07:45:10.954866Z"
    }
   },
   "outputs": [],
   "source": [
    "def insert_data(paramtype, npoints, nreps=1):\n",
    "\n",
    "    meas = Measurement(exp=exp)\n",
    "\n",
    "    x1 = ManualParameter('x1')\n",
    "    x2 = ManualParameter('x2')\n",
    "    x3 = ManualParameter('x3')\n",
    "    y1 = ManualParameter('y1')\n",
    "    y2 = ManualParameter('y2')\n",
    "\n",
    "    meas.register_parameter(x1, paramtype=paramtype)\n",
    "    meas.register_parameter(x2, paramtype=paramtype)\n",
    "    meas.register_parameter(x3, paramtype=paramtype)\n",
    "    meas.register_parameter(y1, setpoints=[x1, x2, x3],\n",
    "                            paramtype=paramtype)\n",
    "    meas.register_parameter(y2, setpoints=[x1, x2, x3],\n",
    "                            paramtype=paramtype)\n",
    "    start = time.perf_counter()\n",
    "    with meas.run() as datasaver:\n",
    "        start_adding = time.perf_counter()\n",
    "        for i in range(nreps):\n",
    "            datasaver.add_result((x1, np.random.rand(npoints)),\n",
    "                                 (x2, np.random.rand(npoints)),\n",
    "                                 (x3, np.random.rand(npoints)),\n",
    "                                 (y1, np.random.rand(npoints)),\n",
    "                                 (y2, np.random.rand(npoints)))\n",
    "        stop_adding = time.perf_counter()\n",
    "        run_id = datasaver.run_id\n",
    "    stop = time.perf_counter()\n",
    "    tot_time = stop - start\n",
    "    add_time = stop_adding - start_adding\n",
    "    return tot_time, add_time, run_id"
   ]
  },
  {
   "cell_type": "markdown",
   "metadata": {},
   "source": [
    "## Comparison between numeric/array data and binary blob"
   ]
  },
  {
   "cell_type": "markdown",
   "metadata": {},
   "source": [
    "### Case1: Short experiment time"
   ]
  },
  {
   "cell_type": "code",
   "execution_count": 5,
   "metadata": {
    "execution": {
     "iopub.execute_input": "2021-03-23T07:45:10.959776Z",
     "iopub.status.busy": "2021-03-23T07:45:10.958839Z",
     "iopub.status.idle": "2021-03-23T07:45:11.919707Z",
     "shell.execute_reply": "2021-03-23T07:45:11.920164Z"
    }
   },
   "outputs": [
    {
     "name": "stdout",
     "output_type": "stream",
     "text": [
      "Starting experimental run with id: 1. \n",
      "Starting experimental run with id: 2. \n",
      "Starting experimental run with id: 3. \n"
     ]
    },
    {
     "name": "stdout",
     "output_type": "stream",
     "text": [
      "Starting experimental run with id: 4. \n"
     ]
    },
    {
     "name": "stdout",
     "output_type": "stream",
     "text": [
      "Starting experimental run with id: 5. \n"
     ]
    },
    {
     "name": "stdout",
     "output_type": "stream",
     "text": [
      "Starting experimental run with id: 6. \n",
      "Starting experimental run with id: 7. \n"
     ]
    },
    {
     "name": "stdout",
     "output_type": "stream",
     "text": [
      "Starting experimental run with id: 8. \n"
     ]
    },
    {
     "name": "stdout",
     "output_type": "stream",
     "text": [
      "Starting experimental run with id: 9. \n"
     ]
    },
    {
     "name": "stdout",
     "output_type": "stream",
     "text": [
      "Starting experimental run with id: 10. \n",
      "Starting experimental run with id: 11. \n"
     ]
    },
    {
     "name": "stdout",
     "output_type": "stream",
     "text": [
      "Starting experimental run with id: 12. \n",
      "Starting experimental run with id: 13. \n"
     ]
    },
    {
     "name": "stdout",
     "output_type": "stream",
     "text": [
      "Starting experimental run with id: 14. \n"
     ]
    }
   ],
   "source": [
    "sizes = [1,500,1000,2000,3000,4000,5000]\n",
    "t_numeric = []\n",
    "t_numeric_add = []\n",
    "t_array = []\n",
    "t_array_add = []\n",
    "for size in sizes:\n",
    "    tn, tna, run_id_n =  insert_data('numeric', size)\n",
    "    t_numeric.append(tn)\n",
    "    t_numeric_add.append(tna)\n",
    "\n",
    "    ta, taa, run_id_a =  insert_data('array', size)\n",
    "    t_array.append(ta)\n",
    "    t_array_add.append(taa)"
   ]
  },
  {
   "cell_type": "code",
   "execution_count": 6,
   "metadata": {
    "execution": {
     "iopub.execute_input": "2021-03-23T07:45:11.938630Z",
     "iopub.status.busy": "2021-03-23T07:45:11.937927Z",
     "iopub.status.idle": "2021-03-23T07:45:12.152988Z",
     "shell.execute_reply": "2021-03-23T07:45:12.152447Z"
    }
   },
   "outputs": [
    {
     "data": {
      "image/png": "[encoded data removed]",
      "text/plain": [
       "<Figure size 432x288 with 1 Axes>"
      ]
     },
     "metadata": {
      "needs_background": "light"
     },
     "output_type": "display_data"
    }
   ],
   "source": [
    "fig, ax = plt.subplots(1,1)\n",
    "ax.plot(sizes, t_numeric, 'o-', label='Inserting row-by-row')\n",
    "ax.plot(sizes, t_numeric_add, 'o-', label='Inserting row-by-row: add_result only')\n",
    "ax.plot(sizes, t_array, 'd-', label='Inserting as binary blob')\n",
    "ax.plot(sizes, t_array_add, 'd-', label='Inserting as binary blob: add_result only')\n",
    "ax.legend()\n",
    "ax.set_xlabel('Array length')\n",
    "ax.set_ylabel('Time (s)')\n",
    "fig.tight_layout()"
   ]
  },
  {
   "cell_type": "markdown",
   "metadata": {},
   "source": [
    "As shown in the latter figure, the time to setup and and close the experiment is approximately 0.4 sec. In case of small array sizes, the difference between inserting values of data as arrays and inserting them row-by-row is relatively unimportant. At larger array sizes, i.e. above 10000 points, the cost of writing data as individual datapoints starts to become important.\n"
   ]
  },
  {
   "cell_type": "markdown",
   "metadata": {},
   "source": [
    "### Case2: Long experiment time "
   ]
  },
  {
   "cell_type": "code",
   "execution_count": 7,
   "metadata": {
    "execution": {
     "iopub.execute_input": "2021-03-23T07:45:12.161014Z",
     "iopub.status.busy": "2021-03-23T07:45:12.160375Z",
     "iopub.status.idle": "2021-03-23T07:46:15.501642Z",
     "shell.execute_reply": "2021-03-23T07:46:15.501013Z"
    }
   },
   "outputs": [
    {
     "name": "stdout",
     "output_type": "stream",
     "text": [
      "Starting experimental run with id: 15. \n",
      "Starting experimental run with id: 16. \n",
      "Starting experimental run with id: 17. \n"
     ]
    },
    {
     "name": "stdout",
     "output_type": "stream",
     "text": [
      "Starting experimental run with id: 18. \n",
      "Starting experimental run with id: 19. \n"
     ]
    },
    {
     "name": "stdout",
     "output_type": "stream",
     "text": [
      "Starting experimental run with id: 20. \n"
     ]
    },
    {
     "name": "stdout",
     "output_type": "stream",
     "text": [
      "Starting experimental run with id: 21. \n"
     ]
    },
    {
     "name": "stdout",
     "output_type": "stream",
     "text": [
      "Starting experimental run with id: 22. \n"
     ]
    },
    {
     "name": "stdout",
     "output_type": "stream",
     "text": [
      "Starting experimental run with id: 23. \n"
     ]
    },
    {
     "name": "stdout",
     "output_type": "stream",
     "text": [
      "Starting experimental run with id: 24. \n"
     ]
    },
    {
     "name": "stdout",
     "output_type": "stream",
     "text": [
      "Starting experimental run with id: 25. \n"
     ]
    },
    {
     "name": "stdout",
     "output_type": "stream",
     "text": [
      "Starting experimental run with id: 26. \n"
     ]
    },
    {
     "name": "stdout",
     "output_type": "stream",
     "text": [
      "Starting experimental run with id: 27. \n"
     ]
    },
    {
     "name": "stdout",
     "output_type": "stream",
     "text": [
      "Starting experimental run with id: 28. \n"
     ]
    }
   ],
   "source": [
    "sizes = [1,500,1000,2000,3000,4000,5000]\n",
    "nreps = 100\n",
    "t_numeric = []\n",
    "t_numeric_add = []\n",
    "t_numeric_run_ids = []\n",
    "t_array = []\n",
    "t_array_add = []\n",
    "t_array_run_ids = []\n",
    "for size in sizes:\n",
    "    tn, tna, run_id_n =  insert_data('numeric', size, nreps=nreps)\n",
    "    t_numeric.append(tn)\n",
    "    t_numeric_add.append(tna)\n",
    "    t_numeric_run_ids.append(run_id_n)\n",
    "\n",
    "    ta, taa, run_id_a =  insert_data('array', size, nreps=nreps)\n",
    "    t_array.append(ta)\n",
    "    t_array_add.append(taa)\n",
    "    t_array_run_ids.append(run_id_a)"
   ]
  },
  {
   "cell_type": "code",
   "execution_count": 8,
   "metadata": {
    "execution": {
     "iopub.execute_input": "2021-03-23T07:46:15.552733Z",
     "iopub.status.busy": "2021-03-23T07:46:15.551618Z",
     "iopub.status.idle": "2021-03-23T07:46:15.747693Z",
     "shell.execute_reply": "2021-03-23T07:46:15.747082Z"
    },
    "scrolled": true
   },
   "outputs": [
    {
     "data": {
      "image/png": "[encoded data removed]",
      "text/plain": [
       "<Figure size 432x288 with 1 Axes>"
      ]
     },
     "metadata": {
      "needs_background": "light"
     },
     "output_type": "display_data"
    }
   ],
   "source": [
    "fig, ax = plt.subplots(1,1)\n",
    "ax.plot(sizes, t_numeric, 'o-', label='Inserting row-by-row')\n",
    "ax.plot(sizes, t_numeric_add, 'o-', label='Inserting row-by-row: add_result only')\n",
    "ax.plot(sizes, t_array, 'd-', label='Inserting as binary blob')\n",
    "ax.plot(sizes, t_array_add, 'd-', label='Inserting as binary blob: add_result only')\n",
    "ax.legend()\n",
    "ax.set_xlabel('Array length')\n",
    "ax.set_ylabel('Time (s)')\n",
    "fig.tight_layout()"
   ]
  },
  {
   "cell_type": "markdown",
   "metadata": {},
   "source": [
    "However, as we increase the length of the experiment, as seen here by repeating the insertion 100 times, we see a big difference between inserting values of the data row-by-row and inserting it as a binary blob."
   ]
  },
  {
   "cell_type": "markdown",
   "metadata": {},
   "source": [
    "## Loading the data "
   ]
  },
  {
   "cell_type": "code",
   "execution_count": 9,
   "metadata": {
    "execution": {
     "iopub.execute_input": "2021-03-23T07:46:15.752973Z",
     "iopub.status.busy": "2021-03-23T07:46:15.752001Z",
     "iopub.status.idle": "2021-03-23T07:46:15.757796Z",
     "shell.execute_reply": "2021-03-23T07:46:15.757203Z"
    }
   },
   "outputs": [],
   "source": [
    "from qcodes.dataset.data_set import load_by_id\n",
    "from qcodes.dataset.data_export import get_data_by_id"
   ]
  },
  {
   "cell_type": "markdown",
   "metadata": {},
   "source": [
    "As usual you can load the data by using the ``load_by_id`` function but you will notice that the different storage methods\n",
    "are reflected in shape of the data as it is retrieved. "
   ]
  },
  {
   "cell_type": "code",
   "execution_count": 10,
   "metadata": {
    "execution": {
     "iopub.execute_input": "2021-03-23T07:46:15.762039Z",
     "iopub.status.busy": "2021-03-23T07:46:15.761424Z",
     "iopub.status.idle": "2021-03-23T07:46:15.765134Z",
     "shell.execute_reply": "2021-03-23T07:46:15.765612Z"
    }
   },
   "outputs": [],
   "source": [
    "run_id_n = t_numeric_run_ids[0]\n",
    "run_id_a = t_array_run_ids[0]"
   ]
  },
  {
   "cell_type": "code",
   "execution_count": 11,
   "metadata": {
    "execution": {
     "iopub.execute_input": "2021-03-23T07:46:15.769434Z",
     "iopub.status.busy": "2021-03-23T07:46:15.768868Z",
     "iopub.status.idle": "2021-03-23T07:46:15.780887Z",
     "shell.execute_reply": "2021-03-23T07:46:15.780382Z"
    },
    "scrolled": true
   },
   "outputs": [
    {
     "data": {
      "text/plain": [
       "{'x1': {'x1': array([0.24683755, 0.24683755, 0.88359683, 0.88359683, 0.63877541,\n",
       "         0.63877541, 0.2448217 , 0.2448217 , 0.43991953, 0.43991953,\n",
       "         0.08822442, 0.08822442, 0.16301436, 0.16301436, 0.60368815,\n",
       "         0.60368815, 0.55813879, 0.55813879, 0.76221785, 0.76221785,\n",
       "         0.69256434, 0.69256434, 0.73045972, 0.73045972, 0.50881981,\n",
       "         0.50881981, 0.97917456, 0.97917456, 0.72232629, 0.72232629,\n",
       "         0.83974785, 0.83974785, 0.66180893, 0.66180893, 0.66144252,\n",
       "         0.66144252, 0.84052886, 0.84052886, 0.55811132, 0.55811132,\n",
       "         0.36695439, 0.36695439, 0.69071008, 0.69071008, 0.74483035,\n",
       "         0.74483035, 0.04320614, 0.04320614, 0.48960378, 0.48960378,\n",
       "         0.84028801, 0.84028801, 0.91683877, 0.91683877, 0.33209747,\n",
       "         0.33209747, 0.37077599, 0.37077599, 0.73314947, 0.73314947,\n",
       "         0.60471659, 0.60471659, 0.14791831, 0.14791831, 0.65113003,\n",
       "         0.65113003, 0.09681289, 0.09681289, 0.57584126, 0.57584126,\n",
       "         0.10300726, 0.10300726, 0.04154097, 0.04154097, 0.61755085,\n",
       "         0.61755085, 0.03078692, 0.03078692, 0.23969993, 0.23969993,\n",
       "         0.44362405, 0.44362405, 0.55513046, 0.55513046, 0.44157734,\n",
       "         0.44157734, 0.4566004 , 0.4566004 , 0.43993712, 0.43993712,\n",
       "         0.67046196, 0.67046196, 0.71762595, 0.71762595, 0.65703667,\n",
       "         0.65703667, 0.97908437, 0.97908437, 0.63598893, 0.63598893,\n",
       "         0.03110701, 0.03110701, 0.09635762, 0.09635762, 0.21162456,\n",
       "         0.21162456, 0.18436594, 0.18436594, 0.35522586, 0.35522586,\n",
       "         0.67333801, 0.67333801, 0.57089433, 0.57089433, 0.90367154,\n",
       "         0.90367154, 0.99071144, 0.99071144, 0.28520889, 0.28520889,\n",
       "         0.78437343, 0.78437343, 0.07689924, 0.07689924, 0.64224655,\n",
       "         0.64224655, 0.24911953, 0.24911953, 0.80544739, 0.80544739,\n",
       "         0.40459311, 0.40459311, 0.35741164, 0.35741164, 0.00157778,\n",
       "         0.00157778, 0.77165979, 0.77165979, 0.01188971, 0.01188971,\n",
       "         0.42754036, 0.42754036, 0.74205102, 0.74205102, 0.37218226,\n",
       "         0.37218226, 0.44591476, 0.44591476, 0.19044784, 0.19044784,\n",
       "         0.4001158 , 0.4001158 , 0.29084609, 0.29084609, 0.15588968,\n",
       "         0.15588968, 0.15989544, 0.15989544, 0.74389891, 0.74389891,\n",
       "         0.24719752, 0.24719752, 0.85502088, 0.85502088, 0.04307418,\n",
       "         0.04307418, 0.72377553, 0.72377553, 0.72860062, 0.72860062,\n",
       "         0.68055388, 0.68055388, 0.78712288, 0.78712288, 0.26898338,\n",
       "         0.26898338, 0.46830084, 0.46830084, 0.39283014, 0.39283014,\n",
       "         0.54262996, 0.54262996, 0.0943467 , 0.0943467 , 0.56524455,\n",
       "         0.56524455, 0.46990503, 0.46990503, 0.50016151, 0.50016151,\n",
       "         0.34056032, 0.34056032, 0.09613705, 0.09613705, 0.16755627,\n",
       "         0.16755627, 0.95639778, 0.95639778, 0.40935181, 0.40935181])}}"
      ]
     },
     "execution_count": 1,
     "metadata": {},
     "output_type": "execute_result"
    }
   ],
   "source": [
    "ds = load_by_id(run_id_n)\n",
    "ds.get_parameter_data('x1')"
   ]
  },
  {
   "cell_type": "markdown",
   "metadata": {},
   "source": [
    "And a dataset stored as binary arrays"
   ]
  },
  {
   "cell_type": "code",
   "execution_count": 12,
   "metadata": {
    "execution": {
     "iopub.execute_input": "2021-03-23T07:46:15.784929Z",
     "iopub.status.busy": "2021-03-23T07:46:15.784357Z",
     "iopub.status.idle": "2021-03-23T07:46:15.853772Z",
     "shell.execute_reply": "2021-03-23T07:46:15.854704Z"
    },
    "scrolled": true
   },
   "outputs": [
    {
     "data": {
      "text/plain": [
       "{'x1': {'x1': array([[0.9170268 ],\n",
       "         [0.9170268 ],\n",
       "         [0.99493514],\n",
       "         [0.99493514],\n",
       "         [0.2985839 ],\n",
       "         [0.2985839 ],\n",
       "         [0.2972367 ],\n",
       "         [0.2972367 ],\n",
       "         [0.94865048],\n",
       "         [0.94865048],\n",
       "         [0.05223984],\n",
       "         [0.05223984],\n",
       "         [0.53480827],\n",
       "         [0.53480827],\n",
       "         [0.36506478],\n",
       "         [0.36506478],\n",
       "         [0.46744444],\n",
       "         [0.46744444],\n",
       "         [0.84233852],\n",
       "         [0.84233852],\n",
       "         [0.41963219],\n",
       "         [0.41963219],\n",
       "         [0.61163347],\n",
       "         [0.61163347],\n",
       "         [0.6186394 ],\n",
       "         [0.6186394 ],\n",
       "         [0.12373655],\n",
       "         [0.12373655],\n",
       "         [0.02938821],\n",
       "         [0.02938821],\n",
       "         [0.52637547],\n",
       "         [0.52637547],\n",
       "         [0.64371148],\n",
       "         [0.64371148],\n",
       "         [0.39082505],\n",
       "         [0.39082505],\n",
       "         [0.73214535],\n",
       "         [0.73214535],\n",
       "         [0.3006424 ],\n",
       "         [0.3006424 ],\n",
       "         [0.25342517],\n",
       "         [0.25342517],\n",
       "         [0.70186291],\n",
       "         [0.70186291],\n",
       "         [0.94587805],\n",
       "         [0.94587805],\n",
       "         [0.29091947],\n",
       "         [0.29091947],\n",
       "         [0.71094734],\n",
       "         [0.71094734],\n",
       "         [0.60706179],\n",
       "         [0.60706179],\n",
       "         [0.79795142],\n",
       "         [0.79795142],\n",
       "         [0.65154278],\n",
       "         [0.65154278],\n",
       "         [0.62925001],\n",
       "         [0.62925001],\n",
       "         [0.82060458],\n",
       "         [0.82060458],\n",
       "         [0.43828024],\n",
       "         [0.43828024],\n",
       "         [0.91807867],\n",
       "         [0.91807867],\n",
       "         [0.43016884],\n",
       "         [0.43016884],\n",
       "         [0.60892012],\n",
       "         [0.60892012],\n",
       "         [0.65406038],\n",
       "         [0.65406038],\n",
       "         [0.82594143],\n",
       "         [0.82594143],\n",
       "         [0.52801628],\n",
       "         [0.52801628],\n",
       "         [0.63548908],\n",
       "         [0.63548908],\n",
       "         [0.26312133],\n",
       "         [0.26312133],\n",
       "         [0.34863016],\n",
       "         [0.34863016],\n",
       "         [0.36966663],\n",
       "         [0.36966663],\n",
       "         [0.64235266],\n",
       "         [0.64235266],\n",
       "         [0.95638118],\n",
       "         [0.95638118],\n",
       "         [0.84671329],\n",
       "         [0.84671329],\n",
       "         [0.80519695],\n",
       "         [0.80519695],\n",
       "         [0.48623334],\n",
       "         [0.48623334],\n",
       "         [0.44926684],\n",
       "         [0.44926684],\n",
       "         [0.89997273],\n",
       "         [0.89997273],\n",
       "         [0.17785962],\n",
       "         [0.17785962],\n",
       "         [0.73722699],\n",
       "         [0.73722699],\n",
       "         [0.73622268],\n",
       "         [0.73622268],\n",
       "         [0.85470684],\n",
       "         [0.85470684],\n",
       "         [0.25753808],\n",
       "         [0.25753808],\n",
       "         [0.82997379],\n",
       "         [0.82997379],\n",
       "         [0.44774516],\n",
       "         [0.44774516],\n",
       "         [0.98490923],\n",
       "         [0.98490923],\n",
       "         [0.55995922],\n",
       "         [0.55995922],\n",
       "         [0.64772814],\n",
       "         [0.64772814],\n",
       "         [0.24511802],\n",
       "         [0.24511802],\n",
       "         [0.52966451],\n",
       "         [0.52966451],\n",
       "         [0.75687219],\n",
       "         [0.75687219],\n",
       "         [0.55444747],\n",
       "         [0.55444747],\n",
       "         [0.85359613],\n",
       "         [0.85359613],\n",
       "         [0.49651511],\n",
       "         [0.49651511],\n",
       "         [0.72466082],\n",
       "         [0.72466082],\n",
       "         [0.2681488 ],\n",
       "         [0.2681488 ],\n",
       "         [0.44363416],\n",
       "         [0.44363416],\n",
       "         [0.24858615],\n",
       "         [0.24858615],\n",
       "         [0.07574544],\n",
       "         [0.07574544],\n",
       "         [0.02954201],\n",
       "         [0.02954201],\n",
       "         [0.35670776],\n",
       "         [0.35670776],\n",
       "         [0.63428136],\n",
       "         [0.63428136],\n",
       "         [0.93525074],\n",
       "         [0.93525074],\n",
       "         [0.47617121],\n",
       "         [0.47617121],\n",
       "         [0.78882062],\n",
       "         [0.78882062],\n",
       "         [0.17363602],\n",
       "         [0.17363602],\n",
       "         [0.85352953],\n",
       "         [0.85352953],\n",
       "         [0.86299126],\n",
       "         [0.86299126],\n",
       "         [0.2312745 ],\n",
       "         [0.2312745 ],\n",
       "         [0.95692291],\n",
       "         [0.95692291],\n",
       "         [0.0269566 ],\n",
       "         [0.0269566 ],\n",
       "         [0.55614632],\n",
       "         [0.55614632],\n",
       "         [0.71922858],\n",
       "         [0.71922858],\n",
       "         [0.12756685],\n",
       "         [0.12756685],\n",
       "         [0.66176111],\n",
       "         [0.66176111],\n",
       "         [0.08686483],\n",
       "         [0.08686483],\n",
       "         [0.38303103],\n",
       "         [0.38303103],\n",
       "         [0.74820171],\n",
       "         [0.74820171],\n",
       "         [0.97917226],\n",
       "         [0.97917226],\n",
       "         [0.85185934],\n",
       "         [0.85185934],\n",
       "         [0.9349034 ],\n",
       "         [0.9349034 ],\n",
       "         [0.26753084],\n",
       "         [0.26753084],\n",
       "         [0.67833532],\n",
       "         [0.67833532],\n",
       "         [0.7437284 ],\n",
       "         [0.7437284 ],\n",
       "         [0.78671746],\n",
       "         [0.78671746],\n",
       "         [0.08336037],\n",
       "         [0.08336037],\n",
       "         [0.10000883],\n",
       "         [0.10000883],\n",
       "         [0.29577767],\n",
       "         [0.29577767],\n",
       "         [0.41435317],\n",
       "         [0.41435317],\n",
       "         [0.52348408],\n",
       "         [0.52348408]])}}"
      ]
     },
     "execution_count": 1,
     "metadata": {},
     "output_type": "execute_result"
    }
   ],
   "source": [
    "ds = load_by_id(run_id_a)\n",
    "ds.get_parameter_data('x1')"
   ]
  },
  {
   "cell_type": "code",
   "execution_count": null,
   "metadata": {},
   "outputs": [],
   "source": []
  }
 ],
 "metadata": {
  "kernelspec": {
   "display_name": "Python 3",
   "language": "python",
   "name": "python3"
  },
  "language_info": {
   "codemirror_mode": {
    "name": "ipython",
    "version": 3
   },
   "file_extension": ".py",
   "mimetype": "text/x-python",
   "name": "python",
   "nbconvert_exporter": "python",
   "pygments_lexer": "ipython3",
   "version": "3.7.10"
  },
  "nbsphinx": {
   "timeout": 600
  },
  "toc": {
   "base_numbering": 1,
   "nav_menu": {},
   "number_sections": true,
   "sideBar": true,
   "skip_h1_title": false,
   "title_cell": "Table of Contents",
   "title_sidebar": "Contents",
   "toc_cell": false,
   "toc_position": {},
   "toc_section_display": true,
   "toc_window_display": false
  },
  "varInspector": {
   "cols": {
    "lenName": 16,
    "lenType": 16,
    "lenVar": 40
   },
   "kernels_config": {
    "python": {
     "delete_cmd_postfix": "",
     "delete_cmd_prefix": "del ",
     "library": "var_list.py",
     "varRefreshCmd": "print(var_dic_list())"
    },
    "r": {
     "delete_cmd_postfix": ") ",
     "delete_cmd_prefix": "rm(",
     "library": "var_list.r",
     "varRefreshCmd": "cat(var_dic_list()) "
    }
   },
   "types_to_exclude": [
    "module",
    "function",
    "builtin_function_or_method",
    "instance",
    "_Feature"
   ],
   "window_display": false
  }
 },
 "nbformat": 4,
 "nbformat_minor": 2
}
