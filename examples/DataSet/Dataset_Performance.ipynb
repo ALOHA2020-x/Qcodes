{
 "cells": [
  {
   "cell_type": "markdown",
   "metadata": {},
   "source": [
    "# DataSet Performance\n",
    "\n",
    "This notebook shows the trade-off between inserting data into a database row-by-row and as binary blobs. Inserting the data row-by-row means that we have direct access to all the data and may perform queries directly on the values of the data. On the other hand, as we shall see, this is much slower than inserting the data directly as binary blobs."
   ]
  },
  {
   "cell_type": "markdown",
   "metadata": {},
   "source": [
    "First, we choose a new location for the database to ensure that we don't add a bunch of benchmarking data to the default one."
   ]
  },
  {
   "cell_type": "code",
   "execution_count": 1,
   "metadata": {
    "execution": {
     "iopub.execute_input": "2021-02-04T11:50:04.049484Z",
     "iopub.status.busy": "2021-02-04T11:50:04.048794Z",
     "iopub.status.idle": "2021-02-04T11:50:05.167506Z",
     "shell.execute_reply": "2021-02-04T11:50:05.168001Z"
    }
   },
   "outputs": [
    {
     "name": "stdout",
     "output_type": "stream",
     "text": [
      "Logging hadn't been started.\n",
      "Activating auto-logging. Current session state plus future input saved.\n",
      "Filename       : /home/vsts/.qcodes/logs/command_history.log\n",
      "Mode           : append\n",
      "Output logging : True\n",
      "Raw input log  : False\n",
      "Timestamping   : True\n",
      "State          : active\n"
     ]
    },
    {
     "name": "stdout",
     "output_type": "stream",
     "text": [
      "Qcodes Logfile : /home/vsts/.qcodes/logs/210204-13659-qcodes.log\n"
     ]
    }
   ],
   "source": [
    "import os\n",
    "cwd = os.getcwd()\n",
    "import qcodes as qc\n",
    "qc.config[\"core\"][\"db_location\"] = os.path.join(cwd, 'testing.db')\n"
   ]
  },
  {
   "cell_type": "code",
   "execution_count": 2,
   "metadata": {
    "execution": {
     "iopub.execute_input": "2021-02-04T11:50:05.175109Z",
     "iopub.status.busy": "2021-02-04T11:50:05.174495Z",
     "iopub.status.idle": "2021-02-04T11:50:05.373136Z",
     "shell.execute_reply": "2021-02-04T11:50:05.372522Z"
    }
   },
   "outputs": [],
   "source": [
    "%matplotlib inline\n",
    "import time\n",
    "import matplotlib.pyplot as plt\n",
    "import numpy as np\n",
    "\n",
    "import qcodes as qc\n",
    "from qcodes.instrument.parameter import ManualParameter\n",
    "from qcodes.dataset.experiment_container import (Experiment,\n",
    "                                                 load_last_experiment,\n",
    "                                                 new_experiment)\n",
    "from qcodes.dataset.sqlite.database import initialise_database\n",
    "from qcodes import load_or_create_experiment\n",
    "from qcodes.dataset.measurements import Measurement"
   ]
  },
  {
   "cell_type": "code",
   "execution_count": 3,
   "metadata": {
    "execution": {
     "iopub.execute_input": "2021-02-04T11:50:05.377434Z",
     "iopub.status.busy": "2021-02-04T11:50:05.376711Z",
     "iopub.status.idle": "2021-02-04T11:50:05.490908Z",
     "shell.execute_reply": "2021-02-04T11:50:05.491403Z"
    }
   },
   "outputs": [
    {
     "name": "stdout",
     "output_type": "stream",
     "text": [
      "\r",
      "0it [00:00, ?it/s]"
     ]
    },
    {
     "name": "stdout",
     "output_type": "stream",
     "text": [
      "\r",
      "Upgrading database; v0 -> v1: : 0it [00:00, ?it/s]"
     ]
    },
    {
     "name": "stdout",
     "output_type": "stream",
     "text": [
      "\r",
      "Upgrading database; v0 -> v1: : 0it [00:00, ?it/s]"
     ]
    },
    {
     "name": "stdout",
     "output_type": "stream",
     "text": [
      "\n",
      "\r",
      "  0%|          | 0/1 [00:00<?, ?it/s]"
     ]
    },
    {
     "name": "stdout",
     "output_type": "stream",
     "text": [
      "\r",
      "Upgrading database; v1 -> v2:   0%|          | 0/1 [00:00<?, ?it/s]"
     ]
    },
    {
     "name": "stdout",
     "output_type": "stream",
     "text": [
      "\r",
      "Upgrading database; v1 -> v2: 100%|██████████| 1/1 [00:00<00:00, 485.23it/s]"
     ]
    },
    {
     "name": "stdout",
     "output_type": "stream",
     "text": [
      "\n",
      "\r",
      "0it [00:00, ?it/s]"
     ]
    },
    {
     "name": "stdout",
     "output_type": "stream",
     "text": [
      "\r",
      "Upgrading database; v2 -> v3: : 0it [00:00, ?it/s]"
     ]
    },
    {
     "name": "stdout",
     "output_type": "stream",
     "text": [
      "\r",
      "Upgrading database; v2 -> v3: : 0it [00:00, ?it/s]"
     ]
    },
    {
     "name": "stdout",
     "output_type": "stream",
     "text": [
      "\n",
      "\r",
      "0it [00:00, ?it/s]"
     ]
    },
    {
     "name": "stdout",
     "output_type": "stream",
     "text": [
      "\r",
      "Upgrading database; v3 -> v4: : 0it [00:00, ?it/s]"
     ]
    },
    {
     "name": "stdout",
     "output_type": "stream",
     "text": [
      "\r",
      "Upgrading database; v3 -> v4: : 0it [00:00, ?it/s]"
     ]
    },
    {
     "name": "stdout",
     "output_type": "stream",
     "text": [
      "\n",
      "\r",
      "  0%|          | 0/1 [00:00<?, ?it/s]"
     ]
    },
    {
     "name": "stdout",
     "output_type": "stream",
     "text": [
      "\r",
      "Upgrading database; v4 -> v5:   0%|          | 0/1 [00:00<?, ?it/s]"
     ]
    },
    {
     "name": "stdout",
     "output_type": "stream",
     "text": [
      "\r",
      "Upgrading database; v4 -> v5: 100%|██████████| 1/1 [00:00<00:00, 445.02it/s]"
     ]
    },
    {
     "name": "stdout",
     "output_type": "stream",
     "text": [
      "\n",
      "\r",
      "0it [00:00, ?it/s]"
     ]
    },
    {
     "name": "stdout",
     "output_type": "stream",
     "text": [
      "\r",
      "Upgrading database; v5 -> v6: : 0it [00:00, ?it/s]"
     ]
    },
    {
     "name": "stdout",
     "output_type": "stream",
     "text": [
      "\r",
      "Upgrading database; v5 -> v6: : 0it [00:00, ?it/s]"
     ]
    },
    {
     "name": "stdout",
     "output_type": "stream",
     "text": [
      "\n",
      "\r",
      "  0%|          | 0/1 [00:00<?, ?it/s]"
     ]
    },
    {
     "name": "stdout",
     "output_type": "stream",
     "text": [
      "\r",
      "Upgrading database; v6 -> v7:   0%|          | 0/1 [00:00<?, ?it/s]"
     ]
    },
    {
     "name": "stdout",
     "output_type": "stream",
     "text": [
      "\r",
      "Upgrading database; v6 -> v7: 100%|██████████| 1/1 [00:00<00:00, 316.58it/s]"
     ]
    },
    {
     "name": "stdout",
     "output_type": "stream",
     "text": [
      "\n",
      "\r",
      "  0%|          | 0/1 [00:00<?, ?it/s]"
     ]
    },
    {
     "name": "stdout",
     "output_type": "stream",
     "text": [
      "\r",
      "Upgrading database; v7 -> v8:   0%|          | 0/1 [00:00<?, ?it/s]"
     ]
    },
    {
     "name": "stdout",
     "output_type": "stream",
     "text": [
      "\r",
      "Upgrading database; v7 -> v8: 100%|██████████| 1/1 [00:00<00:00, 375.06it/s]"
     ]
    },
    {
     "name": "stdout",
     "output_type": "stream",
     "text": [
      "\n",
      "\r",
      "  0%|          | 0/1 [00:00<?, ?it/s]"
     ]
    },
    {
     "name": "stdout",
     "output_type": "stream",
     "text": [
      "\r",
      "Upgrading database; v8 -> v9:   0%|          | 0/1 [00:00<?, ?it/s]"
     ]
    },
    {
     "name": "stdout",
     "output_type": "stream",
     "text": [
      "\r",
      "Upgrading database; v8 -> v9: 100%|██████████| 1/1 [00:00<00:00, 414.50it/s]"
     ]
    },
    {
     "name": "stdout",
     "output_type": "stream",
     "text": [
      "\n"
     ]
    }
   ],
   "source": [
    "initialise_database()\n",
    "exp = load_or_create_experiment(experiment_name='tutorial_exp', sample_name=\"no sample\")"
   ]
  },
  {
   "cell_type": "markdown",
   "metadata": {},
   "source": [
    "Here, we define a simple function to benchmark the time it takes to insert n points with either numeric or array data type.\n",
    "We will compare both the time used to call ``add_result`` and the time used for the full measurement."
   ]
  },
  {
   "cell_type": "code",
   "execution_count": 4,
   "metadata": {
    "execution": {
     "iopub.execute_input": "2021-02-04T11:50:05.499861Z",
     "iopub.status.busy": "2021-02-04T11:50:05.498563Z",
     "iopub.status.idle": "2021-02-04T11:50:05.502867Z",
     "shell.execute_reply": "2021-02-04T11:50:05.503369Z"
    }
   },
   "outputs": [],
   "source": [
    "def insert_data(paramtype, npoints, nreps=1):\n",
    "\n",
    "    meas = Measurement(exp=exp)\n",
    "\n",
    "    x1 = ManualParameter('x1')\n",
    "    x2 = ManualParameter('x2')\n",
    "    x3 = ManualParameter('x3')\n",
    "    y1 = ManualParameter('y1')\n",
    "    y2 = ManualParameter('y2')\n",
    "\n",
    "    meas.register_parameter(x1, paramtype=paramtype)\n",
    "    meas.register_parameter(x2, paramtype=paramtype)\n",
    "    meas.register_parameter(x3, paramtype=paramtype)\n",
    "    meas.register_parameter(y1, setpoints=[x1, x2, x3],\n",
    "                            paramtype=paramtype)\n",
    "    meas.register_parameter(y2, setpoints=[x1, x2, x3],\n",
    "                            paramtype=paramtype)\n",
    "    start = time.perf_counter()\n",
    "    with meas.run() as datasaver:\n",
    "        start_adding = time.perf_counter()\n",
    "        for i in range(nreps):\n",
    "            datasaver.add_result((x1, np.random.rand(npoints)),\n",
    "                                 (x2, np.random.rand(npoints)),\n",
    "                                 (x3, np.random.rand(npoints)),\n",
    "                                 (y1, np.random.rand(npoints)),\n",
    "                                 (y2, np.random.rand(npoints)))\n",
    "        stop_adding = time.perf_counter()\n",
    "        run_id = datasaver.run_id\n",
    "    stop = time.perf_counter()\n",
    "    tot_time = stop - start\n",
    "    add_time = stop_adding - start_adding\n",
    "    return tot_time, add_time, run_id"
   ]
  },
  {
   "cell_type": "markdown",
   "metadata": {},
   "source": [
    "## Comparison between numeric/array data and binary blob"
   ]
  },
  {
   "cell_type": "markdown",
   "metadata": {},
   "source": [
    "### Case1: Short experiment time"
   ]
  },
  {
   "cell_type": "code",
   "execution_count": 5,
   "metadata": {
    "execution": {
     "iopub.execute_input": "2021-02-04T11:50:05.510028Z",
     "iopub.status.busy": "2021-02-04T11:50:05.508768Z",
     "iopub.status.idle": "2021-02-04T11:50:06.305402Z",
     "shell.execute_reply": "2021-02-04T11:50:06.304811Z"
    }
   },
   "outputs": [
    {
     "name": "stdout",
     "output_type": "stream",
     "text": [
      "Starting experimental run with id: 1. \n",
      "Starting experimental run with id: 2. \n",
      "Starting experimental run with id: 3. \n",
      "Starting experimental run with id: 4. \n",
      "Starting experimental run with id: 5. \n"
     ]
    },
    {
     "name": "stdout",
     "output_type": "stream",
     "text": [
      "Starting experimental run with id: 6. \n"
     ]
    },
    {
     "name": "stdout",
     "output_type": "stream",
     "text": [
      "Starting experimental run with id: 7. \n"
     ]
    },
    {
     "name": "stdout",
     "output_type": "stream",
     "text": [
      "Starting experimental run with id: 8. \n",
      "Starting experimental run with id: 9. \n"
     ]
    },
    {
     "name": "stdout",
     "output_type": "stream",
     "text": [
      "Starting experimental run with id: 10. \n",
      "Starting experimental run with id: 11. \n"
     ]
    },
    {
     "name": "stdout",
     "output_type": "stream",
     "text": [
      "Starting experimental run with id: 12. \n",
      "Starting experimental run with id: 13. \n"
     ]
    },
    {
     "name": "stdout",
     "output_type": "stream",
     "text": [
      "Starting experimental run with id: 14. \n"
     ]
    }
   ],
   "source": [
    "sizes = [1,500,1000,2000,3000,4000,5000]\n",
    "t_numeric = []\n",
    "t_numeric_add = []\n",
    "t_array = []\n",
    "t_array_add = []\n",
    "for size in sizes:\n",
    "    tn, tna, run_id_n =  insert_data('numeric', size)\n",
    "    t_numeric.append(tn)\n",
    "    t_numeric_add.append(tna)\n",
    "\n",
    "    ta, taa, run_id_a =  insert_data('array', size)\n",
    "    t_array.append(ta)\n",
    "    t_array_add.append(taa)"
   ]
  },
  {
   "cell_type": "code",
   "execution_count": 6,
   "metadata": {
    "execution": {
     "iopub.execute_input": "2021-02-04T11:50:06.323958Z",
     "iopub.status.busy": "2021-02-04T11:50:06.321255Z",
     "iopub.status.idle": "2021-02-04T11:50:06.559031Z",
     "shell.execute_reply": "2021-02-04T11:50:06.558190Z"
    }
   },
   "outputs": [
    {
     "data": {
      "image/png": "[encoded data removed]",
      "text/plain": [
       "<Figure size 432x288 with 1 Axes>"
      ]
     },
     "metadata": {
      "needs_background": "light"
     },
     "output_type": "display_data"
    }
   ],
   "source": [
    "fig, ax = plt.subplots(1,1)\n",
    "ax.plot(sizes, t_numeric, 'o-', label='Inserting row-by-row')\n",
    "ax.plot(sizes, t_numeric_add, 'o-', label='Inserting row-by-row: add_result only')\n",
    "ax.plot(sizes, t_array, 'd-', label='Inserting as binary blob')\n",
    "ax.plot(sizes, t_array_add, 'd-', label='Inserting as binary blob: add_result only')\n",
    "ax.legend()\n",
    "ax.set_xlabel('Array length')\n",
    "ax.set_ylabel('Time (s)')\n",
    "fig.tight_layout()"
   ]
  },
  {
   "cell_type": "markdown",
   "metadata": {},
   "source": [
    "As shown in the latter figure, the time to setup and and close the experiment is approximately 0.4 sec. In case of small array sizes, the difference between inserting values of data as arrays and inserting them row-by-row is relatively unimportant. At larger array sizes, i.e. above 10000 points, the cost of writing data as individual datapoints starts to become important.\n"
   ]
  },
  {
   "cell_type": "markdown",
   "metadata": {},
   "source": [
    "### Case2: Long experiment time "
   ]
  },
  {
   "cell_type": "code",
   "execution_count": 7,
   "metadata": {
    "execution": {
     "iopub.execute_input": "2021-02-04T11:50:06.566613Z",
     "iopub.status.busy": "2021-02-04T11:50:06.565824Z",
     "iopub.status.idle": "2021-02-04T11:51:04.585660Z",
     "shell.execute_reply": "2021-02-04T11:51:04.584976Z"
    }
   },
   "outputs": [
    {
     "name": "stdout",
     "output_type": "stream",
     "text": [
      "Starting experimental run with id: 15. \n",
      "Starting experimental run with id: 16. \n",
      "Starting experimental run with id: 17. \n"
     ]
    },
    {
     "name": "stdout",
     "output_type": "stream",
     "text": [
      "Starting experimental run with id: 18. \n",
      "Starting experimental run with id: 19. \n"
     ]
    },
    {
     "name": "stdout",
     "output_type": "stream",
     "text": [
      "Starting experimental run with id: 20. \n"
     ]
    },
    {
     "name": "stdout",
     "output_type": "stream",
     "text": [
      "Starting experimental run with id: 21. \n"
     ]
    },
    {
     "name": "stdout",
     "output_type": "stream",
     "text": [
      "Starting experimental run with id: 22. \n"
     ]
    },
    {
     "name": "stdout",
     "output_type": "stream",
     "text": [
      "Starting experimental run with id: 23. \n"
     ]
    },
    {
     "name": "stdout",
     "output_type": "stream",
     "text": [
      "Starting experimental run with id: 24. \n"
     ]
    },
    {
     "name": "stdout",
     "output_type": "stream",
     "text": [
      "Starting experimental run with id: 25. \n"
     ]
    },
    {
     "name": "stdout",
     "output_type": "stream",
     "text": [
      "Starting experimental run with id: 26. \n"
     ]
    },
    {
     "name": "stdout",
     "output_type": "stream",
     "text": [
      "Starting experimental run with id: 27. \n"
     ]
    },
    {
     "name": "stdout",
     "output_type": "stream",
     "text": [
      "Starting experimental run with id: 28. \n"
     ]
    }
   ],
   "source": [
    "sizes = [1,500,1000,2000,3000,4000,5000]\n",
    "nreps = 100\n",
    "t_numeric = []\n",
    "t_numeric_add = []\n",
    "t_numeric_run_ids = []\n",
    "t_array = []\n",
    "t_array_add = []\n",
    "t_array_run_ids = []\n",
    "for size in sizes:\n",
    "    tn, tna, run_id_n =  insert_data('numeric', size, nreps=nreps)\n",
    "    t_numeric.append(tn)\n",
    "    t_numeric_add.append(tna)\n",
    "    t_numeric_run_ids.append(run_id_n)\n",
    "\n",
    "    ta, taa, run_id_a =  insert_data('array', size, nreps=nreps)\n",
    "    t_array.append(ta)\n",
    "    t_array_add.append(taa)\n",
    "    t_array_run_ids.append(run_id_a)"
   ]
  },
  {
   "cell_type": "code",
   "execution_count": 8,
   "metadata": {
    "execution": {
     "iopub.execute_input": "2021-02-04T11:51:04.612456Z",
     "iopub.status.busy": "2021-02-04T11:51:04.606120Z",
     "iopub.status.idle": "2021-02-04T11:51:04.826241Z",
     "shell.execute_reply": "2021-02-04T11:51:04.825704Z"
    },
    "scrolled": true
   },
   "outputs": [
    {
     "data": {
      "image/png": "[encoded data removed]",
      "text/plain": [
       "<Figure size 432x288 with 1 Axes>"
      ]
     },
     "metadata": {
      "needs_background": "light"
     },
     "output_type": "display_data"
    }
   ],
   "source": [
    "fig, ax = plt.subplots(1,1)\n",
    "ax.plot(sizes, t_numeric, 'o-', label='Inserting row-by-row')\n",
    "ax.plot(sizes, t_numeric_add, 'o-', label='Inserting row-by-row: add_result only')\n",
    "ax.plot(sizes, t_array, 'd-', label='Inserting as binary blob')\n",
    "ax.plot(sizes, t_array_add, 'd-', label='Inserting as binary blob: add_result only')\n",
    "ax.legend()\n",
    "ax.set_xlabel('Array length')\n",
    "ax.set_ylabel('Time (s)')\n",
    "fig.tight_layout()"
   ]
  },
  {
   "cell_type": "markdown",
   "metadata": {},
   "source": [
    "However, as we increase the length of the experiment, as seen here by repeating the insertion 100 times, we see a big difference between inserting values of the data row-by-row and inserting it as a binary blob."
   ]
  },
  {
   "cell_type": "markdown",
   "metadata": {},
   "source": [
    "## Loading the data "
   ]
  },
  {
   "cell_type": "code",
   "execution_count": 9,
   "metadata": {
    "execution": {
     "iopub.execute_input": "2021-02-04T11:51:04.831269Z",
     "iopub.status.busy": "2021-02-04T11:51:04.830643Z",
     "iopub.status.idle": "2021-02-04T11:51:04.833237Z",
     "shell.execute_reply": "2021-02-04T11:51:04.833720Z"
    }
   },
   "outputs": [],
   "source": [
    "from qcodes.dataset.data_set import load_by_id\n",
    "from qcodes.dataset.data_export import get_data_by_id"
   ]
  },
  {
   "cell_type": "markdown",
   "metadata": {},
   "source": [
    "As usual you can load the data by using the ``load_by_id`` function but you will notice that the different storage methods\n",
    "are reflected in shape of the data as it is retrieved. "
   ]
  },
  {
   "cell_type": "code",
   "execution_count": 10,
   "metadata": {
    "execution": {
     "iopub.execute_input": "2021-02-04T11:51:04.838898Z",
     "iopub.status.busy": "2021-02-04T11:51:04.837517Z",
     "iopub.status.idle": "2021-02-04T11:51:04.839602Z",
     "shell.execute_reply": "2021-02-04T11:51:04.840146Z"
    }
   },
   "outputs": [],
   "source": [
    "run_id_n = t_numeric_run_ids[0]\n",
    "run_id_a = t_array_run_ids[0]"
   ]
  },
  {
   "cell_type": "code",
   "execution_count": 11,
   "metadata": {
    "execution": {
     "iopub.execute_input": "2021-02-04T11:51:04.843895Z",
     "iopub.status.busy": "2021-02-04T11:51:04.843270Z",
     "iopub.status.idle": "2021-02-04T11:51:04.853302Z",
     "shell.execute_reply": "2021-02-04T11:51:04.853882Z"
    },
    "scrolled": true
   },
   "outputs": [
    {
     "data": {
      "text/plain": [
       "{'x1': {'x1': array([2.59029496e-01, 2.59029496e-01, 8.02833955e-01, 8.02833955e-01,\n",
       "         6.66408243e-01, 6.66408243e-01, 1.18090762e-01, 1.18090762e-01,\n",
       "         4.57770058e-01, 4.57770058e-01, 4.09164890e-02, 4.09164890e-02,\n",
       "         2.95017630e-01, 2.95017630e-01, 8.45322106e-01, 8.45322106e-01,\n",
       "         9.18794825e-01, 9.18794825e-01, 7.65050876e-01, 7.65050876e-01,\n",
       "         6.73109479e-01, 6.73109479e-01, 6.06630932e-02, 6.06630932e-02,\n",
       "         7.59299299e-01, 7.59299299e-01, 4.97929515e-01, 4.97929515e-01,\n",
       "         3.91490644e-01, 3.91490644e-01, 8.61274399e-01, 8.61274399e-01,\n",
       "         9.39778190e-01, 9.39778190e-01, 6.83199067e-01, 6.83199067e-01,\n",
       "         9.12494930e-01, 9.12494930e-01, 3.63347866e-01, 3.63347866e-01,\n",
       "         5.70272276e-01, 5.70272276e-01, 2.62220690e-01, 2.62220690e-01,\n",
       "         1.29074135e-01, 1.29074135e-01, 7.66093632e-01, 7.66093632e-01,\n",
       "         4.78744451e-01, 4.78744451e-01, 9.36267538e-01, 9.36267538e-01,\n",
       "         8.56452468e-01, 8.56452468e-01, 9.77881708e-01, 9.77881708e-01,\n",
       "         9.76450275e-01, 9.76450275e-01, 9.59143989e-01, 9.59143989e-01,\n",
       "         2.84961758e-01, 2.84961758e-01, 7.23118431e-01, 7.23118431e-01,\n",
       "         3.97591698e-02, 3.97591698e-02, 8.02752261e-01, 8.02752261e-01,\n",
       "         9.63388182e-01, 9.63388182e-01, 5.48003085e-01, 5.48003085e-01,\n",
       "         3.07033055e-01, 3.07033055e-01, 8.47776355e-01, 8.47776355e-01,\n",
       "         2.51663983e-01, 2.51663983e-01, 9.22012626e-01, 9.22012626e-01,\n",
       "         3.03034911e-01, 3.03034911e-01, 5.54908968e-01, 5.54908968e-01,\n",
       "         4.58280882e-01, 4.58280882e-01, 6.61799020e-01, 6.61799020e-01,\n",
       "         2.02075103e-01, 2.02075103e-01, 3.90346937e-01, 3.90346937e-01,\n",
       "         2.59844585e-01, 2.59844585e-01, 8.80211773e-01, 8.80211773e-01,\n",
       "         3.16645830e-04, 3.16645830e-04, 6.85405230e-01, 6.85405230e-01,\n",
       "         4.43009978e-01, 4.43009978e-01, 2.63886736e-01, 2.63886736e-01,\n",
       "         4.56439669e-01, 4.56439669e-01, 6.49039128e-01, 6.49039128e-01,\n",
       "         9.52581455e-01, 9.52581455e-01, 8.50236909e-01, 8.50236909e-01,\n",
       "         9.47398960e-01, 9.47398960e-01, 6.75731311e-01, 6.75731311e-01,\n",
       "         2.96777865e-01, 2.96777865e-01, 3.82521578e-01, 3.82521578e-01,\n",
       "         3.32988413e-01, 3.32988413e-01, 4.89912442e-02, 4.89912442e-02,\n",
       "         1.11232230e-01, 1.11232230e-01, 3.60997190e-01, 3.60997190e-01,\n",
       "         9.33628366e-02, 9.33628366e-02, 7.33042425e-01, 7.33042425e-01,\n",
       "         3.92946543e-02, 3.92946543e-02, 2.82143818e-01, 2.82143818e-01,\n",
       "         9.43177140e-01, 9.43177140e-01, 4.07138148e-01, 4.07138148e-01,\n",
       "         4.79999268e-01, 4.79999268e-01, 4.23208449e-01, 4.23208449e-01,\n",
       "         1.74876345e-01, 1.74876345e-01, 8.40037783e-01, 8.40037783e-01,\n",
       "         5.84986815e-01, 5.84986815e-01, 9.06556110e-01, 9.06556110e-01,\n",
       "         3.77575848e-01, 3.77575848e-01, 5.73293632e-01, 5.73293632e-01,\n",
       "         7.42830899e-01, 7.42830899e-01, 6.60869602e-01, 6.60869602e-01,\n",
       "         3.46690406e-01, 3.46690406e-01, 4.00809703e-01, 4.00809703e-01,\n",
       "         8.23081492e-01, 8.23081492e-01, 3.58142800e-01, 3.58142800e-01,\n",
       "         4.56517603e-01, 4.56517603e-01, 8.29287822e-01, 8.29287822e-01,\n",
       "         7.37891183e-01, 7.37891183e-01, 7.76848849e-01, 7.76848849e-01,\n",
       "         2.94540570e-01, 2.94540570e-01, 1.83722516e-01, 1.83722516e-01,\n",
       "         4.07450382e-01, 4.07450382e-01, 6.73552556e-01, 6.73552556e-01,\n",
       "         4.84587878e-01, 4.84587878e-01, 7.68114827e-01, 7.68114827e-01,\n",
       "         1.32886707e-01, 1.32886707e-01, 8.10585684e-01, 8.10585684e-01,\n",
       "         8.33439171e-02, 8.33439171e-02, 1.78496457e-01, 1.78496457e-01,\n",
       "         5.96907943e-01, 5.96907943e-01, 7.29992008e-01, 7.29992008e-01])}}"
      ]
     },
     "execution_count": 1,
     "metadata": {},
     "output_type": "execute_result"
    }
   ],
   "source": [
    "ds = load_by_id(run_id_n)\n",
    "ds.get_parameter_data('x1')"
   ]
  },
  {
   "cell_type": "markdown",
   "metadata": {},
   "source": [
    "And a dataset stored as binary arrays"
   ]
  },
  {
   "cell_type": "code",
   "execution_count": 12,
   "metadata": {
    "execution": {
     "iopub.execute_input": "2021-02-04T11:51:04.857715Z",
     "iopub.status.busy": "2021-02-04T11:51:04.857053Z",
     "iopub.status.idle": "2021-02-04T11:51:04.925123Z",
     "shell.execute_reply": "2021-02-04T11:51:04.925698Z"
    },
    "scrolled": true
   },
   "outputs": [
    {
     "data": {
      "text/plain": [
       "{'x1': {'x1': array([[0.1573455 ],\n",
       "         [0.1573455 ],\n",
       "         [0.82808413],\n",
       "         [0.82808413],\n",
       "         [0.06841935],\n",
       "         [0.06841935],\n",
       "         [0.722688  ],\n",
       "         [0.722688  ],\n",
       "         [0.32949018],\n",
       "         [0.32949018],\n",
       "         [0.7796676 ],\n",
       "         [0.7796676 ],\n",
       "         [0.98374483],\n",
       "         [0.98374483],\n",
       "         [0.42939686],\n",
       "         [0.42939686],\n",
       "         [0.31962475],\n",
       "         [0.31962475],\n",
       "         [0.17985788],\n",
       "         [0.17985788],\n",
       "         [0.23332466],\n",
       "         [0.23332466],\n",
       "         [0.68852238],\n",
       "         [0.68852238],\n",
       "         [0.37796171],\n",
       "         [0.37796171],\n",
       "         [0.73729331],\n",
       "         [0.73729331],\n",
       "         [0.57639465],\n",
       "         [0.57639465],\n",
       "         [0.03677444],\n",
       "         [0.03677444],\n",
       "         [0.35571035],\n",
       "         [0.35571035],\n",
       "         [0.54207734],\n",
       "         [0.54207734],\n",
       "         [0.47070902],\n",
       "         [0.47070902],\n",
       "         [0.08276943],\n",
       "         [0.08276943],\n",
       "         [0.29645343],\n",
       "         [0.29645343],\n",
       "         [0.52259739],\n",
       "         [0.52259739],\n",
       "         [0.90289051],\n",
       "         [0.90289051],\n",
       "         [0.04423363],\n",
       "         [0.04423363],\n",
       "         [0.76458224],\n",
       "         [0.76458224],\n",
       "         [0.7261633 ],\n",
       "         [0.7261633 ],\n",
       "         [0.78091201],\n",
       "         [0.78091201],\n",
       "         [0.9124257 ],\n",
       "         [0.9124257 ],\n",
       "         [0.29929947],\n",
       "         [0.29929947],\n",
       "         [0.19463249],\n",
       "         [0.19463249],\n",
       "         [0.3921836 ],\n",
       "         [0.3921836 ],\n",
       "         [0.77451563],\n",
       "         [0.77451563],\n",
       "         [0.00850188],\n",
       "         [0.00850188],\n",
       "         [0.49995972],\n",
       "         [0.49995972],\n",
       "         [0.78589018],\n",
       "         [0.78589018],\n",
       "         [0.97138523],\n",
       "         [0.97138523],\n",
       "         [0.82599379],\n",
       "         [0.82599379],\n",
       "         [0.14343103],\n",
       "         [0.14343103],\n",
       "         [0.11167112],\n",
       "         [0.11167112],\n",
       "         [0.25293773],\n",
       "         [0.25293773],\n",
       "         [0.31528747],\n",
       "         [0.31528747],\n",
       "         [0.39662908],\n",
       "         [0.39662908],\n",
       "         [0.52486932],\n",
       "         [0.52486932],\n",
       "         [0.66300656],\n",
       "         [0.66300656],\n",
       "         [0.27030136],\n",
       "         [0.27030136],\n",
       "         [0.20056982],\n",
       "         [0.20056982],\n",
       "         [0.39624582],\n",
       "         [0.39624582],\n",
       "         [0.24851908],\n",
       "         [0.24851908],\n",
       "         [0.18733698],\n",
       "         [0.18733698],\n",
       "         [0.70186729],\n",
       "         [0.70186729],\n",
       "         [0.03389149],\n",
       "         [0.03389149],\n",
       "         [0.11167786],\n",
       "         [0.11167786],\n",
       "         [0.80869883],\n",
       "         [0.80869883],\n",
       "         [0.70841641],\n",
       "         [0.70841641],\n",
       "         [0.91486028],\n",
       "         [0.91486028],\n",
       "         [0.9753842 ],\n",
       "         [0.9753842 ],\n",
       "         [0.703621  ],\n",
       "         [0.703621  ],\n",
       "         [0.72470083],\n",
       "         [0.72470083],\n",
       "         [0.43628817],\n",
       "         [0.43628817],\n",
       "         [0.25317305],\n",
       "         [0.25317305],\n",
       "         [0.68734229],\n",
       "         [0.68734229],\n",
       "         [0.42461492],\n",
       "         [0.42461492],\n",
       "         [0.66219084],\n",
       "         [0.66219084],\n",
       "         [0.18206612],\n",
       "         [0.18206612],\n",
       "         [0.34336525],\n",
       "         [0.34336525],\n",
       "         [0.11904165],\n",
       "         [0.11904165],\n",
       "         [0.01774734],\n",
       "         [0.01774734],\n",
       "         [0.8506402 ],\n",
       "         [0.8506402 ],\n",
       "         [0.05006164],\n",
       "         [0.05006164],\n",
       "         [0.28954625],\n",
       "         [0.28954625],\n",
       "         [0.56584913],\n",
       "         [0.56584913],\n",
       "         [0.13666203],\n",
       "         [0.13666203],\n",
       "         [0.79788387],\n",
       "         [0.79788387],\n",
       "         [0.92799894],\n",
       "         [0.92799894],\n",
       "         [0.54987823],\n",
       "         [0.54987823],\n",
       "         [0.44268008],\n",
       "         [0.44268008],\n",
       "         [0.1467595 ],\n",
       "         [0.1467595 ],\n",
       "         [0.56948788],\n",
       "         [0.56948788],\n",
       "         [0.86960322],\n",
       "         [0.86960322],\n",
       "         [0.11112388],\n",
       "         [0.11112388],\n",
       "         [0.76248684],\n",
       "         [0.76248684],\n",
       "         [0.0812332 ],\n",
       "         [0.0812332 ],\n",
       "         [0.1757115 ],\n",
       "         [0.1757115 ],\n",
       "         [0.59243932],\n",
       "         [0.59243932],\n",
       "         [0.92576049],\n",
       "         [0.92576049],\n",
       "         [0.49173807],\n",
       "         [0.49173807],\n",
       "         [0.02020105],\n",
       "         [0.02020105],\n",
       "         [0.8737542 ],\n",
       "         [0.8737542 ],\n",
       "         [0.54675283],\n",
       "         [0.54675283],\n",
       "         [0.5460314 ],\n",
       "         [0.5460314 ],\n",
       "         [0.62561976],\n",
       "         [0.62561976],\n",
       "         [0.88997467],\n",
       "         [0.88997467],\n",
       "         [0.50726955],\n",
       "         [0.50726955],\n",
       "         [0.71633649],\n",
       "         [0.71633649],\n",
       "         [0.32496845],\n",
       "         [0.32496845],\n",
       "         [0.15431813],\n",
       "         [0.15431813],\n",
       "         [0.76663558],\n",
       "         [0.76663558],\n",
       "         [0.73995716],\n",
       "         [0.73995716],\n",
       "         [0.22295023],\n",
       "         [0.22295023],\n",
       "         [0.39474764],\n",
       "         [0.39474764]])}}"
      ]
     },
     "execution_count": 1,
     "metadata": {},
     "output_type": "execute_result"
    }
   ],
   "source": [
    "ds = load_by_id(run_id_a)\n",
    "ds.get_parameter_data('x1')"
   ]
  },
  {
   "cell_type": "code",
   "execution_count": null,
   "metadata": {},
   "outputs": [],
   "source": []
  }
 ],
 "metadata": {
  "kernelspec": {
   "display_name": "Python 3",
   "language": "python",
   "name": "python3"
  },
  "language_info": {
   "codemirror_mode": {
    "name": "ipython",
    "version": 3
   },
   "file_extension": ".py",
   "mimetype": "text/x-python",
   "name": "python",
   "nbconvert_exporter": "python",
   "pygments_lexer": "ipython3",
   "version": "3.7.9"
  },
  "nbsphinx": {
   "timeout": 600
  },
  "toc": {
   "base_numbering": 1,
   "nav_menu": {},
   "number_sections": true,
   "sideBar": true,
   "skip_h1_title": false,
   "title_cell": "Table of Contents",
   "title_sidebar": "Contents",
   "toc_cell": false,
   "toc_position": {},
   "toc_section_display": true,
   "toc_window_display": false
  },
  "varInspector": {
   "cols": {
    "lenName": 16,
    "lenType": 16,
    "lenVar": 40
   },
   "kernels_config": {
    "python": {
     "delete_cmd_postfix": "",
     "delete_cmd_prefix": "del ",
     "library": "var_list.py",
     "varRefreshCmd": "print(var_dic_list())"
    },
    "r": {
     "delete_cmd_postfix": ") ",
     "delete_cmd_prefix": "rm(",
     "library": "var_list.r",
     "varRefreshCmd": "cat(var_dic_list()) "
    }
   },
   "types_to_exclude": [
    "module",
    "function",
    "builtin_function_or_method",
    "instance",
    "_Feature"
   ],
   "window_display": false
  }
 },
 "nbformat": 4,
 "nbformat_minor": 2
}
