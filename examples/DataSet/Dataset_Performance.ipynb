{
 "cells": [
  {
   "cell_type": "markdown",
   "metadata": {},
   "source": [
    "# DataSet Performance\n",
    "\n",
    "This notebook shows the trade-off between inserting data into a database row-by-row and as binary blobs. Inserting the data row-by-row means that we have direct access to all the data and may perform queries directly on the values of the data. On the other hand, as we shall see, this is much slower than inserting the data directly as binary blobs."
   ]
  },
  {
   "cell_type": "markdown",
   "metadata": {},
   "source": [
    "First, we choose a new location for the database to ensure that we don't add a bunch of benchmarking data to the default one."
   ]
  },
  {
   "cell_type": "code",
   "execution_count": 1,
   "metadata": {
    "execution": {
     "iopub.execute_input": "2020-10-05T07:39:07.612644Z",
     "iopub.status.busy": "2020-10-05T07:39:07.612031Z",
     "iopub.status.idle": "2020-10-05T07:39:08.786090Z",
     "shell.execute_reply": "2020-10-05T07:39:08.785103Z"
    }
   },
   "outputs": [
    {
     "name": "stdout",
     "output_type": "stream",
     "text": [
      "Logging hadn't been started.\n",
      "Activating auto-logging. Current session state plus future input saved.\n",
      "Filename       : /home/vsts/.qcodes/logs/command_history.log\n",
      "Mode           : append\n",
      "Output logging : True\n",
      "Raw input log  : False\n",
      "Timestamping   : True\n",
      "State          : active\n"
     ]
    },
    {
     "name": "stdout",
     "output_type": "stream",
     "text": [
      "Qcodes Logfile : /home/vsts/.qcodes/logs/201005-19095-qcodes.log\n"
     ]
    }
   ],
   "source": [
    "import os\n",
    "cwd = os.getcwd()\n",
    "import qcodes as qc\n",
    "qc.config[\"core\"][\"db_location\"] = os.path.join(cwd, 'testing.db')\n"
   ]
  },
  {
   "cell_type": "code",
   "execution_count": 2,
   "metadata": {
    "execution": {
     "iopub.execute_input": "2020-10-05T07:39:08.792725Z",
     "iopub.status.busy": "2020-10-05T07:39:08.791473Z",
     "iopub.status.idle": "2020-10-05T07:39:09.003523Z",
     "shell.execute_reply": "2020-10-05T07:39:09.002609Z"
    }
   },
   "outputs": [],
   "source": [
    "%matplotlib inline\n",
    "import time\n",
    "import matplotlib.pyplot as plt\n",
    "import numpy as np\n",
    "\n",
    "import qcodes as qc\n",
    "from qcodes.instrument.parameter import ManualParameter\n",
    "from qcodes.dataset.experiment_container import (Experiment,\n",
    "                                                 load_last_experiment,\n",
    "                                                 new_experiment)\n",
    "from qcodes.dataset.sqlite.database import initialise_database\n",
    "from qcodes import load_or_create_experiment\n",
    "from qcodes.dataset.measurements import Measurement"
   ]
  },
  {
   "cell_type": "code",
   "execution_count": 3,
   "metadata": {
    "execution": {
     "iopub.execute_input": "2020-10-05T07:39:09.007536Z",
     "iopub.status.busy": "2020-10-05T07:39:09.006540Z",
     "iopub.status.idle": "2020-10-05T07:39:09.143526Z",
     "shell.execute_reply": "2020-10-05T07:39:09.142641Z"
    }
   },
   "outputs": [
    {
     "name": "stdout",
     "output_type": "stream",
     "text": [
      "\r",
      "0it [00:00, ?it/s]"
     ]
    },
    {
     "name": "stdout",
     "output_type": "stream",
     "text": [
      "\r",
      "Upgrading database; v0 -> v1: : 0it [00:00, ?it/s]"
     ]
    },
    {
     "name": "stdout",
     "output_type": "stream",
     "text": [
      "\r",
      "Upgrading database; v0 -> v1: : 0it [00:00, ?it/s]"
     ]
    },
    {
     "name": "stdout",
     "output_type": "stream",
     "text": [
      "\n",
      "\r",
      "  0%|          | 0/1 [00:00<?, ?it/s]"
     ]
    },
    {
     "name": "stdout",
     "output_type": "stream",
     "text": [
      "\r",
      "Upgrading database; v1 -> v2:   0%|          | 0/1 [00:00<?, ?it/s]"
     ]
    },
    {
     "name": "stdout",
     "output_type": "stream",
     "text": [
      "\r",
      "Upgrading database; v1 -> v2: 100%|██████████| 1/1 [00:00<00:00, 491.65it/s]"
     ]
    },
    {
     "name": "stdout",
     "output_type": "stream",
     "text": [
      "\n",
      "\r",
      "0it [00:00, ?it/s]"
     ]
    },
    {
     "name": "stdout",
     "output_type": "stream",
     "text": [
      "\r",
      "Upgrading database; v2 -> v3: : 0it [00:00, ?it/s]"
     ]
    },
    {
     "name": "stdout",
     "output_type": "stream",
     "text": [
      "\r",
      "Upgrading database; v2 -> v3: : 0it [00:00, ?it/s]"
     ]
    },
    {
     "name": "stdout",
     "output_type": "stream",
     "text": [
      "\n",
      "\r",
      "0it [00:00, ?it/s]"
     ]
    },
    {
     "name": "stdout",
     "output_type": "stream",
     "text": [
      "\r",
      "Upgrading database; v3 -> v4: : 0it [00:00, ?it/s]"
     ]
    },
    {
     "name": "stdout",
     "output_type": "stream",
     "text": [
      "\r",
      "Upgrading database; v3 -> v4: : 0it [00:00, ?it/s]"
     ]
    },
    {
     "name": "stdout",
     "output_type": "stream",
     "text": [
      "\n",
      "\r",
      "  0%|          | 0/1 [00:00<?, ?it/s]"
     ]
    },
    {
     "name": "stdout",
     "output_type": "stream",
     "text": [
      "\r",
      "Upgrading database; v4 -> v5:   0%|          | 0/1 [00:00<?, ?it/s]"
     ]
    },
    {
     "name": "stdout",
     "output_type": "stream",
     "text": [
      "\r",
      "Upgrading database; v4 -> v5: 100%|██████████| 1/1 [00:00<00:00, 525.34it/s]"
     ]
    },
    {
     "name": "stdout",
     "output_type": "stream",
     "text": [
      "\n",
      "\r",
      "0it [00:00, ?it/s]"
     ]
    },
    {
     "name": "stdout",
     "output_type": "stream",
     "text": [
      "\r",
      "Upgrading database; v5 -> v6: : 0it [00:00, ?it/s]"
     ]
    },
    {
     "name": "stdout",
     "output_type": "stream",
     "text": [
      "\r",
      "Upgrading database; v5 -> v6: : 0it [00:00, ?it/s]"
     ]
    },
    {
     "name": "stdout",
     "output_type": "stream",
     "text": [
      "\n",
      "\r",
      "  0%|          | 0/1 [00:00<?, ?it/s]"
     ]
    },
    {
     "name": "stdout",
     "output_type": "stream",
     "text": [
      "\r",
      "Upgrading database; v6 -> v7:   0%|          | 0/1 [00:00<?, ?it/s]"
     ]
    },
    {
     "name": "stdout",
     "output_type": "stream",
     "text": [
      "\r",
      "Upgrading database; v6 -> v7: 100%|██████████| 1/1 [00:00<00:00, 335.89it/s]"
     ]
    },
    {
     "name": "stdout",
     "output_type": "stream",
     "text": [
      "\n",
      "\r",
      "  0%|          | 0/1 [00:00<?, ?it/s]"
     ]
    },
    {
     "name": "stdout",
     "output_type": "stream",
     "text": [
      "\r",
      "Upgrading database; v7 -> v8:   0%|          | 0/1 [00:00<?, ?it/s]"
     ]
    },
    {
     "name": "stdout",
     "output_type": "stream",
     "text": [
      "\r",
      "Upgrading database; v7 -> v8: 100%|██████████| 1/1 [00:00<00:00, 408.68it/s]"
     ]
    },
    {
     "name": "stdout",
     "output_type": "stream",
     "text": [
      "\n",
      "\r",
      "  0%|          | 0/1 [00:00<?, ?it/s]"
     ]
    },
    {
     "name": "stdout",
     "output_type": "stream",
     "text": [
      "\r",
      "Upgrading database; v8 -> v9:   0%|          | 0/1 [00:00<?, ?it/s]"
     ]
    },
    {
     "name": "stdout",
     "output_type": "stream",
     "text": [
      "\r",
      "Upgrading database; v8 -> v9: 100%|██████████| 1/1 [00:00<00:00, 361.77it/s]"
     ]
    },
    {
     "name": "stdout",
     "output_type": "stream",
     "text": [
      "\n"
     ]
    }
   ],
   "source": [
    "initialise_database()\n",
    "exp = load_or_create_experiment(experiment_name='tutorial_exp', sample_name=\"no sample\")"
   ]
  },
  {
   "cell_type": "markdown",
   "metadata": {},
   "source": [
    "Here, we define a simple function to benchmark the time it takes to insert n points with either numeric or array data type.\n",
    "We will compare both the time used to call ``add_result`` and the time used for the full measurement."
   ]
  },
  {
   "cell_type": "code",
   "execution_count": 4,
   "metadata": {
    "execution": {
     "iopub.execute_input": "2020-10-05T07:39:09.152395Z",
     "iopub.status.busy": "2020-10-05T07:39:09.150868Z",
     "iopub.status.idle": "2020-10-05T07:39:09.155863Z",
     "shell.execute_reply": "2020-10-05T07:39:09.155060Z"
    }
   },
   "outputs": [],
   "source": [
    "def insert_data(paramtype, npoints, nreps=1):\n",
    "\n",
    "    meas = Measurement(exp=exp)\n",
    "\n",
    "    x1 = ManualParameter('x1')\n",
    "    x2 = ManualParameter('x2')\n",
    "    x3 = ManualParameter('x3')\n",
    "    y1 = ManualParameter('y1')\n",
    "    y2 = ManualParameter('y2')\n",
    "\n",
    "    meas.register_parameter(x1, paramtype=paramtype)\n",
    "    meas.register_parameter(x2, paramtype=paramtype)\n",
    "    meas.register_parameter(x3, paramtype=paramtype)\n",
    "    meas.register_parameter(y1, setpoints=[x1, x2, x3],\n",
    "                            paramtype=paramtype)\n",
    "    meas.register_parameter(y2, setpoints=[x1, x2, x3],\n",
    "                            paramtype=paramtype)\n",
    "    start = time.perf_counter()\n",
    "    with meas.run() as datasaver:\n",
    "        start_adding = time.perf_counter()\n",
    "        for i in range(nreps):\n",
    "            datasaver.add_result((x1, np.random.rand(npoints)),\n",
    "                                 (x2, np.random.rand(npoints)),\n",
    "                                 (x3, np.random.rand(npoints)),\n",
    "                                 (y1, np.random.rand(npoints)),\n",
    "                                 (y2, np.random.rand(npoints)))\n",
    "        stop_adding = time.perf_counter()\n",
    "        run_id = datasaver.run_id\n",
    "    stop = time.perf_counter()\n",
    "    tot_time = stop - start\n",
    "    add_time = stop_adding - start_adding\n",
    "    return tot_time, add_time, run_id"
   ]
  },
  {
   "cell_type": "markdown",
   "metadata": {},
   "source": [
    "## Comparison between numeric/array data and binary blob"
   ]
  },
  {
   "cell_type": "markdown",
   "metadata": {},
   "source": [
    "### Case1: Short experiment time"
   ]
  },
  {
   "cell_type": "code",
   "execution_count": 5,
   "metadata": {
    "execution": {
     "iopub.execute_input": "2020-10-05T07:39:09.161325Z",
     "iopub.status.busy": "2020-10-05T07:39:09.160100Z",
     "iopub.status.idle": "2020-10-05T07:39:10.129882Z",
     "shell.execute_reply": "2020-10-05T07:39:10.130400Z"
    }
   },
   "outputs": [
    {
     "name": "stdout",
     "output_type": "stream",
     "text": [
      "Starting experimental run with id: 1. \n",
      "Starting experimental run with id: 2. \n",
      "Starting experimental run with id: 3. \n"
     ]
    },
    {
     "name": "stdout",
     "output_type": "stream",
     "text": [
      "Starting experimental run with id: 4. \n"
     ]
    },
    {
     "name": "stdout",
     "output_type": "stream",
     "text": [
      "Starting experimental run with id: 5. \n"
     ]
    },
    {
     "name": "stdout",
     "output_type": "stream",
     "text": [
      "Starting experimental run with id: 6. \n",
      "Starting experimental run with id: 7. \n"
     ]
    },
    {
     "name": "stdout",
     "output_type": "stream",
     "text": [
      "Starting experimental run with id: 8. \n"
     ]
    },
    {
     "name": "stdout",
     "output_type": "stream",
     "text": [
      "Starting experimental run with id: 9. \n"
     ]
    },
    {
     "name": "stdout",
     "output_type": "stream",
     "text": [
      "Starting experimental run with id: 10. \n",
      "Starting experimental run with id: 11. \n"
     ]
    },
    {
     "name": "stdout",
     "output_type": "stream",
     "text": [
      "Starting experimental run with id: 12. \n"
     ]
    },
    {
     "name": "stdout",
     "output_type": "stream",
     "text": [
      "Starting experimental run with id: 13. \n"
     ]
    },
    {
     "name": "stdout",
     "output_type": "stream",
     "text": [
      "Starting experimental run with id: 14. \n"
     ]
    }
   ],
   "source": [
    "sizes = [1,500,1000,2000,3000,4000,5000]\n",
    "t_numeric = []\n",
    "t_numeric_add = []\n",
    "t_array = []\n",
    "t_array_add = []\n",
    "for size in sizes:\n",
    "    tn, tna, run_id_n =  insert_data('numeric', size)\n",
    "    t_numeric.append(tn)\n",
    "    t_numeric_add.append(tna)\n",
    "\n",
    "    ta, taa, run_id_a =  insert_data('array', size)\n",
    "    t_array.append(ta)\n",
    "    t_array_add.append(taa)"
   ]
  },
  {
   "cell_type": "code",
   "execution_count": 6,
   "metadata": {
    "execution": {
     "iopub.execute_input": "2020-10-05T07:39:10.149948Z",
     "iopub.status.busy": "2020-10-05T07:39:10.134966Z",
     "iopub.status.idle": "2020-10-05T07:39:10.372346Z",
     "shell.execute_reply": "2020-10-05T07:39:10.371705Z"
    }
   },
   "outputs": [
    {
     "data": {
      "image/png": "[encoded data removed]",
      "text/plain": [
       "<Figure size 432x288 with 1 Axes>"
      ]
     },
     "metadata": {
      "needs_background": "light"
     },
     "output_type": "display_data"
    }
   ],
   "source": [
    "fig, ax = plt.subplots(1,1)\n",
    "ax.plot(sizes, t_numeric, 'o-', label='Inserting row-by-row')\n",
    "ax.plot(sizes, t_numeric_add, 'o-', label='Inserting row-by-row: add_result only')\n",
    "ax.plot(sizes, t_array, 'd-', label='Inserting as binary blob')\n",
    "ax.plot(sizes, t_array_add, 'd-', label='Inserting as binary blob: add_result only')\n",
    "ax.legend()\n",
    "ax.set_xlabel('Array length')\n",
    "ax.set_ylabel('Time (s)')\n",
    "fig.tight_layout()"
   ]
  },
  {
   "cell_type": "markdown",
   "metadata": {},
   "source": [
    "As shown in the latter figure, the time to setup and and close the experiment is approximately 0.4 sec. In case of small array sizes, the difference between inserting values of data as arrays and inserting them row-by-row is relatively unimportant. At larger array sizes, i.e. above 10000 points, the cost of writing data as individual datapoints starts to become important.\n"
   ]
  },
  {
   "cell_type": "markdown",
   "metadata": {},
   "source": [
    "### Case2: Long experiment time "
   ]
  },
  {
   "cell_type": "code",
   "execution_count": 7,
   "metadata": {
    "execution": {
     "iopub.execute_input": "2020-10-05T07:39:10.380598Z",
     "iopub.status.busy": "2020-10-05T07:39:10.379968Z",
     "iopub.status.idle": "2020-10-05T07:40:14.270901Z",
     "shell.execute_reply": "2020-10-05T07:40:14.270137Z"
    }
   },
   "outputs": [
    {
     "name": "stdout",
     "output_type": "stream",
     "text": [
      "Starting experimental run with id: 15. \n",
      "Starting experimental run with id: 16. \n",
      "Starting experimental run with id: 17. \n"
     ]
    },
    {
     "name": "stdout",
     "output_type": "stream",
     "text": [
      "Starting experimental run with id: 18. \n",
      "Starting experimental run with id: 19. \n"
     ]
    },
    {
     "name": "stdout",
     "output_type": "stream",
     "text": [
      "Starting experimental run with id: 20. \n"
     ]
    },
    {
     "name": "stdout",
     "output_type": "stream",
     "text": [
      "Starting experimental run with id: 21. \n"
     ]
    },
    {
     "name": "stdout",
     "output_type": "stream",
     "text": [
      "Starting experimental run with id: 22. \n"
     ]
    },
    {
     "name": "stdout",
     "output_type": "stream",
     "text": [
      "Starting experimental run with id: 23. \n"
     ]
    },
    {
     "name": "stdout",
     "output_type": "stream",
     "text": [
      "Starting experimental run with id: 24. \n"
     ]
    },
    {
     "name": "stdout",
     "output_type": "stream",
     "text": [
      "Starting experimental run with id: 25. \n"
     ]
    },
    {
     "name": "stdout",
     "output_type": "stream",
     "text": [
      "Starting experimental run with id: 26. \n"
     ]
    },
    {
     "name": "stdout",
     "output_type": "stream",
     "text": [
      "Starting experimental run with id: 27. \n"
     ]
    },
    {
     "name": "stdout",
     "output_type": "stream",
     "text": [
      "Starting experimental run with id: 28. \n"
     ]
    }
   ],
   "source": [
    "sizes = [1,500,1000,2000,3000,4000,5000]\n",
    "nreps = 100\n",
    "t_numeric = []\n",
    "t_numeric_add = []\n",
    "t_numeric_run_ids = []\n",
    "t_array = []\n",
    "t_array_add = []\n",
    "t_array_run_ids = []\n",
    "for size in sizes:\n",
    "    tn, tna, run_id_n =  insert_data('numeric', size, nreps=nreps)\n",
    "    t_numeric.append(tn)\n",
    "    t_numeric_add.append(tna)\n",
    "    t_numeric_run_ids.append(run_id_n)\n",
    "\n",
    "    ta, taa, run_id_a =  insert_data('array', size, nreps=nreps)\n",
    "    t_array.append(ta)\n",
    "    t_array_add.append(taa)\n",
    "    t_array_run_ids.append(run_id_a)"
   ]
  },
  {
   "cell_type": "code",
   "execution_count": 8,
   "metadata": {
    "execution": {
     "iopub.execute_input": "2020-10-05T07:40:14.292283Z",
     "iopub.status.busy": "2020-10-05T07:40:14.275291Z",
     "iopub.status.idle": "2020-10-05T07:40:14.522332Z",
     "shell.execute_reply": "2020-10-05T07:40:14.522823Z"
    },
    "scrolled": true
   },
   "outputs": [
    {
     "data": {
      "image/png": "[encoded data removed]",
      "text/plain": [
       "<Figure size 432x288 with 1 Axes>"
      ]
     },
     "metadata": {
      "needs_background": "light"
     },
     "output_type": "display_data"
    }
   ],
   "source": [
    "fig, ax = plt.subplots(1,1)\n",
    "ax.plot(sizes, t_numeric, 'o-', label='Inserting row-by-row')\n",
    "ax.plot(sizes, t_numeric_add, 'o-', label='Inserting row-by-row: add_result only')\n",
    "ax.plot(sizes, t_array, 'd-', label='Inserting as binary blob')\n",
    "ax.plot(sizes, t_array_add, 'd-', label='Inserting as binary blob: add_result only')\n",
    "ax.legend()\n",
    "ax.set_xlabel('Array length')\n",
    "ax.set_ylabel('Time (s)')\n",
    "fig.tight_layout()"
   ]
  },
  {
   "cell_type": "markdown",
   "metadata": {},
   "source": [
    "However, as we increase the length of the experiment, as seen here by repeating the insertion 100 times, we see a big difference between inserting values of the data row-by-row and inserting it as a binary blob."
   ]
  },
  {
   "cell_type": "markdown",
   "metadata": {},
   "source": [
    "## Loading the data "
   ]
  },
  {
   "cell_type": "code",
   "execution_count": 9,
   "metadata": {
    "execution": {
     "iopub.execute_input": "2020-10-05T07:40:14.527730Z",
     "iopub.status.busy": "2020-10-05T07:40:14.527142Z",
     "iopub.status.idle": "2020-10-05T07:40:14.531786Z",
     "shell.execute_reply": "2020-10-05T07:40:14.531153Z"
    }
   },
   "outputs": [],
   "source": [
    "from qcodes.dataset.data_set import load_by_id\n",
    "from qcodes.dataset.data_export import get_data_by_id"
   ]
  },
  {
   "cell_type": "markdown",
   "metadata": {},
   "source": [
    "As usual you can load the data by using the ``load_by_id`` function but you will notice that the different storage methods\n",
    "are reflected in shape of the data as it is retrieved. "
   ]
  },
  {
   "cell_type": "code",
   "execution_count": 10,
   "metadata": {
    "execution": {
     "iopub.execute_input": "2020-10-05T07:40:14.536045Z",
     "iopub.status.busy": "2020-10-05T07:40:14.535466Z",
     "iopub.status.idle": "2020-10-05T07:40:14.539531Z",
     "shell.execute_reply": "2020-10-05T07:40:14.539021Z"
    }
   },
   "outputs": [],
   "source": [
    "run_id_n = t_numeric_run_ids[0]\n",
    "run_id_a = t_array_run_ids[0]"
   ]
  },
  {
   "cell_type": "code",
   "execution_count": 11,
   "metadata": {
    "execution": {
     "iopub.execute_input": "2020-10-05T07:40:14.543519Z",
     "iopub.status.busy": "2020-10-05T07:40:14.542935Z",
     "iopub.status.idle": "2020-10-05T07:40:14.556649Z",
     "shell.execute_reply": "2020-10-05T07:40:14.556107Z"
    },
    "scrolled": true
   },
   "outputs": [
    {
     "data": {
      "text/plain": [
       "{'x1': {'x1': array([0.27938426, 0.27938426, 0.1210375 , 0.1210375 , 0.26193427,\n",
       "         0.26193427, 0.08172882, 0.08172882, 0.45403916, 0.45403916,\n",
       "         0.64916576, 0.64916576, 0.88938771, 0.88938771, 0.37927868,\n",
       "         0.37927868, 0.5844042 , 0.5844042 , 0.25895613, 0.25895613,\n",
       "         0.19051103, 0.19051103, 0.06080449, 0.06080449, 0.49783739,\n",
       "         0.49783739, 0.61004493, 0.61004493, 0.1888854 , 0.1888854 ,\n",
       "         0.58174512, 0.58174512, 0.32401098, 0.32401098, 0.93561566,\n",
       "         0.93561566, 0.68620311, 0.68620311, 0.33573619, 0.33573619,\n",
       "         0.24482815, 0.24482815, 0.6178739 , 0.6178739 , 0.96014877,\n",
       "         0.96014877, 0.30132402, 0.30132402, 0.76878333, 0.76878333,\n",
       "         0.80935506, 0.80935506, 0.86029993, 0.86029993, 0.75195416,\n",
       "         0.75195416, 0.87546013, 0.87546013, 0.12923525, 0.12923525,\n",
       "         0.77291429, 0.77291429, 0.07873524, 0.07873524, 0.68064374,\n",
       "         0.68064374, 0.60118831, 0.60118831, 0.11804991, 0.11804991,\n",
       "         0.58606205, 0.58606205, 0.73279872, 0.73279872, 0.41524025,\n",
       "         0.41524025, 0.97542071, 0.97542071, 0.1169542 , 0.1169542 ,\n",
       "         0.54621448, 0.54621448, 0.08636711, 0.08636711, 0.7426602 ,\n",
       "         0.7426602 , 0.46758467, 0.46758467, 0.21055833, 0.21055833,\n",
       "         0.41007521, 0.41007521, 0.95799914, 0.95799914, 0.62939897,\n",
       "         0.62939897, 0.35977705, 0.35977705, 0.74083498, 0.74083498,\n",
       "         0.14865705, 0.14865705, 0.39875352, 0.39875352, 0.14615846,\n",
       "         0.14615846, 0.95638674, 0.95638674, 0.84864069, 0.84864069,\n",
       "         0.27132412, 0.27132412, 0.88929354, 0.88929354, 0.43696316,\n",
       "         0.43696316, 0.6598994 , 0.6598994 , 0.97258084, 0.97258084,\n",
       "         0.28552529, 0.28552529, 0.92750109, 0.92750109, 0.60426762,\n",
       "         0.60426762, 0.85582364, 0.85582364, 0.4231941 , 0.4231941 ,\n",
       "         0.27901842, 0.27901842, 0.95246665, 0.95246665, 0.36483672,\n",
       "         0.36483672, 0.48574128, 0.48574128, 0.81289104, 0.81289104,\n",
       "         0.39929529, 0.39929529, 0.08447665, 0.08447665, 0.52083076,\n",
       "         0.52083076, 0.66398178, 0.66398178, 0.00889066, 0.00889066,\n",
       "         0.41479135, 0.41479135, 0.47120478, 0.47120478, 0.88454656,\n",
       "         0.88454656, 0.06632789, 0.06632789, 0.88073531, 0.88073531,\n",
       "         0.08553375, 0.08553375, 0.34357978, 0.34357978, 0.247196  ,\n",
       "         0.247196  , 0.19927546, 0.19927546, 0.57061578, 0.57061578,\n",
       "         0.93047816, 0.93047816, 0.83525999, 0.83525999, 0.38534528,\n",
       "         0.38534528, 0.65518348, 0.65518348, 0.4754272 , 0.4754272 ,\n",
       "         0.06706716, 0.06706716, 0.15416643, 0.15416643, 0.11734185,\n",
       "         0.11734185, 0.71895957, 0.71895957, 0.9228623 , 0.9228623 ,\n",
       "         0.47567174, 0.47567174, 0.86891845, 0.86891845, 0.92310915,\n",
       "         0.92310915, 0.21033001, 0.21033001, 0.31164844, 0.31164844])}}"
      ]
     },
     "execution_count": 1,
     "metadata": {},
     "output_type": "execute_result"
    }
   ],
   "source": [
    "ds = load_by_id(run_id_n)\n",
    "ds.get_parameter_data('x1')"
   ]
  },
  {
   "cell_type": "markdown",
   "metadata": {},
   "source": [
    "And a dataset stored as binary arrays"
   ]
  },
  {
   "cell_type": "code",
   "execution_count": 12,
   "metadata": {
    "execution": {
     "iopub.execute_input": "2020-10-05T07:40:14.560678Z",
     "iopub.status.busy": "2020-10-05T07:40:14.559955Z",
     "iopub.status.idle": "2020-10-05T07:40:14.629820Z",
     "shell.execute_reply": "2020-10-05T07:40:14.628762Z"
    },
    "scrolled": true
   },
   "outputs": [
    {
     "data": {
      "text/plain": [
       "{'x1': {'x1': array([[0.63323851],\n",
       "         [0.63323851],\n",
       "         [0.56885257],\n",
       "         [0.56885257],\n",
       "         [0.4399469 ],\n",
       "         [0.4399469 ],\n",
       "         [0.94499045],\n",
       "         [0.94499045],\n",
       "         [0.56928717],\n",
       "         [0.56928717],\n",
       "         [0.62358036],\n",
       "         [0.62358036],\n",
       "         [0.71915266],\n",
       "         [0.71915266],\n",
       "         [0.22808961],\n",
       "         [0.22808961],\n",
       "         [0.25620693],\n",
       "         [0.25620693],\n",
       "         [0.06498499],\n",
       "         [0.06498499],\n",
       "         [0.91293738],\n",
       "         [0.91293738],\n",
       "         [0.39768882],\n",
       "         [0.39768882],\n",
       "         [0.45160192],\n",
       "         [0.45160192],\n",
       "         [0.57508623],\n",
       "         [0.57508623],\n",
       "         [0.31906008],\n",
       "         [0.31906008],\n",
       "         [0.65268945],\n",
       "         [0.65268945],\n",
       "         [0.85056158],\n",
       "         [0.85056158],\n",
       "         [0.39931385],\n",
       "         [0.39931385],\n",
       "         [0.14002982],\n",
       "         [0.14002982],\n",
       "         [0.96717722],\n",
       "         [0.96717722],\n",
       "         [0.10694393],\n",
       "         [0.10694393],\n",
       "         [0.97498559],\n",
       "         [0.97498559],\n",
       "         [0.41059809],\n",
       "         [0.41059809],\n",
       "         [0.9228647 ],\n",
       "         [0.9228647 ],\n",
       "         [0.02766836],\n",
       "         [0.02766836],\n",
       "         [0.48645762],\n",
       "         [0.48645762],\n",
       "         [0.85662815],\n",
       "         [0.85662815],\n",
       "         [0.11177695],\n",
       "         [0.11177695],\n",
       "         [0.98620347],\n",
       "         [0.98620347],\n",
       "         [0.05484882],\n",
       "         [0.05484882],\n",
       "         [0.6834813 ],\n",
       "         [0.6834813 ],\n",
       "         [0.56344238],\n",
       "         [0.56344238],\n",
       "         [0.59500611],\n",
       "         [0.59500611],\n",
       "         [0.97224198],\n",
       "         [0.97224198],\n",
       "         [0.8549661 ],\n",
       "         [0.8549661 ],\n",
       "         [0.73046761],\n",
       "         [0.73046761],\n",
       "         [0.80822066],\n",
       "         [0.80822066],\n",
       "         [0.32390005],\n",
       "         [0.32390005],\n",
       "         [0.07529128],\n",
       "         [0.07529128],\n",
       "         [0.038019  ],\n",
       "         [0.038019  ],\n",
       "         [0.27515405],\n",
       "         [0.27515405],\n",
       "         [0.42062258],\n",
       "         [0.42062258],\n",
       "         [0.51857292],\n",
       "         [0.51857292],\n",
       "         [0.70730423],\n",
       "         [0.70730423],\n",
       "         [0.39140437],\n",
       "         [0.39140437],\n",
       "         [0.2998247 ],\n",
       "         [0.2998247 ],\n",
       "         [0.44141993],\n",
       "         [0.44141993],\n",
       "         [0.67606429],\n",
       "         [0.67606429],\n",
       "         [0.43553684],\n",
       "         [0.43553684],\n",
       "         [0.41261874],\n",
       "         [0.41261874],\n",
       "         [0.66537029],\n",
       "         [0.66537029],\n",
       "         [0.29427538],\n",
       "         [0.29427538],\n",
       "         [0.64469319],\n",
       "         [0.64469319],\n",
       "         [0.95509409],\n",
       "         [0.95509409],\n",
       "         [0.93726131],\n",
       "         [0.93726131],\n",
       "         [0.83979282],\n",
       "         [0.83979282],\n",
       "         [0.46706078],\n",
       "         [0.46706078],\n",
       "         [0.56601948],\n",
       "         [0.56601948],\n",
       "         [0.96456703],\n",
       "         [0.96456703],\n",
       "         [0.00754557],\n",
       "         [0.00754557],\n",
       "         [0.53288889],\n",
       "         [0.53288889],\n",
       "         [0.6647004 ],\n",
       "         [0.6647004 ],\n",
       "         [0.80840329],\n",
       "         [0.80840329],\n",
       "         [0.64210902],\n",
       "         [0.64210902],\n",
       "         [0.32365598],\n",
       "         [0.32365598],\n",
       "         [0.64046489],\n",
       "         [0.64046489],\n",
       "         [0.50846322],\n",
       "         [0.50846322],\n",
       "         [0.23805278],\n",
       "         [0.23805278],\n",
       "         [0.02309224],\n",
       "         [0.02309224],\n",
       "         [0.04206487],\n",
       "         [0.04206487],\n",
       "         [0.29143019],\n",
       "         [0.29143019],\n",
       "         [0.30531259],\n",
       "         [0.30531259],\n",
       "         [0.44451724],\n",
       "         [0.44451724],\n",
       "         [0.82592244],\n",
       "         [0.82592244],\n",
       "         [0.39104136],\n",
       "         [0.39104136],\n",
       "         [0.27347461],\n",
       "         [0.27347461],\n",
       "         [0.07274298],\n",
       "         [0.07274298],\n",
       "         [0.01564159],\n",
       "         [0.01564159],\n",
       "         [0.9363262 ],\n",
       "         [0.9363262 ],\n",
       "         [0.53896844],\n",
       "         [0.53896844],\n",
       "         [0.96478757],\n",
       "         [0.96478757],\n",
       "         [0.1724902 ],\n",
       "         [0.1724902 ],\n",
       "         [0.59753491],\n",
       "         [0.59753491],\n",
       "         [0.84226529],\n",
       "         [0.84226529],\n",
       "         [0.61066098],\n",
       "         [0.61066098],\n",
       "         [0.80920002],\n",
       "         [0.80920002],\n",
       "         [0.3536256 ],\n",
       "         [0.3536256 ],\n",
       "         [0.90283777],\n",
       "         [0.90283777],\n",
       "         [0.84838486],\n",
       "         [0.84838486],\n",
       "         [0.44130584],\n",
       "         [0.44130584],\n",
       "         [0.02979603],\n",
       "         [0.02979603],\n",
       "         [0.38045559],\n",
       "         [0.38045559],\n",
       "         [0.04873359],\n",
       "         [0.04873359],\n",
       "         [0.63811627],\n",
       "         [0.63811627],\n",
       "         [0.90373892],\n",
       "         [0.90373892],\n",
       "         [0.73352353],\n",
       "         [0.73352353],\n",
       "         [0.56218415],\n",
       "         [0.56218415],\n",
       "         [0.86156219],\n",
       "         [0.86156219],\n",
       "         [0.69917342],\n",
       "         [0.69917342],\n",
       "         [0.38485652],\n",
       "         [0.38485652]])}}"
      ]
     },
     "execution_count": 1,
     "metadata": {},
     "output_type": "execute_result"
    }
   ],
   "source": [
    "ds = load_by_id(run_id_a)\n",
    "ds.get_parameter_data('x1')"
   ]
  },
  {
   "cell_type": "code",
   "execution_count": null,
   "metadata": {},
   "outputs": [],
   "source": []
  }
 ],
 "metadata": {
  "kernelspec": {
   "display_name": "Python 3",
   "language": "python",
   "name": "python3"
  },
  "language_info": {
   "codemirror_mode": {
    "name": "ipython",
    "version": 3
   },
   "file_extension": ".py",
   "mimetype": "text/x-python",
   "name": "python",
   "nbconvert_exporter": "python",
   "pygments_lexer": "ipython3",
   "version": "3.7.7"
  },
  "nbsphinx": {
   "timeout": 600
  },
  "toc": {
   "base_numbering": 1,
   "nav_menu": {},
   "number_sections": true,
   "sideBar": true,
   "skip_h1_title": false,
   "title_cell": "Table of Contents",
   "title_sidebar": "Contents",
   "toc_cell": false,
   "toc_position": {},
   "toc_section_display": true,
   "toc_window_display": false
  },
  "varInspector": {
   "cols": {
    "lenName": 16,
    "lenType": 16,
    "lenVar": 40
   },
   "kernels_config": {
    "python": {
     "delete_cmd_postfix": "",
     "delete_cmd_prefix": "del ",
     "library": "var_list.py",
     "varRefreshCmd": "print(var_dic_list())"
    },
    "r": {
     "delete_cmd_postfix": ") ",
     "delete_cmd_prefix": "rm(",
     "library": "var_list.r",
     "varRefreshCmd": "cat(var_dic_list()) "
    }
   },
   "types_to_exclude": [
    "module",
    "function",
    "builtin_function_or_method",
    "instance",
    "_Feature"
   ],
   "window_display": false
  }
 },
 "nbformat": 4,
 "nbformat_minor": 2
}
