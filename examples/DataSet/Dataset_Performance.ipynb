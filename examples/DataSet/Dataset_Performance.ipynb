{
 "cells": [
  {
   "cell_type": "markdown",
   "metadata": {},
   "source": [
    "# DataSet Performance\n",
    "\n",
    "This notebook shows the trade-off between inserting data into a database row-by-row and as binary blobs. Inserting the data row-by-row means that we have direct access to all the data and may perform queries directly on the values of the data. On the other hand, as we shall see, this is much slower than inserting the data directly as binary blobs."
   ]
  },
  {
   "cell_type": "markdown",
   "metadata": {},
   "source": [
    "First, we choose a new location for the database to ensure that we don't add a bunch of benchmarking data to the default one."
   ]
  },
  {
   "cell_type": "code",
   "execution_count": 1,
   "metadata": {
    "execution": {
     "iopub.execute_input": "2020-09-18T13:42:14.754486Z",
     "iopub.status.busy": "2020-09-18T13:42:14.753894Z",
     "iopub.status.idle": "2020-09-18T13:42:15.795626Z",
     "shell.execute_reply": "2020-09-18T13:42:15.794763Z"
    }
   },
   "outputs": [
    {
     "name": "stdout",
     "output_type": "stream",
     "text": [
      "Logging hadn't been started.\n",
      "Activating auto-logging. Current session state plus future input saved.\n",
      "Filename       : /home/vsts/.qcodes/logs/command_history.log\n",
      "Mode           : append\n",
      "Output logging : True\n",
      "Raw input log  : False\n",
      "Timestamping   : True\n",
      "State          : active\n"
     ]
    },
    {
     "name": "stdout",
     "output_type": "stream",
     "text": [
      "Qcodes Logfile : /home/vsts/.qcodes/logs/200918-18816-qcodes.log\n"
     ]
    }
   ],
   "source": [
    "import os\n",
    "cwd = os.getcwd()\n",
    "import qcodes as qc\n",
    "qc.config[\"core\"][\"db_location\"] = os.path.join(cwd, 'testing.db')\n"
   ]
  },
  {
   "cell_type": "code",
   "execution_count": 2,
   "metadata": {
    "execution": {
     "iopub.execute_input": "2020-09-18T13:42:15.802645Z",
     "iopub.status.busy": "2020-09-18T13:42:15.801084Z",
     "iopub.status.idle": "2020-09-18T13:42:15.973390Z",
     "shell.execute_reply": "2020-09-18T13:42:15.972491Z"
    }
   },
   "outputs": [],
   "source": [
    "%matplotlib inline\n",
    "import time\n",
    "import matplotlib.pyplot as plt\n",
    "import numpy as np\n",
    "\n",
    "import qcodes as qc\n",
    "from qcodes.instrument.parameter import ManualParameter\n",
    "from qcodes.dataset.experiment_container import (Experiment,\n",
    "                                                 load_last_experiment,\n",
    "                                                 new_experiment)\n",
    "from qcodes.dataset.sqlite.database import initialise_database\n",
    "from qcodes import load_or_create_experiment\n",
    "from qcodes.dataset.measurements import Measurement"
   ]
  },
  {
   "cell_type": "code",
   "execution_count": 3,
   "metadata": {
    "execution": {
     "iopub.execute_input": "2020-09-18T13:42:15.979412Z",
     "iopub.status.busy": "2020-09-18T13:42:15.976658Z",
     "iopub.status.idle": "2020-09-18T13:42:16.071873Z",
     "shell.execute_reply": "2020-09-18T13:42:16.070817Z"
    }
   },
   "outputs": [
    {
     "name": "stdout",
     "output_type": "stream",
     "text": [
      "\r",
      "0it [00:00, ?it/s]"
     ]
    },
    {
     "name": "stdout",
     "output_type": "stream",
     "text": [
      "\r",
      "Upgrading database; v0 -> v1: : 0it [00:00, ?it/s]"
     ]
    },
    {
     "name": "stdout",
     "output_type": "stream",
     "text": [
      "\r",
      "Upgrading database; v0 -> v1: : 0it [00:00, ?it/s]"
     ]
    },
    {
     "name": "stdout",
     "output_type": "stream",
     "text": [
      "\n",
      "\r",
      "  0%|          | 0/1 [00:00<?, ?it/s]"
     ]
    },
    {
     "name": "stdout",
     "output_type": "stream",
     "text": [
      "\r",
      "Upgrading database; v1 -> v2:   0%|          | 0/1 [00:00<?, ?it/s]"
     ]
    },
    {
     "name": "stdout",
     "output_type": "stream",
     "text": [
      "\r",
      "Upgrading database; v1 -> v2: 100%|██████████| 1/1 [00:00<00:00, 406.35it/s]"
     ]
    },
    {
     "name": "stdout",
     "output_type": "stream",
     "text": [
      "\n",
      "\r",
      "0it [00:00, ?it/s]"
     ]
    },
    {
     "name": "stdout",
     "output_type": "stream",
     "text": [
      "\r",
      "Upgrading database; v2 -> v3: : 0it [00:00, ?it/s]"
     ]
    },
    {
     "name": "stdout",
     "output_type": "stream",
     "text": [
      "\r",
      "Upgrading database; v2 -> v3: : 0it [00:00, ?it/s]"
     ]
    },
    {
     "name": "stdout",
     "output_type": "stream",
     "text": [
      "\n",
      "\r",
      "0it [00:00, ?it/s]"
     ]
    },
    {
     "name": "stdout",
     "output_type": "stream",
     "text": [
      "\r",
      "Upgrading database; v3 -> v4: : 0it [00:00, ?it/s]"
     ]
    },
    {
     "name": "stdout",
     "output_type": "stream",
     "text": [
      "\r",
      "Upgrading database; v3 -> v4: : 0it [00:00, ?it/s]"
     ]
    },
    {
     "name": "stdout",
     "output_type": "stream",
     "text": [
      "\n",
      "\r",
      "  0%|          | 0/1 [00:00<?, ?it/s]"
     ]
    },
    {
     "name": "stdout",
     "output_type": "stream",
     "text": [
      "\r",
      "Upgrading database; v4 -> v5:   0%|          | 0/1 [00:00<?, ?it/s]"
     ]
    },
    {
     "name": "stdout",
     "output_type": "stream",
     "text": [
      "\r",
      "Upgrading database; v4 -> v5: 100%|██████████| 1/1 [00:00<00:00, 660.31it/s]"
     ]
    },
    {
     "name": "stdout",
     "output_type": "stream",
     "text": [
      "\n",
      "\r",
      "0it [00:00, ?it/s]"
     ]
    },
    {
     "name": "stdout",
     "output_type": "stream",
     "text": [
      "\r",
      "Upgrading database; v5 -> v6: : 0it [00:00, ?it/s]"
     ]
    },
    {
     "name": "stdout",
     "output_type": "stream",
     "text": [
      "\r",
      "Upgrading database; v5 -> v6: : 0it [00:00, ?it/s]"
     ]
    },
    {
     "name": "stdout",
     "output_type": "stream",
     "text": [
      "\n",
      "\r",
      "  0%|          | 0/1 [00:00<?, ?it/s]"
     ]
    },
    {
     "name": "stdout",
     "output_type": "stream",
     "text": [
      "\r",
      "Upgrading database; v6 -> v7:   0%|          | 0/1 [00:00<?, ?it/s]"
     ]
    },
    {
     "name": "stdout",
     "output_type": "stream",
     "text": [
      "\r",
      "Upgrading database; v6 -> v7: 100%|██████████| 1/1 [00:00<00:00, 96.92it/s]"
     ]
    },
    {
     "name": "stdout",
     "output_type": "stream",
     "text": [
      "\n",
      "\r",
      "  0%|          | 0/1 [00:00<?, ?it/s]"
     ]
    },
    {
     "name": "stdout",
     "output_type": "stream",
     "text": [
      "\r",
      "Upgrading database; v7 -> v8:   0%|          | 0/1 [00:00<?, ?it/s]"
     ]
    },
    {
     "name": "stdout",
     "output_type": "stream",
     "text": [
      "\r",
      "Upgrading database; v7 -> v8: 100%|██████████| 1/1 [00:00<00:00, 238.12it/s]"
     ]
    },
    {
     "name": "stdout",
     "output_type": "stream",
     "text": [
      "\n",
      "\r",
      "  0%|          | 0/1 [00:00<?, ?it/s]"
     ]
    },
    {
     "name": "stdout",
     "output_type": "stream",
     "text": [
      "\r",
      "Upgrading database; v8 -> v9:   0%|          | 0/1 [00:00<?, ?it/s]"
     ]
    },
    {
     "name": "stdout",
     "output_type": "stream",
     "text": [
      "\r",
      "Upgrading database; v8 -> v9: 100%|██████████| 1/1 [00:00<00:00, 1021.75it/s]"
     ]
    },
    {
     "name": "stdout",
     "output_type": "stream",
     "text": [
      "\n"
     ]
    }
   ],
   "source": [
    "initialise_database()\n",
    "exp = load_or_create_experiment(experiment_name='tutorial_exp', sample_name=\"no sample\")"
   ]
  },
  {
   "cell_type": "markdown",
   "metadata": {},
   "source": [
    "Here, we define a simple function to benchmark the time it takes to insert n points with either numeric or array data type.\n",
    "We will compare both the time used to call ``add_result`` and the time used for the full measurement."
   ]
  },
  {
   "cell_type": "code",
   "execution_count": 4,
   "metadata": {
    "execution": {
     "iopub.execute_input": "2020-09-18T13:42:16.081509Z",
     "iopub.status.busy": "2020-09-18T13:42:16.080895Z",
     "iopub.status.idle": "2020-09-18T13:42:16.085317Z",
     "shell.execute_reply": "2020-09-18T13:42:16.085920Z"
    }
   },
   "outputs": [],
   "source": [
    "def insert_data(paramtype, npoints, nreps=1):\n",
    "\n",
    "    meas = Measurement(exp=exp)\n",
    "\n",
    "    x1 = ManualParameter('x1')\n",
    "    x2 = ManualParameter('x2')\n",
    "    x3 = ManualParameter('x3')\n",
    "    y1 = ManualParameter('y1')\n",
    "    y2 = ManualParameter('y2')\n",
    "\n",
    "    meas.register_parameter(x1, paramtype=paramtype)\n",
    "    meas.register_parameter(x2, paramtype=paramtype)\n",
    "    meas.register_parameter(x3, paramtype=paramtype)\n",
    "    meas.register_parameter(y1, setpoints=[x1, x2, x3],\n",
    "                            paramtype=paramtype)\n",
    "    meas.register_parameter(y2, setpoints=[x1, x2, x3],\n",
    "                            paramtype=paramtype)\n",
    "    start = time.perf_counter()\n",
    "    with meas.run() as datasaver:\n",
    "        start_adding = time.perf_counter()\n",
    "        for i in range(nreps):\n",
    "            datasaver.add_result((x1, np.random.rand(npoints)),\n",
    "                                 (x2, np.random.rand(npoints)),\n",
    "                                 (x3, np.random.rand(npoints)),\n",
    "                                 (y1, np.random.rand(npoints)),\n",
    "                                 (y2, np.random.rand(npoints)))\n",
    "        stop_adding = time.perf_counter()\n",
    "        run_id = datasaver.run_id\n",
    "    stop = time.perf_counter()\n",
    "    tot_time = stop - start\n",
    "    add_time = stop_adding - start_adding\n",
    "    return tot_time, add_time, run_id"
   ]
  },
  {
   "cell_type": "markdown",
   "metadata": {},
   "source": [
    "## Comparison between numeric/array data and binary blob"
   ]
  },
  {
   "cell_type": "markdown",
   "metadata": {},
   "source": [
    "### Case1: Short experiment time"
   ]
  },
  {
   "cell_type": "code",
   "execution_count": 5,
   "metadata": {
    "execution": {
     "iopub.execute_input": "2020-09-18T13:42:16.094941Z",
     "iopub.status.busy": "2020-09-18T13:42:16.094004Z",
     "iopub.status.idle": "2020-09-18T13:42:16.993202Z",
     "shell.execute_reply": "2020-09-18T13:42:16.993706Z"
    }
   },
   "outputs": [
    {
     "name": "stdout",
     "output_type": "stream",
     "text": [
      "Starting experimental run with id: 1. \n",
      "Starting experimental run with id: 2. \n",
      "Starting experimental run with id: 3. \n"
     ]
    },
    {
     "name": "stdout",
     "output_type": "stream",
     "text": [
      "Starting experimental run with id: 4. \n"
     ]
    },
    {
     "name": "stdout",
     "output_type": "stream",
     "text": [
      "Starting experimental run with id: 5. \n"
     ]
    },
    {
     "name": "stdout",
     "output_type": "stream",
     "text": [
      "Starting experimental run with id: 6. \n",
      "Starting experimental run with id: 7. \n"
     ]
    },
    {
     "name": "stdout",
     "output_type": "stream",
     "text": [
      "Starting experimental run with id: 8. \n"
     ]
    },
    {
     "name": "stdout",
     "output_type": "stream",
     "text": [
      "Starting experimental run with id: 9. \n"
     ]
    },
    {
     "name": "stdout",
     "output_type": "stream",
     "text": [
      "Starting experimental run with id: 10. \n",
      "Starting experimental run with id: 11. \n"
     ]
    },
    {
     "name": "stdout",
     "output_type": "stream",
     "text": [
      "Starting experimental run with id: 12. \n",
      "Starting experimental run with id: 13. \n"
     ]
    },
    {
     "name": "stdout",
     "output_type": "stream",
     "text": [
      "Starting experimental run with id: 14. \n"
     ]
    }
   ],
   "source": [
    "sizes = [1,500,1000,2000,3000,4000,5000]\n",
    "t_numeric = []\n",
    "t_numeric_add = []\n",
    "t_array = []\n",
    "t_array_add = []\n",
    "for size in sizes:\n",
    "    tn, tna, run_id_n =  insert_data('numeric', size)\n",
    "    t_numeric.append(tn)\n",
    "    t_numeric_add.append(tna)\n",
    "\n",
    "    ta, taa, run_id_a =  insert_data('array', size)\n",
    "    t_array.append(ta)\n",
    "    t_array_add.append(taa)"
   ]
  },
  {
   "cell_type": "code",
   "execution_count": 6,
   "metadata": {
    "execution": {
     "iopub.execute_input": "2020-09-18T13:42:16.999942Z",
     "iopub.status.busy": "2020-09-18T13:42:16.999140Z",
     "iopub.status.idle": "2020-09-18T13:42:17.221717Z",
     "shell.execute_reply": "2020-09-18T13:42:17.222395Z"
    }
   },
   "outputs": [
    {
     "data": {
      "image/png": "[encoded data removed]",
      "text/plain": [
       "<Figure size 432x288 with 1 Axes>"
      ]
     },
     "metadata": {
      "needs_background": "light"
     },
     "output_type": "display_data"
    }
   ],
   "source": [
    "fig, ax = plt.subplots(1,1)\n",
    "ax.plot(sizes, t_numeric, 'o-', label='Inserting row-by-row')\n",
    "ax.plot(sizes, t_numeric_add, 'o-', label='Inserting row-by-row: add_result only')\n",
    "ax.plot(sizes, t_array, 'd-', label='Inserting as binary blob')\n",
    "ax.plot(sizes, t_array_add, 'd-', label='Inserting as binary blob: add_result only')\n",
    "ax.legend()\n",
    "ax.set_xlabel('Array length')\n",
    "ax.set_ylabel('Time (s)')\n",
    "fig.tight_layout()"
   ]
  },
  {
   "cell_type": "markdown",
   "metadata": {},
   "source": [
    "As shown in the latter figure, the time to setup and and close the experiment is approximately 0.4 sec. In case of small array sizes, the difference between inserting values of data as arrays and inserting them row-by-row is relatively unimportant. At larger array sizes, i.e. above 10000 points, the cost of writing data as individual datapoints starts to become important.\n"
   ]
  },
  {
   "cell_type": "markdown",
   "metadata": {},
   "source": [
    "### Case2: Long experiment time "
   ]
  },
  {
   "cell_type": "code",
   "execution_count": 7,
   "metadata": {
    "execution": {
     "iopub.execute_input": "2020-09-18T13:42:17.229698Z",
     "iopub.status.busy": "2020-09-18T13:42:17.228671Z",
     "iopub.status.idle": "2020-09-18T13:43:19.048952Z",
     "shell.execute_reply": "2020-09-18T13:43:19.049453Z"
    }
   },
   "outputs": [
    {
     "name": "stdout",
     "output_type": "stream",
     "text": [
      "Starting experimental run with id: 15. \n",
      "Starting experimental run with id: 16. \n",
      "Starting experimental run with id: 17. \n"
     ]
    },
    {
     "name": "stdout",
     "output_type": "stream",
     "text": [
      "Starting experimental run with id: 18. \n",
      "Starting experimental run with id: 19. \n"
     ]
    },
    {
     "name": "stdout",
     "output_type": "stream",
     "text": [
      "Starting experimental run with id: 20. \n"
     ]
    },
    {
     "name": "stdout",
     "output_type": "stream",
     "text": [
      "Starting experimental run with id: 21. \n"
     ]
    },
    {
     "name": "stdout",
     "output_type": "stream",
     "text": [
      "Starting experimental run with id: 22. \n"
     ]
    },
    {
     "name": "stdout",
     "output_type": "stream",
     "text": [
      "Starting experimental run with id: 23. \n"
     ]
    },
    {
     "name": "stdout",
     "output_type": "stream",
     "text": [
      "Starting experimental run with id: 24. \n"
     ]
    },
    {
     "name": "stdout",
     "output_type": "stream",
     "text": [
      "Starting experimental run with id: 25. \n"
     ]
    },
    {
     "name": "stdout",
     "output_type": "stream",
     "text": [
      "Starting experimental run with id: 26. \n"
     ]
    },
    {
     "name": "stdout",
     "output_type": "stream",
     "text": [
      "Starting experimental run with id: 27. \n"
     ]
    },
    {
     "name": "stdout",
     "output_type": "stream",
     "text": [
      "Starting experimental run with id: 28. \n"
     ]
    }
   ],
   "source": [
    "sizes = [1,500,1000,2000,3000,4000,5000]\n",
    "nreps = 100\n",
    "t_numeric = []\n",
    "t_numeric_add = []\n",
    "t_numeric_run_ids = []\n",
    "t_array = []\n",
    "t_array_add = []\n",
    "t_array_run_ids = []\n",
    "for size in sizes:\n",
    "    tn, tna, run_id_n =  insert_data('numeric', size, nreps=nreps)\n",
    "    t_numeric.append(tn)\n",
    "    t_numeric_add.append(tna)\n",
    "    t_numeric_run_ids.append(run_id_n)\n",
    "\n",
    "    ta, taa, run_id_a =  insert_data('array', size, nreps=nreps)\n",
    "    t_array.append(ta)\n",
    "    t_array_add.append(taa)\n",
    "    t_array_run_ids.append(run_id_a)"
   ]
  },
  {
   "cell_type": "code",
   "execution_count": 8,
   "metadata": {
    "execution": {
     "iopub.execute_input": "2020-09-18T13:43:19.065800Z",
     "iopub.status.busy": "2020-09-18T13:43:19.061629Z",
     "iopub.status.idle": "2020-09-18T13:43:19.281722Z",
     "shell.execute_reply": "2020-09-18T13:43:19.281140Z"
    },
    "scrolled": true
   },
   "outputs": [
    {
     "data": {
      "image/png": "[encoded data removed]",
      "text/plain": [
       "<Figure size 432x288 with 1 Axes>"
      ]
     },
     "metadata": {
      "needs_background": "light"
     },
     "output_type": "display_data"
    }
   ],
   "source": [
    "fig, ax = plt.subplots(1,1)\n",
    "ax.plot(sizes, t_numeric, 'o-', label='Inserting row-by-row')\n",
    "ax.plot(sizes, t_numeric_add, 'o-', label='Inserting row-by-row: add_result only')\n",
    "ax.plot(sizes, t_array, 'd-', label='Inserting as binary blob')\n",
    "ax.plot(sizes, t_array_add, 'd-', label='Inserting as binary blob: add_result only')\n",
    "ax.legend()\n",
    "ax.set_xlabel('Array length')\n",
    "ax.set_ylabel('Time (s)')\n",
    "fig.tight_layout()"
   ]
  },
  {
   "cell_type": "markdown",
   "metadata": {},
   "source": [
    "However, as we increase the length of the experiment, as seen here by repeating the insertion 100 times, we see a big difference between inserting values of the data row-by-row and inserting it as a binary blob."
   ]
  },
  {
   "cell_type": "markdown",
   "metadata": {},
   "source": [
    "## Loading the data "
   ]
  },
  {
   "cell_type": "code",
   "execution_count": 9,
   "metadata": {
    "execution": {
     "iopub.execute_input": "2020-09-18T13:43:19.286276Z",
     "iopub.status.busy": "2020-09-18T13:43:19.285263Z",
     "iopub.status.idle": "2020-09-18T13:43:19.287709Z",
     "shell.execute_reply": "2020-09-18T13:43:19.288252Z"
    }
   },
   "outputs": [],
   "source": [
    "from qcodes.dataset.data_set import load_by_id\n",
    "from qcodes.dataset.data_export import get_data_by_id"
   ]
  },
  {
   "cell_type": "markdown",
   "metadata": {},
   "source": [
    "As usual you can load the data by using the ``load_by_id`` function but you will notice that the different storage methods\n",
    "are reflected in shape of the data as it is retrieved. "
   ]
  },
  {
   "cell_type": "code",
   "execution_count": 10,
   "metadata": {
    "execution": {
     "iopub.execute_input": "2020-09-18T13:43:19.292768Z",
     "iopub.status.busy": "2020-09-18T13:43:19.291765Z",
     "iopub.status.idle": "2020-09-18T13:43:19.293857Z",
     "shell.execute_reply": "2020-09-18T13:43:19.294435Z"
    }
   },
   "outputs": [],
   "source": [
    "run_id_n = t_numeric_run_ids[0]\n",
    "run_id_a = t_array_run_ids[0]"
   ]
  },
  {
   "cell_type": "code",
   "execution_count": 11,
   "metadata": {
    "execution": {
     "iopub.execute_input": "2020-09-18T13:43:19.297835Z",
     "iopub.status.busy": "2020-09-18T13:43:19.297280Z",
     "iopub.status.idle": "2020-09-18T13:43:19.307470Z",
     "shell.execute_reply": "2020-09-18T13:43:19.306970Z"
    },
    "scrolled": true
   },
   "outputs": [
    {
     "data": {
      "text/plain": [
       "{'x1': {'x1': array([0.30251038, 0.30251038, 0.94480428, 0.94480428, 0.85629053,\n",
       "         0.85629053, 0.07624633, 0.07624633, 0.56390359, 0.56390359,\n",
       "         0.25660884, 0.25660884, 0.63651268, 0.63651268, 0.09087101,\n",
       "         0.09087101, 0.14253633, 0.14253633, 0.6666944 , 0.6666944 ,\n",
       "         0.94354246, 0.94354246, 0.84810555, 0.84810555, 0.59678182,\n",
       "         0.59678182, 0.80369963, 0.80369963, 0.56366456, 0.56366456,\n",
       "         0.44003028, 0.44003028, 0.89110691, 0.89110691, 0.09609656,\n",
       "         0.09609656, 0.77392937, 0.77392937, 0.05379504, 0.05379504,\n",
       "         0.77210462, 0.77210462, 0.61223533, 0.61223533, 0.87060148,\n",
       "         0.87060148, 0.86018872, 0.86018872, 0.9804397 , 0.9804397 ,\n",
       "         0.97886867, 0.97886867, 0.16265333, 0.16265333, 0.14942603,\n",
       "         0.14942603, 0.89968975, 0.89968975, 0.92200002, 0.92200002,\n",
       "         0.14352354, 0.14352354, 0.02608914, 0.02608914, 0.33344186,\n",
       "         0.33344186, 0.95931218, 0.95931218, 0.74993168, 0.74993168,\n",
       "         0.39395331, 0.39395331, 0.12383804, 0.12383804, 0.04789043,\n",
       "         0.04789043, 0.57156057, 0.57156057, 0.8976687 , 0.8976687 ,\n",
       "         0.18467545, 0.18467545, 0.98398942, 0.98398942, 0.95659495,\n",
       "         0.95659495, 0.88046944, 0.88046944, 0.49579778, 0.49579778,\n",
       "         0.0136167 , 0.0136167 , 0.80127445, 0.80127445, 0.0541144 ,\n",
       "         0.0541144 , 0.66865072, 0.66865072, 0.22216713, 0.22216713,\n",
       "         0.77468584, 0.77468584, 0.31153917, 0.31153917, 0.1712269 ,\n",
       "         0.1712269 , 0.62219155, 0.62219155, 0.84826437, 0.84826437,\n",
       "         0.57552522, 0.57552522, 0.02466426, 0.02466426, 0.43128989,\n",
       "         0.43128989, 0.83887939, 0.83887939, 0.14947834, 0.14947834,\n",
       "         0.34827911, 0.34827911, 0.19824291, 0.19824291, 0.98744401,\n",
       "         0.98744401, 0.43609678, 0.43609678, 0.85151186, 0.85151186,\n",
       "         0.66827698, 0.66827698, 0.63467084, 0.63467084, 0.684526  ,\n",
       "         0.684526  , 0.7715257 , 0.7715257 , 0.25539637, 0.25539637,\n",
       "         0.61855919, 0.61855919, 0.52347018, 0.52347018, 0.71743856,\n",
       "         0.71743856, 0.80430074, 0.80430074, 0.26022574, 0.26022574,\n",
       "         0.95698413, 0.95698413, 0.78173909, 0.78173909, 0.89428323,\n",
       "         0.89428323, 0.31887751, 0.31887751, 0.16423687, 0.16423687,\n",
       "         0.44818504, 0.44818504, 0.84368926, 0.84368926, 0.93663896,\n",
       "         0.93663896, 0.38517468, 0.38517468, 0.08735907, 0.08735907,\n",
       "         0.55013825, 0.55013825, 0.43034236, 0.43034236, 0.1450094 ,\n",
       "         0.1450094 , 0.40122836, 0.40122836, 0.25599979, 0.25599979,\n",
       "         0.77115708, 0.77115708, 0.52247817, 0.52247817, 0.60102423,\n",
       "         0.60102423, 0.12461435, 0.12461435, 0.4080836 , 0.4080836 ,\n",
       "         0.73221004, 0.73221004, 0.54874339, 0.54874339, 0.66239268,\n",
       "         0.66239268, 0.09516506, 0.09516506, 0.71556697, 0.71556697])}}"
      ]
     },
     "execution_count": 1,
     "metadata": {},
     "output_type": "execute_result"
    }
   ],
   "source": [
    "ds = load_by_id(run_id_n)\n",
    "ds.get_parameter_data('x1')"
   ]
  },
  {
   "cell_type": "markdown",
   "metadata": {},
   "source": [
    "And a dataset stored as binary arrays"
   ]
  },
  {
   "cell_type": "code",
   "execution_count": 12,
   "metadata": {
    "execution": {
     "iopub.execute_input": "2020-09-18T13:43:19.311077Z",
     "iopub.status.busy": "2020-09-18T13:43:19.310475Z",
     "iopub.status.idle": "2020-09-18T13:43:19.375903Z",
     "shell.execute_reply": "2020-09-18T13:43:19.375354Z"
    },
    "scrolled": true
   },
   "outputs": [
    {
     "data": {
      "text/plain": [
       "{'x1': {'x1': array([[0.63309057],\n",
       "         [0.63309057],\n",
       "         [0.06702017],\n",
       "         [0.06702017],\n",
       "         [0.47551145],\n",
       "         [0.47551145],\n",
       "         [0.0180515 ],\n",
       "         [0.0180515 ],\n",
       "         [0.42552916],\n",
       "         [0.42552916],\n",
       "         [0.68526289],\n",
       "         [0.68526289],\n",
       "         [0.23936792],\n",
       "         [0.23936792],\n",
       "         [0.28811366],\n",
       "         [0.28811366],\n",
       "         [0.04809767],\n",
       "         [0.04809767],\n",
       "         [0.77363604],\n",
       "         [0.77363604],\n",
       "         [0.09428469],\n",
       "         [0.09428469],\n",
       "         [0.40951703],\n",
       "         [0.40951703],\n",
       "         [0.04255142],\n",
       "         [0.04255142],\n",
       "         [0.28834964],\n",
       "         [0.28834964],\n",
       "         [0.69360989],\n",
       "         [0.69360989],\n",
       "         [0.77246973],\n",
       "         [0.77246973],\n",
       "         [0.66211384],\n",
       "         [0.66211384],\n",
       "         [0.28708437],\n",
       "         [0.28708437],\n",
       "         [0.80412557],\n",
       "         [0.80412557],\n",
       "         [0.12900906],\n",
       "         [0.12900906],\n",
       "         [0.28130901],\n",
       "         [0.28130901],\n",
       "         [0.297709  ],\n",
       "         [0.297709  ],\n",
       "         [0.9165209 ],\n",
       "         [0.9165209 ],\n",
       "         [0.77025564],\n",
       "         [0.77025564],\n",
       "         [0.69955897],\n",
       "         [0.69955897],\n",
       "         [0.91277998],\n",
       "         [0.91277998],\n",
       "         [0.86005677],\n",
       "         [0.86005677],\n",
       "         [0.84314026],\n",
       "         [0.84314026],\n",
       "         [0.01032028],\n",
       "         [0.01032028],\n",
       "         [0.24944006],\n",
       "         [0.24944006],\n",
       "         [0.28942877],\n",
       "         [0.28942877],\n",
       "         [0.24135578],\n",
       "         [0.24135578],\n",
       "         [0.24084346],\n",
       "         [0.24084346],\n",
       "         [0.47603996],\n",
       "         [0.47603996],\n",
       "         [0.58703965],\n",
       "         [0.58703965],\n",
       "         [0.49508724],\n",
       "         [0.49508724],\n",
       "         [0.60425789],\n",
       "         [0.60425789],\n",
       "         [0.15554998],\n",
       "         [0.15554998],\n",
       "         [0.9757821 ],\n",
       "         [0.9757821 ],\n",
       "         [0.16416602],\n",
       "         [0.16416602],\n",
       "         [0.99071917],\n",
       "         [0.99071917],\n",
       "         [0.62064975],\n",
       "         [0.62064975],\n",
       "         [0.87675707],\n",
       "         [0.87675707],\n",
       "         [0.09460056],\n",
       "         [0.09460056],\n",
       "         [0.60813424],\n",
       "         [0.60813424],\n",
       "         [0.26369495],\n",
       "         [0.26369495],\n",
       "         [0.32660268],\n",
       "         [0.32660268],\n",
       "         [0.10797559],\n",
       "         [0.10797559],\n",
       "         [0.38441968],\n",
       "         [0.38441968],\n",
       "         [0.80957261],\n",
       "         [0.80957261],\n",
       "         [0.51939597],\n",
       "         [0.51939597],\n",
       "         [0.74803964],\n",
       "         [0.74803964],\n",
       "         [0.05374226],\n",
       "         [0.05374226],\n",
       "         [0.25585075],\n",
       "         [0.25585075],\n",
       "         [0.00293173],\n",
       "         [0.00293173],\n",
       "         [0.45334843],\n",
       "         [0.45334843],\n",
       "         [0.10446923],\n",
       "         [0.10446923],\n",
       "         [0.71408787],\n",
       "         [0.71408787],\n",
       "         [0.3705284 ],\n",
       "         [0.3705284 ],\n",
       "         [0.62325247],\n",
       "         [0.62325247],\n",
       "         [0.27607784],\n",
       "         [0.27607784],\n",
       "         [0.57754405],\n",
       "         [0.57754405],\n",
       "         [0.53379889],\n",
       "         [0.53379889],\n",
       "         [0.89794959],\n",
       "         [0.89794959],\n",
       "         [0.23352454],\n",
       "         [0.23352454],\n",
       "         [0.69240386],\n",
       "         [0.69240386],\n",
       "         [0.48503518],\n",
       "         [0.48503518],\n",
       "         [0.89917158],\n",
       "         [0.89917158],\n",
       "         [0.24999689],\n",
       "         [0.24999689],\n",
       "         [0.76261795],\n",
       "         [0.76261795],\n",
       "         [0.85376987],\n",
       "         [0.85376987],\n",
       "         [0.00470979],\n",
       "         [0.00470979],\n",
       "         [0.04480219],\n",
       "         [0.04480219],\n",
       "         [0.11388659],\n",
       "         [0.11388659],\n",
       "         [0.08154777],\n",
       "         [0.08154777],\n",
       "         [0.39842676],\n",
       "         [0.39842676],\n",
       "         [0.16557509],\n",
       "         [0.16557509],\n",
       "         [0.25166418],\n",
       "         [0.25166418],\n",
       "         [0.11215424],\n",
       "         [0.11215424],\n",
       "         [0.86633619],\n",
       "         [0.86633619],\n",
       "         [0.19963718],\n",
       "         [0.19963718],\n",
       "         [0.41978005],\n",
       "         [0.41978005],\n",
       "         [0.03222436],\n",
       "         [0.03222436],\n",
       "         [0.72666332],\n",
       "         [0.72666332],\n",
       "         [0.26364918],\n",
       "         [0.26364918],\n",
       "         [0.1983995 ],\n",
       "         [0.1983995 ],\n",
       "         [0.53100335],\n",
       "         [0.53100335],\n",
       "         [0.12722413],\n",
       "         [0.12722413],\n",
       "         [0.84208611],\n",
       "         [0.84208611],\n",
       "         [0.65328933],\n",
       "         [0.65328933],\n",
       "         [0.38427556],\n",
       "         [0.38427556],\n",
       "         [0.53227425],\n",
       "         [0.53227425],\n",
       "         [0.69229464],\n",
       "         [0.69229464],\n",
       "         [0.49601504],\n",
       "         [0.49601504],\n",
       "         [0.27335616],\n",
       "         [0.27335616],\n",
       "         [0.51791199],\n",
       "         [0.51791199],\n",
       "         [0.48083514],\n",
       "         [0.48083514],\n",
       "         [0.14680646],\n",
       "         [0.14680646],\n",
       "         [0.74425061],\n",
       "         [0.74425061],\n",
       "         [0.26059358],\n",
       "         [0.26059358]])}}"
      ]
     },
     "execution_count": 1,
     "metadata": {},
     "output_type": "execute_result"
    }
   ],
   "source": [
    "ds = load_by_id(run_id_a)\n",
    "ds.get_parameter_data('x1')"
   ]
  },
  {
   "cell_type": "code",
   "execution_count": null,
   "metadata": {},
   "outputs": [],
   "source": []
  }
 ],
 "metadata": {
  "kernelspec": {
   "display_name": "Python 3",
   "language": "python",
   "name": "python3"
  },
  "language_info": {
   "codemirror_mode": {
    "name": "ipython",
    "version": 3
   },
   "file_extension": ".py",
   "mimetype": "text/x-python",
   "name": "python",
   "nbconvert_exporter": "python",
   "pygments_lexer": "ipython3",
   "version": "3.7.7"
  },
  "nbsphinx": {
   "timeout": 600
  },
  "toc": {
   "base_numbering": 1,
   "nav_menu": {},
   "number_sections": true,
   "sideBar": true,
   "skip_h1_title": false,
   "title_cell": "Table of Contents",
   "title_sidebar": "Contents",
   "toc_cell": false,
   "toc_position": {},
   "toc_section_display": true,
   "toc_window_display": false
  },
  "varInspector": {
   "cols": {
    "lenName": 16,
    "lenType": 16,
    "lenVar": 40
   },
   "kernels_config": {
    "python": {
     "delete_cmd_postfix": "",
     "delete_cmd_prefix": "del ",
     "library": "var_list.py",
     "varRefreshCmd": "print(var_dic_list())"
    },
    "r": {
     "delete_cmd_postfix": ") ",
     "delete_cmd_prefix": "rm(",
     "library": "var_list.r",
     "varRefreshCmd": "cat(var_dic_list()) "
    }
   },
   "types_to_exclude": [
    "module",
    "function",
    "builtin_function_or_method",
    "instance",
    "_Feature"
   ],
   "window_display": false
  }
 },
 "nbformat": 4,
 "nbformat_minor": 2
}
