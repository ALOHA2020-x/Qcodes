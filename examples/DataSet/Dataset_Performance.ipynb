{
 "cells": [
  {
   "cell_type": "markdown",
   "metadata": {},
   "source": [
    "# DataSet Performance\n",
    "\n",
    "This notebook shows the trade-off between inserting data into a database row-by-row and as binary blobs. Inserting the data row-by-row means that we have direct access to all the data and may perform queries directly on the values of the data. On the other hand, as we shall see, this is much slower than inserting the data directly as binary blobs."
   ]
  },
  {
   "cell_type": "markdown",
   "metadata": {},
   "source": [
    "First, we choose a new location for the database to ensure that we don't add a bunch of benchmarking data to the default one."
   ]
  },
  {
   "cell_type": "code",
   "execution_count": 1,
   "metadata": {},
   "outputs": [
    {
     "name": "stdout",
     "output_type": "stream",
     "text": [
      "Logging hadn't been started.\n",
      "Activating auto-logging. Current session state plus future input saved.\n",
      "Filename       : /home/vsts/.qcodes/logs/command_history.log\n",
      "Mode           : append\n",
      "Output logging : True\n",
      "Raw input log  : False\n",
      "Timestamping   : True\n",
      "State          : active\n"
     ]
    },
    {
     "name": "stdout",
     "output_type": "stream",
     "text": [
      "Qcodes Logfile : /home/vsts/.qcodes/logs/200907-18896-qcodes.log\n"
     ]
    }
   ],
   "source": [
    "import os\n",
    "cwd = os.getcwd()\n",
    "import qcodes as qc\n",
    "qc.config[\"core\"][\"db_location\"] = os.path.join(cwd, 'testing.db')\n"
   ]
  },
  {
   "cell_type": "code",
   "execution_count": 2,
   "metadata": {},
   "outputs": [],
   "source": [
    "%matplotlib inline\n",
    "import time\n",
    "import matplotlib.pyplot as plt\n",
    "import numpy as np\n",
    "\n",
    "import qcodes as qc\n",
    "from qcodes.instrument.parameter import ManualParameter\n",
    "from qcodes.dataset.experiment_container import (Experiment,\n",
    "                                                 load_last_experiment,\n",
    "                                                 new_experiment)\n",
    "from qcodes.dataset.sqlite.database import initialise_database\n",
    "from qcodes import load_or_create_experiment\n",
    "from qcodes.dataset.measurements import Measurement"
   ]
  },
  {
   "cell_type": "code",
   "execution_count": 3,
   "metadata": {},
   "outputs": [
    {
     "name": "stdout",
     "output_type": "stream",
     "text": [
      "\r",
      "0it [00:00, ?it/s]"
     ]
    },
    {
     "name": "stdout",
     "output_type": "stream",
     "text": [
      "\r",
      "Upgrading database; v0 -> v1: : 0it [00:00, ?it/s]"
     ]
    },
    {
     "name": "stdout",
     "output_type": "stream",
     "text": [
      "\r",
      "Upgrading database; v0 -> v1: : 0it [00:00, ?it/s]"
     ]
    },
    {
     "name": "stdout",
     "output_type": "stream",
     "text": [
      "\n",
      "\r",
      "  0%|          | 0/1 [00:00<?, ?it/s]"
     ]
    },
    {
     "name": "stdout",
     "output_type": "stream",
     "text": [
      "\r",
      "Upgrading database; v1 -> v2:   0%|          | 0/1 [00:00<?, ?it/s]"
     ]
    },
    {
     "name": "stdout",
     "output_type": "stream",
     "text": [
      "\r",
      "Upgrading database; v1 -> v2: 100%|██████████| 1/1 [00:00<00:00, 801.20it/s]"
     ]
    },
    {
     "name": "stdout",
     "output_type": "stream",
     "text": [
      "\n",
      "\r",
      "0it [00:00, ?it/s]"
     ]
    },
    {
     "name": "stdout",
     "output_type": "stream",
     "text": [
      "\r",
      "Upgrading database; v2 -> v3: : 0it [00:00, ?it/s]"
     ]
    },
    {
     "name": "stdout",
     "output_type": "stream",
     "text": [
      "\r",
      "Upgrading database; v2 -> v3: : 0it [00:00, ?it/s]"
     ]
    },
    {
     "name": "stdout",
     "output_type": "stream",
     "text": [
      "\n",
      "\r",
      "0it [00:00, ?it/s]"
     ]
    },
    {
     "name": "stdout",
     "output_type": "stream",
     "text": [
      "\r",
      "Upgrading database; v3 -> v4: : 0it [00:00, ?it/s]"
     ]
    },
    {
     "name": "stdout",
     "output_type": "stream",
     "text": [
      "\r",
      "Upgrading database; v3 -> v4: : 0it [00:00, ?it/s]"
     ]
    },
    {
     "name": "stdout",
     "output_type": "stream",
     "text": [
      "\n",
      "\r",
      "  0%|          | 0/1 [00:00<?, ?it/s]"
     ]
    },
    {
     "name": "stdout",
     "output_type": "stream",
     "text": [
      "\r",
      "Upgrading database; v4 -> v5:   0%|          | 0/1 [00:00<?, ?it/s]"
     ]
    },
    {
     "name": "stdout",
     "output_type": "stream",
     "text": [
      "\r",
      "Upgrading database; v4 -> v5: 100%|██████████| 1/1 [00:00<00:00, 733.27it/s]"
     ]
    },
    {
     "name": "stdout",
     "output_type": "stream",
     "text": [
      "\n",
      "\r",
      "0it [00:00, ?it/s]"
     ]
    },
    {
     "name": "stdout",
     "output_type": "stream",
     "text": [
      "\r",
      "Upgrading database; v5 -> v6: : 0it [00:00, ?it/s]"
     ]
    },
    {
     "name": "stdout",
     "output_type": "stream",
     "text": [
      "\r",
      "Upgrading database; v5 -> v6: : 0it [00:00, ?it/s]"
     ]
    },
    {
     "name": "stdout",
     "output_type": "stream",
     "text": [
      "\n",
      "\r",
      "  0%|          | 0/1 [00:00<?, ?it/s]"
     ]
    },
    {
     "name": "stdout",
     "output_type": "stream",
     "text": [
      "\r",
      "Upgrading database; v6 -> v7:   0%|          | 0/1 [00:00<?, ?it/s]"
     ]
    },
    {
     "name": "stdout",
     "output_type": "stream",
     "text": [
      "\r",
      "Upgrading database; v6 -> v7: 100%|██████████| 1/1 [00:00<00:00, 355.06it/s]"
     ]
    },
    {
     "name": "stdout",
     "output_type": "stream",
     "text": [
      "\n",
      "\r",
      "  0%|          | 0/1 [00:00<?, ?it/s]"
     ]
    },
    {
     "name": "stdout",
     "output_type": "stream",
     "text": [
      "\r",
      "Upgrading database; v7 -> v8:   0%|          | 0/1 [00:00<?, ?it/s]"
     ]
    },
    {
     "name": "stdout",
     "output_type": "stream",
     "text": [
      "\r",
      "Upgrading database; v7 -> v8: 100%|██████████| 1/1 [00:00<00:00, 656.08it/s]"
     ]
    },
    {
     "name": "stdout",
     "output_type": "stream",
     "text": [
      "\n",
      "\r",
      "  0%|          | 0/1 [00:00<?, ?it/s]"
     ]
    },
    {
     "name": "stdout",
     "output_type": "stream",
     "text": [
      "\r",
      "Upgrading database; v8 -> v9:   0%|          | 0/1 [00:00<?, ?it/s]"
     ]
    },
    {
     "name": "stdout",
     "output_type": "stream",
     "text": [
      "\r",
      "Upgrading database; v8 -> v9: 100%|██████████| 1/1 [00:00<00:00, 895.84it/s]"
     ]
    },
    {
     "name": "stdout",
     "output_type": "stream",
     "text": [
      "\n"
     ]
    }
   ],
   "source": [
    "initialise_database()\n",
    "exp = load_or_create_experiment(experiment_name='tutorial_exp', sample_name=\"no sample\")"
   ]
  },
  {
   "cell_type": "markdown",
   "metadata": {},
   "source": [
    "Here, we define a simple function to benchmark the time it takes to insert n points with either numeric or array data type.\n",
    "We will compare both the time used to call ``add_result`` and the time used for the full measurement."
   ]
  },
  {
   "cell_type": "code",
   "execution_count": 4,
   "metadata": {},
   "outputs": [],
   "source": [
    "def insert_data(paramtype, npoints, nreps=1):\n",
    "\n",
    "    meas = Measurement(exp=exp)\n",
    "\n",
    "    x1 = ManualParameter('x1')\n",
    "    x2 = ManualParameter('x2')\n",
    "    x3 = ManualParameter('x3')\n",
    "    y1 = ManualParameter('y1')\n",
    "    y2 = ManualParameter('y2')\n",
    "\n",
    "    meas.register_parameter(x1, paramtype=paramtype)\n",
    "    meas.register_parameter(x2, paramtype=paramtype)\n",
    "    meas.register_parameter(x3, paramtype=paramtype)\n",
    "    meas.register_parameter(y1, setpoints=[x1, x2, x3],\n",
    "                            paramtype=paramtype)\n",
    "    meas.register_parameter(y2, setpoints=[x1, x2, x3],\n",
    "                            paramtype=paramtype)\n",
    "    start = time.perf_counter()\n",
    "    with meas.run() as datasaver:\n",
    "        start_adding = time.perf_counter()\n",
    "        for i in range(nreps):\n",
    "            datasaver.add_result((x1, np.random.rand(npoints)),\n",
    "                                 (x2, np.random.rand(npoints)),\n",
    "                                 (x3, np.random.rand(npoints)),\n",
    "                                 (y1, np.random.rand(npoints)),\n",
    "                                 (y2, np.random.rand(npoints)))\n",
    "        stop_adding = time.perf_counter()\n",
    "        run_id = datasaver.run_id\n",
    "    stop = time.perf_counter()\n",
    "    tot_time = stop - start\n",
    "    add_time = stop_adding - start_adding\n",
    "    return tot_time, add_time, run_id"
   ]
  },
  {
   "cell_type": "markdown",
   "metadata": {},
   "source": [
    "## Comparison between numeric/array data and binary blob"
   ]
  },
  {
   "cell_type": "markdown",
   "metadata": {},
   "source": [
    "### Case1: Short experiment time"
   ]
  },
  {
   "cell_type": "code",
   "execution_count": 5,
   "metadata": {},
   "outputs": [
    {
     "name": "stdout",
     "output_type": "stream",
     "text": [
      "Starting experimental run with id: 1. \n",
      "Starting experimental run with id: 2. \n",
      "Starting experimental run with id: 3. \n"
     ]
    },
    {
     "name": "stdout",
     "output_type": "stream",
     "text": [
      "Starting experimental run with id: 4. \n"
     ]
    },
    {
     "name": "stdout",
     "output_type": "stream",
     "text": [
      "Starting experimental run with id: 5. \n"
     ]
    },
    {
     "name": "stdout",
     "output_type": "stream",
     "text": [
      "Starting experimental run with id: 6. \n",
      "Starting experimental run with id: 7. \n"
     ]
    },
    {
     "name": "stdout",
     "output_type": "stream",
     "text": [
      "Starting experimental run with id: 8. \n",
      "Starting experimental run with id: 9. \n"
     ]
    },
    {
     "name": "stdout",
     "output_type": "stream",
     "text": [
      "Starting experimental run with id: 10. \n",
      "Starting experimental run with id: 11. \n"
     ]
    },
    {
     "name": "stdout",
     "output_type": "stream",
     "text": [
      "Starting experimental run with id: 12. \n",
      "Starting experimental run with id: 13. \n"
     ]
    },
    {
     "name": "stdout",
     "output_type": "stream",
     "text": [
      "Starting experimental run with id: 14. \n"
     ]
    }
   ],
   "source": [
    "sizes = [1,500,1000,2000,3000,4000,5000]\n",
    "t_numeric = []\n",
    "t_numeric_add = []\n",
    "t_array = []\n",
    "t_array_add = []\n",
    "for size in sizes:\n",
    "    tn, tna, run_id_n =  insert_data('numeric', size)\n",
    "    t_numeric.append(tn)\n",
    "    t_numeric_add.append(tna)\n",
    "\n",
    "    ta, taa, run_id_a =  insert_data('array', size)\n",
    "    t_array.append(ta)\n",
    "    t_array_add.append(taa)"
   ]
  },
  {
   "cell_type": "code",
   "execution_count": 6,
   "metadata": {},
   "outputs": [
    {
     "data": {
      "image/png": "[encoded data removed]",
      "text/plain": [
       "<Figure size 432x288 with 1 Axes>"
      ]
     },
     "metadata": {
      "needs_background": "light"
     },
     "output_type": "display_data"
    }
   ],
   "source": [
    "fig, ax = plt.subplots(1,1)\n",
    "ax.plot(sizes, t_numeric, 'o-', label='Inserting row-by-row')\n",
    "ax.plot(sizes, t_numeric_add, 'o-', label='Inserting row-by-row: add_result only')\n",
    "ax.plot(sizes, t_array, 'd-', label='Inserting as binary blob')\n",
    "ax.plot(sizes, t_array_add, 'd-', label='Inserting as binary blob: add_result only')\n",
    "ax.legend()\n",
    "ax.set_xlabel('Array length')\n",
    "ax.set_ylabel('Time (s)')\n",
    "fig.tight_layout()"
   ]
  },
  {
   "cell_type": "markdown",
   "metadata": {},
   "source": [
    "As shown in the latter figure, the time to setup and and close the experiment is approximately 0.4 sec. In case of small array sizes, the difference between inserting values of data as arrays and inserting them row-by-row is relatively unimportant. At larger array sizes, i.e. above 10000 points, the cost of writing data as individual datapoints starts to become important.\n"
   ]
  },
  {
   "cell_type": "markdown",
   "metadata": {},
   "source": [
    "### Case2: Long experiment time "
   ]
  },
  {
   "cell_type": "code",
   "execution_count": 7,
   "metadata": {},
   "outputs": [
    {
     "name": "stdout",
     "output_type": "stream",
     "text": [
      "Starting experimental run with id: 15. \n",
      "Starting experimental run with id: 16. \n",
      "Starting experimental run with id: 17. \n"
     ]
    },
    {
     "name": "stdout",
     "output_type": "stream",
     "text": [
      "Starting experimental run with id: 18. \n",
      "Starting experimental run with id: 19. \n"
     ]
    },
    {
     "name": "stdout",
     "output_type": "stream",
     "text": [
      "Starting experimental run with id: 20. \n"
     ]
    },
    {
     "name": "stdout",
     "output_type": "stream",
     "text": [
      "Starting experimental run with id: 21. \n"
     ]
    },
    {
     "name": "stdout",
     "output_type": "stream",
     "text": [
      "Starting experimental run with id: 22. \n"
     ]
    },
    {
     "name": "stdout",
     "output_type": "stream",
     "text": [
      "Starting experimental run with id: 23. \n"
     ]
    },
    {
     "name": "stdout",
     "output_type": "stream",
     "text": [
      "Starting experimental run with id: 24. \n"
     ]
    },
    {
     "name": "stdout",
     "output_type": "stream",
     "text": [
      "Starting experimental run with id: 25. \n"
     ]
    },
    {
     "name": "stdout",
     "output_type": "stream",
     "text": [
      "Starting experimental run with id: 26. \n"
     ]
    },
    {
     "name": "stdout",
     "output_type": "stream",
     "text": [
      "Starting experimental run with id: 27. \n"
     ]
    },
    {
     "name": "stdout",
     "output_type": "stream",
     "text": [
      "Starting experimental run with id: 28. \n"
     ]
    }
   ],
   "source": [
    "sizes = [1,500,1000,2000,3000,4000,5000]\n",
    "nreps = 100\n",
    "t_numeric = []\n",
    "t_numeric_add = []\n",
    "t_numeric_run_ids = []\n",
    "t_array = []\n",
    "t_array_add = []\n",
    "t_array_run_ids = []\n",
    "for size in sizes:\n",
    "    tn, tna, run_id_n =  insert_data('numeric', size, nreps=nreps)\n",
    "    t_numeric.append(tn)\n",
    "    t_numeric_add.append(tna)\n",
    "    t_numeric_run_ids.append(run_id_n)\n",
    "\n",
    "    ta, taa, run_id_a =  insert_data('array', size, nreps=nreps)\n",
    "    t_array.append(ta)\n",
    "    t_array_add.append(taa)\n",
    "    t_array_run_ids.append(run_id_a)"
   ]
  },
  {
   "cell_type": "code",
   "execution_count": 8,
   "metadata": {
    "scrolled": true
   },
   "outputs": [
    {
     "data": {
      "image/png": "[encoded data removed]",
      "text/plain": [
       "<Figure size 432x288 with 1 Axes>"
      ]
     },
     "metadata": {
      "needs_background": "light"
     },
     "output_type": "display_data"
    }
   ],
   "source": [
    "fig, ax = plt.subplots(1,1)\n",
    "ax.plot(sizes, t_numeric, 'o-', label='Inserting row-by-row')\n",
    "ax.plot(sizes, t_numeric_add, 'o-', label='Inserting row-by-row: add_result only')\n",
    "ax.plot(sizes, t_array, 'd-', label='Inserting as binary blob')\n",
    "ax.plot(sizes, t_array_add, 'd-', label='Inserting as binary blob: add_result only')\n",
    "ax.legend()\n",
    "ax.set_xlabel('Array length')\n",
    "ax.set_ylabel('Time (s)')\n",
    "fig.tight_layout()"
   ]
  },
  {
   "cell_type": "markdown",
   "metadata": {},
   "source": [
    "However, as we increase the length of the experiment, as seen here by repeating the insertion 100 times, we see a big difference between inserting values of the data row-by-row and inserting it as a binary blob."
   ]
  },
  {
   "cell_type": "markdown",
   "metadata": {},
   "source": [
    "## Loading the data "
   ]
  },
  {
   "cell_type": "code",
   "execution_count": 9,
   "metadata": {},
   "outputs": [],
   "source": [
    "from qcodes.dataset.data_set import load_by_id\n",
    "from qcodes.dataset.data_export import get_data_by_id"
   ]
  },
  {
   "cell_type": "markdown",
   "metadata": {},
   "source": [
    "As usual you can load the data by using the ``load_by_id`` function but you will notice that the different storage methods\n",
    "are reflected in shape of the data as it is retrieved. "
   ]
  },
  {
   "cell_type": "code",
   "execution_count": 10,
   "metadata": {},
   "outputs": [],
   "source": [
    "run_id_n = t_numeric_run_ids[0]\n",
    "run_id_a = t_array_run_ids[0]"
   ]
  },
  {
   "cell_type": "code",
   "execution_count": 11,
   "metadata": {
    "scrolled": true
   },
   "outputs": [
    {
     "data": {
      "text/plain": [
       "{'x1': {'x1': array([0.43766309, 0.43766309, 0.72523704, 0.72523704, 0.77951804,\n",
       "         0.77951804, 0.21600686, 0.21600686, 0.55559682, 0.55559682,\n",
       "         0.93313175, 0.93313175, 0.17551535, 0.17551535, 0.18033493,\n",
       "         0.18033493, 0.64162439, 0.64162439, 0.89460988, 0.89460988,\n",
       "         0.02663762, 0.02663762, 0.47640097, 0.47640097, 0.56502998,\n",
       "         0.56502998, 0.73726805, 0.73726805, 0.97083028, 0.97083028,\n",
       "         0.13397153, 0.13397153, 0.35778193, 0.35778193, 0.46312804,\n",
       "         0.46312804, 0.94298079, 0.94298079, 0.86677379, 0.86677379,\n",
       "         0.40729375, 0.40729375, 0.73692738, 0.73692738, 0.8738863 ,\n",
       "         0.8738863 , 0.43562656, 0.43562656, 0.26063974, 0.26063974,\n",
       "         0.50340588, 0.50340588, 0.47353027, 0.47353027, 0.67127668,\n",
       "         0.67127668, 0.65820203, 0.65820203, 0.79420232, 0.79420232,\n",
       "         0.01060504, 0.01060504, 0.71249401, 0.71249401, 0.74458625,\n",
       "         0.74458625, 0.17803934, 0.17803934, 0.62714621, 0.62714621,\n",
       "         0.54632045, 0.54632045, 0.53123841, 0.53123841, 0.36874364,\n",
       "         0.36874364, 0.37256829, 0.37256829, 0.91643304, 0.91643304,\n",
       "         0.93072721, 0.93072721, 0.42763381, 0.42763381, 0.87617888,\n",
       "         0.87617888, 0.98891309, 0.98891309, 0.63107599, 0.63107599,\n",
       "         0.60333041, 0.60333041, 0.82394481, 0.82394481, 0.9835125 ,\n",
       "         0.9835125 , 0.63287618, 0.63287618, 0.98406061, 0.98406061,\n",
       "         0.0679867 , 0.0679867 , 0.786846  , 0.786846  , 0.43067601,\n",
       "         0.43067601, 0.47910369, 0.47910369, 0.8050359 , 0.8050359 ,\n",
       "         0.56908231, 0.56908231, 0.66268561, 0.66268561, 0.57745324,\n",
       "         0.57745324, 0.38459693, 0.38459693, 0.6747799 , 0.6747799 ,\n",
       "         0.7186135 , 0.7186135 , 0.86977335, 0.86977335, 0.54864518,\n",
       "         0.54864518, 0.54506489, 0.54506489, 0.96313302, 0.96313302,\n",
       "         0.98425211, 0.98425211, 0.44922765, 0.44922765, 0.01673461,\n",
       "         0.01673461, 0.50120906, 0.50120906, 0.54279105, 0.54279105,\n",
       "         0.27885873, 0.27885873, 0.69620365, 0.69620365, 0.64475057,\n",
       "         0.64475057, 0.19891502, 0.19891502, 0.24312563, 0.24312563,\n",
       "         0.76895059, 0.76895059, 0.6318501 , 0.6318501 , 0.7141528 ,\n",
       "         0.7141528 , 0.18033862, 0.18033862, 0.70585029, 0.70585029,\n",
       "         0.41317391, 0.41317391, 0.32730947, 0.32730947, 0.12944487,\n",
       "         0.12944487, 0.35210146, 0.35210146, 0.57626542, 0.57626542,\n",
       "         0.11188638, 0.11188638, 0.85371078, 0.85371078, 0.65675252,\n",
       "         0.65675252, 0.57898747, 0.57898747, 0.71377219, 0.71377219,\n",
       "         0.84796669, 0.84796669, 0.60238249, 0.60238249, 0.17271026,\n",
       "         0.17271026, 0.63088838, 0.63088838, 0.1463763 , 0.1463763 ,\n",
       "         0.89355884, 0.89355884, 0.90250299, 0.90250299, 0.0064195 ,\n",
       "         0.0064195 , 0.74636512, 0.74636512, 0.1572823 , 0.1572823 ])}}"
      ]
     },
     "execution_count": 11,
     "metadata": {},
     "output_type": "execute_result"
    }
   ],
   "source": [
    "ds = load_by_id(run_id_n)\n",
    "ds.get_parameter_data('x1')"
   ]
  },
  {
   "cell_type": "markdown",
   "metadata": {},
   "source": [
    "And a dataset stored as binary arrays"
   ]
  },
  {
   "cell_type": "code",
   "execution_count": 12,
   "metadata": {
    "scrolled": true
   },
   "outputs": [
    {
     "data": {
      "text/plain": [
       "{'x1': {'x1': array([[0.36283955],\n",
       "         [0.36283955],\n",
       "         [0.96538476],\n",
       "         [0.96538476],\n",
       "         [0.81857445],\n",
       "         [0.81857445],\n",
       "         [0.45292196],\n",
       "         [0.45292196],\n",
       "         [0.01951578],\n",
       "         [0.01951578],\n",
       "         [0.42781669],\n",
       "         [0.42781669],\n",
       "         [0.68874702],\n",
       "         [0.68874702],\n",
       "         [0.81473732],\n",
       "         [0.81473732],\n",
       "         [0.5788226 ],\n",
       "         [0.5788226 ],\n",
       "         [0.68466796],\n",
       "         [0.68466796],\n",
       "         [0.21532826],\n",
       "         [0.21532826],\n",
       "         [0.40465905],\n",
       "         [0.40465905],\n",
       "         [0.43483003],\n",
       "         [0.43483003],\n",
       "         [0.4328389 ],\n",
       "         [0.4328389 ],\n",
       "         [0.56191293],\n",
       "         [0.56191293],\n",
       "         [0.36085818],\n",
       "         [0.36085818],\n",
       "         [0.18536716],\n",
       "         [0.18536716],\n",
       "         [0.8212735 ],\n",
       "         [0.8212735 ],\n",
       "         [0.8193846 ],\n",
       "         [0.8193846 ],\n",
       "         [0.47044906],\n",
       "         [0.47044906],\n",
       "         [0.12265513],\n",
       "         [0.12265513],\n",
       "         [0.66929163],\n",
       "         [0.66929163],\n",
       "         [0.81635082],\n",
       "         [0.81635082],\n",
       "         [0.66671691],\n",
       "         [0.66671691],\n",
       "         [0.83054067],\n",
       "         [0.83054067],\n",
       "         [0.54043572],\n",
       "         [0.54043572],\n",
       "         [0.85883642],\n",
       "         [0.85883642],\n",
       "         [0.53939254],\n",
       "         [0.53939254],\n",
       "         [0.20986188],\n",
       "         [0.20986188],\n",
       "         [0.74796164],\n",
       "         [0.74796164],\n",
       "         [0.49575449],\n",
       "         [0.49575449],\n",
       "         [0.16570271],\n",
       "         [0.16570271],\n",
       "         [0.46606703],\n",
       "         [0.46606703],\n",
       "         [0.35263301],\n",
       "         [0.35263301],\n",
       "         [0.54062585],\n",
       "         [0.54062585],\n",
       "         [0.91966945],\n",
       "         [0.91966945],\n",
       "         [0.80058688],\n",
       "         [0.80058688],\n",
       "         [0.55508357],\n",
       "         [0.55508357],\n",
       "         [0.0047203 ],\n",
       "         [0.0047203 ],\n",
       "         [0.11183263],\n",
       "         [0.11183263],\n",
       "         [0.68024889],\n",
       "         [0.68024889],\n",
       "         [0.3929737 ],\n",
       "         [0.3929737 ],\n",
       "         [0.04474575],\n",
       "         [0.04474575],\n",
       "         [0.45984721],\n",
       "         [0.45984721],\n",
       "         [0.94474783],\n",
       "         [0.94474783],\n",
       "         [0.82705217],\n",
       "         [0.82705217],\n",
       "         [0.70834877],\n",
       "         [0.70834877],\n",
       "         [0.12737759],\n",
       "         [0.12737759],\n",
       "         [0.00902888],\n",
       "         [0.00902888],\n",
       "         [0.33199974],\n",
       "         [0.33199974],\n",
       "         [0.38299516],\n",
       "         [0.38299516],\n",
       "         [0.33583669],\n",
       "         [0.33583669],\n",
       "         [0.42063478],\n",
       "         [0.42063478],\n",
       "         [0.04650924],\n",
       "         [0.04650924],\n",
       "         [0.80113953],\n",
       "         [0.80113953],\n",
       "         [0.77112835],\n",
       "         [0.77112835],\n",
       "         [0.98198569],\n",
       "         [0.98198569],\n",
       "         [0.13818474],\n",
       "         [0.13818474],\n",
       "         [0.93837511],\n",
       "         [0.93837511],\n",
       "         [0.15203094],\n",
       "         [0.15203094],\n",
       "         [0.05169422],\n",
       "         [0.05169422],\n",
       "         [0.42085009],\n",
       "         [0.42085009],\n",
       "         [0.54323413],\n",
       "         [0.54323413],\n",
       "         [0.20859004],\n",
       "         [0.20859004],\n",
       "         [0.84494424],\n",
       "         [0.84494424],\n",
       "         [0.60869442],\n",
       "         [0.60869442],\n",
       "         [0.6159563 ],\n",
       "         [0.6159563 ],\n",
       "         [0.93026677],\n",
       "         [0.93026677],\n",
       "         [0.74202046],\n",
       "         [0.74202046],\n",
       "         [0.69512865],\n",
       "         [0.69512865],\n",
       "         [0.44313854],\n",
       "         [0.44313854],\n",
       "         [0.62523943],\n",
       "         [0.62523943],\n",
       "         [0.209142  ],\n",
       "         [0.209142  ],\n",
       "         [0.18705421],\n",
       "         [0.18705421],\n",
       "         [0.62969149],\n",
       "         [0.62969149],\n",
       "         [0.66717418],\n",
       "         [0.66717418],\n",
       "         [0.82368455],\n",
       "         [0.82368455],\n",
       "         [0.3948632 ],\n",
       "         [0.3948632 ],\n",
       "         [0.4399062 ],\n",
       "         [0.4399062 ],\n",
       "         [0.81246816],\n",
       "         [0.81246816],\n",
       "         [0.74321085],\n",
       "         [0.74321085],\n",
       "         [0.82902403],\n",
       "         [0.82902403],\n",
       "         [0.4909706 ],\n",
       "         [0.4909706 ],\n",
       "         [0.97347996],\n",
       "         [0.97347996],\n",
       "         [0.89312517],\n",
       "         [0.89312517],\n",
       "         [0.06243105],\n",
       "         [0.06243105],\n",
       "         [0.32776401],\n",
       "         [0.32776401],\n",
       "         [0.68518789],\n",
       "         [0.68518789],\n",
       "         [0.83082786],\n",
       "         [0.83082786],\n",
       "         [0.40323215],\n",
       "         [0.40323215],\n",
       "         [0.62956307],\n",
       "         [0.62956307],\n",
       "         [0.15672362],\n",
       "         [0.15672362],\n",
       "         [0.62880234],\n",
       "         [0.62880234],\n",
       "         [0.12279771],\n",
       "         [0.12279771],\n",
       "         [0.90799781],\n",
       "         [0.90799781],\n",
       "         [0.0959474 ],\n",
       "         [0.0959474 ],\n",
       "         [0.63085851],\n",
       "         [0.63085851],\n",
       "         [0.83803472],\n",
       "         [0.83803472],\n",
       "         [0.41250927],\n",
       "         [0.41250927],\n",
       "         [0.87952602],\n",
       "         [0.87952602]])}}"
      ]
     },
     "execution_count": 12,
     "metadata": {},
     "output_type": "execute_result"
    }
   ],
   "source": [
    "ds = load_by_id(run_id_a)\n",
    "ds.get_parameter_data('x1')"
   ]
  },
  {
   "cell_type": "code",
   "execution_count": null,
   "metadata": {},
   "outputs": [],
   "source": []
  }
 ],
 "metadata": {
  "kernelspec": {
   "display_name": "Python 3",
   "language": "python",
   "name": "python3"
  },
  "language_info": {
   "codemirror_mode": {
    "name": "ipython",
    "version": 3
   },
   "file_extension": ".py",
   "mimetype": "text/x-python",
   "name": "python",
   "nbconvert_exporter": "python",
   "pygments_lexer": "ipython3",
   "version": "3.7.7"
  },
  "nbsphinx": {
   "timeout": 600
  },
  "toc": {
   "base_numbering": 1,
   "nav_menu": {},
   "number_sections": true,
   "sideBar": true,
   "skip_h1_title": false,
   "title_cell": "Table of Contents",
   "title_sidebar": "Contents",
   "toc_cell": false,
   "toc_position": {},
   "toc_section_display": true,
   "toc_window_display": false
  },
  "varInspector": {
   "cols": {
    "lenName": 16,
    "lenType": 16,
    "lenVar": 40
   },
   "kernels_config": {
    "python": {
     "delete_cmd_postfix": "",
     "delete_cmd_prefix": "del ",
     "library": "var_list.py",
     "varRefreshCmd": "print(var_dic_list())"
    },
    "r": {
     "delete_cmd_postfix": ") ",
     "delete_cmd_prefix": "rm(",
     "library": "var_list.r",
     "varRefreshCmd": "cat(var_dic_list()) "
    }
   },
   "types_to_exclude": [
    "module",
    "function",
    "builtin_function_or_method",
    "instance",
    "_Feature"
   ],
   "window_display": false
  }
 },
 "nbformat": 4,
 "nbformat_minor": 2
}
