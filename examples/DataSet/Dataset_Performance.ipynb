{
 "cells": [
  {
   "cell_type": "markdown",
   "metadata": {},
   "source": [
    "# DataSet Performance\n",
    "\n",
    "This notebook shows the trade-off between inserting data into a database row-by-row and as binary blobs. Inserting the data row-by-row means that we have direct access to all the data and may perform queries directly on the values of the data. On the other hand, as we shall see, this is much slower than inserting the data directly as binary blobs."
   ]
  },
  {
   "cell_type": "markdown",
   "metadata": {},
   "source": [
    "First, we choose a new location for the database to ensure that we don't add a bunch of benchmarking data to the default one."
   ]
  },
  {
   "cell_type": "code",
   "execution_count": 1,
   "metadata": {},
   "outputs": [
    {
     "name": "stdout",
     "output_type": "stream",
     "text": [
      "Logging hadn't been started.\n",
      "Activating auto-logging. Current session state plus future input saved.\n",
      "Filename       : /home/vsts/.qcodes/logs/command_history.log\n",
      "Mode           : append\n",
      "Output logging : True\n",
      "Raw input log  : False\n",
      "Timestamping   : True\n",
      "State          : active\n"
     ]
    },
    {
     "name": "stdout",
     "output_type": "stream",
     "text": [
      "Qcodes Logfile : /home/vsts/.qcodes/logs/200615-19165-qcodes.log\n"
     ]
    }
   ],
   "source": [
    "import os\n",
    "cwd = os.getcwd()\n",
    "import qcodes as qc\n",
    "qc.config[\"core\"][\"db_location\"] = os.path.join(cwd, 'testing.db')\n"
   ]
  },
  {
   "cell_type": "code",
   "execution_count": 2,
   "metadata": {},
   "outputs": [],
   "source": [
    "%matplotlib inline\n",
    "import time\n",
    "import matplotlib.pyplot as plt\n",
    "import numpy as np\n",
    "\n",
    "import qcodes as qc\n",
    "from qcodes.instrument.parameter import ManualParameter\n",
    "from qcodes.dataset.experiment_container import (Experiment,\n",
    "                                                 load_last_experiment,\n",
    "                                                 new_experiment)\n",
    "from qcodes.dataset.sqlite.database import initialise_database\n",
    "from qcodes import load_or_create_experiment\n",
    "from qcodes.dataset.measurements import Measurement"
   ]
  },
  {
   "cell_type": "code",
   "execution_count": 3,
   "metadata": {},
   "outputs": [
    {
     "name": "stdout",
     "output_type": "stream",
     "text": [
      "\r",
      "0it [00:00, ?it/s]"
     ]
    },
    {
     "name": "stdout",
     "output_type": "stream",
     "text": [
      "\r",
      "Upgrading database; v0 -> v1: : 0it [00:00, ?it/s]"
     ]
    },
    {
     "name": "stdout",
     "output_type": "stream",
     "text": [
      "\r",
      "Upgrading database; v0 -> v1: : 0it [00:00, ?it/s]"
     ]
    },
    {
     "name": "stdout",
     "output_type": "stream",
     "text": [
      "\n",
      "\r",
      "  0%|          | 0/1 [00:00<?, ?it/s]"
     ]
    },
    {
     "name": "stdout",
     "output_type": "stream",
     "text": [
      "\r",
      "Upgrading database; v1 -> v2:   0%|          | 0/1 [00:00<?, ?it/s]"
     ]
    },
    {
     "name": "stdout",
     "output_type": "stream",
     "text": [
      "\r",
      "Upgrading database; v1 -> v2: 100%|██████████| 1/1 [00:00<00:00, 1111.07it/s]"
     ]
    },
    {
     "name": "stdout",
     "output_type": "stream",
     "text": [
      "\n",
      "\r",
      "0it [00:00, ?it/s]"
     ]
    },
    {
     "name": "stdout",
     "output_type": "stream",
     "text": [
      "\r",
      "Upgrading database; v2 -> v3: : 0it [00:00, ?it/s]"
     ]
    },
    {
     "name": "stdout",
     "output_type": "stream",
     "text": [
      "\r",
      "Upgrading database; v2 -> v3: : 0it [00:00, ?it/s]"
     ]
    },
    {
     "name": "stdout",
     "output_type": "stream",
     "text": [
      "\n",
      "\r",
      "0it [00:00, ?it/s]"
     ]
    },
    {
     "name": "stdout",
     "output_type": "stream",
     "text": [
      "\r",
      "Upgrading database; v3 -> v4: : 0it [00:00, ?it/s]"
     ]
    },
    {
     "name": "stdout",
     "output_type": "stream",
     "text": [
      "\r",
      "Upgrading database; v3 -> v4: : 0it [00:00, ?it/s]"
     ]
    },
    {
     "name": "stdout",
     "output_type": "stream",
     "text": [
      "\n",
      "\r",
      "  0%|          | 0/1 [00:00<?, ?it/s]"
     ]
    },
    {
     "name": "stdout",
     "output_type": "stream",
     "text": [
      "\r",
      "Upgrading database; v4 -> v5:   0%|          | 0/1 [00:00<?, ?it/s]"
     ]
    },
    {
     "name": "stdout",
     "output_type": "stream",
     "text": [
      "\r",
      "Upgrading database; v4 -> v5: 100%|██████████| 1/1 [00:00<00:00, 1001.51it/s]"
     ]
    },
    {
     "name": "stdout",
     "output_type": "stream",
     "text": [
      "\n",
      "\r",
      "0it [00:00, ?it/s]"
     ]
    },
    {
     "name": "stdout",
     "output_type": "stream",
     "text": [
      "\r",
      "Upgrading database; v5 -> v6: : 0it [00:00, ?it/s]"
     ]
    },
    {
     "name": "stdout",
     "output_type": "stream",
     "text": [
      "\r",
      "Upgrading database; v5 -> v6: : 0it [00:00, ?it/s]"
     ]
    },
    {
     "name": "stdout",
     "output_type": "stream",
     "text": [
      "\n",
      "\r",
      "  0%|          | 0/1 [00:00<?, ?it/s]"
     ]
    },
    {
     "name": "stdout",
     "output_type": "stream",
     "text": [
      "\r",
      "Upgrading database; v6 -> v7:   0%|          | 0/1 [00:00<?, ?it/s]"
     ]
    },
    {
     "name": "stdout",
     "output_type": "stream",
     "text": [
      "\r",
      "Upgrading database; v6 -> v7: 100%|██████████| 1/1 [00:00<00:00, 447.58it/s]"
     ]
    },
    {
     "name": "stdout",
     "output_type": "stream",
     "text": [
      "\n",
      "\r",
      "  0%|          | 0/1 [00:00<?, ?it/s]"
     ]
    },
    {
     "name": "stdout",
     "output_type": "stream",
     "text": [
      "\r",
      "Upgrading database; v7 -> v8:   0%|          | 0/1 [00:00<?, ?it/s]"
     ]
    },
    {
     "name": "stdout",
     "output_type": "stream",
     "text": [
      "\r",
      "Upgrading database; v7 -> v8: 100%|██████████| 1/1 [00:00<00:00, 1045.96it/s]"
     ]
    },
    {
     "name": "stdout",
     "output_type": "stream",
     "text": [
      "\n",
      "\r",
      "  0%|          | 0/1 [00:00<?, ?it/s]"
     ]
    },
    {
     "name": "stdout",
     "output_type": "stream",
     "text": [
      "\r",
      "Upgrading database; v8 -> v9:   0%|          | 0/1 [00:00<?, ?it/s]"
     ]
    },
    {
     "name": "stdout",
     "output_type": "stream",
     "text": [
      "\r",
      "Upgrading database; v8 -> v9: 100%|██████████| 1/1 [00:00<00:00, 929.18it/s]"
     ]
    },
    {
     "name": "stdout",
     "output_type": "stream",
     "text": [
      "\n"
     ]
    }
   ],
   "source": [
    "initialise_database()\n",
    "exp = load_or_create_experiment(experiment_name='tutorial_exp', sample_name=\"no sample\")"
   ]
  },
  {
   "cell_type": "markdown",
   "metadata": {},
   "source": [
    "Here, we define a simple function to benchmark the time it takes to insert n points with either numeric or array data type.\n",
    "We will compare both the time used to call ``add_result`` and the time used for the full measurement."
   ]
  },
  {
   "cell_type": "code",
   "execution_count": 4,
   "metadata": {},
   "outputs": [],
   "source": [
    "def insert_data(paramtype, npoints, nreps=1):\n",
    "\n",
    "    meas = Measurement(exp=exp)\n",
    "\n",
    "    x1 = ManualParameter('x1')\n",
    "    x2 = ManualParameter('x2')\n",
    "    x3 = ManualParameter('x3')\n",
    "    y1 = ManualParameter('y1')\n",
    "    y2 = ManualParameter('y2')\n",
    "\n",
    "    meas.register_parameter(x1, paramtype=paramtype)\n",
    "    meas.register_parameter(x2, paramtype=paramtype)\n",
    "    meas.register_parameter(x3, paramtype=paramtype)\n",
    "    meas.register_parameter(y1, setpoints=[x1, x2, x3],\n",
    "                            paramtype=paramtype)\n",
    "    meas.register_parameter(y2, setpoints=[x1, x2, x3],\n",
    "                            paramtype=paramtype)\n",
    "    start = time.perf_counter()\n",
    "    with meas.run() as datasaver:\n",
    "        start_adding = time.perf_counter()\n",
    "        for i in range(nreps):\n",
    "            datasaver.add_result((x1, np.random.rand(npoints)),\n",
    "                                 (x2, np.random.rand(npoints)),\n",
    "                                 (x3, np.random.rand(npoints)),\n",
    "                                 (y1, np.random.rand(npoints)),\n",
    "                                 (y2, np.random.rand(npoints)))\n",
    "        stop_adding = time.perf_counter()\n",
    "        run_id = datasaver.run_id\n",
    "    stop = time.perf_counter()\n",
    "    tot_time = stop - start\n",
    "    add_time = stop_adding - start_adding\n",
    "    return tot_time, add_time, run_id"
   ]
  },
  {
   "cell_type": "markdown",
   "metadata": {},
   "source": [
    "## Comparison between numeric/array data and binary blob"
   ]
  },
  {
   "cell_type": "markdown",
   "metadata": {},
   "source": [
    "### Case1: Short experiment time"
   ]
  },
  {
   "cell_type": "code",
   "execution_count": 5,
   "metadata": {},
   "outputs": [
    {
     "name": "stdout",
     "output_type": "stream",
     "text": [
      "Starting experimental run with id: 1. \n",
      "Starting experimental run with id: 2. \n",
      "Starting experimental run with id: 3. \n",
      "Starting experimental run with id: 4. \n",
      "Starting experimental run with id: 5. \n"
     ]
    },
    {
     "name": "stdout",
     "output_type": "stream",
     "text": [
      "Starting experimental run with id: 6. \n"
     ]
    },
    {
     "name": "stdout",
     "output_type": "stream",
     "text": [
      "Starting experimental run with id: 7. \n"
     ]
    },
    {
     "name": "stdout",
     "output_type": "stream",
     "text": [
      "Starting experimental run with id: 8. \n",
      "Starting experimental run with id: 9. \n",
      "Starting experimental run with id: 10. \n"
     ]
    },
    {
     "name": "stdout",
     "output_type": "stream",
     "text": [
      "Starting experimental run with id: 11. \n"
     ]
    },
    {
     "name": "stdout",
     "output_type": "stream",
     "text": [
      "Starting experimental run with id: 12. \n",
      "Starting experimental run with id: 13. \n"
     ]
    },
    {
     "name": "stdout",
     "output_type": "stream",
     "text": [
      "Starting experimental run with id: 14. \n"
     ]
    }
   ],
   "source": [
    "sizes = [1,500,1000,2000,3000,4000,5000]\n",
    "t_numeric = []\n",
    "t_numeric_add = []\n",
    "t_array = []\n",
    "t_array_add = []\n",
    "for size in sizes:\n",
    "    tn, tna, run_id_n =  insert_data('numeric', size)\n",
    "    t_numeric.append(tn)\n",
    "    t_numeric_add.append(tna)\n",
    "\n",
    "    ta, taa, run_id_a =  insert_data('array', size)\n",
    "    t_array.append(ta)\n",
    "    t_array_add.append(taa)"
   ]
  },
  {
   "cell_type": "code",
   "execution_count": 6,
   "metadata": {},
   "outputs": [
    {
     "data": {
      "image/png": "[encoded data removed]",
      "text/plain": [
       "<Figure size 432x288 with 1 Axes>"
      ]
     },
     "metadata": {
      "needs_background": "light"
     },
     "output_type": "display_data"
    }
   ],
   "source": [
    "fig, ax = plt.subplots(1,1)\n",
    "ax.plot(sizes, t_numeric, 'o-', label='Inserting row-by-row')\n",
    "ax.plot(sizes, t_numeric_add, 'o-', label='Inserting row-by-row: add_result only')\n",
    "ax.plot(sizes, t_array, 'd-', label='Inserting as binary blob')\n",
    "ax.plot(sizes, t_array_add, 'd-', label='Inserting as binary blob: add_result only')\n",
    "ax.legend()\n",
    "ax.set_xlabel('Array length')\n",
    "ax.set_ylabel('Time (s)')\n",
    "fig.tight_layout()"
   ]
  },
  {
   "cell_type": "markdown",
   "metadata": {},
   "source": [
    "As shown in the latter figure, the time to setup and and close the experiment is approximately 0.4 sec. In case of small array sizes, the difference between inserting values of data as arrays and inserting them row-by-row is relatively unimportant. At larger array sizes, i.e. above 10000 points, the cost of writing data as individual datapoints starts to become important.\n"
   ]
  },
  {
   "cell_type": "markdown",
   "metadata": {},
   "source": [
    "### Case2: Long experiment time "
   ]
  },
  {
   "cell_type": "code",
   "execution_count": 7,
   "metadata": {},
   "outputs": [
    {
     "name": "stdout",
     "output_type": "stream",
     "text": [
      "Starting experimental run with id: 15. \n",
      "Starting experimental run with id: 16. \n",
      "Starting experimental run with id: 17. \n"
     ]
    },
    {
     "name": "stdout",
     "output_type": "stream",
     "text": [
      "Starting experimental run with id: 18. \n",
      "Starting experimental run with id: 19. \n"
     ]
    },
    {
     "name": "stdout",
     "output_type": "stream",
     "text": [
      "Starting experimental run with id: 20. \n"
     ]
    },
    {
     "name": "stdout",
     "output_type": "stream",
     "text": [
      "Starting experimental run with id: 21. \n"
     ]
    },
    {
     "name": "stdout",
     "output_type": "stream",
     "text": [
      "Starting experimental run with id: 22. \n"
     ]
    },
    {
     "name": "stdout",
     "output_type": "stream",
     "text": [
      "Starting experimental run with id: 23. \n"
     ]
    },
    {
     "name": "stdout",
     "output_type": "stream",
     "text": [
      "Starting experimental run with id: 24. \n"
     ]
    },
    {
     "name": "stdout",
     "output_type": "stream",
     "text": [
      "Starting experimental run with id: 25. \n"
     ]
    },
    {
     "name": "stdout",
     "output_type": "stream",
     "text": [
      "Starting experimental run with id: 26. \n"
     ]
    },
    {
     "name": "stdout",
     "output_type": "stream",
     "text": [
      "Starting experimental run with id: 27. \n"
     ]
    },
    {
     "name": "stdout",
     "output_type": "stream",
     "text": [
      "Starting experimental run with id: 28. \n"
     ]
    }
   ],
   "source": [
    "sizes = [1,500,1000,2000,3000,4000,5000]\n",
    "nreps = 100\n",
    "t_numeric = []\n",
    "t_numeric_add = []\n",
    "t_numeric_run_ids = []\n",
    "t_array = []\n",
    "t_array_add = []\n",
    "t_array_run_ids = []\n",
    "for size in sizes:\n",
    "    tn, tna, run_id_n =  insert_data('numeric', size, nreps=nreps)\n",
    "    t_numeric.append(tn)\n",
    "    t_numeric_add.append(tna)\n",
    "    t_numeric_run_ids.append(run_id_n)\n",
    "\n",
    "    ta, taa, run_id_a =  insert_data('array', size, nreps=nreps)\n",
    "    t_array.append(ta)\n",
    "    t_array_add.append(taa)\n",
    "    t_array_run_ids.append(run_id_a)"
   ]
  },
  {
   "cell_type": "code",
   "execution_count": 8,
   "metadata": {
    "scrolled": true
   },
   "outputs": [
    {
     "data": {
      "image/png": "[encoded data removed]",
      "text/plain": [
       "<Figure size 432x288 with 1 Axes>"
      ]
     },
     "metadata": {
      "needs_background": "light"
     },
     "output_type": "display_data"
    }
   ],
   "source": [
    "fig, ax = plt.subplots(1,1)\n",
    "ax.plot(sizes, t_numeric, 'o-', label='Inserting row-by-row')\n",
    "ax.plot(sizes, t_numeric_add, 'o-', label='Inserting row-by-row: add_result only')\n",
    "ax.plot(sizes, t_array, 'd-', label='Inserting as binary blob')\n",
    "ax.plot(sizes, t_array_add, 'd-', label='Inserting as binary blob: add_result only')\n",
    "ax.legend()\n",
    "ax.set_xlabel('Array length')\n",
    "ax.set_ylabel('Time (s)')\n",
    "fig.tight_layout()"
   ]
  },
  {
   "cell_type": "markdown",
   "metadata": {},
   "source": [
    "However, as we increase the length of the experiment, as seen here by repeating the insertion 100 times, we see a big difference between inserting values of the data row-by-row and inserting it as a binary blob."
   ]
  },
  {
   "cell_type": "markdown",
   "metadata": {},
   "source": [
    "## Loading the data "
   ]
  },
  {
   "cell_type": "code",
   "execution_count": 9,
   "metadata": {},
   "outputs": [],
   "source": [
    "from qcodes.dataset.data_set import load_by_id\n",
    "from qcodes.dataset.data_export import get_data_by_id"
   ]
  },
  {
   "cell_type": "markdown",
   "metadata": {},
   "source": [
    "As usual you can load the data by using the ``load_by_id`` function but you will notice that the different storage methods\n",
    "are reflected in shape of the data as it is retrieved. "
   ]
  },
  {
   "cell_type": "code",
   "execution_count": 10,
   "metadata": {},
   "outputs": [],
   "source": [
    "run_id_n = t_numeric_run_ids[0]\n",
    "run_id_a = t_array_run_ids[0]"
   ]
  },
  {
   "cell_type": "code",
   "execution_count": 11,
   "metadata": {
    "scrolled": true
   },
   "outputs": [
    {
     "data": {
      "text/plain": [
       "{'x1': {'x1': array([0.05664004, 0.05664004, 0.25394354, 0.25394354, 0.19272635,\n",
       "         0.19272635, 0.83741327, 0.83741327, 0.74987796, 0.74987796,\n",
       "         0.18017561, 0.18017561, 0.08756944, 0.08756944, 0.73121962,\n",
       "         0.73121962, 0.1385639 , 0.1385639 , 0.56314539, 0.56314539,\n",
       "         0.1400857 , 0.1400857 , 0.46903839, 0.46903839, 0.16901479,\n",
       "         0.16901479, 0.08761462, 0.08761462, 0.47931199, 0.47931199,\n",
       "         0.30069724, 0.30069724, 0.38528922, 0.38528922, 0.42293933,\n",
       "         0.42293933, 0.88478017, 0.88478017, 0.75980851, 0.75980851,\n",
       "         0.16607717, 0.16607717, 0.44022663, 0.44022663, 0.57969469,\n",
       "         0.57969469, 0.05258438, 0.05258438, 0.8814805 , 0.8814805 ,\n",
       "         0.89732988, 0.89732988, 0.42751489, 0.42751489, 0.0621569 ,\n",
       "         0.0621569 , 0.68005753, 0.68005753, 0.13626286, 0.13626286,\n",
       "         0.29711206, 0.29711206, 0.94735458, 0.94735458, 0.67663155,\n",
       "         0.67663155, 0.97563576, 0.97563576, 0.85602918, 0.85602918,\n",
       "         0.50619289, 0.50619289, 0.72564686, 0.72564686, 0.03998435,\n",
       "         0.03998435, 0.57244139, 0.57244139, 0.68890703, 0.68890703,\n",
       "         0.16298533, 0.16298533, 0.48125931, 0.48125931, 0.7031974 ,\n",
       "         0.7031974 , 0.87925561, 0.87925561, 0.77409992, 0.77409992,\n",
       "         0.50116889, 0.50116889, 0.79725017, 0.79725017, 0.36097535,\n",
       "         0.36097535, 0.48680768, 0.48680768, 0.06277751, 0.06277751,\n",
       "         0.61314555, 0.61314555, 0.87412224, 0.87412224, 0.20388717,\n",
       "         0.20388717, 0.82070582, 0.82070582, 0.61478174, 0.61478174,\n",
       "         0.59137533, 0.59137533, 0.50353278, 0.50353278, 0.02714485,\n",
       "         0.02714485, 0.51373472, 0.51373472, 0.0116698 , 0.0116698 ,\n",
       "         0.37190799, 0.37190799, 0.38682443, 0.38682443, 0.44176883,\n",
       "         0.44176883, 0.67001485, 0.67001485, 0.05392994, 0.05392994,\n",
       "         0.95922618, 0.95922618, 0.30426791, 0.30426791, 0.20036264,\n",
       "         0.20036264, 0.52283514, 0.52283514, 0.28700226, 0.28700226,\n",
       "         0.55076347, 0.55076347, 0.74485107, 0.74485107, 0.49971182,\n",
       "         0.49971182, 0.38126727, 0.38126727, 0.45822619, 0.45822619,\n",
       "         0.61687733, 0.61687733, 0.63929354, 0.63929354, 0.82951048,\n",
       "         0.82951048, 0.05312036, 0.05312036, 0.65858787, 0.65858787,\n",
       "         0.11332918, 0.11332918, 0.77845706, 0.77845706, 0.76249796,\n",
       "         0.76249796, 0.89540054, 0.89540054, 0.69257682, 0.69257682,\n",
       "         0.88183232, 0.88183232, 0.08610907, 0.08610907, 0.42589211,\n",
       "         0.42589211, 0.35865063, 0.35865063, 0.45783042, 0.45783042,\n",
       "         0.58626377, 0.58626377, 0.20163335, 0.20163335, 0.90819184,\n",
       "         0.90819184, 0.96486944, 0.96486944, 0.46943379, 0.46943379,\n",
       "         0.50222413, 0.50222413, 0.46453322, 0.46453322, 0.2103299 ,\n",
       "         0.2103299 , 0.20290202, 0.20290202, 0.490901  , 0.490901  ])}}"
      ]
     },
     "execution_count": 11,
     "metadata": {},
     "output_type": "execute_result"
    }
   ],
   "source": [
    "ds = load_by_id(run_id_n)\n",
    "ds.get_parameter_data('x1')"
   ]
  },
  {
   "cell_type": "markdown",
   "metadata": {},
   "source": [
    "And a dataset stored as binary arrays"
   ]
  },
  {
   "cell_type": "code",
   "execution_count": 12,
   "metadata": {
    "scrolled": true
   },
   "outputs": [
    {
     "data": {
      "text/plain": [
       "{'x1': {'x1': array([[0.67423601],\n",
       "         [0.67423601],\n",
       "         [0.01581329],\n",
       "         [0.01581329],\n",
       "         [0.50707034],\n",
       "         [0.50707034],\n",
       "         [0.58553136],\n",
       "         [0.58553136],\n",
       "         [0.64701941],\n",
       "         [0.64701941],\n",
       "         [0.30788583],\n",
       "         [0.30788583],\n",
       "         [0.33284044],\n",
       "         [0.33284044],\n",
       "         [0.47114177],\n",
       "         [0.47114177],\n",
       "         [0.99972694],\n",
       "         [0.99972694],\n",
       "         [0.33419985],\n",
       "         [0.33419985],\n",
       "         [0.31469663],\n",
       "         [0.31469663],\n",
       "         [0.66658114],\n",
       "         [0.66658114],\n",
       "         [0.09602049],\n",
       "         [0.09602049],\n",
       "         [0.32928044],\n",
       "         [0.32928044],\n",
       "         [0.54499826],\n",
       "         [0.54499826],\n",
       "         [0.76493079],\n",
       "         [0.76493079],\n",
       "         [0.45354159],\n",
       "         [0.45354159],\n",
       "         [0.87471818],\n",
       "         [0.87471818],\n",
       "         [0.75303614],\n",
       "         [0.75303614],\n",
       "         [0.7114084 ],\n",
       "         [0.7114084 ],\n",
       "         [0.95523275],\n",
       "         [0.95523275],\n",
       "         [0.51607855],\n",
       "         [0.51607855],\n",
       "         [0.20597718],\n",
       "         [0.20597718],\n",
       "         [0.78650007],\n",
       "         [0.78650007],\n",
       "         [0.7874934 ],\n",
       "         [0.7874934 ],\n",
       "         [0.51738889],\n",
       "         [0.51738889],\n",
       "         [0.41091115],\n",
       "         [0.41091115],\n",
       "         [0.03875101],\n",
       "         [0.03875101],\n",
       "         [0.63104292],\n",
       "         [0.63104292],\n",
       "         [0.08423424],\n",
       "         [0.08423424],\n",
       "         [0.49375321],\n",
       "         [0.49375321],\n",
       "         [0.46852722],\n",
       "         [0.46852722],\n",
       "         [0.18133572],\n",
       "         [0.18133572],\n",
       "         [0.47583821],\n",
       "         [0.47583821],\n",
       "         [0.90336709],\n",
       "         [0.90336709],\n",
       "         [0.53708586],\n",
       "         [0.53708586],\n",
       "         [0.04693761],\n",
       "         [0.04693761],\n",
       "         [0.07263364],\n",
       "         [0.07263364],\n",
       "         [0.08874985],\n",
       "         [0.08874985],\n",
       "         [0.62066457],\n",
       "         [0.62066457],\n",
       "         [0.12356864],\n",
       "         [0.12356864],\n",
       "         [0.72551404],\n",
       "         [0.72551404],\n",
       "         [0.68822755],\n",
       "         [0.68822755],\n",
       "         [0.12274369],\n",
       "         [0.12274369],\n",
       "         [0.71007898],\n",
       "         [0.71007898],\n",
       "         [0.58345744],\n",
       "         [0.58345744],\n",
       "         [0.77859826],\n",
       "         [0.77859826],\n",
       "         [0.41570909],\n",
       "         [0.41570909],\n",
       "         [0.81931003],\n",
       "         [0.81931003],\n",
       "         [0.92913139],\n",
       "         [0.92913139],\n",
       "         [0.01571924],\n",
       "         [0.01571924],\n",
       "         [0.32027536],\n",
       "         [0.32027536],\n",
       "         [0.52405471],\n",
       "         [0.52405471],\n",
       "         [0.70454655],\n",
       "         [0.70454655],\n",
       "         [0.34288783],\n",
       "         [0.34288783],\n",
       "         [0.47194634],\n",
       "         [0.47194634],\n",
       "         [0.08298017],\n",
       "         [0.08298017],\n",
       "         [0.11977201],\n",
       "         [0.11977201],\n",
       "         [0.49847782],\n",
       "         [0.49847782],\n",
       "         [0.739365  ],\n",
       "         [0.739365  ],\n",
       "         [0.75596527],\n",
       "         [0.75596527],\n",
       "         [0.2692209 ],\n",
       "         [0.2692209 ],\n",
       "         [0.10673418],\n",
       "         [0.10673418],\n",
       "         [0.16248541],\n",
       "         [0.16248541],\n",
       "         [0.59108136],\n",
       "         [0.59108136],\n",
       "         [0.27054292],\n",
       "         [0.27054292],\n",
       "         [0.60148324],\n",
       "         [0.60148324],\n",
       "         [0.59556526],\n",
       "         [0.59556526],\n",
       "         [0.18995533],\n",
       "         [0.18995533],\n",
       "         [0.30464902],\n",
       "         [0.30464902],\n",
       "         [0.68569204],\n",
       "         [0.68569204],\n",
       "         [0.76991703],\n",
       "         [0.76991703],\n",
       "         [0.04518674],\n",
       "         [0.04518674],\n",
       "         [0.42210564],\n",
       "         [0.42210564],\n",
       "         [0.51719466],\n",
       "         [0.51719466],\n",
       "         [0.4969118 ],\n",
       "         [0.4969118 ],\n",
       "         [0.07795772],\n",
       "         [0.07795772],\n",
       "         [0.6122796 ],\n",
       "         [0.6122796 ],\n",
       "         [0.25397358],\n",
       "         [0.25397358],\n",
       "         [0.39972872],\n",
       "         [0.39972872],\n",
       "         [0.54010508],\n",
       "         [0.54010508],\n",
       "         [0.28628284],\n",
       "         [0.28628284],\n",
       "         [0.56773849],\n",
       "         [0.56773849],\n",
       "         [0.80529534],\n",
       "         [0.80529534],\n",
       "         [0.80948976],\n",
       "         [0.80948976],\n",
       "         [0.89885417],\n",
       "         [0.89885417],\n",
       "         [0.9390723 ],\n",
       "         [0.9390723 ],\n",
       "         [0.64083686],\n",
       "         [0.64083686],\n",
       "         [0.03304624],\n",
       "         [0.03304624],\n",
       "         [0.13501349],\n",
       "         [0.13501349],\n",
       "         [0.22530822],\n",
       "         [0.22530822],\n",
       "         [0.231512  ],\n",
       "         [0.231512  ],\n",
       "         [0.22454598],\n",
       "         [0.22454598],\n",
       "         [0.42335465],\n",
       "         [0.42335465],\n",
       "         [0.70292333],\n",
       "         [0.70292333],\n",
       "         [0.93739049],\n",
       "         [0.93739049],\n",
       "         [0.59078471],\n",
       "         [0.59078471],\n",
       "         [0.34922071],\n",
       "         [0.34922071],\n",
       "         [0.35916016],\n",
       "         [0.35916016],\n",
       "         [0.13224221],\n",
       "         [0.13224221]])}}"
      ]
     },
     "execution_count": 12,
     "metadata": {},
     "output_type": "execute_result"
    }
   ],
   "source": [
    "ds = load_by_id(run_id_a)\n",
    "ds.get_parameter_data('x1')"
   ]
  },
  {
   "cell_type": "code",
   "execution_count": null,
   "metadata": {},
   "outputs": [],
   "source": []
  }
 ],
 "metadata": {
  "kernelspec": {
   "display_name": "Python 3",
   "language": "python",
   "name": "python3"
  },
  "language_info": {
   "codemirror_mode": {
    "name": "ipython",
    "version": 3
   },
   "file_extension": ".py",
   "mimetype": "text/x-python",
   "name": "python",
   "nbconvert_exporter": "python",
   "pygments_lexer": "ipython3",
   "version": "3.7.7"
  },
  "nbsphinx": {
   "timeout": 600
  },
  "toc": {
   "base_numbering": 1,
   "nav_menu": {},
   "number_sections": true,
   "sideBar": true,
   "skip_h1_title": false,
   "title_cell": "Table of Contents",
   "title_sidebar": "Contents",
   "toc_cell": false,
   "toc_position": {},
   "toc_section_display": true,
   "toc_window_display": false
  },
  "varInspector": {
   "cols": {
    "lenName": 16,
    "lenType": 16,
    "lenVar": 40
   },
   "kernels_config": {
    "python": {
     "delete_cmd_postfix": "",
     "delete_cmd_prefix": "del ",
     "library": "var_list.py",
     "varRefreshCmd": "print(var_dic_list())"
    },
    "r": {
     "delete_cmd_postfix": ") ",
     "delete_cmd_prefix": "rm(",
     "library": "var_list.r",
     "varRefreshCmd": "cat(var_dic_list()) "
    }
   },
   "types_to_exclude": [
    "module",
    "function",
    "builtin_function_or_method",
    "instance",
    "_Feature"
   ],
   "window_display": false
  }
 },
 "nbformat": 4,
 "nbformat_minor": 2
}
