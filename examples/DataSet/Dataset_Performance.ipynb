{
 "cells": [
  {
   "cell_type": "markdown",
   "metadata": {},
   "source": [
    "# DataSet Performance\n",
    "\n",
    "This notebook shows the trade-off between inserting data into a database row-by-row and as binary blobs. Inserting the data row-by-row means that we have direct access to all the data and may perform queries directly on the values of the data. On the other hand, as we shall see, this is much slower than inserting the data directly as binary blobs."
   ]
  },
  {
   "cell_type": "markdown",
   "metadata": {},
   "source": [
    "First, we choose a new location for the database to ensure that we don't add a bunch of benchmarking data to the default one."
   ]
  },
  {
   "cell_type": "code",
   "execution_count": 1,
   "metadata": {
    "execution": {
     "iopub.execute_input": "2020-12-15T13:52:16.355352Z",
     "iopub.status.busy": "2020-12-15T13:52:16.354435Z",
     "iopub.status.idle": "2020-12-15T13:52:17.301448Z",
     "shell.execute_reply": "2020-12-15T13:52:17.300825Z"
    }
   },
   "outputs": [
    {
     "name": "stdout",
     "output_type": "stream",
     "text": [
      "Logging hadn't been started.\n",
      "Activating auto-logging. Current session state plus future input saved.\n",
      "Filename       : /home/vsts/.qcodes/logs/command_history.log\n",
      "Mode           : append\n",
      "Output logging : True\n",
      "Raw input log  : False\n",
      "Timestamping   : True\n",
      "State          : active\n"
     ]
    },
    {
     "name": "stdout",
     "output_type": "stream",
     "text": [
      "Qcodes Logfile : /home/vsts/.qcodes/logs/201215-14265-qcodes.log\n"
     ]
    }
   ],
   "source": [
    "import os\n",
    "cwd = os.getcwd()\n",
    "import qcodes as qc\n",
    "qc.config[\"core\"][\"db_location\"] = os.path.join(cwd, 'testing.db')\n"
   ]
  },
  {
   "cell_type": "code",
   "execution_count": 2,
   "metadata": {
    "execution": {
     "iopub.execute_input": "2020-12-15T13:52:17.307254Z",
     "iopub.status.busy": "2020-12-15T13:52:17.306282Z",
     "iopub.status.idle": "2020-12-15T13:52:17.470932Z",
     "shell.execute_reply": "2020-12-15T13:52:17.469952Z"
    }
   },
   "outputs": [],
   "source": [
    "%matplotlib inline\n",
    "import time\n",
    "import matplotlib.pyplot as plt\n",
    "import numpy as np\n",
    "\n",
    "import qcodes as qc\n",
    "from qcodes.instrument.parameter import ManualParameter\n",
    "from qcodes.dataset.experiment_container import (Experiment,\n",
    "                                                 load_last_experiment,\n",
    "                                                 new_experiment)\n",
    "from qcodes.dataset.sqlite.database import initialise_database\n",
    "from qcodes import load_or_create_experiment\n",
    "from qcodes.dataset.measurements import Measurement"
   ]
  },
  {
   "cell_type": "code",
   "execution_count": 3,
   "metadata": {
    "execution": {
     "iopub.execute_input": "2020-12-15T13:52:17.475490Z",
     "iopub.status.busy": "2020-12-15T13:52:17.474951Z",
     "iopub.status.idle": "2020-12-15T13:52:17.572932Z",
     "shell.execute_reply": "2020-12-15T13:52:17.572044Z"
    }
   },
   "outputs": [
    {
     "name": "stdout",
     "output_type": "stream",
     "text": [
      "\r",
      "0it [00:00, ?it/s]"
     ]
    },
    {
     "name": "stdout",
     "output_type": "stream",
     "text": [
      "\r",
      "Upgrading database; v0 -> v1: : 0it [00:00, ?it/s]"
     ]
    },
    {
     "name": "stdout",
     "output_type": "stream",
     "text": [
      "\r",
      "Upgrading database; v0 -> v1: : 0it [00:00, ?it/s]"
     ]
    },
    {
     "name": "stdout",
     "output_type": "stream",
     "text": [
      "\n",
      "\r",
      "  0%|          | 0/1 [00:00<?, ?it/s]"
     ]
    },
    {
     "name": "stdout",
     "output_type": "stream",
     "text": [
      "\r",
      "Upgrading database; v1 -> v2:   0%|          | 0/1 [00:00<?, ?it/s]"
     ]
    },
    {
     "name": "stdout",
     "output_type": "stream",
     "text": [
      "\r",
      "Upgrading database; v1 -> v2: 100%|██████████| 1/1 [00:00<00:00, 644.98it/s]"
     ]
    },
    {
     "name": "stdout",
     "output_type": "stream",
     "text": [
      "\n",
      "\r",
      "0it [00:00, ?it/s]"
     ]
    },
    {
     "name": "stdout",
     "output_type": "stream",
     "text": [
      "\r",
      "Upgrading database; v2 -> v3: : 0it [00:00, ?it/s]"
     ]
    },
    {
     "name": "stdout",
     "output_type": "stream",
     "text": [
      "\r",
      "Upgrading database; v2 -> v3: : 0it [00:00, ?it/s]"
     ]
    },
    {
     "name": "stdout",
     "output_type": "stream",
     "text": [
      "\n",
      "\r",
      "0it [00:00, ?it/s]"
     ]
    },
    {
     "name": "stdout",
     "output_type": "stream",
     "text": [
      "\r",
      "Upgrading database; v3 -> v4: : 0it [00:00, ?it/s]"
     ]
    },
    {
     "name": "stdout",
     "output_type": "stream",
     "text": [
      "\r",
      "Upgrading database; v3 -> v4: : 0it [00:00, ?it/s]"
     ]
    },
    {
     "name": "stdout",
     "output_type": "stream",
     "text": [
      "\n",
      "\r",
      "  0%|          | 0/1 [00:00<?, ?it/s]"
     ]
    },
    {
     "name": "stdout",
     "output_type": "stream",
     "text": [
      "\r",
      "Upgrading database; v4 -> v5:   0%|          | 0/1 [00:00<?, ?it/s]"
     ]
    },
    {
     "name": "stdout",
     "output_type": "stream",
     "text": [
      "\r",
      "Upgrading database; v4 -> v5: 100%|██████████| 1/1 [00:00<00:00, 555.39it/s]"
     ]
    },
    {
     "name": "stdout",
     "output_type": "stream",
     "text": [
      "\n",
      "\r",
      "0it [00:00, ?it/s]"
     ]
    },
    {
     "name": "stdout",
     "output_type": "stream",
     "text": [
      "\r",
      "Upgrading database; v5 -> v6: : 0it [00:00, ?it/s]"
     ]
    },
    {
     "name": "stdout",
     "output_type": "stream",
     "text": [
      "\r",
      "Upgrading database; v5 -> v6: : 0it [00:00, ?it/s]"
     ]
    },
    {
     "name": "stdout",
     "output_type": "stream",
     "text": [
      "\n",
      "\r",
      "  0%|          | 0/1 [00:00<?, ?it/s]"
     ]
    },
    {
     "name": "stdout",
     "output_type": "stream",
     "text": [
      "\r",
      "Upgrading database; v6 -> v7:   0%|          | 0/1 [00:00<?, ?it/s]"
     ]
    },
    {
     "name": "stdout",
     "output_type": "stream",
     "text": [
      "\r",
      "Upgrading database; v6 -> v7: 100%|██████████| 1/1 [00:00<00:00, 370.42it/s]"
     ]
    },
    {
     "name": "stdout",
     "output_type": "stream",
     "text": [
      "\n",
      "\r",
      "  0%|          | 0/1 [00:00<?, ?it/s]"
     ]
    },
    {
     "name": "stdout",
     "output_type": "stream",
     "text": [
      "\r",
      "Upgrading database; v7 -> v8:   0%|          | 0/1 [00:00<?, ?it/s]"
     ]
    },
    {
     "name": "stdout",
     "output_type": "stream",
     "text": [
      "\r",
      "Upgrading database; v7 -> v8: 100%|██████████| 1/1 [00:00<00:00, 858.78it/s]"
     ]
    },
    {
     "name": "stdout",
     "output_type": "stream",
     "text": [
      "\n",
      "\r",
      "  0%|          | 0/1 [00:00<?, ?it/s]"
     ]
    },
    {
     "name": "stdout",
     "output_type": "stream",
     "text": [
      "\r",
      "Upgrading database; v8 -> v9:   0%|          | 0/1 [00:00<?, ?it/s]"
     ]
    },
    {
     "name": "stdout",
     "output_type": "stream",
     "text": [
      "\r",
      "Upgrading database; v8 -> v9: 100%|██████████| 1/1 [00:00<00:00, 1047.53it/s]"
     ]
    },
    {
     "name": "stdout",
     "output_type": "stream",
     "text": [
      "\n"
     ]
    }
   ],
   "source": [
    "initialise_database()\n",
    "exp = load_or_create_experiment(experiment_name='tutorial_exp', sample_name=\"no sample\")"
   ]
  },
  {
   "cell_type": "markdown",
   "metadata": {},
   "source": [
    "Here, we define a simple function to benchmark the time it takes to insert n points with either numeric or array data type.\n",
    "We will compare both the time used to call ``add_result`` and the time used for the full measurement."
   ]
  },
  {
   "cell_type": "code",
   "execution_count": 4,
   "metadata": {
    "execution": {
     "iopub.execute_input": "2020-12-15T13:52:17.580687Z",
     "iopub.status.busy": "2020-12-15T13:52:17.580248Z",
     "iopub.status.idle": "2020-12-15T13:52:17.583809Z",
     "shell.execute_reply": "2020-12-15T13:52:17.583259Z"
    }
   },
   "outputs": [],
   "source": [
    "def insert_data(paramtype, npoints, nreps=1):\n",
    "\n",
    "    meas = Measurement(exp=exp)\n",
    "\n",
    "    x1 = ManualParameter('x1')\n",
    "    x2 = ManualParameter('x2')\n",
    "    x3 = ManualParameter('x3')\n",
    "    y1 = ManualParameter('y1')\n",
    "    y2 = ManualParameter('y2')\n",
    "\n",
    "    meas.register_parameter(x1, paramtype=paramtype)\n",
    "    meas.register_parameter(x2, paramtype=paramtype)\n",
    "    meas.register_parameter(x3, paramtype=paramtype)\n",
    "    meas.register_parameter(y1, setpoints=[x1, x2, x3],\n",
    "                            paramtype=paramtype)\n",
    "    meas.register_parameter(y2, setpoints=[x1, x2, x3],\n",
    "                            paramtype=paramtype)\n",
    "    start = time.perf_counter()\n",
    "    with meas.run() as datasaver:\n",
    "        start_adding = time.perf_counter()\n",
    "        for i in range(nreps):\n",
    "            datasaver.add_result((x1, np.random.rand(npoints)),\n",
    "                                 (x2, np.random.rand(npoints)),\n",
    "                                 (x3, np.random.rand(npoints)),\n",
    "                                 (y1, np.random.rand(npoints)),\n",
    "                                 (y2, np.random.rand(npoints)))\n",
    "        stop_adding = time.perf_counter()\n",
    "        run_id = datasaver.run_id\n",
    "    stop = time.perf_counter()\n",
    "    tot_time = stop - start\n",
    "    add_time = stop_adding - start_adding\n",
    "    return tot_time, add_time, run_id"
   ]
  },
  {
   "cell_type": "markdown",
   "metadata": {},
   "source": [
    "## Comparison between numeric/array data and binary blob"
   ]
  },
  {
   "cell_type": "markdown",
   "metadata": {},
   "source": [
    "### Case1: Short experiment time"
   ]
  },
  {
   "cell_type": "code",
   "execution_count": 5,
   "metadata": {
    "execution": {
     "iopub.execute_input": "2020-12-15T13:52:17.589966Z",
     "iopub.status.busy": "2020-12-15T13:52:17.588979Z",
     "iopub.status.idle": "2020-12-15T13:52:18.341410Z",
     "shell.execute_reply": "2020-12-15T13:52:18.342254Z"
    }
   },
   "outputs": [
    {
     "name": "stdout",
     "output_type": "stream",
     "text": [
      "Starting experimental run with id: 1. \n",
      "Starting experimental run with id: 2. \n",
      "Starting experimental run with id: 3. \n",
      "Starting experimental run with id: 4. \n",
      "Starting experimental run with id: 5. \n"
     ]
    },
    {
     "name": "stdout",
     "output_type": "stream",
     "text": [
      "Starting experimental run with id: 6. \n"
     ]
    },
    {
     "name": "stdout",
     "output_type": "stream",
     "text": [
      "Starting experimental run with id: 7. \n"
     ]
    },
    {
     "name": "stdout",
     "output_type": "stream",
     "text": [
      "Starting experimental run with id: 8. \n",
      "Starting experimental run with id: 9. \n"
     ]
    },
    {
     "name": "stdout",
     "output_type": "stream",
     "text": [
      "Starting experimental run with id: 10. \n",
      "Starting experimental run with id: 11. \n"
     ]
    },
    {
     "name": "stdout",
     "output_type": "stream",
     "text": [
      "Starting experimental run with id: 12. \n",
      "Starting experimental run with id: 13. \n"
     ]
    },
    {
     "name": "stdout",
     "output_type": "stream",
     "text": [
      "Starting experimental run with id: 14. \n"
     ]
    }
   ],
   "source": [
    "sizes = [1,500,1000,2000,3000,4000,5000]\n",
    "t_numeric = []\n",
    "t_numeric_add = []\n",
    "t_array = []\n",
    "t_array_add = []\n",
    "for size in sizes:\n",
    "    tn, tna, run_id_n =  insert_data('numeric', size)\n",
    "    t_numeric.append(tn)\n",
    "    t_numeric_add.append(tna)\n",
    "\n",
    "    ta, taa, run_id_a =  insert_data('array', size)\n",
    "    t_array.append(ta)\n",
    "    t_array_add.append(taa)"
   ]
  },
  {
   "cell_type": "code",
   "execution_count": 6,
   "metadata": {
    "execution": {
     "iopub.execute_input": "2020-12-15T13:52:18.370653Z",
     "iopub.status.busy": "2020-12-15T13:52:18.370136Z",
     "iopub.status.idle": "2020-12-15T13:52:18.541275Z",
     "shell.execute_reply": "2020-12-15T13:52:18.542063Z"
    }
   },
   "outputs": [
    {
     "data": {
      "image/png": "[encoded data removed]",
      "text/plain": [
       "<Figure size 432x288 with 1 Axes>"
      ]
     },
     "metadata": {
      "needs_background": "light"
     },
     "output_type": "display_data"
    }
   ],
   "source": [
    "fig, ax = plt.subplots(1,1)\n",
    "ax.plot(sizes, t_numeric, 'o-', label='Inserting row-by-row')\n",
    "ax.plot(sizes, t_numeric_add, 'o-', label='Inserting row-by-row: add_result only')\n",
    "ax.plot(sizes, t_array, 'd-', label='Inserting as binary blob')\n",
    "ax.plot(sizes, t_array_add, 'd-', label='Inserting as binary blob: add_result only')\n",
    "ax.legend()\n",
    "ax.set_xlabel('Array length')\n",
    "ax.set_ylabel('Time (s)')\n",
    "fig.tight_layout()"
   ]
  },
  {
   "cell_type": "markdown",
   "metadata": {},
   "source": [
    "As shown in the latter figure, the time to setup and and close the experiment is approximately 0.4 sec. In case of small array sizes, the difference between inserting values of data as arrays and inserting them row-by-row is relatively unimportant. At larger array sizes, i.e. above 10000 points, the cost of writing data as individual datapoints starts to become important.\n"
   ]
  },
  {
   "cell_type": "markdown",
   "metadata": {},
   "source": [
    "### Case2: Long experiment time "
   ]
  },
  {
   "cell_type": "code",
   "execution_count": 7,
   "metadata": {
    "execution": {
     "iopub.execute_input": "2020-12-15T13:52:18.549661Z",
     "iopub.status.busy": "2020-12-15T13:52:18.544547Z",
     "iopub.status.idle": "2020-12-15T13:53:12.548969Z",
     "shell.execute_reply": "2020-12-15T13:53:12.547776Z"
    }
   },
   "outputs": [
    {
     "name": "stdout",
     "output_type": "stream",
     "text": [
      "Starting experimental run with id: 15. \n",
      "Starting experimental run with id: 16. \n",
      "Starting experimental run with id: 17. \n"
     ]
    },
    {
     "name": "stdout",
     "output_type": "stream",
     "text": [
      "Starting experimental run with id: 18. \n",
      "Starting experimental run with id: 19. \n"
     ]
    },
    {
     "name": "stdout",
     "output_type": "stream",
     "text": [
      "Starting experimental run with id: 20. \n"
     ]
    },
    {
     "name": "stdout",
     "output_type": "stream",
     "text": [
      "Starting experimental run with id: 21. \n"
     ]
    },
    {
     "name": "stdout",
     "output_type": "stream",
     "text": [
      "Starting experimental run with id: 22. \n"
     ]
    },
    {
     "name": "stdout",
     "output_type": "stream",
     "text": [
      "Starting experimental run with id: 23. \n"
     ]
    },
    {
     "name": "stdout",
     "output_type": "stream",
     "text": [
      "Starting experimental run with id: 24. \n"
     ]
    },
    {
     "name": "stdout",
     "output_type": "stream",
     "text": [
      "Starting experimental run with id: 25. \n"
     ]
    },
    {
     "name": "stdout",
     "output_type": "stream",
     "text": [
      "Starting experimental run with id: 26. \n"
     ]
    },
    {
     "name": "stdout",
     "output_type": "stream",
     "text": [
      "Starting experimental run with id: 27. \n"
     ]
    },
    {
     "name": "stdout",
     "output_type": "stream",
     "text": [
      "Starting experimental run with id: 28. \n"
     ]
    }
   ],
   "source": [
    "sizes = [1,500,1000,2000,3000,4000,5000]\n",
    "nreps = 100\n",
    "t_numeric = []\n",
    "t_numeric_add = []\n",
    "t_numeric_run_ids = []\n",
    "t_array = []\n",
    "t_array_add = []\n",
    "t_array_run_ids = []\n",
    "for size in sizes:\n",
    "    tn, tna, run_id_n =  insert_data('numeric', size, nreps=nreps)\n",
    "    t_numeric.append(tn)\n",
    "    t_numeric_add.append(tna)\n",
    "    t_numeric_run_ids.append(run_id_n)\n",
    "\n",
    "    ta, taa, run_id_a =  insert_data('array', size, nreps=nreps)\n",
    "    t_array.append(ta)\n",
    "    t_array_add.append(taa)\n",
    "    t_array_run_ids.append(run_id_a)"
   ]
  },
  {
   "cell_type": "code",
   "execution_count": 8,
   "metadata": {
    "execution": {
     "iopub.execute_input": "2020-12-15T13:53:12.583432Z",
     "iopub.status.busy": "2020-12-15T13:53:12.563503Z",
     "iopub.status.idle": "2020-12-15T13:53:12.732674Z",
     "shell.execute_reply": "2020-12-15T13:53:12.733343Z"
    },
    "scrolled": true
   },
   "outputs": [
    {
     "data": {
      "image/png": "[encoded data removed]",
      "text/plain": [
       "<Figure size 432x288 with 1 Axes>"
      ]
     },
     "metadata": {
      "needs_background": "light"
     },
     "output_type": "display_data"
    }
   ],
   "source": [
    "fig, ax = plt.subplots(1,1)\n",
    "ax.plot(sizes, t_numeric, 'o-', label='Inserting row-by-row')\n",
    "ax.plot(sizes, t_numeric_add, 'o-', label='Inserting row-by-row: add_result only')\n",
    "ax.plot(sizes, t_array, 'd-', label='Inserting as binary blob')\n",
    "ax.plot(sizes, t_array_add, 'd-', label='Inserting as binary blob: add_result only')\n",
    "ax.legend()\n",
    "ax.set_xlabel('Array length')\n",
    "ax.set_ylabel('Time (s)')\n",
    "fig.tight_layout()"
   ]
  },
  {
   "cell_type": "markdown",
   "metadata": {},
   "source": [
    "However, as we increase the length of the experiment, as seen here by repeating the insertion 100 times, we see a big difference between inserting values of the data row-by-row and inserting it as a binary blob."
   ]
  },
  {
   "cell_type": "markdown",
   "metadata": {},
   "source": [
    "## Loading the data "
   ]
  },
  {
   "cell_type": "code",
   "execution_count": 9,
   "metadata": {
    "execution": {
     "iopub.execute_input": "2020-12-15T13:53:12.736570Z",
     "iopub.status.busy": "2020-12-15T13:53:12.735654Z",
     "iopub.status.idle": "2020-12-15T13:53:12.740026Z",
     "shell.execute_reply": "2020-12-15T13:53:12.740636Z"
    }
   },
   "outputs": [],
   "source": [
    "from qcodes.dataset.data_set import load_by_id\n",
    "from qcodes.dataset.data_export import get_data_by_id"
   ]
  },
  {
   "cell_type": "markdown",
   "metadata": {},
   "source": [
    "As usual you can load the data by using the ``load_by_id`` function but you will notice that the different storage methods\n",
    "are reflected in shape of the data as it is retrieved. "
   ]
  },
  {
   "cell_type": "code",
   "execution_count": 10,
   "metadata": {
    "execution": {
     "iopub.execute_input": "2020-12-15T13:53:12.743809Z",
     "iopub.status.busy": "2020-12-15T13:53:12.742843Z",
     "iopub.status.idle": "2020-12-15T13:53:12.747479Z",
     "shell.execute_reply": "2020-12-15T13:53:12.747024Z"
    }
   },
   "outputs": [],
   "source": [
    "run_id_n = t_numeric_run_ids[0]\n",
    "run_id_a = t_array_run_ids[0]"
   ]
  },
  {
   "cell_type": "code",
   "execution_count": 11,
   "metadata": {
    "execution": {
     "iopub.execute_input": "2020-12-15T13:53:12.750925Z",
     "iopub.status.busy": "2020-12-15T13:53:12.750413Z",
     "iopub.status.idle": "2020-12-15T13:53:12.759535Z",
     "shell.execute_reply": "2020-12-15T13:53:12.759081Z"
    },
    "scrolled": true
   },
   "outputs": [
    {
     "data": {
      "text/plain": [
       "{'x1': {'x1': array([0.79992698, 0.79992698, 0.93591639, 0.93591639, 0.08789059,\n",
       "         0.08789059, 0.71475115, 0.71475115, 0.22529207, 0.22529207,\n",
       "         0.96096572, 0.96096572, 0.43970609, 0.43970609, 0.42420421,\n",
       "         0.42420421, 0.97315487, 0.97315487, 0.20214664, 0.20214664,\n",
       "         0.73709095, 0.73709095, 0.07272296, 0.07272296, 0.95589171,\n",
       "         0.95589171, 0.48618468, 0.48618468, 0.56788372, 0.56788372,\n",
       "         0.11804841, 0.11804841, 0.49585782, 0.49585782, 0.8581209 ,\n",
       "         0.8581209 , 0.87136337, 0.87136337, 0.86231088, 0.86231088,\n",
       "         0.65618146, 0.65618146, 0.16528259, 0.16528259, 0.31072612,\n",
       "         0.31072612, 0.94262779, 0.94262779, 0.68401071, 0.68401071,\n",
       "         0.41090601, 0.41090601, 0.0880308 , 0.0880308 , 0.2745217 ,\n",
       "         0.2745217 , 0.94366086, 0.94366086, 0.0527748 , 0.0527748 ,\n",
       "         0.71763271, 0.71763271, 0.88463944, 0.88463944, 0.20649289,\n",
       "         0.20649289, 0.77016561, 0.77016561, 0.39697067, 0.39697067,\n",
       "         0.60804362, 0.60804362, 0.60040408, 0.60040408, 0.12893888,\n",
       "         0.12893888, 0.78305934, 0.78305934, 0.52209201, 0.52209201,\n",
       "         0.37310665, 0.37310665, 0.88093436, 0.88093436, 0.86483103,\n",
       "         0.86483103, 0.86145436, 0.86145436, 0.52996781, 0.52996781,\n",
       "         0.68002231, 0.68002231, 0.38030793, 0.38030793, 0.06775341,\n",
       "         0.06775341, 0.24273927, 0.24273927, 0.56543755, 0.56543755,\n",
       "         0.96841756, 0.96841756, 0.04479925, 0.04479925, 0.23164004,\n",
       "         0.23164004, 0.64964678, 0.64964678, 0.59280863, 0.59280863,\n",
       "         0.09893944, 0.09893944, 0.93646145, 0.93646145, 0.81290085,\n",
       "         0.81290085, 0.79289956, 0.79289956, 0.86657527, 0.86657527,\n",
       "         0.3273607 , 0.3273607 , 0.01545136, 0.01545136, 0.25685177,\n",
       "         0.25685177, 0.97336113, 0.97336113, 0.32283206, 0.32283206,\n",
       "         0.31375897, 0.31375897, 0.79540111, 0.79540111, 0.9944398 ,\n",
       "         0.9944398 , 0.74024387, 0.74024387, 0.853776  , 0.853776  ,\n",
       "         0.80588814, 0.80588814, 0.31805836, 0.31805836, 0.64451887,\n",
       "         0.64451887, 0.7652809 , 0.7652809 , 0.85959621, 0.85959621,\n",
       "         0.63402306, 0.63402306, 0.40712332, 0.40712332, 0.16655021,\n",
       "         0.16655021, 0.49678422, 0.49678422, 0.42734158, 0.42734158,\n",
       "         0.06698394, 0.06698394, 0.42774914, 0.42774914, 0.88787878,\n",
       "         0.88787878, 0.25625626, 0.25625626, 0.17245532, 0.17245532,\n",
       "         0.23615508, 0.23615508, 0.27873762, 0.27873762, 0.56152791,\n",
       "         0.56152791, 0.07519719, 0.07519719, 0.64292313, 0.64292313,\n",
       "         0.38992176, 0.38992176, 0.84911236, 0.84911236, 0.53310108,\n",
       "         0.53310108, 0.9773974 , 0.9773974 , 0.81749594, 0.81749594,\n",
       "         0.69108573, 0.69108573, 0.13244604, 0.13244604, 0.12145792,\n",
       "         0.12145792, 0.20578862, 0.20578862, 0.42583545, 0.42583545])}}"
      ]
     },
     "execution_count": 1,
     "metadata": {},
     "output_type": "execute_result"
    }
   ],
   "source": [
    "ds = load_by_id(run_id_n)\n",
    "ds.get_parameter_data('x1')"
   ]
  },
  {
   "cell_type": "markdown",
   "metadata": {},
   "source": [
    "And a dataset stored as binary arrays"
   ]
  },
  {
   "cell_type": "code",
   "execution_count": 12,
   "metadata": {
    "execution": {
     "iopub.execute_input": "2020-12-15T13:53:12.762709Z",
     "iopub.status.busy": "2020-12-15T13:53:12.762203Z",
     "iopub.status.idle": "2020-12-15T13:53:12.812951Z",
     "shell.execute_reply": "2020-12-15T13:53:12.813486Z"
    },
    "scrolled": true
   },
   "outputs": [
    {
     "data": {
      "text/plain": [
       "{'x1': {'x1': array([[0.24276286],\n",
       "         [0.24276286],\n",
       "         [0.16565765],\n",
       "         [0.16565765],\n",
       "         [0.8511337 ],\n",
       "         [0.8511337 ],\n",
       "         [0.66089825],\n",
       "         [0.66089825],\n",
       "         [0.35254425],\n",
       "         [0.35254425],\n",
       "         [0.64821058],\n",
       "         [0.64821058],\n",
       "         [0.83295263],\n",
       "         [0.83295263],\n",
       "         [0.06248565],\n",
       "         [0.06248565],\n",
       "         [0.39747464],\n",
       "         [0.39747464],\n",
       "         [0.41266634],\n",
       "         [0.41266634],\n",
       "         [0.8548503 ],\n",
       "         [0.8548503 ],\n",
       "         [0.88812244],\n",
       "         [0.88812244],\n",
       "         [0.39424004],\n",
       "         [0.39424004],\n",
       "         [0.7300245 ],\n",
       "         [0.7300245 ],\n",
       "         [0.55305058],\n",
       "         [0.55305058],\n",
       "         [0.65853495],\n",
       "         [0.65853495],\n",
       "         [0.54023129],\n",
       "         [0.54023129],\n",
       "         [0.73697377],\n",
       "         [0.73697377],\n",
       "         [0.91735489],\n",
       "         [0.91735489],\n",
       "         [0.57992198],\n",
       "         [0.57992198],\n",
       "         [0.11722976],\n",
       "         [0.11722976],\n",
       "         [0.10680883],\n",
       "         [0.10680883],\n",
       "         [0.18111129],\n",
       "         [0.18111129],\n",
       "         [0.56703687],\n",
       "         [0.56703687],\n",
       "         [0.795078  ],\n",
       "         [0.795078  ],\n",
       "         [0.40884437],\n",
       "         [0.40884437],\n",
       "         [0.57289222],\n",
       "         [0.57289222],\n",
       "         [0.42964732],\n",
       "         [0.42964732],\n",
       "         [0.13928246],\n",
       "         [0.13928246],\n",
       "         [0.07038988],\n",
       "         [0.07038988],\n",
       "         [0.88544168],\n",
       "         [0.88544168],\n",
       "         [0.80445865],\n",
       "         [0.80445865],\n",
       "         [0.40549696],\n",
       "         [0.40549696],\n",
       "         [0.05344236],\n",
       "         [0.05344236],\n",
       "         [0.04553619],\n",
       "         [0.04553619],\n",
       "         [0.15730952],\n",
       "         [0.15730952],\n",
       "         [0.92376209],\n",
       "         [0.92376209],\n",
       "         [0.390194  ],\n",
       "         [0.390194  ],\n",
       "         [0.45512637],\n",
       "         [0.45512637],\n",
       "         [0.58982796],\n",
       "         [0.58982796],\n",
       "         [0.37641841],\n",
       "         [0.37641841],\n",
       "         [0.52939154],\n",
       "         [0.52939154],\n",
       "         [0.79280644],\n",
       "         [0.79280644],\n",
       "         [0.75743538],\n",
       "         [0.75743538],\n",
       "         [0.60170836],\n",
       "         [0.60170836],\n",
       "         [0.4525007 ],\n",
       "         [0.4525007 ],\n",
       "         [0.78304978],\n",
       "         [0.78304978],\n",
       "         [0.15050769],\n",
       "         [0.15050769],\n",
       "         [0.20829386],\n",
       "         [0.20829386],\n",
       "         [0.43909487],\n",
       "         [0.43909487],\n",
       "         [0.59476126],\n",
       "         [0.59476126],\n",
       "         [0.81545688],\n",
       "         [0.81545688],\n",
       "         [0.02427916],\n",
       "         [0.02427916],\n",
       "         [0.23915471],\n",
       "         [0.23915471],\n",
       "         [0.30084933],\n",
       "         [0.30084933],\n",
       "         [0.28784472],\n",
       "         [0.28784472],\n",
       "         [0.90484383],\n",
       "         [0.90484383],\n",
       "         [0.63103722],\n",
       "         [0.63103722],\n",
       "         [0.26206215],\n",
       "         [0.26206215],\n",
       "         [0.86949128],\n",
       "         [0.86949128],\n",
       "         [0.89742538],\n",
       "         [0.89742538],\n",
       "         [0.87210963],\n",
       "         [0.87210963],\n",
       "         [0.51858813],\n",
       "         [0.51858813],\n",
       "         [0.58789779],\n",
       "         [0.58789779],\n",
       "         [0.81184216],\n",
       "         [0.81184216],\n",
       "         [0.22704509],\n",
       "         [0.22704509],\n",
       "         [0.54165946],\n",
       "         [0.54165946],\n",
       "         [0.55295127],\n",
       "         [0.55295127],\n",
       "         [0.82136765],\n",
       "         [0.82136765],\n",
       "         [0.33400295],\n",
       "         [0.33400295],\n",
       "         [0.8460936 ],\n",
       "         [0.8460936 ],\n",
       "         [0.73936976],\n",
       "         [0.73936976],\n",
       "         [0.28266167],\n",
       "         [0.28266167],\n",
       "         [0.94870606],\n",
       "         [0.94870606],\n",
       "         [0.20927695],\n",
       "         [0.20927695],\n",
       "         [0.3458332 ],\n",
       "         [0.3458332 ],\n",
       "         [0.89681951],\n",
       "         [0.89681951],\n",
       "         [0.73618953],\n",
       "         [0.73618953],\n",
       "         [0.7243539 ],\n",
       "         [0.7243539 ],\n",
       "         [0.57772518],\n",
       "         [0.57772518],\n",
       "         [0.69226837],\n",
       "         [0.69226837],\n",
       "         [0.43086133],\n",
       "         [0.43086133],\n",
       "         [0.9855047 ],\n",
       "         [0.9855047 ],\n",
       "         [0.26551356],\n",
       "         [0.26551356],\n",
       "         [0.87134576],\n",
       "         [0.87134576],\n",
       "         [0.09346875],\n",
       "         [0.09346875],\n",
       "         [0.63157745],\n",
       "         [0.63157745],\n",
       "         [0.59852154],\n",
       "         [0.59852154],\n",
       "         [0.29119317],\n",
       "         [0.29119317],\n",
       "         [0.31060815],\n",
       "         [0.31060815],\n",
       "         [0.32689141],\n",
       "         [0.32689141],\n",
       "         [0.10725063],\n",
       "         [0.10725063],\n",
       "         [0.37787573],\n",
       "         [0.37787573],\n",
       "         [0.4669299 ],\n",
       "         [0.4669299 ],\n",
       "         [0.60713498],\n",
       "         [0.60713498],\n",
       "         [0.25838934],\n",
       "         [0.25838934],\n",
       "         [0.28760554],\n",
       "         [0.28760554],\n",
       "         [0.56770051],\n",
       "         [0.56770051],\n",
       "         [0.58525695],\n",
       "         [0.58525695],\n",
       "         [0.78449117],\n",
       "         [0.78449117]])}}"
      ]
     },
     "execution_count": 1,
     "metadata": {},
     "output_type": "execute_result"
    }
   ],
   "source": [
    "ds = load_by_id(run_id_a)\n",
    "ds.get_parameter_data('x1')"
   ]
  },
  {
   "cell_type": "code",
   "execution_count": null,
   "metadata": {},
   "outputs": [],
   "source": []
  }
 ],
 "metadata": {
  "kernelspec": {
   "display_name": "Python 3",
   "language": "python",
   "name": "python3"
  },
  "language_info": {
   "codemirror_mode": {
    "name": "ipython",
    "version": 3
   },
   "file_extension": ".py",
   "mimetype": "text/x-python",
   "name": "python",
   "nbconvert_exporter": "python",
   "pygments_lexer": "ipython3",
   "version": "3.7.9"
  },
  "nbsphinx": {
   "timeout": 600
  },
  "toc": {
   "base_numbering": 1,
   "nav_menu": {},
   "number_sections": true,
   "sideBar": true,
   "skip_h1_title": false,
   "title_cell": "Table of Contents",
   "title_sidebar": "Contents",
   "toc_cell": false,
   "toc_position": {},
   "toc_section_display": true,
   "toc_window_display": false
  },
  "varInspector": {
   "cols": {
    "lenName": 16,
    "lenType": 16,
    "lenVar": 40
   },
   "kernels_config": {
    "python": {
     "delete_cmd_postfix": "",
     "delete_cmd_prefix": "del ",
     "library": "var_list.py",
     "varRefreshCmd": "print(var_dic_list())"
    },
    "r": {
     "delete_cmd_postfix": ") ",
     "delete_cmd_prefix": "rm(",
     "library": "var_list.r",
     "varRefreshCmd": "cat(var_dic_list()) "
    }
   },
   "types_to_exclude": [
    "module",
    "function",
    "builtin_function_or_method",
    "instance",
    "_Feature"
   ],
   "window_display": false
  }
 },
 "nbformat": 4,
 "nbformat_minor": 2
}
