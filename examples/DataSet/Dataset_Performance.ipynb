{
 "cells": [
  {
   "cell_type": "markdown",
   "metadata": {},
   "source": [
    "# DataSet Performance\n",
    "\n",
    "This notebook shows the trade-off between inserting data into a database row-by-row and as binary blobs. Inserting the data row-by-row means that we have direct access to all the data and may perform queries directly on the values of the data. On the other hand, as we shall see, this is much slower than inserting the data directly as binary blobs."
   ]
  },
  {
   "cell_type": "markdown",
   "metadata": {},
   "source": [
    "First, we choose a new location for the database to ensure that we don't add a bunch of benchmarking data to the default one."
   ]
  },
  {
   "cell_type": "code",
   "execution_count": 1,
   "metadata": {
    "execution": {
     "iopub.execute_input": "2021-04-12T06:58:42.400711Z",
     "iopub.status.busy": "2021-04-12T06:58:42.400181Z",
     "iopub.status.idle": "2021-04-12T06:58:43.409797Z",
     "shell.execute_reply": "2021-04-12T06:58:43.410259Z"
    }
   },
   "outputs": [
    {
     "name": "stdout",
     "output_type": "stream",
     "text": [
      "Logging hadn't been started.\n",
      "Activating auto-logging. Current session state plus future input saved.\n",
      "Filename       : /home/runner/.qcodes/logs/command_history.log\n",
      "Mode           : append\n",
      "Output logging : True\n",
      "Raw input log  : False\n",
      "Timestamping   : True\n",
      "State          : active\n"
     ]
    },
    {
     "name": "stdout",
     "output_type": "stream",
     "text": [
      "Qcodes Logfile : /home/runner/.qcodes/logs/210412-4409-qcodes.log\n"
     ]
    }
   ],
   "source": [
    "import os\n",
    "cwd = os.getcwd()\n",
    "import qcodes as qc\n",
    "qc.config[\"core\"][\"db_location\"] = os.path.join(cwd, 'testing.db')\n"
   ]
  },
  {
   "cell_type": "code",
   "execution_count": 2,
   "metadata": {
    "execution": {
     "iopub.execute_input": "2021-04-12T06:58:43.417379Z",
     "iopub.status.busy": "2021-04-12T06:58:43.415469Z",
     "iopub.status.idle": "2021-04-12T06:58:43.628008Z",
     "shell.execute_reply": "2021-04-12T06:58:43.627126Z"
    }
   },
   "outputs": [],
   "source": [
    "%matplotlib inline\n",
    "import time\n",
    "import matplotlib.pyplot as plt\n",
    "import numpy as np\n",
    "\n",
    "import qcodes as qc\n",
    "from qcodes.instrument.parameter import ManualParameter\n",
    "from qcodes.dataset.experiment_container import (Experiment,\n",
    "                                                 load_last_experiment,\n",
    "                                                 new_experiment)\n",
    "from qcodes.dataset.sqlite.database import initialise_database\n",
    "from qcodes import load_or_create_experiment\n",
    "from qcodes.dataset.measurements import Measurement"
   ]
  },
  {
   "cell_type": "code",
   "execution_count": 3,
   "metadata": {
    "execution": {
     "iopub.execute_input": "2021-04-12T06:58:43.631813Z",
     "iopub.status.busy": "2021-04-12T06:58:43.631286Z",
     "iopub.status.idle": "2021-04-12T06:58:43.707868Z",
     "shell.execute_reply": "2021-04-12T06:58:43.708331Z"
    }
   },
   "outputs": [
    {
     "name": "stdout",
     "output_type": "stream",
     "text": [
      "\r",
      "0it [00:00, ?it/s]"
     ]
    },
    {
     "name": "stdout",
     "output_type": "stream",
     "text": [
      "\r",
      "Upgrading database; v0 -> v1: : 0it [00:00, ?it/s]"
     ]
    },
    {
     "name": "stdout",
     "output_type": "stream",
     "text": [
      "\r",
      "Upgrading database; v0 -> v1: : 0it [00:00, ?it/s]"
     ]
    },
    {
     "name": "stdout",
     "output_type": "stream",
     "text": [
      "\n",
      "\r",
      "  0%|          | 0/1 [00:00<?, ?it/s]"
     ]
    },
    {
     "name": "stdout",
     "output_type": "stream",
     "text": [
      "\r",
      "Upgrading database; v1 -> v2:   0%|          | 0/1 [00:00<?, ?it/s]"
     ]
    },
    {
     "name": "stdout",
     "output_type": "stream",
     "text": [
      "\r",
      "Upgrading database; v1 -> v2: 100%|██████████| 1/1 [00:00<00:00, 436.36it/s]"
     ]
    },
    {
     "name": "stdout",
     "output_type": "stream",
     "text": [
      "\n",
      "\r",
      "0it [00:00, ?it/s]"
     ]
    },
    {
     "name": "stdout",
     "output_type": "stream",
     "text": [
      "\r",
      "Upgrading database; v2 -> v3: : 0it [00:00, ?it/s]"
     ]
    },
    {
     "name": "stdout",
     "output_type": "stream",
     "text": [
      "\r",
      "Upgrading database; v2 -> v3: : 0it [00:00, ?it/s]"
     ]
    },
    {
     "name": "stdout",
     "output_type": "stream",
     "text": [
      "\n",
      "\r",
      "0it [00:00, ?it/s]"
     ]
    },
    {
     "name": "stdout",
     "output_type": "stream",
     "text": [
      "\r",
      "Upgrading database; v3 -> v4: : 0it [00:00, ?it/s]"
     ]
    },
    {
     "name": "stdout",
     "output_type": "stream",
     "text": [
      "\r",
      "Upgrading database; v3 -> v4: : 0it [00:00, ?it/s]"
     ]
    },
    {
     "name": "stdout",
     "output_type": "stream",
     "text": [
      "\n",
      "\r",
      "  0%|          | 0/1 [00:00<?, ?it/s]"
     ]
    },
    {
     "name": "stdout",
     "output_type": "stream",
     "text": [
      "\r",
      "Upgrading database; v4 -> v5:   0%|          | 0/1 [00:00<?, ?it/s]"
     ]
    },
    {
     "name": "stdout",
     "output_type": "stream",
     "text": [
      "\r",
      "Upgrading database; v4 -> v5: 100%|██████████| 1/1 [00:00<00:00, 304.95it/s]"
     ]
    },
    {
     "name": "stdout",
     "output_type": "stream",
     "text": [
      "\n",
      "\r",
      "0it [00:00, ?it/s]"
     ]
    },
    {
     "name": "stdout",
     "output_type": "stream",
     "text": [
      "\r",
      "Upgrading database; v5 -> v6: : 0it [00:00, ?it/s]"
     ]
    },
    {
     "name": "stdout",
     "output_type": "stream",
     "text": [
      "\r",
      "Upgrading database; v5 -> v6: : 0it [00:00, ?it/s]"
     ]
    },
    {
     "name": "stdout",
     "output_type": "stream",
     "text": [
      "\n",
      "\r",
      "  0%|          | 0/1 [00:00<?, ?it/s]"
     ]
    },
    {
     "name": "stdout",
     "output_type": "stream",
     "text": [
      "\r",
      "Upgrading database; v6 -> v7:   0%|          | 0/1 [00:00<?, ?it/s]"
     ]
    },
    {
     "name": "stdout",
     "output_type": "stream",
     "text": [
      "\r",
      "Upgrading database; v6 -> v7: 100%|██████████| 1/1 [00:00<00:00, 338.58it/s]"
     ]
    },
    {
     "name": "stdout",
     "output_type": "stream",
     "text": [
      "\n",
      "\r",
      "  0%|          | 0/1 [00:00<?, ?it/s]"
     ]
    },
    {
     "name": "stdout",
     "output_type": "stream",
     "text": [
      "\r",
      "Upgrading database; v7 -> v8:   0%|          | 0/1 [00:00<?, ?it/s]"
     ]
    },
    {
     "name": "stdout",
     "output_type": "stream",
     "text": [
      "\r",
      "Upgrading database; v7 -> v8: 100%|██████████| 1/1 [00:00<00:00, 343.65it/s]"
     ]
    },
    {
     "name": "stdout",
     "output_type": "stream",
     "text": [
      "\n",
      "\r",
      "  0%|          | 0/1 [00:00<?, ?it/s]"
     ]
    },
    {
     "name": "stdout",
     "output_type": "stream",
     "text": [
      "\r",
      "Upgrading database; v8 -> v9:   0%|          | 0/1 [00:00<?, ?it/s]"
     ]
    },
    {
     "name": "stdout",
     "output_type": "stream",
     "text": [
      "\r",
      "Upgrading database; v8 -> v9: 100%|██████████| 1/1 [00:00<00:00, 1214.68it/s]"
     ]
    },
    {
     "name": "stdout",
     "output_type": "stream",
     "text": [
      "\n"
     ]
    }
   ],
   "source": [
    "initialise_database()\n",
    "exp = load_or_create_experiment(experiment_name='tutorial_exp', sample_name=\"no sample\")"
   ]
  },
  {
   "cell_type": "markdown",
   "metadata": {},
   "source": [
    "Here, we define a simple function to benchmark the time it takes to insert n points with either numeric or array data type.\n",
    "We will compare both the time used to call ``add_result`` and the time used for the full measurement."
   ]
  },
  {
   "cell_type": "code",
   "execution_count": 4,
   "metadata": {
    "execution": {
     "iopub.execute_input": "2021-04-12T06:58:43.716504Z",
     "iopub.status.busy": "2021-04-12T06:58:43.715869Z",
     "iopub.status.idle": "2021-04-12T06:58:43.719399Z",
     "shell.execute_reply": "2021-04-12T06:58:43.719909Z"
    }
   },
   "outputs": [],
   "source": [
    "def insert_data(paramtype, npoints, nreps=1):\n",
    "\n",
    "    meas = Measurement(exp=exp)\n",
    "\n",
    "    x1 = ManualParameter('x1')\n",
    "    x2 = ManualParameter('x2')\n",
    "    x3 = ManualParameter('x3')\n",
    "    y1 = ManualParameter('y1')\n",
    "    y2 = ManualParameter('y2')\n",
    "\n",
    "    meas.register_parameter(x1, paramtype=paramtype)\n",
    "    meas.register_parameter(x2, paramtype=paramtype)\n",
    "    meas.register_parameter(x3, paramtype=paramtype)\n",
    "    meas.register_parameter(y1, setpoints=[x1, x2, x3],\n",
    "                            paramtype=paramtype)\n",
    "    meas.register_parameter(y2, setpoints=[x1, x2, x3],\n",
    "                            paramtype=paramtype)\n",
    "    start = time.perf_counter()\n",
    "    with meas.run() as datasaver:\n",
    "        start_adding = time.perf_counter()\n",
    "        for i in range(nreps):\n",
    "            datasaver.add_result((x1, np.random.rand(npoints)),\n",
    "                                 (x2, np.random.rand(npoints)),\n",
    "                                 (x3, np.random.rand(npoints)),\n",
    "                                 (y1, np.random.rand(npoints)),\n",
    "                                 (y2, np.random.rand(npoints)))\n",
    "        stop_adding = time.perf_counter()\n",
    "        run_id = datasaver.run_id\n",
    "    stop = time.perf_counter()\n",
    "    tot_time = stop - start\n",
    "    add_time = stop_adding - start_adding\n",
    "    return tot_time, add_time, run_id"
   ]
  },
  {
   "cell_type": "markdown",
   "metadata": {},
   "source": [
    "## Comparison between numeric/array data and binary blob"
   ]
  },
  {
   "cell_type": "markdown",
   "metadata": {},
   "source": [
    "### Case1: Short experiment time"
   ]
  },
  {
   "cell_type": "code",
   "execution_count": 5,
   "metadata": {
    "execution": {
     "iopub.execute_input": "2021-04-12T06:58:43.725518Z",
     "iopub.status.busy": "2021-04-12T06:58:43.724613Z",
     "iopub.status.idle": "2021-04-12T06:58:44.454446Z",
     "shell.execute_reply": "2021-04-12T06:58:44.453777Z"
    }
   },
   "outputs": [
    {
     "name": "stdout",
     "output_type": "stream",
     "text": [
      "Starting experimental run with id: 1. \n",
      "Starting experimental run with id: 2. \n",
      "Starting experimental run with id: 3. \n",
      "Starting experimental run with id: 4. \n",
      "Starting experimental run with id: 5. \n"
     ]
    },
    {
     "name": "stdout",
     "output_type": "stream",
     "text": [
      "Starting experimental run with id: 6. \n"
     ]
    },
    {
     "name": "stdout",
     "output_type": "stream",
     "text": [
      "Starting experimental run with id: 7. \n"
     ]
    },
    {
     "name": "stdout",
     "output_type": "stream",
     "text": [
      "Starting experimental run with id: 8. \n",
      "Starting experimental run with id: 9. \n"
     ]
    },
    {
     "name": "stdout",
     "output_type": "stream",
     "text": [
      "Starting experimental run with id: 10. \n",
      "Starting experimental run with id: 11. \n"
     ]
    },
    {
     "name": "stdout",
     "output_type": "stream",
     "text": [
      "Starting experimental run with id: 12. \n",
      "Starting experimental run with id: 13. \n",
      "Starting experimental run with id: 14. \n"
     ]
    }
   ],
   "source": [
    "sizes = [1,500,1000,2000,3000,4000,5000]\n",
    "t_numeric = []\n",
    "t_numeric_add = []\n",
    "t_array = []\n",
    "t_array_add = []\n",
    "for size in sizes:\n",
    "    tn, tna, run_id_n =  insert_data('numeric', size)\n",
    "    t_numeric.append(tn)\n",
    "    t_numeric_add.append(tna)\n",
    "\n",
    "    ta, taa, run_id_a =  insert_data('array', size)\n",
    "    t_array.append(ta)\n",
    "    t_array_add.append(taa)"
   ]
  },
  {
   "cell_type": "code",
   "execution_count": 6,
   "metadata": {
    "execution": {
     "iopub.execute_input": "2021-04-12T06:58:44.482636Z",
     "iopub.status.busy": "2021-04-12T06:58:44.458694Z",
     "iopub.status.idle": "2021-04-12T06:58:44.700111Z",
     "shell.execute_reply": "2021-04-12T06:58:44.700803Z"
    }
   },
   "outputs": [
    {
     "data": {
      "image/png": "[encoded data removed]",
      "text/plain": [
       "<Figure size 432x288 with 1 Axes>"
      ]
     },
     "metadata": {
      "needs_background": "light"
     },
     "output_type": "display_data"
    }
   ],
   "source": [
    "fig, ax = plt.subplots(1,1)\n",
    "ax.plot(sizes, t_numeric, 'o-', label='Inserting row-by-row')\n",
    "ax.plot(sizes, t_numeric_add, 'o-', label='Inserting row-by-row: add_result only')\n",
    "ax.plot(sizes, t_array, 'd-', label='Inserting as binary blob')\n",
    "ax.plot(sizes, t_array_add, 'd-', label='Inserting as binary blob: add_result only')\n",
    "ax.legend()\n",
    "ax.set_xlabel('Array length')\n",
    "ax.set_ylabel('Time (s)')\n",
    "fig.tight_layout()"
   ]
  },
  {
   "cell_type": "markdown",
   "metadata": {},
   "source": [
    "As shown in the latter figure, the time to setup and and close the experiment is approximately 0.4 sec. In case of small array sizes, the difference between inserting values of data as arrays and inserting them row-by-row is relatively unimportant. At larger array sizes, i.e. above 10000 points, the cost of writing data as individual datapoints starts to become important.\n"
   ]
  },
  {
   "cell_type": "markdown",
   "metadata": {},
   "source": [
    "### Case2: Long experiment time "
   ]
  },
  {
   "cell_type": "code",
   "execution_count": 7,
   "metadata": {
    "execution": {
     "iopub.execute_input": "2021-04-12T06:58:44.707893Z",
     "iopub.status.busy": "2021-04-12T06:58:44.705654Z",
     "iopub.status.idle": "2021-04-12T06:59:34.912339Z",
     "shell.execute_reply": "2021-04-12T06:59:34.911510Z"
    }
   },
   "outputs": [
    {
     "name": "stdout",
     "output_type": "stream",
     "text": [
      "Starting experimental run with id: 15. \n",
      "Starting experimental run with id: 16. \n",
      "Starting experimental run with id: 17. \n"
     ]
    },
    {
     "name": "stdout",
     "output_type": "stream",
     "text": [
      "Starting experimental run with id: 18. \n",
      "Starting experimental run with id: 19. \n"
     ]
    },
    {
     "name": "stdout",
     "output_type": "stream",
     "text": [
      "Starting experimental run with id: 20. \n"
     ]
    },
    {
     "name": "stdout",
     "output_type": "stream",
     "text": [
      "Starting experimental run with id: 21. \n"
     ]
    },
    {
     "name": "stdout",
     "output_type": "stream",
     "text": [
      "Starting experimental run with id: 22. \n"
     ]
    },
    {
     "name": "stdout",
     "output_type": "stream",
     "text": [
      "Starting experimental run with id: 23. \n"
     ]
    },
    {
     "name": "stdout",
     "output_type": "stream",
     "text": [
      "Starting experimental run with id: 24. \n"
     ]
    },
    {
     "name": "stdout",
     "output_type": "stream",
     "text": [
      "Starting experimental run with id: 25. \n"
     ]
    },
    {
     "name": "stdout",
     "output_type": "stream",
     "text": [
      "Starting experimental run with id: 26. \n"
     ]
    },
    {
     "name": "stdout",
     "output_type": "stream",
     "text": [
      "Starting experimental run with id: 27. \n"
     ]
    },
    {
     "name": "stdout",
     "output_type": "stream",
     "text": [
      "Starting experimental run with id: 28. \n"
     ]
    }
   ],
   "source": [
    "sizes = [1,500,1000,2000,3000,4000,5000]\n",
    "nreps = 100\n",
    "t_numeric = []\n",
    "t_numeric_add = []\n",
    "t_numeric_run_ids = []\n",
    "t_array = []\n",
    "t_array_add = []\n",
    "t_array_run_ids = []\n",
    "for size in sizes:\n",
    "    tn, tna, run_id_n =  insert_data('numeric', size, nreps=nreps)\n",
    "    t_numeric.append(tn)\n",
    "    t_numeric_add.append(tna)\n",
    "    t_numeric_run_ids.append(run_id_n)\n",
    "\n",
    "    ta, taa, run_id_a =  insert_data('array', size, nreps=nreps)\n",
    "    t_array.append(ta)\n",
    "    t_array_add.append(taa)\n",
    "    t_array_run_ids.append(run_id_a)"
   ]
  },
  {
   "cell_type": "code",
   "execution_count": 8,
   "metadata": {
    "execution": {
     "iopub.execute_input": "2021-04-12T06:59:34.944198Z",
     "iopub.status.busy": "2021-04-12T06:59:34.930394Z",
     "iopub.status.idle": "2021-04-12T06:59:35.138696Z",
     "shell.execute_reply": "2021-04-12T06:59:35.138254Z"
    },
    "scrolled": true
   },
   "outputs": [
    {
     "data": {
      "image/png": "[encoded data removed]",
      "text/plain": [
       "<Figure size 432x288 with 1 Axes>"
      ]
     },
     "metadata": {
      "needs_background": "light"
     },
     "output_type": "display_data"
    }
   ],
   "source": [
    "fig, ax = plt.subplots(1,1)\n",
    "ax.plot(sizes, t_numeric, 'o-', label='Inserting row-by-row')\n",
    "ax.plot(sizes, t_numeric_add, 'o-', label='Inserting row-by-row: add_result only')\n",
    "ax.plot(sizes, t_array, 'd-', label='Inserting as binary blob')\n",
    "ax.plot(sizes, t_array_add, 'd-', label='Inserting as binary blob: add_result only')\n",
    "ax.legend()\n",
    "ax.set_xlabel('Array length')\n",
    "ax.set_ylabel('Time (s)')\n",
    "fig.tight_layout()"
   ]
  },
  {
   "cell_type": "markdown",
   "metadata": {},
   "source": [
    "However, as we increase the length of the experiment, as seen here by repeating the insertion 100 times, we see a big difference between inserting values of the data row-by-row and inserting it as a binary blob."
   ]
  },
  {
   "cell_type": "markdown",
   "metadata": {},
   "source": [
    "## Loading the data "
   ]
  },
  {
   "cell_type": "code",
   "execution_count": 9,
   "metadata": {
    "execution": {
     "iopub.execute_input": "2021-04-12T06:59:35.142730Z",
     "iopub.status.busy": "2021-04-12T06:59:35.142184Z",
     "iopub.status.idle": "2021-04-12T06:59:35.145528Z",
     "shell.execute_reply": "2021-04-12T06:59:35.145970Z"
    }
   },
   "outputs": [],
   "source": [
    "from qcodes.dataset.data_set import load_by_id\n",
    "from qcodes.dataset.data_export import get_data_by_id"
   ]
  },
  {
   "cell_type": "markdown",
   "metadata": {},
   "source": [
    "As usual you can load the data by using the ``load_by_id`` function but you will notice that the different storage methods\n",
    "are reflected in shape of the data as it is retrieved. "
   ]
  },
  {
   "cell_type": "code",
   "execution_count": 10,
   "metadata": {
    "execution": {
     "iopub.execute_input": "2021-04-12T06:59:35.150679Z",
     "iopub.status.busy": "2021-04-12T06:59:35.149459Z",
     "iopub.status.idle": "2021-04-12T06:59:35.151321Z",
     "shell.execute_reply": "2021-04-12T06:59:35.151776Z"
    }
   },
   "outputs": [],
   "source": [
    "run_id_n = t_numeric_run_ids[0]\n",
    "run_id_a = t_array_run_ids[0]"
   ]
  },
  {
   "cell_type": "code",
   "execution_count": 11,
   "metadata": {
    "execution": {
     "iopub.execute_input": "2021-04-12T06:59:35.155362Z",
     "iopub.status.busy": "2021-04-12T06:59:35.154829Z",
     "iopub.status.idle": "2021-04-12T06:59:35.163727Z",
     "shell.execute_reply": "2021-04-12T06:59:35.163171Z"
    },
    "scrolled": true
   },
   "outputs": [
    {
     "data": {
      "text/plain": [
       "{'x1': {'x1': array([0.58707979, 0.58707979, 0.38816599, 0.38816599, 0.6570896 ,\n",
       "         0.6570896 , 0.23524773, 0.23524773, 0.21987436, 0.21987436,\n",
       "         0.89659149, 0.89659149, 0.34614304, 0.34614304, 0.65339248,\n",
       "         0.65339248, 0.42153519, 0.42153519, 0.69007886, 0.69007886,\n",
       "         0.53238714, 0.53238714, 0.23987459, 0.23987459, 0.00938161,\n",
       "         0.00938161, 0.84423318, 0.84423318, 0.57613425, 0.57613425,\n",
       "         0.22347497, 0.22347497, 0.76339177, 0.76339177, 0.33404367,\n",
       "         0.33404367, 0.22115206, 0.22115206, 0.1888544 , 0.1888544 ,\n",
       "         0.98790625, 0.98790625, 0.10153171, 0.10153171, 0.9153731 ,\n",
       "         0.9153731 , 0.00338858, 0.00338858, 0.25148974, 0.25148974,\n",
       "         0.59166131, 0.59166131, 0.39691018, 0.39691018, 0.96442869,\n",
       "         0.96442869, 0.39934007, 0.39934007, 0.58900776, 0.58900776,\n",
       "         0.56901222, 0.56901222, 0.90895948, 0.90895948, 0.36059275,\n",
       "         0.36059275, 0.92808547, 0.92808547, 0.86617801, 0.86617801,\n",
       "         0.44209526, 0.44209526, 0.77586602, 0.77586602, 0.02970624,\n",
       "         0.02970624, 0.38021732, 0.38021732, 0.81147013, 0.81147013,\n",
       "         0.59750242, 0.59750242, 0.17411656, 0.17411656, 0.22204226,\n",
       "         0.22204226, 0.80328179, 0.80328179, 0.67455266, 0.67455266,\n",
       "         0.32896809, 0.32896809, 0.82222301, 0.82222301, 0.74097629,\n",
       "         0.74097629, 0.36208908, 0.36208908, 0.65944113, 0.65944113,\n",
       "         0.39333247, 0.39333247, 0.66948677, 0.66948677, 0.80427996,\n",
       "         0.80427996, 0.0606932 , 0.0606932 , 0.79803813, 0.79803813,\n",
       "         0.19588716, 0.19588716, 0.49428652, 0.49428652, 0.91429126,\n",
       "         0.91429126, 0.87406227, 0.87406227, 0.4384213 , 0.4384213 ,\n",
       "         0.12611656, 0.12611656, 0.05667405, 0.05667405, 0.89869987,\n",
       "         0.89869987, 0.38865601, 0.38865601, 0.54793401, 0.54793401,\n",
       "         0.83775576, 0.83775576, 0.12248041, 0.12248041, 0.78196719,\n",
       "         0.78196719, 0.12796819, 0.12796819, 0.27404427, 0.27404427,\n",
       "         0.9657251 , 0.9657251 , 0.85570648, 0.85570648, 0.9721549 ,\n",
       "         0.9721549 , 0.1267936 , 0.1267936 , 0.50552393, 0.50552393,\n",
       "         0.12748322, 0.12748322, 0.18327407, 0.18327407, 0.23864641,\n",
       "         0.23864641, 0.77054397, 0.77054397, 0.91438244, 0.91438244,\n",
       "         0.24299327, 0.24299327, 0.02625305, 0.02625305, 0.14814964,\n",
       "         0.14814964, 0.73312031, 0.73312031, 0.93124037, 0.93124037,\n",
       "         0.85020268, 0.85020268, 0.29611234, 0.29611234, 0.19446082,\n",
       "         0.19446082, 0.07904365, 0.07904365, 0.75833702, 0.75833702,\n",
       "         0.71219366, 0.71219366, 0.36770912, 0.36770912, 0.5335524 ,\n",
       "         0.5335524 , 0.63444251, 0.63444251, 0.36027171, 0.36027171,\n",
       "         0.53576775, 0.53576775, 0.13906936, 0.13906936, 0.38844981,\n",
       "         0.38844981, 0.43042388, 0.43042388, 0.58529863, 0.58529863])}}"
      ]
     },
     "execution_count": 1,
     "metadata": {},
     "output_type": "execute_result"
    }
   ],
   "source": [
    "ds = load_by_id(run_id_n)\n",
    "ds.get_parameter_data('x1')"
   ]
  },
  {
   "cell_type": "markdown",
   "metadata": {},
   "source": [
    "And a dataset stored as binary arrays"
   ]
  },
  {
   "cell_type": "code",
   "execution_count": 12,
   "metadata": {
    "execution": {
     "iopub.execute_input": "2021-04-12T06:59:35.167470Z",
     "iopub.status.busy": "2021-04-12T06:59:35.166871Z",
     "iopub.status.idle": "2021-04-12T06:59:35.222681Z",
     "shell.execute_reply": "2021-04-12T06:59:35.223085Z"
    },
    "scrolled": true
   },
   "outputs": [
    {
     "data": {
      "text/plain": [
       "{'x1': {'x1': array([[0.31372528],\n",
       "         [0.31372528],\n",
       "         [0.85296254],\n",
       "         [0.85296254],\n",
       "         [0.3480748 ],\n",
       "         [0.3480748 ],\n",
       "         [0.28649006],\n",
       "         [0.28649006],\n",
       "         [0.73320397],\n",
       "         [0.73320397],\n",
       "         [0.26296259],\n",
       "         [0.26296259],\n",
       "         [0.33087609],\n",
       "         [0.33087609],\n",
       "         [0.97205765],\n",
       "         [0.97205765],\n",
       "         [0.82461826],\n",
       "         [0.82461826],\n",
       "         [0.99382066],\n",
       "         [0.99382066],\n",
       "         [0.88408677],\n",
       "         [0.88408677],\n",
       "         [0.74570114],\n",
       "         [0.74570114],\n",
       "         [0.92134898],\n",
       "         [0.92134898],\n",
       "         [0.50914697],\n",
       "         [0.50914697],\n",
       "         [0.63206976],\n",
       "         [0.63206976],\n",
       "         [0.92127181],\n",
       "         [0.92127181],\n",
       "         [0.46555712],\n",
       "         [0.46555712],\n",
       "         [0.00288855],\n",
       "         [0.00288855],\n",
       "         [0.69766637],\n",
       "         [0.69766637],\n",
       "         [0.22710158],\n",
       "         [0.22710158],\n",
       "         [0.58216065],\n",
       "         [0.58216065],\n",
       "         [0.72105635],\n",
       "         [0.72105635],\n",
       "         [0.80186612],\n",
       "         [0.80186612],\n",
       "         [0.14712186],\n",
       "         [0.14712186],\n",
       "         [0.3201009 ],\n",
       "         [0.3201009 ],\n",
       "         [0.71838938],\n",
       "         [0.71838938],\n",
       "         [0.97710261],\n",
       "         [0.97710261],\n",
       "         [0.70251089],\n",
       "         [0.70251089],\n",
       "         [0.30099358],\n",
       "         [0.30099358],\n",
       "         [0.46021664],\n",
       "         [0.46021664],\n",
       "         [0.30284556],\n",
       "         [0.30284556],\n",
       "         [0.39261994],\n",
       "         [0.39261994],\n",
       "         [0.08876412],\n",
       "         [0.08876412],\n",
       "         [0.81287672],\n",
       "         [0.81287672],\n",
       "         [0.49412778],\n",
       "         [0.49412778],\n",
       "         [0.04115445],\n",
       "         [0.04115445],\n",
       "         [0.61356501],\n",
       "         [0.61356501],\n",
       "         [0.03547314],\n",
       "         [0.03547314],\n",
       "         [0.58735703],\n",
       "         [0.58735703],\n",
       "         [0.93817346],\n",
       "         [0.93817346],\n",
       "         [0.20688947],\n",
       "         [0.20688947],\n",
       "         [0.6500458 ],\n",
       "         [0.6500458 ],\n",
       "         [0.11582012],\n",
       "         [0.11582012],\n",
       "         [0.55026431],\n",
       "         [0.55026431],\n",
       "         [0.45039683],\n",
       "         [0.45039683],\n",
       "         [0.54363959],\n",
       "         [0.54363959],\n",
       "         [0.52876956],\n",
       "         [0.52876956],\n",
       "         [0.27766417],\n",
       "         [0.27766417],\n",
       "         [0.17503844],\n",
       "         [0.17503844],\n",
       "         [0.02320675],\n",
       "         [0.02320675],\n",
       "         [0.92549751],\n",
       "         [0.92549751],\n",
       "         [0.51636624],\n",
       "         [0.51636624],\n",
       "         [0.99124216],\n",
       "         [0.99124216],\n",
       "         [0.24808689],\n",
       "         [0.24808689],\n",
       "         [0.40980402],\n",
       "         [0.40980402],\n",
       "         [0.12114636],\n",
       "         [0.12114636],\n",
       "         [0.50949479],\n",
       "         [0.50949479],\n",
       "         [0.6329424 ],\n",
       "         [0.6329424 ],\n",
       "         [0.57720791],\n",
       "         [0.57720791],\n",
       "         [0.42763206],\n",
       "         [0.42763206],\n",
       "         [0.99249249],\n",
       "         [0.99249249],\n",
       "         [0.207391  ],\n",
       "         [0.207391  ],\n",
       "         [0.07057297],\n",
       "         [0.07057297],\n",
       "         [0.58454671],\n",
       "         [0.58454671],\n",
       "         [0.65320314],\n",
       "         [0.65320314],\n",
       "         [0.15298406],\n",
       "         [0.15298406],\n",
       "         [0.95126067],\n",
       "         [0.95126067],\n",
       "         [0.53107541],\n",
       "         [0.53107541],\n",
       "         [0.57688263],\n",
       "         [0.57688263],\n",
       "         [0.34819875],\n",
       "         [0.34819875],\n",
       "         [0.29431787],\n",
       "         [0.29431787],\n",
       "         [0.72377729],\n",
       "         [0.72377729],\n",
       "         [0.46890686],\n",
       "         [0.46890686],\n",
       "         [0.43420551],\n",
       "         [0.43420551],\n",
       "         [0.74444449],\n",
       "         [0.74444449],\n",
       "         [0.18598116],\n",
       "         [0.18598116],\n",
       "         [0.37446716],\n",
       "         [0.37446716],\n",
       "         [0.86933674],\n",
       "         [0.86933674],\n",
       "         [0.51618076],\n",
       "         [0.51618076],\n",
       "         [0.33155368],\n",
       "         [0.33155368],\n",
       "         [0.66608093],\n",
       "         [0.66608093],\n",
       "         [0.24171757],\n",
       "         [0.24171757],\n",
       "         [0.9088658 ],\n",
       "         [0.9088658 ],\n",
       "         [0.39011201],\n",
       "         [0.39011201],\n",
       "         [0.42866806],\n",
       "         [0.42866806],\n",
       "         [0.11899552],\n",
       "         [0.11899552],\n",
       "         [0.67529671],\n",
       "         [0.67529671],\n",
       "         [0.67556483],\n",
       "         [0.67556483],\n",
       "         [0.09845004],\n",
       "         [0.09845004],\n",
       "         [0.5002954 ],\n",
       "         [0.5002954 ],\n",
       "         [0.58387407],\n",
       "         [0.58387407],\n",
       "         [0.40073819],\n",
       "         [0.40073819],\n",
       "         [0.85469065],\n",
       "         [0.85469065],\n",
       "         [0.81610023],\n",
       "         [0.81610023],\n",
       "         [0.56179999],\n",
       "         [0.56179999],\n",
       "         [0.32975796],\n",
       "         [0.32975796],\n",
       "         [0.17323583],\n",
       "         [0.17323583],\n",
       "         [0.86434145],\n",
       "         [0.86434145],\n",
       "         [0.13570191],\n",
       "         [0.13570191],\n",
       "         [0.71857086],\n",
       "         [0.71857086]])}}"
      ]
     },
     "execution_count": 1,
     "metadata": {},
     "output_type": "execute_result"
    }
   ],
   "source": [
    "ds = load_by_id(run_id_a)\n",
    "ds.get_parameter_data('x1')"
   ]
  },
  {
   "cell_type": "code",
   "execution_count": null,
   "metadata": {},
   "outputs": [],
   "source": []
  }
 ],
 "metadata": {
  "kernelspec": {
   "display_name": "Python 3",
   "language": "python",
   "name": "python3"
  },
  "language_info": {
   "codemirror_mode": {
    "name": "ipython",
    "version": 3
   },
   "file_extension": ".py",
   "mimetype": "text/x-python",
   "name": "python",
   "nbconvert_exporter": "python",
   "pygments_lexer": "ipython3",
   "version": "3.7.10"
  },
  "nbsphinx": {
   "timeout": 600
  },
  "toc": {
   "base_numbering": 1,
   "nav_menu": {},
   "number_sections": true,
   "sideBar": true,
   "skip_h1_title": false,
   "title_cell": "Table of Contents",
   "title_sidebar": "Contents",
   "toc_cell": false,
   "toc_position": {},
   "toc_section_display": true,
   "toc_window_display": false
  },
  "varInspector": {
   "cols": {
    "lenName": 16,
    "lenType": 16,
    "lenVar": 40
   },
   "kernels_config": {
    "python": {
     "delete_cmd_postfix": "",
     "delete_cmd_prefix": "del ",
     "library": "var_list.py",
     "varRefreshCmd": "print(var_dic_list())"
    },
    "r": {
     "delete_cmd_postfix": ") ",
     "delete_cmd_prefix": "rm(",
     "library": "var_list.r",
     "varRefreshCmd": "cat(var_dic_list()) "
    }
   },
   "types_to_exclude": [
    "module",
    "function",
    "builtin_function_or_method",
    "instance",
    "_Feature"
   ],
   "window_display": false
  }
 },
 "nbformat": 4,
 "nbformat_minor": 2
}
