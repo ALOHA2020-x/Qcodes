{
 "cells": [
  {
   "cell_type": "markdown",
   "metadata": {},
   "source": [
    "# DataSet Performance\n",
    "\n",
    "This notebook shows the trade-off between inserting data into a database row-by-row and as binary blobs. Inserting the data row-by-row means that we have direct access to all the data and may perform queries directly on the values of the data. On the other hand, as we shall see, this is much slower than inserting the data directly as binary blobs."
   ]
  },
  {
   "cell_type": "markdown",
   "metadata": {},
   "source": [
    "First, we choose a new location for the database to ensure that we don't add a bunch of benchmarking data to the default one."
   ]
  },
  {
   "cell_type": "code",
   "execution_count": 1,
   "metadata": {},
   "outputs": [
    {
     "name": "stdout",
     "output_type": "stream",
     "text": [
      "Logging hadn't been started.\n",
      "Activating auto-logging. Current session state plus future input saved.\n",
      "Filename       : /home/vsts/.qcodes/logs/command_history.log\n",
      "Mode           : append\n",
      "Output logging : True\n",
      "Raw input log  : False\n",
      "Timestamping   : True\n",
      "State          : active\n"
     ]
    },
    {
     "name": "stdout",
     "output_type": "stream",
     "text": [
      "Qcodes Logfile : /home/vsts/.qcodes/logs/200420-18404-qcodes.log\n"
     ]
    }
   ],
   "source": [
    "import os\n",
    "cwd = os.getcwd()\n",
    "import qcodes as qc\n",
    "qc.config[\"core\"][\"db_location\"] = os.path.join(cwd, 'testing.db')\n"
   ]
  },
  {
   "cell_type": "code",
   "execution_count": 2,
   "metadata": {},
   "outputs": [],
   "source": [
    "%matplotlib inline\n",
    "import time\n",
    "import matplotlib.pyplot as plt\n",
    "import numpy as np\n",
    "\n",
    "import qcodes as qc\n",
    "from qcodes.instrument.parameter import ManualParameter\n",
    "from qcodes.dataset.experiment_container import (Experiment,\n",
    "                                                 load_last_experiment,\n",
    "                                                 new_experiment)\n",
    "from qcodes.dataset.sqlite.database import initialise_database\n",
    "from qcodes import load_or_create_experiment\n",
    "from qcodes.dataset.measurements import Measurement"
   ]
  },
  {
   "cell_type": "code",
   "execution_count": 3,
   "metadata": {},
   "outputs": [
    {
     "name": "stdout",
     "output_type": "stream",
     "text": [
      "\r",
      "0it [00:00, ?it/s]"
     ]
    },
    {
     "name": "stdout",
     "output_type": "stream",
     "text": [
      "\r",
      "Upgrading database; v0 -> v1: : 0it [00:00, ?it/s]"
     ]
    },
    {
     "name": "stdout",
     "output_type": "stream",
     "text": [
      "\r",
      "Upgrading database; v0 -> v1: : 0it [00:00, ?it/s]"
     ]
    },
    {
     "name": "stdout",
     "output_type": "stream",
     "text": [
      "\n",
      "\r",
      "  0%|          | 0/1 [00:00<?, ?it/s]"
     ]
    },
    {
     "name": "stdout",
     "output_type": "stream",
     "text": [
      "\r",
      "Upgrading database; v1 -> v2:   0%|          | 0/1 [00:00<?, ?it/s]"
     ]
    },
    {
     "name": "stdout",
     "output_type": "stream",
     "text": [
      "\r",
      "Upgrading database; v1 -> v2: 100%|██████████| 1/1 [00:00<00:00, 861.96it/s]"
     ]
    },
    {
     "name": "stdout",
     "output_type": "stream",
     "text": [
      "\n",
      "\r",
      "0it [00:00, ?it/s]"
     ]
    },
    {
     "name": "stdout",
     "output_type": "stream",
     "text": [
      "\r",
      "Upgrading database; v2 -> v3: : 0it [00:00, ?it/s]"
     ]
    },
    {
     "name": "stdout",
     "output_type": "stream",
     "text": [
      "\r",
      "Upgrading database; v2 -> v3: : 0it [00:00, ?it/s]"
     ]
    },
    {
     "name": "stdout",
     "output_type": "stream",
     "text": [
      "\n",
      "\r",
      "0it [00:00, ?it/s]"
     ]
    },
    {
     "name": "stdout",
     "output_type": "stream",
     "text": [
      "\r",
      "Upgrading database; v3 -> v4: : 0it [00:00, ?it/s]"
     ]
    },
    {
     "name": "stdout",
     "output_type": "stream",
     "text": [
      "\r",
      "Upgrading database; v3 -> v4: : 0it [00:00, ?it/s]"
     ]
    },
    {
     "name": "stdout",
     "output_type": "stream",
     "text": [
      "\n",
      "\r",
      "  0%|          | 0/1 [00:00<?, ?it/s]"
     ]
    },
    {
     "name": "stdout",
     "output_type": "stream",
     "text": [
      "\r",
      "Upgrading database; v4 -> v5:   0%|          | 0/1 [00:00<?, ?it/s]"
     ]
    },
    {
     "name": "stdout",
     "output_type": "stream",
     "text": [
      "\r",
      "Upgrading database; v4 -> v5: 100%|██████████| 1/1 [00:00<00:00, 640.74it/s]"
     ]
    },
    {
     "name": "stdout",
     "output_type": "stream",
     "text": [
      "\n",
      "\r",
      "0it [00:00, ?it/s]"
     ]
    },
    {
     "name": "stdout",
     "output_type": "stream",
     "text": [
      "\r",
      "Upgrading database; v5 -> v6: : 0it [00:00, ?it/s]"
     ]
    },
    {
     "name": "stdout",
     "output_type": "stream",
     "text": [
      "\r",
      "Upgrading database; v5 -> v6: : 0it [00:00, ?it/s]"
     ]
    },
    {
     "name": "stdout",
     "output_type": "stream",
     "text": [
      "\n",
      "\r",
      "  0%|          | 0/1 [00:00<?, ?it/s]"
     ]
    },
    {
     "name": "stdout",
     "output_type": "stream",
     "text": [
      "\r",
      "Upgrading database; v6 -> v7:   0%|          | 0/1 [00:00<?, ?it/s]"
     ]
    },
    {
     "name": "stdout",
     "output_type": "stream",
     "text": [
      "\r",
      "Upgrading database; v6 -> v7: 100%|██████████| 1/1 [00:00<00:00, 503.82it/s]"
     ]
    },
    {
     "name": "stdout",
     "output_type": "stream",
     "text": [
      "\n",
      "\r",
      "  0%|          | 0/1 [00:00<?, ?it/s]"
     ]
    },
    {
     "name": "stdout",
     "output_type": "stream",
     "text": [
      "\r",
      "Upgrading database; v7 -> v8:   0%|          | 0/1 [00:00<?, ?it/s]"
     ]
    },
    {
     "name": "stdout",
     "output_type": "stream",
     "text": [
      "\r",
      "Upgrading database; v7 -> v8: 100%|██████████| 1/1 [00:00<00:00, 721.29it/s]"
     ]
    },
    {
     "name": "stdout",
     "output_type": "stream",
     "text": [
      "\n",
      "\r",
      "  0%|          | 0/1 [00:00<?, ?it/s]"
     ]
    },
    {
     "name": "stdout",
     "output_type": "stream",
     "text": [
      "\r",
      "Upgrading database; v8 -> v9:   0%|          | 0/1 [00:00<?, ?it/s]"
     ]
    },
    {
     "name": "stdout",
     "output_type": "stream",
     "text": [
      "\r",
      "Upgrading database; v8 -> v9: 100%|██████████| 1/1 [00:00<00:00, 707.30it/s]"
     ]
    },
    {
     "name": "stdout",
     "output_type": "stream",
     "text": [
      "\n"
     ]
    }
   ],
   "source": [
    "initialise_database()\n",
    "exp = load_or_create_experiment(experiment_name='tutorial_exp', sample_name=\"no sample\")"
   ]
  },
  {
   "cell_type": "markdown",
   "metadata": {},
   "source": [
    "Here, we define a simple function to benchmark the time it takes to insert n points with either numeric or array data type.\n",
    "We will compare both the time used to call ``add_result`` and the time used for the full measurement."
   ]
  },
  {
   "cell_type": "code",
   "execution_count": 4,
   "metadata": {},
   "outputs": [],
   "source": [
    "def insert_data(paramtype, npoints, nreps=1):\n",
    "\n",
    "    meas = Measurement(exp=exp)\n",
    "\n",
    "    x1 = ManualParameter('x1')\n",
    "    x2 = ManualParameter('x2')\n",
    "    x3 = ManualParameter('x3')\n",
    "    y1 = ManualParameter('y1')\n",
    "    y2 = ManualParameter('y2')\n",
    "\n",
    "    meas.register_parameter(x1, paramtype=paramtype)\n",
    "    meas.register_parameter(x2, paramtype=paramtype)\n",
    "    meas.register_parameter(x3, paramtype=paramtype)\n",
    "    meas.register_parameter(y1, setpoints=[x1, x2, x3],\n",
    "                            paramtype=paramtype)\n",
    "    meas.register_parameter(y2, setpoints=[x1, x2, x3],\n",
    "                            paramtype=paramtype)\n",
    "    start = time.perf_counter()\n",
    "    with meas.run() as datasaver:\n",
    "        start_adding = time.perf_counter()\n",
    "        for i in range(nreps):\n",
    "            datasaver.add_result((x1, np.random.rand(npoints)),\n",
    "                                 (x2, np.random.rand(npoints)),\n",
    "                                 (x3, np.random.rand(npoints)),\n",
    "                                 (y1, np.random.rand(npoints)),\n",
    "                                 (y2, np.random.rand(npoints)))\n",
    "        stop_adding = time.perf_counter()\n",
    "        run_id = datasaver.run_id\n",
    "    stop = time.perf_counter()\n",
    "    tot_time = stop - start\n",
    "    add_time = stop_adding - start_adding\n",
    "    return tot_time, add_time, run_id"
   ]
  },
  {
   "cell_type": "markdown",
   "metadata": {},
   "source": [
    "## Comparison between numeric/array data and binary blob"
   ]
  },
  {
   "cell_type": "markdown",
   "metadata": {},
   "source": [
    "### Case1: Short experiment time"
   ]
  },
  {
   "cell_type": "code",
   "execution_count": 5,
   "metadata": {},
   "outputs": [
    {
     "name": "stdout",
     "output_type": "stream",
     "text": [
      "Starting experimental run with id: 1. \n",
      "Starting experimental run with id: 2. \n",
      "Starting experimental run with id: 3. \n",
      "Starting experimental run with id: 4. \n"
     ]
    },
    {
     "name": "stdout",
     "output_type": "stream",
     "text": [
      "Starting experimental run with id: 5. \n"
     ]
    },
    {
     "name": "stdout",
     "output_type": "stream",
     "text": [
      "Starting experimental run with id: 6. \n",
      "Starting experimental run with id: 7. \n"
     ]
    },
    {
     "name": "stdout",
     "output_type": "stream",
     "text": [
      "Starting experimental run with id: 8. \n",
      "Starting experimental run with id: 9. \n"
     ]
    },
    {
     "name": "stdout",
     "output_type": "stream",
     "text": [
      "Starting experimental run with id: 10. \n",
      "Starting experimental run with id: 11. \n"
     ]
    },
    {
     "name": "stdout",
     "output_type": "stream",
     "text": [
      "Starting experimental run with id: 12. \n"
     ]
    },
    {
     "name": "stdout",
     "output_type": "stream",
     "text": [
      "Starting experimental run with id: 13. \n"
     ]
    },
    {
     "name": "stdout",
     "output_type": "stream",
     "text": [
      "Starting experimental run with id: 14. \n"
     ]
    }
   ],
   "source": [
    "sizes = [1,500,1000,2000,3000,4000,5000]\n",
    "t_numeric = []\n",
    "t_numeric_add = []\n",
    "t_array = []\n",
    "t_array_add = []\n",
    "for size in sizes:\n",
    "    tn, tna, run_id_n =  insert_data('numeric', size)\n",
    "    t_numeric.append(tn)\n",
    "    t_numeric_add.append(tna)\n",
    "\n",
    "    ta, taa, run_id_a =  insert_data('array', size)\n",
    "    t_array.append(ta)\n",
    "    t_array_add.append(taa)"
   ]
  },
  {
   "cell_type": "code",
   "execution_count": 6,
   "metadata": {},
   "outputs": [
    {
     "data": {
      "image/png": "[encoded data removed]",
      "text/plain": [
       "<Figure size 432x288 with 1 Axes>"
      ]
     },
     "metadata": {
      "needs_background": "light"
     },
     "output_type": "display_data"
    }
   ],
   "source": [
    "fig, ax = plt.subplots(1,1)\n",
    "ax.plot(sizes, t_numeric, 'o-', label='Inserting row-by-row')\n",
    "ax.plot(sizes, t_numeric_add, 'o-', label='Inserting row-by-row: add_result only')\n",
    "ax.plot(sizes, t_array, 'd-', label='Inserting as binary blob')\n",
    "ax.plot(sizes, t_array_add, 'd-', label='Inserting as binary blob: add_result only')\n",
    "ax.legend()\n",
    "ax.set_xlabel('Array length')\n",
    "ax.set_ylabel('Time (s)')\n",
    "fig.tight_layout()"
   ]
  },
  {
   "cell_type": "markdown",
   "metadata": {},
   "source": [
    "As shown in the latter figure, the time to setup and and close the experiment is approximately 0.4 sec. In case of small array sizes, the difference between inserting values of data as arrays and inserting them row-by-row is relatively unimportant. At larger array sizes, i.e. above 10000 points, the cost of writing data as individual datapoints starts to become important.\n"
   ]
  },
  {
   "cell_type": "markdown",
   "metadata": {},
   "source": [
    "### Case2: Long experiment time "
   ]
  },
  {
   "cell_type": "code",
   "execution_count": 7,
   "metadata": {},
   "outputs": [
    {
     "name": "stdout",
     "output_type": "stream",
     "text": [
      "Starting experimental run with id: 15. \n",
      "Starting experimental run with id: 16. \n",
      "Starting experimental run with id: 17. \n"
     ]
    },
    {
     "name": "stdout",
     "output_type": "stream",
     "text": [
      "Starting experimental run with id: 18. \n",
      "Starting experimental run with id: 19. \n"
     ]
    },
    {
     "name": "stdout",
     "output_type": "stream",
     "text": [
      "Starting experimental run with id: 20. \n"
     ]
    },
    {
     "name": "stdout",
     "output_type": "stream",
     "text": [
      "Starting experimental run with id: 21. \n"
     ]
    },
    {
     "name": "stdout",
     "output_type": "stream",
     "text": [
      "Starting experimental run with id: 22. \n"
     ]
    },
    {
     "name": "stdout",
     "output_type": "stream",
     "text": [
      "Starting experimental run with id: 23. \n"
     ]
    },
    {
     "name": "stdout",
     "output_type": "stream",
     "text": [
      "Starting experimental run with id: 24. \n"
     ]
    },
    {
     "name": "stdout",
     "output_type": "stream",
     "text": [
      "Starting experimental run with id: 25. \n"
     ]
    },
    {
     "name": "stdout",
     "output_type": "stream",
     "text": [
      "Starting experimental run with id: 26. \n"
     ]
    },
    {
     "name": "stdout",
     "output_type": "stream",
     "text": [
      "Starting experimental run with id: 27. \n"
     ]
    },
    {
     "name": "stdout",
     "output_type": "stream",
     "text": [
      "Starting experimental run with id: 28. \n"
     ]
    }
   ],
   "source": [
    "sizes = [1,500,1000,2000,3000,4000,5000]\n",
    "nreps = 100\n",
    "t_numeric = []\n",
    "t_numeric_add = []\n",
    "t_numeric_run_ids = []\n",
    "t_array = []\n",
    "t_array_add = []\n",
    "t_array_run_ids = []\n",
    "for size in sizes:\n",
    "    tn, tna, run_id_n =  insert_data('numeric', size, nreps=nreps)\n",
    "    t_numeric.append(tn)\n",
    "    t_numeric_add.append(tna)\n",
    "    t_numeric_run_ids.append(run_id_n)\n",
    "\n",
    "    ta, taa, run_id_a =  insert_data('array', size, nreps=nreps)\n",
    "    t_array.append(ta)\n",
    "    t_array_add.append(taa)\n",
    "    t_array_run_ids.append(run_id_a)"
   ]
  },
  {
   "cell_type": "code",
   "execution_count": 8,
   "metadata": {
    "scrolled": true
   },
   "outputs": [
    {
     "data": {
      "image/png": "[encoded data removed]",
      "text/plain": [
       "<Figure size 432x288 with 1 Axes>"
      ]
     },
     "metadata": {
      "needs_background": "light"
     },
     "output_type": "display_data"
    }
   ],
   "source": [
    "fig, ax = plt.subplots(1,1)\n",
    "ax.plot(sizes, t_numeric, 'o-', label='Inserting row-by-row')\n",
    "ax.plot(sizes, t_numeric_add, 'o-', label='Inserting row-by-row: add_result only')\n",
    "ax.plot(sizes, t_array, 'd-', label='Inserting as binary blob')\n",
    "ax.plot(sizes, t_array_add, 'd-', label='Inserting as binary blob: add_result only')\n",
    "ax.legend()\n",
    "ax.set_xlabel('Array length')\n",
    "ax.set_ylabel('Time (s)')\n",
    "fig.tight_layout()"
   ]
  },
  {
   "cell_type": "markdown",
   "metadata": {},
   "source": [
    "However, as we increase the length of the experiment, as seen here by repeating the insertion 100 times, we see a big difference between inserting values of the data row-by-row and inserting it as a binary blob."
   ]
  },
  {
   "cell_type": "markdown",
   "metadata": {},
   "source": [
    "## Loading the data "
   ]
  },
  {
   "cell_type": "code",
   "execution_count": 9,
   "metadata": {},
   "outputs": [],
   "source": [
    "from qcodes.dataset.data_set import load_by_id\n",
    "from qcodes.dataset.data_export import get_data_by_id"
   ]
  },
  {
   "cell_type": "markdown",
   "metadata": {},
   "source": [
    "As usual you can load the data by using the ``load_by_id`` function but you will notice that the different storage methods\n",
    "are reflected in shape of the data as it is retrieved. "
   ]
  },
  {
   "cell_type": "code",
   "execution_count": 10,
   "metadata": {},
   "outputs": [],
   "source": [
    "run_id_n = t_numeric_run_ids[0]\n",
    "run_id_a = t_array_run_ids[0]"
   ]
  },
  {
   "cell_type": "code",
   "execution_count": 11,
   "metadata": {
    "scrolled": true
   },
   "outputs": [
    {
     "data": {
      "text/plain": [
       "{'x1': {'x1': array([0.73677352, 0.73677352, 0.82004881, 0.82004881, 0.0651227 ,\n",
       "         0.0651227 , 0.82056385, 0.82056385, 0.96013906, 0.96013906,\n",
       "         0.44678827, 0.44678827, 0.47205356, 0.47205356, 0.10983033,\n",
       "         0.10983033, 0.61153293, 0.61153293, 0.95371831, 0.95371831,\n",
       "         0.50118111, 0.50118111, 0.94678155, 0.94678155, 0.92168402,\n",
       "         0.92168402, 0.19387634, 0.19387634, 0.52929098, 0.52929098,\n",
       "         0.66008198, 0.66008198, 0.80002226, 0.80002226, 0.94886824,\n",
       "         0.94886824, 0.4712393 , 0.4712393 , 0.02430398, 0.02430398,\n",
       "         0.80645654, 0.80645654, 0.34035881, 0.34035881, 0.39972653,\n",
       "         0.39972653, 0.87519017, 0.87519017, 0.04599828, 0.04599828,\n",
       "         0.46915813, 0.46915813, 0.01427585, 0.01427585, 0.76261515,\n",
       "         0.76261515, 0.15555405, 0.15555405, 0.72740472, 0.72740472,\n",
       "         0.78745041, 0.78745041, 0.01209123, 0.01209123, 0.2492101 ,\n",
       "         0.2492101 , 0.21078518, 0.21078518, 0.16578977, 0.16578977,\n",
       "         0.57606872, 0.57606872, 0.5949646 , 0.5949646 , 0.51376892,\n",
       "         0.51376892, 0.19853278, 0.19853278, 0.34730332, 0.34730332,\n",
       "         0.72822989, 0.72822989, 0.12795673, 0.12795673, 0.3880519 ,\n",
       "         0.3880519 , 0.98571077, 0.98571077, 0.55917103, 0.55917103,\n",
       "         0.3019192 , 0.3019192 , 0.7710377 , 0.7710377 , 0.54100096,\n",
       "         0.54100096, 0.82354001, 0.82354001, 0.97841273, 0.97841273,\n",
       "         0.3124313 , 0.3124313 , 0.4765617 , 0.4765617 , 0.04859186,\n",
       "         0.04859186, 0.33862811, 0.33862811, 0.04374988, 0.04374988,\n",
       "         0.32363087, 0.32363087, 0.55867967, 0.55867967, 0.08331168,\n",
       "         0.08331168, 0.80377189, 0.80377189, 0.30757382, 0.30757382,\n",
       "         0.01609372, 0.01609372, 0.11057476, 0.11057476, 0.02079359,\n",
       "         0.02079359, 0.55232796, 0.55232796, 0.4676646 , 0.4676646 ,\n",
       "         0.88953581, 0.88953581, 0.20968112, 0.20968112, 0.42464783,\n",
       "         0.42464783, 0.92082039, 0.92082039, 0.58882223, 0.58882223,\n",
       "         0.36135252, 0.36135252, 0.24307099, 0.24307099, 0.24679494,\n",
       "         0.24679494, 0.26908403, 0.26908403, 0.84340495, 0.84340495,\n",
       "         0.52317028, 0.52317028, 0.48044322, 0.48044322, 0.85337861,\n",
       "         0.85337861, 0.91903775, 0.91903775, 0.65934789, 0.65934789,\n",
       "         0.60546139, 0.60546139, 0.18755124, 0.18755124, 0.73420376,\n",
       "         0.73420376, 0.38580876, 0.38580876, 0.51021195, 0.51021195,\n",
       "         0.50709051, 0.50709051, 0.29091612, 0.29091612, 0.64448892,\n",
       "         0.64448892, 0.99941036, 0.99941036, 0.71065661, 0.71065661,\n",
       "         0.09829437, 0.09829437, 0.09229341, 0.09229341, 0.83321763,\n",
       "         0.83321763, 0.94705557, 0.94705557, 0.84114432, 0.84114432,\n",
       "         0.81387992, 0.81387992, 0.98091162, 0.98091162, 0.30936616,\n",
       "         0.30936616, 0.60858033, 0.60858033, 0.35460697, 0.35460697])}}"
      ]
     },
     "execution_count": 11,
     "metadata": {},
     "output_type": "execute_result"
    }
   ],
   "source": [
    "ds = load_by_id(run_id_n)\n",
    "ds.get_parameter_data('x1')"
   ]
  },
  {
   "cell_type": "markdown",
   "metadata": {},
   "source": [
    "And a dataset stored as binary arrays"
   ]
  },
  {
   "cell_type": "code",
   "execution_count": 12,
   "metadata": {
    "scrolled": true
   },
   "outputs": [
    {
     "data": {
      "text/plain": [
       "{'x1': {'x1': array([[0.32283549],\n",
       "         [0.32283549],\n",
       "         [0.47707103],\n",
       "         [0.47707103],\n",
       "         [0.73003713],\n",
       "         [0.73003713],\n",
       "         [0.23641988],\n",
       "         [0.23641988],\n",
       "         [0.0786606 ],\n",
       "         [0.0786606 ],\n",
       "         [0.92333341],\n",
       "         [0.92333341],\n",
       "         [0.33140734],\n",
       "         [0.33140734],\n",
       "         [0.65544277],\n",
       "         [0.65544277],\n",
       "         [0.19084189],\n",
       "         [0.19084189],\n",
       "         [0.82417253],\n",
       "         [0.82417253],\n",
       "         [0.58253446],\n",
       "         [0.58253446],\n",
       "         [0.58503745],\n",
       "         [0.58503745],\n",
       "         [0.56872405],\n",
       "         [0.56872405],\n",
       "         [0.92129376],\n",
       "         [0.92129376],\n",
       "         [0.66580287],\n",
       "         [0.66580287],\n",
       "         [0.00948395],\n",
       "         [0.00948395],\n",
       "         [0.95993348],\n",
       "         [0.95993348],\n",
       "         [0.07138881],\n",
       "         [0.07138881],\n",
       "         [0.70563437],\n",
       "         [0.70563437],\n",
       "         [0.84758458],\n",
       "         [0.84758458],\n",
       "         [0.47368815],\n",
       "         [0.47368815],\n",
       "         [0.63955699],\n",
       "         [0.63955699],\n",
       "         [0.59955357],\n",
       "         [0.59955357],\n",
       "         [0.92177774],\n",
       "         [0.92177774],\n",
       "         [0.45041157],\n",
       "         [0.45041157],\n",
       "         [0.09694004],\n",
       "         [0.09694004],\n",
       "         [0.1679632 ],\n",
       "         [0.1679632 ],\n",
       "         [0.5156637 ],\n",
       "         [0.5156637 ],\n",
       "         [0.04732478],\n",
       "         [0.04732478],\n",
       "         [0.98945639],\n",
       "         [0.98945639],\n",
       "         [0.59245994],\n",
       "         [0.59245994],\n",
       "         [0.34311101],\n",
       "         [0.34311101],\n",
       "         [0.88579737],\n",
       "         [0.88579737],\n",
       "         [0.68576708],\n",
       "         [0.68576708],\n",
       "         [0.91603233],\n",
       "         [0.91603233],\n",
       "         [0.54657479],\n",
       "         [0.54657479],\n",
       "         [0.70387805],\n",
       "         [0.70387805],\n",
       "         [0.90159138],\n",
       "         [0.90159138],\n",
       "         [0.52298195],\n",
       "         [0.52298195],\n",
       "         [0.72183823],\n",
       "         [0.72183823],\n",
       "         [0.73041876],\n",
       "         [0.73041876],\n",
       "         [0.21319572],\n",
       "         [0.21319572],\n",
       "         [0.04894118],\n",
       "         [0.04894118],\n",
       "         [0.94514019],\n",
       "         [0.94514019],\n",
       "         [0.24183533],\n",
       "         [0.24183533],\n",
       "         [0.27692035],\n",
       "         [0.27692035],\n",
       "         [0.67872151],\n",
       "         [0.67872151],\n",
       "         [0.19946193],\n",
       "         [0.19946193],\n",
       "         [0.44210667],\n",
       "         [0.44210667],\n",
       "         [0.86481045],\n",
       "         [0.86481045],\n",
       "         [0.84855476],\n",
       "         [0.84855476],\n",
       "         [0.216146  ],\n",
       "         [0.216146  ],\n",
       "         [0.67333795],\n",
       "         [0.67333795],\n",
       "         [0.59262128],\n",
       "         [0.59262128],\n",
       "         [0.31784267],\n",
       "         [0.31784267],\n",
       "         [0.09840138],\n",
       "         [0.09840138],\n",
       "         [0.52530563],\n",
       "         [0.52530563],\n",
       "         [0.74632008],\n",
       "         [0.74632008],\n",
       "         [0.55827339],\n",
       "         [0.55827339],\n",
       "         [0.34962709],\n",
       "         [0.34962709],\n",
       "         [0.27545801],\n",
       "         [0.27545801],\n",
       "         [0.46223174],\n",
       "         [0.46223174],\n",
       "         [0.28996581],\n",
       "         [0.28996581],\n",
       "         [0.37012687],\n",
       "         [0.37012687],\n",
       "         [0.80130145],\n",
       "         [0.80130145],\n",
       "         [0.08674508],\n",
       "         [0.08674508],\n",
       "         [0.1068201 ],\n",
       "         [0.1068201 ],\n",
       "         [0.32010495],\n",
       "         [0.32010495],\n",
       "         [0.4221295 ],\n",
       "         [0.4221295 ],\n",
       "         [0.98434005],\n",
       "         [0.98434005],\n",
       "         [0.17398485],\n",
       "         [0.17398485],\n",
       "         [0.56412972],\n",
       "         [0.56412972],\n",
       "         [0.87392973],\n",
       "         [0.87392973],\n",
       "         [0.43157646],\n",
       "         [0.43157646],\n",
       "         [0.11877179],\n",
       "         [0.11877179],\n",
       "         [0.11610829],\n",
       "         [0.11610829],\n",
       "         [0.71981658],\n",
       "         [0.71981658],\n",
       "         [0.77968008],\n",
       "         [0.77968008],\n",
       "         [0.20483476],\n",
       "         [0.20483476],\n",
       "         [0.49035695],\n",
       "         [0.49035695],\n",
       "         [0.88701658],\n",
       "         [0.88701658],\n",
       "         [0.81073737],\n",
       "         [0.81073737],\n",
       "         [0.16391515],\n",
       "         [0.16391515],\n",
       "         [0.94684538],\n",
       "         [0.94684538],\n",
       "         [0.40242883],\n",
       "         [0.40242883],\n",
       "         [0.18602444],\n",
       "         [0.18602444],\n",
       "         [0.29673223],\n",
       "         [0.29673223],\n",
       "         [0.79156911],\n",
       "         [0.79156911],\n",
       "         [0.33455067],\n",
       "         [0.33455067],\n",
       "         [0.27248171],\n",
       "         [0.27248171],\n",
       "         [0.80110205],\n",
       "         [0.80110205],\n",
       "         [0.80070875],\n",
       "         [0.80070875],\n",
       "         [0.76444117],\n",
       "         [0.76444117],\n",
       "         [0.11047381],\n",
       "         [0.11047381],\n",
       "         [0.08814549],\n",
       "         [0.08814549],\n",
       "         [0.7042701 ],\n",
       "         [0.7042701 ],\n",
       "         [0.76891625],\n",
       "         [0.76891625],\n",
       "         [0.02490625],\n",
       "         [0.02490625],\n",
       "         [0.78388294],\n",
       "         [0.78388294],\n",
       "         [0.18976538],\n",
       "         [0.18976538]])}}"
      ]
     },
     "execution_count": 12,
     "metadata": {},
     "output_type": "execute_result"
    }
   ],
   "source": [
    "ds = load_by_id(run_id_a)\n",
    "ds.get_parameter_data('x1')"
   ]
  },
  {
   "cell_type": "code",
   "execution_count": null,
   "metadata": {},
   "outputs": [],
   "source": []
  }
 ],
 "metadata": {
  "kernelspec": {
   "display_name": "Python 3",
   "language": "python",
   "name": "python3"
  },
  "language_info": {
   "codemirror_mode": {
    "name": "ipython",
    "version": 3
   },
   "file_extension": ".py",
   "mimetype": "text/x-python",
   "name": "python",
   "nbconvert_exporter": "python",
   "pygments_lexer": "ipython3",
   "version": "3.7.7"
  },
  "nbsphinx": {
   "timeout": 600
  },
  "toc": {
   "base_numbering": 1,
   "nav_menu": {},
   "number_sections": true,
   "sideBar": true,
   "skip_h1_title": false,
   "title_cell": "Table of Contents",
   "title_sidebar": "Contents",
   "toc_cell": false,
   "toc_position": {},
   "toc_section_display": true,
   "toc_window_display": false
  },
  "varInspector": {
   "cols": {
    "lenName": 16,
    "lenType": 16,
    "lenVar": 40
   },
   "kernels_config": {
    "python": {
     "delete_cmd_postfix": "",
     "delete_cmd_prefix": "del ",
     "library": "var_list.py",
     "varRefreshCmd": "print(var_dic_list())"
    },
    "r": {
     "delete_cmd_postfix": ") ",
     "delete_cmd_prefix": "rm(",
     "library": "var_list.r",
     "varRefreshCmd": "cat(var_dic_list()) "
    }
   },
   "types_to_exclude": [
    "module",
    "function",
    "builtin_function_or_method",
    "instance",
    "_Feature"
   ],
   "window_display": false
  }
 },
 "nbformat": 4,
 "nbformat_minor": 2
}
