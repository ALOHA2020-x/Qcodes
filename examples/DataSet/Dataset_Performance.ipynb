{
 "cells": [
  {
   "cell_type": "markdown",
   "metadata": {},
   "source": [
    "# DataSet Performance\n",
    "\n",
    "This notebook shows the trade-off between inserting data into a database row-by-row and as binary blobs. Inserting the data row-by-row means that we have direct access to all the data and may perform queries directly on the values of the data. On the other hand, as we shall see, this is much slower than inserting the data directly as binary blobs."
   ]
  },
  {
   "cell_type": "markdown",
   "metadata": {},
   "source": [
    "First, we choose a new location for the database to ensure that we don't add a bunch of benchmarking data to the default one."
   ]
  },
  {
   "cell_type": "code",
   "execution_count": 1,
   "metadata": {
    "execution": {
     "iopub.execute_input": "2021-04-20T14:45:41.995094Z",
     "iopub.status.busy": "2021-04-20T14:45:41.994579Z",
     "iopub.status.idle": "2021-04-20T14:45:42.894742Z",
     "shell.execute_reply": "2021-04-20T14:45:42.893920Z"
    }
   },
   "outputs": [
    {
     "name": "stdout",
     "output_type": "stream",
     "text": [
      "Logging hadn't been started.\n",
      "Activating auto-logging. Current session state plus future input saved.\n",
      "Filename       : /home/runner/.qcodes/logs/command_history.log\n",
      "Mode           : append\n",
      "Output logging : True\n",
      "Raw input log  : False\n",
      "Timestamping   : True\n",
      "State          : active\n"
     ]
    },
    {
     "name": "stdout",
     "output_type": "stream",
     "text": [
      "Qcodes Logfile : /home/runner/.qcodes/logs/210420-4571-qcodes.log\n"
     ]
    }
   ],
   "source": [
    "import os\n",
    "cwd = os.getcwd()\n",
    "import qcodes as qc\n",
    "qc.config[\"core\"][\"db_location\"] = os.path.join(cwd, 'testing.db')\n"
   ]
  },
  {
   "cell_type": "code",
   "execution_count": 2,
   "metadata": {
    "execution": {
     "iopub.execute_input": "2021-04-20T14:45:42.900976Z",
     "iopub.status.busy": "2021-04-20T14:45:42.900396Z",
     "iopub.status.idle": "2021-04-20T14:45:43.120568Z",
     "shell.execute_reply": "2021-04-20T14:45:43.119971Z"
    }
   },
   "outputs": [],
   "source": [
    "%matplotlib inline\n",
    "import time\n",
    "import matplotlib.pyplot as plt\n",
    "import numpy as np\n",
    "\n",
    "import qcodes as qc\n",
    "from qcodes.instrument.parameter import ManualParameter\n",
    "from qcodes.dataset.experiment_container import (Experiment,\n",
    "                                                 load_last_experiment,\n",
    "                                                 new_experiment)\n",
    "from qcodes.dataset.sqlite.database import initialise_database\n",
    "from qcodes import load_or_create_experiment\n",
    "from qcodes.dataset.measurements import Measurement"
   ]
  },
  {
   "cell_type": "code",
   "execution_count": 3,
   "metadata": {
    "execution": {
     "iopub.execute_input": "2021-04-20T14:45:43.124785Z",
     "iopub.status.busy": "2021-04-20T14:45:43.123963Z",
     "iopub.status.idle": "2021-04-20T14:45:43.188977Z",
     "shell.execute_reply": "2021-04-20T14:45:43.188331Z"
    }
   },
   "outputs": [
    {
     "name": "stdout",
     "output_type": "stream",
     "text": [
      "\r",
      "0it [00:00, ?it/s]"
     ]
    },
    {
     "name": "stdout",
     "output_type": "stream",
     "text": [
      "\r",
      "Upgrading database; v0 -> v1: : 0it [00:00, ?it/s]"
     ]
    },
    {
     "name": "stdout",
     "output_type": "stream",
     "text": [
      "\r",
      "Upgrading database; v0 -> v1: : 0it [00:00, ?it/s]"
     ]
    },
    {
     "name": "stdout",
     "output_type": "stream",
     "text": [
      "\n",
      "\r",
      "  0%|          | 0/1 [00:00<?, ?it/s]"
     ]
    },
    {
     "name": "stdout",
     "output_type": "stream",
     "text": [
      "\r",
      "Upgrading database; v1 -> v2:   0%|          | 0/1 [00:00<?, ?it/s]"
     ]
    },
    {
     "name": "stdout",
     "output_type": "stream",
     "text": [
      "\r",
      "Upgrading database; v1 -> v2: 100%|██████████| 1/1 [00:00<00:00, 445.11it/s]"
     ]
    },
    {
     "name": "stdout",
     "output_type": "stream",
     "text": [
      "\n",
      "\r",
      "0it [00:00, ?it/s]"
     ]
    },
    {
     "name": "stdout",
     "output_type": "stream",
     "text": [
      "\r",
      "Upgrading database; v2 -> v3: : 0it [00:00, ?it/s]"
     ]
    },
    {
     "name": "stdout",
     "output_type": "stream",
     "text": [
      "\r",
      "Upgrading database; v2 -> v3: : 0it [00:00, ?it/s]"
     ]
    },
    {
     "name": "stdout",
     "output_type": "stream",
     "text": [
      "\n",
      "\r",
      "0it [00:00, ?it/s]"
     ]
    },
    {
     "name": "stdout",
     "output_type": "stream",
     "text": [
      "\r",
      "Upgrading database; v3 -> v4: : 0it [00:00, ?it/s]"
     ]
    },
    {
     "name": "stdout",
     "output_type": "stream",
     "text": [
      "\r",
      "Upgrading database; v3 -> v4: : 0it [00:00, ?it/s]"
     ]
    },
    {
     "name": "stdout",
     "output_type": "stream",
     "text": [
      "\n",
      "\r",
      "  0%|          | 0/1 [00:00<?, ?it/s]"
     ]
    },
    {
     "name": "stdout",
     "output_type": "stream",
     "text": [
      "\r",
      "Upgrading database; v4 -> v5:   0%|          | 0/1 [00:00<?, ?it/s]"
     ]
    },
    {
     "name": "stdout",
     "output_type": "stream",
     "text": [
      "\r",
      "Upgrading database; v4 -> v5: 100%|██████████| 1/1 [00:00<00:00, 425.13it/s]"
     ]
    },
    {
     "name": "stdout",
     "output_type": "stream",
     "text": [
      "\n",
      "\r",
      "0it [00:00, ?it/s]"
     ]
    },
    {
     "name": "stdout",
     "output_type": "stream",
     "text": [
      "\r",
      "Upgrading database; v5 -> v6: : 0it [00:00, ?it/s]"
     ]
    },
    {
     "name": "stdout",
     "output_type": "stream",
     "text": [
      "\r",
      "Upgrading database; v5 -> v6: : 0it [00:00, ?it/s]"
     ]
    },
    {
     "name": "stdout",
     "output_type": "stream",
     "text": [
      "\n",
      "\r",
      "  0%|          | 0/1 [00:00<?, ?it/s]"
     ]
    },
    {
     "name": "stdout",
     "output_type": "stream",
     "text": [
      "\r",
      "Upgrading database; v6 -> v7:   0%|          | 0/1 [00:00<?, ?it/s]"
     ]
    },
    {
     "name": "stdout",
     "output_type": "stream",
     "text": [
      "\r",
      "Upgrading database; v6 -> v7: 100%|██████████| 1/1 [00:00<00:00, 473.50it/s]"
     ]
    },
    {
     "name": "stdout",
     "output_type": "stream",
     "text": [
      "\n",
      "\r",
      "  0%|          | 0/1 [00:00<?, ?it/s]"
     ]
    },
    {
     "name": "stdout",
     "output_type": "stream",
     "text": [
      "\r",
      "Upgrading database; v7 -> v8:   0%|          | 0/1 [00:00<?, ?it/s]"
     ]
    },
    {
     "name": "stdout",
     "output_type": "stream",
     "text": [
      "\r",
      "Upgrading database; v7 -> v8: 100%|██████████| 1/1 [00:00<00:00, 1161.86it/s]"
     ]
    },
    {
     "name": "stdout",
     "output_type": "stream",
     "text": [
      "\n",
      "\r",
      "  0%|          | 0/1 [00:00<?, ?it/s]"
     ]
    },
    {
     "name": "stdout",
     "output_type": "stream",
     "text": [
      "\r",
      "Upgrading database; v8 -> v9:   0%|          | 0/1 [00:00<?, ?it/s]"
     ]
    },
    {
     "name": "stdout",
     "output_type": "stream",
     "text": [
      "\r",
      "Upgrading database; v8 -> v9: 100%|██████████| 1/1 [00:00<00:00, 823.38it/s]"
     ]
    },
    {
     "name": "stdout",
     "output_type": "stream",
     "text": [
      "\n"
     ]
    }
   ],
   "source": [
    "initialise_database()\n",
    "exp = load_or_create_experiment(experiment_name='tutorial_exp', sample_name=\"no sample\")"
   ]
  },
  {
   "cell_type": "markdown",
   "metadata": {},
   "source": [
    "Here, we define a simple function to benchmark the time it takes to insert n points with either numeric or array data type.\n",
    "We will compare both the time used to call ``add_result`` and the time used for the full measurement."
   ]
  },
  {
   "cell_type": "code",
   "execution_count": 4,
   "metadata": {
    "execution": {
     "iopub.execute_input": "2021-04-20T14:45:43.196485Z",
     "iopub.status.busy": "2021-04-20T14:45:43.196000Z",
     "iopub.status.idle": "2021-04-20T14:45:43.199381Z",
     "shell.execute_reply": "2021-04-20T14:45:43.198931Z"
    }
   },
   "outputs": [],
   "source": [
    "def insert_data(paramtype, npoints, nreps=1):\n",
    "\n",
    "    meas = Measurement(exp=exp)\n",
    "\n",
    "    x1 = ManualParameter('x1')\n",
    "    x2 = ManualParameter('x2')\n",
    "    x3 = ManualParameter('x3')\n",
    "    y1 = ManualParameter('y1')\n",
    "    y2 = ManualParameter('y2')\n",
    "\n",
    "    meas.register_parameter(x1, paramtype=paramtype)\n",
    "    meas.register_parameter(x2, paramtype=paramtype)\n",
    "    meas.register_parameter(x3, paramtype=paramtype)\n",
    "    meas.register_parameter(y1, setpoints=[x1, x2, x3],\n",
    "                            paramtype=paramtype)\n",
    "    meas.register_parameter(y2, setpoints=[x1, x2, x3],\n",
    "                            paramtype=paramtype)\n",
    "    start = time.perf_counter()\n",
    "    with meas.run() as datasaver:\n",
    "        start_adding = time.perf_counter()\n",
    "        for i in range(nreps):\n",
    "            datasaver.add_result((x1, np.random.rand(npoints)),\n",
    "                                 (x2, np.random.rand(npoints)),\n",
    "                                 (x3, np.random.rand(npoints)),\n",
    "                                 (y1, np.random.rand(npoints)),\n",
    "                                 (y2, np.random.rand(npoints)))\n",
    "        stop_adding = time.perf_counter()\n",
    "        run_id = datasaver.run_id\n",
    "    stop = time.perf_counter()\n",
    "    tot_time = stop - start\n",
    "    add_time = stop_adding - start_adding\n",
    "    return tot_time, add_time, run_id"
   ]
  },
  {
   "cell_type": "markdown",
   "metadata": {},
   "source": [
    "## Comparison between numeric/array data and binary blob"
   ]
  },
  {
   "cell_type": "markdown",
   "metadata": {},
   "source": [
    "### Case1: Short experiment time"
   ]
  },
  {
   "cell_type": "code",
   "execution_count": 5,
   "metadata": {
    "execution": {
     "iopub.execute_input": "2021-04-20T14:45:43.205502Z",
     "iopub.status.busy": "2021-04-20T14:45:43.204896Z",
     "iopub.status.idle": "2021-04-20T14:45:43.912723Z",
     "shell.execute_reply": "2021-04-20T14:45:43.912339Z"
    }
   },
   "outputs": [
    {
     "name": "stdout",
     "output_type": "stream",
     "text": [
      "Starting experimental run with id: 1. \n",
      "Starting experimental run with id: 2. \n",
      "Starting experimental run with id: 3. \n",
      "Starting experimental run with id: 4. \n",
      "Starting experimental run with id: 5. \n",
      "Starting experimental run with id: 6. \n"
     ]
    },
    {
     "name": "stdout",
     "output_type": "stream",
     "text": [
      "Starting experimental run with id: 7. \n"
     ]
    },
    {
     "name": "stdout",
     "output_type": "stream",
     "text": [
      "Starting experimental run with id: 8. \n"
     ]
    },
    {
     "name": "stdout",
     "output_type": "stream",
     "text": [
      "Starting experimental run with id: 9. \n",
      "Starting experimental run with id: 10. \n"
     ]
    },
    {
     "name": "stdout",
     "output_type": "stream",
     "text": [
      "Starting experimental run with id: 11. \n"
     ]
    },
    {
     "name": "stdout",
     "output_type": "stream",
     "text": [
      "Starting experimental run with id: 12. \n",
      "Starting experimental run with id: 13. \n"
     ]
    },
    {
     "name": "stdout",
     "output_type": "stream",
     "text": [
      "Starting experimental run with id: 14. \n"
     ]
    }
   ],
   "source": [
    "sizes = [1,500,1000,2000,3000,4000,5000]\n",
    "t_numeric = []\n",
    "t_numeric_add = []\n",
    "t_array = []\n",
    "t_array_add = []\n",
    "for size in sizes:\n",
    "    tn, tna, run_id_n =  insert_data('numeric', size)\n",
    "    t_numeric.append(tn)\n",
    "    t_numeric_add.append(tna)\n",
    "\n",
    "    ta, taa, run_id_a =  insert_data('array', size)\n",
    "    t_array.append(ta)\n",
    "    t_array_add.append(taa)"
   ]
  },
  {
   "cell_type": "code",
   "execution_count": 6,
   "metadata": {
    "execution": {
     "iopub.execute_input": "2021-04-20T14:45:43.930566Z",
     "iopub.status.busy": "2021-04-20T14:45:43.928867Z",
     "iopub.status.idle": "2021-04-20T14:45:44.101023Z",
     "shell.execute_reply": "2021-04-20T14:45:44.101442Z"
    }
   },
   "outputs": [
    {
     "data": {
      "image/png": "[encoded data removed]",
      "text/plain": [
       "<Figure size 432x288 with 1 Axes>"
      ]
     },
     "metadata": {
      "needs_background": "light"
     },
     "output_type": "display_data"
    }
   ],
   "source": [
    "fig, ax = plt.subplots(1,1)\n",
    "ax.plot(sizes, t_numeric, 'o-', label='Inserting row-by-row')\n",
    "ax.plot(sizes, t_numeric_add, 'o-', label='Inserting row-by-row: add_result only')\n",
    "ax.plot(sizes, t_array, 'd-', label='Inserting as binary blob')\n",
    "ax.plot(sizes, t_array_add, 'd-', label='Inserting as binary blob: add_result only')\n",
    "ax.legend()\n",
    "ax.set_xlabel('Array length')\n",
    "ax.set_ylabel('Time (s)')\n",
    "fig.tight_layout()"
   ]
  },
  {
   "cell_type": "markdown",
   "metadata": {},
   "source": [
    "As shown in the latter figure, the time to setup and and close the experiment is approximately 0.4 sec. In case of small array sizes, the difference between inserting values of data as arrays and inserting them row-by-row is relatively unimportant. At larger array sizes, i.e. above 10000 points, the cost of writing data as individual datapoints starts to become important.\n"
   ]
  },
  {
   "cell_type": "markdown",
   "metadata": {},
   "source": [
    "### Case2: Long experiment time "
   ]
  },
  {
   "cell_type": "code",
   "execution_count": 7,
   "metadata": {
    "execution": {
     "iopub.execute_input": "2021-04-20T14:45:44.104313Z",
     "iopub.status.busy": "2021-04-20T14:45:44.103749Z",
     "iopub.status.idle": "2021-04-20T14:46:34.015996Z",
     "shell.execute_reply": "2021-04-20T14:46:34.016540Z"
    }
   },
   "outputs": [
    {
     "name": "stdout",
     "output_type": "stream",
     "text": [
      "Starting experimental run with id: 15. \n",
      "Starting experimental run with id: 16. \n",
      "Starting experimental run with id: 17. \n"
     ]
    },
    {
     "name": "stdout",
     "output_type": "stream",
     "text": [
      "Starting experimental run with id: 18. \n",
      "Starting experimental run with id: 19. \n"
     ]
    },
    {
     "name": "stdout",
     "output_type": "stream",
     "text": [
      "Starting experimental run with id: 20. \n"
     ]
    },
    {
     "name": "stdout",
     "output_type": "stream",
     "text": [
      "Starting experimental run with id: 21. \n"
     ]
    },
    {
     "name": "stdout",
     "output_type": "stream",
     "text": [
      "Starting experimental run with id: 22. \n"
     ]
    },
    {
     "name": "stdout",
     "output_type": "stream",
     "text": [
      "Starting experimental run with id: 23. \n"
     ]
    },
    {
     "name": "stdout",
     "output_type": "stream",
     "text": [
      "Starting experimental run with id: 24. \n"
     ]
    },
    {
     "name": "stdout",
     "output_type": "stream",
     "text": [
      "Starting experimental run with id: 25. \n"
     ]
    },
    {
     "name": "stdout",
     "output_type": "stream",
     "text": [
      "Starting experimental run with id: 26. \n"
     ]
    },
    {
     "name": "stdout",
     "output_type": "stream",
     "text": [
      "Starting experimental run with id: 27. \n"
     ]
    },
    {
     "name": "stdout",
     "output_type": "stream",
     "text": [
      "Starting experimental run with id: 28. \n"
     ]
    }
   ],
   "source": [
    "sizes = [1,500,1000,2000,3000,4000,5000]\n",
    "nreps = 100\n",
    "t_numeric = []\n",
    "t_numeric_add = []\n",
    "t_numeric_run_ids = []\n",
    "t_array = []\n",
    "t_array_add = []\n",
    "t_array_run_ids = []\n",
    "for size in sizes:\n",
    "    tn, tna, run_id_n =  insert_data('numeric', size, nreps=nreps)\n",
    "    t_numeric.append(tn)\n",
    "    t_numeric_add.append(tna)\n",
    "    t_numeric_run_ids.append(run_id_n)\n",
    "\n",
    "    ta, taa, run_id_a =  insert_data('array', size, nreps=nreps)\n",
    "    t_array.append(ta)\n",
    "    t_array_add.append(taa)\n",
    "    t_array_run_ids.append(run_id_a)"
   ]
  },
  {
   "cell_type": "code",
   "execution_count": 8,
   "metadata": {
    "execution": {
     "iopub.execute_input": "2021-04-20T14:46:34.035669Z",
     "iopub.status.busy": "2021-04-20T14:46:34.021087Z",
     "iopub.status.idle": "2021-04-20T14:46:34.183234Z",
     "shell.execute_reply": "2021-04-20T14:46:34.183759Z"
    },
    "scrolled": true
   },
   "outputs": [
    {
     "data": {
      "image/png": "[encoded data removed]",
      "text/plain": [
       "<Figure size 432x288 with 1 Axes>"
      ]
     },
     "metadata": {
      "needs_background": "light"
     },
     "output_type": "display_data"
    }
   ],
   "source": [
    "fig, ax = plt.subplots(1,1)\n",
    "ax.plot(sizes, t_numeric, 'o-', label='Inserting row-by-row')\n",
    "ax.plot(sizes, t_numeric_add, 'o-', label='Inserting row-by-row: add_result only')\n",
    "ax.plot(sizes, t_array, 'd-', label='Inserting as binary blob')\n",
    "ax.plot(sizes, t_array_add, 'd-', label='Inserting as binary blob: add_result only')\n",
    "ax.legend()\n",
    "ax.set_xlabel('Array length')\n",
    "ax.set_ylabel('Time (s)')\n",
    "fig.tight_layout()"
   ]
  },
  {
   "cell_type": "markdown",
   "metadata": {},
   "source": [
    "However, as we increase the length of the experiment, as seen here by repeating the insertion 100 times, we see a big difference between inserting values of the data row-by-row and inserting it as a binary blob."
   ]
  },
  {
   "cell_type": "markdown",
   "metadata": {},
   "source": [
    "## Loading the data "
   ]
  },
  {
   "cell_type": "code",
   "execution_count": 9,
   "metadata": {
    "execution": {
     "iopub.execute_input": "2021-04-20T14:46:34.187819Z",
     "iopub.status.busy": "2021-04-20T14:46:34.187227Z",
     "iopub.status.idle": "2021-04-20T14:46:34.190247Z",
     "shell.execute_reply": "2021-04-20T14:46:34.190931Z"
    }
   },
   "outputs": [],
   "source": [
    "from qcodes.dataset.data_set import load_by_id"
   ]
  },
  {
   "cell_type": "markdown",
   "metadata": {},
   "source": [
    "As usual you can load the data by using the ``load_by_id`` function but you will notice that the different storage methods\n",
    "are reflected in shape of the data as it is retrieved. "
   ]
  },
  {
   "cell_type": "code",
   "execution_count": 10,
   "metadata": {
    "execution": {
     "iopub.execute_input": "2021-04-20T14:46:34.195109Z",
     "iopub.status.busy": "2021-04-20T14:46:34.194557Z",
     "iopub.status.idle": "2021-04-20T14:46:34.198096Z",
     "shell.execute_reply": "2021-04-20T14:46:34.197649Z"
    }
   },
   "outputs": [],
   "source": [
    "run_id_n = t_numeric_run_ids[0]\n",
    "run_id_a = t_array_run_ids[0]"
   ]
  },
  {
   "cell_type": "code",
   "execution_count": 11,
   "metadata": {
    "execution": {
     "iopub.execute_input": "2021-04-20T14:46:34.201855Z",
     "iopub.status.busy": "2021-04-20T14:46:34.200827Z",
     "iopub.status.idle": "2021-04-20T14:46:34.212650Z",
     "shell.execute_reply": "2021-04-20T14:46:34.213105Z"
    },
    "scrolled": true
   },
   "outputs": [
    {
     "data": {
      "text/plain": [
       "{'x1': {'x1': array([0.64992449, 0.64992449, 0.85950211, 0.85950211, 0.06645986,\n",
       "         0.06645986, 0.22852428, 0.22852428, 0.78832614, 0.78832614,\n",
       "         0.28173666, 0.28173666, 0.90492091, 0.90492091, 0.18302662,\n",
       "         0.18302662, 0.45913003, 0.45913003, 0.67010433, 0.67010433,\n",
       "         0.05056707, 0.05056707, 0.15370823, 0.15370823, 0.53601004,\n",
       "         0.53601004, 0.48225893, 0.48225893, 0.09295155, 0.09295155,\n",
       "         0.54871904, 0.54871904, 0.62314525, 0.62314525, 0.1153703 ,\n",
       "         0.1153703 , 0.14698606, 0.14698606, 0.54523588, 0.54523588,\n",
       "         0.29596488, 0.29596488, 0.55307409, 0.55307409, 0.23701605,\n",
       "         0.23701605, 0.64873418, 0.64873418, 0.62175463, 0.62175463,\n",
       "         0.18073404, 0.18073404, 0.21686962, 0.21686962, 0.87790453,\n",
       "         0.87790453, 0.16650156, 0.16650156, 0.98014571, 0.98014571,\n",
       "         0.66083888, 0.66083888, 0.66600766, 0.66600766, 0.56195518,\n",
       "         0.56195518, 0.04015941, 0.04015941, 0.71827972, 0.71827972,\n",
       "         0.797609  , 0.797609  , 0.40237447, 0.40237447, 0.4303231 ,\n",
       "         0.4303231 , 0.31717642, 0.31717642, 0.15656527, 0.15656527,\n",
       "         0.90313623, 0.90313623, 0.18838503, 0.18838503, 0.89115021,\n",
       "         0.89115021, 0.92890994, 0.92890994, 0.96771856, 0.96771856,\n",
       "         0.53246882, 0.53246882, 0.97773818, 0.97773818, 0.41224624,\n",
       "         0.41224624, 0.98246844, 0.98246844, 0.21572582, 0.21572582,\n",
       "         0.49304417, 0.49304417, 0.08505394, 0.08505394, 0.7541316 ,\n",
       "         0.7541316 , 0.21671833, 0.21671833, 0.98622217, 0.98622217,\n",
       "         0.26320533, 0.26320533, 0.97292978, 0.97292978, 0.36204883,\n",
       "         0.36204883, 0.51100266, 0.51100266, 0.33428383, 0.33428383,\n",
       "         0.02948918, 0.02948918, 0.43084084, 0.43084084, 0.97436873,\n",
       "         0.97436873, 0.07663259, 0.07663259, 0.73465116, 0.73465116,\n",
       "         0.49486612, 0.49486612, 0.93974852, 0.93974852, 0.54536277,\n",
       "         0.54536277, 0.39477467, 0.39477467, 0.61799647, 0.61799647,\n",
       "         0.37371749, 0.37371749, 0.04408278, 0.04408278, 0.97049326,\n",
       "         0.97049326, 0.00602968, 0.00602968, 0.82014731, 0.82014731,\n",
       "         0.40811031, 0.40811031, 0.75465512, 0.75465512, 0.70597155,\n",
       "         0.70597155, 0.08016072, 0.08016072, 0.03099947, 0.03099947,\n",
       "         0.34520097, 0.34520097, 0.37717634, 0.37717634, 0.03600462,\n",
       "         0.03600462, 0.16578654, 0.16578654, 0.34430497, 0.34430497,\n",
       "         0.58145689, 0.58145689, 0.09692887, 0.09692887, 0.95684772,\n",
       "         0.95684772, 0.7600978 , 0.7600978 , 0.81521614, 0.81521614,\n",
       "         0.63085404, 0.63085404, 0.34397274, 0.34397274, 0.91847366,\n",
       "         0.91847366, 0.92400916, 0.92400916, 0.30314858, 0.30314858,\n",
       "         0.36757921, 0.36757921, 0.31866207, 0.31866207, 0.39557921,\n",
       "         0.39557921, 0.29902624, 0.29902624, 0.30451827, 0.30451827])}}"
      ]
     },
     "execution_count": 1,
     "metadata": {},
     "output_type": "execute_result"
    }
   ],
   "source": [
    "ds = load_by_id(run_id_n)\n",
    "ds.get_parameter_data('x1')"
   ]
  },
  {
   "cell_type": "markdown",
   "metadata": {},
   "source": [
    "And a dataset stored as binary arrays"
   ]
  },
  {
   "cell_type": "code",
   "execution_count": 12,
   "metadata": {
    "execution": {
     "iopub.execute_input": "2021-04-20T14:46:34.216707Z",
     "iopub.status.busy": "2021-04-20T14:46:34.216130Z",
     "iopub.status.idle": "2021-04-20T14:46:34.268096Z",
     "shell.execute_reply": "2021-04-20T14:46:34.268492Z"
    },
    "scrolled": true
   },
   "outputs": [
    {
     "data": {
      "text/plain": [
       "{'x1': {'x1': array([[9.13095835e-01],\n",
       "         [9.13095835e-01],\n",
       "         [8.68286177e-01],\n",
       "         [8.68286177e-01],\n",
       "         [5.29285746e-01],\n",
       "         [5.29285746e-01],\n",
       "         [9.00176546e-01],\n",
       "         [9.00176546e-01],\n",
       "         [6.71725304e-01],\n",
       "         [6.71725304e-01],\n",
       "         [5.51134487e-01],\n",
       "         [5.51134487e-01],\n",
       "         [4.73220803e-01],\n",
       "         [4.73220803e-01],\n",
       "         [6.09861223e-01],\n",
       "         [6.09861223e-01],\n",
       "         [4.66836243e-01],\n",
       "         [4.66836243e-01],\n",
       "         [9.34371911e-01],\n",
       "         [9.34371911e-01],\n",
       "         [3.58870276e-01],\n",
       "         [3.58870276e-01],\n",
       "         [1.05439436e-01],\n",
       "         [1.05439436e-01],\n",
       "         [5.06166151e-01],\n",
       "         [5.06166151e-01],\n",
       "         [6.79076781e-01],\n",
       "         [6.79076781e-01],\n",
       "         [4.34440676e-01],\n",
       "         [4.34440676e-01],\n",
       "         [3.49856859e-01],\n",
       "         [3.49856859e-01],\n",
       "         [6.54827614e-01],\n",
       "         [6.54827614e-01],\n",
       "         [9.09133290e-01],\n",
       "         [9.09133290e-01],\n",
       "         [8.23735683e-01],\n",
       "         [8.23735683e-01],\n",
       "         [5.59575237e-01],\n",
       "         [5.59575237e-01],\n",
       "         [5.15226805e-04],\n",
       "         [5.15226805e-04],\n",
       "         [6.32313997e-02],\n",
       "         [6.32313997e-02],\n",
       "         [7.02027492e-01],\n",
       "         [7.02027492e-01],\n",
       "         [5.25781476e-01],\n",
       "         [5.25781476e-01],\n",
       "         [8.29855099e-01],\n",
       "         [8.29855099e-01],\n",
       "         [8.37728533e-01],\n",
       "         [8.37728533e-01],\n",
       "         [9.57740769e-01],\n",
       "         [9.57740769e-01],\n",
       "         [7.58964510e-01],\n",
       "         [7.58964510e-01],\n",
       "         [3.29809960e-02],\n",
       "         [3.29809960e-02],\n",
       "         [2.28353438e-01],\n",
       "         [2.28353438e-01],\n",
       "         [2.10520539e-01],\n",
       "         [2.10520539e-01],\n",
       "         [6.76198475e-01],\n",
       "         [6.76198475e-01],\n",
       "         [3.84846385e-02],\n",
       "         [3.84846385e-02],\n",
       "         [4.18121920e-01],\n",
       "         [4.18121920e-01],\n",
       "         [6.82252182e-01],\n",
       "         [6.82252182e-01],\n",
       "         [5.00748740e-01],\n",
       "         [5.00748740e-01],\n",
       "         [8.46572821e-01],\n",
       "         [8.46572821e-01],\n",
       "         [3.26903598e-01],\n",
       "         [3.26903598e-01],\n",
       "         [3.02464512e-01],\n",
       "         [3.02464512e-01],\n",
       "         [6.30617658e-01],\n",
       "         [6.30617658e-01],\n",
       "         [6.05777264e-01],\n",
       "         [6.05777264e-01],\n",
       "         [3.31586862e-01],\n",
       "         [3.31586862e-01],\n",
       "         [8.90094931e-01],\n",
       "         [8.90094931e-01],\n",
       "         [1.61957584e-01],\n",
       "         [1.61957584e-01],\n",
       "         [1.34669413e-01],\n",
       "         [1.34669413e-01],\n",
       "         [2.27224193e-01],\n",
       "         [2.27224193e-01],\n",
       "         [8.77332869e-02],\n",
       "         [8.77332869e-02],\n",
       "         [8.57522734e-01],\n",
       "         [8.57522734e-01],\n",
       "         [6.68913699e-01],\n",
       "         [6.68913699e-01],\n",
       "         [2.93658795e-01],\n",
       "         [2.93658795e-01],\n",
       "         [8.93000242e-01],\n",
       "         [8.93000242e-01],\n",
       "         [2.13471189e-01],\n",
       "         [2.13471189e-01],\n",
       "         [6.74282573e-01],\n",
       "         [6.74282573e-01],\n",
       "         [4.78011339e-01],\n",
       "         [4.78011339e-01],\n",
       "         [9.61475593e-01],\n",
       "         [9.61475593e-01],\n",
       "         [5.39433770e-01],\n",
       "         [5.39433770e-01],\n",
       "         [7.78290110e-02],\n",
       "         [7.78290110e-02],\n",
       "         [6.00892113e-01],\n",
       "         [6.00892113e-01],\n",
       "         [7.68790201e-01],\n",
       "         [7.68790201e-01],\n",
       "         [3.62398839e-01],\n",
       "         [3.62398839e-01],\n",
       "         [6.98568131e-01],\n",
       "         [6.98568131e-01],\n",
       "         [6.82701759e-01],\n",
       "         [6.82701759e-01],\n",
       "         [4.81090775e-01],\n",
       "         [4.81090775e-01],\n",
       "         [3.23734088e-01],\n",
       "         [3.23734088e-01],\n",
       "         [5.51858824e-01],\n",
       "         [5.51858824e-01],\n",
       "         [1.01250170e-01],\n",
       "         [1.01250170e-01],\n",
       "         [5.04462651e-01],\n",
       "         [5.04462651e-01],\n",
       "         [7.29231474e-01],\n",
       "         [7.29231474e-01],\n",
       "         [5.39007231e-01],\n",
       "         [5.39007231e-01],\n",
       "         [1.91073166e-01],\n",
       "         [1.91073166e-01],\n",
       "         [2.79715237e-01],\n",
       "         [2.79715237e-01],\n",
       "         [4.94147755e-01],\n",
       "         [4.94147755e-01],\n",
       "         [4.63120570e-01],\n",
       "         [4.63120570e-01],\n",
       "         [6.36401129e-01],\n",
       "         [6.36401129e-01],\n",
       "         [3.00074342e-01],\n",
       "         [3.00074342e-01],\n",
       "         [1.52962159e-01],\n",
       "         [1.52962159e-01],\n",
       "         [6.38105404e-01],\n",
       "         [6.38105404e-01],\n",
       "         [1.42302234e-01],\n",
       "         [1.42302234e-01],\n",
       "         [8.18001224e-01],\n",
       "         [8.18001224e-01],\n",
       "         [5.64637523e-01],\n",
       "         [5.64637523e-01],\n",
       "         [7.88434613e-01],\n",
       "         [7.88434613e-01],\n",
       "         [7.83006832e-01],\n",
       "         [7.83006832e-01],\n",
       "         [9.80901444e-02],\n",
       "         [9.80901444e-02],\n",
       "         [7.56210054e-03],\n",
       "         [7.56210054e-03],\n",
       "         [2.80430778e-01],\n",
       "         [2.80430778e-01],\n",
       "         [2.76961486e-01],\n",
       "         [2.76961486e-01],\n",
       "         [7.55601977e-01],\n",
       "         [7.55601977e-01],\n",
       "         [8.34894746e-01],\n",
       "         [8.34894746e-01],\n",
       "         [4.89354459e-01],\n",
       "         [4.89354459e-01],\n",
       "         [8.06594030e-01],\n",
       "         [8.06594030e-01],\n",
       "         [5.23461452e-01],\n",
       "         [5.23461452e-01],\n",
       "         [6.51760791e-01],\n",
       "         [6.51760791e-01],\n",
       "         [3.21955779e-01],\n",
       "         [3.21955779e-01],\n",
       "         [2.36632315e-01],\n",
       "         [2.36632315e-01],\n",
       "         [8.86058731e-01],\n",
       "         [8.86058731e-01],\n",
       "         [8.16733134e-01],\n",
       "         [8.16733134e-01],\n",
       "         [2.02371115e-01],\n",
       "         [2.02371115e-01],\n",
       "         [9.20051074e-01],\n",
       "         [9.20051074e-01],\n",
       "         [8.22527005e-01],\n",
       "         [8.22527005e-01],\n",
       "         [8.64039173e-01],\n",
       "         [8.64039173e-01]])}}"
      ]
     },
     "execution_count": 1,
     "metadata": {},
     "output_type": "execute_result"
    }
   ],
   "source": [
    "ds = load_by_id(run_id_a)\n",
    "ds.get_parameter_data('x1')"
   ]
  },
  {
   "cell_type": "code",
   "execution_count": null,
   "metadata": {},
   "outputs": [],
   "source": []
  }
 ],
 "metadata": {
  "kernelspec": {
   "display_name": "Python 3",
   "language": "python",
   "name": "python3"
  },
  "language_info": {
   "codemirror_mode": {
    "name": "ipython",
    "version": 3
   },
   "file_extension": ".py",
   "mimetype": "text/x-python",
   "name": "python",
   "nbconvert_exporter": "python",
   "pygments_lexer": "ipython3",
   "version": "3.7.10"
  },
  "nbsphinx": {
   "timeout": 600
  },
  "toc": {
   "base_numbering": 1,
   "nav_menu": {},
   "number_sections": true,
   "sideBar": true,
   "skip_h1_title": false,
   "title_cell": "Table of Contents",
   "title_sidebar": "Contents",
   "toc_cell": false,
   "toc_position": {},
   "toc_section_display": true,
   "toc_window_display": false
  },
  "varInspector": {
   "cols": {
    "lenName": 16,
    "lenType": 16,
    "lenVar": 40
   },
   "kernels_config": {
    "python": {
     "delete_cmd_postfix": "",
     "delete_cmd_prefix": "del ",
     "library": "var_list.py",
     "varRefreshCmd": "print(var_dic_list())"
    },
    "r": {
     "delete_cmd_postfix": ") ",
     "delete_cmd_prefix": "rm(",
     "library": "var_list.r",
     "varRefreshCmd": "cat(var_dic_list()) "
    }
   },
   "types_to_exclude": [
    "module",
    "function",
    "builtin_function_or_method",
    "instance",
    "_Feature"
   ],
   "window_display": false
  }
 },
 "nbformat": 4,
 "nbformat_minor": 4
}
