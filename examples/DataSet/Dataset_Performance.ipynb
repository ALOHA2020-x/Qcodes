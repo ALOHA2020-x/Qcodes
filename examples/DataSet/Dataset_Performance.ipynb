{
 "cells": [
  {
   "cell_type": "markdown",
   "metadata": {},
   "source": [
    "# DataSet Performance\n",
    "\n",
    "This notebook shows the trade-off between inserting data into a database row-by-row and as binary blobs. Inserting the data row-by-row means that we have direct access to all the data and may perform queries directly on the values of the data. On the other hand, as we shall see, this is much slower than inserting the data directly as binary blobs."
   ]
  },
  {
   "cell_type": "markdown",
   "metadata": {},
   "source": [
    "First, we choose a new location for the database to ensure that we don't add a bunch of benchmarking data to the default one."
   ]
  },
  {
   "cell_type": "code",
   "execution_count": 1,
   "metadata": {
    "execution": {
     "iopub.execute_input": "2021-03-15T07:16:45.199555Z",
     "iopub.status.busy": "2021-03-15T07:16:45.199011Z",
     "iopub.status.idle": "2021-03-15T07:16:46.059751Z",
     "shell.execute_reply": "2021-03-15T07:16:46.059123Z"
    }
   },
   "outputs": [
    {
     "name": "stdout",
     "output_type": "stream",
     "text": [
      "Logging hadn't been started.\n",
      "Activating auto-logging. Current session state plus future input saved.\n",
      "Filename       : /home/runner/.qcodes/logs/command_history.log\n",
      "Mode           : append\n",
      "Output logging : True\n",
      "Raw input log  : False\n",
      "Timestamping   : True\n",
      "State          : active\n"
     ]
    },
    {
     "name": "stdout",
     "output_type": "stream",
     "text": [
      "Qcodes Logfile : /home/runner/.qcodes/logs/210315-4212-qcodes.log\n"
     ]
    }
   ],
   "source": [
    "import os\n",
    "cwd = os.getcwd()\n",
    "import qcodes as qc\n",
    "qc.config[\"core\"][\"db_location\"] = os.path.join(cwd, 'testing.db')\n"
   ]
  },
  {
   "cell_type": "code",
   "execution_count": 2,
   "metadata": {
    "execution": {
     "iopub.execute_input": "2021-03-15T07:16:46.086230Z",
     "iopub.status.busy": "2021-03-15T07:16:46.069838Z",
     "iopub.status.idle": "2021-03-15T07:16:46.257139Z",
     "shell.execute_reply": "2021-03-15T07:16:46.256294Z"
    }
   },
   "outputs": [],
   "source": [
    "%matplotlib inline\n",
    "import time\n",
    "import matplotlib.pyplot as plt\n",
    "import numpy as np\n",
    "\n",
    "import qcodes as qc\n",
    "from qcodes.instrument.parameter import ManualParameter\n",
    "from qcodes.dataset.experiment_container import (Experiment,\n",
    "                                                 load_last_experiment,\n",
    "                                                 new_experiment)\n",
    "from qcodes.dataset.sqlite.database import initialise_database\n",
    "from qcodes import load_or_create_experiment\n",
    "from qcodes.dataset.measurements import Measurement"
   ]
  },
  {
   "cell_type": "code",
   "execution_count": 3,
   "metadata": {
    "execution": {
     "iopub.execute_input": "2021-03-15T07:16:46.261401Z",
     "iopub.status.busy": "2021-03-15T07:16:46.260694Z",
     "iopub.status.idle": "2021-03-15T07:16:46.376439Z",
     "shell.execute_reply": "2021-03-15T07:16:46.375914Z"
    }
   },
   "outputs": [
    {
     "name": "stdout",
     "output_type": "stream",
     "text": [
      "\r",
      "0it [00:00, ?it/s]"
     ]
    },
    {
     "name": "stdout",
     "output_type": "stream",
     "text": [
      "\r",
      "Upgrading database; v0 -> v1: : 0it [00:00, ?it/s]"
     ]
    },
    {
     "name": "stdout",
     "output_type": "stream",
     "text": [
      "\r",
      "Upgrading database; v0 -> v1: : 0it [00:00, ?it/s]"
     ]
    },
    {
     "name": "stdout",
     "output_type": "stream",
     "text": [
      "\n",
      "\r",
      "  0%|          | 0/1 [00:00<?, ?it/s]"
     ]
    },
    {
     "name": "stdout",
     "output_type": "stream",
     "text": [
      "\r",
      "Upgrading database; v1 -> v2:   0%|          | 0/1 [00:00<?, ?it/s]"
     ]
    },
    {
     "name": "stdout",
     "output_type": "stream",
     "text": [
      "\r",
      "Upgrading database; v1 -> v2: 100%|██████████| 1/1 [00:00<00:00, 500.27it/s]"
     ]
    },
    {
     "name": "stdout",
     "output_type": "stream",
     "text": [
      "\n",
      "\r",
      "0it [00:00, ?it/s]"
     ]
    },
    {
     "name": "stdout",
     "output_type": "stream",
     "text": [
      "\r",
      "Upgrading database; v2 -> v3: : 0it [00:00, ?it/s]"
     ]
    },
    {
     "name": "stdout",
     "output_type": "stream",
     "text": [
      "\r",
      "Upgrading database; v2 -> v3: : 0it [00:00, ?it/s]"
     ]
    },
    {
     "name": "stdout",
     "output_type": "stream",
     "text": [
      "\n",
      "\r",
      "0it [00:00, ?it/s]"
     ]
    },
    {
     "name": "stdout",
     "output_type": "stream",
     "text": [
      "\r",
      "Upgrading database; v3 -> v4: : 0it [00:00, ?it/s]"
     ]
    },
    {
     "name": "stdout",
     "output_type": "stream",
     "text": [
      "\r",
      "Upgrading database; v3 -> v4: : 0it [00:00, ?it/s]"
     ]
    },
    {
     "name": "stdout",
     "output_type": "stream",
     "text": [
      "\n",
      "\r",
      "  0%|          | 0/1 [00:00<?, ?it/s]"
     ]
    },
    {
     "name": "stdout",
     "output_type": "stream",
     "text": [
      "\r",
      "Upgrading database; v4 -> v5:   0%|          | 0/1 [00:00<?, ?it/s]"
     ]
    },
    {
     "name": "stdout",
     "output_type": "stream",
     "text": [
      "\r",
      "Upgrading database; v4 -> v5: 100%|██████████| 1/1 [00:00<00:00, 451.97it/s]"
     ]
    },
    {
     "name": "stdout",
     "output_type": "stream",
     "text": [
      "\n",
      "\r",
      "0it [00:00, ?it/s]"
     ]
    },
    {
     "name": "stdout",
     "output_type": "stream",
     "text": [
      "\r",
      "Upgrading database; v5 -> v6: : 0it [00:00, ?it/s]"
     ]
    },
    {
     "name": "stdout",
     "output_type": "stream",
     "text": [
      "\r",
      "Upgrading database; v5 -> v6: : 0it [00:00, ?it/s]"
     ]
    },
    {
     "name": "stdout",
     "output_type": "stream",
     "text": [
      "\n",
      "\r",
      "  0%|          | 0/1 [00:00<?, ?it/s]"
     ]
    },
    {
     "name": "stdout",
     "output_type": "stream",
     "text": [
      "\r",
      "Upgrading database; v6 -> v7:   0%|          | 0/1 [00:00<?, ?it/s]"
     ]
    },
    {
     "name": "stdout",
     "output_type": "stream",
     "text": [
      "\r",
      "Upgrading database; v6 -> v7: 100%|██████████| 1/1 [00:00<00:00, 425.86it/s]"
     ]
    },
    {
     "name": "stdout",
     "output_type": "stream",
     "text": [
      "\n",
      "\r",
      "  0%|          | 0/1 [00:00<?, ?it/s]"
     ]
    },
    {
     "name": "stdout",
     "output_type": "stream",
     "text": [
      "\r",
      "Upgrading database; v7 -> v8:   0%|          | 0/1 [00:00<?, ?it/s]"
     ]
    },
    {
     "name": "stdout",
     "output_type": "stream",
     "text": [
      "\r",
      "Upgrading database; v7 -> v8: 100%|██████████| 1/1 [00:00<00:00, 664.39it/s]"
     ]
    },
    {
     "name": "stdout",
     "output_type": "stream",
     "text": [
      "\n",
      "\r",
      "  0%|          | 0/1 [00:00<?, ?it/s]"
     ]
    },
    {
     "name": "stdout",
     "output_type": "stream",
     "text": [
      "\r",
      "Upgrading database; v8 -> v9:   0%|          | 0/1 [00:00<?, ?it/s]"
     ]
    },
    {
     "name": "stdout",
     "output_type": "stream",
     "text": [
      "\r",
      "Upgrading database; v8 -> v9: 100%|██████████| 1/1 [00:00<00:00, 680.45it/s]"
     ]
    },
    {
     "name": "stdout",
     "output_type": "stream",
     "text": [
      "\n"
     ]
    }
   ],
   "source": [
    "initialise_database()\n",
    "exp = load_or_create_experiment(experiment_name='tutorial_exp', sample_name=\"no sample\")"
   ]
  },
  {
   "cell_type": "markdown",
   "metadata": {},
   "source": [
    "Here, we define a simple function to benchmark the time it takes to insert n points with either numeric or array data type.\n",
    "We will compare both the time used to call ``add_result`` and the time used for the full measurement."
   ]
  },
  {
   "cell_type": "code",
   "execution_count": 4,
   "metadata": {
    "execution": {
     "iopub.execute_input": "2021-03-15T07:16:46.385414Z",
     "iopub.status.busy": "2021-03-15T07:16:46.384717Z",
     "iopub.status.idle": "2021-03-15T07:16:46.387462Z",
     "shell.execute_reply": "2021-03-15T07:16:46.386964Z"
    }
   },
   "outputs": [],
   "source": [
    "def insert_data(paramtype, npoints, nreps=1):\n",
    "\n",
    "    meas = Measurement(exp=exp)\n",
    "\n",
    "    x1 = ManualParameter('x1')\n",
    "    x2 = ManualParameter('x2')\n",
    "    x3 = ManualParameter('x3')\n",
    "    y1 = ManualParameter('y1')\n",
    "    y2 = ManualParameter('y2')\n",
    "\n",
    "    meas.register_parameter(x1, paramtype=paramtype)\n",
    "    meas.register_parameter(x2, paramtype=paramtype)\n",
    "    meas.register_parameter(x3, paramtype=paramtype)\n",
    "    meas.register_parameter(y1, setpoints=[x1, x2, x3],\n",
    "                            paramtype=paramtype)\n",
    "    meas.register_parameter(y2, setpoints=[x1, x2, x3],\n",
    "                            paramtype=paramtype)\n",
    "    start = time.perf_counter()\n",
    "    with meas.run() as datasaver:\n",
    "        start_adding = time.perf_counter()\n",
    "        for i in range(nreps):\n",
    "            datasaver.add_result((x1, np.random.rand(npoints)),\n",
    "                                 (x2, np.random.rand(npoints)),\n",
    "                                 (x3, np.random.rand(npoints)),\n",
    "                                 (y1, np.random.rand(npoints)),\n",
    "                                 (y2, np.random.rand(npoints)))\n",
    "        stop_adding = time.perf_counter()\n",
    "        run_id = datasaver.run_id\n",
    "    stop = time.perf_counter()\n",
    "    tot_time = stop - start\n",
    "    add_time = stop_adding - start_adding\n",
    "    return tot_time, add_time, run_id"
   ]
  },
  {
   "cell_type": "markdown",
   "metadata": {},
   "source": [
    "## Comparison between numeric/array data and binary blob"
   ]
  },
  {
   "cell_type": "markdown",
   "metadata": {},
   "source": [
    "### Case1: Short experiment time"
   ]
  },
  {
   "cell_type": "code",
   "execution_count": 5,
   "metadata": {
    "execution": {
     "iopub.execute_input": "2021-03-15T07:16:46.403452Z",
     "iopub.status.busy": "2021-03-15T07:16:46.392402Z",
     "iopub.status.idle": "2021-03-15T07:16:47.180553Z",
     "shell.execute_reply": "2021-03-15T07:16:47.180020Z"
    }
   },
   "outputs": [
    {
     "name": "stdout",
     "output_type": "stream",
     "text": [
      "Starting experimental run with id: 1. \n",
      "Starting experimental run with id: 2. \n",
      "Starting experimental run with id: 3. \n",
      "Starting experimental run with id: 4. \n",
      "Starting experimental run with id: 5. \n"
     ]
    },
    {
     "name": "stdout",
     "output_type": "stream",
     "text": [
      "Starting experimental run with id: 6. \n"
     ]
    },
    {
     "name": "stdout",
     "output_type": "stream",
     "text": [
      "Starting experimental run with id: 7. \n"
     ]
    },
    {
     "name": "stdout",
     "output_type": "stream",
     "text": [
      "Starting experimental run with id: 8. \n",
      "Starting experimental run with id: 9. \n"
     ]
    },
    {
     "name": "stdout",
     "output_type": "stream",
     "text": [
      "Starting experimental run with id: 10. \n",
      "Starting experimental run with id: 11. \n"
     ]
    },
    {
     "name": "stdout",
     "output_type": "stream",
     "text": [
      "Starting experimental run with id: 12. \n",
      "Starting experimental run with id: 13. \n"
     ]
    },
    {
     "name": "stdout",
     "output_type": "stream",
     "text": [
      "Starting experimental run with id: 14. \n"
     ]
    }
   ],
   "source": [
    "sizes = [1,500,1000,2000,3000,4000,5000]\n",
    "t_numeric = []\n",
    "t_numeric_add = []\n",
    "t_array = []\n",
    "t_array_add = []\n",
    "for size in sizes:\n",
    "    tn, tna, run_id_n =  insert_data('numeric', size)\n",
    "    t_numeric.append(tn)\n",
    "    t_numeric_add.append(tna)\n",
    "\n",
    "    ta, taa, run_id_a =  insert_data('array', size)\n",
    "    t_array.append(ta)\n",
    "    t_array_add.append(taa)"
   ]
  },
  {
   "cell_type": "code",
   "execution_count": 6,
   "metadata": {
    "execution": {
     "iopub.execute_input": "2021-03-15T07:16:47.200315Z",
     "iopub.status.busy": "2021-03-15T07:16:47.199772Z",
     "iopub.status.idle": "2021-03-15T07:16:47.420649Z",
     "shell.execute_reply": "2021-03-15T07:16:47.421259Z"
    }
   },
   "outputs": [
    {
     "data": {
      "image/png": "[encoded data removed]",
      "text/plain": [
       "<Figure size 432x288 with 1 Axes>"
      ]
     },
     "metadata": {
      "needs_background": "light"
     },
     "output_type": "display_data"
    }
   ],
   "source": [
    "fig, ax = plt.subplots(1,1)\n",
    "ax.plot(sizes, t_numeric, 'o-', label='Inserting row-by-row')\n",
    "ax.plot(sizes, t_numeric_add, 'o-', label='Inserting row-by-row: add_result only')\n",
    "ax.plot(sizes, t_array, 'd-', label='Inserting as binary blob')\n",
    "ax.plot(sizes, t_array_add, 'd-', label='Inserting as binary blob: add_result only')\n",
    "ax.legend()\n",
    "ax.set_xlabel('Array length')\n",
    "ax.set_ylabel('Time (s)')\n",
    "fig.tight_layout()"
   ]
  },
  {
   "cell_type": "markdown",
   "metadata": {},
   "source": [
    "As shown in the latter figure, the time to setup and and close the experiment is approximately 0.4 sec. In case of small array sizes, the difference between inserting values of data as arrays and inserting them row-by-row is relatively unimportant. At larger array sizes, i.e. above 10000 points, the cost of writing data as individual datapoints starts to become important.\n"
   ]
  },
  {
   "cell_type": "markdown",
   "metadata": {},
   "source": [
    "### Case2: Long experiment time "
   ]
  },
  {
   "cell_type": "code",
   "execution_count": 7,
   "metadata": {
    "execution": {
     "iopub.execute_input": "2021-03-15T07:16:47.428569Z",
     "iopub.status.busy": "2021-03-15T07:16:47.426721Z",
     "iopub.status.idle": "2021-03-15T07:17:44.354952Z",
     "shell.execute_reply": "2021-03-15T07:17:44.354313Z"
    }
   },
   "outputs": [
    {
     "name": "stdout",
     "output_type": "stream",
     "text": [
      "Starting experimental run with id: 15. \n",
      "Starting experimental run with id: 16. \n"
     ]
    },
    {
     "name": "stdout",
     "output_type": "stream",
     "text": [
      "Starting experimental run with id: 17. \n"
     ]
    },
    {
     "name": "stdout",
     "output_type": "stream",
     "text": [
      "Starting experimental run with id: 18. \n"
     ]
    },
    {
     "name": "stdout",
     "output_type": "stream",
     "text": [
      "Starting experimental run with id: 19. \n"
     ]
    },
    {
     "name": "stdout",
     "output_type": "stream",
     "text": [
      "Starting experimental run with id: 20. \n"
     ]
    },
    {
     "name": "stdout",
     "output_type": "stream",
     "text": [
      "Starting experimental run with id: 21. \n"
     ]
    },
    {
     "name": "stdout",
     "output_type": "stream",
     "text": [
      "Starting experimental run with id: 22. \n"
     ]
    },
    {
     "name": "stdout",
     "output_type": "stream",
     "text": [
      "Starting experimental run with id: 23. \n"
     ]
    },
    {
     "name": "stdout",
     "output_type": "stream",
     "text": [
      "Starting experimental run with id: 24. \n"
     ]
    },
    {
     "name": "stdout",
     "output_type": "stream",
     "text": [
      "Starting experimental run with id: 25. \n"
     ]
    },
    {
     "name": "stdout",
     "output_type": "stream",
     "text": [
      "Starting experimental run with id: 26. \n"
     ]
    },
    {
     "name": "stdout",
     "output_type": "stream",
     "text": [
      "Starting experimental run with id: 27. \n"
     ]
    },
    {
     "name": "stdout",
     "output_type": "stream",
     "text": [
      "Starting experimental run with id: 28. \n"
     ]
    }
   ],
   "source": [
    "sizes = [1,500,1000,2000,3000,4000,5000]\n",
    "nreps = 100\n",
    "t_numeric = []\n",
    "t_numeric_add = []\n",
    "t_numeric_run_ids = []\n",
    "t_array = []\n",
    "t_array_add = []\n",
    "t_array_run_ids = []\n",
    "for size in sizes:\n",
    "    tn, tna, run_id_n =  insert_data('numeric', size, nreps=nreps)\n",
    "    t_numeric.append(tn)\n",
    "    t_numeric_add.append(tna)\n",
    "    t_numeric_run_ids.append(run_id_n)\n",
    "\n",
    "    ta, taa, run_id_a =  insert_data('array', size, nreps=nreps)\n",
    "    t_array.append(ta)\n",
    "    t_array_add.append(taa)\n",
    "    t_array_run_ids.append(run_id_a)"
   ]
  },
  {
   "cell_type": "code",
   "execution_count": 8,
   "metadata": {
    "execution": {
     "iopub.execute_input": "2021-03-15T07:17:44.377845Z",
     "iopub.status.busy": "2021-03-15T07:17:44.374738Z",
     "iopub.status.idle": "2021-03-15T07:17:44.623868Z",
     "shell.execute_reply": "2021-03-15T07:17:44.623037Z"
    },
    "scrolled": true
   },
   "outputs": [
    {
     "data": {
      "image/png": "[encoded data removed]",
      "text/plain": [
       "<Figure size 432x288 with 1 Axes>"
      ]
     },
     "metadata": {
      "needs_background": "light"
     },
     "output_type": "display_data"
    }
   ],
   "source": [
    "fig, ax = plt.subplots(1,1)\n",
    "ax.plot(sizes, t_numeric, 'o-', label='Inserting row-by-row')\n",
    "ax.plot(sizes, t_numeric_add, 'o-', label='Inserting row-by-row: add_result only')\n",
    "ax.plot(sizes, t_array, 'd-', label='Inserting as binary blob')\n",
    "ax.plot(sizes, t_array_add, 'd-', label='Inserting as binary blob: add_result only')\n",
    "ax.legend()\n",
    "ax.set_xlabel('Array length')\n",
    "ax.set_ylabel('Time (s)')\n",
    "fig.tight_layout()"
   ]
  },
  {
   "cell_type": "markdown",
   "metadata": {},
   "source": [
    "However, as we increase the length of the experiment, as seen here by repeating the insertion 100 times, we see a big difference between inserting values of the data row-by-row and inserting it as a binary blob."
   ]
  },
  {
   "cell_type": "markdown",
   "metadata": {},
   "source": [
    "## Loading the data "
   ]
  },
  {
   "cell_type": "code",
   "execution_count": 9,
   "metadata": {
    "execution": {
     "iopub.execute_input": "2021-03-15T07:17:44.628360Z",
     "iopub.status.busy": "2021-03-15T07:17:44.627094Z",
     "iopub.status.idle": "2021-03-15T07:17:44.631086Z",
     "shell.execute_reply": "2021-03-15T07:17:44.630420Z"
    }
   },
   "outputs": [],
   "source": [
    "from qcodes.dataset.data_set import load_by_id\n",
    "from qcodes.dataset.data_export import get_data_by_id"
   ]
  },
  {
   "cell_type": "markdown",
   "metadata": {},
   "source": [
    "As usual you can load the data by using the ``load_by_id`` function but you will notice that the different storage methods\n",
    "are reflected in shape of the data as it is retrieved. "
   ]
  },
  {
   "cell_type": "code",
   "execution_count": 10,
   "metadata": {
    "execution": {
     "iopub.execute_input": "2021-03-15T07:17:44.635095Z",
     "iopub.status.busy": "2021-03-15T07:17:44.634512Z",
     "iopub.status.idle": "2021-03-15T07:17:44.637113Z",
     "shell.execute_reply": "2021-03-15T07:17:44.636663Z"
    }
   },
   "outputs": [],
   "source": [
    "run_id_n = t_numeric_run_ids[0]\n",
    "run_id_a = t_array_run_ids[0]"
   ]
  },
  {
   "cell_type": "code",
   "execution_count": 11,
   "metadata": {
    "execution": {
     "iopub.execute_input": "2021-03-15T07:17:44.640490Z",
     "iopub.status.busy": "2021-03-15T07:17:44.639955Z",
     "iopub.status.idle": "2021-03-15T07:17:44.649303Z",
     "shell.execute_reply": "2021-03-15T07:17:44.649781Z"
    },
    "scrolled": true
   },
   "outputs": [
    {
     "data": {
      "text/plain": [
       "{'x1': {'x1': array([0.22377217, 0.22377217, 0.78439831, 0.78439831, 0.47787721,\n",
       "         0.47787721, 0.60525797, 0.60525797, 0.97344536, 0.97344536,\n",
       "         0.86595616, 0.86595616, 0.84502762, 0.84502762, 0.88118436,\n",
       "         0.88118436, 0.97860615, 0.97860615, 0.59065043, 0.59065043,\n",
       "         0.42578211, 0.42578211, 0.71818063, 0.71818063, 0.29293129,\n",
       "         0.29293129, 0.43261904, 0.43261904, 0.78222312, 0.78222312,\n",
       "         0.70979278, 0.70979278, 0.43741061, 0.43741061, 0.78120221,\n",
       "         0.78120221, 0.5619418 , 0.5619418 , 0.25071354, 0.25071354,\n",
       "         0.92702665, 0.92702665, 0.36725926, 0.36725926, 0.58717322,\n",
       "         0.58717322, 0.35040206, 0.35040206, 0.57042303, 0.57042303,\n",
       "         0.88777708, 0.88777708, 0.33445738, 0.33445738, 0.18460223,\n",
       "         0.18460223, 0.81935092, 0.81935092, 0.19661122, 0.19661122,\n",
       "         0.25336571, 0.25336571, 0.64847607, 0.64847607, 0.5481096 ,\n",
       "         0.5481096 , 0.373667  , 0.373667  , 0.04681762, 0.04681762,\n",
       "         0.31631283, 0.31631283, 0.41638608, 0.41638608, 0.62154606,\n",
       "         0.62154606, 0.81624906, 0.81624906, 0.31969277, 0.31969277,\n",
       "         0.93744423, 0.93744423, 0.08251948, 0.08251948, 0.30069687,\n",
       "         0.30069687, 0.78832849, 0.78832849, 0.5039388 , 0.5039388 ,\n",
       "         0.76526338, 0.76526338, 0.66924763, 0.66924763, 0.90132821,\n",
       "         0.90132821, 0.86845798, 0.86845798, 0.17980932, 0.17980932,\n",
       "         0.87279933, 0.87279933, 0.15283516, 0.15283516, 0.98628433,\n",
       "         0.98628433, 0.92265793, 0.92265793, 0.58939541, 0.58939541,\n",
       "         0.10262363, 0.10262363, 0.19002931, 0.19002931, 0.04272059,\n",
       "         0.04272059, 0.22526277, 0.22526277, 0.40977583, 0.40977583,\n",
       "         0.27012064, 0.27012064, 0.40913947, 0.40913947, 0.34330056,\n",
       "         0.34330056, 0.67220153, 0.67220153, 0.47599408, 0.47599408,\n",
       "         0.71789848, 0.71789848, 0.87959237, 0.87959237, 0.79949473,\n",
       "         0.79949473, 0.23906488, 0.23906488, 0.52723   , 0.52723   ,\n",
       "         0.28222828, 0.28222828, 0.47661645, 0.47661645, 0.10628407,\n",
       "         0.10628407, 0.61599521, 0.61599521, 0.77459768, 0.77459768,\n",
       "         0.352854  , 0.352854  , 0.28576696, 0.28576696, 0.54053434,\n",
       "         0.54053434, 0.15054852, 0.15054852, 0.91840986, 0.91840986,\n",
       "         0.06584166, 0.06584166, 0.32286549, 0.32286549, 0.76764739,\n",
       "         0.76764739, 0.76453066, 0.76453066, 0.55695321, 0.55695321,\n",
       "         0.84115315, 0.84115315, 0.64790819, 0.64790819, 0.27057348,\n",
       "         0.27057348, 0.70086057, 0.70086057, 0.6541848 , 0.6541848 ,\n",
       "         0.20445073, 0.20445073, 0.33153781, 0.33153781, 0.2110491 ,\n",
       "         0.2110491 , 0.14806068, 0.14806068, 0.96019423, 0.96019423,\n",
       "         0.84877687, 0.84877687, 0.70883892, 0.70883892, 0.30972451,\n",
       "         0.30972451, 0.03409568, 0.03409568, 0.42858239, 0.42858239])}}"
      ]
     },
     "execution_count": 1,
     "metadata": {},
     "output_type": "execute_result"
    }
   ],
   "source": [
    "ds = load_by_id(run_id_n)\n",
    "ds.get_parameter_data('x1')"
   ]
  },
  {
   "cell_type": "markdown",
   "metadata": {},
   "source": [
    "And a dataset stored as binary arrays"
   ]
  },
  {
   "cell_type": "code",
   "execution_count": 12,
   "metadata": {
    "execution": {
     "iopub.execute_input": "2021-03-15T07:17:44.653727Z",
     "iopub.status.busy": "2021-03-15T07:17:44.653003Z",
     "iopub.status.idle": "2021-03-15T07:17:44.718379Z",
     "shell.execute_reply": "2021-03-15T07:17:44.718898Z"
    },
    "scrolled": true
   },
   "outputs": [
    {
     "data": {
      "text/plain": [
       "{'x1': {'x1': array([[0.77958965],\n",
       "         [0.77958965],\n",
       "         [0.39616864],\n",
       "         [0.39616864],\n",
       "         [0.17853543],\n",
       "         [0.17853543],\n",
       "         [0.65363472],\n",
       "         [0.65363472],\n",
       "         [0.38214025],\n",
       "         [0.38214025],\n",
       "         [0.79831295],\n",
       "         [0.79831295],\n",
       "         [0.76294383],\n",
       "         [0.76294383],\n",
       "         [0.11336186],\n",
       "         [0.11336186],\n",
       "         [0.02423655],\n",
       "         [0.02423655],\n",
       "         [0.96234084],\n",
       "         [0.96234084],\n",
       "         [0.85088658],\n",
       "         [0.85088658],\n",
       "         [0.45345347],\n",
       "         [0.45345347],\n",
       "         [0.82730643],\n",
       "         [0.82730643],\n",
       "         [0.660234  ],\n",
       "         [0.660234  ],\n",
       "         [0.38408356],\n",
       "         [0.38408356],\n",
       "         [0.21675581],\n",
       "         [0.21675581],\n",
       "         [0.83589269],\n",
       "         [0.83589269],\n",
       "         [0.48235313],\n",
       "         [0.48235313],\n",
       "         [0.77650766],\n",
       "         [0.77650766],\n",
       "         [0.00991238],\n",
       "         [0.00991238],\n",
       "         [0.61108327],\n",
       "         [0.61108327],\n",
       "         [0.97360357],\n",
       "         [0.97360357],\n",
       "         [0.99611941],\n",
       "         [0.99611941],\n",
       "         [0.68495228],\n",
       "         [0.68495228],\n",
       "         [0.50828277],\n",
       "         [0.50828277],\n",
       "         [0.88382741],\n",
       "         [0.88382741],\n",
       "         [0.3342169 ],\n",
       "         [0.3342169 ],\n",
       "         [0.7537872 ],\n",
       "         [0.7537872 ],\n",
       "         [0.14836181],\n",
       "         [0.14836181],\n",
       "         [0.78881395],\n",
       "         [0.78881395],\n",
       "         [0.96443767],\n",
       "         [0.96443767],\n",
       "         [0.23930074],\n",
       "         [0.23930074],\n",
       "         [0.83968063],\n",
       "         [0.83968063],\n",
       "         [0.79346397],\n",
       "         [0.79346397],\n",
       "         [0.2727054 ],\n",
       "         [0.2727054 ],\n",
       "         [0.59435772],\n",
       "         [0.59435772],\n",
       "         [0.71305218],\n",
       "         [0.71305218],\n",
       "         [0.01266179],\n",
       "         [0.01266179],\n",
       "         [0.99860556],\n",
       "         [0.99860556],\n",
       "         [0.29596609],\n",
       "         [0.29596609],\n",
       "         [0.85981481],\n",
       "         [0.85981481],\n",
       "         [0.2803311 ],\n",
       "         [0.2803311 ],\n",
       "         [0.48702525],\n",
       "         [0.48702525],\n",
       "         [0.43146335],\n",
       "         [0.43146335],\n",
       "         [0.87694139],\n",
       "         [0.87694139],\n",
       "         [0.01596166],\n",
       "         [0.01596166],\n",
       "         [0.37182222],\n",
       "         [0.37182222],\n",
       "         [0.95974846],\n",
       "         [0.95974846],\n",
       "         [0.9079235 ],\n",
       "         [0.9079235 ],\n",
       "         [0.85319684],\n",
       "         [0.85319684],\n",
       "         [0.1659848 ],\n",
       "         [0.1659848 ],\n",
       "         [0.38639904],\n",
       "         [0.38639904],\n",
       "         [0.38613195],\n",
       "         [0.38613195],\n",
       "         [0.16770836],\n",
       "         [0.16770836],\n",
       "         [0.80067131],\n",
       "         [0.80067131],\n",
       "         [0.49637871],\n",
       "         [0.49637871],\n",
       "         [0.19273107],\n",
       "         [0.19273107],\n",
       "         [0.79986168],\n",
       "         [0.79986168],\n",
       "         [0.0411077 ],\n",
       "         [0.0411077 ],\n",
       "         [0.62242051],\n",
       "         [0.62242051],\n",
       "         [0.70350289],\n",
       "         [0.70350289],\n",
       "         [0.41652211],\n",
       "         [0.41652211],\n",
       "         [0.78640653],\n",
       "         [0.78640653],\n",
       "         [0.26046591],\n",
       "         [0.26046591],\n",
       "         [0.10265677],\n",
       "         [0.10265677],\n",
       "         [0.15573315],\n",
       "         [0.15573315],\n",
       "         [0.39805251],\n",
       "         [0.39805251],\n",
       "         [0.68669184],\n",
       "         [0.68669184],\n",
       "         [0.85226461],\n",
       "         [0.85226461],\n",
       "         [0.2605998 ],\n",
       "         [0.2605998 ],\n",
       "         [0.58333336],\n",
       "         [0.58333336],\n",
       "         [0.65175425],\n",
       "         [0.65175425],\n",
       "         [0.5131613 ],\n",
       "         [0.5131613 ],\n",
       "         [0.14507157],\n",
       "         [0.14507157],\n",
       "         [0.73829665],\n",
       "         [0.73829665],\n",
       "         [0.25290925],\n",
       "         [0.25290925],\n",
       "         [0.32339015],\n",
       "         [0.32339015],\n",
       "         [0.47759836],\n",
       "         [0.47759836],\n",
       "         [0.72194493],\n",
       "         [0.72194493],\n",
       "         [0.39303102],\n",
       "         [0.39303102],\n",
       "         [0.62113828],\n",
       "         [0.62113828],\n",
       "         [0.95828076],\n",
       "         [0.95828076],\n",
       "         [0.83358825],\n",
       "         [0.83358825],\n",
       "         [0.70871538],\n",
       "         [0.70871538],\n",
       "         [0.71942508],\n",
       "         [0.71942508],\n",
       "         [0.99993609],\n",
       "         [0.99993609],\n",
       "         [0.64512335],\n",
       "         [0.64512335],\n",
       "         [0.58391485],\n",
       "         [0.58391485],\n",
       "         [0.13164698],\n",
       "         [0.13164698],\n",
       "         [0.26631189],\n",
       "         [0.26631189],\n",
       "         [0.57128751],\n",
       "         [0.57128751],\n",
       "         [0.36837556],\n",
       "         [0.36837556],\n",
       "         [0.15714283],\n",
       "         [0.15714283],\n",
       "         [0.01483232],\n",
       "         [0.01483232],\n",
       "         [0.48515363],\n",
       "         [0.48515363],\n",
       "         [0.92280766],\n",
       "         [0.92280766],\n",
       "         [0.64028409],\n",
       "         [0.64028409],\n",
       "         [0.57467275],\n",
       "         [0.57467275],\n",
       "         [0.43723518],\n",
       "         [0.43723518],\n",
       "         [0.18936875],\n",
       "         [0.18936875]])}}"
      ]
     },
     "execution_count": 1,
     "metadata": {},
     "output_type": "execute_result"
    }
   ],
   "source": [
    "ds = load_by_id(run_id_a)\n",
    "ds.get_parameter_data('x1')"
   ]
  },
  {
   "cell_type": "code",
   "execution_count": null,
   "metadata": {},
   "outputs": [],
   "source": []
  }
 ],
 "metadata": {
  "kernelspec": {
   "display_name": "Python 3",
   "language": "python",
   "name": "python3"
  },
  "language_info": {
   "codemirror_mode": {
    "name": "ipython",
    "version": 3
   },
   "file_extension": ".py",
   "mimetype": "text/x-python",
   "name": "python",
   "nbconvert_exporter": "python",
   "pygments_lexer": "ipython3",
   "version": "3.7.10"
  },
  "nbsphinx": {
   "timeout": 600
  },
  "toc": {
   "base_numbering": 1,
   "nav_menu": {},
   "number_sections": true,
   "sideBar": true,
   "skip_h1_title": false,
   "title_cell": "Table of Contents",
   "title_sidebar": "Contents",
   "toc_cell": false,
   "toc_position": {},
   "toc_section_display": true,
   "toc_window_display": false
  },
  "varInspector": {
   "cols": {
    "lenName": 16,
    "lenType": 16,
    "lenVar": 40
   },
   "kernels_config": {
    "python": {
     "delete_cmd_postfix": "",
     "delete_cmd_prefix": "del ",
     "library": "var_list.py",
     "varRefreshCmd": "print(var_dic_list())"
    },
    "r": {
     "delete_cmd_postfix": ") ",
     "delete_cmd_prefix": "rm(",
     "library": "var_list.r",
     "varRefreshCmd": "cat(var_dic_list()) "
    }
   },
   "types_to_exclude": [
    "module",
    "function",
    "builtin_function_or_method",
    "instance",
    "_Feature"
   ],
   "window_display": false
  }
 },
 "nbformat": 4,
 "nbformat_minor": 2
}
