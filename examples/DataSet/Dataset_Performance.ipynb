{
 "cells": [
  {
   "cell_type": "markdown",
   "metadata": {},
   "source": [
    "# DataSet Performance\n",
    "\n",
    "This notebook shows the trade-off between inserting data into a database row-by-row and as binary blobs. Inserting the data row-by-row means that we have direct access to all the data and may perform queries directly on the values of the data. On the other hand, as we shall see, this is much slower than inserting the data directly as binary blobs."
   ]
  },
  {
   "cell_type": "markdown",
   "metadata": {},
   "source": [
    "First, we choose a new location for the database to ensure that we don't add a bunch of benchmarking data to the default one."
   ]
  },
  {
   "cell_type": "code",
   "execution_count": 1,
   "metadata": {
    "execution": {
     "iopub.execute_input": "2021-04-21T08:03:31.569513Z",
     "iopub.status.busy": "2021-04-21T08:03:31.568876Z",
     "iopub.status.idle": "2021-04-21T08:03:32.737254Z",
     "shell.execute_reply": "2021-04-21T08:03:32.736154Z"
    }
   },
   "outputs": [
    {
     "name": "stdout",
     "output_type": "stream",
     "text": [
      "Logging hadn't been started.\n",
      "Activating auto-logging. Current session state plus future input saved.\n",
      "Filename       : /home/runner/.qcodes/logs/command_history.log\n",
      "Mode           : append\n",
      "Output logging : True\n",
      "Raw input log  : False\n",
      "Timestamping   : True\n",
      "State          : active\n"
     ]
    },
    {
     "name": "stdout",
     "output_type": "stream",
     "text": [
      "Qcodes Logfile : /home/runner/.qcodes/logs/210421-4462-qcodes.log\n"
     ]
    }
   ],
   "source": [
    "import os\n",
    "cwd = os.getcwd()\n",
    "import qcodes as qc\n",
    "qc.config[\"core\"][\"db_location\"] = os.path.join(cwd, 'testing.db')\n"
   ]
  },
  {
   "cell_type": "code",
   "execution_count": 2,
   "metadata": {
    "execution": {
     "iopub.execute_input": "2021-04-21T08:03:32.744484Z",
     "iopub.status.busy": "2021-04-21T08:03:32.743493Z",
     "iopub.status.idle": "2021-04-21T08:03:33.029410Z",
     "shell.execute_reply": "2021-04-21T08:03:33.028804Z"
    }
   },
   "outputs": [],
   "source": [
    "%matplotlib inline\n",
    "import time\n",
    "import matplotlib.pyplot as plt\n",
    "import numpy as np\n",
    "\n",
    "import qcodes as qc\n",
    "from qcodes.instrument.parameter import ManualParameter\n",
    "from qcodes.dataset.experiment_container import (Experiment,\n",
    "                                                 load_last_experiment,\n",
    "                                                 new_experiment)\n",
    "from qcodes.dataset.sqlite.database import initialise_database\n",
    "from qcodes import load_or_create_experiment\n",
    "from qcodes.dataset.measurements import Measurement"
   ]
  },
  {
   "cell_type": "code",
   "execution_count": 3,
   "metadata": {
    "execution": {
     "iopub.execute_input": "2021-04-21T08:03:33.032896Z",
     "iopub.status.busy": "2021-04-21T08:03:33.032246Z",
     "iopub.status.idle": "2021-04-21T08:03:33.121129Z",
     "shell.execute_reply": "2021-04-21T08:03:33.120448Z"
    }
   },
   "outputs": [
    {
     "name": "stdout",
     "output_type": "stream",
     "text": [
      "\r",
      "0it [00:00, ?it/s]"
     ]
    },
    {
     "name": "stdout",
     "output_type": "stream",
     "text": [
      "\r",
      "Upgrading database; v0 -> v1: : 0it [00:00, ?it/s]"
     ]
    },
    {
     "name": "stdout",
     "output_type": "stream",
     "text": [
      "\r",
      "Upgrading database; v0 -> v1: : 0it [00:00, ?it/s]"
     ]
    },
    {
     "name": "stdout",
     "output_type": "stream",
     "text": [
      "\n",
      "\r",
      "  0%|          | 0/1 [00:00<?, ?it/s]"
     ]
    },
    {
     "name": "stdout",
     "output_type": "stream",
     "text": [
      "\r",
      "Upgrading database; v1 -> v2:   0%|          | 0/1 [00:00<?, ?it/s]"
     ]
    },
    {
     "name": "stdout",
     "output_type": "stream",
     "text": [
      "\r",
      "Upgrading database; v1 -> v2: 100%|██████████| 1/1 [00:00<00:00, 510.32it/s]"
     ]
    },
    {
     "name": "stdout",
     "output_type": "stream",
     "text": [
      "\n",
      "\r",
      "0it [00:00, ?it/s]"
     ]
    },
    {
     "name": "stdout",
     "output_type": "stream",
     "text": [
      "\r",
      "Upgrading database; v2 -> v3: : 0it [00:00, ?it/s]"
     ]
    },
    {
     "name": "stdout",
     "output_type": "stream",
     "text": [
      "\r",
      "Upgrading database; v2 -> v3: : 0it [00:00, ?it/s]"
     ]
    },
    {
     "name": "stdout",
     "output_type": "stream",
     "text": [
      "\n",
      "\r",
      "0it [00:00, ?it/s]"
     ]
    },
    {
     "name": "stdout",
     "output_type": "stream",
     "text": [
      "\r",
      "Upgrading database; v3 -> v4: : 0it [00:00, ?it/s]"
     ]
    },
    {
     "name": "stdout",
     "output_type": "stream",
     "text": [
      "\r",
      "Upgrading database; v3 -> v4: : 0it [00:00, ?it/s]"
     ]
    },
    {
     "name": "stdout",
     "output_type": "stream",
     "text": [
      "\n",
      "\r",
      "  0%|          | 0/1 [00:00<?, ?it/s]"
     ]
    },
    {
     "name": "stdout",
     "output_type": "stream",
     "text": [
      "\r",
      "Upgrading database; v4 -> v5:   0%|          | 0/1 [00:00<?, ?it/s]"
     ]
    },
    {
     "name": "stdout",
     "output_type": "stream",
     "text": [
      "\r",
      "Upgrading database; v4 -> v5: 100%|██████████| 1/1 [00:00<00:00, 486.47it/s]"
     ]
    },
    {
     "name": "stdout",
     "output_type": "stream",
     "text": [
      "\n",
      "\r",
      "0it [00:00, ?it/s]"
     ]
    },
    {
     "name": "stdout",
     "output_type": "stream",
     "text": [
      "\r",
      "Upgrading database; v5 -> v6: : 0it [00:00, ?it/s]"
     ]
    },
    {
     "name": "stdout",
     "output_type": "stream",
     "text": [
      "\r",
      "Upgrading database; v5 -> v6: : 0it [00:00, ?it/s]"
     ]
    },
    {
     "name": "stdout",
     "output_type": "stream",
     "text": [
      "\n",
      "\r",
      "  0%|          | 0/1 [00:00<?, ?it/s]"
     ]
    },
    {
     "name": "stdout",
     "output_type": "stream",
     "text": [
      "\r",
      "Upgrading database; v6 -> v7:   0%|          | 0/1 [00:00<?, ?it/s]"
     ]
    },
    {
     "name": "stdout",
     "output_type": "stream",
     "text": [
      "\r",
      "Upgrading database; v6 -> v7: 100%|██████████| 1/1 [00:00<00:00, 226.79it/s]"
     ]
    },
    {
     "name": "stdout",
     "output_type": "stream",
     "text": [
      "\n",
      "\r",
      "  0%|          | 0/1 [00:00<?, ?it/s]"
     ]
    },
    {
     "name": "stdout",
     "output_type": "stream",
     "text": [
      "\r",
      "Upgrading database; v7 -> v8:   0%|          | 0/1 [00:00<?, ?it/s]"
     ]
    },
    {
     "name": "stdout",
     "output_type": "stream",
     "text": [
      "\r",
      "Upgrading database; v7 -> v8: 100%|██████████| 1/1 [00:00<00:00, 505.64it/s]"
     ]
    },
    {
     "name": "stdout",
     "output_type": "stream",
     "text": [
      "\n",
      "\r",
      "  0%|          | 0/1 [00:00<?, ?it/s]"
     ]
    },
    {
     "name": "stdout",
     "output_type": "stream",
     "text": [
      "\r",
      "Upgrading database; v8 -> v9:   0%|          | 0/1 [00:00<?, ?it/s]"
     ]
    },
    {
     "name": "stdout",
     "output_type": "stream",
     "text": [
      "\r",
      "Upgrading database; v8 -> v9: 100%|██████████| 1/1 [00:00<00:00, 555.17it/s]"
     ]
    },
    {
     "name": "stdout",
     "output_type": "stream",
     "text": [
      "\n"
     ]
    }
   ],
   "source": [
    "initialise_database()\n",
    "exp = load_or_create_experiment(experiment_name='tutorial_exp', sample_name=\"no sample\")"
   ]
  },
  {
   "cell_type": "markdown",
   "metadata": {},
   "source": [
    "Here, we define a simple function to benchmark the time it takes to insert n points with either numeric or array data type.\n",
    "We will compare both the time used to call ``add_result`` and the time used for the full measurement."
   ]
  },
  {
   "cell_type": "code",
   "execution_count": 4,
   "metadata": {
    "execution": {
     "iopub.execute_input": "2021-04-21T08:03:33.130246Z",
     "iopub.status.busy": "2021-04-21T08:03:33.129561Z",
     "iopub.status.idle": "2021-04-21T08:03:33.142151Z",
     "shell.execute_reply": "2021-04-21T08:03:33.142740Z"
    }
   },
   "outputs": [],
   "source": [
    "def insert_data(paramtype, npoints, nreps=1):\n",
    "\n",
    "    meas = Measurement(exp=exp)\n",
    "\n",
    "    x1 = ManualParameter('x1')\n",
    "    x2 = ManualParameter('x2')\n",
    "    x3 = ManualParameter('x3')\n",
    "    y1 = ManualParameter('y1')\n",
    "    y2 = ManualParameter('y2')\n",
    "\n",
    "    meas.register_parameter(x1, paramtype=paramtype)\n",
    "    meas.register_parameter(x2, paramtype=paramtype)\n",
    "    meas.register_parameter(x3, paramtype=paramtype)\n",
    "    meas.register_parameter(y1, setpoints=[x1, x2, x3],\n",
    "                            paramtype=paramtype)\n",
    "    meas.register_parameter(y2, setpoints=[x1, x2, x3],\n",
    "                            paramtype=paramtype)\n",
    "    start = time.perf_counter()\n",
    "    with meas.run() as datasaver:\n",
    "        start_adding = time.perf_counter()\n",
    "        for i in range(nreps):\n",
    "            datasaver.add_result((x1, np.random.rand(npoints)),\n",
    "                                 (x2, np.random.rand(npoints)),\n",
    "                                 (x3, np.random.rand(npoints)),\n",
    "                                 (y1, np.random.rand(npoints)),\n",
    "                                 (y2, np.random.rand(npoints)))\n",
    "        stop_adding = time.perf_counter()\n",
    "        run_id = datasaver.run_id\n",
    "    stop = time.perf_counter()\n",
    "    tot_time = stop - start\n",
    "    add_time = stop_adding - start_adding\n",
    "    return tot_time, add_time, run_id"
   ]
  },
  {
   "cell_type": "markdown",
   "metadata": {},
   "source": [
    "## Comparison between numeric/array data and binary blob"
   ]
  },
  {
   "cell_type": "markdown",
   "metadata": {},
   "source": [
    "### Case1: Short experiment time"
   ]
  },
  {
   "cell_type": "code",
   "execution_count": 5,
   "metadata": {
    "execution": {
     "iopub.execute_input": "2021-04-21T08:03:33.153359Z",
     "iopub.status.busy": "2021-04-21T08:03:33.152171Z",
     "iopub.status.idle": "2021-04-21T08:03:34.099603Z",
     "shell.execute_reply": "2021-04-21T08:03:34.100371Z"
    }
   },
   "outputs": [
    {
     "name": "stdout",
     "output_type": "stream",
     "text": [
      "Starting experimental run with id: 1. \n",
      "Starting experimental run with id: 2. \n",
      "Starting experimental run with id: 3. \n"
     ]
    },
    {
     "name": "stdout",
     "output_type": "stream",
     "text": [
      "Starting experimental run with id: 4. \n"
     ]
    },
    {
     "name": "stdout",
     "output_type": "stream",
     "text": [
      "Starting experimental run with id: 5. \n"
     ]
    },
    {
     "name": "stdout",
     "output_type": "stream",
     "text": [
      "Starting experimental run with id: 6. \n",
      "Starting experimental run with id: 7. \n"
     ]
    },
    {
     "name": "stdout",
     "output_type": "stream",
     "text": [
      "Starting experimental run with id: 8. \n"
     ]
    },
    {
     "name": "stdout",
     "output_type": "stream",
     "text": [
      "Starting experimental run with id: 9. \n"
     ]
    },
    {
     "name": "stdout",
     "output_type": "stream",
     "text": [
      "Starting experimental run with id: 10. \n",
      "Starting experimental run with id: 11. \n"
     ]
    },
    {
     "name": "stdout",
     "output_type": "stream",
     "text": [
      "Starting experimental run with id: 12. \n",
      "Starting experimental run with id: 13. \n"
     ]
    },
    {
     "name": "stdout",
     "output_type": "stream",
     "text": [
      "Starting experimental run with id: 14. \n"
     ]
    }
   ],
   "source": [
    "sizes = [1,500,1000,2000,3000,4000,5000]\n",
    "t_numeric = []\n",
    "t_numeric_add = []\n",
    "t_array = []\n",
    "t_array_add = []\n",
    "for size in sizes:\n",
    "    tn, tna, run_id_n =  insert_data('numeric', size)\n",
    "    t_numeric.append(tn)\n",
    "    t_numeric_add.append(tna)\n",
    "\n",
    "    ta, taa, run_id_a =  insert_data('array', size)\n",
    "    t_array.append(ta)\n",
    "    t_array_add.append(taa)"
   ]
  },
  {
   "cell_type": "code",
   "execution_count": 6,
   "metadata": {
    "execution": {
     "iopub.execute_input": "2021-04-21T08:03:34.138058Z",
     "iopub.status.busy": "2021-04-21T08:03:34.121098Z",
     "iopub.status.idle": "2021-04-21T08:03:34.341073Z",
     "shell.execute_reply": "2021-04-21T08:03:34.340141Z"
    }
   },
   "outputs": [
    {
     "data": {
      "image/png": "[encoded data removed]",
      "text/plain": [
       "<Figure size 432x288 with 1 Axes>"
      ]
     },
     "metadata": {
      "needs_background": "light"
     },
     "output_type": "display_data"
    }
   ],
   "source": [
    "fig, ax = plt.subplots(1,1)\n",
    "ax.plot(sizes, t_numeric, 'o-', label='Inserting row-by-row')\n",
    "ax.plot(sizes, t_numeric_add, 'o-', label='Inserting row-by-row: add_result only')\n",
    "ax.plot(sizes, t_array, 'd-', label='Inserting as binary blob')\n",
    "ax.plot(sizes, t_array_add, 'd-', label='Inserting as binary blob: add_result only')\n",
    "ax.legend()\n",
    "ax.set_xlabel('Array length')\n",
    "ax.set_ylabel('Time (s)')\n",
    "fig.tight_layout()"
   ]
  },
  {
   "cell_type": "markdown",
   "metadata": {},
   "source": [
    "As shown in the latter figure, the time to setup and and close the experiment is approximately 0.4 sec. In case of small array sizes, the difference between inserting values of data as arrays and inserting them row-by-row is relatively unimportant. At larger array sizes, i.e. above 10000 points, the cost of writing data as individual datapoints starts to become important.\n"
   ]
  },
  {
   "cell_type": "markdown",
   "metadata": {},
   "source": [
    "### Case2: Long experiment time "
   ]
  },
  {
   "cell_type": "code",
   "execution_count": 7,
   "metadata": {
    "execution": {
     "iopub.execute_input": "2021-04-21T08:03:34.349154Z",
     "iopub.status.busy": "2021-04-21T08:03:34.347869Z",
     "iopub.status.idle": "2021-04-21T08:04:38.364208Z",
     "shell.execute_reply": "2021-04-21T08:04:38.364715Z"
    }
   },
   "outputs": [
    {
     "name": "stdout",
     "output_type": "stream",
     "text": [
      "Starting experimental run with id: 15. \n",
      "Starting experimental run with id: 16. \n"
     ]
    },
    {
     "name": "stdout",
     "output_type": "stream",
     "text": [
      "Starting experimental run with id: 17. \n"
     ]
    },
    {
     "name": "stdout",
     "output_type": "stream",
     "text": [
      "Starting experimental run with id: 18. \n"
     ]
    },
    {
     "name": "stdout",
     "output_type": "stream",
     "text": [
      "Starting experimental run with id: 19. \n"
     ]
    },
    {
     "name": "stdout",
     "output_type": "stream",
     "text": [
      "Starting experimental run with id: 20. \n"
     ]
    },
    {
     "name": "stdout",
     "output_type": "stream",
     "text": [
      "Starting experimental run with id: 21. \n"
     ]
    },
    {
     "name": "stdout",
     "output_type": "stream",
     "text": [
      "Starting experimental run with id: 22. \n"
     ]
    },
    {
     "name": "stdout",
     "output_type": "stream",
     "text": [
      "Starting experimental run with id: 23. \n"
     ]
    },
    {
     "name": "stdout",
     "output_type": "stream",
     "text": [
      "Starting experimental run with id: 24. \n"
     ]
    },
    {
     "name": "stdout",
     "output_type": "stream",
     "text": [
      "Starting experimental run with id: 25. \n"
     ]
    },
    {
     "name": "stdout",
     "output_type": "stream",
     "text": [
      "Starting experimental run with id: 26. \n"
     ]
    },
    {
     "name": "stdout",
     "output_type": "stream",
     "text": [
      "Starting experimental run with id: 27. \n"
     ]
    },
    {
     "name": "stdout",
     "output_type": "stream",
     "text": [
      "Starting experimental run with id: 28. \n"
     ]
    }
   ],
   "source": [
    "sizes = [1,500,1000,2000,3000,4000,5000]\n",
    "nreps = 100\n",
    "t_numeric = []\n",
    "t_numeric_add = []\n",
    "t_numeric_run_ids = []\n",
    "t_array = []\n",
    "t_array_add = []\n",
    "t_array_run_ids = []\n",
    "for size in sizes:\n",
    "    tn, tna, run_id_n =  insert_data('numeric', size, nreps=nreps)\n",
    "    t_numeric.append(tn)\n",
    "    t_numeric_add.append(tna)\n",
    "    t_numeric_run_ids.append(run_id_n)\n",
    "\n",
    "    ta, taa, run_id_a =  insert_data('array', size, nreps=nreps)\n",
    "    t_array.append(ta)\n",
    "    t_array_add.append(taa)\n",
    "    t_array_run_ids.append(run_id_a)"
   ]
  },
  {
   "cell_type": "code",
   "execution_count": 8,
   "metadata": {
    "execution": {
     "iopub.execute_input": "2021-04-21T08:04:38.397912Z",
     "iopub.status.busy": "2021-04-21T08:04:38.377881Z",
     "iopub.status.idle": "2021-04-21T08:04:38.607525Z",
     "shell.execute_reply": "2021-04-21T08:04:38.606956Z"
    },
    "scrolled": true
   },
   "outputs": [
    {
     "data": {
      "image/png": "[encoded data removed]",
      "text/plain": [
       "<Figure size 432x288 with 1 Axes>"
      ]
     },
     "metadata": {
      "needs_background": "light"
     },
     "output_type": "display_data"
    }
   ],
   "source": [
    "fig, ax = plt.subplots(1,1)\n",
    "ax.plot(sizes, t_numeric, 'o-', label='Inserting row-by-row')\n",
    "ax.plot(sizes, t_numeric_add, 'o-', label='Inserting row-by-row: add_result only')\n",
    "ax.plot(sizes, t_array, 'd-', label='Inserting as binary blob')\n",
    "ax.plot(sizes, t_array_add, 'd-', label='Inserting as binary blob: add_result only')\n",
    "ax.legend()\n",
    "ax.set_xlabel('Array length')\n",
    "ax.set_ylabel('Time (s)')\n",
    "fig.tight_layout()"
   ]
  },
  {
   "cell_type": "markdown",
   "metadata": {},
   "source": [
    "However, as we increase the length of the experiment, as seen here by repeating the insertion 100 times, we see a big difference between inserting values of the data row-by-row and inserting it as a binary blob."
   ]
  },
  {
   "cell_type": "markdown",
   "metadata": {},
   "source": [
    "## Loading the data "
   ]
  },
  {
   "cell_type": "code",
   "execution_count": 9,
   "metadata": {
    "execution": {
     "iopub.execute_input": "2021-04-21T08:04:38.612139Z",
     "iopub.status.busy": "2021-04-21T08:04:38.611526Z",
     "iopub.status.idle": "2021-04-21T08:04:38.614857Z",
     "shell.execute_reply": "2021-04-21T08:04:38.615345Z"
    }
   },
   "outputs": [],
   "source": [
    "from qcodes.dataset.data_set import load_by_id"
   ]
  },
  {
   "cell_type": "markdown",
   "metadata": {},
   "source": [
    "As usual you can load the data by using the ``load_by_id`` function but you will notice that the different storage methods\n",
    "are reflected in shape of the data as it is retrieved. "
   ]
  },
  {
   "cell_type": "code",
   "execution_count": 10,
   "metadata": {
    "execution": {
     "iopub.execute_input": "2021-04-21T08:04:38.619882Z",
     "iopub.status.busy": "2021-04-21T08:04:38.618507Z",
     "iopub.status.idle": "2021-04-21T08:04:38.621749Z",
     "shell.execute_reply": "2021-04-21T08:04:38.622310Z"
    }
   },
   "outputs": [],
   "source": [
    "run_id_n = t_numeric_run_ids[0]\n",
    "run_id_a = t_array_run_ids[0]"
   ]
  },
  {
   "cell_type": "code",
   "execution_count": 11,
   "metadata": {
    "execution": {
     "iopub.execute_input": "2021-04-21T08:04:38.626626Z",
     "iopub.status.busy": "2021-04-21T08:04:38.625442Z",
     "iopub.status.idle": "2021-04-21T08:04:38.685895Z",
     "shell.execute_reply": "2021-04-21T08:04:38.686465Z"
    },
    "scrolled": true
   },
   "outputs": [
    {
     "data": {
      "text/plain": [
       "{'x1': {'x1': array([0.33922187, 0.33922187, 0.39988875, 0.39988875, 0.69786506,\n",
       "         0.69786506, 0.47511718, 0.47511718, 0.85217667, 0.85217667,\n",
       "         0.83454788, 0.83454788, 0.68668124, 0.68668124, 0.55452689,\n",
       "         0.55452689, 0.85301617, 0.85301617, 0.26675127, 0.26675127,\n",
       "         0.42659744, 0.42659744, 0.67837176, 0.67837176, 0.456605  ,\n",
       "         0.456605  , 0.12962044, 0.12962044, 0.94745607, 0.94745607,\n",
       "         0.32796686, 0.32796686, 0.31402045, 0.31402045, 0.45636698,\n",
       "         0.45636698, 0.14966187, 0.14966187, 0.83968174, 0.83968174,\n",
       "         0.20242771, 0.20242771, 0.62222149, 0.62222149, 0.76630995,\n",
       "         0.76630995, 0.9783084 , 0.9783084 , 0.85924216, 0.85924216,\n",
       "         0.98807837, 0.98807837, 0.62363667, 0.62363667, 0.65186519,\n",
       "         0.65186519, 0.1427996 , 0.1427996 , 0.8202947 , 0.8202947 ,\n",
       "         0.327552  , 0.327552  , 0.05827473, 0.05827473, 0.56173315,\n",
       "         0.56173315, 0.57365908, 0.57365908, 0.29032674, 0.29032674,\n",
       "         0.55042246, 0.55042246, 0.28289385, 0.28289385, 0.3123348 ,\n",
       "         0.3123348 , 0.98694027, 0.98694027, 0.93956464, 0.93956464,\n",
       "         0.7061855 , 0.7061855 , 0.54868569, 0.54868569, 0.48501229,\n",
       "         0.48501229, 0.8028262 , 0.8028262 , 0.45991901, 0.45991901,\n",
       "         0.1607281 , 0.1607281 , 0.2644113 , 0.2644113 , 0.73678983,\n",
       "         0.73678983, 0.55657848, 0.55657848, 0.90713083, 0.90713083,\n",
       "         0.16343098, 0.16343098, 0.40514124, 0.40514124, 0.13888246,\n",
       "         0.13888246, 0.71925366, 0.71925366, 0.72266027, 0.72266027,\n",
       "         0.17706493, 0.17706493, 0.48682044, 0.48682044, 0.87327851,\n",
       "         0.87327851, 0.40512028, 0.40512028, 0.25150977, 0.25150977,\n",
       "         0.72108471, 0.72108471, 0.15253364, 0.15253364, 0.64071405,\n",
       "         0.64071405, 0.62954291, 0.62954291, 0.94441836, 0.94441836,\n",
       "         0.14490617, 0.14490617, 0.45017626, 0.45017626, 0.85410421,\n",
       "         0.85410421, 0.92110041, 0.92110041, 0.8741524 , 0.8741524 ,\n",
       "         0.33192573, 0.33192573, 0.09848026, 0.09848026, 0.17733293,\n",
       "         0.17733293, 0.16346247, 0.16346247, 0.31249358, 0.31249358,\n",
       "         0.06479169, 0.06479169, 0.65921839, 0.65921839, 0.81362532,\n",
       "         0.81362532, 0.46452934, 0.46452934, 0.19353934, 0.19353934,\n",
       "         0.71052103, 0.71052103, 0.52605203, 0.52605203, 0.70767429,\n",
       "         0.70767429, 0.03757873, 0.03757873, 0.32656953, 0.32656953,\n",
       "         0.56722598, 0.56722598, 0.84105012, 0.84105012, 0.90838076,\n",
       "         0.90838076, 0.87507368, 0.87507368, 0.77732239, 0.77732239,\n",
       "         0.13624215, 0.13624215, 0.85869129, 0.85869129, 0.72675584,\n",
       "         0.72675584, 0.62039308, 0.62039308, 0.30680381, 0.30680381,\n",
       "         0.46239637, 0.46239637, 0.4053297 , 0.4053297 , 0.41353097,\n",
       "         0.41353097, 0.13953445, 0.13953445, 0.89552374, 0.89552374])}}"
      ]
     },
     "execution_count": 1,
     "metadata": {},
     "output_type": "execute_result"
    }
   ],
   "source": [
    "ds = load_by_id(run_id_n)\n",
    "ds.get_parameter_data('x1')"
   ]
  },
  {
   "cell_type": "markdown",
   "metadata": {},
   "source": [
    "And a dataset stored as binary arrays"
   ]
  },
  {
   "cell_type": "code",
   "execution_count": 12,
   "metadata": {
    "execution": {
     "iopub.execute_input": "2021-04-21T08:04:38.690493Z",
     "iopub.status.busy": "2021-04-21T08:04:38.689833Z",
     "iopub.status.idle": "2021-04-21T08:04:38.756048Z",
     "shell.execute_reply": "2021-04-21T08:04:38.756615Z"
    },
    "scrolled": true
   },
   "outputs": [
    {
     "data": {
      "text/plain": [
       "{'x1': {'x1': array([[0.43217331],\n",
       "         [0.43217331],\n",
       "         [0.32348455],\n",
       "         [0.32348455],\n",
       "         [0.09749561],\n",
       "         [0.09749561],\n",
       "         [0.6665167 ],\n",
       "         [0.6665167 ],\n",
       "         [0.51689154],\n",
       "         [0.51689154],\n",
       "         [0.2541403 ],\n",
       "         [0.2541403 ],\n",
       "         [0.8073309 ],\n",
       "         [0.8073309 ],\n",
       "         [0.69617258],\n",
       "         [0.69617258],\n",
       "         [0.73380294],\n",
       "         [0.73380294],\n",
       "         [0.60464095],\n",
       "         [0.60464095],\n",
       "         [0.9612922 ],\n",
       "         [0.9612922 ],\n",
       "         [0.94102558],\n",
       "         [0.94102558],\n",
       "         [0.21535118],\n",
       "         [0.21535118],\n",
       "         [0.28650212],\n",
       "         [0.28650212],\n",
       "         [0.01788283],\n",
       "         [0.01788283],\n",
       "         [0.80114951],\n",
       "         [0.80114951],\n",
       "         [0.95433782],\n",
       "         [0.95433782],\n",
       "         [0.98824262],\n",
       "         [0.98824262],\n",
       "         [0.98140548],\n",
       "         [0.98140548],\n",
       "         [0.44701679],\n",
       "         [0.44701679],\n",
       "         [0.22037312],\n",
       "         [0.22037312],\n",
       "         [0.27797589],\n",
       "         [0.27797589],\n",
       "         [0.21405262],\n",
       "         [0.21405262],\n",
       "         [0.09781573],\n",
       "         [0.09781573],\n",
       "         [0.94866665],\n",
       "         [0.94866665],\n",
       "         [0.99959882],\n",
       "         [0.99959882],\n",
       "         [0.30067164],\n",
       "         [0.30067164],\n",
       "         [0.65588395],\n",
       "         [0.65588395],\n",
       "         [0.93440083],\n",
       "         [0.93440083],\n",
       "         [0.39714692],\n",
       "         [0.39714692],\n",
       "         [0.70693154],\n",
       "         [0.70693154],\n",
       "         [0.24447783],\n",
       "         [0.24447783],\n",
       "         [0.92434028],\n",
       "         [0.92434028],\n",
       "         [0.64298303],\n",
       "         [0.64298303],\n",
       "         [0.46790418],\n",
       "         [0.46790418],\n",
       "         [0.70503035],\n",
       "         [0.70503035],\n",
       "         [0.47664564],\n",
       "         [0.47664564],\n",
       "         [0.9152523 ],\n",
       "         [0.9152523 ],\n",
       "         [0.57812547],\n",
       "         [0.57812547],\n",
       "         [0.57097911],\n",
       "         [0.57097911],\n",
       "         [0.44692666],\n",
       "         [0.44692666],\n",
       "         [0.7121441 ],\n",
       "         [0.7121441 ],\n",
       "         [0.18962599],\n",
       "         [0.18962599],\n",
       "         [0.04292138],\n",
       "         [0.04292138],\n",
       "         [0.3003173 ],\n",
       "         [0.3003173 ],\n",
       "         [0.83284177],\n",
       "         [0.83284177],\n",
       "         [0.500328  ],\n",
       "         [0.500328  ],\n",
       "         [0.74343177],\n",
       "         [0.74343177],\n",
       "         [0.31196306],\n",
       "         [0.31196306],\n",
       "         [0.04733091],\n",
       "         [0.04733091],\n",
       "         [0.256401  ],\n",
       "         [0.256401  ],\n",
       "         [0.73511882],\n",
       "         [0.73511882],\n",
       "         [0.72023243],\n",
       "         [0.72023243],\n",
       "         [0.66815496],\n",
       "         [0.66815496],\n",
       "         [0.41479322],\n",
       "         [0.41479322],\n",
       "         [0.61142896],\n",
       "         [0.61142896],\n",
       "         [0.30683034],\n",
       "         [0.30683034],\n",
       "         [0.73943704],\n",
       "         [0.73943704],\n",
       "         [0.49680505],\n",
       "         [0.49680505],\n",
       "         [0.05767981],\n",
       "         [0.05767981],\n",
       "         [0.80120731],\n",
       "         [0.80120731],\n",
       "         [0.42228923],\n",
       "         [0.42228923],\n",
       "         [0.52637269],\n",
       "         [0.52637269],\n",
       "         [0.69745831],\n",
       "         [0.69745831],\n",
       "         [0.44401888],\n",
       "         [0.44401888],\n",
       "         [0.50595817],\n",
       "         [0.50595817],\n",
       "         [0.05304604],\n",
       "         [0.05304604],\n",
       "         [0.6097375 ],\n",
       "         [0.6097375 ],\n",
       "         [0.47555461],\n",
       "         [0.47555461],\n",
       "         [0.47474567],\n",
       "         [0.47474567],\n",
       "         [0.60164773],\n",
       "         [0.60164773],\n",
       "         [0.66908821],\n",
       "         [0.66908821],\n",
       "         [0.10482876],\n",
       "         [0.10482876],\n",
       "         [0.73244447],\n",
       "         [0.73244447],\n",
       "         [0.92650076],\n",
       "         [0.92650076],\n",
       "         [0.24102217],\n",
       "         [0.24102217],\n",
       "         [0.02761139],\n",
       "         [0.02761139],\n",
       "         [0.03663956],\n",
       "         [0.03663956],\n",
       "         [0.74376421],\n",
       "         [0.74376421],\n",
       "         [0.79017562],\n",
       "         [0.79017562],\n",
       "         [0.25269895],\n",
       "         [0.25269895],\n",
       "         [0.83165332],\n",
       "         [0.83165332],\n",
       "         [0.25366541],\n",
       "         [0.25366541],\n",
       "         [0.13990808],\n",
       "         [0.13990808],\n",
       "         [0.58210994],\n",
       "         [0.58210994],\n",
       "         [0.23201487],\n",
       "         [0.23201487],\n",
       "         [0.99328515],\n",
       "         [0.99328515],\n",
       "         [0.70352207],\n",
       "         [0.70352207],\n",
       "         [0.49251481],\n",
       "         [0.49251481],\n",
       "         [0.83021021],\n",
       "         [0.83021021],\n",
       "         [0.04037922],\n",
       "         [0.04037922],\n",
       "         [0.31491637],\n",
       "         [0.31491637],\n",
       "         [0.58573952],\n",
       "         [0.58573952],\n",
       "         [0.64408647],\n",
       "         [0.64408647],\n",
       "         [0.80749547],\n",
       "         [0.80749547],\n",
       "         [0.19907852],\n",
       "         [0.19907852],\n",
       "         [0.7639408 ],\n",
       "         [0.7639408 ],\n",
       "         [0.69301231],\n",
       "         [0.69301231],\n",
       "         [0.67834666],\n",
       "         [0.67834666],\n",
       "         [0.52127045],\n",
       "         [0.52127045]])}}"
      ]
     },
     "execution_count": 1,
     "metadata": {},
     "output_type": "execute_result"
    }
   ],
   "source": [
    "ds = load_by_id(run_id_a)\n",
    "ds.get_parameter_data('x1')"
   ]
  },
  {
   "cell_type": "code",
   "execution_count": null,
   "metadata": {},
   "outputs": [],
   "source": []
  }
 ],
 "metadata": {
  "kernelspec": {
   "display_name": "Python 3",
   "language": "python",
   "name": "python3"
  },
  "language_info": {
   "codemirror_mode": {
    "name": "ipython",
    "version": 3
   },
   "file_extension": ".py",
   "mimetype": "text/x-python",
   "name": "python",
   "nbconvert_exporter": "python",
   "pygments_lexer": "ipython3",
   "version": "3.7.10"
  },
  "nbsphinx": {
   "timeout": 600
  },
  "toc": {
   "base_numbering": 1,
   "nav_menu": {},
   "number_sections": true,
   "sideBar": true,
   "skip_h1_title": false,
   "title_cell": "Table of Contents",
   "title_sidebar": "Contents",
   "toc_cell": false,
   "toc_position": {},
   "toc_section_display": true,
   "toc_window_display": false
  },
  "varInspector": {
   "cols": {
    "lenName": 16,
    "lenType": 16,
    "lenVar": 40
   },
   "kernels_config": {
    "python": {
     "delete_cmd_postfix": "",
     "delete_cmd_prefix": "del ",
     "library": "var_list.py",
     "varRefreshCmd": "print(var_dic_list())"
    },
    "r": {
     "delete_cmd_postfix": ") ",
     "delete_cmd_prefix": "rm(",
     "library": "var_list.r",
     "varRefreshCmd": "cat(var_dic_list()) "
    }
   },
   "types_to_exclude": [
    "module",
    "function",
    "builtin_function_or_method",
    "instance",
    "_Feature"
   ],
   "window_display": false
  }
 },
 "nbformat": 4,
 "nbformat_minor": 4
}
