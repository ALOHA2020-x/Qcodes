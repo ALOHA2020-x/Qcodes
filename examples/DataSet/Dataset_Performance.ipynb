{
 "cells": [
  {
   "cell_type": "markdown",
   "metadata": {},
   "source": [
    "# DataSet Performance\n",
    "\n",
    "This notebook shows the trade-off between inserting data into a database row-by-row and as binary blobs. Inserting the data row-by-row means that we have direct access to all the data and may perform queries directly on the values of the data. On the other hand, as we shall see, this is much slower than inserting the data directly as binary blobs."
   ]
  },
  {
   "cell_type": "markdown",
   "metadata": {},
   "source": [
    "First, we choose a new location for the database to ensure that we don't add a bunch of benchmarking data to the default one."
   ]
  },
  {
   "cell_type": "code",
   "execution_count": 1,
   "metadata": {
    "execution": {
     "iopub.execute_input": "2021-05-12T10:33:20.268486Z",
     "iopub.status.busy": "2021-05-12T10:33:20.267852Z",
     "iopub.status.idle": "2021-05-12T10:33:21.631337Z",
     "shell.execute_reply": "2021-05-12T10:33:21.631886Z"
    }
   },
   "outputs": [
    {
     "name": "stdout",
     "output_type": "stream",
     "text": [
      "Logging hadn't been started.\n",
      "Activating auto-logging. Current session state plus future input saved.\n",
      "Filename       : /home/runner/.qcodes/logs/command_history.log\n",
      "Mode           : append\n",
      "Output logging : True\n",
      "Raw input log  : False\n",
      "Timestamping   : True\n",
      "State          : active\n"
     ]
    },
    {
     "name": "stdout",
     "output_type": "stream",
     "text": [
      "Qcodes Logfile : /home/runner/.qcodes/logs/210512-4729-qcodes.log\n"
     ]
    }
   ],
   "source": [
    "import os\n",
    "cwd = os.getcwd()\n",
    "import qcodes as qc\n",
    "qc.config[\"core\"][\"db_location\"] = os.path.join(cwd, 'testing.db')\n"
   ]
  },
  {
   "cell_type": "code",
   "execution_count": 2,
   "metadata": {
    "execution": {
     "iopub.execute_input": "2021-05-12T10:33:21.639440Z",
     "iopub.status.busy": "2021-05-12T10:33:21.638803Z",
     "iopub.status.idle": "2021-05-12T10:33:21.867631Z",
     "shell.execute_reply": "2021-05-12T10:33:21.867027Z"
    }
   },
   "outputs": [],
   "source": [
    "%matplotlib inline\n",
    "import time\n",
    "import matplotlib.pyplot as plt\n",
    "import numpy as np\n",
    "\n",
    "import qcodes as qc\n",
    "from qcodes.instrument.parameter import ManualParameter\n",
    "from qcodes.dataset.experiment_container import (Experiment,\n",
    "                                                 load_last_experiment,\n",
    "                                                 new_experiment)\n",
    "from qcodes.dataset.sqlite.database import initialise_database\n",
    "from qcodes import load_or_create_experiment\n",
    "from qcodes.dataset.measurements import Measurement"
   ]
  },
  {
   "cell_type": "code",
   "execution_count": 3,
   "metadata": {
    "execution": {
     "iopub.execute_input": "2021-05-12T10:33:21.872521Z",
     "iopub.status.busy": "2021-05-12T10:33:21.871848Z",
     "iopub.status.idle": "2021-05-12T10:33:21.943628Z",
     "shell.execute_reply": "2021-05-12T10:33:21.943046Z"
    }
   },
   "outputs": [
    {
     "name": "stdout",
     "output_type": "stream",
     "text": [
      "\r",
      "0it [00:00, ?it/s]"
     ]
    },
    {
     "name": "stdout",
     "output_type": "stream",
     "text": [
      "\r",
      "Upgrading database; v0 -> v1: : 0it [00:00, ?it/s]"
     ]
    },
    {
     "name": "stdout",
     "output_type": "stream",
     "text": [
      "\r",
      "Upgrading database; v0 -> v1: : 0it [00:00, ?it/s]"
     ]
    },
    {
     "name": "stdout",
     "output_type": "stream",
     "text": [
      "\n",
      "\r",
      "  0%|          | 0/1 [00:00<?, ?it/s]"
     ]
    },
    {
     "name": "stdout",
     "output_type": "stream",
     "text": [
      "\r",
      "Upgrading database; v1 -> v2:   0%|          | 0/1 [00:00<?, ?it/s]"
     ]
    },
    {
     "name": "stdout",
     "output_type": "stream",
     "text": [
      "\r",
      "Upgrading database; v1 -> v2: 100%|██████████| 1/1 [00:00<00:00, 775.14it/s]"
     ]
    },
    {
     "name": "stdout",
     "output_type": "stream",
     "text": [
      "\n",
      "\r",
      "0it [00:00, ?it/s]"
     ]
    },
    {
     "name": "stdout",
     "output_type": "stream",
     "text": [
      "\r",
      "Upgrading database; v2 -> v3: : 0it [00:00, ?it/s]"
     ]
    },
    {
     "name": "stdout",
     "output_type": "stream",
     "text": [
      "\r",
      "Upgrading database; v2 -> v3: : 0it [00:00, ?it/s]"
     ]
    },
    {
     "name": "stdout",
     "output_type": "stream",
     "text": [
      "\n",
      "\r",
      "0it [00:00, ?it/s]"
     ]
    },
    {
     "name": "stdout",
     "output_type": "stream",
     "text": [
      "\r",
      "Upgrading database; v3 -> v4: : 0it [00:00, ?it/s]"
     ]
    },
    {
     "name": "stdout",
     "output_type": "stream",
     "text": [
      "\r",
      "Upgrading database; v3 -> v4: : 0it [00:00, ?it/s]"
     ]
    },
    {
     "name": "stdout",
     "output_type": "stream",
     "text": [
      "\n",
      "\r",
      "  0%|          | 0/1 [00:00<?, ?it/s]"
     ]
    },
    {
     "name": "stdout",
     "output_type": "stream",
     "text": [
      "\r",
      "Upgrading database; v4 -> v5:   0%|          | 0/1 [00:00<?, ?it/s]"
     ]
    },
    {
     "name": "stdout",
     "output_type": "stream",
     "text": [
      "\r",
      "Upgrading database; v4 -> v5: 100%|██████████| 1/1 [00:00<00:00, 597.65it/s]"
     ]
    },
    {
     "name": "stdout",
     "output_type": "stream",
     "text": [
      "\n",
      "\r",
      "0it [00:00, ?it/s]"
     ]
    },
    {
     "name": "stdout",
     "output_type": "stream",
     "text": [
      "\r",
      "Upgrading database; v5 -> v6: : 0it [00:00, ?it/s]"
     ]
    },
    {
     "name": "stdout",
     "output_type": "stream",
     "text": [
      "\r",
      "Upgrading database; v5 -> v6: : 0it [00:00, ?it/s]"
     ]
    },
    {
     "name": "stdout",
     "output_type": "stream",
     "text": [
      "\n",
      "\r",
      "  0%|          | 0/1 [00:00<?, ?it/s]"
     ]
    },
    {
     "name": "stdout",
     "output_type": "stream",
     "text": [
      "\r",
      "Upgrading database; v6 -> v7:   0%|          | 0/1 [00:00<?, ?it/s]"
     ]
    },
    {
     "name": "stdout",
     "output_type": "stream",
     "text": [
      "\r",
      "Upgrading database; v6 -> v7: 100%|██████████| 1/1 [00:00<00:00, 301.51it/s]"
     ]
    },
    {
     "name": "stdout",
     "output_type": "stream",
     "text": [
      "\n",
      "\r",
      "  0%|          | 0/1 [00:00<?, ?it/s]"
     ]
    },
    {
     "name": "stdout",
     "output_type": "stream",
     "text": [
      "\r",
      "Upgrading database; v7 -> v8:   0%|          | 0/1 [00:00<?, ?it/s]"
     ]
    },
    {
     "name": "stdout",
     "output_type": "stream",
     "text": [
      "\r",
      "Upgrading database; v7 -> v8: 100%|██████████| 1/1 [00:00<00:00, 765.24it/s]"
     ]
    },
    {
     "name": "stdout",
     "output_type": "stream",
     "text": [
      "\n",
      "\r",
      "  0%|          | 0/1 [00:00<?, ?it/s]"
     ]
    },
    {
     "name": "stdout",
     "output_type": "stream",
     "text": [
      "\r",
      "Upgrading database; v8 -> v9:   0%|          | 0/1 [00:00<?, ?it/s]"
     ]
    },
    {
     "name": "stdout",
     "output_type": "stream",
     "text": [
      "\r",
      "Upgrading database; v8 -> v9: 100%|██████████| 1/1 [00:00<00:00, 938.53it/s]"
     ]
    },
    {
     "name": "stdout",
     "output_type": "stream",
     "text": [
      "\n"
     ]
    }
   ],
   "source": [
    "initialise_database()\n",
    "exp = load_or_create_experiment(experiment_name='tutorial_exp', sample_name=\"no sample\")"
   ]
  },
  {
   "cell_type": "markdown",
   "metadata": {},
   "source": [
    "Here, we define a simple function to benchmark the time it takes to insert n points with either numeric or array data type.\n",
    "We will compare both the time used to call ``add_result`` and the time used for the full measurement."
   ]
  },
  {
   "cell_type": "code",
   "execution_count": 4,
   "metadata": {
    "execution": {
     "iopub.execute_input": "2021-05-12T10:33:21.953817Z",
     "iopub.status.busy": "2021-05-12T10:33:21.952388Z",
     "iopub.status.idle": "2021-05-12T10:33:21.954498Z",
     "shell.execute_reply": "2021-05-12T10:33:21.955023Z"
    }
   },
   "outputs": [],
   "source": [
    "def insert_data(paramtype, npoints, nreps=1):\n",
    "\n",
    "    meas = Measurement(exp=exp)\n",
    "\n",
    "    x1 = ManualParameter('x1')\n",
    "    x2 = ManualParameter('x2')\n",
    "    x3 = ManualParameter('x3')\n",
    "    y1 = ManualParameter('y1')\n",
    "    y2 = ManualParameter('y2')\n",
    "\n",
    "    meas.register_parameter(x1, paramtype=paramtype)\n",
    "    meas.register_parameter(x2, paramtype=paramtype)\n",
    "    meas.register_parameter(x3, paramtype=paramtype)\n",
    "    meas.register_parameter(y1, setpoints=[x1, x2, x3],\n",
    "                            paramtype=paramtype)\n",
    "    meas.register_parameter(y2, setpoints=[x1, x2, x3],\n",
    "                            paramtype=paramtype)\n",
    "    start = time.perf_counter()\n",
    "    with meas.run() as datasaver:\n",
    "        start_adding = time.perf_counter()\n",
    "        for i in range(nreps):\n",
    "            datasaver.add_result((x1, np.random.rand(npoints)),\n",
    "                                 (x2, np.random.rand(npoints)),\n",
    "                                 (x3, np.random.rand(npoints)),\n",
    "                                 (y1, np.random.rand(npoints)),\n",
    "                                 (y2, np.random.rand(npoints)))\n",
    "        stop_adding = time.perf_counter()\n",
    "        run_id = datasaver.run_id\n",
    "    stop = time.perf_counter()\n",
    "    tot_time = stop - start\n",
    "    add_time = stop_adding - start_adding\n",
    "    return tot_time, add_time, run_id"
   ]
  },
  {
   "cell_type": "markdown",
   "metadata": {},
   "source": [
    "## Comparison between numeric/array data and binary blob"
   ]
  },
  {
   "cell_type": "markdown",
   "metadata": {},
   "source": [
    "### Case1: Short experiment time"
   ]
  },
  {
   "cell_type": "code",
   "execution_count": 5,
   "metadata": {
    "execution": {
     "iopub.execute_input": "2021-05-12T10:33:21.962051Z",
     "iopub.status.busy": "2021-05-12T10:33:21.961027Z",
     "iopub.status.idle": "2021-05-12T10:33:22.885118Z",
     "shell.execute_reply": "2021-05-12T10:33:22.885579Z"
    }
   },
   "outputs": [
    {
     "name": "stdout",
     "output_type": "stream",
     "text": [
      "Starting experimental run with id: 1. \n",
      "Starting experimental run with id: 2. \n",
      "Starting experimental run with id: 3. \n"
     ]
    },
    {
     "name": "stdout",
     "output_type": "stream",
     "text": [
      "Starting experimental run with id: 4. \n"
     ]
    },
    {
     "name": "stdout",
     "output_type": "stream",
     "text": [
      "Starting experimental run with id: 5. \n"
     ]
    },
    {
     "name": "stdout",
     "output_type": "stream",
     "text": [
      "Starting experimental run with id: 6. \n",
      "Starting experimental run with id: 7. \n",
      "Starting experimental run with id: 8. \n"
     ]
    },
    {
     "name": "stdout",
     "output_type": "stream",
     "text": [
      "Starting experimental run with id: 9. \n"
     ]
    },
    {
     "name": "stdout",
     "output_type": "stream",
     "text": [
      "Starting experimental run with id: 10. \n",
      "Starting experimental run with id: 11. \n"
     ]
    },
    {
     "name": "stdout",
     "output_type": "stream",
     "text": [
      "Starting experimental run with id: 12. \n",
      "Starting experimental run with id: 13. \n"
     ]
    },
    {
     "name": "stdout",
     "output_type": "stream",
     "text": [
      "Starting experimental run with id: 14. \n"
     ]
    }
   ],
   "source": [
    "sizes = [1,500,1000,2000,3000,4000,5000]\n",
    "t_numeric = []\n",
    "t_numeric_add = []\n",
    "t_array = []\n",
    "t_array_add = []\n",
    "for size in sizes:\n",
    "    tn, tna, run_id_n =  insert_data('numeric', size)\n",
    "    t_numeric.append(tn)\n",
    "    t_numeric_add.append(tna)\n",
    "\n",
    "    ta, taa, run_id_a =  insert_data('array', size)\n",
    "    t_array.append(ta)\n",
    "    t_array_add.append(taa)"
   ]
  },
  {
   "cell_type": "code",
   "execution_count": 6,
   "metadata": {
    "execution": {
     "iopub.execute_input": "2021-05-12T10:33:22.907012Z",
     "iopub.status.busy": "2021-05-12T10:33:22.906360Z",
     "iopub.status.idle": "2021-05-12T10:33:23.195421Z",
     "shell.execute_reply": "2021-05-12T10:33:23.194827Z"
    }
   },
   "outputs": [
    {
     "data": {
      "image/png": "[encoded data removed]",
      "text/plain": [
       "<Figure size 432x288 with 1 Axes>"
      ]
     },
     "metadata": {
      "needs_background": "light"
     },
     "output_type": "display_data"
    }
   ],
   "source": [
    "fig, ax = plt.subplots(1,1)\n",
    "ax.plot(sizes, t_numeric, 'o-', label='Inserting row-by-row')\n",
    "ax.plot(sizes, t_numeric_add, 'o-', label='Inserting row-by-row: add_result only')\n",
    "ax.plot(sizes, t_array, 'd-', label='Inserting as binary blob')\n",
    "ax.plot(sizes, t_array_add, 'd-', label='Inserting as binary blob: add_result only')\n",
    "ax.legend()\n",
    "ax.set_xlabel('Array length')\n",
    "ax.set_ylabel('Time (s)')\n",
    "fig.tight_layout()"
   ]
  },
  {
   "cell_type": "markdown",
   "metadata": {},
   "source": [
    "As shown in the latter figure, the time to setup and and close the experiment is approximately 0.4 sec. In case of small array sizes, the difference between inserting values of data as arrays and inserting them row-by-row is relatively unimportant. At larger array sizes, i.e. above 10000 points, the cost of writing data as individual datapoints starts to become important.\n"
   ]
  },
  {
   "cell_type": "markdown",
   "metadata": {},
   "source": [
    "### Case2: Long experiment time "
   ]
  },
  {
   "cell_type": "code",
   "execution_count": 7,
   "metadata": {
    "execution": {
     "iopub.execute_input": "2021-05-12T10:33:23.204005Z",
     "iopub.status.busy": "2021-05-12T10:33:23.203320Z",
     "iopub.status.idle": "2021-05-12T10:34:25.644808Z",
     "shell.execute_reply": "2021-05-12T10:34:25.643810Z"
    }
   },
   "outputs": [
    {
     "name": "stdout",
     "output_type": "stream",
     "text": [
      "Starting experimental run with id: 15. \n",
      "Starting experimental run with id: 16. \n"
     ]
    },
    {
     "name": "stdout",
     "output_type": "stream",
     "text": [
      "Starting experimental run with id: 17. \n"
     ]
    },
    {
     "name": "stdout",
     "output_type": "stream",
     "text": [
      "Starting experimental run with id: 18. \n"
     ]
    },
    {
     "name": "stdout",
     "output_type": "stream",
     "text": [
      "Starting experimental run with id: 19. \n"
     ]
    },
    {
     "name": "stdout",
     "output_type": "stream",
     "text": [
      "Starting experimental run with id: 20. \n"
     ]
    },
    {
     "name": "stdout",
     "output_type": "stream",
     "text": [
      "Starting experimental run with id: 21. \n"
     ]
    },
    {
     "name": "stdout",
     "output_type": "stream",
     "text": [
      "Starting experimental run with id: 22. \n"
     ]
    },
    {
     "name": "stdout",
     "output_type": "stream",
     "text": [
      "Starting experimental run with id: 23. \n"
     ]
    },
    {
     "name": "stdout",
     "output_type": "stream",
     "text": [
      "Starting experimental run with id: 24. \n"
     ]
    },
    {
     "name": "stdout",
     "output_type": "stream",
     "text": [
      "Starting experimental run with id: 25. \n"
     ]
    },
    {
     "name": "stdout",
     "output_type": "stream",
     "text": [
      "Starting experimental run with id: 26. \n"
     ]
    },
    {
     "name": "stdout",
     "output_type": "stream",
     "text": [
      "Starting experimental run with id: 27. \n"
     ]
    },
    {
     "name": "stdout",
     "output_type": "stream",
     "text": [
      "Starting experimental run with id: 28. \n"
     ]
    }
   ],
   "source": [
    "sizes = [1,500,1000,2000,3000,4000,5000]\n",
    "nreps = 100\n",
    "t_numeric = []\n",
    "t_numeric_add = []\n",
    "t_numeric_run_ids = []\n",
    "t_array = []\n",
    "t_array_add = []\n",
    "t_array_run_ids = []\n",
    "for size in sizes:\n",
    "    tn, tna, run_id_n =  insert_data('numeric', size, nreps=nreps)\n",
    "    t_numeric.append(tn)\n",
    "    t_numeric_add.append(tna)\n",
    "    t_numeric_run_ids.append(run_id_n)\n",
    "\n",
    "    ta, taa, run_id_a =  insert_data('array', size, nreps=nreps)\n",
    "    t_array.append(ta)\n",
    "    t_array_add.append(taa)\n",
    "    t_array_run_ids.append(run_id_a)"
   ]
  },
  {
   "cell_type": "code",
   "execution_count": 8,
   "metadata": {
    "execution": {
     "iopub.execute_input": "2021-05-12T10:34:25.675067Z",
     "iopub.status.busy": "2021-05-12T10:34:25.656698Z",
     "iopub.status.idle": "2021-05-12T10:34:25.924371Z",
     "shell.execute_reply": "2021-05-12T10:34:25.924871Z"
    },
    "scrolled": true
   },
   "outputs": [
    {
     "data": {
      "image/png": "[encoded data removed]",
      "text/plain": [
       "<Figure size 432x288 with 1 Axes>"
      ]
     },
     "metadata": {
      "needs_background": "light"
     },
     "output_type": "display_data"
    }
   ],
   "source": [
    "fig, ax = plt.subplots(1,1)\n",
    "ax.plot(sizes, t_numeric, 'o-', label='Inserting row-by-row')\n",
    "ax.plot(sizes, t_numeric_add, 'o-', label='Inserting row-by-row: add_result only')\n",
    "ax.plot(sizes, t_array, 'd-', label='Inserting as binary blob')\n",
    "ax.plot(sizes, t_array_add, 'd-', label='Inserting as binary blob: add_result only')\n",
    "ax.legend()\n",
    "ax.set_xlabel('Array length')\n",
    "ax.set_ylabel('Time (s)')\n",
    "fig.tight_layout()"
   ]
  },
  {
   "cell_type": "markdown",
   "metadata": {},
   "source": [
    "However, as we increase the length of the experiment, as seen here by repeating the insertion 100 times, we see a big difference between inserting values of the data row-by-row and inserting it as a binary blob."
   ]
  },
  {
   "cell_type": "markdown",
   "metadata": {},
   "source": [
    "## Loading the data "
   ]
  },
  {
   "cell_type": "code",
   "execution_count": 9,
   "metadata": {
    "execution": {
     "iopub.execute_input": "2021-05-12T10:34:25.930568Z",
     "iopub.status.busy": "2021-05-12T10:34:25.929949Z",
     "iopub.status.idle": "2021-05-12T10:34:25.933986Z",
     "shell.execute_reply": "2021-05-12T10:34:25.933422Z"
    }
   },
   "outputs": [],
   "source": [
    "from qcodes.dataset.data_set import load_by_id"
   ]
  },
  {
   "cell_type": "markdown",
   "metadata": {},
   "source": [
    "As usual you can load the data by using the ``load_by_id`` function but you will notice that the different storage methods\n",
    "are reflected in shape of the data as it is retrieved. "
   ]
  },
  {
   "cell_type": "code",
   "execution_count": 10,
   "metadata": {
    "execution": {
     "iopub.execute_input": "2021-05-12T10:34:25.939675Z",
     "iopub.status.busy": "2021-05-12T10:34:25.937911Z",
     "iopub.status.idle": "2021-05-12T10:34:25.940440Z",
     "shell.execute_reply": "2021-05-12T10:34:25.940962Z"
    }
   },
   "outputs": [],
   "source": [
    "run_id_n = t_numeric_run_ids[0]\n",
    "run_id_a = t_array_run_ids[0]"
   ]
  },
  {
   "cell_type": "code",
   "execution_count": 11,
   "metadata": {
    "execution": {
     "iopub.execute_input": "2021-05-12T10:34:25.944674Z",
     "iopub.status.busy": "2021-05-12T10:34:25.944061Z",
     "iopub.status.idle": "2021-05-12T10:34:25.955069Z",
     "shell.execute_reply": "2021-05-12T10:34:25.955629Z"
    },
    "scrolled": true
   },
   "outputs": [
    {
     "data": {
      "text/plain": [
       "{'x1': {'x1': array([0.80769673, 0.80769673, 0.10621969, 0.10621969, 0.25213131,\n",
       "         0.25213131, 0.02788413, 0.02788413, 0.08133475, 0.08133475,\n",
       "         0.17977881, 0.17977881, 0.44772647, 0.44772647, 0.24246098,\n",
       "         0.24246098, 0.51441599, 0.51441599, 0.4417823 , 0.4417823 ,\n",
       "         0.95399296, 0.95399296, 0.91926811, 0.91926811, 0.36386292,\n",
       "         0.36386292, 0.48714066, 0.48714066, 0.20366604, 0.20366604,\n",
       "         0.74814425, 0.74814425, 0.450386  , 0.450386  , 0.86400209,\n",
       "         0.86400209, 0.24134925, 0.24134925, 0.61508367, 0.61508367,\n",
       "         0.01943402, 0.01943402, 0.45713995, 0.45713995, 0.05180058,\n",
       "         0.05180058, 0.91362077, 0.91362077, 0.22516835, 0.22516835,\n",
       "         0.80972475, 0.80972475, 0.5127307 , 0.5127307 , 0.23277577,\n",
       "         0.23277577, 0.49446404, 0.49446404, 0.30259067, 0.30259067,\n",
       "         0.55754289, 0.55754289, 0.7779354 , 0.7779354 , 0.82049268,\n",
       "         0.82049268, 0.83573346, 0.83573346, 0.71152636, 0.71152636,\n",
       "         0.13486983, 0.13486983, 0.30328077, 0.30328077, 0.40021447,\n",
       "         0.40021447, 0.98657778, 0.98657778, 0.87787523, 0.87787523,\n",
       "         0.28019948, 0.28019948, 0.95258036, 0.95258036, 0.8408276 ,\n",
       "         0.8408276 , 0.12010858, 0.12010858, 0.38306374, 0.38306374,\n",
       "         0.98417705, 0.98417705, 0.94707587, 0.94707587, 0.23311013,\n",
       "         0.23311013, 0.9869213 , 0.9869213 , 0.0198003 , 0.0198003 ,\n",
       "         0.33419201, 0.33419201, 0.53249495, 0.53249495, 0.19811251,\n",
       "         0.19811251, 0.58767397, 0.58767397, 0.4217953 , 0.4217953 ,\n",
       "         0.93949348, 0.93949348, 0.37043585, 0.37043585, 0.97245864,\n",
       "         0.97245864, 0.14279722, 0.14279722, 0.46344748, 0.46344748,\n",
       "         0.87849105, 0.87849105, 0.22773999, 0.22773999, 0.27743524,\n",
       "         0.27743524, 0.58515288, 0.58515288, 0.07764912, 0.07764912,\n",
       "         0.77651953, 0.77651953, 0.4230841 , 0.4230841 , 0.91653503,\n",
       "         0.91653503, 0.4489106 , 0.4489106 , 0.4267529 , 0.4267529 ,\n",
       "         0.0668132 , 0.0668132 , 0.30420491, 0.30420491, 0.79474096,\n",
       "         0.79474096, 0.43017169, 0.43017169, 0.75592099, 0.75592099,\n",
       "         0.99381504, 0.99381504, 0.62070715, 0.62070715, 0.68210529,\n",
       "         0.68210529, 0.42878552, 0.42878552, 0.61168512, 0.61168512,\n",
       "         0.43915961, 0.43915961, 0.05276982, 0.05276982, 0.9275882 ,\n",
       "         0.9275882 , 0.84089352, 0.84089352, 0.54858288, 0.54858288,\n",
       "         0.39447621, 0.39447621, 0.88384704, 0.88384704, 0.86924256,\n",
       "         0.86924256, 0.65000082, 0.65000082, 0.96205337, 0.96205337,\n",
       "         0.16272899, 0.16272899, 0.79572115, 0.79572115, 0.6684303 ,\n",
       "         0.6684303 , 0.38999387, 0.38999387, 0.79037048, 0.79037048,\n",
       "         0.96273517, 0.96273517, 0.04235138, 0.04235138, 0.3618547 ,\n",
       "         0.3618547 , 0.49623742, 0.49623742, 0.11204933, 0.11204933])}}"
      ]
     },
     "execution_count": 1,
     "metadata": {},
     "output_type": "execute_result"
    }
   ],
   "source": [
    "ds = load_by_id(run_id_n)\n",
    "ds.get_parameter_data('x1')"
   ]
  },
  {
   "cell_type": "markdown",
   "metadata": {},
   "source": [
    "And a dataset stored as binary arrays"
   ]
  },
  {
   "cell_type": "code",
   "execution_count": 12,
   "metadata": {
    "execution": {
     "iopub.execute_input": "2021-05-12T10:34:25.959850Z",
     "iopub.status.busy": "2021-05-12T10:34:25.959208Z",
     "iopub.status.idle": "2021-05-12T10:34:26.032313Z",
     "shell.execute_reply": "2021-05-12T10:34:26.032844Z"
    },
    "scrolled": true
   },
   "outputs": [
    {
     "data": {
      "text/plain": [
       "{'x1': {'x1': array([[0.77906851],\n",
       "         [0.77906851],\n",
       "         [0.08187718],\n",
       "         [0.08187718],\n",
       "         [0.11861206],\n",
       "         [0.11861206],\n",
       "         [0.60729153],\n",
       "         [0.60729153],\n",
       "         [0.8345376 ],\n",
       "         [0.8345376 ],\n",
       "         [0.39273695],\n",
       "         [0.39273695],\n",
       "         [0.75942387],\n",
       "         [0.75942387],\n",
       "         [0.28373735],\n",
       "         [0.28373735],\n",
       "         [0.80241969],\n",
       "         [0.80241969],\n",
       "         [0.8973806 ],\n",
       "         [0.8973806 ],\n",
       "         [0.08283981],\n",
       "         [0.08283981],\n",
       "         [0.52090615],\n",
       "         [0.52090615],\n",
       "         [0.07064233],\n",
       "         [0.07064233],\n",
       "         [0.87177167],\n",
       "         [0.87177167],\n",
       "         [0.0872841 ],\n",
       "         [0.0872841 ],\n",
       "         [0.93403126],\n",
       "         [0.93403126],\n",
       "         [0.11306123],\n",
       "         [0.11306123],\n",
       "         [0.8784065 ],\n",
       "         [0.8784065 ],\n",
       "         [0.08618506],\n",
       "         [0.08618506],\n",
       "         [0.25462672],\n",
       "         [0.25462672],\n",
       "         [0.35737355],\n",
       "         [0.35737355],\n",
       "         [0.75780313],\n",
       "         [0.75780313],\n",
       "         [0.52641767],\n",
       "         [0.52641767],\n",
       "         [0.73731961],\n",
       "         [0.73731961],\n",
       "         [0.23749202],\n",
       "         [0.23749202],\n",
       "         [0.13610554],\n",
       "         [0.13610554],\n",
       "         [0.78845833],\n",
       "         [0.78845833],\n",
       "         [0.77311488],\n",
       "         [0.77311488],\n",
       "         [0.70904243],\n",
       "         [0.70904243],\n",
       "         [0.44273117],\n",
       "         [0.44273117],\n",
       "         [0.2509533 ],\n",
       "         [0.2509533 ],\n",
       "         [0.71878038],\n",
       "         [0.71878038],\n",
       "         [0.60196141],\n",
       "         [0.60196141],\n",
       "         [0.78294472],\n",
       "         [0.78294472],\n",
       "         [0.01426252],\n",
       "         [0.01426252],\n",
       "         [0.59183017],\n",
       "         [0.59183017],\n",
       "         [0.74986154],\n",
       "         [0.74986154],\n",
       "         [0.19960384],\n",
       "         [0.19960384],\n",
       "         [0.39313463],\n",
       "         [0.39313463],\n",
       "         [0.21878495],\n",
       "         [0.21878495],\n",
       "         [0.03590904],\n",
       "         [0.03590904],\n",
       "         [0.1146561 ],\n",
       "         [0.1146561 ],\n",
       "         [0.91961758],\n",
       "         [0.91961758],\n",
       "         [0.98441204],\n",
       "         [0.98441204],\n",
       "         [0.48388881],\n",
       "         [0.48388881],\n",
       "         [0.20479824],\n",
       "         [0.20479824],\n",
       "         [0.32470606],\n",
       "         [0.32470606],\n",
       "         [0.20368809],\n",
       "         [0.20368809],\n",
       "         [0.05748629],\n",
       "         [0.05748629],\n",
       "         [0.26018739],\n",
       "         [0.26018739],\n",
       "         [0.14621646],\n",
       "         [0.14621646],\n",
       "         [0.79129686],\n",
       "         [0.79129686],\n",
       "         [0.27495494],\n",
       "         [0.27495494],\n",
       "         [0.19515823],\n",
       "         [0.19515823],\n",
       "         [0.68529842],\n",
       "         [0.68529842],\n",
       "         [0.41599725],\n",
       "         [0.41599725],\n",
       "         [0.38805251],\n",
       "         [0.38805251],\n",
       "         [0.02706601],\n",
       "         [0.02706601],\n",
       "         [0.18217238],\n",
       "         [0.18217238],\n",
       "         [0.59324756],\n",
       "         [0.59324756],\n",
       "         [0.24112927],\n",
       "         [0.24112927],\n",
       "         [0.99663462],\n",
       "         [0.99663462],\n",
       "         [0.38074794],\n",
       "         [0.38074794],\n",
       "         [0.43220177],\n",
       "         [0.43220177],\n",
       "         [0.6816807 ],\n",
       "         [0.6816807 ],\n",
       "         [0.53021107],\n",
       "         [0.53021107],\n",
       "         [0.39625609],\n",
       "         [0.39625609],\n",
       "         [0.77763812],\n",
       "         [0.77763812],\n",
       "         [0.4269911 ],\n",
       "         [0.4269911 ],\n",
       "         [0.44358275],\n",
       "         [0.44358275],\n",
       "         [0.60752929],\n",
       "         [0.60752929],\n",
       "         [0.2665153 ],\n",
       "         [0.2665153 ],\n",
       "         [0.12885702],\n",
       "         [0.12885702],\n",
       "         [0.48651296],\n",
       "         [0.48651296],\n",
       "         [0.42503418],\n",
       "         [0.42503418],\n",
       "         [0.12803655],\n",
       "         [0.12803655],\n",
       "         [0.68819751],\n",
       "         [0.68819751],\n",
       "         [0.51438856],\n",
       "         [0.51438856],\n",
       "         [0.88073927],\n",
       "         [0.88073927],\n",
       "         [0.09732755],\n",
       "         [0.09732755],\n",
       "         [0.06254623],\n",
       "         [0.06254623],\n",
       "         [0.20338835],\n",
       "         [0.20338835],\n",
       "         [0.97446126],\n",
       "         [0.97446126],\n",
       "         [0.86764513],\n",
       "         [0.86764513],\n",
       "         [0.6083099 ],\n",
       "         [0.6083099 ],\n",
       "         [0.39243419],\n",
       "         [0.39243419],\n",
       "         [0.67623789],\n",
       "         [0.67623789],\n",
       "         [0.3592444 ],\n",
       "         [0.3592444 ],\n",
       "         [0.88819827],\n",
       "         [0.88819827],\n",
       "         [0.25897536],\n",
       "         [0.25897536],\n",
       "         [0.84372426],\n",
       "         [0.84372426],\n",
       "         [0.59746572],\n",
       "         [0.59746572],\n",
       "         [0.24221052],\n",
       "         [0.24221052],\n",
       "         [0.60923157],\n",
       "         [0.60923157],\n",
       "         [0.61714805],\n",
       "         [0.61714805],\n",
       "         [0.24457871],\n",
       "         [0.24457871],\n",
       "         [0.08217777],\n",
       "         [0.08217777],\n",
       "         [0.87003279],\n",
       "         [0.87003279],\n",
       "         [0.16776346],\n",
       "         [0.16776346],\n",
       "         [0.4981252 ],\n",
       "         [0.4981252 ]])}}"
      ]
     },
     "execution_count": 1,
     "metadata": {},
     "output_type": "execute_result"
    }
   ],
   "source": [
    "ds = load_by_id(run_id_a)\n",
    "ds.get_parameter_data('x1')"
   ]
  },
  {
   "cell_type": "code",
   "execution_count": null,
   "metadata": {},
   "outputs": [],
   "source": []
  }
 ],
 "metadata": {
  "kernelspec": {
   "display_name": "Python 3",
   "language": "python",
   "name": "python3"
  },
  "language_info": {
   "codemirror_mode": {
    "name": "ipython",
    "version": 3
   },
   "file_extension": ".py",
   "mimetype": "text/x-python",
   "name": "python",
   "nbconvert_exporter": "python",
   "pygments_lexer": "ipython3",
   "version": "3.7.10"
  },
  "nbsphinx": {
   "timeout": 600
  },
  "toc": {
   "base_numbering": 1,
   "nav_menu": {},
   "number_sections": true,
   "sideBar": true,
   "skip_h1_title": false,
   "title_cell": "Table of Contents",
   "title_sidebar": "Contents",
   "toc_cell": false,
   "toc_position": {},
   "toc_section_display": true,
   "toc_window_display": false
  },
  "varInspector": {
   "cols": {
    "lenName": 16,
    "lenType": 16,
    "lenVar": 40
   },
   "kernels_config": {
    "python": {
     "delete_cmd_postfix": "",
     "delete_cmd_prefix": "del ",
     "library": "var_list.py",
     "varRefreshCmd": "print(var_dic_list())"
    },
    "r": {
     "delete_cmd_postfix": ") ",
     "delete_cmd_prefix": "rm(",
     "library": "var_list.r",
     "varRefreshCmd": "cat(var_dic_list()) "
    }
   },
   "types_to_exclude": [
    "module",
    "function",
    "builtin_function_or_method",
    "instance",
    "_Feature"
   ],
   "window_display": false
  }
 },
 "nbformat": 4,
 "nbformat_minor": 4
}
