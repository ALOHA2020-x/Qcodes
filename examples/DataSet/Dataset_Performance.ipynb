{
 "cells": [
  {
   "cell_type": "markdown",
   "metadata": {},
   "source": [
    "# DataSet Performance\n",
    "\n",
    "This notebook shows the trade-off between inserting data into a database row-by-row and as binary blobs. Inserting the data row-by-row means that we have direct access to all the data and may perform queries directly on the values of the data. On the other hand, as we shall see, this is much slower than inserting the data directly as binary blobs."
   ]
  },
  {
   "cell_type": "markdown",
   "metadata": {},
   "source": [
    "First, we choose a new location for the database to ensure that we don't add a bunch of benchmarking data to the default one."
   ]
  },
  {
   "cell_type": "code",
   "execution_count": 1,
   "metadata": {
    "execution": {
     "iopub.execute_input": "2020-10-21T11:26:18.696895Z",
     "iopub.status.busy": "2020-10-21T11:26:18.696375Z",
     "iopub.status.idle": "2020-10-21T11:26:19.730234Z",
     "shell.execute_reply": "2020-10-21T11:26:19.729576Z"
    }
   },
   "outputs": [
    {
     "name": "stdout",
     "output_type": "stream",
     "text": [
      "Logging hadn't been started.\n",
      "Activating auto-logging. Current session state plus future input saved.\n",
      "Filename       : /home/vsts/.qcodes/logs/command_history.log\n",
      "Mode           : append\n",
      "Output logging : True\n",
      "Raw input log  : False\n",
      "Timestamping   : True\n",
      "State          : active\n"
     ]
    },
    {
     "name": "stdout",
     "output_type": "stream",
     "text": [
      "Qcodes Logfile : /home/vsts/.qcodes/logs/201021-14776-qcodes.log\n"
     ]
    }
   ],
   "source": [
    "import os\n",
    "cwd = os.getcwd()\n",
    "import qcodes as qc\n",
    "qc.config[\"core\"][\"db_location\"] = os.path.join(cwd, 'testing.db')\n"
   ]
  },
  {
   "cell_type": "code",
   "execution_count": 2,
   "metadata": {
    "execution": {
     "iopub.execute_input": "2020-10-21T11:26:19.737462Z",
     "iopub.status.busy": "2020-10-21T11:26:19.735738Z",
     "iopub.status.idle": "2020-10-21T11:26:19.919528Z",
     "shell.execute_reply": "2020-10-21T11:26:19.918891Z"
    }
   },
   "outputs": [],
   "source": [
    "%matplotlib inline\n",
    "import time\n",
    "import matplotlib.pyplot as plt\n",
    "import numpy as np\n",
    "\n",
    "import qcodes as qc\n",
    "from qcodes.instrument.parameter import ManualParameter\n",
    "from qcodes.dataset.experiment_container import (Experiment,\n",
    "                                                 load_last_experiment,\n",
    "                                                 new_experiment)\n",
    "from qcodes.dataset.sqlite.database import initialise_database\n",
    "from qcodes import load_or_create_experiment\n",
    "from qcodes.dataset.measurements import Measurement"
   ]
  },
  {
   "cell_type": "code",
   "execution_count": 3,
   "metadata": {
    "execution": {
     "iopub.execute_input": "2020-10-21T11:26:19.923293Z",
     "iopub.status.busy": "2020-10-21T11:26:19.922640Z",
     "iopub.status.idle": "2020-10-21T11:26:20.024365Z",
     "shell.execute_reply": "2020-10-21T11:26:20.023804Z"
    }
   },
   "outputs": [
    {
     "name": "stdout",
     "output_type": "stream",
     "text": [
      "\r",
      "0it [00:00, ?it/s]"
     ]
    },
    {
     "name": "stdout",
     "output_type": "stream",
     "text": [
      "\r",
      "Upgrading database; v0 -> v1: : 0it [00:00, ?it/s]"
     ]
    },
    {
     "name": "stdout",
     "output_type": "stream",
     "text": [
      "\r",
      "Upgrading database; v0 -> v1: : 0it [00:00, ?it/s]"
     ]
    },
    {
     "name": "stdout",
     "output_type": "stream",
     "text": [
      "\n",
      "\r",
      "  0%|          | 0/1 [00:00<?, ?it/s]"
     ]
    },
    {
     "name": "stdout",
     "output_type": "stream",
     "text": [
      "\r",
      "Upgrading database; v1 -> v2:   0%|          | 0/1 [00:00<?, ?it/s]"
     ]
    },
    {
     "name": "stdout",
     "output_type": "stream",
     "text": [
      "\r",
      "Upgrading database; v1 -> v2: 100%|██████████| 1/1 [00:00<00:00, 464.33it/s]"
     ]
    },
    {
     "name": "stdout",
     "output_type": "stream",
     "text": [
      "\n",
      "\r",
      "0it [00:00, ?it/s]"
     ]
    },
    {
     "name": "stdout",
     "output_type": "stream",
     "text": [
      "\r",
      "Upgrading database; v2 -> v3: : 0it [00:00, ?it/s]"
     ]
    },
    {
     "name": "stdout",
     "output_type": "stream",
     "text": [
      "\r",
      "Upgrading database; v2 -> v3: : 0it [00:00, ?it/s]"
     ]
    },
    {
     "name": "stdout",
     "output_type": "stream",
     "text": [
      "\n",
      "\r",
      "0it [00:00, ?it/s]"
     ]
    },
    {
     "name": "stdout",
     "output_type": "stream",
     "text": [
      "\r",
      "Upgrading database; v3 -> v4: : 0it [00:00, ?it/s]"
     ]
    },
    {
     "name": "stdout",
     "output_type": "stream",
     "text": [
      "\r",
      "Upgrading database; v3 -> v4: : 0it [00:00, ?it/s]"
     ]
    },
    {
     "name": "stdout",
     "output_type": "stream",
     "text": [
      "\n",
      "\r",
      "  0%|          | 0/1 [00:00<?, ?it/s]"
     ]
    },
    {
     "name": "stdout",
     "output_type": "stream",
     "text": [
      "\r",
      "Upgrading database; v4 -> v5:   0%|          | 0/1 [00:00<?, ?it/s]"
     ]
    },
    {
     "name": "stdout",
     "output_type": "stream",
     "text": [
      "\r",
      "Upgrading database; v4 -> v5: 100%|██████████| 1/1 [00:00<00:00, 615.27it/s]"
     ]
    },
    {
     "name": "stdout",
     "output_type": "stream",
     "text": [
      "\n",
      "\r",
      "0it [00:00, ?it/s]"
     ]
    },
    {
     "name": "stdout",
     "output_type": "stream",
     "text": [
      "\r",
      "Upgrading database; v5 -> v6: : 0it [00:00, ?it/s]"
     ]
    },
    {
     "name": "stdout",
     "output_type": "stream",
     "text": [
      "\r",
      "Upgrading database; v5 -> v6: : 0it [00:00, ?it/s]"
     ]
    },
    {
     "name": "stdout",
     "output_type": "stream",
     "text": [
      "\n",
      "\r",
      "  0%|          | 0/1 [00:00<?, ?it/s]"
     ]
    },
    {
     "name": "stdout",
     "output_type": "stream",
     "text": [
      "\r",
      "Upgrading database; v6 -> v7:   0%|          | 0/1 [00:00<?, ?it/s]"
     ]
    },
    {
     "name": "stdout",
     "output_type": "stream",
     "text": [
      "\r",
      "Upgrading database; v6 -> v7: 100%|██████████| 1/1 [00:00<00:00, 440.76it/s]"
     ]
    },
    {
     "name": "stdout",
     "output_type": "stream",
     "text": [
      "\n",
      "\r",
      "  0%|          | 0/1 [00:00<?, ?it/s]"
     ]
    },
    {
     "name": "stdout",
     "output_type": "stream",
     "text": [
      "\r",
      "Upgrading database; v7 -> v8:   0%|          | 0/1 [00:00<?, ?it/s]"
     ]
    },
    {
     "name": "stdout",
     "output_type": "stream",
     "text": [
      "\r",
      "Upgrading database; v7 -> v8: 100%|██████████| 1/1 [00:00<00:00, 863.20it/s]"
     ]
    },
    {
     "name": "stdout",
     "output_type": "stream",
     "text": [
      "\n",
      "\r",
      "  0%|          | 0/1 [00:00<?, ?it/s]"
     ]
    },
    {
     "name": "stdout",
     "output_type": "stream",
     "text": [
      "\r",
      "Upgrading database; v8 -> v9:   0%|          | 0/1 [00:00<?, ?it/s]"
     ]
    },
    {
     "name": "stdout",
     "output_type": "stream",
     "text": [
      "\r",
      "Upgrading database; v8 -> v9: 100%|██████████| 1/1 [00:00<00:00, 546.49it/s]"
     ]
    },
    {
     "name": "stdout",
     "output_type": "stream",
     "text": [
      "\n"
     ]
    }
   ],
   "source": [
    "initialise_database()\n",
    "exp = load_or_create_experiment(experiment_name='tutorial_exp', sample_name=\"no sample\")"
   ]
  },
  {
   "cell_type": "markdown",
   "metadata": {},
   "source": [
    "Here, we define a simple function to benchmark the time it takes to insert n points with either numeric or array data type.\n",
    "We will compare both the time used to call ``add_result`` and the time used for the full measurement."
   ]
  },
  {
   "cell_type": "code",
   "execution_count": 4,
   "metadata": {
    "execution": {
     "iopub.execute_input": "2020-10-21T11:26:20.032670Z",
     "iopub.status.busy": "2020-10-21T11:26:20.032132Z",
     "iopub.status.idle": "2020-10-21T11:26:20.036023Z",
     "shell.execute_reply": "2020-10-21T11:26:20.035317Z"
    }
   },
   "outputs": [],
   "source": [
    "def insert_data(paramtype, npoints, nreps=1):\n",
    "\n",
    "    meas = Measurement(exp=exp)\n",
    "\n",
    "    x1 = ManualParameter('x1')\n",
    "    x2 = ManualParameter('x2')\n",
    "    x3 = ManualParameter('x3')\n",
    "    y1 = ManualParameter('y1')\n",
    "    y2 = ManualParameter('y2')\n",
    "\n",
    "    meas.register_parameter(x1, paramtype=paramtype)\n",
    "    meas.register_parameter(x2, paramtype=paramtype)\n",
    "    meas.register_parameter(x3, paramtype=paramtype)\n",
    "    meas.register_parameter(y1, setpoints=[x1, x2, x3],\n",
    "                            paramtype=paramtype)\n",
    "    meas.register_parameter(y2, setpoints=[x1, x2, x3],\n",
    "                            paramtype=paramtype)\n",
    "    start = time.perf_counter()\n",
    "    with meas.run() as datasaver:\n",
    "        start_adding = time.perf_counter()\n",
    "        for i in range(nreps):\n",
    "            datasaver.add_result((x1, np.random.rand(npoints)),\n",
    "                                 (x2, np.random.rand(npoints)),\n",
    "                                 (x3, np.random.rand(npoints)),\n",
    "                                 (y1, np.random.rand(npoints)),\n",
    "                                 (y2, np.random.rand(npoints)))\n",
    "        stop_adding = time.perf_counter()\n",
    "        run_id = datasaver.run_id\n",
    "    stop = time.perf_counter()\n",
    "    tot_time = stop - start\n",
    "    add_time = stop_adding - start_adding\n",
    "    return tot_time, add_time, run_id"
   ]
  },
  {
   "cell_type": "markdown",
   "metadata": {},
   "source": [
    "## Comparison between numeric/array data and binary blob"
   ]
  },
  {
   "cell_type": "markdown",
   "metadata": {},
   "source": [
    "### Case1: Short experiment time"
   ]
  },
  {
   "cell_type": "code",
   "execution_count": 5,
   "metadata": {
    "execution": {
     "iopub.execute_input": "2020-10-21T11:26:20.040247Z",
     "iopub.status.busy": "2020-10-21T11:26:20.039725Z",
     "iopub.status.idle": "2020-10-21T11:26:20.827809Z",
     "shell.execute_reply": "2020-10-21T11:26:20.828553Z"
    }
   },
   "outputs": [
    {
     "name": "stdout",
     "output_type": "stream",
     "text": [
      "Starting experimental run with id: 1. \n",
      "Starting experimental run with id: 2. \n",
      "Starting experimental run with id: 3. \n",
      "Starting experimental run with id: 4. \n",
      "Starting experimental run with id: 5. \n"
     ]
    },
    {
     "name": "stdout",
     "output_type": "stream",
     "text": [
      "Starting experimental run with id: 6. \n"
     ]
    },
    {
     "name": "stdout",
     "output_type": "stream",
     "text": [
      "Starting experimental run with id: 7. \n"
     ]
    },
    {
     "name": "stdout",
     "output_type": "stream",
     "text": [
      "Starting experimental run with id: 8. \n",
      "Starting experimental run with id: 9. \n"
     ]
    },
    {
     "name": "stdout",
     "output_type": "stream",
     "text": [
      "Starting experimental run with id: 10. \n",
      "Starting experimental run with id: 11. \n"
     ]
    },
    {
     "name": "stdout",
     "output_type": "stream",
     "text": [
      "Starting experimental run with id: 12. \n",
      "Starting experimental run with id: 13. \n"
     ]
    },
    {
     "name": "stdout",
     "output_type": "stream",
     "text": [
      "Starting experimental run with id: 14. \n"
     ]
    }
   ],
   "source": [
    "sizes = [1,500,1000,2000,3000,4000,5000]\n",
    "t_numeric = []\n",
    "t_numeric_add = []\n",
    "t_array = []\n",
    "t_array_add = []\n",
    "for size in sizes:\n",
    "    tn, tna, run_id_n =  insert_data('numeric', size)\n",
    "    t_numeric.append(tn)\n",
    "    t_numeric_add.append(tna)\n",
    "\n",
    "    ta, taa, run_id_a =  insert_data('array', size)\n",
    "    t_array.append(ta)\n",
    "    t_array_add.append(taa)"
   ]
  },
  {
   "cell_type": "code",
   "execution_count": 6,
   "metadata": {
    "execution": {
     "iopub.execute_input": "2020-10-21T11:26:20.870212Z",
     "iopub.status.busy": "2020-10-21T11:26:20.869396Z",
     "iopub.status.idle": "2020-10-21T11:26:21.020719Z",
     "shell.execute_reply": "2020-10-21T11:26:21.021486Z"
    }
   },
   "outputs": [
    {
     "data": {
      "image/png": "[encoded data removed]",
      "text/plain": [
       "<Figure size 432x288 with 1 Axes>"
      ]
     },
     "metadata": {
      "needs_background": "light"
     },
     "output_type": "display_data"
    }
   ],
   "source": [
    "fig, ax = plt.subplots(1,1)\n",
    "ax.plot(sizes, t_numeric, 'o-', label='Inserting row-by-row')\n",
    "ax.plot(sizes, t_numeric_add, 'o-', label='Inserting row-by-row: add_result only')\n",
    "ax.plot(sizes, t_array, 'd-', label='Inserting as binary blob')\n",
    "ax.plot(sizes, t_array_add, 'd-', label='Inserting as binary blob: add_result only')\n",
    "ax.legend()\n",
    "ax.set_xlabel('Array length')\n",
    "ax.set_ylabel('Time (s)')\n",
    "fig.tight_layout()"
   ]
  },
  {
   "cell_type": "markdown",
   "metadata": {},
   "source": [
    "As shown in the latter figure, the time to setup and and close the experiment is approximately 0.4 sec. In case of small array sizes, the difference between inserting values of data as arrays and inserting them row-by-row is relatively unimportant. At larger array sizes, i.e. above 10000 points, the cost of writing data as individual datapoints starts to become important.\n"
   ]
  },
  {
   "cell_type": "markdown",
   "metadata": {},
   "source": [
    "### Case2: Long experiment time "
   ]
  },
  {
   "cell_type": "code",
   "execution_count": 7,
   "metadata": {
    "execution": {
     "iopub.execute_input": "2020-10-21T11:26:21.024830Z",
     "iopub.status.busy": "2020-10-21T11:26:21.023827Z",
     "iopub.status.idle": "2020-10-21T11:27:19.783092Z",
     "shell.execute_reply": "2020-10-21T11:27:19.782060Z"
    }
   },
   "outputs": [
    {
     "name": "stdout",
     "output_type": "stream",
     "text": [
      "Starting experimental run with id: 15. \n",
      "Starting experimental run with id: 16. \n",
      "Starting experimental run with id: 17. \n"
     ]
    },
    {
     "name": "stdout",
     "output_type": "stream",
     "text": [
      "Starting experimental run with id: 18. \n",
      "Starting experimental run with id: 19. \n"
     ]
    },
    {
     "name": "stdout",
     "output_type": "stream",
     "text": [
      "Starting experimental run with id: 20. \n"
     ]
    },
    {
     "name": "stdout",
     "output_type": "stream",
     "text": [
      "Starting experimental run with id: 21. \n"
     ]
    },
    {
     "name": "stdout",
     "output_type": "stream",
     "text": [
      "Starting experimental run with id: 22. \n"
     ]
    },
    {
     "name": "stdout",
     "output_type": "stream",
     "text": [
      "Starting experimental run with id: 23. \n"
     ]
    },
    {
     "name": "stdout",
     "output_type": "stream",
     "text": [
      "Starting experimental run with id: 24. \n"
     ]
    },
    {
     "name": "stdout",
     "output_type": "stream",
     "text": [
      "Starting experimental run with id: 25. \n"
     ]
    },
    {
     "name": "stdout",
     "output_type": "stream",
     "text": [
      "Starting experimental run with id: 26. \n"
     ]
    },
    {
     "name": "stdout",
     "output_type": "stream",
     "text": [
      "Starting experimental run with id: 27. \n"
     ]
    },
    {
     "name": "stdout",
     "output_type": "stream",
     "text": [
      "Starting experimental run with id: 28. \n"
     ]
    }
   ],
   "source": [
    "sizes = [1,500,1000,2000,3000,4000,5000]\n",
    "nreps = 100\n",
    "t_numeric = []\n",
    "t_numeric_add = []\n",
    "t_numeric_run_ids = []\n",
    "t_array = []\n",
    "t_array_add = []\n",
    "t_array_run_ids = []\n",
    "for size in sizes:\n",
    "    tn, tna, run_id_n =  insert_data('numeric', size, nreps=nreps)\n",
    "    t_numeric.append(tn)\n",
    "    t_numeric_add.append(tna)\n",
    "    t_numeric_run_ids.append(run_id_n)\n",
    "\n",
    "    ta, taa, run_id_a =  insert_data('array', size, nreps=nreps)\n",
    "    t_array.append(ta)\n",
    "    t_array_add.append(taa)\n",
    "    t_array_run_ids.append(run_id_a)"
   ]
  },
  {
   "cell_type": "code",
   "execution_count": 8,
   "metadata": {
    "execution": {
     "iopub.execute_input": "2020-10-21T11:27:19.802620Z",
     "iopub.status.busy": "2020-10-21T11:27:19.788636Z",
     "iopub.status.idle": "2020-10-21T11:27:19.977454Z",
     "shell.execute_reply": "2020-10-21T11:27:19.978023Z"
    },
    "scrolled": true
   },
   "outputs": [
    {
     "data": {
      "image/png": "[encoded data removed]",
      "text/plain": [
       "<Figure size 432x288 with 1 Axes>"
      ]
     },
     "metadata": {
      "needs_background": "light"
     },
     "output_type": "display_data"
    }
   ],
   "source": [
    "fig, ax = plt.subplots(1,1)\n",
    "ax.plot(sizes, t_numeric, 'o-', label='Inserting row-by-row')\n",
    "ax.plot(sizes, t_numeric_add, 'o-', label='Inserting row-by-row: add_result only')\n",
    "ax.plot(sizes, t_array, 'd-', label='Inserting as binary blob')\n",
    "ax.plot(sizes, t_array_add, 'd-', label='Inserting as binary blob: add_result only')\n",
    "ax.legend()\n",
    "ax.set_xlabel('Array length')\n",
    "ax.set_ylabel('Time (s)')\n",
    "fig.tight_layout()"
   ]
  },
  {
   "cell_type": "markdown",
   "metadata": {},
   "source": [
    "However, as we increase the length of the experiment, as seen here by repeating the insertion 100 times, we see a big difference between inserting values of the data row-by-row and inserting it as a binary blob."
   ]
  },
  {
   "cell_type": "markdown",
   "metadata": {},
   "source": [
    "## Loading the data "
   ]
  },
  {
   "cell_type": "code",
   "execution_count": 9,
   "metadata": {
    "execution": {
     "iopub.execute_input": "2020-10-21T11:27:19.981892Z",
     "iopub.status.busy": "2020-10-21T11:27:19.981112Z",
     "iopub.status.idle": "2020-10-21T11:27:19.983584Z",
     "shell.execute_reply": "2020-10-21T11:27:19.984302Z"
    }
   },
   "outputs": [],
   "source": [
    "from qcodes.dataset.data_set import load_by_id\n",
    "from qcodes.dataset.data_export import get_data_by_id"
   ]
  },
  {
   "cell_type": "markdown",
   "metadata": {},
   "source": [
    "As usual you can load the data by using the ``load_by_id`` function but you will notice that the different storage methods\n",
    "are reflected in shape of the data as it is retrieved. "
   ]
  },
  {
   "cell_type": "code",
   "execution_count": 10,
   "metadata": {
    "execution": {
     "iopub.execute_input": "2020-10-21T11:27:19.989099Z",
     "iopub.status.busy": "2020-10-21T11:27:19.988589Z",
     "iopub.status.idle": "2020-10-21T11:27:19.991949Z",
     "shell.execute_reply": "2020-10-21T11:27:19.991404Z"
    }
   },
   "outputs": [],
   "source": [
    "run_id_n = t_numeric_run_ids[0]\n",
    "run_id_a = t_array_run_ids[0]"
   ]
  },
  {
   "cell_type": "code",
   "execution_count": 11,
   "metadata": {
    "execution": {
     "iopub.execute_input": "2020-10-21T11:27:19.995888Z",
     "iopub.status.busy": "2020-10-21T11:27:19.994820Z",
     "iopub.status.idle": "2020-10-21T11:27:20.007773Z",
     "shell.execute_reply": "2020-10-21T11:27:20.007105Z"
    },
    "scrolled": true
   },
   "outputs": [
    {
     "data": {
      "text/plain": [
       "{'x1': {'x1': array([0.94287216, 0.94287216, 0.02571504, 0.02571504, 0.40746384,\n",
       "         0.40746384, 0.59237067, 0.59237067, 0.13999412, 0.13999412,\n",
       "         0.0900656 , 0.0900656 , 0.44001129, 0.44001129, 0.03945951,\n",
       "         0.03945951, 0.49867644, 0.49867644, 0.98653305, 0.98653305,\n",
       "         0.23766891, 0.23766891, 0.25893961, 0.25893961, 0.98835533,\n",
       "         0.98835533, 0.57291961, 0.57291961, 0.78737191, 0.78737191,\n",
       "         0.49590255, 0.49590255, 0.87860163, 0.87860163, 0.65691267,\n",
       "         0.65691267, 0.87357287, 0.87357287, 0.2370471 , 0.2370471 ,\n",
       "         0.08693455, 0.08693455, 0.62975169, 0.62975169, 0.26886407,\n",
       "         0.26886407, 0.52180472, 0.52180472, 0.27658456, 0.27658456,\n",
       "         0.49830196, 0.49830196, 0.79373088, 0.79373088, 0.87871945,\n",
       "         0.87871945, 0.47193739, 0.47193739, 0.52464121, 0.52464121,\n",
       "         0.98774138, 0.98774138, 0.50860588, 0.50860588, 0.19507951,\n",
       "         0.19507951, 0.99594503, 0.99594503, 0.50875817, 0.50875817,\n",
       "         0.64856315, 0.64856315, 0.66856553, 0.66856553, 0.12295975,\n",
       "         0.12295975, 0.45375634, 0.45375634, 0.22814468, 0.22814468,\n",
       "         0.13231689, 0.13231689, 0.61847956, 0.61847956, 0.54071241,\n",
       "         0.54071241, 0.76989578, 0.76989578, 0.69195874, 0.69195874,\n",
       "         0.27194006, 0.27194006, 0.02369895, 0.02369895, 0.37925037,\n",
       "         0.37925037, 0.00607726, 0.00607726, 0.33681512, 0.33681512,\n",
       "         0.73739035, 0.73739035, 0.46220025, 0.46220025, 0.49973731,\n",
       "         0.49973731, 0.70793967, 0.70793967, 0.12836279, 0.12836279,\n",
       "         0.730993  , 0.730993  , 0.70573271, 0.70573271, 0.48005345,\n",
       "         0.48005345, 0.77574889, 0.77574889, 0.53873244, 0.53873244,\n",
       "         0.46080584, 0.46080584, 0.51153113, 0.51153113, 0.2790233 ,\n",
       "         0.2790233 , 0.61238098, 0.61238098, 0.76088086, 0.76088086,\n",
       "         0.71312052, 0.71312052, 0.61614007, 0.61614007, 0.02655433,\n",
       "         0.02655433, 0.11663119, 0.11663119, 0.32893127, 0.32893127,\n",
       "         0.17824565, 0.17824565, 0.58064454, 0.58064454, 0.48583604,\n",
       "         0.48583604, 0.45840566, 0.45840566, 0.32916294, 0.32916294,\n",
       "         0.62482393, 0.62482393, 0.6879524 , 0.6879524 , 0.21973764,\n",
       "         0.21973764, 0.78491079, 0.78491079, 0.09674662, 0.09674662,\n",
       "         0.11062293, 0.11062293, 0.59749181, 0.59749181, 0.37618924,\n",
       "         0.37618924, 0.05677552, 0.05677552, 0.26672515, 0.26672515,\n",
       "         0.42689095, 0.42689095, 0.55166822, 0.55166822, 0.52536747,\n",
       "         0.52536747, 0.51960479, 0.51960479, 0.31036398, 0.31036398,\n",
       "         0.24398612, 0.24398612, 0.54342437, 0.54342437, 0.93916404,\n",
       "         0.93916404, 0.83473201, 0.83473201, 0.54340085, 0.54340085,\n",
       "         0.4359556 , 0.4359556 , 0.64107611, 0.64107611, 0.21541284,\n",
       "         0.21541284, 0.29503751, 0.29503751, 0.10672766, 0.10672766])}}"
      ]
     },
     "execution_count": 1,
     "metadata": {},
     "output_type": "execute_result"
    }
   ],
   "source": [
    "ds = load_by_id(run_id_n)\n",
    "ds.get_parameter_data('x1')"
   ]
  },
  {
   "cell_type": "markdown",
   "metadata": {},
   "source": [
    "And a dataset stored as binary arrays"
   ]
  },
  {
   "cell_type": "code",
   "execution_count": 12,
   "metadata": {
    "execution": {
     "iopub.execute_input": "2020-10-21T11:27:20.011462Z",
     "iopub.status.busy": "2020-10-21T11:27:20.010900Z",
     "iopub.status.idle": "2020-10-21T11:27:20.068430Z",
     "shell.execute_reply": "2020-10-21T11:27:20.067922Z"
    },
    "scrolled": true
   },
   "outputs": [
    {
     "data": {
      "text/plain": [
       "{'x1': {'x1': array([[0.03262038],\n",
       "         [0.03262038],\n",
       "         [0.41826786],\n",
       "         [0.41826786],\n",
       "         [0.63323682],\n",
       "         [0.63323682],\n",
       "         [0.14409857],\n",
       "         [0.14409857],\n",
       "         [0.85183511],\n",
       "         [0.85183511],\n",
       "         [0.80087797],\n",
       "         [0.80087797],\n",
       "         [0.91781435],\n",
       "         [0.91781435],\n",
       "         [0.00806856],\n",
       "         [0.00806856],\n",
       "         [0.97970329],\n",
       "         [0.97970329],\n",
       "         [0.53556373],\n",
       "         [0.53556373],\n",
       "         [0.50106642],\n",
       "         [0.50106642],\n",
       "         [0.2382268 ],\n",
       "         [0.2382268 ],\n",
       "         [0.45778177],\n",
       "         [0.45778177],\n",
       "         [0.30115696],\n",
       "         [0.30115696],\n",
       "         [0.31368951],\n",
       "         [0.31368951],\n",
       "         [0.47411751],\n",
       "         [0.47411751],\n",
       "         [0.29366809],\n",
       "         [0.29366809],\n",
       "         [0.99485001],\n",
       "         [0.99485001],\n",
       "         [0.36460575],\n",
       "         [0.36460575],\n",
       "         [0.37970868],\n",
       "         [0.37970868],\n",
       "         [0.449963  ],\n",
       "         [0.449963  ],\n",
       "         [0.87674679],\n",
       "         [0.87674679],\n",
       "         [0.0308781 ],\n",
       "         [0.0308781 ],\n",
       "         [0.66692254],\n",
       "         [0.66692254],\n",
       "         [0.19439495],\n",
       "         [0.19439495],\n",
       "         [0.59221117],\n",
       "         [0.59221117],\n",
       "         [0.84032287],\n",
       "         [0.84032287],\n",
       "         [0.2334526 ],\n",
       "         [0.2334526 ],\n",
       "         [0.82569606],\n",
       "         [0.82569606],\n",
       "         [0.75515322],\n",
       "         [0.75515322],\n",
       "         [0.51760429],\n",
       "         [0.51760429],\n",
       "         [0.85717787],\n",
       "         [0.85717787],\n",
       "         [0.54215298],\n",
       "         [0.54215298],\n",
       "         [0.84139702],\n",
       "         [0.84139702],\n",
       "         [0.54193028],\n",
       "         [0.54193028],\n",
       "         [0.80432233],\n",
       "         [0.80432233],\n",
       "         [0.03297257],\n",
       "         [0.03297257],\n",
       "         [0.47008846],\n",
       "         [0.47008846],\n",
       "         [0.9010075 ],\n",
       "         [0.9010075 ],\n",
       "         [0.13930546],\n",
       "         [0.13930546],\n",
       "         [0.65493992],\n",
       "         [0.65493992],\n",
       "         [0.13896275],\n",
       "         [0.13896275],\n",
       "         [0.21573608],\n",
       "         [0.21573608],\n",
       "         [0.11653221],\n",
       "         [0.11653221],\n",
       "         [0.65777748],\n",
       "         [0.65777748],\n",
       "         [0.71210407],\n",
       "         [0.71210407],\n",
       "         [0.34898927],\n",
       "         [0.34898927],\n",
       "         [0.06939478],\n",
       "         [0.06939478],\n",
       "         [0.33249147],\n",
       "         [0.33249147],\n",
       "         [0.48101194],\n",
       "         [0.48101194],\n",
       "         [0.30736944],\n",
       "         [0.30736944],\n",
       "         [0.08238792],\n",
       "         [0.08238792],\n",
       "         [0.61485993],\n",
       "         [0.61485993],\n",
       "         [0.93195999],\n",
       "         [0.93195999],\n",
       "         [0.1300475 ],\n",
       "         [0.1300475 ],\n",
       "         [0.53743292],\n",
       "         [0.53743292],\n",
       "         [0.63792939],\n",
       "         [0.63792939],\n",
       "         [0.57668757],\n",
       "         [0.57668757],\n",
       "         [0.58807556],\n",
       "         [0.58807556],\n",
       "         [0.06818378],\n",
       "         [0.06818378],\n",
       "         [0.03313956],\n",
       "         [0.03313956],\n",
       "         [0.52835833],\n",
       "         [0.52835833],\n",
       "         [0.15190589],\n",
       "         [0.15190589],\n",
       "         [0.66883641],\n",
       "         [0.66883641],\n",
       "         [0.54345998],\n",
       "         [0.54345998],\n",
       "         [0.64066303],\n",
       "         [0.64066303],\n",
       "         [0.14056045],\n",
       "         [0.14056045],\n",
       "         [0.30591499],\n",
       "         [0.30591499],\n",
       "         [0.05700393],\n",
       "         [0.05700393],\n",
       "         [0.49501035],\n",
       "         [0.49501035],\n",
       "         [0.20897702],\n",
       "         [0.20897702],\n",
       "         [0.15038125],\n",
       "         [0.15038125],\n",
       "         [0.79621988],\n",
       "         [0.79621988],\n",
       "         [0.00303688],\n",
       "         [0.00303688],\n",
       "         [0.0674794 ],\n",
       "         [0.0674794 ],\n",
       "         [0.5883884 ],\n",
       "         [0.5883884 ],\n",
       "         [0.75284085],\n",
       "         [0.75284085],\n",
       "         [0.73963748],\n",
       "         [0.73963748],\n",
       "         [0.28175958],\n",
       "         [0.28175958],\n",
       "         [0.2302427 ],\n",
       "         [0.2302427 ],\n",
       "         [0.63973932],\n",
       "         [0.63973932],\n",
       "         [0.26391646],\n",
       "         [0.26391646],\n",
       "         [0.24522488],\n",
       "         [0.24522488],\n",
       "         [0.86554369],\n",
       "         [0.86554369],\n",
       "         [0.20885789],\n",
       "         [0.20885789],\n",
       "         [0.27702444],\n",
       "         [0.27702444],\n",
       "         [0.79983409],\n",
       "         [0.79983409],\n",
       "         [0.98479423],\n",
       "         [0.98479423],\n",
       "         [0.54453287],\n",
       "         [0.54453287],\n",
       "         [0.12365059],\n",
       "         [0.12365059],\n",
       "         [0.50997724],\n",
       "         [0.50997724],\n",
       "         [0.98151933],\n",
       "         [0.98151933],\n",
       "         [0.60311501],\n",
       "         [0.60311501],\n",
       "         [0.23868873],\n",
       "         [0.23868873],\n",
       "         [0.64250681],\n",
       "         [0.64250681],\n",
       "         [0.95138206],\n",
       "         [0.95138206],\n",
       "         [0.05824479],\n",
       "         [0.05824479],\n",
       "         [0.27641366],\n",
       "         [0.27641366],\n",
       "         [0.62443031],\n",
       "         [0.62443031],\n",
       "         [0.69670968],\n",
       "         [0.69670968]])}}"
      ]
     },
     "execution_count": 1,
     "metadata": {},
     "output_type": "execute_result"
    }
   ],
   "source": [
    "ds = load_by_id(run_id_a)\n",
    "ds.get_parameter_data('x1')"
   ]
  },
  {
   "cell_type": "code",
   "execution_count": null,
   "metadata": {},
   "outputs": [],
   "source": []
  }
 ],
 "metadata": {
  "kernelspec": {
   "display_name": "Python 3",
   "language": "python",
   "name": "python3"
  },
  "language_info": {
   "codemirror_mode": {
    "name": "ipython",
    "version": 3
   },
   "file_extension": ".py",
   "mimetype": "text/x-python",
   "name": "python",
   "nbconvert_exporter": "python",
   "pygments_lexer": "ipython3",
   "version": "3.7.7"
  },
  "nbsphinx": {
   "timeout": 600
  },
  "toc": {
   "base_numbering": 1,
   "nav_menu": {},
   "number_sections": true,
   "sideBar": true,
   "skip_h1_title": false,
   "title_cell": "Table of Contents",
   "title_sidebar": "Contents",
   "toc_cell": false,
   "toc_position": {},
   "toc_section_display": true,
   "toc_window_display": false
  },
  "varInspector": {
   "cols": {
    "lenName": 16,
    "lenType": 16,
    "lenVar": 40
   },
   "kernels_config": {
    "python": {
     "delete_cmd_postfix": "",
     "delete_cmd_prefix": "del ",
     "library": "var_list.py",
     "varRefreshCmd": "print(var_dic_list())"
    },
    "r": {
     "delete_cmd_postfix": ") ",
     "delete_cmd_prefix": "rm(",
     "library": "var_list.r",
     "varRefreshCmd": "cat(var_dic_list()) "
    }
   },
   "types_to_exclude": [
    "module",
    "function",
    "builtin_function_or_method",
    "instance",
    "_Feature"
   ],
   "window_display": false
  }
 },
 "nbformat": 4,
 "nbformat_minor": 2
}
