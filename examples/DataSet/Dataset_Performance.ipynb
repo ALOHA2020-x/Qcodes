{
 "cells": [
  {
   "cell_type": "markdown",
   "metadata": {},
   "source": [
    "# DataSet Performance\n",
    "\n",
    "This notebook shows the trade-off between inserting data into a database row-by-row and as binary blobs. Inserting the data row-by-row means that we have direct access to all the data and may perform queries directly on the values of the data. On the other hand, as we shall see, this is much slower than inserting the data directly as binary blobs."
   ]
  },
  {
   "cell_type": "markdown",
   "metadata": {},
   "source": [
    "First, we choose a new location for the database to ensure that we don't add a bunch of benchmarking data to the default one."
   ]
  },
  {
   "cell_type": "code",
   "execution_count": 1,
   "metadata": {
    "execution": {
     "iopub.execute_input": "2020-10-23T06:14:33.906924Z",
     "iopub.status.busy": "2020-10-23T06:14:33.906277Z",
     "iopub.status.idle": "2020-10-23T06:14:35.205297Z",
     "shell.execute_reply": "2020-10-23T06:14:35.204204Z"
    }
   },
   "outputs": [
    {
     "name": "stdout",
     "output_type": "stream",
     "text": [
      "Logging hadn't been started.\n",
      "Activating auto-logging. Current session state plus future input saved.\n",
      "Filename       : /home/vsts/.qcodes/logs/command_history.log\n",
      "Mode           : append\n",
      "Output logging : True\n",
      "Raw input log  : False\n",
      "Timestamping   : True\n",
      "State          : active\n"
     ]
    },
    {
     "name": "stdout",
     "output_type": "stream",
     "text": [
      "Qcodes Logfile : /home/vsts/.qcodes/logs/201023-14730-qcodes.log\n"
     ]
    }
   ],
   "source": [
    "import os\n",
    "cwd = os.getcwd()\n",
    "import qcodes as qc\n",
    "qc.config[\"core\"][\"db_location\"] = os.path.join(cwd, 'testing.db')\n"
   ]
  },
  {
   "cell_type": "code",
   "execution_count": 2,
   "metadata": {
    "execution": {
     "iopub.execute_input": "2020-10-23T06:14:35.212444Z",
     "iopub.status.busy": "2020-10-23T06:14:35.211755Z",
     "iopub.status.idle": "2020-10-23T06:14:35.458800Z",
     "shell.execute_reply": "2020-10-23T06:14:35.457561Z"
    }
   },
   "outputs": [],
   "source": [
    "%matplotlib inline\n",
    "import time\n",
    "import matplotlib.pyplot as plt\n",
    "import numpy as np\n",
    "\n",
    "import qcodes as qc\n",
    "from qcodes.instrument.parameter import ManualParameter\n",
    "from qcodes.dataset.experiment_container import (Experiment,\n",
    "                                                 load_last_experiment,\n",
    "                                                 new_experiment)\n",
    "from qcodes.dataset.sqlite.database import initialise_database\n",
    "from qcodes import load_or_create_experiment\n",
    "from qcodes.dataset.measurements import Measurement"
   ]
  },
  {
   "cell_type": "code",
   "execution_count": 3,
   "metadata": {
    "execution": {
     "iopub.execute_input": "2020-10-23T06:14:35.463652Z",
     "iopub.status.busy": "2020-10-23T06:14:35.462382Z",
     "iopub.status.idle": "2020-10-23T06:14:35.626799Z",
     "shell.execute_reply": "2020-10-23T06:14:35.627919Z"
    }
   },
   "outputs": [
    {
     "name": "stdout",
     "output_type": "stream",
     "text": [
      "\r",
      "0it [00:00, ?it/s]"
     ]
    },
    {
     "name": "stdout",
     "output_type": "stream",
     "text": [
      "\r",
      "Upgrading database; v0 -> v1: : 0it [00:00, ?it/s]"
     ]
    },
    {
     "name": "stdout",
     "output_type": "stream",
     "text": [
      "\r",
      "Upgrading database; v0 -> v1: : 0it [00:00, ?it/s]"
     ]
    },
    {
     "name": "stdout",
     "output_type": "stream",
     "text": [
      "\n",
      "\r",
      "  0%|          | 0/1 [00:00<?, ?it/s]"
     ]
    },
    {
     "name": "stdout",
     "output_type": "stream",
     "text": [
      "\r",
      "Upgrading database; v1 -> v2:   0%|          | 0/1 [00:00<?, ?it/s]"
     ]
    },
    {
     "name": "stdout",
     "output_type": "stream",
     "text": [
      "\r",
      "Upgrading database; v1 -> v2: 100%|██████████| 1/1 [00:00<00:00, 1039.48it/s]"
     ]
    },
    {
     "name": "stdout",
     "output_type": "stream",
     "text": [
      "\n",
      "\r",
      "0it [00:00, ?it/s]"
     ]
    },
    {
     "name": "stdout",
     "output_type": "stream",
     "text": [
      "\r",
      "Upgrading database; v2 -> v3: : 0it [00:00, ?it/s]"
     ]
    },
    {
     "name": "stdout",
     "output_type": "stream",
     "text": [
      "\r",
      "Upgrading database; v2 -> v3: : 0it [00:00, ?it/s]"
     ]
    },
    {
     "name": "stdout",
     "output_type": "stream",
     "text": [
      "\n",
      "\r",
      "0it [00:00, ?it/s]"
     ]
    },
    {
     "name": "stdout",
     "output_type": "stream",
     "text": [
      "\r",
      "Upgrading database; v3 -> v4: : 0it [00:00, ?it/s]"
     ]
    },
    {
     "name": "stdout",
     "output_type": "stream",
     "text": [
      "\r",
      "Upgrading database; v3 -> v4: : 0it [00:00, ?it/s]"
     ]
    },
    {
     "name": "stdout",
     "output_type": "stream",
     "text": [
      "\n",
      "\r",
      "  0%|          | 0/1 [00:00<?, ?it/s]"
     ]
    },
    {
     "name": "stdout",
     "output_type": "stream",
     "text": [
      "\r",
      "Upgrading database; v4 -> v5:   0%|          | 0/1 [00:00<?, ?it/s]"
     ]
    },
    {
     "name": "stdout",
     "output_type": "stream",
     "text": [
      "\r",
      "Upgrading database; v4 -> v5: 100%|██████████| 1/1 [00:00<00:00, 528.52it/s]"
     ]
    },
    {
     "name": "stdout",
     "output_type": "stream",
     "text": [
      "\n",
      "\r",
      "0it [00:00, ?it/s]"
     ]
    },
    {
     "name": "stdout",
     "output_type": "stream",
     "text": [
      "\r",
      "Upgrading database; v5 -> v6: : 0it [00:00, ?it/s]"
     ]
    },
    {
     "name": "stdout",
     "output_type": "stream",
     "text": [
      "\r",
      "Upgrading database; v5 -> v6: : 0it [00:00, ?it/s]"
     ]
    },
    {
     "name": "stdout",
     "output_type": "stream",
     "text": [
      "\n",
      "\r",
      "  0%|          | 0/1 [00:00<?, ?it/s]"
     ]
    },
    {
     "name": "stdout",
     "output_type": "stream",
     "text": [
      "\r",
      "Upgrading database; v6 -> v7:   0%|          | 0/1 [00:00<?, ?it/s]"
     ]
    },
    {
     "name": "stdout",
     "output_type": "stream",
     "text": [
      "\r",
      "Upgrading database; v6 -> v7: 100%|██████████| 1/1 [00:00<00:00, 253.91it/s]"
     ]
    },
    {
     "name": "stdout",
     "output_type": "stream",
     "text": [
      "\n",
      "\r",
      "  0%|          | 0/1 [00:00<?, ?it/s]"
     ]
    },
    {
     "name": "stdout",
     "output_type": "stream",
     "text": [
      "\r",
      "Upgrading database; v7 -> v8:   0%|          | 0/1 [00:00<?, ?it/s]"
     ]
    },
    {
     "name": "stdout",
     "output_type": "stream",
     "text": [
      "\r",
      "Upgrading database; v7 -> v8: 100%|██████████| 1/1 [00:00<00:00, 334.93it/s]"
     ]
    },
    {
     "name": "stdout",
     "output_type": "stream",
     "text": [
      "\n",
      "\r",
      "  0%|          | 0/1 [00:00<?, ?it/s]"
     ]
    },
    {
     "name": "stdout",
     "output_type": "stream",
     "text": [
      "\r",
      "Upgrading database; v8 -> v9:   0%|          | 0/1 [00:00<?, ?it/s]"
     ]
    },
    {
     "name": "stdout",
     "output_type": "stream",
     "text": [
      "\r",
      "Upgrading database; v8 -> v9: 100%|██████████| 1/1 [00:00<00:00, 277.13it/s]"
     ]
    },
    {
     "name": "stdout",
     "output_type": "stream",
     "text": [
      "\n"
     ]
    }
   ],
   "source": [
    "initialise_database()\n",
    "exp = load_or_create_experiment(experiment_name='tutorial_exp', sample_name=\"no sample\")"
   ]
  },
  {
   "cell_type": "markdown",
   "metadata": {},
   "source": [
    "Here, we define a simple function to benchmark the time it takes to insert n points with either numeric or array data type.\n",
    "We will compare both the time used to call ``add_result`` and the time used for the full measurement."
   ]
  },
  {
   "cell_type": "code",
   "execution_count": 4,
   "metadata": {
    "execution": {
     "iopub.execute_input": "2020-10-23T06:14:35.637305Z",
     "iopub.status.busy": "2020-10-23T06:14:35.636002Z",
     "iopub.status.idle": "2020-10-23T06:14:35.640614Z",
     "shell.execute_reply": "2020-10-23T06:14:35.639834Z"
    }
   },
   "outputs": [],
   "source": [
    "def insert_data(paramtype, npoints, nreps=1):\n",
    "\n",
    "    meas = Measurement(exp=exp)\n",
    "\n",
    "    x1 = ManualParameter('x1')\n",
    "    x2 = ManualParameter('x2')\n",
    "    x3 = ManualParameter('x3')\n",
    "    y1 = ManualParameter('y1')\n",
    "    y2 = ManualParameter('y2')\n",
    "\n",
    "    meas.register_parameter(x1, paramtype=paramtype)\n",
    "    meas.register_parameter(x2, paramtype=paramtype)\n",
    "    meas.register_parameter(x3, paramtype=paramtype)\n",
    "    meas.register_parameter(y1, setpoints=[x1, x2, x3],\n",
    "                            paramtype=paramtype)\n",
    "    meas.register_parameter(y2, setpoints=[x1, x2, x3],\n",
    "                            paramtype=paramtype)\n",
    "    start = time.perf_counter()\n",
    "    with meas.run() as datasaver:\n",
    "        start_adding = time.perf_counter()\n",
    "        for i in range(nreps):\n",
    "            datasaver.add_result((x1, np.random.rand(npoints)),\n",
    "                                 (x2, np.random.rand(npoints)),\n",
    "                                 (x3, np.random.rand(npoints)),\n",
    "                                 (y1, np.random.rand(npoints)),\n",
    "                                 (y2, np.random.rand(npoints)))\n",
    "        stop_adding = time.perf_counter()\n",
    "        run_id = datasaver.run_id\n",
    "    stop = time.perf_counter()\n",
    "    tot_time = stop - start\n",
    "    add_time = stop_adding - start_adding\n",
    "    return tot_time, add_time, run_id"
   ]
  },
  {
   "cell_type": "markdown",
   "metadata": {},
   "source": [
    "## Comparison between numeric/array data and binary blob"
   ]
  },
  {
   "cell_type": "markdown",
   "metadata": {},
   "source": [
    "### Case1: Short experiment time"
   ]
  },
  {
   "cell_type": "code",
   "execution_count": 5,
   "metadata": {
    "execution": {
     "iopub.execute_input": "2020-10-23T06:14:35.648831Z",
     "iopub.status.busy": "2020-10-23T06:14:35.647291Z",
     "iopub.status.idle": "2020-10-23T06:14:36.764517Z",
     "shell.execute_reply": "2020-10-23T06:14:36.763941Z"
    }
   },
   "outputs": [
    {
     "name": "stdout",
     "output_type": "stream",
     "text": [
      "Starting experimental run with id: 1. \n",
      "Starting experimental run with id: 2. \n"
     ]
    },
    {
     "name": "stdout",
     "output_type": "stream",
     "text": [
      "Starting experimental run with id: 3. \n"
     ]
    },
    {
     "name": "stdout",
     "output_type": "stream",
     "text": [
      "Starting experimental run with id: 4. \n",
      "Starting experimental run with id: 5. \n"
     ]
    },
    {
     "name": "stdout",
     "output_type": "stream",
     "text": [
      "Starting experimental run with id: 6. \n"
     ]
    },
    {
     "name": "stdout",
     "output_type": "stream",
     "text": [
      "Starting experimental run with id: 7. \n"
     ]
    },
    {
     "name": "stdout",
     "output_type": "stream",
     "text": [
      "Starting experimental run with id: 8. \n",
      "Starting experimental run with id: 9. \n"
     ]
    },
    {
     "name": "stdout",
     "output_type": "stream",
     "text": [
      "Starting experimental run with id: 10. \n",
      "Starting experimental run with id: 11. \n"
     ]
    },
    {
     "name": "stdout",
     "output_type": "stream",
     "text": [
      "Starting experimental run with id: 12. \n",
      "Starting experimental run with id: 13. \n"
     ]
    },
    {
     "name": "stdout",
     "output_type": "stream",
     "text": [
      "Starting experimental run with id: 14. \n"
     ]
    }
   ],
   "source": [
    "sizes = [1,500,1000,2000,3000,4000,5000]\n",
    "t_numeric = []\n",
    "t_numeric_add = []\n",
    "t_array = []\n",
    "t_array_add = []\n",
    "for size in sizes:\n",
    "    tn, tna, run_id_n =  insert_data('numeric', size)\n",
    "    t_numeric.append(tn)\n",
    "    t_numeric_add.append(tna)\n",
    "\n",
    "    ta, taa, run_id_a =  insert_data('array', size)\n",
    "    t_array.append(ta)\n",
    "    t_array_add.append(taa)"
   ]
  },
  {
   "cell_type": "code",
   "execution_count": 6,
   "metadata": {
    "execution": {
     "iopub.execute_input": "2020-10-23T06:14:36.803118Z",
     "iopub.status.busy": "2020-10-23T06:14:36.786759Z",
     "iopub.status.idle": "2020-10-23T06:14:37.056574Z",
     "shell.execute_reply": "2020-10-23T06:14:37.057088Z"
    }
   },
   "outputs": [
    {
     "data": {
      "image/png": "[encoded data removed]",
      "text/plain": [
       "<Figure size 432x288 with 1 Axes>"
      ]
     },
     "metadata": {
      "needs_background": "light"
     },
     "output_type": "display_data"
    }
   ],
   "source": [
    "fig, ax = plt.subplots(1,1)\n",
    "ax.plot(sizes, t_numeric, 'o-', label='Inserting row-by-row')\n",
    "ax.plot(sizes, t_numeric_add, 'o-', label='Inserting row-by-row: add_result only')\n",
    "ax.plot(sizes, t_array, 'd-', label='Inserting as binary blob')\n",
    "ax.plot(sizes, t_array_add, 'd-', label='Inserting as binary blob: add_result only')\n",
    "ax.legend()\n",
    "ax.set_xlabel('Array length')\n",
    "ax.set_ylabel('Time (s)')\n",
    "fig.tight_layout()"
   ]
  },
  {
   "cell_type": "markdown",
   "metadata": {},
   "source": [
    "As shown in the latter figure, the time to setup and and close the experiment is approximately 0.4 sec. In case of small array sizes, the difference between inserting values of data as arrays and inserting them row-by-row is relatively unimportant. At larger array sizes, i.e. above 10000 points, the cost of writing data as individual datapoints starts to become important.\n"
   ]
  },
  {
   "cell_type": "markdown",
   "metadata": {},
   "source": [
    "### Case2: Long experiment time "
   ]
  },
  {
   "cell_type": "code",
   "execution_count": 7,
   "metadata": {
    "execution": {
     "iopub.execute_input": "2020-10-23T06:14:37.065763Z",
     "iopub.status.busy": "2020-10-23T06:14:37.064457Z",
     "iopub.status.idle": "2020-10-23T06:15:45.697725Z",
     "shell.execute_reply": "2020-10-23T06:15:45.698283Z"
    }
   },
   "outputs": [
    {
     "name": "stdout",
     "output_type": "stream",
     "text": [
      "Starting experimental run with id: 15. \n",
      "Starting experimental run with id: 16. \n"
     ]
    },
    {
     "name": "stdout",
     "output_type": "stream",
     "text": [
      "Starting experimental run with id: 17. \n"
     ]
    },
    {
     "name": "stdout",
     "output_type": "stream",
     "text": [
      "Starting experimental run with id: 18. \n"
     ]
    },
    {
     "name": "stdout",
     "output_type": "stream",
     "text": [
      "Starting experimental run with id: 19. \n"
     ]
    },
    {
     "name": "stdout",
     "output_type": "stream",
     "text": [
      "Starting experimental run with id: 20. \n"
     ]
    },
    {
     "name": "stdout",
     "output_type": "stream",
     "text": [
      "Starting experimental run with id: 21. \n"
     ]
    },
    {
     "name": "stdout",
     "output_type": "stream",
     "text": [
      "Starting experimental run with id: 22. \n"
     ]
    },
    {
     "name": "stdout",
     "output_type": "stream",
     "text": [
      "Starting experimental run with id: 23. \n"
     ]
    },
    {
     "name": "stdout",
     "output_type": "stream",
     "text": [
      "Starting experimental run with id: 24. \n"
     ]
    },
    {
     "name": "stdout",
     "output_type": "stream",
     "text": [
      "Starting experimental run with id: 25. \n"
     ]
    },
    {
     "name": "stdout",
     "output_type": "stream",
     "text": [
      "Starting experimental run with id: 26. \n"
     ]
    },
    {
     "name": "stdout",
     "output_type": "stream",
     "text": [
      "Starting experimental run with id: 27. \n"
     ]
    },
    {
     "name": "stdout",
     "output_type": "stream",
     "text": [
      "Starting experimental run with id: 28. \n"
     ]
    }
   ],
   "source": [
    "sizes = [1,500,1000,2000,3000,4000,5000]\n",
    "nreps = 100\n",
    "t_numeric = []\n",
    "t_numeric_add = []\n",
    "t_numeric_run_ids = []\n",
    "t_array = []\n",
    "t_array_add = []\n",
    "t_array_run_ids = []\n",
    "for size in sizes:\n",
    "    tn, tna, run_id_n =  insert_data('numeric', size, nreps=nreps)\n",
    "    t_numeric.append(tn)\n",
    "    t_numeric_add.append(tna)\n",
    "    t_numeric_run_ids.append(run_id_n)\n",
    "\n",
    "    ta, taa, run_id_a =  insert_data('array', size, nreps=nreps)\n",
    "    t_array.append(ta)\n",
    "    t_array_add.append(taa)\n",
    "    t_array_run_ids.append(run_id_a)"
   ]
  },
  {
   "cell_type": "code",
   "execution_count": 8,
   "metadata": {
    "execution": {
     "iopub.execute_input": "2020-10-23T06:15:45.729063Z",
     "iopub.status.busy": "2020-10-23T06:15:45.723186Z",
     "iopub.status.idle": "2020-10-23T06:15:45.968710Z",
     "shell.execute_reply": "2020-10-23T06:15:45.968036Z"
    },
    "scrolled": true
   },
   "outputs": [
    {
     "data": {
      "image/png": "[encoded data removed]",
      "text/plain": [
       "<Figure size 432x288 with 1 Axes>"
      ]
     },
     "metadata": {
      "needs_background": "light"
     },
     "output_type": "display_data"
    }
   ],
   "source": [
    "fig, ax = plt.subplots(1,1)\n",
    "ax.plot(sizes, t_numeric, 'o-', label='Inserting row-by-row')\n",
    "ax.plot(sizes, t_numeric_add, 'o-', label='Inserting row-by-row: add_result only')\n",
    "ax.plot(sizes, t_array, 'd-', label='Inserting as binary blob')\n",
    "ax.plot(sizes, t_array_add, 'd-', label='Inserting as binary blob: add_result only')\n",
    "ax.legend()\n",
    "ax.set_xlabel('Array length')\n",
    "ax.set_ylabel('Time (s)')\n",
    "fig.tight_layout()"
   ]
  },
  {
   "cell_type": "markdown",
   "metadata": {},
   "source": [
    "However, as we increase the length of the experiment, as seen here by repeating the insertion 100 times, we see a big difference between inserting values of the data row-by-row and inserting it as a binary blob."
   ]
  },
  {
   "cell_type": "markdown",
   "metadata": {},
   "source": [
    "## Loading the data "
   ]
  },
  {
   "cell_type": "code",
   "execution_count": 9,
   "metadata": {
    "execution": {
     "iopub.execute_input": "2020-10-23T06:15:45.974195Z",
     "iopub.status.busy": "2020-10-23T06:15:45.973045Z",
     "iopub.status.idle": "2020-10-23T06:15:45.976396Z",
     "shell.execute_reply": "2020-10-23T06:15:45.977028Z"
    }
   },
   "outputs": [],
   "source": [
    "from qcodes.dataset.data_set import load_by_id\n",
    "from qcodes.dataset.data_export import get_data_by_id"
   ]
  },
  {
   "cell_type": "markdown",
   "metadata": {},
   "source": [
    "As usual you can load the data by using the ``load_by_id`` function but you will notice that the different storage methods\n",
    "are reflected in shape of the data as it is retrieved. "
   ]
  },
  {
   "cell_type": "code",
   "execution_count": 10,
   "metadata": {
    "execution": {
     "iopub.execute_input": "2020-10-23T06:15:45.981658Z",
     "iopub.status.busy": "2020-10-23T06:15:45.981013Z",
     "iopub.status.idle": "2020-10-23T06:15:45.983669Z",
     "shell.execute_reply": "2020-10-23T06:15:45.984215Z"
    }
   },
   "outputs": [],
   "source": [
    "run_id_n = t_numeric_run_ids[0]\n",
    "run_id_a = t_array_run_ids[0]"
   ]
  },
  {
   "cell_type": "code",
   "execution_count": 11,
   "metadata": {
    "execution": {
     "iopub.execute_input": "2020-10-23T06:15:45.990778Z",
     "iopub.status.busy": "2020-10-23T06:15:45.990063Z",
     "iopub.status.idle": "2020-10-23T06:15:46.001237Z",
     "shell.execute_reply": "2020-10-23T06:15:46.001953Z"
    },
    "scrolled": true
   },
   "outputs": [
    {
     "data": {
      "text/plain": [
       "{'x1': {'x1': array([0.71126332, 0.71126332, 0.17003733, 0.17003733, 0.09548069,\n",
       "         0.09548069, 0.98927633, 0.98927633, 0.67668908, 0.67668908,\n",
       "         0.29155539, 0.29155539, 0.41026925, 0.41026925, 0.17194811,\n",
       "         0.17194811, 0.26258206, 0.26258206, 0.8566511 , 0.8566511 ,\n",
       "         0.84480007, 0.84480007, 0.93957871, 0.93957871, 0.65529543,\n",
       "         0.65529543, 0.31384491, 0.31384491, 0.69701114, 0.69701114,\n",
       "         0.82085835, 0.82085835, 0.46304154, 0.46304154, 0.91344512,\n",
       "         0.91344512, 0.86889948, 0.86889948, 0.98330296, 0.98330296,\n",
       "         0.37564094, 0.37564094, 0.37686233, 0.37686233, 0.22476084,\n",
       "         0.22476084, 0.42790734, 0.42790734, 0.00246497, 0.00246497,\n",
       "         0.19560885, 0.19560885, 0.40035203, 0.40035203, 0.27045687,\n",
       "         0.27045687, 0.03804229, 0.03804229, 0.6567678 , 0.6567678 ,\n",
       "         0.70393859, 0.70393859, 0.43575999, 0.43575999, 0.40096087,\n",
       "         0.40096087, 0.16366712, 0.16366712, 0.55827025, 0.55827025,\n",
       "         0.61755795, 0.61755795, 0.77675772, 0.77675772, 0.27730353,\n",
       "         0.27730353, 0.58658502, 0.58658502, 0.98565226, 0.98565226,\n",
       "         0.56981347, 0.56981347, 0.96409441, 0.96409441, 0.03339125,\n",
       "         0.03339125, 0.60765143, 0.60765143, 0.47194949, 0.47194949,\n",
       "         0.46891428, 0.46891428, 0.84124065, 0.84124065, 0.88022452,\n",
       "         0.88022452, 0.46434241, 0.46434241, 0.74962564, 0.74962564,\n",
       "         0.13411298, 0.13411298, 0.11225482, 0.11225482, 0.21863573,\n",
       "         0.21863573, 0.53547249, 0.53547249, 0.26435359, 0.26435359,\n",
       "         0.5253529 , 0.5253529 , 0.8280299 , 0.8280299 , 0.76311004,\n",
       "         0.76311004, 0.68901092, 0.68901092, 0.22085405, 0.22085405,\n",
       "         0.58582988, 0.58582988, 0.04232965, 0.04232965, 0.53918632,\n",
       "         0.53918632, 0.76335651, 0.76335651, 0.67447185, 0.67447185,\n",
       "         0.29221549, 0.29221549, 0.76534083, 0.76534083, 0.16040747,\n",
       "         0.16040747, 0.09587558, 0.09587558, 0.5343696 , 0.5343696 ,\n",
       "         0.03567061, 0.03567061, 0.85121681, 0.85121681, 0.69368487,\n",
       "         0.69368487, 0.88567281, 0.88567281, 0.05763239, 0.05763239,\n",
       "         0.30147037, 0.30147037, 0.18129956, 0.18129956, 0.24931336,\n",
       "         0.24931336, 0.85631654, 0.85631654, 0.09430974, 0.09430974,\n",
       "         0.14222257, 0.14222257, 0.41973046, 0.41973046, 0.78957859,\n",
       "         0.78957859, 0.12601765, 0.12601765, 0.07011993, 0.07011993,\n",
       "         0.61890289, 0.61890289, 0.16711058, 0.16711058, 0.37218656,\n",
       "         0.37218656, 0.79722481, 0.79722481, 0.42936726, 0.42936726,\n",
       "         0.26747424, 0.26747424, 0.2661916 , 0.2661916 , 0.57578   ,\n",
       "         0.57578   , 0.8209612 , 0.8209612 , 0.2636485 , 0.2636485 ,\n",
       "         0.47328978, 0.47328978, 0.70572506, 0.70572506, 0.79939594,\n",
       "         0.79939594, 0.63712674, 0.63712674, 0.74853637, 0.74853637])}}"
      ]
     },
     "execution_count": 1,
     "metadata": {},
     "output_type": "execute_result"
    }
   ],
   "source": [
    "ds = load_by_id(run_id_n)\n",
    "ds.get_parameter_data('x1')"
   ]
  },
  {
   "cell_type": "markdown",
   "metadata": {},
   "source": [
    "And a dataset stored as binary arrays"
   ]
  },
  {
   "cell_type": "code",
   "execution_count": 12,
   "metadata": {
    "execution": {
     "iopub.execute_input": "2020-10-23T06:15:46.006170Z",
     "iopub.status.busy": "2020-10-23T06:15:46.005561Z",
     "iopub.status.idle": "2020-10-23T06:15:46.077385Z",
     "shell.execute_reply": "2020-10-23T06:15:46.078052Z"
    },
    "scrolled": true
   },
   "outputs": [
    {
     "data": {
      "text/plain": [
       "{'x1': {'x1': array([[0.26345347],\n",
       "         [0.26345347],\n",
       "         [0.31533743],\n",
       "         [0.31533743],\n",
       "         [0.22886279],\n",
       "         [0.22886279],\n",
       "         [0.13859039],\n",
       "         [0.13859039],\n",
       "         [0.0027421 ],\n",
       "         [0.0027421 ],\n",
       "         [0.92673824],\n",
       "         [0.92673824],\n",
       "         [0.51341834],\n",
       "         [0.51341834],\n",
       "         [0.81875609],\n",
       "         [0.81875609],\n",
       "         [0.20331446],\n",
       "         [0.20331446],\n",
       "         [0.00108627],\n",
       "         [0.00108627],\n",
       "         [0.94184541],\n",
       "         [0.94184541],\n",
       "         [0.87648957],\n",
       "         [0.87648957],\n",
       "         [0.98464638],\n",
       "         [0.98464638],\n",
       "         [0.23659074],\n",
       "         [0.23659074],\n",
       "         [0.54780237],\n",
       "         [0.54780237],\n",
       "         [0.1837509 ],\n",
       "         [0.1837509 ],\n",
       "         [0.68851658],\n",
       "         [0.68851658],\n",
       "         [0.27394366],\n",
       "         [0.27394366],\n",
       "         [0.300446  ],\n",
       "         [0.300446  ],\n",
       "         [0.34982565],\n",
       "         [0.34982565],\n",
       "         [0.60294463],\n",
       "         [0.60294463],\n",
       "         [0.950738  ],\n",
       "         [0.950738  ],\n",
       "         [0.13290681],\n",
       "         [0.13290681],\n",
       "         [0.51855622],\n",
       "         [0.51855622],\n",
       "         [0.42390284],\n",
       "         [0.42390284],\n",
       "         [0.08408847],\n",
       "         [0.08408847],\n",
       "         [0.87590718],\n",
       "         [0.87590718],\n",
       "         [0.77664313],\n",
       "         [0.77664313],\n",
       "         [0.47402021],\n",
       "         [0.47402021],\n",
       "         [0.38187778],\n",
       "         [0.38187778],\n",
       "         [0.64890544],\n",
       "         [0.64890544],\n",
       "         [0.41173226],\n",
       "         [0.41173226],\n",
       "         [0.15348534],\n",
       "         [0.15348534],\n",
       "         [0.91108742],\n",
       "         [0.91108742],\n",
       "         [0.75157248],\n",
       "         [0.75157248],\n",
       "         [0.03922162],\n",
       "         [0.03922162],\n",
       "         [0.26461461],\n",
       "         [0.26461461],\n",
       "         [0.39968837],\n",
       "         [0.39968837],\n",
       "         [0.55732326],\n",
       "         [0.55732326],\n",
       "         [0.60735747],\n",
       "         [0.60735747],\n",
       "         [0.98004335],\n",
       "         [0.98004335],\n",
       "         [0.04044453],\n",
       "         [0.04044453],\n",
       "         [0.14278165],\n",
       "         [0.14278165],\n",
       "         [0.81998508],\n",
       "         [0.81998508],\n",
       "         [0.83258965],\n",
       "         [0.83258965],\n",
       "         [0.71505045],\n",
       "         [0.71505045],\n",
       "         [0.42404316],\n",
       "         [0.42404316],\n",
       "         [0.69125008],\n",
       "         [0.69125008],\n",
       "         [0.96189692],\n",
       "         [0.96189692],\n",
       "         [0.38021866],\n",
       "         [0.38021866],\n",
       "         [0.46190565],\n",
       "         [0.46190565],\n",
       "         [0.28705627],\n",
       "         [0.28705627],\n",
       "         [0.60285816],\n",
       "         [0.60285816],\n",
       "         [0.38287821],\n",
       "         [0.38287821],\n",
       "         [0.15455869],\n",
       "         [0.15455869],\n",
       "         [0.36910333],\n",
       "         [0.36910333],\n",
       "         [0.52780365],\n",
       "         [0.52780365],\n",
       "         [0.87427945],\n",
       "         [0.87427945],\n",
       "         [0.70622181],\n",
       "         [0.70622181],\n",
       "         [0.16082813],\n",
       "         [0.16082813],\n",
       "         [0.57727198],\n",
       "         [0.57727198],\n",
       "         [0.49000148],\n",
       "         [0.49000148],\n",
       "         [0.70688399],\n",
       "         [0.70688399],\n",
       "         [0.48524354],\n",
       "         [0.48524354],\n",
       "         [0.72439781],\n",
       "         [0.72439781],\n",
       "         [0.32788832],\n",
       "         [0.32788832],\n",
       "         [0.64336107],\n",
       "         [0.64336107],\n",
       "         [0.31509489],\n",
       "         [0.31509489],\n",
       "         [0.61652044],\n",
       "         [0.61652044],\n",
       "         [0.49082816],\n",
       "         [0.49082816],\n",
       "         [0.56284682],\n",
       "         [0.56284682],\n",
       "         [0.08568247],\n",
       "         [0.08568247],\n",
       "         [0.54837575],\n",
       "         [0.54837575],\n",
       "         [0.71108028],\n",
       "         [0.71108028],\n",
       "         [0.38550091],\n",
       "         [0.38550091],\n",
       "         [0.8978309 ],\n",
       "         [0.8978309 ],\n",
       "         [0.8417415 ],\n",
       "         [0.8417415 ],\n",
       "         [0.26408074],\n",
       "         [0.26408074],\n",
       "         [0.90900396],\n",
       "         [0.90900396],\n",
       "         [0.24495823],\n",
       "         [0.24495823],\n",
       "         [0.06033087],\n",
       "         [0.06033087],\n",
       "         [0.23208764],\n",
       "         [0.23208764],\n",
       "         [0.55678422],\n",
       "         [0.55678422],\n",
       "         [0.39218605],\n",
       "         [0.39218605],\n",
       "         [0.73522268],\n",
       "         [0.73522268],\n",
       "         [0.49608275],\n",
       "         [0.49608275],\n",
       "         [0.80526042],\n",
       "         [0.80526042],\n",
       "         [0.70788884],\n",
       "         [0.70788884],\n",
       "         [0.12361546],\n",
       "         [0.12361546],\n",
       "         [0.01222296],\n",
       "         [0.01222296],\n",
       "         [0.76789394],\n",
       "         [0.76789394],\n",
       "         [0.23989571],\n",
       "         [0.23989571],\n",
       "         [0.28603769],\n",
       "         [0.28603769],\n",
       "         [0.23051716],\n",
       "         [0.23051716],\n",
       "         [0.32082883],\n",
       "         [0.32082883],\n",
       "         [0.64577293],\n",
       "         [0.64577293],\n",
       "         [0.54349317],\n",
       "         [0.54349317],\n",
       "         [0.70654381],\n",
       "         [0.70654381],\n",
       "         [0.89935095],\n",
       "         [0.89935095],\n",
       "         [0.68890529],\n",
       "         [0.68890529]])}}"
      ]
     },
     "execution_count": 1,
     "metadata": {},
     "output_type": "execute_result"
    }
   ],
   "source": [
    "ds = load_by_id(run_id_a)\n",
    "ds.get_parameter_data('x1')"
   ]
  },
  {
   "cell_type": "code",
   "execution_count": null,
   "metadata": {},
   "outputs": [],
   "source": []
  }
 ],
 "metadata": {
  "kernelspec": {
   "display_name": "Python 3",
   "language": "python",
   "name": "python3"
  },
  "language_info": {
   "codemirror_mode": {
    "name": "ipython",
    "version": 3
   },
   "file_extension": ".py",
   "mimetype": "text/x-python",
   "name": "python",
   "nbconvert_exporter": "python",
   "pygments_lexer": "ipython3",
   "version": "3.7.7"
  },
  "nbsphinx": {
   "timeout": 600
  },
  "toc": {
   "base_numbering": 1,
   "nav_menu": {},
   "number_sections": true,
   "sideBar": true,
   "skip_h1_title": false,
   "title_cell": "Table of Contents",
   "title_sidebar": "Contents",
   "toc_cell": false,
   "toc_position": {},
   "toc_section_display": true,
   "toc_window_display": false
  },
  "varInspector": {
   "cols": {
    "lenName": 16,
    "lenType": 16,
    "lenVar": 40
   },
   "kernels_config": {
    "python": {
     "delete_cmd_postfix": "",
     "delete_cmd_prefix": "del ",
     "library": "var_list.py",
     "varRefreshCmd": "print(var_dic_list())"
    },
    "r": {
     "delete_cmd_postfix": ") ",
     "delete_cmd_prefix": "rm(",
     "library": "var_list.r",
     "varRefreshCmd": "cat(var_dic_list()) "
    }
   },
   "types_to_exclude": [
    "module",
    "function",
    "builtin_function_or_method",
    "instance",
    "_Feature"
   ],
   "window_display": false
  }
 },
 "nbformat": 4,
 "nbformat_minor": 2
}
