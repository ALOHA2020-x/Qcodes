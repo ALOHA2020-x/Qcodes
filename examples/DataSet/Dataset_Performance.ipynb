{
 "cells": [
  {
   "cell_type": "markdown",
   "metadata": {},
   "source": [
    "# DataSet Performance\n",
    "\n",
    "This notebook shows the trade-off between inserting data into a database row-by-row and as binary blobs. Inserting the data row-by-row means that we have direct access to all the data and may perform queries directly on the values of the data. On the other hand, as we shall see, this is much slower than inserting the data directly as binary blobs."
   ]
  },
  {
   "cell_type": "markdown",
   "metadata": {},
   "source": [
    "First, we choose a new location for the database to ensure that we don't add a bunch of benchmarking data to the default one."
   ]
  },
  {
   "cell_type": "code",
   "execution_count": 1,
   "metadata": {},
   "outputs": [
    {
     "name": "stdout",
     "output_type": "stream",
     "text": [
      "Logging hadn't been started.\n",
      "Activating auto-logging. Current session state plus future input saved.\n",
      "Filename       : /home/vsts/.qcodes/logs/command_history.log\n",
      "Mode           : append\n",
      "Output logging : True\n",
      "Raw input log  : False\n",
      "Timestamping   : True\n",
      "State          : active\n"
     ]
    },
    {
     "name": "stdout",
     "output_type": "stream",
     "text": [
      "Qcodes Logfile : /home/vsts/.qcodes/logs/200526-19251-qcodes.log\n"
     ]
    }
   ],
   "source": [
    "import os\n",
    "cwd = os.getcwd()\n",
    "import qcodes as qc\n",
    "qc.config[\"core\"][\"db_location\"] = os.path.join(cwd, 'testing.db')\n"
   ]
  },
  {
   "cell_type": "code",
   "execution_count": 2,
   "metadata": {},
   "outputs": [],
   "source": [
    "%matplotlib inline\n",
    "import time\n",
    "import matplotlib.pyplot as plt\n",
    "import numpy as np\n",
    "\n",
    "import qcodes as qc\n",
    "from qcodes.instrument.parameter import ManualParameter\n",
    "from qcodes.dataset.experiment_container import (Experiment,\n",
    "                                                 load_last_experiment,\n",
    "                                                 new_experiment)\n",
    "from qcodes.dataset.sqlite.database import initialise_database\n",
    "from qcodes import load_or_create_experiment\n",
    "from qcodes.dataset.measurements import Measurement"
   ]
  },
  {
   "cell_type": "code",
   "execution_count": 3,
   "metadata": {},
   "outputs": [
    {
     "name": "stdout",
     "output_type": "stream",
     "text": [
      "\r",
      "0it [00:00, ?it/s]"
     ]
    },
    {
     "name": "stdout",
     "output_type": "stream",
     "text": [
      "\r",
      "Upgrading database; v0 -> v1: : 0it [00:00, ?it/s]"
     ]
    },
    {
     "name": "stdout",
     "output_type": "stream",
     "text": [
      "\r",
      "Upgrading database; v0 -> v1: : 0it [00:00, ?it/s]"
     ]
    },
    {
     "name": "stdout",
     "output_type": "stream",
     "text": [
      "\n",
      "\r",
      "  0%|          | 0/1 [00:00<?, ?it/s]"
     ]
    },
    {
     "name": "stdout",
     "output_type": "stream",
     "text": [
      "\r",
      "Upgrading database; v1 -> v2:   0%|          | 0/1 [00:00<?, ?it/s]"
     ]
    },
    {
     "name": "stdout",
     "output_type": "stream",
     "text": [
      "\r",
      "Upgrading database; v1 -> v2: 100%|██████████| 1/1 [00:00<00:00, 813.80it/s]"
     ]
    },
    {
     "name": "stdout",
     "output_type": "stream",
     "text": [
      "\n",
      "\r",
      "0it [00:00, ?it/s]"
     ]
    },
    {
     "name": "stdout",
     "output_type": "stream",
     "text": [
      "\r",
      "Upgrading database; v2 -> v3: : 0it [00:00, ?it/s]"
     ]
    },
    {
     "name": "stdout",
     "output_type": "stream",
     "text": [
      "\r",
      "Upgrading database; v2 -> v3: : 0it [00:00, ?it/s]"
     ]
    },
    {
     "name": "stdout",
     "output_type": "stream",
     "text": [
      "\n",
      "\r",
      "0it [00:00, ?it/s]"
     ]
    },
    {
     "name": "stdout",
     "output_type": "stream",
     "text": [
      "\r",
      "Upgrading database; v3 -> v4: : 0it [00:00, ?it/s]"
     ]
    },
    {
     "name": "stdout",
     "output_type": "stream",
     "text": [
      "\r",
      "Upgrading database; v3 -> v4: : 0it [00:00, ?it/s]"
     ]
    },
    {
     "name": "stdout",
     "output_type": "stream",
     "text": [
      "\n",
      "\r",
      "  0%|          | 0/1 [00:00<?, ?it/s]"
     ]
    },
    {
     "name": "stdout",
     "output_type": "stream",
     "text": [
      "\r",
      "Upgrading database; v4 -> v5:   0%|          | 0/1 [00:00<?, ?it/s]"
     ]
    },
    {
     "name": "stdout",
     "output_type": "stream",
     "text": [
      "\r",
      "Upgrading database; v4 -> v5: 100%|██████████| 1/1 [00:00<00:00, 659.17it/s]"
     ]
    },
    {
     "name": "stdout",
     "output_type": "stream",
     "text": [
      "\n",
      "\r",
      "0it [00:00, ?it/s]"
     ]
    },
    {
     "name": "stdout",
     "output_type": "stream",
     "text": [
      "\r",
      "Upgrading database; v5 -> v6: : 0it [00:00, ?it/s]"
     ]
    },
    {
     "name": "stdout",
     "output_type": "stream",
     "text": [
      "\r",
      "Upgrading database; v5 -> v6: : 0it [00:00, ?it/s]"
     ]
    },
    {
     "name": "stdout",
     "output_type": "stream",
     "text": [
      "\n",
      "\r",
      "  0%|          | 0/1 [00:00<?, ?it/s]"
     ]
    },
    {
     "name": "stdout",
     "output_type": "stream",
     "text": [
      "\r",
      "Upgrading database; v6 -> v7:   0%|          | 0/1 [00:00<?, ?it/s]"
     ]
    },
    {
     "name": "stdout",
     "output_type": "stream",
     "text": [
      "\r",
      "Upgrading database; v6 -> v7: 100%|██████████| 1/1 [00:00<00:00, 305.22it/s]"
     ]
    },
    {
     "name": "stdout",
     "output_type": "stream",
     "text": [
      "\n",
      "\r",
      "  0%|          | 0/1 [00:00<?, ?it/s]"
     ]
    },
    {
     "name": "stdout",
     "output_type": "stream",
     "text": [
      "\r",
      "Upgrading database; v7 -> v8:   0%|          | 0/1 [00:00<?, ?it/s]"
     ]
    },
    {
     "name": "stdout",
     "output_type": "stream",
     "text": [
      "\r",
      "Upgrading database; v7 -> v8: 100%|██████████| 1/1 [00:00<00:00, 680.23it/s]"
     ]
    },
    {
     "name": "stdout",
     "output_type": "stream",
     "text": [
      "\n",
      "\r",
      "  0%|          | 0/1 [00:00<?, ?it/s]"
     ]
    },
    {
     "name": "stdout",
     "output_type": "stream",
     "text": [
      "\r",
      "Upgrading database; v8 -> v9:   0%|          | 0/1 [00:00<?, ?it/s]"
     ]
    },
    {
     "name": "stdout",
     "output_type": "stream",
     "text": [
      "\r",
      "Upgrading database; v8 -> v9: 100%|██████████| 1/1 [00:00<00:00, 746.85it/s]"
     ]
    },
    {
     "name": "stdout",
     "output_type": "stream",
     "text": [
      "\n"
     ]
    }
   ],
   "source": [
    "initialise_database()\n",
    "exp = load_or_create_experiment(experiment_name='tutorial_exp', sample_name=\"no sample\")"
   ]
  },
  {
   "cell_type": "markdown",
   "metadata": {},
   "source": [
    "Here, we define a simple function to benchmark the time it takes to insert n points with either numeric or array data type.\n",
    "We will compare both the time used to call ``add_result`` and the time used for the full measurement."
   ]
  },
  {
   "cell_type": "code",
   "execution_count": 4,
   "metadata": {},
   "outputs": [],
   "source": [
    "def insert_data(paramtype, npoints, nreps=1):\n",
    "\n",
    "    meas = Measurement(exp=exp)\n",
    "\n",
    "    x1 = ManualParameter('x1')\n",
    "    x2 = ManualParameter('x2')\n",
    "    x3 = ManualParameter('x3')\n",
    "    y1 = ManualParameter('y1')\n",
    "    y2 = ManualParameter('y2')\n",
    "\n",
    "    meas.register_parameter(x1, paramtype=paramtype)\n",
    "    meas.register_parameter(x2, paramtype=paramtype)\n",
    "    meas.register_parameter(x3, paramtype=paramtype)\n",
    "    meas.register_parameter(y1, setpoints=[x1, x2, x3],\n",
    "                            paramtype=paramtype)\n",
    "    meas.register_parameter(y2, setpoints=[x1, x2, x3],\n",
    "                            paramtype=paramtype)\n",
    "    start = time.perf_counter()\n",
    "    with meas.run() as datasaver:\n",
    "        start_adding = time.perf_counter()\n",
    "        for i in range(nreps):\n",
    "            datasaver.add_result((x1, np.random.rand(npoints)),\n",
    "                                 (x2, np.random.rand(npoints)),\n",
    "                                 (x3, np.random.rand(npoints)),\n",
    "                                 (y1, np.random.rand(npoints)),\n",
    "                                 (y2, np.random.rand(npoints)))\n",
    "        stop_adding = time.perf_counter()\n",
    "        run_id = datasaver.run_id\n",
    "    stop = time.perf_counter()\n",
    "    tot_time = stop - start\n",
    "    add_time = stop_adding - start_adding\n",
    "    return tot_time, add_time, run_id"
   ]
  },
  {
   "cell_type": "markdown",
   "metadata": {},
   "source": [
    "## Comparison between numeric/array data and binary blob"
   ]
  },
  {
   "cell_type": "markdown",
   "metadata": {},
   "source": [
    "### Case1: Short experiment time"
   ]
  },
  {
   "cell_type": "code",
   "execution_count": 5,
   "metadata": {},
   "outputs": [
    {
     "name": "stdout",
     "output_type": "stream",
     "text": [
      "Starting experimental run with id: 1. \n",
      "Starting experimental run with id: 2. \n",
      "Starting experimental run with id: 3. \n"
     ]
    },
    {
     "name": "stdout",
     "output_type": "stream",
     "text": [
      "Starting experimental run with id: 4. \n"
     ]
    },
    {
     "name": "stdout",
     "output_type": "stream",
     "text": [
      "Starting experimental run with id: 5. \n",
      "Starting experimental run with id: 6. \n"
     ]
    },
    {
     "name": "stdout",
     "output_type": "stream",
     "text": [
      "Starting experimental run with id: 7. \n"
     ]
    },
    {
     "name": "stdout",
     "output_type": "stream",
     "text": [
      "Starting experimental run with id: 8. \n"
     ]
    },
    {
     "name": "stdout",
     "output_type": "stream",
     "text": [
      "Starting experimental run with id: 9. \n"
     ]
    },
    {
     "name": "stdout",
     "output_type": "stream",
     "text": [
      "Starting experimental run with id: 10. \n"
     ]
    },
    {
     "name": "stdout",
     "output_type": "stream",
     "text": [
      "Starting experimental run with id: 11. \n"
     ]
    },
    {
     "name": "stdout",
     "output_type": "stream",
     "text": [
      "Starting experimental run with id: 12. \n"
     ]
    },
    {
     "name": "stdout",
     "output_type": "stream",
     "text": [
      "Starting experimental run with id: 13. \n"
     ]
    },
    {
     "name": "stdout",
     "output_type": "stream",
     "text": [
      "Starting experimental run with id: 14. \n"
     ]
    }
   ],
   "source": [
    "sizes = [1,500,1000,2000,3000,4000,5000]\n",
    "t_numeric = []\n",
    "t_numeric_add = []\n",
    "t_array = []\n",
    "t_array_add = []\n",
    "for size in sizes:\n",
    "    tn, tna, run_id_n =  insert_data('numeric', size)\n",
    "    t_numeric.append(tn)\n",
    "    t_numeric_add.append(tna)\n",
    "\n",
    "    ta, taa, run_id_a =  insert_data('array', size)\n",
    "    t_array.append(ta)\n",
    "    t_array_add.append(taa)"
   ]
  },
  {
   "cell_type": "code",
   "execution_count": 6,
   "metadata": {},
   "outputs": [
    {
     "data": {
      "image/png": "[encoded data removed]",
      "text/plain": [
       "<Figure size 432x288 with 1 Axes>"
      ]
     },
     "metadata": {
      "needs_background": "light"
     },
     "output_type": "display_data"
    }
   ],
   "source": [
    "fig, ax = plt.subplots(1,1)\n",
    "ax.plot(sizes, t_numeric, 'o-', label='Inserting row-by-row')\n",
    "ax.plot(sizes, t_numeric_add, 'o-', label='Inserting row-by-row: add_result only')\n",
    "ax.plot(sizes, t_array, 'd-', label='Inserting as binary blob')\n",
    "ax.plot(sizes, t_array_add, 'd-', label='Inserting as binary blob: add_result only')\n",
    "ax.legend()\n",
    "ax.set_xlabel('Array length')\n",
    "ax.set_ylabel('Time (s)')\n",
    "fig.tight_layout()"
   ]
  },
  {
   "cell_type": "markdown",
   "metadata": {},
   "source": [
    "As shown in the latter figure, the time to setup and and close the experiment is approximately 0.4 sec. In case of small array sizes, the difference between inserting values of data as arrays and inserting them row-by-row is relatively unimportant. At larger array sizes, i.e. above 10000 points, the cost of writing data as individual datapoints starts to become important.\n"
   ]
  },
  {
   "cell_type": "markdown",
   "metadata": {},
   "source": [
    "### Case2: Long experiment time "
   ]
  },
  {
   "cell_type": "code",
   "execution_count": 7,
   "metadata": {},
   "outputs": [
    {
     "name": "stdout",
     "output_type": "stream",
     "text": [
      "Starting experimental run with id: 15. \n",
      "Starting experimental run with id: 16. \n",
      "Starting experimental run with id: 17. \n"
     ]
    },
    {
     "name": "stdout",
     "output_type": "stream",
     "text": [
      "Starting experimental run with id: 18. \n",
      "Starting experimental run with id: 19. \n"
     ]
    },
    {
     "name": "stdout",
     "output_type": "stream",
     "text": [
      "Starting experimental run with id: 20. \n"
     ]
    },
    {
     "name": "stdout",
     "output_type": "stream",
     "text": [
      "Starting experimental run with id: 21. \n"
     ]
    },
    {
     "name": "stdout",
     "output_type": "stream",
     "text": [
      "Starting experimental run with id: 22. \n"
     ]
    },
    {
     "name": "stdout",
     "output_type": "stream",
     "text": [
      "Starting experimental run with id: 23. \n"
     ]
    },
    {
     "name": "stdout",
     "output_type": "stream",
     "text": [
      "Starting experimental run with id: 24. \n"
     ]
    },
    {
     "name": "stdout",
     "output_type": "stream",
     "text": [
      "Starting experimental run with id: 25. \n"
     ]
    },
    {
     "name": "stdout",
     "output_type": "stream",
     "text": [
      "Starting experimental run with id: 26. \n"
     ]
    },
    {
     "name": "stdout",
     "output_type": "stream",
     "text": [
      "Starting experimental run with id: 27. \n"
     ]
    },
    {
     "name": "stdout",
     "output_type": "stream",
     "text": [
      "Starting experimental run with id: 28. \n"
     ]
    }
   ],
   "source": [
    "sizes = [1,500,1000,2000,3000,4000,5000]\n",
    "nreps = 100\n",
    "t_numeric = []\n",
    "t_numeric_add = []\n",
    "t_numeric_run_ids = []\n",
    "t_array = []\n",
    "t_array_add = []\n",
    "t_array_run_ids = []\n",
    "for size in sizes:\n",
    "    tn, tna, run_id_n =  insert_data('numeric', size, nreps=nreps)\n",
    "    t_numeric.append(tn)\n",
    "    t_numeric_add.append(tna)\n",
    "    t_numeric_run_ids.append(run_id_n)\n",
    "\n",
    "    ta, taa, run_id_a =  insert_data('array', size, nreps=nreps)\n",
    "    t_array.append(ta)\n",
    "    t_array_add.append(taa)\n",
    "    t_array_run_ids.append(run_id_a)"
   ]
  },
  {
   "cell_type": "code",
   "execution_count": 8,
   "metadata": {
    "scrolled": true
   },
   "outputs": [
    {
     "data": {
      "image/png": "[encoded data removed]",
      "text/plain": [
       "<Figure size 432x288 with 1 Axes>"
      ]
     },
     "metadata": {
      "needs_background": "light"
     },
     "output_type": "display_data"
    }
   ],
   "source": [
    "fig, ax = plt.subplots(1,1)\n",
    "ax.plot(sizes, t_numeric, 'o-', label='Inserting row-by-row')\n",
    "ax.plot(sizes, t_numeric_add, 'o-', label='Inserting row-by-row: add_result only')\n",
    "ax.plot(sizes, t_array, 'd-', label='Inserting as binary blob')\n",
    "ax.plot(sizes, t_array_add, 'd-', label='Inserting as binary blob: add_result only')\n",
    "ax.legend()\n",
    "ax.set_xlabel('Array length')\n",
    "ax.set_ylabel('Time (s)')\n",
    "fig.tight_layout()"
   ]
  },
  {
   "cell_type": "markdown",
   "metadata": {},
   "source": [
    "However, as we increase the length of the experiment, as seen here by repeating the insertion 100 times, we see a big difference between inserting values of the data row-by-row and inserting it as a binary blob."
   ]
  },
  {
   "cell_type": "markdown",
   "metadata": {},
   "source": [
    "## Loading the data "
   ]
  },
  {
   "cell_type": "code",
   "execution_count": 9,
   "metadata": {},
   "outputs": [],
   "source": [
    "from qcodes.dataset.data_set import load_by_id\n",
    "from qcodes.dataset.data_export import get_data_by_id"
   ]
  },
  {
   "cell_type": "markdown",
   "metadata": {},
   "source": [
    "As usual you can load the data by using the ``load_by_id`` function but you will notice that the different storage methods\n",
    "are reflected in shape of the data as it is retrieved. "
   ]
  },
  {
   "cell_type": "code",
   "execution_count": 10,
   "metadata": {},
   "outputs": [],
   "source": [
    "run_id_n = t_numeric_run_ids[0]\n",
    "run_id_a = t_array_run_ids[0]"
   ]
  },
  {
   "cell_type": "code",
   "execution_count": 11,
   "metadata": {
    "scrolled": true
   },
   "outputs": [
    {
     "data": {
      "text/plain": [
       "{'x1': {'x1': array([0.38477012, 0.38477012, 0.0741084 , 0.0741084 , 0.0813246 ,\n",
       "         0.0813246 , 0.09137607, 0.09137607, 0.27316405, 0.27316405,\n",
       "         0.49949673, 0.49949673, 0.42205066, 0.42205066, 0.21187116,\n",
       "         0.21187116, 0.38194598, 0.38194598, 0.30123833, 0.30123833,\n",
       "         0.14625576, 0.14625576, 0.46205452, 0.46205452, 0.65379175,\n",
       "         0.65379175, 0.31380067, 0.31380067, 0.78492884, 0.78492884,\n",
       "         0.47296602, 0.47296602, 0.64646413, 0.64646413, 0.46238214,\n",
       "         0.46238214, 0.30120729, 0.30120729, 0.36655676, 0.36655676,\n",
       "         0.20332727, 0.20332727, 0.34125814, 0.34125814, 0.2543263 ,\n",
       "         0.2543263 , 0.46862585, 0.46862585, 0.86518487, 0.86518487,\n",
       "         0.08492825, 0.08492825, 0.68711642, 0.68711642, 0.85150672,\n",
       "         0.85150672, 0.92216252, 0.92216252, 0.41451147, 0.41451147,\n",
       "         0.94896873, 0.94896873, 0.54435306, 0.54435306, 0.39289167,\n",
       "         0.39289167, 0.46570929, 0.46570929, 0.83586358, 0.83586358,\n",
       "         0.45847886, 0.45847886, 0.10289735, 0.10289735, 0.89984626,\n",
       "         0.89984626, 0.32947885, 0.32947885, 0.13802561, 0.13802561,\n",
       "         0.11198297, 0.11198297, 0.03131402, 0.03131402, 0.53478314,\n",
       "         0.53478314, 0.6004303 , 0.6004303 , 0.38161941, 0.38161941,\n",
       "         0.24021029, 0.24021029, 0.91384543, 0.91384543, 0.37875977,\n",
       "         0.37875977, 0.62883251, 0.62883251, 0.14968764, 0.14968764,\n",
       "         0.28412535, 0.28412535, 0.17122246, 0.17122246, 0.90914231,\n",
       "         0.90914231, 0.64863114, 0.64863114, 0.13483422, 0.13483422,\n",
       "         0.27494963, 0.27494963, 0.29231599, 0.29231599, 0.94108623,\n",
       "         0.94108623, 0.11156792, 0.11156792, 0.72056622, 0.72056622,\n",
       "         0.52489474, 0.52489474, 0.80950842, 0.80950842, 0.22196387,\n",
       "         0.22196387, 0.99520428, 0.99520428, 0.63676557, 0.63676557,\n",
       "         0.08541798, 0.08541798, 0.49760291, 0.49760291, 0.37884809,\n",
       "         0.37884809, 0.62329291, 0.62329291, 0.23664893, 0.23664893,\n",
       "         0.32804077, 0.32804077, 0.61458836, 0.61458836, 0.72002198,\n",
       "         0.72002198, 0.73148107, 0.73148107, 0.42847668, 0.42847668,\n",
       "         0.88507188, 0.88507188, 0.53083787, 0.53083787, 0.67070659,\n",
       "         0.67070659, 0.58942069, 0.58942069, 0.49446303, 0.49446303,\n",
       "         0.06506374, 0.06506374, 0.56617433, 0.56617433, 0.10734368,\n",
       "         0.10734368, 0.2236023 , 0.2236023 , 0.32126416, 0.32126416,\n",
       "         0.64011497, 0.64011497, 0.59741474, 0.59741474, 0.43937836,\n",
       "         0.43937836, 0.93937057, 0.93937057, 0.40809618, 0.40809618,\n",
       "         0.14097853, 0.14097853, 0.22043724, 0.22043724, 0.91150657,\n",
       "         0.91150657, 0.1502857 , 0.1502857 , 0.66418833, 0.66418833,\n",
       "         0.26491618, 0.26491618, 0.21453544, 0.21453544, 0.16636463,\n",
       "         0.16636463, 0.40748854, 0.40748854, 0.2387058 , 0.2387058 ])}}"
      ]
     },
     "execution_count": 11,
     "metadata": {},
     "output_type": "execute_result"
    }
   ],
   "source": [
    "ds = load_by_id(run_id_n)\n",
    "ds.get_parameter_data('x1')"
   ]
  },
  {
   "cell_type": "markdown",
   "metadata": {},
   "source": [
    "And a dataset stored as binary arrays"
   ]
  },
  {
   "cell_type": "code",
   "execution_count": 12,
   "metadata": {
    "scrolled": true
   },
   "outputs": [
    {
     "data": {
      "text/plain": [
       "{'x1': {'x1': array([[0.01480842],\n",
       "         [0.01480842],\n",
       "         [0.26387761],\n",
       "         [0.26387761],\n",
       "         [0.16208877],\n",
       "         [0.16208877],\n",
       "         [0.85525691],\n",
       "         [0.85525691],\n",
       "         [0.20024747],\n",
       "         [0.20024747],\n",
       "         [0.53196765],\n",
       "         [0.53196765],\n",
       "         [0.50976224],\n",
       "         [0.50976224],\n",
       "         [0.6480329 ],\n",
       "         [0.6480329 ],\n",
       "         [0.18878047],\n",
       "         [0.18878047],\n",
       "         [0.19316408],\n",
       "         [0.19316408],\n",
       "         [0.97663386],\n",
       "         [0.97663386],\n",
       "         [0.16041608],\n",
       "         [0.16041608],\n",
       "         [0.78314539],\n",
       "         [0.78314539],\n",
       "         [0.78220888],\n",
       "         [0.78220888],\n",
       "         [0.17557052],\n",
       "         [0.17557052],\n",
       "         [0.54215363],\n",
       "         [0.54215363],\n",
       "         [0.22635713],\n",
       "         [0.22635713],\n",
       "         [0.73186976],\n",
       "         [0.73186976],\n",
       "         [0.32718072],\n",
       "         [0.32718072],\n",
       "         [0.94014186],\n",
       "         [0.94014186],\n",
       "         [0.55147221],\n",
       "         [0.55147221],\n",
       "         [0.3223168 ],\n",
       "         [0.3223168 ],\n",
       "         [0.2350737 ],\n",
       "         [0.2350737 ],\n",
       "         [0.79918931],\n",
       "         [0.79918931],\n",
       "         [0.39898912],\n",
       "         [0.39898912],\n",
       "         [0.15478259],\n",
       "         [0.15478259],\n",
       "         [0.05785341],\n",
       "         [0.05785341],\n",
       "         [0.5361693 ],\n",
       "         [0.5361693 ],\n",
       "         [0.33935189],\n",
       "         [0.33935189],\n",
       "         [0.53350481],\n",
       "         [0.53350481],\n",
       "         [0.73223153],\n",
       "         [0.73223153],\n",
       "         [0.68714793],\n",
       "         [0.68714793],\n",
       "         [0.87449588],\n",
       "         [0.87449588],\n",
       "         [0.55323732],\n",
       "         [0.55323732],\n",
       "         [0.44881914],\n",
       "         [0.44881914],\n",
       "         [0.01555343],\n",
       "         [0.01555343],\n",
       "         [0.50221225],\n",
       "         [0.50221225],\n",
       "         [0.6268566 ],\n",
       "         [0.6268566 ],\n",
       "         [0.35136559],\n",
       "         [0.35136559],\n",
       "         [0.38335652],\n",
       "         [0.38335652],\n",
       "         [0.1715814 ],\n",
       "         [0.1715814 ],\n",
       "         [0.03536551],\n",
       "         [0.03536551],\n",
       "         [0.43228127],\n",
       "         [0.43228127],\n",
       "         [0.72523818],\n",
       "         [0.72523818],\n",
       "         [0.89927236],\n",
       "         [0.89927236],\n",
       "         [0.39030342],\n",
       "         [0.39030342],\n",
       "         [0.65871471],\n",
       "         [0.65871471],\n",
       "         [0.79917746],\n",
       "         [0.79917746],\n",
       "         [0.8052376 ],\n",
       "         [0.8052376 ],\n",
       "         [0.43510738],\n",
       "         [0.43510738],\n",
       "         [0.65713057],\n",
       "         [0.65713057],\n",
       "         [0.88624804],\n",
       "         [0.88624804],\n",
       "         [0.78793662],\n",
       "         [0.78793662],\n",
       "         [0.13901782],\n",
       "         [0.13901782],\n",
       "         [0.04768555],\n",
       "         [0.04768555],\n",
       "         [0.4404593 ],\n",
       "         [0.4404593 ],\n",
       "         [0.65357892],\n",
       "         [0.65357892],\n",
       "         [0.79623538],\n",
       "         [0.79623538],\n",
       "         [0.14820824],\n",
       "         [0.14820824],\n",
       "         [0.48357778],\n",
       "         [0.48357778],\n",
       "         [0.93398384],\n",
       "         [0.93398384],\n",
       "         [0.65639656],\n",
       "         [0.65639656],\n",
       "         [0.87302939],\n",
       "         [0.87302939],\n",
       "         [0.42550581],\n",
       "         [0.42550581],\n",
       "         [0.50515352],\n",
       "         [0.50515352],\n",
       "         [0.86458651],\n",
       "         [0.86458651],\n",
       "         [0.19883156],\n",
       "         [0.19883156],\n",
       "         [0.57739757],\n",
       "         [0.57739757],\n",
       "         [0.89028186],\n",
       "         [0.89028186],\n",
       "         [0.44307653],\n",
       "         [0.44307653],\n",
       "         [0.13069126],\n",
       "         [0.13069126],\n",
       "         [0.43068151],\n",
       "         [0.43068151],\n",
       "         [0.29015028],\n",
       "         [0.29015028],\n",
       "         [0.79628192],\n",
       "         [0.79628192],\n",
       "         [0.99906059],\n",
       "         [0.99906059],\n",
       "         [0.69504512],\n",
       "         [0.69504512],\n",
       "         [0.19000056],\n",
       "         [0.19000056],\n",
       "         [0.69377846],\n",
       "         [0.69377846],\n",
       "         [0.94738516],\n",
       "         [0.94738516],\n",
       "         [0.14660692],\n",
       "         [0.14660692],\n",
       "         [0.12499751],\n",
       "         [0.12499751],\n",
       "         [0.41293354],\n",
       "         [0.41293354],\n",
       "         [0.08472624],\n",
       "         [0.08472624],\n",
       "         [0.76062062],\n",
       "         [0.76062062],\n",
       "         [0.25387684],\n",
       "         [0.25387684],\n",
       "         [0.13928061],\n",
       "         [0.13928061],\n",
       "         [0.22443488],\n",
       "         [0.22443488],\n",
       "         [0.75580418],\n",
       "         [0.75580418],\n",
       "         [0.81148003],\n",
       "         [0.81148003],\n",
       "         [0.24942083],\n",
       "         [0.24942083],\n",
       "         [0.55620899],\n",
       "         [0.55620899],\n",
       "         [0.73990996],\n",
       "         [0.73990996],\n",
       "         [0.82858904],\n",
       "         [0.82858904],\n",
       "         [0.1360463 ],\n",
       "         [0.1360463 ],\n",
       "         [0.27937689],\n",
       "         [0.27937689],\n",
       "         [0.34398426],\n",
       "         [0.34398426],\n",
       "         [0.1278505 ],\n",
       "         [0.1278505 ],\n",
       "         [0.58741008],\n",
       "         [0.58741008],\n",
       "         [0.09618777],\n",
       "         [0.09618777],\n",
       "         [0.94751861],\n",
       "         [0.94751861]])}}"
      ]
     },
     "execution_count": 12,
     "metadata": {},
     "output_type": "execute_result"
    }
   ],
   "source": [
    "ds = load_by_id(run_id_a)\n",
    "ds.get_parameter_data('x1')"
   ]
  },
  {
   "cell_type": "code",
   "execution_count": null,
   "metadata": {},
   "outputs": [],
   "source": []
  }
 ],
 "metadata": {
  "kernelspec": {
   "display_name": "Python 3",
   "language": "python",
   "name": "python3"
  },
  "language_info": {
   "codemirror_mode": {
    "name": "ipython",
    "version": 3
   },
   "file_extension": ".py",
   "mimetype": "text/x-python",
   "name": "python",
   "nbconvert_exporter": "python",
   "pygments_lexer": "ipython3",
   "version": "3.7.7"
  },
  "nbsphinx": {
   "timeout": 600
  },
  "toc": {
   "base_numbering": 1,
   "nav_menu": {},
   "number_sections": true,
   "sideBar": true,
   "skip_h1_title": false,
   "title_cell": "Table of Contents",
   "title_sidebar": "Contents",
   "toc_cell": false,
   "toc_position": {},
   "toc_section_display": true,
   "toc_window_display": false
  },
  "varInspector": {
   "cols": {
    "lenName": 16,
    "lenType": 16,
    "lenVar": 40
   },
   "kernels_config": {
    "python": {
     "delete_cmd_postfix": "",
     "delete_cmd_prefix": "del ",
     "library": "var_list.py",
     "varRefreshCmd": "print(var_dic_list())"
    },
    "r": {
     "delete_cmd_postfix": ") ",
     "delete_cmd_prefix": "rm(",
     "library": "var_list.r",
     "varRefreshCmd": "cat(var_dic_list()) "
    }
   },
   "types_to_exclude": [
    "module",
    "function",
    "builtin_function_or_method",
    "instance",
    "_Feature"
   ],
   "window_display": false
  }
 },
 "nbformat": 4,
 "nbformat_minor": 2
}
