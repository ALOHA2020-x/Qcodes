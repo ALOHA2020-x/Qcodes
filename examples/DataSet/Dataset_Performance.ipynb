{
 "cells": [
  {
   "cell_type": "markdown",
   "metadata": {},
   "source": [
    "# DataSet Performance\n",
    "\n",
    "This notebook shows the trade-off between inserting data into a database row-by-row and as binary blobs. Inserting the data row-by-row means that we have direct access to all the data and may perform queries directly on the values of the data. On the other hand, as we shall see, this is much slower than inserting the data directly as binary blobs."
   ]
  },
  {
   "cell_type": "markdown",
   "metadata": {},
   "source": [
    "First, we choose a new location for the database to ensure that we don't add a bunch of benchmarking data to the default one."
   ]
  },
  {
   "cell_type": "code",
   "execution_count": 1,
   "metadata": {
    "execution": {
     "iopub.execute_input": "2020-11-05T13:15:17.619930Z",
     "iopub.status.busy": "2020-11-05T13:15:17.619445Z",
     "iopub.status.idle": "2020-11-05T13:15:18.519769Z",
     "shell.execute_reply": "2020-11-05T13:15:18.520233Z"
    }
   },
   "outputs": [
    {
     "name": "stdout",
     "output_type": "stream",
     "text": [
      "Logging hadn't been started.\n",
      "Activating auto-logging. Current session state plus future input saved.\n",
      "Filename       : /home/vsts/.qcodes/logs/command_history.log\n",
      "Mode           : append\n",
      "Output logging : True\n",
      "Raw input log  : False\n",
      "Timestamping   : True\n",
      "State          : active\n"
     ]
    },
    {
     "name": "stdout",
     "output_type": "stream",
     "text": [
      "Qcodes Logfile : /home/vsts/.qcodes/logs/201105-14575-qcodes.log\n"
     ]
    }
   ],
   "source": [
    "import os\n",
    "cwd = os.getcwd()\n",
    "import qcodes as qc\n",
    "qc.config[\"core\"][\"db_location\"] = os.path.join(cwd, 'testing.db')\n"
   ]
  },
  {
   "cell_type": "code",
   "execution_count": 2,
   "metadata": {
    "execution": {
     "iopub.execute_input": "2020-11-05T13:15:18.526882Z",
     "iopub.status.busy": "2020-11-05T13:15:18.525533Z",
     "iopub.status.idle": "2020-11-05T13:15:18.687826Z",
     "shell.execute_reply": "2020-11-05T13:15:18.687281Z"
    }
   },
   "outputs": [],
   "source": [
    "%matplotlib inline\n",
    "import time\n",
    "import matplotlib.pyplot as plt\n",
    "import numpy as np\n",
    "\n",
    "import qcodes as qc\n",
    "from qcodes.instrument.parameter import ManualParameter\n",
    "from qcodes.dataset.experiment_container import (Experiment,\n",
    "                                                 load_last_experiment,\n",
    "                                                 new_experiment)\n",
    "from qcodes.dataset.sqlite.database import initialise_database\n",
    "from qcodes import load_or_create_experiment\n",
    "from qcodes.dataset.measurements import Measurement"
   ]
  },
  {
   "cell_type": "code",
   "execution_count": 3,
   "metadata": {
    "execution": {
     "iopub.execute_input": "2020-11-05T13:15:18.691619Z",
     "iopub.status.busy": "2020-11-05T13:15:18.691040Z",
     "iopub.status.idle": "2020-11-05T13:15:18.790821Z",
     "shell.execute_reply": "2020-11-05T13:15:18.790375Z"
    }
   },
   "outputs": [
    {
     "name": "stdout",
     "output_type": "stream",
     "text": [
      "\r",
      "0it [00:00, ?it/s]"
     ]
    },
    {
     "name": "stdout",
     "output_type": "stream",
     "text": [
      "\r",
      "Upgrading database; v0 -> v1: : 0it [00:00, ?it/s]"
     ]
    },
    {
     "name": "stdout",
     "output_type": "stream",
     "text": [
      "\r",
      "Upgrading database; v0 -> v1: : 0it [00:00, ?it/s]"
     ]
    },
    {
     "name": "stdout",
     "output_type": "stream",
     "text": [
      "\n",
      "\r",
      "  0%|          | 0/1 [00:00<?, ?it/s]"
     ]
    },
    {
     "name": "stdout",
     "output_type": "stream",
     "text": [
      "\r",
      "Upgrading database; v1 -> v2:   0%|          | 0/1 [00:00<?, ?it/s]"
     ]
    },
    {
     "name": "stdout",
     "output_type": "stream",
     "text": [
      "\r",
      "Upgrading database; v1 -> v2: 100%|██████████| 1/1 [00:00<00:00, 579.32it/s]"
     ]
    },
    {
     "name": "stdout",
     "output_type": "stream",
     "text": [
      "\n",
      "\r",
      "0it [00:00, ?it/s]"
     ]
    },
    {
     "name": "stdout",
     "output_type": "stream",
     "text": [
      "\r",
      "Upgrading database; v2 -> v3: : 0it [00:00, ?it/s]"
     ]
    },
    {
     "name": "stdout",
     "output_type": "stream",
     "text": [
      "\r",
      "Upgrading database; v2 -> v3: : 0it [00:00, ?it/s]"
     ]
    },
    {
     "name": "stdout",
     "output_type": "stream",
     "text": [
      "\n",
      "\r",
      "0it [00:00, ?it/s]"
     ]
    },
    {
     "name": "stdout",
     "output_type": "stream",
     "text": [
      "\r",
      "Upgrading database; v3 -> v4: : 0it [00:00, ?it/s]"
     ]
    },
    {
     "name": "stdout",
     "output_type": "stream",
     "text": [
      "\r",
      "Upgrading database; v3 -> v4: : 0it [00:00, ?it/s]"
     ]
    },
    {
     "name": "stdout",
     "output_type": "stream",
     "text": [
      "\n",
      "\r",
      "  0%|          | 0/1 [00:00<?, ?it/s]"
     ]
    },
    {
     "name": "stdout",
     "output_type": "stream",
     "text": [
      "\r",
      "Upgrading database; v4 -> v5:   0%|          | 0/1 [00:00<?, ?it/s]"
     ]
    },
    {
     "name": "stdout",
     "output_type": "stream",
     "text": [
      "\r",
      "Upgrading database; v4 -> v5: 100%|██████████| 1/1 [00:00<00:00, 491.08it/s]"
     ]
    },
    {
     "name": "stdout",
     "output_type": "stream",
     "text": [
      "\n",
      "\r",
      "0it [00:00, ?it/s]"
     ]
    },
    {
     "name": "stdout",
     "output_type": "stream",
     "text": [
      "\r",
      "Upgrading database; v5 -> v6: : 0it [00:00, ?it/s]"
     ]
    },
    {
     "name": "stdout",
     "output_type": "stream",
     "text": [
      "\r",
      "Upgrading database; v5 -> v6: : 0it [00:00, ?it/s]"
     ]
    },
    {
     "name": "stdout",
     "output_type": "stream",
     "text": [
      "\n",
      "\r",
      "  0%|          | 0/1 [00:00<?, ?it/s]"
     ]
    },
    {
     "name": "stdout",
     "output_type": "stream",
     "text": [
      "\r",
      "Upgrading database; v6 -> v7:   0%|          | 0/1 [00:00<?, ?it/s]"
     ]
    },
    {
     "name": "stdout",
     "output_type": "stream",
     "text": [
      "\r",
      "Upgrading database; v6 -> v7: 100%|██████████| 1/1 [00:00<00:00, 570.81it/s]"
     ]
    },
    {
     "name": "stdout",
     "output_type": "stream",
     "text": [
      "\n",
      "\r",
      "  0%|          | 0/1 [00:00<?, ?it/s]"
     ]
    },
    {
     "name": "stdout",
     "output_type": "stream",
     "text": [
      "\r",
      "Upgrading database; v7 -> v8:   0%|          | 0/1 [00:00<?, ?it/s]"
     ]
    },
    {
     "name": "stdout",
     "output_type": "stream",
     "text": [
      "\r",
      "Upgrading database; v7 -> v8: 100%|██████████| 1/1 [00:00<00:00, 1340.89it/s]"
     ]
    },
    {
     "name": "stdout",
     "output_type": "stream",
     "text": [
      "\n",
      "\r",
      "  0%|          | 0/1 [00:00<?, ?it/s]"
     ]
    },
    {
     "name": "stdout",
     "output_type": "stream",
     "text": [
      "\r",
      "Upgrading database; v8 -> v9:   0%|          | 0/1 [00:00<?, ?it/s]"
     ]
    },
    {
     "name": "stdout",
     "output_type": "stream",
     "text": [
      "\r",
      "Upgrading database; v8 -> v9: 100%|██████████| 1/1 [00:00<00:00, 555.39it/s]"
     ]
    },
    {
     "name": "stdout",
     "output_type": "stream",
     "text": [
      "\n"
     ]
    }
   ],
   "source": [
    "initialise_database()\n",
    "exp = load_or_create_experiment(experiment_name='tutorial_exp', sample_name=\"no sample\")"
   ]
  },
  {
   "cell_type": "markdown",
   "metadata": {},
   "source": [
    "Here, we define a simple function to benchmark the time it takes to insert n points with either numeric or array data type.\n",
    "We will compare both the time used to call ``add_result`` and the time used for the full measurement."
   ]
  },
  {
   "cell_type": "code",
   "execution_count": 4,
   "metadata": {
    "execution": {
     "iopub.execute_input": "2020-11-05T13:15:18.798135Z",
     "iopub.status.busy": "2020-11-05T13:15:18.797638Z",
     "iopub.status.idle": "2020-11-05T13:15:18.801260Z",
     "shell.execute_reply": "2020-11-05T13:15:18.800802Z"
    }
   },
   "outputs": [],
   "source": [
    "def insert_data(paramtype, npoints, nreps=1):\n",
    "\n",
    "    meas = Measurement(exp=exp)\n",
    "\n",
    "    x1 = ManualParameter('x1')\n",
    "    x2 = ManualParameter('x2')\n",
    "    x3 = ManualParameter('x3')\n",
    "    y1 = ManualParameter('y1')\n",
    "    y2 = ManualParameter('y2')\n",
    "\n",
    "    meas.register_parameter(x1, paramtype=paramtype)\n",
    "    meas.register_parameter(x2, paramtype=paramtype)\n",
    "    meas.register_parameter(x3, paramtype=paramtype)\n",
    "    meas.register_parameter(y1, setpoints=[x1, x2, x3],\n",
    "                            paramtype=paramtype)\n",
    "    meas.register_parameter(y2, setpoints=[x1, x2, x3],\n",
    "                            paramtype=paramtype)\n",
    "    start = time.perf_counter()\n",
    "    with meas.run() as datasaver:\n",
    "        start_adding = time.perf_counter()\n",
    "        for i in range(nreps):\n",
    "            datasaver.add_result((x1, np.random.rand(npoints)),\n",
    "                                 (x2, np.random.rand(npoints)),\n",
    "                                 (x3, np.random.rand(npoints)),\n",
    "                                 (y1, np.random.rand(npoints)),\n",
    "                                 (y2, np.random.rand(npoints)))\n",
    "        stop_adding = time.perf_counter()\n",
    "        run_id = datasaver.run_id\n",
    "    stop = time.perf_counter()\n",
    "    tot_time = stop - start\n",
    "    add_time = stop_adding - start_adding\n",
    "    return tot_time, add_time, run_id"
   ]
  },
  {
   "cell_type": "markdown",
   "metadata": {},
   "source": [
    "## Comparison between numeric/array data and binary blob"
   ]
  },
  {
   "cell_type": "markdown",
   "metadata": {},
   "source": [
    "### Case1: Short experiment time"
   ]
  },
  {
   "cell_type": "code",
   "execution_count": 5,
   "metadata": {
    "execution": {
     "iopub.execute_input": "2020-11-05T13:15:18.806821Z",
     "iopub.status.busy": "2020-11-05T13:15:18.806213Z",
     "iopub.status.idle": "2020-11-05T13:15:19.506881Z",
     "shell.execute_reply": "2020-11-05T13:15:19.506416Z"
    }
   },
   "outputs": [
    {
     "name": "stdout",
     "output_type": "stream",
     "text": [
      "Starting experimental run with id: 1. \n",
      "Starting experimental run with id: 2. \n",
      "Starting experimental run with id: 3. \n",
      "Starting experimental run with id: 4. \n",
      "Starting experimental run with id: 5. \n",
      "Starting experimental run with id: 6. \n",
      "Starting experimental run with id: 7. \n"
     ]
    },
    {
     "name": "stdout",
     "output_type": "stream",
     "text": [
      "Starting experimental run with id: 8. \n"
     ]
    },
    {
     "name": "stdout",
     "output_type": "stream",
     "text": [
      "Starting experimental run with id: 9. \n",
      "Starting experimental run with id: 10. \n",
      "Starting experimental run with id: 11. \n"
     ]
    },
    {
     "name": "stdout",
     "output_type": "stream",
     "text": [
      "Starting experimental run with id: 12. \n",
      "Starting experimental run with id: 13. \n"
     ]
    },
    {
     "name": "stdout",
     "output_type": "stream",
     "text": [
      "Starting experimental run with id: 14. \n"
     ]
    }
   ],
   "source": [
    "sizes = [1,500,1000,2000,3000,4000,5000]\n",
    "t_numeric = []\n",
    "t_numeric_add = []\n",
    "t_array = []\n",
    "t_array_add = []\n",
    "for size in sizes:\n",
    "    tn, tna, run_id_n =  insert_data('numeric', size)\n",
    "    t_numeric.append(tn)\n",
    "    t_numeric_add.append(tna)\n",
    "\n",
    "    ta, taa, run_id_a =  insert_data('array', size)\n",
    "    t_array.append(ta)\n",
    "    t_array_add.append(taa)"
   ]
  },
  {
   "cell_type": "code",
   "execution_count": 6,
   "metadata": {
    "execution": {
     "iopub.execute_input": "2020-11-05T13:15:19.545087Z",
     "iopub.status.busy": "2020-11-05T13:15:19.522027Z",
     "iopub.status.idle": "2020-11-05T13:15:19.683385Z",
     "shell.execute_reply": "2020-11-05T13:15:19.682967Z"
    }
   },
   "outputs": [
    {
     "data": {
      "image/png": "[encoded data removed]",
      "text/plain": [
       "<Figure size 432x288 with 1 Axes>"
      ]
     },
     "metadata": {
      "needs_background": "light"
     },
     "output_type": "display_data"
    }
   ],
   "source": [
    "fig, ax = plt.subplots(1,1)\n",
    "ax.plot(sizes, t_numeric, 'o-', label='Inserting row-by-row')\n",
    "ax.plot(sizes, t_numeric_add, 'o-', label='Inserting row-by-row: add_result only')\n",
    "ax.plot(sizes, t_array, 'd-', label='Inserting as binary blob')\n",
    "ax.plot(sizes, t_array_add, 'd-', label='Inserting as binary blob: add_result only')\n",
    "ax.legend()\n",
    "ax.set_xlabel('Array length')\n",
    "ax.set_ylabel('Time (s)')\n",
    "fig.tight_layout()"
   ]
  },
  {
   "cell_type": "markdown",
   "metadata": {},
   "source": [
    "As shown in the latter figure, the time to setup and and close the experiment is approximately 0.4 sec. In case of small array sizes, the difference between inserting values of data as arrays and inserting them row-by-row is relatively unimportant. At larger array sizes, i.e. above 10000 points, the cost of writing data as individual datapoints starts to become important.\n"
   ]
  },
  {
   "cell_type": "markdown",
   "metadata": {},
   "source": [
    "### Case2: Long experiment time "
   ]
  },
  {
   "cell_type": "code",
   "execution_count": 7,
   "metadata": {
    "execution": {
     "iopub.execute_input": "2020-11-05T13:15:19.689438Z",
     "iopub.status.busy": "2020-11-05T13:15:19.687367Z",
     "iopub.status.idle": "2020-11-05T13:16:13.583059Z",
     "shell.execute_reply": "2020-11-05T13:16:13.582501Z"
    }
   },
   "outputs": [
    {
     "name": "stdout",
     "output_type": "stream",
     "text": [
      "Starting experimental run with id: 15. \n",
      "Starting experimental run with id: 16. \n",
      "Starting experimental run with id: 17. \n"
     ]
    },
    {
     "name": "stdout",
     "output_type": "stream",
     "text": [
      "Starting experimental run with id: 18. \n",
      "Starting experimental run with id: 19. \n"
     ]
    },
    {
     "name": "stdout",
     "output_type": "stream",
     "text": [
      "Starting experimental run with id: 20. \n"
     ]
    },
    {
     "name": "stdout",
     "output_type": "stream",
     "text": [
      "Starting experimental run with id: 21. \n"
     ]
    },
    {
     "name": "stdout",
     "output_type": "stream",
     "text": [
      "Starting experimental run with id: 22. \n"
     ]
    },
    {
     "name": "stdout",
     "output_type": "stream",
     "text": [
      "Starting experimental run with id: 23. \n"
     ]
    },
    {
     "name": "stdout",
     "output_type": "stream",
     "text": [
      "Starting experimental run with id: 24. \n"
     ]
    },
    {
     "name": "stdout",
     "output_type": "stream",
     "text": [
      "Starting experimental run with id: 25. \n"
     ]
    },
    {
     "name": "stdout",
     "output_type": "stream",
     "text": [
      "Starting experimental run with id: 26. \n"
     ]
    },
    {
     "name": "stdout",
     "output_type": "stream",
     "text": [
      "Starting experimental run with id: 27. \n"
     ]
    },
    {
     "name": "stdout",
     "output_type": "stream",
     "text": [
      "Starting experimental run with id: 28. \n"
     ]
    }
   ],
   "source": [
    "sizes = [1,500,1000,2000,3000,4000,5000]\n",
    "nreps = 100\n",
    "t_numeric = []\n",
    "t_numeric_add = []\n",
    "t_numeric_run_ids = []\n",
    "t_array = []\n",
    "t_array_add = []\n",
    "t_array_run_ids = []\n",
    "for size in sizes:\n",
    "    tn, tna, run_id_n =  insert_data('numeric', size, nreps=nreps)\n",
    "    t_numeric.append(tn)\n",
    "    t_numeric_add.append(tna)\n",
    "    t_numeric_run_ids.append(run_id_n)\n",
    "\n",
    "    ta, taa, run_id_a =  insert_data('array', size, nreps=nreps)\n",
    "    t_array.append(ta)\n",
    "    t_array_add.append(taa)\n",
    "    t_array_run_ids.append(run_id_a)"
   ]
  },
  {
   "cell_type": "code",
   "execution_count": 8,
   "metadata": {
    "execution": {
     "iopub.execute_input": "2020-11-05T13:16:13.609254Z",
     "iopub.status.busy": "2020-11-05T13:16:13.597593Z",
     "iopub.status.idle": "2020-11-05T13:16:13.762136Z",
     "shell.execute_reply": "2020-11-05T13:16:13.761700Z"
    },
    "scrolled": true
   },
   "outputs": [
    {
     "data": {
      "image/png": "[encoded data removed]",
      "text/plain": [
       "<Figure size 432x288 with 1 Axes>"
      ]
     },
     "metadata": {
      "needs_background": "light"
     },
     "output_type": "display_data"
    }
   ],
   "source": [
    "fig, ax = plt.subplots(1,1)\n",
    "ax.plot(sizes, t_numeric, 'o-', label='Inserting row-by-row')\n",
    "ax.plot(sizes, t_numeric_add, 'o-', label='Inserting row-by-row: add_result only')\n",
    "ax.plot(sizes, t_array, 'd-', label='Inserting as binary blob')\n",
    "ax.plot(sizes, t_array_add, 'd-', label='Inserting as binary blob: add_result only')\n",
    "ax.legend()\n",
    "ax.set_xlabel('Array length')\n",
    "ax.set_ylabel('Time (s)')\n",
    "fig.tight_layout()"
   ]
  },
  {
   "cell_type": "markdown",
   "metadata": {},
   "source": [
    "However, as we increase the length of the experiment, as seen here by repeating the insertion 100 times, we see a big difference between inserting values of the data row-by-row and inserting it as a binary blob."
   ]
  },
  {
   "cell_type": "markdown",
   "metadata": {},
   "source": [
    "## Loading the data "
   ]
  },
  {
   "cell_type": "code",
   "execution_count": 9,
   "metadata": {
    "execution": {
     "iopub.execute_input": "2020-11-05T13:16:13.765956Z",
     "iopub.status.busy": "2020-11-05T13:16:13.764968Z",
     "iopub.status.idle": "2020-11-05T13:16:13.767815Z",
     "shell.execute_reply": "2020-11-05T13:16:13.767422Z"
    }
   },
   "outputs": [],
   "source": [
    "from qcodes.dataset.data_set import load_by_id\n",
    "from qcodes.dataset.data_export import get_data_by_id"
   ]
  },
  {
   "cell_type": "markdown",
   "metadata": {},
   "source": [
    "As usual you can load the data by using the ``load_by_id`` function but you will notice that the different storage methods\n",
    "are reflected in shape of the data as it is retrieved. "
   ]
  },
  {
   "cell_type": "code",
   "execution_count": 10,
   "metadata": {
    "execution": {
     "iopub.execute_input": "2020-11-05T13:16:13.770845Z",
     "iopub.status.busy": "2020-11-05T13:16:13.769549Z",
     "iopub.status.idle": "2020-11-05T13:16:13.772351Z",
     "shell.execute_reply": "2020-11-05T13:16:13.772715Z"
    }
   },
   "outputs": [],
   "source": [
    "run_id_n = t_numeric_run_ids[0]\n",
    "run_id_a = t_array_run_ids[0]"
   ]
  },
  {
   "cell_type": "code",
   "execution_count": 11,
   "metadata": {
    "execution": {
     "iopub.execute_input": "2020-11-05T13:16:13.775551Z",
     "iopub.status.busy": "2020-11-05T13:16:13.775075Z",
     "iopub.status.idle": "2020-11-05T13:16:13.782918Z",
     "shell.execute_reply": "2020-11-05T13:16:13.783282Z"
    },
    "scrolled": true
   },
   "outputs": [
    {
     "data": {
      "text/plain": [
       "{'x1': {'x1': array([0.18245345, 0.18245345, 0.53476182, 0.53476182, 0.34920753,\n",
       "         0.34920753, 0.50276304, 0.50276304, 0.75700071, 0.75700071,\n",
       "         0.47732754, 0.47732754, 0.62302008, 0.62302008, 0.35456219,\n",
       "         0.35456219, 0.49555959, 0.49555959, 0.04690408, 0.04690408,\n",
       "         0.47365993, 0.47365993, 0.60581087, 0.60581087, 0.29939101,\n",
       "         0.29939101, 0.34174642, 0.34174642, 0.29123032, 0.29123032,\n",
       "         0.85649423, 0.85649423, 0.550124  , 0.550124  , 0.24987139,\n",
       "         0.24987139, 0.74540914, 0.74540914, 0.29143645, 0.29143645,\n",
       "         0.45296459, 0.45296459, 0.402188  , 0.402188  , 0.5045456 ,\n",
       "         0.5045456 , 0.94531791, 0.94531791, 0.53447626, 0.53447626,\n",
       "         0.93932133, 0.93932133, 0.7739198 , 0.7739198 , 0.66512145,\n",
       "         0.66512145, 0.85474178, 0.85474178, 0.91799608, 0.91799608,\n",
       "         0.20844424, 0.20844424, 0.29109407, 0.29109407, 0.5074967 ,\n",
       "         0.5074967 , 0.53790576, 0.53790576, 0.08519807, 0.08519807,\n",
       "         0.49744131, 0.49744131, 0.99137499, 0.99137499, 0.86457275,\n",
       "         0.86457275, 0.26406519, 0.26406519, 0.48505948, 0.48505948,\n",
       "         0.07567202, 0.07567202, 0.0463793 , 0.0463793 , 0.30042295,\n",
       "         0.30042295, 0.7100539 , 0.7100539 , 0.30330629, 0.30330629,\n",
       "         0.17595842, 0.17595842, 0.67208018, 0.67208018, 0.07945974,\n",
       "         0.07945974, 0.39428746, 0.39428746, 0.90888009, 0.90888009,\n",
       "         0.94620612, 0.94620612, 0.14419268, 0.14419268, 0.93753136,\n",
       "         0.93753136, 0.4406702 , 0.4406702 , 0.93652375, 0.93652375,\n",
       "         0.96154664, 0.96154664, 0.65683403, 0.65683403, 0.80096104,\n",
       "         0.80096104, 0.92314291, 0.92314291, 0.63413455, 0.63413455,\n",
       "         0.46051209, 0.46051209, 0.81411936, 0.81411936, 0.60099233,\n",
       "         0.60099233, 0.08785723, 0.08785723, 0.63068085, 0.63068085,\n",
       "         0.13339336, 0.13339336, 0.95657327, 0.95657327, 0.91985935,\n",
       "         0.91985935, 0.96990171, 0.96990171, 0.51793367, 0.51793367,\n",
       "         0.58157639, 0.58157639, 0.31658729, 0.31658729, 0.80362938,\n",
       "         0.80362938, 0.59565394, 0.59565394, 0.8529483 , 0.8529483 ,\n",
       "         0.36148539, 0.36148539, 0.64277094, 0.64277094, 0.02008234,\n",
       "         0.02008234, 0.30800873, 0.30800873, 0.14906682, 0.14906682,\n",
       "         0.74783283, 0.74783283, 0.91376833, 0.91376833, 0.18590487,\n",
       "         0.18590487, 0.73546033, 0.73546033, 0.45314799, 0.45314799,\n",
       "         0.26929527, 0.26929527, 0.29594328, 0.29594328, 0.23084341,\n",
       "         0.23084341, 0.77272212, 0.77272212, 0.5155922 , 0.5155922 ,\n",
       "         0.67968844, 0.67968844, 0.68146113, 0.68146113, 0.04228709,\n",
       "         0.04228709, 0.29290296, 0.29290296, 0.49093627, 0.49093627,\n",
       "         0.58090916, 0.58090916, 0.93624426, 0.93624426, 0.28184642,\n",
       "         0.28184642, 0.95834673, 0.95834673, 0.26212873, 0.26212873])}}"
      ]
     },
     "execution_count": 1,
     "metadata": {},
     "output_type": "execute_result"
    }
   ],
   "source": [
    "ds = load_by_id(run_id_n)\n",
    "ds.get_parameter_data('x1')"
   ]
  },
  {
   "cell_type": "markdown",
   "metadata": {},
   "source": [
    "And a dataset stored as binary arrays"
   ]
  },
  {
   "cell_type": "code",
   "execution_count": 12,
   "metadata": {
    "execution": {
     "iopub.execute_input": "2020-11-05T13:16:13.786131Z",
     "iopub.status.busy": "2020-11-05T13:16:13.785664Z",
     "iopub.status.idle": "2020-11-05T13:16:13.831956Z",
     "shell.execute_reply": "2020-11-05T13:16:13.831513Z"
    },
    "scrolled": true
   },
   "outputs": [
    {
     "data": {
      "text/plain": [
       "{'x1': {'x1': array([[0.40019409],\n",
       "         [0.40019409],\n",
       "         [0.99538243],\n",
       "         [0.99538243],\n",
       "         [0.42240341],\n",
       "         [0.42240341],\n",
       "         [0.30084581],\n",
       "         [0.30084581],\n",
       "         [0.92082514],\n",
       "         [0.92082514],\n",
       "         [0.0474521 ],\n",
       "         [0.0474521 ],\n",
       "         [0.69265286],\n",
       "         [0.69265286],\n",
       "         [0.22645216],\n",
       "         [0.22645216],\n",
       "         [0.14848451],\n",
       "         [0.14848451],\n",
       "         [0.77432831],\n",
       "         [0.77432831],\n",
       "         [0.93902838],\n",
       "         [0.93902838],\n",
       "         [0.69563098],\n",
       "         [0.69563098],\n",
       "         [0.52652861],\n",
       "         [0.52652861],\n",
       "         [0.04937856],\n",
       "         [0.04937856],\n",
       "         [0.55006057],\n",
       "         [0.55006057],\n",
       "         [0.50585581],\n",
       "         [0.50585581],\n",
       "         [0.85013618],\n",
       "         [0.85013618],\n",
       "         [0.21853131],\n",
       "         [0.21853131],\n",
       "         [0.23740802],\n",
       "         [0.23740802],\n",
       "         [0.04407882],\n",
       "         [0.04407882],\n",
       "         [0.03950082],\n",
       "         [0.03950082],\n",
       "         [0.88751978],\n",
       "         [0.88751978],\n",
       "         [0.48051984],\n",
       "         [0.48051984],\n",
       "         [0.68197199],\n",
       "         [0.68197199],\n",
       "         [0.02537303],\n",
       "         [0.02537303],\n",
       "         [0.17597729],\n",
       "         [0.17597729],\n",
       "         [0.0620793 ],\n",
       "         [0.0620793 ],\n",
       "         [0.95461248],\n",
       "         [0.95461248],\n",
       "         [0.0809271 ],\n",
       "         [0.0809271 ],\n",
       "         [0.48353804],\n",
       "         [0.48353804],\n",
       "         [0.47051605],\n",
       "         [0.47051605],\n",
       "         [0.49965058],\n",
       "         [0.49965058],\n",
       "         [0.69204052],\n",
       "         [0.69204052],\n",
       "         [0.41417622],\n",
       "         [0.41417622],\n",
       "         [0.68233483],\n",
       "         [0.68233483],\n",
       "         [0.07917332],\n",
       "         [0.07917332],\n",
       "         [0.77988299],\n",
       "         [0.77988299],\n",
       "         [0.38471745],\n",
       "         [0.38471745],\n",
       "         [0.05785647],\n",
       "         [0.05785647],\n",
       "         [0.77092364],\n",
       "         [0.77092364],\n",
       "         [0.64901319],\n",
       "         [0.64901319],\n",
       "         [0.25902553],\n",
       "         [0.25902553],\n",
       "         [0.64673211],\n",
       "         [0.64673211],\n",
       "         [0.55119689],\n",
       "         [0.55119689],\n",
       "         [0.69045156],\n",
       "         [0.69045156],\n",
       "         [0.2168251 ],\n",
       "         [0.2168251 ],\n",
       "         [0.37407602],\n",
       "         [0.37407602],\n",
       "         [0.43502467],\n",
       "         [0.43502467],\n",
       "         [0.16189578],\n",
       "         [0.16189578],\n",
       "         [0.05592549],\n",
       "         [0.05592549],\n",
       "         [0.77852757],\n",
       "         [0.77852757],\n",
       "         [0.16759487],\n",
       "         [0.16759487],\n",
       "         [0.40018614],\n",
       "         [0.40018614],\n",
       "         [0.05180273],\n",
       "         [0.05180273],\n",
       "         [0.91208319],\n",
       "         [0.91208319],\n",
       "         [0.89965701],\n",
       "         [0.89965701],\n",
       "         [0.87049903],\n",
       "         [0.87049903],\n",
       "         [0.33668449],\n",
       "         [0.33668449],\n",
       "         [0.6524264 ],\n",
       "         [0.6524264 ],\n",
       "         [0.81733392],\n",
       "         [0.81733392],\n",
       "         [0.73266738],\n",
       "         [0.73266738],\n",
       "         [0.08074743],\n",
       "         [0.08074743],\n",
       "         [0.92931699],\n",
       "         [0.92931699],\n",
       "         [0.14723694],\n",
       "         [0.14723694],\n",
       "         [0.92352721],\n",
       "         [0.92352721],\n",
       "         [0.06811969],\n",
       "         [0.06811969],\n",
       "         [0.21842071],\n",
       "         [0.21842071],\n",
       "         [0.54249623],\n",
       "         [0.54249623],\n",
       "         [0.92494267],\n",
       "         [0.92494267],\n",
       "         [0.7988959 ],\n",
       "         [0.7988959 ],\n",
       "         [0.74725994],\n",
       "         [0.74725994],\n",
       "         [0.73942209],\n",
       "         [0.73942209],\n",
       "         [0.85107553],\n",
       "         [0.85107553],\n",
       "         [0.56378115],\n",
       "         [0.56378115],\n",
       "         [0.62159706],\n",
       "         [0.62159706],\n",
       "         [0.4947991 ],\n",
       "         [0.4947991 ],\n",
       "         [0.77968167],\n",
       "         [0.77968167],\n",
       "         [0.52863338],\n",
       "         [0.52863338],\n",
       "         [0.48588135],\n",
       "         [0.48588135],\n",
       "         [0.41272542],\n",
       "         [0.41272542],\n",
       "         [0.54165289],\n",
       "         [0.54165289],\n",
       "         [0.37831319],\n",
       "         [0.37831319],\n",
       "         [0.13291977],\n",
       "         [0.13291977],\n",
       "         [0.41784624],\n",
       "         [0.41784624],\n",
       "         [0.32089491],\n",
       "         [0.32089491],\n",
       "         [0.20764483],\n",
       "         [0.20764483],\n",
       "         [0.70591372],\n",
       "         [0.70591372],\n",
       "         [0.51145482],\n",
       "         [0.51145482],\n",
       "         [0.52520574],\n",
       "         [0.52520574],\n",
       "         [0.5837657 ],\n",
       "         [0.5837657 ],\n",
       "         [0.19660281],\n",
       "         [0.19660281],\n",
       "         [0.42473039],\n",
       "         [0.42473039],\n",
       "         [0.03824591],\n",
       "         [0.03824591],\n",
       "         [0.68362386],\n",
       "         [0.68362386],\n",
       "         [0.77658253],\n",
       "         [0.77658253],\n",
       "         [0.22517925],\n",
       "         [0.22517925],\n",
       "         [0.55463452],\n",
       "         [0.55463452],\n",
       "         [0.69038942],\n",
       "         [0.69038942],\n",
       "         [0.61029817],\n",
       "         [0.61029817],\n",
       "         [0.76928056],\n",
       "         [0.76928056]])}}"
      ]
     },
     "execution_count": 1,
     "metadata": {},
     "output_type": "execute_result"
    }
   ],
   "source": [
    "ds = load_by_id(run_id_a)\n",
    "ds.get_parameter_data('x1')"
   ]
  },
  {
   "cell_type": "code",
   "execution_count": null,
   "metadata": {},
   "outputs": [],
   "source": []
  }
 ],
 "metadata": {
  "kernelspec": {
   "display_name": "Python 3",
   "language": "python",
   "name": "python3"
  },
  "language_info": {
   "codemirror_mode": {
    "name": "ipython",
    "version": 3
   },
   "file_extension": ".py",
   "mimetype": "text/x-python",
   "name": "python",
   "nbconvert_exporter": "python",
   "pygments_lexer": "ipython3",
   "version": "3.7.9"
  },
  "nbsphinx": {
   "timeout": 600
  },
  "toc": {
   "base_numbering": 1,
   "nav_menu": {},
   "number_sections": true,
   "sideBar": true,
   "skip_h1_title": false,
   "title_cell": "Table of Contents",
   "title_sidebar": "Contents",
   "toc_cell": false,
   "toc_position": {},
   "toc_section_display": true,
   "toc_window_display": false
  },
  "varInspector": {
   "cols": {
    "lenName": 16,
    "lenType": 16,
    "lenVar": 40
   },
   "kernels_config": {
    "python": {
     "delete_cmd_postfix": "",
     "delete_cmd_prefix": "del ",
     "library": "var_list.py",
     "varRefreshCmd": "print(var_dic_list())"
    },
    "r": {
     "delete_cmd_postfix": ") ",
     "delete_cmd_prefix": "rm(",
     "library": "var_list.r",
     "varRefreshCmd": "cat(var_dic_list()) "
    }
   },
   "types_to_exclude": [
    "module",
    "function",
    "builtin_function_or_method",
    "instance",
    "_Feature"
   ],
   "window_display": false
  }
 },
 "nbformat": 4,
 "nbformat_minor": 2
}
