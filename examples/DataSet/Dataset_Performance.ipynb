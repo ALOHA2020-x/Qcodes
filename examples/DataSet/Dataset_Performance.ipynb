{
 "cells": [
  {
   "cell_type": "markdown",
   "metadata": {},
   "source": [
    "# DataSet Performance\n",
    "\n",
    "This notebook shows the trade-off between inserting data into a database row-by-row and as binary blobs. Inserting the data row-by-row means that we have direct access to all the data and may perform queries directly on the values of the data. On the other hand, as we shall see, this is much slower than inserting the data directly as binary blobs."
   ]
  },
  {
   "cell_type": "markdown",
   "metadata": {},
   "source": [
    "First, we choose a new location for the database to ensure that we don't add a bunch of benchmarking data to the default one."
   ]
  },
  {
   "cell_type": "code",
   "execution_count": 1,
   "metadata": {},
   "outputs": [
    {
     "name": "stdout",
     "output_type": "stream",
     "text": [
      "Logging hadn't been started.\n",
      "Activating auto-logging. Current session state plus future input saved.\n",
      "Filename       : /home/vsts/.qcodes/logs/command_history.log\n",
      "Mode           : append\n",
      "Output logging : True\n",
      "Raw input log  : False\n",
      "Timestamping   : True\n",
      "State          : active\n"
     ]
    },
    {
     "name": "stdout",
     "output_type": "stream",
     "text": [
      "Qcodes Logfile : /home/vsts/.qcodes/logs/200610-19184-qcodes.log\n"
     ]
    }
   ],
   "source": [
    "import os\n",
    "cwd = os.getcwd()\n",
    "import qcodes as qc\n",
    "qc.config[\"core\"][\"db_location\"] = os.path.join(cwd, 'testing.db')\n"
   ]
  },
  {
   "cell_type": "code",
   "execution_count": 2,
   "metadata": {},
   "outputs": [],
   "source": [
    "%matplotlib inline\n",
    "import time\n",
    "import matplotlib.pyplot as plt\n",
    "import numpy as np\n",
    "\n",
    "import qcodes as qc\n",
    "from qcodes.instrument.parameter import ManualParameter\n",
    "from qcodes.dataset.experiment_container import (Experiment,\n",
    "                                                 load_last_experiment,\n",
    "                                                 new_experiment)\n",
    "from qcodes.dataset.sqlite.database import initialise_database\n",
    "from qcodes import load_or_create_experiment\n",
    "from qcodes.dataset.measurements import Measurement"
   ]
  },
  {
   "cell_type": "code",
   "execution_count": 3,
   "metadata": {},
   "outputs": [
    {
     "name": "stdout",
     "output_type": "stream",
     "text": [
      "\r",
      "0it [00:00, ?it/s]"
     ]
    },
    {
     "name": "stdout",
     "output_type": "stream",
     "text": [
      "\r",
      "Upgrading database; v0 -> v1: : 0it [00:00, ?it/s]"
     ]
    },
    {
     "name": "stdout",
     "output_type": "stream",
     "text": [
      "\r",
      "Upgrading database; v0 -> v1: : 0it [00:00, ?it/s]"
     ]
    },
    {
     "name": "stdout",
     "output_type": "stream",
     "text": [
      "\n",
      "\r",
      "  0%|          | 0/1 [00:00<?, ?it/s]"
     ]
    },
    {
     "name": "stdout",
     "output_type": "stream",
     "text": [
      "\r",
      "Upgrading database; v1 -> v2:   0%|          | 0/1 [00:00<?, ?it/s]"
     ]
    },
    {
     "name": "stdout",
     "output_type": "stream",
     "text": [
      "\r",
      "Upgrading database; v1 -> v2: 100%|██████████| 1/1 [00:00<00:00, 823.70it/s]"
     ]
    },
    {
     "name": "stdout",
     "output_type": "stream",
     "text": [
      "\n",
      "\r",
      "0it [00:00, ?it/s]"
     ]
    },
    {
     "name": "stdout",
     "output_type": "stream",
     "text": [
      "\r",
      "Upgrading database; v2 -> v3: : 0it [00:00, ?it/s]"
     ]
    },
    {
     "name": "stdout",
     "output_type": "stream",
     "text": [
      "\r",
      "Upgrading database; v2 -> v3: : 0it [00:00, ?it/s]"
     ]
    },
    {
     "name": "stdout",
     "output_type": "stream",
     "text": [
      "\n",
      "\r",
      "0it [00:00, ?it/s]"
     ]
    },
    {
     "name": "stdout",
     "output_type": "stream",
     "text": [
      "\r",
      "Upgrading database; v3 -> v4: : 0it [00:00, ?it/s]"
     ]
    },
    {
     "name": "stdout",
     "output_type": "stream",
     "text": [
      "\r",
      "Upgrading database; v3 -> v4: : 0it [00:00, ?it/s]"
     ]
    },
    {
     "name": "stdout",
     "output_type": "stream",
     "text": [
      "\n",
      "\r",
      "  0%|          | 0/1 [00:00<?, ?it/s]"
     ]
    },
    {
     "name": "stdout",
     "output_type": "stream",
     "text": [
      "\r",
      "Upgrading database; v4 -> v5:   0%|          | 0/1 [00:00<?, ?it/s]"
     ]
    },
    {
     "name": "stdout",
     "output_type": "stream",
     "text": [
      "\r",
      "Upgrading database; v4 -> v5: 100%|██████████| 1/1 [00:00<00:00, 920.61it/s]"
     ]
    },
    {
     "name": "stdout",
     "output_type": "stream",
     "text": [
      "\n",
      "\r",
      "0it [00:00, ?it/s]"
     ]
    },
    {
     "name": "stdout",
     "output_type": "stream",
     "text": [
      "\r",
      "Upgrading database; v5 -> v6: : 0it [00:00, ?it/s]"
     ]
    },
    {
     "name": "stdout",
     "output_type": "stream",
     "text": [
      "\r",
      "Upgrading database; v5 -> v6: : 0it [00:00, ?it/s]"
     ]
    },
    {
     "name": "stdout",
     "output_type": "stream",
     "text": [
      "\n",
      "\r",
      "  0%|          | 0/1 [00:00<?, ?it/s]"
     ]
    },
    {
     "name": "stdout",
     "output_type": "stream",
     "text": [
      "\r",
      "Upgrading database; v6 -> v7:   0%|          | 0/1 [00:00<?, ?it/s]"
     ]
    },
    {
     "name": "stdout",
     "output_type": "stream",
     "text": [
      "\r",
      "Upgrading database; v6 -> v7: 100%|██████████| 1/1 [00:00<00:00, 473.02it/s]"
     ]
    },
    {
     "name": "stdout",
     "output_type": "stream",
     "text": [
      "\n",
      "\r",
      "  0%|          | 0/1 [00:00<?, ?it/s]"
     ]
    },
    {
     "name": "stdout",
     "output_type": "stream",
     "text": [
      "\r",
      "Upgrading database; v7 -> v8:   0%|          | 0/1 [00:00<?, ?it/s]"
     ]
    },
    {
     "name": "stdout",
     "output_type": "stream",
     "text": [
      "\r",
      "Upgrading database; v7 -> v8: 100%|██████████| 1/1 [00:00<00:00, 282.84it/s]"
     ]
    },
    {
     "name": "stdout",
     "output_type": "stream",
     "text": [
      "\n",
      "\r",
      "  0%|          | 0/1 [00:00<?, ?it/s]"
     ]
    },
    {
     "name": "stdout",
     "output_type": "stream",
     "text": [
      "\r",
      "Upgrading database; v8 -> v9:   0%|          | 0/1 [00:00<?, ?it/s]"
     ]
    },
    {
     "name": "stdout",
     "output_type": "stream",
     "text": [
      "\r",
      "Upgrading database; v8 -> v9: 100%|██████████| 1/1 [00:00<00:00, 1052.26it/s]"
     ]
    },
    {
     "name": "stdout",
     "output_type": "stream",
     "text": [
      "\n"
     ]
    }
   ],
   "source": [
    "initialise_database()\n",
    "exp = load_or_create_experiment(experiment_name='tutorial_exp', sample_name=\"no sample\")"
   ]
  },
  {
   "cell_type": "markdown",
   "metadata": {},
   "source": [
    "Here, we define a simple function to benchmark the time it takes to insert n points with either numeric or array data type.\n",
    "We will compare both the time used to call ``add_result`` and the time used for the full measurement."
   ]
  },
  {
   "cell_type": "code",
   "execution_count": 4,
   "metadata": {},
   "outputs": [],
   "source": [
    "def insert_data(paramtype, npoints, nreps=1):\n",
    "\n",
    "    meas = Measurement(exp=exp)\n",
    "\n",
    "    x1 = ManualParameter('x1')\n",
    "    x2 = ManualParameter('x2')\n",
    "    x3 = ManualParameter('x3')\n",
    "    y1 = ManualParameter('y1')\n",
    "    y2 = ManualParameter('y2')\n",
    "\n",
    "    meas.register_parameter(x1, paramtype=paramtype)\n",
    "    meas.register_parameter(x2, paramtype=paramtype)\n",
    "    meas.register_parameter(x3, paramtype=paramtype)\n",
    "    meas.register_parameter(y1, setpoints=[x1, x2, x3],\n",
    "                            paramtype=paramtype)\n",
    "    meas.register_parameter(y2, setpoints=[x1, x2, x3],\n",
    "                            paramtype=paramtype)\n",
    "    start = time.perf_counter()\n",
    "    with meas.run() as datasaver:\n",
    "        start_adding = time.perf_counter()\n",
    "        for i in range(nreps):\n",
    "            datasaver.add_result((x1, np.random.rand(npoints)),\n",
    "                                 (x2, np.random.rand(npoints)),\n",
    "                                 (x3, np.random.rand(npoints)),\n",
    "                                 (y1, np.random.rand(npoints)),\n",
    "                                 (y2, np.random.rand(npoints)))\n",
    "        stop_adding = time.perf_counter()\n",
    "        run_id = datasaver.run_id\n",
    "    stop = time.perf_counter()\n",
    "    tot_time = stop - start\n",
    "    add_time = stop_adding - start_adding\n",
    "    return tot_time, add_time, run_id"
   ]
  },
  {
   "cell_type": "markdown",
   "metadata": {},
   "source": [
    "## Comparison between numeric/array data and binary blob"
   ]
  },
  {
   "cell_type": "markdown",
   "metadata": {},
   "source": [
    "### Case1: Short experiment time"
   ]
  },
  {
   "cell_type": "code",
   "execution_count": 5,
   "metadata": {},
   "outputs": [
    {
     "name": "stdout",
     "output_type": "stream",
     "text": [
      "Starting experimental run with id: 1. \n",
      "Starting experimental run with id: 2. \n",
      "Starting experimental run with id: 3. \n",
      "Starting experimental run with id: 4. \n",
      "Starting experimental run with id: 5. \n"
     ]
    },
    {
     "name": "stdout",
     "output_type": "stream",
     "text": [
      "Starting experimental run with id: 6. \n"
     ]
    },
    {
     "name": "stdout",
     "output_type": "stream",
     "text": [
      "Starting experimental run with id: 7. \n"
     ]
    },
    {
     "name": "stdout",
     "output_type": "stream",
     "text": [
      "Starting experimental run with id: 8. \n",
      "Starting experimental run with id: 9. \n"
     ]
    },
    {
     "name": "stdout",
     "output_type": "stream",
     "text": [
      "Starting experimental run with id: 10. \n",
      "Starting experimental run with id: 11. \n"
     ]
    },
    {
     "name": "stdout",
     "output_type": "stream",
     "text": [
      "Starting experimental run with id: 12. \n",
      "Starting experimental run with id: 13. \n"
     ]
    },
    {
     "name": "stdout",
     "output_type": "stream",
     "text": [
      "Starting experimental run with id: 14. \n"
     ]
    }
   ],
   "source": [
    "sizes = [1,500,1000,2000,3000,4000,5000]\n",
    "t_numeric = []\n",
    "t_numeric_add = []\n",
    "t_array = []\n",
    "t_array_add = []\n",
    "for size in sizes:\n",
    "    tn, tna, run_id_n =  insert_data('numeric', size)\n",
    "    t_numeric.append(tn)\n",
    "    t_numeric_add.append(tna)\n",
    "\n",
    "    ta, taa, run_id_a =  insert_data('array', size)\n",
    "    t_array.append(ta)\n",
    "    t_array_add.append(taa)"
   ]
  },
  {
   "cell_type": "code",
   "execution_count": 6,
   "metadata": {},
   "outputs": [
    {
     "data": {
      "image/png": "[encoded data removed]",
      "text/plain": [
       "<Figure size 432x288 with 1 Axes>"
      ]
     },
     "metadata": {
      "needs_background": "light"
     },
     "output_type": "display_data"
    }
   ],
   "source": [
    "fig, ax = plt.subplots(1,1)\n",
    "ax.plot(sizes, t_numeric, 'o-', label='Inserting row-by-row')\n",
    "ax.plot(sizes, t_numeric_add, 'o-', label='Inserting row-by-row: add_result only')\n",
    "ax.plot(sizes, t_array, 'd-', label='Inserting as binary blob')\n",
    "ax.plot(sizes, t_array_add, 'd-', label='Inserting as binary blob: add_result only')\n",
    "ax.legend()\n",
    "ax.set_xlabel('Array length')\n",
    "ax.set_ylabel('Time (s)')\n",
    "fig.tight_layout()"
   ]
  },
  {
   "cell_type": "markdown",
   "metadata": {},
   "source": [
    "As shown in the latter figure, the time to setup and and close the experiment is approximately 0.4 sec. In case of small array sizes, the difference between inserting values of data as arrays and inserting them row-by-row is relatively unimportant. At larger array sizes, i.e. above 10000 points, the cost of writing data as individual datapoints starts to become important.\n"
   ]
  },
  {
   "cell_type": "markdown",
   "metadata": {},
   "source": [
    "### Case2: Long experiment time "
   ]
  },
  {
   "cell_type": "code",
   "execution_count": 7,
   "metadata": {},
   "outputs": [
    {
     "name": "stdout",
     "output_type": "stream",
     "text": [
      "Starting experimental run with id: 15. \n",
      "Starting experimental run with id: 16. \n",
      "Starting experimental run with id: 17. \n"
     ]
    },
    {
     "name": "stdout",
     "output_type": "stream",
     "text": [
      "Starting experimental run with id: 18. \n",
      "Starting experimental run with id: 19. \n"
     ]
    },
    {
     "name": "stdout",
     "output_type": "stream",
     "text": [
      "Starting experimental run with id: 20. \n"
     ]
    },
    {
     "name": "stdout",
     "output_type": "stream",
     "text": [
      "Starting experimental run with id: 21. \n"
     ]
    },
    {
     "name": "stdout",
     "output_type": "stream",
     "text": [
      "Starting experimental run with id: 22. \n"
     ]
    },
    {
     "name": "stdout",
     "output_type": "stream",
     "text": [
      "Starting experimental run with id: 23. \n"
     ]
    },
    {
     "name": "stdout",
     "output_type": "stream",
     "text": [
      "Starting experimental run with id: 24. \n"
     ]
    },
    {
     "name": "stdout",
     "output_type": "stream",
     "text": [
      "Starting experimental run with id: 25. \n"
     ]
    },
    {
     "name": "stdout",
     "output_type": "stream",
     "text": [
      "Starting experimental run with id: 26. \n"
     ]
    },
    {
     "name": "stdout",
     "output_type": "stream",
     "text": [
      "Starting experimental run with id: 27. \n"
     ]
    },
    {
     "name": "stdout",
     "output_type": "stream",
     "text": [
      "Starting experimental run with id: 28. \n"
     ]
    }
   ],
   "source": [
    "sizes = [1,500,1000,2000,3000,4000,5000]\n",
    "nreps = 100\n",
    "t_numeric = []\n",
    "t_numeric_add = []\n",
    "t_numeric_run_ids = []\n",
    "t_array = []\n",
    "t_array_add = []\n",
    "t_array_run_ids = []\n",
    "for size in sizes:\n",
    "    tn, tna, run_id_n =  insert_data('numeric', size, nreps=nreps)\n",
    "    t_numeric.append(tn)\n",
    "    t_numeric_add.append(tna)\n",
    "    t_numeric_run_ids.append(run_id_n)\n",
    "\n",
    "    ta, taa, run_id_a =  insert_data('array', size, nreps=nreps)\n",
    "    t_array.append(ta)\n",
    "    t_array_add.append(taa)\n",
    "    t_array_run_ids.append(run_id_a)"
   ]
  },
  {
   "cell_type": "code",
   "execution_count": 8,
   "metadata": {
    "scrolled": true
   },
   "outputs": [
    {
     "data": {
      "image/png": "[encoded data removed]",
      "text/plain": [
       "<Figure size 432x288 with 1 Axes>"
      ]
     },
     "metadata": {
      "needs_background": "light"
     },
     "output_type": "display_data"
    }
   ],
   "source": [
    "fig, ax = plt.subplots(1,1)\n",
    "ax.plot(sizes, t_numeric, 'o-', label='Inserting row-by-row')\n",
    "ax.plot(sizes, t_numeric_add, 'o-', label='Inserting row-by-row: add_result only')\n",
    "ax.plot(sizes, t_array, 'd-', label='Inserting as binary blob')\n",
    "ax.plot(sizes, t_array_add, 'd-', label='Inserting as binary blob: add_result only')\n",
    "ax.legend()\n",
    "ax.set_xlabel('Array length')\n",
    "ax.set_ylabel('Time (s)')\n",
    "fig.tight_layout()"
   ]
  },
  {
   "cell_type": "markdown",
   "metadata": {},
   "source": [
    "However, as we increase the length of the experiment, as seen here by repeating the insertion 100 times, we see a big difference between inserting values of the data row-by-row and inserting it as a binary blob."
   ]
  },
  {
   "cell_type": "markdown",
   "metadata": {},
   "source": [
    "## Loading the data "
   ]
  },
  {
   "cell_type": "code",
   "execution_count": 9,
   "metadata": {},
   "outputs": [],
   "source": [
    "from qcodes.dataset.data_set import load_by_id\n",
    "from qcodes.dataset.data_export import get_data_by_id"
   ]
  },
  {
   "cell_type": "markdown",
   "metadata": {},
   "source": [
    "As usual you can load the data by using the ``load_by_id`` function but you will notice that the different storage methods\n",
    "are reflected in shape of the data as it is retrieved. "
   ]
  },
  {
   "cell_type": "code",
   "execution_count": 10,
   "metadata": {},
   "outputs": [],
   "source": [
    "run_id_n = t_numeric_run_ids[0]\n",
    "run_id_a = t_array_run_ids[0]"
   ]
  },
  {
   "cell_type": "code",
   "execution_count": 11,
   "metadata": {
    "scrolled": true
   },
   "outputs": [
    {
     "data": {
      "text/plain": [
       "{'x1': {'x1': array([0.75991732, 0.75991732, 0.98337511, 0.98337511, 0.43165075,\n",
       "         0.43165075, 0.00979249, 0.00979249, 0.25530916, 0.25530916,\n",
       "         0.02485814, 0.02485814, 0.46684678, 0.46684678, 0.6179662 ,\n",
       "         0.6179662 , 0.80303654, 0.80303654, 0.43304298, 0.43304298,\n",
       "         0.72572599, 0.72572599, 0.31041094, 0.31041094, 0.94282948,\n",
       "         0.94282948, 0.30034211, 0.30034211, 0.30230941, 0.30230941,\n",
       "         0.13716487, 0.13716487, 0.30789388, 0.30789388, 0.95530867,\n",
       "         0.95530867, 0.50822858, 0.50822858, 0.51731623, 0.51731623,\n",
       "         0.14795336, 0.14795336, 0.94860902, 0.94860902, 0.39534663,\n",
       "         0.39534663, 0.08114872, 0.08114872, 0.41203265, 0.41203265,\n",
       "         0.43682388, 0.43682388, 0.73647424, 0.73647424, 0.46706092,\n",
       "         0.46706092, 0.50130867, 0.50130867, 0.77131795, 0.77131795,\n",
       "         0.30771208, 0.30771208, 0.90996782, 0.90996782, 0.8864755 ,\n",
       "         0.8864755 , 0.33434572, 0.33434572, 0.66995578, 0.66995578,\n",
       "         0.34085091, 0.34085091, 0.99115932, 0.99115932, 0.81107325,\n",
       "         0.81107325, 0.7384125 , 0.7384125 , 0.98181778, 0.98181778,\n",
       "         0.32560349, 0.32560349, 0.03648437, 0.03648437, 0.13068058,\n",
       "         0.13068058, 0.56857022, 0.56857022, 0.62002872, 0.62002872,\n",
       "         0.05418165, 0.05418165, 0.11764882, 0.11764882, 0.8924548 ,\n",
       "         0.8924548 , 0.875761  , 0.875761  , 0.44124796, 0.44124796,\n",
       "         0.62501212, 0.62501212, 0.85389359, 0.85389359, 0.19884062,\n",
       "         0.19884062, 0.87607476, 0.87607476, 0.95471192, 0.95471192,\n",
       "         0.58912955, 0.58912955, 0.319153  , 0.319153  , 0.75992634,\n",
       "         0.75992634, 0.15057346, 0.15057346, 0.95548435, 0.95548435,\n",
       "         0.78709467, 0.78709467, 0.25451365, 0.25451365, 0.13605689,\n",
       "         0.13605689, 0.78824171, 0.78824171, 0.58576028, 0.58576028,\n",
       "         0.39695815, 0.39695815, 0.04054999, 0.04054999, 0.57153052,\n",
       "         0.57153052, 0.95918607, 0.95918607, 0.16456599, 0.16456599,\n",
       "         0.42158895, 0.42158895, 0.23941756, 0.23941756, 0.48353314,\n",
       "         0.48353314, 0.31331312, 0.31331312, 0.50941494, 0.50941494,\n",
       "         0.19408322, 0.19408322, 0.04136315, 0.04136315, 0.10018594,\n",
       "         0.10018594, 0.66337869, 0.66337869, 0.34510128, 0.34510128,\n",
       "         0.11712968, 0.11712968, 0.1212551 , 0.1212551 , 0.62499153,\n",
       "         0.62499153, 0.7870639 , 0.7870639 , 0.73018757, 0.73018757,\n",
       "         0.44755092, 0.44755092, 0.89244947, 0.89244947, 0.53119576,\n",
       "         0.53119576, 0.06640792, 0.06640792, 0.05177022, 0.05177022,\n",
       "         0.11126064, 0.11126064, 0.90475913, 0.90475913, 0.65971824,\n",
       "         0.65971824, 0.21994987, 0.21994987, 0.81795253, 0.81795253,\n",
       "         0.54280714, 0.54280714, 0.27635433, 0.27635433, 0.51311406,\n",
       "         0.51311406, 0.60290907, 0.60290907, 0.1376536 , 0.1376536 ])}}"
      ]
     },
     "execution_count": 11,
     "metadata": {},
     "output_type": "execute_result"
    }
   ],
   "source": [
    "ds = load_by_id(run_id_n)\n",
    "ds.get_parameter_data('x1')"
   ]
  },
  {
   "cell_type": "markdown",
   "metadata": {},
   "source": [
    "And a dataset stored as binary arrays"
   ]
  },
  {
   "cell_type": "code",
   "execution_count": 12,
   "metadata": {
    "scrolled": true
   },
   "outputs": [
    {
     "data": {
      "text/plain": [
       "{'x1': {'x1': array([[0.93854581],\n",
       "         [0.93854581],\n",
       "         [0.20707953],\n",
       "         [0.20707953],\n",
       "         [0.47212941],\n",
       "         [0.47212941],\n",
       "         [0.18804352],\n",
       "         [0.18804352],\n",
       "         [0.51094967],\n",
       "         [0.51094967],\n",
       "         [0.4694475 ],\n",
       "         [0.4694475 ],\n",
       "         [0.20466361],\n",
       "         [0.20466361],\n",
       "         [0.3235799 ],\n",
       "         [0.3235799 ],\n",
       "         [0.76762439],\n",
       "         [0.76762439],\n",
       "         [0.86642007],\n",
       "         [0.86642007],\n",
       "         [0.35509324],\n",
       "         [0.35509324],\n",
       "         [0.23679455],\n",
       "         [0.23679455],\n",
       "         [0.83663689],\n",
       "         [0.83663689],\n",
       "         [0.4755571 ],\n",
       "         [0.4755571 ],\n",
       "         [0.2160161 ],\n",
       "         [0.2160161 ],\n",
       "         [0.17674207],\n",
       "         [0.17674207],\n",
       "         [0.39822901],\n",
       "         [0.39822901],\n",
       "         [0.78394361],\n",
       "         [0.78394361],\n",
       "         [0.78547736],\n",
       "         [0.78547736],\n",
       "         [0.13822914],\n",
       "         [0.13822914],\n",
       "         [0.03097498],\n",
       "         [0.03097498],\n",
       "         [0.01189111],\n",
       "         [0.01189111],\n",
       "         [0.49947282],\n",
       "         [0.49947282],\n",
       "         [0.69562985],\n",
       "         [0.69562985],\n",
       "         [0.41493813],\n",
       "         [0.41493813],\n",
       "         [0.15870045],\n",
       "         [0.15870045],\n",
       "         [0.87741217],\n",
       "         [0.87741217],\n",
       "         [0.53807368],\n",
       "         [0.53807368],\n",
       "         [0.16406922],\n",
       "         [0.16406922],\n",
       "         [0.03640487],\n",
       "         [0.03640487],\n",
       "         [0.73940267],\n",
       "         [0.73940267],\n",
       "         [0.62581288],\n",
       "         [0.62581288],\n",
       "         [0.29655552],\n",
       "         [0.29655552],\n",
       "         [0.10380626],\n",
       "         [0.10380626],\n",
       "         [0.58548324],\n",
       "         [0.58548324],\n",
       "         [0.1193284 ],\n",
       "         [0.1193284 ],\n",
       "         [0.05335454],\n",
       "         [0.05335454],\n",
       "         [0.14858858],\n",
       "         [0.14858858],\n",
       "         [0.06884596],\n",
       "         [0.06884596],\n",
       "         [0.87667939],\n",
       "         [0.87667939],\n",
       "         [0.15343055],\n",
       "         [0.15343055],\n",
       "         [0.44048306],\n",
       "         [0.44048306],\n",
       "         [0.20978965],\n",
       "         [0.20978965],\n",
       "         [0.62581679],\n",
       "         [0.62581679],\n",
       "         [0.77688701],\n",
       "         [0.77688701],\n",
       "         [0.26271402],\n",
       "         [0.26271402],\n",
       "         [0.93360196],\n",
       "         [0.93360196],\n",
       "         [0.04718293],\n",
       "         [0.04718293],\n",
       "         [0.71962648],\n",
       "         [0.71962648],\n",
       "         [0.13416468],\n",
       "         [0.13416468],\n",
       "         [0.56439722],\n",
       "         [0.56439722],\n",
       "         [0.05319932],\n",
       "         [0.05319932],\n",
       "         [0.06136179],\n",
       "         [0.06136179],\n",
       "         [0.84225988],\n",
       "         [0.84225988],\n",
       "         [0.12027176],\n",
       "         [0.12027176],\n",
       "         [0.28888163],\n",
       "         [0.28888163],\n",
       "         [0.99887522],\n",
       "         [0.99887522],\n",
       "         [0.57233471],\n",
       "         [0.57233471],\n",
       "         [0.66273763],\n",
       "         [0.66273763],\n",
       "         [0.62908584],\n",
       "         [0.62908584],\n",
       "         [0.99294667],\n",
       "         [0.99294667],\n",
       "         [0.54760778],\n",
       "         [0.54760778],\n",
       "         [0.87008843],\n",
       "         [0.87008843],\n",
       "         [0.2403802 ],\n",
       "         [0.2403802 ],\n",
       "         [0.10392039],\n",
       "         [0.10392039],\n",
       "         [0.74466148],\n",
       "         [0.74466148],\n",
       "         [0.93029084],\n",
       "         [0.93029084],\n",
       "         [0.13050624],\n",
       "         [0.13050624],\n",
       "         [0.70006347],\n",
       "         [0.70006347],\n",
       "         [0.22400219],\n",
       "         [0.22400219],\n",
       "         [0.43033301],\n",
       "         [0.43033301],\n",
       "         [0.25019358],\n",
       "         [0.25019358],\n",
       "         [0.45567227],\n",
       "         [0.45567227],\n",
       "         [0.39491046],\n",
       "         [0.39491046],\n",
       "         [0.17580206],\n",
       "         [0.17580206],\n",
       "         [0.89844124],\n",
       "         [0.89844124],\n",
       "         [0.38702481],\n",
       "         [0.38702481],\n",
       "         [0.54830717],\n",
       "         [0.54830717],\n",
       "         [0.19039055],\n",
       "         [0.19039055],\n",
       "         [0.75147181],\n",
       "         [0.75147181],\n",
       "         [0.47068628],\n",
       "         [0.47068628],\n",
       "         [0.16459914],\n",
       "         [0.16459914],\n",
       "         [0.65950835],\n",
       "         [0.65950835],\n",
       "         [0.62372746],\n",
       "         [0.62372746],\n",
       "         [0.28199502],\n",
       "         [0.28199502],\n",
       "         [0.99648748],\n",
       "         [0.99648748],\n",
       "         [0.5790442 ],\n",
       "         [0.5790442 ],\n",
       "         [0.59086014],\n",
       "         [0.59086014],\n",
       "         [0.12942745],\n",
       "         [0.12942745],\n",
       "         [0.47104453],\n",
       "         [0.47104453],\n",
       "         [0.6352943 ],\n",
       "         [0.6352943 ],\n",
       "         [0.23721031],\n",
       "         [0.23721031],\n",
       "         [0.64608915],\n",
       "         [0.64608915],\n",
       "         [0.39712608],\n",
       "         [0.39712608],\n",
       "         [0.80300161],\n",
       "         [0.80300161],\n",
       "         [0.33255379],\n",
       "         [0.33255379],\n",
       "         [0.77508797],\n",
       "         [0.77508797],\n",
       "         [0.02883412],\n",
       "         [0.02883412],\n",
       "         [0.68609112],\n",
       "         [0.68609112],\n",
       "         [0.61567499],\n",
       "         [0.61567499]])}}"
      ]
     },
     "execution_count": 12,
     "metadata": {},
     "output_type": "execute_result"
    }
   ],
   "source": [
    "ds = load_by_id(run_id_a)\n",
    "ds.get_parameter_data('x1')"
   ]
  },
  {
   "cell_type": "code",
   "execution_count": null,
   "metadata": {},
   "outputs": [],
   "source": []
  }
 ],
 "metadata": {
  "kernelspec": {
   "display_name": "Python 3",
   "language": "python",
   "name": "python3"
  },
  "language_info": {
   "codemirror_mode": {
    "name": "ipython",
    "version": 3
   },
   "file_extension": ".py",
   "mimetype": "text/x-python",
   "name": "python",
   "nbconvert_exporter": "python",
   "pygments_lexer": "ipython3",
   "version": "3.7.7"
  },
  "nbsphinx": {
   "timeout": 600
  },
  "toc": {
   "base_numbering": 1,
   "nav_menu": {},
   "number_sections": true,
   "sideBar": true,
   "skip_h1_title": false,
   "title_cell": "Table of Contents",
   "title_sidebar": "Contents",
   "toc_cell": false,
   "toc_position": {},
   "toc_section_display": true,
   "toc_window_display": false
  },
  "varInspector": {
   "cols": {
    "lenName": 16,
    "lenType": 16,
    "lenVar": 40
   },
   "kernels_config": {
    "python": {
     "delete_cmd_postfix": "",
     "delete_cmd_prefix": "del ",
     "library": "var_list.py",
     "varRefreshCmd": "print(var_dic_list())"
    },
    "r": {
     "delete_cmd_postfix": ") ",
     "delete_cmd_prefix": "rm(",
     "library": "var_list.r",
     "varRefreshCmd": "cat(var_dic_list()) "
    }
   },
   "types_to_exclude": [
    "module",
    "function",
    "builtin_function_or_method",
    "instance",
    "_Feature"
   ],
   "window_display": false
  }
 },
 "nbformat": 4,
 "nbformat_minor": 2
}
