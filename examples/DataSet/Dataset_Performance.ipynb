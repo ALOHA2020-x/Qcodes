{
 "cells": [
  {
   "cell_type": "markdown",
   "metadata": {},
   "source": [
    "# DataSet Performance\n",
    "\n",
    "This notebook shows the trade-off between inserting data into a database row-by-row and as binary blobs. Inserting the data row-by-row means that we have direct access to all the data and may perform queries directly on the values of the data. On the other hand, as we shall see, this is much slower than inserting the data directly as binary blobs."
   ]
  },
  {
   "cell_type": "markdown",
   "metadata": {},
   "source": [
    "First, we choose a new location for the database to ensure that we don't add a bunch of benchmarking data to the default one."
   ]
  },
  {
   "cell_type": "code",
   "execution_count": 1,
   "metadata": {
    "execution": {
     "iopub.execute_input": "2021-01-31T15:30:22.240761Z",
     "iopub.status.busy": "2021-01-31T15:30:22.239820Z",
     "iopub.status.idle": "2021-01-31T15:30:23.269985Z",
     "shell.execute_reply": "2021-01-31T15:30:23.269441Z"
    }
   },
   "outputs": [
    {
     "name": "stdout",
     "output_type": "stream",
     "text": [
      "Logging hadn't been started.\n",
      "Activating auto-logging. Current session state plus future input saved.\n",
      "Filename       : /home/vsts/.qcodes/logs/command_history.log\n",
      "Mode           : append\n",
      "Output logging : True\n",
      "Raw input log  : False\n",
      "Timestamping   : True\n",
      "State          : active\n"
     ]
    },
    {
     "name": "stdout",
     "output_type": "stream",
     "text": [
      "Qcodes Logfile : /home/vsts/.qcodes/logs/210131-14071-qcodes.log\n"
     ]
    }
   ],
   "source": [
    "import os\n",
    "cwd = os.getcwd()\n",
    "import qcodes as qc\n",
    "qc.config[\"core\"][\"db_location\"] = os.path.join(cwd, 'testing.db')\n"
   ]
  },
  {
   "cell_type": "code",
   "execution_count": 2,
   "metadata": {
    "execution": {
     "iopub.execute_input": "2021-01-31T15:30:23.276121Z",
     "iopub.status.busy": "2021-01-31T15:30:23.275561Z",
     "iopub.status.idle": "2021-01-31T15:30:23.465308Z",
     "shell.execute_reply": "2021-01-31T15:30:23.466057Z"
    }
   },
   "outputs": [],
   "source": [
    "%matplotlib inline\n",
    "import time\n",
    "import matplotlib.pyplot as plt\n",
    "import numpy as np\n",
    "\n",
    "import qcodes as qc\n",
    "from qcodes.instrument.parameter import ManualParameter\n",
    "from qcodes.dataset.experiment_container import (Experiment,\n",
    "                                                 load_last_experiment,\n",
    "                                                 new_experiment)\n",
    "from qcodes.dataset.sqlite.database import initialise_database\n",
    "from qcodes import load_or_create_experiment\n",
    "from qcodes.dataset.measurements import Measurement"
   ]
  },
  {
   "cell_type": "code",
   "execution_count": 3,
   "metadata": {
    "execution": {
     "iopub.execute_input": "2021-01-31T15:30:23.471274Z",
     "iopub.status.busy": "2021-01-31T15:30:23.470534Z",
     "iopub.status.idle": "2021-01-31T15:30:23.585341Z",
     "shell.execute_reply": "2021-01-31T15:30:23.584872Z"
    }
   },
   "outputs": [
    {
     "name": "stdout",
     "output_type": "stream",
     "text": [
      "\r",
      "0it [00:00, ?it/s]"
     ]
    },
    {
     "name": "stdout",
     "output_type": "stream",
     "text": [
      "\r",
      "Upgrading database; v0 -> v1: : 0it [00:00, ?it/s]"
     ]
    },
    {
     "name": "stdout",
     "output_type": "stream",
     "text": [
      "\r",
      "Upgrading database; v0 -> v1: : 0it [00:00, ?it/s]"
     ]
    },
    {
     "name": "stdout",
     "output_type": "stream",
     "text": [
      "\n",
      "\r",
      "  0%|          | 0/1 [00:00<?, ?it/s]"
     ]
    },
    {
     "name": "stdout",
     "output_type": "stream",
     "text": [
      "\r",
      "Upgrading database; v1 -> v2:   0%|          | 0/1 [00:00<?, ?it/s]"
     ]
    },
    {
     "name": "stdout",
     "output_type": "stream",
     "text": [
      "\r",
      "Upgrading database; v1 -> v2: 100%|██████████| 1/1 [00:00<00:00, 896.79it/s]"
     ]
    },
    {
     "name": "stdout",
     "output_type": "stream",
     "text": [
      "\n",
      "\r",
      "0it [00:00, ?it/s]"
     ]
    },
    {
     "name": "stdout",
     "output_type": "stream",
     "text": [
      "\r",
      "Upgrading database; v2 -> v3: : 0it [00:00, ?it/s]"
     ]
    },
    {
     "name": "stdout",
     "output_type": "stream",
     "text": [
      "\r",
      "Upgrading database; v2 -> v3: : 0it [00:00, ?it/s]"
     ]
    },
    {
     "name": "stdout",
     "output_type": "stream",
     "text": [
      "\n",
      "\r",
      "0it [00:00, ?it/s]"
     ]
    },
    {
     "name": "stdout",
     "output_type": "stream",
     "text": [
      "\r",
      "Upgrading database; v3 -> v4: : 0it [00:00, ?it/s]"
     ]
    },
    {
     "name": "stdout",
     "output_type": "stream",
     "text": [
      "\r",
      "Upgrading database; v3 -> v4: : 0it [00:00, ?it/s]"
     ]
    },
    {
     "name": "stdout",
     "output_type": "stream",
     "text": [
      "\n",
      "\r",
      "  0%|          | 0/1 [00:00<?, ?it/s]"
     ]
    },
    {
     "name": "stdout",
     "output_type": "stream",
     "text": [
      "\r",
      "Upgrading database; v4 -> v5:   0%|          | 0/1 [00:00<?, ?it/s]"
     ]
    },
    {
     "name": "stdout",
     "output_type": "stream",
     "text": [
      "\r",
      "Upgrading database; v4 -> v5: 100%|██████████| 1/1 [00:00<00:00, 567.49it/s]"
     ]
    },
    {
     "name": "stdout",
     "output_type": "stream",
     "text": [
      "\n",
      "\r",
      "0it [00:00, ?it/s]"
     ]
    },
    {
     "name": "stdout",
     "output_type": "stream",
     "text": [
      "\r",
      "Upgrading database; v5 -> v6: : 0it [00:00, ?it/s]"
     ]
    },
    {
     "name": "stdout",
     "output_type": "stream",
     "text": [
      "\r",
      "Upgrading database; v5 -> v6: : 0it [00:00, ?it/s]"
     ]
    },
    {
     "name": "stdout",
     "output_type": "stream",
     "text": [
      "\n",
      "\r",
      "  0%|          | 0/1 [00:00<?, ?it/s]"
     ]
    },
    {
     "name": "stdout",
     "output_type": "stream",
     "text": [
      "\r",
      "Upgrading database; v6 -> v7:   0%|          | 0/1 [00:00<?, ?it/s]"
     ]
    },
    {
     "name": "stdout",
     "output_type": "stream",
     "text": [
      "\r",
      "Upgrading database; v6 -> v7: 100%|██████████| 1/1 [00:00<00:00, 304.80it/s]"
     ]
    },
    {
     "name": "stdout",
     "output_type": "stream",
     "text": [
      "\n",
      "\r",
      "  0%|          | 0/1 [00:00<?, ?it/s]"
     ]
    },
    {
     "name": "stdout",
     "output_type": "stream",
     "text": [
      "\r",
      "Upgrading database; v7 -> v8:   0%|          | 0/1 [00:00<?, ?it/s]"
     ]
    },
    {
     "name": "stdout",
     "output_type": "stream",
     "text": [
      "\r",
      "Upgrading database; v7 -> v8: 100%|██████████| 1/1 [00:00<00:00, 437.86it/s]"
     ]
    },
    {
     "name": "stdout",
     "output_type": "stream",
     "text": [
      "\n",
      "\r",
      "  0%|          | 0/1 [00:00<?, ?it/s]"
     ]
    },
    {
     "name": "stdout",
     "output_type": "stream",
     "text": [
      "\r",
      "Upgrading database; v8 -> v9:   0%|          | 0/1 [00:00<?, ?it/s]"
     ]
    },
    {
     "name": "stdout",
     "output_type": "stream",
     "text": [
      "\r",
      "Upgrading database; v8 -> v9: 100%|██████████| 1/1 [00:00<00:00, 999.83it/s]"
     ]
    },
    {
     "name": "stdout",
     "output_type": "stream",
     "text": [
      "\n"
     ]
    }
   ],
   "source": [
    "initialise_database()\n",
    "exp = load_or_create_experiment(experiment_name='tutorial_exp', sample_name=\"no sample\")"
   ]
  },
  {
   "cell_type": "markdown",
   "metadata": {},
   "source": [
    "Here, we define a simple function to benchmark the time it takes to insert n points with either numeric or array data type.\n",
    "We will compare both the time used to call ``add_result`` and the time used for the full measurement."
   ]
  },
  {
   "cell_type": "code",
   "execution_count": 4,
   "metadata": {
    "execution": {
     "iopub.execute_input": "2021-01-31T15:30:23.594723Z",
     "iopub.status.busy": "2021-01-31T15:30:23.593501Z",
     "iopub.status.idle": "2021-01-31T15:30:23.595365Z",
     "shell.execute_reply": "2021-01-31T15:30:23.595836Z"
    }
   },
   "outputs": [],
   "source": [
    "def insert_data(paramtype, npoints, nreps=1):\n",
    "\n",
    "    meas = Measurement(exp=exp)\n",
    "\n",
    "    x1 = ManualParameter('x1')\n",
    "    x2 = ManualParameter('x2')\n",
    "    x3 = ManualParameter('x3')\n",
    "    y1 = ManualParameter('y1')\n",
    "    y2 = ManualParameter('y2')\n",
    "\n",
    "    meas.register_parameter(x1, paramtype=paramtype)\n",
    "    meas.register_parameter(x2, paramtype=paramtype)\n",
    "    meas.register_parameter(x3, paramtype=paramtype)\n",
    "    meas.register_parameter(y1, setpoints=[x1, x2, x3],\n",
    "                            paramtype=paramtype)\n",
    "    meas.register_parameter(y2, setpoints=[x1, x2, x3],\n",
    "                            paramtype=paramtype)\n",
    "    start = time.perf_counter()\n",
    "    with meas.run() as datasaver:\n",
    "        start_adding = time.perf_counter()\n",
    "        for i in range(nreps):\n",
    "            datasaver.add_result((x1, np.random.rand(npoints)),\n",
    "                                 (x2, np.random.rand(npoints)),\n",
    "                                 (x3, np.random.rand(npoints)),\n",
    "                                 (y1, np.random.rand(npoints)),\n",
    "                                 (y2, np.random.rand(npoints)))\n",
    "        stop_adding = time.perf_counter()\n",
    "        run_id = datasaver.run_id\n",
    "    stop = time.perf_counter()\n",
    "    tot_time = stop - start\n",
    "    add_time = stop_adding - start_adding\n",
    "    return tot_time, add_time, run_id"
   ]
  },
  {
   "cell_type": "markdown",
   "metadata": {},
   "source": [
    "## Comparison between numeric/array data and binary blob"
   ]
  },
  {
   "cell_type": "markdown",
   "metadata": {},
   "source": [
    "### Case1: Short experiment time"
   ]
  },
  {
   "cell_type": "code",
   "execution_count": 5,
   "metadata": {
    "execution": {
     "iopub.execute_input": "2021-01-31T15:30:23.602107Z",
     "iopub.status.busy": "2021-01-31T15:30:23.600895Z",
     "iopub.status.idle": "2021-01-31T15:30:24.449650Z",
     "shell.execute_reply": "2021-01-31T15:30:24.449147Z"
    }
   },
   "outputs": [
    {
     "name": "stdout",
     "output_type": "stream",
     "text": [
      "Starting experimental run with id: 1. \n",
      "Starting experimental run with id: 2. \n",
      "Starting experimental run with id: 3. \n",
      "Starting experimental run with id: 4. \n",
      "Starting experimental run with id: 5. \n"
     ]
    },
    {
     "name": "stdout",
     "output_type": "stream",
     "text": [
      "Starting experimental run with id: 6. \n"
     ]
    },
    {
     "name": "stdout",
     "output_type": "stream",
     "text": [
      "Starting experimental run with id: 7. \n"
     ]
    },
    {
     "name": "stdout",
     "output_type": "stream",
     "text": [
      "Starting experimental run with id: 8. \n",
      "Starting experimental run with id: 9. \n"
     ]
    },
    {
     "name": "stdout",
     "output_type": "stream",
     "text": [
      "Starting experimental run with id: 10. \n",
      "Starting experimental run with id: 11. \n"
     ]
    },
    {
     "name": "stdout",
     "output_type": "stream",
     "text": [
      "Starting experimental run with id: 12. \n",
      "Starting experimental run with id: 13. \n"
     ]
    },
    {
     "name": "stdout",
     "output_type": "stream",
     "text": [
      "Starting experimental run with id: 14. \n"
     ]
    }
   ],
   "source": [
    "sizes = [1,500,1000,2000,3000,4000,5000]\n",
    "t_numeric = []\n",
    "t_numeric_add = []\n",
    "t_array = []\n",
    "t_array_add = []\n",
    "for size in sizes:\n",
    "    tn, tna, run_id_n =  insert_data('numeric', size)\n",
    "    t_numeric.append(tn)\n",
    "    t_numeric_add.append(tna)\n",
    "\n",
    "    ta, taa, run_id_a =  insert_data('array', size)\n",
    "    t_array.append(ta)\n",
    "    t_array_add.append(taa)"
   ]
  },
  {
   "cell_type": "code",
   "execution_count": 6,
   "metadata": {
    "execution": {
     "iopub.execute_input": "2021-01-31T15:30:24.492658Z",
     "iopub.status.busy": "2021-01-31T15:30:24.479969Z",
     "iopub.status.idle": "2021-01-31T15:30:24.648199Z",
     "shell.execute_reply": "2021-01-31T15:30:24.648632Z"
    }
   },
   "outputs": [
    {
     "data": {
      "image/png": "[encoded data removed]",
      "text/plain": [
       "<Figure size 432x288 with 1 Axes>"
      ]
     },
     "metadata": {
      "needs_background": "light"
     },
     "output_type": "display_data"
    }
   ],
   "source": [
    "fig, ax = plt.subplots(1,1)\n",
    "ax.plot(sizes, t_numeric, 'o-', label='Inserting row-by-row')\n",
    "ax.plot(sizes, t_numeric_add, 'o-', label='Inserting row-by-row: add_result only')\n",
    "ax.plot(sizes, t_array, 'd-', label='Inserting as binary blob')\n",
    "ax.plot(sizes, t_array_add, 'd-', label='Inserting as binary blob: add_result only')\n",
    "ax.legend()\n",
    "ax.set_xlabel('Array length')\n",
    "ax.set_ylabel('Time (s)')\n",
    "fig.tight_layout()"
   ]
  },
  {
   "cell_type": "markdown",
   "metadata": {},
   "source": [
    "As shown in the latter figure, the time to setup and and close the experiment is approximately 0.4 sec. In case of small array sizes, the difference between inserting values of data as arrays and inserting them row-by-row is relatively unimportant. At larger array sizes, i.e. above 10000 points, the cost of writing data as individual datapoints starts to become important.\n"
   ]
  },
  {
   "cell_type": "markdown",
   "metadata": {},
   "source": [
    "### Case2: Long experiment time "
   ]
  },
  {
   "cell_type": "code",
   "execution_count": 7,
   "metadata": {
    "execution": {
     "iopub.execute_input": "2021-01-31T15:30:24.651242Z",
     "iopub.status.busy": "2021-01-31T15:30:24.650757Z",
     "iopub.status.idle": "2021-01-31T15:31:24.134744Z",
     "shell.execute_reply": "2021-01-31T15:31:24.133383Z"
    }
   },
   "outputs": [
    {
     "name": "stdout",
     "output_type": "stream",
     "text": [
      "Starting experimental run with id: 15. \n",
      "Starting experimental run with id: 16. \n",
      "Starting experimental run with id: 17. \n"
     ]
    },
    {
     "name": "stdout",
     "output_type": "stream",
     "text": [
      "Starting experimental run with id: 18. \n",
      "Starting experimental run with id: 19. \n"
     ]
    },
    {
     "name": "stdout",
     "output_type": "stream",
     "text": [
      "Starting experimental run with id: 20. \n"
     ]
    },
    {
     "name": "stdout",
     "output_type": "stream",
     "text": [
      "Starting experimental run with id: 21. \n"
     ]
    },
    {
     "name": "stdout",
     "output_type": "stream",
     "text": [
      "Starting experimental run with id: 22. \n"
     ]
    },
    {
     "name": "stdout",
     "output_type": "stream",
     "text": [
      "Starting experimental run with id: 23. \n"
     ]
    },
    {
     "name": "stdout",
     "output_type": "stream",
     "text": [
      "Starting experimental run with id: 24. \n"
     ]
    },
    {
     "name": "stdout",
     "output_type": "stream",
     "text": [
      "Starting experimental run with id: 25. \n"
     ]
    },
    {
     "name": "stdout",
     "output_type": "stream",
     "text": [
      "Starting experimental run with id: 26. \n"
     ]
    },
    {
     "name": "stdout",
     "output_type": "stream",
     "text": [
      "Starting experimental run with id: 27. \n"
     ]
    },
    {
     "name": "stdout",
     "output_type": "stream",
     "text": [
      "Starting experimental run with id: 28. \n"
     ]
    }
   ],
   "source": [
    "sizes = [1,500,1000,2000,3000,4000,5000]\n",
    "nreps = 100\n",
    "t_numeric = []\n",
    "t_numeric_add = []\n",
    "t_numeric_run_ids = []\n",
    "t_array = []\n",
    "t_array_add = []\n",
    "t_array_run_ids = []\n",
    "for size in sizes:\n",
    "    tn, tna, run_id_n =  insert_data('numeric', size, nreps=nreps)\n",
    "    t_numeric.append(tn)\n",
    "    t_numeric_add.append(tna)\n",
    "    t_numeric_run_ids.append(run_id_n)\n",
    "\n",
    "    ta, taa, run_id_a =  insert_data('array', size, nreps=nreps)\n",
    "    t_array.append(ta)\n",
    "    t_array_add.append(taa)\n",
    "    t_array_run_ids.append(run_id_a)"
   ]
  },
  {
   "cell_type": "code",
   "execution_count": 8,
   "metadata": {
    "execution": {
     "iopub.execute_input": "2021-01-31T15:31:24.173402Z",
     "iopub.status.busy": "2021-01-31T15:31:24.152204Z",
     "iopub.status.idle": "2021-01-31T15:31:24.334943Z",
     "shell.execute_reply": "2021-01-31T15:31:24.335739Z"
    },
    "scrolled": true
   },
   "outputs": [
    {
     "data": {
      "image/png": "[encoded data removed]",
      "text/plain": [
       "<Figure size 432x288 with 1 Axes>"
      ]
     },
     "metadata": {
      "needs_background": "light"
     },
     "output_type": "display_data"
    }
   ],
   "source": [
    "fig, ax = plt.subplots(1,1)\n",
    "ax.plot(sizes, t_numeric, 'o-', label='Inserting row-by-row')\n",
    "ax.plot(sizes, t_numeric_add, 'o-', label='Inserting row-by-row: add_result only')\n",
    "ax.plot(sizes, t_array, 'd-', label='Inserting as binary blob')\n",
    "ax.plot(sizes, t_array_add, 'd-', label='Inserting as binary blob: add_result only')\n",
    "ax.legend()\n",
    "ax.set_xlabel('Array length')\n",
    "ax.set_ylabel('Time (s)')\n",
    "fig.tight_layout()"
   ]
  },
  {
   "cell_type": "markdown",
   "metadata": {},
   "source": [
    "However, as we increase the length of the experiment, as seen here by repeating the insertion 100 times, we see a big difference between inserting values of the data row-by-row and inserting it as a binary blob."
   ]
  },
  {
   "cell_type": "markdown",
   "metadata": {},
   "source": [
    "## Loading the data "
   ]
  },
  {
   "cell_type": "code",
   "execution_count": 9,
   "metadata": {
    "execution": {
     "iopub.execute_input": "2021-01-31T15:31:24.339865Z",
     "iopub.status.busy": "2021-01-31T15:31:24.338148Z",
     "iopub.status.idle": "2021-01-31T15:31:24.343598Z",
     "shell.execute_reply": "2021-01-31T15:31:24.344170Z"
    }
   },
   "outputs": [],
   "source": [
    "from qcodes.dataset.data_set import load_by_id\n",
    "from qcodes.dataset.data_export import get_data_by_id"
   ]
  },
  {
   "cell_type": "markdown",
   "metadata": {},
   "source": [
    "As usual you can load the data by using the ``load_by_id`` function but you will notice that the different storage methods\n",
    "are reflected in shape of the data as it is retrieved. "
   ]
  },
  {
   "cell_type": "code",
   "execution_count": 10,
   "metadata": {
    "execution": {
     "iopub.execute_input": "2021-01-31T15:31:24.348678Z",
     "iopub.status.busy": "2021-01-31T15:31:24.347489Z",
     "iopub.status.idle": "2021-01-31T15:31:24.349295Z",
     "shell.execute_reply": "2021-01-31T15:31:24.349731Z"
    }
   },
   "outputs": [],
   "source": [
    "run_id_n = t_numeric_run_ids[0]\n",
    "run_id_a = t_array_run_ids[0]"
   ]
  },
  {
   "cell_type": "code",
   "execution_count": 11,
   "metadata": {
    "execution": {
     "iopub.execute_input": "2021-01-31T15:31:24.352980Z",
     "iopub.status.busy": "2021-01-31T15:31:24.352461Z",
     "iopub.status.idle": "2021-01-31T15:31:24.361474Z",
     "shell.execute_reply": "2021-01-31T15:31:24.361882Z"
    },
    "scrolled": true
   },
   "outputs": [
    {
     "data": {
      "text/plain": [
       "{'x1': {'x1': array([0.80473646, 0.80473646, 0.03302374, 0.03302374, 0.07979686,\n",
       "         0.07979686, 0.56776382, 0.56776382, 0.83055942, 0.83055942,\n",
       "         0.8404127 , 0.8404127 , 0.5769672 , 0.5769672 , 0.26778686,\n",
       "         0.26778686, 0.55544118, 0.55544118, 0.45412124, 0.45412124,\n",
       "         0.16225954, 0.16225954, 0.19093542, 0.19093542, 0.88141663,\n",
       "         0.88141663, 0.86069268, 0.86069268, 0.28860721, 0.28860721,\n",
       "         0.10341734, 0.10341734, 0.40974555, 0.40974555, 0.93927968,\n",
       "         0.93927968, 0.56100601, 0.56100601, 0.80037665, 0.80037665,\n",
       "         0.09764203, 0.09764203, 0.05379431, 0.05379431, 0.47123351,\n",
       "         0.47123351, 0.74064752, 0.74064752, 0.21183012, 0.21183012,\n",
       "         0.28056351, 0.28056351, 0.72185208, 0.72185208, 0.14491671,\n",
       "         0.14491671, 0.02768261, 0.02768261, 0.85773769, 0.85773769,\n",
       "         0.31944295, 0.31944295, 0.4724758 , 0.4724758 , 0.28026795,\n",
       "         0.28026795, 0.24854164, 0.24854164, 0.51154159, 0.51154159,\n",
       "         0.52500771, 0.52500771, 0.99612861, 0.99612861, 0.37742877,\n",
       "         0.37742877, 0.96585816, 0.96585816, 0.34000574, 0.34000574,\n",
       "         0.39010602, 0.39010602, 0.61341807, 0.61341807, 0.73458254,\n",
       "         0.73458254, 0.9451391 , 0.9451391 , 0.85134704, 0.85134704,\n",
       "         0.86432655, 0.86432655, 0.87643855, 0.87643855, 0.46721697,\n",
       "         0.46721697, 0.05770045, 0.05770045, 0.07818437, 0.07818437,\n",
       "         0.47899181, 0.47899181, 0.57362914, 0.57362914, 0.86165009,\n",
       "         0.86165009, 0.07569465, 0.07569465, 0.19191118, 0.19191118,\n",
       "         0.69249215, 0.69249215, 0.53440969, 0.53440969, 0.00285577,\n",
       "         0.00285577, 0.65704965, 0.65704965, 0.45123758, 0.45123758,\n",
       "         0.33191884, 0.33191884, 0.46924973, 0.46924973, 0.52075302,\n",
       "         0.52075302, 0.77979591, 0.77979591, 0.67499884, 0.67499884,\n",
       "         0.91954442, 0.91954442, 0.93305205, 0.93305205, 0.34218974,\n",
       "         0.34218974, 0.55187921, 0.55187921, 0.66041238, 0.66041238,\n",
       "         0.62750728, 0.62750728, 0.41422041, 0.41422041, 0.91080444,\n",
       "         0.91080444, 0.8673254 , 0.8673254 , 0.19614829, 0.19614829,\n",
       "         0.86719685, 0.86719685, 0.61258462, 0.61258462, 0.65107377,\n",
       "         0.65107377, 0.38948957, 0.38948957, 0.47153653, 0.47153653,\n",
       "         0.33870386, 0.33870386, 0.81740008, 0.81740008, 0.4011763 ,\n",
       "         0.4011763 , 0.22833121, 0.22833121, 0.32076366, 0.32076366,\n",
       "         0.90689029, 0.90689029, 0.89255753, 0.89255753, 0.09353596,\n",
       "         0.09353596, 0.66204488, 0.66204488, 0.37302452, 0.37302452,\n",
       "         0.70023873, 0.70023873, 0.08687556, 0.08687556, 0.40608876,\n",
       "         0.40608876, 0.28712315, 0.28712315, 0.51455994, 0.51455994,\n",
       "         0.10128464, 0.10128464, 0.10655332, 0.10655332, 0.46063016,\n",
       "         0.46063016, 0.48583102, 0.48583102, 0.22131607, 0.22131607])}}"
      ]
     },
     "execution_count": 1,
     "metadata": {},
     "output_type": "execute_result"
    }
   ],
   "source": [
    "ds = load_by_id(run_id_n)\n",
    "ds.get_parameter_data('x1')"
   ]
  },
  {
   "cell_type": "markdown",
   "metadata": {},
   "source": [
    "And a dataset stored as binary arrays"
   ]
  },
  {
   "cell_type": "code",
   "execution_count": 12,
   "metadata": {
    "execution": {
     "iopub.execute_input": "2021-01-31T15:31:24.365196Z",
     "iopub.status.busy": "2021-01-31T15:31:24.364680Z",
     "iopub.status.idle": "2021-01-31T15:31:24.418973Z",
     "shell.execute_reply": "2021-01-31T15:31:24.419484Z"
    },
    "scrolled": true
   },
   "outputs": [
    {
     "data": {
      "text/plain": [
       "{'x1': {'x1': array([[0.06136176],\n",
       "         [0.06136176],\n",
       "         [0.95921687],\n",
       "         [0.95921687],\n",
       "         [0.11078106],\n",
       "         [0.11078106],\n",
       "         [0.29355438],\n",
       "         [0.29355438],\n",
       "         [0.28903115],\n",
       "         [0.28903115],\n",
       "         [0.50914161],\n",
       "         [0.50914161],\n",
       "         [0.63539821],\n",
       "         [0.63539821],\n",
       "         [0.87059876],\n",
       "         [0.87059876],\n",
       "         [0.73475333],\n",
       "         [0.73475333],\n",
       "         [0.89325397],\n",
       "         [0.89325397],\n",
       "         [0.27391597],\n",
       "         [0.27391597],\n",
       "         [0.97155981],\n",
       "         [0.97155981],\n",
       "         [0.47767144],\n",
       "         [0.47767144],\n",
       "         [0.688315  ],\n",
       "         [0.688315  ],\n",
       "         [0.50668928],\n",
       "         [0.50668928],\n",
       "         [0.88851513],\n",
       "         [0.88851513],\n",
       "         [0.38959388],\n",
       "         [0.38959388],\n",
       "         [0.03753805],\n",
       "         [0.03753805],\n",
       "         [0.35025318],\n",
       "         [0.35025318],\n",
       "         [0.13716972],\n",
       "         [0.13716972],\n",
       "         [0.36301885],\n",
       "         [0.36301885],\n",
       "         [0.86139174],\n",
       "         [0.86139174],\n",
       "         [0.57589729],\n",
       "         [0.57589729],\n",
       "         [0.14567258],\n",
       "         [0.14567258],\n",
       "         [0.59224637],\n",
       "         [0.59224637],\n",
       "         [0.48337185],\n",
       "         [0.48337185],\n",
       "         [0.59895099],\n",
       "         [0.59895099],\n",
       "         [0.98386704],\n",
       "         [0.98386704],\n",
       "         [0.11396198],\n",
       "         [0.11396198],\n",
       "         [0.72860658],\n",
       "         [0.72860658],\n",
       "         [0.13752914],\n",
       "         [0.13752914],\n",
       "         [0.96843696],\n",
       "         [0.96843696],\n",
       "         [0.56668659],\n",
       "         [0.56668659],\n",
       "         [0.64794965],\n",
       "         [0.64794965],\n",
       "         [0.91827227],\n",
       "         [0.91827227],\n",
       "         [0.86803556],\n",
       "         [0.86803556],\n",
       "         [0.80691153],\n",
       "         [0.80691153],\n",
       "         [0.76262986],\n",
       "         [0.76262986],\n",
       "         [0.05359044],\n",
       "         [0.05359044],\n",
       "         [0.16763387],\n",
       "         [0.16763387],\n",
       "         [0.19050947],\n",
       "         [0.19050947],\n",
       "         [0.78889475],\n",
       "         [0.78889475],\n",
       "         [0.65737265],\n",
       "         [0.65737265],\n",
       "         [0.99112881],\n",
       "         [0.99112881],\n",
       "         [0.41068476],\n",
       "         [0.41068476],\n",
       "         [0.26280024],\n",
       "         [0.26280024],\n",
       "         [0.69193926],\n",
       "         [0.69193926],\n",
       "         [0.24810178],\n",
       "         [0.24810178],\n",
       "         [0.7563414 ],\n",
       "         [0.7563414 ],\n",
       "         [0.99397699],\n",
       "         [0.99397699],\n",
       "         [0.89103892],\n",
       "         [0.89103892],\n",
       "         [0.65882814],\n",
       "         [0.65882814],\n",
       "         [0.6571184 ],\n",
       "         [0.6571184 ],\n",
       "         [0.18098845],\n",
       "         [0.18098845],\n",
       "         [0.82014071],\n",
       "         [0.82014071],\n",
       "         [0.93849614],\n",
       "         [0.93849614],\n",
       "         [0.02330871],\n",
       "         [0.02330871],\n",
       "         [0.40230266],\n",
       "         [0.40230266],\n",
       "         [0.68586224],\n",
       "         [0.68586224],\n",
       "         [0.91184533],\n",
       "         [0.91184533],\n",
       "         [0.55064879],\n",
       "         [0.55064879],\n",
       "         [0.2816372 ],\n",
       "         [0.2816372 ],\n",
       "         [0.80714412],\n",
       "         [0.80714412],\n",
       "         [0.02492032],\n",
       "         [0.02492032],\n",
       "         [0.53915914],\n",
       "         [0.53915914],\n",
       "         [0.3867828 ],\n",
       "         [0.3867828 ],\n",
       "         [0.87655182],\n",
       "         [0.87655182],\n",
       "         [0.41699803],\n",
       "         [0.41699803],\n",
       "         [0.62540876],\n",
       "         [0.62540876],\n",
       "         [0.49890456],\n",
       "         [0.49890456],\n",
       "         [0.00187099],\n",
       "         [0.00187099],\n",
       "         [0.5936906 ],\n",
       "         [0.5936906 ],\n",
       "         [0.82892562],\n",
       "         [0.82892562],\n",
       "         [0.02533719],\n",
       "         [0.02533719],\n",
       "         [0.28812229],\n",
       "         [0.28812229],\n",
       "         [0.48375188],\n",
       "         [0.48375188],\n",
       "         [0.62674988],\n",
       "         [0.62674988],\n",
       "         [0.59828234],\n",
       "         [0.59828234],\n",
       "         [0.47584777],\n",
       "         [0.47584777],\n",
       "         [0.41615905],\n",
       "         [0.41615905],\n",
       "         [0.93868566],\n",
       "         [0.93868566],\n",
       "         [0.18072908],\n",
       "         [0.18072908],\n",
       "         [0.20010551],\n",
       "         [0.20010551],\n",
       "         [0.12372088],\n",
       "         [0.12372088],\n",
       "         [0.73135299],\n",
       "         [0.73135299],\n",
       "         [0.26731033],\n",
       "         [0.26731033],\n",
       "         [0.98672627],\n",
       "         [0.98672627],\n",
       "         [0.40115832],\n",
       "         [0.40115832],\n",
       "         [0.46058034],\n",
       "         [0.46058034],\n",
       "         [0.19377188],\n",
       "         [0.19377188],\n",
       "         [0.89951342],\n",
       "         [0.89951342],\n",
       "         [0.79921541],\n",
       "         [0.79921541],\n",
       "         [0.70612061],\n",
       "         [0.70612061],\n",
       "         [0.58361855],\n",
       "         [0.58361855],\n",
       "         [0.61373023],\n",
       "         [0.61373023],\n",
       "         [0.1633297 ],\n",
       "         [0.1633297 ],\n",
       "         [0.3891871 ],\n",
       "         [0.3891871 ],\n",
       "         [0.43297873],\n",
       "         [0.43297873],\n",
       "         [0.2512652 ],\n",
       "         [0.2512652 ],\n",
       "         [0.80061699],\n",
       "         [0.80061699]])}}"
      ]
     },
     "execution_count": 1,
     "metadata": {},
     "output_type": "execute_result"
    }
   ],
   "source": [
    "ds = load_by_id(run_id_a)\n",
    "ds.get_parameter_data('x1')"
   ]
  },
  {
   "cell_type": "code",
   "execution_count": null,
   "metadata": {},
   "outputs": [],
   "source": []
  }
 ],
 "metadata": {
  "kernelspec": {
   "display_name": "Python 3",
   "language": "python",
   "name": "python3"
  },
  "language_info": {
   "codemirror_mode": {
    "name": "ipython",
    "version": 3
   },
   "file_extension": ".py",
   "mimetype": "text/x-python",
   "name": "python",
   "nbconvert_exporter": "python",
   "pygments_lexer": "ipython3",
   "version": "3.7.9"
  },
  "nbsphinx": {
   "timeout": 600
  },
  "toc": {
   "base_numbering": 1,
   "nav_menu": {},
   "number_sections": true,
   "sideBar": true,
   "skip_h1_title": false,
   "title_cell": "Table of Contents",
   "title_sidebar": "Contents",
   "toc_cell": false,
   "toc_position": {},
   "toc_section_display": true,
   "toc_window_display": false
  },
  "varInspector": {
   "cols": {
    "lenName": 16,
    "lenType": 16,
    "lenVar": 40
   },
   "kernels_config": {
    "python": {
     "delete_cmd_postfix": "",
     "delete_cmd_prefix": "del ",
     "library": "var_list.py",
     "varRefreshCmd": "print(var_dic_list())"
    },
    "r": {
     "delete_cmd_postfix": ") ",
     "delete_cmd_prefix": "rm(",
     "library": "var_list.r",
     "varRefreshCmd": "cat(var_dic_list()) "
    }
   },
   "types_to_exclude": [
    "module",
    "function",
    "builtin_function_or_method",
    "instance",
    "_Feature"
   ],
   "window_display": false
  }
 },
 "nbformat": 4,
 "nbformat_minor": 2
}
