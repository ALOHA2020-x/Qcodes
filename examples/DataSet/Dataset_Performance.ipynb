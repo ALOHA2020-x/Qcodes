{
 "cells": [
  {
   "cell_type": "markdown",
   "metadata": {},
   "source": [
    "# DataSet Performance\n",
    "\n",
    "This notebook shows the trade-off between inserting data into a database row-by-row and as binary blobs. Inserting the data row-by-row means that we have direct access to all the data and may perform queries directly on the values of the data. On the other hand, as we shall see, this is much slower than inserting the data directly as binary blobs."
   ]
  },
  {
   "cell_type": "markdown",
   "metadata": {},
   "source": [
    "First, we choose a new location for the database to ensure that we don't add a bunch of benchmarking data to the default one."
   ]
  },
  {
   "cell_type": "code",
   "execution_count": 1,
   "metadata": {
    "execution": {
     "iopub.execute_input": "2021-03-31T10:04:32.797837Z",
     "iopub.status.busy": "2021-03-31T10:04:32.797248Z",
     "iopub.status.idle": "2021-03-31T10:04:33.726618Z",
     "shell.execute_reply": "2021-03-31T10:04:33.725592Z"
    }
   },
   "outputs": [
    {
     "name": "stdout",
     "output_type": "stream",
     "text": [
      "Logging hadn't been started.\n",
      "Activating auto-logging. Current session state plus future input saved.\n",
      "Filename       : /home/runner/.qcodes/logs/command_history.log\n",
      "Mode           : append\n",
      "Output logging : True\n",
      "Raw input log  : False\n",
      "Timestamping   : True\n",
      "State          : active\n"
     ]
    },
    {
     "name": "stdout",
     "output_type": "stream",
     "text": [
      "Qcodes Logfile : /home/runner/.qcodes/logs/210331-4900-qcodes.log\n"
     ]
    }
   ],
   "source": [
    "import os\n",
    "cwd = os.getcwd()\n",
    "import qcodes as qc\n",
    "qc.config[\"core\"][\"db_location\"] = os.path.join(cwd, 'testing.db')\n"
   ]
  },
  {
   "cell_type": "code",
   "execution_count": 2,
   "metadata": {
    "execution": {
     "iopub.execute_input": "2021-03-31T10:04:33.733188Z",
     "iopub.status.busy": "2021-03-31T10:04:33.732623Z",
     "iopub.status.idle": "2021-03-31T10:04:33.948734Z",
     "shell.execute_reply": "2021-03-31T10:04:33.949566Z"
    }
   },
   "outputs": [],
   "source": [
    "%matplotlib inline\n",
    "import time\n",
    "import matplotlib.pyplot as plt\n",
    "import numpy as np\n",
    "\n",
    "import qcodes as qc\n",
    "from qcodes.instrument.parameter import ManualParameter\n",
    "from qcodes.dataset.experiment_container import (Experiment,\n",
    "                                                 load_last_experiment,\n",
    "                                                 new_experiment)\n",
    "from qcodes.dataset.sqlite.database import initialise_database\n",
    "from qcodes import load_or_create_experiment\n",
    "from qcodes.dataset.measurements import Measurement"
   ]
  },
  {
   "cell_type": "code",
   "execution_count": 3,
   "metadata": {
    "execution": {
     "iopub.execute_input": "2021-03-31T10:04:33.955044Z",
     "iopub.status.busy": "2021-03-31T10:04:33.953957Z",
     "iopub.status.idle": "2021-03-31T10:04:34.015670Z",
     "shell.execute_reply": "2021-03-31T10:04:34.016034Z"
    }
   },
   "outputs": [
    {
     "name": "stdout",
     "output_type": "stream",
     "text": [
      "\r",
      "0it [00:00, ?it/s]"
     ]
    },
    {
     "name": "stdout",
     "output_type": "stream",
     "text": [
      "\r",
      "Upgrading database; v0 -> v1: : 0it [00:00, ?it/s]"
     ]
    },
    {
     "name": "stdout",
     "output_type": "stream",
     "text": [
      "\r",
      "Upgrading database; v0 -> v1: : 0it [00:00, ?it/s]"
     ]
    },
    {
     "name": "stdout",
     "output_type": "stream",
     "text": [
      "\n",
      "\r",
      "  0%|          | 0/1 [00:00<?, ?it/s]"
     ]
    },
    {
     "name": "stdout",
     "output_type": "stream",
     "text": [
      "\r",
      "Upgrading database; v1 -> v2:   0%|          | 0/1 [00:00<?, ?it/s]"
     ]
    },
    {
     "name": "stdout",
     "output_type": "stream",
     "text": [
      "\r",
      "Upgrading database; v1 -> v2: 100%|██████████| 1/1 [00:00<00:00, 424.35it/s]"
     ]
    },
    {
     "name": "stdout",
     "output_type": "stream",
     "text": [
      "\n",
      "\r",
      "0it [00:00, ?it/s]"
     ]
    },
    {
     "name": "stdout",
     "output_type": "stream",
     "text": [
      "\r",
      "Upgrading database; v2 -> v3: : 0it [00:00, ?it/s]"
     ]
    },
    {
     "name": "stdout",
     "output_type": "stream",
     "text": [
      "\r",
      "Upgrading database; v2 -> v3: : 0it [00:00, ?it/s]"
     ]
    },
    {
     "name": "stdout",
     "output_type": "stream",
     "text": [
      "\n",
      "\r",
      "0it [00:00, ?it/s]"
     ]
    },
    {
     "name": "stdout",
     "output_type": "stream",
     "text": [
      "\r",
      "Upgrading database; v3 -> v4: : 0it [00:00, ?it/s]"
     ]
    },
    {
     "name": "stdout",
     "output_type": "stream",
     "text": [
      "\r",
      "Upgrading database; v3 -> v4: : 0it [00:00, ?it/s]"
     ]
    },
    {
     "name": "stdout",
     "output_type": "stream",
     "text": [
      "\n",
      "\r",
      "  0%|          | 0/1 [00:00<?, ?it/s]"
     ]
    },
    {
     "name": "stdout",
     "output_type": "stream",
     "text": [
      "\r",
      "Upgrading database; v4 -> v5:   0%|          | 0/1 [00:00<?, ?it/s]"
     ]
    },
    {
     "name": "stdout",
     "output_type": "stream",
     "text": [
      "\r",
      "Upgrading database; v4 -> v5: 100%|██████████| 1/1 [00:00<00:00, 577.57it/s]"
     ]
    },
    {
     "name": "stdout",
     "output_type": "stream",
     "text": [
      "\n",
      "\r",
      "0it [00:00, ?it/s]"
     ]
    },
    {
     "name": "stdout",
     "output_type": "stream",
     "text": [
      "\r",
      "Upgrading database; v5 -> v6: : 0it [00:00, ?it/s]"
     ]
    },
    {
     "name": "stdout",
     "output_type": "stream",
     "text": [
      "\r",
      "Upgrading database; v5 -> v6: : 0it [00:00, ?it/s]"
     ]
    },
    {
     "name": "stdout",
     "output_type": "stream",
     "text": [
      "\n",
      "\r",
      "  0%|          | 0/1 [00:00<?, ?it/s]"
     ]
    },
    {
     "name": "stdout",
     "output_type": "stream",
     "text": [
      "\r",
      "Upgrading database; v6 -> v7:   0%|          | 0/1 [00:00<?, ?it/s]"
     ]
    },
    {
     "name": "stdout",
     "output_type": "stream",
     "text": [
      "\r",
      "Upgrading database; v6 -> v7: 100%|██████████| 1/1 [00:00<00:00, 481.55it/s]"
     ]
    },
    {
     "name": "stdout",
     "output_type": "stream",
     "text": [
      "\n",
      "\r",
      "  0%|          | 0/1 [00:00<?, ?it/s]"
     ]
    },
    {
     "name": "stdout",
     "output_type": "stream",
     "text": [
      "\r",
      "Upgrading database; v7 -> v8:   0%|          | 0/1 [00:00<?, ?it/s]"
     ]
    },
    {
     "name": "stdout",
     "output_type": "stream",
     "text": [
      "\r",
      "Upgrading database; v7 -> v8: 100%|██████████| 1/1 [00:00<00:00, 1038.19it/s]"
     ]
    },
    {
     "name": "stdout",
     "output_type": "stream",
     "text": [
      "\n",
      "\r",
      "  0%|          | 0/1 [00:00<?, ?it/s]"
     ]
    },
    {
     "name": "stdout",
     "output_type": "stream",
     "text": [
      "\r",
      "Upgrading database; v8 -> v9:   0%|          | 0/1 [00:00<?, ?it/s]"
     ]
    },
    {
     "name": "stdout",
     "output_type": "stream",
     "text": [
      "\r",
      "Upgrading database; v8 -> v9: 100%|██████████| 1/1 [00:00<00:00, 1562.12it/s]"
     ]
    },
    {
     "name": "stdout",
     "output_type": "stream",
     "text": [
      "\n"
     ]
    }
   ],
   "source": [
    "initialise_database()\n",
    "exp = load_or_create_experiment(experiment_name='tutorial_exp', sample_name=\"no sample\")"
   ]
  },
  {
   "cell_type": "markdown",
   "metadata": {},
   "source": [
    "Here, we define a simple function to benchmark the time it takes to insert n points with either numeric or array data type.\n",
    "We will compare both the time used to call ``add_result`` and the time used for the full measurement."
   ]
  },
  {
   "cell_type": "code",
   "execution_count": 4,
   "metadata": {
    "execution": {
     "iopub.execute_input": "2021-03-31T10:04:34.024622Z",
     "iopub.status.busy": "2021-03-31T10:04:34.023500Z",
     "iopub.status.idle": "2021-03-31T10:04:34.025272Z",
     "shell.execute_reply": "2021-03-31T10:04:34.025751Z"
    }
   },
   "outputs": [],
   "source": [
    "def insert_data(paramtype, npoints, nreps=1):\n",
    "\n",
    "    meas = Measurement(exp=exp)\n",
    "\n",
    "    x1 = ManualParameter('x1')\n",
    "    x2 = ManualParameter('x2')\n",
    "    x3 = ManualParameter('x3')\n",
    "    y1 = ManualParameter('y1')\n",
    "    y2 = ManualParameter('y2')\n",
    "\n",
    "    meas.register_parameter(x1, paramtype=paramtype)\n",
    "    meas.register_parameter(x2, paramtype=paramtype)\n",
    "    meas.register_parameter(x3, paramtype=paramtype)\n",
    "    meas.register_parameter(y1, setpoints=[x1, x2, x3],\n",
    "                            paramtype=paramtype)\n",
    "    meas.register_parameter(y2, setpoints=[x1, x2, x3],\n",
    "                            paramtype=paramtype)\n",
    "    start = time.perf_counter()\n",
    "    with meas.run() as datasaver:\n",
    "        start_adding = time.perf_counter()\n",
    "        for i in range(nreps):\n",
    "            datasaver.add_result((x1, np.random.rand(npoints)),\n",
    "                                 (x2, np.random.rand(npoints)),\n",
    "                                 (x3, np.random.rand(npoints)),\n",
    "                                 (y1, np.random.rand(npoints)),\n",
    "                                 (y2, np.random.rand(npoints)))\n",
    "        stop_adding = time.perf_counter()\n",
    "        run_id = datasaver.run_id\n",
    "    stop = time.perf_counter()\n",
    "    tot_time = stop - start\n",
    "    add_time = stop_adding - start_adding\n",
    "    return tot_time, add_time, run_id"
   ]
  },
  {
   "cell_type": "markdown",
   "metadata": {},
   "source": [
    "## Comparison between numeric/array data and binary blob"
   ]
  },
  {
   "cell_type": "markdown",
   "metadata": {},
   "source": [
    "### Case1: Short experiment time"
   ]
  },
  {
   "cell_type": "code",
   "execution_count": 5,
   "metadata": {
    "execution": {
     "iopub.execute_input": "2021-03-31T10:04:34.032240Z",
     "iopub.status.busy": "2021-03-31T10:04:34.031562Z",
     "iopub.status.idle": "2021-03-31T10:04:34.799449Z",
     "shell.execute_reply": "2021-03-31T10:04:34.799915Z"
    }
   },
   "outputs": [
    {
     "name": "stdout",
     "output_type": "stream",
     "text": [
      "Starting experimental run with id: 1. \n",
      "Starting experimental run with id: 2. \n",
      "Starting experimental run with id: 3. \n",
      "Starting experimental run with id: 4. \n",
      "Starting experimental run with id: 5. \n"
     ]
    },
    {
     "name": "stdout",
     "output_type": "stream",
     "text": [
      "Starting experimental run with id: 6. \n"
     ]
    },
    {
     "name": "stdout",
     "output_type": "stream",
     "text": [
      "Starting experimental run with id: 7. \n"
     ]
    },
    {
     "name": "stdout",
     "output_type": "stream",
     "text": [
      "Starting experimental run with id: 8. \n",
      "Starting experimental run with id: 9. \n"
     ]
    },
    {
     "name": "stdout",
     "output_type": "stream",
     "text": [
      "Starting experimental run with id: 10. \n",
      "Starting experimental run with id: 11. \n"
     ]
    },
    {
     "name": "stdout",
     "output_type": "stream",
     "text": [
      "Starting experimental run with id: 12. \n"
     ]
    },
    {
     "name": "stdout",
     "output_type": "stream",
     "text": [
      "Starting experimental run with id: 13. \n",
      "Starting experimental run with id: 14. \n"
     ]
    }
   ],
   "source": [
    "sizes = [1,500,1000,2000,3000,4000,5000]\n",
    "t_numeric = []\n",
    "t_numeric_add = []\n",
    "t_array = []\n",
    "t_array_add = []\n",
    "for size in sizes:\n",
    "    tn, tna, run_id_n =  insert_data('numeric', size)\n",
    "    t_numeric.append(tn)\n",
    "    t_numeric_add.append(tna)\n",
    "\n",
    "    ta, taa, run_id_a =  insert_data('array', size)\n",
    "    t_array.append(ta)\n",
    "    t_array_add.append(taa)"
   ]
  },
  {
   "cell_type": "code",
   "execution_count": 6,
   "metadata": {
    "execution": {
     "iopub.execute_input": "2021-03-31T10:04:34.821580Z",
     "iopub.status.busy": "2021-03-31T10:04:34.807386Z",
     "iopub.status.idle": "2021-03-31T10:04:34.993991Z",
     "shell.execute_reply": "2021-03-31T10:04:34.994533Z"
    }
   },
   "outputs": [
    {
     "data": {
      "image/png": "[encoded data removed]",
      "text/plain": [
       "<Figure size 432x288 with 1 Axes>"
      ]
     },
     "metadata": {
      "needs_background": "light"
     },
     "output_type": "display_data"
    }
   ],
   "source": [
    "fig, ax = plt.subplots(1,1)\n",
    "ax.plot(sizes, t_numeric, 'o-', label='Inserting row-by-row')\n",
    "ax.plot(sizes, t_numeric_add, 'o-', label='Inserting row-by-row: add_result only')\n",
    "ax.plot(sizes, t_array, 'd-', label='Inserting as binary blob')\n",
    "ax.plot(sizes, t_array_add, 'd-', label='Inserting as binary blob: add_result only')\n",
    "ax.legend()\n",
    "ax.set_xlabel('Array length')\n",
    "ax.set_ylabel('Time (s)')\n",
    "fig.tight_layout()"
   ]
  },
  {
   "cell_type": "markdown",
   "metadata": {},
   "source": [
    "As shown in the latter figure, the time to setup and and close the experiment is approximately 0.4 sec. In case of small array sizes, the difference between inserting values of data as arrays and inserting them row-by-row is relatively unimportant. At larger array sizes, i.e. above 10000 points, the cost of writing data as individual datapoints starts to become important.\n"
   ]
  },
  {
   "cell_type": "markdown",
   "metadata": {},
   "source": [
    "### Case2: Long experiment time "
   ]
  },
  {
   "cell_type": "code",
   "execution_count": 7,
   "metadata": {
    "execution": {
     "iopub.execute_input": "2021-03-31T10:04:35.000864Z",
     "iopub.status.busy": "2021-03-31T10:04:35.000180Z",
     "iopub.status.idle": "2021-03-31T10:05:31.808464Z",
     "shell.execute_reply": "2021-03-31T10:05:31.807933Z"
    }
   },
   "outputs": [
    {
     "name": "stdout",
     "output_type": "stream",
     "text": [
      "Starting experimental run with id: 15. \n",
      "Starting experimental run with id: 16. \n",
      "Starting experimental run with id: 17. \n"
     ]
    },
    {
     "name": "stdout",
     "output_type": "stream",
     "text": [
      "Starting experimental run with id: 18. \n",
      "Starting experimental run with id: 19. \n"
     ]
    },
    {
     "name": "stdout",
     "output_type": "stream",
     "text": [
      "Starting experimental run with id: 20. \n"
     ]
    },
    {
     "name": "stdout",
     "output_type": "stream",
     "text": [
      "Starting experimental run with id: 21. \n"
     ]
    },
    {
     "name": "stdout",
     "output_type": "stream",
     "text": [
      "Starting experimental run with id: 22. \n"
     ]
    },
    {
     "name": "stdout",
     "output_type": "stream",
     "text": [
      "Starting experimental run with id: 23. \n"
     ]
    },
    {
     "name": "stdout",
     "output_type": "stream",
     "text": [
      "Starting experimental run with id: 24. \n"
     ]
    },
    {
     "name": "stdout",
     "output_type": "stream",
     "text": [
      "Starting experimental run with id: 25. \n"
     ]
    },
    {
     "name": "stdout",
     "output_type": "stream",
     "text": [
      "Starting experimental run with id: 26. \n"
     ]
    },
    {
     "name": "stdout",
     "output_type": "stream",
     "text": [
      "Starting experimental run with id: 27. \n"
     ]
    },
    {
     "name": "stdout",
     "output_type": "stream",
     "text": [
      "Starting experimental run with id: 28. \n"
     ]
    }
   ],
   "source": [
    "sizes = [1,500,1000,2000,3000,4000,5000]\n",
    "nreps = 100\n",
    "t_numeric = []\n",
    "t_numeric_add = []\n",
    "t_numeric_run_ids = []\n",
    "t_array = []\n",
    "t_array_add = []\n",
    "t_array_run_ids = []\n",
    "for size in sizes:\n",
    "    tn, tna, run_id_n =  insert_data('numeric', size, nreps=nreps)\n",
    "    t_numeric.append(tn)\n",
    "    t_numeric_add.append(tna)\n",
    "    t_numeric_run_ids.append(run_id_n)\n",
    "\n",
    "    ta, taa, run_id_a =  insert_data('array', size, nreps=nreps)\n",
    "    t_array.append(ta)\n",
    "    t_array_add.append(taa)\n",
    "    t_array_run_ids.append(run_id_a)"
   ]
  },
  {
   "cell_type": "code",
   "execution_count": 8,
   "metadata": {
    "execution": {
     "iopub.execute_input": "2021-03-31T10:05:31.827285Z",
     "iopub.status.busy": "2021-03-31T10:05:31.813908Z",
     "iopub.status.idle": "2021-03-31T10:05:31.978683Z",
     "shell.execute_reply": "2021-03-31T10:05:31.979199Z"
    },
    "scrolled": true
   },
   "outputs": [
    {
     "data": {
      "image/png": "[encoded data removed]",
      "text/plain": [
       "<Figure size 432x288 with 1 Axes>"
      ]
     },
     "metadata": {
      "needs_background": "light"
     },
     "output_type": "display_data"
    }
   ],
   "source": [
    "fig, ax = plt.subplots(1,1)\n",
    "ax.plot(sizes, t_numeric, 'o-', label='Inserting row-by-row')\n",
    "ax.plot(sizes, t_numeric_add, 'o-', label='Inserting row-by-row: add_result only')\n",
    "ax.plot(sizes, t_array, 'd-', label='Inserting as binary blob')\n",
    "ax.plot(sizes, t_array_add, 'd-', label='Inserting as binary blob: add_result only')\n",
    "ax.legend()\n",
    "ax.set_xlabel('Array length')\n",
    "ax.set_ylabel('Time (s)')\n",
    "fig.tight_layout()"
   ]
  },
  {
   "cell_type": "markdown",
   "metadata": {},
   "source": [
    "However, as we increase the length of the experiment, as seen here by repeating the insertion 100 times, we see a big difference between inserting values of the data row-by-row and inserting it as a binary blob."
   ]
  },
  {
   "cell_type": "markdown",
   "metadata": {},
   "source": [
    "## Loading the data "
   ]
  },
  {
   "cell_type": "code",
   "execution_count": 9,
   "metadata": {
    "execution": {
     "iopub.execute_input": "2021-03-31T10:05:31.982953Z",
     "iopub.status.busy": "2021-03-31T10:05:31.982471Z",
     "iopub.status.idle": "2021-03-31T10:05:31.984643Z",
     "shell.execute_reply": "2021-03-31T10:05:31.985140Z"
    }
   },
   "outputs": [],
   "source": [
    "from qcodes.dataset.data_set import load_by_id\n",
    "from qcodes.dataset.data_export import get_data_by_id"
   ]
  },
  {
   "cell_type": "markdown",
   "metadata": {},
   "source": [
    "As usual you can load the data by using the ``load_by_id`` function but you will notice that the different storage methods\n",
    "are reflected in shape of the data as it is retrieved. "
   ]
  },
  {
   "cell_type": "code",
   "execution_count": 10,
   "metadata": {
    "execution": {
     "iopub.execute_input": "2021-03-31T10:05:31.987607Z",
     "iopub.status.busy": "2021-03-31T10:05:31.987081Z",
     "iopub.status.idle": "2021-03-31T10:05:31.989707Z",
     "shell.execute_reply": "2021-03-31T10:05:31.990142Z"
    }
   },
   "outputs": [],
   "source": [
    "run_id_n = t_numeric_run_ids[0]\n",
    "run_id_a = t_array_run_ids[0]"
   ]
  },
  {
   "cell_type": "code",
   "execution_count": 11,
   "metadata": {
    "execution": {
     "iopub.execute_input": "2021-03-31T10:05:31.992119Z",
     "iopub.status.busy": "2021-03-31T10:05:31.991606Z",
     "iopub.status.idle": "2021-03-31T10:05:32.001072Z",
     "shell.execute_reply": "2021-03-31T10:05:32.001617Z"
    },
    "scrolled": true
   },
   "outputs": [
    {
     "data": {
      "text/plain": [
       "{'x1': {'x1': array([0.00206844, 0.00206844, 0.65607579, 0.65607579, 0.88081277,\n",
       "         0.88081277, 0.44702592, 0.44702592, 0.47472893, 0.47472893,\n",
       "         0.95606145, 0.95606145, 0.55826882, 0.55826882, 0.60507324,\n",
       "         0.60507324, 0.38290712, 0.38290712, 0.57953455, 0.57953455,\n",
       "         0.03645113, 0.03645113, 0.82937986, 0.82937986, 0.63070902,\n",
       "         0.63070902, 0.28573811, 0.28573811, 0.22575709, 0.22575709,\n",
       "         0.73465401, 0.73465401, 0.70056268, 0.70056268, 0.50459373,\n",
       "         0.50459373, 0.33105971, 0.33105971, 0.77204179, 0.77204179,\n",
       "         0.06100863, 0.06100863, 0.55669061, 0.55669061, 0.41063771,\n",
       "         0.41063771, 0.4021646 , 0.4021646 , 0.68557094, 0.68557094,\n",
       "         0.89136132, 0.89136132, 0.04018305, 0.04018305, 0.29561165,\n",
       "         0.29561165, 0.04701838, 0.04701838, 0.21083871, 0.21083871,\n",
       "         0.42683686, 0.42683686, 0.72455051, 0.72455051, 0.19183473,\n",
       "         0.19183473, 0.42411005, 0.42411005, 0.73005972, 0.73005972,\n",
       "         0.12706902, 0.12706902, 0.01819031, 0.01819031, 0.6274174 ,\n",
       "         0.6274174 , 0.56097726, 0.56097726, 0.27296302, 0.27296302,\n",
       "         0.18503718, 0.18503718, 0.68189028, 0.68189028, 0.72185063,\n",
       "         0.72185063, 0.1694193 , 0.1694193 , 0.55295554, 0.55295554,\n",
       "         0.99307011, 0.99307011, 0.26184309, 0.26184309, 0.33506774,\n",
       "         0.33506774, 0.56345707, 0.56345707, 0.81380192, 0.81380192,\n",
       "         0.04075466, 0.04075466, 0.79909907, 0.79909907, 0.03583932,\n",
       "         0.03583932, 0.8803053 , 0.8803053 , 0.83665338, 0.83665338,\n",
       "         0.22665245, 0.22665245, 0.38075478, 0.38075478, 0.10059673,\n",
       "         0.10059673, 0.90357735, 0.90357735, 0.37706073, 0.37706073,\n",
       "         0.29042672, 0.29042672, 0.09657207, 0.09657207, 0.49966196,\n",
       "         0.49966196, 0.68085796, 0.68085796, 0.33484968, 0.33484968,\n",
       "         0.09608864, 0.09608864, 0.80333809, 0.80333809, 0.21214932,\n",
       "         0.21214932, 0.62882295, 0.62882295, 0.23797948, 0.23797948,\n",
       "         0.74229704, 0.74229704, 0.99271177, 0.99271177, 0.98649632,\n",
       "         0.98649632, 0.55543027, 0.55543027, 0.26247814, 0.26247814,\n",
       "         0.66556361, 0.66556361, 0.1085169 , 0.1085169 , 0.81531967,\n",
       "         0.81531967, 0.9591816 , 0.9591816 , 0.79550967, 0.79550967,\n",
       "         0.96239148, 0.96239148, 0.6214902 , 0.6214902 , 0.28348716,\n",
       "         0.28348716, 0.56106451, 0.56106451, 0.8706227 , 0.8706227 ,\n",
       "         0.35395803, 0.35395803, 0.66938572, 0.66938572, 0.67746111,\n",
       "         0.67746111, 0.76840769, 0.76840769, 0.53746476, 0.53746476,\n",
       "         0.99243631, 0.99243631, 0.20080873, 0.20080873, 0.25959212,\n",
       "         0.25959212, 0.46406962, 0.46406962, 0.00571154, 0.00571154,\n",
       "         0.50929173, 0.50929173, 0.97414491, 0.97414491, 0.67801245,\n",
       "         0.67801245, 0.34307181, 0.34307181, 0.77330536, 0.77330536])}}"
      ]
     },
     "execution_count": 1,
     "metadata": {},
     "output_type": "execute_result"
    }
   ],
   "source": [
    "ds = load_by_id(run_id_n)\n",
    "ds.get_parameter_data('x1')"
   ]
  },
  {
   "cell_type": "markdown",
   "metadata": {},
   "source": [
    "And a dataset stored as binary arrays"
   ]
  },
  {
   "cell_type": "code",
   "execution_count": 12,
   "metadata": {
    "execution": {
     "iopub.execute_input": "2021-03-31T10:05:32.004036Z",
     "iopub.status.busy": "2021-03-31T10:05:32.003518Z",
     "iopub.status.idle": "2021-03-31T10:05:32.059835Z",
     "shell.execute_reply": "2021-03-31T10:05:32.059120Z"
    },
    "scrolled": true
   },
   "outputs": [
    {
     "data": {
      "text/plain": [
       "{'x1': {'x1': array([[0.09321808],\n",
       "         [0.09321808],\n",
       "         [0.03101711],\n",
       "         [0.03101711],\n",
       "         [0.1385737 ],\n",
       "         [0.1385737 ],\n",
       "         [0.20370931],\n",
       "         [0.20370931],\n",
       "         [0.18363181],\n",
       "         [0.18363181],\n",
       "         [0.81287107],\n",
       "         [0.81287107],\n",
       "         [0.08260595],\n",
       "         [0.08260595],\n",
       "         [0.23412543],\n",
       "         [0.23412543],\n",
       "         [0.67786452],\n",
       "         [0.67786452],\n",
       "         [0.80366582],\n",
       "         [0.80366582],\n",
       "         [0.68712276],\n",
       "         [0.68712276],\n",
       "         [0.86601374],\n",
       "         [0.86601374],\n",
       "         [0.50281262],\n",
       "         [0.50281262],\n",
       "         [0.78179969],\n",
       "         [0.78179969],\n",
       "         [0.28528426],\n",
       "         [0.28528426],\n",
       "         [0.85267081],\n",
       "         [0.85267081],\n",
       "         [0.81023594],\n",
       "         [0.81023594],\n",
       "         [0.83657109],\n",
       "         [0.83657109],\n",
       "         [0.70372367],\n",
       "         [0.70372367],\n",
       "         [0.90279257],\n",
       "         [0.90279257],\n",
       "         [0.07503511],\n",
       "         [0.07503511],\n",
       "         [0.08364642],\n",
       "         [0.08364642],\n",
       "         [0.44545634],\n",
       "         [0.44545634],\n",
       "         [0.84291647],\n",
       "         [0.84291647],\n",
       "         [0.44999904],\n",
       "         [0.44999904],\n",
       "         [0.01871983],\n",
       "         [0.01871983],\n",
       "         [0.8655215 ],\n",
       "         [0.8655215 ],\n",
       "         [0.59876394],\n",
       "         [0.59876394],\n",
       "         [0.38444968],\n",
       "         [0.38444968],\n",
       "         [0.60598207],\n",
       "         [0.60598207],\n",
       "         [0.31932779],\n",
       "         [0.31932779],\n",
       "         [0.43198761],\n",
       "         [0.43198761],\n",
       "         [0.0152926 ],\n",
       "         [0.0152926 ],\n",
       "         [0.21795882],\n",
       "         [0.21795882],\n",
       "         [0.08086033],\n",
       "         [0.08086033],\n",
       "         [0.53551999],\n",
       "         [0.53551999],\n",
       "         [0.87190182],\n",
       "         [0.87190182],\n",
       "         [0.53685565],\n",
       "         [0.53685565],\n",
       "         [0.75086715],\n",
       "         [0.75086715],\n",
       "         [0.9955612 ],\n",
       "         [0.9955612 ],\n",
       "         [0.52985778],\n",
       "         [0.52985778],\n",
       "         [0.96687272],\n",
       "         [0.96687272],\n",
       "         [0.62333307],\n",
       "         [0.62333307],\n",
       "         [0.1084252 ],\n",
       "         [0.1084252 ],\n",
       "         [0.33838397],\n",
       "         [0.33838397],\n",
       "         [0.55638177],\n",
       "         [0.55638177],\n",
       "         [0.68488754],\n",
       "         [0.68488754],\n",
       "         [0.09431448],\n",
       "         [0.09431448],\n",
       "         [0.39788729],\n",
       "         [0.39788729],\n",
       "         [0.48165699],\n",
       "         [0.48165699],\n",
       "         [0.79305924],\n",
       "         [0.79305924],\n",
       "         [0.82278091],\n",
       "         [0.82278091],\n",
       "         [0.64489044],\n",
       "         [0.64489044],\n",
       "         [0.75019258],\n",
       "         [0.75019258],\n",
       "         [0.34646638],\n",
       "         [0.34646638],\n",
       "         [0.02419694],\n",
       "         [0.02419694],\n",
       "         [0.81077474],\n",
       "         [0.81077474],\n",
       "         [0.60034817],\n",
       "         [0.60034817],\n",
       "         [0.57936958],\n",
       "         [0.57936958],\n",
       "         [0.96171605],\n",
       "         [0.96171605],\n",
       "         [0.08828782],\n",
       "         [0.08828782],\n",
       "         [0.91748438],\n",
       "         [0.91748438],\n",
       "         [0.47865499],\n",
       "         [0.47865499],\n",
       "         [0.38286347],\n",
       "         [0.38286347],\n",
       "         [0.51404573],\n",
       "         [0.51404573],\n",
       "         [0.85726003],\n",
       "         [0.85726003],\n",
       "         [0.27662778],\n",
       "         [0.27662778],\n",
       "         [0.95731954],\n",
       "         [0.95731954],\n",
       "         [0.26621498],\n",
       "         [0.26621498],\n",
       "         [0.65730073],\n",
       "         [0.65730073],\n",
       "         [0.50906283],\n",
       "         [0.50906283],\n",
       "         [0.66261448],\n",
       "         [0.66261448],\n",
       "         [0.26979853],\n",
       "         [0.26979853],\n",
       "         [0.1321422 ],\n",
       "         [0.1321422 ],\n",
       "         [0.12401098],\n",
       "         [0.12401098],\n",
       "         [0.27232112],\n",
       "         [0.27232112],\n",
       "         [0.14737188],\n",
       "         [0.14737188],\n",
       "         [0.9439162 ],\n",
       "         [0.9439162 ],\n",
       "         [0.47739635],\n",
       "         [0.47739635],\n",
       "         [0.51149417],\n",
       "         [0.51149417],\n",
       "         [0.64098602],\n",
       "         [0.64098602],\n",
       "         [0.53069744],\n",
       "         [0.53069744],\n",
       "         [0.0613837 ],\n",
       "         [0.0613837 ],\n",
       "         [0.83405655],\n",
       "         [0.83405655],\n",
       "         [0.72914111],\n",
       "         [0.72914111],\n",
       "         [0.69595482],\n",
       "         [0.69595482],\n",
       "         [0.72441837],\n",
       "         [0.72441837],\n",
       "         [0.69051475],\n",
       "         [0.69051475],\n",
       "         [0.02584861],\n",
       "         [0.02584861],\n",
       "         [0.55549372],\n",
       "         [0.55549372],\n",
       "         [0.68229485],\n",
       "         [0.68229485],\n",
       "         [0.36323327],\n",
       "         [0.36323327],\n",
       "         [0.18420281],\n",
       "         [0.18420281],\n",
       "         [0.20042177],\n",
       "         [0.20042177],\n",
       "         [0.11235929],\n",
       "         [0.11235929],\n",
       "         [0.22966606],\n",
       "         [0.22966606],\n",
       "         [0.20885612],\n",
       "         [0.20885612],\n",
       "         [0.1720876 ],\n",
       "         [0.1720876 ],\n",
       "         [0.37159396],\n",
       "         [0.37159396],\n",
       "         [0.56875196],\n",
       "         [0.56875196]])}}"
      ]
     },
     "execution_count": 1,
     "metadata": {},
     "output_type": "execute_result"
    }
   ],
   "source": [
    "ds = load_by_id(run_id_a)\n",
    "ds.get_parameter_data('x1')"
   ]
  },
  {
   "cell_type": "code",
   "execution_count": null,
   "metadata": {},
   "outputs": [],
   "source": []
  }
 ],
 "metadata": {
  "kernelspec": {
   "display_name": "Python 3",
   "language": "python",
   "name": "python3"
  },
  "language_info": {
   "codemirror_mode": {
    "name": "ipython",
    "version": 3
   },
   "file_extension": ".py",
   "mimetype": "text/x-python",
   "name": "python",
   "nbconvert_exporter": "python",
   "pygments_lexer": "ipython3",
   "version": "3.7.10"
  },
  "nbsphinx": {
   "timeout": 600
  },
  "toc": {
   "base_numbering": 1,
   "nav_menu": {},
   "number_sections": true,
   "sideBar": true,
   "skip_h1_title": false,
   "title_cell": "Table of Contents",
   "title_sidebar": "Contents",
   "toc_cell": false,
   "toc_position": {},
   "toc_section_display": true,
   "toc_window_display": false
  },
  "varInspector": {
   "cols": {
    "lenName": 16,
    "lenType": 16,
    "lenVar": 40
   },
   "kernels_config": {
    "python": {
     "delete_cmd_postfix": "",
     "delete_cmd_prefix": "del ",
     "library": "var_list.py",
     "varRefreshCmd": "print(var_dic_list())"
    },
    "r": {
     "delete_cmd_postfix": ") ",
     "delete_cmd_prefix": "rm(",
     "library": "var_list.r",
     "varRefreshCmd": "cat(var_dic_list()) "
    }
   },
   "types_to_exclude": [
    "module",
    "function",
    "builtin_function_or_method",
    "instance",
    "_Feature"
   ],
   "window_display": false
  }
 },
 "nbformat": 4,
 "nbformat_minor": 2
}
