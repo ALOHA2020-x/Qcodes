{
 "cells": [
  {
   "cell_type": "markdown",
   "metadata": {},
   "source": [
    "# DataSet Performance\n",
    "\n",
    "This notebook shows the trade-off between inserting data into a database row-by-row and as binary blobs. Inserting the data row-by-row means that we have direct access to all the data and may perform queries directly on the values of the data. On the other hand, as we shall see, this is much slower than inserting the data directly as binary blobs."
   ]
  },
  {
   "cell_type": "markdown",
   "metadata": {},
   "source": [
    "First, we choose a new location for the database to ensure that we don't add a bunch of benchmarking data to the default one."
   ]
  },
  {
   "cell_type": "code",
   "execution_count": 1,
   "metadata": {
    "execution": {
     "iopub.execute_input": "2021-04-29T18:18:19.548765Z",
     "iopub.status.busy": "2021-04-29T18:18:19.548204Z",
     "iopub.status.idle": "2021-04-29T18:18:20.875421Z",
     "shell.execute_reply": "2021-04-29T18:18:20.873771Z"
    }
   },
   "outputs": [
    {
     "name": "stdout",
     "output_type": "stream",
     "text": [
      "Logging hadn't been started.\n",
      "Activating auto-logging. Current session state plus future input saved.\n",
      "Filename       : /home/runner/.qcodes/logs/command_history.log\n",
      "Mode           : append\n",
      "Output logging : True\n",
      "Raw input log  : False\n",
      "Timestamping   : True\n",
      "State          : active\n"
     ]
    },
    {
     "name": "stdout",
     "output_type": "stream",
     "text": [
      "Qcodes Logfile : /home/runner/.qcodes/logs/210429-4687-qcodes.log\n"
     ]
    }
   ],
   "source": [
    "import os\n",
    "cwd = os.getcwd()\n",
    "import qcodes as qc\n",
    "qc.config[\"core\"][\"db_location\"] = os.path.join(cwd, 'testing.db')\n"
   ]
  },
  {
   "cell_type": "code",
   "execution_count": 2,
   "metadata": {
    "execution": {
     "iopub.execute_input": "2021-04-29T18:18:20.883125Z",
     "iopub.status.busy": "2021-04-29T18:18:20.882108Z",
     "iopub.status.idle": "2021-04-29T18:18:21.111874Z",
     "shell.execute_reply": "2021-04-29T18:18:21.112367Z"
    }
   },
   "outputs": [],
   "source": [
    "%matplotlib inline\n",
    "import time\n",
    "import matplotlib.pyplot as plt\n",
    "import numpy as np\n",
    "\n",
    "import qcodes as qc\n",
    "from qcodes.instrument.parameter import ManualParameter\n",
    "from qcodes.dataset.experiment_container import (Experiment,\n",
    "                                                 load_last_experiment,\n",
    "                                                 new_experiment)\n",
    "from qcodes.dataset.sqlite.database import initialise_database\n",
    "from qcodes import load_or_create_experiment\n",
    "from qcodes.dataset.measurements import Measurement"
   ]
  },
  {
   "cell_type": "code",
   "execution_count": 3,
   "metadata": {
    "execution": {
     "iopub.execute_input": "2021-04-29T18:18:21.117970Z",
     "iopub.status.busy": "2021-04-29T18:18:21.117251Z",
     "iopub.status.idle": "2021-04-29T18:18:21.284006Z",
     "shell.execute_reply": "2021-04-29T18:18:21.284510Z"
    }
   },
   "outputs": [
    {
     "name": "stdout",
     "output_type": "stream",
     "text": [
      "\r",
      "0it [00:00, ?it/s]"
     ]
    },
    {
     "name": "stdout",
     "output_type": "stream",
     "text": [
      "\r",
      "Upgrading database; v0 -> v1: : 0it [00:00, ?it/s]"
     ]
    },
    {
     "name": "stdout",
     "output_type": "stream",
     "text": [
      "\r",
      "Upgrading database; v0 -> v1: : 0it [00:00, ?it/s]"
     ]
    },
    {
     "name": "stdout",
     "output_type": "stream",
     "text": [
      "\n",
      "\r",
      "  0%|          | 0/1 [00:00<?, ?it/s]"
     ]
    },
    {
     "name": "stdout",
     "output_type": "stream",
     "text": [
      "\r",
      "Upgrading database; v1 -> v2:   0%|          | 0/1 [00:00<?, ?it/s]"
     ]
    },
    {
     "name": "stdout",
     "output_type": "stream",
     "text": [
      "\r",
      "Upgrading database; v1 -> v2: 100%|██████████| 1/1 [00:00<00:00, 504.91it/s]"
     ]
    },
    {
     "name": "stdout",
     "output_type": "stream",
     "text": [
      "\n",
      "\r",
      "0it [00:00, ?it/s]"
     ]
    },
    {
     "name": "stdout",
     "output_type": "stream",
     "text": [
      "\r",
      "Upgrading database; v2 -> v3: : 0it [00:00, ?it/s]"
     ]
    },
    {
     "name": "stdout",
     "output_type": "stream",
     "text": [
      "\r",
      "Upgrading database; v2 -> v3: : 0it [00:00, ?it/s]"
     ]
    },
    {
     "name": "stdout",
     "output_type": "stream",
     "text": [
      "\n",
      "\r",
      "0it [00:00, ?it/s]"
     ]
    },
    {
     "name": "stdout",
     "output_type": "stream",
     "text": [
      "\r",
      "Upgrading database; v3 -> v4: : 0it [00:00, ?it/s]"
     ]
    },
    {
     "name": "stdout",
     "output_type": "stream",
     "text": [
      "\r",
      "Upgrading database; v3 -> v4: : 0it [00:00, ?it/s]"
     ]
    },
    {
     "name": "stdout",
     "output_type": "stream",
     "text": [
      "\n",
      "\r",
      "  0%|          | 0/1 [00:00<?, ?it/s]"
     ]
    },
    {
     "name": "stdout",
     "output_type": "stream",
     "text": [
      "\r",
      "Upgrading database; v4 -> v5:   0%|          | 0/1 [00:00<?, ?it/s]"
     ]
    },
    {
     "name": "stdout",
     "output_type": "stream",
     "text": [
      "\r",
      "Upgrading database; v4 -> v5: 100%|██████████| 1/1 [00:00<00:00, 759.56it/s]"
     ]
    },
    {
     "name": "stdout",
     "output_type": "stream",
     "text": [
      "\n",
      "\r",
      "0it [00:00, ?it/s]"
     ]
    },
    {
     "name": "stdout",
     "output_type": "stream",
     "text": [
      "\r",
      "Upgrading database; v5 -> v6: : 0it [00:00, ?it/s]"
     ]
    },
    {
     "name": "stdout",
     "output_type": "stream",
     "text": [
      "\r",
      "Upgrading database; v5 -> v6: : 0it [00:00, ?it/s]"
     ]
    },
    {
     "name": "stdout",
     "output_type": "stream",
     "text": [
      "\n",
      "\r",
      "  0%|          | 0/1 [00:00<?, ?it/s]"
     ]
    },
    {
     "name": "stdout",
     "output_type": "stream",
     "text": [
      "\r",
      "Upgrading database; v6 -> v7:   0%|          | 0/1 [00:00<?, ?it/s]"
     ]
    },
    {
     "name": "stdout",
     "output_type": "stream",
     "text": [
      "\r",
      "Upgrading database; v6 -> v7: 100%|██████████| 1/1 [00:00<00:00, 281.97it/s]"
     ]
    },
    {
     "name": "stdout",
     "output_type": "stream",
     "text": [
      "\n",
      "\r",
      "  0%|          | 0/1 [00:00<?, ?it/s]"
     ]
    },
    {
     "name": "stdout",
     "output_type": "stream",
     "text": [
      "\r",
      "Upgrading database; v7 -> v8:   0%|          | 0/1 [00:00<?, ?it/s]"
     ]
    },
    {
     "name": "stdout",
     "output_type": "stream",
     "text": [
      "\r",
      "Upgrading database; v7 -> v8: 100%|██████████| 1/1 [00:00<00:00, 461.88it/s]"
     ]
    },
    {
     "name": "stdout",
     "output_type": "stream",
     "text": [
      "\n",
      "\r",
      "  0%|          | 0/1 [00:00<?, ?it/s]"
     ]
    },
    {
     "name": "stdout",
     "output_type": "stream",
     "text": [
      "\r",
      "Upgrading database; v8 -> v9:   0%|          | 0/1 [00:00<?, ?it/s]"
     ]
    },
    {
     "name": "stdout",
     "output_type": "stream",
     "text": [
      "\r",
      "Upgrading database; v8 -> v9: 100%|██████████| 1/1 [00:00<00:00, 607.78it/s]"
     ]
    },
    {
     "name": "stdout",
     "output_type": "stream",
     "text": [
      "\n"
     ]
    }
   ],
   "source": [
    "initialise_database()\n",
    "exp = load_or_create_experiment(experiment_name='tutorial_exp', sample_name=\"no sample\")"
   ]
  },
  {
   "cell_type": "markdown",
   "metadata": {},
   "source": [
    "Here, we define a simple function to benchmark the time it takes to insert n points with either numeric or array data type.\n",
    "We will compare both the time used to call ``add_result`` and the time used for the full measurement."
   ]
  },
  {
   "cell_type": "code",
   "execution_count": 4,
   "metadata": {
    "execution": {
     "iopub.execute_input": "2021-04-29T18:18:21.295320Z",
     "iopub.status.busy": "2021-04-29T18:18:21.294655Z",
     "iopub.status.idle": "2021-04-29T18:18:21.298763Z",
     "shell.execute_reply": "2021-04-29T18:18:21.299227Z"
    }
   },
   "outputs": [],
   "source": [
    "def insert_data(paramtype, npoints, nreps=1):\n",
    "\n",
    "    meas = Measurement(exp=exp)\n",
    "\n",
    "    x1 = ManualParameter('x1')\n",
    "    x2 = ManualParameter('x2')\n",
    "    x3 = ManualParameter('x3')\n",
    "    y1 = ManualParameter('y1')\n",
    "    y2 = ManualParameter('y2')\n",
    "\n",
    "    meas.register_parameter(x1, paramtype=paramtype)\n",
    "    meas.register_parameter(x2, paramtype=paramtype)\n",
    "    meas.register_parameter(x3, paramtype=paramtype)\n",
    "    meas.register_parameter(y1, setpoints=[x1, x2, x3],\n",
    "                            paramtype=paramtype)\n",
    "    meas.register_parameter(y2, setpoints=[x1, x2, x3],\n",
    "                            paramtype=paramtype)\n",
    "    start = time.perf_counter()\n",
    "    with meas.run() as datasaver:\n",
    "        start_adding = time.perf_counter()\n",
    "        for i in range(nreps):\n",
    "            datasaver.add_result((x1, np.random.rand(npoints)),\n",
    "                                 (x2, np.random.rand(npoints)),\n",
    "                                 (x3, np.random.rand(npoints)),\n",
    "                                 (y1, np.random.rand(npoints)),\n",
    "                                 (y2, np.random.rand(npoints)))\n",
    "        stop_adding = time.perf_counter()\n",
    "        run_id = datasaver.run_id\n",
    "    stop = time.perf_counter()\n",
    "    tot_time = stop - start\n",
    "    add_time = stop_adding - start_adding\n",
    "    return tot_time, add_time, run_id"
   ]
  },
  {
   "cell_type": "markdown",
   "metadata": {},
   "source": [
    "## Comparison between numeric/array data and binary blob"
   ]
  },
  {
   "cell_type": "markdown",
   "metadata": {},
   "source": [
    "### Case1: Short experiment time"
   ]
  },
  {
   "cell_type": "code",
   "execution_count": 5,
   "metadata": {
    "execution": {
     "iopub.execute_input": "2021-04-29T18:18:21.309040Z",
     "iopub.status.busy": "2021-04-29T18:18:21.303815Z",
     "iopub.status.idle": "2021-04-29T18:18:22.218583Z",
     "shell.execute_reply": "2021-04-29T18:18:22.217517Z"
    }
   },
   "outputs": [
    {
     "name": "stdout",
     "output_type": "stream",
     "text": [
      "Starting experimental run with id: 1. \n",
      "Starting experimental run with id: 2. \n",
      "Starting experimental run with id: 3. \n"
     ]
    },
    {
     "name": "stdout",
     "output_type": "stream",
     "text": [
      "Starting experimental run with id: 4. \n"
     ]
    },
    {
     "name": "stdout",
     "output_type": "stream",
     "text": [
      "Starting experimental run with id: 5. \n"
     ]
    },
    {
     "name": "stdout",
     "output_type": "stream",
     "text": [
      "Starting experimental run with id: 6. \n",
      "Starting experimental run with id: 7. \n"
     ]
    },
    {
     "name": "stdout",
     "output_type": "stream",
     "text": [
      "Starting experimental run with id: 8. \n"
     ]
    },
    {
     "name": "stdout",
     "output_type": "stream",
     "text": [
      "Starting experimental run with id: 9. \n"
     ]
    },
    {
     "name": "stdout",
     "output_type": "stream",
     "text": [
      "Starting experimental run with id: 10. \n",
      "Starting experimental run with id: 11. \n"
     ]
    },
    {
     "name": "stdout",
     "output_type": "stream",
     "text": [
      "Starting experimental run with id: 12. \n"
     ]
    },
    {
     "name": "stdout",
     "output_type": "stream",
     "text": [
      "Starting experimental run with id: 13. \n"
     ]
    },
    {
     "name": "stdout",
     "output_type": "stream",
     "text": [
      "Starting experimental run with id: 14. \n"
     ]
    }
   ],
   "source": [
    "sizes = [1,500,1000,2000,3000,4000,5000]\n",
    "t_numeric = []\n",
    "t_numeric_add = []\n",
    "t_array = []\n",
    "t_array_add = []\n",
    "for size in sizes:\n",
    "    tn, tna, run_id_n =  insert_data('numeric', size)\n",
    "    t_numeric.append(tn)\n",
    "    t_numeric_add.append(tna)\n",
    "\n",
    "    ta, taa, run_id_a =  insert_data('array', size)\n",
    "    t_array.append(ta)\n",
    "    t_array_add.append(taa)"
   ]
  },
  {
   "cell_type": "code",
   "execution_count": 6,
   "metadata": {
    "execution": {
     "iopub.execute_input": "2021-04-29T18:18:22.239529Z",
     "iopub.status.busy": "2021-04-29T18:18:22.225169Z",
     "iopub.status.idle": "2021-04-29T18:18:22.428048Z",
     "shell.execute_reply": "2021-04-29T18:18:22.428561Z"
    }
   },
   "outputs": [
    {
     "data": {
      "image/png": "[encoded data removed]",
      "text/plain": [
       "<Figure size 432x288 with 1 Axes>"
      ]
     },
     "metadata": {
      "needs_background": "light"
     },
     "output_type": "display_data"
    }
   ],
   "source": [
    "fig, ax = plt.subplots(1,1)\n",
    "ax.plot(sizes, t_numeric, 'o-', label='Inserting row-by-row')\n",
    "ax.plot(sizes, t_numeric_add, 'o-', label='Inserting row-by-row: add_result only')\n",
    "ax.plot(sizes, t_array, 'd-', label='Inserting as binary blob')\n",
    "ax.plot(sizes, t_array_add, 'd-', label='Inserting as binary blob: add_result only')\n",
    "ax.legend()\n",
    "ax.set_xlabel('Array length')\n",
    "ax.set_ylabel('Time (s)')\n",
    "fig.tight_layout()"
   ]
  },
  {
   "cell_type": "markdown",
   "metadata": {},
   "source": [
    "As shown in the latter figure, the time to setup and and close the experiment is approximately 0.4 sec. In case of small array sizes, the difference between inserting values of data as arrays and inserting them row-by-row is relatively unimportant. At larger array sizes, i.e. above 10000 points, the cost of writing data as individual datapoints starts to become important.\n"
   ]
  },
  {
   "cell_type": "markdown",
   "metadata": {},
   "source": [
    "### Case2: Long experiment time "
   ]
  },
  {
   "cell_type": "code",
   "execution_count": 7,
   "metadata": {
    "execution": {
     "iopub.execute_input": "2021-04-29T18:18:22.436867Z",
     "iopub.status.busy": "2021-04-29T18:18:22.435528Z",
     "iopub.status.idle": "2021-04-29T18:19:21.461208Z",
     "shell.execute_reply": "2021-04-29T18:19:21.460561Z"
    }
   },
   "outputs": [
    {
     "name": "stdout",
     "output_type": "stream",
     "text": [
      "Starting experimental run with id: 15. \n",
      "Starting experimental run with id: 16. \n"
     ]
    },
    {
     "name": "stdout",
     "output_type": "stream",
     "text": [
      "Starting experimental run with id: 17. \n"
     ]
    },
    {
     "name": "stdout",
     "output_type": "stream",
     "text": [
      "Starting experimental run with id: 18. \n"
     ]
    },
    {
     "name": "stdout",
     "output_type": "stream",
     "text": [
      "Starting experimental run with id: 19. \n"
     ]
    },
    {
     "name": "stdout",
     "output_type": "stream",
     "text": [
      "Starting experimental run with id: 20. \n"
     ]
    },
    {
     "name": "stdout",
     "output_type": "stream",
     "text": [
      "Starting experimental run with id: 21. \n"
     ]
    },
    {
     "name": "stdout",
     "output_type": "stream",
     "text": [
      "Starting experimental run with id: 22. \n"
     ]
    },
    {
     "name": "stdout",
     "output_type": "stream",
     "text": [
      "Starting experimental run with id: 23. \n"
     ]
    },
    {
     "name": "stdout",
     "output_type": "stream",
     "text": [
      "Starting experimental run with id: 24. \n"
     ]
    },
    {
     "name": "stdout",
     "output_type": "stream",
     "text": [
      "Starting experimental run with id: 25. \n"
     ]
    },
    {
     "name": "stdout",
     "output_type": "stream",
     "text": [
      "Starting experimental run with id: 26. \n"
     ]
    },
    {
     "name": "stdout",
     "output_type": "stream",
     "text": [
      "Starting experimental run with id: 27. \n"
     ]
    },
    {
     "name": "stdout",
     "output_type": "stream",
     "text": [
      "Starting experimental run with id: 28. \n"
     ]
    }
   ],
   "source": [
    "sizes = [1,500,1000,2000,3000,4000,5000]\n",
    "nreps = 100\n",
    "t_numeric = []\n",
    "t_numeric_add = []\n",
    "t_numeric_run_ids = []\n",
    "t_array = []\n",
    "t_array_add = []\n",
    "t_array_run_ids = []\n",
    "for size in sizes:\n",
    "    tn, tna, run_id_n =  insert_data('numeric', size, nreps=nreps)\n",
    "    t_numeric.append(tn)\n",
    "    t_numeric_add.append(tna)\n",
    "    t_numeric_run_ids.append(run_id_n)\n",
    "\n",
    "    ta, taa, run_id_a =  insert_data('array', size, nreps=nreps)\n",
    "    t_array.append(ta)\n",
    "    t_array_add.append(taa)\n",
    "    t_array_run_ids.append(run_id_a)"
   ]
  },
  {
   "cell_type": "code",
   "execution_count": 8,
   "metadata": {
    "execution": {
     "iopub.execute_input": "2021-04-29T18:19:21.493609Z",
     "iopub.status.busy": "2021-04-29T18:19:21.490770Z",
     "iopub.status.idle": "2021-04-29T18:19:21.667646Z",
     "shell.execute_reply": "2021-04-29T18:19:21.668180Z"
    },
    "scrolled": true
   },
   "outputs": [
    {
     "data": {
      "image/png": "[encoded data removed]",
      "text/plain": [
       "<Figure size 432x288 with 1 Axes>"
      ]
     },
     "metadata": {
      "needs_background": "light"
     },
     "output_type": "display_data"
    }
   ],
   "source": [
    "fig, ax = plt.subplots(1,1)\n",
    "ax.plot(sizes, t_numeric, 'o-', label='Inserting row-by-row')\n",
    "ax.plot(sizes, t_numeric_add, 'o-', label='Inserting row-by-row: add_result only')\n",
    "ax.plot(sizes, t_array, 'd-', label='Inserting as binary blob')\n",
    "ax.plot(sizes, t_array_add, 'd-', label='Inserting as binary blob: add_result only')\n",
    "ax.legend()\n",
    "ax.set_xlabel('Array length')\n",
    "ax.set_ylabel('Time (s)')\n",
    "fig.tight_layout()"
   ]
  },
  {
   "cell_type": "markdown",
   "metadata": {},
   "source": [
    "However, as we increase the length of the experiment, as seen here by repeating the insertion 100 times, we see a big difference between inserting values of the data row-by-row and inserting it as a binary blob."
   ]
  },
  {
   "cell_type": "markdown",
   "metadata": {},
   "source": [
    "## Loading the data "
   ]
  },
  {
   "cell_type": "code",
   "execution_count": 9,
   "metadata": {
    "execution": {
     "iopub.execute_input": "2021-04-29T18:19:21.673629Z",
     "iopub.status.busy": "2021-04-29T18:19:21.673003Z",
     "iopub.status.idle": "2021-04-29T18:19:21.677152Z",
     "shell.execute_reply": "2021-04-29T18:19:21.676022Z"
    }
   },
   "outputs": [],
   "source": [
    "from qcodes.dataset.data_set import load_by_id"
   ]
  },
  {
   "cell_type": "markdown",
   "metadata": {},
   "source": [
    "As usual you can load the data by using the ``load_by_id`` function but you will notice that the different storage methods\n",
    "are reflected in shape of the data as it is retrieved. "
   ]
  },
  {
   "cell_type": "code",
   "execution_count": 10,
   "metadata": {
    "execution": {
     "iopub.execute_input": "2021-04-29T18:19:21.680943Z",
     "iopub.status.busy": "2021-04-29T18:19:21.680352Z",
     "iopub.status.idle": "2021-04-29T18:19:21.683415Z",
     "shell.execute_reply": "2021-04-29T18:19:21.682889Z"
    }
   },
   "outputs": [],
   "source": [
    "run_id_n = t_numeric_run_ids[0]\n",
    "run_id_a = t_array_run_ids[0]"
   ]
  },
  {
   "cell_type": "code",
   "execution_count": 11,
   "metadata": {
    "execution": {
     "iopub.execute_input": "2021-04-29T18:19:21.687625Z",
     "iopub.status.busy": "2021-04-29T18:19:21.687016Z",
     "iopub.status.idle": "2021-04-29T18:19:21.698686Z",
     "shell.execute_reply": "2021-04-29T18:19:21.696388Z"
    },
    "scrolled": true
   },
   "outputs": [
    {
     "data": {
      "text/plain": [
       "{'x1': {'x1': array([0.7647647 , 0.7647647 , 0.44923054, 0.44923054, 0.69210125,\n",
       "         0.69210125, 0.42972233, 0.42972233, 0.39964769, 0.39964769,\n",
       "         0.04853295, 0.04853295, 0.0412206 , 0.0412206 , 0.51107855,\n",
       "         0.51107855, 0.55755318, 0.55755318, 0.35244338, 0.35244338,\n",
       "         0.76613793, 0.76613793, 0.08350898, 0.08350898, 0.2419833 ,\n",
       "         0.2419833 , 0.43833244, 0.43833244, 0.60068837, 0.60068837,\n",
       "         0.13919958, 0.13919958, 0.95759635, 0.95759635, 0.07665762,\n",
       "         0.07665762, 0.03207312, 0.03207312, 0.61541884, 0.61541884,\n",
       "         0.62502443, 0.62502443, 0.13076182, 0.13076182, 0.86489554,\n",
       "         0.86489554, 0.46118698, 0.46118698, 0.81069187, 0.81069187,\n",
       "         0.78291149, 0.78291149, 0.1437044 , 0.1437044 , 0.65642962,\n",
       "         0.65642962, 0.46122793, 0.46122793, 0.00376228, 0.00376228,\n",
       "         0.55577978, 0.55577978, 0.58619308, 0.58619308, 0.75934107,\n",
       "         0.75934107, 0.998437  , 0.998437  , 0.00606315, 0.00606315,\n",
       "         0.47779632, 0.47779632, 0.39259065, 0.39259065, 0.2018349 ,\n",
       "         0.2018349 , 0.47414328, 0.47414328, 0.68967976, 0.68967976,\n",
       "         0.55218425, 0.55218425, 0.44686737, 0.44686737, 0.13179194,\n",
       "         0.13179194, 0.40897194, 0.40897194, 0.46410813, 0.46410813,\n",
       "         0.9944041 , 0.9944041 , 0.85463393, 0.85463393, 0.0819195 ,\n",
       "         0.0819195 , 0.99571725, 0.99571725, 0.01048804, 0.01048804,\n",
       "         0.35946982, 0.35946982, 0.48508399, 0.48508399, 0.79496311,\n",
       "         0.79496311, 0.55875884, 0.55875884, 0.51387174, 0.51387174,\n",
       "         0.82009588, 0.82009588, 0.35922563, 0.35922563, 0.32485695,\n",
       "         0.32485695, 0.72954   , 0.72954   , 0.53719522, 0.53719522,\n",
       "         0.09032229, 0.09032229, 0.51657738, 0.51657738, 0.08497081,\n",
       "         0.08497081, 0.56672936, 0.56672936, 0.7064006 , 0.7064006 ,\n",
       "         0.95103129, 0.95103129, 0.72611373, 0.72611373, 0.42213564,\n",
       "         0.42213564, 0.59100199, 0.59100199, 0.59506659, 0.59506659,\n",
       "         0.04112548, 0.04112548, 0.89921589, 0.89921589, 0.17574013,\n",
       "         0.17574013, 0.28125311, 0.28125311, 0.55152465, 0.55152465,\n",
       "         0.1830916 , 0.1830916 , 0.09004384, 0.09004384, 0.61126113,\n",
       "         0.61126113, 0.81295902, 0.81295902, 0.43717728, 0.43717728,\n",
       "         0.52080019, 0.52080019, 0.6134749 , 0.6134749 , 0.4089658 ,\n",
       "         0.4089658 , 0.19748202, 0.19748202, 0.66058849, 0.66058849,\n",
       "         0.0283485 , 0.0283485 , 0.68563861, 0.68563861, 0.02874089,\n",
       "         0.02874089, 0.10265473, 0.10265473, 0.70840939, 0.70840939,\n",
       "         0.1593216 , 0.1593216 , 0.06718542, 0.06718542, 0.83436627,\n",
       "         0.83436627, 0.26090097, 0.26090097, 0.68607414, 0.68607414,\n",
       "         0.13570882, 0.13570882, 0.93849487, 0.93849487, 0.45050218,\n",
       "         0.45050218, 0.41766229, 0.41766229, 0.10036921, 0.10036921])}}"
      ]
     },
     "execution_count": 1,
     "metadata": {},
     "output_type": "execute_result"
    }
   ],
   "source": [
    "ds = load_by_id(run_id_n)\n",
    "ds.get_parameter_data('x1')"
   ]
  },
  {
   "cell_type": "markdown",
   "metadata": {},
   "source": [
    "And a dataset stored as binary arrays"
   ]
  },
  {
   "cell_type": "code",
   "execution_count": 12,
   "metadata": {
    "execution": {
     "iopub.execute_input": "2021-04-29T18:19:21.702666Z",
     "iopub.status.busy": "2021-04-29T18:19:21.702091Z",
     "iopub.status.idle": "2021-04-29T18:19:21.763254Z",
     "shell.execute_reply": "2021-04-29T18:19:21.763806Z"
    },
    "scrolled": true
   },
   "outputs": [
    {
     "data": {
      "text/plain": [
       "{'x1': {'x1': array([[0.28451768],\n",
       "         [0.28451768],\n",
       "         [0.41582257],\n",
       "         [0.41582257],\n",
       "         [0.36105463],\n",
       "         [0.36105463],\n",
       "         [0.69365336],\n",
       "         [0.69365336],\n",
       "         [0.72066566],\n",
       "         [0.72066566],\n",
       "         [0.93075368],\n",
       "         [0.93075368],\n",
       "         [0.88961106],\n",
       "         [0.88961106],\n",
       "         [0.16154603],\n",
       "         [0.16154603],\n",
       "         [0.18231584],\n",
       "         [0.18231584],\n",
       "         [0.33876495],\n",
       "         [0.33876495],\n",
       "         [0.07631168],\n",
       "         [0.07631168],\n",
       "         [0.29741985],\n",
       "         [0.29741985],\n",
       "         [0.15986365],\n",
       "         [0.15986365],\n",
       "         [0.1781427 ],\n",
       "         [0.1781427 ],\n",
       "         [0.27501596],\n",
       "         [0.27501596],\n",
       "         [0.10049617],\n",
       "         [0.10049617],\n",
       "         [0.68877737],\n",
       "         [0.68877737],\n",
       "         [0.26472676],\n",
       "         [0.26472676],\n",
       "         [0.07750026],\n",
       "         [0.07750026],\n",
       "         [0.85291277],\n",
       "         [0.85291277],\n",
       "         [0.30123497],\n",
       "         [0.30123497],\n",
       "         [0.84188179],\n",
       "         [0.84188179],\n",
       "         [0.5538609 ],\n",
       "         [0.5538609 ],\n",
       "         [0.35663468],\n",
       "         [0.35663468],\n",
       "         [0.16684253],\n",
       "         [0.16684253],\n",
       "         [0.98433242],\n",
       "         [0.98433242],\n",
       "         [0.18837839],\n",
       "         [0.18837839],\n",
       "         [0.49301205],\n",
       "         [0.49301205],\n",
       "         [0.87887048],\n",
       "         [0.87887048],\n",
       "         [0.80529747],\n",
       "         [0.80529747],\n",
       "         [0.77287295],\n",
       "         [0.77287295],\n",
       "         [0.50143317],\n",
       "         [0.50143317],\n",
       "         [0.39541006],\n",
       "         [0.39541006],\n",
       "         [0.56874168],\n",
       "         [0.56874168],\n",
       "         [0.59438977],\n",
       "         [0.59438977],\n",
       "         [0.73868088],\n",
       "         [0.73868088],\n",
       "         [0.32600695],\n",
       "         [0.32600695],\n",
       "         [0.63005584],\n",
       "         [0.63005584],\n",
       "         [0.22160417],\n",
       "         [0.22160417],\n",
       "         [0.41767829],\n",
       "         [0.41767829],\n",
       "         [0.44708311],\n",
       "         [0.44708311],\n",
       "         [0.71766353],\n",
       "         [0.71766353],\n",
       "         [0.5489084 ],\n",
       "         [0.5489084 ],\n",
       "         [0.67184853],\n",
       "         [0.67184853],\n",
       "         [0.03574529],\n",
       "         [0.03574529],\n",
       "         [0.14778001],\n",
       "         [0.14778001],\n",
       "         [0.53258877],\n",
       "         [0.53258877],\n",
       "         [0.26098801],\n",
       "         [0.26098801],\n",
       "         [0.43537672],\n",
       "         [0.43537672],\n",
       "         [0.83860339],\n",
       "         [0.83860339],\n",
       "         [0.71137064],\n",
       "         [0.71137064],\n",
       "         [0.6763952 ],\n",
       "         [0.6763952 ],\n",
       "         [0.29596346],\n",
       "         [0.29596346],\n",
       "         [0.63097382],\n",
       "         [0.63097382],\n",
       "         [0.32762373],\n",
       "         [0.32762373],\n",
       "         [0.8048402 ],\n",
       "         [0.8048402 ],\n",
       "         [0.57149645],\n",
       "         [0.57149645],\n",
       "         [0.7411484 ],\n",
       "         [0.7411484 ],\n",
       "         [0.07211203],\n",
       "         [0.07211203],\n",
       "         [0.96660788],\n",
       "         [0.96660788],\n",
       "         [0.51111492],\n",
       "         [0.51111492],\n",
       "         [0.43898135],\n",
       "         [0.43898135],\n",
       "         [0.29466705],\n",
       "         [0.29466705],\n",
       "         [0.80616545],\n",
       "         [0.80616545],\n",
       "         [0.15549633],\n",
       "         [0.15549633],\n",
       "         [0.84964724],\n",
       "         [0.84964724],\n",
       "         [0.61253933],\n",
       "         [0.61253933],\n",
       "         [0.57117044],\n",
       "         [0.57117044],\n",
       "         [0.72852881],\n",
       "         [0.72852881],\n",
       "         [0.61727556],\n",
       "         [0.61727556],\n",
       "         [0.61346517],\n",
       "         [0.61346517],\n",
       "         [0.31673243],\n",
       "         [0.31673243],\n",
       "         [0.16915847],\n",
       "         [0.16915847],\n",
       "         [0.74306597],\n",
       "         [0.74306597],\n",
       "         [0.39464886],\n",
       "         [0.39464886],\n",
       "         [0.48221759],\n",
       "         [0.48221759],\n",
       "         [0.16284645],\n",
       "         [0.16284645],\n",
       "         [0.01429618],\n",
       "         [0.01429618],\n",
       "         [0.26593035],\n",
       "         [0.26593035],\n",
       "         [0.29266751],\n",
       "         [0.29266751],\n",
       "         [0.61386771],\n",
       "         [0.61386771],\n",
       "         [0.54868583],\n",
       "         [0.54868583],\n",
       "         [0.17135987],\n",
       "         [0.17135987],\n",
       "         [0.98282047],\n",
       "         [0.98282047],\n",
       "         [0.40315959],\n",
       "         [0.40315959],\n",
       "         [0.33220284],\n",
       "         [0.33220284],\n",
       "         [0.17437036],\n",
       "         [0.17437036],\n",
       "         [0.32259665],\n",
       "         [0.32259665],\n",
       "         [0.31507423],\n",
       "         [0.31507423],\n",
       "         [0.6822929 ],\n",
       "         [0.6822929 ],\n",
       "         [0.21279072],\n",
       "         [0.21279072],\n",
       "         [0.51626681],\n",
       "         [0.51626681],\n",
       "         [0.53495042],\n",
       "         [0.53495042],\n",
       "         [0.5906551 ],\n",
       "         [0.5906551 ],\n",
       "         [0.83313358],\n",
       "         [0.83313358],\n",
       "         [0.25624779],\n",
       "         [0.25624779],\n",
       "         [0.87256046],\n",
       "         [0.87256046],\n",
       "         [0.19713955],\n",
       "         [0.19713955],\n",
       "         [0.26080035],\n",
       "         [0.26080035],\n",
       "         [0.30702145],\n",
       "         [0.30702145]])}}"
      ]
     },
     "execution_count": 1,
     "metadata": {},
     "output_type": "execute_result"
    }
   ],
   "source": [
    "ds = load_by_id(run_id_a)\n",
    "ds.get_parameter_data('x1')"
   ]
  },
  {
   "cell_type": "code",
   "execution_count": null,
   "metadata": {},
   "outputs": [],
   "source": []
  }
 ],
 "metadata": {
  "kernelspec": {
   "display_name": "Python 3",
   "language": "python",
   "name": "python3"
  },
  "language_info": {
   "codemirror_mode": {
    "name": "ipython",
    "version": 3
   },
   "file_extension": ".py",
   "mimetype": "text/x-python",
   "name": "python",
   "nbconvert_exporter": "python",
   "pygments_lexer": "ipython3",
   "version": "3.7.10"
  },
  "nbsphinx": {
   "timeout": 600
  },
  "toc": {
   "base_numbering": 1,
   "nav_menu": {},
   "number_sections": true,
   "sideBar": true,
   "skip_h1_title": false,
   "title_cell": "Table of Contents",
   "title_sidebar": "Contents",
   "toc_cell": false,
   "toc_position": {},
   "toc_section_display": true,
   "toc_window_display": false
  },
  "varInspector": {
   "cols": {
    "lenName": 16,
    "lenType": 16,
    "lenVar": 40
   },
   "kernels_config": {
    "python": {
     "delete_cmd_postfix": "",
     "delete_cmd_prefix": "del ",
     "library": "var_list.py",
     "varRefreshCmd": "print(var_dic_list())"
    },
    "r": {
     "delete_cmd_postfix": ") ",
     "delete_cmd_prefix": "rm(",
     "library": "var_list.r",
     "varRefreshCmd": "cat(var_dic_list()) "
    }
   },
   "types_to_exclude": [
    "module",
    "function",
    "builtin_function_or_method",
    "instance",
    "_Feature"
   ],
   "window_display": false
  }
 },
 "nbformat": 4,
 "nbformat_minor": 4
}
