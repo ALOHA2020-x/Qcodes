{
 "cells": [
  {
   "cell_type": "markdown",
   "metadata": {},
   "source": [
    "# DataSet Performance\n",
    "\n",
    "This notebook shows the trade-off between inserting data into a database row-by-row and as binary blobs. Inserting the data row-by-row means that we have direct access to all the data and may perform queries directly on the values of the data. On the other hand, as we shall see, this is much slower than inserting the data directly as binary blobs."
   ]
  },
  {
   "cell_type": "markdown",
   "metadata": {},
   "source": [
    "First, we choose a new location for the database to ensure that we don't add a bunch of benchmarking data to the default one."
   ]
  },
  {
   "cell_type": "code",
   "execution_count": 1,
   "metadata": {
    "execution": {
     "iopub.execute_input": "2020-10-27T11:23:42.283189Z",
     "iopub.status.busy": "2020-10-27T11:23:42.282134Z",
     "iopub.status.idle": "2020-10-27T11:23:43.423458Z",
     "shell.execute_reply": "2020-10-27T11:23:43.422714Z"
    }
   },
   "outputs": [
    {
     "name": "stdout",
     "output_type": "stream",
     "text": [
      "Logging hadn't been started.\n",
      "Activating auto-logging. Current session state plus future input saved.\n",
      "Filename       : /home/vsts/.qcodes/logs/command_history.log\n",
      "Mode           : append\n",
      "Output logging : True\n",
      "Raw input log  : False\n",
      "Timestamping   : True\n",
      "State          : active\n"
     ]
    },
    {
     "name": "stdout",
     "output_type": "stream",
     "text": [
      "Qcodes Logfile : /home/vsts/.qcodes/logs/201027-14587-qcodes.log\n"
     ]
    }
   ],
   "source": [
    "import os\n",
    "cwd = os.getcwd()\n",
    "import qcodes as qc\n",
    "qc.config[\"core\"][\"db_location\"] = os.path.join(cwd, 'testing.db')\n"
   ]
  },
  {
   "cell_type": "code",
   "execution_count": 2,
   "metadata": {
    "execution": {
     "iopub.execute_input": "2020-10-27T11:23:43.430821Z",
     "iopub.status.busy": "2020-10-27T11:23:43.429898Z",
     "iopub.status.idle": "2020-10-27T11:23:43.644144Z",
     "shell.execute_reply": "2020-10-27T11:23:43.638842Z"
    }
   },
   "outputs": [],
   "source": [
    "%matplotlib inline\n",
    "import time\n",
    "import matplotlib.pyplot as plt\n",
    "import numpy as np\n",
    "\n",
    "import qcodes as qc\n",
    "from qcodes.instrument.parameter import ManualParameter\n",
    "from qcodes.dataset.experiment_container import (Experiment,\n",
    "                                                 load_last_experiment,\n",
    "                                                 new_experiment)\n",
    "from qcodes.dataset.sqlite.database import initialise_database\n",
    "from qcodes import load_or_create_experiment\n",
    "from qcodes.dataset.measurements import Measurement"
   ]
  },
  {
   "cell_type": "code",
   "execution_count": 3,
   "metadata": {
    "execution": {
     "iopub.execute_input": "2020-10-27T11:23:43.648628Z",
     "iopub.status.busy": "2020-10-27T11:23:43.647935Z",
     "iopub.status.idle": "2020-10-27T11:23:43.761348Z",
     "shell.execute_reply": "2020-10-27T11:23:43.760605Z"
    }
   },
   "outputs": [
    {
     "name": "stdout",
     "output_type": "stream",
     "text": [
      "\r",
      "0it [00:00, ?it/s]"
     ]
    },
    {
     "name": "stdout",
     "output_type": "stream",
     "text": [
      "\r",
      "Upgrading database; v0 -> v1: : 0it [00:00, ?it/s]"
     ]
    },
    {
     "name": "stdout",
     "output_type": "stream",
     "text": [
      "\r",
      "Upgrading database; v0 -> v1: : 0it [00:00, ?it/s]"
     ]
    },
    {
     "name": "stdout",
     "output_type": "stream",
     "text": [
      "\n",
      "\r",
      "  0%|          | 0/1 [00:00<?, ?it/s]"
     ]
    },
    {
     "name": "stdout",
     "output_type": "stream",
     "text": [
      "\r",
      "Upgrading database; v1 -> v2:   0%|          | 0/1 [00:00<?, ?it/s]"
     ]
    },
    {
     "name": "stdout",
     "output_type": "stream",
     "text": [
      "\r",
      "Upgrading database; v1 -> v2: 100%|██████████| 1/1 [00:00<00:00, 863.20it/s]"
     ]
    },
    {
     "name": "stdout",
     "output_type": "stream",
     "text": [
      "\n",
      "\r",
      "0it [00:00, ?it/s]"
     ]
    },
    {
     "name": "stdout",
     "output_type": "stream",
     "text": [
      "\r",
      "Upgrading database; v2 -> v3: : 0it [00:00, ?it/s]"
     ]
    },
    {
     "name": "stdout",
     "output_type": "stream",
     "text": [
      "\r",
      "Upgrading database; v2 -> v3: : 0it [00:00, ?it/s]"
     ]
    },
    {
     "name": "stdout",
     "output_type": "stream",
     "text": [
      "\n",
      "\r",
      "0it [00:00, ?it/s]"
     ]
    },
    {
     "name": "stdout",
     "output_type": "stream",
     "text": [
      "\r",
      "Upgrading database; v3 -> v4: : 0it [00:00, ?it/s]"
     ]
    },
    {
     "name": "stdout",
     "output_type": "stream",
     "text": [
      "\r",
      "Upgrading database; v3 -> v4: : 0it [00:00, ?it/s]"
     ]
    },
    {
     "name": "stdout",
     "output_type": "stream",
     "text": [
      "\n",
      "\r",
      "  0%|          | 0/1 [00:00<?, ?it/s]"
     ]
    },
    {
     "name": "stdout",
     "output_type": "stream",
     "text": [
      "\r",
      "Upgrading database; v4 -> v5:   0%|          | 0/1 [00:00<?, ?it/s]"
     ]
    },
    {
     "name": "stdout",
     "output_type": "stream",
     "text": [
      "\r",
      "Upgrading database; v4 -> v5: 100%|██████████| 1/1 [00:00<00:00, 936.23it/s]"
     ]
    },
    {
     "name": "stdout",
     "output_type": "stream",
     "text": [
      "\n",
      "\r",
      "0it [00:00, ?it/s]"
     ]
    },
    {
     "name": "stdout",
     "output_type": "stream",
     "text": [
      "\r",
      "Upgrading database; v5 -> v6: : 0it [00:00, ?it/s]"
     ]
    },
    {
     "name": "stdout",
     "output_type": "stream",
     "text": [
      "\r",
      "Upgrading database; v5 -> v6: : 0it [00:00, ?it/s]"
     ]
    },
    {
     "name": "stdout",
     "output_type": "stream",
     "text": [
      "\n",
      "\r",
      "  0%|          | 0/1 [00:00<?, ?it/s]"
     ]
    },
    {
     "name": "stdout",
     "output_type": "stream",
     "text": [
      "\r",
      "Upgrading database; v6 -> v7:   0%|          | 0/1 [00:00<?, ?it/s]"
     ]
    },
    {
     "name": "stdout",
     "output_type": "stream",
     "text": [
      "\r",
      "Upgrading database; v6 -> v7: 100%|██████████| 1/1 [00:00<00:00, 284.40it/s]"
     ]
    },
    {
     "name": "stdout",
     "output_type": "stream",
     "text": [
      "\n",
      "\r",
      "  0%|          | 0/1 [00:00<?, ?it/s]"
     ]
    },
    {
     "name": "stdout",
     "output_type": "stream",
     "text": [
      "\r",
      "Upgrading database; v7 -> v8:   0%|          | 0/1 [00:00<?, ?it/s]"
     ]
    },
    {
     "name": "stdout",
     "output_type": "stream",
     "text": [
      "\r",
      "Upgrading database; v7 -> v8: 100%|██████████| 1/1 [00:00<00:00, 728.68it/s]"
     ]
    },
    {
     "name": "stdout",
     "output_type": "stream",
     "text": [
      "\n",
      "\r",
      "  0%|          | 0/1 [00:00<?, ?it/s]"
     ]
    },
    {
     "name": "stdout",
     "output_type": "stream",
     "text": [
      "\r",
      "Upgrading database; v8 -> v9:   0%|          | 0/1 [00:00<?, ?it/s]"
     ]
    },
    {
     "name": "stdout",
     "output_type": "stream",
     "text": [
      "\r",
      "Upgrading database; v8 -> v9: 100%|██████████| 1/1 [00:00<00:00, 839.03it/s]"
     ]
    },
    {
     "name": "stdout",
     "output_type": "stream",
     "text": [
      "\n"
     ]
    }
   ],
   "source": [
    "initialise_database()\n",
    "exp = load_or_create_experiment(experiment_name='tutorial_exp', sample_name=\"no sample\")"
   ]
  },
  {
   "cell_type": "markdown",
   "metadata": {},
   "source": [
    "Here, we define a simple function to benchmark the time it takes to insert n points with either numeric or array data type.\n",
    "We will compare both the time used to call ``add_result`` and the time used for the full measurement."
   ]
  },
  {
   "cell_type": "code",
   "execution_count": 4,
   "metadata": {
    "execution": {
     "iopub.execute_input": "2020-10-27T11:23:43.772188Z",
     "iopub.status.busy": "2020-10-27T11:23:43.770577Z",
     "iopub.status.idle": "2020-10-27T11:23:43.772907Z",
     "shell.execute_reply": "2020-10-27T11:23:43.773457Z"
    }
   },
   "outputs": [],
   "source": [
    "def insert_data(paramtype, npoints, nreps=1):\n",
    "\n",
    "    meas = Measurement(exp=exp)\n",
    "\n",
    "    x1 = ManualParameter('x1')\n",
    "    x2 = ManualParameter('x2')\n",
    "    x3 = ManualParameter('x3')\n",
    "    y1 = ManualParameter('y1')\n",
    "    y2 = ManualParameter('y2')\n",
    "\n",
    "    meas.register_parameter(x1, paramtype=paramtype)\n",
    "    meas.register_parameter(x2, paramtype=paramtype)\n",
    "    meas.register_parameter(x3, paramtype=paramtype)\n",
    "    meas.register_parameter(y1, setpoints=[x1, x2, x3],\n",
    "                            paramtype=paramtype)\n",
    "    meas.register_parameter(y2, setpoints=[x1, x2, x3],\n",
    "                            paramtype=paramtype)\n",
    "    start = time.perf_counter()\n",
    "    with meas.run() as datasaver:\n",
    "        start_adding = time.perf_counter()\n",
    "        for i in range(nreps):\n",
    "            datasaver.add_result((x1, np.random.rand(npoints)),\n",
    "                                 (x2, np.random.rand(npoints)),\n",
    "                                 (x3, np.random.rand(npoints)),\n",
    "                                 (y1, np.random.rand(npoints)),\n",
    "                                 (y2, np.random.rand(npoints)))\n",
    "        stop_adding = time.perf_counter()\n",
    "        run_id = datasaver.run_id\n",
    "    stop = time.perf_counter()\n",
    "    tot_time = stop - start\n",
    "    add_time = stop_adding - start_adding\n",
    "    return tot_time, add_time, run_id"
   ]
  },
  {
   "cell_type": "markdown",
   "metadata": {},
   "source": [
    "## Comparison between numeric/array data and binary blob"
   ]
  },
  {
   "cell_type": "markdown",
   "metadata": {},
   "source": [
    "### Case1: Short experiment time"
   ]
  },
  {
   "cell_type": "code",
   "execution_count": 5,
   "metadata": {
    "execution": {
     "iopub.execute_input": "2020-10-27T11:23:43.779344Z",
     "iopub.status.busy": "2020-10-27T11:23:43.778648Z",
     "iopub.status.idle": "2020-10-27T11:23:44.670150Z",
     "shell.execute_reply": "2020-10-27T11:23:44.669334Z"
    }
   },
   "outputs": [
    {
     "name": "stdout",
     "output_type": "stream",
     "text": [
      "Starting experimental run with id: 1. \n",
      "Starting experimental run with id: 2. \n",
      "Starting experimental run with id: 3. \n",
      "Starting experimental run with id: 4. \n",
      "Starting experimental run with id: 5. \n"
     ]
    },
    {
     "name": "stdout",
     "output_type": "stream",
     "text": [
      "Starting experimental run with id: 6. \n"
     ]
    },
    {
     "name": "stdout",
     "output_type": "stream",
     "text": [
      "Starting experimental run with id: 7. \n"
     ]
    },
    {
     "name": "stdout",
     "output_type": "stream",
     "text": [
      "Starting experimental run with id: 8. \n",
      "Starting experimental run with id: 9. \n"
     ]
    },
    {
     "name": "stdout",
     "output_type": "stream",
     "text": [
      "Starting experimental run with id: 10. \n",
      "Starting experimental run with id: 11. \n"
     ]
    },
    {
     "name": "stdout",
     "output_type": "stream",
     "text": [
      "Starting experimental run with id: 12. \n"
     ]
    },
    {
     "name": "stdout",
     "output_type": "stream",
     "text": [
      "Starting experimental run with id: 13. \n"
     ]
    },
    {
     "name": "stdout",
     "output_type": "stream",
     "text": [
      "Starting experimental run with id: 14. \n"
     ]
    }
   ],
   "source": [
    "sizes = [1,500,1000,2000,3000,4000,5000]\n",
    "t_numeric = []\n",
    "t_numeric_add = []\n",
    "t_array = []\n",
    "t_array_add = []\n",
    "for size in sizes:\n",
    "    tn, tna, run_id_n =  insert_data('numeric', size)\n",
    "    t_numeric.append(tn)\n",
    "    t_numeric_add.append(tna)\n",
    "\n",
    "    ta, taa, run_id_a =  insert_data('array', size)\n",
    "    t_array.append(ta)\n",
    "    t_array_add.append(taa)"
   ]
  },
  {
   "cell_type": "code",
   "execution_count": 6,
   "metadata": {
    "execution": {
     "iopub.execute_input": "2020-10-27T11:23:44.698852Z",
     "iopub.status.busy": "2020-10-27T11:23:44.693467Z",
     "iopub.status.idle": "2020-10-27T11:23:44.903638Z",
     "shell.execute_reply": "2020-10-27T11:23:44.903148Z"
    }
   },
   "outputs": [
    {
     "data": {
      "image/png": "[encoded data removed]",
      "text/plain": [
       "<Figure size 432x288 with 1 Axes>"
      ]
     },
     "metadata": {
      "needs_background": "light"
     },
     "output_type": "display_data"
    }
   ],
   "source": [
    "fig, ax = plt.subplots(1,1)\n",
    "ax.plot(sizes, t_numeric, 'o-', label='Inserting row-by-row')\n",
    "ax.plot(sizes, t_numeric_add, 'o-', label='Inserting row-by-row: add_result only')\n",
    "ax.plot(sizes, t_array, 'd-', label='Inserting as binary blob')\n",
    "ax.plot(sizes, t_array_add, 'd-', label='Inserting as binary blob: add_result only')\n",
    "ax.legend()\n",
    "ax.set_xlabel('Array length')\n",
    "ax.set_ylabel('Time (s)')\n",
    "fig.tight_layout()"
   ]
  },
  {
   "cell_type": "markdown",
   "metadata": {},
   "source": [
    "As shown in the latter figure, the time to setup and and close the experiment is approximately 0.4 sec. In case of small array sizes, the difference between inserting values of data as arrays and inserting them row-by-row is relatively unimportant. At larger array sizes, i.e. above 10000 points, the cost of writing data as individual datapoints starts to become important.\n"
   ]
  },
  {
   "cell_type": "markdown",
   "metadata": {},
   "source": [
    "### Case2: Long experiment time "
   ]
  },
  {
   "cell_type": "code",
   "execution_count": 7,
   "metadata": {
    "execution": {
     "iopub.execute_input": "2020-10-27T11:23:44.910408Z",
     "iopub.status.busy": "2020-10-27T11:23:44.909795Z",
     "iopub.status.idle": "2020-10-27T11:24:46.309300Z",
     "shell.execute_reply": "2020-10-27T11:24:46.309754Z"
    }
   },
   "outputs": [
    {
     "name": "stdout",
     "output_type": "stream",
     "text": [
      "Starting experimental run with id: 15. \n",
      "Starting experimental run with id: 16. \n",
      "Starting experimental run with id: 17. \n"
     ]
    },
    {
     "name": "stdout",
     "output_type": "stream",
     "text": [
      "Starting experimental run with id: 18. \n",
      "Starting experimental run with id: 19. \n"
     ]
    },
    {
     "name": "stdout",
     "output_type": "stream",
     "text": [
      "Starting experimental run with id: 20. \n"
     ]
    },
    {
     "name": "stdout",
     "output_type": "stream",
     "text": [
      "Starting experimental run with id: 21. \n"
     ]
    },
    {
     "name": "stdout",
     "output_type": "stream",
     "text": [
      "Starting experimental run with id: 22. \n"
     ]
    },
    {
     "name": "stdout",
     "output_type": "stream",
     "text": [
      "Starting experimental run with id: 23. \n"
     ]
    },
    {
     "name": "stdout",
     "output_type": "stream",
     "text": [
      "Starting experimental run with id: 24. \n"
     ]
    },
    {
     "name": "stdout",
     "output_type": "stream",
     "text": [
      "Starting experimental run with id: 25. \n"
     ]
    },
    {
     "name": "stdout",
     "output_type": "stream",
     "text": [
      "Starting experimental run with id: 26. \n"
     ]
    },
    {
     "name": "stdout",
     "output_type": "stream",
     "text": [
      "Starting experimental run with id: 27. \n"
     ]
    },
    {
     "name": "stdout",
     "output_type": "stream",
     "text": [
      "Starting experimental run with id: 28. \n"
     ]
    }
   ],
   "source": [
    "sizes = [1,500,1000,2000,3000,4000,5000]\n",
    "nreps = 100\n",
    "t_numeric = []\n",
    "t_numeric_add = []\n",
    "t_numeric_run_ids = []\n",
    "t_array = []\n",
    "t_array_add = []\n",
    "t_array_run_ids = []\n",
    "for size in sizes:\n",
    "    tn, tna, run_id_n =  insert_data('numeric', size, nreps=nreps)\n",
    "    t_numeric.append(tn)\n",
    "    t_numeric_add.append(tna)\n",
    "    t_numeric_run_ids.append(run_id_n)\n",
    "\n",
    "    ta, taa, run_id_a =  insert_data('array', size, nreps=nreps)\n",
    "    t_array.append(ta)\n",
    "    t_array_add.append(taa)\n",
    "    t_array_run_ids.append(run_id_a)"
   ]
  },
  {
   "cell_type": "code",
   "execution_count": 8,
   "metadata": {
    "execution": {
     "iopub.execute_input": "2020-10-27T11:24:46.335013Z",
     "iopub.status.busy": "2020-10-27T11:24:46.330669Z",
     "iopub.status.idle": "2020-10-27T11:24:46.555348Z",
     "shell.execute_reply": "2020-10-27T11:24:46.554763Z"
    },
    "scrolled": true
   },
   "outputs": [
    {
     "data": {
      "image/png": "[encoded data removed]",
      "text/plain": [
       "<Figure size 432x288 with 1 Axes>"
      ]
     },
     "metadata": {
      "needs_background": "light"
     },
     "output_type": "display_data"
    }
   ],
   "source": [
    "fig, ax = plt.subplots(1,1)\n",
    "ax.plot(sizes, t_numeric, 'o-', label='Inserting row-by-row')\n",
    "ax.plot(sizes, t_numeric_add, 'o-', label='Inserting row-by-row: add_result only')\n",
    "ax.plot(sizes, t_array, 'd-', label='Inserting as binary blob')\n",
    "ax.plot(sizes, t_array_add, 'd-', label='Inserting as binary blob: add_result only')\n",
    "ax.legend()\n",
    "ax.set_xlabel('Array length')\n",
    "ax.set_ylabel('Time (s)')\n",
    "fig.tight_layout()"
   ]
  },
  {
   "cell_type": "markdown",
   "metadata": {},
   "source": [
    "However, as we increase the length of the experiment, as seen here by repeating the insertion 100 times, we see a big difference between inserting values of the data row-by-row and inserting it as a binary blob."
   ]
  },
  {
   "cell_type": "markdown",
   "metadata": {},
   "source": [
    "## Loading the data "
   ]
  },
  {
   "cell_type": "code",
   "execution_count": 9,
   "metadata": {
    "execution": {
     "iopub.execute_input": "2020-10-27T11:24:46.560116Z",
     "iopub.status.busy": "2020-10-27T11:24:46.559095Z",
     "iopub.status.idle": "2020-10-27T11:24:46.563651Z",
     "shell.execute_reply": "2020-10-27T11:24:46.563090Z"
    }
   },
   "outputs": [],
   "source": [
    "from qcodes.dataset.data_set import load_by_id\n",
    "from qcodes.dataset.data_export import get_data_by_id"
   ]
  },
  {
   "cell_type": "markdown",
   "metadata": {},
   "source": [
    "As usual you can load the data by using the ``load_by_id`` function but you will notice that the different storage methods\n",
    "are reflected in shape of the data as it is retrieved. "
   ]
  },
  {
   "cell_type": "code",
   "execution_count": 10,
   "metadata": {
    "execution": {
     "iopub.execute_input": "2020-10-27T11:24:46.569366Z",
     "iopub.status.busy": "2020-10-27T11:24:46.567762Z",
     "iopub.status.idle": "2020-10-27T11:24:46.570061Z",
     "shell.execute_reply": "2020-10-27T11:24:46.570583Z"
    }
   },
   "outputs": [],
   "source": [
    "run_id_n = t_numeric_run_ids[0]\n",
    "run_id_a = t_array_run_ids[0]"
   ]
  },
  {
   "cell_type": "code",
   "execution_count": 11,
   "metadata": {
    "execution": {
     "iopub.execute_input": "2020-10-27T11:24:46.574979Z",
     "iopub.status.busy": "2020-10-27T11:24:46.574331Z",
     "iopub.status.idle": "2020-10-27T11:24:46.584836Z",
     "shell.execute_reply": "2020-10-27T11:24:46.585453Z"
    },
    "scrolled": true
   },
   "outputs": [
    {
     "data": {
      "text/plain": [
       "{'x1': {'x1': array([0.5723479 , 0.5723479 , 0.36780964, 0.36780964, 0.62684941,\n",
       "         0.62684941, 0.86020538, 0.86020538, 0.95384454, 0.95384454,\n",
       "         0.27078798, 0.27078798, 0.97057698, 0.97057698, 0.78048555,\n",
       "         0.78048555, 0.40912109, 0.40912109, 0.26599938, 0.26599938,\n",
       "         0.39003348, 0.39003348, 0.77543009, 0.77543009, 0.75803448,\n",
       "         0.75803448, 0.44425028, 0.44425028, 0.4517649 , 0.4517649 ,\n",
       "         0.60135411, 0.60135411, 0.06610765, 0.06610765, 0.44897304,\n",
       "         0.44897304, 0.70268953, 0.70268953, 0.94881749, 0.94881749,\n",
       "         0.98765791, 0.98765791, 0.9301188 , 0.9301188 , 0.0099215 ,\n",
       "         0.0099215 , 0.66857154, 0.66857154, 0.53720805, 0.53720805,\n",
       "         0.5856913 , 0.5856913 , 0.36261414, 0.36261414, 0.81679799,\n",
       "         0.81679799, 0.76365039, 0.76365039, 0.18508992, 0.18508992,\n",
       "         0.1597525 , 0.1597525 , 0.73414842, 0.73414842, 0.21091937,\n",
       "         0.21091937, 0.89920956, 0.89920956, 0.27767529, 0.27767529,\n",
       "         0.57524019, 0.57524019, 0.62195492, 0.62195492, 0.46315948,\n",
       "         0.46315948, 0.54387997, 0.54387997, 0.88130553, 0.88130553,\n",
       "         0.74413631, 0.74413631, 0.35338448, 0.35338448, 0.05170944,\n",
       "         0.05170944, 0.15843014, 0.15843014, 0.1098403 , 0.1098403 ,\n",
       "         0.42894334, 0.42894334, 0.78380181, 0.78380181, 0.58478617,\n",
       "         0.58478617, 0.17350671, 0.17350671, 0.54552494, 0.54552494,\n",
       "         0.92398884, 0.92398884, 0.80172914, 0.80172914, 0.31671804,\n",
       "         0.31671804, 0.47078085, 0.47078085, 0.1366707 , 0.1366707 ,\n",
       "         0.51257147, 0.51257147, 0.65923503, 0.65923503, 0.18720941,\n",
       "         0.18720941, 0.4779365 , 0.4779365 , 0.67354517, 0.67354517,\n",
       "         0.03182715, 0.03182715, 0.01129506, 0.01129506, 0.24381506,\n",
       "         0.24381506, 0.93737034, 0.93737034, 0.7816809 , 0.7816809 ,\n",
       "         0.99691141, 0.99691141, 0.29700813, 0.29700813, 0.43296989,\n",
       "         0.43296989, 0.30972006, 0.30972006, 0.08434323, 0.08434323,\n",
       "         0.46587615, 0.46587615, 0.82740307, 0.82740307, 0.80606471,\n",
       "         0.80606471, 0.41693838, 0.41693838, 0.757673  , 0.757673  ,\n",
       "         0.22766059, 0.22766059, 0.37771513, 0.37771513, 0.27264097,\n",
       "         0.27264097, 0.43007288, 0.43007288, 0.85318048, 0.85318048,\n",
       "         0.7543123 , 0.7543123 , 0.83636477, 0.83636477, 0.06990924,\n",
       "         0.06990924, 0.7569804 , 0.7569804 , 0.61004192, 0.61004192,\n",
       "         0.56554841, 0.56554841, 0.80468662, 0.80468662, 0.43069876,\n",
       "         0.43069876, 0.6502366 , 0.6502366 , 0.16750966, 0.16750966,\n",
       "         0.05108779, 0.05108779, 0.09923734, 0.09923734, 0.94476068,\n",
       "         0.94476068, 0.48146461, 0.48146461, 0.7486053 , 0.7486053 ,\n",
       "         0.44649699, 0.44649699, 0.59461326, 0.59461326, 0.2680777 ,\n",
       "         0.2680777 , 0.29264989, 0.29264989, 0.43884093, 0.43884093])}}"
      ]
     },
     "execution_count": 1,
     "metadata": {},
     "output_type": "execute_result"
    }
   ],
   "source": [
    "ds = load_by_id(run_id_n)\n",
    "ds.get_parameter_data('x1')"
   ]
  },
  {
   "cell_type": "markdown",
   "metadata": {},
   "source": [
    "And a dataset stored as binary arrays"
   ]
  },
  {
   "cell_type": "code",
   "execution_count": 12,
   "metadata": {
    "execution": {
     "iopub.execute_input": "2020-10-27T11:24:46.589689Z",
     "iopub.status.busy": "2020-10-27T11:24:46.588910Z",
     "iopub.status.idle": "2020-10-27T11:24:46.654905Z",
     "shell.execute_reply": "2020-10-27T11:24:46.655489Z"
    },
    "scrolled": true
   },
   "outputs": [
    {
     "data": {
      "text/plain": [
       "{'x1': {'x1': array([[0.16671371],\n",
       "         [0.16671371],\n",
       "         [0.58715449],\n",
       "         [0.58715449],\n",
       "         [0.91745334],\n",
       "         [0.91745334],\n",
       "         [0.38928919],\n",
       "         [0.38928919],\n",
       "         [0.67672756],\n",
       "         [0.67672756],\n",
       "         [0.02218084],\n",
       "         [0.02218084],\n",
       "         [0.71663277],\n",
       "         [0.71663277],\n",
       "         [0.10784764],\n",
       "         [0.10784764],\n",
       "         [0.81341679],\n",
       "         [0.81341679],\n",
       "         [0.54120313],\n",
       "         [0.54120313],\n",
       "         [0.03770679],\n",
       "         [0.03770679],\n",
       "         [0.19335552],\n",
       "         [0.19335552],\n",
       "         [0.26989643],\n",
       "         [0.26989643],\n",
       "         [0.63733819],\n",
       "         [0.63733819],\n",
       "         [0.37917128],\n",
       "         [0.37917128],\n",
       "         [0.50864955],\n",
       "         [0.50864955],\n",
       "         [0.79677977],\n",
       "         [0.79677977],\n",
       "         [0.46967999],\n",
       "         [0.46967999],\n",
       "         [0.26708915],\n",
       "         [0.26708915],\n",
       "         [0.93678318],\n",
       "         [0.93678318],\n",
       "         [0.78469946],\n",
       "         [0.78469946],\n",
       "         [0.00567484],\n",
       "         [0.00567484],\n",
       "         [0.28840509],\n",
       "         [0.28840509],\n",
       "         [0.3062271 ],\n",
       "         [0.3062271 ],\n",
       "         [0.89764217],\n",
       "         [0.89764217],\n",
       "         [0.28136671],\n",
       "         [0.28136671],\n",
       "         [0.92807702],\n",
       "         [0.92807702],\n",
       "         [0.75893498],\n",
       "         [0.75893498],\n",
       "         [0.36649178],\n",
       "         [0.36649178],\n",
       "         [0.64005298],\n",
       "         [0.64005298],\n",
       "         [0.15710393],\n",
       "         [0.15710393],\n",
       "         [0.24643362],\n",
       "         [0.24643362],\n",
       "         [0.05856931],\n",
       "         [0.05856931],\n",
       "         [0.95085951],\n",
       "         [0.95085951],\n",
       "         [0.06180391],\n",
       "         [0.06180391],\n",
       "         [0.30803421],\n",
       "         [0.30803421],\n",
       "         [0.31848489],\n",
       "         [0.31848489],\n",
       "         [0.13863956],\n",
       "         [0.13863956],\n",
       "         [0.18179131],\n",
       "         [0.18179131],\n",
       "         [0.35986703],\n",
       "         [0.35986703],\n",
       "         [0.62802931],\n",
       "         [0.62802931],\n",
       "         [0.87068946],\n",
       "         [0.87068946],\n",
       "         [0.56490128],\n",
       "         [0.56490128],\n",
       "         [0.93321841],\n",
       "         [0.93321841],\n",
       "         [0.95297085],\n",
       "         [0.95297085],\n",
       "         [0.98752296],\n",
       "         [0.98752296],\n",
       "         [0.21143865],\n",
       "         [0.21143865],\n",
       "         [0.59890443],\n",
       "         [0.59890443],\n",
       "         [0.74670939],\n",
       "         [0.74670939],\n",
       "         [0.95543845],\n",
       "         [0.95543845],\n",
       "         [0.90771392],\n",
       "         [0.90771392],\n",
       "         [0.81177405],\n",
       "         [0.81177405],\n",
       "         [0.96932992],\n",
       "         [0.96932992],\n",
       "         [0.27714162],\n",
       "         [0.27714162],\n",
       "         [0.33396948],\n",
       "         [0.33396948],\n",
       "         [0.86075223],\n",
       "         [0.86075223],\n",
       "         [0.74269398],\n",
       "         [0.74269398],\n",
       "         [0.96877934],\n",
       "         [0.96877934],\n",
       "         [0.13288044],\n",
       "         [0.13288044],\n",
       "         [0.56308939],\n",
       "         [0.56308939],\n",
       "         [0.91401734],\n",
       "         [0.91401734],\n",
       "         [0.28165056],\n",
       "         [0.28165056],\n",
       "         [0.99006654],\n",
       "         [0.99006654],\n",
       "         [0.57651316],\n",
       "         [0.57651316],\n",
       "         [0.62240395],\n",
       "         [0.62240395],\n",
       "         [0.08627152],\n",
       "         [0.08627152],\n",
       "         [0.72410147],\n",
       "         [0.72410147],\n",
       "         [0.65876428],\n",
       "         [0.65876428],\n",
       "         [0.10282335],\n",
       "         [0.10282335],\n",
       "         [0.61341253],\n",
       "         [0.61341253],\n",
       "         [0.29605991],\n",
       "         [0.29605991],\n",
       "         [0.35740956],\n",
       "         [0.35740956],\n",
       "         [0.66058717],\n",
       "         [0.66058717],\n",
       "         [0.75549745],\n",
       "         [0.75549745],\n",
       "         [0.11458179],\n",
       "         [0.11458179],\n",
       "         [0.01823871],\n",
       "         [0.01823871],\n",
       "         [0.10227324],\n",
       "         [0.10227324],\n",
       "         [0.14136317],\n",
       "         [0.14136317],\n",
       "         [0.86550852],\n",
       "         [0.86550852],\n",
       "         [0.3439863 ],\n",
       "         [0.3439863 ],\n",
       "         [0.63245472],\n",
       "         [0.63245472],\n",
       "         [0.89505067],\n",
       "         [0.89505067],\n",
       "         [0.1552768 ],\n",
       "         [0.1552768 ],\n",
       "         [0.08036216],\n",
       "         [0.08036216],\n",
       "         [0.79006578],\n",
       "         [0.79006578],\n",
       "         [0.73604977],\n",
       "         [0.73604977],\n",
       "         [0.29263219],\n",
       "         [0.29263219],\n",
       "         [0.08588633],\n",
       "         [0.08588633],\n",
       "         [0.85267718],\n",
       "         [0.85267718],\n",
       "         [0.18260781],\n",
       "         [0.18260781],\n",
       "         [0.06535254],\n",
       "         [0.06535254],\n",
       "         [0.33165965],\n",
       "         [0.33165965],\n",
       "         [0.82392804],\n",
       "         [0.82392804],\n",
       "         [0.534063  ],\n",
       "         [0.534063  ],\n",
       "         [0.2639331 ],\n",
       "         [0.2639331 ],\n",
       "         [0.37596615],\n",
       "         [0.37596615],\n",
       "         [0.77240925],\n",
       "         [0.77240925],\n",
       "         [0.63427731],\n",
       "         [0.63427731],\n",
       "         [0.05550574],\n",
       "         [0.05550574],\n",
       "         [0.64842282],\n",
       "         [0.64842282]])}}"
      ]
     },
     "execution_count": 1,
     "metadata": {},
     "output_type": "execute_result"
    }
   ],
   "source": [
    "ds = load_by_id(run_id_a)\n",
    "ds.get_parameter_data('x1')"
   ]
  },
  {
   "cell_type": "code",
   "execution_count": null,
   "metadata": {},
   "outputs": [],
   "source": []
  }
 ],
 "metadata": {
  "kernelspec": {
   "display_name": "Python 3",
   "language": "python",
   "name": "python3"
  },
  "language_info": {
   "codemirror_mode": {
    "name": "ipython",
    "version": 3
   },
   "file_extension": ".py",
   "mimetype": "text/x-python",
   "name": "python",
   "nbconvert_exporter": "python",
   "pygments_lexer": "ipython3",
   "version": "3.7.7"
  },
  "nbsphinx": {
   "timeout": 600
  },
  "toc": {
   "base_numbering": 1,
   "nav_menu": {},
   "number_sections": true,
   "sideBar": true,
   "skip_h1_title": false,
   "title_cell": "Table of Contents",
   "title_sidebar": "Contents",
   "toc_cell": false,
   "toc_position": {},
   "toc_section_display": true,
   "toc_window_display": false
  },
  "varInspector": {
   "cols": {
    "lenName": 16,
    "lenType": 16,
    "lenVar": 40
   },
   "kernels_config": {
    "python": {
     "delete_cmd_postfix": "",
     "delete_cmd_prefix": "del ",
     "library": "var_list.py",
     "varRefreshCmd": "print(var_dic_list())"
    },
    "r": {
     "delete_cmd_postfix": ") ",
     "delete_cmd_prefix": "rm(",
     "library": "var_list.r",
     "varRefreshCmd": "cat(var_dic_list()) "
    }
   },
   "types_to_exclude": [
    "module",
    "function",
    "builtin_function_or_method",
    "instance",
    "_Feature"
   ],
   "window_display": false
  }
 },
 "nbformat": 4,
 "nbformat_minor": 2
}
