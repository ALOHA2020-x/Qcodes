{
 "cells": [
  {
   "cell_type": "markdown",
   "metadata": {},
   "source": [
    "# DataSet Performance\n",
    "\n",
    "This notebook shows the trade-off between inserting data into a database row-by-row and as binary blobs. Inserting the data row-by-row means that we have direct access to all the data and may perform queries directly on the values of the data. On the other hand, as we shall see, this is much slower than inserting the data directly as binary blobs."
   ]
  },
  {
   "cell_type": "markdown",
   "metadata": {},
   "source": [
    "First, we choose a new location for the database to ensure that we don't add a bunch of benchmarking data to the default one."
   ]
  },
  {
   "cell_type": "code",
   "execution_count": 1,
   "metadata": {
    "execution": {
     "iopub.execute_input": "2020-10-23T03:06:07.999111Z",
     "iopub.status.busy": "2020-10-23T03:06:07.998210Z",
     "iopub.status.idle": "2020-10-23T03:06:08.991507Z",
     "shell.execute_reply": "2020-10-23T03:06:08.990955Z"
    }
   },
   "outputs": [
    {
     "name": "stdout",
     "output_type": "stream",
     "text": [
      "Logging hadn't been started.\n",
      "Activating auto-logging. Current session state plus future input saved.\n",
      "Filename       : /home/vsts/.qcodes/logs/command_history.log\n",
      "Mode           : append\n",
      "Output logging : True\n",
      "Raw input log  : False\n",
      "Timestamping   : True\n",
      "State          : active\n"
     ]
    },
    {
     "name": "stdout",
     "output_type": "stream",
     "text": [
      "Qcodes Logfile : /home/vsts/.qcodes/logs/201023-14584-qcodes.log\n"
     ]
    }
   ],
   "source": [
    "import os\n",
    "cwd = os.getcwd()\n",
    "import qcodes as qc\n",
    "qc.config[\"core\"][\"db_location\"] = os.path.join(cwd, 'testing.db')\n"
   ]
  },
  {
   "cell_type": "code",
   "execution_count": 2,
   "metadata": {
    "execution": {
     "iopub.execute_input": "2020-10-23T03:06:08.997984Z",
     "iopub.status.busy": "2020-10-23T03:06:08.996980Z",
     "iopub.status.idle": "2020-10-23T03:06:09.174134Z",
     "shell.execute_reply": "2020-10-23T03:06:09.173202Z"
    }
   },
   "outputs": [],
   "source": [
    "%matplotlib inline\n",
    "import time\n",
    "import matplotlib.pyplot as plt\n",
    "import numpy as np\n",
    "\n",
    "import qcodes as qc\n",
    "from qcodes.instrument.parameter import ManualParameter\n",
    "from qcodes.dataset.experiment_container import (Experiment,\n",
    "                                                 load_last_experiment,\n",
    "                                                 new_experiment)\n",
    "from qcodes.dataset.sqlite.database import initialise_database\n",
    "from qcodes import load_or_create_experiment\n",
    "from qcodes.dataset.measurements import Measurement"
   ]
  },
  {
   "cell_type": "code",
   "execution_count": 3,
   "metadata": {
    "execution": {
     "iopub.execute_input": "2020-10-23T03:06:09.177723Z",
     "iopub.status.busy": "2020-10-23T03:06:09.176985Z",
     "iopub.status.idle": "2020-10-23T03:06:09.279001Z",
     "shell.execute_reply": "2020-10-23T03:06:09.278423Z"
    }
   },
   "outputs": [
    {
     "name": "stdout",
     "output_type": "stream",
     "text": [
      "\r",
      "0it [00:00, ?it/s]"
     ]
    },
    {
     "name": "stdout",
     "output_type": "stream",
     "text": [
      "\r",
      "Upgrading database; v0 -> v1: : 0it [00:00, ?it/s]"
     ]
    },
    {
     "name": "stdout",
     "output_type": "stream",
     "text": [
      "\r",
      "Upgrading database; v0 -> v1: : 0it [00:00, ?it/s]"
     ]
    },
    {
     "name": "stdout",
     "output_type": "stream",
     "text": [
      "\n",
      "\r",
      "  0%|          | 0/1 [00:00<?, ?it/s]"
     ]
    },
    {
     "name": "stdout",
     "output_type": "stream",
     "text": [
      "\r",
      "Upgrading database; v1 -> v2:   0%|          | 0/1 [00:00<?, ?it/s]"
     ]
    },
    {
     "name": "stdout",
     "output_type": "stream",
     "text": [
      "\r",
      "Upgrading database; v1 -> v2: 100%|██████████| 1/1 [00:00<00:00, 480.12it/s]"
     ]
    },
    {
     "name": "stdout",
     "output_type": "stream",
     "text": [
      "\n",
      "\r",
      "0it [00:00, ?it/s]"
     ]
    },
    {
     "name": "stdout",
     "output_type": "stream",
     "text": [
      "\r",
      "Upgrading database; v2 -> v3: : 0it [00:00, ?it/s]"
     ]
    },
    {
     "name": "stdout",
     "output_type": "stream",
     "text": [
      "\r",
      "Upgrading database; v2 -> v3: : 0it [00:00, ?it/s]"
     ]
    },
    {
     "name": "stdout",
     "output_type": "stream",
     "text": [
      "\n",
      "\r",
      "0it [00:00, ?it/s]"
     ]
    },
    {
     "name": "stdout",
     "output_type": "stream",
     "text": [
      "\r",
      "Upgrading database; v3 -> v4: : 0it [00:00, ?it/s]"
     ]
    },
    {
     "name": "stdout",
     "output_type": "stream",
     "text": [
      "\r",
      "Upgrading database; v3 -> v4: : 0it [00:00, ?it/s]"
     ]
    },
    {
     "name": "stdout",
     "output_type": "stream",
     "text": [
      "\n",
      "\r",
      "  0%|          | 0/1 [00:00<?, ?it/s]"
     ]
    },
    {
     "name": "stdout",
     "output_type": "stream",
     "text": [
      "\r",
      "Upgrading database; v4 -> v5:   0%|          | 0/1 [00:00<?, ?it/s]"
     ]
    },
    {
     "name": "stdout",
     "output_type": "stream",
     "text": [
      "\r",
      "Upgrading database; v4 -> v5: 100%|██████████| 1/1 [00:00<00:00, 695.00it/s]"
     ]
    },
    {
     "name": "stdout",
     "output_type": "stream",
     "text": [
      "\n",
      "\r",
      "0it [00:00, ?it/s]"
     ]
    },
    {
     "name": "stdout",
     "output_type": "stream",
     "text": [
      "\r",
      "Upgrading database; v5 -> v6: : 0it [00:00, ?it/s]"
     ]
    },
    {
     "name": "stdout",
     "output_type": "stream",
     "text": [
      "\r",
      "Upgrading database; v5 -> v6: : 0it [00:00, ?it/s]"
     ]
    },
    {
     "name": "stdout",
     "output_type": "stream",
     "text": [
      "\n",
      "\r",
      "  0%|          | 0/1 [00:00<?, ?it/s]"
     ]
    },
    {
     "name": "stdout",
     "output_type": "stream",
     "text": [
      "\r",
      "Upgrading database; v6 -> v7:   0%|          | 0/1 [00:00<?, ?it/s]"
     ]
    },
    {
     "name": "stdout",
     "output_type": "stream",
     "text": [
      "\r",
      "Upgrading database; v6 -> v7: 100%|██████████| 1/1 [00:00<00:00, 343.09it/s]"
     ]
    },
    {
     "name": "stdout",
     "output_type": "stream",
     "text": [
      "\n",
      "\r",
      "  0%|          | 0/1 [00:00<?, ?it/s]"
     ]
    },
    {
     "name": "stdout",
     "output_type": "stream",
     "text": [
      "\r",
      "Upgrading database; v7 -> v8:   0%|          | 0/1 [00:00<?, ?it/s]"
     ]
    },
    {
     "name": "stdout",
     "output_type": "stream",
     "text": [
      "\r",
      "Upgrading database; v7 -> v8: 100%|██████████| 1/1 [00:00<00:00, 930.21it/s]"
     ]
    },
    {
     "name": "stdout",
     "output_type": "stream",
     "text": [
      "\n",
      "\r",
      "  0%|          | 0/1 [00:00<?, ?it/s]"
     ]
    },
    {
     "name": "stdout",
     "output_type": "stream",
     "text": [
      "\r",
      "Upgrading database; v8 -> v9:   0%|          | 0/1 [00:00<?, ?it/s]"
     ]
    },
    {
     "name": "stdout",
     "output_type": "stream",
     "text": [
      "\r",
      "Upgrading database; v8 -> v9: 100%|██████████| 1/1 [00:00<00:00, 592.75it/s]"
     ]
    },
    {
     "name": "stdout",
     "output_type": "stream",
     "text": [
      "\n"
     ]
    }
   ],
   "source": [
    "initialise_database()\n",
    "exp = load_or_create_experiment(experiment_name='tutorial_exp', sample_name=\"no sample\")"
   ]
  },
  {
   "cell_type": "markdown",
   "metadata": {},
   "source": [
    "Here, we define a simple function to benchmark the time it takes to insert n points with either numeric or array data type.\n",
    "We will compare both the time used to call ``add_result`` and the time used for the full measurement."
   ]
  },
  {
   "cell_type": "code",
   "execution_count": 4,
   "metadata": {
    "execution": {
     "iopub.execute_input": "2020-10-23T03:06:09.285944Z",
     "iopub.status.busy": "2020-10-23T03:06:09.285380Z",
     "iopub.status.idle": "2020-10-23T03:06:09.288928Z",
     "shell.execute_reply": "2020-10-23T03:06:09.288409Z"
    }
   },
   "outputs": [],
   "source": [
    "def insert_data(paramtype, npoints, nreps=1):\n",
    "\n",
    "    meas = Measurement(exp=exp)\n",
    "\n",
    "    x1 = ManualParameter('x1')\n",
    "    x2 = ManualParameter('x2')\n",
    "    x3 = ManualParameter('x3')\n",
    "    y1 = ManualParameter('y1')\n",
    "    y2 = ManualParameter('y2')\n",
    "\n",
    "    meas.register_parameter(x1, paramtype=paramtype)\n",
    "    meas.register_parameter(x2, paramtype=paramtype)\n",
    "    meas.register_parameter(x3, paramtype=paramtype)\n",
    "    meas.register_parameter(y1, setpoints=[x1, x2, x3],\n",
    "                            paramtype=paramtype)\n",
    "    meas.register_parameter(y2, setpoints=[x1, x2, x3],\n",
    "                            paramtype=paramtype)\n",
    "    start = time.perf_counter()\n",
    "    with meas.run() as datasaver:\n",
    "        start_adding = time.perf_counter()\n",
    "        for i in range(nreps):\n",
    "            datasaver.add_result((x1, np.random.rand(npoints)),\n",
    "                                 (x2, np.random.rand(npoints)),\n",
    "                                 (x3, np.random.rand(npoints)),\n",
    "                                 (y1, np.random.rand(npoints)),\n",
    "                                 (y2, np.random.rand(npoints)))\n",
    "        stop_adding = time.perf_counter()\n",
    "        run_id = datasaver.run_id\n",
    "    stop = time.perf_counter()\n",
    "    tot_time = stop - start\n",
    "    add_time = stop_adding - start_adding\n",
    "    return tot_time, add_time, run_id"
   ]
  },
  {
   "cell_type": "markdown",
   "metadata": {},
   "source": [
    "## Comparison between numeric/array data and binary blob"
   ]
  },
  {
   "cell_type": "markdown",
   "metadata": {},
   "source": [
    "### Case1: Short experiment time"
   ]
  },
  {
   "cell_type": "code",
   "execution_count": 5,
   "metadata": {
    "execution": {
     "iopub.execute_input": "2020-10-23T03:06:09.295157Z",
     "iopub.status.busy": "2020-10-23T03:06:09.294158Z",
     "iopub.status.idle": "2020-10-23T03:06:10.105558Z",
     "shell.execute_reply": "2020-10-23T03:06:10.105066Z"
    }
   },
   "outputs": [
    {
     "name": "stdout",
     "output_type": "stream",
     "text": [
      "Starting experimental run with id: 1. \n",
      "Starting experimental run with id: 2. \n",
      "Starting experimental run with id: 3. \n",
      "Starting experimental run with id: 4. \n",
      "Starting experimental run with id: 5. \n"
     ]
    },
    {
     "name": "stdout",
     "output_type": "stream",
     "text": [
      "Starting experimental run with id: 6. \n"
     ]
    },
    {
     "name": "stdout",
     "output_type": "stream",
     "text": [
      "Starting experimental run with id: 7. \n"
     ]
    },
    {
     "name": "stdout",
     "output_type": "stream",
     "text": [
      "Starting experimental run with id: 8. \n",
      "Starting experimental run with id: 9. \n"
     ]
    },
    {
     "name": "stdout",
     "output_type": "stream",
     "text": [
      "Starting experimental run with id: 10. \n",
      "Starting experimental run with id: 11. \n"
     ]
    },
    {
     "name": "stdout",
     "output_type": "stream",
     "text": [
      "Starting experimental run with id: 12. \n",
      "Starting experimental run with id: 13. \n"
     ]
    },
    {
     "name": "stdout",
     "output_type": "stream",
     "text": [
      "Starting experimental run with id: 14. \n"
     ]
    }
   ],
   "source": [
    "sizes = [1,500,1000,2000,3000,4000,5000]\n",
    "t_numeric = []\n",
    "t_numeric_add = []\n",
    "t_array = []\n",
    "t_array_add = []\n",
    "for size in sizes:\n",
    "    tn, tna, run_id_n =  insert_data('numeric', size)\n",
    "    t_numeric.append(tn)\n",
    "    t_numeric_add.append(tna)\n",
    "\n",
    "    ta, taa, run_id_a =  insert_data('array', size)\n",
    "    t_array.append(ta)\n",
    "    t_array_add.append(taa)"
   ]
  },
  {
   "cell_type": "code",
   "execution_count": 6,
   "metadata": {
    "execution": {
     "iopub.execute_input": "2020-10-23T03:06:10.124375Z",
     "iopub.status.busy": "2020-10-23T03:06:10.123793Z",
     "iopub.status.idle": "2020-10-23T03:06:10.328493Z",
     "shell.execute_reply": "2020-10-23T03:06:10.328905Z"
    }
   },
   "outputs": [
    {
     "data": {
      "image/png": "[encoded data removed]",
      "text/plain": [
       "<Figure size 432x288 with 1 Axes>"
      ]
     },
     "metadata": {
      "needs_background": "light"
     },
     "output_type": "display_data"
    }
   ],
   "source": [
    "fig, ax = plt.subplots(1,1)\n",
    "ax.plot(sizes, t_numeric, 'o-', label='Inserting row-by-row')\n",
    "ax.plot(sizes, t_numeric_add, 'o-', label='Inserting row-by-row: add_result only')\n",
    "ax.plot(sizes, t_array, 'd-', label='Inserting as binary blob')\n",
    "ax.plot(sizes, t_array_add, 'd-', label='Inserting as binary blob: add_result only')\n",
    "ax.legend()\n",
    "ax.set_xlabel('Array length')\n",
    "ax.set_ylabel('Time (s)')\n",
    "fig.tight_layout()"
   ]
  },
  {
   "cell_type": "markdown",
   "metadata": {},
   "source": [
    "As shown in the latter figure, the time to setup and and close the experiment is approximately 0.4 sec. In case of small array sizes, the difference between inserting values of data as arrays and inserting them row-by-row is relatively unimportant. At larger array sizes, i.e. above 10000 points, the cost of writing data as individual datapoints starts to become important.\n"
   ]
  },
  {
   "cell_type": "markdown",
   "metadata": {},
   "source": [
    "### Case2: Long experiment time "
   ]
  },
  {
   "cell_type": "code",
   "execution_count": 7,
   "metadata": {
    "execution": {
     "iopub.execute_input": "2020-10-23T03:06:10.335339Z",
     "iopub.status.busy": "2020-10-23T03:06:10.334191Z",
     "iopub.status.idle": "2020-10-23T03:07:06.687949Z",
     "shell.execute_reply": "2020-10-23T03:07:06.687458Z"
    }
   },
   "outputs": [
    {
     "name": "stdout",
     "output_type": "stream",
     "text": [
      "Starting experimental run with id: 15. \n",
      "Starting experimental run with id: 16. \n",
      "Starting experimental run with id: 17. \n"
     ]
    },
    {
     "name": "stdout",
     "output_type": "stream",
     "text": [
      "Starting experimental run with id: 18. \n",
      "Starting experimental run with id: 19. \n"
     ]
    },
    {
     "name": "stdout",
     "output_type": "stream",
     "text": [
      "Starting experimental run with id: 20. \n"
     ]
    },
    {
     "name": "stdout",
     "output_type": "stream",
     "text": [
      "Starting experimental run with id: 21. \n"
     ]
    },
    {
     "name": "stdout",
     "output_type": "stream",
     "text": [
      "Starting experimental run with id: 22. \n"
     ]
    },
    {
     "name": "stdout",
     "output_type": "stream",
     "text": [
      "Starting experimental run with id: 23. \n"
     ]
    },
    {
     "name": "stdout",
     "output_type": "stream",
     "text": [
      "Starting experimental run with id: 24. \n"
     ]
    },
    {
     "name": "stdout",
     "output_type": "stream",
     "text": [
      "Starting experimental run with id: 25. \n"
     ]
    },
    {
     "name": "stdout",
     "output_type": "stream",
     "text": [
      "Starting experimental run with id: 26. \n"
     ]
    },
    {
     "name": "stdout",
     "output_type": "stream",
     "text": [
      "Starting experimental run with id: 27. \n"
     ]
    },
    {
     "name": "stdout",
     "output_type": "stream",
     "text": [
      "Starting experimental run with id: 28. \n"
     ]
    }
   ],
   "source": [
    "sizes = [1,500,1000,2000,3000,4000,5000]\n",
    "nreps = 100\n",
    "t_numeric = []\n",
    "t_numeric_add = []\n",
    "t_numeric_run_ids = []\n",
    "t_array = []\n",
    "t_array_add = []\n",
    "t_array_run_ids = []\n",
    "for size in sizes:\n",
    "    tn, tna, run_id_n =  insert_data('numeric', size, nreps=nreps)\n",
    "    t_numeric.append(tn)\n",
    "    t_numeric_add.append(tna)\n",
    "    t_numeric_run_ids.append(run_id_n)\n",
    "\n",
    "    ta, taa, run_id_a =  insert_data('array', size, nreps=nreps)\n",
    "    t_array.append(ta)\n",
    "    t_array_add.append(taa)\n",
    "    t_array_run_ids.append(run_id_a)"
   ]
  },
  {
   "cell_type": "code",
   "execution_count": 8,
   "metadata": {
    "execution": {
     "iopub.execute_input": "2020-10-23T03:07:06.730863Z",
     "iopub.status.busy": "2020-10-23T03:07:06.713561Z",
     "iopub.status.idle": "2020-10-23T03:07:06.911461Z",
     "shell.execute_reply": "2020-10-23T03:07:06.910972Z"
    },
    "scrolled": true
   },
   "outputs": [
    {
     "data": {
      "image/png": "[encoded data removed]",
      "text/plain": [
       "<Figure size 432x288 with 1 Axes>"
      ]
     },
     "metadata": {
      "needs_background": "light"
     },
     "output_type": "display_data"
    }
   ],
   "source": [
    "fig, ax = plt.subplots(1,1)\n",
    "ax.plot(sizes, t_numeric, 'o-', label='Inserting row-by-row')\n",
    "ax.plot(sizes, t_numeric_add, 'o-', label='Inserting row-by-row: add_result only')\n",
    "ax.plot(sizes, t_array, 'd-', label='Inserting as binary blob')\n",
    "ax.plot(sizes, t_array_add, 'd-', label='Inserting as binary blob: add_result only')\n",
    "ax.legend()\n",
    "ax.set_xlabel('Array length')\n",
    "ax.set_ylabel('Time (s)')\n",
    "fig.tight_layout()"
   ]
  },
  {
   "cell_type": "markdown",
   "metadata": {},
   "source": [
    "However, as we increase the length of the experiment, as seen here by repeating the insertion 100 times, we see a big difference between inserting values of the data row-by-row and inserting it as a binary blob."
   ]
  },
  {
   "cell_type": "markdown",
   "metadata": {},
   "source": [
    "## Loading the data "
   ]
  },
  {
   "cell_type": "code",
   "execution_count": 9,
   "metadata": {
    "execution": {
     "iopub.execute_input": "2020-10-23T03:07:06.915690Z",
     "iopub.status.busy": "2020-10-23T03:07:06.914844Z",
     "iopub.status.idle": "2020-10-23T03:07:06.918929Z",
     "shell.execute_reply": "2020-10-23T03:07:06.918457Z"
    }
   },
   "outputs": [],
   "source": [
    "from qcodes.dataset.data_set import load_by_id\n",
    "from qcodes.dataset.data_export import get_data_by_id"
   ]
  },
  {
   "cell_type": "markdown",
   "metadata": {},
   "source": [
    "As usual you can load the data by using the ``load_by_id`` function but you will notice that the different storage methods\n",
    "are reflected in shape of the data as it is retrieved. "
   ]
  },
  {
   "cell_type": "code",
   "execution_count": 10,
   "metadata": {
    "execution": {
     "iopub.execute_input": "2020-10-23T03:07:06.923417Z",
     "iopub.status.busy": "2020-10-23T03:07:06.922182Z",
     "iopub.status.idle": "2020-10-23T03:07:06.923958Z",
     "shell.execute_reply": "2020-10-23T03:07:06.924548Z"
    }
   },
   "outputs": [],
   "source": [
    "run_id_n = t_numeric_run_ids[0]\n",
    "run_id_a = t_array_run_ids[0]"
   ]
  },
  {
   "cell_type": "code",
   "execution_count": 11,
   "metadata": {
    "execution": {
     "iopub.execute_input": "2020-10-23T03:07:06.927631Z",
     "iopub.status.busy": "2020-10-23T03:07:06.927089Z",
     "iopub.status.idle": "2020-10-23T03:07:06.936721Z",
     "shell.execute_reply": "2020-10-23T03:07:06.936227Z"
    },
    "scrolled": true
   },
   "outputs": [
    {
     "data": {
      "text/plain": [
       "{'x1': {'x1': array([0.0392032 , 0.0392032 , 0.42123949, 0.42123949, 0.57568473,\n",
       "         0.57568473, 0.78471431, 0.78471431, 0.47118127, 0.47118127,\n",
       "         0.28814438, 0.28814438, 0.4981364 , 0.4981364 , 0.01303578,\n",
       "         0.01303578, 0.06311872, 0.06311872, 0.18057014, 0.18057014,\n",
       "         0.57098692, 0.57098692, 0.98105717, 0.98105717, 0.24603742,\n",
       "         0.24603742, 0.57870813, 0.57870813, 0.83507038, 0.83507038,\n",
       "         0.52937287, 0.52937287, 0.48151298, 0.48151298, 0.15476904,\n",
       "         0.15476904, 0.43609696, 0.43609696, 0.54427134, 0.54427134,\n",
       "         0.83989332, 0.83989332, 0.29279837, 0.29279837, 0.43481196,\n",
       "         0.43481196, 0.06747835, 0.06747835, 0.8339591 , 0.8339591 ,\n",
       "         0.03392518, 0.03392518, 0.67075928, 0.67075928, 0.51108134,\n",
       "         0.51108134, 0.62899861, 0.62899861, 0.62454776, 0.62454776,\n",
       "         0.74108998, 0.74108998, 0.9356476 , 0.9356476 , 0.27296097,\n",
       "         0.27296097, 0.42094207, 0.42094207, 0.31173628, 0.31173628,\n",
       "         0.62773592, 0.62773592, 0.78999033, 0.78999033, 0.71253   ,\n",
       "         0.71253   , 0.50400957, 0.50400957, 0.33348469, 0.33348469,\n",
       "         0.44250378, 0.44250378, 0.36119376, 0.36119376, 0.56895659,\n",
       "         0.56895659, 0.9811798 , 0.9811798 , 0.81241487, 0.81241487,\n",
       "         0.80670139, 0.80670139, 0.92841849, 0.92841849, 0.82673634,\n",
       "         0.82673634, 0.53222233, 0.53222233, 0.07601294, 0.07601294,\n",
       "         0.93028353, 0.93028353, 0.77028698, 0.77028698, 0.39874536,\n",
       "         0.39874536, 0.81116697, 0.81116697, 0.02685251, 0.02685251,\n",
       "         0.40391557, 0.40391557, 0.46958921, 0.46958921, 0.83750726,\n",
       "         0.83750726, 0.55932248, 0.55932248, 0.34887496, 0.34887496,\n",
       "         0.87412521, 0.87412521, 0.09572933, 0.09572933, 0.9396884 ,\n",
       "         0.9396884 , 0.24383514, 0.24383514, 0.82352914, 0.82352914,\n",
       "         0.76514897, 0.76514897, 0.60808864, 0.60808864, 0.54972786,\n",
       "         0.54972786, 0.90652152, 0.90652152, 0.00239195, 0.00239195,\n",
       "         0.82305118, 0.82305118, 0.95302233, 0.95302233, 0.52753568,\n",
       "         0.52753568, 0.24930721, 0.24930721, 0.15308039, 0.15308039,\n",
       "         0.52247694, 0.52247694, 0.47244663, 0.47244663, 0.68980309,\n",
       "         0.68980309, 0.9735747 , 0.9735747 , 0.73994588, 0.73994588,\n",
       "         0.38237088, 0.38237088, 0.43803613, 0.43803613, 0.35412271,\n",
       "         0.35412271, 0.60534142, 0.60534142, 0.63080901, 0.63080901,\n",
       "         0.18712956, 0.18712956, 0.0322138 , 0.0322138 , 0.43988307,\n",
       "         0.43988307, 0.60143459, 0.60143459, 0.99276212, 0.99276212,\n",
       "         0.45836432, 0.45836432, 0.30430184, 0.30430184, 0.93952729,\n",
       "         0.93952729, 0.49103146, 0.49103146, 0.03378728, 0.03378728,\n",
       "         0.19897942, 0.19897942, 0.2172857 , 0.2172857 , 0.91311501,\n",
       "         0.91311501, 0.5195212 , 0.5195212 , 0.79844105, 0.79844105])}}"
      ]
     },
     "execution_count": 1,
     "metadata": {},
     "output_type": "execute_result"
    }
   ],
   "source": [
    "ds = load_by_id(run_id_n)\n",
    "ds.get_parameter_data('x1')"
   ]
  },
  {
   "cell_type": "markdown",
   "metadata": {},
   "source": [
    "And a dataset stored as binary arrays"
   ]
  },
  {
   "cell_type": "code",
   "execution_count": 12,
   "metadata": {
    "execution": {
     "iopub.execute_input": "2020-10-23T03:07:06.939820Z",
     "iopub.status.busy": "2020-10-23T03:07:06.939271Z",
     "iopub.status.idle": "2020-10-23T03:07:06.996130Z",
     "shell.execute_reply": "2020-10-23T03:07:06.996676Z"
    },
    "scrolled": true
   },
   "outputs": [
    {
     "data": {
      "text/plain": [
       "{'x1': {'x1': array([[0.97506016],\n",
       "         [0.97506016],\n",
       "         [0.48532978],\n",
       "         [0.48532978],\n",
       "         [0.85915841],\n",
       "         [0.85915841],\n",
       "         [0.2864831 ],\n",
       "         [0.2864831 ],\n",
       "         [0.12107203],\n",
       "         [0.12107203],\n",
       "         [0.74992882],\n",
       "         [0.74992882],\n",
       "         [0.41859521],\n",
       "         [0.41859521],\n",
       "         [0.61950826],\n",
       "         [0.61950826],\n",
       "         [0.6434984 ],\n",
       "         [0.6434984 ],\n",
       "         [0.99021571],\n",
       "         [0.99021571],\n",
       "         [0.05382994],\n",
       "         [0.05382994],\n",
       "         [0.86775719],\n",
       "         [0.86775719],\n",
       "         [0.75100035],\n",
       "         [0.75100035],\n",
       "         [0.24102704],\n",
       "         [0.24102704],\n",
       "         [0.8384304 ],\n",
       "         [0.8384304 ],\n",
       "         [0.50349066],\n",
       "         [0.50349066],\n",
       "         [0.81500759],\n",
       "         [0.81500759],\n",
       "         [0.01990722],\n",
       "         [0.01990722],\n",
       "         [0.30422667],\n",
       "         [0.30422667],\n",
       "         [0.35987837],\n",
       "         [0.35987837],\n",
       "         [0.55033612],\n",
       "         [0.55033612],\n",
       "         [0.15588232],\n",
       "         [0.15588232],\n",
       "         [0.83152138],\n",
       "         [0.83152138],\n",
       "         [0.07659582],\n",
       "         [0.07659582],\n",
       "         [0.9374209 ],\n",
       "         [0.9374209 ],\n",
       "         [0.63929241],\n",
       "         [0.63929241],\n",
       "         [0.88717335],\n",
       "         [0.88717335],\n",
       "         [0.00254901],\n",
       "         [0.00254901],\n",
       "         [0.79570337],\n",
       "         [0.79570337],\n",
       "         [0.78779176],\n",
       "         [0.78779176],\n",
       "         [0.93495337],\n",
       "         [0.93495337],\n",
       "         [0.44378159],\n",
       "         [0.44378159],\n",
       "         [0.95300743],\n",
       "         [0.95300743],\n",
       "         [0.8641194 ],\n",
       "         [0.8641194 ],\n",
       "         [0.66235646],\n",
       "         [0.66235646],\n",
       "         [0.00876889],\n",
       "         [0.00876889],\n",
       "         [0.00616279],\n",
       "         [0.00616279],\n",
       "         [0.51224112],\n",
       "         [0.51224112],\n",
       "         [0.41054165],\n",
       "         [0.41054165],\n",
       "         [0.74716178],\n",
       "         [0.74716178],\n",
       "         [0.29453356],\n",
       "         [0.29453356],\n",
       "         [0.39952292],\n",
       "         [0.39952292],\n",
       "         [0.45739329],\n",
       "         [0.45739329],\n",
       "         [0.76626331],\n",
       "         [0.76626331],\n",
       "         [0.29906164],\n",
       "         [0.29906164],\n",
       "         [0.33752721],\n",
       "         [0.33752721],\n",
       "         [0.55946294],\n",
       "         [0.55946294],\n",
       "         [0.15708602],\n",
       "         [0.15708602],\n",
       "         [0.95304677],\n",
       "         [0.95304677],\n",
       "         [0.13723412],\n",
       "         [0.13723412],\n",
       "         [0.71863303],\n",
       "         [0.71863303],\n",
       "         [0.0534382 ],\n",
       "         [0.0534382 ],\n",
       "         [0.86717977],\n",
       "         [0.86717977],\n",
       "         [0.60193752],\n",
       "         [0.60193752],\n",
       "         [0.66087837],\n",
       "         [0.66087837],\n",
       "         [0.43624153],\n",
       "         [0.43624153],\n",
       "         [0.66581989],\n",
       "         [0.66581989],\n",
       "         [0.41395589],\n",
       "         [0.41395589],\n",
       "         [0.78219942],\n",
       "         [0.78219942],\n",
       "         [0.15353243],\n",
       "         [0.15353243],\n",
       "         [0.09805232],\n",
       "         [0.09805232],\n",
       "         [0.14596707],\n",
       "         [0.14596707],\n",
       "         [0.55487745],\n",
       "         [0.55487745],\n",
       "         [0.61162852],\n",
       "         [0.61162852],\n",
       "         [0.68181373],\n",
       "         [0.68181373],\n",
       "         [0.73320115],\n",
       "         [0.73320115],\n",
       "         [0.15059427],\n",
       "         [0.15059427],\n",
       "         [0.25453165],\n",
       "         [0.25453165],\n",
       "         [0.12714432],\n",
       "         [0.12714432],\n",
       "         [0.41950541],\n",
       "         [0.41950541],\n",
       "         [0.99646421],\n",
       "         [0.99646421],\n",
       "         [0.86509442],\n",
       "         [0.86509442],\n",
       "         [0.86499672],\n",
       "         [0.86499672],\n",
       "         [0.367115  ],\n",
       "         [0.367115  ],\n",
       "         [0.02471342],\n",
       "         [0.02471342],\n",
       "         [0.16495273],\n",
       "         [0.16495273],\n",
       "         [0.99061506],\n",
       "         [0.99061506],\n",
       "         [0.60192634],\n",
       "         [0.60192634],\n",
       "         [0.99604956],\n",
       "         [0.99604956],\n",
       "         [0.47176242],\n",
       "         [0.47176242],\n",
       "         [0.75332262],\n",
       "         [0.75332262],\n",
       "         [0.34512037],\n",
       "         [0.34512037],\n",
       "         [0.11846228],\n",
       "         [0.11846228],\n",
       "         [0.29858518],\n",
       "         [0.29858518],\n",
       "         [0.76635336],\n",
       "         [0.76635336],\n",
       "         [0.49023053],\n",
       "         [0.49023053],\n",
       "         [0.127412  ],\n",
       "         [0.127412  ],\n",
       "         [0.9206135 ],\n",
       "         [0.9206135 ],\n",
       "         [0.15481734],\n",
       "         [0.15481734],\n",
       "         [0.38589674],\n",
       "         [0.38589674],\n",
       "         [0.07896973],\n",
       "         [0.07896973],\n",
       "         [0.1427036 ],\n",
       "         [0.1427036 ],\n",
       "         [0.19293554],\n",
       "         [0.19293554],\n",
       "         [0.70956862],\n",
       "         [0.70956862],\n",
       "         [0.98151362],\n",
       "         [0.98151362],\n",
       "         [0.69347421],\n",
       "         [0.69347421],\n",
       "         [0.89705302],\n",
       "         [0.89705302],\n",
       "         [0.19524688],\n",
       "         [0.19524688],\n",
       "         [0.30744472],\n",
       "         [0.30744472],\n",
       "         [0.1571146 ],\n",
       "         [0.1571146 ]])}}"
      ]
     },
     "execution_count": 1,
     "metadata": {},
     "output_type": "execute_result"
    }
   ],
   "source": [
    "ds = load_by_id(run_id_a)\n",
    "ds.get_parameter_data('x1')"
   ]
  },
  {
   "cell_type": "code",
   "execution_count": null,
   "metadata": {},
   "outputs": [],
   "source": []
  }
 ],
 "metadata": {
  "kernelspec": {
   "display_name": "Python 3",
   "language": "python",
   "name": "python3"
  },
  "language_info": {
   "codemirror_mode": {
    "name": "ipython",
    "version": 3
   },
   "file_extension": ".py",
   "mimetype": "text/x-python",
   "name": "python",
   "nbconvert_exporter": "python",
   "pygments_lexer": "ipython3",
   "version": "3.7.7"
  },
  "nbsphinx": {
   "timeout": 600
  },
  "toc": {
   "base_numbering": 1,
   "nav_menu": {},
   "number_sections": true,
   "sideBar": true,
   "skip_h1_title": false,
   "title_cell": "Table of Contents",
   "title_sidebar": "Contents",
   "toc_cell": false,
   "toc_position": {},
   "toc_section_display": true,
   "toc_window_display": false
  },
  "varInspector": {
   "cols": {
    "lenName": 16,
    "lenType": 16,
    "lenVar": 40
   },
   "kernels_config": {
    "python": {
     "delete_cmd_postfix": "",
     "delete_cmd_prefix": "del ",
     "library": "var_list.py",
     "varRefreshCmd": "print(var_dic_list())"
    },
    "r": {
     "delete_cmd_postfix": ") ",
     "delete_cmd_prefix": "rm(",
     "library": "var_list.r",
     "varRefreshCmd": "cat(var_dic_list()) "
    }
   },
   "types_to_exclude": [
    "module",
    "function",
    "builtin_function_or_method",
    "instance",
    "_Feature"
   ],
   "window_display": false
  }
 },
 "nbformat": 4,
 "nbformat_minor": 2
}
